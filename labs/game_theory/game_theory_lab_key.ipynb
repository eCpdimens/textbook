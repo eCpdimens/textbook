{
 "cells": [
  {
   "cell_type": "markdown",
   "metadata": {},
   "source": [
    "<div>\n",
    "  <h1>Game Theory</h1>\n",
    "\n",
    "  <p>Sander Aarts, 2020 (Based on <i>Lab 11: Matrix Games</i> by David Williamson, 2013)</p>\n",
    "</div>  "
   ]
  },
  {
   "cell_type": "markdown",
   "metadata": {},
   "source": [
    "<div>\n",
    "  <p><b>Objectives:</b></p>\n",
    "\n",
    "  <ul>\n",
    "    <li>Introduce students to basic concepts in $0$-sum $2$-person games</li>\n",
    "    <li>Give students experience at playing games and computing optimal mixed minmax strategies</li>\n",
    "    <li>Help students understand the weaknesses of certain types of strategies</li>\n",
    "  </ul>\n",
    "\n",
    "  <p><b>Reading:</b> The data in this lab was found from the following Stats Zone articles: <a href=\"https://www.thestatszone.com/archive/statistical-insight-into-penalty-shootouts-where-to-place-your-penalty-13886\">Article 1</a> and <a href=\"https://www.thestatszone.com/archive/an-analyses-of-penalty-taking-trends-in-the-champions-league-13654\">Article 2</a></p>\n",
    "\n",
    "  <p><b>Brief description:</b> In this lab, you will consider soccer penalty kicks as simple games. Following an introduction to the game's rules and setting, you will play several rounds against the computer. \n",
    "You will then formally solve the game by describing the player's strategies, and characterizing the game's equilibrium strategies and payoffs. Finally, you will explore the effects that different strategies used by the computer have on the viability of your determined mixed strategy.</p>\n",
    "\n",
    "  <font color='blue'><p><b>Solutions are shown blue.</b></p></font>\n",
    "  <font color='red'><p><b>Instuctor comments are shown in red.</b></p></font>\n",
    "\n",
    "  <font color='red'><p>NOTE: As each round has an even number of iterations, odd scores are unattainable. Any student claiming they have one is incorrect.</p></font>\n",
    "  <font color='red'><p>NOTE: I found this <a href=\"https://www.researchgate.net/publication/329538967_On_the_One-shot_Two-person_Zero-sum_Game_in_Football_from_a_Penalty_Kicker's_Perspective\">paper</a> that I believe has a fairly similar objective to this lab, and ultimately suggests that the kicker should use a mixed strategy where they should be more likely to aim in the direction that the goal keeper is least likely to save the ball, based off of their previous penalty kick experiences (I thought this was interesting, as it seems like fairly similar reasoning as to why we had the goalie use fictitious play).</p></font>\n",
    "</div>"
   ]
  },
  {
   "cell_type": "code",
   "execution_count": 1,
   "metadata": {},
   "outputs": [
    {
     "data": {
      "text/html": [
       "\n",
       "    <div class=\"bk-root\">\n",
       "        <a href=\"https://bokeh.org\" target=\"_blank\" class=\"bk-logo bk-logo-small bk-logo-notebook\"></a>\n",
       "        <span id=\"1001\">Loading BokehJS ...</span>\n",
       "    </div>"
      ]
     },
     "metadata": {},
     "output_type": "display_data"
    },
    {
     "data": {
      "application/javascript": [
       "\n",
       "(function(root) {\n",
       "  function now() {\n",
       "    return new Date();\n",
       "  }\n",
       "\n",
       "  var force = true;\n",
       "\n",
       "  if (typeof root._bokeh_onload_callbacks === \"undefined\" || force === true) {\n",
       "    root._bokeh_onload_callbacks = [];\n",
       "    root._bokeh_is_loading = undefined;\n",
       "  }\n",
       "\n",
       "  var JS_MIME_TYPE = 'application/javascript';\n",
       "  var HTML_MIME_TYPE = 'text/html';\n",
       "  var EXEC_MIME_TYPE = 'application/vnd.bokehjs_exec.v0+json';\n",
       "  var CLASS_NAME = 'output_bokeh rendered_html';\n",
       "\n",
       "  /**\n",
       "   * Render data to the DOM node\n",
       "   */\n",
       "  function render(props, node) {\n",
       "    var script = document.createElement(\"script\");\n",
       "    node.appendChild(script);\n",
       "  }\n",
       "\n",
       "  /**\n",
       "   * Handle when an output is cleared or removed\n",
       "   */\n",
       "  function handleClearOutput(event, handle) {\n",
       "    var cell = handle.cell;\n",
       "\n",
       "    var id = cell.output_area._bokeh_element_id;\n",
       "    var server_id = cell.output_area._bokeh_server_id;\n",
       "    // Clean up Bokeh references\n",
       "    if (id != null && id in Bokeh.index) {\n",
       "      Bokeh.index[id].model.document.clear();\n",
       "      delete Bokeh.index[id];\n",
       "    }\n",
       "\n",
       "    if (server_id !== undefined) {\n",
       "      // Clean up Bokeh references\n",
       "      var cmd = \"from bokeh.io.state import curstate; print(curstate().uuid_to_server['\" + server_id + \"'].get_sessions()[0].document.roots[0]._id)\";\n",
       "      cell.notebook.kernel.execute(cmd, {\n",
       "        iopub: {\n",
       "          output: function(msg) {\n",
       "            var id = msg.content.text.trim();\n",
       "            if (id in Bokeh.index) {\n",
       "              Bokeh.index[id].model.document.clear();\n",
       "              delete Bokeh.index[id];\n",
       "            }\n",
       "          }\n",
       "        }\n",
       "      });\n",
       "      // Destroy server and session\n",
       "      var cmd = \"import bokeh.io.notebook as ion; ion.destroy_server('\" + server_id + \"')\";\n",
       "      cell.notebook.kernel.execute(cmd);\n",
       "    }\n",
       "  }\n",
       "\n",
       "  /**\n",
       "   * Handle when a new output is added\n",
       "   */\n",
       "  function handleAddOutput(event, handle) {\n",
       "    var output_area = handle.output_area;\n",
       "    var output = handle.output;\n",
       "\n",
       "    // limit handleAddOutput to display_data with EXEC_MIME_TYPE content only\n",
       "    if ((output.output_type != \"display_data\") || (!output.data.hasOwnProperty(EXEC_MIME_TYPE))) {\n",
       "      return\n",
       "    }\n",
       "\n",
       "    var toinsert = output_area.element.find(\".\" + CLASS_NAME.split(' ')[0]);\n",
       "\n",
       "    if (output.metadata[EXEC_MIME_TYPE][\"id\"] !== undefined) {\n",
       "      toinsert[toinsert.length - 1].firstChild.textContent = output.data[JS_MIME_TYPE];\n",
       "      // store reference to embed id on output_area\n",
       "      output_area._bokeh_element_id = output.metadata[EXEC_MIME_TYPE][\"id\"];\n",
       "    }\n",
       "    if (output.metadata[EXEC_MIME_TYPE][\"server_id\"] !== undefined) {\n",
       "      var bk_div = document.createElement(\"div\");\n",
       "      bk_div.innerHTML = output.data[HTML_MIME_TYPE];\n",
       "      var script_attrs = bk_div.children[0].attributes;\n",
       "      for (var i = 0; i < script_attrs.length; i++) {\n",
       "        toinsert[toinsert.length - 1].firstChild.setAttribute(script_attrs[i].name, script_attrs[i].value);\n",
       "        toinsert[toinsert.length - 1].firstChild.textContent = bk_div.children[0].textContent\n",
       "      }\n",
       "      // store reference to server id on output_area\n",
       "      output_area._bokeh_server_id = output.metadata[EXEC_MIME_TYPE][\"server_id\"];\n",
       "    }\n",
       "  }\n",
       "\n",
       "  function register_renderer(events, OutputArea) {\n",
       "\n",
       "    function append_mime(data, metadata, element) {\n",
       "      // create a DOM node to render to\n",
       "      var toinsert = this.create_output_subarea(\n",
       "        metadata,\n",
       "        CLASS_NAME,\n",
       "        EXEC_MIME_TYPE\n",
       "      );\n",
       "      this.keyboard_manager.register_events(toinsert);\n",
       "      // Render to node\n",
       "      var props = {data: data, metadata: metadata[EXEC_MIME_TYPE]};\n",
       "      render(props, toinsert[toinsert.length - 1]);\n",
       "      element.append(toinsert);\n",
       "      return toinsert\n",
       "    }\n",
       "\n",
       "    /* Handle when an output is cleared or removed */\n",
       "    events.on('clear_output.CodeCell', handleClearOutput);\n",
       "    events.on('delete.Cell', handleClearOutput);\n",
       "\n",
       "    /* Handle when a new output is added */\n",
       "    events.on('output_added.OutputArea', handleAddOutput);\n",
       "\n",
       "    /**\n",
       "     * Register the mime type and append_mime function with output_area\n",
       "     */\n",
       "    OutputArea.prototype.register_mime_type(EXEC_MIME_TYPE, append_mime, {\n",
       "      /* Is output safe? */\n",
       "      safe: true,\n",
       "      /* Index of renderer in `output_area.display_order` */\n",
       "      index: 0\n",
       "    });\n",
       "  }\n",
       "\n",
       "  // register the mime type if in Jupyter Notebook environment and previously unregistered\n",
       "  if (root.Jupyter !== undefined) {\n",
       "    var events = require('base/js/events');\n",
       "    var OutputArea = require('notebook/js/outputarea').OutputArea;\n",
       "\n",
       "    if (OutputArea.prototype.mime_types().indexOf(EXEC_MIME_TYPE) == -1) {\n",
       "      register_renderer(events, OutputArea);\n",
       "    }\n",
       "  }\n",
       "\n",
       "  \n",
       "  if (typeof (root._bokeh_timeout) === \"undefined\" || force === true) {\n",
       "    root._bokeh_timeout = Date.now() + 5000;\n",
       "    root._bokeh_failed_load = false;\n",
       "  }\n",
       "\n",
       "  var NB_LOAD_WARNING = {'data': {'text/html':\n",
       "     \"<div style='background-color: #fdd'>\\n\"+\n",
       "     \"<p>\\n\"+\n",
       "     \"BokehJS does not appear to have successfully loaded. If loading BokehJS from CDN, this \\n\"+\n",
       "     \"may be due to a slow or bad network connection. Possible fixes:\\n\"+\n",
       "     \"</p>\\n\"+\n",
       "     \"<ul>\\n\"+\n",
       "     \"<li>re-rerun `output_notebook()` to attempt to load from CDN again, or</li>\\n\"+\n",
       "     \"<li>use INLINE resources instead, as so:</li>\\n\"+\n",
       "     \"</ul>\\n\"+\n",
       "     \"<code>\\n\"+\n",
       "     \"from bokeh.resources import INLINE\\n\"+\n",
       "     \"output_notebook(resources=INLINE)\\n\"+\n",
       "     \"</code>\\n\"+\n",
       "     \"</div>\"}};\n",
       "\n",
       "  function display_loaded() {\n",
       "    var el = document.getElementById(\"1001\");\n",
       "    if (el != null) {\n",
       "      el.textContent = \"BokehJS is loading...\";\n",
       "    }\n",
       "    if (root.Bokeh !== undefined) {\n",
       "      if (el != null) {\n",
       "        el.textContent = \"BokehJS \" + root.Bokeh.version + \" successfully loaded.\";\n",
       "      }\n",
       "    } else if (Date.now() < root._bokeh_timeout) {\n",
       "      setTimeout(display_loaded, 100)\n",
       "    }\n",
       "  }\n",
       "\n",
       "\n",
       "  function run_callbacks() {\n",
       "    try {\n",
       "      root._bokeh_onload_callbacks.forEach(function(callback) {\n",
       "        if (callback != null)\n",
       "          callback();\n",
       "      });\n",
       "    } finally {\n",
       "      delete root._bokeh_onload_callbacks\n",
       "    }\n",
       "    console.debug(\"Bokeh: all callbacks have finished\");\n",
       "  }\n",
       "\n",
       "  function load_libs(css_urls, js_urls, callback) {\n",
       "    if (css_urls == null) css_urls = [];\n",
       "    if (js_urls == null) js_urls = [];\n",
       "\n",
       "    root._bokeh_onload_callbacks.push(callback);\n",
       "    if (root._bokeh_is_loading > 0) {\n",
       "      console.debug(\"Bokeh: BokehJS is being loaded, scheduling callback at\", now());\n",
       "      return null;\n",
       "    }\n",
       "    if (js_urls == null || js_urls.length === 0) {\n",
       "      run_callbacks();\n",
       "      return null;\n",
       "    }\n",
       "    console.debug(\"Bokeh: BokehJS not loaded, scheduling load and callback at\", now());\n",
       "    root._bokeh_is_loading = css_urls.length + js_urls.length;\n",
       "\n",
       "    function on_load() {\n",
       "      root._bokeh_is_loading--;\n",
       "      if (root._bokeh_is_loading === 0) {\n",
       "        console.debug(\"Bokeh: all BokehJS libraries/stylesheets loaded\");\n",
       "        run_callbacks()\n",
       "      }\n",
       "    }\n",
       "\n",
       "    function on_error() {\n",
       "      console.error(\"failed to load \" + url);\n",
       "    }\n",
       "\n",
       "    for (var i = 0; i < css_urls.length; i++) {\n",
       "      var url = css_urls[i];\n",
       "      const element = document.createElement(\"link\");\n",
       "      element.onload = on_load;\n",
       "      element.onerror = on_error;\n",
       "      element.rel = \"stylesheet\";\n",
       "      element.type = \"text/css\";\n",
       "      element.href = url;\n",
       "      console.debug(\"Bokeh: injecting link tag for BokehJS stylesheet: \", url);\n",
       "      document.body.appendChild(element);\n",
       "    }\n",
       "\n",
       "    const hashes = {\"https://cdn.bokeh.org/bokeh/release/bokeh-2.2.3.min.js\": \"T2yuo9Oe71Cz/I4X9Ac5+gpEa5a8PpJCDlqKYO0CfAuEszu1JrXLl8YugMqYe3sM\", \"https://cdn.bokeh.org/bokeh/release/bokeh-widgets-2.2.3.min.js\": \"98GDGJ0kOMCUMUePhksaQ/GYgB3+NH9h996V88sh3aOiUNX3N+fLXAtry6xctSZ6\", \"https://cdn.bokeh.org/bokeh/release/bokeh-tables-2.2.3.min.js\": \"89bArO+nlbP3sgakeHjCo1JYxYR5wufVgA3IbUvDY+K7w4zyxJqssu7wVnfeKCq8\"};\n",
       "\n",
       "    for (var i = 0; i < js_urls.length; i++) {\n",
       "      var url = js_urls[i];\n",
       "      var element = document.createElement('script');\n",
       "      element.onload = on_load;\n",
       "      element.onerror = on_error;\n",
       "      element.async = false;\n",
       "      element.src = url;\n",
       "      if (url in hashes) {\n",
       "        element.crossOrigin = \"anonymous\";\n",
       "        element.integrity = \"sha384-\" + hashes[url];\n",
       "      }\n",
       "      console.debug(\"Bokeh: injecting script tag for BokehJS library: \", url);\n",
       "      document.head.appendChild(element);\n",
       "    }\n",
       "  };\n",
       "\n",
       "  function inject_raw_css(css) {\n",
       "    const element = document.createElement(\"style\");\n",
       "    element.appendChild(document.createTextNode(css));\n",
       "    document.body.appendChild(element);\n",
       "  }\n",
       "\n",
       "  \n",
       "  var js_urls = [\"https://cdn.bokeh.org/bokeh/release/bokeh-2.2.3.min.js\", \"https://cdn.bokeh.org/bokeh/release/bokeh-widgets-2.2.3.min.js\", \"https://cdn.bokeh.org/bokeh/release/bokeh-tables-2.2.3.min.js\"];\n",
       "  var css_urls = [];\n",
       "  \n",
       "\n",
       "  var inline_js = [\n",
       "    function(Bokeh) {\n",
       "      Bokeh.set_log_level(\"info\");\n",
       "    },\n",
       "    function(Bokeh) {\n",
       "    \n",
       "    \n",
       "    }\n",
       "  ];\n",
       "\n",
       "  function run_inline_js() {\n",
       "    \n",
       "    if (root.Bokeh !== undefined || force === true) {\n",
       "      \n",
       "    for (var i = 0; i < inline_js.length; i++) {\n",
       "      inline_js[i].call(root, root.Bokeh);\n",
       "    }\n",
       "    if (force === true) {\n",
       "        display_loaded();\n",
       "      }} else if (Date.now() < root._bokeh_timeout) {\n",
       "      setTimeout(run_inline_js, 100);\n",
       "    } else if (!root._bokeh_failed_load) {\n",
       "      console.log(\"Bokeh: BokehJS failed to load within specified timeout.\");\n",
       "      root._bokeh_failed_load = true;\n",
       "    } else if (force !== true) {\n",
       "      var cell = $(document.getElementById(\"1001\")).parents('.cell').data().cell;\n",
       "      cell.output_area.append_execute_result(NB_LOAD_WARNING)\n",
       "    }\n",
       "\n",
       "  }\n",
       "\n",
       "  if (root._bokeh_is_loading === 0) {\n",
       "    console.debug(\"Bokeh: BokehJS loaded, going straight to plotting\");\n",
       "    run_inline_js();\n",
       "  } else {\n",
       "    load_libs(css_urls, js_urls, function() {\n",
       "      console.debug(\"Bokeh: BokehJS plotting callback run at\", now());\n",
       "      run_inline_js();\n",
       "    });\n",
       "  }\n",
       "}(window));"
      ],
      "application/vnd.bokehjs_load.v0+json": "\n(function(root) {\n  function now() {\n    return new Date();\n  }\n\n  var force = true;\n\n  if (typeof root._bokeh_onload_callbacks === \"undefined\" || force === true) {\n    root._bokeh_onload_callbacks = [];\n    root._bokeh_is_loading = undefined;\n  }\n\n  \n\n  \n  if (typeof (root._bokeh_timeout) === \"undefined\" || force === true) {\n    root._bokeh_timeout = Date.now() + 5000;\n    root._bokeh_failed_load = false;\n  }\n\n  var NB_LOAD_WARNING = {'data': {'text/html':\n     \"<div style='background-color: #fdd'>\\n\"+\n     \"<p>\\n\"+\n     \"BokehJS does not appear to have successfully loaded. If loading BokehJS from CDN, this \\n\"+\n     \"may be due to a slow or bad network connection. Possible fixes:\\n\"+\n     \"</p>\\n\"+\n     \"<ul>\\n\"+\n     \"<li>re-rerun `output_notebook()` to attempt to load from CDN again, or</li>\\n\"+\n     \"<li>use INLINE resources instead, as so:</li>\\n\"+\n     \"</ul>\\n\"+\n     \"<code>\\n\"+\n     \"from bokeh.resources import INLINE\\n\"+\n     \"output_notebook(resources=INLINE)\\n\"+\n     \"</code>\\n\"+\n     \"</div>\"}};\n\n  function display_loaded() {\n    var el = document.getElementById(\"1001\");\n    if (el != null) {\n      el.textContent = \"BokehJS is loading...\";\n    }\n    if (root.Bokeh !== undefined) {\n      if (el != null) {\n        el.textContent = \"BokehJS \" + root.Bokeh.version + \" successfully loaded.\";\n      }\n    } else if (Date.now() < root._bokeh_timeout) {\n      setTimeout(display_loaded, 100)\n    }\n  }\n\n\n  function run_callbacks() {\n    try {\n      root._bokeh_onload_callbacks.forEach(function(callback) {\n        if (callback != null)\n          callback();\n      });\n    } finally {\n      delete root._bokeh_onload_callbacks\n    }\n    console.debug(\"Bokeh: all callbacks have finished\");\n  }\n\n  function load_libs(css_urls, js_urls, callback) {\n    if (css_urls == null) css_urls = [];\n    if (js_urls == null) js_urls = [];\n\n    root._bokeh_onload_callbacks.push(callback);\n    if (root._bokeh_is_loading > 0) {\n      console.debug(\"Bokeh: BokehJS is being loaded, scheduling callback at\", now());\n      return null;\n    }\n    if (js_urls == null || js_urls.length === 0) {\n      run_callbacks();\n      return null;\n    }\n    console.debug(\"Bokeh: BokehJS not loaded, scheduling load and callback at\", now());\n    root._bokeh_is_loading = css_urls.length + js_urls.length;\n\n    function on_load() {\n      root._bokeh_is_loading--;\n      if (root._bokeh_is_loading === 0) {\n        console.debug(\"Bokeh: all BokehJS libraries/stylesheets loaded\");\n        run_callbacks()\n      }\n    }\n\n    function on_error() {\n      console.error(\"failed to load \" + url);\n    }\n\n    for (var i = 0; i < css_urls.length; i++) {\n      var url = css_urls[i];\n      const element = document.createElement(\"link\");\n      element.onload = on_load;\n      element.onerror = on_error;\n      element.rel = \"stylesheet\";\n      element.type = \"text/css\";\n      element.href = url;\n      console.debug(\"Bokeh: injecting link tag for BokehJS stylesheet: \", url);\n      document.body.appendChild(element);\n    }\n\n    const hashes = {\"https://cdn.bokeh.org/bokeh/release/bokeh-2.2.3.min.js\": \"T2yuo9Oe71Cz/I4X9Ac5+gpEa5a8PpJCDlqKYO0CfAuEszu1JrXLl8YugMqYe3sM\", \"https://cdn.bokeh.org/bokeh/release/bokeh-widgets-2.2.3.min.js\": \"98GDGJ0kOMCUMUePhksaQ/GYgB3+NH9h996V88sh3aOiUNX3N+fLXAtry6xctSZ6\", \"https://cdn.bokeh.org/bokeh/release/bokeh-tables-2.2.3.min.js\": \"89bArO+nlbP3sgakeHjCo1JYxYR5wufVgA3IbUvDY+K7w4zyxJqssu7wVnfeKCq8\"};\n\n    for (var i = 0; i < js_urls.length; i++) {\n      var url = js_urls[i];\n      var element = document.createElement('script');\n      element.onload = on_load;\n      element.onerror = on_error;\n      element.async = false;\n      element.src = url;\n      if (url in hashes) {\n        element.crossOrigin = \"anonymous\";\n        element.integrity = \"sha384-\" + hashes[url];\n      }\n      console.debug(\"Bokeh: injecting script tag for BokehJS library: \", url);\n      document.head.appendChild(element);\n    }\n  };\n\n  function inject_raw_css(css) {\n    const element = document.createElement(\"style\");\n    element.appendChild(document.createTextNode(css));\n    document.body.appendChild(element);\n  }\n\n  \n  var js_urls = [\"https://cdn.bokeh.org/bokeh/release/bokeh-2.2.3.min.js\", \"https://cdn.bokeh.org/bokeh/release/bokeh-widgets-2.2.3.min.js\", \"https://cdn.bokeh.org/bokeh/release/bokeh-tables-2.2.3.min.js\"];\n  var css_urls = [];\n  \n\n  var inline_js = [\n    function(Bokeh) {\n      Bokeh.set_log_level(\"info\");\n    },\n    function(Bokeh) {\n    \n    \n    }\n  ];\n\n  function run_inline_js() {\n    \n    if (root.Bokeh !== undefined || force === true) {\n      \n    for (var i = 0; i < inline_js.length; i++) {\n      inline_js[i].call(root, root.Bokeh);\n    }\n    if (force === true) {\n        display_loaded();\n      }} else if (Date.now() < root._bokeh_timeout) {\n      setTimeout(run_inline_js, 100);\n    } else if (!root._bokeh_failed_load) {\n      console.log(\"Bokeh: BokehJS failed to load within specified timeout.\");\n      root._bokeh_failed_load = true;\n    } else if (force !== true) {\n      var cell = $(document.getElementById(\"1001\")).parents('.cell').data().cell;\n      cell.output_area.append_execute_result(NB_LOAD_WARNING)\n    }\n\n  }\n\n  if (root._bokeh_is_loading === 0) {\n    console.debug(\"Bokeh: BokehJS loaded, going straight to plotting\");\n    run_inline_js();\n  } else {\n    load_libs(css_urls, js_urls, function() {\n      console.debug(\"Bokeh: BokehJS plotting callback run at\", now());\n      run_inline_js();\n    });\n  }\n}(window));"
     },
     "metadata": {},
     "output_type": "display_data"
    }
   ],
   "source": [
    "# Setup -- DON'T FORGET TO RUN THIS CELL.\n",
    "## Imports:\n",
    "import asyncio\n",
    "import pandas as pd\n",
    "import penaltykickgame as game\n",
    "from ortools.linear_solver import pywraplp as OR\n",
    "from bokeh.io import show, output_notebook, save, output_file\n",
    "\n",
    "## Configure Bokeh for Jupyter Notebook:\n",
    "output_notebook()\n",
    "\n",
    "## Set up the demo maker:\n",
    "demo_maker = game.main_game.MainGame()\n",
    "\n",
    "## Make each demo:\n",
    "demo1 = await demo_maker.make_game(\n",
    "    CPU_strategy=\"Random\", force_fast_forward=True, force_fast_forward_spd=100,\n",
    "    iterations_to_run=50, stats_fig_1_enabled=False, stats_fig_2_enabled=False,\n",
    "    stats_fig_3_enabled=False, stats_fig_4_enabled=False\n",
    ")\n",
    "demo2 = await demo_maker.make_game(\n",
    "    CPU_strategy=\"Random\", force_fast_forward=True, force_fast_forward_spd=100,\n",
    "    iterations_to_run=50\n",
    ")\n",
    "demo3 = await demo_maker.make_game(\n",
    "    CPU_strategy=\"Mixed_Strategy\", force_fast_forward=True, force_fast_forward_spd=100,\n",
    "    iterations_to_run=50\n",
    ")\n",
    "demo4 = await demo_maker.make_game(\n",
    "    CPU_strategy=\"Fictitious_Play\", force_fast_forward=True, force_fast_forward_spd=50,\n",
    "    iterations_to_run=50\n",
    ")\n",
    "demo5 = await demo_maker.make_game(\n",
    "    CPU_strategy=\"Fictitious_Play\", force_fast_forward=True, force_fast_forward_spd=50,\n",
    "    iterations_to_run=100\n",
    ")\n",
    "demo6 = await demo_maker.make_game(\n",
    "    CPU_strategy=\"Fictitious_Play\", force_fast_forward=True, force_fast_forward_spd=50,\n",
    "    iterations_to_run=200\n",
    ")\n",
    "demo7 = await demo_maker.make_game(\n",
    "    CPU_strategy=\"Fictitious_Play\", force_fast_forward=True, force_fast_forward_spd=0,\n",
    "    iterations_to_run=500\n",
    ")\n",
    "demo8 = await demo_maker.make_game(\n",
    "    CPU_strategy=\"Goalie_Cheats\", force_fast_forward=True, force_fast_forward_spd=50,\n",
    "    iterations_to_run=50\n",
    ")"
   ]
  },
  {
   "cell_type": "markdown",
   "metadata": {},
   "source": [
    "<div>\n",
    "  <h2>Part 1: The Penalty Kick Game</h2>\n",
    "\n",
    "  <p>In this part of the lab, you will familiarize yourself with the penalty kick game.</p>\n",
    "</div>"
   ]
  },
  {
   "cell_type": "markdown",
   "metadata": {},
   "source": [
    "<div>\n",
    "  <h3>The Setting</h3>\n",
    "\n",
    "  <p>In soccer (or football), a team may be awarded a penalty kick for being fouled within their opposition's penalty area. The awarded team selects a player (the <i>kicker</i>) to engage in a $1$-shot, $2$-person, $0$-sum game against the opposing goal keeper (their <i>keeper</i> for short). The kicker aims to kick the ball into the goal, while the keeper tries to block it. Both player's actions are predetermined, as the ball typically takes about $0.3$ seconds to reach the goal once kicked.</p>\n",
    "</div>\n",
    "\n",
    "<br>\n",
    "\n",
    "<div style=\"align: left; text-align:center;\">\n",
    "  <img src=\"images/carli_lloyd_goal.gif\" alt=\"Carli Lloyd (US) scoring a penalty kick against Germany, 2015\" title=\"Carli Lloyd (US) scoring a penalty kick against Germany, 2015.\" width=\"360px\"/>\n",
    "\n",
    "  <div class=\"caption\">Figure $1$: A penalty kick. The kicker kicks to the right; the keeper dives to the left. It's a goal!</div>\n",
    "</div>"
   ]
  },
  {
   "cell_type": "markdown",
   "metadata": {},
   "source": [
    "<a id=\"Rules\"></a>\n",
    "<div>\n",
    "  <h3>The Rules</h3>\n",
    "\n",
    "  <p>You will play a simple version of the penalty kick game. The rules are as follows:</p>\n",
    "\n",
    "  <ul>\n",
    "    <li>You will play multiple iterations as the kickers to create a total score that you wish to maximize.</li>\n",
    "    <li>For each iteration, you will select a <b>left or right -footed kicker</b>. The keeper will be informed of your choice.</li>\n",
    "    <li>You and the keeper will then both commit to playing (kicker kicks, keeper dives) <b>left, middle, or right</b></li> \n",
    "    <li>The keeper's action, the kicker's footedness, and their kick direction determine the goal scoring probability according to Table 1.</li>\n",
    "    <li>A shot result is drawn according to this probability. A goal generates $1$ point; a save $-1$.</li>\n",
    "  </ul>\n",
    "</div>\n",
    "\n",
    "<br>\n",
    "\n",
    "<div style=\"align: left; text-align:center;\">\n",
    "  <table style=\"width:60%\">\n",
    "    <tr>\n",
    "      <th>Scoring Probability</th>\n",
    "      <th>LL</th>\n",
    "      <th>LM</th>\n",
    "      <th>LR</th>\n",
    "      <th>ML</th>\n",
    "      <th>MM</th>\n",
    "      <th>MR</th>\n",
    "      <th>RL</th>\n",
    "      <th>RM</th>\n",
    "      <th>RR</th>\n",
    "    </tr>\n",
    "    <tr>\n",
    "      <td><b>Right-footed kicker</b></td>\n",
    "      <td>$0.55$</td>\n",
    "      <td>$0.65$</td>\n",
    "      <td>$0.93$</td>\n",
    "      <td>$0.74$</td>\n",
    "      <td>$0.60$</td>\n",
    "      <td>$0.72$</td>\n",
    "      <td>$0.95$</td>\n",
    "      <td>$0.73$</td>\n",
    "      <td>$0.70$</td>\n",
    "    </tr>\n",
    "    <tr>\n",
    "      <td><b>Left-footed kicker</b></td>\n",
    "      <td>$0.67$</td>\n",
    "      <td>$0.70$</td>\n",
    "      <td>$0.96$</td>\n",
    "      <td>$0.74$</td>\n",
    "      <td>$0.60$</td>\n",
    "      <td>$0.72$</td>\n",
    "      <td>$0.87$</td>\n",
    "      <td>$0.65$</td>\n",
    "      <td>$0.61$</td>\n",
    "    </tr>\n",
    "  </table>\n",
    "  <div class=\"caption\">Table $1$: The Column headers indicate kicker kick, keeper dive directions. </div>\n",
    "</div> "
   ]
  },
  {
   "cell_type": "markdown",
   "metadata": {},
   "source": [
    "<div><h3>Your first attempt</h3></div>"
   ]
  },
  {
   "cell_type": "markdown",
   "metadata": {},
   "source": [
    "<div>\n",
    "  <p><b>Q1:</b> Play $30$ rounds against the computer <a href=\"http://engri1101.orie.cornell.edu/penalty_kick_source/penalty_kick_game.html\">HERE</a>. The keeper will use <i>fictitious play</i> (Explained in <a href=\"#Part 4: Weaknesses of Mixed Strategies\">Part 4</a>) to attempt to counter your strategy.</p>\n",
    "\n",
    "  <p>How high did your score?</p>\n",
    "\n",
    "  <p><b>A:</b><font color='blue'> Answers will vary.</font></p>\n",
    "</div>"
   ]
  },
  {
   "cell_type": "markdown",
   "metadata": {},
   "source": [
    "<div>\n",
    "  <br>\n",
    "  <p><big><strong>The rest of the lab restricts you to using a mixed strategy for the kicker's actions.</strong></big></p>\n",
    "</div>"
   ]
  },
  {
   "cell_type": "markdown",
   "metadata": {},
   "source": [
    "<div>\n",
    "  <br>\n",
    "  <h2>Part 2: Solving the Penalty Kick Game</h2>\n",
    "\n",
    "  <p>In this part of the lab, we will analyze the mixed strategy penalty kick game.</p>\n",
    "</div>"
   ]
  },
  {
   "cell_type": "markdown",
   "metadata": {},
   "source": [
    "<div>\n",
    "  <h3>Identifying the Pure Strategies</h3>\n",
    "\n",
    "  <p>The first step of formulating a $2$-persion $0$-sum game is to figure out <b>each player's pure strategies</b>.</p>\n",
    "\n",
    "  <p><i>Remember: A pure strategy is a complete set of playable instructions formulating a feasible strategy for a player to take in the game.</i></p>\n",
    "</div>"
   ]
  },
  {
   "cell_type": "markdown",
   "metadata": {},
   "source": [
    "<div>\n",
    "  <p><b>Q2:</b> What are the kicker's pure strategies?</p>\n",
    "\n",
    "  <p><b>A:</b></p>\n",
    "  <font color='blue'><ul>\n",
    "    <li>Pick a <b>left-footed</b> kicker instructed to <b>kick to the left</b></li>\n",
    "    <li>Pick a <b>left-footed</b> kicker instructed to <b>kick to the middle</b></li>\n",
    "    <li>Pick a <b>left-footed</b> kicker instructed to <b>kick to the right</b></li>\n",
    "    <li>Pick a <b>right-footed</b> kicker instructed to <b>kick to the left</b></li>\n",
    "    <li>Pick a <b>right-footed</b> kicker instructed to <b>kick to the middle</b></li>\n",
    "    <li>Pick a <b>right-footed</b> kicker instructed to <b>kick to the right</b></li>\n",
    "  </ul></font>\n",
    "</div>"
   ]
  },
  {
   "cell_type": "markdown",
   "metadata": {},
   "source": [
    "<div>\n",
    "  <p>As the keeper's action can be chosen after the kicker's dominant foot is announced, their pure strategies are slightly more complicated. The following questions will walk you through determining the keeper's pure strategies.</p>\n",
    "</div>"
   ]
  },
  {
   "cell_type": "markdown",
   "metadata": {},
   "source": [
    "<div>\n",
    "  <p><b>Q3:</b> Which choices does the keeper require a specified response for?</p>\n",
    "\n",
    "  <p><b>A:</b><font color='blue'> The keeper requires specified responses for <b>left</b> and <b>right -footed kickers</b>.</font></p>\n",
    "</div>"
   ]
  },
  {
   "cell_type": "markdown",
   "metadata": {},
   "source": [
    "<div>\n",
    "  <p>Following the notation from the handout, a pure strategy from the keeper takes the form $([L, i], [R, j])$ read as:</p>\n",
    "\n",
    "  <p><i>If the kicker is left-footed, do $i$. If the kicker is right-footed, do $j$.</i></p>\n",
    "</div>"
   ]
  },
  {
   "cell_type": "markdown",
   "metadata": {},
   "source": [
    "<div>\n",
    "  <p><b>Q4:</b> What values can $i$ and $j$ take? How many pure strategies does the keeper have?</p>\n",
    "\n",
    "  <p><b>A:</b><font color='blue'> Both $i$ and $j$ can each take the values ${L, M, R}$. Hence, the keeper has $9$ pure strategies:</font></p>\n",
    "  <font color='blue'><ol type=\"1\">\n",
    "    <li>$([L, L], [R, L])$</li>\n",
    "    <li>$([L, L], [R, M])$</li>\n",
    "    <li>$([L, L], [R, R])$</li>\n",
    "    <li>$([L, M], [R, L])$</li>\n",
    "    <li>$([L, M], [R, M])$</li>\n",
    "    <li>$([L, M], [R, R])$</li>\n",
    "    <li>$([L, R], [R, L])$</li>\n",
    "    <li>$([L, R], [R, M])$</li>\n",
    "    <li>$([L, R], [R, R])$</li>\n",
    "  </ol></font>\n",
    "</div>"
   ]
  },
  {
   "cell_type": "markdown",
   "metadata": {},
   "source": [
    "<div>\n",
    "  <h3>Attempting a Mixed Strategy</h3>\n",
    "\n",
    "  <p>The following questions walk you through trying several mixed strategies for the penalty kick game.</p>\n",
    "\n",
    "  <p><i>Remember: A mixed strategy is a strategy where pure strategies are used at varying pre-determined probabilities.</i></p>\n",
    "</div>"
   ]
  },
  {
   "cell_type": "markdown",
   "metadata": {},
   "source": [
    "<div>\n",
    "  <p><b>Q5:</b> Give an example of a valid mixed strategy for the game.</p>\n",
    "\n",
    "  <p><b>A:</b><font color='blue'> Answers will vary. Example answer:</font></p>\n",
    "  <font color='blue'><ul>\n",
    "    <li>$33$% chance <b>left-footed</b> kicker <b>kicking to the left</b>\n",
    "    <li>$17$% chance <b>right-footed</b> kicker <b>kicking to the left</b>\n",
    "    <li>$50$% chance <b>right-footed</b> kicker <b>kicking to the right</b>\n",
    "  </ul></font>\n",
    "</div>"
   ]
  },
  {
   "cell_type": "markdown",
   "metadata": {},
   "source": [
    "<div>\n",
    "  <p><b>Q6:</b> Try running the mixed strategy penalty kick game from the cell below. <b>For this version, you will input each pure strategy's selection chance as a decimal between $0$ and $1$.</b> The keeper will pick their actions at random. The game will also fast forward between iterations.</p>\n",
    "\n",
    "  <p>How high did you score?</p>\n",
    "\n",
    "  <p><b>A:</b><font color='blue'> Answers will vary.</font></p>\n",
    "</div>"
   ]
  },
  {
   "cell_type": "code",
   "execution_count": 2,
   "metadata": {},
   "outputs": [
    {
     "data": {
      "text/html": [
       "\n",
       "\n",
       "\n",
       "\n",
       "\n",
       "\n",
       "  <div class=\"bk-root\" id=\"4a18318e-ac34-406d-8939-270c74ed02f6\" data-root-id=\"1716\"></div>\n"
      ]
     },
     "metadata": {},
     "output_type": "display_data"
    },
    {
     "data": {
      "application/javascript": [
       "(function(root) {\n",
       "  function embed_document(root) {\n",
       "    \n",
       "  var docs_json = {\"8409715b-1a34-43b5-9dbd-e5d809f1d660\":{\"roots\":{\"references\":[{\"attributes\":{\"children\":[{\"id\":\"1715\"},{\"id\":\"1713\"}],\"sizing_mode\":\"stretch_width\"},\"id\":\"1716\",\"type\":\"Column\"},{\"attributes\":{\"source\":{\"id\":\"1355\"}},\"id\":\"1456\",\"type\":\"CDSView\"},{\"attributes\":{\"source\":{\"id\":\"1355\"}},\"id\":\"1431\",\"type\":\"CDSView\"},{\"attributes\":{\"line_alpha\":0.1,\"line_color\":\"#000000\",\"x\":{\"field\":\"xs\"},\"y\":{\"value\":0.96}},\"id\":\"1433\",\"type\":\"Line\"},{\"attributes\":{\"line_alpha\":0.1,\"line_color\":\"#000000\",\"x\":{\"field\":\"xs\"},\"y\":{\"value\":0.7}},\"id\":\"1429\",\"type\":\"Line\"},{\"attributes\":{\"data_source\":{\"id\":\"1355\"},\"glyph\":{\"id\":\"1428\"},\"hover_glyph\":null,\"muted_glyph\":null,\"nonselection_glyph\":{\"id\":\"1429\"},\"selection_glyph\":null,\"view\":{\"id\":\"1431\"}},\"id\":\"1430\",\"type\":\"GlyphRenderer\"},{\"attributes\":{\"line_alpha\":0.1,\"line_color\":\"#000000\",\"x\":{\"field\":\"xs\"},\"y\":{\"value\":0.61}},\"id\":\"1463\",\"type\":\"Line\"},{\"attributes\":{\"source\":{\"id\":\"1355\"}},\"id\":\"1461\",\"type\":\"CDSView\"},{\"attributes\":{\"button_type\":\"success\",\"disabled\":true,\"icon\":null,\"js_event_callbacks\":{\"button_click\":[{\"id\":\"1528\"}]},\"label\":\"Game Figure\",\"sizing_mode\":\"scale_width\",\"visible\":false,\"width_policy\":\"fit\"},\"id\":\"1492\",\"type\":\"Button\"},{\"attributes\":{\"line_alpha\":0.1,\"line_color\":\"#000000\",\"x\":{\"field\":\"xs\"},\"y\":{\"value\":0.65}},\"id\":\"1458\",\"type\":\"Line\"},{\"attributes\":{\"data\":{\"text\":[\"Rounds played: 0\",\"Total score: 0\",\"\",\"\",\"\"],\"x\":[2,70,2,14,14],\"y\":[86,86,5,40,32]},\"selected\":{\"id\":\"1599\"},\"selection_policy\":{\"id\":\"1598\"}},\"id\":\"1471\",\"type\":\"ColumnDataSource\"},{\"attributes\":{\"line_alpha\":0.1,\"line_color\":\"#000000\",\"x\":{\"field\":\"xs\"},\"y\":{\"value\":0.65}},\"id\":\"1459\",\"type\":\"Line\"},{\"attributes\":{\"data_source\":{\"id\":\"1355\"},\"glyph\":{\"id\":\"1458\"},\"hover_glyph\":null,\"muted_glyph\":null,\"nonselection_glyph\":{\"id\":\"1459\"},\"selection_glyph\":null,\"view\":{\"id\":\"1461\"}},\"id\":\"1460\",\"type\":\"GlyphRenderer\"},{\"attributes\":{\"source\":{\"id\":\"1355\"}},\"id\":\"1466\",\"type\":\"CDSView\"},{\"attributes\":{\"background_fill_color\":\"white\",\"below\":[{\"id\":\"1172\"}],\"center\":[{\"id\":\"1175\"},{\"id\":\"1179\"}],\"left\":[{\"id\":\"1176\"}],\"outline_line_color\":\"black\",\"plot_height\":360,\"renderers\":[{\"id\":\"1185\"},{\"id\":\"1190\"},{\"id\":\"1195\"},{\"id\":\"1200\"}],\"sizing_mode\":\"stretch_both\",\"title\":{\"id\":\"1162\"},\"toolbar\":{\"id\":\"1180\"},\"toolbar_location\":null,\"toolbar_sticky\":false,\"visible\":false,\"x_range\":{\"id\":\"1164\"},\"x_scale\":{\"id\":\"1168\"},\"y_range\":{\"id\":\"1166\"},\"y_scale\":{\"id\":\"1170\"}},\"id\":\"1161\",\"subtype\":\"Figure\",\"type\":\"Plot\"},{\"attributes\":{\"callback\":null,\"formatters\":{\"@avgs_placeholder\":{\"id\":\"1468\"},\"@ys\":{\"id\":\"1467\"}},\"point_policy\":\"follow_mouse\",\"renderers\":[{\"id\":\"1369\"}],\"tooltips\":\"\\n<div>\\n  <font size=\\\"1pt\\\"><p>Iteration: @xs<br>\\nStriker Foot: @feet<br>\\nAim Direction: @directions<br>\\nGoalie Action: @actions<br>\\nScore Chance: @ys{custom}<br>\\nAvg Score Chance: @avgs_placeholder{custom}</p></font>\\n</div>\\n\"},\"id\":\"1469\",\"type\":\"HoverTool\"},{\"attributes\":{\"line_alpha\":0.1,\"line_color\":\"#000000\",\"x\":{\"field\":\"xs\"},\"y\":{\"value\":0.61}},\"id\":\"1464\",\"type\":\"Line\"},{\"attributes\":{\"data_source\":{\"id\":\"1355\"},\"glyph\":{\"id\":\"1463\"},\"hover_glyph\":null,\"muted_glyph\":null,\"nonselection_glyph\":{\"id\":\"1464\"},\"selection_glyph\":null,\"view\":{\"id\":\"1466\"}},\"id\":\"1465\",\"type\":\"GlyphRenderer\"},{\"attributes\":{\"args\":{\"src\":{\"id\":\"1355\"}},\"code\":\"\\nconst index = special_vars.index;\\nconst data = src.data;\\n\\nfunction avgRecursive(index) {\\n  let val = data['ys'][index];\\n  if(index > 0) {\\n    val += index * avgRecursive(index - 1);\\n    val = val / (index + 1);\\n  }\\n  return val;\\n}\\n\\nconst val = avgRecursive(index);\\n\\nreturn val.toString().substring(0,5);\\n\"},\"id\":\"1468\",\"type\":\"CustomJSHover\"},{\"attributes\":{\"text_baseline\":\"ideographic\",\"text_color\":{\"value\":\"whitesmoke\"},\"text_font_size\":{\"value\":\"15pt\"},\"x\":{\"field\":\"x\"},\"y\":{\"field\":\"y\"},\"y_offset\":{\"value\":9}},\"id\":\"1472\",\"type\":\"Text\"},{\"attributes\":{\"text\":\"Random\",\"visible\":false},\"id\":\"1479\",\"type\":\"Div\"},{\"attributes\":{\"text\":\"0\",\"visible\":false},\"id\":\"1477\",\"type\":\"Div\"},{\"attributes\":{\"text\":\"0\",\"visible\":false},\"id\":\"1478\",\"type\":\"Div\"},{\"attributes\":{\"fill_color\":{\"value\":\"red\"},\"height\":{\"units\":\"data\",\"value\":4},\"line_width\":{\"value\":2},\"width\":{\"units\":\"data\",\"value\":3},\"x\":{\"value\":50},\"y\":{\"value\":65}},\"id\":\"1043\",\"type\":\"Rect\"},{\"attributes\":{\"data_source\":{\"id\":\"1471\"},\"glyph\":{\"id\":\"1472\"},\"hover_glyph\":null,\"muted_glyph\":null,\"view\":{\"id\":\"1474\"}},\"id\":\"1473\",\"type\":\"GlyphRenderer\"},{\"attributes\":{\"formatter\":{\"id\":\"1544\"},\"ticker\":{\"id\":\"1014\"},\"visible\":false},\"id\":\"1013\",\"type\":\"LinearAxis\"},{\"attributes\":{\"fill_alpha\":{\"field\":\"highlight_alphas\",\"transform\":{\"id\":\"1236\"}},\"fill_color\":{\"value\":\"#000000\"},\"line_alpha\":{\"field\":\"highlight_alphas\",\"transform\":{\"id\":\"1236\"}},\"line_color\":{\"value\":\"#000000\"},\"size\":{\"units\":\"screen\",\"value\":10},\"x\":{\"field\":\"xs\"},\"y\":{\"field\":\"rm_ys\"}},\"id\":\"1321\",\"type\":\"CircleCross\"},{\"attributes\":{\"line_alpha\":0.1,\"line_color\":\"#000000\",\"x\":{\"field\":\"xs\"},\"y\":{\"value\":0.74}},\"id\":\"1439\",\"type\":\"Line\"},{\"attributes\":{\"line_alpha\":0.1,\"line_color\":\"#000000\",\"x\":{\"field\":\"xs\"},\"y\":{\"value\":0.6}},\"id\":\"1398\",\"type\":\"Line\"},{\"attributes\":{\"fill_alpha\":{\"field\":\"highlight_alphas\",\"transform\":{\"id\":\"1238\"}},\"fill_color\":{\"value\":\"#000000\"},\"line_alpha\":{\"field\":\"highlight_alphas\",\"transform\":{\"id\":\"1238\"}},\"line_color\":{\"value\":\"#000000\"},\"size\":{\"units\":\"screen\",\"value\":10},\"x\":{\"field\":\"xs\"},\"y\":{\"field\":\"rr_ys\"}},\"id\":\"1326\",\"type\":\"CircleCross\"},{\"attributes\":{\"source\":{\"id\":\"1355\"}},\"id\":\"1396\",\"type\":\"CDSView\"},{\"attributes\":{\"data_source\":{\"id\":\"1355\"},\"glyph\":{\"id\":\"1438\"},\"hover_glyph\":null,\"muted_glyph\":null,\"nonselection_glyph\":{\"id\":\"1439\"},\"selection_glyph\":null,\"view\":{\"id\":\"1441\"}},\"id\":\"1440\",\"type\":\"GlyphRenderer\"},{\"attributes\":{\"source\":{\"id\":\"1227\"}},\"id\":\"1324\",\"type\":\"CDSView\"},{\"attributes\":{\"source\":{\"id\":\"1355\"}},\"id\":\"1401\",\"type\":\"CDSView\"},{\"attributes\":{\"data_source\":{\"id\":\"1227\"},\"glyph\":{\"id\":\"1321\"},\"hover_glyph\":null,\"muted_glyph\":null,\"nonselection_glyph\":{\"id\":\"1322\"},\"selection_glyph\":null,\"view\":{\"id\":\"1324\"}},\"id\":\"1323\",\"type\":\"GlyphRenderer\"},{\"attributes\":{\"fill_alpha\":{\"value\":0.1},\"fill_color\":{\"value\":\"#000000\"},\"line_alpha\":{\"value\":0.1},\"line_color\":{\"value\":\"#000000\"},\"size\":{\"units\":\"screen\",\"value\":10},\"x\":{\"field\":\"xs\"},\"y\":{\"field\":\"rm_ys\"}},\"id\":\"1322\",\"type\":\"CircleCross\"},{\"attributes\":{\"line_alpha\":0.1,\"line_color\":\"#000000\",\"x\":{\"field\":\"xs\"},\"y\":{\"value\":0.6}},\"id\":\"1399\",\"type\":\"Line\"},{\"attributes\":{\"data_source\":{\"id\":\"1355\"},\"glyph\":{\"id\":\"1398\"},\"hover_glyph\":null,\"muted_glyph\":null,\"nonselection_glyph\":{\"id\":\"1399\"},\"selection_glyph\":null,\"view\":{\"id\":\"1401\"}},\"id\":\"1400\",\"type\":\"GlyphRenderer\"},{\"attributes\":{\"source\":{\"id\":\"1355\"}},\"id\":\"1406\",\"type\":\"CDSView\"},{\"attributes\":{\"background_fill_color\":\"white\",\"below\":[{\"id\":\"1346\"}],\"center\":[{\"id\":\"1349\"},{\"id\":\"1353\"}],\"left\":[{\"id\":\"1350\"}],\"outline_line_color\":\"black\",\"plot_height\":360,\"renderers\":[{\"id\":\"1359\"},{\"id\":\"1364\"},{\"id\":\"1369\"},{\"id\":\"1375\"},{\"id\":\"1380\"},{\"id\":\"1385\"},{\"id\":\"1390\"},{\"id\":\"1395\"},{\"id\":\"1400\"},{\"id\":\"1405\"},{\"id\":\"1410\"},{\"id\":\"1415\"},{\"id\":\"1420\"},{\"id\":\"1425\"},{\"id\":\"1430\"},{\"id\":\"1435\"},{\"id\":\"1440\"},{\"id\":\"1445\"},{\"id\":\"1450\"},{\"id\":\"1455\"},{\"id\":\"1460\"},{\"id\":\"1465\"}],\"sizing_mode\":\"stretch_both\",\"title\":{\"id\":\"1336\"},\"toolbar\":{\"id\":\"1354\"},\"toolbar_location\":null,\"toolbar_sticky\":false,\"visible\":false,\"x_range\":{\"id\":\"1338\"},\"x_scale\":{\"id\":\"1342\"},\"y_range\":{\"id\":\"1340\"},\"y_scale\":{\"id\":\"1344\"}},\"id\":\"1335\",\"subtype\":\"Figure\",\"type\":\"Plot\"},{\"attributes\":{\"source\":{\"id\":\"1227\"}},\"id\":\"1329\",\"type\":\"CDSView\"},{\"attributes\":{\"line_alpha\":0.1,\"line_color\":\"#000000\",\"x\":{\"field\":\"xs\"},\"y\":{\"value\":0.95}},\"id\":\"1408\",\"type\":\"Line\"},{\"attributes\":{\"args\":{\"highlightIndex\":{\"id\":\"1225\"},\"selectedIndex\":{\"id\":\"1226\"},\"src\":{\"id\":\"1227\"}},\"code\":\"\\nconst index = special_vars.index;\\nconst name = special_vars.name;\\nconst data = src.data;\\n\\n\\nfunction selectSortedValIndex() {\\n  const values = [\\n    data['ll_ys'][index], data['lm_ys'][index], data['lr_ys'][index],\\n    data['rl_ys'][index], data['rm_ys'][index], data['rr_ys'][index]\\n  ];\\n\\n  const sortedValues = values.slice();\\n  sortedValues.sort((a, b) => b - a);\\n\\n  selectedIndex.text = values.indexOf(sortedValues[parseInt(name)]).toString();\\n}\\n\\nconst column = [1, 2, 3, 4, 5, 6];\\n\\nselectSortedValIndex();\\n\\nconst selected = column[parseInt(selectedIndex.text)];\\n\\ndata['highlight_alphas'][parseInt(highlightIndex.text)] = 0;\\nhighlightIndex.text = index.toString();\\ndata['highlight_alphas'][index] = selected;\\n\\nsrc.change.emit();\\n\\nreturn index.toString();\\n\"},\"id\":\"1330\",\"type\":\"CustomJSHover\"},{\"attributes\":{\"data_source\":{\"id\":\"1227\"},\"glyph\":{\"id\":\"1326\"},\"hover_glyph\":null,\"muted_glyph\":null,\"nonselection_glyph\":{\"id\":\"1327\"},\"selection_glyph\":null,\"view\":{\"id\":\"1329\"}},\"id\":\"1328\",\"type\":\"GlyphRenderer\"},{\"attributes\":{\"line_alpha\":0.1,\"line_color\":\"#000000\",\"x\":{\"field\":\"xs\"},\"y\":{\"value\":0.74}},\"id\":\"1438\",\"type\":\"Line\"},{\"attributes\":{\"args\":{\"selectedIndex\":{\"id\":\"1226\"},\"src\":{\"id\":\"1227\"}},\"code\":\"\\nconst index = special_vars.index;\\nconst name = special_vars.name;\\nconst data = src.data;\\n\\n\\nconst column = ['ll', 'lm', 'lr', 'rl', 'rm', 'rr'];\\nconst selected = column[parseInt(selectedIndex.text)];\\n\\nreturn data[`${selected}_ys`][index].toString().substring(0, 5);\\n\"},\"id\":\"1331\",\"type\":\"CustomJSHover\"},{\"attributes\":{\"line_alpha\":0.1,\"line_color\":\"#000000\",\"x\":{\"field\":\"xs\"},\"y\":{\"value\":0.72}},\"id\":\"1404\",\"type\":\"Line\"},{\"attributes\":{\"data_source\":{\"id\":\"1355\"},\"glyph\":{\"id\":\"1403\"},\"hover_glyph\":null,\"muted_glyph\":null,\"nonselection_glyph\":{\"id\":\"1404\"},\"selection_glyph\":null,\"view\":{\"id\":\"1406\"}},\"id\":\"1405\",\"type\":\"GlyphRenderer\"},{\"attributes\":{\"fill_alpha\":{\"value\":0.1},\"fill_color\":{\"value\":\"#000000\"},\"line_alpha\":{\"value\":0.1},\"line_color\":{\"value\":\"#000000\"},\"size\":{\"units\":\"screen\",\"value\":10},\"x\":{\"field\":\"xs\"},\"y\":{\"field\":\"rr_ys\"}},\"id\":\"1327\",\"type\":\"CircleCross\"},{\"attributes\":{\"args\":{\"selectedIndex\":{\"id\":\"1226\"},\"src\":{\"id\":\"1227\"}},\"code\":\"\\nconst index = special_vars.index;\\nconst name = special_vars.name;\\nconst data = src.data;\\n\\n\\nconst column = ['ll', 'lm', 'lr', 'rl', 'rm', 'rr'];\\nreturn column[parseInt(selectedIndex.text)];\\n\"},\"id\":\"1332\",\"type\":\"CustomJSHover\"},{\"attributes\":{\"callback\":null,\"formatters\":{\"@ll_ys\":{\"id\":\"1331\"},\"@lm_ys\":{\"id\":\"1332\"},\"@xs\":{\"id\":\"1330\"}},\"point_policy\":\"follow_mouse\",\"renderers\":[{\"id\":\"1248\"},{\"id\":\"1258\"},{\"id\":\"1268\"},{\"id\":\"1278\"},{\"id\":\"1288\"},{\"id\":\"1298\"}],\"tooltips\":\"\\n<div>\\n  <font size=\\\"1pt\\\"><p>Iteration: @xs{custom}<br>\\nRisk: @ll_ys{custom}<br>\\nRisk SFKA: @lm_ys{custom}</p></font>\\n</div>\\n\"},\"id\":\"1333\",\"type\":\"HoverTool\"},{\"attributes\":{\"source\":{\"id\":\"1355\"}},\"id\":\"1411\",\"type\":\"CDSView\"},{\"attributes\":{\"line_alpha\":0.1,\"line_color\":\"#000000\",\"x\":{\"field\":\"xs\"},\"y\":{\"value\":0.73}},\"id\":\"1413\",\"type\":\"Line\"},{\"attributes\":{},\"id\":\"1342\",\"type\":\"LinearScale\"},{\"attributes\":{\"v_func\":\"\\nconst newXs = xs.map(\\n  (v) => ((v === 1) ? 1 : 0.8)\\n)\\nreturn newXs;\\n\"},\"id\":\"1110\",\"type\":\"CustomJSTransform\"},{\"attributes\":{\"text\":\"Score Chance Over Iterations\",\"text_font_size\":{\"value\":\"16pt\"}},\"id\":\"1336\",\"type\":\"Title\"},{\"attributes\":{\"line_alpha\":0.1,\"line_color\":\"#000000\",\"x\":{\"field\":\"xs\"},\"y\":{\"value\":0.95}},\"id\":\"1409\",\"type\":\"Line\"},{\"attributes\":{\"data_source\":{\"id\":\"1355\"},\"glyph\":{\"id\":\"1408\"},\"hover_glyph\":null,\"muted_glyph\":null,\"nonselection_glyph\":{\"id\":\"1409\"},\"selection_glyph\":null,\"view\":{\"id\":\"1411\"}},\"id\":\"1410\",\"type\":\"GlyphRenderer\"},{\"attributes\":{\"fill_color\":{\"value\":\"#ECDF41\"},\"line_color\":{\"value\":\"#D8CB2D\"},\"size\":{\"units\":\"screen\",\"value\":5},\"x\":{\"field\":\"xs\"},\"y\":{\"field\":\"ys\"}},\"id\":\"1357\",\"type\":\"CircleCross\"},{\"attributes\":{\"data_source\":{\"id\":\"1355\"},\"glyph\":{\"id\":\"1433\"},\"hover_glyph\":null,\"muted_glyph\":null,\"nonselection_glyph\":{\"id\":\"1434\"},\"selection_glyph\":null,\"view\":{\"id\":\"1436\"}},\"id\":\"1435\",\"type\":\"GlyphRenderer\"},{\"attributes\":{\"end\":50.5,\"start\":0.5},\"id\":\"1338\",\"type\":\"Range1d\"},{\"attributes\":{\"source\":{\"id\":\"1355\"}},\"id\":\"1416\",\"type\":\"CDSView\"},{\"attributes\":{},\"id\":\"1622\",\"type\":\"Selection\"},{\"attributes\":{\"line_alpha\":0.1,\"line_color\":\"#000000\",\"x\":{\"field\":\"xs\"},\"y\":{\"value\":0.7}},\"id\":\"1418\",\"type\":\"Line\"},{\"attributes\":{},\"id\":\"1344\",\"type\":\"LinearScale\"},{\"attributes\":{\"line_alpha\":0.1,\"line_color\":\"#000000\",\"x\":{\"field\":\"xs\"},\"y\":{\"value\":0.96}},\"id\":\"1434\",\"type\":\"Line\"},{\"attributes\":{\"start\":0.5},\"id\":\"1340\",\"type\":\"Range1d\"},{\"attributes\":{\"line_alpha\":0.1,\"line_color\":\"#000000\",\"x\":{\"field\":\"xs\"},\"y\":{\"value\":0.73}},\"id\":\"1414\",\"type\":\"Line\"},{\"attributes\":{\"data_source\":{\"id\":\"1355\"},\"glyph\":{\"id\":\"1413\"},\"hover_glyph\":null,\"muted_glyph\":null,\"nonselection_glyph\":{\"id\":\"1414\"},\"selection_glyph\":null,\"view\":{\"id\":\"1416\"}},\"id\":\"1415\",\"type\":\"GlyphRenderer\"},{\"attributes\":{\"formatter\":{\"id\":\"1560\"},\"ticker\":{\"id\":\"1347\"}},\"id\":\"1346\",\"type\":\"LinearAxis\"},{\"attributes\":{\"source\":{\"id\":\"1355\"}},\"id\":\"1421\",\"type\":\"CDSView\"},{\"attributes\":{\"line_alpha\":0.1,\"line_color\":\"#000000\",\"x\":{\"field\":\"xs\"},\"y\":{\"value\":0.72}},\"id\":\"1448\",\"type\":\"Line\"},{\"attributes\":{},\"id\":\"1347\",\"type\":\"BasicTicker\"},{\"attributes\":{\"line_alpha\":0.1,\"line_color\":\"#000000\",\"x\":{\"field\":\"xs\"},\"y\":{\"value\":0.67}},\"id\":\"1423\",\"type\":\"Line\"},{\"attributes\":{\"line_alpha\":0.1,\"line_color\":\"#000000\",\"x\":{\"field\":\"xs\"},\"y\":{\"value\":0.67}},\"id\":\"1424\",\"type\":\"Line\"},{\"attributes\":{\"source\":{\"id\":\"1355\"}},\"id\":\"1360\",\"type\":\"CDSView\"},{\"attributes\":{\"line_alpha\":0.1,\"line_color\":\"#000000\",\"x\":{\"field\":\"xs\"},\"y\":{\"value\":0.7}},\"id\":\"1419\",\"type\":\"Line\"},{\"attributes\":{\"data_source\":{\"id\":\"1355\"},\"glyph\":{\"id\":\"1418\"},\"hover_glyph\":null,\"muted_glyph\":null,\"nonselection_glyph\":{\"id\":\"1419\"},\"selection_glyph\":null,\"view\":{\"id\":\"1421\"}},\"id\":\"1420\",\"type\":\"GlyphRenderer\"},{\"attributes\":{\"source\":{\"id\":\"1355\"}},\"id\":\"1436\",\"type\":\"CDSView\"},{\"attributes\":{\"line_alpha\":0.1,\"line_color\":\"#000000\",\"x\":{\"field\":\"xs\"},\"y\":{\"value\":0.72}},\"id\":\"1449\",\"type\":\"Line\"},{\"attributes\":{\"data_source\":{\"id\":\"1355\"},\"glyph\":{\"id\":\"1357\"},\"hover_glyph\":null,\"muted_glyph\":null,\"nonselection_glyph\":{\"id\":\"1358\"},\"selection_glyph\":null,\"view\":{\"id\":\"1360\"}},\"id\":\"1359\",\"type\":\"GlyphRenderer\"},{\"attributes\":{\"data_source\":{\"id\":\"1355\"},\"glyph\":{\"id\":\"1362\"},\"hover_glyph\":null,\"muted_glyph\":null,\"nonselection_glyph\":{\"id\":\"1363\"},\"selection_glyph\":null,\"view\":{\"id\":\"1365\"}},\"id\":\"1364\",\"type\":\"GlyphRenderer\"},{\"attributes\":{\"line_alpha\":0.1,\"line_color\":\"#000000\",\"x\":{\"field\":\"xs\"},\"y\":{\"value\":0.7}},\"id\":\"1428\",\"type\":\"Line\"},{\"attributes\":{\"fill_alpha\":{\"value\":0.1},\"fill_color\":{\"value\":\"#ECDF41\"},\"line_alpha\":{\"value\":0.1},\"line_color\":{\"value\":\"#D8CB2D\"},\"size\":{\"units\":\"screen\",\"value\":5},\"x\":{\"field\":\"xs\"},\"y\":{\"field\":\"ys\"}},\"id\":\"1358\",\"type\":\"CircleCross\"},{\"attributes\":{\"data_source\":{\"id\":\"1355\"},\"glyph\":{\"id\":\"1423\"},\"hover_glyph\":null,\"muted_glyph\":null,\"nonselection_glyph\":{\"id\":\"1424\"},\"selection_glyph\":null,\"view\":{\"id\":\"1426\"}},\"id\":\"1425\",\"type\":\"GlyphRenderer\"},{\"attributes\":{\"fill_alpha\":{\"value\":0.1},\"fill_color\":{\"value\":\"#ECB841\"},\"line_alpha\":{\"value\":0.1},\"line_color\":{\"value\":\"#D8A42D\"},\"size\":{\"units\":\"screen\",\"value\":10},\"x\":{\"field\":\"xs\"},\"y\":{\"field\":\"ys\"}},\"id\":\"1363\",\"type\":\"CircleCross\"},{\"attributes\":{\"source\":{\"id\":\"1355\"}},\"id\":\"1426\",\"type\":\"CDSView\"},{\"attributes\":{\"source\":{\"id\":\"1355\"}},\"id\":\"1365\",\"type\":\"CDSView\"},{\"attributes\":{\"fill_alpha\":{\"value\":0.1},\"fill_color\":{\"value\":\"#1f77b4\"},\"height\":{\"field\":\"hb4\",\"units\":\"data\"},\"line_alpha\":{\"value\":0.1},\"line_color\":{\"value\":\"#1f77b4\"},\"width\":{\"units\":\"data\",\"value\":1},\"x\":{\"field\":\"xs\"},\"y\":{\"field\":\"hb4\",\"transform\":{\"id\":\"1235\"}}},\"id\":\"1277\",\"type\":\"Rect\"},{\"attributes\":{},\"id\":\"1629\",\"type\":\"Selection\"},{\"attributes\":{\"data_source\":{\"id\":\"1227\"},\"glyph\":{\"id\":\"1276\"},\"hover_glyph\":null,\"muted_glyph\":null,\"name\":\"2\",\"nonselection_glyph\":{\"id\":\"1277\"},\"selection_glyph\":null,\"view\":{\"id\":\"1279\"}},\"id\":\"1278\",\"type\":\"GlyphRenderer\"},{\"attributes\":{},\"id\":\"1642\",\"type\":\"StringEditor\"},{\"attributes\":{\"background_fill_alpha\":0,\"border_line_alpha\":0,\"items\":[{\"id\":\"1103\"},{\"id\":\"1104\"}],\"label_height\":10,\"label_text_font_size\":\"10pt\",\"location\":[146,20],\"orientation\":\"horizontal\",\"padding\":0},\"id\":\"1102\",\"type\":\"Legend\"},{\"attributes\":{\"fill_color\":{\"value\":\"#C8AFAF\"},\"line_color\":{\"value\":\"#AF9696\"},\"size\":{\"units\":\"screen\",\"value\":5},\"x\":{\"field\":\"xs\"},\"y\":{\"field\":\"ll_ys\"}},\"id\":\"1241\",\"type\":\"CircleCross\"},{\"attributes\":{},\"id\":\"1643\",\"type\":\"StringFormatter\"},{\"attributes\":{},\"id\":\"1644\",\"type\":\"StringEditor\"},{\"attributes\":{\"source\":{\"id\":\"1227\"}},\"id\":\"1244\",\"type\":\"CDSView\"},{\"attributes\":{\"background_fill_color\":\"green\",\"below\":[{\"id\":\"1013\"}],\"center\":[{\"id\":\"1016\"},{\"id\":\"1020\"}],\"left\":[{\"id\":\"1017\"}],\"outline_line_color\":\"black\",\"plot_height\":400,\"renderers\":[{\"id\":\"1025\"},{\"id\":\"1030\"},{\"id\":\"1035\"},{\"id\":\"1040\"},{\"id\":\"1048\"},{\"id\":\"1051\"},{\"id\":\"1054\"},{\"id\":\"1057\"},{\"id\":\"1060\"},{\"id\":\"1473\"}],\"sizing_mode\":\"stretch_width\",\"title\":{\"id\":\"1003\"},\"toolbar\":{\"id\":\"1021\"},\"toolbar_location\":null,\"toolbar_sticky\":false,\"x_range\":{\"id\":\"1005\"},\"x_scale\":{\"id\":\"1009\"},\"y_range\":{\"id\":\"1007\"},\"y_scale\":{\"id\":\"1011\"}},\"id\":\"1002\",\"subtype\":\"Figure\",\"type\":\"Plot\"},{\"attributes\":{},\"id\":\"1645\",\"type\":\"StringFormatter\"},{\"attributes\":{\"fill_alpha\":{\"value\":0},\"fill_color\":{\"value\":\"#1f77b4\"},\"height\":{\"field\":\"hb1\",\"units\":\"data\"},\"line_alpha\":{\"value\":0},\"line_color\":{\"value\":\"#1f77b4\"},\"width\":{\"units\":\"data\",\"value\":1},\"x\":{\"field\":\"xs\"},\"y\":{\"field\":\"hb1\",\"transform\":{\"id\":\"1229\"}}},\"id\":\"1246\",\"type\":\"Rect\"},{\"attributes\":{\"data_source\":{\"id\":\"1227\"},\"glyph\":{\"id\":\"1241\"},\"hover_glyph\":null,\"muted_glyph\":null,\"nonselection_glyph\":{\"id\":\"1242\"},\"selection_glyph\":null,\"view\":{\"id\":\"1244\"}},\"id\":\"1243\",\"type\":\"GlyphRenderer\"},{\"attributes\":{\"line_color\":\"whitesmoke\",\"line_width\":4,\"x\":{\"field\":\"x\"},\"y\":{\"field\":\"y\"}},\"id\":\"1033\",\"type\":\"Line\"},{\"attributes\":{},\"id\":\"1646\",\"type\":\"StringEditor\"},{\"attributes\":{\"end\":90},\"id\":\"1007\",\"type\":\"Range1d\"},{\"attributes\":{\"source\":{\"id\":\"1227\"}},\"id\":\"1279\",\"type\":\"CDSView\"},{\"attributes\":{},\"id\":\"1009\",\"type\":\"LinearScale\"},{\"attributes\":{\"fill_alpha\":{\"value\":0.1},\"fill_color\":{\"value\":\"#C8AFAF\"},\"line_alpha\":{\"value\":0.1},\"line_color\":{\"value\":\"#AF9696\"},\"size\":{\"units\":\"screen\",\"value\":5},\"x\":{\"field\":\"xs\"},\"y\":{\"field\":\"ll_ys\"}},\"id\":\"1242\",\"type\":\"CircleCross\"},{\"attributes\":{},\"id\":\"1647\",\"type\":\"StringFormatter\"},{\"attributes\":{\"fill_color\":{\"value\":\"#C8C8AF\"},\"line_color\":{\"value\":\"#AFAF96\"},\"size\":{\"units\":\"screen\",\"value\":5},\"x\":{\"field\":\"xs\"},\"y\":{\"field\":\"lm_ys\"}},\"id\":\"1251\",\"type\":\"CircleCross\"},{\"attributes\":{\"fill_color\":{\"value\":\"#AFAFC8\"},\"line_color\":{\"value\":\"#9696AF\"},\"size\":{\"units\":\"screen\",\"value\":5},\"x\":{\"field\":\"xs\"},\"y\":{\"field\":\"rm_ys\"}},\"id\":\"1281\",\"type\":\"CircleCross\"},{\"attributes\":{},\"id\":\"1014\",\"type\":\"BasicTicker\"},{\"attributes\":{\"axis\":{\"id\":\"1013\"},\"grid_line_color\":\"black\",\"ticker\":null,\"visible\":false},\"id\":\"1016\",\"type\":\"Grid\"},{\"attributes\":{\"source\":{\"id\":\"1227\"}},\"id\":\"1249\",\"type\":\"CDSView\"},{\"attributes\":{},\"id\":\"1011\",\"type\":\"LinearScale\"},{\"attributes\":{\"fill_alpha\":{\"value\":0.1},\"fill_color\":{\"value\":\"#1f77b4\"},\"height\":{\"field\":\"hb1\",\"units\":\"data\"},\"line_alpha\":{\"value\":0.1},\"line_color\":{\"value\":\"#1f77b4\"},\"width\":{\"units\":\"data\",\"value\":1},\"x\":{\"field\":\"xs\"},\"y\":{\"field\":\"hb1\",\"transform\":{\"id\":\"1229\"}}},\"id\":\"1247\",\"type\":\"Rect\"},{\"attributes\":{\"data_source\":{\"id\":\"1227\"},\"glyph\":{\"id\":\"1246\"},\"hover_glyph\":null,\"muted_glyph\":null,\"name\":\"5\",\"nonselection_glyph\":{\"id\":\"1247\"},\"selection_glyph\":null,\"view\":{\"id\":\"1249\"}},\"id\":\"1248\",\"type\":\"GlyphRenderer\"},{\"attributes\":{\"active_drag\":\"auto\",\"active_inspect\":\"auto\",\"active_multi\":null,\"active_scroll\":\"auto\",\"active_tap\":\"auto\"},\"id\":\"1021\",\"type\":\"Toolbar\"},{\"attributes\":{\"data_source\":{\"id\":\"1355\"},\"glyph\":{\"id\":\"1453\"},\"hover_glyph\":null,\"muted_glyph\":null,\"nonselection_glyph\":{\"id\":\"1454\"},\"selection_glyph\":null,\"view\":{\"id\":\"1456\"}},\"id\":\"1455\",\"type\":\"GlyphRenderer\"},{\"attributes\":{},\"id\":\"1018\",\"type\":\"BasicTicker\"},{\"attributes\":{\"axis\":{\"id\":\"1017\"},\"dimension\":1,\"grid_line_color\":\"black\",\"ticker\":null,\"visible\":false},\"id\":\"1020\",\"type\":\"Grid\"},{\"attributes\":{\"formatter\":{\"id\":\"1546\"},\"ticker\":{\"id\":\"1018\"},\"visible\":false},\"id\":\"1017\",\"type\":\"LinearAxis\"},{\"attributes\":{\"source\":{\"id\":\"1227\"}},\"id\":\"1254\",\"type\":\"CDSView\"},{\"attributes\":{\"data_source\":{\"id\":\"1032\"},\"glyph\":{\"id\":\"1033\"},\"hover_glyph\":null,\"muted_glyph\":null,\"nonselection_glyph\":{\"id\":\"1034\"},\"selection_glyph\":null,\"view\":{\"id\":\"1036\"}},\"id\":\"1035\",\"type\":\"GlyphRenderer\"},{\"attributes\":{\"fill_alpha\":{\"value\":0},\"fill_color\":{\"value\":\"#1f77b4\"},\"height\":{\"field\":\"hb2\",\"units\":\"data\"},\"line_alpha\":{\"value\":0},\"line_color\":{\"value\":\"#1f77b4\"},\"width\":{\"units\":\"data\",\"value\":1},\"x\":{\"field\":\"xs\"},\"y\":{\"field\":\"hb2\",\"transform\":{\"id\":\"1231\"}}},\"id\":\"1256\",\"type\":\"Rect\"},{\"attributes\":{\"data_source\":{\"id\":\"1227\"},\"glyph\":{\"id\":\"1251\"},\"hover_glyph\":null,\"muted_glyph\":null,\"nonselection_glyph\":{\"id\":\"1252\"},\"selection_glyph\":null,\"view\":{\"id\":\"1254\"}},\"id\":\"1253\",\"type\":\"GlyphRenderer\"},{\"attributes\":{\"fill_alpha\":{\"value\":0.1},\"fill_color\":{\"value\":\"#C8C8AF\"},\"line_alpha\":{\"value\":0.1},\"line_color\":{\"value\":\"#AFAF96\"},\"size\":{\"units\":\"screen\",\"value\":5},\"x\":{\"field\":\"xs\"},\"y\":{\"field\":\"lm_ys\"}},\"id\":\"1252\",\"type\":\"CircleCross\"},{\"attributes\":{\"source\":{\"id\":\"1027\"}},\"id\":\"1031\",\"type\":\"CDSView\"},{\"attributes\":{\"line_alpha\":0.1,\"line_color\":\"lightgreen\",\"line_width\":4,\"x\":{\"field\":\"x\"},\"y\":{\"field\":\"y\"}},\"id\":\"1024\",\"type\":\"Line\"},{\"attributes\":{\"fill_alpha\":{\"value\":0},\"fill_color\":{\"value\":\"#1f77b4\"},\"height\":{\"field\":\"hb4\",\"units\":\"data\"},\"line_alpha\":{\"value\":0},\"line_color\":{\"value\":\"#1f77b4\"},\"width\":{\"units\":\"data\",\"value\":1},\"x\":{\"field\":\"xs\"},\"y\":{\"field\":\"hb4\",\"transform\":{\"id\":\"1235\"}}},\"id\":\"1276\",\"type\":\"Rect\"},{\"attributes\":{\"data\":{\"x\":[3,12,88,97,3],\"y\":[15,63,63,15,15]},\"selected\":{\"id\":\"1583\"},\"selection_policy\":{\"id\":\"1582\"}},\"id\":\"1027\",\"type\":\"ColumnDataSource\"},{\"attributes\":{\"line_alpha\":0.1,\"line_color\":\"whitesmoke\",\"line_width\":4,\"x\":{\"field\":\"x\"},\"y\":{\"field\":\"y\"}},\"id\":\"1034\",\"type\":\"Line\"},{\"attributes\":{\"data\":{\"x\":[34,34,66,66],\"y\":[63,82,82,63]},\"selected\":{\"id\":\"1585\"},\"selection_policy\":{\"id\":\"1584\"}},\"id\":\"1032\",\"type\":\"ColumnDataSource\"},{\"attributes\":{\"line_color\":\"lightgreen\",\"line_width\":4,\"x\":{\"field\":\"x\"},\"y\":{\"field\":\"y\"}},\"id\":\"1028\",\"type\":\"Line\"},{\"attributes\":{\"data_source\":{\"id\":\"1022\"},\"glyph\":{\"id\":\"1023\"},\"hover_glyph\":null,\"muted_glyph\":null,\"nonselection_glyph\":{\"id\":\"1024\"},\"selection_glyph\":null,\"view\":{\"id\":\"1026\"}},\"id\":\"1025\",\"type\":\"GlyphRenderer\"},{\"attributes\":{\"source\":{\"id\":\"1227\"}},\"id\":\"1284\",\"type\":\"CDSView\"},{\"attributes\":{\"source\":{\"id\":\"1022\"}},\"id\":\"1026\",\"type\":\"CDSView\"},{\"attributes\":{\"line_alpha\":0.1,\"line_color\":\"#000000\",\"x\":{\"field\":\"xs\"},\"y\":{\"value\":0.87}},\"id\":\"1454\",\"type\":\"Line\"},{\"attributes\":{\"fill_color\":{\"value\":\"#3F6750\"},\"line_color\":{\"value\":\"#3F6750\"},\"radius\":{\"units\":\"data\",\"value\":0},\"x\":{\"value\":0},\"y\":{\"value\":0}},\"id\":\"1083\",\"type\":\"Circle\"},{\"attributes\":{\"data_source\":{\"id\":\"1227\"},\"glyph\":{\"id\":\"1281\"},\"hover_glyph\":null,\"muted_glyph\":null,\"nonselection_glyph\":{\"id\":\"1282\"},\"selection_glyph\":null,\"view\":{\"id\":\"1284\"}},\"id\":\"1283\",\"type\":\"GlyphRenderer\"},{\"attributes\":{\"data\":{\"x\":[24,76,78,22,24],\"y\":[63,63,47,47,63]},\"selected\":{\"id\":\"1581\"},\"selection_policy\":{\"id\":\"1580\"}},\"id\":\"1022\",\"type\":\"ColumnDataSource\"},{\"attributes\":{\"fill_alpha\":{\"value\":0.1},\"fill_color\":{\"value\":\"#AFAFC8\"},\"line_alpha\":{\"value\":0.1},\"line_color\":{\"value\":\"#9696AF\"},\"size\":{\"units\":\"screen\",\"value\":5},\"x\":{\"field\":\"xs\"},\"y\":{\"field\":\"rm_ys\"}},\"id\":\"1282\",\"type\":\"CircleCross\"},{\"attributes\":{\"line_color\":\"lightgreen\",\"line_width\":4,\"x\":{\"field\":\"x\"},\"y\":{\"field\":\"y\"}},\"id\":\"1023\",\"type\":\"Line\"},{\"attributes\":{\"line_alpha\":0.1,\"line_color\":\"lightgreen\",\"line_width\":4,\"x\":{\"field\":\"x\"},\"y\":{\"field\":\"y\"}},\"id\":\"1029\",\"type\":\"Line\"},{\"attributes\":{\"source\":{\"id\":\"1227\"}},\"id\":\"1289\",\"type\":\"CDSView\"},{\"attributes\":{\"data_source\":{\"id\":\"1027\"},\"glyph\":{\"id\":\"1028\"},\"hover_glyph\":null,\"muted_glyph\":null,\"nonselection_glyph\":{\"id\":\"1029\"},\"selection_glyph\":null,\"view\":{\"id\":\"1031\"}},\"id\":\"1030\",\"type\":\"GlyphRenderer\"},{\"attributes\":{\"fill_alpha\":{\"value\":0.1},\"fill_color\":{\"value\":\"#1f77b4\"},\"height\":{\"field\":\"hb5\",\"units\":\"data\"},\"line_alpha\":{\"value\":0.1},\"line_color\":{\"value\":\"#1f77b4\"},\"width\":{\"units\":\"data\",\"value\":1},\"x\":{\"field\":\"xs\"},\"y\":{\"field\":\"hb5\",\"transform\":{\"id\":\"1237\"}}},\"id\":\"1287\",\"type\":\"Rect\"},{\"attributes\":{\"data_source\":{\"id\":\"1227\"},\"glyph\":{\"id\":\"1286\"},\"hover_glyph\":null,\"muted_glyph\":null,\"name\":\"1\",\"nonselection_glyph\":{\"id\":\"1287\"},\"selection_glyph\":null,\"view\":{\"id\":\"1289\"}},\"id\":\"1288\",\"type\":\"GlyphRenderer\"},{\"attributes\":{\"source\":{\"id\":\"1032\"}},\"id\":\"1036\",\"type\":\"CDSView\"},{\"attributes\":{\"fill_color\":{\"value\":\"#C8AFC8\"},\"line_color\":{\"value\":\"#AF96AF\"},\"size\":{\"units\":\"screen\",\"value\":5},\"x\":{\"field\":\"xs\"},\"y\":{\"field\":\"rr_ys\"}},\"id\":\"1291\",\"type\":\"CircleCross\"},{\"attributes\":{\"data\":{\"actions\":[null,null,null,null,null,null,null,null,null,null,null,null,null,null,null,null,null,null,null,null,null,null,null,null,null,null,null,null,null,null,null,null,null,null,null,null,null,null,null,null,null,null,null,null,null,null,null,null,null,null],\"avgs_placeholder\":[0,0,0,0,0,0,0,0,0,0,0,0,0,0,0,0,0,0,0,0,0,0,0,0,0,0,0,0,0,0,0,0,0,0,0,0,0,0,0,0,0,0,0,0,0,0,0,0,0,0],\"directions\":[null,null,null,null,null,null,null,null,null,null,null,null,null,null,null,null,null,null,null,null,null,null,null,null,null,null,null,null,null,null,null,null,null,null,null,null,null,null,null,null,null,null,null,null,null,null,null,null,null,null],\"feet\":[null,null,null,null,null,null,null,null,null,null,null,null,null,null,null,null,null,null,null,null,null,null,null,null,null,null,null,null,null,null,null,null,null,null,null,null,null,null,null,null,null,null,null,null,null,null,null,null,null,null],\"highlight_alphas\":[0,0,0,0,0,0,0,0,0,0,0,0,0,0,0,0,0,0,0,0,0,0,0,0,0,0,0,0,0,0,0,0,0,0,0,0,0,0,0,0,0,0,0,0,0,0,0,0,0,0],\"xs\":[1,2,3,4,5,6,7,8,9,10,11,12,13,14,15,16,17,18,19,20,21,22,23,24,25,26,27,28,29,30,31,32,33,34,35,36,37,38,39,40,41,42,43,44,45,46,47,48,49,50],\"ys\":[0,0,0,0,0,0,0,0,0,0,0,0,0,0,0,0,0,0,0,0,0,0,0,0,0,0,0,0,0,0,0,0,0,0,0,0,0,0,0,0,0,0,0,0,0,0,0,0,0,0]},\"selected\":{\"id\":\"1615\"},\"selection_policy\":{\"id\":\"1614\"}},\"id\":\"1355\",\"type\":\"ColumnDataSource\"},{\"attributes\":{\"source\":{\"id\":\"1227\"}},\"id\":\"1294\",\"type\":\"CDSView\"},{\"attributes\":{\"fill_alpha\":{\"value\":0},\"fill_color\":{\"value\":\"#1f77b4\"},\"height\":{\"field\":\"hb6\",\"units\":\"data\"},\"line_alpha\":{\"value\":0},\"line_color\":{\"value\":\"#1f77b4\"},\"width\":{\"units\":\"data\",\"value\":1},\"x\":{\"field\":\"xs\"},\"y\":{\"field\":\"hb6\",\"transform\":{\"id\":\"1239\"}}},\"id\":\"1296\",\"type\":\"Rect\"},{\"attributes\":{\"data_source\":{\"id\":\"1227\"},\"glyph\":{\"id\":\"1291\"},\"hover_glyph\":null,\"muted_glyph\":null,\"nonselection_glyph\":{\"id\":\"1292\"},\"selection_glyph\":null,\"view\":{\"id\":\"1294\"}},\"id\":\"1293\",\"type\":\"GlyphRenderer\"},{\"attributes\":{\"fill_alpha\":{\"value\":0.1},\"fill_color\":{\"value\":\"#C8AFC8\"},\"line_alpha\":{\"value\":0.1},\"line_color\":{\"value\":\"#AF96AF\"},\"size\":{\"units\":\"screen\",\"value\":5},\"x\":{\"field\":\"xs\"},\"y\":{\"field\":\"rr_ys\"}},\"id\":\"1292\",\"type\":\"CircleCross\"},{\"attributes\":{\"fill_alpha\":{\"field\":\"highlight_alphas\",\"transform\":{\"id\":\"1228\"}},\"fill_color\":{\"value\":\"#000000\"},\"line_alpha\":{\"field\":\"highlight_alphas\",\"transform\":{\"id\":\"1228\"}},\"line_color\":{\"value\":\"#000000\"},\"size\":{\"units\":\"screen\",\"value\":10},\"x\":{\"field\":\"xs\"},\"y\":{\"field\":\"ll_ys\"}},\"id\":\"1301\",\"type\":\"CircleCross\"},{\"attributes\":{\"formatter\":{\"id\":\"1562\"},\"ticker\":{\"id\":\"1351\"}},\"id\":\"1350\",\"type\":\"LinearAxis\"},{\"attributes\":{\"source\":{\"id\":\"1227\"}},\"id\":\"1299\",\"type\":\"CDSView\"},{\"attributes\":{\"fill_alpha\":{\"value\":0.1},\"fill_color\":{\"value\":\"#1f77b4\"},\"height\":{\"field\":\"hb6\",\"units\":\"data\"},\"line_alpha\":{\"value\":0.1},\"line_color\":{\"value\":\"#1f77b4\"},\"width\":{\"units\":\"data\",\"value\":1},\"x\":{\"field\":\"xs\"},\"y\":{\"field\":\"hb6\",\"transform\":{\"id\":\"1239\"}}},\"id\":\"1297\",\"type\":\"Rect\"},{\"attributes\":{\"data_source\":{\"id\":\"1227\"},\"glyph\":{\"id\":\"1296\"},\"hover_glyph\":null,\"muted_glyph\":null,\"name\":\"0\",\"nonselection_glyph\":{\"id\":\"1297\"},\"selection_glyph\":null,\"view\":{\"id\":\"1299\"}},\"id\":\"1298\",\"type\":\"GlyphRenderer\"},{\"attributes\":{\"fill_alpha\":{\"field\":\"highlight_alphas\",\"transform\":{\"id\":\"1230\"}},\"fill_color\":{\"value\":\"#000000\"},\"line_alpha\":{\"field\":\"highlight_alphas\",\"transform\":{\"id\":\"1230\"}},\"line_color\":{\"value\":\"#000000\"},\"size\":{\"units\":\"screen\",\"value\":10},\"x\":{\"field\":\"xs\"},\"y\":{\"field\":\"lm_ys\"}},\"id\":\"1306\",\"type\":\"CircleCross\"},{\"attributes\":{\"source\":{\"id\":\"1227\"}},\"id\":\"1304\",\"type\":\"CDSView\"},{\"attributes\":{\"axis\":{\"id\":\"1350\"},\"dimension\":1,\"grid_line_color\":\"black\",\"ticker\":null,\"visible\":false},\"id\":\"1353\",\"type\":\"Grid\"},{\"attributes\":{\"data_source\":{\"id\":\"1227\"},\"glyph\":{\"id\":\"1301\"},\"hover_glyph\":null,\"muted_glyph\":null,\"nonselection_glyph\":{\"id\":\"1302\"},\"selection_glyph\":null,\"view\":{\"id\":\"1304\"}},\"id\":\"1303\",\"type\":\"GlyphRenderer\"},{\"attributes\":{\"active_drag\":\"auto\",\"active_inspect\":\"auto\",\"active_multi\":null,\"active_scroll\":\"auto\",\"active_tap\":\"auto\",\"tools\":[{\"id\":\"1469\"}]},\"id\":\"1354\",\"type\":\"Toolbar\"},{\"attributes\":{\"line_alpha\":0.1,\"line_color\":\"#000000\",\"x\":{\"field\":\"xs\"},\"y\":{\"field\":\"ys\",\"transform\":{\"id\":\"1371\"}}},\"id\":\"1374\",\"type\":\"Line\"},{\"attributes\":{\"fill_alpha\":{\"field\":\"highlight_alphas\",\"transform\":{\"id\":\"1232\"}},\"fill_color\":{\"value\":\"#000000\"},\"line_alpha\":{\"field\":\"highlight_alphas\",\"transform\":{\"id\":\"1232\"}},\"line_color\":{\"value\":\"#000000\"},\"size\":{\"units\":\"screen\",\"value\":10},\"x\":{\"field\":\"xs\"},\"y\":{\"field\":\"lr_ys\"}},\"id\":\"1311\",\"type\":\"CircleCross\"},{\"attributes\":{\"source\":{\"id\":\"1227\"}},\"id\":\"1309\",\"type\":\"CDSView\"},{\"attributes\":{\"data_source\":{\"id\":\"1227\"},\"glyph\":{\"id\":\"1306\"},\"hover_glyph\":null,\"muted_glyph\":null,\"nonselection_glyph\":{\"id\":\"1307\"},\"selection_glyph\":null,\"view\":{\"id\":\"1309\"}},\"id\":\"1308\",\"type\":\"GlyphRenderer\"},{\"attributes\":{},\"id\":\"1351\",\"type\":\"BasicTicker\"},{\"attributes\":{\"fill_alpha\":{\"value\":0.1},\"fill_color\":{\"value\":\"#000000\"},\"line_alpha\":{\"value\":0.1},\"line_color\":{\"value\":\"#000000\"},\"size\":{\"units\":\"screen\",\"value\":10},\"x\":{\"field\":\"xs\"},\"y\":{\"field\":\"lm_ys\"}},\"id\":\"1307\",\"type\":\"CircleCross\"},{\"attributes\":{\"fill_alpha\":{\"field\":\"highlight_alphas\",\"transform\":{\"id\":\"1234\"}},\"fill_color\":{\"value\":\"#000000\"},\"line_alpha\":{\"field\":\"highlight_alphas\",\"transform\":{\"id\":\"1234\"}},\"line_color\":{\"value\":\"#000000\"},\"size\":{\"units\":\"screen\",\"value\":10},\"x\":{\"field\":\"xs\"},\"y\":{\"field\":\"rl_ys\"}},\"id\":\"1316\",\"type\":\"CircleCross\"},{\"attributes\":{\"source\":{\"id\":\"1227\"}},\"id\":\"1314\",\"type\":\"CDSView\"},{\"attributes\":{\"data_source\":{\"id\":\"1227\"},\"glyph\":{\"id\":\"1311\"},\"hover_glyph\":null,\"muted_glyph\":null,\"nonselection_glyph\":{\"id\":\"1312\"},\"selection_glyph\":null,\"view\":{\"id\":\"1314\"}},\"id\":\"1313\",\"type\":\"GlyphRenderer\"},{\"attributes\":{\"axis\":{\"id\":\"1346\"},\"grid_line_color\":\"black\",\"ticker\":null,\"visible\":false},\"id\":\"1349\",\"type\":\"Grid\"},{\"attributes\":{\"args\":{\"src\":{\"id\":\"1108\"}},\"code\":\"\\nconst barTypes = ['Scored', 'Blocked Left', 'Blocked Middle', 'Blocked Right'];\\nconst columns = ['scored_y', 'blockedl_y', 'blockedm_y', 'blockedr_y'];\\nconst wCodes = [1, 2, 3, 4];\\nconst data = src.data;\\nconst index = special_vars.index;\\nconst selected = barTypes.indexOf(special_vars.name);\\n\\ndata['hovered_widths'].fill(0);\\ndata['hovered_widths'][index] = wCodes[selected];\\nsrc.change.emit();\\n\\nconst val = data[columns[selected]][index];\\nreturn val.toString();\\n\"},\"id\":\"1158\",\"type\":\"CustomJSHover\"},{\"attributes\":{\"fill_alpha\":{\"value\":0.1},\"fill_color\":{\"value\":\"#000000\"},\"line_alpha\":{\"value\":0.1},\"line_color\":{\"value\":\"#000000\"},\"size\":{\"units\":\"screen\",\"value\":10},\"x\":{\"field\":\"xs\"},\"y\":{\"field\":\"lr_ys\"}},\"id\":\"1312\",\"type\":\"CircleCross\"},{\"attributes\":{\"source\":{\"id\":\"1227\"}},\"id\":\"1319\",\"type\":\"CDSView\"},{\"attributes\":{\"data_source\":{\"id\":\"1227\"},\"glyph\":{\"id\":\"1316\"},\"hover_glyph\":null,\"muted_glyph\":null,\"nonselection_glyph\":{\"id\":\"1317\"},\"selection_glyph\":null,\"view\":{\"id\":\"1319\"}},\"id\":\"1318\",\"type\":\"GlyphRenderer\"},{\"attributes\":{\"fill_alpha\":{\"value\":0.1},\"fill_color\":{\"value\":\"#000000\"},\"line_alpha\":{\"value\":0.1},\"line_color\":{\"value\":\"#000000\"},\"size\":{\"units\":\"screen\",\"value\":10},\"x\":{\"field\":\"xs\"},\"y\":{\"field\":\"rl_ys\"}},\"id\":\"1317\",\"type\":\"CircleCross\"},{\"attributes\":{},\"id\":\"1548\",\"type\":\"BasicTickFormatter\"},{\"attributes\":{\"end\":6},\"id\":\"1065\",\"type\":\"Range1d\"},{\"attributes\":{\"fill_alpha\":{\"value\":0},\"fill_color\":{\"value\":\"#1f77b4\"},\"height\":{\"units\":\"data\",\"value\":0.5},\"line_alpha\":{\"value\":0},\"width\":{\"units\":\"data\",\"value\":1},\"x\":{\"field\":\"xs\"},\"y\":{\"value\":0.75}},\"id\":\"1367\",\"type\":\"Rect\"},{\"attributes\":{},\"id\":\"1214\",\"type\":\"LinearScale\"},{\"attributes\":{\"source\":{\"id\":\"1507\"}},\"id\":\"1516\",\"type\":\"CDSView\"},{\"attributes\":{\"source\":{\"id\":\"1037\"}},\"id\":\"1041\",\"type\":\"CDSView\"},{\"attributes\":{\"line_color\":\"#000000\",\"x\":{\"field\":\"xs\"},\"y\":{\"field\":\"ys\",\"transform\":{\"id\":\"1371\"}}},\"id\":\"1373\",\"type\":\"Line\"},{\"attributes\":{\"cx\":{\"value\":50},\"cy\":{\"value\":2},\"line_color\":{\"value\":\"lightgreen\"},\"line_width\":{\"value\":4},\"x0\":{\"value\":33},\"x1\":{\"value\":67},\"y0\":{\"value\":15},\"y1\":{\"value\":15}},\"id\":\"1038\",\"type\":\"Quadratic\"},{\"attributes\":{},\"id\":\"1550\",\"type\":\"BasicTickFormatter\"},{\"attributes\":{\"args\":{\"chancesValidDiv\":{\"id\":\"1486\"},\"counterMadeDiv\":{\"id\":\"1485\"},\"cpuSelectedDiv\":{\"id\":\"1484\"},\"makeCounterButton\":{\"id\":\"1491\"},\"startAutomateButton\":{\"id\":\"1489\"}},\"code\":\"\\nconst counterMadeText = counterMadeDiv.text;\\nconst chancesValidText = chancesValidDiv.text;\\n\\nconst canAccessMakeCounter = (\\n  counterMadeText !== '1' && chancesValidText === '1'\\n);\\nconst canAccessStartAutomate = (\\n  counterMadeText === '1' &&\\n  chancesValidText === '1' &&\\n  cpuSelectedDiv.text === '1'\\n);\\n\\nstartAutomateButton.visible = canAccessStartAutomate;\\nmakeCounterButton.visible = canAccessMakeCounter;\\n\"},\"id\":\"1524\",\"type\":\"CustomJS\"},{\"attributes\":{\"formatter\":{\"id\":\"1556\"},\"ticker\":{\"id\":\"1217\"}},\"id\":\"1216\",\"type\":\"LinearAxis\"},{\"attributes\":{\"data_source\":{\"id\":\"1355\"},\"glyph\":{\"id\":\"1443\"},\"hover_glyph\":null,\"muted_glyph\":null,\"nonselection_glyph\":{\"id\":\"1444\"},\"selection_glyph\":null,\"view\":{\"id\":\"1446\"}},\"id\":\"1445\",\"type\":\"GlyphRenderer\"},{\"attributes\":{\"data\":{},\"selected\":{\"id\":\"1587\"},\"selection_policy\":{\"id\":\"1586\"}},\"id\":\"1037\",\"type\":\"ColumnDataSource\"},{\"attributes\":{},\"id\":\"1552\",\"type\":\"BasicTickFormatter\"},{\"attributes\":{\"data_source\":{\"id\":\"1355\"},\"glyph\":{\"id\":\"1367\"},\"hover_glyph\":null,\"muted_glyph\":null,\"nonselection_glyph\":{\"id\":\"1368\"},\"selection_glyph\":null,\"view\":{\"id\":\"1370\"}},\"id\":\"1369\",\"type\":\"GlyphRenderer\"},{\"attributes\":{},\"id\":\"1554\",\"type\":\"BasicTickFormatter\"},{\"attributes\":{},\"id\":\"1221\",\"type\":\"BasicTicker\"},{\"attributes\":{\"text\":\"Shot Status Statistics\",\"text_font_size\":{\"value\":\"16pt\"}},\"id\":\"1063\",\"type\":\"Title\"},{\"attributes\":{},\"id\":\"1556\",\"type\":\"BasicTickFormatter\"},{\"attributes\":{},\"id\":\"1217\",\"type\":\"BasicTicker\"},{\"attributes\":{\"fill_alpha\":{\"value\":0.1},\"fill_color\":{\"value\":\"#1f77b4\"},\"height\":{\"units\":\"data\",\"value\":0.5},\"line_alpha\":{\"value\":0.1},\"width\":{\"units\":\"data\",\"value\":1},\"x\":{\"field\":\"xs\"},\"y\":{\"value\":0.75}},\"id\":\"1368\",\"type\":\"Rect\"},{\"attributes\":{\"fill_color\":{\"value\":\"red\"},\"line_width\":{\"value\":2},\"size\":{\"units\":\"screen\",\"value\":17},\"x\":{\"value\":50},\"y\":{\"value\":69}},\"id\":\"1042\",\"type\":\"Circle\"},{\"attributes\":{\"axis\":{\"id\":\"1216\"},\"grid_line_color\":\"black\",\"ticker\":null,\"visible\":false},\"id\":\"1219\",\"type\":\"Grid\"},{\"attributes\":{},\"id\":\"1558\",\"type\":\"BasicTickFormatter\"},{\"attributes\":{\"v_func\":\"\\nlet newXs = [];\\nxs.forEach(\\n  (v, i) => (newXs.push((i !== 0) ? ((v + i * newXs[i - 1]) / (i + 1)) : v))\\n);\\n\\nreturn newXs;\\n\"},\"id\":\"1371\",\"type\":\"CustomJSTransform\"},{\"attributes\":{\"cx\":{\"value\":50},\"cy\":{\"value\":2},\"line_alpha\":{\"value\":0.1},\"line_color\":{\"value\":\"lightgreen\"},\"line_width\":{\"value\":4},\"x0\":{\"value\":33},\"x1\":{\"value\":67},\"y0\":{\"value\":15},\"y1\":{\"value\":15}},\"id\":\"1039\",\"type\":\"Quadratic\"},{\"attributes\":{\"active_drag\":\"auto\",\"active_inspect\":\"auto\",\"active_multi\":null,\"active_scroll\":\"auto\",\"active_tap\":\"auto\",\"tools\":[{\"id\":\"1333\"}]},\"id\":\"1224\",\"type\":\"Toolbar\"},{\"attributes\":{\"source\":{\"id\":\"1355\"}},\"id\":\"1370\",\"type\":\"CDSView\"},{\"attributes\":{\"data_source\":{\"id\":\"1037\"},\"glyph\":{\"id\":\"1038\"},\"hover_glyph\":null,\"muted_glyph\":null,\"nonselection_glyph\":{\"id\":\"1039\"},\"selection_glyph\":null,\"view\":{\"id\":\"1041\"}},\"id\":\"1040\",\"type\":\"GlyphRenderer\"},{\"attributes\":{\"axis\":{\"id\":\"1220\"},\"dimension\":1,\"grid_line_color\":\"black\",\"ticker\":null,\"visible\":false},\"id\":\"1223\",\"type\":\"Grid\"},{\"attributes\":{},\"id\":\"1560\",\"type\":\"BasicTickFormatter\"},{\"attributes\":{\"args\":{\"autoNextButton\":{\"id\":\"1490\"},\"startAutomateButton\":{\"id\":\"1489\"}},\"code\":\"\\nconst val = (this.text !== 'false');\\nautoNextButton.disabled = val;\\nstartAutomateButton.disabled = val;\\n\"},\"id\":\"1525\",\"type\":\"CustomJS\"},{\"attributes\":{\"formatter\":{\"id\":\"1558\"},\"ticker\":{\"id\":\"1221\"}},\"id\":\"1220\",\"type\":\"LinearAxis\"},{\"attributes\":{},\"id\":\"1562\",\"type\":\"BasicTickFormatter\"},{\"attributes\":{\"text\":\"-1\"},\"id\":\"1226\",\"type\":\"Div\"},{\"attributes\":{},\"id\":\"1564\",\"type\":\"StringEditor\"},{\"attributes\":{\"data_source\":{\"id\":\"1227\"},\"glyph\":{\"id\":\"1261\"},\"hover_glyph\":null,\"muted_glyph\":null,\"nonselection_glyph\":{\"id\":\"1262\"},\"selection_glyph\":null,\"view\":{\"id\":\"1264\"}},\"id\":\"1263\",\"type\":\"GlyphRenderer\"},{\"attributes\":{\"args\":{\"aimTextInputs\":[{\"id\":\"1500\"},{\"id\":\"1501\"},{\"id\":\"1502\"},{\"id\":\"1503\"},{\"id\":\"1504\"},{\"id\":\"1505\"}],\"chancesGT1Tip\":{\"id\":\"1482\"},\"chancesLT0Tip\":{\"id\":\"1481\"},\"chancesNE1Tip\":{\"id\":\"1483\"},\"chancesValidDiv\":{\"id\":\"1486\"},\"startAutomateButton\":{\"id\":\"1489\"},\"tableSrc\":{\"id\":\"1517\"}},\"code\":\"\\n//Hide start button:\\nstartAutomateButton.visible = false;\\n\\nconst aimVals = aimTextInputs.map(\\n  (v) => parseFloat(v.value)\\n);\\n\\n//Handle Validity Checks 1 & 2:\\nconst isValid1 = (Math.max(...aimVals) <= 1);\\nconst isValid2 = (Math.min(...aimVals) >= 0);\\n\\n//Handle Validity check 3:\\nconst total = aimVals.reduce((a, b) => a + b);\\nconst isValid3 = (Math.abs(total - 1) <= 0.0000001);\\n\\nchancesGT1Tip.visible = !isValid1;\\nchancesLT0Tip.visible = !isValid2;\\nchancesNE1Tip.visible = !isValid3;\\n\\ntableSrc.data['chances'] = aimVals.slice();\\ntableSrc.change.emit();\\n\\nchancesValidDiv.text = ((isValid1 && isValid2 && isValid3) ? '1' : '0');\\n\"},\"id\":\"1535\",\"type\":\"CustomJS\"},{\"attributes\":{\"data_source\":{\"id\":\"1227\"},\"glyph\":{\"id\":\"1256\"},\"hover_glyph\":null,\"muted_glyph\":null,\"name\":\"4\",\"nonselection_glyph\":{\"id\":\"1257\"},\"selection_glyph\":null,\"view\":{\"id\":\"1259\"}},\"id\":\"1258\",\"type\":\"GlyphRenderer\"},{\"attributes\":{\"line_alpha\":0.1,\"line_color\":\"#000000\",\"x\":{\"field\":\"xs\"},\"y\":{\"value\":0.6}},\"id\":\"1444\",\"type\":\"Line\"},{\"attributes\":{},\"id\":\"1565\",\"type\":\"StringFormatter\"},{\"attributes\":{\"fill_color\":{\"value\":\"whitesmoke\"},\"line_width\":{\"value\":2},\"size\":{\"units\":\"screen\",\"value\":17},\"x\":{\"value\":50},\"y\":{\"value\":13}},\"id\":\"1044\",\"type\":\"Circle\"},{\"attributes\":{\"fill_alpha\":{\"value\":0.1},\"fill_color\":{\"value\":\"#AFC8AF\"},\"line_alpha\":{\"value\":0.1},\"line_color\":{\"value\":\"#96AF96\"},\"size\":{\"units\":\"screen\",\"value\":5},\"x\":{\"field\":\"xs\"},\"y\":{\"field\":\"lr_ys\"}},\"id\":\"1262\",\"type\":\"CircleCross\"},{\"attributes\":{},\"id\":\"1566\",\"type\":\"StringEditor\"},{\"attributes\":{\"button_type\":\"success\",\"icon\":null,\"js_event_callbacks\":{\"button_click\":[{\"id\":\"1529\"}]},\"label\":\"Figure 1\",\"sizing_mode\":\"scale_width\",\"visible\":false,\"width_policy\":\"fit\"},\"id\":\"1493\",\"type\":\"Button\"},{\"attributes\":{\"fill_color\":{\"value\":\"lightblue\"},\"line_width\":{\"value\":2},\"size\":{\"units\":\"screen\",\"value\":21},\"x\":{\"value\":50},\"y\":{\"value\":16}},\"id\":\"1045\",\"type\":\"Circle\"},{\"attributes\":{\"fill_color\":{\"value\":\"#AFC8AF\"},\"line_color\":{\"value\":\"#96AF96\"},\"size\":{\"units\":\"screen\",\"value\":5},\"x\":{\"field\":\"xs\"},\"y\":{\"field\":\"lr_ys\"}},\"id\":\"1261\",\"type\":\"CircleCross\"},{\"attributes\":{\"data_source\":{\"id\":\"1047\"},\"glyph\":{\"id\":\"1042\"},\"hover_glyph\":null,\"muted_glyph\":null,\"view\":{\"id\":\"1049\"}},\"id\":\"1048\",\"type\":\"GlyphRenderer\"},{\"attributes\":{\"data_source\":{\"id\":\"1355\"},\"glyph\":{\"id\":\"1373\"},\"hover_glyph\":null,\"muted_glyph\":null,\"nonselection_glyph\":{\"id\":\"1374\"},\"selection_glyph\":null,\"view\":{\"id\":\"1376\"}},\"id\":\"1375\",\"type\":\"GlyphRenderer\"},{\"attributes\":{},\"id\":\"1567\",\"type\":\"StringFormatter\"},{\"attributes\":{\"data\":{\"Left\":[0,0,0],\"Right\":[0,0,0]},\"selected\":{\"id\":\"1629\"},\"selection_policy\":{\"id\":\"1628\"}},\"id\":\"1526\",\"type\":\"ColumnDataSource\"},{\"attributes\":{\"source\":{\"id\":\"1355\"}},\"id\":\"1376\",\"type\":\"CDSView\"},{\"attributes\":{\"data_source\":{\"id\":\"1355\"},\"glyph\":{\"id\":\"1448\"},\"hover_glyph\":null,\"muted_glyph\":null,\"nonselection_glyph\":{\"id\":\"1449\"},\"selection_glyph\":null,\"view\":{\"id\":\"1451\"}},\"id\":\"1450\",\"type\":\"GlyphRenderer\"},{\"attributes\":{\"args\":{\"aimTextInputs\":[{\"id\":\"1500\"},{\"id\":\"1501\"},{\"id\":\"1502\"},{\"id\":\"1503\"},{\"id\":\"1504\"},{\"id\":\"1505\"}],\"automationTableSrc\":{\"id\":\"1517\"},\"counterMadeDiv\":{\"id\":\"1485\"},\"goalieCounterSrc\":{\"id\":\"1526\"},\"makeCounterButton\":{\"id\":\"1491\"}},\"code\":\"\\nconst chances = automationTableSrc.data['chances'];\\n\\n//Hides the automation table as it is un-needed:\\naimTextInputs.forEach(\\n  (v) => v.visible = false\\n);\\n\\nconst rDict = {\\n  'LeftLeft'   : 0.55, 'LeftMiddle'   : 0.65, 'LeftRight'   : 0.93,\\n  'MiddleLeft' : 0.74, 'MiddleMiddle' : 0.60, 'MiddleRight' : 0.72,\\n  'RightLeft'  : 0.95, 'RightMiddle'  : 0.73, 'RightRight'  : 0.70\\n};\\nconst lDict = {\\n  'LeftLeft'   : 0.67, 'LeftMiddle'   : 0.70, 'LeftRight'   : 0.96,\\n  'MiddleLeft' : 0.74, 'MiddleMiddle' : 0.60, 'MiddleRight' : 0.72,\\n  'RightLeft'  : 0.87, 'RightMiddle'  : 0.65, 'RightRight'  : 0.61\\n};\\nconst scoreProbDicts = {\\n  'Right' : rDict,\\n  'Left'  : lDict\\n};\\n\\nconst directions = ['Left', 'Middle', 'Right'];\\n\\n['Left', 'Right'].forEach(\\n  (foot, footIndex) => {\\n    const aimChances = chances.slice(3 * footIndex, 3 * (footIndex + 1));\\n\\n    const scoreChancesDict = scoreProbDicts[foot];\\n    const risks = [0, 0, 0];\\n\\n    directions.forEach(\\n      (v, i) => {\\n        directions.forEach(\\n          (v2, i2) => risks[i] += (aimChances[i2] * scoreChancesDict[v2 + v])\\n        )\\n      }\\n    );\\n\\n    const stratToTake = risks.indexOf(Math.min(...risks));\\n    goalieCounterSrc.data[foot][stratToTake] = 1;\\n  }\\n);\\n\\ngoalieCounterSrc.change.emit();\\n\\nmakeCounterButton.visible = false;\\n\\ncounterMadeDiv.text = '1';\\n\"},\"id\":\"1527\",\"type\":\"CustomJS\"},{\"attributes\":{},\"id\":\"1568\",\"type\":\"StringEditor\"},{\"attributes\":{\"args\":{\"src\":{\"id\":\"1355\"}},\"code\":\"\\nconst index = special_vars.index;\\nconst data = src.data;\\ndata['highlight_alphas'].fill(0);\\ndata['highlight_alphas'][index] = 1;\\nsrc.change.emit();\\nreturn data['ys'][index].toString();\\n\"},\"id\":\"1467\",\"type\":\"CustomJSHover\"},{\"attributes\":{\"args\":{\"advSpdSlider\":{\"id\":\"1499\"},\"aimTextInputs\":[{\"id\":\"1500\"},{\"id\":\"1501\"},{\"id\":\"1502\"},{\"id\":\"1503\"},{\"id\":\"1504\"},{\"id\":\"1505\"}],\"autoAdvButton\":{\"id\":\"1497\"},\"automationTable\":{\"id\":\"1521\"},\"ball\":{\"id\":\"1044\"},\"chancesSrc\":{\"id\":\"1517\"},\"counterSrc\":{\"id\":\"1526\"},\"distTable\":{\"id\":\"1515\"},\"distTableSrc\":{\"id\":\"1507\"},\"gameFig\":{\"id\":\"1002\"},\"gameFigButton\":{\"id\":\"1492\"},\"goalieBody\":{\"id\":\"1043\"},\"goalieHead\":{\"id\":\"1042\"},\"inAnIter\":{\"id\":\"1487\"},\"iterSlider\":{\"id\":\"1498\"},\"nextButton\":{\"id\":\"1490\"},\"nround\":{\"id\":\"1477\"},\"score\":{\"id\":\"1478\"},\"startButton\":{\"id\":\"1489\"},\"statsFig1\":{\"id\":\"1062\"},\"statsFig1Button\":{\"id\":\"1493\"},\"statsFig1Src\":{\"id\":\"1108\"},\"statsFig2\":{\"id\":\"1161\"},\"statsFig2Button\":{\"id\":\"1494\"},\"statsFig2Src\":{\"id\":\"1181\"},\"statsFig3\":{\"id\":\"1205\"},\"statsFig3Button\":{\"id\":\"1495\"},\"statsFig3Src\":{\"id\":\"1227\"},\"statsFig4\":{\"id\":\"1335\"},\"statsFig4Button\":{\"id\":\"1496\"},\"statsFig4Src\":{\"id\":\"1355\"},\"stratDropdown\":{\"id\":\"1506\"},\"stratToUseDiv\":{\"id\":\"1479\"},\"txt\":{\"id\":\"1471\"}},\"code\":\"\\nfunction initialIterationAdjustments(){\\n  /**\\n  * A function for making initial adjustments for the iteration.\\n  */\\n  //Set references:\\n  const fig2Data = statsFig2Src.data;\\n  const fig3Data = statsFig3Src.data;\\n  const fig4Data = statsFig4Src.data;\\n\\n  //Get iteration value:\\n  const iterations = iterSlider.value;\\n\\n  //Set figure x range limits:\\n  statsFig2.x_range.end = iterations + 0.5;\\n  statsFig3.x_range.end = iterations + 0.5;\\n  statsFig4.x_range.end = iterations + 0.5;\\n\\n  //Get array length:\\n  const arrLength = iterations + 1;\\n\\n  //Create x Value Arrays for Sources:\\n  const fig2Xs = new Array(arrLength).fill(0);\\n  fig2Xs.forEach(\\n    (v, i) => fig2Xs[i] = i\\n  );\\n  const fig3Xs = fig2Xs.slice();\\n  const fig4Xs = fig2Xs.slice(1);\\n\\n  //Set Fig2 Source Values:\\n  fig2Data['xs'] = fig2Xs;\\n  fig2Data['ys'] = [0].concat(new Array(iterations));\\n  fig2Data['chance_ys'] = [0].concat(new Array(iterations));\\n  fig2Data['highlight_alphas'] = new Array(arrLength).fill(0);\\n  fig2Data['heights'] = new Array(arrLength);\\n\\n  //Set Fig3 Source Values:\\n  fig3Data['xs'] = fig3Xs;\\n  //First values are manually calculated constants:\\n  fig3Data['ll_ys'] = [0.760000].concat(new Array(iterations).fill(0));\\n  fig3Data['lm_ys'] = [0.650000].concat(new Array(iterations).fill(0));\\n  fig3Data['lr_ys'] = [0.763333].concat(new Array(iterations).fill(0));\\n  fig3Data['rl_ys'] = [0.746666].concat(new Array(iterations).fill(0));\\n  fig3Data['rm_ys'] = [0.660000].concat(new Array(iterations).fill(0));\\n  fig3Data['rr_ys'] = [0.783333].concat(new Array(iterations).fill(0));\\n  fig3Data['hb1'] = new Array(arrLength);\\n  fig3Data['hb2'] = new Array(arrLength);\\n  fig3Data['hb3'] = new Array(arrLength);\\n  fig3Data['hb4'] = new Array(arrLength);\\n  fig3Data['hb5'] = new Array(arrLength);\\n  fig3Data['hb6'] = new Array(arrLength);\\n  fig3Data['highlight_alphas'] = new Array(arrLength).fill(0);\\n  fig3Data['alphas_zeroes'] = new Array(arrLength).fill(0);\\n\\n  //Set Fig4 Source Values:\\n  fig4Data['xs'] = fig4Xs;\\n  fig4Data['ys'] = new Array(iterations);\\n  fig4Data['feet'] = new Array(iterations);\\n  fig4Data['directions'] = new Array(iterations);\\n  fig4Data['actions'] = new Array(iterations);\\n  fig4Data['highlight_alphas'] = new Array(iterations).fill(0);\\n  fig4Data['avgs_placeholder'] = new Array(iterations).fill(0);\\n\\n  statsFig2Src.change.emit();\\n  statsFig3Src.change.emit();\\n  statsFig4Src.change.emit();\\n}\\n\\ninitialIterationAdjustments();\\n\\nstartButton.visible = false;\\nnextButton.visible = true;\\naimTextInputs.forEach(\\n  (v) => v.visible = false\\n)\\niterSlider.visible = false;\\nstratDropdown.visible = false;\\nautomationTable.visible = false;\\n\\nconst rDict = {\\n  'LeftLeft'   : 0.55, 'LeftMiddle'   : 0.65, 'LeftRight'   : 0.93,\\n  'MiddleLeft' : 0.74, 'MiddleMiddle' : 0.60, 'MiddleRight' : 0.72,\\n  'RightLeft'  : 0.95, 'RightMiddle'  : 0.73, 'RightRight'  : 0.70\\n};\\nconst lDict = {\\n  'LeftLeft'   : 0.67, 'LeftMiddle'   : 0.70, 'LeftRight'   : 0.96,\\n  'MiddleLeft' : 0.74, 'MiddleMiddle' : 0.60, 'MiddleRight' : 0.72,\\n  'RightLeft'  : 0.87, 'RightMiddle'  : 0.65, 'RightRight'  : 0.61\\n};\\nconst scoreProbDicts = {\\n  'Right' : rDict,\\n  'Left'  : lDict\\n};\\n\\nconst directions = ['Left', 'Middle', 'Right'];\\n\\nconst arrSumFunc = ((a, b) => a + b);\\n\\nconst chances = chancesSrc.data['chances'];\\nconst distData = distTableSrc.data;\\nconst freq = distData['freq'];\\n\\nfunction gameIter(){\\n  const itersToRun = iterSlider.value;\\n\\n  const gameStrat = stratToUseDiv.text;\\n\\n  const stratIsFictPlay = (gameStrat === 'Fictitious_Play');\\n\\n  let perceivedRiskL;\\n  let perceivedRiskM;\\n  let perceivedRiskR;\\n\\n  let goalieAction = '';\\n\\n  let kickerFoot = '';\\n  let kickerKick = '';\\n\\n  let goal = 0;\\n  let gameScore = 0;\\n  let roundsPlayed = 0;\\n\\n  let roundScoreChance = 0;\\n\\n  [kickerFoot, kickerKick] = rollKickerAction();\\n\\n  const footIsLeft = (kickerFoot === 'Left');\\n  const footDict = scoreProbDicts[kickerFoot];\\n  const kfRAdjust = (footIsLeft) ? 0 : 3;\\n\\n  switch(gameStrat) {\\n    case 'Fictitious_Play':\\n      [goalieAction, perceivedRiskL, perceivedRiskM, perceivedRiskR] = (\\n        fictitiousPlay(footIsLeft, footDict)\\n      );\\n      break;\\n    case 'Mixed_Strategy':\\n      goalieAction = optimalMixed(kickerFoot);\\n      break;\\n    case 'Random':\\n      goalieAction = randomChoice();\\n      break;\\n    case 'Goalie_Cheats':\\n      goalieAction = goalieCheats(kickerFoot);\\n      break;\\n    default:\\n      //TODO throw an error\\n      break;\\n  }\\n\\n  const directionsIndexGa = directions.indexOf(goalieAction); //DirectionsIndexGoalieAction\\n  const actionsIndexKFKK = kfRAdjust + directions.indexOf(kickerKick); //Actions index KFKK\\n\\n  [goal, gameScore, roundsPlayed, roundScoreChance] = scoring(\\n    footDict,\\n    kickerKick,\\n    goalieAction,\\n    actionsIndexKFKK\\n  );\\n\\n  const roundIsLastIter = (roundsPlayed >= itersToRun);\\n\\n  animateIter(goalieAction, kickerKick, goal);\\n\\n  goalieDecisionTracking(\\n    actionsIndexKFKK,\\n    kfRAdjust,\\n    directionsIndexGa,\\n    stratIsFictPlay,\\n    perceivedRiskL,\\n    perceivedRiskM,\\n    perceivedRiskR\\n  );\\n\\n  if(roundIsLastIter) { handleFigVisibility(stratIsFictPlay); }\\n\\n  iterText(roundsPlayed, gameScore, goal);\\n}\\n\\n//Setup the promise that enforces waiting for the delay to finish:\\nconst iterationDelay = (\\n  //Creates the promise with parameter ms:\\n  (ms) => new Promise(\\n    //Waits for ms seconds before resolving:\\n    (resolve) => setTimeout(\\n      () => {\\n        resolve();\\n      },\\n      ms\\n    )\\n  )\\n);\\n\\nasync function gameLoop(){\\n  /**\\n  * An async function that runs each iteration of the game. Recurses after a\\n  * delay if the necessary conditions are fulfilled.\\n  */\\n  //Take value for if another iteration is running:\\n  let tempIterVal = inAnIter.text;\\n\\n  //If there is not another iteration running:\\n  if(tempIterVal === 'false'){\\n    //Set the value of inAnIter to reflect that an iteration is now running:\\n    inAnIter.text = 'true';\\n\\n    //Run the game iteration:\\n    gameIter();\\n\\n    //Tell itself that it has finished running the iteration:\\n    tempIterVal = 'false';\\n\\n    //True if not in the last iteration of the game:\\n    const notLastRound = (parseInt(nround.text) < iterSlider.value);\\n\\n    //True if the button is activated by the user:\\n    const autoAdvActive = (autoAdvButton.active);\\n\\n    //True if both conditions are true:\\n    const conditionsFulfilled = (notLastRound && autoAdvActive);\\n\\n    //If all recursion conditions are fulfilled:\\n    if(conditionsFulfilled){\\n      //Await the delay, then recurse:\\n      await iterationDelay(advSpdSlider.value).then(\\n        () => {\\n          //Designate that an iteration is no longer running:\\n          inAnIter.text = 'false';\\n\\n          //Recurse:\\n          gameLoop();\\n        }\\n      );\\n    } else {\\n      //Designate that an iteration is no longer running:\\n      inAnIter.text = 'false';\\n    }\\n  }\\n}\\n\\ngameLoop();\\n\\nfunction iterText(roundsPlayed, gameScore, goal) {\\n  /**\\n   * Changes the game text to display the rounds played, game score and the\\n   * kicker's scoring result.\\n   * @param{string} roundsPlayed -- A string containing an int that shows the\\n   * iterations run.\\n   * @param{string} gameScore -- A string containing an int that shows the\\n   * current iteration's score.\\n   * @param{int} goal -- An int equal to either 1 or -1. Value of 1 is for if a\\n   * goal was scored during the iteration.\\n   */\\n  //Set Game Text Lines:\\n  txt.data['text'] = [\\n    `Rounds played: ${roundsPlayed}`,\\n    `Total score: ${gameScore}`,\\n    '',\\n    (goal === 1) ? 'GOAL!' : 'Blocked'\\n  ];\\n  txt.change.emit(); //Finalize changes by emitting to source\\n}\\n\\nfunction rollKickerAction() {\\n  /**\\n  * Selects a kicker pure strategy by converting the pure strategy selection\\n  * chances array to a form where each value has the previous values added to\\n  * them, so that the strategy can then be chosen by comparing the values to a\\n  * random roll. The kicker foot and direction are then determined according to\\n  * the strategy index before being returned in an array.\\n  * @return{array} -- An array that contains strings representing the kicker\\n  * foot, and their chosen kick direction. The kicker foot string can have value\\n  * equal to 'Left' or 'Right', and the kick direction has to be equal to either\\n  * 'Left', 'Middle', or 'Right'.\\n  */\\n  //Copy chances into array, then modify array to act as roll thresholds:\\n  let arrVals = [0].concat(chances.slice());\\n  arrVals.slice(1).forEach(\\n    (v, i) => arrVals[i + 1] += arrVals[i]\\n  );\\n\\n  //Determine actions to take based off roll comparison to thresholds:\\n  let index = 5;\\n  const roll = Math.random();\\n  arrVals.slice(0, 6).forEach(\\n    (v) => {\\n      if(roll < v) { index -= 1; }\\n    }\\n  );\\n  return [\\n    (index < 3) ? 'Left' : 'Right',\\n    directions[(index % 3)]\\n  ];\\n}\\n\\n//Handle Goalie Decision\\nfunction fictitiousPlay(footIsLeft, footDict) {\\n  /**\\n  * Determines the keeper's action according to Fictitious Play.\\n  * @param{bool} footIsLeft -- a bool containing whether or not the kicker is\\n  * left-footed.\\n  * @param{dict} footDict -- The dict that contains the score chances for the\\n  * different possible kicker foot kicker action outcomes.\\n  * @return{array} -- An array containing the direction for the keeper to dive,\\n  * and the keeper's perceived risks for each possible action from left to\\n  * right.\\n  */\\n  //Set decision making values to use according to kickerFoot:\\n  const freqs = (footIsLeft) ? freq.slice(0, 3) : freq.slice(3, 6);\\n\\n  //Calculate goalie perceived risks:\\n  const tsr = freqs.reduce(arrSumFunc);\\n  const eFreqs = (tsr !== 0) ? freqs.map(x => x / tsr) : [1/3, 1/3, 1/3];\\n  const risks = [0, 0, 0];\\n  directions.forEach(\\n    (v1, i) => directions.forEach(\\n      (v2, j) => risks[i] += eFreqs[j] * footDict[v2 + v1]\\n    )\\n  );\\n\\n  //return goalie action and perceived risks:\\n  const actionIndex = risks.indexOf(Math.min(...risks));\\n  return [\\n    directions[actionIndex],\\n    ...risks\\n  ];\\n}\\n\\nfunction optimalMixed(kickerFoot) {\\n  /**\\n  * Determines the keeper's action according to the optimal mixed strategy for\\n  * the keeper.\\n  * param{string} kickerFoot -- Either 'Left' or 'Right' representing the\\n  * kicker's footedness.\\n  * return{string} -- Either 'Left', 'Middle', or 'Right' representing the\\n  * keeper's direction to dive.\\n  */\\n  //selects and returns an action based off of optimal mixed strategy chances:\\n  const thresholds = {\\n    'Left'  : 0.8,\\n    'Right' : 0.7419\\n  };\\n  const goKickerFoot = (Math.random() >= thresholds[kickerFoot]);\\n  return (goKickerFoot) ? kickerFoot : 'Middle';\\n}\\n\\nfunction randomChoice() {\\n  /**\\n  * Determines the keeper's action at random.\\n  * return{string} -- Either 'Left', 'Middle', or 'Right' representing the\\n  * keeper's direction to dive.\\n  */\\n  //Selects and returns an action from directions at an equal chance:\\n  const actionIndex = Math.round(Math.random()*3 - 0.5);\\n  return directions[actionIndex];\\n}\\n\\nfunction goalieCheats(kickerFoot) {\\n  /**\\n  * Determines the keeper's action according to a previously created strategy.\\n  * param{string} kickerFoot -- Either 'Left' or 'Right' representing the\\n  * kicker's footedness.\\n  * return{string} -- Either 'Left', 'Middle', or 'Right' representing the\\n  * keeper's direction to dive.\\n  */\\n  //return the action of the pure strategy corresponding to the kicker foot:\\n\\n  const actionIndex = counterSrc.data[kickerFoot].indexOf(1);\\n  return directions[actionIndex];\\n}\\n\\nfunction handleFigVisibility(stratIsFictPlay) {\\n  nextButton.visible = false;\\n  distTable.visible = false;\\n  autoAdvButton.visible = false;\\n  advSpdSlider.visible = false;\\n  gameFigButton.visible = true;\\n\\n}\\n\\nfunction scoring(footDict, kickerKick, goalieAction, actionsIndexKFKK) {\\n  /**\\n  * Handles the scoring for the game.\\n  * param{dict} footDict -- The dict containing the score chances according to\\n  * the different possible kicker kick direction and keeper dive direction\\n  * outcomes for the kicker's footedness.\\n  * param{string} kickerKick -- Either 'Left', 'Middle', or 'Right' for the\\n  * kicker's kick direction.\\n  * param{string} goalieAction -- Either 'Left', 'Middle', or 'Right' for the\\n  * keeper's dive direction.\\n  * param{int} actionsIndexKFKK -- an int designating an index selected\\n  * previously according to the kicker's footedness and kick directions.\\n  */\\n  //Set function values:\\n  const scoreRoll = Math.random();\\n  const scoreChance = footDict[kickerKick + goalieAction];\\n  const roundsPlayed = parseInt(nround.text) + 1;\\n  const roundScore = (scoreRoll <= scoreChance) ? +1 : -1;\\n\\n  //Update columns:\\n  const scoreChanceCol = distData['striker_score_chance'];\\n  const scoreRollCol = distData['striker_score_roll'];\\n  scoreChanceCol.fill(0);\\n  scoreRollCol.fill(0);\\n  scoreChanceCol[actionsIndexKFKK] = scoreChance;\\n  scoreRollCol[actionsIndexKFKK] = scoreRoll.toPrecision(6);\\n\\n  //Update text:\\n  nround.text = roundsPlayed.toString();\\n  const currentGameScore = parseInt(score.text) + roundScore;\\n  score.text = currentGameScore.toString();\\n\\n  return [roundScore, currentGameScore, roundsPlayed, scoreChance];\\n}\\n\\nfunction _moveGoalie(xLoc) {\\n  /**\\n  * Moves the goalie to the specified x coordinate.\\n  * param{int} xLoc -- The x coord to move to.\\n  */\\n  //Move both components of the goalie:\\n  goalieBody.x = xLoc;\\n  goalieHead.x = xLoc;\\n}\\n\\nfunction animateIter(goalieAction, kickerKick, goal) {\\n  /**\\n  * Handles the animation for the iteration.\\n  * @param{string} goalieAction -- Either 'Left', 'Middle', 'Right' signifying\\n  * the keeper's dive direction.\\n  * @param{string} kickerKick -- Either 'Left', 'Middle', 'Right' signifying the\\n  * kicker's kick direction.\\n  * @param{int} goal -- Either 1 or -1 for the iteration score change.\\n  */\\n  //Set positions and store ball roll for handling cases:\\n  const goalieActionIsKickerKick = (goalieAction === kickerKick);\\n  const goalNotScored = (goal === -1);\\n  const gPos = {\\n    'Left'   : [37, 43],\\n    'Middle' : [47, 53],\\n    'Right'  : [57, 63]\\n  };\\n  const outOfGoalPos = {\\n    'Left'   : [30, 30],\\n    'Middle' : [30, 70],\\n    'Right'  : [70, 70]\\n  };\\n  const shotUnluckyMiss = (goalNotScored && !goalieActionIsKickerKick);\\n  const bPos = (shotUnluckyMiss) ? outOfGoalPos : gPos;\\n  const bRoll = Math.round(Math.random());\\n\\n  ball.x = bPos[kickerKick][bRoll];\\n  ball.y = 63;\\n  if(goalieActionIsKickerKick){\\n    const goalieRolledX = gPos[goalieAction][[1, 0][bRoll]];\\n    const goalieX = (goalNotScored) ? ball.x : goalieRolledX;\\n    _moveGoalie(goalieX);\\n  } else {\\n    const goalieX = gPos[goalieAction][Math.round(Math.random())];\\n    _moveGoalie(goalieX);\\n  }\\n}\\n\\nfunction goalieDecisionTracking(\\n  actionsIndexKFKK,\\n  kfRAdjust,\\n  directionsIndexGa,\\n  stratIsFictPlay,\\n  perceivedRiskL,\\n  perceivedRiskM,\\n  perceivedRiskR\\n) {\\n  /**\\n  * Tracks game data and puts it into the dist table.\\n  * @param{int} actionsIndexKFKK -- An int for adjusting indexes around the\\n  * kicker foot and kicker kick directions.\\n  * @param{int} kfRAdjust -- An int for adjusting indexes if the kicker is\\n  * right-footed.\\n  * @param{int} directionsIndexGa -- An int for the index of the keeper\\n  * dive direction.\\n  * @param{bool} stratIsFictPlay -- A bool for whether or not the keeper is\\n  * using fictitious play.\\n  * @param{float} perceivedRiskL -- The keeper's perceived risks for diving left.\\n  * @param{float} perceivedRiskM -- The keeper's perceived risks for diving middle.\\n  * @param{float} perceivedRiskR -- The keeper's perceived risks for diving right.\\n  */\\n\\n  //Increase corresponding trackers to KFKK and KFGA:\\n  freq[actionsIndexKFKK] += 1;\\n  const decisionsIndex = kfRAdjust + directionsIndexGa;\\n  distData['decisions'][decisionsIndex] += 1;\\n\\n  //Update table perceived risks if fictitious play:\\n  if(stratIsFictPlay) {\\n    _updateDecisionTableRisks(\\n      perceivedRiskL,\\n      perceivedRiskM,\\n      perceivedRiskR,\\n      kfRAdjust\\n    );\\n  }\\n\\n  //Update table by finalizing changes to source:\\n  distTableSrc.change.emit();\\n}\\n\\nfunction _updateDecisionTableRisks(\\n  perceivedRiskL,\\n  perceivedRiskM,\\n  perceivedRiskR,\\n  kfRAdjust\\n) {\\n  /**\\n  * updates the dist table's risk values.\\n  * @param{float} perceivedRiskL -- The keeper's perceived risks for diving left.\\n  * @param{float} perceivedRiskM -- The keeper's perceived risks for diving middle.\\n  * @param{float} perceivedRiskR -- The keeper's perceived risks for diving right.\\n  * @param{int} kfRAdjust -- An int for adjusting indexes if the kicker is\\n  * right-footed.\\n  */\\n  //Reset column then set perceived risk for rows corresponding to kicker foot:\\n  const risks = distData['goalie_perceived_risks'];\\n\\n  risks.fill(0);\\n  const prs = [\\n    perceivedRiskL.toPrecision(6),\\n    perceivedRiskM.toPrecision(6),\\n    perceivedRiskR.toPrecision(6)\\n  ];\\n  prs.forEach(\\n    (v, i) => risks[kfRAdjust + i] = v\\n  );\\n}\\n\\nfunction _fig1Iter(\\n  goal,\\n  directionsIndexGa,\\n  sections,\\n  fig1Data,\\n  actionsIndexKFKK\\n) {\\n  /**\\n  * Handles the data for an iteration in Game Stats Figure 1.\\n  * @param{int} goal -- Either -1 or 1 for the iterations score change.\\n  * @param{int} directionsIndexGa -- An int for the index of the keeper\\n  * dive direction.\\n  * @param{array} sections -- An array containing the column names for the bar\\n  * sections in Figure 1.\\n  * @param{dict} fig1Data -- The data for game stats figure 1.\\n  * @param{int} actionsIndexKFKK -- An int for adjusting indexes around the\\n  * kicker foot and kicker kick directions.\\n  */\\n  //Increase section value of iteration result by 1:\\n  const sectionIndex = (goal === 1) ? 0 : directionsIndexGa + 1;\\n  const section = sections[sectionIndex];\\n  fig1Data[section][actionsIndexKFKK] += 1;\\n}\\n\\nfunction _fig1Adjust(sections, fig1Data) {\\n  /**\\n  * Adjusts Game Stats Figure 1.\\n  * @param{array} sections -- An array containing the column names for the bar\\n  * sections in Figure 1.\\n  * @param{dict} fig1Data -- The data for game stats figure 1.\\n  */\\n  //Get total heights of kfkk bars:\\n  const heights = [0, 0, 0, 0, 0, 0]\\n  sections.forEach(\\n    (v1) => fig1Data[v1].forEach(\\n      (v2, i) => heights[i] += v2\\n    )\\n  );\\n\\n  //Set y max to 1.1 * the height of the tallest kfkk bar (rounded):\\n  statsFig1.y_range.end = Math.round(Math.max(...heights) * 1.1);\\n}\\n\\nfunction updateFig1(\\n  goal,\\n  directionsIndexGa,\\n  actionsIndexKFKK,\\n  roundIsLastIter\\n) {\\n  /**\\n  * Updates the data for Game Stats Figure 1.\\n  * @param{int} goal -- Either -1 or 1 for the iterations score change.\\n  * @param{int} directionsIndexGa -- An int for the index of the keeper\\n  * dive direction.\\n  * @param{int} actionsIndexKFKK -- An int for adjusting indexes around the\\n  * kicker foot and kicker kick directions.\\n  * @param{bool} roundIsLastIter -- Whether or not the iteration is the last one.\\n  */\\n  //create constants for referencing:\\n  const fig1Data = statsFig1Src.data;\\n  const sections = ['scored_y', 'blockedl_y', 'blockedm_y', 'blockedr_y'];\\n\\n  //Update the figure for the iteration:\\n  _fig1Iter(goal, directionsIndexGa, sections, fig1Data, actionsIndexKFKK);\\n\\n  //Make final adjustments if it is the final iteration:\\n  if(roundIsLastIter) { _fig1Adjust(sections, fig1Data); }\\n\\n  //Update the figure by finalizing the changes to the data source:\\n  statsFig1Src.change.emit();\\n}\\n\\nfunction _fig2Iter(fig2Data, roundsPlayed, gameScore, roundScoreChance) {\\n  /**\\n  * Handles an iteration of data for Game Stats Figure 2.\\n  * @param{dict} fig2Data -- The data for Game Stats Figure 2.\\n  * @param{int} roundsPlayed -- The number of iterations played.\\n  * @param{int} gameScore -- The score for the game at the current iteration.\\n  * @param{float} roundScoreChance -- The chance of scoring for the played iteration.\\n  */\\n  //Plot Values:\\n  fig2Data['ys'][roundsPlayed] = gameScore;\\n  fig2Data['chance_ys'][roundsPlayed] = 2*roundScoreChance - 1;\\n}\\n\\nfunction _fig2Adjust(fig2Data, itersToRun) {\\n  /**\\n  * Adjusts the data for Game Stats Figure 2.\\n  * @param{dict} fig2Data -- The data for Game Stats Figure 2.\\n  * @param{int} itersToRun -- The number of iterations total for the game.\\n  */\\n  //Adjust chanceYs:\\n  const chanceYs = fig2Data['chance_ys'];\\n  chanceYs.slice(1).forEach(\\n    (v, i) => chanceYs[i + 1] += chanceYs[i]\\n  );\\n\\n  //Get max and min of figure points:\\n  const ys = fig2Data['ys'];\\n  let minVal = Math.min(... ys);\\n  let maxVal = Math.max(... ys, ...chanceYs);\\n\\n  //Adjust figure display:\\n  const buffer = Math.round((Math.abs(maxVal) + Math.abs(minVal)) * 0.1);\\n  maxVal += buffer;\\n  minVal -= buffer;\\n  statsFig2.y_range.end   = maxVal;\\n  statsFig2.y_range.start = minVal;\\n\\n  //Resize hit boxes:\\n  const hitboxHeight = 2 * Math.max(Math.abs(maxVal), Math.abs(minVal));\\n  fig2Data['heights'].fill(hitboxHeight);\\n}\\n\\nfunction updateFig2(\\n  roundsPlayed,\\n  gameScore,\\n  roundScoreChance,\\n  roundIsLastIter,\\n  itersToRun\\n) {\\n  /**\\n  * Updates the data for Game Stats Figure 2.\\n  * @param{int} roundsPlayed -- The number of iterations played.\\n  * @param{int} gameScore -- The score for the game at the current iteration.\\n  * @param{float} roundScoreChance -- The chance of scoring for the played iteration.\\n  * @param{bool} roundIsLastIter -- Whether or not the iteration is the last one.\\n  * @param{int} itersToRun -- The number of iterations total for the game.\\n  */\\n  //Store reference to fig 2 data:\\n  const fig2Data = statsFig2Src.data;\\n\\n  //Update the figure for the iteration:\\n  _fig2Iter(fig2Data, roundsPlayed, gameScore, roundScoreChance);\\n\\n  //Adjust the figure as needed if it is the last iteration:\\n  if(roundIsLastIter) { _fig2Adjust(fig2Data, itersToRun); }\\n\\n  //Update the source to finalize the changes to the figure:\\n  statsFig2Src.change.emit();\\n}\\n\\nfunction _fig3Iter(ys, roundsPlayed) {\\n  /** Handles the data for an iteration for Game Stats Figure 3.\\n  * @param{array} ys -- An array containing the ys columns of figure 3.\\n  * @param{int} roundsPlayed -- The number of iterations played.\\n  */\\n  //For each foot:\\n  ['Left', 'Right'].forEach(\\n    (footVal, footIndex) => {\\n\\n      //Calculate emprical frequencies of aim directions for that footedness:\\n      const footFreq = freq.slice((3 * footIndex), (3 * (footIndex + 1)));\\n      const footTsr = footFreq.reduce(arrSumFunc);\\n      const footChances = (\\n        (footTsr !== 0) ? footFreq.map(x => x/footTsr) : [1/3, 1/3, 1/3]\\n      );\\n\\n      //calculate and plot risk of goalie taking each position:\\n      directions.forEach(\\n        (v1, i1) => directions.forEach(\\n          (v2, i2) => {\\n            const sideRisk = footChances[i2] * scoreProbDicts[footVal][v2 + v1];\\n            const ysIndex = 3*footIndex + i1;\\n            ys[ysIndex][roundsPlayed] += sideRisk;\\n          }\\n        )\\n      );\\n\\n    }\\n  );\\n}\\n\\nfunction _fig3Adjust(fig3Data, itersToRun, ys) {\\n  /**\\n  * Adjusts Game Stats Figure 3's data.\\n  * @param{dict} fig3Data -- The data for Game Stats figure 3.\\n  * @param{int} itersToRun -- The total number of iterations in the game.\\n  * @param{array} ys -- An array containing the ys columns of figure 3.\\n  */\\n  //store fig3Data hb columns for iteration and reference:\\n  const hbs = [\\n    fig3Data['hb1'],\\n    fig3Data['hb2'],\\n    fig3Data['hb3'],\\n    fig3Data['hb4'],\\n    fig3Data['hb5'],\\n    fig3Data['hb6']\\n  ];\\n\\n  //Adjustment loop:\\n  let vals = [];\\n\\n  //For every iteration:\\n  for(let iter = 0; iter <= itersToRun; iter++){\\n    let hbHeights = new Array(6);\\n    let risks = new Array(6);\\n\\n    //For every risk value, send to risks list for later use and push to vals:\\n    ys.forEach(\\n      (yVal, yIndex) => {\\n        risks[yIndex] = yVal[iter];\\n        vals.push(yVal[iter]);\\n      }\\n    );\\n\\n    risks.sort((a, b) => a - b); //Sort risks in ascending order to setup\\n\\n    //For every entry in risks:\\n    risks.forEach(\\n      (rVal, rIndex, a) => {\\n        //Set upper edge of hitbox to be equal to halfway between hitbox point\\n        //and next point (Set top hitbox edge to 1):\\n        let val = (rIndex === 5) ? 1 : ((rVal + a[rIndex + 1]) / 2);\\n\\n        //subtract heights of all lower hitboxes to get hitbox height:\\n        hbHeights.slice(0, rIndex).forEach(\\n          (rVal) => val -= rVal\\n        );\\n\\n        //Save value for use in next hitbox's calculation and plot on graph:\\n        hbHeights[rIndex] = val;\\n        hbs[rIndex][iter] = val;\\n      }\\n    );\\n  }\\n\\n  //Adjust graph based off of stored values:\\n  const minVal = Math.round(Math.min(...vals) * 100) / 100;\\n  const maxVal = Math.round(Math.max(...vals) * 100) / 100;\\n  const buffer = Math.round((maxVal - minVal) * 100) / 1000;\\n  statsFig3.y_range.end   = Math.min(maxVal + buffer, 1);\\n  statsFig3.y_range.start = Math.max(minVal - buffer, 0);\\n}\\n\\nfunction updateFig3(roundsPlayed, roundIsLastIter, itersToRun) {\\n  /**\\n  * Updates the data for Game Stats Figure 3.\\n  * @param{int} roundsPlayed -- The number of iterations played.\\n  * @param{bool} roundIsLastIter -- Whether or not the iteration is the last one.\\n  * @param{int} itersToRun -- The number of iterations total for the game.\\n  */\\n  //Store values for reference:\\n  let fig3Data = statsFig3Src.data;\\n  const ys = [\\n    fig3Data['ll_ys'], fig3Data['lm_ys'], fig3Data['lr_ys'],\\n    fig3Data['rl_ys'], fig3Data['rm_ys'], fig3Data['rr_ys']\\n  ];\\n\\n  //Update plot points:\\n  _fig3Iter(ys, roundsPlayed);\\n\\n  //Make final adjustments to graph on last iteration:\\n  if(roundIsLastIter) { _fig3Adjust(fig3Data, itersToRun, ys); }\\n\\n  //Finalize changes:\\n  statsFig3Src.change.emit();\\n}\\n\\nfunction updateFig4(\\n  roundsPlayed,\\n  roundScoreChance,\\n  kickerFoot,\\n  kickerKick,\\n  goalieAction\\n) {\\n  /**\\n  * Updates the data for Game Stats Figure 4.\\n  * @param{int} roundsPlayed -- The number of iterations played.\\n  * @param{float} roundScoreChance -- The chance of scoring for the most\\n  * recent iteration.\\n  * @param{string} kickerFoot -- Either 'Left' or 'Right' signifying the kicker's\\n  * footedness.\\n  * @param{string} kickerKick -- Either 'Left', 'Middle', 'Right' signifying the\\n  * kicker's kick direction.\\n  * @param{string} goalieAction -- Either 'Left', 'Middle', 'Right' signifying\\n  * the keeper's dive direction.\\n  */\\n  const fig4Data = statsFig4Src.data;\\n  const index = roundsPlayed - 1;\\n  fig4Data['ys'][index] = roundScoreChance;\\n  fig4Data['feet'][index] = kickerFoot;\\n  fig4Data['directions'][index] = kickerKick;\\n  fig4Data['actions'][index] = goalieAction;\\n\\n  statsFig4Src.change.emit();\\n}\\n\"},\"id\":\"1533\",\"type\":\"CustomJS\"},{\"attributes\":{\"args\":{\"fig1Button\":{\"id\":\"1493\"},\"fig2Button\":{\"id\":\"1494\"},\"fig3Button\":{\"id\":\"1495\"},\"fig4Button\":{\"id\":\"1496\"},\"gameFig\":{\"id\":\"1002\"},\"gameFigButton\":{\"id\":\"1492\"},\"statsFig1\":{\"id\":\"1062\"},\"statsFig2\":{\"id\":\"1161\"},\"statsFig3\":{\"id\":\"1205\"},\"statsFig4\":{\"id\":\"1335\"}},\"code\":\"gameFigButton.disabled = true;\\ngameFig.visible = true;\\nfig1Button.disabled = false;\\nstatsFig1.visible = false;\\nfig2Button.disabled = false;\\nstatsFig2.visible = false;\\nfig3Button.disabled = false;\\nstatsFig3.visible = false;\\nfig4Button.disabled = false;\\nstatsFig4.visible = false;\\n\"},\"id\":\"1528\",\"type\":\"CustomJS\"},{\"attributes\":{\"fill_color\":{\"value\":\"lightblue\"},\"height\":{\"units\":\"data\",\"value\":6},\"line_width\":{\"value\":2},\"width\":{\"units\":\"data\",\"value\":4},\"x\":{\"value\":50},\"y\":{\"value\":11}},\"id\":\"1046\",\"type\":\"Rect\"},{\"attributes\":{\"line_alpha\":0.1,\"line_color\":\"#000000\",\"x\":{\"field\":\"xs\"},\"y\":{\"value\":0.55}},\"id\":\"1378\",\"type\":\"Line\"},{\"attributes\":{},\"id\":\"1569\",\"type\":\"StringFormatter\"},{\"attributes\":{\"source\":{\"id\":\"1355\"}},\"id\":\"1386\",\"type\":\"CDSView\"},{\"attributes\":{\"data\":{},\"selected\":{\"id\":\"1589\"},\"selection_policy\":{\"id\":\"1588\"}},\"id\":\"1047\",\"type\":\"ColumnDataSource\"},{\"attributes\":{},\"id\":\"1570\",\"type\":\"StringEditor\"},{\"attributes\":{},\"id\":\"1069\",\"type\":\"LinearScale\"},{\"attributes\":{\"source\":{\"id\":\"1227\"}},\"id\":\"1259\",\"type\":\"CDSView\"},{\"attributes\":{\"source\":{\"id\":\"1355\"}},\"id\":\"1381\",\"type\":\"CDSView\"},{\"attributes\":{\"fill_alpha\":{\"value\":0.1},\"fill_color\":{\"value\":\"#1f77b4\"},\"height\":{\"field\":\"hb2\",\"units\":\"data\"},\"line_alpha\":{\"value\":0.1},\"line_color\":{\"value\":\"#1f77b4\"},\"width\":{\"units\":\"data\",\"value\":1},\"x\":{\"field\":\"xs\"},\"y\":{\"field\":\"hb2\",\"transform\":{\"id\":\"1231\"}}},\"id\":\"1257\",\"type\":\"Rect\"},{\"attributes\":{},\"id\":\"1571\",\"type\":\"StringFormatter\"},{\"attributes\":{\"args\":{\"fig1Button\":{\"id\":\"1493\"},\"fig2Button\":{\"id\":\"1494\"},\"fig3Button\":{\"id\":\"1495\"},\"fig4Button\":{\"id\":\"1496\"},\"gameFig\":{\"id\":\"1002\"},\"gameFigButton\":{\"id\":\"1492\"},\"statsFig1\":{\"id\":\"1062\"},\"statsFig2\":{\"id\":\"1161\"},\"statsFig3\":{\"id\":\"1205\"},\"statsFig4\":{\"id\":\"1335\"}},\"code\":\"gameFigButton.disabled = false;\\ngameFig.visible = false;\\nfig1Button.disabled = true;\\nstatsFig1.visible = true;\\nfig2Button.disabled = false;\\nstatsFig2.visible = false;\\nfig3Button.disabled = false;\\nstatsFig3.visible = false;\\nfig4Button.disabled = false;\\nstatsFig4.visible = false;\\n\"},\"id\":\"1529\",\"type\":\"CustomJS\"},{\"attributes\":{\"source\":{\"id\":\"1047\"}},\"id\":\"1049\",\"type\":\"CDSView\"},{\"attributes\":{},\"id\":\"1572\",\"type\":\"StringEditor\"},{\"attributes\":{\"background_fill_color\":\"white\",\"below\":[{\"id\":\"1073\"},{\"id\":\"1102\"},{\"id\":\"1105\"}],\"center\":[{\"id\":\"1076\"},{\"id\":\"1080\"}],\"left\":[{\"id\":\"1077\"}],\"outline_line_color\":null,\"plot_height\":360,\"renderers\":[{\"id\":\"1085\"},{\"id\":\"1090\"},{\"id\":\"1095\"},{\"id\":\"1100\"},{\"id\":\"1120\"},{\"id\":\"1125\"},{\"id\":\"1130\"},{\"id\":\"1135\"},{\"id\":\"1140\"},{\"id\":\"1145\"},{\"id\":\"1150\"},{\"id\":\"1155\"}],\"sizing_mode\":\"stretch_both\",\"title\":{\"id\":\"1063\"},\"toolbar\":{\"id\":\"1081\"},\"toolbar_location\":null,\"toolbar_sticky\":false,\"visible\":false,\"x_range\":{\"id\":\"1065\"},\"x_scale\":{\"id\":\"1069\"},\"y_range\":{\"id\":\"1067\"},\"y_scale\":{\"id\":\"1071\"}},\"id\":\"1062\",\"subtype\":\"Figure\",\"type\":\"Plot\"},{\"attributes\":{\"args\":{\"fig1Button\":{\"id\":\"1493\"},\"fig2Button\":{\"id\":\"1494\"},\"fig3Button\":{\"id\":\"1495\"},\"fig4Button\":{\"id\":\"1496\"},\"gameFig\":{\"id\":\"1002\"},\"gameFigButton\":{\"id\":\"1492\"},\"statsFig1\":{\"id\":\"1062\"},\"statsFig2\":{\"id\":\"1161\"},\"statsFig3\":{\"id\":\"1205\"},\"statsFig4\":{\"id\":\"1335\"}},\"code\":\"gameFigButton.disabled = false;\\ngameFig.visible = false;\\nfig1Button.disabled = false;\\nstatsFig1.visible = false;\\nfig2Button.disabled = true;\\nstatsFig2.visible = true;\\nfig3Button.disabled = false;\\nstatsFig3.visible = false;\\nfig4Button.disabled = false;\\nstatsFig4.visible = false;\\n\"},\"id\":\"1530\",\"type\":\"CustomJS\"},{\"attributes\":{\"line_alpha\":0.1,\"line_color\":\"#000000\",\"x\":{\"field\":\"xs\"},\"y\":{\"value\":0.72}},\"id\":\"1403\",\"type\":\"Line\"},{\"attributes\":{},\"id\":\"1573\",\"type\":\"StringFormatter\"},{\"attributes\":{\"args\":{\"fig1Button\":{\"id\":\"1493\"},\"fig2Button\":{\"id\":\"1494\"},\"fig3Button\":{\"id\":\"1495\"},\"fig4Button\":{\"id\":\"1496\"},\"gameFig\":{\"id\":\"1002\"},\"gameFigButton\":{\"id\":\"1492\"},\"statsFig1\":{\"id\":\"1062\"},\"statsFig2\":{\"id\":\"1161\"},\"statsFig3\":{\"id\":\"1205\"},\"statsFig4\":{\"id\":\"1335\"}},\"code\":\"gameFigButton.disabled = false;\\ngameFig.visible = false;\\nfig1Button.disabled = false;\\nstatsFig1.visible = false;\\nfig2Button.disabled = false;\\nstatsFig2.visible = false;\\nfig3Button.disabled = true;\\nstatsFig3.visible = true;\\nfig4Button.disabled = false;\\nstatsFig4.visible = false;\\n\"},\"id\":\"1531\",\"type\":\"CustomJS\"},{\"attributes\":{\"data\":{},\"selected\":{\"id\":\"1591\"},\"selection_policy\":{\"id\":\"1590\"}},\"id\":\"1050\",\"type\":\"ColumnDataSource\"},{\"attributes\":{\"line_alpha\":0.1,\"line_color\":\"#000000\",\"x\":{\"field\":\"xs\"},\"y\":{\"value\":0.55}},\"id\":\"1379\",\"type\":\"Line\"},{\"attributes\":{\"data_source\":{\"id\":\"1355\"},\"glyph\":{\"id\":\"1378\"},\"hover_glyph\":null,\"muted_glyph\":null,\"nonselection_glyph\":{\"id\":\"1379\"},\"selection_glyph\":null,\"view\":{\"id\":\"1381\"}},\"id\":\"1380\",\"type\":\"GlyphRenderer\"},{\"attributes\":{\"data\":{},\"selected\":{\"id\":\"1595\"},\"selection_policy\":{\"id\":\"1594\"}},\"id\":\"1056\",\"type\":\"ColumnDataSource\"},{\"attributes\":{},\"id\":\"1574\",\"type\":\"StringEditor\"},{\"attributes\":{\"data_source\":{\"id\":\"1050\"},\"glyph\":{\"id\":\"1043\"},\"hover_glyph\":null,\"muted_glyph\":null,\"view\":{\"id\":\"1052\"}},\"id\":\"1051\",\"type\":\"GlyphRenderer\"},{\"attributes\":{\"args\":{\"fig1Button\":{\"id\":\"1493\"},\"fig2Button\":{\"id\":\"1494\"},\"fig3Button\":{\"id\":\"1495\"},\"fig4Button\":{\"id\":\"1496\"},\"gameFig\":{\"id\":\"1002\"},\"gameFigButton\":{\"id\":\"1492\"},\"statsFig1\":{\"id\":\"1062\"},\"statsFig2\":{\"id\":\"1161\"},\"statsFig3\":{\"id\":\"1205\"},\"statsFig4\":{\"id\":\"1335\"}},\"code\":\"gameFigButton.disabled = false;\\ngameFig.visible = false;\\nfig1Button.disabled = false;\\nstatsFig1.visible = false;\\nfig2Button.disabled = false;\\nstatsFig2.visible = false;\\nfig3Button.disabled = false;\\nstatsFig3.visible = false;\\nfig4Button.disabled = true;\\nstatsFig4.visible = true;\\n\"},\"id\":\"1532\",\"type\":\"CustomJS\"},{\"attributes\":{\"args\":{\"src\":{\"id\":\"1227\"}},\"v_func\":\"\\nconst newXs = [];\\nconst data = src.data;\\nxs.forEach(\\n  (v, i) => newXs.push(v/2 + data['hb1'][i])\\n);\\n\\nreturn newXs;\\n\"},\"id\":\"1231\",\"type\":\"CustomJSTransform\"},{\"attributes\":{\"data\":{\"alphas_zeroes\":[0,0,0,0,0,0,0,0,0,0,0,0,0,0,0,0,0,0,0,0,0,0,0,0,0,0,0,0,0,0,0,0,0,0,0,0,0,0,0,0,0,0,0,0,0,0,0,0,0,0,0],\"hb1\":[0,0,0,0,0,0,0,0,0,0,0,0,0,0,0,0,0,0,0,0,0,0,0,0,0,0,0,0,0,0,0,0,0,0,0,0,0,0,0,0,0,0,0,0,0,0,0,0,0,0,0],\"hb2\":[0,0,0,0,0,0,0,0,0,0,0,0,0,0,0,0,0,0,0,0,0,0,0,0,0,0,0,0,0,0,0,0,0,0,0,0,0,0,0,0,0,0,0,0,0,0,0,0,0,0,0],\"hb3\":[0,0,0,0,0,0,0,0,0,0,0,0,0,0,0,0,0,0,0,0,0,0,0,0,0,0,0,0,0,0,0,0,0,0,0,0,0,0,0,0,0,0,0,0,0,0,0,0,0,0,0],\"hb4\":[0,0,0,0,0,0,0,0,0,0,0,0,0,0,0,0,0,0,0,0,0,0,0,0,0,0,0,0,0,0,0,0,0,0,0,0,0,0,0,0,0,0,0,0,0,0,0,0,0,0,0],\"hb5\":[0,0,0,0,0,0,0,0,0,0,0,0,0,0,0,0,0,0,0,0,0,0,0,0,0,0,0,0,0,0,0,0,0,0,0,0,0,0,0,0,0,0,0,0,0,0,0,0,0,0,0],\"hb6\":[0,0,0,0,0,0,0,0,0,0,0,0,0,0,0,0,0,0,0,0,0,0,0,0,0,0,0,0,0,0,0,0,0,0,0,0,0,0,0,0,0,0,0,0,0,0,0,0,0,0,0],\"highlight_alphas\":[0,0,0,0,0,0,0,0,0,0,0,0,0,0,0,0,0,0,0,0,0,0,0,0,0,0,0,0,0,0,0,0,0,0,0,0,0,0,0,0,0,0,0,0,0,0,0,0,0,0,0],\"ll_ys\":[0.76,0,0,0,0,0,0,0,0,0,0,0,0,0,0,0,0,0,0,0,0,0,0,0,0,0,0,0,0,0,0,0,0,0,0,0,0,0,0,0,0,0,0,0,0,0,0,0,0,0,0],\"lm_ys\":[0.65,0,0,0,0,0,0,0,0,0,0,0,0,0,0,0,0,0,0,0,0,0,0,0,0,0,0,0,0,0,0,0,0,0,0,0,0,0,0,0,0,0,0,0,0,0,0,0,0,0,0],\"lr_ys\":[0.763333,0,0,0,0,0,0,0,0,0,0,0,0,0,0,0,0,0,0,0,0,0,0,0,0,0,0,0,0,0,0,0,0,0,0,0,0,0,0,0,0,0,0,0,0,0,0,0,0,0,0],\"rl_ys\":[0.746666,0,0,0,0,0,0,0,0,0,0,0,0,0,0,0,0,0,0,0,0,0,0,0,0,0,0,0,0,0,0,0,0,0,0,0,0,0,0,0,0,0,0,0,0,0,0,0,0,0,0],\"rm_ys\":[0.66,0,0,0,0,0,0,0,0,0,0,0,0,0,0,0,0,0,0,0,0,0,0,0,0,0,0,0,0,0,0,0,0,0,0,0,0,0,0,0,0,0,0,0,0,0,0,0,0,0,0],\"rr_ys\":[0.783333,0,0,0,0,0,0,0,0,0,0,0,0,0,0,0,0,0,0,0,0,0,0,0,0,0,0,0,0,0,0,0,0,0,0,0,0,0,0,0,0,0,0,0,0,0,0,0,0,0,0],\"xs\":[0,1,2,3,4,5,6,7,8,9,10,11,12,13,14,15,16,17,18,19,20,21,22,23,24,25,26,27,28,29,30,31,32,33,34,35,36,37,38,39,40,41,42,43,44,45,46,47,48,49,50]},\"selected\":{\"id\":\"1613\"},\"selection_policy\":{\"id\":\"1612\"}},\"id\":\"1227\",\"type\":\"ColumnDataSource\"},{\"attributes\":{\"line_alpha\":0.1,\"line_color\":\"#000000\",\"x\":{\"field\":\"xs\"},\"y\":{\"value\":0.65}},\"id\":\"1383\",\"type\":\"Line\"},{\"attributes\":{},\"id\":\"1575\",\"type\":\"StringFormatter\"},{\"attributes\":{\"source\":{\"id\":\"1050\"}},\"id\":\"1052\",\"type\":\"CDSView\"},{\"attributes\":{\"args\":{\"alphasZeroes\":[0,0,0,0,0,0,0,0,0,0,0,0,0,0,0,0,0,0,0,0,0,0,0,0,0,0,0,0,0,0,0,0,0,0,0,0,0,0,0,0,0,0,0,0,0,0,0,0,0,0,0],\"highlightIndex\":{\"id\":\"1225\"}},\"v_func\":\"\\nconst index = parseInt(highlightIndex.text);\\nif(xs[index] === 2) {\\n  const newAlphas = new Array(xs.length).fill(0);\\n  newAlphas[index] = 1;\\n  return newAlphas;\\n} else { return alphasZeroes; }\\n\"},\"id\":\"1230\",\"type\":\"CustomJSTransform\"},{\"attributes\":{\"line_alpha\":0.1,\"line_color\":\"#000000\",\"x\":{\"field\":\"xs\"},\"y\":{\"value\":0.6}},\"id\":\"1443\",\"type\":\"Line\"},{\"attributes\":{},\"id\":\"1576\",\"type\":\"StringEditor\"},{\"attributes\":{\"args\":{\"alphasZeroes\":[0,0,0,0,0,0,0,0,0,0,0,0,0,0,0,0,0,0,0,0,0,0,0,0,0,0,0,0,0,0,0,0,0,0,0,0,0,0,0,0,0,0,0,0,0,0,0,0,0,0,0],\"highlightIndex\":{\"id\":\"1225\"}},\"v_func\":\"\\nconst index = parseInt(highlightIndex.text);\\nif(xs[index] === 1) {\\n  const newAlphas = new Array(xs.length).fill(0);\\n  newAlphas[index] = 1;\\n  return newAlphas;\\n} else { return alphasZeroes; }\\n\"},\"id\":\"1228\",\"type\":\"CustomJSTransform\"},{\"attributes\":{\"end\":50},\"id\":\"1067\",\"type\":\"Range1d\"},{\"attributes\":{\"args\":{\"advSpdSlider\":{\"id\":\"1499\"},\"autoAdvButton\":{\"id\":\"1497\"},\"ball\":{\"id\":\"1044\"},\"chancesSrc\":{\"id\":\"1517\"},\"counterSrc\":{\"id\":\"1526\"},\"distTable\":{\"id\":\"1515\"},\"distTableSrc\":{\"id\":\"1507\"},\"gameFig\":{\"id\":\"1002\"},\"gameFigButton\":{\"id\":\"1492\"},\"goalieBody\":{\"id\":\"1043\"},\"goalieHead\":{\"id\":\"1042\"},\"inAnIter\":{\"id\":\"1487\"},\"iterSlider\":{\"id\":\"1498\"},\"nextButton\":{\"id\":\"1490\"},\"nround\":{\"id\":\"1477\"},\"score\":{\"id\":\"1478\"},\"statsFig1\":{\"id\":\"1062\"},\"statsFig1Butto\":{\"id\":\"1493\"},\"statsFig1Src\":{\"id\":\"1108\"},\"statsFig2\":{\"id\":\"1161\"},\"statsFig2Butto\":{\"id\":\"1494\"},\"statsFig2Src\":{\"id\":\"1181\"},\"statsFig3\":{\"id\":\"1205\"},\"statsFig3Butto\":{\"id\":\"1495\"},\"statsFig3Src\":{\"id\":\"1227\"},\"statsFig4\":{\"id\":\"1335\"},\"statsFig4Butto\":{\"id\":\"1496\"},\"statsFig4Src\":{\"id\":\"1355\"},\"stratToUseDiv\":{\"id\":\"1479\"},\"txt\":{\"id\":\"1471\"}},\"code\":\"\\nconst rDict = {\\n  'LeftLeft'   : 0.55, 'LeftMiddle'   : 0.65, 'LeftRight'   : 0.93,\\n  'MiddleLeft' : 0.74, 'MiddleMiddle' : 0.60, 'MiddleRight' : 0.72,\\n  'RightLeft'  : 0.95, 'RightMiddle'  : 0.73, 'RightRight'  : 0.70\\n};\\nconst lDict = {\\n  'LeftLeft'   : 0.67, 'LeftMiddle'   : 0.70, 'LeftRight'   : 0.96,\\n  'MiddleLeft' : 0.74, 'MiddleMiddle' : 0.60, 'MiddleRight' : 0.72,\\n  'RightLeft'  : 0.87, 'RightMiddle'  : 0.65, 'RightRight'  : 0.61\\n};\\nconst scoreProbDicts = {\\n  'Right' : rDict,\\n  'Left'  : lDict\\n};\\n\\nconst directions = ['Left', 'Middle', 'Right'];\\n\\nconst arrSumFunc = ((a, b) => a + b);\\n\\nconst chances = chancesSrc.data['chances'];\\nconst distData = distTableSrc.data;\\nconst freq = distData['freq'];\\n\\nfunction gameIter(){\\n  const itersToRun = iterSlider.value;\\n\\n  const gameStrat = stratToUseDiv.text;\\n\\n  const stratIsFictPlay = (gameStrat === 'Fictitious_Play');\\n\\n  let perceivedRiskL;\\n  let perceivedRiskM;\\n  let perceivedRiskR;\\n\\n  let goalieAction = '';\\n\\n  let kickerFoot = '';\\n  let kickerKick = '';\\n\\n  let goal = 0;\\n  let gameScore = 0;\\n  let roundsPlayed = 0;\\n\\n  let roundScoreChance = 0;\\n\\n  [kickerFoot, kickerKick] = rollKickerAction();\\n\\n  const footIsLeft = (kickerFoot === 'Left');\\n  const footDict = scoreProbDicts[kickerFoot];\\n  const kfRAdjust = (footIsLeft) ? 0 : 3;\\n\\n  switch(gameStrat) {\\n    case 'Fictitious_Play':\\n      [goalieAction, perceivedRiskL, perceivedRiskM, perceivedRiskR] = (\\n        fictitiousPlay(footIsLeft, footDict)\\n      );\\n      break;\\n    case 'Mixed_Strategy':\\n      goalieAction = optimalMixed(kickerFoot);\\n      break;\\n    case 'Random':\\n      goalieAction = randomChoice();\\n      break;\\n    case 'Goalie_Cheats':\\n      goalieAction = goalieCheats(kickerFoot);\\n      break;\\n    default:\\n      //TODO throw an error\\n      break;\\n  }\\n\\n  const directionsIndexGa = directions.indexOf(goalieAction); //DirectionsIndexGoalieAction\\n  const actionsIndexKFKK = kfRAdjust + directions.indexOf(kickerKick); //Actions index KFKK\\n\\n  [goal, gameScore, roundsPlayed, roundScoreChance] = scoring(\\n    footDict,\\n    kickerKick,\\n    goalieAction,\\n    actionsIndexKFKK\\n  );\\n\\n  const roundIsLastIter = (roundsPlayed >= itersToRun);\\n\\n  animateIter(goalieAction, kickerKick, goal);\\n\\n  goalieDecisionTracking(\\n    actionsIndexKFKK,\\n    kfRAdjust,\\n    directionsIndexGa,\\n    stratIsFictPlay,\\n    perceivedRiskL,\\n    perceivedRiskM,\\n    perceivedRiskR\\n  );\\n\\n  if(roundIsLastIter) { handleFigVisibility(stratIsFictPlay); }\\n\\n  iterText(roundsPlayed, gameScore, goal);\\n}\\n\\n//Setup the promise that enforces waiting for the delay to finish:\\nconst iterationDelay = (\\n  //Creates the promise with parameter ms:\\n  (ms) => new Promise(\\n    //Waits for ms seconds before resolving:\\n    (resolve) => setTimeout(\\n      () => {\\n        resolve();\\n      },\\n      ms\\n    )\\n  )\\n);\\n\\nasync function gameLoop(){\\n  /**\\n  * An async function that runs each iteration of the game. Recurses after a\\n  * delay if the necessary conditions are fulfilled.\\n  */\\n  //Take value for if another iteration is running:\\n  let tempIterVal = inAnIter.text;\\n\\n  //If there is not another iteration running:\\n  if(tempIterVal === 'false'){\\n    //Set the value of inAnIter to reflect that an iteration is now running:\\n    inAnIter.text = 'true';\\n\\n    //Run the game iteration:\\n    gameIter();\\n\\n    //Tell itself that it has finished running the iteration:\\n    tempIterVal = 'false';\\n\\n    //True if not in the last iteration of the game:\\n    const notLastRound = (parseInt(nround.text) < iterSlider.value);\\n\\n    //True if the button is activated by the user:\\n    const autoAdvActive = (autoAdvButton.active);\\n\\n    //True if both conditions are true:\\n    const conditionsFulfilled = (notLastRound && autoAdvActive);\\n\\n    //If all recursion conditions are fulfilled:\\n    if(conditionsFulfilled){\\n      //Await the delay, then recurse:\\n      await iterationDelay(advSpdSlider.value).then(\\n        () => {\\n          //Designate that an iteration is no longer running:\\n          inAnIter.text = 'false';\\n\\n          //Recurse:\\n          gameLoop();\\n        }\\n      );\\n    } else {\\n      //Designate that an iteration is no longer running:\\n      inAnIter.text = 'false';\\n    }\\n  }\\n}\\n\\ngameLoop();\\n\\nfunction iterText(roundsPlayed, gameScore, goal) {\\n  /**\\n   * Changes the game text to display the rounds played, game score and the\\n   * kicker's scoring result.\\n   * @param{string} roundsPlayed -- A string containing an int that shows the\\n   * iterations run.\\n   * @param{string} gameScore -- A string containing an int that shows the\\n   * current iteration's score.\\n   * @param{int} goal -- An int equal to either 1 or -1. Value of 1 is for if a\\n   * goal was scored during the iteration.\\n   */\\n  //Set Game Text Lines:\\n  txt.data['text'] = [\\n    `Rounds played: ${roundsPlayed}`,\\n    `Total score: ${gameScore}`,\\n    '',\\n    (goal === 1) ? 'GOAL!' : 'Blocked'\\n  ];\\n  txt.change.emit(); //Finalize changes by emitting to source\\n}\\n\\nfunction rollKickerAction() {\\n  /**\\n  * Selects a kicker pure strategy by converting the pure strategy selection\\n  * chances array to a form where each value has the previous values added to\\n  * them, so that the strategy can then be chosen by comparing the values to a\\n  * random roll. The kicker foot and direction are then determined according to\\n  * the strategy index before being returned in an array.\\n  * @return{array} -- An array that contains strings representing the kicker\\n  * foot, and their chosen kick direction. The kicker foot string can have value\\n  * equal to 'Left' or 'Right', and the kick direction has to be equal to either\\n  * 'Left', 'Middle', or 'Right'.\\n  */\\n  //Copy chances into array, then modify array to act as roll thresholds:\\n  let arrVals = [0].concat(chances.slice());\\n  arrVals.slice(1).forEach(\\n    (v, i) => arrVals[i + 1] += arrVals[i]\\n  );\\n\\n  //Determine actions to take based off roll comparison to thresholds:\\n  let index = 5;\\n  const roll = Math.random();\\n  arrVals.slice(0, 6).forEach(\\n    (v) => {\\n      if(roll < v) { index -= 1; }\\n    }\\n  );\\n  return [\\n    (index < 3) ? 'Left' : 'Right',\\n    directions[(index % 3)]\\n  ];\\n}\\n\\n//Handle Goalie Decision\\nfunction fictitiousPlay(footIsLeft, footDict) {\\n  /**\\n  * Determines the keeper's action according to Fictitious Play.\\n  * @param{bool} footIsLeft -- a bool containing whether or not the kicker is\\n  * left-footed.\\n  * @param{dict} footDict -- The dict that contains the score chances for the\\n  * different possible kicker foot kicker action outcomes.\\n  * @return{array} -- An array containing the direction for the keeper to dive,\\n  * and the keeper's perceived risks for each possible action from left to\\n  * right.\\n  */\\n  //Set decision making values to use according to kickerFoot:\\n  const freqs = (footIsLeft) ? freq.slice(0, 3) : freq.slice(3, 6);\\n\\n  //Calculate goalie perceived risks:\\n  const tsr = freqs.reduce(arrSumFunc);\\n  const eFreqs = (tsr !== 0) ? freqs.map(x => x / tsr) : [1/3, 1/3, 1/3];\\n  const risks = [0, 0, 0];\\n  directions.forEach(\\n    (v1, i) => directions.forEach(\\n      (v2, j) => risks[i] += eFreqs[j] * footDict[v2 + v1]\\n    )\\n  );\\n\\n  //return goalie action and perceived risks:\\n  const actionIndex = risks.indexOf(Math.min(...risks));\\n  return [\\n    directions[actionIndex],\\n    ...risks\\n  ];\\n}\\n\\nfunction optimalMixed(kickerFoot) {\\n  /**\\n  * Determines the keeper's action according to the optimal mixed strategy for\\n  * the keeper.\\n  * param{string} kickerFoot -- Either 'Left' or 'Right' representing the\\n  * kicker's footedness.\\n  * return{string} -- Either 'Left', 'Middle', or 'Right' representing the\\n  * keeper's direction to dive.\\n  */\\n  //selects and returns an action based off of optimal mixed strategy chances:\\n  const thresholds = {\\n    'Left'  : 0.8,\\n    'Right' : 0.7419\\n  };\\n  const goKickerFoot = (Math.random() >= thresholds[kickerFoot]);\\n  return (goKickerFoot) ? kickerFoot : 'Middle';\\n}\\n\\nfunction randomChoice() {\\n  /**\\n  * Determines the keeper's action at random.\\n  * return{string} -- Either 'Left', 'Middle', or 'Right' representing the\\n  * keeper's direction to dive.\\n  */\\n  //Selects and returns an action from directions at an equal chance:\\n  const actionIndex = Math.round(Math.random()*3 - 0.5);\\n  return directions[actionIndex];\\n}\\n\\nfunction goalieCheats(kickerFoot) {\\n  /**\\n  * Determines the keeper's action according to a previously created strategy.\\n  * param{string} kickerFoot -- Either 'Left' or 'Right' representing the\\n  * kicker's footedness.\\n  * return{string} -- Either 'Left', 'Middle', or 'Right' representing the\\n  * keeper's direction to dive.\\n  */\\n  //return the action of the pure strategy corresponding to the kicker foot:\\n\\n  const actionIndex = counterSrc.data[kickerFoot].indexOf(1);\\n  return directions[actionIndex];\\n}\\n\\nfunction handleFigVisibility(stratIsFictPlay) {\\n  nextButton.visible = false;\\n  distTable.visible = false;\\n  autoAdvButton.visible = false;\\n  advSpdSlider.visible = false;\\n  gameFigButton.visible = true;\\n\\n}\\n\\nfunction scoring(footDict, kickerKick, goalieAction, actionsIndexKFKK) {\\n  /**\\n  * Handles the scoring for the game.\\n  * param{dict} footDict -- The dict containing the score chances according to\\n  * the different possible kicker kick direction and keeper dive direction\\n  * outcomes for the kicker's footedness.\\n  * param{string} kickerKick -- Either 'Left', 'Middle', or 'Right' for the\\n  * kicker's kick direction.\\n  * param{string} goalieAction -- Either 'Left', 'Middle', or 'Right' for the\\n  * keeper's dive direction.\\n  * param{int} actionsIndexKFKK -- an int designating an index selected\\n  * previously according to the kicker's footedness and kick directions.\\n  */\\n  //Set function values:\\n  const scoreRoll = Math.random();\\n  const scoreChance = footDict[kickerKick + goalieAction];\\n  const roundsPlayed = parseInt(nround.text) + 1;\\n  const roundScore = (scoreRoll <= scoreChance) ? +1 : -1;\\n\\n  //Update columns:\\n  const scoreChanceCol = distData['striker_score_chance'];\\n  const scoreRollCol = distData['striker_score_roll'];\\n  scoreChanceCol.fill(0);\\n  scoreRollCol.fill(0);\\n  scoreChanceCol[actionsIndexKFKK] = scoreChance;\\n  scoreRollCol[actionsIndexKFKK] = scoreRoll.toPrecision(6);\\n\\n  //Update text:\\n  nround.text = roundsPlayed.toString();\\n  const currentGameScore = parseInt(score.text) + roundScore;\\n  score.text = currentGameScore.toString();\\n\\n  return [roundScore, currentGameScore, roundsPlayed, scoreChance];\\n}\\n\\nfunction _moveGoalie(xLoc) {\\n  /**\\n  * Moves the goalie to the specified x coordinate.\\n  * param{int} xLoc -- The x coord to move to.\\n  */\\n  //Move both components of the goalie:\\n  goalieBody.x = xLoc;\\n  goalieHead.x = xLoc;\\n}\\n\\nfunction animateIter(goalieAction, kickerKick, goal) {\\n  /**\\n  * Handles the animation for the iteration.\\n  * @param{string} goalieAction -- Either 'Left', 'Middle', 'Right' signifying\\n  * the keeper's dive direction.\\n  * @param{string} kickerKick -- Either 'Left', 'Middle', 'Right' signifying the\\n  * kicker's kick direction.\\n  * @param{int} goal -- Either 1 or -1 for the iteration score change.\\n  */\\n  //Set positions and store ball roll for handling cases:\\n  const goalieActionIsKickerKick = (goalieAction === kickerKick);\\n  const goalNotScored = (goal === -1);\\n  const gPos = {\\n    'Left'   : [37, 43],\\n    'Middle' : [47, 53],\\n    'Right'  : [57, 63]\\n  };\\n  const outOfGoalPos = {\\n    'Left'   : [30, 30],\\n    'Middle' : [30, 70],\\n    'Right'  : [70, 70]\\n  };\\n  const shotUnluckyMiss = (goalNotScored && !goalieActionIsKickerKick);\\n  const bPos = (shotUnluckyMiss) ? outOfGoalPos : gPos;\\n  const bRoll = Math.round(Math.random());\\n\\n  ball.x = bPos[kickerKick][bRoll];\\n  ball.y = 63;\\n  if(goalieActionIsKickerKick){\\n    const goalieRolledX = gPos[goalieAction][[1, 0][bRoll]];\\n    const goalieX = (goalNotScored) ? ball.x : goalieRolledX;\\n    _moveGoalie(goalieX);\\n  } else {\\n    const goalieX = gPos[goalieAction][Math.round(Math.random())];\\n    _moveGoalie(goalieX);\\n  }\\n}\\n\\nfunction goalieDecisionTracking(\\n  actionsIndexKFKK,\\n  kfRAdjust,\\n  directionsIndexGa,\\n  stratIsFictPlay,\\n  perceivedRiskL,\\n  perceivedRiskM,\\n  perceivedRiskR\\n) {\\n  /**\\n  * Tracks game data and puts it into the dist table.\\n  * @param{int} actionsIndexKFKK -- An int for adjusting indexes around the\\n  * kicker foot and kicker kick directions.\\n  * @param{int} kfRAdjust -- An int for adjusting indexes if the kicker is\\n  * right-footed.\\n  * @param{int} directionsIndexGa -- An int for the index of the keeper\\n  * dive direction.\\n  * @param{bool} stratIsFictPlay -- A bool for whether or not the keeper is\\n  * using fictitious play.\\n  * @param{float} perceivedRiskL -- The keeper's perceived risks for diving left.\\n  * @param{float} perceivedRiskM -- The keeper's perceived risks for diving middle.\\n  * @param{float} perceivedRiskR -- The keeper's perceived risks for diving right.\\n  */\\n\\n  //Increase corresponding trackers to KFKK and KFGA:\\n  freq[actionsIndexKFKK] += 1;\\n  const decisionsIndex = kfRAdjust + directionsIndexGa;\\n  distData['decisions'][decisionsIndex] += 1;\\n\\n  //Update table perceived risks if fictitious play:\\n  if(stratIsFictPlay) {\\n    _updateDecisionTableRisks(\\n      perceivedRiskL,\\n      perceivedRiskM,\\n      perceivedRiskR,\\n      kfRAdjust\\n    );\\n  }\\n\\n  //Update table by finalizing changes to source:\\n  distTableSrc.change.emit();\\n}\\n\\nfunction _updateDecisionTableRisks(\\n  perceivedRiskL,\\n  perceivedRiskM,\\n  perceivedRiskR,\\n  kfRAdjust\\n) {\\n  /**\\n  * updates the dist table's risk values.\\n  * @param{float} perceivedRiskL -- The keeper's perceived risks for diving left.\\n  * @param{float} perceivedRiskM -- The keeper's perceived risks for diving middle.\\n  * @param{float} perceivedRiskR -- The keeper's perceived risks for diving right.\\n  * @param{int} kfRAdjust -- An int for adjusting indexes if the kicker is\\n  * right-footed.\\n  */\\n  //Reset column then set perceived risk for rows corresponding to kicker foot:\\n  const risks = distData['goalie_perceived_risks'];\\n\\n  risks.fill(0);\\n  const prs = [\\n    perceivedRiskL.toPrecision(6),\\n    perceivedRiskM.toPrecision(6),\\n    perceivedRiskR.toPrecision(6)\\n  ];\\n  prs.forEach(\\n    (v, i) => risks[kfRAdjust + i] = v\\n  );\\n}\\n\\nfunction _fig1Iter(\\n  goal,\\n  directionsIndexGa,\\n  sections,\\n  fig1Data,\\n  actionsIndexKFKK\\n) {\\n  /**\\n  * Handles the data for an iteration in Game Stats Figure 1.\\n  * @param{int} goal -- Either -1 or 1 for the iterations score change.\\n  * @param{int} directionsIndexGa -- An int for the index of the keeper\\n  * dive direction.\\n  * @param{array} sections -- An array containing the column names for the bar\\n  * sections in Figure 1.\\n  * @param{dict} fig1Data -- The data for game stats figure 1.\\n  * @param{int} actionsIndexKFKK -- An int for adjusting indexes around the\\n  * kicker foot and kicker kick directions.\\n  */\\n  //Increase section value of iteration result by 1:\\n  const sectionIndex = (goal === 1) ? 0 : directionsIndexGa + 1;\\n  const section = sections[sectionIndex];\\n  fig1Data[section][actionsIndexKFKK] += 1;\\n}\\n\\nfunction _fig1Adjust(sections, fig1Data) {\\n  /**\\n  * Adjusts Game Stats Figure 1.\\n  * @param{array} sections -- An array containing the column names for the bar\\n  * sections in Figure 1.\\n  * @param{dict} fig1Data -- The data for game stats figure 1.\\n  */\\n  //Get total heights of kfkk bars:\\n  const heights = [0, 0, 0, 0, 0, 0]\\n  sections.forEach(\\n    (v1) => fig1Data[v1].forEach(\\n      (v2, i) => heights[i] += v2\\n    )\\n  );\\n\\n  //Set y max to 1.1 * the height of the tallest kfkk bar (rounded):\\n  statsFig1.y_range.end = Math.round(Math.max(...heights) * 1.1);\\n}\\n\\nfunction updateFig1(\\n  goal,\\n  directionsIndexGa,\\n  actionsIndexKFKK,\\n  roundIsLastIter\\n) {\\n  /**\\n  * Updates the data for Game Stats Figure 1.\\n  * @param{int} goal -- Either -1 or 1 for the iterations score change.\\n  * @param{int} directionsIndexGa -- An int for the index of the keeper\\n  * dive direction.\\n  * @param{int} actionsIndexKFKK -- An int for adjusting indexes around the\\n  * kicker foot and kicker kick directions.\\n  * @param{bool} roundIsLastIter -- Whether or not the iteration is the last one.\\n  */\\n  //create constants for referencing:\\n  const fig1Data = statsFig1Src.data;\\n  const sections = ['scored_y', 'blockedl_y', 'blockedm_y', 'blockedr_y'];\\n\\n  //Update the figure for the iteration:\\n  _fig1Iter(goal, directionsIndexGa, sections, fig1Data, actionsIndexKFKK);\\n\\n  //Make final adjustments if it is the final iteration:\\n  if(roundIsLastIter) { _fig1Adjust(sections, fig1Data); }\\n\\n  //Update the figure by finalizing the changes to the data source:\\n  statsFig1Src.change.emit();\\n}\\n\\nfunction _fig2Iter(fig2Data, roundsPlayed, gameScore, roundScoreChance) {\\n  /**\\n  * Handles an iteration of data for Game Stats Figure 2.\\n  * @param{dict} fig2Data -- The data for Game Stats Figure 2.\\n  * @param{int} roundsPlayed -- The number of iterations played.\\n  * @param{int} gameScore -- The score for the game at the current iteration.\\n  * @param{float} roundScoreChance -- The chance of scoring for the played iteration.\\n  */\\n  //Plot Values:\\n  fig2Data['ys'][roundsPlayed] = gameScore;\\n  fig2Data['chance_ys'][roundsPlayed] = 2*roundScoreChance - 1;\\n}\\n\\nfunction _fig2Adjust(fig2Data, itersToRun) {\\n  /**\\n  * Adjusts the data for Game Stats Figure 2.\\n  * @param{dict} fig2Data -- The data for Game Stats Figure 2.\\n  * @param{int} itersToRun -- The number of iterations total for the game.\\n  */\\n  //Adjust chanceYs:\\n  const chanceYs = fig2Data['chance_ys'];\\n  chanceYs.slice(1).forEach(\\n    (v, i) => chanceYs[i + 1] += chanceYs[i]\\n  );\\n\\n  //Get max and min of figure points:\\n  const ys = fig2Data['ys'];\\n  let minVal = Math.min(... ys);\\n  let maxVal = Math.max(... ys, ...chanceYs);\\n\\n  //Adjust figure display:\\n  const buffer = Math.round((Math.abs(maxVal) + Math.abs(minVal)) * 0.1);\\n  maxVal += buffer;\\n  minVal -= buffer;\\n  statsFig2.y_range.end   = maxVal;\\n  statsFig2.y_range.start = minVal;\\n\\n  //Resize hit boxes:\\n  const hitboxHeight = 2 * Math.max(Math.abs(maxVal), Math.abs(minVal));\\n  fig2Data['heights'].fill(hitboxHeight);\\n}\\n\\nfunction updateFig2(\\n  roundsPlayed,\\n  gameScore,\\n  roundScoreChance,\\n  roundIsLastIter,\\n  itersToRun\\n) {\\n  /**\\n  * Updates the data for Game Stats Figure 2.\\n  * @param{int} roundsPlayed -- The number of iterations played.\\n  * @param{int} gameScore -- The score for the game at the current iteration.\\n  * @param{float} roundScoreChance -- The chance of scoring for the played iteration.\\n  * @param{bool} roundIsLastIter -- Whether or not the iteration is the last one.\\n  * @param{int} itersToRun -- The number of iterations total for the game.\\n  */\\n  //Store reference to fig 2 data:\\n  const fig2Data = statsFig2Src.data;\\n\\n  //Update the figure for the iteration:\\n  _fig2Iter(fig2Data, roundsPlayed, gameScore, roundScoreChance);\\n\\n  //Adjust the figure as needed if it is the last iteration:\\n  if(roundIsLastIter) { _fig2Adjust(fig2Data, itersToRun); }\\n\\n  //Update the source to finalize the changes to the figure:\\n  statsFig2Src.change.emit();\\n}\\n\\nfunction _fig3Iter(ys, roundsPlayed) {\\n  /** Handles the data for an iteration for Game Stats Figure 3.\\n  * @param{array} ys -- An array containing the ys columns of figure 3.\\n  * @param{int} roundsPlayed -- The number of iterations played.\\n  */\\n  //For each foot:\\n  ['Left', 'Right'].forEach(\\n    (footVal, footIndex) => {\\n\\n      //Calculate emprical frequencies of aim directions for that footedness:\\n      const footFreq = freq.slice((3 * footIndex), (3 * (footIndex + 1)));\\n      const footTsr = footFreq.reduce(arrSumFunc);\\n      const footChances = (\\n        (footTsr !== 0) ? footFreq.map(x => x/footTsr) : [1/3, 1/3, 1/3]\\n      );\\n\\n      //calculate and plot risk of goalie taking each position:\\n      directions.forEach(\\n        (v1, i1) => directions.forEach(\\n          (v2, i2) => {\\n            const sideRisk = footChances[i2] * scoreProbDicts[footVal][v2 + v1];\\n            const ysIndex = 3*footIndex + i1;\\n            ys[ysIndex][roundsPlayed] += sideRisk;\\n          }\\n        )\\n      );\\n\\n    }\\n  );\\n}\\n\\nfunction _fig3Adjust(fig3Data, itersToRun, ys) {\\n  /**\\n  * Adjusts Game Stats Figure 3's data.\\n  * @param{dict} fig3Data -- The data for Game Stats figure 3.\\n  * @param{int} itersToRun -- The total number of iterations in the game.\\n  * @param{array} ys -- An array containing the ys columns of figure 3.\\n  */\\n  //store fig3Data hb columns for iteration and reference:\\n  const hbs = [\\n    fig3Data['hb1'],\\n    fig3Data['hb2'],\\n    fig3Data['hb3'],\\n    fig3Data['hb4'],\\n    fig3Data['hb5'],\\n    fig3Data['hb6']\\n  ];\\n\\n  //Adjustment loop:\\n  let vals = [];\\n\\n  //For every iteration:\\n  for(let iter = 0; iter <= itersToRun; iter++){\\n    let hbHeights = new Array(6);\\n    let risks = new Array(6);\\n\\n    //For every risk value, send to risks list for later use and push to vals:\\n    ys.forEach(\\n      (yVal, yIndex) => {\\n        risks[yIndex] = yVal[iter];\\n        vals.push(yVal[iter]);\\n      }\\n    );\\n\\n    risks.sort((a, b) => a - b); //Sort risks in ascending order to setup\\n\\n    //For every entry in risks:\\n    risks.forEach(\\n      (rVal, rIndex, a) => {\\n        //Set upper edge of hitbox to be equal to halfway between hitbox point\\n        //and next point (Set top hitbox edge to 1):\\n        let val = (rIndex === 5) ? 1 : ((rVal + a[rIndex + 1]) / 2);\\n\\n        //subtract heights of all lower hitboxes to get hitbox height:\\n        hbHeights.slice(0, rIndex).forEach(\\n          (rVal) => val -= rVal\\n        );\\n\\n        //Save value for use in next hitbox's calculation and plot on graph:\\n        hbHeights[rIndex] = val;\\n        hbs[rIndex][iter] = val;\\n      }\\n    );\\n  }\\n\\n  //Adjust graph based off of stored values:\\n  const minVal = Math.round(Math.min(...vals) * 100) / 100;\\n  const maxVal = Math.round(Math.max(...vals) * 100) / 100;\\n  const buffer = Math.round((maxVal - minVal) * 100) / 1000;\\n  statsFig3.y_range.end   = Math.min(maxVal + buffer, 1);\\n  statsFig3.y_range.start = Math.max(minVal - buffer, 0);\\n}\\n\\nfunction updateFig3(roundsPlayed, roundIsLastIter, itersToRun) {\\n  /**\\n  * Updates the data for Game Stats Figure 3.\\n  * @param{int} roundsPlayed -- The number of iterations played.\\n  * @param{bool} roundIsLastIter -- Whether or not the iteration is the last one.\\n  * @param{int} itersToRun -- The number of iterations total for the game.\\n  */\\n  //Store values for reference:\\n  let fig3Data = statsFig3Src.data;\\n  const ys = [\\n    fig3Data['ll_ys'], fig3Data['lm_ys'], fig3Data['lr_ys'],\\n    fig3Data['rl_ys'], fig3Data['rm_ys'], fig3Data['rr_ys']\\n  ];\\n\\n  //Update plot points:\\n  _fig3Iter(ys, roundsPlayed);\\n\\n  //Make final adjustments to graph on last iteration:\\n  if(roundIsLastIter) { _fig3Adjust(fig3Data, itersToRun, ys); }\\n\\n  //Finalize changes:\\n  statsFig3Src.change.emit();\\n}\\n\\nfunction updateFig4(\\n  roundsPlayed,\\n  roundScoreChance,\\n  kickerFoot,\\n  kickerKick,\\n  goalieAction\\n) {\\n  /**\\n  * Updates the data for Game Stats Figure 4.\\n  * @param{int} roundsPlayed -- The number of iterations played.\\n  * @param{float} roundScoreChance -- The chance of scoring for the most\\n  * recent iteration.\\n  * @param{string} kickerFoot -- Either 'Left' or 'Right' signifying the kicker's\\n  * footedness.\\n  * @param{string} kickerKick -- Either 'Left', 'Middle', 'Right' signifying the\\n  * kicker's kick direction.\\n  * @param{string} goalieAction -- Either 'Left', 'Middle', 'Right' signifying\\n  * the keeper's dive direction.\\n  */\\n  const fig4Data = statsFig4Src.data;\\n  const index = roundsPlayed - 1;\\n  fig4Data['ys'][index] = roundScoreChance;\\n  fig4Data['feet'][index] = kickerFoot;\\n  fig4Data['directions'][index] = kickerKick;\\n  fig4Data['actions'][index] = goalieAction;\\n\\n  statsFig4Src.change.emit();\\n}\\n\"},\"id\":\"1534\",\"type\":\"CustomJS\"},{\"attributes\":{\"data\":{},\"selected\":{\"id\":\"1593\"},\"selection_policy\":{\"id\":\"1592\"}},\"id\":\"1053\",\"type\":\"ColumnDataSource\"},{\"attributes\":{\"children\":[{\"id\":\"1488\"},{\"id\":\"1498\"},{\"id\":\"1506\"},{\"id\":\"1480\"},{\"id\":\"1489\"},{\"id\":\"1490\"},{\"id\":\"1491\"},{\"id\":\"1497\"},{\"id\":\"1499\"},{\"id\":\"1481\"},{\"id\":\"1482\"},{\"id\":\"1483\"},{\"id\":\"1500\"},{\"id\":\"1501\"},{\"id\":\"1502\"},{\"id\":\"1503\"},{\"id\":\"1504\"},{\"id\":\"1505\"},{\"id\":\"1492\"},{\"id\":\"1493\"},{\"id\":\"1494\"},{\"id\":\"1495\"},{\"id\":\"1496\"}],\"max_width\":350,\"min_width\":350,\"sizing_mode\":\"stretch_width\"},\"id\":\"1538\",\"type\":\"Column\"},{\"attributes\":{},\"id\":\"1577\",\"type\":\"StringFormatter\"},{\"attributes\":{\"args\":{\"src\":{\"id\":\"1227\"}},\"v_func\":\"\\nconst newXs = [];\\nconst data = src.data;\\nxs.forEach(\\n  (v, i) => newXs.push(v/2)\\n);\\n\\nreturn newXs;\\n\"},\"id\":\"1229\",\"type\":\"CustomJSTransform\"},{\"attributes\":{\"data_source\":{\"id\":\"1053\"},\"glyph\":{\"id\":\"1044\"},\"hover_glyph\":null,\"muted_glyph\":null,\"view\":{\"id\":\"1055\"}},\"id\":\"1054\",\"type\":\"GlyphRenderer\"},{\"attributes\":{\"source\":{\"id\":\"1355\"}},\"id\":\"1391\",\"type\":\"CDSView\"},{\"attributes\":{\"data_source\":{\"id\":\"1056\"},\"glyph\":{\"id\":\"1045\"},\"hover_glyph\":null,\"muted_glyph\":null,\"view\":{\"id\":\"1058\"}},\"id\":\"1057\",\"type\":\"GlyphRenderer\"},{\"attributes\":{\"args\":{\"aimTextInputs\":[{\"id\":\"1500\"},{\"id\":\"1501\"},{\"id\":\"1502\"},{\"id\":\"1503\"},{\"id\":\"1504\"},{\"id\":\"1505\"}],\"counterMadeDiv\":{\"id\":\"1485\"},\"cpuSelectedDiv\":{\"id\":\"1484\"},\"selectCpuTip\":{\"id\":\"1480\"},\"stratDropdown\":{\"id\":\"1506\"},\"stratToUseDiv\":{\"id\":\"1479\"}},\"code\":\"\\n//Set the label of the dropdown (the text displayed) to the selected item:\\nstratDropdown.label = this.item;\\n\\n//Set the text of the strategy_to_use div to the selected item:\\nstratToUseDiv.text = this.item;\\n\\n//Sets the aim sliders to be visible:\\naimTextInputs.forEach(\\n  (v) => v.visible = true\\n)\\n\\n//Sets cpuSelectedDiv to indicate that a cpu strat has been selected:\\ncpuSelectedDiv.text = '1';\\n\\n//update the tracking div for needing a goalie cheats counter:\\ncounterMadeDiv.text = ((this.item === 'Goalie_Cheats') ? '0' : '1');\\n\\n//Hides the select a cpu strategy tip:\\nselectCpuTip.visible = false;\\n\"},\"id\":\"1536\",\"type\":\"CustomJS\"},{\"attributes\":{},\"id\":\"1578\",\"type\":\"UnionRenderers\"},{\"attributes\":{\"args\":{\"alphasZeroes\":[0,0,0,0,0,0,0,0,0,0,0,0,0,0,0,0,0,0,0,0,0,0,0,0,0,0,0,0,0,0,0,0,0,0,0,0,0,0,0,0,0,0,0,0,0,0,0,0,0,0,0],\"highlightIndex\":{\"id\":\"1225\"}},\"v_func\":\"\\nconst index = parseInt(highlightIndex.text);\\nif(xs[index] === 3) {\\n  const newAlphas = new Array(xs.length).fill(0);\\n  newAlphas[index] = 1;\\n  return newAlphas;\\n} else { return alphasZeroes; }\\n\"},\"id\":\"1232\",\"type\":\"CustomJSTransform\"},{\"attributes\":{\"children\":[{\"id\":\"1002\"},{\"id\":\"1062\"},{\"id\":\"1161\"},{\"id\":\"1205\"},{\"id\":\"1335\"},{\"id\":\"1515\"}],\"max_width\":600,\"min_width\":600,\"sizing_mode\":\"stretch_width\"},\"id\":\"1537\",\"type\":\"Column\"},{\"attributes\":{\"source\":{\"id\":\"1053\"}},\"id\":\"1055\",\"type\":\"CDSView\"},{\"attributes\":{\"line_alpha\":0.1,\"line_color\":\"#000000\",\"x\":{\"field\":\"xs\"},\"y\":{\"value\":0.65}},\"id\":\"1384\",\"type\":\"Line\"},{\"attributes\":{},\"id\":\"1579\",\"type\":\"Selection\"},{\"attributes\":{\"args\":{\"src\":{\"id\":\"1227\"}},\"v_func\":\"\\nconst newXs = [];\\nconst data = src.data;\\nxs.forEach(\\n  (v, i) => newXs.push(v/2 + data['hb2'][i] + data['hb1'][i])\\n);\\n\\nreturn newXs;\\n\"},\"id\":\"1233\",\"type\":\"CustomJSTransform\"},{\"attributes\":{\"data_source\":{\"id\":\"1355\"},\"glyph\":{\"id\":\"1383\"},\"hover_glyph\":null,\"muted_glyph\":null,\"nonselection_glyph\":{\"id\":\"1384\"},\"selection_glyph\":null,\"view\":{\"id\":\"1386\"}},\"id\":\"1385\",\"type\":\"GlyphRenderer\"},{\"attributes\":{\"data\":{},\"selected\":{\"id\":\"1597\"},\"selection_policy\":{\"id\":\"1596\"}},\"id\":\"1059\",\"type\":\"ColumnDataSource\"},{\"attributes\":{\"source\":{\"id\":\"1355\"}},\"id\":\"1446\",\"type\":\"CDSView\"},{\"attributes\":{},\"id\":\"1580\",\"type\":\"UnionRenderers\"},{\"attributes\":{\"args\":{\"alphasZeroes\":[0,0,0,0,0,0,0,0,0,0,0,0,0,0,0,0,0,0,0,0,0,0,0,0,0,0,0,0,0,0,0,0,0,0,0,0,0,0,0,0,0,0,0,0,0,0,0,0,0,0,0],\"highlightIndex\":{\"id\":\"1225\"}},\"v_func\":\"\\nconst index = parseInt(highlightIndex.text);\\nif(xs[index] === 4) {\\n  const newAlphas = new Array(xs.length).fill(0);\\n  newAlphas[index] = 1;\\n  return newAlphas;\\n} else { return alphasZeroes; }\\n\"},\"id\":\"1234\",\"type\":\"CustomJSTransform\"},{\"attributes\":{\"line_alpha\":0.1,\"line_color\":\"#000000\",\"x\":{\"field\":\"xs\"},\"y\":{\"value\":0.93}},\"id\":\"1388\",\"type\":\"Line\"},{\"attributes\":{\"data_source\":{\"id\":\"1059\"},\"glyph\":{\"id\":\"1046\"},\"hover_glyph\":null,\"muted_glyph\":null,\"view\":{\"id\":\"1061\"}},\"id\":\"1060\",\"type\":\"GlyphRenderer\"},{\"attributes\":{\"source\":{\"id\":\"1355\"}},\"id\":\"1441\",\"type\":\"CDSView\"},{\"attributes\":{\"args\":{\"src\":{\"id\":\"1227\"}},\"v_func\":\"\\nconst newXs = [];\\nconst data = src.data;\\nxs.forEach(\\n  (v, i) => newXs.push(v/2 + data['hb3'][i] + data['hb2'][i] + data['hb1'][i])\\n);\\n\\nreturn newXs;\\n\"},\"id\":\"1235\",\"type\":\"CustomJSTransform\"},{\"attributes\":{},\"id\":\"1581\",\"type\":\"Selection\"},{\"attributes\":{\"text\":\"FIFA 2020 Penalty Simulator\",\"text_font_size\":{\"value\":\"15pt\"}},\"id\":\"1003\",\"type\":\"Title\"},{\"attributes\":{\"source\":{\"id\":\"1056\"}},\"id\":\"1058\",\"type\":\"CDSView\"},{\"attributes\":{},\"id\":\"1582\",\"type\":\"UnionRenderers\"},{\"attributes\":{\"args\":{\"alphasZeroes\":[0,0,0,0,0,0,0,0,0,0,0,0,0,0,0,0,0,0,0,0,0,0,0,0,0,0,0,0,0,0,0,0,0,0,0,0,0,0,0,0,0,0,0,0,0,0,0,0,0,0,0],\"highlightIndex\":{\"id\":\"1225\"}},\"v_func\":\"\\nconst index = parseInt(highlightIndex.text);\\nif(xs[index] === 5) {\\n  const newAlphas = new Array(xs.length).fill(0);\\n  newAlphas[index] = 1;\\n  return newAlphas;\\n} else { return alphasZeroes; }\\n\"},\"id\":\"1236\",\"type\":\"CustomJSTransform\"},{\"attributes\":{\"line_alpha\":0.1,\"line_color\":\"#000000\",\"x\":{\"field\":\"xs\"},\"y\":{\"value\":0.74}},\"id\":\"1393\",\"type\":\"Line\"},{\"attributes\":{\"toolbars\":[{\"id\":\"1180\"},{\"id\":\"1354\"},{\"id\":\"1021\"},{\"id\":\"1081\"},{\"id\":\"1224\"},{\"id\":\"1180\"},{\"id\":\"1354\"},{\"id\":\"1021\"},{\"id\":\"1081\"},{\"id\":\"1224\"}],\"tools\":[{\"id\":\"1203\"},{\"id\":\"1469\"},{\"id\":\"1159\"},{\"id\":\"1333\"},{\"id\":\"1203\"},{\"id\":\"1469\"},{\"id\":\"1159\"},{\"id\":\"1333\"}]},\"id\":\"1714\",\"type\":\"ProxyToolbar\"},{\"attributes\":{},\"id\":\"1071\",\"type\":\"LinearScale\"},{\"attributes\":{\"args\":{\"src\":{\"id\":\"1227\"}},\"v_func\":\"\\nconst newXs = [];\\nconst data = src.data;\\nxs.forEach(\\n  (v, i) => newXs.push(v/2 + data['hb4'][i] + data['hb3'][i] + data['hb2'][i] + data['hb1'][i])\\n);\\n\\nreturn newXs;\\n\"},\"id\":\"1237\",\"type\":\"CustomJSTransform\"},{\"attributes\":{},\"id\":\"1583\",\"type\":\"Selection\"},{\"attributes\":{\"end\":100},\"id\":\"1005\",\"type\":\"Range1d\"},{\"attributes\":{\"data_source\":{\"id\":\"1355\"},\"glyph\":{\"id\":\"1393\"},\"hover_glyph\":null,\"muted_glyph\":null,\"nonselection_glyph\":{\"id\":\"1394\"},\"selection_glyph\":null,\"view\":{\"id\":\"1396\"}},\"id\":\"1395\",\"type\":\"GlyphRenderer\"},{\"attributes\":{\"source\":{\"id\":\"1471\"}},\"id\":\"1474\",\"type\":\"CDSView\"},{\"attributes\":{\"line_alpha\":0.1,\"line_color\":\"#000000\",\"x\":{\"field\":\"xs\"},\"y\":{\"value\":0.93}},\"id\":\"1389\",\"type\":\"Line\"},{\"attributes\":{},\"id\":\"1584\",\"type\":\"UnionRenderers\"},{\"attributes\":{\"source\":{\"id\":\"1059\"}},\"id\":\"1061\",\"type\":\"CDSView\"},{\"attributes\":{\"toolbar\":{\"id\":\"1714\"},\"toolbar_location\":\"above\"},\"id\":\"1715\",\"type\":\"ToolbarBox\"},{\"attributes\":{\"data_source\":{\"id\":\"1355\"},\"glyph\":{\"id\":\"1388\"},\"hover_glyph\":null,\"muted_glyph\":null,\"nonselection_glyph\":{\"id\":\"1389\"},\"selection_glyph\":null,\"view\":{\"id\":\"1391\"}},\"id\":\"1390\",\"type\":\"GlyphRenderer\"},{\"attributes\":{},\"id\":\"1585\",\"type\":\"Selection\"},{\"attributes\":{\"args\":{\"alphasZeroes\":[0,0,0,0,0,0,0,0,0,0,0,0,0,0,0,0,0,0,0,0,0,0,0,0,0,0,0,0,0,0,0,0,0,0,0,0,0,0,0,0,0,0,0,0,0,0,0,0,0,0,0],\"highlightIndex\":{\"id\":\"1225\"}},\"v_func\":\"\\nconst index = parseInt(highlightIndex.text);\\nif(xs[index] === 6) {\\n  const newAlphas = new Array(xs.length).fill(0);\\n  newAlphas[index] = 1;\\n  return newAlphas;\\n} else { return alphasZeroes; }\\n\"},\"id\":\"1238\",\"type\":\"CustomJSTransform\"},{\"attributes\":{},\"id\":\"1544\",\"type\":\"BasicTickFormatter\"},{\"attributes\":{},\"id\":\"1074\",\"type\":\"BasicTicker\"},{\"attributes\":{\"args\":{\"src\":{\"id\":\"1227\"}},\"v_func\":\"\\nconst newXs = [];\\nconst data = src.data;\\nxs.forEach(\\n  (v, i) => newXs.push(v/2 + data['hb5'][i] + data['hb4'][i] + data['hb3'][i] + data['hb2'][i] + data['hb1'][i])\\n);\\n\\nreturn newXs;\\n\"},\"id\":\"1239\",\"type\":\"CustomJSTransform\"},{\"attributes\":{},\"id\":\"1586\",\"type\":\"UnionRenderers\"},{\"attributes\":{},\"id\":\"1546\",\"type\":\"BasicTickFormatter\"},{\"attributes\":{\"line_alpha\":0.1,\"line_color\":\"#000000\",\"x\":{\"field\":\"xs\"},\"y\":{\"value\":0.74}},\"id\":\"1394\",\"type\":\"Line\"},{\"attributes\":{\"formatter\":{\"id\":\"1548\"},\"ticker\":{\"id\":\"1074\"},\"visible\":false},\"id\":\"1073\",\"type\":\"LinearAxis\"},{\"attributes\":{},\"id\":\"1587\",\"type\":\"Selection\"},{\"attributes\":{},\"id\":\"1078\",\"type\":\"BasicTicker\"},{\"attributes\":{\"button_type\":\"warning\",\"icon\":null,\"js_event_callbacks\":{\"menu_item_click\":[{\"id\":\"1536\"}]},\"label\":\"CPU strategy to Use\",\"menu\":[[\"Fictitious_Play\",\"Fictitious_Play\"],[\"Mixed_Strategy\",\"Mixed_Strategy\"],[\"Random\",\"Random\"],[\"Goalie_Cheats\",\"Goalie_Cheats\"]],\"sizing_mode\":\"stretch_width\",\"visible\":false},\"id\":\"1506\",\"type\":\"Dropdown\"},{\"attributes\":{\"axis\":{\"id\":\"1073\"},\"grid_line_color\":\"black\",\"ticker\":null,\"visible\":false},\"id\":\"1076\",\"type\":\"Grid\"},{\"attributes\":{\"active_drag\":\"auto\",\"active_inspect\":\"auto\",\"active_multi\":null,\"active_scroll\":\"auto\",\"active_tap\":\"auto\",\"tools\":[{\"id\":\"1159\"}]},\"id\":\"1081\",\"type\":\"Toolbar\"},{\"attributes\":{\"axis\":{\"id\":\"1077\"},\"dimension\":1,\"grid_line_color\":\"black\",\"ticker\":null,\"visible\":false},\"id\":\"1080\",\"type\":\"Grid\"},{\"attributes\":{\"formatter\":{\"id\":\"1550\"},\"ticker\":{\"id\":\"1078\"}},\"id\":\"1077\",\"type\":\"LinearAxis\"},{\"attributes\":{\"data\":{},\"selected\":{\"id\":\"1601\"},\"selection_policy\":{\"id\":\"1600\"}},\"id\":\"1082\",\"type\":\"ColumnDataSource\"},{\"attributes\":{\"data\":{\"aim_direction\":[\"Left\",\"Middle\",\"Right\",\"Left\",\"Middle\",\"Right\"],\"decisions\":[0,0,0,0,0,0],\"footedness\":[\"Left\",\"Left\",\"Left\",\"Right\",\"Right\",\"Right\"],\"freq\":[0,0,0,0,0,0],\"goalie_perceived_risks\":[0,0,0,0,0,0],\"striker_score_chance\":[0,0,0,0,0,0],\"striker_score_roll\":[0,0,0,0,0,0]},\"selected\":{\"id\":\"1579\"},\"selection_policy\":{\"id\":\"1578\"}},\"id\":\"1507\",\"type\":\"ColumnDataSource\"},{\"attributes\":{\"source\":{\"id\":\"1097\"}},\"id\":\"1101\",\"type\":\"CDSView\"},{\"attributes\":{\"background_fill_alpha\":0,\"border_line_alpha\":0,\"items\":[{\"id\":\"1106\"},{\"id\":\"1107\"}],\"label_height\":10,\"label_text_font_size\":\"10pt\",\"location\":[68,40],\"orientation\":\"horizontal\",\"padding\":0},\"id\":\"1105\",\"type\":\"Legend\"},{\"attributes\":{\"args\":{\"src\":{\"id\":\"1108\"}},\"v_func\":\"\\nconst newXs = new Array(xs.length);\\nxs.forEach(\\n  (v, i) => newXs[i] = v/2\\n);\\nreturn newXs;\\n\"},\"id\":\"1109\",\"type\":\"CustomJSTransform\"},{\"attributes\":{\"editor\":{\"id\":\"1564\"},\"field\":\"footedness\",\"formatter\":{\"id\":\"1565\"},\"title\":\"Footedness\",\"width\":77},\"id\":\"1508\",\"type\":\"TableColumn\"},{\"attributes\":{\"data\":{\"aim_direction\":[\"Left\",\"Middle\",\"Right\",\"Left\",\"Middle\",\"Right\"],\"chances\":[0,0,0,0,0,0],\"footedness\":[\"Left\",\"Left\",\"Left\",\"Right\",\"Right\",\"Right\"]},\"selected\":{\"id\":\"1622\"},\"selection_policy\":{\"id\":\"1621\"}},\"id\":\"1517\",\"type\":\"ColumnDataSource\"},{\"attributes\":{\"fill_alpha\":{\"value\":0.1},\"fill_color\":{\"value\":\"#CBEBD9\"},\"line_alpha\":{\"value\":0.1},\"line_color\":{\"value\":\"#CBEBD9\"},\"radius\":{\"units\":\"data\",\"value\":0},\"x\":{\"value\":0},\"y\":{\"value\":0}},\"id\":\"1099\",\"type\":\"Circle\"},{\"attributes\":{\"data_source\":{\"id\":\"1097\"},\"glyph\":{\"id\":\"1098\"},\"hover_glyph\":null,\"muted_glyph\":null,\"nonselection_glyph\":{\"id\":\"1099\"},\"selection_glyph\":null,\"view\":{\"id\":\"1101\"}},\"id\":\"1100\",\"type\":\"GlyphRenderer\"},{\"attributes\":{\"editor\":{\"id\":\"1566\"},\"field\":\"aim_direction\",\"formatter\":{\"id\":\"1567\"},\"title\":\"Aim Direction\",\"width\":84},\"id\":\"1509\",\"type\":\"TableColumn\"},{\"attributes\":{\"data\":{},\"selected\":{\"id\":\"1607\"},\"selection_policy\":{\"id\":\"1606\"}},\"id\":\"1097\",\"type\":\"ColumnDataSource\"},{\"attributes\":{\"source\":{\"id\":\"1092\"}},\"id\":\"1096\",\"type\":\"CDSView\"},{\"attributes\":{\"fill_color\":{\"value\":\"#CBEBD9\"},\"line_color\":{\"value\":\"#CBEBD9\"},\"radius\":{\"units\":\"data\",\"value\":0},\"x\":{\"value\":0},\"y\":{\"value\":0}},\"id\":\"1098\",\"type\":\"Circle\"},{\"attributes\":{\"data_source\":{\"id\":\"1092\"},\"glyph\":{\"id\":\"1093\"},\"hover_glyph\":null,\"muted_glyph\":null,\"nonselection_glyph\":{\"id\":\"1094\"},\"selection_glyph\":null,\"view\":{\"id\":\"1096\"}},\"id\":\"1095\",\"type\":\"GlyphRenderer\"},{\"attributes\":{\"editor\":{\"id\":\"1568\"},\"field\":\"freq\",\"formatter\":{\"id\":\"1569\"},\"title\":\"Frequency\",\"width\":69},\"id\":\"1510\",\"type\":\"TableColumn\"},{\"attributes\":{\"editor\":{\"id\":\"1574\"},\"field\":\"striker_score_chance\",\"formatter\":{\"id\":\"1575\"},\"title\":\"Score Chance\",\"width\":88},\"id\":\"1513\",\"type\":\"TableColumn\"},{\"attributes\":{\"fill_alpha\":{\"field\":\"highlight_alphas\"},\"fill_color\":{\"value\":\"#ECB841\"},\"line_alpha\":{\"field\":\"highlight_alphas\"},\"line_color\":{\"value\":\"#D8A42D\"},\"size\":{\"units\":\"screen\",\"value\":10},\"x\":{\"field\":\"xs\"},\"y\":{\"field\":\"ys\"}},\"id\":\"1362\",\"type\":\"CircleCross\"},{\"attributes\":{\"editor\":{\"id\":\"1570\"},\"field\":\"decisions\",\"formatter\":{\"id\":\"1571\"},\"title\":\"Decisions\",\"width\":64},\"id\":\"1511\",\"type\":\"TableColumn\"},{\"attributes\":{\"editor\":{\"id\":\"1576\"},\"field\":\"striker_score_roll\",\"formatter\":{\"id\":\"1577\"},\"title\":\"Score Roll\",\"width\":74},\"id\":\"1514\",\"type\":\"TableColumn\"},{\"attributes\":{\"editor\":{\"id\":\"1572\"},\"field\":\"goalie_perceived_risks\",\"formatter\":{\"id\":\"1573\"},\"title\":\"Perceived Risks\",\"width\":97},\"id\":\"1512\",\"type\":\"TableColumn\"},{\"attributes\":{\"fill_alpha\":{\"value\":0.1},\"fill_color\":{\"value\":\"#3F6750\"},\"line_alpha\":{\"value\":0.1},\"line_color\":{\"value\":\"#3F6750\"},\"radius\":{\"units\":\"data\",\"value\":0},\"x\":{\"value\":0},\"y\":{\"value\":0}},\"id\":\"1084\",\"type\":\"Circle\"},{\"attributes\":{\"fill_color\":{\"value\":\"#64A580\"},\"line_color\":{\"value\":\"#64A580\"},\"radius\":{\"units\":\"data\",\"value\":0},\"x\":{\"value\":0},\"y\":{\"value\":0}},\"id\":\"1088\",\"type\":\"Circle\"},{\"attributes\":{\"data_source\":{\"id\":\"1082\"},\"glyph\":{\"id\":\"1083\"},\"hover_glyph\":null,\"muted_glyph\":null,\"nonselection_glyph\":{\"id\":\"1084\"},\"selection_glyph\":null,\"view\":{\"id\":\"1086\"}},\"id\":\"1085\",\"type\":\"GlyphRenderer\"},{\"attributes\":{\"source\":{\"id\":\"1082\"}},\"id\":\"1086\",\"type\":\"CDSView\"},{\"attributes\":{\"autosize_mode\":\"fit_columns\",\"columns\":[{\"id\":\"1508\"},{\"id\":\"1509\"},{\"id\":\"1510\"},{\"id\":\"1511\"},{\"id\":\"1512\"},{\"id\":\"1513\"},{\"id\":\"1514\"}],\"fit_columns\":false,\"height\":280,\"sizing_mode\":\"stretch_width\",\"source\":{\"id\":\"1507\"},\"view\":{\"id\":\"1516\"},\"visible\":false},\"id\":\"1515\",\"type\":\"DataTable\"},{\"attributes\":{\"data\":{},\"selected\":{\"id\":\"1603\"},\"selection_policy\":{\"id\":\"1602\"}},\"id\":\"1087\",\"type\":\"ColumnDataSource\"},{\"attributes\":{\"fill_alpha\":{\"value\":0.1},\"fill_color\":{\"value\":\"#64A580\"},\"line_alpha\":{\"value\":0.1},\"line_color\":{\"value\":\"#64A580\"},\"radius\":{\"units\":\"data\",\"value\":0},\"x\":{\"value\":0},\"y\":{\"value\":0}},\"id\":\"1089\",\"type\":\"Circle\"},{\"attributes\":{\"fill_color\":{\"value\":\"#8AD3AA\"},\"line_color\":{\"value\":\"#8AD3AA\"},\"radius\":{\"units\":\"data\",\"value\":0},\"x\":{\"value\":0},\"y\":{\"value\":0}},\"id\":\"1093\",\"type\":\"Circle\"},{\"attributes\":{\"editor\":{\"id\":\"1644\"},\"field\":\"aim_direction\",\"formatter\":{\"id\":\"1645\"},\"title\":\"Striker Aim Direction\"},\"id\":\"1519\",\"type\":\"TableColumn\"},{\"attributes\":{\"data_source\":{\"id\":\"1087\"},\"glyph\":{\"id\":\"1088\"},\"hover_glyph\":null,\"muted_glyph\":null,\"nonselection_glyph\":{\"id\":\"1089\"},\"selection_glyph\":null,\"view\":{\"id\":\"1091\"}},\"id\":\"1090\",\"type\":\"GlyphRenderer\"},{\"attributes\":{\"editor\":{\"id\":\"1642\"},\"field\":\"footedness\",\"formatter\":{\"id\":\"1643\"},\"title\":\"Striker Footedness\"},\"id\":\"1518\",\"type\":\"TableColumn\"},{\"attributes\":{\"source\":{\"id\":\"1087\"}},\"id\":\"1091\",\"type\":\"CDSView\"},{\"attributes\":{\"data\":{},\"selected\":{\"id\":\"1605\"},\"selection_policy\":{\"id\":\"1604\"}},\"id\":\"1092\",\"type\":\"ColumnDataSource\"},{\"attributes\":{\"editor\":{\"id\":\"1646\"},\"field\":\"chances\",\"formatter\":{\"id\":\"1647\"},\"title\":\"Chance\"},\"id\":\"1520\",\"type\":\"TableColumn\"},{\"attributes\":{\"columns\":[{\"id\":\"1518\"},{\"id\":\"1519\"},{\"id\":\"1520\"}],\"height\":280,\"source\":{\"id\":\"1517\"},\"view\":{\"id\":\"1522\"},\"visible\":false},\"id\":\"1521\",\"type\":\"DataTable\"},{\"attributes\":{\"data\":{\"chance_ys\":[0,0,0,0,0,0,0,0,0,0,0,0,0,0,0,0,0,0,0,0,0,0,0,0,0,0,0,0,0,0,0,0,0,0,0,0,0,0,0,0,0,0,0,0,0,0,0,0,0,0,0],\"heights\":[100,100,100,100,100,100,100,100,100,100,100,100,100,100,100,100,100,100,100,100,100,100,100,100,100,100,100,100,100,100,100,100,100,100,100,100,100,100,100,100,100,100,100,100,100,100,100,100,100,100,100],\"highlight_alphas\":[0,0,0,0,0,0,0,0,0,0,0,0,0,0,0,0,0,0,0,0,0,0,0,0,0,0,0,0,0,0,0,0,0,0,0,0,0,0,0,0,0,0,0,0,0,0,0,0,0,0,0],\"xs\":[0,1,2,3,4,5,6,7,8,9,10,11,12,13,14,15,16,17,18,19,20,21,22,23,24,25,26,27,28,29,30,31,32,33,34,35,36,37,38,39,40,41,42,43,44,45,46,47,48,49,50],\"ys\":[0,0,0,0,0,0,0,0,0,0,0,0,0,0,0,0,0,0,0,0,0,0,0,0,0,0,0,0,0,0,0,0,0,0,0,0,0,0,0,0,0,0,0,0,0,0,0,0,0,0,0]},\"selected\":{\"id\":\"1611\"},\"selection_policy\":{\"id\":\"1610\"}},\"id\":\"1181\",\"type\":\"ColumnDataSource\"},{\"attributes\":{\"fill_alpha\":{\"value\":0.1},\"fill_color\":{\"value\":\"#8AD3AA\"},\"line_alpha\":{\"value\":0.1},\"line_color\":{\"value\":\"#8AD3AA\"},\"radius\":{\"units\":\"data\",\"value\":0},\"x\":{\"value\":0},\"y\":{\"value\":0}},\"id\":\"1094\",\"type\":\"Circle\"},{\"attributes\":{\"source\":{\"id\":\"1517\"}},\"id\":\"1522\",\"type\":\"CDSView\"},{\"attributes\":{\"label\":{\"value\":\"Scored\"},\"renderers\":[{\"id\":\"1085\"}]},\"id\":\"1103\",\"type\":\"LegendItem\"},{\"attributes\":{\"label\":{\"value\":\"Goalie Blocked By Going Left\"},\"renderers\":[{\"id\":\"1090\"}]},\"id\":\"1104\",\"type\":\"LegendItem\"},{\"attributes\":{},\"id\":\"1212\",\"type\":\"LinearScale\"},{\"attributes\":{\"args\":{\"advSpdSlider\":{\"id\":\"1499\"},\"aimTextInputs\":[{\"id\":\"1500\"},{\"id\":\"1501\"},{\"id\":\"1502\"},{\"id\":\"1503\"},{\"id\":\"1504\"},{\"id\":\"1505\"}],\"autoAdvButton\":{\"id\":\"1497\"},\"automateButton\":{\"id\":\"1488\"},\"automationTable\":{\"id\":\"1521\"},\"chancesNE1Tip\":{\"id\":\"1483\"},\"iterationsSlider\":{\"id\":\"1498\"},\"selectCpuTip\":{\"id\":\"1480\"},\"strategyDropdown\":{\"id\":\"1506\"}},\"code\":\"\\n//Change visibilities of game items:\\nautomateButton.visible = false;\\naimTextInputs.forEach(\\n  (v) => v.visible = true\\n)\\nautomationTable.visible = true;\\nchancesNE1Tip.visible = true;\\n\\nautoAdvButton.active = true;\\nautoAdvButton.visible = false;\\n\\nadvSpdSlider.value = 100;\\nadvSpdSlider.visible = false;\\n\\niterationsSlider.value = 50;\\niterationsSlider.visible = false;\\n\"},\"id\":\"1523\",\"type\":\"CustomJS\"},{\"attributes\":{\"label\":{\"value\":\"Goalie Blocked By Going Middle\"},\"renderers\":[{\"id\":\"1095\"}]},\"id\":\"1106\",\"type\":\"LegendItem\"},{\"attributes\":{\"data\":{\"blockedl_y\":[0.0,0.0,0.0,0.0,0.0,0.0],\"blockedm_y\":[0.0,0.0,0.0,0.0,0.0,0.0],\"blockedr_y\":[0.0,0.0,0.0,0.0,0.0,0.0],\"hovered_widths\":[\"\",\"\",\"\",\"\",\"\",\"\"],\"scored_y\":[0.0,0.0,0.0,0.0,0.0,0.0],\"x\":[0.5,1.5,2.5,3.5,4.5,5.5]},\"selected\":{\"id\":\"1609\"},\"selection_policy\":{\"id\":\"1608\"}},\"id\":\"1108\",\"type\":\"ColumnDataSource\"},{\"attributes\":{},\"id\":\"1177\",\"type\":\"BasicTicker\"},{\"attributes\":{\"fill_alpha\":{\"value\":0},\"fill_color\":{\"value\":\"#8AD3AA\"},\"height\":{\"field\":\"blockedm_y\",\"units\":\"data\"},\"line_alpha\":{\"value\":0},\"line_color\":{\"value\":\"#8AD3AA\"},\"width\":{\"units\":\"data\",\"value\":1},\"x\":{\"field\":\"x\"},\"y\":{\"field\":\"blockedm_y\",\"transform\":{\"id\":\"1113\"}}},\"id\":\"1138\",\"type\":\"Rect\"},{\"attributes\":{\"sizing_mode\":\"stretch_width\",\"text\":\"Select A CPU Strategy From the Dropdown\",\"visible\":false},\"id\":\"1480\",\"type\":\"Div\"},{\"attributes\":{\"label\":{\"value\":\"Goalie Blocked By Going Right\"},\"renderers\":[{\"id\":\"1100\"}]},\"id\":\"1107\",\"type\":\"LegendItem\"},{\"attributes\":{\"source\":{\"id\":\"1108\"}},\"id\":\"1136\",\"type\":\"CDSView\"},{\"attributes\":{},\"id\":\"1588\",\"type\":\"UnionRenderers\"},{\"attributes\":{\"button_type\":\"success\",\"icon\":null,\"js_event_callbacks\":{\"button_click\":[{\"id\":\"1532\"}]},\"label\":\"Figure 4\",\"sizing_mode\":\"scale_width\",\"visible\":false,\"width_policy\":\"fit\"},\"id\":\"1496\",\"type\":\"Button\"},{\"attributes\":{\"source\":{\"id\":\"1227\"}},\"id\":\"1269\",\"type\":\"CDSView\"},{\"attributes\":{},\"id\":\"1589\",\"type\":\"Selection\"},{\"attributes\":{\"data_source\":{\"id\":\"1227\"},\"glyph\":{\"id\":\"1266\"},\"hover_glyph\":null,\"muted_glyph\":null,\"name\":\"3\",\"nonselection_glyph\":{\"id\":\"1267\"},\"selection_glyph\":null,\"view\":{\"id\":\"1269\"}},\"id\":\"1268\",\"type\":\"GlyphRenderer\"},{\"attributes\":{\"fill_alpha\":{\"value\":0},\"fill_color\":{\"value\":\"#1f77b4\"},\"height\":{\"field\":\"hb3\",\"units\":\"data\"},\"line_alpha\":{\"value\":0},\"line_color\":{\"value\":\"#1f77b4\"},\"width\":{\"units\":\"data\",\"value\":1},\"x\":{\"field\":\"xs\"},\"y\":{\"field\":\"hb3\",\"transform\":{\"id\":\"1233\"}}},\"id\":\"1266\",\"type\":\"Rect\"},{\"attributes\":{},\"id\":\"1590\",\"type\":\"UnionRenderers\"},{\"attributes\":{\"button_type\":\"success\",\"icon\":null,\"label\":\"Fast Forward\",\"sizing_mode\":\"scale_width\",\"visible\":false,\"width_policy\":\"fit\"},\"id\":\"1497\",\"type\":\"Toggle\"},{\"attributes\":{\"source\":{\"id\":\"1355\"}},\"id\":\"1451\",\"type\":\"CDSView\"},{\"attributes\":{},\"id\":\"1591\",\"type\":\"Selection\"},{\"attributes\":{\"fill_color\":{\"value\":\"#CE7D7D\"},\"line_color\":{\"value\":\"#B56464\"},\"size\":{\"units\":\"screen\",\"value\":5},\"x\":{\"field\":\"xs\"},\"y\":{\"field\":\"ys\"}},\"id\":\"1183\",\"type\":\"CircleCross\"},{\"attributes\":{\"fill_color\":{\"value\":\"#AFC8C8\"},\"line_color\":{\"value\":\"#96AFAF\"},\"size\":{\"units\":\"screen\",\"value\":5},\"x\":{\"field\":\"xs\"},\"y\":{\"field\":\"rl_ys\"}},\"id\":\"1271\",\"type\":\"CircleCross\"},{\"attributes\":{\"sizing_mode\":\"stretch_width\",\"text\":\"Chances cannot be less than 0\",\"visible\":false},\"id\":\"1481\",\"type\":\"Div\"},{\"attributes\":{},\"id\":\"1592\",\"type\":\"UnionRenderers\"},{\"attributes\":{\"source\":{\"id\":\"1108\"}},\"id\":\"1141\",\"type\":\"CDSView\"},{\"attributes\":{\"fill_alpha\":{\"value\":0.1},\"fill_color\":{\"value\":\"#1f77b4\"},\"height\":{\"field\":\"hb3\",\"units\":\"data\"},\"line_alpha\":{\"value\":0.1},\"line_color\":{\"value\":\"#1f77b4\"},\"width\":{\"units\":\"data\",\"value\":1},\"x\":{\"field\":\"xs\"},\"y\":{\"field\":\"hb3\",\"transform\":{\"id\":\"1233\"}}},\"id\":\"1267\",\"type\":\"Rect\"},{\"attributes\":{\"args\":{\"src\":{\"id\":\"1108\"}},\"v_func\":\"\\nconst newXs = new Array(xs.length);\\nxs.forEach(\\n  (v, i) => newXs[i] = v/2 + src.data[\\\"scored_y\\\"][i]\\n);\\nreturn newXs;\\n\"},\"id\":\"1111\",\"type\":\"CustomJSTransform\"},{\"attributes\":{\"fill_alpha\":{\"value\":0.1},\"fill_color\":{\"value\":\"#8AD3AA\"},\"height\":{\"field\":\"blockedm_y\",\"units\":\"data\"},\"line_alpha\":{\"value\":0.1},\"line_color\":{\"value\":\"#8AD3AA\"},\"width\":{\"units\":\"data\",\"value\":1},\"x\":{\"field\":\"x\"},\"y\":{\"field\":\"blockedm_y\",\"transform\":{\"id\":\"1113\"}}},\"id\":\"1139\",\"type\":\"Rect\"},{\"attributes\":{\"code\":\"\\nconst kfkks = ['(L, L)', '(L, M)', '(L, R)', '(R, L)', '(R, M)', '(R, R)'];\\nreturn kfkks[special_vars.index];\\n\"},\"id\":\"1157\",\"type\":\"CustomJSHover\"},{\"attributes\":{\"source\":{\"id\":\"1227\"}},\"id\":\"1264\",\"type\":\"CDSView\"},{\"attributes\":{},\"id\":\"1593\",\"type\":\"Selection\"},{\"attributes\":{\"end\":500,\"format\":\"0[.]00\",\"sizing_mode\":\"stretch_width\",\"start\":10,\"step\":10,\"title\":\"Iterations To Run\",\"value\":50,\"visible\":false},\"id\":\"1498\",\"type\":\"Slider\"},{\"attributes\":{\"data_source\":{\"id\":\"1108\"},\"glyph\":{\"id\":\"1138\"},\"hover_glyph\":null,\"muted_glyph\":null,\"name\":\"Blocked Middle\",\"nonselection_glyph\":{\"id\":\"1139\"},\"selection_glyph\":null,\"view\":{\"id\":\"1141\"}},\"id\":\"1140\",\"type\":\"GlyphRenderer\"},{\"attributes\":{\"source\":{\"id\":\"1181\"}},\"id\":\"1186\",\"type\":\"CDSView\"},{\"attributes\":{\"args\":{\"src\":{\"id\":\"1108\"}},\"v_func\":\"\\nconst newXs = new Array(xs.length);\\nxs.forEach(\\n  (v, i) => newXs[i] = v/2 + src.data[\\\"blockedl_y\\\"][i] + src.data[\\\"scored_y\\\"][i]\\n);\\nreturn newXs;\\n\"},\"id\":\"1113\",\"type\":\"CustomJSTransform\"},{\"attributes\":{},\"id\":\"1594\",\"type\":\"UnionRenderers\"},{\"attributes\":{\"sizing_mode\":\"stretch_width\",\"text\":\"Chances cannot be greater than 1\",\"visible\":false},\"id\":\"1482\",\"type\":\"Div\"},{\"attributes\":{\"end\":1000,\"format\":\"0[.]00\",\"sizing_mode\":\"stretch_width\",\"start\":50,\"step\":10,\"title\":\"Auto Advance Delay (ms)\",\"value\":300,\"visible\":false},\"id\":\"1499\",\"type\":\"Slider\"},{\"attributes\":{\"fill_color\":{\"value\":\"black\"},\"size\":{\"units\":\"screen\",\"value\":3},\"x\":{\"field\":\"xs\"},\"y\":{\"field\":\"chance_ys\"}},\"id\":\"1188\",\"type\":\"CircleCross\"},{\"attributes\":{},\"id\":\"1595\",\"type\":\"Selection\"},{\"attributes\":{\"data_source\":{\"id\":\"1181\"},\"glyph\":{\"id\":\"1183\"},\"hover_glyph\":null,\"muted_glyph\":null,\"nonselection_glyph\":{\"id\":\"1184\"},\"selection_glyph\":null,\"view\":{\"id\":\"1186\"}},\"id\":\"1185\",\"type\":\"GlyphRenderer\"},{\"attributes\":{\"args\":{\"src\":{\"id\":\"1108\"}},\"v_func\":\"\\nconst newXs = new Array(xs.length);\\nxs.forEach(\\n  (v, i) => newXs[i] = v/2 + src.data[\\\"blockedm_y\\\"][i] + src.data[\\\"blockedl_y\\\"][i] + src.data[\\\"scored_y\\\"][i]\\n);\\nreturn newXs;\\n\"},\"id\":\"1115\",\"type\":\"CustomJSTransform\"},{\"attributes\":{},\"id\":\"1596\",\"type\":\"UnionRenderers\"},{\"attributes\":{\"v_func\":\"\\nconst newXs = xs.map(\\n  (v) => ((v === 2) ? 1 : 0.8)\\n)\\nreturn newXs;\\n\"},\"id\":\"1112\",\"type\":\"CustomJSTransform\"},{\"attributes\":{\"fill_alpha\":{\"value\":0.1},\"fill_color\":{\"value\":\"#CE7D7D\"},\"line_alpha\":{\"value\":0.1},\"line_color\":{\"value\":\"#B56464\"},\"size\":{\"units\":\"screen\",\"value\":5},\"x\":{\"field\":\"xs\"},\"y\":{\"field\":\"ys\"}},\"id\":\"1184\",\"type\":\"CircleCross\"},{\"attributes\":{\"source\":{\"id\":\"1108\"}},\"id\":\"1146\",\"type\":\"CDSView\"},{\"attributes\":{\"sizing_mode\":\"stretch_width\",\"text\":\"Chances must add up to 1\",\"visible\":false},\"id\":\"1483\",\"type\":\"Div\"},{\"attributes\":{\"fill_alpha\":{\"value\":0},\"fill_color\":{\"value\":\"#CBEBD9\"},\"height\":{\"field\":\"blockedr_y\",\"units\":\"data\"},\"line_alpha\":{\"value\":0},\"line_color\":{\"value\":\"#CBEBD9\"},\"width\":{\"units\":\"data\",\"value\":1},\"x\":{\"field\":\"x\"},\"y\":{\"field\":\"blockedr_y\",\"transform\":{\"id\":\"1115\"}}},\"id\":\"1148\",\"type\":\"Rect\"},{\"attributes\":{},\"id\":\"1597\",\"type\":\"Selection\"},{\"attributes\":{\"fill_alpha\":{\"value\":0.1},\"fill_color\":{\"value\":\"#8AD3AA\"},\"height\":{\"field\":\"blockedm_y\",\"units\":\"data\"},\"line_alpha\":{\"value\":0.1},\"line_color\":{\"value\":\"#8AD3AA\"},\"width\":{\"field\":\"hovered_widths\",\"transform\":{\"id\":\"1114\"},\"units\":\"data\"},\"x\":{\"field\":\"x\"},\"y\":{\"field\":\"blockedm_y\",\"transform\":{\"id\":\"1113\"}}},\"id\":\"1144\",\"type\":\"Rect\"},{\"attributes\":{\"fill_alpha\":{\"value\":0},\"fill_color\":{\"value\":\"#3F6750\"},\"height\":{\"field\":\"scored_y\",\"units\":\"data\"},\"line_alpha\":{\"value\":0},\"line_color\":{\"value\":\"#3F6750\"},\"width\":{\"units\":\"data\",\"value\":1},\"x\":{\"field\":\"x\"},\"y\":{\"field\":\"scored_y\",\"transform\":{\"id\":\"1109\"}}},\"id\":\"1118\",\"type\":\"Rect\"},{\"attributes\":{\"source\":{\"id\":\"1181\"}},\"id\":\"1191\",\"type\":\"CDSView\"},{\"attributes\":{\"data_source\":{\"id\":\"1108\"},\"glyph\":{\"id\":\"1143\"},\"hover_glyph\":null,\"muted_glyph\":null,\"nonselection_glyph\":{\"id\":\"1144\"},\"selection_glyph\":null,\"view\":{\"id\":\"1146\"}},\"id\":\"1145\",\"type\":\"GlyphRenderer\"},{\"attributes\":{},\"id\":\"1598\",\"type\":\"UnionRenderers\"},{\"attributes\":{\"v_func\":\"\\nconst newXs = xs.map(\\n  (v) => ((v === 3) ? 1 : 0.8)\\n)\\nreturn newXs;\\n\"},\"id\":\"1114\",\"type\":\"CustomJSTransform\"},{\"attributes\":{},\"id\":\"1599\",\"type\":\"Selection\"},{\"attributes\":{\"fill_alpha\":{\"field\":\"highlight_alphas\"},\"fill_color\":{\"value\":\"#7D7DCE\"},\"line_alpha\":{\"field\":\"highlight_alphas\"},\"line_color\":{\"value\":\"#6464B5\"},\"size\":{\"units\":\"screen\",\"value\":10},\"x\":{\"field\":\"xs\"},\"y\":{\"field\":\"ys\"}},\"id\":\"1193\",\"type\":\"CircleCross\"},{\"attributes\":{\"fill_alpha\":{\"value\":0.1},\"fill_color\":{\"value\":\"#AFC8C8\"},\"line_alpha\":{\"value\":0.1},\"line_color\":{\"value\":\"#96AFAF\"},\"size\":{\"units\":\"screen\",\"value\":5},\"x\":{\"field\":\"xs\"},\"y\":{\"field\":\"rl_ys\"}},\"id\":\"1272\",\"type\":\"CircleCross\"},{\"attributes\":{\"js_property_callbacks\":{\"change:text\":[{\"id\":\"1524\"}]},\"text\":\"1\",\"visible\":false},\"id\":\"1484\",\"type\":\"Div\"},{\"attributes\":{\"js_property_callbacks\":{\"change:value\":[{\"id\":\"1535\"}]},\"sizing_mode\":\"stretch_width\",\"title\":\"Left-Footed Kicker Kicking to the Left Selection Chance\",\"value\":\"0\",\"visible\":false},\"id\":\"1500\",\"type\":\"TextInput\"},{\"attributes\":{\"fill_alpha\":{\"value\":0},\"fill_color\":{\"value\":\"#1f77b4\"},\"height\":{\"field\":\"hb5\",\"units\":\"data\"},\"line_alpha\":{\"value\":0},\"line_color\":{\"value\":\"#1f77b4\"},\"width\":{\"units\":\"data\",\"value\":1},\"x\":{\"field\":\"xs\"},\"y\":{\"field\":\"hb5\",\"transform\":{\"id\":\"1237\"}}},\"id\":\"1286\",\"type\":\"Rect\"},{\"attributes\":{\"js_property_callbacks\":{\"change:text\":[{\"id\":\"1524\"}]},\"text\":\"1\",\"visible\":false},\"id\":\"1485\",\"type\":\"Div\"},{\"attributes\":{},\"id\":\"1600\",\"type\":\"UnionRenderers\"},{\"attributes\":{\"axis\":{\"id\":\"1176\"},\"dimension\":1,\"grid_line_color\":\"black\",\"ticker\":null,\"visible\":false},\"id\":\"1179\",\"type\":\"Grid\"},{\"attributes\":{\"v_func\":\"\\nconst newXs = xs.map(\\n  (v) => ((v === 4) ? 1 : 0.8)\\n)\\nreturn newXs;\\n\"},\"id\":\"1116\",\"type\":\"CustomJSTransform\"},{\"attributes\":{\"active_drag\":\"auto\",\"active_inspect\":\"auto\",\"active_multi\":null,\"active_scroll\":\"auto\",\"active_tap\":\"auto\",\"tools\":[{\"id\":\"1203\"}]},\"id\":\"1180\",\"type\":\"Toolbar\"},{\"attributes\":{\"line_alpha\":0.1,\"line_color\":\"#000000\",\"x\":{\"field\":\"xs\"},\"y\":{\"value\":0.87}},\"id\":\"1453\",\"type\":\"Line\"},{\"attributes\":{\"js_property_callbacks\":{\"change:text\":[{\"id\":\"1524\"}]},\"text\":\"0\",\"visible\":false},\"id\":\"1486\",\"type\":\"Div\"},{\"attributes\":{},\"id\":\"1601\",\"type\":\"Selection\"},{\"attributes\":{\"data_source\":{\"id\":\"1227\"},\"glyph\":{\"id\":\"1271\"},\"hover_glyph\":null,\"muted_glyph\":null,\"nonselection_glyph\":{\"id\":\"1272\"},\"selection_glyph\":null,\"view\":{\"id\":\"1274\"}},\"id\":\"1273\",\"type\":\"GlyphRenderer\"},{\"attributes\":{\"fill_alpha\":{\"value\":0.1},\"fill_color\":{\"value\":\"black\"},\"line_alpha\":{\"value\":0.1},\"size\":{\"units\":\"screen\",\"value\":3},\"x\":{\"field\":\"xs\"},\"y\":{\"field\":\"chance_ys\"}},\"id\":\"1189\",\"type\":\"CircleCross\"},{\"attributes\":{\"js_property_callbacks\":{\"change:value\":[{\"id\":\"1535\"}]},\"sizing_mode\":\"stretch_width\",\"title\":\"Left-Footed Kicker Kicking to the Middle Selection Chance\",\"value\":\"0\",\"visible\":false},\"id\":\"1501\",\"type\":\"TextInput\"},{\"attributes\":{\"data_source\":{\"id\":\"1181\"},\"glyph\":{\"id\":\"1188\"},\"hover_glyph\":null,\"muted_glyph\":null,\"nonselection_glyph\":{\"id\":\"1189\"},\"selection_glyph\":null,\"view\":{\"id\":\"1191\"}},\"id\":\"1190\",\"type\":\"GlyphRenderer\"},{\"attributes\":{\"source\":{\"id\":\"1108\"}},\"id\":\"1151\",\"type\":\"CDSView\"},{\"attributes\":{},\"id\":\"1602\",\"type\":\"UnionRenderers\"},{\"attributes\":{\"fill_alpha\":{\"value\":0.1},\"fill_color\":{\"value\":\"#CBEBD9\"},\"height\":{\"field\":\"blockedr_y\",\"units\":\"data\"},\"line_alpha\":{\"value\":0.1},\"line_color\":{\"value\":\"#CBEBD9\"},\"width\":{\"units\":\"data\",\"value\":1},\"x\":{\"field\":\"x\"},\"y\":{\"field\":\"blockedr_y\",\"transform\":{\"id\":\"1115\"}}},\"id\":\"1149\",\"type\":\"Rect\"},{\"attributes\":{\"data_source\":{\"id\":\"1108\"},\"glyph\":{\"id\":\"1148\"},\"hover_glyph\":null,\"muted_glyph\":null,\"name\":\"Blocked Right\",\"nonselection_glyph\":{\"id\":\"1149\"},\"selection_glyph\":null,\"view\":{\"id\":\"1151\"}},\"id\":\"1150\",\"type\":\"GlyphRenderer\"},{\"attributes\":{\"source\":{\"id\":\"1108\"}},\"id\":\"1121\",\"type\":\"CDSView\"},{\"attributes\":{},\"id\":\"1603\",\"type\":\"Selection\"},{\"attributes\":{\"callback\":null,\"formatters\":{\"@xs\":{\"id\":\"1202\"}},\"point_policy\":\"follow_mouse\",\"renderers\":[{\"id\":\"1200\"}],\"tooltips\":\"\\n<div>\\n  <font size=\\\"1pt\\\"><p>Iteration: @xs{custom}<br>\\nScore: @ys</p></font>\\n</div>\\n\"},\"id\":\"1203\",\"type\":\"HoverTool\"},{\"attributes\":{\"fill_alpha\":{\"value\":0.1},\"fill_color\":{\"value\":\"#3F6750\"},\"height\":{\"field\":\"scored_y\",\"units\":\"data\"},\"line_alpha\":{\"value\":0.1},\"line_color\":{\"value\":\"#3F6750\"},\"width\":{\"units\":\"data\",\"value\":1},\"x\":{\"field\":\"x\"},\"y\":{\"field\":\"scored_y\",\"transform\":{\"id\":\"1109\"}}},\"id\":\"1119\",\"type\":\"Rect\"},{\"attributes\":{\"fill_color\":{\"value\":\"#CBEBD9\"},\"height\":{\"field\":\"blockedr_y\",\"units\":\"data\"},\"line_color\":{\"value\":\"#CBEBD9\"},\"width\":{\"field\":\"hovered_widths\",\"transform\":{\"id\":\"1116\"},\"units\":\"data\"},\"x\":{\"field\":\"x\"},\"y\":{\"field\":\"blockedr_y\",\"transform\":{\"id\":\"1115\"}}},\"id\":\"1153\",\"type\":\"Rect\"},{\"attributes\":{\"data_source\":{\"id\":\"1108\"},\"glyph\":{\"id\":\"1118\"},\"hover_glyph\":null,\"muted_glyph\":null,\"name\":\"Scored\",\"nonselection_glyph\":{\"id\":\"1119\"},\"selection_glyph\":null,\"view\":{\"id\":\"1121\"}},\"id\":\"1120\",\"type\":\"GlyphRenderer\"},{\"attributes\":{\"source\":{\"id\":\"1181\"}},\"id\":\"1196\",\"type\":\"CDSView\"},{\"attributes\":{\"js_property_callbacks\":{\"change:text\":[{\"id\":\"1525\"}]},\"text\":\"false\",\"visible\":false},\"id\":\"1487\",\"type\":\"Div\"},{\"attributes\":{},\"id\":\"1604\",\"type\":\"UnionRenderers\"},{\"attributes\":{\"fill_alpha\":{\"value\":0},\"fill_color\":{\"value\":\"#1f77b4\"},\"height\":{\"field\":\"heights\",\"units\":\"data\"},\"line_alpha\":{\"value\":0},\"line_color\":{\"value\":\"#CE7D7D\"},\"width\":{\"units\":\"data\",\"value\":1},\"x\":{\"field\":\"xs\"},\"y\":{\"value\":0}},\"id\":\"1198\",\"type\":\"Rect\"},{\"attributes\":{},\"id\":\"1605\",\"type\":\"Selection\"},{\"attributes\":{\"js_property_callbacks\":{\"change:value\":[{\"id\":\"1535\"}]},\"sizing_mode\":\"stretch_width\",\"title\":\"Left-Footed Kicker Kicking to the Right Selection Chance\",\"value\":\"0\",\"visible\":false},\"id\":\"1502\",\"type\":\"TextInput\"},{\"attributes\":{},\"id\":\"1168\",\"type\":\"LinearScale\"},{\"attributes\":{\"data_source\":{\"id\":\"1181\"},\"glyph\":{\"id\":\"1193\"},\"hover_glyph\":null,\"muted_glyph\":null,\"nonselection_glyph\":{\"id\":\"1194\"},\"selection_glyph\":null,\"view\":{\"id\":\"1196\"}},\"id\":\"1195\",\"type\":\"GlyphRenderer\"},{\"attributes\":{},\"id\":\"1606\",\"type\":\"UnionRenderers\"},{\"attributes\":{\"button_type\":\"success\",\"icon\":null,\"js_event_callbacks\":{\"button_click\":[{\"id\":\"1523\"}]},\"label\":\"Automate\",\"sizing_mode\":\"scale_width\",\"width_policy\":\"fit\"},\"id\":\"1488\",\"type\":\"Button\"},{\"attributes\":{\"fill_color\":{\"value\":\"#8AD3AA\"},\"height\":{\"field\":\"blockedm_y\",\"units\":\"data\"},\"line_color\":{\"value\":\"#8AD3AA\"},\"width\":{\"field\":\"hovered_widths\",\"transform\":{\"id\":\"1114\"},\"units\":\"data\"},\"x\":{\"field\":\"x\"},\"y\":{\"field\":\"blockedm_y\",\"transform\":{\"id\":\"1113\"}}},\"id\":\"1143\",\"type\":\"Rect\"},{\"attributes\":{\"source\":{\"id\":\"1108\"}},\"id\":\"1156\",\"type\":\"CDSView\"},{\"attributes\":{\"fill_alpha\":{\"value\":0.1},\"fill_color\":{\"value\":\"#7D7DCE\"},\"line_alpha\":{\"value\":0.1},\"line_color\":{\"value\":\"#6464B5\"},\"size\":{\"units\":\"screen\",\"value\":10},\"x\":{\"field\":\"xs\"},\"y\":{\"field\":\"ys\"}},\"id\":\"1194\",\"type\":\"CircleCross\"},{\"attributes\":{\"text\":\"Score Over Iterations Run\",\"text_font_size\":{\"value\":\"16pt\"}},\"id\":\"1162\",\"type\":\"Title\"},{\"attributes\":{\"fill_color\":{\"value\":\"#3F6750\"},\"height\":{\"field\":\"scored_y\",\"units\":\"data\"},\"line_color\":{\"value\":\"#3F6750\"},\"width\":{\"field\":\"hovered_widths\",\"transform\":{\"id\":\"1110\"},\"units\":\"data\"},\"x\":{\"field\":\"x\"},\"y\":{\"field\":\"scored_y\",\"transform\":{\"id\":\"1109\"}}},\"id\":\"1123\",\"type\":\"Rect\"},{\"attributes\":{},\"id\":\"1607\",\"type\":\"Selection\"},{\"attributes\":{\"fill_alpha\":{\"value\":0.1},\"fill_color\":{\"value\":\"#CBEBD9\"},\"height\":{\"field\":\"blockedr_y\",\"units\":\"data\"},\"line_alpha\":{\"value\":0.1},\"line_color\":{\"value\":\"#CBEBD9\"},\"width\":{\"field\":\"hovered_widths\",\"transform\":{\"id\":\"1116\"},\"units\":\"data\"},\"x\":{\"field\":\"x\"},\"y\":{\"field\":\"blockedr_y\",\"transform\":{\"id\":\"1115\"}}},\"id\":\"1154\",\"type\":\"Rect\"},{\"attributes\":{\"args\":{\"src\":{\"id\":\"1181\"}},\"code\":\"\\nconst index = special_vars.index;\\nconst data = src.data;\\n\\ndata['highlight_alphas'].fill(0);\\ndata['highlight_alphas'][index] = 1;\\nsrc.change.emit();\\n\\nreturn(data['xs'][index].toString());\\n\"},\"id\":\"1202\",\"type\":\"CustomJSHover\"},{\"attributes\":{\"data_source\":{\"id\":\"1108\"},\"glyph\":{\"id\":\"1153\"},\"hover_glyph\":null,\"muted_glyph\":null,\"nonselection_glyph\":{\"id\":\"1154\"},\"selection_glyph\":null,\"view\":{\"id\":\"1156\"}},\"id\":\"1155\",\"type\":\"GlyphRenderer\"},{\"attributes\":{},\"id\":\"1608\",\"type\":\"UnionRenderers\"},{\"attributes\":{\"source\":{\"id\":\"1108\"}},\"id\":\"1126\",\"type\":\"CDSView\"},{\"attributes\":{\"button_type\":\"success\",\"icon\":null,\"js_event_callbacks\":{\"button_click\":[{\"id\":\"1533\"}]},\"label\":\"Start\",\"sizing_mode\":\"scale_width\",\"visible\":false,\"width_policy\":\"fit\"},\"id\":\"1489\",\"type\":\"Button\"},{\"attributes\":{\"js_property_callbacks\":{\"change:value\":[{\"id\":\"1535\"}]},\"sizing_mode\":\"stretch_width\",\"title\":\"Right-Footed Kicker Kicking to the Left Selection Chance\",\"value\":\"0\",\"visible\":false},\"id\":\"1503\",\"type\":\"TextInput\"},{\"attributes\":{\"source\":{\"id\":\"1181\"}},\"id\":\"1201\",\"type\":\"CDSView\"},{\"attributes\":{\"source\":{\"id\":\"1227\"}},\"id\":\"1274\",\"type\":\"CDSView\"},{\"attributes\":{},\"id\":\"1609\",\"type\":\"Selection\"},{\"attributes\":{\"fill_alpha\":{\"value\":0.1},\"fill_color\":{\"value\":\"#3F6750\"},\"height\":{\"field\":\"scored_y\",\"units\":\"data\"},\"line_alpha\":{\"value\":0.1},\"line_color\":{\"value\":\"#3F6750\"},\"width\":{\"field\":\"hovered_widths\",\"transform\":{\"id\":\"1110\"},\"units\":\"data\"},\"x\":{\"field\":\"x\"},\"y\":{\"field\":\"scored_y\",\"transform\":{\"id\":\"1109\"}}},\"id\":\"1124\",\"type\":\"Rect\"},{\"attributes\":{\"fill_alpha\":{\"value\":0.1},\"fill_color\":{\"value\":\"#1f77b4\"},\"height\":{\"field\":\"heights\",\"units\":\"data\"},\"line_alpha\":{\"value\":0.1},\"line_color\":{\"value\":\"#CE7D7D\"},\"width\":{\"units\":\"data\",\"value\":1},\"x\":{\"field\":\"xs\"},\"y\":{\"value\":0}},\"id\":\"1199\",\"type\":\"Rect\"},{\"attributes\":{\"data_source\":{\"id\":\"1181\"},\"glyph\":{\"id\":\"1198\"},\"hover_glyph\":null,\"muted_glyph\":null,\"nonselection_glyph\":{\"id\":\"1199\"},\"selection_glyph\":null,\"view\":{\"id\":\"1201\"}},\"id\":\"1200\",\"type\":\"GlyphRenderer\"},{\"attributes\":{\"data_source\":{\"id\":\"1108\"},\"glyph\":{\"id\":\"1123\"},\"hover_glyph\":null,\"muted_glyph\":null,\"nonselection_glyph\":{\"id\":\"1124\"},\"selection_glyph\":null,\"view\":{\"id\":\"1126\"}},\"id\":\"1125\",\"type\":\"GlyphRenderer\"},{\"attributes\":{},\"id\":\"1610\",\"type\":\"UnionRenderers\"},{\"attributes\":{\"end\":50.5,\"start\":-0.5},\"id\":\"1164\",\"type\":\"Range1d\"},{\"attributes\":{\"callback\":null,\"formatters\":{\"@blockedl_y\":{\"id\":\"1158\"},\"@x\":{\"id\":\"1157\"}},\"point_policy\":\"follow_mouse\",\"renderers\":[{\"id\":\"1120\"},{\"id\":\"1130\"},{\"id\":\"1140\"},{\"id\":\"1150\"}],\"tooltips\":\"\\n<div>\\n  <font size=\\\"1pt\\\"><p>Kicker (Foot, Kick): @x{custom}<br>\\nHovered Bar: $name<br>\\nBar Height: @blockedl_y{custom}</p></font>\\n</div>\\n\"},\"id\":\"1159\",\"type\":\"HoverTool\"},{\"attributes\":{\"button_type\":\"success\",\"icon\":null,\"js_event_callbacks\":{\"button_click\":[{\"id\":\"1534\"}]},\"label\":\"Next\",\"sizing_mode\":\"scale_width\",\"visible\":false,\"width_policy\":\"fit\"},\"id\":\"1490\",\"type\":\"Button\"},{\"attributes\":{\"fill_alpha\":{\"value\":0.1},\"fill_color\":{\"value\":\"#000000\"},\"line_alpha\":{\"value\":0.1},\"line_color\":{\"value\":\"#000000\"},\"size\":{\"units\":\"screen\",\"value\":10},\"x\":{\"field\":\"xs\"},\"y\":{\"field\":\"ll_ys\"}},\"id\":\"1302\",\"type\":\"CircleCross\"},{\"attributes\":{},\"id\":\"1611\",\"type\":\"Selection\"},{\"attributes\":{},\"id\":\"1612\",\"type\":\"UnionRenderers\"},{\"attributes\":{\"js_property_callbacks\":{\"change:value\":[{\"id\":\"1535\"}]},\"sizing_mode\":\"stretch_width\",\"title\":\"Right-Footed Kicker Kicking to the Middle Selection Chance\",\"value\":\"0\",\"visible\":false},\"id\":\"1504\",\"type\":\"TextInput\"},{\"attributes\":{\"fill_alpha\":{\"value\":0},\"fill_color\":{\"value\":\"#64A580\"},\"height\":{\"field\":\"blockedl_y\",\"units\":\"data\"},\"line_alpha\":{\"value\":0},\"line_color\":{\"value\":\"#64A580\"},\"width\":{\"units\":\"data\",\"value\":1},\"x\":{\"field\":\"x\"},\"y\":{\"field\":\"blockedl_y\",\"transform\":{\"id\":\"1111\"}}},\"id\":\"1128\",\"type\":\"Rect\"},{\"attributes\":{\"text\":\"0\"},\"id\":\"1225\",\"type\":\"Div\"},{\"attributes\":{},\"id\":\"1613\",\"type\":\"Selection\"},{\"attributes\":{\"button_type\":\"success\",\"icon\":null,\"js_event_callbacks\":{\"button_click\":[{\"id\":\"1527\"}]},\"label\":\"Make Counter\",\"sizing_mode\":\"scale_width\",\"visible\":false,\"width_policy\":\"fit\"},\"id\":\"1491\",\"type\":\"Button\"},{\"attributes\":{\"source\":{\"id\":\"1108\"}},\"id\":\"1131\",\"type\":\"CDSView\"},{\"attributes\":{},\"id\":\"1614\",\"type\":\"UnionRenderers\"},{\"attributes\":{\"fill_alpha\":{\"value\":0.1},\"fill_color\":{\"value\":\"#64A580\"},\"height\":{\"field\":\"blockedl_y\",\"units\":\"data\"},\"line_alpha\":{\"value\":0.1},\"line_color\":{\"value\":\"#64A580\"},\"width\":{\"units\":\"data\",\"value\":1},\"x\":{\"field\":\"x\"},\"y\":{\"field\":\"blockedl_y\",\"transform\":{\"id\":\"1111\"}}},\"id\":\"1129\",\"type\":\"Rect\"},{\"attributes\":{\"background_fill_color\":\"white\",\"below\":[{\"id\":\"1216\"}],\"center\":[{\"id\":\"1219\"},{\"id\":\"1223\"}],\"left\":[{\"id\":\"1220\"}],\"outline_line_color\":\"black\",\"plot_height\":360,\"renderers\":[{\"id\":\"1243\"},{\"id\":\"1248\"},{\"id\":\"1253\"},{\"id\":\"1258\"},{\"id\":\"1263\"},{\"id\":\"1268\"},{\"id\":\"1273\"},{\"id\":\"1278\"},{\"id\":\"1283\"},{\"id\":\"1288\"},{\"id\":\"1293\"},{\"id\":\"1298\"},{\"id\":\"1303\"},{\"id\":\"1308\"},{\"id\":\"1313\"},{\"id\":\"1318\"},{\"id\":\"1323\"},{\"id\":\"1328\"}],\"sizing_mode\":\"stretch_both\",\"title\":{\"id\":\"1206\"},\"toolbar\":{\"id\":\"1224\"},\"toolbar_location\":null,\"toolbar_sticky\":false,\"visible\":false,\"x_range\":{\"id\":\"1208\"},\"x_scale\":{\"id\":\"1212\"},\"y_range\":{\"id\":\"1210\"},\"y_scale\":{\"id\":\"1214\"}},\"id\":\"1205\",\"subtype\":\"Figure\",\"type\":\"Plot\"},{\"attributes\":{\"end\":50,\"start\":-50},\"id\":\"1166\",\"type\":\"Range1d\"},{\"attributes\":{\"button_type\":\"success\",\"icon\":null,\"js_event_callbacks\":{\"button_click\":[{\"id\":\"1530\"}]},\"label\":\"Figure 2\",\"sizing_mode\":\"scale_width\",\"visible\":false,\"width_policy\":\"fit\"},\"id\":\"1494\",\"type\":\"Button\"},{\"attributes\":{\"data_source\":{\"id\":\"1108\"},\"glyph\":{\"id\":\"1128\"},\"hover_glyph\":null,\"muted_glyph\":null,\"name\":\"Blocked Left\",\"nonselection_glyph\":{\"id\":\"1129\"},\"selection_glyph\":null,\"view\":{\"id\":\"1131\"}},\"id\":\"1130\",\"type\":\"GlyphRenderer\"},{\"attributes\":{},\"id\":\"1615\",\"type\":\"Selection\"},{\"attributes\":{\"fill_color\":{\"value\":\"#64A580\"},\"height\":{\"field\":\"blockedl_y\",\"units\":\"data\"},\"line_color\":{\"value\":\"#64A580\"},\"width\":{\"field\":\"hovered_widths\",\"transform\":{\"id\":\"1112\"},\"units\":\"data\"},\"x\":{\"field\":\"x\"},\"y\":{\"field\":\"blockedl_y\",\"transform\":{\"id\":\"1111\"}}},\"id\":\"1133\",\"type\":\"Rect\"},{\"attributes\":{\"button_type\":\"success\",\"icon\":null,\"js_event_callbacks\":{\"button_click\":[{\"id\":\"1531\"}]},\"label\":\"Figure 3\",\"sizing_mode\":\"scale_width\",\"visible\":false,\"width_policy\":\"fit\"},\"id\":\"1495\",\"type\":\"Button\"},{\"attributes\":{},\"id\":\"1170\",\"type\":\"LinearScale\"},{\"attributes\":{\"text\":\"Keeper's Perceived Risks Over Iterations\",\"text_font_size\":{\"value\":\"16pt\"}},\"id\":\"1206\",\"type\":\"Title\"},{\"attributes\":{\"js_property_callbacks\":{\"change:value\":[{\"id\":\"1535\"}]},\"sizing_mode\":\"stretch_width\",\"title\":\"Right-Footed Kicker Kicking to the Right Selection Chance\",\"value\":\"0\",\"visible\":false},\"id\":\"1505\",\"type\":\"TextInput\"},{\"attributes\":{},\"id\":\"1210\",\"type\":\"Range1d\"},{\"attributes\":{},\"id\":\"1628\",\"type\":\"UnionRenderers\"},{\"attributes\":{\"formatter\":{\"id\":\"1552\"},\"ticker\":{\"id\":\"1173\"}},\"id\":\"1172\",\"type\":\"LinearAxis\"},{\"attributes\":{\"end\":50.5,\"start\":-0.5},\"id\":\"1208\",\"type\":\"Range1d\"},{\"attributes\":{\"formatter\":{\"id\":\"1554\"},\"ticker\":{\"id\":\"1177\"}},\"id\":\"1176\",\"type\":\"LinearAxis\"},{\"attributes\":{\"fill_alpha\":{\"value\":0.1},\"fill_color\":{\"value\":\"#64A580\"},\"height\":{\"field\":\"blockedl_y\",\"units\":\"data\"},\"line_alpha\":{\"value\":0.1},\"line_color\":{\"value\":\"#64A580\"},\"width\":{\"field\":\"hovered_widths\",\"transform\":{\"id\":\"1112\"},\"units\":\"data\"},\"x\":{\"field\":\"x\"},\"y\":{\"field\":\"blockedl_y\",\"transform\":{\"id\":\"1111\"}}},\"id\":\"1134\",\"type\":\"Rect\"},{\"attributes\":{},\"id\":\"1621\",\"type\":\"UnionRenderers\"},{\"attributes\":{\"children\":[[{\"id\":\"1537\"},0,0],[{\"id\":\"1538\"},0,1]]},\"id\":\"1713\",\"type\":\"GridBox\"},{\"attributes\":{},\"id\":\"1173\",\"type\":\"BasicTicker\"},{\"attributes\":{\"data_source\":{\"id\":\"1108\"},\"glyph\":{\"id\":\"1133\"},\"hover_glyph\":null,\"muted_glyph\":null,\"nonselection_glyph\":{\"id\":\"1134\"},\"selection_glyph\":null,\"view\":{\"id\":\"1136\"}},\"id\":\"1135\",\"type\":\"GlyphRenderer\"},{\"attributes\":{\"axis\":{\"id\":\"1172\"},\"grid_line_color\":\"black\",\"ticker\":null,\"visible\":false},\"id\":\"1175\",\"type\":\"Grid\"}],\"root_ids\":[\"1716\"]},\"title\":\"Bokeh Application\",\"version\":\"2.2.3\"}};\n",
       "  var render_items = [{\"docid\":\"8409715b-1a34-43b5-9dbd-e5d809f1d660\",\"root_ids\":[\"1716\"],\"roots\":{\"1716\":\"4a18318e-ac34-406d-8939-270c74ed02f6\"}}];\n",
       "  root.Bokeh.embed.embed_items_notebook(docs_json, render_items);\n",
       "\n",
       "  }\n",
       "  if (root.Bokeh !== undefined) {\n",
       "    embed_document(root);\n",
       "  } else {\n",
       "    var attempts = 0;\n",
       "    var timer = setInterval(function(root) {\n",
       "      if (root.Bokeh !== undefined) {\n",
       "        clearInterval(timer);\n",
       "        embed_document(root);\n",
       "      } else {\n",
       "        attempts++;\n",
       "        if (attempts > 100) {\n",
       "          clearInterval(timer);\n",
       "          console.log(\"Bokeh: ERROR: Unable to run BokehJS code because BokehJS library is missing\");\n",
       "        }\n",
       "      }\n",
       "    }, 10, root)\n",
       "  }\n",
       "})(window);"
      ],
      "application/vnd.bokehjs_exec.v0+json": ""
     },
     "metadata": {
      "application/vnd.bokehjs_exec.v0+json": {
       "id": "1716"
      }
     },
     "output_type": "display_data"
    }
   ],
   "source": [
    "# Shows the game so that you can play it\n",
    "show(demo1)"
   ]
  },
  {
   "cell_type": "markdown",
   "metadata": {},
   "source": [
    "<div style=\"align: left; text-align:center;\">\n",
    "  <table style=\"width:60%\">\n",
    "    <tr>\n",
    "      <th>Scoring Probability</th>\n",
    "      <th>LL</th>\n",
    "      <th>LM</th>\n",
    "      <th>LR</th>\n",
    "      <th>ML</th>\n",
    "      <th>MM</th>\n",
    "      <th>MR</th>\n",
    "      <th>RL</th>\n",
    "      <th>RM</th>\n",
    "      <th>RR</th>\n",
    "    </tr>\n",
    "    <tr>\n",
    "      <td><b>Right-footed kicker</b></td>\n",
    "      <td>$0.55$</td>\n",
    "      <td>$0.65$</td>\n",
    "      <td>$0.93$</td>\n",
    "      <td>$0.74$</td>\n",
    "      <td>$0.60$</td>\n",
    "      <td>$0.72$</td>\n",
    "      <td>$0.95$</td>\n",
    "      <td>$0.73$</td>\n",
    "      <td>$0.70$</td>\n",
    "    </tr>\n",
    "    <tr>\n",
    "      <td><b>Left-footed kicker</b></td>\n",
    "      <td>$0.67$</td>\n",
    "      <td>$0.70$</td>\n",
    "      <td>$0.96$</td>\n",
    "      <td>$0.74$</td>\n",
    "      <td>$0.60$</td>\n",
    "      <td>$0.72$</td>\n",
    "      <td>$0.87$</td>\n",
    "      <td>$0.65$</td>\n",
    "      <td>$0.61$</td>\n",
    "    </tr>\n",
    "  </table>\n",
    "  <div class=\"caption\">Table $1$: The Column headers indicate kicker kick, keeper dive directions.</div>\n",
    "</div>\n",
    "\n",
    "<br>\n",
    "\n",
    "<div>\n",
    "  <p><b>Q7:</b> As stated in <a href=\"#Rules\">the rules</a>, different kicker and keeper choice combinations have varying goal scoring chances. Use Table $1$ and the demo below to improve your mixed strategy (Don't spend too long doing this).</p>\n",
    "\n",
    "  <p>The demo below also contains the 3 following figures (Fig $3$ is irrelevant to the section and is hidden):</p>\n",
    "  <ul>\n",
    "    <li>Fig $1$: Bars representing the actions taken by the kicker with sections displaying information on their outcomes.</li>\n",
    "    <li>Fig $2$: Score over iterations run (Red dots), with black dots showing expected score (if average luck) calculated from previous score chances (black dot values aren't attainable, but indicate strategy efficacy without relying on score roll luck).</li>\n",
    "    <li>Fig $4$: Iteration score chances (Yellow dots), with game average score chance (black line) (Note: average score chance should be represented dots, but the line was used for visualization).</li>\n",
    "  </ul>\n",
    "\n",
    "  <p>How high did you score? What was your best mixed strategy?</p>\n",
    "\n",
    "  <p><b>A:</b><font color='blue'> Answers will vary.</font></p>\n",
    "</div>"
   ]
  },
  {
   "cell_type": "code",
   "execution_count": 4,
   "metadata": {},
   "outputs": [
    {
     "data": {
      "text/html": [
       "\n",
       "\n",
       "\n",
       "\n",
       "\n",
       "\n",
       "  <div class=\"bk-root\" id=\"0bc9be91-b943-4811-8cd1-239791eaa2d7\" data-root-id=\"2431\"></div>\n"
      ]
     },
     "metadata": {},
     "output_type": "display_data"
    },
    {
     "data": {
      "application/javascript": [
       "(function(root) {\n",
       "  function embed_document(root) {\n",
       "    \n",
       "  var docs_json = {\"97cf7c23-0f6b-4127-8d39-d90326e449f7\":{\"roots\":{\"references\":[{\"attributes\":{\"children\":[{\"id\":\"2430\"},{\"id\":\"2428\"}],\"sizing_mode\":\"stretch_width\"},\"id\":\"2431\",\"type\":\"Column\"},{\"attributes\":{\"background_fill_alpha\":0,\"border_line_alpha\":0,\"items\":[{\"id\":\"1818\"},{\"id\":\"1819\"}],\"label_height\":10,\"label_text_font_size\":\"10pt\",\"location\":[146,20],\"orientation\":\"horizontal\",\"padding\":0},\"id\":\"1817\",\"type\":\"Legend\"},{\"attributes\":{\"text\":\"Shot Status Statistics\",\"text_font_size\":{\"value\":\"16pt\"}},\"id\":\"1778\",\"type\":\"Title\"},{\"attributes\":{\"line_color\":\"lightgreen\",\"line_width\":4,\"x\":{\"field\":\"x\"},\"y\":{\"field\":\"y\"}},\"id\":\"1743\",\"type\":\"Line\"},{\"attributes\":{\"end\":6},\"id\":\"1780\",\"type\":\"Range1d\"},{\"attributes\":{\"source\":{\"id\":\"1737\"}},\"id\":\"1741\",\"type\":\"CDSView\"},{\"attributes\":{},\"id\":\"1786\",\"type\":\"LinearScale\"},{\"attributes\":{},\"id\":\"1784\",\"type\":\"LinearScale\"},{\"attributes\":{\"line_alpha\":0.1,\"line_color\":\"lightgreen\",\"line_width\":4,\"x\":{\"field\":\"x\"},\"y\":{\"field\":\"y\"}},\"id\":\"1739\",\"type\":\"Line\"},{\"attributes\":{\"data_source\":{\"id\":\"1737\"},\"glyph\":{\"id\":\"1738\"},\"hover_glyph\":null,\"muted_glyph\":null,\"nonselection_glyph\":{\"id\":\"1739\"},\"selection_glyph\":null,\"view\":{\"id\":\"1741\"}},\"id\":\"1740\",\"type\":\"GlyphRenderer\"},{\"attributes\":{\"end\":50},\"id\":\"1782\",\"type\":\"Range1d\"},{\"attributes\":{\"data\":{\"x\":[3,12,88,97,3],\"y\":[15,63,63,15,15]},\"selected\":{\"id\":\"2298\"},\"selection_policy\":{\"id\":\"2297\"}},\"id\":\"1742\",\"type\":\"ColumnDataSource\"},{\"attributes\":{\"data\":{\"x\":[34,34,66,66],\"y\":[63,82,82,63]},\"selected\":{\"id\":\"2300\"},\"selection_policy\":{\"id\":\"2299\"}},\"id\":\"1747\",\"type\":\"ColumnDataSource\"},{\"attributes\":{\"formatter\":{\"id\":\"2263\"},\"ticker\":{\"id\":\"1789\"},\"visible\":false},\"id\":\"1788\",\"type\":\"LinearAxis\"},{\"attributes\":{\"source\":{\"id\":\"1742\"}},\"id\":\"1746\",\"type\":\"CDSView\"},{\"attributes\":{},\"id\":\"1793\",\"type\":\"BasicTicker\"},{\"attributes\":{},\"id\":\"1789\",\"type\":\"BasicTicker\"},{\"attributes\":{\"cx\":{\"value\":50},\"cy\":{\"value\":2},\"line_color\":{\"value\":\"lightgreen\"},\"line_width\":{\"value\":4},\"x0\":{\"value\":33},\"x1\":{\"value\":67},\"y0\":{\"value\":15},\"y1\":{\"value\":15}},\"id\":\"1753\",\"type\":\"Quadratic\"},{\"attributes\":{\"axis\":{\"id\":\"1788\"},\"grid_line_color\":\"black\",\"ticker\":null,\"visible\":false},\"id\":\"1791\",\"type\":\"Grid\"},{\"attributes\":{\"active_drag\":\"auto\",\"active_inspect\":\"auto\",\"active_multi\":null,\"active_scroll\":\"auto\",\"active_tap\":\"auto\",\"tools\":[{\"id\":\"1874\"}]},\"id\":\"1796\",\"type\":\"Toolbar\"},{\"attributes\":{\"line_alpha\":0.1,\"line_color\":\"lightgreen\",\"line_width\":4,\"x\":{\"field\":\"x\"},\"y\":{\"field\":\"y\"}},\"id\":\"1744\",\"type\":\"Line\"},{\"attributes\":{\"data_source\":{\"id\":\"1742\"},\"glyph\":{\"id\":\"1743\"},\"hover_glyph\":null,\"muted_glyph\":null,\"nonselection_glyph\":{\"id\":\"1744\"},\"selection_glyph\":null,\"view\":{\"id\":\"1746\"}},\"id\":\"1745\",\"type\":\"GlyphRenderer\"},{\"attributes\":{\"axis\":{\"id\":\"1792\"},\"dimension\":1,\"grid_line_color\":\"black\",\"ticker\":null,\"visible\":false},\"id\":\"1795\",\"type\":\"Grid\"},{\"attributes\":{\"formatter\":{\"id\":\"2265\"},\"ticker\":{\"id\":\"1793\"}},\"id\":\"1792\",\"type\":\"LinearAxis\"},{\"attributes\":{\"source\":{\"id\":\"1747\"}},\"id\":\"1751\",\"type\":\"CDSView\"},{\"attributes\":{\"data\":{},\"selected\":{\"id\":\"2316\"},\"selection_policy\":{\"id\":\"2315\"}},\"id\":\"1797\",\"type\":\"ColumnDataSource\"},{\"attributes\":{\"fill_color\":{\"value\":\"red\"},\"height\":{\"units\":\"data\",\"value\":4},\"line_width\":{\"value\":2},\"width\":{\"units\":\"data\",\"value\":3},\"x\":{\"value\":50},\"y\":{\"value\":65}},\"id\":\"1758\",\"type\":\"Rect\"},{\"attributes\":{\"args\":{\"alphasZeroes\":[0,0,0,0,0,0,0,0,0,0,0,0,0,0,0,0,0,0,0,0,0,0,0,0,0,0,0,0,0,0,0,0,0,0,0,0,0,0,0,0,0,0,0,0,0,0,0,0,0,0,0],\"highlightIndex\":{\"id\":\"1940\"}},\"v_func\":\"\\nconst index = parseInt(highlightIndex.text);\\nif(xs[index] === 1) {\\n  const newAlphas = new Array(xs.length).fill(0);\\n  newAlphas[index] = 1;\\n  return newAlphas;\\n} else { return alphasZeroes; }\\n\"},\"id\":\"1943\",\"type\":\"CustomJSTransform\"},{\"attributes\":{\"line_alpha\":0.1,\"line_color\":\"whitesmoke\",\"line_width\":4,\"x\":{\"field\":\"x\"},\"y\":{\"field\":\"y\"}},\"id\":\"1749\",\"type\":\"Line\"},{\"attributes\":{\"data_source\":{\"id\":\"1747\"},\"glyph\":{\"id\":\"1748\"},\"hover_glyph\":null,\"muted_glyph\":null,\"nonselection_glyph\":{\"id\":\"1749\"},\"selection_glyph\":null,\"view\":{\"id\":\"1751\"}},\"id\":\"1750\",\"type\":\"GlyphRenderer\"},{\"attributes\":{\"data\":{},\"selected\":{\"id\":\"2302\"},\"selection_policy\":{\"id\":\"2301\"}},\"id\":\"1752\",\"type\":\"ColumnDataSource\"},{\"attributes\":{\"source\":{\"id\":\"1823\"}},\"id\":\"1846\",\"type\":\"CDSView\"},{\"attributes\":{\"source\":{\"id\":\"1752\"}},\"id\":\"1756\",\"type\":\"CDSView\"},{\"attributes\":{\"data_source\":{\"id\":\"1823\"},\"glyph\":{\"id\":\"1843\"},\"hover_glyph\":null,\"muted_glyph\":null,\"name\":\"Blocked Left\",\"nonselection_glyph\":{\"id\":\"1844\"},\"selection_glyph\":null,\"view\":{\"id\":\"1846\"}},\"id\":\"1845\",\"type\":\"GlyphRenderer\"},{\"attributes\":{\"fill_color\":{\"value\":\"#64A580\"},\"height\":{\"field\":\"blockedl_y\",\"units\":\"data\"},\"line_color\":{\"value\":\"#64A580\"},\"width\":{\"field\":\"hovered_widths\",\"transform\":{\"id\":\"1827\"},\"units\":\"data\"},\"x\":{\"field\":\"x\"},\"y\":{\"field\":\"blockedl_y\",\"transform\":{\"id\":\"1826\"}}},\"id\":\"1848\",\"type\":\"Rect\"},{\"attributes\":{\"fill_alpha\":{\"value\":0.1},\"fill_color\":{\"value\":\"#64A580\"},\"height\":{\"field\":\"blockedl_y\",\"units\":\"data\"},\"line_alpha\":{\"value\":0.1},\"line_color\":{\"value\":\"#64A580\"},\"width\":{\"units\":\"data\",\"value\":1},\"x\":{\"field\":\"x\"},\"y\":{\"field\":\"blockedl_y\",\"transform\":{\"id\":\"1826\"}}},\"id\":\"1844\",\"type\":\"Rect\"},{\"attributes\":{\"fill_color\":{\"value\":\"red\"},\"line_width\":{\"value\":2},\"size\":{\"units\":\"screen\",\"value\":17},\"x\":{\"value\":50},\"y\":{\"value\":69}},\"id\":\"1757\",\"type\":\"Circle\"},{\"attributes\":{\"fill_alpha\":{\"value\":0},\"fill_color\":{\"value\":\"#64A580\"},\"height\":{\"field\":\"blockedl_y\",\"units\":\"data\"},\"line_alpha\":{\"value\":0},\"line_color\":{\"value\":\"#64A580\"},\"width\":{\"units\":\"data\",\"value\":1},\"x\":{\"field\":\"x\"},\"y\":{\"field\":\"blockedl_y\",\"transform\":{\"id\":\"1826\"}}},\"id\":\"1843\",\"type\":\"Rect\"},{\"attributes\":{\"cx\":{\"value\":50},\"cy\":{\"value\":2},\"line_alpha\":{\"value\":0.1},\"line_color\":{\"value\":\"lightgreen\"},\"line_width\":{\"value\":4},\"x0\":{\"value\":33},\"x1\":{\"value\":67},\"y0\":{\"value\":15},\"y1\":{\"value\":15}},\"id\":\"1754\",\"type\":\"Quadratic\"},{\"attributes\":{\"fill_alpha\":{\"value\":0.1},\"fill_color\":{\"value\":\"#64A580\"},\"height\":{\"field\":\"blockedl_y\",\"units\":\"data\"},\"line_alpha\":{\"value\":0.1},\"line_color\":{\"value\":\"#64A580\"},\"width\":{\"field\":\"hovered_widths\",\"transform\":{\"id\":\"1827\"},\"units\":\"data\"},\"x\":{\"field\":\"x\"},\"y\":{\"field\":\"blockedl_y\",\"transform\":{\"id\":\"1826\"}}},\"id\":\"1849\",\"type\":\"Rect\"},{\"attributes\":{\"data_source\":{\"id\":\"1752\"},\"glyph\":{\"id\":\"1753\"},\"hover_glyph\":null,\"muted_glyph\":null,\"nonselection_glyph\":{\"id\":\"1754\"},\"selection_glyph\":null,\"view\":{\"id\":\"1756\"}},\"id\":\"1755\",\"type\":\"GlyphRenderer\"},{\"attributes\":{\"fill_color\":{\"value\":\"#8AD3AA\"},\"line_color\":{\"value\":\"#8AD3AA\"},\"radius\":{\"units\":\"data\",\"value\":0},\"x\":{\"value\":0},\"y\":{\"value\":0}},\"id\":\"1808\",\"type\":\"Circle\"},{\"attributes\":{\"data_source\":{\"id\":\"1765\"},\"glyph\":{\"id\":\"1758\"},\"hover_glyph\":null,\"muted_glyph\":null,\"view\":{\"id\":\"1767\"}},\"id\":\"1766\",\"type\":\"GlyphRenderer\"},{\"attributes\":{\"args\":{\"src\":{\"id\":\"1942\"}},\"v_func\":\"\\nconst newXs = [];\\nconst data = src.data;\\nxs.forEach(\\n  (v, i) => newXs.push(v/2)\\n);\\n\\nreturn newXs;\\n\"},\"id\":\"1944\",\"type\":\"CustomJSTransform\"},{\"attributes\":{\"data\":{},\"selected\":{\"id\":\"2310\"},\"selection_policy\":{\"id\":\"2309\"}},\"id\":\"1771\",\"type\":\"ColumnDataSource\"},{\"attributes\":{\"fill_color\":{\"value\":\"#3F6750\"},\"line_color\":{\"value\":\"#3F6750\"},\"radius\":{\"units\":\"data\",\"value\":0},\"x\":{\"value\":0},\"y\":{\"value\":0}},\"id\":\"1798\",\"type\":\"Circle\"},{\"attributes\":{\"source\":{\"id\":\"1765\"}},\"id\":\"1767\",\"type\":\"CDSView\"},{\"attributes\":{\"fill_alpha\":{\"value\":0.1},\"fill_color\":{\"value\":\"#3F6750\"},\"line_alpha\":{\"value\":0.1},\"line_color\":{\"value\":\"#3F6750\"},\"radius\":{\"units\":\"data\",\"value\":0},\"x\":{\"value\":0},\"y\":{\"value\":0}},\"id\":\"1799\",\"type\":\"Circle\"},{\"attributes\":{\"source\":{\"id\":\"1774\"}},\"id\":\"1776\",\"type\":\"CDSView\"},{\"attributes\":{\"data\":{},\"selected\":{\"id\":\"2308\"},\"selection_policy\":{\"id\":\"2307\"}},\"id\":\"1768\",\"type\":\"ColumnDataSource\"},{\"attributes\":{\"fill_color\":{\"value\":\"#64A580\"},\"line_color\":{\"value\":\"#64A580\"},\"radius\":{\"units\":\"data\",\"value\":0},\"x\":{\"value\":0},\"y\":{\"value\":0}},\"id\":\"1803\",\"type\":\"Circle\"},{\"attributes\":{\"data_source\":{\"id\":\"1768\"},\"glyph\":{\"id\":\"1759\"},\"hover_glyph\":null,\"muted_glyph\":null,\"view\":{\"id\":\"1770\"}},\"id\":\"1769\",\"type\":\"GlyphRenderer\"},{\"attributes\":{\"data_source\":{\"id\":\"1797\"},\"glyph\":{\"id\":\"1798\"},\"hover_glyph\":null,\"muted_glyph\":null,\"nonselection_glyph\":{\"id\":\"1799\"},\"selection_glyph\":null,\"view\":{\"id\":\"1801\"}},\"id\":\"1800\",\"type\":\"GlyphRenderer\"},{\"attributes\":{\"data_source\":{\"id\":\"1771\"},\"glyph\":{\"id\":\"1760\"},\"hover_glyph\":null,\"muted_glyph\":null,\"view\":{\"id\":\"1773\"}},\"id\":\"1772\",\"type\":\"GlyphRenderer\"},{\"attributes\":{\"source\":{\"id\":\"1797\"}},\"id\":\"1801\",\"type\":\"CDSView\"},{\"attributes\":{\"source\":{\"id\":\"1768\"}},\"id\":\"1770\",\"type\":\"CDSView\"},{\"attributes\":{\"data\":{},\"selected\":{\"id\":\"2318\"},\"selection_policy\":{\"id\":\"2317\"}},\"id\":\"1802\",\"type\":\"ColumnDataSource\"},{\"attributes\":{\"data\":{},\"selected\":{\"id\":\"2320\"},\"selection_policy\":{\"id\":\"2319\"}},\"id\":\"1807\",\"type\":\"ColumnDataSource\"},{\"attributes\":{\"data\":{},\"selected\":{\"id\":\"2312\"},\"selection_policy\":{\"id\":\"2311\"}},\"id\":\"1774\",\"type\":\"ColumnDataSource\"},{\"attributes\":{\"text\":\"0\",\"visible\":false},\"id\":\"2192\",\"type\":\"Div\"},{\"attributes\":{\"data_source\":{\"id\":\"1774\"},\"glyph\":{\"id\":\"1761\"},\"hover_glyph\":null,\"muted_glyph\":null,\"view\":{\"id\":\"1776\"}},\"id\":\"1775\",\"type\":\"GlyphRenderer\"},{\"attributes\":{\"fill_alpha\":{\"value\":0.1},\"fill_color\":{\"value\":\"#64A580\"},\"line_alpha\":{\"value\":0.1},\"line_color\":{\"value\":\"#64A580\"},\"radius\":{\"units\":\"data\",\"value\":0},\"x\":{\"value\":0},\"y\":{\"value\":0}},\"id\":\"1804\",\"type\":\"Circle\"},{\"attributes\":{\"source\":{\"id\":\"1771\"}},\"id\":\"1773\",\"type\":\"CDSView\"},{\"attributes\":{\"data_source\":{\"id\":\"1802\"},\"glyph\":{\"id\":\"1803\"},\"hover_glyph\":null,\"muted_glyph\":null,\"nonselection_glyph\":{\"id\":\"1804\"},\"selection_glyph\":null,\"view\":{\"id\":\"1806\"}},\"id\":\"1805\",\"type\":\"GlyphRenderer\"},{\"attributes\":{\"source\":{\"id\":\"1802\"}},\"id\":\"1806\",\"type\":\"CDSView\"},{\"attributes\":{},\"id\":\"2305\",\"type\":\"UnionRenderers\"},{\"attributes\":{},\"id\":\"2306\",\"type\":\"Selection\"},{\"attributes\":{},\"id\":\"2307\",\"type\":\"UnionRenderers\"},{\"attributes\":{},\"id\":\"2308\",\"type\":\"Selection\"},{\"attributes\":{},\"id\":\"2309\",\"type\":\"UnionRenderers\"},{\"attributes\":{},\"id\":\"2310\",\"type\":\"Selection\"},{\"attributes\":{},\"id\":\"2311\",\"type\":\"UnionRenderers\"},{\"attributes\":{},\"id\":\"2312\",\"type\":\"Selection\"},{\"attributes\":{},\"id\":\"2313\",\"type\":\"UnionRenderers\"},{\"attributes\":{},\"id\":\"2314\",\"type\":\"Selection\"},{\"attributes\":{},\"id\":\"2315\",\"type\":\"UnionRenderers\"},{\"attributes\":{},\"id\":\"2316\",\"type\":\"Selection\"},{\"attributes\":{},\"id\":\"2317\",\"type\":\"UnionRenderers\"},{\"attributes\":{},\"id\":\"2318\",\"type\":\"Selection\"},{\"attributes\":{},\"id\":\"2319\",\"type\":\"UnionRenderers\"},{\"attributes\":{},\"id\":\"2320\",\"type\":\"Selection\"},{\"attributes\":{},\"id\":\"2321\",\"type\":\"UnionRenderers\"},{\"attributes\":{},\"id\":\"2322\",\"type\":\"Selection\"},{\"attributes\":{},\"id\":\"2323\",\"type\":\"UnionRenderers\"},{\"attributes\":{},\"id\":\"2324\",\"type\":\"Selection\"},{\"attributes\":{},\"id\":\"2325\",\"type\":\"UnionRenderers\"},{\"attributes\":{},\"id\":\"2326\",\"type\":\"Selection\"},{\"attributes\":{},\"id\":\"2327\",\"type\":\"UnionRenderers\"},{\"attributes\":{},\"id\":\"2328\",\"type\":\"Selection\"},{\"attributes\":{},\"id\":\"2329\",\"type\":\"UnionRenderers\"},{\"attributes\":{},\"id\":\"2330\",\"type\":\"Selection\"},{\"attributes\":{},\"id\":\"2336\",\"type\":\"UnionRenderers\"},{\"attributes\":{\"children\":[[{\"id\":\"2252\"},0,0],[{\"id\":\"2253\"},0,1]]},\"id\":\"2428\",\"type\":\"GridBox\"},{\"attributes\":{},\"id\":\"2337\",\"type\":\"Selection\"},{\"attributes\":{},\"id\":\"2343\",\"type\":\"UnionRenderers\"},{\"attributes\":{},\"id\":\"2344\",\"type\":\"Selection\"},{\"attributes\":{},\"id\":\"2357\",\"type\":\"StringEditor\"},{\"attributes\":{\"line_alpha\":0.1,\"line_color\":\"#000000\",\"x\":{\"field\":\"xs\"},\"y\":{\"value\":0.74}},\"id\":\"2108\",\"type\":\"Line\"},{\"attributes\":{\"args\":{\"alphasZeroes\":[0,0,0,0,0,0,0,0,0,0,0,0,0,0,0,0,0,0,0,0,0,0,0,0,0,0,0,0,0,0,0,0,0,0,0,0,0,0,0,0,0,0,0,0,0,0,0,0,0,0,0],\"highlightIndex\":{\"id\":\"1940\"}},\"v_func\":\"\\nconst index = parseInt(highlightIndex.text);\\nif(xs[index] === 4) {\\n  const newAlphas = new Array(xs.length).fill(0);\\n  newAlphas[index] = 1;\\n  return newAlphas;\\n} else { return alphasZeroes; }\\n\"},\"id\":\"1949\",\"type\":\"CustomJSTransform\"},{\"attributes\":{\"editor\":{\"id\":\"2361\"},\"field\":\"chances\",\"formatter\":{\"id\":\"2362\"},\"title\":\"Chance\"},\"id\":\"2235\",\"type\":\"TableColumn\"},{\"attributes\":{},\"id\":\"1927\",\"type\":\"LinearScale\"},{\"attributes\":{\"fill_color\":{\"value\":\"#ECDF41\"},\"line_color\":{\"value\":\"#D8CB2D\"},\"size\":{\"units\":\"screen\",\"value\":5},\"x\":{\"field\":\"xs\"},\"y\":{\"field\":\"ys\"}},\"id\":\"2072\",\"type\":\"CircleCross\"},{\"attributes\":{\"columns\":[{\"id\":\"2233\"},{\"id\":\"2234\"},{\"id\":\"2235\"}],\"height\":280,\"source\":{\"id\":\"2232\"},\"view\":{\"id\":\"2237\"},\"visible\":false},\"id\":\"2236\",\"type\":\"DataTable\"},{\"attributes\":{\"data_source\":{\"id\":\"2070\"},\"glyph\":{\"id\":\"2103\"},\"hover_glyph\":null,\"muted_glyph\":null,\"nonselection_glyph\":{\"id\":\"2104\"},\"selection_glyph\":null,\"view\":{\"id\":\"2106\"}},\"id\":\"2105\",\"type\":\"GlyphRenderer\"},{\"attributes\":{\"args\":{\"autoNextButton\":{\"id\":\"2205\"},\"startAutomateButton\":{\"id\":\"2204\"}},\"code\":\"\\nconst val = (this.text !== 'false');\\nautoNextButton.disabled = val;\\nstartAutomateButton.disabled = val;\\n\"},\"id\":\"2240\",\"type\":\"CustomJS\"},{\"attributes\":{\"callback\":null,\"formatters\":{\"@xs\":{\"id\":\"1917\"}},\"point_policy\":\"follow_mouse\",\"renderers\":[{\"id\":\"1915\"}],\"tooltips\":\"\\n<div>\\n  <font size=\\\"1pt\\\"><p>Iteration: @xs{custom}<br>\\nScore: @ys</p></font>\\n</div>\\n\"},\"id\":\"1918\",\"type\":\"HoverTool\"},{\"attributes\":{\"editor\":{\"id\":\"2359\"},\"field\":\"aim_direction\",\"formatter\":{\"id\":\"2360\"},\"title\":\"Striker Aim Direction\"},\"id\":\"2234\",\"type\":\"TableColumn\"},{\"attributes\":{\"args\":{\"src\":{\"id\":\"1896\"}},\"code\":\"\\nconst index = special_vars.index;\\nconst data = src.data;\\n\\ndata['highlight_alphas'].fill(0);\\ndata['highlight_alphas'][index] = 1;\\nsrc.change.emit();\\n\\nreturn(data['xs'][index].toString());\\n\"},\"id\":\"1917\",\"type\":\"CustomJSHover\"},{\"attributes\":{\"source\":{\"id\":\"2232\"}},\"id\":\"2237\",\"type\":\"CDSView\"},{\"attributes\":{\"source\":{\"id\":\"1896\"}},\"id\":\"1916\",\"type\":\"CDSView\"},{\"attributes\":{\"args\":{\"advSpdSlider\":{\"id\":\"2214\"},\"aimTextInputs\":[{\"id\":\"2215\"},{\"id\":\"2216\"},{\"id\":\"2217\"},{\"id\":\"2218\"},{\"id\":\"2219\"},{\"id\":\"2220\"}],\"autoAdvButton\":{\"id\":\"2212\"},\"automateButton\":{\"id\":\"2203\"},\"automationTable\":{\"id\":\"2236\"},\"chancesNE1Tip\":{\"id\":\"2198\"},\"iterationsSlider\":{\"id\":\"2213\"},\"selectCpuTip\":{\"id\":\"2195\"},\"strategyDropdown\":{\"id\":\"2221\"}},\"code\":\"\\n//Change visibilities of game items:\\nautomateButton.visible = false;\\naimTextInputs.forEach(\\n  (v) => v.visible = true\\n)\\nautomationTable.visible = true;\\nchancesNE1Tip.visible = true;\\n\\nautoAdvButton.active = true;\\nautoAdvButton.visible = false;\\n\\nadvSpdSlider.value = 100;\\nadvSpdSlider.visible = false;\\n\\niterationsSlider.value = 50;\\niterationsSlider.visible = false;\\n\"},\"id\":\"2238\",\"type\":\"CustomJS\"},{\"attributes\":{\"fill_alpha\":{\"value\":0.1},\"fill_color\":{\"value\":\"#1f77b4\"},\"height\":{\"field\":\"heights\",\"units\":\"data\"},\"line_alpha\":{\"value\":0.1},\"line_color\":{\"value\":\"#CE7D7D\"},\"width\":{\"units\":\"data\",\"value\":1},\"x\":{\"field\":\"xs\"},\"y\":{\"value\":0}},\"id\":\"1914\",\"type\":\"Rect\"},{\"attributes\":{\"line_alpha\":0.1,\"line_color\":\"#000000\",\"x\":{\"field\":\"xs\"},\"y\":{\"value\":0.93}},\"id\":\"2104\",\"type\":\"Line\"},{\"attributes\":{\"data_source\":{\"id\":\"1896\"},\"glyph\":{\"id\":\"1913\"},\"hover_glyph\":null,\"muted_glyph\":null,\"nonselection_glyph\":{\"id\":\"1914\"},\"selection_glyph\":null,\"view\":{\"id\":\"1916\"}},\"id\":\"1915\",\"type\":\"GlyphRenderer\"},{\"attributes\":{\"source\":{\"id\":\"2070\"}},\"id\":\"2075\",\"type\":\"CDSView\"},{\"attributes\":{\"data\":{\"Left\":[0,0,0],\"Right\":[0,0,0]},\"selected\":{\"id\":\"2344\"},\"selection_policy\":{\"id\":\"2343\"}},\"id\":\"2241\",\"type\":\"ColumnDataSource\"},{\"attributes\":{\"fill_alpha\":{\"field\":\"highlight_alphas\"},\"fill_color\":{\"value\":\"#ECB841\"},\"line_alpha\":{\"field\":\"highlight_alphas\"},\"line_color\":{\"value\":\"#D8A42D\"},\"size\":{\"units\":\"screen\",\"value\":10},\"x\":{\"field\":\"xs\"},\"y\":{\"field\":\"ys\"}},\"id\":\"2077\",\"type\":\"CircleCross\"},{\"attributes\":{\"args\":{\"chancesValidDiv\":{\"id\":\"2201\"},\"counterMadeDiv\":{\"id\":\"2200\"},\"cpuSelectedDiv\":{\"id\":\"2199\"},\"makeCounterButton\":{\"id\":\"2206\"},\"startAutomateButton\":{\"id\":\"2204\"}},\"code\":\"\\nconst counterMadeText = counterMadeDiv.text;\\nconst chancesValidText = chancesValidDiv.text;\\n\\nconst canAccessMakeCounter = (\\n  counterMadeText !== '1' && chancesValidText === '1'\\n);\\nconst canAccessStartAutomate = (\\n  counterMadeText === '1' &&\\n  chancesValidText === '1' &&\\n  cpuSelectedDiv.text === '1'\\n);\\n\\nstartAutomateButton.visible = canAccessStartAutomate;\\nmakeCounterButton.visible = canAccessMakeCounter;\\n\"},\"id\":\"2239\",\"type\":\"CustomJS\"},{\"attributes\":{\"data_source\":{\"id\":\"2070\"},\"glyph\":{\"id\":\"2072\"},\"hover_glyph\":null,\"muted_glyph\":null,\"nonselection_glyph\":{\"id\":\"2073\"},\"selection_glyph\":null,\"view\":{\"id\":\"2075\"}},\"id\":\"2074\",\"type\":\"GlyphRenderer\"},{\"attributes\":{\"background_fill_color\":\"white\",\"below\":[{\"id\":\"1931\"}],\"center\":[{\"id\":\"1934\"},{\"id\":\"1938\"}],\"left\":[{\"id\":\"1935\"}],\"outline_line_color\":\"black\",\"plot_height\":360,\"renderers\":[{\"id\":\"1958\"},{\"id\":\"1963\"},{\"id\":\"1968\"},{\"id\":\"1973\"},{\"id\":\"1978\"},{\"id\":\"1983\"},{\"id\":\"1988\"},{\"id\":\"1993\"},{\"id\":\"1998\"},{\"id\":\"2003\"},{\"id\":\"2008\"},{\"id\":\"2013\"},{\"id\":\"2018\"},{\"id\":\"2023\"},{\"id\":\"2028\"},{\"id\":\"2033\"},{\"id\":\"2038\"},{\"id\":\"2043\"}],\"sizing_mode\":\"stretch_both\",\"title\":{\"id\":\"1921\"},\"toolbar\":{\"id\":\"1939\"},\"toolbar_location\":null,\"toolbar_sticky\":false,\"visible\":false,\"x_range\":{\"id\":\"1923\"},\"x_scale\":{\"id\":\"1927\"},\"y_range\":{\"id\":\"1925\"},\"y_scale\":{\"id\":\"1929\"}},\"id\":\"1920\",\"subtype\":\"Figure\",\"type\":\"Plot\"},{\"attributes\":{\"end\":50.5,\"start\":-0.5},\"id\":\"1923\",\"type\":\"Range1d\"},{\"attributes\":{\"args\":{\"aimTextInputs\":[{\"id\":\"2215\"},{\"id\":\"2216\"},{\"id\":\"2217\"},{\"id\":\"2218\"},{\"id\":\"2219\"},{\"id\":\"2220\"}],\"automationTableSrc\":{\"id\":\"2232\"},\"counterMadeDiv\":{\"id\":\"2200\"},\"goalieCounterSrc\":{\"id\":\"2241\"},\"makeCounterButton\":{\"id\":\"2206\"}},\"code\":\"\\nconst chances = automationTableSrc.data['chances'];\\n\\n//Hides the automation table as it is un-needed:\\naimTextInputs.forEach(\\n  (v) => v.visible = false\\n);\\n\\nconst rDict = {\\n  'LeftLeft'   : 0.55, 'LeftMiddle'   : 0.65, 'LeftRight'   : 0.93,\\n  'MiddleLeft' : 0.74, 'MiddleMiddle' : 0.60, 'MiddleRight' : 0.72,\\n  'RightLeft'  : 0.95, 'RightMiddle'  : 0.73, 'RightRight'  : 0.70\\n};\\nconst lDict = {\\n  'LeftLeft'   : 0.67, 'LeftMiddle'   : 0.70, 'LeftRight'   : 0.96,\\n  'MiddleLeft' : 0.74, 'MiddleMiddle' : 0.60, 'MiddleRight' : 0.72,\\n  'RightLeft'  : 0.87, 'RightMiddle'  : 0.65, 'RightRight'  : 0.61\\n};\\nconst scoreProbDicts = {\\n  'Right' : rDict,\\n  'Left'  : lDict\\n};\\n\\nconst directions = ['Left', 'Middle', 'Right'];\\n\\n['Left', 'Right'].forEach(\\n  (foot, footIndex) => {\\n    const aimChances = chances.slice(3 * footIndex, 3 * (footIndex + 1));\\n\\n    const scoreChancesDict = scoreProbDicts[foot];\\n    const risks = [0, 0, 0];\\n\\n    directions.forEach(\\n      (v, i) => {\\n        directions.forEach(\\n          (v2, i2) => risks[i] += (aimChances[i2] * scoreChancesDict[v2 + v])\\n        )\\n      }\\n    );\\n\\n    const stratToTake = risks.indexOf(Math.min(...risks));\\n    goalieCounterSrc.data[foot][stratToTake] = 1;\\n  }\\n);\\n\\ngoalieCounterSrc.change.emit();\\n\\nmakeCounterButton.visible = false;\\n\\ncounterMadeDiv.text = '1';\\n\"},\"id\":\"2242\",\"type\":\"CustomJS\"},{\"attributes\":{\"fill_alpha\":{\"value\":0.1},\"fill_color\":{\"value\":\"#ECDF41\"},\"line_alpha\":{\"value\":0.1},\"line_color\":{\"value\":\"#D8CB2D\"},\"size\":{\"units\":\"screen\",\"value\":5},\"x\":{\"field\":\"xs\"},\"y\":{\"field\":\"ys\"}},\"id\":\"2073\",\"type\":\"CircleCross\"},{\"attributes\":{\"text\":\"Keeper's Perceived Risks Over Iterations\",\"text_font_size\":{\"value\":\"16pt\"}},\"id\":\"1921\",\"type\":\"Title\"},{\"attributes\":{\"line_color\":\"#000000\",\"x\":{\"field\":\"xs\"},\"y\":{\"field\":\"ys\",\"transform\":{\"id\":\"2086\"}}},\"id\":\"2088\",\"type\":\"Line\"},{\"attributes\":{\"args\":{\"alphasZeroes\":[0,0,0,0,0,0,0,0,0,0,0,0,0,0,0,0,0,0,0,0,0,0,0,0,0,0,0,0,0,0,0,0,0,0,0,0,0,0,0,0,0,0,0,0,0,0,0,0,0,0,0],\"highlightIndex\":{\"id\":\"1940\"}},\"v_func\":\"\\nconst index = parseInt(highlightIndex.text);\\nif(xs[index] === 2) {\\n  const newAlphas = new Array(xs.length).fill(0);\\n  newAlphas[index] = 1;\\n  return newAlphas;\\n} else { return alphasZeroes; }\\n\"},\"id\":\"1945\",\"type\":\"CustomJSTransform\"},{\"attributes\":{\"args\":{\"advSpdSlider\":{\"id\":\"2214\"},\"aimTextInputs\":[{\"id\":\"2215\"},{\"id\":\"2216\"},{\"id\":\"2217\"},{\"id\":\"2218\"},{\"id\":\"2219\"},{\"id\":\"2220\"}],\"autoAdvButton\":{\"id\":\"2212\"},\"automationTable\":{\"id\":\"2236\"},\"ball\":{\"id\":\"1759\"},\"chancesSrc\":{\"id\":\"2232\"},\"counterSrc\":{\"id\":\"2241\"},\"distTable\":{\"id\":\"2230\"},\"distTableSrc\":{\"id\":\"2222\"},\"gameFig\":{\"id\":\"1717\"},\"gameFigButton\":{\"id\":\"2207\"},\"goalieBody\":{\"id\":\"1758\"},\"goalieHead\":{\"id\":\"1757\"},\"inAnIter\":{\"id\":\"2202\"},\"iterSlider\":{\"id\":\"2213\"},\"nextButton\":{\"id\":\"2205\"},\"nround\":{\"id\":\"2192\"},\"score\":{\"id\":\"2193\"},\"startButton\":{\"id\":\"2204\"},\"statsFig1\":{\"id\":\"1777\"},\"statsFig1Button\":{\"id\":\"2208\"},\"statsFig1Src\":{\"id\":\"1823\"},\"statsFig2\":{\"id\":\"1876\"},\"statsFig2Button\":{\"id\":\"2209\"},\"statsFig2Src\":{\"id\":\"1896\"},\"statsFig3\":{\"id\":\"1920\"},\"statsFig3Button\":{\"id\":\"2210\"},\"statsFig3Src\":{\"id\":\"1942\"},\"statsFig4\":{\"id\":\"2050\"},\"statsFig4Button\":{\"id\":\"2211\"},\"statsFig4Src\":{\"id\":\"2070\"},\"stratDropdown\":{\"id\":\"2221\"},\"stratToUseDiv\":{\"id\":\"2194\"},\"txt\":{\"id\":\"2186\"}},\"code\":\"\\nfunction initialIterationAdjustments(){\\n  /**\\n  * A function for making initial adjustments for the iteration.\\n  */\\n  //Set references:\\n  const fig2Data = statsFig2Src.data;\\n  const fig3Data = statsFig3Src.data;\\n  const fig4Data = statsFig4Src.data;\\n\\n  //Get iteration value:\\n  const iterations = iterSlider.value;\\n\\n  //Set figure x range limits:\\n  statsFig2.x_range.end = iterations + 0.5;\\n  statsFig3.x_range.end = iterations + 0.5;\\n  statsFig4.x_range.end = iterations + 0.5;\\n\\n  //Get array length:\\n  const arrLength = iterations + 1;\\n\\n  //Create x Value Arrays for Sources:\\n  const fig2Xs = new Array(arrLength).fill(0);\\n  fig2Xs.forEach(\\n    (v, i) => fig2Xs[i] = i\\n  );\\n  const fig3Xs = fig2Xs.slice();\\n  const fig4Xs = fig2Xs.slice(1);\\n\\n  //Set Fig2 Source Values:\\n  fig2Data['xs'] = fig2Xs;\\n  fig2Data['ys'] = [0].concat(new Array(iterations));\\n  fig2Data['chance_ys'] = [0].concat(new Array(iterations));\\n  fig2Data['highlight_alphas'] = new Array(arrLength).fill(0);\\n  fig2Data['heights'] = new Array(arrLength);\\n\\n  //Set Fig3 Source Values:\\n  fig3Data['xs'] = fig3Xs;\\n  //First values are manually calculated constants:\\n  fig3Data['ll_ys'] = [0.760000].concat(new Array(iterations).fill(0));\\n  fig3Data['lm_ys'] = [0.650000].concat(new Array(iterations).fill(0));\\n  fig3Data['lr_ys'] = [0.763333].concat(new Array(iterations).fill(0));\\n  fig3Data['rl_ys'] = [0.746666].concat(new Array(iterations).fill(0));\\n  fig3Data['rm_ys'] = [0.660000].concat(new Array(iterations).fill(0));\\n  fig3Data['rr_ys'] = [0.783333].concat(new Array(iterations).fill(0));\\n  fig3Data['hb1'] = new Array(arrLength);\\n  fig3Data['hb2'] = new Array(arrLength);\\n  fig3Data['hb3'] = new Array(arrLength);\\n  fig3Data['hb4'] = new Array(arrLength);\\n  fig3Data['hb5'] = new Array(arrLength);\\n  fig3Data['hb6'] = new Array(arrLength);\\n  fig3Data['highlight_alphas'] = new Array(arrLength).fill(0);\\n  fig3Data['alphas_zeroes'] = new Array(arrLength).fill(0);\\n\\n  //Set Fig4 Source Values:\\n  fig4Data['xs'] = fig4Xs;\\n  fig4Data['ys'] = new Array(iterations);\\n  fig4Data['feet'] = new Array(iterations);\\n  fig4Data['directions'] = new Array(iterations);\\n  fig4Data['actions'] = new Array(iterations);\\n  fig4Data['highlight_alphas'] = new Array(iterations).fill(0);\\n  fig4Data['avgs_placeholder'] = new Array(iterations).fill(0);\\n\\n  statsFig2Src.change.emit();\\n  statsFig3Src.change.emit();\\n  statsFig4Src.change.emit();\\n}\\n\\ninitialIterationAdjustments();\\n\\nstartButton.visible = false;\\nnextButton.visible = true;\\naimTextInputs.forEach(\\n  (v) => v.visible = false\\n)\\niterSlider.visible = false;\\nstratDropdown.visible = false;\\nautomationTable.visible = false;\\n\\nconst rDict = {\\n  'LeftLeft'   : 0.55, 'LeftMiddle'   : 0.65, 'LeftRight'   : 0.93,\\n  'MiddleLeft' : 0.74, 'MiddleMiddle' : 0.60, 'MiddleRight' : 0.72,\\n  'RightLeft'  : 0.95, 'RightMiddle'  : 0.73, 'RightRight'  : 0.70\\n};\\nconst lDict = {\\n  'LeftLeft'   : 0.67, 'LeftMiddle'   : 0.70, 'LeftRight'   : 0.96,\\n  'MiddleLeft' : 0.74, 'MiddleMiddle' : 0.60, 'MiddleRight' : 0.72,\\n  'RightLeft'  : 0.87, 'RightMiddle'  : 0.65, 'RightRight'  : 0.61\\n};\\nconst scoreProbDicts = {\\n  'Right' : rDict,\\n  'Left'  : lDict\\n};\\n\\nconst directions = ['Left', 'Middle', 'Right'];\\n\\nconst arrSumFunc = ((a, b) => a + b);\\n\\nconst chances = chancesSrc.data['chances'];\\nconst distData = distTableSrc.data;\\nconst freq = distData['freq'];\\n\\nfunction gameIter(){\\n  const itersToRun = iterSlider.value;\\n\\n  const gameStrat = stratToUseDiv.text;\\n\\n  const stratIsFictPlay = (gameStrat === 'Fictitious_Play');\\n\\n  let perceivedRiskL;\\n  let perceivedRiskM;\\n  let perceivedRiskR;\\n\\n  let goalieAction = '';\\n\\n  let kickerFoot = '';\\n  let kickerKick = '';\\n\\n  let goal = 0;\\n  let gameScore = 0;\\n  let roundsPlayed = 0;\\n\\n  let roundScoreChance = 0;\\n\\n  [kickerFoot, kickerKick] = rollKickerAction();\\n\\n  const footIsLeft = (kickerFoot === 'Left');\\n  const footDict = scoreProbDicts[kickerFoot];\\n  const kfRAdjust = (footIsLeft) ? 0 : 3;\\n\\n  switch(gameStrat) {\\n    case 'Fictitious_Play':\\n      [goalieAction, perceivedRiskL, perceivedRiskM, perceivedRiskR] = (\\n        fictitiousPlay(footIsLeft, footDict)\\n      );\\n      break;\\n    case 'Mixed_Strategy':\\n      goalieAction = optimalMixed(kickerFoot);\\n      break;\\n    case 'Random':\\n      goalieAction = randomChoice();\\n      break;\\n    case 'Goalie_Cheats':\\n      goalieAction = goalieCheats(kickerFoot);\\n      break;\\n    default:\\n      //TODO throw an error\\n      break;\\n  }\\n\\n  const directionsIndexGa = directions.indexOf(goalieAction); //DirectionsIndexGoalieAction\\n  const actionsIndexKFKK = kfRAdjust + directions.indexOf(kickerKick); //Actions index KFKK\\n\\n  [goal, gameScore, roundsPlayed, roundScoreChance] = scoring(\\n    footDict,\\n    kickerKick,\\n    goalieAction,\\n    actionsIndexKFKK\\n  );\\n\\n  const roundIsLastIter = (roundsPlayed >= itersToRun);\\n\\n  animateIter(goalieAction, kickerKick, goal);\\n\\n  goalieDecisionTracking(\\n    actionsIndexKFKK,\\n    kfRAdjust,\\n    directionsIndexGa,\\n    stratIsFictPlay,\\n    perceivedRiskL,\\n    perceivedRiskM,\\n    perceivedRiskR\\n  );\\n\\n  updateFig1(goal, directionsIndexGa, actionsIndexKFKK, roundIsLastIter);\\n\\n  updateFig2(\\n    roundsPlayed,\\n    gameScore,\\n    roundScoreChance,\\n    roundIsLastIter,\\n    itersToRun\\n  );\\n\\n  if(stratIsFictPlay) { updateFig3(roundsPlayed, roundIsLastIter, itersToRun); }\\n\\n  updateFig4(\\n    roundsPlayed,\\n    roundScoreChance,\\n    kickerFoot,\\n    kickerKick,\\n    goalieAction\\n  );\\n\\n  if(roundIsLastIter) { handleFigVisibility(stratIsFictPlay); }\\n\\n  iterText(roundsPlayed, gameScore, goal);\\n}\\n\\n//Setup the promise that enforces waiting for the delay to finish:\\nconst iterationDelay = (\\n  //Creates the promise with parameter ms:\\n  (ms) => new Promise(\\n    //Waits for ms seconds before resolving:\\n    (resolve) => setTimeout(\\n      () => {\\n        resolve();\\n      },\\n      ms\\n    )\\n  )\\n);\\n\\nasync function gameLoop(){\\n  /**\\n  * An async function that runs each iteration of the game. Recurses after a\\n  * delay if the necessary conditions are fulfilled.\\n  */\\n  //Take value for if another iteration is running:\\n  let tempIterVal = inAnIter.text;\\n\\n  //If there is not another iteration running:\\n  if(tempIterVal === 'false'){\\n    //Set the value of inAnIter to reflect that an iteration is now running:\\n    inAnIter.text = 'true';\\n\\n    //Run the game iteration:\\n    gameIter();\\n\\n    //Tell itself that it has finished running the iteration:\\n    tempIterVal = 'false';\\n\\n    //True if not in the last iteration of the game:\\n    const notLastRound = (parseInt(nround.text) < iterSlider.value);\\n\\n    //True if the button is activated by the user:\\n    const autoAdvActive = (autoAdvButton.active);\\n\\n    //True if both conditions are true:\\n    const conditionsFulfilled = (notLastRound && autoAdvActive);\\n\\n    //If all recursion conditions are fulfilled:\\n    if(conditionsFulfilled){\\n      //Await the delay, then recurse:\\n      await iterationDelay(advSpdSlider.value).then(\\n        () => {\\n          //Designate that an iteration is no longer running:\\n          inAnIter.text = 'false';\\n\\n          //Recurse:\\n          gameLoop();\\n        }\\n      );\\n    } else {\\n      //Designate that an iteration is no longer running:\\n      inAnIter.text = 'false';\\n    }\\n  }\\n}\\n\\ngameLoop();\\n\\nfunction iterText(roundsPlayed, gameScore, goal) {\\n  /**\\n   * Changes the game text to display the rounds played, game score and the\\n   * kicker's scoring result.\\n   * @param{string} roundsPlayed -- A string containing an int that shows the\\n   * iterations run.\\n   * @param{string} gameScore -- A string containing an int that shows the\\n   * current iteration's score.\\n   * @param{int} goal -- An int equal to either 1 or -1. Value of 1 is for if a\\n   * goal was scored during the iteration.\\n   */\\n  //Set Game Text Lines:\\n  txt.data['text'] = [\\n    `Rounds played: ${roundsPlayed}`,\\n    `Total score: ${gameScore}`,\\n    '',\\n    (goal === 1) ? 'GOAL!' : 'Blocked'\\n  ];\\n  txt.change.emit(); //Finalize changes by emitting to source\\n}\\n\\nfunction rollKickerAction() {\\n  /**\\n  * Selects a kicker pure strategy by converting the pure strategy selection\\n  * chances array to a form where each value has the previous values added to\\n  * them, so that the strategy can then be chosen by comparing the values to a\\n  * random roll. The kicker foot and direction are then determined according to\\n  * the strategy index before being returned in an array.\\n  * @return{array} -- An array that contains strings representing the kicker\\n  * foot, and their chosen kick direction. The kicker foot string can have value\\n  * equal to 'Left' or 'Right', and the kick direction has to be equal to either\\n  * 'Left', 'Middle', or 'Right'.\\n  */\\n  //Copy chances into array, then modify array to act as roll thresholds:\\n  let arrVals = [0].concat(chances.slice());\\n  arrVals.slice(1).forEach(\\n    (v, i) => arrVals[i + 1] += arrVals[i]\\n  );\\n\\n  //Determine actions to take based off roll comparison to thresholds:\\n  let index = 5;\\n  const roll = Math.random();\\n  arrVals.slice(0, 6).forEach(\\n    (v) => {\\n      if(roll < v) { index -= 1; }\\n    }\\n  );\\n  return [\\n    (index < 3) ? 'Left' : 'Right',\\n    directions[(index % 3)]\\n  ];\\n}\\n\\n//Handle Goalie Decision\\nfunction fictitiousPlay(footIsLeft, footDict) {\\n  /**\\n  * Determines the keeper's action according to Fictitious Play.\\n  * @param{bool} footIsLeft -- a bool containing whether or not the kicker is\\n  * left-footed.\\n  * @param{dict} footDict -- The dict that contains the score chances for the\\n  * different possible kicker foot kicker action outcomes.\\n  * @return{array} -- An array containing the direction for the keeper to dive,\\n  * and the keeper's perceived risks for each possible action from left to\\n  * right.\\n  */\\n  //Set decision making values to use according to kickerFoot:\\n  const freqs = (footIsLeft) ? freq.slice(0, 3) : freq.slice(3, 6);\\n\\n  //Calculate goalie perceived risks:\\n  const tsr = freqs.reduce(arrSumFunc);\\n  const eFreqs = (tsr !== 0) ? freqs.map(x => x / tsr) : [1/3, 1/3, 1/3];\\n  const risks = [0, 0, 0];\\n  directions.forEach(\\n    (v1, i) => directions.forEach(\\n      (v2, j) => risks[i] += eFreqs[j] * footDict[v2 + v1]\\n    )\\n  );\\n\\n  //return goalie action and perceived risks:\\n  const actionIndex = risks.indexOf(Math.min(...risks));\\n  return [\\n    directions[actionIndex],\\n    ...risks\\n  ];\\n}\\n\\nfunction optimalMixed(kickerFoot) {\\n  /**\\n  * Determines the keeper's action according to the optimal mixed strategy for\\n  * the keeper.\\n  * param{string} kickerFoot -- Either 'Left' or 'Right' representing the\\n  * kicker's footedness.\\n  * return{string} -- Either 'Left', 'Middle', or 'Right' representing the\\n  * keeper's direction to dive.\\n  */\\n  //selects and returns an action based off of optimal mixed strategy chances:\\n  const thresholds = {\\n    'Left'  : 0.8,\\n    'Right' : 0.7419\\n  };\\n  const goKickerFoot = (Math.random() >= thresholds[kickerFoot]);\\n  return (goKickerFoot) ? kickerFoot : 'Middle';\\n}\\n\\nfunction randomChoice() {\\n  /**\\n  * Determines the keeper's action at random.\\n  * return{string} -- Either 'Left', 'Middle', or 'Right' representing the\\n  * keeper's direction to dive.\\n  */\\n  //Selects and returns an action from directions at an equal chance:\\n  const actionIndex = Math.round(Math.random()*3 - 0.5);\\n  return directions[actionIndex];\\n}\\n\\nfunction goalieCheats(kickerFoot) {\\n  /**\\n  * Determines the keeper's action according to a previously created strategy.\\n  * param{string} kickerFoot -- Either 'Left' or 'Right' representing the\\n  * kicker's footedness.\\n  * return{string} -- Either 'Left', 'Middle', or 'Right' representing the\\n  * keeper's direction to dive.\\n  */\\n  //return the action of the pure strategy corresponding to the kicker foot:\\n\\n  const actionIndex = counterSrc.data[kickerFoot].indexOf(1);\\n  return directions[actionIndex];\\n}\\n\\nfunction handleFigVisibility(stratIsFictPlay) {\\n  nextButton.visible = false;\\n  distTable.visible = false;\\n  autoAdvButton.visible = false;\\n  advSpdSlider.visible = false;\\n  gameFigButton.visible = true;\\n\\n  statsFig1Button.visible = true;\\n  statsFig1.visible = false;\\n\\n  statsFig2Button.visible = true;\\n  statsFig2.visible = false;\\n\\n  statsFig3Button.visible = stratIsFictPlay;\\n  statsFig3.visible = false;\\n\\n  statsFig4Button.visible = true;\\n  statsFig4.visible = false;\\n\\n}\\n\\nfunction scoring(footDict, kickerKick, goalieAction, actionsIndexKFKK) {\\n  /**\\n  * Handles the scoring for the game.\\n  * param{dict} footDict -- The dict containing the score chances according to\\n  * the different possible kicker kick direction and keeper dive direction\\n  * outcomes for the kicker's footedness.\\n  * param{string} kickerKick -- Either 'Left', 'Middle', or 'Right' for the\\n  * kicker's kick direction.\\n  * param{string} goalieAction -- Either 'Left', 'Middle', or 'Right' for the\\n  * keeper's dive direction.\\n  * param{int} actionsIndexKFKK -- an int designating an index selected\\n  * previously according to the kicker's footedness and kick directions.\\n  */\\n  //Set function values:\\n  const scoreRoll = Math.random();\\n  const scoreChance = footDict[kickerKick + goalieAction];\\n  const roundsPlayed = parseInt(nround.text) + 1;\\n  const roundScore = (scoreRoll <= scoreChance) ? +1 : -1;\\n\\n  //Update columns:\\n  const scoreChanceCol = distData['striker_score_chance'];\\n  const scoreRollCol = distData['striker_score_roll'];\\n  scoreChanceCol.fill(0);\\n  scoreRollCol.fill(0);\\n  scoreChanceCol[actionsIndexKFKK] = scoreChance;\\n  scoreRollCol[actionsIndexKFKK] = scoreRoll.toPrecision(6);\\n\\n  //Update text:\\n  nround.text = roundsPlayed.toString();\\n  const currentGameScore = parseInt(score.text) + roundScore;\\n  score.text = currentGameScore.toString();\\n\\n  return [roundScore, currentGameScore, roundsPlayed, scoreChance];\\n}\\n\\nfunction _moveGoalie(xLoc) {\\n  /**\\n  * Moves the goalie to the specified x coordinate.\\n  * param{int} xLoc -- The x coord to move to.\\n  */\\n  //Move both components of the goalie:\\n  goalieBody.x = xLoc;\\n  goalieHead.x = xLoc;\\n}\\n\\nfunction animateIter(goalieAction, kickerKick, goal) {\\n  /**\\n  * Handles the animation for the iteration.\\n  * @param{string} goalieAction -- Either 'Left', 'Middle', 'Right' signifying\\n  * the keeper's dive direction.\\n  * @param{string} kickerKick -- Either 'Left', 'Middle', 'Right' signifying the\\n  * kicker's kick direction.\\n  * @param{int} goal -- Either 1 or -1 for the iteration score change.\\n  */\\n  //Set positions and store ball roll for handling cases:\\n  const goalieActionIsKickerKick = (goalieAction === kickerKick);\\n  const goalNotScored = (goal === -1);\\n  const gPos = {\\n    'Left'   : [37, 43],\\n    'Middle' : [47, 53],\\n    'Right'  : [57, 63]\\n  };\\n  const outOfGoalPos = {\\n    'Left'   : [30, 30],\\n    'Middle' : [30, 70],\\n    'Right'  : [70, 70]\\n  };\\n  const shotUnluckyMiss = (goalNotScored && !goalieActionIsKickerKick);\\n  const bPos = (shotUnluckyMiss) ? outOfGoalPos : gPos;\\n  const bRoll = Math.round(Math.random());\\n\\n  ball.x = bPos[kickerKick][bRoll];\\n  ball.y = 63;\\n  if(goalieActionIsKickerKick){\\n    const goalieRolledX = gPos[goalieAction][[1, 0][bRoll]];\\n    const goalieX = (goalNotScored) ? ball.x : goalieRolledX;\\n    _moveGoalie(goalieX);\\n  } else {\\n    const goalieX = gPos[goalieAction][Math.round(Math.random())];\\n    _moveGoalie(goalieX);\\n  }\\n}\\n\\nfunction goalieDecisionTracking(\\n  actionsIndexKFKK,\\n  kfRAdjust,\\n  directionsIndexGa,\\n  stratIsFictPlay,\\n  perceivedRiskL,\\n  perceivedRiskM,\\n  perceivedRiskR\\n) {\\n  /**\\n  * Tracks game data and puts it into the dist table.\\n  * @param{int} actionsIndexKFKK -- An int for adjusting indexes around the\\n  * kicker foot and kicker kick directions.\\n  * @param{int} kfRAdjust -- An int for adjusting indexes if the kicker is\\n  * right-footed.\\n  * @param{int} directionsIndexGa -- An int for the index of the keeper\\n  * dive direction.\\n  * @param{bool} stratIsFictPlay -- A bool for whether or not the keeper is\\n  * using fictitious play.\\n  * @param{float} perceivedRiskL -- The keeper's perceived risks for diving left.\\n  * @param{float} perceivedRiskM -- The keeper's perceived risks for diving middle.\\n  * @param{float} perceivedRiskR -- The keeper's perceived risks for diving right.\\n  */\\n\\n  //Increase corresponding trackers to KFKK and KFGA:\\n  freq[actionsIndexKFKK] += 1;\\n  const decisionsIndex = kfRAdjust + directionsIndexGa;\\n  distData['decisions'][decisionsIndex] += 1;\\n\\n  //Update table perceived risks if fictitious play:\\n  if(stratIsFictPlay) {\\n    _updateDecisionTableRisks(\\n      perceivedRiskL,\\n      perceivedRiskM,\\n      perceivedRiskR,\\n      kfRAdjust\\n    );\\n  }\\n\\n  //Update table by finalizing changes to source:\\n  distTableSrc.change.emit();\\n}\\n\\nfunction _updateDecisionTableRisks(\\n  perceivedRiskL,\\n  perceivedRiskM,\\n  perceivedRiskR,\\n  kfRAdjust\\n) {\\n  /**\\n  * updates the dist table's risk values.\\n  * @param{float} perceivedRiskL -- The keeper's perceived risks for diving left.\\n  * @param{float} perceivedRiskM -- The keeper's perceived risks for diving middle.\\n  * @param{float} perceivedRiskR -- The keeper's perceived risks for diving right.\\n  * @param{int} kfRAdjust -- An int for adjusting indexes if the kicker is\\n  * right-footed.\\n  */\\n  //Reset column then set perceived risk for rows corresponding to kicker foot:\\n  const risks = distData['goalie_perceived_risks'];\\n\\n  risks.fill(0);\\n  const prs = [\\n    perceivedRiskL.toPrecision(6),\\n    perceivedRiskM.toPrecision(6),\\n    perceivedRiskR.toPrecision(6)\\n  ];\\n  prs.forEach(\\n    (v, i) => risks[kfRAdjust + i] = v\\n  );\\n}\\n\\nfunction _fig1Iter(\\n  goal,\\n  directionsIndexGa,\\n  sections,\\n  fig1Data,\\n  actionsIndexKFKK\\n) {\\n  /**\\n  * Handles the data for an iteration in Game Stats Figure 1.\\n  * @param{int} goal -- Either -1 or 1 for the iterations score change.\\n  * @param{int} directionsIndexGa -- An int for the index of the keeper\\n  * dive direction.\\n  * @param{array} sections -- An array containing the column names for the bar\\n  * sections in Figure 1.\\n  * @param{dict} fig1Data -- The data for game stats figure 1.\\n  * @param{int} actionsIndexKFKK -- An int for adjusting indexes around the\\n  * kicker foot and kicker kick directions.\\n  */\\n  //Increase section value of iteration result by 1:\\n  const sectionIndex = (goal === 1) ? 0 : directionsIndexGa + 1;\\n  const section = sections[sectionIndex];\\n  fig1Data[section][actionsIndexKFKK] += 1;\\n}\\n\\nfunction _fig1Adjust(sections, fig1Data) {\\n  /**\\n  * Adjusts Game Stats Figure 1.\\n  * @param{array} sections -- An array containing the column names for the bar\\n  * sections in Figure 1.\\n  * @param{dict} fig1Data -- The data for game stats figure 1.\\n  */\\n  //Get total heights of kfkk bars:\\n  const heights = [0, 0, 0, 0, 0, 0]\\n  sections.forEach(\\n    (v1) => fig1Data[v1].forEach(\\n      (v2, i) => heights[i] += v2\\n    )\\n  );\\n\\n  //Set y max to 1.1 * the height of the tallest kfkk bar (rounded):\\n  statsFig1.y_range.end = Math.round(Math.max(...heights) * 1.1);\\n}\\n\\nfunction updateFig1(\\n  goal,\\n  directionsIndexGa,\\n  actionsIndexKFKK,\\n  roundIsLastIter\\n) {\\n  /**\\n  * Updates the data for Game Stats Figure 1.\\n  * @param{int} goal -- Either -1 or 1 for the iterations score change.\\n  * @param{int} directionsIndexGa -- An int for the index of the keeper\\n  * dive direction.\\n  * @param{int} actionsIndexKFKK -- An int for adjusting indexes around the\\n  * kicker foot and kicker kick directions.\\n  * @param{bool} roundIsLastIter -- Whether or not the iteration is the last one.\\n  */\\n  //create constants for referencing:\\n  const fig1Data = statsFig1Src.data;\\n  const sections = ['scored_y', 'blockedl_y', 'blockedm_y', 'blockedr_y'];\\n\\n  //Update the figure for the iteration:\\n  _fig1Iter(goal, directionsIndexGa, sections, fig1Data, actionsIndexKFKK);\\n\\n  //Make final adjustments if it is the final iteration:\\n  if(roundIsLastIter) { _fig1Adjust(sections, fig1Data); }\\n\\n  //Update the figure by finalizing the changes to the data source:\\n  statsFig1Src.change.emit();\\n}\\n\\nfunction _fig2Iter(fig2Data, roundsPlayed, gameScore, roundScoreChance) {\\n  /**\\n  * Handles an iteration of data for Game Stats Figure 2.\\n  * @param{dict} fig2Data -- The data for Game Stats Figure 2.\\n  * @param{int} roundsPlayed -- The number of iterations played.\\n  * @param{int} gameScore -- The score for the game at the current iteration.\\n  * @param{float} roundScoreChance -- The chance of scoring for the played iteration.\\n  */\\n  //Plot Values:\\n  fig2Data['ys'][roundsPlayed] = gameScore;\\n  fig2Data['chance_ys'][roundsPlayed] = 2*roundScoreChance - 1;\\n}\\n\\nfunction _fig2Adjust(fig2Data, itersToRun) {\\n  /**\\n  * Adjusts the data for Game Stats Figure 2.\\n  * @param{dict} fig2Data -- The data for Game Stats Figure 2.\\n  * @param{int} itersToRun -- The number of iterations total for the game.\\n  */\\n  //Adjust chanceYs:\\n  const chanceYs = fig2Data['chance_ys'];\\n  chanceYs.slice(1).forEach(\\n    (v, i) => chanceYs[i + 1] += chanceYs[i]\\n  );\\n\\n  //Get max and min of figure points:\\n  const ys = fig2Data['ys'];\\n  let minVal = Math.min(... ys);\\n  let maxVal = Math.max(... ys, ...chanceYs);\\n\\n  //Adjust figure display:\\n  const buffer = Math.round((Math.abs(maxVal) + Math.abs(minVal)) * 0.1);\\n  maxVal += buffer;\\n  minVal -= buffer;\\n  statsFig2.y_range.end   = maxVal;\\n  statsFig2.y_range.start = minVal;\\n\\n  //Resize hit boxes:\\n  const hitboxHeight = 2 * Math.max(Math.abs(maxVal), Math.abs(minVal));\\n  fig2Data['heights'].fill(hitboxHeight);\\n}\\n\\nfunction updateFig2(\\n  roundsPlayed,\\n  gameScore,\\n  roundScoreChance,\\n  roundIsLastIter,\\n  itersToRun\\n) {\\n  /**\\n  * Updates the data for Game Stats Figure 2.\\n  * @param{int} roundsPlayed -- The number of iterations played.\\n  * @param{int} gameScore -- The score for the game at the current iteration.\\n  * @param{float} roundScoreChance -- The chance of scoring for the played iteration.\\n  * @param{bool} roundIsLastIter -- Whether or not the iteration is the last one.\\n  * @param{int} itersToRun -- The number of iterations total for the game.\\n  */\\n  //Store reference to fig 2 data:\\n  const fig2Data = statsFig2Src.data;\\n\\n  //Update the figure for the iteration:\\n  _fig2Iter(fig2Data, roundsPlayed, gameScore, roundScoreChance);\\n\\n  //Adjust the figure as needed if it is the last iteration:\\n  if(roundIsLastIter) { _fig2Adjust(fig2Data, itersToRun); }\\n\\n  //Update the source to finalize the changes to the figure:\\n  statsFig2Src.change.emit();\\n}\\n\\nfunction _fig3Iter(ys, roundsPlayed) {\\n  /** Handles the data for an iteration for Game Stats Figure 3.\\n  * @param{array} ys -- An array containing the ys columns of figure 3.\\n  * @param{int} roundsPlayed -- The number of iterations played.\\n  */\\n  //For each foot:\\n  ['Left', 'Right'].forEach(\\n    (footVal, footIndex) => {\\n\\n      //Calculate emprical frequencies of aim directions for that footedness:\\n      const footFreq = freq.slice((3 * footIndex), (3 * (footIndex + 1)));\\n      const footTsr = footFreq.reduce(arrSumFunc);\\n      const footChances = (\\n        (footTsr !== 0) ? footFreq.map(x => x/footTsr) : [1/3, 1/3, 1/3]\\n      );\\n\\n      //calculate and plot risk of goalie taking each position:\\n      directions.forEach(\\n        (v1, i1) => directions.forEach(\\n          (v2, i2) => {\\n            const sideRisk = footChances[i2] * scoreProbDicts[footVal][v2 + v1];\\n            const ysIndex = 3*footIndex + i1;\\n            ys[ysIndex][roundsPlayed] += sideRisk;\\n          }\\n        )\\n      );\\n\\n    }\\n  );\\n}\\n\\nfunction _fig3Adjust(fig3Data, itersToRun, ys) {\\n  /**\\n  * Adjusts Game Stats Figure 3's data.\\n  * @param{dict} fig3Data -- The data for Game Stats figure 3.\\n  * @param{int} itersToRun -- The total number of iterations in the game.\\n  * @param{array} ys -- An array containing the ys columns of figure 3.\\n  */\\n  //store fig3Data hb columns for iteration and reference:\\n  const hbs = [\\n    fig3Data['hb1'],\\n    fig3Data['hb2'],\\n    fig3Data['hb3'],\\n    fig3Data['hb4'],\\n    fig3Data['hb5'],\\n    fig3Data['hb6']\\n  ];\\n\\n  //Adjustment loop:\\n  let vals = [];\\n\\n  //For every iteration:\\n  for(let iter = 0; iter <= itersToRun; iter++){\\n    let hbHeights = new Array(6);\\n    let risks = new Array(6);\\n\\n    //For every risk value, send to risks list for later use and push to vals:\\n    ys.forEach(\\n      (yVal, yIndex) => {\\n        risks[yIndex] = yVal[iter];\\n        vals.push(yVal[iter]);\\n      }\\n    );\\n\\n    risks.sort((a, b) => a - b); //Sort risks in ascending order to setup\\n\\n    //For every entry in risks:\\n    risks.forEach(\\n      (rVal, rIndex, a) => {\\n        //Set upper edge of hitbox to be equal to halfway between hitbox point\\n        //and next point (Set top hitbox edge to 1):\\n        let val = (rIndex === 5) ? 1 : ((rVal + a[rIndex + 1]) / 2);\\n\\n        //subtract heights of all lower hitboxes to get hitbox height:\\n        hbHeights.slice(0, rIndex).forEach(\\n          (rVal) => val -= rVal\\n        );\\n\\n        //Save value for use in next hitbox's calculation and plot on graph:\\n        hbHeights[rIndex] = val;\\n        hbs[rIndex][iter] = val;\\n      }\\n    );\\n  }\\n\\n  //Adjust graph based off of stored values:\\n  const minVal = Math.round(Math.min(...vals) * 100) / 100;\\n  const maxVal = Math.round(Math.max(...vals) * 100) / 100;\\n  const buffer = Math.round((maxVal - minVal) * 100) / 1000;\\n  statsFig3.y_range.end   = Math.min(maxVal + buffer, 1);\\n  statsFig3.y_range.start = Math.max(minVal - buffer, 0);\\n}\\n\\nfunction updateFig3(roundsPlayed, roundIsLastIter, itersToRun) {\\n  /**\\n  * Updates the data for Game Stats Figure 3.\\n  * @param{int} roundsPlayed -- The number of iterations played.\\n  * @param{bool} roundIsLastIter -- Whether or not the iteration is the last one.\\n  * @param{int} itersToRun -- The number of iterations total for the game.\\n  */\\n  //Store values for reference:\\n  let fig3Data = statsFig3Src.data;\\n  const ys = [\\n    fig3Data['ll_ys'], fig3Data['lm_ys'], fig3Data['lr_ys'],\\n    fig3Data['rl_ys'], fig3Data['rm_ys'], fig3Data['rr_ys']\\n  ];\\n\\n  //Update plot points:\\n  _fig3Iter(ys, roundsPlayed);\\n\\n  //Make final adjustments to graph on last iteration:\\n  if(roundIsLastIter) { _fig3Adjust(fig3Data, itersToRun, ys); }\\n\\n  //Finalize changes:\\n  statsFig3Src.change.emit();\\n}\\n\\nfunction updateFig4(\\n  roundsPlayed,\\n  roundScoreChance,\\n  kickerFoot,\\n  kickerKick,\\n  goalieAction\\n) {\\n  /**\\n  * Updates the data for Game Stats Figure 4.\\n  * @param{int} roundsPlayed -- The number of iterations played.\\n  * @param{float} roundScoreChance -- The chance of scoring for the most\\n  * recent iteration.\\n  * @param{string} kickerFoot -- Either 'Left' or 'Right' signifying the kicker's\\n  * footedness.\\n  * @param{string} kickerKick -- Either 'Left', 'Middle', 'Right' signifying the\\n  * kicker's kick direction.\\n  * @param{string} goalieAction -- Either 'Left', 'Middle', 'Right' signifying\\n  * the keeper's dive direction.\\n  */\\n  const fig4Data = statsFig4Src.data;\\n  const index = roundsPlayed - 1;\\n  fig4Data['ys'][index] = roundScoreChance;\\n  fig4Data['feet'][index] = kickerFoot;\\n  fig4Data['directions'][index] = kickerKick;\\n  fig4Data['actions'][index] = goalieAction;\\n\\n  statsFig4Src.change.emit();\\n}\\n\"},\"id\":\"2248\",\"type\":\"CustomJS\"},{\"attributes\":{\"source\":{\"id\":\"2070\"}},\"id\":\"2080\",\"type\":\"CDSView\"},{\"attributes\":{\"fill_alpha\":{\"value\":0},\"fill_color\":{\"value\":\"#1f77b4\"},\"height\":{\"units\":\"data\",\"value\":0.5},\"line_alpha\":{\"value\":0},\"width\":{\"units\":\"data\",\"value\":1},\"x\":{\"field\":\"xs\"},\"y\":{\"value\":0.75}},\"id\":\"2082\",\"type\":\"Rect\"},{\"attributes\":{\"data_source\":{\"id\":\"2070\"},\"glyph\":{\"id\":\"2077\"},\"hover_glyph\":null,\"muted_glyph\":null,\"nonselection_glyph\":{\"id\":\"2078\"},\"selection_glyph\":null,\"view\":{\"id\":\"2080\"}},\"id\":\"2079\",\"type\":\"GlyphRenderer\"},{\"attributes\":{\"args\":{\"fig1Button\":{\"id\":\"2208\"},\"fig2Button\":{\"id\":\"2209\"},\"fig3Button\":{\"id\":\"2210\"},\"fig4Button\":{\"id\":\"2211\"},\"gameFig\":{\"id\":\"1717\"},\"gameFigButton\":{\"id\":\"2207\"},\"statsFig1\":{\"id\":\"1777\"},\"statsFig2\":{\"id\":\"1876\"},\"statsFig3\":{\"id\":\"1920\"},\"statsFig4\":{\"id\":\"2050\"}},\"code\":\"gameFigButton.disabled = true;\\ngameFig.visible = true;\\nfig1Button.disabled = false;\\nstatsFig1.visible = false;\\nfig2Button.disabled = false;\\nstatsFig2.visible = false;\\nfig3Button.disabled = false;\\nstatsFig3.visible = false;\\nfig4Button.disabled = false;\\nstatsFig4.visible = false;\\n\"},\"id\":\"2243\",\"type\":\"CustomJS\"},{\"attributes\":{\"fill_alpha\":{\"value\":0.1},\"fill_color\":{\"value\":\"#ECB841\"},\"line_alpha\":{\"value\":0.1},\"line_color\":{\"value\":\"#D8A42D\"},\"size\":{\"units\":\"screen\",\"value\":10},\"x\":{\"field\":\"xs\"},\"y\":{\"field\":\"ys\"}},\"id\":\"2078\",\"type\":\"CircleCross\"},{\"attributes\":{},\"id\":\"1925\",\"type\":\"Range1d\"},{\"attributes\":{\"args\":{\"aimTextInputs\":[{\"id\":\"2215\"},{\"id\":\"2216\"},{\"id\":\"2217\"},{\"id\":\"2218\"},{\"id\":\"2219\"},{\"id\":\"2220\"}],\"chancesGT1Tip\":{\"id\":\"2197\"},\"chancesLT0Tip\":{\"id\":\"2196\"},\"chancesNE1Tip\":{\"id\":\"2198\"},\"chancesValidDiv\":{\"id\":\"2201\"},\"startAutomateButton\":{\"id\":\"2204\"},\"tableSrc\":{\"id\":\"2232\"}},\"code\":\"\\n//Hide start button:\\nstartAutomateButton.visible = false;\\n\\nconst aimVals = aimTextInputs.map(\\n  (v) => parseFloat(v.value)\\n);\\n\\n//Handle Validity Checks 1 & 2:\\nconst isValid1 = (Math.max(...aimVals) <= 1);\\nconst isValid2 = (Math.min(...aimVals) >= 0);\\n\\n//Handle Validity check 3:\\nconst total = aimVals.reduce((a, b) => a + b);\\nconst isValid3 = (Math.abs(total - 1) <= 0.0000001);\\n\\nchancesGT1Tip.visible = !isValid1;\\nchancesLT0Tip.visible = !isValid2;\\nchancesNE1Tip.visible = !isValid3;\\n\\ntableSrc.data['chances'] = aimVals.slice();\\ntableSrc.change.emit();\\n\\nchancesValidDiv.text = ((isValid1 && isValid2 && isValid3) ? '1' : '0');\\n\"},\"id\":\"2250\",\"type\":\"CustomJS\"},{\"attributes\":{\"data_source\":{\"id\":\"2070\"},\"glyph\":{\"id\":\"2082\"},\"hover_glyph\":null,\"muted_glyph\":null,\"nonselection_glyph\":{\"id\":\"2083\"},\"selection_glyph\":null,\"view\":{\"id\":\"2085\"}},\"id\":\"2084\",\"type\":\"GlyphRenderer\"},{\"attributes\":{},\"id\":\"1929\",\"type\":\"LinearScale\"},{\"attributes\":{\"args\":{\"fig1Button\":{\"id\":\"2208\"},\"fig2Button\":{\"id\":\"2209\"},\"fig3Button\":{\"id\":\"2210\"},\"fig4Button\":{\"id\":\"2211\"},\"gameFig\":{\"id\":\"1717\"},\"gameFigButton\":{\"id\":\"2207\"},\"statsFig1\":{\"id\":\"1777\"},\"statsFig2\":{\"id\":\"1876\"},\"statsFig3\":{\"id\":\"1920\"},\"statsFig4\":{\"id\":\"2050\"}},\"code\":\"gameFigButton.disabled = false;\\ngameFig.visible = false;\\nfig1Button.disabled = true;\\nstatsFig1.visible = true;\\nfig2Button.disabled = false;\\nstatsFig2.visible = false;\\nfig3Button.disabled = false;\\nstatsFig3.visible = false;\\nfig4Button.disabled = false;\\nstatsFig4.visible = false;\\n\"},\"id\":\"2244\",\"type\":\"CustomJS\"},{\"attributes\":{\"formatter\":{\"id\":\"2271\"},\"ticker\":{\"id\":\"1932\"}},\"id\":\"1931\",\"type\":\"LinearAxis\"},{\"attributes\":{\"args\":{\"fig1Button\":{\"id\":\"2208\"},\"fig2Button\":{\"id\":\"2209\"},\"fig3Button\":{\"id\":\"2210\"},\"fig4Button\":{\"id\":\"2211\"},\"gameFig\":{\"id\":\"1717\"},\"gameFigButton\":{\"id\":\"2207\"},\"statsFig1\":{\"id\":\"1777\"},\"statsFig2\":{\"id\":\"1876\"},\"statsFig3\":{\"id\":\"1920\"},\"statsFig4\":{\"id\":\"2050\"}},\"code\":\"gameFigButton.disabled = false;\\ngameFig.visible = false;\\nfig1Button.disabled = false;\\nstatsFig1.visible = false;\\nfig2Button.disabled = true;\\nstatsFig2.visible = true;\\nfig3Button.disabled = false;\\nstatsFig3.visible = false;\\nfig4Button.disabled = false;\\nstatsFig4.visible = false;\\n\"},\"id\":\"2245\",\"type\":\"CustomJS\"},{\"attributes\":{\"fill_alpha\":{\"value\":0.1},\"fill_color\":{\"value\":\"#1f77b4\"},\"height\":{\"units\":\"data\",\"value\":0.5},\"line_alpha\":{\"value\":0.1},\"width\":{\"units\":\"data\",\"value\":1},\"x\":{\"field\":\"xs\"},\"y\":{\"value\":0.75}},\"id\":\"2083\",\"type\":\"Rect\"},{\"attributes\":{\"args\":{\"fig1Button\":{\"id\":\"2208\"},\"fig2Button\":{\"id\":\"2209\"},\"fig3Button\":{\"id\":\"2210\"},\"fig4Button\":{\"id\":\"2211\"},\"gameFig\":{\"id\":\"1717\"},\"gameFigButton\":{\"id\":\"2207\"},\"statsFig1\":{\"id\":\"1777\"},\"statsFig2\":{\"id\":\"1876\"},\"statsFig3\":{\"id\":\"1920\"},\"statsFig4\":{\"id\":\"2050\"}},\"code\":\"gameFigButton.disabled = false;\\ngameFig.visible = false;\\nfig1Button.disabled = false;\\nstatsFig1.visible = false;\\nfig2Button.disabled = false;\\nstatsFig2.visible = false;\\nfig3Button.disabled = true;\\nstatsFig3.visible = true;\\nfig4Button.disabled = false;\\nstatsFig4.visible = false;\\n\"},\"id\":\"2246\",\"type\":\"CustomJS\"},{\"attributes\":{},\"id\":\"1932\",\"type\":\"BasicTicker\"},{\"attributes\":{\"v_func\":\"\\nlet newXs = [];\\nxs.forEach(\\n  (v, i) => (newXs.push((i !== 0) ? ((v + i * newXs[i - 1]) / (i + 1)) : v))\\n);\\n\\nreturn newXs;\\n\"},\"id\":\"2086\",\"type\":\"CustomJSTransform\"},{\"attributes\":{\"source\":{\"id\":\"2070\"}},\"id\":\"2085\",\"type\":\"CDSView\"},{\"attributes\":{\"args\":{\"src\":{\"id\":\"1942\"}},\"v_func\":\"\\nconst newXs = [];\\nconst data = src.data;\\nxs.forEach(\\n  (v, i) => newXs.push(v/2 + data['hb2'][i] + data['hb1'][i])\\n);\\n\\nreturn newXs;\\n\"},\"id\":\"1948\",\"type\":\"CustomJSTransform\"},{\"attributes\":{\"axis\":{\"id\":\"1931\"},\"grid_line_color\":\"black\",\"ticker\":null,\"visible\":false},\"id\":\"1934\",\"type\":\"Grid\"},{\"attributes\":{\"args\":{\"fig1Button\":{\"id\":\"2208\"},\"fig2Button\":{\"id\":\"2209\"},\"fig3Button\":{\"id\":\"2210\"},\"fig4Button\":{\"id\":\"2211\"},\"gameFig\":{\"id\":\"1717\"},\"gameFigButton\":{\"id\":\"2207\"},\"statsFig1\":{\"id\":\"1777\"},\"statsFig2\":{\"id\":\"1876\"},\"statsFig3\":{\"id\":\"1920\"},\"statsFig4\":{\"id\":\"2050\"}},\"code\":\"gameFigButton.disabled = false;\\ngameFig.visible = false;\\nfig1Button.disabled = false;\\nstatsFig1.visible = false;\\nfig2Button.disabled = false;\\nstatsFig2.visible = false;\\nfig3Button.disabled = false;\\nstatsFig3.visible = false;\\nfig4Button.disabled = true;\\nstatsFig4.visible = true;\\n\"},\"id\":\"2247\",\"type\":\"CustomJS\"},{\"attributes\":{\"args\":{\"alphasZeroes\":[0,0,0,0,0,0,0,0,0,0,0,0,0,0,0,0,0,0,0,0,0,0,0,0,0,0,0,0,0,0,0,0,0,0,0,0,0,0,0,0,0,0,0,0,0,0,0,0,0,0,0],\"highlightIndex\":{\"id\":\"1940\"}},\"v_func\":\"\\nconst index = parseInt(highlightIndex.text);\\nif(xs[index] === 3) {\\n  const newAlphas = new Array(xs.length).fill(0);\\n  newAlphas[index] = 1;\\n  return newAlphas;\\n} else { return alphasZeroes; }\\n\"},\"id\":\"1947\",\"type\":\"CustomJSTransform\"},{\"attributes\":{\"source\":{\"id\":\"2070\"}},\"id\":\"2091\",\"type\":\"CDSView\"},{\"attributes\":{\"args\":{\"src\":{\"id\":\"1942\"}},\"v_func\":\"\\nconst newXs = [];\\nconst data = src.data;\\nxs.forEach(\\n  (v, i) => newXs.push(v/2 + data['hb1'][i])\\n);\\n\\nreturn newXs;\\n\"},\"id\":\"1946\",\"type\":\"CustomJSTransform\"},{\"attributes\":{\"button_type\":\"success\",\"icon\":null,\"js_event_callbacks\":{\"button_click\":[{\"id\":\"2244\"}]},\"label\":\"Figure 1\",\"sizing_mode\":\"scale_width\",\"visible\":false,\"width_policy\":\"fit\"},\"id\":\"2208\",\"type\":\"Button\"},{\"attributes\":{\"args\":{\"advSpdSlider\":{\"id\":\"2214\"},\"autoAdvButton\":{\"id\":\"2212\"},\"ball\":{\"id\":\"1759\"},\"chancesSrc\":{\"id\":\"2232\"},\"counterSrc\":{\"id\":\"2241\"},\"distTable\":{\"id\":\"2230\"},\"distTableSrc\":{\"id\":\"2222\"},\"gameFig\":{\"id\":\"1717\"},\"gameFigButton\":{\"id\":\"2207\"},\"goalieBody\":{\"id\":\"1758\"},\"goalieHead\":{\"id\":\"1757\"},\"inAnIter\":{\"id\":\"2202\"},\"iterSlider\":{\"id\":\"2213\"},\"nextButton\":{\"id\":\"2205\"},\"nround\":{\"id\":\"2192\"},\"score\":{\"id\":\"2193\"},\"statsFig1\":{\"id\":\"1777\"},\"statsFig1Butto\":{\"id\":\"2208\"},\"statsFig1Src\":{\"id\":\"1823\"},\"statsFig2\":{\"id\":\"1876\"},\"statsFig2Butto\":{\"id\":\"2209\"},\"statsFig2Src\":{\"id\":\"1896\"},\"statsFig3\":{\"id\":\"1920\"},\"statsFig3Butto\":{\"id\":\"2210\"},\"statsFig3Src\":{\"id\":\"1942\"},\"statsFig4\":{\"id\":\"2050\"},\"statsFig4Butto\":{\"id\":\"2211\"},\"statsFig4Src\":{\"id\":\"2070\"},\"stratToUseDiv\":{\"id\":\"2194\"},\"txt\":{\"id\":\"2186\"}},\"code\":\"\\nconst rDict = {\\n  'LeftLeft'   : 0.55, 'LeftMiddle'   : 0.65, 'LeftRight'   : 0.93,\\n  'MiddleLeft' : 0.74, 'MiddleMiddle' : 0.60, 'MiddleRight' : 0.72,\\n  'RightLeft'  : 0.95, 'RightMiddle'  : 0.73, 'RightRight'  : 0.70\\n};\\nconst lDict = {\\n  'LeftLeft'   : 0.67, 'LeftMiddle'   : 0.70, 'LeftRight'   : 0.96,\\n  'MiddleLeft' : 0.74, 'MiddleMiddle' : 0.60, 'MiddleRight' : 0.72,\\n  'RightLeft'  : 0.87, 'RightMiddle'  : 0.65, 'RightRight'  : 0.61\\n};\\nconst scoreProbDicts = {\\n  'Right' : rDict,\\n  'Left'  : lDict\\n};\\n\\nconst directions = ['Left', 'Middle', 'Right'];\\n\\nconst arrSumFunc = ((a, b) => a + b);\\n\\nconst chances = chancesSrc.data['chances'];\\nconst distData = distTableSrc.data;\\nconst freq = distData['freq'];\\n\\nfunction gameIter(){\\n  const itersToRun = iterSlider.value;\\n\\n  const gameStrat = stratToUseDiv.text;\\n\\n  const stratIsFictPlay = (gameStrat === 'Fictitious_Play');\\n\\n  let perceivedRiskL;\\n  let perceivedRiskM;\\n  let perceivedRiskR;\\n\\n  let goalieAction = '';\\n\\n  let kickerFoot = '';\\n  let kickerKick = '';\\n\\n  let goal = 0;\\n  let gameScore = 0;\\n  let roundsPlayed = 0;\\n\\n  let roundScoreChance = 0;\\n\\n  [kickerFoot, kickerKick] = rollKickerAction();\\n\\n  const footIsLeft = (kickerFoot === 'Left');\\n  const footDict = scoreProbDicts[kickerFoot];\\n  const kfRAdjust = (footIsLeft) ? 0 : 3;\\n\\n  switch(gameStrat) {\\n    case 'Fictitious_Play':\\n      [goalieAction, perceivedRiskL, perceivedRiskM, perceivedRiskR] = (\\n        fictitiousPlay(footIsLeft, footDict)\\n      );\\n      break;\\n    case 'Mixed_Strategy':\\n      goalieAction = optimalMixed(kickerFoot);\\n      break;\\n    case 'Random':\\n      goalieAction = randomChoice();\\n      break;\\n    case 'Goalie_Cheats':\\n      goalieAction = goalieCheats(kickerFoot);\\n      break;\\n    default:\\n      //TODO throw an error\\n      break;\\n  }\\n\\n  const directionsIndexGa = directions.indexOf(goalieAction); //DirectionsIndexGoalieAction\\n  const actionsIndexKFKK = kfRAdjust + directions.indexOf(kickerKick); //Actions index KFKK\\n\\n  [goal, gameScore, roundsPlayed, roundScoreChance] = scoring(\\n    footDict,\\n    kickerKick,\\n    goalieAction,\\n    actionsIndexKFKK\\n  );\\n\\n  const roundIsLastIter = (roundsPlayed >= itersToRun);\\n\\n  animateIter(goalieAction, kickerKick, goal);\\n\\n  goalieDecisionTracking(\\n    actionsIndexKFKK,\\n    kfRAdjust,\\n    directionsIndexGa,\\n    stratIsFictPlay,\\n    perceivedRiskL,\\n    perceivedRiskM,\\n    perceivedRiskR\\n  );\\n\\n  updateFig1(goal, directionsIndexGa, actionsIndexKFKK, roundIsLastIter);\\n\\n  updateFig2(\\n    roundsPlayed,\\n    gameScore,\\n    roundScoreChance,\\n    roundIsLastIter,\\n    itersToRun\\n  );\\n\\n  if(stratIsFictPlay) { updateFig3(roundsPlayed, roundIsLastIter, itersToRun); }\\n\\n  updateFig4(\\n    roundsPlayed,\\n    roundScoreChance,\\n    kickerFoot,\\n    kickerKick,\\n    goalieAction\\n  );\\n\\n  if(roundIsLastIter) { handleFigVisibility(stratIsFictPlay); }\\n\\n  iterText(roundsPlayed, gameScore, goal);\\n}\\n\\n//Setup the promise that enforces waiting for the delay to finish:\\nconst iterationDelay = (\\n  //Creates the promise with parameter ms:\\n  (ms) => new Promise(\\n    //Waits for ms seconds before resolving:\\n    (resolve) => setTimeout(\\n      () => {\\n        resolve();\\n      },\\n      ms\\n    )\\n  )\\n);\\n\\nasync function gameLoop(){\\n  /**\\n  * An async function that runs each iteration of the game. Recurses after a\\n  * delay if the necessary conditions are fulfilled.\\n  */\\n  //Take value for if another iteration is running:\\n  let tempIterVal = inAnIter.text;\\n\\n  //If there is not another iteration running:\\n  if(tempIterVal === 'false'){\\n    //Set the value of inAnIter to reflect that an iteration is now running:\\n    inAnIter.text = 'true';\\n\\n    //Run the game iteration:\\n    gameIter();\\n\\n    //Tell itself that it has finished running the iteration:\\n    tempIterVal = 'false';\\n\\n    //True if not in the last iteration of the game:\\n    const notLastRound = (parseInt(nround.text) < iterSlider.value);\\n\\n    //True if the button is activated by the user:\\n    const autoAdvActive = (autoAdvButton.active);\\n\\n    //True if both conditions are true:\\n    const conditionsFulfilled = (notLastRound && autoAdvActive);\\n\\n    //If all recursion conditions are fulfilled:\\n    if(conditionsFulfilled){\\n      //Await the delay, then recurse:\\n      await iterationDelay(advSpdSlider.value).then(\\n        () => {\\n          //Designate that an iteration is no longer running:\\n          inAnIter.text = 'false';\\n\\n          //Recurse:\\n          gameLoop();\\n        }\\n      );\\n    } else {\\n      //Designate that an iteration is no longer running:\\n      inAnIter.text = 'false';\\n    }\\n  }\\n}\\n\\ngameLoop();\\n\\nfunction iterText(roundsPlayed, gameScore, goal) {\\n  /**\\n   * Changes the game text to display the rounds played, game score and the\\n   * kicker's scoring result.\\n   * @param{string} roundsPlayed -- A string containing an int that shows the\\n   * iterations run.\\n   * @param{string} gameScore -- A string containing an int that shows the\\n   * current iteration's score.\\n   * @param{int} goal -- An int equal to either 1 or -1. Value of 1 is for if a\\n   * goal was scored during the iteration.\\n   */\\n  //Set Game Text Lines:\\n  txt.data['text'] = [\\n    `Rounds played: ${roundsPlayed}`,\\n    `Total score: ${gameScore}`,\\n    '',\\n    (goal === 1) ? 'GOAL!' : 'Blocked'\\n  ];\\n  txt.change.emit(); //Finalize changes by emitting to source\\n}\\n\\nfunction rollKickerAction() {\\n  /**\\n  * Selects a kicker pure strategy by converting the pure strategy selection\\n  * chances array to a form where each value has the previous values added to\\n  * them, so that the strategy can then be chosen by comparing the values to a\\n  * random roll. The kicker foot and direction are then determined according to\\n  * the strategy index before being returned in an array.\\n  * @return{array} -- An array that contains strings representing the kicker\\n  * foot, and their chosen kick direction. The kicker foot string can have value\\n  * equal to 'Left' or 'Right', and the kick direction has to be equal to either\\n  * 'Left', 'Middle', or 'Right'.\\n  */\\n  //Copy chances into array, then modify array to act as roll thresholds:\\n  let arrVals = [0].concat(chances.slice());\\n  arrVals.slice(1).forEach(\\n    (v, i) => arrVals[i + 1] += arrVals[i]\\n  );\\n\\n  //Determine actions to take based off roll comparison to thresholds:\\n  let index = 5;\\n  const roll = Math.random();\\n  arrVals.slice(0, 6).forEach(\\n    (v) => {\\n      if(roll < v) { index -= 1; }\\n    }\\n  );\\n  return [\\n    (index < 3) ? 'Left' : 'Right',\\n    directions[(index % 3)]\\n  ];\\n}\\n\\n//Handle Goalie Decision\\nfunction fictitiousPlay(footIsLeft, footDict) {\\n  /**\\n  * Determines the keeper's action according to Fictitious Play.\\n  * @param{bool} footIsLeft -- a bool containing whether or not the kicker is\\n  * left-footed.\\n  * @param{dict} footDict -- The dict that contains the score chances for the\\n  * different possible kicker foot kicker action outcomes.\\n  * @return{array} -- An array containing the direction for the keeper to dive,\\n  * and the keeper's perceived risks for each possible action from left to\\n  * right.\\n  */\\n  //Set decision making values to use according to kickerFoot:\\n  const freqs = (footIsLeft) ? freq.slice(0, 3) : freq.slice(3, 6);\\n\\n  //Calculate goalie perceived risks:\\n  const tsr = freqs.reduce(arrSumFunc);\\n  const eFreqs = (tsr !== 0) ? freqs.map(x => x / tsr) : [1/3, 1/3, 1/3];\\n  const risks = [0, 0, 0];\\n  directions.forEach(\\n    (v1, i) => directions.forEach(\\n      (v2, j) => risks[i] += eFreqs[j] * footDict[v2 + v1]\\n    )\\n  );\\n\\n  //return goalie action and perceived risks:\\n  const actionIndex = risks.indexOf(Math.min(...risks));\\n  return [\\n    directions[actionIndex],\\n    ...risks\\n  ];\\n}\\n\\nfunction optimalMixed(kickerFoot) {\\n  /**\\n  * Determines the keeper's action according to the optimal mixed strategy for\\n  * the keeper.\\n  * param{string} kickerFoot -- Either 'Left' or 'Right' representing the\\n  * kicker's footedness.\\n  * return{string} -- Either 'Left', 'Middle', or 'Right' representing the\\n  * keeper's direction to dive.\\n  */\\n  //selects and returns an action based off of optimal mixed strategy chances:\\n  const thresholds = {\\n    'Left'  : 0.8,\\n    'Right' : 0.7419\\n  };\\n  const goKickerFoot = (Math.random() >= thresholds[kickerFoot]);\\n  return (goKickerFoot) ? kickerFoot : 'Middle';\\n}\\n\\nfunction randomChoice() {\\n  /**\\n  * Determines the keeper's action at random.\\n  * return{string} -- Either 'Left', 'Middle', or 'Right' representing the\\n  * keeper's direction to dive.\\n  */\\n  //Selects and returns an action from directions at an equal chance:\\n  const actionIndex = Math.round(Math.random()*3 - 0.5);\\n  return directions[actionIndex];\\n}\\n\\nfunction goalieCheats(kickerFoot) {\\n  /**\\n  * Determines the keeper's action according to a previously created strategy.\\n  * param{string} kickerFoot -- Either 'Left' or 'Right' representing the\\n  * kicker's footedness.\\n  * return{string} -- Either 'Left', 'Middle', or 'Right' representing the\\n  * keeper's direction to dive.\\n  */\\n  //return the action of the pure strategy corresponding to the kicker foot:\\n\\n  const actionIndex = counterSrc.data[kickerFoot].indexOf(1);\\n  return directions[actionIndex];\\n}\\n\\nfunction handleFigVisibility(stratIsFictPlay) {\\n  nextButton.visible = false;\\n  distTable.visible = false;\\n  autoAdvButton.visible = false;\\n  advSpdSlider.visible = false;\\n  gameFigButton.visible = true;\\n\\n  statsFig1Button.visible = true;\\n  statsFig1.visible = false;\\n\\n  statsFig2Button.visible = true;\\n  statsFig2.visible = false;\\n\\n  statsFig3Button.visible = stratIsFictPlay;\\n  statsFig3.visible = false;\\n\\n  statsFig4Button.visible = true;\\n  statsFig4.visible = false;\\n\\n}\\n\\nfunction scoring(footDict, kickerKick, goalieAction, actionsIndexKFKK) {\\n  /**\\n  * Handles the scoring for the game.\\n  * param{dict} footDict -- The dict containing the score chances according to\\n  * the different possible kicker kick direction and keeper dive direction\\n  * outcomes for the kicker's footedness.\\n  * param{string} kickerKick -- Either 'Left', 'Middle', or 'Right' for the\\n  * kicker's kick direction.\\n  * param{string} goalieAction -- Either 'Left', 'Middle', or 'Right' for the\\n  * keeper's dive direction.\\n  * param{int} actionsIndexKFKK -- an int designating an index selected\\n  * previously according to the kicker's footedness and kick directions.\\n  */\\n  //Set function values:\\n  const scoreRoll = Math.random();\\n  const scoreChance = footDict[kickerKick + goalieAction];\\n  const roundsPlayed = parseInt(nround.text) + 1;\\n  const roundScore = (scoreRoll <= scoreChance) ? +1 : -1;\\n\\n  //Update columns:\\n  const scoreChanceCol = distData['striker_score_chance'];\\n  const scoreRollCol = distData['striker_score_roll'];\\n  scoreChanceCol.fill(0);\\n  scoreRollCol.fill(0);\\n  scoreChanceCol[actionsIndexKFKK] = scoreChance;\\n  scoreRollCol[actionsIndexKFKK] = scoreRoll.toPrecision(6);\\n\\n  //Update text:\\n  nround.text = roundsPlayed.toString();\\n  const currentGameScore = parseInt(score.text) + roundScore;\\n  score.text = currentGameScore.toString();\\n\\n  return [roundScore, currentGameScore, roundsPlayed, scoreChance];\\n}\\n\\nfunction _moveGoalie(xLoc) {\\n  /**\\n  * Moves the goalie to the specified x coordinate.\\n  * param{int} xLoc -- The x coord to move to.\\n  */\\n  //Move both components of the goalie:\\n  goalieBody.x = xLoc;\\n  goalieHead.x = xLoc;\\n}\\n\\nfunction animateIter(goalieAction, kickerKick, goal) {\\n  /**\\n  * Handles the animation for the iteration.\\n  * @param{string} goalieAction -- Either 'Left', 'Middle', 'Right' signifying\\n  * the keeper's dive direction.\\n  * @param{string} kickerKick -- Either 'Left', 'Middle', 'Right' signifying the\\n  * kicker's kick direction.\\n  * @param{int} goal -- Either 1 or -1 for the iteration score change.\\n  */\\n  //Set positions and store ball roll for handling cases:\\n  const goalieActionIsKickerKick = (goalieAction === kickerKick);\\n  const goalNotScored = (goal === -1);\\n  const gPos = {\\n    'Left'   : [37, 43],\\n    'Middle' : [47, 53],\\n    'Right'  : [57, 63]\\n  };\\n  const outOfGoalPos = {\\n    'Left'   : [30, 30],\\n    'Middle' : [30, 70],\\n    'Right'  : [70, 70]\\n  };\\n  const shotUnluckyMiss = (goalNotScored && !goalieActionIsKickerKick);\\n  const bPos = (shotUnluckyMiss) ? outOfGoalPos : gPos;\\n  const bRoll = Math.round(Math.random());\\n\\n  ball.x = bPos[kickerKick][bRoll];\\n  ball.y = 63;\\n  if(goalieActionIsKickerKick){\\n    const goalieRolledX = gPos[goalieAction][[1, 0][bRoll]];\\n    const goalieX = (goalNotScored) ? ball.x : goalieRolledX;\\n    _moveGoalie(goalieX);\\n  } else {\\n    const goalieX = gPos[goalieAction][Math.round(Math.random())];\\n    _moveGoalie(goalieX);\\n  }\\n}\\n\\nfunction goalieDecisionTracking(\\n  actionsIndexKFKK,\\n  kfRAdjust,\\n  directionsIndexGa,\\n  stratIsFictPlay,\\n  perceivedRiskL,\\n  perceivedRiskM,\\n  perceivedRiskR\\n) {\\n  /**\\n  * Tracks game data and puts it into the dist table.\\n  * @param{int} actionsIndexKFKK -- An int for adjusting indexes around the\\n  * kicker foot and kicker kick directions.\\n  * @param{int} kfRAdjust -- An int for adjusting indexes if the kicker is\\n  * right-footed.\\n  * @param{int} directionsIndexGa -- An int for the index of the keeper\\n  * dive direction.\\n  * @param{bool} stratIsFictPlay -- A bool for whether or not the keeper is\\n  * using fictitious play.\\n  * @param{float} perceivedRiskL -- The keeper's perceived risks for diving left.\\n  * @param{float} perceivedRiskM -- The keeper's perceived risks for diving middle.\\n  * @param{float} perceivedRiskR -- The keeper's perceived risks for diving right.\\n  */\\n\\n  //Increase corresponding trackers to KFKK and KFGA:\\n  freq[actionsIndexKFKK] += 1;\\n  const decisionsIndex = kfRAdjust + directionsIndexGa;\\n  distData['decisions'][decisionsIndex] += 1;\\n\\n  //Update table perceived risks if fictitious play:\\n  if(stratIsFictPlay) {\\n    _updateDecisionTableRisks(\\n      perceivedRiskL,\\n      perceivedRiskM,\\n      perceivedRiskR,\\n      kfRAdjust\\n    );\\n  }\\n\\n  //Update table by finalizing changes to source:\\n  distTableSrc.change.emit();\\n}\\n\\nfunction _updateDecisionTableRisks(\\n  perceivedRiskL,\\n  perceivedRiskM,\\n  perceivedRiskR,\\n  kfRAdjust\\n) {\\n  /**\\n  * updates the dist table's risk values.\\n  * @param{float} perceivedRiskL -- The keeper's perceived risks for diving left.\\n  * @param{float} perceivedRiskM -- The keeper's perceived risks for diving middle.\\n  * @param{float} perceivedRiskR -- The keeper's perceived risks for diving right.\\n  * @param{int} kfRAdjust -- An int for adjusting indexes if the kicker is\\n  * right-footed.\\n  */\\n  //Reset column then set perceived risk for rows corresponding to kicker foot:\\n  const risks = distData['goalie_perceived_risks'];\\n\\n  risks.fill(0);\\n  const prs = [\\n    perceivedRiskL.toPrecision(6),\\n    perceivedRiskM.toPrecision(6),\\n    perceivedRiskR.toPrecision(6)\\n  ];\\n  prs.forEach(\\n    (v, i) => risks[kfRAdjust + i] = v\\n  );\\n}\\n\\nfunction _fig1Iter(\\n  goal,\\n  directionsIndexGa,\\n  sections,\\n  fig1Data,\\n  actionsIndexKFKK\\n) {\\n  /**\\n  * Handles the data for an iteration in Game Stats Figure 1.\\n  * @param{int} goal -- Either -1 or 1 for the iterations score change.\\n  * @param{int} directionsIndexGa -- An int for the index of the keeper\\n  * dive direction.\\n  * @param{array} sections -- An array containing the column names for the bar\\n  * sections in Figure 1.\\n  * @param{dict} fig1Data -- The data for game stats figure 1.\\n  * @param{int} actionsIndexKFKK -- An int for adjusting indexes around the\\n  * kicker foot and kicker kick directions.\\n  */\\n  //Increase section value of iteration result by 1:\\n  const sectionIndex = (goal === 1) ? 0 : directionsIndexGa + 1;\\n  const section = sections[sectionIndex];\\n  fig1Data[section][actionsIndexKFKK] += 1;\\n}\\n\\nfunction _fig1Adjust(sections, fig1Data) {\\n  /**\\n  * Adjusts Game Stats Figure 1.\\n  * @param{array} sections -- An array containing the column names for the bar\\n  * sections in Figure 1.\\n  * @param{dict} fig1Data -- The data for game stats figure 1.\\n  */\\n  //Get total heights of kfkk bars:\\n  const heights = [0, 0, 0, 0, 0, 0]\\n  sections.forEach(\\n    (v1) => fig1Data[v1].forEach(\\n      (v2, i) => heights[i] += v2\\n    )\\n  );\\n\\n  //Set y max to 1.1 * the height of the tallest kfkk bar (rounded):\\n  statsFig1.y_range.end = Math.round(Math.max(...heights) * 1.1);\\n}\\n\\nfunction updateFig1(\\n  goal,\\n  directionsIndexGa,\\n  actionsIndexKFKK,\\n  roundIsLastIter\\n) {\\n  /**\\n  * Updates the data for Game Stats Figure 1.\\n  * @param{int} goal -- Either -1 or 1 for the iterations score change.\\n  * @param{int} directionsIndexGa -- An int for the index of the keeper\\n  * dive direction.\\n  * @param{int} actionsIndexKFKK -- An int for adjusting indexes around the\\n  * kicker foot and kicker kick directions.\\n  * @param{bool} roundIsLastIter -- Whether or not the iteration is the last one.\\n  */\\n  //create constants for referencing:\\n  const fig1Data = statsFig1Src.data;\\n  const sections = ['scored_y', 'blockedl_y', 'blockedm_y', 'blockedr_y'];\\n\\n  //Update the figure for the iteration:\\n  _fig1Iter(goal, directionsIndexGa, sections, fig1Data, actionsIndexKFKK);\\n\\n  //Make final adjustments if it is the final iteration:\\n  if(roundIsLastIter) { _fig1Adjust(sections, fig1Data); }\\n\\n  //Update the figure by finalizing the changes to the data source:\\n  statsFig1Src.change.emit();\\n}\\n\\nfunction _fig2Iter(fig2Data, roundsPlayed, gameScore, roundScoreChance) {\\n  /**\\n  * Handles an iteration of data for Game Stats Figure 2.\\n  * @param{dict} fig2Data -- The data for Game Stats Figure 2.\\n  * @param{int} roundsPlayed -- The number of iterations played.\\n  * @param{int} gameScore -- The score for the game at the current iteration.\\n  * @param{float} roundScoreChance -- The chance of scoring for the played iteration.\\n  */\\n  //Plot Values:\\n  fig2Data['ys'][roundsPlayed] = gameScore;\\n  fig2Data['chance_ys'][roundsPlayed] = 2*roundScoreChance - 1;\\n}\\n\\nfunction _fig2Adjust(fig2Data, itersToRun) {\\n  /**\\n  * Adjusts the data for Game Stats Figure 2.\\n  * @param{dict} fig2Data -- The data for Game Stats Figure 2.\\n  * @param{int} itersToRun -- The number of iterations total for the game.\\n  */\\n  //Adjust chanceYs:\\n  const chanceYs = fig2Data['chance_ys'];\\n  chanceYs.slice(1).forEach(\\n    (v, i) => chanceYs[i + 1] += chanceYs[i]\\n  );\\n\\n  //Get max and min of figure points:\\n  const ys = fig2Data['ys'];\\n  let minVal = Math.min(... ys);\\n  let maxVal = Math.max(... ys, ...chanceYs);\\n\\n  //Adjust figure display:\\n  const buffer = Math.round((Math.abs(maxVal) + Math.abs(minVal)) * 0.1);\\n  maxVal += buffer;\\n  minVal -= buffer;\\n  statsFig2.y_range.end   = maxVal;\\n  statsFig2.y_range.start = minVal;\\n\\n  //Resize hit boxes:\\n  const hitboxHeight = 2 * Math.max(Math.abs(maxVal), Math.abs(minVal));\\n  fig2Data['heights'].fill(hitboxHeight);\\n}\\n\\nfunction updateFig2(\\n  roundsPlayed,\\n  gameScore,\\n  roundScoreChance,\\n  roundIsLastIter,\\n  itersToRun\\n) {\\n  /**\\n  * Updates the data for Game Stats Figure 2.\\n  * @param{int} roundsPlayed -- The number of iterations played.\\n  * @param{int} gameScore -- The score for the game at the current iteration.\\n  * @param{float} roundScoreChance -- The chance of scoring for the played iteration.\\n  * @param{bool} roundIsLastIter -- Whether or not the iteration is the last one.\\n  * @param{int} itersToRun -- The number of iterations total for the game.\\n  */\\n  //Store reference to fig 2 data:\\n  const fig2Data = statsFig2Src.data;\\n\\n  //Update the figure for the iteration:\\n  _fig2Iter(fig2Data, roundsPlayed, gameScore, roundScoreChance);\\n\\n  //Adjust the figure as needed if it is the last iteration:\\n  if(roundIsLastIter) { _fig2Adjust(fig2Data, itersToRun); }\\n\\n  //Update the source to finalize the changes to the figure:\\n  statsFig2Src.change.emit();\\n}\\n\\nfunction _fig3Iter(ys, roundsPlayed) {\\n  /** Handles the data for an iteration for Game Stats Figure 3.\\n  * @param{array} ys -- An array containing the ys columns of figure 3.\\n  * @param{int} roundsPlayed -- The number of iterations played.\\n  */\\n  //For each foot:\\n  ['Left', 'Right'].forEach(\\n    (footVal, footIndex) => {\\n\\n      //Calculate emprical frequencies of aim directions for that footedness:\\n      const footFreq = freq.slice((3 * footIndex), (3 * (footIndex + 1)));\\n      const footTsr = footFreq.reduce(arrSumFunc);\\n      const footChances = (\\n        (footTsr !== 0) ? footFreq.map(x => x/footTsr) : [1/3, 1/3, 1/3]\\n      );\\n\\n      //calculate and plot risk of goalie taking each position:\\n      directions.forEach(\\n        (v1, i1) => directions.forEach(\\n          (v2, i2) => {\\n            const sideRisk = footChances[i2] * scoreProbDicts[footVal][v2 + v1];\\n            const ysIndex = 3*footIndex + i1;\\n            ys[ysIndex][roundsPlayed] += sideRisk;\\n          }\\n        )\\n      );\\n\\n    }\\n  );\\n}\\n\\nfunction _fig3Adjust(fig3Data, itersToRun, ys) {\\n  /**\\n  * Adjusts Game Stats Figure 3's data.\\n  * @param{dict} fig3Data -- The data for Game Stats figure 3.\\n  * @param{int} itersToRun -- The total number of iterations in the game.\\n  * @param{array} ys -- An array containing the ys columns of figure 3.\\n  */\\n  //store fig3Data hb columns for iteration and reference:\\n  const hbs = [\\n    fig3Data['hb1'],\\n    fig3Data['hb2'],\\n    fig3Data['hb3'],\\n    fig3Data['hb4'],\\n    fig3Data['hb5'],\\n    fig3Data['hb6']\\n  ];\\n\\n  //Adjustment loop:\\n  let vals = [];\\n\\n  //For every iteration:\\n  for(let iter = 0; iter <= itersToRun; iter++){\\n    let hbHeights = new Array(6);\\n    let risks = new Array(6);\\n\\n    //For every risk value, send to risks list for later use and push to vals:\\n    ys.forEach(\\n      (yVal, yIndex) => {\\n        risks[yIndex] = yVal[iter];\\n        vals.push(yVal[iter]);\\n      }\\n    );\\n\\n    risks.sort((a, b) => a - b); //Sort risks in ascending order to setup\\n\\n    //For every entry in risks:\\n    risks.forEach(\\n      (rVal, rIndex, a) => {\\n        //Set upper edge of hitbox to be equal to halfway between hitbox point\\n        //and next point (Set top hitbox edge to 1):\\n        let val = (rIndex === 5) ? 1 : ((rVal + a[rIndex + 1]) / 2);\\n\\n        //subtract heights of all lower hitboxes to get hitbox height:\\n        hbHeights.slice(0, rIndex).forEach(\\n          (rVal) => val -= rVal\\n        );\\n\\n        //Save value for use in next hitbox's calculation and plot on graph:\\n        hbHeights[rIndex] = val;\\n        hbs[rIndex][iter] = val;\\n      }\\n    );\\n  }\\n\\n  //Adjust graph based off of stored values:\\n  const minVal = Math.round(Math.min(...vals) * 100) / 100;\\n  const maxVal = Math.round(Math.max(...vals) * 100) / 100;\\n  const buffer = Math.round((maxVal - minVal) * 100) / 1000;\\n  statsFig3.y_range.end   = Math.min(maxVal + buffer, 1);\\n  statsFig3.y_range.start = Math.max(minVal - buffer, 0);\\n}\\n\\nfunction updateFig3(roundsPlayed, roundIsLastIter, itersToRun) {\\n  /**\\n  * Updates the data for Game Stats Figure 3.\\n  * @param{int} roundsPlayed -- The number of iterations played.\\n  * @param{bool} roundIsLastIter -- Whether or not the iteration is the last one.\\n  * @param{int} itersToRun -- The number of iterations total for the game.\\n  */\\n  //Store values for reference:\\n  let fig3Data = statsFig3Src.data;\\n  const ys = [\\n    fig3Data['ll_ys'], fig3Data['lm_ys'], fig3Data['lr_ys'],\\n    fig3Data['rl_ys'], fig3Data['rm_ys'], fig3Data['rr_ys']\\n  ];\\n\\n  //Update plot points:\\n  _fig3Iter(ys, roundsPlayed);\\n\\n  //Make final adjustments to graph on last iteration:\\n  if(roundIsLastIter) { _fig3Adjust(fig3Data, itersToRun, ys); }\\n\\n  //Finalize changes:\\n  statsFig3Src.change.emit();\\n}\\n\\nfunction updateFig4(\\n  roundsPlayed,\\n  roundScoreChance,\\n  kickerFoot,\\n  kickerKick,\\n  goalieAction\\n) {\\n  /**\\n  * Updates the data for Game Stats Figure 4.\\n  * @param{int} roundsPlayed -- The number of iterations played.\\n  * @param{float} roundScoreChance -- The chance of scoring for the most\\n  * recent iteration.\\n  * @param{string} kickerFoot -- Either 'Left' or 'Right' signifying the kicker's\\n  * footedness.\\n  * @param{string} kickerKick -- Either 'Left', 'Middle', 'Right' signifying the\\n  * kicker's kick direction.\\n  * @param{string} goalieAction -- Either 'Left', 'Middle', 'Right' signifying\\n  * the keeper's dive direction.\\n  */\\n  const fig4Data = statsFig4Src.data;\\n  const index = roundsPlayed - 1;\\n  fig4Data['ys'][index] = roundScoreChance;\\n  fig4Data['feet'][index] = kickerFoot;\\n  fig4Data['directions'][index] = kickerKick;\\n  fig4Data['actions'][index] = goalieAction;\\n\\n  statsFig4Src.change.emit();\\n}\\n\"},\"id\":\"2249\",\"type\":\"CustomJS\"},{\"attributes\":{\"children\":[{\"id\":\"2203\"},{\"id\":\"2213\"},{\"id\":\"2221\"},{\"id\":\"2195\"},{\"id\":\"2204\"},{\"id\":\"2205\"},{\"id\":\"2206\"},{\"id\":\"2212\"},{\"id\":\"2214\"},{\"id\":\"2196\"},{\"id\":\"2197\"},{\"id\":\"2198\"},{\"id\":\"2215\"},{\"id\":\"2216\"},{\"id\":\"2217\"},{\"id\":\"2218\"},{\"id\":\"2219\"},{\"id\":\"2220\"},{\"id\":\"2207\"},{\"id\":\"2208\"},{\"id\":\"2209\"},{\"id\":\"2210\"},{\"id\":\"2211\"}],\"max_width\":350,\"min_width\":350,\"sizing_mode\":\"stretch_width\"},\"id\":\"2253\",\"type\":\"Column\"},{\"attributes\":{\"args\":{\"src\":{\"id\":\"1942\"}},\"v_func\":\"\\nconst newXs = [];\\nconst data = src.data;\\nxs.forEach(\\n  (v, i) => newXs.push(v/2 + data['hb3'][i] + data['hb2'][i] + data['hb1'][i])\\n);\\n\\nreturn newXs;\\n\"},\"id\":\"1950\",\"type\":\"CustomJSTransform\"},{\"attributes\":{\"source\":{\"id\":\"2070\"}},\"id\":\"2106\",\"type\":\"CDSView\"},{\"attributes\":{\"button_type\":\"success\",\"disabled\":true,\"icon\":null,\"js_event_callbacks\":{\"button_click\":[{\"id\":\"2243\"}]},\"label\":\"Game Figure\",\"sizing_mode\":\"scale_width\",\"visible\":false,\"width_policy\":\"fit\"},\"id\":\"2207\",\"type\":\"Button\"},{\"attributes\":{\"args\":{\"aimTextInputs\":[{\"id\":\"2215\"},{\"id\":\"2216\"},{\"id\":\"2217\"},{\"id\":\"2218\"},{\"id\":\"2219\"},{\"id\":\"2220\"}],\"counterMadeDiv\":{\"id\":\"2200\"},\"cpuSelectedDiv\":{\"id\":\"2199\"},\"selectCpuTip\":{\"id\":\"2195\"},\"stratDropdown\":{\"id\":\"2221\"},\"stratToUseDiv\":{\"id\":\"2194\"}},\"code\":\"\\n//Set the label of the dropdown (the text displayed) to the selected item:\\nstratDropdown.label = this.item;\\n\\n//Set the text of the strategy_to_use div to the selected item:\\nstratToUseDiv.text = this.item;\\n\\n//Sets the aim sliders to be visible:\\naimTextInputs.forEach(\\n  (v) => v.visible = true\\n)\\n\\n//Sets cpuSelectedDiv to indicate that a cpu strat has been selected:\\ncpuSelectedDiv.text = '1';\\n\\n//update the tracking div for needing a goalie cheats counter:\\ncounterMadeDiv.text = ((this.item === 'Goalie_Cheats') ? '0' : '1');\\n\\n//Hides the select a cpu strategy tip:\\nselectCpuTip.visible = false;\\n\"},\"id\":\"2251\",\"type\":\"CustomJS\"},{\"attributes\":{\"args\":{\"alphasZeroes\":[0,0,0,0,0,0,0,0,0,0,0,0,0,0,0,0,0,0,0,0,0,0,0,0,0,0,0,0,0,0,0,0,0,0,0,0,0,0,0,0,0,0,0,0,0,0,0,0,0,0,0],\"highlightIndex\":{\"id\":\"1940\"}},\"v_func\":\"\\nconst index = parseInt(highlightIndex.text);\\nif(xs[index] === 5) {\\n  const newAlphas = new Array(xs.length).fill(0);\\n  newAlphas[index] = 1;\\n  return newAlphas;\\n} else { return alphasZeroes; }\\n\"},\"id\":\"1951\",\"type\":\"CustomJSTransform\"},{\"attributes\":{\"children\":[{\"id\":\"1717\"},{\"id\":\"1777\"},{\"id\":\"1876\"},{\"id\":\"1920\"},{\"id\":\"2050\"},{\"id\":\"2230\"}],\"max_width\":600,\"min_width\":600,\"sizing_mode\":\"stretch_width\"},\"id\":\"2252\",\"type\":\"Column\"},{\"attributes\":{\"args\":{\"src\":{\"id\":\"2070\"}},\"code\":\"\\nconst index = special_vars.index;\\nconst data = src.data;\\ndata['highlight_alphas'].fill(0);\\ndata['highlight_alphas'][index] = 1;\\nsrc.change.emit();\\nreturn data['ys'][index].toString();\\n\"},\"id\":\"2182\",\"type\":\"CustomJSHover\"},{\"attributes\":{\"args\":{\"src\":{\"id\":\"1942\"}},\"v_func\":\"\\nconst newXs = [];\\nconst data = src.data;\\nxs.forEach(\\n  (v, i) => newXs.push(v/2 + data['hb4'][i] + data['hb3'][i] + data['hb2'][i] + data['hb1'][i])\\n);\\n\\nreturn newXs;\\n\"},\"id\":\"1952\",\"type\":\"CustomJSTransform\"},{\"attributes\":{\"data_source\":{\"id\":\"2070\"},\"glyph\":{\"id\":\"2088\"},\"hover_glyph\":null,\"muted_glyph\":null,\"nonselection_glyph\":{\"id\":\"2089\"},\"selection_glyph\":null,\"view\":{\"id\":\"2091\"}},\"id\":\"2090\",\"type\":\"GlyphRenderer\"},{\"attributes\":{\"line_alpha\":0.1,\"line_color\":\"#000000\",\"x\":{\"field\":\"xs\"},\"y\":{\"field\":\"ys\",\"transform\":{\"id\":\"2086\"}}},\"id\":\"2089\",\"type\":\"Line\"},{\"attributes\":{\"args\":{\"alphasZeroes\":[0,0,0,0,0,0,0,0,0,0,0,0,0,0,0,0,0,0,0,0,0,0,0,0,0,0,0,0,0,0,0,0,0,0,0,0,0,0,0,0,0,0,0,0,0,0,0,0,0,0,0],\"highlightIndex\":{\"id\":\"1940\"}},\"v_func\":\"\\nconst index = parseInt(highlightIndex.text);\\nif(xs[index] === 6) {\\n  const newAlphas = new Array(xs.length).fill(0);\\n  newAlphas[index] = 1;\\n  return newAlphas;\\n} else { return alphasZeroes; }\\n\"},\"id\":\"1953\",\"type\":\"CustomJSTransform\"},{\"attributes\":{\"line_alpha\":0.1,\"line_color\":\"#000000\",\"x\":{\"field\":\"xs\"},\"y\":{\"value\":0.55}},\"id\":\"2093\",\"type\":\"Line\"},{\"attributes\":{\"data_source\":{\"id\":\"2070\"},\"glyph\":{\"id\":\"2098\"},\"hover_glyph\":null,\"muted_glyph\":null,\"nonselection_glyph\":{\"id\":\"2099\"},\"selection_glyph\":null,\"view\":{\"id\":\"2101\"}},\"id\":\"2100\",\"type\":\"GlyphRenderer\"},{\"attributes\":{\"args\":{\"src\":{\"id\":\"1942\"}},\"v_func\":\"\\nconst newXs = [];\\nconst data = src.data;\\nxs.forEach(\\n  (v, i) => newXs.push(v/2 + data['hb5'][i] + data['hb4'][i] + data['hb3'][i] + data['hb2'][i] + data['hb1'][i])\\n);\\n\\nreturn newXs;\\n\"},\"id\":\"1954\",\"type\":\"CustomJSTransform\"},{\"attributes\":{\"background_fill_color\":\"white\",\"below\":[{\"id\":\"2061\"}],\"center\":[{\"id\":\"2064\"},{\"id\":\"2068\"}],\"left\":[{\"id\":\"2065\"}],\"outline_line_color\":\"black\",\"plot_height\":360,\"renderers\":[{\"id\":\"2074\"},{\"id\":\"2079\"},{\"id\":\"2084\"},{\"id\":\"2090\"},{\"id\":\"2095\"},{\"id\":\"2100\"},{\"id\":\"2105\"},{\"id\":\"2110\"},{\"id\":\"2115\"},{\"id\":\"2120\"},{\"id\":\"2125\"},{\"id\":\"2130\"},{\"id\":\"2135\"},{\"id\":\"2140\"},{\"id\":\"2145\"},{\"id\":\"2150\"},{\"id\":\"2155\"},{\"id\":\"2160\"},{\"id\":\"2165\"},{\"id\":\"2170\"},{\"id\":\"2175\"},{\"id\":\"2180\"}],\"sizing_mode\":\"stretch_both\",\"title\":{\"id\":\"2051\"},\"toolbar\":{\"id\":\"2069\"},\"toolbar_location\":null,\"toolbar_sticky\":false,\"visible\":false,\"x_range\":{\"id\":\"2053\"},\"x_scale\":{\"id\":\"2057\"},\"y_range\":{\"id\":\"2055\"},\"y_scale\":{\"id\":\"2059\"}},\"id\":\"2050\",\"subtype\":\"Figure\",\"type\":\"Plot\"},{\"attributes\":{\"toolbars\":[{\"id\":\"1939\"},{\"id\":\"2069\"},{\"id\":\"1736\"},{\"id\":\"1895\"},{\"id\":\"1796\"},{\"id\":\"1939\"},{\"id\":\"2069\"},{\"id\":\"1736\"},{\"id\":\"1895\"},{\"id\":\"1796\"}],\"tools\":[{\"id\":\"2048\"},{\"id\":\"2184\"},{\"id\":\"1918\"},{\"id\":\"1874\"},{\"id\":\"2048\"},{\"id\":\"2184\"},{\"id\":\"1918\"},{\"id\":\"1874\"}]},\"id\":\"2429\",\"type\":\"ProxyToolbar\"},{\"attributes\":{\"source\":{\"id\":\"1942\"}},\"id\":\"2019\",\"type\":\"CDSView\"},{\"attributes\":{\"source\":{\"id\":\"2070\"}},\"id\":\"2096\",\"type\":\"CDSView\"},{\"attributes\":{\"toolbar\":{\"id\":\"2429\"},\"toolbar_location\":\"above\"},\"id\":\"2430\",\"type\":\"ToolbarBox\"},{\"attributes\":{\"source\":{\"id\":\"1942\"}},\"id\":\"1959\",\"type\":\"CDSView\"},{\"attributes\":{},\"id\":\"2259\",\"type\":\"BasicTickFormatter\"},{\"attributes\":{\"fill_color\":{\"value\":\"#C8AFAF\"},\"line_color\":{\"value\":\"#AF9696\"},\"size\":{\"units\":\"screen\",\"value\":5},\"x\":{\"field\":\"xs\"},\"y\":{\"field\":\"ll_ys\"}},\"id\":\"1956\",\"type\":\"CircleCross\"},{\"attributes\":{\"line_alpha\":0.1,\"line_color\":\"#000000\",\"x\":{\"field\":\"xs\"},\"y\":{\"value\":0.72}},\"id\":\"2118\",\"type\":\"Line\"},{\"attributes\":{\"fill_alpha\":{\"value\":0},\"fill_color\":{\"value\":\"#1f77b4\"},\"height\":{\"field\":\"hb1\",\"units\":\"data\"},\"line_alpha\":{\"value\":0},\"line_color\":{\"value\":\"#1f77b4\"},\"width\":{\"units\":\"data\",\"value\":1},\"x\":{\"field\":\"xs\"},\"y\":{\"field\":\"hb1\",\"transform\":{\"id\":\"1944\"}}},\"id\":\"1961\",\"type\":\"Rect\"},{\"attributes\":{\"line_alpha\":0.1,\"line_color\":\"#000000\",\"x\":{\"field\":\"xs\"},\"y\":{\"value\":0.55}},\"id\":\"2094\",\"type\":\"Line\"},{\"attributes\":{\"data_source\":{\"id\":\"1942\"},\"glyph\":{\"id\":\"1956\"},\"hover_glyph\":null,\"muted_glyph\":null,\"nonselection_glyph\":{\"id\":\"1957\"},\"selection_glyph\":null,\"view\":{\"id\":\"1959\"}},\"id\":\"1958\",\"type\":\"GlyphRenderer\"},{\"attributes\":{\"data_source\":{\"id\":\"2070\"},\"glyph\":{\"id\":\"2093\"},\"hover_glyph\":null,\"muted_glyph\":null,\"nonselection_glyph\":{\"id\":\"2094\"},\"selection_glyph\":null,\"view\":{\"id\":\"2096\"}},\"id\":\"2095\",\"type\":\"GlyphRenderer\"},{\"attributes\":{},\"id\":\"2261\",\"type\":\"BasicTickFormatter\"},{\"attributes\":{\"fill_alpha\":{\"value\":0.1},\"fill_color\":{\"value\":\"#C8AFAF\"},\"line_alpha\":{\"value\":0.1},\"line_color\":{\"value\":\"#AF9696\"},\"size\":{\"units\":\"screen\",\"value\":5},\"x\":{\"field\":\"xs\"},\"y\":{\"field\":\"ll_ys\"}},\"id\":\"1957\",\"type\":\"CircleCross\"},{\"attributes\":{\"line_alpha\":0.1,\"line_color\":\"#000000\",\"x\":{\"field\":\"xs\"},\"y\":{\"value\":0.93}},\"id\":\"2103\",\"type\":\"Line\"},{\"attributes\":{},\"id\":\"2263\",\"type\":\"BasicTickFormatter\"},{\"attributes\":{\"line_alpha\":0.1,\"line_color\":\"#000000\",\"x\":{\"field\":\"xs\"},\"y\":{\"value\":0.65}},\"id\":\"2098\",\"type\":\"Line\"},{\"attributes\":{},\"id\":\"2265\",\"type\":\"BasicTickFormatter\"},{\"attributes\":{\"line_alpha\":0.1,\"line_color\":\"#000000\",\"x\":{\"field\":\"xs\"},\"y\":{\"value\":0.65}},\"id\":\"2099\",\"type\":\"Line\"},{\"attributes\":{\"callback\":null,\"formatters\":{\"@avgs_placeholder\":{\"id\":\"2183\"},\"@ys\":{\"id\":\"2182\"}},\"point_policy\":\"follow_mouse\",\"renderers\":[{\"id\":\"2084\"}],\"tooltips\":\"\\n<div>\\n  <font size=\\\"1pt\\\"><p>Iteration: @xs<br>\\nStriker Foot: @feet<br>\\nAim Direction: @directions<br>\\nGoalie Action: @actions<br>\\nScore Chance: @ys{custom}<br>\\nAvg Score Chance: @avgs_placeholder{custom}</p></font>\\n</div>\\n\"},\"id\":\"2184\",\"type\":\"HoverTool\"},{\"attributes\":{\"fill_alpha\":{\"field\":\"highlight_alphas\",\"transform\":{\"id\":\"1943\"}},\"fill_color\":{\"value\":\"#000000\"},\"line_alpha\":{\"field\":\"highlight_alphas\",\"transform\":{\"id\":\"1943\"}},\"line_color\":{\"value\":\"#000000\"},\"size\":{\"units\":\"screen\",\"value\":10},\"x\":{\"field\":\"xs\"},\"y\":{\"field\":\"ll_ys\"}},\"id\":\"2016\",\"type\":\"CircleCross\"},{\"attributes\":{\"fill_color\":{\"value\":\"#C8C8AF\"},\"line_color\":{\"value\":\"#AFAF96\"},\"size\":{\"units\":\"screen\",\"value\":5},\"x\":{\"field\":\"xs\"},\"y\":{\"field\":\"lm_ys\"}},\"id\":\"1966\",\"type\":\"CircleCross\"},{\"attributes\":{\"data\":{\"text\":[\"Rounds played: 0\",\"Total score: 0\",\"\",\"\",\"\"],\"x\":[2,70,2,14,14],\"y\":[86,86,5,40,32]},\"selected\":{\"id\":\"2314\"},\"selection_policy\":{\"id\":\"2313\"}},\"id\":\"2186\",\"type\":\"ColumnDataSource\"},{\"attributes\":{\"fill_alpha\":{\"value\":0.1},\"fill_color\":{\"value\":\"#000000\"},\"line_alpha\":{\"value\":0.1},\"line_color\":{\"value\":\"#000000\"},\"size\":{\"units\":\"screen\",\"value\":10},\"x\":{\"field\":\"xs\"},\"y\":{\"field\":\"ll_ys\"}},\"id\":\"2017\",\"type\":\"CircleCross\"},{\"attributes\":{\"source\":{\"id\":\"1942\"}},\"id\":\"1964\",\"type\":\"CDSView\"},{\"attributes\":{\"fill_alpha\":{\"value\":0.1},\"fill_color\":{\"value\":\"#1f77b4\"},\"height\":{\"field\":\"hb1\",\"units\":\"data\"},\"line_alpha\":{\"value\":0.1},\"line_color\":{\"value\":\"#1f77b4\"},\"width\":{\"units\":\"data\",\"value\":1},\"x\":{\"field\":\"xs\"},\"y\":{\"field\":\"hb1\",\"transform\":{\"id\":\"1944\"}}},\"id\":\"1962\",\"type\":\"Rect\"},{\"attributes\":{\"text_baseline\":\"ideographic\",\"text_color\":{\"value\":\"whitesmoke\"},\"text_font_size\":{\"value\":\"15pt\"},\"x\":{\"field\":\"x\"},\"y\":{\"field\":\"y\"},\"y_offset\":{\"value\":9}},\"id\":\"2187\",\"type\":\"Text\"},{\"attributes\":{\"data_source\":{\"id\":\"1942\"},\"glyph\":{\"id\":\"1961\"},\"hover_glyph\":null,\"muted_glyph\":null,\"name\":\"5\",\"nonselection_glyph\":{\"id\":\"1962\"},\"selection_glyph\":null,\"view\":{\"id\":\"1964\"}},\"id\":\"1963\",\"type\":\"GlyphRenderer\"},{\"attributes\":{\"button_type\":\"success\",\"icon\":null,\"js_event_callbacks\":{\"button_click\":[{\"id\":\"2245\"}]},\"label\":\"Figure 2\",\"sizing_mode\":\"scale_width\",\"visible\":false,\"width_policy\":\"fit\"},\"id\":\"2209\",\"type\":\"Button\"},{\"attributes\":{\"text\":\"0\",\"visible\":false},\"id\":\"2193\",\"type\":\"Div\"},{\"attributes\":{\"button_type\":\"success\",\"icon\":null,\"js_event_callbacks\":{\"button_click\":[{\"id\":\"2246\"}]},\"label\":\"Figure 3\",\"sizing_mode\":\"scale_width\",\"visible\":false,\"width_policy\":\"fit\"},\"id\":\"2210\",\"type\":\"Button\"},{\"attributes\":{\"text\":\"Random\",\"visible\":false},\"id\":\"2194\",\"type\":\"Div\"},{\"attributes\":{\"background_fill_color\":\"green\",\"below\":[{\"id\":\"1728\"}],\"center\":[{\"id\":\"1731\"},{\"id\":\"1735\"}],\"left\":[{\"id\":\"1732\"}],\"outline_line_color\":\"black\",\"plot_height\":400,\"renderers\":[{\"id\":\"1740\"},{\"id\":\"1745\"},{\"id\":\"1750\"},{\"id\":\"1755\"},{\"id\":\"1763\"},{\"id\":\"1766\"},{\"id\":\"1769\"},{\"id\":\"1772\"},{\"id\":\"1775\"},{\"id\":\"2188\"}],\"sizing_mode\":\"stretch_width\",\"title\":{\"id\":\"1718\"},\"toolbar\":{\"id\":\"1736\"},\"toolbar_location\":null,\"toolbar_sticky\":false,\"x_range\":{\"id\":\"1720\"},\"x_scale\":{\"id\":\"1724\"},\"y_range\":{\"id\":\"1722\"},\"y_scale\":{\"id\":\"1726\"}},\"id\":\"1717\",\"subtype\":\"Figure\",\"type\":\"Plot\"},{\"attributes\":{\"text\":\"FIFA 2020 Penalty Simulator\",\"text_font_size\":{\"value\":\"15pt\"}},\"id\":\"1718\",\"type\":\"Title\"},{\"attributes\":{\"source\":{\"id\":\"1942\"}},\"id\":\"1969\",\"type\":\"CDSView\"},{\"attributes\":{\"button_type\":\"success\",\"icon\":null,\"js_event_callbacks\":{\"button_click\":[{\"id\":\"2247\"}]},\"label\":\"Figure 4\",\"sizing_mode\":\"scale_width\",\"visible\":false,\"width_policy\":\"fit\"},\"id\":\"2211\",\"type\":\"Button\"},{\"attributes\":{\"fill_alpha\":{\"value\":0},\"fill_color\":{\"value\":\"#1f77b4\"},\"height\":{\"field\":\"hb2\",\"units\":\"data\"},\"line_alpha\":{\"value\":0},\"line_color\":{\"value\":\"#1f77b4\"},\"width\":{\"units\":\"data\",\"value\":1},\"x\":{\"field\":\"xs\"},\"y\":{\"field\":\"hb2\",\"transform\":{\"id\":\"1946\"}}},\"id\":\"1971\",\"type\":\"Rect\"},{\"attributes\":{\"line_color\":\"whitesmoke\",\"line_width\":4,\"x\":{\"field\":\"x\"},\"y\":{\"field\":\"y\"}},\"id\":\"1748\",\"type\":\"Line\"},{\"attributes\":{\"data_source\":{\"id\":\"1942\"},\"glyph\":{\"id\":\"1966\"},\"hover_glyph\":null,\"muted_glyph\":null,\"nonselection_glyph\":{\"id\":\"1967\"},\"selection_glyph\":null,\"view\":{\"id\":\"1969\"}},\"id\":\"1968\",\"type\":\"GlyphRenderer\"},{\"attributes\":{\"button_type\":\"success\",\"icon\":null,\"label\":\"Fast Forward\",\"sizing_mode\":\"scale_width\",\"visible\":false,\"width_policy\":\"fit\"},\"id\":\"2212\",\"type\":\"Toggle\"},{\"attributes\":{\"fill_alpha\":{\"value\":0.1},\"fill_color\":{\"value\":\"#C8C8AF\"},\"line_alpha\":{\"value\":0.1},\"line_color\":{\"value\":\"#AFAF96\"},\"size\":{\"units\":\"screen\",\"value\":5},\"x\":{\"field\":\"xs\"},\"y\":{\"field\":\"lm_ys\"}},\"id\":\"1967\",\"type\":\"CircleCross\"},{\"attributes\":{\"end\":500,\"format\":\"0[.]00\",\"sizing_mode\":\"stretch_width\",\"start\":10,\"step\":10,\"title\":\"Iterations To Run\",\"value\":50,\"visible\":false},\"id\":\"2213\",\"type\":\"Slider\"},{\"attributes\":{\"end\":100},\"id\":\"1720\",\"type\":\"Range1d\"},{\"attributes\":{\"button_type\":\"warning\",\"icon\":null,\"js_event_callbacks\":{\"menu_item_click\":[{\"id\":\"2251\"}]},\"label\":\"CPU strategy to Use\",\"menu\":[[\"Fictitious_Play\",\"Fictitious_Play\"],[\"Mixed_Strategy\",\"Mixed_Strategy\"],[\"Random\",\"Random\"],[\"Goalie_Cheats\",\"Goalie_Cheats\"]],\"sizing_mode\":\"stretch_width\",\"visible\":false},\"id\":\"2221\",\"type\":\"Dropdown\"},{\"attributes\":{\"fill_color\":{\"value\":\"#AFC8AF\"},\"line_color\":{\"value\":\"#96AF96\"},\"size\":{\"units\":\"screen\",\"value\":5},\"x\":{\"field\":\"xs\"},\"y\":{\"field\":\"lr_ys\"}},\"id\":\"1976\",\"type\":\"CircleCross\"},{\"attributes\":{\"end\":1000,\"format\":\"0[.]00\",\"sizing_mode\":\"stretch_width\",\"start\":50,\"step\":10,\"title\":\"Auto Advance Delay (ms)\",\"value\":300,\"visible\":false},\"id\":\"2214\",\"type\":\"Slider\"},{\"attributes\":{\"source\":{\"id\":\"1942\"}},\"id\":\"2014\",\"type\":\"CDSView\"},{\"attributes\":{\"js_property_callbacks\":{\"change:value\":[{\"id\":\"2250\"}]},\"sizing_mode\":\"stretch_width\",\"title\":\"Left-Footed Kicker Kicking to the Middle Selection Chance\",\"value\":\"0\",\"visible\":false},\"id\":\"2216\",\"type\":\"TextInput\"},{\"attributes\":{\"source\":{\"id\":\"1942\"}},\"id\":\"1974\",\"type\":\"CDSView\"},{\"attributes\":{\"js_property_callbacks\":{\"change:value\":[{\"id\":\"2250\"}]},\"sizing_mode\":\"stretch_width\",\"title\":\"Left-Footed Kicker Kicking to the Left Selection Chance\",\"value\":\"0\",\"visible\":false},\"id\":\"2215\",\"type\":\"TextInput\"},{\"attributes\":{\"end\":90},\"id\":\"1722\",\"type\":\"Range1d\"},{\"attributes\":{\"fill_alpha\":{\"value\":0.1},\"fill_color\":{\"value\":\"#1f77b4\"},\"height\":{\"field\":\"hb2\",\"units\":\"data\"},\"line_alpha\":{\"value\":0.1},\"line_color\":{\"value\":\"#1f77b4\"},\"width\":{\"units\":\"data\",\"value\":1},\"x\":{\"field\":\"xs\"},\"y\":{\"field\":\"hb2\",\"transform\":{\"id\":\"1946\"}}},\"id\":\"1972\",\"type\":\"Rect\"},{\"attributes\":{\"data_source\":{\"id\":\"1942\"},\"glyph\":{\"id\":\"1971\"},\"hover_glyph\":null,\"muted_glyph\":null,\"name\":\"4\",\"nonselection_glyph\":{\"id\":\"1972\"},\"selection_glyph\":null,\"view\":{\"id\":\"1974\"}},\"id\":\"1973\",\"type\":\"GlyphRenderer\"},{\"attributes\":{},\"id\":\"1724\",\"type\":\"LinearScale\"},{\"attributes\":{},\"id\":\"1726\",\"type\":\"LinearScale\"},{\"attributes\":{\"js_property_callbacks\":{\"change:value\":[{\"id\":\"2250\"}]},\"sizing_mode\":\"stretch_width\",\"title\":\"Left-Footed Kicker Kicking to the Right Selection Chance\",\"value\":\"0\",\"visible\":false},\"id\":\"2217\",\"type\":\"TextInput\"},{\"attributes\":{\"data_source\":{\"id\":\"1942\"},\"glyph\":{\"id\":\"2011\"},\"hover_glyph\":null,\"muted_glyph\":null,\"name\":\"0\",\"nonselection_glyph\":{\"id\":\"2012\"},\"selection_glyph\":null,\"view\":{\"id\":\"2014\"}},\"id\":\"2013\",\"type\":\"GlyphRenderer\"},{\"attributes\":{\"js_property_callbacks\":{\"change:value\":[{\"id\":\"2250\"}]},\"sizing_mode\":\"stretch_width\",\"title\":\"Right-Footed Kicker Kicking to the Left Selection Chance\",\"value\":\"0\",\"visible\":false},\"id\":\"2218\",\"type\":\"TextInput\"},{\"attributes\":{\"formatter\":{\"id\":\"2259\"},\"ticker\":{\"id\":\"1729\"},\"visible\":false},\"id\":\"1728\",\"type\":\"LinearAxis\"},{\"attributes\":{\"fill_alpha\":{\"value\":0.1},\"fill_color\":{\"value\":\"#1f77b4\"},\"height\":{\"field\":\"hb6\",\"units\":\"data\"},\"line_alpha\":{\"value\":0.1},\"line_color\":{\"value\":\"#1f77b4\"},\"width\":{\"units\":\"data\",\"value\":1},\"x\":{\"field\":\"xs\"},\"y\":{\"field\":\"hb6\",\"transform\":{\"id\":\"1954\"}}},\"id\":\"2012\",\"type\":\"Rect\"},{\"attributes\":{\"data\":{\"aim_direction\":[\"Left\",\"Middle\",\"Right\",\"Left\",\"Middle\",\"Right\"],\"decisions\":[0,0,0,0,0,0],\"footedness\":[\"Left\",\"Left\",\"Left\",\"Right\",\"Right\",\"Right\"],\"freq\":[0,0,0,0,0,0],\"goalie_perceived_risks\":[0,0,0,0,0,0],\"striker_score_chance\":[0,0,0,0,0,0],\"striker_score_roll\":[0,0,0,0,0,0]},\"selected\":{\"id\":\"2294\"},\"selection_policy\":{\"id\":\"2293\"}},\"id\":\"2222\",\"type\":\"ColumnDataSource\"},{\"attributes\":{\"fill_alpha\":{\"value\":0},\"fill_color\":{\"value\":\"#1f77b4\"},\"height\":{\"field\":\"hb5\",\"units\":\"data\"},\"line_alpha\":{\"value\":0},\"line_color\":{\"value\":\"#1f77b4\"},\"width\":{\"units\":\"data\",\"value\":1},\"x\":{\"field\":\"xs\"},\"y\":{\"field\":\"hb5\",\"transform\":{\"id\":\"1952\"}}},\"id\":\"2001\",\"type\":\"Rect\"},{\"attributes\":{},\"id\":\"1733\",\"type\":\"BasicTicker\"},{\"attributes\":{\"js_property_callbacks\":{\"change:value\":[{\"id\":\"2250\"}]},\"sizing_mode\":\"stretch_width\",\"title\":\"Right-Footed Kicker Kicking to the Middle Selection Chance\",\"value\":\"0\",\"visible\":false},\"id\":\"2219\",\"type\":\"TextInput\"},{\"attributes\":{},\"id\":\"1729\",\"type\":\"BasicTicker\"},{\"attributes\":{\"js_property_callbacks\":{\"change:value\":[{\"id\":\"2250\"}]},\"sizing_mode\":\"stretch_width\",\"title\":\"Right-Footed Kicker Kicking to the Right Selection Chance\",\"value\":\"0\",\"visible\":false},\"id\":\"2220\",\"type\":\"TextInput\"},{\"attributes\":{\"axis\":{\"id\":\"1728\"},\"grid_line_color\":\"black\",\"ticker\":null,\"visible\":false},\"id\":\"1731\",\"type\":\"Grid\"},{\"attributes\":{\"source\":{\"id\":\"1942\"}},\"id\":\"1979\",\"type\":\"CDSView\"},{\"attributes\":{\"active_drag\":\"auto\",\"active_inspect\":\"auto\",\"active_multi\":null,\"active_scroll\":\"auto\",\"active_tap\":\"auto\"},\"id\":\"1736\",\"type\":\"Toolbar\"},{\"attributes\":{\"editor\":{\"id\":\"2279\"},\"field\":\"footedness\",\"formatter\":{\"id\":\"2280\"},\"title\":\"Footedness\",\"width\":77},\"id\":\"2223\",\"type\":\"TableColumn\"},{\"attributes\":{\"axis\":{\"id\":\"1732\"},\"dimension\":1,\"grid_line_color\":\"black\",\"ticker\":null,\"visible\":false},\"id\":\"1735\",\"type\":\"Grid\"},{\"attributes\":{\"source\":{\"id\":\"2070\"}},\"id\":\"2121\",\"type\":\"CDSView\"},{\"attributes\":{\"formatter\":{\"id\":\"2261\"},\"ticker\":{\"id\":\"1733\"},\"visible\":false},\"id\":\"1732\",\"type\":\"LinearAxis\"},{\"attributes\":{\"data_source\":{\"id\":\"1942\"},\"glyph\":{\"id\":\"1976\"},\"hover_glyph\":null,\"muted_glyph\":null,\"nonselection_glyph\":{\"id\":\"1977\"},\"selection_glyph\":null,\"view\":{\"id\":\"1979\"}},\"id\":\"1978\",\"type\":\"GlyphRenderer\"},{\"attributes\":{\"fill_color\":{\"value\":\"#AFC8C8\"},\"line_color\":{\"value\":\"#96AFAF\"},\"size\":{\"units\":\"screen\",\"value\":5},\"x\":{\"field\":\"xs\"},\"y\":{\"field\":\"rl_ys\"}},\"id\":\"1986\",\"type\":\"CircleCross\"},{\"attributes\":{\"fill_alpha\":{\"value\":0.1},\"fill_color\":{\"value\":\"#AFC8AF\"},\"line_alpha\":{\"value\":0.1},\"line_color\":{\"value\":\"#96AF96\"},\"size\":{\"units\":\"screen\",\"value\":5},\"x\":{\"field\":\"xs\"},\"y\":{\"field\":\"lr_ys\"}},\"id\":\"1977\",\"type\":\"CircleCross\"},{\"attributes\":{\"editor\":{\"id\":\"2281\"},\"field\":\"aim_direction\",\"formatter\":{\"id\":\"2282\"},\"title\":\"Aim Direction\",\"width\":84},\"id\":\"2224\",\"type\":\"TableColumn\"},{\"attributes\":{\"fill_alpha\":{\"value\":0},\"fill_color\":{\"value\":\"#1f77b4\"},\"height\":{\"field\":\"hb3\",\"units\":\"data\"},\"line_alpha\":{\"value\":0},\"line_color\":{\"value\":\"#1f77b4\"},\"width\":{\"units\":\"data\",\"value\":1},\"x\":{\"field\":\"xs\"},\"y\":{\"field\":\"hb3\",\"transform\":{\"id\":\"1948\"}}},\"id\":\"1981\",\"type\":\"Rect\"},{\"attributes\":{\"fill_color\":{\"value\":\"lightblue\"},\"line_width\":{\"value\":2},\"size\":{\"units\":\"screen\",\"value\":21},\"x\":{\"value\":50},\"y\":{\"value\":16}},\"id\":\"1760\",\"type\":\"Circle\"},{\"attributes\":{\"source\":{\"id\":\"1762\"}},\"id\":\"1764\",\"type\":\"CDSView\"},{\"attributes\":{\"editor\":{\"id\":\"2283\"},\"field\":\"freq\",\"formatter\":{\"id\":\"2284\"},\"title\":\"Frequency\",\"width\":69},\"id\":\"2225\",\"type\":\"TableColumn\"},{\"attributes\":{\"source\":{\"id\":\"1942\"}},\"id\":\"1984\",\"type\":\"CDSView\"},{\"attributes\":{\"data\":{},\"selected\":{\"id\":\"2306\"},\"selection_policy\":{\"id\":\"2305\"}},\"id\":\"1765\",\"type\":\"ColumnDataSource\"},{\"attributes\":{\"editor\":{\"id\":\"2289\"},\"field\":\"striker_score_chance\",\"formatter\":{\"id\":\"2290\"},\"title\":\"Score Chance\",\"width\":88},\"id\":\"2228\",\"type\":\"TableColumn\"},{\"attributes\":{\"fill_alpha\":{\"value\":0.1},\"fill_color\":{\"value\":\"#1f77b4\"},\"height\":{\"field\":\"hb3\",\"units\":\"data\"},\"line_alpha\":{\"value\":0.1},\"line_color\":{\"value\":\"#1f77b4\"},\"width\":{\"units\":\"data\",\"value\":1},\"x\":{\"field\":\"xs\"},\"y\":{\"field\":\"hb3\",\"transform\":{\"id\":\"1948\"}}},\"id\":\"1982\",\"type\":\"Rect\"},{\"attributes\":{\"data_source\":{\"id\":\"1942\"},\"glyph\":{\"id\":\"1981\"},\"hover_glyph\":null,\"muted_glyph\":null,\"name\":\"3\",\"nonselection_glyph\":{\"id\":\"1982\"},\"selection_glyph\":null,\"view\":{\"id\":\"1984\"}},\"id\":\"1983\",\"type\":\"GlyphRenderer\"},{\"attributes\":{\"editor\":{\"id\":\"2285\"},\"field\":\"decisions\",\"formatter\":{\"id\":\"2286\"},\"title\":\"Decisions\",\"width\":64},\"id\":\"2226\",\"type\":\"TableColumn\"},{\"attributes\":{\"fill_color\":{\"value\":\"lightblue\"},\"height\":{\"units\":\"data\",\"value\":6},\"line_width\":{\"value\":2},\"width\":{\"units\":\"data\",\"value\":4},\"x\":{\"value\":50},\"y\":{\"value\":11}},\"id\":\"1761\",\"type\":\"Rect\"},{\"attributes\":{\"editor\":{\"id\":\"2291\"},\"field\":\"striker_score_roll\",\"formatter\":{\"id\":\"2292\"},\"title\":\"Score Roll\",\"width\":74},\"id\":\"2229\",\"type\":\"TableColumn\"},{\"attributes\":{\"data\":{},\"selected\":{\"id\":\"2304\"},\"selection_policy\":{\"id\":\"2303\"}},\"id\":\"1762\",\"type\":\"ColumnDataSource\"},{\"attributes\":{\"source\":{\"id\":\"1942\"}},\"id\":\"1989\",\"type\":\"CDSView\"},{\"attributes\":{\"editor\":{\"id\":\"2287\"},\"field\":\"goalie_perceived_risks\",\"formatter\":{\"id\":\"2288\"},\"title\":\"Perceived Risks\",\"width\":97},\"id\":\"2227\",\"type\":\"TableColumn\"},{\"attributes\":{\"data\":{\"aim_direction\":[\"Left\",\"Middle\",\"Right\",\"Left\",\"Middle\",\"Right\"],\"chances\":[0,0,0,0,0,0],\"footedness\":[\"Left\",\"Left\",\"Left\",\"Right\",\"Right\",\"Right\"]},\"selected\":{\"id\":\"2337\"},\"selection_policy\":{\"id\":\"2336\"}},\"id\":\"2232\",\"type\":\"ColumnDataSource\"},{\"attributes\":{\"data_source\":{\"id\":\"1762\"},\"glyph\":{\"id\":\"1757\"},\"hover_glyph\":null,\"muted_glyph\":null,\"view\":{\"id\":\"1764\"}},\"id\":\"1763\",\"type\":\"GlyphRenderer\"},{\"attributes\":{\"fill_color\":{\"value\":\"whitesmoke\"},\"line_width\":{\"value\":2},\"size\":{\"units\":\"screen\",\"value\":17},\"x\":{\"value\":50},\"y\":{\"value\":13}},\"id\":\"1759\",\"type\":\"Circle\"},{\"attributes\":{\"fill_alpha\":{\"value\":0.1},\"fill_color\":{\"value\":\"#AFC8C8\"},\"line_alpha\":{\"value\":0.1},\"line_color\":{\"value\":\"#96AFAF\"},\"size\":{\"units\":\"screen\",\"value\":5},\"x\":{\"field\":\"xs\"},\"y\":{\"field\":\"rl_ys\"}},\"id\":\"1987\",\"type\":\"CircleCross\"},{\"attributes\":{\"autosize_mode\":\"fit_columns\",\"columns\":[{\"id\":\"2223\"},{\"id\":\"2224\"},{\"id\":\"2225\"},{\"id\":\"2226\"},{\"id\":\"2227\"},{\"id\":\"2228\"},{\"id\":\"2229\"}],\"fit_columns\":false,\"height\":280,\"sizing_mode\":\"stretch_width\",\"source\":{\"id\":\"2222\"},\"view\":{\"id\":\"2231\"},\"visible\":false},\"id\":\"2230\",\"type\":\"DataTable\"},{\"attributes\":{\"data\":{\"x\":[24,76,78,22,24],\"y\":[63,63,47,47,63]},\"selected\":{\"id\":\"2296\"},\"selection_policy\":{\"id\":\"2295\"}},\"id\":\"1737\",\"type\":\"ColumnDataSource\"},{\"attributes\":{\"editor\":{\"id\":\"2357\"},\"field\":\"footedness\",\"formatter\":{\"id\":\"2358\"},\"title\":\"Striker Footedness\"},\"id\":\"2233\",\"type\":\"TableColumn\"},{\"attributes\":{\"data_source\":{\"id\":\"1942\"},\"glyph\":{\"id\":\"1986\"},\"hover_glyph\":null,\"muted_glyph\":null,\"nonselection_glyph\":{\"id\":\"1987\"},\"selection_glyph\":null,\"view\":{\"id\":\"1989\"}},\"id\":\"1988\",\"type\":\"GlyphRenderer\"},{\"attributes\":{\"line_color\":\"lightgreen\",\"line_width\":4,\"x\":{\"field\":\"x\"},\"y\":{\"field\":\"y\"}},\"id\":\"1738\",\"type\":\"Line\"},{\"attributes\":{\"source\":{\"id\":\"2222\"}},\"id\":\"2231\",\"type\":\"CDSView\"},{\"attributes\":{},\"id\":\"1885\",\"type\":\"LinearScale\"},{\"attributes\":{},\"id\":\"2358\",\"type\":\"StringFormatter\"},{\"attributes\":{\"formatter\":{\"id\":\"2267\"},\"ticker\":{\"id\":\"1888\"}},\"id\":\"1887\",\"type\":\"LinearAxis\"},{\"attributes\":{},\"id\":\"2359\",\"type\":\"StringEditor\"},{\"attributes\":{},\"id\":\"2360\",\"type\":\"StringFormatter\"},{\"attributes\":{},\"id\":\"1892\",\"type\":\"BasicTicker\"},{\"attributes\":{},\"id\":\"1888\",\"type\":\"BasicTicker\"},{\"attributes\":{},\"id\":\"2361\",\"type\":\"StringEditor\"},{\"attributes\":{\"axis\":{\"id\":\"1887\"},\"grid_line_color\":\"black\",\"ticker\":null,\"visible\":false},\"id\":\"1890\",\"type\":\"Grid\"},{\"attributes\":{},\"id\":\"2362\",\"type\":\"StringFormatter\"},{\"attributes\":{\"active_drag\":\"auto\",\"active_inspect\":\"auto\",\"active_multi\":null,\"active_scroll\":\"auto\",\"active_tap\":\"auto\",\"tools\":[{\"id\":\"1918\"}]},\"id\":\"1895\",\"type\":\"Toolbar\"},{\"attributes\":{\"axis\":{\"id\":\"1891\"},\"dimension\":1,\"grid_line_color\":\"black\",\"ticker\":null,\"visible\":false},\"id\":\"1894\",\"type\":\"Grid\"},{\"attributes\":{\"formatter\":{\"id\":\"2269\"},\"ticker\":{\"id\":\"1892\"}},\"id\":\"1891\",\"type\":\"LinearAxis\"},{\"attributes\":{\"data_source\":{\"id\":\"1942\"},\"glyph\":{\"id\":\"2021\"},\"hover_glyph\":null,\"muted_glyph\":null,\"nonselection_glyph\":{\"id\":\"2022\"},\"selection_glyph\":null,\"view\":{\"id\":\"2024\"}},\"id\":\"2023\",\"type\":\"GlyphRenderer\"},{\"attributes\":{\"fill_alpha\":{\"value\":0.1},\"fill_color\":{\"value\":\"#000000\"},\"line_alpha\":{\"value\":0.1},\"line_color\":{\"value\":\"#000000\"},\"size\":{\"units\":\"screen\",\"value\":10},\"x\":{\"field\":\"xs\"},\"y\":{\"field\":\"lm_ys\"}},\"id\":\"2022\",\"type\":\"CircleCross\"},{\"attributes\":{\"line_alpha\":0.1,\"line_color\":\"#000000\",\"x\":{\"field\":\"xs\"},\"y\":{\"value\":0.72}},\"id\":\"2119\",\"type\":\"Line\"},{\"attributes\":{\"source\":{\"id\":\"1942\"}},\"id\":\"2024\",\"type\":\"CDSView\"},{\"attributes\":{\"fill_alpha\":{\"field\":\"highlight_alphas\",\"transform\":{\"id\":\"1945\"}},\"fill_color\":{\"value\":\"#000000\"},\"line_alpha\":{\"field\":\"highlight_alphas\",\"transform\":{\"id\":\"1945\"}},\"line_color\":{\"value\":\"#000000\"},\"size\":{\"units\":\"screen\",\"value\":10},\"x\":{\"field\":\"xs\"},\"y\":{\"field\":\"lm_ys\"}},\"id\":\"2021\",\"type\":\"CircleCross\"},{\"attributes\":{\"text\":\"0\"},\"id\":\"1940\",\"type\":\"Div\"},{\"attributes\":{\"fill_color\":{\"value\":\"#CE7D7D\"},\"line_color\":{\"value\":\"#B56464\"},\"size\":{\"units\":\"screen\",\"value\":5},\"x\":{\"field\":\"xs\"},\"y\":{\"field\":\"ys\"}},\"id\":\"1898\",\"type\":\"CircleCross\"},{\"attributes\":{\"active_drag\":\"auto\",\"active_inspect\":\"auto\",\"active_multi\":null,\"active_scroll\":\"auto\",\"active_tap\":\"auto\",\"tools\":[{\"id\":\"2048\"}]},\"id\":\"1939\",\"type\":\"Toolbar\"},{\"attributes\":{\"formatter\":{\"id\":\"2273\"},\"ticker\":{\"id\":\"1936\"}},\"id\":\"1935\",\"type\":\"LinearAxis\"},{\"attributes\":{\"source\":{\"id\":\"1896\"}},\"id\":\"1901\",\"type\":\"CDSView\"},{\"attributes\":{\"fill_color\":{\"value\":\"black\"},\"size\":{\"units\":\"screen\",\"value\":3},\"x\":{\"field\":\"xs\"},\"y\":{\"field\":\"chance_ys\"}},\"id\":\"1903\",\"type\":\"CircleCross\"},{\"attributes\":{\"data_source\":{\"id\":\"1896\"},\"glyph\":{\"id\":\"1898\"},\"hover_glyph\":null,\"muted_glyph\":null,\"nonselection_glyph\":{\"id\":\"1899\"},\"selection_glyph\":null,\"view\":{\"id\":\"1901\"}},\"id\":\"1900\",\"type\":\"GlyphRenderer\"},{\"attributes\":{},\"id\":\"1936\",\"type\":\"BasicTicker\"},{\"attributes\":{\"fill_alpha\":{\"value\":0.1},\"fill_color\":{\"value\":\"#CE7D7D\"},\"line_alpha\":{\"value\":0.1},\"line_color\":{\"value\":\"#B56464\"},\"size\":{\"units\":\"screen\",\"value\":5},\"x\":{\"field\":\"xs\"},\"y\":{\"field\":\"ys\"}},\"id\":\"1899\",\"type\":\"CircleCross\"},{\"attributes\":{\"source\":{\"id\":\"1896\"}},\"id\":\"1906\",\"type\":\"CDSView\"},{\"attributes\":{\"fill_alpha\":{\"field\":\"highlight_alphas\"},\"fill_color\":{\"value\":\"#7D7DCE\"},\"line_alpha\":{\"field\":\"highlight_alphas\"},\"line_color\":{\"value\":\"#6464B5\"},\"size\":{\"units\":\"screen\",\"value\":10},\"x\":{\"field\":\"xs\"},\"y\":{\"field\":\"ys\"}},\"id\":\"1908\",\"type\":\"CircleCross\"},{\"attributes\":{\"source\":{\"id\":\"1896\"}},\"id\":\"1911\",\"type\":\"CDSView\"},{\"attributes\":{\"axis\":{\"id\":\"1935\"},\"dimension\":1,\"grid_line_color\":\"black\",\"ticker\":null,\"visible\":false},\"id\":\"1938\",\"type\":\"Grid\"},{\"attributes\":{\"fill_alpha\":{\"value\":0.1},\"fill_color\":{\"value\":\"black\"},\"line_alpha\":{\"value\":0.1},\"size\":{\"units\":\"screen\",\"value\":3},\"x\":{\"field\":\"xs\"},\"y\":{\"field\":\"chance_ys\"}},\"id\":\"1904\",\"type\":\"CircleCross\"},{\"attributes\":{\"data_source\":{\"id\":\"1896\"},\"glyph\":{\"id\":\"1903\"},\"hover_glyph\":null,\"muted_glyph\":null,\"nonselection_glyph\":{\"id\":\"1904\"},\"selection_glyph\":null,\"view\":{\"id\":\"1906\"}},\"id\":\"1905\",\"type\":\"GlyphRenderer\"},{\"attributes\":{\"data_source\":{\"id\":\"1896\"},\"glyph\":{\"id\":\"1908\"},\"hover_glyph\":null,\"muted_glyph\":null,\"nonselection_glyph\":{\"id\":\"1909\"},\"selection_glyph\":null,\"view\":{\"id\":\"1911\"}},\"id\":\"1910\",\"type\":\"GlyphRenderer\"},{\"attributes\":{\"fill_alpha\":{\"value\":0.1},\"fill_color\":{\"value\":\"#7D7DCE\"},\"line_alpha\":{\"value\":0.1},\"line_color\":{\"value\":\"#6464B5\"},\"size\":{\"units\":\"screen\",\"value\":10},\"x\":{\"field\":\"xs\"},\"y\":{\"field\":\"ys\"}},\"id\":\"1909\",\"type\":\"CircleCross\"},{\"attributes\":{\"fill_alpha\":{\"value\":0},\"fill_color\":{\"value\":\"#1f77b4\"},\"height\":{\"field\":\"heights\",\"units\":\"data\"},\"line_alpha\":{\"value\":0},\"line_color\":{\"value\":\"#CE7D7D\"},\"width\":{\"units\":\"data\",\"value\":1},\"x\":{\"field\":\"xs\"},\"y\":{\"value\":0}},\"id\":\"1913\",\"type\":\"Rect\"},{\"attributes\":{\"source\":{\"id\":\"1823\"}},\"id\":\"1851\",\"type\":\"CDSView\"},{\"attributes\":{},\"id\":\"2267\",\"type\":\"BasicTickFormatter\"},{\"attributes\":{\"data_source\":{\"id\":\"1823\"},\"glyph\":{\"id\":\"1848\"},\"hover_glyph\":null,\"muted_glyph\":null,\"nonselection_glyph\":{\"id\":\"1849\"},\"selection_glyph\":null,\"view\":{\"id\":\"1851\"}},\"id\":\"1850\",\"type\":\"GlyphRenderer\"},{\"attributes\":{\"fill_color\":{\"value\":\"#CBEBD9\"},\"line_color\":{\"value\":\"#CBEBD9\"},\"radius\":{\"units\":\"data\",\"value\":0},\"x\":{\"value\":0},\"y\":{\"value\":0}},\"id\":\"1813\",\"type\":\"Circle\"},{\"attributes\":{},\"id\":\"2269\",\"type\":\"BasicTickFormatter\"},{\"attributes\":{\"data_source\":{\"id\":\"1807\"},\"glyph\":{\"id\":\"1808\"},\"hover_glyph\":null,\"muted_glyph\":null,\"nonselection_glyph\":{\"id\":\"1809\"},\"selection_glyph\":null,\"view\":{\"id\":\"1811\"}},\"id\":\"1810\",\"type\":\"GlyphRenderer\"},{\"attributes\":{\"fill_alpha\":{\"value\":0.1},\"fill_color\":{\"value\":\"#3F6750\"},\"height\":{\"field\":\"scored_y\",\"units\":\"data\"},\"line_alpha\":{\"value\":0.1},\"line_color\":{\"value\":\"#3F6750\"},\"width\":{\"field\":\"hovered_widths\",\"transform\":{\"id\":\"1825\"},\"units\":\"data\"},\"x\":{\"field\":\"x\"},\"y\":{\"field\":\"scored_y\",\"transform\":{\"id\":\"1824\"}}},\"id\":\"1839\",\"type\":\"Rect\"},{\"attributes\":{},\"id\":\"2271\",\"type\":\"BasicTickFormatter\"},{\"attributes\":{\"fill_alpha\":{\"value\":0.1},\"fill_color\":{\"value\":\"#8AD3AA\"},\"line_alpha\":{\"value\":0.1},\"line_color\":{\"value\":\"#8AD3AA\"},\"radius\":{\"units\":\"data\",\"value\":0},\"x\":{\"value\":0},\"y\":{\"value\":0}},\"id\":\"1809\",\"type\":\"Circle\"},{\"attributes\":{},\"id\":\"2273\",\"type\":\"BasicTickFormatter\"},{\"attributes\":{\"fill_alpha\":{\"value\":0},\"fill_color\":{\"value\":\"#8AD3AA\"},\"height\":{\"field\":\"blockedm_y\",\"units\":\"data\"},\"line_alpha\":{\"value\":0},\"line_color\":{\"value\":\"#8AD3AA\"},\"width\":{\"units\":\"data\",\"value\":1},\"x\":{\"field\":\"x\"},\"y\":{\"field\":\"blockedm_y\",\"transform\":{\"id\":\"1828\"}}},\"id\":\"1853\",\"type\":\"Rect\"},{\"attributes\":{\"data\":{},\"selected\":{\"id\":\"2322\"},\"selection_policy\":{\"id\":\"2321\"}},\"id\":\"1812\",\"type\":\"ColumnDataSource\"},{\"attributes\":{},\"id\":\"2275\",\"type\":\"BasicTickFormatter\"},{\"attributes\":{\"text\":\"-1\"},\"id\":\"1941\",\"type\":\"Div\"},{\"attributes\":{\"data\":{\"alphas_zeroes\":[0,0,0,0,0,0,0,0,0,0,0,0,0,0,0,0,0,0,0,0,0,0,0,0,0,0,0,0,0,0,0,0,0,0,0,0,0,0,0,0,0,0,0,0,0,0,0,0,0,0,0],\"hb1\":[0,0,0,0,0,0,0,0,0,0,0,0,0,0,0,0,0,0,0,0,0,0,0,0,0,0,0,0,0,0,0,0,0,0,0,0,0,0,0,0,0,0,0,0,0,0,0,0,0,0,0],\"hb2\":[0,0,0,0,0,0,0,0,0,0,0,0,0,0,0,0,0,0,0,0,0,0,0,0,0,0,0,0,0,0,0,0,0,0,0,0,0,0,0,0,0,0,0,0,0,0,0,0,0,0,0],\"hb3\":[0,0,0,0,0,0,0,0,0,0,0,0,0,0,0,0,0,0,0,0,0,0,0,0,0,0,0,0,0,0,0,0,0,0,0,0,0,0,0,0,0,0,0,0,0,0,0,0,0,0,0],\"hb4\":[0,0,0,0,0,0,0,0,0,0,0,0,0,0,0,0,0,0,0,0,0,0,0,0,0,0,0,0,0,0,0,0,0,0,0,0,0,0,0,0,0,0,0,0,0,0,0,0,0,0,0],\"hb5\":[0,0,0,0,0,0,0,0,0,0,0,0,0,0,0,0,0,0,0,0,0,0,0,0,0,0,0,0,0,0,0,0,0,0,0,0,0,0,0,0,0,0,0,0,0,0,0,0,0,0,0],\"hb6\":[0,0,0,0,0,0,0,0,0,0,0,0,0,0,0,0,0,0,0,0,0,0,0,0,0,0,0,0,0,0,0,0,0,0,0,0,0,0,0,0,0,0,0,0,0,0,0,0,0,0,0],\"highlight_alphas\":[0,0,0,0,0,0,0,0,0,0,0,0,0,0,0,0,0,0,0,0,0,0,0,0,0,0,0,0,0,0,0,0,0,0,0,0,0,0,0,0,0,0,0,0,0,0,0,0,0,0,0],\"ll_ys\":[0.76,0,0,0,0,0,0,0,0,0,0,0,0,0,0,0,0,0,0,0,0,0,0,0,0,0,0,0,0,0,0,0,0,0,0,0,0,0,0,0,0,0,0,0,0,0,0,0,0,0,0],\"lm_ys\":[0.65,0,0,0,0,0,0,0,0,0,0,0,0,0,0,0,0,0,0,0,0,0,0,0,0,0,0,0,0,0,0,0,0,0,0,0,0,0,0,0,0,0,0,0,0,0,0,0,0,0,0],\"lr_ys\":[0.763333,0,0,0,0,0,0,0,0,0,0,0,0,0,0,0,0,0,0,0,0,0,0,0,0,0,0,0,0,0,0,0,0,0,0,0,0,0,0,0,0,0,0,0,0,0,0,0,0,0,0],\"rl_ys\":[0.746666,0,0,0,0,0,0,0,0,0,0,0,0,0,0,0,0,0,0,0,0,0,0,0,0,0,0,0,0,0,0,0,0,0,0,0,0,0,0,0,0,0,0,0,0,0,0,0,0,0,0],\"rm_ys\":[0.66,0,0,0,0,0,0,0,0,0,0,0,0,0,0,0,0,0,0,0,0,0,0,0,0,0,0,0,0,0,0,0,0,0,0,0,0,0,0,0,0,0,0,0,0,0,0,0,0,0,0],\"rr_ys\":[0.783333,0,0,0,0,0,0,0,0,0,0,0,0,0,0,0,0,0,0,0,0,0,0,0,0,0,0,0,0,0,0,0,0,0,0,0,0,0,0,0,0,0,0,0,0,0,0,0,0,0,0],\"xs\":[0,1,2,3,4,5,6,7,8,9,10,11,12,13,14,15,16,17,18,19,20,21,22,23,24,25,26,27,28,29,30,31,32,33,34,35,36,37,38,39,40,41,42,43,44,45,46,47,48,49,50]},\"selected\":{\"id\":\"2328\"},\"selection_policy\":{\"id\":\"2327\"}},\"id\":\"1942\",\"type\":\"ColumnDataSource\"},{\"attributes\":{\"source\":{\"id\":\"1807\"}},\"id\":\"1811\",\"type\":\"CDSView\"},{\"attributes\":{},\"id\":\"2277\",\"type\":\"BasicTickFormatter\"},{\"attributes\":{\"background_fill_alpha\":0,\"border_line_alpha\":0,\"items\":[{\"id\":\"1821\"},{\"id\":\"1822\"}],\"label_height\":10,\"label_text_font_size\":\"10pt\",\"location\":[68,40],\"orientation\":\"horizontal\",\"padding\":0},\"id\":\"1820\",\"type\":\"Legend\"},{\"attributes\":{},\"id\":\"2279\",\"type\":\"StringEditor\"},{\"attributes\":{\"source\":{\"id\":\"1823\"}},\"id\":\"1856\",\"type\":\"CDSView\"},{\"attributes\":{\"source\":{\"id\":\"2186\"}},\"id\":\"2189\",\"type\":\"CDSView\"},{\"attributes\":{\"fill_alpha\":{\"value\":0.1},\"fill_color\":{\"value\":\"#CBEBD9\"},\"line_alpha\":{\"value\":0.1},\"line_color\":{\"value\":\"#CBEBD9\"},\"radius\":{\"units\":\"data\",\"value\":0},\"x\":{\"value\":0},\"y\":{\"value\":0}},\"id\":\"1814\",\"type\":\"Circle\"},{\"attributes\":{},\"id\":\"2280\",\"type\":\"StringFormatter\"},{\"attributes\":{\"fill_alpha\":{\"value\":0.1},\"fill_color\":{\"value\":\"#8AD3AA\"},\"height\":{\"field\":\"blockedm_y\",\"units\":\"data\"},\"line_alpha\":{\"value\":0.1},\"line_color\":{\"value\":\"#8AD3AA\"},\"width\":{\"units\":\"data\",\"value\":1},\"x\":{\"field\":\"x\"},\"y\":{\"field\":\"blockedm_y\",\"transform\":{\"id\":\"1828\"}}},\"id\":\"1854\",\"type\":\"Rect\"},{\"attributes\":{\"data_source\":{\"id\":\"1823\"},\"glyph\":{\"id\":\"1853\"},\"hover_glyph\":null,\"muted_glyph\":null,\"name\":\"Blocked Middle\",\"nonselection_glyph\":{\"id\":\"1854\"},\"selection_glyph\":null,\"view\":{\"id\":\"1856\"}},\"id\":\"1855\",\"type\":\"GlyphRenderer\"},{\"attributes\":{},\"id\":\"2281\",\"type\":\"StringEditor\"},{\"attributes\":{\"data_source\":{\"id\":\"1812\"},\"glyph\":{\"id\":\"1813\"},\"hover_glyph\":null,\"muted_glyph\":null,\"nonselection_glyph\":{\"id\":\"1814\"},\"selection_glyph\":null,\"view\":{\"id\":\"1816\"}},\"id\":\"1815\",\"type\":\"GlyphRenderer\"},{\"attributes\":{\"source\":{\"id\":\"1812\"}},\"id\":\"1816\",\"type\":\"CDSView\"},{\"attributes\":{},\"id\":\"2282\",\"type\":\"StringFormatter\"},{\"attributes\":{\"args\":{\"src\":{\"id\":\"1823\"}},\"v_func\":\"\\nconst newXs = new Array(xs.length);\\nxs.forEach(\\n  (v, i) => newXs[i] = v/2\\n);\\nreturn newXs;\\n\"},\"id\":\"1824\",\"type\":\"CustomJSTransform\"},{\"attributes\":{},\"id\":\"2283\",\"type\":\"StringEditor\"},{\"attributes\":{\"label\":{\"value\":\"Scored\"},\"renderers\":[{\"id\":\"1800\"}]},\"id\":\"1818\",\"type\":\"LegendItem\"},{\"attributes\":{\"source\":{\"id\":\"1823\"}},\"id\":\"1861\",\"type\":\"CDSView\"},{\"attributes\":{},\"id\":\"2284\",\"type\":\"StringFormatter\"},{\"attributes\":{\"fill_alpha\":{\"value\":0},\"fill_color\":{\"value\":\"#CBEBD9\"},\"height\":{\"field\":\"blockedr_y\",\"units\":\"data\"},\"line_alpha\":{\"value\":0},\"line_color\":{\"value\":\"#CBEBD9\"},\"width\":{\"units\":\"data\",\"value\":1},\"x\":{\"field\":\"x\"},\"y\":{\"field\":\"blockedr_y\",\"transform\":{\"id\":\"1830\"}}},\"id\":\"1863\",\"type\":\"Rect\"},{\"attributes\":{\"label\":{\"value\":\"Goalie Blocked By Going Left\"},\"renderers\":[{\"id\":\"1805\"}]},\"id\":\"1819\",\"type\":\"LegendItem\"},{\"attributes\":{\"fill_alpha\":{\"value\":0.1},\"fill_color\":{\"value\":\"#8AD3AA\"},\"height\":{\"field\":\"blockedm_y\",\"units\":\"data\"},\"line_alpha\":{\"value\":0.1},\"line_color\":{\"value\":\"#8AD3AA\"},\"width\":{\"field\":\"hovered_widths\",\"transform\":{\"id\":\"1829\"},\"units\":\"data\"},\"x\":{\"field\":\"x\"},\"y\":{\"field\":\"blockedm_y\",\"transform\":{\"id\":\"1828\"}}},\"id\":\"1859\",\"type\":\"Rect\"},{\"attributes\":{},\"id\":\"2285\",\"type\":\"StringEditor\"},{\"attributes\":{\"data_source\":{\"id\":\"1823\"},\"glyph\":{\"id\":\"1858\"},\"hover_glyph\":null,\"muted_glyph\":null,\"nonselection_glyph\":{\"id\":\"1859\"},\"selection_glyph\":null,\"view\":{\"id\":\"1861\"}},\"id\":\"1860\",\"type\":\"GlyphRenderer\"},{\"attributes\":{},\"id\":\"2286\",\"type\":\"StringFormatter\"},{\"attributes\":{},\"id\":\"2287\",\"type\":\"StringEditor\"},{\"attributes\":{\"data\":{\"blockedl_y\":[0.0,0.0,0.0,0.0,0.0,0.0],\"blockedm_y\":[0.0,0.0,0.0,0.0,0.0,0.0],\"blockedr_y\":[0.0,0.0,0.0,0.0,0.0,0.0],\"hovered_widths\":[\"\",\"\",\"\",\"\",\"\",\"\"],\"scored_y\":[0.0,0.0,0.0,0.0,0.0,0.0],\"x\":[0.5,1.5,2.5,3.5,4.5,5.5]},\"selected\":{\"id\":\"2324\"},\"selection_policy\":{\"id\":\"2323\"}},\"id\":\"1823\",\"type\":\"ColumnDataSource\"},{\"attributes\":{\"data_source\":{\"id\":\"1942\"},\"glyph\":{\"id\":\"2016\"},\"hover_glyph\":null,\"muted_glyph\":null,\"nonselection_glyph\":{\"id\":\"2017\"},\"selection_glyph\":null,\"view\":{\"id\":\"2019\"}},\"id\":\"2018\",\"type\":\"GlyphRenderer\"},{\"attributes\":{\"label\":{\"value\":\"Goalie Blocked By Going Right\"},\"renderers\":[{\"id\":\"1815\"}]},\"id\":\"1822\",\"type\":\"LegendItem\"},{\"attributes\":{},\"id\":\"2288\",\"type\":\"StringFormatter\"},{\"attributes\":{\"label\":{\"value\":\"Goalie Blocked By Going Middle\"},\"renderers\":[{\"id\":\"1810\"}]},\"id\":\"1821\",\"type\":\"LegendItem\"},{\"attributes\":{},\"id\":\"2289\",\"type\":\"StringEditor\"},{\"attributes\":{\"source\":{\"id\":\"1823\"}},\"id\":\"1866\",\"type\":\"CDSView\"},{\"attributes\":{\"args\":{\"src\":{\"id\":\"1823\"}},\"v_func\":\"\\nconst newXs = new Array(xs.length);\\nxs.forEach(\\n  (v, i) => newXs[i] = v/2 + src.data[\\\"scored_y\\\"][i]\\n);\\nreturn newXs;\\n\"},\"id\":\"1826\",\"type\":\"CustomJSTransform\"},{\"attributes\":{\"fill_alpha\":{\"value\":0.1},\"fill_color\":{\"value\":\"#CBEBD9\"},\"height\":{\"field\":\"blockedr_y\",\"units\":\"data\"},\"line_alpha\":{\"value\":0.1},\"line_color\":{\"value\":\"#CBEBD9\"},\"width\":{\"units\":\"data\",\"value\":1},\"x\":{\"field\":\"x\"},\"y\":{\"field\":\"blockedr_y\",\"transform\":{\"id\":\"1830\"}}},\"id\":\"1864\",\"type\":\"Rect\"},{\"attributes\":{},\"id\":\"2290\",\"type\":\"StringFormatter\"},{\"attributes\":{\"v_func\":\"\\nconst newXs = xs.map(\\n  (v) => ((v === 1) ? 1 : 0.8)\\n)\\nreturn newXs;\\n\"},\"id\":\"1825\",\"type\":\"CustomJSTransform\"},{\"attributes\":{\"data_source\":{\"id\":\"1823\"},\"glyph\":{\"id\":\"1863\"},\"hover_glyph\":null,\"muted_glyph\":null,\"name\":\"Blocked Right\",\"nonselection_glyph\":{\"id\":\"1864\"},\"selection_glyph\":null,\"view\":{\"id\":\"1866\"}},\"id\":\"1865\",\"type\":\"GlyphRenderer\"},{\"attributes\":{\"fill_color\":{\"value\":\"#CBEBD9\"},\"height\":{\"field\":\"blockedr_y\",\"units\":\"data\"},\"line_color\":{\"value\":\"#CBEBD9\"},\"width\":{\"field\":\"hovered_widths\",\"transform\":{\"id\":\"1831\"},\"units\":\"data\"},\"x\":{\"field\":\"x\"},\"y\":{\"field\":\"blockedr_y\",\"transform\":{\"id\":\"1830\"}}},\"id\":\"1868\",\"type\":\"Rect\"},{\"attributes\":{},\"id\":\"2291\",\"type\":\"StringEditor\"},{\"attributes\":{\"args\":{\"src\":{\"id\":\"1823\"}},\"v_func\":\"\\nconst newXs = new Array(xs.length);\\nxs.forEach(\\n  (v, i) => newXs[i] = v/2 + src.data[\\\"blockedl_y\\\"][i] + src.data[\\\"scored_y\\\"][i]\\n);\\nreturn newXs;\\n\"},\"id\":\"1828\",\"type\":\"CustomJSTransform\"},{\"attributes\":{\"fill_color\":{\"value\":\"#3F6750\"},\"height\":{\"field\":\"scored_y\",\"units\":\"data\"},\"line_color\":{\"value\":\"#3F6750\"},\"width\":{\"field\":\"hovered_widths\",\"transform\":{\"id\":\"1825\"},\"units\":\"data\"},\"x\":{\"field\":\"x\"},\"y\":{\"field\":\"scored_y\",\"transform\":{\"id\":\"1824\"}}},\"id\":\"1838\",\"type\":\"Rect\"},{\"attributes\":{},\"id\":\"2292\",\"type\":\"StringFormatter\"},{\"attributes\":{\"args\":{\"src\":{\"id\":\"1823\"}},\"code\":\"\\nconst barTypes = ['Scored', 'Blocked Left', 'Blocked Middle', 'Blocked Right'];\\nconst columns = ['scored_y', 'blockedl_y', 'blockedm_y', 'blockedr_y'];\\nconst wCodes = [1, 2, 3, 4];\\nconst data = src.data;\\nconst index = special_vars.index;\\nconst selected = barTypes.indexOf(special_vars.name);\\n\\ndata['hovered_widths'].fill(0);\\ndata['hovered_widths'][index] = wCodes[selected];\\nsrc.change.emit();\\n\\nconst val = data[columns[selected]][index];\\nreturn val.toString();\\n\"},\"id\":\"1873\",\"type\":\"CustomJSHover\"},{\"attributes\":{\"background_fill_color\":\"white\",\"below\":[{\"id\":\"1887\"}],\"center\":[{\"id\":\"1890\"},{\"id\":\"1894\"}],\"left\":[{\"id\":\"1891\"}],\"outline_line_color\":\"black\",\"plot_height\":360,\"renderers\":[{\"id\":\"1900\"},{\"id\":\"1905\"},{\"id\":\"1910\"},{\"id\":\"1915\"}],\"sizing_mode\":\"stretch_both\",\"title\":{\"id\":\"1877\"},\"toolbar\":{\"id\":\"1895\"},\"toolbar_location\":null,\"toolbar_sticky\":false,\"visible\":false,\"x_range\":{\"id\":\"1879\"},\"x_scale\":{\"id\":\"1883\"},\"y_range\":{\"id\":\"1881\"},\"y_scale\":{\"id\":\"1885\"}},\"id\":\"1876\",\"subtype\":\"Figure\",\"type\":\"Plot\"},{\"attributes\":{},\"id\":\"2293\",\"type\":\"UnionRenderers\"},{\"attributes\":{\"args\":{\"src\":{\"id\":\"1823\"}},\"v_func\":\"\\nconst newXs = new Array(xs.length);\\nxs.forEach(\\n  (v, i) => newXs[i] = v/2 + src.data[\\\"blockedm_y\\\"][i] + src.data[\\\"blockedl_y\\\"][i] + src.data[\\\"scored_y\\\"][i]\\n);\\nreturn newXs;\\n\"},\"id\":\"1830\",\"type\":\"CustomJSTransform\"},{\"attributes\":{\"v_func\":\"\\nconst newXs = xs.map(\\n  (v) => ((v === 2) ? 1 : 0.8)\\n)\\nreturn newXs;\\n\"},\"id\":\"1827\",\"type\":\"CustomJSTransform\"},{\"attributes\":{\"source\":{\"id\":\"1823\"}},\"id\":\"1871\",\"type\":\"CDSView\"},{\"attributes\":{},\"id\":\"2294\",\"type\":\"Selection\"},{\"attributes\":{\"code\":\"\\nconst kfkks = ['(L, L)', '(L, M)', '(L, R)', '(R, L)', '(R, M)', '(R, R)'];\\nreturn kfkks[special_vars.index];\\n\"},\"id\":\"1872\",\"type\":\"CustomJSHover\"},{\"attributes\":{\"fill_alpha\":{\"value\":0},\"fill_color\":{\"value\":\"#3F6750\"},\"height\":{\"field\":\"scored_y\",\"units\":\"data\"},\"line_alpha\":{\"value\":0},\"line_color\":{\"value\":\"#3F6750\"},\"width\":{\"units\":\"data\",\"value\":1},\"x\":{\"field\":\"x\"},\"y\":{\"field\":\"scored_y\",\"transform\":{\"id\":\"1824\"}}},\"id\":\"1833\",\"type\":\"Rect\"},{\"attributes\":{\"fill_alpha\":{\"value\":0.1},\"fill_color\":{\"value\":\"#CBEBD9\"},\"height\":{\"field\":\"blockedr_y\",\"units\":\"data\"},\"line_alpha\":{\"value\":0.1},\"line_color\":{\"value\":\"#CBEBD9\"},\"width\":{\"field\":\"hovered_widths\",\"transform\":{\"id\":\"1831\"},\"units\":\"data\"},\"x\":{\"field\":\"x\"},\"y\":{\"field\":\"blockedr_y\",\"transform\":{\"id\":\"1830\"}}},\"id\":\"1869\",\"type\":\"Rect\"},{\"attributes\":{},\"id\":\"2295\",\"type\":\"UnionRenderers\"},{\"attributes\":{\"data_source\":{\"id\":\"1823\"},\"glyph\":{\"id\":\"1868\"},\"hover_glyph\":null,\"muted_glyph\":null,\"nonselection_glyph\":{\"id\":\"1869\"},\"selection_glyph\":null,\"view\":{\"id\":\"1871\"}},\"id\":\"1870\",\"type\":\"GlyphRenderer\"},{\"attributes\":{\"v_func\":\"\\nconst newXs = xs.map(\\n  (v) => ((v === 3) ? 1 : 0.8)\\n)\\nreturn newXs;\\n\"},\"id\":\"1829\",\"type\":\"CustomJSTransform\"},{\"attributes\":{},\"id\":\"2296\",\"type\":\"Selection\"},{\"attributes\":{},\"id\":\"2297\",\"type\":\"UnionRenderers\"},{\"attributes\":{\"v_func\":\"\\nconst newXs = xs.map(\\n  (v) => ((v === 4) ? 1 : 0.8)\\n)\\nreturn newXs;\\n\"},\"id\":\"1831\",\"type\":\"CustomJSTransform\"},{\"attributes\":{\"end\":50.5,\"start\":-0.5},\"id\":\"1879\",\"type\":\"Range1d\"},{\"attributes\":{},\"id\":\"2298\",\"type\":\"Selection\"},{\"attributes\":{\"data_source\":{\"id\":\"1823\"},\"glyph\":{\"id\":\"1838\"},\"hover_glyph\":null,\"muted_glyph\":null,\"nonselection_glyph\":{\"id\":\"1839\"},\"selection_glyph\":null,\"view\":{\"id\":\"1841\"}},\"id\":\"1840\",\"type\":\"GlyphRenderer\"},{\"attributes\":{},\"id\":\"2299\",\"type\":\"UnionRenderers\"},{\"attributes\":{\"callback\":null,\"formatters\":{\"@blockedl_y\":{\"id\":\"1873\"},\"@x\":{\"id\":\"1872\"}},\"point_policy\":\"follow_mouse\",\"renderers\":[{\"id\":\"1835\"},{\"id\":\"1845\"},{\"id\":\"1855\"},{\"id\":\"1865\"}],\"tooltips\":\"\\n<div>\\n  <font size=\\\"1pt\\\"><p>Kicker (Foot, Kick): @x{custom}<br>\\nHovered Bar: $name<br>\\nBar Height: @blockedl_y{custom}</p></font>\\n</div>\\n\"},\"id\":\"1874\",\"type\":\"HoverTool\"},{\"attributes\":{\"source\":{\"id\":\"1823\"}},\"id\":\"1841\",\"type\":\"CDSView\"},{\"attributes\":{},\"id\":\"2300\",\"type\":\"Selection\"},{\"attributes\":{\"source\":{\"id\":\"1823\"}},\"id\":\"1836\",\"type\":\"CDSView\"},{\"attributes\":{\"text\":\"Score Over Iterations Run\",\"text_font_size\":{\"value\":\"16pt\"}},\"id\":\"1877\",\"type\":\"Title\"},{\"attributes\":{\"fill_alpha\":{\"value\":0.1},\"fill_color\":{\"value\":\"#3F6750\"},\"height\":{\"field\":\"scored_y\",\"units\":\"data\"},\"line_alpha\":{\"value\":0.1},\"line_color\":{\"value\":\"#3F6750\"},\"width\":{\"units\":\"data\",\"value\":1},\"x\":{\"field\":\"x\"},\"y\":{\"field\":\"scored_y\",\"transform\":{\"id\":\"1824\"}}},\"id\":\"1834\",\"type\":\"Rect\"},{\"attributes\":{},\"id\":\"2301\",\"type\":\"UnionRenderers\"},{\"attributes\":{\"data_source\":{\"id\":\"1823\"},\"glyph\":{\"id\":\"1833\"},\"hover_glyph\":null,\"muted_glyph\":null,\"name\":\"Scored\",\"nonselection_glyph\":{\"id\":\"1834\"},\"selection_glyph\":null,\"view\":{\"id\":\"1836\"}},\"id\":\"1835\",\"type\":\"GlyphRenderer\"},{\"attributes\":{\"data\":{\"chance_ys\":[0,0,0,0,0,0,0,0,0,0,0,0,0,0,0,0,0,0,0,0,0,0,0,0,0,0,0,0,0,0,0,0,0,0,0,0,0,0,0,0,0,0,0,0,0,0,0,0,0,0,0],\"heights\":[100,100,100,100,100,100,100,100,100,100,100,100,100,100,100,100,100,100,100,100,100,100,100,100,100,100,100,100,100,100,100,100,100,100,100,100,100,100,100,100,100,100,100,100,100,100,100,100,100,100,100],\"highlight_alphas\":[0,0,0,0,0,0,0,0,0,0,0,0,0,0,0,0,0,0,0,0,0,0,0,0,0,0,0,0,0,0,0,0,0,0,0,0,0,0,0,0,0,0,0,0,0,0,0,0,0,0,0],\"xs\":[0,1,2,3,4,5,6,7,8,9,10,11,12,13,14,15,16,17,18,19,20,21,22,23,24,25,26,27,28,29,30,31,32,33,34,35,36,37,38,39,40,41,42,43,44,45,46,47,48,49,50],\"ys\":[0,0,0,0,0,0,0,0,0,0,0,0,0,0,0,0,0,0,0,0,0,0,0,0,0,0,0,0,0,0,0,0,0,0,0,0,0,0,0,0,0,0,0,0,0,0,0,0,0,0,0]},\"selected\":{\"id\":\"2326\"},\"selection_policy\":{\"id\":\"2325\"}},\"id\":\"1896\",\"type\":\"ColumnDataSource\"},{\"attributes\":{},\"id\":\"2302\",\"type\":\"Selection\"},{\"attributes\":{\"end\":50,\"start\":-50},\"id\":\"1881\",\"type\":\"Range1d\"},{\"attributes\":{},\"id\":\"2303\",\"type\":\"UnionRenderers\"},{\"attributes\":{\"fill_color\":{\"value\":\"#8AD3AA\"},\"height\":{\"field\":\"blockedm_y\",\"units\":\"data\"},\"line_color\":{\"value\":\"#8AD3AA\"},\"width\":{\"field\":\"hovered_widths\",\"transform\":{\"id\":\"1829\"},\"units\":\"data\"},\"x\":{\"field\":\"x\"},\"y\":{\"field\":\"blockedm_y\",\"transform\":{\"id\":\"1828\"}}},\"id\":\"1858\",\"type\":\"Rect\"},{\"attributes\":{},\"id\":\"1883\",\"type\":\"LinearScale\"},{\"attributes\":{},\"id\":\"2304\",\"type\":\"Selection\"},{\"attributes\":{\"sizing_mode\":\"stretch_width\",\"text\":\"Chances must add up to 1\",\"visible\":false},\"id\":\"2198\",\"type\":\"Div\"},{\"attributes\":{\"line_alpha\":0.1,\"line_color\":\"#000000\",\"x\":{\"field\":\"xs\"},\"y\":{\"value\":0.74}},\"id\":\"2153\",\"type\":\"Line\"},{\"attributes\":{\"data_source\":{\"id\":\"1942\"},\"glyph\":{\"id\":\"2036\"},\"hover_glyph\":null,\"muted_glyph\":null,\"nonselection_glyph\":{\"id\":\"2037\"},\"selection_glyph\":null,\"view\":{\"id\":\"2039\"}},\"id\":\"2038\",\"type\":\"GlyphRenderer\"},{\"attributes\":{\"source\":{\"id\":\"1942\"}},\"id\":\"2039\",\"type\":\"CDSView\"},{\"attributes\":{\"source\":{\"id\":\"2070\"}},\"id\":\"2156\",\"type\":\"CDSView\"},{\"attributes\":{\"data_source\":{\"id\":\"2070\"},\"glyph\":{\"id\":\"2113\"},\"hover_glyph\":null,\"muted_glyph\":null,\"nonselection_glyph\":{\"id\":\"2114\"},\"selection_glyph\":null,\"view\":{\"id\":\"2116\"}},\"id\":\"2115\",\"type\":\"GlyphRenderer\"},{\"attributes\":{\"fill_alpha\":{\"field\":\"highlight_alphas\",\"transform\":{\"id\":\"1953\"}},\"fill_color\":{\"value\":\"#000000\"},\"line_alpha\":{\"field\":\"highlight_alphas\",\"transform\":{\"id\":\"1953\"}},\"line_color\":{\"value\":\"#000000\"},\"size\":{\"units\":\"screen\",\"value\":10},\"x\":{\"field\":\"xs\"},\"y\":{\"field\":\"rr_ys\"}},\"id\":\"2041\",\"type\":\"CircleCross\"},{\"attributes\":{\"line_alpha\":0.1,\"line_color\":\"#000000\",\"x\":{\"field\":\"xs\"},\"y\":{\"value\":0.6}},\"id\":\"2158\",\"type\":\"Line\"},{\"attributes\":{\"line_alpha\":0.1,\"line_color\":\"#000000\",\"x\":{\"field\":\"xs\"},\"y\":{\"value\":0.74}},\"id\":\"2154\",\"type\":\"Line\"},{\"attributes\":{\"text\":\"Score Chance Over Iterations\",\"text_font_size\":{\"value\":\"16pt\"}},\"id\":\"2051\",\"type\":\"Title\"},{\"attributes\":{\"data_source\":{\"id\":\"2070\"},\"glyph\":{\"id\":\"2153\"},\"hover_glyph\":null,\"muted_glyph\":null,\"nonselection_glyph\":{\"id\":\"2154\"},\"selection_glyph\":null,\"view\":{\"id\":\"2156\"}},\"id\":\"2155\",\"type\":\"GlyphRenderer\"},{\"attributes\":{\"sizing_mode\":\"stretch_width\",\"text\":\"Chances cannot be greater than 1\",\"visible\":false},\"id\":\"2197\",\"type\":\"Div\"},{\"attributes\":{\"source\":{\"id\":\"1942\"}},\"id\":\"2044\",\"type\":\"CDSView\"},{\"attributes\":{\"args\":{\"highlightIndex\":{\"id\":\"1940\"},\"selectedIndex\":{\"id\":\"1941\"},\"src\":{\"id\":\"1942\"}},\"code\":\"\\nconst index = special_vars.index;\\nconst name = special_vars.name;\\nconst data = src.data;\\n\\n\\nfunction selectSortedValIndex() {\\n  const values = [\\n    data['ll_ys'][index], data['lm_ys'][index], data['lr_ys'][index],\\n    data['rl_ys'][index], data['rm_ys'][index], data['rr_ys'][index]\\n  ];\\n\\n  const sortedValues = values.slice();\\n  sortedValues.sort((a, b) => b - a);\\n\\n  selectedIndex.text = values.indexOf(sortedValues[parseInt(name)]).toString();\\n}\\n\\nconst column = [1, 2, 3, 4, 5, 6];\\n\\nselectSortedValIndex();\\n\\nconst selected = column[parseInt(selectedIndex.text)];\\n\\ndata['highlight_alphas'][parseInt(highlightIndex.text)] = 0;\\nhighlightIndex.text = index.toString();\\ndata['highlight_alphas'][index] = selected;\\n\\nsrc.change.emit();\\n\\nreturn index.toString();\\n\"},\"id\":\"2045\",\"type\":\"CustomJSHover\"},{\"attributes\":{\"source\":{\"id\":\"2070\"}},\"id\":\"2161\",\"type\":\"CDSView\"},{\"attributes\":{\"data_source\":{\"id\":\"1942\"},\"glyph\":{\"id\":\"2041\"},\"hover_glyph\":null,\"muted_glyph\":null,\"nonselection_glyph\":{\"id\":\"2042\"},\"selection_glyph\":null,\"view\":{\"id\":\"2044\"}},\"id\":\"2043\",\"type\":\"GlyphRenderer\"},{\"attributes\":{\"args\":{\"selectedIndex\":{\"id\":\"1941\"},\"src\":{\"id\":\"1942\"}},\"code\":\"\\nconst index = special_vars.index;\\nconst name = special_vars.name;\\nconst data = src.data;\\n\\n\\nconst column = ['ll', 'lm', 'lr', 'rl', 'rm', 'rr'];\\nconst selected = column[parseInt(selectedIndex.text)];\\n\\nreturn data[`${selected}_ys`][index].toString().substring(0, 5);\\n\"},\"id\":\"2046\",\"type\":\"CustomJSHover\"},{\"attributes\":{\"fill_alpha\":{\"value\":0.1},\"fill_color\":{\"value\":\"#000000\"},\"line_alpha\":{\"value\":0.1},\"line_color\":{\"value\":\"#000000\"},\"size\":{\"units\":\"screen\",\"value\":10},\"x\":{\"field\":\"xs\"},\"y\":{\"field\":\"rr_ys\"}},\"id\":\"2042\",\"type\":\"CircleCross\"},{\"attributes\":{\"line_alpha\":0.1,\"line_color\":\"#000000\",\"x\":{\"field\":\"xs\"},\"y\":{\"value\":0.72}},\"id\":\"2163\",\"type\":\"Line\"},{\"attributes\":{\"args\":{\"selectedIndex\":{\"id\":\"1941\"},\"src\":{\"id\":\"1942\"}},\"code\":\"\\nconst index = special_vars.index;\\nconst name = special_vars.name;\\nconst data = src.data;\\n\\n\\nconst column = ['ll', 'lm', 'lr', 'rl', 'rm', 'rr'];\\nreturn column[parseInt(selectedIndex.text)];\\n\"},\"id\":\"2047\",\"type\":\"CustomJSHover\"},{\"attributes\":{\"callback\":null,\"formatters\":{\"@ll_ys\":{\"id\":\"2046\"},\"@lm_ys\":{\"id\":\"2047\"},\"@xs\":{\"id\":\"2045\"}},\"point_policy\":\"follow_mouse\",\"renderers\":[{\"id\":\"1963\"},{\"id\":\"1973\"},{\"id\":\"1983\"},{\"id\":\"1993\"},{\"id\":\"2003\"},{\"id\":\"2013\"}],\"tooltips\":\"\\n<div>\\n  <font size=\\\"1pt\\\"><p>Iteration: @xs{custom}<br>\\nRisk: @ll_ys{custom}<br>\\nRisk SFKA: @lm_ys{custom}</p></font>\\n</div>\\n\"},\"id\":\"2048\",\"type\":\"HoverTool\"},{\"attributes\":{\"line_alpha\":0.1,\"line_color\":\"#000000\",\"x\":{\"field\":\"xs\"},\"y\":{\"value\":0.6}},\"id\":\"2159\",\"type\":\"Line\"},{\"attributes\":{\"data_source\":{\"id\":\"2070\"},\"glyph\":{\"id\":\"2158\"},\"hover_glyph\":null,\"muted_glyph\":null,\"nonselection_glyph\":{\"id\":\"2159\"},\"selection_glyph\":null,\"view\":{\"id\":\"2161\"}},\"id\":\"2160\",\"type\":\"GlyphRenderer\"},{\"attributes\":{\"sizing_mode\":\"stretch_width\",\"text\":\"Chances cannot be less than 0\",\"visible\":false},\"id\":\"2196\",\"type\":\"Div\"},{\"attributes\":{\"data\":{\"actions\":[null,null,null,null,null,null,null,null,null,null,null,null,null,null,null,null,null,null,null,null,null,null,null,null,null,null,null,null,null,null,null,null,null,null,null,null,null,null,null,null,null,null,null,null,null,null,null,null,null,null],\"avgs_placeholder\":[0,0,0,0,0,0,0,0,0,0,0,0,0,0,0,0,0,0,0,0,0,0,0,0,0,0,0,0,0,0,0,0,0,0,0,0,0,0,0,0,0,0,0,0,0,0,0,0,0,0],\"directions\":[null,null,null,null,null,null,null,null,null,null,null,null,null,null,null,null,null,null,null,null,null,null,null,null,null,null,null,null,null,null,null,null,null,null,null,null,null,null,null,null,null,null,null,null,null,null,null,null,null,null],\"feet\":[null,null,null,null,null,null,null,null,null,null,null,null,null,null,null,null,null,null,null,null,null,null,null,null,null,null,null,null,null,null,null,null,null,null,null,null,null,null,null,null,null,null,null,null,null,null,null,null,null,null],\"highlight_alphas\":[0,0,0,0,0,0,0,0,0,0,0,0,0,0,0,0,0,0,0,0,0,0,0,0,0,0,0,0,0,0,0,0,0,0,0,0,0,0,0,0,0,0,0,0,0,0,0,0,0,0],\"xs\":[1,2,3,4,5,6,7,8,9,10,11,12,13,14,15,16,17,18,19,20,21,22,23,24,25,26,27,28,29,30,31,32,33,34,35,36,37,38,39,40,41,42,43,44,45,46,47,48,49,50],\"ys\":[0,0,0,0,0,0,0,0,0,0,0,0,0,0,0,0,0,0,0,0,0,0,0,0,0,0,0,0,0,0,0,0,0,0,0,0,0,0,0,0,0,0,0,0,0,0,0,0,0,0]},\"selected\":{\"id\":\"2330\"},\"selection_policy\":{\"id\":\"2329\"}},\"id\":\"2070\",\"type\":\"ColumnDataSource\"},{\"attributes\":{\"source\":{\"id\":\"2070\"}},\"id\":\"2166\",\"type\":\"CDSView\"},{\"attributes\":{\"end\":50.5,\"start\":0.5},\"id\":\"2053\",\"type\":\"Range1d\"},{\"attributes\":{\"line_alpha\":0.1,\"line_color\":\"#000000\",\"x\":{\"field\":\"xs\"},\"y\":{\"value\":0.87}},\"id\":\"2168\",\"type\":\"Line\"},{\"attributes\":{},\"id\":\"2057\",\"type\":\"LinearScale\"},{\"attributes\":{\"line_alpha\":0.1,\"line_color\":\"#000000\",\"x\":{\"field\":\"xs\"},\"y\":{\"value\":0.72}},\"id\":\"2164\",\"type\":\"Line\"},{\"attributes\":{},\"id\":\"2059\",\"type\":\"LinearScale\"},{\"attributes\":{\"data_source\":{\"id\":\"2070\"},\"glyph\":{\"id\":\"2163\"},\"hover_glyph\":null,\"muted_glyph\":null,\"nonselection_glyph\":{\"id\":\"2164\"},\"selection_glyph\":null,\"view\":{\"id\":\"2166\"}},\"id\":\"2165\",\"type\":\"GlyphRenderer\"},{\"attributes\":{\"sizing_mode\":\"stretch_width\",\"text\":\"Select A CPU Strategy From the Dropdown\",\"visible\":false},\"id\":\"2195\",\"type\":\"Div\"},{\"attributes\":{\"start\":0.5},\"id\":\"2055\",\"type\":\"Range1d\"},{\"attributes\":{\"source\":{\"id\":\"2070\"}},\"id\":\"2171\",\"type\":\"CDSView\"},{\"attributes\":{\"formatter\":{\"id\":\"2275\"},\"ticker\":{\"id\":\"2062\"}},\"id\":\"2061\",\"type\":\"LinearAxis\"},{\"attributes\":{\"line_alpha\":0.1,\"line_color\":\"#000000\",\"x\":{\"field\":\"xs\"},\"y\":{\"value\":0.65}},\"id\":\"2173\",\"type\":\"Line\"},{\"attributes\":{},\"id\":\"2066\",\"type\":\"BasicTicker\"},{\"attributes\":{},\"id\":\"2062\",\"type\":\"BasicTicker\"},{\"attributes\":{\"line_alpha\":0.1,\"line_color\":\"#000000\",\"x\":{\"field\":\"xs\"},\"y\":{\"value\":0.87}},\"id\":\"2169\",\"type\":\"Line\"},{\"attributes\":{\"axis\":{\"id\":\"2061\"},\"grid_line_color\":\"black\",\"ticker\":null,\"visible\":false},\"id\":\"2064\",\"type\":\"Grid\"},{\"attributes\":{\"data_source\":{\"id\":\"2070\"},\"glyph\":{\"id\":\"2168\"},\"hover_glyph\":null,\"muted_glyph\":null,\"nonselection_glyph\":{\"id\":\"2169\"},\"selection_glyph\":null,\"view\":{\"id\":\"2171\"}},\"id\":\"2170\",\"type\":\"GlyphRenderer\"},{\"attributes\":{\"active_drag\":\"auto\",\"active_inspect\":\"auto\",\"active_multi\":null,\"active_scroll\":\"auto\",\"active_tap\":\"auto\",\"tools\":[{\"id\":\"2184\"}]},\"id\":\"2069\",\"type\":\"Toolbar\"},{\"attributes\":{\"axis\":{\"id\":\"2065\"},\"dimension\":1,\"grid_line_color\":\"black\",\"ticker\":null,\"visible\":false},\"id\":\"2068\",\"type\":\"Grid\"},{\"attributes\":{\"formatter\":{\"id\":\"2277\"},\"ticker\":{\"id\":\"2066\"}},\"id\":\"2065\",\"type\":\"LinearAxis\"},{\"attributes\":{\"source\":{\"id\":\"2070\"}},\"id\":\"2176\",\"type\":\"CDSView\"},{\"attributes\":{\"line_alpha\":0.1,\"line_color\":\"#000000\",\"x\":{\"field\":\"xs\"},\"y\":{\"value\":0.61}},\"id\":\"2178\",\"type\":\"Line\"},{\"attributes\":{\"line_alpha\":0.1,\"line_color\":\"#000000\",\"x\":{\"field\":\"xs\"},\"y\":{\"value\":0.65}},\"id\":\"2174\",\"type\":\"Line\"},{\"attributes\":{\"data_source\":{\"id\":\"2070\"},\"glyph\":{\"id\":\"2173\"},\"hover_glyph\":null,\"muted_glyph\":null,\"nonselection_glyph\":{\"id\":\"2174\"},\"selection_glyph\":null,\"view\":{\"id\":\"2176\"}},\"id\":\"2175\",\"type\":\"GlyphRenderer\"},{\"attributes\":{\"button_type\":\"success\",\"icon\":null,\"js_event_callbacks\":{\"button_click\":[{\"id\":\"2248\"}]},\"label\":\"Start\",\"sizing_mode\":\"scale_width\",\"visible\":false,\"width_policy\":\"fit\"},\"id\":\"2204\",\"type\":\"Button\"},{\"attributes\":{\"line_alpha\":0.1,\"line_color\":\"#000000\",\"x\":{\"field\":\"xs\"},\"y\":{\"value\":0.6}},\"id\":\"2114\",\"type\":\"Line\"},{\"attributes\":{\"data_source\":{\"id\":\"2070\"},\"glyph\":{\"id\":\"2108\"},\"hover_glyph\":null,\"muted_glyph\":null,\"nonselection_glyph\":{\"id\":\"2109\"},\"selection_glyph\":null,\"view\":{\"id\":\"2111\"}},\"id\":\"2110\",\"type\":\"GlyphRenderer\"},{\"attributes\":{\"source\":{\"id\":\"2070\"}},\"id\":\"2181\",\"type\":\"CDSView\"},{\"attributes\":{\"source\":{\"id\":\"2070\"}},\"id\":\"2111\",\"type\":\"CDSView\"},{\"attributes\":{\"line_alpha\":0.1,\"line_color\":\"#000000\",\"x\":{\"field\":\"xs\"},\"y\":{\"value\":0.6}},\"id\":\"2113\",\"type\":\"Line\"},{\"attributes\":{\"source\":{\"id\":\"2070\"}},\"id\":\"2116\",\"type\":\"CDSView\"},{\"attributes\":{\"args\":{\"src\":{\"id\":\"2070\"}},\"code\":\"\\nconst index = special_vars.index;\\nconst data = src.data;\\n\\nfunction avgRecursive(index) {\\n  let val = data['ys'][index];\\n  if(index > 0) {\\n    val += index * avgRecursive(index - 1);\\n    val = val / (index + 1);\\n  }\\n  return val;\\n}\\n\\nconst val = avgRecursive(index);\\n\\nreturn val.toString().substring(0,5);\\n\"},\"id\":\"2183\",\"type\":\"CustomJSHover\"},{\"attributes\":{\"line_alpha\":0.1,\"line_color\":\"#000000\",\"x\":{\"field\":\"xs\"},\"y\":{\"value\":0.74}},\"id\":\"2109\",\"type\":\"Line\"},{\"attributes\":{\"line_alpha\":0.1,\"line_color\":\"#000000\",\"x\":{\"field\":\"xs\"},\"y\":{\"value\":0.61}},\"id\":\"2179\",\"type\":\"Line\"},{\"attributes\":{\"background_fill_color\":\"white\",\"below\":[{\"id\":\"1788\"},{\"id\":\"1817\"},{\"id\":\"1820\"}],\"center\":[{\"id\":\"1791\"},{\"id\":\"1795\"}],\"left\":[{\"id\":\"1792\"}],\"outline_line_color\":null,\"plot_height\":360,\"renderers\":[{\"id\":\"1800\"},{\"id\":\"1805\"},{\"id\":\"1810\"},{\"id\":\"1815\"},{\"id\":\"1835\"},{\"id\":\"1840\"},{\"id\":\"1845\"},{\"id\":\"1850\"},{\"id\":\"1855\"},{\"id\":\"1860\"},{\"id\":\"1865\"},{\"id\":\"1870\"}],\"sizing_mode\":\"stretch_both\",\"title\":{\"id\":\"1778\"},\"toolbar\":{\"id\":\"1796\"},\"toolbar_location\":null,\"toolbar_sticky\":false,\"visible\":false,\"x_range\":{\"id\":\"1780\"},\"x_scale\":{\"id\":\"1784\"},\"y_range\":{\"id\":\"1782\"},\"y_scale\":{\"id\":\"1786\"}},\"id\":\"1777\",\"subtype\":\"Figure\",\"type\":\"Plot\"},{\"attributes\":{\"data_source\":{\"id\":\"2070\"},\"glyph\":{\"id\":\"2178\"},\"hover_glyph\":null,\"muted_glyph\":null,\"nonselection_glyph\":{\"id\":\"2179\"},\"selection_glyph\":null,\"view\":{\"id\":\"2181\"}},\"id\":\"2180\",\"type\":\"GlyphRenderer\"},{\"attributes\":{\"button_type\":\"success\",\"icon\":null,\"js_event_callbacks\":{\"button_click\":[{\"id\":\"2242\"}]},\"label\":\"Make Counter\",\"sizing_mode\":\"scale_width\",\"visible\":false,\"width_policy\":\"fit\"},\"id\":\"2206\",\"type\":\"Button\"},{\"attributes\":{\"fill_alpha\":{\"value\":0.1},\"fill_color\":{\"value\":\"#000000\"},\"line_alpha\":{\"value\":0.1},\"line_color\":{\"value\":\"#000000\"},\"size\":{\"units\":\"screen\",\"value\":10},\"x\":{\"field\":\"xs\"},\"y\":{\"field\":\"lr_ys\"}},\"id\":\"2027\",\"type\":\"CircleCross\"},{\"attributes\":{\"fill_alpha\":{\"value\":0},\"fill_color\":{\"value\":\"#1f77b4\"},\"height\":{\"field\":\"hb4\",\"units\":\"data\"},\"line_alpha\":{\"value\":0},\"line_color\":{\"value\":\"#1f77b4\"},\"width\":{\"units\":\"data\",\"value\":1},\"x\":{\"field\":\"xs\"},\"y\":{\"field\":\"hb4\",\"transform\":{\"id\":\"1950\"}}},\"id\":\"1991\",\"type\":\"Rect\"},{\"attributes\":{\"source\":{\"id\":\"2070\"}},\"id\":\"2101\",\"type\":\"CDSView\"},{\"attributes\":{\"fill_color\":{\"value\":\"#AFAFC8\"},\"line_color\":{\"value\":\"#9696AF\"},\"size\":{\"units\":\"screen\",\"value\":5},\"x\":{\"field\":\"xs\"},\"y\":{\"field\":\"rm_ys\"}},\"id\":\"1996\",\"type\":\"CircleCross\"},{\"attributes\":{\"line_alpha\":0.1,\"line_color\":\"#000000\",\"x\":{\"field\":\"xs\"},\"y\":{\"value\":0.95}},\"id\":\"2123\",\"type\":\"Line\"},{\"attributes\":{\"source\":{\"id\":\"1942\"}},\"id\":\"1994\",\"type\":\"CDSView\"},{\"attributes\":{\"fill_alpha\":{\"value\":0.1},\"fill_color\":{\"value\":\"#1f77b4\"},\"height\":{\"field\":\"hb4\",\"units\":\"data\"},\"line_alpha\":{\"value\":0.1},\"line_color\":{\"value\":\"#1f77b4\"},\"width\":{\"units\":\"data\",\"value\":1},\"x\":{\"field\":\"xs\"},\"y\":{\"field\":\"hb4\",\"transform\":{\"id\":\"1950\"}}},\"id\":\"1992\",\"type\":\"Rect\"},{\"attributes\":{\"source\":{\"id\":\"2070\"}},\"id\":\"2126\",\"type\":\"CDSView\"},{\"attributes\":{\"data_source\":{\"id\":\"1942\"},\"glyph\":{\"id\":\"1991\"},\"hover_glyph\":null,\"muted_glyph\":null,\"name\":\"2\",\"nonselection_glyph\":{\"id\":\"1992\"},\"selection_glyph\":null,\"view\":{\"id\":\"1994\"}},\"id\":\"1993\",\"type\":\"GlyphRenderer\"},{\"attributes\":{\"fill_alpha\":{\"value\":0.1},\"fill_color\":{\"value\":\"#000000\"},\"line_alpha\":{\"value\":0.1},\"line_color\":{\"value\":\"#000000\"},\"size\":{\"units\":\"screen\",\"value\":10},\"x\":{\"field\":\"xs\"},\"y\":{\"field\":\"rm_ys\"}},\"id\":\"2037\",\"type\":\"CircleCross\"},{\"attributes\":{\"line_alpha\":0.1,\"line_color\":\"#000000\",\"x\":{\"field\":\"xs\"},\"y\":{\"value\":0.73}},\"id\":\"2128\",\"type\":\"Line\"},{\"attributes\":{\"data_source\":{\"id\":\"1942\"},\"glyph\":{\"id\":\"2026\"},\"hover_glyph\":null,\"muted_glyph\":null,\"nonselection_glyph\":{\"id\":\"2027\"},\"selection_glyph\":null,\"view\":{\"id\":\"2029\"}},\"id\":\"2028\",\"type\":\"GlyphRenderer\"},{\"attributes\":{\"fill_color\":{\"value\":\"#C8AFC8\"},\"line_color\":{\"value\":\"#AF96AF\"},\"size\":{\"units\":\"screen\",\"value\":5},\"x\":{\"field\":\"xs\"},\"y\":{\"field\":\"rr_ys\"}},\"id\":\"2006\",\"type\":\"CircleCross\"},{\"attributes\":{\"line_alpha\":0.1,\"line_color\":\"#000000\",\"x\":{\"field\":\"xs\"},\"y\":{\"value\":0.95}},\"id\":\"2124\",\"type\":\"Line\"},{\"attributes\":{\"data_source\":{\"id\":\"2070\"},\"glyph\":{\"id\":\"2123\"},\"hover_glyph\":null,\"muted_glyph\":null,\"nonselection_glyph\":{\"id\":\"2124\"},\"selection_glyph\":null,\"view\":{\"id\":\"2126\"}},\"id\":\"2125\",\"type\":\"GlyphRenderer\"},{\"attributes\":{\"source\":{\"id\":\"1942\"}},\"id\":\"1999\",\"type\":\"CDSView\"},{\"attributes\":{\"source\":{\"id\":\"2070\"}},\"id\":\"2131\",\"type\":\"CDSView\"},{\"attributes\":{\"data_source\":{\"id\":\"1942\"},\"glyph\":{\"id\":\"1996\"},\"hover_glyph\":null,\"muted_glyph\":null,\"nonselection_glyph\":{\"id\":\"1997\"},\"selection_glyph\":null,\"view\":{\"id\":\"1999\"}},\"id\":\"1998\",\"type\":\"GlyphRenderer\"},{\"attributes\":{\"line_alpha\":0.1,\"line_color\":\"#000000\",\"x\":{\"field\":\"xs\"},\"y\":{\"value\":0.7}},\"id\":\"2133\",\"type\":\"Line\"},{\"attributes\":{\"source\":{\"id\":\"1942\"}},\"id\":\"2029\",\"type\":\"CDSView\"},{\"attributes\":{\"fill_alpha\":{\"value\":0.1},\"fill_color\":{\"value\":\"#AFAFC8\"},\"line_alpha\":{\"value\":0.1},\"line_color\":{\"value\":\"#9696AF\"},\"size\":{\"units\":\"screen\",\"value\":5},\"x\":{\"field\":\"xs\"},\"y\":{\"field\":\"rm_ys\"}},\"id\":\"1997\",\"type\":\"CircleCross\"},{\"attributes\":{\"js_property_callbacks\":{\"change:text\":[{\"id\":\"2240\"}]},\"text\":\"false\",\"visible\":false},\"id\":\"2202\",\"type\":\"Div\"},{\"attributes\":{\"line_alpha\":0.1,\"line_color\":\"#000000\",\"x\":{\"field\":\"xs\"},\"y\":{\"value\":0.73}},\"id\":\"2129\",\"type\":\"Line\"},{\"attributes\":{\"data_source\":{\"id\":\"2070\"},\"glyph\":{\"id\":\"2128\"},\"hover_glyph\":null,\"muted_glyph\":null,\"nonselection_glyph\":{\"id\":\"2129\"},\"selection_glyph\":null,\"view\":{\"id\":\"2131\"}},\"id\":\"2130\",\"type\":\"GlyphRenderer\"},{\"attributes\":{\"source\":{\"id\":\"1942\"}},\"id\":\"2004\",\"type\":\"CDSView\"},{\"attributes\":{\"fill_alpha\":{\"value\":0.1},\"fill_color\":{\"value\":\"#1f77b4\"},\"height\":{\"field\":\"hb5\",\"units\":\"data\"},\"line_alpha\":{\"value\":0.1},\"line_color\":{\"value\":\"#1f77b4\"},\"width\":{\"units\":\"data\",\"value\":1},\"x\":{\"field\":\"xs\"},\"y\":{\"field\":\"hb5\",\"transform\":{\"id\":\"1952\"}}},\"id\":\"2002\",\"type\":\"Rect\"},{\"attributes\":{\"source\":{\"id\":\"2070\"}},\"id\":\"2136\",\"type\":\"CDSView\"},{\"attributes\":{\"data_source\":{\"id\":\"1942\"},\"glyph\":{\"id\":\"2001\"},\"hover_glyph\":null,\"muted_glyph\":null,\"name\":\"1\",\"nonselection_glyph\":{\"id\":\"2002\"},\"selection_glyph\":null,\"view\":{\"id\":\"2004\"}},\"id\":\"2003\",\"type\":\"GlyphRenderer\"},{\"attributes\":{\"line_alpha\":0.1,\"line_color\":\"#000000\",\"x\":{\"field\":\"xs\"},\"y\":{\"value\":0.67}},\"id\":\"2138\",\"type\":\"Line\"},{\"attributes\":{\"js_property_callbacks\":{\"change:text\":[{\"id\":\"2239\"}]},\"text\":\"1\",\"visible\":false},\"id\":\"2200\",\"type\":\"Div\"},{\"attributes\":{\"line_alpha\":0.1,\"line_color\":\"#000000\",\"x\":{\"field\":\"xs\"},\"y\":{\"value\":0.7}},\"id\":\"2134\",\"type\":\"Line\"},{\"attributes\":{\"data_source\":{\"id\":\"2070\"},\"glyph\":{\"id\":\"2133\"},\"hover_glyph\":null,\"muted_glyph\":null,\"nonselection_glyph\":{\"id\":\"2134\"},\"selection_glyph\":null,\"view\":{\"id\":\"2136\"}},\"id\":\"2135\",\"type\":\"GlyphRenderer\"},{\"attributes\":{\"source\":{\"id\":\"1942\"}},\"id\":\"2034\",\"type\":\"CDSView\"},{\"attributes\":{\"source\":{\"id\":\"2070\"}},\"id\":\"2141\",\"type\":\"CDSView\"},{\"attributes\":{\"source\":{\"id\":\"1942\"}},\"id\":\"2009\",\"type\":\"CDSView\"},{\"attributes\":{\"fill_alpha\":{\"value\":0},\"fill_color\":{\"value\":\"#1f77b4\"},\"height\":{\"field\":\"hb6\",\"units\":\"data\"},\"line_alpha\":{\"value\":0},\"line_color\":{\"value\":\"#1f77b4\"},\"width\":{\"units\":\"data\",\"value\":1},\"x\":{\"field\":\"xs\"},\"y\":{\"field\":\"hb6\",\"transform\":{\"id\":\"1954\"}}},\"id\":\"2011\",\"type\":\"Rect\"},{\"attributes\":{\"line_alpha\":0.1,\"line_color\":\"#000000\",\"x\":{\"field\":\"xs\"},\"y\":{\"value\":0.7}},\"id\":\"2143\",\"type\":\"Line\"},{\"attributes\":{\"data_source\":{\"id\":\"1942\"},\"glyph\":{\"id\":\"2006\"},\"hover_glyph\":null,\"muted_glyph\":null,\"nonselection_glyph\":{\"id\":\"2007\"},\"selection_glyph\":null,\"view\":{\"id\":\"2009\"}},\"id\":\"2008\",\"type\":\"GlyphRenderer\"},{\"attributes\":{\"js_property_callbacks\":{\"change:text\":[{\"id\":\"2239\"}]},\"text\":\"1\",\"visible\":false},\"id\":\"2199\",\"type\":\"Div\"},{\"attributes\":{\"fill_alpha\":{\"value\":0.1},\"fill_color\":{\"value\":\"#C8AFC8\"},\"line_alpha\":{\"value\":0.1},\"line_color\":{\"value\":\"#AF96AF\"},\"size\":{\"units\":\"screen\",\"value\":5},\"x\":{\"field\":\"xs\"},\"y\":{\"field\":\"rr_ys\"}},\"id\":\"2007\",\"type\":\"CircleCross\"},{\"attributes\":{\"line_alpha\":0.1,\"line_color\":\"#000000\",\"x\":{\"field\":\"xs\"},\"y\":{\"value\":0.67}},\"id\":\"2139\",\"type\":\"Line\"},{\"attributes\":{\"data_source\":{\"id\":\"2070\"},\"glyph\":{\"id\":\"2138\"},\"hover_glyph\":null,\"muted_glyph\":null,\"nonselection_glyph\":{\"id\":\"2139\"},\"selection_glyph\":null,\"view\":{\"id\":\"2141\"}},\"id\":\"2140\",\"type\":\"GlyphRenderer\"},{\"attributes\":{\"js_property_callbacks\":{\"change:text\":[{\"id\":\"2239\"}]},\"text\":\"0\",\"visible\":false},\"id\":\"2201\",\"type\":\"Div\"},{\"attributes\":{\"fill_alpha\":{\"field\":\"highlight_alphas\",\"transform\":{\"id\":\"1949\"}},\"fill_color\":{\"value\":\"#000000\"},\"line_alpha\":{\"field\":\"highlight_alphas\",\"transform\":{\"id\":\"1949\"}},\"line_color\":{\"value\":\"#000000\"},\"size\":{\"units\":\"screen\",\"value\":10},\"x\":{\"field\":\"xs\"},\"y\":{\"field\":\"rl_ys\"}},\"id\":\"2031\",\"type\":\"CircleCross\"},{\"attributes\":{\"fill_alpha\":{\"field\":\"highlight_alphas\",\"transform\":{\"id\":\"1951\"}},\"fill_color\":{\"value\":\"#000000\"},\"line_alpha\":{\"field\":\"highlight_alphas\",\"transform\":{\"id\":\"1951\"}},\"line_color\":{\"value\":\"#000000\"},\"size\":{\"units\":\"screen\",\"value\":10},\"x\":{\"field\":\"xs\"},\"y\":{\"field\":\"rm_ys\"}},\"id\":\"2036\",\"type\":\"CircleCross\"},{\"attributes\":{\"source\":{\"id\":\"2070\"}},\"id\":\"2146\",\"type\":\"CDSView\"},{\"attributes\":{\"fill_alpha\":{\"field\":\"highlight_alphas\",\"transform\":{\"id\":\"1947\"}},\"fill_color\":{\"value\":\"#000000\"},\"line_alpha\":{\"field\":\"highlight_alphas\",\"transform\":{\"id\":\"1947\"}},\"line_color\":{\"value\":\"#000000\"},\"size\":{\"units\":\"screen\",\"value\":10},\"x\":{\"field\":\"xs\"},\"y\":{\"field\":\"lr_ys\"}},\"id\":\"2026\",\"type\":\"CircleCross\"},{\"attributes\":{\"line_alpha\":0.1,\"line_color\":\"#000000\",\"x\":{\"field\":\"xs\"},\"y\":{\"value\":0.96}},\"id\":\"2148\",\"type\":\"Line\"},{\"attributes\":{\"data_source\":{\"id\":\"2070\"},\"glyph\":{\"id\":\"2118\"},\"hover_glyph\":null,\"muted_glyph\":null,\"nonselection_glyph\":{\"id\":\"2119\"},\"selection_glyph\":null,\"view\":{\"id\":\"2121\"}},\"id\":\"2120\",\"type\":\"GlyphRenderer\"},{\"attributes\":{\"line_alpha\":0.1,\"line_color\":\"#000000\",\"x\":{\"field\":\"xs\"},\"y\":{\"value\":0.96}},\"id\":\"2149\",\"type\":\"Line\"},{\"attributes\":{\"line_alpha\":0.1,\"line_color\":\"#000000\",\"x\":{\"field\":\"xs\"},\"y\":{\"value\":0.7}},\"id\":\"2144\",\"type\":\"Line\"},{\"attributes\":{\"data_source\":{\"id\":\"2070\"},\"glyph\":{\"id\":\"2143\"},\"hover_glyph\":null,\"muted_glyph\":null,\"nonselection_glyph\":{\"id\":\"2144\"},\"selection_glyph\":null,\"view\":{\"id\":\"2146\"}},\"id\":\"2145\",\"type\":\"GlyphRenderer\"},{\"attributes\":{\"button_type\":\"success\",\"icon\":null,\"js_event_callbacks\":{\"button_click\":[{\"id\":\"2249\"}]},\"label\":\"Next\",\"sizing_mode\":\"scale_width\",\"visible\":false,\"width_policy\":\"fit\"},\"id\":\"2205\",\"type\":\"Button\"},{\"attributes\":{\"data_source\":{\"id\":\"1942\"},\"glyph\":{\"id\":\"2031\"},\"hover_glyph\":null,\"muted_glyph\":null,\"nonselection_glyph\":{\"id\":\"2032\"},\"selection_glyph\":null,\"view\":{\"id\":\"2034\"}},\"id\":\"2033\",\"type\":\"GlyphRenderer\"},{\"attributes\":{\"source\":{\"id\":\"2070\"}},\"id\":\"2151\",\"type\":\"CDSView\"},{\"attributes\":{\"button_type\":\"success\",\"icon\":null,\"js_event_callbacks\":{\"button_click\":[{\"id\":\"2238\"}]},\"label\":\"Automate\",\"sizing_mode\":\"scale_width\",\"width_policy\":\"fit\"},\"id\":\"2203\",\"type\":\"Button\"},{\"attributes\":{\"fill_alpha\":{\"value\":0.1},\"fill_color\":{\"value\":\"#000000\"},\"line_alpha\":{\"value\":0.1},\"line_color\":{\"value\":\"#000000\"},\"size\":{\"units\":\"screen\",\"value\":10},\"x\":{\"field\":\"xs\"},\"y\":{\"field\":\"rl_ys\"}},\"id\":\"2032\",\"type\":\"CircleCross\"},{\"attributes\":{\"data_source\":{\"id\":\"2070\"},\"glyph\":{\"id\":\"2148\"},\"hover_glyph\":null,\"muted_glyph\":null,\"nonselection_glyph\":{\"id\":\"2149\"},\"selection_glyph\":null,\"view\":{\"id\":\"2151\"}},\"id\":\"2150\",\"type\":\"GlyphRenderer\"},{\"attributes\":{\"data_source\":{\"id\":\"2186\"},\"glyph\":{\"id\":\"2187\"},\"hover_glyph\":null,\"muted_glyph\":null,\"view\":{\"id\":\"2189\"}},\"id\":\"2188\",\"type\":\"GlyphRenderer\"}],\"root_ids\":[\"2431\"]},\"title\":\"Bokeh Application\",\"version\":\"2.2.3\"}};\n",
       "  var render_items = [{\"docid\":\"97cf7c23-0f6b-4127-8d39-d90326e449f7\",\"root_ids\":[\"2431\"],\"roots\":{\"2431\":\"0bc9be91-b943-4811-8cd1-239791eaa2d7\"}}];\n",
       "  root.Bokeh.embed.embed_items_notebook(docs_json, render_items);\n",
       "\n",
       "  }\n",
       "  if (root.Bokeh !== undefined) {\n",
       "    embed_document(root);\n",
       "  } else {\n",
       "    var attempts = 0;\n",
       "    var timer = setInterval(function(root) {\n",
       "      if (root.Bokeh !== undefined) {\n",
       "        clearInterval(timer);\n",
       "        embed_document(root);\n",
       "      } else {\n",
       "        attempts++;\n",
       "        if (attempts > 100) {\n",
       "          clearInterval(timer);\n",
       "          console.log(\"Bokeh: ERROR: Unable to run BokehJS code because BokehJS library is missing\");\n",
       "        }\n",
       "      }\n",
       "    }, 10, root)\n",
       "  }\n",
       "})(window);"
      ],
      "application/vnd.bokehjs_exec.v0+json": ""
     },
     "metadata": {
      "application/vnd.bokehjs_exec.v0+json": {
       "id": "2431"
      }
     },
     "output_type": "display_data"
    }
   ],
   "source": [
    "# Shows the game so that you can play it. CAN BE RE-RUN TO REDO THE DEMO.\n",
    "show(demo2)"
   ]
  },
  {
   "cell_type": "markdown",
   "metadata": {},
   "source": [
    "<div>\n",
    "  <h3>Analyzing The Payout Matrices</h3>\n",
    "\n",
    "  <p>Now, we will break the game down into the <i>left</i> and <i>right -footed kicker subgames</i> to simplify the problem.</p>\n",
    "</div>"
   ]
  },
  {
   "cell_type": "markdown",
   "metadata": {},
   "source": [
    "<div style=\"align: left; text-align:center;\">\n",
    "  <table style=\"width:60%\">\n",
    "    <tr>\n",
    "      <th>Scoring Probability</th>\n",
    "      <th>LL</th>\n",
    "      <th>LM</th>\n",
    "      <th>LR</th>\n",
    "      <th>ML</th>\n",
    "      <th>MM</th>\n",
    "      <th>MR</th>\n",
    "      <th>RL</th>\n",
    "      <th>RM</th>\n",
    "      <th>RR</th>\n",
    "    </tr>\n",
    "    <tr>\n",
    "      <td><b>Right-footed kicker</b></td>\n",
    "      <td>$0.55$</td>\n",
    "      <td>$0.65$</td>\n",
    "      <td>$0.93$</td>\n",
    "      <td>$0.74$</td>\n",
    "      <td>$0.60$</td>\n",
    "      <td>$0.72$</td>\n",
    "      <td>$0.95$</td>\n",
    "      <td>$0.73$</td>\n",
    "      <td>$0.70$</td>\n",
    "    </tr>\n",
    "    <tr>\n",
    "      <td><b>Left-footed kicker</b></td>\n",
    "      <td>$0.67$</td>\n",
    "      <td>$0.70$</td>\n",
    "      <td>$0.96$</td>\n",
    "      <td>$0.74$</td>\n",
    "      <td>$0.60$</td>\n",
    "      <td>$0.72$</td>\n",
    "      <td>$0.87$</td>\n",
    "      <td>$0.65$</td>\n",
    "      <td>$0.61$</td>\n",
    "    </tr>\n",
    "  </table>\n",
    "  <div class=\"caption\">Table $1$: The Column headers indicate kicker kick, keeper dive directions.</div>\n",
    "</div>\n",
    "\n",
    "<br>\n",
    "\n",
    "<div>\n",
    "  <p><b>Q8:</b> Use Table 1 to write down the $3$x$3$ payoff matrices for <b>both</b> games.</p>\n",
    "\n",
    "  <p><b>A:</b><font color='blue'> Answer revealed below.</font></p>\n",
    "</div>"
   ]
  },
  {
   "cell_type": "markdown",
   "metadata": {},
   "source": [
    "<div>\n",
    "  <p><b>Q9:</b> In each matrix, do any pure strategies dominate another pure strategy?</p>\n",
    "\n",
    "  <p><b>A:</b><font color='blue'> No.</font></p>\n",
    "</div>"
   ]
  },
  {
   "cell_type": "markdown",
   "metadata": {},
   "source": [
    "<div>\n",
    "  <p>Run the following cell to see the correct payoff matrices for both of the sub-games. Here, the kicker is the row player and the keeper is the column player. <b>If they do not match your answer, consider why. Use these payoff matrices for the following computations.</b></p>\n",
    "</div>"
   ]
  },
  {
   "cell_type": "code",
   "execution_count": 5,
   "metadata": {},
   "outputs": [
    {
     "data": {
      "text/html": [
       "<div>\n",
       "<style scoped>\n",
       "    .dataframe tbody tr th:only-of-type {\n",
       "        vertical-align: middle;\n",
       "    }\n",
       "\n",
       "    .dataframe tbody tr th {\n",
       "        vertical-align: top;\n",
       "    }\n",
       "\n",
       "    .dataframe thead th {\n",
       "        text-align: right;\n",
       "    }\n",
       "</style>\n",
       "<table border=\"1\" class=\"dataframe\">\n",
       "  <thead>\n",
       "    <tr style=\"text-align: right;\">\n",
       "      <th></th>\n",
       "      <th></th>\n",
       "      <th></th>\n",
       "      <th></th>\n",
       "    </tr>\n",
       "    <tr>\n",
       "      <th></th>\n",
       "      <th></th>\n",
       "      <th></th>\n",
       "      <th></th>\n",
       "    </tr>\n",
       "  </thead>\n",
       "  <tbody>\n",
       "    <tr>\n",
       "      <th>Left-footed kicker</th>\n",
       "      <td>L</td>\n",
       "      <td>M</td>\n",
       "      <td>R</td>\n",
       "    </tr>\n",
       "    <tr>\n",
       "      <th>L</th>\n",
       "      <td>0.67</td>\n",
       "      <td>0.7</td>\n",
       "      <td>0.96</td>\n",
       "    </tr>\n",
       "    <tr>\n",
       "      <th>M</th>\n",
       "      <td>0.74</td>\n",
       "      <td>0.6</td>\n",
       "      <td>0.72</td>\n",
       "    </tr>\n",
       "    <tr>\n",
       "      <th>R</th>\n",
       "      <td>0.87</td>\n",
       "      <td>0.65</td>\n",
       "      <td>0.61</td>\n",
       "    </tr>\n",
       "  </tbody>\n",
       "</table>\n",
       "</div>"
      ],
      "text/plain": [
       "                                    \n",
       "                                    \n",
       "Left-footed kicker     L     M     R\n",
       "L                   0.67   0.7  0.96\n",
       "M                   0.74   0.6  0.72\n",
       "R                   0.87  0.65  0.61"
      ]
     },
     "metadata": {},
     "output_type": "display_data"
    },
    {
     "data": {
      "text/html": [
       "<div>\n",
       "<style scoped>\n",
       "    .dataframe tbody tr th:only-of-type {\n",
       "        vertical-align: middle;\n",
       "    }\n",
       "\n",
       "    .dataframe tbody tr th {\n",
       "        vertical-align: top;\n",
       "    }\n",
       "\n",
       "    .dataframe thead th {\n",
       "        text-align: right;\n",
       "    }\n",
       "</style>\n",
       "<table border=\"1\" class=\"dataframe\">\n",
       "  <thead>\n",
       "    <tr style=\"text-align: right;\">\n",
       "      <th></th>\n",
       "      <th></th>\n",
       "      <th></th>\n",
       "      <th></th>\n",
       "    </tr>\n",
       "    <tr>\n",
       "      <th></th>\n",
       "      <th></th>\n",
       "      <th></th>\n",
       "      <th></th>\n",
       "    </tr>\n",
       "  </thead>\n",
       "  <tbody>\n",
       "    <tr>\n",
       "      <th>Right-footed kicker</th>\n",
       "      <td>L</td>\n",
       "      <td>M</td>\n",
       "      <td>R</td>\n",
       "    </tr>\n",
       "    <tr>\n",
       "      <th>L</th>\n",
       "      <td>0.55</td>\n",
       "      <td>0.65</td>\n",
       "      <td>0.93</td>\n",
       "    </tr>\n",
       "    <tr>\n",
       "      <th>M</th>\n",
       "      <td>0.74</td>\n",
       "      <td>0.6</td>\n",
       "      <td>0.72</td>\n",
       "    </tr>\n",
       "    <tr>\n",
       "      <th>R</th>\n",
       "      <td>0.95</td>\n",
       "      <td>0.73</td>\n",
       "      <td>0.7</td>\n",
       "    </tr>\n",
       "  </tbody>\n",
       "</table>\n",
       "</div>"
      ],
      "text/plain": [
       "                                        \n",
       "                                        \n",
       "Right-footed kicker     L     M        R\n",
       "L                    0.55  0.65     0.93\n",
       "M                    0.74   0.6     0.72\n",
       "R                    0.95  0.73      0.7"
      ]
     },
     "metadata": {},
     "output_type": "display_data"
    }
   ],
   "source": [
    "left = pd.read_csv(\"data/left_subgame.csv\", index_col=0)\n",
    "right = pd.read_csv(\"data/right_subgame.csv\", index_col=0)\n",
    "display(left, right)"
   ]
  },
  {
   "cell_type": "markdown",
   "metadata": {},
   "source": [
    "<div>\n",
    "  <br>\n",
    "  <p><big><strong>In lecture and the handout, you learned about dominance through pure strategies. Similarly, Mixed strategies can also achieve dominance.</strong></big></p>\n",
    "\n",
    "  <p><b>First, consider the right-footed kicker sub-game.</b><p>\n",
    "</div>"
   ]
  },
  {
   "cell_type": "markdown",
   "metadata": {},
   "source": [
    "<div>\n",
    "  <p><b>Q10:</b> What are the expected payoffs for the kicker's $50/50$ mixed strategy between kicking to the left or right? You should give the strategy's expected payoffs for each of the possible keeper actions (diving to the left ($L$), middle ($M$), or right ($R$)).</p>\n",
    "\n",
    "  <p><b>A:</b><font color='blue'> The expected payoffs are:<br>\n",
    "$(L) : \\frac{1}{2}(0.55) + \\frac{1}{2}(0.95) = 0.75$<br>\n",
    "$(M) : \\frac{1}{2}(0.65) + \\frac{1}{2}(0.73) = 0.69$<br>\n",
    "$(R) : \\frac{1}{2}(0.93) + \\frac{1}{2}(0.70) = 0.815$</font></p>\n",
    "</div>"
   ]
  },
  {
   "cell_type": "markdown",
   "metadata": {},
   "source": [
    "<div>\n",
    "  <font color='red'><p>Possibly combine with <b>Q10</b>?</p></font>\n",
    "\n",
    "  <p><b>Q11:</b> Does the kicker's $50/50$ mixed strategy from <b>Q10</b> dominate any of their pure strategies? If so, which?</p>\n",
    "\n",
    "  <p><b>A:</b><font color='blue'> It dominates the pure strategy of kicking to the middle, as its ($L$, $M$, $R$) payoff values are higher.</font></p>\n",
    "</div>"
   ]
  },
  {
   "cell_type": "markdown",
   "metadata": {},
   "source": [
    "<a id=\"right sub -r_M\"></a>\n",
    "<div>\n",
    "  <p><b>You should have found that the pure strategy of kicking to the middle is dominated. As it will therefore never be played, it can be removed from the payoff matrix (See cell below).</b></p>\n",
    "</div>"
   ]
  },
  {
   "cell_type": "code",
   "execution_count": 6,
   "metadata": {},
   "outputs": [
    {
     "data": {
      "text/html": [
       "<div>\n",
       "<style scoped>\n",
       "    .dataframe tbody tr th:only-of-type {\n",
       "        vertical-align: middle;\n",
       "    }\n",
       "\n",
       "    .dataframe tbody tr th {\n",
       "        vertical-align: top;\n",
       "    }\n",
       "\n",
       "    .dataframe thead th {\n",
       "        text-align: right;\n",
       "    }\n",
       "</style>\n",
       "<table border=\"1\" class=\"dataframe\">\n",
       "  <thead>\n",
       "    <tr style=\"text-align: right;\">\n",
       "      <th></th>\n",
       "      <th></th>\n",
       "      <th></th>\n",
       "      <th></th>\n",
       "    </tr>\n",
       "    <tr>\n",
       "      <th></th>\n",
       "      <th></th>\n",
       "      <th></th>\n",
       "      <th></th>\n",
       "    </tr>\n",
       "  </thead>\n",
       "  <tbody>\n",
       "    <tr>\n",
       "      <th>Right-footed kicker</th>\n",
       "      <td>L</td>\n",
       "      <td>M</td>\n",
       "      <td>R</td>\n",
       "    </tr>\n",
       "    <tr>\n",
       "      <th>L</th>\n",
       "      <td>0.55</td>\n",
       "      <td>0.65</td>\n",
       "      <td>0.93</td>\n",
       "    </tr>\n",
       "    <tr>\n",
       "      <th>R</th>\n",
       "      <td>0.95</td>\n",
       "      <td>0.73</td>\n",
       "      <td>0.7</td>\n",
       "    </tr>\n",
       "  </tbody>\n",
       "</table>\n",
       "</div>"
      ],
      "text/plain": [
       "                                        \n",
       "                                        \n",
       "Right-footed kicker     L     M        R\n",
       "L                    0.55  0.65     0.93\n",
       "R                    0.95  0.73      0.7"
      ]
     },
     "execution_count": 6,
     "metadata": {},
     "output_type": "execute_result"
    }
   ],
   "source": [
    "# Remove kicker kicks to the middle pure strategy\n",
    "right.drop('M')"
   ]
  },
  {
   "cell_type": "markdown",
   "metadata": {},
   "source": [
    "<div>\n",
    "  <p><b>Q12:</b> Does the keeper's $50/50$ mixed strategy between diving left or right dominate their pure strategy of staying in the middle? Why or why not?</p>\n",
    "\n",
    "  <p><b>A:</b><font color='blue'> <b>No.</b> The mixed strategy's expected payoffs for the kicker's different actions are:<br>\n",
    "$(L) : \\frac{1}{2}(0.55) + \\frac{1}{2}(0.93) = 0.74$<br>\n",
    "$(R) : \\frac{1}{2}(0.95) + \\frac{1}{2}(0.70) = 0.825$</font></p>\n",
    "\n",
    "  <font color='blue'><p>As the mixed strategy's expected payoff is higher for at least $1$ kicker action, and the keeper's aim is to minimize the kicker's goal scoring chance, <b>it does not dominate the pure strategy of staying in the middle.</b></p></font>\n",
    "</div>"
   ]
  },
  {
   "cell_type": "markdown",
   "metadata": {},
   "source": [
    "<div><p><b>Now consider the left-footed kicker sub-game.</b></p></div>"
   ]
  },
  {
   "cell_type": "markdown",
   "metadata": {},
   "source": [
    "<div>\n",
    "  <p><b>Q13:</b> Simplify the payoff matrix to a $3$x$2$ by eliminating any dominated pure strategies. (Hint: It simplifies in a similar fashion to the right-footed kicker payoff matrix.)</p>\n",
    "\n",
    "  <p><b>A:</b><font color='blue'> Again, the kicker's $50/50$ mixed strategy between kicking to the left or right dominates their pure strategy of staying in the middle.</font></p>\n",
    "</div>"
   ]
  },
  {
   "cell_type": "code",
   "execution_count": 7,
   "metadata": {},
   "outputs": [
    {
     "data": {
      "text/html": [
       "<div>\n",
       "<style scoped>\n",
       "    .dataframe tbody tr th:only-of-type {\n",
       "        vertical-align: middle;\n",
       "    }\n",
       "\n",
       "    .dataframe tbody tr th {\n",
       "        vertical-align: top;\n",
       "    }\n",
       "\n",
       "    .dataframe thead th {\n",
       "        text-align: right;\n",
       "    }\n",
       "</style>\n",
       "<table border=\"1\" class=\"dataframe\">\n",
       "  <thead>\n",
       "    <tr style=\"text-align: right;\">\n",
       "      <th></th>\n",
       "      <th></th>\n",
       "      <th></th>\n",
       "      <th></th>\n",
       "    </tr>\n",
       "    <tr>\n",
       "      <th></th>\n",
       "      <th></th>\n",
       "      <th></th>\n",
       "      <th></th>\n",
       "    </tr>\n",
       "  </thead>\n",
       "  <tbody>\n",
       "    <tr>\n",
       "      <th>Left-footed kicker</th>\n",
       "      <td>L</td>\n",
       "      <td>M</td>\n",
       "      <td>R</td>\n",
       "    </tr>\n",
       "    <tr>\n",
       "      <th>L</th>\n",
       "      <td>0.67</td>\n",
       "      <td>0.7</td>\n",
       "      <td>0.96</td>\n",
       "    </tr>\n",
       "    <tr>\n",
       "      <th>R</th>\n",
       "      <td>0.87</td>\n",
       "      <td>0.65</td>\n",
       "      <td>0.61</td>\n",
       "    </tr>\n",
       "  </tbody>\n",
       "</table>\n",
       "</div>"
      ],
      "text/plain": [
       "                                    \n",
       "                                    \n",
       "Left-footed kicker     L     M     R\n",
       "L                   0.67   0.7  0.96\n",
       "R                   0.87  0.65  0.61"
      ]
     },
     "execution_count": 7,
     "metadata": {},
     "output_type": "execute_result"
    }
   ],
   "source": [
    "# TODO: DROP A DOMINATED ROW FROM THE LEFT PAYOFF MATRIX\n",
    "# left.drop('L'), left.drop('M'), or left.drop('R')\n",
    "\n",
    "### BEGIN SOLUTION\n",
    "left.drop('M')\n",
    "### END SOLUTION"
   ]
  },
  {
   "cell_type": "markdown",
   "metadata": {},
   "source": [
    "<div>\n",
    "  <h3>Solving for the Optimal Mixed Strategy</h3>\n",
    "\n",
    "  <p><b>Let's return to the right-footed kicker sub-game.</b></p>\n",
    "<div>"
   ]
  },
  {
   "cell_type": "code",
   "execution_count": 8,
   "metadata": {},
   "outputs": [
    {
     "data": {
      "text/html": [
       "<div>\n",
       "<style scoped>\n",
       "    .dataframe tbody tr th:only-of-type {\n",
       "        vertical-align: middle;\n",
       "    }\n",
       "\n",
       "    .dataframe tbody tr th {\n",
       "        vertical-align: top;\n",
       "    }\n",
       "\n",
       "    .dataframe thead th {\n",
       "        text-align: right;\n",
       "    }\n",
       "</style>\n",
       "<table border=\"1\" class=\"dataframe\">\n",
       "  <thead>\n",
       "    <tr style=\"text-align: right;\">\n",
       "      <th></th>\n",
       "      <th></th>\n",
       "      <th></th>\n",
       "      <th></th>\n",
       "    </tr>\n",
       "    <tr>\n",
       "      <th></th>\n",
       "      <th></th>\n",
       "      <th></th>\n",
       "      <th></th>\n",
       "    </tr>\n",
       "  </thead>\n",
       "  <tbody>\n",
       "    <tr>\n",
       "      <th>Right-footed kicker</th>\n",
       "      <td>L</td>\n",
       "      <td>M</td>\n",
       "      <td>R</td>\n",
       "    </tr>\n",
       "    <tr>\n",
       "      <th>L</th>\n",
       "      <td>0.55</td>\n",
       "      <td>0.65</td>\n",
       "      <td>0.93</td>\n",
       "    </tr>\n",
       "    <tr>\n",
       "      <th>R</th>\n",
       "      <td>0.95</td>\n",
       "      <td>0.73</td>\n",
       "      <td>0.7</td>\n",
       "    </tr>\n",
       "  </tbody>\n",
       "</table>\n",
       "</div>"
      ],
      "text/plain": [
       "                                        \n",
       "                                        \n",
       "Right-footed kicker     L     M        R\n",
       "L                    0.55  0.65     0.93\n",
       "R                    0.95  0.73      0.7"
      ]
     },
     "execution_count": 8,
     "metadata": {},
     "output_type": "execute_result"
    }
   ],
   "source": [
    "# Right-foot kicker payoff matrix for reference\n",
    "right.drop('M')"
   ]
  },
  {
   "cell_type": "markdown",
   "metadata": {},
   "source": [
    "<div>\n",
    "  <p><b>Q14:</b> If the kicker kicks to the left and right with probabilities $p_L$ and $p_R$, what are their expected payoffs associated with each of the keeper's pure strategies ($L$, $M$, $R$)?</p>\n",
    "\n",
    "  <p><b>A:</b><font color='blue'> The expected payoffs are:<br>\n",
    "$(L) : 0.55p_L + 0.95p_R$<br>\n",
    "$(M) : 0.65p_L + 0.73p_R$<br>\n",
    "$(R) : 0.93p_L + 0.70p_R$</font></p>\n",
    "</div>"
   ]
  },
  {
   "cell_type": "markdown",
   "metadata": {},
   "source": [
    "<div>\n",
    "  <p><b>Q15:</b> Simplify your expressions from <b>Q14</b> to depend solely on the variable $p_L$. (Hint: What is the sum of $p_L$ and $p_R$?)</p>\n",
    "\n",
    "  <p><b>A:</b><font color='blue'> $p_L + p_R = 1$</font></p>\n",
    "\n",
    "  <font color='blue'><p>$p_R = (1 - p_L)$</p></font>\n",
    "\n",
    "  <font color='blue'><p>$(L) : 0.55p_L + 0.95p_R = 0.55p_L + 0.95(1 - p_L) = 0.55p_L + 0.95 - 0.95p_L = 0.95 - 0.40p_L$<br>\n",
    "  $(M) : 0.65p_L + 0.73p_R = 0.65p_L + 0.73(1 - p_L) = 0.65p_L + 0.73 - 0.73p_L = 0.73 - 0.08p_L$<br>\n",
    "  $(R) : 0.93p_L + 0.70p_R = 0.93p_L + 0.70(1 - p_L) = 0.93p_L + 0.70 - 0.70p_L = 0.70 + 0.23p_L$</p></font>\n",
    "</div>"
   ]
  },
  {
   "cell_type": "markdown",
   "metadata": {},
   "source": [
    "<div>\n",
    "  <p><b>Q16: Using the graphical method</b>, find the values of $p_L$ and $p_R$ that maximize the minimum goal scoring probability.</p>\n",
    "\n",
    "  <p>What is the kicker's corresponding optimal mixed strategy? What is its minimum goal scoring probability? (<a href=\"https://www.desmos.com/calculator\">Desmos</a> is a helpful tool!)</p>\n",
    "\n",
    "  <p><b>A:</b> <font color='blue'><b>Solution:<br>\n",
    "$p_L = 0.0968$, $p_R = 0.9032$<br>\n",
    "With a scoring probability of $0.7223$.</b></font></p>\n",
    "\n",
    "  <font color='blue'><p>This can be obtained by finding the highest point (located at $(0.0968, 0.7223)$) that satisfies the following conditions in desmos:<br>\n",
    "$0 \\leq y \\leq 0.95 - 0.4x${$0 \\leq x \\leq 1$}<br>\n",
    "$0 \\leq y \\leq 0.73 - 0.08x${$0 \\leq x \\leq 1$}<br>\n",
    "$0 \\leq y \\leq 0.70 + 0.23x${$0 \\leq x \\leq 1$}</p></font>\n",
    "\n",
    "  <font color='blue'><p>Since $x$ was used to represent $p_L$ and y was used to represent scoring probability:<br>\n",
    "$p_L = 0.0968$, $p_R = 1-0.0968 = 0.9032$ and scoring probability $= 0.7223$.</p></font>\n",
    "\n",
    "  <font color='blue'><p>Please note, other methods of plotting this are also most definitely valid.</p></font>\n",
    "</div>"
   ]
  },
  {
   "cell_type": "markdown",
   "metadata": {},
   "source": [
    "<div>\n",
    "  <font color='red'><p>This actually isn't necessarily correct. Lines for enforcing $0 \\leq x \\leq 1$ and $0 \\leq y$ could also be included ($y \\leq 1$ isn't really needed as the other constraints already enforce it).</p></font>\n",
    "\n",
    "  <p><b>Q17:</b> In <b>Q16</b> you should have found the kicker's optimal mixed strategy by graphing $3$ lines. What did they correspond to?\n",
    "\n",
    "  <p><b>A:</b><font color='blue'> Each line corresponded to a different pure strategy from the keeper.</font></p>\n",
    "</div>"
   ]
  },
  {
   "cell_type": "markdown",
   "metadata": {},
   "source": [
    "<div>\n",
    "  <p>Alternatively, the kicker's optimal mixed strategy can be found by solving to maximize the minimmum goal scoring probability through linear programming. This can be done by maximizing the value of a new variable $z$ constrained to be $\\leq$ all $3$ expected payoffs, as shown by the following linear program:</p>\n",
    "\n",
    "  <p>$$\\begin{align*}\n",
    "\\max \\quad & z\\\\\n",
    "\\text{s.t.} \\quad & z \\leq 0.55p_L + 0.95p_R\\\\\n",
    "\\quad & z \\leq 0.65p_L + 0.73p_R\\\\\n",
    "\\quad & z \\leq 0.93p_L + 0.70p_R\\\\\n",
    "\\quad & p_L + p_R = 1 \\\\\n",
    "\\quad & 0\\leq z, p_L, p_R \\leq 1 \\\\\n",
    "\\end{align*}$$</p>\n",
    "\n",
    "  <p><b>Where $p_L$ and $p_R$ are the kicker's chances of kicking to the left and right.</b></p>\n",
    "\n",
    "  <p>Run the cells below to solve the linear program. Verify that your solution to <b>Q16</b> matches its solution.</p>\n",
    "<div>"
   ]
  },
  {
   "cell_type": "code",
   "execution_count": 9,
   "metadata": {},
   "outputs": [],
   "source": [
    "def right_subgame_kicker():\n",
    "    \"\"\"A linear program for solving the right penalty kick subgame for the kicker.\"\"\"\n",
    "    # define the model\n",
    "    m = OR.Solver(\"right_subgame-kicker\", OR.Solver.CLP_LINEAR_PROGRAMMING);\n",
    "\n",
    "    # decision variables\n",
    "    L = m.NumVar(0, 1, \"L\"); # Chance of the kicker kicking left. (p_L)\n",
    "    R = m.NumVar(0, 1, \"R\"); # Chance of the kicker kicking right. (p_R)\n",
    "    z = m.NumVar(0, 1, \"z\");\n",
    "\n",
    "    # objective function.\n",
    "    m.Maximize(z); # Maximize minimum chance of scoring.\n",
    "\n",
    "    # constraints.\n",
    "    # z <= Chance of scoring if goalie dives to the left.\n",
    "    m.Add(z <= 0.55*L + 0.95*R);\n",
    "    \n",
    "    # z <= Chance of scoring if goalie stays in the middle.\n",
    "    m.Add(z <= 0.65*L + 0.73*R);\n",
    "    \n",
    "    # z <= Chance of scoring if goalie dives to the right.\n",
    "    m.Add(z <= 0.93*L + 0.70*R);\n",
    "    \n",
    "    # Chance of Kicker kicking left and kicker kicking right add up to 1.\n",
    "    m.Add(L + R == 1);\n",
    "    \n",
    "    return m, m.variables()"
   ]
  },
  {
   "cell_type": "code",
   "execution_count": 10,
   "metadata": {},
   "outputs": [],
   "source": [
    "def solve(m):\n",
    "    m.Solve()\n",
    "    print(\"Solution:\")\n",
    "    print(\"Objective value =\", m.Objective().Value())\n",
    "    for var in m.variables():\n",
    "        print(var.name(), \":\",  var.solution_value())"
   ]
  },
  {
   "cell_type": "code",
   "execution_count": 11,
   "metadata": {},
   "outputs": [
    {
     "name": "stdout",
     "output_type": "stream",
     "text": [
      "Solution:\n",
      "Objective value = 0.722258064516129\n",
      "L : 0.09677419354838684\n",
      "R : 0.9032258064516132\n",
      "z : 0.722258064516129\n"
     ]
    }
   ],
   "source": [
    "m,x = right_subgame_kicker()\n",
    "solve(m)"
   ]
  },
  {
   "cell_type": "markdown",
   "metadata": {},
   "source": [
    "<div>\n",
    "  <p><b>Consider the dual values of the previous LP.</b> Recall the economic interpretation of dual values taught to you in lecture. The dual value of a constraint can be interpretted as the marginal cost of changing the requirement (i.e. the RHS) by $1$. This interpretation has an interesting corollary: <b>Slight changes to a constraint satisfied with strict inequality ($>$ or $<$) in an optimal solution will not affect the optimal solution, and thus, the optimal objective value.</b></p>\n",
    "</div>"
   ]
  },
  {
   "cell_type": "markdown",
   "metadata": {},
   "source": [
    "<div>\n",
    "  <p><b>Q18:</b> Take this one step further. If slight changes to a constraint have no effect on the optimal objective value, what does that imply about the <i>marginal cost</i> of changing this requirement? What does that imply about the dual value of this constraint?</p>\n",
    "\n",
    "  <p><b>A:</b><font color='blue'> The marginal cost of changing this requirement is $0$ and the dual value of the constraint is $0$.</font></p>\n",
    "</div>"
   ]
  },
  {
   "cell_type": "markdown",
   "metadata": {},
   "source": [
    "<div>\n",
    "  <font color='red'><p>Where did we see this? I know its true, but will the students recognize this by this point?</p></font>\n",
    "\n",
    "  <p><b>In Q17, you should have noticed that each constraint corresponds to a pure strategy from the keeper.</b> Furthermore, we have seen that the LPs for finding the optimal mixed strategies for the kicker and keeper are each other's duals. Hence, the optimal dual values of the LP's constraints correspond to an optimal mixed strategy for the keeper.</p>\n",
    "</div>"
   ]
  },
  {
   "cell_type": "markdown",
   "metadata": {},
   "source": [
    "<div>\n",
    "  <p><b>Q19: Consider the LP we used to find the kicker's optimal mixed strategy.</b> Which constraint holds with strict inequality in the optimal solution? What is the keeper's corresponding pure strategy? How often does <b>Q18</b> imply the keeper plays this strategy in the dual optimal solution?</p>\n",
    "\n",
    "  <p><b>A:</b><font color='blue'> $z \\leq 0.55p_L + 0.95p_R$, corresponding to the keeper's pure strategy of diving to the left, holds with strict inequality. <b>Q18</b> implies that the keeper therefore never dives left in the corresponding dual optimal solution.</font></p>\n",
    "</div>"
   ]
  },
  {
   "cell_type": "markdown",
   "metadata": {},
   "source": [
    "<div>\n",
    "  <p>We can now remove the ($L$) column from the payoff matrix, as we know that the keeper has an optimal mixed strategy in which they never dive to the left. This allows us to solve for the keeper's optimal mixed strategy using the graphical method.</p>\n",
    "</div>"
   ]
  },
  {
   "cell_type": "code",
   "execution_count": 12,
   "metadata": {},
   "outputs": [
    {
     "data": {
      "text/html": [
       "<div>\n",
       "<style scoped>\n",
       "    .dataframe tbody tr th:only-of-type {\n",
       "        vertical-align: middle;\n",
       "    }\n",
       "\n",
       "    .dataframe tbody tr th {\n",
       "        vertical-align: top;\n",
       "    }\n",
       "\n",
       "    .dataframe thead th {\n",
       "        text-align: right;\n",
       "    }\n",
       "</style>\n",
       "<table border=\"1\" class=\"dataframe\">\n",
       "  <thead>\n",
       "    <tr style=\"text-align: right;\">\n",
       "      <th></th>\n",
       "      <th></th>\n",
       "      <th></th>\n",
       "    </tr>\n",
       "    <tr>\n",
       "      <th></th>\n",
       "      <th></th>\n",
       "      <th></th>\n",
       "    </tr>\n",
       "  </thead>\n",
       "  <tbody>\n",
       "    <tr>\n",
       "      <th>Right-footed kicker</th>\n",
       "      <td>M</td>\n",
       "      <td>R</td>\n",
       "    </tr>\n",
       "    <tr>\n",
       "      <th>L</th>\n",
       "      <td>0.65</td>\n",
       "      <td>0.93</td>\n",
       "    </tr>\n",
       "    <tr>\n",
       "      <th>R</th>\n",
       "      <td>0.73</td>\n",
       "      <td>0.7</td>\n",
       "    </tr>\n",
       "  </tbody>\n",
       "</table>\n",
       "</div>"
      ],
      "text/plain": [
       "                                  \n",
       "                                  \n",
       "Right-footed kicker     M        R\n",
       "L                    0.65     0.93\n",
       "R                    0.73      0.7"
      ]
     },
     "execution_count": 12,
     "metadata": {},
     "output_type": "execute_result"
    }
   ],
   "source": [
    "right.drop('M').iloc[:,1:]"
   ]
  },
  {
   "cell_type": "markdown",
   "metadata": {},
   "source": [
    "<div>\n",
    "  <p><b>Q20:</b> If the keeper dives to the middle and right with probabilities $q_M$ and $q_R$, find the values of $q_M$ and $q_R$ that minimize the maximum goal scoring probability <b>using the graphical method.</b></p>\n",
    "\n",
    "  <p>What is the keeper's corresponding optimal mixed strategy? What is its maximum goal scoring probability? (<a href=\"https://www.desmos.com/calculator\">Desmos</a> is a helpful tool!)</p>\n",
    "\n",
    "  <p><b>A:</b><font color='blue'> First simplify the equations for the payoffs associated with each kicker action:<br></font></p>\n",
    "\n",
    "  <font color='blue'><p>$q_R = (1 - q_M)$<br>\n",
    "<br>\n",
    "$(L) :  0.65q_M + 0.93q_R = 0.65q_M + 0.93(1 - q_M) = 0.93 - 0.28q_M$<br>\n",
    "$(R) :  0.73q_M + 0.70q_R = 0.73q_M + 0.70(1 - q_M) = 0.70 + 0.03q_M$</p></font>\n",
    "\n",
    "  <font color='blue'><p>Find the lowest point satisfying the following conditions(located at $(0.7419, 0.7223)$):<br>\n",
    "$0.93 - 0.28x \\leq y \\leq 1${$0 \\leq x \\leq 1$}<br>\n",
    "$0.70 + 0.03x \\leq y \\leq 1${$0 \\leq x \\leq 1$}</p></font>\n",
    "\n",
    "  <font color='blue'><p>Since x was used to represent $q_M$:<br>\n",
    "$q_M = 0.7419$, $q_R = 1 - 0.7419 = 0.2581$<br>\n",
    "The maximum scoring probability is $0.7223$.</p></font>\n",
    "\n",
    "  <font color='blue'><p>Please note that there are many other valid ways of obtaining this by plotting.</p></font>\n",
    "</div>"
   ]
  },
  {
   "cell_type": "markdown",
   "metadata": {},
   "source": [
    "<div>\n",
    "  <p><b>Q21:</b> How did the goal scoring probabilities from <b>Q16</b> and <b>Q20</b> relate? Did you expect this?</p>\n",
    "\n",
    "  <p><b>A:</b><font color='blue'> They are equal, as expected by the minimax theorem.</font></p>\n",
    "</div>"
   ]
  },
  {
   "cell_type": "markdown",
   "metadata": {},
   "source": [
    "<div>\n",
    "  <p><b>For the left-footed kicker sub-game</b>, we will now find a mixed-strategy equilibrium through linear programming. As a brief reminder, the following trick can be helpful in formulating the problem's LP:</p>\n",
    "\n",
    "  <p><i>When maximizing the minimum of $2$ variables: $x$, and $y$, we can notationally say $\\max_{x,y} \\min\\{x,y\\}$. This can be achieved in an LP through the inclusion of a new variable $z$ in the way shown by the LP below:</i></p>\n",
    "\n",
    "  <p>$$\\begin{align*}\n",
    "\\max \\quad & z\\\\\n",
    "\\text{s.t.} \\quad & z\\leq x\\\\\n",
    "\\quad & z \\leq y\\\\\n",
    "\\quad  ...\n",
    "\\end{align*}$$</p>\n",
    "</div>"
   ]
  },
  {
   "cell_type": "code",
   "execution_count": 13,
   "metadata": {},
   "outputs": [
    {
     "data": {
      "text/html": [
       "<div>\n",
       "<style scoped>\n",
       "    .dataframe tbody tr th:only-of-type {\n",
       "        vertical-align: middle;\n",
       "    }\n",
       "\n",
       "    .dataframe tbody tr th {\n",
       "        vertical-align: top;\n",
       "    }\n",
       "\n",
       "    .dataframe thead th {\n",
       "        text-align: right;\n",
       "    }\n",
       "</style>\n",
       "<table border=\"1\" class=\"dataframe\">\n",
       "  <thead>\n",
       "    <tr style=\"text-align: right;\">\n",
       "      <th></th>\n",
       "      <th></th>\n",
       "      <th></th>\n",
       "      <th></th>\n",
       "    </tr>\n",
       "    <tr>\n",
       "      <th></th>\n",
       "      <th></th>\n",
       "      <th></th>\n",
       "      <th></th>\n",
       "    </tr>\n",
       "  </thead>\n",
       "  <tbody>\n",
       "    <tr>\n",
       "      <th>Left-footed kicker</th>\n",
       "      <td>L</td>\n",
       "      <td>M</td>\n",
       "      <td>R</td>\n",
       "    </tr>\n",
       "    <tr>\n",
       "      <th>L</th>\n",
       "      <td>0.67</td>\n",
       "      <td>0.7</td>\n",
       "      <td>0.96</td>\n",
       "    </tr>\n",
       "    <tr>\n",
       "      <th>R</th>\n",
       "      <td>0.87</td>\n",
       "      <td>0.65</td>\n",
       "      <td>0.61</td>\n",
       "    </tr>\n",
       "  </tbody>\n",
       "</table>\n",
       "</div>"
      ],
      "text/plain": [
       "                                    \n",
       "                                    \n",
       "Left-footed kicker     L     M     R\n",
       "L                   0.67   0.7  0.96\n",
       "R                   0.87  0.65  0.61"
      ]
     },
     "execution_count": 13,
     "metadata": {},
     "output_type": "execute_result"
    }
   ],
   "source": [
    "# Left-foot kicker payoff matrix for reference\n",
    "left.drop('M')"
   ]
  },
  {
   "cell_type": "markdown",
   "metadata": {},
   "source": [
    "<div>\n",
    "  <p><b>Q22:</b> Assume the kicker kicks to the left and right with probabilities $p_L$ and $p_R$. What is the expected payoff associated with each of the keeper's pure strategies ($L$, $M$, $R$)? (<b>Remember we are thinking about the left-footed kicker now!</b>)</p>\n",
    "\n",
    "  <p><b>A:</b><font color='blue'> The expected payoffs are:<br>\n",
    "$(L) : 0.67p_L + 0.87p_R$<br>\n",
    "$(M) : 0.70p_L + 0.65p_R$<br>\n",
    "$(R) : 0.96p_L + 0.61p_R$</font></p>\n",
    "</div>"
   ]
  },
  {
   "cell_type": "markdown",
   "metadata": {},
   "source": [
    "<div>\n",
    "  <p><b>Q23:</b> Write a linear program to maximize the kicker's minimum expected goal scoring probability.</p>\n",
    "\n",
    "  <p><b>A:</b></p>\n",
    "  <font color='blue'><p>$$\\begin{align*}\n",
    "\\max \\quad & z\\\\\n",
    "\\text{s.t.} \\quad & z \\leq 0.67p_L + 0.87p_R \\\\\n",
    "\\quad & z \\leq 0.70p_L + 0.65p_R\\\\\n",
    "\\quad & z \\leq 0.96p_L + 0.61p_R\\\\\n",
    "\\quad & p_L + p_R = 1 \\\\\n",
    "\\quad & 0 \\leq z, p_L, p_R \\leq 1 \\\\\n",
    "\\end{align*}$$</p></font>\n",
    "</div>"
   ]
  },
  {
   "cell_type": "markdown",
   "metadata": {},
   "source": [
    "<div>\n",
    "  <p><b>Q24:</b> Implement your solution to <b>Q23</b> in the OR-Tools model below, then run the following cell to solve it.</p>\n",
    "</div>"
   ]
  },
  {
   "cell_type": "code",
   "execution_count": 14,
   "metadata": {},
   "outputs": [],
   "source": [
    "def left_subgame_kicker():\n",
    "    \"\"\"A linear program for solving the left penalty kick subgame for the kicker.\"\"\"\n",
    "    # define the model\n",
    "    m = OR.Solver(\"left_subgame-kicker\", OR.Solver.CLP_LINEAR_PROGRAMMING);\n",
    "\n",
    "    # decision variables\n",
    "    L = m.NumVar(0, 1, \"L\"); # Chance of kicker kicking left (p_L)\n",
    "    R = m.NumVar(0, 1, \"R\"); # Chance of kicker kicking right (p_R) \n",
    "    z = m.NumVar(0, 1, \"z\");\n",
    "\n",
    "    # objective function\n",
    "    # TODO: Define the objective function.\n",
    "    # m.Minimize() or m.Maximize()\n",
    "    \n",
    "    ### BEGIN SOLUTION\n",
    "    m.Maximize(z);\n",
    "    ### END SOLUTION\n",
    "\n",
    "    # constraints\n",
    "    # TODO: Define the constraints.\n",
    "    # m.Add()\n",
    "    \n",
    "    ### BEGIN SOLUTION\n",
    "    m.Add(z <= 0.67*L + 0.87*R);\n",
    "    m.Add(z <= 0.70*L + 0.65*R);\n",
    "    m.Add(z <= 0.96*L + 0.61*R);\n",
    "    m.Add(L + R == 1);\n",
    "    ### END SOLUTION\n",
    "    \n",
    "    return m, m.variables()"
   ]
  },
  {
   "cell_type": "code",
   "execution_count": 15,
   "metadata": {},
   "outputs": [
    {
     "name": "stdout",
     "output_type": "stream",
     "text": [
      "Solution:\n",
      "Objective value = 0.694\n",
      "L : 0.8800000000000006\n",
      "R : 0.11999999999999944\n",
      "z : 0.694\n"
     ]
    }
   ],
   "source": [
    "m,x = left_subgame_kicker()\n",
    "solve(m)"
   ]
  },
  {
   "cell_type": "markdown",
   "metadata": {},
   "source": [
    "<div>\n",
    "  <p><b>Q25:</b> What is an optimal mixed-strategy <b>for the left-footed kicker</b>? What is their minimum expected goal scoring probability?</p>\n",
    "\n",
    "  <p><b>A:</b><font color='blue'> $p_L = 0.88$ and $p_R = 0.12$. Their minimum expected goal scoring probability is 0.694.</font></p>\n",
    "</div>"
   ]
  },
  {
   "cell_type": "markdown",
   "metadata": {},
   "source": [
    "<div>\n",
    "  <p><b>Q26:</b> Assume the keeper dives to the left, middle, and right, with probabilities $q_L$, $q_M$, and $q_R$. Finish the model below to minimize the kicker's maximum goal scoring probability and obtain the keeper's optimal mixed strategy (Hint: it is the dual of your previous one!).</p>\n",
    "</div>"
   ]
  },
  {
   "cell_type": "code",
   "execution_count": 16,
   "metadata": {},
   "outputs": [],
   "source": [
    "def left_subgame_keeper(): \n",
    "    \"\"\"A linear program for solving the left penalty kick subgame for the keeper.\"\"\"\n",
    "    # define the model\n",
    "    m = OR.Solver(\"left_subgame-keeper\", OR.Solver.CLP_LINEAR_PROGRAMMING);\n",
    "\n",
    "    # decision variables.\n",
    "    L = m.NumVar(0, 1, \"L\"); # Chance of keeper diving to the left (q_L)\n",
    "    M = m.NumVar(0, 1, \"M\"); # Chance of keeper staying in the middle (q_M)\n",
    "    R = m.NumVar(0, 1, \"R\"); # Chance of keeper diving to the right (q_R)\n",
    "    z = m.NumVar(0, 1, \"z\");\n",
    "\n",
    "    # objective function\n",
    "    # TODO: Define the objective function.\n",
    "    # m.Minimize() or m.Maximize()\n",
    "\n",
    "    ### BEGIN SOLUTION\n",
    "    m.Minimize(z);\n",
    "    ### END SOLUTION\n",
    "\n",
    "    # constraints\n",
    "    # TODO: Define the constraints.\n",
    "    # m.Add()\n",
    "\n",
    "    ### BEGIN SOLUTION\n",
    "    m.Add(z >= 0.67*L + 0.70*M + 0.96*R);\n",
    "    m.Add(z >= 0.87*L + 0.65*M + 0.61*R);\n",
    "    m.Add(L + M + R == 1);\n",
    "    ### END SOLUTION\n",
    "    \n",
    "    return m, m.variables()"
   ]
  },
  {
   "cell_type": "code",
   "execution_count": 17,
   "metadata": {},
   "outputs": [
    {
     "name": "stdout",
     "output_type": "stream",
     "text": [
      "Solution:\n",
      "Objective value = 0.694\n",
      "L : 0.1999999999999998\n",
      "M : 0.8000000000000002\n",
      "R : 0.0\n",
      "z : 0.694\n"
     ]
    }
   ],
   "source": [
    "m,x = left_subgame_keeper()\n",
    "solve(m)"
   ]
  },
  {
   "cell_type": "markdown",
   "metadata": {},
   "source": [
    "<div>\n",
    "  <p><b>Q27:</b> What is an optimal mixed-strategy for the keeper <b>against a left-footed kicker</b>? What is their maximum expected probability of being scored on?</p>\n",
    "\n",
    "  <p><b>A:</b><font color='blue'> $q_L = 0.2$, $q_M = 0.8$, $q_R = 0$ and the maximum expected probability of being scored on is $0.694$.</font></p>\n",
    "</div>"
   ]
  },
  {
   "cell_type": "markdown",
   "metadata": {},
   "source": [
    "<div>\n",
    "  <p><b>Q28:</b> If both types of kickers use their optimal mixed strategies, is one more likely to score?</p>\n",
    "\n",
    "  <p><b>A:</b><font color='blue'> Yes, the <b>right-footed kicker</b> scores with probability $0.7223 > 0.694$.</font></p>\n",
    "</div>"
   ]
  },
  {
   "cell_type": "markdown",
   "metadata": {},
   "source": [
    "<div>\n",
    "  <p><b>Q29:</b> Use your above findings to compile a <b>complete set of instructions</b> for the players in equilibrium. (Hint: even if a type of kicker is never chosen, you should specify what the goalkeeper should do if they are chosen).</p>\n",
    "\n",
    "  <p><b>A:</b></p>\n",
    "  <font color='blue'><ul>\n",
    "    <li>The kicker is always <b>right-footed</b> and kicks to the <b>left</b> and <b>right</b> with probabilities: $p_L = 0.0968$ and $p_R = 0.9032$</li>\n",
    "    <li>If the kicker is <b>right-footed</b>, the goalkeeper <b>stays in the middle</b> and <b>dives to the right</b> with probabilities: $q_M = 0.7419$ and $q_R = 0.2581$</li>\n",
    "    <li>If the kicker is <b>left-footed</b>, the goalkeeper <b>dives to the left</b> and <b>stays in the middle</b> with probabilities: $q_L = 0.2$ and $q_M = 0.8$</li>\n",
    "  </ul></font>\n",
    "</div>"
   ]
  },
  {
   "cell_type": "markdown",
   "metadata": {},
   "source": [
    "<div>\n",
    "  <font color='red'><p>I want to delete this question.</p></font>\n",
    "\n",
    "  <p><b>Q30:</b> Does the answer to <b>Q28</b> make intuitive sense?</p>\n",
    "\n",
    "  <p><b>A:</b><font color='blue'> Yes, the kicker shoots in the dominant foot direction. Unlike real penalty kicks, the keeper often does not dive either direction.</font></p>\n",
    "</div>"
   ]
  },
  {
   "cell_type": "markdown",
   "metadata": {},
   "source": [
    "<div>\n",
    "  <p><b>Q31:</b> In the cell below, use the optimal mixed strategy to play the game. Analyze your results.\n",
    "\n",
    "  <p><b>A:</b><font color='blue'> Answers will vary.</font></p>\n",
    "<div>"
   ]
  },
  {
   "cell_type": "code",
   "execution_count": null,
   "metadata": {},
   "outputs": [],
   "source": [
    "# Shows the game so that you can play it\n",
    "show(demo2)"
   ]
  },
  {
   "cell_type": "markdown",
   "metadata": {},
   "source": [
    "<div>\n",
    "  <p><b>Q32:</b> In the cell below, use the optimal mixed strategy to play the game again. This time, the keeper will also use its optimal mixed strategy. How did your results compare to <b>Q31</b>?</p>\n",
    "\n",
    "  <p><b>A:</b><font color='blue'> Answers will vary. Most answers should say that they did worse (As the keeper should have done a better job of blocking goals).</font></p>\n",
    "</div>"
   ]
  },
  {
   "cell_type": "code",
   "execution_count": null,
   "metadata": {},
   "outputs": [],
   "source": [
    "# Shows the game so that you can play it\n",
    "show(demo3)"
   ]
  },
  {
   "cell_type": "markdown",
   "metadata": {},
   "source": [
    "<div>\n",
    "  <br>\n",
    "  <h2>Part 3: Full Model for The Penalty Kick Game Mixed Strategy</h2>\n",
    "\n",
    "  <p>In <b>Part 2</b>, we divided the problem into subgames before using dominance to simplify the payoff matrices. However, we could have formulated the following LP to solve the model:</p>\n",
    "</div>"
   ]
  },
  {
   "cell_type": "code",
   "execution_count": null,
   "metadata": {},
   "outputs": [],
   "source": [
    "def penalty_kick_game(integer = False):\n",
    "    \"\"\"A linear program for solving a penalty kick game.\"\"\"\n",
    "    # define the model\n",
    "    m = OR.Solver(\"penalty_kick_game\", OR.Solver.CLP_LINEAR_PROGRAMMING);\n",
    "\n",
    "    LL = m.NumVar(0, 1, \"LL\"); # Chance of left footed kicker shooting left\n",
    "    LM = m.NumVar(0, 1, \"LM\"); # Chance of left footed kicker shooting middle\n",
    "    LR = m.NumVar(0, 1, \"LR\"); # Chance of left footed kicker shooting right\n",
    "    RL = m.NumVar(0, 1, \"RL\"); # Chance of right footed kicker shooting left\n",
    "    RM = m.NumVar(0, 1, \"RM\"); # Chance of right footed kicker shooting middle\n",
    "    RR = m.NumVar(0, 1, \"RR\"); # Chance of right footed kicker shooting right\n",
    "\n",
    "    z = m.NumVar(0, 1, \"z\"); # Maximize minimum chance of scoring\n",
    "\n",
    "    # objective function\n",
    "    m.Maximize(z);\n",
    "\n",
    "    # constraints\n",
    "    # z <= Chance of scoring if keeper follows ([L,L],[R,L]) strategy\n",
    "    m.Add(z <= 0.67*LL + 0.74*LM + 0.87*LR + 0.55*RL + 0.74*RM + 0.95*RR, name=\"([L,L],[R,L])\");\n",
    "    \n",
    "    # z <= Chance of scoring if keeper follows ([L,M],[R,L]) strategy\n",
    "    m.Add(z <= 0.70*LL + 0.60*LM + 0.65*LR + 0.55*RL + 0.74*RM + 0.95*RR, name=\"([L,M],[R,L])\");\n",
    "    \n",
    "    # z <= Chance of scoring if keeper follows ([L,R],[R,L]) strategy\n",
    "    m.Add(z <= 0.96*LL + 0.72*LM + 0.61*LR + 0.55*RL + 0.74*RM + 0.95*RR, name=\"([L,R],[R,L])\");\n",
    "    \n",
    "    # z <= Chance of scoring if keeper follows ([L,L],[R,M]) strategy\n",
    "    m.Add(z <= 0.67*LL + 0.74*LM + 0.87*LR + 0.65*RL + 0.60*RM + 0.73*RR, name=\"([L,L],[R,M])\");    \n",
    "    \n",
    "    # z <= Chance of scoring if keeper follows ([L,M],[R,M]) strategy\n",
    "    m.Add(z <= 0.70*LL + 0.60*LM + 0.65*LR + 0.65*RL + 0.60*RM + 0.73*RR, name=\"([L,M],[R,M])\");\n",
    "    \n",
    "    # z <= Chance of scoring if keeper follows ([L,R],[R,M]) strategy\n",
    "    m.Add(z <= 0.96*LL + 0.72*LM + 0.61*LR + 0.65*RL + 0.60*RM + 0.73*RR, name=\"([L,R],[R,M])\");\n",
    "    \n",
    "    # z <= Chance of scoring if keeper follows ([L,L],[R,R]) strategy\n",
    "    m.Add(z <= 0.67*LL + 0.74*LM + 0.87*LR + 0.93*RL + 0.72*RM + 0.70*RR, name=\"([L,L],[R,R])\");\n",
    "    \n",
    "    # z <= Chance of scoring if keeper follows ([L,M],[R,R]) strategy\n",
    "    m.Add(z <= 0.70*LL + 0.60*LM + 0.65*LR + 0.93*RL + 0.72*RM + 0.70*RR, name=\"([L,M],[R,R])\");\n",
    "\n",
    "    # z <= Chance of scoring if keeper follows ([L,R],[R,R]) strategy\n",
    "    m.Add(z <= 0.96*LL + 0.72*LM + 0.61*LR + 0.93*RL + 0.72*RM + 0.70*RR, name=\"([L,R],[R,R])\");\n",
    "    \n",
    "    # Chances of kicker actions (Footedness, Aim direction) pairs add up to 1.\n",
    "    m.Add(LL + LM + LR + RL + RM + RR == 1);\n",
    "    \n",
    "    return m, m.variables()"
   ]
  },
  {
   "cell_type": "code",
   "execution_count": null,
   "metadata": {},
   "outputs": [],
   "source": [
    "m,x = penalty_kick_game()\n",
    "solve(m)"
   ]
  },
  {
   "cell_type": "markdown",
   "metadata": {},
   "source": [
    "<div>\n",
    "  <p>Furthermore, instead of defining another LP, the keeper's optimal mixed strategy can be derived from the LP's dual values.</p>\n",
    "</div>"
   ]
  },
  {
   "cell_type": "code",
   "execution_count": null,
   "metadata": {},
   "outputs": [],
   "source": [
    "for c in m.constraints():\n",
    "    print(c.name(),\":\", c.dual_value())"
   ]
  },
  {
   "cell_type": "markdown",
   "metadata": {},
   "source": [
    "<div>\n",
    "  <p><b>Q33:</b> Given the information from the dual and the solution, why can't the keeper use the values obtained from the dual for defending against a left footed kicker?</p>\n",
    "\n",
    "  <p><b>A:</b><font color='blue'> The LP never uses a left-footed kicker, and as such has not completely solved the left-footed kicker sub problem. As such, the requirements for the strong duality theorem are not satisfied for the left-footed kicker subgame, and the dual values are not guaranteed to be optimal.</font></p>\n",
    "</div>"
   ]
  },
  {
   "cell_type": "markdown",
   "metadata": {},
   "source": [
    "<div>\n",
    "  <font color='red'><p>Can this even be called a full set of instructions? The Left footed kicker instructions are incorrect and therefore omitted.</p></font>\n",
    "\n",
    "  <p><b>Q34:</b> Based on the optimal solution and dual values to the full LP model, compile a <b>complete set of instructions</b> for the players in equilibrium.</p>\n",
    "\n",
    "  <p><b>A:</b></p>\n",
    "  <font color='blue'><ul>\n",
    "    <li>The kicker is always <b>right-footed</b> and kicks to the <b>left</b> and <b>right</b> with probabilities: $p_L = 0.0968$ and $p_R = 0.9032$</li>\n",
    "    <li>If the kicker is <b>right-footed</b>, the keeper <b>dives to the middle or right</b> with probabilities: $q_M = 0.7419$ (obtained by adding the $[R,M]$ keeper constraint dual values) and $q_R = 0.2581$</li>\n",
    "  </ul></font>\n",
    "</div>"
   ]
  },
  {
   "cell_type": "markdown",
   "metadata": {},
   "source": [
    "<div>\n",
    "  <p><b>Q35:</b> Do these instructions match those you described in <b>Q29</b>?</p>\n",
    "\n",
    "  <p><b>A:</b><font color='blue'> Yes or no. If they argued yes, they should have stated that the players would act in the same way if they were given either set of instructions. If they argued no, they should have stated that the keeper's instructions from the full LP do not account for left-footed kickers.</font></p>\n",
    "</div>"
   ]
  },
  {
   "cell_type": "markdown",
   "metadata": {},
   "source": [
    "<a id=\"Part 4: Weaknesses of Mixed Strategies\"></a>\n",
    "<div>\n",
    "  <br>\n",
    "  <h2>Part 4: Weaknesses of Mixed Strategies</h2>\n",
    "\n",
    "  <p>Unlike in the demos so far, opponent players will not always be constrained to using mixed strategies. If a keeper were to observe that all right-footed kickers were kicking to the right, they would likely adjust their strategy to prevent right footed kickers from scoring on the right. In such a way, the keeper could adopt a strategy that lowers the efficacy of your chosen mixed strategy.</p>\n",
    "\n",
    "  <p>One such way of countering mixed strategies is <i>fictitious play</i>. Fictitious play is a learning rule where it is assumed that the opponent is using a stationary strategy. Fictitious play is run as follows:</p>\n",
    "\n",
    "  <ul>\n",
    "    <li>Keep track of the empirical frequency of the opponents played strategies.</li>\n",
    "    <li>Make a decision that best counters your opponent's strategy so far.</li>\n",
    "  </ul>\n",
    "\n",
    "  <p>As the tracked empirical frequency better represents the opponents strategy, the player more effectively plays against their opponent.</p>\n",
    "</div>"
   ]
  },
  {
   "cell_type": "markdown",
   "metadata": {},
   "source": [
    "<div>\n",
    "  <p><b>Q36:</b> In the penalty kick game, what would a keeper using fictitious play keep track of?</p>\n",
    "\n",
    "  <p><b>A:</b><font color='blue'> The keeper would <b>separately track</b> the frequency of the kicker's kick directions (left, middle, right) for <b>left and right-footed kickers</b>.</font></p>\n",
    "</div>"
   ]
  },
  {
   "cell_type": "markdown",
   "metadata": {},
   "source": [
    "<div style=\"align: left; text-align:center;\">\n",
    "  <table style=\"width:60%\">\n",
    "    <tr>\n",
    "      <th>Scoring Probability</th>\n",
    "      <th>LL</th>\n",
    "      <th>LM</th>\n",
    "      <th>LR</th>\n",
    "      <th>ML</th>\n",
    "      <th>MM</th>\n",
    "      <th>MR</th>\n",
    "      <th>RL</th>\n",
    "      <th>RM</th>\n",
    "      <th>RR</th>\n",
    "    </tr>\n",
    "    <tr>\n",
    "      <td><b>Right-footed kicker</b></td>\n",
    "      <td>$0.55$</td>\n",
    "      <td>$0.65$</td>\n",
    "      <td>$0.93$</td>\n",
    "      <td>$0.74$</td>\n",
    "      <td>$0.60$</td>\n",
    "      <td>$0.72$</td>\n",
    "      <td>$0.95$</td>\n",
    "      <td>$0.73$</td>\n",
    "      <td>$0.70$</td>\n",
    "    </tr>\n",
    "    <tr>\n",
    "      <td><b>Left-footed kicker</b></td>\n",
    "      <td>$0.67$</td>\n",
    "      <td>$0.70$</td>\n",
    "      <td>$0.96$</td>\n",
    "      <td>$0.74$</td>\n",
    "      <td>$0.60$</td>\n",
    "      <td>$0.72$</td>\n",
    "      <td>$0.87$</td>\n",
    "      <td>$0.65$</td>\n",
    "      <td>$0.61$</td>\n",
    "    </tr>\n",
    "  </table>\n",
    "  <div class=\"caption\">Table $1$: The Column headers indicate kicker kick, keeper dive directions. </div>\n",
    "</div> \n",
    "\n",
    "<br>\n",
    "\n",
    "<div>\n",
    "  <p><b>Q37:</b> Suppose the kicker is left-footed, and that the empirical frequencies of previously played left-footed kickers' choices suggest left, middle, right kicking chances of $p_L = 0.17$, $p_M = 0.17$, $p_R = 0.66$. What would the keeper's action be, if they were using fictitious play?</p>\n",
    "\n",
    "  <p><b>A:</b><font color='blue'> $r_i$ denotes the predicted risk of being scored on for diving in direction $i$):<br>\n",
    "$r_L : 0.67*0.17 + 0.74*0.17 + 0.87*0.66 = 0.8139$<br>\n",
    "$r_M : 0.70*0.17 + 0.60*0.17 + 0.65*0.66 = 0.65$<br>\n",
    "$r_R : 0.96*0.17 + 0.72*0.17 + 0.61*0.66 = 0.6882$</font></p>\n",
    "\n",
    "  <font color='blue'><p>The keeper would stay in the middle, as $r_M = \\min(r_L, r_M, r_R)$</p></font>\n",
    "</div>"
   ]
  },
  {
   "cell_type": "markdown",
   "metadata": {},
   "source": [
    "<div>\n",
    "  <p><b>Q38: Use the same mixed strategy for each of the $3$ different rounds of the penalty kick game below.</b> The rounds have $50$, $100$, and $200$ iterations.</p>\n",
    "\n",
    "  <p>Figure $3$ is now also accessible for you to view. Figure $3$ shows the keeper's perceived risk of taking each position.</p>\n",
    "\n",
    "  <p>Analyze your results. Is there anything interesting about Figure $3$'s values? If so, did running more iterations increase that behaviour? Is there a correlation between the keeper's actions (viewable in Figure $4$), and how the values in Figure $3$ compare?</p>\n",
    "\n",
    "  <p>If you are having trouble, there is an extra cell below that will run the game with even more iterations to give you more data.</p>\n",
    "\n",
    "  <p><b>A:</b><font color='blue'> Answers will vary. The keeper is not guaranteed to do better, but seeing how the perceived risks converge to certain values (Towards the true likelihoods of being scored on for each position) over time in Figure $3$ is pretty cool. Students should observe that the convergence on values in figure $3$ is easier to see with more iterations. Figure $4$ may show how the keeper adjusted their strategy according to the kicker results.</font></p>\n",
    "</div>"
   ]
  },
  {
   "cell_type": "code",
   "execution_count": null,
   "metadata": {},
   "outputs": [],
   "source": [
    "# Shows the game so that you can play it\n",
    "show(demo4)\n",
    "show(demo5)\n",
    "show(demo6)"
   ]
  },
  {
   "cell_type": "code",
   "execution_count": null,
   "metadata": {},
   "outputs": [],
   "source": [
    "# Optional cell for running demo with more iterations.\n",
    "show(demo7)"
   ]
  },
  {
   "cell_type": "markdown",
   "metadata": {},
   "source": [
    "<div>\n",
    "  <p><b>Q39:</b> What would the play of a keeper using fictitious play look like if their perceived risks of being scored on have stabilized?\n",
    "\n",
    "  <p><b>A:</b><font color='blue'> If the perceived risks were stable and unequal, then the keeper would likely appear to be using a pure strategy. If the perceived risks were equal, then they could also appear to be using a mixed strategy split between the positions with equal perceived risks.</font></p>\n",
    "</div>"
   ]
  },
  {
   "cell_type": "markdown",
   "metadata": {},
   "source": [
    "<div>\n",
    "  <p><b>Q40: Now try using a diifferent mixed strategy for each of the $3$ rounds of the game below.</b> This time, the keeper will behave in a different manner. Did you notice any correlation between the keeper's actions and the mixed strategy you used?</p>\n",
    "\n",
    "  <p><b>A:</b><font color='blue'> The keeper should appear to use a pure strategy like mentioned in <b>Q39</b>. Students may notice that the strategy seems to counter their mixed strategy.</font></p>\n",
    "</div>"
   ]
  },
  {
   "cell_type": "code",
   "execution_count": null,
   "metadata": {},
   "outputs": [],
   "source": [
    "# Shows the game so that you can play it\n",
    "show(demo8)\n",
    "show(demo8)\n",
    "show(demo8)"
   ]
  },
  {
   "cell_type": "markdown",
   "metadata": {},
   "source": [
    "<div>\n",
    "  <p><b>Q41:</b> The demos above actually had the keeper cheat! The keeper reveiceved the chances used for your mixed strategy and made a pure strategy to counter it. Why might this be similar to the result of fictitious play against a mixed strategy with infinite previous iterations?</p>\n",
    "\n",
    "  <p><b>A:</b><font color='blue'> As you increase the amount of iterations played, you would expect the empirical frequency of the played strategies to approach the actual chances of each pure strategy being played. As such, with the frequencies in a state where they are almost constant, the problem of minimizing the risk (from the keeper's perspective) will continuously yield the same result (therefore allowing the choice made to be constant; a pure strategy).</font></p>\n",
    "</div>"
   ]
  },
  {
   "cell_type": "markdown",
   "metadata": {},
   "source": [
    "<div>\n",
    "  <p><b>Q42:</b> Suppose you are again, no longer bound to using a mixed strategy. Is there a way you could exploit the keeper's fictitious play?</p>\n",
    "\n",
    "  <p><b>A:</b><font color='blue'> By keeping track of the keeper's perceived risks, you could consistently play the actions that would maximize your chances of scoring against the keeper's next move.</font></p>\n",
    "</div>"
   ]
  },
  {
   "cell_type": "markdown",
   "metadata": {},
   "source": [
    "### Alternative Table 1: \n",
    "\n",
    "| Scoring Probability |  LL  |  LM  |  LR  |  ML  |  MM  |  MR  |  RL  |  RM  |  RR  |\n",
    "|:-------------------:|:----:|:----:|:----:|:----:|:----:|:----:|:----:|:----:|:----:|\n",
    "| Right-footed Kicker | 0.55 | 0.65 | 0.93 | 0.74 | 0.60 | 0.72 | 0.95 | 0.73 | 0.70 |\n",
    "| Left-footed Kicker  | 0.67 | 0.70 | 0.96 | 0.74 | 0.60 | 0.72 | 0.87 | 0.65 | 0.61 |\n",
    "\n",
    "<center>Table 1: The column headers indicate kicker kick, keeper dive directions.</center>"
   ]
  },
  {
   "cell_type": "markdown",
   "metadata": {},
   "source": [
    "### Left-footed Kicker Subgame Alternative Matrix:\n",
    "| Left-Footed Kicker  | Keeper Dives Left | Keeper Dives Middle | Keeper Dives Right |\n",
    "|:-------------------:|:-----------------:|:-------------------:|:------------------:|\n",
    "|  Kicker Kicks Left  |   +0.67 / -0.67   |    +0.70 / -0.70    |   +0.96 / -0.96    |\n",
    "| Kicker Kicks Middle |   +0.74 / -0.74   |    +0.60 / -0.60    |   +0.72 / -0.72    |\n",
    "| Kicker Kicks Right  |   +0.87 / -0.87   |    +0.65 / -0.65    |   +0.61 / -0.61    |"
   ]
  },
  {
   "cell_type": "markdown",
   "metadata": {},
   "source": [
    "### Right-footed Kicker Subgame Alternative Matrix:\n",
    "| Right-Footed Kicker | Keeper Dives Left | Keeper Dives Middle | Keeper Dives Right |\n",
    "|:-------------------:|:-----------------:|:-------------------:|:------------------:|\n",
    "|  Kicker Kicks Left  |   +0.55 / -0.55   |    +0.65 / -0.65    |   +0.93 / -0.93    |\n",
    "| Kicker Kicks Middle |   +0.74 / -0.74   |    +0.60 / -0.60    |   +0.72 / -0.72    |\n",
    "| Kicker Kicks Right  |   +0.95 / -0.95   |    +0.73 / -0.73    |   +0.70 / -0.70    |"
   ]
  },
  {
   "cell_type": "markdown",
   "metadata": {},
   "source": [
    "### Right-footed Kicker Subgame Alternative Matrix w/ Middle Dropped:\n",
    "| Right-Footed Kicker | Keeper Dives Left | Keeper Dives Middle | Keeper Dives Right |\n",
    "|:-------------------:|:-----------------:|:-------------------:|:------------------:|\n",
    "|  Kicker Kicks Left  |   +0.55 / -0.55   |    +0.65 / -0.65    |   +0.93 / -0.93    |\n",
    "| Kicker Kicks Right  |   +0.95 / -0.95   |    +0.73 / -0.73    |   +0.70 / -0.70    |"
   ]
  },
  {
   "cell_type": "markdown",
   "metadata": {},
   "source": [
    "### Left-footed Kicker Subgame Alternative Matrix w/ Middle Dropped:\n",
    "| Left-Footed Kicker  | Keeper Dives Left | Keeper Dives Middle | Keeper Dives Right |\n",
    "|:-------------------:|:-----------------:|:-------------------:|:------------------:|\n",
    "|  Kicker Kicks Left  |   +0.67 / -0.67   |    +0.70 / -0.70    |   +0.96 / -0.96    |\n",
    "| Kicker Kicks Right  |   +0.87 / -0.87   |    +0.65 / -0.65    |   +0.61 / -0.61    |"
   ]
  },
  {
   "cell_type": "markdown",
   "metadata": {},
   "source": [
    "### Right-footed Kicker Subgame Alternative Matrix w/ Middle and Dive Left Dropped:\n",
    "| Right-Footed Kicker | Keeper Dives Middle | Keeper Dives Right |\n",
    "|:-------------------:|:-------------------:|:------------------:|\n",
    "|  Kicker Kicks Left  |    +0.65 / -0.65    |   +0.93 / -0.93    |\n",
    "| Kicker Kicks Right  |    +0.73 / -0.73    |   +0.70 / -0.70    |"
   ]
  }
 ],
 "metadata": {
  "kernelspec": {
   "display_name": "Python 3 (ipykernel)",
   "language": "python",
   "name": "python3"
  },
  "language_info": {
   "codemirror_mode": {
    "name": "ipython",
    "version": 3
   },
   "file_extension": ".py",
   "mimetype": "text/x-python",
   "name": "python",
   "nbconvert_exporter": "python",
   "pygments_lexer": "ipython3",
   "version": "3.7.13"
  }
 },
 "nbformat": 4,
 "nbformat_minor": 4
}
