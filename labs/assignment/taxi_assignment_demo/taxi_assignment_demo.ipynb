{
 "cells": [
  {
   "cell_type": "markdown",
   "id": "35fd644f",
   "metadata": {},
   "source": [
    "This notebook was adapted heavily from Joe Ye's nyc_taxi_assignment_problem notebook."
   ]
  },
  {
   "cell_type": "code",
   "execution_count": 1,
   "id": "8460edb7",
   "metadata": {
    "scrolled": true
   },
   "outputs": [
    {
     "data": {
      "text/html": [
       "\n",
       "    <div class=\"bk-root\">\n",
       "        <a href=\"https://bokeh.org\" target=\"_blank\" class=\"bk-logo bk-logo-small bk-logo-notebook\"></a>\n",
       "        <span id=\"1001\">Loading BokehJS ...</span>\n",
       "    </div>"
      ]
     },
     "metadata": {},
     "output_type": "display_data"
    },
    {
     "data": {
      "application/javascript": [
       "\n",
       "(function(root) {\n",
       "  function now() {\n",
       "    return new Date();\n",
       "  }\n",
       "\n",
       "  var force = true;\n",
       "\n",
       "  if (typeof root._bokeh_onload_callbacks === \"undefined\" || force === true) {\n",
       "    root._bokeh_onload_callbacks = [];\n",
       "    root._bokeh_is_loading = undefined;\n",
       "  }\n",
       "\n",
       "  var JS_MIME_TYPE = 'application/javascript';\n",
       "  var HTML_MIME_TYPE = 'text/html';\n",
       "  var EXEC_MIME_TYPE = 'application/vnd.bokehjs_exec.v0+json';\n",
       "  var CLASS_NAME = 'output_bokeh rendered_html';\n",
       "\n",
       "  /**\n",
       "   * Render data to the DOM node\n",
       "   */\n",
       "  function render(props, node) {\n",
       "    var script = document.createElement(\"script\");\n",
       "    node.appendChild(script);\n",
       "  }\n",
       "\n",
       "  /**\n",
       "   * Handle when an output is cleared or removed\n",
       "   */\n",
       "  function handleClearOutput(event, handle) {\n",
       "    var cell = handle.cell;\n",
       "\n",
       "    var id = cell.output_area._bokeh_element_id;\n",
       "    var server_id = cell.output_area._bokeh_server_id;\n",
       "    // Clean up Bokeh references\n",
       "    if (id != null && id in Bokeh.index) {\n",
       "      Bokeh.index[id].model.document.clear();\n",
       "      delete Bokeh.index[id];\n",
       "    }\n",
       "\n",
       "    if (server_id !== undefined) {\n",
       "      // Clean up Bokeh references\n",
       "      var cmd = \"from bokeh.io.state import curstate; print(curstate().uuid_to_server['\" + server_id + \"'].get_sessions()[0].document.roots[0]._id)\";\n",
       "      cell.notebook.kernel.execute(cmd, {\n",
       "        iopub: {\n",
       "          output: function(msg) {\n",
       "            var id = msg.content.text.trim();\n",
       "            if (id in Bokeh.index) {\n",
       "              Bokeh.index[id].model.document.clear();\n",
       "              delete Bokeh.index[id];\n",
       "            }\n",
       "          }\n",
       "        }\n",
       "      });\n",
       "      // Destroy server and session\n",
       "      var cmd = \"import bokeh.io.notebook as ion; ion.destroy_server('\" + server_id + \"')\";\n",
       "      cell.notebook.kernel.execute(cmd);\n",
       "    }\n",
       "  }\n",
       "\n",
       "  /**\n",
       "   * Handle when a new output is added\n",
       "   */\n",
       "  function handleAddOutput(event, handle) {\n",
       "    var output_area = handle.output_area;\n",
       "    var output = handle.output;\n",
       "\n",
       "    // limit handleAddOutput to display_data with EXEC_MIME_TYPE content only\n",
       "    if ((output.output_type != \"display_data\") || (!output.data.hasOwnProperty(EXEC_MIME_TYPE))) {\n",
       "      return\n",
       "    }\n",
       "\n",
       "    var toinsert = output_area.element.find(\".\" + CLASS_NAME.split(' ')[0]);\n",
       "\n",
       "    if (output.metadata[EXEC_MIME_TYPE][\"id\"] !== undefined) {\n",
       "      toinsert[toinsert.length - 1].firstChild.textContent = output.data[JS_MIME_TYPE];\n",
       "      // store reference to embed id on output_area\n",
       "      output_area._bokeh_element_id = output.metadata[EXEC_MIME_TYPE][\"id\"];\n",
       "    }\n",
       "    if (output.metadata[EXEC_MIME_TYPE][\"server_id\"] !== undefined) {\n",
       "      var bk_div = document.createElement(\"div\");\n",
       "      bk_div.innerHTML = output.data[HTML_MIME_TYPE];\n",
       "      var script_attrs = bk_div.children[0].attributes;\n",
       "      for (var i = 0; i < script_attrs.length; i++) {\n",
       "        toinsert[toinsert.length - 1].firstChild.setAttribute(script_attrs[i].name, script_attrs[i].value);\n",
       "        toinsert[toinsert.length - 1].firstChild.textContent = bk_div.children[0].textContent\n",
       "      }\n",
       "      // store reference to server id on output_area\n",
       "      output_area._bokeh_server_id = output.metadata[EXEC_MIME_TYPE][\"server_id\"];\n",
       "    }\n",
       "  }\n",
       "\n",
       "  function register_renderer(events, OutputArea) {\n",
       "\n",
       "    function append_mime(data, metadata, element) {\n",
       "      // create a DOM node to render to\n",
       "      var toinsert = this.create_output_subarea(\n",
       "        metadata,\n",
       "        CLASS_NAME,\n",
       "        EXEC_MIME_TYPE\n",
       "      );\n",
       "      this.keyboard_manager.register_events(toinsert);\n",
       "      // Render to node\n",
       "      var props = {data: data, metadata: metadata[EXEC_MIME_TYPE]};\n",
       "      render(props, toinsert[toinsert.length - 1]);\n",
       "      element.append(toinsert);\n",
       "      return toinsert\n",
       "    }\n",
       "\n",
       "    /* Handle when an output is cleared or removed */\n",
       "    events.on('clear_output.CodeCell', handleClearOutput);\n",
       "    events.on('delete.Cell', handleClearOutput);\n",
       "\n",
       "    /* Handle when a new output is added */\n",
       "    events.on('output_added.OutputArea', handleAddOutput);\n",
       "\n",
       "    /**\n",
       "     * Register the mime type and append_mime function with output_area\n",
       "     */\n",
       "    OutputArea.prototype.register_mime_type(EXEC_MIME_TYPE, append_mime, {\n",
       "      /* Is output safe? */\n",
       "      safe: true,\n",
       "      /* Index of renderer in `output_area.display_order` */\n",
       "      index: 0\n",
       "    });\n",
       "  }\n",
       "\n",
       "  // register the mime type if in Jupyter Notebook environment and previously unregistered\n",
       "  if (root.Jupyter !== undefined) {\n",
       "    var events = require('base/js/events');\n",
       "    var OutputArea = require('notebook/js/outputarea').OutputArea;\n",
       "\n",
       "    if (OutputArea.prototype.mime_types().indexOf(EXEC_MIME_TYPE) == -1) {\n",
       "      register_renderer(events, OutputArea);\n",
       "    }\n",
       "  }\n",
       "\n",
       "  \n",
       "  if (typeof (root._bokeh_timeout) === \"undefined\" || force === true) {\n",
       "    root._bokeh_timeout = Date.now() + 5000;\n",
       "    root._bokeh_failed_load = false;\n",
       "  }\n",
       "\n",
       "  var NB_LOAD_WARNING = {'data': {'text/html':\n",
       "     \"<div style='background-color: #fdd'>\\n\"+\n",
       "     \"<p>\\n\"+\n",
       "     \"BokehJS does not appear to have successfully loaded. If loading BokehJS from CDN, this \\n\"+\n",
       "     \"may be due to a slow or bad network connection. Possible fixes:\\n\"+\n",
       "     \"</p>\\n\"+\n",
       "     \"<ul>\\n\"+\n",
       "     \"<li>re-rerun `output_notebook()` to attempt to load from CDN again, or</li>\\n\"+\n",
       "     \"<li>use INLINE resources instead, as so:</li>\\n\"+\n",
       "     \"</ul>\\n\"+\n",
       "     \"<code>\\n\"+\n",
       "     \"from bokeh.resources import INLINE\\n\"+\n",
       "     \"output_notebook(resources=INLINE)\\n\"+\n",
       "     \"</code>\\n\"+\n",
       "     \"</div>\"}};\n",
       "\n",
       "  function display_loaded() {\n",
       "    var el = document.getElementById(\"1001\");\n",
       "    if (el != null) {\n",
       "      el.textContent = \"BokehJS is loading...\";\n",
       "    }\n",
       "    if (root.Bokeh !== undefined) {\n",
       "      if (el != null) {\n",
       "        el.textContent = \"BokehJS \" + root.Bokeh.version + \" successfully loaded.\";\n",
       "      }\n",
       "    } else if (Date.now() < root._bokeh_timeout) {\n",
       "      setTimeout(display_loaded, 100)\n",
       "    }\n",
       "  }\n",
       "\n",
       "\n",
       "  function run_callbacks() {\n",
       "    try {\n",
       "      root._bokeh_onload_callbacks.forEach(function(callback) {\n",
       "        if (callback != null)\n",
       "          callback();\n",
       "      });\n",
       "    } finally {\n",
       "      delete root._bokeh_onload_callbacks\n",
       "    }\n",
       "    console.debug(\"Bokeh: all callbacks have finished\");\n",
       "  }\n",
       "\n",
       "  function load_libs(css_urls, js_urls, callback) {\n",
       "    if (css_urls == null) css_urls = [];\n",
       "    if (js_urls == null) js_urls = [];\n",
       "\n",
       "    root._bokeh_onload_callbacks.push(callback);\n",
       "    if (root._bokeh_is_loading > 0) {\n",
       "      console.debug(\"Bokeh: BokehJS is being loaded, scheduling callback at\", now());\n",
       "      return null;\n",
       "    }\n",
       "    if (js_urls == null || js_urls.length === 0) {\n",
       "      run_callbacks();\n",
       "      return null;\n",
       "    }\n",
       "    console.debug(\"Bokeh: BokehJS not loaded, scheduling load and callback at\", now());\n",
       "    root._bokeh_is_loading = css_urls.length + js_urls.length;\n",
       "\n",
       "    function on_load() {\n",
       "      root._bokeh_is_loading--;\n",
       "      if (root._bokeh_is_loading === 0) {\n",
       "        console.debug(\"Bokeh: all BokehJS libraries/stylesheets loaded\");\n",
       "        run_callbacks()\n",
       "      }\n",
       "    }\n",
       "\n",
       "    function on_error() {\n",
       "      console.error(\"failed to load \" + url);\n",
       "    }\n",
       "\n",
       "    for (var i = 0; i < css_urls.length; i++) {\n",
       "      var url = css_urls[i];\n",
       "      const element = document.createElement(\"link\");\n",
       "      element.onload = on_load;\n",
       "      element.onerror = on_error;\n",
       "      element.rel = \"stylesheet\";\n",
       "      element.type = \"text/css\";\n",
       "      element.href = url;\n",
       "      console.debug(\"Bokeh: injecting link tag for BokehJS stylesheet: \", url);\n",
       "      document.body.appendChild(element);\n",
       "    }\n",
       "\n",
       "    const hashes = {\"https://cdn.bokeh.org/bokeh/release/bokeh-2.2.3.min.js\": \"T2yuo9Oe71Cz/I4X9Ac5+gpEa5a8PpJCDlqKYO0CfAuEszu1JrXLl8YugMqYe3sM\", \"https://cdn.bokeh.org/bokeh/release/bokeh-widgets-2.2.3.min.js\": \"98GDGJ0kOMCUMUePhksaQ/GYgB3+NH9h996V88sh3aOiUNX3N+fLXAtry6xctSZ6\", \"https://cdn.bokeh.org/bokeh/release/bokeh-tables-2.2.3.min.js\": \"89bArO+nlbP3sgakeHjCo1JYxYR5wufVgA3IbUvDY+K7w4zyxJqssu7wVnfeKCq8\"};\n",
       "\n",
       "    for (var i = 0; i < js_urls.length; i++) {\n",
       "      var url = js_urls[i];\n",
       "      var element = document.createElement('script');\n",
       "      element.onload = on_load;\n",
       "      element.onerror = on_error;\n",
       "      element.async = false;\n",
       "      element.src = url;\n",
       "      if (url in hashes) {\n",
       "        element.crossOrigin = \"anonymous\";\n",
       "        element.integrity = \"sha384-\" + hashes[url];\n",
       "      }\n",
       "      console.debug(\"Bokeh: injecting script tag for BokehJS library: \", url);\n",
       "      document.head.appendChild(element);\n",
       "    }\n",
       "  };\n",
       "\n",
       "  function inject_raw_css(css) {\n",
       "    const element = document.createElement(\"style\");\n",
       "    element.appendChild(document.createTextNode(css));\n",
       "    document.body.appendChild(element);\n",
       "  }\n",
       "\n",
       "  \n",
       "  var js_urls = [\"https://cdn.bokeh.org/bokeh/release/bokeh-2.2.3.min.js\", \"https://cdn.bokeh.org/bokeh/release/bokeh-widgets-2.2.3.min.js\", \"https://cdn.bokeh.org/bokeh/release/bokeh-tables-2.2.3.min.js\"];\n",
       "  var css_urls = [];\n",
       "  \n",
       "\n",
       "  var inline_js = [\n",
       "    function(Bokeh) {\n",
       "      Bokeh.set_log_level(\"info\");\n",
       "    },\n",
       "    function(Bokeh) {\n",
       "    \n",
       "    \n",
       "    }\n",
       "  ];\n",
       "\n",
       "  function run_inline_js() {\n",
       "    \n",
       "    if (root.Bokeh !== undefined || force === true) {\n",
       "      \n",
       "    for (var i = 0; i < inline_js.length; i++) {\n",
       "      inline_js[i].call(root, root.Bokeh);\n",
       "    }\n",
       "    if (force === true) {\n",
       "        display_loaded();\n",
       "      }} else if (Date.now() < root._bokeh_timeout) {\n",
       "      setTimeout(run_inline_js, 100);\n",
       "    } else if (!root._bokeh_failed_load) {\n",
       "      console.log(\"Bokeh: BokehJS failed to load within specified timeout.\");\n",
       "      root._bokeh_failed_load = true;\n",
       "    } else if (force !== true) {\n",
       "      var cell = $(document.getElementById(\"1001\")).parents('.cell').data().cell;\n",
       "      cell.output_area.append_execute_result(NB_LOAD_WARNING)\n",
       "    }\n",
       "\n",
       "  }\n",
       "\n",
       "  if (root._bokeh_is_loading === 0) {\n",
       "    console.debug(\"Bokeh: BokehJS loaded, going straight to plotting\");\n",
       "    run_inline_js();\n",
       "  } else {\n",
       "    load_libs(css_urls, js_urls, function() {\n",
       "      console.debug(\"Bokeh: BokehJS plotting callback run at\", now());\n",
       "      run_inline_js();\n",
       "    });\n",
       "  }\n",
       "}(window));"
      ],
      "application/vnd.bokehjs_load.v0+json": "\n(function(root) {\n  function now() {\n    return new Date();\n  }\n\n  var force = true;\n\n  if (typeof root._bokeh_onload_callbacks === \"undefined\" || force === true) {\n    root._bokeh_onload_callbacks = [];\n    root._bokeh_is_loading = undefined;\n  }\n\n  \n\n  \n  if (typeof (root._bokeh_timeout) === \"undefined\" || force === true) {\n    root._bokeh_timeout = Date.now() + 5000;\n    root._bokeh_failed_load = false;\n  }\n\n  var NB_LOAD_WARNING = {'data': {'text/html':\n     \"<div style='background-color: #fdd'>\\n\"+\n     \"<p>\\n\"+\n     \"BokehJS does not appear to have successfully loaded. If loading BokehJS from CDN, this \\n\"+\n     \"may be due to a slow or bad network connection. Possible fixes:\\n\"+\n     \"</p>\\n\"+\n     \"<ul>\\n\"+\n     \"<li>re-rerun `output_notebook()` to attempt to load from CDN again, or</li>\\n\"+\n     \"<li>use INLINE resources instead, as so:</li>\\n\"+\n     \"</ul>\\n\"+\n     \"<code>\\n\"+\n     \"from bokeh.resources import INLINE\\n\"+\n     \"output_notebook(resources=INLINE)\\n\"+\n     \"</code>\\n\"+\n     \"</div>\"}};\n\n  function display_loaded() {\n    var el = document.getElementById(\"1001\");\n    if (el != null) {\n      el.textContent = \"BokehJS is loading...\";\n    }\n    if (root.Bokeh !== undefined) {\n      if (el != null) {\n        el.textContent = \"BokehJS \" + root.Bokeh.version + \" successfully loaded.\";\n      }\n    } else if (Date.now() < root._bokeh_timeout) {\n      setTimeout(display_loaded, 100)\n    }\n  }\n\n\n  function run_callbacks() {\n    try {\n      root._bokeh_onload_callbacks.forEach(function(callback) {\n        if (callback != null)\n          callback();\n      });\n    } finally {\n      delete root._bokeh_onload_callbacks\n    }\n    console.debug(\"Bokeh: all callbacks have finished\");\n  }\n\n  function load_libs(css_urls, js_urls, callback) {\n    if (css_urls == null) css_urls = [];\n    if (js_urls == null) js_urls = [];\n\n    root._bokeh_onload_callbacks.push(callback);\n    if (root._bokeh_is_loading > 0) {\n      console.debug(\"Bokeh: BokehJS is being loaded, scheduling callback at\", now());\n      return null;\n    }\n    if (js_urls == null || js_urls.length === 0) {\n      run_callbacks();\n      return null;\n    }\n    console.debug(\"Bokeh: BokehJS not loaded, scheduling load and callback at\", now());\n    root._bokeh_is_loading = css_urls.length + js_urls.length;\n\n    function on_load() {\n      root._bokeh_is_loading--;\n      if (root._bokeh_is_loading === 0) {\n        console.debug(\"Bokeh: all BokehJS libraries/stylesheets loaded\");\n        run_callbacks()\n      }\n    }\n\n    function on_error() {\n      console.error(\"failed to load \" + url);\n    }\n\n    for (var i = 0; i < css_urls.length; i++) {\n      var url = css_urls[i];\n      const element = document.createElement(\"link\");\n      element.onload = on_load;\n      element.onerror = on_error;\n      element.rel = \"stylesheet\";\n      element.type = \"text/css\";\n      element.href = url;\n      console.debug(\"Bokeh: injecting link tag for BokehJS stylesheet: \", url);\n      document.body.appendChild(element);\n    }\n\n    const hashes = {\"https://cdn.bokeh.org/bokeh/release/bokeh-2.2.3.min.js\": \"T2yuo9Oe71Cz/I4X9Ac5+gpEa5a8PpJCDlqKYO0CfAuEszu1JrXLl8YugMqYe3sM\", \"https://cdn.bokeh.org/bokeh/release/bokeh-widgets-2.2.3.min.js\": \"98GDGJ0kOMCUMUePhksaQ/GYgB3+NH9h996V88sh3aOiUNX3N+fLXAtry6xctSZ6\", \"https://cdn.bokeh.org/bokeh/release/bokeh-tables-2.2.3.min.js\": \"89bArO+nlbP3sgakeHjCo1JYxYR5wufVgA3IbUvDY+K7w4zyxJqssu7wVnfeKCq8\"};\n\n    for (var i = 0; i < js_urls.length; i++) {\n      var url = js_urls[i];\n      var element = document.createElement('script');\n      element.onload = on_load;\n      element.onerror = on_error;\n      element.async = false;\n      element.src = url;\n      if (url in hashes) {\n        element.crossOrigin = \"anonymous\";\n        element.integrity = \"sha384-\" + hashes[url];\n      }\n      console.debug(\"Bokeh: injecting script tag for BokehJS library: \", url);\n      document.head.appendChild(element);\n    }\n  };\n\n  function inject_raw_css(css) {\n    const element = document.createElement(\"style\");\n    element.appendChild(document.createTextNode(css));\n    document.body.appendChild(element);\n  }\n\n  \n  var js_urls = [\"https://cdn.bokeh.org/bokeh/release/bokeh-2.2.3.min.js\", \"https://cdn.bokeh.org/bokeh/release/bokeh-widgets-2.2.3.min.js\", \"https://cdn.bokeh.org/bokeh/release/bokeh-tables-2.2.3.min.js\"];\n  var css_urls = [];\n  \n\n  var inline_js = [\n    function(Bokeh) {\n      Bokeh.set_log_level(\"info\");\n    },\n    function(Bokeh) {\n    \n    \n    }\n  ];\n\n  function run_inline_js() {\n    \n    if (root.Bokeh !== undefined || force === true) {\n      \n    for (var i = 0; i < inline_js.length; i++) {\n      inline_js[i].call(root, root.Bokeh);\n    }\n    if (force === true) {\n        display_loaded();\n      }} else if (Date.now() < root._bokeh_timeout) {\n      setTimeout(run_inline_js, 100);\n    } else if (!root._bokeh_failed_load) {\n      console.log(\"Bokeh: BokehJS failed to load within specified timeout.\");\n      root._bokeh_failed_load = true;\n    } else if (force !== true) {\n      var cell = $(document.getElementById(\"1001\")).parents('.cell').data().cell;\n      cell.output_area.append_execute_result(NB_LOAD_WARNING)\n    }\n\n  }\n\n  if (root._bokeh_is_loading === 0) {\n    console.debug(\"Bokeh: BokehJS loaded, going straight to plotting\");\n    run_inline_js();\n  } else {\n    load_libs(css_urls, js_urls, function() {\n      console.debug(\"Bokeh: BokehJS plotting callback run at\", now());\n      run_inline_js();\n    });\n  }\n}(window));"
     },
     "metadata": {},
     "output_type": "display_data"
    }
   ],
   "source": [
    "import pandas as pd\n",
    "import numpy as np\n",
    "import networkx as nx\n",
    "from ortools.graph import pywrapgraph\n",
    "from ortools.linear_solver import pywraplp as OR\n",
    "import copy\n",
    "\n",
    "from bokeh import palettes\n",
    "from bokeh.plotting import figure, show\n",
    "from bokeh.io import output_notebook\n",
    "from bokeh.tile_providers import get_provider, Vendors\n",
    "from bokeh.models import (GraphRenderer, Circle, Rect, MultiLine, StaticLayoutProvider,\n",
    "                          HoverTool, TapTool, EdgesAndLinkedNodes, NodesAndLinkedEdges,\n",
    "                          ColumnDataSource, LabelSet, NodesOnly)\n",
    "\n",
    "output_notebook()"
   ]
  },
  {
   "cell_type": "code",
   "execution_count": 2,
   "id": "242adcd5",
   "metadata": {
    "scrolled": true
   },
   "outputs": [],
   "source": [
    "# Defines the time periods to use for pickup and dropoff, this example starts at 5:00 PM\n",
    "dropoff_window_start = 1020\n",
    "dropoff_window_duration = 5\n",
    "gap_interval_duration = 3\n",
    "pickup_window_duration = 5\n",
    "\n",
    "# Window for travel time\n",
    "travel_window = 10\n",
    "# Enforces travel time to be less than the travel window. Also uses travel times as cost instead of wait time \n",
    "use_travel_time_as_cost = True\n",
    "\n",
    "# If this is True, will slide the dropoff window back until there are at least as many dropoffs as pickups\n",
    "slide_dropoff_window = True"
   ]
  },
  {
   "cell_type": "markdown",
   "id": "6562cd90",
   "metadata": {},
   "source": [
    "## Data Processing"
   ]
  },
  {
   "cell_type": "code",
   "execution_count": 3,
   "id": "fbaccf2c",
   "metadata": {
    "scrolled": true
   },
   "outputs": [],
   "source": [
    "# Get data from the csv\n",
    "trips_df = pd.read_csv('data/2013-09-01_trip_data_manhattan.csv').drop(columns='id')\n",
    "nodes_df = pd.read_csv('data/nyc_nodes_manhattan.csv').drop(columns='Unnamed: 0')"
   ]
  },
  {
   "cell_type": "code",
   "execution_count": 4,
   "id": "4562eb28",
   "metadata": {
    "scrolled": true
   },
   "outputs": [],
   "source": [
    "def get_trips(start_time, duration):\n",
    "    \"\"\"Returns all trips between start_time and start_time+duration\"\"\"\n",
    "    end_time = start_time + duration\n",
    "    trips = trips_df.copy()\n",
    "    trips = trips[(trips.start_time >= start_time) & \n",
    "              (trips.start_time + trips.trip_time <= end_time)].copy()\n",
    "    return trips"
   ]
  },
  {
   "cell_type": "code",
   "execution_count": 5,
   "id": "7ea55099",
   "metadata": {
    "scrolled": true
   },
   "outputs": [],
   "source": [
    "# Load all pickups from the relevant window. Tuple of (Location id, pickup time, trip id, 'PU')\n",
    "PU_nodes = []\n",
    "trips = get_trips(dropoff_window_start+dropoff_window_duration+gap_interval_duration, pickup_window_duration)\n",
    "for index, row in trips.iterrows():\n",
    "    s = row['start_node']\n",
    "    s_t = row['start_time']\n",
    "    PU_node = (int(s), s_t, index, 'PU')\n",
    "    PU_nodes.append(PU_node)"
   ]
  },
  {
   "cell_type": "code",
   "execution_count": 6,
   "id": "c9756ef4",
   "metadata": {
    "scrolled": true
   },
   "outputs": [],
   "source": [
    "# Load all dropoffs from the relevant window. Tuple of (Location id, dropoff time, trip id, 'DO')\n",
    "sliding = True\n",
    "while sliding:\n",
    "    DO_nodes = []\n",
    "    trips = get_trips(dropoff_window_start, dropoff_window_duration)\n",
    "    for index, row in trips.iterrows():\n",
    "        t = row['end_node']\n",
    "        s_t = row['start_time']\n",
    "        t_t = row['trip_time']    \n",
    "        DO_node = (int(t), s_t + t_t, index, 'DO')\n",
    "        DO_nodes.append(DO_node)\n",
    "    if len(DO_nodes) >= len(PU_nodes) or not slide_dropoff_window or dropoff_window_start <= 0:\n",
    "        sliding = False\n",
    "    else:\n",
    "        dropoff_window_start -= 1\n",
    "        dropoff_window_duration += 1"
   ]
  },
  {
   "cell_type": "code",
   "execution_count": 7,
   "id": "da58b2e0",
   "metadata": {
    "scrolled": true
   },
   "outputs": [],
   "source": [
    "# Sort nodes by time\n",
    "DO_nodes.sort(key = lambda x: x[1])\n",
    "PU_nodes.sort(key = lambda x: x[1])\n",
    "\n",
    "# Assign each node a unique integer id\n",
    "identifier = 0\n",
    "for i, node in enumerate(DO_nodes):\n",
    "    DO_nodes[i] = tuple(list(node) + [identifier])\n",
    "    identifier += 1\n",
    "for i, node in enumerate(PU_nodes):\n",
    "    PU_nodes[i] = tuple(list(node) + [identifier])\n",
    "    identifier += 1"
   ]
  },
  {
   "cell_type": "code",
   "execution_count": 8,
   "id": "632a0da8",
   "metadata": {
    "scrolled": true
   },
   "outputs": [
    {
     "name": "stdout",
     "output_type": "stream",
     "text": [
      "There are 98 dropoff nodes.\n"
     ]
    }
   ],
   "source": [
    "print(f'There are {len(DO_nodes)} dropoff nodes.')"
   ]
  },
  {
   "cell_type": "code",
   "execution_count": 9,
   "id": "6bc47f2a",
   "metadata": {
    "scrolled": true
   },
   "outputs": [
    {
     "name": "stdout",
     "output_type": "stream",
     "text": [
      "There are 77 pickup nodes.\n"
     ]
    }
   ],
   "source": [
    "print(f'There are {len(PU_nodes)} pickup nodes.')"
   ]
  },
  {
   "cell_type": "code",
   "execution_count": 10,
   "id": "a2dc4dbe",
   "metadata": {
    "scrolled": true
   },
   "outputs": [],
   "source": [
    "# Generate time to travel from a DO node to a PU nodes, assumes 2 minutes per km\n",
    "# Could instead use a precomputed structure for each node pair \n",
    "def compute_time(DO, PU):\n",
    "    lat1 = nodes_df.loc[DO_node[0], 'lat']\n",
    "    lon1 = nodes_df.loc[DO_node[0], 'lon']\n",
    "    lat2 = nodes_df.loc[PU_node[0], 'lat']\n",
    "    lon2 = nodes_df.loc[PU_node[0], 'lon']\n",
    "    R = 6371 # Radius of earth in km\n",
    "    distance = 0.01 + R * np.sqrt((lon1 - lon2)**2 + (lat1 - lat2)**2) * np.pi / 180\n",
    "    return 2 * distance"
   ]
  },
  {
   "cell_type": "code",
   "execution_count": 11,
   "id": "3d0e63d5",
   "metadata": {
    "scrolled": true
   },
   "outputs": [],
   "source": [
    "# Create an arc from each DO node to a PU node iff the taxi can make it in time and within travel window\n",
    "# [(Start node, end node, cost), ...]\n",
    "arcs = []\n",
    "for DO_node in DO_nodes:\n",
    "    for PU_node in PU_nodes:\n",
    "        if PU_node[1] >= DO_node[1]:\n",
    "            time = compute_time(DO_node, PU_node)\n",
    "            arrival_time = DO_node[1] + time\n",
    "            latest_valid_arrival = PU_node[1] + pickup_window_duration\n",
    "            if arrival_time <= latest_valid_arrival and time <= travel_window:\n",
    "                cost = arrival_time - PU_node[1]\n",
    "                if use_travel_time_as_cost:\n",
    "                    cost = time\n",
    "                cost = 0 if cost <= 0 else int(cost * 1000)\n",
    "                arcs.append((DO_node, PU_node, cost))"
   ]
  },
  {
   "cell_type": "markdown",
   "id": "e0c8e83f",
   "metadata": {},
   "source": [
    "## Bipartite Graph Assignment"
   ]
  },
  {
   "cell_type": "code",
   "execution_count": 12,
   "id": "b39db970",
   "metadata": {
    "scrolled": true
   },
   "outputs": [],
   "source": [
    "# Uses networkx to solve a bipartite matching formulation\n",
    "def find_optimal_matching():\n",
    "    B = nx.Graph()\n",
    "    B.add_nodes_from(DO_nodes, bipartite=0)\n",
    "    B.add_nodes_from(PU_nodes, bipartite=1)\n",
    "    B.add_edges_from([arc[:2] for arc in arcs])\n",
    "    \n",
    "    top_nodes = {n for n, d in B.nodes(data = True) if d[\"bipartite\"] == 0}\n",
    "    \n",
    "    return nx.bipartite.maximum_matching(B, DO_nodes)\n",
    "    \n",
    "match = find_optimal_matching()"
   ]
  },
  {
   "cell_type": "code",
   "execution_count": 13,
   "id": "42a48f24",
   "metadata": {
    "scrolled": true
   },
   "outputs": [
    {
     "name": "stdout",
     "output_type": "stream",
     "text": [
      "Max cardinality: 77\n"
     ]
    }
   ],
   "source": [
    "optimal_cardinality = int(len(match) / 2)\n",
    "print('Max cardinality:', optimal_cardinality)"
   ]
  },
  {
   "cell_type": "code",
   "execution_count": 14,
   "id": "e8602a9b",
   "metadata": {
    "scrolled": true
   },
   "outputs": [
    {
     "name": "stdout",
     "output_type": "stream",
     "text": [
      "Unmatched pickups: 0\n"
     ]
    }
   ],
   "source": [
    "print('Unmatched pickups:', len(PU_nodes) - optimal_cardinality)"
   ]
  },
  {
   "cell_type": "markdown",
   "id": "0f0307a0",
   "metadata": {},
   "source": [
    "So, to fulfill the most orders, we follow the assignment below."
   ]
  },
  {
   "cell_type": "code",
   "execution_count": 15,
   "id": "44e3a44a",
   "metadata": {
    "scrolled": true
   },
   "outputs": [
    {
     "name": "stdout",
     "output_type": "stream",
     "text": [
      "The taxi from trip #81327 should pick up the passenger from trip #81937.\n",
      "The taxi from trip #81150 should pick up the passenger from trip #81945.\n",
      "The taxi from trip #81163 should pick up the passenger from trip #81949.\n",
      "The taxi from trip #81250 should pick up the passenger from trip #81938.\n",
      "The taxi from trip #81277 should pick up the passenger from trip #81946.\n",
      "The taxi from trip #81175 should pick up the passenger from trip #81961.\n",
      "The taxi from trip #81213 should pick up the passenger from trip #81962.\n",
      "The taxi from trip #80996 should pick up the passenger from trip #81939.\n",
      "The taxi from trip #81282 should pick up the passenger from trip #81966.\n",
      "The taxi from trip #81018 should pick up the passenger from trip #81975.\n",
      "The taxi from trip #81006 should pick up the passenger from trip #81972.\n",
      "The taxi from trip #81062 should pick up the passenger from trip #81954.\n",
      "The taxi from trip #81460 should pick up the passenger from trip #81990.\n",
      "The taxi from trip #81242 should pick up the passenger from trip #81984.\n",
      "The taxi from trip #81086 should pick up the passenger from trip #81985.\n",
      "The taxi from trip #81090 should pick up the passenger from trip #81992.\n",
      "The taxi from trip #80984 should pick up the passenger from trip #82000.\n",
      "The taxi from trip #81058 should pick up the passenger from trip #81995.\n",
      "The taxi from trip #81284 should pick up the passenger from trip #82005.\n",
      "The taxi from trip #81374 should pick up the passenger from trip #82015.\n",
      "The taxi from trip #81211 should pick up the passenger from trip #82009.\n",
      "The taxi from trip #80971 should pick up the passenger from trip #82013.\n",
      "The taxi from trip #81204 should pick up the passenger from trip #82026.\n",
      "The taxi from trip #81081 should pick up the passenger from trip #82027.\n",
      "The taxi from trip #80954 should pick up the passenger from trip #82016.\n",
      "The taxi from trip #81161 should pick up the passenger from trip #82028.\n",
      "The taxi from trip #81111 should pick up the passenger from trip #82042.\n",
      "The taxi from trip #80947 should pick up the passenger from trip #82038.\n",
      "The taxi from trip #81077 should pick up the passenger from trip #82041.\n",
      "The taxi from trip #81012 should pick up the passenger from trip #82043.\n",
      "The taxi from trip #81481 should pick up the passenger from trip #82046.\n",
      "The taxi from trip #81126 should pick up the passenger from trip #82050.\n",
      "The taxi from trip #81039 should pick up the passenger from trip #82051.\n",
      "The taxi from trip #80983 should pick up the passenger from trip #82056.\n",
      "The taxi from trip #81198 should pick up the passenger from trip #82063.\n",
      "The taxi from trip #81189 should pick up the passenger from trip #82066.\n",
      "The taxi from trip #80995 should pick up the passenger from trip #82057.\n",
      "The taxi from trip #81084 should pick up the passenger from trip #82067.\n",
      "The taxi from trip #80964 should pick up the passenger from trip #82068.\n",
      "The taxi from trip #80997 should pick up the passenger from trip #82078.\n",
      "The taxi from trip #81079 should pick up the passenger from trip #82076.\n",
      "The taxi from trip #81117 should pick up the passenger from trip #82096.\n",
      "The taxi from trip #81331 should pick up the passenger from trip #82103.\n",
      "The taxi from trip #81188 should pick up the passenger from trip #82099.\n",
      "The taxi from trip #81292 should pick up the passenger from trip #82107.\n",
      "The taxi from trip #81119 should pick up the passenger from trip #82116.\n",
      "The taxi from trip #81019 should pick up the passenger from trip #82118.\n",
      "The taxi from trip #81132 should pick up the passenger from trip #82124.\n",
      "The taxi from trip #81278 should pick up the passenger from trip #82125.\n",
      "The taxi from trip #80991 should pick up the passenger from trip #82141.\n",
      "The taxi from trip #81004 should pick up the passenger from trip #82137.\n",
      "The taxi from trip #81224 should pick up the passenger from trip #82142.\n",
      "The taxi from trip #81343 should pick up the passenger from trip #82143.\n",
      "The taxi from trip #81133 should pick up the passenger from trip #82152.\n",
      "The taxi from trip #80987 should pick up the passenger from trip #82144.\n",
      "The taxi from trip #81440 should pick up the passenger from trip #82183.\n",
      "The taxi from trip #80953 should pick up the passenger from trip #82156.\n",
      "The taxi from trip #81128 should pick up the passenger from trip #82196.\n",
      "The taxi from trip #81167 should pick up the passenger from trip #82216.\n",
      "The taxi from trip #81231 should pick up the passenger from trip #82166.\n",
      "The taxi from trip #81102 should pick up the passenger from trip #82249.\n",
      "The taxi from trip #80985 should pick up the passenger from trip #82220.\n",
      "The taxi from trip #81029 should pick up the passenger from trip #82222.\n",
      "The taxi from trip #81384 should pick up the passenger from trip #82324.\n",
      "The taxi from trip #81243 should pick up the passenger from trip #82229.\n",
      "The taxi from trip #81169 should pick up the passenger from trip #82264.\n",
      "The taxi from trip #81501 should pick up the passenger from trip #82232.\n",
      "The taxi from trip #81092 should pick up the passenger from trip #82316.\n",
      "The taxi from trip #81127 should pick up the passenger from trip #82329.\n",
      "The taxi from trip #81088 should pick up the passenger from trip #82263.\n",
      "The taxi from trip #81247 should pick up the passenger from trip #82362.\n",
      "The taxi from trip #81233 should pick up the passenger from trip #82385.\n",
      "The taxi from trip #80999 should pick up the passenger from trip #82335.\n",
      "The taxi from trip #81158 should pick up the passenger from trip #82390.\n",
      "The taxi from trip #81139 should pick up the passenger from trip #82395.\n",
      "The taxi from trip #81114 should pick up the passenger from trip #82409.\n",
      "The taxi from trip #81320 should pick up the passenger from trip #82410.\n"
     ]
    }
   ],
   "source": [
    "max_match_paths = []\n",
    "for do, pu in match.items():\n",
    "    if pu[3] == 'DO':\n",
    "        continue\n",
    "    max_match_paths.append([(do[:4],pu[:4],False)])\n",
    "    print(f'The taxi from trip #{do[2]} should pick up the passenger from trip #{pu[2]}.')"
   ]
  },
  {
   "cell_type": "code",
   "execution_count": 16,
   "id": "4ef76a18",
   "metadata": {
    "scrolled": true
   },
   "outputs": [
    {
     "name": "stdout",
     "output_type": "stream",
     "text": [
      "The total travel time is 407.027 minutes.\n"
     ]
    }
   ],
   "source": [
    "# Calculate passenger wait time for the solution\n",
    "# Creates a dictionary for quick arc cost lookups\n",
    "arc_dict = {(arc[0], arc[1]): arc[2] for arc in arcs}\n",
    "wait_time = sum(arc_dict[(do,pu)] for do, pu in match.items() if pu[3] != 'DO')\n",
    "if use_travel_time_as_cost:\n",
    "    print(f'The total travel time is {wait_time / 1000} minutes.')\n",
    "else:\n",
    "    print(f'The passengers have to wait a total of {wait_time / 1000} minutes.')\n",
    "# Free the lookup dictionary\n",
    "del arc_dict"
   ]
  },
  {
   "cell_type": "markdown",
   "id": "b3dfef2a",
   "metadata": {},
   "source": [
    "## Min-Cost Flow Model"
   ]
  },
  {
   "cell_type": "markdown",
   "id": "83f9f635",
   "metadata": {},
   "source": [
    "We can also model this problem as a minimum-cost flow problem. This way we can minimize the amount of time that customers spend waiting.\n",
    "\n",
    "For a valid solution to exist, however, we need to know the maximum number of pickups that we can fill. Luckily, we recently found just that! We stored the value in the optimal_cardinality variable."
   ]
  },
  {
   "cell_type": "code",
   "execution_count": 17,
   "id": "716fdfa6",
   "metadata": {
    "scrolled": true
   },
   "outputs": [],
   "source": [
    "# Create a source and sink node\n",
    "source = (0,0,0,'SOURCE',identifier)\n",
    "identifier += 1\n",
    "sink = (0,0,0,'SINK',identifier)\n",
    "identifier += 1\n",
    "\n",
    "# Add arc from source to each dropoff with cost 0\n",
    "for node in DO_nodes:\n",
    "    arcs.append((source, node, 0))\n",
    "\n",
    "# Add arc from each pickup to the sink with cost 0\n",
    "for node in PU_nodes:\n",
    "    arcs.append((node, sink, 0))"
   ]
  },
  {
   "cell_type": "code",
   "execution_count": 18,
   "id": "4a163e81",
   "metadata": {
    "scrolled": true
   },
   "outputs": [],
   "source": [
    "start_nodes = [arc[0][4] for arc in arcs]\n",
    "end_nodes = [arc[1][4] for arc in arcs]\n",
    "capacities = [1] * len(arcs)\n",
    "unit_costs = [arc[2] for arc in arcs]\n",
    "\n",
    "supplies = [0] * (identifier)\n",
    "supplies[source[4]], supplies[sink[4]] = optimal_cardinality, -1 * optimal_cardinality"
   ]
  },
  {
   "cell_type": "code",
   "execution_count": 19,
   "id": "5c2f3784",
   "metadata": {
    "scrolled": true
   },
   "outputs": [],
   "source": [
    "min_cost_flow = pywrapgraph.SimpleMinCostFlow()\n",
    "\n",
    "for arc in zip(start_nodes, end_nodes, capacities, unit_costs):\n",
    "        min_cost_flow.AddArcWithCapacityAndUnitCost(*arc)\n",
    "        \n",
    "for count, supply in enumerate(supplies):\n",
    "        min_cost_flow.SetNodeSupply(count, supply)"
   ]
  },
  {
   "cell_type": "code",
   "execution_count": 20,
   "id": "1387b12e",
   "metadata": {
    "scrolled": true
   },
   "outputs": [
    {
     "name": "stdout",
     "output_type": "stream",
     "text": [
      "The total travel time is 65.154 minutes.\n"
     ]
    }
   ],
   "source": [
    "status = min_cost_flow.Solve()\n",
    "\n",
    "if status != min_cost_flow.OPTIMAL:\n",
    "        print('There was an issue with the min cost flow input.')\n",
    "        print(f'Status: {status}')\n",
    "if use_travel_time_as_cost:\n",
    "    print(f'The total travel time is {min_cost_flow.OptimalCost() / 1000} minutes.')\n",
    "else:\n",
    "    print(f'The passengers have to wait a total of {min_cost_flow.OptimalCost() / 1000} minutes.')"
   ]
  },
  {
   "cell_type": "markdown",
   "id": "697d672b",
   "metadata": {},
   "source": [
    "So, if we follow the assignment below, the passengers only need to wait this long for their taxis!"
   ]
  },
  {
   "cell_type": "code",
   "execution_count": 21,
   "id": "e8b8ae07",
   "metadata": {
    "scrolled": true
   },
   "outputs": [
    {
     "name": "stdout",
     "output_type": "stream",
     "text": [
      "The taxi from trip #80966 should pick up the passenger from trip #82057.\n",
      "The taxi from trip #80985 should pick up the passenger from trip #82385.\n",
      "The taxi from trip #80973 should pick up the passenger from trip #81984.\n",
      "The taxi from trip #80983 should pick up the passenger from trip #81992.\n",
      "The taxi from trip #80987 should pick up the passenger from trip #81966.\n",
      "The taxi from trip #80999 should pick up the passenger from trip #82103.\n",
      "The taxi from trip #81029 should pick up the passenger from trip #82232.\n",
      "The taxi from trip #81081 should pick up the passenger from trip #82063.\n",
      "The taxi from trip #81132 should pick up the passenger from trip #82051.\n",
      "The taxi from trip #80984 should pick up the passenger from trip #82125.\n",
      "The taxi from trip #80995 should pick up the passenger from trip #82324.\n",
      "The taxi from trip #80996 should pick up the passenger from trip #82009.\n",
      "The taxi from trip #80997 should pick up the passenger from trip #82026.\n",
      "The taxi from trip #81028 should pick up the passenger from trip #81937.\n",
      "The taxi from trip #81039 should pick up the passenger from trip #82137.\n",
      "The taxi from trip #81051 should pick up the passenger from trip #82143.\n",
      "The taxi from trip #81079 should pick up the passenger from trip #82124.\n",
      "The taxi from trip #81111 should pick up the passenger from trip #82066.\n",
      "The taxi from trip #81127 should pick up the passenger from trip #82078.\n",
      "The taxi from trip #81128 should pick up the passenger from trip #82142.\n",
      "The taxi from trip #81139 should pick up the passenger from trip #82222.\n",
      "The taxi from trip #81150 should pick up the passenger from trip #82068.\n",
      "The taxi from trip #81158 should pick up the passenger from trip #81939.\n",
      "The taxi from trip #81188 should pick up the passenger from trip #82316.\n",
      "The taxi from trip #81247 should pick up the passenger from trip #81954.\n",
      "The taxi from trip #81277 should pick up the passenger from trip #82028.\n",
      "The taxi from trip #81278 should pick up the passenger from trip #82410.\n",
      "The taxi from trip #81284 should pick up the passenger from trip #82335.\n",
      "The taxi from trip #81370 should pick up the passenger from trip #82099.\n",
      "The taxi from trip #80953 should pick up the passenger from trip #81962.\n",
      "The taxi from trip #80954 should pick up the passenger from trip #81938.\n",
      "The taxi from trip #80964 should pick up the passenger from trip #81945.\n",
      "The taxi from trip #80965 should pick up the passenger from trip #81990.\n",
      "The taxi from trip #80969 should pick up the passenger from trip #81985.\n",
      "The taxi from trip #80971 should pick up the passenger from trip #82216.\n",
      "The taxi from trip #80974 should pick up the passenger from trip #81972.\n",
      "The taxi from trip #80991 should pick up the passenger from trip #82362.\n",
      "The taxi from trip #81006 should pick up the passenger from trip #82096.\n",
      "The taxi from trip #81062 should pick up the passenger from trip #82196.\n",
      "The taxi from trip #81088 should pick up the passenger from trip #82067.\n",
      "The taxi from trip #81093 should pick up the passenger from trip #82264.\n",
      "The taxi from trip #81114 should pick up the passenger from trip #82016.\n",
      "The taxi from trip #81119 should pick up the passenger from trip #82144.\n",
      "The taxi from trip #81143 should pick up the passenger from trip #82409.\n",
      "The taxi from trip #81189 should pick up the passenger from trip #81975.\n",
      "The taxi from trip #81224 should pick up the passenger from trip #82329.\n",
      "The taxi from trip #81242 should pick up the passenger from trip #82220.\n",
      "The taxi from trip #81243 should pick up the passenger from trip #82229.\n",
      "The taxi from trip #81384 should pick up the passenger from trip #82041.\n",
      "The taxi from trip #81460 should pick up the passenger from trip #81949.\n",
      "The taxi from trip #80947 should pick up the passenger from trip #82046.\n",
      "The taxi from trip #80948 should pick up the passenger from trip #82013.\n",
      "The taxi from trip #80982 should pick up the passenger from trip #82263.\n",
      "The taxi from trip #81004 should pick up the passenger from trip #82027.\n",
      "The taxi from trip #81009 should pick up the passenger from trip #82249.\n",
      "The taxi from trip #81018 should pick up the passenger from trip #82000.\n",
      "The taxi from trip #81025 should pick up the passenger from trip #82042.\n",
      "The taxi from trip #81092 should pick up the passenger from trip #82050.\n",
      "The taxi from trip #81102 should pick up the passenger from trip #81995.\n",
      "The taxi from trip #81117 should pick up the passenger from trip #82118.\n",
      "The taxi from trip #81133 should pick up the passenger from trip #82005.\n",
      "The taxi from trip #81161 should pick up the passenger from trip #82116.\n",
      "The taxi from trip #81167 should pick up the passenger from trip #82141.\n",
      "The taxi from trip #81169 should pick up the passenger from trip #82015.\n",
      "The taxi from trip #81175 should pick up the passenger from trip #82056.\n",
      "The taxi from trip #81198 should pick up the passenger from trip #82107.\n",
      "The taxi from trip #81204 should pick up the passenger from trip #82395.\n",
      "The taxi from trip #81211 should pick up the passenger from trip #82152.\n",
      "The taxi from trip #81250 should pick up the passenger from trip #82043.\n",
      "The taxi from trip #81292 should pick up the passenger from trip #82156.\n",
      "The taxi from trip #81331 should pick up the passenger from trip #82166.\n",
      "The taxi from trip #81343 should pick up the passenger from trip #81961.\n",
      "The taxi from trip #81395 should pick up the passenger from trip #82076.\n",
      "The taxi from trip #81440 should pick up the passenger from trip #82390.\n",
      "The taxi from trip #81481 should pick up the passenger from trip #81946.\n",
      "The taxi from trip #81501 should pick up the passenger from trip #82183.\n",
      "The taxi from trip #81589 should pick up the passenger from trip #82038.\n"
     ]
    }
   ],
   "source": [
    "# Find the taxi assignments\n",
    "# Creates a dictionary for fast lookups\n",
    "trip_dict = {node[4]: node for node in DO_nodes + PU_nodes}\n",
    "# Holds the path of each taxi\n",
    "min_cost_paths = []\n",
    "for i in range(min_cost_flow.NumArcs()):\n",
    "    if min_cost_flow.Flow(i) == 1 and min_cost_flow.Tail(i) != source[4] and min_cost_flow.Head(i) != sink[4]:\n",
    "        do = trip_dict[min_cost_flow.Tail(i)]\n",
    "        pu = trip_dict[min_cost_flow.Head(i)]\n",
    "        min_cost_paths.append([(do[:4], pu[:4], False)])\n",
    "        print(f'The taxi from trip #{do[2]} should pick up the passenger from trip #{pu[2]}.')\n",
    "# Free the lookup dictionary\n",
    "del trip_dict"
   ]
  },
  {
   "cell_type": "markdown",
   "id": "c15bfab6",
   "metadata": {},
   "source": [
    "## Visualization"
   ]
  },
  {
   "cell_type": "code",
   "execution_count": 22,
   "id": "08b50bda",
   "metadata": {
    "scrolled": true
   },
   "outputs": [],
   "source": [
    "def plot_taxi_route(paths, title='Taxi Routes'):\n",
    "    \"\"\"Plot the path of every taxi in the given list on the Manhattan grid.\"\"\"\n",
    "    \n",
    "    # parallel lists for every arc\n",
    "    start = []  # start node\n",
    "    end = []  # end node\n",
    "    color = []  # color code by taxi\n",
    "    alpha = []  # opacity lower on trip arcs\n",
    "\n",
    "    # parallel lists for initial location nodes\n",
    "    start_nodes = []\n",
    "    start_colors = []\n",
    "    \n",
    "    end_nodes = []\n",
    "    end_colors = []\n",
    "\n",
    "    colors = palettes.Category10[10]\n",
    "    c = 0\n",
    "\n",
    "    for path in paths:\n",
    "\n",
    "        # add start node information for this taxi\n",
    "        start_nodes.append(path[0][0][0])\n",
    "        start_colors.append(colors[c])\n",
    "        \n",
    "        # adds a colored node to the end of paths\n",
    "        end_nodes.append(path[0][1][0])\n",
    "        end_colors.append(colors[c])\n",
    "\n",
    "        for comp in path:\n",
    "            start.append(comp[0][0])\n",
    "            end.append(comp[1][0])\n",
    "            alpha.append({True : 0.3, False : 1}[comp[2]])\n",
    "            color.append(colors[c])\n",
    "\n",
    "        c = c + 1 if c < len(colors)-1 else 0\n",
    "    \n",
    "    # parallel lists for nodes\n",
    "    nodes = nodes_df.loc[list(set(start + end))]\n",
    "    node_ids = nodes.name.values.tolist()\n",
    "    x = nodes.x.values.tolist()\n",
    "    y = nodes.y.values.tolist()\n",
    "\n",
    "    # get plot boundaries\n",
    "    min_x, max_x = -8240298.040280505, -8230749.832964136\n",
    "    min_y, max_y = 4968176.938664163, 4984234.650659162\n",
    "        \n",
    "    # get plot boundaries\n",
    "    if len(nodes.x >= 1):\n",
    "        min_x, max_x = min(nodes.x)-1000, max(nodes.x)+1000\n",
    "    if len(nodes.y >= 1):\n",
    "        min_y, max_y = min(nodes.y)-1000, max(nodes.y)+1000\n",
    "\n",
    "    plot = figure(x_range=(min_x, max_x), y_range=(min_y, max_y),\n",
    "                  x_axis_type=\"mercator\", y_axis_type=\"mercator\",\n",
    "                  title=title, plot_width=600, plot_height=470)\n",
    "    plot.add_tile(get_provider(Vendors.CARTODBPOSITRON_RETINA))\n",
    "\n",
    "    graph = GraphRenderer()\n",
    "    \n",
    "    end_graph = GraphRenderer()\n",
    "\n",
    "    # define initial location nodes\n",
    "    graph.node_renderer.data_source.add(start_nodes, 'index')\n",
    "    graph.node_renderer.data_source.add(start_colors, 'start_colors')\n",
    "    graph.node_renderer.glyph = Circle(size=7,line_width=0,fill_alpha=1, fill_color='start_colors')\n",
    "    \n",
    "    # define end location nodes\n",
    "    end_graph.node_renderer.data_source.add(end_nodes, 'index')\n",
    "    end_graph.node_renderer.data_source.add(end_colors, 'end_colors')\n",
    "    end_graph.node_renderer.glyph = Rect(height=7,width=7,height_units='screen',width_units='screen',line_width=0,fill_alpha=1, fill_color='end_colors')\n",
    "\n",
    "     # define network edges\n",
    "    graph.edge_renderer.data_source.data = dict(start=list(start),\n",
    "                                                end=list(end),\n",
    "                                                color=list(color),\n",
    "                                                alpha=list(alpha))\n",
    "    graph.edge_renderer.glyph = MultiLine(line_color='color', line_alpha='alpha',\n",
    "                                         line_width=3,line_cap='round')\n",
    "\n",
    "    # set node locations\n",
    "    graph_layout = dict(zip(node_ids, zip(x, y)))\n",
    "    graph.layout_provider = StaticLayoutProvider(graph_layout=graph_layout)\n",
    "    \n",
    "    end_graph.layout_provider = StaticLayoutProvider(graph_layout=graph_layout)\n",
    "\n",
    "    plot.renderers.append(graph)\n",
    "    plot.renderers.append(end_graph)\n",
    "    show(plot)"
   ]
  },
  {
   "cell_type": "code",
   "execution_count": 23,
   "id": "9ea1c611",
   "metadata": {
    "scrolled": true
   },
   "outputs": [
    {
     "data": {
      "text/html": [
       "\n",
       "\n",
       "\n",
       "\n",
       "\n",
       "\n",
       "  <div class=\"bk-root\" id=\"78adce46-caf2-42e4-af61-c85d125b5cb6\" data-root-id=\"1002\"></div>\n"
      ]
     },
     "metadata": {},
     "output_type": "display_data"
    },
    {
     "data": {
      "application/javascript": [
       "(function(root) {\n",
       "  function embed_document(root) {\n",
       "    \n",
       "  var docs_json = {\"9a6717f2-53e8-4c3b-b716-e8c515275fda\":{\"roots\":{\"references\":[{\"attributes\":{\"below\":[{\"id\":\"1013\"}],\"center\":[{\"id\":\"1020\"},{\"id\":\"1028\"}],\"left\":[{\"id\":\"1021\"}],\"plot_height\":470,\"renderers\":[{\"id\":\"1044\"},{\"id\":\"1046\"},{\"id\":\"1047\"}],\"title\":{\"id\":\"1003\"},\"toolbar\":{\"id\":\"1036\"},\"x_range\":{\"id\":\"1005\"},\"x_scale\":{\"id\":\"1009\"},\"y_range\":{\"id\":\"1007\"},\"y_scale\":{\"id\":\"1011\"}},\"id\":\"1002\",\"subtype\":\"Figure\",\"type\":\"Plot\"},{\"attributes\":{\"data_source\":{\"id\":\"1075\"},\"glyph\":{\"id\":\"1078\"},\"hover_glyph\":null,\"muted_glyph\":null,\"view\":{\"id\":\"1077\"}},\"id\":\"1076\",\"type\":\"GlyphRenderer\"},{\"attributes\":{},\"id\":\"1033\",\"type\":\"ResetTool\"},{\"attributes\":{},\"id\":\"1032\",\"type\":\"SaveTool\"},{\"attributes\":{},\"id\":\"1113\",\"type\":\"UnionRenderers\"},{\"attributes\":{},\"id\":\"1112\",\"type\":\"Selection\"},{\"attributes\":{\"bottom_units\":\"screen\",\"fill_alpha\":0.5,\"fill_color\":\"lightgrey\",\"left_units\":\"screen\",\"level\":\"overlay\",\"line_alpha\":1.0,\"line_color\":\"black\",\"line_dash\":[4,4],\"line_width\":2,\"right_units\":\"screen\",\"top_units\":\"screen\"},\"id\":\"1035\",\"type\":\"BoxAnnotation\"},{\"attributes\":{\"overlay\":{\"id\":\"1035\"}},\"id\":\"1031\",\"type\":\"BoxZoomTool\"},{\"attributes\":{},\"id\":\"1114\",\"type\":\"Selection\"},{\"attributes\":{\"fill_color\":{\"field\":\"end_colors\"},\"height\":{\"units\":\"screen\",\"value\":7},\"line_width\":{\"value\":0},\"width\":{\"units\":\"screen\",\"value\":7}},\"id\":\"1069\",\"type\":\"Rect\"},{\"attributes\":{},\"id\":\"1009\",\"type\":\"LinearScale\"},{\"attributes\":{\"data\":{\"end_colors\":[\"#1f77b4\",\"#ff7f0e\",\"#2ca02c\",\"#d62728\",\"#9467bd\",\"#8c564b\",\"#e377c2\",\"#7f7f7f\",\"#bcbd22\",\"#17becf\",\"#1f77b4\",\"#ff7f0e\",\"#2ca02c\",\"#d62728\",\"#9467bd\",\"#8c564b\",\"#e377c2\",\"#7f7f7f\",\"#bcbd22\",\"#17becf\",\"#1f77b4\",\"#ff7f0e\",\"#2ca02c\",\"#d62728\",\"#9467bd\",\"#8c564b\",\"#e377c2\",\"#7f7f7f\",\"#bcbd22\",\"#17becf\",\"#1f77b4\",\"#ff7f0e\",\"#2ca02c\",\"#d62728\",\"#9467bd\",\"#8c564b\",\"#e377c2\",\"#7f7f7f\",\"#bcbd22\",\"#17becf\",\"#1f77b4\",\"#ff7f0e\",\"#2ca02c\",\"#d62728\",\"#9467bd\",\"#8c564b\",\"#e377c2\",\"#7f7f7f\",\"#bcbd22\",\"#17becf\",\"#1f77b4\",\"#ff7f0e\",\"#2ca02c\",\"#d62728\",\"#9467bd\",\"#8c564b\",\"#e377c2\",\"#7f7f7f\",\"#bcbd22\",\"#17becf\",\"#1f77b4\",\"#ff7f0e\",\"#2ca02c\",\"#d62728\",\"#9467bd\",\"#8c564b\",\"#e377c2\",\"#7f7f7f\",\"#bcbd22\",\"#17becf\",\"#1f77b4\",\"#ff7f0e\",\"#2ca02c\",\"#d62728\",\"#9467bd\",\"#8c564b\",\"#e377c2\"],\"index\":[1450,2445,2303,2962,1755,1108,1196,1613,319,2445,899,889,1354,313,2488,498,284,843,485,1840,690,1449,1343,162,477,540,2276,921,2586,1325,317,1586,2734,526,2001,2466,2588,2446,52,2484,664,1759,2828,856,2737,1517,64,1928,1809,485,2460,1798,2446,607,254,1130,1929,2323,2010,1782,288,2155,1582,313,186,2433,1985,1220,127,1160,489,705,2855,591,927,480,2665]},\"selected\":{\"id\":\"1116\"},\"selection_policy\":{\"id\":\"1115\"}},\"id\":\"1062\",\"type\":\"ColumnDataSource\"},{\"attributes\":{\"source\":{\"id\":\"1062\"}},\"id\":\"1064\",\"type\":\"CDSView\"},{\"attributes\":{\"dimension\":\"lat\"},\"id\":\"1022\",\"type\":\"MercatorTicker\"},{\"attributes\":{},\"id\":\"1029\",\"type\":\"PanTool\"},{\"attributes\":{\"dimension\":\"lon\"},\"id\":\"1014\",\"type\":\"MercatorTicker\"},{\"attributes\":{\"data\":{\"alpha\":[1,1,1,1,1,1,1,1,1,1,1,1,1,1,1,1,1,1,1,1,1,1,1,1,1,1,1,1,1,1,1,1,1,1,1,1,1,1,1,1,1,1,1,1,1,1,1,1,1,1,1,1,1,1,1,1,1,1,1,1,1,1,1,1,1,1,1,1,1,1,1,1,1,1,1,1,1],\"color\":[\"#1f77b4\",\"#ff7f0e\",\"#2ca02c\",\"#d62728\",\"#9467bd\",\"#8c564b\",\"#e377c2\",\"#7f7f7f\",\"#bcbd22\",\"#17becf\",\"#1f77b4\",\"#ff7f0e\",\"#2ca02c\",\"#d62728\",\"#9467bd\",\"#8c564b\",\"#e377c2\",\"#7f7f7f\",\"#bcbd22\",\"#17becf\",\"#1f77b4\",\"#ff7f0e\",\"#2ca02c\",\"#d62728\",\"#9467bd\",\"#8c564b\",\"#e377c2\",\"#7f7f7f\",\"#bcbd22\",\"#17becf\",\"#1f77b4\",\"#ff7f0e\",\"#2ca02c\",\"#d62728\",\"#9467bd\",\"#8c564b\",\"#e377c2\",\"#7f7f7f\",\"#bcbd22\",\"#17becf\",\"#1f77b4\",\"#ff7f0e\",\"#2ca02c\",\"#d62728\",\"#9467bd\",\"#8c564b\",\"#e377c2\",\"#7f7f7f\",\"#bcbd22\",\"#17becf\",\"#1f77b4\",\"#ff7f0e\",\"#2ca02c\",\"#d62728\",\"#9467bd\",\"#8c564b\",\"#e377c2\",\"#7f7f7f\",\"#bcbd22\",\"#17becf\",\"#1f77b4\",\"#ff7f0e\",\"#2ca02c\",\"#d62728\",\"#9467bd\",\"#8c564b\",\"#e377c2\",\"#7f7f7f\",\"#bcbd22\",\"#17becf\",\"#1f77b4\",\"#ff7f0e\",\"#2ca02c\",\"#d62728\",\"#9467bd\",\"#8c564b\",\"#e377c2\"],\"end\":[1450,2445,2303,2962,1755,1108,1196,1613,319,2445,899,889,1354,313,2488,498,284,843,485,1840,690,1449,1343,162,477,540,2276,921,2586,1325,317,1586,2734,526,2001,2466,2588,2446,52,2484,664,1759,2828,856,2737,1517,64,1928,1809,485,2460,1798,2446,607,254,1130,1929,2323,2010,1782,288,2155,1582,313,186,2433,1985,1220,127,1160,489,705,2855,591,927,480,2665],\"start\":[1191,2516,238,2146,1959,526,2496,505,1429,1960,1192,3044,2392,645,2672,581,1773,859,1353,1359,808,2011,928,1202,1263,1519,2555,317,692,290,1755,2426,1943,604,2737,132,1473,692,1927,1342,1426,2979,1784,1283,1458,398,287,526,1011,2119,2847,2383,1108,1359,602,549,1198,10,1342,383,989,901,1784,2770,870,2662,1130,554,901,2278,1314,63,1152,1796,316,305,1446]},\"selected\":{\"id\":\"1114\"},\"selection_policy\":{\"id\":\"1113\"}},\"id\":\"1075\",\"type\":\"ColumnDataSource\"},{\"attributes\":{},\"id\":\"1111\",\"type\":\"UnionRenderers\"},{\"attributes\":{\"tile_source\":{\"id\":\"1043\"}},\"id\":\"1044\",\"type\":\"TileRenderer\"},{\"attributes\":{},\"id\":\"1100\",\"type\":\"NodesOnly\"},{\"attributes\":{},\"id\":\"1115\",\"type\":\"UnionRenderers\"},{\"attributes\":{\"edge_renderer\":{\"id\":\"1076\"},\"inspection_policy\":{\"id\":\"1099\"},\"layout_provider\":{\"id\":\"1083\"},\"node_renderer\":{\"id\":\"1050\"},\"selection_policy\":{\"id\":\"1090\"}},\"id\":\"1046\",\"type\":\"GraphRenderer\"},{\"attributes\":{\"data\":{\"index\":[1191,2516,238,2146,1959,526,2496,505,1429,1960,1192,3044,2392,645,2672,581,1773,859,1353,1359,808,2011,928,1202,1263,1519,2555,317,692,290,1755,2426,1943,604,2737,132,1473,692,1927,1342,1426,2979,1784,1283,1458,398,287,526,1011,2119,2847,2383,1108,1359,602,549,1198,10,1342,383,989,901,1784,2770,870,2662,1130,554,901,2278,1314,63,1152,1796,316,305,1446],\"start_colors\":[\"#1f77b4\",\"#ff7f0e\",\"#2ca02c\",\"#d62728\",\"#9467bd\",\"#8c564b\",\"#e377c2\",\"#7f7f7f\",\"#bcbd22\",\"#17becf\",\"#1f77b4\",\"#ff7f0e\",\"#2ca02c\",\"#d62728\",\"#9467bd\",\"#8c564b\",\"#e377c2\",\"#7f7f7f\",\"#bcbd22\",\"#17becf\",\"#1f77b4\",\"#ff7f0e\",\"#2ca02c\",\"#d62728\",\"#9467bd\",\"#8c564b\",\"#e377c2\",\"#7f7f7f\",\"#bcbd22\",\"#17becf\",\"#1f77b4\",\"#ff7f0e\",\"#2ca02c\",\"#d62728\",\"#9467bd\",\"#8c564b\",\"#e377c2\",\"#7f7f7f\",\"#bcbd22\",\"#17becf\",\"#1f77b4\",\"#ff7f0e\",\"#2ca02c\",\"#d62728\",\"#9467bd\",\"#8c564b\",\"#e377c2\",\"#7f7f7f\",\"#bcbd22\",\"#17becf\",\"#1f77b4\",\"#ff7f0e\",\"#2ca02c\",\"#d62728\",\"#9467bd\",\"#8c564b\",\"#e377c2\",\"#7f7f7f\",\"#bcbd22\",\"#17becf\",\"#1f77b4\",\"#ff7f0e\",\"#2ca02c\",\"#d62728\",\"#9467bd\",\"#8c564b\",\"#e377c2\",\"#7f7f7f\",\"#bcbd22\",\"#17becf\",\"#1f77b4\",\"#ff7f0e\",\"#2ca02c\",\"#d62728\",\"#9467bd\",\"#8c564b\",\"#e377c2\"]},\"selected\":{\"id\":\"1112\"},\"selection_policy\":{\"id\":\"1111\"}},\"id\":\"1049\",\"type\":\"ColumnDataSource\"},{\"attributes\":{\"text\":\"Maximum Matching\"},\"id\":\"1003\",\"type\":\"Title\"},{\"attributes\":{},\"id\":\"1034\",\"type\":\"HelpTool\"},{\"attributes\":{\"edge_renderer\":{\"id\":\"1107\"},\"inspection_policy\":{\"id\":\"1109\"},\"layout_provider\":{\"id\":\"1084\"},\"node_renderer\":{\"id\":\"1063\"},\"selection_policy\":{\"id\":\"1100\"}},\"id\":\"1047\",\"type\":\"GraphRenderer\"},{\"attributes\":{\"formatter\":{\"id\":\"1024\"},\"ticker\":{\"id\":\"1022\"}},\"id\":\"1021\",\"type\":\"MercatorAxis\"},{\"attributes\":{\"line_alpha\":{\"field\":\"alpha\"},\"line_cap\":\"round\",\"line_color\":{\"field\":\"color\"},\"line_width\":{\"value\":3}},\"id\":\"1078\",\"type\":\"MultiLine\"},{\"attributes\":{\"data\":{\"end\":[],\"start\":[]},\"selected\":{\"id\":\"1118\"},\"selection_policy\":{\"id\":\"1117\"}},\"id\":\"1106\",\"type\":\"ColumnDataSource\"},{\"attributes\":{},\"id\":\"1116\",\"type\":\"Selection\"},{\"attributes\":{\"dimension\":\"lat\"},\"id\":\"1024\",\"type\":\"MercatorTickFormatter\"},{\"attributes\":{\"graph_layout\":{\"10\":[-8232918.119888063,4979862.698341908],\"1011\":[-8235703.77882567,4979550.4269999685],\"1108\":[-8235700.5728243375,4972797.197937364],\"1130\":[-8234515.053643235,4976583.333083784],\"1152\":[-8234638.362243189,4977634.797175656],\"1160\":[-8238095.06620325,4969285.930044836],\"1191\":[-8235728.413828985,4977258.532743755],\"1192\":[-8235778.741370773,4977167.441334706],\"1196\":[-8236085.292984519,4976615.047009295],\"1198\":[-8236244.925134318,4976325.922101611],\"1202\":[-8236494.369849285,4975872.662477394],\"1220\":[-8237499.0505175935,4974049.549698682],\"1263\":[-8235590.978785651,4979005.11539642],\"127\":[-8237083.650705747,4977049.9996308535],\"1283\":[-8237451.628414516,4974136.086822773],\"1314\":[-8231920.997813179,4981277.026515856],\"132\":[-8236682.188094152,4973933.0416739965],\"1325\":[-8234780.929115048,4976490.9988256935],\"1342\":[-8233739.023209018,4978837.70308138],\"1343\":[-8233917.234581829,4978937.232877303],\"1353\":[-8236903.045963886,4975130.069860914],\"1354\":[-8236228.3385301875,4974754.945093583],\"1359\":[-8232833.216512432,4979204.95850963],\"1426\":[-8237157.522319837,4974669.284073922],\"1429\":[-8236279.022294345,4979628.530650662],\"1446\":[-8237754.506485065,4975837.8062663665],\"1449\":[-8237230.16941953,4976035.057028972],\"1450\":[-8236598.0750869075,4975682.850458994],\"1458\":[-8235969.153359775,4973760.412539068],\"1473\":[-8234053.433978815,4978269.01654336],\"1517\":[-8236486.878047558,4971196.751270838],\"1519\":[-8236346.4485099185,4971140.540996295],\"1582\":[-8233722.3141534515,4976382.206293995],\"1586\":[-8234577.726516551,4976858.79797515],\"1613\":[-8232705.57758429,4980247.398845365],\"162\":[-8236378.1745647965,4974480.47984666],\"1755\":[-8235943.727988077,4977617.248330661],\"1759\":[-8236197.135676919,4977158.241120227],\"1773\":[-8237068.4778591525,4975579.48917486],\"1782\":[-8237815.420510427,4974225.71011896],\"1784\":[-8237923.333624802,4974031.037612038],\"1796\":[-8232626.507349979,4979578.975259861],\"1798\":[-8233164.3808655925,4979878.340102871],\"1809\":[-8236752.430692844,4975404.259470318],\"1840\":[-8234124.433550042,4980916.191644165],\"186\":[-8237230.547905801,4971813.80769708],\"1927\":[-8237527.8822657075,4974747.304629083],\"1928\":[-8237211.400953385,4974571.1348063685],\"1929\":[-8236536.916158666,4974196.325341124],\"1943\":[-8236319.731832129,4972302.075137339],\"1959\":[-8236269.972019746,4972391.534721569],\"1960\":[-8236518.214484213,4972532.997114307],\"1985\":[-8237843.361702617,4973031.1431872165],\"2001\":[-8236394.09325198,4976053.176143241],\"2010\":[-8235070.760541276,4980694.980672815],\"2011\":[-8234754.791298607,4980519.350434683],\"2119\":[-8234206.086396539,4977142.471443672],\"2146\":[-8235154.884680469,4976699.0497302385],\"2155\":[-8234852.095665513,4975551.055462043],\"2276\":[-8236159.743459961,4973182.48707828],\"2278\":[-8236519.7729570875,4973383.724314878],\"2303\":[-8238639.74133975,4974174.477816069],\"2323\":[-8235178.005738707,4981252.266660012],\"238\":[-8239298.040280505,4969574.714616505],\"2383\":[-8237509.169459308,4977027.778308503],\"2392\":[-8238269.414789733,4975652.844127674],\"2426\":[-8235927.553266062,4976150.164674168],\"2433\":[-8236280.346996288,4975505.81149735],\"2445\":[-8237040.414215527,4974131.972986283],\"2446\":[-8237135.3697411725,4973960.074938069],\"2460\":[-8238057.540402902,4972047.068401723],\"2466\":[-8238234.872351738,4970875.533072783],\"2484\":[-8233206.236994132,4977316.747624134],\"2488\":[-8234061.705016983,4977792.796990438],\"2496\":[-8235612.073829156,4974174.727585752],\"2516\":[-8236852.673894301,4971113.0602088515],\"254\":[-8235353.066769928,4973417.778448996],\"2555\":[-8239113.4836967215,4970423.7744992785],\"2586\":[-8232006.658161345,4979486.421575381],\"2588\":[-8232519.75195831,4979772.14127086],\"2662\":[-8234721.028097047,4981730.6399521865],\"2665\":[-8235265.502858471,4980801.189542026],\"2672\":[-8235673.444264429,4978804.879491309],\"2734\":[-8236326.711564203,4975284.003015945],\"2737\":[-8236387.636721512,4974843.692465093],\"2770\":[-8231755.966668078,4979347.2104903255],\"2828\":[-8234760.368405097,4977584.00261528],\"284\":[-8237305.465923103,4972804.91032888],\"2847\":[-8236447.637927053,4974399.948974346],\"2855\":[-8236992.769473465,4974218.5108402185],\"287\":[-8236524.938181459,4978061.5936173815],\"288\":[-8234900.853602477,4977158.7555089835],\"290\":[-8236315.3792400425,4978441.519576531],\"2962\":[-8235224.570681706,4978921.210437283],\"2979\":[-8233621.725861569,4977188.546012801],\"3044\":[-8235159.860661708,4980986.29330879],\"305\":[-8232159.010016442,4980424.861909031],\"313\":[-8233617.373269478,4977786.109504619],\"316\":[-8233972.783007733,4977143.147496386],\"317\":[-8234184.2900402425,4976760.479748975],\"319\":[-8234387.336791447,4976392.346300464],\"383\":[-8235711.704773415,4972195.576699748],\"398\":[-8235766.362643395,4973894.607553364],\"477\":[-8232388.695521797,4980431.168956559],\"480\":[-8232753.534020924,4979771.053415048],\"485\":[-8233592.493363287,4978252.921707159],\"489\":[-8234049.704775873,4977424.918583122],\"498\":[-8234870.686020475,4975939.142374719],\"505\":[-8235439.194659955,4974909.518850677],\"52\":[-8237569.404435772,4971864.631028775],\"526\":[-8235977.647036921,4975209.122667414],\"540\":[-8236323.160472446,4972886.397625869],\"549\":[-8233711.293523861,4979310.166269774],\"554\":[-8235002.822256046,4976974.606063784],\"581\":[-8232485.109332773,4981107.266912085],\"591\":[-8233533.137810795,4979211.16186994],\"602\":[-8234824.032021883,4976875.125656799],\"604\":[-8235026.755946566,4976507.120150865],\"607\":[-8235280.453066083,4976047.885887425],\"63\":[-8232379.289024826,4978818.24116334],\"64\":[-8233257.110001422,4977224.597493865],\"645\":[-8234952.138491888,4975369.551871508],\"664\":[-8238272.164381153,4972074.243342014],\"690\":[-8235206.759563179,4974908.343375617],\"692\":[-8235551.972436078,4975103.518253212],\"705\":[-8233312.535975892,4978337.67344388],\"808\":[-8235234.600567824,4975891.163358303],\"843\":[-8233971.770000367,4981936.7292438485],\"856\":[-8235388.889382066,4979371.068806764],\"859\":[-8235743.4085643925,4978729.075499974],\"870\":[-8236639.831027905,4971676.218806772],\"889\":[-8231749.832964136,4980568.851790155],\"899\":[-8232532.698415088,4979158.580431216],\"901\":[-8232745.463357842,4978773.437741124],\"921\":[-8234702.482269885,4975230.781484754],\"927\":[-8235112.093468206,4974490.735422282],\"928\":[-8235162.832892112,4974401.388856402],\"989\":[-8233667.110817966,4983234.650659162]}},\"id\":\"1084\",\"type\":\"StaticLayoutProvider\"},{\"attributes\":{},\"id\":\"1117\",\"type\":\"UnionRenderers\"},{\"attributes\":{\"attribution\":\"&copy; <a href=\\\"https://www.openstreetmap.org/copyright\\\">OpenStreetMap</a> contributors,&copy; <a href=\\\"https://cartodb.com/attributions\\\">CartoDB</a>\",\"url\":\"https://tiles.basemaps.cartocdn.com/light_all/{z}/{x}/{y}@2x.png\"},\"id\":\"1043\",\"type\":\"WMTSTileSource\"},{\"attributes\":{},\"id\":\"1118\",\"type\":\"Selection\"},{\"attributes\":{},\"id\":\"1099\",\"type\":\"NodesOnly\"},{\"attributes\":{\"source\":{\"id\":\"1049\"}},\"id\":\"1051\",\"type\":\"CDSView\"},{\"attributes\":{\"source\":{\"id\":\"1075\"}},\"id\":\"1077\",\"type\":\"CDSView\"},{\"attributes\":{\"end\":-8230749.832964136,\"start\":-8240298.040280505},\"id\":\"1005\",\"type\":\"Range1d\"},{\"attributes\":{\"axis\":{\"id\":\"1013\"},\"ticker\":null},\"id\":\"1020\",\"type\":\"Grid\"},{\"attributes\":{\"data_source\":{\"id\":\"1049\"},\"glyph\":{\"id\":\"1056\"},\"hover_glyph\":null,\"muted_glyph\":null,\"view\":{\"id\":\"1051\"}},\"id\":\"1050\",\"type\":\"GlyphRenderer\"},{\"attributes\":{\"data_source\":{\"id\":\"1106\"},\"glyph\":{\"id\":\"1105\"},\"hover_glyph\":null,\"muted_glyph\":null,\"view\":{\"id\":\"1108\"}},\"id\":\"1107\",\"type\":\"GlyphRenderer\"},{\"attributes\":{\"source\":{\"id\":\"1106\"}},\"id\":\"1108\",\"type\":\"CDSView\"},{\"attributes\":{},\"id\":\"1090\",\"type\":\"NodesOnly\"},{\"attributes\":{},\"id\":\"1011\",\"type\":\"LinearScale\"},{\"attributes\":{\"data_source\":{\"id\":\"1062\"},\"glyph\":{\"id\":\"1069\"},\"hover_glyph\":null,\"muted_glyph\":null,\"view\":{\"id\":\"1064\"}},\"id\":\"1063\",\"type\":\"GlyphRenderer\"},{\"attributes\":{},\"id\":\"1109\",\"type\":\"NodesOnly\"},{\"attributes\":{\"fill_color\":{\"field\":\"start_colors\"},\"line_width\":{\"value\":0},\"size\":{\"units\":\"screen\",\"value\":7}},\"id\":\"1056\",\"type\":\"Circle\"},{\"attributes\":{\"axis\":{\"id\":\"1021\"},\"dimension\":1,\"ticker\":null},\"id\":\"1028\",\"type\":\"Grid\"},{\"attributes\":{\"active_drag\":\"auto\",\"active_inspect\":\"auto\",\"active_multi\":null,\"active_scroll\":\"auto\",\"active_tap\":\"auto\",\"tools\":[{\"id\":\"1029\"},{\"id\":\"1030\"},{\"id\":\"1031\"},{\"id\":\"1032\"},{\"id\":\"1033\"},{\"id\":\"1034\"}]},\"id\":\"1036\",\"type\":\"Toolbar\"},{\"attributes\":{\"formatter\":{\"id\":\"1016\"},\"ticker\":{\"id\":\"1014\"}},\"id\":\"1013\",\"type\":\"MercatorAxis\"},{\"attributes\":{\"graph_layout\":{\"10\":[-8232918.119888063,4979862.698341908],\"1011\":[-8235703.77882567,4979550.4269999685],\"1108\":[-8235700.5728243375,4972797.197937364],\"1130\":[-8234515.053643235,4976583.333083784],\"1152\":[-8234638.362243189,4977634.797175656],\"1160\":[-8238095.06620325,4969285.930044836],\"1191\":[-8235728.413828985,4977258.532743755],\"1192\":[-8235778.741370773,4977167.441334706],\"1196\":[-8236085.292984519,4976615.047009295],\"1198\":[-8236244.925134318,4976325.922101611],\"1202\":[-8236494.369849285,4975872.662477394],\"1220\":[-8237499.0505175935,4974049.549698682],\"1263\":[-8235590.978785651,4979005.11539642],\"127\":[-8237083.650705747,4977049.9996308535],\"1283\":[-8237451.628414516,4974136.086822773],\"1314\":[-8231920.997813179,4981277.026515856],\"132\":[-8236682.188094152,4973933.0416739965],\"1325\":[-8234780.929115048,4976490.9988256935],\"1342\":[-8233739.023209018,4978837.70308138],\"1343\":[-8233917.234581829,4978937.232877303],\"1353\":[-8236903.045963886,4975130.069860914],\"1354\":[-8236228.3385301875,4974754.945093583],\"1359\":[-8232833.216512432,4979204.95850963],\"1426\":[-8237157.522319837,4974669.284073922],\"1429\":[-8236279.022294345,4979628.530650662],\"1446\":[-8237754.506485065,4975837.8062663665],\"1449\":[-8237230.16941953,4976035.057028972],\"1450\":[-8236598.0750869075,4975682.850458994],\"1458\":[-8235969.153359775,4973760.412539068],\"1473\":[-8234053.433978815,4978269.01654336],\"1517\":[-8236486.878047558,4971196.751270838],\"1519\":[-8236346.4485099185,4971140.540996295],\"1582\":[-8233722.3141534515,4976382.206293995],\"1586\":[-8234577.726516551,4976858.79797515],\"1613\":[-8232705.57758429,4980247.398845365],\"162\":[-8236378.1745647965,4974480.47984666],\"1755\":[-8235943.727988077,4977617.248330661],\"1759\":[-8236197.135676919,4977158.241120227],\"1773\":[-8237068.4778591525,4975579.48917486],\"1782\":[-8237815.420510427,4974225.71011896],\"1784\":[-8237923.333624802,4974031.037612038],\"1796\":[-8232626.507349979,4979578.975259861],\"1798\":[-8233164.3808655925,4979878.340102871],\"1809\":[-8236752.430692844,4975404.259470318],\"1840\":[-8234124.433550042,4980916.191644165],\"186\":[-8237230.547905801,4971813.80769708],\"1927\":[-8237527.8822657075,4974747.304629083],\"1928\":[-8237211.400953385,4974571.1348063685],\"1929\":[-8236536.916158666,4974196.325341124],\"1943\":[-8236319.731832129,4972302.075137339],\"1959\":[-8236269.972019746,4972391.534721569],\"1960\":[-8236518.214484213,4972532.997114307],\"1985\":[-8237843.361702617,4973031.1431872165],\"2001\":[-8236394.09325198,4976053.176143241],\"2010\":[-8235070.760541276,4980694.980672815],\"2011\":[-8234754.791298607,4980519.350434683],\"2119\":[-8234206.086396539,4977142.471443672],\"2146\":[-8235154.884680469,4976699.0497302385],\"2155\":[-8234852.095665513,4975551.055462043],\"2276\":[-8236159.743459961,4973182.48707828],\"2278\":[-8236519.7729570875,4973383.724314878],\"2303\":[-8238639.74133975,4974174.477816069],\"2323\":[-8235178.005738707,4981252.266660012],\"238\":[-8239298.040280505,4969574.714616505],\"2383\":[-8237509.169459308,4977027.778308503],\"2392\":[-8238269.414789733,4975652.844127674],\"2426\":[-8235927.553266062,4976150.164674168],\"2433\":[-8236280.346996288,4975505.81149735],\"2445\":[-8237040.414215527,4974131.972986283],\"2446\":[-8237135.3697411725,4973960.074938069],\"2460\":[-8238057.540402902,4972047.068401723],\"2466\":[-8238234.872351738,4970875.533072783],\"2484\":[-8233206.236994132,4977316.747624134],\"2488\":[-8234061.705016983,4977792.796990438],\"2496\":[-8235612.073829156,4974174.727585752],\"2516\":[-8236852.673894301,4971113.0602088515],\"254\":[-8235353.066769928,4973417.778448996],\"2555\":[-8239113.4836967215,4970423.7744992785],\"2586\":[-8232006.658161345,4979486.421575381],\"2588\":[-8232519.75195831,4979772.14127086],\"2662\":[-8234721.028097047,4981730.6399521865],\"2665\":[-8235265.502858471,4980801.189542026],\"2672\":[-8235673.444264429,4978804.879491309],\"2734\":[-8236326.711564203,4975284.003015945],\"2737\":[-8236387.636721512,4974843.692465093],\"2770\":[-8231755.966668078,4979347.2104903255],\"2828\":[-8234760.368405097,4977584.00261528],\"284\":[-8237305.465923103,4972804.91032888],\"2847\":[-8236447.637927053,4974399.948974346],\"2855\":[-8236992.769473465,4974218.5108402185],\"287\":[-8236524.938181459,4978061.5936173815],\"288\":[-8234900.853602477,4977158.7555089835],\"290\":[-8236315.3792400425,4978441.519576531],\"2962\":[-8235224.570681706,4978921.210437283],\"2979\":[-8233621.725861569,4977188.546012801],\"3044\":[-8235159.860661708,4980986.29330879],\"305\":[-8232159.010016442,4980424.861909031],\"313\":[-8233617.373269478,4977786.109504619],\"316\":[-8233972.783007733,4977143.147496386],\"317\":[-8234184.2900402425,4976760.479748975],\"319\":[-8234387.336791447,4976392.346300464],\"383\":[-8235711.704773415,4972195.576699748],\"398\":[-8235766.362643395,4973894.607553364],\"477\":[-8232388.695521797,4980431.168956559],\"480\":[-8232753.534020924,4979771.053415048],\"485\":[-8233592.493363287,4978252.921707159],\"489\":[-8234049.704775873,4977424.918583122],\"498\":[-8234870.686020475,4975939.142374719],\"505\":[-8235439.194659955,4974909.518850677],\"52\":[-8237569.404435772,4971864.631028775],\"526\":[-8235977.647036921,4975209.122667414],\"540\":[-8236323.160472446,4972886.397625869],\"549\":[-8233711.293523861,4979310.166269774],\"554\":[-8235002.822256046,4976974.606063784],\"581\":[-8232485.109332773,4981107.266912085],\"591\":[-8233533.137810795,4979211.16186994],\"602\":[-8234824.032021883,4976875.125656799],\"604\":[-8235026.755946566,4976507.120150865],\"607\":[-8235280.453066083,4976047.885887425],\"63\":[-8232379.289024826,4978818.24116334],\"64\":[-8233257.110001422,4977224.597493865],\"645\":[-8234952.138491888,4975369.551871508],\"664\":[-8238272.164381153,4972074.243342014],\"690\":[-8235206.759563179,4974908.343375617],\"692\":[-8235551.972436078,4975103.518253212],\"705\":[-8233312.535975892,4978337.67344388],\"808\":[-8235234.600567824,4975891.163358303],\"843\":[-8233971.770000367,4981936.7292438485],\"856\":[-8235388.889382066,4979371.068806764],\"859\":[-8235743.4085643925,4978729.075499974],\"870\":[-8236639.831027905,4971676.218806772],\"889\":[-8231749.832964136,4980568.851790155],\"899\":[-8232532.698415088,4979158.580431216],\"901\":[-8232745.463357842,4978773.437741124],\"921\":[-8234702.482269885,4975230.781484754],\"927\":[-8235112.093468206,4974490.735422282],\"928\":[-8235162.832892112,4974401.388856402],\"989\":[-8233667.110817966,4983234.650659162]}},\"id\":\"1083\",\"type\":\"StaticLayoutProvider\"},{\"attributes\":{},\"id\":\"1105\",\"type\":\"MultiLine\"},{\"attributes\":{\"end\":4984234.650659162,\"start\":4968285.930044836},\"id\":\"1007\",\"type\":\"Range1d\"},{\"attributes\":{},\"id\":\"1030\",\"type\":\"WheelZoomTool\"},{\"attributes\":{\"dimension\":\"lon\"},\"id\":\"1016\",\"type\":\"MercatorTickFormatter\"}],\"root_ids\":[\"1002\"]},\"title\":\"Bokeh Application\",\"version\":\"2.2.3\"}};\n",
       "  var render_items = [{\"docid\":\"9a6717f2-53e8-4c3b-b716-e8c515275fda\",\"root_ids\":[\"1002\"],\"roots\":{\"1002\":\"78adce46-caf2-42e4-af61-c85d125b5cb6\"}}];\n",
       "  root.Bokeh.embed.embed_items_notebook(docs_json, render_items);\n",
       "\n",
       "  }\n",
       "  if (root.Bokeh !== undefined) {\n",
       "    embed_document(root);\n",
       "  } else {\n",
       "    var attempts = 0;\n",
       "    var timer = setInterval(function(root) {\n",
       "      if (root.Bokeh !== undefined) {\n",
       "        clearInterval(timer);\n",
       "        embed_document(root);\n",
       "      } else {\n",
       "        attempts++;\n",
       "        if (attempts > 100) {\n",
       "          clearInterval(timer);\n",
       "          console.log(\"Bokeh: ERROR: Unable to run BokehJS code because BokehJS library is missing\");\n",
       "        }\n",
       "      }\n",
       "    }, 10, root)\n",
       "  }\n",
       "})(window);"
      ],
      "application/vnd.bokehjs_exec.v0+json": ""
     },
     "metadata": {
      "application/vnd.bokehjs_exec.v0+json": {
       "id": "1002"
      }
     },
     "output_type": "display_data"
    }
   ],
   "source": [
    "plot_taxi_route(max_match_paths, 'Maximum Matching')"
   ]
  },
  {
   "cell_type": "code",
   "execution_count": 24,
   "id": "7e8d645f",
   "metadata": {
    "scrolled": true
   },
   "outputs": [
    {
     "data": {
      "text/html": [
       "\n",
       "\n",
       "\n",
       "\n",
       "\n",
       "\n",
       "  <div class=\"bk-root\" id=\"07c43292-96de-4935-b32b-b92e7f6bcd06\" data-root-id=\"1313\"></div>\n"
      ]
     },
     "metadata": {},
     "output_type": "display_data"
    },
    {
     "data": {
      "application/javascript": [
       "(function(root) {\n",
       "  function embed_document(root) {\n",
       "    \n",
       "  var docs_json = {\"86a22386-8ffd-476b-b57b-e2d730dd620e\":{\"roots\":{\"references\":[{\"attributes\":{\"below\":[{\"id\":\"1324\"}],\"center\":[{\"id\":\"1331\"},{\"id\":\"1339\"}],\"left\":[{\"id\":\"1332\"}],\"plot_height\":470,\"renderers\":[{\"id\":\"1355\"},{\"id\":\"1357\"},{\"id\":\"1358\"}],\"title\":{\"id\":\"1314\"},\"toolbar\":{\"id\":\"1347\"},\"x_range\":{\"id\":\"1316\"},\"x_scale\":{\"id\":\"1320\"},\"y_range\":{\"id\":\"1318\"},\"y_scale\":{\"id\":\"1322\"}},\"id\":\"1313\",\"subtype\":\"Figure\",\"type\":\"Plot\"},{\"attributes\":{},\"id\":\"1341\",\"type\":\"WheelZoomTool\"},{\"attributes\":{\"source\":{\"id\":\"1386\"}},\"id\":\"1388\",\"type\":\"CDSView\"},{\"attributes\":{\"overlay\":{\"id\":\"1346\"}},\"id\":\"1342\",\"type\":\"BoxZoomTool\"},{\"attributes\":{\"dimension\":\"lon\"},\"id\":\"1327\",\"type\":\"MercatorTickFormatter\"},{\"attributes\":{\"graph_layout\":{\"10\":[-8232918.119888063,4979862.698341908],\"1011\":[-8235703.77882567,4979550.4269999685],\"1108\":[-8235700.5728243375,4972797.197937364],\"1111\":[-8236520.129179456,4973253.3265790865],\"1130\":[-8234515.053643235,4976583.333083784],\"1152\":[-8234638.362243189,4977634.797175656],\"1160\":[-8238095.06620325,4969285.930044836],\"1192\":[-8235778.741370773,4977167.441334706],\"1196\":[-8236085.292984519,4976615.047009295],\"1198\":[-8236244.925134318,4976325.922101611],\"1202\":[-8236494.369849285,4975872.662477394],\"1219\":[-8237356.672888868,4974308.281817649],\"1220\":[-8237499.0505175935,4974049.549698682],\"1263\":[-8235590.978785651,4979005.11539642],\"127\":[-8237083.650705747,4977049.9996308535],\"1283\":[-8237451.628414516,4974136.086822773],\"1314\":[-8231920.997813179,4981277.026515856],\"132\":[-8236682.188094152,4973933.0416739965],\"1325\":[-8234780.929115048,4976490.9988256935],\"1342\":[-8233739.023209018,4978837.70308138],\"1343\":[-8233917.234581829,4978937.232877303],\"1353\":[-8236903.045963886,4975130.069860914],\"1354\":[-8236228.3385301875,4974754.945093583],\"1359\":[-8232833.216512432,4979204.95850963],\"1426\":[-8237157.522319837,4974669.284073922],\"1449\":[-8237230.16941953,4976035.057028972],\"1450\":[-8236598.0750869075,4975682.850458994],\"1458\":[-8235969.153359775,4973760.412539068],\"1473\":[-8234053.433978815,4978269.01654336],\"1517\":[-8236486.878047558,4971196.751270838],\"1519\":[-8236346.4485099185,4971140.540996295],\"1582\":[-8233722.3141534515,4976382.206293995],\"1586\":[-8234577.726516551,4976858.79797515],\"1613\":[-8232705.57758429,4980247.398845365],\"162\":[-8236378.1745647965,4974480.47984666],\"1755\":[-8235943.727988077,4977617.248330661],\"1759\":[-8236197.135676919,4977158.241120227],\"1773\":[-8237068.4778591525,4975579.48917486],\"1782\":[-8237815.420510427,4974225.71011896],\"1784\":[-8237923.333624802,4974031.037612038],\"1796\":[-8232626.507349979,4979578.975259861],\"1798\":[-8233164.3808655925,4979878.340102871],\"1809\":[-8236752.430692844,4975404.259470318],\"1840\":[-8234124.433550042,4980916.191644165],\"186\":[-8237230.547905801,4971813.80769708],\"1927\":[-8237527.8822657075,4974747.304629083],\"1928\":[-8237211.400953385,4974571.1348063685],\"1929\":[-8236536.916158666,4974196.325341124],\"1943\":[-8236319.731832129,4972302.075137339],\"1959\":[-8236269.972019746,4972391.534721569],\"1960\":[-8236518.214484213,4972532.997114307],\"1985\":[-8237843.361702617,4973031.1431872165],\"2001\":[-8236394.09325198,4976053.176143241],\"2010\":[-8235070.760541276,4980694.980672815],\"2011\":[-8234754.791298607,4980519.350434683],\"2041\":[-8237487.807249023,4972923.314665278],\"2119\":[-8234206.086396539,4977142.471443672],\"2146\":[-8235154.884680469,4976699.0497302385],\"215\":[-8237443.758126518,4976398.004134731],\"2155\":[-8234852.095665513,4975551.055462043],\"2249\":[-8234383.774567745,4978092.636223985],\"2276\":[-8236159.743459961,4973182.48707828],\"2278\":[-8236519.7729570875,4973383.724314878],\"2303\":[-8238639.74133975,4974174.477816069],\"2323\":[-8235178.005738707,4981252.266660012],\"2383\":[-8237509.169459308,4977027.778308503],\"2392\":[-8238269.414789733,4975652.844127674],\"2433\":[-8236280.346996288,4975505.81149735],\"2445\":[-8237040.414215527,4974131.972986283],\"2446\":[-8237135.3697411725,4973960.074938069],\"2460\":[-8238057.540402902,4972047.068401723],\"2466\":[-8238234.872351738,4970875.533072783],\"2484\":[-8233206.236994132,4977316.747624134],\"2488\":[-8234061.705016983,4977792.796990438],\"2516\":[-8236852.673894301,4971113.0602088515],\"254\":[-8235353.066769928,4973417.778448996],\"2555\":[-8239113.4836967215,4970423.7744992785],\"2586\":[-8232006.658161345,4979486.421575381],\"2588\":[-8232519.75195831,4979772.14127086],\"2662\":[-8234721.028097047,4981730.6399521865],\"2665\":[-8235265.502858471,4980801.189542026],\"2669\":[-8235669.9488324225,4979290.776910358],\"2734\":[-8236326.711564203,4975284.003015945],\"2737\":[-8236387.636721512,4974843.692465093],\"2770\":[-8231755.966668078,4979347.2104903255],\"2821\":[-8236372.385951275,4974953.8931375975],\"2828\":[-8234760.368405097,4977584.00261528],\"284\":[-8237305.465923103,4972804.91032888],\"2847\":[-8236447.637927053,4974399.948974346],\"2855\":[-8236992.769473465,4974218.5108402185],\"288\":[-8234900.853602477,4977158.7555089835],\"2962\":[-8235224.570681706,4978921.210437283],\"2979\":[-8233621.725861569,4977188.546012801],\"3044\":[-8235159.860661708,4980986.29330879],\"305\":[-8232159.010016442,4980424.861909031],\"308\":[-8232575.211328623,4979671.794432394],\"313\":[-8233617.373269478,4977786.109504619],\"314\":[-8233769.981159409,4977510.265727253],\"316\":[-8233972.783007733,4977143.147496386],\"317\":[-8234184.2900402425,4976760.479748975],\"319\":[-8234387.336791447,4976392.346300464],\"325\":[-8235002.710936554,4975278.478072665],\"398\":[-8235766.362643395,4973894.607553364],\"477\":[-8232388.695521797,4980431.168956559],\"480\":[-8232753.534020924,4979771.053415048],\"485\":[-8233592.493363287,4978252.921707159],\"489\":[-8234049.704775873,4977424.918583122],\"498\":[-8234870.686020475,4975939.142374719],\"505\":[-8235439.194659955,4974909.518850677],\"52\":[-8237569.404435772,4971864.631028775],\"526\":[-8235977.647036921,4975209.122667414],\"540\":[-8236323.160472446,4972886.397625869],\"549\":[-8233711.293523861,4979310.166269774],\"554\":[-8235002.822256046,4976974.606063784],\"591\":[-8233533.137810795,4979211.16186994],\"602\":[-8234824.032021883,4976875.125656799],\"604\":[-8235026.755946566,4976507.120150865],\"607\":[-8235280.453066083,4976047.885887425],\"64\":[-8233257.110001422,4977224.597493865],\"645\":[-8234952.138491888,4975369.551871508],\"664\":[-8238272.164381153,4972074.243342014],\"690\":[-8235206.759563179,4974908.343375617],\"705\":[-8233312.535975892,4978337.67344388],\"776\":[-8237901.5817963015,4969176.938664163],\"808\":[-8235234.600567824,4975891.163358303],\"843\":[-8233971.770000367,4981936.7292438485],\"856\":[-8235388.889382066,4979371.068806764],\"870\":[-8236639.831027905,4971676.218806772],\"889\":[-8231749.832964136,4980568.851790155],\"899\":[-8232532.698415088,4979158.580431216],\"901\":[-8232745.463357842,4978773.437741124],\"921\":[-8234702.482269885,4975230.781484754],\"927\":[-8235112.093468206,4974490.735422282],\"928\":[-8235162.832892112,4974401.388856402],\"989\":[-8233667.110817966,4983234.650659162]}},\"id\":\"1395\",\"type\":\"StaticLayoutProvider\"},{\"attributes\":{\"data_source\":{\"id\":\"1373\"},\"glyph\":{\"id\":\"1380\"},\"hover_glyph\":null,\"muted_glyph\":null,\"view\":{\"id\":\"1375\"}},\"id\":\"1374\",\"type\":\"GlyphRenderer\"},{\"attributes\":{},\"id\":\"1340\",\"type\":\"PanTool\"},{\"attributes\":{\"source\":{\"id\":\"1373\"}},\"id\":\"1375\",\"type\":\"CDSView\"},{\"attributes\":{},\"id\":\"1458\",\"type\":\"UnionRenderers\"},{\"attributes\":{},\"id\":\"1462\",\"type\":\"UnionRenderers\"},{\"attributes\":{\"data_source\":{\"id\":\"1360\"},\"glyph\":{\"id\":\"1367\"},\"hover_glyph\":null,\"muted_glyph\":null,\"view\":{\"id\":\"1362\"}},\"id\":\"1361\",\"type\":\"GlyphRenderer\"},{\"attributes\":{\"fill_color\":{\"field\":\"end_colors\"},\"height\":{\"units\":\"screen\",\"value\":7},\"line_width\":{\"value\":0},\"width\":{\"units\":\"screen\",\"value\":7}},\"id\":\"1380\",\"type\":\"Rect\"},{\"attributes\":{\"active_drag\":\"auto\",\"active_inspect\":\"auto\",\"active_multi\":null,\"active_scroll\":\"auto\",\"active_tap\":\"auto\",\"tools\":[{\"id\":\"1340\"},{\"id\":\"1341\"},{\"id\":\"1342\"},{\"id\":\"1343\"},{\"id\":\"1344\"},{\"id\":\"1345\"}]},\"id\":\"1347\",\"type\":\"Toolbar\"},{\"attributes\":{\"data\":{\"end\":[],\"start\":[]},\"selected\":{\"id\":\"1463\"},\"selection_policy\":{\"id\":\"1462\"}},\"id\":\"1451\",\"type\":\"ColumnDataSource\"},{\"attributes\":{},\"id\":\"1457\",\"type\":\"Selection\"},{\"attributes\":{\"end\":-8230749.832964136,\"start\":-8240113.4836967215},\"id\":\"1316\",\"type\":\"Range1d\"},{\"attributes\":{},\"id\":\"1463\",\"type\":\"Selection\"},{\"attributes\":{\"data\":{\"end_colors\":[\"#1f77b4\",\"#ff7f0e\",\"#2ca02c\",\"#d62728\",\"#9467bd\",\"#8c564b\",\"#e377c2\",\"#7f7f7f\",\"#bcbd22\",\"#17becf\",\"#1f77b4\",\"#ff7f0e\",\"#2ca02c\",\"#d62728\",\"#9467bd\",\"#8c564b\",\"#e377c2\",\"#7f7f7f\",\"#bcbd22\",\"#17becf\",\"#1f77b4\",\"#ff7f0e\",\"#2ca02c\",\"#d62728\",\"#9467bd\",\"#8c564b\",\"#e377c2\",\"#7f7f7f\",\"#bcbd22\",\"#17becf\",\"#1f77b4\",\"#ff7f0e\",\"#2ca02c\",\"#d62728\",\"#9467bd\",\"#8c564b\",\"#e377c2\",\"#7f7f7f\",\"#bcbd22\",\"#17becf\",\"#1f77b4\",\"#ff7f0e\",\"#2ca02c\",\"#d62728\",\"#9467bd\",\"#8c564b\",\"#e377c2\",\"#7f7f7f\",\"#bcbd22\",\"#17becf\",\"#1f77b4\",\"#ff7f0e\",\"#2ca02c\",\"#d62728\",\"#9467bd\",\"#8c564b\",\"#e377c2\",\"#7f7f7f\",\"#bcbd22\",\"#17becf\",\"#1f77b4\",\"#ff7f0e\",\"#2ca02c\",\"#d62728\",\"#9467bd\",\"#8c564b\",\"#e377c2\",\"#7f7f7f\",\"#bcbd22\",\"#17becf\",\"#1f77b4\",\"#ff7f0e\",\"#2ca02c\",\"#d62728\",\"#9467bd\",\"#8c564b\",\"#e377c2\"],\"index\":[2588,705,313,498,319,2828,1985,2001,2734,1809,313,690,1343,1450,2460,2446,1928,2466,2484,1798,1582,52,1613,1220,889,540,2665,2855,856,1196,2962,2445,1354,2488,2010,899,489,1759,2323,2446,2433,477,254,480,2445,127,2155,186,2586,2303,317,1449,1160,162,288,284,2276,1586,843,64,485,1517,485,1840,526,2737,927,607,1325,1929,1782,1108,664,591,1755,1130,921]},\"selected\":{\"id\":\"1461\"},\"selection_policy\":{\"id\":\"1460\"}},\"id\":\"1373\",\"type\":\"ColumnDataSource\"},{\"attributes\":{},\"id\":\"1459\",\"type\":\"Selection\"},{\"attributes\":{\"end\":4984234.650659162,\"start\":4968176.938664163},\"id\":\"1318\",\"type\":\"Range1d\"},{\"attributes\":{\"edge_renderer\":{\"id\":\"1452\"},\"inspection_policy\":{\"id\":\"1454\"},\"layout_provider\":{\"id\":\"1395\"},\"node_renderer\":{\"id\":\"1374\"},\"selection_policy\":{\"id\":\"1445\"}},\"id\":\"1358\",\"type\":\"GraphRenderer\"},{\"attributes\":{\"data_source\":{\"id\":\"1451\"},\"glyph\":{\"id\":\"1450\"},\"hover_glyph\":null,\"muted_glyph\":null,\"view\":{\"id\":\"1453\"}},\"id\":\"1452\",\"type\":\"GlyphRenderer\"},{\"attributes\":{},\"id\":\"1320\",\"type\":\"LinearScale\"},{\"attributes\":{},\"id\":\"1322\",\"type\":\"LinearScale\"},{\"attributes\":{\"attribution\":\"&copy; <a href=\\\"https://www.openstreetmap.org/copyright\\\">OpenStreetMap</a> contributors,&copy; <a href=\\\"https://cartodb.com/attributions\\\">CartoDB</a>\",\"url\":\"https://tiles.basemaps.cartocdn.com/light_all/{z}/{x}/{y}@2x.png\"},\"id\":\"1354\",\"type\":\"WMTSTileSource\"},{\"attributes\":{},\"id\":\"1445\",\"type\":\"NodesOnly\"},{\"attributes\":{\"bottom_units\":\"screen\",\"fill_alpha\":0.5,\"fill_color\":\"lightgrey\",\"left_units\":\"screen\",\"level\":\"overlay\",\"line_alpha\":1.0,\"line_color\":\"black\",\"line_dash\":[4,4],\"line_width\":2,\"right_units\":\"screen\",\"top_units\":\"screen\"},\"id\":\"1346\",\"type\":\"BoxAnnotation\"},{\"attributes\":{},\"id\":\"1461\",\"type\":\"Selection\"},{\"attributes\":{\"formatter\":{\"id\":\"1327\"},\"ticker\":{\"id\":\"1325\"}},\"id\":\"1324\",\"type\":\"MercatorAxis\"},{\"attributes\":{\"data_source\":{\"id\":\"1386\"},\"glyph\":{\"id\":\"1389\"},\"hover_glyph\":null,\"muted_glyph\":null,\"view\":{\"id\":\"1388\"}},\"id\":\"1387\",\"type\":\"GlyphRenderer\"},{\"attributes\":{\"graph_layout\":{\"10\":[-8232918.119888063,4979862.698341908],\"1011\":[-8235703.77882567,4979550.4269999685],\"1108\":[-8235700.5728243375,4972797.197937364],\"1111\":[-8236520.129179456,4973253.3265790865],\"1130\":[-8234515.053643235,4976583.333083784],\"1152\":[-8234638.362243189,4977634.797175656],\"1160\":[-8238095.06620325,4969285.930044836],\"1192\":[-8235778.741370773,4977167.441334706],\"1196\":[-8236085.292984519,4976615.047009295],\"1198\":[-8236244.925134318,4976325.922101611],\"1202\":[-8236494.369849285,4975872.662477394],\"1219\":[-8237356.672888868,4974308.281817649],\"1220\":[-8237499.0505175935,4974049.549698682],\"1263\":[-8235590.978785651,4979005.11539642],\"127\":[-8237083.650705747,4977049.9996308535],\"1283\":[-8237451.628414516,4974136.086822773],\"1314\":[-8231920.997813179,4981277.026515856],\"132\":[-8236682.188094152,4973933.0416739965],\"1325\":[-8234780.929115048,4976490.9988256935],\"1342\":[-8233739.023209018,4978837.70308138],\"1343\":[-8233917.234581829,4978937.232877303],\"1353\":[-8236903.045963886,4975130.069860914],\"1354\":[-8236228.3385301875,4974754.945093583],\"1359\":[-8232833.216512432,4979204.95850963],\"1426\":[-8237157.522319837,4974669.284073922],\"1449\":[-8237230.16941953,4976035.057028972],\"1450\":[-8236598.0750869075,4975682.850458994],\"1458\":[-8235969.153359775,4973760.412539068],\"1473\":[-8234053.433978815,4978269.01654336],\"1517\":[-8236486.878047558,4971196.751270838],\"1519\":[-8236346.4485099185,4971140.540996295],\"1582\":[-8233722.3141534515,4976382.206293995],\"1586\":[-8234577.726516551,4976858.79797515],\"1613\":[-8232705.57758429,4980247.398845365],\"162\":[-8236378.1745647965,4974480.47984666],\"1755\":[-8235943.727988077,4977617.248330661],\"1759\":[-8236197.135676919,4977158.241120227],\"1773\":[-8237068.4778591525,4975579.48917486],\"1782\":[-8237815.420510427,4974225.71011896],\"1784\":[-8237923.333624802,4974031.037612038],\"1796\":[-8232626.507349979,4979578.975259861],\"1798\":[-8233164.3808655925,4979878.340102871],\"1809\":[-8236752.430692844,4975404.259470318],\"1840\":[-8234124.433550042,4980916.191644165],\"186\":[-8237230.547905801,4971813.80769708],\"1927\":[-8237527.8822657075,4974747.304629083],\"1928\":[-8237211.400953385,4974571.1348063685],\"1929\":[-8236536.916158666,4974196.325341124],\"1943\":[-8236319.731832129,4972302.075137339],\"1959\":[-8236269.972019746,4972391.534721569],\"1960\":[-8236518.214484213,4972532.997114307],\"1985\":[-8237843.361702617,4973031.1431872165],\"2001\":[-8236394.09325198,4976053.176143241],\"2010\":[-8235070.760541276,4980694.980672815],\"2011\":[-8234754.791298607,4980519.350434683],\"2041\":[-8237487.807249023,4972923.314665278],\"2119\":[-8234206.086396539,4977142.471443672],\"2146\":[-8235154.884680469,4976699.0497302385],\"215\":[-8237443.758126518,4976398.004134731],\"2155\":[-8234852.095665513,4975551.055462043],\"2249\":[-8234383.774567745,4978092.636223985],\"2276\":[-8236159.743459961,4973182.48707828],\"2278\":[-8236519.7729570875,4973383.724314878],\"2303\":[-8238639.74133975,4974174.477816069],\"2323\":[-8235178.005738707,4981252.266660012],\"2383\":[-8237509.169459308,4977027.778308503],\"2392\":[-8238269.414789733,4975652.844127674],\"2433\":[-8236280.346996288,4975505.81149735],\"2445\":[-8237040.414215527,4974131.972986283],\"2446\":[-8237135.3697411725,4973960.074938069],\"2460\":[-8238057.540402902,4972047.068401723],\"2466\":[-8238234.872351738,4970875.533072783],\"2484\":[-8233206.236994132,4977316.747624134],\"2488\":[-8234061.705016983,4977792.796990438],\"2516\":[-8236852.673894301,4971113.0602088515],\"254\":[-8235353.066769928,4973417.778448996],\"2555\":[-8239113.4836967215,4970423.7744992785],\"2586\":[-8232006.658161345,4979486.421575381],\"2588\":[-8232519.75195831,4979772.14127086],\"2662\":[-8234721.028097047,4981730.6399521865],\"2665\":[-8235265.502858471,4980801.189542026],\"2669\":[-8235669.9488324225,4979290.776910358],\"2734\":[-8236326.711564203,4975284.003015945],\"2737\":[-8236387.636721512,4974843.692465093],\"2770\":[-8231755.966668078,4979347.2104903255],\"2821\":[-8236372.385951275,4974953.8931375975],\"2828\":[-8234760.368405097,4977584.00261528],\"284\":[-8237305.465923103,4972804.91032888],\"2847\":[-8236447.637927053,4974399.948974346],\"2855\":[-8236992.769473465,4974218.5108402185],\"288\":[-8234900.853602477,4977158.7555089835],\"2962\":[-8235224.570681706,4978921.210437283],\"2979\":[-8233621.725861569,4977188.546012801],\"3044\":[-8235159.860661708,4980986.29330879],\"305\":[-8232159.010016442,4980424.861909031],\"308\":[-8232575.211328623,4979671.794432394],\"313\":[-8233617.373269478,4977786.109504619],\"314\":[-8233769.981159409,4977510.265727253],\"316\":[-8233972.783007733,4977143.147496386],\"317\":[-8234184.2900402425,4976760.479748975],\"319\":[-8234387.336791447,4976392.346300464],\"325\":[-8235002.710936554,4975278.478072665],\"398\":[-8235766.362643395,4973894.607553364],\"477\":[-8232388.695521797,4980431.168956559],\"480\":[-8232753.534020924,4979771.053415048],\"485\":[-8233592.493363287,4978252.921707159],\"489\":[-8234049.704775873,4977424.918583122],\"498\":[-8234870.686020475,4975939.142374719],\"505\":[-8235439.194659955,4974909.518850677],\"52\":[-8237569.404435772,4971864.631028775],\"526\":[-8235977.647036921,4975209.122667414],\"540\":[-8236323.160472446,4972886.397625869],\"549\":[-8233711.293523861,4979310.166269774],\"554\":[-8235002.822256046,4976974.606063784],\"591\":[-8233533.137810795,4979211.16186994],\"602\":[-8234824.032021883,4976875.125656799],\"604\":[-8235026.755946566,4976507.120150865],\"607\":[-8235280.453066083,4976047.885887425],\"64\":[-8233257.110001422,4977224.597493865],\"645\":[-8234952.138491888,4975369.551871508],\"664\":[-8238272.164381153,4972074.243342014],\"690\":[-8235206.759563179,4974908.343375617],\"705\":[-8233312.535975892,4978337.67344388],\"776\":[-8237901.5817963015,4969176.938664163],\"808\":[-8235234.600567824,4975891.163358303],\"843\":[-8233971.770000367,4981936.7292438485],\"856\":[-8235388.889382066,4979371.068806764],\"870\":[-8236639.831027905,4971676.218806772],\"889\":[-8231749.832964136,4980568.851790155],\"899\":[-8232532.698415088,4979158.580431216],\"901\":[-8232745.463357842,4978773.437741124],\"921\":[-8234702.482269885,4975230.781484754],\"927\":[-8235112.093468206,4974490.735422282],\"928\":[-8235162.832892112,4974401.388856402],\"989\":[-8233667.110817966,4983234.650659162]}},\"id\":\"1394\",\"type\":\"StaticLayoutProvider\"},{\"attributes\":{\"dimension\":\"lon\"},\"id\":\"1325\",\"type\":\"MercatorTicker\"},{\"attributes\":{},\"id\":\"1444\",\"type\":\"NodesOnly\"},{\"attributes\":{\"line_alpha\":{\"field\":\"alpha\"},\"line_cap\":\"round\",\"line_color\":{\"field\":\"color\"},\"line_width\":{\"value\":3}},\"id\":\"1389\",\"type\":\"MultiLine\"},{\"attributes\":{},\"id\":\"1460\",\"type\":\"UnionRenderers\"},{\"attributes\":{\"dimension\":\"lat\"},\"id\":\"1335\",\"type\":\"MercatorTickFormatter\"},{\"attributes\":{},\"id\":\"1450\",\"type\":\"MultiLine\"},{\"attributes\":{\"source\":{\"id\":\"1360\"}},\"id\":\"1362\",\"type\":\"CDSView\"},{\"attributes\":{\"axis\":{\"id\":\"1324\"},\"ticker\":null},\"id\":\"1331\",\"type\":\"Grid\"},{\"attributes\":{\"data\":{\"index\":[308,901,314,604,602,1152,1784,1202,526,1773,1473,505,1342,1450,1943,1219,1426,2555,901,10,316,2516,1796,1283,1314,1959,1011,1353,2669,1198,1263,1927,2821,2249,2011,899,2119,1192,3044,2278,1450,305,398,1796,132,2383,645,870,2770,2392,317,215,776,2847,288,1960,1111,554,989,2979,1359,1519,1342,2662,526,2737,928,808,2146,1458,1784,1108,2041,549,1755,1130,325],\"start_colors\":[\"#1f77b4\",\"#ff7f0e\",\"#2ca02c\",\"#d62728\",\"#9467bd\",\"#8c564b\",\"#e377c2\",\"#7f7f7f\",\"#bcbd22\",\"#17becf\",\"#1f77b4\",\"#ff7f0e\",\"#2ca02c\",\"#d62728\",\"#9467bd\",\"#8c564b\",\"#e377c2\",\"#7f7f7f\",\"#bcbd22\",\"#17becf\",\"#1f77b4\",\"#ff7f0e\",\"#2ca02c\",\"#d62728\",\"#9467bd\",\"#8c564b\",\"#e377c2\",\"#7f7f7f\",\"#bcbd22\",\"#17becf\",\"#1f77b4\",\"#ff7f0e\",\"#2ca02c\",\"#d62728\",\"#9467bd\",\"#8c564b\",\"#e377c2\",\"#7f7f7f\",\"#bcbd22\",\"#17becf\",\"#1f77b4\",\"#ff7f0e\",\"#2ca02c\",\"#d62728\",\"#9467bd\",\"#8c564b\",\"#e377c2\",\"#7f7f7f\",\"#bcbd22\",\"#17becf\",\"#1f77b4\",\"#ff7f0e\",\"#2ca02c\",\"#d62728\",\"#9467bd\",\"#8c564b\",\"#e377c2\",\"#7f7f7f\",\"#bcbd22\",\"#17becf\",\"#1f77b4\",\"#ff7f0e\",\"#2ca02c\",\"#d62728\",\"#9467bd\",\"#8c564b\",\"#e377c2\",\"#7f7f7f\",\"#bcbd22\",\"#17becf\",\"#1f77b4\",\"#ff7f0e\",\"#2ca02c\",\"#d62728\",\"#9467bd\",\"#8c564b\",\"#e377c2\"]},\"selected\":{\"id\":\"1457\"},\"selection_policy\":{\"id\":\"1456\"}},\"id\":\"1360\",\"type\":\"ColumnDataSource\"},{\"attributes\":{\"text\":\"Minimum Cost Maximum Matching\"},\"id\":\"1314\",\"type\":\"Title\"},{\"attributes\":{\"source\":{\"id\":\"1451\"}},\"id\":\"1453\",\"type\":\"CDSView\"},{\"attributes\":{\"dimension\":\"lat\"},\"id\":\"1333\",\"type\":\"MercatorTicker\"},{\"attributes\":{},\"id\":\"1454\",\"type\":\"NodesOnly\"},{\"attributes\":{\"axis\":{\"id\":\"1332\"},\"dimension\":1,\"ticker\":null},\"id\":\"1339\",\"type\":\"Grid\"},{\"attributes\":{},\"id\":\"1345\",\"type\":\"HelpTool\"},{\"attributes\":{\"fill_color\":{\"field\":\"start_colors\"},\"line_width\":{\"value\":0},\"size\":{\"units\":\"screen\",\"value\":7}},\"id\":\"1367\",\"type\":\"Circle\"},{\"attributes\":{\"formatter\":{\"id\":\"1335\"},\"ticker\":{\"id\":\"1333\"}},\"id\":\"1332\",\"type\":\"MercatorAxis\"},{\"attributes\":{\"edge_renderer\":{\"id\":\"1387\"},\"inspection_policy\":{\"id\":\"1444\"},\"layout_provider\":{\"id\":\"1394\"},\"node_renderer\":{\"id\":\"1361\"},\"selection_policy\":{\"id\":\"1435\"}},\"id\":\"1357\",\"type\":\"GraphRenderer\"},{\"attributes\":{},\"id\":\"1435\",\"type\":\"NodesOnly\"},{\"attributes\":{\"tile_source\":{\"id\":\"1354\"}},\"id\":\"1355\",\"type\":\"TileRenderer\"},{\"attributes\":{},\"id\":\"1344\",\"type\":\"ResetTool\"},{\"attributes\":{\"data\":{\"alpha\":[1,1,1,1,1,1,1,1,1,1,1,1,1,1,1,1,1,1,1,1,1,1,1,1,1,1,1,1,1,1,1,1,1,1,1,1,1,1,1,1,1,1,1,1,1,1,1,1,1,1,1,1,1,1,1,1,1,1,1,1,1,1,1,1,1,1,1,1,1,1,1,1,1,1,1,1,1],\"color\":[\"#1f77b4\",\"#ff7f0e\",\"#2ca02c\",\"#d62728\",\"#9467bd\",\"#8c564b\",\"#e377c2\",\"#7f7f7f\",\"#bcbd22\",\"#17becf\",\"#1f77b4\",\"#ff7f0e\",\"#2ca02c\",\"#d62728\",\"#9467bd\",\"#8c564b\",\"#e377c2\",\"#7f7f7f\",\"#bcbd22\",\"#17becf\",\"#1f77b4\",\"#ff7f0e\",\"#2ca02c\",\"#d62728\",\"#9467bd\",\"#8c564b\",\"#e377c2\",\"#7f7f7f\",\"#bcbd22\",\"#17becf\",\"#1f77b4\",\"#ff7f0e\",\"#2ca02c\",\"#d62728\",\"#9467bd\",\"#8c564b\",\"#e377c2\",\"#7f7f7f\",\"#bcbd22\",\"#17becf\",\"#1f77b4\",\"#ff7f0e\",\"#2ca02c\",\"#d62728\",\"#9467bd\",\"#8c564b\",\"#e377c2\",\"#7f7f7f\",\"#bcbd22\",\"#17becf\",\"#1f77b4\",\"#ff7f0e\",\"#2ca02c\",\"#d62728\",\"#9467bd\",\"#8c564b\",\"#e377c2\",\"#7f7f7f\",\"#bcbd22\",\"#17becf\",\"#1f77b4\",\"#ff7f0e\",\"#2ca02c\",\"#d62728\",\"#9467bd\",\"#8c564b\",\"#e377c2\",\"#7f7f7f\",\"#bcbd22\",\"#17becf\",\"#1f77b4\",\"#ff7f0e\",\"#2ca02c\",\"#d62728\",\"#9467bd\",\"#8c564b\",\"#e377c2\"],\"end\":[2588,705,313,498,319,2828,1985,2001,2734,1809,313,690,1343,1450,2460,2446,1928,2466,2484,1798,1582,52,1613,1220,889,540,2665,2855,856,1196,2962,2445,1354,2488,2010,899,489,1759,2323,2446,2433,477,254,480,2445,127,2155,186,2586,2303,317,1449,1160,162,288,284,2276,1586,843,64,485,1517,485,1840,526,2737,927,607,1325,1929,1782,1108,664,591,1755,1130,921],\"start\":[308,901,314,604,602,1152,1784,1202,526,1773,1473,505,1342,1450,1943,1219,1426,2555,901,10,316,2516,1796,1283,1314,1959,1011,1353,2669,1198,1263,1927,2821,2249,2011,899,2119,1192,3044,2278,1450,305,398,1796,132,2383,645,870,2770,2392,317,215,776,2847,288,1960,1111,554,989,2979,1359,1519,1342,2662,526,2737,928,808,2146,1458,1784,1108,2041,549,1755,1130,325]},\"selected\":{\"id\":\"1459\"},\"selection_policy\":{\"id\":\"1458\"}},\"id\":\"1386\",\"type\":\"ColumnDataSource\"},{\"attributes\":{},\"id\":\"1456\",\"type\":\"UnionRenderers\"},{\"attributes\":{},\"id\":\"1343\",\"type\":\"SaveTool\"}],\"root_ids\":[\"1313\"]},\"title\":\"Bokeh Application\",\"version\":\"2.2.3\"}};\n",
       "  var render_items = [{\"docid\":\"86a22386-8ffd-476b-b57b-e2d730dd620e\",\"root_ids\":[\"1313\"],\"roots\":{\"1313\":\"07c43292-96de-4935-b32b-b92e7f6bcd06\"}}];\n",
       "  root.Bokeh.embed.embed_items_notebook(docs_json, render_items);\n",
       "\n",
       "  }\n",
       "  if (root.Bokeh !== undefined) {\n",
       "    embed_document(root);\n",
       "  } else {\n",
       "    var attempts = 0;\n",
       "    var timer = setInterval(function(root) {\n",
       "      if (root.Bokeh !== undefined) {\n",
       "        clearInterval(timer);\n",
       "        embed_document(root);\n",
       "      } else {\n",
       "        attempts++;\n",
       "        if (attempts > 100) {\n",
       "          clearInterval(timer);\n",
       "          console.log(\"Bokeh: ERROR: Unable to run BokehJS code because BokehJS library is missing\");\n",
       "        }\n",
       "      }\n",
       "    }, 10, root)\n",
       "  }\n",
       "})(window);"
      ],
      "application/vnd.bokehjs_exec.v0+json": ""
     },
     "metadata": {
      "application/vnd.bokehjs_exec.v0+json": {
       "id": "1313"
      }
     },
     "output_type": "display_data"
    }
   ],
   "source": [
    "plot_taxi_route(min_cost_paths, 'Minimum Cost Maximum Matching')"
   ]
  },
  {
   "cell_type": "markdown",
   "id": "ae7b470b",
   "metadata": {},
   "source": [
    "## IP Formulation"
   ]
  },
  {
   "cell_type": "markdown",
   "id": "bf8502e0",
   "metadata": {},
   "source": [
    "We can also use integer programming to find the optimal number of assignments and the minimum cost flow for those assignments."
   ]
  },
  {
   "cell_type": "code",
   "execution_count": 25,
   "id": "481e52f4",
   "metadata": {
    "scrolled": true
   },
   "outputs": [],
   "source": [
    "# Remove the arcs from the source and sink nodes (skip this cell if the min cost flow was skipped)\n",
    "for i in range(len(arcs))[::-1]:\n",
    "    arc = arcs[i]\n",
    "    if arc[0] == source or arc[1] == sink:\n",
    "        del arcs[i]"
   ]
  },
  {
   "cell_type": "markdown",
   "id": "f5ae28c8",
   "metadata": {},
   "source": [
    "First we find the optimal number of assignments"
   ]
  },
  {
   "cell_type": "code",
   "execution_count": 26,
   "id": "748a9f51",
   "metadata": {
    "scrolled": true
   },
   "outputs": [
    {
     "name": "stdout",
     "output_type": "stream",
     "text": [
      "Solution:\n",
      "Objective value = 77.0\n"
     ]
    }
   ],
   "source": [
    "# Define the solver\n",
    "m = OR.Solver('taxi_assignment', OR.Solver.CBC_MIXED_INTEGER_PROGRAMMING)\n",
    "\n",
    "# Decision variables\n",
    "x = {}\n",
    "for i, j, k in arcs:\n",
    "    x[i,j] = m.IntVar(0, 1, f'{i[2]}, {j[2]}')\n",
    "\n",
    "# Objective function\n",
    "m.Maximize(sum(x[i,j] for i,j,k in arcs))\n",
    "\n",
    "# Only one arc out of each dropoff\n",
    "for node in DO_nodes:\n",
    "    m.Add(sum(x[i,j] for i,j,k in arcs if i == node) <= 1)\n",
    "    \n",
    "# Only one arc into each pickup\n",
    "for node in PU_nodes:\n",
    "    m.Add(sum(x[i,j] for i,j,k in arcs if j == node) <= 1)\n",
    "    \n",
    "m.Solve()\n",
    "\n",
    "print('Solution:')\n",
    "print('Objective value =', m.Objective().Value())\n",
    "optimal_assignment = int(m.Objective().Value())"
   ]
  },
  {
   "cell_type": "markdown",
   "id": "7f8a4fa1",
   "metadata": {},
   "source": [
    "Then we find the lowest cost assignment with the optimal number of assignments"
   ]
  },
  {
   "cell_type": "code",
   "execution_count": 27,
   "id": "0610db5a",
   "metadata": {
    "scrolled": true
   },
   "outputs": [
    {
     "name": "stdout",
     "output_type": "stream",
     "text": [
      "Solution:\n",
      "Objective value = 65154.0\n"
     ]
    }
   ],
   "source": [
    "# Define the solver\n",
    "m = OR.Solver('taxi_assignment', OR.Solver.CBC_MIXED_INTEGER_PROGRAMMING)\n",
    "\n",
    "# Decision variables\n",
    "x = {}\n",
    "for i, j, k in arcs:\n",
    "    x[i,j] = m.IntVar(0, 1, f'{i[2]}, {j[2]}')\n",
    "\n",
    "# Objective function\n",
    "m.Minimize(sum(k*x[i,j] for i,j,k in arcs))\n",
    "\n",
    "# Only one arc out of each dropoff\n",
    "for node in DO_nodes:\n",
    "    m.Add(sum(x[i,j] for i,j,k in arcs if i == node) <= 1)\n",
    "    \n",
    "# Only one arc into each pickup\n",
    "for node in PU_nodes:\n",
    "    m.Add(sum(x[i,j] for i,j,k in arcs if j == node) <= 1)\n",
    "    \n",
    "# Enforce the optimal number of assignments\n",
    "m.Add(sum(x[i,j] for i,j,k in arcs) == optimal_assignment)\n",
    "    \n",
    "m.Solve()\n",
    "\n",
    "print('Solution:')\n",
    "print('Objective value =', m.Objective().Value())"
   ]
  },
  {
   "cell_type": "code",
   "execution_count": 28,
   "id": "c4a4418d",
   "metadata": {
    "scrolled": true
   },
   "outputs": [
    {
     "name": "stdout",
     "output_type": "stream",
     "text": [
      "The total travel time is 65.154 minutes.\n"
     ]
    }
   ],
   "source": [
    "if use_travel_time_as_cost:\n",
    "    print(f'The total travel time is {m.Objective().Value() / 1000} minutes.')\n",
    "else:\n",
    "    print(f'The passengers have to wait a total of {m.Objective().Value() / 1000} minutes.')"
   ]
  },
  {
   "cell_type": "code",
   "execution_count": 29,
   "id": "e9b5af3d",
   "metadata": {
    "scrolled": true
   },
   "outputs": [
    {
     "name": "stdout",
     "output_type": "stream",
     "text": [
      "The taxi from trip #80966 should pick up the passenger from trip #82057.\n",
      "The taxi from trip #80985 should pick up the passenger from trip #82078.\n",
      "The taxi from trip #80973 should pick up the passenger from trip #82324.\n",
      "The taxi from trip #80983 should pick up the passenger from trip #81992.\n",
      "The taxi from trip #80987 should pick up the passenger from trip #82050.\n",
      "The taxi from trip #80999 should pick up the passenger from trip #82103.\n",
      "The taxi from trip #81029 should pick up the passenger from trip #82232.\n",
      "The taxi from trip #81081 should pick up the passenger from trip #82063.\n",
      "The taxi from trip #81132 should pick up the passenger from trip #82056.\n",
      "The taxi from trip #80984 should pick up the passenger from trip #82125.\n",
      "The taxi from trip #80995 should pick up the passenger from trip #81984.\n",
      "The taxi from trip #80996 should pick up the passenger from trip #82009.\n",
      "The taxi from trip #80997 should pick up the passenger from trip #82026.\n",
      "The taxi from trip #81028 should pick up the passenger from trip #82264.\n",
      "The taxi from trip #81039 should pick up the passenger from trip #82137.\n",
      "The taxi from trip #81051 should pick up the passenger from trip #82067.\n",
      "The taxi from trip #81079 should pick up the passenger from trip #82124.\n",
      "The taxi from trip #81111 should pick up the passenger from trip #82066.\n",
      "The taxi from trip #81127 should pick up the passenger from trip #82385.\n",
      "The taxi from trip #81128 should pick up the passenger from trip #82142.\n",
      "The taxi from trip #81139 should pick up the passenger from trip #82222.\n",
      "The taxi from trip #81150 should pick up the passenger from trip #82068.\n",
      "The taxi from trip #81158 should pick up the passenger from trip #81939.\n",
      "The taxi from trip #81188 should pick up the passenger from trip #82316.\n",
      "The taxi from trip #81247 should pick up the passenger from trip #81954.\n",
      "The taxi from trip #81277 should pick up the passenger from trip #82028.\n",
      "The taxi from trip #81278 should pick up the passenger from trip #82410.\n",
      "The taxi from trip #81284 should pick up the passenger from trip #82335.\n",
      "The taxi from trip #81370 should pick up the passenger from trip #82099.\n",
      "The taxi from trip #80953 should pick up the passenger from trip #81962.\n",
      "The taxi from trip #80954 should pick up the passenger from trip #81938.\n",
      "The taxi from trip #80964 should pick up the passenger from trip #81975.\n",
      "The taxi from trip #80965 should pick up the passenger from trip #81990.\n",
      "The taxi from trip #80969 should pick up the passenger from trip #81985.\n",
      "The taxi from trip #80971 should pick up the passenger from trip #82216.\n",
      "The taxi from trip #80974 should pick up the passenger from trip #81972.\n",
      "The taxi from trip #80991 should pick up the passenger from trip #82362.\n",
      "The taxi from trip #81006 should pick up the passenger from trip #82096.\n",
      "The taxi from trip #81062 should pick up the passenger from trip #82196.\n",
      "The taxi from trip #81088 should pick up the passenger from trip #82143.\n",
      "The taxi from trip #81093 should pick up the passenger from trip #81937.\n",
      "The taxi from trip #81114 should pick up the passenger from trip #82016.\n",
      "The taxi from trip #81143 should pick up the passenger from trip #82409.\n",
      "The taxi from trip #81189 should pick up the passenger from trip #81945.\n",
      "The taxi from trip #81217 should pick up the passenger from trip #82141.\n",
      "The taxi from trip #81224 should pick up the passenger from trip #82329.\n",
      "The taxi from trip #81242 should pick up the passenger from trip #82220.\n",
      "The taxi from trip #81243 should pick up the passenger from trip #82229.\n",
      "The taxi from trip #81384 should pick up the passenger from trip #82041.\n",
      "The taxi from trip #81460 should pick up the passenger from trip #81949.\n",
      "The taxi from trip #80947 should pick up the passenger from trip #82046.\n",
      "The taxi from trip #80948 should pick up the passenger from trip #82013.\n",
      "The taxi from trip #80982 should pick up the passenger from trip #82263.\n",
      "The taxi from trip #81004 should pick up the passenger from trip #82027.\n",
      "The taxi from trip #81009 should pick up the passenger from trip #82249.\n",
      "The taxi from trip #81018 should pick up the passenger from trip #82000.\n",
      "The taxi from trip #81025 should pick up the passenger from trip #82042.\n",
      "The taxi from trip #81092 should pick up the passenger from trip #81966.\n",
      "The taxi from trip #81102 should pick up the passenger from trip #81995.\n",
      "The taxi from trip #81117 should pick up the passenger from trip #82118.\n",
      "The taxi from trip #81137 should pick up the passenger from trip #82144.\n",
      "The taxi from trip #81161 should pick up the passenger from trip #82116.\n",
      "The taxi from trip #81167 should pick up the passenger from trip #82005.\n",
      "The taxi from trip #81169 should pick up the passenger from trip #82015.\n",
      "The taxi from trip #81175 should pick up the passenger from trip #82051.\n",
      "The taxi from trip #81198 should pick up the passenger from trip #82107.\n",
      "The taxi from trip #81204 should pick up the passenger from trip #82395.\n",
      "The taxi from trip #81211 should pick up the passenger from trip #82152.\n",
      "The taxi from trip #81250 should pick up the passenger from trip #82043.\n",
      "The taxi from trip #81292 should pick up the passenger from trip #82156.\n",
      "The taxi from trip #81331 should pick up the passenger from trip #82166.\n",
      "The taxi from trip #81343 should pick up the passenger from trip #81961.\n",
      "The taxi from trip #81395 should pick up the passenger from trip #82076.\n",
      "The taxi from trip #81440 should pick up the passenger from trip #82390.\n",
      "The taxi from trip #81481 should pick up the passenger from trip #81946.\n",
      "The taxi from trip #81501 should pick up the passenger from trip #82183.\n",
      "The taxi from trip #81589 should pick up the passenger from trip #82038.\n"
     ]
    }
   ],
   "source": [
    "for var in m.variables():\n",
    "    if var.solution_value() == 1:\n",
    "        do_trip = var.name()[:var.name().find(', ')]\n",
    "        pu_trip = var.name()[var.name().find(', ')+2:]\n",
    "        print(f'The taxi from trip #{do_trip} should pick up the passenger from trip #{pu_trip}.')"
   ]
  }
 ],
 "metadata": {
  "kernelspec": {
   "display_name": "Python 3 (ipykernel)",
   "language": "python",
   "name": "python3"
  },
  "language_info": {
   "codemirror_mode": {
    "name": "ipython",
    "version": 3
   },
   "file_extension": ".py",
   "mimetype": "text/x-python",
   "name": "python",
   "nbconvert_exporter": "python",
   "pygments_lexer": "ipython3",
   "version": "3.7.11"
  }
 },
 "nbformat": 4,
 "nbformat_minor": 5
}
