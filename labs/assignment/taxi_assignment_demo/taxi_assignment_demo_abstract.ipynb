{
 "cells": [
  {
   "cell_type": "code",
   "execution_count": null,
   "id": "2074440a",
   "metadata": {},
   "outputs": [],
   "source": [
    "from bokeh import palettes\n",
    "from bokeh.plotting import figure, show\n",
    "from bokeh.tile_providers import get_provider, Vendors\n",
    "from bokeh.models import (GraphRenderer, Circle, MultiLine, StaticLayoutProvider,\n",
    "                          HoverTool, TapTool, EdgesAndLinkedNodes, NodesAndLinkedEdges,\n",
    "                          ColumnDataSource, LabelSet, NodesOnly)\n",
    "from bokeh.io import output_notebook\n",
    "output_notebook()\n",
    "\n",
    "import taxi_assignment_graph_generator\n",
    "from taxi_assignment_graph_generator import plot"
   ]
  },
  {
   "cell_type": "code",
   "execution_count": null,
   "id": "6b43045f",
   "metadata": {},
   "outputs": [],
   "source": [
    "# Changing any values in this cell requires the ENTIRE notebook to be rerun\n",
    "# Changes the target start time of day, 1020 is 5:00 PM\n",
    "taxi_assignment_graph_generator.dropoff_window_start = 1020\n",
    "# Changes the window for the dropoffs, in minutes\n",
    "taxi_assignment_graph_generator.dropoff_window_duration = 7\n",
    "# Changes the window where no pickups or dropoffs are looked at, in minutes\n",
    "taxi_assignment_graph_generator.gap_interval_duration = 3\n",
    "# Changes the window for pickups, in minutes\n",
    "taxi_assignment_graph_generator.pickup_window_duration = 6\n",
    "\n",
    "# If this is True, it will slide the dropoff window back until there are more dropoffs than pickups\n",
    "taxi_assignment_graph_generator.slide_dropoff_window = True"
   ]
  },
  {
   "cell_type": "code",
   "execution_count": null,
   "id": "141fd3cc",
   "metadata": {},
   "outputs": [],
   "source": [
    "# Creates the plots, the parameter to the plot function influences the maximum time a taxi can spend moving from dropoff to pickup\n",
    "max_cardinality_plot, min_cost_plot = taxi_assignment_graph_generator.plot(0.5)\n",
    "\n",
    "show(max_cardinality_plot)\n",
    "show(min_cost_plot)"
   ]
  }
 ],
 "metadata": {
  "kernelspec": {
   "display_name": "Python 3 (ipykernel)",
   "language": "python",
   "name": "python3"
  },
  "language_info": {
   "codemirror_mode": {
    "name": "ipython",
    "version": 3
   },
   "file_extension": ".py",
   "mimetype": "text/x-python",
   "name": "python",
   "nbconvert_exporter": "python",
   "pygments_lexer": "ipython3",
   "version": "3.7.11"
  }
 },
 "nbformat": 4,
 "nbformat_minor": 5
}
