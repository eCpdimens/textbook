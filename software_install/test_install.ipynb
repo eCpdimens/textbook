{
 "cells": [
  {
   "cell_type": "markdown",
   "metadata": {},
   "source": [
    "## Import Needed Packages"
   ]
  },
  {
   "cell_type": "code",
   "execution_count": 1,
   "metadata": {},
   "outputs": [],
   "source": [
    "import gilp # Visualize the simplex algorithm and solve linear programs\n",
    "import ortools # Google's optimization suite\n",
    "import networkx # Create and manipulate complex networks\n",
    "import matplotlib # Publication quality figures in python\n",
    "import pandas # High-performance, easy-to-use data structures and data analysis tools\n",
    "import bokeh # Statistical and novel interactive html plots for python\n",
    "import shapely # Maniipulation and analysis of geometric objects in the cartesian plane\n",
    "import scipy # Scientific library for python\n",
    "import skimage # Image processing routines for scipy\n",
    "import numpy # Array processing for numbers, strings, records, and objects"
   ]
  }
 ],
 "metadata": {
  "kernelspec": {
   "display_name": "Python 3",
   "language": "python",
   "name": "python3"
  },
  "language_info": {
   "codemirror_mode": {
    "name": "ipython",
    "version": 3
   },
   "file_extension": ".py",
   "mimetype": "text/x-python",
   "name": "python",
   "nbconvert_exporter": "python",
   "pygments_lexer": "ipython3",
   "version": "3.7.7"
  }
 },
 "nbformat": 4,
 "nbformat_minor": 4
}
