{
 "cells": [
  {
   "cell_type": "markdown",
   "metadata": {
    "colab_type": "text",
    "id": "WIaECvNClCIt"
   },
   "source": [
    "## Jupyter Notebook Introduction"
   ]
  },
  {
   "cell_type": "markdown",
   "metadata": {
    "colab_type": "text",
    "id": "_u6uK4WAlCIu"
   },
   "source": [
    "Jupyter Notebooks allow us to run snippets of Python Code in the browser. There are two main types of cells: text cells and code cells."
   ]
  },
  {
   "cell_type": "markdown",
   "metadata": {
    "colab_type": "text",
    "id": "_dwAX6_vlCI2"
   },
   "source": [
    "This is a text cell which is also called a Markdown cell. We can change the type of cell by selecting the cell we want to switch. Then, we go up to the tool bar and select the desired cell type from the drop down menu. In a text cell, we can do some formatting like **bold**, *italics*, and create equations: $$2x_1 + 3x_2 = 10$$\n",
    "Double click on this Markdown cell edit it."
   ]
  },
  {
   "cell_type": "code",
   "execution_count": 1,
   "metadata": {
    "colab": {},
    "colab_type": "code",
    "executionInfo": {
     "elapsed": 472,
     "status": "ok",
     "timestamp": 1599146841704,
     "user": {
      "displayName": "Henry Robbins",
      "photoUrl": "https://lh3.googleusercontent.com/a-/AOh14Ghtkb6M9fIsluoA-_wBCXDiUPtMiNtO8H-5qVDp=s64",
      "userId": "05043322743269013376"
     },
     "user_tz": 240
    },
    "id": "aSPwYbt_lCIv"
   },
   "outputs": [],
   "source": [
    "# This is a comment in a code cell\n",
    "# Click on this cell and press Run or Shift + Enter to run it.\n",
    "print('Hello World!')"
   ]
  },
  {
   "cell_type": "code",
   "execution_count": 2,
   "metadata": {
    "colab": {
     "base_uri": "https://localhost:8080/",
     "height": 34
    },
    "colab_type": "code",
    "executionInfo": {
     "elapsed": 467,
     "status": "ok",
     "timestamp": 1599146841705,
     "user": {
      "displayName": "Henry Robbins",
      "photoUrl": "https://lh3.googleusercontent.com/a-/AOh14Ghtkb6M9fIsluoA-_wBCXDiUPtMiNtO8H-5qVDp=s64",
      "userId": "05043322743269013376"
     },
     "user_tz": 240
    },
    "id": "Kg4TeNiJlCIz",
    "outputId": "d9c1d2c1-27cb-4359-fda0-c55f87b24efc"
   },
   "outputs": [
    {
     "data": {
      "text/plain": [
       "8"
      ]
     },
     "execution_count": 2,
     "metadata": {},
     "output_type": "execute_result"
    }
   ],
   "source": [
    "# Here we assign the variable x the value 5 and y to the value 3\n",
    "x = 5\n",
    "y = 3\n",
    "# If we have a variable or function that returns some object on the last row of a code cell, the \n",
    "# value of that variable or the returned object from the function will be printed to the cell output.\n",
    "x + y"
   ]
  },
  {
   "cell_type": "code",
   "execution_count": 3,
   "metadata": {},
   "outputs": [],
   "source": [
    "# Here we define a function that takes an input variable called name and returns a string\n",
    "def func(name):\n",
    "    return 'Hello ' + name + '!'"
   ]
  },
  {
   "cell_type": "code",
   "execution_count": 4,
   "metadata": {},
   "outputs": [
    {
     "data": {
      "text/plain": [
       "'Hello you!'"
      ]
     },
     "execution_count": 4,
     "metadata": {},
     "output_type": "execute_result"
    }
   ],
   "source": [
    "# This is a new cell but we can still access the function defined in the previous cell.\n",
    "func('you')"
   ]
  },
  {
   "cell_type": "markdown",
   "metadata": {},
   "source": [
    "## Importing Python Packages"
   ]
  },
  {
   "cell_type": "markdown",
   "metadata": {},
   "source": [
    "Packages contain pre-bundled code that we will use in labs throughout the semester. Before importing a package, one must install it. If you have followed the software installation instructions correctly, you should be able to run the next cell without error."
   ]
  },
  {
   "cell_type": "code",
   "execution_count": 5,
   "metadata": {},
   "outputs": [],
   "source": [
    "import gilp # Visualize the simplex algorithm and solve linear programs\n",
    "import ortools # Google's optimization suite\n",
    "import networkx # Create and manipulate complex networks\n",
    "import matplotlib # Publication quality figures in python\n",
    "import pandas # High-performance, easy-to-use data structures and data analysis tools\n",
    "import bokeh # Statistical and novel interactive html plots for python\n",
    "import shapely # Maniipulation and analysis of geometric objects in the cartesian plane\n",
    "import scipy # Scientific library for python\n",
    "import skimage # Image processing routines for scipy\n",
    "import numpy # Array processing for numbers, strings, records, and objects"
   ]
  }
 ],
 "metadata": {
  "kernelspec": {
   "display_name": "Python 3",
   "language": "python",
   "name": "python3"
  },
  "language_info": {
   "codemirror_mode": {
    "name": "ipython",
    "version": 3
   },
   "file_extension": ".py",
   "mimetype": "text/x-python",
   "name": "python",
   "nbconvert_exporter": "python",
   "pygments_lexer": "ipython3",
   "version": "3.6.10"
  }
 },
 "nbformat": 4,
 "nbformat_minor": 4
}
