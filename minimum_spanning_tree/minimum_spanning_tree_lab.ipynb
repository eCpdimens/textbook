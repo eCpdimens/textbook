{
 "cells": [
  {
   "cell_type": "markdown",
   "metadata": {},
   "source": [
    "# The Minimum Spanning Tree Problem"
   ]
  },
  {
   "cell_type": "markdown",
   "metadata": {},
   "source": [
    "**Objectives**\n",
    "\n",
    "- Introduce students to the graph theoretic concept of spanning\n",
    "  trees.\n",
    "- Show three different combinatorial algorithms for solving the\n",
    "  minimum spanning tree problem.\n",
    "- Demonstrate a practical use of minimum spanning trees.\n",
    "\n",
    "**Reading:** Read Handout 4 on the minimum spanning tree problem.\n",
    "\n",
    "**Brief description:** In this lab, we review some of the\n",
    "applications of the minimum spanning tree problem, along with the\n",
    "concept of the spanning tree in an undirected graph (and why these are\n",
    "the desired solutions for the problem), some algorithms for solving\n",
    "the minimal spanning tree (MST) problem, and sensitivity analysis for\n",
    "this problem.\n",
    "\n",
    " <br>\n"
   ]
  },
  {
   "cell_type": "code",
   "execution_count": null,
   "metadata": {},
   "outputs": [],
   "source": [
    "# Imports -- don't forget to run this cell!\n",
    "import vinal as vl\n",
    "import pandas as pd\n",
    "import pickle\n",
    "from bokeh.io import output_notebook, show\n",
    "output_notebook()"
   ]
  },
  {
   "cell_type": "markdown",
   "metadata": {},
   "source": [
    "## Part I: An Application: Communication Network Design\n",
    "\n",
    "You are the engineer in charge of designing a new high speed fiber optic Internet network between several Operations Research departments throughout the U.S.. Your objective is to design a system that connects various campuses. However, so that this network can be brought online quickly, we must install the fiber optic line within existing physical infrastructure. The possible physical cable routes between cities and the cost of installing the fiber optic cable (in millions of dollars) are given in two CSV files."
   ]
  },
  {
   "cell_type": "code",
   "execution_count": null,
   "metadata": {},
   "outputs": [],
   "source": [
    "# Load the data and create a graph G\n",
    "nodes = pd.read_csv('data/fiber_optic_nodes.csv', index_col=0)\n",
    "edges = pd.read_csv('data/fiber_optic_edges.csv', index_col=0)\n",
    "G = vl.create_network(nodes, edges)\n",
    "\n",
    "# Plot the graph G\n",
    "show(vl.tree_plot(G, tree=[], width=600))"
   ]
  },
  {
   "cell_type": "markdown",
   "metadata": {},
   "source": [
    "How do you suppose you would go about designing such a system? Since you can only use the edges shown in the graph, you must choose a subgraph of the given graph, or in other words, a subset of the possible edges. Every location must be serviced which means that the subgraph must be spanning. You should be able to get to any location from any other location. This means the subgraph should be connected. Because you are trying to minimize cost, the subgraph should also be minimal, meaning that you cannot remove any of the edges while maintaining the other necessary properties. A minimal connected spanning subgraph is called a spanning tree. There are many other ways of defining trees. In operations research terminology, we want to find a minimum spanning tree of the given graph."
   ]
  },
  {
   "cell_type": "code",
   "execution_count": null,
   "metadata": {},
   "outputs": [],
   "source": [
    "tree = [(0,14),(0,1),(1,2),(2,3),(3,5),(4,5),(11,5),(5,6),\n",
    "        (6,15),(9,10),(7,9),(7,8),(6,7),(14,12),(12,13)]\n",
    "show(vl.tree_plot(G, tree=tree, show_cost=True, width=900, height=600))"
   ]
  },
  {
   "cell_type": "markdown",
   "metadata": {},
   "source": [
    "**Q1:** An example of a spanning tree is indicated above using thick edges. Do you think that this is the best possible? Can you briefly give a convincing argument why or why not?\n",
    "\n",
    "**A:** "
   ]
  },
  {
   "cell_type": "markdown",
   "metadata": {},
   "source": [
    "## Part II: Minimum Spanning Tree Algorithms\n",
    "\n",
    "In this section we will investigate three different algorithms for solving the Minimum Spanning Tree Problem. First you will try the algorithm that you have seen on lecture: Prim’s algorithm. This algorithm works as\n",
    "follows:\n",
    "\n",
    "1. Choose any node from which to begin, say node 1, and start the tree with the cheapest edge from node 1 to one of the other nodes in the graph.\n",
    "2. At each subsequent step, add the cheapest edge that maintains\n",
    "connectivity of the current tree and adds a new node. In other words,\n",
    "add the cheapest edge that connects a new node to those already\n",
    "connected.\n",
    "3.  Continue to do this until all nodes are connected."
   ]
  },
  {
   "cell_type": "code",
   "execution_count": null,
   "metadata": {},
   "outputs": [],
   "source": [
    "show(vl.tree_plot(G, tree=[], width=600))"
   ]
  },
  {
   "cell_type": "markdown",
   "metadata": {},
   "source": [
    "**Q2:** Run the first 5 iterations of this algorithm (starting at node 0 on the far left). Show your work: indicate the order in which you add the edges.\n",
    "\n",
    "**A:** "
   ]
  },
  {
   "cell_type": "markdown",
   "metadata": {},
   "source": [
    "Now, use the software to run the first 5 iterations of Prim's. Run the cell to output a plot. The starting node is solid dark blue. Click the edges you identified in **Q2** to add them to the minimum spanning tree."
   ]
  },
  {
   "cell_type": "code",
   "execution_count": null,
   "metadata": {},
   "outputs": [],
   "source": [
    "show(vl.assisted_mst_algorithm_plot(G, algorithm='prims', s=0, width=900, height=600))"
   ]
  },
  {
   "cell_type": "markdown",
   "metadata": {},
   "source": [
    "**Q3:** If you made a mistake, an error message would have appeared. Did you make any mistakes?\n",
    "\n",
    "**A:** "
   ]
  },
  {
   "cell_type": "markdown",
   "metadata": {},
   "source": [
    "**Q4:** There are two different colors of nodes in the above graph. Using your observations about the first 5 iterations, explain when each represents.\n",
    "\n",
    "**A:** "
   ]
  },
  {
   "cell_type": "markdown",
   "metadata": {},
   "source": [
    "**Q5:** At each iteration of Prim's, among which subset of edges are you selecting a next edge to add. How do you select which one of these to add?\n",
    "\n",
    "**A:** "
   ]
  },
  {
   "cell_type": "markdown",
   "metadata": {},
   "source": [
    "**Q6:** Run the cell below and click next until you have a minimum spanning tree. Try to anticipate each of the algorithm’s steps. What is the total cost of this tree, and how does this compare with the original tree? (Hint: the cost of the tree is shown in the bottom left.)\n",
    "\n",
    "**A:** "
   ]
  },
  {
   "cell_type": "code",
   "execution_count": null,
   "metadata": {},
   "outputs": [],
   "source": [
    "show(vl.mst_algorithm_plot(G, algorithm='prims', i=0, width=900, height=600))"
   ]
  },
  {
   "cell_type": "markdown",
   "metadata": {},
   "source": [
    "Now we turn to another algorithm which is called Kruskal's\n",
    "Algorithm. This is an example of a so- called Greedy Algorithm,\n",
    "i.e. an algorithm that always takes the step that \"looks best\"\n",
    "currently. Greedy algorithms are widely used in computer science\n",
    "beyond just solving the MST. Kruskal's algorithm works as follows:\n",
    "\n",
    "1. Begin with the cheapest edge (break ties arbitrarily).\n",
    "2. At each step, add the cheapest edge not already in the system that does not create a cycle, or a loop in the system.\n",
    "3. Continue adding edges until you get a spanning tree."
   ]
  },
  {
   "cell_type": "code",
   "execution_count": null,
   "metadata": {},
   "outputs": [],
   "source": [
    "show(vl.tree_plot(G, tree=[], width=600))"
   ]
  },
  {
   "cell_type": "markdown",
   "metadata": {},
   "source": [
    "**Q7:** Run the first 5 iterations of this algorithm. Show your work: indicate the order in which you add the edges and also indicate (differently) any edges that you considered adding (but decided not to because they created a cycle or loop).\n",
    "\n",
    "**A:** "
   ]
  },
  {
   "cell_type": "markdown",
   "metadata": {},
   "source": [
    "Run the cell below."
   ]
  },
  {
   "cell_type": "code",
   "execution_count": null,
   "metadata": {},
   "outputs": [],
   "source": [
    "show(vl.assisted_mst_algorithm_plot(G, algorithm='kruskals', width=900, height=600))"
   ]
  },
  {
   "cell_type": "markdown",
   "metadata": {},
   "source": [
    "**Q8:** Verify your by-hand computations were correct. Did you make any mistakes?\n",
    "\n",
    "**A:** "
   ]
  },
  {
   "cell_type": "markdown",
   "metadata": {},
   "source": [
    "**Q9:** Run the cell below and click next until you have a minimum spanning tree. Again, try to anticipate each of the algorithm’s steps. What is the cost of the final solution?\n",
    "\n",
    "**A:** "
   ]
  },
  {
   "cell_type": "code",
   "execution_count": null,
   "metadata": {},
   "outputs": [],
   "source": [
    "show(vl.mst_algorithm_plot(G, algorithm='kruskals', width=900, height=600))"
   ]
  },
  {
   "cell_type": "markdown",
   "metadata": {},
   "source": [
    "**Q10:** Is the same spanning tree found by the two algorithms?\n",
    "\n"
   ]
  },
  {
   "cell_type": "markdown",
   "metadata": {},
   "source": [
    "**Q11:** (Why is the previous question not a dumb question?)\n",
    "\n"
   ]
  },
  {
   "cell_type": "markdown",
   "metadata": {},
   "source": [
    "The following algorithm is called the Reverse Greedy Algorithm, and it\n",
    "effectively does Kruskal's in reverse.\n",
    "\n",
    "1. Start with the entire graph.\n",
    "2. At each step, check if the graph has a cycle. If it does, remove the most expensive edge in the cycle (break ties arbitrarily, and pick any cycle you'd like).\n",
    "3. Continue to do this until the graph remaining is a spanning tree.\n"
   ]
  },
  {
   "cell_type": "code",
   "execution_count": null,
   "metadata": {},
   "outputs": [],
   "source": [
    "show(vl.tree_plot(G, tree=[], width=600))"
   ]
  },
  {
   "cell_type": "markdown",
   "metadata": {},
   "source": [
    "**Q12:** Run the first 5 iterations of this algorithm. Show your work: indicate the order in which you delete the edges.\n",
    "\n",
    "**A:** "
   ]
  },
  {
   "cell_type": "markdown",
   "metadata": {},
   "source": [
    "Run the cell below and click next until you have a minimum spanning tree. Note: this software works a little bit different than the above process, and it always looks for the most expensive edge it can eliminate.  It will run a version of Reverse Kruskal's, but won't run in the full generality as above."
   ]
  },
  {
   "cell_type": "code",
   "execution_count": null,
   "metadata": {},
   "outputs": [],
   "source": [
    "show(vl.mst_algorithm_plot(G, algorithm='reverse_kruskals', width=900, height=600))"
   ]
  },
  {
   "cell_type": "markdown",
   "metadata": {},
   "source": [
    "**Q13:** What is the cost of the resulting spanning tree?\n",
    "\n",
    "**A:** "
   ]
  },
  {
   "cell_type": "markdown",
   "metadata": {},
   "source": [
    "**Q14:** How does the spanning tree and its cost compare to those obtained by the previous algorithms?\n",
    "\n",
    "**A:** "
   ]
  },
  {
   "cell_type": "markdown",
   "metadata": {},
   "source": [
    "**Q15:** Which of the three algorithms was the easiest for you to follow? Why?\n",
    "\n",
    "**A:** "
   ]
  },
  {
   "cell_type": "markdown",
   "metadata": {},
   "source": [
    "## Part III: Analyzing Minimum Spanning Trees"
   ]
  },
  {
   "cell_type": "markdown",
   "metadata": {},
   "source": [
    "Suppose you start with some spanning tree, like the first one given in your lab handout, can you devise a way to systematically improve it? In other words, given a spanning tree, can you tell if it is one of minimum cost and, if not, can you improve it (without recomputing a minimum spanning tree from scratch)? "
   ]
  },
  {
   "cell_type": "markdown",
   "metadata": {},
   "source": [
    "**Q16:** Suggest such an algorithm.\n",
    "\n",
    "**A:** "
   ]
  },
  {
   "cell_type": "markdown",
   "metadata": {},
   "source": [
    "Next we will study how the solution changes when problem parameters are altered. This is referred to as Sensitivity Analysis. Consider edge {3, 5} which was not used in the minimum spanning tree found by Prim’s algorithm. Just this one edge’s cost will be changed."
   ]
  },
  {
   "cell_type": "code",
   "execution_count": null,
   "metadata": {},
   "outputs": [],
   "source": [
    "show(vl.tree_plot(G, tree=[(3,5)], width=600))"
   ]
  },
  {
   "cell_type": "markdown",
   "metadata": {},
   "source": [
    "**Q17:** Should it increase or decrease if it will be included in the new minimum spanning tree? Exactly what must the cost of {4, 6} be changed to for this to occur.\n",
    "\n",
    "**A:** "
   ]
  },
  {
   "cell_type": "markdown",
   "metadata": {},
   "source": [
    "We can use the command below to get the weight of any edge:"
   ]
  },
  {
   "cell_type": "code",
   "execution_count": null,
   "metadata": {},
   "outputs": [],
   "source": [
    "G[2][3]['weight']"
   ]
  },
  {
   "cell_type": "markdown",
   "metadata": {},
   "source": [
    "**Q18:** Change the weight of {3,5} to be 1 less than the cost you answered in **Q17.**"
   ]
  },
  {
   "cell_type": "code",
   "execution_count": null,
   "metadata": {},
   "outputs": [],
   "source": [
    "# TODO: Change the weight of edge {3,5}\n",
    "# G[3][5]['weight'] = ?\n",
    "\n"
   ]
  },
  {
   "cell_type": "markdown",
   "metadata": {},
   "source": [
    "Run the cell below to re-run Prim's"
   ]
  },
  {
   "cell_type": "code",
   "execution_count": null,
   "metadata": {},
   "outputs": [],
   "source": [
    "mst = vl.prims(G,i=0)\n",
    "show(vl.tree_plot(G, tree=mst, i=0, width=900, height=600))"
   ]
  },
  {
   "cell_type": "markdown",
   "metadata": {},
   "source": [
    "**Q19:** Is the edge {3,5} now in the tree?\n",
    "\n",
    "**A:** "
   ]
  },
  {
   "cell_type": "markdown",
   "metadata": {},
   "source": [
    "**Q20:** Change the weight of {3,5} to be 2 more than it currently is."
   ]
  },
  {
   "cell_type": "code",
   "execution_count": null,
   "metadata": {},
   "outputs": [],
   "source": [
    "# TODO: Change the weight of edge {3,5}\n",
    "# G[3][5]['weight'] = ?\n",
    "\n"
   ]
  },
  {
   "cell_type": "code",
   "execution_count": null,
   "metadata": {},
   "outputs": [],
   "source": [
    "mst = vl.prims(G,i=0)\n",
    "show(vl.tree_plot(G, tree=mst, i=0, width=900, height=600))"
   ]
  },
  {
   "cell_type": "markdown",
   "metadata": {},
   "source": [
    "**Q21:** Is the edge {3,5} no longer in the tree?\n",
    "\n",
    "**A:** "
   ]
  },
  {
   "cell_type": "markdown",
   "metadata": {},
   "source": [
    "**Q22:** In general, what does this suggest about how the cost of any one “not included” edge must be changed if it is to be included in the minimum spanning tree for the modified data?\n",
    "\n",
    "\n",
    "**A:** "
   ]
  },
  {
   "cell_type": "markdown",
   "metadata": {},
   "source": [
    "**Q23:** Now consider an edge that is in the minimum spanning tree, such as {1, 2}. How must this be changed for this edge to be forced out of the optimal solution? Again, also figure out the general rule for forcing minimum spanning tree edges out of the minimum spanning tree.\n",
    "\n",
    "**A:** "
   ]
  },
  {
   "cell_type": "markdown",
   "metadata": {},
   "source": [
    "## Part IV: MST Application to Clustering"
   ]
  },
  {
   "cell_type": "markdown",
   "metadata": {},
   "source": []
  },
  {
   "cell_type": "markdown",
   "metadata": {},
   "source": [
    "<img src=\"images/taxi_ride_frequency.png\" width=\"1000\" />"
   ]
  },
  {
   "cell_type": "code",
   "execution_count": null,
   "metadata": {},
   "outputs": [],
   "source": [
    "with open('data/taxi_count_dict.pickle', 'rb') as handle:\n",
    "    taxi_counts = pd.DataFrame(pickle.load(handle))\n",
    "taxi_counts"
   ]
  }
 ],
 "metadata": {
  "kernelspec": {
   "display_name": "Python 3",
   "language": "python",
   "name": "python3"
  },
  "language_info": {
   "codemirror_mode": {
    "name": "ipython",
    "version": 3
   },
   "file_extension": ".py",
   "mimetype": "text/x-python",
   "name": "python",
   "nbconvert_exporter": "python",
   "pygments_lexer": "ipython3",
   "version": "3.6.10"
  }
 },
 "nbformat": 4,
 "nbformat_minor": 4
}
