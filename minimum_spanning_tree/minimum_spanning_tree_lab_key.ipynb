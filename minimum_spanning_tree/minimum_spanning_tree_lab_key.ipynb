{
 "cells": [
  {
   "cell_type": "markdown",
   "metadata": {},
   "source": [
    "# The Minimum Spanning Tree Problem"
   ]
  },
  {
   "cell_type": "markdown",
   "metadata": {},
   "source": [
    "**Objectives**\n",
    "\n",
    "- Introduce students to the graph theoretic concept of spanning\n",
    "  trees.\n",
    "- Show three different combinatorial algorithms for solving the\n",
    "  minimum spanning tree problem.\n",
    "- Demonstrate a practical use of minimum spanning trees.\n",
    "\n",
    "**Reading:** Read Handout 4 on the minimum spanning tree problem.\n",
    "\n",
    "**Brief description:** In this lab, we review some of the\n",
    "applications of the minimum spanning tree problem, along with the\n",
    "concept of the spanning tree in an undirected graph (and why these are\n",
    "the desired solutions for the problem), some algorithms for solving\n",
    "the minimal spanning tree (MST) problem, and sensitivity analysis for\n",
    "this problem.\n",
    "\n",
    "<font color='blue'> <b>Solutions are shown blue.</b> </font> <br>\n",
    "<font color='red'> <b>Instuctor comments are shown in red.</b> </font>"
   ]
  },
  {
   "cell_type": "code",
   "execution_count": 1,
   "metadata": {
    "scrolled": true
   },
   "outputs": [
    {
     "data": {
      "text/html": [
       "\n",
       "    <div class=\"bk-root\">\n",
       "        <a href=\"https://bokeh.org\" target=\"_blank\" class=\"bk-logo bk-logo-small bk-logo-notebook\"></a>\n",
       "        <span id=\"1001\">Loading BokehJS ...</span>\n",
       "    </div>"
      ]
     },
     "metadata": {},
     "output_type": "display_data"
    },
    {
     "data": {
      "application/javascript": [
       "\n",
       "(function(root) {\n",
       "  function now() {\n",
       "    return new Date();\n",
       "  }\n",
       "\n",
       "  var force = true;\n",
       "\n",
       "  if (typeof root._bokeh_onload_callbacks === \"undefined\" || force === true) {\n",
       "    root._bokeh_onload_callbacks = [];\n",
       "    root._bokeh_is_loading = undefined;\n",
       "  }\n",
       "\n",
       "  var JS_MIME_TYPE = 'application/javascript';\n",
       "  var HTML_MIME_TYPE = 'text/html';\n",
       "  var EXEC_MIME_TYPE = 'application/vnd.bokehjs_exec.v0+json';\n",
       "  var CLASS_NAME = 'output_bokeh rendered_html';\n",
       "\n",
       "  /**\n",
       "   * Render data to the DOM node\n",
       "   */\n",
       "  function render(props, node) {\n",
       "    var script = document.createElement(\"script\");\n",
       "    node.appendChild(script);\n",
       "  }\n",
       "\n",
       "  /**\n",
       "   * Handle when an output is cleared or removed\n",
       "   */\n",
       "  function handleClearOutput(event, handle) {\n",
       "    var cell = handle.cell;\n",
       "\n",
       "    var id = cell.output_area._bokeh_element_id;\n",
       "    var server_id = cell.output_area._bokeh_server_id;\n",
       "    // Clean up Bokeh references\n",
       "    if (id != null && id in Bokeh.index) {\n",
       "      Bokeh.index[id].model.document.clear();\n",
       "      delete Bokeh.index[id];\n",
       "    }\n",
       "\n",
       "    if (server_id !== undefined) {\n",
       "      // Clean up Bokeh references\n",
       "      var cmd = \"from bokeh.io.state import curstate; print(curstate().uuid_to_server['\" + server_id + \"'].get_sessions()[0].document.roots[0]._id)\";\n",
       "      cell.notebook.kernel.execute(cmd, {\n",
       "        iopub: {\n",
       "          output: function(msg) {\n",
       "            var id = msg.content.text.trim();\n",
       "            if (id in Bokeh.index) {\n",
       "              Bokeh.index[id].model.document.clear();\n",
       "              delete Bokeh.index[id];\n",
       "            }\n",
       "          }\n",
       "        }\n",
       "      });\n",
       "      // Destroy server and session\n",
       "      var cmd = \"import bokeh.io.notebook as ion; ion.destroy_server('\" + server_id + \"')\";\n",
       "      cell.notebook.kernel.execute(cmd);\n",
       "    }\n",
       "  }\n",
       "\n",
       "  /**\n",
       "   * Handle when a new output is added\n",
       "   */\n",
       "  function handleAddOutput(event, handle) {\n",
       "    var output_area = handle.output_area;\n",
       "    var output = handle.output;\n",
       "\n",
       "    // limit handleAddOutput to display_data with EXEC_MIME_TYPE content only\n",
       "    if ((output.output_type != \"display_data\") || (!output.data.hasOwnProperty(EXEC_MIME_TYPE))) {\n",
       "      return\n",
       "    }\n",
       "\n",
       "    var toinsert = output_area.element.find(\".\" + CLASS_NAME.split(' ')[0]);\n",
       "\n",
       "    if (output.metadata[EXEC_MIME_TYPE][\"id\"] !== undefined) {\n",
       "      toinsert[toinsert.length - 1].firstChild.textContent = output.data[JS_MIME_TYPE];\n",
       "      // store reference to embed id on output_area\n",
       "      output_area._bokeh_element_id = output.metadata[EXEC_MIME_TYPE][\"id\"];\n",
       "    }\n",
       "    if (output.metadata[EXEC_MIME_TYPE][\"server_id\"] !== undefined) {\n",
       "      var bk_div = document.createElement(\"div\");\n",
       "      bk_div.innerHTML = output.data[HTML_MIME_TYPE];\n",
       "      var script_attrs = bk_div.children[0].attributes;\n",
       "      for (var i = 0; i < script_attrs.length; i++) {\n",
       "        toinsert[toinsert.length - 1].firstChild.setAttribute(script_attrs[i].name, script_attrs[i].value);\n",
       "        toinsert[toinsert.length - 1].firstChild.textContent = bk_div.children[0].textContent\n",
       "      }\n",
       "      // store reference to server id on output_area\n",
       "      output_area._bokeh_server_id = output.metadata[EXEC_MIME_TYPE][\"server_id\"];\n",
       "    }\n",
       "  }\n",
       "\n",
       "  function register_renderer(events, OutputArea) {\n",
       "\n",
       "    function append_mime(data, metadata, element) {\n",
       "      // create a DOM node to render to\n",
       "      var toinsert = this.create_output_subarea(\n",
       "        metadata,\n",
       "        CLASS_NAME,\n",
       "        EXEC_MIME_TYPE\n",
       "      );\n",
       "      this.keyboard_manager.register_events(toinsert);\n",
       "      // Render to node\n",
       "      var props = {data: data, metadata: metadata[EXEC_MIME_TYPE]};\n",
       "      render(props, toinsert[toinsert.length - 1]);\n",
       "      element.append(toinsert);\n",
       "      return toinsert\n",
       "    }\n",
       "\n",
       "    /* Handle when an output is cleared or removed */\n",
       "    events.on('clear_output.CodeCell', handleClearOutput);\n",
       "    events.on('delete.Cell', handleClearOutput);\n",
       "\n",
       "    /* Handle when a new output is added */\n",
       "    events.on('output_added.OutputArea', handleAddOutput);\n",
       "\n",
       "    /**\n",
       "     * Register the mime type and append_mime function with output_area\n",
       "     */\n",
       "    OutputArea.prototype.register_mime_type(EXEC_MIME_TYPE, append_mime, {\n",
       "      /* Is output safe? */\n",
       "      safe: true,\n",
       "      /* Index of renderer in `output_area.display_order` */\n",
       "      index: 0\n",
       "    });\n",
       "  }\n",
       "\n",
       "  // register the mime type if in Jupyter Notebook environment and previously unregistered\n",
       "  if (root.Jupyter !== undefined) {\n",
       "    var events = require('base/js/events');\n",
       "    var OutputArea = require('notebook/js/outputarea').OutputArea;\n",
       "\n",
       "    if (OutputArea.prototype.mime_types().indexOf(EXEC_MIME_TYPE) == -1) {\n",
       "      register_renderer(events, OutputArea);\n",
       "    }\n",
       "  }\n",
       "\n",
       "  \n",
       "  if (typeof (root._bokeh_timeout) === \"undefined\" || force === true) {\n",
       "    root._bokeh_timeout = Date.now() + 5000;\n",
       "    root._bokeh_failed_load = false;\n",
       "  }\n",
       "\n",
       "  var NB_LOAD_WARNING = {'data': {'text/html':\n",
       "     \"<div style='background-color: #fdd'>\\n\"+\n",
       "     \"<p>\\n\"+\n",
       "     \"BokehJS does not appear to have successfully loaded. If loading BokehJS from CDN, this \\n\"+\n",
       "     \"may be due to a slow or bad network connection. Possible fixes:\\n\"+\n",
       "     \"</p>\\n\"+\n",
       "     \"<ul>\\n\"+\n",
       "     \"<li>re-rerun `output_notebook()` to attempt to load from CDN again, or</li>\\n\"+\n",
       "     \"<li>use INLINE resources instead, as so:</li>\\n\"+\n",
       "     \"</ul>\\n\"+\n",
       "     \"<code>\\n\"+\n",
       "     \"from bokeh.resources import INLINE\\n\"+\n",
       "     \"output_notebook(resources=INLINE)\\n\"+\n",
       "     \"</code>\\n\"+\n",
       "     \"</div>\"}};\n",
       "\n",
       "  function display_loaded() {\n",
       "    var el = document.getElementById(\"1001\");\n",
       "    if (el != null) {\n",
       "      el.textContent = \"BokehJS is loading...\";\n",
       "    }\n",
       "    if (root.Bokeh !== undefined) {\n",
       "      if (el != null) {\n",
       "        el.textContent = \"BokehJS \" + root.Bokeh.version + \" successfully loaded.\";\n",
       "      }\n",
       "    } else if (Date.now() < root._bokeh_timeout) {\n",
       "      setTimeout(display_loaded, 100)\n",
       "    }\n",
       "  }\n",
       "\n",
       "\n",
       "  function run_callbacks() {\n",
       "    try {\n",
       "      root._bokeh_onload_callbacks.forEach(function(callback) {\n",
       "        if (callback != null)\n",
       "          callback();\n",
       "      });\n",
       "    } finally {\n",
       "      delete root._bokeh_onload_callbacks\n",
       "    }\n",
       "    console.debug(\"Bokeh: all callbacks have finished\");\n",
       "  }\n",
       "\n",
       "  function load_libs(css_urls, js_urls, callback) {\n",
       "    if (css_urls == null) css_urls = [];\n",
       "    if (js_urls == null) js_urls = [];\n",
       "\n",
       "    root._bokeh_onload_callbacks.push(callback);\n",
       "    if (root._bokeh_is_loading > 0) {\n",
       "      console.debug(\"Bokeh: BokehJS is being loaded, scheduling callback at\", now());\n",
       "      return null;\n",
       "    }\n",
       "    if (js_urls == null || js_urls.length === 0) {\n",
       "      run_callbacks();\n",
       "      return null;\n",
       "    }\n",
       "    console.debug(\"Bokeh: BokehJS not loaded, scheduling load and callback at\", now());\n",
       "    root._bokeh_is_loading = css_urls.length + js_urls.length;\n",
       "\n",
       "    function on_load() {\n",
       "      root._bokeh_is_loading--;\n",
       "      if (root._bokeh_is_loading === 0) {\n",
       "        console.debug(\"Bokeh: all BokehJS libraries/stylesheets loaded\");\n",
       "        run_callbacks()\n",
       "      }\n",
       "    }\n",
       "\n",
       "    function on_error() {\n",
       "      console.error(\"failed to load \" + url);\n",
       "    }\n",
       "\n",
       "    for (var i = 0; i < css_urls.length; i++) {\n",
       "      var url = css_urls[i];\n",
       "      const element = document.createElement(\"link\");\n",
       "      element.onload = on_load;\n",
       "      element.onerror = on_error;\n",
       "      element.rel = \"stylesheet\";\n",
       "      element.type = \"text/css\";\n",
       "      element.href = url;\n",
       "      console.debug(\"Bokeh: injecting link tag for BokehJS stylesheet: \", url);\n",
       "      document.body.appendChild(element);\n",
       "    }\n",
       "\n",
       "    const hashes = {\"https://cdn.bokeh.org/bokeh/release/bokeh-2.2.3.min.js\": \"T2yuo9Oe71Cz/I4X9Ac5+gpEa5a8PpJCDlqKYO0CfAuEszu1JrXLl8YugMqYe3sM\", \"https://cdn.bokeh.org/bokeh/release/bokeh-widgets-2.2.3.min.js\": \"98GDGJ0kOMCUMUePhksaQ/GYgB3+NH9h996V88sh3aOiUNX3N+fLXAtry6xctSZ6\", \"https://cdn.bokeh.org/bokeh/release/bokeh-tables-2.2.3.min.js\": \"89bArO+nlbP3sgakeHjCo1JYxYR5wufVgA3IbUvDY+K7w4zyxJqssu7wVnfeKCq8\"};\n",
       "\n",
       "    for (var i = 0; i < js_urls.length; i++) {\n",
       "      var url = js_urls[i];\n",
       "      var element = document.createElement('script');\n",
       "      element.onload = on_load;\n",
       "      element.onerror = on_error;\n",
       "      element.async = false;\n",
       "      element.src = url;\n",
       "      if (url in hashes) {\n",
       "        element.crossOrigin = \"anonymous\";\n",
       "        element.integrity = \"sha384-\" + hashes[url];\n",
       "      }\n",
       "      console.debug(\"Bokeh: injecting script tag for BokehJS library: \", url);\n",
       "      document.head.appendChild(element);\n",
       "    }\n",
       "  };\n",
       "\n",
       "  function inject_raw_css(css) {\n",
       "    const element = document.createElement(\"style\");\n",
       "    element.appendChild(document.createTextNode(css));\n",
       "    document.body.appendChild(element);\n",
       "  }\n",
       "\n",
       "  \n",
       "  var js_urls = [\"https://cdn.bokeh.org/bokeh/release/bokeh-2.2.3.min.js\", \"https://cdn.bokeh.org/bokeh/release/bokeh-widgets-2.2.3.min.js\", \"https://cdn.bokeh.org/bokeh/release/bokeh-tables-2.2.3.min.js\"];\n",
       "  var css_urls = [];\n",
       "  \n",
       "\n",
       "  var inline_js = [\n",
       "    function(Bokeh) {\n",
       "      Bokeh.set_log_level(\"info\");\n",
       "    },\n",
       "    function(Bokeh) {\n",
       "    \n",
       "    \n",
       "    }\n",
       "  ];\n",
       "\n",
       "  function run_inline_js() {\n",
       "    \n",
       "    if (root.Bokeh !== undefined || force === true) {\n",
       "      \n",
       "    for (var i = 0; i < inline_js.length; i++) {\n",
       "      inline_js[i].call(root, root.Bokeh);\n",
       "    }\n",
       "    if (force === true) {\n",
       "        display_loaded();\n",
       "      }} else if (Date.now() < root._bokeh_timeout) {\n",
       "      setTimeout(run_inline_js, 100);\n",
       "    } else if (!root._bokeh_failed_load) {\n",
       "      console.log(\"Bokeh: BokehJS failed to load within specified timeout.\");\n",
       "      root._bokeh_failed_load = true;\n",
       "    } else if (force !== true) {\n",
       "      var cell = $(document.getElementById(\"1001\")).parents('.cell').data().cell;\n",
       "      cell.output_area.append_execute_result(NB_LOAD_WARNING)\n",
       "    }\n",
       "\n",
       "  }\n",
       "\n",
       "  if (root._bokeh_is_loading === 0) {\n",
       "    console.debug(\"Bokeh: BokehJS loaded, going straight to plotting\");\n",
       "    run_inline_js();\n",
       "  } else {\n",
       "    load_libs(css_urls, js_urls, function() {\n",
       "      console.debug(\"Bokeh: BokehJS plotting callback run at\", now());\n",
       "      run_inline_js();\n",
       "    });\n",
       "  }\n",
       "}(window));"
      ],
      "application/vnd.bokehjs_load.v0+json": "\n(function(root) {\n  function now() {\n    return new Date();\n  }\n\n  var force = true;\n\n  if (typeof root._bokeh_onload_callbacks === \"undefined\" || force === true) {\n    root._bokeh_onload_callbacks = [];\n    root._bokeh_is_loading = undefined;\n  }\n\n  \n\n  \n  if (typeof (root._bokeh_timeout) === \"undefined\" || force === true) {\n    root._bokeh_timeout = Date.now() + 5000;\n    root._bokeh_failed_load = false;\n  }\n\n  var NB_LOAD_WARNING = {'data': {'text/html':\n     \"<div style='background-color: #fdd'>\\n\"+\n     \"<p>\\n\"+\n     \"BokehJS does not appear to have successfully loaded. If loading BokehJS from CDN, this \\n\"+\n     \"may be due to a slow or bad network connection. Possible fixes:\\n\"+\n     \"</p>\\n\"+\n     \"<ul>\\n\"+\n     \"<li>re-rerun `output_notebook()` to attempt to load from CDN again, or</li>\\n\"+\n     \"<li>use INLINE resources instead, as so:</li>\\n\"+\n     \"</ul>\\n\"+\n     \"<code>\\n\"+\n     \"from bokeh.resources import INLINE\\n\"+\n     \"output_notebook(resources=INLINE)\\n\"+\n     \"</code>\\n\"+\n     \"</div>\"}};\n\n  function display_loaded() {\n    var el = document.getElementById(\"1001\");\n    if (el != null) {\n      el.textContent = \"BokehJS is loading...\";\n    }\n    if (root.Bokeh !== undefined) {\n      if (el != null) {\n        el.textContent = \"BokehJS \" + root.Bokeh.version + \" successfully loaded.\";\n      }\n    } else if (Date.now() < root._bokeh_timeout) {\n      setTimeout(display_loaded, 100)\n    }\n  }\n\n\n  function run_callbacks() {\n    try {\n      root._bokeh_onload_callbacks.forEach(function(callback) {\n        if (callback != null)\n          callback();\n      });\n    } finally {\n      delete root._bokeh_onload_callbacks\n    }\n    console.debug(\"Bokeh: all callbacks have finished\");\n  }\n\n  function load_libs(css_urls, js_urls, callback) {\n    if (css_urls == null) css_urls = [];\n    if (js_urls == null) js_urls = [];\n\n    root._bokeh_onload_callbacks.push(callback);\n    if (root._bokeh_is_loading > 0) {\n      console.debug(\"Bokeh: BokehJS is being loaded, scheduling callback at\", now());\n      return null;\n    }\n    if (js_urls == null || js_urls.length === 0) {\n      run_callbacks();\n      return null;\n    }\n    console.debug(\"Bokeh: BokehJS not loaded, scheduling load and callback at\", now());\n    root._bokeh_is_loading = css_urls.length + js_urls.length;\n\n    function on_load() {\n      root._bokeh_is_loading--;\n      if (root._bokeh_is_loading === 0) {\n        console.debug(\"Bokeh: all BokehJS libraries/stylesheets loaded\");\n        run_callbacks()\n      }\n    }\n\n    function on_error() {\n      console.error(\"failed to load \" + url);\n    }\n\n    for (var i = 0; i < css_urls.length; i++) {\n      var url = css_urls[i];\n      const element = document.createElement(\"link\");\n      element.onload = on_load;\n      element.onerror = on_error;\n      element.rel = \"stylesheet\";\n      element.type = \"text/css\";\n      element.href = url;\n      console.debug(\"Bokeh: injecting link tag for BokehJS stylesheet: \", url);\n      document.body.appendChild(element);\n    }\n\n    const hashes = {\"https://cdn.bokeh.org/bokeh/release/bokeh-2.2.3.min.js\": \"T2yuo9Oe71Cz/I4X9Ac5+gpEa5a8PpJCDlqKYO0CfAuEszu1JrXLl8YugMqYe3sM\", \"https://cdn.bokeh.org/bokeh/release/bokeh-widgets-2.2.3.min.js\": \"98GDGJ0kOMCUMUePhksaQ/GYgB3+NH9h996V88sh3aOiUNX3N+fLXAtry6xctSZ6\", \"https://cdn.bokeh.org/bokeh/release/bokeh-tables-2.2.3.min.js\": \"89bArO+nlbP3sgakeHjCo1JYxYR5wufVgA3IbUvDY+K7w4zyxJqssu7wVnfeKCq8\"};\n\n    for (var i = 0; i < js_urls.length; i++) {\n      var url = js_urls[i];\n      var element = document.createElement('script');\n      element.onload = on_load;\n      element.onerror = on_error;\n      element.async = false;\n      element.src = url;\n      if (url in hashes) {\n        element.crossOrigin = \"anonymous\";\n        element.integrity = \"sha384-\" + hashes[url];\n      }\n      console.debug(\"Bokeh: injecting script tag for BokehJS library: \", url);\n      document.head.appendChild(element);\n    }\n  };\n\n  function inject_raw_css(css) {\n    const element = document.createElement(\"style\");\n    element.appendChild(document.createTextNode(css));\n    document.body.appendChild(element);\n  }\n\n  \n  var js_urls = [\"https://cdn.bokeh.org/bokeh/release/bokeh-2.2.3.min.js\", \"https://cdn.bokeh.org/bokeh/release/bokeh-widgets-2.2.3.min.js\", \"https://cdn.bokeh.org/bokeh/release/bokeh-tables-2.2.3.min.js\"];\n  var css_urls = [];\n  \n\n  var inline_js = [\n    function(Bokeh) {\n      Bokeh.set_log_level(\"info\");\n    },\n    function(Bokeh) {\n    \n    \n    }\n  ];\n\n  function run_inline_js() {\n    \n    if (root.Bokeh !== undefined || force === true) {\n      \n    for (var i = 0; i < inline_js.length; i++) {\n      inline_js[i].call(root, root.Bokeh);\n    }\n    if (force === true) {\n        display_loaded();\n      }} else if (Date.now() < root._bokeh_timeout) {\n      setTimeout(run_inline_js, 100);\n    } else if (!root._bokeh_failed_load) {\n      console.log(\"Bokeh: BokehJS failed to load within specified timeout.\");\n      root._bokeh_failed_load = true;\n    } else if (force !== true) {\n      var cell = $(document.getElementById(\"1001\")).parents('.cell').data().cell;\n      cell.output_area.append_execute_result(NB_LOAD_WARNING)\n    }\n\n  }\n\n  if (root._bokeh_is_loading === 0) {\n    console.debug(\"Bokeh: BokehJS loaded, going straight to plotting\");\n    run_inline_js();\n  } else {\n    load_libs(css_urls, js_urls, function() {\n      console.debug(\"Bokeh: BokehJS plotting callback run at\", now());\n      run_inline_js();\n    });\n  }\n}(window));"
     },
     "metadata": {},
     "output_type": "display_data"
    }
   ],
   "source": [
    "# Imports -- don't forget to run this cell!\n",
    "import vinal as vl\n",
    "import pandas as pd\n",
    "from bokeh.io import output_notebook, show\n",
    "output_notebook()"
   ]
  },
  {
   "cell_type": "markdown",
   "metadata": {},
   "source": [
    "## Part I: An Application: Communication Network Design\n",
    "\n",
    "You are the engineer in charge of designing a new high speed fiber optic Internet network between several Operations Research departments throughout the U.S.. Your objective is to design a system that connects various campuses. However, so that this network can be brought online quickly, we must install the fiber optic line within existing physical infrastructure. The possible physical cable routes between cities and the cost of installing the fiber optic cable (in millions of dollars) are given in two CSV files."
   ]
  },
  {
   "cell_type": "code",
   "execution_count": 2,
   "metadata": {},
   "outputs": [
    {
     "data": {
      "text/html": [
       "\n",
       "\n",
       "\n",
       "\n",
       "\n",
       "\n",
       "  <div class=\"bk-root\" id=\"1bf6352c-1e5b-4a5e-b387-091f319e1f5e\" data-root-id=\"1078\"></div>\n"
      ]
     },
     "metadata": {},
     "output_type": "display_data"
    },
    {
     "data": {
      "application/javascript": [
       "(function(root) {\n",
       "  function embed_document(root) {\n",
       "    \n",
       "  var docs_json = {\"8d638e84-d785-4892-97e6-3f845da6f955\":{\"roots\":{\"references\":[{\"attributes\":{\"children\":[[{\"id\":\"1002\"},0,0],[{\"id\":\"1062\"},1,0]]},\"id\":\"1078\",\"type\":\"GridBox\"},{\"attributes\":{},\"id\":\"1066\",\"type\":\"BasicTickFormatter\"},{\"attributes\":{},\"id\":\"1064\",\"type\":\"BasicTickFormatter\"},{\"attributes\":{},\"id\":\"1068\",\"type\":\"UnionRenderers\"},{\"attributes\":{},\"id\":\"1021\",\"type\":\"PanTool\"},{\"attributes\":{},\"id\":\"1069\",\"type\":\"Selection\"},{\"attributes\":{\"data_source\":{\"id\":\"1044\"},\"glyph\":{\"id\":\"1046\"},\"hover_glyph\":{\"id\":\"1048\"},\"level\":\"underlay\",\"muted_glyph\":null,\"nonselection_glyph\":{\"id\":\"1047\"},\"selection_glyph\":null,\"view\":{\"id\":\"1050\"}},\"id\":\"1049\",\"type\":\"GlyphRenderer\"},{\"attributes\":{\"overlay\":{\"id\":\"1027\"}},\"id\":\"1023\",\"type\":\"BoxZoomTool\"},{\"attributes\":{},\"id\":\"1071\",\"type\":\"UnionRenderers\"},{\"attributes\":{\"line_cap\":\"round\",\"line_color\":{\"field\":\"line_color\"},\"line_width\":{\"value\":5},\"xs\":{\"field\":\"xs\"},\"ys\":{\"field\":\"ys\"}},\"id\":\"1046\",\"type\":\"MultiLine\"},{\"attributes\":{},\"id\":\"1024\",\"type\":\"SaveTool\"},{\"attributes\":{\"data_source\":{\"id\":\"1038\"},\"glyph\":{\"id\":\"1040\"},\"hover_glyph\":null,\"muted_glyph\":null,\"nonselection_glyph\":{\"id\":\"1041\"},\"selection_glyph\":null,\"view\":{\"id\":\"1043\"}},\"id\":\"1042\",\"type\":\"GlyphRenderer\"},{\"attributes\":{},\"id\":\"1072\",\"type\":\"Selection\"},{\"attributes\":{\"source\":{\"id\":\"1044\"}},\"id\":\"1050\",\"type\":\"CDSView\"},{\"attributes\":{},\"id\":\"1022\",\"type\":\"WheelZoomTool\"},{\"attributes\":{\"text\":\"\"},\"id\":\"1003\",\"type\":\"Title\"},{\"attributes\":{},\"id\":\"1025\",\"type\":\"ResetTool\"},{\"attributes\":{\"source\":{\"id\":\"1038\"}},\"id\":\"1043\",\"type\":\"CDSView\"},{\"attributes\":{},\"id\":\"1073\",\"type\":\"UnionRenderers\"},{\"attributes\":{\"fill_color\":{\"field\":\"fill_color\"},\"line_color\":{\"field\":\"line_color\"},\"line_width\":{\"field\":\"line_width\"},\"size\":{\"units\":\"screen\",\"value\":11},\"x\":{\"field\":\"x\"},\"y\":{\"field\":\"y\"}},\"id\":\"1040\",\"type\":\"Circle\"},{\"attributes\":{},\"id\":\"1026\",\"type\":\"HelpTool\"},{\"attributes\":{},\"id\":\"1074\",\"type\":\"Selection\"},{\"attributes\":{\"fill_color\":{\"field\":\"fill_color\"},\"line_color\":{\"field\":\"line_color\"},\"line_width\":{\"field\":\"line_width\"},\"size\":{\"units\":\"screen\",\"value\":11},\"x\":{\"field\":\"x\"},\"y\":{\"field\":\"y\"}},\"id\":\"1041\",\"type\":\"Circle\"},{\"attributes\":{},\"id\":\"1075\",\"type\":\"UnionRenderers\"},{\"attributes\":{\"active_drag\":null,\"active_inspect\":\"auto\",\"active_multi\":null,\"active_scroll\":null,\"active_tap\":\"auto\",\"logo\":null,\"tools\":[{\"id\":\"1021\"},{\"id\":\"1022\"},{\"id\":\"1023\"},{\"id\":\"1024\"},{\"id\":\"1025\"},{\"id\":\"1026\"},{\"id\":\"1060\"}]},\"id\":\"1028\",\"type\":\"Toolbar\"},{\"attributes\":{\"end\":122.2,\"start\":-18.200000000000003},\"id\":\"1007\",\"type\":\"Range1d\"},{\"attributes\":{},\"id\":\"1076\",\"type\":\"Selection\"},{\"attributes\":{\"line_cap\":\"round\",\"line_color\":{\"field\":\"line_color\"},\"line_width\":{\"value\":5},\"xs\":{\"field\":\"xs\"},\"ys\":{\"field\":\"ys\"}},\"id\":\"1047\",\"type\":\"MultiLine\"},{\"attributes\":{\"line_cap\":\"round\",\"line_color\":{\"value\":\"#404040\"},\"line_width\":{\"value\":5},\"xs\":{\"field\":\"xs\"},\"ys\":{\"field\":\"ys\"}},\"id\":\"1048\",\"type\":\"MultiLine\"},{\"attributes\":{},\"id\":\"1009\",\"type\":\"LinearScale\"},{\"attributes\":{\"data\":{\"xs\":[[11.301090324745442,14.698909675254566],[63.069812290021225,69.93018770997878],[42.976862092036946,49.02313790796307],[70.22089160863857,76.77910839136149],[101.60977267069882,97.39022732930124],[139.8831103628236,144.11688963717637],[141.31806115805978,147.68193884194022],[133.82482514008294,137.17517485991706],[89.14670153841959,93.85329846158044],[111.6050606932186,117.3949393067814],[148.97244999999998,156.02755],[141.7005138802247,147.2994861197753],[132.55841471316512,135.44158528683488],[166.16509629035858,168.83490370964145],[159.86494734502958,162.13505265497042],[159.128646851194,159.87135314880598],[151.4028559428779,149.5971440571221],[187.04906838665292,184.9509316133471],[187.21317691926478,189.78682308073522],[200.88690370215798,203.11309629784205],[195.85282232314876,192.14717767685121],[205.58539740586426,206.41460259413577],[203.06886564105358,199.9311343589464],[192.02424879142615,194.9757512085738],[179.31200007568697,174.68799992431306],[204.7039715447302,200.29602845526986],[183.80467874454894,179.19532125545106],[155.3517,150.6483]],\"ys\":[[66.45620829307533,63.543791706924665],[83.26293487223596,84.73706512776401],[46.62784348890318,43.372156511096804],[76.83545683297443,79.16454316702556],[66.53172720483855,61.46827279516147],[91.41731884277647,89.58268115722356],[103.13631192488276,105.86368807511724],[103.0219045353673,105.9780954646327],[13.85329846158043,9.146701538419578],[55.694920196948075,59.305079803051925],[-7.999999999999998,-7.999999999999998],[13.077964753587104,16.92203524641289],[35.11682942633026,40.883170573669744],[63.92407479254794,58.07592520745206],[88.65553943567308,92.34446056432695],[95.92042236668642,100.07957763331359],[96.05538719995533,99.9446128000447],[11.98392838837291,18.016071611627098],[59.05869010117662,64.94130989882336],[89.14483950359659,92.85516049640341],[88.20302437379587,90.79697562620413],[98.9269870293212,103.07301297067883],[97.93113435894641,101.0688656410536],[96.360276434918,99.63972356508202],[94.6146666540522,95.38533334594783],[105.23465718157672,103.76534281842328],[100.41903249900889,99.58096750099111],[112.00000000000001,112.00000000000001]]},\"selected\":{\"id\":\"1076\"},\"selection_policy\":{\"id\":\"1075\"}},\"id\":\"1051\",\"type\":\"ColumnDataSource\"},{\"attributes\":{\"data\":{\"fill_color\":[\"#5e92f3\",\"#5e92f3\",\"#5e92f3\",\"#5e92f3\",\"#5e92f3\",\"#5e92f3\",\"#5e92f3\",\"#5e92f3\",\"#5e92f3\",\"#5e92f3\",\"#5e92f3\",\"#5e92f3\",\"#5e92f3\",\"#5e92f3\",\"#5e92f3\",\"#5e92f3\"],\"line_color\":[\"#003c8f\",\"#003c8f\",\"#003c8f\",\"#003c8f\",\"#003c8f\",\"#003c8f\",\"#003c8f\",\"#003c8f\",\"#003c8f\",\"#003c8f\",\"#003c8f\",\"#003c8f\",\"#003c8f\",\"#003c8f\",\"#003c8f\",\"#003c8f\"],\"line_width\":[3,3,3,3,3,3,3,3,3,3,3,3,3,3,3,3],\"x\":[6,20,72,111,194,178,199,205,207,198,165,157,162,144,127,189],\"y\":[71,59,31,-8,-8,38,86,96,106,103,97,84,112,112,97,93]},\"selected\":{\"id\":\"1072\"},\"selection_policy\":{\"id\":\"1071\"}},\"id\":\"1038\",\"type\":\"ColumnDataSource\"},{\"attributes\":{\"source\":{\"id\":\"1056\"},\"text_align\":\"center\",\"text_baseline\":\"middle\",\"text_color\":{\"value\":\"black\"},\"text_font_size\":{\"value\":\"13px\"},\"x\":{\"field\":\"x\"},\"y\":{\"field\":\"y\"}},\"id\":\"1057\",\"type\":\"LabelSet\"},{\"attributes\":{},\"id\":\"1011\",\"type\":\"LinearScale\"},{\"attributes\":{\"data\":{\"text\":[4,24,12,19,20,8,10,6,10,25,14,18,18,14,4,8,8,12,14,3,3,1,2,4,6,2,6,4],\"x\":{\"__ndarray__\":\"AgAAAAAAKkAAAAAAAKBQQAEAAAAAAEdAAgAAAABgUkACAAAAAOBYQP//////v2FAAAAAAAAQYkAAAAAAAPBgQAAAAAAA4FZAAAAAAACgXED//////w9jQAAAAAAAEGJAAAAAAADAYEAAAAAAAPBkQAAAAAAAIGRAAAAAAADwY0AAAAAAANBiQAEAAAAAQGdAAAAAAACQZ0AAAAAAAEBpQAAAAAAAQGhAAQAAAADAaUAAAAAAADBpQP//////L2hAAAAAAAAgZkABAAAAAFBpQAAAAAAAsGZAAAAAAAAgY0A=\",\"dtype\":\"float64\",\"order\":\"little\",\"shape\":[28]},\"y\":{\"__ndarray__\":\"AAAAAABAUED///////9UQAAAAAAAgEZA//////9/U0AAAAAAAABQQAEAAAAAoFZAAAAAAAAgWkAAAAAAACBaQAAAAAAAACdAAAAAAADATED+//////8fwAAAAAAAAC5AAAAAAAAAQ0ACAAAAAIBOQAEAAAAAoFZAAQAAAACAWEABAAAAAIBYQAAAAAAAAC5AAAAAAAAAT0AAAAAAAMBWQAAAAAAAYFZAAAAAAABAWUABAAAAAOBYQAEAAAAAgFhAAQAAAADAV0AAAAAAACBaQAAAAAAAAFlAAQAAAAAAXEA=\",\"dtype\":\"float64\",\"order\":\"little\",\"shape\":[28]}},\"selected\":{\"id\":\"1069\"},\"selection_policy\":{\"id\":\"1068\"}},\"id\":\"1056\",\"type\":\"ColumnDataSource\"},{\"attributes\":{\"formatter\":{\"id\":\"1066\"},\"ticker\":{\"id\":\"1014\"},\"visible\":false},\"id\":\"1013\",\"type\":\"LinearAxis\"},{\"attributes\":{\"line_color\":{\"value\":\"white\"},\"line_width\":{\"value\":6},\"xs\":{\"field\":\"xs\"},\"ys\":{\"field\":\"ys\"}},\"id\":\"1053\",\"type\":\"MultiLine\"},{\"attributes\":{\"data\":{\"line_color\":[\"#DFDFDF\",\"#DFDFDF\",\"#DFDFDF\",\"#DFDFDF\",\"#DFDFDF\",\"#DFDFDF\",\"#DFDFDF\",\"#DFDFDF\",\"#DFDFDF\",\"#DFDFDF\",\"#DFDFDF\",\"#DFDFDF\",\"#DFDFDF\",\"#DFDFDF\",\"#DFDFDF\",\"#DFDFDF\",\"#DFDFDF\",\"#DFDFDF\",\"#DFDFDF\",\"#DFDFDF\",\"#DFDFDF\",\"#DFDFDF\",\"#DFDFDF\",\"#DFDFDF\",\"#DFDFDF\",\"#DFDFDF\",\"#DFDFDF\",\"#DFDFDF\"],\"u\":[0,0,1,1,14,14,14,14,2,2,3,3,3,11,11,11,11,4,5,6,6,7,7,15,15,8,9,12],\"v\":[1,14,2,14,2,11,12,13,3,11,4,5,11,5,10,12,13,5,6,7,15,8,9,9,10,9,10,13],\"weight\":[4,24,12,19,20,8,10,6,10,25,14,18,18,14,4,8,8,12,14,3,3,1,2,4,6,2,6,4],\"xs\":[[6,20],[6,127],[20,72],[20,127],[127,72],[127,157],[127,162],[127,144],[72,111],[72,157],[111,194],[111,178],[111,157],[157,178],[157,165],[157,162],[157,144],[194,178],[178,199],[199,205],[199,189],[205,207],[205,198],[189,198],[189,165],[207,198],[198,165],[162,144]],\"ys\":[[71,59],[71,97],[59,31],[59,97],[97,31],[97,84],[97,112],[97,112],[31,-8],[31,84],[-8,-8],[-8,38],[-8,84],[84,38],[84,97],[84,112],[84,112],[-8,38],[38,86],[86,96],[86,93],[96,106],[96,103],[93,103],[93,97],[106,103],[103,97],[112,112]]},\"selected\":{\"id\":\"1074\"},\"selection_policy\":{\"id\":\"1073\"}},\"id\":\"1044\",\"type\":\"ColumnDataSource\"},{\"attributes\":{\"source\":{\"id\":\"1051\"}},\"id\":\"1055\",\"type\":\"CDSView\"},{\"attributes\":{},\"id\":\"1014\",\"type\":\"BasicTicker\"},{\"attributes\":{\"data_source\":{\"id\":\"1051\"},\"glyph\":{\"id\":\"1052\"},\"hover_glyph\":null,\"level\":\"guide\",\"muted_glyph\":null,\"nonselection_glyph\":{\"id\":\"1053\"},\"selection_glyph\":null,\"view\":{\"id\":\"1055\"}},\"id\":\"1054\",\"type\":\"GlyphRenderer\"},{\"attributes\":{\"axis\":{\"id\":\"1013\"},\"grid_line_color\":null,\"ticker\":null},\"id\":\"1016\",\"type\":\"Grid\"},{\"attributes\":{\"line_color\":{\"value\":\"white\"},\"line_width\":{\"value\":6},\"xs\":{\"field\":\"xs\"},\"ys\":{\"field\":\"ys\"}},\"id\":\"1052\",\"type\":\"MultiLine\"},{\"attributes\":{\"formatter\":{\"id\":\"1064\"},\"ticker\":{\"id\":\"1018\"},\"visible\":false},\"id\":\"1017\",\"type\":\"LinearAxis\"},{\"attributes\":{\"end\":224.085,\"start\":-11.085},\"id\":\"1005\",\"type\":\"Range1d\"},{\"attributes\":{},\"id\":\"1018\",\"type\":\"BasicTicker\"},{\"attributes\":{\"axis\":{\"id\":\"1017\"},\"dimension\":1,\"grid_line_color\":null,\"ticker\":null},\"id\":\"1020\",\"type\":\"Grid\"},{\"attributes\":{\"children\":[{\"id\":\"1059\"}]},\"id\":\"1062\",\"type\":\"Row\"},{\"attributes\":{\"background_fill_color\":null,\"below\":[{\"id\":\"1013\"}],\"border_fill_color\":null,\"center\":[{\"id\":\"1016\"},{\"id\":\"1020\"},{\"id\":\"1057\"}],\"left\":[{\"id\":\"1017\"}],\"outline_line_color\":null,\"plot_height\":400,\"renderers\":[{\"id\":\"1042\"},{\"id\":\"1049\"},{\"id\":\"1054\"}],\"title\":{\"id\":\"1003\"},\"toolbar\":{\"id\":\"1028\"},\"toolbar_location\":null,\"x_range\":{\"id\":\"1005\"},\"x_scale\":{\"id\":\"1009\"},\"y_range\":{\"id\":\"1007\"},\"y_scale\":{\"id\":\"1011\"}},\"id\":\"1002\",\"subtype\":\"Figure\",\"type\":\"Plot\"},{\"attributes\":{\"callback\":null,\"renderers\":[{\"id\":\"1042\"}],\"tooltips\":[[\"Index\",\"$index\"],[\"Name\",\"@name\"]]},\"id\":\"1060\",\"type\":\"HoverTool\"},{\"attributes\":{\"bottom_units\":\"screen\",\"fill_alpha\":0.5,\"fill_color\":\"lightgrey\",\"left_units\":\"screen\",\"level\":\"overlay\",\"line_alpha\":1.0,\"line_color\":\"black\",\"line_dash\":[4,4],\"line_width\":2,\"right_units\":\"screen\",\"top_units\":\"screen\"},\"id\":\"1027\",\"type\":\"BoxAnnotation\"},{\"attributes\":{\"align\":\"center\",\"width\":300},\"id\":\"1059\",\"type\":\"Div\"}],\"root_ids\":[\"1078\"]},\"title\":\"Bokeh Application\",\"version\":\"2.2.3\"}};\n",
       "  var render_items = [{\"docid\":\"8d638e84-d785-4892-97e6-3f845da6f955\",\"root_ids\":[\"1078\"],\"roots\":{\"1078\":\"1bf6352c-1e5b-4a5e-b387-091f319e1f5e\"}}];\n",
       "  root.Bokeh.embed.embed_items_notebook(docs_json, render_items);\n",
       "\n",
       "  }\n",
       "  if (root.Bokeh !== undefined) {\n",
       "    embed_document(root);\n",
       "  } else {\n",
       "    var attempts = 0;\n",
       "    var timer = setInterval(function(root) {\n",
       "      if (root.Bokeh !== undefined) {\n",
       "        clearInterval(timer);\n",
       "        embed_document(root);\n",
       "      } else {\n",
       "        attempts++;\n",
       "        if (attempts > 100) {\n",
       "          clearInterval(timer);\n",
       "          console.log(\"Bokeh: ERROR: Unable to run BokehJS code because BokehJS library is missing\");\n",
       "        }\n",
       "      }\n",
       "    }, 10, root)\n",
       "  }\n",
       "})(window);"
      ],
      "application/vnd.bokehjs_exec.v0+json": ""
     },
     "metadata": {
      "application/vnd.bokehjs_exec.v0+json": {
       "id": "1078"
      }
     },
     "output_type": "display_data"
    }
   ],
   "source": [
    "# Load the data and create a graph G\n",
    "nodes = pd.read_csv('data/fiber_optic_nodes.csv', index_col=0)\n",
    "edges = pd.read_csv('data/fiber_optic_edges.csv', index_col=0)\n",
    "G = vl.create_network(nodes, edges)\n",
    "\n",
    "# Plot the graph G\n",
    "show(vl.tree_plot(G, tree=[], width=600))"
   ]
  },
  {
   "cell_type": "markdown",
   "metadata": {},
   "source": [
    "How do you suppose you would go about designing such a system? Since you can only use the edges shown in the graph, you must choose a subgraph of the given graph, or in other words, a subset of the possible edges. Every location must be serviced which means that the subgraph must be spanning. You should be able to get to any location from any other location. This means the subgraph should be connected. Because you are trying to minimize cost, the subgraph should also be minimal, meaning that you cannot remove any of the edges while maintaining the other necessary properties. A minimal connected spanning subgraph is called a spanning tree. There are many other ways of defining trees. In operations research terminology, we want to find a minimum spanning tree of the given graph."
   ]
  },
  {
   "cell_type": "code",
   "execution_count": 3,
   "metadata": {},
   "outputs": [
    {
     "data": {
      "text/html": [
       "\n",
       "\n",
       "\n",
       "\n",
       "\n",
       "\n",
       "  <div class=\"bk-root\" id=\"f5f3e2a8-0e65-4490-9d60-3ade09800929\" data-root-id=\"1246\"></div>\n"
      ]
     },
     "metadata": {},
     "output_type": "display_data"
    },
    {
     "data": {
      "application/javascript": [
       "(function(root) {\n",
       "  function embed_document(root) {\n",
       "    \n",
       "  var docs_json = {\"5bdec49a-56d2-41c5-9c18-83d611129060\":{\"roots\":{\"references\":[{\"attributes\":{\"children\":[[{\"id\":\"1163\"},0,0],[{\"id\":\"1228\"},1,0]]},\"id\":\"1246\",\"type\":\"GridBox\"},{\"attributes\":{},\"id\":\"1237\",\"type\":\"UnionRenderers\"},{\"attributes\":{\"source\":{\"id\":\"1205\"}},\"id\":\"1211\",\"type\":\"CDSView\"},{\"attributes\":{},\"id\":\"1238\",\"type\":\"Selection\"},{\"attributes\":{\"data\":{\"xs\":[[11.867393549830293,14.1326064501697],[64.2132081933475,68.78679180665253],[43.98457472802465,48.01542527197538],[71.31392773909235,75.68607226090765],[100.9065151137992,98.09348488620083],[140.5887402418824,143.4112597581176],[142.37870743870653,146.62129256129347],[134.3832167600553,136.6167832399447],[89.9311343589464,93.06886564105363],[112.57004046214576,116.42995953785424],[150.1483,154.85170000000002],[142.6336759201498,146.3663240798502],[133.03894314211007,134.96105685788993],[166.61006419357236,168.38993580642764],[160.24329823001975,161.75670176998028],[159.25243123412935,159.74756876587068],[151.1019039619186,149.89809603808138],[186.69937892443528,185.30062107556475],[187.6421179461765,189.35788205382346],[201.25793580143863,202.74206419856134],[195.23521488209917,192.7647851179008],[205.72359827057616,206.2764017294238],[202.54591042736908,200.45408957263095],[192.51616586095076,194.4838341390492],[178.54133338379128,175.4586666162087],[203.96931436315347,201.03068563684658],[183.03645249636594,179.96354750363403],[154.5678,151.4322]],\"ys\":[[65.9708055287169,64.02919447128312],[83.50862324815732,84.4913767518427],[46.085228992602126,43.914771007397874],[77.22363788864963,78.77636211135038],[65.68781813655903,62.31218186344098],[91.11154589518429,89.88845410481571],[103.59087461658854,105.40912538341149],[103.51460302357822,105.48539697642181],[13.06886564105362,9.93113435894638],[56.296613464632046,58.703386535367954],[-7.999999999999998,-7.999999999999998],[13.718643169058069,16.281356830941924],[36.07788628422017,39.922113715779815],[62.949383195031956,59.05061680496806],[89.27035962378204,91.72964037621796],[96.61361491112429,99.38638508887571],[96.70359146663688,99.29640853336312],[12.989285592248606,17.010714407751394],[60.03912673411776,63.960873265882256],[89.76322633573106,92.23677366426892],[88.63534958253058,90.36465041746942],[99.61799135288078,102.38200864711922],[98.45408957263092,100.54591042736905],[96.90685095661199,99.09314904338801],[94.74311110270146,95.25688889729855],[104.98977145438448,104.01022854561555],[100.27935499933926,99.72064500066074],[112.00000000000001,112.00000000000001]]},\"selected\":{\"id\":\"1242\"},\"selection_policy\":{\"id\":\"1241\"}},\"id\":\"1212\",\"type\":\"ColumnDataSource\"},{\"attributes\":{\"line_cap\":\"round\",\"line_color\":{\"field\":\"line_color\"},\"line_width\":{\"value\":5},\"xs\":{\"field\":\"xs\"},\"ys\":{\"field\":\"ys\"}},\"id\":\"1208\",\"type\":\"MultiLine\"},{\"attributes\":{},\"id\":\"1239\",\"type\":\"UnionRenderers\"},{\"attributes\":{\"data\":{\"text\":[4,24,12,19,20,8,10,6,10,25,14,18,18,14,4,8,8,12,14,3,3,1,2,4,6,2,6,4],\"x\":{\"__ndarray__\":\"/v//////KUAAAAAAAKBQQAEAAAAAAEdAAAAAAABgUkAAAAAAAOBYQAAAAAAAwGFAAAAAAAAQYkAAAAAAAPBgQAAAAAAA4FZAAAAAAACgXEABAAAAABBjQAAAAAAAEGJAAAAAAADAYEAAAAAAAPBkQAAAAAAAIGRAAAAAAADwY0D//////89iQAAAAAAAQGdAAAAAAACQZ0D//////z9pQAAAAAAAQGhAAAAAAADAaUAAAAAAADBpQAAAAAAAMGhA//////8fZkABAAAAAFBpQAAAAAAAsGZAAAAAAAAgY0A=\",\"dtype\":\"float64\",\"order\":\"little\",\"shape\":[28]},\"y\":{\"__ndarray__\":\"AAAAAABAUEAAAAAAAABVQAAAAAAAgEZAAAAAAACAU0AAAAAAAABQQAAAAAAAoFZAAAAAAAAgWkAAAAAAACBaQAAAAAAAACdAAAAAAADATED+//////8fwAAAAAAAAC5AAAAAAAAAQ0ACAAAAAIBOQAAAAAAAoFZAAAAAAACAWEAAAAAAAIBYQAAAAAAAAC5AAgAAAAAAT0AAAAAAAMBWQAAAAAAAYFZAAAAAAABAWUD//////99YQAAAAAAAgFhAAAAAAADAV0AAAAAAACBaQAAAAAAAAFlAAQAAAAAAXEA=\",\"dtype\":\"float64\",\"order\":\"little\",\"shape\":[28]}},\"selected\":{\"id\":\"1235\"},\"selection_policy\":{\"id\":\"1234\"}},\"id\":\"1217\",\"type\":\"ColumnDataSource\"},{\"attributes\":{\"line_color\":{\"value\":\"white\"},\"line_width\":{\"value\":6},\"xs\":{\"field\":\"xs\"},\"ys\":{\"field\":\"ys\"}},\"id\":\"1214\",\"type\":\"MultiLine\"},{\"attributes\":{},\"id\":\"1179\",\"type\":\"BasicTicker\"},{\"attributes\":{},\"id\":\"1240\",\"type\":\"Selection\"},{\"attributes\":{\"source\":{\"id\":\"1212\"}},\"id\":\"1216\",\"type\":\"CDSView\"},{\"attributes\":{\"bottom_units\":\"screen\",\"fill_alpha\":0.5,\"fill_color\":\"lightgrey\",\"left_units\":\"screen\",\"level\":\"overlay\",\"line_alpha\":1.0,\"line_color\":\"black\",\"line_dash\":[4,4],\"line_width\":2,\"right_units\":\"screen\",\"top_units\":\"screen\"},\"id\":\"1188\",\"type\":\"BoxAnnotation\"},{\"attributes\":{\"data\":{\"line_color\":[\"#DFDFDF\",\"#DFDFDF\",\"#DFDFDF\",\"#DFDFDF\",\"#DFDFDF\",\"#DFDFDF\",\"#DFDFDF\",\"#DFDFDF\",\"#DFDFDF\",\"#DFDFDF\",\"#DFDFDF\",\"#DFDFDF\",\"#DFDFDF\",\"#DFDFDF\",\"#DFDFDF\",\"#DFDFDF\",\"#DFDFDF\",\"#DFDFDF\",\"#DFDFDF\",\"#DFDFDF\",\"#DFDFDF\",\"#DFDFDF\",\"#DFDFDF\",\"#DFDFDF\",\"#DFDFDF\",\"#DFDFDF\",\"#DFDFDF\",\"#DFDFDF\"],\"u\":[0,0,1,1,14,14,14,14,2,2,3,3,3,11,11,11,11,4,5,6,6,7,7,15,15,8,9,12],\"v\":[1,14,2,14,2,11,12,13,3,11,4,5,11,5,10,12,13,5,6,7,15,8,9,9,10,9,10,13],\"weight\":[4,24,12,19,20,8,10,6,10,25,14,18,18,14,4,8,8,12,14,3,3,1,2,4,6,2,6,4],\"xs\":[[6,20],[6,127],[20,72],[20,127],[127,72],[127,157],[127,162],[127,144],[72,111],[72,157],[111,194],[111,178],[111,157],[157,178],[157,165],[157,162],[157,144],[194,178],[178,199],[199,205],[199,189],[205,207],[205,198],[189,198],[189,165],[207,198],[198,165],[162,144]],\"ys\":[[71,59],[71,97],[59,31],[59,97],[97,31],[97,84],[97,112],[97,112],[31,-8],[31,84],[-8,-8],[-8,38],[-8,84],[84,38],[84,97],[84,112],[84,112],[-8,38],[38,86],[86,96],[86,93],[96,106],[96,103],[93,103],[93,97],[106,103],[103,97],[112,112]]},\"selected\":{\"id\":\"1240\"},\"selection_policy\":{\"id\":\"1239\"}},\"id\":\"1205\",\"type\":\"ColumnDataSource\"},{\"attributes\":{},\"id\":\"1241\",\"type\":\"UnionRenderers\"},{\"attributes\":{},\"id\":\"1182\",\"type\":\"PanTool\"},{\"attributes\":{\"data_source\":{\"id\":\"1220\"},\"glyph\":{\"id\":\"1221\"},\"hover_glyph\":null,\"level\":\"underlay\",\"muted_glyph\":null,\"nonselection_glyph\":{\"id\":\"1222\"},\"selection_glyph\":null,\"view\":{\"id\":\"1224\"}},\"id\":\"1223\",\"type\":\"GlyphRenderer\"},{\"attributes\":{},\"id\":\"1175\",\"type\":\"BasicTicker\"},{\"attributes\":{\"data_source\":{\"id\":\"1212\"},\"glyph\":{\"id\":\"1213\"},\"hover_glyph\":null,\"level\":\"guide\",\"muted_glyph\":null,\"nonselection_glyph\":{\"id\":\"1214\"},\"selection_glyph\":null,\"view\":{\"id\":\"1216\"}},\"id\":\"1215\",\"type\":\"GlyphRenderer\"},{\"attributes\":{\"line_cap\":\"round\",\"line_color\":{\"value\":\"#404040\"},\"line_width\":{\"value\":5},\"xs\":{\"field\":\"xs\"},\"ys\":{\"field\":\"ys\"}},\"id\":\"1221\",\"type\":\"MultiLine\"},{\"attributes\":{},\"id\":\"1242\",\"type\":\"Selection\"},{\"attributes\":{},\"id\":\"1186\",\"type\":\"ResetTool\"},{\"attributes\":{\"line_color\":{\"value\":\"white\"},\"line_width\":{\"value\":6},\"xs\":{\"field\":\"xs\"},\"ys\":{\"field\":\"ys\"}},\"id\":\"1213\",\"type\":\"MultiLine\"},{\"attributes\":{\"source\":{\"id\":\"1217\"},\"text_align\":\"center\",\"text_baseline\":\"middle\",\"text_color\":{\"value\":\"black\"},\"text_font_size\":{\"value\":\"13px\"},\"x\":{\"field\":\"x\"},\"y\":{\"field\":\"y\"}},\"id\":\"1218\",\"type\":\"LabelSet\"},{\"attributes\":{\"line_cap\":\"round\",\"line_color\":{\"field\":\"line_color\"},\"line_width\":{\"value\":5},\"xs\":{\"field\":\"xs\"},\"ys\":{\"field\":\"ys\"}},\"id\":\"1207\",\"type\":\"MultiLine\"},{\"attributes\":{\"source\":{\"id\":\"1220\"}},\"id\":\"1224\",\"type\":\"CDSView\"},{\"attributes\":{\"text\":\"\"},\"id\":\"1164\",\"type\":\"Title\"},{\"attributes\":{\"axis\":{\"id\":\"1174\"},\"grid_line_color\":null,\"ticker\":null},\"id\":\"1177\",\"type\":\"Grid\"},{\"attributes\":{},\"id\":\"1185\",\"type\":\"SaveTool\"},{\"attributes\":{\"axis\":{\"id\":\"1178\"},\"dimension\":1,\"grid_line_color\":null,\"ticker\":null},\"id\":\"1181\",\"type\":\"Grid\"},{\"attributes\":{},\"id\":\"1172\",\"type\":\"LinearScale\"},{\"attributes\":{},\"id\":\"1244\",\"type\":\"Selection\"},{\"attributes\":{\"fill_color\":{\"field\":\"fill_color\"},\"line_color\":{\"field\":\"line_color\"},\"line_width\":{\"field\":\"line_width\"},\"size\":{\"units\":\"screen\",\"value\":11},\"x\":{\"field\":\"x\"},\"y\":{\"field\":\"y\"}},\"id\":\"1202\",\"type\":\"Circle\"},{\"attributes\":{\"align\":\"center\",\"text\":\"137.0\",\"width\":450},\"id\":\"1225\",\"type\":\"Div\"},{\"attributes\":{},\"id\":\"1243\",\"type\":\"UnionRenderers\"},{\"attributes\":{\"callback\":null,\"renderers\":[{\"id\":\"1203\"}],\"tooltips\":[[\"Index\",\"$index\"],[\"Name\",\"@name\"]]},\"id\":\"1226\",\"type\":\"HoverTool\"},{\"attributes\":{\"line_alpha\":{\"value\":0.1},\"line_cap\":\"round\",\"line_color\":{\"value\":\"#404040\"},\"line_width\":{\"value\":5},\"xs\":{\"field\":\"xs\"},\"ys\":{\"field\":\"ys\"}},\"id\":\"1222\",\"type\":\"MultiLine\"},{\"attributes\":{\"background_fill_color\":null,\"below\":[{\"id\":\"1174\"}],\"border_fill_color\":null,\"center\":[{\"id\":\"1177\"},{\"id\":\"1181\"},{\"id\":\"1218\"}],\"left\":[{\"id\":\"1178\"}],\"outline_line_color\":null,\"plot_width\":900,\"renderers\":[{\"id\":\"1203\"},{\"id\":\"1210\"},{\"id\":\"1215\"},{\"id\":\"1223\"}],\"title\":{\"id\":\"1164\"},\"toolbar\":{\"id\":\"1189\"},\"toolbar_location\":null,\"x_range\":{\"id\":\"1166\"},\"x_scale\":{\"id\":\"1170\"},\"y_range\":{\"id\":\"1168\"},\"y_scale\":{\"id\":\"1172\"}},\"id\":\"1163\",\"subtype\":\"Figure\",\"type\":\"Plot\"},{\"attributes\":{},\"id\":\"1183\",\"type\":\"WheelZoomTool\"},{\"attributes\":{\"children\":[{\"id\":\"1225\"}]},\"id\":\"1228\",\"type\":\"Row\"},{\"attributes\":{\"formatter\":{\"id\":\"1232\"},\"ticker\":{\"id\":\"1175\"},\"visible\":false},\"id\":\"1174\",\"type\":\"LinearAxis\"},{\"attributes\":{},\"id\":\"1187\",\"type\":\"HelpTool\"},{\"attributes\":{\"source\":{\"id\":\"1199\"}},\"id\":\"1204\",\"type\":\"CDSView\"},{\"attributes\":{\"data_source\":{\"id\":\"1199\"},\"glyph\":{\"id\":\"1201\"},\"hover_glyph\":null,\"muted_glyph\":null,\"nonselection_glyph\":{\"id\":\"1202\"},\"selection_glyph\":null,\"view\":{\"id\":\"1204\"}},\"id\":\"1203\",\"type\":\"GlyphRenderer\"},{\"attributes\":{\"active_drag\":null,\"active_inspect\":\"auto\",\"active_multi\":null,\"active_scroll\":null,\"active_tap\":\"auto\",\"logo\":null,\"tools\":[{\"id\":\"1182\"},{\"id\":\"1183\"},{\"id\":\"1184\"},{\"id\":\"1185\"},{\"id\":\"1186\"},{\"id\":\"1187\"},{\"id\":\"1226\"}]},\"id\":\"1189\",\"type\":\"Toolbar\"},{\"attributes\":{\"data\":{\"xs\":[[6,127],[6,20],[20,72],[72,111],[111,178],[194,178],[157,178],[178,199],[199,189],[198,165],[205,198],[205,207],[199,205],[127,162],[162,144]],\"ys\":[[71,97],[71,59],[59,31],[31,-8],[-8,38],[-8,38],[84,38],[38,86],[86,93],[103,97],[96,103],[96,106],[86,96],[97,112],[112,112]]},\"selected\":{\"id\":\"1244\"},\"selection_policy\":{\"id\":\"1243\"}},\"id\":\"1220\",\"type\":\"ColumnDataSource\"},{\"attributes\":{},\"id\":\"1230\",\"type\":\"BasicTickFormatter\"},{\"attributes\":{\"end\":224.085,\"start\":-11.085},\"id\":\"1166\",\"type\":\"Range1d\"},{\"attributes\":{\"formatter\":{\"id\":\"1230\"},\"ticker\":{\"id\":\"1179\"},\"visible\":false},\"id\":\"1178\",\"type\":\"LinearAxis\"},{\"attributes\":{\"fill_color\":{\"field\":\"fill_color\"},\"line_color\":{\"field\":\"line_color\"},\"line_width\":{\"field\":\"line_width\"},\"size\":{\"units\":\"screen\",\"value\":11},\"x\":{\"field\":\"x\"},\"y\":{\"field\":\"y\"}},\"id\":\"1201\",\"type\":\"Circle\"},{\"attributes\":{\"overlay\":{\"id\":\"1188\"}},\"id\":\"1184\",\"type\":\"BoxZoomTool\"},{\"attributes\":{},\"id\":\"1232\",\"type\":\"BasicTickFormatter\"},{\"attributes\":{\"end\":122.2,\"start\":-18.200000000000003},\"id\":\"1168\",\"type\":\"Range1d\"},{\"attributes\":{\"line_cap\":\"round\",\"line_color\":{\"value\":\"#404040\"},\"line_width\":{\"value\":5},\"xs\":{\"field\":\"xs\"},\"ys\":{\"field\":\"ys\"}},\"id\":\"1209\",\"type\":\"MultiLine\"},{\"attributes\":{\"data\":{\"fill_color\":[\"#5e92f3\",\"#5e92f3\",\"#5e92f3\",\"#5e92f3\",\"#5e92f3\",\"#5e92f3\",\"#5e92f3\",\"#5e92f3\",\"#5e92f3\",\"#5e92f3\",\"#5e92f3\",\"#5e92f3\",\"#5e92f3\",\"#5e92f3\",\"#5e92f3\",\"#5e92f3\"],\"line_color\":[\"#003c8f\",\"#003c8f\",\"#003c8f\",\"#003c8f\",\"#003c8f\",\"#003c8f\",\"#003c8f\",\"#003c8f\",\"#003c8f\",\"#003c8f\",\"#003c8f\",\"#003c8f\",\"#003c8f\",\"#003c8f\",\"#003c8f\",\"#003c8f\"],\"line_width\":[3,3,3,3,3,3,3,3,3,3,3,3,3,3,3,3],\"x\":[6,20,72,111,194,178,199,205,207,198,165,157,162,144,127,189],\"y\":[71,59,31,-8,-8,38,86,96,106,103,97,84,112,112,97,93]},\"selected\":{\"id\":\"1238\"},\"selection_policy\":{\"id\":\"1237\"}},\"id\":\"1199\",\"type\":\"ColumnDataSource\"},{\"attributes\":{},\"id\":\"1234\",\"type\":\"UnionRenderers\"},{\"attributes\":{\"data_source\":{\"id\":\"1205\"},\"glyph\":{\"id\":\"1207\"},\"hover_glyph\":{\"id\":\"1209\"},\"level\":\"underlay\",\"muted_glyph\":null,\"nonselection_glyph\":{\"id\":\"1208\"},\"selection_glyph\":null,\"view\":{\"id\":\"1211\"}},\"id\":\"1210\",\"type\":\"GlyphRenderer\"},{\"attributes\":{},\"id\":\"1170\",\"type\":\"LinearScale\"},{\"attributes\":{},\"id\":\"1235\",\"type\":\"Selection\"}],\"root_ids\":[\"1246\"]},\"title\":\"Bokeh Application\",\"version\":\"2.2.3\"}};\n",
       "  var render_items = [{\"docid\":\"5bdec49a-56d2-41c5-9c18-83d611129060\",\"root_ids\":[\"1246\"],\"roots\":{\"1246\":\"f5f3e2a8-0e65-4490-9d60-3ade09800929\"}}];\n",
       "  root.Bokeh.embed.embed_items_notebook(docs_json, render_items);\n",
       "\n",
       "  }\n",
       "  if (root.Bokeh !== undefined) {\n",
       "    embed_document(root);\n",
       "  } else {\n",
       "    var attempts = 0;\n",
       "    var timer = setInterval(function(root) {\n",
       "      if (root.Bokeh !== undefined) {\n",
       "        clearInterval(timer);\n",
       "        embed_document(root);\n",
       "      } else {\n",
       "        attempts++;\n",
       "        if (attempts > 100) {\n",
       "          clearInterval(timer);\n",
       "          console.log(\"Bokeh: ERROR: Unable to run BokehJS code because BokehJS library is missing\");\n",
       "        }\n",
       "      }\n",
       "    }, 10, root)\n",
       "  }\n",
       "})(window);"
      ],
      "application/vnd.bokehjs_exec.v0+json": ""
     },
     "metadata": {
      "application/vnd.bokehjs_exec.v0+json": {
       "id": "1246"
      }
     },
     "output_type": "display_data"
    }
   ],
   "source": [
    "tree = [(0,14),(0,1),(1,2),(2,3),(3,5),(4,5),(11,5),(5,6),\n",
    "        (6,15),(9,10),(7,9),(7,8),(6,7),(14,12),(12,13)]\n",
    "show(vl.tree_plot(G, tree=tree, show_cost=True, width=900, height=600))"
   ]
  },
  {
   "cell_type": "markdown",
   "metadata": {},
   "source": [
    "**Q1:** An example of a spanning tree is indicated above using thick edges. Do you think that this is the best possible? Can you briefly give a convincing argument why or why not?\n",
    "\n",
    "**A:** <font color='blue'> No, you could use edge (3,4) instead of (3,5) and have a cheaper spanning tree. </font>"
   ]
  },
  {
   "cell_type": "markdown",
   "metadata": {},
   "source": [
    "## Part II: Minimum Spanning Tree Algorithms\n",
    "\n",
    "In this section we will investigate three different algorithms for solving the Minimum Spanning Tree Problem. First you will try the algorithm that you have seen on lecture: Prim’s algorithm. This algorithm works as\n",
    "follows:\n",
    "\n",
    "1. Choose any node from which to begin, say node 1, and start the tree with the cheapest edge from node 1 to one of the other nodes in the graph.\n",
    "2. At each subsequent step, add the cheapest edge that maintains\n",
    "connectivity of the current tree and adds a new node. In other words,\n",
    "add the cheapest edge that connects a new node to those already\n",
    "connected.\n",
    "3.  Continue to do this until all nodes are connected."
   ]
  },
  {
   "cell_type": "code",
   "execution_count": 4,
   "metadata": {},
   "outputs": [
    {
     "data": {
      "text/html": [
       "\n",
       "\n",
       "\n",
       "\n",
       "\n",
       "\n",
       "  <div class=\"bk-root\" id=\"b1a5a52a-6a2f-4f41-83c8-b0bb3f85353f\" data-root-id=\"1433\"></div>\n"
      ]
     },
     "metadata": {},
     "output_type": "display_data"
    },
    {
     "data": {
      "application/javascript": [
       "(function(root) {\n",
       "  function embed_document(root) {\n",
       "    \n",
       "  var docs_json = {\"893960f0-f380-4d57-9585-4f42088eb7f7\":{\"roots\":{\"references\":[{\"attributes\":{\"children\":[[{\"id\":\"1357\"},0,0],[{\"id\":\"1417\"},1,0]]},\"id\":\"1433\",\"type\":\"GridBox\"},{\"attributes\":{},\"id\":\"1377\",\"type\":\"WheelZoomTool\"},{\"attributes\":{\"source\":{\"id\":\"1411\"},\"text_align\":\"center\",\"text_baseline\":\"middle\",\"text_color\":{\"value\":\"black\"},\"text_font_size\":{\"value\":\"13px\"},\"x\":{\"field\":\"x\"},\"y\":{\"field\":\"y\"}},\"id\":\"1412\",\"type\":\"LabelSet\"},{\"attributes\":{\"formatter\":{\"id\":\"1419\"},\"ticker\":{\"id\":\"1373\"},\"visible\":false},\"id\":\"1372\",\"type\":\"LinearAxis\"},{\"attributes\":{},\"id\":\"1376\",\"type\":\"PanTool\"},{\"attributes\":{\"line_color\":{\"value\":\"white\"},\"line_width\":{\"value\":6},\"xs\":{\"field\":\"xs\"},\"ys\":{\"field\":\"ys\"}},\"id\":\"1407\",\"type\":\"MultiLine\"},{\"attributes\":{\"data_source\":{\"id\":\"1399\"},\"glyph\":{\"id\":\"1401\"},\"hover_glyph\":{\"id\":\"1403\"},\"level\":\"underlay\",\"muted_glyph\":null,\"nonselection_glyph\":{\"id\":\"1402\"},\"selection_glyph\":null,\"view\":{\"id\":\"1405\"}},\"id\":\"1404\",\"type\":\"GlyphRenderer\"},{\"attributes\":{},\"id\":\"1419\",\"type\":\"BasicTickFormatter\"},{\"attributes\":{\"line_color\":{\"value\":\"white\"},\"line_width\":{\"value\":6},\"xs\":{\"field\":\"xs\"},\"ys\":{\"field\":\"ys\"}},\"id\":\"1408\",\"type\":\"MultiLine\"},{\"attributes\":{},\"id\":\"1421\",\"type\":\"BasicTickFormatter\"},{\"attributes\":{},\"id\":\"1366\",\"type\":\"LinearScale\"},{\"attributes\":{},\"id\":\"1364\",\"type\":\"LinearScale\"},{\"attributes\":{},\"id\":\"1379\",\"type\":\"SaveTool\"},{\"attributes\":{},\"id\":\"1423\",\"type\":\"UnionRenderers\"},{\"attributes\":{\"background_fill_color\":null,\"below\":[{\"id\":\"1368\"}],\"border_fill_color\":null,\"center\":[{\"id\":\"1371\"},{\"id\":\"1375\"},{\"id\":\"1412\"}],\"left\":[{\"id\":\"1372\"}],\"outline_line_color\":null,\"plot_height\":400,\"renderers\":[{\"id\":\"1397\"},{\"id\":\"1404\"},{\"id\":\"1409\"}],\"title\":{\"id\":\"1358\"},\"toolbar\":{\"id\":\"1383\"},\"toolbar_location\":null,\"x_range\":{\"id\":\"1360\"},\"x_scale\":{\"id\":\"1364\"},\"y_range\":{\"id\":\"1362\"},\"y_scale\":{\"id\":\"1366\"}},\"id\":\"1357\",\"subtype\":\"Figure\",\"type\":\"Plot\"},{\"attributes\":{},\"id\":\"1424\",\"type\":\"Selection\"},{\"attributes\":{\"end\":122.2,\"start\":-18.200000000000003},\"id\":\"1362\",\"type\":\"Range1d\"},{\"attributes\":{\"line_cap\":\"round\",\"line_color\":{\"field\":\"line_color\"},\"line_width\":{\"value\":5},\"xs\":{\"field\":\"xs\"},\"ys\":{\"field\":\"ys\"}},\"id\":\"1402\",\"type\":\"MultiLine\"},{\"attributes\":{\"text\":\"\"},\"id\":\"1358\",\"type\":\"Title\"},{\"attributes\":{},\"id\":\"1426\",\"type\":\"UnionRenderers\"},{\"attributes\":{\"children\":[{\"id\":\"1414\"}]},\"id\":\"1417\",\"type\":\"Row\"},{\"attributes\":{},\"id\":\"1427\",\"type\":\"Selection\"},{\"attributes\":{},\"id\":\"1381\",\"type\":\"HelpTool\"},{\"attributes\":{\"end\":224.085,\"start\":-11.085},\"id\":\"1360\",\"type\":\"Range1d\"},{\"attributes\":{\"align\":\"center\",\"width\":300},\"id\":\"1414\",\"type\":\"Div\"},{\"attributes\":{},\"id\":\"1428\",\"type\":\"UnionRenderers\"},{\"attributes\":{\"line_cap\":\"round\",\"line_color\":{\"field\":\"line_color\"},\"line_width\":{\"value\":5},\"xs\":{\"field\":\"xs\"},\"ys\":{\"field\":\"ys\"}},\"id\":\"1401\",\"type\":\"MultiLine\"},{\"attributes\":{\"data\":{\"line_color\":[\"#DFDFDF\",\"#DFDFDF\",\"#DFDFDF\",\"#DFDFDF\",\"#DFDFDF\",\"#DFDFDF\",\"#DFDFDF\",\"#DFDFDF\",\"#DFDFDF\",\"#DFDFDF\",\"#DFDFDF\",\"#DFDFDF\",\"#DFDFDF\",\"#DFDFDF\",\"#DFDFDF\",\"#DFDFDF\",\"#DFDFDF\",\"#DFDFDF\",\"#DFDFDF\",\"#DFDFDF\",\"#DFDFDF\",\"#DFDFDF\",\"#DFDFDF\",\"#DFDFDF\",\"#DFDFDF\",\"#DFDFDF\",\"#DFDFDF\",\"#DFDFDF\"],\"u\":[0,0,1,1,14,14,14,14,2,2,3,3,3,11,11,11,11,4,5,6,6,7,7,15,15,8,9,12],\"v\":[1,14,2,14,2,11,12,13,3,11,4,5,11,5,10,12,13,5,6,7,15,8,9,9,10,9,10,13],\"weight\":[4,24,12,19,20,8,10,6,10,25,14,18,18,14,4,8,8,12,14,3,3,1,2,4,6,2,6,4],\"xs\":[[6,20],[6,127],[20,72],[20,127],[127,72],[127,157],[127,162],[127,144],[72,111],[72,157],[111,194],[111,178],[111,157],[157,178],[157,165],[157,162],[157,144],[194,178],[178,199],[199,205],[199,189],[205,207],[205,198],[189,198],[189,165],[207,198],[198,165],[162,144]],\"ys\":[[71,59],[71,97],[59,31],[59,97],[97,31],[97,84],[97,112],[97,112],[31,-8],[31,84],[-8,-8],[-8,38],[-8,84],[84,38],[84,97],[84,112],[84,112],[-8,38],[38,86],[86,96],[86,93],[96,106],[96,103],[93,103],[93,97],[106,103],[103,97],[112,112]]},\"selected\":{\"id\":\"1429\"},\"selection_policy\":{\"id\":\"1428\"}},\"id\":\"1399\",\"type\":\"ColumnDataSource\"},{\"attributes\":{},\"id\":\"1429\",\"type\":\"Selection\"},{\"attributes\":{},\"id\":\"1380\",\"type\":\"ResetTool\"},{\"attributes\":{},\"id\":\"1430\",\"type\":\"UnionRenderers\"},{\"attributes\":{\"fill_color\":{\"field\":\"fill_color\"},\"line_color\":{\"field\":\"line_color\"},\"line_width\":{\"field\":\"line_width\"},\"size\":{\"units\":\"screen\",\"value\":11},\"x\":{\"field\":\"x\"},\"y\":{\"field\":\"y\"}},\"id\":\"1395\",\"type\":\"Circle\"},{\"attributes\":{\"line_cap\":\"round\",\"line_color\":{\"value\":\"#404040\"},\"line_width\":{\"value\":5},\"xs\":{\"field\":\"xs\"},\"ys\":{\"field\":\"ys\"}},\"id\":\"1403\",\"type\":\"MultiLine\"},{\"attributes\":{\"axis\":{\"id\":\"1368\"},\"grid_line_color\":null,\"ticker\":null},\"id\":\"1371\",\"type\":\"Grid\"},{\"attributes\":{\"source\":{\"id\":\"1393\"}},\"id\":\"1398\",\"type\":\"CDSView\"},{\"attributes\":{},\"id\":\"1431\",\"type\":\"Selection\"},{\"attributes\":{},\"id\":\"1373\",\"type\":\"BasicTicker\"},{\"attributes\":{\"data_source\":{\"id\":\"1393\"},\"glyph\":{\"id\":\"1395\"},\"hover_glyph\":null,\"muted_glyph\":null,\"nonselection_glyph\":{\"id\":\"1396\"},\"selection_glyph\":null,\"view\":{\"id\":\"1398\"}},\"id\":\"1397\",\"type\":\"GlyphRenderer\"},{\"attributes\":{\"callback\":null,\"renderers\":[{\"id\":\"1397\"}],\"tooltips\":[[\"Index\",\"$index\"],[\"Name\",\"@name\"]]},\"id\":\"1415\",\"type\":\"HoverTool\"},{\"attributes\":{\"bottom_units\":\"screen\",\"fill_alpha\":0.5,\"fill_color\":\"lightgrey\",\"left_units\":\"screen\",\"level\":\"overlay\",\"line_alpha\":1.0,\"line_color\":\"black\",\"line_dash\":[4,4],\"line_width\":2,\"right_units\":\"screen\",\"top_units\":\"screen\"},\"id\":\"1382\",\"type\":\"BoxAnnotation\"},{\"attributes\":{\"data\":{\"fill_color\":[\"#5e92f3\",\"#5e92f3\",\"#5e92f3\",\"#5e92f3\",\"#5e92f3\",\"#5e92f3\",\"#5e92f3\",\"#5e92f3\",\"#5e92f3\",\"#5e92f3\",\"#5e92f3\",\"#5e92f3\",\"#5e92f3\",\"#5e92f3\",\"#5e92f3\",\"#5e92f3\"],\"line_color\":[\"#003c8f\",\"#003c8f\",\"#003c8f\",\"#003c8f\",\"#003c8f\",\"#003c8f\",\"#003c8f\",\"#003c8f\",\"#003c8f\",\"#003c8f\",\"#003c8f\",\"#003c8f\",\"#003c8f\",\"#003c8f\",\"#003c8f\",\"#003c8f\"],\"line_width\":[3,3,3,3,3,3,3,3,3,3,3,3,3,3,3,3],\"x\":[6,20,72,111,194,178,199,205,207,198,165,157,162,144,127,189],\"y\":[71,59,31,-8,-8,38,86,96,106,103,97,84,112,112,97,93]},\"selected\":{\"id\":\"1427\"},\"selection_policy\":{\"id\":\"1426\"}},\"id\":\"1393\",\"type\":\"ColumnDataSource\"},{\"attributes\":{\"active_drag\":null,\"active_inspect\":\"auto\",\"active_multi\":null,\"active_scroll\":null,\"active_tap\":\"auto\",\"logo\":null,\"tools\":[{\"id\":\"1376\"},{\"id\":\"1377\"},{\"id\":\"1378\"},{\"id\":\"1379\"},{\"id\":\"1380\"},{\"id\":\"1381\"},{\"id\":\"1415\"}]},\"id\":\"1383\",\"type\":\"Toolbar\"},{\"attributes\":{\"formatter\":{\"id\":\"1421\"},\"ticker\":{\"id\":\"1369\"},\"visible\":false},\"id\":\"1368\",\"type\":\"LinearAxis\"},{\"attributes\":{\"source\":{\"id\":\"1399\"}},\"id\":\"1405\",\"type\":\"CDSView\"},{\"attributes\":{\"fill_color\":{\"field\":\"fill_color\"},\"line_color\":{\"field\":\"line_color\"},\"line_width\":{\"field\":\"line_width\"},\"size\":{\"units\":\"screen\",\"value\":11},\"x\":{\"field\":\"x\"},\"y\":{\"field\":\"y\"}},\"id\":\"1396\",\"type\":\"Circle\"},{\"attributes\":{\"data_source\":{\"id\":\"1406\"},\"glyph\":{\"id\":\"1407\"},\"hover_glyph\":null,\"level\":\"guide\",\"muted_glyph\":null,\"nonselection_glyph\":{\"id\":\"1408\"},\"selection_glyph\":null,\"view\":{\"id\":\"1410\"}},\"id\":\"1409\",\"type\":\"GlyphRenderer\"},{\"attributes\":{},\"id\":\"1369\",\"type\":\"BasicTicker\"},{\"attributes\":{\"data\":{\"xs\":[[11.301090324745442,14.698909675254566],[63.069812290021225,69.93018770997878],[42.976862092036946,49.02313790796307],[70.22089160863857,76.77910839136149],[101.60977267069882,97.39022732930124],[139.8831103628236,144.11688963717637],[141.31806115805978,147.68193884194022],[133.82482514008294,137.17517485991706],[89.14670153841959,93.85329846158044],[111.6050606932186,117.3949393067814],[148.97244999999998,156.02755],[141.7005138802247,147.2994861197753],[132.55841471316512,135.44158528683488],[166.16509629035858,168.83490370964145],[159.86494734502958,162.13505265497042],[159.128646851194,159.87135314880598],[151.4028559428779,149.5971440571221],[187.04906838665292,184.9509316133471],[187.21317691926478,189.78682308073522],[200.88690370215798,203.11309629784205],[195.85282232314876,192.14717767685121],[205.58539740586426,206.41460259413577],[203.06886564105358,199.9311343589464],[192.02424879142615,194.9757512085738],[179.31200007568697,174.68799992431306],[204.7039715447302,200.29602845526986],[183.80467874454894,179.19532125545106],[155.3517,150.6483]],\"ys\":[[66.45620829307533,63.543791706924665],[83.26293487223596,84.73706512776401],[46.62784348890318,43.372156511096804],[76.83545683297443,79.16454316702556],[66.53172720483855,61.46827279516147],[91.41731884277647,89.58268115722356],[103.13631192488276,105.86368807511724],[103.0219045353673,105.9780954646327],[13.85329846158043,9.146701538419578],[55.694920196948075,59.305079803051925],[-7.999999999999998,-7.999999999999998],[13.077964753587104,16.92203524641289],[35.11682942633026,40.883170573669744],[63.92407479254794,58.07592520745206],[88.65553943567308,92.34446056432695],[95.92042236668642,100.07957763331359],[96.05538719995533,99.9446128000447],[11.98392838837291,18.016071611627098],[59.05869010117662,64.94130989882336],[89.14483950359659,92.85516049640341],[88.20302437379587,90.79697562620413],[98.9269870293212,103.07301297067883],[97.93113435894641,101.0688656410536],[96.360276434918,99.63972356508202],[94.6146666540522,95.38533334594783],[105.23465718157672,103.76534281842328],[100.41903249900889,99.58096750099111],[112.00000000000001,112.00000000000001]]},\"selected\":{\"id\":\"1431\"},\"selection_policy\":{\"id\":\"1430\"}},\"id\":\"1406\",\"type\":\"ColumnDataSource\"},{\"attributes\":{\"source\":{\"id\":\"1406\"}},\"id\":\"1410\",\"type\":\"CDSView\"},{\"attributes\":{\"axis\":{\"id\":\"1372\"},\"dimension\":1,\"grid_line_color\":null,\"ticker\":null},\"id\":\"1375\",\"type\":\"Grid\"},{\"attributes\":{\"data\":{\"text\":[4,24,12,19,20,8,10,6,10,25,14,18,18,14,4,8,8,12,14,3,3,1,2,4,6,2,6,4],\"x\":{\"__ndarray__\":\"AgAAAAAAKkAAAAAAAKBQQAEAAAAAAEdAAgAAAABgUkACAAAAAOBYQP//////v2FAAAAAAAAQYkAAAAAAAPBgQAAAAAAA4FZAAAAAAACgXED//////w9jQAAAAAAAEGJAAAAAAADAYEAAAAAAAPBkQAAAAAAAIGRAAAAAAADwY0AAAAAAANBiQAEAAAAAQGdAAAAAAACQZ0AAAAAAAEBpQAAAAAAAQGhAAQAAAADAaUAAAAAAADBpQP//////L2hAAAAAAAAgZkABAAAAAFBpQAAAAAAAsGZAAAAAAAAgY0A=\",\"dtype\":\"float64\",\"order\":\"little\",\"shape\":[28]},\"y\":{\"__ndarray__\":\"AAAAAABAUED///////9UQAAAAAAAgEZA//////9/U0AAAAAAAABQQAEAAAAAoFZAAAAAAAAgWkAAAAAAACBaQAAAAAAAACdAAAAAAADATED+//////8fwAAAAAAAAC5AAAAAAAAAQ0ACAAAAAIBOQAEAAAAAoFZAAQAAAACAWEABAAAAAIBYQAAAAAAAAC5AAAAAAAAAT0AAAAAAAMBWQAAAAAAAYFZAAAAAAABAWUABAAAAAOBYQAEAAAAAgFhAAQAAAADAV0AAAAAAACBaQAAAAAAAAFlAAQAAAAAAXEA=\",\"dtype\":\"float64\",\"order\":\"little\",\"shape\":[28]}},\"selected\":{\"id\":\"1424\"},\"selection_policy\":{\"id\":\"1423\"}},\"id\":\"1411\",\"type\":\"ColumnDataSource\"},{\"attributes\":{\"overlay\":{\"id\":\"1382\"}},\"id\":\"1378\",\"type\":\"BoxZoomTool\"}],\"root_ids\":[\"1433\"]},\"title\":\"Bokeh Application\",\"version\":\"2.2.3\"}};\n",
       "  var render_items = [{\"docid\":\"893960f0-f380-4d57-9585-4f42088eb7f7\",\"root_ids\":[\"1433\"],\"roots\":{\"1433\":\"b1a5a52a-6a2f-4f41-83c8-b0bb3f85353f\"}}];\n",
       "  root.Bokeh.embed.embed_items_notebook(docs_json, render_items);\n",
       "\n",
       "  }\n",
       "  if (root.Bokeh !== undefined) {\n",
       "    embed_document(root);\n",
       "  } else {\n",
       "    var attempts = 0;\n",
       "    var timer = setInterval(function(root) {\n",
       "      if (root.Bokeh !== undefined) {\n",
       "        clearInterval(timer);\n",
       "        embed_document(root);\n",
       "      } else {\n",
       "        attempts++;\n",
       "        if (attempts > 100) {\n",
       "          clearInterval(timer);\n",
       "          console.log(\"Bokeh: ERROR: Unable to run BokehJS code because BokehJS library is missing\");\n",
       "        }\n",
       "      }\n",
       "    }, 10, root)\n",
       "  }\n",
       "})(window);"
      ],
      "application/vnd.bokehjs_exec.v0+json": ""
     },
     "metadata": {
      "application/vnd.bokehjs_exec.v0+json": {
       "id": "1433"
      }
     },
     "output_type": "display_data"
    }
   ],
   "source": [
    "show(vl.tree_plot(G, tree=[], width=600))"
   ]
  },
  {
   "cell_type": "markdown",
   "metadata": {},
   "source": [
    "**Q2:** Run the first 5 iterations of this algorithm (starting at node 0 on the far left). Show your work: indicate the order in which you add the edges.\n",
    "\n",
    "**A:** <font color='blue'> Add edges in this order: (0,1), (1,2), (2,3), (3,4), (4,5).</font>"
   ]
  },
  {
   "cell_type": "markdown",
   "metadata": {},
   "source": [
    "Now, use the software to run the first 5 iterations of Prim's. Run the cell to output a plot. The starting node is solid dark blue. Click the edges you identified in **Q2** to add them to the minimum spanning tree."
   ]
  },
  {
   "cell_type": "code",
   "execution_count": 5,
   "metadata": {},
   "outputs": [
    {
     "data": {
      "text/html": [
       "\n",
       "\n",
       "\n",
       "\n",
       "\n",
       "\n",
       "  <div class=\"bk-root\" id=\"3ff8c708-4c45-4261-82c7-220ac5865395\" data-root-id=\"1638\"></div>\n"
      ]
     },
     "metadata": {},
     "output_type": "display_data"
    },
    {
     "data": {
      "application/javascript": [
       "(function(root) {\n",
       "  function embed_document(root) {\n",
       "    \n",
       "  var docs_json = {\"3ee64ee6-57cc-4ed8-a904-005081d11d2e\":{\"roots\":{\"references\":[{\"attributes\":{\"children\":[[{\"id\":\"1548\"},0,0],[{\"id\":\"1618\"},1,0]]},\"id\":\"1638\",\"type\":\"GridBox\"},{\"attributes\":{\"fill_color\":{\"field\":\"fill_color\"},\"line_color\":{\"field\":\"line_color\"},\"line_width\":{\"field\":\"line_width\"},\"size\":{\"units\":\"screen\",\"value\":11},\"x\":{\"field\":\"x\"},\"y\":{\"field\":\"y\"}},\"id\":\"1587\",\"type\":\"Circle\"},{\"attributes\":{},\"id\":\"1620\",\"type\":\"BasicTickFormatter\"},{\"attributes\":{},\"id\":\"1568\",\"type\":\"WheelZoomTool\"},{\"attributes\":{\"text\":\"\"},\"id\":\"1549\",\"type\":\"Title\"},{\"attributes\":{\"data\":{\"clicked\":[],\"edge_ids\":[[0.0,0.0,0.0,0.0,0.0,0.0,0.0,0.0,0.0,0.0,0.0,0.0,0.0,0.0,1.0,0.0],[0.0,0.0,2.0,0.0,0.0,0.0,0.0,0.0,0.0,0.0,0.0,0.0,0.0,0.0,3.0,0.0],[0.0,2.0,0.0,8.0,0.0,0.0,0.0,0.0,0.0,0.0,0.0,9.0,0.0,0.0,4.0,0.0],[0.0,0.0,8.0,0.0,10.0,11.0,0.0,0.0,0.0,0.0,0.0,12.0,0.0,0.0,0.0,0.0],[0.0,0.0,0.0,10.0,0.0,17.0,0.0,0.0,0.0,0.0,0.0,0.0,0.0,0.0,0.0,0.0],[0.0,0.0,0.0,11.0,17.0,0.0,18.0,0.0,0.0,0.0,0.0,13.0,0.0,0.0,0.0,0.0],[0.0,0.0,0.0,0.0,0.0,18.0,0.0,19.0,0.0,0.0,0.0,0.0,0.0,0.0,0.0,20.0],[0.0,0.0,0.0,0.0,0.0,0.0,19.0,0.0,21.0,22.0,0.0,0.0,0.0,0.0,0.0,0.0],[0.0,0.0,0.0,0.0,0.0,0.0,0.0,21.0,0.0,25.0,0.0,0.0,0.0,0.0,0.0,0.0],[0.0,0.0,0.0,0.0,0.0,0.0,0.0,22.0,25.0,0.0,26.0,0.0,0.0,0.0,0.0,23.0],[0.0,0.0,0.0,0.0,0.0,0.0,0.0,0.0,0.0,26.0,0.0,14.0,0.0,0.0,0.0,24.0],[0.0,0.0,9.0,12.0,0.0,13.0,0.0,0.0,0.0,0.0,14.0,0.0,15.0,16.0,5.0,0.0],[0.0,0.0,0.0,0.0,0.0,0.0,0.0,0.0,0.0,0.0,0.0,15.0,0.0,27.0,6.0,0.0],[0.0,0.0,0.0,0.0,0.0,0.0,0.0,0.0,0.0,0.0,0.0,16.0,27.0,0.0,7.0,0.0],[1.0,3.0,4.0,0.0,0.0,0.0,0.0,0.0,0.0,0.0,0.0,5.0,6.0,7.0,0.0,0.0],[0.0,0.0,0.0,0.0,0.0,0.0,20.0,0.0,0.0,23.0,24.0,0.0,0.0,0.0,0.0,0.0]],\"tree_edges\":[],\"unvisited\":[1,2,3,4,5,6,7,8,9,10,11,12,13,14,15],\"visited\":[0]},\"selected\":{\"id\":\"1634\"},\"selection_policy\":{\"id\":\"1633\"}},\"id\":\"1606\",\"type\":\"ColumnDataSource\"},{\"attributes\":{},\"id\":\"1572\",\"type\":\"HelpTool\"},{\"attributes\":{\"data\":{\"fill_color\":[\"#003c8f\",\"#5e92f3\",\"#5e92f3\",\"#5e92f3\",\"#5e92f3\",\"#5e92f3\",\"#5e92f3\",\"#5e92f3\",\"#5e92f3\",\"#5e92f3\",\"#5e92f3\",\"#5e92f3\",\"#5e92f3\",\"#5e92f3\",\"#5e92f3\",\"#5e92f3\"],\"line_color\":[\"#003c8f\",\"#003c8f\",\"#003c8f\",\"#003c8f\",\"#003c8f\",\"#003c8f\",\"#003c8f\",\"#003c8f\",\"#003c8f\",\"#003c8f\",\"#003c8f\",\"#003c8f\",\"#003c8f\",\"#003c8f\",\"#003c8f\",\"#003c8f\"],\"line_width\":[3,3,3,3,3,3,3,3,3,3,3,3,3,3,3,3],\"x\":[6,20,72,111,194,178,199,205,207,198,165,157,162,144,127,189],\"y\":[71,59,31,-8,-8,38,86,96,106,103,97,84,112,112,97,93]},\"selected\":{\"id\":\"1628\"},\"selection_policy\":{\"id\":\"1627\"}},\"id\":\"1584\",\"type\":\"ColumnDataSource\"},{\"attributes\":{},\"id\":\"1622\",\"type\":\"BasicTickFormatter\"},{\"attributes\":{\"background_fill_color\":null,\"below\":[{\"id\":\"1559\"}],\"border_fill_color\":null,\"center\":[{\"id\":\"1562\"},{\"id\":\"1566\"},{\"id\":\"1603\"}],\"left\":[{\"id\":\"1563\"}],\"outline_line_color\":null,\"plot_width\":900,\"renderers\":[{\"id\":\"1588\"},{\"id\":\"1595\"},{\"id\":\"1600\"}],\"title\":{\"id\":\"1549\"},\"toolbar\":{\"id\":\"1574\"},\"toolbar_location\":null,\"x_range\":{\"id\":\"1551\"},\"x_scale\":{\"id\":\"1555\"},\"y_range\":{\"id\":\"1553\"},\"y_scale\":{\"id\":\"1557\"}},\"id\":\"1548\",\"subtype\":\"Figure\",\"type\":\"Plot\"},{\"attributes\":{\"active_drag\":null,\"active_inspect\":\"auto\",\"active_multi\":null,\"active_scroll\":null,\"active_tap\":\"auto\",\"logo\":null,\"tools\":[{\"id\":\"1567\"},{\"id\":\"1568\"},{\"id\":\"1569\"},{\"id\":\"1570\"},{\"id\":\"1571\"},{\"id\":\"1572\"},{\"id\":\"1610\"},{\"id\":\"1612\"},{\"id\":\"1614\"}]},\"id\":\"1574\",\"type\":\"Toolbar\"},{\"attributes\":{},\"id\":\"1570\",\"type\":\"SaveTool\"},{\"attributes\":{\"data\":{\"xs\":[[11.867393549830293,14.1326064501697],[64.2132081933475,68.78679180665253],[43.98457472802465,48.01542527197538],[71.31392773909235,75.68607226090765],[100.9065151137992,98.09348488620083],[140.5887402418824,143.4112597581176],[142.37870743870653,146.62129256129347],[134.3832167600553,136.6167832399447],[89.9311343589464,93.06886564105363],[112.57004046214576,116.42995953785424],[150.1483,154.85170000000002],[142.6336759201498,146.3663240798502],[133.03894314211007,134.96105685788993],[166.61006419357236,168.38993580642764],[160.24329823001975,161.75670176998028],[159.25243123412935,159.74756876587068],[151.1019039619186,149.89809603808138],[186.69937892443528,185.30062107556475],[187.6421179461765,189.35788205382346],[201.25793580143863,202.74206419856134],[195.23521488209917,192.7647851179008],[205.72359827057616,206.2764017294238],[202.54591042736908,200.45408957263095],[192.51616586095076,194.4838341390492],[178.54133338379128,175.4586666162087],[203.96931436315347,201.03068563684658],[183.03645249636594,179.96354750363403],[154.5678,151.4322]],\"ys\":[[65.9708055287169,64.02919447128312],[83.50862324815732,84.4913767518427],[46.085228992602126,43.914771007397874],[77.22363788864963,78.77636211135038],[65.68781813655903,62.31218186344098],[91.11154589518429,89.88845410481571],[103.59087461658854,105.40912538341149],[103.51460302357822,105.48539697642181],[13.06886564105362,9.93113435894638],[56.296613464632046,58.703386535367954],[-7.999999999999998,-7.999999999999998],[13.718643169058069,16.281356830941924],[36.07788628422017,39.922113715779815],[62.949383195031956,59.05061680496806],[89.27035962378204,91.72964037621796],[96.61361491112429,99.38638508887571],[96.70359146663688,99.29640853336312],[12.989285592248606,17.010714407751394],[60.03912673411776,63.960873265882256],[89.76322633573106,92.23677366426892],[88.63534958253058,90.36465041746942],[99.61799135288078,102.38200864711922],[98.45408957263092,100.54591042736905],[96.90685095661199,99.09314904338801],[94.74311110270146,95.25688889729855],[104.98977145438448,104.01022854561555],[100.27935499933926,99.72064500066074],[112.00000000000001,112.00000000000001]]},\"selected\":{\"id\":\"1632\"},\"selection_policy\":{\"id\":\"1631\"}},\"id\":\"1597\",\"type\":\"ColumnDataSource\"},{\"attributes\":{},\"id\":\"1624\",\"type\":\"UnionRenderers\"},{\"attributes\":{},\"id\":\"1625\",\"type\":\"Selection\"},{\"attributes\":{\"data\":{\"text\":[4,24,12,19,20,8,10,6,10,25,14,18,18,14,4,8,8,12,14,3,3,1,2,4,6,2,6,4],\"x\":{\"__ndarray__\":\"/v//////KUAAAAAAAKBQQAEAAAAAAEdAAAAAAABgUkAAAAAAAOBYQAAAAAAAwGFAAAAAAAAQYkAAAAAAAPBgQAAAAAAA4FZAAAAAAACgXEABAAAAABBjQAAAAAAAEGJAAAAAAADAYEAAAAAAAPBkQAAAAAAAIGRAAAAAAADwY0D//////89iQAAAAAAAQGdAAAAAAACQZ0D//////z9pQAAAAAAAQGhAAAAAAADAaUAAAAAAADBpQAAAAAAAMGhA//////8fZkABAAAAAFBpQAAAAAAAsGZAAAAAAAAgY0A=\",\"dtype\":\"float64\",\"order\":\"little\",\"shape\":[28]},\"y\":{\"__ndarray__\":\"AAAAAABAUEAAAAAAAABVQAAAAAAAgEZAAAAAAACAU0AAAAAAAABQQAAAAAAAoFZAAAAAAAAgWkAAAAAAACBaQAAAAAAAACdAAAAAAADATED+//////8fwAAAAAAAAC5AAAAAAAAAQ0ACAAAAAIBOQAAAAAAAoFZAAAAAAACAWEAAAAAAAIBYQAAAAAAAAC5AAgAAAAAAT0AAAAAAAMBWQAAAAAAAYFZAAAAAAABAWUD//////99YQAAAAAAAgFhAAAAAAADAV0AAAAAAACBaQAAAAAAAAFlAAQAAAAAAXEA=\",\"dtype\":\"float64\",\"order\":\"little\",\"shape\":[28]}},\"selected\":{\"id\":\"1625\"},\"selection_policy\":{\"id\":\"1624\"}},\"id\":\"1602\",\"type\":\"ColumnDataSource\"},{\"attributes\":{\"line_cap\":\"round\",\"line_color\":{\"field\":\"line_color\"},\"line_width\":{\"value\":5},\"xs\":{\"field\":\"xs\"},\"ys\":{\"field\":\"ys\"}},\"id\":\"1592\",\"type\":\"MultiLine\"},{\"attributes\":{\"line_color\":{\"value\":\"white\"},\"line_width\":{\"value\":6},\"xs\":{\"field\":\"xs\"},\"ys\":{\"field\":\"ys\"}},\"id\":\"1599\",\"type\":\"MultiLine\"},{\"attributes\":{},\"id\":\"1627\",\"type\":\"UnionRenderers\"},{\"attributes\":{\"source\":{\"id\":\"1597\"}},\"id\":\"1601\",\"type\":\"CDSView\"},{\"attributes\":{},\"id\":\"1628\",\"type\":\"Selection\"},{\"attributes\":{\"data_source\":{\"id\":\"1597\"},\"glyph\":{\"id\":\"1598\"},\"hover_glyph\":null,\"level\":\"guide\",\"muted_glyph\":null,\"nonselection_glyph\":{\"id\":\"1599\"},\"selection_glyph\":null,\"view\":{\"id\":\"1601\"}},\"id\":\"1600\",\"type\":\"GlyphRenderer\"},{\"attributes\":{\"end\":122.2,\"start\":-18.200000000000003},\"id\":\"1553\",\"type\":\"Range1d\"},{\"attributes\":{},\"id\":\"1629\",\"type\":\"UnionRenderers\"},{\"attributes\":{\"line_color\":{\"value\":\"white\"},\"line_width\":{\"value\":6},\"xs\":{\"field\":\"xs\"},\"ys\":{\"field\":\"ys\"}},\"id\":\"1598\",\"type\":\"MultiLine\"},{\"attributes\":{\"end\":224.085,\"start\":-11.085},\"id\":\"1551\",\"type\":\"Range1d\"},{\"attributes\":{},\"id\":\"1630\",\"type\":\"Selection\"},{\"attributes\":{\"source\":{\"id\":\"1590\"}},\"id\":\"1596\",\"type\":\"CDSView\"},{\"attributes\":{\"data_source\":{\"id\":\"1590\"},\"glyph\":{\"id\":\"1592\"},\"hover_glyph\":{\"id\":\"1594\"},\"level\":\"underlay\",\"muted_glyph\":null,\"nonselection_glyph\":{\"id\":\"1593\"},\"selection_glyph\":null,\"view\":{\"id\":\"1596\"}},\"id\":\"1595\",\"type\":\"GlyphRenderer\"},{\"attributes\":{},\"id\":\"1631\",\"type\":\"UnionRenderers\"},{\"attributes\":{},\"id\":\"1555\",\"type\":\"LinearScale\"},{\"attributes\":{\"source\":{\"id\":\"1602\"},\"text_align\":\"center\",\"text_baseline\":\"middle\",\"text_color\":{\"value\":\"black\"},\"text_font_size\":{\"value\":\"13px\"},\"x\":{\"field\":\"x\"},\"y\":{\"field\":\"y\"}},\"id\":\"1603\",\"type\":\"LabelSet\"},{\"attributes\":{\"line_cap\":\"round\",\"line_color\":{\"field\":\"line_color\"},\"line_width\":{\"value\":5},\"xs\":{\"field\":\"xs\"},\"ys\":{\"field\":\"ys\"}},\"id\":\"1593\",\"type\":\"MultiLine\"},{\"attributes\":{\"formatter\":{\"id\":\"1622\"},\"ticker\":{\"id\":\"1560\"},\"visible\":false},\"id\":\"1559\",\"type\":\"LinearAxis\"},{\"attributes\":{\"bottom_units\":\"screen\",\"fill_alpha\":0.5,\"fill_color\":\"lightgrey\",\"left_units\":\"screen\",\"level\":\"overlay\",\"line_alpha\":1.0,\"line_color\":\"black\",\"line_dash\":[4,4],\"line_width\":2,\"right_units\":\"screen\",\"top_units\":\"screen\"},\"id\":\"1573\",\"type\":\"BoxAnnotation\"},{\"attributes\":{},\"id\":\"1632\",\"type\":\"Selection\"},{\"attributes\":{},\"id\":\"1560\",\"type\":\"BasicTicker\"},{\"attributes\":{},\"id\":\"1571\",\"type\":\"ResetTool\"},{\"attributes\":{\"align\":\"center\",\"text\":\"[]\",\"width\":300},\"id\":\"1608\",\"type\":\"Div\"},{\"attributes\":{},\"id\":\"1633\",\"type\":\"UnionRenderers\"},{\"attributes\":{\"data\":{\"line_color\":[\"#DFDFDF\",\"#DFDFDF\",\"#DFDFDF\",\"#DFDFDF\",\"#DFDFDF\",\"#DFDFDF\",\"#DFDFDF\",\"#DFDFDF\",\"#DFDFDF\",\"#DFDFDF\",\"#DFDFDF\",\"#DFDFDF\",\"#DFDFDF\",\"#DFDFDF\",\"#DFDFDF\",\"#DFDFDF\",\"#DFDFDF\",\"#DFDFDF\",\"#DFDFDF\",\"#DFDFDF\",\"#DFDFDF\",\"#DFDFDF\",\"#DFDFDF\",\"#DFDFDF\",\"#DFDFDF\",\"#DFDFDF\",\"#DFDFDF\",\"#DFDFDF\"],\"u\":[0,0,1,1,14,14,14,14,2,2,3,3,3,11,11,11,11,4,5,6,6,7,7,15,15,8,9,12],\"v\":[1,14,2,14,2,11,12,13,3,11,4,5,11,5,10,12,13,5,6,7,15,8,9,9,10,9,10,13],\"weight\":[4,24,12,19,20,8,10,6,10,25,14,18,18,14,4,8,8,12,14,3,3,1,2,4,6,2,6,4],\"xs\":[[6,20],[6,127],[20,72],[20,127],[127,72],[127,157],[127,162],[127,144],[72,111],[72,157],[111,194],[111,178],[111,157],[157,178],[157,165],[157,162],[157,144],[194,178],[178,199],[199,205],[199,189],[205,207],[205,198],[189,198],[189,165],[207,198],[198,165],[162,144]],\"ys\":[[71,59],[71,97],[59,31],[59,97],[97,31],[97,84],[97,112],[97,112],[31,-8],[31,84],[-8,-8],[-8,38],[-8,84],[84,38],[84,97],[84,112],[84,112],[-8,38],[38,86],[86,96],[86,93],[96,106],[96,103],[93,103],[93,97],[106,103],[103,97],[112,112]]},\"selected\":{\"id\":\"1630\"},\"selection_policy\":{\"id\":\"1629\"}},\"id\":\"1590\",\"type\":\"ColumnDataSource\"},{\"attributes\":{\"callback\":null,\"renderers\":[{\"id\":\"1588\"}],\"tooltips\":[[\"Index\",\"$index\"],[\"Name\",\"@name\"]]},\"id\":\"1610\",\"type\":\"HoverTool\"},{\"attributes\":{},\"id\":\"1634\",\"type\":\"Selection\"},{\"attributes\":{},\"id\":\"1557\",\"type\":\"LinearScale\"},{\"attributes\":{\"args\":{\"source\":{\"id\":\"1606\"}},\"code\":\"source.data['last_index'] = cb_data.index.indices[0]\"},\"id\":\"1611\",\"type\":\"CustomJS\"},{\"attributes\":{\"align\":\"center\",\"width\":300},\"id\":\"1609\",\"type\":\"Div\"},{\"attributes\":{},\"id\":\"1635\",\"type\":\"UnionRenderers\"},{\"attributes\":{\"axis\":{\"id\":\"1559\"},\"grid_line_color\":null,\"ticker\":null},\"id\":\"1562\",\"type\":\"Grid\"},{\"attributes\":{\"axis\":{\"id\":\"1563\"},\"dimension\":1,\"grid_line_color\":null,\"ticker\":null},\"id\":\"1566\",\"type\":\"Grid\"},{\"attributes\":{\"callback\":{\"id\":\"1611\"},\"renderers\":[{\"id\":\"1595\"}],\"tooltips\":null},\"id\":\"1612\",\"type\":\"HoverTool\"},{\"attributes\":{\"line_cap\":\"round\",\"line_color\":{\"value\":\"#404040\"},\"line_width\":{\"value\":5},\"xs\":{\"field\":\"xs\"},\"ys\":{\"field\":\"ys\"}},\"id\":\"1594\",\"type\":\"MultiLine\"},{\"attributes\":{},\"id\":\"1636\",\"type\":\"Selection\"},{\"attributes\":{},\"id\":\"1564\",\"type\":\"BasicTicker\"},{\"attributes\":{\"args\":{\"clicked\":{\"id\":\"1608\"},\"cost\":{\"id\":\"1607\"},\"cost_matrix\":{\"id\":\"1605\"},\"edges_src\":{\"id\":\"1590\"},\"error_msg\":{\"id\":\"1609\"},\"nodes_src\":{\"id\":\"1584\"},\"source\":{\"id\":\"1606\"}},\"code\":\"/* Color Theme -- Using Google's Material Design Color System\\n   https://material.io/design/color/the-color-system.html */\\n\\n/** @constant {string} */\\nvar PRIMARY_COLOR = '#1565c0'\\n/** @constant {string} */\\nvar PRIMARY_LIGHT_COLOR = '#5e92f3'\\n/** @constant {string} */\\nvar PRIMARY_DARK_COLOR = '#003c8f'\\n/** @constant {string} */\\nvar SECONDARY_COLOR = '#d50000'\\n/** @constant {string} */\\nvar SECONDARY_LIGHT_COLOR = '#ff5131'\\n/** @constant {string} */\\nvar SECONDARY_DARK_COLOR = '#9b0000'\\n\\n// Grayscale\\n/** @constant {string} */\\nvar TERTIARY_COLOR = '#DFDFDF'\\n/**\\n *  Jupyter Notebook: 'white', Sphinx: '#FCFCFC'\\n *  @constant {string}\\n */\\nvar TERTIARY_LIGHT_COLOR = 'white'\\n/** @constant {string} */\\nvar TERTIARY_DARK_COLOR = '#404040'\\n/** @type {float[][]} */\\nvar G\\n/** @type {integer[]} */\\nvar visited\\n/** @type {integer[]} */\\nvar unvisited\\n/** @type {integer[][]} */\\nvar tree_edges\\n/** @type {integer[][]} */\\nvar edge_ids\\n/** @type {(integer[]|integer[][])} */\\nvar clicked_list\\n/** @type {integer} */\\nvar i\\n/** @type {integer} */\\nvar u\\n/** @type {integer} */\\nvar v\\n/** @type {float} */\\nvar w\\n\\n\\n/**\\n * Check if the error message text indicates tour or tree is complete.\\n */\\nfunction check_done() {\\n    if (error_msg.text == 'done.') {\\n        return;\\n    }\\n}\\n\\n/**\\n * Load the data necessary data for MST and shortest path tree creation.\\n */\\nfunction load_data() {\\n    G = cost_matrix.data['G']\\n    visited = source.data['visited']\\n    unvisited = source.data['unvisited']\\n    tree_edges = source.data['tree_edges']\\n    edge_ids = source.data['edge_ids']\\n    clicked_list = source.data['clicked']\\n\\n    i = source.data['last_index']\\n    u = edges_src.data['u'][i]\\n    v = edges_src.data['v'][i]\\n    w = edges_src.data['weight'][i]\\n}\\n\\n/**\\n * Update node and edge highlighting upon a proper edge selection.\\n */\\nfunction select_edge() {\\n    if (!visited.includes(v)) {\\n        nodes_src.data['fill_color'][v] = PRIMARY_DARK_COLOR\\n        nodes_src.data['line_color'][v] = PRIMARY_DARK_COLOR\\n        visited.push(v)\\n        unvisited.splice(unvisited.indexOf(v), 1)\\n    }\\n    if (!visited.includes(u)) {\\n        nodes_src.data['fill_color'][u] = PRIMARY_DARK_COLOR\\n        nodes_src.data['line_color'][u] = PRIMARY_DARK_COLOR\\n        visited.push(u)\\n        unvisited.splice(unvisited.indexOf(u), 1)\\n    }\\n    edges_src.data['line_color'][i] = TERTIARY_DARK_COLOR\\n    tree_edges.push([u,v])\\n    clicked_list = tree_edges\\n    var prev_cost = parseFloat(cost.text)\\n    cost.text = (prev_cost + w).toFixed(1)\\n    error_msg.text = ''\\n}\\n\\n/**\\n * Iteration of Prim's algorithm.\\n * Check if user-selected edge is a valid next edge. If valid, add the selected\\n * edge. If not, an error message is returned.\\n */\\nfunction prims() {\\n    var possible = {}\\n    for (let i = 0; i < visited.length; i++) {\\n        for (let j = 0; j < unvisited.length; j++) {\\n            var a = visited[i]\\n            var b = unvisited[j]\\n            if (G[a][b] != 0) {\\n                var id = edge_ids[a][b]\\n                possible[id] = G[a][b]\\n            }\\n        }\\n    }\\n\\n    var keys  = Object.keys(possible).sort(function(a,b) { return possible[a] - possible[b]; });\\n    var valid = keys.filter(function(x) { return possible[x] == possible[keys[0]]; });\\n\\n    var first_edge = (visited.length == 0)\\n    var u_in_tree = visited.includes(u)\\n    var v_in_tree = visited.includes(v)\\n    var one_in_tree = (u_in_tree && !v_in_tree) || (!u_in_tree && v_in_tree)\\n\\n    if (first_edge || one_in_tree) {\\n        if (valid.includes(i.toString())) {\\n            select_edge()\\n        } else {\\n            error_msg.text = 'Smaller weight edge exists.'\\n        }\\n    } else {\\n        if (u_in_tree && v_in_tree) {\\n            error_msg.text = 'Edge creates a cycle.'\\n        } else {\\n            error_msg.text = 'Edge not adjacent to the current tree.'\\n        }\\n    }\\n}\\n\\n/**\\n * Iteration of Kruskal's algorithm.\\n * Check if user-selected edge is a valid next edge. If valid, add the selected\\n * edge. If not, an error message is returned.\\n */\\nfunction kruskals() {\\n    var sorted_edges = source.data['sorted_edges']\\n    var forest = source.data['forest']\\n    var index = source.data['index'][0]\\n\\n    var a = sorted_edges[index][0]\\n    var b = sorted_edges[index][1]\\n    while (forest[a] == forest[b]) {\\n        index += 1\\n        a = sorted_edges[index][0]\\n        b = sorted_edges[index][1]\\n    }\\n    var min_val = G[sorted_edges[index][0]][sorted_edges[index][1]]\\n\\n    if (forest[u] != forest[v]) {\\n        if (G[u][v] == min_val) {\\n            select_edge()\\n            var x = forest[u]\\n            var y = forest[v]\\n            forest = forest.map(function(k) {if (k == y) {return x} else {return k} })\\n            source.data['forest'] = forest\\n            if (u == a && v == b) {\\n                index += 1\\n            }\\n        } else {\\n             error_msg.text = 'Smaller weight edge exists.'\\n        }\\n    } else {\\n        error_msg.text = 'This edge creates a cycle.'\\n    }\\n\\n    source.data['index'][0] = index\\n}\\n\\n/**\\n * Return an array of length len where every element has the given value.\\n * @param {float} value\\n * @param {integer} len\\n * @returns {float[]}\\n */\\nfunction fillArray(value, len) {\\n    var a = [value];\\n    while (a.length * 2 <= len) a = a.concat(a);\\n    if (a.length < len) a = a.concat(a.slice(0, len - a.length));\\n    return a;\\n}\\n\\n/**\\n * Return true iff the undirected graph G is connected.\\n * @param {float[][]} G\\n * @returns {boolean}\\n */\\nfunction is_connected(G) {\\n    var check = fillArray(false, G.length)\\n    check[0] = true\\n    var checked = [0]\\n\\n    while (checked.length > 0) {\\n        var a = checked.shift()\\n        for (let b = 0; b < G[a].length; b++) {\\n            if (G[a][b] > 0 && !check[b]) {\\n                check[b] = true\\n                checked.push(b)\\n            }\\n        }\\n    }\\n    return check.every(function(x) {return x})\\n}\\n\\n/**\\n * Iteration of reverse Kruskal's algorithm.\\n * Check if user-selected edge is a valid next edge. If valid, add the selected\\n * edge. If not, an error message is returned.\\n */\\nfunction reverse_kruskals() {\\n    var sorted_edges = source.data['sorted_edges']\\n    var index = source.data['index'][0]\\n\\n    var a = sorted_edges[index][0]\\n    var b = sorted_edges[index][1]\\n    var tmp_w = G[a][b]\\n    G[a][b] = 0\\n    G[b][a] = 0\\n    while (!is_connected(G) || !tree_edges.includes(edge_ids[a][b])) {\\n        G[a][b] = tmp_w\\n        G[b][a] = tmp_w\\n        index += 1\\n        a = sorted_edges[index][0]\\n        b = sorted_edges[index][1]\\n        tmp_w = G[a][b]\\n        G[a][b] = 0\\n        G[b][a] = 0\\n    }\\n    G[a][b] = tmp_w\\n    G[b][a] = tmp_w\\n    var max_val = tmp_w\\n\\n    var tmp_w = w\\n    G[u][v] = 0\\n    G[v][u] = 0\\n\\n    let e = tree_edges.indexOf(i)\\n    if (e > -1) {\\n        if (is_connected(G)) {\\n            if (tmp_w == max_val) {\\n                tree_edges.splice(e, 1);\\n                if (u == a && v == b) {\\n                    index += 1\\n                }\\n                edges_src.data['line_color'][i] = TERTIARY_COLOR\\n                var prev_cost = parseFloat(cost.text)\\n                cost.text = (prev_cost - w).toFixed(1)\\n                error_msg.text = ''\\n            } else {\\n                G[u][v] = tmp_w\\n                G[v][u] = tmp_w\\n                error_msg.text = 'Larger edge weight exists. Try ('\\n                                  .concat(a.toString())\\n                                  .concat(', ')\\n                                  .concat(b.toString())\\n                                  .concat(').')\\n            }\\n        } else {\\n            G[u][v] = tmp_w\\n            G[v][u] = tmp_w\\n            error_msg.text = 'Removing this edge disconnects the graph.'\\n        }\\n    } else {\\n        G[u][v] = tmp_w\\n        G[v][u] = tmp_w\\n        error_msg.text = 'Edge already removed.'\\n    }\\n\\n    var u_list = edges_src.data['u']\\n    var v_list = edges_src.data['v']\\n    clicked_list = []\\n    for (let i = 0; i < tree_edges.length; i++) {\\n        var edge = tree_edges[i]\\n        clicked_list.push([u_list[edge], v_list[edge]])\\n    }\\n    source.data['index'][0] = index\\n}\\n\\n/**\\n * Final updates when creating an MST or shortest path tree.\\n */\\nfunction tree_update() {\\n    if (tree_edges.length == nodes_src.data['x'].length - 1) {\\n        error_msg.text = 'done.'\\n    }\\n\\n    clicked.text = '['\\n    for (let i = 0; i < clicked_list.length; i++) {\\n        var edge_str = clicked_list[i].join(',')\\n        clicked.text = clicked.text.concat('(').concat(edge_str).concat(')')\\n        if (!(i == clicked_list.length - 1)) {\\n            clicked.text = clicked.text.concat(',')\\n        }\\n    }\\n    clicked.text = clicked.text.concat(']')\\n\\n    source.change.emit()\\n    nodes_src.change.emit()\\n    edges_src.change.emit()\\n}\\n\\n/**\\n * Check if user-selected node is valid and add to tour if valid.\\n */\\nfunction create_tour_on_click () {\\n    var v = source.data['last_index']\\n    var n = nodes_src.data['line_color'].length\\n    var tour = source.data['clicked']\\n\\n    if (tour.includes(v)) {\\n        error_msg.text = 'This node is already in the tour.'\\n        return;\\n    } else {\\n        error_msg.text = ''\\n    }\\n\\n    function add_node(v) {\\n        // add to cost\\n        if (tour.length > 0) {\\n            var u = tour[tour.length - 1]\\n            var prev_cost = parseFloat(cost.text)\\n            cost.text = (prev_cost + cost_matrix.data['G'][u][v]).toFixed(1)\\n        }\\n\\n        // add to tour\\n        tour.push(v)\\n        clicked.text = '['.concat(tour.join(',')).concat(']')\\n\\n        // highlight new node\\n        nodes_src.data['line_color'][v] = PRIMARY_DARK_COLOR\\n        nodes_src.data['fill_color'][v] = PRIMARY_DARK_COLOR\\n\\n        // highlight new edge\\n        tour_src.data['edges_x'].push(nodes_src.data['x'][v])\\n        tour_src.data['edges_y'].push(nodes_src.data['y'][v])\\n    }\\n\\n    add_node(v)\\n    if (tour.length == n) {\\n        add_node(tour[0])\\n        error_msg.text = 'done.'\\n    }\\n\\n    source.change.emit()\\n    tour_src.change.emit()\\n    nodes_src.change.emit()\\n}\\n\\n/**\\n * Iteration of Dijkstra's algorithm.\\n * Check if user-selected node is a valid next node. If valid, add the selected\\n * node. If not, an error message is returned.\\n */\\nfunction dijkstras() {\\n    var dist = source.data['dist']\\n    var prev = source.data['prev']\\n    var S = source.data['settled']\\n    var F = source.data['frontier']\\n\\n    F.sort(function(a,b) {return dist[a] - dist[b]})\\n\\n    if (F.includes(i)) {\\n        if (dist[i] == dist[F[0]]) {\\n            var f = i\\n            F.splice(F.indexOf(f), 1)\\n            S.push(f)\\n            for (let w = 0; w < G.length; w++) {\\n                if (G[f][w] != 0) {\\n                    if (!S.includes(w) && !F.includes(w)) {\\n                        dist[w] = dist[f] + G[f][w]\\n                        prev[w] = f\\n                        F.push(w)\\n                        var k = edge_ids[w][f]\\n                        edges_src.data['line_color'][k] = TERTIARY_DARK_COLOR\\n                    } else {\\n                        if (dist[f] + G[f][w] < dist[w]) {\\n                            var k = edge_ids[prev[w]][w]\\n                            edges_src.data['line_color'][k] = TERTIARY_COLOR\\n\\n                            dist[w] = dist[f] + G[f][w]\\n                            prev[w] = f\\n\\n                            var k = edge_ids[f][w]\\n                            edges_src.data['line_color'][k] = TERTIARY_DARK_COLOR\\n                        }\\n                    }\\n                }\\n            }\\n            error_msg.text = ''\\n        } else {\\n            error_msg.text = 'A closer frontier node exists.'\\n        }\\n    } else {\\n        error_msg.text = 'This node is not in the frontier set.'\\n    }\\n\\n    for (let i = 0; i < G.length; i++) {\\n        // Highlight settled and frontier nodes\\n        if (S.includes(i)) {\\n            nodes_src.data['fill_color'][i] = PRIMARY_DARK_COLOR\\n            nodes_src.data['line_color'][i] = PRIMARY_DARK_COLOR\\n        } else if (F.includes(i)) {\\n            nodes_src.data['fill_color'][i] = SECONDARY_COLOR\\n            nodes_src.data['line_color'][i] = SECONDARY_DARK_COLOR\\n        } else {\\n            nodes_src.data['fill_color'][i] = PRIMARY_LIGHT_COLOR\\n            nodes_src.data['line_color'][i] = PRIMARY_DARK_COLOR\\n        }\\n\\n        // Update table source\\n        var dist_text\\n        var prev_text\\n        if (isFinite(dist[i])) {\\n            dist_text = dist[i].toFixed(1)\\n        } else {\\n            dist_text = 'inf'\\n        }\\n        if (S.includes(i)) {\\n            dist_text = dist_text.concat('*')\\n        }\\n\\n        if (isNaN(prev[i])) {\\n            prev_text = '-'\\n        } else {\\n            prev_text = prev[i]\\n        }\\n        table_src.data[i.toString()] = [dist_text, prev_text]\\n    }\\n\\n    if (F.length == 0) {\\n        error_msg.text = 'done.'\\n    }\\n\\n    source.change.emit()\\n    nodes_src.change.emit()\\n    edges_src.change.emit()\\n    table_src.change.emit()\\n}\\n\\n// BEGIN FUNCTION CALLING\\ncheck_done()\\nload_data()\\nprims()\\ntree_update()\\n\"},\"id\":\"1613\",\"type\":\"CustomJS\"},{\"attributes\":{\"overlay\":{\"id\":\"1573\"}},\"id\":\"1569\",\"type\":\"BoxZoomTool\"},{\"attributes\":{\"formatter\":{\"id\":\"1620\"},\"ticker\":{\"id\":\"1564\"},\"visible\":false},\"id\":\"1563\",\"type\":\"LinearAxis\"},{\"attributes\":{\"align\":\"center\",\"text\":\"0.0\",\"width\":300},\"id\":\"1607\",\"type\":\"Div\"},{\"attributes\":{\"callback\":{\"id\":\"1613\"},\"renderers\":[{\"id\":\"1595\"}]},\"id\":\"1614\",\"type\":\"TapTool\"},{\"attributes\":{\"data_source\":{\"id\":\"1584\"},\"glyph\":{\"id\":\"1586\"},\"hover_glyph\":null,\"muted_glyph\":null,\"nonselection_glyph\":{\"id\":\"1587\"},\"selection_glyph\":null,\"view\":{\"id\":\"1589\"}},\"id\":\"1588\",\"type\":\"GlyphRenderer\"},{\"attributes\":{\"children\":[{\"id\":\"1607\"},{\"id\":\"1609\"},{\"id\":\"1608\"}]},\"id\":\"1618\",\"type\":\"Row\"},{\"attributes\":{},\"id\":\"1567\",\"type\":\"PanTool\"},{\"attributes\":{\"source\":{\"id\":\"1584\"}},\"id\":\"1589\",\"type\":\"CDSView\"},{\"attributes\":{\"fill_color\":{\"field\":\"fill_color\"},\"line_color\":{\"field\":\"line_color\"},\"line_width\":{\"field\":\"line_width\"},\"size\":{\"units\":\"screen\",\"value\":11},\"x\":{\"field\":\"x\"},\"y\":{\"field\":\"y\"}},\"id\":\"1586\",\"type\":\"Circle\"},{\"attributes\":{\"data\":{\"G\":[[0.0,4.0,0.0,0.0,0.0,0.0,0.0,0.0,0.0,0.0,0.0,0.0,0.0,0.0,24.0,0.0],[4.0,0.0,12.0,0.0,0.0,0.0,0.0,0.0,0.0,0.0,0.0,0.0,0.0,0.0,19.0,0.0],[0.0,12.0,0.0,10.0,0.0,0.0,0.0,0.0,0.0,0.0,0.0,25.0,0.0,0.0,20.0,0.0],[0.0,0.0,10.0,0.0,14.0,18.0,0.0,0.0,0.0,0.0,0.0,18.0,0.0,0.0,0.0,0.0],[0.0,0.0,0.0,14.0,0.0,12.0,0.0,0.0,0.0,0.0,0.0,0.0,0.0,0.0,0.0,0.0],[0.0,0.0,0.0,18.0,12.0,0.0,14.0,0.0,0.0,0.0,0.0,14.0,0.0,0.0,0.0,0.0],[0.0,0.0,0.0,0.0,0.0,14.0,0.0,3.0,0.0,0.0,0.0,0.0,0.0,0.0,0.0,3.0],[0.0,0.0,0.0,0.0,0.0,0.0,3.0,0.0,1.0,2.0,0.0,0.0,0.0,0.0,0.0,0.0],[0.0,0.0,0.0,0.0,0.0,0.0,0.0,1.0,0.0,2.0,0.0,0.0,0.0,0.0,0.0,0.0],[0.0,0.0,0.0,0.0,0.0,0.0,0.0,2.0,2.0,0.0,6.0,0.0,0.0,0.0,0.0,4.0],[0.0,0.0,0.0,0.0,0.0,0.0,0.0,0.0,0.0,6.0,0.0,4.0,0.0,0.0,0.0,6.0],[0.0,0.0,25.0,18.0,0.0,14.0,0.0,0.0,0.0,0.0,4.0,0.0,8.0,8.0,8.0,0.0],[0.0,0.0,0.0,0.0,0.0,0.0,0.0,0.0,0.0,0.0,0.0,8.0,0.0,4.0,10.0,0.0],[0.0,0.0,0.0,0.0,0.0,0.0,0.0,0.0,0.0,0.0,0.0,8.0,4.0,0.0,6.0,0.0],[24.0,19.0,20.0,0.0,0.0,0.0,0.0,0.0,0.0,0.0,0.0,8.0,10.0,6.0,0.0,0.0],[0.0,0.0,0.0,0.0,0.0,0.0,3.0,0.0,0.0,4.0,6.0,0.0,0.0,0.0,0.0,0.0]]},\"selected\":{\"id\":\"1636\"},\"selection_policy\":{\"id\":\"1635\"}},\"id\":\"1605\",\"type\":\"ColumnDataSource\"}],\"root_ids\":[\"1638\"]},\"title\":\"Bokeh Application\",\"version\":\"2.2.3\"}};\n",
       "  var render_items = [{\"docid\":\"3ee64ee6-57cc-4ed8-a904-005081d11d2e\",\"root_ids\":[\"1638\"],\"roots\":{\"1638\":\"3ff8c708-4c45-4261-82c7-220ac5865395\"}}];\n",
       "  root.Bokeh.embed.embed_items_notebook(docs_json, render_items);\n",
       "\n",
       "  }\n",
       "  if (root.Bokeh !== undefined) {\n",
       "    embed_document(root);\n",
       "  } else {\n",
       "    var attempts = 0;\n",
       "    var timer = setInterval(function(root) {\n",
       "      if (root.Bokeh !== undefined) {\n",
       "        clearInterval(timer);\n",
       "        embed_document(root);\n",
       "      } else {\n",
       "        attempts++;\n",
       "        if (attempts > 100) {\n",
       "          clearInterval(timer);\n",
       "          console.log(\"Bokeh: ERROR: Unable to run BokehJS code because BokehJS library is missing\");\n",
       "        }\n",
       "      }\n",
       "    }, 10, root)\n",
       "  }\n",
       "})(window);"
      ],
      "application/vnd.bokehjs_exec.v0+json": ""
     },
     "metadata": {
      "application/vnd.bokehjs_exec.v0+json": {
       "id": "1638"
      }
     },
     "output_type": "display_data"
    }
   ],
   "source": [
    "show(vl.assisted_mst_algorithm_plot(G, algorithm='prims', s=0, width=900, height=600))"
   ]
  },
  {
   "cell_type": "markdown",
   "metadata": {},
   "source": [
    "**Q3:** If you made a mistake, an error message would have appeared. Did you make any mistakes?\n",
    "\n",
    "**A:** <font color='blue'> Answers will vary.</font>"
   ]
  },
  {
   "cell_type": "markdown",
   "metadata": {},
   "source": [
    "**Q4:** There are two different colors of nodes in the above graph. Using your observations about the first 5 iterations, explain when each represents.\n",
    "\n",
    "**A:** <font color='blue'>Solid dark blue are visited by the current tree and the others are unvisited.</font>"
   ]
  },
  {
   "cell_type": "markdown",
   "metadata": {},
   "source": [
    "**Q5:** At each iteration of Prim's, among which subset of edges are you selecting a next edge to add. How do you select which one of these to add?\n",
    "\n",
    "**A:** <font color='blue'>The edges that go from a visited node to an unvisited node. You select the cheapest one.</font>"
   ]
  },
  {
   "cell_type": "markdown",
   "metadata": {},
   "source": [
    "**Q6:** Run the cell below and click next until you have a minimum spanning tree. Try to anticipate each of the algorithm’s steps. What is the total cost of this tree, and how does this compare with the original tree? (Hint: the cost of the tree is shown in the bottom left.)\n",
    "\n",
    "**A:** <font color='blue'>The total cost is 103 compared to the cost of 137 for the original tree.</font>"
   ]
  },
  {
   "cell_type": "code",
   "execution_count": 6,
   "metadata": {},
   "outputs": [
    {
     "data": {
      "text/html": [
       "\n",
       "\n",
       "\n",
       "\n",
       "\n",
       "\n",
       "  <div class=\"bk-root\" id=\"4115b61d-2193-4890-bf94-860fc1e06492\" data-root-id=\"1890\"></div>\n"
      ]
     },
     "metadata": {},
     "output_type": "display_data"
    },
    {
     "data": {
      "application/javascript": [
       "(function(root) {\n",
       "  function embed_document(root) {\n",
       "    \n",
       "  var docs_json = {\"13e74d24-8b35-47ed-af5f-55dbd4f802e8\":{\"roots\":{\"references\":[{\"attributes\":{\"children\":[[{\"id\":\"1791\"},0,0],[{\"id\":\"1865\"},1,0],[{\"id\":\"1866\"},2,0]]},\"id\":\"1890\",\"type\":\"GridBox\"},{\"attributes\":{},\"id\":\"1813\",\"type\":\"SaveTool\"},{\"attributes\":{\"source\":{\"id\":\"1851\"}},\"id\":\"1856\",\"type\":\"CDSView\"},{\"attributes\":{},\"id\":\"1882\",\"type\":\"Selection\"},{\"attributes\":{},\"id\":\"1815\",\"type\":\"HelpTool\"},{\"attributes\":{\"line_cap\":\"round\",\"line_color\":{\"value\":\"#404040\"},\"line_width\":{\"value\":5},\"xs\":{\"field\":\"xs\"},\"ys\":{\"field\":\"ys\"}},\"id\":\"1837\",\"type\":\"MultiLine\"},{\"attributes\":{},\"id\":\"1811\",\"type\":\"WheelZoomTool\"},{\"attributes\":{\"data_source\":{\"id\":\"1833\"},\"glyph\":{\"id\":\"1835\"},\"hover_glyph\":{\"id\":\"1837\"},\"level\":\"underlay\",\"muted_glyph\":null,\"nonselection_glyph\":{\"id\":\"1836\"},\"selection_glyph\":null,\"view\":{\"id\":\"1839\"}},\"id\":\"1838\",\"type\":\"GlyphRenderer\"},{\"attributes\":{},\"id\":\"1888\",\"type\":\"UnionRenderers\"},{\"attributes\":{\"data_source\":{\"id\":\"1827\"},\"glyph\":{\"id\":\"1829\"},\"hover_glyph\":null,\"muted_glyph\":null,\"nonselection_glyph\":{\"id\":\"1830\"},\"selection_glyph\":null,\"view\":{\"id\":\"1832\"}},\"id\":\"1831\",\"type\":\"GlyphRenderer\"},{\"attributes\":{\"align\":\"center\",\"text\":\"0\",\"width\":450},\"id\":\"1857\",\"type\":\"Div\"},{\"attributes\":{\"source\":{\"id\":\"1833\"}},\"id\":\"1839\",\"type\":\"CDSView\"},{\"attributes\":{\"active_drag\":null,\"active_inspect\":\"auto\",\"active_multi\":null,\"active_scroll\":null,\"active_tap\":\"auto\",\"logo\":null,\"tools\":[{\"id\":\"1810\"},{\"id\":\"1811\"},{\"id\":\"1812\"},{\"id\":\"1813\"},{\"id\":\"1814\"},{\"id\":\"1815\"},{\"id\":\"1863\"}]},\"id\":\"1817\",\"type\":\"Toolbar\"},{\"attributes\":{\"overlay\":{\"id\":\"1816\"}},\"id\":\"1812\",\"type\":\"BoxZoomTool\"},{\"attributes\":{\"line_cap\":\"round\",\"line_color\":{\"field\":\"line_color\"},\"line_width\":{\"value\":5},\"xs\":{\"field\":\"xs\"},\"ys\":{\"field\":\"ys\"}},\"id\":\"1835\",\"type\":\"MultiLine\"},{\"attributes\":{},\"id\":\"1889\",\"type\":\"Selection\"},{\"attributes\":{\"data\":{\"costs\":[0,4,16,26,40,52,66,69,70,72,75,81,85,93,97,103],\"edge_xs\":[[],[[6,20]],[[6,20],[20,72]],[[6,20],[20,72],[72,111]],[[6,20],[20,72],[72,111],[111,194]],[[6,20],[20,72],[72,111],[111,194],[194,178]],[[6,20],[20,72],[72,111],[111,194],[194,178],[178,199]],[[6,20],[20,72],[72,111],[111,194],[194,178],[178,199],[199,205]],[[6,20],[20,72],[72,111],[111,194],[194,178],[178,199],[199,205],[205,207]],[[6,20],[20,72],[72,111],[111,194],[194,178],[178,199],[199,205],[205,207],[205,198]],[[6,20],[20,72],[72,111],[111,194],[194,178],[178,199],[199,205],[205,207],[205,198],[199,189]],[[6,20],[20,72],[72,111],[111,194],[194,178],[178,199],[199,205],[205,207],[205,198],[199,189],[198,165]],[[6,20],[20,72],[72,111],[111,194],[194,178],[178,199],[199,205],[205,207],[205,198],[199,189],[198,165],[165,157]],[[6,20],[20,72],[72,111],[111,194],[194,178],[178,199],[199,205],[205,207],[205,198],[199,189],[198,165],[165,157],[157,162]],[[6,20],[20,72],[72,111],[111,194],[194,178],[178,199],[199,205],[205,207],[205,198],[199,189],[198,165],[165,157],[157,162],[162,144]],[[6,20],[20,72],[72,111],[111,194],[194,178],[178,199],[199,205],[205,207],[205,198],[199,189],[198,165],[165,157],[157,162],[162,144],[144,127]]],\"edge_ys\":[[],[[71,59]],[[71,59],[59,31]],[[71,59],[59,31],[31,-8]],[[71,59],[59,31],[31,-8],[-8,-8]],[[71,59],[59,31],[31,-8],[-8,-8],[-8,38]],[[71,59],[59,31],[31,-8],[-8,-8],[-8,38],[38,86]],[[71,59],[59,31],[31,-8],[-8,-8],[-8,38],[38,86],[86,96]],[[71,59],[59,31],[31,-8],[-8,-8],[-8,38],[38,86],[86,96],[96,106]],[[71,59],[59,31],[31,-8],[-8,-8],[-8,38],[38,86],[86,96],[96,106],[96,103]],[[71,59],[59,31],[31,-8],[-8,-8],[-8,38],[38,86],[86,96],[96,106],[96,103],[86,93]],[[71,59],[59,31],[31,-8],[-8,-8],[-8,38],[38,86],[86,96],[96,106],[96,103],[86,93],[103,97]],[[71,59],[59,31],[31,-8],[-8,-8],[-8,38],[38,86],[86,96],[96,106],[96,103],[86,93],[103,97],[97,84]],[[71,59],[59,31],[31,-8],[-8,-8],[-8,38],[38,86],[86,96],[96,106],[96,103],[86,93],[103,97],[97,84],[84,112]],[[71,59],[59,31],[31,-8],[-8,-8],[-8,38],[38,86],[86,96],[96,106],[96,103],[86,93],[103,97],[97,84],[84,112],[112,112]],[[71,59],[59,31],[31,-8],[-8,-8],[-8,38],[38,86],[86,96],[96,106],[96,103],[86,93],[103,97],[97,84],[84,112],[112,112],[112,97]]],\"nodes\":[[],[0,1],[0,1,2],[0,1,2,3],[0,1,2,3,4],[0,1,2,3,4,5],[0,1,2,3,4,5,6],[0,1,2,3,4,5,6,7],[0,1,2,3,4,5,6,7,8],[0,1,2,3,4,5,6,7,8,9],[0,1,2,3,4,5,6,7,8,9,15],[0,1,2,3,4,5,6,7,8,9,10,15],[0,1,2,3,4,5,6,7,8,9,10,11,15],[0,1,2,3,4,5,6,7,8,9,10,11,12,15],[0,1,2,3,4,5,6,7,8,9,10,11,12,13,15],[0,1,2,3,4,5,6,7,8,9,10,11,12,13,14,15]]},\"selected\":{\"id\":\"1889\"},\"selection_policy\":{\"id\":\"1888\"}},\"id\":\"1858\",\"type\":\"ColumnDataSource\"},{\"attributes\":{},\"id\":\"1810\",\"type\":\"PanTool\"},{\"attributes\":{\"line_cap\":\"round\",\"line_color\":{\"field\":\"line_color\"},\"line_width\":{\"value\":5},\"xs\":{\"field\":\"xs\"},\"ys\":{\"field\":\"ys\"}},\"id\":\"1836\",\"type\":\"MultiLine\"},{\"attributes\":{},\"id\":\"1881\",\"type\":\"UnionRenderers\"},{\"attributes\":{\"button_type\":\"primary\",\"icon\":null,\"js_event_callbacks\":{\"button_click\":[{\"id\":\"1860\"}]},\"label\":\"Next\",\"max_width\":450,\"sizing_mode\":\"stretch_width\",\"width_policy\":\"fit\"},\"id\":\"1859\",\"type\":\"Button\"},{\"attributes\":{\"align\":\"center\",\"text\":\"0\",\"width\":900},\"id\":\"1848\",\"type\":\"Div\"},{\"attributes\":{},\"id\":\"1814\",\"type\":\"ResetTool\"},{\"attributes\":{},\"id\":\"1798\",\"type\":\"LinearScale\"},{\"attributes\":{\"data\":{\"xs\":[[11.867393549830293,14.1326064501697],[64.2132081933475,68.78679180665253],[43.98457472802465,48.01542527197538],[71.31392773909235,75.68607226090765],[100.9065151137992,98.09348488620083],[140.5887402418824,143.4112597581176],[142.37870743870653,146.62129256129347],[134.3832167600553,136.6167832399447],[89.9311343589464,93.06886564105363],[112.57004046214576,116.42995953785424],[150.1483,154.85170000000002],[142.6336759201498,146.3663240798502],[133.03894314211007,134.96105685788993],[166.61006419357236,168.38993580642764],[160.24329823001975,161.75670176998028],[159.25243123412935,159.74756876587068],[151.1019039619186,149.89809603808138],[186.69937892443528,185.30062107556475],[187.6421179461765,189.35788205382346],[201.25793580143863,202.74206419856134],[195.23521488209917,192.7647851179008],[205.72359827057616,206.2764017294238],[202.54591042736908,200.45408957263095],[192.51616586095076,194.4838341390492],[178.54133338379128,175.4586666162087],[203.96931436315347,201.03068563684658],[183.03645249636594,179.96354750363403],[154.5678,151.4322]],\"ys\":[[65.9708055287169,64.02919447128312],[83.50862324815732,84.4913767518427],[46.085228992602126,43.914771007397874],[77.22363788864963,78.77636211135038],[65.68781813655903,62.31218186344098],[91.11154589518429,89.88845410481571],[103.59087461658854,105.40912538341149],[103.51460302357822,105.48539697642181],[13.06886564105362,9.93113435894638],[56.296613464632046,58.703386535367954],[-7.999999999999998,-7.999999999999998],[13.718643169058069,16.281356830941924],[36.07788628422017,39.922113715779815],[62.949383195031956,59.05061680496806],[89.27035962378204,91.72964037621796],[96.61361491112429,99.38638508887571],[96.70359146663688,99.29640853336312],[12.989285592248606,17.010714407751394],[60.03912673411776,63.960873265882256],[89.76322633573106,92.23677366426892],[88.63534958253058,90.36465041746942],[99.61799135288078,102.38200864711922],[98.45408957263092,100.54591042736905],[96.90685095661199,99.09314904338801],[94.74311110270146,95.25688889729855],[104.98977145438448,104.01022854561555],[100.27935499933926,99.72064500066074],[112.00000000000001,112.00000000000001]]},\"selected\":{\"id\":\"1880\"},\"selection_policy\":{\"id\":\"1879\"}},\"id\":\"1840\",\"type\":\"ColumnDataSource\"},{\"attributes\":{\"args\":{\"cost\":{\"id\":\"1857\"},\"done\":{\"id\":\"1850\"},\"edge_subset_src\":{\"id\":\"1851\"},\"k\":{\"id\":\"1849\"},\"n\":{\"id\":\"1848\"},\"nodes_src\":{\"id\":\"1827\"},\"source\":{\"id\":\"1858\"}},\"code\":\"/* Color Theme -- Using Google's Material Design Color System\\n   https://material.io/design/color/the-color-system.html */\\n\\n/** @constant {string} */\\nvar PRIMARY_COLOR = '#1565c0'\\n/** @constant {string} */\\nvar PRIMARY_LIGHT_COLOR = '#5e92f3'\\n/** @constant {string} */\\nvar PRIMARY_DARK_COLOR = '#003c8f'\\n/** @constant {string} */\\nvar SECONDARY_COLOR = '#d50000'\\n/** @constant {string} */\\nvar SECONDARY_LIGHT_COLOR = '#ff5131'\\n/** @constant {string} */\\nvar SECONDARY_DARK_COLOR = '#9b0000'\\n\\n// Grayscale\\n/** @constant {string} */\\nvar TERTIARY_COLOR = '#DFDFDF'\\n/**\\n *  Jupyter Notebook: 'white', Sphinx: '#FCFCFC'\\n *  @constant {string}\\n */\\nvar TERTIARY_LIGHT_COLOR = 'white'\\n/** @constant {string} */\\nvar TERTIARY_DARK_COLOR = '#404040'\\n/** @type {integer} */\\nvar iteration = 0\\n\\n\\n/**\\n * Increment iteration and update n Div.\\n */\\nfunction increment_iteration() {\\n    if ((parseInt(n.text) + 1) < parseInt(k.text)) {\\n        n.text = (parseInt(n.text) + 1).toString()\\n    }\\n    iteration = parseInt(n.text)\\n}\\n\\n/**\\n * Decrement iteration and update n Div.\\n */\\nfunction decrement_iteration() {\\n    if ((parseInt(n.text) - 1) >= 0) {\\n        n.text = (parseInt(n.text) - 1).toString()\\n    }\\n    iteration = parseInt(n.text)\\n}\\n\\n/**\\n * Update which nodes are highlighted given the current iteration.\\n */\\nfunction nodes_update() {\\n    var in_tree = source.data['nodes'][iteration]\\n\\n    for (let i = 0; i < nodes_src.data['line_color'].length ; i++) {\\n        if (in_tree.includes(i)) {\\n            nodes_src.data['fill_color'][i] = PRIMARY_DARK_COLOR\\n            nodes_src.data['line_color'][i] = PRIMARY_DARK_COLOR\\n        } else {\\n            nodes_src.data['fill_color'][i] = PRIMARY_LIGHT_COLOR\\n            nodes_src.data['line_color'][i] = PRIMARY_DARK_COLOR\\n        }\\n    }\\n\\n    nodes_src.change.emit()\\n}\\n\\n/**\\n * Update which subset of edges are highlighted given the current iteration.\\n */\\nfunction edge_subset_update() {\\n    edge_subset_src.data['xs'] = source.data['edge_xs'][iteration]\\n    edge_subset_src.data['ys'] = source.data['edge_ys'][iteration]\\n    edge_subset_src.change.emit()\\n}\\n\\n/**\\n * Update which swaps are updated given the current iteration\\n */\\nfunction swaps_update() {\\n    swaps_src.data['swaps_before_x'] = source.data['swaps_before_x'][iteration]\\n    swaps_src.data['swaps_before_y'] = source.data['swaps_before_y'][iteration]\\n    swaps_src.data['swaps_after_x'] = source.data['swaps_after_x'][iteration]\\n    swaps_src.data['swaps_after_y'] = source.data['swaps_after_y'][iteration]\\n    swaps_src.change.emit()\\n}\\n\\n/**\\n * Update which table is shown given the current iteration.\\n */\\nfunction table_update() {\\n    table_src.data = source.data['tables'][iteration]\\n}\\n\\n/**\\n * Update which cost is shown given the current iteration.\\n */\\nfunction cost_update() {\\n    cost.text = source.data['costs'][iteration].toFixed(1)\\n}\\n\\n/**\\n * Update done Div based on the current iteration.\\n */\\nfunction done_update() {\\n    if (iteration == parseInt(k.text) - 1) {\\n        done.text = \\\"done.\\\"\\n    } else {\\n        done.text = \\\"\\\"\\n    }\\n}\\n\\n// BEGIN FUNCTION CALLING\\nincrement_iteration()\\ndone_update()\\ncost_update()\\nedge_subset_update()\\nnodes_update()\\n\"},\"id\":\"1860\",\"type\":\"CustomJS\"},{\"attributes\":{\"button_type\":\"primary\",\"icon\":null,\"js_event_callbacks\":{\"button_click\":[{\"id\":\"1862\"}]},\"label\":\"Previous\",\"max_width\":450,\"sizing_mode\":\"stretch_width\",\"width_policy\":\"fit\"},\"id\":\"1861\",\"type\":\"Button\"},{\"attributes\":{\"data\":{\"text\":[4,24,12,19,20,8,10,6,10,25,14,18,18,14,4,8,8,12,14,3,3,1,2,4,6,2,6,4],\"x\":{\"__ndarray__\":\"/v//////KUAAAAAAAKBQQAEAAAAAAEdAAAAAAABgUkAAAAAAAOBYQAAAAAAAwGFAAAAAAAAQYkAAAAAAAPBgQAAAAAAA4FZAAAAAAACgXEABAAAAABBjQAAAAAAAEGJAAAAAAADAYEAAAAAAAPBkQAAAAAAAIGRAAAAAAADwY0D//////89iQAAAAAAAQGdAAAAAAACQZ0D//////z9pQAAAAAAAQGhAAAAAAADAaUAAAAAAADBpQAAAAAAAMGhA//////8fZkABAAAAAFBpQAAAAAAAsGZAAAAAAAAgY0A=\",\"dtype\":\"float64\",\"order\":\"little\",\"shape\":[28]},\"y\":{\"__ndarray__\":\"AAAAAABAUEAAAAAAAABVQAAAAAAAgEZAAAAAAACAU0AAAAAAAABQQAAAAAAAoFZAAAAAAAAgWkAAAAAAACBaQAAAAAAAACdAAAAAAADATED+//////8fwAAAAAAAAC5AAAAAAAAAQ0ACAAAAAIBOQAAAAAAAoFZAAAAAAACAWEAAAAAAAIBYQAAAAAAAAC5AAgAAAAAAT0AAAAAAAMBWQAAAAAAAYFZAAAAAAABAWUD//////99YQAAAAAAAgFhAAAAAAADAV0AAAAAAACBaQAAAAAAAAFlAAQAAAAAAXEA=\",\"dtype\":\"float64\",\"order\":\"little\",\"shape\":[28]}},\"selected\":{\"id\":\"1873\"},\"selection_policy\":{\"id\":\"1872\"}},\"id\":\"1845\",\"type\":\"ColumnDataSource\"},{\"attributes\":{\"line_color\":{\"value\":\"white\"},\"line_width\":{\"value\":6},\"xs\":{\"field\":\"xs\"},\"ys\":{\"field\":\"ys\"}},\"id\":\"1842\",\"type\":\"MultiLine\"},{\"attributes\":{\"args\":{\"cost\":{\"id\":\"1857\"},\"done\":{\"id\":\"1850\"},\"edge_subset_src\":{\"id\":\"1851\"},\"k\":{\"id\":\"1849\"},\"n\":{\"id\":\"1848\"},\"nodes_src\":{\"id\":\"1827\"},\"source\":{\"id\":\"1858\"}},\"code\":\"/* Color Theme -- Using Google's Material Design Color System\\n   https://material.io/design/color/the-color-system.html */\\n\\n/** @constant {string} */\\nvar PRIMARY_COLOR = '#1565c0'\\n/** @constant {string} */\\nvar PRIMARY_LIGHT_COLOR = '#5e92f3'\\n/** @constant {string} */\\nvar PRIMARY_DARK_COLOR = '#003c8f'\\n/** @constant {string} */\\nvar SECONDARY_COLOR = '#d50000'\\n/** @constant {string} */\\nvar SECONDARY_LIGHT_COLOR = '#ff5131'\\n/** @constant {string} */\\nvar SECONDARY_DARK_COLOR = '#9b0000'\\n\\n// Grayscale\\n/** @constant {string} */\\nvar TERTIARY_COLOR = '#DFDFDF'\\n/**\\n *  Jupyter Notebook: 'white', Sphinx: '#FCFCFC'\\n *  @constant {string}\\n */\\nvar TERTIARY_LIGHT_COLOR = 'white'\\n/** @constant {string} */\\nvar TERTIARY_DARK_COLOR = '#404040'\\n/** @type {integer} */\\nvar iteration = 0\\n\\n\\n/**\\n * Increment iteration and update n Div.\\n */\\nfunction increment_iteration() {\\n    if ((parseInt(n.text) + 1) < parseInt(k.text)) {\\n        n.text = (parseInt(n.text) + 1).toString()\\n    }\\n    iteration = parseInt(n.text)\\n}\\n\\n/**\\n * Decrement iteration and update n Div.\\n */\\nfunction decrement_iteration() {\\n    if ((parseInt(n.text) - 1) >= 0) {\\n        n.text = (parseInt(n.text) - 1).toString()\\n    }\\n    iteration = parseInt(n.text)\\n}\\n\\n/**\\n * Update which nodes are highlighted given the current iteration.\\n */\\nfunction nodes_update() {\\n    var in_tree = source.data['nodes'][iteration]\\n\\n    for (let i = 0; i < nodes_src.data['line_color'].length ; i++) {\\n        if (in_tree.includes(i)) {\\n            nodes_src.data['fill_color'][i] = PRIMARY_DARK_COLOR\\n            nodes_src.data['line_color'][i] = PRIMARY_DARK_COLOR\\n        } else {\\n            nodes_src.data['fill_color'][i] = PRIMARY_LIGHT_COLOR\\n            nodes_src.data['line_color'][i] = PRIMARY_DARK_COLOR\\n        }\\n    }\\n\\n    nodes_src.change.emit()\\n}\\n\\n/**\\n * Update which subset of edges are highlighted given the current iteration.\\n */\\nfunction edge_subset_update() {\\n    edge_subset_src.data['xs'] = source.data['edge_xs'][iteration]\\n    edge_subset_src.data['ys'] = source.data['edge_ys'][iteration]\\n    edge_subset_src.change.emit()\\n}\\n\\n/**\\n * Update which swaps are updated given the current iteration\\n */\\nfunction swaps_update() {\\n    swaps_src.data['swaps_before_x'] = source.data['swaps_before_x'][iteration]\\n    swaps_src.data['swaps_before_y'] = source.data['swaps_before_y'][iteration]\\n    swaps_src.data['swaps_after_x'] = source.data['swaps_after_x'][iteration]\\n    swaps_src.data['swaps_after_y'] = source.data['swaps_after_y'][iteration]\\n    swaps_src.change.emit()\\n}\\n\\n/**\\n * Update which table is shown given the current iteration.\\n */\\nfunction table_update() {\\n    table_src.data = source.data['tables'][iteration]\\n}\\n\\n/**\\n * Update which cost is shown given the current iteration.\\n */\\nfunction cost_update() {\\n    cost.text = source.data['costs'][iteration].toFixed(1)\\n}\\n\\n/**\\n * Update done Div based on the current iteration.\\n */\\nfunction done_update() {\\n    if (iteration == parseInt(k.text) - 1) {\\n        done.text = \\\"done.\\\"\\n    } else {\\n        done.text = \\\"\\\"\\n    }\\n}\\n\\n// BEGIN FUNCTION CALLING\\ndecrement_iteration()\\ndone_update()\\ncost_update()\\nedge_subset_update()\\nnodes_update()\\n\"},\"id\":\"1862\",\"type\":\"CustomJS\"},{\"attributes\":{\"source\":{\"id\":\"1840\"}},\"id\":\"1844\",\"type\":\"CDSView\"},{\"attributes\":{\"background_fill_color\":null,\"below\":[{\"id\":\"1802\"}],\"border_fill_color\":null,\"center\":[{\"id\":\"1805\"},{\"id\":\"1809\"},{\"id\":\"1846\"}],\"left\":[{\"id\":\"1806\"}],\"outline_line_color\":null,\"plot_width\":900,\"renderers\":[{\"id\":\"1831\"},{\"id\":\"1838\"},{\"id\":\"1843\"},{\"id\":\"1855\"}],\"title\":{\"id\":\"1792\"},\"toolbar\":{\"id\":\"1817\"},\"toolbar_location\":null,\"x_range\":{\"id\":\"1794\"},\"x_scale\":{\"id\":\"1798\"},\"y_range\":{\"id\":\"1796\"},\"y_scale\":{\"id\":\"1800\"}},\"id\":\"1791\",\"subtype\":\"Figure\",\"type\":\"Plot\"},{\"attributes\":{\"callback\":null,\"renderers\":[{\"id\":\"1831\"}],\"tooltips\":[[\"Index\",\"$index\"],[\"Name\",\"@name\"]]},\"id\":\"1863\",\"type\":\"HoverTool\"},{\"attributes\":{\"text\":\"\"},\"id\":\"1792\",\"type\":\"Title\"},{\"attributes\":{},\"id\":\"1878\",\"type\":\"Selection\"},{\"attributes\":{\"data_source\":{\"id\":\"1840\"},\"glyph\":{\"id\":\"1841\"},\"hover_glyph\":null,\"level\":\"guide\",\"muted_glyph\":null,\"nonselection_glyph\":{\"id\":\"1842\"},\"selection_glyph\":null,\"view\":{\"id\":\"1844\"}},\"id\":\"1843\",\"type\":\"GlyphRenderer\"},{\"attributes\":{\"data\":{\"fill_color\":[\"#5e92f3\",\"#5e92f3\",\"#5e92f3\",\"#5e92f3\",\"#5e92f3\",\"#5e92f3\",\"#5e92f3\",\"#5e92f3\",\"#5e92f3\",\"#5e92f3\",\"#5e92f3\",\"#5e92f3\",\"#5e92f3\",\"#5e92f3\",\"#5e92f3\",\"#5e92f3\"],\"line_color\":[\"#003c8f\",\"#003c8f\",\"#003c8f\",\"#003c8f\",\"#003c8f\",\"#003c8f\",\"#003c8f\",\"#003c8f\",\"#003c8f\",\"#003c8f\",\"#003c8f\",\"#003c8f\",\"#003c8f\",\"#003c8f\",\"#003c8f\",\"#003c8f\"],\"line_width\":[3,3,3,3,3,3,3,3,3,3,3,3,3,3,3,3],\"x\":[6,20,72,111,194,178,199,205,207,198,165,157,162,144,127,189],\"y\":[71,59,31,-8,-8,38,86,96,106,103,97,84,112,112,97,93]},\"selected\":{\"id\":\"1876\"},\"selection_policy\":{\"id\":\"1875\"}},\"id\":\"1827\",\"type\":\"ColumnDataSource\"},{\"attributes\":{\"children\":[{\"id\":\"1861\"},{\"id\":\"1859\"}],\"max_width\":900,\"sizing_mode\":\"stretch_both\"},\"id\":\"1865\",\"type\":\"Row\"},{\"attributes\":{\"line_color\":{\"value\":\"white\"},\"line_width\":{\"value\":6},\"xs\":{\"field\":\"xs\"},\"ys\":{\"field\":\"ys\"}},\"id\":\"1841\",\"type\":\"MultiLine\"},{\"attributes\":{\"bottom_units\":\"screen\",\"fill_alpha\":0.5,\"fill_color\":\"lightgrey\",\"left_units\":\"screen\",\"level\":\"overlay\",\"line_alpha\":1.0,\"line_color\":\"black\",\"line_dash\":[4,4],\"line_width\":2,\"right_units\":\"screen\",\"top_units\":\"screen\"},\"id\":\"1816\",\"type\":\"BoxAnnotation\"},{\"attributes\":{\"children\":[{\"id\":\"1857\"},{\"id\":\"1850\"}]},\"id\":\"1866\",\"type\":\"Row\"},{\"attributes\":{\"data\":{\"xs\":[],\"ys\":[]},\"selected\":{\"id\":\"1882\"},\"selection_policy\":{\"id\":\"1881\"}},\"id\":\"1851\",\"type\":\"ColumnDataSource\"},{\"attributes\":{\"source\":{\"id\":\"1845\"},\"text_align\":\"center\",\"text_baseline\":\"middle\",\"text_color\":{\"value\":\"black\"},\"text_font_size\":{\"value\":\"13px\"},\"x\":{\"field\":\"x\"},\"y\":{\"field\":\"y\"}},\"id\":\"1846\",\"type\":\"LabelSet\"},{\"attributes\":{\"align\":\"center\",\"width\":450},\"id\":\"1850\",\"type\":\"Div\"},{\"attributes\":{\"end\":122.2,\"start\":-18.200000000000003},\"id\":\"1796\",\"type\":\"Range1d\"},{\"attributes\":{},\"id\":\"1868\",\"type\":\"BasicTickFormatter\"},{\"attributes\":{\"formatter\":{\"id\":\"1868\"},\"ticker\":{\"id\":\"1807\"},\"visible\":false},\"id\":\"1806\",\"type\":\"LinearAxis\"},{\"attributes\":{},\"id\":\"1800\",\"type\":\"LinearScale\"},{\"attributes\":{},\"id\":\"1870\",\"type\":\"BasicTickFormatter\"},{\"attributes\":{},\"id\":\"1876\",\"type\":\"Selection\"},{\"attributes\":{\"data\":{\"line_color\":[\"#DFDFDF\",\"#DFDFDF\",\"#DFDFDF\",\"#DFDFDF\",\"#DFDFDF\",\"#DFDFDF\",\"#DFDFDF\",\"#DFDFDF\",\"#DFDFDF\",\"#DFDFDF\",\"#DFDFDF\",\"#DFDFDF\",\"#DFDFDF\",\"#DFDFDF\",\"#DFDFDF\",\"#DFDFDF\",\"#DFDFDF\",\"#DFDFDF\",\"#DFDFDF\",\"#DFDFDF\",\"#DFDFDF\",\"#DFDFDF\",\"#DFDFDF\",\"#DFDFDF\",\"#DFDFDF\",\"#DFDFDF\",\"#DFDFDF\",\"#DFDFDF\"],\"u\":[0,0,1,1,14,14,14,14,2,2,3,3,3,11,11,11,11,4,5,6,6,7,7,15,15,8,9,12],\"v\":[1,14,2,14,2,11,12,13,3,11,4,5,11,5,10,12,13,5,6,7,15,8,9,9,10,9,10,13],\"weight\":[4,24,12,19,20,8,10,6,10,25,14,18,18,14,4,8,8,12,14,3,3,1,2,4,6,2,6,4],\"xs\":[[6,20],[6,127],[20,72],[20,127],[127,72],[127,157],[127,162],[127,144],[72,111],[72,157],[111,194],[111,178],[111,157],[157,178],[157,165],[157,162],[157,144],[194,178],[178,199],[199,205],[199,189],[205,207],[205,198],[189,198],[189,165],[207,198],[198,165],[162,144]],\"ys\":[[71,59],[71,97],[59,31],[59,97],[97,31],[97,84],[97,112],[97,112],[31,-8],[31,84],[-8,-8],[-8,38],[-8,84],[84,38],[84,97],[84,112],[84,112],[-8,38],[38,86],[86,96],[86,93],[96,106],[96,103],[93,103],[93,97],[106,103],[103,97],[112,112]]},\"selected\":{\"id\":\"1878\"},\"selection_policy\":{\"id\":\"1877\"}},\"id\":\"1833\",\"type\":\"ColumnDataSource\"},{\"attributes\":{\"formatter\":{\"id\":\"1870\"},\"ticker\":{\"id\":\"1803\"},\"visible\":false},\"id\":\"1802\",\"type\":\"LinearAxis\"},{\"attributes\":{\"fill_color\":{\"field\":\"fill_color\"},\"line_color\":{\"field\":\"line_color\"},\"line_width\":{\"field\":\"line_width\"},\"size\":{\"units\":\"screen\",\"value\":11},\"x\":{\"field\":\"x\"},\"y\":{\"field\":\"y\"}},\"id\":\"1830\",\"type\":\"Circle\"},{\"attributes\":{},\"id\":\"1872\",\"type\":\"UnionRenderers\"},{\"attributes\":{\"align\":\"center\",\"text\":\"16\",\"width\":900},\"id\":\"1849\",\"type\":\"Div\"},{\"attributes\":{},\"id\":\"1803\",\"type\":\"BasicTicker\"},{\"attributes\":{},\"id\":\"1875\",\"type\":\"UnionRenderers\"},{\"attributes\":{},\"id\":\"1873\",\"type\":\"Selection\"},{\"attributes\":{\"line_cap\":\"round\",\"line_color\":{\"value\":\"#404040\"},\"line_width\":{\"value\":5},\"xs\":{\"field\":\"xs\"},\"ys\":{\"field\":\"ys\"}},\"id\":\"1853\",\"type\":\"MultiLine\"},{\"attributes\":{\"source\":{\"id\":\"1827\"}},\"id\":\"1832\",\"type\":\"CDSView\"},{\"attributes\":{\"axis\":{\"id\":\"1802\"},\"grid_line_color\":null,\"ticker\":null},\"id\":\"1805\",\"type\":\"Grid\"},{\"attributes\":{},\"id\":\"1879\",\"type\":\"UnionRenderers\"},{\"attributes\":{},\"id\":\"1807\",\"type\":\"BasicTicker\"},{\"attributes\":{\"fill_color\":{\"field\":\"fill_color\"},\"line_color\":{\"field\":\"line_color\"},\"line_width\":{\"field\":\"line_width\"},\"size\":{\"units\":\"screen\",\"value\":11},\"x\":{\"field\":\"x\"},\"y\":{\"field\":\"y\"}},\"id\":\"1829\",\"type\":\"Circle\"},{\"attributes\":{\"line_alpha\":{\"value\":0.1},\"line_cap\":\"round\",\"line_color\":{\"value\":\"#404040\"},\"line_width\":{\"value\":5},\"xs\":{\"field\":\"xs\"},\"ys\":{\"field\":\"ys\"}},\"id\":\"1854\",\"type\":\"MultiLine\"},{\"attributes\":{\"end\":224.085,\"start\":-11.085},\"id\":\"1794\",\"type\":\"Range1d\"},{\"attributes\":{\"data_source\":{\"id\":\"1851\"},\"glyph\":{\"id\":\"1853\"},\"hover_glyph\":null,\"level\":\"underlay\",\"muted_glyph\":null,\"nonselection_glyph\":{\"id\":\"1854\"},\"selection_glyph\":null,\"view\":{\"id\":\"1856\"}},\"id\":\"1855\",\"type\":\"GlyphRenderer\"},{\"attributes\":{\"axis\":{\"id\":\"1806\"},\"dimension\":1,\"grid_line_color\":null,\"ticker\":null},\"id\":\"1809\",\"type\":\"Grid\"},{\"attributes\":{},\"id\":\"1880\",\"type\":\"Selection\"},{\"attributes\":{},\"id\":\"1877\",\"type\":\"UnionRenderers\"}],\"root_ids\":[\"1890\"]},\"title\":\"Bokeh Application\",\"version\":\"2.2.3\"}};\n",
       "  var render_items = [{\"docid\":\"13e74d24-8b35-47ed-af5f-55dbd4f802e8\",\"root_ids\":[\"1890\"],\"roots\":{\"1890\":\"4115b61d-2193-4890-bf94-860fc1e06492\"}}];\n",
       "  root.Bokeh.embed.embed_items_notebook(docs_json, render_items);\n",
       "\n",
       "  }\n",
       "  if (root.Bokeh !== undefined) {\n",
       "    embed_document(root);\n",
       "  } else {\n",
       "    var attempts = 0;\n",
       "    var timer = setInterval(function(root) {\n",
       "      if (root.Bokeh !== undefined) {\n",
       "        clearInterval(timer);\n",
       "        embed_document(root);\n",
       "      } else {\n",
       "        attempts++;\n",
       "        if (attempts > 100) {\n",
       "          clearInterval(timer);\n",
       "          console.log(\"Bokeh: ERROR: Unable to run BokehJS code because BokehJS library is missing\");\n",
       "        }\n",
       "      }\n",
       "    }, 10, root)\n",
       "  }\n",
       "})(window);"
      ],
      "application/vnd.bokehjs_exec.v0+json": ""
     },
     "metadata": {
      "application/vnd.bokehjs_exec.v0+json": {
       "id": "1890"
      }
     },
     "output_type": "display_data"
    }
   ],
   "source": [
    "show(vl.mst_algorithm_plot(G, algorithm='prims', i=0, width=900, height=600))"
   ]
  },
  {
   "cell_type": "markdown",
   "metadata": {},
   "source": [
    "Now we turn to another algorithm which is called Kruskal's\n",
    "Algorithm. This is an example of a so- called Greedy Algorithm,\n",
    "i.e. an algorithm that always takes the step that \"looks best\"\n",
    "currently. Greedy algorithms are widely used in computer science\n",
    "beyond just solving the MST. Kruskal's algorithm works as follows:\n",
    "\n",
    "1. Begin with the cheapest edge (break ties arbitrarily).\n",
    "2. At each step, add the cheapest edge not already in the system that does not create a cycle, or a loop in the system.\n",
    "3. Continue adding edges until you get a spanning tree."
   ]
  },
  {
   "cell_type": "code",
   "execution_count": 7,
   "metadata": {},
   "outputs": [
    {
     "data": {
      "text/html": [
       "\n",
       "\n",
       "\n",
       "\n",
       "\n",
       "\n",
       "  <div class=\"bk-root\" id=\"8dfb134c-469e-4d13-a051-613dc66787ba\" data-root-id=\"2137\"></div>\n"
      ]
     },
     "metadata": {},
     "output_type": "display_data"
    },
    {
     "data": {
      "application/javascript": [
       "(function(root) {\n",
       "  function embed_document(root) {\n",
       "    \n",
       "  var docs_json = {\"5e7422cd-2df0-4fa2-9174-3032e4591837\":{\"roots\":{\"references\":[{\"attributes\":{\"children\":[[{\"id\":\"2061\"},0,0],[{\"id\":\"2121\"},1,0]]},\"id\":\"2137\",\"type\":\"GridBox\"},{\"attributes\":{\"children\":[{\"id\":\"2118\"}]},\"id\":\"2121\",\"type\":\"Row\"},{\"attributes\":{},\"id\":\"2084\",\"type\":\"ResetTool\"},{\"attributes\":{},\"id\":\"2131\",\"type\":\"Selection\"},{\"attributes\":{\"data_source\":{\"id\":\"2097\"},\"glyph\":{\"id\":\"2099\"},\"hover_glyph\":null,\"muted_glyph\":null,\"nonselection_glyph\":{\"id\":\"2100\"},\"selection_glyph\":null,\"view\":{\"id\":\"2102\"}},\"id\":\"2101\",\"type\":\"GlyphRenderer\"},{\"attributes\":{},\"id\":\"2085\",\"type\":\"HelpTool\"},{\"attributes\":{},\"id\":\"2132\",\"type\":\"UnionRenderers\"},{\"attributes\":{\"end\":122.2,\"start\":-18.200000000000003},\"id\":\"2066\",\"type\":\"Range1d\"},{\"attributes\":{},\"id\":\"2068\",\"type\":\"LinearScale\"},{\"attributes\":{\"source\":{\"id\":\"2097\"}},\"id\":\"2102\",\"type\":\"CDSView\"},{\"attributes\":{\"formatter\":{\"id\":\"2125\"},\"ticker\":{\"id\":\"2073\"},\"visible\":false},\"id\":\"2072\",\"type\":\"LinearAxis\"},{\"attributes\":{\"fill_color\":{\"field\":\"fill_color\"},\"line_color\":{\"field\":\"line_color\"},\"line_width\":{\"field\":\"line_width\"},\"size\":{\"units\":\"screen\",\"value\":11},\"x\":{\"field\":\"x\"},\"y\":{\"field\":\"y\"}},\"id\":\"2099\",\"type\":\"Circle\"},{\"attributes\":{},\"id\":\"2133\",\"type\":\"Selection\"},{\"attributes\":{},\"id\":\"2073\",\"type\":\"BasicTicker\"},{\"attributes\":{},\"id\":\"2130\",\"type\":\"UnionRenderers\"},{\"attributes\":{\"active_drag\":null,\"active_inspect\":\"auto\",\"active_multi\":null,\"active_scroll\":null,\"active_tap\":\"auto\",\"logo\":null,\"tools\":[{\"id\":\"2080\"},{\"id\":\"2081\"},{\"id\":\"2082\"},{\"id\":\"2083\"},{\"id\":\"2084\"},{\"id\":\"2085\"},{\"id\":\"2119\"}]},\"id\":\"2087\",\"type\":\"Toolbar\"},{\"attributes\":{\"data\":{\"fill_color\":[\"#5e92f3\",\"#5e92f3\",\"#5e92f3\",\"#5e92f3\",\"#5e92f3\",\"#5e92f3\",\"#5e92f3\",\"#5e92f3\",\"#5e92f3\",\"#5e92f3\",\"#5e92f3\",\"#5e92f3\",\"#5e92f3\",\"#5e92f3\",\"#5e92f3\",\"#5e92f3\"],\"line_color\":[\"#003c8f\",\"#003c8f\",\"#003c8f\",\"#003c8f\",\"#003c8f\",\"#003c8f\",\"#003c8f\",\"#003c8f\",\"#003c8f\",\"#003c8f\",\"#003c8f\",\"#003c8f\",\"#003c8f\",\"#003c8f\",\"#003c8f\",\"#003c8f\"],\"line_width\":[3,3,3,3,3,3,3,3,3,3,3,3,3,3,3,3],\"x\":[6,20,72,111,194,178,199,205,207,198,165,157,162,144,127,189],\"y\":[71,59,31,-8,-8,38,86,96,106,103,97,84,112,112,97,93]},\"selected\":{\"id\":\"2131\"},\"selection_policy\":{\"id\":\"2130\"}},\"id\":\"2097\",\"type\":\"ColumnDataSource\"},{\"attributes\":{\"fill_color\":{\"field\":\"fill_color\"},\"line_color\":{\"field\":\"line_color\"},\"line_width\":{\"field\":\"line_width\"},\"size\":{\"units\":\"screen\",\"value\":11},\"x\":{\"field\":\"x\"},\"y\":{\"field\":\"y\"}},\"id\":\"2100\",\"type\":\"Circle\"},{\"attributes\":{},\"id\":\"2134\",\"type\":\"UnionRenderers\"},{\"attributes\":{},\"id\":\"2070\",\"type\":\"LinearScale\"},{\"attributes\":{},\"id\":\"2135\",\"type\":\"Selection\"},{\"attributes\":{\"data\":{\"xs\":[[11.301090324745442,14.698909675254566],[63.069812290021225,69.93018770997878],[42.976862092036946,49.02313790796307],[70.22089160863857,76.77910839136149],[101.60977267069882,97.39022732930124],[139.8831103628236,144.11688963717637],[141.31806115805978,147.68193884194022],[133.82482514008294,137.17517485991706],[89.14670153841959,93.85329846158044],[111.6050606932186,117.3949393067814],[148.97244999999998,156.02755],[141.7005138802247,147.2994861197753],[132.55841471316512,135.44158528683488],[166.16509629035858,168.83490370964145],[159.86494734502958,162.13505265497042],[159.128646851194,159.87135314880598],[151.4028559428779,149.5971440571221],[187.04906838665292,184.9509316133471],[187.21317691926478,189.78682308073522],[200.88690370215798,203.11309629784205],[195.85282232314876,192.14717767685121],[205.58539740586426,206.41460259413577],[203.06886564105358,199.9311343589464],[192.02424879142615,194.9757512085738],[179.31200007568697,174.68799992431306],[204.7039715447302,200.29602845526986],[183.80467874454894,179.19532125545106],[155.3517,150.6483]],\"ys\":[[66.45620829307533,63.543791706924665],[83.26293487223596,84.73706512776401],[46.62784348890318,43.372156511096804],[76.83545683297443,79.16454316702556],[66.53172720483855,61.46827279516147],[91.41731884277647,89.58268115722356],[103.13631192488276,105.86368807511724],[103.0219045353673,105.9780954646327],[13.85329846158043,9.146701538419578],[55.694920196948075,59.305079803051925],[-7.999999999999998,-7.999999999999998],[13.077964753587104,16.92203524641289],[35.11682942633026,40.883170573669744],[63.92407479254794,58.07592520745206],[88.65553943567308,92.34446056432695],[95.92042236668642,100.07957763331359],[96.05538719995533,99.9446128000447],[11.98392838837291,18.016071611627098],[59.05869010117662,64.94130989882336],[89.14483950359659,92.85516049640341],[88.20302437379587,90.79697562620413],[98.9269870293212,103.07301297067883],[97.93113435894641,101.0688656410536],[96.360276434918,99.63972356508202],[94.6146666540522,95.38533334594783],[105.23465718157672,103.76534281842328],[100.41903249900889,99.58096750099111],[112.00000000000001,112.00000000000001]]},\"selected\":{\"id\":\"2135\"},\"selection_policy\":{\"id\":\"2134\"}},\"id\":\"2110\",\"type\":\"ColumnDataSource\"},{\"attributes\":{\"line_cap\":\"round\",\"line_color\":{\"field\":\"line_color\"},\"line_width\":{\"value\":5},\"xs\":{\"field\":\"xs\"},\"ys\":{\"field\":\"ys\"}},\"id\":\"2105\",\"type\":\"MultiLine\"},{\"attributes\":{\"axis\":{\"id\":\"2072\"},\"grid_line_color\":null,\"ticker\":null},\"id\":\"2075\",\"type\":\"Grid\"},{\"attributes\":{\"data\":{\"text\":[4,24,12,19,20,8,10,6,10,25,14,18,18,14,4,8,8,12,14,3,3,1,2,4,6,2,6,4],\"x\":{\"__ndarray__\":\"AgAAAAAAKkAAAAAAAKBQQAEAAAAAAEdAAgAAAABgUkACAAAAAOBYQP//////v2FAAAAAAAAQYkAAAAAAAPBgQAAAAAAA4FZAAAAAAACgXED//////w9jQAAAAAAAEGJAAAAAAADAYEAAAAAAAPBkQAAAAAAAIGRAAAAAAADwY0AAAAAAANBiQAEAAAAAQGdAAAAAAACQZ0AAAAAAAEBpQAAAAAAAQGhAAQAAAADAaUAAAAAAADBpQP//////L2hAAAAAAAAgZkABAAAAAFBpQAAAAAAAsGZAAAAAAAAgY0A=\",\"dtype\":\"float64\",\"order\":\"little\",\"shape\":[28]},\"y\":{\"__ndarray__\":\"AAAAAABAUED///////9UQAAAAAAAgEZA//////9/U0AAAAAAAABQQAEAAAAAoFZAAAAAAAAgWkAAAAAAACBaQAAAAAAAACdAAAAAAADATED+//////8fwAAAAAAAAC5AAAAAAAAAQ0ACAAAAAIBOQAEAAAAAoFZAAQAAAACAWEABAAAAAIBYQAAAAAAAAC5AAAAAAAAAT0AAAAAAAMBWQAAAAAAAYFZAAAAAAABAWUABAAAAAOBYQAEAAAAAgFhAAQAAAADAV0AAAAAAACBaQAAAAAAAAFlAAQAAAAAAXEA=\",\"dtype\":\"float64\",\"order\":\"little\",\"shape\":[28]}},\"selected\":{\"id\":\"2128\"},\"selection_policy\":{\"id\":\"2127\"}},\"id\":\"2115\",\"type\":\"ColumnDataSource\"},{\"attributes\":{\"axis\":{\"id\":\"2076\"},\"dimension\":1,\"grid_line_color\":null,\"ticker\":null},\"id\":\"2079\",\"type\":\"Grid\"},{\"attributes\":{\"line_color\":{\"value\":\"white\"},\"line_width\":{\"value\":6},\"xs\":{\"field\":\"xs\"},\"ys\":{\"field\":\"ys\"}},\"id\":\"2112\",\"type\":\"MultiLine\"},{\"attributes\":{\"source\":{\"id\":\"2110\"}},\"id\":\"2114\",\"type\":\"CDSView\"},{\"attributes\":{\"data_source\":{\"id\":\"2110\"},\"glyph\":{\"id\":\"2111\"},\"hover_glyph\":null,\"level\":\"guide\",\"muted_glyph\":null,\"nonselection_glyph\":{\"id\":\"2112\"},\"selection_glyph\":null,\"view\":{\"id\":\"2114\"}},\"id\":\"2113\",\"type\":\"GlyphRenderer\"},{\"attributes\":{\"line_color\":{\"value\":\"white\"},\"line_width\":{\"value\":6},\"xs\":{\"field\":\"xs\"},\"ys\":{\"field\":\"ys\"}},\"id\":\"2111\",\"type\":\"MultiLine\"},{\"attributes\":{\"source\":{\"id\":\"2103\"}},\"id\":\"2109\",\"type\":\"CDSView\"},{\"attributes\":{\"data_source\":{\"id\":\"2103\"},\"glyph\":{\"id\":\"2105\"},\"hover_glyph\":{\"id\":\"2107\"},\"level\":\"underlay\",\"muted_glyph\":null,\"nonselection_glyph\":{\"id\":\"2106\"},\"selection_glyph\":null,\"view\":{\"id\":\"2109\"}},\"id\":\"2108\",\"type\":\"GlyphRenderer\"},{\"attributes\":{\"line_cap\":\"round\",\"line_color\":{\"field\":\"line_color\"},\"line_width\":{\"value\":5},\"xs\":{\"field\":\"xs\"},\"ys\":{\"field\":\"ys\"}},\"id\":\"2106\",\"type\":\"MultiLine\"},{\"attributes\":{\"source\":{\"id\":\"2115\"},\"text_align\":\"center\",\"text_baseline\":\"middle\",\"text_color\":{\"value\":\"black\"},\"text_font_size\":{\"value\":\"13px\"},\"x\":{\"field\":\"x\"},\"y\":{\"field\":\"y\"}},\"id\":\"2116\",\"type\":\"LabelSet\"},{\"attributes\":{\"bottom_units\":\"screen\",\"fill_alpha\":0.5,\"fill_color\":\"lightgrey\",\"left_units\":\"screen\",\"level\":\"overlay\",\"line_alpha\":1.0,\"line_color\":\"black\",\"line_dash\":[4,4],\"line_width\":2,\"right_units\":\"screen\",\"top_units\":\"screen\"},\"id\":\"2086\",\"type\":\"BoxAnnotation\"},{\"attributes\":{},\"id\":\"2083\",\"type\":\"SaveTool\"},{\"attributes\":{},\"id\":\"2081\",\"type\":\"WheelZoomTool\"},{\"attributes\":{},\"id\":\"2125\",\"type\":\"BasicTickFormatter\"},{\"attributes\":{},\"id\":\"2123\",\"type\":\"BasicTickFormatter\"},{\"attributes\":{\"callback\":null,\"renderers\":[{\"id\":\"2101\"}],\"tooltips\":[[\"Index\",\"$index\"],[\"Name\",\"@name\"]]},\"id\":\"2119\",\"type\":\"HoverTool\"},{\"attributes\":{},\"id\":\"2080\",\"type\":\"PanTool\"},{\"attributes\":{\"background_fill_color\":null,\"below\":[{\"id\":\"2072\"}],\"border_fill_color\":null,\"center\":[{\"id\":\"2075\"},{\"id\":\"2079\"},{\"id\":\"2116\"}],\"left\":[{\"id\":\"2076\"}],\"outline_line_color\":null,\"plot_height\":400,\"renderers\":[{\"id\":\"2101\"},{\"id\":\"2108\"},{\"id\":\"2113\"}],\"title\":{\"id\":\"2062\"},\"toolbar\":{\"id\":\"2087\"},\"toolbar_location\":null,\"x_range\":{\"id\":\"2064\"},\"x_scale\":{\"id\":\"2068\"},\"y_range\":{\"id\":\"2066\"},\"y_scale\":{\"id\":\"2070\"}},\"id\":\"2061\",\"subtype\":\"Figure\",\"type\":\"Plot\"},{\"attributes\":{\"formatter\":{\"id\":\"2123\"},\"ticker\":{\"id\":\"2077\"},\"visible\":false},\"id\":\"2076\",\"type\":\"LinearAxis\"},{\"attributes\":{\"data\":{\"line_color\":[\"#DFDFDF\",\"#DFDFDF\",\"#DFDFDF\",\"#DFDFDF\",\"#DFDFDF\",\"#DFDFDF\",\"#DFDFDF\",\"#DFDFDF\",\"#DFDFDF\",\"#DFDFDF\",\"#DFDFDF\",\"#DFDFDF\",\"#DFDFDF\",\"#DFDFDF\",\"#DFDFDF\",\"#DFDFDF\",\"#DFDFDF\",\"#DFDFDF\",\"#DFDFDF\",\"#DFDFDF\",\"#DFDFDF\",\"#DFDFDF\",\"#DFDFDF\",\"#DFDFDF\",\"#DFDFDF\",\"#DFDFDF\",\"#DFDFDF\",\"#DFDFDF\"],\"u\":[0,0,1,1,14,14,14,14,2,2,3,3,3,11,11,11,11,4,5,6,6,7,7,15,15,8,9,12],\"v\":[1,14,2,14,2,11,12,13,3,11,4,5,11,5,10,12,13,5,6,7,15,8,9,9,10,9,10,13],\"weight\":[4,24,12,19,20,8,10,6,10,25,14,18,18,14,4,8,8,12,14,3,3,1,2,4,6,2,6,4],\"xs\":[[6,20],[6,127],[20,72],[20,127],[127,72],[127,157],[127,162],[127,144],[72,111],[72,157],[111,194],[111,178],[111,157],[157,178],[157,165],[157,162],[157,144],[194,178],[178,199],[199,205],[199,189],[205,207],[205,198],[189,198],[189,165],[207,198],[198,165],[162,144]],\"ys\":[[71,59],[71,97],[59,31],[59,97],[97,31],[97,84],[97,112],[97,112],[31,-8],[31,84],[-8,-8],[-8,38],[-8,84],[84,38],[84,97],[84,112],[84,112],[-8,38],[38,86],[86,96],[86,93],[96,106],[96,103],[93,103],[93,97],[106,103],[103,97],[112,112]]},\"selected\":{\"id\":\"2133\"},\"selection_policy\":{\"id\":\"2132\"}},\"id\":\"2103\",\"type\":\"ColumnDataSource\"},{\"attributes\":{},\"id\":\"2127\",\"type\":\"UnionRenderers\"},{\"attributes\":{\"end\":224.085,\"start\":-11.085},\"id\":\"2064\",\"type\":\"Range1d\"},{\"attributes\":{},\"id\":\"2128\",\"type\":\"Selection\"},{\"attributes\":{},\"id\":\"2077\",\"type\":\"BasicTicker\"},{\"attributes\":{\"line_cap\":\"round\",\"line_color\":{\"value\":\"#404040\"},\"line_width\":{\"value\":5},\"xs\":{\"field\":\"xs\"},\"ys\":{\"field\":\"ys\"}},\"id\":\"2107\",\"type\":\"MultiLine\"},{\"attributes\":{\"text\":\"\"},\"id\":\"2062\",\"type\":\"Title\"},{\"attributes\":{\"align\":\"center\",\"width\":300},\"id\":\"2118\",\"type\":\"Div\"},{\"attributes\":{\"overlay\":{\"id\":\"2086\"}},\"id\":\"2082\",\"type\":\"BoxZoomTool\"}],\"root_ids\":[\"2137\"]},\"title\":\"Bokeh Application\",\"version\":\"2.2.3\"}};\n",
       "  var render_items = [{\"docid\":\"5e7422cd-2df0-4fa2-9174-3032e4591837\",\"root_ids\":[\"2137\"],\"roots\":{\"2137\":\"8dfb134c-469e-4d13-a051-613dc66787ba\"}}];\n",
       "  root.Bokeh.embed.embed_items_notebook(docs_json, render_items);\n",
       "\n",
       "  }\n",
       "  if (root.Bokeh !== undefined) {\n",
       "    embed_document(root);\n",
       "  } else {\n",
       "    var attempts = 0;\n",
       "    var timer = setInterval(function(root) {\n",
       "      if (root.Bokeh !== undefined) {\n",
       "        clearInterval(timer);\n",
       "        embed_document(root);\n",
       "      } else {\n",
       "        attempts++;\n",
       "        if (attempts > 100) {\n",
       "          clearInterval(timer);\n",
       "          console.log(\"Bokeh: ERROR: Unable to run BokehJS code because BokehJS library is missing\");\n",
       "        }\n",
       "      }\n",
       "    }, 10, root)\n",
       "  }\n",
       "})(window);"
      ],
      "application/vnd.bokehjs_exec.v0+json": ""
     },
     "metadata": {
      "application/vnd.bokehjs_exec.v0+json": {
       "id": "2137"
      }
     },
     "output_type": "display_data"
    }
   ],
   "source": [
    "show(vl.tree_plot(G, tree=[], width=600))"
   ]
  },
  {
   "cell_type": "markdown",
   "metadata": {},
   "source": [
    "**Q7:** Run the first 5 iterations of this algorithm. Show your work: indicate the order in which you add the edges and also indicate (differently) any edges that you considered adding (but decided not to because they created a cycle or loop).\n",
    "\n",
    "**A:** <font color='blue'> Add edges in this order: (7,8), (9,8), **(9,7)**, (7,6), (15,6), **(15,9)**, (11,10) where bold edges were considered but not added.</font>"
   ]
  },
  {
   "cell_type": "markdown",
   "metadata": {},
   "source": [
    "Run the cell below."
   ]
  },
  {
   "cell_type": "code",
   "execution_count": 8,
   "metadata": {},
   "outputs": [
    {
     "data": {
      "text/html": [
       "\n",
       "\n",
       "\n",
       "\n",
       "\n",
       "\n",
       "  <div class=\"bk-root\" id=\"59f25191-9bed-4fcd-8214-a668a66e7bc8\" data-root-id=\"2392\"></div>\n"
      ]
     },
     "metadata": {},
     "output_type": "display_data"
    },
    {
     "data": {
      "application/javascript": [
       "(function(root) {\n",
       "  function embed_document(root) {\n",
       "    \n",
       "  var docs_json = {\"fb42d83d-c49a-4185-b51a-86e24da18241\":{\"roots\":{\"references\":[{\"attributes\":{\"children\":[[{\"id\":\"2302\"},0,0],[{\"id\":\"2372\"},1,0]]},\"id\":\"2392\",\"type\":\"GridBox\"},{\"attributes\":{},\"id\":\"2374\",\"type\":\"BasicTickFormatter\"},{\"attributes\":{},\"id\":\"2321\",\"type\":\"PanTool\"},{\"attributes\":{\"align\":\"center\",\"width\":300},\"id\":\"2363\",\"type\":\"Div\"},{\"attributes\":{},\"id\":\"2376\",\"type\":\"BasicTickFormatter\"},{\"attributes\":{\"data\":{\"clicked\":[],\"edge_ids\":[[0.0,0.0,0.0,0.0,0.0,0.0,0.0,0.0,0.0,0.0,0.0,0.0,0.0,0.0,1.0,0.0],[0.0,0.0,2.0,0.0,0.0,0.0,0.0,0.0,0.0,0.0,0.0,0.0,0.0,0.0,3.0,0.0],[0.0,2.0,0.0,8.0,0.0,0.0,0.0,0.0,0.0,0.0,0.0,9.0,0.0,0.0,4.0,0.0],[0.0,0.0,8.0,0.0,10.0,11.0,0.0,0.0,0.0,0.0,0.0,12.0,0.0,0.0,0.0,0.0],[0.0,0.0,0.0,10.0,0.0,17.0,0.0,0.0,0.0,0.0,0.0,0.0,0.0,0.0,0.0,0.0],[0.0,0.0,0.0,11.0,17.0,0.0,18.0,0.0,0.0,0.0,0.0,13.0,0.0,0.0,0.0,0.0],[0.0,0.0,0.0,0.0,0.0,18.0,0.0,19.0,0.0,0.0,0.0,0.0,0.0,0.0,0.0,20.0],[0.0,0.0,0.0,0.0,0.0,0.0,19.0,0.0,21.0,22.0,0.0,0.0,0.0,0.0,0.0,0.0],[0.0,0.0,0.0,0.0,0.0,0.0,0.0,21.0,0.0,25.0,0.0,0.0,0.0,0.0,0.0,0.0],[0.0,0.0,0.0,0.0,0.0,0.0,0.0,22.0,25.0,0.0,26.0,0.0,0.0,0.0,0.0,23.0],[0.0,0.0,0.0,0.0,0.0,0.0,0.0,0.0,0.0,26.0,0.0,14.0,0.0,0.0,0.0,24.0],[0.0,0.0,9.0,12.0,0.0,13.0,0.0,0.0,0.0,0.0,14.0,0.0,15.0,16.0,5.0,0.0],[0.0,0.0,0.0,0.0,0.0,0.0,0.0,0.0,0.0,0.0,0.0,15.0,0.0,27.0,6.0,0.0],[0.0,0.0,0.0,0.0,0.0,0.0,0.0,0.0,0.0,0.0,0.0,16.0,27.0,0.0,7.0,0.0],[1.0,3.0,4.0,0.0,0.0,0.0,0.0,0.0,0.0,0.0,0.0,5.0,6.0,7.0,0.0,0.0],[0.0,0.0,0.0,0.0,0.0,0.0,20.0,0.0,0.0,23.0,24.0,0.0,0.0,0.0,0.0,0.0]],\"forest\":[0,1,2,3,4,5,6,7,8,9,10,11,12,13,14,15],\"index\":[0],\"sorted_edges\":[[7,8],[7,9],[8,9],[6,7],[6,15],[0,1],[11,10],[15,9],[12,13],[14,13],[15,10],[9,10],[14,11],[11,12],[11,13],[14,12],[2,3],[1,2],[4,5],[3,4],[11,5],[5,6],[3,5],[3,11],[1,14],[14,2],[0,14],[2,11]],\"tree_edges\":[],\"unvisited\":[0,1,2,3,4,5,6,7,8,9,10,11,12,13,14,15],\"visited\":[]},\"selected\":{\"id\":\"2388\"},\"selection_policy\":{\"id\":\"2387\"}},\"id\":\"2360\",\"type\":\"ColumnDataSource\"},{\"attributes\":{},\"id\":\"2322\",\"type\":\"WheelZoomTool\"},{\"attributes\":{\"data_source\":{\"id\":\"2344\"},\"glyph\":{\"id\":\"2346\"},\"hover_glyph\":{\"id\":\"2348\"},\"level\":\"underlay\",\"muted_glyph\":null,\"nonselection_glyph\":{\"id\":\"2347\"},\"selection_glyph\":null,\"view\":{\"id\":\"2350\"}},\"id\":\"2349\",\"type\":\"GlyphRenderer\"},{\"attributes\":{},\"id\":\"2378\",\"type\":\"UnionRenderers\"},{\"attributes\":{\"line_cap\":\"round\",\"line_color\":{\"value\":\"#404040\"},\"line_width\":{\"value\":5},\"xs\":{\"field\":\"xs\"},\"ys\":{\"field\":\"ys\"}},\"id\":\"2348\",\"type\":\"MultiLine\"},{\"attributes\":{\"data\":{\"xs\":[[11.867393549830293,14.1326064501697],[64.2132081933475,68.78679180665253],[43.98457472802465,48.01542527197538],[71.31392773909235,75.68607226090765],[100.9065151137992,98.09348488620083],[140.5887402418824,143.4112597581176],[142.37870743870653,146.62129256129347],[134.3832167600553,136.6167832399447],[89.9311343589464,93.06886564105363],[112.57004046214576,116.42995953785424],[150.1483,154.85170000000002],[142.6336759201498,146.3663240798502],[133.03894314211007,134.96105685788993],[166.61006419357236,168.38993580642764],[160.24329823001975,161.75670176998028],[159.25243123412935,159.74756876587068],[151.1019039619186,149.89809603808138],[186.69937892443528,185.30062107556475],[187.6421179461765,189.35788205382346],[201.25793580143863,202.74206419856134],[195.23521488209917,192.7647851179008],[205.72359827057616,206.2764017294238],[202.54591042736908,200.45408957263095],[192.51616586095076,194.4838341390492],[178.54133338379128,175.4586666162087],[203.96931436315347,201.03068563684658],[183.03645249636594,179.96354750363403],[154.5678,151.4322]],\"ys\":[[65.9708055287169,64.02919447128312],[83.50862324815732,84.4913767518427],[46.085228992602126,43.914771007397874],[77.22363788864963,78.77636211135038],[65.68781813655903,62.31218186344098],[91.11154589518429,89.88845410481571],[103.59087461658854,105.40912538341149],[103.51460302357822,105.48539697642181],[13.06886564105362,9.93113435894638],[56.296613464632046,58.703386535367954],[-7.999999999999998,-7.999999999999998],[13.718643169058069,16.281356830941924],[36.07788628422017,39.922113715779815],[62.949383195031956,59.05061680496806],[89.27035962378204,91.72964037621796],[96.61361491112429,99.38638508887571],[96.70359146663688,99.29640853336312],[12.989285592248606,17.010714407751394],[60.03912673411776,63.960873265882256],[89.76322633573106,92.23677366426892],[88.63534958253058,90.36465041746942],[99.61799135288078,102.38200864711922],[98.45408957263092,100.54591042736905],[96.90685095661199,99.09314904338801],[94.74311110270146,95.25688889729855],[104.98977145438448,104.01022854561555],[100.27935499933926,99.72064500066074],[112.00000000000001,112.00000000000001]]},\"selected\":{\"id\":\"2386\"},\"selection_policy\":{\"id\":\"2385\"}},\"id\":\"2351\",\"type\":\"ColumnDataSource\"},{\"attributes\":{\"overlay\":{\"id\":\"2327\"}},\"id\":\"2323\",\"type\":\"BoxZoomTool\"},{\"attributes\":{},\"id\":\"2379\",\"type\":\"Selection\"},{\"attributes\":{},\"id\":\"2324\",\"type\":\"SaveTool\"},{\"attributes\":{\"data\":{\"text\":[4,24,12,19,20,8,10,6,10,25,14,18,18,14,4,8,8,12,14,3,3,1,2,4,6,2,6,4],\"x\":{\"__ndarray__\":\"/v//////KUAAAAAAAKBQQAEAAAAAAEdAAAAAAABgUkAAAAAAAOBYQAAAAAAAwGFAAAAAAAAQYkAAAAAAAPBgQAAAAAAA4FZAAAAAAACgXEABAAAAABBjQAAAAAAAEGJAAAAAAADAYEAAAAAAAPBkQAAAAAAAIGRAAAAAAADwY0D//////89iQAAAAAAAQGdAAAAAAACQZ0D//////z9pQAAAAAAAQGhAAAAAAADAaUAAAAAAADBpQAAAAAAAMGhA//////8fZkABAAAAAFBpQAAAAAAAsGZAAAAAAAAgY0A=\",\"dtype\":\"float64\",\"order\":\"little\",\"shape\":[28]},\"y\":{\"__ndarray__\":\"AAAAAABAUEAAAAAAAABVQAAAAAAAgEZAAAAAAACAU0AAAAAAAABQQAAAAAAAoFZAAAAAAAAgWkAAAAAAACBaQAAAAAAAACdAAAAAAADATED+//////8fwAAAAAAAAC5AAAAAAAAAQ0ACAAAAAIBOQAAAAAAAoFZAAAAAAACAWEAAAAAAAIBYQAAAAAAAAC5AAgAAAAAAT0AAAAAAAMBWQAAAAAAAYFZAAAAAAABAWUD//////99YQAAAAAAAgFhAAAAAAADAV0AAAAAAACBaQAAAAAAAAFlAAQAAAAAAXEA=\",\"dtype\":\"float64\",\"order\":\"little\",\"shape\":[28]}},\"selected\":{\"id\":\"2379\"},\"selection_policy\":{\"id\":\"2378\"}},\"id\":\"2356\",\"type\":\"ColumnDataSource\"},{\"attributes\":{},\"id\":\"2381\",\"type\":\"UnionRenderers\"},{\"attributes\":{\"line_color\":{\"value\":\"white\"},\"line_width\":{\"value\":6},\"xs\":{\"field\":\"xs\"},\"ys\":{\"field\":\"ys\"}},\"id\":\"2353\",\"type\":\"MultiLine\"},{\"attributes\":{},\"id\":\"2325\",\"type\":\"ResetTool\"},{\"attributes\":{\"source\":{\"id\":\"2351\"}},\"id\":\"2355\",\"type\":\"CDSView\"},{\"attributes\":{},\"id\":\"2382\",\"type\":\"Selection\"},{\"attributes\":{},\"id\":\"2326\",\"type\":\"HelpTool\"},{\"attributes\":{},\"id\":\"2383\",\"type\":\"UnionRenderers\"},{\"attributes\":{\"data_source\":{\"id\":\"2351\"},\"glyph\":{\"id\":\"2352\"},\"hover_glyph\":null,\"level\":\"guide\",\"muted_glyph\":null,\"nonselection_glyph\":{\"id\":\"2353\"},\"selection_glyph\":null,\"view\":{\"id\":\"2355\"}},\"id\":\"2354\",\"type\":\"GlyphRenderer\"},{\"attributes\":{},\"id\":\"2309\",\"type\":\"LinearScale\"},{\"attributes\":{\"fill_color\":{\"field\":\"fill_color\"},\"line_color\":{\"field\":\"line_color\"},\"line_width\":{\"field\":\"line_width\"},\"size\":{\"units\":\"screen\",\"value\":11},\"x\":{\"field\":\"x\"},\"y\":{\"field\":\"y\"}},\"id\":\"2340\",\"type\":\"Circle\"},{\"attributes\":{\"line_color\":{\"value\":\"white\"},\"line_width\":{\"value\":6},\"xs\":{\"field\":\"xs\"},\"ys\":{\"field\":\"ys\"}},\"id\":\"2352\",\"type\":\"MultiLine\"},{\"attributes\":{\"source\":{\"id\":\"2344\"}},\"id\":\"2350\",\"type\":\"CDSView\"},{\"attributes\":{},\"id\":\"2384\",\"type\":\"Selection\"},{\"attributes\":{\"data_source\":{\"id\":\"2338\"},\"glyph\":{\"id\":\"2340\"},\"hover_glyph\":null,\"muted_glyph\":null,\"nonselection_glyph\":{\"id\":\"2341\"},\"selection_glyph\":null,\"view\":{\"id\":\"2343\"}},\"id\":\"2342\",\"type\":\"GlyphRenderer\"},{\"attributes\":{},\"id\":\"2385\",\"type\":\"UnionRenderers\"},{\"attributes\":{\"fill_color\":{\"field\":\"fill_color\"},\"line_color\":{\"field\":\"line_color\"},\"line_width\":{\"field\":\"line_width\"},\"size\":{\"units\":\"screen\",\"value\":11},\"x\":{\"field\":\"x\"},\"y\":{\"field\":\"y\"}},\"id\":\"2341\",\"type\":\"Circle\"},{\"attributes\":{\"line_cap\":\"round\",\"line_color\":{\"field\":\"line_color\"},\"line_width\":{\"value\":5},\"xs\":{\"field\":\"xs\"},\"ys\":{\"field\":\"ys\"}},\"id\":\"2346\",\"type\":\"MultiLine\"},{\"attributes\":{\"axis\":{\"id\":\"2313\"},\"grid_line_color\":null,\"ticker\":null},\"id\":\"2316\",\"type\":\"Grid\"},{\"attributes\":{\"background_fill_color\":null,\"below\":[{\"id\":\"2313\"}],\"border_fill_color\":null,\"center\":[{\"id\":\"2316\"},{\"id\":\"2320\"},{\"id\":\"2357\"}],\"left\":[{\"id\":\"2317\"}],\"outline_line_color\":null,\"plot_width\":900,\"renderers\":[{\"id\":\"2342\"},{\"id\":\"2349\"},{\"id\":\"2354\"}],\"title\":{\"id\":\"2303\"},\"toolbar\":{\"id\":\"2328\"},\"toolbar_location\":null,\"x_range\":{\"id\":\"2305\"},\"x_scale\":{\"id\":\"2309\"},\"y_range\":{\"id\":\"2307\"},\"y_scale\":{\"id\":\"2311\"}},\"id\":\"2302\",\"subtype\":\"Figure\",\"type\":\"Plot\"},{\"attributes\":{\"source\":{\"id\":\"2356\"},\"text_align\":\"center\",\"text_baseline\":\"middle\",\"text_color\":{\"value\":\"black\"},\"text_font_size\":{\"value\":\"13px\"},\"x\":{\"field\":\"x\"},\"y\":{\"field\":\"y\"}},\"id\":\"2357\",\"type\":\"LabelSet\"},{\"attributes\":{\"active_drag\":null,\"active_inspect\":\"auto\",\"active_multi\":null,\"active_scroll\":null,\"active_tap\":\"auto\",\"logo\":null,\"tools\":[{\"id\":\"2321\"},{\"id\":\"2322\"},{\"id\":\"2323\"},{\"id\":\"2324\"},{\"id\":\"2325\"},{\"id\":\"2326\"},{\"id\":\"2364\"},{\"id\":\"2366\"},{\"id\":\"2368\"}]},\"id\":\"2328\",\"type\":\"Toolbar\"},{\"attributes\":{},\"id\":\"2311\",\"type\":\"LinearScale\"},{\"attributes\":{\"line_cap\":\"round\",\"line_color\":{\"field\":\"line_color\"},\"line_width\":{\"value\":5},\"xs\":{\"field\":\"xs\"},\"ys\":{\"field\":\"ys\"}},\"id\":\"2347\",\"type\":\"MultiLine\"},{\"attributes\":{},\"id\":\"2386\",\"type\":\"Selection\"},{\"attributes\":{\"data\":{\"G\":[[0.0,4.0,0.0,0.0,0.0,0.0,0.0,0.0,0.0,0.0,0.0,0.0,0.0,0.0,24.0,0.0],[4.0,0.0,12.0,0.0,0.0,0.0,0.0,0.0,0.0,0.0,0.0,0.0,0.0,0.0,19.0,0.0],[0.0,12.0,0.0,10.0,0.0,0.0,0.0,0.0,0.0,0.0,0.0,25.0,0.0,0.0,20.0,0.0],[0.0,0.0,10.0,0.0,14.0,18.0,0.0,0.0,0.0,0.0,0.0,18.0,0.0,0.0,0.0,0.0],[0.0,0.0,0.0,14.0,0.0,12.0,0.0,0.0,0.0,0.0,0.0,0.0,0.0,0.0,0.0,0.0],[0.0,0.0,0.0,18.0,12.0,0.0,14.0,0.0,0.0,0.0,0.0,14.0,0.0,0.0,0.0,0.0],[0.0,0.0,0.0,0.0,0.0,14.0,0.0,3.0,0.0,0.0,0.0,0.0,0.0,0.0,0.0,3.0],[0.0,0.0,0.0,0.0,0.0,0.0,3.0,0.0,1.0,2.0,0.0,0.0,0.0,0.0,0.0,0.0],[0.0,0.0,0.0,0.0,0.0,0.0,0.0,1.0,0.0,2.0,0.0,0.0,0.0,0.0,0.0,0.0],[0.0,0.0,0.0,0.0,0.0,0.0,0.0,2.0,2.0,0.0,6.0,0.0,0.0,0.0,0.0,4.0],[0.0,0.0,0.0,0.0,0.0,0.0,0.0,0.0,0.0,6.0,0.0,4.0,0.0,0.0,0.0,6.0],[0.0,0.0,25.0,18.0,0.0,14.0,0.0,0.0,0.0,0.0,4.0,0.0,8.0,8.0,8.0,0.0],[0.0,0.0,0.0,0.0,0.0,0.0,0.0,0.0,0.0,0.0,0.0,8.0,0.0,4.0,10.0,0.0],[0.0,0.0,0.0,0.0,0.0,0.0,0.0,0.0,0.0,0.0,0.0,8.0,4.0,0.0,6.0,0.0],[24.0,19.0,20.0,0.0,0.0,0.0,0.0,0.0,0.0,0.0,0.0,8.0,10.0,6.0,0.0,0.0],[0.0,0.0,0.0,0.0,0.0,0.0,3.0,0.0,0.0,4.0,6.0,0.0,0.0,0.0,0.0,0.0]]},\"selected\":{\"id\":\"2390\"},\"selection_policy\":{\"id\":\"2389\"}},\"id\":\"2359\",\"type\":\"ColumnDataSource\"},{\"attributes\":{},\"id\":\"2387\",\"type\":\"UnionRenderers\"},{\"attributes\":{\"bottom_units\":\"screen\",\"fill_alpha\":0.5,\"fill_color\":\"lightgrey\",\"left_units\":\"screen\",\"level\":\"overlay\",\"line_alpha\":1.0,\"line_color\":\"black\",\"line_dash\":[4,4],\"line_width\":2,\"right_units\":\"screen\",\"top_units\":\"screen\"},\"id\":\"2327\",\"type\":\"BoxAnnotation\"},{\"attributes\":{\"end\":122.2,\"start\":-18.200000000000003},\"id\":\"2307\",\"type\":\"Range1d\"},{\"attributes\":{},\"id\":\"2388\",\"type\":\"Selection\"},{\"attributes\":{\"formatter\":{\"id\":\"2376\"},\"ticker\":{\"id\":\"2314\"},\"visible\":false},\"id\":\"2313\",\"type\":\"LinearAxis\"},{\"attributes\":{\"callback\":null,\"renderers\":[{\"id\":\"2342\"}],\"tooltips\":[[\"Index\",\"$index\"],[\"Name\",\"@name\"]]},\"id\":\"2364\",\"type\":\"HoverTool\"},{\"attributes\":{\"text\":\"\"},\"id\":\"2303\",\"type\":\"Title\"},{\"attributes\":{\"formatter\":{\"id\":\"2374\"},\"ticker\":{\"id\":\"2318\"},\"visible\":false},\"id\":\"2317\",\"type\":\"LinearAxis\"},{\"attributes\":{},\"id\":\"2314\",\"type\":\"BasicTicker\"},{\"attributes\":{},\"id\":\"2389\",\"type\":\"UnionRenderers\"},{\"attributes\":{\"args\":{\"source\":{\"id\":\"2360\"}},\"code\":\"source.data['last_index'] = cb_data.index.indices[0]\"},\"id\":\"2365\",\"type\":\"CustomJS\"},{\"attributes\":{\"align\":\"center\",\"text\":\"0.0\",\"width\":300},\"id\":\"2361\",\"type\":\"Div\"},{\"attributes\":{\"end\":224.085,\"start\":-11.085},\"id\":\"2305\",\"type\":\"Range1d\"},{\"attributes\":{\"source\":{\"id\":\"2338\"}},\"id\":\"2343\",\"type\":\"CDSView\"},{\"attributes\":{\"callback\":{\"id\":\"2365\"},\"renderers\":[{\"id\":\"2349\"}],\"tooltips\":null},\"id\":\"2366\",\"type\":\"HoverTool\"},{\"attributes\":{},\"id\":\"2390\",\"type\":\"Selection\"},{\"attributes\":{\"data\":{\"line_color\":[\"#DFDFDF\",\"#DFDFDF\",\"#DFDFDF\",\"#DFDFDF\",\"#DFDFDF\",\"#DFDFDF\",\"#DFDFDF\",\"#DFDFDF\",\"#DFDFDF\",\"#DFDFDF\",\"#DFDFDF\",\"#DFDFDF\",\"#DFDFDF\",\"#DFDFDF\",\"#DFDFDF\",\"#DFDFDF\",\"#DFDFDF\",\"#DFDFDF\",\"#DFDFDF\",\"#DFDFDF\",\"#DFDFDF\",\"#DFDFDF\",\"#DFDFDF\",\"#DFDFDF\",\"#DFDFDF\",\"#DFDFDF\",\"#DFDFDF\",\"#DFDFDF\"],\"u\":[0,0,1,1,14,14,14,14,2,2,3,3,3,11,11,11,11,4,5,6,6,7,7,15,15,8,9,12],\"v\":[1,14,2,14,2,11,12,13,3,11,4,5,11,5,10,12,13,5,6,7,15,8,9,9,10,9,10,13],\"weight\":[4,24,12,19,20,8,10,6,10,25,14,18,18,14,4,8,8,12,14,3,3,1,2,4,6,2,6,4],\"xs\":[[6,20],[6,127],[20,72],[20,127],[127,72],[127,157],[127,162],[127,144],[72,111],[72,157],[111,194],[111,178],[111,157],[157,178],[157,165],[157,162],[157,144],[194,178],[178,199],[199,205],[199,189],[205,207],[205,198],[189,198],[189,165],[207,198],[198,165],[162,144]],\"ys\":[[71,59],[71,97],[59,31],[59,97],[97,31],[97,84],[97,112],[97,112],[31,-8],[31,84],[-8,-8],[-8,38],[-8,84],[84,38],[84,97],[84,112],[84,112],[-8,38],[38,86],[86,96],[86,93],[96,106],[96,103],[93,103],[93,97],[106,103],[103,97],[112,112]]},\"selected\":{\"id\":\"2384\"},\"selection_policy\":{\"id\":\"2383\"}},\"id\":\"2344\",\"type\":\"ColumnDataSource\"},{\"attributes\":{},\"id\":\"2318\",\"type\":\"BasicTicker\"},{\"attributes\":{\"args\":{\"clicked\":{\"id\":\"2362\"},\"cost\":{\"id\":\"2361\"},\"cost_matrix\":{\"id\":\"2359\"},\"edges_src\":{\"id\":\"2344\"},\"error_msg\":{\"id\":\"2363\"},\"nodes_src\":{\"id\":\"2338\"},\"source\":{\"id\":\"2360\"}},\"code\":\"/* Color Theme -- Using Google's Material Design Color System\\n   https://material.io/design/color/the-color-system.html */\\n\\n/** @constant {string} */\\nvar PRIMARY_COLOR = '#1565c0'\\n/** @constant {string} */\\nvar PRIMARY_LIGHT_COLOR = '#5e92f3'\\n/** @constant {string} */\\nvar PRIMARY_DARK_COLOR = '#003c8f'\\n/** @constant {string} */\\nvar SECONDARY_COLOR = '#d50000'\\n/** @constant {string} */\\nvar SECONDARY_LIGHT_COLOR = '#ff5131'\\n/** @constant {string} */\\nvar SECONDARY_DARK_COLOR = '#9b0000'\\n\\n// Grayscale\\n/** @constant {string} */\\nvar TERTIARY_COLOR = '#DFDFDF'\\n/**\\n *  Jupyter Notebook: 'white', Sphinx: '#FCFCFC'\\n *  @constant {string}\\n */\\nvar TERTIARY_LIGHT_COLOR = 'white'\\n/** @constant {string} */\\nvar TERTIARY_DARK_COLOR = '#404040'\\n/** @type {float[][]} */\\nvar G\\n/** @type {integer[]} */\\nvar visited\\n/** @type {integer[]} */\\nvar unvisited\\n/** @type {integer[][]} */\\nvar tree_edges\\n/** @type {integer[][]} */\\nvar edge_ids\\n/** @type {(integer[]|integer[][])} */\\nvar clicked_list\\n/** @type {integer} */\\nvar i\\n/** @type {integer} */\\nvar u\\n/** @type {integer} */\\nvar v\\n/** @type {float} */\\nvar w\\n\\n\\n/**\\n * Check if the error message text indicates tour or tree is complete.\\n */\\nfunction check_done() {\\n    if (error_msg.text == 'done.') {\\n        return;\\n    }\\n}\\n\\n/**\\n * Load the data necessary data for MST and shortest path tree creation.\\n */\\nfunction load_data() {\\n    G = cost_matrix.data['G']\\n    visited = source.data['visited']\\n    unvisited = source.data['unvisited']\\n    tree_edges = source.data['tree_edges']\\n    edge_ids = source.data['edge_ids']\\n    clicked_list = source.data['clicked']\\n\\n    i = source.data['last_index']\\n    u = edges_src.data['u'][i]\\n    v = edges_src.data['v'][i]\\n    w = edges_src.data['weight'][i]\\n}\\n\\n/**\\n * Update node and edge highlighting upon a proper edge selection.\\n */\\nfunction select_edge() {\\n    if (!visited.includes(v)) {\\n        nodes_src.data['fill_color'][v] = PRIMARY_DARK_COLOR\\n        nodes_src.data['line_color'][v] = PRIMARY_DARK_COLOR\\n        visited.push(v)\\n        unvisited.splice(unvisited.indexOf(v), 1)\\n    }\\n    if (!visited.includes(u)) {\\n        nodes_src.data['fill_color'][u] = PRIMARY_DARK_COLOR\\n        nodes_src.data['line_color'][u] = PRIMARY_DARK_COLOR\\n        visited.push(u)\\n        unvisited.splice(unvisited.indexOf(u), 1)\\n    }\\n    edges_src.data['line_color'][i] = TERTIARY_DARK_COLOR\\n    tree_edges.push([u,v])\\n    clicked_list = tree_edges\\n    var prev_cost = parseFloat(cost.text)\\n    cost.text = (prev_cost + w).toFixed(1)\\n    error_msg.text = ''\\n}\\n\\n/**\\n * Iteration of Prim's algorithm.\\n * Check if user-selected edge is a valid next edge. If valid, add the selected\\n * edge. If not, an error message is returned.\\n */\\nfunction prims() {\\n    var possible = {}\\n    for (let i = 0; i < visited.length; i++) {\\n        for (let j = 0; j < unvisited.length; j++) {\\n            var a = visited[i]\\n            var b = unvisited[j]\\n            if (G[a][b] != 0) {\\n                var id = edge_ids[a][b]\\n                possible[id] = G[a][b]\\n            }\\n        }\\n    }\\n\\n    var keys  = Object.keys(possible).sort(function(a,b) { return possible[a] - possible[b]; });\\n    var valid = keys.filter(function(x) { return possible[x] == possible[keys[0]]; });\\n\\n    var first_edge = (visited.length == 0)\\n    var u_in_tree = visited.includes(u)\\n    var v_in_tree = visited.includes(v)\\n    var one_in_tree = (u_in_tree && !v_in_tree) || (!u_in_tree && v_in_tree)\\n\\n    if (first_edge || one_in_tree) {\\n        if (valid.includes(i.toString())) {\\n            select_edge()\\n        } else {\\n            error_msg.text = 'Smaller weight edge exists.'\\n        }\\n    } else {\\n        if (u_in_tree && v_in_tree) {\\n            error_msg.text = 'Edge creates a cycle.'\\n        } else {\\n            error_msg.text = 'Edge not adjacent to the current tree.'\\n        }\\n    }\\n}\\n\\n/**\\n * Iteration of Kruskal's algorithm.\\n * Check if user-selected edge is a valid next edge. If valid, add the selected\\n * edge. If not, an error message is returned.\\n */\\nfunction kruskals() {\\n    var sorted_edges = source.data['sorted_edges']\\n    var forest = source.data['forest']\\n    var index = source.data['index'][0]\\n\\n    var a = sorted_edges[index][0]\\n    var b = sorted_edges[index][1]\\n    while (forest[a] == forest[b]) {\\n        index += 1\\n        a = sorted_edges[index][0]\\n        b = sorted_edges[index][1]\\n    }\\n    var min_val = G[sorted_edges[index][0]][sorted_edges[index][1]]\\n\\n    if (forest[u] != forest[v]) {\\n        if (G[u][v] == min_val) {\\n            select_edge()\\n            var x = forest[u]\\n            var y = forest[v]\\n            forest = forest.map(function(k) {if (k == y) {return x} else {return k} })\\n            source.data['forest'] = forest\\n            if (u == a && v == b) {\\n                index += 1\\n            }\\n        } else {\\n             error_msg.text = 'Smaller weight edge exists.'\\n        }\\n    } else {\\n        error_msg.text = 'This edge creates a cycle.'\\n    }\\n\\n    source.data['index'][0] = index\\n}\\n\\n/**\\n * Return an array of length len where every element has the given value.\\n * @param {float} value\\n * @param {integer} len\\n * @returns {float[]}\\n */\\nfunction fillArray(value, len) {\\n    var a = [value];\\n    while (a.length * 2 <= len) a = a.concat(a);\\n    if (a.length < len) a = a.concat(a.slice(0, len - a.length));\\n    return a;\\n}\\n\\n/**\\n * Return true iff the undirected graph G is connected.\\n * @param {float[][]} G\\n * @returns {boolean}\\n */\\nfunction is_connected(G) {\\n    var check = fillArray(false, G.length)\\n    check[0] = true\\n    var checked = [0]\\n\\n    while (checked.length > 0) {\\n        var a = checked.shift()\\n        for (let b = 0; b < G[a].length; b++) {\\n            if (G[a][b] > 0 && !check[b]) {\\n                check[b] = true\\n                checked.push(b)\\n            }\\n        }\\n    }\\n    return check.every(function(x) {return x})\\n}\\n\\n/**\\n * Iteration of reverse Kruskal's algorithm.\\n * Check if user-selected edge is a valid next edge. If valid, add the selected\\n * edge. If not, an error message is returned.\\n */\\nfunction reverse_kruskals() {\\n    var sorted_edges = source.data['sorted_edges']\\n    var index = source.data['index'][0]\\n\\n    var a = sorted_edges[index][0]\\n    var b = sorted_edges[index][1]\\n    var tmp_w = G[a][b]\\n    G[a][b] = 0\\n    G[b][a] = 0\\n    while (!is_connected(G) || !tree_edges.includes(edge_ids[a][b])) {\\n        G[a][b] = tmp_w\\n        G[b][a] = tmp_w\\n        index += 1\\n        a = sorted_edges[index][0]\\n        b = sorted_edges[index][1]\\n        tmp_w = G[a][b]\\n        G[a][b] = 0\\n        G[b][a] = 0\\n    }\\n    G[a][b] = tmp_w\\n    G[b][a] = tmp_w\\n    var max_val = tmp_w\\n\\n    var tmp_w = w\\n    G[u][v] = 0\\n    G[v][u] = 0\\n\\n    let e = tree_edges.indexOf(i)\\n    if (e > -1) {\\n        if (is_connected(G)) {\\n            if (tmp_w == max_val) {\\n                tree_edges.splice(e, 1);\\n                if (u == a && v == b) {\\n                    index += 1\\n                }\\n                edges_src.data['line_color'][i] = TERTIARY_COLOR\\n                var prev_cost = parseFloat(cost.text)\\n                cost.text = (prev_cost - w).toFixed(1)\\n                error_msg.text = ''\\n            } else {\\n                G[u][v] = tmp_w\\n                G[v][u] = tmp_w\\n                error_msg.text = 'Larger edge weight exists. Try ('\\n                                  .concat(a.toString())\\n                                  .concat(', ')\\n                                  .concat(b.toString())\\n                                  .concat(').')\\n            }\\n        } else {\\n            G[u][v] = tmp_w\\n            G[v][u] = tmp_w\\n            error_msg.text = 'Removing this edge disconnects the graph.'\\n        }\\n    } else {\\n        G[u][v] = tmp_w\\n        G[v][u] = tmp_w\\n        error_msg.text = 'Edge already removed.'\\n    }\\n\\n    var u_list = edges_src.data['u']\\n    var v_list = edges_src.data['v']\\n    clicked_list = []\\n    for (let i = 0; i < tree_edges.length; i++) {\\n        var edge = tree_edges[i]\\n        clicked_list.push([u_list[edge], v_list[edge]])\\n    }\\n    source.data['index'][0] = index\\n}\\n\\n/**\\n * Final updates when creating an MST or shortest path tree.\\n */\\nfunction tree_update() {\\n    if (tree_edges.length == nodes_src.data['x'].length - 1) {\\n        error_msg.text = 'done.'\\n    }\\n\\n    clicked.text = '['\\n    for (let i = 0; i < clicked_list.length; i++) {\\n        var edge_str = clicked_list[i].join(',')\\n        clicked.text = clicked.text.concat('(').concat(edge_str).concat(')')\\n        if (!(i == clicked_list.length - 1)) {\\n            clicked.text = clicked.text.concat(',')\\n        }\\n    }\\n    clicked.text = clicked.text.concat(']')\\n\\n    source.change.emit()\\n    nodes_src.change.emit()\\n    edges_src.change.emit()\\n}\\n\\n/**\\n * Check if user-selected node is valid and add to tour if valid.\\n */\\nfunction create_tour_on_click () {\\n    var v = source.data['last_index']\\n    var n = nodes_src.data['line_color'].length\\n    var tour = source.data['clicked']\\n\\n    if (tour.includes(v)) {\\n        error_msg.text = 'This node is already in the tour.'\\n        return;\\n    } else {\\n        error_msg.text = ''\\n    }\\n\\n    function add_node(v) {\\n        // add to cost\\n        if (tour.length > 0) {\\n            var u = tour[tour.length - 1]\\n            var prev_cost = parseFloat(cost.text)\\n            cost.text = (prev_cost + cost_matrix.data['G'][u][v]).toFixed(1)\\n        }\\n\\n        // add to tour\\n        tour.push(v)\\n        clicked.text = '['.concat(tour.join(',')).concat(']')\\n\\n        // highlight new node\\n        nodes_src.data['line_color'][v] = PRIMARY_DARK_COLOR\\n        nodes_src.data['fill_color'][v] = PRIMARY_DARK_COLOR\\n\\n        // highlight new edge\\n        tour_src.data['edges_x'].push(nodes_src.data['x'][v])\\n        tour_src.data['edges_y'].push(nodes_src.data['y'][v])\\n    }\\n\\n    add_node(v)\\n    if (tour.length == n) {\\n        add_node(tour[0])\\n        error_msg.text = 'done.'\\n    }\\n\\n    source.change.emit()\\n    tour_src.change.emit()\\n    nodes_src.change.emit()\\n}\\n\\n/**\\n * Iteration of Dijkstra's algorithm.\\n * Check if user-selected node is a valid next node. If valid, add the selected\\n * node. If not, an error message is returned.\\n */\\nfunction dijkstras() {\\n    var dist = source.data['dist']\\n    var prev = source.data['prev']\\n    var S = source.data['settled']\\n    var F = source.data['frontier']\\n\\n    F.sort(function(a,b) {return dist[a] - dist[b]})\\n\\n    if (F.includes(i)) {\\n        if (dist[i] == dist[F[0]]) {\\n            var f = i\\n            F.splice(F.indexOf(f), 1)\\n            S.push(f)\\n            for (let w = 0; w < G.length; w++) {\\n                if (G[f][w] != 0) {\\n                    if (!S.includes(w) && !F.includes(w)) {\\n                        dist[w] = dist[f] + G[f][w]\\n                        prev[w] = f\\n                        F.push(w)\\n                        var k = edge_ids[w][f]\\n                        edges_src.data['line_color'][k] = TERTIARY_DARK_COLOR\\n                    } else {\\n                        if (dist[f] + G[f][w] < dist[w]) {\\n                            var k = edge_ids[prev[w]][w]\\n                            edges_src.data['line_color'][k] = TERTIARY_COLOR\\n\\n                            dist[w] = dist[f] + G[f][w]\\n                            prev[w] = f\\n\\n                            var k = edge_ids[f][w]\\n                            edges_src.data['line_color'][k] = TERTIARY_DARK_COLOR\\n                        }\\n                    }\\n                }\\n            }\\n            error_msg.text = ''\\n        } else {\\n            error_msg.text = 'A closer frontier node exists.'\\n        }\\n    } else {\\n        error_msg.text = 'This node is not in the frontier set.'\\n    }\\n\\n    for (let i = 0; i < G.length; i++) {\\n        // Highlight settled and frontier nodes\\n        if (S.includes(i)) {\\n            nodes_src.data['fill_color'][i] = PRIMARY_DARK_COLOR\\n            nodes_src.data['line_color'][i] = PRIMARY_DARK_COLOR\\n        } else if (F.includes(i)) {\\n            nodes_src.data['fill_color'][i] = SECONDARY_COLOR\\n            nodes_src.data['line_color'][i] = SECONDARY_DARK_COLOR\\n        } else {\\n            nodes_src.data['fill_color'][i] = PRIMARY_LIGHT_COLOR\\n            nodes_src.data['line_color'][i] = PRIMARY_DARK_COLOR\\n        }\\n\\n        // Update table source\\n        var dist_text\\n        var prev_text\\n        if (isFinite(dist[i])) {\\n            dist_text = dist[i].toFixed(1)\\n        } else {\\n            dist_text = 'inf'\\n        }\\n        if (S.includes(i)) {\\n            dist_text = dist_text.concat('*')\\n        }\\n\\n        if (isNaN(prev[i])) {\\n            prev_text = '-'\\n        } else {\\n            prev_text = prev[i]\\n        }\\n        table_src.data[i.toString()] = [dist_text, prev_text]\\n    }\\n\\n    if (F.length == 0) {\\n        error_msg.text = 'done.'\\n    }\\n\\n    source.change.emit()\\n    nodes_src.change.emit()\\n    edges_src.change.emit()\\n    table_src.change.emit()\\n}\\n\\n// BEGIN FUNCTION CALLING\\ncheck_done()\\nload_data()\\nkruskals()\\ntree_update()\\n\"},\"id\":\"2367\",\"type\":\"CustomJS\"},{\"attributes\":{\"align\":\"center\",\"text\":\"[]\",\"width\":300},\"id\":\"2362\",\"type\":\"Div\"},{\"attributes\":{\"axis\":{\"id\":\"2317\"},\"dimension\":1,\"grid_line_color\":null,\"ticker\":null},\"id\":\"2320\",\"type\":\"Grid\"},{\"attributes\":{\"callback\":{\"id\":\"2367\"},\"renderers\":[{\"id\":\"2349\"}]},\"id\":\"2368\",\"type\":\"TapTool\"},{\"attributes\":{\"children\":[{\"id\":\"2361\"},{\"id\":\"2363\"},{\"id\":\"2362\"}]},\"id\":\"2372\",\"type\":\"Row\"},{\"attributes\":{\"data\":{\"fill_color\":[\"#5e92f3\",\"#5e92f3\",\"#5e92f3\",\"#5e92f3\",\"#5e92f3\",\"#5e92f3\",\"#5e92f3\",\"#5e92f3\",\"#5e92f3\",\"#5e92f3\",\"#5e92f3\",\"#5e92f3\",\"#5e92f3\",\"#5e92f3\",\"#5e92f3\",\"#5e92f3\"],\"line_color\":[\"#003c8f\",\"#003c8f\",\"#003c8f\",\"#003c8f\",\"#003c8f\",\"#003c8f\",\"#003c8f\",\"#003c8f\",\"#003c8f\",\"#003c8f\",\"#003c8f\",\"#003c8f\",\"#003c8f\",\"#003c8f\",\"#003c8f\",\"#003c8f\"],\"line_width\":[3,3,3,3,3,3,3,3,3,3,3,3,3,3,3,3],\"x\":[6,20,72,111,194,178,199,205,207,198,165,157,162,144,127,189],\"y\":[71,59,31,-8,-8,38,86,96,106,103,97,84,112,112,97,93]},\"selected\":{\"id\":\"2382\"},\"selection_policy\":{\"id\":\"2381\"}},\"id\":\"2338\",\"type\":\"ColumnDataSource\"}],\"root_ids\":[\"2392\"]},\"title\":\"Bokeh Application\",\"version\":\"2.2.3\"}};\n",
       "  var render_items = [{\"docid\":\"fb42d83d-c49a-4185-b51a-86e24da18241\",\"root_ids\":[\"2392\"],\"roots\":{\"2392\":\"59f25191-9bed-4fcd-8214-a668a66e7bc8\"}}];\n",
       "  root.Bokeh.embed.embed_items_notebook(docs_json, render_items);\n",
       "\n",
       "  }\n",
       "  if (root.Bokeh !== undefined) {\n",
       "    embed_document(root);\n",
       "  } else {\n",
       "    var attempts = 0;\n",
       "    var timer = setInterval(function(root) {\n",
       "      if (root.Bokeh !== undefined) {\n",
       "        clearInterval(timer);\n",
       "        embed_document(root);\n",
       "      } else {\n",
       "        attempts++;\n",
       "        if (attempts > 100) {\n",
       "          clearInterval(timer);\n",
       "          console.log(\"Bokeh: ERROR: Unable to run BokehJS code because BokehJS library is missing\");\n",
       "        }\n",
       "      }\n",
       "    }, 10, root)\n",
       "  }\n",
       "})(window);"
      ],
      "application/vnd.bokehjs_exec.v0+json": ""
     },
     "metadata": {
      "application/vnd.bokehjs_exec.v0+json": {
       "id": "2392"
      }
     },
     "output_type": "display_data"
    }
   ],
   "source": [
    "show(vl.assisted_mst_algorithm_plot(G, algorithm='kruskals', width=900, height=600))"
   ]
  },
  {
   "cell_type": "markdown",
   "metadata": {},
   "source": [
    "**Q8:** Verify your by-hand computations were correct. Did you make any mistakes?\n",
    "\n",
    "**A:** <font color='blue'> Answers will vary.</font>"
   ]
  },
  {
   "cell_type": "markdown",
   "metadata": {},
   "source": [
    "**Q9:** Run the cell below and click next until you have a minimum spanning tree. Again, try to anticipate each of the algorithm’s steps. What is the cost of the final solution?\n",
    "\n",
    "**A:** <font color='blue'> 103</font>"
   ]
  },
  {
   "cell_type": "code",
   "execution_count": 9,
   "metadata": {},
   "outputs": [
    {
     "data": {
      "text/html": [
       "\n",
       "\n",
       "\n",
       "\n",
       "\n",
       "\n",
       "  <div class=\"bk-root\" id=\"c8ee346b-b402-4216-a3ec-800756179e2b\" data-root-id=\"2694\"></div>\n"
      ]
     },
     "metadata": {},
     "output_type": "display_data"
    },
    {
     "data": {
      "application/javascript": [
       "(function(root) {\n",
       "  function embed_document(root) {\n",
       "    \n",
       "  var docs_json = {\"2f163aa3-4c93-494e-8241-522750395286\":{\"roots\":{\"references\":[{\"attributes\":{\"children\":[[{\"id\":\"2595\"},0,0],[{\"id\":\"2669\"},1,0],[{\"id\":\"2670\"},2,0]]},\"id\":\"2694\",\"type\":\"GridBox\"},{\"attributes\":{\"source\":{\"id\":\"2637\"}},\"id\":\"2643\",\"type\":\"CDSView\"},{\"attributes\":{\"data_source\":{\"id\":\"2644\"},\"glyph\":{\"id\":\"2645\"},\"hover_glyph\":null,\"level\":\"guide\",\"muted_glyph\":null,\"nonselection_glyph\":{\"id\":\"2646\"},\"selection_glyph\":null,\"view\":{\"id\":\"2648\"}},\"id\":\"2647\",\"type\":\"GlyphRenderer\"},{\"attributes\":{\"end\":224.085,\"start\":-11.085},\"id\":\"2598\",\"type\":\"Range1d\"},{\"attributes\":{\"children\":[{\"id\":\"2665\"},{\"id\":\"2663\"}],\"max_width\":900,\"sizing_mode\":\"stretch_both\"},\"id\":\"2669\",\"type\":\"Row\"},{\"attributes\":{\"active_drag\":null,\"active_inspect\":\"auto\",\"active_multi\":null,\"active_scroll\":null,\"active_tap\":\"auto\",\"logo\":null,\"tools\":[{\"id\":\"2614\"},{\"id\":\"2615\"},{\"id\":\"2616\"},{\"id\":\"2617\"},{\"id\":\"2618\"},{\"id\":\"2619\"},{\"id\":\"2667\"}]},\"id\":\"2621\",\"type\":\"Toolbar\"},{\"attributes\":{\"end\":122.2,\"start\":-18.200000000000003},\"id\":\"2600\",\"type\":\"Range1d\"},{\"attributes\":{\"source\":{\"id\":\"2644\"}},\"id\":\"2648\",\"type\":\"CDSView\"},{\"attributes\":{\"children\":[{\"id\":\"2661\"},{\"id\":\"2654\"}]},\"id\":\"2670\",\"type\":\"Row\"},{\"attributes\":{},\"id\":\"2602\",\"type\":\"LinearScale\"},{\"attributes\":{\"data\":{\"text\":[4,24,12,19,20,8,10,6,10,25,14,18,18,14,4,8,8,12,14,3,3,1,2,4,6,2,6,4],\"x\":{\"__ndarray__\":\"/v//////KUAAAAAAAKBQQAEAAAAAAEdAAAAAAABgUkAAAAAAAOBYQAAAAAAAwGFAAAAAAAAQYkAAAAAAAPBgQAAAAAAA4FZAAAAAAACgXEABAAAAABBjQAAAAAAAEGJAAAAAAADAYEAAAAAAAPBkQAAAAAAAIGRAAAAAAADwY0D//////89iQAAAAAAAQGdAAAAAAACQZ0D//////z9pQAAAAAAAQGhAAAAAAADAaUAAAAAAADBpQAAAAAAAMGhA//////8fZkABAAAAAFBpQAAAAAAAsGZAAAAAAAAgY0A=\",\"dtype\":\"float64\",\"order\":\"little\",\"shape\":[28]},\"y\":{\"__ndarray__\":\"AAAAAABAUEAAAAAAAABVQAAAAAAAgEZAAAAAAACAU0AAAAAAAABQQAAAAAAAoFZAAAAAAAAgWkAAAAAAACBaQAAAAAAAACdAAAAAAADATED+//////8fwAAAAAAAAC5AAAAAAAAAQ0ACAAAAAIBOQAAAAAAAoFZAAAAAAACAWEAAAAAAAIBYQAAAAAAAAC5AAgAAAAAAT0AAAAAAAMBWQAAAAAAAYFZAAAAAAABAWUD//////99YQAAAAAAAgFhAAAAAAADAV0AAAAAAACBaQAAAAAAAAFlAAQAAAAAAXEA=\",\"dtype\":\"float64\",\"order\":\"little\",\"shape\":[28]}},\"selected\":{\"id\":\"2677\"},\"selection_policy\":{\"id\":\"2676\"}},\"id\":\"2649\",\"type\":\"ColumnDataSource\"},{\"attributes\":{},\"id\":\"2677\",\"type\":\"Selection\"},{\"attributes\":{},\"id\":\"2604\",\"type\":\"LinearScale\"},{\"attributes\":{\"source\":{\"id\":\"2649\"},\"text_align\":\"center\",\"text_baseline\":\"middle\",\"text_color\":{\"value\":\"black\"},\"text_font_size\":{\"value\":\"13px\"},\"x\":{\"field\":\"x\"},\"y\":{\"field\":\"y\"}},\"id\":\"2650\",\"type\":\"LabelSet\"},{\"attributes\":{\"data_source\":{\"id\":\"2637\"},\"glyph\":{\"id\":\"2639\"},\"hover_glyph\":{\"id\":\"2641\"},\"level\":\"underlay\",\"muted_glyph\":null,\"nonselection_glyph\":{\"id\":\"2640\"},\"selection_glyph\":null,\"view\":{\"id\":\"2643\"}},\"id\":\"2642\",\"type\":\"GlyphRenderer\"},{\"attributes\":{},\"id\":\"2672\",\"type\":\"BasicTickFormatter\"},{\"attributes\":{\"bottom_units\":\"screen\",\"fill_alpha\":0.5,\"fill_color\":\"lightgrey\",\"left_units\":\"screen\",\"level\":\"overlay\",\"line_alpha\":1.0,\"line_color\":\"black\",\"line_dash\":[4,4],\"line_width\":2,\"right_units\":\"screen\",\"top_units\":\"screen\"},\"id\":\"2620\",\"type\":\"BoxAnnotation\"},{\"attributes\":{\"formatter\":{\"id\":\"2674\"},\"ticker\":{\"id\":\"2607\"},\"visible\":false},\"id\":\"2606\",\"type\":\"LinearAxis\"},{\"attributes\":{},\"id\":\"2674\",\"type\":\"BasicTickFormatter\"},{\"attributes\":{},\"id\":\"2680\",\"type\":\"Selection\"},{\"attributes\":{\"background_fill_color\":null,\"below\":[{\"id\":\"2606\"}],\"border_fill_color\":null,\"center\":[{\"id\":\"2609\"},{\"id\":\"2613\"},{\"id\":\"2650\"}],\"left\":[{\"id\":\"2610\"}],\"outline_line_color\":null,\"plot_width\":900,\"renderers\":[{\"id\":\"2635\"},{\"id\":\"2642\"},{\"id\":\"2647\"},{\"id\":\"2659\"}],\"title\":{\"id\":\"2596\"},\"toolbar\":{\"id\":\"2621\"},\"toolbar_location\":null,\"x_range\":{\"id\":\"2598\"},\"x_scale\":{\"id\":\"2602\"},\"y_range\":{\"id\":\"2600\"},\"y_scale\":{\"id\":\"2604\"}},\"id\":\"2595\",\"subtype\":\"Figure\",\"type\":\"Plot\"},{\"attributes\":{\"data\":{\"fill_color\":[\"#5e92f3\",\"#5e92f3\",\"#5e92f3\",\"#5e92f3\",\"#5e92f3\",\"#5e92f3\",\"#5e92f3\",\"#5e92f3\",\"#5e92f3\",\"#5e92f3\",\"#5e92f3\",\"#5e92f3\",\"#5e92f3\",\"#5e92f3\",\"#5e92f3\",\"#5e92f3\"],\"line_color\":[\"#003c8f\",\"#003c8f\",\"#003c8f\",\"#003c8f\",\"#003c8f\",\"#003c8f\",\"#003c8f\",\"#003c8f\",\"#003c8f\",\"#003c8f\",\"#003c8f\",\"#003c8f\",\"#003c8f\",\"#003c8f\",\"#003c8f\",\"#003c8f\"],\"line_width\":[3,3,3,3,3,3,3,3,3,3,3,3,3,3,3,3],\"x\":[6,20,72,111,194,178,199,205,207,198,165,157,162,144,127,189],\"y\":[71,59,31,-8,-8,38,86,96,106,103,97,84,112,112,97,93]},\"selected\":{\"id\":\"2680\"},\"selection_policy\":{\"id\":\"2679\"}},\"id\":\"2631\",\"type\":\"ColumnDataSource\"},{\"attributes\":{},\"id\":\"2607\",\"type\":\"BasicTicker\"},{\"attributes\":{},\"id\":\"2676\",\"type\":\"UnionRenderers\"},{\"attributes\":{\"data\":{\"xs\":[],\"ys\":[]},\"selected\":{\"id\":\"2686\"},\"selection_policy\":{\"id\":\"2685\"}},\"id\":\"2655\",\"type\":\"ColumnDataSource\"},{\"attributes\":{\"axis\":{\"id\":\"2606\"},\"grid_line_color\":null,\"ticker\":null},\"id\":\"2609\",\"type\":\"Grid\"},{\"attributes\":{},\"id\":\"2679\",\"type\":\"UnionRenderers\"},{\"attributes\":{},\"id\":\"2681\",\"type\":\"UnionRenderers\"},{\"attributes\":{\"data\":{\"line_color\":[\"#DFDFDF\",\"#DFDFDF\",\"#DFDFDF\",\"#DFDFDF\",\"#DFDFDF\",\"#DFDFDF\",\"#DFDFDF\",\"#DFDFDF\",\"#DFDFDF\",\"#DFDFDF\",\"#DFDFDF\",\"#DFDFDF\",\"#DFDFDF\",\"#DFDFDF\",\"#DFDFDF\",\"#DFDFDF\",\"#DFDFDF\",\"#DFDFDF\",\"#DFDFDF\",\"#DFDFDF\",\"#DFDFDF\",\"#DFDFDF\",\"#DFDFDF\",\"#DFDFDF\",\"#DFDFDF\",\"#DFDFDF\",\"#DFDFDF\",\"#DFDFDF\"],\"u\":[0,0,1,1,14,14,14,14,2,2,3,3,3,11,11,11,11,4,5,6,6,7,7,15,15,8,9,12],\"v\":[1,14,2,14,2,11,12,13,3,11,4,5,11,5,10,12,13,5,6,7,15,8,9,9,10,9,10,13],\"weight\":[4,24,12,19,20,8,10,6,10,25,14,18,18,14,4,8,8,12,14,3,3,1,2,4,6,2,6,4],\"xs\":[[6,20],[6,127],[20,72],[20,127],[127,72],[127,157],[127,162],[127,144],[72,111],[72,157],[111,194],[111,178],[111,157],[157,178],[157,165],[157,162],[157,144],[194,178],[178,199],[199,205],[199,189],[205,207],[205,198],[189,198],[189,165],[207,198],[198,165],[162,144]],\"ys\":[[71,59],[71,97],[59,31],[59,97],[97,31],[97,84],[97,112],[97,112],[31,-8],[31,84],[-8,-8],[-8,38],[-8,84],[84,38],[84,97],[84,112],[84,112],[-8,38],[38,86],[86,96],[86,93],[96,106],[96,103],[93,103],[93,97],[106,103],[103,97],[112,112]]},\"selected\":{\"id\":\"2682\"},\"selection_policy\":{\"id\":\"2681\"}},\"id\":\"2637\",\"type\":\"ColumnDataSource\"},{\"attributes\":{},\"id\":\"2682\",\"type\":\"Selection\"},{\"attributes\":{\"align\":\"center\",\"text\":\"16\",\"width\":900},\"id\":\"2653\",\"type\":\"Div\"},{\"attributes\":{},\"id\":\"2611\",\"type\":\"BasicTicker\"},{\"attributes\":{\"line_alpha\":{\"value\":0.1},\"line_cap\":\"round\",\"line_color\":{\"value\":\"#404040\"},\"line_width\":{\"value\":5},\"xs\":{\"field\":\"xs\"},\"ys\":{\"field\":\"ys\"}},\"id\":\"2658\",\"type\":\"MultiLine\"},{\"attributes\":{\"source\":{\"id\":\"2655\"}},\"id\":\"2660\",\"type\":\"CDSView\"},{\"attributes\":{},\"id\":\"2683\",\"type\":\"UnionRenderers\"},{\"attributes\":{\"axis\":{\"id\":\"2610\"},\"dimension\":1,\"grid_line_color\":null,\"ticker\":null},\"id\":\"2613\",\"type\":\"Grid\"},{\"attributes\":{\"line_cap\":\"round\",\"line_color\":{\"field\":\"line_color\"},\"line_width\":{\"value\":5},\"xs\":{\"field\":\"xs\"},\"ys\":{\"field\":\"ys\"}},\"id\":\"2639\",\"type\":\"MultiLine\"},{\"attributes\":{},\"id\":\"2684\",\"type\":\"Selection\"},{\"attributes\":{\"data_source\":{\"id\":\"2655\"},\"glyph\":{\"id\":\"2657\"},\"hover_glyph\":null,\"level\":\"underlay\",\"muted_glyph\":null,\"nonselection_glyph\":{\"id\":\"2658\"},\"selection_glyph\":null,\"view\":{\"id\":\"2660\"}},\"id\":\"2659\",\"type\":\"GlyphRenderer\"},{\"attributes\":{\"line_cap\":\"round\",\"line_color\":{\"value\":\"#404040\"},\"line_width\":{\"value\":5},\"xs\":{\"field\":\"xs\"},\"ys\":{\"field\":\"ys\"}},\"id\":\"2657\",\"type\":\"MultiLine\"},{\"attributes\":{},\"id\":\"2685\",\"type\":\"UnionRenderers\"},{\"attributes\":{\"data_source\":{\"id\":\"2631\"},\"glyph\":{\"id\":\"2633\"},\"hover_glyph\":null,\"muted_glyph\":null,\"nonselection_glyph\":{\"id\":\"2634\"},\"selection_glyph\":null,\"view\":{\"id\":\"2636\"}},\"id\":\"2635\",\"type\":\"GlyphRenderer\"},{\"attributes\":{\"align\":\"center\",\"width\":450},\"id\":\"2654\",\"type\":\"Div\"},{\"attributes\":{},\"id\":\"2686\",\"type\":\"Selection\"},{\"attributes\":{\"align\":\"center\",\"text\":\"0\",\"width\":450},\"id\":\"2661\",\"type\":\"Div\"},{\"attributes\":{\"line_cap\":\"round\",\"line_color\":{\"value\":\"#404040\"},\"line_width\":{\"value\":5},\"xs\":{\"field\":\"xs\"},\"ys\":{\"field\":\"ys\"}},\"id\":\"2641\",\"type\":\"MultiLine\"},{\"attributes\":{\"align\":\"center\",\"text\":\"0\",\"width\":900},\"id\":\"2652\",\"type\":\"Div\"},{\"attributes\":{},\"id\":\"2614\",\"type\":\"PanTool\"},{\"attributes\":{\"fill_color\":{\"field\":\"fill_color\"},\"line_color\":{\"field\":\"line_color\"},\"line_width\":{\"field\":\"line_width\"},\"size\":{\"units\":\"screen\",\"value\":11},\"x\":{\"field\":\"x\"},\"y\":{\"field\":\"y\"}},\"id\":\"2633\",\"type\":\"Circle\"},{\"attributes\":{},\"id\":\"2692\",\"type\":\"UnionRenderers\"},{\"attributes\":{\"data\":{\"costs\":[0,1,3,6,9,13,17,21,27,33,41,51,63,75,89,103],\"edge_xs\":[[],[[205,207]],[[205,207],[205,198]],[[205,207],[205,198],[199,205]],[[205,207],[205,198],[199,205],[199,189]],[[205,207],[205,198],[199,205],[199,189],[6,20]],[[205,207],[205,198],[199,205],[199,189],[6,20],[157,165]],[[205,207],[205,198],[199,205],[199,189],[6,20],[157,165],[162,144]],[[205,207],[205,198],[199,205],[199,189],[6,20],[157,165],[162,144],[127,144]],[[205,207],[205,198],[199,205],[199,189],[6,20],[157,165],[162,144],[127,144],[189,165]],[[205,207],[205,198],[199,205],[199,189],[6,20],[157,165],[162,144],[127,144],[189,165],[127,157]],[[205,207],[205,198],[199,205],[199,189],[6,20],[157,165],[162,144],[127,144],[189,165],[127,157],[72,111]],[[205,207],[205,198],[199,205],[199,189],[6,20],[157,165],[162,144],[127,144],[189,165],[127,157],[72,111],[20,72]],[[205,207],[205,198],[199,205],[199,189],[6,20],[157,165],[162,144],[127,144],[189,165],[127,157],[72,111],[20,72],[194,178]],[[205,207],[205,198],[199,205],[199,189],[6,20],[157,165],[162,144],[127,144],[189,165],[127,157],[72,111],[20,72],[194,178],[111,194]],[[205,207],[205,198],[199,205],[199,189],[6,20],[157,165],[162,144],[127,144],[189,165],[127,157],[72,111],[20,72],[194,178],[111,194],[157,178]]],\"edge_ys\":[[],[[96,106]],[[96,106],[96,103]],[[96,106],[96,103],[86,96]],[[96,106],[96,103],[86,96],[86,93]],[[96,106],[96,103],[86,96],[86,93],[71,59]],[[96,106],[96,103],[86,96],[86,93],[71,59],[84,97]],[[96,106],[96,103],[86,96],[86,93],[71,59],[84,97],[112,112]],[[96,106],[96,103],[86,96],[86,93],[71,59],[84,97],[112,112],[97,112]],[[96,106],[96,103],[86,96],[86,93],[71,59],[84,97],[112,112],[97,112],[93,97]],[[96,106],[96,103],[86,96],[86,93],[71,59],[84,97],[112,112],[97,112],[93,97],[97,84]],[[96,106],[96,103],[86,96],[86,93],[71,59],[84,97],[112,112],[97,112],[93,97],[97,84],[31,-8]],[[96,106],[96,103],[86,96],[86,93],[71,59],[84,97],[112,112],[97,112],[93,97],[97,84],[31,-8],[59,31]],[[96,106],[96,103],[86,96],[86,93],[71,59],[84,97],[112,112],[97,112],[93,97],[97,84],[31,-8],[59,31],[-8,38]],[[96,106],[96,103],[86,96],[86,93],[71,59],[84,97],[112,112],[97,112],[93,97],[97,84],[31,-8],[59,31],[-8,38],[-8,-8]],[[96,106],[96,103],[86,96],[86,93],[71,59],[84,97],[112,112],[97,112],[93,97],[97,84],[31,-8],[59,31],[-8,38],[-8,-8],[84,38]]],\"nodes\":[[],[8,7],[8,9,7],[8,9,6,7],[6,7,8,9,15],[0,1,6,7,8,9,15],[0,1,6,7,8,9,10,11,15],[0,1,6,7,8,9,10,11,12,13,15],[0,1,6,7,8,9,10,11,12,13,14,15],[0,1,6,7,8,9,10,11,12,13,14,15],[0,1,6,7,8,9,10,11,12,13,14,15],[0,1,2,3,6,7,8,9,10,11,12,13,14,15],[0,1,2,3,6,7,8,9,10,11,12,13,14,15],[0,1,2,3,4,5,6,7,8,9,10,11,12,13,14,15],[0,1,2,3,4,5,6,7,8,9,10,11,12,13,14,15],[0,1,2,3,4,5,6,7,8,9,10,11,12,13,14,15]]},\"selected\":{\"id\":\"2693\"},\"selection_policy\":{\"id\":\"2692\"}},\"id\":\"2662\",\"type\":\"ColumnDataSource\"},{\"attributes\":{},\"id\":\"2615\",\"type\":\"WheelZoomTool\"},{\"attributes\":{\"fill_color\":{\"field\":\"fill_color\"},\"line_color\":{\"field\":\"line_color\"},\"line_width\":{\"field\":\"line_width\"},\"size\":{\"units\":\"screen\",\"value\":11},\"x\":{\"field\":\"x\"},\"y\":{\"field\":\"y\"}},\"id\":\"2634\",\"type\":\"Circle\"},{\"attributes\":{},\"id\":\"2693\",\"type\":\"Selection\"},{\"attributes\":{\"text\":\"\"},\"id\":\"2596\",\"type\":\"Title\"},{\"attributes\":{\"source\":{\"id\":\"2631\"}},\"id\":\"2636\",\"type\":\"CDSView\"},{\"attributes\":{\"button_type\":\"primary\",\"icon\":null,\"js_event_callbacks\":{\"button_click\":[{\"id\":\"2664\"}]},\"label\":\"Next\",\"max_width\":450,\"sizing_mode\":\"stretch_width\",\"width_policy\":\"fit\"},\"id\":\"2663\",\"type\":\"Button\"},{\"attributes\":{\"overlay\":{\"id\":\"2620\"}},\"id\":\"2616\",\"type\":\"BoxZoomTool\"},{\"attributes\":{\"line_cap\":\"round\",\"line_color\":{\"field\":\"line_color\"},\"line_width\":{\"value\":5},\"xs\":{\"field\":\"xs\"},\"ys\":{\"field\":\"ys\"}},\"id\":\"2640\",\"type\":\"MultiLine\"},{\"attributes\":{\"args\":{\"cost\":{\"id\":\"2661\"},\"done\":{\"id\":\"2654\"},\"edge_subset_src\":{\"id\":\"2655\"},\"k\":{\"id\":\"2653\"},\"n\":{\"id\":\"2652\"},\"nodes_src\":{\"id\":\"2631\"},\"source\":{\"id\":\"2662\"}},\"code\":\"/* Color Theme -- Using Google's Material Design Color System\\n   https://material.io/design/color/the-color-system.html */\\n\\n/** @constant {string} */\\nvar PRIMARY_COLOR = '#1565c0'\\n/** @constant {string} */\\nvar PRIMARY_LIGHT_COLOR = '#5e92f3'\\n/** @constant {string} */\\nvar PRIMARY_DARK_COLOR = '#003c8f'\\n/** @constant {string} */\\nvar SECONDARY_COLOR = '#d50000'\\n/** @constant {string} */\\nvar SECONDARY_LIGHT_COLOR = '#ff5131'\\n/** @constant {string} */\\nvar SECONDARY_DARK_COLOR = '#9b0000'\\n\\n// Grayscale\\n/** @constant {string} */\\nvar TERTIARY_COLOR = '#DFDFDF'\\n/**\\n *  Jupyter Notebook: 'white', Sphinx: '#FCFCFC'\\n *  @constant {string}\\n */\\nvar TERTIARY_LIGHT_COLOR = 'white'\\n/** @constant {string} */\\nvar TERTIARY_DARK_COLOR = '#404040'\\n/** @type {integer} */\\nvar iteration = 0\\n\\n\\n/**\\n * Increment iteration and update n Div.\\n */\\nfunction increment_iteration() {\\n    if ((parseInt(n.text) + 1) < parseInt(k.text)) {\\n        n.text = (parseInt(n.text) + 1).toString()\\n    }\\n    iteration = parseInt(n.text)\\n}\\n\\n/**\\n * Decrement iteration and update n Div.\\n */\\nfunction decrement_iteration() {\\n    if ((parseInt(n.text) - 1) >= 0) {\\n        n.text = (parseInt(n.text) - 1).toString()\\n    }\\n    iteration = parseInt(n.text)\\n}\\n\\n/**\\n * Update which nodes are highlighted given the current iteration.\\n */\\nfunction nodes_update() {\\n    var in_tree = source.data['nodes'][iteration]\\n\\n    for (let i = 0; i < nodes_src.data['line_color'].length ; i++) {\\n        if (in_tree.includes(i)) {\\n            nodes_src.data['fill_color'][i] = PRIMARY_DARK_COLOR\\n            nodes_src.data['line_color'][i] = PRIMARY_DARK_COLOR\\n        } else {\\n            nodes_src.data['fill_color'][i] = PRIMARY_LIGHT_COLOR\\n            nodes_src.data['line_color'][i] = PRIMARY_DARK_COLOR\\n        }\\n    }\\n\\n    nodes_src.change.emit()\\n}\\n\\n/**\\n * Update which subset of edges are highlighted given the current iteration.\\n */\\nfunction edge_subset_update() {\\n    edge_subset_src.data['xs'] = source.data['edge_xs'][iteration]\\n    edge_subset_src.data['ys'] = source.data['edge_ys'][iteration]\\n    edge_subset_src.change.emit()\\n}\\n\\n/**\\n * Update which swaps are updated given the current iteration\\n */\\nfunction swaps_update() {\\n    swaps_src.data['swaps_before_x'] = source.data['swaps_before_x'][iteration]\\n    swaps_src.data['swaps_before_y'] = source.data['swaps_before_y'][iteration]\\n    swaps_src.data['swaps_after_x'] = source.data['swaps_after_x'][iteration]\\n    swaps_src.data['swaps_after_y'] = source.data['swaps_after_y'][iteration]\\n    swaps_src.change.emit()\\n}\\n\\n/**\\n * Update which table is shown given the current iteration.\\n */\\nfunction table_update() {\\n    table_src.data = source.data['tables'][iteration]\\n}\\n\\n/**\\n * Update which cost is shown given the current iteration.\\n */\\nfunction cost_update() {\\n    cost.text = source.data['costs'][iteration].toFixed(1)\\n}\\n\\n/**\\n * Update done Div based on the current iteration.\\n */\\nfunction done_update() {\\n    if (iteration == parseInt(k.text) - 1) {\\n        done.text = \\\"done.\\\"\\n    } else {\\n        done.text = \\\"\\\"\\n    }\\n}\\n\\n// BEGIN FUNCTION CALLING\\nincrement_iteration()\\ndone_update()\\ncost_update()\\nedge_subset_update()\\nnodes_update()\\n\"},\"id\":\"2664\",\"type\":\"CustomJS\"},{\"attributes\":{\"data\":{\"xs\":[[11.867393549830293,14.1326064501697],[64.2132081933475,68.78679180665253],[43.98457472802465,48.01542527197538],[71.31392773909235,75.68607226090765],[100.9065151137992,98.09348488620083],[140.5887402418824,143.4112597581176],[142.37870743870653,146.62129256129347],[134.3832167600553,136.6167832399447],[89.9311343589464,93.06886564105363],[112.57004046214576,116.42995953785424],[150.1483,154.85170000000002],[142.6336759201498,146.3663240798502],[133.03894314211007,134.96105685788993],[166.61006419357236,168.38993580642764],[160.24329823001975,161.75670176998028],[159.25243123412935,159.74756876587068],[151.1019039619186,149.89809603808138],[186.69937892443528,185.30062107556475],[187.6421179461765,189.35788205382346],[201.25793580143863,202.74206419856134],[195.23521488209917,192.7647851179008],[205.72359827057616,206.2764017294238],[202.54591042736908,200.45408957263095],[192.51616586095076,194.4838341390492],[178.54133338379128,175.4586666162087],[203.96931436315347,201.03068563684658],[183.03645249636594,179.96354750363403],[154.5678,151.4322]],\"ys\":[[65.9708055287169,64.02919447128312],[83.50862324815732,84.4913767518427],[46.085228992602126,43.914771007397874],[77.22363788864963,78.77636211135038],[65.68781813655903,62.31218186344098],[91.11154589518429,89.88845410481571],[103.59087461658854,105.40912538341149],[103.51460302357822,105.48539697642181],[13.06886564105362,9.93113435894638],[56.296613464632046,58.703386535367954],[-7.999999999999998,-7.999999999999998],[13.718643169058069,16.281356830941924],[36.07788628422017,39.922113715779815],[62.949383195031956,59.05061680496806],[89.27035962378204,91.72964037621796],[96.61361491112429,99.38638508887571],[96.70359146663688,99.29640853336312],[12.989285592248606,17.010714407751394],[60.03912673411776,63.960873265882256],[89.76322633573106,92.23677366426892],[88.63534958253058,90.36465041746942],[99.61799135288078,102.38200864711922],[98.45408957263092,100.54591042736905],[96.90685095661199,99.09314904338801],[94.74311110270146,95.25688889729855],[104.98977145438448,104.01022854561555],[100.27935499933926,99.72064500066074],[112.00000000000001,112.00000000000001]]},\"selected\":{\"id\":\"2684\"},\"selection_policy\":{\"id\":\"2683\"}},\"id\":\"2644\",\"type\":\"ColumnDataSource\"},{\"attributes\":{},\"id\":\"2617\",\"type\":\"SaveTool\"},{\"attributes\":{\"formatter\":{\"id\":\"2672\"},\"ticker\":{\"id\":\"2611\"},\"visible\":false},\"id\":\"2610\",\"type\":\"LinearAxis\"},{\"attributes\":{\"button_type\":\"primary\",\"icon\":null,\"js_event_callbacks\":{\"button_click\":[{\"id\":\"2666\"}]},\"label\":\"Previous\",\"max_width\":450,\"sizing_mode\":\"stretch_width\",\"width_policy\":\"fit\"},\"id\":\"2665\",\"type\":\"Button\"},{\"attributes\":{},\"id\":\"2618\",\"type\":\"ResetTool\"},{\"attributes\":{\"line_color\":{\"value\":\"white\"},\"line_width\":{\"value\":6},\"xs\":{\"field\":\"xs\"},\"ys\":{\"field\":\"ys\"}},\"id\":\"2646\",\"type\":\"MultiLine\"},{\"attributes\":{\"args\":{\"cost\":{\"id\":\"2661\"},\"done\":{\"id\":\"2654\"},\"edge_subset_src\":{\"id\":\"2655\"},\"k\":{\"id\":\"2653\"},\"n\":{\"id\":\"2652\"},\"nodes_src\":{\"id\":\"2631\"},\"source\":{\"id\":\"2662\"}},\"code\":\"/* Color Theme -- Using Google's Material Design Color System\\n   https://material.io/design/color/the-color-system.html */\\n\\n/** @constant {string} */\\nvar PRIMARY_COLOR = '#1565c0'\\n/** @constant {string} */\\nvar PRIMARY_LIGHT_COLOR = '#5e92f3'\\n/** @constant {string} */\\nvar PRIMARY_DARK_COLOR = '#003c8f'\\n/** @constant {string} */\\nvar SECONDARY_COLOR = '#d50000'\\n/** @constant {string} */\\nvar SECONDARY_LIGHT_COLOR = '#ff5131'\\n/** @constant {string} */\\nvar SECONDARY_DARK_COLOR = '#9b0000'\\n\\n// Grayscale\\n/** @constant {string} */\\nvar TERTIARY_COLOR = '#DFDFDF'\\n/**\\n *  Jupyter Notebook: 'white', Sphinx: '#FCFCFC'\\n *  @constant {string}\\n */\\nvar TERTIARY_LIGHT_COLOR = 'white'\\n/** @constant {string} */\\nvar TERTIARY_DARK_COLOR = '#404040'\\n/** @type {integer} */\\nvar iteration = 0\\n\\n\\n/**\\n * Increment iteration and update n Div.\\n */\\nfunction increment_iteration() {\\n    if ((parseInt(n.text) + 1) < parseInt(k.text)) {\\n        n.text = (parseInt(n.text) + 1).toString()\\n    }\\n    iteration = parseInt(n.text)\\n}\\n\\n/**\\n * Decrement iteration and update n Div.\\n */\\nfunction decrement_iteration() {\\n    if ((parseInt(n.text) - 1) >= 0) {\\n        n.text = (parseInt(n.text) - 1).toString()\\n    }\\n    iteration = parseInt(n.text)\\n}\\n\\n/**\\n * Update which nodes are highlighted given the current iteration.\\n */\\nfunction nodes_update() {\\n    var in_tree = source.data['nodes'][iteration]\\n\\n    for (let i = 0; i < nodes_src.data['line_color'].length ; i++) {\\n        if (in_tree.includes(i)) {\\n            nodes_src.data['fill_color'][i] = PRIMARY_DARK_COLOR\\n            nodes_src.data['line_color'][i] = PRIMARY_DARK_COLOR\\n        } else {\\n            nodes_src.data['fill_color'][i] = PRIMARY_LIGHT_COLOR\\n            nodes_src.data['line_color'][i] = PRIMARY_DARK_COLOR\\n        }\\n    }\\n\\n    nodes_src.change.emit()\\n}\\n\\n/**\\n * Update which subset of edges are highlighted given the current iteration.\\n */\\nfunction edge_subset_update() {\\n    edge_subset_src.data['xs'] = source.data['edge_xs'][iteration]\\n    edge_subset_src.data['ys'] = source.data['edge_ys'][iteration]\\n    edge_subset_src.change.emit()\\n}\\n\\n/**\\n * Update which swaps are updated given the current iteration\\n */\\nfunction swaps_update() {\\n    swaps_src.data['swaps_before_x'] = source.data['swaps_before_x'][iteration]\\n    swaps_src.data['swaps_before_y'] = source.data['swaps_before_y'][iteration]\\n    swaps_src.data['swaps_after_x'] = source.data['swaps_after_x'][iteration]\\n    swaps_src.data['swaps_after_y'] = source.data['swaps_after_y'][iteration]\\n    swaps_src.change.emit()\\n}\\n\\n/**\\n * Update which table is shown given the current iteration.\\n */\\nfunction table_update() {\\n    table_src.data = source.data['tables'][iteration]\\n}\\n\\n/**\\n * Update which cost is shown given the current iteration.\\n */\\nfunction cost_update() {\\n    cost.text = source.data['costs'][iteration].toFixed(1)\\n}\\n\\n/**\\n * Update done Div based on the current iteration.\\n */\\nfunction done_update() {\\n    if (iteration == parseInt(k.text) - 1) {\\n        done.text = \\\"done.\\\"\\n    } else {\\n        done.text = \\\"\\\"\\n    }\\n}\\n\\n// BEGIN FUNCTION CALLING\\ndecrement_iteration()\\ndone_update()\\ncost_update()\\nedge_subset_update()\\nnodes_update()\\n\"},\"id\":\"2666\",\"type\":\"CustomJS\"},{\"attributes\":{\"line_color\":{\"value\":\"white\"},\"line_width\":{\"value\":6},\"xs\":{\"field\":\"xs\"},\"ys\":{\"field\":\"ys\"}},\"id\":\"2645\",\"type\":\"MultiLine\"},{\"attributes\":{},\"id\":\"2619\",\"type\":\"HelpTool\"},{\"attributes\":{\"callback\":null,\"renderers\":[{\"id\":\"2635\"}],\"tooltips\":[[\"Index\",\"$index\"],[\"Name\",\"@name\"]]},\"id\":\"2667\",\"type\":\"HoverTool\"}],\"root_ids\":[\"2694\"]},\"title\":\"Bokeh Application\",\"version\":\"2.2.3\"}};\n",
       "  var render_items = [{\"docid\":\"2f163aa3-4c93-494e-8241-522750395286\",\"root_ids\":[\"2694\"],\"roots\":{\"2694\":\"c8ee346b-b402-4216-a3ec-800756179e2b\"}}];\n",
       "  root.Bokeh.embed.embed_items_notebook(docs_json, render_items);\n",
       "\n",
       "  }\n",
       "  if (root.Bokeh !== undefined) {\n",
       "    embed_document(root);\n",
       "  } else {\n",
       "    var attempts = 0;\n",
       "    var timer = setInterval(function(root) {\n",
       "      if (root.Bokeh !== undefined) {\n",
       "        clearInterval(timer);\n",
       "        embed_document(root);\n",
       "      } else {\n",
       "        attempts++;\n",
       "        if (attempts > 100) {\n",
       "          clearInterval(timer);\n",
       "          console.log(\"Bokeh: ERROR: Unable to run BokehJS code because BokehJS library is missing\");\n",
       "        }\n",
       "      }\n",
       "    }, 10, root)\n",
       "  }\n",
       "})(window);"
      ],
      "application/vnd.bokehjs_exec.v0+json": ""
     },
     "metadata": {
      "application/vnd.bokehjs_exec.v0+json": {
       "id": "2694"
      }
     },
     "output_type": "display_data"
    }
   ],
   "source": [
    "show(vl.mst_algorithm_plot(G, algorithm='kruskals', width=900, height=600))"
   ]
  },
  {
   "cell_type": "markdown",
   "metadata": {},
   "source": [
    "**Q10:** Is the same spanning tree found by the two algorithms?\n",
    "\n",
    "<font color='blue'>No.</font>"
   ]
  },
  {
   "cell_type": "markdown",
   "metadata": {},
   "source": [
    "**Q11:** (Why is the previous question not a dumb question?)\n",
    "\n",
    "<font color='blue'>Both are minimum spanning trees but there can be multiple spanning trees that have the same cost.</font>"
   ]
  },
  {
   "cell_type": "markdown",
   "metadata": {},
   "source": [
    "The following algorithm is called the Reverse Greedy Algorithm, and it\n",
    "effectively does Kruskal's in reverse.\n",
    "\n",
    "1. Start with the entire graph.\n",
    "2. At each step, check if the graph has a cycle. If it does, remove the most expensive edge in the cycle (break ties arbitrarily, and pick any cycle you'd like).\n",
    "3. Continue to do this until the graph remaining is a spanning tree.\n"
   ]
  },
  {
   "cell_type": "code",
   "execution_count": 10,
   "metadata": {},
   "outputs": [
    {
     "data": {
      "text/html": [
       "\n",
       "\n",
       "\n",
       "\n",
       "\n",
       "\n",
       "  <div class=\"bk-root\" id=\"42d830f8-a08a-4aa2-b512-96fcffdc9fab\" data-root-id=\"2991\"></div>\n"
      ]
     },
     "metadata": {},
     "output_type": "display_data"
    },
    {
     "data": {
      "application/javascript": [
       "(function(root) {\n",
       "  function embed_document(root) {\n",
       "    \n",
       "  var docs_json = {\"30769ccf-e25b-44aa-a661-acee6c9c57a3\":{\"roots\":{\"references\":[{\"attributes\":{\"children\":[[{\"id\":\"2915\"},0,0],[{\"id\":\"2975\"},1,0]]},\"id\":\"2991\",\"type\":\"GridBox\"},{\"attributes\":{\"line_color\":{\"value\":\"white\"},\"line_width\":{\"value\":6},\"xs\":{\"field\":\"xs\"},\"ys\":{\"field\":\"ys\"}},\"id\":\"2966\",\"type\":\"MultiLine\"},{\"attributes\":{\"data_source\":{\"id\":\"2964\"},\"glyph\":{\"id\":\"2965\"},\"hover_glyph\":null,\"level\":\"guide\",\"muted_glyph\":null,\"nonselection_glyph\":{\"id\":\"2966\"},\"selection_glyph\":null,\"view\":{\"id\":\"2968\"}},\"id\":\"2967\",\"type\":\"GlyphRenderer\"},{\"attributes\":{\"active_drag\":null,\"active_inspect\":\"auto\",\"active_multi\":null,\"active_scroll\":null,\"active_tap\":\"auto\",\"logo\":null,\"tools\":[{\"id\":\"2934\"},{\"id\":\"2935\"},{\"id\":\"2936\"},{\"id\":\"2937\"},{\"id\":\"2938\"},{\"id\":\"2939\"},{\"id\":\"2973\"}]},\"id\":\"2941\",\"type\":\"Toolbar\"},{\"attributes\":{\"end\":224.085,\"start\":-11.085},\"id\":\"2918\",\"type\":\"Range1d\"},{\"attributes\":{\"end\":122.2,\"start\":-18.200000000000003},\"id\":\"2920\",\"type\":\"Range1d\"},{\"attributes\":{\"source\":{\"id\":\"2964\"}},\"id\":\"2968\",\"type\":\"CDSView\"},{\"attributes\":{\"formatter\":{\"id\":\"2977\"},\"ticker\":{\"id\":\"2931\"},\"visible\":false},\"id\":\"2930\",\"type\":\"LinearAxis\"},{\"attributes\":{\"data\":{\"xs\":[[11.301090324745442,14.698909675254566],[63.069812290021225,69.93018770997878],[42.976862092036946,49.02313790796307],[70.22089160863857,76.77910839136149],[101.60977267069882,97.39022732930124],[139.8831103628236,144.11688963717637],[141.31806115805978,147.68193884194022],[133.82482514008294,137.17517485991706],[89.14670153841959,93.85329846158044],[111.6050606932186,117.3949393067814],[148.97244999999998,156.02755],[141.7005138802247,147.2994861197753],[132.55841471316512,135.44158528683488],[166.16509629035858,168.83490370964145],[159.86494734502958,162.13505265497042],[159.128646851194,159.87135314880598],[151.4028559428779,149.5971440571221],[187.04906838665292,184.9509316133471],[187.21317691926478,189.78682308073522],[200.88690370215798,203.11309629784205],[195.85282232314876,192.14717767685121],[205.58539740586426,206.41460259413577],[203.06886564105358,199.9311343589464],[192.02424879142615,194.9757512085738],[179.31200007568697,174.68799992431306],[204.7039715447302,200.29602845526986],[183.80467874454894,179.19532125545106],[155.3517,150.6483]],\"ys\":[[66.45620829307533,63.543791706924665],[83.26293487223596,84.73706512776401],[46.62784348890318,43.372156511096804],[76.83545683297443,79.16454316702556],[66.53172720483855,61.46827279516147],[91.41731884277647,89.58268115722356],[103.13631192488276,105.86368807511724],[103.0219045353673,105.9780954646327],[13.85329846158043,9.146701538419578],[55.694920196948075,59.305079803051925],[-7.999999999999998,-7.999999999999998],[13.077964753587104,16.92203524641289],[35.11682942633026,40.883170573669744],[63.92407479254794,58.07592520745206],[88.65553943567308,92.34446056432695],[95.92042236668642,100.07957763331359],[96.05538719995533,99.9446128000447],[11.98392838837291,18.016071611627098],[59.05869010117662,64.94130989882336],[89.14483950359659,92.85516049640341],[88.20302437379587,90.79697562620413],[98.9269870293212,103.07301297067883],[97.93113435894641,101.0688656410536],[96.360276434918,99.63972356508202],[94.6146666540522,95.38533334594783],[105.23465718157672,103.76534281842328],[100.41903249900889,99.58096750099111],[112.00000000000001,112.00000000000001]]},\"selected\":{\"id\":\"2989\"},\"selection_policy\":{\"id\":\"2988\"}},\"id\":\"2964\",\"type\":\"ColumnDataSource\"},{\"attributes\":{},\"id\":\"2922\",\"type\":\"LinearScale\"},{\"attributes\":{\"data\":{\"text\":[4,24,12,19,20,8,10,6,10,25,14,18,18,14,4,8,8,12,14,3,3,1,2,4,6,2,6,4],\"x\":{\"__ndarray__\":\"AgAAAAAAKkAAAAAAAKBQQAEAAAAAAEdAAgAAAABgUkACAAAAAOBYQP//////v2FAAAAAAAAQYkAAAAAAAPBgQAAAAAAA4FZAAAAAAACgXED//////w9jQAAAAAAAEGJAAAAAAADAYEAAAAAAAPBkQAAAAAAAIGRAAAAAAADwY0AAAAAAANBiQAEAAAAAQGdAAAAAAACQZ0AAAAAAAEBpQAAAAAAAQGhAAQAAAADAaUAAAAAAADBpQP//////L2hAAAAAAAAgZkABAAAAAFBpQAAAAAAAsGZAAAAAAAAgY0A=\",\"dtype\":\"float64\",\"order\":\"little\",\"shape\":[28]},\"y\":{\"__ndarray__\":\"AAAAAABAUED///////9UQAAAAAAAgEZA//////9/U0AAAAAAAABQQAEAAAAAoFZAAAAAAAAgWkAAAAAAACBaQAAAAAAAACdAAAAAAADATED+//////8fwAAAAAAAAC5AAAAAAAAAQ0ACAAAAAIBOQAEAAAAAoFZAAQAAAACAWEABAAAAAIBYQAAAAAAAAC5AAAAAAAAAT0AAAAAAAMBWQAAAAAAAYFZAAAAAAABAWUABAAAAAOBYQAEAAAAAgFhAAQAAAADAV0AAAAAAACBaQAAAAAAAAFlAAQAAAAAAXEA=\",\"dtype\":\"float64\",\"order\":\"little\",\"shape\":[28]}},\"selected\":{\"id\":\"2982\"},\"selection_policy\":{\"id\":\"2981\"}},\"id\":\"2969\",\"type\":\"ColumnDataSource\"},{\"attributes\":{\"source\":{\"id\":\"2957\"}},\"id\":\"2963\",\"type\":\"CDSView\"},{\"attributes\":{},\"id\":\"2924\",\"type\":\"LinearScale\"},{\"attributes\":{\"source\":{\"id\":\"2969\"},\"text_align\":\"center\",\"text_baseline\":\"middle\",\"text_color\":{\"value\":\"black\"},\"text_font_size\":{\"value\":\"13px\"},\"x\":{\"field\":\"x\"},\"y\":{\"field\":\"y\"}},\"id\":\"2970\",\"type\":\"LabelSet\"},{\"attributes\":{\"bottom_units\":\"screen\",\"fill_alpha\":0.5,\"fill_color\":\"lightgrey\",\"left_units\":\"screen\",\"level\":\"overlay\",\"line_alpha\":1.0,\"line_color\":\"black\",\"line_dash\":[4,4],\"line_width\":2,\"right_units\":\"screen\",\"top_units\":\"screen\"},\"id\":\"2940\",\"type\":\"BoxAnnotation\"},{\"attributes\":{\"formatter\":{\"id\":\"2979\"},\"ticker\":{\"id\":\"2927\"},\"visible\":false},\"id\":\"2926\",\"type\":\"LinearAxis\"},{\"attributes\":{\"data\":{\"fill_color\":[\"#5e92f3\",\"#5e92f3\",\"#5e92f3\",\"#5e92f3\",\"#5e92f3\",\"#5e92f3\",\"#5e92f3\",\"#5e92f3\",\"#5e92f3\",\"#5e92f3\",\"#5e92f3\",\"#5e92f3\",\"#5e92f3\",\"#5e92f3\",\"#5e92f3\",\"#5e92f3\"],\"line_color\":[\"#003c8f\",\"#003c8f\",\"#003c8f\",\"#003c8f\",\"#003c8f\",\"#003c8f\",\"#003c8f\",\"#003c8f\",\"#003c8f\",\"#003c8f\",\"#003c8f\",\"#003c8f\",\"#003c8f\",\"#003c8f\",\"#003c8f\",\"#003c8f\"],\"line_width\":[3,3,3,3,3,3,3,3,3,3,3,3,3,3,3,3],\"x\":[6,20,72,111,194,178,199,205,207,198,165,157,162,144,127,189],\"y\":[71,59,31,-8,-8,38,86,96,106,103,97,84,112,112,97,93]},\"selected\":{\"id\":\"2985\"},\"selection_policy\":{\"id\":\"2984\"}},\"id\":\"2951\",\"type\":\"ColumnDataSource\"},{\"attributes\":{},\"id\":\"2927\",\"type\":\"BasicTicker\"},{\"attributes\":{},\"id\":\"2979\",\"type\":\"BasicTickFormatter\"},{\"attributes\":{\"data\":{\"line_color\":[\"#DFDFDF\",\"#DFDFDF\",\"#DFDFDF\",\"#DFDFDF\",\"#DFDFDF\",\"#DFDFDF\",\"#DFDFDF\",\"#DFDFDF\",\"#DFDFDF\",\"#DFDFDF\",\"#DFDFDF\",\"#DFDFDF\",\"#DFDFDF\",\"#DFDFDF\",\"#DFDFDF\",\"#DFDFDF\",\"#DFDFDF\",\"#DFDFDF\",\"#DFDFDF\",\"#DFDFDF\",\"#DFDFDF\",\"#DFDFDF\",\"#DFDFDF\",\"#DFDFDF\",\"#DFDFDF\",\"#DFDFDF\",\"#DFDFDF\",\"#DFDFDF\"],\"u\":[0,0,1,1,14,14,14,14,2,2,3,3,3,11,11,11,11,4,5,6,6,7,7,15,15,8,9,12],\"v\":[1,14,2,14,2,11,12,13,3,11,4,5,11,5,10,12,13,5,6,7,15,8,9,9,10,9,10,13],\"weight\":[4,24,12,19,20,8,10,6,10,25,14,18,18,14,4,8,8,12,14,3,3,1,2,4,6,2,6,4],\"xs\":[[6,20],[6,127],[20,72],[20,127],[127,72],[127,157],[127,162],[127,144],[72,111],[72,157],[111,194],[111,178],[111,157],[157,178],[157,165],[157,162],[157,144],[194,178],[178,199],[199,205],[199,189],[205,207],[205,198],[189,198],[189,165],[207,198],[198,165],[162,144]],\"ys\":[[71,59],[71,97],[59,31],[59,97],[97,31],[97,84],[97,112],[97,112],[31,-8],[31,84],[-8,-8],[-8,38],[-8,84],[84,38],[84,97],[84,112],[84,112],[-8,38],[38,86],[86,96],[86,93],[96,106],[96,103],[93,103],[93,97],[106,103],[103,97],[112,112]]},\"selected\":{\"id\":\"2987\"},\"selection_policy\":{\"id\":\"2986\"}},\"id\":\"2957\",\"type\":\"ColumnDataSource\"},{\"attributes\":{\"axis\":{\"id\":\"2926\"},\"grid_line_color\":null,\"ticker\":null},\"id\":\"2929\",\"type\":\"Grid\"},{\"attributes\":{},\"id\":\"2981\",\"type\":\"UnionRenderers\"},{\"attributes\":{\"callback\":null,\"renderers\":[{\"id\":\"2955\"}],\"tooltips\":[[\"Index\",\"$index\"],[\"Name\",\"@name\"]]},\"id\":\"2973\",\"type\":\"HoverTool\"},{\"attributes\":{},\"id\":\"2977\",\"type\":\"BasicTickFormatter\"},{\"attributes\":{},\"id\":\"2931\",\"type\":\"BasicTicker\"},{\"attributes\":{},\"id\":\"2982\",\"type\":\"Selection\"},{\"attributes\":{\"data_source\":{\"id\":\"2957\"},\"glyph\":{\"id\":\"2959\"},\"hover_glyph\":{\"id\":\"2961\"},\"level\":\"underlay\",\"muted_glyph\":null,\"nonselection_glyph\":{\"id\":\"2960\"},\"selection_glyph\":null,\"view\":{\"id\":\"2963\"}},\"id\":\"2962\",\"type\":\"GlyphRenderer\"},{\"attributes\":{\"axis\":{\"id\":\"2930\"},\"dimension\":1,\"grid_line_color\":null,\"ticker\":null},\"id\":\"2933\",\"type\":\"Grid\"},{\"attributes\":{},\"id\":\"2984\",\"type\":\"UnionRenderers\"},{\"attributes\":{},\"id\":\"2985\",\"type\":\"Selection\"},{\"attributes\":{},\"id\":\"2986\",\"type\":\"UnionRenderers\"},{\"attributes\":{\"data_source\":{\"id\":\"2951\"},\"glyph\":{\"id\":\"2953\"},\"hover_glyph\":null,\"muted_glyph\":null,\"nonselection_glyph\":{\"id\":\"2954\"},\"selection_glyph\":null,\"view\":{\"id\":\"2956\"}},\"id\":\"2955\",\"type\":\"GlyphRenderer\"},{\"attributes\":{\"children\":[{\"id\":\"2972\"}]},\"id\":\"2975\",\"type\":\"Row\"},{\"attributes\":{\"line_color\":{\"value\":\"white\"},\"line_width\":{\"value\":6},\"xs\":{\"field\":\"xs\"},\"ys\":{\"field\":\"ys\"}},\"id\":\"2965\",\"type\":\"MultiLine\"},{\"attributes\":{},\"id\":\"2987\",\"type\":\"Selection\"},{\"attributes\":{\"source\":{\"id\":\"2951\"}},\"id\":\"2956\",\"type\":\"CDSView\"},{\"attributes\":{},\"id\":\"2934\",\"type\":\"PanTool\"},{\"attributes\":{\"fill_color\":{\"field\":\"fill_color\"},\"line_color\":{\"field\":\"line_color\"},\"line_width\":{\"field\":\"line_width\"},\"size\":{\"units\":\"screen\",\"value\":11},\"x\":{\"field\":\"x\"},\"y\":{\"field\":\"y\"}},\"id\":\"2953\",\"type\":\"Circle\"},{\"attributes\":{},\"id\":\"2988\",\"type\":\"UnionRenderers\"},{\"attributes\":{},\"id\":\"2935\",\"type\":\"WheelZoomTool\"},{\"attributes\":{\"fill_color\":{\"field\":\"fill_color\"},\"line_color\":{\"field\":\"line_color\"},\"line_width\":{\"field\":\"line_width\"},\"size\":{\"units\":\"screen\",\"value\":11},\"x\":{\"field\":\"x\"},\"y\":{\"field\":\"y\"}},\"id\":\"2954\",\"type\":\"Circle\"},{\"attributes\":{},\"id\":\"2989\",\"type\":\"Selection\"},{\"attributes\":{\"overlay\":{\"id\":\"2940\"}},\"id\":\"2936\",\"type\":\"BoxZoomTool\"},{\"attributes\":{\"line_cap\":\"round\",\"line_color\":{\"value\":\"#404040\"},\"line_width\":{\"value\":5},\"xs\":{\"field\":\"xs\"},\"ys\":{\"field\":\"ys\"}},\"id\":\"2961\",\"type\":\"MultiLine\"},{\"attributes\":{\"align\":\"center\",\"width\":300},\"id\":\"2972\",\"type\":\"Div\"},{\"attributes\":{},\"id\":\"2937\",\"type\":\"SaveTool\"},{\"attributes\":{\"text\":\"\"},\"id\":\"2916\",\"type\":\"Title\"},{\"attributes\":{\"line_cap\":\"round\",\"line_color\":{\"field\":\"line_color\"},\"line_width\":{\"value\":5},\"xs\":{\"field\":\"xs\"},\"ys\":{\"field\":\"ys\"}},\"id\":\"2959\",\"type\":\"MultiLine\"},{\"attributes\":{},\"id\":\"2938\",\"type\":\"ResetTool\"},{\"attributes\":{\"line_cap\":\"round\",\"line_color\":{\"field\":\"line_color\"},\"line_width\":{\"value\":5},\"xs\":{\"field\":\"xs\"},\"ys\":{\"field\":\"ys\"}},\"id\":\"2960\",\"type\":\"MultiLine\"},{\"attributes\":{\"background_fill_color\":null,\"below\":[{\"id\":\"2926\"}],\"border_fill_color\":null,\"center\":[{\"id\":\"2929\"},{\"id\":\"2933\"},{\"id\":\"2970\"}],\"left\":[{\"id\":\"2930\"}],\"outline_line_color\":null,\"plot_height\":400,\"renderers\":[{\"id\":\"2955\"},{\"id\":\"2962\"},{\"id\":\"2967\"}],\"title\":{\"id\":\"2916\"},\"toolbar\":{\"id\":\"2941\"},\"toolbar_location\":null,\"x_range\":{\"id\":\"2918\"},\"x_scale\":{\"id\":\"2922\"},\"y_range\":{\"id\":\"2920\"},\"y_scale\":{\"id\":\"2924\"}},\"id\":\"2915\",\"subtype\":\"Figure\",\"type\":\"Plot\"},{\"attributes\":{},\"id\":\"2939\",\"type\":\"HelpTool\"}],\"root_ids\":[\"2991\"]},\"title\":\"Bokeh Application\",\"version\":\"2.2.3\"}};\n",
       "  var render_items = [{\"docid\":\"30769ccf-e25b-44aa-a661-acee6c9c57a3\",\"root_ids\":[\"2991\"],\"roots\":{\"2991\":\"42d830f8-a08a-4aa2-b512-96fcffdc9fab\"}}];\n",
       "  root.Bokeh.embed.embed_items_notebook(docs_json, render_items);\n",
       "\n",
       "  }\n",
       "  if (root.Bokeh !== undefined) {\n",
       "    embed_document(root);\n",
       "  } else {\n",
       "    var attempts = 0;\n",
       "    var timer = setInterval(function(root) {\n",
       "      if (root.Bokeh !== undefined) {\n",
       "        clearInterval(timer);\n",
       "        embed_document(root);\n",
       "      } else {\n",
       "        attempts++;\n",
       "        if (attempts > 100) {\n",
       "          clearInterval(timer);\n",
       "          console.log(\"Bokeh: ERROR: Unable to run BokehJS code because BokehJS library is missing\");\n",
       "        }\n",
       "      }\n",
       "    }, 10, root)\n",
       "  }\n",
       "})(window);"
      ],
      "application/vnd.bokehjs_exec.v0+json": ""
     },
     "metadata": {
      "application/vnd.bokehjs_exec.v0+json": {
       "id": "2991"
      }
     },
     "output_type": "display_data"
    }
   ],
   "source": [
    "show(vl.tree_plot(G, tree=[], width=600))"
   ]
  },
  {
   "cell_type": "markdown",
   "metadata": {},
   "source": [
    "**Q12:** Run the first 5 iterations of this algorithm. Show your work: indicate the order in which you delete the edges.\n",
    "\n",
    "**A:** <font color='blue'> Delete edges in this order: (2,11), (0,14), (2,14),(1,14),(11,3) </font>"
   ]
  },
  {
   "cell_type": "markdown",
   "metadata": {},
   "source": [
    "Run the cell below and click next until you have a minimum spanning tree. Note: this software works a little bit different than the above process, and it always looks for the most expensive edge it can eliminate.  It will run a version of Reverse Kruskal's, but won't run in the full generality as above."
   ]
  },
  {
   "cell_type": "code",
   "execution_count": 11,
   "metadata": {},
   "outputs": [
    {
     "data": {
      "text/html": [
       "\n",
       "\n",
       "\n",
       "\n",
       "\n",
       "\n",
       "  <div class=\"bk-root\" id=\"bb959100-caa8-4980-95e5-2b98d3844373\" data-root-id=\"3305\"></div>\n"
      ]
     },
     "metadata": {},
     "output_type": "display_data"
    },
    {
     "data": {
      "application/javascript": [
       "(function(root) {\n",
       "  function embed_document(root) {\n",
       "    \n",
       "  var docs_json = {\"e29275dd-9f70-4000-9f41-6581e57f7b01\":{\"roots\":{\"references\":[{\"attributes\":{\"children\":[[{\"id\":\"3206\"},0,0],[{\"id\":\"3280\"},1,0],[{\"id\":\"3281\"},2,0]]},\"id\":\"3305\",\"type\":\"GridBox\"},{\"attributes\":{},\"id\":\"3229\",\"type\":\"ResetTool\"},{\"attributes\":{\"axis\":{\"id\":\"3221\"},\"dimension\":1,\"grid_line_color\":null,\"ticker\":null},\"id\":\"3224\",\"type\":\"Grid\"},{\"attributes\":{\"line_cap\":\"round\",\"line_color\":{\"value\":\"#404040\"},\"line_width\":{\"value\":5},\"xs\":{\"field\":\"xs\"},\"ys\":{\"field\":\"ys\"}},\"id\":\"3252\",\"type\":\"MultiLine\"},{\"attributes\":{\"args\":{\"cost\":{\"id\":\"3272\"},\"done\":{\"id\":\"3265\"},\"edge_subset_src\":{\"id\":\"3266\"},\"k\":{\"id\":\"3264\"},\"n\":{\"id\":\"3263\"},\"nodes_src\":{\"id\":\"3242\"},\"source\":{\"id\":\"3273\"}},\"code\":\"/* Color Theme -- Using Google's Material Design Color System\\n   https://material.io/design/color/the-color-system.html */\\n\\n/** @constant {string} */\\nvar PRIMARY_COLOR = '#1565c0'\\n/** @constant {string} */\\nvar PRIMARY_LIGHT_COLOR = '#5e92f3'\\n/** @constant {string} */\\nvar PRIMARY_DARK_COLOR = '#003c8f'\\n/** @constant {string} */\\nvar SECONDARY_COLOR = '#d50000'\\n/** @constant {string} */\\nvar SECONDARY_LIGHT_COLOR = '#ff5131'\\n/** @constant {string} */\\nvar SECONDARY_DARK_COLOR = '#9b0000'\\n\\n// Grayscale\\n/** @constant {string} */\\nvar TERTIARY_COLOR = '#DFDFDF'\\n/**\\n *  Jupyter Notebook: 'white', Sphinx: '#FCFCFC'\\n *  @constant {string}\\n */\\nvar TERTIARY_LIGHT_COLOR = 'white'\\n/** @constant {string} */\\nvar TERTIARY_DARK_COLOR = '#404040'\\n/** @type {integer} */\\nvar iteration = 0\\n\\n\\n/**\\n * Increment iteration and update n Div.\\n */\\nfunction increment_iteration() {\\n    if ((parseInt(n.text) + 1) < parseInt(k.text)) {\\n        n.text = (parseInt(n.text) + 1).toString()\\n    }\\n    iteration = parseInt(n.text)\\n}\\n\\n/**\\n * Decrement iteration and update n Div.\\n */\\nfunction decrement_iteration() {\\n    if ((parseInt(n.text) - 1) >= 0) {\\n        n.text = (parseInt(n.text) - 1).toString()\\n    }\\n    iteration = parseInt(n.text)\\n}\\n\\n/**\\n * Update which nodes are highlighted given the current iteration.\\n */\\nfunction nodes_update() {\\n    var in_tree = source.data['nodes'][iteration]\\n\\n    for (let i = 0; i < nodes_src.data['line_color'].length ; i++) {\\n        if (in_tree.includes(i)) {\\n            nodes_src.data['fill_color'][i] = PRIMARY_DARK_COLOR\\n            nodes_src.data['line_color'][i] = PRIMARY_DARK_COLOR\\n        } else {\\n            nodes_src.data['fill_color'][i] = PRIMARY_LIGHT_COLOR\\n            nodes_src.data['line_color'][i] = PRIMARY_DARK_COLOR\\n        }\\n    }\\n\\n    nodes_src.change.emit()\\n}\\n\\n/**\\n * Update which subset of edges are highlighted given the current iteration.\\n */\\nfunction edge_subset_update() {\\n    edge_subset_src.data['xs'] = source.data['edge_xs'][iteration]\\n    edge_subset_src.data['ys'] = source.data['edge_ys'][iteration]\\n    edge_subset_src.change.emit()\\n}\\n\\n/**\\n * Update which swaps are updated given the current iteration\\n */\\nfunction swaps_update() {\\n    swaps_src.data['swaps_before_x'] = source.data['swaps_before_x'][iteration]\\n    swaps_src.data['swaps_before_y'] = source.data['swaps_before_y'][iteration]\\n    swaps_src.data['swaps_after_x'] = source.data['swaps_after_x'][iteration]\\n    swaps_src.data['swaps_after_y'] = source.data['swaps_after_y'][iteration]\\n    swaps_src.change.emit()\\n}\\n\\n/**\\n * Update which table is shown given the current iteration.\\n */\\nfunction table_update() {\\n    table_src.data = source.data['tables'][iteration]\\n}\\n\\n/**\\n * Update which cost is shown given the current iteration.\\n */\\nfunction cost_update() {\\n    cost.text = source.data['costs'][iteration].toFixed(1)\\n}\\n\\n/**\\n * Update done Div based on the current iteration.\\n */\\nfunction done_update() {\\n    if (iteration == parseInt(k.text) - 1) {\\n        done.text = \\\"done.\\\"\\n    } else {\\n        done.text = \\\"\\\"\\n    }\\n}\\n\\n// BEGIN FUNCTION CALLING\\nincrement_iteration()\\ndone_update()\\ncost_update()\\nedge_subset_update()\\nnodes_update()\\n\"},\"id\":\"3275\",\"type\":\"CustomJS\"},{\"attributes\":{},\"id\":\"3303\",\"type\":\"UnionRenderers\"},{\"attributes\":{\"data_source\":{\"id\":\"3248\"},\"glyph\":{\"id\":\"3250\"},\"hover_glyph\":{\"id\":\"3252\"},\"level\":\"underlay\",\"muted_glyph\":null,\"nonselection_glyph\":{\"id\":\"3251\"},\"selection_glyph\":null,\"view\":{\"id\":\"3254\"}},\"id\":\"3253\",\"type\":\"GlyphRenderer\"},{\"attributes\":{\"button_type\":\"primary\",\"icon\":null,\"js_event_callbacks\":{\"button_click\":[{\"id\":\"3277\"}]},\"label\":\"Previous\",\"max_width\":450,\"sizing_mode\":\"stretch_width\",\"width_policy\":\"fit\"},\"id\":\"3276\",\"type\":\"Button\"},{\"attributes\":{},\"id\":\"3230\",\"type\":\"HelpTool\"},{\"attributes\":{\"source\":{\"id\":\"3248\"}},\"id\":\"3254\",\"type\":\"CDSView\"},{\"attributes\":{\"line_cap\":\"round\",\"line_color\":{\"field\":\"line_color\"},\"line_width\":{\"value\":5},\"xs\":{\"field\":\"xs\"},\"ys\":{\"field\":\"ys\"}},\"id\":\"3250\",\"type\":\"MultiLine\"},{\"attributes\":{\"args\":{\"cost\":{\"id\":\"3272\"},\"done\":{\"id\":\"3265\"},\"edge_subset_src\":{\"id\":\"3266\"},\"k\":{\"id\":\"3264\"},\"n\":{\"id\":\"3263\"},\"nodes_src\":{\"id\":\"3242\"},\"source\":{\"id\":\"3273\"}},\"code\":\"/* Color Theme -- Using Google's Material Design Color System\\n   https://material.io/design/color/the-color-system.html */\\n\\n/** @constant {string} */\\nvar PRIMARY_COLOR = '#1565c0'\\n/** @constant {string} */\\nvar PRIMARY_LIGHT_COLOR = '#5e92f3'\\n/** @constant {string} */\\nvar PRIMARY_DARK_COLOR = '#003c8f'\\n/** @constant {string} */\\nvar SECONDARY_COLOR = '#d50000'\\n/** @constant {string} */\\nvar SECONDARY_LIGHT_COLOR = '#ff5131'\\n/** @constant {string} */\\nvar SECONDARY_DARK_COLOR = '#9b0000'\\n\\n// Grayscale\\n/** @constant {string} */\\nvar TERTIARY_COLOR = '#DFDFDF'\\n/**\\n *  Jupyter Notebook: 'white', Sphinx: '#FCFCFC'\\n *  @constant {string}\\n */\\nvar TERTIARY_LIGHT_COLOR = 'white'\\n/** @constant {string} */\\nvar TERTIARY_DARK_COLOR = '#404040'\\n/** @type {integer} */\\nvar iteration = 0\\n\\n\\n/**\\n * Increment iteration and update n Div.\\n */\\nfunction increment_iteration() {\\n    if ((parseInt(n.text) + 1) < parseInt(k.text)) {\\n        n.text = (parseInt(n.text) + 1).toString()\\n    }\\n    iteration = parseInt(n.text)\\n}\\n\\n/**\\n * Decrement iteration and update n Div.\\n */\\nfunction decrement_iteration() {\\n    if ((parseInt(n.text) - 1) >= 0) {\\n        n.text = (parseInt(n.text) - 1).toString()\\n    }\\n    iteration = parseInt(n.text)\\n}\\n\\n/**\\n * Update which nodes are highlighted given the current iteration.\\n */\\nfunction nodes_update() {\\n    var in_tree = source.data['nodes'][iteration]\\n\\n    for (let i = 0; i < nodes_src.data['line_color'].length ; i++) {\\n        if (in_tree.includes(i)) {\\n            nodes_src.data['fill_color'][i] = PRIMARY_DARK_COLOR\\n            nodes_src.data['line_color'][i] = PRIMARY_DARK_COLOR\\n        } else {\\n            nodes_src.data['fill_color'][i] = PRIMARY_LIGHT_COLOR\\n            nodes_src.data['line_color'][i] = PRIMARY_DARK_COLOR\\n        }\\n    }\\n\\n    nodes_src.change.emit()\\n}\\n\\n/**\\n * Update which subset of edges are highlighted given the current iteration.\\n */\\nfunction edge_subset_update() {\\n    edge_subset_src.data['xs'] = source.data['edge_xs'][iteration]\\n    edge_subset_src.data['ys'] = source.data['edge_ys'][iteration]\\n    edge_subset_src.change.emit()\\n}\\n\\n/**\\n * Update which swaps are updated given the current iteration\\n */\\nfunction swaps_update() {\\n    swaps_src.data['swaps_before_x'] = source.data['swaps_before_x'][iteration]\\n    swaps_src.data['swaps_before_y'] = source.data['swaps_before_y'][iteration]\\n    swaps_src.data['swaps_after_x'] = source.data['swaps_after_x'][iteration]\\n    swaps_src.data['swaps_after_y'] = source.data['swaps_after_y'][iteration]\\n    swaps_src.change.emit()\\n}\\n\\n/**\\n * Update which table is shown given the current iteration.\\n */\\nfunction table_update() {\\n    table_src.data = source.data['tables'][iteration]\\n}\\n\\n/**\\n * Update which cost is shown given the current iteration.\\n */\\nfunction cost_update() {\\n    cost.text = source.data['costs'][iteration].toFixed(1)\\n}\\n\\n/**\\n * Update done Div based on the current iteration.\\n */\\nfunction done_update() {\\n    if (iteration == parseInt(k.text) - 1) {\\n        done.text = \\\"done.\\\"\\n    } else {\\n        done.text = \\\"\\\"\\n    }\\n}\\n\\n// BEGIN FUNCTION CALLING\\ndecrement_iteration()\\ndone_update()\\ncost_update()\\nedge_subset_update()\\nnodes_update()\\n\"},\"id\":\"3277\",\"type\":\"CustomJS\"},{\"attributes\":{\"active_drag\":null,\"active_inspect\":\"auto\",\"active_multi\":null,\"active_scroll\":null,\"active_tap\":\"auto\",\"logo\":null,\"tools\":[{\"id\":\"3225\"},{\"id\":\"3226\"},{\"id\":\"3227\"},{\"id\":\"3228\"},{\"id\":\"3229\"},{\"id\":\"3230\"},{\"id\":\"3278\"}]},\"id\":\"3232\",\"type\":\"Toolbar\"},{\"attributes\":{\"callback\":null,\"renderers\":[{\"id\":\"3246\"}],\"tooltips\":[[\"Index\",\"$index\"],[\"Name\",\"@name\"]]},\"id\":\"3278\",\"type\":\"HoverTool\"},{\"attributes\":{},\"id\":\"3228\",\"type\":\"SaveTool\"},{\"attributes\":{\"line_cap\":\"round\",\"line_color\":{\"field\":\"line_color\"},\"line_width\":{\"value\":5},\"xs\":{\"field\":\"xs\"},\"ys\":{\"field\":\"ys\"}},\"id\":\"3251\",\"type\":\"MultiLine\"},{\"attributes\":{\"children\":[{\"id\":\"3276\"},{\"id\":\"3274\"}],\"max_width\":900,\"sizing_mode\":\"stretch_both\"},\"id\":\"3280\",\"type\":\"Row\"},{\"attributes\":{\"data\":{\"xs\":[[11.867393549830293,14.1326064501697],[64.2132081933475,68.78679180665253],[43.98457472802465,48.01542527197538],[71.31392773909235,75.68607226090765],[100.9065151137992,98.09348488620083],[140.5887402418824,143.4112597581176],[142.37870743870653,146.62129256129347],[134.3832167600553,136.6167832399447],[89.9311343589464,93.06886564105363],[112.57004046214576,116.42995953785424],[150.1483,154.85170000000002],[142.6336759201498,146.3663240798502],[133.03894314211007,134.96105685788993],[166.61006419357236,168.38993580642764],[160.24329823001975,161.75670176998028],[159.25243123412935,159.74756876587068],[151.1019039619186,149.89809603808138],[186.69937892443528,185.30062107556475],[187.6421179461765,189.35788205382346],[201.25793580143863,202.74206419856134],[195.23521488209917,192.7647851179008],[205.72359827057616,206.2764017294238],[202.54591042736908,200.45408957263095],[192.51616586095076,194.4838341390492],[178.54133338379128,175.4586666162087],[203.96931436315347,201.03068563684658],[183.03645249636594,179.96354750363403],[154.5678,151.4322]],\"ys\":[[65.9708055287169,64.02919447128312],[83.50862324815732,84.4913767518427],[46.085228992602126,43.914771007397874],[77.22363788864963,78.77636211135038],[65.68781813655903,62.31218186344098],[91.11154589518429,89.88845410481571],[103.59087461658854,105.40912538341149],[103.51460302357822,105.48539697642181],[13.06886564105362,9.93113435894638],[56.296613464632046,58.703386535367954],[-7.999999999999998,-7.999999999999998],[13.718643169058069,16.281356830941924],[36.07788628422017,39.922113715779815],[62.949383195031956,59.05061680496806],[89.27035962378204,91.72964037621796],[96.61361491112429,99.38638508887571],[96.70359146663688,99.29640853336312],[12.989285592248606,17.010714407751394],[60.03912673411776,63.960873265882256],[89.76322633573106,92.23677366426892],[88.63534958253058,90.36465041746942],[99.61799135288078,102.38200864711922],[98.45408957263092,100.54591042736905],[96.90685095661199,99.09314904338801],[94.74311110270146,95.25688889729855],[104.98977145438448,104.01022854561555],[100.27935499933926,99.72064500066074],[112.00000000000001,112.00000000000001]]},\"selected\":{\"id\":\"3295\"},\"selection_policy\":{\"id\":\"3294\"}},\"id\":\"3255\",\"type\":\"ColumnDataSource\"},{\"attributes\":{},\"id\":\"3294\",\"type\":\"UnionRenderers\"},{\"attributes\":{},\"id\":\"3304\",\"type\":\"Selection\"},{\"attributes\":{\"children\":[{\"id\":\"3272\"},{\"id\":\"3265\"}]},\"id\":\"3281\",\"type\":\"Row\"},{\"attributes\":{},\"id\":\"3215\",\"type\":\"LinearScale\"},{\"attributes\":{\"data\":{\"text\":[4,24,12,19,20,8,10,6,10,25,14,18,18,14,4,8,8,12,14,3,3,1,2,4,6,2,6,4],\"x\":{\"__ndarray__\":\"/v//////KUAAAAAAAKBQQAEAAAAAAEdAAAAAAABgUkAAAAAAAOBYQAAAAAAAwGFAAAAAAAAQYkAAAAAAAPBgQAAAAAAA4FZAAAAAAACgXEABAAAAABBjQAAAAAAAEGJAAAAAAADAYEAAAAAAAPBkQAAAAAAAIGRAAAAAAADwY0D//////89iQAAAAAAAQGdAAAAAAACQZ0D//////z9pQAAAAAAAQGhAAAAAAADAaUAAAAAAADBpQAAAAAAAMGhA//////8fZkABAAAAAFBpQAAAAAAAsGZAAAAAAAAgY0A=\",\"dtype\":\"float64\",\"order\":\"little\",\"shape\":[28]},\"y\":{\"__ndarray__\":\"AAAAAABAUEAAAAAAAABVQAAAAAAAgEZAAAAAAACAU0AAAAAAAABQQAAAAAAAoFZAAAAAAAAgWkAAAAAAACBaQAAAAAAAACdAAAAAAADATED+//////8fwAAAAAAAAC5AAAAAAAAAQ0ACAAAAAIBOQAAAAAAAoFZAAAAAAACAWEAAAAAAAIBYQAAAAAAAAC5AAgAAAAAAT0AAAAAAAMBWQAAAAAAAYFZAAAAAAABAWUD//////99YQAAAAAAAgFhAAAAAAADAV0AAAAAAACBaQAAAAAAAAFlAAQAAAAAAXEA=\",\"dtype\":\"float64\",\"order\":\"little\",\"shape\":[28]}},\"selected\":{\"id\":\"3288\"},\"selection_policy\":{\"id\":\"3287\"}},\"id\":\"3260\",\"type\":\"ColumnDataSource\"},{\"attributes\":{},\"id\":\"3226\",\"type\":\"WheelZoomTool\"},{\"attributes\":{},\"id\":\"3293\",\"type\":\"Selection\"},{\"attributes\":{\"line_color\":{\"value\":\"white\"},\"line_width\":{\"value\":6},\"xs\":{\"field\":\"xs\"},\"ys\":{\"field\":\"ys\"}},\"id\":\"3257\",\"type\":\"MultiLine\"},{\"attributes\":{},\"id\":\"3295\",\"type\":\"Selection\"},{\"attributes\":{\"bottom_units\":\"screen\",\"fill_alpha\":0.5,\"fill_color\":\"lightgrey\",\"left_units\":\"screen\",\"level\":\"overlay\",\"line_alpha\":1.0,\"line_color\":\"black\",\"line_dash\":[4,4],\"line_width\":2,\"right_units\":\"screen\",\"top_units\":\"screen\"},\"id\":\"3231\",\"type\":\"BoxAnnotation\"},{\"attributes\":{\"source\":{\"id\":\"3255\"}},\"id\":\"3259\",\"type\":\"CDSView\"},{\"attributes\":{\"text\":\"\"},\"id\":\"3207\",\"type\":\"Title\"},{\"attributes\":{},\"id\":\"3283\",\"type\":\"BasicTickFormatter\"},{\"attributes\":{\"end\":122.2,\"start\":-18.200000000000003},\"id\":\"3211\",\"type\":\"Range1d\"},{\"attributes\":{\"data\":{\"xs\":[[6,127],[6,20],[20,127],[20,72],[72,157],[72,127],[72,111],[111,178],[111,157],[111,194],[194,178],[178,157],[178,199],[199,205],[199,189],[205,198],[205,207],[207,198],[198,165],[198,189],[165,189],[165,157],[157,127],[157,162],[157,144],[162,127],[162,144],[144,127]],\"ys\":[[71,97],[71,59],[59,97],[59,31],[31,84],[31,97],[31,-8],[-8,38],[-8,84],[-8,-8],[-8,38],[38,84],[38,86],[86,96],[86,93],[96,103],[96,106],[106,103],[103,97],[103,93],[97,93],[97,84],[84,97],[84,112],[84,112],[112,97],[112,112],[112,97]]},\"selected\":{\"id\":\"3297\"},\"selection_policy\":{\"id\":\"3296\"}},\"id\":\"3266\",\"type\":\"ColumnDataSource\"},{\"attributes\":{},\"id\":\"3297\",\"type\":\"Selection\"},{\"attributes\":{\"data_source\":{\"id\":\"3255\"},\"glyph\":{\"id\":\"3256\"},\"hover_glyph\":null,\"level\":\"guide\",\"muted_glyph\":null,\"nonselection_glyph\":{\"id\":\"3257\"},\"selection_glyph\":null,\"view\":{\"id\":\"3259\"}},\"id\":\"3258\",\"type\":\"GlyphRenderer\"},{\"attributes\":{\"overlay\":{\"id\":\"3231\"}},\"id\":\"3227\",\"type\":\"BoxZoomTool\"},{\"attributes\":{\"align\":\"center\",\"width\":450},\"id\":\"3265\",\"type\":\"Div\"},{\"attributes\":{\"end\":224.085,\"start\":-11.085},\"id\":\"3209\",\"type\":\"Range1d\"},{\"attributes\":{\"line_color\":{\"value\":\"white\"},\"line_width\":{\"value\":6},\"xs\":{\"field\":\"xs\"},\"ys\":{\"field\":\"ys\"}},\"id\":\"3256\",\"type\":\"MultiLine\"},{\"attributes\":{},\"id\":\"3285\",\"type\":\"BasicTickFormatter\"},{\"attributes\":{},\"id\":\"3287\",\"type\":\"UnionRenderers\"},{\"attributes\":{\"background_fill_color\":null,\"below\":[{\"id\":\"3217\"}],\"border_fill_color\":null,\"center\":[{\"id\":\"3220\"},{\"id\":\"3224\"},{\"id\":\"3261\"}],\"left\":[{\"id\":\"3221\"}],\"outline_line_color\":null,\"plot_width\":900,\"renderers\":[{\"id\":\"3246\"},{\"id\":\"3253\"},{\"id\":\"3258\"},{\"id\":\"3270\"}],\"title\":{\"id\":\"3207\"},\"toolbar\":{\"id\":\"3232\"},\"toolbar_location\":null,\"x_range\":{\"id\":\"3209\"},\"x_scale\":{\"id\":\"3213\"},\"y_range\":{\"id\":\"3211\"},\"y_scale\":{\"id\":\"3215\"}},\"id\":\"3206\",\"subtype\":\"Figure\",\"type\":\"Plot\"},{\"attributes\":{\"data\":{\"fill_color\":[\"#003c8f\",\"#003c8f\",\"#003c8f\",\"#003c8f\",\"#003c8f\",\"#003c8f\",\"#003c8f\",\"#003c8f\",\"#003c8f\",\"#003c8f\",\"#003c8f\",\"#003c8f\",\"#003c8f\",\"#003c8f\",\"#003c8f\",\"#003c8f\"],\"line_color\":[\"#003c8f\",\"#003c8f\",\"#003c8f\",\"#003c8f\",\"#003c8f\",\"#003c8f\",\"#003c8f\",\"#003c8f\",\"#003c8f\",\"#003c8f\",\"#003c8f\",\"#003c8f\",\"#003c8f\",\"#003c8f\",\"#003c8f\",\"#003c8f\"],\"line_width\":[3,3,3,3,3,3,3,3,3,3,3,3,3,3,3,3],\"x\":[6,20,72,111,194,178,199,205,207,198,165,157,162,144,127,189],\"y\":[71,59,31,-8,-8,38,86,96,106,103,97,84,112,112,97,93]},\"selected\":{\"id\":\"3291\"},\"selection_policy\":{\"id\":\"3290\"}},\"id\":\"3242\",\"type\":\"ColumnDataSource\"},{\"attributes\":{\"data\":{\"line_color\":[\"#DFDFDF\",\"#DFDFDF\",\"#DFDFDF\",\"#DFDFDF\",\"#DFDFDF\",\"#DFDFDF\",\"#DFDFDF\",\"#DFDFDF\",\"#DFDFDF\",\"#DFDFDF\",\"#DFDFDF\",\"#DFDFDF\",\"#DFDFDF\",\"#DFDFDF\",\"#DFDFDF\",\"#DFDFDF\",\"#DFDFDF\",\"#DFDFDF\",\"#DFDFDF\",\"#DFDFDF\",\"#DFDFDF\",\"#DFDFDF\",\"#DFDFDF\",\"#DFDFDF\",\"#DFDFDF\",\"#DFDFDF\",\"#DFDFDF\",\"#DFDFDF\"],\"u\":[0,0,1,1,14,14,14,14,2,2,3,3,3,11,11,11,11,4,5,6,6,7,7,15,15,8,9,12],\"v\":[1,14,2,14,2,11,12,13,3,11,4,5,11,5,10,12,13,5,6,7,15,8,9,9,10,9,10,13],\"weight\":[4,24,12,19,20,8,10,6,10,25,14,18,18,14,4,8,8,12,14,3,3,1,2,4,6,2,6,4],\"xs\":[[6,20],[6,127],[20,72],[20,127],[127,72],[127,157],[127,162],[127,144],[72,111],[72,157],[111,194],[111,178],[111,157],[157,178],[157,165],[157,162],[157,144],[194,178],[178,199],[199,205],[199,189],[205,207],[205,198],[189,198],[189,165],[207,198],[198,165],[162,144]],\"ys\":[[71,59],[71,97],[59,31],[59,97],[97,31],[97,84],[97,112],[97,112],[31,-8],[31,84],[-8,-8],[-8,38],[-8,84],[84,38],[84,97],[84,112],[84,112],[-8,38],[38,86],[86,96],[86,93],[96,106],[96,103],[93,103],[93,97],[106,103],[103,97],[112,112]]},\"selected\":{\"id\":\"3293\"},\"selection_policy\":{\"id\":\"3292\"}},\"id\":\"3248\",\"type\":\"ColumnDataSource\"},{\"attributes\":{\"source\":{\"id\":\"3260\"},\"text_align\":\"center\",\"text_baseline\":\"middle\",\"text_color\":{\"value\":\"black\"},\"text_font_size\":{\"value\":\"13px\"},\"x\":{\"field\":\"x\"},\"y\":{\"field\":\"y\"}},\"id\":\"3261\",\"type\":\"LabelSet\"},{\"attributes\":{},\"id\":\"3288\",\"type\":\"Selection\"},{\"attributes\":{\"source\":{\"id\":\"3266\"}},\"id\":\"3271\",\"type\":\"CDSView\"},{\"attributes\":{},\"id\":\"3290\",\"type\":\"UnionRenderers\"},{\"attributes\":{},\"id\":\"3222\",\"type\":\"BasicTicker\"},{\"attributes\":{},\"id\":\"3225\",\"type\":\"PanTool\"},{\"attributes\":{},\"id\":\"3291\",\"type\":\"Selection\"},{\"attributes\":{\"axis\":{\"id\":\"3217\"},\"grid_line_color\":null,\"ticker\":null},\"id\":\"3220\",\"type\":\"Grid\"},{\"attributes\":{},\"id\":\"3292\",\"type\":\"UnionRenderers\"},{\"attributes\":{\"formatter\":{\"id\":\"3283\"},\"ticker\":{\"id\":\"3222\"},\"visible\":false},\"id\":\"3221\",\"type\":\"LinearAxis\"},{\"attributes\":{\"data_source\":{\"id\":\"3266\"},\"glyph\":{\"id\":\"3268\"},\"hover_glyph\":null,\"level\":\"underlay\",\"muted_glyph\":null,\"nonselection_glyph\":{\"id\":\"3269\"},\"selection_glyph\":null,\"view\":{\"id\":\"3271\"}},\"id\":\"3270\",\"type\":\"GlyphRenderer\"},{\"attributes\":{\"align\":\"center\",\"text\":\"0\",\"width\":900},\"id\":\"3263\",\"type\":\"Div\"},{\"attributes\":{\"line_cap\":\"round\",\"line_color\":{\"value\":\"#404040\"},\"line_width\":{\"value\":5},\"xs\":{\"field\":\"xs\"},\"ys\":{\"field\":\"ys\"}},\"id\":\"3268\",\"type\":\"MultiLine\"},{\"attributes\":{},\"id\":\"3218\",\"type\":\"BasicTicker\"},{\"attributes\":{\"data_source\":{\"id\":\"3242\"},\"glyph\":{\"id\":\"3244\"},\"hover_glyph\":null,\"muted_glyph\":null,\"nonselection_glyph\":{\"id\":\"3245\"},\"selection_glyph\":null,\"view\":{\"id\":\"3247\"}},\"id\":\"3246\",\"type\":\"GlyphRenderer\"},{\"attributes\":{\"formatter\":{\"id\":\"3285\"},\"ticker\":{\"id\":\"3218\"},\"visible\":false},\"id\":\"3217\",\"type\":\"LinearAxis\"},{\"attributes\":{},\"id\":\"3296\",\"type\":\"UnionRenderers\"},{\"attributes\":{\"align\":\"center\",\"text\":\"14\",\"width\":900},\"id\":\"3264\",\"type\":\"Div\"},{\"attributes\":{\"align\":\"center\",\"text\":\"279\",\"width\":450},\"id\":\"3272\",\"type\":\"Div\"},{\"attributes\":{\"source\":{\"id\":\"3242\"}},\"id\":\"3247\",\"type\":\"CDSView\"},{\"attributes\":{\"fill_color\":{\"field\":\"fill_color\"},\"line_color\":{\"field\":\"line_color\"},\"line_width\":{\"field\":\"line_width\"},\"size\":{\"units\":\"screen\",\"value\":11},\"x\":{\"field\":\"x\"},\"y\":{\"field\":\"y\"}},\"id\":\"3244\",\"type\":\"Circle\"},{\"attributes\":{\"data\":{\"costs\":[279,254,230,210,191,173,155,141,131,123,115,109,105,103],\"edge_xs\":[[[6,127],[6,20],[20,127],[20,72],[72,157],[72,127],[72,111],[111,178],[111,157],[111,194],[194,178],[178,157],[178,199],[199,205],[199,189],[205,198],[205,207],[207,198],[198,165],[198,189],[165,189],[165,157],[157,127],[157,162],[157,144],[162,127],[162,144],[144,127]],[[6,127],[6,20],[20,127],[20,72],[72,127],[72,111],[111,178],[111,157],[111,194],[194,178],[178,157],[178,199],[199,205],[199,189],[205,198],[205,207],[207,198],[198,165],[198,189],[165,189],[165,157],[157,127],[157,162],[157,144],[162,127],[162,144],[144,127]],[[6,20],[20,127],[20,72],[72,127],[72,111],[111,178],[111,157],[111,194],[194,178],[178,157],[178,199],[199,205],[199,189],[205,198],[205,207],[207,198],[198,165],[198,189],[165,189],[165,157],[157,127],[157,162],[157,144],[162,127],[162,144],[144,127]],[[6,20],[20,127],[20,72],[72,111],[111,178],[111,157],[111,194],[194,178],[178,157],[178,199],[199,205],[199,189],[205,198],[205,207],[207,198],[198,165],[198,189],[165,189],[165,157],[157,127],[157,162],[157,144],[162,127],[162,144],[144,127]],[[6,20],[20,72],[72,111],[111,178],[111,157],[111,194],[194,178],[178,157],[178,199],[199,205],[199,189],[205,198],[205,207],[207,198],[198,165],[198,189],[165,189],[165,157],[157,127],[157,162],[157,144],[162,127],[162,144],[144,127]],[[6,20],[20,72],[72,111],[111,157],[111,194],[194,178],[178,157],[178,199],[199,205],[199,189],[205,198],[205,207],[207,198],[198,165],[198,189],[165,189],[165,157],[157,127],[157,162],[157,144],[162,127],[162,144],[144,127]],[[6,20],[20,72],[72,111],[111,194],[194,178],[178,157],[178,199],[199,205],[199,189],[205,198],[205,207],[207,198],[198,165],[198,189],[165,189],[165,157],[157,127],[157,162],[157,144],[162,127],[162,144],[144,127]],[[6,20],[20,72],[72,111],[111,194],[194,178],[178,199],[199,205],[199,189],[205,198],[205,207],[207,198],[198,165],[198,189],[165,189],[165,157],[157,127],[157,162],[157,144],[162,127],[162,144],[144,127]],[[6,20],[20,72],[72,111],[111,194],[194,178],[178,199],[199,205],[199,189],[205,198],[205,207],[207,198],[198,165],[198,189],[165,189],[165,157],[157,127],[157,162],[157,144],[162,144],[144,127]],[[6,20],[20,72],[72,111],[111,194],[194,178],[178,199],[199,205],[199,189],[205,198],[205,207],[207,198],[198,165],[198,189],[165,189],[165,157],[157,162],[157,144],[162,144],[144,127]],[[6,20],[20,72],[72,111],[111,194],[194,178],[178,199],[199,205],[199,189],[205,198],[205,207],[207,198],[198,165],[198,189],[165,189],[165,157],[157,144],[162,144],[144,127]],[[6,20],[20,72],[72,111],[111,194],[194,178],[178,199],[199,205],[199,189],[205,198],[205,207],[207,198],[198,165],[198,189],[165,157],[157,144],[162,144],[144,127]],[[6,20],[20,72],[72,111],[111,194],[194,178],[178,199],[199,205],[199,189],[205,198],[205,207],[207,198],[198,165],[165,157],[157,144],[162,144],[144,127]],[[6,20],[20,72],[72,111],[111,194],[194,178],[178,199],[199,205],[199,189],[205,207],[207,198],[198,165],[165,157],[157,144],[162,144],[144,127]]],\"edge_ys\":[[[71,97],[71,59],[59,97],[59,31],[31,84],[31,97],[31,-8],[-8,38],[-8,84],[-8,-8],[-8,38],[38,84],[38,86],[86,96],[86,93],[96,103],[96,106],[106,103],[103,97],[103,93],[97,93],[97,84],[84,97],[84,112],[84,112],[112,97],[112,112],[112,97]],[[71,97],[71,59],[59,97],[59,31],[31,97],[31,-8],[-8,38],[-8,84],[-8,-8],[-8,38],[38,84],[38,86],[86,96],[86,93],[96,103],[96,106],[106,103],[103,97],[103,93],[97,93],[97,84],[84,97],[84,112],[84,112],[112,97],[112,112],[112,97]],[[71,59],[59,97],[59,31],[31,97],[31,-8],[-8,38],[-8,84],[-8,-8],[-8,38],[38,84],[38,86],[86,96],[86,93],[96,103],[96,106],[106,103],[103,97],[103,93],[97,93],[97,84],[84,97],[84,112],[84,112],[112,97],[112,112],[112,97]],[[71,59],[59,97],[59,31],[31,-8],[-8,38],[-8,84],[-8,-8],[-8,38],[38,84],[38,86],[86,96],[86,93],[96,103],[96,106],[106,103],[103,97],[103,93],[97,93],[97,84],[84,97],[84,112],[84,112],[112,97],[112,112],[112,97]],[[71,59],[59,31],[31,-8],[-8,38],[-8,84],[-8,-8],[-8,38],[38,84],[38,86],[86,96],[86,93],[96,103],[96,106],[106,103],[103,97],[103,93],[97,93],[97,84],[84,97],[84,112],[84,112],[112,97],[112,112],[112,97]],[[71,59],[59,31],[31,-8],[-8,84],[-8,-8],[-8,38],[38,84],[38,86],[86,96],[86,93],[96,103],[96,106],[106,103],[103,97],[103,93],[97,93],[97,84],[84,97],[84,112],[84,112],[112,97],[112,112],[112,97]],[[71,59],[59,31],[31,-8],[-8,-8],[-8,38],[38,84],[38,86],[86,96],[86,93],[96,103],[96,106],[106,103],[103,97],[103,93],[97,93],[97,84],[84,97],[84,112],[84,112],[112,97],[112,112],[112,97]],[[71,59],[59,31],[31,-8],[-8,-8],[-8,38],[38,86],[86,96],[86,93],[96,103],[96,106],[106,103],[103,97],[103,93],[97,93],[97,84],[84,97],[84,112],[84,112],[112,97],[112,112],[112,97]],[[71,59],[59,31],[31,-8],[-8,-8],[-8,38],[38,86],[86,96],[86,93],[96,103],[96,106],[106,103],[103,97],[103,93],[97,93],[97,84],[84,97],[84,112],[84,112],[112,112],[112,97]],[[71,59],[59,31],[31,-8],[-8,-8],[-8,38],[38,86],[86,96],[86,93],[96,103],[96,106],[106,103],[103,97],[103,93],[97,93],[97,84],[84,112],[84,112],[112,112],[112,97]],[[71,59],[59,31],[31,-8],[-8,-8],[-8,38],[38,86],[86,96],[86,93],[96,103],[96,106],[106,103],[103,97],[103,93],[97,93],[97,84],[84,112],[112,112],[112,97]],[[71,59],[59,31],[31,-8],[-8,-8],[-8,38],[38,86],[86,96],[86,93],[96,103],[96,106],[106,103],[103,97],[103,93],[97,84],[84,112],[112,112],[112,97]],[[71,59],[59,31],[31,-8],[-8,-8],[-8,38],[38,86],[86,96],[86,93],[96,103],[96,106],[106,103],[103,97],[97,84],[84,112],[112,112],[112,97]],[[71,59],[59,31],[31,-8],[-8,-8],[-8,38],[38,86],[86,96],[86,93],[96,106],[106,103],[103,97],[97,84],[84,112],[112,112],[112,97]]],\"nodes\":[[0,1,2,3,4,5,6,7,8,9,10,11,12,13,14,15],[0,1,2,3,4,5,6,7,8,9,10,11,12,13,14,15],[0,1,2,3,4,5,6,7,8,9,10,11,12,13,14,15],[0,1,2,3,4,5,6,7,8,9,10,11,12,13,14,15],[0,1,2,3,4,5,6,7,8,9,10,11,12,13,14,15],[0,1,2,3,4,5,6,7,8,9,10,11,12,13,14,15],[0,1,2,3,4,5,6,7,8,9,10,11,12,13,14,15],[0,1,2,3,4,5,6,7,8,9,10,11,12,13,14,15],[0,1,2,3,4,5,6,7,8,9,10,11,12,13,14,15],[0,1,2,3,4,5,6,7,8,9,10,11,12,13,14,15],[0,1,2,3,4,5,6,7,8,9,10,11,12,13,14,15],[0,1,2,3,4,5,6,7,8,9,10,11,12,13,14,15],[0,1,2,3,4,5,6,7,8,9,10,11,12,13,14,15],[0,1,2,3,4,5,6,7,8,9,10,11,12,13,14,15]]},\"selected\":{\"id\":\"3304\"},\"selection_policy\":{\"id\":\"3303\"}},\"id\":\"3273\",\"type\":\"ColumnDataSource\"},{\"attributes\":{},\"id\":\"3213\",\"type\":\"LinearScale\"},{\"attributes\":{\"fill_color\":{\"field\":\"fill_color\"},\"line_color\":{\"field\":\"line_color\"},\"line_width\":{\"field\":\"line_width\"},\"size\":{\"units\":\"screen\",\"value\":11},\"x\":{\"field\":\"x\"},\"y\":{\"field\":\"y\"}},\"id\":\"3245\",\"type\":\"Circle\"},{\"attributes\":{\"button_type\":\"primary\",\"icon\":null,\"js_event_callbacks\":{\"button_click\":[{\"id\":\"3275\"}]},\"label\":\"Next\",\"max_width\":450,\"sizing_mode\":\"stretch_width\",\"width_policy\":\"fit\"},\"id\":\"3274\",\"type\":\"Button\"},{\"attributes\":{\"line_alpha\":{\"value\":0.1},\"line_cap\":\"round\",\"line_color\":{\"value\":\"#404040\"},\"line_width\":{\"value\":5},\"xs\":{\"field\":\"xs\"},\"ys\":{\"field\":\"ys\"}},\"id\":\"3269\",\"type\":\"MultiLine\"}],\"root_ids\":[\"3305\"]},\"title\":\"Bokeh Application\",\"version\":\"2.2.3\"}};\n",
       "  var render_items = [{\"docid\":\"e29275dd-9f70-4000-9f41-6581e57f7b01\",\"root_ids\":[\"3305\"],\"roots\":{\"3305\":\"bb959100-caa8-4980-95e5-2b98d3844373\"}}];\n",
       "  root.Bokeh.embed.embed_items_notebook(docs_json, render_items);\n",
       "\n",
       "  }\n",
       "  if (root.Bokeh !== undefined) {\n",
       "    embed_document(root);\n",
       "  } else {\n",
       "    var attempts = 0;\n",
       "    var timer = setInterval(function(root) {\n",
       "      if (root.Bokeh !== undefined) {\n",
       "        clearInterval(timer);\n",
       "        embed_document(root);\n",
       "      } else {\n",
       "        attempts++;\n",
       "        if (attempts > 100) {\n",
       "          clearInterval(timer);\n",
       "          console.log(\"Bokeh: ERROR: Unable to run BokehJS code because BokehJS library is missing\");\n",
       "        }\n",
       "      }\n",
       "    }, 10, root)\n",
       "  }\n",
       "})(window);"
      ],
      "application/vnd.bokehjs_exec.v0+json": ""
     },
     "metadata": {
      "application/vnd.bokehjs_exec.v0+json": {
       "id": "3305"
      }
     },
     "output_type": "display_data"
    }
   ],
   "source": [
    "show(vl.mst_algorithm_plot(G, algorithm='reverse_kruskals', width=900, height=600))"
   ]
  },
  {
   "cell_type": "markdown",
   "metadata": {},
   "source": [
    "**Q13:** What is the cost of the resulting spanning tree?\n",
    "\n",
    "**A:** <font color='blue'> 103 </font>"
   ]
  },
  {
   "cell_type": "markdown",
   "metadata": {},
   "source": [
    "**Q14:** How does the spanning tree and its cost compare to those obtained by the previous algorithms?\n",
    "\n",
    "**A:** <font color='blue'> They all found spanning trees of the same cost. </font>"
   ]
  },
  {
   "cell_type": "markdown",
   "metadata": {},
   "source": [
    "**Q15:** Which of the three algorithms was the easiest for you to follow? Why?\n",
    "\n",
    "**A:** <font color='blue'> Answers will vary. </font>"
   ]
  },
  {
   "cell_type": "markdown",
   "metadata": {},
   "source": [
    "## Part III: Analyzing Minimum Spanning Trees"
   ]
  },
  {
   "cell_type": "markdown",
   "metadata": {},
   "source": [
    "Suppose you start with some spanning tree, like the first one given in your lab handout, can you devise a way to systematically improve it? In other words, given a spanning tree, can you tell if it is one of minimum cost and, if not, can you improve it (without recomputing a minimum spanning tree from scratch)? "
   ]
  },
  {
   "cell_type": "markdown",
   "metadata": {},
   "source": [
    "**Q16:** Suggest such an algorithm.\n",
    "\n",
    "**A:** <font color='blue'> Take an edge of the spanning tree. Remove it. You now have two connected sets of nodes. Look for a cheaper edge spanning these two sets. If there is one, add it back instead of the original edge. If you can not do this for any edge, you have a minimum spanning tree.</font>"
   ]
  },
  {
   "cell_type": "markdown",
   "metadata": {},
   "source": [
    "Next we will study how the solution changes when problem parameters are altered. This is referred to as Sensitivity Analysis. Consider edge {3, 5} which was not used in the minimum spanning tree found by Prim’s algorithm. Just this one edge’s cost will be changed."
   ]
  },
  {
   "cell_type": "code",
   "execution_count": 12,
   "metadata": {},
   "outputs": [
    {
     "data": {
      "text/html": [
       "\n",
       "\n",
       "\n",
       "\n",
       "\n",
       "\n",
       "  <div class=\"bk-root\" id=\"39e66224-bc5f-4bc5-9fcb-50220f511ac7\" data-root-id=\"3641\"></div>\n"
      ]
     },
     "metadata": {},
     "output_type": "display_data"
    },
    {
     "data": {
      "application/javascript": [
       "(function(root) {\n",
       "  function embed_document(root) {\n",
       "    \n",
       "  var docs_json = {\"50eb8dcb-e0f9-4348-8f8a-2115298a85bb\":{\"roots\":{\"references\":[{\"attributes\":{\"children\":[[{\"id\":\"3558\"},0,0],[{\"id\":\"3623\"},1,0]]},\"id\":\"3641\",\"type\":\"GridBox\"},{\"attributes\":{\"line_cap\":\"round\",\"line_color\":{\"field\":\"line_color\"},\"line_width\":{\"value\":5},\"xs\":{\"field\":\"xs\"},\"ys\":{\"field\":\"ys\"}},\"id\":\"3602\",\"type\":\"MultiLine\"},{\"attributes\":{\"active_drag\":null,\"active_inspect\":\"auto\",\"active_multi\":null,\"active_scroll\":null,\"active_tap\":\"auto\",\"logo\":null,\"tools\":[{\"id\":\"3577\"},{\"id\":\"3578\"},{\"id\":\"3579\"},{\"id\":\"3580\"},{\"id\":\"3581\"},{\"id\":\"3582\"},{\"id\":\"3621\"}]},\"id\":\"3584\",\"type\":\"Toolbar\"},{\"attributes\":{},\"id\":\"3637\",\"type\":\"Selection\"},{\"attributes\":{\"line_cap\":\"round\",\"line_color\":{\"field\":\"line_color\"},\"line_width\":{\"value\":5},\"xs\":{\"field\":\"xs\"},\"ys\":{\"field\":\"ys\"}},\"id\":\"3603\",\"type\":\"MultiLine\"},{\"attributes\":{},\"id\":\"3638\",\"type\":\"UnionRenderers\"},{\"attributes\":{\"end\":224.085,\"start\":-11.085},\"id\":\"3561\",\"type\":\"Range1d\"},{\"attributes\":{},\"id\":\"3625\",\"type\":\"BasicTickFormatter\"},{\"attributes\":{\"text\":\"\"},\"id\":\"3559\",\"type\":\"Title\"},{\"attributes\":{\"data\":{\"xs\":[[11.301090324745442,14.698909675254566],[63.069812290021225,69.93018770997878],[42.976862092036946,49.02313790796307],[70.22089160863857,76.77910839136149],[101.60977267069882,97.39022732930124],[139.8831103628236,144.11688963717637],[141.31806115805978,147.68193884194022],[133.82482514008294,137.17517485991706],[89.14670153841959,93.85329846158044],[111.6050606932186,117.3949393067814],[148.97244999999998,156.02755],[141.7005138802247,147.2994861197753],[132.55841471316512,135.44158528683488],[166.16509629035858,168.83490370964145],[159.86494734502958,162.13505265497042],[159.128646851194,159.87135314880598],[151.4028559428779,149.5971440571221],[187.04906838665292,184.9509316133471],[187.21317691926478,189.78682308073522],[200.88690370215798,203.11309629784205],[195.85282232314876,192.14717767685121],[205.58539740586426,206.41460259413577],[203.06886564105358,199.9311343589464],[192.02424879142615,194.9757512085738],[179.31200007568697,174.68799992431306],[204.7039715447302,200.29602845526986],[183.80467874454894,179.19532125545106],[155.3517,150.6483]],\"ys\":[[66.45620829307533,63.543791706924665],[83.26293487223596,84.73706512776401],[46.62784348890318,43.372156511096804],[76.83545683297443,79.16454316702556],[66.53172720483855,61.46827279516147],[91.41731884277647,89.58268115722356],[103.13631192488276,105.86368807511724],[103.0219045353673,105.9780954646327],[13.85329846158043,9.146701538419578],[55.694920196948075,59.305079803051925],[-7.999999999999998,-7.999999999999998],[13.077964753587104,16.92203524641289],[35.11682942633026,40.883170573669744],[63.92407479254794,58.07592520745206],[88.65553943567308,92.34446056432695],[95.92042236668642,100.07957763331359],[96.05538719995533,99.9446128000447],[11.98392838837291,18.016071611627098],[59.05869010117662,64.94130989882336],[89.14483950359659,92.85516049640341],[88.20302437379587,90.79697562620413],[98.9269870293212,103.07301297067883],[97.93113435894641,101.0688656410536],[96.360276434918,99.63972356508202],[94.6146666540522,95.38533334594783],[105.23465718157672,103.76534281842328],[100.41903249900889,99.58096750099111],[112.00000000000001,112.00000000000001]]},\"selected\":{\"id\":\"3637\"},\"selection_policy\":{\"id\":\"3636\"}},\"id\":\"3607\",\"type\":\"ColumnDataSource\"},{\"attributes\":{},\"id\":\"3639\",\"type\":\"Selection\"},{\"attributes\":{\"data\":{\"text\":[4,24,12,19,20,8,10,6,10,25,14,18,18,14,4,8,8,12,14,3,3,1,2,4,6,2,6,4],\"x\":{\"__ndarray__\":\"AgAAAAAAKkAAAAAAAKBQQAEAAAAAAEdAAgAAAABgUkACAAAAAOBYQP//////v2FAAAAAAAAQYkAAAAAAAPBgQAAAAAAA4FZAAAAAAACgXED//////w9jQAAAAAAAEGJAAAAAAADAYEAAAAAAAPBkQAAAAAAAIGRAAAAAAADwY0AAAAAAANBiQAEAAAAAQGdAAAAAAACQZ0AAAAAAAEBpQAAAAAAAQGhAAQAAAADAaUAAAAAAADBpQP//////L2hAAAAAAAAgZkABAAAAAFBpQAAAAAAAsGZAAAAAAAAgY0A=\",\"dtype\":\"float64\",\"order\":\"little\",\"shape\":[28]},\"y\":{\"__ndarray__\":\"AAAAAABAUED///////9UQAAAAAAAgEZA//////9/U0AAAAAAAABQQAEAAAAAoFZAAAAAAAAgWkAAAAAAACBaQAAAAAAAACdAAAAAAADATED+//////8fwAAAAAAAAC5AAAAAAAAAQ0ACAAAAAIBOQAEAAAAAoFZAAQAAAACAWEABAAAAAIBYQAAAAAAAAC5AAAAAAAAAT0AAAAAAAMBWQAAAAAAAYFZAAAAAAABAWUABAAAAAOBYQAEAAAAAgFhAAQAAAADAV0AAAAAAACBaQAAAAAAAAFlAAQAAAAAAXEA=\",\"dtype\":\"float64\",\"order\":\"little\",\"shape\":[28]}},\"selected\":{\"id\":\"3630\"},\"selection_policy\":{\"id\":\"3629\"}},\"id\":\"3612\",\"type\":\"ColumnDataSource\"},{\"attributes\":{\"line_cap\":\"round\",\"line_color\":{\"value\":\"#404040\"},\"line_width\":{\"value\":5},\"xs\":{\"field\":\"xs\"},\"ys\":{\"field\":\"ys\"}},\"id\":\"3604\",\"type\":\"MultiLine\"},{\"attributes\":{\"data\":{\"xs\":[[111,178]],\"ys\":[[-8,38]]},\"selected\":{\"id\":\"3639\"},\"selection_policy\":{\"id\":\"3638\"}},\"id\":\"3615\",\"type\":\"ColumnDataSource\"},{\"attributes\":{\"line_color\":{\"value\":\"white\"},\"line_width\":{\"value\":6},\"xs\":{\"field\":\"xs\"},\"ys\":{\"field\":\"ys\"}},\"id\":\"3609\",\"type\":\"MultiLine\"},{\"attributes\":{},\"id\":\"3627\",\"type\":\"BasicTickFormatter\"},{\"attributes\":{\"bottom_units\":\"screen\",\"fill_alpha\":0.5,\"fill_color\":\"lightgrey\",\"left_units\":\"screen\",\"level\":\"overlay\",\"line_alpha\":1.0,\"line_color\":\"black\",\"line_dash\":[4,4],\"line_width\":2,\"right_units\":\"screen\",\"top_units\":\"screen\"},\"id\":\"3583\",\"type\":\"BoxAnnotation\"},{\"attributes\":{\"source\":{\"id\":\"3607\"}},\"id\":\"3611\",\"type\":\"CDSView\"},{\"attributes\":{},\"id\":\"3567\",\"type\":\"LinearScale\"},{\"attributes\":{\"align\":\"center\",\"width\":300},\"id\":\"3620\",\"type\":\"Div\"},{\"attributes\":{\"data_source\":{\"id\":\"3607\"},\"glyph\":{\"id\":\"3608\"},\"hover_glyph\":null,\"level\":\"guide\",\"muted_glyph\":null,\"nonselection_glyph\":{\"id\":\"3609\"},\"selection_glyph\":null,\"view\":{\"id\":\"3611\"}},\"id\":\"3610\",\"type\":\"GlyphRenderer\"},{\"attributes\":{},\"id\":\"3565\",\"type\":\"LinearScale\"},{\"attributes\":{\"line_color\":{\"value\":\"white\"},\"line_width\":{\"value\":6},\"xs\":{\"field\":\"xs\"},\"ys\":{\"field\":\"ys\"}},\"id\":\"3608\",\"type\":\"MultiLine\"},{\"attributes\":{\"source\":{\"id\":\"3615\"}},\"id\":\"3619\",\"type\":\"CDSView\"},{\"attributes\":{\"end\":122.2,\"start\":-18.200000000000003},\"id\":\"3563\",\"type\":\"Range1d\"},{\"attributes\":{\"data\":{\"line_color\":[\"#DFDFDF\",\"#DFDFDF\",\"#DFDFDF\",\"#DFDFDF\",\"#DFDFDF\",\"#DFDFDF\",\"#DFDFDF\",\"#DFDFDF\",\"#DFDFDF\",\"#DFDFDF\",\"#DFDFDF\",\"#DFDFDF\",\"#DFDFDF\",\"#DFDFDF\",\"#DFDFDF\",\"#DFDFDF\",\"#DFDFDF\",\"#DFDFDF\",\"#DFDFDF\",\"#DFDFDF\",\"#DFDFDF\",\"#DFDFDF\",\"#DFDFDF\",\"#DFDFDF\",\"#DFDFDF\",\"#DFDFDF\",\"#DFDFDF\",\"#DFDFDF\"],\"u\":[0,0,1,1,14,14,14,14,2,2,3,3,3,11,11,11,11,4,5,6,6,7,7,15,15,8,9,12],\"v\":[1,14,2,14,2,11,12,13,3,11,4,5,11,5,10,12,13,5,6,7,15,8,9,9,10,9,10,13],\"weight\":[4,24,12,19,20,8,10,6,10,25,14,18,18,14,4,8,8,12,14,3,3,1,2,4,6,2,6,4],\"xs\":[[6,20],[6,127],[20,72],[20,127],[127,72],[127,157],[127,162],[127,144],[72,111],[72,157],[111,194],[111,178],[111,157],[157,178],[157,165],[157,162],[157,144],[194,178],[178,199],[199,205],[199,189],[205,207],[205,198],[189,198],[189,165],[207,198],[198,165],[162,144]],\"ys\":[[71,59],[71,97],[59,31],[59,97],[97,31],[97,84],[97,112],[97,112],[31,-8],[31,84],[-8,-8],[-8,38],[-8,84],[84,38],[84,97],[84,112],[84,112],[-8,38],[38,86],[86,96],[86,93],[96,106],[96,103],[93,103],[93,97],[106,103],[103,97],[112,112]]},\"selected\":{\"id\":\"3635\"},\"selection_policy\":{\"id\":\"3634\"}},\"id\":\"3600\",\"type\":\"ColumnDataSource\"},{\"attributes\":{\"children\":[{\"id\":\"3620\"}]},\"id\":\"3623\",\"type\":\"Row\"},{\"attributes\":{\"source\":{\"id\":\"3612\"},\"text_align\":\"center\",\"text_baseline\":\"middle\",\"text_color\":{\"value\":\"black\"},\"text_font_size\":{\"value\":\"13px\"},\"x\":{\"field\":\"x\"},\"y\":{\"field\":\"y\"}},\"id\":\"3613\",\"type\":\"LabelSet\"},{\"attributes\":{\"line_cap\":\"round\",\"line_color\":{\"value\":\"#404040\"},\"line_width\":{\"value\":5},\"xs\":{\"field\":\"xs\"},\"ys\":{\"field\":\"ys\"}},\"id\":\"3616\",\"type\":\"MultiLine\"},{\"attributes\":{\"data\":{\"fill_color\":[\"#5e92f3\",\"#5e92f3\",\"#5e92f3\",\"#5e92f3\",\"#5e92f3\",\"#5e92f3\",\"#5e92f3\",\"#5e92f3\",\"#5e92f3\",\"#5e92f3\",\"#5e92f3\",\"#5e92f3\",\"#5e92f3\",\"#5e92f3\",\"#5e92f3\",\"#5e92f3\"],\"line_color\":[\"#003c8f\",\"#003c8f\",\"#003c8f\",\"#003c8f\",\"#003c8f\",\"#003c8f\",\"#003c8f\",\"#003c8f\",\"#003c8f\",\"#003c8f\",\"#003c8f\",\"#003c8f\",\"#003c8f\",\"#003c8f\",\"#003c8f\",\"#003c8f\"],\"line_width\":[3,3,3,3,3,3,3,3,3,3,3,3,3,3,3,3],\"x\":[6,20,72,111,194,178,199,205,207,198,165,157,162,144,127,189],\"y\":[71,59,31,-8,-8,38,86,96,106,103,97,84,112,112,97,93]},\"selected\":{\"id\":\"3633\"},\"selection_policy\":{\"id\":\"3632\"}},\"id\":\"3594\",\"type\":\"ColumnDataSource\"},{\"attributes\":{\"axis\":{\"id\":\"3573\"},\"dimension\":1,\"grid_line_color\":null,\"ticker\":null},\"id\":\"3576\",\"type\":\"Grid\"},{\"attributes\":{\"data_source\":{\"id\":\"3594\"},\"glyph\":{\"id\":\"3596\"},\"hover_glyph\":null,\"muted_glyph\":null,\"nonselection_glyph\":{\"id\":\"3597\"},\"selection_glyph\":null,\"view\":{\"id\":\"3599\"}},\"id\":\"3598\",\"type\":\"GlyphRenderer\"},{\"attributes\":{},\"id\":\"3629\",\"type\":\"UnionRenderers\"},{\"attributes\":{\"data_source\":{\"id\":\"3615\"},\"glyph\":{\"id\":\"3616\"},\"hover_glyph\":null,\"level\":\"underlay\",\"muted_glyph\":null,\"nonselection_glyph\":{\"id\":\"3617\"},\"selection_glyph\":null,\"view\":{\"id\":\"3619\"}},\"id\":\"3618\",\"type\":\"GlyphRenderer\"},{\"attributes\":{},\"id\":\"3574\",\"type\":\"BasicTicker\"},{\"attributes\":{\"source\":{\"id\":\"3594\"}},\"id\":\"3599\",\"type\":\"CDSView\"},{\"attributes\":{},\"id\":\"3630\",\"type\":\"Selection\"},{\"attributes\":{\"fill_color\":{\"field\":\"fill_color\"},\"line_color\":{\"field\":\"line_color\"},\"line_width\":{\"field\":\"line_width\"},\"size\":{\"units\":\"screen\",\"value\":11},\"x\":{\"field\":\"x\"},\"y\":{\"field\":\"y\"}},\"id\":\"3596\",\"type\":\"Circle\"},{\"attributes\":{},\"id\":\"3632\",\"type\":\"UnionRenderers\"},{\"attributes\":{\"fill_color\":{\"field\":\"fill_color\"},\"line_color\":{\"field\":\"line_color\"},\"line_width\":{\"field\":\"line_width\"},\"size\":{\"units\":\"screen\",\"value\":11},\"x\":{\"field\":\"x\"},\"y\":{\"field\":\"y\"}},\"id\":\"3597\",\"type\":\"Circle\"},{\"attributes\":{\"axis\":{\"id\":\"3569\"},\"grid_line_color\":null,\"ticker\":null},\"id\":\"3572\",\"type\":\"Grid\"},{\"attributes\":{\"line_alpha\":{\"value\":0.1},\"line_cap\":\"round\",\"line_color\":{\"value\":\"#404040\"},\"line_width\":{\"value\":5},\"xs\":{\"field\":\"xs\"},\"ys\":{\"field\":\"ys\"}},\"id\":\"3617\",\"type\":\"MultiLine\"},{\"attributes\":{},\"id\":\"3581\",\"type\":\"ResetTool\"},{\"attributes\":{},\"id\":\"3633\",\"type\":\"Selection\"},{\"attributes\":{},\"id\":\"3577\",\"type\":\"PanTool\"},{\"attributes\":{},\"id\":\"3582\",\"type\":\"HelpTool\"},{\"attributes\":{\"callback\":null,\"renderers\":[{\"id\":\"3598\"}],\"tooltips\":[[\"Index\",\"$index\"],[\"Name\",\"@name\"]]},\"id\":\"3621\",\"type\":\"HoverTool\"},{\"attributes\":{\"background_fill_color\":null,\"below\":[{\"id\":\"3569\"}],\"border_fill_color\":null,\"center\":[{\"id\":\"3572\"},{\"id\":\"3576\"},{\"id\":\"3613\"}],\"left\":[{\"id\":\"3573\"}],\"outline_line_color\":null,\"plot_height\":400,\"renderers\":[{\"id\":\"3598\"},{\"id\":\"3605\"},{\"id\":\"3610\"},{\"id\":\"3618\"}],\"title\":{\"id\":\"3559\"},\"toolbar\":{\"id\":\"3584\"},\"toolbar_location\":null,\"x_range\":{\"id\":\"3561\"},\"x_scale\":{\"id\":\"3565\"},\"y_range\":{\"id\":\"3563\"},\"y_scale\":{\"id\":\"3567\"}},\"id\":\"3558\",\"subtype\":\"Figure\",\"type\":\"Plot\"},{\"attributes\":{},\"id\":\"3570\",\"type\":\"BasicTicker\"},{\"attributes\":{},\"id\":\"3634\",\"type\":\"UnionRenderers\"},{\"attributes\":{\"overlay\":{\"id\":\"3583\"}},\"id\":\"3579\",\"type\":\"BoxZoomTool\"},{\"attributes\":{},\"id\":\"3578\",\"type\":\"WheelZoomTool\"},{\"attributes\":{\"formatter\":{\"id\":\"3625\"},\"ticker\":{\"id\":\"3574\"},\"visible\":false},\"id\":\"3573\",\"type\":\"LinearAxis\"},{\"attributes\":{},\"id\":\"3635\",\"type\":\"Selection\"},{\"attributes\":{\"formatter\":{\"id\":\"3627\"},\"ticker\":{\"id\":\"3570\"},\"visible\":false},\"id\":\"3569\",\"type\":\"LinearAxis\"},{\"attributes\":{},\"id\":\"3580\",\"type\":\"SaveTool\"},{\"attributes\":{\"data_source\":{\"id\":\"3600\"},\"glyph\":{\"id\":\"3602\"},\"hover_glyph\":{\"id\":\"3604\"},\"level\":\"underlay\",\"muted_glyph\":null,\"nonselection_glyph\":{\"id\":\"3603\"},\"selection_glyph\":null,\"view\":{\"id\":\"3606\"}},\"id\":\"3605\",\"type\":\"GlyphRenderer\"},{\"attributes\":{},\"id\":\"3636\",\"type\":\"UnionRenderers\"},{\"attributes\":{\"source\":{\"id\":\"3600\"}},\"id\":\"3606\",\"type\":\"CDSView\"}],\"root_ids\":[\"3641\"]},\"title\":\"Bokeh Application\",\"version\":\"2.2.3\"}};\n",
       "  var render_items = [{\"docid\":\"50eb8dcb-e0f9-4348-8f8a-2115298a85bb\",\"root_ids\":[\"3641\"],\"roots\":{\"3641\":\"39e66224-bc5f-4bc5-9fcb-50220f511ac7\"}}];\n",
       "  root.Bokeh.embed.embed_items_notebook(docs_json, render_items);\n",
       "\n",
       "  }\n",
       "  if (root.Bokeh !== undefined) {\n",
       "    embed_document(root);\n",
       "  } else {\n",
       "    var attempts = 0;\n",
       "    var timer = setInterval(function(root) {\n",
       "      if (root.Bokeh !== undefined) {\n",
       "        clearInterval(timer);\n",
       "        embed_document(root);\n",
       "      } else {\n",
       "        attempts++;\n",
       "        if (attempts > 100) {\n",
       "          clearInterval(timer);\n",
       "          console.log(\"Bokeh: ERROR: Unable to run BokehJS code because BokehJS library is missing\");\n",
       "        }\n",
       "      }\n",
       "    }, 10, root)\n",
       "  }\n",
       "})(window);"
      ],
      "application/vnd.bokehjs_exec.v0+json": ""
     },
     "metadata": {
      "application/vnd.bokehjs_exec.v0+json": {
       "id": "3641"
      }
     },
     "output_type": "display_data"
    }
   ],
   "source": [
    "show(vl.tree_plot(G, tree=[(3,5)], width=600))"
   ]
  },
  {
   "cell_type": "markdown",
   "metadata": {},
   "source": [
    "**Q17:** Should it increase or decrease if it will be included in the new minimum spanning tree? Exactly what must the cost of {4, 6} be changed to for this to occur.\n",
    "\n",
    "**A:** <font color='blue'> It must *decrease* to 14.</font>"
   ]
  },
  {
   "cell_type": "markdown",
   "metadata": {},
   "source": [
    "We can use the command below to get the weight of any edge:"
   ]
  },
  {
   "cell_type": "code",
   "execution_count": 13,
   "metadata": {},
   "outputs": [
    {
     "data": {
      "text/plain": [
       "10"
      ]
     },
     "execution_count": 13,
     "metadata": {},
     "output_type": "execute_result"
    }
   ],
   "source": [
    "G[2][3]['weight']"
   ]
  },
  {
   "cell_type": "markdown",
   "metadata": {},
   "source": [
    "**Q18:** Change the weight of {3,5} to be 1 less than the cost you answered in **Q17.**"
   ]
  },
  {
   "cell_type": "code",
   "execution_count": 14,
   "metadata": {},
   "outputs": [],
   "source": [
    "# TODO: Change the weight of edge {3,5}\n",
    "# G[3][5]['weight'] = ?\n",
    "\n",
    "### BEGIN SOLUTION\n",
    "G[3][5]['weight'] = 13\n",
    "### END SOLUTION"
   ]
  },
  {
   "cell_type": "markdown",
   "metadata": {},
   "source": [
    "Run the cell below to re-run Prim's"
   ]
  },
  {
   "cell_type": "code",
   "execution_count": 15,
   "metadata": {},
   "outputs": [
    {
     "data": {
      "text/html": [
       "\n",
       "\n",
       "\n",
       "\n",
       "\n",
       "\n",
       "  <div class=\"bk-root\" id=\"cbe97093-8b67-4ddb-a44f-3cc5fa242d9d\" data-root-id=\"3983\"></div>\n"
      ]
     },
     "metadata": {},
     "output_type": "display_data"
    },
    {
     "data": {
      "application/javascript": [
       "(function(root) {\n",
       "  function embed_document(root) {\n",
       "    \n",
       "  var docs_json = {\"3d21e5c3-4b77-42aa-a9e1-db8ca061cf4c\":{\"roots\":{\"references\":[{\"attributes\":{\"children\":[[{\"id\":\"3900\"},0,0],[{\"id\":\"3965\"},1,0]]},\"id\":\"3983\",\"type\":\"GridBox\"},{\"attributes\":{\"source\":{\"id\":\"3936\"}},\"id\":\"3941\",\"type\":\"CDSView\"},{\"attributes\":{},\"id\":\"3912\",\"type\":\"BasicTicker\"},{\"attributes\":{\"data_source\":{\"id\":\"3957\"},\"glyph\":{\"id\":\"3958\"},\"hover_glyph\":null,\"level\":\"underlay\",\"muted_glyph\":null,\"nonselection_glyph\":{\"id\":\"3959\"},\"selection_glyph\":null,\"view\":{\"id\":\"3961\"}},\"id\":\"3960\",\"type\":\"GlyphRenderer\"},{\"attributes\":{\"callback\":null,\"renderers\":[{\"id\":\"3940\"}],\"tooltips\":[[\"Index\",\"$index\"],[\"Name\",\"@name\"]]},\"id\":\"3963\",\"type\":\"HoverTool\"},{\"attributes\":{\"fill_color\":{\"field\":\"fill_color\"},\"line_color\":{\"field\":\"line_color\"},\"line_width\":{\"field\":\"line_width\"},\"size\":{\"units\":\"screen\",\"value\":11},\"x\":{\"field\":\"x\"},\"y\":{\"field\":\"y\"}},\"id\":\"3938\",\"type\":\"Circle\"},{\"attributes\":{\"children\":[{\"id\":\"3962\"}]},\"id\":\"3965\",\"type\":\"Row\"},{\"attributes\":{},\"id\":\"3919\",\"type\":\"PanTool\"},{\"attributes\":{\"axis\":{\"id\":\"3911\"},\"grid_line_color\":null,\"ticker\":null},\"id\":\"3914\",\"type\":\"Grid\"},{\"attributes\":{\"fill_color\":{\"field\":\"fill_color\"},\"line_color\":{\"field\":\"line_color\"},\"line_width\":{\"field\":\"line_width\"},\"size\":{\"units\":\"screen\",\"value\":11},\"x\":{\"field\":\"x\"},\"y\":{\"field\":\"y\"}},\"id\":\"3939\",\"type\":\"Circle\"},{\"attributes\":{\"data\":{\"fill_color\":[\"#5e92f3\",\"#5e92f3\",\"#5e92f3\",\"#5e92f3\",\"#5e92f3\",\"#5e92f3\",\"#5e92f3\",\"#5e92f3\",\"#5e92f3\",\"#5e92f3\",\"#5e92f3\",\"#5e92f3\",\"#5e92f3\",\"#5e92f3\",\"#5e92f3\",\"#5e92f3\"],\"line_color\":[\"#003c8f\",\"#003c8f\",\"#003c8f\",\"#003c8f\",\"#003c8f\",\"#003c8f\",\"#003c8f\",\"#003c8f\",\"#003c8f\",\"#003c8f\",\"#003c8f\",\"#003c8f\",\"#003c8f\",\"#003c8f\",\"#003c8f\",\"#003c8f\"],\"line_width\":[3,3,3,3,3,3,3,3,3,3,3,3,3,3,3,3],\"x\":[6,20,72,111,194,178,199,205,207,198,165,157,162,144,127,189],\"y\":[71,59,31,-8,-8,38,86,96,106,103,97,84,112,112,97,93]},\"selected\":{\"id\":\"3975\"},\"selection_policy\":{\"id\":\"3974\"}},\"id\":\"3936\",\"type\":\"ColumnDataSource\"},{\"attributes\":{},\"id\":\"3920\",\"type\":\"WheelZoomTool\"},{\"attributes\":{},\"id\":\"3967\",\"type\":\"BasicTickFormatter\"},{\"attributes\":{\"overlay\":{\"id\":\"3925\"}},\"id\":\"3921\",\"type\":\"BoxZoomTool\"},{\"attributes\":{},\"id\":\"3922\",\"type\":\"SaveTool\"},{\"attributes\":{},\"id\":\"3969\",\"type\":\"BasicTickFormatter\"},{\"attributes\":{},\"id\":\"3916\",\"type\":\"BasicTicker\"},{\"attributes\":{\"line_cap\":\"round\",\"line_color\":{\"value\":\"#404040\"},\"line_width\":{\"value\":5},\"xs\":{\"field\":\"xs\"},\"ys\":{\"field\":\"ys\"}},\"id\":\"3946\",\"type\":\"MultiLine\"},{\"attributes\":{\"data_source\":{\"id\":\"3942\"},\"glyph\":{\"id\":\"3944\"},\"hover_glyph\":{\"id\":\"3946\"},\"level\":\"underlay\",\"muted_glyph\":null,\"nonselection_glyph\":{\"id\":\"3945\"},\"selection_glyph\":null,\"view\":{\"id\":\"3948\"}},\"id\":\"3947\",\"type\":\"GlyphRenderer\"},{\"attributes\":{},\"id\":\"3923\",\"type\":\"ResetTool\"},{\"attributes\":{},\"id\":\"3971\",\"type\":\"UnionRenderers\"},{\"attributes\":{\"source\":{\"id\":\"3942\"}},\"id\":\"3948\",\"type\":\"CDSView\"},{\"attributes\":{\"line_cap\":\"round\",\"line_color\":{\"value\":\"#404040\"},\"line_width\":{\"value\":5},\"xs\":{\"field\":\"xs\"},\"ys\":{\"field\":\"ys\"}},\"id\":\"3958\",\"type\":\"MultiLine\"},{\"attributes\":{\"formatter\":{\"id\":\"3969\"},\"ticker\":{\"id\":\"3912\"},\"visible\":false},\"id\":\"3911\",\"type\":\"LinearAxis\"},{\"attributes\":{\"line_cap\":\"round\",\"line_color\":{\"field\":\"line_color\"},\"line_width\":{\"value\":5},\"xs\":{\"field\":\"xs\"},\"ys\":{\"field\":\"ys\"}},\"id\":\"3944\",\"type\":\"MultiLine\"},{\"attributes\":{},\"id\":\"3909\",\"type\":\"LinearScale\"},{\"attributes\":{},\"id\":\"3924\",\"type\":\"HelpTool\"},{\"attributes\":{},\"id\":\"3972\",\"type\":\"Selection\"},{\"attributes\":{\"end\":224.085,\"start\":-11.085},\"id\":\"3903\",\"type\":\"Range1d\"},{\"attributes\":{},\"id\":\"3974\",\"type\":\"UnionRenderers\"},{\"attributes\":{\"line_cap\":\"round\",\"line_color\":{\"field\":\"line_color\"},\"line_width\":{\"value\":5},\"xs\":{\"field\":\"xs\"},\"ys\":{\"field\":\"ys\"}},\"id\":\"3945\",\"type\":\"MultiLine\"},{\"attributes\":{\"active_drag\":null,\"active_inspect\":\"auto\",\"active_multi\":null,\"active_scroll\":null,\"active_tap\":\"auto\",\"logo\":null,\"tools\":[{\"id\":\"3919\"},{\"id\":\"3920\"},{\"id\":\"3921\"},{\"id\":\"3922\"},{\"id\":\"3923\"},{\"id\":\"3924\"},{\"id\":\"3963\"}]},\"id\":\"3926\",\"type\":\"Toolbar\"},{\"attributes\":{},\"id\":\"3975\",\"type\":\"Selection\"},{\"attributes\":{\"data\":{\"xs\":[[11.867393549830293,14.1326064501697],[64.2132081933475,68.78679180665253],[43.98457472802465,48.01542527197538],[71.31392773909235,75.68607226090765],[100.9065151137992,98.09348488620083],[140.5887402418824,143.4112597581176],[142.37870743870653,146.62129256129347],[134.3832167600553,136.6167832399447],[89.9311343589464,93.06886564105363],[112.57004046214576,116.42995953785424],[150.1483,154.85170000000002],[142.6336759201498,146.3663240798502],[133.03894314211007,134.96105685788993],[166.61006419357236,168.38993580642764],[160.24329823001975,161.75670176998028],[159.25243123412935,159.74756876587068],[151.1019039619186,149.89809603808138],[186.69937892443528,185.30062107556475],[187.6421179461765,189.35788205382346],[201.25793580143863,202.74206419856134],[195.23521488209917,192.7647851179008],[205.72359827057616,206.2764017294238],[202.54591042736908,200.45408957263095],[192.51616586095076,194.4838341390492],[178.54133338379128,175.4586666162087],[203.96931436315347,201.03068563684658],[183.03645249636594,179.96354750363403],[154.5678,151.4322]],\"ys\":[[65.9708055287169,64.02919447128312],[83.50862324815732,84.4913767518427],[46.085228992602126,43.914771007397874],[77.22363788864963,78.77636211135038],[65.68781813655903,62.31218186344098],[91.11154589518429,89.88845410481571],[103.59087461658854,105.40912538341149],[103.51460302357822,105.48539697642181],[13.06886564105362,9.93113435894638],[56.296613464632046,58.703386535367954],[-7.999999999999998,-7.999999999999998],[13.718643169058069,16.281356830941924],[36.07788628422017,39.922113715779815],[62.949383195031956,59.05061680496806],[89.27035962378204,91.72964037621796],[96.61361491112429,99.38638508887571],[96.70359146663688,99.29640853336312],[12.989285592248606,17.010714407751394],[60.03912673411776,63.960873265882256],[89.76322633573106,92.23677366426892],[88.63534958253058,90.36465041746942],[99.61799135288078,102.38200864711922],[98.45408957263092,100.54591042736905],[96.90685095661199,99.09314904338801],[94.74311110270146,95.25688889729855],[104.98977145438448,104.01022854561555],[100.27935499933926,99.72064500066074],[112.00000000000001,112.00000000000001]]},\"selected\":{\"id\":\"3979\"},\"selection_policy\":{\"id\":\"3978\"}},\"id\":\"3949\",\"type\":\"ColumnDataSource\"},{\"attributes\":{},\"id\":\"3976\",\"type\":\"UnionRenderers\"},{\"attributes\":{\"data\":{\"text\":[4,24,12,19,20,8,10,6,10,25,14,13,18,14,4,8,8,12,14,3,3,1,2,4,6,2,6,4],\"x\":{\"__ndarray__\":\"/v//////KUAAAAAAAKBQQAEAAAAAAEdAAAAAAABgUkAAAAAAAOBYQAAAAAAAwGFAAAAAAAAQYkAAAAAAAPBgQAAAAAAA4FZAAAAAAACgXEABAAAAABBjQAAAAAAAEGJAAAAAAADAYEAAAAAAAPBkQAAAAAAAIGRAAAAAAADwY0D//////89iQAAAAAAAQGdAAAAAAACQZ0D//////z9pQAAAAAAAQGhAAAAAAADAaUAAAAAAADBpQAAAAAAAMGhA//////8fZkABAAAAAFBpQAAAAAAAsGZAAAAAAAAgY0A=\",\"dtype\":\"float64\",\"order\":\"little\",\"shape\":[28]},\"y\":{\"__ndarray__\":\"AAAAAABAUEAAAAAAAABVQAAAAAAAgEZAAAAAAACAU0AAAAAAAABQQAAAAAAAoFZAAAAAAAAgWkAAAAAAACBaQAAAAAAAACdAAAAAAADATED+//////8fwAAAAAAAAC5AAAAAAAAAQ0ACAAAAAIBOQAAAAAAAoFZAAAAAAACAWEAAAAAAAIBYQAAAAAAAAC5AAgAAAAAAT0AAAAAAAMBWQAAAAAAAYFZAAAAAAABAWUD//////99YQAAAAAAAgFhAAAAAAADAV0AAAAAAACBaQAAAAAAAAFlAAQAAAAAAXEA=\",\"dtype\":\"float64\",\"order\":\"little\",\"shape\":[28]}},\"selected\":{\"id\":\"3972\"},\"selection_policy\":{\"id\":\"3971\"}},\"id\":\"3954\",\"type\":\"ColumnDataSource\"},{\"attributes\":{\"line_color\":{\"value\":\"white\"},\"line_width\":{\"value\":6},\"xs\":{\"field\":\"xs\"},\"ys\":{\"field\":\"ys\"}},\"id\":\"3951\",\"type\":\"MultiLine\"},{\"attributes\":{},\"id\":\"3977\",\"type\":\"Selection\"},{\"attributes\":{\"source\":{\"id\":\"3949\"}},\"id\":\"3953\",\"type\":\"CDSView\"},{\"attributes\":{\"formatter\":{\"id\":\"3967\"},\"ticker\":{\"id\":\"3916\"},\"visible\":false},\"id\":\"3915\",\"type\":\"LinearAxis\"},{\"attributes\":{},\"id\":\"3978\",\"type\":\"UnionRenderers\"},{\"attributes\":{\"data_source\":{\"id\":\"3949\"},\"glyph\":{\"id\":\"3950\"},\"hover_glyph\":null,\"level\":\"guide\",\"muted_glyph\":null,\"nonselection_glyph\":{\"id\":\"3951\"},\"selection_glyph\":null,\"view\":{\"id\":\"3953\"}},\"id\":\"3952\",\"type\":\"GlyphRenderer\"},{\"attributes\":{\"data\":{\"xs\":[[6,20],[20,72],[72,111],[111,178],[178,194],[178,199],[199,205],[205,207],[205,198],[199,189],[198,165],[165,157],[157,162],[162,144],[144,127]],\"ys\":[[71,59],[59,31],[31,-8],[-8,38],[38,-8],[38,86],[86,96],[96,106],[96,103],[86,93],[103,97],[97,84],[84,112],[112,112],[112,97]]},\"selected\":{\"id\":\"3981\"},\"selection_policy\":{\"id\":\"3980\"}},\"id\":\"3957\",\"type\":\"ColumnDataSource\"},{\"attributes\":{},\"id\":\"3979\",\"type\":\"Selection\"},{\"attributes\":{\"line_color\":{\"value\":\"white\"},\"line_width\":{\"value\":6},\"xs\":{\"field\":\"xs\"},\"ys\":{\"field\":\"ys\"}},\"id\":\"3950\",\"type\":\"MultiLine\"},{\"attributes\":{\"align\":\"center\",\"width\":450},\"id\":\"3962\",\"type\":\"Div\"},{\"attributes\":{\"text\":\"\"},\"id\":\"3901\",\"type\":\"Title\"},{\"attributes\":{\"data\":{\"line_color\":[\"#DFDFDF\",\"#DFDFDF\",\"#DFDFDF\",\"#DFDFDF\",\"#DFDFDF\",\"#DFDFDF\",\"#DFDFDF\",\"#DFDFDF\",\"#DFDFDF\",\"#DFDFDF\",\"#DFDFDF\",\"#DFDFDF\",\"#DFDFDF\",\"#DFDFDF\",\"#DFDFDF\",\"#DFDFDF\",\"#DFDFDF\",\"#DFDFDF\",\"#DFDFDF\",\"#DFDFDF\",\"#DFDFDF\",\"#DFDFDF\",\"#DFDFDF\",\"#DFDFDF\",\"#DFDFDF\",\"#DFDFDF\",\"#DFDFDF\",\"#DFDFDF\"],\"u\":[0,0,1,1,14,14,14,14,2,2,3,3,3,11,11,11,11,4,5,6,6,7,7,15,15,8,9,12],\"v\":[1,14,2,14,2,11,12,13,3,11,4,5,11,5,10,12,13,5,6,7,15,8,9,9,10,9,10,13],\"weight\":[4,24,12,19,20,8,10,6,10,25,14,13,18,14,4,8,8,12,14,3,3,1,2,4,6,2,6,4],\"xs\":[[6,20],[6,127],[20,72],[20,127],[127,72],[127,157],[127,162],[127,144],[72,111],[72,157],[111,194],[111,178],[111,157],[157,178],[157,165],[157,162],[157,144],[194,178],[178,199],[199,205],[199,189],[205,207],[205,198],[189,198],[189,165],[207,198],[198,165],[162,144]],\"ys\":[[71,59],[71,97],[59,31],[59,97],[97,31],[97,84],[97,112],[97,112],[31,-8],[31,84],[-8,-8],[-8,38],[-8,84],[84,38],[84,97],[84,112],[84,112],[-8,38],[38,86],[86,96],[86,93],[96,106],[96,103],[93,103],[93,97],[106,103],[103,97],[112,112]]},\"selected\":{\"id\":\"3977\"},\"selection_policy\":{\"id\":\"3976\"}},\"id\":\"3942\",\"type\":\"ColumnDataSource\"},{\"attributes\":{},\"id\":\"3980\",\"type\":\"UnionRenderers\"},{\"attributes\":{\"end\":122.2,\"start\":-18.200000000000003},\"id\":\"3905\",\"type\":\"Range1d\"},{\"attributes\":{\"bottom_units\":\"screen\",\"fill_alpha\":0.5,\"fill_color\":\"lightgrey\",\"left_units\":\"screen\",\"level\":\"overlay\",\"line_alpha\":1.0,\"line_color\":\"black\",\"line_dash\":[4,4],\"line_width\":2,\"right_units\":\"screen\",\"top_units\":\"screen\"},\"id\":\"3925\",\"type\":\"BoxAnnotation\"},{\"attributes\":{},\"id\":\"3981\",\"type\":\"Selection\"},{\"attributes\":{\"background_fill_color\":null,\"below\":[{\"id\":\"3911\"}],\"border_fill_color\":null,\"center\":[{\"id\":\"3914\"},{\"id\":\"3918\"},{\"id\":\"3955\"}],\"left\":[{\"id\":\"3915\"}],\"outline_line_color\":null,\"plot_width\":900,\"renderers\":[{\"id\":\"3940\"},{\"id\":\"3947\"},{\"id\":\"3952\"},{\"id\":\"3960\"}],\"title\":{\"id\":\"3901\"},\"toolbar\":{\"id\":\"3926\"},\"toolbar_location\":null,\"x_range\":{\"id\":\"3903\"},\"x_scale\":{\"id\":\"3907\"},\"y_range\":{\"id\":\"3905\"},\"y_scale\":{\"id\":\"3909\"}},\"id\":\"3900\",\"subtype\":\"Figure\",\"type\":\"Plot\"},{\"attributes\":{\"source\":{\"id\":\"3954\"},\"text_align\":\"center\",\"text_baseline\":\"middle\",\"text_color\":{\"value\":\"black\"},\"text_font_size\":{\"value\":\"13px\"},\"x\":{\"field\":\"x\"},\"y\":{\"field\":\"y\"}},\"id\":\"3955\",\"type\":\"LabelSet\"},{\"attributes\":{\"line_alpha\":{\"value\":0.1},\"line_cap\":\"round\",\"line_color\":{\"value\":\"#404040\"},\"line_width\":{\"value\":5},\"xs\":{\"field\":\"xs\"},\"ys\":{\"field\":\"ys\"}},\"id\":\"3959\",\"type\":\"MultiLine\"},{\"attributes\":{\"axis\":{\"id\":\"3915\"},\"dimension\":1,\"grid_line_color\":null,\"ticker\":null},\"id\":\"3918\",\"type\":\"Grid\"},{\"attributes\":{\"source\":{\"id\":\"3957\"}},\"id\":\"3961\",\"type\":\"CDSView\"},{\"attributes\":{\"data_source\":{\"id\":\"3936\"},\"glyph\":{\"id\":\"3938\"},\"hover_glyph\":null,\"muted_glyph\":null,\"nonselection_glyph\":{\"id\":\"3939\"},\"selection_glyph\":null,\"view\":{\"id\":\"3941\"}},\"id\":\"3940\",\"type\":\"GlyphRenderer\"},{\"attributes\":{},\"id\":\"3907\",\"type\":\"LinearScale\"}],\"root_ids\":[\"3983\"]},\"title\":\"Bokeh Application\",\"version\":\"2.2.3\"}};\n",
       "  var render_items = [{\"docid\":\"3d21e5c3-4b77-42aa-a9e1-db8ca061cf4c\",\"root_ids\":[\"3983\"],\"roots\":{\"3983\":\"cbe97093-8b67-4ddb-a44f-3cc5fa242d9d\"}}];\n",
       "  root.Bokeh.embed.embed_items_notebook(docs_json, render_items);\n",
       "\n",
       "  }\n",
       "  if (root.Bokeh !== undefined) {\n",
       "    embed_document(root);\n",
       "  } else {\n",
       "    var attempts = 0;\n",
       "    var timer = setInterval(function(root) {\n",
       "      if (root.Bokeh !== undefined) {\n",
       "        clearInterval(timer);\n",
       "        embed_document(root);\n",
       "      } else {\n",
       "        attempts++;\n",
       "        if (attempts > 100) {\n",
       "          clearInterval(timer);\n",
       "          console.log(\"Bokeh: ERROR: Unable to run BokehJS code because BokehJS library is missing\");\n",
       "        }\n",
       "      }\n",
       "    }, 10, root)\n",
       "  }\n",
       "})(window);"
      ],
      "application/vnd.bokehjs_exec.v0+json": ""
     },
     "metadata": {
      "application/vnd.bokehjs_exec.v0+json": {
       "id": "3983"
      }
     },
     "output_type": "display_data"
    }
   ],
   "source": [
    "mst = vl.prims(G,i=0)\n",
    "show(vl.tree_plot(G, tree=mst, i=0, width=900, height=600))"
   ]
  },
  {
   "cell_type": "markdown",
   "metadata": {},
   "source": [
    "**Q19:** Is the edge {3,5} now in the tree?\n",
    "\n",
    "**A:** <font color='blue'> Yes.</font>"
   ]
  },
  {
   "cell_type": "markdown",
   "metadata": {},
   "source": [
    "**Q20:** Change the weight of {3,5} to be 2 more than it currently is."
   ]
  },
  {
   "cell_type": "code",
   "execution_count": 16,
   "metadata": {},
   "outputs": [],
   "source": [
    "# TODO: Change the weight of edge {3,5}\n",
    "# G[3][5]['weight'] = ?\n",
    "\n",
    "### BEGIN SOLUTION\n",
    "G[3][5]['weight'] = 15\n",
    "### END SOLUTION"
   ]
  },
  {
   "cell_type": "code",
   "execution_count": 17,
   "metadata": {},
   "outputs": [
    {
     "data": {
      "text/html": [
       "\n",
       "\n",
       "\n",
       "\n",
       "\n",
       "\n",
       "  <div class=\"bk-root\" id=\"a0c9f304-0788-4f90-b09e-03f56f2b9c66\" data-root-id=\"4341\"></div>\n"
      ]
     },
     "metadata": {},
     "output_type": "display_data"
    },
    {
     "data": {
      "application/javascript": [
       "(function(root) {\n",
       "  function embed_document(root) {\n",
       "    \n",
       "  var docs_json = {\"87c97ee5-5f30-4db4-8f23-fbba77d49357\":{\"roots\":{\"references\":[{\"attributes\":{\"children\":[[{\"id\":\"4258\"},0,0],[{\"id\":\"4323\"},1,0]]},\"id\":\"4341\",\"type\":\"GridBox\"},{\"attributes\":{\"formatter\":{\"id\":\"4325\"},\"ticker\":{\"id\":\"4274\"},\"visible\":false},\"id\":\"4273\",\"type\":\"LinearAxis\"},{\"attributes\":{\"fill_color\":{\"field\":\"fill_color\"},\"line_color\":{\"field\":\"line_color\"},\"line_width\":{\"field\":\"line_width\"},\"size\":{\"units\":\"screen\",\"value\":11},\"x\":{\"field\":\"x\"},\"y\":{\"field\":\"y\"}},\"id\":\"4297\",\"type\":\"Circle\"},{\"attributes\":{},\"id\":\"4282\",\"type\":\"HelpTool\"},{\"attributes\":{},\"id\":\"4325\",\"type\":\"BasicTickFormatter\"},{\"attributes\":{\"active_drag\":null,\"active_inspect\":\"auto\",\"active_multi\":null,\"active_scroll\":null,\"active_tap\":\"auto\",\"logo\":null,\"tools\":[{\"id\":\"4277\"},{\"id\":\"4278\"},{\"id\":\"4279\"},{\"id\":\"4280\"},{\"id\":\"4281\"},{\"id\":\"4282\"},{\"id\":\"4321\"}]},\"id\":\"4284\",\"type\":\"Toolbar\"},{\"attributes\":{},\"id\":\"4277\",\"type\":\"PanTool\"},{\"attributes\":{\"fill_color\":{\"field\":\"fill_color\"},\"line_color\":{\"field\":\"line_color\"},\"line_width\":{\"field\":\"line_width\"},\"size\":{\"units\":\"screen\",\"value\":11},\"x\":{\"field\":\"x\"},\"y\":{\"field\":\"y\"}},\"id\":\"4296\",\"type\":\"Circle\"},{\"attributes\":{\"line_cap\":\"round\",\"line_color\":{\"value\":\"#404040\"},\"line_width\":{\"value\":5},\"xs\":{\"field\":\"xs\"},\"ys\":{\"field\":\"ys\"}},\"id\":\"4304\",\"type\":\"MultiLine\"},{\"attributes\":{},\"id\":\"4327\",\"type\":\"BasicTickFormatter\"},{\"attributes\":{\"data_source\":{\"id\":\"4300\"},\"glyph\":{\"id\":\"4302\"},\"hover_glyph\":{\"id\":\"4304\"},\"level\":\"underlay\",\"muted_glyph\":null,\"nonselection_glyph\":{\"id\":\"4303\"},\"selection_glyph\":null,\"view\":{\"id\":\"4306\"}},\"id\":\"4305\",\"type\":\"GlyphRenderer\"},{\"attributes\":{\"source\":{\"id\":\"4294\"}},\"id\":\"4299\",\"type\":\"CDSView\"},{\"attributes\":{},\"id\":\"4329\",\"type\":\"UnionRenderers\"},{\"attributes\":{\"text\":\"\"},\"id\":\"4259\",\"type\":\"Title\"},{\"attributes\":{\"source\":{\"id\":\"4300\"}},\"id\":\"4306\",\"type\":\"CDSView\"},{\"attributes\":{\"line_cap\":\"round\",\"line_color\":{\"field\":\"line_color\"},\"line_width\":{\"value\":5},\"xs\":{\"field\":\"xs\"},\"ys\":{\"field\":\"ys\"}},\"id\":\"4302\",\"type\":\"MultiLine\"},{\"attributes\":{},\"id\":\"4330\",\"type\":\"Selection\"},{\"attributes\":{\"data\":{\"fill_color\":[\"#5e92f3\",\"#5e92f3\",\"#5e92f3\",\"#5e92f3\",\"#5e92f3\",\"#5e92f3\",\"#5e92f3\",\"#5e92f3\",\"#5e92f3\",\"#5e92f3\",\"#5e92f3\",\"#5e92f3\",\"#5e92f3\",\"#5e92f3\",\"#5e92f3\",\"#5e92f3\"],\"line_color\":[\"#003c8f\",\"#003c8f\",\"#003c8f\",\"#003c8f\",\"#003c8f\",\"#003c8f\",\"#003c8f\",\"#003c8f\",\"#003c8f\",\"#003c8f\",\"#003c8f\",\"#003c8f\",\"#003c8f\",\"#003c8f\",\"#003c8f\",\"#003c8f\"],\"line_width\":[3,3,3,3,3,3,3,3,3,3,3,3,3,3,3,3],\"x\":[6,20,72,111,194,178,199,205,207,198,165,157,162,144,127,189],\"y\":[71,59,31,-8,-8,38,86,96,106,103,97,84,112,112,97,93]},\"selected\":{\"id\":\"4333\"},\"selection_policy\":{\"id\":\"4332\"}},\"id\":\"4294\",\"type\":\"ColumnDataSource\"},{\"attributes\":{},\"id\":\"4332\",\"type\":\"UnionRenderers\"},{\"attributes\":{\"background_fill_color\":null,\"below\":[{\"id\":\"4269\"}],\"border_fill_color\":null,\"center\":[{\"id\":\"4272\"},{\"id\":\"4276\"},{\"id\":\"4313\"}],\"left\":[{\"id\":\"4273\"}],\"outline_line_color\":null,\"plot_width\":900,\"renderers\":[{\"id\":\"4298\"},{\"id\":\"4305\"},{\"id\":\"4310\"},{\"id\":\"4318\"}],\"title\":{\"id\":\"4259\"},\"toolbar\":{\"id\":\"4284\"},\"toolbar_location\":null,\"x_range\":{\"id\":\"4261\"},\"x_scale\":{\"id\":\"4265\"},\"y_range\":{\"id\":\"4263\"},\"y_scale\":{\"id\":\"4267\"}},\"id\":\"4258\",\"subtype\":\"Figure\",\"type\":\"Plot\"},{\"attributes\":{\"line_cap\":\"round\",\"line_color\":{\"field\":\"line_color\"},\"line_width\":{\"value\":5},\"xs\":{\"field\":\"xs\"},\"ys\":{\"field\":\"ys\"}},\"id\":\"4303\",\"type\":\"MultiLine\"},{\"attributes\":{},\"id\":\"4333\",\"type\":\"Selection\"},{\"attributes\":{},\"id\":\"4267\",\"type\":\"LinearScale\"},{\"attributes\":{\"data\":{\"xs\":[[11.867393549830293,14.1326064501697],[64.2132081933475,68.78679180665253],[43.98457472802465,48.01542527197538],[71.31392773909235,75.68607226090765],[100.9065151137992,98.09348488620083],[140.5887402418824,143.4112597581176],[142.37870743870653,146.62129256129347],[134.3832167600553,136.6167832399447],[89.9311343589464,93.06886564105363],[112.57004046214576,116.42995953785424],[150.1483,154.85170000000002],[142.6336759201498,146.3663240798502],[133.03894314211007,134.96105685788993],[166.61006419357236,168.38993580642764],[160.24329823001975,161.75670176998028],[159.25243123412935,159.74756876587068],[151.1019039619186,149.89809603808138],[186.69937892443528,185.30062107556475],[187.6421179461765,189.35788205382346],[201.25793580143863,202.74206419856134],[195.23521488209917,192.7647851179008],[205.72359827057616,206.2764017294238],[202.54591042736908,200.45408957263095],[192.51616586095076,194.4838341390492],[178.54133338379128,175.4586666162087],[203.96931436315347,201.03068563684658],[183.03645249636594,179.96354750363403],[154.5678,151.4322]],\"ys\":[[65.9708055287169,64.02919447128312],[83.50862324815732,84.4913767518427],[46.085228992602126,43.914771007397874],[77.22363788864963,78.77636211135038],[65.68781813655903,62.31218186344098],[91.11154589518429,89.88845410481571],[103.59087461658854,105.40912538341149],[103.51460302357822,105.48539697642181],[13.06886564105362,9.93113435894638],[56.296613464632046,58.703386535367954],[-7.999999999999998,-7.999999999999998],[13.718643169058069,16.281356830941924],[36.07788628422017,39.922113715779815],[62.949383195031956,59.05061680496806],[89.27035962378204,91.72964037621796],[96.61361491112429,99.38638508887571],[96.70359146663688,99.29640853336312],[12.989285592248606,17.010714407751394],[60.03912673411776,63.960873265882256],[89.76322633573106,92.23677366426892],[88.63534958253058,90.36465041746942],[99.61799135288078,102.38200864711922],[98.45408957263092,100.54591042736905],[96.90685095661199,99.09314904338801],[94.74311110270146,95.25688889729855],[104.98977145438448,104.01022854561555],[100.27935499933926,99.72064500066074],[112.00000000000001,112.00000000000001]]},\"selected\":{\"id\":\"4337\"},\"selection_policy\":{\"id\":\"4336\"}},\"id\":\"4307\",\"type\":\"ColumnDataSource\"},{\"attributes\":{\"end\":122.2,\"start\":-18.200000000000003},\"id\":\"4263\",\"type\":\"Range1d\"},{\"attributes\":{},\"id\":\"4334\",\"type\":\"UnionRenderers\"},{\"attributes\":{\"data\":{\"text\":[4,24,12,19,20,8,10,6,10,25,14,15,18,14,4,8,8,12,14,3,3,1,2,4,6,2,6,4],\"x\":{\"__ndarray__\":\"/v//////KUAAAAAAAKBQQAEAAAAAAEdAAAAAAABgUkAAAAAAAOBYQAAAAAAAwGFAAAAAAAAQYkAAAAAAAPBgQAAAAAAA4FZAAAAAAACgXEABAAAAABBjQAAAAAAAEGJAAAAAAADAYEAAAAAAAPBkQAAAAAAAIGRAAAAAAADwY0D//////89iQAAAAAAAQGdAAAAAAACQZ0D//////z9pQAAAAAAAQGhAAAAAAADAaUAAAAAAADBpQAAAAAAAMGhA//////8fZkABAAAAAFBpQAAAAAAAsGZAAAAAAAAgY0A=\",\"dtype\":\"float64\",\"order\":\"little\",\"shape\":[28]},\"y\":{\"__ndarray__\":\"AAAAAABAUEAAAAAAAABVQAAAAAAAgEZAAAAAAACAU0AAAAAAAABQQAAAAAAAoFZAAAAAAAAgWkAAAAAAACBaQAAAAAAAACdAAAAAAADATED+//////8fwAAAAAAAAC5AAAAAAAAAQ0ACAAAAAIBOQAAAAAAAoFZAAAAAAACAWEAAAAAAAIBYQAAAAAAAAC5AAgAAAAAAT0AAAAAAAMBWQAAAAAAAYFZAAAAAAABAWUD//////99YQAAAAAAAgFhAAAAAAADAV0AAAAAAACBaQAAAAAAAAFlAAQAAAAAAXEA=\",\"dtype\":\"float64\",\"order\":\"little\",\"shape\":[28]}},\"selected\":{\"id\":\"4330\"},\"selection_policy\":{\"id\":\"4329\"}},\"id\":\"4312\",\"type\":\"ColumnDataSource\"},{\"attributes\":{},\"id\":\"4274\",\"type\":\"BasicTicker\"},{\"attributes\":{\"line_color\":{\"value\":\"white\"},\"line_width\":{\"value\":6},\"xs\":{\"field\":\"xs\"},\"ys\":{\"field\":\"ys\"}},\"id\":\"4309\",\"type\":\"MultiLine\"},{\"attributes\":{},\"id\":\"4335\",\"type\":\"Selection\"},{\"attributes\":{\"source\":{\"id\":\"4307\"}},\"id\":\"4311\",\"type\":\"CDSView\"},{\"attributes\":{},\"id\":\"4265\",\"type\":\"LinearScale\"},{\"attributes\":{},\"id\":\"4336\",\"type\":\"UnionRenderers\"},{\"attributes\":{\"data_source\":{\"id\":\"4294\"},\"glyph\":{\"id\":\"4296\"},\"hover_glyph\":null,\"muted_glyph\":null,\"nonselection_glyph\":{\"id\":\"4297\"},\"selection_glyph\":null,\"view\":{\"id\":\"4299\"}},\"id\":\"4298\",\"type\":\"GlyphRenderer\"},{\"attributes\":{\"axis\":{\"id\":\"4269\"},\"grid_line_color\":null,\"ticker\":null},\"id\":\"4272\",\"type\":\"Grid\"},{\"attributes\":{\"data_source\":{\"id\":\"4307\"},\"glyph\":{\"id\":\"4308\"},\"hover_glyph\":null,\"level\":\"guide\",\"muted_glyph\":null,\"nonselection_glyph\":{\"id\":\"4309\"},\"selection_glyph\":null,\"view\":{\"id\":\"4311\"}},\"id\":\"4310\",\"type\":\"GlyphRenderer\"},{\"attributes\":{},\"id\":\"4337\",\"type\":\"Selection\"},{\"attributes\":{\"line_color\":{\"value\":\"white\"},\"line_width\":{\"value\":6},\"xs\":{\"field\":\"xs\"},\"ys\":{\"field\":\"ys\"}},\"id\":\"4308\",\"type\":\"MultiLine\"},{\"attributes\":{\"line_cap\":\"round\",\"line_color\":{\"value\":\"#404040\"},\"line_width\":{\"value\":5},\"xs\":{\"field\":\"xs\"},\"ys\":{\"field\":\"ys\"}},\"id\":\"4316\",\"type\":\"MultiLine\"},{\"attributes\":{},\"id\":\"4338\",\"type\":\"UnionRenderers\"},{\"attributes\":{\"formatter\":{\"id\":\"4327\"},\"ticker\":{\"id\":\"4270\"},\"visible\":false},\"id\":\"4269\",\"type\":\"LinearAxis\"},{\"attributes\":{\"bottom_units\":\"screen\",\"fill_alpha\":0.5,\"fill_color\":\"lightgrey\",\"left_units\":\"screen\",\"level\":\"overlay\",\"line_alpha\":1.0,\"line_color\":\"black\",\"line_dash\":[4,4],\"line_width\":2,\"right_units\":\"screen\",\"top_units\":\"screen\"},\"id\":\"4283\",\"type\":\"BoxAnnotation\"},{\"attributes\":{},\"id\":\"4339\",\"type\":\"Selection\"},{\"attributes\":{\"source\":{\"id\":\"4312\"},\"text_align\":\"center\",\"text_baseline\":\"middle\",\"text_color\":{\"value\":\"black\"},\"text_font_size\":{\"value\":\"13px\"},\"x\":{\"field\":\"x\"},\"y\":{\"field\":\"y\"}},\"id\":\"4313\",\"type\":\"LabelSet\"},{\"attributes\":{},\"id\":\"4270\",\"type\":\"BasicTicker\"},{\"attributes\":{\"line_alpha\":{\"value\":0.1},\"line_cap\":\"round\",\"line_color\":{\"value\":\"#404040\"},\"line_width\":{\"value\":5},\"xs\":{\"field\":\"xs\"},\"ys\":{\"field\":\"ys\"}},\"id\":\"4317\",\"type\":\"MultiLine\"},{\"attributes\":{\"overlay\":{\"id\":\"4283\"}},\"id\":\"4279\",\"type\":\"BoxZoomTool\"},{\"attributes\":{},\"id\":\"4280\",\"type\":\"SaveTool\"},{\"attributes\":{\"align\":\"center\",\"width\":450},\"id\":\"4320\",\"type\":\"Div\"},{\"attributes\":{\"data_source\":{\"id\":\"4315\"},\"glyph\":{\"id\":\"4316\"},\"hover_glyph\":null,\"level\":\"underlay\",\"muted_glyph\":null,\"nonselection_glyph\":{\"id\":\"4317\"},\"selection_glyph\":null,\"view\":{\"id\":\"4319\"}},\"id\":\"4318\",\"type\":\"GlyphRenderer\"},{\"attributes\":{\"source\":{\"id\":\"4315\"}},\"id\":\"4319\",\"type\":\"CDSView\"},{\"attributes\":{\"data\":{\"line_color\":[\"#DFDFDF\",\"#DFDFDF\",\"#DFDFDF\",\"#DFDFDF\",\"#DFDFDF\",\"#DFDFDF\",\"#DFDFDF\",\"#DFDFDF\",\"#DFDFDF\",\"#DFDFDF\",\"#DFDFDF\",\"#DFDFDF\",\"#DFDFDF\",\"#DFDFDF\",\"#DFDFDF\",\"#DFDFDF\",\"#DFDFDF\",\"#DFDFDF\",\"#DFDFDF\",\"#DFDFDF\",\"#DFDFDF\",\"#DFDFDF\",\"#DFDFDF\",\"#DFDFDF\",\"#DFDFDF\",\"#DFDFDF\",\"#DFDFDF\",\"#DFDFDF\"],\"u\":[0,0,1,1,14,14,14,14,2,2,3,3,3,11,11,11,11,4,5,6,6,7,7,15,15,8,9,12],\"v\":[1,14,2,14,2,11,12,13,3,11,4,5,11,5,10,12,13,5,6,7,15,8,9,9,10,9,10,13],\"weight\":[4,24,12,19,20,8,10,6,10,25,14,15,18,14,4,8,8,12,14,3,3,1,2,4,6,2,6,4],\"xs\":[[6,20],[6,127],[20,72],[20,127],[127,72],[127,157],[127,162],[127,144],[72,111],[72,157],[111,194],[111,178],[111,157],[157,178],[157,165],[157,162],[157,144],[194,178],[178,199],[199,205],[199,189],[205,207],[205,198],[189,198],[189,165],[207,198],[198,165],[162,144]],\"ys\":[[71,59],[71,97],[59,31],[59,97],[97,31],[97,84],[97,112],[97,112],[31,-8],[31,84],[-8,-8],[-8,38],[-8,84],[84,38],[84,97],[84,112],[84,112],[-8,38],[38,86],[86,96],[86,93],[96,106],[96,103],[93,103],[93,97],[106,103],[103,97],[112,112]]},\"selected\":{\"id\":\"4335\"},\"selection_policy\":{\"id\":\"4334\"}},\"id\":\"4300\",\"type\":\"ColumnDataSource\"},{\"attributes\":{\"data\":{\"xs\":[[6,20],[20,72],[72,111],[111,194],[194,178],[178,199],[199,205],[205,207],[205,198],[199,189],[198,165],[165,157],[157,162],[162,144],[144,127]],\"ys\":[[71,59],[59,31],[31,-8],[-8,-8],[-8,38],[38,86],[86,96],[96,106],[96,103],[86,93],[103,97],[97,84],[84,112],[112,112],[112,97]]},\"selected\":{\"id\":\"4339\"},\"selection_policy\":{\"id\":\"4338\"}},\"id\":\"4315\",\"type\":\"ColumnDataSource\"},{\"attributes\":{\"axis\":{\"id\":\"4273\"},\"dimension\":1,\"grid_line_color\":null,\"ticker\":null},\"id\":\"4276\",\"type\":\"Grid\"},{\"attributes\":{\"callback\":null,\"renderers\":[{\"id\":\"4298\"}],\"tooltips\":[[\"Index\",\"$index\"],[\"Name\",\"@name\"]]},\"id\":\"4321\",\"type\":\"HoverTool\"},{\"attributes\":{},\"id\":\"4278\",\"type\":\"WheelZoomTool\"},{\"attributes\":{\"end\":224.085,\"start\":-11.085},\"id\":\"4261\",\"type\":\"Range1d\"},{\"attributes\":{\"children\":[{\"id\":\"4320\"}]},\"id\":\"4323\",\"type\":\"Row\"},{\"attributes\":{},\"id\":\"4281\",\"type\":\"ResetTool\"}],\"root_ids\":[\"4341\"]},\"title\":\"Bokeh Application\",\"version\":\"2.2.3\"}};\n",
       "  var render_items = [{\"docid\":\"87c97ee5-5f30-4db4-8f23-fbba77d49357\",\"root_ids\":[\"4341\"],\"roots\":{\"4341\":\"a0c9f304-0788-4f90-b09e-03f56f2b9c66\"}}];\n",
       "  root.Bokeh.embed.embed_items_notebook(docs_json, render_items);\n",
       "\n",
       "  }\n",
       "  if (root.Bokeh !== undefined) {\n",
       "    embed_document(root);\n",
       "  } else {\n",
       "    var attempts = 0;\n",
       "    var timer = setInterval(function(root) {\n",
       "      if (root.Bokeh !== undefined) {\n",
       "        clearInterval(timer);\n",
       "        embed_document(root);\n",
       "      } else {\n",
       "        attempts++;\n",
       "        if (attempts > 100) {\n",
       "          clearInterval(timer);\n",
       "          console.log(\"Bokeh: ERROR: Unable to run BokehJS code because BokehJS library is missing\");\n",
       "        }\n",
       "      }\n",
       "    }, 10, root)\n",
       "  }\n",
       "})(window);"
      ],
      "application/vnd.bokehjs_exec.v0+json": ""
     },
     "metadata": {
      "application/vnd.bokehjs_exec.v0+json": {
       "id": "4341"
      }
     },
     "output_type": "display_data"
    }
   ],
   "source": [
    "mst = vl.prims(G,i=0)\n",
    "show(vl.tree_plot(G, tree=mst, i=0, width=900, height=600))"
   ]
  },
  {
   "cell_type": "markdown",
   "metadata": {},
   "source": [
    "**Q21:** Is the edge {3,5} no longer in the tree?\n",
    "\n",
    "**A:** <font color='blue'> Yes.</font>"
   ]
  },
  {
   "cell_type": "markdown",
   "metadata": {},
   "source": [
    "**Q22:** In general, what does this suggest about how the cost of any one “not included” edge must be changed if it is to be included in the minimum spanning tree for the modified data?\n",
    "\n",
    "\n",
    "**A:** <font color='blue'> Consider the edges in the cycle created by adding the \"not included\" edge. The cost of the \"not included\" edge must become as cheap as the cheapest edge in this cycle.</font>"
   ]
  },
  {
   "cell_type": "markdown",
   "metadata": {},
   "source": [
    "**Q23:** Now consider an edge that is in the minimum spanning tree, such as {1, 2}. How must this be changed for this edge to be forced out of the optimal solution? Again, also figure out the general rule for forcing minimum spanning tree edges out of the minimum spanning tree.\n",
    "\n",
    "**A:** <font color='blue'> Its cost must increase to be 19 or greater. In general, remove the edge and consider all the edges the span the disconnected subsets of nodes. The cost of the edge must increase to cost of the next smallest edge for it to be forced out of the MST.</font>"
   ]
  }
 ],
 "metadata": {
  "kernelspec": {
   "display_name": "Python 3",
   "language": "python",
   "name": "python3"
  },
  "language_info": {
   "codemirror_mode": {
    "name": "ipython",
    "version": 3
   },
   "file_extension": ".py",
   "mimetype": "text/x-python",
   "name": "python",
   "nbconvert_exporter": "python",
   "pygments_lexer": "ipython3",
   "version": "3.6.10"
  }
 },
 "nbformat": 4,
 "nbformat_minor": 4
}
