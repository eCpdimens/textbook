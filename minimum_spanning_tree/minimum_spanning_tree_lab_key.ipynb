{
 "cells": [
  {
   "cell_type": "markdown",
   "metadata": {},
   "source": [
    "# The Minimum Spanning Tree Problem"
   ]
  },
  {
   "cell_type": "markdown",
   "metadata": {},
   "source": [
    "**Objectives**\n",
    "\n",
    "- Introduce students to the graph theoretic concept of spanning\n",
    "  trees.\n",
    "- Show three different combinatorial algorithms for solving the\n",
    "  minimum spanning tree problem.\n",
    "- Demonstrate a practical use of minimum spanning trees.\n",
    "\n",
    "**Reading:** Read Handout 4 on the minimum spanning tree problem.\n",
    "\n",
    "**Brief description:** In this lab, we review some of the\n",
    "applications of the minimum spanning tree problem, along with the\n",
    "concept of the spanning tree in an undirected graph (and why these are\n",
    "the desired solutions for the problem), some algorithms for solving\n",
    "the minimal spanning tree (MST) problem, and sensitivity analysis for\n",
    "this problem.\n",
    "\n",
    "<font color='blue'> <b>Solutions are shown blue.</b> </font> <br>\n",
    "<font color='red'> <b>Instuctor comments are shown in red.</b> </font>"
   ]
  },
  {
   "cell_type": "code",
   "execution_count": 70,
   "metadata": {
    "scrolled": true
   },
   "outputs": [
    {
     "data": {
      "text/html": [
       "\n",
       "    <div class=\"bk-root\">\n",
       "        <a href=\"https://bokeh.org\" target=\"_blank\" class=\"bk-logo bk-logo-small bk-logo-notebook\"></a>\n",
       "        <span id=\"24810\">Loading BokehJS ...</span>\n",
       "    </div>"
      ]
     },
     "metadata": {},
     "output_type": "display_data"
    },
    {
     "data": {
      "application/javascript": [
       "\n",
       "(function(root) {\n",
       "  function now() {\n",
       "    return new Date();\n",
       "  }\n",
       "\n",
       "  var force = true;\n",
       "\n",
       "  if (typeof root._bokeh_onload_callbacks === \"undefined\" || force === true) {\n",
       "    root._bokeh_onload_callbacks = [];\n",
       "    root._bokeh_is_loading = undefined;\n",
       "  }\n",
       "\n",
       "  var JS_MIME_TYPE = 'application/javascript';\n",
       "  var HTML_MIME_TYPE = 'text/html';\n",
       "  var EXEC_MIME_TYPE = 'application/vnd.bokehjs_exec.v0+json';\n",
       "  var CLASS_NAME = 'output_bokeh rendered_html';\n",
       "\n",
       "  /**\n",
       "   * Render data to the DOM node\n",
       "   */\n",
       "  function render(props, node) {\n",
       "    var script = document.createElement(\"script\");\n",
       "    node.appendChild(script);\n",
       "  }\n",
       "\n",
       "  /**\n",
       "   * Handle when an output is cleared or removed\n",
       "   */\n",
       "  function handleClearOutput(event, handle) {\n",
       "    var cell = handle.cell;\n",
       "\n",
       "    var id = cell.output_area._bokeh_element_id;\n",
       "    var server_id = cell.output_area._bokeh_server_id;\n",
       "    // Clean up Bokeh references\n",
       "    if (id != null && id in Bokeh.index) {\n",
       "      Bokeh.index[id].model.document.clear();\n",
       "      delete Bokeh.index[id];\n",
       "    }\n",
       "\n",
       "    if (server_id !== undefined) {\n",
       "      // Clean up Bokeh references\n",
       "      var cmd = \"from bokeh.io.state import curstate; print(curstate().uuid_to_server['\" + server_id + \"'].get_sessions()[0].document.roots[0]._id)\";\n",
       "      cell.notebook.kernel.execute(cmd, {\n",
       "        iopub: {\n",
       "          output: function(msg) {\n",
       "            var id = msg.content.text.trim();\n",
       "            if (id in Bokeh.index) {\n",
       "              Bokeh.index[id].model.document.clear();\n",
       "              delete Bokeh.index[id];\n",
       "            }\n",
       "          }\n",
       "        }\n",
       "      });\n",
       "      // Destroy server and session\n",
       "      var cmd = \"import bokeh.io.notebook as ion; ion.destroy_server('\" + server_id + \"')\";\n",
       "      cell.notebook.kernel.execute(cmd);\n",
       "    }\n",
       "  }\n",
       "\n",
       "  /**\n",
       "   * Handle when a new output is added\n",
       "   */\n",
       "  function handleAddOutput(event, handle) {\n",
       "    var output_area = handle.output_area;\n",
       "    var output = handle.output;\n",
       "\n",
       "    // limit handleAddOutput to display_data with EXEC_MIME_TYPE content only\n",
       "    if ((output.output_type != \"display_data\") || (!output.data.hasOwnProperty(EXEC_MIME_TYPE))) {\n",
       "      return\n",
       "    }\n",
       "\n",
       "    var toinsert = output_area.element.find(\".\" + CLASS_NAME.split(' ')[0]);\n",
       "\n",
       "    if (output.metadata[EXEC_MIME_TYPE][\"id\"] !== undefined) {\n",
       "      toinsert[toinsert.length - 1].firstChild.textContent = output.data[JS_MIME_TYPE];\n",
       "      // store reference to embed id on output_area\n",
       "      output_area._bokeh_element_id = output.metadata[EXEC_MIME_TYPE][\"id\"];\n",
       "    }\n",
       "    if (output.metadata[EXEC_MIME_TYPE][\"server_id\"] !== undefined) {\n",
       "      var bk_div = document.createElement(\"div\");\n",
       "      bk_div.innerHTML = output.data[HTML_MIME_TYPE];\n",
       "      var script_attrs = bk_div.children[0].attributes;\n",
       "      for (var i = 0; i < script_attrs.length; i++) {\n",
       "        toinsert[toinsert.length - 1].firstChild.setAttribute(script_attrs[i].name, script_attrs[i].value);\n",
       "        toinsert[toinsert.length - 1].firstChild.textContent = bk_div.children[0].textContent\n",
       "      }\n",
       "      // store reference to server id on output_area\n",
       "      output_area._bokeh_server_id = output.metadata[EXEC_MIME_TYPE][\"server_id\"];\n",
       "    }\n",
       "  }\n",
       "\n",
       "  function register_renderer(events, OutputArea) {\n",
       "\n",
       "    function append_mime(data, metadata, element) {\n",
       "      // create a DOM node to render to\n",
       "      var toinsert = this.create_output_subarea(\n",
       "        metadata,\n",
       "        CLASS_NAME,\n",
       "        EXEC_MIME_TYPE\n",
       "      );\n",
       "      this.keyboard_manager.register_events(toinsert);\n",
       "      // Render to node\n",
       "      var props = {data: data, metadata: metadata[EXEC_MIME_TYPE]};\n",
       "      render(props, toinsert[toinsert.length - 1]);\n",
       "      element.append(toinsert);\n",
       "      return toinsert\n",
       "    }\n",
       "\n",
       "    /* Handle when an output is cleared or removed */\n",
       "    events.on('clear_output.CodeCell', handleClearOutput);\n",
       "    events.on('delete.Cell', handleClearOutput);\n",
       "\n",
       "    /* Handle when a new output is added */\n",
       "    events.on('output_added.OutputArea', handleAddOutput);\n",
       "\n",
       "    /**\n",
       "     * Register the mime type and append_mime function with output_area\n",
       "     */\n",
       "    OutputArea.prototype.register_mime_type(EXEC_MIME_TYPE, append_mime, {\n",
       "      /* Is output safe? */\n",
       "      safe: true,\n",
       "      /* Index of renderer in `output_area.display_order` */\n",
       "      index: 0\n",
       "    });\n",
       "  }\n",
       "\n",
       "  // register the mime type if in Jupyter Notebook environment and previously unregistered\n",
       "  if (root.Jupyter !== undefined) {\n",
       "    var events = require('base/js/events');\n",
       "    var OutputArea = require('notebook/js/outputarea').OutputArea;\n",
       "\n",
       "    if (OutputArea.prototype.mime_types().indexOf(EXEC_MIME_TYPE) == -1) {\n",
       "      register_renderer(events, OutputArea);\n",
       "    }\n",
       "  }\n",
       "\n",
       "  \n",
       "  if (typeof (root._bokeh_timeout) === \"undefined\" || force === true) {\n",
       "    root._bokeh_timeout = Date.now() + 5000;\n",
       "    root._bokeh_failed_load = false;\n",
       "  }\n",
       "\n",
       "  var NB_LOAD_WARNING = {'data': {'text/html':\n",
       "     \"<div style='background-color: #fdd'>\\n\"+\n",
       "     \"<p>\\n\"+\n",
       "     \"BokehJS does not appear to have successfully loaded. If loading BokehJS from CDN, this \\n\"+\n",
       "     \"may be due to a slow or bad network connection. Possible fixes:\\n\"+\n",
       "     \"</p>\\n\"+\n",
       "     \"<ul>\\n\"+\n",
       "     \"<li>re-rerun `output_notebook()` to attempt to load from CDN again, or</li>\\n\"+\n",
       "     \"<li>use INLINE resources instead, as so:</li>\\n\"+\n",
       "     \"</ul>\\n\"+\n",
       "     \"<code>\\n\"+\n",
       "     \"from bokeh.resources import INLINE\\n\"+\n",
       "     \"output_notebook(resources=INLINE)\\n\"+\n",
       "     \"</code>\\n\"+\n",
       "     \"</div>\"}};\n",
       "\n",
       "  function display_loaded() {\n",
       "    var el = document.getElementById(\"24810\");\n",
       "    if (el != null) {\n",
       "      el.textContent = \"BokehJS is loading...\";\n",
       "    }\n",
       "    if (root.Bokeh !== undefined) {\n",
       "      if (el != null) {\n",
       "        el.textContent = \"BokehJS \" + root.Bokeh.version + \" successfully loaded.\";\n",
       "      }\n",
       "    } else if (Date.now() < root._bokeh_timeout) {\n",
       "      setTimeout(display_loaded, 100)\n",
       "    }\n",
       "  }\n",
       "\n",
       "\n",
       "  function run_callbacks() {\n",
       "    try {\n",
       "      root._bokeh_onload_callbacks.forEach(function(callback) {\n",
       "        if (callback != null)\n",
       "          callback();\n",
       "      });\n",
       "    } finally {\n",
       "      delete root._bokeh_onload_callbacks\n",
       "    }\n",
       "    console.debug(\"Bokeh: all callbacks have finished\");\n",
       "  }\n",
       "\n",
       "  function load_libs(css_urls, js_urls, callback) {\n",
       "    if (css_urls == null) css_urls = [];\n",
       "    if (js_urls == null) js_urls = [];\n",
       "\n",
       "    root._bokeh_onload_callbacks.push(callback);\n",
       "    if (root._bokeh_is_loading > 0) {\n",
       "      console.debug(\"Bokeh: BokehJS is being loaded, scheduling callback at\", now());\n",
       "      return null;\n",
       "    }\n",
       "    if (js_urls == null || js_urls.length === 0) {\n",
       "      run_callbacks();\n",
       "      return null;\n",
       "    }\n",
       "    console.debug(\"Bokeh: BokehJS not loaded, scheduling load and callback at\", now());\n",
       "    root._bokeh_is_loading = css_urls.length + js_urls.length;\n",
       "\n",
       "    function on_load() {\n",
       "      root._bokeh_is_loading--;\n",
       "      if (root._bokeh_is_loading === 0) {\n",
       "        console.debug(\"Bokeh: all BokehJS libraries/stylesheets loaded\");\n",
       "        run_callbacks()\n",
       "      }\n",
       "    }\n",
       "\n",
       "    function on_error() {\n",
       "      console.error(\"failed to load \" + url);\n",
       "    }\n",
       "\n",
       "    for (var i = 0; i < css_urls.length; i++) {\n",
       "      var url = css_urls[i];\n",
       "      const element = document.createElement(\"link\");\n",
       "      element.onload = on_load;\n",
       "      element.onerror = on_error;\n",
       "      element.rel = \"stylesheet\";\n",
       "      element.type = \"text/css\";\n",
       "      element.href = url;\n",
       "      console.debug(\"Bokeh: injecting link tag for BokehJS stylesheet: \", url);\n",
       "      document.body.appendChild(element);\n",
       "    }\n",
       "\n",
       "    const hashes = {\"https://cdn.bokeh.org/bokeh/release/bokeh-2.2.3.min.js\": \"T2yuo9Oe71Cz/I4X9Ac5+gpEa5a8PpJCDlqKYO0CfAuEszu1JrXLl8YugMqYe3sM\", \"https://cdn.bokeh.org/bokeh/release/bokeh-widgets-2.2.3.min.js\": \"98GDGJ0kOMCUMUePhksaQ/GYgB3+NH9h996V88sh3aOiUNX3N+fLXAtry6xctSZ6\", \"https://cdn.bokeh.org/bokeh/release/bokeh-tables-2.2.3.min.js\": \"89bArO+nlbP3sgakeHjCo1JYxYR5wufVgA3IbUvDY+K7w4zyxJqssu7wVnfeKCq8\"};\n",
       "\n",
       "    for (var i = 0; i < js_urls.length; i++) {\n",
       "      var url = js_urls[i];\n",
       "      var element = document.createElement('script');\n",
       "      element.onload = on_load;\n",
       "      element.onerror = on_error;\n",
       "      element.async = false;\n",
       "      element.src = url;\n",
       "      if (url in hashes) {\n",
       "        element.crossOrigin = \"anonymous\";\n",
       "        element.integrity = \"sha384-\" + hashes[url];\n",
       "      }\n",
       "      console.debug(\"Bokeh: injecting script tag for BokehJS library: \", url);\n",
       "      document.head.appendChild(element);\n",
       "    }\n",
       "  };\n",
       "\n",
       "  function inject_raw_css(css) {\n",
       "    const element = document.createElement(\"style\");\n",
       "    element.appendChild(document.createTextNode(css));\n",
       "    document.body.appendChild(element);\n",
       "  }\n",
       "\n",
       "  \n",
       "  var js_urls = [\"https://cdn.bokeh.org/bokeh/release/bokeh-2.2.3.min.js\", \"https://cdn.bokeh.org/bokeh/release/bokeh-widgets-2.2.3.min.js\", \"https://cdn.bokeh.org/bokeh/release/bokeh-tables-2.2.3.min.js\"];\n",
       "  var css_urls = [];\n",
       "  \n",
       "\n",
       "  var inline_js = [\n",
       "    function(Bokeh) {\n",
       "      Bokeh.set_log_level(\"info\");\n",
       "    },\n",
       "    function(Bokeh) {\n",
       "    \n",
       "    \n",
       "    }\n",
       "  ];\n",
       "\n",
       "  function run_inline_js() {\n",
       "    \n",
       "    if (root.Bokeh !== undefined || force === true) {\n",
       "      \n",
       "    for (var i = 0; i < inline_js.length; i++) {\n",
       "      inline_js[i].call(root, root.Bokeh);\n",
       "    }\n",
       "    if (force === true) {\n",
       "        display_loaded();\n",
       "      }} else if (Date.now() < root._bokeh_timeout) {\n",
       "      setTimeout(run_inline_js, 100);\n",
       "    } else if (!root._bokeh_failed_load) {\n",
       "      console.log(\"Bokeh: BokehJS failed to load within specified timeout.\");\n",
       "      root._bokeh_failed_load = true;\n",
       "    } else if (force !== true) {\n",
       "      var cell = $(document.getElementById(\"24810\")).parents('.cell').data().cell;\n",
       "      cell.output_area.append_execute_result(NB_LOAD_WARNING)\n",
       "    }\n",
       "\n",
       "  }\n",
       "\n",
       "  if (root._bokeh_is_loading === 0) {\n",
       "    console.debug(\"Bokeh: BokehJS loaded, going straight to plotting\");\n",
       "    run_inline_js();\n",
       "  } else {\n",
       "    load_libs(css_urls, js_urls, function() {\n",
       "      console.debug(\"Bokeh: BokehJS plotting callback run at\", now());\n",
       "      run_inline_js();\n",
       "    });\n",
       "  }\n",
       "}(window));"
      ],
      "application/vnd.bokehjs_load.v0+json": "\n(function(root) {\n  function now() {\n    return new Date();\n  }\n\n  var force = true;\n\n  if (typeof root._bokeh_onload_callbacks === \"undefined\" || force === true) {\n    root._bokeh_onload_callbacks = [];\n    root._bokeh_is_loading = undefined;\n  }\n\n  \n\n  \n  if (typeof (root._bokeh_timeout) === \"undefined\" || force === true) {\n    root._bokeh_timeout = Date.now() + 5000;\n    root._bokeh_failed_load = false;\n  }\n\n  var NB_LOAD_WARNING = {'data': {'text/html':\n     \"<div style='background-color: #fdd'>\\n\"+\n     \"<p>\\n\"+\n     \"BokehJS does not appear to have successfully loaded. If loading BokehJS from CDN, this \\n\"+\n     \"may be due to a slow or bad network connection. Possible fixes:\\n\"+\n     \"</p>\\n\"+\n     \"<ul>\\n\"+\n     \"<li>re-rerun `output_notebook()` to attempt to load from CDN again, or</li>\\n\"+\n     \"<li>use INLINE resources instead, as so:</li>\\n\"+\n     \"</ul>\\n\"+\n     \"<code>\\n\"+\n     \"from bokeh.resources import INLINE\\n\"+\n     \"output_notebook(resources=INLINE)\\n\"+\n     \"</code>\\n\"+\n     \"</div>\"}};\n\n  function display_loaded() {\n    var el = document.getElementById(\"24810\");\n    if (el != null) {\n      el.textContent = \"BokehJS is loading...\";\n    }\n    if (root.Bokeh !== undefined) {\n      if (el != null) {\n        el.textContent = \"BokehJS \" + root.Bokeh.version + \" successfully loaded.\";\n      }\n    } else if (Date.now() < root._bokeh_timeout) {\n      setTimeout(display_loaded, 100)\n    }\n  }\n\n\n  function run_callbacks() {\n    try {\n      root._bokeh_onload_callbacks.forEach(function(callback) {\n        if (callback != null)\n          callback();\n      });\n    } finally {\n      delete root._bokeh_onload_callbacks\n    }\n    console.debug(\"Bokeh: all callbacks have finished\");\n  }\n\n  function load_libs(css_urls, js_urls, callback) {\n    if (css_urls == null) css_urls = [];\n    if (js_urls == null) js_urls = [];\n\n    root._bokeh_onload_callbacks.push(callback);\n    if (root._bokeh_is_loading > 0) {\n      console.debug(\"Bokeh: BokehJS is being loaded, scheduling callback at\", now());\n      return null;\n    }\n    if (js_urls == null || js_urls.length === 0) {\n      run_callbacks();\n      return null;\n    }\n    console.debug(\"Bokeh: BokehJS not loaded, scheduling load and callback at\", now());\n    root._bokeh_is_loading = css_urls.length + js_urls.length;\n\n    function on_load() {\n      root._bokeh_is_loading--;\n      if (root._bokeh_is_loading === 0) {\n        console.debug(\"Bokeh: all BokehJS libraries/stylesheets loaded\");\n        run_callbacks()\n      }\n    }\n\n    function on_error() {\n      console.error(\"failed to load \" + url);\n    }\n\n    for (var i = 0; i < css_urls.length; i++) {\n      var url = css_urls[i];\n      const element = document.createElement(\"link\");\n      element.onload = on_load;\n      element.onerror = on_error;\n      element.rel = \"stylesheet\";\n      element.type = \"text/css\";\n      element.href = url;\n      console.debug(\"Bokeh: injecting link tag for BokehJS stylesheet: \", url);\n      document.body.appendChild(element);\n    }\n\n    const hashes = {\"https://cdn.bokeh.org/bokeh/release/bokeh-2.2.3.min.js\": \"T2yuo9Oe71Cz/I4X9Ac5+gpEa5a8PpJCDlqKYO0CfAuEszu1JrXLl8YugMqYe3sM\", \"https://cdn.bokeh.org/bokeh/release/bokeh-widgets-2.2.3.min.js\": \"98GDGJ0kOMCUMUePhksaQ/GYgB3+NH9h996V88sh3aOiUNX3N+fLXAtry6xctSZ6\", \"https://cdn.bokeh.org/bokeh/release/bokeh-tables-2.2.3.min.js\": \"89bArO+nlbP3sgakeHjCo1JYxYR5wufVgA3IbUvDY+K7w4zyxJqssu7wVnfeKCq8\"};\n\n    for (var i = 0; i < js_urls.length; i++) {\n      var url = js_urls[i];\n      var element = document.createElement('script');\n      element.onload = on_load;\n      element.onerror = on_error;\n      element.async = false;\n      element.src = url;\n      if (url in hashes) {\n        element.crossOrigin = \"anonymous\";\n        element.integrity = \"sha384-\" + hashes[url];\n      }\n      console.debug(\"Bokeh: injecting script tag for BokehJS library: \", url);\n      document.head.appendChild(element);\n    }\n  };\n\n  function inject_raw_css(css) {\n    const element = document.createElement(\"style\");\n    element.appendChild(document.createTextNode(css));\n    document.body.appendChild(element);\n  }\n\n  \n  var js_urls = [\"https://cdn.bokeh.org/bokeh/release/bokeh-2.2.3.min.js\", \"https://cdn.bokeh.org/bokeh/release/bokeh-widgets-2.2.3.min.js\", \"https://cdn.bokeh.org/bokeh/release/bokeh-tables-2.2.3.min.js\"];\n  var css_urls = [];\n  \n\n  var inline_js = [\n    function(Bokeh) {\n      Bokeh.set_log_level(\"info\");\n    },\n    function(Bokeh) {\n    \n    \n    }\n  ];\n\n  function run_inline_js() {\n    \n    if (root.Bokeh !== undefined || force === true) {\n      \n    for (var i = 0; i < inline_js.length; i++) {\n      inline_js[i].call(root, root.Bokeh);\n    }\n    if (force === true) {\n        display_loaded();\n      }} else if (Date.now() < root._bokeh_timeout) {\n      setTimeout(run_inline_js, 100);\n    } else if (!root._bokeh_failed_load) {\n      console.log(\"Bokeh: BokehJS failed to load within specified timeout.\");\n      root._bokeh_failed_load = true;\n    } else if (force !== true) {\n      var cell = $(document.getElementById(\"24810\")).parents('.cell').data().cell;\n      cell.output_area.append_execute_result(NB_LOAD_WARNING)\n    }\n\n  }\n\n  if (root._bokeh_is_loading === 0) {\n    console.debug(\"Bokeh: BokehJS loaded, going straight to plotting\");\n    run_inline_js();\n  } else {\n    load_libs(css_urls, js_urls, function() {\n      console.debug(\"Bokeh: BokehJS plotting callback run at\", now());\n      run_inline_js();\n    });\n  }\n}(window));"
     },
     "metadata": {},
     "output_type": "display_data"
    }
   ],
   "source": [
    "# Imports -- don't forget to run this cell!\n",
    "import networkx as nx\n",
    "import vinal as vl\n",
    "import pandas as pd\n",
    "import pickle\n",
    "from bokeh.io import output_notebook, show\n",
    "output_notebook()"
   ]
  },
  {
   "cell_type": "markdown",
   "metadata": {},
   "source": [
    "## Part I: An Application: Communication Network Design\n",
    "\n",
    "You are the engineer in charge of designing a new high speed fiber optic Internet network between several Operations Research departments throughout the U.S.. Your objective is to design a system that connects various campuses. However, so that this network can be brought online quickly, we must install the fiber optic line within existing physical infrastructure. The possible physical cable routes between cities and the cost of installing the fiber optic cable (in millions of dollars) are given in two CSV files."
   ]
  },
  {
   "cell_type": "code",
   "execution_count": 27,
   "metadata": {},
   "outputs": [
    {
     "data": {
      "text/html": [
       "\n",
       "\n",
       "\n",
       "\n",
       "\n",
       "\n",
       "  <div class=\"bk-root\" id=\"4ac56857-c202-42fc-96c0-361833682973\" data-root-id=\"4756\"></div>\n"
      ]
     },
     "metadata": {},
     "output_type": "display_data"
    },
    {
     "data": {
      "application/javascript": [
       "(function(root) {\n",
       "  function embed_document(root) {\n",
       "    \n",
       "  var docs_json = {\"f98877d6-46fc-4920-8aa1-479d740b957c\":{\"roots\":{\"references\":[{\"attributes\":{\"children\":[[{\"id\":\"4680\"},0,0],[{\"id\":\"4740\"},1,0]]},\"id\":\"4756\",\"type\":\"GridBox\"},{\"attributes\":{\"end\":122.2,\"start\":-18.200000000000003},\"id\":\"4685\",\"type\":\"Range1d\"},{\"attributes\":{},\"id\":\"4748\",\"type\":\"UnionRenderers\"},{\"attributes\":{},\"id\":\"4753\",\"type\":\"Selection\"},{\"attributes\":{\"line_color\":{\"value\":\"white\"},\"line_width\":{\"value\":6},\"xs\":{\"field\":\"xs\"},\"ys\":{\"field\":\"ys\"}},\"id\":\"4730\",\"type\":\"MultiLine\"},{\"attributes\":{},\"id\":\"4750\",\"type\":\"UnionRenderers\"},{\"attributes\":{\"align\":\"center\",\"width\":300},\"id\":\"4737\",\"type\":\"Div\"},{\"attributes\":{},\"id\":\"4754\",\"type\":\"UnionRenderers\"},{\"attributes\":{\"children\":[{\"id\":\"4737\"}]},\"id\":\"4740\",\"type\":\"Row\"},{\"attributes\":{},\"id\":\"4702\",\"type\":\"SaveTool\"},{\"attributes\":{\"data\":{\"text\":[4,24,12,19,20,8,10,6,10,25,14,18,18,14,4,8,8,12,14,3,3,1,2,4,6,2,6,4],\"x\":{\"__ndarray__\":\"AgAAAAAAKkAAAAAAAKBQQAEAAAAAAEdAAgAAAABgUkACAAAAAOBYQP//////v2FAAAAAAAAQYkAAAAAAAPBgQAAAAAAA4FZAAAAAAACgXED//////w9jQAAAAAAAEGJAAAAAAADAYEAAAAAAAPBkQAAAAAAAIGRAAAAAAADwY0AAAAAAANBiQAEAAAAAQGdAAAAAAACQZ0AAAAAAAEBpQAAAAAAAQGhAAQAAAADAaUAAAAAAADBpQP//////L2hAAAAAAAAgZkABAAAAAFBpQAAAAAAAsGZAAAAAAAAgY0A=\",\"dtype\":\"float64\",\"order\":\"little\",\"shape\":[28]},\"y\":{\"__ndarray__\":\"AAAAAABAUED///////9UQAAAAAAAgEZA//////9/U0AAAAAAAABQQAEAAAAAoFZAAAAAAAAgWkAAAAAAACBaQAAAAAAAACdAAAAAAADATED+//////8fwAAAAAAAAC5AAAAAAAAAQ0ACAAAAAIBOQAEAAAAAoFZAAQAAAACAWEABAAAAAIBYQAAAAAAAAC5AAAAAAAAAT0AAAAAAAMBWQAAAAAAAYFZAAAAAAABAWUABAAAAAOBYQAEAAAAAgFhAAQAAAADAV0AAAAAAACBaQAAAAAAAAFlAAQAAAAAAXEA=\",\"dtype\":\"float64\",\"order\":\"little\",\"shape\":[28]}},\"selected\":{\"id\":\"4747\"},\"selection_policy\":{\"id\":\"4748\"}},\"id\":\"4734\",\"type\":\"ColumnDataSource\"},{\"attributes\":{\"line_cap\":\"round\",\"line_color\":{\"field\":\"line_color\"},\"line_width\":{\"value\":5},\"xs\":{\"field\":\"xs\"},\"ys\":{\"field\":\"ys\"}},\"id\":\"4725\",\"type\":\"MultiLine\"},{\"attributes\":{},\"id\":\"4749\",\"type\":\"Selection\"},{\"attributes\":{},\"id\":\"4743\",\"type\":\"BasicTickFormatter\"},{\"attributes\":{\"line_cap\":\"round\",\"line_color\":{\"field\":\"line_color\"},\"line_width\":{\"value\":5},\"xs\":{\"field\":\"xs\"},\"ys\":{\"field\":\"ys\"}},\"id\":\"4724\",\"type\":\"MultiLine\"},{\"attributes\":{\"data_source\":{\"id\":\"4722\"},\"glyph\":{\"id\":\"4724\"},\"hover_glyph\":{\"id\":\"4726\"},\"level\":\"underlay\",\"muted_glyph\":null,\"nonselection_glyph\":{\"id\":\"4725\"},\"selection_glyph\":null,\"view\":{\"id\":\"4728\"}},\"id\":\"4727\",\"type\":\"GlyphRenderer\"},{\"attributes\":{\"overlay\":{\"id\":\"4705\"}},\"id\":\"4701\",\"type\":\"BoxZoomTool\"},{\"attributes\":{\"callback\":null,\"renderers\":[{\"id\":\"4720\"}],\"tooltips\":[[\"Index\",\"$index\"],[\"Name\",\"@name\"]]},\"id\":\"4738\",\"type\":\"HoverTool\"},{\"attributes\":{\"source\":{\"id\":\"4716\"}},\"id\":\"4721\",\"type\":\"CDSView\"},{\"attributes\":{},\"id\":\"4752\",\"type\":\"UnionRenderers\"},{\"attributes\":{\"end\":224.085,\"start\":-11.085},\"id\":\"4683\",\"type\":\"Range1d\"},{\"attributes\":{},\"id\":\"4689\",\"type\":\"LinearScale\"},{\"attributes\":{\"background_fill_color\":null,\"below\":[{\"id\":\"4691\"}],\"border_fill_color\":null,\"center\":[{\"id\":\"4694\"},{\"id\":\"4698\"},{\"id\":\"4735\"}],\"left\":[{\"id\":\"4695\"}],\"outline_line_color\":null,\"plot_height\":400,\"renderers\":[{\"id\":\"4720\"},{\"id\":\"4727\"},{\"id\":\"4732\"}],\"title\":{\"id\":\"4681\"},\"toolbar\":{\"id\":\"4706\"},\"toolbar_location\":null,\"x_range\":{\"id\":\"4683\"},\"x_scale\":{\"id\":\"4687\"},\"y_range\":{\"id\":\"4685\"},\"y_scale\":{\"id\":\"4689\"}},\"id\":\"4680\",\"subtype\":\"Figure\",\"type\":\"Plot\"},{\"attributes\":{\"data\":{\"line_color\":[\"#DFDFDF\",\"#DFDFDF\",\"#DFDFDF\",\"#DFDFDF\",\"#DFDFDF\",\"#DFDFDF\",\"#DFDFDF\",\"#DFDFDF\",\"#DFDFDF\",\"#DFDFDF\",\"#DFDFDF\",\"#DFDFDF\",\"#DFDFDF\",\"#DFDFDF\",\"#DFDFDF\",\"#DFDFDF\",\"#DFDFDF\",\"#DFDFDF\",\"#DFDFDF\",\"#DFDFDF\",\"#DFDFDF\",\"#DFDFDF\",\"#DFDFDF\",\"#DFDFDF\",\"#DFDFDF\",\"#DFDFDF\",\"#DFDFDF\",\"#DFDFDF\"],\"u\":[0,0,1,1,14,14,14,14,2,2,3,3,3,11,11,11,11,4,5,6,6,7,7,15,15,8,9,12],\"v\":[1,14,2,14,2,11,12,13,3,11,4,5,11,5,10,12,13,5,6,7,15,8,9,9,10,9,10,13],\"weight\":[4,24,12,19,20,8,10,6,10,25,14,18,18,14,4,8,8,12,14,3,3,1,2,4,6,2,6,4],\"xs\":[[6,20],[6,127],[20,72],[20,127],[127,72],[127,157],[127,162],[127,144],[72,111],[72,157],[111,194],[111,178],[111,157],[157,178],[157,165],[157,162],[157,144],[194,178],[178,199],[199,205],[199,189],[205,207],[205,198],[189,198],[189,165],[207,198],[198,165],[162,144]],\"ys\":[[71,59],[71,97],[59,31],[59,97],[97,31],[97,84],[97,112],[97,112],[31,-8],[31,84],[-8,-8],[-8,38],[-8,84],[84,38],[84,97],[84,112],[84,112],[-8,38],[38,86],[86,96],[86,93],[96,106],[96,103],[93,103],[93,97],[106,103],[103,97],[112,112]]},\"selected\":{\"id\":\"4751\"},\"selection_policy\":{\"id\":\"4752\"}},\"id\":\"4722\",\"type\":\"ColumnDataSource\"},{\"attributes\":{\"source\":{\"id\":\"4722\"}},\"id\":\"4728\",\"type\":\"CDSView\"},{\"attributes\":{\"formatter\":{\"id\":\"4745\"},\"ticker\":{\"id\":\"4692\"},\"visible\":false},\"id\":\"4691\",\"type\":\"LinearAxis\"},{\"attributes\":{},\"id\":\"4747\",\"type\":\"Selection\"},{\"attributes\":{\"axis\":{\"id\":\"4695\"},\"dimension\":1,\"grid_line_color\":null,\"ticker\":null},\"id\":\"4698\",\"type\":\"Grid\"},{\"attributes\":{\"active_drag\":null,\"active_inspect\":\"auto\",\"active_multi\":null,\"active_scroll\":null,\"active_tap\":\"auto\",\"logo\":null,\"tools\":[{\"id\":\"4699\"},{\"id\":\"4700\"},{\"id\":\"4701\"},{\"id\":\"4702\"},{\"id\":\"4703\"},{\"id\":\"4704\"},{\"id\":\"4738\"}]},\"id\":\"4706\",\"type\":\"Toolbar\"},{\"attributes\":{\"formatter\":{\"id\":\"4743\"},\"ticker\":{\"id\":\"4696\"},\"visible\":false},\"id\":\"4695\",\"type\":\"LinearAxis\"},{\"attributes\":{},\"id\":\"4696\",\"type\":\"BasicTicker\"},{\"attributes\":{\"data\":{\"fill_color\":[\"#5e92f3\",\"#5e92f3\",\"#5e92f3\",\"#5e92f3\",\"#5e92f3\",\"#5e92f3\",\"#5e92f3\",\"#5e92f3\",\"#5e92f3\",\"#5e92f3\",\"#5e92f3\",\"#5e92f3\",\"#5e92f3\",\"#5e92f3\",\"#5e92f3\",\"#5e92f3\"],\"line_color\":[\"#003c8f\",\"#003c8f\",\"#003c8f\",\"#003c8f\",\"#003c8f\",\"#003c8f\",\"#003c8f\",\"#003c8f\",\"#003c8f\",\"#003c8f\",\"#003c8f\",\"#003c8f\",\"#003c8f\",\"#003c8f\",\"#003c8f\",\"#003c8f\"],\"line_width\":[3,3,3,3,3,3,3,3,3,3,3,3,3,3,3,3],\"x\":[6,20,72,111,194,178,199,205,207,198,165,157,162,144,127,189],\"y\":[71,59,31,-8,-8,38,86,96,106,103,97,84,112,112,97,93]},\"selected\":{\"id\":\"4749\"},\"selection_policy\":{\"id\":\"4750\"}},\"id\":\"4716\",\"type\":\"ColumnDataSource\"},{\"attributes\":{\"data_source\":{\"id\":\"4716\"},\"glyph\":{\"id\":\"4718\"},\"hover_glyph\":null,\"muted_glyph\":null,\"nonselection_glyph\":{\"id\":\"4719\"},\"selection_glyph\":null,\"view\":{\"id\":\"4721\"}},\"id\":\"4720\",\"type\":\"GlyphRenderer\"},{\"attributes\":{\"data\":{\"xs\":[[11.301090324745442,14.698909675254566],[63.069812290021225,69.93018770997878],[42.976862092036946,49.02313790796307],[70.22089160863857,76.77910839136149],[101.60977267069882,97.39022732930124],[139.8831103628236,144.11688963717637],[141.31806115805978,147.68193884194022],[133.82482514008294,137.17517485991706],[89.14670153841959,93.85329846158044],[111.6050606932186,117.3949393067814],[148.97244999999998,156.02755],[141.7005138802247,147.2994861197753],[132.55841471316512,135.44158528683488],[166.16509629035858,168.83490370964145],[159.86494734502958,162.13505265497042],[159.128646851194,159.87135314880598],[151.4028559428779,149.5971440571221],[187.04906838665292,184.9509316133471],[187.21317691926478,189.78682308073522],[200.88690370215798,203.11309629784205],[195.85282232314876,192.14717767685121],[205.58539740586426,206.41460259413577],[203.06886564105358,199.9311343589464],[192.02424879142615,194.9757512085738],[179.31200007568697,174.68799992431306],[204.7039715447302,200.29602845526986],[183.80467874454894,179.19532125545106],[155.3517,150.6483]],\"ys\":[[66.45620829307533,63.543791706924665],[83.26293487223596,84.73706512776401],[46.62784348890318,43.372156511096804],[76.83545683297443,79.16454316702556],[66.53172720483855,61.46827279516147],[91.41731884277647,89.58268115722356],[103.13631192488276,105.86368807511724],[103.0219045353673,105.9780954646327],[13.85329846158043,9.146701538419578],[55.694920196948075,59.305079803051925],[-7.999999999999998,-7.999999999999998],[13.077964753587104,16.92203524641289],[35.11682942633026,40.883170573669744],[63.92407479254794,58.07592520745206],[88.65553943567308,92.34446056432695],[95.92042236668642,100.07957763331359],[96.05538719995533,99.9446128000447],[11.98392838837291,18.016071611627098],[59.05869010117662,64.94130989882336],[89.14483950359659,92.85516049640341],[88.20302437379587,90.79697562620413],[98.9269870293212,103.07301297067883],[97.93113435894641,101.0688656410536],[96.360276434918,99.63972356508202],[94.6146666540522,95.38533334594783],[105.23465718157672,103.76534281842328],[100.41903249900889,99.58096750099111],[112.00000000000001,112.00000000000001]]},\"selected\":{\"id\":\"4753\"},\"selection_policy\":{\"id\":\"4754\"}},\"id\":\"4729\",\"type\":\"ColumnDataSource\"},{\"attributes\":{\"fill_color\":{\"field\":\"fill_color\"},\"line_color\":{\"field\":\"line_color\"},\"line_width\":{\"field\":\"line_width\"},\"size\":{\"units\":\"screen\",\"value\":11},\"x\":{\"field\":\"x\"},\"y\":{\"field\":\"y\"}},\"id\":\"4718\",\"type\":\"Circle\"},{\"attributes\":{},\"id\":\"4692\",\"type\":\"BasicTicker\"},{\"attributes\":{},\"id\":\"4745\",\"type\":\"BasicTickFormatter\"},{\"attributes\":{\"text\":\"\"},\"id\":\"4681\",\"type\":\"Title\"},{\"attributes\":{\"axis\":{\"id\":\"4691\"},\"grid_line_color\":null,\"ticker\":null},\"id\":\"4694\",\"type\":\"Grid\"},{\"attributes\":{},\"id\":\"4700\",\"type\":\"WheelZoomTool\"},{\"attributes\":{\"fill_color\":{\"field\":\"fill_color\"},\"line_color\":{\"field\":\"line_color\"},\"line_width\":{\"field\":\"line_width\"},\"size\":{\"units\":\"screen\",\"value\":11},\"x\":{\"field\":\"x\"},\"y\":{\"field\":\"y\"}},\"id\":\"4719\",\"type\":\"Circle\"},{\"attributes\":{\"line_cap\":\"round\",\"line_color\":{\"value\":\"#404040\"},\"line_width\":{\"value\":5},\"xs\":{\"field\":\"xs\"},\"ys\":{\"field\":\"ys\"}},\"id\":\"4726\",\"type\":\"MultiLine\"},{\"attributes\":{},\"id\":\"4699\",\"type\":\"PanTool\"},{\"attributes\":{\"source\":{\"id\":\"4729\"}},\"id\":\"4733\",\"type\":\"CDSView\"},{\"attributes\":{\"source\":{\"id\":\"4734\"},\"text_align\":\"center\",\"text_baseline\":\"middle\",\"text_color\":{\"value\":\"black\"},\"text_font_size\":{\"value\":\"13px\"},\"x\":{\"field\":\"x\"},\"y\":{\"field\":\"y\"}},\"id\":\"4735\",\"type\":\"LabelSet\"},{\"attributes\":{},\"id\":\"4687\",\"type\":\"LinearScale\"},{\"attributes\":{},\"id\":\"4751\",\"type\":\"Selection\"},{\"attributes\":{\"bottom_units\":\"screen\",\"fill_alpha\":0.5,\"fill_color\":\"lightgrey\",\"left_units\":\"screen\",\"level\":\"overlay\",\"line_alpha\":1.0,\"line_color\":\"black\",\"line_dash\":[4,4],\"line_width\":2,\"right_units\":\"screen\",\"top_units\":\"screen\"},\"id\":\"4705\",\"type\":\"BoxAnnotation\"},{\"attributes\":{\"line_color\":{\"value\":\"white\"},\"line_width\":{\"value\":6},\"xs\":{\"field\":\"xs\"},\"ys\":{\"field\":\"ys\"}},\"id\":\"4731\",\"type\":\"MultiLine\"},{\"attributes\":{},\"id\":\"4704\",\"type\":\"HelpTool\"},{\"attributes\":{},\"id\":\"4703\",\"type\":\"ResetTool\"},{\"attributes\":{\"data_source\":{\"id\":\"4729\"},\"glyph\":{\"id\":\"4730\"},\"hover_glyph\":null,\"level\":\"guide\",\"muted_glyph\":null,\"nonselection_glyph\":{\"id\":\"4731\"},\"selection_glyph\":null,\"view\":{\"id\":\"4733\"}},\"id\":\"4732\",\"type\":\"GlyphRenderer\"}],\"root_ids\":[\"4756\"]},\"title\":\"Bokeh Application\",\"version\":\"2.2.3\"}};\n",
       "  var render_items = [{\"docid\":\"f98877d6-46fc-4920-8aa1-479d740b957c\",\"root_ids\":[\"4756\"],\"roots\":{\"4756\":\"4ac56857-c202-42fc-96c0-361833682973\"}}];\n",
       "  root.Bokeh.embed.embed_items_notebook(docs_json, render_items);\n",
       "\n",
       "  }\n",
       "  if (root.Bokeh !== undefined) {\n",
       "    embed_document(root);\n",
       "  } else {\n",
       "    var attempts = 0;\n",
       "    var timer = setInterval(function(root) {\n",
       "      if (root.Bokeh !== undefined) {\n",
       "        clearInterval(timer);\n",
       "        embed_document(root);\n",
       "      } else {\n",
       "        attempts++;\n",
       "        if (attempts > 100) {\n",
       "          clearInterval(timer);\n",
       "          console.log(\"Bokeh: ERROR: Unable to run BokehJS code because BokehJS library is missing\");\n",
       "        }\n",
       "      }\n",
       "    }, 10, root)\n",
       "  }\n",
       "})(window);"
      ],
      "application/vnd.bokehjs_exec.v0+json": ""
     },
     "metadata": {
      "application/vnd.bokehjs_exec.v0+json": {
       "id": "4756"
      }
     },
     "output_type": "display_data"
    }
   ],
   "source": [
    "# Load the data and create a graph G\n",
    "nodes = pd.read_csv('data/fiber_optic_nodes.csv', index_col=0)\n",
    "edges = pd.read_csv('data/fiber_optic_edges.csv', index_col=0)\n",
    "G = vl.create_network(nodes, edges)\n",
    "\n",
    "# Plot the graph G\n",
    "show(vl.tree_plot(G, tree=[], width=600))"
   ]
  },
  {
   "cell_type": "markdown",
   "metadata": {},
   "source": [
    "How do you suppose you would go about designing such a system? Since you can only use the edges shown in the graph, you must choose a subgraph of the given graph, or in other words, a subset of the possible edges. Every location must be serviced which means that the subgraph must be spanning. You should be able to get to any location from any other location. This means the subgraph should be connected. Because you are trying to minimize cost, the subgraph should also be minimal, meaning that you cannot remove any of the edges while maintaining the other necessary properties. A minimal connected spanning subgraph is called a spanning tree. There are many other ways of defining trees. In operations research terminology, we want to find a minimum spanning tree of the given graph."
   ]
  },
  {
   "cell_type": "code",
   "execution_count": 3,
   "metadata": {},
   "outputs": [
    {
     "data": {
      "text/html": [
       "\n",
       "\n",
       "\n",
       "\n",
       "\n",
       "\n",
       "  <div class=\"bk-root\" id=\"09ebba1a-b819-4335-a30d-fbdcd2fa137d\" data-root-id=\"1246\"></div>\n"
      ]
     },
     "metadata": {},
     "output_type": "display_data"
    },
    {
     "data": {
      "application/javascript": [
       "(function(root) {\n",
       "  function embed_document(root) {\n",
       "    \n",
       "  var docs_json = {\"2fab59db-c2c7-412e-9085-0b689fa853bf\":{\"roots\":{\"references\":[{\"attributes\":{\"children\":[[{\"id\":\"1163\"},0,0],[{\"id\":\"1228\"},1,0]]},\"id\":\"1246\",\"type\":\"GridBox\"},{\"attributes\":{\"fill_color\":{\"field\":\"fill_color\"},\"line_color\":{\"field\":\"line_color\"},\"line_width\":{\"field\":\"line_width\"},\"size\":{\"units\":\"screen\",\"value\":11},\"x\":{\"field\":\"x\"},\"y\":{\"field\":\"y\"}},\"id\":\"1202\",\"type\":\"Circle\"},{\"attributes\":{},\"id\":\"1186\",\"type\":\"ResetTool\"},{\"attributes\":{},\"id\":\"1239\",\"type\":\"Selection\"},{\"attributes\":{\"active_drag\":null,\"active_inspect\":\"auto\",\"active_multi\":null,\"active_scroll\":null,\"active_tap\":\"auto\",\"logo\":null,\"tools\":[{\"id\":\"1182\"},{\"id\":\"1183\"},{\"id\":\"1184\"},{\"id\":\"1185\"},{\"id\":\"1186\"},{\"id\":\"1187\"},{\"id\":\"1226\"}]},\"id\":\"1189\",\"type\":\"Toolbar\"},{\"attributes\":{},\"id\":\"1187\",\"type\":\"HelpTool\"},{\"attributes\":{\"data_source\":{\"id\":\"1199\"},\"glyph\":{\"id\":\"1201\"},\"hover_glyph\":null,\"muted_glyph\":null,\"nonselection_glyph\":{\"id\":\"1202\"},\"selection_glyph\":null,\"view\":{\"id\":\"1204\"}},\"id\":\"1203\",\"type\":\"GlyphRenderer\"},{\"attributes\":{},\"id\":\"1183\",\"type\":\"WheelZoomTool\"},{\"attributes\":{},\"id\":\"1241\",\"type\":\"Selection\"},{\"attributes\":{\"text\":\"\"},\"id\":\"1164\",\"type\":\"Title\"},{\"attributes\":{\"data\":{\"xs\":[[11.867393549830293,14.1326064501697],[64.2132081933475,68.78679180665253],[43.98457472802465,48.01542527197538],[71.31392773909235,75.68607226090765],[100.9065151137992,98.09348488620083],[140.5887402418824,143.4112597581176],[142.37870743870653,146.62129256129347],[134.3832167600553,136.6167832399447],[89.9311343589464,93.06886564105363],[112.57004046214576,116.42995953785424],[150.1483,154.85170000000002],[142.6336759201498,146.3663240798502],[133.03894314211007,134.96105685788993],[166.61006419357236,168.38993580642764],[160.24329823001975,161.75670176998028],[159.25243123412935,159.74756876587068],[151.1019039619186,149.89809603808138],[186.69937892443528,185.30062107556475],[187.6421179461765,189.35788205382346],[201.25793580143863,202.74206419856134],[195.23521488209917,192.7647851179008],[205.72359827057616,206.2764017294238],[202.54591042736908,200.45408957263095],[192.51616586095076,194.4838341390492],[178.54133338379128,175.4586666162087],[203.96931436315347,201.03068563684658],[183.03645249636594,179.96354750363403],[154.5678,151.4322]],\"ys\":[[65.9708055287169,64.02919447128312],[83.50862324815732,84.4913767518427],[46.085228992602126,43.914771007397874],[77.22363788864963,78.77636211135038],[65.68781813655903,62.31218186344098],[91.11154589518429,89.88845410481571],[103.59087461658854,105.40912538341149],[103.51460302357822,105.48539697642181],[13.06886564105362,9.93113435894638],[56.296613464632046,58.703386535367954],[-7.999999999999998,-7.999999999999998],[13.718643169058069,16.281356830941924],[36.07788628422017,39.922113715779815],[62.949383195031956,59.05061680496806],[89.27035962378204,91.72964037621796],[96.61361491112429,99.38638508887571],[96.70359146663688,99.29640853336312],[12.989285592248606,17.010714407751394],[60.03912673411776,63.960873265882256],[89.76322633573106,92.23677366426892],[88.63534958253058,90.36465041746942],[99.61799135288078,102.38200864711922],[98.45408957263092,100.54591042736905],[96.90685095661199,99.09314904338801],[94.74311110270146,95.25688889729855],[104.98977145438448,104.01022854561555],[100.27935499933926,99.72064500066074],[112.00000000000001,112.00000000000001]]},\"selected\":{\"id\":\"1239\"},\"selection_policy\":{\"id\":\"1238\"}},\"id\":\"1212\",\"type\":\"ColumnDataSource\"},{\"attributes\":{},\"id\":\"1182\",\"type\":\"PanTool\"},{\"attributes\":{\"callback\":null,\"renderers\":[{\"id\":\"1203\"}],\"tooltips\":[[\"Index\",\"$index\"],[\"Name\",\"@name\"]]},\"id\":\"1226\",\"type\":\"HoverTool\"},{\"attributes\":{},\"id\":\"1240\",\"type\":\"UnionRenderers\"},{\"attributes\":{\"end\":122.2,\"start\":-18.200000000000003},\"id\":\"1168\",\"type\":\"Range1d\"},{\"attributes\":{\"source\":{\"id\":\"1199\"}},\"id\":\"1204\",\"type\":\"CDSView\"},{\"attributes\":{\"source\":{\"id\":\"1205\"}},\"id\":\"1211\",\"type\":\"CDSView\"},{\"attributes\":{\"line_color\":{\"value\":\"white\"},\"line_width\":{\"value\":6},\"xs\":{\"field\":\"xs\"},\"ys\":{\"field\":\"ys\"}},\"id\":\"1214\",\"type\":\"MultiLine\"},{\"attributes\":{\"line_cap\":\"round\",\"line_color\":{\"value\":\"#404040\"},\"line_width\":{\"value\":5},\"xs\":{\"field\":\"xs\"},\"ys\":{\"field\":\"ys\"}},\"id\":\"1221\",\"type\":\"MultiLine\"},{\"attributes\":{\"line_color\":{\"value\":\"white\"},\"line_width\":{\"value\":6},\"xs\":{\"field\":\"xs\"},\"ys\":{\"field\":\"ys\"}},\"id\":\"1213\",\"type\":\"MultiLine\"},{\"attributes\":{\"data_source\":{\"id\":\"1220\"},\"glyph\":{\"id\":\"1221\"},\"hover_glyph\":null,\"level\":\"underlay\",\"muted_glyph\":null,\"nonselection_glyph\":{\"id\":\"1222\"},\"selection_glyph\":null,\"view\":{\"id\":\"1224\"}},\"id\":\"1223\",\"type\":\"GlyphRenderer\"},{\"attributes\":{\"data\":{\"text\":[4,24,12,19,20,8,10,6,10,25,14,18,18,14,4,8,8,12,14,3,3,1,2,4,6,2,6,4],\"x\":{\"__ndarray__\":\"/v//////KUAAAAAAAKBQQAEAAAAAAEdAAAAAAABgUkAAAAAAAOBYQAAAAAAAwGFAAAAAAAAQYkAAAAAAAPBgQAAAAAAA4FZAAAAAAACgXEABAAAAABBjQAAAAAAAEGJAAAAAAADAYEAAAAAAAPBkQAAAAAAAIGRAAAAAAADwY0D//////89iQAAAAAAAQGdAAAAAAACQZ0D//////z9pQAAAAAAAQGhAAAAAAADAaUAAAAAAADBpQAAAAAAAMGhA//////8fZkABAAAAAFBpQAAAAAAAsGZAAAAAAAAgY0A=\",\"dtype\":\"float64\",\"order\":\"little\",\"shape\":[28]},\"y\":{\"__ndarray__\":\"AAAAAABAUEAAAAAAAABVQAAAAAAAgEZAAAAAAACAU0AAAAAAAABQQAAAAAAAoFZAAAAAAAAgWkAAAAAAACBaQAAAAAAAACdAAAAAAADATED+//////8fwAAAAAAAAC5AAAAAAAAAQ0ACAAAAAIBOQAAAAAAAoFZAAAAAAACAWEAAAAAAAIBYQAAAAAAAAC5AAgAAAAAAT0AAAAAAAMBWQAAAAAAAYFZAAAAAAABAWUD//////99YQAAAAAAAgFhAAAAAAADAV0AAAAAAACBaQAAAAAAAAFlAAQAAAAAAXEA=\",\"dtype\":\"float64\",\"order\":\"little\",\"shape\":[28]}},\"selected\":{\"id\":\"1243\"},\"selection_policy\":{\"id\":\"1242\"}},\"id\":\"1217\",\"type\":\"ColumnDataSource\"},{\"attributes\":{\"data_source\":{\"id\":\"1212\"},\"glyph\":{\"id\":\"1213\"},\"hover_glyph\":null,\"level\":\"guide\",\"muted_glyph\":null,\"nonselection_glyph\":{\"id\":\"1214\"},\"selection_glyph\":null,\"view\":{\"id\":\"1216\"}},\"id\":\"1215\",\"type\":\"GlyphRenderer\"},{\"attributes\":{\"align\":\"center\",\"text\":\"137.0\",\"width\":450},\"id\":\"1225\",\"type\":\"Div\"},{\"attributes\":{\"data\":{\"xs\":[[6,127],[6,20],[20,72],[72,111],[111,178],[194,178],[157,178],[178,199],[199,189],[198,165],[205,198],[205,207],[199,205],[127,162],[162,144]],\"ys\":[[71,97],[71,59],[59,31],[31,-8],[-8,38],[-8,38],[84,38],[38,86],[86,93],[103,97],[96,103],[96,106],[86,96],[97,112],[112,112]]},\"selected\":{\"id\":\"1241\"},\"selection_policy\":{\"id\":\"1240\"}},\"id\":\"1220\",\"type\":\"ColumnDataSource\"},{\"attributes\":{},\"id\":\"1185\",\"type\":\"SaveTool\"},{\"attributes\":{\"source\":{\"id\":\"1217\"},\"text_align\":\"center\",\"text_baseline\":\"middle\",\"text_color\":{\"value\":\"black\"},\"text_font_size\":{\"value\":\"13px\"},\"x\":{\"field\":\"x\"},\"y\":{\"field\":\"y\"}},\"id\":\"1218\",\"type\":\"LabelSet\"},{\"attributes\":{\"line_cap\":\"round\",\"line_color\":{\"field\":\"line_color\"},\"line_width\":{\"value\":5},\"xs\":{\"field\":\"xs\"},\"ys\":{\"field\":\"ys\"}},\"id\":\"1208\",\"type\":\"MultiLine\"},{\"attributes\":{\"source\":{\"id\":\"1220\"}},\"id\":\"1224\",\"type\":\"CDSView\"},{\"attributes\":{\"line_alpha\":{\"value\":0.1},\"line_cap\":\"round\",\"line_color\":{\"value\":\"#404040\"},\"line_width\":{\"value\":5},\"xs\":{\"field\":\"xs\"},\"ys\":{\"field\":\"ys\"}},\"id\":\"1222\",\"type\":\"MultiLine\"},{\"attributes\":{\"formatter\":{\"id\":\"1232\"},\"ticker\":{\"id\":\"1179\"},\"visible\":false},\"id\":\"1178\",\"type\":\"LinearAxis\"},{\"attributes\":{\"source\":{\"id\":\"1212\"}},\"id\":\"1216\",\"type\":\"CDSView\"},{\"attributes\":{\"overlay\":{\"id\":\"1188\"}},\"id\":\"1184\",\"type\":\"BoxZoomTool\"},{\"attributes\":{\"children\":[{\"id\":\"1225\"}]},\"id\":\"1228\",\"type\":\"Row\"},{\"attributes\":{\"axis\":{\"id\":\"1174\"},\"grid_line_color\":null,\"ticker\":null},\"id\":\"1177\",\"type\":\"Grid\"},{\"attributes\":{},\"id\":\"1236\",\"type\":\"UnionRenderers\"},{\"attributes\":{\"background_fill_color\":null,\"below\":[{\"id\":\"1174\"}],\"border_fill_color\":null,\"center\":[{\"id\":\"1177\"},{\"id\":\"1181\"},{\"id\":\"1218\"}],\"left\":[{\"id\":\"1178\"}],\"outline_line_color\":null,\"plot_width\":900,\"renderers\":[{\"id\":\"1203\"},{\"id\":\"1210\"},{\"id\":\"1215\"},{\"id\":\"1223\"}],\"title\":{\"id\":\"1164\"},\"toolbar\":{\"id\":\"1189\"},\"toolbar_location\":null,\"x_range\":{\"id\":\"1166\"},\"x_scale\":{\"id\":\"1170\"},\"y_range\":{\"id\":\"1168\"},\"y_scale\":{\"id\":\"1172\"}},\"id\":\"1163\",\"subtype\":\"Figure\",\"type\":\"Plot\"},{\"attributes\":{},\"id\":\"1232\",\"type\":\"BasicTickFormatter\"},{\"attributes\":{},\"id\":\"1243\",\"type\":\"Selection\"},{\"attributes\":{\"bottom_units\":\"screen\",\"fill_alpha\":0.5,\"fill_color\":\"lightgrey\",\"left_units\":\"screen\",\"level\":\"overlay\",\"line_alpha\":1.0,\"line_color\":\"black\",\"line_dash\":[4,4],\"line_width\":2,\"right_units\":\"screen\",\"top_units\":\"screen\"},\"id\":\"1188\",\"type\":\"BoxAnnotation\"},{\"attributes\":{\"line_cap\":\"round\",\"line_color\":{\"value\":\"#404040\"},\"line_width\":{\"value\":5},\"xs\":{\"field\":\"xs\"},\"ys\":{\"field\":\"ys\"}},\"id\":\"1209\",\"type\":\"MultiLine\"},{\"attributes\":{\"axis\":{\"id\":\"1178\"},\"dimension\":1,\"grid_line_color\":null,\"ticker\":null},\"id\":\"1181\",\"type\":\"Grid\"},{\"attributes\":{\"formatter\":{\"id\":\"1230\"},\"ticker\":{\"id\":\"1175\"},\"visible\":false},\"id\":\"1174\",\"type\":\"LinearAxis\"},{\"attributes\":{},\"id\":\"1179\",\"type\":\"BasicTicker\"},{\"attributes\":{\"line_cap\":\"round\",\"line_color\":{\"field\":\"line_color\"},\"line_width\":{\"value\":5},\"xs\":{\"field\":\"xs\"},\"ys\":{\"field\":\"ys\"}},\"id\":\"1207\",\"type\":\"MultiLine\"},{\"attributes\":{},\"id\":\"1234\",\"type\":\"UnionRenderers\"},{\"attributes\":{},\"id\":\"1230\",\"type\":\"BasicTickFormatter\"},{\"attributes\":{},\"id\":\"1175\",\"type\":\"BasicTicker\"},{\"attributes\":{},\"id\":\"1242\",\"type\":\"UnionRenderers\"},{\"attributes\":{\"data_source\":{\"id\":\"1205\"},\"glyph\":{\"id\":\"1207\"},\"hover_glyph\":{\"id\":\"1209\"},\"level\":\"underlay\",\"muted_glyph\":null,\"nonselection_glyph\":{\"id\":\"1208\"},\"selection_glyph\":null,\"view\":{\"id\":\"1211\"}},\"id\":\"1210\",\"type\":\"GlyphRenderer\"},{\"attributes\":{\"end\":224.085,\"start\":-11.085},\"id\":\"1166\",\"type\":\"Range1d\"},{\"attributes\":{},\"id\":\"1235\",\"type\":\"Selection\"},{\"attributes\":{\"data\":{\"fill_color\":[\"#5e92f3\",\"#5e92f3\",\"#5e92f3\",\"#5e92f3\",\"#5e92f3\",\"#5e92f3\",\"#5e92f3\",\"#5e92f3\",\"#5e92f3\",\"#5e92f3\",\"#5e92f3\",\"#5e92f3\",\"#5e92f3\",\"#5e92f3\",\"#5e92f3\",\"#5e92f3\"],\"line_color\":[\"#003c8f\",\"#003c8f\",\"#003c8f\",\"#003c8f\",\"#003c8f\",\"#003c8f\",\"#003c8f\",\"#003c8f\",\"#003c8f\",\"#003c8f\",\"#003c8f\",\"#003c8f\",\"#003c8f\",\"#003c8f\",\"#003c8f\",\"#003c8f\"],\"line_width\":[3,3,3,3,3,3,3,3,3,3,3,3,3,3,3,3],\"x\":[6,20,72,111,194,178,199,205,207,198,165,157,162,144,127,189],\"y\":[71,59,31,-8,-8,38,86,96,106,103,97,84,112,112,97,93]},\"selected\":{\"id\":\"1235\"},\"selection_policy\":{\"id\":\"1234\"}},\"id\":\"1199\",\"type\":\"ColumnDataSource\"},{\"attributes\":{\"fill_color\":{\"field\":\"fill_color\"},\"line_color\":{\"field\":\"line_color\"},\"line_width\":{\"field\":\"line_width\"},\"size\":{\"units\":\"screen\",\"value\":11},\"x\":{\"field\":\"x\"},\"y\":{\"field\":\"y\"}},\"id\":\"1201\",\"type\":\"Circle\"},{\"attributes\":{},\"id\":\"1172\",\"type\":\"LinearScale\"},{\"attributes\":{},\"id\":\"1237\",\"type\":\"Selection\"},{\"attributes\":{},\"id\":\"1238\",\"type\":\"UnionRenderers\"},{\"attributes\":{\"data\":{\"line_color\":[\"#DFDFDF\",\"#DFDFDF\",\"#DFDFDF\",\"#DFDFDF\",\"#DFDFDF\",\"#DFDFDF\",\"#DFDFDF\",\"#DFDFDF\",\"#DFDFDF\",\"#DFDFDF\",\"#DFDFDF\",\"#DFDFDF\",\"#DFDFDF\",\"#DFDFDF\",\"#DFDFDF\",\"#DFDFDF\",\"#DFDFDF\",\"#DFDFDF\",\"#DFDFDF\",\"#DFDFDF\",\"#DFDFDF\",\"#DFDFDF\",\"#DFDFDF\",\"#DFDFDF\",\"#DFDFDF\",\"#DFDFDF\",\"#DFDFDF\",\"#DFDFDF\"],\"u\":[0,0,1,1,14,14,14,14,2,2,3,3,3,11,11,11,11,4,5,6,6,7,7,15,15,8,9,12],\"v\":[1,14,2,14,2,11,12,13,3,11,4,5,11,5,10,12,13,5,6,7,15,8,9,9,10,9,10,13],\"weight\":[4,24,12,19,20,8,10,6,10,25,14,18,18,14,4,8,8,12,14,3,3,1,2,4,6,2,6,4],\"xs\":[[6,20],[6,127],[20,72],[20,127],[127,72],[127,157],[127,162],[127,144],[72,111],[72,157],[111,194],[111,178],[111,157],[157,178],[157,165],[157,162],[157,144],[194,178],[178,199],[199,205],[199,189],[205,207],[205,198],[189,198],[189,165],[207,198],[198,165],[162,144]],\"ys\":[[71,59],[71,97],[59,31],[59,97],[97,31],[97,84],[97,112],[97,112],[31,-8],[31,84],[-8,-8],[-8,38],[-8,84],[84,38],[84,97],[84,112],[84,112],[-8,38],[38,86],[86,96],[86,93],[96,106],[96,103],[93,103],[93,97],[106,103],[103,97],[112,112]]},\"selected\":{\"id\":\"1237\"},\"selection_policy\":{\"id\":\"1236\"}},\"id\":\"1205\",\"type\":\"ColumnDataSource\"},{\"attributes\":{},\"id\":\"1170\",\"type\":\"LinearScale\"}],\"root_ids\":[\"1246\"]},\"title\":\"Bokeh Application\",\"version\":\"2.2.3\"}};\n",
       "  var render_items = [{\"docid\":\"2fab59db-c2c7-412e-9085-0b689fa853bf\",\"root_ids\":[\"1246\"],\"roots\":{\"1246\":\"09ebba1a-b819-4335-a30d-fbdcd2fa137d\"}}];\n",
       "  root.Bokeh.embed.embed_items_notebook(docs_json, render_items);\n",
       "\n",
       "  }\n",
       "  if (root.Bokeh !== undefined) {\n",
       "    embed_document(root);\n",
       "  } else {\n",
       "    var attempts = 0;\n",
       "    var timer = setInterval(function(root) {\n",
       "      if (root.Bokeh !== undefined) {\n",
       "        clearInterval(timer);\n",
       "        embed_document(root);\n",
       "      } else {\n",
       "        attempts++;\n",
       "        if (attempts > 100) {\n",
       "          clearInterval(timer);\n",
       "          console.log(\"Bokeh: ERROR: Unable to run BokehJS code because BokehJS library is missing\");\n",
       "        }\n",
       "      }\n",
       "    }, 10, root)\n",
       "  }\n",
       "})(window);"
      ],
      "application/vnd.bokehjs_exec.v0+json": ""
     },
     "metadata": {
      "application/vnd.bokehjs_exec.v0+json": {
       "id": "1246"
      }
     },
     "output_type": "display_data"
    }
   ],
   "source": [
    "tree = [(0,14),(0,1),(1,2),(2,3),(3,5),(4,5),(11,5),(5,6),\n",
    "        (6,15),(9,10),(7,9),(7,8),(6,7),(14,12),(12,13)]\n",
    "show(vl.tree_plot(G, tree=tree, show_cost=True, width=900, height=600))"
   ]
  },
  {
   "cell_type": "markdown",
   "metadata": {},
   "source": [
    "**Q1:** An example of a spanning tree is indicated above using thick edges. Do you think that this is the best possible? Can you briefly give a convincing argument why or why not?\n",
    "\n",
    "**A:** <font color='blue'> No, you could use edge (3,4) instead of (3,5) and have a cheaper spanning tree. </font>"
   ]
  },
  {
   "cell_type": "markdown",
   "metadata": {},
   "source": [
    "## Part II: Minimum Spanning Tree Algorithms\n",
    "\n",
    "In this section we will investigate three different algorithms for solving the Minimum Spanning Tree Problem. First you will try the algorithm that you have seen on lecture: Prim’s algorithm. This algorithm works as\n",
    "follows:\n",
    "\n",
    "1. Choose any node from which to begin, say node 1, and start the tree with the cheapest edge from node 1 to one of the other nodes in the graph.\n",
    "2. At each subsequent step, add the cheapest edge that maintains\n",
    "connectivity of the current tree and adds a new node. In other words,\n",
    "add the cheapest edge that connects a new node to those already\n",
    "connected.\n",
    "3.  Continue to do this until all nodes are connected."
   ]
  },
  {
   "cell_type": "code",
   "execution_count": 4,
   "metadata": {},
   "outputs": [
    {
     "data": {
      "text/html": [
       "\n",
       "\n",
       "\n",
       "\n",
       "\n",
       "\n",
       "  <div class=\"bk-root\" id=\"64a4700a-be41-46b8-80f1-5dcecaffbe7c\" data-root-id=\"1433\"></div>\n"
      ]
     },
     "metadata": {},
     "output_type": "display_data"
    },
    {
     "data": {
      "application/javascript": [
       "(function(root) {\n",
       "  function embed_document(root) {\n",
       "    \n",
       "  var docs_json = {\"aaec4eed-4612-4e78-9598-04e578529777\":{\"roots\":{\"references\":[{\"attributes\":{\"children\":[[{\"id\":\"1357\"},0,0],[{\"id\":\"1417\"},1,0]]},\"id\":\"1433\",\"type\":\"GridBox\"},{\"attributes\":{},\"id\":\"1366\",\"type\":\"LinearScale\"},{\"attributes\":{\"fill_color\":{\"field\":\"fill_color\"},\"line_color\":{\"field\":\"line_color\"},\"line_width\":{\"field\":\"line_width\"},\"size\":{\"units\":\"screen\",\"value\":11},\"x\":{\"field\":\"x\"},\"y\":{\"field\":\"y\"}},\"id\":\"1396\",\"type\":\"Circle\"},{\"attributes\":{},\"id\":\"1428\",\"type\":\"Selection\"},{\"attributes\":{\"data_source\":{\"id\":\"1399\"},\"glyph\":{\"id\":\"1401\"},\"hover_glyph\":{\"id\":\"1403\"},\"level\":\"underlay\",\"muted_glyph\":null,\"nonselection_glyph\":{\"id\":\"1402\"},\"selection_glyph\":null,\"view\":{\"id\":\"1405\"}},\"id\":\"1404\",\"type\":\"GlyphRenderer\"},{\"attributes\":{\"axis\":{\"id\":\"1368\"},\"grid_line_color\":null,\"ticker\":null},\"id\":\"1371\",\"type\":\"Grid\"},{\"attributes\":{\"data\":{\"text\":[4,24,12,19,20,8,10,6,10,25,14,18,18,14,4,8,8,12,14,3,3,1,2,4,6,2,6,4],\"x\":{\"__ndarray__\":\"AgAAAAAAKkAAAAAAAKBQQAEAAAAAAEdAAgAAAABgUkACAAAAAOBYQP//////v2FAAAAAAAAQYkAAAAAAAPBgQAAAAAAA4FZAAAAAAACgXED//////w9jQAAAAAAAEGJAAAAAAADAYEAAAAAAAPBkQAAAAAAAIGRAAAAAAADwY0AAAAAAANBiQAEAAAAAQGdAAAAAAACQZ0AAAAAAAEBpQAAAAAAAQGhAAQAAAADAaUAAAAAAADBpQP//////L2hAAAAAAAAgZkABAAAAAFBpQAAAAAAAsGZAAAAAAAAgY0A=\",\"dtype\":\"float64\",\"order\":\"little\",\"shape\":[28]},\"y\":{\"__ndarray__\":\"AAAAAABAUED///////9UQAAAAAAAgEZA//////9/U0AAAAAAAABQQAEAAAAAoFZAAAAAAAAgWkAAAAAAACBaQAAAAAAAACdAAAAAAADATED+//////8fwAAAAAAAAC5AAAAAAAAAQ0ACAAAAAIBOQAEAAAAAoFZAAQAAAACAWEABAAAAAIBYQAAAAAAAAC5AAAAAAAAAT0AAAAAAAMBWQAAAAAAAYFZAAAAAAABAWUABAAAAAOBYQAEAAAAAgFhAAQAAAADAV0AAAAAAACBaQAAAAAAAAFlAAQAAAAAAXEA=\",\"dtype\":\"float64\",\"order\":\"little\",\"shape\":[28]}},\"selected\":{\"id\":\"1430\"},\"selection_policy\":{\"id\":\"1429\"}},\"id\":\"1411\",\"type\":\"ColumnDataSource\"},{\"attributes\":{\"data_source\":{\"id\":\"1393\"},\"glyph\":{\"id\":\"1395\"},\"hover_glyph\":null,\"muted_glyph\":null,\"nonselection_glyph\":{\"id\":\"1396\"},\"selection_glyph\":null,\"view\":{\"id\":\"1398\"}},\"id\":\"1397\",\"type\":\"GlyphRenderer\"},{\"attributes\":{},\"id\":\"1425\",\"type\":\"UnionRenderers\"},{\"attributes\":{},\"id\":\"1369\",\"type\":\"BasicTicker\"},{\"attributes\":{},\"id\":\"1379\",\"type\":\"SaveTool\"},{\"attributes\":{\"text\":\"\"},\"id\":\"1358\",\"type\":\"Title\"},{\"attributes\":{\"source\":{\"id\":\"1393\"}},\"id\":\"1398\",\"type\":\"CDSView\"},{\"attributes\":{\"formatter\":{\"id\":\"1419\"},\"ticker\":{\"id\":\"1369\"},\"visible\":false},\"id\":\"1368\",\"type\":\"LinearAxis\"},{\"attributes\":{\"line_cap\":\"round\",\"line_color\":{\"field\":\"line_color\"},\"line_width\":{\"value\":5},\"xs\":{\"field\":\"xs\"},\"ys\":{\"field\":\"ys\"}},\"id\":\"1401\",\"type\":\"MultiLine\"},{\"attributes\":{\"data_source\":{\"id\":\"1406\"},\"glyph\":{\"id\":\"1407\"},\"hover_glyph\":null,\"level\":\"guide\",\"muted_glyph\":null,\"nonselection_glyph\":{\"id\":\"1408\"},\"selection_glyph\":null,\"view\":{\"id\":\"1410\"}},\"id\":\"1409\",\"type\":\"GlyphRenderer\"},{\"attributes\":{},\"id\":\"1419\",\"type\":\"BasicTickFormatter\"},{\"attributes\":{\"data\":{\"xs\":[[11.301090324745442,14.698909675254566],[63.069812290021225,69.93018770997878],[42.976862092036946,49.02313790796307],[70.22089160863857,76.77910839136149],[101.60977267069882,97.39022732930124],[139.8831103628236,144.11688963717637],[141.31806115805978,147.68193884194022],[133.82482514008294,137.17517485991706],[89.14670153841959,93.85329846158044],[111.6050606932186,117.3949393067814],[148.97244999999998,156.02755],[141.7005138802247,147.2994861197753],[132.55841471316512,135.44158528683488],[166.16509629035858,168.83490370964145],[159.86494734502958,162.13505265497042],[159.128646851194,159.87135314880598],[151.4028559428779,149.5971440571221],[187.04906838665292,184.9509316133471],[187.21317691926478,189.78682308073522],[200.88690370215798,203.11309629784205],[195.85282232314876,192.14717767685121],[205.58539740586426,206.41460259413577],[203.06886564105358,199.9311343589464],[192.02424879142615,194.9757512085738],[179.31200007568697,174.68799992431306],[204.7039715447302,200.29602845526986],[183.80467874454894,179.19532125545106],[155.3517,150.6483]],\"ys\":[[66.45620829307533,63.543791706924665],[83.26293487223596,84.73706512776401],[46.62784348890318,43.372156511096804],[76.83545683297443,79.16454316702556],[66.53172720483855,61.46827279516147],[91.41731884277647,89.58268115722356],[103.13631192488276,105.86368807511724],[103.0219045353673,105.9780954646327],[13.85329846158043,9.146701538419578],[55.694920196948075,59.305079803051925],[-7.999999999999998,-7.999999999999998],[13.077964753587104,16.92203524641289],[35.11682942633026,40.883170573669744],[63.92407479254794,58.07592520745206],[88.65553943567308,92.34446056432695],[95.92042236668642,100.07957763331359],[96.05538719995533,99.9446128000447],[11.98392838837291,18.016071611627098],[59.05869010117662,64.94130989882336],[89.14483950359659,92.85516049640341],[88.20302437379587,90.79697562620413],[98.9269870293212,103.07301297067883],[97.93113435894641,101.0688656410536],[96.360276434918,99.63972356508202],[94.6146666540522,95.38533334594783],[105.23465718157672,103.76534281842328],[100.41903249900889,99.58096750099111],[112.00000000000001,112.00000000000001]]},\"selected\":{\"id\":\"1428\"},\"selection_policy\":{\"id\":\"1427\"}},\"id\":\"1406\",\"type\":\"ColumnDataSource\"},{\"attributes\":{},\"id\":\"1426\",\"type\":\"Selection\"},{\"attributes\":{\"end\":122.2,\"start\":-18.200000000000003},\"id\":\"1362\",\"type\":\"Range1d\"},{\"attributes\":{\"source\":{\"id\":\"1411\"},\"text_align\":\"center\",\"text_baseline\":\"middle\",\"text_color\":{\"value\":\"black\"},\"text_font_size\":{\"value\":\"13px\"},\"x\":{\"field\":\"x\"},\"y\":{\"field\":\"y\"}},\"id\":\"1412\",\"type\":\"LabelSet\"},{\"attributes\":{\"data\":{\"fill_color\":[\"#5e92f3\",\"#5e92f3\",\"#5e92f3\",\"#5e92f3\",\"#5e92f3\",\"#5e92f3\",\"#5e92f3\",\"#5e92f3\",\"#5e92f3\",\"#5e92f3\",\"#5e92f3\",\"#5e92f3\",\"#5e92f3\",\"#5e92f3\",\"#5e92f3\",\"#5e92f3\"],\"line_color\":[\"#003c8f\",\"#003c8f\",\"#003c8f\",\"#003c8f\",\"#003c8f\",\"#003c8f\",\"#003c8f\",\"#003c8f\",\"#003c8f\",\"#003c8f\",\"#003c8f\",\"#003c8f\",\"#003c8f\",\"#003c8f\",\"#003c8f\",\"#003c8f\"],\"line_width\":[3,3,3,3,3,3,3,3,3,3,3,3,3,3,3,3],\"x\":[6,20,72,111,194,178,199,205,207,198,165,157,162,144,127,189],\"y\":[71,59,31,-8,-8,38,86,96,106,103,97,84,112,112,97,93]},\"selected\":{\"id\":\"1424\"},\"selection_policy\":{\"id\":\"1423\"}},\"id\":\"1393\",\"type\":\"ColumnDataSource\"},{\"attributes\":{\"line_cap\":\"round\",\"line_color\":{\"field\":\"line_color\"},\"line_width\":{\"value\":5},\"xs\":{\"field\":\"xs\"},\"ys\":{\"field\":\"ys\"}},\"id\":\"1402\",\"type\":\"MultiLine\"},{\"attributes\":{},\"id\":\"1376\",\"type\":\"PanTool\"},{\"attributes\":{\"callback\":null,\"renderers\":[{\"id\":\"1397\"}],\"tooltips\":[[\"Index\",\"$index\"],[\"Name\",\"@name\"]]},\"id\":\"1415\",\"type\":\"HoverTool\"},{\"attributes\":{\"source\":{\"id\":\"1406\"}},\"id\":\"1410\",\"type\":\"CDSView\"},{\"attributes\":{},\"id\":\"1381\",\"type\":\"HelpTool\"},{\"attributes\":{},\"id\":\"1377\",\"type\":\"WheelZoomTool\"},{\"attributes\":{\"formatter\":{\"id\":\"1421\"},\"ticker\":{\"id\":\"1373\"},\"visible\":false},\"id\":\"1372\",\"type\":\"LinearAxis\"},{\"attributes\":{},\"id\":\"1380\",\"type\":\"ResetTool\"},{\"attributes\":{\"line_color\":{\"value\":\"white\"},\"line_width\":{\"value\":6},\"xs\":{\"field\":\"xs\"},\"ys\":{\"field\":\"ys\"}},\"id\":\"1407\",\"type\":\"MultiLine\"},{\"attributes\":{},\"id\":\"1373\",\"type\":\"BasicTicker\"},{\"attributes\":{},\"id\":\"1429\",\"type\":\"UnionRenderers\"},{\"attributes\":{\"axis\":{\"id\":\"1372\"},\"dimension\":1,\"grid_line_color\":null,\"ticker\":null},\"id\":\"1375\",\"type\":\"Grid\"},{\"attributes\":{},\"id\":\"1421\",\"type\":\"BasicTickFormatter\"},{\"attributes\":{\"source\":{\"id\":\"1399\"}},\"id\":\"1405\",\"type\":\"CDSView\"},{\"attributes\":{\"bottom_units\":\"screen\",\"fill_alpha\":0.5,\"fill_color\":\"lightgrey\",\"left_units\":\"screen\",\"level\":\"overlay\",\"line_alpha\":1.0,\"line_color\":\"black\",\"line_dash\":[4,4],\"line_width\":2,\"right_units\":\"screen\",\"top_units\":\"screen\"},\"id\":\"1382\",\"type\":\"BoxAnnotation\"},{\"attributes\":{\"data\":{\"line_color\":[\"#DFDFDF\",\"#DFDFDF\",\"#DFDFDF\",\"#DFDFDF\",\"#DFDFDF\",\"#DFDFDF\",\"#DFDFDF\",\"#DFDFDF\",\"#DFDFDF\",\"#DFDFDF\",\"#DFDFDF\",\"#DFDFDF\",\"#DFDFDF\",\"#DFDFDF\",\"#DFDFDF\",\"#DFDFDF\",\"#DFDFDF\",\"#DFDFDF\",\"#DFDFDF\",\"#DFDFDF\",\"#DFDFDF\",\"#DFDFDF\",\"#DFDFDF\",\"#DFDFDF\",\"#DFDFDF\",\"#DFDFDF\",\"#DFDFDF\",\"#DFDFDF\"],\"u\":[0,0,1,1,14,14,14,14,2,2,3,3,3,11,11,11,11,4,5,6,6,7,7,15,15,8,9,12],\"v\":[1,14,2,14,2,11,12,13,3,11,4,5,11,5,10,12,13,5,6,7,15,8,9,9,10,9,10,13],\"weight\":[4,24,12,19,20,8,10,6,10,25,14,18,18,14,4,8,8,12,14,3,3,1,2,4,6,2,6,4],\"xs\":[[6,20],[6,127],[20,72],[20,127],[127,72],[127,157],[127,162],[127,144],[72,111],[72,157],[111,194],[111,178],[111,157],[157,178],[157,165],[157,162],[157,144],[194,178],[178,199],[199,205],[199,189],[205,207],[205,198],[189,198],[189,165],[207,198],[198,165],[162,144]],\"ys\":[[71,59],[71,97],[59,31],[59,97],[97,31],[97,84],[97,112],[97,112],[31,-8],[31,84],[-8,-8],[-8,38],[-8,84],[84,38],[84,97],[84,112],[84,112],[-8,38],[38,86],[86,96],[86,93],[96,106],[96,103],[93,103],[93,97],[106,103],[103,97],[112,112]]},\"selected\":{\"id\":\"1426\"},\"selection_policy\":{\"id\":\"1425\"}},\"id\":\"1399\",\"type\":\"ColumnDataSource\"},{\"attributes\":{},\"id\":\"1424\",\"type\":\"Selection\"},{\"attributes\":{},\"id\":\"1430\",\"type\":\"Selection\"},{\"attributes\":{\"align\":\"center\",\"width\":300},\"id\":\"1414\",\"type\":\"Div\"},{\"attributes\":{\"active_drag\":null,\"active_inspect\":\"auto\",\"active_multi\":null,\"active_scroll\":null,\"active_tap\":\"auto\",\"logo\":null,\"tools\":[{\"id\":\"1376\"},{\"id\":\"1377\"},{\"id\":\"1378\"},{\"id\":\"1379\"},{\"id\":\"1380\"},{\"id\":\"1381\"},{\"id\":\"1415\"}]},\"id\":\"1383\",\"type\":\"Toolbar\"},{\"attributes\":{\"line_cap\":\"round\",\"line_color\":{\"value\":\"#404040\"},\"line_width\":{\"value\":5},\"xs\":{\"field\":\"xs\"},\"ys\":{\"field\":\"ys\"}},\"id\":\"1403\",\"type\":\"MultiLine\"},{\"attributes\":{},\"id\":\"1423\",\"type\":\"UnionRenderers\"},{\"attributes\":{\"end\":224.085,\"start\":-11.085},\"id\":\"1360\",\"type\":\"Range1d\"},{\"attributes\":{\"children\":[{\"id\":\"1414\"}]},\"id\":\"1417\",\"type\":\"Row\"},{\"attributes\":{\"fill_color\":{\"field\":\"fill_color\"},\"line_color\":{\"field\":\"line_color\"},\"line_width\":{\"field\":\"line_width\"},\"size\":{\"units\":\"screen\",\"value\":11},\"x\":{\"field\":\"x\"},\"y\":{\"field\":\"y\"}},\"id\":\"1395\",\"type\":\"Circle\"},{\"attributes\":{\"line_color\":{\"value\":\"white\"},\"line_width\":{\"value\":6},\"xs\":{\"field\":\"xs\"},\"ys\":{\"field\":\"ys\"}},\"id\":\"1408\",\"type\":\"MultiLine\"},{\"attributes\":{\"overlay\":{\"id\":\"1382\"}},\"id\":\"1378\",\"type\":\"BoxZoomTool\"},{\"attributes\":{},\"id\":\"1427\",\"type\":\"UnionRenderers\"},{\"attributes\":{\"background_fill_color\":null,\"below\":[{\"id\":\"1368\"}],\"border_fill_color\":null,\"center\":[{\"id\":\"1371\"},{\"id\":\"1375\"},{\"id\":\"1412\"}],\"left\":[{\"id\":\"1372\"}],\"outline_line_color\":null,\"plot_height\":400,\"renderers\":[{\"id\":\"1397\"},{\"id\":\"1404\"},{\"id\":\"1409\"}],\"title\":{\"id\":\"1358\"},\"toolbar\":{\"id\":\"1383\"},\"toolbar_location\":null,\"x_range\":{\"id\":\"1360\"},\"x_scale\":{\"id\":\"1364\"},\"y_range\":{\"id\":\"1362\"},\"y_scale\":{\"id\":\"1366\"}},\"id\":\"1357\",\"subtype\":\"Figure\",\"type\":\"Plot\"},{\"attributes\":{},\"id\":\"1364\",\"type\":\"LinearScale\"}],\"root_ids\":[\"1433\"]},\"title\":\"Bokeh Application\",\"version\":\"2.2.3\"}};\n",
       "  var render_items = [{\"docid\":\"aaec4eed-4612-4e78-9598-04e578529777\",\"root_ids\":[\"1433\"],\"roots\":{\"1433\":\"64a4700a-be41-46b8-80f1-5dcecaffbe7c\"}}];\n",
       "  root.Bokeh.embed.embed_items_notebook(docs_json, render_items);\n",
       "\n",
       "  }\n",
       "  if (root.Bokeh !== undefined) {\n",
       "    embed_document(root);\n",
       "  } else {\n",
       "    var attempts = 0;\n",
       "    var timer = setInterval(function(root) {\n",
       "      if (root.Bokeh !== undefined) {\n",
       "        clearInterval(timer);\n",
       "        embed_document(root);\n",
       "      } else {\n",
       "        attempts++;\n",
       "        if (attempts > 100) {\n",
       "          clearInterval(timer);\n",
       "          console.log(\"Bokeh: ERROR: Unable to run BokehJS code because BokehJS library is missing\");\n",
       "        }\n",
       "      }\n",
       "    }, 10, root)\n",
       "  }\n",
       "})(window);"
      ],
      "application/vnd.bokehjs_exec.v0+json": ""
     },
     "metadata": {
      "application/vnd.bokehjs_exec.v0+json": {
       "id": "1433"
      }
     },
     "output_type": "display_data"
    }
   ],
   "source": [
    "show(vl.tree_plot(G, tree=[], width=600))"
   ]
  },
  {
   "cell_type": "markdown",
   "metadata": {},
   "source": [
    "**Q2:** Run the first 5 iterations of this algorithm (starting at node 0 on the far left). Show your work: indicate the order in which you add the edges.\n",
    "\n",
    "**A:** <font color='blue'> Add edges in this order: (0,1), (1,2), (2,3), (3,4), (4,5).</font>"
   ]
  },
  {
   "cell_type": "markdown",
   "metadata": {},
   "source": [
    "Now, use the software to run the first 5 iterations of Prim's. Run the cell to output a plot. The starting node is solid dark blue. Click the edges you identified in **Q2** to add them to the minimum spanning tree."
   ]
  },
  {
   "cell_type": "code",
   "execution_count": 16,
   "metadata": {},
   "outputs": [
    {
     "ename": "ValueError",
     "evalue": "min() arg is an empty sequence",
     "output_type": "error",
     "traceback": [
      "\u001b[1;31m---------------------------------------------------------------------------\u001b[0m",
      "\u001b[1;31mValueError\u001b[0m                                Traceback (most recent call last)",
      "\u001b[1;32m<ipython-input-16-62fb3ae179cc>\u001b[0m in \u001b[0;36m<module>\u001b[1;34m\u001b[0m\n\u001b[1;32m----> 1\u001b[1;33m \u001b[0mshow\u001b[0m\u001b[1;33m(\u001b[0m\u001b[0mvl\u001b[0m\u001b[1;33m.\u001b[0m\u001b[0massisted_mst_algorithm_plot\u001b[0m\u001b[1;33m(\u001b[0m\u001b[0mG\u001b[0m\u001b[1;33m,\u001b[0m \u001b[0malgorithm\u001b[0m\u001b[1;33m=\u001b[0m\u001b[1;34m'prims'\u001b[0m\u001b[1;33m,\u001b[0m \u001b[0ms\u001b[0m\u001b[1;33m=\u001b[0m\u001b[1;36m0\u001b[0m\u001b[1;33m,\u001b[0m \u001b[0mwidth\u001b[0m\u001b[1;33m=\u001b[0m\u001b[1;36m900\u001b[0m\u001b[1;33m,\u001b[0m \u001b[0mheight\u001b[0m\u001b[1;33m=\u001b[0m\u001b[1;36m600\u001b[0m\u001b[1;33m)\u001b[0m\u001b[1;33m)\u001b[0m\u001b[1;33m\u001b[0m\u001b[1;33m\u001b[0m\u001b[0m\n\u001b[0m",
      "\u001b[1;32m~\\anaconda3\\envs\\engri_1101\\lib\\site-packages\\vinal\\plot.py\u001b[0m in \u001b[0;36massisted_mst_algorithm_plot\u001b[1;34m(G, algorithm, **kw)\u001b[0m\n\u001b[0;32m    944\u001b[0m     \"\"\"\n\u001b[0;32m    945\u001b[0m     \u001b[0mG\u001b[0m \u001b[1;33m=\u001b[0m \u001b[0mG\u001b[0m\u001b[1;33m.\u001b[0m\u001b[0mcopy\u001b[0m\u001b[1;33m(\u001b[0m\u001b[1;33m)\u001b[0m\u001b[1;33m\u001b[0m\u001b[1;33m\u001b[0m\u001b[0m\n\u001b[1;32m--> 946\u001b[1;33m     \u001b[0mplot\u001b[0m \u001b[1;33m=\u001b[0m \u001b[0m_blank_plot\u001b[0m\u001b[1;33m(\u001b[0m\u001b[0mG\u001b[0m\u001b[1;33m,\u001b[0m \u001b[1;33m**\u001b[0m\u001b[0mkw\u001b[0m\u001b[1;33m)\u001b[0m\u001b[1;33m\u001b[0m\u001b[1;33m\u001b[0m\u001b[0m\n\u001b[0m\u001b[0;32m    947\u001b[0m \u001b[1;33m\u001b[0m\u001b[0m\n\u001b[0;32m    948\u001b[0m     \u001b[0m_set_edge_positions\u001b[0m\u001b[1;33m(\u001b[0m\u001b[0mG\u001b[0m\u001b[1;33m)\u001b[0m\u001b[1;33m\u001b[0m\u001b[1;33m\u001b[0m\u001b[0m\n",
      "\u001b[1;32m~\\anaconda3\\envs\\engri_1101\\lib\\site-packages\\vinal\\plot.py\u001b[0m in \u001b[0;36m_blank_plot\u001b[1;34m(G, width, height, x_range, y_range, image, **kw)\u001b[0m\n\u001b[0;32m    124\u001b[0m             \u001b[0mx\u001b[0m \u001b[1;33m=\u001b[0m \u001b[0mnx\u001b[0m\u001b[1;33m.\u001b[0m\u001b[0mget_node_attributes\u001b[0m\u001b[1;33m(\u001b[0m\u001b[0mG\u001b[0m\u001b[1;33m,\u001b[0m\u001b[1;34m'x'\u001b[0m\u001b[1;33m)\u001b[0m\u001b[1;33m.\u001b[0m\u001b[0mvalues\u001b[0m\u001b[1;33m(\u001b[0m\u001b[1;33m)\u001b[0m\u001b[1;33m\u001b[0m\u001b[1;33m\u001b[0m\u001b[0m\n\u001b[0;32m    125\u001b[0m             \u001b[0my\u001b[0m \u001b[1;33m=\u001b[0m \u001b[0mnx\u001b[0m\u001b[1;33m.\u001b[0m\u001b[0mget_node_attributes\u001b[0m\u001b[1;33m(\u001b[0m\u001b[0mG\u001b[0m\u001b[1;33m,\u001b[0m\u001b[1;34m'y'\u001b[0m\u001b[1;33m)\u001b[0m\u001b[1;33m.\u001b[0m\u001b[0mvalues\u001b[0m\u001b[1;33m(\u001b[0m\u001b[1;33m)\u001b[0m\u001b[1;33m\u001b[0m\u001b[1;33m\u001b[0m\u001b[0m\n\u001b[1;32m--> 126\u001b[1;33m             \u001b[0mmin_x\u001b[0m\u001b[1;33m,\u001b[0m \u001b[0mmax_x\u001b[0m\u001b[1;33m,\u001b[0m \u001b[0mmin_y\u001b[0m\u001b[1;33m,\u001b[0m \u001b[0mmax_y\u001b[0m \u001b[1;33m=\u001b[0m \u001b[0m_graph_range\u001b[0m\u001b[1;33m(\u001b[0m\u001b[0mx\u001b[0m\u001b[1;33m,\u001b[0m\u001b[0my\u001b[0m\u001b[1;33m)\u001b[0m\u001b[1;33m\u001b[0m\u001b[1;33m\u001b[0m\u001b[0m\n\u001b[0m\u001b[0;32m    127\u001b[0m     plot = figure(x_range=(min_x, max_x),\n\u001b[0;32m    128\u001b[0m                   \u001b[0my_range\u001b[0m\u001b[1;33m=\u001b[0m\u001b[1;33m(\u001b[0m\u001b[0mmin_y\u001b[0m\u001b[1;33m,\u001b[0m \u001b[0mmax_y\u001b[0m\u001b[1;33m)\u001b[0m\u001b[1;33m,\u001b[0m\u001b[1;33m\u001b[0m\u001b[1;33m\u001b[0m\u001b[0m\n",
      "\u001b[1;32m~\\anaconda3\\envs\\engri_1101\\lib\\site-packages\\vinal\\plot.py\u001b[0m in \u001b[0;36m_graph_range\u001b[1;34m(x, y)\u001b[0m\n\u001b[0;32m     81\u001b[0m         \u001b[0mList\u001b[0m\u001b[1;33m[\u001b[0m\u001b[0mfloat\u001b[0m\u001b[1;33m]\u001b[0m\u001b[1;33m:\u001b[0m \u001b[0mx\u001b[0m\u001b[1;33m-\u001b[0m\u001b[0mrange\u001b[0m \u001b[1;33m(\u001b[0m\u001b[0mmin_x\u001b[0m\u001b[1;33m,\u001b[0m \u001b[0mmax_x\u001b[0m\u001b[1;33m)\u001b[0m \u001b[1;32mand\u001b[0m \u001b[0my\u001b[0m\u001b[1;33m-\u001b[0m\u001b[0mrange\u001b[0m \u001b[1;33m(\u001b[0m\u001b[0mmin_y\u001b[0m\u001b[1;33m,\u001b[0m \u001b[0mmax_y\u001b[0m\u001b[1;33m)\u001b[0m\u001b[1;33m.\u001b[0m\u001b[1;33m\u001b[0m\u001b[1;33m\u001b[0m\u001b[0m\n\u001b[0;32m     82\u001b[0m     \"\"\"\n\u001b[1;32m---> 83\u001b[1;33m     \u001b[0mmin_x\u001b[0m\u001b[1;33m,\u001b[0m \u001b[0mmax_x\u001b[0m \u001b[1;33m=\u001b[0m \u001b[0mmin\u001b[0m\u001b[1;33m(\u001b[0m\u001b[0mx\u001b[0m\u001b[1;33m)\u001b[0m\u001b[1;33m,\u001b[0m \u001b[0mmax\u001b[0m\u001b[1;33m(\u001b[0m\u001b[0mx\u001b[0m\u001b[1;33m)\u001b[0m\u001b[1;33m\u001b[0m\u001b[1;33m\u001b[0m\u001b[0m\n\u001b[0m\u001b[0;32m     84\u001b[0m     \u001b[0mx_margin\u001b[0m \u001b[1;33m=\u001b[0m \u001b[0mPLOT_MARGIN\u001b[0m \u001b[1;33m*\u001b[0m \u001b[1;33m(\u001b[0m\u001b[0mmax_x\u001b[0m \u001b[1;33m-\u001b[0m \u001b[0mmin_x\u001b[0m\u001b[1;33m)\u001b[0m\u001b[1;33m\u001b[0m\u001b[1;33m\u001b[0m\u001b[0m\n\u001b[0;32m     85\u001b[0m     \u001b[0mmin_x\u001b[0m\u001b[1;33m,\u001b[0m \u001b[0mmax_x\u001b[0m \u001b[1;33m=\u001b[0m \u001b[0mmin_x\u001b[0m \u001b[1;33m-\u001b[0m \u001b[0mx_margin\u001b[0m\u001b[1;33m,\u001b[0m \u001b[0mmax_x\u001b[0m \u001b[1;33m+\u001b[0m \u001b[0mx_margin\u001b[0m\u001b[1;33m\u001b[0m\u001b[1;33m\u001b[0m\u001b[0m\n",
      "\u001b[1;31mValueError\u001b[0m: min() arg is an empty sequence"
     ]
    }
   ],
   "source": [
    "show(vl.assisted_mst_algorithm_plot(G, algorithm='prims', s=0, width=900, height=600))"
   ]
  },
  {
   "cell_type": "markdown",
   "metadata": {},
   "source": [
    "**Q3:** If you made a mistake, an error message would have appeared. Did you make any mistakes?\n",
    "\n",
    "**A:** <font color='blue'> Answers will vary.</font>"
   ]
  },
  {
   "cell_type": "markdown",
   "metadata": {},
   "source": [
    "**Q4:** There are two different colors of nodes in the above graph. Using your observations about the first 5 iterations, explain when each represents.\n",
    "\n",
    "**A:** <font color='blue'>Solid dark blue are visited by the current tree and the others are unvisited.</font>"
   ]
  },
  {
   "cell_type": "markdown",
   "metadata": {},
   "source": [
    "**Q5:** At each iteration of Prim's, among which subset of edges are you selecting a next edge to add. How do you select which one of these to add?\n",
    "\n",
    "**A:** <font color='blue'>The edges that go from a visited node to an unvisited node. You select the cheapest one.</font>"
   ]
  },
  {
   "cell_type": "markdown",
   "metadata": {},
   "source": [
    "**Q6:** Run the cell below and click next until you have a minimum spanning tree. Try to anticipate each of the algorithm’s steps. What is the total cost of this tree, and how does this compare with the original tree? (Hint: the cost of the tree is shown in the bottom left.)\n",
    "\n",
    "**A:** <font color='blue'>The total cost is 103 compared to the cost of 137 for the original tree.</font>"
   ]
  },
  {
   "cell_type": "code",
   "execution_count": 18,
   "metadata": {},
   "outputs": [
    {
     "data": {
      "text/html": [
       "\n",
       "\n",
       "\n",
       "\n",
       "\n",
       "\n",
       "  <div class=\"bk-root\" id=\"912bc2e8-28a0-42d3-bba2-143153eb4663\" data-root-id=\"2328\"></div>\n"
      ]
     },
     "metadata": {},
     "output_type": "display_data"
    },
    {
     "data": {
      "application/javascript": [
       "(function(root) {\n",
       "  function embed_document(root) {\n",
       "    \n",
       "  var docs_json = {\"b41ebdb7-4c08-48a7-9750-cb5f984ba286\":{\"roots\":{\"references\":[{\"attributes\":{\"children\":[[{\"id\":\"2229\"},0,0],[{\"id\":\"2303\"},1,0],[{\"id\":\"2304\"},2,0]]},\"id\":\"2328\",\"type\":\"GridBox\"},{\"attributes\":{},\"id\":\"2307\",\"type\":\"BasicTickFormatter\"},{\"attributes\":{\"data\":{\"costs\":[0,4,16,26,40,52,66,69,70,72,75,81,85,93,97,103],\"edge_xs\":[[],[[6,20]],[[6,20],[20,72]],[[6,20],[20,72],[72,111]],[[6,20],[20,72],[72,111],[111,194]],[[6,20],[20,72],[72,111],[111,194],[194,178]],[[6,20],[20,72],[72,111],[111,194],[194,178],[178,199]],[[6,20],[20,72],[72,111],[111,194],[194,178],[178,199],[199,205]],[[6,20],[20,72],[72,111],[111,194],[194,178],[178,199],[199,205],[205,207]],[[6,20],[20,72],[72,111],[111,194],[194,178],[178,199],[199,205],[205,207],[205,198]],[[6,20],[20,72],[72,111],[111,194],[194,178],[178,199],[199,205],[205,207],[205,198],[199,189]],[[6,20],[20,72],[72,111],[111,194],[194,178],[178,199],[199,205],[205,207],[205,198],[199,189],[198,165]],[[6,20],[20,72],[72,111],[111,194],[194,178],[178,199],[199,205],[205,207],[205,198],[199,189],[198,165],[165,157]],[[6,20],[20,72],[72,111],[111,194],[194,178],[178,199],[199,205],[205,207],[205,198],[199,189],[198,165],[165,157],[157,162]],[[6,20],[20,72],[72,111],[111,194],[194,178],[178,199],[199,205],[205,207],[205,198],[199,189],[198,165],[165,157],[157,162],[162,144]],[[6,20],[20,72],[72,111],[111,194],[194,178],[178,199],[199,205],[205,207],[205,198],[199,189],[198,165],[165,157],[157,162],[162,144],[144,127]]],\"edge_ys\":[[],[[71,59]],[[71,59],[59,31]],[[71,59],[59,31],[31,-8]],[[71,59],[59,31],[31,-8],[-8,-8]],[[71,59],[59,31],[31,-8],[-8,-8],[-8,38]],[[71,59],[59,31],[31,-8],[-8,-8],[-8,38],[38,86]],[[71,59],[59,31],[31,-8],[-8,-8],[-8,38],[38,86],[86,96]],[[71,59],[59,31],[31,-8],[-8,-8],[-8,38],[38,86],[86,96],[96,106]],[[71,59],[59,31],[31,-8],[-8,-8],[-8,38],[38,86],[86,96],[96,106],[96,103]],[[71,59],[59,31],[31,-8],[-8,-8],[-8,38],[38,86],[86,96],[96,106],[96,103],[86,93]],[[71,59],[59,31],[31,-8],[-8,-8],[-8,38],[38,86],[86,96],[96,106],[96,103],[86,93],[103,97]],[[71,59],[59,31],[31,-8],[-8,-8],[-8,38],[38,86],[86,96],[96,106],[96,103],[86,93],[103,97],[97,84]],[[71,59],[59,31],[31,-8],[-8,-8],[-8,38],[38,86],[86,96],[96,106],[96,103],[86,93],[103,97],[97,84],[84,112]],[[71,59],[59,31],[31,-8],[-8,-8],[-8,38],[38,86],[86,96],[96,106],[96,103],[86,93],[103,97],[97,84],[84,112],[112,112]],[[71,59],[59,31],[31,-8],[-8,-8],[-8,38],[38,86],[86,96],[96,106],[96,103],[86,93],[103,97],[97,84],[84,112],[112,112],[112,97]]],\"nodes\":[[],[0,1],[0,1,2],[0,1,2,3],[0,1,2,3,4],[0,1,2,3,4,5],[0,1,2,3,4,5,6],[0,1,2,3,4,5,6,7],[0,1,2,3,4,5,6,7,8],[0,1,2,3,4,5,6,7,8,9],[0,1,2,3,4,5,6,7,8,9,15],[0,1,2,3,4,5,6,7,8,9,10,15],[0,1,2,3,4,5,6,7,8,9,10,11,15],[0,1,2,3,4,5,6,7,8,9,10,11,12,15],[0,1,2,3,4,5,6,7,8,9,10,11,12,13,15],[0,1,2,3,4,5,6,7,8,9,10,11,12,13,14,15]]},\"selected\":{\"id\":\"2326\"},\"selection_policy\":{\"id\":\"2327\"}},\"id\":\"2296\",\"type\":\"ColumnDataSource\"},{\"attributes\":{\"source\":{\"id\":\"2289\"}},\"id\":\"2294\",\"type\":\"CDSView\"},{\"attributes\":{\"data\":{\"line_color\":[\"#DFDFDF\",\"#DFDFDF\",\"#DFDFDF\",\"#DFDFDF\",\"#DFDFDF\",\"#DFDFDF\",\"#DFDFDF\",\"#DFDFDF\",\"#DFDFDF\",\"#DFDFDF\",\"#DFDFDF\",\"#DFDFDF\",\"#DFDFDF\",\"#DFDFDF\",\"#DFDFDF\",\"#DFDFDF\",\"#DFDFDF\",\"#DFDFDF\",\"#DFDFDF\",\"#DFDFDF\",\"#DFDFDF\",\"#DFDFDF\",\"#DFDFDF\",\"#DFDFDF\",\"#DFDFDF\",\"#DFDFDF\",\"#DFDFDF\",\"#DFDFDF\"],\"u\":[0,0,1,1,14,14,14,14,2,2,3,3,3,11,11,11,11,4,5,6,6,7,7,15,15,8,9,12],\"v\":[1,14,2,14,2,11,12,13,3,11,4,5,11,5,10,12,13,5,6,7,15,8,9,9,10,9,10,13],\"weight\":[4,24,12,19,20,8,10,6,10,25,14,18,18,14,4,8,8,12,14,3,3,1,2,4,6,2,6,4],\"xs\":[[6,20],[6,127],[20,72],[20,127],[127,72],[127,157],[127,162],[127,144],[72,111],[72,157],[111,194],[111,178],[111,157],[157,178],[157,165],[157,162],[157,144],[194,178],[178,199],[199,205],[199,189],[205,207],[205,198],[189,198],[189,165],[207,198],[198,165],[162,144]],\"ys\":[[71,59],[71,97],[59,31],[59,97],[97,31],[97,84],[97,112],[97,112],[31,-8],[31,84],[-8,-8],[-8,38],[-8,84],[84,38],[84,97],[84,112],[84,112],[-8,38],[38,86],[86,96],[86,93],[96,106],[96,103],[93,103],[93,97],[106,103],[103,97],[112,112]]},\"selected\":{\"id\":\"2315\"},\"selection_policy\":{\"id\":\"2316\"}},\"id\":\"2271\",\"type\":\"ColumnDataSource\"},{\"attributes\":{\"align\":\"center\",\"text\":\"16\",\"width\":900},\"id\":\"2287\",\"type\":\"Div\"},{\"attributes\":{},\"id\":\"2253\",\"type\":\"HelpTool\"},{\"attributes\":{\"active_drag\":null,\"active_inspect\":\"auto\",\"active_multi\":null,\"active_scroll\":null,\"active_tap\":\"auto\",\"logo\":null,\"tools\":[{\"id\":\"2248\"},{\"id\":\"2249\"},{\"id\":\"2250\"},{\"id\":\"2251\"},{\"id\":\"2252\"},{\"id\":\"2253\"},{\"id\":\"2301\"}]},\"id\":\"2255\",\"type\":\"Toolbar\"},{\"attributes\":{\"line_color\":{\"value\":\"white\"},\"line_width\":{\"value\":6},\"xs\":{\"field\":\"xs\"},\"ys\":{\"field\":\"ys\"}},\"id\":\"2280\",\"type\":\"MultiLine\"},{\"attributes\":{\"align\":\"center\",\"text\":\"0\",\"width\":450},\"id\":\"2295\",\"type\":\"Div\"},{\"attributes\":{},\"id\":\"2313\",\"type\":\"Selection\"},{\"attributes\":{\"source\":{\"id\":\"2283\"},\"text_align\":\"center\",\"text_baseline\":\"middle\",\"text_color\":{\"value\":\"black\"},\"text_font_size\":{\"value\":\"13px\"},\"x\":{\"field\":\"x\"},\"y\":{\"field\":\"y\"}},\"id\":\"2284\",\"type\":\"LabelSet\"},{\"attributes\":{\"source\":{\"id\":\"2271\"}},\"id\":\"2277\",\"type\":\"CDSView\"},{\"attributes\":{\"data_source\":{\"id\":\"2271\"},\"glyph\":{\"id\":\"2273\"},\"hover_glyph\":{\"id\":\"2275\"},\"level\":\"underlay\",\"muted_glyph\":null,\"nonselection_glyph\":{\"id\":\"2274\"},\"selection_glyph\":null,\"view\":{\"id\":\"2277\"}},\"id\":\"2276\",\"type\":\"GlyphRenderer\"},{\"attributes\":{\"end\":224.085,\"start\":-11.085},\"id\":\"2232\",\"type\":\"Range1d\"},{\"attributes\":{\"fill_color\":{\"field\":\"fill_color\"},\"line_color\":{\"field\":\"line_color\"},\"line_width\":{\"field\":\"line_width\"},\"size\":{\"units\":\"screen\",\"value\":11},\"x\":{\"field\":\"x\"},\"y\":{\"field\":\"y\"}},\"id\":\"2268\",\"type\":\"Circle\"},{\"attributes\":{},\"id\":\"2309\",\"type\":\"BasicTickFormatter\"},{\"attributes\":{},\"id\":\"2317\",\"type\":\"Selection\"},{\"attributes\":{\"background_fill_color\":null,\"below\":[{\"id\":\"2240\"}],\"border_fill_color\":null,\"center\":[{\"id\":\"2243\"},{\"id\":\"2247\"},{\"id\":\"2284\"}],\"left\":[{\"id\":\"2244\"}],\"outline_line_color\":null,\"plot_width\":900,\"renderers\":[{\"id\":\"2269\"},{\"id\":\"2276\"},{\"id\":\"2281\"},{\"id\":\"2293\"}],\"title\":{\"id\":\"2230\"},\"toolbar\":{\"id\":\"2255\"},\"toolbar_location\":null,\"x_range\":{\"id\":\"2232\"},\"x_scale\":{\"id\":\"2236\"},\"y_range\":{\"id\":\"2234\"},\"y_scale\":{\"id\":\"2238\"}},\"id\":\"2229\",\"subtype\":\"Figure\",\"type\":\"Plot\"},{\"attributes\":{\"align\":\"center\",\"width\":450},\"id\":\"2288\",\"type\":\"Div\"},{\"attributes\":{\"source\":{\"id\":\"2278\"}},\"id\":\"2282\",\"type\":\"CDSView\"},{\"attributes\":{\"line_alpha\":{\"value\":0.1},\"line_cap\":\"round\",\"line_color\":{\"value\":\"#404040\"},\"line_width\":{\"value\":5},\"xs\":{\"field\":\"xs\"},\"ys\":{\"field\":\"ys\"}},\"id\":\"2292\",\"type\":\"MultiLine\"},{\"attributes\":{},\"id\":\"2236\",\"type\":\"LinearScale\"},{\"attributes\":{\"children\":[{\"id\":\"2295\"},{\"id\":\"2288\"}]},\"id\":\"2304\",\"type\":\"Row\"},{\"attributes\":{\"fill_color\":{\"field\":\"fill_color\"},\"line_color\":{\"field\":\"line_color\"},\"line_width\":{\"field\":\"line_width\"},\"size\":{\"units\":\"screen\",\"value\":11},\"x\":{\"field\":\"x\"},\"y\":{\"field\":\"y\"}},\"id\":\"2267\",\"type\":\"Circle\"},{\"attributes\":{\"line_color\":{\"value\":\"white\"},\"line_width\":{\"value\":6},\"xs\":{\"field\":\"xs\"},\"ys\":{\"field\":\"ys\"}},\"id\":\"2279\",\"type\":\"MultiLine\"},{\"attributes\":{},\"id\":\"2241\",\"type\":\"BasicTicker\"},{\"attributes\":{\"bottom_units\":\"screen\",\"fill_alpha\":0.5,\"fill_color\":\"lightgrey\",\"left_units\":\"screen\",\"level\":\"overlay\",\"line_alpha\":1.0,\"line_color\":\"black\",\"line_dash\":[4,4],\"line_width\":2,\"right_units\":\"screen\",\"top_units\":\"screen\"},\"id\":\"2254\",\"type\":\"BoxAnnotation\"},{\"attributes\":{},\"id\":\"2316\",\"type\":\"UnionRenderers\"},{\"attributes\":{},\"id\":\"2318\",\"type\":\"UnionRenderers\"},{\"attributes\":{\"axis\":{\"id\":\"2244\"},\"dimension\":1,\"grid_line_color\":null,\"ticker\":null},\"id\":\"2247\",\"type\":\"Grid\"},{\"attributes\":{\"button_type\":\"primary\",\"icon\":null,\"js_event_callbacks\":{\"button_click\":[{\"id\":\"2298\"}]},\"label\":\"Next\",\"max_width\":450,\"sizing_mode\":\"stretch_width\",\"width_policy\":\"fit\"},\"id\":\"2297\",\"type\":\"Button\"},{\"attributes\":{},\"id\":\"2238\",\"type\":\"LinearScale\"},{\"attributes\":{},\"id\":\"2327\",\"type\":\"UnionRenderers\"},{\"attributes\":{\"button_type\":\"primary\",\"icon\":null,\"js_event_callbacks\":{\"button_click\":[{\"id\":\"2300\"}]},\"label\":\"Previous\",\"max_width\":450,\"sizing_mode\":\"stretch_width\",\"width_policy\":\"fit\"},\"id\":\"2299\",\"type\":\"Button\"},{\"attributes\":{},\"id\":\"2314\",\"type\":\"UnionRenderers\"},{\"attributes\":{\"args\":{\"cost\":{\"id\":\"2295\"},\"done\":{\"id\":\"2288\"},\"edge_subset_src\":{\"id\":\"2289\"},\"k\":{\"id\":\"2287\"},\"n\":{\"id\":\"2286\"},\"nodes_src\":{\"id\":\"2265\"},\"source\":{\"id\":\"2296\"}},\"code\":\"/* Color Theme -- Using Google's Material Design Color System\\n   https://material.io/design/color/the-color-system.html */\\n\\n/** @constant {string} */\\nvar PRIMARY_COLOR = '#1565c0'\\n/** @constant {string} */\\nvar PRIMARY_LIGHT_COLOR = '#5e92f3'\\n/** @constant {string} */\\nvar PRIMARY_DARK_COLOR = '#003c8f'\\n/** @constant {string} */\\nvar SECONDARY_COLOR = '#d50000'\\n/** @constant {string} */\\nvar SECONDARY_LIGHT_COLOR = '#ff5131'\\n/** @constant {string} */\\nvar SECONDARY_DARK_COLOR = '#9b0000'\\n\\n// Grayscale\\n/** @constant {string} */\\nvar TERTIARY_COLOR = '#DFDFDF'\\n/**\\n *  Jupyter Notebook: 'white', Sphinx: '#FCFCFC'\\n *  @constant {string}\\n */\\nvar TERTIARY_LIGHT_COLOR = 'white'\\n/** @constant {string} */\\nvar TERTIARY_DARK_COLOR = '#404040'\\n/** @type {integer} */\\nvar iteration = 0\\n\\n\\n/**\\n * Increment iteration and update n Div.\\n */\\nfunction increment_iteration() {\\n    if ((parseInt(n.text) + 1) < parseInt(k.text)) {\\n        n.text = (parseInt(n.text) + 1).toString()\\n    }\\n    iteration = parseInt(n.text)\\n}\\n\\n/**\\n * Decrement iteration and update n Div.\\n */\\nfunction decrement_iteration() {\\n    if ((parseInt(n.text) - 1) >= 0) {\\n        n.text = (parseInt(n.text) - 1).toString()\\n    }\\n    iteration = parseInt(n.text)\\n}\\n\\n/**\\n * Update which nodes are highlighted given the current iteration.\\n */\\nfunction nodes_update() {\\n    var in_tree = source.data['nodes'][iteration]\\n\\n    for (let i = 0; i < nodes_src.data['line_color'].length ; i++) {\\n        if (in_tree.includes(i)) {\\n            nodes_src.data['fill_color'][i] = PRIMARY_DARK_COLOR\\n            nodes_src.data['line_color'][i] = PRIMARY_DARK_COLOR\\n        } else {\\n            nodes_src.data['fill_color'][i] = PRIMARY_LIGHT_COLOR\\n            nodes_src.data['line_color'][i] = PRIMARY_DARK_COLOR\\n        }\\n    }\\n\\n    nodes_src.change.emit()\\n}\\n\\n/**\\n * Update which subset of edges are highlighted given the current iteration.\\n */\\nfunction edge_subset_update() {\\n    edge_subset_src.data['xs'] = source.data['edge_xs'][iteration]\\n    edge_subset_src.data['ys'] = source.data['edge_ys'][iteration]\\n    edge_subset_src.change.emit()\\n}\\n\\n/**\\n * Update which swaps are updated given the current iteration\\n */\\nfunction swaps_update() {\\n    swaps_src.data['swaps_before_x'] = source.data['swaps_before_x'][iteration]\\n    swaps_src.data['swaps_before_y'] = source.data['swaps_before_y'][iteration]\\n    swaps_src.data['swaps_after_x'] = source.data['swaps_after_x'][iteration]\\n    swaps_src.data['swaps_after_y'] = source.data['swaps_after_y'][iteration]\\n    swaps_src.change.emit()\\n}\\n\\n/**\\n * Update which table is shown given the current iteration.\\n */\\nfunction table_update() {\\n    table_src.data = source.data['tables'][iteration]\\n}\\n\\n/**\\n * Update which cost is shown given the current iteration.\\n */\\nfunction cost_update() {\\n    cost.text = source.data['costs'][iteration].toFixed(1)\\n}\\n\\n/**\\n * Update done Div based on the current iteration.\\n */\\nfunction done_update() {\\n    if (iteration == parseInt(k.text) - 1) {\\n        done.text = \\\"done.\\\"\\n    } else {\\n        done.text = \\\"\\\"\\n    }\\n}\\n\\n// BEGIN FUNCTION CALLING\\nincrement_iteration()\\ndone_update()\\ncost_update()\\nedge_subset_update()\\nnodes_update()\\n\"},\"id\":\"2298\",\"type\":\"CustomJS\"},{\"attributes\":{},\"id\":\"2312\",\"type\":\"UnionRenderers\"},{\"attributes\":{},\"id\":\"2326\",\"type\":\"Selection\"},{\"attributes\":{},\"id\":\"2248\",\"type\":\"PanTool\"},{\"attributes\":{\"line_cap\":\"round\",\"line_color\":{\"value\":\"#404040\"},\"line_width\":{\"value\":5},\"xs\":{\"field\":\"xs\"},\"ys\":{\"field\":\"ys\"}},\"id\":\"2275\",\"type\":\"MultiLine\"},{\"attributes\":{},\"id\":\"2249\",\"type\":\"WheelZoomTool\"},{\"attributes\":{\"data\":{\"xs\":[],\"ys\":[]},\"selected\":{\"id\":\"2319\"},\"selection_policy\":{\"id\":\"2320\"}},\"id\":\"2289\",\"type\":\"ColumnDataSource\"},{\"attributes\":{\"args\":{\"cost\":{\"id\":\"2295\"},\"done\":{\"id\":\"2288\"},\"edge_subset_src\":{\"id\":\"2289\"},\"k\":{\"id\":\"2287\"},\"n\":{\"id\":\"2286\"},\"nodes_src\":{\"id\":\"2265\"},\"source\":{\"id\":\"2296\"}},\"code\":\"/* Color Theme -- Using Google's Material Design Color System\\n   https://material.io/design/color/the-color-system.html */\\n\\n/** @constant {string} */\\nvar PRIMARY_COLOR = '#1565c0'\\n/** @constant {string} */\\nvar PRIMARY_LIGHT_COLOR = '#5e92f3'\\n/** @constant {string} */\\nvar PRIMARY_DARK_COLOR = '#003c8f'\\n/** @constant {string} */\\nvar SECONDARY_COLOR = '#d50000'\\n/** @constant {string} */\\nvar SECONDARY_LIGHT_COLOR = '#ff5131'\\n/** @constant {string} */\\nvar SECONDARY_DARK_COLOR = '#9b0000'\\n\\n// Grayscale\\n/** @constant {string} */\\nvar TERTIARY_COLOR = '#DFDFDF'\\n/**\\n *  Jupyter Notebook: 'white', Sphinx: '#FCFCFC'\\n *  @constant {string}\\n */\\nvar TERTIARY_LIGHT_COLOR = 'white'\\n/** @constant {string} */\\nvar TERTIARY_DARK_COLOR = '#404040'\\n/** @type {integer} */\\nvar iteration = 0\\n\\n\\n/**\\n * Increment iteration and update n Div.\\n */\\nfunction increment_iteration() {\\n    if ((parseInt(n.text) + 1) < parseInt(k.text)) {\\n        n.text = (parseInt(n.text) + 1).toString()\\n    }\\n    iteration = parseInt(n.text)\\n}\\n\\n/**\\n * Decrement iteration and update n Div.\\n */\\nfunction decrement_iteration() {\\n    if ((parseInt(n.text) - 1) >= 0) {\\n        n.text = (parseInt(n.text) - 1).toString()\\n    }\\n    iteration = parseInt(n.text)\\n}\\n\\n/**\\n * Update which nodes are highlighted given the current iteration.\\n */\\nfunction nodes_update() {\\n    var in_tree = source.data['nodes'][iteration]\\n\\n    for (let i = 0; i < nodes_src.data['line_color'].length ; i++) {\\n        if (in_tree.includes(i)) {\\n            nodes_src.data['fill_color'][i] = PRIMARY_DARK_COLOR\\n            nodes_src.data['line_color'][i] = PRIMARY_DARK_COLOR\\n        } else {\\n            nodes_src.data['fill_color'][i] = PRIMARY_LIGHT_COLOR\\n            nodes_src.data['line_color'][i] = PRIMARY_DARK_COLOR\\n        }\\n    }\\n\\n    nodes_src.change.emit()\\n}\\n\\n/**\\n * Update which subset of edges are highlighted given the current iteration.\\n */\\nfunction edge_subset_update() {\\n    edge_subset_src.data['xs'] = source.data['edge_xs'][iteration]\\n    edge_subset_src.data['ys'] = source.data['edge_ys'][iteration]\\n    edge_subset_src.change.emit()\\n}\\n\\n/**\\n * Update which swaps are updated given the current iteration\\n */\\nfunction swaps_update() {\\n    swaps_src.data['swaps_before_x'] = source.data['swaps_before_x'][iteration]\\n    swaps_src.data['swaps_before_y'] = source.data['swaps_before_y'][iteration]\\n    swaps_src.data['swaps_after_x'] = source.data['swaps_after_x'][iteration]\\n    swaps_src.data['swaps_after_y'] = source.data['swaps_after_y'][iteration]\\n    swaps_src.change.emit()\\n}\\n\\n/**\\n * Update which table is shown given the current iteration.\\n */\\nfunction table_update() {\\n    table_src.data = source.data['tables'][iteration]\\n}\\n\\n/**\\n * Update which cost is shown given the current iteration.\\n */\\nfunction cost_update() {\\n    cost.text = source.data['costs'][iteration].toFixed(1)\\n}\\n\\n/**\\n * Update done Div based on the current iteration.\\n */\\nfunction done_update() {\\n    if (iteration == parseInt(k.text) - 1) {\\n        done.text = \\\"done.\\\"\\n    } else {\\n        done.text = \\\"\\\"\\n    }\\n}\\n\\n// BEGIN FUNCTION CALLING\\ndecrement_iteration()\\ndone_update()\\ncost_update()\\nedge_subset_update()\\nnodes_update()\\n\"},\"id\":\"2300\",\"type\":\"CustomJS\"},{\"attributes\":{\"end\":122.2,\"start\":-18.200000000000003},\"id\":\"2234\",\"type\":\"Range1d\"},{\"attributes\":{\"callback\":null,\"renderers\":[{\"id\":\"2269\"}],\"tooltips\":[[\"Index\",\"$index\"],[\"Name\",\"@name\"]]},\"id\":\"2301\",\"type\":\"HoverTool\"},{\"attributes\":{\"source\":{\"id\":\"2265\"}},\"id\":\"2270\",\"type\":\"CDSView\"},{\"attributes\":{\"line_cap\":\"round\",\"line_color\":{\"field\":\"line_color\"},\"line_width\":{\"value\":5},\"xs\":{\"field\":\"xs\"},\"ys\":{\"field\":\"ys\"}},\"id\":\"2274\",\"type\":\"MultiLine\"},{\"attributes\":{\"formatter\":{\"id\":\"2309\"},\"ticker\":{\"id\":\"2241\"},\"visible\":false},\"id\":\"2240\",\"type\":\"LinearAxis\"},{\"attributes\":{\"overlay\":{\"id\":\"2254\"}},\"id\":\"2250\",\"type\":\"BoxZoomTool\"},{\"attributes\":{\"data\":{\"fill_color\":[\"#5e92f3\",\"#5e92f3\",\"#5e92f3\",\"#5e92f3\",\"#5e92f3\",\"#5e92f3\",\"#5e92f3\",\"#5e92f3\",\"#5e92f3\",\"#5e92f3\",\"#5e92f3\",\"#5e92f3\",\"#5e92f3\",\"#5e92f3\",\"#5e92f3\",\"#5e92f3\"],\"line_color\":[\"#003c8f\",\"#003c8f\",\"#003c8f\",\"#003c8f\",\"#003c8f\",\"#003c8f\",\"#003c8f\",\"#003c8f\",\"#003c8f\",\"#003c8f\",\"#003c8f\",\"#003c8f\",\"#003c8f\",\"#003c8f\",\"#003c8f\",\"#003c8f\"],\"line_width\":[3,3,3,3,3,3,3,3,3,3,3,3,3,3,3,3],\"x\":[6,20,72,111,194,178,199,205,207,198,165,157,162,144,127,189],\"y\":[71,59,31,-8,-8,38,86,96,106,103,97,84,112,112,97,93]},\"selected\":{\"id\":\"2313\"},\"selection_policy\":{\"id\":\"2314\"}},\"id\":\"2265\",\"type\":\"ColumnDataSource\"},{\"attributes\":{},\"id\":\"2319\",\"type\":\"Selection\"},{\"attributes\":{\"data_source\":{\"id\":\"2265\"},\"glyph\":{\"id\":\"2267\"},\"hover_glyph\":null,\"muted_glyph\":null,\"nonselection_glyph\":{\"id\":\"2268\"},\"selection_glyph\":null,\"view\":{\"id\":\"2270\"}},\"id\":\"2269\",\"type\":\"GlyphRenderer\"},{\"attributes\":{\"data_source\":{\"id\":\"2289\"},\"glyph\":{\"id\":\"2291\"},\"hover_glyph\":null,\"level\":\"underlay\",\"muted_glyph\":null,\"nonselection_glyph\":{\"id\":\"2292\"},\"selection_glyph\":null,\"view\":{\"id\":\"2294\"}},\"id\":\"2293\",\"type\":\"GlyphRenderer\"},{\"attributes\":{\"text\":\"\"},\"id\":\"2230\",\"type\":\"Title\"},{\"attributes\":{},\"id\":\"2252\",\"type\":\"ResetTool\"},{\"attributes\":{\"line_cap\":\"round\",\"line_color\":{\"field\":\"line_color\"},\"line_width\":{\"value\":5},\"xs\":{\"field\":\"xs\"},\"ys\":{\"field\":\"ys\"}},\"id\":\"2273\",\"type\":\"MultiLine\"},{\"attributes\":{\"line_cap\":\"round\",\"line_color\":{\"value\":\"#404040\"},\"line_width\":{\"value\":5},\"xs\":{\"field\":\"xs\"},\"ys\":{\"field\":\"ys\"}},\"id\":\"2291\",\"type\":\"MultiLine\"},{\"attributes\":{},\"id\":\"2315\",\"type\":\"Selection\"},{\"attributes\":{},\"id\":\"2320\",\"type\":\"UnionRenderers\"},{\"attributes\":{\"align\":\"center\",\"text\":\"0\",\"width\":900},\"id\":\"2286\",\"type\":\"Div\"},{\"attributes\":{\"children\":[{\"id\":\"2299\"},{\"id\":\"2297\"}],\"max_width\":900,\"sizing_mode\":\"stretch_both\"},\"id\":\"2303\",\"type\":\"Row\"},{\"attributes\":{\"data_source\":{\"id\":\"2278\"},\"glyph\":{\"id\":\"2279\"},\"hover_glyph\":null,\"level\":\"guide\",\"muted_glyph\":null,\"nonselection_glyph\":{\"id\":\"2280\"},\"selection_glyph\":null,\"view\":{\"id\":\"2282\"}},\"id\":\"2281\",\"type\":\"GlyphRenderer\"},{\"attributes\":{},\"id\":\"2245\",\"type\":\"BasicTicker\"},{\"attributes\":{},\"id\":\"2251\",\"type\":\"SaveTool\"},{\"attributes\":{\"data\":{\"xs\":[[11.867393549830293,14.1326064501697],[64.2132081933475,68.78679180665253],[43.98457472802465,48.01542527197538],[71.31392773909235,75.68607226090765],[100.9065151137992,98.09348488620083],[140.5887402418824,143.4112597581176],[142.37870743870653,146.62129256129347],[134.3832167600553,136.6167832399447],[89.9311343589464,93.06886564105363],[112.57004046214576,116.42995953785424],[150.1483,154.85170000000002],[142.6336759201498,146.3663240798502],[133.03894314211007,134.96105685788993],[166.61006419357236,168.38993580642764],[160.24329823001975,161.75670176998028],[159.25243123412935,159.74756876587068],[151.1019039619186,149.89809603808138],[186.69937892443528,185.30062107556475],[187.6421179461765,189.35788205382346],[201.25793580143863,202.74206419856134],[195.23521488209917,192.7647851179008],[205.72359827057616,206.2764017294238],[202.54591042736908,200.45408957263095],[192.51616586095076,194.4838341390492],[178.54133338379128,175.4586666162087],[203.96931436315347,201.03068563684658],[183.03645249636594,179.96354750363403],[154.5678,151.4322]],\"ys\":[[65.9708055287169,64.02919447128312],[83.50862324815732,84.4913767518427],[46.085228992602126,43.914771007397874],[77.22363788864963,78.77636211135038],[65.68781813655903,62.31218186344098],[91.11154589518429,89.88845410481571],[103.59087461658854,105.40912538341149],[103.51460302357822,105.48539697642181],[13.06886564105362,9.93113435894638],[56.296613464632046,58.703386535367954],[-7.999999999999998,-7.999999999999998],[13.718643169058069,16.281356830941924],[36.07788628422017,39.922113715779815],[62.949383195031956,59.05061680496806],[89.27035962378204,91.72964037621796],[96.61361491112429,99.38638508887571],[96.70359146663688,99.29640853336312],[12.989285592248606,17.010714407751394],[60.03912673411776,63.960873265882256],[89.76322633573106,92.23677366426892],[88.63534958253058,90.36465041746942],[99.61799135288078,102.38200864711922],[98.45408957263092,100.54591042736905],[96.90685095661199,99.09314904338801],[94.74311110270146,95.25688889729855],[104.98977145438448,104.01022854561555],[100.27935499933926,99.72064500066074],[112.00000000000001,112.00000000000001]]},\"selected\":{\"id\":\"2317\"},\"selection_policy\":{\"id\":\"2318\"}},\"id\":\"2278\",\"type\":\"ColumnDataSource\"},{\"attributes\":{},\"id\":\"2311\",\"type\":\"Selection\"},{\"attributes\":{\"data\":{\"text\":[4,24,12,19,20,8,10,6,10,25,14,18,18,14,4,8,8,12,14,3,3,1,2,4,6,2,6,4],\"x\":{\"__ndarray__\":\"/v//////KUAAAAAAAKBQQAEAAAAAAEdAAAAAAABgUkAAAAAAAOBYQAAAAAAAwGFAAAAAAAAQYkAAAAAAAPBgQAAAAAAA4FZAAAAAAACgXEABAAAAABBjQAAAAAAAEGJAAAAAAADAYEAAAAAAAPBkQAAAAAAAIGRAAAAAAADwY0D//////89iQAAAAAAAQGdAAAAAAACQZ0D//////z9pQAAAAAAAQGhAAAAAAADAaUAAAAAAADBpQAAAAAAAMGhA//////8fZkABAAAAAFBpQAAAAAAAsGZAAAAAAAAgY0A=\",\"dtype\":\"float64\",\"order\":\"little\",\"shape\":[28]},\"y\":{\"__ndarray__\":\"AAAAAABAUEAAAAAAAABVQAAAAAAAgEZAAAAAAACAU0AAAAAAAABQQAAAAAAAoFZAAAAAAAAgWkAAAAAAACBaQAAAAAAAACdAAAAAAADATED+//////8fwAAAAAAAAC5AAAAAAAAAQ0ACAAAAAIBOQAAAAAAAoFZAAAAAAACAWEAAAAAAAIBYQAAAAAAAAC5AAgAAAAAAT0AAAAAAAMBWQAAAAAAAYFZAAAAAAABAWUD//////99YQAAAAAAAgFhAAAAAAADAV0AAAAAAACBaQAAAAAAAAFlAAQAAAAAAXEA=\",\"dtype\":\"float64\",\"order\":\"little\",\"shape\":[28]}},\"selected\":{\"id\":\"2311\"},\"selection_policy\":{\"id\":\"2312\"}},\"id\":\"2283\",\"type\":\"ColumnDataSource\"},{\"attributes\":{\"axis\":{\"id\":\"2240\"},\"grid_line_color\":null,\"ticker\":null},\"id\":\"2243\",\"type\":\"Grid\"},{\"attributes\":{\"formatter\":{\"id\":\"2307\"},\"ticker\":{\"id\":\"2245\"},\"visible\":false},\"id\":\"2244\",\"type\":\"LinearAxis\"}],\"root_ids\":[\"2328\"]},\"title\":\"Bokeh Application\",\"version\":\"2.2.3\"}};\n",
       "  var render_items = [{\"docid\":\"b41ebdb7-4c08-48a7-9750-cb5f984ba286\",\"root_ids\":[\"2328\"],\"roots\":{\"2328\":\"912bc2e8-28a0-42d3-bba2-143153eb4663\"}}];\n",
       "  root.Bokeh.embed.embed_items_notebook(docs_json, render_items);\n",
       "\n",
       "  }\n",
       "  if (root.Bokeh !== undefined) {\n",
       "    embed_document(root);\n",
       "  } else {\n",
       "    var attempts = 0;\n",
       "    var timer = setInterval(function(root) {\n",
       "      if (root.Bokeh !== undefined) {\n",
       "        clearInterval(timer);\n",
       "        embed_document(root);\n",
       "      } else {\n",
       "        attempts++;\n",
       "        if (attempts > 100) {\n",
       "          clearInterval(timer);\n",
       "          console.log(\"Bokeh: ERROR: Unable to run BokehJS code because BokehJS library is missing\");\n",
       "        }\n",
       "      }\n",
       "    }, 10, root)\n",
       "  }\n",
       "})(window);"
      ],
      "application/vnd.bokehjs_exec.v0+json": ""
     },
     "metadata": {
      "application/vnd.bokehjs_exec.v0+json": {
       "id": "2328"
      }
     },
     "output_type": "display_data"
    }
   ],
   "source": [
    "show(vl.mst_algorithm_plot(G, algorithm='prims', i=0, width=900, height=600))"
   ]
  },
  {
   "cell_type": "markdown",
   "metadata": {},
   "source": [
    "Now we turn to another algorithm which is called Kruskal's\n",
    "Algorithm. This is an example of a so- called Greedy Algorithm,\n",
    "i.e. an algorithm that always takes the step that \"looks best\"\n",
    "currently. Greedy algorithms are widely used in computer science\n",
    "beyond just solving the MST. Kruskal's algorithm works as follows:\n",
    "\n",
    "1. Begin with the cheapest edge (break ties arbitrarily).\n",
    "2. At each step, add the cheapest edge not already in the system that does not create a cycle, or a loop in the system.\n",
    "3. Continue adding edges until you get a spanning tree."
   ]
  },
  {
   "cell_type": "code",
   "execution_count": 7,
   "metadata": {},
   "outputs": [
    {
     "data": {
      "text/html": [
       "\n",
       "\n",
       "\n",
       "\n",
       "\n",
       "\n",
       "  <div class=\"bk-root\" id=\"1356e47c-26ca-49f3-8d1a-9217967ec0b8\" data-root-id=\"2137\"></div>\n"
      ]
     },
     "metadata": {},
     "output_type": "display_data"
    },
    {
     "data": {
      "application/javascript": [
       "(function(root) {\n",
       "  function embed_document(root) {\n",
       "    \n",
       "  var docs_json = {\"b1f232c3-1871-48d4-a4c2-6d780320ee45\":{\"roots\":{\"references\":[{\"attributes\":{\"children\":[[{\"id\":\"2061\"},0,0],[{\"id\":\"2121\"},1,0]]},\"id\":\"2137\",\"type\":\"GridBox\"},{\"attributes\":{\"axis\":{\"id\":\"2072\"},\"grid_line_color\":null,\"ticker\":null},\"id\":\"2075\",\"type\":\"Grid\"},{\"attributes\":{\"data_source\":{\"id\":\"2097\"},\"glyph\":{\"id\":\"2099\"},\"hover_glyph\":null,\"muted_glyph\":null,\"nonselection_glyph\":{\"id\":\"2100\"},\"selection_glyph\":null,\"view\":{\"id\":\"2102\"}},\"id\":\"2101\",\"type\":\"GlyphRenderer\"},{\"attributes\":{\"source\":{\"id\":\"2097\"}},\"id\":\"2102\",\"type\":\"CDSView\"},{\"attributes\":{\"overlay\":{\"id\":\"2086\"}},\"id\":\"2082\",\"type\":\"BoxZoomTool\"},{\"attributes\":{},\"id\":\"2131\",\"type\":\"Selection\"},{\"attributes\":{},\"id\":\"2130\",\"type\":\"UnionRenderers\"},{\"attributes\":{\"children\":[{\"id\":\"2118\"}]},\"id\":\"2121\",\"type\":\"Row\"},{\"attributes\":{},\"id\":\"2083\",\"type\":\"SaveTool\"},{\"attributes\":{},\"id\":\"2132\",\"type\":\"UnionRenderers\"},{\"attributes\":{\"fill_color\":{\"field\":\"fill_color\"},\"line_color\":{\"field\":\"line_color\"},\"line_width\":{\"field\":\"line_width\"},\"size\":{\"units\":\"screen\",\"value\":11},\"x\":{\"field\":\"x\"},\"y\":{\"field\":\"y\"}},\"id\":\"2099\",\"type\":\"Circle\"},{\"attributes\":{},\"id\":\"2084\",\"type\":\"ResetTool\"},{\"attributes\":{\"fill_color\":{\"field\":\"fill_color\"},\"line_color\":{\"field\":\"line_color\"},\"line_width\":{\"field\":\"line_width\"},\"size\":{\"units\":\"screen\",\"value\":11},\"x\":{\"field\":\"x\"},\"y\":{\"field\":\"y\"}},\"id\":\"2100\",\"type\":\"Circle\"},{\"attributes\":{},\"id\":\"2133\",\"type\":\"Selection\"},{\"attributes\":{},\"id\":\"2085\",\"type\":\"HelpTool\"},{\"attributes\":{\"formatter\":{\"id\":\"2125\"},\"ticker\":{\"id\":\"2077\"},\"visible\":false},\"id\":\"2076\",\"type\":\"LinearAxis\"},{\"attributes\":{},\"id\":\"2134\",\"type\":\"UnionRenderers\"},{\"attributes\":{},\"id\":\"2081\",\"type\":\"WheelZoomTool\"},{\"attributes\":{},\"id\":\"2135\",\"type\":\"Selection\"},{\"attributes\":{},\"id\":\"2128\",\"type\":\"Selection\"},{\"attributes\":{\"active_drag\":null,\"active_inspect\":\"auto\",\"active_multi\":null,\"active_scroll\":null,\"active_tap\":\"auto\",\"logo\":null,\"tools\":[{\"id\":\"2080\"},{\"id\":\"2081\"},{\"id\":\"2082\"},{\"id\":\"2083\"},{\"id\":\"2084\"},{\"id\":\"2085\"},{\"id\":\"2119\"}]},\"id\":\"2087\",\"type\":\"Toolbar\"},{\"attributes\":{\"formatter\":{\"id\":\"2123\"},\"ticker\":{\"id\":\"2073\"},\"visible\":false},\"id\":\"2072\",\"type\":\"LinearAxis\"},{\"attributes\":{\"axis\":{\"id\":\"2076\"},\"dimension\":1,\"grid_line_color\":null,\"ticker\":null},\"id\":\"2079\",\"type\":\"Grid\"},{\"attributes\":{\"source\":{\"id\":\"2103\"}},\"id\":\"2109\",\"type\":\"CDSView\"},{\"attributes\":{\"data\":{\"xs\":[[11.301090324745442,14.698909675254566],[63.069812290021225,69.93018770997878],[42.976862092036946,49.02313790796307],[70.22089160863857,76.77910839136149],[101.60977267069882,97.39022732930124],[139.8831103628236,144.11688963717637],[141.31806115805978,147.68193884194022],[133.82482514008294,137.17517485991706],[89.14670153841959,93.85329846158044],[111.6050606932186,117.3949393067814],[148.97244999999998,156.02755],[141.7005138802247,147.2994861197753],[132.55841471316512,135.44158528683488],[166.16509629035858,168.83490370964145],[159.86494734502958,162.13505265497042],[159.128646851194,159.87135314880598],[151.4028559428779,149.5971440571221],[187.04906838665292,184.9509316133471],[187.21317691926478,189.78682308073522],[200.88690370215798,203.11309629784205],[195.85282232314876,192.14717767685121],[205.58539740586426,206.41460259413577],[203.06886564105358,199.9311343589464],[192.02424879142615,194.9757512085738],[179.31200007568697,174.68799992431306],[204.7039715447302,200.29602845526986],[183.80467874454894,179.19532125545106],[155.3517,150.6483]],\"ys\":[[66.45620829307533,63.543791706924665],[83.26293487223596,84.73706512776401],[46.62784348890318,43.372156511096804],[76.83545683297443,79.16454316702556],[66.53172720483855,61.46827279516147],[91.41731884277647,89.58268115722356],[103.13631192488276,105.86368807511724],[103.0219045353673,105.9780954646327],[13.85329846158043,9.146701538419578],[55.694920196948075,59.305079803051925],[-7.999999999999998,-7.999999999999998],[13.077964753587104,16.92203524641289],[35.11682942633026,40.883170573669744],[63.92407479254794,58.07592520745206],[88.65553943567308,92.34446056432695],[95.92042236668642,100.07957763331359],[96.05538719995533,99.9446128000447],[11.98392838837291,18.016071611627098],[59.05869010117662,64.94130989882336],[89.14483950359659,92.85516049640341],[88.20302437379587,90.79697562620413],[98.9269870293212,103.07301297067883],[97.93113435894641,101.0688656410536],[96.360276434918,99.63972356508202],[94.6146666540522,95.38533334594783],[105.23465718157672,103.76534281842328],[100.41903249900889,99.58096750099111],[112.00000000000001,112.00000000000001]]},\"selected\":{\"id\":\"2135\"},\"selection_policy\":{\"id\":\"2134\"}},\"id\":\"2110\",\"type\":\"ColumnDataSource\"},{\"attributes\":{\"line_cap\":\"round\",\"line_color\":{\"field\":\"line_color\"},\"line_width\":{\"value\":5},\"xs\":{\"field\":\"xs\"},\"ys\":{\"field\":\"ys\"}},\"id\":\"2105\",\"type\":\"MultiLine\"},{\"attributes\":{\"data\":{\"text\":[4,24,12,19,20,8,10,6,10,25,14,18,18,14,4,8,8,12,14,3,3,1,2,4,6,2,6,4],\"x\":{\"__ndarray__\":\"AgAAAAAAKkAAAAAAAKBQQAEAAAAAAEdAAgAAAABgUkACAAAAAOBYQP//////v2FAAAAAAAAQYkAAAAAAAPBgQAAAAAAA4FZAAAAAAACgXED//////w9jQAAAAAAAEGJAAAAAAADAYEAAAAAAAPBkQAAAAAAAIGRAAAAAAADwY0AAAAAAANBiQAEAAAAAQGdAAAAAAACQZ0AAAAAAAEBpQAAAAAAAQGhAAQAAAADAaUAAAAAAADBpQP//////L2hAAAAAAAAgZkABAAAAAFBpQAAAAAAAsGZAAAAAAAAgY0A=\",\"dtype\":\"float64\",\"order\":\"little\",\"shape\":[28]},\"y\":{\"__ndarray__\":\"AAAAAABAUED///////9UQAAAAAAAgEZA//////9/U0AAAAAAAABQQAEAAAAAoFZAAAAAAAAgWkAAAAAAACBaQAAAAAAAACdAAAAAAADATED+//////8fwAAAAAAAAC5AAAAAAAAAQ0ACAAAAAIBOQAEAAAAAoFZAAQAAAACAWEABAAAAAIBYQAAAAAAAAC5AAAAAAAAAT0AAAAAAAMBWQAAAAAAAYFZAAAAAAABAWUABAAAAAOBYQAEAAAAAgFhAAQAAAADAV0AAAAAAACBaQAAAAAAAAFlAAQAAAAAAXEA=\",\"dtype\":\"float64\",\"order\":\"little\",\"shape\":[28]}},\"selected\":{\"id\":\"2128\"},\"selection_policy\":{\"id\":\"2127\"}},\"id\":\"2115\",\"type\":\"ColumnDataSource\"},{\"attributes\":{},\"id\":\"2070\",\"type\":\"LinearScale\"},{\"attributes\":{},\"id\":\"2073\",\"type\":\"BasicTicker\"},{\"attributes\":{\"data_source\":{\"id\":\"2110\"},\"glyph\":{\"id\":\"2111\"},\"hover_glyph\":null,\"level\":\"guide\",\"muted_glyph\":null,\"nonselection_glyph\":{\"id\":\"2112\"},\"selection_glyph\":null,\"view\":{\"id\":\"2114\"}},\"id\":\"2113\",\"type\":\"GlyphRenderer\"},{\"attributes\":{\"line_color\":{\"value\":\"white\"},\"line_width\":{\"value\":6},\"xs\":{\"field\":\"xs\"},\"ys\":{\"field\":\"ys\"}},\"id\":\"2111\",\"type\":\"MultiLine\"},{\"attributes\":{\"source\":{\"id\":\"2110\"}},\"id\":\"2114\",\"type\":\"CDSView\"},{\"attributes\":{\"data\":{\"fill_color\":[\"#5e92f3\",\"#5e92f3\",\"#5e92f3\",\"#5e92f3\",\"#5e92f3\",\"#5e92f3\",\"#5e92f3\",\"#5e92f3\",\"#5e92f3\",\"#5e92f3\",\"#5e92f3\",\"#5e92f3\",\"#5e92f3\",\"#5e92f3\",\"#5e92f3\",\"#5e92f3\"],\"line_color\":[\"#003c8f\",\"#003c8f\",\"#003c8f\",\"#003c8f\",\"#003c8f\",\"#003c8f\",\"#003c8f\",\"#003c8f\",\"#003c8f\",\"#003c8f\",\"#003c8f\",\"#003c8f\",\"#003c8f\",\"#003c8f\",\"#003c8f\",\"#003c8f\"],\"line_width\":[3,3,3,3,3,3,3,3,3,3,3,3,3,3,3,3],\"x\":[6,20,72,111,194,178,199,205,207,198,165,157,162,144,127,189],\"y\":[71,59,31,-8,-8,38,86,96,106,103,97,84,112,112,97,93]},\"selected\":{\"id\":\"2131\"},\"selection_policy\":{\"id\":\"2130\"}},\"id\":\"2097\",\"type\":\"ColumnDataSource\"},{\"attributes\":{\"line_cap\":\"round\",\"line_color\":{\"field\":\"line_color\"},\"line_width\":{\"value\":5},\"xs\":{\"field\":\"xs\"},\"ys\":{\"field\":\"ys\"}},\"id\":\"2106\",\"type\":\"MultiLine\"},{\"attributes\":{\"line_color\":{\"value\":\"white\"},\"line_width\":{\"value\":6},\"xs\":{\"field\":\"xs\"},\"ys\":{\"field\":\"ys\"}},\"id\":\"2112\",\"type\":\"MultiLine\"},{\"attributes\":{\"background_fill_color\":null,\"below\":[{\"id\":\"2072\"}],\"border_fill_color\":null,\"center\":[{\"id\":\"2075\"},{\"id\":\"2079\"},{\"id\":\"2116\"}],\"left\":[{\"id\":\"2076\"}],\"outline_line_color\":null,\"plot_height\":400,\"renderers\":[{\"id\":\"2101\"},{\"id\":\"2108\"},{\"id\":\"2113\"}],\"title\":{\"id\":\"2062\"},\"toolbar\":{\"id\":\"2087\"},\"toolbar_location\":null,\"x_range\":{\"id\":\"2064\"},\"x_scale\":{\"id\":\"2068\"},\"y_range\":{\"id\":\"2066\"},\"y_scale\":{\"id\":\"2070\"}},\"id\":\"2061\",\"subtype\":\"Figure\",\"type\":\"Plot\"},{\"attributes\":{\"data_source\":{\"id\":\"2103\"},\"glyph\":{\"id\":\"2105\"},\"hover_glyph\":{\"id\":\"2107\"},\"level\":\"underlay\",\"muted_glyph\":null,\"nonselection_glyph\":{\"id\":\"2106\"},\"selection_glyph\":null,\"view\":{\"id\":\"2109\"}},\"id\":\"2108\",\"type\":\"GlyphRenderer\"},{\"attributes\":{\"source\":{\"id\":\"2115\"},\"text_align\":\"center\",\"text_baseline\":\"middle\",\"text_color\":{\"value\":\"black\"},\"text_font_size\":{\"value\":\"13px\"},\"x\":{\"field\":\"x\"},\"y\":{\"field\":\"y\"}},\"id\":\"2116\",\"type\":\"LabelSet\"},{\"attributes\":{},\"id\":\"2080\",\"type\":\"PanTool\"},{\"attributes\":{\"bottom_units\":\"screen\",\"fill_alpha\":0.5,\"fill_color\":\"lightgrey\",\"left_units\":\"screen\",\"level\":\"overlay\",\"line_alpha\":1.0,\"line_color\":\"black\",\"line_dash\":[4,4],\"line_width\":2,\"right_units\":\"screen\",\"top_units\":\"screen\"},\"id\":\"2086\",\"type\":\"BoxAnnotation\"},{\"attributes\":{\"callback\":null,\"renderers\":[{\"id\":\"2101\"}],\"tooltips\":[[\"Index\",\"$index\"],[\"Name\",\"@name\"]]},\"id\":\"2119\",\"type\":\"HoverTool\"},{\"attributes\":{\"end\":122.2,\"start\":-18.200000000000003},\"id\":\"2066\",\"type\":\"Range1d\"},{\"attributes\":{},\"id\":\"2125\",\"type\":\"BasicTickFormatter\"},{\"attributes\":{},\"id\":\"2077\",\"type\":\"BasicTicker\"},{\"attributes\":{\"data\":{\"line_color\":[\"#DFDFDF\",\"#DFDFDF\",\"#DFDFDF\",\"#DFDFDF\",\"#DFDFDF\",\"#DFDFDF\",\"#DFDFDF\",\"#DFDFDF\",\"#DFDFDF\",\"#DFDFDF\",\"#DFDFDF\",\"#DFDFDF\",\"#DFDFDF\",\"#DFDFDF\",\"#DFDFDF\",\"#DFDFDF\",\"#DFDFDF\",\"#DFDFDF\",\"#DFDFDF\",\"#DFDFDF\",\"#DFDFDF\",\"#DFDFDF\",\"#DFDFDF\",\"#DFDFDF\",\"#DFDFDF\",\"#DFDFDF\",\"#DFDFDF\",\"#DFDFDF\"],\"u\":[0,0,1,1,14,14,14,14,2,2,3,3,3,11,11,11,11,4,5,6,6,7,7,15,15,8,9,12],\"v\":[1,14,2,14,2,11,12,13,3,11,4,5,11,5,10,12,13,5,6,7,15,8,9,9,10,9,10,13],\"weight\":[4,24,12,19,20,8,10,6,10,25,14,18,18,14,4,8,8,12,14,3,3,1,2,4,6,2,6,4],\"xs\":[[6,20],[6,127],[20,72],[20,127],[127,72],[127,157],[127,162],[127,144],[72,111],[72,157],[111,194],[111,178],[111,157],[157,178],[157,165],[157,162],[157,144],[194,178],[178,199],[199,205],[199,189],[205,207],[205,198],[189,198],[189,165],[207,198],[198,165],[162,144]],\"ys\":[[71,59],[71,97],[59,31],[59,97],[97,31],[97,84],[97,112],[97,112],[31,-8],[31,84],[-8,-8],[-8,38],[-8,84],[84,38],[84,97],[84,112],[84,112],[-8,38],[38,86],[86,96],[86,93],[96,106],[96,103],[93,103],[93,97],[106,103],[103,97],[112,112]]},\"selected\":{\"id\":\"2133\"},\"selection_policy\":{\"id\":\"2132\"}},\"id\":\"2103\",\"type\":\"ColumnDataSource\"},{\"attributes\":{},\"id\":\"2068\",\"type\":\"LinearScale\"},{\"attributes\":{\"align\":\"center\",\"width\":300},\"id\":\"2118\",\"type\":\"Div\"},{\"attributes\":{},\"id\":\"2123\",\"type\":\"BasicTickFormatter\"},{\"attributes\":{},\"id\":\"2127\",\"type\":\"UnionRenderers\"},{\"attributes\":{\"text\":\"\"},\"id\":\"2062\",\"type\":\"Title\"},{\"attributes\":{\"end\":224.085,\"start\":-11.085},\"id\":\"2064\",\"type\":\"Range1d\"},{\"attributes\":{\"line_cap\":\"round\",\"line_color\":{\"value\":\"#404040\"},\"line_width\":{\"value\":5},\"xs\":{\"field\":\"xs\"},\"ys\":{\"field\":\"ys\"}},\"id\":\"2107\",\"type\":\"MultiLine\"}],\"root_ids\":[\"2137\"]},\"title\":\"Bokeh Application\",\"version\":\"2.2.3\"}};\n",
       "  var render_items = [{\"docid\":\"b1f232c3-1871-48d4-a4c2-6d780320ee45\",\"root_ids\":[\"2137\"],\"roots\":{\"2137\":\"1356e47c-26ca-49f3-8d1a-9217967ec0b8\"}}];\n",
       "  root.Bokeh.embed.embed_items_notebook(docs_json, render_items);\n",
       "\n",
       "  }\n",
       "  if (root.Bokeh !== undefined) {\n",
       "    embed_document(root);\n",
       "  } else {\n",
       "    var attempts = 0;\n",
       "    var timer = setInterval(function(root) {\n",
       "      if (root.Bokeh !== undefined) {\n",
       "        clearInterval(timer);\n",
       "        embed_document(root);\n",
       "      } else {\n",
       "        attempts++;\n",
       "        if (attempts > 100) {\n",
       "          clearInterval(timer);\n",
       "          console.log(\"Bokeh: ERROR: Unable to run BokehJS code because BokehJS library is missing\");\n",
       "        }\n",
       "      }\n",
       "    }, 10, root)\n",
       "  }\n",
       "})(window);"
      ],
      "application/vnd.bokehjs_exec.v0+json": ""
     },
     "metadata": {
      "application/vnd.bokehjs_exec.v0+json": {
       "id": "2137"
      }
     },
     "output_type": "display_data"
    }
   ],
   "source": [
    "show(vl.tree_plot(G, tree=[], width=600))"
   ]
  },
  {
   "cell_type": "markdown",
   "metadata": {},
   "source": [
    "**Q7:** Run the first 5 iterations of this algorithm. Show your work: indicate the order in which you add the edges and also indicate (differently) any edges that you considered adding (but decided not to because they created a cycle or loop).\n",
    "\n",
    "**A:** <font color='blue'> Add edges in this order: (7,8), (9,8), **(9,7)**, (7,6), (15,6), **(15,9)**, (11,10) where bold edges were considered but not added.</font>"
   ]
  },
  {
   "cell_type": "markdown",
   "metadata": {},
   "source": [
    "Run the cell below."
   ]
  },
  {
   "cell_type": "code",
   "execution_count": 6,
   "metadata": {},
   "outputs": [
    {
     "data": {
      "text/html": [
       "\n",
       "\n",
       "\n",
       "\n",
       "\n",
       "\n",
       "  <div class=\"bk-root\" id=\"27bde456-c310-4495-ba48-ffeb8714b934\" data-root-id=\"1881\"></div>\n"
      ]
     },
     "metadata": {},
     "output_type": "display_data"
    },
    {
     "data": {
      "application/javascript": [
       "(function(root) {\n",
       "  function embed_document(root) {\n",
       "    \n",
       "  var docs_json = {\"eb6fe66d-c61b-47bf-98d9-05a635bbe9bc\":{\"roots\":{\"references\":[{\"attributes\":{\"children\":[[{\"id\":\"1791\"},0,0],[{\"id\":\"1861\"},1,0]]},\"id\":\"1881\",\"type\":\"GridBox\"},{\"attributes\":{},\"id\":\"1863\",\"type\":\"BasicTickFormatter\"},{\"attributes\":{},\"id\":\"1870\",\"type\":\"Selection\"},{\"attributes\":{\"data\":{\"line_color\":[\"#DFDFDF\",\"#DFDFDF\",\"#DFDFDF\",\"#DFDFDF\",\"#DFDFDF\",\"#DFDFDF\",\"#DFDFDF\",\"#DFDFDF\",\"#DFDFDF\",\"#DFDFDF\",\"#DFDFDF\",\"#DFDFDF\",\"#DFDFDF\",\"#DFDFDF\",\"#DFDFDF\",\"#DFDFDF\",\"#DFDFDF\",\"#DFDFDF\",\"#DFDFDF\",\"#DFDFDF\",\"#DFDFDF\",\"#DFDFDF\",\"#DFDFDF\",\"#DFDFDF\",\"#DFDFDF\",\"#DFDFDF\",\"#DFDFDF\",\"#DFDFDF\"],\"u\":[0,0,1,1,14,14,14,14,2,2,3,3,3,11,11,11,11,4,5,6,6,7,7,15,15,8,9,12],\"v\":[1,14,2,14,2,11,12,13,3,11,4,5,11,5,10,12,13,5,6,7,15,8,9,9,10,9,10,13],\"weight\":[4,24,12,19,20,8,10,6,10,25,14,18,18,14,4,8,8,12,14,3,3,1,2,4,6,2,6,4],\"xs\":[[6,20],[6,127],[20,72],[20,127],[127,72],[127,157],[127,162],[127,144],[72,111],[72,157],[111,194],[111,178],[111,157],[157,178],[157,165],[157,162],[157,144],[194,178],[178,199],[199,205],[199,189],[205,207],[205,198],[189,198],[189,165],[207,198],[198,165],[162,144]],\"ys\":[[71,59],[71,97],[59,31],[59,97],[97,31],[97,84],[97,112],[97,112],[31,-8],[31,84],[-8,-8],[-8,38],[-8,84],[84,38],[84,97],[84,112],[84,112],[-8,38],[38,86],[86,96],[86,93],[96,106],[96,103],[93,103],[93,97],[106,103],[103,97],[112,112]]},\"selected\":{\"id\":\"1870\"},\"selection_policy\":{\"id\":\"1869\"}},\"id\":\"1833\",\"type\":\"ColumnDataSource\"},{\"attributes\":{\"source\":{\"id\":\"1845\"},\"text_align\":\"center\",\"text_baseline\":\"middle\",\"text_color\":{\"value\":\"black\"},\"text_font_size\":{\"value\":\"13px\"},\"x\":{\"field\":\"x\"},\"y\":{\"field\":\"y\"}},\"id\":\"1846\",\"type\":\"LabelSet\"},{\"attributes\":{\"align\":\"center\",\"text\":\"[]\",\"width\":300},\"id\":\"1851\",\"type\":\"Div\"},{\"attributes\":{},\"id\":\"1798\",\"type\":\"LinearScale\"},{\"attributes\":{\"line_cap\":\"round\",\"line_color\":{\"field\":\"line_color\"},\"line_width\":{\"value\":5},\"xs\":{\"field\":\"xs\"},\"ys\":{\"field\":\"ys\"}},\"id\":\"1835\",\"type\":\"MultiLine\"},{\"attributes\":{},\"id\":\"1800\",\"type\":\"LinearScale\"},{\"attributes\":{\"bottom_units\":\"screen\",\"fill_alpha\":0.5,\"fill_color\":\"lightgrey\",\"left_units\":\"screen\",\"level\":\"overlay\",\"line_alpha\":1.0,\"line_color\":\"black\",\"line_dash\":[4,4],\"line_width\":2,\"right_units\":\"screen\",\"top_units\":\"screen\"},\"id\":\"1816\",\"type\":\"BoxAnnotation\"},{\"attributes\":{\"align\":\"center\",\"text\":\"0.0\",\"width\":300},\"id\":\"1850\",\"type\":\"Div\"},{\"attributes\":{},\"id\":\"1865\",\"type\":\"BasicTickFormatter\"},{\"attributes\":{},\"id\":\"1867\",\"type\":\"UnionRenderers\"},{\"attributes\":{\"data\":{\"fill_color\":[\"#5e92f3\",\"#5e92f3\",\"#5e92f3\",\"#5e92f3\",\"#5e92f3\",\"#5e92f3\",\"#5e92f3\",\"#5e92f3\",\"#5e92f3\",\"#5e92f3\",\"#5e92f3\",\"#5e92f3\",\"#5e92f3\",\"#5e92f3\",\"#5e92f3\",\"#5e92f3\"],\"line_color\":[\"#003c8f\",\"#003c8f\",\"#003c8f\",\"#003c8f\",\"#003c8f\",\"#003c8f\",\"#003c8f\",\"#003c8f\",\"#003c8f\",\"#003c8f\",\"#003c8f\",\"#003c8f\",\"#003c8f\",\"#003c8f\",\"#003c8f\",\"#003c8f\"],\"line_width\":[3,3,3,3,3,3,3,3,3,3,3,3,3,3,3,3],\"x\":[6,20,72,111,194,178,199,205,207,198,165,157,162,144,127,189],\"y\":[71,59,31,-8,-8,38,86,96,106,103,97,84,112,112,97,93]},\"selected\":{\"id\":\"1868\"},\"selection_policy\":{\"id\":\"1867\"}},\"id\":\"1827\",\"type\":\"ColumnDataSource\"},{\"attributes\":{\"source\":{\"id\":\"1833\"}},\"id\":\"1839\",\"type\":\"CDSView\"},{\"attributes\":{\"axis\":{\"id\":\"1806\"},\"dimension\":1,\"grid_line_color\":null,\"ticker\":null},\"id\":\"1809\",\"type\":\"Grid\"},{\"attributes\":{\"align\":\"center\",\"width\":300},\"id\":\"1852\",\"type\":\"Div\"},{\"attributes\":{\"overlay\":{\"id\":\"1816\"}},\"id\":\"1812\",\"type\":\"BoxZoomTool\"},{\"attributes\":{},\"id\":\"1868\",\"type\":\"Selection\"},{\"attributes\":{\"source\":{\"id\":\"1827\"}},\"id\":\"1832\",\"type\":\"CDSView\"},{\"attributes\":{\"line_cap\":\"round\",\"line_color\":{\"value\":\"#404040\"},\"line_width\":{\"value\":5},\"xs\":{\"field\":\"xs\"},\"ys\":{\"field\":\"ys\"}},\"id\":\"1837\",\"type\":\"MultiLine\"},{\"attributes\":{\"callback\":null,\"renderers\":[{\"id\":\"1831\"}],\"tooltips\":[[\"Index\",\"$index\"],[\"Name\",\"@name\"]]},\"id\":\"1853\",\"type\":\"HoverTool\"},{\"attributes\":{},\"id\":\"1869\",\"type\":\"UnionRenderers\"},{\"attributes\":{\"end\":122.2,\"start\":-18.200000000000003},\"id\":\"1796\",\"type\":\"Range1d\"},{\"attributes\":{\"fill_color\":{\"field\":\"fill_color\"},\"line_color\":{\"field\":\"line_color\"},\"line_width\":{\"field\":\"line_width\"},\"size\":{\"units\":\"screen\",\"value\":11},\"x\":{\"field\":\"x\"},\"y\":{\"field\":\"y\"}},\"id\":\"1830\",\"type\":\"Circle\"},{\"attributes\":{},\"id\":\"1873\",\"type\":\"UnionRenderers\"},{\"attributes\":{},\"id\":\"1876\",\"type\":\"UnionRenderers\"},{\"attributes\":{\"fill_color\":{\"field\":\"fill_color\"},\"line_color\":{\"field\":\"line_color\"},\"line_width\":{\"field\":\"line_width\"},\"size\":{\"units\":\"screen\",\"value\":11},\"x\":{\"field\":\"x\"},\"y\":{\"field\":\"y\"}},\"id\":\"1829\",\"type\":\"Circle\"},{\"attributes\":{},\"id\":\"1878\",\"type\":\"UnionRenderers\"},{\"attributes\":{\"formatter\":{\"id\":\"1863\"},\"ticker\":{\"id\":\"1803\"},\"visible\":false},\"id\":\"1802\",\"type\":\"LinearAxis\"},{\"attributes\":{\"line_cap\":\"round\",\"line_color\":{\"field\":\"line_color\"},\"line_width\":{\"value\":5},\"xs\":{\"field\":\"xs\"},\"ys\":{\"field\":\"ys\"}},\"id\":\"1836\",\"type\":\"MultiLine\"},{\"attributes\":{},\"id\":\"1872\",\"type\":\"Selection\"},{\"attributes\":{\"data\":{\"xs\":[[11.867393549830293,14.1326064501697],[64.2132081933475,68.78679180665253],[43.98457472802465,48.01542527197538],[71.31392773909235,75.68607226090765],[100.9065151137992,98.09348488620083],[140.5887402418824,143.4112597581176],[142.37870743870653,146.62129256129347],[134.3832167600553,136.6167832399447],[89.9311343589464,93.06886564105363],[112.57004046214576,116.42995953785424],[150.1483,154.85170000000002],[142.6336759201498,146.3663240798502],[133.03894314211007,134.96105685788993],[166.61006419357236,168.38993580642764],[160.24329823001975,161.75670176998028],[159.25243123412935,159.74756876587068],[151.1019039619186,149.89809603808138],[186.69937892443528,185.30062107556475],[187.6421179461765,189.35788205382346],[201.25793580143863,202.74206419856134],[195.23521488209917,192.7647851179008],[205.72359827057616,206.2764017294238],[202.54591042736908,200.45408957263095],[192.51616586095076,194.4838341390492],[178.54133338379128,175.4586666162087],[203.96931436315347,201.03068563684658],[183.03645249636594,179.96354750363403],[154.5678,151.4322]],\"ys\":[[65.9708055287169,64.02919447128312],[83.50862324815732,84.4913767518427],[46.085228992602126,43.914771007397874],[77.22363788864963,78.77636211135038],[65.68781813655903,62.31218186344098],[91.11154589518429,89.88845410481571],[103.59087461658854,105.40912538341149],[103.51460302357822,105.48539697642181],[13.06886564105362,9.93113435894638],[56.296613464632046,58.703386535367954],[-7.999999999999998,-7.999999999999998],[13.718643169058069,16.281356830941924],[36.07788628422017,39.922113715779815],[62.949383195031956,59.05061680496806],[89.27035962378204,91.72964037621796],[96.61361491112429,99.38638508887571],[96.70359146663688,99.29640853336312],[12.989285592248606,17.010714407751394],[60.03912673411776,63.960873265882256],[89.76322633573106,92.23677366426892],[88.63534958253058,90.36465041746942],[99.61799135288078,102.38200864711922],[98.45408957263092,100.54591042736905],[96.90685095661199,99.09314904338801],[94.74311110270146,95.25688889729855],[104.98977145438448,104.01022854561555],[100.27935499933926,99.72064500066074],[112.00000000000001,112.00000000000001]]},\"selected\":{\"id\":\"1872\"},\"selection_policy\":{\"id\":\"1871\"}},\"id\":\"1840\",\"type\":\"ColumnDataSource\"},{\"attributes\":{\"line_color\":{\"value\":\"white\"},\"line_width\":{\"value\":6},\"xs\":{\"field\":\"xs\"},\"ys\":{\"field\":\"ys\"}},\"id\":\"1842\",\"type\":\"MultiLine\"},{\"attributes\":{\"data\":{\"text\":[4,24,12,19,20,8,10,6,10,25,14,18,18,14,4,8,8,12,14,3,3,1,2,4,6,2,6,4],\"x\":{\"__ndarray__\":\"/v//////KUAAAAAAAKBQQAEAAAAAAEdAAAAAAABgUkAAAAAAAOBYQAAAAAAAwGFAAAAAAAAQYkAAAAAAAPBgQAAAAAAA4FZAAAAAAACgXEABAAAAABBjQAAAAAAAEGJAAAAAAADAYEAAAAAAAPBkQAAAAAAAIGRAAAAAAADwY0D//////89iQAAAAAAAQGdAAAAAAACQZ0D//////z9pQAAAAAAAQGhAAAAAAADAaUAAAAAAADBpQAAAAAAAMGhA//////8fZkABAAAAAFBpQAAAAAAAsGZAAAAAAAAgY0A=\",\"dtype\":\"float64\",\"order\":\"little\",\"shape\":[28]},\"y\":{\"__ndarray__\":\"AAAAAABAUEAAAAAAAABVQAAAAAAAgEZAAAAAAACAU0AAAAAAAABQQAAAAAAAoFZAAAAAAAAgWkAAAAAAACBaQAAAAAAAACdAAAAAAADATED+//////8fwAAAAAAAAC5AAAAAAAAAQ0ACAAAAAIBOQAAAAAAAoFZAAAAAAACAWEAAAAAAAIBYQAAAAAAAAC5AAgAAAAAAT0AAAAAAAMBWQAAAAAAAYFZAAAAAAABAWUD//////99YQAAAAAAAgFhAAAAAAADAV0AAAAAAACBaQAAAAAAAAFlAAQAAAAAAXEA=\",\"dtype\":\"float64\",\"order\":\"little\",\"shape\":[28]}},\"selected\":{\"id\":\"1874\"},\"selection_policy\":{\"id\":\"1873\"}},\"id\":\"1845\",\"type\":\"ColumnDataSource\"},{\"attributes\":{},\"id\":\"1877\",\"type\":\"Selection\"},{\"attributes\":{\"background_fill_color\":null,\"below\":[{\"id\":\"1802\"}],\"border_fill_color\":null,\"center\":[{\"id\":\"1805\"},{\"id\":\"1809\"},{\"id\":\"1846\"}],\"left\":[{\"id\":\"1806\"}],\"outline_line_color\":null,\"plot_width\":900,\"renderers\":[{\"id\":\"1831\"},{\"id\":\"1838\"},{\"id\":\"1843\"}],\"title\":{\"id\":\"1792\"},\"toolbar\":{\"id\":\"1817\"},\"toolbar_location\":null,\"x_range\":{\"id\":\"1794\"},\"x_scale\":{\"id\":\"1798\"},\"y_range\":{\"id\":\"1796\"},\"y_scale\":{\"id\":\"1800\"}},\"id\":\"1791\",\"subtype\":\"Figure\",\"type\":\"Plot\"},{\"attributes\":{\"active_drag\":null,\"active_inspect\":\"auto\",\"active_multi\":null,\"active_scroll\":null,\"active_tap\":\"auto\",\"logo\":null,\"tools\":[{\"id\":\"1810\"},{\"id\":\"1811\"},{\"id\":\"1812\"},{\"id\":\"1813\"},{\"id\":\"1814\"},{\"id\":\"1815\"},{\"id\":\"1853\"},{\"id\":\"1855\"},{\"id\":\"1857\"}]},\"id\":\"1817\",\"type\":\"Toolbar\"},{\"attributes\":{\"source\":{\"id\":\"1840\"}},\"id\":\"1844\",\"type\":\"CDSView\"},{\"attributes\":{\"data\":{\"G\":[[0.0,4.0,0.0,0.0,0.0,0.0,0.0,0.0,0.0,0.0,0.0,0.0,0.0,0.0,24.0,0.0],[4.0,0.0,12.0,0.0,0.0,0.0,0.0,0.0,0.0,0.0,0.0,0.0,0.0,0.0,19.0,0.0],[0.0,12.0,0.0,10.0,0.0,0.0,0.0,0.0,0.0,0.0,0.0,25.0,0.0,0.0,20.0,0.0],[0.0,0.0,10.0,0.0,14.0,18.0,0.0,0.0,0.0,0.0,0.0,18.0,0.0,0.0,0.0,0.0],[0.0,0.0,0.0,14.0,0.0,12.0,0.0,0.0,0.0,0.0,0.0,0.0,0.0,0.0,0.0,0.0],[0.0,0.0,0.0,18.0,12.0,0.0,14.0,0.0,0.0,0.0,0.0,14.0,0.0,0.0,0.0,0.0],[0.0,0.0,0.0,0.0,0.0,14.0,0.0,3.0,0.0,0.0,0.0,0.0,0.0,0.0,0.0,3.0],[0.0,0.0,0.0,0.0,0.0,0.0,3.0,0.0,1.0,2.0,0.0,0.0,0.0,0.0,0.0,0.0],[0.0,0.0,0.0,0.0,0.0,0.0,0.0,1.0,0.0,2.0,0.0,0.0,0.0,0.0,0.0,0.0],[0.0,0.0,0.0,0.0,0.0,0.0,0.0,2.0,2.0,0.0,6.0,0.0,0.0,0.0,0.0,4.0],[0.0,0.0,0.0,0.0,0.0,0.0,0.0,0.0,0.0,6.0,0.0,4.0,0.0,0.0,0.0,6.0],[0.0,0.0,25.0,18.0,0.0,14.0,0.0,0.0,0.0,0.0,4.0,0.0,8.0,8.0,8.0,0.0],[0.0,0.0,0.0,0.0,0.0,0.0,0.0,0.0,0.0,0.0,0.0,8.0,0.0,4.0,10.0,0.0],[0.0,0.0,0.0,0.0,0.0,0.0,0.0,0.0,0.0,0.0,0.0,8.0,4.0,0.0,6.0,0.0],[24.0,19.0,20.0,0.0,0.0,0.0,0.0,0.0,0.0,0.0,0.0,8.0,10.0,6.0,0.0,0.0],[0.0,0.0,0.0,0.0,0.0,0.0,3.0,0.0,0.0,4.0,6.0,0.0,0.0,0.0,0.0,0.0]]},\"selected\":{\"id\":\"1879\"},\"selection_policy\":{\"id\":\"1878\"}},\"id\":\"1848\",\"type\":\"ColumnDataSource\"},{\"attributes\":{\"args\":{\"source\":{\"id\":\"1849\"}},\"code\":\"source.data['last_index'] = cb_data.index.indices[0]\"},\"id\":\"1854\",\"type\":\"CustomJS\"},{\"attributes\":{},\"id\":\"1871\",\"type\":\"UnionRenderers\"},{\"attributes\":{},\"id\":\"1807\",\"type\":\"BasicTicker\"},{\"attributes\":{\"data_source\":{\"id\":\"1833\"},\"glyph\":{\"id\":\"1835\"},\"hover_glyph\":{\"id\":\"1837\"},\"level\":\"underlay\",\"muted_glyph\":null,\"nonselection_glyph\":{\"id\":\"1836\"},\"selection_glyph\":null,\"view\":{\"id\":\"1839\"}},\"id\":\"1838\",\"type\":\"GlyphRenderer\"},{\"attributes\":{\"axis\":{\"id\":\"1802\"},\"grid_line_color\":null,\"ticker\":null},\"id\":\"1805\",\"type\":\"Grid\"},{\"attributes\":{\"data_source\":{\"id\":\"1827\"},\"glyph\":{\"id\":\"1829\"},\"hover_glyph\":null,\"muted_glyph\":null,\"nonselection_glyph\":{\"id\":\"1830\"},\"selection_glyph\":null,\"view\":{\"id\":\"1832\"}},\"id\":\"1831\",\"type\":\"GlyphRenderer\"},{\"attributes\":{\"callback\":{\"id\":\"1856\"},\"renderers\":[{\"id\":\"1838\"}]},\"id\":\"1857\",\"type\":\"TapTool\"},{\"attributes\":{},\"id\":\"1879\",\"type\":\"Selection\"},{\"attributes\":{\"formatter\":{\"id\":\"1865\"},\"ticker\":{\"id\":\"1807\"},\"visible\":false},\"id\":\"1806\",\"type\":\"LinearAxis\"},{\"attributes\":{\"line_color\":{\"value\":\"white\"},\"line_width\":{\"value\":6},\"xs\":{\"field\":\"xs\"},\"ys\":{\"field\":\"ys\"}},\"id\":\"1841\",\"type\":\"MultiLine\"},{\"attributes\":{},\"id\":\"1874\",\"type\":\"Selection\"},{\"attributes\":{},\"id\":\"1815\",\"type\":\"HelpTool\"},{\"attributes\":{\"callback\":{\"id\":\"1854\"},\"renderers\":[{\"id\":\"1838\"}],\"tooltips\":null},\"id\":\"1855\",\"type\":\"HoverTool\"},{\"attributes\":{\"end\":224.085,\"start\":-11.085},\"id\":\"1794\",\"type\":\"Range1d\"},{\"attributes\":{\"data_source\":{\"id\":\"1840\"},\"glyph\":{\"id\":\"1841\"},\"hover_glyph\":null,\"level\":\"guide\",\"muted_glyph\":null,\"nonselection_glyph\":{\"id\":\"1842\"},\"selection_glyph\":null,\"view\":{\"id\":\"1844\"}},\"id\":\"1843\",\"type\":\"GlyphRenderer\"},{\"attributes\":{},\"id\":\"1803\",\"type\":\"BasicTicker\"},{\"attributes\":{},\"id\":\"1810\",\"type\":\"PanTool\"},{\"attributes\":{\"data\":{\"clicked\":[],\"edge_ids\":[[0.0,0.0,0.0,0.0,0.0,0.0,0.0,0.0,0.0,0.0,0.0,0.0,0.0,0.0,1.0,0.0],[0.0,0.0,2.0,0.0,0.0,0.0,0.0,0.0,0.0,0.0,0.0,0.0,0.0,0.0,3.0,0.0],[0.0,2.0,0.0,8.0,0.0,0.0,0.0,0.0,0.0,0.0,0.0,9.0,0.0,0.0,4.0,0.0],[0.0,0.0,8.0,0.0,10.0,11.0,0.0,0.0,0.0,0.0,0.0,12.0,0.0,0.0,0.0,0.0],[0.0,0.0,0.0,10.0,0.0,17.0,0.0,0.0,0.0,0.0,0.0,0.0,0.0,0.0,0.0,0.0],[0.0,0.0,0.0,11.0,17.0,0.0,18.0,0.0,0.0,0.0,0.0,13.0,0.0,0.0,0.0,0.0],[0.0,0.0,0.0,0.0,0.0,18.0,0.0,19.0,0.0,0.0,0.0,0.0,0.0,0.0,0.0,20.0],[0.0,0.0,0.0,0.0,0.0,0.0,19.0,0.0,21.0,22.0,0.0,0.0,0.0,0.0,0.0,0.0],[0.0,0.0,0.0,0.0,0.0,0.0,0.0,21.0,0.0,25.0,0.0,0.0,0.0,0.0,0.0,0.0],[0.0,0.0,0.0,0.0,0.0,0.0,0.0,22.0,25.0,0.0,26.0,0.0,0.0,0.0,0.0,23.0],[0.0,0.0,0.0,0.0,0.0,0.0,0.0,0.0,0.0,26.0,0.0,14.0,0.0,0.0,0.0,24.0],[0.0,0.0,9.0,12.0,0.0,13.0,0.0,0.0,0.0,0.0,14.0,0.0,15.0,16.0,5.0,0.0],[0.0,0.0,0.0,0.0,0.0,0.0,0.0,0.0,0.0,0.0,0.0,15.0,0.0,27.0,6.0,0.0],[0.0,0.0,0.0,0.0,0.0,0.0,0.0,0.0,0.0,0.0,0.0,16.0,27.0,0.0,7.0,0.0],[1.0,3.0,4.0,0.0,0.0,0.0,0.0,0.0,0.0,0.0,0.0,5.0,6.0,7.0,0.0,0.0],[0.0,0.0,0.0,0.0,0.0,0.0,20.0,0.0,0.0,23.0,24.0,0.0,0.0,0.0,0.0,0.0]],\"forest\":[0,1,2,3,4,5,6,7,8,9,10,11,12,13,14,15],\"index\":[0],\"sorted_edges\":[[7,8],[7,9],[8,9],[6,7],[6,15],[0,1],[11,10],[15,9],[12,13],[14,13],[15,10],[9,10],[14,11],[11,12],[11,13],[14,12],[2,3],[1,2],[4,5],[3,4],[11,5],[5,6],[3,5],[3,11],[1,14],[14,2],[0,14],[2,11]],\"tree_edges\":[],\"unvisited\":[0,1,2,3,4,5,6,7,8,9,10,11,12,13,14,15],\"visited\":[]},\"selected\":{\"id\":\"1877\"},\"selection_policy\":{\"id\":\"1876\"}},\"id\":\"1849\",\"type\":\"ColumnDataSource\"},{\"attributes\":{},\"id\":\"1811\",\"type\":\"WheelZoomTool\"},{\"attributes\":{\"args\":{\"clicked\":{\"id\":\"1851\"},\"cost\":{\"id\":\"1850\"},\"cost_matrix\":{\"id\":\"1848\"},\"edges_src\":{\"id\":\"1833\"},\"error_msg\":{\"id\":\"1852\"},\"nodes_src\":{\"id\":\"1827\"},\"source\":{\"id\":\"1849\"}},\"code\":\"/* Color Theme -- Using Google's Material Design Color System\\n   https://material.io/design/color/the-color-system.html */\\n\\n/** @constant {string} */\\nvar PRIMARY_COLOR = '#1565c0'\\n/** @constant {string} */\\nvar PRIMARY_LIGHT_COLOR = '#5e92f3'\\n/** @constant {string} */\\nvar PRIMARY_DARK_COLOR = '#003c8f'\\n/** @constant {string} */\\nvar SECONDARY_COLOR = '#d50000'\\n/** @constant {string} */\\nvar SECONDARY_LIGHT_COLOR = '#ff5131'\\n/** @constant {string} */\\nvar SECONDARY_DARK_COLOR = '#9b0000'\\n\\n// Grayscale\\n/** @constant {string} */\\nvar TERTIARY_COLOR = '#DFDFDF'\\n/**\\n *  Jupyter Notebook: 'white', Sphinx: '#FCFCFC'\\n *  @constant {string}\\n */\\nvar TERTIARY_LIGHT_COLOR = 'white'\\n/** @constant {string} */\\nvar TERTIARY_DARK_COLOR = '#404040'\\n/** @type {float[][]} */\\nvar G\\n/** @type {integer[]} */\\nvar visited\\n/** @type {integer[]} */\\nvar unvisited\\n/** @type {integer[][]} */\\nvar tree_edges\\n/** @type {integer[][]} */\\nvar edge_ids\\n/** @type {(integer[]|integer[][])} */\\nvar clicked_list\\n/** @type {integer} */\\nvar i\\n/** @type {integer} */\\nvar u\\n/** @type {integer} */\\nvar v\\n/** @type {float} */\\nvar w\\n\\n\\n/**\\n * Check if the error message text indicates tour or tree is complete.\\n */\\nfunction check_done() {\\n    if (error_msg.text == 'done.') {\\n        return;\\n    }\\n}\\n\\n/**\\n * Load the data necessary data for MST and shortest path tree creation.\\n */\\nfunction load_data() {\\n    G = cost_matrix.data['G']\\n    visited = source.data['visited']\\n    unvisited = source.data['unvisited']\\n    tree_edges = source.data['tree_edges']\\n    edge_ids = source.data['edge_ids']\\n    clicked_list = source.data['clicked']\\n\\n    i = source.data['last_index']\\n    u = edges_src.data['u'][i]\\n    v = edges_src.data['v'][i]\\n    w = edges_src.data['weight'][i]\\n}\\n\\n/**\\n * Update node and edge highlighting upon a proper edge selection.\\n */\\nfunction select_edge() {\\n    if (!visited.includes(v)) {\\n        nodes_src.data['fill_color'][v] = PRIMARY_DARK_COLOR\\n        nodes_src.data['line_color'][v] = PRIMARY_DARK_COLOR\\n        visited.push(v)\\n        unvisited.splice(unvisited.indexOf(v), 1)\\n    }\\n    if (!visited.includes(u)) {\\n        nodes_src.data['fill_color'][u] = PRIMARY_DARK_COLOR\\n        nodes_src.data['line_color'][u] = PRIMARY_DARK_COLOR\\n        visited.push(u)\\n        unvisited.splice(unvisited.indexOf(u), 1)\\n    }\\n    edges_src.data['line_color'][i] = TERTIARY_DARK_COLOR\\n    tree_edges.push([u,v])\\n    clicked_list = tree_edges\\n    var prev_cost = parseFloat(cost.text)\\n    cost.text = (prev_cost + w).toFixed(1)\\n    error_msg.text = ''\\n}\\n\\n/**\\n * Iteration of Prim's algorithm.\\n * Check if user-selected edge is a valid next edge. If valid, add the selected\\n * edge. If not, an error message is returned.\\n */\\nfunction prims() {\\n    var possible = {}\\n    for (let i = 0; i < visited.length; i++) {\\n        for (let j = 0; j < unvisited.length; j++) {\\n            var a = visited[i]\\n            var b = unvisited[j]\\n            if (G[a][b] != 0) {\\n                var id = edge_ids[a][b]\\n                possible[id] = G[a][b]\\n            }\\n        }\\n    }\\n\\n    var keys  = Object.keys(possible).sort(function(a,b) { return possible[a] - possible[b]; });\\n    var valid = keys.filter(function(x) { return possible[x] == possible[keys[0]]; });\\n\\n    var first_edge = (visited.length == 0)\\n    var u_in_tree = visited.includes(u)\\n    var v_in_tree = visited.includes(v)\\n    var one_in_tree = (u_in_tree && !v_in_tree) || (!u_in_tree && v_in_tree)\\n\\n    if (first_edge || one_in_tree) {\\n        if (valid.includes(i.toString())) {\\n            select_edge()\\n        } else {\\n            error_msg.text = 'Smaller weight edge exists.'\\n        }\\n    } else {\\n        if (u_in_tree && v_in_tree) {\\n            error_msg.text = 'Edge creates a cycle.'\\n        } else {\\n            error_msg.text = 'Edge not adjacent to the current tree.'\\n        }\\n    }\\n}\\n\\n/**\\n * Iteration of Kruskal's algorithm.\\n * Check if user-selected edge is a valid next edge. If valid, add the selected\\n * edge. If not, an error message is returned.\\n */\\nfunction kruskals() {\\n    var sorted_edges = source.data['sorted_edges']\\n    var forest = source.data['forest']\\n    var index = source.data['index'][0]\\n\\n    var a = sorted_edges[index][0]\\n    var b = sorted_edges[index][1]\\n    while (forest[a] == forest[b]) {\\n        index += 1\\n        a = sorted_edges[index][0]\\n        b = sorted_edges[index][1]\\n    }\\n    var min_val = G[sorted_edges[index][0]][sorted_edges[index][1]]\\n\\n    if (forest[u] != forest[v]) {\\n        if (G[u][v] == min_val) {\\n            select_edge()\\n            var x = forest[u]\\n            var y = forest[v]\\n            forest = forest.map(function(k) {if (k == y) {return x} else {return k} })\\n            source.data['forest'] = forest\\n            if (u == a && v == b) {\\n                index += 1\\n            }\\n        } else {\\n             error_msg.text = 'Smaller weight edge exists.'\\n        }\\n    } else {\\n        error_msg.text = 'This edge creates a cycle.'\\n    }\\n\\n    source.data['index'][0] = index\\n}\\n\\n/**\\n * Return an array of length len where every element has the given value.\\n * @param {float} value\\n * @param {integer} len\\n * @returns {float[]}\\n */\\nfunction fillArray(value, len) {\\n    var a = [value];\\n    while (a.length * 2 <= len) a = a.concat(a);\\n    if (a.length < len) a = a.concat(a.slice(0, len - a.length));\\n    return a;\\n}\\n\\n/**\\n * Return true iff the undirected graph G is connected.\\n * @param {float[][]} G\\n * @returns {boolean}\\n */\\nfunction is_connected(G) {\\n    var check = fillArray(false, G.length)\\n    check[0] = true\\n    var checked = [0]\\n\\n    while (checked.length > 0) {\\n        var a = checked.shift()\\n        for (let b = 0; b < G[a].length; b++) {\\n            if (G[a][b] > 0 && !check[b]) {\\n                check[b] = true\\n                checked.push(b)\\n            }\\n        }\\n    }\\n    return check.every(function(x) {return x})\\n}\\n\\n/**\\n * Iteration of reverse Kruskal's algorithm.\\n * Check if user-selected edge is a valid next edge. If valid, add the selected\\n * edge. If not, an error message is returned.\\n */\\nfunction reverse_kruskals() {\\n    var sorted_edges = source.data['sorted_edges']\\n    var index = source.data['index'][0]\\n\\n    var a = sorted_edges[index][0]\\n    var b = sorted_edges[index][1]\\n    var tmp_w = G[a][b]\\n    G[a][b] = 0\\n    G[b][a] = 0\\n    while (!is_connected(G) || !tree_edges.includes(edge_ids[a][b])) {\\n        G[a][b] = tmp_w\\n        G[b][a] = tmp_w\\n        index += 1\\n        a = sorted_edges[index][0]\\n        b = sorted_edges[index][1]\\n        tmp_w = G[a][b]\\n        G[a][b] = 0\\n        G[b][a] = 0\\n    }\\n    G[a][b] = tmp_w\\n    G[b][a] = tmp_w\\n    var max_val = tmp_w\\n\\n    var tmp_w = w\\n    G[u][v] = 0\\n    G[v][u] = 0\\n\\n    let e = tree_edges.indexOf(i)\\n    if (e > -1) {\\n        if (is_connected(G)) {\\n            if (tmp_w == max_val) {\\n                tree_edges.splice(e, 1);\\n                if (u == a && v == b) {\\n                    index += 1\\n                }\\n                edges_src.data['line_color'][i] = TERTIARY_COLOR\\n                var prev_cost = parseFloat(cost.text)\\n                cost.text = (prev_cost - w).toFixed(1)\\n                error_msg.text = ''\\n            } else {\\n                G[u][v] = tmp_w\\n                G[v][u] = tmp_w\\n                error_msg.text = 'Larger edge weight exists. Try ('\\n                                  .concat(a.toString())\\n                                  .concat(', ')\\n                                  .concat(b.toString())\\n                                  .concat(').')\\n            }\\n        } else {\\n            G[u][v] = tmp_w\\n            G[v][u] = tmp_w\\n            error_msg.text = 'Removing this edge disconnects the graph.'\\n        }\\n    } else {\\n        G[u][v] = tmp_w\\n        G[v][u] = tmp_w\\n        error_msg.text = 'Edge already removed.'\\n    }\\n\\n    var u_list = edges_src.data['u']\\n    var v_list = edges_src.data['v']\\n    clicked_list = []\\n    for (let i = 0; i < tree_edges.length; i++) {\\n        var edge = tree_edges[i]\\n        clicked_list.push([u_list[edge], v_list[edge]])\\n    }\\n    source.data['index'][0] = index\\n}\\n\\n/**\\n * Final updates when creating an MST or shortest path tree.\\n */\\nfunction tree_update() {\\n    if (tree_edges.length == nodes_src.data['x'].length - 1) {\\n        error_msg.text = 'done.'\\n    }\\n\\n    clicked.text = '['\\n    for (let i = 0; i < clicked_list.length; i++) {\\n        var edge_str = clicked_list[i].join(',')\\n        clicked.text = clicked.text.concat('(').concat(edge_str).concat(')')\\n        if (!(i == clicked_list.length - 1)) {\\n            clicked.text = clicked.text.concat(',')\\n        }\\n    }\\n    clicked.text = clicked.text.concat(']')\\n\\n    source.change.emit()\\n    nodes_src.change.emit()\\n    edges_src.change.emit()\\n}\\n\\n/**\\n * Check if user-selected node is valid and add to tour if valid.\\n */\\nfunction create_tour_on_click () {\\n    var v = source.data['last_index']\\n    var n = nodes_src.data['line_color'].length\\n    var tour = source.data['clicked']\\n\\n    if (tour.includes(v)) {\\n        error_msg.text = 'This node is already in the tour.'\\n        return;\\n    } else {\\n        error_msg.text = ''\\n    }\\n\\n    function add_node(v) {\\n        // add to cost\\n        if (tour.length > 0) {\\n            var u = tour[tour.length - 1]\\n            var prev_cost = parseFloat(cost.text)\\n            cost.text = (prev_cost + cost_matrix.data['G'][u][v]).toFixed(1)\\n        }\\n\\n        // add to tour\\n        tour.push(v)\\n        clicked.text = '['.concat(tour.join(',')).concat(']')\\n\\n        // highlight new node\\n        nodes_src.data['line_color'][v] = PRIMARY_DARK_COLOR\\n        nodes_src.data['fill_color'][v] = PRIMARY_DARK_COLOR\\n\\n        // highlight new edge\\n        tour_src.data['edges_x'].push(nodes_src.data['x'][v])\\n        tour_src.data['edges_y'].push(nodes_src.data['y'][v])\\n    }\\n\\n    add_node(v)\\n    if (tour.length == n) {\\n        add_node(tour[0])\\n        error_msg.text = 'done.'\\n    }\\n\\n    source.change.emit()\\n    tour_src.change.emit()\\n    nodes_src.change.emit()\\n}\\n\\n/**\\n * Iteration of Dijkstra's algorithm.\\n * Check if user-selected node is a valid next node. If valid, add the selected\\n * node. If not, an error message is returned.\\n */\\nfunction dijkstras() {\\n    var dist = source.data['dist']\\n    var prev = source.data['prev']\\n    var S = source.data['settled']\\n    var F = source.data['frontier']\\n\\n    F.sort(function(a,b) {return dist[a] - dist[b]})\\n\\n    if (F.includes(i)) {\\n        if (dist[i] == dist[F[0]]) {\\n            var f = i\\n            F.splice(F.indexOf(f), 1)\\n            S.push(f)\\n            for (let w = 0; w < G.length; w++) {\\n                if (G[f][w] != 0) {\\n                    if (!S.includes(w) && !F.includes(w)) {\\n                        dist[w] = dist[f] + G[f][w]\\n                        prev[w] = f\\n                        F.push(w)\\n                        var k = edge_ids[w][f]\\n                        edges_src.data['line_color'][k] = TERTIARY_DARK_COLOR\\n                    } else {\\n                        if (dist[f] + G[f][w] < dist[w]) {\\n                            var k = edge_ids[prev[w]][w]\\n                            edges_src.data['line_color'][k] = TERTIARY_COLOR\\n\\n                            dist[w] = dist[f] + G[f][w]\\n                            prev[w] = f\\n\\n                            var k = edge_ids[f][w]\\n                            edges_src.data['line_color'][k] = TERTIARY_DARK_COLOR\\n                        }\\n                    }\\n                }\\n            }\\n            error_msg.text = ''\\n        } else {\\n            error_msg.text = 'A closer frontier node exists.'\\n        }\\n    } else {\\n        error_msg.text = 'This node is not in the frontier set.'\\n    }\\n\\n    for (let i = 0; i < G.length; i++) {\\n        // Highlight settled and frontier nodes\\n        if (S.includes(i)) {\\n            nodes_src.data['fill_color'][i] = PRIMARY_DARK_COLOR\\n            nodes_src.data['line_color'][i] = PRIMARY_DARK_COLOR\\n        } else if (F.includes(i)) {\\n            nodes_src.data['fill_color'][i] = SECONDARY_COLOR\\n            nodes_src.data['line_color'][i] = SECONDARY_DARK_COLOR\\n        } else {\\n            nodes_src.data['fill_color'][i] = PRIMARY_LIGHT_COLOR\\n            nodes_src.data['line_color'][i] = PRIMARY_DARK_COLOR\\n        }\\n\\n        // Update table source\\n        var dist_text\\n        var prev_text\\n        if (isFinite(dist[i])) {\\n            dist_text = dist[i].toFixed(1)\\n        } else {\\n            dist_text = 'inf'\\n        }\\n        if (S.includes(i)) {\\n            dist_text = dist_text.concat('*')\\n        }\\n\\n        if (isNaN(prev[i])) {\\n            prev_text = '-'\\n        } else {\\n            prev_text = prev[i]\\n        }\\n        table_src.data[i.toString()] = [dist_text, prev_text]\\n    }\\n\\n    if (F.length == 0) {\\n        error_msg.text = 'done.'\\n    }\\n\\n    source.change.emit()\\n    nodes_src.change.emit()\\n    edges_src.change.emit()\\n    table_src.change.emit()\\n}\\n\\n// BEGIN FUNCTION CALLING\\ncheck_done()\\nload_data()\\nkruskals()\\ntree_update()\\n\"},\"id\":\"1856\",\"type\":\"CustomJS\"},{\"attributes\":{\"children\":[{\"id\":\"1850\"},{\"id\":\"1852\"},{\"id\":\"1851\"}]},\"id\":\"1861\",\"type\":\"Row\"},{\"attributes\":{},\"id\":\"1813\",\"type\":\"SaveTool\"},{\"attributes\":{\"text\":\"\"},\"id\":\"1792\",\"type\":\"Title\"},{\"attributes\":{},\"id\":\"1814\",\"type\":\"ResetTool\"}],\"root_ids\":[\"1881\"]},\"title\":\"Bokeh Application\",\"version\":\"2.2.3\"}};\n",
       "  var render_items = [{\"docid\":\"eb6fe66d-c61b-47bf-98d9-05a635bbe9bc\",\"root_ids\":[\"1881\"],\"roots\":{\"1881\":\"27bde456-c310-4495-ba48-ffeb8714b934\"}}];\n",
       "  root.Bokeh.embed.embed_items_notebook(docs_json, render_items);\n",
       "\n",
       "  }\n",
       "  if (root.Bokeh !== undefined) {\n",
       "    embed_document(root);\n",
       "  } else {\n",
       "    var attempts = 0;\n",
       "    var timer = setInterval(function(root) {\n",
       "      if (root.Bokeh !== undefined) {\n",
       "        clearInterval(timer);\n",
       "        embed_document(root);\n",
       "      } else {\n",
       "        attempts++;\n",
       "        if (attempts > 100) {\n",
       "          clearInterval(timer);\n",
       "          console.log(\"Bokeh: ERROR: Unable to run BokehJS code because BokehJS library is missing\");\n",
       "        }\n",
       "      }\n",
       "    }, 10, root)\n",
       "  }\n",
       "})(window);"
      ],
      "application/vnd.bokehjs_exec.v0+json": ""
     },
     "metadata": {
      "application/vnd.bokehjs_exec.v0+json": {
       "id": "1881"
      }
     },
     "output_type": "display_data"
    }
   ],
   "source": [
    "show(vl.assisted_mst_algorithm_plot(G, algorithm='kruskals', width=900, height=600))"
   ]
  },
  {
   "cell_type": "markdown",
   "metadata": {},
   "source": [
    "**Q8:** Verify your by-hand computations were correct. Did you make any mistakes?\n",
    "\n",
    "**A:** <font color='blue'> Answers will vary.</font>"
   ]
  },
  {
   "cell_type": "markdown",
   "metadata": {},
   "source": [
    "**Q9:** Run the cell below and click next until you have a minimum spanning tree. Again, try to anticipate each of the algorithm’s steps. What is the cost of the final solution?\n",
    "\n",
    "**A:** <font color='blue'> 103</font>"
   ]
  },
  {
   "cell_type": "code",
   "execution_count": 9,
   "metadata": {},
   "outputs": [
    {
     "data": {
      "text/html": [
       "\n",
       "\n",
       "\n",
       "\n",
       "\n",
       "\n",
       "  <div class=\"bk-root\" id=\"8a916ec9-5bbb-4411-8f93-875c3e852e85\" data-root-id=\"2694\"></div>\n"
      ]
     },
     "metadata": {},
     "output_type": "display_data"
    },
    {
     "data": {
      "application/javascript": [
       "(function(root) {\n",
       "  function embed_document(root) {\n",
       "    \n",
       "  var docs_json = {\"a1fcb805-6a18-46bc-a674-e0e8bbacc73e\":{\"roots\":{\"references\":[{\"attributes\":{\"children\":[[{\"id\":\"2595\"},0,0],[{\"id\":\"2669\"},1,0],[{\"id\":\"2670\"},2,0]]},\"id\":\"2694\",\"type\":\"GridBox\"},{\"attributes\":{\"fill_color\":{\"field\":\"fill_color\"},\"line_color\":{\"field\":\"line_color\"},\"line_width\":{\"field\":\"line_width\"},\"size\":{\"units\":\"screen\",\"value\":11},\"x\":{\"field\":\"x\"},\"y\":{\"field\":\"y\"}},\"id\":\"2633\",\"type\":\"Circle\"},{\"attributes\":{},\"id\":\"2607\",\"type\":\"BasicTicker\"},{\"attributes\":{\"line_color\":{\"value\":\"white\"},\"line_width\":{\"value\":6},\"xs\":{\"field\":\"xs\"},\"ys\":{\"field\":\"ys\"}},\"id\":\"2646\",\"type\":\"MultiLine\"},{\"attributes\":{\"callback\":null,\"renderers\":[{\"id\":\"2635\"}],\"tooltips\":[[\"Index\",\"$index\"],[\"Name\",\"@name\"]]},\"id\":\"2667\",\"type\":\"HoverTool\"},{\"attributes\":{\"end\":224.085,\"start\":-11.085},\"id\":\"2598\",\"type\":\"Range1d\"},{\"attributes\":{\"active_drag\":null,\"active_inspect\":\"auto\",\"active_multi\":null,\"active_scroll\":null,\"active_tap\":\"auto\",\"logo\":null,\"tools\":[{\"id\":\"2614\"},{\"id\":\"2615\"},{\"id\":\"2616\"},{\"id\":\"2617\"},{\"id\":\"2618\"},{\"id\":\"2619\"},{\"id\":\"2667\"}]},\"id\":\"2621\",\"type\":\"Toolbar\"},{\"attributes\":{\"data_source\":{\"id\":\"2644\"},\"glyph\":{\"id\":\"2645\"},\"hover_glyph\":null,\"level\":\"guide\",\"muted_glyph\":null,\"nonselection_glyph\":{\"id\":\"2646\"},\"selection_glyph\":null,\"view\":{\"id\":\"2648\"}},\"id\":\"2647\",\"type\":\"GlyphRenderer\"},{\"attributes\":{\"children\":[{\"id\":\"2665\"},{\"id\":\"2663\"}],\"max_width\":900,\"sizing_mode\":\"stretch_both\"},\"id\":\"2669\",\"type\":\"Row\"},{\"attributes\":{\"end\":122.2,\"start\":-18.200000000000003},\"id\":\"2600\",\"type\":\"Range1d\"},{\"attributes\":{\"fill_color\":{\"field\":\"fill_color\"},\"line_color\":{\"field\":\"line_color\"},\"line_width\":{\"field\":\"line_width\"},\"size\":{\"units\":\"screen\",\"value\":11},\"x\":{\"field\":\"x\"},\"y\":{\"field\":\"y\"}},\"id\":\"2634\",\"type\":\"Circle\"},{\"attributes\":{\"source\":{\"id\":\"2644\"}},\"id\":\"2648\",\"type\":\"CDSView\"},{\"attributes\":{\"children\":[{\"id\":\"2661\"},{\"id\":\"2654\"}]},\"id\":\"2670\",\"type\":\"Row\"},{\"attributes\":{},\"id\":\"2602\",\"type\":\"LinearScale\"},{\"attributes\":{\"data_source\":{\"id\":\"2631\"},\"glyph\":{\"id\":\"2633\"},\"hover_glyph\":null,\"muted_glyph\":null,\"nonselection_glyph\":{\"id\":\"2634\"},\"selection_glyph\":null,\"view\":{\"id\":\"2636\"}},\"id\":\"2635\",\"type\":\"GlyphRenderer\"},{\"attributes\":{\"data\":{\"text\":[4,24,12,19,20,8,10,6,10,25,14,18,18,14,4,8,8,12,14,3,3,1,2,4,6,2,6,4],\"x\":{\"__ndarray__\":\"/v//////KUAAAAAAAKBQQAEAAAAAAEdAAAAAAABgUkAAAAAAAOBYQAAAAAAAwGFAAAAAAAAQYkAAAAAAAPBgQAAAAAAA4FZAAAAAAACgXEABAAAAABBjQAAAAAAAEGJAAAAAAADAYEAAAAAAAPBkQAAAAAAAIGRAAAAAAADwY0D//////89iQAAAAAAAQGdAAAAAAACQZ0D//////z9pQAAAAAAAQGhAAAAAAADAaUAAAAAAADBpQAAAAAAAMGhA//////8fZkABAAAAAFBpQAAAAAAAsGZAAAAAAAAgY0A=\",\"dtype\":\"float64\",\"order\":\"little\",\"shape\":[28]},\"y\":{\"__ndarray__\":\"AAAAAABAUEAAAAAAAABVQAAAAAAAgEZAAAAAAACAU0AAAAAAAABQQAAAAAAAoFZAAAAAAAAgWkAAAAAAACBaQAAAAAAAACdAAAAAAADATED+//////8fwAAAAAAAAC5AAAAAAAAAQ0ACAAAAAIBOQAAAAAAAoFZAAAAAAACAWEAAAAAAAIBYQAAAAAAAAC5AAgAAAAAAT0AAAAAAAMBWQAAAAAAAYFZAAAAAAABAWUD//////99YQAAAAAAAgFhAAAAAAADAV0AAAAAAACBaQAAAAAAAAFlAAQAAAAAAXEA=\",\"dtype\":\"float64\",\"order\":\"little\",\"shape\":[28]}},\"selected\":{\"id\":\"2677\"},\"selection_policy\":{\"id\":\"2676\"}},\"id\":\"2649\",\"type\":\"ColumnDataSource\"},{\"attributes\":{},\"id\":\"2604\",\"type\":\"LinearScale\"},{\"attributes\":{\"source\":{\"id\":\"2649\"},\"text_align\":\"center\",\"text_baseline\":\"middle\",\"text_color\":{\"value\":\"black\"},\"text_font_size\":{\"value\":\"13px\"},\"x\":{\"field\":\"x\"},\"y\":{\"field\":\"y\"}},\"id\":\"2650\",\"type\":\"LabelSet\"},{\"attributes\":{},\"id\":\"2672\",\"type\":\"BasicTickFormatter\"},{\"attributes\":{\"bottom_units\":\"screen\",\"fill_alpha\":0.5,\"fill_color\":\"lightgrey\",\"left_units\":\"screen\",\"level\":\"overlay\",\"line_alpha\":1.0,\"line_color\":\"black\",\"line_dash\":[4,4],\"line_width\":2,\"right_units\":\"screen\",\"top_units\":\"screen\"},\"id\":\"2620\",\"type\":\"BoxAnnotation\"},{\"attributes\":{\"formatter\":{\"id\":\"2672\"},\"ticker\":{\"id\":\"2607\"},\"visible\":false},\"id\":\"2606\",\"type\":\"LinearAxis\"},{\"attributes\":{},\"id\":\"2674\",\"type\":\"BasicTickFormatter\"},{\"attributes\":{\"background_fill_color\":null,\"below\":[{\"id\":\"2606\"}],\"border_fill_color\":null,\"center\":[{\"id\":\"2609\"},{\"id\":\"2613\"},{\"id\":\"2650\"}],\"left\":[{\"id\":\"2610\"}],\"outline_line_color\":null,\"plot_width\":900,\"renderers\":[{\"id\":\"2635\"},{\"id\":\"2642\"},{\"id\":\"2647\"},{\"id\":\"2659\"}],\"title\":{\"id\":\"2596\"},\"toolbar\":{\"id\":\"2621\"},\"toolbar_location\":null,\"x_range\":{\"id\":\"2598\"},\"x_scale\":{\"id\":\"2602\"},\"y_range\":{\"id\":\"2600\"},\"y_scale\":{\"id\":\"2604\"}},\"id\":\"2595\",\"subtype\":\"Figure\",\"type\":\"Plot\"},{\"attributes\":{\"align\":\"center\",\"text\":\"16\",\"width\":900},\"id\":\"2653\",\"type\":\"Div\"},{\"attributes\":{\"axis\":{\"id\":\"2606\"},\"grid_line_color\":null,\"ticker\":null},\"id\":\"2609\",\"type\":\"Grid\"},{\"attributes\":{\"args\":{\"cost\":{\"id\":\"2661\"},\"done\":{\"id\":\"2654\"},\"edge_subset_src\":{\"id\":\"2655\"},\"k\":{\"id\":\"2653\"},\"n\":{\"id\":\"2652\"},\"nodes_src\":{\"id\":\"2631\"},\"source\":{\"id\":\"2662\"}},\"code\":\"/* Color Theme -- Using Google's Material Design Color System\\n   https://material.io/design/color/the-color-system.html */\\n\\n/** @constant {string} */\\nvar PRIMARY_COLOR = '#1565c0'\\n/** @constant {string} */\\nvar PRIMARY_LIGHT_COLOR = '#5e92f3'\\n/** @constant {string} */\\nvar PRIMARY_DARK_COLOR = '#003c8f'\\n/** @constant {string} */\\nvar SECONDARY_COLOR = '#d50000'\\n/** @constant {string} */\\nvar SECONDARY_LIGHT_COLOR = '#ff5131'\\n/** @constant {string} */\\nvar SECONDARY_DARK_COLOR = '#9b0000'\\n\\n// Grayscale\\n/** @constant {string} */\\nvar TERTIARY_COLOR = '#DFDFDF'\\n/**\\n *  Jupyter Notebook: 'white', Sphinx: '#FCFCFC'\\n *  @constant {string}\\n */\\nvar TERTIARY_LIGHT_COLOR = 'white'\\n/** @constant {string} */\\nvar TERTIARY_DARK_COLOR = '#404040'\\n/** @type {integer} */\\nvar iteration = 0\\n\\n\\n/**\\n * Increment iteration and update n Div.\\n */\\nfunction increment_iteration() {\\n    if ((parseInt(n.text) + 1) < parseInt(k.text)) {\\n        n.text = (parseInt(n.text) + 1).toString()\\n    }\\n    iteration = parseInt(n.text)\\n}\\n\\n/**\\n * Decrement iteration and update n Div.\\n */\\nfunction decrement_iteration() {\\n    if ((parseInt(n.text) - 1) >= 0) {\\n        n.text = (parseInt(n.text) - 1).toString()\\n    }\\n    iteration = parseInt(n.text)\\n}\\n\\n/**\\n * Update which nodes are highlighted given the current iteration.\\n */\\nfunction nodes_update() {\\n    var in_tree = source.data['nodes'][iteration]\\n\\n    for (let i = 0; i < nodes_src.data['line_color'].length ; i++) {\\n        if (in_tree.includes(i)) {\\n            nodes_src.data['fill_color'][i] = PRIMARY_DARK_COLOR\\n            nodes_src.data['line_color'][i] = PRIMARY_DARK_COLOR\\n        } else {\\n            nodes_src.data['fill_color'][i] = PRIMARY_LIGHT_COLOR\\n            nodes_src.data['line_color'][i] = PRIMARY_DARK_COLOR\\n        }\\n    }\\n\\n    nodes_src.change.emit()\\n}\\n\\n/**\\n * Update which subset of edges are highlighted given the current iteration.\\n */\\nfunction edge_subset_update() {\\n    edge_subset_src.data['xs'] = source.data['edge_xs'][iteration]\\n    edge_subset_src.data['ys'] = source.data['edge_ys'][iteration]\\n    edge_subset_src.change.emit()\\n}\\n\\n/**\\n * Update which swaps are updated given the current iteration\\n */\\nfunction swaps_update() {\\n    swaps_src.data['swaps_before_x'] = source.data['swaps_before_x'][iteration]\\n    swaps_src.data['swaps_before_y'] = source.data['swaps_before_y'][iteration]\\n    swaps_src.data['swaps_after_x'] = source.data['swaps_after_x'][iteration]\\n    swaps_src.data['swaps_after_y'] = source.data['swaps_after_y'][iteration]\\n    swaps_src.change.emit()\\n}\\n\\n/**\\n * Update which table is shown given the current iteration.\\n */\\nfunction table_update() {\\n    table_src.data = source.data['tables'][iteration]\\n}\\n\\n/**\\n * Update which cost is shown given the current iteration.\\n */\\nfunction cost_update() {\\n    cost.text = source.data['costs'][iteration].toFixed(1)\\n}\\n\\n/**\\n * Update done Div based on the current iteration.\\n */\\nfunction done_update() {\\n    if (iteration == parseInt(k.text) - 1) {\\n        done.text = \\\"done.\\\"\\n    } else {\\n        done.text = \\\"\\\"\\n    }\\n}\\n\\n// BEGIN FUNCTION CALLING\\ndecrement_iteration()\\ndone_update()\\ncost_update()\\nedge_subset_update()\\nnodes_update()\\n\"},\"id\":\"2666\",\"type\":\"CustomJS\"},{\"attributes\":{\"data\":{\"fill_color\":[\"#5e92f3\",\"#5e92f3\",\"#5e92f3\",\"#5e92f3\",\"#5e92f3\",\"#5e92f3\",\"#5e92f3\",\"#5e92f3\",\"#5e92f3\",\"#5e92f3\",\"#5e92f3\",\"#5e92f3\",\"#5e92f3\",\"#5e92f3\",\"#5e92f3\",\"#5e92f3\"],\"line_color\":[\"#003c8f\",\"#003c8f\",\"#003c8f\",\"#003c8f\",\"#003c8f\",\"#003c8f\",\"#003c8f\",\"#003c8f\",\"#003c8f\",\"#003c8f\",\"#003c8f\",\"#003c8f\",\"#003c8f\",\"#003c8f\",\"#003c8f\",\"#003c8f\"],\"line_width\":[3,3,3,3,3,3,3,3,3,3,3,3,3,3,3,3],\"x\":[6,20,72,111,194,178,199,205,207,198,165,157,162,144,127,189],\"y\":[71,59,31,-8,-8,38,86,96,106,103,97,84,112,112,97,93]},\"selected\":{\"id\":\"2680\"},\"selection_policy\":{\"id\":\"2679\"}},\"id\":\"2631\",\"type\":\"ColumnDataSource\"},{\"attributes\":{},\"id\":\"2676\",\"type\":\"UnionRenderers\"},{\"attributes\":{},\"id\":\"2682\",\"type\":\"Selection\"},{\"attributes\":{},\"id\":\"2679\",\"type\":\"UnionRenderers\"},{\"attributes\":{\"formatter\":{\"id\":\"2674\"},\"ticker\":{\"id\":\"2611\"},\"visible\":false},\"id\":\"2610\",\"type\":\"LinearAxis\"},{\"attributes\":{},\"id\":\"2677\",\"type\":\"Selection\"},{\"attributes\":{},\"id\":\"2681\",\"type\":\"UnionRenderers\"},{\"attributes\":{\"data\":{\"line_color\":[\"#DFDFDF\",\"#DFDFDF\",\"#DFDFDF\",\"#DFDFDF\",\"#DFDFDF\",\"#DFDFDF\",\"#DFDFDF\",\"#DFDFDF\",\"#DFDFDF\",\"#DFDFDF\",\"#DFDFDF\",\"#DFDFDF\",\"#DFDFDF\",\"#DFDFDF\",\"#DFDFDF\",\"#DFDFDF\",\"#DFDFDF\",\"#DFDFDF\",\"#DFDFDF\",\"#DFDFDF\",\"#DFDFDF\",\"#DFDFDF\",\"#DFDFDF\",\"#DFDFDF\",\"#DFDFDF\",\"#DFDFDF\",\"#DFDFDF\",\"#DFDFDF\"],\"u\":[0,0,1,1,14,14,14,14,2,2,3,3,3,11,11,11,11,4,5,6,6,7,7,15,15,8,9,12],\"v\":[1,14,2,14,2,11,12,13,3,11,4,5,11,5,10,12,13,5,6,7,15,8,9,9,10,9,10,13],\"weight\":[4,24,12,19,20,8,10,6,10,25,14,18,18,14,4,8,8,12,14,3,3,1,2,4,6,2,6,4],\"xs\":[[6,20],[6,127],[20,72],[20,127],[127,72],[127,157],[127,162],[127,144],[72,111],[72,157],[111,194],[111,178],[111,157],[157,178],[157,165],[157,162],[157,144],[194,178],[178,199],[199,205],[199,189],[205,207],[205,198],[189,198],[189,165],[207,198],[198,165],[162,144]],\"ys\":[[71,59],[71,97],[59,31],[59,97],[97,31],[97,84],[97,112],[97,112],[31,-8],[31,84],[-8,-8],[-8,38],[-8,84],[84,38],[84,97],[84,112],[84,112],[-8,38],[38,86],[86,96],[86,93],[96,106],[96,103],[93,103],[93,97],[106,103],[103,97],[112,112]]},\"selected\":{\"id\":\"2682\"},\"selection_policy\":{\"id\":\"2681\"}},\"id\":\"2637\",\"type\":\"ColumnDataSource\"},{\"attributes\":{},\"id\":\"2680\",\"type\":\"Selection\"},{\"attributes\":{},\"id\":\"2611\",\"type\":\"BasicTicker\"},{\"attributes\":{},\"id\":\"2618\",\"type\":\"ResetTool\"},{\"attributes\":{\"data\":{\"xs\":[],\"ys\":[]},\"selected\":{\"id\":\"2686\"},\"selection_policy\":{\"id\":\"2685\"}},\"id\":\"2655\",\"type\":\"ColumnDataSource\"},{\"attributes\":{},\"id\":\"2683\",\"type\":\"UnionRenderers\"},{\"attributes\":{\"axis\":{\"id\":\"2610\"},\"dimension\":1,\"grid_line_color\":null,\"ticker\":null},\"id\":\"2613\",\"type\":\"Grid\"},{\"attributes\":{\"data_source\":{\"id\":\"2655\"},\"glyph\":{\"id\":\"2657\"},\"hover_glyph\":null,\"level\":\"underlay\",\"muted_glyph\":null,\"nonselection_glyph\":{\"id\":\"2658\"},\"selection_glyph\":null,\"view\":{\"id\":\"2660\"}},\"id\":\"2659\",\"type\":\"GlyphRenderer\"},{\"attributes\":{},\"id\":\"2684\",\"type\":\"Selection\"},{\"attributes\":{\"line_cap\":\"round\",\"line_color\":{\"value\":\"#404040\"},\"line_width\":{\"value\":5},\"xs\":{\"field\":\"xs\"},\"ys\":{\"field\":\"ys\"}},\"id\":\"2657\",\"type\":\"MultiLine\"},{\"attributes\":{\"source\":{\"id\":\"2631\"}},\"id\":\"2636\",\"type\":\"CDSView\"},{\"attributes\":{\"source\":{\"id\":\"2655\"}},\"id\":\"2660\",\"type\":\"CDSView\"},{\"attributes\":{},\"id\":\"2685\",\"type\":\"UnionRenderers\"},{\"attributes\":{\"align\":\"center\",\"width\":450},\"id\":\"2654\",\"type\":\"Div\"},{\"attributes\":{\"line_cap\":\"round\",\"line_color\":{\"value\":\"#404040\"},\"line_width\":{\"value\":5},\"xs\":{\"field\":\"xs\"},\"ys\":{\"field\":\"ys\"}},\"id\":\"2641\",\"type\":\"MultiLine\"},{\"attributes\":{},\"id\":\"2686\",\"type\":\"Selection\"},{\"attributes\":{\"line_alpha\":{\"value\":0.1},\"line_cap\":\"round\",\"line_color\":{\"value\":\"#404040\"},\"line_width\":{\"value\":5},\"xs\":{\"field\":\"xs\"},\"ys\":{\"field\":\"ys\"}},\"id\":\"2658\",\"type\":\"MultiLine\"},{\"attributes\":{\"data_source\":{\"id\":\"2637\"},\"glyph\":{\"id\":\"2639\"},\"hover_glyph\":{\"id\":\"2641\"},\"level\":\"underlay\",\"muted_glyph\":null,\"nonselection_glyph\":{\"id\":\"2640\"},\"selection_glyph\":null,\"view\":{\"id\":\"2643\"}},\"id\":\"2642\",\"type\":\"GlyphRenderer\"},{\"attributes\":{\"text\":\"\"},\"id\":\"2596\",\"type\":\"Title\"},{\"attributes\":{\"align\":\"center\",\"text\":\"0\",\"width\":450},\"id\":\"2661\",\"type\":\"Div\"},{\"attributes\":{},\"id\":\"2614\",\"type\":\"PanTool\"},{\"attributes\":{},\"id\":\"2692\",\"type\":\"UnionRenderers\"},{\"attributes\":{\"line_cap\":\"round\",\"line_color\":{\"field\":\"line_color\"},\"line_width\":{\"value\":5},\"xs\":{\"field\":\"xs\"},\"ys\":{\"field\":\"ys\"}},\"id\":\"2639\",\"type\":\"MultiLine\"},{\"attributes\":{},\"id\":\"2615\",\"type\":\"WheelZoomTool\"},{\"attributes\":{\"source\":{\"id\":\"2637\"}},\"id\":\"2643\",\"type\":\"CDSView\"},{\"attributes\":{\"data\":{\"costs\":[0,1,3,6,9,13,17,21,27,33,41,51,63,75,89,103],\"edge_xs\":[[],[[205,207]],[[205,207],[205,198]],[[205,207],[205,198],[199,205]],[[205,207],[205,198],[199,205],[199,189]],[[205,207],[205,198],[199,205],[199,189],[6,20]],[[205,207],[205,198],[199,205],[199,189],[6,20],[157,165]],[[205,207],[205,198],[199,205],[199,189],[6,20],[157,165],[162,144]],[[205,207],[205,198],[199,205],[199,189],[6,20],[157,165],[162,144],[127,144]],[[205,207],[205,198],[199,205],[199,189],[6,20],[157,165],[162,144],[127,144],[189,165]],[[205,207],[205,198],[199,205],[199,189],[6,20],[157,165],[162,144],[127,144],[189,165],[127,157]],[[205,207],[205,198],[199,205],[199,189],[6,20],[157,165],[162,144],[127,144],[189,165],[127,157],[72,111]],[[205,207],[205,198],[199,205],[199,189],[6,20],[157,165],[162,144],[127,144],[189,165],[127,157],[72,111],[20,72]],[[205,207],[205,198],[199,205],[199,189],[6,20],[157,165],[162,144],[127,144],[189,165],[127,157],[72,111],[20,72],[194,178]],[[205,207],[205,198],[199,205],[199,189],[6,20],[157,165],[162,144],[127,144],[189,165],[127,157],[72,111],[20,72],[194,178],[111,194]],[[205,207],[205,198],[199,205],[199,189],[6,20],[157,165],[162,144],[127,144],[189,165],[127,157],[72,111],[20,72],[194,178],[111,194],[157,178]]],\"edge_ys\":[[],[[96,106]],[[96,106],[96,103]],[[96,106],[96,103],[86,96]],[[96,106],[96,103],[86,96],[86,93]],[[96,106],[96,103],[86,96],[86,93],[71,59]],[[96,106],[96,103],[86,96],[86,93],[71,59],[84,97]],[[96,106],[96,103],[86,96],[86,93],[71,59],[84,97],[112,112]],[[96,106],[96,103],[86,96],[86,93],[71,59],[84,97],[112,112],[97,112]],[[96,106],[96,103],[86,96],[86,93],[71,59],[84,97],[112,112],[97,112],[93,97]],[[96,106],[96,103],[86,96],[86,93],[71,59],[84,97],[112,112],[97,112],[93,97],[97,84]],[[96,106],[96,103],[86,96],[86,93],[71,59],[84,97],[112,112],[97,112],[93,97],[97,84],[31,-8]],[[96,106],[96,103],[86,96],[86,93],[71,59],[84,97],[112,112],[97,112],[93,97],[97,84],[31,-8],[59,31]],[[96,106],[96,103],[86,96],[86,93],[71,59],[84,97],[112,112],[97,112],[93,97],[97,84],[31,-8],[59,31],[-8,38]],[[96,106],[96,103],[86,96],[86,93],[71,59],[84,97],[112,112],[97,112],[93,97],[97,84],[31,-8],[59,31],[-8,38],[-8,-8]],[[96,106],[96,103],[86,96],[86,93],[71,59],[84,97],[112,112],[97,112],[93,97],[97,84],[31,-8],[59,31],[-8,38],[-8,-8],[84,38]]],\"nodes\":[[],[8,7],[8,9,7],[8,9,6,7],[6,7,8,9,15],[0,1,6,7,8,9,15],[0,1,6,7,8,9,10,11,15],[0,1,6,7,8,9,10,11,12,13,15],[0,1,6,7,8,9,10,11,12,13,14,15],[0,1,6,7,8,9,10,11,12,13,14,15],[0,1,6,7,8,9,10,11,12,13,14,15],[0,1,2,3,6,7,8,9,10,11,12,13,14,15],[0,1,2,3,6,7,8,9,10,11,12,13,14,15],[0,1,2,3,4,5,6,7,8,9,10,11,12,13,14,15],[0,1,2,3,4,5,6,7,8,9,10,11,12,13,14,15],[0,1,2,3,4,5,6,7,8,9,10,11,12,13,14,15]]},\"selected\":{\"id\":\"2693\"},\"selection_policy\":{\"id\":\"2692\"}},\"id\":\"2662\",\"type\":\"ColumnDataSource\"},{\"attributes\":{},\"id\":\"2693\",\"type\":\"Selection\"},{\"attributes\":{\"line_cap\":\"round\",\"line_color\":{\"field\":\"line_color\"},\"line_width\":{\"value\":5},\"xs\":{\"field\":\"xs\"},\"ys\":{\"field\":\"ys\"}},\"id\":\"2640\",\"type\":\"MultiLine\"},{\"attributes\":{\"overlay\":{\"id\":\"2620\"}},\"id\":\"2616\",\"type\":\"BoxZoomTool\"},{\"attributes\":{\"align\":\"center\",\"text\":\"0\",\"width\":900},\"id\":\"2652\",\"type\":\"Div\"},{\"attributes\":{\"button_type\":\"primary\",\"icon\":null,\"js_event_callbacks\":{\"button_click\":[{\"id\":\"2664\"}]},\"label\":\"Next\",\"max_width\":450,\"sizing_mode\":\"stretch_width\",\"width_policy\":\"fit\"},\"id\":\"2663\",\"type\":\"Button\"},{\"attributes\":{},\"id\":\"2617\",\"type\":\"SaveTool\"},{\"attributes\":{\"data\":{\"xs\":[[11.867393549830293,14.1326064501697],[64.2132081933475,68.78679180665253],[43.98457472802465,48.01542527197538],[71.31392773909235,75.68607226090765],[100.9065151137992,98.09348488620083],[140.5887402418824,143.4112597581176],[142.37870743870653,146.62129256129347],[134.3832167600553,136.6167832399447],[89.9311343589464,93.06886564105363],[112.57004046214576,116.42995953785424],[150.1483,154.85170000000002],[142.6336759201498,146.3663240798502],[133.03894314211007,134.96105685788993],[166.61006419357236,168.38993580642764],[160.24329823001975,161.75670176998028],[159.25243123412935,159.74756876587068],[151.1019039619186,149.89809603808138],[186.69937892443528,185.30062107556475],[187.6421179461765,189.35788205382346],[201.25793580143863,202.74206419856134],[195.23521488209917,192.7647851179008],[205.72359827057616,206.2764017294238],[202.54591042736908,200.45408957263095],[192.51616586095076,194.4838341390492],[178.54133338379128,175.4586666162087],[203.96931436315347,201.03068563684658],[183.03645249636594,179.96354750363403],[154.5678,151.4322]],\"ys\":[[65.9708055287169,64.02919447128312],[83.50862324815732,84.4913767518427],[46.085228992602126,43.914771007397874],[77.22363788864963,78.77636211135038],[65.68781813655903,62.31218186344098],[91.11154589518429,89.88845410481571],[103.59087461658854,105.40912538341149],[103.51460302357822,105.48539697642181],[13.06886564105362,9.93113435894638],[56.296613464632046,58.703386535367954],[-7.999999999999998,-7.999999999999998],[13.718643169058069,16.281356830941924],[36.07788628422017,39.922113715779815],[62.949383195031956,59.05061680496806],[89.27035962378204,91.72964037621796],[96.61361491112429,99.38638508887571],[96.70359146663688,99.29640853336312],[12.989285592248606,17.010714407751394],[60.03912673411776,63.960873265882256],[89.76322633573106,92.23677366426892],[88.63534958253058,90.36465041746942],[99.61799135288078,102.38200864711922],[98.45408957263092,100.54591042736905],[96.90685095661199,99.09314904338801],[94.74311110270146,95.25688889729855],[104.98977145438448,104.01022854561555],[100.27935499933926,99.72064500066074],[112.00000000000001,112.00000000000001]]},\"selected\":{\"id\":\"2684\"},\"selection_policy\":{\"id\":\"2683\"}},\"id\":\"2644\",\"type\":\"ColumnDataSource\"},{\"attributes\":{\"args\":{\"cost\":{\"id\":\"2661\"},\"done\":{\"id\":\"2654\"},\"edge_subset_src\":{\"id\":\"2655\"},\"k\":{\"id\":\"2653\"},\"n\":{\"id\":\"2652\"},\"nodes_src\":{\"id\":\"2631\"},\"source\":{\"id\":\"2662\"}},\"code\":\"/* Color Theme -- Using Google's Material Design Color System\\n   https://material.io/design/color/the-color-system.html */\\n\\n/** @constant {string} */\\nvar PRIMARY_COLOR = '#1565c0'\\n/** @constant {string} */\\nvar PRIMARY_LIGHT_COLOR = '#5e92f3'\\n/** @constant {string} */\\nvar PRIMARY_DARK_COLOR = '#003c8f'\\n/** @constant {string} */\\nvar SECONDARY_COLOR = '#d50000'\\n/** @constant {string} */\\nvar SECONDARY_LIGHT_COLOR = '#ff5131'\\n/** @constant {string} */\\nvar SECONDARY_DARK_COLOR = '#9b0000'\\n\\n// Grayscale\\n/** @constant {string} */\\nvar TERTIARY_COLOR = '#DFDFDF'\\n/**\\n *  Jupyter Notebook: 'white', Sphinx: '#FCFCFC'\\n *  @constant {string}\\n */\\nvar TERTIARY_LIGHT_COLOR = 'white'\\n/** @constant {string} */\\nvar TERTIARY_DARK_COLOR = '#404040'\\n/** @type {integer} */\\nvar iteration = 0\\n\\n\\n/**\\n * Increment iteration and update n Div.\\n */\\nfunction increment_iteration() {\\n    if ((parseInt(n.text) + 1) < parseInt(k.text)) {\\n        n.text = (parseInt(n.text) + 1).toString()\\n    }\\n    iteration = parseInt(n.text)\\n}\\n\\n/**\\n * Decrement iteration and update n Div.\\n */\\nfunction decrement_iteration() {\\n    if ((parseInt(n.text) - 1) >= 0) {\\n        n.text = (parseInt(n.text) - 1).toString()\\n    }\\n    iteration = parseInt(n.text)\\n}\\n\\n/**\\n * Update which nodes are highlighted given the current iteration.\\n */\\nfunction nodes_update() {\\n    var in_tree = source.data['nodes'][iteration]\\n\\n    for (let i = 0; i < nodes_src.data['line_color'].length ; i++) {\\n        if (in_tree.includes(i)) {\\n            nodes_src.data['fill_color'][i] = PRIMARY_DARK_COLOR\\n            nodes_src.data['line_color'][i] = PRIMARY_DARK_COLOR\\n        } else {\\n            nodes_src.data['fill_color'][i] = PRIMARY_LIGHT_COLOR\\n            nodes_src.data['line_color'][i] = PRIMARY_DARK_COLOR\\n        }\\n    }\\n\\n    nodes_src.change.emit()\\n}\\n\\n/**\\n * Update which subset of edges are highlighted given the current iteration.\\n */\\nfunction edge_subset_update() {\\n    edge_subset_src.data['xs'] = source.data['edge_xs'][iteration]\\n    edge_subset_src.data['ys'] = source.data['edge_ys'][iteration]\\n    edge_subset_src.change.emit()\\n}\\n\\n/**\\n * Update which swaps are updated given the current iteration\\n */\\nfunction swaps_update() {\\n    swaps_src.data['swaps_before_x'] = source.data['swaps_before_x'][iteration]\\n    swaps_src.data['swaps_before_y'] = source.data['swaps_before_y'][iteration]\\n    swaps_src.data['swaps_after_x'] = source.data['swaps_after_x'][iteration]\\n    swaps_src.data['swaps_after_y'] = source.data['swaps_after_y'][iteration]\\n    swaps_src.change.emit()\\n}\\n\\n/**\\n * Update which table is shown given the current iteration.\\n */\\nfunction table_update() {\\n    table_src.data = source.data['tables'][iteration]\\n}\\n\\n/**\\n * Update which cost is shown given the current iteration.\\n */\\nfunction cost_update() {\\n    cost.text = source.data['costs'][iteration].toFixed(1)\\n}\\n\\n/**\\n * Update done Div based on the current iteration.\\n */\\nfunction done_update() {\\n    if (iteration == parseInt(k.text) - 1) {\\n        done.text = \\\"done.\\\"\\n    } else {\\n        done.text = \\\"\\\"\\n    }\\n}\\n\\n// BEGIN FUNCTION CALLING\\nincrement_iteration()\\ndone_update()\\ncost_update()\\nedge_subset_update()\\nnodes_update()\\n\"},\"id\":\"2664\",\"type\":\"CustomJS\"},{\"attributes\":{\"button_type\":\"primary\",\"icon\":null,\"js_event_callbacks\":{\"button_click\":[{\"id\":\"2666\"}]},\"label\":\"Previous\",\"max_width\":450,\"sizing_mode\":\"stretch_width\",\"width_policy\":\"fit\"},\"id\":\"2665\",\"type\":\"Button\"},{\"attributes\":{\"line_color\":{\"value\":\"white\"},\"line_width\":{\"value\":6},\"xs\":{\"field\":\"xs\"},\"ys\":{\"field\":\"ys\"}},\"id\":\"2645\",\"type\":\"MultiLine\"},{\"attributes\":{},\"id\":\"2619\",\"type\":\"HelpTool\"}],\"root_ids\":[\"2694\"]},\"title\":\"Bokeh Application\",\"version\":\"2.2.3\"}};\n",
       "  var render_items = [{\"docid\":\"a1fcb805-6a18-46bc-a674-e0e8bbacc73e\",\"root_ids\":[\"2694\"],\"roots\":{\"2694\":\"8a916ec9-5bbb-4411-8f93-875c3e852e85\"}}];\n",
       "  root.Bokeh.embed.embed_items_notebook(docs_json, render_items);\n",
       "\n",
       "  }\n",
       "  if (root.Bokeh !== undefined) {\n",
       "    embed_document(root);\n",
       "  } else {\n",
       "    var attempts = 0;\n",
       "    var timer = setInterval(function(root) {\n",
       "      if (root.Bokeh !== undefined) {\n",
       "        clearInterval(timer);\n",
       "        embed_document(root);\n",
       "      } else {\n",
       "        attempts++;\n",
       "        if (attempts > 100) {\n",
       "          clearInterval(timer);\n",
       "          console.log(\"Bokeh: ERROR: Unable to run BokehJS code because BokehJS library is missing\");\n",
       "        }\n",
       "      }\n",
       "    }, 10, root)\n",
       "  }\n",
       "})(window);"
      ],
      "application/vnd.bokehjs_exec.v0+json": ""
     },
     "metadata": {
      "application/vnd.bokehjs_exec.v0+json": {
       "id": "2694"
      }
     },
     "output_type": "display_data"
    }
   ],
   "source": [
    "show(vl.mst_algorithm_plot(G, algorithm='kruskals', width=900, height=600))"
   ]
  },
  {
   "cell_type": "markdown",
   "metadata": {},
   "source": [
    "**Q10:** Is the same spanning tree found by the two algorithms?\n",
    "\n",
    "<font color='blue'>No.</font>"
   ]
  },
  {
   "cell_type": "markdown",
   "metadata": {},
   "source": [
    "**Q11:** (Why is the previous question not a dumb question?)\n",
    "\n",
    "<font color='blue'>Both are minimum spanning trees but there can be multiple spanning trees that have the same cost.</font>"
   ]
  },
  {
   "cell_type": "markdown",
   "metadata": {},
   "source": [
    "The following algorithm is called the Reverse Greedy Algorithm, and it\n",
    "effectively does Kruskal's in reverse.\n",
    "\n",
    "1. Start with the entire graph.\n",
    "2. At each step, check if the graph has a cycle. If it does, remove the most expensive edge in the cycle (break ties arbitrarily, and pick any cycle you'd like).\n",
    "3. Continue to do this until the graph remaining is a spanning tree.\n"
   ]
  },
  {
   "cell_type": "code",
   "execution_count": 10,
   "metadata": {},
   "outputs": [
    {
     "data": {
      "text/html": [
       "\n",
       "\n",
       "\n",
       "\n",
       "\n",
       "\n",
       "  <div class=\"bk-root\" id=\"22e4def8-b39e-4fe5-bcdd-3f998790f345\" data-root-id=\"2991\"></div>\n"
      ]
     },
     "metadata": {},
     "output_type": "display_data"
    },
    {
     "data": {
      "application/javascript": [
       "(function(root) {\n",
       "  function embed_document(root) {\n",
       "    \n",
       "  var docs_json = {\"773091d8-9766-41b6-9da8-f9a6fc21fd95\":{\"roots\":{\"references\":[{\"attributes\":{\"children\":[[{\"id\":\"2915\"},0,0],[{\"id\":\"2975\"},1,0]]},\"id\":\"2991\",\"type\":\"GridBox\"},{\"attributes\":{},\"id\":\"2939\",\"type\":\"HelpTool\"},{\"attributes\":{\"text\":\"\"},\"id\":\"2916\",\"type\":\"Title\"},{\"attributes\":{\"data_source\":{\"id\":\"2964\"},\"glyph\":{\"id\":\"2965\"},\"hover_glyph\":null,\"level\":\"guide\",\"muted_glyph\":null,\"nonselection_glyph\":{\"id\":\"2966\"},\"selection_glyph\":null,\"view\":{\"id\":\"2968\"}},\"id\":\"2967\",\"type\":\"GlyphRenderer\"},{\"attributes\":{\"source\":{\"id\":\"2964\"}},\"id\":\"2968\",\"type\":\"CDSView\"},{\"attributes\":{\"line_color\":{\"value\":\"white\"},\"line_width\":{\"value\":6},\"xs\":{\"field\":\"xs\"},\"ys\":{\"field\":\"ys\"}},\"id\":\"2965\",\"type\":\"MultiLine\"},{\"attributes\":{\"end\":224.085,\"start\":-11.085},\"id\":\"2918\",\"type\":\"Range1d\"},{\"attributes\":{\"active_drag\":null,\"active_inspect\":\"auto\",\"active_multi\":null,\"active_scroll\":null,\"active_tap\":\"auto\",\"logo\":null,\"tools\":[{\"id\":\"2934\"},{\"id\":\"2935\"},{\"id\":\"2936\"},{\"id\":\"2937\"},{\"id\":\"2938\"},{\"id\":\"2939\"},{\"id\":\"2973\"}]},\"id\":\"2941\",\"type\":\"Toolbar\"},{\"attributes\":{\"end\":122.2,\"start\":-18.200000000000003},\"id\":\"2920\",\"type\":\"Range1d\"},{\"attributes\":{\"data\":{\"text\":[4,24,12,19,20,8,10,6,10,25,14,18,18,14,4,8,8,12,14,3,3,1,2,4,6,2,6,4],\"x\":{\"__ndarray__\":\"AgAAAAAAKkAAAAAAAKBQQAEAAAAAAEdAAgAAAABgUkACAAAAAOBYQP//////v2FAAAAAAAAQYkAAAAAAAPBgQAAAAAAA4FZAAAAAAACgXED//////w9jQAAAAAAAEGJAAAAAAADAYEAAAAAAAPBkQAAAAAAAIGRAAAAAAADwY0AAAAAAANBiQAEAAAAAQGdAAAAAAACQZ0AAAAAAAEBpQAAAAAAAQGhAAQAAAADAaUAAAAAAADBpQP//////L2hAAAAAAAAgZkABAAAAAFBpQAAAAAAAsGZAAAAAAAAgY0A=\",\"dtype\":\"float64\",\"order\":\"little\",\"shape\":[28]},\"y\":{\"__ndarray__\":\"AAAAAABAUED///////9UQAAAAAAAgEZA//////9/U0AAAAAAAABQQAEAAAAAoFZAAAAAAAAgWkAAAAAAACBaQAAAAAAAACdAAAAAAADATED+//////8fwAAAAAAAAC5AAAAAAAAAQ0ACAAAAAIBOQAEAAAAAoFZAAQAAAACAWEABAAAAAIBYQAAAAAAAAC5AAAAAAAAAT0AAAAAAAMBWQAAAAAAAYFZAAAAAAABAWUABAAAAAOBYQAEAAAAAgFhAAQAAAADAV0AAAAAAACBaQAAAAAAAAFlAAQAAAAAAXEA=\",\"dtype\":\"float64\",\"order\":\"little\",\"shape\":[28]}},\"selected\":{\"id\":\"2982\"},\"selection_policy\":{\"id\":\"2981\"}},\"id\":\"2969\",\"type\":\"ColumnDataSource\"},{\"attributes\":{\"source\":{\"id\":\"2957\"}},\"id\":\"2963\",\"type\":\"CDSView\"},{\"attributes\":{},\"id\":\"2922\",\"type\":\"LinearScale\"},{\"attributes\":{\"line_color\":{\"value\":\"white\"},\"line_width\":{\"value\":6},\"xs\":{\"field\":\"xs\"},\"ys\":{\"field\":\"ys\"}},\"id\":\"2966\",\"type\":\"MultiLine\"},{\"attributes\":{\"data_source\":{\"id\":\"2957\"},\"glyph\":{\"id\":\"2959\"},\"hover_glyph\":{\"id\":\"2961\"},\"level\":\"underlay\",\"muted_glyph\":null,\"nonselection_glyph\":{\"id\":\"2960\"},\"selection_glyph\":null,\"view\":{\"id\":\"2963\"}},\"id\":\"2962\",\"type\":\"GlyphRenderer\"},{\"attributes\":{\"source\":{\"id\":\"2969\"},\"text_align\":\"center\",\"text_baseline\":\"middle\",\"text_color\":{\"value\":\"black\"},\"text_font_size\":{\"value\":\"13px\"},\"x\":{\"field\":\"x\"},\"y\":{\"field\":\"y\"}},\"id\":\"2970\",\"type\":\"LabelSet\"},{\"attributes\":{},\"id\":\"2924\",\"type\":\"LinearScale\"},{\"attributes\":{\"bottom_units\":\"screen\",\"fill_alpha\":0.5,\"fill_color\":\"lightgrey\",\"left_units\":\"screen\",\"level\":\"overlay\",\"line_alpha\":1.0,\"line_color\":\"black\",\"line_dash\":[4,4],\"line_width\":2,\"right_units\":\"screen\",\"top_units\":\"screen\"},\"id\":\"2940\",\"type\":\"BoxAnnotation\"},{\"attributes\":{\"formatter\":{\"id\":\"2977\"},\"ticker\":{\"id\":\"2927\"},\"visible\":false},\"id\":\"2926\",\"type\":\"LinearAxis\"},{\"attributes\":{\"data\":{\"fill_color\":[\"#5e92f3\",\"#5e92f3\",\"#5e92f3\",\"#5e92f3\",\"#5e92f3\",\"#5e92f3\",\"#5e92f3\",\"#5e92f3\",\"#5e92f3\",\"#5e92f3\",\"#5e92f3\",\"#5e92f3\",\"#5e92f3\",\"#5e92f3\",\"#5e92f3\",\"#5e92f3\"],\"line_color\":[\"#003c8f\",\"#003c8f\",\"#003c8f\",\"#003c8f\",\"#003c8f\",\"#003c8f\",\"#003c8f\",\"#003c8f\",\"#003c8f\",\"#003c8f\",\"#003c8f\",\"#003c8f\",\"#003c8f\",\"#003c8f\",\"#003c8f\",\"#003c8f\"],\"line_width\":[3,3,3,3,3,3,3,3,3,3,3,3,3,3,3,3],\"x\":[6,20,72,111,194,178,199,205,207,198,165,157,162,144,127,189],\"y\":[71,59,31,-8,-8,38,86,96,106,103,97,84,112,112,97,93]},\"selected\":{\"id\":\"2985\"},\"selection_policy\":{\"id\":\"2984\"}},\"id\":\"2951\",\"type\":\"ColumnDataSource\"},{\"attributes\":{\"line_cap\":\"round\",\"line_color\":{\"value\":\"#404040\"},\"line_width\":{\"value\":5},\"xs\":{\"field\":\"xs\"},\"ys\":{\"field\":\"ys\"}},\"id\":\"2961\",\"type\":\"MultiLine\"},{\"attributes\":{\"axis\":{\"id\":\"2926\"},\"grid_line_color\":null,\"ticker\":null},\"id\":\"2929\",\"type\":\"Grid\"},{\"attributes\":{},\"id\":\"2979\",\"type\":\"BasicTickFormatter\"},{\"attributes\":{},\"id\":\"2977\",\"type\":\"BasicTickFormatter\"},{\"attributes\":{\"data\":{\"line_color\":[\"#DFDFDF\",\"#DFDFDF\",\"#DFDFDF\",\"#DFDFDF\",\"#DFDFDF\",\"#DFDFDF\",\"#DFDFDF\",\"#DFDFDF\",\"#DFDFDF\",\"#DFDFDF\",\"#DFDFDF\",\"#DFDFDF\",\"#DFDFDF\",\"#DFDFDF\",\"#DFDFDF\",\"#DFDFDF\",\"#DFDFDF\",\"#DFDFDF\",\"#DFDFDF\",\"#DFDFDF\",\"#DFDFDF\",\"#DFDFDF\",\"#DFDFDF\",\"#DFDFDF\",\"#DFDFDF\",\"#DFDFDF\",\"#DFDFDF\",\"#DFDFDF\"],\"u\":[0,0,1,1,14,14,14,14,2,2,3,3,3,11,11,11,11,4,5,6,6,7,7,15,15,8,9,12],\"v\":[1,14,2,14,2,11,12,13,3,11,4,5,11,5,10,12,13,5,6,7,15,8,9,9,10,9,10,13],\"weight\":[4,24,12,19,20,8,10,6,10,25,14,18,18,14,4,8,8,12,14,3,3,1,2,4,6,2,6,4],\"xs\":[[6,20],[6,127],[20,72],[20,127],[127,72],[127,157],[127,162],[127,144],[72,111],[72,157],[111,194],[111,178],[111,157],[157,178],[157,165],[157,162],[157,144],[194,178],[178,199],[199,205],[199,189],[205,207],[205,198],[189,198],[189,165],[207,198],[198,165],[162,144]],\"ys\":[[71,59],[71,97],[59,31],[59,97],[97,31],[97,84],[97,112],[97,112],[31,-8],[31,84],[-8,-8],[-8,38],[-8,84],[84,38],[84,97],[84,112],[84,112],[-8,38],[38,86],[86,96],[86,93],[96,106],[96,103],[93,103],[93,97],[106,103],[103,97],[112,112]]},\"selected\":{\"id\":\"2987\"},\"selection_policy\":{\"id\":\"2986\"}},\"id\":\"2957\",\"type\":\"ColumnDataSource\"},{\"attributes\":{\"formatter\":{\"id\":\"2979\"},\"ticker\":{\"id\":\"2931\"},\"visible\":false},\"id\":\"2930\",\"type\":\"LinearAxis\"},{\"attributes\":{},\"id\":\"2981\",\"type\":\"UnionRenderers\"},{\"attributes\":{\"callback\":null,\"renderers\":[{\"id\":\"2955\"}],\"tooltips\":[[\"Index\",\"$index\"],[\"Name\",\"@name\"]]},\"id\":\"2973\",\"type\":\"HoverTool\"},{\"attributes\":{},\"id\":\"2931\",\"type\":\"BasicTicker\"},{\"attributes\":{},\"id\":\"2982\",\"type\":\"Selection\"},{\"attributes\":{},\"id\":\"2927\",\"type\":\"BasicTicker\"},{\"attributes\":{},\"id\":\"2984\",\"type\":\"UnionRenderers\"},{\"attributes\":{\"axis\":{\"id\":\"2930\"},\"dimension\":1,\"grid_line_color\":null,\"ticker\":null},\"id\":\"2933\",\"type\":\"Grid\"},{\"attributes\":{},\"id\":\"2985\",\"type\":\"Selection\"},{\"attributes\":{\"data_source\":{\"id\":\"2951\"},\"glyph\":{\"id\":\"2953\"},\"hover_glyph\":null,\"muted_glyph\":null,\"nonselection_glyph\":{\"id\":\"2954\"},\"selection_glyph\":null,\"view\":{\"id\":\"2956\"}},\"id\":\"2955\",\"type\":\"GlyphRenderer\"},{\"attributes\":{\"source\":{\"id\":\"2951\"}},\"id\":\"2956\",\"type\":\"CDSView\"},{\"attributes\":{},\"id\":\"2986\",\"type\":\"UnionRenderers\"},{\"attributes\":{\"align\":\"center\",\"width\":300},\"id\":\"2972\",\"type\":\"Div\"},{\"attributes\":{},\"id\":\"2987\",\"type\":\"Selection\"},{\"attributes\":{\"data\":{\"xs\":[[11.301090324745442,14.698909675254566],[63.069812290021225,69.93018770997878],[42.976862092036946,49.02313790796307],[70.22089160863857,76.77910839136149],[101.60977267069882,97.39022732930124],[139.8831103628236,144.11688963717637],[141.31806115805978,147.68193884194022],[133.82482514008294,137.17517485991706],[89.14670153841959,93.85329846158044],[111.6050606932186,117.3949393067814],[148.97244999999998,156.02755],[141.7005138802247,147.2994861197753],[132.55841471316512,135.44158528683488],[166.16509629035858,168.83490370964145],[159.86494734502958,162.13505265497042],[159.128646851194,159.87135314880598],[151.4028559428779,149.5971440571221],[187.04906838665292,184.9509316133471],[187.21317691926478,189.78682308073522],[200.88690370215798,203.11309629784205],[195.85282232314876,192.14717767685121],[205.58539740586426,206.41460259413577],[203.06886564105358,199.9311343589464],[192.02424879142615,194.9757512085738],[179.31200007568697,174.68799992431306],[204.7039715447302,200.29602845526986],[183.80467874454894,179.19532125545106],[155.3517,150.6483]],\"ys\":[[66.45620829307533,63.543791706924665],[83.26293487223596,84.73706512776401],[46.62784348890318,43.372156511096804],[76.83545683297443,79.16454316702556],[66.53172720483855,61.46827279516147],[91.41731884277647,89.58268115722356],[103.13631192488276,105.86368807511724],[103.0219045353673,105.9780954646327],[13.85329846158043,9.146701538419578],[55.694920196948075,59.305079803051925],[-7.999999999999998,-7.999999999999998],[13.077964753587104,16.92203524641289],[35.11682942633026,40.883170573669744],[63.92407479254794,58.07592520745206],[88.65553943567308,92.34446056432695],[95.92042236668642,100.07957763331359],[96.05538719995533,99.9446128000447],[11.98392838837291,18.016071611627098],[59.05869010117662,64.94130989882336],[89.14483950359659,92.85516049640341],[88.20302437379587,90.79697562620413],[98.9269870293212,103.07301297067883],[97.93113435894641,101.0688656410536],[96.360276434918,99.63972356508202],[94.6146666540522,95.38533334594783],[105.23465718157672,103.76534281842328],[100.41903249900889,99.58096750099111],[112.00000000000001,112.00000000000001]]},\"selected\":{\"id\":\"2989\"},\"selection_policy\":{\"id\":\"2988\"}},\"id\":\"2964\",\"type\":\"ColumnDataSource\"},{\"attributes\":{\"fill_color\":{\"field\":\"fill_color\"},\"line_color\":{\"field\":\"line_color\"},\"line_width\":{\"field\":\"line_width\"},\"size\":{\"units\":\"screen\",\"value\":11},\"x\":{\"field\":\"x\"},\"y\":{\"field\":\"y\"}},\"id\":\"2953\",\"type\":\"Circle\"},{\"attributes\":{\"line_cap\":\"round\",\"line_color\":{\"field\":\"line_color\"},\"line_width\":{\"value\":5},\"xs\":{\"field\":\"xs\"},\"ys\":{\"field\":\"ys\"}},\"id\":\"2959\",\"type\":\"MultiLine\"},{\"attributes\":{},\"id\":\"2934\",\"type\":\"PanTool\"},{\"attributes\":{\"fill_color\":{\"field\":\"fill_color\"},\"line_color\":{\"field\":\"line_color\"},\"line_width\":{\"field\":\"line_width\"},\"size\":{\"units\":\"screen\",\"value\":11},\"x\":{\"field\":\"x\"},\"y\":{\"field\":\"y\"}},\"id\":\"2954\",\"type\":\"Circle\"},{\"attributes\":{},\"id\":\"2988\",\"type\":\"UnionRenderers\"},{\"attributes\":{\"children\":[{\"id\":\"2972\"}]},\"id\":\"2975\",\"type\":\"Row\"},{\"attributes\":{},\"id\":\"2935\",\"type\":\"WheelZoomTool\"},{\"attributes\":{},\"id\":\"2989\",\"type\":\"Selection\"},{\"attributes\":{\"overlay\":{\"id\":\"2940\"}},\"id\":\"2936\",\"type\":\"BoxZoomTool\"},{\"attributes\":{\"line_cap\":\"round\",\"line_color\":{\"field\":\"line_color\"},\"line_width\":{\"value\":5},\"xs\":{\"field\":\"xs\"},\"ys\":{\"field\":\"ys\"}},\"id\":\"2960\",\"type\":\"MultiLine\"},{\"attributes\":{},\"id\":\"2937\",\"type\":\"SaveTool\"},{\"attributes\":{\"background_fill_color\":null,\"below\":[{\"id\":\"2926\"}],\"border_fill_color\":null,\"center\":[{\"id\":\"2929\"},{\"id\":\"2933\"},{\"id\":\"2970\"}],\"left\":[{\"id\":\"2930\"}],\"outline_line_color\":null,\"plot_height\":400,\"renderers\":[{\"id\":\"2955\"},{\"id\":\"2962\"},{\"id\":\"2967\"}],\"title\":{\"id\":\"2916\"},\"toolbar\":{\"id\":\"2941\"},\"toolbar_location\":null,\"x_range\":{\"id\":\"2918\"},\"x_scale\":{\"id\":\"2922\"},\"y_range\":{\"id\":\"2920\"},\"y_scale\":{\"id\":\"2924\"}},\"id\":\"2915\",\"subtype\":\"Figure\",\"type\":\"Plot\"},{\"attributes\":{},\"id\":\"2938\",\"type\":\"ResetTool\"}],\"root_ids\":[\"2991\"]},\"title\":\"Bokeh Application\",\"version\":\"2.2.3\"}};\n",
       "  var render_items = [{\"docid\":\"773091d8-9766-41b6-9da8-f9a6fc21fd95\",\"root_ids\":[\"2991\"],\"roots\":{\"2991\":\"22e4def8-b39e-4fe5-bcdd-3f998790f345\"}}];\n",
       "  root.Bokeh.embed.embed_items_notebook(docs_json, render_items);\n",
       "\n",
       "  }\n",
       "  if (root.Bokeh !== undefined) {\n",
       "    embed_document(root);\n",
       "  } else {\n",
       "    var attempts = 0;\n",
       "    var timer = setInterval(function(root) {\n",
       "      if (root.Bokeh !== undefined) {\n",
       "        clearInterval(timer);\n",
       "        embed_document(root);\n",
       "      } else {\n",
       "        attempts++;\n",
       "        if (attempts > 100) {\n",
       "          clearInterval(timer);\n",
       "          console.log(\"Bokeh: ERROR: Unable to run BokehJS code because BokehJS library is missing\");\n",
       "        }\n",
       "      }\n",
       "    }, 10, root)\n",
       "  }\n",
       "})(window);"
      ],
      "application/vnd.bokehjs_exec.v0+json": ""
     },
     "metadata": {
      "application/vnd.bokehjs_exec.v0+json": {
       "id": "2991"
      }
     },
     "output_type": "display_data"
    }
   ],
   "source": [
    "show(vl.tree_plot(G, tree=[], width=600))"
   ]
  },
  {
   "cell_type": "markdown",
   "metadata": {},
   "source": [
    "**Q12:** Run the first 5 iterations of this algorithm. Show your work: indicate the order in which you delete the edges.\n",
    "\n",
    "**A:** <font color='blue'> Delete edges in this order: (2,11), (0,14), (2,14),(1,14),(11,3) </font>"
   ]
  },
  {
   "cell_type": "markdown",
   "metadata": {},
   "source": [
    "Run the cell below and click next until you have a minimum spanning tree. Note: this software works a little bit different than the above process, and it always looks for the most expensive edge it can eliminate.  It will run a version of Reverse Kruskal's, but won't run in the full generality as above."
   ]
  },
  {
   "cell_type": "code",
   "execution_count": 19,
   "metadata": {},
   "outputs": [
    {
     "data": {
      "text/html": [
       "\n",
       "\n",
       "\n",
       "\n",
       "\n",
       "\n",
       "  <div class=\"bk-root\" id=\"07365e4e-dfcf-4791-b6ab-eb43df158a9b\" data-root-id=\"2624\"></div>\n"
      ]
     },
     "metadata": {},
     "output_type": "display_data"
    },
    {
     "data": {
      "application/javascript": [
       "(function(root) {\n",
       "  function embed_document(root) {\n",
       "    \n",
       "  var docs_json = {\"7d58266a-a02f-4369-aacd-8382717af499\":{\"roots\":{\"references\":[{\"attributes\":{\"children\":[[{\"id\":\"2525\"},0,0],[{\"id\":\"2599\"},1,0],[{\"id\":\"2600\"},2,0]]},\"id\":\"2624\",\"type\":\"GridBox\"},{\"attributes\":{\"data\":{\"costs\":[279,254,230,210,191,173,155,141,131,123,115,109,105,103],\"edge_xs\":[[[6,127],[6,20],[20,127],[20,72],[72,157],[72,127],[72,111],[111,178],[111,157],[111,194],[194,178],[178,157],[178,199],[199,205],[199,189],[205,198],[205,207],[207,198],[198,165],[198,189],[165,189],[165,157],[157,127],[157,162],[157,144],[162,127],[162,144],[144,127]],[[6,127],[6,20],[20,127],[20,72],[72,127],[72,111],[111,178],[111,157],[111,194],[194,178],[178,157],[178,199],[199,205],[199,189],[205,198],[205,207],[207,198],[198,165],[198,189],[165,189],[165,157],[157,127],[157,162],[157,144],[162,127],[162,144],[144,127]],[[6,20],[20,127],[20,72],[72,127],[72,111],[111,178],[111,157],[111,194],[194,178],[178,157],[178,199],[199,205],[199,189],[205,198],[205,207],[207,198],[198,165],[198,189],[165,189],[165,157],[157,127],[157,162],[157,144],[162,127],[162,144],[144,127]],[[6,20],[20,127],[20,72],[72,111],[111,178],[111,157],[111,194],[194,178],[178,157],[178,199],[199,205],[199,189],[205,198],[205,207],[207,198],[198,165],[198,189],[165,189],[165,157],[157,127],[157,162],[157,144],[162,127],[162,144],[144,127]],[[6,20],[20,72],[72,111],[111,178],[111,157],[111,194],[194,178],[178,157],[178,199],[199,205],[199,189],[205,198],[205,207],[207,198],[198,165],[198,189],[165,189],[165,157],[157,127],[157,162],[157,144],[162,127],[162,144],[144,127]],[[6,20],[20,72],[72,111],[111,157],[111,194],[194,178],[178,157],[178,199],[199,205],[199,189],[205,198],[205,207],[207,198],[198,165],[198,189],[165,189],[165,157],[157,127],[157,162],[157,144],[162,127],[162,144],[144,127]],[[6,20],[20,72],[72,111],[111,194],[194,178],[178,157],[178,199],[199,205],[199,189],[205,198],[205,207],[207,198],[198,165],[198,189],[165,189],[165,157],[157,127],[157,162],[157,144],[162,127],[162,144],[144,127]],[[6,20],[20,72],[72,111],[111,194],[194,178],[178,199],[199,205],[199,189],[205,198],[205,207],[207,198],[198,165],[198,189],[165,189],[165,157],[157,127],[157,162],[157,144],[162,127],[162,144],[144,127]],[[6,20],[20,72],[72,111],[111,194],[194,178],[178,199],[199,205],[199,189],[205,198],[205,207],[207,198],[198,165],[198,189],[165,189],[165,157],[157,127],[157,162],[157,144],[162,144],[144,127]],[[6,20],[20,72],[72,111],[111,194],[194,178],[178,199],[199,205],[199,189],[205,198],[205,207],[207,198],[198,165],[198,189],[165,189],[165,157],[157,162],[157,144],[162,144],[144,127]],[[6,20],[20,72],[72,111],[111,194],[194,178],[178,199],[199,205],[199,189],[205,198],[205,207],[207,198],[198,165],[198,189],[165,189],[165,157],[157,144],[162,144],[144,127]],[[6,20],[20,72],[72,111],[111,194],[194,178],[178,199],[199,205],[199,189],[205,198],[205,207],[207,198],[198,165],[198,189],[165,157],[157,144],[162,144],[144,127]],[[6,20],[20,72],[72,111],[111,194],[194,178],[178,199],[199,205],[199,189],[205,198],[205,207],[207,198],[198,165],[165,157],[157,144],[162,144],[144,127]],[[6,20],[20,72],[72,111],[111,194],[194,178],[178,199],[199,205],[199,189],[205,207],[207,198],[198,165],[165,157],[157,144],[162,144],[144,127]]],\"edge_ys\":[[[71,97],[71,59],[59,97],[59,31],[31,84],[31,97],[31,-8],[-8,38],[-8,84],[-8,-8],[-8,38],[38,84],[38,86],[86,96],[86,93],[96,103],[96,106],[106,103],[103,97],[103,93],[97,93],[97,84],[84,97],[84,112],[84,112],[112,97],[112,112],[112,97]],[[71,97],[71,59],[59,97],[59,31],[31,97],[31,-8],[-8,38],[-8,84],[-8,-8],[-8,38],[38,84],[38,86],[86,96],[86,93],[96,103],[96,106],[106,103],[103,97],[103,93],[97,93],[97,84],[84,97],[84,112],[84,112],[112,97],[112,112],[112,97]],[[71,59],[59,97],[59,31],[31,97],[31,-8],[-8,38],[-8,84],[-8,-8],[-8,38],[38,84],[38,86],[86,96],[86,93],[96,103],[96,106],[106,103],[103,97],[103,93],[97,93],[97,84],[84,97],[84,112],[84,112],[112,97],[112,112],[112,97]],[[71,59],[59,97],[59,31],[31,-8],[-8,38],[-8,84],[-8,-8],[-8,38],[38,84],[38,86],[86,96],[86,93],[96,103],[96,106],[106,103],[103,97],[103,93],[97,93],[97,84],[84,97],[84,112],[84,112],[112,97],[112,112],[112,97]],[[71,59],[59,31],[31,-8],[-8,38],[-8,84],[-8,-8],[-8,38],[38,84],[38,86],[86,96],[86,93],[96,103],[96,106],[106,103],[103,97],[103,93],[97,93],[97,84],[84,97],[84,112],[84,112],[112,97],[112,112],[112,97]],[[71,59],[59,31],[31,-8],[-8,84],[-8,-8],[-8,38],[38,84],[38,86],[86,96],[86,93],[96,103],[96,106],[106,103],[103,97],[103,93],[97,93],[97,84],[84,97],[84,112],[84,112],[112,97],[112,112],[112,97]],[[71,59],[59,31],[31,-8],[-8,-8],[-8,38],[38,84],[38,86],[86,96],[86,93],[96,103],[96,106],[106,103],[103,97],[103,93],[97,93],[97,84],[84,97],[84,112],[84,112],[112,97],[112,112],[112,97]],[[71,59],[59,31],[31,-8],[-8,-8],[-8,38],[38,86],[86,96],[86,93],[96,103],[96,106],[106,103],[103,97],[103,93],[97,93],[97,84],[84,97],[84,112],[84,112],[112,97],[112,112],[112,97]],[[71,59],[59,31],[31,-8],[-8,-8],[-8,38],[38,86],[86,96],[86,93],[96,103],[96,106],[106,103],[103,97],[103,93],[97,93],[97,84],[84,97],[84,112],[84,112],[112,112],[112,97]],[[71,59],[59,31],[31,-8],[-8,-8],[-8,38],[38,86],[86,96],[86,93],[96,103],[96,106],[106,103],[103,97],[103,93],[97,93],[97,84],[84,112],[84,112],[112,112],[112,97]],[[71,59],[59,31],[31,-8],[-8,-8],[-8,38],[38,86],[86,96],[86,93],[96,103],[96,106],[106,103],[103,97],[103,93],[97,93],[97,84],[84,112],[112,112],[112,97]],[[71,59],[59,31],[31,-8],[-8,-8],[-8,38],[38,86],[86,96],[86,93],[96,103],[96,106],[106,103],[103,97],[103,93],[97,84],[84,112],[112,112],[112,97]],[[71,59],[59,31],[31,-8],[-8,-8],[-8,38],[38,86],[86,96],[86,93],[96,103],[96,106],[106,103],[103,97],[97,84],[84,112],[112,112],[112,97]],[[71,59],[59,31],[31,-8],[-8,-8],[-8,38],[38,86],[86,96],[86,93],[96,106],[106,103],[103,97],[97,84],[84,112],[112,112],[112,97]]],\"nodes\":[[0,1,2,3,4,5,6,7,8,9,10,11,12,13,14,15],[0,1,2,3,4,5,6,7,8,9,10,11,12,13,14,15],[0,1,2,3,4,5,6,7,8,9,10,11,12,13,14,15],[0,1,2,3,4,5,6,7,8,9,10,11,12,13,14,15],[0,1,2,3,4,5,6,7,8,9,10,11,12,13,14,15],[0,1,2,3,4,5,6,7,8,9,10,11,12,13,14,15],[0,1,2,3,4,5,6,7,8,9,10,11,12,13,14,15],[0,1,2,3,4,5,6,7,8,9,10,11,12,13,14,15],[0,1,2,3,4,5,6,7,8,9,10,11,12,13,14,15],[0,1,2,3,4,5,6,7,8,9,10,11,12,13,14,15],[0,1,2,3,4,5,6,7,8,9,10,11,12,13,14,15],[0,1,2,3,4,5,6,7,8,9,10,11,12,13,14,15],[0,1,2,3,4,5,6,7,8,9,10,11,12,13,14,15],[0,1,2,3,4,5,6,7,8,9,10,11,12,13,14,15]]},\"selected\":{\"id\":\"2622\"},\"selection_policy\":{\"id\":\"2623\"}},\"id\":\"2592\",\"type\":\"ColumnDataSource\"},{\"attributes\":{\"axis\":{\"id\":\"2536\"},\"grid_line_color\":null,\"ticker\":null},\"id\":\"2539\",\"type\":\"Grid\"},{\"attributes\":{\"background_fill_color\":null,\"below\":[{\"id\":\"2536\"}],\"border_fill_color\":null,\"center\":[{\"id\":\"2539\"},{\"id\":\"2543\"},{\"id\":\"2580\"}],\"left\":[{\"id\":\"2540\"}],\"outline_line_color\":null,\"plot_width\":900,\"renderers\":[{\"id\":\"2565\"},{\"id\":\"2572\"},{\"id\":\"2577\"},{\"id\":\"2589\"}],\"title\":{\"id\":\"2526\"},\"toolbar\":{\"id\":\"2551\"},\"toolbar_location\":null,\"x_range\":{\"id\":\"2528\"},\"x_scale\":{\"id\":\"2532\"},\"y_range\":{\"id\":\"2530\"},\"y_scale\":{\"id\":\"2534\"}},\"id\":\"2525\",\"subtype\":\"Figure\",\"type\":\"Plot\"},{\"attributes\":{\"line_cap\":\"round\",\"line_color\":{\"value\":\"#404040\"},\"line_width\":{\"value\":5},\"xs\":{\"field\":\"xs\"},\"ys\":{\"field\":\"ys\"}},\"id\":\"2571\",\"type\":\"MultiLine\"},{\"attributes\":{\"data_source\":{\"id\":\"2567\"},\"glyph\":{\"id\":\"2569\"},\"hover_glyph\":{\"id\":\"2571\"},\"level\":\"underlay\",\"muted_glyph\":null,\"nonselection_glyph\":{\"id\":\"2570\"},\"selection_glyph\":null,\"view\":{\"id\":\"2573\"}},\"id\":\"2572\",\"type\":\"GlyphRenderer\"},{\"attributes\":{\"button_type\":\"primary\",\"icon\":null,\"js_event_callbacks\":{\"button_click\":[{\"id\":\"2594\"}]},\"label\":\"Next\",\"max_width\":450,\"sizing_mode\":\"stretch_width\",\"width_policy\":\"fit\"},\"id\":\"2593\",\"type\":\"Button\"},{\"attributes\":{},\"id\":\"2547\",\"type\":\"SaveTool\"},{\"attributes\":{},\"id\":\"2608\",\"type\":\"UnionRenderers\"},{\"attributes\":{\"overlay\":{\"id\":\"2550\"}},\"id\":\"2546\",\"type\":\"BoxZoomTool\"},{\"attributes\":{\"line_cap\":\"round\",\"line_color\":{\"field\":\"line_color\"},\"line_width\":{\"value\":5},\"xs\":{\"field\":\"xs\"},\"ys\":{\"field\":\"ys\"}},\"id\":\"2569\",\"type\":\"MultiLine\"},{\"attributes\":{\"button_type\":\"primary\",\"icon\":null,\"js_event_callbacks\":{\"button_click\":[{\"id\":\"2596\"}]},\"label\":\"Previous\",\"max_width\":450,\"sizing_mode\":\"stretch_width\",\"width_policy\":\"fit\"},\"id\":\"2595\",\"type\":\"Button\"},{\"attributes\":{\"data\":{\"fill_color\":[\"#003c8f\",\"#003c8f\",\"#003c8f\",\"#003c8f\",\"#003c8f\",\"#003c8f\",\"#003c8f\",\"#003c8f\",\"#003c8f\",\"#003c8f\",\"#003c8f\",\"#003c8f\",\"#003c8f\",\"#003c8f\",\"#003c8f\",\"#003c8f\"],\"line_color\":[\"#003c8f\",\"#003c8f\",\"#003c8f\",\"#003c8f\",\"#003c8f\",\"#003c8f\",\"#003c8f\",\"#003c8f\",\"#003c8f\",\"#003c8f\",\"#003c8f\",\"#003c8f\",\"#003c8f\",\"#003c8f\",\"#003c8f\",\"#003c8f\"],\"line_width\":[3,3,3,3,3,3,3,3,3,3,3,3,3,3,3,3],\"x\":[6,20,72,111,194,178,199,205,207,198,165,157,162,144,127,189],\"y\":[71,59,31,-8,-8,38,86,96,106,103,97,84,112,112,97,93]},\"selected\":{\"id\":\"2609\"},\"selection_policy\":{\"id\":\"2610\"}},\"id\":\"2561\",\"type\":\"ColumnDataSource\"},{\"attributes\":{\"data_source\":{\"id\":\"2561\"},\"glyph\":{\"id\":\"2563\"},\"hover_glyph\":null,\"muted_glyph\":null,\"nonselection_glyph\":{\"id\":\"2564\"},\"selection_glyph\":null,\"view\":{\"id\":\"2566\"}},\"id\":\"2565\",\"type\":\"GlyphRenderer\"},{\"attributes\":{\"axis\":{\"id\":\"2540\"},\"dimension\":1,\"grid_line_color\":null,\"ticker\":null},\"id\":\"2543\",\"type\":\"Grid\"},{\"attributes\":{\"args\":{\"cost\":{\"id\":\"2591\"},\"done\":{\"id\":\"2584\"},\"edge_subset_src\":{\"id\":\"2585\"},\"k\":{\"id\":\"2583\"},\"n\":{\"id\":\"2582\"},\"nodes_src\":{\"id\":\"2561\"},\"source\":{\"id\":\"2592\"}},\"code\":\"/* Color Theme -- Using Google's Material Design Color System\\n   https://material.io/design/color/the-color-system.html */\\n\\n/** @constant {string} */\\nvar PRIMARY_COLOR = '#1565c0'\\n/** @constant {string} */\\nvar PRIMARY_LIGHT_COLOR = '#5e92f3'\\n/** @constant {string} */\\nvar PRIMARY_DARK_COLOR = '#003c8f'\\n/** @constant {string} */\\nvar SECONDARY_COLOR = '#d50000'\\n/** @constant {string} */\\nvar SECONDARY_LIGHT_COLOR = '#ff5131'\\n/** @constant {string} */\\nvar SECONDARY_DARK_COLOR = '#9b0000'\\n\\n// Grayscale\\n/** @constant {string} */\\nvar TERTIARY_COLOR = '#DFDFDF'\\n/**\\n *  Jupyter Notebook: 'white', Sphinx: '#FCFCFC'\\n *  @constant {string}\\n */\\nvar TERTIARY_LIGHT_COLOR = 'white'\\n/** @constant {string} */\\nvar TERTIARY_DARK_COLOR = '#404040'\\n/** @type {integer} */\\nvar iteration = 0\\n\\n\\n/**\\n * Increment iteration and update n Div.\\n */\\nfunction increment_iteration() {\\n    if ((parseInt(n.text) + 1) < parseInt(k.text)) {\\n        n.text = (parseInt(n.text) + 1).toString()\\n    }\\n    iteration = parseInt(n.text)\\n}\\n\\n/**\\n * Decrement iteration and update n Div.\\n */\\nfunction decrement_iteration() {\\n    if ((parseInt(n.text) - 1) >= 0) {\\n        n.text = (parseInt(n.text) - 1).toString()\\n    }\\n    iteration = parseInt(n.text)\\n}\\n\\n/**\\n * Update which nodes are highlighted given the current iteration.\\n */\\nfunction nodes_update() {\\n    var in_tree = source.data['nodes'][iteration]\\n\\n    for (let i = 0; i < nodes_src.data['line_color'].length ; i++) {\\n        if (in_tree.includes(i)) {\\n            nodes_src.data['fill_color'][i] = PRIMARY_DARK_COLOR\\n            nodes_src.data['line_color'][i] = PRIMARY_DARK_COLOR\\n        } else {\\n            nodes_src.data['fill_color'][i] = PRIMARY_LIGHT_COLOR\\n            nodes_src.data['line_color'][i] = PRIMARY_DARK_COLOR\\n        }\\n    }\\n\\n    nodes_src.change.emit()\\n}\\n\\n/**\\n * Update which subset of edges are highlighted given the current iteration.\\n */\\nfunction edge_subset_update() {\\n    edge_subset_src.data['xs'] = source.data['edge_xs'][iteration]\\n    edge_subset_src.data['ys'] = source.data['edge_ys'][iteration]\\n    edge_subset_src.change.emit()\\n}\\n\\n/**\\n * Update which swaps are updated given the current iteration\\n */\\nfunction swaps_update() {\\n    swaps_src.data['swaps_before_x'] = source.data['swaps_before_x'][iteration]\\n    swaps_src.data['swaps_before_y'] = source.data['swaps_before_y'][iteration]\\n    swaps_src.data['swaps_after_x'] = source.data['swaps_after_x'][iteration]\\n    swaps_src.data['swaps_after_y'] = source.data['swaps_after_y'][iteration]\\n    swaps_src.change.emit()\\n}\\n\\n/**\\n * Update which table is shown given the current iteration.\\n */\\nfunction table_update() {\\n    table_src.data = source.data['tables'][iteration]\\n}\\n\\n/**\\n * Update which cost is shown given the current iteration.\\n */\\nfunction cost_update() {\\n    cost.text = source.data['costs'][iteration].toFixed(1)\\n}\\n\\n/**\\n * Update done Div based on the current iteration.\\n */\\nfunction done_update() {\\n    if (iteration == parseInt(k.text) - 1) {\\n        done.text = \\\"done.\\\"\\n    } else {\\n        done.text = \\\"\\\"\\n    }\\n}\\n\\n// BEGIN FUNCTION CALLING\\nincrement_iteration()\\ndone_update()\\ncost_update()\\nedge_subset_update()\\nnodes_update()\\n\"},\"id\":\"2594\",\"type\":\"CustomJS\"},{\"attributes\":{},\"id\":\"2607\",\"type\":\"Selection\"},{\"attributes\":{},\"id\":\"2545\",\"type\":\"WheelZoomTool\"},{\"attributes\":{\"fill_color\":{\"field\":\"fill_color\"},\"line_color\":{\"field\":\"line_color\"},\"line_width\":{\"field\":\"line_width\"},\"size\":{\"units\":\"screen\",\"value\":11},\"x\":{\"field\":\"x\"},\"y\":{\"field\":\"y\"}},\"id\":\"2563\",\"type\":\"Circle\"},{\"attributes\":{\"source\":{\"id\":\"2567\"}},\"id\":\"2573\",\"type\":\"CDSView\"},{\"attributes\":{},\"id\":\"2613\",\"type\":\"Selection\"},{\"attributes\":{\"formatter\":{\"id\":\"2603\"},\"ticker\":{\"id\":\"2541\"},\"visible\":false},\"id\":\"2540\",\"type\":\"LinearAxis\"},{\"attributes\":{},\"id\":\"2548\",\"type\":\"ResetTool\"},{\"attributes\":{},\"id\":\"2609\",\"type\":\"Selection\"},{\"attributes\":{\"source\":{\"id\":\"2561\"}},\"id\":\"2566\",\"type\":\"CDSView\"},{\"attributes\":{},\"id\":\"2614\",\"type\":\"UnionRenderers\"},{\"attributes\":{\"data\":{\"xs\":[[11.867393549830293,14.1326064501697],[64.2132081933475,68.78679180665253],[43.98457472802465,48.01542527197538],[71.31392773909235,75.68607226090765],[100.9065151137992,98.09348488620083],[140.5887402418824,143.4112597581176],[142.37870743870653,146.62129256129347],[134.3832167600553,136.6167832399447],[89.9311343589464,93.06886564105363],[112.57004046214576,116.42995953785424],[150.1483,154.85170000000002],[142.6336759201498,146.3663240798502],[133.03894314211007,134.96105685788993],[166.61006419357236,168.38993580642764],[160.24329823001975,161.75670176998028],[159.25243123412935,159.74756876587068],[151.1019039619186,149.89809603808138],[186.69937892443528,185.30062107556475],[187.6421179461765,189.35788205382346],[201.25793580143863,202.74206419856134],[195.23521488209917,192.7647851179008],[205.72359827057616,206.2764017294238],[202.54591042736908,200.45408957263095],[192.51616586095076,194.4838341390492],[178.54133338379128,175.4586666162087],[203.96931436315347,201.03068563684658],[183.03645249636594,179.96354750363403],[154.5678,151.4322]],\"ys\":[[65.9708055287169,64.02919447128312],[83.50862324815732,84.4913767518427],[46.085228992602126,43.914771007397874],[77.22363788864963,78.77636211135038],[65.68781813655903,62.31218186344098],[91.11154589518429,89.88845410481571],[103.59087461658854,105.40912538341149],[103.51460302357822,105.48539697642181],[13.06886564105362,9.93113435894638],[56.296613464632046,58.703386535367954],[-7.999999999999998,-7.999999999999998],[13.718643169058069,16.281356830941924],[36.07788628422017,39.922113715779815],[62.949383195031956,59.05061680496806],[89.27035962378204,91.72964037621796],[96.61361491112429,99.38638508887571],[96.70359146663688,99.29640853336312],[12.989285592248606,17.010714407751394],[60.03912673411776,63.960873265882256],[89.76322633573106,92.23677366426892],[88.63534958253058,90.36465041746942],[99.61799135288078,102.38200864711922],[98.45408957263092,100.54591042736905],[96.90685095661199,99.09314904338801],[94.74311110270146,95.25688889729855],[104.98977145438448,104.01022854561555],[100.27935499933926,99.72064500066074],[112.00000000000001,112.00000000000001]]},\"selected\":{\"id\":\"2613\"},\"selection_policy\":{\"id\":\"2614\"}},\"id\":\"2574\",\"type\":\"ColumnDataSource\"},{\"attributes\":{\"args\":{\"cost\":{\"id\":\"2591\"},\"done\":{\"id\":\"2584\"},\"edge_subset_src\":{\"id\":\"2585\"},\"k\":{\"id\":\"2583\"},\"n\":{\"id\":\"2582\"},\"nodes_src\":{\"id\":\"2561\"},\"source\":{\"id\":\"2592\"}},\"code\":\"/* Color Theme -- Using Google's Material Design Color System\\n   https://material.io/design/color/the-color-system.html */\\n\\n/** @constant {string} */\\nvar PRIMARY_COLOR = '#1565c0'\\n/** @constant {string} */\\nvar PRIMARY_LIGHT_COLOR = '#5e92f3'\\n/** @constant {string} */\\nvar PRIMARY_DARK_COLOR = '#003c8f'\\n/** @constant {string} */\\nvar SECONDARY_COLOR = '#d50000'\\n/** @constant {string} */\\nvar SECONDARY_LIGHT_COLOR = '#ff5131'\\n/** @constant {string} */\\nvar SECONDARY_DARK_COLOR = '#9b0000'\\n\\n// Grayscale\\n/** @constant {string} */\\nvar TERTIARY_COLOR = '#DFDFDF'\\n/**\\n *  Jupyter Notebook: 'white', Sphinx: '#FCFCFC'\\n *  @constant {string}\\n */\\nvar TERTIARY_LIGHT_COLOR = 'white'\\n/** @constant {string} */\\nvar TERTIARY_DARK_COLOR = '#404040'\\n/** @type {integer} */\\nvar iteration = 0\\n\\n\\n/**\\n * Increment iteration and update n Div.\\n */\\nfunction increment_iteration() {\\n    if ((parseInt(n.text) + 1) < parseInt(k.text)) {\\n        n.text = (parseInt(n.text) + 1).toString()\\n    }\\n    iteration = parseInt(n.text)\\n}\\n\\n/**\\n * Decrement iteration and update n Div.\\n */\\nfunction decrement_iteration() {\\n    if ((parseInt(n.text) - 1) >= 0) {\\n        n.text = (parseInt(n.text) - 1).toString()\\n    }\\n    iteration = parseInt(n.text)\\n}\\n\\n/**\\n * Update which nodes are highlighted given the current iteration.\\n */\\nfunction nodes_update() {\\n    var in_tree = source.data['nodes'][iteration]\\n\\n    for (let i = 0; i < nodes_src.data['line_color'].length ; i++) {\\n        if (in_tree.includes(i)) {\\n            nodes_src.data['fill_color'][i] = PRIMARY_DARK_COLOR\\n            nodes_src.data['line_color'][i] = PRIMARY_DARK_COLOR\\n        } else {\\n            nodes_src.data['fill_color'][i] = PRIMARY_LIGHT_COLOR\\n            nodes_src.data['line_color'][i] = PRIMARY_DARK_COLOR\\n        }\\n    }\\n\\n    nodes_src.change.emit()\\n}\\n\\n/**\\n * Update which subset of edges are highlighted given the current iteration.\\n */\\nfunction edge_subset_update() {\\n    edge_subset_src.data['xs'] = source.data['edge_xs'][iteration]\\n    edge_subset_src.data['ys'] = source.data['edge_ys'][iteration]\\n    edge_subset_src.change.emit()\\n}\\n\\n/**\\n * Update which swaps are updated given the current iteration\\n */\\nfunction swaps_update() {\\n    swaps_src.data['swaps_before_x'] = source.data['swaps_before_x'][iteration]\\n    swaps_src.data['swaps_before_y'] = source.data['swaps_before_y'][iteration]\\n    swaps_src.data['swaps_after_x'] = source.data['swaps_after_x'][iteration]\\n    swaps_src.data['swaps_after_y'] = source.data['swaps_after_y'][iteration]\\n    swaps_src.change.emit()\\n}\\n\\n/**\\n * Update which table is shown given the current iteration.\\n */\\nfunction table_update() {\\n    table_src.data = source.data['tables'][iteration]\\n}\\n\\n/**\\n * Update which cost is shown given the current iteration.\\n */\\nfunction cost_update() {\\n    cost.text = source.data['costs'][iteration].toFixed(1)\\n}\\n\\n/**\\n * Update done Div based on the current iteration.\\n */\\nfunction done_update() {\\n    if (iteration == parseInt(k.text) - 1) {\\n        done.text = \\\"done.\\\"\\n    } else {\\n        done.text = \\\"\\\"\\n    }\\n}\\n\\n// BEGIN FUNCTION CALLING\\ndecrement_iteration()\\ndone_update()\\ncost_update()\\nedge_subset_update()\\nnodes_update()\\n\"},\"id\":\"2596\",\"type\":\"CustomJS\"},{\"attributes\":{\"callback\":null,\"renderers\":[{\"id\":\"2565\"}],\"tooltips\":[[\"Index\",\"$index\"],[\"Name\",\"@name\"]]},\"id\":\"2597\",\"type\":\"HoverTool\"},{\"attributes\":{\"data\":{\"text\":[4,24,12,19,20,8,10,6,10,25,14,18,18,14,4,8,8,12,14,3,3,1,2,4,6,2,6,4],\"x\":{\"__ndarray__\":\"/v//////KUAAAAAAAKBQQAEAAAAAAEdAAAAAAABgUkAAAAAAAOBYQAAAAAAAwGFAAAAAAAAQYkAAAAAAAPBgQAAAAAAA4FZAAAAAAACgXEABAAAAABBjQAAAAAAAEGJAAAAAAADAYEAAAAAAAPBkQAAAAAAAIGRAAAAAAADwY0D//////89iQAAAAAAAQGdAAAAAAACQZ0D//////z9pQAAAAAAAQGhAAAAAAADAaUAAAAAAADBpQAAAAAAAMGhA//////8fZkABAAAAAFBpQAAAAAAAsGZAAAAAAAAgY0A=\",\"dtype\":\"float64\",\"order\":\"little\",\"shape\":[28]},\"y\":{\"__ndarray__\":\"AAAAAABAUEAAAAAAAABVQAAAAAAAgEZAAAAAAACAU0AAAAAAAABQQAAAAAAAoFZAAAAAAAAgWkAAAAAAACBaQAAAAAAAACdAAAAAAADATED+//////8fwAAAAAAAAC5AAAAAAAAAQ0ACAAAAAIBOQAAAAAAAoFZAAAAAAACAWEAAAAAAAIBYQAAAAAAAAC5AAgAAAAAAT0AAAAAAAMBWQAAAAAAAYFZAAAAAAABAWUD//////99YQAAAAAAAgFhAAAAAAADAV0AAAAAAACBaQAAAAAAAAFlAAQAAAAAAXEA=\",\"dtype\":\"float64\",\"order\":\"little\",\"shape\":[28]}},\"selected\":{\"id\":\"2607\"},\"selection_policy\":{\"id\":\"2608\"}},\"id\":\"2579\",\"type\":\"ColumnDataSource\"},{\"attributes\":{\"fill_color\":{\"field\":\"fill_color\"},\"line_color\":{\"field\":\"line_color\"},\"line_width\":{\"field\":\"line_width\"},\"size\":{\"units\":\"screen\",\"value\":11},\"x\":{\"field\":\"x\"},\"y\":{\"field\":\"y\"}},\"id\":\"2564\",\"type\":\"Circle\"},{\"attributes\":{},\"id\":\"2623\",\"type\":\"UnionRenderers\"},{\"attributes\":{\"data_source\":{\"id\":\"2574\"},\"glyph\":{\"id\":\"2575\"},\"hover_glyph\":null,\"level\":\"guide\",\"muted_glyph\":null,\"nonselection_glyph\":{\"id\":\"2576\"},\"selection_glyph\":null,\"view\":{\"id\":\"2578\"}},\"id\":\"2577\",\"type\":\"GlyphRenderer\"},{\"attributes\":{},\"id\":\"2622\",\"type\":\"Selection\"},{\"attributes\":{\"children\":[{\"id\":\"2595\"},{\"id\":\"2593\"}],\"max_width\":900,\"sizing_mode\":\"stretch_both\"},\"id\":\"2599\",\"type\":\"Row\"},{\"attributes\":{\"data\":{\"line_color\":[\"#DFDFDF\",\"#DFDFDF\",\"#DFDFDF\",\"#DFDFDF\",\"#DFDFDF\",\"#DFDFDF\",\"#DFDFDF\",\"#DFDFDF\",\"#DFDFDF\",\"#DFDFDF\",\"#DFDFDF\",\"#DFDFDF\",\"#DFDFDF\",\"#DFDFDF\",\"#DFDFDF\",\"#DFDFDF\",\"#DFDFDF\",\"#DFDFDF\",\"#DFDFDF\",\"#DFDFDF\",\"#DFDFDF\",\"#DFDFDF\",\"#DFDFDF\",\"#DFDFDF\",\"#DFDFDF\",\"#DFDFDF\",\"#DFDFDF\",\"#DFDFDF\"],\"u\":[0,0,1,1,14,14,14,14,2,2,3,3,3,11,11,11,11,4,5,6,6,7,7,15,15,8,9,12],\"v\":[1,14,2,14,2,11,12,13,3,11,4,5,11,5,10,12,13,5,6,7,15,8,9,9,10,9,10,13],\"weight\":[4,24,12,19,20,8,10,6,10,25,14,18,18,14,4,8,8,12,14,3,3,1,2,4,6,2,6,4],\"xs\":[[6,20],[6,127],[20,72],[20,127],[127,72],[127,157],[127,162],[127,144],[72,111],[72,157],[111,194],[111,178],[111,157],[157,178],[157,165],[157,162],[157,144],[194,178],[178,199],[199,205],[199,189],[205,207],[205,198],[189,198],[189,165],[207,198],[198,165],[162,144]],\"ys\":[[71,59],[71,97],[59,31],[59,97],[97,31],[97,84],[97,112],[97,112],[31,-8],[31,84],[-8,-8],[-8,38],[-8,84],[84,38],[84,97],[84,112],[84,112],[-8,38],[38,86],[86,96],[86,93],[96,106],[96,103],[93,103],[93,97],[106,103],[103,97],[112,112]]},\"selected\":{\"id\":\"2611\"},\"selection_policy\":{\"id\":\"2612\"}},\"id\":\"2567\",\"type\":\"ColumnDataSource\"},{\"attributes\":{\"line_color\":{\"value\":\"white\"},\"line_width\":{\"value\":6},\"xs\":{\"field\":\"xs\"},\"ys\":{\"field\":\"ys\"}},\"id\":\"2575\",\"type\":\"MultiLine\"},{\"attributes\":{},\"id\":\"2610\",\"type\":\"UnionRenderers\"},{\"attributes\":{\"formatter\":{\"id\":\"2605\"},\"ticker\":{\"id\":\"2537\"},\"visible\":false},\"id\":\"2536\",\"type\":\"LinearAxis\"},{\"attributes\":{\"data_source\":{\"id\":\"2585\"},\"glyph\":{\"id\":\"2587\"},\"hover_glyph\":null,\"level\":\"underlay\",\"muted_glyph\":null,\"nonselection_glyph\":{\"id\":\"2588\"},\"selection_glyph\":null,\"view\":{\"id\":\"2590\"}},\"id\":\"2589\",\"type\":\"GlyphRenderer\"},{\"attributes\":{\"align\":\"center\",\"text\":\"14\",\"width\":900},\"id\":\"2583\",\"type\":\"Div\"},{\"attributes\":{\"align\":\"center\",\"width\":450},\"id\":\"2584\",\"type\":\"Div\"},{\"attributes\":{},\"id\":\"2549\",\"type\":\"HelpTool\"},{\"attributes\":{\"line_color\":{\"value\":\"white\"},\"line_width\":{\"value\":6},\"xs\":{\"field\":\"xs\"},\"ys\":{\"field\":\"ys\"}},\"id\":\"2576\",\"type\":\"MultiLine\"},{\"attributes\":{\"children\":[{\"id\":\"2591\"},{\"id\":\"2584\"}]},\"id\":\"2600\",\"type\":\"Row\"},{\"attributes\":{\"text\":\"\"},\"id\":\"2526\",\"type\":\"Title\"},{\"attributes\":{\"line_cap\":\"round\",\"line_color\":{\"value\":\"#404040\"},\"line_width\":{\"value\":5},\"xs\":{\"field\":\"xs\"},\"ys\":{\"field\":\"ys\"}},\"id\":\"2587\",\"type\":\"MultiLine\"},{\"attributes\":{\"bottom_units\":\"screen\",\"fill_alpha\":0.5,\"fill_color\":\"lightgrey\",\"left_units\":\"screen\",\"level\":\"overlay\",\"line_alpha\":1.0,\"line_color\":\"black\",\"line_dash\":[4,4],\"line_width\":2,\"right_units\":\"screen\",\"top_units\":\"screen\"},\"id\":\"2550\",\"type\":\"BoxAnnotation\"},{\"attributes\":{\"source\":{\"id\":\"2579\"},\"text_align\":\"center\",\"text_baseline\":\"middle\",\"text_color\":{\"value\":\"black\"},\"text_font_size\":{\"value\":\"13px\"},\"x\":{\"field\":\"x\"},\"y\":{\"field\":\"y\"}},\"id\":\"2580\",\"type\":\"LabelSet\"},{\"attributes\":{\"active_drag\":null,\"active_inspect\":\"auto\",\"active_multi\":null,\"active_scroll\":null,\"active_tap\":\"auto\",\"logo\":null,\"tools\":[{\"id\":\"2544\"},{\"id\":\"2545\"},{\"id\":\"2546\"},{\"id\":\"2547\"},{\"id\":\"2548\"},{\"id\":\"2549\"},{\"id\":\"2597\"}]},\"id\":\"2551\",\"type\":\"Toolbar\"},{\"attributes\":{\"data\":{\"xs\":[[6,127],[6,20],[20,127],[20,72],[72,157],[72,127],[72,111],[111,178],[111,157],[111,194],[194,178],[178,157],[178,199],[199,205],[199,189],[205,198],[205,207],[207,198],[198,165],[198,189],[165,189],[165,157],[157,127],[157,162],[157,144],[162,127],[162,144],[144,127]],\"ys\":[[71,97],[71,59],[59,97],[59,31],[31,84],[31,97],[31,-8],[-8,38],[-8,84],[-8,-8],[-8,38],[38,84],[38,86],[86,96],[86,93],[96,103],[96,106],[106,103],[103,97],[103,93],[97,93],[97,84],[84,97],[84,112],[84,112],[112,97],[112,112],[112,97]]},\"selected\":{\"id\":\"2615\"},\"selection_policy\":{\"id\":\"2616\"}},\"id\":\"2585\",\"type\":\"ColumnDataSource\"},{\"attributes\":{},\"id\":\"2615\",\"type\":\"Selection\"},{\"attributes\":{\"end\":122.2,\"start\":-18.200000000000003},\"id\":\"2530\",\"type\":\"Range1d\"},{\"attributes\":{\"line_cap\":\"round\",\"line_color\":{\"field\":\"line_color\"},\"line_width\":{\"value\":5},\"xs\":{\"field\":\"xs\"},\"ys\":{\"field\":\"ys\"}},\"id\":\"2570\",\"type\":\"MultiLine\"},{\"attributes\":{},\"id\":\"2616\",\"type\":\"UnionRenderers\"},{\"attributes\":{},\"id\":\"2532\",\"type\":\"LinearScale\"},{\"attributes\":{},\"id\":\"2544\",\"type\":\"PanTool\"},{\"attributes\":{},\"id\":\"2603\",\"type\":\"BasicTickFormatter\"},{\"attributes\":{\"source\":{\"id\":\"2574\"}},\"id\":\"2578\",\"type\":\"CDSView\"},{\"attributes\":{\"align\":\"center\",\"text\":\"0\",\"width\":900},\"id\":\"2582\",\"type\":\"Div\"},{\"attributes\":{},\"id\":\"2537\",\"type\":\"BasicTicker\"},{\"attributes\":{},\"id\":\"2605\",\"type\":\"BasicTickFormatter\"},{\"attributes\":{\"line_alpha\":{\"value\":0.1},\"line_cap\":\"round\",\"line_color\":{\"value\":\"#404040\"},\"line_width\":{\"value\":5},\"xs\":{\"field\":\"xs\"},\"ys\":{\"field\":\"ys\"}},\"id\":\"2588\",\"type\":\"MultiLine\"},{\"attributes\":{},\"id\":\"2611\",\"type\":\"Selection\"},{\"attributes\":{\"align\":\"center\",\"text\":\"279\",\"width\":450},\"id\":\"2591\",\"type\":\"Div\"},{\"attributes\":{\"end\":224.085,\"start\":-11.085},\"id\":\"2528\",\"type\":\"Range1d\"},{\"attributes\":{},\"id\":\"2541\",\"type\":\"BasicTicker\"},{\"attributes\":{},\"id\":\"2612\",\"type\":\"UnionRenderers\"},{\"attributes\":{},\"id\":\"2534\",\"type\":\"LinearScale\"},{\"attributes\":{\"source\":{\"id\":\"2585\"}},\"id\":\"2590\",\"type\":\"CDSView\"}],\"root_ids\":[\"2624\"]},\"title\":\"Bokeh Application\",\"version\":\"2.2.3\"}};\n",
       "  var render_items = [{\"docid\":\"7d58266a-a02f-4369-aacd-8382717af499\",\"root_ids\":[\"2624\"],\"roots\":{\"2624\":\"07365e4e-dfcf-4791-b6ab-eb43df158a9b\"}}];\n",
       "  root.Bokeh.embed.embed_items_notebook(docs_json, render_items);\n",
       "\n",
       "  }\n",
       "  if (root.Bokeh !== undefined) {\n",
       "    embed_document(root);\n",
       "  } else {\n",
       "    var attempts = 0;\n",
       "    var timer = setInterval(function(root) {\n",
       "      if (root.Bokeh !== undefined) {\n",
       "        clearInterval(timer);\n",
       "        embed_document(root);\n",
       "      } else {\n",
       "        attempts++;\n",
       "        if (attempts > 100) {\n",
       "          clearInterval(timer);\n",
       "          console.log(\"Bokeh: ERROR: Unable to run BokehJS code because BokehJS library is missing\");\n",
       "        }\n",
       "      }\n",
       "    }, 10, root)\n",
       "  }\n",
       "})(window);"
      ],
      "application/vnd.bokehjs_exec.v0+json": ""
     },
     "metadata": {
      "application/vnd.bokehjs_exec.v0+json": {
       "id": "2624"
      }
     },
     "output_type": "display_data"
    }
   ],
   "source": [
    "show(vl.mst_algorithm_plot(G, algorithm='reverse_kruskals', width=900, height=600))"
   ]
  },
  {
   "cell_type": "markdown",
   "metadata": {},
   "source": [
    "**Q13:** What is the cost of the resulting spanning tree?\n",
    "\n",
    "**A:** <font color='blue'> 103 </font>"
   ]
  },
  {
   "cell_type": "markdown",
   "metadata": {},
   "source": [
    "**Q14:** How does the spanning tree and its cost compare to those obtained by the previous algorithms?\n",
    "\n",
    "**A:** <font color='blue'> They all found spanning trees of the same cost. </font>"
   ]
  },
  {
   "cell_type": "markdown",
   "metadata": {},
   "source": [
    "**Q15:** Which of the three algorithms was the easiest for you to follow? Why?\n",
    "\n",
    "**A:** <font color='blue'> Answers will vary. </font>"
   ]
  },
  {
   "cell_type": "markdown",
   "metadata": {},
   "source": [
    "## Part III: Analyzing Minimum Spanning Trees"
   ]
  },
  {
   "cell_type": "markdown",
   "metadata": {},
   "source": [
    "Suppose you start with some spanning tree, like the first one given in your lab handout, can you devise a way to systematically improve it? In other words, given a spanning tree, can you tell if it is one of minimum cost and, if not, can you improve it (without recomputing a minimum spanning tree from scratch)? "
   ]
  },
  {
   "cell_type": "markdown",
   "metadata": {},
   "source": [
    "**Q16:** Suggest such an algorithm.\n",
    "\n",
    "**A:** <font color='blue'> Take an edge of the spanning tree. Remove it. You now have two connected sets of nodes. Look for a cheaper edge spanning these two sets. If there is one, add it back instead of the original edge. If you can not do this for any edge, you have a minimum spanning tree.</font>"
   ]
  },
  {
   "cell_type": "markdown",
   "metadata": {},
   "source": [
    "Next we will study how the solution changes when problem parameters are altered. This is referred to as Sensitivity Analysis. Consider edge {3, 5} which was not used in the minimum spanning tree found by Prim’s algorithm. Just this one edge’s cost will be changed."
   ]
  },
  {
   "cell_type": "code",
   "execution_count": 12,
   "metadata": {},
   "outputs": [
    {
     "data": {
      "text/html": [
       "\n",
       "\n",
       "\n",
       "\n",
       "\n",
       "\n",
       "  <div class=\"bk-root\" id=\"939c50bd-7573-4366-8064-58915b231b33\" data-root-id=\"3641\"></div>\n"
      ]
     },
     "metadata": {},
     "output_type": "display_data"
    },
    {
     "data": {
      "application/javascript": [
       "(function(root) {\n",
       "  function embed_document(root) {\n",
       "    \n",
       "  var docs_json = {\"c1d0709f-a7fd-4817-90e2-92d3a52520b7\":{\"roots\":{\"references\":[{\"attributes\":{\"children\":[[{\"id\":\"3558\"},0,0],[{\"id\":\"3623\"},1,0]]},\"id\":\"3641\",\"type\":\"GridBox\"},{\"attributes\":{\"background_fill_color\":null,\"below\":[{\"id\":\"3569\"}],\"border_fill_color\":null,\"center\":[{\"id\":\"3572\"},{\"id\":\"3576\"},{\"id\":\"3613\"}],\"left\":[{\"id\":\"3573\"}],\"outline_line_color\":null,\"plot_height\":400,\"renderers\":[{\"id\":\"3598\"},{\"id\":\"3605\"},{\"id\":\"3610\"},{\"id\":\"3618\"}],\"title\":{\"id\":\"3559\"},\"toolbar\":{\"id\":\"3584\"},\"toolbar_location\":null,\"x_range\":{\"id\":\"3561\"},\"x_scale\":{\"id\":\"3565\"},\"y_range\":{\"id\":\"3563\"},\"y_scale\":{\"id\":\"3567\"}},\"id\":\"3558\",\"subtype\":\"Figure\",\"type\":\"Plot\"},{\"attributes\":{\"data_source\":{\"id\":\"3600\"},\"glyph\":{\"id\":\"3602\"},\"hover_glyph\":{\"id\":\"3604\"},\"level\":\"underlay\",\"muted_glyph\":null,\"nonselection_glyph\":{\"id\":\"3603\"},\"selection_glyph\":null,\"view\":{\"id\":\"3606\"}},\"id\":\"3605\",\"type\":\"GlyphRenderer\"},{\"attributes\":{},\"id\":\"3582\",\"type\":\"HelpTool\"},{\"attributes\":{},\"id\":\"3637\",\"type\":\"Selection\"},{\"attributes\":{\"line_cap\":\"round\",\"line_color\":{\"field\":\"line_color\"},\"line_width\":{\"value\":5},\"xs\":{\"field\":\"xs\"},\"ys\":{\"field\":\"ys\"}},\"id\":\"3602\",\"type\":\"MultiLine\"},{\"attributes\":{},\"id\":\"3635\",\"type\":\"Selection\"},{\"attributes\":{},\"id\":\"3638\",\"type\":\"UnionRenderers\"},{\"attributes\":{\"data\":{\"fill_color\":[\"#5e92f3\",\"#5e92f3\",\"#5e92f3\",\"#5e92f3\",\"#5e92f3\",\"#5e92f3\",\"#5e92f3\",\"#5e92f3\",\"#5e92f3\",\"#5e92f3\",\"#5e92f3\",\"#5e92f3\",\"#5e92f3\",\"#5e92f3\",\"#5e92f3\",\"#5e92f3\"],\"line_color\":[\"#003c8f\",\"#003c8f\",\"#003c8f\",\"#003c8f\",\"#003c8f\",\"#003c8f\",\"#003c8f\",\"#003c8f\",\"#003c8f\",\"#003c8f\",\"#003c8f\",\"#003c8f\",\"#003c8f\",\"#003c8f\",\"#003c8f\",\"#003c8f\"],\"line_width\":[3,3,3,3,3,3,3,3,3,3,3,3,3,3,3,3],\"x\":[6,20,72,111,194,178,199,205,207,198,165,157,162,144,127,189],\"y\":[71,59,31,-8,-8,38,86,96,106,103,97,84,112,112,97,93]},\"selected\":{\"id\":\"3633\"},\"selection_policy\":{\"id\":\"3632\"}},\"id\":\"3594\",\"type\":\"ColumnDataSource\"},{\"attributes\":{\"source\":{\"id\":\"3600\"}},\"id\":\"3606\",\"type\":\"CDSView\"},{\"attributes\":{\"active_drag\":null,\"active_inspect\":\"auto\",\"active_multi\":null,\"active_scroll\":null,\"active_tap\":\"auto\",\"logo\":null,\"tools\":[{\"id\":\"3577\"},{\"id\":\"3578\"},{\"id\":\"3579\"},{\"id\":\"3580\"},{\"id\":\"3581\"},{\"id\":\"3582\"},{\"id\":\"3621\"}]},\"id\":\"3584\",\"type\":\"Toolbar\"},{\"attributes\":{\"line_cap\":\"round\",\"line_color\":{\"field\":\"line_color\"},\"line_width\":{\"value\":5},\"xs\":{\"field\":\"xs\"},\"ys\":{\"field\":\"ys\"}},\"id\":\"3603\",\"type\":\"MultiLine\"},{\"attributes\":{},\"id\":\"3639\",\"type\":\"Selection\"},{\"attributes\":{\"text\":\"\"},\"id\":\"3559\",\"type\":\"Title\"},{\"attributes\":{},\"id\":\"3634\",\"type\":\"UnionRenderers\"},{\"attributes\":{\"end\":224.085,\"start\":-11.085},\"id\":\"3561\",\"type\":\"Range1d\"},{\"attributes\":{\"data\":{\"xs\":[[11.301090324745442,14.698909675254566],[63.069812290021225,69.93018770997878],[42.976862092036946,49.02313790796307],[70.22089160863857,76.77910839136149],[101.60977267069882,97.39022732930124],[139.8831103628236,144.11688963717637],[141.31806115805978,147.68193884194022],[133.82482514008294,137.17517485991706],[89.14670153841959,93.85329846158044],[111.6050606932186,117.3949393067814],[148.97244999999998,156.02755],[141.7005138802247,147.2994861197753],[132.55841471316512,135.44158528683488],[166.16509629035858,168.83490370964145],[159.86494734502958,162.13505265497042],[159.128646851194,159.87135314880598],[151.4028559428779,149.5971440571221],[187.04906838665292,184.9509316133471],[187.21317691926478,189.78682308073522],[200.88690370215798,203.11309629784205],[195.85282232314876,192.14717767685121],[205.58539740586426,206.41460259413577],[203.06886564105358,199.9311343589464],[192.02424879142615,194.9757512085738],[179.31200007568697,174.68799992431306],[204.7039715447302,200.29602845526986],[183.80467874454894,179.19532125545106],[155.3517,150.6483]],\"ys\":[[66.45620829307533,63.543791706924665],[83.26293487223596,84.73706512776401],[46.62784348890318,43.372156511096804],[76.83545683297443,79.16454316702556],[66.53172720483855,61.46827279516147],[91.41731884277647,89.58268115722356],[103.13631192488276,105.86368807511724],[103.0219045353673,105.9780954646327],[13.85329846158043,9.146701538419578],[55.694920196948075,59.305079803051925],[-7.999999999999998,-7.999999999999998],[13.077964753587104,16.92203524641289],[35.11682942633026,40.883170573669744],[63.92407479254794,58.07592520745206],[88.65553943567308,92.34446056432695],[95.92042236668642,100.07957763331359],[96.05538719995533,99.9446128000447],[11.98392838837291,18.016071611627098],[59.05869010117662,64.94130989882336],[89.14483950359659,92.85516049640341],[88.20302437379587,90.79697562620413],[98.9269870293212,103.07301297067883],[97.93113435894641,101.0688656410536],[96.360276434918,99.63972356508202],[94.6146666540522,95.38533334594783],[105.23465718157672,103.76534281842328],[100.41903249900889,99.58096750099111],[112.00000000000001,112.00000000000001]]},\"selected\":{\"id\":\"3637\"},\"selection_policy\":{\"id\":\"3636\"}},\"id\":\"3607\",\"type\":\"ColumnDataSource\"},{\"attributes\":{},\"id\":\"3633\",\"type\":\"Selection\"},{\"attributes\":{\"data\":{\"text\":[4,24,12,19,20,8,10,6,10,25,14,18,18,14,4,8,8,12,14,3,3,1,2,4,6,2,6,4],\"x\":{\"__ndarray__\":\"AgAAAAAAKkAAAAAAAKBQQAEAAAAAAEdAAgAAAABgUkACAAAAAOBYQP//////v2FAAAAAAAAQYkAAAAAAAPBgQAAAAAAA4FZAAAAAAACgXED//////w9jQAAAAAAAEGJAAAAAAADAYEAAAAAAAPBkQAAAAAAAIGRAAAAAAADwY0AAAAAAANBiQAEAAAAAQGdAAAAAAACQZ0AAAAAAAEBpQAAAAAAAQGhAAQAAAADAaUAAAAAAADBpQP//////L2hAAAAAAAAgZkABAAAAAFBpQAAAAAAAsGZAAAAAAAAgY0A=\",\"dtype\":\"float64\",\"order\":\"little\",\"shape\":[28]},\"y\":{\"__ndarray__\":\"AAAAAABAUED///////9UQAAAAAAAgEZA//////9/U0AAAAAAAABQQAEAAAAAoFZAAAAAAAAgWkAAAAAAACBaQAAAAAAAACdAAAAAAADATED+//////8fwAAAAAAAAC5AAAAAAAAAQ0ACAAAAAIBOQAEAAAAAoFZAAQAAAACAWEABAAAAAIBYQAAAAAAAAC5AAAAAAAAAT0AAAAAAAMBWQAAAAAAAYFZAAAAAAABAWUABAAAAAOBYQAEAAAAAgFhAAQAAAADAV0AAAAAAACBaQAAAAAAAAFlAAQAAAAAAXEA=\",\"dtype\":\"float64\",\"order\":\"little\",\"shape\":[28]}},\"selected\":{\"id\":\"3630\"},\"selection_policy\":{\"id\":\"3629\"}},\"id\":\"3612\",\"type\":\"ColumnDataSource\"},{\"attributes\":{},\"id\":\"3580\",\"type\":\"SaveTool\"},{\"attributes\":{\"bottom_units\":\"screen\",\"fill_alpha\":0.5,\"fill_color\":\"lightgrey\",\"left_units\":\"screen\",\"level\":\"overlay\",\"line_alpha\":1.0,\"line_color\":\"black\",\"line_dash\":[4,4],\"line_width\":2,\"right_units\":\"screen\",\"top_units\":\"screen\"},\"id\":\"3583\",\"type\":\"BoxAnnotation\"},{\"attributes\":{},\"id\":\"3574\",\"type\":\"BasicTicker\"},{\"attributes\":{\"data_source\":{\"id\":\"3607\"},\"glyph\":{\"id\":\"3608\"},\"hover_glyph\":null,\"level\":\"guide\",\"muted_glyph\":null,\"nonselection_glyph\":{\"id\":\"3609\"},\"selection_glyph\":null,\"view\":{\"id\":\"3611\"}},\"id\":\"3610\",\"type\":\"GlyphRenderer\"},{\"attributes\":{\"line_color\":{\"value\":\"white\"},\"line_width\":{\"value\":6},\"xs\":{\"field\":\"xs\"},\"ys\":{\"field\":\"ys\"}},\"id\":\"3608\",\"type\":\"MultiLine\"},{\"attributes\":{\"data\":{\"xs\":[[111,178]],\"ys\":[[-8,38]]},\"selected\":{\"id\":\"3639\"},\"selection_policy\":{\"id\":\"3638\"}},\"id\":\"3615\",\"type\":\"ColumnDataSource\"},{\"attributes\":{\"axis\":{\"id\":\"3573\"},\"dimension\":1,\"grid_line_color\":null,\"ticker\":null},\"id\":\"3576\",\"type\":\"Grid\"},{\"attributes\":{\"source\":{\"id\":\"3607\"}},\"id\":\"3611\",\"type\":\"CDSView\"},{\"attributes\":{},\"id\":\"3632\",\"type\":\"UnionRenderers\"},{\"attributes\":{\"align\":\"center\",\"width\":300},\"id\":\"3620\",\"type\":\"Div\"},{\"attributes\":{\"line_color\":{\"value\":\"white\"},\"line_width\":{\"value\":6},\"xs\":{\"field\":\"xs\"},\"ys\":{\"field\":\"ys\"}},\"id\":\"3609\",\"type\":\"MultiLine\"},{\"attributes\":{},\"id\":\"3636\",\"type\":\"UnionRenderers\"},{\"attributes\":{\"data\":{\"line_color\":[\"#DFDFDF\",\"#DFDFDF\",\"#DFDFDF\",\"#DFDFDF\",\"#DFDFDF\",\"#DFDFDF\",\"#DFDFDF\",\"#DFDFDF\",\"#DFDFDF\",\"#DFDFDF\",\"#DFDFDF\",\"#DFDFDF\",\"#DFDFDF\",\"#DFDFDF\",\"#DFDFDF\",\"#DFDFDF\",\"#DFDFDF\",\"#DFDFDF\",\"#DFDFDF\",\"#DFDFDF\",\"#DFDFDF\",\"#DFDFDF\",\"#DFDFDF\",\"#DFDFDF\",\"#DFDFDF\",\"#DFDFDF\",\"#DFDFDF\",\"#DFDFDF\"],\"u\":[0,0,1,1,14,14,14,14,2,2,3,3,3,11,11,11,11,4,5,6,6,7,7,15,15,8,9,12],\"v\":[1,14,2,14,2,11,12,13,3,11,4,5,11,5,10,12,13,5,6,7,15,8,9,9,10,9,10,13],\"weight\":[4,24,12,19,20,8,10,6,10,25,14,18,18,14,4,8,8,12,14,3,3,1,2,4,6,2,6,4],\"xs\":[[6,20],[6,127],[20,72],[20,127],[127,72],[127,157],[127,162],[127,144],[72,111],[72,157],[111,194],[111,178],[111,157],[157,178],[157,165],[157,162],[157,144],[194,178],[178,199],[199,205],[199,189],[205,207],[205,198],[189,198],[189,165],[207,198],[198,165],[162,144]],\"ys\":[[71,59],[71,97],[59,31],[59,97],[97,31],[97,84],[97,112],[97,112],[31,-8],[31,84],[-8,-8],[-8,38],[-8,84],[84,38],[84,97],[84,112],[84,112],[-8,38],[38,86],[86,96],[86,93],[96,106],[96,103],[93,103],[93,97],[106,103],[103,97],[112,112]]},\"selected\":{\"id\":\"3635\"},\"selection_policy\":{\"id\":\"3634\"}},\"id\":\"3600\",\"type\":\"ColumnDataSource\"},{\"attributes\":{\"line_cap\":\"round\",\"line_color\":{\"value\":\"#404040\"},\"line_width\":{\"value\":5},\"xs\":{\"field\":\"xs\"},\"ys\":{\"field\":\"ys\"}},\"id\":\"3616\",\"type\":\"MultiLine\"},{\"attributes\":{\"source\":{\"id\":\"3612\"},\"text_align\":\"center\",\"text_baseline\":\"middle\",\"text_color\":{\"value\":\"black\"},\"text_font_size\":{\"value\":\"13px\"},\"x\":{\"field\":\"x\"},\"y\":{\"field\":\"y\"}},\"id\":\"3613\",\"type\":\"LabelSet\"},{\"attributes\":{},\"id\":\"3625\",\"type\":\"BasicTickFormatter\"},{\"attributes\":{},\"id\":\"3577\",\"type\":\"PanTool\"},{\"attributes\":{},\"id\":\"3630\",\"type\":\"Selection\"},{\"attributes\":{\"line_alpha\":{\"value\":0.1},\"line_cap\":\"round\",\"line_color\":{\"value\":\"#404040\"},\"line_width\":{\"value\":5},\"xs\":{\"field\":\"xs\"},\"ys\":{\"field\":\"ys\"}},\"id\":\"3617\",\"type\":\"MultiLine\"},{\"attributes\":{},\"id\":\"3627\",\"type\":\"BasicTickFormatter\"},{\"attributes\":{},\"id\":\"3578\",\"type\":\"WheelZoomTool\"},{\"attributes\":{\"data_source\":{\"id\":\"3594\"},\"glyph\":{\"id\":\"3596\"},\"hover_glyph\":null,\"muted_glyph\":null,\"nonselection_glyph\":{\"id\":\"3597\"},\"selection_glyph\":null,\"view\":{\"id\":\"3599\"}},\"id\":\"3598\",\"type\":\"GlyphRenderer\"},{\"attributes\":{\"data_source\":{\"id\":\"3615\"},\"glyph\":{\"id\":\"3616\"},\"hover_glyph\":null,\"level\":\"underlay\",\"muted_glyph\":null,\"nonselection_glyph\":{\"id\":\"3617\"},\"selection_glyph\":null,\"view\":{\"id\":\"3619\"}},\"id\":\"3618\",\"type\":\"GlyphRenderer\"},{\"attributes\":{\"overlay\":{\"id\":\"3583\"}},\"id\":\"3579\",\"type\":\"BoxZoomTool\"},{\"attributes\":{\"source\":{\"id\":\"3594\"}},\"id\":\"3599\",\"type\":\"CDSView\"},{\"attributes\":{\"callback\":null,\"renderers\":[{\"id\":\"3598\"}],\"tooltips\":[[\"Index\",\"$index\"],[\"Name\",\"@name\"]]},\"id\":\"3621\",\"type\":\"HoverTool\"},{\"attributes\":{},\"id\":\"3629\",\"type\":\"UnionRenderers\"},{\"attributes\":{\"children\":[{\"id\":\"3620\"}]},\"id\":\"3623\",\"type\":\"Row\"},{\"attributes\":{\"fill_color\":{\"field\":\"fill_color\"},\"line_color\":{\"field\":\"line_color\"},\"line_width\":{\"field\":\"line_width\"},\"size\":{\"units\":\"screen\",\"value\":11},\"x\":{\"field\":\"x\"},\"y\":{\"field\":\"y\"}},\"id\":\"3596\",\"type\":\"Circle\"},{\"attributes\":{\"end\":122.2,\"start\":-18.200000000000003},\"id\":\"3563\",\"type\":\"Range1d\"},{\"attributes\":{\"fill_color\":{\"field\":\"fill_color\"},\"line_color\":{\"field\":\"line_color\"},\"line_width\":{\"field\":\"line_width\"},\"size\":{\"units\":\"screen\",\"value\":11},\"x\":{\"field\":\"x\"},\"y\":{\"field\":\"y\"}},\"id\":\"3597\",\"type\":\"Circle\"},{\"attributes\":{\"formatter\":{\"id\":\"3627\"},\"ticker\":{\"id\":\"3574\"},\"visible\":false},\"id\":\"3573\",\"type\":\"LinearAxis\"},{\"attributes\":{\"source\":{\"id\":\"3615\"}},\"id\":\"3619\",\"type\":\"CDSView\"},{\"attributes\":{},\"id\":\"3565\",\"type\":\"LinearScale\"},{\"attributes\":{},\"id\":\"3581\",\"type\":\"ResetTool\"},{\"attributes\":{},\"id\":\"3567\",\"type\":\"LinearScale\"},{\"attributes\":{\"axis\":{\"id\":\"3569\"},\"grid_line_color\":null,\"ticker\":null},\"id\":\"3572\",\"type\":\"Grid\"},{\"attributes\":{},\"id\":\"3570\",\"type\":\"BasicTicker\"},{\"attributes\":{\"formatter\":{\"id\":\"3625\"},\"ticker\":{\"id\":\"3570\"},\"visible\":false},\"id\":\"3569\",\"type\":\"LinearAxis\"},{\"attributes\":{\"line_cap\":\"round\",\"line_color\":{\"value\":\"#404040\"},\"line_width\":{\"value\":5},\"xs\":{\"field\":\"xs\"},\"ys\":{\"field\":\"ys\"}},\"id\":\"3604\",\"type\":\"MultiLine\"}],\"root_ids\":[\"3641\"]},\"title\":\"Bokeh Application\",\"version\":\"2.2.3\"}};\n",
       "  var render_items = [{\"docid\":\"c1d0709f-a7fd-4817-90e2-92d3a52520b7\",\"root_ids\":[\"3641\"],\"roots\":{\"3641\":\"939c50bd-7573-4366-8064-58915b231b33\"}}];\n",
       "  root.Bokeh.embed.embed_items_notebook(docs_json, render_items);\n",
       "\n",
       "  }\n",
       "  if (root.Bokeh !== undefined) {\n",
       "    embed_document(root);\n",
       "  } else {\n",
       "    var attempts = 0;\n",
       "    var timer = setInterval(function(root) {\n",
       "      if (root.Bokeh !== undefined) {\n",
       "        clearInterval(timer);\n",
       "        embed_document(root);\n",
       "      } else {\n",
       "        attempts++;\n",
       "        if (attempts > 100) {\n",
       "          clearInterval(timer);\n",
       "          console.log(\"Bokeh: ERROR: Unable to run BokehJS code because BokehJS library is missing\");\n",
       "        }\n",
       "      }\n",
       "    }, 10, root)\n",
       "  }\n",
       "})(window);"
      ],
      "application/vnd.bokehjs_exec.v0+json": ""
     },
     "metadata": {
      "application/vnd.bokehjs_exec.v0+json": {
       "id": "3641"
      }
     },
     "output_type": "display_data"
    }
   ],
   "source": [
    "show(vl.tree_plot(G, tree=[(3,5)], width=600))"
   ]
  },
  {
   "cell_type": "markdown",
   "metadata": {},
   "source": [
    "**Q17:** Should it increase or decrease if it will be included in the new minimum spanning tree? Exactly what must the cost of {4, 6} be changed to for this to occur.\n",
    "\n",
    "**A:** <font color='blue'> It must *decrease* to 14.</font>"
   ]
  },
  {
   "cell_type": "markdown",
   "metadata": {},
   "source": [
    "We can use the command below to get the weight of any edge:"
   ]
  },
  {
   "cell_type": "code",
   "execution_count": 13,
   "metadata": {},
   "outputs": [
    {
     "data": {
      "text/plain": [
       "10"
      ]
     },
     "execution_count": 13,
     "metadata": {},
     "output_type": "execute_result"
    }
   ],
   "source": [
    "G[2][3]['weight']"
   ]
  },
  {
   "cell_type": "markdown",
   "metadata": {},
   "source": [
    "**Q18:** Change the weight of {3,5} to be 1 less than the cost you answered in **Q17.**"
   ]
  },
  {
   "cell_type": "code",
   "execution_count": 14,
   "metadata": {},
   "outputs": [],
   "source": [
    "# TODO: Change the weight of edge {3,5}\n",
    "# G[3][5]['weight'] = ?\n",
    "\n",
    "### BEGIN SOLUTION\n",
    "G[3][5]['weight'] = 13\n",
    "### END SOLUTION"
   ]
  },
  {
   "cell_type": "markdown",
   "metadata": {},
   "source": [
    "Run the cell below to re-run Prim's"
   ]
  },
  {
   "cell_type": "code",
   "execution_count": 15,
   "metadata": {},
   "outputs": [
    {
     "data": {
      "text/html": [
       "\n",
       "\n",
       "\n",
       "\n",
       "\n",
       "\n",
       "  <div class=\"bk-root\" id=\"a5eeac92-8dc1-4ef5-99b9-efdb2cd84614\" data-root-id=\"3983\"></div>\n"
      ]
     },
     "metadata": {},
     "output_type": "display_data"
    },
    {
     "data": {
      "application/javascript": [
       "(function(root) {\n",
       "  function embed_document(root) {\n",
       "    \n",
       "  var docs_json = {\"5e4602ee-e818-44ed-939b-dfb895a78123\":{\"roots\":{\"references\":[{\"attributes\":{\"children\":[[{\"id\":\"3900\"},0,0],[{\"id\":\"3965\"},1,0]]},\"id\":\"3983\",\"type\":\"GridBox\"},{\"attributes\":{\"children\":[{\"id\":\"3962\"}]},\"id\":\"3965\",\"type\":\"Row\"},{\"attributes\":{\"data_source\":{\"id\":\"3936\"},\"glyph\":{\"id\":\"3938\"},\"hover_glyph\":null,\"muted_glyph\":null,\"nonselection_glyph\":{\"id\":\"3939\"},\"selection_glyph\":null,\"view\":{\"id\":\"3941\"}},\"id\":\"3940\",\"type\":\"GlyphRenderer\"},{\"attributes\":{\"source\":{\"id\":\"3957\"}},\"id\":\"3961\",\"type\":\"CDSView\"},{\"attributes\":{\"overlay\":{\"id\":\"3925\"}},\"id\":\"3921\",\"type\":\"BoxZoomTool\"},{\"attributes\":{},\"id\":\"3967\",\"type\":\"BasicTickFormatter\"},{\"attributes\":{},\"id\":\"3920\",\"type\":\"WheelZoomTool\"},{\"attributes\":{\"data_source\":{\"id\":\"3942\"},\"glyph\":{\"id\":\"3944\"},\"hover_glyph\":{\"id\":\"3946\"},\"level\":\"underlay\",\"muted_glyph\":null,\"nonselection_glyph\":{\"id\":\"3945\"},\"selection_glyph\":null,\"view\":{\"id\":\"3948\"}},\"id\":\"3947\",\"type\":\"GlyphRenderer\"},{\"attributes\":{\"line_cap\":\"round\",\"line_color\":{\"value\":\"#404040\"},\"line_width\":{\"value\":5},\"xs\":{\"field\":\"xs\"},\"ys\":{\"field\":\"ys\"}},\"id\":\"3958\",\"type\":\"MultiLine\"},{\"attributes\":{},\"id\":\"3969\",\"type\":\"BasicTickFormatter\"},{\"attributes\":{},\"id\":\"3919\",\"type\":\"PanTool\"},{\"attributes\":{\"line_cap\":\"round\",\"line_color\":{\"field\":\"line_color\"},\"line_width\":{\"value\":5},\"xs\":{\"field\":\"xs\"},\"ys\":{\"field\":\"ys\"}},\"id\":\"3944\",\"type\":\"MultiLine\"},{\"attributes\":{\"source\":{\"id\":\"3942\"}},\"id\":\"3948\",\"type\":\"CDSView\"},{\"attributes\":{},\"id\":\"3922\",\"type\":\"SaveTool\"},{\"attributes\":{},\"id\":\"3971\",\"type\":\"UnionRenderers\"},{\"attributes\":{\"axis\":{\"id\":\"3911\"},\"grid_line_color\":null,\"ticker\":null},\"id\":\"3914\",\"type\":\"Grid\"},{\"attributes\":{},\"id\":\"3912\",\"type\":\"BasicTicker\"},{\"attributes\":{\"line_cap\":\"round\",\"line_color\":{\"field\":\"line_color\"},\"line_width\":{\"value\":5},\"xs\":{\"field\":\"xs\"},\"ys\":{\"field\":\"ys\"}},\"id\":\"3945\",\"type\":\"MultiLine\"},{\"attributes\":{},\"id\":\"3972\",\"type\":\"Selection\"},{\"attributes\":{},\"id\":\"3924\",\"type\":\"HelpTool\"},{\"attributes\":{\"data\":{\"xs\":[[11.867393549830293,14.1326064501697],[64.2132081933475,68.78679180665253],[43.98457472802465,48.01542527197538],[71.31392773909235,75.68607226090765],[100.9065151137992,98.09348488620083],[140.5887402418824,143.4112597581176],[142.37870743870653,146.62129256129347],[134.3832167600553,136.6167832399447],[89.9311343589464,93.06886564105363],[112.57004046214576,116.42995953785424],[150.1483,154.85170000000002],[142.6336759201498,146.3663240798502],[133.03894314211007,134.96105685788993],[166.61006419357236,168.38993580642764],[160.24329823001975,161.75670176998028],[159.25243123412935,159.74756876587068],[151.1019039619186,149.89809603808138],[186.69937892443528,185.30062107556475],[187.6421179461765,189.35788205382346],[201.25793580143863,202.74206419856134],[195.23521488209917,192.7647851179008],[205.72359827057616,206.2764017294238],[202.54591042736908,200.45408957263095],[192.51616586095076,194.4838341390492],[178.54133338379128,175.4586666162087],[203.96931436315347,201.03068563684658],[183.03645249636594,179.96354750363403],[154.5678,151.4322]],\"ys\":[[65.9708055287169,64.02919447128312],[83.50862324815732,84.4913767518427],[46.085228992602126,43.914771007397874],[77.22363788864963,78.77636211135038],[65.68781813655903,62.31218186344098],[91.11154589518429,89.88845410481571],[103.59087461658854,105.40912538341149],[103.51460302357822,105.48539697642181],[13.06886564105362,9.93113435894638],[56.296613464632046,58.703386535367954],[-7.999999999999998,-7.999999999999998],[13.718643169058069,16.281356830941924],[36.07788628422017,39.922113715779815],[62.949383195031956,59.05061680496806],[89.27035962378204,91.72964037621796],[96.61361491112429,99.38638508887571],[96.70359146663688,99.29640853336312],[12.989285592248606,17.010714407751394],[60.03912673411776,63.960873265882256],[89.76322633573106,92.23677366426892],[88.63534958253058,90.36465041746942],[99.61799135288078,102.38200864711922],[98.45408957263092,100.54591042736905],[96.90685095661199,99.09314904338801],[94.74311110270146,95.25688889729855],[104.98977145438448,104.01022854561555],[100.27935499933926,99.72064500066074],[112.00000000000001,112.00000000000001]]},\"selected\":{\"id\":\"3979\"},\"selection_policy\":{\"id\":\"3978\"}},\"id\":\"3949\",\"type\":\"ColumnDataSource\"},{\"attributes\":{\"formatter\":{\"id\":\"3969\"},\"ticker\":{\"id\":\"3916\"},\"visible\":false},\"id\":\"3915\",\"type\":\"LinearAxis\"},{\"attributes\":{},\"id\":\"3909\",\"type\":\"LinearScale\"},{\"attributes\":{\"data\":{\"text\":[4,24,12,19,20,8,10,6,10,25,14,13,18,14,4,8,8,12,14,3,3,1,2,4,6,2,6,4],\"x\":{\"__ndarray__\":\"/v//////KUAAAAAAAKBQQAEAAAAAAEdAAAAAAABgUkAAAAAAAOBYQAAAAAAAwGFAAAAAAAAQYkAAAAAAAPBgQAAAAAAA4FZAAAAAAACgXEABAAAAABBjQAAAAAAAEGJAAAAAAADAYEAAAAAAAPBkQAAAAAAAIGRAAAAAAADwY0D//////89iQAAAAAAAQGdAAAAAAACQZ0D//////z9pQAAAAAAAQGhAAAAAAADAaUAAAAAAADBpQAAAAAAAMGhA//////8fZkABAAAAAFBpQAAAAAAAsGZAAAAAAAAgY0A=\",\"dtype\":\"float64\",\"order\":\"little\",\"shape\":[28]},\"y\":{\"__ndarray__\":\"AAAAAABAUEAAAAAAAABVQAAAAAAAgEZAAAAAAACAU0AAAAAAAABQQAAAAAAAoFZAAAAAAAAgWkAAAAAAACBaQAAAAAAAACdAAAAAAADATED+//////8fwAAAAAAAAC5AAAAAAAAAQ0ACAAAAAIBOQAAAAAAAoFZAAAAAAACAWEAAAAAAAIBYQAAAAAAAAC5AAgAAAAAAT0AAAAAAAMBWQAAAAAAAYFZAAAAAAABAWUD//////99YQAAAAAAAgFhAAAAAAADAV0AAAAAAACBaQAAAAAAAAFlAAQAAAAAAXEA=\",\"dtype\":\"float64\",\"order\":\"little\",\"shape\":[28]}},\"selected\":{\"id\":\"3972\"},\"selection_policy\":{\"id\":\"3971\"}},\"id\":\"3954\",\"type\":\"ColumnDataSource\"},{\"attributes\":{},\"id\":\"3923\",\"type\":\"ResetTool\"},{\"attributes\":{},\"id\":\"3975\",\"type\":\"Selection\"},{\"attributes\":{},\"id\":\"3976\",\"type\":\"UnionRenderers\"},{\"attributes\":{\"data_source\":{\"id\":\"3949\"},\"glyph\":{\"id\":\"3950\"},\"hover_glyph\":null,\"level\":\"guide\",\"muted_glyph\":null,\"nonselection_glyph\":{\"id\":\"3951\"},\"selection_glyph\":null,\"view\":{\"id\":\"3953\"}},\"id\":\"3952\",\"type\":\"GlyphRenderer\"},{\"attributes\":{\"data\":{\"xs\":[[6,20],[20,72],[72,111],[111,178],[178,194],[178,199],[199,205],[205,207],[205,198],[199,189],[198,165],[165,157],[157,162],[162,144],[144,127]],\"ys\":[[71,59],[59,31],[31,-8],[-8,38],[38,-8],[38,86],[86,96],[96,106],[96,103],[86,93],[103,97],[97,84],[84,112],[112,112],[112,97]]},\"selected\":{\"id\":\"3981\"},\"selection_policy\":{\"id\":\"3980\"}},\"id\":\"3957\",\"type\":\"ColumnDataSource\"},{\"attributes\":{},\"id\":\"3977\",\"type\":\"Selection\"},{\"attributes\":{},\"id\":\"3916\",\"type\":\"BasicTicker\"},{\"attributes\":{\"line_color\":{\"value\":\"white\"},\"line_width\":{\"value\":6},\"xs\":{\"field\":\"xs\"},\"ys\":{\"field\":\"ys\"}},\"id\":\"3950\",\"type\":\"MultiLine\"},{\"attributes\":{\"active_drag\":null,\"active_inspect\":\"auto\",\"active_multi\":null,\"active_scroll\":null,\"active_tap\":\"auto\",\"logo\":null,\"tools\":[{\"id\":\"3919\"},{\"id\":\"3920\"},{\"id\":\"3921\"},{\"id\":\"3922\"},{\"id\":\"3923\"},{\"id\":\"3924\"},{\"id\":\"3963\"}]},\"id\":\"3926\",\"type\":\"Toolbar\"},{\"attributes\":{\"source\":{\"id\":\"3949\"}},\"id\":\"3953\",\"type\":\"CDSView\"},{\"attributes\":{},\"id\":\"3978\",\"type\":\"UnionRenderers\"},{\"attributes\":{},\"id\":\"3979\",\"type\":\"Selection\"},{\"attributes\":{\"line_color\":{\"value\":\"white\"},\"line_width\":{\"value\":6},\"xs\":{\"field\":\"xs\"},\"ys\":{\"field\":\"ys\"}},\"id\":\"3951\",\"type\":\"MultiLine\"},{\"attributes\":{\"bottom_units\":\"screen\",\"fill_alpha\":0.5,\"fill_color\":\"lightgrey\",\"left_units\":\"screen\",\"level\":\"overlay\",\"line_alpha\":1.0,\"line_color\":\"black\",\"line_dash\":[4,4],\"line_width\":2,\"right_units\":\"screen\",\"top_units\":\"screen\"},\"id\":\"3925\",\"type\":\"BoxAnnotation\"},{\"attributes\":{\"text\":\"\"},\"id\":\"3901\",\"type\":\"Title\"},{\"attributes\":{\"data\":{\"line_color\":[\"#DFDFDF\",\"#DFDFDF\",\"#DFDFDF\",\"#DFDFDF\",\"#DFDFDF\",\"#DFDFDF\",\"#DFDFDF\",\"#DFDFDF\",\"#DFDFDF\",\"#DFDFDF\",\"#DFDFDF\",\"#DFDFDF\",\"#DFDFDF\",\"#DFDFDF\",\"#DFDFDF\",\"#DFDFDF\",\"#DFDFDF\",\"#DFDFDF\",\"#DFDFDF\",\"#DFDFDF\",\"#DFDFDF\",\"#DFDFDF\",\"#DFDFDF\",\"#DFDFDF\",\"#DFDFDF\",\"#DFDFDF\",\"#DFDFDF\",\"#DFDFDF\"],\"u\":[0,0,1,1,14,14,14,14,2,2,3,3,3,11,11,11,11,4,5,6,6,7,7,15,15,8,9,12],\"v\":[1,14,2,14,2,11,12,13,3,11,4,5,11,5,10,12,13,5,6,7,15,8,9,9,10,9,10,13],\"weight\":[4,24,12,19,20,8,10,6,10,25,14,13,18,14,4,8,8,12,14,3,3,1,2,4,6,2,6,4],\"xs\":[[6,20],[6,127],[20,72],[20,127],[127,72],[127,157],[127,162],[127,144],[72,111],[72,157],[111,194],[111,178],[111,157],[157,178],[157,165],[157,162],[157,144],[194,178],[178,199],[199,205],[199,189],[205,207],[205,198],[189,198],[189,165],[207,198],[198,165],[162,144]],\"ys\":[[71,59],[71,97],[59,31],[59,97],[97,31],[97,84],[97,112],[97,112],[31,-8],[31,84],[-8,-8],[-8,38],[-8,84],[84,38],[84,97],[84,112],[84,112],[-8,38],[38,86],[86,96],[86,93],[96,106],[96,103],[93,103],[93,97],[106,103],[103,97],[112,112]]},\"selected\":{\"id\":\"3977\"},\"selection_policy\":{\"id\":\"3976\"}},\"id\":\"3942\",\"type\":\"ColumnDataSource\"},{\"attributes\":{\"source\":{\"id\":\"3954\"},\"text_align\":\"center\",\"text_baseline\":\"middle\",\"text_color\":{\"value\":\"black\"},\"text_font_size\":{\"value\":\"13px\"},\"x\":{\"field\":\"x\"},\"y\":{\"field\":\"y\"}},\"id\":\"3955\",\"type\":\"LabelSet\"},{\"attributes\":{},\"id\":\"3980\",\"type\":\"UnionRenderers\"},{\"attributes\":{\"data\":{\"fill_color\":[\"#5e92f3\",\"#5e92f3\",\"#5e92f3\",\"#5e92f3\",\"#5e92f3\",\"#5e92f3\",\"#5e92f3\",\"#5e92f3\",\"#5e92f3\",\"#5e92f3\",\"#5e92f3\",\"#5e92f3\",\"#5e92f3\",\"#5e92f3\",\"#5e92f3\",\"#5e92f3\"],\"line_color\":[\"#003c8f\",\"#003c8f\",\"#003c8f\",\"#003c8f\",\"#003c8f\",\"#003c8f\",\"#003c8f\",\"#003c8f\",\"#003c8f\",\"#003c8f\",\"#003c8f\",\"#003c8f\",\"#003c8f\",\"#003c8f\",\"#003c8f\",\"#003c8f\"],\"line_width\":[3,3,3,3,3,3,3,3,3,3,3,3,3,3,3,3],\"x\":[6,20,72,111,194,178,199,205,207,198,165,157,162,144,127,189],\"y\":[71,59,31,-8,-8,38,86,96,106,103,97,84,112,112,97,93]},\"selected\":{\"id\":\"3975\"},\"selection_policy\":{\"id\":\"3974\"}},\"id\":\"3936\",\"type\":\"ColumnDataSource\"},{\"attributes\":{},\"id\":\"3981\",\"type\":\"Selection\"},{\"attributes\":{\"line_alpha\":{\"value\":0.1},\"line_cap\":\"round\",\"line_color\":{\"value\":\"#404040\"},\"line_width\":{\"value\":5},\"xs\":{\"field\":\"xs\"},\"ys\":{\"field\":\"ys\"}},\"id\":\"3959\",\"type\":\"MultiLine\"},{\"attributes\":{\"align\":\"center\",\"width\":450},\"id\":\"3962\",\"type\":\"Div\"},{\"attributes\":{\"background_fill_color\":null,\"below\":[{\"id\":\"3911\"}],\"border_fill_color\":null,\"center\":[{\"id\":\"3914\"},{\"id\":\"3918\"},{\"id\":\"3955\"}],\"left\":[{\"id\":\"3915\"}],\"outline_line_color\":null,\"plot_width\":900,\"renderers\":[{\"id\":\"3940\"},{\"id\":\"3947\"},{\"id\":\"3952\"},{\"id\":\"3960\"}],\"title\":{\"id\":\"3901\"},\"toolbar\":{\"id\":\"3926\"},\"toolbar_location\":null,\"x_range\":{\"id\":\"3903\"},\"x_scale\":{\"id\":\"3907\"},\"y_range\":{\"id\":\"3905\"},\"y_scale\":{\"id\":\"3909\"}},\"id\":\"3900\",\"subtype\":\"Figure\",\"type\":\"Plot\"},{\"attributes\":{},\"id\":\"3907\",\"type\":\"LinearScale\"},{\"attributes\":{\"end\":224.085,\"start\":-11.085},\"id\":\"3903\",\"type\":\"Range1d\"},{\"attributes\":{\"data_source\":{\"id\":\"3957\"},\"glyph\":{\"id\":\"3958\"},\"hover_glyph\":null,\"level\":\"underlay\",\"muted_glyph\":null,\"nonselection_glyph\":{\"id\":\"3959\"},\"selection_glyph\":null,\"view\":{\"id\":\"3961\"}},\"id\":\"3960\",\"type\":\"GlyphRenderer\"},{\"attributes\":{},\"id\":\"3974\",\"type\":\"UnionRenderers\"},{\"attributes\":{\"source\":{\"id\":\"3936\"}},\"id\":\"3941\",\"type\":\"CDSView\"},{\"attributes\":{\"callback\":null,\"renderers\":[{\"id\":\"3940\"}],\"tooltips\":[[\"Index\",\"$index\"],[\"Name\",\"@name\"]]},\"id\":\"3963\",\"type\":\"HoverTool\"},{\"attributes\":{\"fill_color\":{\"field\":\"fill_color\"},\"line_color\":{\"field\":\"line_color\"},\"line_width\":{\"field\":\"line_width\"},\"size\":{\"units\":\"screen\",\"value\":11},\"x\":{\"field\":\"x\"},\"y\":{\"field\":\"y\"}},\"id\":\"3939\",\"type\":\"Circle\"},{\"attributes\":{\"fill_color\":{\"field\":\"fill_color\"},\"line_color\":{\"field\":\"line_color\"},\"line_width\":{\"field\":\"line_width\"},\"size\":{\"units\":\"screen\",\"value\":11},\"x\":{\"field\":\"x\"},\"y\":{\"field\":\"y\"}},\"id\":\"3938\",\"type\":\"Circle\"},{\"attributes\":{\"formatter\":{\"id\":\"3967\"},\"ticker\":{\"id\":\"3912\"},\"visible\":false},\"id\":\"3911\",\"type\":\"LinearAxis\"},{\"attributes\":{\"line_cap\":\"round\",\"line_color\":{\"value\":\"#404040\"},\"line_width\":{\"value\":5},\"xs\":{\"field\":\"xs\"},\"ys\":{\"field\":\"ys\"}},\"id\":\"3946\",\"type\":\"MultiLine\"},{\"attributes\":{\"axis\":{\"id\":\"3915\"},\"dimension\":1,\"grid_line_color\":null,\"ticker\":null},\"id\":\"3918\",\"type\":\"Grid\"},{\"attributes\":{\"end\":122.2,\"start\":-18.200000000000003},\"id\":\"3905\",\"type\":\"Range1d\"}],\"root_ids\":[\"3983\"]},\"title\":\"Bokeh Application\",\"version\":\"2.2.3\"}};\n",
       "  var render_items = [{\"docid\":\"5e4602ee-e818-44ed-939b-dfb895a78123\",\"root_ids\":[\"3983\"],\"roots\":{\"3983\":\"a5eeac92-8dc1-4ef5-99b9-efdb2cd84614\"}}];\n",
       "  root.Bokeh.embed.embed_items_notebook(docs_json, render_items);\n",
       "\n",
       "  }\n",
       "  if (root.Bokeh !== undefined) {\n",
       "    embed_document(root);\n",
       "  } else {\n",
       "    var attempts = 0;\n",
       "    var timer = setInterval(function(root) {\n",
       "      if (root.Bokeh !== undefined) {\n",
       "        clearInterval(timer);\n",
       "        embed_document(root);\n",
       "      } else {\n",
       "        attempts++;\n",
       "        if (attempts > 100) {\n",
       "          clearInterval(timer);\n",
       "          console.log(\"Bokeh: ERROR: Unable to run BokehJS code because BokehJS library is missing\");\n",
       "        }\n",
       "      }\n",
       "    }, 10, root)\n",
       "  }\n",
       "})(window);"
      ],
      "application/vnd.bokehjs_exec.v0+json": ""
     },
     "metadata": {
      "application/vnd.bokehjs_exec.v0+json": {
       "id": "3983"
      }
     },
     "output_type": "display_data"
    }
   ],
   "source": [
    "mst = vl.prims(G,i=0)\n",
    "show(vl.tree_plot(G, tree=mst, i=0, width=900, height=600))"
   ]
  },
  {
   "cell_type": "markdown",
   "metadata": {},
   "source": [
    "**Q19:** Is the edge {3,5} now in the tree?\n",
    "\n",
    "**A:** <font color='blue'> Yes.</font>"
   ]
  },
  {
   "cell_type": "markdown",
   "metadata": {},
   "source": [
    "**Q20:** Change the weight of {3,5} to be 2 more than it currently is."
   ]
  },
  {
   "cell_type": "code",
   "execution_count": 16,
   "metadata": {},
   "outputs": [],
   "source": [
    "# TODO: Change the weight of edge {3,5}\n",
    "# G[3][5]['weight'] = ?\n",
    "\n",
    "### BEGIN SOLUTION\n",
    "G[3][5]['weight'] = 15\n",
    "### END SOLUTION"
   ]
  },
  {
   "cell_type": "code",
   "execution_count": 17,
   "metadata": {},
   "outputs": [
    {
     "data": {
      "text/html": [
       "\n",
       "\n",
       "\n",
       "\n",
       "\n",
       "\n",
       "  <div class=\"bk-root\" id=\"b90420da-f604-4226-8b55-0745f62c8973\" data-root-id=\"4341\"></div>\n"
      ]
     },
     "metadata": {},
     "output_type": "display_data"
    },
    {
     "data": {
      "application/javascript": [
       "(function(root) {\n",
       "  function embed_document(root) {\n",
       "    \n",
       "  var docs_json = {\"7b49227f-dbdd-497b-94d4-ba905e7d0fdf\":{\"roots\":{\"references\":[{\"attributes\":{\"children\":[[{\"id\":\"4258\"},0,0],[{\"id\":\"4323\"},1,0]]},\"id\":\"4341\",\"type\":\"GridBox\"},{\"attributes\":{\"fill_color\":{\"field\":\"fill_color\"},\"line_color\":{\"field\":\"line_color\"},\"line_width\":{\"field\":\"line_width\"},\"size\":{\"units\":\"screen\",\"value\":11},\"x\":{\"field\":\"x\"},\"y\":{\"field\":\"y\"}},\"id\":\"4296\",\"type\":\"Circle\"},{\"attributes\":{},\"id\":\"4325\",\"type\":\"BasicTickFormatter\"},{\"attributes\":{\"background_fill_color\":null,\"below\":[{\"id\":\"4269\"}],\"border_fill_color\":null,\"center\":[{\"id\":\"4272\"},{\"id\":\"4276\"},{\"id\":\"4313\"}],\"left\":[{\"id\":\"4273\"}],\"outline_line_color\":null,\"plot_width\":900,\"renderers\":[{\"id\":\"4298\"},{\"id\":\"4305\"},{\"id\":\"4310\"},{\"id\":\"4318\"}],\"title\":{\"id\":\"4259\"},\"toolbar\":{\"id\":\"4284\"},\"toolbar_location\":null,\"x_range\":{\"id\":\"4261\"},\"x_scale\":{\"id\":\"4265\"},\"y_range\":{\"id\":\"4263\"},\"y_scale\":{\"id\":\"4267\"}},\"id\":\"4258\",\"subtype\":\"Figure\",\"type\":\"Plot\"},{\"attributes\":{},\"id\":\"4282\",\"type\":\"HelpTool\"},{\"attributes\":{},\"id\":\"4327\",\"type\":\"BasicTickFormatter\"},{\"attributes\":{\"line_cap\":\"round\",\"line_color\":{\"value\":\"#404040\"},\"line_width\":{\"value\":5},\"xs\":{\"field\":\"xs\"},\"ys\":{\"field\":\"ys\"}},\"id\":\"4304\",\"type\":\"MultiLine\"},{\"attributes\":{\"active_drag\":null,\"active_inspect\":\"auto\",\"active_multi\":null,\"active_scroll\":null,\"active_tap\":\"auto\",\"logo\":null,\"tools\":[{\"id\":\"4277\"},{\"id\":\"4278\"},{\"id\":\"4279\"},{\"id\":\"4280\"},{\"id\":\"4281\"},{\"id\":\"4282\"},{\"id\":\"4321\"}]},\"id\":\"4284\",\"type\":\"Toolbar\"},{\"attributes\":{\"text\":\"\"},\"id\":\"4259\",\"type\":\"Title\"},{\"attributes\":{\"data_source\":{\"id\":\"4300\"},\"glyph\":{\"id\":\"4302\"},\"hover_glyph\":{\"id\":\"4304\"},\"level\":\"underlay\",\"muted_glyph\":null,\"nonselection_glyph\":{\"id\":\"4303\"},\"selection_glyph\":null,\"view\":{\"id\":\"4306\"}},\"id\":\"4305\",\"type\":\"GlyphRenderer\"},{\"attributes\":{},\"id\":\"4329\",\"type\":\"UnionRenderers\"},{\"attributes\":{\"data\":{\"fill_color\":[\"#5e92f3\",\"#5e92f3\",\"#5e92f3\",\"#5e92f3\",\"#5e92f3\",\"#5e92f3\",\"#5e92f3\",\"#5e92f3\",\"#5e92f3\",\"#5e92f3\",\"#5e92f3\",\"#5e92f3\",\"#5e92f3\",\"#5e92f3\",\"#5e92f3\",\"#5e92f3\"],\"line_color\":[\"#003c8f\",\"#003c8f\",\"#003c8f\",\"#003c8f\",\"#003c8f\",\"#003c8f\",\"#003c8f\",\"#003c8f\",\"#003c8f\",\"#003c8f\",\"#003c8f\",\"#003c8f\",\"#003c8f\",\"#003c8f\",\"#003c8f\",\"#003c8f\"],\"line_width\":[3,3,3,3,3,3,3,3,3,3,3,3,3,3,3,3],\"x\":[6,20,72,111,194,178,199,205,207,198,165,157,162,144,127,189],\"y\":[71,59,31,-8,-8,38,86,96,106,103,97,84,112,112,97,93]},\"selected\":{\"id\":\"4333\"},\"selection_policy\":{\"id\":\"4332\"}},\"id\":\"4294\",\"type\":\"ColumnDataSource\"},{\"attributes\":{\"line_cap\":\"round\",\"line_color\":{\"field\":\"line_color\"},\"line_width\":{\"value\":5},\"xs\":{\"field\":\"xs\"},\"ys\":{\"field\":\"ys\"}},\"id\":\"4302\",\"type\":\"MultiLine\"},{\"attributes\":{},\"id\":\"4330\",\"type\":\"Selection\"},{\"attributes\":{\"source\":{\"id\":\"4300\"}},\"id\":\"4306\",\"type\":\"CDSView\"},{\"attributes\":{\"line_cap\":\"round\",\"line_color\":{\"field\":\"line_color\"},\"line_width\":{\"value\":5},\"xs\":{\"field\":\"xs\"},\"ys\":{\"field\":\"ys\"}},\"id\":\"4303\",\"type\":\"MultiLine\"},{\"attributes\":{\"fill_color\":{\"field\":\"fill_color\"},\"line_color\":{\"field\":\"line_color\"},\"line_width\":{\"field\":\"line_width\"},\"size\":{\"units\":\"screen\",\"value\":11},\"x\":{\"field\":\"x\"},\"y\":{\"field\":\"y\"}},\"id\":\"4297\",\"type\":\"Circle\"},{\"attributes\":{\"source\":{\"id\":\"4315\"}},\"id\":\"4319\",\"type\":\"CDSView\"},{\"attributes\":{},\"id\":\"4265\",\"type\":\"LinearScale\"},{\"attributes\":{},\"id\":\"4333\",\"type\":\"Selection\"},{\"attributes\":{\"data\":{\"xs\":[[11.867393549830293,14.1326064501697],[64.2132081933475,68.78679180665253],[43.98457472802465,48.01542527197538],[71.31392773909235,75.68607226090765],[100.9065151137992,98.09348488620083],[140.5887402418824,143.4112597581176],[142.37870743870653,146.62129256129347],[134.3832167600553,136.6167832399447],[89.9311343589464,93.06886564105363],[112.57004046214576,116.42995953785424],[150.1483,154.85170000000002],[142.6336759201498,146.3663240798502],[133.03894314211007,134.96105685788993],[166.61006419357236,168.38993580642764],[160.24329823001975,161.75670176998028],[159.25243123412935,159.74756876587068],[151.1019039619186,149.89809603808138],[186.69937892443528,185.30062107556475],[187.6421179461765,189.35788205382346],[201.25793580143863,202.74206419856134],[195.23521488209917,192.7647851179008],[205.72359827057616,206.2764017294238],[202.54591042736908,200.45408957263095],[192.51616586095076,194.4838341390492],[178.54133338379128,175.4586666162087],[203.96931436315347,201.03068563684658],[183.03645249636594,179.96354750363403],[154.5678,151.4322]],\"ys\":[[65.9708055287169,64.02919447128312],[83.50862324815732,84.4913767518427],[46.085228992602126,43.914771007397874],[77.22363788864963,78.77636211135038],[65.68781813655903,62.31218186344098],[91.11154589518429,89.88845410481571],[103.59087461658854,105.40912538341149],[103.51460302357822,105.48539697642181],[13.06886564105362,9.93113435894638],[56.296613464632046,58.703386535367954],[-7.999999999999998,-7.999999999999998],[13.718643169058069,16.281356830941924],[36.07788628422017,39.922113715779815],[62.949383195031956,59.05061680496806],[89.27035962378204,91.72964037621796],[96.61361491112429,99.38638508887571],[96.70359146663688,99.29640853336312],[12.989285592248606,17.010714407751394],[60.03912673411776,63.960873265882256],[89.76322633573106,92.23677366426892],[88.63534958253058,90.36465041746942],[99.61799135288078,102.38200864711922],[98.45408957263092,100.54591042736905],[96.90685095661199,99.09314904338801],[94.74311110270146,95.25688889729855],[104.98977145438448,104.01022854561555],[100.27935499933926,99.72064500066074],[112.00000000000001,112.00000000000001]]},\"selected\":{\"id\":\"4337\"},\"selection_policy\":{\"id\":\"4336\"}},\"id\":\"4307\",\"type\":\"ColumnDataSource\"},{\"attributes\":{},\"id\":\"4334\",\"type\":\"UnionRenderers\"},{\"attributes\":{\"data\":{\"text\":[4,24,12,19,20,8,10,6,10,25,14,15,18,14,4,8,8,12,14,3,3,1,2,4,6,2,6,4],\"x\":{\"__ndarray__\":\"/v//////KUAAAAAAAKBQQAEAAAAAAEdAAAAAAABgUkAAAAAAAOBYQAAAAAAAwGFAAAAAAAAQYkAAAAAAAPBgQAAAAAAA4FZAAAAAAACgXEABAAAAABBjQAAAAAAAEGJAAAAAAADAYEAAAAAAAPBkQAAAAAAAIGRAAAAAAADwY0D//////89iQAAAAAAAQGdAAAAAAACQZ0D//////z9pQAAAAAAAQGhAAAAAAADAaUAAAAAAADBpQAAAAAAAMGhA//////8fZkABAAAAAFBpQAAAAAAAsGZAAAAAAAAgY0A=\",\"dtype\":\"float64\",\"order\":\"little\",\"shape\":[28]},\"y\":{\"__ndarray__\":\"AAAAAABAUEAAAAAAAABVQAAAAAAAgEZAAAAAAACAU0AAAAAAAABQQAAAAAAAoFZAAAAAAAAgWkAAAAAAACBaQAAAAAAAACdAAAAAAADATED+//////8fwAAAAAAAAC5AAAAAAAAAQ0ACAAAAAIBOQAAAAAAAoFZAAAAAAACAWEAAAAAAAIBYQAAAAAAAAC5AAgAAAAAAT0AAAAAAAMBWQAAAAAAAYFZAAAAAAABAWUD//////99YQAAAAAAAgFhAAAAAAADAV0AAAAAAACBaQAAAAAAAAFlAAQAAAAAAXEA=\",\"dtype\":\"float64\",\"order\":\"little\",\"shape\":[28]}},\"selected\":{\"id\":\"4330\"},\"selection_policy\":{\"id\":\"4329\"}},\"id\":\"4312\",\"type\":\"ColumnDataSource\"},{\"attributes\":{},\"id\":\"4335\",\"type\":\"Selection\"},{\"attributes\":{\"end\":224.085,\"start\":-11.085},\"id\":\"4261\",\"type\":\"Range1d\"},{\"attributes\":{\"formatter\":{\"id\":\"4325\"},\"ticker\":{\"id\":\"4270\"},\"visible\":false},\"id\":\"4269\",\"type\":\"LinearAxis\"},{\"attributes\":{},\"id\":\"4336\",\"type\":\"UnionRenderers\"},{\"attributes\":{\"data_source\":{\"id\":\"4307\"},\"glyph\":{\"id\":\"4308\"},\"hover_glyph\":null,\"level\":\"guide\",\"muted_glyph\":null,\"nonselection_glyph\":{\"id\":\"4309\"},\"selection_glyph\":null,\"view\":{\"id\":\"4311\"}},\"id\":\"4310\",\"type\":\"GlyphRenderer\"},{\"attributes\":{\"end\":122.2,\"start\":-18.200000000000003},\"id\":\"4263\",\"type\":\"Range1d\"},{\"attributes\":{\"line_color\":{\"value\":\"white\"},\"line_width\":{\"value\":6},\"xs\":{\"field\":\"xs\"},\"ys\":{\"field\":\"ys\"}},\"id\":\"4308\",\"type\":\"MultiLine\"},{\"attributes\":{},\"id\":\"4337\",\"type\":\"Selection\"},{\"attributes\":{\"source\":{\"id\":\"4307\"}},\"id\":\"4311\",\"type\":\"CDSView\"},{\"attributes\":{},\"id\":\"4338\",\"type\":\"UnionRenderers\"},{\"attributes\":{\"data_source\":{\"id\":\"4294\"},\"glyph\":{\"id\":\"4296\"},\"hover_glyph\":null,\"muted_glyph\":null,\"nonselection_glyph\":{\"id\":\"4297\"},\"selection_glyph\":null,\"view\":{\"id\":\"4299\"}},\"id\":\"4298\",\"type\":\"GlyphRenderer\"},{\"attributes\":{},\"id\":\"4270\",\"type\":\"BasicTicker\"},{\"attributes\":{\"line_color\":{\"value\":\"white\"},\"line_width\":{\"value\":6},\"xs\":{\"field\":\"xs\"},\"ys\":{\"field\":\"ys\"}},\"id\":\"4309\",\"type\":\"MultiLine\"},{\"attributes\":{},\"id\":\"4339\",\"type\":\"Selection\"},{\"attributes\":{},\"id\":\"4267\",\"type\":\"LinearScale\"},{\"attributes\":{\"source\":{\"id\":\"4312\"},\"text_align\":\"center\",\"text_baseline\":\"middle\",\"text_color\":{\"value\":\"black\"},\"text_font_size\":{\"value\":\"13px\"},\"x\":{\"field\":\"x\"},\"y\":{\"field\":\"y\"}},\"id\":\"4313\",\"type\":\"LabelSet\"},{\"attributes\":{\"bottom_units\":\"screen\",\"fill_alpha\":0.5,\"fill_color\":\"lightgrey\",\"left_units\":\"screen\",\"level\":\"overlay\",\"line_alpha\":1.0,\"line_color\":\"black\",\"line_dash\":[4,4],\"line_width\":2,\"right_units\":\"screen\",\"top_units\":\"screen\"},\"id\":\"4283\",\"type\":\"BoxAnnotation\"},{\"attributes\":{\"formatter\":{\"id\":\"4327\"},\"ticker\":{\"id\":\"4274\"},\"visible\":false},\"id\":\"4273\",\"type\":\"LinearAxis\"},{\"attributes\":{\"overlay\":{\"id\":\"4283\"}},\"id\":\"4279\",\"type\":\"BoxZoomTool\"},{\"attributes\":{\"axis\":{\"id\":\"4273\"},\"dimension\":1,\"grid_line_color\":null,\"ticker\":null},\"id\":\"4276\",\"type\":\"Grid\"},{\"attributes\":{\"line_alpha\":{\"value\":0.1},\"line_cap\":\"round\",\"line_color\":{\"value\":\"#404040\"},\"line_width\":{\"value\":5},\"xs\":{\"field\":\"xs\"},\"ys\":{\"field\":\"ys\"}},\"id\":\"4317\",\"type\":\"MultiLine\"},{\"attributes\":{\"data\":{\"line_color\":[\"#DFDFDF\",\"#DFDFDF\",\"#DFDFDF\",\"#DFDFDF\",\"#DFDFDF\",\"#DFDFDF\",\"#DFDFDF\",\"#DFDFDF\",\"#DFDFDF\",\"#DFDFDF\",\"#DFDFDF\",\"#DFDFDF\",\"#DFDFDF\",\"#DFDFDF\",\"#DFDFDF\",\"#DFDFDF\",\"#DFDFDF\",\"#DFDFDF\",\"#DFDFDF\",\"#DFDFDF\",\"#DFDFDF\",\"#DFDFDF\",\"#DFDFDF\",\"#DFDFDF\",\"#DFDFDF\",\"#DFDFDF\",\"#DFDFDF\",\"#DFDFDF\"],\"u\":[0,0,1,1,14,14,14,14,2,2,3,3,3,11,11,11,11,4,5,6,6,7,7,15,15,8,9,12],\"v\":[1,14,2,14,2,11,12,13,3,11,4,5,11,5,10,12,13,5,6,7,15,8,9,9,10,9,10,13],\"weight\":[4,24,12,19,20,8,10,6,10,25,14,15,18,14,4,8,8,12,14,3,3,1,2,4,6,2,6,4],\"xs\":[[6,20],[6,127],[20,72],[20,127],[127,72],[127,157],[127,162],[127,144],[72,111],[72,157],[111,194],[111,178],[111,157],[157,178],[157,165],[157,162],[157,144],[194,178],[178,199],[199,205],[199,189],[205,207],[205,198],[189,198],[189,165],[207,198],[198,165],[162,144]],\"ys\":[[71,59],[71,97],[59,31],[59,97],[97,31],[97,84],[97,112],[97,112],[31,-8],[31,84],[-8,-8],[-8,38],[-8,84],[84,38],[84,97],[84,112],[84,112],[-8,38],[38,86],[86,96],[86,93],[96,106],[96,103],[93,103],[93,97],[106,103],[103,97],[112,112]]},\"selected\":{\"id\":\"4335\"},\"selection_policy\":{\"id\":\"4334\"}},\"id\":\"4300\",\"type\":\"ColumnDataSource\"},{\"attributes\":{},\"id\":\"4278\",\"type\":\"WheelZoomTool\"},{\"attributes\":{\"align\":\"center\",\"width\":450},\"id\":\"4320\",\"type\":\"Div\"},{\"attributes\":{},\"id\":\"4274\",\"type\":\"BasicTicker\"},{\"attributes\":{},\"id\":\"4277\",\"type\":\"PanTool\"},{\"attributes\":{},\"id\":\"4280\",\"type\":\"SaveTool\"},{\"attributes\":{\"axis\":{\"id\":\"4269\"},\"grid_line_color\":null,\"ticker\":null},\"id\":\"4272\",\"type\":\"Grid\"},{\"attributes\":{\"data_source\":{\"id\":\"4315\"},\"glyph\":{\"id\":\"4316\"},\"hover_glyph\":null,\"level\":\"underlay\",\"muted_glyph\":null,\"nonselection_glyph\":{\"id\":\"4317\"},\"selection_glyph\":null,\"view\":{\"id\":\"4319\"}},\"id\":\"4318\",\"type\":\"GlyphRenderer\"},{\"attributes\":{},\"id\":\"4332\",\"type\":\"UnionRenderers\"},{\"attributes\":{\"callback\":null,\"renderers\":[{\"id\":\"4298\"}],\"tooltips\":[[\"Index\",\"$index\"],[\"Name\",\"@name\"]]},\"id\":\"4321\",\"type\":\"HoverTool\"},{\"attributes\":{\"children\":[{\"id\":\"4320\"}]},\"id\":\"4323\",\"type\":\"Row\"},{\"attributes\":{\"data\":{\"xs\":[[6,20],[20,72],[72,111],[111,194],[194,178],[178,199],[199,205],[205,207],[205,198],[199,189],[198,165],[165,157],[157,162],[162,144],[144,127]],\"ys\":[[71,59],[59,31],[31,-8],[-8,-8],[-8,38],[38,86],[86,96],[96,106],[96,103],[86,93],[103,97],[97,84],[84,112],[112,112],[112,97]]},\"selected\":{\"id\":\"4339\"},\"selection_policy\":{\"id\":\"4338\"}},\"id\":\"4315\",\"type\":\"ColumnDataSource\"},{\"attributes\":{\"line_cap\":\"round\",\"line_color\":{\"value\":\"#404040\"},\"line_width\":{\"value\":5},\"xs\":{\"field\":\"xs\"},\"ys\":{\"field\":\"ys\"}},\"id\":\"4316\",\"type\":\"MultiLine\"},{\"attributes\":{\"source\":{\"id\":\"4294\"}},\"id\":\"4299\",\"type\":\"CDSView\"},{\"attributes\":{},\"id\":\"4281\",\"type\":\"ResetTool\"}],\"root_ids\":[\"4341\"]},\"title\":\"Bokeh Application\",\"version\":\"2.2.3\"}};\n",
       "  var render_items = [{\"docid\":\"7b49227f-dbdd-497b-94d4-ba905e7d0fdf\",\"root_ids\":[\"4341\"],\"roots\":{\"4341\":\"b90420da-f604-4226-8b55-0745f62c8973\"}}];\n",
       "  root.Bokeh.embed.embed_items_notebook(docs_json, render_items);\n",
       "\n",
       "  }\n",
       "  if (root.Bokeh !== undefined) {\n",
       "    embed_document(root);\n",
       "  } else {\n",
       "    var attempts = 0;\n",
       "    var timer = setInterval(function(root) {\n",
       "      if (root.Bokeh !== undefined) {\n",
       "        clearInterval(timer);\n",
       "        embed_document(root);\n",
       "      } else {\n",
       "        attempts++;\n",
       "        if (attempts > 100) {\n",
       "          clearInterval(timer);\n",
       "          console.log(\"Bokeh: ERROR: Unable to run BokehJS code because BokehJS library is missing\");\n",
       "        }\n",
       "      }\n",
       "    }, 10, root)\n",
       "  }\n",
       "})(window);"
      ],
      "application/vnd.bokehjs_exec.v0+json": ""
     },
     "metadata": {
      "application/vnd.bokehjs_exec.v0+json": {
       "id": "4341"
      }
     },
     "output_type": "display_data"
    }
   ],
   "source": [
    "mst = vl.prims(G,i=0)\n",
    "show(vl.tree_plot(G, tree=mst, i=0, width=900, height=600))"
   ]
  },
  {
   "cell_type": "markdown",
   "metadata": {},
   "source": [
    "**Q21:** Is the edge {3,5} no longer in the tree?\n",
    "\n",
    "**A:** <font color='blue'> Yes.</font>"
   ]
  },
  {
   "cell_type": "markdown",
   "metadata": {},
   "source": [
    "**Q22:** In general, what does this suggest about how the cost of any one \"not included\" edge must be changed if it is to be included in the minimum spanning tree for the modified data?\n",
    "\n",
    "**A:** <font color='blue'> Consider the edges in the cycle created by adding the \"not included\" edge. The cost of the \"not included\" edge must become as cheap as the cheapest edge in this cycle.</font>"
   ]
  },
  {
   "cell_type": "markdown",
   "metadata": {},
   "source": [
    "**Q23:** Now consider an edge that is in the minimum spanning tree, such as {1, 2}. How must this be changed for this edge to be forced out of the optimal solution? Again, also figure out the general rule for forcing minimum spanning tree edges out of the minimum spanning tree.\n",
    "\n",
    "**A:** <font color='blue'> Its cost must increase to be 19 or greater. In general, remove the edge and consider all the edges the span the disconnected subsets of nodes. The cost of the edge must increase to cost of the next smallest edge for it to be forced out of the MS.</font>"
   ]
  },
  {
   "cell_type": "markdown",
   "metadata": {},
   "source": [
    "## Part IV: MST Application to Clustering"
   ]
  },
  {
   "cell_type": "markdown",
   "metadata": {},
   "source": [
    "Each node in the below graph represents a data point. How close two points are to each other represent how similar they are. We want to separate the data below into clusters. Two of the data points do not nicely fit into any of the clusters."
   ]
  },
  {
   "cell_type": "code",
   "execution_count": 84,
   "metadata": {},
   "outputs": [
    {
     "data": {
      "text/html": [
       "\n",
       "\n",
       "\n",
       "\n",
       "\n",
       "\n",
       "  <div class=\"bk-root\" id=\"5817e5e0-b5f1-42ff-81a1-ed259b06f5a2\" data-root-id=\"31364\"></div>\n"
      ]
     },
     "metadata": {},
     "output_type": "display_data"
    },
    {
     "data": {
      "application/javascript": [
       "(function(root) {\n",
       "  function embed_document(root) {\n",
       "    \n",
       "  var docs_json = {\"fa919969-6151-4d02-a6e8-a086f1c37188\":{\"roots\":{\"references\":[{\"attributes\":{\"children\":[[{\"id\":\"31309\"},0,0],[{\"id\":\"31354\"},1,0]]},\"id\":\"31364\",\"type\":\"GridBox\"},{\"attributes\":{\"axis\":{\"id\":\"31320\"},\"grid_line_color\":null,\"ticker\":null},\"id\":\"31323\",\"type\":\"Grid\"},{\"attributes\":{\"callback\":null,\"renderers\":[{\"id\":\"31349\"}],\"tooltips\":[[\"Index\",\"$index\"],[\"Name\",\"@name\"]]},\"id\":\"31352\",\"type\":\"HoverTool\"},{\"attributes\":{\"children\":[{\"id\":\"31351\"}]},\"id\":\"31354\",\"type\":\"Row\"},{\"attributes\":{\"data\":{\"fill_color\":[\"#5e92f3\",\"#5e92f3\",\"#5e92f3\",\"#5e92f3\",\"#5e92f3\",\"#5e92f3\",\"#5e92f3\",\"#5e92f3\",\"#5e92f3\",\"#5e92f3\",\"#5e92f3\",\"#5e92f3\",\"#5e92f3\",\"#5e92f3\",\"#5e92f3\",\"#5e92f3\",\"#5e92f3\",\"#5e92f3\",\"#5e92f3\",\"#5e92f3\"],\"line_color\":[\"#003c8f\",\"#003c8f\",\"#003c8f\",\"#003c8f\",\"#003c8f\",\"#003c8f\",\"#003c8f\",\"#003c8f\",\"#003c8f\",\"#003c8f\",\"#003c8f\",\"#003c8f\",\"#003c8f\",\"#003c8f\",\"#003c8f\",\"#003c8f\",\"#003c8f\",\"#003c8f\",\"#003c8f\",\"#003c8f\"],\"line_width\":[3,3,3,3,3,3,3,3,3,3,3,3,3,3,3,3,3,3,3,3],\"x\":[-5,5,-10,10,23,10,25,10,30,100,110,105,90,90,130,115,125,95,63,0],\"y\":[-5,5,10,12,24,25,10,-15,-10,50,40,55,40,60,50,70,30,25,137,85]},\"selected\":{\"id\":\"31361\"},\"selection_policy\":{\"id\":\"31362\"}},\"id\":\"31345\",\"type\":\"ColumnDataSource\"},{\"attributes\":{\"background_fill_color\":null,\"below\":[{\"id\":\"31320\"}],\"border_fill_color\":null,\"center\":[{\"id\":\"31323\"},{\"id\":\"31327\"}],\"left\":[{\"id\":\"31324\"}],\"outline_line_color\":null,\"plot_width\":900,\"renderers\":[{\"id\":\"31349\"}],\"title\":{\"id\":\"31310\"},\"toolbar\":{\"id\":\"31335\"},\"toolbar_location\":null,\"x_range\":{\"id\":\"31312\"},\"x_scale\":{\"id\":\"31316\"},\"y_range\":{\"id\":\"31314\"},\"y_scale\":{\"id\":\"31318\"}},\"id\":\"31309\",\"subtype\":\"Figure\",\"type\":\"Plot\"},{\"attributes\":{},\"id\":\"31325\",\"type\":\"BasicTicker\"},{\"attributes\":{},\"id\":\"31359\",\"type\":\"BasicTickFormatter\"},{\"attributes\":{},\"id\":\"31316\",\"type\":\"LinearScale\"},{\"attributes\":{\"source\":{\"id\":\"31345\"}},\"id\":\"31350\",\"type\":\"CDSView\"},{\"attributes\":{},\"id\":\"31328\",\"type\":\"PanTool\"},{\"attributes\":{\"end\":141.9,\"start\":-21.9},\"id\":\"31312\",\"type\":\"Range1d\"},{\"attributes\":{},\"id\":\"31318\",\"type\":\"LinearScale\"},{\"attributes\":{\"text\":\"\"},\"id\":\"31310\",\"type\":\"Title\"},{\"attributes\":{\"align\":\"center\",\"text\":\"0.0\",\"width\":450},\"id\":\"31351\",\"type\":\"Div\"},{\"attributes\":{\"data_source\":{\"id\":\"31345\"},\"glyph\":{\"id\":\"31347\"},\"hover_glyph\":null,\"muted_glyph\":null,\"nonselection_glyph\":{\"id\":\"31348\"},\"selection_glyph\":null,\"view\":{\"id\":\"31350\"}},\"id\":\"31349\",\"type\":\"GlyphRenderer\"},{\"attributes\":{\"axis\":{\"id\":\"31324\"},\"dimension\":1,\"grid_line_color\":null,\"ticker\":null},\"id\":\"31327\",\"type\":\"Grid\"},{\"attributes\":{},\"id\":\"31332\",\"type\":\"ResetTool\"},{\"attributes\":{},\"id\":\"31321\",\"type\":\"BasicTicker\"},{\"attributes\":{\"formatter\":{\"id\":\"31359\"},\"ticker\":{\"id\":\"31321\"},\"visible\":false},\"id\":\"31320\",\"type\":\"LinearAxis\"},{\"attributes\":{\"fill_color\":{\"field\":\"fill_color\"},\"line_color\":{\"field\":\"line_color\"},\"line_width\":{\"field\":\"line_width\"},\"size\":{\"units\":\"screen\",\"value\":11},\"x\":{\"field\":\"x\"},\"y\":{\"field\":\"y\"}},\"id\":\"31347\",\"type\":\"Circle\"},{\"attributes\":{},\"id\":\"31329\",\"type\":\"WheelZoomTool\"},{\"attributes\":{\"formatter\":{\"id\":\"31357\"},\"ticker\":{\"id\":\"31325\"},\"visible\":false},\"id\":\"31324\",\"type\":\"LinearAxis\"},{\"attributes\":{},\"id\":\"31331\",\"type\":\"SaveTool\"},{\"attributes\":{},\"id\":\"31361\",\"type\":\"Selection\"},{\"attributes\":{},\"id\":\"31333\",\"type\":\"HelpTool\"},{\"attributes\":{\"end\":149.92000000000002,\"start\":-27.92},\"id\":\"31314\",\"type\":\"Range1d\"},{\"attributes\":{\"fill_color\":{\"field\":\"fill_color\"},\"line_color\":{\"field\":\"line_color\"},\"line_width\":{\"field\":\"line_width\"},\"size\":{\"units\":\"screen\",\"value\":11},\"x\":{\"field\":\"x\"},\"y\":{\"field\":\"y\"}},\"id\":\"31348\",\"type\":\"Circle\"},{\"attributes\":{\"bottom_units\":\"screen\",\"fill_alpha\":0.5,\"fill_color\":\"lightgrey\",\"left_units\":\"screen\",\"level\":\"overlay\",\"line_alpha\":1.0,\"line_color\":\"black\",\"line_dash\":[4,4],\"line_width\":2,\"right_units\":\"screen\",\"top_units\":\"screen\"},\"id\":\"31334\",\"type\":\"BoxAnnotation\"},{\"attributes\":{},\"id\":\"31357\",\"type\":\"BasicTickFormatter\"},{\"attributes\":{\"overlay\":{\"id\":\"31334\"}},\"id\":\"31330\",\"type\":\"BoxZoomTool\"},{\"attributes\":{\"active_drag\":null,\"active_inspect\":\"auto\",\"active_multi\":null,\"active_scroll\":null,\"active_tap\":\"auto\",\"logo\":null,\"tools\":[{\"id\":\"31328\"},{\"id\":\"31329\"},{\"id\":\"31330\"},{\"id\":\"31331\"},{\"id\":\"31332\"},{\"id\":\"31333\"},{\"id\":\"31352\"}]},\"id\":\"31335\",\"type\":\"Toolbar\"},{\"attributes\":{},\"id\":\"31362\",\"type\":\"UnionRenderers\"}],\"root_ids\":[\"31364\"]},\"title\":\"Bokeh Application\",\"version\":\"2.2.3\"}};\n",
       "  var render_items = [{\"docid\":\"fa919969-6151-4d02-a6e8-a086f1c37188\",\"root_ids\":[\"31364\"],\"roots\":{\"31364\":\"5817e5e0-b5f1-42ff-81a1-ed259b06f5a2\"}}];\n",
       "  root.Bokeh.embed.embed_items_notebook(docs_json, render_items);\n",
       "\n",
       "  }\n",
       "  if (root.Bokeh !== undefined) {\n",
       "    embed_document(root);\n",
       "  } else {\n",
       "    var attempts = 0;\n",
       "    var timer = setInterval(function(root) {\n",
       "      if (root.Bokeh !== undefined) {\n",
       "        clearInterval(timer);\n",
       "        embed_document(root);\n",
       "      } else {\n",
       "        attempts++;\n",
       "        if (attempts > 100) {\n",
       "          clearInterval(timer);\n",
       "          console.log(\"Bokeh: ERROR: Unable to run BokehJS code because BokehJS library is missing\");\n",
       "        }\n",
       "      }\n",
       "    }, 10, root)\n",
       "  }\n",
       "})(window);"
      ],
      "application/vnd.bokehjs_exec.v0+json": ""
     },
     "metadata": {
      "application/vnd.bokehjs_exec.v0+json": {
       "id": "31364"
      }
     },
     "output_type": "display_data"
    }
   ],
   "source": [
    "# Load the data and create a graph G\n",
    "nodes = pd.read_csv('data/cluster.csv', index_col=0)\n",
    "edges = pd.read_csv('data/cluster_edges.csv', index_col=0)\n",
    "G = vl.create_network(nodes, edges)\n",
    "\n",
    "# Plot the graph G\n",
    "show(vl.tour_plot(G, tour=[], width = 900, height = 600))"
   ]
  },
  {
   "cell_type": "markdown",
   "metadata": {},
   "source": [
    "We can find the minimum spanning tree for the points to automatically identify outliers. The MST would be calculated on the complete graph, but for clarity, only a subset of the edges are used here."
   ]
  },
  {
   "cell_type": "code",
   "execution_count": 83,
   "metadata": {},
   "outputs": [
    {
     "data": {
      "text/html": [
       "\n",
       "\n",
       "\n",
       "\n",
       "\n",
       "\n",
       "  <div class=\"bk-root\" id=\"b86cfed8-d2d6-4e41-88e7-9b9e25f1224b\" data-root-id=\"30394\"></div>\n"
      ]
     },
     "metadata": {},
     "output_type": "display_data"
    },
    {
     "data": {
      "application/javascript": [
       "(function(root) {\n",
       "  function embed_document(root) {\n",
       "    \n",
       "  var docs_json = {\"66a74ef7-d617-45d4-8e23-14ce36f74ed1\":{\"roots\":{\"references\":[{\"attributes\":{\"children\":[[{\"id\":\"30295\"},0,0],[{\"id\":\"30369\"},1,0],[{\"id\":\"30370\"},2,0]]},\"id\":\"30394\",\"type\":\"GridBox\"},{\"attributes\":{\"button_type\":\"primary\",\"icon\":null,\"js_event_callbacks\":{\"button_click\":[{\"id\":\"30364\"}]},\"label\":\"Next\",\"max_width\":450,\"sizing_mode\":\"stretch_width\",\"width_policy\":\"fit\"},\"id\":\"30363\",\"type\":\"Button\"},{\"attributes\":{\"line_color\":{\"value\":\"white\"},\"line_width\":{\"value\":6},\"xs\":{\"field\":\"xs\"},\"ys\":{\"field\":\"ys\"}},\"id\":\"30346\",\"type\":\"MultiLine\"},{\"attributes\":{},\"id\":\"30380\",\"type\":\"UnionRenderers\"},{\"attributes\":{\"button_type\":\"primary\",\"icon\":null,\"js_event_callbacks\":{\"button_click\":[{\"id\":\"30366\"}]},\"label\":\"Previous\",\"max_width\":450,\"sizing_mode\":\"stretch_width\",\"width_policy\":\"fit\"},\"id\":\"30365\",\"type\":\"Button\"},{\"attributes\":{\"data\":{\"text\":[10,10,12,11,5,14,16,40,18,6,11,19,15,9,14,55,35,7,51,14,47,52,10,15,20,12,9,15,9,54,20,64,14,12,4,18,24,58,19,71,14,14,53],\"x\":{\"__ndarray__\":\"AAAAAAAAAAD6//////8dwAAAAAAAAARA8P//////A8AAAAAAAAAeQAAAAAAAAAAAAAAAAAAAAAD4//////8TwAAAAAAAACRAAAAAAAAAJED+/////38xQP7/////fzFAAAAAAAAANEAAAAAAAIAwQP7/////fzFAAQAAAAAASUAAAAAAAAAUQAIAAAAAADhAAQAAAABATED+/////387QAEAAAAAQE9AAQAAAAAATkAAAAAAACBXQAAAAAAAoFlAAAAAAACAW0AAAAAAAIBWQAIAAAAAwFdAAAAAAAAAWUACAAAAAMBXQAAAAAAAIFNAAAAAAACgWUABAAAAAIBGQAAAAAAAgFtAAAAAAADgWkAAAAAAAKBZQAAAAAAAoF5AAAAAAAAAXkACAAAAAEBWQAAAAAAAIFxAAQAAAADATEAAAAAAAOBfQAAAAAAAYF1AAgAAAACAP0A=\",\"dtype\":\"float64\",\"order\":\"little\",\"shape\":[43]},\"y\":{\"__ndarray__\":\"AAAAAAAAAAAAAAAAAAAEQAAAAAAAACTAAAAAAAAAHkAAAAAAAAAhQAQAAAAAACZAAgAAAACAMUAAAAAAAMBHQOD///////e/AAAAAACAMkAEAAAAAAAmQAAAAAAAAATAAwAAAAAAKcAAAAAAAIA4QAIAAAAAgDFAAAAAAABARUAAAAAAAIBLQAAAAAAAADFAAAAAAAAAQEAAAAAAAAAAAAAAAAAAAB5AAAAAAAAALkAAAAAAAEBAQAAAAAAAQEBAAAAAAACAO0ACAAAAAABJQAIAAAAAgEZAAAAAAAAAREAAAAAAAIBLQAAAAAAAoFhA//////8/UED//////x9SQAAAAAAAQE9AAAAAAADAR0AAAAAAAEBKQP7//////01AAgAAAAAASUABAAAAAOBZQAAAAAAAgEtAAAAAAABgU0AAAAAAAABEQAAAAAAAgEFAAQAAAADAW0A=\",\"dtype\":\"float64\",\"order\":\"little\",\"shape\":[43]}},\"selected\":{\"id\":\"30377\"},\"selection_policy\":{\"id\":\"30378\"}},\"id\":\"30349\",\"type\":\"ColumnDataSource\"},{\"attributes\":{},\"id\":\"30307\",\"type\":\"BasicTicker\"},{\"attributes\":{\"formatter\":{\"id\":\"30375\"},\"ticker\":{\"id\":\"30307\"},\"visible\":false},\"id\":\"30306\",\"type\":\"LinearAxis\"},{\"attributes\":{\"args\":{\"cost\":{\"id\":\"30361\"},\"done\":{\"id\":\"30354\"},\"edge_subset_src\":{\"id\":\"30355\"},\"k\":{\"id\":\"30353\"},\"n\":{\"id\":\"30352\"},\"nodes_src\":{\"id\":\"30331\"},\"source\":{\"id\":\"30362\"}},\"code\":\"/* Color Theme -- Using Google's Material Design Color System\\n   https://material.io/design/color/the-color-system.html */\\n\\n/** @constant {string} */\\nvar PRIMARY_COLOR = '#1565c0'\\n/** @constant {string} */\\nvar PRIMARY_LIGHT_COLOR = '#5e92f3'\\n/** @constant {string} */\\nvar PRIMARY_DARK_COLOR = '#003c8f'\\n/** @constant {string} */\\nvar SECONDARY_COLOR = '#d50000'\\n/** @constant {string} */\\nvar SECONDARY_LIGHT_COLOR = '#ff5131'\\n/** @constant {string} */\\nvar SECONDARY_DARK_COLOR = '#9b0000'\\n\\n// Grayscale\\n/** @constant {string} */\\nvar TERTIARY_COLOR = '#DFDFDF'\\n/**\\n *  Jupyter Notebook: 'white', Sphinx: '#FCFCFC'\\n *  @constant {string}\\n */\\nvar TERTIARY_LIGHT_COLOR = 'white'\\n/** @constant {string} */\\nvar TERTIARY_DARK_COLOR = '#404040'\\n/** @type {integer} */\\nvar iteration = 0\\n\\n\\n/**\\n * Increment iteration and update n Div.\\n */\\nfunction increment_iteration() {\\n    if ((parseInt(n.text) + 1) < parseInt(k.text)) {\\n        n.text = (parseInt(n.text) + 1).toString()\\n    }\\n    iteration = parseInt(n.text)\\n}\\n\\n/**\\n * Decrement iteration and update n Div.\\n */\\nfunction decrement_iteration() {\\n    if ((parseInt(n.text) - 1) >= 0) {\\n        n.text = (parseInt(n.text) - 1).toString()\\n    }\\n    iteration = parseInt(n.text)\\n}\\n\\n/**\\n * Update which nodes are highlighted given the current iteration.\\n */\\nfunction nodes_update() {\\n    var in_tree = source.data['nodes'][iteration]\\n\\n    for (let i = 0; i < nodes_src.data['line_color'].length ; i++) {\\n        if (in_tree.includes(i)) {\\n            nodes_src.data['fill_color'][i] = PRIMARY_DARK_COLOR\\n            nodes_src.data['line_color'][i] = PRIMARY_DARK_COLOR\\n        } else {\\n            nodes_src.data['fill_color'][i] = PRIMARY_LIGHT_COLOR\\n            nodes_src.data['line_color'][i] = PRIMARY_DARK_COLOR\\n        }\\n    }\\n\\n    nodes_src.change.emit()\\n}\\n\\n/**\\n * Update which subset of edges are highlighted given the current iteration.\\n */\\nfunction edge_subset_update() {\\n    edge_subset_src.data['xs'] = source.data['edge_xs'][iteration]\\n    edge_subset_src.data['ys'] = source.data['edge_ys'][iteration]\\n    edge_subset_src.change.emit()\\n}\\n\\n/**\\n * Update which swaps are updated given the current iteration\\n */\\nfunction swaps_update() {\\n    swaps_src.data['swaps_before_x'] = source.data['swaps_before_x'][iteration]\\n    swaps_src.data['swaps_before_y'] = source.data['swaps_before_y'][iteration]\\n    swaps_src.data['swaps_after_x'] = source.data['swaps_after_x'][iteration]\\n    swaps_src.data['swaps_after_y'] = source.data['swaps_after_y'][iteration]\\n    swaps_src.change.emit()\\n}\\n\\n/**\\n * Update which table is shown given the current iteration.\\n */\\nfunction table_update() {\\n    table_src.data = source.data['tables'][iteration]\\n}\\n\\n/**\\n * Update which cost is shown given the current iteration.\\n */\\nfunction cost_update() {\\n    cost.text = source.data['costs'][iteration].toFixed(1)\\n}\\n\\n/**\\n * Update done Div based on the current iteration.\\n */\\nfunction done_update() {\\n    if (iteration == parseInt(k.text) - 1) {\\n        done.text = \\\"done.\\\"\\n    } else {\\n        done.text = \\\"\\\"\\n    }\\n}\\n\\n// BEGIN FUNCTION CALLING\\nincrement_iteration()\\ndone_update()\\ncost_update()\\nedge_subset_update()\\nnodes_update()\\n\"},\"id\":\"30364\",\"type\":\"CustomJS\"},{\"attributes\":{\"axis\":{\"id\":\"30306\"},\"grid_line_color\":null,\"ticker\":null},\"id\":\"30309\",\"type\":\"Grid\"},{\"attributes\":{\"source\":{\"id\":\"30349\"},\"text_align\":\"center\",\"text_baseline\":\"middle\",\"text_color\":{\"value\":\"black\"},\"text_font_size\":{\"value\":\"13px\"},\"x\":{\"field\":\"x\"},\"y\":{\"field\":\"y\"}},\"id\":\"30350\",\"type\":\"LabelSet\"},{\"attributes\":{\"overlay\":{\"id\":\"30320\"}},\"id\":\"30316\",\"type\":\"BoxZoomTool\"},{\"attributes\":{\"fill_color\":{\"field\":\"fill_color\"},\"line_color\":{\"field\":\"line_color\"},\"line_width\":{\"field\":\"line_width\"},\"size\":{\"units\":\"screen\",\"value\":11},\"x\":{\"field\":\"x\"},\"y\":{\"field\":\"y\"}},\"id\":\"30333\",\"type\":\"Circle\"},{\"attributes\":{},\"id\":\"30311\",\"type\":\"BasicTicker\"},{\"attributes\":{\"source\":{\"id\":\"30344\"}},\"id\":\"30348\",\"type\":\"CDSView\"},{\"attributes\":{\"line_cap\":\"round\",\"line_color\":{\"value\":\"#404040\"},\"line_width\":{\"value\":5},\"xs\":{\"field\":\"xs\"},\"ys\":{\"field\":\"ys\"}},\"id\":\"30357\",\"type\":\"MultiLine\"},{\"attributes\":{},\"id\":\"30385\",\"type\":\"Selection\"},{\"attributes\":{},\"id\":\"30315\",\"type\":\"WheelZoomTool\"},{\"attributes\":{},\"id\":\"30386\",\"type\":\"UnionRenderers\"},{\"attributes\":{\"formatter\":{\"id\":\"30373\"},\"ticker\":{\"id\":\"30311\"},\"visible\":false},\"id\":\"30310\",\"type\":\"LinearAxis\"},{\"attributes\":{\"data\":{\"fill_color\":[\"#5e92f3\",\"#5e92f3\",\"#5e92f3\",\"#5e92f3\",\"#5e92f3\",\"#5e92f3\",\"#5e92f3\",\"#5e92f3\",\"#5e92f3\",\"#5e92f3\",\"#5e92f3\",\"#5e92f3\",\"#5e92f3\",\"#5e92f3\",\"#5e92f3\",\"#5e92f3\",\"#5e92f3\",\"#5e92f3\",\"#5e92f3\",\"#5e92f3\"],\"line_color\":[\"#003c8f\",\"#003c8f\",\"#003c8f\",\"#003c8f\",\"#003c8f\",\"#003c8f\",\"#003c8f\",\"#003c8f\",\"#003c8f\",\"#003c8f\",\"#003c8f\",\"#003c8f\",\"#003c8f\",\"#003c8f\",\"#003c8f\",\"#003c8f\",\"#003c8f\",\"#003c8f\",\"#003c8f\",\"#003c8f\"],\"line_width\":[3,3,3,3,3,3,3,3,3,3,3,3,3,3,3,3,3,3,3,3],\"x\":[-5,5,-10,10,23,10,25,10,30,100,110,105,90,90,130,115,125,95,63,0],\"y\":[-5,5,10,12,24,25,10,-15,-10,50,40,55,40,60,50,70,30,25,137,85]},\"selected\":{\"id\":\"30379\"},\"selection_policy\":{\"id\":\"30380\"}},\"id\":\"30331\",\"type\":\"ColumnDataSource\"},{\"attributes\":{\"background_fill_color\":null,\"below\":[{\"id\":\"30306\"}],\"border_fill_color\":null,\"center\":[{\"id\":\"30309\"},{\"id\":\"30313\"},{\"id\":\"30350\"}],\"left\":[{\"id\":\"30310\"}],\"outline_line_color\":null,\"plot_width\":900,\"renderers\":[{\"id\":\"30335\"},{\"id\":\"30342\"},{\"id\":\"30347\"},{\"id\":\"30359\"}],\"title\":{\"id\":\"30296\"},\"toolbar\":{\"id\":\"30321\"},\"toolbar_location\":null,\"x_range\":{\"id\":\"30298\"},\"x_scale\":{\"id\":\"30302\"},\"y_range\":{\"id\":\"30300\"},\"y_scale\":{\"id\":\"30304\"}},\"id\":\"30295\",\"subtype\":\"Figure\",\"type\":\"Plot\"},{\"attributes\":{\"data_source\":{\"id\":\"30344\"},\"glyph\":{\"id\":\"30345\"},\"hover_glyph\":null,\"level\":\"guide\",\"muted_glyph\":null,\"nonselection_glyph\":{\"id\":\"30346\"},\"selection_glyph\":null,\"view\":{\"id\":\"30348\"}},\"id\":\"30347\",\"type\":\"GlyphRenderer\"},{\"attributes\":{\"args\":{\"cost\":{\"id\":\"30361\"},\"done\":{\"id\":\"30354\"},\"edge_subset_src\":{\"id\":\"30355\"},\"k\":{\"id\":\"30353\"},\"n\":{\"id\":\"30352\"},\"nodes_src\":{\"id\":\"30331\"},\"source\":{\"id\":\"30362\"}},\"code\":\"/* Color Theme -- Using Google's Material Design Color System\\n   https://material.io/design/color/the-color-system.html */\\n\\n/** @constant {string} */\\nvar PRIMARY_COLOR = '#1565c0'\\n/** @constant {string} */\\nvar PRIMARY_LIGHT_COLOR = '#5e92f3'\\n/** @constant {string} */\\nvar PRIMARY_DARK_COLOR = '#003c8f'\\n/** @constant {string} */\\nvar SECONDARY_COLOR = '#d50000'\\n/** @constant {string} */\\nvar SECONDARY_LIGHT_COLOR = '#ff5131'\\n/** @constant {string} */\\nvar SECONDARY_DARK_COLOR = '#9b0000'\\n\\n// Grayscale\\n/** @constant {string} */\\nvar TERTIARY_COLOR = '#DFDFDF'\\n/**\\n *  Jupyter Notebook: 'white', Sphinx: '#FCFCFC'\\n *  @constant {string}\\n */\\nvar TERTIARY_LIGHT_COLOR = 'white'\\n/** @constant {string} */\\nvar TERTIARY_DARK_COLOR = '#404040'\\n/** @type {integer} */\\nvar iteration = 0\\n\\n\\n/**\\n * Increment iteration and update n Div.\\n */\\nfunction increment_iteration() {\\n    if ((parseInt(n.text) + 1) < parseInt(k.text)) {\\n        n.text = (parseInt(n.text) + 1).toString()\\n    }\\n    iteration = parseInt(n.text)\\n}\\n\\n/**\\n * Decrement iteration and update n Div.\\n */\\nfunction decrement_iteration() {\\n    if ((parseInt(n.text) - 1) >= 0) {\\n        n.text = (parseInt(n.text) - 1).toString()\\n    }\\n    iteration = parseInt(n.text)\\n}\\n\\n/**\\n * Update which nodes are highlighted given the current iteration.\\n */\\nfunction nodes_update() {\\n    var in_tree = source.data['nodes'][iteration]\\n\\n    for (let i = 0; i < nodes_src.data['line_color'].length ; i++) {\\n        if (in_tree.includes(i)) {\\n            nodes_src.data['fill_color'][i] = PRIMARY_DARK_COLOR\\n            nodes_src.data['line_color'][i] = PRIMARY_DARK_COLOR\\n        } else {\\n            nodes_src.data['fill_color'][i] = PRIMARY_LIGHT_COLOR\\n            nodes_src.data['line_color'][i] = PRIMARY_DARK_COLOR\\n        }\\n    }\\n\\n    nodes_src.change.emit()\\n}\\n\\n/**\\n * Update which subset of edges are highlighted given the current iteration.\\n */\\nfunction edge_subset_update() {\\n    edge_subset_src.data['xs'] = source.data['edge_xs'][iteration]\\n    edge_subset_src.data['ys'] = source.data['edge_ys'][iteration]\\n    edge_subset_src.change.emit()\\n}\\n\\n/**\\n * Update which swaps are updated given the current iteration\\n */\\nfunction swaps_update() {\\n    swaps_src.data['swaps_before_x'] = source.data['swaps_before_x'][iteration]\\n    swaps_src.data['swaps_before_y'] = source.data['swaps_before_y'][iteration]\\n    swaps_src.data['swaps_after_x'] = source.data['swaps_after_x'][iteration]\\n    swaps_src.data['swaps_after_y'] = source.data['swaps_after_y'][iteration]\\n    swaps_src.change.emit()\\n}\\n\\n/**\\n * Update which table is shown given the current iteration.\\n */\\nfunction table_update() {\\n    table_src.data = source.data['tables'][iteration]\\n}\\n\\n/**\\n * Update which cost is shown given the current iteration.\\n */\\nfunction cost_update() {\\n    cost.text = source.data['costs'][iteration].toFixed(1)\\n}\\n\\n/**\\n * Update done Div based on the current iteration.\\n */\\nfunction done_update() {\\n    if (iteration == parseInt(k.text) - 1) {\\n        done.text = \\\"done.\\\"\\n    } else {\\n        done.text = \\\"\\\"\\n    }\\n}\\n\\n// BEGIN FUNCTION CALLING\\ndecrement_iteration()\\ndone_update()\\ncost_update()\\nedge_subset_update()\\nnodes_update()\\n\"},\"id\":\"30366\",\"type\":\"CustomJS\"},{\"attributes\":{\"callback\":null,\"renderers\":[{\"id\":\"30335\"}],\"tooltips\":[[\"Index\",\"$index\"],[\"Name\",\"@name\"]]},\"id\":\"30367\",\"type\":\"HoverTool\"},{\"attributes\":{},\"id\":\"30381\",\"type\":\"Selection\"},{\"attributes\":{},\"id\":\"30392\",\"type\":\"Selection\"},{\"attributes\":{\"axis\":{\"id\":\"30310\"},\"dimension\":1,\"grid_line_color\":null,\"ticker\":null},\"id\":\"30313\",\"type\":\"Grid\"},{\"attributes\":{},\"id\":\"30382\",\"type\":\"UnionRenderers\"},{\"attributes\":{\"data_source\":{\"id\":\"30355\"},\"glyph\":{\"id\":\"30357\"},\"hover_glyph\":null,\"level\":\"underlay\",\"muted_glyph\":null,\"nonselection_glyph\":{\"id\":\"30358\"},\"selection_glyph\":null,\"view\":{\"id\":\"30360\"}},\"id\":\"30359\",\"type\":\"GlyphRenderer\"},{\"attributes\":{\"children\":[{\"id\":\"30365\"},{\"id\":\"30363\"}],\"max_width\":900,\"sizing_mode\":\"stretch_both\"},\"id\":\"30369\",\"type\":\"Row\"},{\"attributes\":{\"data\":{\"line_color\":[\"#DFDFDF\",\"#DFDFDF\",\"#DFDFDF\",\"#DFDFDF\",\"#DFDFDF\",\"#DFDFDF\",\"#DFDFDF\",\"#DFDFDF\",\"#DFDFDF\",\"#DFDFDF\",\"#DFDFDF\",\"#DFDFDF\",\"#DFDFDF\",\"#DFDFDF\",\"#DFDFDF\",\"#DFDFDF\",\"#DFDFDF\",\"#DFDFDF\",\"#DFDFDF\",\"#DFDFDF\",\"#DFDFDF\",\"#DFDFDF\",\"#DFDFDF\",\"#DFDFDF\",\"#DFDFDF\",\"#DFDFDF\",\"#DFDFDF\",\"#DFDFDF\",\"#DFDFDF\",\"#DFDFDF\",\"#DFDFDF\",\"#DFDFDF\",\"#DFDFDF\",\"#DFDFDF\",\"#DFDFDF\",\"#DFDFDF\",\"#DFDFDF\",\"#DFDFDF\",\"#DFDFDF\",\"#DFDFDF\",\"#DFDFDF\",\"#DFDFDF\",\"#DFDFDF\"],\"u\":[0,0,0,1,1,2,2,2,3,3,3,7,7,5,5,5,5,4,4,6,8,8,17,17,17,12,12,12,13,13,13,13,11,11,11,15,15,15,15,15,14,16,18],\"v\":[1,2,7,2,3,3,5,19,7,5,6,6,8,4,6,13,19,6,12,8,17,12,12,10,16,13,9,10,9,18,15,19,15,10,9,14,16,18,10,19,16,10,19],\"weight\":[10,10,12,11,5,14,16,40,18,6,11,19,15,9,14,55,35,7,51,14,47,52,10,15,20,12,9,15,9,54,20,64,14,12,4,18,24,58,19,71,14,14,53],\"xs\":[[-5,5],[-5,-10],[-5,10],[5,-10],[5,10],[-10,10],[-10,10],[-10,0],[10,10],[10,10],[10,25],[10,25],[10,30],[10,23],[10,25],[10,90],[10,0],[23,25],[23,90],[25,30],[30,95],[30,90],[95,90],[95,110],[95,125],[90,90],[90,100],[90,110],[90,100],[90,63],[90,115],[90,0],[105,115],[105,110],[105,100],[115,130],[115,125],[115,63],[115,110],[115,0],[130,125],[125,110],[63,0]],\"ys\":[[-5,5],[-5,10],[-5,-15],[5,10],[5,12],[10,12],[10,25],[10,85],[12,-15],[12,25],[12,10],[-15,10],[-15,-10],[25,24],[25,10],[25,60],[25,85],[24,10],[24,40],[10,-10],[-10,25],[-10,40],[25,40],[25,40],[25,30],[40,60],[40,50],[40,40],[60,50],[60,137],[60,70],[60,85],[55,70],[55,40],[55,50],[70,50],[70,30],[70,137],[70,40],[70,85],[50,30],[30,40],[137,85]]},\"selected\":{\"id\":\"30381\"},\"selection_policy\":{\"id\":\"30382\"}},\"id\":\"30337\",\"type\":\"ColumnDataSource\"},{\"attributes\":{\"align\":\"center\",\"text\":\"0\",\"width\":900},\"id\":\"30352\",\"type\":\"Div\"},{\"attributes\":{\"data_source\":{\"id\":\"30337\"},\"glyph\":{\"id\":\"30339\"},\"hover_glyph\":{\"id\":\"30341\"},\"level\":\"underlay\",\"muted_glyph\":null,\"nonselection_glyph\":{\"id\":\"30340\"},\"selection_glyph\":null,\"view\":{\"id\":\"30343\"}},\"id\":\"30342\",\"type\":\"GlyphRenderer\"},{\"attributes\":{},\"id\":\"30314\",\"type\":\"PanTool\"},{\"attributes\":{\"line_alpha\":{\"value\":0.1},\"line_cap\":\"round\",\"line_color\":{\"value\":\"#404040\"},\"line_width\":{\"value\":5},\"xs\":{\"field\":\"xs\"},\"ys\":{\"field\":\"ys\"}},\"id\":\"30358\",\"type\":\"MultiLine\"},{\"attributes\":{\"children\":[{\"id\":\"30361\"},{\"id\":\"30354\"}]},\"id\":\"30370\",\"type\":\"Row\"},{\"attributes\":{\"active_drag\":null,\"active_inspect\":\"auto\",\"active_multi\":null,\"active_scroll\":null,\"active_tap\":\"auto\",\"logo\":null,\"tools\":[{\"id\":\"30314\"},{\"id\":\"30315\"},{\"id\":\"30316\"},{\"id\":\"30317\"},{\"id\":\"30318\"},{\"id\":\"30319\"},{\"id\":\"30367\"}]},\"id\":\"30321\",\"type\":\"Toolbar\"},{\"attributes\":{\"line_cap\":\"round\",\"line_color\":{\"value\":\"#404040\"},\"line_width\":{\"value\":5},\"xs\":{\"field\":\"xs\"},\"ys\":{\"field\":\"ys\"}},\"id\":\"30341\",\"type\":\"MultiLine\"},{\"attributes\":{\"text\":\"\"},\"id\":\"30296\",\"type\":\"Title\"},{\"attributes\":{\"line_cap\":\"round\",\"line_color\":{\"field\":\"line_color\"},\"line_width\":{\"value\":5},\"xs\":{\"field\":\"xs\"},\"ys\":{\"field\":\"ys\"}},\"id\":\"30339\",\"type\":\"MultiLine\"},{\"attributes\":{\"end\":141.9,\"start\":-21.9},\"id\":\"30298\",\"type\":\"Range1d\"},{\"attributes\":{\"data_source\":{\"id\":\"30331\"},\"glyph\":{\"id\":\"30333\"},\"hover_glyph\":null,\"muted_glyph\":null,\"nonselection_glyph\":{\"id\":\"30334\"},\"selection_glyph\":null,\"view\":{\"id\":\"30336\"}},\"id\":\"30335\",\"type\":\"GlyphRenderer\"},{\"attributes\":{\"line_cap\":\"round\",\"line_color\":{\"field\":\"line_color\"},\"line_width\":{\"value\":5},\"xs\":{\"field\":\"xs\"},\"ys\":{\"field\":\"ys\"}},\"id\":\"30340\",\"type\":\"MultiLine\"},{\"attributes\":{},\"id\":\"30373\",\"type\":\"BasicTickFormatter\"},{\"attributes\":{\"source\":{\"id\":\"30337\"}},\"id\":\"30343\",\"type\":\"CDSView\"},{\"attributes\":{\"data\":{\"xs\":[],\"ys\":[]},\"selected\":{\"id\":\"30385\"},\"selection_policy\":{\"id\":\"30386\"}},\"id\":\"30355\",\"type\":\"ColumnDataSource\"},{\"attributes\":{\"align\":\"center\",\"text\":\"20\",\"width\":900},\"id\":\"30353\",\"type\":\"Div\"},{\"attributes\":{},\"id\":\"30302\",\"type\":\"LinearScale\"},{\"attributes\":{},\"id\":\"30319\",\"type\":\"HelpTool\"},{\"attributes\":{\"line_color\":{\"value\":\"white\"},\"line_width\":{\"value\":6},\"xs\":{\"field\":\"xs\"},\"ys\":{\"field\":\"ys\"}},\"id\":\"30345\",\"type\":\"MultiLine\"},{\"attributes\":{\"bottom_units\":\"screen\",\"fill_alpha\":0.5,\"fill_color\":\"lightgrey\",\"left_units\":\"screen\",\"level\":\"overlay\",\"line_alpha\":1.0,\"line_color\":\"black\",\"line_dash\":[4,4],\"line_width\":2,\"right_units\":\"screen\",\"top_units\":\"screen\"},\"id\":\"30320\",\"type\":\"BoxAnnotation\"},{\"attributes\":{},\"id\":\"30379\",\"type\":\"Selection\"},{\"attributes\":{\"end\":149.92000000000002,\"start\":-27.92},\"id\":\"30300\",\"type\":\"Range1d\"},{\"attributes\":{\"align\":\"center\",\"text\":\"0\",\"width\":450},\"id\":\"30361\",\"type\":\"Div\"},{\"attributes\":{},\"id\":\"30383\",\"type\":\"Selection\"},{\"attributes\":{\"source\":{\"id\":\"30331\"}},\"id\":\"30336\",\"type\":\"CDSView\"},{\"attributes\":{},\"id\":\"30375\",\"type\":\"BasicTickFormatter\"},{\"attributes\":{},\"id\":\"30384\",\"type\":\"UnionRenderers\"},{\"attributes\":{\"align\":\"center\",\"width\":450},\"id\":\"30354\",\"type\":\"Div\"},{\"attributes\":{\"source\":{\"id\":\"30355\"}},\"id\":\"30360\",\"type\":\"CDSView\"},{\"attributes\":{},\"id\":\"30378\",\"type\":\"UnionRenderers\"},{\"attributes\":{},\"id\":\"30317\",\"type\":\"SaveTool\"},{\"attributes\":{\"fill_color\":{\"field\":\"fill_color\"},\"line_color\":{\"field\":\"line_color\"},\"line_width\":{\"field\":\"line_width\"},\"size\":{\"units\":\"screen\",\"value\":11},\"x\":{\"field\":\"x\"},\"y\":{\"field\":\"y\"}},\"id\":\"30334\",\"type\":\"Circle\"},{\"attributes\":{},\"id\":\"30318\",\"type\":\"ResetTool\"},{\"attributes\":{\"data\":{\"xs\":[[-1.3958564677279668,1.3958564677279597],[-6.718523528562864,-8.281476471437129],[0.9840953364584522,4.015904663541548],[-0.895268827818775,-4.104731172181218],[6.671918141791636,8.328081858208357],[-1.634920754599868,1.634920754599861],[-1.4878099228460187,1.4878099228460115],[-5.347580005073695,-4.652419994926298],[10.0,10.0],[10.0,10.0],[15.867462244692106,19.13253775530788],[16.355225657494266,18.64477434250572],[18.380965154352907,21.619034845647093],[15.409216091839113,17.590783908160887],[16.104143532272033,18.895856467727953],[48.41808716350055,51.58191283649948],[5.429075134682947,4.570924865317046],[23.75255148664735,24.24744851335266],[54.87933105953973,58.120668940460284],[26.882331925801545,28.11766807419845],[60.944802080365896,64.05519791963411],[58.54181371752875,61.45818628247128],[93.28147647143714,91.71852352856288],[101.10414353227202,103.89585646772798],[108.37051084479299,111.62948915520698],[90.0,90.0],[94.06942902151471,95.93057097848532],[98.362,101.638],[94.06942902151471,95.93057097848532],[77.31227767242248,75.68772232757755],[100.90927854032702,104.090721459673],[46.61468081866777,43.38531918133224],[108.7951771177494,111.20482288225057],[106.71852352856286,108.28147647143712],[103.43057097848532,101.56942902151468],[121.23258823529412,123.76741176470588],[119.38233192580157,120.61766807419846],[90.28458337216168,87.71541662783838],[112.92907513468296,112.07092486531707],[59.132771539300414,55.8672284606996],[128.11766807419843,126.88233192580154],[119.01590466354156,115.98409533645847],[32.96106272948287,30.038937270517145]],\"ys\":[[-1.395856467727974,1.3958564677279668],[0.1555705856885936,4.844429414311406],[-8.989396890972301,-11.010603109027699],[6.96508960927293,8.034910390727077],[7.340685398508299,9.659314601491694],[10.836507924540022,11.163492075459992],[16.384142557865488,18.61585744213452],[44.89314996194726,50.10685003805273],[1.1676000000000073,-4.167599999999993],[16.721600000000002,20.278400000000005],[11.217671700707719,10.782328299292288],[-4.407957237509535,-0.5920427624904576],[-12.904758711411775,-12.095241288588232],[24.58390645447392,24.41609354552608],[18.895856467727974,16.104143532272033],[41.807913134031494,43.192086865968506],[52.42554919190229,57.57445080809771],[18.73213959346858,15.267860406531419],[31.612974581382616,32.38702541861737],[2.4706722967938006,-2.4706722967938077],[6.6625857355816365,8.337414264418364],[13.784844764607278,16.21515523539272],[30.155570585688594,34.844429414311406],[31.104143532272033,33.89585646772795],[27.22841847413217,27.771581525867845],[47.33240000000001,52.66760000000001],[44.06942902151471,45.93057097848532],[40.0,40.0],[55.93057097848531,54.06942902151469],[96.18350441568413,100.81649558431589],[64.3637114161308,65.63628858386917],[72.05147755037007,72.94852244962992],[60.69276567662412,64.30723432337588],[49.844429414311406,45.155570585688594],[53.43057097848532,51.56942902151469],[61.689882352941154,58.31011764705883],[52.47067229679381,47.52932770320621],[101.84486373202249,105.15513626797754],[57.57445080809771,52.42554919190229],[77.28702979922168,77.71297020077832],[42.47067229679381,37.52932770320621],[33.9893968909723,36.01060310902771],[112.20595653862078,109.79404346137922]]},\"selected\":{\"id\":\"30383\"},\"selection_policy\":{\"id\":\"30384\"}},\"id\":\"30344\",\"type\":\"ColumnDataSource\"},{\"attributes\":{\"data\":{\"costs\":[0,4,9,15,22,31,40,49,59,69,79,91,103,117,131,145,159,194,241,294],\"edge_xs\":[[],[[105,100]],[[105,100],[5,10]],[[105,100],[5,10],[10,10]],[[105,100],[5,10],[10,10],[23,25]],[[105,100],[5,10],[10,10],[23,25],[10,23]],[[105,100],[5,10],[10,10],[23,25],[10,23],[90,100]],[[105,100],[5,10],[10,10],[23,25],[10,23],[90,100],[90,100]],[[105,100],[5,10],[10,10],[23,25],[10,23],[90,100],[90,100],[-5,5]],[[105,100],[5,10],[10,10],[23,25],[10,23],[90,100],[90,100],[-5,5],[-5,-10]],[[105,100],[5,10],[10,10],[23,25],[10,23],[90,100],[90,100],[-5,5],[-5,-10],[95,90]],[[105,100],[5,10],[10,10],[23,25],[10,23],[90,100],[90,100],[-5,5],[-5,-10],[95,90],[-5,10]],[[105,100],[5,10],[10,10],[23,25],[10,23],[90,100],[90,100],[-5,5],[-5,-10],[95,90],[-5,10],[105,110]],[[105,100],[5,10],[10,10],[23,25],[10,23],[90,100],[90,100],[-5,5],[-5,-10],[95,90],[-5,10],[105,110],[25,30]],[[105,100],[5,10],[10,10],[23,25],[10,23],[90,100],[90,100],[-5,5],[-5,-10],[95,90],[-5,10],[105,110],[25,30],[105,115]],[[105,100],[5,10],[10,10],[23,25],[10,23],[90,100],[90,100],[-5,5],[-5,-10],[95,90],[-5,10],[105,110],[25,30],[105,115],[130,125]],[[105,100],[5,10],[10,10],[23,25],[10,23],[90,100],[90,100],[-5,5],[-5,-10],[95,90],[-5,10],[105,110],[25,30],[105,115],[130,125],[125,110]],[[105,100],[5,10],[10,10],[23,25],[10,23],[90,100],[90,100],[-5,5],[-5,-10],[95,90],[-5,10],[105,110],[25,30],[105,115],[130,125],[125,110],[10,0]],[[105,100],[5,10],[10,10],[23,25],[10,23],[90,100],[90,100],[-5,5],[-5,-10],[95,90],[-5,10],[105,110],[25,30],[105,115],[130,125],[125,110],[10,0],[30,95]],[[105,100],[5,10],[10,10],[23,25],[10,23],[90,100],[90,100],[-5,5],[-5,-10],[95,90],[-5,10],[105,110],[25,30],[105,115],[130,125],[125,110],[10,0],[30,95],[63,0]]],\"edge_ys\":[[],[[55,50]],[[55,50],[5,12]],[[55,50],[5,12],[12,25]],[[55,50],[5,12],[12,25],[24,10]],[[55,50],[5,12],[12,25],[24,10],[25,24]],[[55,50],[5,12],[12,25],[24,10],[25,24],[40,50]],[[55,50],[5,12],[12,25],[24,10],[25,24],[40,50],[60,50]],[[55,50],[5,12],[12,25],[24,10],[25,24],[40,50],[60,50],[-5,5]],[[55,50],[5,12],[12,25],[24,10],[25,24],[40,50],[60,50],[-5,5],[-5,10]],[[55,50],[5,12],[12,25],[24,10],[25,24],[40,50],[60,50],[-5,5],[-5,10],[25,40]],[[55,50],[5,12],[12,25],[24,10],[25,24],[40,50],[60,50],[-5,5],[-5,10],[25,40],[-5,-15]],[[55,50],[5,12],[12,25],[24,10],[25,24],[40,50],[60,50],[-5,5],[-5,10],[25,40],[-5,-15],[55,40]],[[55,50],[5,12],[12,25],[24,10],[25,24],[40,50],[60,50],[-5,5],[-5,10],[25,40],[-5,-15],[55,40],[10,-10]],[[55,50],[5,12],[12,25],[24,10],[25,24],[40,50],[60,50],[-5,5],[-5,10],[25,40],[-5,-15],[55,40],[10,-10],[55,70]],[[55,50],[5,12],[12,25],[24,10],[25,24],[40,50],[60,50],[-5,5],[-5,10],[25,40],[-5,-15],[55,40],[10,-10],[55,70],[50,30]],[[55,50],[5,12],[12,25],[24,10],[25,24],[40,50],[60,50],[-5,5],[-5,10],[25,40],[-5,-15],[55,40],[10,-10],[55,70],[50,30],[30,40]],[[55,50],[5,12],[12,25],[24,10],[25,24],[40,50],[60,50],[-5,5],[-5,10],[25,40],[-5,-15],[55,40],[10,-10],[55,70],[50,30],[30,40],[25,85]],[[55,50],[5,12],[12,25],[24,10],[25,24],[40,50],[60,50],[-5,5],[-5,10],[25,40],[-5,-15],[55,40],[10,-10],[55,70],[50,30],[30,40],[25,85],[-10,25]],[[55,50],[5,12],[12,25],[24,10],[25,24],[40,50],[60,50],[-5,5],[-5,10],[25,40],[-5,-15],[55,40],[10,-10],[55,70],[50,30],[30,40],[25,85],[-10,25],[137,85]]],\"nodes\":[[],[9,11],[3,9,11,1],[1,3,5,9,11],[1,3,4,5,6,9,11],[1,3,4,5,6,9,11],[1,3,4,5,6,9,11,12],[1,3,4,5,6,9,11,12,13],[0,1,3,4,5,6,9,11,12,13],[0,1,2,3,4,5,6,9,11,12,13],[0,1,2,3,4,5,6,9,11,12,13,17],[0,1,2,3,4,5,6,7,9,11,12,13,17],[0,1,2,3,4,5,6,7,9,10,11,12,13,17],[0,1,2,3,4,5,6,7,8,9,10,11,12,13,17],[0,1,2,3,4,5,6,7,8,9,10,11,12,13,15,17],[0,1,2,3,4,5,6,7,8,9,10,11,12,13,14,15,16,17],[0,1,2,3,4,5,6,7,8,9,10,11,12,13,14,15,16,17],[0,1,2,3,4,5,6,7,8,9,10,11,12,13,14,15,16,17,19],[0,1,2,3,4,5,6,7,8,9,10,11,12,13,14,15,16,17,19],[0,1,2,3,4,5,6,7,8,9,10,11,12,13,14,15,16,17,18,19]]},\"selected\":{\"id\":\"30392\"},\"selection_policy\":{\"id\":\"30393\"}},\"id\":\"30362\",\"type\":\"ColumnDataSource\"},{\"attributes\":{},\"id\":\"30393\",\"type\":\"UnionRenderers\"},{\"attributes\":{},\"id\":\"30304\",\"type\":\"LinearScale\"},{\"attributes\":{},\"id\":\"30377\",\"type\":\"Selection\"}],\"root_ids\":[\"30394\"]},\"title\":\"Bokeh Application\",\"version\":\"2.2.3\"}};\n",
       "  var render_items = [{\"docid\":\"66a74ef7-d617-45d4-8e23-14ce36f74ed1\",\"root_ids\":[\"30394\"],\"roots\":{\"30394\":\"b86cfed8-d2d6-4e41-88e7-9b9e25f1224b\"}}];\n",
       "  root.Bokeh.embed.embed_items_notebook(docs_json, render_items);\n",
       "\n",
       "  }\n",
       "  if (root.Bokeh !== undefined) {\n",
       "    embed_document(root);\n",
       "  } else {\n",
       "    var attempts = 0;\n",
       "    var timer = setInterval(function(root) {\n",
       "      if (root.Bokeh !== undefined) {\n",
       "        clearInterval(timer);\n",
       "        embed_document(root);\n",
       "      } else {\n",
       "        attempts++;\n",
       "        if (attempts > 100) {\n",
       "          clearInterval(timer);\n",
       "          console.log(\"Bokeh: ERROR: Unable to run BokehJS code because BokehJS library is missing\");\n",
       "        }\n",
       "      }\n",
       "    }, 10, root)\n",
       "  }\n",
       "})(window);"
      ],
      "application/vnd.bokehjs_exec.v0+json": ""
     },
     "metadata": {
      "application/vnd.bokehjs_exec.v0+json": {
       "id": "30394"
      }
     },
     "output_type": "display_data"
    }
   ],
   "source": [
    "show(vl.mst_algorithm_plot(G, algorithm='kruskals', width=900, height=600))"
   ]
  },
  {
   "cell_type": "markdown",
   "metadata": {},
   "source": [
    "So finding the MST and going to the second last step reveals one outlier (The two clusters it finds are the outlier by itself in one cluster, and all the other nodes in one cluster). So if we want relevant clustering, we delete this outlier."
   ]
  },
  {
   "cell_type": "code",
   "execution_count": 80,
   "metadata": {},
   "outputs": [
    {
     "data": {
      "text/html": [
       "\n",
       "\n",
       "\n",
       "\n",
       "\n",
       "\n",
       "  <div class=\"bk-root\" id=\"cd40c022-399b-4bde-9781-394b5547f866\" data-root-id=\"27534\"></div>\n"
      ]
     },
     "metadata": {},
     "output_type": "display_data"
    },
    {
     "data": {
      "application/javascript": [
       "(function(root) {\n",
       "  function embed_document(root) {\n",
       "    \n",
       "  var docs_json = {\"5e4a4b33-80b6-4d09-a13c-c2a526fb2968\":{\"roots\":{\"references\":[{\"attributes\":{\"children\":[[{\"id\":\"27435\"},0,0],[{\"id\":\"27509\"},1,0],[{\"id\":\"27510\"},2,0]]},\"id\":\"27534\",\"type\":\"GridBox\"},{\"attributes\":{\"line_cap\":\"round\",\"line_color\":{\"value\":\"#404040\"},\"line_width\":{\"value\":5},\"xs\":{\"field\":\"xs\"},\"ys\":{\"field\":\"ys\"}},\"id\":\"27481\",\"type\":\"MultiLine\"},{\"attributes\":{\"button_type\":\"primary\",\"icon\":null,\"js_event_callbacks\":{\"button_click\":[{\"id\":\"27506\"}]},\"label\":\"Previous\",\"max_width\":450,\"sizing_mode\":\"stretch_width\",\"width_policy\":\"fit\"},\"id\":\"27505\",\"type\":\"Button\"},{\"attributes\":{},\"id\":\"27454\",\"type\":\"PanTool\"},{\"attributes\":{\"data\":{\"line_color\":[\"#DFDFDF\",\"#DFDFDF\",\"#DFDFDF\",\"#DFDFDF\",\"#DFDFDF\",\"#DFDFDF\",\"#DFDFDF\",\"#DFDFDF\",\"#DFDFDF\",\"#DFDFDF\",\"#DFDFDF\",\"#DFDFDF\",\"#DFDFDF\",\"#DFDFDF\",\"#DFDFDF\",\"#DFDFDF\",\"#DFDFDF\",\"#DFDFDF\",\"#DFDFDF\",\"#DFDFDF\",\"#DFDFDF\",\"#DFDFDF\",\"#DFDFDF\",\"#DFDFDF\",\"#DFDFDF\",\"#DFDFDF\",\"#DFDFDF\",\"#DFDFDF\",\"#DFDFDF\",\"#DFDFDF\",\"#DFDFDF\",\"#DFDFDF\",\"#DFDFDF\",\"#DFDFDF\",\"#DFDFDF\",\"#DFDFDF\",\"#DFDFDF\",\"#DFDFDF\",\"#DFDFDF\",\"#DFDFDF\"],\"u\":[0,0,0,1,1,2,2,2,3,3,3,7,7,5,5,5,5,4,4,6,8,8,17,17,17,12,12,12,13,13,13,11,11,11,15,15,15,15,14,16],\"v\":[1,2,7,2,3,3,5,18,7,5,6,6,8,4,6,13,18,6,12,8,17,12,12,10,16,13,9,10,9,15,18,15,10,9,14,16,10,18,16,10],\"weight\":[10,10,12,11,5,14,16,40,18,6,11,19,15,9,14,55,35,7,51,14,47,52,10,15,20,12,9,15,9,20,64,14,12,4,18,24,19,71,14,14],\"xs\":[[-5,5],[-5,-10],[-5,10],[5,-10],[5,10],[-10,10],[-10,10],[-10,0],[10,10],[10,10],[10,25],[10,25],[10,30],[10,23],[10,25],[10,90],[10,0],[23,25],[23,90],[25,30],[30,95],[30,90],[95,90],[95,110],[95,125],[90,90],[90,100],[90,110],[90,100],[90,115],[90,0],[105,115],[105,110],[105,100],[115,130],[115,125],[115,110],[115,0],[130,125],[125,110]],\"ys\":[[-5,5],[-5,10],[-5,-15],[5,10],[5,12],[10,12],[10,25],[10,85],[12,-15],[12,25],[12,10],[-15,10],[-15,-10],[25,24],[25,10],[25,60],[25,85],[24,10],[24,40],[10,-10],[-10,25],[-10,40],[25,40],[25,40],[25,30],[40,60],[40,50],[40,40],[60,50],[60,70],[60,85],[55,70],[55,40],[55,50],[70,50],[70,30],[70,40],[70,85],[50,30],[30,40]]},\"selected\":{\"id\":\"27521\"},\"selection_policy\":{\"id\":\"27522\"}},\"id\":\"27477\",\"type\":\"ColumnDataSource\"},{\"attributes\":{\"children\":[{\"id\":\"27501\"},{\"id\":\"27494\"}]},\"id\":\"27510\",\"type\":\"Row\"},{\"attributes\":{},\"id\":\"27451\",\"type\":\"BasicTicker\"},{\"attributes\":{\"background_fill_color\":null,\"below\":[{\"id\":\"27446\"}],\"border_fill_color\":null,\"center\":[{\"id\":\"27449\"},{\"id\":\"27453\"},{\"id\":\"27490\"}],\"left\":[{\"id\":\"27450\"}],\"outline_line_color\":null,\"plot_height\":450,\"plot_width\":900,\"renderers\":[{\"id\":\"27475\"},{\"id\":\"27482\"},{\"id\":\"27487\"},{\"id\":\"27499\"}],\"title\":{\"id\":\"27436\"},\"toolbar\":{\"id\":\"27461\"},\"toolbar_location\":null,\"x_range\":{\"id\":\"27438\"},\"x_scale\":{\"id\":\"27442\"},\"y_range\":{\"id\":\"27440\"},\"y_scale\":{\"id\":\"27444\"}},\"id\":\"27435\",\"subtype\":\"Figure\",\"type\":\"Plot\"},{\"attributes\":{\"end\":141.9,\"start\":-21.9},\"id\":\"27438\",\"type\":\"Range1d\"},{\"attributes\":{\"data_source\":{\"id\":\"27495\"},\"glyph\":{\"id\":\"27497\"},\"hover_glyph\":null,\"level\":\"underlay\",\"muted_glyph\":null,\"nonselection_glyph\":{\"id\":\"27498\"},\"selection_glyph\":null,\"view\":{\"id\":\"27500\"}},\"id\":\"27499\",\"type\":\"GlyphRenderer\"},{\"attributes\":{\"active_drag\":null,\"active_inspect\":\"auto\",\"active_multi\":null,\"active_scroll\":null,\"active_tap\":\"auto\",\"logo\":null,\"tools\":[{\"id\":\"27454\"},{\"id\":\"27455\"},{\"id\":\"27456\"},{\"id\":\"27457\"},{\"id\":\"27458\"},{\"id\":\"27459\"},{\"id\":\"27507\"}]},\"id\":\"27461\",\"type\":\"Toolbar\"},{\"attributes\":{},\"id\":\"27513\",\"type\":\"BasicTickFormatter\"},{\"attributes\":{\"data\":{\"xs\":[[-1.3419018858101879,1.3419018858101808],[-6.795768795317331,-8.204231204682662],[1.015672016687759,3.984327983312248],[-0.9048480984429403,-4.0951519015570526],[6.720079579656378,8.279920420343615],[-1.6340015881779877,1.6340015881779806],[-1.4502817648485546,1.4502817648485475],[-5.306489632723803,-4.69351036727619],[10.0,10.0],[10.0,10.0],[15.869088124391972,19.130911875608014],[16.434003730279116,18.56599626972087],[18.38652009479896,21.61347990520104],[15.409579642729916,17.590420357270077],[16.158098114189798,18.841901885810188],[48.43380039792854,51.56619960207147],[5.379394423727291,4.620605576272702],[23.781643666900372,24.218356333099642],[54.88441728351517,58.11558271648483],[26.949080981717017,28.050919018282976],[60.967264048026685,64.03273595197334],[58.58513016032837,61.414869839671645],[93.20423120468266,91.79576879531734],[101.15809811418981,103.84190188581019],[108.3730349781751,111.62696502182487],[90.0,90.0],[94.10539874279323,95.89460125720683],[98.362,101.638],[94.10539874279323,95.89460125720683],[100.92266493570816,104.07733506429184],[46.60788600827714,43.39211399172287],[108.8703448275862,111.12965517241378],[106.79576879531734,108.20423120468266],[103.3946012572068,101.6053987427932],[121.30253147061816,123.69746852938184],[119.44908098171703,120.550919018283],[112.87939442372729,112.12060557627271],[59.13121481375715,55.86878518624285],[128.05091901828297,126.949080981717],[118.98432798331226,116.01567201668777]],\"ys\":[[-1.3419018858101879,1.3419018858101879],[0.3873063859520087,4.6126936140480055],[-9.010448011125174,-10.98955198887483],[6.968282699480987,8.03171730051902],[7.408111411518938,9.591888588481062],[10.836599841182199,11.163400158817801],[16.412288676363588,18.587711323636412],[45.20132775457141,49.79867224542859],[0.8399999999999963,-3.84],[16.939999999999998,20.059999999999995],[11.217454916747734,10.782545083252266],[-4.276660449534791,-0.7233395504652051],[-12.903369976300262,-12.096630023699742],[24.583878489020776,24.41612151097923],[18.841901885810188,16.158098114189812],[41.81478767409375,43.185212325906264],[52.72363345763624,57.276366542363775],[18.52849433169743,15.471505668302562],[31.614189202033465,32.38581079796651],[2.2036760731319234,-2.2036760731319234],[6.674680641245125,8.325319358754868],[13.820941800273644,16.179058199726356],[30.387306385951995,34.612693614047984],[31.158098114189812,33.84190188581019],[27.228839163029185,27.77116083697082],[47.66,52.33999999999999],[44.10539874279321,45.8946012572068],[40.0,40.0],[55.8946012572068,54.10539874279321],[64.36906597428327,65.63093402571673],[72.0533649977008,72.94663500229919],[60.805517241379306,64.19448275862068],[49.612693614048,45.387306385952],[53.39460125720679,51.6053987427932],[61.59662470584243,58.40337529415757],[52.20367607313193,47.796323926868084],[57.276366542363775,52.72363345763624],[77.28723285037951,77.7127671496205],[42.20367607313193,37.796323926868084],[34.01044801112516,35.98955198887482]]},\"selected\":{\"id\":\"27523\"},\"selection_policy\":{\"id\":\"27524\"}},\"id\":\"27484\",\"type\":\"ColumnDataSource\"},{\"attributes\":{\"text\":\"\"},\"id\":\"27436\",\"type\":\"Title\"},{\"attributes\":{\"data\":{\"text\":[10,10,12,11,5,14,16,40,18,6,11,19,15,9,14,55,35,7,51,14,47,52,10,15,20,12,9,15,9,20,64,14,12,4,18,24,19,71,14,14],\"x\":{\"__ndarray__\":\"AAAAAAAAAAD6//////8dwAAAAAAAAARA8P//////A8AAAAAAAAAeQAAAAAAAAAAAAAAAAAAAAAD4//////8TwAAAAAAAACRAAAAAAAAAJED+/////38xQP7/////fzFAAAAAAAAANEAAAAAAAIAwQP7/////fzFAAQAAAAAASUAAAAAAAAAUQAIAAAAAADhAAQAAAABATED+/////387QAEAAAAAQE9AAQAAAAAATkAAAAAAACBXQAAAAAAAoFlAAAAAAACAW0AAAAAAAIBWQAIAAAAAwFdAAAAAAAAAWUACAAAAAMBXQAAAAAAAoFlAAQAAAACARkAAAAAAAIBbQAAAAAAA4FpAAAAAAACgWUAAAAAAAKBeQAAAAAAAAF5AAAAAAAAgXEABAAAAAMBMQAAAAAAA4F9AAAAAAABgXUA=\",\"dtype\":\"float64\",\"order\":\"little\",\"shape\":[40]},\"y\":{\"__ndarray__\":\"AAAAAAAAAD0AAAAAAAAEQAAAAAAAACTAAAAAAAAAHkAAAAAAAAAhQAAAAAAAACZAAAAAAACAMUAAAAAAAMBHQAAAAAAAAPi/AAAAAACAMkAAAAAAAAAmQAAAAAAAAATAAAAAAAAAKcAAAAAAAIA4QAAAAAAAgDFAAAAAAABARUAAAAAAAIBLQP7//////zBA/v//////P0AAAAAAAAAAAPj//////x1AAAAAAAAALkAAAAAAAEBAQAAAAAAAQEBAAgAAAACAO0D+//////9IQAAAAAAAgEZAAAAAAAAAREAAAAAAAIBLQAAAAAAAQFBA//////8fUkAAAAAAAEBPQAAAAAAAwEdAAAAAAABASkAAAAAAAABOQAAAAAAAAElAAAAAAACAS0AAAAAAAGBTQAIAAAAAAERAAAAAAACAQUA=\",\"dtype\":\"float64\",\"order\":\"little\",\"shape\":[40]}},\"selected\":{\"id\":\"27517\"},\"selection_policy\":{\"id\":\"27518\"}},\"id\":\"27489\",\"type\":\"ColumnDataSource\"},{\"attributes\":{},\"id\":\"27519\",\"type\":\"Selection\"},{\"attributes\":{},\"id\":\"27523\",\"type\":\"Selection\"},{\"attributes\":{\"align\":\"center\",\"text\":\"0\",\"width\":900},\"id\":\"27492\",\"type\":\"Div\"},{\"attributes\":{\"end\":93.5,\"start\":-23.5},\"id\":\"27440\",\"type\":\"Range1d\"},{\"attributes\":{\"line_cap\":\"round\",\"line_color\":{\"value\":\"#404040\"},\"line_width\":{\"value\":5},\"xs\":{\"field\":\"xs\"},\"ys\":{\"field\":\"ys\"}},\"id\":\"27497\",\"type\":\"MultiLine\"},{\"attributes\":{},\"id\":\"27515\",\"type\":\"BasicTickFormatter\"},{\"attributes\":{\"bottom_units\":\"screen\",\"fill_alpha\":0.5,\"fill_color\":\"lightgrey\",\"left_units\":\"screen\",\"level\":\"overlay\",\"line_alpha\":1.0,\"line_color\":\"black\",\"line_dash\":[4,4],\"line_width\":2,\"right_units\":\"screen\",\"top_units\":\"screen\"},\"id\":\"27460\",\"type\":\"BoxAnnotation\"},{\"attributes\":{\"args\":{\"cost\":{\"id\":\"27501\"},\"done\":{\"id\":\"27494\"},\"edge_subset_src\":{\"id\":\"27495\"},\"k\":{\"id\":\"27493\"},\"n\":{\"id\":\"27492\"},\"nodes_src\":{\"id\":\"27471\"},\"source\":{\"id\":\"27502\"}},\"code\":\"/* Color Theme -- Using Google's Material Design Color System\\n   https://material.io/design/color/the-color-system.html */\\n\\n/** @constant {string} */\\nvar PRIMARY_COLOR = '#1565c0'\\n/** @constant {string} */\\nvar PRIMARY_LIGHT_COLOR = '#5e92f3'\\n/** @constant {string} */\\nvar PRIMARY_DARK_COLOR = '#003c8f'\\n/** @constant {string} */\\nvar SECONDARY_COLOR = '#d50000'\\n/** @constant {string} */\\nvar SECONDARY_LIGHT_COLOR = '#ff5131'\\n/** @constant {string} */\\nvar SECONDARY_DARK_COLOR = '#9b0000'\\n\\n// Grayscale\\n/** @constant {string} */\\nvar TERTIARY_COLOR = '#DFDFDF'\\n/**\\n *  Jupyter Notebook: 'white', Sphinx: '#FCFCFC'\\n *  @constant {string}\\n */\\nvar TERTIARY_LIGHT_COLOR = 'white'\\n/** @constant {string} */\\nvar TERTIARY_DARK_COLOR = '#404040'\\n/** @type {integer} */\\nvar iteration = 0\\n\\n\\n/**\\n * Increment iteration and update n Div.\\n */\\nfunction increment_iteration() {\\n    if ((parseInt(n.text) + 1) < parseInt(k.text)) {\\n        n.text = (parseInt(n.text) + 1).toString()\\n    }\\n    iteration = parseInt(n.text)\\n}\\n\\n/**\\n * Decrement iteration and update n Div.\\n */\\nfunction decrement_iteration() {\\n    if ((parseInt(n.text) - 1) >= 0) {\\n        n.text = (parseInt(n.text) - 1).toString()\\n    }\\n    iteration = parseInt(n.text)\\n}\\n\\n/**\\n * Update which nodes are highlighted given the current iteration.\\n */\\nfunction nodes_update() {\\n    var in_tree = source.data['nodes'][iteration]\\n\\n    for (let i = 0; i < nodes_src.data['line_color'].length ; i++) {\\n        if (in_tree.includes(i)) {\\n            nodes_src.data['fill_color'][i] = PRIMARY_DARK_COLOR\\n            nodes_src.data['line_color'][i] = PRIMARY_DARK_COLOR\\n        } else {\\n            nodes_src.data['fill_color'][i] = PRIMARY_LIGHT_COLOR\\n            nodes_src.data['line_color'][i] = PRIMARY_DARK_COLOR\\n        }\\n    }\\n\\n    nodes_src.change.emit()\\n}\\n\\n/**\\n * Update which subset of edges are highlighted given the current iteration.\\n */\\nfunction edge_subset_update() {\\n    edge_subset_src.data['xs'] = source.data['edge_xs'][iteration]\\n    edge_subset_src.data['ys'] = source.data['edge_ys'][iteration]\\n    edge_subset_src.change.emit()\\n}\\n\\n/**\\n * Update which swaps are updated given the current iteration\\n */\\nfunction swaps_update() {\\n    swaps_src.data['swaps_before_x'] = source.data['swaps_before_x'][iteration]\\n    swaps_src.data['swaps_before_y'] = source.data['swaps_before_y'][iteration]\\n    swaps_src.data['swaps_after_x'] = source.data['swaps_after_x'][iteration]\\n    swaps_src.data['swaps_after_y'] = source.data['swaps_after_y'][iteration]\\n    swaps_src.change.emit()\\n}\\n\\n/**\\n * Update which table is shown given the current iteration.\\n */\\nfunction table_update() {\\n    table_src.data = source.data['tables'][iteration]\\n}\\n\\n/**\\n * Update which cost is shown given the current iteration.\\n */\\nfunction cost_update() {\\n    cost.text = source.data['costs'][iteration].toFixed(1)\\n}\\n\\n/**\\n * Update done Div based on the current iteration.\\n */\\nfunction done_update() {\\n    if (iteration == parseInt(k.text) - 1) {\\n        done.text = \\\"done.\\\"\\n    } else {\\n        done.text = \\\"\\\"\\n    }\\n}\\n\\n// BEGIN FUNCTION CALLING\\ndecrement_iteration()\\ndone_update()\\ncost_update()\\nedge_subset_update()\\nnodes_update()\\n\"},\"id\":\"27506\",\"type\":\"CustomJS\"},{\"attributes\":{},\"id\":\"27518\",\"type\":\"UnionRenderers\"},{\"attributes\":{},\"id\":\"27524\",\"type\":\"UnionRenderers\"},{\"attributes\":{\"fill_color\":{\"field\":\"fill_color\"},\"line_color\":{\"field\":\"line_color\"},\"line_width\":{\"field\":\"line_width\"},\"size\":{\"units\":\"screen\",\"value\":11},\"x\":{\"field\":\"x\"},\"y\":{\"field\":\"y\"}},\"id\":\"27473\",\"type\":\"Circle\"},{\"attributes\":{\"data_source\":{\"id\":\"27471\"},\"glyph\":{\"id\":\"27473\"},\"hover_glyph\":null,\"muted_glyph\":null,\"nonselection_glyph\":{\"id\":\"27474\"},\"selection_glyph\":null,\"view\":{\"id\":\"27476\"}},\"id\":\"27475\",\"type\":\"GlyphRenderer\"},{\"attributes\":{},\"id\":\"27533\",\"type\":\"UnionRenderers\"},{\"attributes\":{},\"id\":\"27442\",\"type\":\"LinearScale\"},{\"attributes\":{},\"id\":\"27517\",\"type\":\"Selection\"},{\"attributes\":{},\"id\":\"27532\",\"type\":\"Selection\"},{\"attributes\":{\"line_cap\":\"round\",\"line_color\":{\"field\":\"line_color\"},\"line_width\":{\"value\":5},\"xs\":{\"field\":\"xs\"},\"ys\":{\"field\":\"ys\"}},\"id\":\"27480\",\"type\":\"MultiLine\"},{\"attributes\":{\"line_alpha\":{\"value\":0.1},\"line_cap\":\"round\",\"line_color\":{\"value\":\"#404040\"},\"line_width\":{\"value\":5},\"xs\":{\"field\":\"xs\"},\"ys\":{\"field\":\"ys\"}},\"id\":\"27498\",\"type\":\"MultiLine\"},{\"attributes\":{},\"id\":\"27520\",\"type\":\"UnionRenderers\"},{\"attributes\":{},\"id\":\"27444\",\"type\":\"LinearScale\"},{\"attributes\":{\"align\":\"center\",\"width\":450},\"id\":\"27494\",\"type\":\"Div\"},{\"attributes\":{\"fill_color\":{\"field\":\"fill_color\"},\"line_color\":{\"field\":\"line_color\"},\"line_width\":{\"field\":\"line_width\"},\"size\":{\"units\":\"screen\",\"value\":11},\"x\":{\"field\":\"x\"},\"y\":{\"field\":\"y\"}},\"id\":\"27474\",\"type\":\"Circle\"},{\"attributes\":{\"source\":{\"id\":\"27495\"}},\"id\":\"27500\",\"type\":\"CDSView\"},{\"attributes\":{\"callback\":null,\"renderers\":[{\"id\":\"27475\"}],\"tooltips\":[[\"Index\",\"$index\"],[\"Name\",\"@name\"]]},\"id\":\"27507\",\"type\":\"HoverTool\"},{\"attributes\":{\"source\":{\"id\":\"27471\"}},\"id\":\"27476\",\"type\":\"CDSView\"},{\"attributes\":{\"align\":\"center\",\"text\":\"19\",\"width\":900},\"id\":\"27493\",\"type\":\"Div\"},{\"attributes\":{\"data\":{\"costs\":[0,4,9,15,22,31,40,49,59,69,79,91,103,117,131,145,159,194,241],\"edge_xs\":[[],[[105,100]],[[105,100],[5,10]],[[105,100],[5,10],[10,10]],[[105,100],[5,10],[10,10],[23,25]],[[105,100],[5,10],[10,10],[23,25],[10,23]],[[105,100],[5,10],[10,10],[23,25],[10,23],[90,100]],[[105,100],[5,10],[10,10],[23,25],[10,23],[90,100],[90,100]],[[105,100],[5,10],[10,10],[23,25],[10,23],[90,100],[90,100],[-5,5]],[[105,100],[5,10],[10,10],[23,25],[10,23],[90,100],[90,100],[-5,5],[-5,-10]],[[105,100],[5,10],[10,10],[23,25],[10,23],[90,100],[90,100],[-5,5],[-5,-10],[95,90]],[[105,100],[5,10],[10,10],[23,25],[10,23],[90,100],[90,100],[-5,5],[-5,-10],[95,90],[-5,10]],[[105,100],[5,10],[10,10],[23,25],[10,23],[90,100],[90,100],[-5,5],[-5,-10],[95,90],[-5,10],[105,110]],[[105,100],[5,10],[10,10],[23,25],[10,23],[90,100],[90,100],[-5,5],[-5,-10],[95,90],[-5,10],[105,110],[25,30]],[[105,100],[5,10],[10,10],[23,25],[10,23],[90,100],[90,100],[-5,5],[-5,-10],[95,90],[-5,10],[105,110],[25,30],[105,115]],[[105,100],[5,10],[10,10],[23,25],[10,23],[90,100],[90,100],[-5,5],[-5,-10],[95,90],[-5,10],[105,110],[25,30],[105,115],[130,125]],[[105,100],[5,10],[10,10],[23,25],[10,23],[90,100],[90,100],[-5,5],[-5,-10],[95,90],[-5,10],[105,110],[25,30],[105,115],[130,125],[125,110]],[[105,100],[5,10],[10,10],[23,25],[10,23],[90,100],[90,100],[-5,5],[-5,-10],[95,90],[-5,10],[105,110],[25,30],[105,115],[130,125],[125,110],[10,0]],[[105,100],[5,10],[10,10],[23,25],[10,23],[90,100],[90,100],[-5,5],[-5,-10],[95,90],[-5,10],[105,110],[25,30],[105,115],[130,125],[125,110],[10,0],[30,95]]],\"edge_ys\":[[],[[55,50]],[[55,50],[5,12]],[[55,50],[5,12],[12,25]],[[55,50],[5,12],[12,25],[24,10]],[[55,50],[5,12],[12,25],[24,10],[25,24]],[[55,50],[5,12],[12,25],[24,10],[25,24],[40,50]],[[55,50],[5,12],[12,25],[24,10],[25,24],[40,50],[60,50]],[[55,50],[5,12],[12,25],[24,10],[25,24],[40,50],[60,50],[-5,5]],[[55,50],[5,12],[12,25],[24,10],[25,24],[40,50],[60,50],[-5,5],[-5,10]],[[55,50],[5,12],[12,25],[24,10],[25,24],[40,50],[60,50],[-5,5],[-5,10],[25,40]],[[55,50],[5,12],[12,25],[24,10],[25,24],[40,50],[60,50],[-5,5],[-5,10],[25,40],[-5,-15]],[[55,50],[5,12],[12,25],[24,10],[25,24],[40,50],[60,50],[-5,5],[-5,10],[25,40],[-5,-15],[55,40]],[[55,50],[5,12],[12,25],[24,10],[25,24],[40,50],[60,50],[-5,5],[-5,10],[25,40],[-5,-15],[55,40],[10,-10]],[[55,50],[5,12],[12,25],[24,10],[25,24],[40,50],[60,50],[-5,5],[-5,10],[25,40],[-5,-15],[55,40],[10,-10],[55,70]],[[55,50],[5,12],[12,25],[24,10],[25,24],[40,50],[60,50],[-5,5],[-5,10],[25,40],[-5,-15],[55,40],[10,-10],[55,70],[50,30]],[[55,50],[5,12],[12,25],[24,10],[25,24],[40,50],[60,50],[-5,5],[-5,10],[25,40],[-5,-15],[55,40],[10,-10],[55,70],[50,30],[30,40]],[[55,50],[5,12],[12,25],[24,10],[25,24],[40,50],[60,50],[-5,5],[-5,10],[25,40],[-5,-15],[55,40],[10,-10],[55,70],[50,30],[30,40],[25,85]],[[55,50],[5,12],[12,25],[24,10],[25,24],[40,50],[60,50],[-5,5],[-5,10],[25,40],[-5,-15],[55,40],[10,-10],[55,70],[50,30],[30,40],[25,85],[-10,25]]],\"nodes\":[[],[9,11],[3,9,11,1],[1,3,5,9,11],[1,3,4,5,6,9,11],[1,3,4,5,6,9,11],[1,3,4,5,6,9,11,12],[1,3,4,5,6,9,11,12,13],[0,1,3,4,5,6,9,11,12,13],[0,1,2,3,4,5,6,9,11,12,13],[0,1,2,3,4,5,6,9,11,12,13,17],[0,1,2,3,4,5,6,7,9,11,12,13,17],[0,1,2,3,4,5,6,7,9,10,11,12,13,17],[0,1,2,3,4,5,6,7,8,9,10,11,12,13,17],[0,1,2,3,4,5,6,7,8,9,10,11,12,13,15,17],[0,1,2,3,4,5,6,7,8,9,10,11,12,13,14,15,16,17],[0,1,2,3,4,5,6,7,8,9,10,11,12,13,14,15,16,17],[0,1,2,3,4,5,6,7,8,9,10,11,12,13,14,15,16,17,18],[0,1,2,3,4,5,6,7,8,9,10,11,12,13,14,15,16,17,18]]},\"selected\":{\"id\":\"27532\"},\"selection_policy\":{\"id\":\"27533\"}},\"id\":\"27502\",\"type\":\"ColumnDataSource\"},{\"attributes\":{},\"id\":\"27447\",\"type\":\"BasicTicker\"},{\"attributes\":{\"data_source\":{\"id\":\"27484\"},\"glyph\":{\"id\":\"27485\"},\"hover_glyph\":null,\"level\":\"guide\",\"muted_glyph\":null,\"nonselection_glyph\":{\"id\":\"27486\"},\"selection_glyph\":null,\"view\":{\"id\":\"27488\"}},\"id\":\"27487\",\"type\":\"GlyphRenderer\"},{\"attributes\":{\"align\":\"center\",\"text\":\"0\",\"width\":450},\"id\":\"27501\",\"type\":\"Div\"},{\"attributes\":{\"data\":{\"xs\":[],\"ys\":[]},\"selected\":{\"id\":\"27525\"},\"selection_policy\":{\"id\":\"27526\"}},\"id\":\"27495\",\"type\":\"ColumnDataSource\"},{\"attributes\":{},\"id\":\"27525\",\"type\":\"Selection\"},{\"attributes\":{},\"id\":\"27457\",\"type\":\"SaveTool\"},{\"attributes\":{\"line_color\":{\"value\":\"white\"},\"line_width\":{\"value\":6},\"xs\":{\"field\":\"xs\"},\"ys\":{\"field\":\"ys\"}},\"id\":\"27485\",\"type\":\"MultiLine\"},{\"attributes\":{\"button_type\":\"primary\",\"icon\":null,\"js_event_callbacks\":{\"button_click\":[{\"id\":\"27504\"}]},\"label\":\"Next\",\"max_width\":450,\"sizing_mode\":\"stretch_width\",\"width_policy\":\"fit\"},\"id\":\"27503\",\"type\":\"Button\"},{\"attributes\":{},\"id\":\"27526\",\"type\":\"UnionRenderers\"},{\"attributes\":{\"axis\":{\"id\":\"27450\"},\"dimension\":1,\"grid_line_color\":null,\"ticker\":null},\"id\":\"27453\",\"type\":\"Grid\"},{\"attributes\":{},\"id\":\"27459\",\"type\":\"HelpTool\"},{\"attributes\":{\"line_color\":{\"value\":\"white\"},\"line_width\":{\"value\":6},\"xs\":{\"field\":\"xs\"},\"ys\":{\"field\":\"ys\"}},\"id\":\"27486\",\"type\":\"MultiLine\"},{\"attributes\":{\"axis\":{\"id\":\"27446\"},\"grid_line_color\":null,\"ticker\":null},\"id\":\"27449\",\"type\":\"Grid\"},{\"attributes\":{\"source\":{\"id\":\"27489\"},\"text_align\":\"center\",\"text_baseline\":\"middle\",\"text_color\":{\"value\":\"black\"},\"text_font_size\":{\"value\":\"13px\"},\"x\":{\"field\":\"x\"},\"y\":{\"field\":\"y\"}},\"id\":\"27490\",\"type\":\"LabelSet\"},{\"attributes\":{},\"id\":\"27458\",\"type\":\"ResetTool\"},{\"attributes\":{\"args\":{\"cost\":{\"id\":\"27501\"},\"done\":{\"id\":\"27494\"},\"edge_subset_src\":{\"id\":\"27495\"},\"k\":{\"id\":\"27493\"},\"n\":{\"id\":\"27492\"},\"nodes_src\":{\"id\":\"27471\"},\"source\":{\"id\":\"27502\"}},\"code\":\"/* Color Theme -- Using Google's Material Design Color System\\n   https://material.io/design/color/the-color-system.html */\\n\\n/** @constant {string} */\\nvar PRIMARY_COLOR = '#1565c0'\\n/** @constant {string} */\\nvar PRIMARY_LIGHT_COLOR = '#5e92f3'\\n/** @constant {string} */\\nvar PRIMARY_DARK_COLOR = '#003c8f'\\n/** @constant {string} */\\nvar SECONDARY_COLOR = '#d50000'\\n/** @constant {string} */\\nvar SECONDARY_LIGHT_COLOR = '#ff5131'\\n/** @constant {string} */\\nvar SECONDARY_DARK_COLOR = '#9b0000'\\n\\n// Grayscale\\n/** @constant {string} */\\nvar TERTIARY_COLOR = '#DFDFDF'\\n/**\\n *  Jupyter Notebook: 'white', Sphinx: '#FCFCFC'\\n *  @constant {string}\\n */\\nvar TERTIARY_LIGHT_COLOR = 'white'\\n/** @constant {string} */\\nvar TERTIARY_DARK_COLOR = '#404040'\\n/** @type {integer} */\\nvar iteration = 0\\n\\n\\n/**\\n * Increment iteration and update n Div.\\n */\\nfunction increment_iteration() {\\n    if ((parseInt(n.text) + 1) < parseInt(k.text)) {\\n        n.text = (parseInt(n.text) + 1).toString()\\n    }\\n    iteration = parseInt(n.text)\\n}\\n\\n/**\\n * Decrement iteration and update n Div.\\n */\\nfunction decrement_iteration() {\\n    if ((parseInt(n.text) - 1) >= 0) {\\n        n.text = (parseInt(n.text) - 1).toString()\\n    }\\n    iteration = parseInt(n.text)\\n}\\n\\n/**\\n * Update which nodes are highlighted given the current iteration.\\n */\\nfunction nodes_update() {\\n    var in_tree = source.data['nodes'][iteration]\\n\\n    for (let i = 0; i < nodes_src.data['line_color'].length ; i++) {\\n        if (in_tree.includes(i)) {\\n            nodes_src.data['fill_color'][i] = PRIMARY_DARK_COLOR\\n            nodes_src.data['line_color'][i] = PRIMARY_DARK_COLOR\\n        } else {\\n            nodes_src.data['fill_color'][i] = PRIMARY_LIGHT_COLOR\\n            nodes_src.data['line_color'][i] = PRIMARY_DARK_COLOR\\n        }\\n    }\\n\\n    nodes_src.change.emit()\\n}\\n\\n/**\\n * Update which subset of edges are highlighted given the current iteration.\\n */\\nfunction edge_subset_update() {\\n    edge_subset_src.data['xs'] = source.data['edge_xs'][iteration]\\n    edge_subset_src.data['ys'] = source.data['edge_ys'][iteration]\\n    edge_subset_src.change.emit()\\n}\\n\\n/**\\n * Update which swaps are updated given the current iteration\\n */\\nfunction swaps_update() {\\n    swaps_src.data['swaps_before_x'] = source.data['swaps_before_x'][iteration]\\n    swaps_src.data['swaps_before_y'] = source.data['swaps_before_y'][iteration]\\n    swaps_src.data['swaps_after_x'] = source.data['swaps_after_x'][iteration]\\n    swaps_src.data['swaps_after_y'] = source.data['swaps_after_y'][iteration]\\n    swaps_src.change.emit()\\n}\\n\\n/**\\n * Update which table is shown given the current iteration.\\n */\\nfunction table_update() {\\n    table_src.data = source.data['tables'][iteration]\\n}\\n\\n/**\\n * Update which cost is shown given the current iteration.\\n */\\nfunction cost_update() {\\n    cost.text = source.data['costs'][iteration].toFixed(1)\\n}\\n\\n/**\\n * Update done Div based on the current iteration.\\n */\\nfunction done_update() {\\n    if (iteration == parseInt(k.text) - 1) {\\n        done.text = \\\"done.\\\"\\n    } else {\\n        done.text = \\\"\\\"\\n    }\\n}\\n\\n// BEGIN FUNCTION CALLING\\nincrement_iteration()\\ndone_update()\\ncost_update()\\nedge_subset_update()\\nnodes_update()\\n\"},\"id\":\"27504\",\"type\":\"CustomJS\"},{\"attributes\":{},\"id\":\"27455\",\"type\":\"WheelZoomTool\"},{\"attributes\":{\"line_cap\":\"round\",\"line_color\":{\"field\":\"line_color\"},\"line_width\":{\"value\":5},\"xs\":{\"field\":\"xs\"},\"ys\":{\"field\":\"ys\"}},\"id\":\"27479\",\"type\":\"MultiLine\"},{\"attributes\":{\"source\":{\"id\":\"27477\"}},\"id\":\"27483\",\"type\":\"CDSView\"},{\"attributes\":{},\"id\":\"27521\",\"type\":\"Selection\"},{\"attributes\":{\"children\":[{\"id\":\"27505\"},{\"id\":\"27503\"}],\"max_width\":900,\"sizing_mode\":\"stretch_both\"},\"id\":\"27509\",\"type\":\"Row\"},{\"attributes\":{\"formatter\":{\"id\":\"27513\"},\"ticker\":{\"id\":\"27451\"},\"visible\":false},\"id\":\"27450\",\"type\":\"LinearAxis\"},{\"attributes\":{\"source\":{\"id\":\"27484\"}},\"id\":\"27488\",\"type\":\"CDSView\"},{\"attributes\":{\"overlay\":{\"id\":\"27460\"}},\"id\":\"27456\",\"type\":\"BoxZoomTool\"},{\"attributes\":{\"data\":{\"fill_color\":[\"#5e92f3\",\"#5e92f3\",\"#5e92f3\",\"#5e92f3\",\"#5e92f3\",\"#5e92f3\",\"#5e92f3\",\"#5e92f3\",\"#5e92f3\",\"#5e92f3\",\"#5e92f3\",\"#5e92f3\",\"#5e92f3\",\"#5e92f3\",\"#5e92f3\",\"#5e92f3\",\"#5e92f3\",\"#5e92f3\",\"#5e92f3\"],\"line_color\":[\"#003c8f\",\"#003c8f\",\"#003c8f\",\"#003c8f\",\"#003c8f\",\"#003c8f\",\"#003c8f\",\"#003c8f\",\"#003c8f\",\"#003c8f\",\"#003c8f\",\"#003c8f\",\"#003c8f\",\"#003c8f\",\"#003c8f\",\"#003c8f\",\"#003c8f\",\"#003c8f\",\"#003c8f\"],\"line_width\":[3,3,3,3,3,3,3,3,3,3,3,3,3,3,3,3,3,3,3],\"x\":[-5,5,-10,10,23,10,25,10,30,100,110,105,90,90,130,115,125,95,0],\"y\":[-5,5,10,12,24,25,10,-15,-10,50,40,55,40,60,50,70,30,25,85]},\"selected\":{\"id\":\"27519\"},\"selection_policy\":{\"id\":\"27520\"}},\"id\":\"27471\",\"type\":\"ColumnDataSource\"},{\"attributes\":{},\"id\":\"27522\",\"type\":\"UnionRenderers\"},{\"attributes\":{\"formatter\":{\"id\":\"27515\"},\"ticker\":{\"id\":\"27447\"},\"visible\":false},\"id\":\"27446\",\"type\":\"LinearAxis\"},{\"attributes\":{\"data_source\":{\"id\":\"27477\"},\"glyph\":{\"id\":\"27479\"},\"hover_glyph\":{\"id\":\"27481\"},\"level\":\"underlay\",\"muted_glyph\":null,\"nonselection_glyph\":{\"id\":\"27480\"},\"selection_glyph\":null,\"view\":{\"id\":\"27483\"}},\"id\":\"27482\",\"type\":\"GlyphRenderer\"}],\"root_ids\":[\"27534\"]},\"title\":\"Bokeh Application\",\"version\":\"2.2.3\"}};\n",
       "  var render_items = [{\"docid\":\"5e4a4b33-80b6-4d09-a13c-c2a526fb2968\",\"root_ids\":[\"27534\"],\"roots\":{\"27534\":\"cd40c022-399b-4bde-9781-394b5547f866\"}}];\n",
       "  root.Bokeh.embed.embed_items_notebook(docs_json, render_items);\n",
       "\n",
       "  }\n",
       "  if (root.Bokeh !== undefined) {\n",
       "    embed_document(root);\n",
       "  } else {\n",
       "    var attempts = 0;\n",
       "    var timer = setInterval(function(root) {\n",
       "      if (root.Bokeh !== undefined) {\n",
       "        clearInterval(timer);\n",
       "        embed_document(root);\n",
       "      } else {\n",
       "        attempts++;\n",
       "        if (attempts > 100) {\n",
       "          clearInterval(timer);\n",
       "          console.log(\"Bokeh: ERROR: Unable to run BokehJS code because BokehJS library is missing\");\n",
       "        }\n",
       "      }\n",
       "    }, 10, root)\n",
       "  }\n",
       "})(window);"
      ],
      "application/vnd.bokehjs_exec.v0+json": ""
     },
     "metadata": {
      "application/vnd.bokehjs_exec.v0+json": {
       "id": "27534"
      }
     },
     "output_type": "display_data"
    }
   ],
   "source": [
    "# Load the data and create a graph G\n",
    "nodes = pd.read_csv('data/cluster2.csv', index_col=0)\n",
    "edges = pd.read_csv('data/cluster2_edges.csv', index_col=0)\n",
    "G = vl.create_network(nodes, edges)\n",
    "\n",
    "# Plot the graph G\n",
    "show(vl.mst_algorithm_plot(G, algorithm='kruskals', width=900, height=450))"
   ]
  },
  {
   "cell_type": "markdown",
   "metadata": {},
   "source": [
    "Doing this again reveals the second outlier, also removed now. After removing both outliers when the algorithm is run below, it separates the data into the two custers one would expect."
   ]
  },
  {
   "cell_type": "code",
   "execution_count": 85,
   "metadata": {
    "scrolled": true
   },
   "outputs": [
    {
     "data": {
      "text/html": [
       "\n",
       "\n",
       "\n",
       "\n",
       "\n",
       "\n",
       "  <div class=\"bk-root\" id=\"dd059510-62f9-4117-a52f-20d71119ec2b\" data-root-id=\"32336\"></div>\n"
      ]
     },
     "metadata": {},
     "output_type": "display_data"
    },
    {
     "data": {
      "application/javascript": [
       "(function(root) {\n",
       "  function embed_document(root) {\n",
       "    \n",
       "  var docs_json = {\"4e24c2bf-5163-4dc4-b252-2df7e365da5a\":{\"roots\":{\"references\":[{\"attributes\":{\"children\":[[{\"id\":\"32237\"},0,0],[{\"id\":\"32311\"},1,0],[{\"id\":\"32312\"},2,0]]},\"id\":\"32336\",\"type\":\"GridBox\"},{\"attributes\":{\"button_type\":\"primary\",\"icon\":null,\"js_event_callbacks\":{\"button_click\":[{\"id\":\"32306\"}]},\"label\":\"Next\",\"max_width\":450,\"sizing_mode\":\"stretch_width\",\"width_policy\":\"fit\"},\"id\":\"32305\",\"type\":\"Button\"},{\"attributes\":{\"data_source\":{\"id\":\"32286\"},\"glyph\":{\"id\":\"32287\"},\"hover_glyph\":null,\"level\":\"guide\",\"muted_glyph\":null,\"nonselection_glyph\":{\"id\":\"32288\"},\"selection_glyph\":null,\"view\":{\"id\":\"32290\"}},\"id\":\"32289\",\"type\":\"GlyphRenderer\"},{\"attributes\":{},\"id\":\"32256\",\"type\":\"PanTool\"},{\"attributes\":{},\"id\":\"32324\",\"type\":\"UnionRenderers\"},{\"attributes\":{\"button_type\":\"primary\",\"icon\":null,\"js_event_callbacks\":{\"button_click\":[{\"id\":\"32308\"}]},\"label\":\"Previous\",\"max_width\":450,\"sizing_mode\":\"stretch_width\",\"width_policy\":\"fit\"},\"id\":\"32307\",\"type\":\"Button\"},{\"attributes\":{},\"id\":\"32260\",\"type\":\"ResetTool\"},{\"attributes\":{},\"id\":\"32253\",\"type\":\"BasicTicker\"},{\"attributes\":{},\"id\":\"32257\",\"type\":\"WheelZoomTool\"},{\"attributes\":{\"args\":{\"cost\":{\"id\":\"32303\"},\"done\":{\"id\":\"32296\"},\"edge_subset_src\":{\"id\":\"32297\"},\"k\":{\"id\":\"32295\"},\"n\":{\"id\":\"32294\"},\"nodes_src\":{\"id\":\"32273\"},\"source\":{\"id\":\"32304\"}},\"code\":\"/* Color Theme -- Using Google's Material Design Color System\\n   https://material.io/design/color/the-color-system.html */\\n\\n/** @constant {string} */\\nvar PRIMARY_COLOR = '#1565c0'\\n/** @constant {string} */\\nvar PRIMARY_LIGHT_COLOR = '#5e92f3'\\n/** @constant {string} */\\nvar PRIMARY_DARK_COLOR = '#003c8f'\\n/** @constant {string} */\\nvar SECONDARY_COLOR = '#d50000'\\n/** @constant {string} */\\nvar SECONDARY_LIGHT_COLOR = '#ff5131'\\n/** @constant {string} */\\nvar SECONDARY_DARK_COLOR = '#9b0000'\\n\\n// Grayscale\\n/** @constant {string} */\\nvar TERTIARY_COLOR = '#DFDFDF'\\n/**\\n *  Jupyter Notebook: 'white', Sphinx: '#FCFCFC'\\n *  @constant {string}\\n */\\nvar TERTIARY_LIGHT_COLOR = 'white'\\n/** @constant {string} */\\nvar TERTIARY_DARK_COLOR = '#404040'\\n/** @type {integer} */\\nvar iteration = 0\\n\\n\\n/**\\n * Increment iteration and update n Div.\\n */\\nfunction increment_iteration() {\\n    if ((parseInt(n.text) + 1) < parseInt(k.text)) {\\n        n.text = (parseInt(n.text) + 1).toString()\\n    }\\n    iteration = parseInt(n.text)\\n}\\n\\n/**\\n * Decrement iteration and update n Div.\\n */\\nfunction decrement_iteration() {\\n    if ((parseInt(n.text) - 1) >= 0) {\\n        n.text = (parseInt(n.text) - 1).toString()\\n    }\\n    iteration = parseInt(n.text)\\n}\\n\\n/**\\n * Update which nodes are highlighted given the current iteration.\\n */\\nfunction nodes_update() {\\n    var in_tree = source.data['nodes'][iteration]\\n\\n    for (let i = 0; i < nodes_src.data['line_color'].length ; i++) {\\n        if (in_tree.includes(i)) {\\n            nodes_src.data['fill_color'][i] = PRIMARY_DARK_COLOR\\n            nodes_src.data['line_color'][i] = PRIMARY_DARK_COLOR\\n        } else {\\n            nodes_src.data['fill_color'][i] = PRIMARY_LIGHT_COLOR\\n            nodes_src.data['line_color'][i] = PRIMARY_DARK_COLOR\\n        }\\n    }\\n\\n    nodes_src.change.emit()\\n}\\n\\n/**\\n * Update which subset of edges are highlighted given the current iteration.\\n */\\nfunction edge_subset_update() {\\n    edge_subset_src.data['xs'] = source.data['edge_xs'][iteration]\\n    edge_subset_src.data['ys'] = source.data['edge_ys'][iteration]\\n    edge_subset_src.change.emit()\\n}\\n\\n/**\\n * Update which swaps are updated given the current iteration\\n */\\nfunction swaps_update() {\\n    swaps_src.data['swaps_before_x'] = source.data['swaps_before_x'][iteration]\\n    swaps_src.data['swaps_before_y'] = source.data['swaps_before_y'][iteration]\\n    swaps_src.data['swaps_after_x'] = source.data['swaps_after_x'][iteration]\\n    swaps_src.data['swaps_after_y'] = source.data['swaps_after_y'][iteration]\\n    swaps_src.change.emit()\\n}\\n\\n/**\\n * Update which table is shown given the current iteration.\\n */\\nfunction table_update() {\\n    table_src.data = source.data['tables'][iteration]\\n}\\n\\n/**\\n * Update which cost is shown given the current iteration.\\n */\\nfunction cost_update() {\\n    cost.text = source.data['costs'][iteration].toFixed(1)\\n}\\n\\n/**\\n * Update done Div based on the current iteration.\\n */\\nfunction done_update() {\\n    if (iteration == parseInt(k.text) - 1) {\\n        done.text = \\\"done.\\\"\\n    } else {\\n        done.text = \\\"\\\"\\n    }\\n}\\n\\n// BEGIN FUNCTION CALLING\\nincrement_iteration()\\ndone_update()\\ncost_update()\\nedge_subset_update()\\nnodes_update()\\n\"},\"id\":\"32306\",\"type\":\"CustomJS\"},{\"attributes\":{\"overlay\":{\"id\":\"32262\"}},\"id\":\"32258\",\"type\":\"BoxZoomTool\"},{\"attributes\":{\"data\":{\"text\":[10,10,12,11,5,14,16,18,6,11,19,15,9,14,55,7,51,14,47,52,10,15,20,12,9,15,9,20,14,12,4,18,24,19,14,14],\"x\":{\"__ndarray__\":\"AAAAAAAAAAD6//////8dwAAAAAAAAARA8P//////A8AAAAAAAAAeQAAAAAAAAAAAAAAAAAAAAAAAAAAAAAAkQAAAAAAAACRA/v////9/MUD+/////38xQAAAAAAAADRAAAAAAACAMED+/////38xQAEAAAAAAElAAgAAAAAAOEABAAAAAEBMQP7/////fztAAQAAAABAT0ABAAAAAABOQAAAAAAAIFdAAAAAAACgWUAAAAAAAIBbQAAAAAAAgFZAAgAAAADAV0AAAAAAAABZQAIAAAAAwFdAAAAAAACgWUAAAAAAAIBbQAAAAAAA4FpAAAAAAACgWUAAAAAAAKBeQAAAAAAAAF5AAAAAAAAgXEAAAAAAAOBfQAAAAAAAYF1A\",\"dtype\":\"float64\",\"order\":\"little\",\"shape\":[36]},\"y\":{\"__ndarray__\":\"AAAAAAAA8DwAAAAAAAAEQAAAAAAAACTACAAAAAAAHkAAAAAAAAAhQAAAAAAAACZAAAAAAACAMUAQAAAAAAD4vwAAAAAAgDJAAAAAAAAAJkAAAAAAAAAEwAAAAAAAACnAAAAAAACAOEAAAAAAAIAxQAEAAAAAQEVAAAAAAAAAMUABAAAAAABAQAAAAAAAAPA8CAAAAAAAHkAEAAAAAAAuQAAAAAAAQEBAAAAAAABAQEAAAAAAAIA7QP///////0hAAQAAAACARkAAAAAAAABEQP//////f0tAAAAAAABAUED//////z9PQAEAAAAAwEdAAQAAAABASkABAAAAAABOQP///////0hA//////9/S0AAAAAAAABEQAIAAAAAgEFA\",\"dtype\":\"float64\",\"order\":\"little\",\"shape\":[36]}},\"selected\":{\"id\":\"32319\"},\"selection_policy\":{\"id\":\"32320\"}},\"id\":\"32291\",\"type\":\"ColumnDataSource\"},{\"attributes\":{\"data\":{\"line_color\":[\"#DFDFDF\",\"#DFDFDF\",\"#DFDFDF\",\"#DFDFDF\",\"#DFDFDF\",\"#DFDFDF\",\"#DFDFDF\",\"#DFDFDF\",\"#DFDFDF\",\"#DFDFDF\",\"#DFDFDF\",\"#DFDFDF\",\"#DFDFDF\",\"#DFDFDF\",\"#DFDFDF\",\"#DFDFDF\",\"#DFDFDF\",\"#DFDFDF\",\"#DFDFDF\",\"#DFDFDF\",\"#DFDFDF\",\"#DFDFDF\",\"#DFDFDF\",\"#DFDFDF\",\"#DFDFDF\",\"#DFDFDF\",\"#DFDFDF\",\"#DFDFDF\",\"#DFDFDF\",\"#DFDFDF\",\"#DFDFDF\",\"#DFDFDF\",\"#DFDFDF\",\"#DFDFDF\",\"#DFDFDF\",\"#DFDFDF\"],\"u\":[0,0,0,1,1,2,2,3,3,3,7,7,5,5,5,4,4,6,8,8,17,17,17,12,12,12,13,13,11,11,11,15,15,15,14,16],\"v\":[1,2,7,2,3,3,5,7,5,6,6,8,4,6,13,6,12,8,17,12,12,10,16,13,9,10,9,15,15,10,9,14,16,10,16,10],\"weight\":[10,10,12,11,5,14,16,18,6,11,19,15,9,14,55,7,51,14,47,52,10,15,20,12,9,15,9,20,14,12,4,18,24,19,14,14],\"xs\":[[-5,5],[-5,-10],[-5,10],[5,-10],[5,10],[-10,10],[-10,10],[10,10],[10,10],[10,25],[10,25],[10,30],[10,23],[10,25],[10,90],[23,25],[23,90],[25,30],[30,95],[30,90],[95,90],[95,110],[95,125],[90,90],[90,100],[90,110],[90,100],[90,115],[105,115],[105,110],[105,100],[115,130],[115,125],[115,110],[130,125],[125,110]],\"ys\":[[-5,5],[-5,10],[-5,-15],[5,10],[5,12],[10,12],[10,25],[12,-15],[12,25],[12,10],[-15,10],[-15,-10],[25,24],[25,10],[25,60],[24,10],[24,40],[10,-10],[-10,25],[-10,40],[25,40],[25,40],[25,30],[40,60],[40,50],[40,40],[60,50],[60,70],[55,70],[55,40],[55,50],[70,50],[70,30],[70,40],[50,30],[30,40]]},\"selected\":{\"id\":\"32323\"},\"selection_policy\":{\"id\":\"32324\"}},\"id\":\"32279\",\"type\":\"ColumnDataSource\"},{\"attributes\":{\"line_cap\":\"round\",\"line_color\":{\"field\":\"line_color\"},\"line_width\":{\"value\":5},\"xs\":{\"field\":\"xs\"},\"ys\":{\"field\":\"ys\"}},\"id\":\"32282\",\"type\":\"MultiLine\"},{\"attributes\":{},\"id\":\"32249\",\"type\":\"BasicTicker\"},{\"attributes\":{},\"id\":\"32244\",\"type\":\"LinearScale\"},{\"attributes\":{},\"id\":\"32259\",\"type\":\"SaveTool\"},{\"attributes\":{\"line_color\":{\"value\":\"white\"},\"line_width\":{\"value\":6},\"xs\":{\"field\":\"xs\"},\"ys\":{\"field\":\"ys\"}},\"id\":\"32287\",\"type\":\"MultiLine\"},{\"attributes\":{},\"id\":\"32320\",\"type\":\"UnionRenderers\"},{\"attributes\":{\"args\":{\"cost\":{\"id\":\"32303\"},\"done\":{\"id\":\"32296\"},\"edge_subset_src\":{\"id\":\"32297\"},\"k\":{\"id\":\"32295\"},\"n\":{\"id\":\"32294\"},\"nodes_src\":{\"id\":\"32273\"},\"source\":{\"id\":\"32304\"}},\"code\":\"/* Color Theme -- Using Google's Material Design Color System\\n   https://material.io/design/color/the-color-system.html */\\n\\n/** @constant {string} */\\nvar PRIMARY_COLOR = '#1565c0'\\n/** @constant {string} */\\nvar PRIMARY_LIGHT_COLOR = '#5e92f3'\\n/** @constant {string} */\\nvar PRIMARY_DARK_COLOR = '#003c8f'\\n/** @constant {string} */\\nvar SECONDARY_COLOR = '#d50000'\\n/** @constant {string} */\\nvar SECONDARY_LIGHT_COLOR = '#ff5131'\\n/** @constant {string} */\\nvar SECONDARY_DARK_COLOR = '#9b0000'\\n\\n// Grayscale\\n/** @constant {string} */\\nvar TERTIARY_COLOR = '#DFDFDF'\\n/**\\n *  Jupyter Notebook: 'white', Sphinx: '#FCFCFC'\\n *  @constant {string}\\n */\\nvar TERTIARY_LIGHT_COLOR = 'white'\\n/** @constant {string} */\\nvar TERTIARY_DARK_COLOR = '#404040'\\n/** @type {integer} */\\nvar iteration = 0\\n\\n\\n/**\\n * Increment iteration and update n Div.\\n */\\nfunction increment_iteration() {\\n    if ((parseInt(n.text) + 1) < parseInt(k.text)) {\\n        n.text = (parseInt(n.text) + 1).toString()\\n    }\\n    iteration = parseInt(n.text)\\n}\\n\\n/**\\n * Decrement iteration and update n Div.\\n */\\nfunction decrement_iteration() {\\n    if ((parseInt(n.text) - 1) >= 0) {\\n        n.text = (parseInt(n.text) - 1).toString()\\n    }\\n    iteration = parseInt(n.text)\\n}\\n\\n/**\\n * Update which nodes are highlighted given the current iteration.\\n */\\nfunction nodes_update() {\\n    var in_tree = source.data['nodes'][iteration]\\n\\n    for (let i = 0; i < nodes_src.data['line_color'].length ; i++) {\\n        if (in_tree.includes(i)) {\\n            nodes_src.data['fill_color'][i] = PRIMARY_DARK_COLOR\\n            nodes_src.data['line_color'][i] = PRIMARY_DARK_COLOR\\n        } else {\\n            nodes_src.data['fill_color'][i] = PRIMARY_LIGHT_COLOR\\n            nodes_src.data['line_color'][i] = PRIMARY_DARK_COLOR\\n        }\\n    }\\n\\n    nodes_src.change.emit()\\n}\\n\\n/**\\n * Update which subset of edges are highlighted given the current iteration.\\n */\\nfunction edge_subset_update() {\\n    edge_subset_src.data['xs'] = source.data['edge_xs'][iteration]\\n    edge_subset_src.data['ys'] = source.data['edge_ys'][iteration]\\n    edge_subset_src.change.emit()\\n}\\n\\n/**\\n * Update which swaps are updated given the current iteration\\n */\\nfunction swaps_update() {\\n    swaps_src.data['swaps_before_x'] = source.data['swaps_before_x'][iteration]\\n    swaps_src.data['swaps_before_y'] = source.data['swaps_before_y'][iteration]\\n    swaps_src.data['swaps_after_x'] = source.data['swaps_after_x'][iteration]\\n    swaps_src.data['swaps_after_y'] = source.data['swaps_after_y'][iteration]\\n    swaps_src.change.emit()\\n}\\n\\n/**\\n * Update which table is shown given the current iteration.\\n */\\nfunction table_update() {\\n    table_src.data = source.data['tables'][iteration]\\n}\\n\\n/**\\n * Update which cost is shown given the current iteration.\\n */\\nfunction cost_update() {\\n    cost.text = source.data['costs'][iteration].toFixed(1)\\n}\\n\\n/**\\n * Update done Div based on the current iteration.\\n */\\nfunction done_update() {\\n    if (iteration == parseInt(k.text) - 1) {\\n        done.text = \\\"done.\\\"\\n    } else {\\n        done.text = \\\"\\\"\\n    }\\n}\\n\\n// BEGIN FUNCTION CALLING\\ndecrement_iteration()\\ndone_update()\\ncost_update()\\nedge_subset_update()\\nnodes_update()\\n\"},\"id\":\"32308\",\"type\":\"CustomJS\"},{\"attributes\":{\"callback\":null,\"renderers\":[{\"id\":\"32277\"}],\"tooltips\":[[\"Index\",\"$index\"],[\"Name\",\"@name\"]]},\"id\":\"32309\",\"type\":\"HoverTool\"},{\"attributes\":{\"line_color\":{\"value\":\"white\"},\"line_width\":{\"value\":6},\"xs\":{\"field\":\"xs\"},\"ys\":{\"field\":\"ys\"}},\"id\":\"32288\",\"type\":\"MultiLine\"},{\"attributes\":{\"data\":{\"xs\":[],\"ys\":[]},\"selected\":{\"id\":\"32327\"},\"selection_policy\":{\"id\":\"32328\"}},\"id\":\"32297\",\"type\":\"ColumnDataSource\"},{\"attributes\":{\"source\":{\"id\":\"32291\"},\"text_align\":\"center\",\"text_baseline\":\"middle\",\"text_color\":{\"value\":\"black\"},\"text_font_size\":{\"value\":\"13px\"},\"x\":{\"field\":\"x\"},\"y\":{\"field\":\"y\"}},\"id\":\"32292\",\"type\":\"LabelSet\"},{\"attributes\":{},\"id\":\"32261\",\"type\":\"HelpTool\"},{\"attributes\":{\"end\":141.9,\"start\":-21.9},\"id\":\"32240\",\"type\":\"Range1d\"},{\"attributes\":{},\"id\":\"32315\",\"type\":\"BasicTickFormatter\"},{\"attributes\":{\"source\":{\"id\":\"32286\"}},\"id\":\"32290\",\"type\":\"CDSView\"},{\"attributes\":{},\"id\":\"32319\",\"type\":\"Selection\"},{\"attributes\":{\"children\":[{\"id\":\"32307\"},{\"id\":\"32305\"}],\"max_width\":900,\"sizing_mode\":\"stretch_both\"},\"id\":\"32311\",\"type\":\"Row\"},{\"attributes\":{\"axis\":{\"id\":\"32248\"},\"grid_line_color\":null,\"ticker\":null},\"id\":\"32251\",\"type\":\"Grid\"},{\"attributes\":{\"formatter\":{\"id\":\"32317\"},\"ticker\":{\"id\":\"32249\"},\"visible\":false},\"id\":\"32248\",\"type\":\"LinearAxis\"},{\"attributes\":{},\"id\":\"32325\",\"type\":\"Selection\"},{\"attributes\":{\"text\":\"\"},\"id\":\"32238\",\"type\":\"Title\"},{\"attributes\":{},\"id\":\"32326\",\"type\":\"UnionRenderers\"},{\"attributes\":{\"data_source\":{\"id\":\"32297\"},\"glyph\":{\"id\":\"32299\"},\"hover_glyph\":null,\"level\":\"underlay\",\"muted_glyph\":null,\"nonselection_glyph\":{\"id\":\"32300\"},\"selection_glyph\":null,\"view\":{\"id\":\"32302\"}},\"id\":\"32301\",\"type\":\"GlyphRenderer\"},{\"attributes\":{\"align\":\"center\",\"width\":450},\"id\":\"32296\",\"type\":\"Div\"},{\"attributes\":{},\"id\":\"32322\",\"type\":\"UnionRenderers\"},{\"attributes\":{\"data\":{\"fill_color\":[\"#5e92f3\",\"#5e92f3\",\"#5e92f3\",\"#5e92f3\",\"#5e92f3\",\"#5e92f3\",\"#5e92f3\",\"#5e92f3\",\"#5e92f3\",\"#5e92f3\",\"#5e92f3\",\"#5e92f3\",\"#5e92f3\",\"#5e92f3\",\"#5e92f3\",\"#5e92f3\",\"#5e92f3\",\"#5e92f3\"],\"line_color\":[\"#003c8f\",\"#003c8f\",\"#003c8f\",\"#003c8f\",\"#003c8f\",\"#003c8f\",\"#003c8f\",\"#003c8f\",\"#003c8f\",\"#003c8f\",\"#003c8f\",\"#003c8f\",\"#003c8f\",\"#003c8f\",\"#003c8f\",\"#003c8f\",\"#003c8f\",\"#003c8f\"],\"line_width\":[3,3,3,3,3,3,3,3,3,3,3,3,3,3,3,3,3,3],\"x\":[-5,5,-10,10,23,10,25,10,30,100,110,105,90,90,130,115,125,95],\"y\":[-5,5,10,12,24,25,10,-15,-10,50,40,55,40,60,50,70,30,25]},\"selected\":{\"id\":\"32321\"},\"selection_policy\":{\"id\":\"32322\"}},\"id\":\"32273\",\"type\":\"ColumnDataSource\"},{\"attributes\":{\"line_cap\":\"round\",\"line_color\":{\"value\":\"#404040\"},\"line_width\":{\"value\":5},\"xs\":{\"field\":\"xs\"},\"ys\":{\"field\":\"ys\"}},\"id\":\"32283\",\"type\":\"MultiLine\"},{\"attributes\":{\"children\":[{\"id\":\"32303\"},{\"id\":\"32296\"}]},\"id\":\"32312\",\"type\":\"Row\"},{\"attributes\":{\"line_cap\":\"round\",\"line_color\":{\"value\":\"#404040\"},\"line_width\":{\"value\":5},\"xs\":{\"field\":\"xs\"},\"ys\":{\"field\":\"ys\"}},\"id\":\"32299\",\"type\":\"MultiLine\"},{\"attributes\":{},\"id\":\"32317\",\"type\":\"BasicTickFormatter\"},{\"attributes\":{},\"id\":\"32335\",\"type\":\"UnionRenderers\"},{\"attributes\":{\"data_source\":{\"id\":\"32279\"},\"glyph\":{\"id\":\"32281\"},\"hover_glyph\":{\"id\":\"32283\"},\"level\":\"underlay\",\"muted_glyph\":null,\"nonselection_glyph\":{\"id\":\"32282\"},\"selection_glyph\":null,\"view\":{\"id\":\"32285\"}},\"id\":\"32284\",\"type\":\"GlyphRenderer\"},{\"attributes\":{\"line_cap\":\"round\",\"line_color\":{\"field\":\"line_color\"},\"line_width\":{\"value\":5},\"xs\":{\"field\":\"xs\"},\"ys\":{\"field\":\"ys\"}},\"id\":\"32281\",\"type\":\"MultiLine\"},{\"attributes\":{},\"id\":\"32334\",\"type\":\"Selection\"},{\"attributes\":{\"background_fill_color\":null,\"below\":[{\"id\":\"32248\"}],\"border_fill_color\":null,\"center\":[{\"id\":\"32251\"},{\"id\":\"32255\"},{\"id\":\"32292\"}],\"left\":[{\"id\":\"32252\"}],\"outline_line_color\":null,\"plot_height\":500,\"plot_width\":900,\"renderers\":[{\"id\":\"32277\"},{\"id\":\"32284\"},{\"id\":\"32289\"},{\"id\":\"32301\"}],\"title\":{\"id\":\"32238\"},\"toolbar\":{\"id\":\"32263\"},\"toolbar_location\":null,\"x_range\":{\"id\":\"32240\"},\"x_scale\":{\"id\":\"32244\"},\"y_range\":{\"id\":\"32242\"},\"y_scale\":{\"id\":\"32246\"}},\"id\":\"32237\",\"subtype\":\"Figure\",\"type\":\"Plot\"},{\"attributes\":{\"data_source\":{\"id\":\"32273\"},\"glyph\":{\"id\":\"32275\"},\"hover_glyph\":null,\"muted_glyph\":null,\"nonselection_glyph\":{\"id\":\"32276\"},\"selection_glyph\":null,\"view\":{\"id\":\"32278\"}},\"id\":\"32277\",\"type\":\"GlyphRenderer\"},{\"attributes\":{\"active_drag\":null,\"active_inspect\":\"auto\",\"active_multi\":null,\"active_scroll\":null,\"active_tap\":\"auto\",\"logo\":null,\"tools\":[{\"id\":\"32256\"},{\"id\":\"32257\"},{\"id\":\"32258\"},{\"id\":\"32259\"},{\"id\":\"32260\"},{\"id\":\"32261\"},{\"id\":\"32309\"}]},\"id\":\"32263\",\"type\":\"Toolbar\"},{\"attributes\":{\"fill_color\":{\"field\":\"fill_color\"},\"line_color\":{\"field\":\"line_color\"},\"line_width\":{\"field\":\"line_width\"},\"size\":{\"units\":\"screen\",\"value\":11},\"x\":{\"field\":\"x\"},\"y\":{\"field\":\"y\"}},\"id\":\"32275\",\"type\":\"Circle\"},{\"attributes\":{\"source\":{\"id\":\"32279\"}},\"id\":\"32285\",\"type\":\"CDSView\"},{\"attributes\":{\"line_alpha\":{\"value\":0.1},\"line_cap\":\"round\",\"line_color\":{\"value\":\"#404040\"},\"line_width\":{\"value\":5},\"xs\":{\"field\":\"xs\"},\"ys\":{\"field\":\"ys\"}},\"id\":\"32300\",\"type\":\"MultiLine\"},{\"attributes\":{\"align\":\"center\",\"text\":\"0\",\"width\":900},\"id\":\"32294\",\"type\":\"Div\"},{\"attributes\":{},\"id\":\"32246\",\"type\":\"LinearScale\"},{\"attributes\":{\"source\":{\"id\":\"32273\"}},\"id\":\"32278\",\"type\":\"CDSView\"},{\"attributes\":{\"end\":77.225,\"start\":-22.225},\"id\":\"32242\",\"type\":\"Range1d\"},{\"attributes\":{\"source\":{\"id\":\"32297\"}},\"id\":\"32302\",\"type\":\"CDSView\"},{\"attributes\":{},\"id\":\"32327\",\"type\":\"Selection\"},{\"attributes\":{\"bottom_units\":\"screen\",\"fill_alpha\":0.5,\"fill_color\":\"lightgrey\",\"left_units\":\"screen\",\"level\":\"overlay\",\"line_alpha\":1.0,\"line_color\":\"black\",\"line_dash\":[4,4],\"line_width\":2,\"right_units\":\"screen\",\"top_units\":\"screen\"},\"id\":\"32262\",\"type\":\"BoxAnnotation\"},{\"attributes\":{},\"id\":\"32323\",\"type\":\"Selection\"},{\"attributes\":{\"fill_color\":{\"field\":\"fill_color\"},\"line_color\":{\"field\":\"line_color\"},\"line_width\":{\"field\":\"line_width\"},\"size\":{\"units\":\"screen\",\"value\":11},\"x\":{\"field\":\"x\"},\"y\":{\"field\":\"y\"}},\"id\":\"32276\",\"type\":\"Circle\"},{\"attributes\":{},\"id\":\"32328\",\"type\":\"UnionRenderers\"},{\"attributes\":{\"data\":{\"costs\":[0,4,9,15,22,31,40,49,59,69,79,91,103,117,131,145,159,206],\"edge_xs\":[[],[[105,100]],[[105,100],[5,10]],[[105,100],[5,10],[10,10]],[[105,100],[5,10],[10,10],[23,25]],[[105,100],[5,10],[10,10],[23,25],[10,23]],[[105,100],[5,10],[10,10],[23,25],[10,23],[90,100]],[[105,100],[5,10],[10,10],[23,25],[10,23],[90,100],[90,100]],[[105,100],[5,10],[10,10],[23,25],[10,23],[90,100],[90,100],[-5,5]],[[105,100],[5,10],[10,10],[23,25],[10,23],[90,100],[90,100],[-5,5],[-5,-10]],[[105,100],[5,10],[10,10],[23,25],[10,23],[90,100],[90,100],[-5,5],[-5,-10],[95,90]],[[105,100],[5,10],[10,10],[23,25],[10,23],[90,100],[90,100],[-5,5],[-5,-10],[95,90],[-5,10]],[[105,100],[5,10],[10,10],[23,25],[10,23],[90,100],[90,100],[-5,5],[-5,-10],[95,90],[-5,10],[105,110]],[[105,100],[5,10],[10,10],[23,25],[10,23],[90,100],[90,100],[-5,5],[-5,-10],[95,90],[-5,10],[105,110],[25,30]],[[105,100],[5,10],[10,10],[23,25],[10,23],[90,100],[90,100],[-5,5],[-5,-10],[95,90],[-5,10],[105,110],[25,30],[105,115]],[[105,100],[5,10],[10,10],[23,25],[10,23],[90,100],[90,100],[-5,5],[-5,-10],[95,90],[-5,10],[105,110],[25,30],[105,115],[130,125]],[[105,100],[5,10],[10,10],[23,25],[10,23],[90,100],[90,100],[-5,5],[-5,-10],[95,90],[-5,10],[105,110],[25,30],[105,115],[130,125],[125,110]],[[105,100],[5,10],[10,10],[23,25],[10,23],[90,100],[90,100],[-5,5],[-5,-10],[95,90],[-5,10],[105,110],[25,30],[105,115],[130,125],[125,110],[30,95]]],\"edge_ys\":[[],[[55,50]],[[55,50],[5,12]],[[55,50],[5,12],[12,25]],[[55,50],[5,12],[12,25],[24,10]],[[55,50],[5,12],[12,25],[24,10],[25,24]],[[55,50],[5,12],[12,25],[24,10],[25,24],[40,50]],[[55,50],[5,12],[12,25],[24,10],[25,24],[40,50],[60,50]],[[55,50],[5,12],[12,25],[24,10],[25,24],[40,50],[60,50],[-5,5]],[[55,50],[5,12],[12,25],[24,10],[25,24],[40,50],[60,50],[-5,5],[-5,10]],[[55,50],[5,12],[12,25],[24,10],[25,24],[40,50],[60,50],[-5,5],[-5,10],[25,40]],[[55,50],[5,12],[12,25],[24,10],[25,24],[40,50],[60,50],[-5,5],[-5,10],[25,40],[-5,-15]],[[55,50],[5,12],[12,25],[24,10],[25,24],[40,50],[60,50],[-5,5],[-5,10],[25,40],[-5,-15],[55,40]],[[55,50],[5,12],[12,25],[24,10],[25,24],[40,50],[60,50],[-5,5],[-5,10],[25,40],[-5,-15],[55,40],[10,-10]],[[55,50],[5,12],[12,25],[24,10],[25,24],[40,50],[60,50],[-5,5],[-5,10],[25,40],[-5,-15],[55,40],[10,-10],[55,70]],[[55,50],[5,12],[12,25],[24,10],[25,24],[40,50],[60,50],[-5,5],[-5,10],[25,40],[-5,-15],[55,40],[10,-10],[55,70],[50,30]],[[55,50],[5,12],[12,25],[24,10],[25,24],[40,50],[60,50],[-5,5],[-5,10],[25,40],[-5,-15],[55,40],[10,-10],[55,70],[50,30],[30,40]],[[55,50],[5,12],[12,25],[24,10],[25,24],[40,50],[60,50],[-5,5],[-5,10],[25,40],[-5,-15],[55,40],[10,-10],[55,70],[50,30],[30,40],[-10,25]]],\"nodes\":[[],[9,11],[3,9,11,1],[1,3,5,9,11],[1,3,4,5,6,9,11],[1,3,4,5,6,9,11],[1,3,4,5,6,9,11,12],[1,3,4,5,6,9,11,12,13],[0,1,3,4,5,6,9,11,12,13],[0,1,2,3,4,5,6,9,11,12,13],[0,1,2,3,4,5,6,9,11,12,13,17],[0,1,2,3,4,5,6,7,9,11,12,13,17],[0,1,2,3,4,5,6,7,9,10,11,12,13,17],[0,1,2,3,4,5,6,7,8,9,10,11,12,13,17],[0,1,2,3,4,5,6,7,8,9,10,11,12,13,15,17],[0,1,2,3,4,5,6,7,8,9,10,11,12,13,14,15,16,17],[0,1,2,3,4,5,6,7,8,9,10,11,12,13,14,15,16,17],[0,1,2,3,4,5,6,7,8,9,10,11,12,13,14,15,16,17]]},\"selected\":{\"id\":\"32334\"},\"selection_policy\":{\"id\":\"32335\"}},\"id\":\"32304\",\"type\":\"ColumnDataSource\"},{\"attributes\":{\"align\":\"center\",\"text\":\"0\",\"width\":450},\"id\":\"32303\",\"type\":\"Div\"},{\"attributes\":{\"data\":{\"xs\":[[-1.2084415681555356,1.2084415681555285],[-6.93934228187919,-8.060657718120803],[1.1016470312441768,3.898352968755823],[-0.933257842020268,-4.066742157979725],[6.828057661187927,8.171942338812066],[-1.6311854009150721,1.631185400915065],[-1.3505528716305477,1.3505528716305477],[10.0,10.0],[10.0,10.0],[15.874056436866333,19.125943563133653],[16.601813729155907,18.39818627084408],[18.403246562811432,21.59675343718856],[15.41069506389639,17.589304936103602],[16.291558431844457,18.70844156815553],[48.47932660345875,51.52067339654126],[23.83155478692833,24.168445213071678],[54.89975939504284,58.10024060495717],[27.068297485064164,27.93170251493582],[61.030668696049524,63.96933130395049],[58.697473795486395,61.30252620451363],[93.06065771812081,91.93934228187922],[101.29155843184446,103.70844156815554],[108.38072227427838,111.61927772572159],[90.0,90.0],[94.19437228789633,95.8056277121037],[98.362,101.638],[94.19437228789633,95.8056277121037],[100.96179590426999,104.03820409573001],[109.03545056540105,110.96454943459892],[106.93934228187919,108.06065771812078],[103.3056277121037,101.6943722878963],[121.46164819209622,123.53835180790378],[119.56829748506416,120.43170251493584],[112.79352080056563,112.20647919943437],[127.93170251493584,127.06829748506416],[118.89835296875583,116.1016470312442]],\"ys\":[[-1.2084415681555356,1.2084415681555427],[0.8180268456375863,4.181973154362417],[-9.067764687496116,-10.932235312503881],[6.977752614006761,8.022247385993246],[7.5592807256631005,9.4407192743369],[10.83688145990849,11.163118540091503],[16.48708534627709,18.51291465372291],[0.2900999999999989,-3.2901000000000025],[17.306599999999996,19.693399999999997],[11.216792475084482,10.783207524915511],[-3.9969771180734845,-1.0030228819265083],[-12.899188359297142,-12.100811640702858],[24.583792687392588,24.416207312607412],[18.708441568155543,16.291558431844464],[41.8347053890132,43.16529461098681],[18.179116491501716,15.82088350849829],[31.617852989860985,32.382147010139036],[1.7268100597433254,-1.7268100597433182],[6.708821605565127,8.29117839443488],[13.914561496238655,16.085438503761353],[30.818026845637583,34.181973154362424],[31.291558431844464,33.70844156815554],[27.23012037904639,27.769879620953603],[48.2099,51.79009999999999],[44.19437228789631,45.80562771210369],[40.0,40.0],[55.80562771210369,54.19437228789631],[64.384718361708,65.615281638292],[61.053175848101624,63.946824151898376],[49.18197315436243,45.8180268456376],[53.30562771210371,51.69437228789632],[61.38446907720503,58.61553092279497],[51.72681005974332,48.27318994025668],[56.76112480339376,53.23887519660624],[41.72681005974333,38.273189940256685],[34.06776468749612,35.93223531250389]]},\"selected\":{\"id\":\"32325\"},\"selection_policy\":{\"id\":\"32326\"}},\"id\":\"32286\",\"type\":\"ColumnDataSource\"},{\"attributes\":{\"align\":\"center\",\"text\":\"18\",\"width\":900},\"id\":\"32295\",\"type\":\"Div\"},{\"attributes\":{},\"id\":\"32321\",\"type\":\"Selection\"},{\"attributes\":{\"formatter\":{\"id\":\"32315\"},\"ticker\":{\"id\":\"32253\"},\"visible\":false},\"id\":\"32252\",\"type\":\"LinearAxis\"},{\"attributes\":{\"axis\":{\"id\":\"32252\"},\"dimension\":1,\"grid_line_color\":null,\"ticker\":null},\"id\":\"32255\",\"type\":\"Grid\"}],\"root_ids\":[\"32336\"]},\"title\":\"Bokeh Application\",\"version\":\"2.2.3\"}};\n",
       "  var render_items = [{\"docid\":\"4e24c2bf-5163-4dc4-b252-2df7e365da5a\",\"root_ids\":[\"32336\"],\"roots\":{\"32336\":\"dd059510-62f9-4117-a52f-20d71119ec2b\"}}];\n",
       "  root.Bokeh.embed.embed_items_notebook(docs_json, render_items);\n",
       "\n",
       "  }\n",
       "  if (root.Bokeh !== undefined) {\n",
       "    embed_document(root);\n",
       "  } else {\n",
       "    var attempts = 0;\n",
       "    var timer = setInterval(function(root) {\n",
       "      if (root.Bokeh !== undefined) {\n",
       "        clearInterval(timer);\n",
       "        embed_document(root);\n",
       "      } else {\n",
       "        attempts++;\n",
       "        if (attempts > 100) {\n",
       "          clearInterval(timer);\n",
       "          console.log(\"Bokeh: ERROR: Unable to run BokehJS code because BokehJS library is missing\");\n",
       "        }\n",
       "      }\n",
       "    }, 10, root)\n",
       "  }\n",
       "})(window);"
      ],
      "application/vnd.bokehjs_exec.v0+json": ""
     },
     "metadata": {
      "application/vnd.bokehjs_exec.v0+json": {
       "id": "32336"
      }
     },
     "output_type": "display_data"
    }
   ],
   "source": [
    "# Load the data and create a graph G\n",
    "nodes = pd.read_csv('data/cluster3.csv', index_col=0)\n",
    "edges = pd.read_csv('data/cluster3_edges.csv', index_col=0)\n",
    "G = vl.create_network(nodes, edges)\n",
    "\n",
    "# Plot the graph G\n",
    "show(vl.mst_algorithm_plot(G, algorithm='kruskals', width=900, height=500))"
   ]
  },
  {
   "cell_type": "markdown",
   "metadata": {},
   "source": [
    "We can apply this method to large data sets, like the taxi data from New York City 2014. The data is shown in the below image, and it is easy to see that there are patterns for each day. We can try to form clusters separating the days so that they can be identified be whether or not they are a weekend. First, we remove outliers, which are special days, like holidays, where the pattern is not like any other day. Days with very few riders (less than 70,000) were removed, as were the 1st and 2nd of January, 31st of December, Martin Luther King's day, President's day, and the start and end of daylight savings time."
   ]
  },
  {
   "cell_type": "markdown",
   "metadata": {},
   "source": [
    "<img src=\"images/taxi_ride_frequency.png\" width=\"1000\" />"
   ]
  },
  {
   "cell_type": "markdown",
   "metadata": {},
   "source": [
    "After removing the outliers, the clusters we get are as below. The weekdays are the red nodes, Saturdays are green, and Sundays are Blue. Note that even though the Saturdays and Sundays look separated, they are too similar to be parts of different clusters, so they are part of the same cluster (connected by an edge in the tree)"
   ]
  },
  {
   "cell_type": "markdown",
   "metadata": {},
   "source": [
    "<img src=\"images/cg.graphml.png\" width=\"1000\" />"
   ]
  }
 ],
 "metadata": {
  "kernelspec": {
   "display_name": "Python 3",
   "language": "python",
   "name": "python3"
  },
  "language_info": {
   "codemirror_mode": {
    "name": "ipython",
    "version": 3
   },
   "file_extension": ".py",
   "mimetype": "text/x-python",
   "name": "python",
   "nbconvert_exporter": "python",
   "pygments_lexer": "ipython3",
   "version": "3.7.10"
  }
 },
 "nbformat": 4,
 "nbformat_minor": 4
}
