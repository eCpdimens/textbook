{
 "cells": [
  {
   "cell_type": "code",
   "execution_count": 1,
   "metadata": {},
   "outputs": [
    {
     "data": {
      "text/html": [
       "\n",
       "    <div class=\"bk-root\">\n",
       "        <a href=\"https://bokeh.org\" target=\"_blank\" class=\"bk-logo bk-logo-small bk-logo-notebook\"></a>\n",
       "        <span id=\"1001\">Loading BokehJS ...</span>\n",
       "    </div>"
      ]
     },
     "metadata": {},
     "output_type": "display_data"
    },
    {
     "data": {
      "application/javascript": [
       "\n",
       "(function(root) {\n",
       "  function now() {\n",
       "    return new Date();\n",
       "  }\n",
       "\n",
       "  var force = true;\n",
       "\n",
       "  if (typeof root._bokeh_onload_callbacks === \"undefined\" || force === true) {\n",
       "    root._bokeh_onload_callbacks = [];\n",
       "    root._bokeh_is_loading = undefined;\n",
       "  }\n",
       "\n",
       "  var JS_MIME_TYPE = 'application/javascript';\n",
       "  var HTML_MIME_TYPE = 'text/html';\n",
       "  var EXEC_MIME_TYPE = 'application/vnd.bokehjs_exec.v0+json';\n",
       "  var CLASS_NAME = 'output_bokeh rendered_html';\n",
       "\n",
       "  /**\n",
       "   * Render data to the DOM node\n",
       "   */\n",
       "  function render(props, node) {\n",
       "    var script = document.createElement(\"script\");\n",
       "    node.appendChild(script);\n",
       "  }\n",
       "\n",
       "  /**\n",
       "   * Handle when an output is cleared or removed\n",
       "   */\n",
       "  function handleClearOutput(event, handle) {\n",
       "    var cell = handle.cell;\n",
       "\n",
       "    var id = cell.output_area._bokeh_element_id;\n",
       "    var server_id = cell.output_area._bokeh_server_id;\n",
       "    // Clean up Bokeh references\n",
       "    if (id != null && id in Bokeh.index) {\n",
       "      Bokeh.index[id].model.document.clear();\n",
       "      delete Bokeh.index[id];\n",
       "    }\n",
       "\n",
       "    if (server_id !== undefined) {\n",
       "      // Clean up Bokeh references\n",
       "      var cmd = \"from bokeh.io.state import curstate; print(curstate().uuid_to_server['\" + server_id + \"'].get_sessions()[0].document.roots[0]._id)\";\n",
       "      cell.notebook.kernel.execute(cmd, {\n",
       "        iopub: {\n",
       "          output: function(msg) {\n",
       "            var id = msg.content.text.trim();\n",
       "            if (id in Bokeh.index) {\n",
       "              Bokeh.index[id].model.document.clear();\n",
       "              delete Bokeh.index[id];\n",
       "            }\n",
       "          }\n",
       "        }\n",
       "      });\n",
       "      // Destroy server and session\n",
       "      var cmd = \"import bokeh.io.notebook as ion; ion.destroy_server('\" + server_id + \"')\";\n",
       "      cell.notebook.kernel.execute(cmd);\n",
       "    }\n",
       "  }\n",
       "\n",
       "  /**\n",
       "   * Handle when a new output is added\n",
       "   */\n",
       "  function handleAddOutput(event, handle) {\n",
       "    var output_area = handle.output_area;\n",
       "    var output = handle.output;\n",
       "\n",
       "    // limit handleAddOutput to display_data with EXEC_MIME_TYPE content only\n",
       "    if ((output.output_type != \"display_data\") || (!output.data.hasOwnProperty(EXEC_MIME_TYPE))) {\n",
       "      return\n",
       "    }\n",
       "\n",
       "    var toinsert = output_area.element.find(\".\" + CLASS_NAME.split(' ')[0]);\n",
       "\n",
       "    if (output.metadata[EXEC_MIME_TYPE][\"id\"] !== undefined) {\n",
       "      toinsert[toinsert.length - 1].firstChild.textContent = output.data[JS_MIME_TYPE];\n",
       "      // store reference to embed id on output_area\n",
       "      output_area._bokeh_element_id = output.metadata[EXEC_MIME_TYPE][\"id\"];\n",
       "    }\n",
       "    if (output.metadata[EXEC_MIME_TYPE][\"server_id\"] !== undefined) {\n",
       "      var bk_div = document.createElement(\"div\");\n",
       "      bk_div.innerHTML = output.data[HTML_MIME_TYPE];\n",
       "      var script_attrs = bk_div.children[0].attributes;\n",
       "      for (var i = 0; i < script_attrs.length; i++) {\n",
       "        toinsert[toinsert.length - 1].firstChild.setAttribute(script_attrs[i].name, script_attrs[i].value);\n",
       "        toinsert[toinsert.length - 1].firstChild.textContent = bk_div.children[0].textContent\n",
       "      }\n",
       "      // store reference to server id on output_area\n",
       "      output_area._bokeh_server_id = output.metadata[EXEC_MIME_TYPE][\"server_id\"];\n",
       "    }\n",
       "  }\n",
       "\n",
       "  function register_renderer(events, OutputArea) {\n",
       "\n",
       "    function append_mime(data, metadata, element) {\n",
       "      // create a DOM node to render to\n",
       "      var toinsert = this.create_output_subarea(\n",
       "        metadata,\n",
       "        CLASS_NAME,\n",
       "        EXEC_MIME_TYPE\n",
       "      );\n",
       "      this.keyboard_manager.register_events(toinsert);\n",
       "      // Render to node\n",
       "      var props = {data: data, metadata: metadata[EXEC_MIME_TYPE]};\n",
       "      render(props, toinsert[toinsert.length - 1]);\n",
       "      element.append(toinsert);\n",
       "      return toinsert\n",
       "    }\n",
       "\n",
       "    /* Handle when an output is cleared or removed */\n",
       "    events.on('clear_output.CodeCell', handleClearOutput);\n",
       "    events.on('delete.Cell', handleClearOutput);\n",
       "\n",
       "    /* Handle when a new output is added */\n",
       "    events.on('output_added.OutputArea', handleAddOutput);\n",
       "\n",
       "    /**\n",
       "     * Register the mime type and append_mime function with output_area\n",
       "     */\n",
       "    OutputArea.prototype.register_mime_type(EXEC_MIME_TYPE, append_mime, {\n",
       "      /* Is output safe? */\n",
       "      safe: true,\n",
       "      /* Index of renderer in `output_area.display_order` */\n",
       "      index: 0\n",
       "    });\n",
       "  }\n",
       "\n",
       "  // register the mime type if in Jupyter Notebook environment and previously unregistered\n",
       "  if (root.Jupyter !== undefined) {\n",
       "    var events = require('base/js/events');\n",
       "    var OutputArea = require('notebook/js/outputarea').OutputArea;\n",
       "\n",
       "    if (OutputArea.prototype.mime_types().indexOf(EXEC_MIME_TYPE) == -1) {\n",
       "      register_renderer(events, OutputArea);\n",
       "    }\n",
       "  }\n",
       "\n",
       "  \n",
       "  if (typeof (root._bokeh_timeout) === \"undefined\" || force === true) {\n",
       "    root._bokeh_timeout = Date.now() + 5000;\n",
       "    root._bokeh_failed_load = false;\n",
       "  }\n",
       "\n",
       "  var NB_LOAD_WARNING = {'data': {'text/html':\n",
       "     \"<div style='background-color: #fdd'>\\n\"+\n",
       "     \"<p>\\n\"+\n",
       "     \"BokehJS does not appear to have successfully loaded. If loading BokehJS from CDN, this \\n\"+\n",
       "     \"may be due to a slow or bad network connection. Possible fixes:\\n\"+\n",
       "     \"</p>\\n\"+\n",
       "     \"<ul>\\n\"+\n",
       "     \"<li>re-rerun `output_notebook()` to attempt to load from CDN again, or</li>\\n\"+\n",
       "     \"<li>use INLINE resources instead, as so:</li>\\n\"+\n",
       "     \"</ul>\\n\"+\n",
       "     \"<code>\\n\"+\n",
       "     \"from bokeh.resources import INLINE\\n\"+\n",
       "     \"output_notebook(resources=INLINE)\\n\"+\n",
       "     \"</code>\\n\"+\n",
       "     \"</div>\"}};\n",
       "\n",
       "  function display_loaded() {\n",
       "    var el = document.getElementById(\"1001\");\n",
       "    if (el != null) {\n",
       "      el.textContent = \"BokehJS is loading...\";\n",
       "    }\n",
       "    if (root.Bokeh !== undefined) {\n",
       "      if (el != null) {\n",
       "        el.textContent = \"BokehJS \" + root.Bokeh.version + \" successfully loaded.\";\n",
       "      }\n",
       "    } else if (Date.now() < root._bokeh_timeout) {\n",
       "      setTimeout(display_loaded, 100)\n",
       "    }\n",
       "  }\n",
       "\n",
       "\n",
       "  function run_callbacks() {\n",
       "    try {\n",
       "      root._bokeh_onload_callbacks.forEach(function(callback) {\n",
       "        if (callback != null)\n",
       "          callback();\n",
       "      });\n",
       "    } finally {\n",
       "      delete root._bokeh_onload_callbacks\n",
       "    }\n",
       "    console.debug(\"Bokeh: all callbacks have finished\");\n",
       "  }\n",
       "\n",
       "  function load_libs(css_urls, js_urls, callback) {\n",
       "    if (css_urls == null) css_urls = [];\n",
       "    if (js_urls == null) js_urls = [];\n",
       "\n",
       "    root._bokeh_onload_callbacks.push(callback);\n",
       "    if (root._bokeh_is_loading > 0) {\n",
       "      console.debug(\"Bokeh: BokehJS is being loaded, scheduling callback at\", now());\n",
       "      return null;\n",
       "    }\n",
       "    if (js_urls == null || js_urls.length === 0) {\n",
       "      run_callbacks();\n",
       "      return null;\n",
       "    }\n",
       "    console.debug(\"Bokeh: BokehJS not loaded, scheduling load and callback at\", now());\n",
       "    root._bokeh_is_loading = css_urls.length + js_urls.length;\n",
       "\n",
       "    function on_load() {\n",
       "      root._bokeh_is_loading--;\n",
       "      if (root._bokeh_is_loading === 0) {\n",
       "        console.debug(\"Bokeh: all BokehJS libraries/stylesheets loaded\");\n",
       "        run_callbacks()\n",
       "      }\n",
       "    }\n",
       "\n",
       "    function on_error() {\n",
       "      console.error(\"failed to load \" + url);\n",
       "    }\n",
       "\n",
       "    for (var i = 0; i < css_urls.length; i++) {\n",
       "      var url = css_urls[i];\n",
       "      const element = document.createElement(\"link\");\n",
       "      element.onload = on_load;\n",
       "      element.onerror = on_error;\n",
       "      element.rel = \"stylesheet\";\n",
       "      element.type = \"text/css\";\n",
       "      element.href = url;\n",
       "      console.debug(\"Bokeh: injecting link tag for BokehJS stylesheet: \", url);\n",
       "      document.body.appendChild(element);\n",
       "    }\n",
       "\n",
       "    const hashes = {\"https://cdn.bokeh.org/bokeh/release/bokeh-2.2.3.min.js\": \"T2yuo9Oe71Cz/I4X9Ac5+gpEa5a8PpJCDlqKYO0CfAuEszu1JrXLl8YugMqYe3sM\", \"https://cdn.bokeh.org/bokeh/release/bokeh-widgets-2.2.3.min.js\": \"98GDGJ0kOMCUMUePhksaQ/GYgB3+NH9h996V88sh3aOiUNX3N+fLXAtry6xctSZ6\", \"https://cdn.bokeh.org/bokeh/release/bokeh-tables-2.2.3.min.js\": \"89bArO+nlbP3sgakeHjCo1JYxYR5wufVgA3IbUvDY+K7w4zyxJqssu7wVnfeKCq8\"};\n",
       "\n",
       "    for (var i = 0; i < js_urls.length; i++) {\n",
       "      var url = js_urls[i];\n",
       "      var element = document.createElement('script');\n",
       "      element.onload = on_load;\n",
       "      element.onerror = on_error;\n",
       "      element.async = false;\n",
       "      element.src = url;\n",
       "      if (url in hashes) {\n",
       "        element.crossOrigin = \"anonymous\";\n",
       "        element.integrity = \"sha384-\" + hashes[url];\n",
       "      }\n",
       "      console.debug(\"Bokeh: injecting script tag for BokehJS library: \", url);\n",
       "      document.head.appendChild(element);\n",
       "    }\n",
       "  };\n",
       "\n",
       "  function inject_raw_css(css) {\n",
       "    const element = document.createElement(\"style\");\n",
       "    element.appendChild(document.createTextNode(css));\n",
       "    document.body.appendChild(element);\n",
       "  }\n",
       "\n",
       "  \n",
       "  var js_urls = [\"https://cdn.bokeh.org/bokeh/release/bokeh-2.2.3.min.js\", \"https://cdn.bokeh.org/bokeh/release/bokeh-widgets-2.2.3.min.js\", \"https://cdn.bokeh.org/bokeh/release/bokeh-tables-2.2.3.min.js\"];\n",
       "  var css_urls = [];\n",
       "  \n",
       "\n",
       "  var inline_js = [\n",
       "    function(Bokeh) {\n",
       "      Bokeh.set_log_level(\"info\");\n",
       "    },\n",
       "    function(Bokeh) {\n",
       "    \n",
       "    \n",
       "    }\n",
       "  ];\n",
       "\n",
       "  function run_inline_js() {\n",
       "    \n",
       "    if (root.Bokeh !== undefined || force === true) {\n",
       "      \n",
       "    for (var i = 0; i < inline_js.length; i++) {\n",
       "      inline_js[i].call(root, root.Bokeh);\n",
       "    }\n",
       "    if (force === true) {\n",
       "        display_loaded();\n",
       "      }} else if (Date.now() < root._bokeh_timeout) {\n",
       "      setTimeout(run_inline_js, 100);\n",
       "    } else if (!root._bokeh_failed_load) {\n",
       "      console.log(\"Bokeh: BokehJS failed to load within specified timeout.\");\n",
       "      root._bokeh_failed_load = true;\n",
       "    } else if (force !== true) {\n",
       "      var cell = $(document.getElementById(\"1001\")).parents('.cell').data().cell;\n",
       "      cell.output_area.append_execute_result(NB_LOAD_WARNING)\n",
       "    }\n",
       "\n",
       "  }\n",
       "\n",
       "  if (root._bokeh_is_loading === 0) {\n",
       "    console.debug(\"Bokeh: BokehJS loaded, going straight to plotting\");\n",
       "    run_inline_js();\n",
       "  } else {\n",
       "    load_libs(css_urls, js_urls, function() {\n",
       "      console.debug(\"Bokeh: BokehJS plotting callback run at\", now());\n",
       "      run_inline_js();\n",
       "    });\n",
       "  }\n",
       "}(window));"
      ],
      "application/vnd.bokehjs_load.v0+json": "\n(function(root) {\n  function now() {\n    return new Date();\n  }\n\n  var force = true;\n\n  if (typeof root._bokeh_onload_callbacks === \"undefined\" || force === true) {\n    root._bokeh_onload_callbacks = [];\n    root._bokeh_is_loading = undefined;\n  }\n\n  \n\n  \n  if (typeof (root._bokeh_timeout) === \"undefined\" || force === true) {\n    root._bokeh_timeout = Date.now() + 5000;\n    root._bokeh_failed_load = false;\n  }\n\n  var NB_LOAD_WARNING = {'data': {'text/html':\n     \"<div style='background-color: #fdd'>\\n\"+\n     \"<p>\\n\"+\n     \"BokehJS does not appear to have successfully loaded. If loading BokehJS from CDN, this \\n\"+\n     \"may be due to a slow or bad network connection. Possible fixes:\\n\"+\n     \"</p>\\n\"+\n     \"<ul>\\n\"+\n     \"<li>re-rerun `output_notebook()` to attempt to load from CDN again, or</li>\\n\"+\n     \"<li>use INLINE resources instead, as so:</li>\\n\"+\n     \"</ul>\\n\"+\n     \"<code>\\n\"+\n     \"from bokeh.resources import INLINE\\n\"+\n     \"output_notebook(resources=INLINE)\\n\"+\n     \"</code>\\n\"+\n     \"</div>\"}};\n\n  function display_loaded() {\n    var el = document.getElementById(\"1001\");\n    if (el != null) {\n      el.textContent = \"BokehJS is loading...\";\n    }\n    if (root.Bokeh !== undefined) {\n      if (el != null) {\n        el.textContent = \"BokehJS \" + root.Bokeh.version + \" successfully loaded.\";\n      }\n    } else if (Date.now() < root._bokeh_timeout) {\n      setTimeout(display_loaded, 100)\n    }\n  }\n\n\n  function run_callbacks() {\n    try {\n      root._bokeh_onload_callbacks.forEach(function(callback) {\n        if (callback != null)\n          callback();\n      });\n    } finally {\n      delete root._bokeh_onload_callbacks\n    }\n    console.debug(\"Bokeh: all callbacks have finished\");\n  }\n\n  function load_libs(css_urls, js_urls, callback) {\n    if (css_urls == null) css_urls = [];\n    if (js_urls == null) js_urls = [];\n\n    root._bokeh_onload_callbacks.push(callback);\n    if (root._bokeh_is_loading > 0) {\n      console.debug(\"Bokeh: BokehJS is being loaded, scheduling callback at\", now());\n      return null;\n    }\n    if (js_urls == null || js_urls.length === 0) {\n      run_callbacks();\n      return null;\n    }\n    console.debug(\"Bokeh: BokehJS not loaded, scheduling load and callback at\", now());\n    root._bokeh_is_loading = css_urls.length + js_urls.length;\n\n    function on_load() {\n      root._bokeh_is_loading--;\n      if (root._bokeh_is_loading === 0) {\n        console.debug(\"Bokeh: all BokehJS libraries/stylesheets loaded\");\n        run_callbacks()\n      }\n    }\n\n    function on_error() {\n      console.error(\"failed to load \" + url);\n    }\n\n    for (var i = 0; i < css_urls.length; i++) {\n      var url = css_urls[i];\n      const element = document.createElement(\"link\");\n      element.onload = on_load;\n      element.onerror = on_error;\n      element.rel = \"stylesheet\";\n      element.type = \"text/css\";\n      element.href = url;\n      console.debug(\"Bokeh: injecting link tag for BokehJS stylesheet: \", url);\n      document.body.appendChild(element);\n    }\n\n    const hashes = {\"https://cdn.bokeh.org/bokeh/release/bokeh-2.2.3.min.js\": \"T2yuo9Oe71Cz/I4X9Ac5+gpEa5a8PpJCDlqKYO0CfAuEszu1JrXLl8YugMqYe3sM\", \"https://cdn.bokeh.org/bokeh/release/bokeh-widgets-2.2.3.min.js\": \"98GDGJ0kOMCUMUePhksaQ/GYgB3+NH9h996V88sh3aOiUNX3N+fLXAtry6xctSZ6\", \"https://cdn.bokeh.org/bokeh/release/bokeh-tables-2.2.3.min.js\": \"89bArO+nlbP3sgakeHjCo1JYxYR5wufVgA3IbUvDY+K7w4zyxJqssu7wVnfeKCq8\"};\n\n    for (var i = 0; i < js_urls.length; i++) {\n      var url = js_urls[i];\n      var element = document.createElement('script');\n      element.onload = on_load;\n      element.onerror = on_error;\n      element.async = false;\n      element.src = url;\n      if (url in hashes) {\n        element.crossOrigin = \"anonymous\";\n        element.integrity = \"sha384-\" + hashes[url];\n      }\n      console.debug(\"Bokeh: injecting script tag for BokehJS library: \", url);\n      document.head.appendChild(element);\n    }\n  };\n\n  function inject_raw_css(css) {\n    const element = document.createElement(\"style\");\n    element.appendChild(document.createTextNode(css));\n    document.body.appendChild(element);\n  }\n\n  \n  var js_urls = [\"https://cdn.bokeh.org/bokeh/release/bokeh-2.2.3.min.js\", \"https://cdn.bokeh.org/bokeh/release/bokeh-widgets-2.2.3.min.js\", \"https://cdn.bokeh.org/bokeh/release/bokeh-tables-2.2.3.min.js\"];\n  var css_urls = [];\n  \n\n  var inline_js = [\n    function(Bokeh) {\n      Bokeh.set_log_level(\"info\");\n    },\n    function(Bokeh) {\n    \n    \n    }\n  ];\n\n  function run_inline_js() {\n    \n    if (root.Bokeh !== undefined || force === true) {\n      \n    for (var i = 0; i < inline_js.length; i++) {\n      inline_js[i].call(root, root.Bokeh);\n    }\n    if (force === true) {\n        display_loaded();\n      }} else if (Date.now() < root._bokeh_timeout) {\n      setTimeout(run_inline_js, 100);\n    } else if (!root._bokeh_failed_load) {\n      console.log(\"Bokeh: BokehJS failed to load within specified timeout.\");\n      root._bokeh_failed_load = true;\n    } else if (force !== true) {\n      var cell = $(document.getElementById(\"1001\")).parents('.cell').data().cell;\n      cell.output_area.append_execute_result(NB_LOAD_WARNING)\n    }\n\n  }\n\n  if (root._bokeh_is_loading === 0) {\n    console.debug(\"Bokeh: BokehJS loaded, going straight to plotting\");\n    run_inline_js();\n  } else {\n    load_libs(css_urls, js_urls, function() {\n      console.debug(\"Bokeh: BokehJS plotting callback run at\", now());\n      run_inline_js();\n    });\n  }\n}(window));"
     },
     "metadata": {},
     "output_type": "display_data"
    }
   ],
   "source": [
    "from mst import *\n",
    "from bokeh.io import output_notebook\n",
    "output_notebook()"
   ]
  },
  {
   "cell_type": "code",
   "execution_count": 2,
   "metadata": {},
   "outputs": [],
   "source": [
    "nodes = pd.read_csv('data/fiber_optic_nodes.csv', index_col=0)\n",
    "edges = pd.read_csv('data/fiber_optic_edges.csv', index_col=0)"
   ]
  },
  {
   "cell_type": "code",
   "execution_count": 3,
   "metadata": {},
   "outputs": [
    {
     "name": "stderr",
     "output_type": "stream",
     "text": [
      "BokehUserWarning: ColumnDataSource's columns must be of the same length. Current lengths: ('tree_edges', 0), ('tree_nodes', 1)\n"
     ]
    },
    {
     "data": {
      "text/html": [
       "\n",
       "\n",
       "\n",
       "\n",
       "\n",
       "\n",
       "  <div class=\"bk-root\" id=\"c3ef8ab1-5e37-4090-a596-03429ee4cbd5\" data-root-id=\"1078\"></div>\n"
      ]
     },
     "metadata": {},
     "output_type": "display_data"
    },
    {
     "data": {
      "application/javascript": [
       "(function(root) {\n",
       "  function embed_document(root) {\n",
       "    \n",
       "  var docs_json = {\"6339a581-5f2a-4ce1-8a2a-c6f591f40c80\":{\"roots\":{\"references\":[{\"attributes\":{\"children\":[[{\"id\":\"1002\"},0,0],[{\"id\":\"1062\"},1,0]]},\"id\":\"1078\",\"type\":\"GridBox\"},{\"attributes\":{},\"id\":\"1009\",\"type\":\"LinearScale\"},{\"attributes\":{\"align\":\"center\",\"width\":300},\"id\":\"1042\",\"type\":\"Div\"},{\"attributes\":{},\"id\":\"1018\",\"type\":\"BasicTicker\"},{\"attributes\":{\"background_fill_color\":null,\"below\":[{\"id\":\"1013\"}],\"border_fill_color\":null,\"center\":[{\"id\":\"1016\"},{\"id\":\"1020\"},{\"id\":\"1054\"}],\"left\":[{\"id\":\"1017\"}],\"outline_line_color\":null,\"plot_height\":500,\"plot_width\":900,\"renderers\":[{\"id\":\"1047\"},{\"id\":\"1052\"}],\"title\":{\"id\":\"1003\"},\"toolbar\":{\"id\":\"1028\"},\"toolbar_location\":null,\"x_range\":{\"id\":\"1005\"},\"x_scale\":{\"id\":\"1009\"},\"y_range\":{\"id\":\"1007\"},\"y_scale\":{\"id\":\"1011\"}},\"id\":\"1002\",\"subtype\":\"Figure\",\"type\":\"Plot\"},{\"attributes\":{\"fill_color\":{\"field\":\"fill_color\"},\"line_color\":{\"field\":\"line_color\"},\"size\":{\"units\":\"screen\",\"value\":12},\"x\":{\"field\":\"x\"},\"y\":{\"field\":\"y\"}},\"id\":\"1050\",\"type\":\"Circle\"},{\"attributes\":{},\"id\":\"1069\",\"type\":\"UnionRenderers\"},{\"attributes\":{\"axis\":{\"id\":\"1017\"},\"dimension\":1,\"grid_line_color\":null,\"ticker\":null},\"id\":\"1020\",\"type\":\"Grid\"},{\"attributes\":{},\"id\":\"1068\",\"type\":\"Selection\"},{\"attributes\":{},\"id\":\"1070\",\"type\":\"Selection\"},{\"attributes\":{\"data\":{\"tree_edges\":[],\"tree_nodes\":[0]},\"selected\":{\"id\":\"1075\"},\"selection_policy\":{\"id\":\"1076\"}},\"id\":\"1036\",\"type\":\"ColumnDataSource\"},{\"attributes\":{\"bottom_units\":\"screen\",\"fill_alpha\":0.5,\"fill_color\":\"lightgrey\",\"left_units\":\"screen\",\"level\":\"overlay\",\"line_alpha\":1.0,\"line_color\":\"black\",\"line_dash\":[4,4],\"line_width\":2,\"right_units\":\"screen\",\"top_units\":\"screen\"},\"id\":\"1027\",\"type\":\"BoxAnnotation\"},{\"attributes\":{\"data_source\":{\"id\":\"1038\"},\"glyph\":{\"id\":\"1044\"},\"hover_glyph\":{\"id\":\"1046\"},\"muted_glyph\":null,\"nonselection_glyph\":{\"id\":\"1045\"},\"selection_glyph\":null,\"view\":{\"id\":\"1048\"}},\"id\":\"1047\",\"type\":\"GlyphRenderer\"},{\"attributes\":{},\"id\":\"1011\",\"type\":\"LinearScale\"},{\"attributes\":{},\"id\":\"1071\",\"type\":\"UnionRenderers\"},{\"attributes\":{\"line_width\":{\"value\":5},\"xs\":{\"field\":\"xs\"},\"ys\":{\"field\":\"ys\"}},\"id\":\"1046\",\"type\":\"MultiLine\"},{\"attributes\":{\"data\":{\"fill_color\":[\"steelblue\",\"#EA8585\",\"#EA8585\",\"#EA8585\",\"#EA8585\",\"#EA8585\",\"#EA8585\",\"#EA8585\",\"#EA8585\",\"#EA8585\",\"#EA8585\",\"#EA8585\",\"#EA8585\",\"#EA8585\",\"#EA8585\",\"#EA8585\"],\"line_color\":[\"steelblue\",\"#EA8585\",\"#EA8585\",\"#EA8585\",\"#EA8585\",\"#EA8585\",\"#EA8585\",\"#EA8585\",\"#EA8585\",\"#EA8585\",\"#EA8585\",\"#EA8585\",\"#EA8585\",\"#EA8585\",\"#EA8585\",\"#EA8585\"],\"x\":[6,20,72,111,194,178,199,205,207,198,165,157,162,144,127,189],\"y\":[71,59,31,-8,-8,38,86,96,106,103,97,84,112,112,97,93]},\"selected\":{\"id\":\"1070\"},\"selection_policy\":{\"id\":\"1071\"}},\"id\":\"1037\",\"type\":\"ColumnDataSource\"},{\"attributes\":{},\"id\":\"1014\",\"type\":\"BasicTicker\"},{\"attributes\":{\"formatter\":{\"id\":\"1066\"},\"ticker\":{\"id\":\"1014\"},\"visible\":false},\"id\":\"1013\",\"type\":\"LinearAxis\"},{\"attributes\":{},\"id\":\"1073\",\"type\":\"Selection\"},{\"attributes\":{\"line_color\":{\"field\":\"line_color\"},\"line_width\":{\"value\":5},\"xs\":{\"field\":\"xs\"},\"ys\":{\"field\":\"ys\"}},\"id\":\"1045\",\"type\":\"MultiLine\"},{\"attributes\":{\"line_color\":{\"field\":\"line_color\"},\"line_width\":{\"value\":5},\"xs\":{\"field\":\"xs\"},\"ys\":{\"field\":\"ys\"}},\"id\":\"1044\",\"type\":\"MultiLine\"},{\"attributes\":{},\"id\":\"1021\",\"type\":\"PanTool\"},{\"attributes\":{},\"id\":\"1074\",\"type\":\"UnionRenderers\"},{\"attributes\":{\"source\":{\"id\":\"1038\"}},\"id\":\"1048\",\"type\":\"CDSView\"},{\"attributes\":{},\"id\":\"1022\",\"type\":\"WheelZoomTool\"},{\"attributes\":{},\"id\":\"1075\",\"type\":\"Selection\"},{\"attributes\":{\"overlay\":{\"id\":\"1027\"}},\"id\":\"1023\",\"type\":\"BoxZoomTool\"},{\"attributes\":{\"data\":{\"line_color\":[\"gray\",\"gray\",\"gray\",\"gray\",\"gray\",\"gray\",\"gray\",\"gray\",\"gray\",\"gray\",\"gray\",\"gray\",\"gray\",\"gray\",\"gray\",\"gray\",\"gray\",\"gray\",\"gray\",\"gray\",\"gray\",\"gray\",\"gray\",\"gray\",\"gray\",\"gray\",\"gray\",\"gray\"],\"u\":[0,0,1,1,2,2,2,3,3,3,4,5,5,6,6,7,7,8,9,9,10,10,11,11,11,12,12,13],\"u_pos\":[[6,71],[6,71],[20,59],[20,59],[72,31],[72,31],[72,31],[111,-8],[111,-8],[111,-8],[194,-8],[178,38],[178,38],[199,86],[199,86],[205,96],[205,96],[207,106],[198,103],[198,103],[165,97],[165,97],[157,84],[157,84],[157,84],[162,112],[162,112],[144,112]],\"v\":[1,14,2,14,3,11,14,4,5,11,5,6,11,7,15,8,9,9,10,15,11,15,12,13,14,13,14,14],\"v_pos\":[[20,59],[127,97],[72,31],[127,97],[111,-8],[157,84],[127,97],[194,-8],[178,38],[157,84],[178,38],[199,86],[157,84],[205,96],[189,93],[207,106],[198,103],[198,103],[165,97],[189,93],[157,84],[189,93],[162,112],[144,112],[127,97],[144,112],[127,97],[127,97]],\"weight\":[4,24,12,19,10,25,20,14,18,18,12,14,14,3,3,1,2,2,6,4,4,6,8,8,8,4,10,6],\"xs\":[[6,20],[6,127],[20,72],[20,127],[72,111],[72,157],[72,127],[111,194],[111,178],[111,157],[194,178],[178,199],[178,157],[199,205],[199,189],[205,207],[205,198],[207,198],[198,165],[198,189],[165,157],[165,189],[157,162],[157,144],[157,127],[162,144],[162,127],[144,127]],\"ys\":[[71,59],[71,97],[59,31],[59,97],[31,-8],[31,84],[31,97],[-8,-8],[-8,38],[-8,84],[-8,38],[38,86],[38,84],[86,96],[86,93],[96,106],[96,103],[106,103],[103,97],[103,93],[97,84],[97,93],[84,112],[84,112],[84,97],[112,112],[112,97],[112,97]]},\"selected\":{\"id\":\"1068\"},\"selection_policy\":{\"id\":\"1069\"}},\"id\":\"1038\",\"type\":\"ColumnDataSource\"},{\"attributes\":{},\"id\":\"1076\",\"type\":\"UnionRenderers\"},{\"attributes\":{},\"id\":\"1024\",\"type\":\"SaveTool\"},{\"attributes\":{},\"id\":\"1066\",\"type\":\"BasicTickFormatter\"},{\"attributes\":{},\"id\":\"1025\",\"type\":\"ResetTool\"},{\"attributes\":{\"data_source\":{\"id\":\"1037\"},\"glyph\":{\"id\":\"1050\"},\"hover_glyph\":null,\"muted_glyph\":null,\"nonselection_glyph\":{\"id\":\"1051\"},\"selection_glyph\":null,\"view\":{\"id\":\"1053\"}},\"id\":\"1052\",\"type\":\"GlyphRenderer\"},{\"attributes\":{\"end\":224.085,\"start\":-11.085},\"id\":\"1005\",\"type\":\"Range1d\"},{\"attributes\":{\"fill_color\":{\"field\":\"fill_color\"},\"line_alpha\":{\"value\":0.1},\"line_color\":{\"field\":\"line_color\"},\"size\":{\"units\":\"screen\",\"value\":12},\"x\":{\"field\":\"x\"},\"y\":{\"field\":\"y\"}},\"id\":\"1051\",\"type\":\"Circle\"},{\"attributes\":{},\"id\":\"1026\",\"type\":\"HelpTool\"},{\"attributes\":{\"active_drag\":\"auto\",\"active_inspect\":\"auto\",\"active_multi\":null,\"active_scroll\":\"auto\",\"active_tap\":\"auto\",\"logo\":null,\"tools\":[{\"id\":\"1021\"},{\"id\":\"1022\"},{\"id\":\"1023\"},{\"id\":\"1024\"},{\"id\":\"1025\"},{\"id\":\"1026\"},{\"id\":\"1057\"},{\"id\":\"1059\"}]},\"id\":\"1028\",\"type\":\"Toolbar\"},{\"attributes\":{\"args\":{\"source\":{\"id\":\"1036\"}},\"code\":\"\\n    source.data['last_index'] = cb_data.index.indices[0]\\n    \"},\"id\":\"1056\",\"type\":\"CustomJS\"},{\"attributes\":{\"source\":{\"id\":\"1037\"}},\"id\":\"1053\",\"type\":\"CDSView\"},{\"attributes\":{},\"id\":\"1064\",\"type\":\"BasicTickFormatter\"},{\"attributes\":{\"text\":\"\"},\"id\":\"1003\",\"type\":\"Title\"},{\"attributes\":{\"source\":{\"id\":\"1039\"},\"x\":{\"field\":\"x\"},\"y\":{\"field\":\"y\"}},\"id\":\"1054\",\"type\":\"LabelSet\"},{\"attributes\":{\"axis\":{\"id\":\"1013\"},\"grid_line_color\":null,\"ticker\":null},\"id\":\"1016\",\"type\":\"Grid\"},{\"attributes\":{\"callback\":{\"id\":\"1056\"},\"renderers\":[{\"id\":\"1047\"}],\"tooltips\":null},\"id\":\"1057\",\"type\":\"HoverTool\"},{\"attributes\":{\"data\":{\"text\":[4,24,12,19,10,25,20,14,18,18,12,14,14,3,3,1,2,2,6,4,4,6,8,8,8,4,10,6],\"x\":[13.0,66.5,46.0,73.5,91.5,114.5,99.5,152.5,144.5,134.0,186.0,188.5,167.5,202.0,194.0,206.0,201.5,202.5,181.5,193.5,161.0,177.0,159.5,150.5,142.0,153.0,144.5,135.5],\"y\":[65.0,84.0,45.0,78.0,11.5,57.5,64.0,-8.0,15.0,38.0,15.0,62.0,61.0,91.0,89.5,101.0,99.5,104.5,100.0,98.0,90.5,95.0,98.0,98.0,90.5,112.0,104.5,104.5]},\"selected\":{\"id\":\"1073\"},\"selection_policy\":{\"id\":\"1074\"}},\"id\":\"1039\",\"type\":\"ColumnDataSource\"},{\"attributes\":{\"args\":{\"cost\":{\"id\":\"1040\"},\"done\":{\"id\":\"1042\"},\"edges_src\":{\"id\":\"1038\"},\"error_msg\":{\"id\":\"1041\"},\"nodes_src\":{\"id\":\"1037\"},\"source\":{\"id\":\"1036\"}},\"code\":\" \\n    var i = source.data['last_index']\\n    var u = edges_src.data['u'][i]\\n    var v = edges_src.data['v'][i]\\n    var w = edges_src.data['weight'][i]\\n    var tree_nodes = source.data['tree_nodes']\\n    var tree_edges = source.data['tree_edges']\\n    \\n    var a = tree_nodes.includes(u)\\n    var b = tree_nodes.includes(v)\\n    if (( a && !b ) || ( !a && b )) {\\n        if (tree_nodes.includes(u)) {\\n            tree_nodes.push(v)\\n            nodes_src.data['line_color'][v] = 'steelblue'\\n            nodes_src.data['fill_color'][v] = 'steelblue'\\n        } else {\\n            tree_nodes.push(u)\\n            nodes_src.data['line_color'][u] = 'steelblue'\\n            nodes_src.data['fill_color'][u] = 'steelblue'\\n        }\\n        edges_src.data['line_color'][i] = 'black'\\n        tree_edges.push((u,v))\\n        var prev_cost = parseFloat(cost.text)\\n        cost.text = (prev_cost + w).toFixed(1) \\n        error_msg.text = ''\\n    } else {\\n        error_msg.text = 'You have selected an invalid edge.'\\n    }\\n    \\n    if (tree_nodes.length == nodes_src.data['x'].length) {\\n        done.text = 'done.'\\n    }\\n    \\n    source.change.emit()\\n    nodes_src.change.emit()\\n    edges_src.change.emit()\\n    \"},\"id\":\"1058\",\"type\":\"CustomJS\"},{\"attributes\":{\"align\":\"center\",\"text\":\"0.0\",\"width\":300},\"id\":\"1040\",\"type\":\"Div\"},{\"attributes\":{\"formatter\":{\"id\":\"1064\"},\"ticker\":{\"id\":\"1018\"},\"visible\":false},\"id\":\"1017\",\"type\":\"LinearAxis\"},{\"attributes\":{\"callback\":{\"id\":\"1058\"},\"renderers\":[{\"id\":\"1047\"}]},\"id\":\"1059\",\"type\":\"TapTool\"},{\"attributes\":{\"end\":122.2,\"start\":-18.200000000000003},\"id\":\"1007\",\"type\":\"Range1d\"},{\"attributes\":{\"align\":\"center\",\"width\":300},\"id\":\"1041\",\"type\":\"Div\"},{\"attributes\":{\"children\":[{\"id\":\"1040\"},{\"id\":\"1041\"},{\"id\":\"1042\"}]},\"id\":\"1062\",\"type\":\"Row\"}],\"root_ids\":[\"1078\"]},\"title\":\"Bokeh Application\",\"version\":\"2.2.3\"}};\n",
       "  var render_items = [{\"docid\":\"6339a581-5f2a-4ce1-8a2a-c6f591f40c80\",\"root_ids\":[\"1078\"],\"roots\":{\"1078\":\"c3ef8ab1-5e37-4090-a596-03429ee4cbd5\"}}];\n",
       "  root.Bokeh.embed.embed_items_notebook(docs_json, render_items);\n",
       "\n",
       "  }\n",
       "  if (root.Bokeh !== undefined) {\n",
       "    embed_document(root);\n",
       "  } else {\n",
       "    var attempts = 0;\n",
       "    var timer = setInterval(function(root) {\n",
       "      if (root.Bokeh !== undefined) {\n",
       "        clearInterval(timer);\n",
       "        embed_document(root);\n",
       "      } else {\n",
       "        attempts++;\n",
       "        if (attempts > 100) {\n",
       "          clearInterval(timer);\n",
       "          console.log(\"Bokeh: ERROR: Unable to run BokehJS code because BokehJS library is missing\");\n",
       "        }\n",
       "      }\n",
       "    }, 10, root)\n",
       "  }\n",
       "})(window);"
      ],
      "application/vnd.bokehjs_exec.v0+json": ""
     },
     "metadata": {
      "application/vnd.bokehjs_exec.v0+json": {
       "id": "1078"
      }
     },
     "output_type": "display_data"
    }
   ],
   "source": [
    "plot_create_tree(nodes, edges)"
   ]
  },
  {
   "cell_type": "code",
   "execution_count": 4,
   "metadata": {
    "scrolled": false
   },
   "outputs": [
    {
     "data": {
      "text/html": [
       "\n",
       "\n",
       "\n",
       "\n",
       "\n",
       "\n",
       "  <div class=\"bk-root\" id=\"8934e71d-7895-4599-8a63-6a6998b515ea\" data-root-id=\"1258\"></div>\n"
      ]
     },
     "metadata": {},
     "output_type": "display_data"
    },
    {
     "data": {
      "application/javascript": [
       "(function(root) {\n",
       "  function embed_document(root) {\n",
       "    \n",
       "  var docs_json = {\"49dbe0c9-63dd-4557-a943-6ae28eddb0df\":{\"roots\":{\"references\":[{\"attributes\":{\"children\":[[{\"id\":\"1163\"},0,0],[{\"id\":\"1233\"},1,0],[{\"id\":\"1234\"},2,0]]},\"id\":\"1258\",\"type\":\"GridBox\"},{\"attributes\":{\"line_color\":{\"field\":\"line_color\"},\"line_width\":{\"value\":5},\"xs\":{\"field\":\"xs\"},\"ys\":{\"field\":\"ys\"}},\"id\":\"1207\",\"type\":\"MultiLine\"},{\"attributes\":{\"source\":{\"id\":\"1201\"}},\"id\":\"1211\",\"type\":\"CDSView\"},{\"attributes\":{\"data\":{\"xs\":[],\"ys\":[]},\"selected\":{\"id\":\"1242\"},\"selection_policy\":{\"id\":\"1243\"}},\"id\":\"1198\",\"type\":\"ColumnDataSource\"},{\"attributes\":{\"data\":{\"costs\":[0,4.0,16.0,26.0,40.0,52.0,66.0,69.0,70.0,72.0,75.0,81.0,85.0,93.0,97.0,103.0],\"iteration_node_x\":[[],[6,20],[6,20,72],[6,20,72,111],[6,20,72,111,194],[6,20,72,111,194,178],[6,20,72,111,194,178,199],[6,20,72,111,194,178,199,205],[6,20,72,111,194,178,199,205,207],[6,20,72,111,194,178,199,205,207,198],[6,20,72,111,194,178,199,205,207,198,189],[6,20,72,111,194,178,199,205,207,198,165,189],[6,20,72,111,194,178,199,205,207,198,165,157,189],[6,20,72,111,194,178,199,205,207,198,165,157,162,189],[6,20,72,111,194,178,199,205,207,198,165,157,162,144,189],[6,20,72,111,194,178,199,205,207,198,165,157,162,144,127,189]],\"iteration_node_y\":[[],[71,59],[71,59,31],[71,59,31,-8],[71,59,31,-8,-8],[71,59,31,-8,-8,38],[71,59,31,-8,-8,38,86],[71,59,31,-8,-8,38,86,96],[71,59,31,-8,-8,38,86,96,106],[71,59,31,-8,-8,38,86,96,106,103],[71,59,31,-8,-8,38,86,96,106,103,93],[71,59,31,-8,-8,38,86,96,106,103,97,93],[71,59,31,-8,-8,38,86,96,106,103,97,84,93],[71,59,31,-8,-8,38,86,96,106,103,97,84,112,93],[71,59,31,-8,-8,38,86,96,106,103,97,84,112,112,93],[71,59,31,-8,-8,38,86,96,106,103,97,84,112,112,97,93]],\"iteration_xs\":[[],[[6,20]],[[6,20],[20,72]],[[6,20],[20,72],[72,111]],[[6,20],[20,72],[72,111],[111,194]],[[6,20],[20,72],[72,111],[111,194],[194,178]],[[6,20],[20,72],[72,111],[111,194],[194,178],[178,199]],[[6,20],[20,72],[72,111],[111,194],[194,178],[178,199],[199,205]],[[6,20],[20,72],[72,111],[111,194],[194,178],[178,199],[199,205],[205,207]],[[6,20],[20,72],[72,111],[111,194],[194,178],[178,199],[199,205],[205,207],[205,198]],[[6,20],[20,72],[72,111],[111,194],[194,178],[178,199],[199,205],[205,207],[205,198],[199,189]],[[6,20],[20,72],[72,111],[111,194],[194,178],[178,199],[199,205],[205,207],[205,198],[199,189],[198,165]],[[6,20],[20,72],[72,111],[111,194],[194,178],[178,199],[199,205],[205,207],[205,198],[199,189],[198,165],[165,157]],[[6,20],[20,72],[72,111],[111,194],[194,178],[178,199],[199,205],[205,207],[205,198],[199,189],[198,165],[165,157],[157,162]],[[6,20],[20,72],[72,111],[111,194],[194,178],[178,199],[199,205],[205,207],[205,198],[199,189],[198,165],[165,157],[157,162],[162,144]],[[6,20],[20,72],[72,111],[111,194],[194,178],[178,199],[199,205],[205,207],[205,198],[199,189],[198,165],[165,157],[157,162],[162,144],[144,127]]],\"iteration_ys\":[[],[[71,59]],[[71,59],[59,31]],[[71,59],[59,31],[31,-8]],[[71,59],[59,31],[31,-8],[-8,-8]],[[71,59],[59,31],[31,-8],[-8,-8],[-8,38]],[[71,59],[59,31],[31,-8],[-8,-8],[-8,38],[38,86]],[[71,59],[59,31],[31,-8],[-8,-8],[-8,38],[38,86],[86,96]],[[71,59],[59,31],[31,-8],[-8,-8],[-8,38],[38,86],[86,96],[96,106]],[[71,59],[59,31],[31,-8],[-8,-8],[-8,38],[38,86],[86,96],[96,106],[96,103]],[[71,59],[59,31],[31,-8],[-8,-8],[-8,38],[38,86],[86,96],[96,106],[96,103],[86,93]],[[71,59],[59,31],[31,-8],[-8,-8],[-8,38],[38,86],[86,96],[96,106],[96,103],[86,93],[103,97]],[[71,59],[59,31],[31,-8],[-8,-8],[-8,38],[38,86],[86,96],[96,106],[96,103],[86,93],[103,97],[97,84]],[[71,59],[59,31],[31,-8],[-8,-8],[-8,38],[38,86],[86,96],[96,106],[96,103],[86,93],[103,97],[97,84],[84,112]],[[71,59],[59,31],[31,-8],[-8,-8],[-8,38],[38,86],[86,96],[96,106],[96,103],[86,93],[103,97],[97,84],[84,112],[112,112]],[[71,59],[59,31],[31,-8],[-8,-8],[-8,38],[38,86],[86,96],[96,106],[96,103],[86,93],[103,97],[97,84],[84,112],[112,112],[112,97]]]},\"selected\":{\"id\":\"1252\"},\"selection_policy\":{\"id\":\"1253\"}},\"id\":\"1197\",\"type\":\"ColumnDataSource\"},{\"attributes\":{\"args\":{\"cost\":{\"id\":\"1204\"},\"done\":{\"id\":\"1205\"},\"n\":{\"id\":\"1203\"},\"source\":{\"id\":\"1197\"},\"tree_edge_src\":{\"id\":\"1198\"},\"tree_node_src\":{\"id\":\"1199\"}},\"code\":\"\\nif ((parseInt(n.text) + 1) < source.data['costs'].length) {\\n    n.text = (parseInt(n.text) + 1).toString()\\n}\\nvar iteration = parseInt(n.text)\\n\\n    cost.text = source.data['costs'][iteration].toFixed(1)\\n    \\n    \\n    if (iteration == source.data['costs'].length - 1) {\\n        done.text = \\\"done.\\\"\\n    } else {\\n        done.text = \\\"\\\"\\n    }\\n\\n    tree_edge_src.data['xs'] = source.data['iteration_xs'][iteration]\\n    tree_edge_src.data['ys'] = source.data['iteration_ys'][iteration]\\n    tree_node_src.data['x'] = source.data['iteration_node_x'][iteration]\\n    tree_node_src.data['y'] = source.data['iteration_node_y'][iteration]\\n    tree_node_src.change.emit()\\n    tree_edge_src.change.emit()\\n    \"},\"id\":\"1230\",\"type\":\"CustomJS\"},{\"attributes\":{},\"id\":\"1246\",\"type\":\"Selection\"},{\"attributes\":{\"button_type\":\"success\",\"icon\":null,\"js_event_callbacks\":{\"button_click\":[{\"id\":\"1232\"}]},\"label\":\"Previous\",\"sizing_mode\":\"scale_width\",\"width_policy\":\"fit\"},\"id\":\"1231\",\"type\":\"Button\"},{\"attributes\":{\"formatter\":{\"id\":\"1236\"},\"ticker\":{\"id\":\"1179\"},\"visible\":false},\"id\":\"1178\",\"type\":\"LinearAxis\"},{\"attributes\":{\"overlay\":{\"id\":\"1188\"}},\"id\":\"1184\",\"type\":\"BoxZoomTool\"},{\"attributes\":{},\"id\":\"1245\",\"type\":\"UnionRenderers\"},{\"attributes\":{\"axis\":{\"id\":\"1174\"},\"grid_line_color\":null,\"ticker\":null},\"id\":\"1177\",\"type\":\"Grid\"},{\"attributes\":{\"args\":{\"cost\":{\"id\":\"1204\"},\"done\":{\"id\":\"1205\"},\"n\":{\"id\":\"1203\"},\"source\":{\"id\":\"1197\"},\"tree_edge_src\":{\"id\":\"1198\"},\"tree_node_src\":{\"id\":\"1199\"}},\"code\":\"\\nif ((parseInt(n.text) - 1) >= 0) {\\n    n.text = (parseInt(n.text) - 1).toString()\\n}\\nvar iteration = parseInt(n.text)\\n\\n    cost.text = source.data['costs'][iteration].toFixed(1)\\n    \\n    \\n    if (iteration == source.data['costs'].length - 1) {\\n        done.text = \\\"done.\\\"\\n    } else {\\n        done.text = \\\"\\\"\\n    }\\n\\n    tree_edge_src.data['xs'] = source.data['iteration_xs'][iteration]\\n    tree_edge_src.data['ys'] = source.data['iteration_ys'][iteration]\\n    tree_node_src.data['x'] = source.data['iteration_node_x'][iteration]\\n    tree_node_src.data['y'] = source.data['iteration_node_y'][iteration]\\n    tree_node_src.change.emit()\\n    tree_edge_src.change.emit()\\n    \"},\"id\":\"1232\",\"type\":\"CustomJS\"},{\"attributes\":{\"line_alpha\":{\"value\":0.1},\"line_width\":{\"value\":5},\"xs\":{\"field\":\"xs\"},\"ys\":{\"field\":\"ys\"}},\"id\":\"1214\",\"type\":\"MultiLine\"},{\"attributes\":{},\"id\":\"1183\",\"type\":\"WheelZoomTool\"},{\"attributes\":{\"line_width\":{\"value\":5},\"xs\":{\"field\":\"xs\"},\"ys\":{\"field\":\"ys\"}},\"id\":\"1213\",\"type\":\"MultiLine\"},{\"attributes\":{\"children\":[{\"id\":\"1231\"},{\"id\":\"1229\"}],\"max_width\":900,\"sizing_mode\":\"stretch_both\"},\"id\":\"1233\",\"type\":\"Row\"},{\"attributes\":{\"data_source\":{\"id\":\"1198\"},\"glyph\":{\"id\":\"1213\"},\"hover_glyph\":null,\"muted_glyph\":null,\"nonselection_glyph\":{\"id\":\"1214\"},\"selection_glyph\":null,\"view\":{\"id\":\"1216\"}},\"id\":\"1215\",\"type\":\"GlyphRenderer\"},{\"attributes\":{},\"id\":\"1182\",\"type\":\"PanTool\"},{\"attributes\":{\"source\":{\"id\":\"1198\"}},\"id\":\"1216\",\"type\":\"CDSView\"},{\"attributes\":{\"children\":[{\"id\":\"1204\"},{\"id\":\"1205\"}]},\"id\":\"1234\",\"type\":\"Row\"},{\"attributes\":{\"fill_color\":{\"value\":\"steelblue\"},\"line_color\":{\"value\":\"steelblue\"},\"size\":{\"units\":\"screen\",\"value\":12},\"x\":{\"field\":\"x\"},\"y\":{\"field\":\"y\"}},\"id\":\"1223\",\"type\":\"Circle\"},{\"attributes\":{},\"id\":\"1186\",\"type\":\"ResetTool\"},{\"attributes\":{},\"id\":\"1236\",\"type\":\"BasicTickFormatter\"},{\"attributes\":{\"button_type\":\"success\",\"icon\":null,\"js_event_callbacks\":{\"button_click\":[{\"id\":\"1230\"}]},\"label\":\"Next\",\"sizing_mode\":\"scale_width\",\"width_policy\":\"fit\"},\"id\":\"1229\",\"type\":\"Button\"},{\"attributes\":{\"data_source\":{\"id\":\"1200\"},\"glyph\":{\"id\":\"1218\"},\"hover_glyph\":null,\"muted_glyph\":null,\"nonselection_glyph\":{\"id\":\"1219\"},\"selection_glyph\":null,\"view\":{\"id\":\"1221\"}},\"id\":\"1220\",\"type\":\"GlyphRenderer\"},{\"attributes\":{},\"id\":\"1185\",\"type\":\"SaveTool\"},{\"attributes\":{},\"id\":\"1238\",\"type\":\"BasicTickFormatter\"},{\"attributes\":{},\"id\":\"1240\",\"type\":\"Selection\"},{\"attributes\":{},\"id\":\"1187\",\"type\":\"HelpTool\"},{\"attributes\":{\"data\":{\"fill_color\":[\"#EA8585\",\"#EA8585\",\"#EA8585\",\"#EA8585\",\"#EA8585\",\"#EA8585\",\"#EA8585\",\"#EA8585\",\"#EA8585\",\"#EA8585\",\"#EA8585\",\"#EA8585\",\"#EA8585\",\"#EA8585\",\"#EA8585\",\"#EA8585\"],\"line_color\":[\"#EA8585\",\"#EA8585\",\"#EA8585\",\"#EA8585\",\"#EA8585\",\"#EA8585\",\"#EA8585\",\"#EA8585\",\"#EA8585\",\"#EA8585\",\"#EA8585\",\"#EA8585\",\"#EA8585\",\"#EA8585\",\"#EA8585\",\"#EA8585\"],\"x\":[6,20,72,111,194,178,199,205,207,198,165,157,162,144,127,189],\"y\":[71,59,31,-8,-8,38,86,96,106,103,97,84,112,112,97,93]},\"selected\":{\"id\":\"1244\"},\"selection_policy\":{\"id\":\"1245\"}},\"id\":\"1200\",\"type\":\"ColumnDataSource\"},{\"attributes\":{\"data\":{\"line_color\":[\"gray\",\"gray\",\"gray\",\"gray\",\"gray\",\"gray\",\"gray\",\"gray\",\"gray\",\"gray\",\"gray\",\"gray\",\"gray\",\"gray\",\"gray\",\"gray\",\"gray\",\"gray\",\"gray\",\"gray\",\"gray\",\"gray\",\"gray\",\"gray\",\"gray\",\"gray\",\"gray\",\"gray\"],\"u\":[0,0,1,1,2,2,2,3,3,3,4,5,5,6,6,7,7,8,9,9,10,10,11,11,11,12,12,13],\"u_pos\":[[6,71],[6,71],[20,59],[20,59],[72,31],[72,31],[72,31],[111,-8],[111,-8],[111,-8],[194,-8],[178,38],[178,38],[199,86],[199,86],[205,96],[205,96],[207,106],[198,103],[198,103],[165,97],[165,97],[157,84],[157,84],[157,84],[162,112],[162,112],[144,112]],\"v\":[1,14,2,14,3,11,14,4,5,11,5,6,11,7,15,8,9,9,10,15,11,15,12,13,14,13,14,14],\"v_pos\":[[20,59],[127,97],[72,31],[127,97],[111,-8],[157,84],[127,97],[194,-8],[178,38],[157,84],[178,38],[199,86],[157,84],[205,96],[189,93],[207,106],[198,103],[198,103],[165,97],[189,93],[157,84],[189,93],[162,112],[144,112],[127,97],[144,112],[127,97],[127,97]],\"weight\":[4,24,12,19,10,25,20,14,18,18,12,14,14,3,3,1,2,2,6,4,4,6,8,8,8,4,10,6],\"xs\":[[6,20],[6,127],[20,72],[20,127],[72,111],[72,157],[72,127],[111,194],[111,178],[111,157],[194,178],[178,199],[178,157],[199,205],[199,189],[205,207],[205,198],[207,198],[198,165],[198,189],[165,157],[165,189],[157,162],[157,144],[157,127],[162,144],[162,127],[144,127]],\"ys\":[[71,59],[71,97],[59,31],[59,97],[31,-8],[31,84],[31,97],[-8,-8],[-8,38],[-8,84],[-8,38],[38,86],[38,84],[86,96],[86,93],[96,106],[96,103],[106,103],[103,97],[103,93],[97,84],[97,93],[84,112],[84,112],[84,97],[112,112],[112,97],[112,97]]},\"selected\":{\"id\":\"1240\"},\"selection_policy\":{\"id\":\"1241\"}},\"id\":\"1201\",\"type\":\"ColumnDataSource\"},{\"attributes\":{\"fill_color\":{\"field\":\"fill_color\"},\"line_alpha\":{\"value\":0.1},\"line_color\":{\"field\":\"line_color\"},\"size\":{\"units\":\"screen\",\"value\":12},\"x\":{\"field\":\"x\"},\"y\":{\"field\":\"y\"}},\"id\":\"1219\",\"type\":\"Circle\"},{\"attributes\":{\"source\":{\"id\":\"1200\"}},\"id\":\"1221\",\"type\":\"CDSView\"},{\"attributes\":{},\"id\":\"1241\",\"type\":\"UnionRenderers\"},{\"attributes\":{},\"id\":\"1243\",\"type\":\"UnionRenderers\"},{\"attributes\":{},\"id\":\"1244\",\"type\":\"Selection\"},{\"attributes\":{},\"id\":\"1247\",\"type\":\"UnionRenderers\"},{\"attributes\":{\"active_drag\":\"auto\",\"active_inspect\":\"auto\",\"active_multi\":null,\"active_scroll\":\"auto\",\"active_tap\":\"auto\",\"logo\":null,\"tools\":[{\"id\":\"1182\"},{\"id\":\"1183\"},{\"id\":\"1184\"},{\"id\":\"1185\"},{\"id\":\"1186\"},{\"id\":\"1187\"}]},\"id\":\"1189\",\"type\":\"Toolbar\"},{\"attributes\":{\"align\":\"center\",\"text\":\"0\",\"width\":900},\"id\":\"1203\",\"type\":\"Div\"},{\"attributes\":{\"fill_color\":{\"field\":\"fill_color\"},\"line_color\":{\"field\":\"line_color\"},\"size\":{\"units\":\"screen\",\"value\":12},\"x\":{\"field\":\"x\"},\"y\":{\"field\":\"y\"}},\"id\":\"1218\",\"type\":\"Circle\"},{\"attributes\":{\"text\":\"\"},\"id\":\"1164\",\"type\":\"Title\"},{\"attributes\":{\"data\":{\"x\":[],\"y\":[]},\"selected\":{\"id\":\"1246\"},\"selection_policy\":{\"id\":\"1247\"}},\"id\":\"1199\",\"type\":\"ColumnDataSource\"},{\"attributes\":{\"end\":224.085,\"start\":-11.085},\"id\":\"1166\",\"type\":\"Range1d\"},{\"attributes\":{\"data\":{\"text\":[4,24,12,19,10,25,20,14,18,18,12,14,14,3,3,1,2,2,6,4,4,6,8,8,8,4,10,6],\"x\":[13.0,66.5,46.0,73.5,91.5,114.5,99.5,152.5,144.5,134.0,186.0,188.5,167.5,202.0,194.0,206.0,201.5,202.5,181.5,193.5,161.0,177.0,159.5,150.5,142.0,153.0,144.5,135.5],\"y\":[65.0,84.0,45.0,78.0,11.5,57.5,64.0,-8.0,15.0,38.0,15.0,62.0,61.0,91.0,89.5,101.0,99.5,104.5,100.0,98.0,90.5,95.0,98.0,98.0,90.5,112.0,104.5,104.5]},\"selected\":{\"id\":\"1249\"},\"selection_policy\":{\"id\":\"1250\"}},\"id\":\"1202\",\"type\":\"ColumnDataSource\"},{\"attributes\":{},\"id\":\"1175\",\"type\":\"BasicTicker\"},{\"attributes\":{},\"id\":\"1249\",\"type\":\"Selection\"},{\"attributes\":{\"data_source\":{\"id\":\"1199\"},\"glyph\":{\"id\":\"1223\"},\"hover_glyph\":null,\"muted_glyph\":null,\"nonselection_glyph\":{\"id\":\"1224\"},\"selection_glyph\":null,\"view\":{\"id\":\"1226\"}},\"id\":\"1225\",\"type\":\"GlyphRenderer\"},{\"attributes\":{},\"id\":\"1250\",\"type\":\"UnionRenderers\"},{\"attributes\":{\"bottom_units\":\"screen\",\"fill_alpha\":0.5,\"fill_color\":\"lightgrey\",\"left_units\":\"screen\",\"level\":\"overlay\",\"line_alpha\":1.0,\"line_color\":\"black\",\"line_dash\":[4,4],\"line_width\":2,\"right_units\":\"screen\",\"top_units\":\"screen\"},\"id\":\"1188\",\"type\":\"BoxAnnotation\"},{\"attributes\":{\"align\":\"center\",\"text\":\"0\",\"width\":450},\"id\":\"1204\",\"type\":\"Div\"},{\"attributes\":{\"background_fill_color\":null,\"below\":[{\"id\":\"1174\"}],\"border_fill_color\":null,\"center\":[{\"id\":\"1177\"},{\"id\":\"1181\"},{\"id\":\"1227\"}],\"left\":[{\"id\":\"1178\"}],\"outline_line_color\":null,\"plot_height\":500,\"plot_width\":900,\"renderers\":[{\"id\":\"1210\"},{\"id\":\"1215\"},{\"id\":\"1220\"},{\"id\":\"1225\"}],\"title\":{\"id\":\"1164\"},\"toolbar\":{\"id\":\"1189\"},\"toolbar_location\":null,\"x_range\":{\"id\":\"1166\"},\"x_scale\":{\"id\":\"1170\"},\"y_range\":{\"id\":\"1168\"},\"y_scale\":{\"id\":\"1172\"}},\"id\":\"1163\",\"subtype\":\"Figure\",\"type\":\"Plot\"},{\"attributes\":{\"align\":\"center\",\"width\":450},\"id\":\"1205\",\"type\":\"Div\"},{\"attributes\":{},\"id\":\"1252\",\"type\":\"Selection\"},{\"attributes\":{\"formatter\":{\"id\":\"1238\"},\"ticker\":{\"id\":\"1175\"},\"visible\":false},\"id\":\"1174\",\"type\":\"LinearAxis\"},{\"attributes\":{\"fill_alpha\":{\"value\":0.1},\"fill_color\":{\"value\":\"steelblue\"},\"line_alpha\":{\"value\":0.1},\"line_color\":{\"value\":\"steelblue\"},\"size\":{\"units\":\"screen\",\"value\":12},\"x\":{\"field\":\"x\"},\"y\":{\"field\":\"y\"}},\"id\":\"1224\",\"type\":\"Circle\"},{\"attributes\":{\"end\":122.2,\"start\":-18.200000000000003},\"id\":\"1168\",\"type\":\"Range1d\"},{\"attributes\":{},\"id\":\"1253\",\"type\":\"UnionRenderers\"},{\"attributes\":{\"data_source\":{\"id\":\"1201\"},\"glyph\":{\"id\":\"1207\"},\"hover_glyph\":{\"id\":\"1209\"},\"muted_glyph\":null,\"nonselection_glyph\":{\"id\":\"1208\"},\"selection_glyph\":null,\"view\":{\"id\":\"1211\"}},\"id\":\"1210\",\"type\":\"GlyphRenderer\"},{\"attributes\":{\"source\":{\"id\":\"1199\"}},\"id\":\"1226\",\"type\":\"CDSView\"},{\"attributes\":{\"source\":{\"id\":\"1202\"},\"x\":{\"field\":\"x\"},\"y\":{\"field\":\"y\"}},\"id\":\"1227\",\"type\":\"LabelSet\"},{\"attributes\":{},\"id\":\"1172\",\"type\":\"LinearScale\"},{\"attributes\":{},\"id\":\"1242\",\"type\":\"Selection\"},{\"attributes\":{\"line_color\":{\"field\":\"line_color\"},\"line_width\":{\"value\":5},\"xs\":{\"field\":\"xs\"},\"ys\":{\"field\":\"ys\"}},\"id\":\"1208\",\"type\":\"MultiLine\"},{\"attributes\":{\"axis\":{\"id\":\"1178\"},\"dimension\":1,\"grid_line_color\":null,\"ticker\":null},\"id\":\"1181\",\"type\":\"Grid\"},{\"attributes\":{},\"id\":\"1170\",\"type\":\"LinearScale\"},{\"attributes\":{\"line_width\":{\"value\":5},\"xs\":{\"field\":\"xs\"},\"ys\":{\"field\":\"ys\"}},\"id\":\"1209\",\"type\":\"MultiLine\"},{\"attributes\":{},\"id\":\"1179\",\"type\":\"BasicTicker\"}],\"root_ids\":[\"1258\"]},\"title\":\"Bokeh Application\",\"version\":\"2.2.3\"}};\n",
       "  var render_items = [{\"docid\":\"49dbe0c9-63dd-4557-a943-6ae28eddb0df\",\"root_ids\":[\"1258\"],\"roots\":{\"1258\":\"8934e71d-7895-4599-8a63-6a6998b515ea\"}}];\n",
       "  root.Bokeh.embed.embed_items_notebook(docs_json, render_items);\n",
       "\n",
       "  }\n",
       "  if (root.Bokeh !== undefined) {\n",
       "    embed_document(root);\n",
       "  } else {\n",
       "    var attempts = 0;\n",
       "    var timer = setInterval(function(root) {\n",
       "      if (root.Bokeh !== undefined) {\n",
       "        clearInterval(timer);\n",
       "        embed_document(root);\n",
       "      } else {\n",
       "        attempts++;\n",
       "        if (attempts > 100) {\n",
       "          clearInterval(timer);\n",
       "          console.log(\"Bokeh: ERROR: Unable to run BokehJS code because BokehJS library is missing\");\n",
       "        }\n",
       "      }\n",
       "    }, 10, root)\n",
       "  }\n",
       "})(window);"
      ],
      "application/vnd.bokehjs_exec.v0+json": ""
     },
     "metadata": {
      "application/vnd.bokehjs_exec.v0+json": {
       "id": "1258"
      }
     },
     "output_type": "display_data"
    }
   ],
   "source": [
    "plot_mst_algorithm(nodes, edges, 'prims')"
   ]
  },
  {
   "cell_type": "code",
   "execution_count": 5,
   "metadata": {
    "scrolled": false
   },
   "outputs": [
    {
     "data": {
      "text/html": [
       "\n",
       "\n",
       "\n",
       "\n",
       "\n",
       "\n",
       "  <div class=\"bk-root\" id=\"75b60996-58c7-4bc5-8ac1-fc127441b250\" data-root-id=\"1476\"></div>\n"
      ]
     },
     "metadata": {},
     "output_type": "display_data"
    },
    {
     "data": {
      "application/javascript": [
       "(function(root) {\n",
       "  function embed_document(root) {\n",
       "    \n",
       "  var docs_json = {\"4ef8f4ec-b54e-41e3-b83a-6d8ad91ea7ba\":{\"roots\":{\"references\":[{\"attributes\":{\"children\":[[{\"id\":\"1381\"},0,0],[{\"id\":\"1451\"},1,0],[{\"id\":\"1452\"},2,0]]},\"id\":\"1476\",\"type\":\"GridBox\"},{\"attributes\":{\"data_source\":{\"id\":\"1419\"},\"glyph\":{\"id\":\"1425\"},\"hover_glyph\":{\"id\":\"1427\"},\"muted_glyph\":null,\"nonselection_glyph\":{\"id\":\"1426\"},\"selection_glyph\":null,\"view\":{\"id\":\"1429\"}},\"id\":\"1428\",\"type\":\"GlyphRenderer\"},{\"attributes\":{},\"id\":\"1393\",\"type\":\"BasicTicker\"},{\"attributes\":{},\"id\":\"1471\",\"type\":\"UnionRenderers\"},{\"attributes\":{\"axis\":{\"id\":\"1392\"},\"grid_line_color\":null,\"ticker\":null},\"id\":\"1395\",\"type\":\"Grid\"},{\"attributes\":{\"bottom_units\":\"screen\",\"fill_alpha\":0.5,\"fill_color\":\"lightgrey\",\"left_units\":\"screen\",\"level\":\"overlay\",\"line_alpha\":1.0,\"line_color\":\"black\",\"line_dash\":[4,4],\"line_width\":2,\"right_units\":\"screen\",\"top_units\":\"screen\"},\"id\":\"1406\",\"type\":\"BoxAnnotation\"},{\"attributes\":{\"fill_alpha\":{\"value\":0.1},\"fill_color\":{\"value\":\"steelblue\"},\"line_alpha\":{\"value\":0.1},\"line_color\":{\"value\":\"steelblue\"},\"size\":{\"units\":\"screen\",\"value\":12},\"x\":{\"field\":\"x\"},\"y\":{\"field\":\"y\"}},\"id\":\"1442\",\"type\":\"Circle\"},{\"attributes\":{},\"id\":\"1467\",\"type\":\"Selection\"},{\"attributes\":{\"formatter\":{\"id\":\"1454\"},\"ticker\":{\"id\":\"1397\"},\"visible\":false},\"id\":\"1396\",\"type\":\"LinearAxis\"},{\"attributes\":{\"line_color\":{\"field\":\"line_color\"},\"line_width\":{\"value\":5},\"xs\":{\"field\":\"xs\"},\"ys\":{\"field\":\"ys\"}},\"id\":\"1426\",\"type\":\"MultiLine\"},{\"attributes\":{\"source\":{\"id\":\"1417\"}},\"id\":\"1444\",\"type\":\"CDSView\"},{\"attributes\":{\"fill_color\":{\"value\":\"steelblue\"},\"line_color\":{\"value\":\"steelblue\"},\"size\":{\"units\":\"screen\",\"value\":12},\"x\":{\"field\":\"x\"},\"y\":{\"field\":\"y\"}},\"id\":\"1441\",\"type\":\"Circle\"},{\"attributes\":{},\"id\":\"1397\",\"type\":\"BasicTicker\"},{\"attributes\":{},\"id\":\"1470\",\"type\":\"Selection\"},{\"attributes\":{\"source\":{\"id\":\"1419\"}},\"id\":\"1429\",\"type\":\"CDSView\"},{\"attributes\":{\"end\":122.2,\"start\":-18.200000000000003},\"id\":\"1386\",\"type\":\"Range1d\"},{\"attributes\":{\"data\":{\"xs\":[],\"ys\":[]},\"selected\":{\"id\":\"1460\"},\"selection_policy\":{\"id\":\"1461\"}},\"id\":\"1416\",\"type\":\"ColumnDataSource\"},{\"attributes\":{\"axis\":{\"id\":\"1396\"},\"dimension\":1,\"grid_line_color\":null,\"ticker\":null},\"id\":\"1399\",\"type\":\"Grid\"},{\"attributes\":{},\"id\":\"1460\",\"type\":\"Selection\"},{\"attributes\":{\"data\":{\"costs\":[0,1.0,3.0,6.0,9.0,13.0,17.0,21.0,27.0,33.0,41.0,51.0,63.0,75.0,89.0,103.0],\"iteration_node_x\":[[],[207,205],[207,198,205],[207,198,199,205],[199,205,207,198,189],[6,20,199,205,207,198,189],[6,20,199,205,207,198,165,157,189],[6,20,199,205,207,198,165,157,162,144,189],[6,20,199,205,207,198,165,157,162,144,189],[6,20,199,205,207,198,165,157,162,144,127,189],[6,20,199,205,207,198,165,157,162,144,127,189],[6,20,72,111,199,205,207,198,165,157,162,144,127,189],[6,20,72,111,199,205,207,198,165,157,162,144,127,189],[6,20,72,111,194,178,199,205,207,198,165,157,162,144,127,189],[6,20,72,111,194,178,199,205,207,198,165,157,162,144,127,189],[6,20,72,111,194,178,199,205,207,198,165,157,162,144,127,189]],\"iteration_node_y\":[[],[106,96],[106,103,96],[106,103,86,96],[86,96,106,103,93],[71,59,86,96,106,103,93],[71,59,86,96,106,103,97,84,93],[71,59,86,96,106,103,97,84,112,112,93],[71,59,86,96,106,103,97,84,112,112,93],[71,59,86,96,106,103,97,84,112,112,97,93],[71,59,86,96,106,103,97,84,112,112,97,93],[71,59,31,-8,86,96,106,103,97,84,112,112,97,93],[71,59,31,-8,86,96,106,103,97,84,112,112,97,93],[71,59,31,-8,-8,38,86,96,106,103,97,84,112,112,97,93],[71,59,31,-8,-8,38,86,96,106,103,97,84,112,112,97,93],[71,59,31,-8,-8,38,86,96,106,103,97,84,112,112,97,93]],\"iteration_xs\":[[],[[207,205]],[[207,205],[198,205]],[[207,205],[198,205],[205,199]],[[207,205],[198,205],[205,199],[189,199]],[[207,205],[198,205],[205,199],[189,199],[20,6]],[[207,205],[198,205],[205,199],[189,199],[20,6],[157,165]],[[207,205],[198,205],[205,199],[189,199],[20,6],[157,165],[144,162]],[[207,205],[198,205],[205,199],[189,199],[20,6],[157,165],[144,162],[165,198]],[[207,205],[198,205],[205,199],[189,199],[20,6],[157,165],[144,162],[165,198],[127,144]],[[207,205],[198,205],[205,199],[189,199],[20,6],[157,165],[144,162],[165,198],[127,144],[162,157]],[[207,205],[198,205],[205,199],[189,199],[20,6],[157,165],[144,162],[165,198],[127,144],[162,157],[111,72]],[[207,205],[198,205],[205,199],[189,199],[20,6],[157,165],[144,162],[165,198],[127,144],[162,157],[111,72],[72,20]],[[207,205],[198,205],[205,199],[189,199],[20,6],[157,165],[144,162],[165,198],[127,144],[162,157],[111,72],[72,20],[178,194]],[[207,205],[198,205],[205,199],[189,199],[20,6],[157,165],[144,162],[165,198],[127,144],[162,157],[111,72],[72,20],[178,194],[194,111]],[[207,205],[198,205],[205,199],[189,199],[20,6],[157,165],[144,162],[165,198],[127,144],[162,157],[111,72],[72,20],[178,194],[194,111],[199,178]]],\"iteration_ys\":[[],[[106,96]],[[106,96],[103,96]],[[106,96],[103,96],[96,86]],[[106,96],[103,96],[96,86],[93,86]],[[106,96],[103,96],[96,86],[93,86],[59,71]],[[106,96],[103,96],[96,86],[93,86],[59,71],[84,97]],[[106,96],[103,96],[96,86],[93,86],[59,71],[84,97],[112,112]],[[106,96],[103,96],[96,86],[93,86],[59,71],[84,97],[112,112],[97,103]],[[106,96],[103,96],[96,86],[93,86],[59,71],[84,97],[112,112],[97,103],[97,112]],[[106,96],[103,96],[96,86],[93,86],[59,71],[84,97],[112,112],[97,103],[97,112],[112,84]],[[106,96],[103,96],[96,86],[93,86],[59,71],[84,97],[112,112],[97,103],[97,112],[112,84],[-8,31]],[[106,96],[103,96],[96,86],[93,86],[59,71],[84,97],[112,112],[97,103],[97,112],[112,84],[-8,31],[31,59]],[[106,96],[103,96],[96,86],[93,86],[59,71],[84,97],[112,112],[97,103],[97,112],[112,84],[-8,31],[31,59],[38,-8]],[[106,96],[103,96],[96,86],[93,86],[59,71],[84,97],[112,112],[97,103],[97,112],[112,84],[-8,31],[31,59],[38,-8],[-8,-8]],[[106,96],[103,96],[96,86],[93,86],[59,71],[84,97],[112,112],[97,103],[97,112],[112,84],[-8,31],[31,59],[38,-8],[-8,-8],[86,38]]]},\"selected\":{\"id\":\"1470\"},\"selection_policy\":{\"id\":\"1471\"}},\"id\":\"1415\",\"type\":\"ColumnDataSource\"},{\"attributes\":{\"text\":\"\"},\"id\":\"1382\",\"type\":\"Title\"},{\"attributes\":{},\"id\":\"1388\",\"type\":\"LinearScale\"},{\"attributes\":{\"line_width\":{\"value\":5},\"xs\":{\"field\":\"xs\"},\"ys\":{\"field\":\"ys\"}},\"id\":\"1427\",\"type\":\"MultiLine\"},{\"attributes\":{\"data\":{\"x\":[],\"y\":[]},\"selected\":{\"id\":\"1464\"},\"selection_policy\":{\"id\":\"1465\"}},\"id\":\"1417\",\"type\":\"ColumnDataSource\"},{\"attributes\":{\"background_fill_color\":null,\"below\":[{\"id\":\"1392\"}],\"border_fill_color\":null,\"center\":[{\"id\":\"1395\"},{\"id\":\"1399\"},{\"id\":\"1445\"}],\"left\":[{\"id\":\"1396\"}],\"outline_line_color\":null,\"plot_height\":500,\"plot_width\":900,\"renderers\":[{\"id\":\"1428\"},{\"id\":\"1433\"},{\"id\":\"1438\"},{\"id\":\"1443\"}],\"title\":{\"id\":\"1382\"},\"toolbar\":{\"id\":\"1407\"},\"toolbar_location\":null,\"x_range\":{\"id\":\"1384\"},\"x_scale\":{\"id\":\"1388\"},\"y_range\":{\"id\":\"1386\"},\"y_scale\":{\"id\":\"1390\"}},\"id\":\"1381\",\"subtype\":\"Figure\",\"type\":\"Plot\"},{\"attributes\":{\"children\":[{\"id\":\"1422\"},{\"id\":\"1423\"}]},\"id\":\"1452\",\"type\":\"Row\"},{\"attributes\":{\"args\":{\"cost\":{\"id\":\"1422\"},\"done\":{\"id\":\"1423\"},\"n\":{\"id\":\"1421\"},\"source\":{\"id\":\"1415\"},\"tree_edge_src\":{\"id\":\"1416\"},\"tree_node_src\":{\"id\":\"1417\"}},\"code\":\"\\nif ((parseInt(n.text) + 1) < source.data['costs'].length) {\\n    n.text = (parseInt(n.text) + 1).toString()\\n}\\nvar iteration = parseInt(n.text)\\n\\n    cost.text = source.data['costs'][iteration].toFixed(1)\\n    \\n    \\n    if (iteration == source.data['costs'].length - 1) {\\n        done.text = \\\"done.\\\"\\n    } else {\\n        done.text = \\\"\\\"\\n    }\\n\\n    tree_edge_src.data['xs'] = source.data['iteration_xs'][iteration]\\n    tree_edge_src.data['ys'] = source.data['iteration_ys'][iteration]\\n    tree_node_src.data['x'] = source.data['iteration_node_x'][iteration]\\n    tree_node_src.data['y'] = source.data['iteration_node_y'][iteration]\\n    tree_node_src.change.emit()\\n    tree_edge_src.change.emit()\\n    \"},\"id\":\"1448\",\"type\":\"CustomJS\"},{\"attributes\":{\"args\":{\"cost\":{\"id\":\"1422\"},\"done\":{\"id\":\"1423\"},\"n\":{\"id\":\"1421\"},\"source\":{\"id\":\"1415\"},\"tree_edge_src\":{\"id\":\"1416\"},\"tree_node_src\":{\"id\":\"1417\"}},\"code\":\"\\nif ((parseInt(n.text) - 1) >= 0) {\\n    n.text = (parseInt(n.text) - 1).toString()\\n}\\nvar iteration = parseInt(n.text)\\n\\n    cost.text = source.data['costs'][iteration].toFixed(1)\\n    \\n    \\n    if (iteration == source.data['costs'].length - 1) {\\n        done.text = \\\"done.\\\"\\n    } else {\\n        done.text = \\\"\\\"\\n    }\\n\\n    tree_edge_src.data['xs'] = source.data['iteration_xs'][iteration]\\n    tree_edge_src.data['ys'] = source.data['iteration_ys'][iteration]\\n    tree_node_src.data['x'] = source.data['iteration_node_x'][iteration]\\n    tree_node_src.data['y'] = source.data['iteration_node_y'][iteration]\\n    tree_node_src.change.emit()\\n    tree_edge_src.change.emit()\\n    \"},\"id\":\"1450\",\"type\":\"CustomJS\"},{\"attributes\":{\"button_type\":\"success\",\"icon\":null,\"js_event_callbacks\":{\"button_click\":[{\"id\":\"1450\"}]},\"label\":\"Previous\",\"sizing_mode\":\"scale_width\",\"width_policy\":\"fit\"},\"id\":\"1449\",\"type\":\"Button\"},{\"attributes\":{\"data\":{\"line_color\":[\"gray\",\"gray\",\"gray\",\"gray\",\"gray\",\"gray\",\"gray\",\"gray\",\"gray\",\"gray\",\"gray\",\"gray\",\"gray\",\"gray\",\"gray\",\"gray\",\"gray\",\"gray\",\"gray\",\"gray\",\"gray\",\"gray\",\"gray\",\"gray\",\"gray\",\"gray\",\"gray\",\"gray\"],\"u\":[0,0,1,1,2,2,2,3,3,3,4,5,5,6,6,7,7,8,9,9,10,10,11,11,11,12,12,13],\"u_pos\":[[6,71],[6,71],[20,59],[20,59],[72,31],[72,31],[72,31],[111,-8],[111,-8],[111,-8],[194,-8],[178,38],[178,38],[199,86],[199,86],[205,96],[205,96],[207,106],[198,103],[198,103],[165,97],[165,97],[157,84],[157,84],[157,84],[162,112],[162,112],[144,112]],\"v\":[1,14,2,14,3,11,14,4,5,11,5,6,11,7,15,8,9,9,10,15,11,15,12,13,14,13,14,14],\"v_pos\":[[20,59],[127,97],[72,31],[127,97],[111,-8],[157,84],[127,97],[194,-8],[178,38],[157,84],[178,38],[199,86],[157,84],[205,96],[189,93],[207,106],[198,103],[198,103],[165,97],[189,93],[157,84],[189,93],[162,112],[144,112],[127,97],[144,112],[127,97],[127,97]],\"weight\":[4,24,12,19,10,25,20,14,18,18,12,14,14,3,3,1,2,2,6,4,4,6,8,8,8,4,10,6],\"xs\":[[6,20],[6,127],[20,72],[20,127],[72,111],[72,157],[72,127],[111,194],[111,178],[111,157],[194,178],[178,199],[178,157],[199,205],[199,189],[205,207],[205,198],[207,198],[198,165],[198,189],[165,157],[165,189],[157,162],[157,144],[157,127],[162,144],[162,127],[144,127]],\"ys\":[[71,59],[71,97],[59,31],[59,97],[31,-8],[31,84],[31,97],[-8,-8],[-8,38],[-8,84],[-8,38],[38,86],[38,84],[86,96],[86,93],[96,106],[96,103],[106,103],[103,97],[103,93],[97,84],[97,93],[84,112],[84,112],[84,97],[112,112],[112,97],[112,97]]},\"selected\":{\"id\":\"1458\"},\"selection_policy\":{\"id\":\"1459\"}},\"id\":\"1419\",\"type\":\"ColumnDataSource\"},{\"attributes\":{},\"id\":\"1400\",\"type\":\"PanTool\"},{\"attributes\":{},\"id\":\"1463\",\"type\":\"UnionRenderers\"},{\"attributes\":{\"data_source\":{\"id\":\"1416\"},\"glyph\":{\"id\":\"1431\"},\"hover_glyph\":null,\"muted_glyph\":null,\"nonselection_glyph\":{\"id\":\"1432\"},\"selection_glyph\":null,\"view\":{\"id\":\"1434\"}},\"id\":\"1433\",\"type\":\"GlyphRenderer\"},{\"attributes\":{},\"id\":\"1401\",\"type\":\"WheelZoomTool\"},{\"attributes\":{\"line_alpha\":{\"value\":0.1},\"line_width\":{\"value\":5},\"xs\":{\"field\":\"xs\"},\"ys\":{\"field\":\"ys\"}},\"id\":\"1432\",\"type\":\"MultiLine\"},{\"attributes\":{\"children\":[{\"id\":\"1449\"},{\"id\":\"1447\"}],\"max_width\":900,\"sizing_mode\":\"stretch_both\"},\"id\":\"1451\",\"type\":\"Row\"},{\"attributes\":{\"line_width\":{\"value\":5},\"xs\":{\"field\":\"xs\"},\"ys\":{\"field\":\"ys\"}},\"id\":\"1431\",\"type\":\"MultiLine\"},{\"attributes\":{\"overlay\":{\"id\":\"1406\"}},\"id\":\"1402\",\"type\":\"BoxZoomTool\"},{\"attributes\":{\"fill_color\":{\"field\":\"fill_color\"},\"line_alpha\":{\"value\":0.1},\"line_color\":{\"field\":\"line_color\"},\"size\":{\"units\":\"screen\",\"value\":12},\"x\":{\"field\":\"x\"},\"y\":{\"field\":\"y\"}},\"id\":\"1437\",\"type\":\"Circle\"},{\"attributes\":{},\"id\":\"1390\",\"type\":\"LinearScale\"},{\"attributes\":{\"source\":{\"id\":\"1416\"}},\"id\":\"1434\",\"type\":\"CDSView\"},{\"attributes\":{},\"id\":\"1403\",\"type\":\"SaveTool\"},{\"attributes\":{},\"id\":\"1456\",\"type\":\"BasicTickFormatter\"},{\"attributes\":{},\"id\":\"1404\",\"type\":\"ResetTool\"},{\"attributes\":{\"data\":{\"text\":[4,24,12,19,10,25,20,14,18,18,12,14,14,3,3,1,2,2,6,4,4,6,8,8,8,4,10,6],\"x\":[13.0,66.5,46.0,73.5,91.5,114.5,99.5,152.5,144.5,134.0,186.0,188.5,167.5,202.0,194.0,206.0,201.5,202.5,181.5,193.5,161.0,177.0,159.5,150.5,142.0,153.0,144.5,135.5],\"y\":[65.0,84.0,45.0,78.0,11.5,57.5,64.0,-8.0,15.0,38.0,15.0,62.0,61.0,91.0,89.5,101.0,99.5,104.5,100.0,98.0,90.5,95.0,98.0,98.0,90.5,112.0,104.5,104.5]},\"selected\":{\"id\":\"1467\"},\"selection_policy\":{\"id\":\"1468\"}},\"id\":\"1420\",\"type\":\"ColumnDataSource\"},{\"attributes\":{\"end\":224.085,\"start\":-11.085},\"id\":\"1384\",\"type\":\"Range1d\"},{\"attributes\":{},\"id\":\"1454\",\"type\":\"BasicTickFormatter\"},{\"attributes\":{},\"id\":\"1405\",\"type\":\"HelpTool\"},{\"attributes\":{},\"id\":\"1462\",\"type\":\"Selection\"},{\"attributes\":{\"align\":\"center\",\"text\":\"0\",\"width\":900},\"id\":\"1421\",\"type\":\"Div\"},{\"attributes\":{\"button_type\":\"success\",\"icon\":null,\"js_event_callbacks\":{\"button_click\":[{\"id\":\"1448\"}]},\"label\":\"Next\",\"sizing_mode\":\"scale_width\",\"width_policy\":\"fit\"},\"id\":\"1447\",\"type\":\"Button\"},{\"attributes\":{},\"id\":\"1459\",\"type\":\"UnionRenderers\"},{\"attributes\":{\"data_source\":{\"id\":\"1418\"},\"glyph\":{\"id\":\"1436\"},\"hover_glyph\":null,\"muted_glyph\":null,\"nonselection_glyph\":{\"id\":\"1437\"},\"selection_glyph\":null,\"view\":{\"id\":\"1439\"}},\"id\":\"1438\",\"type\":\"GlyphRenderer\"},{\"attributes\":{\"active_drag\":\"auto\",\"active_inspect\":\"auto\",\"active_multi\":null,\"active_scroll\":\"auto\",\"active_tap\":\"auto\",\"logo\":null,\"tools\":[{\"id\":\"1400\"},{\"id\":\"1401\"},{\"id\":\"1402\"},{\"id\":\"1403\"},{\"id\":\"1404\"},{\"id\":\"1405\"}]},\"id\":\"1407\",\"type\":\"Toolbar\"},{\"attributes\":{\"align\":\"center\",\"text\":\"0\",\"width\":450},\"id\":\"1422\",\"type\":\"Div\"},{\"attributes\":{\"line_color\":{\"field\":\"line_color\"},\"line_width\":{\"value\":5},\"xs\":{\"field\":\"xs\"},\"ys\":{\"field\":\"ys\"}},\"id\":\"1425\",\"type\":\"MultiLine\"},{\"attributes\":{\"source\":{\"id\":\"1418\"}},\"id\":\"1439\",\"type\":\"CDSView\"},{\"attributes\":{},\"id\":\"1464\",\"type\":\"Selection\"},{\"attributes\":{},\"id\":\"1468\",\"type\":\"UnionRenderers\"},{\"attributes\":{\"source\":{\"id\":\"1420\"},\"x\":{\"field\":\"x\"},\"y\":{\"field\":\"y\"}},\"id\":\"1445\",\"type\":\"LabelSet\"},{\"attributes\":{\"align\":\"center\",\"width\":450},\"id\":\"1423\",\"type\":\"Div\"},{\"attributes\":{\"data_source\":{\"id\":\"1417\"},\"glyph\":{\"id\":\"1441\"},\"hover_glyph\":null,\"muted_glyph\":null,\"nonselection_glyph\":{\"id\":\"1442\"},\"selection_glyph\":null,\"view\":{\"id\":\"1444\"}},\"id\":\"1443\",\"type\":\"GlyphRenderer\"},{\"attributes\":{\"data\":{\"fill_color\":[\"#EA8585\",\"#EA8585\",\"#EA8585\",\"#EA8585\",\"#EA8585\",\"#EA8585\",\"#EA8585\",\"#EA8585\",\"#EA8585\",\"#EA8585\",\"#EA8585\",\"#EA8585\",\"#EA8585\",\"#EA8585\",\"#EA8585\",\"#EA8585\"],\"line_color\":[\"#EA8585\",\"#EA8585\",\"#EA8585\",\"#EA8585\",\"#EA8585\",\"#EA8585\",\"#EA8585\",\"#EA8585\",\"#EA8585\",\"#EA8585\",\"#EA8585\",\"#EA8585\",\"#EA8585\",\"#EA8585\",\"#EA8585\",\"#EA8585\"],\"x\":[6,20,72,111,194,178,199,205,207,198,165,157,162,144,127,189],\"y\":[71,59,31,-8,-8,38,86,96,106,103,97,84,112,112,97,93]},\"selected\":{\"id\":\"1462\"},\"selection_policy\":{\"id\":\"1463\"}},\"id\":\"1418\",\"type\":\"ColumnDataSource\"},{\"attributes\":{},\"id\":\"1458\",\"type\":\"Selection\"},{\"attributes\":{},\"id\":\"1461\",\"type\":\"UnionRenderers\"},{\"attributes\":{},\"id\":\"1465\",\"type\":\"UnionRenderers\"},{\"attributes\":{\"fill_color\":{\"field\":\"fill_color\"},\"line_color\":{\"field\":\"line_color\"},\"size\":{\"units\":\"screen\",\"value\":12},\"x\":{\"field\":\"x\"},\"y\":{\"field\":\"y\"}},\"id\":\"1436\",\"type\":\"Circle\"},{\"attributes\":{\"formatter\":{\"id\":\"1456\"},\"ticker\":{\"id\":\"1393\"},\"visible\":false},\"id\":\"1392\",\"type\":\"LinearAxis\"}],\"root_ids\":[\"1476\"]},\"title\":\"Bokeh Application\",\"version\":\"2.2.3\"}};\n",
       "  var render_items = [{\"docid\":\"4ef8f4ec-b54e-41e3-b83a-6d8ad91ea7ba\",\"root_ids\":[\"1476\"],\"roots\":{\"1476\":\"75b60996-58c7-4bc5-8ac1-fc127441b250\"}}];\n",
       "  root.Bokeh.embed.embed_items_notebook(docs_json, render_items);\n",
       "\n",
       "  }\n",
       "  if (root.Bokeh !== undefined) {\n",
       "    embed_document(root);\n",
       "  } else {\n",
       "    var attempts = 0;\n",
       "    var timer = setInterval(function(root) {\n",
       "      if (root.Bokeh !== undefined) {\n",
       "        clearInterval(timer);\n",
       "        embed_document(root);\n",
       "      } else {\n",
       "        attempts++;\n",
       "        if (attempts > 100) {\n",
       "          clearInterval(timer);\n",
       "          console.log(\"Bokeh: ERROR: Unable to run BokehJS code because BokehJS library is missing\");\n",
       "        }\n",
       "      }\n",
       "    }, 10, root)\n",
       "  }\n",
       "})(window);"
      ],
      "application/vnd.bokehjs_exec.v0+json": ""
     },
     "metadata": {
      "application/vnd.bokehjs_exec.v0+json": {
       "id": "1476"
      }
     },
     "output_type": "display_data"
    }
   ],
   "source": [
    "plot_mst_algorithm(nodes, edges, 'kruskals')"
   ]
  },
  {
   "cell_type": "code",
   "execution_count": 6,
   "metadata": {},
   "outputs": [
    {
     "data": {
      "text/html": [
       "\n",
       "\n",
       "\n",
       "\n",
       "\n",
       "\n",
       "  <div class=\"bk-root\" id=\"b4ccd8e9-3bde-41a6-b58a-0bb3efd05656\" data-root-id=\"1712\"></div>\n"
      ]
     },
     "metadata": {},
     "output_type": "display_data"
    },
    {
     "data": {
      "application/javascript": [
       "(function(root) {\n",
       "  function embed_document(root) {\n",
       "    \n",
       "  var docs_json = {\"95b0e144-0ea2-45eb-a295-b08b22088643\":{\"roots\":{\"references\":[{\"attributes\":{\"children\":[[{\"id\":\"1617\"},0,0],[{\"id\":\"1687\"},1,0],[{\"id\":\"1688\"},2,0]]},\"id\":\"1712\",\"type\":\"GridBox\"},{\"attributes\":{},\"id\":\"1641\",\"type\":\"HelpTool\"},{\"attributes\":{},\"id\":\"1700\",\"type\":\"Selection\"},{\"attributes\":{\"align\":\"center\",\"text\":\"279.0\",\"width\":450},\"id\":\"1658\",\"type\":\"Div\"},{\"attributes\":{},\"id\":\"1706\",\"type\":\"Selection\"},{\"attributes\":{\"fill_color\":{\"field\":\"fill_color\"},\"line_color\":{\"field\":\"line_color\"},\"size\":{\"units\":\"screen\",\"value\":12},\"x\":{\"field\":\"x\"},\"y\":{\"field\":\"y\"}},\"id\":\"1672\",\"type\":\"Circle\"},{\"attributes\":{},\"id\":\"1707\",\"type\":\"UnionRenderers\"},{\"attributes\":{\"align\":\"center\",\"width\":450},\"id\":\"1659\",\"type\":\"Div\"},{\"attributes\":{},\"id\":\"1639\",\"type\":\"SaveTool\"},{\"attributes\":{},\"id\":\"1696\",\"type\":\"Selection\"},{\"attributes\":{\"data_source\":{\"id\":\"1653\"},\"glyph\":{\"id\":\"1677\"},\"hover_glyph\":null,\"muted_glyph\":null,\"nonselection_glyph\":{\"id\":\"1678\"},\"selection_glyph\":null,\"view\":{\"id\":\"1680\"}},\"id\":\"1679\",\"type\":\"GlyphRenderer\"},{\"attributes\":{},\"id\":\"1704\",\"type\":\"UnionRenderers\"},{\"attributes\":{\"fill_alpha\":{\"value\":0.1},\"fill_color\":{\"value\":\"steelblue\"},\"line_alpha\":{\"value\":0.1},\"line_color\":{\"value\":\"steelblue\"},\"size\":{\"units\":\"screen\",\"value\":12},\"x\":{\"field\":\"x\"},\"y\":{\"field\":\"y\"}},\"id\":\"1678\",\"type\":\"Circle\"},{\"attributes\":{\"data\":{\"costs\":[279.0,254.0,230.0,210.0,191.0,173.0,155.0,141.0,131.0,123.0,115.0,109.0,105.0,103.0],\"iteration_node_x\":[[6,20,72,111,194,178,199,205,207,198,165,157,162,144,127,189],[6,20,72,111,194,178,199,205,207,198,165,157,162,144,127,189],[6,20,72,111,194,178,199,205,207,198,165,157,162,144,127,189],[6,20,72,111,194,178,199,205,207,198,165,157,162,144,127,189],[6,20,72,111,194,178,199,205,207,198,165,157,162,144,127,189],[6,20,72,111,194,178,199,205,207,198,165,157,162,144,127,189],[6,20,72,111,194,178,199,205,207,198,165,157,162,144,127,189],[6,20,72,111,194,178,199,205,207,198,165,157,162,144,127,189],[6,20,72,111,194,178,199,205,207,198,165,157,162,144,127,189],[6,20,72,111,194,178,199,205,207,198,165,157,162,144,127,189],[6,20,72,111,194,178,199,205,207,198,165,157,162,144,127,189],[6,20,72,111,194,178,199,205,207,198,165,157,162,144,127,189],[6,20,72,111,194,178,199,205,207,198,165,157,162,144,127,189],[6,20,72,111,194,178,199,205,207,198,165,157,162,144,127,189]],\"iteration_node_y\":[[71,59,31,-8,-8,38,86,96,106,103,97,84,112,112,97,93],[71,59,31,-8,-8,38,86,96,106,103,97,84,112,112,97,93],[71,59,31,-8,-8,38,86,96,106,103,97,84,112,112,97,93],[71,59,31,-8,-8,38,86,96,106,103,97,84,112,112,97,93],[71,59,31,-8,-8,38,86,96,106,103,97,84,112,112,97,93],[71,59,31,-8,-8,38,86,96,106,103,97,84,112,112,97,93],[71,59,31,-8,-8,38,86,96,106,103,97,84,112,112,97,93],[71,59,31,-8,-8,38,86,96,106,103,97,84,112,112,97,93],[71,59,31,-8,-8,38,86,96,106,103,97,84,112,112,97,93],[71,59,31,-8,-8,38,86,96,106,103,97,84,112,112,97,93],[71,59,31,-8,-8,38,86,96,106,103,97,84,112,112,97,93],[71,59,31,-8,-8,38,86,96,106,103,97,84,112,112,97,93],[71,59,31,-8,-8,38,86,96,106,103,97,84,112,112,97,93],[71,59,31,-8,-8,38,86,96,106,103,97,84,112,112,97,93]],\"iteration_xs\":[[[6,127],[6,20],[20,127],[20,72],[72,157],[72,127],[72,111],[111,178],[111,157],[111,194],[194,178],[178,199],[178,157],[199,205],[199,189],[205,198],[205,207],[207,198],[198,165],[198,189],[165,189],[165,157],[157,162],[157,144],[157,127],[162,127],[162,144],[144,127]],[[6,127],[6,20],[20,127],[20,72],[72,127],[72,111],[111,178],[111,157],[111,194],[194,178],[178,199],[178,157],[199,205],[199,189],[205,198],[205,207],[207,198],[198,165],[198,189],[165,189],[165,157],[157,162],[157,144],[157,127],[162,127],[162,144],[144,127]],[[6,20],[20,127],[20,72],[72,127],[72,111],[111,178],[111,157],[111,194],[194,178],[178,199],[178,157],[199,205],[199,189],[205,198],[205,207],[207,198],[198,165],[198,189],[165,189],[165,157],[157,162],[157,144],[157,127],[162,127],[162,144],[144,127]],[[6,20],[20,127],[20,72],[72,111],[111,178],[111,157],[111,194],[194,178],[178,199],[178,157],[199,205],[199,189],[205,198],[205,207],[207,198],[198,165],[198,189],[165,189],[165,157],[157,162],[157,144],[157,127],[162,127],[162,144],[144,127]],[[6,20],[20,72],[72,111],[111,178],[111,157],[111,194],[194,178],[178,199],[178,157],[199,205],[199,189],[205,198],[205,207],[207,198],[198,165],[198,189],[165,189],[165,157],[157,162],[157,144],[157,127],[162,127],[162,144],[144,127]],[[6,20],[20,72],[72,111],[111,157],[111,194],[194,178],[178,199],[178,157],[199,205],[199,189],[205,198],[205,207],[207,198],[198,165],[198,189],[165,189],[165,157],[157,162],[157,144],[157,127],[162,127],[162,144],[144,127]],[[6,20],[20,72],[72,111],[111,194],[194,178],[178,199],[178,157],[199,205],[199,189],[205,198],[205,207],[207,198],[198,165],[198,189],[165,189],[165,157],[157,162],[157,144],[157,127],[162,127],[162,144],[144,127]],[[6,20],[20,72],[72,111],[111,194],[194,178],[178,157],[199,205],[199,189],[205,198],[205,207],[207,198],[198,165],[198,189],[165,189],[165,157],[157,162],[157,144],[157,127],[162,127],[162,144],[144,127]],[[6,20],[20,72],[72,111],[111,194],[194,178],[178,157],[199,205],[199,189],[205,198],[205,207],[207,198],[198,165],[198,189],[165,189],[165,157],[157,162],[157,144],[157,127],[162,144],[144,127]],[[6,20],[20,72],[72,111],[111,194],[194,178],[178,157],[199,205],[199,189],[205,198],[205,207],[207,198],[198,165],[198,189],[165,189],[165,157],[157,144],[157,127],[162,144],[144,127]],[[6,20],[20,72],[72,111],[111,194],[194,178],[178,157],[199,205],[199,189],[205,198],[205,207],[207,198],[198,165],[198,189],[165,189],[165,157],[157,127],[162,144],[144,127]],[[6,20],[20,72],[72,111],[111,194],[194,178],[178,157],[199,205],[199,189],[205,198],[205,207],[207,198],[198,189],[165,189],[165,157],[157,127],[162,144],[144,127]],[[6,20],[20,72],[72,111],[111,194],[194,178],[178,157],[199,205],[199,189],[205,198],[205,207],[207,198],[165,189],[165,157],[157,127],[162,144],[144,127]],[[6,20],[20,72],[72,111],[111,194],[194,178],[178,157],[199,205],[199,189],[205,207],[207,198],[165,189],[165,157],[157,127],[162,144],[144,127]]],\"iteration_ys\":[[[71,97],[71,59],[59,97],[59,31],[31,84],[31,97],[31,-8],[-8,38],[-8,84],[-8,-8],[-8,38],[38,86],[38,84],[86,96],[86,93],[96,103],[96,106],[106,103],[103,97],[103,93],[97,93],[97,84],[84,112],[84,112],[84,97],[112,97],[112,112],[112,97]],[[71,97],[71,59],[59,97],[59,31],[31,97],[31,-8],[-8,38],[-8,84],[-8,-8],[-8,38],[38,86],[38,84],[86,96],[86,93],[96,103],[96,106],[106,103],[103,97],[103,93],[97,93],[97,84],[84,112],[84,112],[84,97],[112,97],[112,112],[112,97]],[[71,59],[59,97],[59,31],[31,97],[31,-8],[-8,38],[-8,84],[-8,-8],[-8,38],[38,86],[38,84],[86,96],[86,93],[96,103],[96,106],[106,103],[103,97],[103,93],[97,93],[97,84],[84,112],[84,112],[84,97],[112,97],[112,112],[112,97]],[[71,59],[59,97],[59,31],[31,-8],[-8,38],[-8,84],[-8,-8],[-8,38],[38,86],[38,84],[86,96],[86,93],[96,103],[96,106],[106,103],[103,97],[103,93],[97,93],[97,84],[84,112],[84,112],[84,97],[112,97],[112,112],[112,97]],[[71,59],[59,31],[31,-8],[-8,38],[-8,84],[-8,-8],[-8,38],[38,86],[38,84],[86,96],[86,93],[96,103],[96,106],[106,103],[103,97],[103,93],[97,93],[97,84],[84,112],[84,112],[84,97],[112,97],[112,112],[112,97]],[[71,59],[59,31],[31,-8],[-8,84],[-8,-8],[-8,38],[38,86],[38,84],[86,96],[86,93],[96,103],[96,106],[106,103],[103,97],[103,93],[97,93],[97,84],[84,112],[84,112],[84,97],[112,97],[112,112],[112,97]],[[71,59],[59,31],[31,-8],[-8,-8],[-8,38],[38,86],[38,84],[86,96],[86,93],[96,103],[96,106],[106,103],[103,97],[103,93],[97,93],[97,84],[84,112],[84,112],[84,97],[112,97],[112,112],[112,97]],[[71,59],[59,31],[31,-8],[-8,-8],[-8,38],[38,84],[86,96],[86,93],[96,103],[96,106],[106,103],[103,97],[103,93],[97,93],[97,84],[84,112],[84,112],[84,97],[112,97],[112,112],[112,97]],[[71,59],[59,31],[31,-8],[-8,-8],[-8,38],[38,84],[86,96],[86,93],[96,103],[96,106],[106,103],[103,97],[103,93],[97,93],[97,84],[84,112],[84,112],[84,97],[112,112],[112,97]],[[71,59],[59,31],[31,-8],[-8,-8],[-8,38],[38,84],[86,96],[86,93],[96,103],[96,106],[106,103],[103,97],[103,93],[97,93],[97,84],[84,112],[84,97],[112,112],[112,97]],[[71,59],[59,31],[31,-8],[-8,-8],[-8,38],[38,84],[86,96],[86,93],[96,103],[96,106],[106,103],[103,97],[103,93],[97,93],[97,84],[84,97],[112,112],[112,97]],[[71,59],[59,31],[31,-8],[-8,-8],[-8,38],[38,84],[86,96],[86,93],[96,103],[96,106],[106,103],[103,93],[97,93],[97,84],[84,97],[112,112],[112,97]],[[71,59],[59,31],[31,-8],[-8,-8],[-8,38],[38,84],[86,96],[86,93],[96,103],[96,106],[106,103],[97,93],[97,84],[84,97],[112,112],[112,97]],[[71,59],[59,31],[31,-8],[-8,-8],[-8,38],[38,84],[86,96],[86,93],[96,106],[106,103],[97,93],[97,84],[84,97],[112,112],[112,97]]]},\"selected\":{\"id\":\"1706\"},\"selection_policy\":{\"id\":\"1707\"}},\"id\":\"1651\",\"type\":\"ColumnDataSource\"},{\"attributes\":{\"source\":{\"id\":\"1653\"}},\"id\":\"1680\",\"type\":\"CDSView\"},{\"attributes\":{\"data_source\":{\"id\":\"1655\"},\"glyph\":{\"id\":\"1661\"},\"hover_glyph\":{\"id\":\"1663\"},\"muted_glyph\":null,\"nonselection_glyph\":{\"id\":\"1662\"},\"selection_glyph\":null,\"view\":{\"id\":\"1665\"}},\"id\":\"1664\",\"type\":\"GlyphRenderer\"},{\"attributes\":{\"axis\":{\"id\":\"1628\"},\"grid_line_color\":null,\"ticker\":null},\"id\":\"1631\",\"type\":\"Grid\"},{\"attributes\":{\"active_drag\":\"auto\",\"active_inspect\":\"auto\",\"active_multi\":null,\"active_scroll\":\"auto\",\"active_tap\":\"auto\",\"logo\":null,\"tools\":[{\"id\":\"1636\"},{\"id\":\"1637\"},{\"id\":\"1638\"},{\"id\":\"1639\"},{\"id\":\"1640\"},{\"id\":\"1641\"}]},\"id\":\"1643\",\"type\":\"Toolbar\"},{\"attributes\":{},\"id\":\"1695\",\"type\":\"UnionRenderers\"},{\"attributes\":{\"line_width\":{\"value\":5},\"xs\":{\"field\":\"xs\"},\"ys\":{\"field\":\"ys\"}},\"id\":\"1663\",\"type\":\"MultiLine\"},{\"attributes\":{\"source\":{\"id\":\"1656\"},\"x\":{\"field\":\"x\"},\"y\":{\"field\":\"y\"}},\"id\":\"1681\",\"type\":\"LabelSet\"},{\"attributes\":{\"align\":\"center\",\"text\":\"0\",\"width\":900},\"id\":\"1657\",\"type\":\"Div\"},{\"attributes\":{},\"id\":\"1626\",\"type\":\"LinearScale\"},{\"attributes\":{\"line_color\":{\"field\":\"line_color\"},\"line_width\":{\"value\":5},\"xs\":{\"field\":\"xs\"},\"ys\":{\"field\":\"ys\"}},\"id\":\"1662\",\"type\":\"MultiLine\"},{\"attributes\":{},\"id\":\"1697\",\"type\":\"UnionRenderers\"},{\"attributes\":{\"formatter\":{\"id\":\"1692\"},\"ticker\":{\"id\":\"1629\"},\"visible\":false},\"id\":\"1628\",\"type\":\"LinearAxis\"},{\"attributes\":{\"line_color\":{\"field\":\"line_color\"},\"line_width\":{\"value\":5},\"xs\":{\"field\":\"xs\"},\"ys\":{\"field\":\"ys\"}},\"id\":\"1661\",\"type\":\"MultiLine\"},{\"attributes\":{\"fill_color\":{\"value\":\"steelblue\"},\"line_color\":{\"value\":\"steelblue\"},\"size\":{\"units\":\"screen\",\"value\":12},\"x\":{\"field\":\"x\"},\"y\":{\"field\":\"y\"}},\"id\":\"1677\",\"type\":\"Circle\"},{\"attributes\":{\"text\":\"\"},\"id\":\"1618\",\"type\":\"Title\"},{\"attributes\":{\"source\":{\"id\":\"1655\"}},\"id\":\"1665\",\"type\":\"CDSView\"},{\"attributes\":{\"data\":{\"xs\":[[6,127],[6,20],[20,127],[20,72],[72,157],[72,127],[72,111],[111,178],[111,157],[111,194],[194,178],[178,199],[178,157],[199,205],[199,189],[205,198],[205,207],[207,198],[198,165],[198,189],[165,189],[165,157],[157,162],[157,144],[157,127],[162,127],[162,144],[144,127]],\"ys\":[[71,97],[71,59],[59,97],[59,31],[31,84],[31,97],[31,-8],[-8,38],[-8,84],[-8,-8],[-8,38],[38,86],[38,84],[86,96],[86,93],[96,103],[96,106],[106,103],[103,97],[103,93],[97,93],[97,84],[84,112],[84,112],[84,97],[112,97],[112,112],[112,97]]},\"selected\":{\"id\":\"1696\"},\"selection_policy\":{\"id\":\"1697\"}},\"id\":\"1652\",\"type\":\"ColumnDataSource\"},{\"attributes\":{\"formatter\":{\"id\":\"1690\"},\"ticker\":{\"id\":\"1633\"},\"visible\":false},\"id\":\"1632\",\"type\":\"LinearAxis\"},{\"attributes\":{},\"id\":\"1629\",\"type\":\"BasicTicker\"},{\"attributes\":{},\"id\":\"1699\",\"type\":\"UnionRenderers\"},{\"attributes\":{},\"id\":\"1624\",\"type\":\"LinearScale\"},{\"attributes\":{\"bottom_units\":\"screen\",\"fill_alpha\":0.5,\"fill_color\":\"lightgrey\",\"left_units\":\"screen\",\"level\":\"overlay\",\"line_alpha\":1.0,\"line_color\":\"black\",\"line_dash\":[4,4],\"line_width\":2,\"right_units\":\"screen\",\"top_units\":\"screen\"},\"id\":\"1642\",\"type\":\"BoxAnnotation\"},{\"attributes\":{\"source\":{\"id\":\"1654\"}},\"id\":\"1675\",\"type\":\"CDSView\"},{\"attributes\":{\"data\":{\"line_color\":[\"gray\",\"gray\",\"gray\",\"gray\",\"gray\",\"gray\",\"gray\",\"gray\",\"gray\",\"gray\",\"gray\",\"gray\",\"gray\",\"gray\",\"gray\",\"gray\",\"gray\",\"gray\",\"gray\",\"gray\",\"gray\",\"gray\",\"gray\",\"gray\",\"gray\",\"gray\",\"gray\",\"gray\"],\"u\":[0,0,1,1,2,2,2,3,3,3,4,5,5,6,6,7,7,8,9,9,10,10,11,11,11,12,12,13],\"u_pos\":[[6,71],[6,71],[20,59],[20,59],[72,31],[72,31],[72,31],[111,-8],[111,-8],[111,-8],[194,-8],[178,38],[178,38],[199,86],[199,86],[205,96],[205,96],[207,106],[198,103],[198,103],[165,97],[165,97],[157,84],[157,84],[157,84],[162,112],[162,112],[144,112]],\"v\":[1,14,2,14,3,11,14,4,5,11,5,6,11,7,15,8,9,9,10,15,11,15,12,13,14,13,14,14],\"v_pos\":[[20,59],[127,97],[72,31],[127,97],[111,-8],[157,84],[127,97],[194,-8],[178,38],[157,84],[178,38],[199,86],[157,84],[205,96],[189,93],[207,106],[198,103],[198,103],[165,97],[189,93],[157,84],[189,93],[162,112],[144,112],[127,97],[144,112],[127,97],[127,97]],\"weight\":[4,24,12,19,10,25,20,14,18,18,12,14,14,3,3,1,2,2,6,4,4,6,8,8,8,4,10,6],\"xs\":[[6,20],[6,127],[20,72],[20,127],[72,111],[72,157],[72,127],[111,194],[111,178],[111,157],[194,178],[178,199],[178,157],[199,205],[199,189],[205,207],[205,198],[207,198],[198,165],[198,189],[165,157],[165,189],[157,162],[157,144],[157,127],[162,144],[162,127],[144,127]],\"ys\":[[71,59],[71,97],[59,31],[59,97],[31,-8],[31,84],[31,97],[-8,-8],[-8,38],[-8,84],[-8,38],[38,86],[38,84],[86,96],[86,93],[96,106],[96,103],[106,103],[103,97],[103,93],[97,84],[97,93],[84,112],[84,112],[84,97],[112,112],[112,97],[112,97]]},\"selected\":{\"id\":\"1694\"},\"selection_policy\":{\"id\":\"1695\"}},\"id\":\"1655\",\"type\":\"ColumnDataSource\"},{\"attributes\":{\"args\":{\"cost\":{\"id\":\"1658\"},\"done\":{\"id\":\"1659\"},\"n\":{\"id\":\"1657\"},\"source\":{\"id\":\"1651\"},\"tree_edge_src\":{\"id\":\"1652\"},\"tree_node_src\":{\"id\":\"1653\"}},\"code\":\"\\nif ((parseInt(n.text) + 1) < source.data['costs'].length) {\\n    n.text = (parseInt(n.text) + 1).toString()\\n}\\nvar iteration = parseInt(n.text)\\n\\n    cost.text = source.data['costs'][iteration].toFixed(1)\\n    \\n    \\n    if (iteration == source.data['costs'].length - 1) {\\n        done.text = \\\"done.\\\"\\n    } else {\\n        done.text = \\\"\\\"\\n    }\\n\\n    tree_edge_src.data['xs'] = source.data['iteration_xs'][iteration]\\n    tree_edge_src.data['ys'] = source.data['iteration_ys'][iteration]\\n    tree_node_src.data['x'] = source.data['iteration_node_x'][iteration]\\n    tree_node_src.data['y'] = source.data['iteration_node_y'][iteration]\\n    tree_node_src.change.emit()\\n    tree_edge_src.change.emit()\\n    \"},\"id\":\"1684\",\"type\":\"CustomJS\"},{\"attributes\":{},\"id\":\"1703\",\"type\":\"Selection\"},{\"attributes\":{},\"id\":\"1698\",\"type\":\"Selection\"},{\"attributes\":{\"data\":{\"fill_color\":[\"#EA8585\",\"#EA8585\",\"#EA8585\",\"#EA8585\",\"#EA8585\",\"#EA8585\",\"#EA8585\",\"#EA8585\",\"#EA8585\",\"#EA8585\",\"#EA8585\",\"#EA8585\",\"#EA8585\",\"#EA8585\",\"#EA8585\",\"#EA8585\"],\"line_color\":[\"#EA8585\",\"#EA8585\",\"#EA8585\",\"#EA8585\",\"#EA8585\",\"#EA8585\",\"#EA8585\",\"#EA8585\",\"#EA8585\",\"#EA8585\",\"#EA8585\",\"#EA8585\",\"#EA8585\",\"#EA8585\",\"#EA8585\",\"#EA8585\"],\"x\":[6,20,72,111,194,178,199,205,207,198,165,157,162,144,127,189],\"y\":[71,59,31,-8,-8,38,86,96,106,103,97,84,112,112,97,93]},\"selected\":{\"id\":\"1698\"},\"selection_policy\":{\"id\":\"1699\"}},\"id\":\"1654\",\"type\":\"ColumnDataSource\"},{\"attributes\":{\"end\":122.2,\"start\":-18.200000000000003},\"id\":\"1622\",\"type\":\"Range1d\"},{\"attributes\":{\"button_type\":\"success\",\"icon\":null,\"js_event_callbacks\":{\"button_click\":[{\"id\":\"1686\"}]},\"label\":\"Previous\",\"sizing_mode\":\"scale_width\",\"width_policy\":\"fit\"},\"id\":\"1685\",\"type\":\"Button\"},{\"attributes\":{\"fill_color\":{\"field\":\"fill_color\"},\"line_alpha\":{\"value\":0.1},\"line_color\":{\"field\":\"line_color\"},\"size\":{\"units\":\"screen\",\"value\":12},\"x\":{\"field\":\"x\"},\"y\":{\"field\":\"y\"}},\"id\":\"1673\",\"type\":\"Circle\"},{\"attributes\":{\"line_width\":{\"value\":5},\"xs\":{\"field\":\"xs\"},\"ys\":{\"field\":\"ys\"}},\"id\":\"1667\",\"type\":\"MultiLine\"},{\"attributes\":{\"end\":224.085,\"start\":-11.085},\"id\":\"1620\",\"type\":\"Range1d\"},{\"attributes\":{\"args\":{\"cost\":{\"id\":\"1658\"},\"done\":{\"id\":\"1659\"},\"n\":{\"id\":\"1657\"},\"source\":{\"id\":\"1651\"},\"tree_edge_src\":{\"id\":\"1652\"},\"tree_node_src\":{\"id\":\"1653\"}},\"code\":\"\\nif ((parseInt(n.text) - 1) >= 0) {\\n    n.text = (parseInt(n.text) - 1).toString()\\n}\\nvar iteration = parseInt(n.text)\\n\\n    cost.text = source.data['costs'][iteration].toFixed(1)\\n    \\n    \\n    if (iteration == source.data['costs'].length - 1) {\\n        done.text = \\\"done.\\\"\\n    } else {\\n        done.text = \\\"\\\"\\n    }\\n\\n    tree_edge_src.data['xs'] = source.data['iteration_xs'][iteration]\\n    tree_edge_src.data['ys'] = source.data['iteration_ys'][iteration]\\n    tree_node_src.data['x'] = source.data['iteration_node_x'][iteration]\\n    tree_node_src.data['y'] = source.data['iteration_node_y'][iteration]\\n    tree_node_src.change.emit()\\n    tree_edge_src.change.emit()\\n    \"},\"id\":\"1686\",\"type\":\"CustomJS\"},{\"attributes\":{\"axis\":{\"id\":\"1632\"},\"dimension\":1,\"grid_line_color\":null,\"ticker\":null},\"id\":\"1635\",\"type\":\"Grid\"},{\"attributes\":{\"line_alpha\":{\"value\":0.1},\"line_width\":{\"value\":5},\"xs\":{\"field\":\"xs\"},\"ys\":{\"field\":\"ys\"}},\"id\":\"1668\",\"type\":\"MultiLine\"},{\"attributes\":{\"children\":[{\"id\":\"1685\"},{\"id\":\"1683\"}],\"max_width\":900,\"sizing_mode\":\"stretch_both\"},\"id\":\"1687\",\"type\":\"Row\"},{\"attributes\":{},\"id\":\"1633\",\"type\":\"BasicTicker\"},{\"attributes\":{\"data\":{\"x\":[6,20,72,111,194,178,199,205,207,198,165,157,162,144,127,189],\"y\":[71,59,31,-8,-8,38,86,96,106,103,97,84,112,112,97,93]},\"selected\":{\"id\":\"1700\"},\"selection_policy\":{\"id\":\"1701\"}},\"id\":\"1653\",\"type\":\"ColumnDataSource\"},{\"attributes\":{\"data_source\":{\"id\":\"1652\"},\"glyph\":{\"id\":\"1667\"},\"hover_glyph\":null,\"muted_glyph\":null,\"nonselection_glyph\":{\"id\":\"1668\"},\"selection_glyph\":null,\"view\":{\"id\":\"1670\"}},\"id\":\"1669\",\"type\":\"GlyphRenderer\"},{\"attributes\":{\"children\":[{\"id\":\"1658\"},{\"id\":\"1659\"}]},\"id\":\"1688\",\"type\":\"Row\"},{\"attributes\":{\"source\":{\"id\":\"1652\"}},\"id\":\"1670\",\"type\":\"CDSView\"},{\"attributes\":{\"overlay\":{\"id\":\"1642\"}},\"id\":\"1638\",\"type\":\"BoxZoomTool\"},{\"attributes\":{\"background_fill_color\":null,\"below\":[{\"id\":\"1628\"}],\"border_fill_color\":null,\"center\":[{\"id\":\"1631\"},{\"id\":\"1635\"},{\"id\":\"1681\"}],\"left\":[{\"id\":\"1632\"}],\"outline_line_color\":null,\"plot_height\":500,\"plot_width\":900,\"renderers\":[{\"id\":\"1664\"},{\"id\":\"1669\"},{\"id\":\"1674\"},{\"id\":\"1679\"}],\"title\":{\"id\":\"1618\"},\"toolbar\":{\"id\":\"1643\"},\"toolbar_location\":null,\"x_range\":{\"id\":\"1620\"},\"x_scale\":{\"id\":\"1624\"},\"y_range\":{\"id\":\"1622\"},\"y_scale\":{\"id\":\"1626\"}},\"id\":\"1617\",\"subtype\":\"Figure\",\"type\":\"Plot\"},{\"attributes\":{},\"id\":\"1637\",\"type\":\"WheelZoomTool\"},{\"attributes\":{},\"id\":\"1690\",\"type\":\"BasicTickFormatter\"},{\"attributes\":{\"data\":{\"text\":[4,24,12,19,10,25,20,14,18,18,12,14,14,3,3,1,2,2,6,4,4,6,8,8,8,4,10,6],\"x\":[13.0,66.5,46.0,73.5,91.5,114.5,99.5,152.5,144.5,134.0,186.0,188.5,167.5,202.0,194.0,206.0,201.5,202.5,181.5,193.5,161.0,177.0,159.5,150.5,142.0,153.0,144.5,135.5],\"y\":[65.0,84.0,45.0,78.0,11.5,57.5,64.0,-8.0,15.0,38.0,15.0,62.0,61.0,91.0,89.5,101.0,99.5,104.5,100.0,98.0,90.5,95.0,98.0,98.0,90.5,112.0,104.5,104.5]},\"selected\":{\"id\":\"1703\"},\"selection_policy\":{\"id\":\"1704\"}},\"id\":\"1656\",\"type\":\"ColumnDataSource\"},{\"attributes\":{},\"id\":\"1701\",\"type\":\"UnionRenderers\"},{\"attributes\":{\"button_type\":\"success\",\"icon\":null,\"js_event_callbacks\":{\"button_click\":[{\"id\":\"1684\"}]},\"label\":\"Next\",\"sizing_mode\":\"scale_width\",\"width_policy\":\"fit\"},\"id\":\"1683\",\"type\":\"Button\"},{\"attributes\":{},\"id\":\"1640\",\"type\":\"ResetTool\"},{\"attributes\":{},\"id\":\"1692\",\"type\":\"BasicTickFormatter\"},{\"attributes\":{\"data_source\":{\"id\":\"1654\"},\"glyph\":{\"id\":\"1672\"},\"hover_glyph\":null,\"muted_glyph\":null,\"nonselection_glyph\":{\"id\":\"1673\"},\"selection_glyph\":null,\"view\":{\"id\":\"1675\"}},\"id\":\"1674\",\"type\":\"GlyphRenderer\"},{\"attributes\":{},\"id\":\"1636\",\"type\":\"PanTool\"},{\"attributes\":{},\"id\":\"1694\",\"type\":\"Selection\"}],\"root_ids\":[\"1712\"]},\"title\":\"Bokeh Application\",\"version\":\"2.2.3\"}};\n",
       "  var render_items = [{\"docid\":\"95b0e144-0ea2-45eb-a295-b08b22088643\",\"root_ids\":[\"1712\"],\"roots\":{\"1712\":\"b4ccd8e9-3bde-41a6-b58a-0bb3efd05656\"}}];\n",
       "  root.Bokeh.embed.embed_items_notebook(docs_json, render_items);\n",
       "\n",
       "  }\n",
       "  if (root.Bokeh !== undefined) {\n",
       "    embed_document(root);\n",
       "  } else {\n",
       "    var attempts = 0;\n",
       "    var timer = setInterval(function(root) {\n",
       "      if (root.Bokeh !== undefined) {\n",
       "        clearInterval(timer);\n",
       "        embed_document(root);\n",
       "      } else {\n",
       "        attempts++;\n",
       "        if (attempts > 100) {\n",
       "          clearInterval(timer);\n",
       "          console.log(\"Bokeh: ERROR: Unable to run BokehJS code because BokehJS library is missing\");\n",
       "        }\n",
       "      }\n",
       "    }, 10, root)\n",
       "  }\n",
       "})(window);"
      ],
      "application/vnd.bokehjs_exec.v0+json": ""
     },
     "metadata": {
      "application/vnd.bokehjs_exec.v0+json": {
       "id": "1712"
      }
     },
     "output_type": "display_data"
    }
   ],
   "source": [
    "plot_mst_algorithm(nodes, edges, 'reverse_kruskals')"
   ]
  },
  {
   "cell_type": "code",
   "execution_count": 7,
   "metadata": {},
   "outputs": [],
   "source": [
    "G = nx.grid_graph(dim=[5,5]) \n",
    "\n",
    "nodes = pd.DataFrame(list(G.nodes)).rename(columns={0:'x', 1:'y'})\n",
    "\n",
    "edges = pd.DataFrame(list(G.edges)).rename(columns={0:'u', 1:'v'})\n",
    "to_index = {list(G.nodes)[i]:i for i in range(len(G.nodes))}\n",
    "edges['u'] = edges['u'].apply(lambda x: to_index[tuple(x)])\n",
    "edges['v'] = edges['v'].apply(lambda x: to_index[tuple(x)])\n",
    "edges['weight'] = 1"
   ]
  },
  {
   "cell_type": "code",
   "execution_count": 8,
   "metadata": {},
   "outputs": [
    {
     "data": {
      "text/html": [
       "\n",
       "\n",
       "\n",
       "\n",
       "\n",
       "\n",
       "  <div class=\"bk-root\" id=\"a21035ca-18f0-4165-8703-1dca272810d7\" data-root-id=\"1966\"></div>\n"
      ]
     },
     "metadata": {},
     "output_type": "display_data"
    },
    {
     "data": {
      "application/javascript": [
       "(function(root) {\n",
       "  function embed_document(root) {\n",
       "    \n",
       "  var docs_json = {\"55dd9624-b5d2-47b5-9f6f-366855004deb\":{\"roots\":{\"references\":[{\"attributes\":{\"children\":[[{\"id\":\"1871\"},0,0],[{\"id\":\"1941\"},1,0],[{\"id\":\"1942\"},2,0]]},\"id\":\"1966\",\"type\":\"GridBox\"},{\"attributes\":{\"line_color\":{\"field\":\"line_color\"},\"line_width\":{\"value\":5},\"xs\":{\"field\":\"xs\"},\"ys\":{\"field\":\"ys\"}},\"id\":\"1916\",\"type\":\"MultiLine\"},{\"attributes\":{},\"id\":\"1948\",\"type\":\"Selection\"},{\"attributes\":{\"fill_color\":{\"field\":\"fill_color\"},\"line_color\":{\"field\":\"line_color\"},\"size\":{\"units\":\"screen\",\"value\":12},\"x\":{\"field\":\"x\"},\"y\":{\"field\":\"y\"}},\"id\":\"1926\",\"type\":\"Circle\"},{\"attributes\":{},\"id\":\"1883\",\"type\":\"BasicTicker\"},{\"attributes\":{\"overlay\":{\"id\":\"1896\"}},\"id\":\"1892\",\"type\":\"BoxZoomTool\"},{\"attributes\":{\"button_type\":\"success\",\"icon\":null,\"js_event_callbacks\":{\"button_click\":[{\"id\":\"1938\"}]},\"label\":\"Next\",\"sizing_mode\":\"scale_width\",\"width_policy\":\"fit\"},\"id\":\"1937\",\"type\":\"Button\"},{\"attributes\":{},\"id\":\"1949\",\"type\":\"UnionRenderers\"},{\"attributes\":{},\"id\":\"1895\",\"type\":\"HelpTool\"},{\"attributes\":{},\"id\":\"1950\",\"type\":\"Selection\"},{\"attributes\":{},\"id\":\"1893\",\"type\":\"SaveTool\"},{\"attributes\":{\"line_alpha\":{\"value\":0.1},\"line_width\":{\"value\":5},\"xs\":{\"field\":\"xs\"},\"ys\":{\"field\":\"ys\"}},\"id\":\"1922\",\"type\":\"MultiLine\"},{\"attributes\":{},\"id\":\"1951\",\"type\":\"UnionRenderers\"},{\"attributes\":{},\"id\":\"1890\",\"type\":\"PanTool\"},{\"attributes\":{\"line_width\":{\"value\":5},\"xs\":{\"field\":\"xs\"},\"ys\":{\"field\":\"ys\"}},\"id\":\"1921\",\"type\":\"MultiLine\"},{\"attributes\":{},\"id\":\"1952\",\"type\":\"Selection\"},{\"attributes\":{},\"id\":\"1891\",\"type\":\"WheelZoomTool\"},{\"attributes\":{\"data_source\":{\"id\":\"1906\"},\"glyph\":{\"id\":\"1921\"},\"hover_glyph\":null,\"muted_glyph\":null,\"nonselection_glyph\":{\"id\":\"1922\"},\"selection_glyph\":null,\"view\":{\"id\":\"1924\"}},\"id\":\"1923\",\"type\":\"GlyphRenderer\"},{\"attributes\":{\"background_fill_color\":null,\"below\":[{\"id\":\"1882\"}],\"border_fill_color\":null,\"center\":[{\"id\":\"1885\"},{\"id\":\"1889\"},{\"id\":\"1935\"}],\"left\":[{\"id\":\"1886\"}],\"outline_line_color\":null,\"plot_height\":400,\"plot_width\":400,\"renderers\":[{\"id\":\"1918\"},{\"id\":\"1923\"},{\"id\":\"1928\"},{\"id\":\"1933\"}],\"title\":{\"id\":\"1872\"},\"toolbar\":{\"id\":\"1897\"},\"toolbar_location\":null,\"x_range\":{\"id\":\"1874\"},\"x_scale\":{\"id\":\"1878\"},\"y_range\":{\"id\":\"1876\"},\"y_scale\":{\"id\":\"1880\"}},\"id\":\"1871\",\"subtype\":\"Figure\",\"type\":\"Plot\"},{\"attributes\":{\"end\":4.34,\"start\":-0.34},\"id\":\"1874\",\"type\":\"Range1d\"},{\"attributes\":{\"data\":{\"xs\":[],\"ys\":[]},\"selected\":{\"id\":\"1950\"},\"selection_policy\":{\"id\":\"1951\"}},\"id\":\"1906\",\"type\":\"ColumnDataSource\"},{\"attributes\":{\"source\":{\"id\":\"1906\"}},\"id\":\"1924\",\"type\":\"CDSView\"},{\"attributes\":{\"line_width\":{\"value\":5},\"xs\":{\"field\":\"xs\"},\"ys\":{\"field\":\"ys\"}},\"id\":\"1917\",\"type\":\"MultiLine\"},{\"attributes\":{\"align\":\"center\",\"width\":200},\"id\":\"1913\",\"type\":\"Div\"},{\"attributes\":{\"fill_alpha\":{\"value\":0.1},\"fill_color\":{\"value\":\"steelblue\"},\"line_alpha\":{\"value\":0.1},\"line_color\":{\"value\":\"steelblue\"},\"size\":{\"units\":\"screen\",\"value\":12},\"x\":{\"field\":\"x\"},\"y\":{\"field\":\"y\"}},\"id\":\"1932\",\"type\":\"Circle\"},{\"attributes\":{\"source\":{\"id\":\"1907\"}},\"id\":\"1934\",\"type\":\"CDSView\"},{\"attributes\":{},\"id\":\"1953\",\"type\":\"UnionRenderers\"},{\"attributes\":{\"source\":{\"id\":\"1910\"},\"x\":{\"field\":\"x\"},\"y\":{\"field\":\"y\"}},\"id\":\"1935\",\"type\":\"LabelSet\"},{\"attributes\":{},\"id\":\"1954\",\"type\":\"Selection\"},{\"attributes\":{},\"id\":\"1894\",\"type\":\"ResetTool\"},{\"attributes\":{\"formatter\":{\"id\":\"1944\"},\"ticker\":{\"id\":\"1887\"},\"visible\":false},\"id\":\"1886\",\"type\":\"LinearAxis\"},{\"attributes\":{\"source\":{\"id\":\"1909\"}},\"id\":\"1919\",\"type\":\"CDSView\"},{\"attributes\":{\"active_drag\":\"auto\",\"active_inspect\":\"auto\",\"active_multi\":null,\"active_scroll\":\"auto\",\"active_tap\":\"auto\",\"logo\":null,\"tools\":[{\"id\":\"1890\"},{\"id\":\"1891\"},{\"id\":\"1892\"},{\"id\":\"1893\"},{\"id\":\"1894\"},{\"id\":\"1895\"}]},\"id\":\"1897\",\"type\":\"Toolbar\"},{\"attributes\":{\"fill_color\":{\"value\":\"steelblue\"},\"line_color\":{\"value\":\"steelblue\"},\"size\":{\"units\":\"screen\",\"value\":12},\"x\":{\"field\":\"x\"},\"y\":{\"field\":\"y\"}},\"id\":\"1931\",\"type\":\"Circle\"},{\"attributes\":{\"data\":{\"text\":[1,1,1,1,1,1,1,1,1,1,1,1,1,1,1,1,1,1,1,1,1,1,1,1,1,1,1,1,1,1,1,1,1,1,1,1,1,1,1,1],\"x\":[0.5,0.0,0.5,0.0,0.5,0.0,0.5,0.0,0.5,1.5,1.0,1.5,1.0,1.5,1.0,1.5,1.0,1.5,2.5,2.0,2.5,2.0,2.5,2.0,2.5,2.0,2.5,3.5,3.0,3.5,3.0,3.5,3.0,3.5,3.0,3.5,4.0,4.0,4.0,4.0],\"y\":[0.0,0.5,1.0,1.5,2.0,2.5,3.0,3.5,4.0,0.0,0.5,1.0,1.5,2.0,2.5,3.0,3.5,4.0,0.0,0.5,1.0,1.5,2.0,2.5,3.0,3.5,4.0,0.0,0.5,1.0,1.5,2.0,2.5,3.0,3.5,4.0,0.5,1.5,2.5,3.5]},\"selected\":{\"id\":\"1957\"},\"selection_policy\":{\"id\":\"1958\"}},\"id\":\"1910\",\"type\":\"ColumnDataSource\"},{\"attributes\":{},\"id\":\"1955\",\"type\":\"UnionRenderers\"},{\"attributes\":{\"data_source\":{\"id\":\"1909\"},\"glyph\":{\"id\":\"1915\"},\"hover_glyph\":{\"id\":\"1917\"},\"muted_glyph\":null,\"nonselection_glyph\":{\"id\":\"1916\"},\"selection_glyph\":null,\"view\":{\"id\":\"1919\"}},\"id\":\"1918\",\"type\":\"GlyphRenderer\"},{\"attributes\":{},\"id\":\"1957\",\"type\":\"Selection\"},{\"attributes\":{},\"id\":\"1961\",\"type\":\"UnionRenderers\"},{\"attributes\":{},\"id\":\"1878\",\"type\":\"LinearScale\"},{\"attributes\":{},\"id\":\"1958\",\"type\":\"UnionRenderers\"},{\"attributes\":{\"end\":4.34,\"start\":-0.34},\"id\":\"1876\",\"type\":\"Range1d\"},{\"attributes\":{\"text\":\"\"},\"id\":\"1872\",\"type\":\"Title\"},{\"attributes\":{\"args\":{\"cost\":{\"id\":\"1912\"},\"done\":{\"id\":\"1913\"},\"n\":{\"id\":\"1911\"},\"source\":{\"id\":\"1905\"},\"tree_edge_src\":{\"id\":\"1906\"},\"tree_node_src\":{\"id\":\"1907\"}},\"code\":\"\\nif ((parseInt(n.text) + 1) < source.data['costs'].length) {\\n    n.text = (parseInt(n.text) + 1).toString()\\n}\\nvar iteration = parseInt(n.text)\\n\\n    cost.text = source.data['costs'][iteration].toFixed(1)\\n    \\n    \\n    if (iteration == source.data['costs'].length - 1) {\\n        done.text = \\\"done.\\\"\\n    } else {\\n        done.text = \\\"\\\"\\n    }\\n\\n    tree_edge_src.data['xs'] = source.data['iteration_xs'][iteration]\\n    tree_edge_src.data['ys'] = source.data['iteration_ys'][iteration]\\n    tree_node_src.data['x'] = source.data['iteration_node_x'][iteration]\\n    tree_node_src.data['y'] = source.data['iteration_node_y'][iteration]\\n    tree_node_src.change.emit()\\n    tree_edge_src.change.emit()\\n    \"},\"id\":\"1938\",\"type\":\"CustomJS\"},{\"attributes\":{\"data_source\":{\"id\":\"1908\"},\"glyph\":{\"id\":\"1926\"},\"hover_glyph\":null,\"muted_glyph\":null,\"nonselection_glyph\":{\"id\":\"1927\"},\"selection_glyph\":null,\"view\":{\"id\":\"1929\"}},\"id\":\"1928\",\"type\":\"GlyphRenderer\"},{\"attributes\":{\"axis\":{\"id\":\"1882\"},\"grid_line_color\":null,\"ticker\":null},\"id\":\"1885\",\"type\":\"Grid\"},{\"attributes\":{\"data\":{\"line_color\":[\"gray\",\"gray\",\"gray\",\"gray\",\"gray\",\"gray\",\"gray\",\"gray\",\"gray\",\"gray\",\"gray\",\"gray\",\"gray\",\"gray\",\"gray\",\"gray\",\"gray\",\"gray\",\"gray\",\"gray\",\"gray\",\"gray\",\"gray\",\"gray\",\"gray\",\"gray\",\"gray\",\"gray\",\"gray\",\"gray\",\"gray\",\"gray\",\"gray\",\"gray\",\"gray\",\"gray\",\"gray\",\"gray\",\"gray\",\"gray\"],\"u\":[0,0,1,1,2,2,3,3,4,5,5,6,6,7,7,8,8,9,10,10,11,11,12,12,13,13,14,15,15,16,16,17,17,18,18,19,20,21,22,23],\"u_pos\":[[0,0],[0,0],[0,1],[0,1],[0,2],[0,2],[0,3],[0,3],[0,4],[1,0],[1,0],[1,1],[1,1],[1,2],[1,2],[1,3],[1,3],[1,4],[2,0],[2,0],[2,1],[2,1],[2,2],[2,2],[2,3],[2,3],[2,4],[3,0],[3,0],[3,1],[3,1],[3,2],[3,2],[3,3],[3,3],[3,4],[4,0],[4,1],[4,2],[4,3]],\"v\":[5,1,6,2,7,3,8,4,9,10,6,11,7,12,8,13,9,14,15,11,16,12,17,13,18,14,19,20,16,21,17,22,18,23,19,24,21,22,23,24],\"v_pos\":[[1,0],[0,1],[1,1],[0,2],[1,2],[0,3],[1,3],[0,4],[1,4],[2,0],[1,1],[2,1],[1,2],[2,2],[1,3],[2,3],[1,4],[2,4],[3,0],[2,1],[3,1],[2,2],[3,2],[2,3],[3,3],[2,4],[3,4],[4,0],[3,1],[4,1],[3,2],[4,2],[3,3],[4,3],[3,4],[4,4],[4,1],[4,2],[4,3],[4,4]],\"weight\":[1,1,1,1,1,1,1,1,1,1,1,1,1,1,1,1,1,1,1,1,1,1,1,1,1,1,1,1,1,1,1,1,1,1,1,1,1,1,1,1],\"xs\":[[0,1],[0,0],[0,1],[0,0],[0,1],[0,0],[0,1],[0,0],[0,1],[1,2],[1,1],[1,2],[1,1],[1,2],[1,1],[1,2],[1,1],[1,2],[2,3],[2,2],[2,3],[2,2],[2,3],[2,2],[2,3],[2,2],[2,3],[3,4],[3,3],[3,4],[3,3],[3,4],[3,3],[3,4],[3,3],[3,4],[4,4],[4,4],[4,4],[4,4]],\"ys\":[[0,0],[0,1],[1,1],[1,2],[2,2],[2,3],[3,3],[3,4],[4,4],[0,0],[0,1],[1,1],[1,2],[2,2],[2,3],[3,3],[3,4],[4,4],[0,0],[0,1],[1,1],[1,2],[2,2],[2,3],[3,3],[3,4],[4,4],[0,0],[0,1],[1,1],[1,2],[2,2],[2,3],[3,3],[3,4],[4,4],[0,1],[1,2],[2,3],[3,4]]},\"selected\":{\"id\":\"1948\"},\"selection_policy\":{\"id\":\"1949\"}},\"id\":\"1909\",\"type\":\"ColumnDataSource\"},{\"attributes\":{},\"id\":\"1960\",\"type\":\"Selection\"},{\"attributes\":{\"button_type\":\"success\",\"icon\":null,\"js_event_callbacks\":{\"button_click\":[{\"id\":\"1940\"}]},\"label\":\"Previous\",\"sizing_mode\":\"scale_width\",\"width_policy\":\"fit\"},\"id\":\"1939\",\"type\":\"Button\"},{\"attributes\":{\"line_color\":{\"field\":\"line_color\"},\"line_width\":{\"value\":5},\"xs\":{\"field\":\"xs\"},\"ys\":{\"field\":\"ys\"}},\"id\":\"1915\",\"type\":\"MultiLine\"},{\"attributes\":{\"source\":{\"id\":\"1908\"}},\"id\":\"1929\",\"type\":\"CDSView\"},{\"attributes\":{\"args\":{\"cost\":{\"id\":\"1912\"},\"done\":{\"id\":\"1913\"},\"n\":{\"id\":\"1911\"},\"source\":{\"id\":\"1905\"},\"tree_edge_src\":{\"id\":\"1906\"},\"tree_node_src\":{\"id\":\"1907\"}},\"code\":\"\\nif ((parseInt(n.text) - 1) >= 0) {\\n    n.text = (parseInt(n.text) - 1).toString()\\n}\\nvar iteration = parseInt(n.text)\\n\\n    cost.text = source.data['costs'][iteration].toFixed(1)\\n    \\n    \\n    if (iteration == source.data['costs'].length - 1) {\\n        done.text = \\\"done.\\\"\\n    } else {\\n        done.text = \\\"\\\"\\n    }\\n\\n    tree_edge_src.data['xs'] = source.data['iteration_xs'][iteration]\\n    tree_edge_src.data['ys'] = source.data['iteration_ys'][iteration]\\n    tree_node_src.data['x'] = source.data['iteration_node_x'][iteration]\\n    tree_node_src.data['y'] = source.data['iteration_node_y'][iteration]\\n    tree_node_src.change.emit()\\n    tree_edge_src.change.emit()\\n    \"},\"id\":\"1940\",\"type\":\"CustomJS\"},{\"attributes\":{},\"id\":\"1880\",\"type\":\"LinearScale\"},{\"attributes\":{\"align\":\"center\",\"text\":\"0\",\"width\":200},\"id\":\"1912\",\"type\":\"Div\"},{\"attributes\":{\"fill_color\":{\"field\":\"fill_color\"},\"line_alpha\":{\"value\":0.1},\"line_color\":{\"field\":\"line_color\"},\"size\":{\"units\":\"screen\",\"value\":12},\"x\":{\"field\":\"x\"},\"y\":{\"field\":\"y\"}},\"id\":\"1927\",\"type\":\"Circle\"},{\"attributes\":{},\"id\":\"1887\",\"type\":\"BasicTicker\"},{\"attributes\":{\"children\":[{\"id\":\"1939\"},{\"id\":\"1937\"}],\"max_width\":400,\"sizing_mode\":\"stretch_both\"},\"id\":\"1941\",\"type\":\"Row\"},{\"attributes\":{\"data\":{\"costs\":[0,1.0,2.0,3.0,4.0,5.0,6.0,7.0,8.0,9.0,10.0,11.0,12.0,13.0,14.0,15.0,16.0,17.0,18.0,19.0,20.0,21.0,22.0,23.0,24.0],\"iteration_node_x\":[[],[0,0],[0,0,0],[0,0,0,0],[0,0,0,0,0],[0,0,0,0,0,1],[0,0,0,0,0,1,1],[0,0,0,0,0,1,1,1],[0,0,0,0,0,1,1,1,1],[0,0,0,0,0,1,1,1,1,1],[0,0,0,0,0,1,1,1,1,1,2],[0,0,0,0,0,1,1,1,1,1,2,2],[0,0,0,0,0,1,1,1,1,1,2,2,2],[0,0,0,0,0,1,1,1,1,1,2,2,2,2],[0,0,0,0,0,1,1,1,1,1,2,2,2,2,2],[0,0,0,0,0,1,1,1,1,1,2,2,2,2,2,3],[0,0,0,0,0,1,1,1,1,1,2,2,2,2,2,3,3],[0,0,0,0,0,1,1,1,1,1,2,2,2,2,2,3,3,3],[0,0,0,0,0,1,1,1,1,1,2,2,2,2,2,3,3,3,3],[0,0,0,0,0,1,1,1,1,1,2,2,2,2,2,3,3,3,3,3],[0,0,0,0,0,1,1,1,1,1,2,2,2,2,2,3,3,3,3,3,4],[0,0,0,0,0,1,1,1,1,1,2,2,2,2,2,3,3,3,3,3,4,4],[0,0,0,0,0,1,1,1,1,1,2,2,2,2,2,3,3,3,3,3,4,4,4],[0,0,0,0,0,1,1,1,1,1,2,2,2,2,2,3,3,3,3,3,4,4,4,4],[0,0,0,0,0,1,1,1,1,1,2,2,2,2,2,3,3,3,3,3,4,4,4,4,4]],\"iteration_node_y\":[[],[0,1],[0,1,2],[0,1,2,3],[0,1,2,3,4],[0,1,2,3,4,0],[0,1,2,3,4,0,1],[0,1,2,3,4,0,1,2],[0,1,2,3,4,0,1,2,3],[0,1,2,3,4,0,1,2,3,4],[0,1,2,3,4,0,1,2,3,4,0],[0,1,2,3,4,0,1,2,3,4,0,1],[0,1,2,3,4,0,1,2,3,4,0,1,2],[0,1,2,3,4,0,1,2,3,4,0,1,2,3],[0,1,2,3,4,0,1,2,3,4,0,1,2,3,4],[0,1,2,3,4,0,1,2,3,4,0,1,2,3,4,0],[0,1,2,3,4,0,1,2,3,4,0,1,2,3,4,0,1],[0,1,2,3,4,0,1,2,3,4,0,1,2,3,4,0,1,2],[0,1,2,3,4,0,1,2,3,4,0,1,2,3,4,0,1,2,3],[0,1,2,3,4,0,1,2,3,4,0,1,2,3,4,0,1,2,3,4],[0,1,2,3,4,0,1,2,3,4,0,1,2,3,4,0,1,2,3,4,0],[0,1,2,3,4,0,1,2,3,4,0,1,2,3,4,0,1,2,3,4,0,1],[0,1,2,3,4,0,1,2,3,4,0,1,2,3,4,0,1,2,3,4,0,1,2],[0,1,2,3,4,0,1,2,3,4,0,1,2,3,4,0,1,2,3,4,0,1,2,3],[0,1,2,3,4,0,1,2,3,4,0,1,2,3,4,0,1,2,3,4,0,1,2,3,4]],\"iteration_xs\":[[],[[0,0]],[[0,0],[0,0]],[[0,0],[0,0],[0,0]],[[0,0],[0,0],[0,0],[0,0]],[[0,0],[0,0],[0,0],[0,0],[0,1]],[[0,0],[0,0],[0,0],[0,0],[0,1],[0,1]],[[0,0],[0,0],[0,0],[0,0],[0,1],[0,1],[0,1]],[[0,0],[0,0],[0,0],[0,0],[0,1],[0,1],[0,1],[0,1]],[[0,0],[0,0],[0,0],[0,0],[0,1],[0,1],[0,1],[0,1],[0,1]],[[0,0],[0,0],[0,0],[0,0],[0,1],[0,1],[0,1],[0,1],[0,1],[1,2]],[[0,0],[0,0],[0,0],[0,0],[0,1],[0,1],[0,1],[0,1],[0,1],[1,2],[1,2]],[[0,0],[0,0],[0,0],[0,0],[0,1],[0,1],[0,1],[0,1],[0,1],[1,2],[1,2],[1,2]],[[0,0],[0,0],[0,0],[0,0],[0,1],[0,1],[0,1],[0,1],[0,1],[1,2],[1,2],[1,2],[1,2]],[[0,0],[0,0],[0,0],[0,0],[0,1],[0,1],[0,1],[0,1],[0,1],[1,2],[1,2],[1,2],[1,2],[1,2]],[[0,0],[0,0],[0,0],[0,0],[0,1],[0,1],[0,1],[0,1],[0,1],[1,2],[1,2],[1,2],[1,2],[1,2],[2,3]],[[0,0],[0,0],[0,0],[0,0],[0,1],[0,1],[0,1],[0,1],[0,1],[1,2],[1,2],[1,2],[1,2],[1,2],[2,3],[2,3]],[[0,0],[0,0],[0,0],[0,0],[0,1],[0,1],[0,1],[0,1],[0,1],[1,2],[1,2],[1,2],[1,2],[1,2],[2,3],[2,3],[2,3]],[[0,0],[0,0],[0,0],[0,0],[0,1],[0,1],[0,1],[0,1],[0,1],[1,2],[1,2],[1,2],[1,2],[1,2],[2,3],[2,3],[2,3],[2,3]],[[0,0],[0,0],[0,0],[0,0],[0,1],[0,1],[0,1],[0,1],[0,1],[1,2],[1,2],[1,2],[1,2],[1,2],[2,3],[2,3],[2,3],[2,3],[2,3]],[[0,0],[0,0],[0,0],[0,0],[0,1],[0,1],[0,1],[0,1],[0,1],[1,2],[1,2],[1,2],[1,2],[1,2],[2,3],[2,3],[2,3],[2,3],[2,3],[3,4]],[[0,0],[0,0],[0,0],[0,0],[0,1],[0,1],[0,1],[0,1],[0,1],[1,2],[1,2],[1,2],[1,2],[1,2],[2,3],[2,3],[2,3],[2,3],[2,3],[3,4],[3,4]],[[0,0],[0,0],[0,0],[0,0],[0,1],[0,1],[0,1],[0,1],[0,1],[1,2],[1,2],[1,2],[1,2],[1,2],[2,3],[2,3],[2,3],[2,3],[2,3],[3,4],[3,4],[3,4]],[[0,0],[0,0],[0,0],[0,0],[0,1],[0,1],[0,1],[0,1],[0,1],[1,2],[1,2],[1,2],[1,2],[1,2],[2,3],[2,3],[2,3],[2,3],[2,3],[3,4],[3,4],[3,4],[3,4]],[[0,0],[0,0],[0,0],[0,0],[0,1],[0,1],[0,1],[0,1],[0,1],[1,2],[1,2],[1,2],[1,2],[1,2],[2,3],[2,3],[2,3],[2,3],[2,3],[3,4],[3,4],[3,4],[3,4],[3,4]]],\"iteration_ys\":[[],[[0,1]],[[0,1],[1,2]],[[0,1],[1,2],[2,3]],[[0,1],[1,2],[2,3],[3,4]],[[0,1],[1,2],[2,3],[3,4],[0,0]],[[0,1],[1,2],[2,3],[3,4],[0,0],[1,1]],[[0,1],[1,2],[2,3],[3,4],[0,0],[1,1],[2,2]],[[0,1],[1,2],[2,3],[3,4],[0,0],[1,1],[2,2],[3,3]],[[0,1],[1,2],[2,3],[3,4],[0,0],[1,1],[2,2],[3,3],[4,4]],[[0,1],[1,2],[2,3],[3,4],[0,0],[1,1],[2,2],[3,3],[4,4],[0,0]],[[0,1],[1,2],[2,3],[3,4],[0,0],[1,1],[2,2],[3,3],[4,4],[0,0],[1,1]],[[0,1],[1,2],[2,3],[3,4],[0,0],[1,1],[2,2],[3,3],[4,4],[0,0],[1,1],[2,2]],[[0,1],[1,2],[2,3],[3,4],[0,0],[1,1],[2,2],[3,3],[4,4],[0,0],[1,1],[2,2],[3,3]],[[0,1],[1,2],[2,3],[3,4],[0,0],[1,1],[2,2],[3,3],[4,4],[0,0],[1,1],[2,2],[3,3],[4,4]],[[0,1],[1,2],[2,3],[3,4],[0,0],[1,1],[2,2],[3,3],[4,4],[0,0],[1,1],[2,2],[3,3],[4,4],[0,0]],[[0,1],[1,2],[2,3],[3,4],[0,0],[1,1],[2,2],[3,3],[4,4],[0,0],[1,1],[2,2],[3,3],[4,4],[0,0],[1,1]],[[0,1],[1,2],[2,3],[3,4],[0,0],[1,1],[2,2],[3,3],[4,4],[0,0],[1,1],[2,2],[3,3],[4,4],[0,0],[1,1],[2,2]],[[0,1],[1,2],[2,3],[3,4],[0,0],[1,1],[2,2],[3,3],[4,4],[0,0],[1,1],[2,2],[3,3],[4,4],[0,0],[1,1],[2,2],[3,3]],[[0,1],[1,2],[2,3],[3,4],[0,0],[1,1],[2,2],[3,3],[4,4],[0,0],[1,1],[2,2],[3,3],[4,4],[0,0],[1,1],[2,2],[3,3],[4,4]],[[0,1],[1,2],[2,3],[3,4],[0,0],[1,1],[2,2],[3,3],[4,4],[0,0],[1,1],[2,2],[3,3],[4,4],[0,0],[1,1],[2,2],[3,3],[4,4],[0,0]],[[0,1],[1,2],[2,3],[3,4],[0,0],[1,1],[2,2],[3,3],[4,4],[0,0],[1,1],[2,2],[3,3],[4,4],[0,0],[1,1],[2,2],[3,3],[4,4],[0,0],[1,1]],[[0,1],[1,2],[2,3],[3,4],[0,0],[1,1],[2,2],[3,3],[4,4],[0,0],[1,1],[2,2],[3,3],[4,4],[0,0],[1,1],[2,2],[3,3],[4,4],[0,0],[1,1],[2,2]],[[0,1],[1,2],[2,3],[3,4],[0,0],[1,1],[2,2],[3,3],[4,4],[0,0],[1,1],[2,2],[3,3],[4,4],[0,0],[1,1],[2,2],[3,3],[4,4],[0,0],[1,1],[2,2],[3,3]],[[0,1],[1,2],[2,3],[3,4],[0,0],[1,1],[2,2],[3,3],[4,4],[0,0],[1,1],[2,2],[3,3],[4,4],[0,0],[1,1],[2,2],[3,3],[4,4],[0,0],[1,1],[2,2],[3,3],[4,4]]]},\"selected\":{\"id\":\"1960\"},\"selection_policy\":{\"id\":\"1961\"}},\"id\":\"1905\",\"type\":\"ColumnDataSource\"},{\"attributes\":{\"data_source\":{\"id\":\"1907\"},\"glyph\":{\"id\":\"1931\"},\"hover_glyph\":null,\"muted_glyph\":null,\"nonselection_glyph\":{\"id\":\"1932\"},\"selection_glyph\":null,\"view\":{\"id\":\"1934\"}},\"id\":\"1933\",\"type\":\"GlyphRenderer\"},{\"attributes\":{\"children\":[{\"id\":\"1912\"},{\"id\":\"1913\"}]},\"id\":\"1942\",\"type\":\"Row\"},{\"attributes\":{\"bottom_units\":\"screen\",\"fill_alpha\":0.5,\"fill_color\":\"lightgrey\",\"left_units\":\"screen\",\"level\":\"overlay\",\"line_alpha\":1.0,\"line_color\":\"black\",\"line_dash\":[4,4],\"line_width\":2,\"right_units\":\"screen\",\"top_units\":\"screen\"},\"id\":\"1896\",\"type\":\"BoxAnnotation\"},{\"attributes\":{\"axis\":{\"id\":\"1886\"},\"dimension\":1,\"grid_line_color\":null,\"ticker\":null},\"id\":\"1889\",\"type\":\"Grid\"},{\"attributes\":{\"align\":\"center\",\"text\":\"0\",\"width\":400},\"id\":\"1911\",\"type\":\"Div\"},{\"attributes\":{\"formatter\":{\"id\":\"1946\"},\"ticker\":{\"id\":\"1883\"},\"visible\":false},\"id\":\"1882\",\"type\":\"LinearAxis\"},{\"attributes\":{\"data\":{\"fill_color\":[\"#EA8585\",\"#EA8585\",\"#EA8585\",\"#EA8585\",\"#EA8585\",\"#EA8585\",\"#EA8585\",\"#EA8585\",\"#EA8585\",\"#EA8585\",\"#EA8585\",\"#EA8585\",\"#EA8585\",\"#EA8585\",\"#EA8585\",\"#EA8585\",\"#EA8585\",\"#EA8585\",\"#EA8585\",\"#EA8585\",\"#EA8585\",\"#EA8585\",\"#EA8585\",\"#EA8585\",\"#EA8585\"],\"line_color\":[\"#EA8585\",\"#EA8585\",\"#EA8585\",\"#EA8585\",\"#EA8585\",\"#EA8585\",\"#EA8585\",\"#EA8585\",\"#EA8585\",\"#EA8585\",\"#EA8585\",\"#EA8585\",\"#EA8585\",\"#EA8585\",\"#EA8585\",\"#EA8585\",\"#EA8585\",\"#EA8585\",\"#EA8585\",\"#EA8585\",\"#EA8585\",\"#EA8585\",\"#EA8585\",\"#EA8585\",\"#EA8585\"],\"x\":[0,0,0,0,0,1,1,1,1,1,2,2,2,2,2,3,3,3,3,3,4,4,4,4,4],\"y\":[0,1,2,3,4,0,1,2,3,4,0,1,2,3,4,0,1,2,3,4,0,1,2,3,4]},\"selected\":{\"id\":\"1952\"},\"selection_policy\":{\"id\":\"1953\"}},\"id\":\"1908\",\"type\":\"ColumnDataSource\"},{\"attributes\":{\"data\":{\"x\":[],\"y\":[]},\"selected\":{\"id\":\"1954\"},\"selection_policy\":{\"id\":\"1955\"}},\"id\":\"1907\",\"type\":\"ColumnDataSource\"},{\"attributes\":{},\"id\":\"1944\",\"type\":\"BasicTickFormatter\"},{\"attributes\":{},\"id\":\"1946\",\"type\":\"BasicTickFormatter\"}],\"root_ids\":[\"1966\"]},\"title\":\"Bokeh Application\",\"version\":\"2.2.3\"}};\n",
       "  var render_items = [{\"docid\":\"55dd9624-b5d2-47b5-9f6f-366855004deb\",\"root_ids\":[\"1966\"],\"roots\":{\"1966\":\"a21035ca-18f0-4165-8703-1dca272810d7\"}}];\n",
       "  root.Bokeh.embed.embed_items_notebook(docs_json, render_items);\n",
       "\n",
       "  }\n",
       "  if (root.Bokeh !== undefined) {\n",
       "    embed_document(root);\n",
       "  } else {\n",
       "    var attempts = 0;\n",
       "    var timer = setInterval(function(root) {\n",
       "      if (root.Bokeh !== undefined) {\n",
       "        clearInterval(timer);\n",
       "        embed_document(root);\n",
       "      } else {\n",
       "        attempts++;\n",
       "        if (attempts > 100) {\n",
       "          clearInterval(timer);\n",
       "          console.log(\"Bokeh: ERROR: Unable to run BokehJS code because BokehJS library is missing\");\n",
       "        }\n",
       "      }\n",
       "    }, 10, root)\n",
       "  }\n",
       "})(window);"
      ],
      "application/vnd.bokehjs_exec.v0+json": ""
     },
     "metadata": {
      "application/vnd.bokehjs_exec.v0+json": {
       "id": "1966"
      }
     },
     "output_type": "display_data"
    }
   ],
   "source": [
    "plot_mst_algorithm(nodes, edges, 'prims', width=400, height=400)"
   ]
  }
 ],
 "metadata": {
  "kernelspec": {
   "display_name": "Python 3",
   "language": "python",
   "name": "python3"
  },
  "language_info": {
   "codemirror_mode": {
    "name": "ipython",
    "version": 3
   },
   "file_extension": ".py",
   "mimetype": "text/x-python",
   "name": "python",
   "nbconvert_exporter": "python",
   "pygments_lexer": "ipython3",
   "version": "3.6.10"
  }
 },
 "nbformat": 4,
 "nbformat_minor": 4
}
