{
 "cells": [
  {
   "cell_type": "code",
   "execution_count": 1,
   "metadata": {},
   "outputs": [
    {
     "data": {
      "text/html": [
       "\n",
       "    <div class=\"bk-root\">\n",
       "        <a href=\"https://bokeh.org\" target=\"_blank\" class=\"bk-logo bk-logo-small bk-logo-notebook\"></a>\n",
       "        <span id=\"1001\">Loading BokehJS ...</span>\n",
       "    </div>"
      ]
     },
     "metadata": {},
     "output_type": "display_data"
    },
    {
     "data": {
      "application/javascript": [
       "\n",
       "(function(root) {\n",
       "  function now() {\n",
       "    return new Date();\n",
       "  }\n",
       "\n",
       "  var force = true;\n",
       "\n",
       "  if (typeof root._bokeh_onload_callbacks === \"undefined\" || force === true) {\n",
       "    root._bokeh_onload_callbacks = [];\n",
       "    root._bokeh_is_loading = undefined;\n",
       "  }\n",
       "\n",
       "  var JS_MIME_TYPE = 'application/javascript';\n",
       "  var HTML_MIME_TYPE = 'text/html';\n",
       "  var EXEC_MIME_TYPE = 'application/vnd.bokehjs_exec.v0+json';\n",
       "  var CLASS_NAME = 'output_bokeh rendered_html';\n",
       "\n",
       "  /**\n",
       "   * Render data to the DOM node\n",
       "   */\n",
       "  function render(props, node) {\n",
       "    var script = document.createElement(\"script\");\n",
       "    node.appendChild(script);\n",
       "  }\n",
       "\n",
       "  /**\n",
       "   * Handle when an output is cleared or removed\n",
       "   */\n",
       "  function handleClearOutput(event, handle) {\n",
       "    var cell = handle.cell;\n",
       "\n",
       "    var id = cell.output_area._bokeh_element_id;\n",
       "    var server_id = cell.output_area._bokeh_server_id;\n",
       "    // Clean up Bokeh references\n",
       "    if (id != null && id in Bokeh.index) {\n",
       "      Bokeh.index[id].model.document.clear();\n",
       "      delete Bokeh.index[id];\n",
       "    }\n",
       "\n",
       "    if (server_id !== undefined) {\n",
       "      // Clean up Bokeh references\n",
       "      var cmd = \"from bokeh.io.state import curstate; print(curstate().uuid_to_server['\" + server_id + \"'].get_sessions()[0].document.roots[0]._id)\";\n",
       "      cell.notebook.kernel.execute(cmd, {\n",
       "        iopub: {\n",
       "          output: function(msg) {\n",
       "            var id = msg.content.text.trim();\n",
       "            if (id in Bokeh.index) {\n",
       "              Bokeh.index[id].model.document.clear();\n",
       "              delete Bokeh.index[id];\n",
       "            }\n",
       "          }\n",
       "        }\n",
       "      });\n",
       "      // Destroy server and session\n",
       "      var cmd = \"import bokeh.io.notebook as ion; ion.destroy_server('\" + server_id + \"')\";\n",
       "      cell.notebook.kernel.execute(cmd);\n",
       "    }\n",
       "  }\n",
       "\n",
       "  /**\n",
       "   * Handle when a new output is added\n",
       "   */\n",
       "  function handleAddOutput(event, handle) {\n",
       "    var output_area = handle.output_area;\n",
       "    var output = handle.output;\n",
       "\n",
       "    // limit handleAddOutput to display_data with EXEC_MIME_TYPE content only\n",
       "    if ((output.output_type != \"display_data\") || (!output.data.hasOwnProperty(EXEC_MIME_TYPE))) {\n",
       "      return\n",
       "    }\n",
       "\n",
       "    var toinsert = output_area.element.find(\".\" + CLASS_NAME.split(' ')[0]);\n",
       "\n",
       "    if (output.metadata[EXEC_MIME_TYPE][\"id\"] !== undefined) {\n",
       "      toinsert[toinsert.length - 1].firstChild.textContent = output.data[JS_MIME_TYPE];\n",
       "      // store reference to embed id on output_area\n",
       "      output_area._bokeh_element_id = output.metadata[EXEC_MIME_TYPE][\"id\"];\n",
       "    }\n",
       "    if (output.metadata[EXEC_MIME_TYPE][\"server_id\"] !== undefined) {\n",
       "      var bk_div = document.createElement(\"div\");\n",
       "      bk_div.innerHTML = output.data[HTML_MIME_TYPE];\n",
       "      var script_attrs = bk_div.children[0].attributes;\n",
       "      for (var i = 0; i < script_attrs.length; i++) {\n",
       "        toinsert[toinsert.length - 1].firstChild.setAttribute(script_attrs[i].name, script_attrs[i].value);\n",
       "        toinsert[toinsert.length - 1].firstChild.textContent = bk_div.children[0].textContent\n",
       "      }\n",
       "      // store reference to server id on output_area\n",
       "      output_area._bokeh_server_id = output.metadata[EXEC_MIME_TYPE][\"server_id\"];\n",
       "    }\n",
       "  }\n",
       "\n",
       "  function register_renderer(events, OutputArea) {\n",
       "\n",
       "    function append_mime(data, metadata, element) {\n",
       "      // create a DOM node to render to\n",
       "      var toinsert = this.create_output_subarea(\n",
       "        metadata,\n",
       "        CLASS_NAME,\n",
       "        EXEC_MIME_TYPE\n",
       "      );\n",
       "      this.keyboard_manager.register_events(toinsert);\n",
       "      // Render to node\n",
       "      var props = {data: data, metadata: metadata[EXEC_MIME_TYPE]};\n",
       "      render(props, toinsert[toinsert.length - 1]);\n",
       "      element.append(toinsert);\n",
       "      return toinsert\n",
       "    }\n",
       "\n",
       "    /* Handle when an output is cleared or removed */\n",
       "    events.on('clear_output.CodeCell', handleClearOutput);\n",
       "    events.on('delete.Cell', handleClearOutput);\n",
       "\n",
       "    /* Handle when a new output is added */\n",
       "    events.on('output_added.OutputArea', handleAddOutput);\n",
       "\n",
       "    /**\n",
       "     * Register the mime type and append_mime function with output_area\n",
       "     */\n",
       "    OutputArea.prototype.register_mime_type(EXEC_MIME_TYPE, append_mime, {\n",
       "      /* Is output safe? */\n",
       "      safe: true,\n",
       "      /* Index of renderer in `output_area.display_order` */\n",
       "      index: 0\n",
       "    });\n",
       "  }\n",
       "\n",
       "  // register the mime type if in Jupyter Notebook environment and previously unregistered\n",
       "  if (root.Jupyter !== undefined) {\n",
       "    var events = require('base/js/events');\n",
       "    var OutputArea = require('notebook/js/outputarea').OutputArea;\n",
       "\n",
       "    if (OutputArea.prototype.mime_types().indexOf(EXEC_MIME_TYPE) == -1) {\n",
       "      register_renderer(events, OutputArea);\n",
       "    }\n",
       "  }\n",
       "\n",
       "  \n",
       "  if (typeof (root._bokeh_timeout) === \"undefined\" || force === true) {\n",
       "    root._bokeh_timeout = Date.now() + 5000;\n",
       "    root._bokeh_failed_load = false;\n",
       "  }\n",
       "\n",
       "  var NB_LOAD_WARNING = {'data': {'text/html':\n",
       "     \"<div style='background-color: #fdd'>\\n\"+\n",
       "     \"<p>\\n\"+\n",
       "     \"BokehJS does not appear to have successfully loaded. If loading BokehJS from CDN, this \\n\"+\n",
       "     \"may be due to a slow or bad network connection. Possible fixes:\\n\"+\n",
       "     \"</p>\\n\"+\n",
       "     \"<ul>\\n\"+\n",
       "     \"<li>re-rerun `output_notebook()` to attempt to load from CDN again, or</li>\\n\"+\n",
       "     \"<li>use INLINE resources instead, as so:</li>\\n\"+\n",
       "     \"</ul>\\n\"+\n",
       "     \"<code>\\n\"+\n",
       "     \"from bokeh.resources import INLINE\\n\"+\n",
       "     \"output_notebook(resources=INLINE)\\n\"+\n",
       "     \"</code>\\n\"+\n",
       "     \"</div>\"}};\n",
       "\n",
       "  function display_loaded() {\n",
       "    var el = document.getElementById(\"1001\");\n",
       "    if (el != null) {\n",
       "      el.textContent = \"BokehJS is loading...\";\n",
       "    }\n",
       "    if (root.Bokeh !== undefined) {\n",
       "      if (el != null) {\n",
       "        el.textContent = \"BokehJS \" + root.Bokeh.version + \" successfully loaded.\";\n",
       "      }\n",
       "    } else if (Date.now() < root._bokeh_timeout) {\n",
       "      setTimeout(display_loaded, 100)\n",
       "    }\n",
       "  }\n",
       "\n",
       "\n",
       "  function run_callbacks() {\n",
       "    try {\n",
       "      root._bokeh_onload_callbacks.forEach(function(callback) {\n",
       "        if (callback != null)\n",
       "          callback();\n",
       "      });\n",
       "    } finally {\n",
       "      delete root._bokeh_onload_callbacks\n",
       "    }\n",
       "    console.debug(\"Bokeh: all callbacks have finished\");\n",
       "  }\n",
       "\n",
       "  function load_libs(css_urls, js_urls, callback) {\n",
       "    if (css_urls == null) css_urls = [];\n",
       "    if (js_urls == null) js_urls = [];\n",
       "\n",
       "    root._bokeh_onload_callbacks.push(callback);\n",
       "    if (root._bokeh_is_loading > 0) {\n",
       "      console.debug(\"Bokeh: BokehJS is being loaded, scheduling callback at\", now());\n",
       "      return null;\n",
       "    }\n",
       "    if (js_urls == null || js_urls.length === 0) {\n",
       "      run_callbacks();\n",
       "      return null;\n",
       "    }\n",
       "    console.debug(\"Bokeh: BokehJS not loaded, scheduling load and callback at\", now());\n",
       "    root._bokeh_is_loading = css_urls.length + js_urls.length;\n",
       "\n",
       "    function on_load() {\n",
       "      root._bokeh_is_loading--;\n",
       "      if (root._bokeh_is_loading === 0) {\n",
       "        console.debug(\"Bokeh: all BokehJS libraries/stylesheets loaded\");\n",
       "        run_callbacks()\n",
       "      }\n",
       "    }\n",
       "\n",
       "    function on_error() {\n",
       "      console.error(\"failed to load \" + url);\n",
       "    }\n",
       "\n",
       "    for (var i = 0; i < css_urls.length; i++) {\n",
       "      var url = css_urls[i];\n",
       "      const element = document.createElement(\"link\");\n",
       "      element.onload = on_load;\n",
       "      element.onerror = on_error;\n",
       "      element.rel = \"stylesheet\";\n",
       "      element.type = \"text/css\";\n",
       "      element.href = url;\n",
       "      console.debug(\"Bokeh: injecting link tag for BokehJS stylesheet: \", url);\n",
       "      document.body.appendChild(element);\n",
       "    }\n",
       "\n",
       "    const hashes = {\"https://cdn.bokeh.org/bokeh/release/bokeh-2.2.3.min.js\": \"T2yuo9Oe71Cz/I4X9Ac5+gpEa5a8PpJCDlqKYO0CfAuEszu1JrXLl8YugMqYe3sM\", \"https://cdn.bokeh.org/bokeh/release/bokeh-widgets-2.2.3.min.js\": \"98GDGJ0kOMCUMUePhksaQ/GYgB3+NH9h996V88sh3aOiUNX3N+fLXAtry6xctSZ6\", \"https://cdn.bokeh.org/bokeh/release/bokeh-tables-2.2.3.min.js\": \"89bArO+nlbP3sgakeHjCo1JYxYR5wufVgA3IbUvDY+K7w4zyxJqssu7wVnfeKCq8\"};\n",
       "\n",
       "    for (var i = 0; i < js_urls.length; i++) {\n",
       "      var url = js_urls[i];\n",
       "      var element = document.createElement('script');\n",
       "      element.onload = on_load;\n",
       "      element.onerror = on_error;\n",
       "      element.async = false;\n",
       "      element.src = url;\n",
       "      if (url in hashes) {\n",
       "        element.crossOrigin = \"anonymous\";\n",
       "        element.integrity = \"sha384-\" + hashes[url];\n",
       "      }\n",
       "      console.debug(\"Bokeh: injecting script tag for BokehJS library: \", url);\n",
       "      document.head.appendChild(element);\n",
       "    }\n",
       "  };\n",
       "\n",
       "  function inject_raw_css(css) {\n",
       "    const element = document.createElement(\"style\");\n",
       "    element.appendChild(document.createTextNode(css));\n",
       "    document.body.appendChild(element);\n",
       "  }\n",
       "\n",
       "  \n",
       "  var js_urls = [\"https://cdn.bokeh.org/bokeh/release/bokeh-2.2.3.min.js\", \"https://cdn.bokeh.org/bokeh/release/bokeh-widgets-2.2.3.min.js\", \"https://cdn.bokeh.org/bokeh/release/bokeh-tables-2.2.3.min.js\"];\n",
       "  var css_urls = [];\n",
       "  \n",
       "\n",
       "  var inline_js = [\n",
       "    function(Bokeh) {\n",
       "      Bokeh.set_log_level(\"info\");\n",
       "    },\n",
       "    function(Bokeh) {\n",
       "    \n",
       "    \n",
       "    }\n",
       "  ];\n",
       "\n",
       "  function run_inline_js() {\n",
       "    \n",
       "    if (root.Bokeh !== undefined || force === true) {\n",
       "      \n",
       "    for (var i = 0; i < inline_js.length; i++) {\n",
       "      inline_js[i].call(root, root.Bokeh);\n",
       "    }\n",
       "    if (force === true) {\n",
       "        display_loaded();\n",
       "      }} else if (Date.now() < root._bokeh_timeout) {\n",
       "      setTimeout(run_inline_js, 100);\n",
       "    } else if (!root._bokeh_failed_load) {\n",
       "      console.log(\"Bokeh: BokehJS failed to load within specified timeout.\");\n",
       "      root._bokeh_failed_load = true;\n",
       "    } else if (force !== true) {\n",
       "      var cell = $(document.getElementById(\"1001\")).parents('.cell').data().cell;\n",
       "      cell.output_area.append_execute_result(NB_LOAD_WARNING)\n",
       "    }\n",
       "\n",
       "  }\n",
       "\n",
       "  if (root._bokeh_is_loading === 0) {\n",
       "    console.debug(\"Bokeh: BokehJS loaded, going straight to plotting\");\n",
       "    run_inline_js();\n",
       "  } else {\n",
       "    load_libs(css_urls, js_urls, function() {\n",
       "      console.debug(\"Bokeh: BokehJS plotting callback run at\", now());\n",
       "      run_inline_js();\n",
       "    });\n",
       "  }\n",
       "}(window));"
      ],
      "application/vnd.bokehjs_load.v0+json": "\n(function(root) {\n  function now() {\n    return new Date();\n  }\n\n  var force = true;\n\n  if (typeof root._bokeh_onload_callbacks === \"undefined\" || force === true) {\n    root._bokeh_onload_callbacks = [];\n    root._bokeh_is_loading = undefined;\n  }\n\n  \n\n  \n  if (typeof (root._bokeh_timeout) === \"undefined\" || force === true) {\n    root._bokeh_timeout = Date.now() + 5000;\n    root._bokeh_failed_load = false;\n  }\n\n  var NB_LOAD_WARNING = {'data': {'text/html':\n     \"<div style='background-color: #fdd'>\\n\"+\n     \"<p>\\n\"+\n     \"BokehJS does not appear to have successfully loaded. If loading BokehJS from CDN, this \\n\"+\n     \"may be due to a slow or bad network connection. Possible fixes:\\n\"+\n     \"</p>\\n\"+\n     \"<ul>\\n\"+\n     \"<li>re-rerun `output_notebook()` to attempt to load from CDN again, or</li>\\n\"+\n     \"<li>use INLINE resources instead, as so:</li>\\n\"+\n     \"</ul>\\n\"+\n     \"<code>\\n\"+\n     \"from bokeh.resources import INLINE\\n\"+\n     \"output_notebook(resources=INLINE)\\n\"+\n     \"</code>\\n\"+\n     \"</div>\"}};\n\n  function display_loaded() {\n    var el = document.getElementById(\"1001\");\n    if (el != null) {\n      el.textContent = \"BokehJS is loading...\";\n    }\n    if (root.Bokeh !== undefined) {\n      if (el != null) {\n        el.textContent = \"BokehJS \" + root.Bokeh.version + \" successfully loaded.\";\n      }\n    } else if (Date.now() < root._bokeh_timeout) {\n      setTimeout(display_loaded, 100)\n    }\n  }\n\n\n  function run_callbacks() {\n    try {\n      root._bokeh_onload_callbacks.forEach(function(callback) {\n        if (callback != null)\n          callback();\n      });\n    } finally {\n      delete root._bokeh_onload_callbacks\n    }\n    console.debug(\"Bokeh: all callbacks have finished\");\n  }\n\n  function load_libs(css_urls, js_urls, callback) {\n    if (css_urls == null) css_urls = [];\n    if (js_urls == null) js_urls = [];\n\n    root._bokeh_onload_callbacks.push(callback);\n    if (root._bokeh_is_loading > 0) {\n      console.debug(\"Bokeh: BokehJS is being loaded, scheduling callback at\", now());\n      return null;\n    }\n    if (js_urls == null || js_urls.length === 0) {\n      run_callbacks();\n      return null;\n    }\n    console.debug(\"Bokeh: BokehJS not loaded, scheduling load and callback at\", now());\n    root._bokeh_is_loading = css_urls.length + js_urls.length;\n\n    function on_load() {\n      root._bokeh_is_loading--;\n      if (root._bokeh_is_loading === 0) {\n        console.debug(\"Bokeh: all BokehJS libraries/stylesheets loaded\");\n        run_callbacks()\n      }\n    }\n\n    function on_error() {\n      console.error(\"failed to load \" + url);\n    }\n\n    for (var i = 0; i < css_urls.length; i++) {\n      var url = css_urls[i];\n      const element = document.createElement(\"link\");\n      element.onload = on_load;\n      element.onerror = on_error;\n      element.rel = \"stylesheet\";\n      element.type = \"text/css\";\n      element.href = url;\n      console.debug(\"Bokeh: injecting link tag for BokehJS stylesheet: \", url);\n      document.body.appendChild(element);\n    }\n\n    const hashes = {\"https://cdn.bokeh.org/bokeh/release/bokeh-2.2.3.min.js\": \"T2yuo9Oe71Cz/I4X9Ac5+gpEa5a8PpJCDlqKYO0CfAuEszu1JrXLl8YugMqYe3sM\", \"https://cdn.bokeh.org/bokeh/release/bokeh-widgets-2.2.3.min.js\": \"98GDGJ0kOMCUMUePhksaQ/GYgB3+NH9h996V88sh3aOiUNX3N+fLXAtry6xctSZ6\", \"https://cdn.bokeh.org/bokeh/release/bokeh-tables-2.2.3.min.js\": \"89bArO+nlbP3sgakeHjCo1JYxYR5wufVgA3IbUvDY+K7w4zyxJqssu7wVnfeKCq8\"};\n\n    for (var i = 0; i < js_urls.length; i++) {\n      var url = js_urls[i];\n      var element = document.createElement('script');\n      element.onload = on_load;\n      element.onerror = on_error;\n      element.async = false;\n      element.src = url;\n      if (url in hashes) {\n        element.crossOrigin = \"anonymous\";\n        element.integrity = \"sha384-\" + hashes[url];\n      }\n      console.debug(\"Bokeh: injecting script tag for BokehJS library: \", url);\n      document.head.appendChild(element);\n    }\n  };\n\n  function inject_raw_css(css) {\n    const element = document.createElement(\"style\");\n    element.appendChild(document.createTextNode(css));\n    document.body.appendChild(element);\n  }\n\n  \n  var js_urls = [\"https://cdn.bokeh.org/bokeh/release/bokeh-2.2.3.min.js\", \"https://cdn.bokeh.org/bokeh/release/bokeh-widgets-2.2.3.min.js\", \"https://cdn.bokeh.org/bokeh/release/bokeh-tables-2.2.3.min.js\"];\n  var css_urls = [];\n  \n\n  var inline_js = [\n    function(Bokeh) {\n      Bokeh.set_log_level(\"info\");\n    },\n    function(Bokeh) {\n    \n    \n    }\n  ];\n\n  function run_inline_js() {\n    \n    if (root.Bokeh !== undefined || force === true) {\n      \n    for (var i = 0; i < inline_js.length; i++) {\n      inline_js[i].call(root, root.Bokeh);\n    }\n    if (force === true) {\n        display_loaded();\n      }} else if (Date.now() < root._bokeh_timeout) {\n      setTimeout(run_inline_js, 100);\n    } else if (!root._bokeh_failed_load) {\n      console.log(\"Bokeh: BokehJS failed to load within specified timeout.\");\n      root._bokeh_failed_load = true;\n    } else if (force !== true) {\n      var cell = $(document.getElementById(\"1001\")).parents('.cell').data().cell;\n      cell.output_area.append_execute_result(NB_LOAD_WARNING)\n    }\n\n  }\n\n  if (root._bokeh_is_loading === 0) {\n    console.debug(\"Bokeh: BokehJS loaded, going straight to plotting\");\n    run_inline_js();\n  } else {\n    load_libs(css_urls, js_urls, function() {\n      console.debug(\"Bokeh: BokehJS plotting callback run at\", now());\n      run_inline_js();\n    });\n  }\n}(window));"
     },
     "metadata": {},
     "output_type": "display_data"
    }
   ],
   "source": [
    "from mst import *\n",
    "from bokeh.io import output_notebook\n",
    "output_notebook()"
   ]
  },
  {
   "cell_type": "code",
   "execution_count": 2,
   "metadata": {},
   "outputs": [],
   "source": [
    "nodes = pd.read_csv('data/fiber_optic_nodes.csv', index_col=0)\n",
    "edges = pd.read_csv('data/fiber_optic_edges.csv', index_col=0)\n",
    "A = adjacency_matrix(nodes, edges)"
   ]
  },
  {
   "cell_type": "code",
   "execution_count": 3,
   "metadata": {},
   "outputs": [
    {
     "data": {
      "text/html": [
       "\n",
       "\n",
       "\n",
       "\n",
       "\n",
       "\n",
       "  <div class=\"bk-root\" id=\"9ab0b462-4fc5-4d10-93d0-815a46abbc2c\" data-root-id=\"1075\"></div>\n"
      ]
     },
     "metadata": {},
     "output_type": "display_data"
    },
    {
     "data": {
      "application/javascript": [
       "(function(root) {\n",
       "  function embed_document(root) {\n",
       "    \n",
       "  var docs_json = {\"4abef065-7730-4e4d-8f0a-f52bddbe8d00\":{\"roots\":{\"references\":[{\"attributes\":{\"children\":[[{\"id\":\"1002\"},0,0],[{\"id\":\"1059\"},1,0]]},\"id\":\"1075\",\"type\":\"GridBox\"},{\"attributes\":{\"fill_color\":{\"field\":\"fill_color\"},\"line_alpha\":{\"value\":0.1},\"line_color\":{\"field\":\"line_color\"},\"size\":{\"units\":\"screen\",\"value\":12},\"x\":{\"field\":\"x\"},\"y\":{\"field\":\"y\"}},\"id\":\"1054\",\"type\":\"Circle\"},{\"attributes\":{},\"id\":\"1025\",\"type\":\"ResetTool\"},{\"attributes\":{\"line_color\":{\"field\":\"line_color\"},\"line_width\":{\"value\":6},\"xs\":{\"field\":\"xs\"},\"ys\":{\"field\":\"ys\"}},\"id\":\"1043\",\"type\":\"MultiLine\"},{\"attributes\":{\"fill_color\":{\"field\":\"fill_color\"},\"line_color\":{\"field\":\"line_color\"},\"size\":{\"units\":\"screen\",\"value\":12},\"x\":{\"field\":\"x\"},\"y\":{\"field\":\"y\"}},\"id\":\"1053\",\"type\":\"Circle\"},{\"attributes\":{},\"id\":\"1009\",\"type\":\"LinearScale\"},{\"attributes\":{},\"id\":\"1026\",\"type\":\"HelpTool\"},{\"attributes\":{\"line_color\":{\"field\":\"line_color\"},\"line_width\":{\"value\":6},\"xs\":{\"field\":\"xs\"},\"ys\":{\"field\":\"ys\"}},\"id\":\"1042\",\"type\":\"MultiLine\"},{\"attributes\":{\"children\":[{\"id\":\"1040\"}]},\"id\":\"1059\",\"type\":\"Row\"},{\"attributes\":{\"data_source\":{\"id\":\"1038\"},\"glyph\":{\"id\":\"1042\"},\"hover_glyph\":{\"id\":\"1044\"},\"muted_glyph\":null,\"nonselection_glyph\":{\"id\":\"1043\"},\"selection_glyph\":null,\"view\":{\"id\":\"1046\"}},\"id\":\"1045\",\"type\":\"GlyphRenderer\"},{\"attributes\":{},\"id\":\"1065\",\"type\":\"Selection\"},{\"attributes\":{\"active_drag\":\"auto\",\"active_inspect\":\"auto\",\"active_multi\":null,\"active_scroll\":\"auto\",\"active_tap\":\"auto\",\"logo\":null,\"tools\":[{\"id\":\"1021\"},{\"id\":\"1022\"},{\"id\":\"1023\"},{\"id\":\"1024\"},{\"id\":\"1025\"},{\"id\":\"1026\"}]},\"id\":\"1028\",\"type\":\"Toolbar\"},{\"attributes\":{\"data\":{\"xs\":[[6,20],[20,72],[72,111],[111,194],[194,178],[178,199],[199,205],[205,207],[205,198],[199,189],[198,165],[165,157],[157,162],[162,144],[144,127]],\"ys\":[[71,59],[59,31],[31,-8],[-8,-8],[-8,38],[38,86],[86,96],[96,106],[96,103],[86,93],[103,97],[97,84],[84,112],[112,112],[112,97]]},\"selected\":{\"id\":\"1067\"},\"selection_policy\":{\"id\":\"1068\"}},\"id\":\"1036\",\"type\":\"ColumnDataSource\"},{\"attributes\":{},\"id\":\"1011\",\"type\":\"LinearScale\"},{\"attributes\":{},\"id\":\"1068\",\"type\":\"UnionRenderers\"},{\"attributes\":{\"background_fill_color\":null,\"below\":[{\"id\":\"1013\"}],\"border_fill_color\":null,\"center\":[{\"id\":\"1016\"},{\"id\":\"1020\"},{\"id\":\"1057\"}],\"left\":[{\"id\":\"1017\"}],\"outline_line_color\":null,\"plot_height\":500,\"plot_width\":900,\"renderers\":[{\"id\":\"1045\"},{\"id\":\"1050\"},{\"id\":\"1055\"}],\"title\":{\"id\":\"1003\"},\"toolbar\":{\"id\":\"1028\"},\"toolbar_location\":null,\"x_range\":{\"id\":\"1005\"},\"x_scale\":{\"id\":\"1009\"},\"y_range\":{\"id\":\"1007\"},\"y_scale\":{\"id\":\"1011\"}},\"id\":\"1002\",\"subtype\":\"Figure\",\"type\":\"Plot\"},{\"attributes\":{\"data\":{\"text\":[4,24,12,19,10,25,20,14,18,18,12,14,14,3,3,1,2,2,6,4,4,6,8,8,8,4,10,6],\"x\":[13.0,66.5,46.0,73.5,91.5,114.5,99.5,152.5,144.5,134.0,186.0,188.5,167.5,202.0,194.0,206.0,201.5,202.5,181.5,193.5,161.0,177.0,159.5,150.5,142.0,153.0,144.5,135.5],\"y\":[65.0,84.0,45.0,78.0,11.5,57.5,64.0,-8.0,15.0,38.0,15.0,62.0,61.0,91.0,89.5,101.0,99.5,104.5,100.0,98.0,90.5,95.0,98.0,98.0,90.5,112.0,104.5,104.5]},\"selected\":{\"id\":\"1072\"},\"selection_policy\":{\"id\":\"1073\"}},\"id\":\"1039\",\"type\":\"ColumnDataSource\"},{\"attributes\":{},\"id\":\"1062\",\"type\":\"BasicTickFormatter\"},{\"attributes\":{\"formatter\":{\"id\":\"1062\"},\"ticker\":{\"id\":\"1014\"},\"visible\":false},\"id\":\"1013\",\"type\":\"LinearAxis\"},{\"attributes\":{},\"id\":\"1064\",\"type\":\"BasicTickFormatter\"},{\"attributes\":{},\"id\":\"1069\",\"type\":\"Selection\"},{\"attributes\":{},\"id\":\"1014\",\"type\":\"BasicTicker\"},{\"attributes\":{\"source\":{\"id\":\"1038\"}},\"id\":\"1046\",\"type\":\"CDSView\"},{\"attributes\":{},\"id\":\"1070\",\"type\":\"UnionRenderers\"},{\"attributes\":{\"axis\":{\"id\":\"1013\"},\"grid_line_color\":null,\"ticker\":null},\"id\":\"1016\",\"type\":\"Grid\"},{\"attributes\":{\"line_width\":{\"value\":6},\"xs\":{\"field\":\"xs\"},\"ys\":{\"field\":\"ys\"}},\"id\":\"1044\",\"type\":\"MultiLine\"},{\"attributes\":{\"text\":\"\"},\"id\":\"1003\",\"type\":\"Title\"},{\"attributes\":{},\"id\":\"1072\",\"type\":\"Selection\"},{\"attributes\":{\"formatter\":{\"id\":\"1064\"},\"ticker\":{\"id\":\"1018\"},\"visible\":false},\"id\":\"1017\",\"type\":\"LinearAxis\"},{\"attributes\":{},\"id\":\"1067\",\"type\":\"Selection\"},{\"attributes\":{},\"id\":\"1073\",\"type\":\"UnionRenderers\"},{\"attributes\":{},\"id\":\"1018\",\"type\":\"BasicTicker\"},{\"attributes\":{\"data_source\":{\"id\":\"1036\"},\"glyph\":{\"id\":\"1048\"},\"hover_glyph\":null,\"muted_glyph\":null,\"nonselection_glyph\":{\"id\":\"1049\"},\"selection_glyph\":null,\"view\":{\"id\":\"1051\"}},\"id\":\"1050\",\"type\":\"GlyphRenderer\"},{\"attributes\":{\"axis\":{\"id\":\"1017\"},\"dimension\":1,\"grid_line_color\":null,\"ticker\":null},\"id\":\"1020\",\"type\":\"Grid\"},{\"attributes\":{\"align\":\"center\",\"text\":\"103.0\",\"width\":450},\"id\":\"1040\",\"type\":\"Div\"},{\"attributes\":{\"line_alpha\":{\"value\":0.1},\"line_width\":{\"value\":6},\"xs\":{\"field\":\"xs\"},\"ys\":{\"field\":\"ys\"}},\"id\":\"1049\",\"type\":\"MultiLine\"},{\"attributes\":{},\"id\":\"1066\",\"type\":\"UnionRenderers\"},{\"attributes\":{\"end\":224.085,\"start\":-11.085},\"id\":\"1005\",\"type\":\"Range1d\"},{\"attributes\":{\"data\":{\"line_color\":[\"lightgray\",\"lightgray\",\"lightgray\",\"lightgray\",\"lightgray\",\"lightgray\",\"lightgray\",\"lightgray\",\"lightgray\",\"lightgray\",\"lightgray\",\"lightgray\",\"lightgray\",\"lightgray\",\"lightgray\",\"lightgray\",\"lightgray\",\"lightgray\",\"lightgray\",\"lightgray\",\"lightgray\",\"lightgray\",\"lightgray\",\"lightgray\",\"lightgray\",\"lightgray\",\"lightgray\",\"lightgray\"],\"u\":[0,0,1,1,2,2,2,3,3,3,4,5,5,6,6,7,7,8,9,9,10,10,11,11,11,12,12,13],\"u_pos\":[[6,71],[6,71],[20,59],[20,59],[72,31],[72,31],[72,31],[111,-8],[111,-8],[111,-8],[194,-8],[178,38],[178,38],[199,86],[199,86],[205,96],[205,96],[207,106],[198,103],[198,103],[165,97],[165,97],[157,84],[157,84],[157,84],[162,112],[162,112],[144,112]],\"v\":[1,14,2,14,3,11,14,4,5,11,5,6,11,7,15,8,9,9,10,15,11,15,12,13,14,13,14,14],\"v_pos\":[[20,59],[127,97],[72,31],[127,97],[111,-8],[157,84],[127,97],[194,-8],[178,38],[157,84],[178,38],[199,86],[157,84],[205,96],[189,93],[207,106],[198,103],[198,103],[165,97],[189,93],[157,84],[189,93],[162,112],[144,112],[127,97],[144,112],[127,97],[127,97]],\"weight\":[4,24,12,19,10,25,20,14,18,18,12,14,14,3,3,1,2,2,6,4,4,6,8,8,8,4,10,6],\"xs\":[[6,20],[6,127],[20,72],[20,127],[72,111],[72,157],[72,127],[111,194],[111,178],[111,157],[194,178],[178,199],[178,157],[199,205],[199,189],[205,207],[205,198],[207,198],[198,165],[198,189],[165,157],[165,189],[157,162],[157,144],[157,127],[162,144],[162,127],[144,127]],\"ys\":[[71,59],[71,97],[59,31],[59,97],[31,-8],[31,84],[31,97],[-8,-8],[-8,38],[-8,84],[-8,38],[38,86],[38,84],[86,96],[86,93],[96,106],[96,103],[106,103],[103,97],[103,93],[97,84],[97,93],[84,112],[84,112],[84,97],[112,112],[112,97],[112,97]]},\"selected\":{\"id\":\"1065\"},\"selection_policy\":{\"id\":\"1066\"}},\"id\":\"1038\",\"type\":\"ColumnDataSource\"},{\"attributes\":{\"bottom_units\":\"screen\",\"fill_alpha\":0.5,\"fill_color\":\"lightgrey\",\"left_units\":\"screen\",\"level\":\"overlay\",\"line_alpha\":1.0,\"line_color\":\"black\",\"line_dash\":[4,4],\"line_width\":2,\"right_units\":\"screen\",\"top_units\":\"screen\"},\"id\":\"1027\",\"type\":\"BoxAnnotation\"},{\"attributes\":{\"line_width\":{\"value\":6},\"xs\":{\"field\":\"xs\"},\"ys\":{\"field\":\"ys\"}},\"id\":\"1048\",\"type\":\"MultiLine\"},{\"attributes\":{\"end\":122.2,\"start\":-18.200000000000003},\"id\":\"1007\",\"type\":\"Range1d\"},{\"attributes\":{\"source\":{\"id\":\"1036\"}},\"id\":\"1051\",\"type\":\"CDSView\"},{\"attributes\":{},\"id\":\"1021\",\"type\":\"PanTool\"},{\"attributes\":{\"source\":{\"id\":\"1037\"}},\"id\":\"1056\",\"type\":\"CDSView\"},{\"attributes\":{},\"id\":\"1024\",\"type\":\"SaveTool\"},{\"attributes\":{},\"id\":\"1022\",\"type\":\"WheelZoomTool\"},{\"attributes\":{\"source\":{\"id\":\"1039\"},\"x\":{\"field\":\"x\"},\"y\":{\"field\":\"y\"}},\"id\":\"1057\",\"type\":\"LabelSet\"},{\"attributes\":{\"overlay\":{\"id\":\"1027\"}},\"id\":\"1023\",\"type\":\"BoxZoomTool\"},{\"attributes\":{\"data\":{\"fill_color\":[\"steelblue\",\"steelblue\",\"steelblue\",\"steelblue\",\"steelblue\",\"steelblue\",\"steelblue\",\"steelblue\",\"steelblue\",\"steelblue\",\"steelblue\",\"steelblue\",\"steelblue\",\"steelblue\",\"steelblue\",\"steelblue\"],\"line_color\":[\"steelblue\",\"steelblue\",\"steelblue\",\"steelblue\",\"steelblue\",\"steelblue\",\"steelblue\",\"steelblue\",\"steelblue\",\"steelblue\",\"steelblue\",\"steelblue\",\"steelblue\",\"steelblue\",\"steelblue\",\"steelblue\"],\"x\":[6,20,72,111,194,178,199,205,207,198,165,157,162,144,127,189],\"y\":[71,59,31,-8,-8,38,86,96,106,103,97,84,112,112,97,93]},\"selected\":{\"id\":\"1069\"},\"selection_policy\":{\"id\":\"1070\"}},\"id\":\"1037\",\"type\":\"ColumnDataSource\"},{\"attributes\":{\"data_source\":{\"id\":\"1037\"},\"glyph\":{\"id\":\"1053\"},\"hover_glyph\":null,\"muted_glyph\":null,\"nonselection_glyph\":{\"id\":\"1054\"},\"selection_glyph\":null,\"view\":{\"id\":\"1056\"}},\"id\":\"1055\",\"type\":\"GlyphRenderer\"}],\"root_ids\":[\"1075\"]},\"title\":\"Bokeh Application\",\"version\":\"2.2.3\"}};\n",
       "  var render_items = [{\"docid\":\"4abef065-7730-4e4d-8f0a-f52bddbe8d00\",\"root_ids\":[\"1075\"],\"roots\":{\"1075\":\"9ab0b462-4fc5-4d10-93d0-815a46abbc2c\"}}];\n",
       "  root.Bokeh.embed.embed_items_notebook(docs_json, render_items);\n",
       "\n",
       "  }\n",
       "  if (root.Bokeh !== undefined) {\n",
       "    embed_document(root);\n",
       "  } else {\n",
       "    var attempts = 0;\n",
       "    var timer = setInterval(function(root) {\n",
       "      if (root.Bokeh !== undefined) {\n",
       "        clearInterval(timer);\n",
       "        embed_document(root);\n",
       "      } else {\n",
       "        attempts++;\n",
       "        if (attempts > 100) {\n",
       "          clearInterval(timer);\n",
       "          console.log(\"Bokeh: ERROR: Unable to run BokehJS code because BokehJS library is missing\");\n",
       "        }\n",
       "      }\n",
       "    }, 10, root)\n",
       "  }\n",
       "})(window);"
      ],
      "application/vnd.bokehjs_exec.v0+json": ""
     },
     "metadata": {
      "application/vnd.bokehjs_exec.v0+json": {
       "id": "1075"
      }
     },
     "output_type": "display_data"
    }
   ],
   "source": [
    "tree = prims(A,0)\n",
    "plot_tree(nodes, edges, tree)"
   ]
  },
  {
   "cell_type": "code",
   "execution_count": 4,
   "metadata": {},
   "outputs": [
    {
     "data": {
      "text/html": [
       "\n",
       "\n",
       "\n",
       "\n",
       "\n",
       "\n",
       "  <div class=\"bk-root\" id=\"bed59df7-40b4-4b97-a61e-aaab256d66e6\" data-root-id=\"1236\"></div>\n"
      ]
     },
     "metadata": {},
     "output_type": "display_data"
    },
    {
     "data": {
      "application/javascript": [
       "(function(root) {\n",
       "  function embed_document(root) {\n",
       "    \n",
       "  var docs_json = {\"eb0da7b4-c86f-4626-bded-f5a843a8b38a\":{\"roots\":{\"references\":[{\"attributes\":{\"children\":[[{\"id\":\"1160\"},0,0],[{\"id\":\"1220\"},1,0]]},\"id\":\"1236\",\"type\":\"GridBox\"},{\"attributes\":{\"axis\":{\"id\":\"1175\"},\"dimension\":1,\"grid_line_color\":null,\"ticker\":null},\"id\":\"1178\",\"type\":\"Grid\"},{\"attributes\":{},\"id\":\"1229\",\"type\":\"UnionRenderers\"},{\"attributes\":{\"callback\":{\"id\":\"1214\"},\"renderers\":[{\"id\":\"1205\"}],\"tooltips\":null},\"id\":\"1215\",\"type\":\"HoverTool\"},{\"attributes\":{\"data_source\":{\"id\":\"1196\"},\"glyph\":{\"id\":\"1202\"},\"hover_glyph\":{\"id\":\"1204\"},\"muted_glyph\":null,\"nonselection_glyph\":{\"id\":\"1203\"},\"selection_glyph\":null,\"view\":{\"id\":\"1206\"}},\"id\":\"1205\",\"type\":\"GlyphRenderer\"},{\"attributes\":{\"fill_color\":{\"field\":\"fill_color\"},\"line_alpha\":{\"value\":0.1},\"line_color\":{\"field\":\"line_color\"},\"size\":{\"units\":\"screen\",\"value\":13},\"x\":{\"field\":\"x\"},\"y\":{\"field\":\"y\"}},\"id\":\"1209\",\"type\":\"Circle\"},{\"attributes\":{},\"id\":\"1231\",\"type\":\"Selection\"},{\"attributes\":{\"line_color\":{\"field\":\"line_color\"},\"line_width\":{\"value\":6},\"xs\":{\"field\":\"xs\"},\"ys\":{\"field\":\"ys\"}},\"id\":\"1202\",\"type\":\"MultiLine\"},{\"attributes\":{\"line_color\":{\"field\":\"line_color\"},\"line_width\":{\"value\":6},\"xs\":{\"field\":\"xs\"},\"ys\":{\"field\":\"ys\"}},\"id\":\"1203\",\"type\":\"MultiLine\"},{\"attributes\":{},\"id\":\"1232\",\"type\":\"UnionRenderers\"},{\"attributes\":{},\"id\":\"1180\",\"type\":\"WheelZoomTool\"},{\"attributes\":{},\"id\":\"1228\",\"type\":\"Selection\"},{\"attributes\":{\"align\":\"center\",\"width\":300},\"id\":\"1200\",\"type\":\"Div\"},{\"attributes\":{},\"id\":\"1233\",\"type\":\"Selection\"},{\"attributes\":{},\"id\":\"1179\",\"type\":\"PanTool\"},{\"attributes\":{},\"id\":\"1176\",\"type\":\"BasicTicker\"},{\"attributes\":{\"overlay\":{\"id\":\"1185\"}},\"id\":\"1181\",\"type\":\"BoxZoomTool\"},{\"attributes\":{\"background_fill_color\":null,\"below\":[{\"id\":\"1171\"}],\"border_fill_color\":null,\"center\":[{\"id\":\"1174\"},{\"id\":\"1178\"},{\"id\":\"1212\"}],\"left\":[{\"id\":\"1175\"}],\"outline_line_color\":null,\"plot_height\":500,\"plot_width\":900,\"renderers\":[{\"id\":\"1205\"},{\"id\":\"1210\"}],\"title\":{\"id\":\"1161\"},\"toolbar\":{\"id\":\"1186\"},\"toolbar_location\":null,\"x_range\":{\"id\":\"1163\"},\"x_scale\":{\"id\":\"1167\"},\"y_range\":{\"id\":\"1165\"},\"y_scale\":{\"id\":\"1169\"}},\"id\":\"1160\",\"subtype\":\"Figure\",\"type\":\"Plot\"},{\"attributes\":{},\"id\":\"1234\",\"type\":\"UnionRenderers\"},{\"attributes\":{\"source\":{\"id\":\"1196\"}},\"id\":\"1206\",\"type\":\"CDSView\"},{\"attributes\":{\"line_width\":{\"value\":6},\"xs\":{\"field\":\"xs\"},\"ys\":{\"field\":\"ys\"}},\"id\":\"1204\",\"type\":\"MultiLine\"},{\"attributes\":{},\"id\":\"1182\",\"type\":\"SaveTool\"},{\"attributes\":{\"text\":\"\"},\"id\":\"1161\",\"type\":\"Title\"},{\"attributes\":{},\"id\":\"1183\",\"type\":\"ResetTool\"},{\"attributes\":{\"callback\":{\"id\":\"1216\"},\"renderers\":[{\"id\":\"1205\"}]},\"id\":\"1217\",\"type\":\"TapTool\"},{\"attributes\":{\"align\":\"center\",\"width\":300},\"id\":\"1199\",\"type\":\"Div\"},{\"attributes\":{\"data\":{\"line_color\":[\"lightgray\",\"lightgray\",\"lightgray\",\"lightgray\",\"lightgray\",\"lightgray\",\"lightgray\",\"lightgray\",\"lightgray\",\"lightgray\",\"lightgray\",\"lightgray\",\"lightgray\",\"lightgray\",\"lightgray\",\"lightgray\",\"lightgray\",\"lightgray\",\"lightgray\",\"lightgray\",\"lightgray\",\"lightgray\",\"lightgray\",\"lightgray\",\"lightgray\",\"lightgray\",\"lightgray\",\"lightgray\"],\"u\":[0,0,1,1,2,2,2,3,3,3,4,5,5,6,6,7,7,8,9,9,10,10,11,11,11,12,12,13],\"u_pos\":[[6,71],[6,71],[20,59],[20,59],[72,31],[72,31],[72,31],[111,-8],[111,-8],[111,-8],[194,-8],[178,38],[178,38],[199,86],[199,86],[205,96],[205,96],[207,106],[198,103],[198,103],[165,97],[165,97],[157,84],[157,84],[157,84],[162,112],[162,112],[144,112]],\"v\":[1,14,2,14,3,11,14,4,5,11,5,6,11,7,15,8,9,9,10,15,11,15,12,13,14,13,14,14],\"v_pos\":[[20,59],[127,97],[72,31],[127,97],[111,-8],[157,84],[127,97],[194,-8],[178,38],[157,84],[178,38],[199,86],[157,84],[205,96],[189,93],[207,106],[198,103],[198,103],[165,97],[189,93],[157,84],[189,93],[162,112],[144,112],[127,97],[144,112],[127,97],[127,97]],\"weight\":[4,24,12,19,10,25,20,14,18,18,12,14,14,3,3,1,2,2,6,4,4,6,8,8,8,4,10,6],\"xs\":[[6,20],[6,127],[20,72],[20,127],[72,111],[72,157],[72,127],[111,194],[111,178],[111,157],[194,178],[178,199],[178,157],[199,205],[199,189],[205,207],[205,198],[207,198],[198,165],[198,189],[165,157],[165,189],[157,162],[157,144],[157,127],[162,144],[162,127],[144,127]],\"ys\":[[71,59],[71,97],[59,31],[59,97],[31,-8],[31,84],[31,97],[-8,-8],[-8,38],[-8,84],[-8,38],[38,86],[38,84],[86,96],[86,93],[96,106],[96,103],[106,103],[103,97],[103,93],[97,84],[97,93],[84,112],[84,112],[84,97],[112,112],[112,97],[112,97]]},\"selected\":{\"id\":\"1226\"},\"selection_policy\":{\"id\":\"1227\"}},\"id\":\"1196\",\"type\":\"ColumnDataSource\"},{\"attributes\":{},\"id\":\"1184\",\"type\":\"HelpTool\"},{\"attributes\":{\"end\":224.085,\"start\":-11.085},\"id\":\"1163\",\"type\":\"Range1d\"},{\"attributes\":{\"active_drag\":\"auto\",\"active_inspect\":\"auto\",\"active_multi\":null,\"active_scroll\":\"auto\",\"active_tap\":\"auto\",\"logo\":null,\"tools\":[{\"id\":\"1179\"},{\"id\":\"1180\"},{\"id\":\"1181\"},{\"id\":\"1182\"},{\"id\":\"1183\"},{\"id\":\"1184\"},{\"id\":\"1215\"},{\"id\":\"1217\"}]},\"id\":\"1186\",\"type\":\"Toolbar\"},{\"attributes\":{\"args\":{\"cost\":{\"id\":\"1198\"},\"done\":{\"id\":\"1200\"},\"edges_src\":{\"id\":\"1196\"},\"error_msg\":{\"id\":\"1199\"},\"nodes_src\":{\"id\":\"1195\"},\"source\":{\"id\":\"1194\"}},\"code\":\" \\n    var i = source.data['last_index']\\n    var u = edges_src.data['u'][i]\\n    var v = edges_src.data['v'][i]\\n    var w = edges_src.data['weight'][i]\\n    var tree_nodes = source.data['tree_nodes']\\n    var tree_edges = source.data['tree_edges']\\n    \\n    if (!tree_nodes.includes(u) || !tree_nodes.includes(v)) {\\n        if (!tree_nodes.includes(v)) {\\n            tree_nodes.push(v)\\n            nodes_src.data['line_color'][v] = 'steelblue'\\n            nodes_src.data['fill_color'][v] = 'steelblue'\\n        }\\n        if (!tree_nodes.includes(u)) {\\n            tree_nodes.push(u)\\n            nodes_src.data['line_color'][u] = 'steelblue'\\n            nodes_src.data['fill_color'][u] = 'steelblue'\\n        }\\n        edges_src.data['line_color'][i] = 'black'\\n        tree_edges.push((u,v))\\n        var prev_cost = parseFloat(cost.text)\\n        cost.text = (prev_cost + w).toFixed(1) \\n        error_msg.text = ''\\n    } else {\\n        error_msg.text = 'You have selected an invalid edge.'\\n    }\\n    \\n    if (tree_nodes.length == nodes_src.data['x'].length) {\\n        done.text = 'done.'\\n    }\\n    \\n    source.change.emit()\\n    nodes_src.change.emit()\\n    edges_src.change.emit()\\n    \"},\"id\":\"1216\",\"type\":\"CustomJS\"},{\"attributes\":{\"args\":{\"source\":{\"id\":\"1194\"}},\"code\":\"\\n    source.data['last_index'] = cb_data.index.indices[0]\\n    \"},\"id\":\"1214\",\"type\":\"CustomJS\"},{\"attributes\":{\"fill_color\":{\"field\":\"fill_color\"},\"line_color\":{\"field\":\"line_color\"},\"size\":{\"units\":\"screen\",\"value\":13},\"x\":{\"field\":\"x\"},\"y\":{\"field\":\"y\"}},\"id\":\"1208\",\"type\":\"Circle\"},{\"attributes\":{},\"id\":\"1167\",\"type\":\"LinearScale\"},{\"attributes\":{\"children\":[{\"id\":\"1198\"},{\"id\":\"1199\"},{\"id\":\"1200\"}]},\"id\":\"1220\",\"type\":\"Row\"},{\"attributes\":{\"source\":{\"id\":\"1195\"}},\"id\":\"1211\",\"type\":\"CDSView\"},{\"attributes\":{\"source\":{\"id\":\"1197\"},\"x\":{\"field\":\"x\"},\"y\":{\"field\":\"y\"}},\"id\":\"1212\",\"type\":\"LabelSet\"},{\"attributes\":{},\"id\":\"1169\",\"type\":\"LinearScale\"},{\"attributes\":{\"data_source\":{\"id\":\"1195\"},\"glyph\":{\"id\":\"1208\"},\"hover_glyph\":null,\"muted_glyph\":null,\"nonselection_glyph\":{\"id\":\"1209\"},\"selection_glyph\":null,\"view\":{\"id\":\"1211\"}},\"id\":\"1210\",\"type\":\"GlyphRenderer\"},{\"attributes\":{\"formatter\":{\"id\":\"1223\"},\"ticker\":{\"id\":\"1172\"},\"visible\":false},\"id\":\"1171\",\"type\":\"LinearAxis\"},{\"attributes\":{},\"id\":\"1223\",\"type\":\"BasicTickFormatter\"},{\"attributes\":{\"data\":{\"tree_edges\":[],\"tree_nodes\":[]},\"selected\":{\"id\":\"1233\"},\"selection_policy\":{\"id\":\"1234\"}},\"id\":\"1194\",\"type\":\"ColumnDataSource\"},{\"attributes\":{},\"id\":\"1225\",\"type\":\"BasicTickFormatter\"},{\"attributes\":{\"bottom_units\":\"screen\",\"fill_alpha\":0.5,\"fill_color\":\"lightgrey\",\"left_units\":\"screen\",\"level\":\"overlay\",\"line_alpha\":1.0,\"line_color\":\"black\",\"line_dash\":[4,4],\"line_width\":2,\"right_units\":\"screen\",\"top_units\":\"screen\"},\"id\":\"1185\",\"type\":\"BoxAnnotation\"},{\"attributes\":{\"data\":{\"text\":[4,24,12,19,10,25,20,14,18,18,12,14,14,3,3,1,2,2,6,4,4,6,8,8,8,4,10,6],\"x\":[13.0,66.5,46.0,73.5,91.5,114.5,99.5,152.5,144.5,134.0,186.0,188.5,167.5,202.0,194.0,206.0,201.5,202.5,181.5,193.5,161.0,177.0,159.5,150.5,142.0,153.0,144.5,135.5],\"y\":[65.0,84.0,45.0,78.0,11.5,57.5,64.0,-8.0,15.0,38.0,15.0,62.0,61.0,91.0,89.5,101.0,99.5,104.5,100.0,98.0,90.5,95.0,98.0,98.0,90.5,112.0,104.5,104.5]},\"selected\":{\"id\":\"1231\"},\"selection_policy\":{\"id\":\"1232\"}},\"id\":\"1197\",\"type\":\"ColumnDataSource\"},{\"attributes\":{},\"id\":\"1172\",\"type\":\"BasicTicker\"},{\"attributes\":{},\"id\":\"1226\",\"type\":\"Selection\"},{\"attributes\":{\"axis\":{\"id\":\"1171\"},\"grid_line_color\":null,\"ticker\":null},\"id\":\"1174\",\"type\":\"Grid\"},{\"attributes\":{\"end\":122.2,\"start\":-18.200000000000003},\"id\":\"1165\",\"type\":\"Range1d\"},{\"attributes\":{\"formatter\":{\"id\":\"1225\"},\"ticker\":{\"id\":\"1176\"},\"visible\":false},\"id\":\"1175\",\"type\":\"LinearAxis\"},{\"attributes\":{},\"id\":\"1227\",\"type\":\"UnionRenderers\"},{\"attributes\":{\"data\":{\"fill_color\":[\"#EA8585\",\"#EA8585\",\"#EA8585\",\"#EA8585\",\"#EA8585\",\"#EA8585\",\"#EA8585\",\"#EA8585\",\"#EA8585\",\"#EA8585\",\"#EA8585\",\"#EA8585\",\"#EA8585\",\"#EA8585\",\"#EA8585\",\"#EA8585\"],\"line_color\":[\"#EA8585\",\"#EA8585\",\"#EA8585\",\"#EA8585\",\"#EA8585\",\"#EA8585\",\"#EA8585\",\"#EA8585\",\"#EA8585\",\"#EA8585\",\"#EA8585\",\"#EA8585\",\"#EA8585\",\"#EA8585\",\"#EA8585\",\"#EA8585\"],\"x\":[6,20,72,111,194,178,199,205,207,198,165,157,162,144,127,189],\"y\":[71,59,31,-8,-8,38,86,96,106,103,97,84,112,112,97,93]},\"selected\":{\"id\":\"1228\"},\"selection_policy\":{\"id\":\"1229\"}},\"id\":\"1195\",\"type\":\"ColumnDataSource\"},{\"attributes\":{\"align\":\"center\",\"text\":\"0.0\",\"width\":300},\"id\":\"1198\",\"type\":\"Div\"}],\"root_ids\":[\"1236\"]},\"title\":\"Bokeh Application\",\"version\":\"2.2.3\"}};\n",
       "  var render_items = [{\"docid\":\"eb0da7b4-c86f-4626-bded-f5a843a8b38a\",\"root_ids\":[\"1236\"],\"roots\":{\"1236\":\"bed59df7-40b4-4b97-a61e-aaab256d66e6\"}}];\n",
       "  root.Bokeh.embed.embed_items_notebook(docs_json, render_items);\n",
       "\n",
       "  }\n",
       "  if (root.Bokeh !== undefined) {\n",
       "    embed_document(root);\n",
       "  } else {\n",
       "    var attempts = 0;\n",
       "    var timer = setInterval(function(root) {\n",
       "      if (root.Bokeh !== undefined) {\n",
       "        clearInterval(timer);\n",
       "        embed_document(root);\n",
       "      } else {\n",
       "        attempts++;\n",
       "        if (attempts > 100) {\n",
       "          clearInterval(timer);\n",
       "          console.log(\"Bokeh: ERROR: Unable to run BokehJS code because BokehJS library is missing\");\n",
       "        }\n",
       "      }\n",
       "    }, 10, root)\n",
       "  }\n",
       "})(window);"
      ],
      "application/vnd.bokehjs_exec.v0+json": ""
     },
     "metadata": {
      "application/vnd.bokehjs_exec.v0+json": {
       "id": "1236"
      }
     },
     "output_type": "display_data"
    }
   ],
   "source": [
    "plot_create_tree(nodes, edges)"
   ]
  },
  {
   "cell_type": "code",
   "execution_count": 5,
   "metadata": {
    "scrolled": false
   },
   "outputs": [
    {
     "data": {
      "text/html": [
       "\n",
       "\n",
       "\n",
       "\n",
       "\n",
       "\n",
       "  <div class=\"bk-root\" id=\"bdfc14d9-bdb1-4d87-a168-5e29705b68a3\" data-root-id=\"1422\"></div>\n"
      ]
     },
     "metadata": {},
     "output_type": "display_data"
    },
    {
     "data": {
      "application/javascript": [
       "(function(root) {\n",
       "  function embed_document(root) {\n",
       "    \n",
       "  var docs_json = {\"8734e3da-112f-4620-83c0-c7163c147124\":{\"roots\":{\"references\":[{\"attributes\":{\"children\":[[{\"id\":\"1335\"},0,0],[{\"id\":\"1399\"},1,0],[{\"id\":\"1400\"},2,0]]},\"id\":\"1422\",\"type\":\"GridBox\"},{\"attributes\":{\"align\":\"center\",\"text\":\"0\",\"width\":450},\"id\":\"1375\",\"type\":\"Div\"},{\"attributes\":{\"source\":{\"id\":\"1373\"},\"x\":{\"field\":\"x\"},\"y\":{\"field\":\"y\"}},\"id\":\"1393\",\"type\":\"LabelSet\"},{\"attributes\":{\"overlay\":{\"id\":\"1360\"}},\"id\":\"1356\",\"type\":\"BoxZoomTool\"},{\"attributes\":{\"align\":\"center\",\"width\":450},\"id\":\"1376\",\"type\":\"Div\"},{\"attributes\":{},\"id\":\"1351\",\"type\":\"BasicTicker\"},{\"attributes\":{\"button_type\":\"success\",\"icon\":null,\"js_event_callbacks\":{\"button_click\":[{\"id\":\"1396\"}]},\"label\":\"Next\",\"sizing_mode\":\"scale_width\",\"width_policy\":\"fit\"},\"id\":\"1395\",\"type\":\"Button\"},{\"attributes\":{},\"id\":\"1357\",\"type\":\"SaveTool\"},{\"attributes\":{\"text\":\"\"},\"id\":\"1336\",\"type\":\"Title\"},{\"attributes\":{},\"id\":\"1410\",\"type\":\"Selection\"},{\"attributes\":{},\"id\":\"1358\",\"type\":\"ResetTool\"},{\"attributes\":{},\"id\":\"1413\",\"type\":\"Selection\"},{\"attributes\":{\"data_source\":{\"id\":\"1372\"},\"glyph\":{\"id\":\"1378\"},\"hover_glyph\":{\"id\":\"1380\"},\"muted_glyph\":null,\"nonselection_glyph\":{\"id\":\"1379\"},\"selection_glyph\":null,\"view\":{\"id\":\"1382\"}},\"id\":\"1381\",\"type\":\"GlyphRenderer\"},{\"attributes\":{},\"id\":\"1359\",\"type\":\"HelpTool\"},{\"attributes\":{\"line_color\":{\"field\":\"line_color\"},\"line_width\":{\"value\":6},\"xs\":{\"field\":\"xs\"},\"ys\":{\"field\":\"ys\"}},\"id\":\"1378\",\"type\":\"MultiLine\"},{\"attributes\":{\"args\":{\"cost\":{\"id\":\"1375\"},\"done\":{\"id\":\"1376\"},\"n\":{\"id\":\"1374\"},\"nodes_src\":{\"id\":\"1371\"},\"source\":{\"id\":\"1369\"},\"tree_edge_src\":{\"id\":\"1370\"}},\"code\":\"\\nif ((parseInt(n.text) + 1) < source.data['costs'].length) {\\n    n.text = (parseInt(n.text) + 1).toString()\\n}\\nvar iteration = parseInt(n.text)\\n\\n    cost.text = source.data['costs'][iteration].toFixed(1)\\n    \\n    \\n    if (iteration == source.data['costs'].length - 1) {\\n        done.text = \\\"done.\\\"\\n    } else {\\n        done.text = \\\"\\\"\\n    }\\n\\n    tree_edge_src.data['xs'] = source.data['iteration_xs'][iteration]\\n    tree_edge_src.data['ys'] = source.data['iteration_ys'][iteration]\\n    \\n    var in_tree = source.data['iteration_nodes'][iteration]\\n\\n    for (let i = 0; i < nodes_src.data['line_color'].length ; i++) {\\n        if (in_tree.includes(i)) {\\n            nodes_src.data['fill_color'][i] = 'steelblue'\\n            nodes_src.data['line_color'][i] = 'steelblue'\\n        } else {\\n            nodes_src.data['fill_color'][i] = '#EA8585'\\n            nodes_src.data['line_color'][i] = '#EA8585'\\n        }\\n    }\\n    \\n    nodes_src.change.emit()\\n    tree_edge_src.change.emit()\\n    \"},\"id\":\"1396\",\"type\":\"CustomJS\"},{\"attributes\":{\"line_color\":{\"field\":\"line_color\"},\"line_width\":{\"value\":6},\"xs\":{\"field\":\"xs\"},\"ys\":{\"field\":\"ys\"}},\"id\":\"1379\",\"type\":\"MultiLine\"},{\"attributes\":{\"button_type\":\"success\",\"icon\":null,\"js_event_callbacks\":{\"button_click\":[{\"id\":\"1398\"}]},\"label\":\"Previous\",\"sizing_mode\":\"scale_width\",\"width_policy\":\"fit\"},\"id\":\"1397\",\"type\":\"Button\"},{\"attributes\":{\"data\":{\"line_color\":[\"lightgray\",\"lightgray\",\"lightgray\",\"lightgray\",\"lightgray\",\"lightgray\",\"lightgray\",\"lightgray\",\"lightgray\",\"lightgray\",\"lightgray\",\"lightgray\",\"lightgray\",\"lightgray\",\"lightgray\",\"lightgray\",\"lightgray\",\"lightgray\",\"lightgray\",\"lightgray\",\"lightgray\",\"lightgray\",\"lightgray\",\"lightgray\",\"lightgray\",\"lightgray\",\"lightgray\",\"lightgray\"],\"u\":[0,0,1,1,2,2,2,3,3,3,4,5,5,6,6,7,7,8,9,9,10,10,11,11,11,12,12,13],\"u_pos\":[[6,71],[6,71],[20,59],[20,59],[72,31],[72,31],[72,31],[111,-8],[111,-8],[111,-8],[194,-8],[178,38],[178,38],[199,86],[199,86],[205,96],[205,96],[207,106],[198,103],[198,103],[165,97],[165,97],[157,84],[157,84],[157,84],[162,112],[162,112],[144,112]],\"v\":[1,14,2,14,3,11,14,4,5,11,5,6,11,7,15,8,9,9,10,15,11,15,12,13,14,13,14,14],\"v_pos\":[[20,59],[127,97],[72,31],[127,97],[111,-8],[157,84],[127,97],[194,-8],[178,38],[157,84],[178,38],[199,86],[157,84],[205,96],[189,93],[207,106],[198,103],[198,103],[165,97],[189,93],[157,84],[189,93],[162,112],[144,112],[127,97],[144,112],[127,97],[127,97]],\"weight\":[4,24,12,19,10,25,20,14,18,18,12,14,14,3,3,1,2,2,6,4,4,6,8,8,8,4,10,6],\"xs\":[[6,20],[6,127],[20,72],[20,127],[72,111],[72,157],[72,127],[111,194],[111,178],[111,157],[194,178],[178,199],[178,157],[199,205],[199,189],[205,207],[205,198],[207,198],[198,165],[198,189],[165,157],[165,189],[157,162],[157,144],[157,127],[162,144],[162,127],[144,127]],\"ys\":[[71,59],[71,97],[59,31],[59,97],[31,-8],[31,84],[31,97],[-8,-8],[-8,38],[-8,84],[-8,38],[38,86],[38,84],[86,96],[86,93],[96,106],[96,103],[106,103],[103,97],[103,93],[97,84],[97,93],[84,112],[84,112],[84,97],[112,112],[112,97],[112,97]]},\"selected\":{\"id\":\"1406\"},\"selection_policy\":{\"id\":\"1407\"}},\"id\":\"1372\",\"type\":\"ColumnDataSource\"},{\"attributes\":{\"active_drag\":\"auto\",\"active_inspect\":\"auto\",\"active_multi\":null,\"active_scroll\":\"auto\",\"active_tap\":\"auto\",\"logo\":null,\"tools\":[{\"id\":\"1354\"},{\"id\":\"1355\"},{\"id\":\"1356\"},{\"id\":\"1357\"},{\"id\":\"1358\"},{\"id\":\"1359\"}]},\"id\":\"1361\",\"type\":\"Toolbar\"},{\"attributes\":{\"args\":{\"cost\":{\"id\":\"1375\"},\"done\":{\"id\":\"1376\"},\"n\":{\"id\":\"1374\"},\"nodes_src\":{\"id\":\"1371\"},\"source\":{\"id\":\"1369\"},\"tree_edge_src\":{\"id\":\"1370\"}},\"code\":\"\\nif ((parseInt(n.text) - 1) >= 0) {\\n    n.text = (parseInt(n.text) - 1).toString()\\n}\\nvar iteration = parseInt(n.text)\\n\\n    cost.text = source.data['costs'][iteration].toFixed(1)\\n    \\n    \\n    if (iteration == source.data['costs'].length - 1) {\\n        done.text = \\\"done.\\\"\\n    } else {\\n        done.text = \\\"\\\"\\n    }\\n\\n    tree_edge_src.data['xs'] = source.data['iteration_xs'][iteration]\\n    tree_edge_src.data['ys'] = source.data['iteration_ys'][iteration]\\n    \\n    var in_tree = source.data['iteration_nodes'][iteration]\\n\\n    for (let i = 0; i < nodes_src.data['line_color'].length ; i++) {\\n        if (in_tree.includes(i)) {\\n            nodes_src.data['fill_color'][i] = 'steelblue'\\n            nodes_src.data['line_color'][i] = 'steelblue'\\n        } else {\\n            nodes_src.data['fill_color'][i] = '#EA8585'\\n            nodes_src.data['line_color'][i] = '#EA8585'\\n        }\\n    }\\n    \\n    nodes_src.change.emit()\\n    tree_edge_src.change.emit()\\n    \"},\"id\":\"1398\",\"type\":\"CustomJS\"},{\"attributes\":{\"data\":{\"costs\":[0,4.0,16.0,26.0,40.0,52.0,66.0,69.0,70.0,72.0,75.0,81.0,85.0,93.0,97.0,103.0],\"iteration_nodes\":[[],[0,1],[0,1,2],[0,1,2,3],[0,1,2,3,4],[0,1,2,3,4,5],[0,1,2,3,4,5,6],[0,1,2,3,4,5,6,7],[0,1,2,3,4,5,6,7,8],[0,1,2,3,4,5,6,7,8,9],[0,1,2,3,4,5,6,7,8,9,15],[0,1,2,3,4,5,6,7,8,9,10,15],[0,1,2,3,4,5,6,7,8,9,10,11,15],[0,1,2,3,4,5,6,7,8,9,10,11,12,15],[0,1,2,3,4,5,6,7,8,9,10,11,12,13,15],[0,1,2,3,4,5,6,7,8,9,10,11,12,13,14,15]],\"iteration_xs\":[[],[[6,20]],[[6,20],[20,72]],[[6,20],[20,72],[72,111]],[[6,20],[20,72],[72,111],[111,194]],[[6,20],[20,72],[72,111],[111,194],[194,178]],[[6,20],[20,72],[72,111],[111,194],[194,178],[178,199]],[[6,20],[20,72],[72,111],[111,194],[194,178],[178,199],[199,205]],[[6,20],[20,72],[72,111],[111,194],[194,178],[178,199],[199,205],[205,207]],[[6,20],[20,72],[72,111],[111,194],[194,178],[178,199],[199,205],[205,207],[205,198]],[[6,20],[20,72],[72,111],[111,194],[194,178],[178,199],[199,205],[205,207],[205,198],[199,189]],[[6,20],[20,72],[72,111],[111,194],[194,178],[178,199],[199,205],[205,207],[205,198],[199,189],[198,165]],[[6,20],[20,72],[72,111],[111,194],[194,178],[178,199],[199,205],[205,207],[205,198],[199,189],[198,165],[165,157]],[[6,20],[20,72],[72,111],[111,194],[194,178],[178,199],[199,205],[205,207],[205,198],[199,189],[198,165],[165,157],[157,162]],[[6,20],[20,72],[72,111],[111,194],[194,178],[178,199],[199,205],[205,207],[205,198],[199,189],[198,165],[165,157],[157,162],[162,144]],[[6,20],[20,72],[72,111],[111,194],[194,178],[178,199],[199,205],[205,207],[205,198],[199,189],[198,165],[165,157],[157,162],[162,144],[144,127]]],\"iteration_ys\":[[],[[71,59]],[[71,59],[59,31]],[[71,59],[59,31],[31,-8]],[[71,59],[59,31],[31,-8],[-8,-8]],[[71,59],[59,31],[31,-8],[-8,-8],[-8,38]],[[71,59],[59,31],[31,-8],[-8,-8],[-8,38],[38,86]],[[71,59],[59,31],[31,-8],[-8,-8],[-8,38],[38,86],[86,96]],[[71,59],[59,31],[31,-8],[-8,-8],[-8,38],[38,86],[86,96],[96,106]],[[71,59],[59,31],[31,-8],[-8,-8],[-8,38],[38,86],[86,96],[96,106],[96,103]],[[71,59],[59,31],[31,-8],[-8,-8],[-8,38],[38,86],[86,96],[96,106],[96,103],[86,93]],[[71,59],[59,31],[31,-8],[-8,-8],[-8,38],[38,86],[86,96],[96,106],[96,103],[86,93],[103,97]],[[71,59],[59,31],[31,-8],[-8,-8],[-8,38],[38,86],[86,96],[96,106],[96,103],[86,93],[103,97],[97,84]],[[71,59],[59,31],[31,-8],[-8,-8],[-8,38],[38,86],[86,96],[96,106],[96,103],[86,93],[103,97],[97,84],[84,112]],[[71,59],[59,31],[31,-8],[-8,-8],[-8,38],[38,86],[86,96],[96,106],[96,103],[86,93],[103,97],[97,84],[84,112],[112,112]],[[71,59],[59,31],[31,-8],[-8,-8],[-8,38],[38,86],[86,96],[96,106],[96,103],[86,93],[103,97],[97,84],[84,112],[112,112],[112,97]]]},\"selected\":{\"id\":\"1416\"},\"selection_policy\":{\"id\":\"1417\"}},\"id\":\"1369\",\"type\":\"ColumnDataSource\"},{\"attributes\":{},\"id\":\"1354\",\"type\":\"PanTool\"},{\"attributes\":{\"children\":[{\"id\":\"1397\"},{\"id\":\"1395\"}],\"max_width\":900,\"sizing_mode\":\"stretch_both\"},\"id\":\"1399\",\"type\":\"Row\"},{\"attributes\":{\"background_fill_color\":null,\"below\":[{\"id\":\"1346\"}],\"border_fill_color\":null,\"center\":[{\"id\":\"1349\"},{\"id\":\"1353\"},{\"id\":\"1393\"}],\"left\":[{\"id\":\"1350\"}],\"outline_line_color\":null,\"plot_height\":500,\"plot_width\":900,\"renderers\":[{\"id\":\"1381\"},{\"id\":\"1386\"},{\"id\":\"1391\"}],\"title\":{\"id\":\"1336\"},\"toolbar\":{\"id\":\"1361\"},\"toolbar_location\":null,\"x_range\":{\"id\":\"1338\"},\"x_scale\":{\"id\":\"1342\"},\"y_range\":{\"id\":\"1340\"},\"y_scale\":{\"id\":\"1344\"}},\"id\":\"1335\",\"subtype\":\"Figure\",\"type\":\"Plot\"},{\"attributes\":{},\"id\":\"1342\",\"type\":\"LinearScale\"},{\"attributes\":{\"source\":{\"id\":\"1372\"}},\"id\":\"1382\",\"type\":\"CDSView\"},{\"attributes\":{\"end\":122.2,\"start\":-18.200000000000003},\"id\":\"1340\",\"type\":\"Range1d\"},{\"attributes\":{\"line_width\":{\"value\":6},\"xs\":{\"field\":\"xs\"},\"ys\":{\"field\":\"ys\"}},\"id\":\"1380\",\"type\":\"MultiLine\"},{\"attributes\":{\"end\":224.085,\"start\":-11.085},\"id\":\"1338\",\"type\":\"Range1d\"},{\"attributes\":{\"children\":[{\"id\":\"1375\"},{\"id\":\"1376\"}]},\"id\":\"1400\",\"type\":\"Row\"},{\"attributes\":{},\"id\":\"1344\",\"type\":\"LinearScale\"},{\"attributes\":{},\"id\":\"1409\",\"type\":\"UnionRenderers\"},{\"attributes\":{\"bottom_units\":\"screen\",\"fill_alpha\":0.5,\"fill_color\":\"lightgrey\",\"left_units\":\"screen\",\"level\":\"overlay\",\"line_alpha\":1.0,\"line_color\":\"black\",\"line_dash\":[4,4],\"line_width\":2,\"right_units\":\"screen\",\"top_units\":\"screen\"},\"id\":\"1360\",\"type\":\"BoxAnnotation\"},{\"attributes\":{\"data\":{\"fill_color\":[\"#EA8585\",\"#EA8585\",\"#EA8585\",\"#EA8585\",\"#EA8585\",\"#EA8585\",\"#EA8585\",\"#EA8585\",\"#EA8585\",\"#EA8585\",\"#EA8585\",\"#EA8585\",\"#EA8585\",\"#EA8585\",\"#EA8585\",\"#EA8585\"],\"line_color\":[\"#EA8585\",\"#EA8585\",\"#EA8585\",\"#EA8585\",\"#EA8585\",\"#EA8585\",\"#EA8585\",\"#EA8585\",\"#EA8585\",\"#EA8585\",\"#EA8585\",\"#EA8585\",\"#EA8585\",\"#EA8585\",\"#EA8585\",\"#EA8585\"],\"x\":[6,20,72,111,194,178,199,205,207,198,165,157,162,144,127,189],\"y\":[71,59,31,-8,-8,38,86,96,106,103,97,84,112,112,97,93]},\"selected\":{\"id\":\"1410\"},\"selection_policy\":{\"id\":\"1411\"}},\"id\":\"1371\",\"type\":\"ColumnDataSource\"},{\"attributes\":{\"data_source\":{\"id\":\"1370\"},\"glyph\":{\"id\":\"1384\"},\"hover_glyph\":null,\"muted_glyph\":null,\"nonselection_glyph\":{\"id\":\"1385\"},\"selection_glyph\":null,\"view\":{\"id\":\"1387\"}},\"id\":\"1386\",\"type\":\"GlyphRenderer\"},{\"attributes\":{},\"id\":\"1403\",\"type\":\"BasicTickFormatter\"},{\"attributes\":{\"line_alpha\":{\"value\":0.1},\"line_width\":{\"value\":6},\"xs\":{\"field\":\"xs\"},\"ys\":{\"field\":\"ys\"}},\"id\":\"1385\",\"type\":\"MultiLine\"},{\"attributes\":{},\"id\":\"1355\",\"type\":\"WheelZoomTool\"},{\"attributes\":{},\"id\":\"1347\",\"type\":\"BasicTicker\"},{\"attributes\":{},\"id\":\"1405\",\"type\":\"BasicTickFormatter\"},{\"attributes\":{},\"id\":\"1408\",\"type\":\"Selection\"},{\"attributes\":{\"data\":{\"xs\":[],\"ys\":[]},\"selected\":{\"id\":\"1408\"},\"selection_policy\":{\"id\":\"1409\"}},\"id\":\"1370\",\"type\":\"ColumnDataSource\"},{\"attributes\":{\"formatter\":{\"id\":\"1403\"},\"ticker\":{\"id\":\"1347\"},\"visible\":false},\"id\":\"1346\",\"type\":\"LinearAxis\"},{\"attributes\":{},\"id\":\"1406\",\"type\":\"Selection\"},{\"attributes\":{\"line_width\":{\"value\":6},\"xs\":{\"field\":\"xs\"},\"ys\":{\"field\":\"ys\"}},\"id\":\"1384\",\"type\":\"MultiLine\"},{\"attributes\":{},\"id\":\"1407\",\"type\":\"UnionRenderers\"},{\"attributes\":{\"formatter\":{\"id\":\"1405\"},\"ticker\":{\"id\":\"1351\"},\"visible\":false},\"id\":\"1350\",\"type\":\"LinearAxis\"},{\"attributes\":{\"source\":{\"id\":\"1370\"}},\"id\":\"1387\",\"type\":\"CDSView\"},{\"attributes\":{},\"id\":\"1411\",\"type\":\"UnionRenderers\"},{\"attributes\":{\"axis\":{\"id\":\"1346\"},\"grid_line_color\":null,\"ticker\":null},\"id\":\"1349\",\"type\":\"Grid\"},{\"attributes\":{},\"id\":\"1414\",\"type\":\"UnionRenderers\"},{\"attributes\":{\"source\":{\"id\":\"1371\"}},\"id\":\"1392\",\"type\":\"CDSView\"},{\"attributes\":{},\"id\":\"1416\",\"type\":\"Selection\"},{\"attributes\":{\"axis\":{\"id\":\"1350\"},\"dimension\":1,\"grid_line_color\":null,\"ticker\":null},\"id\":\"1353\",\"type\":\"Grid\"},{\"attributes\":{\"data\":{\"text\":[4,24,12,19,10,25,20,14,18,18,12,14,14,3,3,1,2,2,6,4,4,6,8,8,8,4,10,6],\"x\":[13.0,66.5,46.0,73.5,91.5,114.5,99.5,152.5,144.5,134.0,186.0,188.5,167.5,202.0,194.0,206.0,201.5,202.5,181.5,193.5,161.0,177.0,159.5,150.5,142.0,153.0,144.5,135.5],\"y\":[65.0,84.0,45.0,78.0,11.5,57.5,64.0,-8.0,15.0,38.0,15.0,62.0,61.0,91.0,89.5,101.0,99.5,104.5,100.0,98.0,90.5,95.0,98.0,98.0,90.5,112.0,104.5,104.5]},\"selected\":{\"id\":\"1413\"},\"selection_policy\":{\"id\":\"1414\"}},\"id\":\"1373\",\"type\":\"ColumnDataSource\"},{\"attributes\":{\"fill_color\":{\"field\":\"fill_color\"},\"line_alpha\":{\"value\":0.1},\"line_color\":{\"field\":\"line_color\"},\"size\":{\"units\":\"screen\",\"value\":12},\"x\":{\"field\":\"x\"},\"y\":{\"field\":\"y\"}},\"id\":\"1390\",\"type\":\"Circle\"},{\"attributes\":{},\"id\":\"1417\",\"type\":\"UnionRenderers\"},{\"attributes\":{\"fill_color\":{\"field\":\"fill_color\"},\"line_color\":{\"field\":\"line_color\"},\"size\":{\"units\":\"screen\",\"value\":12},\"x\":{\"field\":\"x\"},\"y\":{\"field\":\"y\"}},\"id\":\"1389\",\"type\":\"Circle\"},{\"attributes\":{\"align\":\"center\",\"text\":\"0\",\"width\":900},\"id\":\"1374\",\"type\":\"Div\"},{\"attributes\":{\"data_source\":{\"id\":\"1371\"},\"glyph\":{\"id\":\"1389\"},\"hover_glyph\":null,\"muted_glyph\":null,\"nonselection_glyph\":{\"id\":\"1390\"},\"selection_glyph\":null,\"view\":{\"id\":\"1392\"}},\"id\":\"1391\",\"type\":\"GlyphRenderer\"}],\"root_ids\":[\"1422\"]},\"title\":\"Bokeh Application\",\"version\":\"2.2.3\"}};\n",
       "  var render_items = [{\"docid\":\"8734e3da-112f-4620-83c0-c7163c147124\",\"root_ids\":[\"1422\"],\"roots\":{\"1422\":\"bdfc14d9-bdb1-4d87-a168-5e29705b68a3\"}}];\n",
       "  root.Bokeh.embed.embed_items_notebook(docs_json, render_items);\n",
       "\n",
       "  }\n",
       "  if (root.Bokeh !== undefined) {\n",
       "    embed_document(root);\n",
       "  } else {\n",
       "    var attempts = 0;\n",
       "    var timer = setInterval(function(root) {\n",
       "      if (root.Bokeh !== undefined) {\n",
       "        clearInterval(timer);\n",
       "        embed_document(root);\n",
       "      } else {\n",
       "        attempts++;\n",
       "        if (attempts > 100) {\n",
       "          clearInterval(timer);\n",
       "          console.log(\"Bokeh: ERROR: Unable to run BokehJS code because BokehJS library is missing\");\n",
       "        }\n",
       "      }\n",
       "    }, 10, root)\n",
       "  }\n",
       "})(window);"
      ],
      "application/vnd.bokehjs_exec.v0+json": ""
     },
     "metadata": {
      "application/vnd.bokehjs_exec.v0+json": {
       "id": "1422"
      }
     },
     "output_type": "display_data"
    }
   ],
   "source": [
    "plot_mst_algorithm(nodes, edges, 'prims')"
   ]
  },
  {
   "cell_type": "code",
   "execution_count": 6,
   "metadata": {
    "scrolled": false
   },
   "outputs": [
    {
     "data": {
      "text/html": [
       "\n",
       "\n",
       "\n",
       "\n",
       "\n",
       "\n",
       "  <div class=\"bk-root\" id=\"bf989fa3-5cd8-4fd4-8656-79fce51ab2da\" data-root-id=\"1634\"></div>\n"
      ]
     },
     "metadata": {},
     "output_type": "display_data"
    },
    {
     "data": {
      "application/javascript": [
       "(function(root) {\n",
       "  function embed_document(root) {\n",
       "    \n",
       "  var docs_json = {\"a745fe54-68c8-4aa0-8700-a8c9187596d2\":{\"roots\":{\"references\":[{\"attributes\":{\"children\":[[{\"id\":\"1547\"},0,0],[{\"id\":\"1611\"},1,0],[{\"id\":\"1612\"},2,0]]},\"id\":\"1634\",\"type\":\"GridBox\"},{\"attributes\":{\"line_color\":{\"field\":\"line_color\"},\"line_width\":{\"value\":6},\"xs\":{\"field\":\"xs\"},\"ys\":{\"field\":\"ys\"}},\"id\":\"1590\",\"type\":\"MultiLine\"},{\"attributes\":{\"line_color\":{\"field\":\"line_color\"},\"line_width\":{\"value\":6},\"xs\":{\"field\":\"xs\"},\"ys\":{\"field\":\"ys\"}},\"id\":\"1591\",\"type\":\"MultiLine\"},{\"attributes\":{\"button_type\":\"success\",\"icon\":null,\"js_event_callbacks\":{\"button_click\":[{\"id\":\"1610\"}]},\"label\":\"Previous\",\"sizing_mode\":\"scale_width\",\"width_policy\":\"fit\"},\"id\":\"1609\",\"type\":\"Button\"},{\"attributes\":{\"args\":{\"cost\":{\"id\":\"1587\"},\"done\":{\"id\":\"1588\"},\"n\":{\"id\":\"1586\"},\"nodes_src\":{\"id\":\"1583\"},\"source\":{\"id\":\"1581\"},\"tree_edge_src\":{\"id\":\"1582\"}},\"code\":\"\\nif ((parseInt(n.text) - 1) >= 0) {\\n    n.text = (parseInt(n.text) - 1).toString()\\n}\\nvar iteration = parseInt(n.text)\\n\\n    cost.text = source.data['costs'][iteration].toFixed(1)\\n    \\n    \\n    if (iteration == source.data['costs'].length - 1) {\\n        done.text = \\\"done.\\\"\\n    } else {\\n        done.text = \\\"\\\"\\n    }\\n\\n    tree_edge_src.data['xs'] = source.data['iteration_xs'][iteration]\\n    tree_edge_src.data['ys'] = source.data['iteration_ys'][iteration]\\n    \\n    var in_tree = source.data['iteration_nodes'][iteration]\\n\\n    for (let i = 0; i < nodes_src.data['line_color'].length ; i++) {\\n        if (in_tree.includes(i)) {\\n            nodes_src.data['fill_color'][i] = 'steelblue'\\n            nodes_src.data['line_color'][i] = 'steelblue'\\n        } else {\\n            nodes_src.data['fill_color'][i] = '#EA8585'\\n            nodes_src.data['line_color'][i] = '#EA8585'\\n        }\\n    }\\n    \\n    nodes_src.change.emit()\\n    tree_edge_src.change.emit()\\n    \"},\"id\":\"1610\",\"type\":\"CustomJS\"},{\"attributes\":{},\"id\":\"1571\",\"type\":\"HelpTool\"},{\"attributes\":{},\"id\":\"1567\",\"type\":\"WheelZoomTool\"},{\"attributes\":{\"children\":[{\"id\":\"1609\"},{\"id\":\"1607\"}],\"max_width\":900,\"sizing_mode\":\"stretch_both\"},\"id\":\"1611\",\"type\":\"Row\"},{\"attributes\":{\"source\":{\"id\":\"1584\"}},\"id\":\"1594\",\"type\":\"CDSView\"},{\"attributes\":{\"bottom_units\":\"screen\",\"fill_alpha\":0.5,\"fill_color\":\"lightgrey\",\"left_units\":\"screen\",\"level\":\"overlay\",\"line_alpha\":1.0,\"line_color\":\"black\",\"line_dash\":[4,4],\"line_width\":2,\"right_units\":\"screen\",\"top_units\":\"screen\"},\"id\":\"1572\",\"type\":\"BoxAnnotation\"},{\"attributes\":{\"line_width\":{\"value\":6},\"xs\":{\"field\":\"xs\"},\"ys\":{\"field\":\"ys\"}},\"id\":\"1592\",\"type\":\"MultiLine\"},{\"attributes\":{\"children\":[{\"id\":\"1587\"},{\"id\":\"1588\"}]},\"id\":\"1612\",\"type\":\"Row\"},{\"attributes\":{\"data\":{\"xs\":[],\"ys\":[]},\"selected\":{\"id\":\"1620\"},\"selection_policy\":{\"id\":\"1621\"}},\"id\":\"1582\",\"type\":\"ColumnDataSource\"},{\"attributes\":{\"formatter\":{\"id\":\"1615\"},\"ticker\":{\"id\":\"1559\"},\"visible\":false},\"id\":\"1558\",\"type\":\"LinearAxis\"},{\"attributes\":{},\"id\":\"1623\",\"type\":\"UnionRenderers\"},{\"attributes\":{\"data\":{\"line_color\":[\"lightgray\",\"lightgray\",\"lightgray\",\"lightgray\",\"lightgray\",\"lightgray\",\"lightgray\",\"lightgray\",\"lightgray\",\"lightgray\",\"lightgray\",\"lightgray\",\"lightgray\",\"lightgray\",\"lightgray\",\"lightgray\",\"lightgray\",\"lightgray\",\"lightgray\",\"lightgray\",\"lightgray\",\"lightgray\",\"lightgray\",\"lightgray\",\"lightgray\",\"lightgray\",\"lightgray\",\"lightgray\"],\"u\":[0,0,1,1,2,2,2,3,3,3,4,5,5,6,6,7,7,8,9,9,10,10,11,11,11,12,12,13],\"u_pos\":[[6,71],[6,71],[20,59],[20,59],[72,31],[72,31],[72,31],[111,-8],[111,-8],[111,-8],[194,-8],[178,38],[178,38],[199,86],[199,86],[205,96],[205,96],[207,106],[198,103],[198,103],[165,97],[165,97],[157,84],[157,84],[157,84],[162,112],[162,112],[144,112]],\"v\":[1,14,2,14,3,11,14,4,5,11,5,6,11,7,15,8,9,9,10,15,11,15,12,13,14,13,14,14],\"v_pos\":[[20,59],[127,97],[72,31],[127,97],[111,-8],[157,84],[127,97],[194,-8],[178,38],[157,84],[178,38],[199,86],[157,84],[205,96],[189,93],[207,106],[198,103],[198,103],[165,97],[189,93],[157,84],[189,93],[162,112],[144,112],[127,97],[144,112],[127,97],[127,97]],\"weight\":[4,24,12,19,10,25,20,14,18,18,12,14,14,3,3,1,2,2,6,4,4,6,8,8,8,4,10,6],\"xs\":[[6,20],[6,127],[20,72],[20,127],[72,111],[72,157],[72,127],[111,194],[111,178],[111,157],[194,178],[178,199],[178,157],[199,205],[199,189],[205,207],[205,198],[207,198],[198,165],[198,189],[165,157],[165,189],[157,162],[157,144],[157,127],[162,144],[162,127],[144,127]],\"ys\":[[71,59],[71,97],[59,31],[59,97],[31,-8],[31,84],[31,97],[-8,-8],[-8,38],[-8,84],[-8,38],[38,86],[38,84],[86,96],[86,93],[96,106],[96,103],[106,103],[103,97],[103,93],[97,84],[97,93],[84,112],[84,112],[84,97],[112,112],[112,97],[112,97]]},\"selected\":{\"id\":\"1618\"},\"selection_policy\":{\"id\":\"1619\"}},\"id\":\"1584\",\"type\":\"ColumnDataSource\"},{\"attributes\":{\"data\":{\"fill_color\":[\"#EA8585\",\"#EA8585\",\"#EA8585\",\"#EA8585\",\"#EA8585\",\"#EA8585\",\"#EA8585\",\"#EA8585\",\"#EA8585\",\"#EA8585\",\"#EA8585\",\"#EA8585\",\"#EA8585\",\"#EA8585\",\"#EA8585\",\"#EA8585\"],\"line_color\":[\"#EA8585\",\"#EA8585\",\"#EA8585\",\"#EA8585\",\"#EA8585\",\"#EA8585\",\"#EA8585\",\"#EA8585\",\"#EA8585\",\"#EA8585\",\"#EA8585\",\"#EA8585\",\"#EA8585\",\"#EA8585\",\"#EA8585\",\"#EA8585\"],\"x\":[6,20,72,111,194,178,199,205,207,198,165,157,162,144,127,189],\"y\":[71,59,31,-8,-8,38,86,96,106,103,97,84,112,112,97,93]},\"selected\":{\"id\":\"1622\"},\"selection_policy\":{\"id\":\"1623\"}},\"id\":\"1583\",\"type\":\"ColumnDataSource\"},{\"attributes\":{\"data_source\":{\"id\":\"1582\"},\"glyph\":{\"id\":\"1596\"},\"hover_glyph\":null,\"muted_glyph\":null,\"nonselection_glyph\":{\"id\":\"1597\"},\"selection_glyph\":null,\"view\":{\"id\":\"1599\"}},\"id\":\"1598\",\"type\":\"GlyphRenderer\"},{\"attributes\":{},\"id\":\"1559\",\"type\":\"BasicTicker\"},{\"attributes\":{},\"id\":\"1615\",\"type\":\"BasicTickFormatter\"},{\"attributes\":{\"data\":{\"costs\":[0,1.0,3.0,6.0,9.0,13.0,17.0,21.0,27.0,33.0,41.0,51.0,63.0,75.0,89.0,103.0],\"iteration_nodes\":[[],[8,7],[8,9,7],[8,9,6,7],[6,7,8,9,15],[0,1,6,7,8,9,15],[0,1,6,7,8,9,10,11,15],[0,1,6,7,8,9,10,11,12,13,15],[0,1,6,7,8,9,10,11,12,13,15],[0,1,6,7,8,9,10,11,12,13,14,15],[0,1,6,7,8,9,10,11,12,13,14,15],[0,1,2,3,6,7,8,9,10,11,12,13,14,15],[0,1,2,3,6,7,8,9,10,11,12,13,14,15],[0,1,2,3,4,5,6,7,8,9,10,11,12,13,14,15],[0,1,2,3,4,5,6,7,8,9,10,11,12,13,14,15],[0,1,2,3,4,5,6,7,8,9,10,11,12,13,14,15]],\"iteration_xs\":[[],[[207,205]],[[207,205],[198,205]],[[207,205],[198,205],[205,199]],[[207,205],[198,205],[205,199],[189,199]],[[207,205],[198,205],[205,199],[189,199],[20,6]],[[207,205],[198,205],[205,199],[189,199],[20,6],[157,165]],[[207,205],[198,205],[205,199],[189,199],[20,6],[157,165],[144,162]],[[207,205],[198,205],[205,199],[189,199],[20,6],[157,165],[144,162],[165,198]],[[207,205],[198,205],[205,199],[189,199],[20,6],[157,165],[144,162],[165,198],[127,144]],[[207,205],[198,205],[205,199],[189,199],[20,6],[157,165],[144,162],[165,198],[127,144],[162,157]],[[207,205],[198,205],[205,199],[189,199],[20,6],[157,165],[144,162],[165,198],[127,144],[162,157],[111,72]],[[207,205],[198,205],[205,199],[189,199],[20,6],[157,165],[144,162],[165,198],[127,144],[162,157],[111,72],[72,20]],[[207,205],[198,205],[205,199],[189,199],[20,6],[157,165],[144,162],[165,198],[127,144],[162,157],[111,72],[72,20],[178,194]],[[207,205],[198,205],[205,199],[189,199],[20,6],[157,165],[144,162],[165,198],[127,144],[162,157],[111,72],[72,20],[178,194],[194,111]],[[207,205],[198,205],[205,199],[189,199],[20,6],[157,165],[144,162],[165,198],[127,144],[162,157],[111,72],[72,20],[178,194],[194,111],[199,178]]],\"iteration_ys\":[[],[[106,96]],[[106,96],[103,96]],[[106,96],[103,96],[96,86]],[[106,96],[103,96],[96,86],[93,86]],[[106,96],[103,96],[96,86],[93,86],[59,71]],[[106,96],[103,96],[96,86],[93,86],[59,71],[84,97]],[[106,96],[103,96],[96,86],[93,86],[59,71],[84,97],[112,112]],[[106,96],[103,96],[96,86],[93,86],[59,71],[84,97],[112,112],[97,103]],[[106,96],[103,96],[96,86],[93,86],[59,71],[84,97],[112,112],[97,103],[97,112]],[[106,96],[103,96],[96,86],[93,86],[59,71],[84,97],[112,112],[97,103],[97,112],[112,84]],[[106,96],[103,96],[96,86],[93,86],[59,71],[84,97],[112,112],[97,103],[97,112],[112,84],[-8,31]],[[106,96],[103,96],[96,86],[93,86],[59,71],[84,97],[112,112],[97,103],[97,112],[112,84],[-8,31],[31,59]],[[106,96],[103,96],[96,86],[93,86],[59,71],[84,97],[112,112],[97,103],[97,112],[112,84],[-8,31],[31,59],[38,-8]],[[106,96],[103,96],[96,86],[93,86],[59,71],[84,97],[112,112],[97,103],[97,112],[112,84],[-8,31],[31,59],[38,-8],[-8,-8]],[[106,96],[103,96],[96,86],[93,86],[59,71],[84,97],[112,112],[97,103],[97,112],[112,84],[-8,31],[31,59],[38,-8],[-8,-8],[86,38]]]},\"selected\":{\"id\":\"1628\"},\"selection_policy\":{\"id\":\"1629\"}},\"id\":\"1581\",\"type\":\"ColumnDataSource\"},{\"attributes\":{},\"id\":\"1554\",\"type\":\"LinearScale\"},{\"attributes\":{\"line_alpha\":{\"value\":0.1},\"line_width\":{\"value\":6},\"xs\":{\"field\":\"xs\"},\"ys\":{\"field\":\"ys\"}},\"id\":\"1597\",\"type\":\"MultiLine\"},{\"attributes\":{},\"id\":\"1617\",\"type\":\"BasicTickFormatter\"},{\"attributes\":{\"formatter\":{\"id\":\"1617\"},\"ticker\":{\"id\":\"1563\"},\"visible\":false},\"id\":\"1562\",\"type\":\"LinearAxis\"},{\"attributes\":{},\"id\":\"1622\",\"type\":\"Selection\"},{\"attributes\":{},\"id\":\"1556\",\"type\":\"LinearScale\"},{\"attributes\":{\"background_fill_color\":null,\"below\":[{\"id\":\"1558\"}],\"border_fill_color\":null,\"center\":[{\"id\":\"1561\"},{\"id\":\"1565\"},{\"id\":\"1605\"}],\"left\":[{\"id\":\"1562\"}],\"outline_line_color\":null,\"plot_height\":500,\"plot_width\":900,\"renderers\":[{\"id\":\"1593\"},{\"id\":\"1598\"},{\"id\":\"1603\"}],\"title\":{\"id\":\"1548\"},\"toolbar\":{\"id\":\"1573\"},\"toolbar_location\":null,\"x_range\":{\"id\":\"1550\"},\"x_scale\":{\"id\":\"1554\"},\"y_range\":{\"id\":\"1552\"},\"y_scale\":{\"id\":\"1556\"}},\"id\":\"1547\",\"subtype\":\"Figure\",\"type\":\"Plot\"},{\"attributes\":{\"line_width\":{\"value\":6},\"xs\":{\"field\":\"xs\"},\"ys\":{\"field\":\"ys\"}},\"id\":\"1596\",\"type\":\"MultiLine\"},{\"attributes\":{},\"id\":\"1618\",\"type\":\"Selection\"},{\"attributes\":{\"axis\":{\"id\":\"1558\"},\"grid_line_color\":null,\"ticker\":null},\"id\":\"1561\",\"type\":\"Grid\"},{\"attributes\":{},\"id\":\"1619\",\"type\":\"UnionRenderers\"},{\"attributes\":{\"source\":{\"id\":\"1582\"}},\"id\":\"1599\",\"type\":\"CDSView\"},{\"attributes\":{\"axis\":{\"id\":\"1562\"},\"dimension\":1,\"grid_line_color\":null,\"ticker\":null},\"id\":\"1565\",\"type\":\"Grid\"},{\"attributes\":{},\"id\":\"1620\",\"type\":\"Selection\"},{\"attributes\":{\"source\":{\"id\":\"1583\"}},\"id\":\"1604\",\"type\":\"CDSView\"},{\"attributes\":{},\"id\":\"1626\",\"type\":\"UnionRenderers\"},{\"attributes\":{},\"id\":\"1563\",\"type\":\"BasicTicker\"},{\"attributes\":{},\"id\":\"1628\",\"type\":\"Selection\"},{\"attributes\":{\"source\":{\"id\":\"1585\"},\"x\":{\"field\":\"x\"},\"y\":{\"field\":\"y\"}},\"id\":\"1605\",\"type\":\"LabelSet\"},{\"attributes\":{\"end\":122.2,\"start\":-18.200000000000003},\"id\":\"1552\",\"type\":\"Range1d\"},{\"attributes\":{\"data\":{\"text\":[4,24,12,19,10,25,20,14,18,18,12,14,14,3,3,1,2,2,6,4,4,6,8,8,8,4,10,6],\"x\":[13.0,66.5,46.0,73.5,91.5,114.5,99.5,152.5,144.5,134.0,186.0,188.5,167.5,202.0,194.0,206.0,201.5,202.5,181.5,193.5,161.0,177.0,159.5,150.5,142.0,153.0,144.5,135.5],\"y\":[65.0,84.0,45.0,78.0,11.5,57.5,64.0,-8.0,15.0,38.0,15.0,62.0,61.0,91.0,89.5,101.0,99.5,104.5,100.0,98.0,90.5,95.0,98.0,98.0,90.5,112.0,104.5,104.5]},\"selected\":{\"id\":\"1625\"},\"selection_policy\":{\"id\":\"1626\"}},\"id\":\"1585\",\"type\":\"ColumnDataSource\"},{\"attributes\":{\"active_drag\":\"auto\",\"active_inspect\":\"auto\",\"active_multi\":null,\"active_scroll\":\"auto\",\"active_tap\":\"auto\",\"logo\":null,\"tools\":[{\"id\":\"1566\"},{\"id\":\"1567\"},{\"id\":\"1568\"},{\"id\":\"1569\"},{\"id\":\"1570\"},{\"id\":\"1571\"}]},\"id\":\"1573\",\"type\":\"Toolbar\"},{\"attributes\":{},\"id\":\"1629\",\"type\":\"UnionRenderers\"},{\"attributes\":{\"data_source\":{\"id\":\"1583\"},\"glyph\":{\"id\":\"1601\"},\"hover_glyph\":null,\"muted_glyph\":null,\"nonselection_glyph\":{\"id\":\"1602\"},\"selection_glyph\":null,\"view\":{\"id\":\"1604\"}},\"id\":\"1603\",\"type\":\"GlyphRenderer\"},{\"attributes\":{},\"id\":\"1566\",\"type\":\"PanTool\"},{\"attributes\":{\"align\":\"center\",\"text\":\"0\",\"width\":900},\"id\":\"1586\",\"type\":\"Div\"},{\"attributes\":{\"end\":224.085,\"start\":-11.085},\"id\":\"1550\",\"type\":\"Range1d\"},{\"attributes\":{\"fill_color\":{\"field\":\"fill_color\"},\"line_alpha\":{\"value\":0.1},\"line_color\":{\"field\":\"line_color\"},\"size\":{\"units\":\"screen\",\"value\":12},\"x\":{\"field\":\"x\"},\"y\":{\"field\":\"y\"}},\"id\":\"1602\",\"type\":\"Circle\"},{\"attributes\":{\"fill_color\":{\"field\":\"fill_color\"},\"line_color\":{\"field\":\"line_color\"},\"size\":{\"units\":\"screen\",\"value\":12},\"x\":{\"field\":\"x\"},\"y\":{\"field\":\"y\"}},\"id\":\"1601\",\"type\":\"Circle\"},{\"attributes\":{\"text\":\"\"},\"id\":\"1548\",\"type\":\"Title\"},{\"attributes\":{\"align\":\"center\",\"text\":\"0\",\"width\":450},\"id\":\"1587\",\"type\":\"Div\"},{\"attributes\":{\"button_type\":\"success\",\"icon\":null,\"js_event_callbacks\":{\"button_click\":[{\"id\":\"1608\"}]},\"label\":\"Next\",\"sizing_mode\":\"scale_width\",\"width_policy\":\"fit\"},\"id\":\"1607\",\"type\":\"Button\"},{\"attributes\":{},\"id\":\"1569\",\"type\":\"SaveTool\"},{\"attributes\":{\"align\":\"center\",\"width\":450},\"id\":\"1588\",\"type\":\"Div\"},{\"attributes\":{},\"id\":\"1570\",\"type\":\"ResetTool\"},{\"attributes\":{},\"id\":\"1621\",\"type\":\"UnionRenderers\"},{\"attributes\":{},\"id\":\"1625\",\"type\":\"Selection\"},{\"attributes\":{\"overlay\":{\"id\":\"1572\"}},\"id\":\"1568\",\"type\":\"BoxZoomTool\"},{\"attributes\":{\"args\":{\"cost\":{\"id\":\"1587\"},\"done\":{\"id\":\"1588\"},\"n\":{\"id\":\"1586\"},\"nodes_src\":{\"id\":\"1583\"},\"source\":{\"id\":\"1581\"},\"tree_edge_src\":{\"id\":\"1582\"}},\"code\":\"\\nif ((parseInt(n.text) + 1) < source.data['costs'].length) {\\n    n.text = (parseInt(n.text) + 1).toString()\\n}\\nvar iteration = parseInt(n.text)\\n\\n    cost.text = source.data['costs'][iteration].toFixed(1)\\n    \\n    \\n    if (iteration == source.data['costs'].length - 1) {\\n        done.text = \\\"done.\\\"\\n    } else {\\n        done.text = \\\"\\\"\\n    }\\n\\n    tree_edge_src.data['xs'] = source.data['iteration_xs'][iteration]\\n    tree_edge_src.data['ys'] = source.data['iteration_ys'][iteration]\\n    \\n    var in_tree = source.data['iteration_nodes'][iteration]\\n\\n    for (let i = 0; i < nodes_src.data['line_color'].length ; i++) {\\n        if (in_tree.includes(i)) {\\n            nodes_src.data['fill_color'][i] = 'steelblue'\\n            nodes_src.data['line_color'][i] = 'steelblue'\\n        } else {\\n            nodes_src.data['fill_color'][i] = '#EA8585'\\n            nodes_src.data['line_color'][i] = '#EA8585'\\n        }\\n    }\\n    \\n    nodes_src.change.emit()\\n    tree_edge_src.change.emit()\\n    \"},\"id\":\"1608\",\"type\":\"CustomJS\"},{\"attributes\":{\"data_source\":{\"id\":\"1584\"},\"glyph\":{\"id\":\"1590\"},\"hover_glyph\":{\"id\":\"1592\"},\"muted_glyph\":null,\"nonselection_glyph\":{\"id\":\"1591\"},\"selection_glyph\":null,\"view\":{\"id\":\"1594\"}},\"id\":\"1593\",\"type\":\"GlyphRenderer\"}],\"root_ids\":[\"1634\"]},\"title\":\"Bokeh Application\",\"version\":\"2.2.3\"}};\n",
       "  var render_items = [{\"docid\":\"a745fe54-68c8-4aa0-8700-a8c9187596d2\",\"root_ids\":[\"1634\"],\"roots\":{\"1634\":\"bf989fa3-5cd8-4fd4-8656-79fce51ab2da\"}}];\n",
       "  root.Bokeh.embed.embed_items_notebook(docs_json, render_items);\n",
       "\n",
       "  }\n",
       "  if (root.Bokeh !== undefined) {\n",
       "    embed_document(root);\n",
       "  } else {\n",
       "    var attempts = 0;\n",
       "    var timer = setInterval(function(root) {\n",
       "      if (root.Bokeh !== undefined) {\n",
       "        clearInterval(timer);\n",
       "        embed_document(root);\n",
       "      } else {\n",
       "        attempts++;\n",
       "        if (attempts > 100) {\n",
       "          clearInterval(timer);\n",
       "          console.log(\"Bokeh: ERROR: Unable to run BokehJS code because BokehJS library is missing\");\n",
       "        }\n",
       "      }\n",
       "    }, 10, root)\n",
       "  }\n",
       "})(window);"
      ],
      "application/vnd.bokehjs_exec.v0+json": ""
     },
     "metadata": {
      "application/vnd.bokehjs_exec.v0+json": {
       "id": "1634"
      }
     },
     "output_type": "display_data"
    }
   ],
   "source": [
    "plot_mst_algorithm(nodes, edges, 'kruskals')"
   ]
  },
  {
   "cell_type": "code",
   "execution_count": 7,
   "metadata": {},
   "outputs": [
    {
     "data": {
      "text/html": [
       "\n",
       "\n",
       "\n",
       "\n",
       "\n",
       "\n",
       "  <div class=\"bk-root\" id=\"59a0b322-9b1e-48ef-872b-53e37dfa877a\" data-root-id=\"1862\"></div>\n"
      ]
     },
     "metadata": {},
     "output_type": "display_data"
    },
    {
     "data": {
      "application/javascript": [
       "(function(root) {\n",
       "  function embed_document(root) {\n",
       "    \n",
       "  var docs_json = {\"a61dd1b9-de42-4244-95e8-33b9f508037f\":{\"roots\":{\"references\":[{\"attributes\":{\"children\":[[{\"id\":\"1775\"},0,0],[{\"id\":\"1839\"},1,0],[{\"id\":\"1840\"},2,0]]},\"id\":\"1862\",\"type\":\"GridBox\"},{\"attributes\":{\"text\":\"\"},\"id\":\"1776\",\"type\":\"Title\"},{\"attributes\":{\"line_alpha\":{\"value\":0.1},\"line_width\":{\"value\":6},\"xs\":{\"field\":\"xs\"},\"ys\":{\"field\":\"ys\"}},\"id\":\"1825\",\"type\":\"MultiLine\"},{\"attributes\":{},\"id\":\"1845\",\"type\":\"BasicTickFormatter\"},{\"attributes\":{\"data\":{\"costs\":[279.0,254.0,230.0,210.0,191.0,173.0,155.0,141.0,131.0,123.0,115.0,109.0,105.0,103.0],\"iteration_nodes\":[[0,1,2,3,4,5,6,7,8,9,10,11,12,13,14,15],[0,1,2,3,4,5,6,7,8,9,10,11,12,13,14,15],[0,1,2,3,4,5,6,7,8,9,10,11,12,13,14,15],[0,1,2,3,4,5,6,7,8,9,10,11,12,13,14,15],[0,1,2,3,4,5,6,7,8,9,10,11,12,13,14,15],[0,1,2,3,4,5,6,7,8,9,10,11,12,13,14,15],[0,1,2,3,4,5,6,7,8,9,10,11,12,13,14,15],[0,1,2,3,4,5,6,7,8,9,10,11,12,13,14,15],[0,1,2,3,4,5,6,7,8,9,10,11,12,13,14,15],[0,1,2,3,4,5,6,7,8,9,10,11,12,13,14,15],[0,1,2,3,4,5,6,7,8,9,10,11,12,13,14,15],[0,1,2,3,4,5,6,7,8,9,10,11,12,13,14,15],[0,1,2,3,4,5,6,7,8,9,10,11,12,13,14,15],[0,1,2,3,4,5,6,7,8,9,10,11,12,13,14,15]],\"iteration_xs\":[[[6,127],[6,20],[20,127],[20,72],[72,157],[72,127],[72,111],[111,178],[111,157],[111,194],[194,178],[178,199],[178,157],[199,205],[199,189],[205,198],[205,207],[207,198],[198,165],[198,189],[165,189],[165,157],[157,162],[157,144],[157,127],[162,127],[162,144],[144,127]],[[6,127],[6,20],[20,127],[20,72],[72,127],[72,111],[111,178],[111,157],[111,194],[194,178],[178,199],[178,157],[199,205],[199,189],[205,198],[205,207],[207,198],[198,165],[198,189],[165,189],[165,157],[157,162],[157,144],[157,127],[162,127],[162,144],[144,127]],[[6,20],[20,127],[20,72],[72,127],[72,111],[111,178],[111,157],[111,194],[194,178],[178,199],[178,157],[199,205],[199,189],[205,198],[205,207],[207,198],[198,165],[198,189],[165,189],[165,157],[157,162],[157,144],[157,127],[162,127],[162,144],[144,127]],[[6,20],[20,127],[20,72],[72,111],[111,178],[111,157],[111,194],[194,178],[178,199],[178,157],[199,205],[199,189],[205,198],[205,207],[207,198],[198,165],[198,189],[165,189],[165,157],[157,162],[157,144],[157,127],[162,127],[162,144],[144,127]],[[6,20],[20,72],[72,111],[111,178],[111,157],[111,194],[194,178],[178,199],[178,157],[199,205],[199,189],[205,198],[205,207],[207,198],[198,165],[198,189],[165,189],[165,157],[157,162],[157,144],[157,127],[162,127],[162,144],[144,127]],[[6,20],[20,72],[72,111],[111,157],[111,194],[194,178],[178,199],[178,157],[199,205],[199,189],[205,198],[205,207],[207,198],[198,165],[198,189],[165,189],[165,157],[157,162],[157,144],[157,127],[162,127],[162,144],[144,127]],[[6,20],[20,72],[72,111],[111,194],[194,178],[178,199],[178,157],[199,205],[199,189],[205,198],[205,207],[207,198],[198,165],[198,189],[165,189],[165,157],[157,162],[157,144],[157,127],[162,127],[162,144],[144,127]],[[6,20],[20,72],[72,111],[111,194],[194,178],[178,157],[199,205],[199,189],[205,198],[205,207],[207,198],[198,165],[198,189],[165,189],[165,157],[157,162],[157,144],[157,127],[162,127],[162,144],[144,127]],[[6,20],[20,72],[72,111],[111,194],[194,178],[178,157],[199,205],[199,189],[205,198],[205,207],[207,198],[198,165],[198,189],[165,189],[165,157],[157,162],[157,144],[157,127],[162,144],[144,127]],[[6,20],[20,72],[72,111],[111,194],[194,178],[178,157],[199,205],[199,189],[205,198],[205,207],[207,198],[198,165],[198,189],[165,189],[165,157],[157,144],[157,127],[162,144],[144,127]],[[6,20],[20,72],[72,111],[111,194],[194,178],[178,157],[199,205],[199,189],[205,198],[205,207],[207,198],[198,165],[198,189],[165,189],[165,157],[157,127],[162,144],[144,127]],[[6,20],[20,72],[72,111],[111,194],[194,178],[178,157],[199,205],[199,189],[205,198],[205,207],[207,198],[198,189],[165,189],[165,157],[157,127],[162,144],[144,127]],[[6,20],[20,72],[72,111],[111,194],[194,178],[178,157],[199,205],[199,189],[205,198],[205,207],[207,198],[165,189],[165,157],[157,127],[162,144],[144,127]],[[6,20],[20,72],[72,111],[111,194],[194,178],[178,157],[199,205],[199,189],[205,207],[207,198],[165,189],[165,157],[157,127],[162,144],[144,127]]],\"iteration_ys\":[[[71,97],[71,59],[59,97],[59,31],[31,84],[31,97],[31,-8],[-8,38],[-8,84],[-8,-8],[-8,38],[38,86],[38,84],[86,96],[86,93],[96,103],[96,106],[106,103],[103,97],[103,93],[97,93],[97,84],[84,112],[84,112],[84,97],[112,97],[112,112],[112,97]],[[71,97],[71,59],[59,97],[59,31],[31,97],[31,-8],[-8,38],[-8,84],[-8,-8],[-8,38],[38,86],[38,84],[86,96],[86,93],[96,103],[96,106],[106,103],[103,97],[103,93],[97,93],[97,84],[84,112],[84,112],[84,97],[112,97],[112,112],[112,97]],[[71,59],[59,97],[59,31],[31,97],[31,-8],[-8,38],[-8,84],[-8,-8],[-8,38],[38,86],[38,84],[86,96],[86,93],[96,103],[96,106],[106,103],[103,97],[103,93],[97,93],[97,84],[84,112],[84,112],[84,97],[112,97],[112,112],[112,97]],[[71,59],[59,97],[59,31],[31,-8],[-8,38],[-8,84],[-8,-8],[-8,38],[38,86],[38,84],[86,96],[86,93],[96,103],[96,106],[106,103],[103,97],[103,93],[97,93],[97,84],[84,112],[84,112],[84,97],[112,97],[112,112],[112,97]],[[71,59],[59,31],[31,-8],[-8,38],[-8,84],[-8,-8],[-8,38],[38,86],[38,84],[86,96],[86,93],[96,103],[96,106],[106,103],[103,97],[103,93],[97,93],[97,84],[84,112],[84,112],[84,97],[112,97],[112,112],[112,97]],[[71,59],[59,31],[31,-8],[-8,84],[-8,-8],[-8,38],[38,86],[38,84],[86,96],[86,93],[96,103],[96,106],[106,103],[103,97],[103,93],[97,93],[97,84],[84,112],[84,112],[84,97],[112,97],[112,112],[112,97]],[[71,59],[59,31],[31,-8],[-8,-8],[-8,38],[38,86],[38,84],[86,96],[86,93],[96,103],[96,106],[106,103],[103,97],[103,93],[97,93],[97,84],[84,112],[84,112],[84,97],[112,97],[112,112],[112,97]],[[71,59],[59,31],[31,-8],[-8,-8],[-8,38],[38,84],[86,96],[86,93],[96,103],[96,106],[106,103],[103,97],[103,93],[97,93],[97,84],[84,112],[84,112],[84,97],[112,97],[112,112],[112,97]],[[71,59],[59,31],[31,-8],[-8,-8],[-8,38],[38,84],[86,96],[86,93],[96,103],[96,106],[106,103],[103,97],[103,93],[97,93],[97,84],[84,112],[84,112],[84,97],[112,112],[112,97]],[[71,59],[59,31],[31,-8],[-8,-8],[-8,38],[38,84],[86,96],[86,93],[96,103],[96,106],[106,103],[103,97],[103,93],[97,93],[97,84],[84,112],[84,97],[112,112],[112,97]],[[71,59],[59,31],[31,-8],[-8,-8],[-8,38],[38,84],[86,96],[86,93],[96,103],[96,106],[106,103],[103,97],[103,93],[97,93],[97,84],[84,97],[112,112],[112,97]],[[71,59],[59,31],[31,-8],[-8,-8],[-8,38],[38,84],[86,96],[86,93],[96,103],[96,106],[106,103],[103,93],[97,93],[97,84],[84,97],[112,112],[112,97]],[[71,59],[59,31],[31,-8],[-8,-8],[-8,38],[38,84],[86,96],[86,93],[96,103],[96,106],[106,103],[97,93],[97,84],[84,97],[112,112],[112,97]],[[71,59],[59,31],[31,-8],[-8,-8],[-8,38],[38,84],[86,96],[86,93],[96,106],[106,103],[97,93],[97,84],[84,97],[112,112],[112,97]]]},\"selected\":{\"id\":\"1856\"},\"selection_policy\":{\"id\":\"1857\"}},\"id\":\"1809\",\"type\":\"ColumnDataSource\"},{\"attributes\":{},\"id\":\"1851\",\"type\":\"UnionRenderers\"},{\"attributes\":{},\"id\":\"1799\",\"type\":\"HelpTool\"},{\"attributes\":{},\"id\":\"1846\",\"type\":\"Selection\"},{\"attributes\":{\"line_width\":{\"value\":6},\"xs\":{\"field\":\"xs\"},\"ys\":{\"field\":\"ys\"}},\"id\":\"1824\",\"type\":\"MultiLine\"},{\"attributes\":{\"bottom_units\":\"screen\",\"fill_alpha\":0.5,\"fill_color\":\"lightgrey\",\"left_units\":\"screen\",\"level\":\"overlay\",\"line_alpha\":1.0,\"line_color\":\"black\",\"line_dash\":[4,4],\"line_width\":2,\"right_units\":\"screen\",\"top_units\":\"screen\"},\"id\":\"1800\",\"type\":\"BoxAnnotation\"},{\"attributes\":{},\"id\":\"1847\",\"type\":\"UnionRenderers\"},{\"attributes\":{\"source\":{\"id\":\"1810\"}},\"id\":\"1827\",\"type\":\"CDSView\"},{\"attributes\":{\"data\":{\"fill_color\":[\"steelblue\",\"steelblue\",\"steelblue\",\"steelblue\",\"steelblue\",\"steelblue\",\"steelblue\",\"steelblue\",\"steelblue\",\"steelblue\",\"steelblue\",\"steelblue\",\"steelblue\",\"steelblue\",\"steelblue\",\"steelblue\"],\"line_color\":[\"steelblue\",\"steelblue\",\"steelblue\",\"steelblue\",\"steelblue\",\"steelblue\",\"steelblue\",\"steelblue\",\"steelblue\",\"steelblue\",\"steelblue\",\"steelblue\",\"steelblue\",\"steelblue\",\"steelblue\",\"steelblue\"],\"x\":[6,20,72,111,194,178,199,205,207,198,165,157,162,144,127,189],\"y\":[71,59,31,-8,-8,38,86,96,106,103,97,84,112,112,97,93]},\"selected\":{\"id\":\"1850\"},\"selection_policy\":{\"id\":\"1851\"}},\"id\":\"1811\",\"type\":\"ColumnDataSource\"},{\"attributes\":{},\"id\":\"1848\",\"type\":\"Selection\"},{\"attributes\":{\"end\":122.2,\"start\":-18.200000000000003},\"id\":\"1780\",\"type\":\"Range1d\"},{\"attributes\":{},\"id\":\"1782\",\"type\":\"LinearScale\"},{\"attributes\":{\"source\":{\"id\":\"1811\"}},\"id\":\"1832\",\"type\":\"CDSView\"},{\"attributes\":{},\"id\":\"1849\",\"type\":\"UnionRenderers\"},{\"attributes\":{\"background_fill_color\":null,\"below\":[{\"id\":\"1786\"}],\"border_fill_color\":null,\"center\":[{\"id\":\"1789\"},{\"id\":\"1793\"},{\"id\":\"1833\"}],\"left\":[{\"id\":\"1790\"}],\"outline_line_color\":null,\"plot_height\":500,\"plot_width\":900,\"renderers\":[{\"id\":\"1821\"},{\"id\":\"1826\"},{\"id\":\"1831\"}],\"title\":{\"id\":\"1776\"},\"toolbar\":{\"id\":\"1801\"},\"toolbar_location\":null,\"x_range\":{\"id\":\"1778\"},\"x_scale\":{\"id\":\"1782\"},\"y_range\":{\"id\":\"1780\"},\"y_scale\":{\"id\":\"1784\"}},\"id\":\"1775\",\"subtype\":\"Figure\",\"type\":\"Plot\"},{\"attributes\":{},\"id\":\"1856\",\"type\":\"Selection\"},{\"attributes\":{\"formatter\":{\"id\":\"1843\"},\"ticker\":{\"id\":\"1787\"},\"visible\":false},\"id\":\"1786\",\"type\":\"LinearAxis\"},{\"attributes\":{\"source\":{\"id\":\"1813\"},\"x\":{\"field\":\"x\"},\"y\":{\"field\":\"y\"}},\"id\":\"1833\",\"type\":\"LabelSet\"},{\"attributes\":{\"data\":{\"text\":[4,24,12,19,10,25,20,14,18,18,12,14,14,3,3,1,2,2,6,4,4,6,8,8,8,4,10,6],\"x\":[13.0,66.5,46.0,73.5,91.5,114.5,99.5,152.5,144.5,134.0,186.0,188.5,167.5,202.0,194.0,206.0,201.5,202.5,181.5,193.5,161.0,177.0,159.5,150.5,142.0,153.0,144.5,135.5],\"y\":[65.0,84.0,45.0,78.0,11.5,57.5,64.0,-8.0,15.0,38.0,15.0,62.0,61.0,91.0,89.5,101.0,99.5,104.5,100.0,98.0,90.5,95.0,98.0,98.0,90.5,112.0,104.5,104.5]},\"selected\":{\"id\":\"1853\"},\"selection_policy\":{\"id\":\"1854\"}},\"id\":\"1813\",\"type\":\"ColumnDataSource\"},{\"attributes\":{},\"id\":\"1857\",\"type\":\"UnionRenderers\"},{\"attributes\":{\"data_source\":{\"id\":\"1811\"},\"glyph\":{\"id\":\"1829\"},\"hover_glyph\":null,\"muted_glyph\":null,\"nonselection_glyph\":{\"id\":\"1830\"},\"selection_glyph\":null,\"view\":{\"id\":\"1832\"}},\"id\":\"1831\",\"type\":\"GlyphRenderer\"},{\"attributes\":{\"align\":\"center\",\"text\":\"0\",\"width\":900},\"id\":\"1814\",\"type\":\"Div\"},{\"attributes\":{},\"id\":\"1784\",\"type\":\"LinearScale\"},{\"attributes\":{\"data_source\":{\"id\":\"1810\"},\"glyph\":{\"id\":\"1824\"},\"hover_glyph\":null,\"muted_glyph\":null,\"nonselection_glyph\":{\"id\":\"1825\"},\"selection_glyph\":null,\"view\":{\"id\":\"1827\"}},\"id\":\"1826\",\"type\":\"GlyphRenderer\"},{\"attributes\":{\"fill_color\":{\"field\":\"fill_color\"},\"line_alpha\":{\"value\":0.1},\"line_color\":{\"field\":\"line_color\"},\"size\":{\"units\":\"screen\",\"value\":12},\"x\":{\"field\":\"x\"},\"y\":{\"field\":\"y\"}},\"id\":\"1830\",\"type\":\"Circle\"},{\"attributes\":{\"fill_color\":{\"field\":\"fill_color\"},\"line_color\":{\"field\":\"line_color\"},\"size\":{\"units\":\"screen\",\"value\":12},\"x\":{\"field\":\"x\"},\"y\":{\"field\":\"y\"}},\"id\":\"1829\",\"type\":\"Circle\"},{\"attributes\":{\"align\":\"center\",\"text\":\"279.0\",\"width\":450},\"id\":\"1815\",\"type\":\"Div\"},{\"attributes\":{\"formatter\":{\"id\":\"1845\"},\"ticker\":{\"id\":\"1791\"},\"visible\":false},\"id\":\"1790\",\"type\":\"LinearAxis\"},{\"attributes\":{\"button_type\":\"success\",\"icon\":null,\"js_event_callbacks\":{\"button_click\":[{\"id\":\"1836\"}]},\"label\":\"Next\",\"sizing_mode\":\"scale_width\",\"width_policy\":\"fit\"},\"id\":\"1835\",\"type\":\"Button\"},{\"attributes\":{},\"id\":\"1787\",\"type\":\"BasicTicker\"},{\"attributes\":{\"align\":\"center\",\"width\":450},\"id\":\"1816\",\"type\":\"Div\"},{\"attributes\":{\"axis\":{\"id\":\"1786\"},\"grid_line_color\":null,\"ticker\":null},\"id\":\"1789\",\"type\":\"Grid\"},{\"attributes\":{},\"id\":\"1850\",\"type\":\"Selection\"},{\"attributes\":{},\"id\":\"1854\",\"type\":\"UnionRenderers\"},{\"attributes\":{},\"id\":\"1794\",\"type\":\"PanTool\"},{\"attributes\":{\"args\":{\"cost\":{\"id\":\"1815\"},\"done\":{\"id\":\"1816\"},\"n\":{\"id\":\"1814\"},\"nodes_src\":{\"id\":\"1811\"},\"source\":{\"id\":\"1809\"},\"tree_edge_src\":{\"id\":\"1810\"}},\"code\":\"\\nif ((parseInt(n.text) + 1) < source.data['costs'].length) {\\n    n.text = (parseInt(n.text) + 1).toString()\\n}\\nvar iteration = parseInt(n.text)\\n\\n    cost.text = source.data['costs'][iteration].toFixed(1)\\n    \\n    \\n    if (iteration == source.data['costs'].length - 1) {\\n        done.text = \\\"done.\\\"\\n    } else {\\n        done.text = \\\"\\\"\\n    }\\n\\n    tree_edge_src.data['xs'] = source.data['iteration_xs'][iteration]\\n    tree_edge_src.data['ys'] = source.data['iteration_ys'][iteration]\\n    \\n    var in_tree = source.data['iteration_nodes'][iteration]\\n\\n    for (let i = 0; i < nodes_src.data['line_color'].length ; i++) {\\n        if (in_tree.includes(i)) {\\n            nodes_src.data['fill_color'][i] = 'steelblue'\\n            nodes_src.data['line_color'][i] = 'steelblue'\\n        } else {\\n            nodes_src.data['fill_color'][i] = '#EA8585'\\n            nodes_src.data['line_color'][i] = '#EA8585'\\n        }\\n    }\\n    \\n    nodes_src.change.emit()\\n    tree_edge_src.change.emit()\\n    \"},\"id\":\"1836\",\"type\":\"CustomJS\"},{\"attributes\":{\"data_source\":{\"id\":\"1812\"},\"glyph\":{\"id\":\"1818\"},\"hover_glyph\":{\"id\":\"1820\"},\"muted_glyph\":null,\"nonselection_glyph\":{\"id\":\"1819\"},\"selection_glyph\":null,\"view\":{\"id\":\"1822\"}},\"id\":\"1821\",\"type\":\"GlyphRenderer\"},{\"attributes\":{\"active_drag\":\"auto\",\"active_inspect\":\"auto\",\"active_multi\":null,\"active_scroll\":\"auto\",\"active_tap\":\"auto\",\"logo\":null,\"tools\":[{\"id\":\"1794\"},{\"id\":\"1795\"},{\"id\":\"1796\"},{\"id\":\"1797\"},{\"id\":\"1798\"},{\"id\":\"1799\"}]},\"id\":\"1801\",\"type\":\"Toolbar\"},{\"attributes\":{},\"id\":\"1795\",\"type\":\"WheelZoomTool\"},{\"attributes\":{\"line_color\":{\"field\":\"line_color\"},\"line_width\":{\"value\":6},\"xs\":{\"field\":\"xs\"},\"ys\":{\"field\":\"ys\"}},\"id\":\"1818\",\"type\":\"MultiLine\"},{\"attributes\":{\"button_type\":\"success\",\"icon\":null,\"js_event_callbacks\":{\"button_click\":[{\"id\":\"1838\"}]},\"label\":\"Previous\",\"sizing_mode\":\"scale_width\",\"width_policy\":\"fit\"},\"id\":\"1837\",\"type\":\"Button\"},{\"attributes\":{\"line_color\":{\"field\":\"line_color\"},\"line_width\":{\"value\":6},\"xs\":{\"field\":\"xs\"},\"ys\":{\"field\":\"ys\"}},\"id\":\"1819\",\"type\":\"MultiLine\"},{\"attributes\":{\"overlay\":{\"id\":\"1800\"}},\"id\":\"1796\",\"type\":\"BoxZoomTool\"},{\"attributes\":{\"data\":{\"xs\":[[6,127],[6,20],[20,127],[20,72],[72,157],[72,127],[72,111],[111,178],[111,157],[111,194],[194,178],[178,199],[178,157],[199,205],[199,189],[205,198],[205,207],[207,198],[198,165],[198,189],[165,189],[165,157],[157,162],[157,144],[157,127],[162,127],[162,144],[144,127]],\"ys\":[[71,97],[71,59],[59,97],[59,31],[31,84],[31,97],[31,-8],[-8,38],[-8,84],[-8,-8],[-8,38],[38,86],[38,84],[86,96],[86,93],[96,103],[96,106],[106,103],[103,97],[103,93],[97,93],[97,84],[84,112],[84,112],[84,97],[112,97],[112,112],[112,97]]},\"selected\":{\"id\":\"1848\"},\"selection_policy\":{\"id\":\"1849\"}},\"id\":\"1810\",\"type\":\"ColumnDataSource\"},{\"attributes\":{\"args\":{\"cost\":{\"id\":\"1815\"},\"done\":{\"id\":\"1816\"},\"n\":{\"id\":\"1814\"},\"nodes_src\":{\"id\":\"1811\"},\"source\":{\"id\":\"1809\"},\"tree_edge_src\":{\"id\":\"1810\"}},\"code\":\"\\nif ((parseInt(n.text) - 1) >= 0) {\\n    n.text = (parseInt(n.text) - 1).toString()\\n}\\nvar iteration = parseInt(n.text)\\n\\n    cost.text = source.data['costs'][iteration].toFixed(1)\\n    \\n    \\n    if (iteration == source.data['costs'].length - 1) {\\n        done.text = \\\"done.\\\"\\n    } else {\\n        done.text = \\\"\\\"\\n    }\\n\\n    tree_edge_src.data['xs'] = source.data['iteration_xs'][iteration]\\n    tree_edge_src.data['ys'] = source.data['iteration_ys'][iteration]\\n    \\n    var in_tree = source.data['iteration_nodes'][iteration]\\n\\n    for (let i = 0; i < nodes_src.data['line_color'].length ; i++) {\\n        if (in_tree.includes(i)) {\\n            nodes_src.data['fill_color'][i] = 'steelblue'\\n            nodes_src.data['line_color'][i] = 'steelblue'\\n        } else {\\n            nodes_src.data['fill_color'][i] = '#EA8585'\\n            nodes_src.data['line_color'][i] = '#EA8585'\\n        }\\n    }\\n    \\n    nodes_src.change.emit()\\n    tree_edge_src.change.emit()\\n    \"},\"id\":\"1838\",\"type\":\"CustomJS\"},{\"attributes\":{\"data\":{\"line_color\":[\"lightgray\",\"lightgray\",\"lightgray\",\"lightgray\",\"lightgray\",\"lightgray\",\"lightgray\",\"lightgray\",\"lightgray\",\"lightgray\",\"lightgray\",\"lightgray\",\"lightgray\",\"lightgray\",\"lightgray\",\"lightgray\",\"lightgray\",\"lightgray\",\"lightgray\",\"lightgray\",\"lightgray\",\"lightgray\",\"lightgray\",\"lightgray\",\"lightgray\",\"lightgray\",\"lightgray\",\"lightgray\"],\"u\":[0,0,1,1,2,2,2,3,3,3,4,5,5,6,6,7,7,8,9,9,10,10,11,11,11,12,12,13],\"u_pos\":[[6,71],[6,71],[20,59],[20,59],[72,31],[72,31],[72,31],[111,-8],[111,-8],[111,-8],[194,-8],[178,38],[178,38],[199,86],[199,86],[205,96],[205,96],[207,106],[198,103],[198,103],[165,97],[165,97],[157,84],[157,84],[157,84],[162,112],[162,112],[144,112]],\"v\":[1,14,2,14,3,11,14,4,5,11,5,6,11,7,15,8,9,9,10,15,11,15,12,13,14,13,14,14],\"v_pos\":[[20,59],[127,97],[72,31],[127,97],[111,-8],[157,84],[127,97],[194,-8],[178,38],[157,84],[178,38],[199,86],[157,84],[205,96],[189,93],[207,106],[198,103],[198,103],[165,97],[189,93],[157,84],[189,93],[162,112],[144,112],[127,97],[144,112],[127,97],[127,97]],\"weight\":[4,24,12,19,10,25,20,14,18,18,12,14,14,3,3,1,2,2,6,4,4,6,8,8,8,4,10,6],\"xs\":[[6,20],[6,127],[20,72],[20,127],[72,111],[72,157],[72,127],[111,194],[111,178],[111,157],[194,178],[178,199],[178,157],[199,205],[199,189],[205,207],[205,198],[207,198],[198,165],[198,189],[165,157],[165,189],[157,162],[157,144],[157,127],[162,144],[162,127],[144,127]],\"ys\":[[71,59],[71,97],[59,31],[59,97],[31,-8],[31,84],[31,97],[-8,-8],[-8,38],[-8,84],[-8,38],[38,86],[38,84],[86,96],[86,93],[96,106],[96,103],[106,103],[103,97],[103,93],[97,84],[97,93],[84,112],[84,112],[84,97],[112,112],[112,97],[112,97]]},\"selected\":{\"id\":\"1846\"},\"selection_policy\":{\"id\":\"1847\"}},\"id\":\"1812\",\"type\":\"ColumnDataSource\"},{\"attributes\":{\"children\":[{\"id\":\"1837\"},{\"id\":\"1835\"}],\"max_width\":900,\"sizing_mode\":\"stretch_both\"},\"id\":\"1839\",\"type\":\"Row\"},{\"attributes\":{\"source\":{\"id\":\"1812\"}},\"id\":\"1822\",\"type\":\"CDSView\"},{\"attributes\":{\"children\":[{\"id\":\"1815\"},{\"id\":\"1816\"}]},\"id\":\"1840\",\"type\":\"Row\"},{\"attributes\":{\"line_width\":{\"value\":6},\"xs\":{\"field\":\"xs\"},\"ys\":{\"field\":\"ys\"}},\"id\":\"1820\",\"type\":\"MultiLine\"},{\"attributes\":{\"axis\":{\"id\":\"1790\"},\"dimension\":1,\"grid_line_color\":null,\"ticker\":null},\"id\":\"1793\",\"type\":\"Grid\"},{\"attributes\":{},\"id\":\"1797\",\"type\":\"SaveTool\"},{\"attributes\":{},\"id\":\"1853\",\"type\":\"Selection\"},{\"attributes\":{},\"id\":\"1798\",\"type\":\"ResetTool\"},{\"attributes\":{},\"id\":\"1843\",\"type\":\"BasicTickFormatter\"},{\"attributes\":{},\"id\":\"1791\",\"type\":\"BasicTicker\"},{\"attributes\":{\"end\":224.085,\"start\":-11.085},\"id\":\"1778\",\"type\":\"Range1d\"}],\"root_ids\":[\"1862\"]},\"title\":\"Bokeh Application\",\"version\":\"2.2.3\"}};\n",
       "  var render_items = [{\"docid\":\"a61dd1b9-de42-4244-95e8-33b9f508037f\",\"root_ids\":[\"1862\"],\"roots\":{\"1862\":\"59a0b322-9b1e-48ef-872b-53e37dfa877a\"}}];\n",
       "  root.Bokeh.embed.embed_items_notebook(docs_json, render_items);\n",
       "\n",
       "  }\n",
       "  if (root.Bokeh !== undefined) {\n",
       "    embed_document(root);\n",
       "  } else {\n",
       "    var attempts = 0;\n",
       "    var timer = setInterval(function(root) {\n",
       "      if (root.Bokeh !== undefined) {\n",
       "        clearInterval(timer);\n",
       "        embed_document(root);\n",
       "      } else {\n",
       "        attempts++;\n",
       "        if (attempts > 100) {\n",
       "          clearInterval(timer);\n",
       "          console.log(\"Bokeh: ERROR: Unable to run BokehJS code because BokehJS library is missing\");\n",
       "        }\n",
       "      }\n",
       "    }, 10, root)\n",
       "  }\n",
       "})(window);"
      ],
      "application/vnd.bokehjs_exec.v0+json": ""
     },
     "metadata": {
      "application/vnd.bokehjs_exec.v0+json": {
       "id": "1862"
      }
     },
     "output_type": "display_data"
    }
   ],
   "source": [
    "plot_mst_algorithm(nodes, edges, 'reverse_kruskals')"
   ]
  }
 ],
 "metadata": {
  "kernelspec": {
   "display_name": "Python 3",
   "language": "python",
   "name": "python3"
  },
  "language_info": {
   "codemirror_mode": {
    "name": "ipython",
    "version": 3
   },
   "file_extension": ".py",
   "mimetype": "text/x-python",
   "name": "python",
   "nbconvert_exporter": "python",
   "pygments_lexer": "ipython3",
   "version": "3.6.10"
  }
 },
 "nbformat": 4,
 "nbformat_minor": 4
}
