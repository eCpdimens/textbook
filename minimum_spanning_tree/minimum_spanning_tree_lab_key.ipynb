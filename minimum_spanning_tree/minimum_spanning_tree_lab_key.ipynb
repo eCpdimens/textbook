{
 "cells": [
  {
   "cell_type": "code",
   "execution_count": 1,
   "metadata": {},
   "outputs": [
    {
     "data": {
      "text/html": [
       "\n",
       "    <div class=\"bk-root\">\n",
       "        <a href=\"https://bokeh.org\" target=\"_blank\" class=\"bk-logo bk-logo-small bk-logo-notebook\"></a>\n",
       "        <span id=\"1001\">Loading BokehJS ...</span>\n",
       "    </div>"
      ]
     },
     "metadata": {},
     "output_type": "display_data"
    },
    {
     "data": {
      "application/javascript": [
       "\n",
       "(function(root) {\n",
       "  function now() {\n",
       "    return new Date();\n",
       "  }\n",
       "\n",
       "  var force = true;\n",
       "\n",
       "  if (typeof root._bokeh_onload_callbacks === \"undefined\" || force === true) {\n",
       "    root._bokeh_onload_callbacks = [];\n",
       "    root._bokeh_is_loading = undefined;\n",
       "  }\n",
       "\n",
       "  var JS_MIME_TYPE = 'application/javascript';\n",
       "  var HTML_MIME_TYPE = 'text/html';\n",
       "  var EXEC_MIME_TYPE = 'application/vnd.bokehjs_exec.v0+json';\n",
       "  var CLASS_NAME = 'output_bokeh rendered_html';\n",
       "\n",
       "  /**\n",
       "   * Render data to the DOM node\n",
       "   */\n",
       "  function render(props, node) {\n",
       "    var script = document.createElement(\"script\");\n",
       "    node.appendChild(script);\n",
       "  }\n",
       "\n",
       "  /**\n",
       "   * Handle when an output is cleared or removed\n",
       "   */\n",
       "  function handleClearOutput(event, handle) {\n",
       "    var cell = handle.cell;\n",
       "\n",
       "    var id = cell.output_area._bokeh_element_id;\n",
       "    var server_id = cell.output_area._bokeh_server_id;\n",
       "    // Clean up Bokeh references\n",
       "    if (id != null && id in Bokeh.index) {\n",
       "      Bokeh.index[id].model.document.clear();\n",
       "      delete Bokeh.index[id];\n",
       "    }\n",
       "\n",
       "    if (server_id !== undefined) {\n",
       "      // Clean up Bokeh references\n",
       "      var cmd = \"from bokeh.io.state import curstate; print(curstate().uuid_to_server['\" + server_id + \"'].get_sessions()[0].document.roots[0]._id)\";\n",
       "      cell.notebook.kernel.execute(cmd, {\n",
       "        iopub: {\n",
       "          output: function(msg) {\n",
       "            var id = msg.content.text.trim();\n",
       "            if (id in Bokeh.index) {\n",
       "              Bokeh.index[id].model.document.clear();\n",
       "              delete Bokeh.index[id];\n",
       "            }\n",
       "          }\n",
       "        }\n",
       "      });\n",
       "      // Destroy server and session\n",
       "      var cmd = \"import bokeh.io.notebook as ion; ion.destroy_server('\" + server_id + \"')\";\n",
       "      cell.notebook.kernel.execute(cmd);\n",
       "    }\n",
       "  }\n",
       "\n",
       "  /**\n",
       "   * Handle when a new output is added\n",
       "   */\n",
       "  function handleAddOutput(event, handle) {\n",
       "    var output_area = handle.output_area;\n",
       "    var output = handle.output;\n",
       "\n",
       "    // limit handleAddOutput to display_data with EXEC_MIME_TYPE content only\n",
       "    if ((output.output_type != \"display_data\") || (!output.data.hasOwnProperty(EXEC_MIME_TYPE))) {\n",
       "      return\n",
       "    }\n",
       "\n",
       "    var toinsert = output_area.element.find(\".\" + CLASS_NAME.split(' ')[0]);\n",
       "\n",
       "    if (output.metadata[EXEC_MIME_TYPE][\"id\"] !== undefined) {\n",
       "      toinsert[toinsert.length - 1].firstChild.textContent = output.data[JS_MIME_TYPE];\n",
       "      // store reference to embed id on output_area\n",
       "      output_area._bokeh_element_id = output.metadata[EXEC_MIME_TYPE][\"id\"];\n",
       "    }\n",
       "    if (output.metadata[EXEC_MIME_TYPE][\"server_id\"] !== undefined) {\n",
       "      var bk_div = document.createElement(\"div\");\n",
       "      bk_div.innerHTML = output.data[HTML_MIME_TYPE];\n",
       "      var script_attrs = bk_div.children[0].attributes;\n",
       "      for (var i = 0; i < script_attrs.length; i++) {\n",
       "        toinsert[toinsert.length - 1].firstChild.setAttribute(script_attrs[i].name, script_attrs[i].value);\n",
       "        toinsert[toinsert.length - 1].firstChild.textContent = bk_div.children[0].textContent\n",
       "      }\n",
       "      // store reference to server id on output_area\n",
       "      output_area._bokeh_server_id = output.metadata[EXEC_MIME_TYPE][\"server_id\"];\n",
       "    }\n",
       "  }\n",
       "\n",
       "  function register_renderer(events, OutputArea) {\n",
       "\n",
       "    function append_mime(data, metadata, element) {\n",
       "      // create a DOM node to render to\n",
       "      var toinsert = this.create_output_subarea(\n",
       "        metadata,\n",
       "        CLASS_NAME,\n",
       "        EXEC_MIME_TYPE\n",
       "      );\n",
       "      this.keyboard_manager.register_events(toinsert);\n",
       "      // Render to node\n",
       "      var props = {data: data, metadata: metadata[EXEC_MIME_TYPE]};\n",
       "      render(props, toinsert[toinsert.length - 1]);\n",
       "      element.append(toinsert);\n",
       "      return toinsert\n",
       "    }\n",
       "\n",
       "    /* Handle when an output is cleared or removed */\n",
       "    events.on('clear_output.CodeCell', handleClearOutput);\n",
       "    events.on('delete.Cell', handleClearOutput);\n",
       "\n",
       "    /* Handle when a new output is added */\n",
       "    events.on('output_added.OutputArea', handleAddOutput);\n",
       "\n",
       "    /**\n",
       "     * Register the mime type and append_mime function with output_area\n",
       "     */\n",
       "    OutputArea.prototype.register_mime_type(EXEC_MIME_TYPE, append_mime, {\n",
       "      /* Is output safe? */\n",
       "      safe: true,\n",
       "      /* Index of renderer in `output_area.display_order` */\n",
       "      index: 0\n",
       "    });\n",
       "  }\n",
       "\n",
       "  // register the mime type if in Jupyter Notebook environment and previously unregistered\n",
       "  if (root.Jupyter !== undefined) {\n",
       "    var events = require('base/js/events');\n",
       "    var OutputArea = require('notebook/js/outputarea').OutputArea;\n",
       "\n",
       "    if (OutputArea.prototype.mime_types().indexOf(EXEC_MIME_TYPE) == -1) {\n",
       "      register_renderer(events, OutputArea);\n",
       "    }\n",
       "  }\n",
       "\n",
       "  \n",
       "  if (typeof (root._bokeh_timeout) === \"undefined\" || force === true) {\n",
       "    root._bokeh_timeout = Date.now() + 5000;\n",
       "    root._bokeh_failed_load = false;\n",
       "  }\n",
       "\n",
       "  var NB_LOAD_WARNING = {'data': {'text/html':\n",
       "     \"<div style='background-color: #fdd'>\\n\"+\n",
       "     \"<p>\\n\"+\n",
       "     \"BokehJS does not appear to have successfully loaded. If loading BokehJS from CDN, this \\n\"+\n",
       "     \"may be due to a slow or bad network connection. Possible fixes:\\n\"+\n",
       "     \"</p>\\n\"+\n",
       "     \"<ul>\\n\"+\n",
       "     \"<li>re-rerun `output_notebook()` to attempt to load from CDN again, or</li>\\n\"+\n",
       "     \"<li>use INLINE resources instead, as so:</li>\\n\"+\n",
       "     \"</ul>\\n\"+\n",
       "     \"<code>\\n\"+\n",
       "     \"from bokeh.resources import INLINE\\n\"+\n",
       "     \"output_notebook(resources=INLINE)\\n\"+\n",
       "     \"</code>\\n\"+\n",
       "     \"</div>\"}};\n",
       "\n",
       "  function display_loaded() {\n",
       "    var el = document.getElementById(\"1001\");\n",
       "    if (el != null) {\n",
       "      el.textContent = \"BokehJS is loading...\";\n",
       "    }\n",
       "    if (root.Bokeh !== undefined) {\n",
       "      if (el != null) {\n",
       "        el.textContent = \"BokehJS \" + root.Bokeh.version + \" successfully loaded.\";\n",
       "      }\n",
       "    } else if (Date.now() < root._bokeh_timeout) {\n",
       "      setTimeout(display_loaded, 100)\n",
       "    }\n",
       "  }\n",
       "\n",
       "\n",
       "  function run_callbacks() {\n",
       "    try {\n",
       "      root._bokeh_onload_callbacks.forEach(function(callback) {\n",
       "        if (callback != null)\n",
       "          callback();\n",
       "      });\n",
       "    } finally {\n",
       "      delete root._bokeh_onload_callbacks\n",
       "    }\n",
       "    console.debug(\"Bokeh: all callbacks have finished\");\n",
       "  }\n",
       "\n",
       "  function load_libs(css_urls, js_urls, callback) {\n",
       "    if (css_urls == null) css_urls = [];\n",
       "    if (js_urls == null) js_urls = [];\n",
       "\n",
       "    root._bokeh_onload_callbacks.push(callback);\n",
       "    if (root._bokeh_is_loading > 0) {\n",
       "      console.debug(\"Bokeh: BokehJS is being loaded, scheduling callback at\", now());\n",
       "      return null;\n",
       "    }\n",
       "    if (js_urls == null || js_urls.length === 0) {\n",
       "      run_callbacks();\n",
       "      return null;\n",
       "    }\n",
       "    console.debug(\"Bokeh: BokehJS not loaded, scheduling load and callback at\", now());\n",
       "    root._bokeh_is_loading = css_urls.length + js_urls.length;\n",
       "\n",
       "    function on_load() {\n",
       "      root._bokeh_is_loading--;\n",
       "      if (root._bokeh_is_loading === 0) {\n",
       "        console.debug(\"Bokeh: all BokehJS libraries/stylesheets loaded\");\n",
       "        run_callbacks()\n",
       "      }\n",
       "    }\n",
       "\n",
       "    function on_error() {\n",
       "      console.error(\"failed to load \" + url);\n",
       "    }\n",
       "\n",
       "    for (var i = 0; i < css_urls.length; i++) {\n",
       "      var url = css_urls[i];\n",
       "      const element = document.createElement(\"link\");\n",
       "      element.onload = on_load;\n",
       "      element.onerror = on_error;\n",
       "      element.rel = \"stylesheet\";\n",
       "      element.type = \"text/css\";\n",
       "      element.href = url;\n",
       "      console.debug(\"Bokeh: injecting link tag for BokehJS stylesheet: \", url);\n",
       "      document.body.appendChild(element);\n",
       "    }\n",
       "\n",
       "    const hashes = {\"https://cdn.bokeh.org/bokeh/release/bokeh-2.2.3.min.js\": \"T2yuo9Oe71Cz/I4X9Ac5+gpEa5a8PpJCDlqKYO0CfAuEszu1JrXLl8YugMqYe3sM\", \"https://cdn.bokeh.org/bokeh/release/bokeh-widgets-2.2.3.min.js\": \"98GDGJ0kOMCUMUePhksaQ/GYgB3+NH9h996V88sh3aOiUNX3N+fLXAtry6xctSZ6\", \"https://cdn.bokeh.org/bokeh/release/bokeh-tables-2.2.3.min.js\": \"89bArO+nlbP3sgakeHjCo1JYxYR5wufVgA3IbUvDY+K7w4zyxJqssu7wVnfeKCq8\"};\n",
       "\n",
       "    for (var i = 0; i < js_urls.length; i++) {\n",
       "      var url = js_urls[i];\n",
       "      var element = document.createElement('script');\n",
       "      element.onload = on_load;\n",
       "      element.onerror = on_error;\n",
       "      element.async = false;\n",
       "      element.src = url;\n",
       "      if (url in hashes) {\n",
       "        element.crossOrigin = \"anonymous\";\n",
       "        element.integrity = \"sha384-\" + hashes[url];\n",
       "      }\n",
       "      console.debug(\"Bokeh: injecting script tag for BokehJS library: \", url);\n",
       "      document.head.appendChild(element);\n",
       "    }\n",
       "  };\n",
       "\n",
       "  function inject_raw_css(css) {\n",
       "    const element = document.createElement(\"style\");\n",
       "    element.appendChild(document.createTextNode(css));\n",
       "    document.body.appendChild(element);\n",
       "  }\n",
       "\n",
       "  \n",
       "  var js_urls = [\"https://cdn.bokeh.org/bokeh/release/bokeh-2.2.3.min.js\", \"https://cdn.bokeh.org/bokeh/release/bokeh-widgets-2.2.3.min.js\", \"https://cdn.bokeh.org/bokeh/release/bokeh-tables-2.2.3.min.js\"];\n",
       "  var css_urls = [];\n",
       "  \n",
       "\n",
       "  var inline_js = [\n",
       "    function(Bokeh) {\n",
       "      Bokeh.set_log_level(\"info\");\n",
       "    },\n",
       "    function(Bokeh) {\n",
       "    \n",
       "    \n",
       "    }\n",
       "  ];\n",
       "\n",
       "  function run_inline_js() {\n",
       "    \n",
       "    if (root.Bokeh !== undefined || force === true) {\n",
       "      \n",
       "    for (var i = 0; i < inline_js.length; i++) {\n",
       "      inline_js[i].call(root, root.Bokeh);\n",
       "    }\n",
       "    if (force === true) {\n",
       "        display_loaded();\n",
       "      }} else if (Date.now() < root._bokeh_timeout) {\n",
       "      setTimeout(run_inline_js, 100);\n",
       "    } else if (!root._bokeh_failed_load) {\n",
       "      console.log(\"Bokeh: BokehJS failed to load within specified timeout.\");\n",
       "      root._bokeh_failed_load = true;\n",
       "    } else if (force !== true) {\n",
       "      var cell = $(document.getElementById(\"1001\")).parents('.cell').data().cell;\n",
       "      cell.output_area.append_execute_result(NB_LOAD_WARNING)\n",
       "    }\n",
       "\n",
       "  }\n",
       "\n",
       "  if (root._bokeh_is_loading === 0) {\n",
       "    console.debug(\"Bokeh: BokehJS loaded, going straight to plotting\");\n",
       "    run_inline_js();\n",
       "  } else {\n",
       "    load_libs(css_urls, js_urls, function() {\n",
       "      console.debug(\"Bokeh: BokehJS plotting callback run at\", now());\n",
       "      run_inline_js();\n",
       "    });\n",
       "  }\n",
       "}(window));"
      ],
      "application/vnd.bokehjs_load.v0+json": "\n(function(root) {\n  function now() {\n    return new Date();\n  }\n\n  var force = true;\n\n  if (typeof root._bokeh_onload_callbacks === \"undefined\" || force === true) {\n    root._bokeh_onload_callbacks = [];\n    root._bokeh_is_loading = undefined;\n  }\n\n  \n\n  \n  if (typeof (root._bokeh_timeout) === \"undefined\" || force === true) {\n    root._bokeh_timeout = Date.now() + 5000;\n    root._bokeh_failed_load = false;\n  }\n\n  var NB_LOAD_WARNING = {'data': {'text/html':\n     \"<div style='background-color: #fdd'>\\n\"+\n     \"<p>\\n\"+\n     \"BokehJS does not appear to have successfully loaded. If loading BokehJS from CDN, this \\n\"+\n     \"may be due to a slow or bad network connection. Possible fixes:\\n\"+\n     \"</p>\\n\"+\n     \"<ul>\\n\"+\n     \"<li>re-rerun `output_notebook()` to attempt to load from CDN again, or</li>\\n\"+\n     \"<li>use INLINE resources instead, as so:</li>\\n\"+\n     \"</ul>\\n\"+\n     \"<code>\\n\"+\n     \"from bokeh.resources import INLINE\\n\"+\n     \"output_notebook(resources=INLINE)\\n\"+\n     \"</code>\\n\"+\n     \"</div>\"}};\n\n  function display_loaded() {\n    var el = document.getElementById(\"1001\");\n    if (el != null) {\n      el.textContent = \"BokehJS is loading...\";\n    }\n    if (root.Bokeh !== undefined) {\n      if (el != null) {\n        el.textContent = \"BokehJS \" + root.Bokeh.version + \" successfully loaded.\";\n      }\n    } else if (Date.now() < root._bokeh_timeout) {\n      setTimeout(display_loaded, 100)\n    }\n  }\n\n\n  function run_callbacks() {\n    try {\n      root._bokeh_onload_callbacks.forEach(function(callback) {\n        if (callback != null)\n          callback();\n      });\n    } finally {\n      delete root._bokeh_onload_callbacks\n    }\n    console.debug(\"Bokeh: all callbacks have finished\");\n  }\n\n  function load_libs(css_urls, js_urls, callback) {\n    if (css_urls == null) css_urls = [];\n    if (js_urls == null) js_urls = [];\n\n    root._bokeh_onload_callbacks.push(callback);\n    if (root._bokeh_is_loading > 0) {\n      console.debug(\"Bokeh: BokehJS is being loaded, scheduling callback at\", now());\n      return null;\n    }\n    if (js_urls == null || js_urls.length === 0) {\n      run_callbacks();\n      return null;\n    }\n    console.debug(\"Bokeh: BokehJS not loaded, scheduling load and callback at\", now());\n    root._bokeh_is_loading = css_urls.length + js_urls.length;\n\n    function on_load() {\n      root._bokeh_is_loading--;\n      if (root._bokeh_is_loading === 0) {\n        console.debug(\"Bokeh: all BokehJS libraries/stylesheets loaded\");\n        run_callbacks()\n      }\n    }\n\n    function on_error() {\n      console.error(\"failed to load \" + url);\n    }\n\n    for (var i = 0; i < css_urls.length; i++) {\n      var url = css_urls[i];\n      const element = document.createElement(\"link\");\n      element.onload = on_load;\n      element.onerror = on_error;\n      element.rel = \"stylesheet\";\n      element.type = \"text/css\";\n      element.href = url;\n      console.debug(\"Bokeh: injecting link tag for BokehJS stylesheet: \", url);\n      document.body.appendChild(element);\n    }\n\n    const hashes = {\"https://cdn.bokeh.org/bokeh/release/bokeh-2.2.3.min.js\": \"T2yuo9Oe71Cz/I4X9Ac5+gpEa5a8PpJCDlqKYO0CfAuEszu1JrXLl8YugMqYe3sM\", \"https://cdn.bokeh.org/bokeh/release/bokeh-widgets-2.2.3.min.js\": \"98GDGJ0kOMCUMUePhksaQ/GYgB3+NH9h996V88sh3aOiUNX3N+fLXAtry6xctSZ6\", \"https://cdn.bokeh.org/bokeh/release/bokeh-tables-2.2.3.min.js\": \"89bArO+nlbP3sgakeHjCo1JYxYR5wufVgA3IbUvDY+K7w4zyxJqssu7wVnfeKCq8\"};\n\n    for (var i = 0; i < js_urls.length; i++) {\n      var url = js_urls[i];\n      var element = document.createElement('script');\n      element.onload = on_load;\n      element.onerror = on_error;\n      element.async = false;\n      element.src = url;\n      if (url in hashes) {\n        element.crossOrigin = \"anonymous\";\n        element.integrity = \"sha384-\" + hashes[url];\n      }\n      console.debug(\"Bokeh: injecting script tag for BokehJS library: \", url);\n      document.head.appendChild(element);\n    }\n  };\n\n  function inject_raw_css(css) {\n    const element = document.createElement(\"style\");\n    element.appendChild(document.createTextNode(css));\n    document.body.appendChild(element);\n  }\n\n  \n  var js_urls = [\"https://cdn.bokeh.org/bokeh/release/bokeh-2.2.3.min.js\", \"https://cdn.bokeh.org/bokeh/release/bokeh-widgets-2.2.3.min.js\", \"https://cdn.bokeh.org/bokeh/release/bokeh-tables-2.2.3.min.js\"];\n  var css_urls = [];\n  \n\n  var inline_js = [\n    function(Bokeh) {\n      Bokeh.set_log_level(\"info\");\n    },\n    function(Bokeh) {\n    \n    \n    }\n  ];\n\n  function run_inline_js() {\n    \n    if (root.Bokeh !== undefined || force === true) {\n      \n    for (var i = 0; i < inline_js.length; i++) {\n      inline_js[i].call(root, root.Bokeh);\n    }\n    if (force === true) {\n        display_loaded();\n      }} else if (Date.now() < root._bokeh_timeout) {\n      setTimeout(run_inline_js, 100);\n    } else if (!root._bokeh_failed_load) {\n      console.log(\"Bokeh: BokehJS failed to load within specified timeout.\");\n      root._bokeh_failed_load = true;\n    } else if (force !== true) {\n      var cell = $(document.getElementById(\"1001\")).parents('.cell').data().cell;\n      cell.output_area.append_execute_result(NB_LOAD_WARNING)\n    }\n\n  }\n\n  if (root._bokeh_is_loading === 0) {\n    console.debug(\"Bokeh: BokehJS loaded, going straight to plotting\");\n    run_inline_js();\n  } else {\n    load_libs(css_urls, js_urls, function() {\n      console.debug(\"Bokeh: BokehJS plotting callback run at\", now());\n      run_inline_js();\n    });\n  }\n}(window));"
     },
     "metadata": {},
     "output_type": "display_data"
    }
   ],
   "source": [
    "import vinal as vl\n",
    "import pandas as pd\n",
    "from bokeh.io import output_notebook\n",
    "output_notebook()"
   ]
  },
  {
   "cell_type": "code",
   "execution_count": 2,
   "metadata": {},
   "outputs": [],
   "source": [
    "nodes = pd.read_csv('data/fiber_optic_nodes.csv', index_col=0)\n",
    "edges = pd.read_csv('data/fiber_optic_edges.csv', index_col=0)\n",
    "G = vl.create_network(nodes, edges)"
   ]
  },
  {
   "cell_type": "code",
   "execution_count": 3,
   "metadata": {},
   "outputs": [
    {
     "name": "stdout",
     "output_type": "stream",
     "text": [
      "103\n"
     ]
    },
    {
     "data": {
      "text/html": [
       "\n",
       "\n",
       "\n",
       "\n",
       "\n",
       "\n",
       "  <div class=\"bk-root\" id=\"0582e66c-7334-4b6e-a28a-b5a15cb800ad\" data-root-id=\"1069\"></div>\n"
      ]
     },
     "metadata": {},
     "output_type": "display_data"
    },
    {
     "data": {
      "application/javascript": [
       "(function(root) {\n",
       "  function embed_document(root) {\n",
       "    \n",
       "  var docs_json = {\"b15fc550-c107-41d2-9a40-ac96fb6440ea\":{\"roots\":{\"references\":[{\"attributes\":{\"children\":[[{\"id\":\"1002\"},0,0]]},\"id\":\"1069\",\"type\":\"GridBox\"},{\"attributes\":{\"data_source\":{\"id\":\"1039\"},\"glyph\":{\"id\":\"1042\"},\"hover_glyph\":{\"id\":\"1044\"},\"level\":\"image\",\"muted_glyph\":null,\"nonselection_glyph\":{\"id\":\"1043\"},\"selection_glyph\":null,\"view\":{\"id\":\"1046\"}},\"id\":\"1045\",\"type\":\"GlyphRenderer\"},{\"attributes\":{},\"id\":\"1009\",\"type\":\"LinearScale\"},{\"attributes\":{},\"id\":\"1011\",\"type\":\"LinearScale\"},{\"attributes\":{\"source\":{\"id\":\"1039\"}},\"id\":\"1046\",\"type\":\"CDSView\"},{\"attributes\":{\"end\":224.085,\"start\":-11.085},\"id\":\"1005\",\"type\":\"Range1d\"},{\"attributes\":{\"formatter\":{\"id\":\"1059\"},\"ticker\":{\"id\":\"1014\"},\"visible\":false},\"id\":\"1013\",\"type\":\"LinearAxis\"},{\"attributes\":{\"line_alpha\":{\"field\":\"visible\"},\"line_cap\":\"round\",\"line_color\":{\"value\":\"#404040\"},\"line_width\":{\"value\":5},\"xs\":{\"field\":\"xs\"},\"ys\":{\"field\":\"ys\"}},\"id\":\"1044\",\"type\":\"MultiLine\"},{\"attributes\":{},\"id\":\"1067\",\"type\":\"UnionRenderers\"},{\"attributes\":{},\"id\":\"1014\",\"type\":\"BasicTicker\"},{\"attributes\":{\"axis\":{\"id\":\"1013\"},\"grid_line_color\":null,\"ticker\":null},\"id\":\"1016\",\"type\":\"Grid\"},{\"attributes\":{\"data\":{\"text\":[4,24,12,19,20,8,10,6,10,25,14,18,18,14,4,8,8,12,14,3,3,1,2,4,6,2,6,4],\"x\":[13.0,66.5,46.0,73.5,99.5,142.0,144.5,135.5,91.5,114.5,152.5,144.5,134.0,167.5,161.0,159.5,150.5,186.0,188.5,202.0,194.0,206.0,201.5,193.5,177.0,202.5,181.5,153.0],\"y\":[65.0,84.0,45.0,78.0,64.0,90.5,104.5,104.5,11.5,57.5,-8.0,15.0,38.0,61.0,90.5,98.0,98.0,15.0,62.0,91.0,89.5,101.0,99.5,98.0,95.0,104.5,100.0,112.0]},\"selected\":{\"id\":\"1062\"},\"selection_policy\":{\"id\":\"1063\"}},\"id\":\"1040\",\"type\":\"ColumnDataSource\"},{\"attributes\":{\"formatter\":{\"id\":\"1057\"},\"ticker\":{\"id\":\"1018\"},\"visible\":false},\"id\":\"1017\",\"type\":\"LinearAxis\"},{\"attributes\":{\"data_source\":{\"id\":\"1038\"},\"glyph\":{\"id\":\"1048\"},\"hover_glyph\":null,\"muted_glyph\":null,\"nonselection_glyph\":{\"id\":\"1049\"},\"selection_glyph\":null,\"view\":{\"id\":\"1051\"}},\"id\":\"1050\",\"type\":\"GlyphRenderer\"},{\"attributes\":{},\"id\":\"1018\",\"type\":\"BasicTicker\"},{\"attributes\":{\"source\":{\"id\":\"1038\"}},\"id\":\"1051\",\"type\":\"CDSView\"},{\"attributes\":{\"axis\":{\"id\":\"1017\"},\"dimension\":1,\"grid_line_color\":null,\"ticker\":null},\"id\":\"1020\",\"type\":\"Grid\"},{\"attributes\":{},\"id\":\"1066\",\"type\":\"Selection\"},{\"attributes\":{\"fill_color\":{\"field\":\"fill_color\"},\"line_color\":{\"field\":\"line_color\"},\"line_width\":{\"field\":\"line_width\"},\"size\":{\"units\":\"screen\",\"value\":11},\"x\":{\"field\":\"x\"},\"y\":{\"field\":\"y\"}},\"id\":\"1048\",\"type\":\"Circle\"},{\"attributes\":{\"bottom_units\":\"screen\",\"fill_alpha\":0.5,\"fill_color\":\"lightgrey\",\"left_units\":\"screen\",\"level\":\"overlay\",\"line_alpha\":1.0,\"line_color\":\"black\",\"line_dash\":[4,4],\"line_width\":2,\"right_units\":\"screen\",\"top_units\":\"screen\"},\"id\":\"1027\",\"type\":\"BoxAnnotation\"},{\"attributes\":{\"callback\":null,\"renderers\":[{\"id\":\"1050\"}],\"tooltips\":[[\"Node\",\"$index\"]]},\"id\":\"1054\",\"type\":\"HoverTool\"},{\"attributes\":{\"line_alpha\":{\"field\":\"visible\"},\"line_cap\":\"round\",\"line_color\":{\"field\":\"line_color\"},\"line_width\":{\"value\":5},\"xs\":{\"field\":\"xs\"},\"ys\":{\"field\":\"ys\"}},\"id\":\"1042\",\"type\":\"MultiLine\"},{\"attributes\":{},\"id\":\"1062\",\"type\":\"Selection\"},{\"attributes\":{},\"id\":\"1064\",\"type\":\"Selection\"},{\"attributes\":{\"source\":{\"id\":\"1040\"},\"x\":{\"field\":\"x\"},\"y\":{\"field\":\"y\"}},\"id\":\"1052\",\"type\":\"LabelSet\"},{\"attributes\":{\"fill_color\":{\"field\":\"fill_color\"},\"line_color\":{\"field\":\"line_color\"},\"line_width\":{\"field\":\"line_width\"},\"size\":{\"units\":\"screen\",\"value\":11},\"x\":{\"field\":\"x\"},\"y\":{\"field\":\"y\"}},\"id\":\"1049\",\"type\":\"Circle\"},{\"attributes\":{\"background_fill_color\":null,\"below\":[{\"id\":\"1013\"}],\"border_fill_color\":null,\"center\":[{\"id\":\"1016\"},{\"id\":\"1020\"},{\"id\":\"1052\"}],\"left\":[{\"id\":\"1017\"}],\"outline_line_color\":null,\"plot_height\":400,\"plot_width\":400,\"renderers\":[{\"id\":\"1045\"},{\"id\":\"1050\"}],\"title\":{\"id\":\"1003\"},\"toolbar\":{\"id\":\"1028\"},\"toolbar_location\":null,\"x_range\":{\"id\":\"1005\"},\"x_scale\":{\"id\":\"1009\"},\"y_range\":{\"id\":\"1007\"},\"y_scale\":{\"id\":\"1011\"}},\"id\":\"1002\",\"subtype\":\"Figure\",\"type\":\"Plot\"},{\"attributes\":{},\"id\":\"1022\",\"type\":\"WheelZoomTool\"},{\"attributes\":{\"overlay\":{\"id\":\"1027\"}},\"id\":\"1023\",\"type\":\"BoxZoomTool\"},{\"attributes\":{},\"id\":\"1057\",\"type\":\"BasicTickFormatter\"},{\"attributes\":{},\"id\":\"1024\",\"type\":\"SaveTool\"},{\"attributes\":{},\"id\":\"1059\",\"type\":\"BasicTickFormatter\"},{\"attributes\":{\"text\":\"\"},\"id\":\"1003\",\"type\":\"Title\"},{\"attributes\":{},\"id\":\"1025\",\"type\":\"ResetTool\"},{\"attributes\":{},\"id\":\"1065\",\"type\":\"UnionRenderers\"},{\"attributes\":{\"line_cap\":\"round\",\"line_color\":{\"field\":\"line_color\"},\"line_width\":{\"value\":5},\"xs\":{\"field\":\"xs\"},\"ys\":{\"field\":\"ys\"}},\"id\":\"1043\",\"type\":\"MultiLine\"},{\"attributes\":{},\"id\":\"1026\",\"type\":\"HelpTool\"},{\"attributes\":{\"data\":{\"line_color\":[\"#404040\",\"#DFDFDF\",\"#404040\",\"#DFDFDF\",\"#DFDFDF\",\"#DFDFDF\",\"#DFDFDF\",\"#404040\",\"#404040\",\"#DFDFDF\",\"#404040\",\"#DFDFDF\",\"#DFDFDF\",\"#404040\",\"#404040\",\"#404040\",\"#DFDFDF\",\"#404040\",\"#DFDFDF\",\"#404040\",\"#404040\",\"#404040\",\"#404040\",\"#DFDFDF\",\"#DFDFDF\",\"#DFDFDF\",\"#404040\",\"#404040\"],\"u\":[0,0,1,1,14,14,14,14,2,2,3,3,3,11,11,11,11,4,5,6,6,7,7,15,15,8,9,12],\"v\":[1,14,2,14,2,11,12,13,3,11,4,5,11,5,10,12,13,5,6,7,15,8,9,9,10,9,10,13],\"visible\":[true,true,true,true,true,true,true,true,true,true,true,true,true,true,true,true,true,true,true,true,true,true,true,true,true,true,true,true],\"weight\":[4,24,12,19,20,8,10,6,10,25,14,18,18,14,4,8,8,12,14,3,3,1,2,4,6,2,6,4],\"xs\":[[6,20],[6,127],[20,72],[20,127],[127,72],[127,157],[127,162],[127,144],[72,111],[72,157],[111,194],[111,178],[111,157],[157,178],[157,165],[157,162],[157,144],[194,178],[178,199],[199,205],[199,189],[205,207],[205,198],[189,198],[189,165],[207,198],[198,165],[162,144]],\"ys\":[[71,59],[71,97],[59,31],[59,97],[97,31],[97,84],[97,112],[97,112],[31,-8],[31,84],[-8,-8],[-8,38],[-8,84],[84,38],[84,97],[84,112],[84,112],[-8,38],[38,86],[86,96],[86,93],[96,106],[96,103],[93,103],[93,97],[106,103],[103,97],[112,112]]},\"selected\":{\"id\":\"1064\"},\"selection_policy\":{\"id\":\"1065\"}},\"id\":\"1039\",\"type\":\"ColumnDataSource\"},{\"attributes\":{},\"id\":\"1021\",\"type\":\"PanTool\"},{\"attributes\":{\"data\":{\"fill_color\":[\"#5e92f3\",\"#5e92f3\",\"#5e92f3\",\"#5e92f3\",\"#5e92f3\",\"#5e92f3\",\"#5e92f3\",\"#5e92f3\",\"#5e92f3\",\"#5e92f3\",\"#5e92f3\",\"#5e92f3\",\"#5e92f3\",\"#5e92f3\",\"#5e92f3\",\"#5e92f3\"],\"line_color\":[\"#003c8f\",\"#003c8f\",\"#003c8f\",\"#003c8f\",\"#003c8f\",\"#003c8f\",\"#003c8f\",\"#003c8f\",\"#003c8f\",\"#003c8f\",\"#003c8f\",\"#003c8f\",\"#003c8f\",\"#003c8f\",\"#003c8f\",\"#003c8f\"],\"line_width\":[3,3,3,3,3,3,3,3,3,3,3,3,3,3,3,3],\"x\":[6,20,72,111,194,178,199,205,207,198,165,157,162,144,127,189],\"y\":[71,59,31,-8,-8,38,86,96,106,103,97,84,112,112,97,93]},\"selected\":{\"id\":\"1066\"},\"selection_policy\":{\"id\":\"1067\"}},\"id\":\"1038\",\"type\":\"ColumnDataSource\"},{\"attributes\":{\"active_drag\":null,\"active_inspect\":\"auto\",\"active_multi\":null,\"active_scroll\":null,\"active_tap\":\"auto\",\"logo\":null,\"tools\":[{\"id\":\"1021\"},{\"id\":\"1022\"},{\"id\":\"1023\"},{\"id\":\"1024\"},{\"id\":\"1025\"},{\"id\":\"1026\"},{\"id\":\"1054\"}]},\"id\":\"1028\",\"type\":\"Toolbar\"},{\"attributes\":{\"end\":122.2,\"start\":-18.200000000000003},\"id\":\"1007\",\"type\":\"Range1d\"},{\"attributes\":{},\"id\":\"1063\",\"type\":\"UnionRenderers\"}],\"root_ids\":[\"1069\"]},\"title\":\"Bokeh Application\",\"version\":\"2.2.3\"}};\n",
       "  var render_items = [{\"docid\":\"b15fc550-c107-41d2-9a40-ac96fb6440ea\",\"root_ids\":[\"1069\"],\"roots\":{\"1069\":\"0582e66c-7334-4b6e-a28a-b5a15cb800ad\"}}];\n",
       "  root.Bokeh.embed.embed_items_notebook(docs_json, render_items);\n",
       "\n",
       "  }\n",
       "  if (root.Bokeh !== undefined) {\n",
       "    embed_document(root);\n",
       "  } else {\n",
       "    var attempts = 0;\n",
       "    var timer = setInterval(function(root) {\n",
       "      if (root.Bokeh !== undefined) {\n",
       "        clearInterval(timer);\n",
       "        embed_document(root);\n",
       "      } else {\n",
       "        attempts++;\n",
       "        if (attempts > 100) {\n",
       "          clearInterval(timer);\n",
       "          console.log(\"Bokeh: ERROR: Unable to run BokehJS code because BokehJS library is missing\");\n",
       "        }\n",
       "      }\n",
       "    }, 10, root)\n",
       "  }\n",
       "})(window);"
      ],
      "application/vnd.bokehjs_exec.v0+json": ""
     },
     "metadata": {
      "application/vnd.bokehjs_exec.v0+json": {
       "id": "1069"
      }
     },
     "output_type": "display_data"
    }
   ],
   "source": [
    "mst = vl.prims(G,12)\n",
    "print(vl.spanning_tree_cost(G,mst))\n",
    "vl.plot_graph(G, edges=mst)"
   ]
  },
  {
   "cell_type": "code",
   "execution_count": 4,
   "metadata": {},
   "outputs": [
    {
     "data": {
      "text/html": [
       "\n",
       "\n",
       "\n",
       "\n",
       "\n",
       "\n",
       "  <div class=\"bk-root\" id=\"6ca55528-ed12-46f0-8991-4b965721fe6d\" data-root-id=\"1233\"></div>\n"
      ]
     },
     "metadata": {},
     "output_type": "display_data"
    },
    {
     "data": {
      "application/javascript": [
       "(function(root) {\n",
       "  function embed_document(root) {\n",
       "    \n",
       "  var docs_json = {\"c6e952d2-c485-4ebb-8c62-c41838f0d00b\":{\"roots\":{\"references\":[{\"attributes\":{\"children\":[[{\"id\":\"1142\"},0,0],[{\"id\":\"1213\"},1,0]]},\"id\":\"1233\",\"type\":\"GridBox\"},{\"attributes\":{\"axis\":{\"id\":\"1157\"},\"dimension\":1,\"grid_line_color\":null,\"ticker\":null},\"id\":\"1160\",\"type\":\"Grid\"},{\"attributes\":{\"fill_color\":{\"field\":\"fill_color\"},\"line_color\":{\"field\":\"line_color\"},\"line_width\":{\"field\":\"line_width\"},\"size\":{\"units\":\"screen\",\"value\":11},\"x\":{\"field\":\"x\"},\"y\":{\"field\":\"y\"}},\"id\":\"1200\",\"type\":\"Circle\"},{\"attributes\":{},\"id\":\"1225\",\"type\":\"UnionRenderers\"},{\"attributes\":{\"axis\":{\"id\":\"1153\"},\"grid_line_color\":null,\"ticker\":null},\"id\":\"1156\",\"type\":\"Grid\"},{\"attributes\":{\"data_source\":{\"id\":\"1178\"},\"glyph\":{\"id\":\"1199\"},\"hover_glyph\":null,\"muted_glyph\":null,\"nonselection_glyph\":{\"id\":\"1200\"},\"selection_glyph\":null,\"view\":{\"id\":\"1202\"}},\"id\":\"1201\",\"type\":\"GlyphRenderer\"},{\"attributes\":{\"data\":{\"fill_color\":[\"#5e92f3\",\"#5e92f3\",\"#5e92f3\",\"#5e92f3\",\"#5e92f3\",\"#5e92f3\",\"#5e92f3\",\"#5e92f3\",\"#5e92f3\",\"#5e92f3\",\"#5e92f3\",\"#5e92f3\",\"#5e92f3\",\"#5e92f3\",\"#5e92f3\",\"#5e92f3\"],\"line_color\":[\"#003c8f\",\"#003c8f\",\"#003c8f\",\"#003c8f\",\"#003c8f\",\"#003c8f\",\"#003c8f\",\"#003c8f\",\"#003c8f\",\"#003c8f\",\"#003c8f\",\"#003c8f\",\"#003c8f\",\"#003c8f\",\"#003c8f\",\"#003c8f\"],\"line_width\":[3,3,3,3,3,3,3,3,3,3,3,3,3,3,3,3],\"x\":[6,20,72,111,194,178,199,205,207,198,165,157,162,144,127,189],\"y\":[71,59,31,-8,-8,38,86,96,106,103,97,84,112,112,97,93]},\"selected\":{\"id\":\"1226\"},\"selection_policy\":{\"id\":\"1227\"}},\"id\":\"1178\",\"type\":\"ColumnDataSource\"},{\"attributes\":{},\"id\":\"1229\",\"type\":\"UnionRenderers\"},{\"attributes\":{\"data_source\":{\"id\":\"1182\"},\"glyph\":{\"id\":\"1188\"},\"hover_glyph\":null,\"level\":\"image\",\"muted_glyph\":null,\"nonselection_glyph\":{\"id\":\"1189\"},\"selection_glyph\":null,\"view\":{\"id\":\"1191\"}},\"id\":\"1190\",\"type\":\"GlyphRenderer\"},{\"attributes\":{\"line_alpha\":0.1,\"line_cap\":\"round\",\"line_color\":\"#404040\",\"line_width\":5,\"x\":{\"field\":\"edges_x\"},\"y\":{\"field\":\"edges_y\"}},\"id\":\"1189\",\"type\":\"Line\"},{\"attributes\":{\"source\":{\"id\":\"1178\"}},\"id\":\"1202\",\"type\":\"CDSView\"},{\"attributes\":{},\"id\":\"1227\",\"type\":\"UnionRenderers\"},{\"attributes\":{},\"id\":\"1231\",\"type\":\"UnionRenderers\"},{\"attributes\":{},\"id\":\"1228\",\"type\":\"Selection\"},{\"attributes\":{\"source\":{\"id\":\"1180\"},\"x\":{\"field\":\"x\"},\"y\":{\"field\":\"y\"}},\"id\":\"1203\",\"type\":\"LabelSet\"},{\"attributes\":{},\"id\":\"1161\",\"type\":\"PanTool\"},{\"attributes\":{},\"id\":\"1158\",\"type\":\"BasicTicker\"},{\"attributes\":{\"bottom_units\":\"screen\",\"fill_alpha\":0.5,\"fill_color\":\"lightgrey\",\"left_units\":\"screen\",\"level\":\"overlay\",\"line_alpha\":1.0,\"line_color\":\"black\",\"line_dash\":[4,4],\"line_width\":2,\"right_units\":\"screen\",\"top_units\":\"screen\"},\"id\":\"1167\",\"type\":\"BoxAnnotation\"},{\"attributes\":{\"formatter\":{\"id\":\"1215\"},\"ticker\":{\"id\":\"1158\"},\"visible\":false},\"id\":\"1157\",\"type\":\"LinearAxis\"},{\"attributes\":{\"callback\":null,\"renderers\":[{\"id\":\"1201\"}],\"tooltips\":[[\"Node\",\"$index\"]]},\"id\":\"1205\",\"type\":\"HoverTool\"},{\"attributes\":{\"line_cap\":\"round\",\"line_color\":\"#404040\",\"line_width\":5,\"x\":{\"field\":\"edges_x\"},\"y\":{\"field\":\"edges_y\"}},\"id\":\"1188\",\"type\":\"Line\"},{\"attributes\":{\"fill_color\":{\"field\":\"fill_color\"},\"line_color\":{\"field\":\"line_color\"},\"line_width\":{\"field\":\"line_width\"},\"size\":{\"units\":\"screen\",\"value\":11},\"x\":{\"field\":\"x\"},\"y\":{\"field\":\"y\"}},\"id\":\"1199\",\"type\":\"Circle\"},{\"attributes\":{},\"id\":\"1230\",\"type\":\"Selection\"},{\"attributes\":{\"align\":\"center\",\"text\":\"[]\",\"width\":133},\"id\":\"1186\",\"type\":\"Div\"},{\"attributes\":{},\"id\":\"1154\",\"type\":\"BasicTicker\"},{\"attributes\":{\"background_fill_color\":null,\"below\":[{\"id\":\"1153\"}],\"border_fill_color\":null,\"center\":[{\"id\":\"1156\"},{\"id\":\"1160\"},{\"id\":\"1203\"}],\"left\":[{\"id\":\"1157\"}],\"outline_line_color\":null,\"plot_height\":400,\"plot_width\":400,\"renderers\":[{\"id\":\"1190\"},{\"id\":\"1196\"},{\"id\":\"1201\"}],\"title\":{\"id\":\"1143\"},\"toolbar\":{\"id\":\"1168\"},\"toolbar_location\":null,\"x_range\":{\"id\":\"1145\"},\"x_scale\":{\"id\":\"1149\"},\"y_range\":{\"id\":\"1147\"},\"y_scale\":{\"id\":\"1151\"}},\"id\":\"1142\",\"subtype\":\"Figure\",\"type\":\"Plot\"},{\"attributes\":{},\"id\":\"1166\",\"type\":\"HelpTool\"},{\"attributes\":{\"args\":{\"source\":{\"id\":\"1181\"}},\"code\":\"\\nsource.data['last_index'] = cb_data.index.indices[0]\\n\"},\"id\":\"1206\",\"type\":\"CustomJS\"},{\"attributes\":{},\"id\":\"1215\",\"type\":\"BasicTickFormatter\"},{\"attributes\":{\"callback\":{\"id\":\"1206\"},\"renderers\":[{\"id\":\"1196\"}],\"tooltips\":null},\"id\":\"1207\",\"type\":\"HoverTool\"},{\"attributes\":{\"overlay\":{\"id\":\"1167\"}},\"id\":\"1163\",\"type\":\"BoxZoomTool\"},{\"attributes\":{\"align\":\"center\",\"width\":133},\"id\":\"1185\",\"type\":\"Div\"},{\"attributes\":{\"data\":{\"edges_x\":[],\"edges_y\":[]},\"selected\":{\"id\":\"1222\"},\"selection_policy\":{\"id\":\"1223\"}},\"id\":\"1182\",\"type\":\"ColumnDataSource\"},{\"attributes\":{\"args\":{\"clicked\":{\"id\":\"1186\"},\"cost\":{\"id\":\"1184\"},\"cost_matrix\":{\"id\":\"1183\"},\"edges_src\":{\"id\":\"1179\"},\"error_msg\":{\"id\":\"1185\"},\"nodes_src\":{\"id\":\"1178\"},\"source\":{\"id\":\"1181\"},\"tour_src\":{\"id\":\"1182\"}},\"code\":\"\\n    if (error_msg.text == 'done.') {\\n        return;\\n    }\\n    \\n    var i = source.data['last_index']\\n    var u = edges_src.data['u'][i]\\n    var v = edges_src.data['v'][i]\\n    var w = edges_src.data['weight'][i]\\n\\n    var tree_nodes = source.data['tree_nodes']\\n    var tree_edges = source.data['tree_edges']\\n\\n    if (!tree_nodes.includes(u) || !tree_nodes.includes(v)) {\\n        if (!tree_nodes.includes(v)) {\\n            nodes_src.data['fill_color'][v] = '#003c8f'\\n            nodes_src.data['line_color'][v] = '#003c8f'\\n        }\\n        if (!tree_nodes.includes(u)) {\\n            nodes_src.data['fill_color'][u] = '#003c8f'\\n            nodes_src.data['line_color'][u] = '#003c8f'\\n        }\\n        edges_src.data['line_color'][i] = '#404040'\\n        tree_edges.push([u,v])\\n        var prev_cost = parseFloat(cost.text)\\n        cost.text = (prev_cost + w).toFixed(1)\\n        error_msg.text = ''\\n    } else {\\n        error_msg.text = 'You have selected an invalid edge.'\\n    }\\n\\n    if (tree_nodes.length == nodes_src.data['x'].length) {\\n        error_msg.text = 'done.'\\n    }\\n\\n    clicked.text = '['\\n    for (let i = 0; i < tree_edges.length; i++) {\\n        var edge_str = tree_edges[i].join(',')\\n        clicked.text = clicked.text.concat('(').concat(edge_str).concat(')')\\n        if (!(i == tree_edges.length - 1)) {\\n            clicked.text = clicked.text.concat(',')\\n        }\\n    }\\n    clicked.text = clicked.text.concat(']')\\n\\n    source.change.emit()\\n    nodes_src.change.emit()\\n    edges_src.change.emit()\\n    \"},\"id\":\"1208\",\"type\":\"CustomJS\"},{\"attributes\":{\"align\":\"center\",\"text\":\"0.0\",\"width\":133},\"id\":\"1184\",\"type\":\"Div\"},{\"attributes\":{\"data\":{\"text\":[4,24,12,19,20,8,10,6,10,25,14,18,18,14,4,8,8,12,14,3,3,1,2,4,6,2,6,4],\"x\":[13.0,66.5,46.0,73.5,99.5,142.0,144.5,135.5,91.5,114.5,152.5,144.5,134.0,167.5,161.0,159.5,150.5,186.0,188.5,202.0,194.0,206.0,201.5,193.5,177.0,202.5,181.5,153.0],\"y\":[65.0,84.0,45.0,78.0,64.0,90.5,104.5,104.5,11.5,57.5,-8.0,15.0,38.0,61.0,90.5,98.0,98.0,15.0,62.0,91.0,89.5,101.0,99.5,98.0,95.0,104.5,100.0,112.0]},\"selected\":{\"id\":\"1220\"},\"selection_policy\":{\"id\":\"1221\"}},\"id\":\"1180\",\"type\":\"ColumnDataSource\"},{\"attributes\":{\"callback\":{\"id\":\"1208\"},\"renderers\":[{\"id\":\"1196\"}]},\"id\":\"1209\",\"type\":\"TapTool\"},{\"attributes\":{\"data\":{\"line_color\":[\"#DFDFDF\",\"#DFDFDF\",\"#DFDFDF\",\"#DFDFDF\",\"#DFDFDF\",\"#DFDFDF\",\"#DFDFDF\",\"#DFDFDF\",\"#DFDFDF\",\"#DFDFDF\",\"#DFDFDF\",\"#DFDFDF\",\"#DFDFDF\",\"#DFDFDF\",\"#DFDFDF\",\"#DFDFDF\",\"#DFDFDF\",\"#DFDFDF\",\"#DFDFDF\",\"#DFDFDF\",\"#DFDFDF\",\"#DFDFDF\",\"#DFDFDF\",\"#DFDFDF\",\"#DFDFDF\",\"#DFDFDF\",\"#DFDFDF\",\"#DFDFDF\"],\"u\":[0,0,1,1,14,14,14,14,2,2,3,3,3,11,11,11,11,4,5,6,6,7,7,15,15,8,9,12],\"v\":[1,14,2,14,2,11,12,13,3,11,4,5,11,5,10,12,13,5,6,7,15,8,9,9,10,9,10,13],\"visible\":[true,true,true,true,true,true,true,true,true,true,true,true,true,true,true,true,true,true,true,true,true,true,true,true,true,true,true,true],\"weight\":[4,24,12,19,20,8,10,6,10,25,14,18,18,14,4,8,8,12,14,3,3,1,2,4,6,2,6,4],\"xs\":[[6,20],[6,127],[20,72],[20,127],[127,72],[127,157],[127,162],[127,144],[72,111],[72,157],[111,194],[111,178],[111,157],[157,178],[157,165],[157,162],[157,144],[194,178],[178,199],[199,205],[199,189],[205,207],[205,198],[189,198],[189,165],[207,198],[198,165],[162,144]],\"ys\":[[71,59],[71,97],[59,31],[59,97],[97,31],[97,84],[97,112],[97,112],[31,-8],[31,84],[-8,-8],[-8,38],[-8,84],[84,38],[84,97],[84,112],[84,112],[-8,38],[38,86],[86,96],[86,93],[96,106],[96,103],[93,103],[93,97],[106,103],[103,97],[112,112]]},\"selected\":{\"id\":\"1224\"},\"selection_policy\":{\"id\":\"1225\"}},\"id\":\"1179\",\"type\":\"ColumnDataSource\"},{\"attributes\":{\"source\":{\"id\":\"1182\"}},\"id\":\"1191\",\"type\":\"CDSView\"},{\"attributes\":{\"data_source\":{\"id\":\"1179\"},\"glyph\":{\"id\":\"1193\"},\"hover_glyph\":{\"id\":\"1195\"},\"level\":\"image\",\"muted_glyph\":null,\"nonselection_glyph\":{\"id\":\"1194\"},\"selection_glyph\":null,\"view\":{\"id\":\"1197\"}},\"id\":\"1196\",\"type\":\"GlyphRenderer\"},{\"attributes\":{\"children\":[{\"id\":\"1184\"},{\"id\":\"1185\"},{\"id\":\"1186\"}]},\"id\":\"1213\",\"type\":\"Row\"},{\"attributes\":{},\"id\":\"1162\",\"type\":\"WheelZoomTool\"},{\"attributes\":{\"text\":\"\"},\"id\":\"1143\",\"type\":\"Title\"},{\"attributes\":{\"active_drag\":null,\"active_inspect\":\"auto\",\"active_multi\":null,\"active_scroll\":null,\"active_tap\":\"auto\",\"logo\":null,\"tools\":[{\"id\":\"1161\"},{\"id\":\"1162\"},{\"id\":\"1163\"},{\"id\":\"1164\"},{\"id\":\"1165\"},{\"id\":\"1166\"},{\"id\":\"1205\"},{\"id\":\"1207\"},{\"id\":\"1209\"}]},\"id\":\"1168\",\"type\":\"Toolbar\"},{\"attributes\":{},\"id\":\"1217\",\"type\":\"BasicTickFormatter\"},{\"attributes\":{\"end\":122.2,\"start\":-18.200000000000003},\"id\":\"1147\",\"type\":\"Range1d\"},{\"attributes\":{\"line_alpha\":{\"field\":\"visible\"},\"line_cap\":\"round\",\"line_color\":{\"value\":\"#404040\"},\"line_width\":{\"value\":5},\"xs\":{\"field\":\"xs\"},\"ys\":{\"field\":\"ys\"}},\"id\":\"1195\",\"type\":\"MultiLine\"},{\"attributes\":{\"source\":{\"id\":\"1179\"}},\"id\":\"1197\",\"type\":\"CDSView\"},{\"attributes\":{},\"id\":\"1220\",\"type\":\"Selection\"},{\"attributes\":{},\"id\":\"1151\",\"type\":\"LinearScale\"},{\"attributes\":{},\"id\":\"1149\",\"type\":\"LinearScale\"},{\"attributes\":{},\"id\":\"1221\",\"type\":\"UnionRenderers\"},{\"attributes\":{\"line_alpha\":{\"field\":\"visible\"},\"line_cap\":\"round\",\"line_color\":{\"field\":\"line_color\"},\"line_width\":{\"value\":5},\"xs\":{\"field\":\"xs\"},\"ys\":{\"field\":\"ys\"}},\"id\":\"1193\",\"type\":\"MultiLine\"},{\"attributes\":{},\"id\":\"1165\",\"type\":\"ResetTool\"},{\"attributes\":{\"data\":{\"G\":[[0,4,24,0,0,0,0,0,0,0,0,0,0,0,0,0],[4,0,19,12,0,0,0,0,0,0,0,0,0,0,0,0],[24,19,0,20,0,8,0,0,0,0,0,0,0,0,10,6],[0,12,20,0,10,25,0,0,0,0,0,0,0,0,0,0],[0,0,0,10,0,18,14,18,0,0,0,0,0,0,0,0],[0,0,8,25,18,0,0,14,0,0,0,0,0,4,8,8],[0,0,0,0,14,0,0,12,0,0,0,0,0,0,0,0],[0,0,0,0,18,14,12,0,14,0,0,0,0,0,0,0],[0,0,0,0,0,0,0,14,0,3,3,0,0,0,0,0],[0,0,0,0,0,0,0,0,3,0,0,1,2,0,0,0],[0,0,0,0,0,0,0,0,3,0,0,0,4,6,0,0],[0,0,0,0,0,0,0,0,0,1,0,0,2,0,0,0],[0,0,0,0,0,0,0,0,0,2,4,2,0,6,0,0],[0,0,0,0,0,4,0,0,0,0,6,0,6,0,0,0],[0,0,10,0,0,8,0,0,0,0,0,0,0,0,0,4],[0,0,6,0,0,8,0,0,0,0,0,0,0,0,4,0]]},\"selected\":{\"id\":\"1230\"},\"selection_policy\":{\"id\":\"1231\"}},\"id\":\"1183\",\"type\":\"ColumnDataSource\"},{\"attributes\":{},\"id\":\"1222\",\"type\":\"Selection\"},{\"attributes\":{\"formatter\":{\"id\":\"1217\"},\"ticker\":{\"id\":\"1154\"},\"visible\":false},\"id\":\"1153\",\"type\":\"LinearAxis\"},{\"attributes\":{},\"id\":\"1226\",\"type\":\"Selection\"},{\"attributes\":{\"data\":{\"clicked\":[],\"tree_edges\":[],\"tree_nodes\":[]},\"selected\":{\"id\":\"1228\"},\"selection_policy\":{\"id\":\"1229\"}},\"id\":\"1181\",\"type\":\"ColumnDataSource\"},{\"attributes\":{},\"id\":\"1223\",\"type\":\"UnionRenderers\"},{\"attributes\":{\"line_cap\":\"round\",\"line_color\":{\"field\":\"line_color\"},\"line_width\":{\"value\":5},\"xs\":{\"field\":\"xs\"},\"ys\":{\"field\":\"ys\"}},\"id\":\"1194\",\"type\":\"MultiLine\"},{\"attributes\":{},\"id\":\"1164\",\"type\":\"SaveTool\"},{\"attributes\":{\"end\":224.085,\"start\":-11.085},\"id\":\"1145\",\"type\":\"Range1d\"},{\"attributes\":{},\"id\":\"1224\",\"type\":\"Selection\"}],\"root_ids\":[\"1233\"]},\"title\":\"Bokeh Application\",\"version\":\"2.2.3\"}};\n",
       "  var render_items = [{\"docid\":\"c6e952d2-c485-4ebb-8c62-c41838f0d00b\",\"root_ids\":[\"1233\"],\"roots\":{\"1233\":\"6ca55528-ed12-46f0-8991-4b965721fe6d\"}}];\n",
       "  root.Bokeh.embed.embed_items_notebook(docs_json, render_items);\n",
       "\n",
       "  }\n",
       "  if (root.Bokeh !== undefined) {\n",
       "    embed_document(root);\n",
       "  } else {\n",
       "    var attempts = 0;\n",
       "    var timer = setInterval(function(root) {\n",
       "      if (root.Bokeh !== undefined) {\n",
       "        clearInterval(timer);\n",
       "        embed_document(root);\n",
       "      } else {\n",
       "        attempts++;\n",
       "        if (attempts > 100) {\n",
       "          clearInterval(timer);\n",
       "          console.log(\"Bokeh: ERROR: Unable to run BokehJS code because BokehJS library is missing\");\n",
       "        }\n",
       "      }\n",
       "    }, 10, root)\n",
       "  }\n",
       "})(window);"
      ],
      "application/vnd.bokehjs_exec.v0+json": ""
     },
     "metadata": {
      "application/vnd.bokehjs_exec.v0+json": {
       "id": "1233"
      }
     },
     "output_type": "display_data"
    }
   ],
   "source": [
    "vl.plot_create(G, create='tree');"
   ]
  },
  {
   "cell_type": "code",
   "execution_count": 5,
   "metadata": {
    "scrolled": false
   },
   "outputs": [
    {
     "data": {
      "text/html": [
       "\n",
       "\n",
       "\n",
       "\n",
       "\n",
       "\n",
       "  <div class=\"bk-root\" id=\"1f179777-879e-4d7a-b3b9-f1e9803b233a\" data-root-id=\"1446\"></div>\n"
      ]
     },
     "metadata": {},
     "output_type": "display_data"
    },
    {
     "data": {
      "application/javascript": [
       "(function(root) {\n",
       "  function embed_document(root) {\n",
       "    \n",
       "  var docs_json = {\"d5587e71-9beb-4fdf-8ced-2c4e6f770257\":{\"roots\":{\"references\":[{\"attributes\":{\"children\":[[{\"id\":\"1354\"},0,0],[{\"id\":\"1423\"},1,0],[{\"id\":\"1424\"},2,0]]},\"id\":\"1446\",\"type\":\"GridBox\"},{\"attributes\":{},\"id\":\"1442\",\"type\":\"Selection\"},{\"attributes\":{\"axis\":{\"id\":\"1369\"},\"dimension\":1,\"grid_line_color\":null,\"ticker\":null},\"id\":\"1372\",\"type\":\"Grid\"},{\"attributes\":{\"button_type\":\"primary\",\"icon\":null,\"js_event_callbacks\":{\"button_click\":[{\"id\":\"1418\"}]},\"label\":\"Next\",\"sizing_mode\":\"scale_width\",\"width_policy\":\"fit\"},\"id\":\"1417\",\"type\":\"Button\"},{\"attributes\":{\"data\":{\"fill_color\":[\"#5e92f3\",\"#5e92f3\",\"#5e92f3\",\"#5e92f3\",\"#5e92f3\",\"#5e92f3\",\"#5e92f3\",\"#5e92f3\",\"#5e92f3\",\"#5e92f3\",\"#5e92f3\",\"#5e92f3\",\"#5e92f3\",\"#5e92f3\",\"#5e92f3\",\"#5e92f3\"],\"line_color\":[\"#003c8f\",\"#003c8f\",\"#003c8f\",\"#003c8f\",\"#003c8f\",\"#003c8f\",\"#003c8f\",\"#003c8f\",\"#003c8f\",\"#003c8f\",\"#003c8f\",\"#003c8f\",\"#003c8f\",\"#003c8f\",\"#003c8f\",\"#003c8f\"],\"line_width\":[3,3,3,3,3,3,3,3,3,3,3,3,3,3,3,3],\"x\":[6,20,72,111,194,178,199,205,207,198,165,157,162,144,127,189],\"y\":[71,59,31,-8,-8,38,86,96,106,103,97,84,112,112,97,93]},\"selected\":{\"id\":\"1435\"},\"selection_policy\":{\"id\":\"1436\"}},\"id\":\"1390\",\"type\":\"ColumnDataSource\"},{\"attributes\":{\"args\":{\"cost\":{\"id\":\"1416\"},\"done\":{\"id\":\"1396\"},\"edge_subset_src\":{\"id\":\"1410\"},\"k\":{\"id\":\"1395\"},\"n\":{\"id\":\"1394\"},\"nodes_src\":{\"id\":\"1390\"},\"source\":{\"id\":\"1393\"}},\"code\":\"\\nif ((parseInt(n.text) + 1) < parseInt(k.text)) {\\n    n.text = (parseInt(n.text) + 1).toString()\\n}\\nvar iteration = parseInt(n.text)\\n\\nif (iteration == parseInt(k.text) - 1) {\\n    done.text = \\\"done.\\\"\\n} else {\\n    done.text = \\\"\\\"\\n}\\n\\ncost.text = source.data['costs'][iteration].toFixed(1)\\n\\nedge_subset_src.data['xs'] = source.data['edge_xs'][iteration]\\nedge_subset_src.data['ys'] = source.data['edge_ys'][iteration]\\nedge_subset_src.change.emit()\\n\\nvar in_tree = source.data['nodes'][iteration]\\n\\nfor (let i = 0; i < nodes_src.data['line_color'].length ; i++) {\\n    if (in_tree.includes(i)) {\\n        nodes_src.data['fill_color'][i] = '#003c8f'\\n        nodes_src.data['line_color'][i] = '#003c8f'\\n    } else {\\n        nodes_src.data['fill_color'][i] = '#5e92f3'\\n        nodes_src.data['line_color'][i] = '#003c8f'\\n    }\\n}\\n\\nnodes_src.change.emit()\\n\"},\"id\":\"1418\",\"type\":\"CustomJS\"},{\"attributes\":{\"line_cap\":\"round\",\"line_color\":{\"field\":\"line_color\"},\"line_width\":{\"value\":5},\"xs\":{\"field\":\"xs\"},\"ys\":{\"field\":\"ys\"}},\"id\":\"1399\",\"type\":\"MultiLine\"},{\"attributes\":{\"button_type\":\"primary\",\"icon\":null,\"js_event_callbacks\":{\"button_click\":[{\"id\":\"1420\"}]},\"label\":\"Previous\",\"sizing_mode\":\"scale_width\",\"width_policy\":\"fit\"},\"id\":\"1419\",\"type\":\"Button\"},{\"attributes\":{},\"id\":\"1374\",\"type\":\"WheelZoomTool\"},{\"attributes\":{\"args\":{\"cost\":{\"id\":\"1416\"},\"done\":{\"id\":\"1396\"},\"edge_subset_src\":{\"id\":\"1410\"},\"k\":{\"id\":\"1395\"},\"n\":{\"id\":\"1394\"},\"nodes_src\":{\"id\":\"1390\"},\"source\":{\"id\":\"1393\"}},\"code\":\"\\nif ((parseInt(n.text) - 1) >= 0) {\\n    n.text = (parseInt(n.text) - 1).toString()\\n}\\nvar iteration = parseInt(n.text)\\n\\nif (iteration == parseInt(k.text) - 1) {\\n    done.text = \\\"done.\\\"\\n} else {\\n    done.text = \\\"\\\"\\n}\\n\\ncost.text = source.data['costs'][iteration].toFixed(1)\\n\\nedge_subset_src.data['xs'] = source.data['edge_xs'][iteration]\\nedge_subset_src.data['ys'] = source.data['edge_ys'][iteration]\\nedge_subset_src.change.emit()\\n\\nvar in_tree = source.data['nodes'][iteration]\\n\\nfor (let i = 0; i < nodes_src.data['line_color'].length ; i++) {\\n    if (in_tree.includes(i)) {\\n        nodes_src.data['fill_color'][i] = '#003c8f'\\n        nodes_src.data['line_color'][i] = '#003c8f'\\n    } else {\\n        nodes_src.data['fill_color'][i] = '#5e92f3'\\n        nodes_src.data['line_color'][i] = '#003c8f'\\n    }\\n}\\n\\nnodes_src.change.emit()\\n\"},\"id\":\"1420\",\"type\":\"CustomJS\"},{\"attributes\":{},\"id\":\"1443\",\"type\":\"UnionRenderers\"},{\"attributes\":{\"data\":{\"text\":[4,24,12,19,20,8,10,6,10,25,14,18,18,14,4,8,8,12,14,3,3,1,2,4,6,2,6,4],\"x\":[13.0,66.5,46.0,73.5,99.5,142.0,144.5,135.5,91.5,114.5,152.5,144.5,134.0,167.5,161.0,159.5,150.5,186.0,188.5,202.0,194.0,206.0,201.5,193.5,177.0,202.5,181.5,153.0],\"y\":[65.0,84.0,45.0,78.0,64.0,90.5,104.5,104.5,11.5,57.5,-8.0,15.0,38.0,61.0,90.5,98.0,98.0,15.0,62.0,91.0,89.5,101.0,99.5,98.0,95.0,104.5,100.0,112.0]},\"selected\":{\"id\":\"1431\"},\"selection_policy\":{\"id\":\"1432\"}},\"id\":\"1392\",\"type\":\"ColumnDataSource\"},{\"attributes\":{\"callback\":null,\"renderers\":[{\"id\":\"1406\"}],\"tooltips\":[[\"Node\",\"$index\"]]},\"id\":\"1421\",\"type\":\"HoverTool\"},{\"attributes\":{\"align\":\"center\",\"text\":\"0\",\"width\":400},\"id\":\"1394\",\"type\":\"Div\"},{\"attributes\":{},\"id\":\"1377\",\"type\":\"ResetTool\"},{\"attributes\":{\"align\":\"center\",\"width\":200},\"id\":\"1396\",\"type\":\"Div\"},{\"attributes\":{\"children\":[{\"id\":\"1419\"},{\"id\":\"1417\"}],\"sizing_mode\":\"stretch_both\"},\"id\":\"1423\",\"type\":\"Row\"},{\"attributes\":{\"axis\":{\"id\":\"1365\"},\"grid_line_color\":null,\"ticker\":null},\"id\":\"1368\",\"type\":\"Grid\"},{\"attributes\":{\"line_alpha\":{\"field\":\"visible\"},\"line_cap\":\"round\",\"line_color\":{\"value\":\"#404040\"},\"line_width\":{\"value\":5},\"xs\":{\"field\":\"xs\"},\"ys\":{\"field\":\"ys\"}},\"id\":\"1400\",\"type\":\"MultiLine\"},{\"attributes\":{},\"id\":\"1376\",\"type\":\"SaveTool\"},{\"attributes\":{\"children\":[{\"id\":\"1416\"},{\"id\":\"1396\"}]},\"id\":\"1424\",\"type\":\"Row\"},{\"attributes\":{},\"id\":\"1370\",\"type\":\"BasicTicker\"},{\"attributes\":{\"background_fill_color\":null,\"below\":[{\"id\":\"1365\"}],\"border_fill_color\":null,\"center\":[{\"id\":\"1368\"},{\"id\":\"1372\"},{\"id\":\"1408\"}],\"left\":[{\"id\":\"1369\"}],\"outline_line_color\":null,\"plot_height\":400,\"plot_width\":400,\"renderers\":[{\"id\":\"1401\"},{\"id\":\"1406\"},{\"id\":\"1414\"}],\"title\":{\"id\":\"1355\"},\"toolbar\":{\"id\":\"1380\"},\"toolbar_location\":null,\"x_range\":{\"id\":\"1357\"},\"x_scale\":{\"id\":\"1361\"},\"y_range\":{\"id\":\"1359\"},\"y_scale\":{\"id\":\"1363\"}},\"id\":\"1354\",\"subtype\":\"Figure\",\"type\":\"Plot\"},{\"attributes\":{\"line_alpha\":{\"field\":\"visible\"},\"line_cap\":\"round\",\"line_color\":{\"field\":\"line_color\"},\"line_width\":{\"value\":5},\"xs\":{\"field\":\"xs\"},\"ys\":{\"field\":\"ys\"}},\"id\":\"1398\",\"type\":\"MultiLine\"},{\"attributes\":{\"overlay\":{\"id\":\"1379\"}},\"id\":\"1375\",\"type\":\"BoxZoomTool\"},{\"attributes\":{\"formatter\":{\"id\":\"1426\"},\"ticker\":{\"id\":\"1370\"},\"visible\":false},\"id\":\"1369\",\"type\":\"LinearAxis\"},{\"attributes\":{\"data_source\":{\"id\":\"1391\"},\"glyph\":{\"id\":\"1398\"},\"hover_glyph\":{\"id\":\"1400\"},\"level\":\"image\",\"muted_glyph\":null,\"nonselection_glyph\":{\"id\":\"1399\"},\"selection_glyph\":null,\"view\":{\"id\":\"1402\"}},\"id\":\"1401\",\"type\":\"GlyphRenderer\"},{\"attributes\":{\"source\":{\"id\":\"1391\"}},\"id\":\"1402\",\"type\":\"CDSView\"},{\"attributes\":{},\"id\":\"1378\",\"type\":\"HelpTool\"},{\"attributes\":{},\"id\":\"1426\",\"type\":\"BasicTickFormatter\"},{\"attributes\":{\"data\":{\"costs\":[0,4,16,26,40,52,66,69,70,72,75,81,85,93,97,103],\"edge_xs\":[[],[[6,20]],[[6,20],[20,72]],[[6,20],[20,72],[72,111]],[[6,20],[20,72],[72,111],[111,194]],[[6,20],[20,72],[72,111],[111,194],[194,178]],[[6,20],[20,72],[72,111],[111,194],[194,178],[178,199]],[[6,20],[20,72],[72,111],[111,194],[194,178],[178,199],[199,205]],[[6,20],[20,72],[72,111],[111,194],[194,178],[178,199],[199,205],[205,207]],[[6,20],[20,72],[72,111],[111,194],[194,178],[178,199],[199,205],[205,207],[205,198]],[[6,20],[20,72],[72,111],[111,194],[194,178],[178,199],[199,205],[205,207],[205,198],[199,189]],[[6,20],[20,72],[72,111],[111,194],[194,178],[178,199],[199,205],[205,207],[205,198],[199,189],[198,165]],[[6,20],[20,72],[72,111],[111,194],[194,178],[178,199],[199,205],[205,207],[205,198],[199,189],[198,165],[157,165]],[[6,20],[20,72],[72,111],[111,194],[194,178],[178,199],[199,205],[205,207],[205,198],[199,189],[198,165],[157,165],[157,162]],[[6,20],[20,72],[72,111],[111,194],[194,178],[178,199],[199,205],[205,207],[205,198],[199,189],[198,165],[157,165],[157,162],[162,144]],[[6,20],[20,72],[72,111],[111,194],[194,178],[178,199],[199,205],[205,207],[205,198],[199,189],[198,165],[157,165],[157,162],[162,144],[127,144]]],\"edge_ys\":[[],[[71,59]],[[71,59],[59,31]],[[71,59],[59,31],[31,-8]],[[71,59],[59,31],[31,-8],[-8,-8]],[[71,59],[59,31],[31,-8],[-8,-8],[-8,38]],[[71,59],[59,31],[31,-8],[-8,-8],[-8,38],[38,86]],[[71,59],[59,31],[31,-8],[-8,-8],[-8,38],[38,86],[86,96]],[[71,59],[59,31],[31,-8],[-8,-8],[-8,38],[38,86],[86,96],[96,106]],[[71,59],[59,31],[31,-8],[-8,-8],[-8,38],[38,86],[86,96],[96,106],[96,103]],[[71,59],[59,31],[31,-8],[-8,-8],[-8,38],[38,86],[86,96],[96,106],[96,103],[86,93]],[[71,59],[59,31],[31,-8],[-8,-8],[-8,38],[38,86],[86,96],[96,106],[96,103],[86,93],[103,97]],[[71,59],[59,31],[31,-8],[-8,-8],[-8,38],[38,86],[86,96],[96,106],[96,103],[86,93],[103,97],[84,97]],[[71,59],[59,31],[31,-8],[-8,-8],[-8,38],[38,86],[86,96],[96,106],[96,103],[86,93],[103,97],[84,97],[84,112]],[[71,59],[59,31],[31,-8],[-8,-8],[-8,38],[38,86],[86,96],[96,106],[96,103],[86,93],[103,97],[84,97],[84,112],[112,112]],[[71,59],[59,31],[31,-8],[-8,-8],[-8,38],[38,86],[86,96],[96,106],[96,103],[86,93],[103,97],[84,97],[84,112],[112,112],[97,112]]],\"nodes\":[[],[0,1],[0,1,2],[0,1,2,3],[0,1,2,3,4],[0,1,2,3,4,5],[0,1,2,3,4,5,6],[0,1,2,3,4,5,6,7],[0,1,2,3,4,5,6,7,8],[0,1,2,3,4,5,6,7,8,9],[0,1,2,3,4,5,6,7,8,9,15],[0,1,2,3,4,5,6,7,8,9,10,15],[0,1,2,3,4,5,6,7,8,9,10,11,15],[0,1,2,3,4,5,6,7,8,9,10,11,12,15],[0,1,2,3,4,5,6,7,8,9,10,11,12,13,15],[0,1,2,3,4,5,6,7,8,9,10,11,12,13,14,15]]},\"selected\":{\"id\":\"1442\"},\"selection_policy\":{\"id\":\"1443\"}},\"id\":\"1393\",\"type\":\"ColumnDataSource\"},{\"attributes\":{},\"id\":\"1428\",\"type\":\"BasicTickFormatter\"},{\"attributes\":{},\"id\":\"1373\",\"type\":\"PanTool\"},{\"attributes\":{},\"id\":\"1431\",\"type\":\"Selection\"},{\"attributes\":{},\"id\":\"1438\",\"type\":\"UnionRenderers\"},{\"attributes\":{\"align\":\"center\",\"text\":\"16\",\"width\":400},\"id\":\"1395\",\"type\":\"Div\"},{\"attributes\":{\"end\":224.085,\"start\":-11.085},\"id\":\"1357\",\"type\":\"Range1d\"},{\"attributes\":{\"data\":{\"xs\":[],\"ys\":[]},\"selected\":{\"id\":\"1437\"},\"selection_policy\":{\"id\":\"1438\"}},\"id\":\"1410\",\"type\":\"ColumnDataSource\"},{\"attributes\":{},\"id\":\"1432\",\"type\":\"UnionRenderers\"},{\"attributes\":{\"text\":\"\"},\"id\":\"1355\",\"type\":\"Title\"},{\"attributes\":{},\"id\":\"1437\",\"type\":\"Selection\"},{\"attributes\":{\"data\":{\"line_color\":[\"#DFDFDF\",\"#DFDFDF\",\"#DFDFDF\",\"#DFDFDF\",\"#DFDFDF\",\"#DFDFDF\",\"#DFDFDF\",\"#DFDFDF\",\"#DFDFDF\",\"#DFDFDF\",\"#DFDFDF\",\"#DFDFDF\",\"#DFDFDF\",\"#DFDFDF\",\"#DFDFDF\",\"#DFDFDF\",\"#DFDFDF\",\"#DFDFDF\",\"#DFDFDF\",\"#DFDFDF\",\"#DFDFDF\",\"#DFDFDF\",\"#DFDFDF\",\"#DFDFDF\",\"#DFDFDF\",\"#DFDFDF\",\"#DFDFDF\",\"#DFDFDF\"],\"u\":[0,0,1,1,14,14,14,14,2,2,3,3,3,11,11,11,11,4,5,6,6,7,7,15,15,8,9,12],\"v\":[1,14,2,14,2,11,12,13,3,11,4,5,11,5,10,12,13,5,6,7,15,8,9,9,10,9,10,13],\"visible\":[true,true,true,true,true,true,true,true,true,true,true,true,true,true,true,true,true,true,true,true,true,true,true,true,true,true,true,true],\"weight\":[4,24,12,19,20,8,10,6,10,25,14,18,18,14,4,8,8,12,14,3,3,1,2,4,6,2,6,4],\"xs\":[[6,20],[6,127],[20,72],[20,127],[127,72],[127,157],[127,162],[127,144],[72,111],[72,157],[111,194],[111,178],[111,157],[157,178],[157,165],[157,162],[157,144],[194,178],[178,199],[199,205],[199,189],[205,207],[205,198],[189,198],[189,165],[207,198],[198,165],[162,144]],\"ys\":[[71,59],[71,97],[59,31],[59,97],[97,31],[97,84],[97,112],[97,112],[31,-8],[31,84],[-8,-8],[-8,38],[-8,84],[84,38],[84,97],[84,112],[84,112],[-8,38],[38,86],[86,96],[86,93],[96,106],[96,103],[93,103],[93,97],[106,103],[103,97],[112,112]]},\"selected\":{\"id\":\"1433\"},\"selection_policy\":{\"id\":\"1434\"}},\"id\":\"1391\",\"type\":\"ColumnDataSource\"},{\"attributes\":{\"line_alpha\":{\"value\":0.1},\"line_cap\":\"round\",\"line_color\":{\"value\":\"#404040\"},\"line_width\":{\"value\":5},\"xs\":{\"field\":\"xs\"},\"ys\":{\"field\":\"ys\"}},\"id\":\"1413\",\"type\":\"MultiLine\"},{\"attributes\":{},\"id\":\"1433\",\"type\":\"Selection\"},{\"attributes\":{\"active_drag\":null,\"active_inspect\":\"auto\",\"active_multi\":null,\"active_scroll\":null,\"active_tap\":\"auto\",\"logo\":null,\"tools\":[{\"id\":\"1373\"},{\"id\":\"1374\"},{\"id\":\"1375\"},{\"id\":\"1376\"},{\"id\":\"1377\"},{\"id\":\"1378\"},{\"id\":\"1421\"}]},\"id\":\"1380\",\"type\":\"Toolbar\"},{\"attributes\":{\"end\":122.2,\"start\":-18.200000000000003},\"id\":\"1359\",\"type\":\"Range1d\"},{\"attributes\":{\"bottom_units\":\"screen\",\"fill_alpha\":0.5,\"fill_color\":\"lightgrey\",\"left_units\":\"screen\",\"level\":\"overlay\",\"line_alpha\":1.0,\"line_color\":\"black\",\"line_dash\":[4,4],\"line_width\":2,\"right_units\":\"screen\",\"top_units\":\"screen\"},\"id\":\"1379\",\"type\":\"BoxAnnotation\"},{\"attributes\":{},\"id\":\"1434\",\"type\":\"UnionRenderers\"},{\"attributes\":{},\"id\":\"1361\",\"type\":\"LinearScale\"},{\"attributes\":{\"fill_color\":{\"field\":\"fill_color\"},\"line_color\":{\"field\":\"line_color\"},\"line_width\":{\"field\":\"line_width\"},\"size\":{\"units\":\"screen\",\"value\":11},\"x\":{\"field\":\"x\"},\"y\":{\"field\":\"y\"}},\"id\":\"1404\",\"type\":\"Circle\"},{\"attributes\":{},\"id\":\"1435\",\"type\":\"Selection\"},{\"attributes\":{},\"id\":\"1363\",\"type\":\"LinearScale\"},{\"attributes\":{\"line_cap\":\"round\",\"line_color\":{\"value\":\"#404040\"},\"line_width\":{\"value\":5},\"xs\":{\"field\":\"xs\"},\"ys\":{\"field\":\"ys\"}},\"id\":\"1412\",\"type\":\"MultiLine\"},{\"attributes\":{\"source\":{\"id\":\"1392\"},\"x\":{\"field\":\"x\"},\"y\":{\"field\":\"y\"}},\"id\":\"1408\",\"type\":\"LabelSet\"},{\"attributes\":{},\"id\":\"1436\",\"type\":\"UnionRenderers\"},{\"attributes\":{\"source\":{\"id\":\"1410\"}},\"id\":\"1415\",\"type\":\"CDSView\"},{\"attributes\":{\"data_source\":{\"id\":\"1390\"},\"glyph\":{\"id\":\"1404\"},\"hover_glyph\":null,\"muted_glyph\":null,\"nonselection_glyph\":{\"id\":\"1405\"},\"selection_glyph\":null,\"view\":{\"id\":\"1407\"}},\"id\":\"1406\",\"type\":\"GlyphRenderer\"},{\"attributes\":{\"formatter\":{\"id\":\"1428\"},\"ticker\":{\"id\":\"1366\"},\"visible\":false},\"id\":\"1365\",\"type\":\"LinearAxis\"},{\"attributes\":{\"data_source\":{\"id\":\"1410\"},\"glyph\":{\"id\":\"1412\"},\"hover_glyph\":null,\"level\":\"underlay\",\"muted_glyph\":null,\"nonselection_glyph\":{\"id\":\"1413\"},\"selection_glyph\":null,\"view\":{\"id\":\"1415\"}},\"id\":\"1414\",\"type\":\"GlyphRenderer\"},{\"attributes\":{\"source\":{\"id\":\"1390\"}},\"id\":\"1407\",\"type\":\"CDSView\"},{\"attributes\":{\"align\":\"center\",\"text\":\"0\",\"width\":200},\"id\":\"1416\",\"type\":\"Div\"},{\"attributes\":{\"fill_color\":{\"field\":\"fill_color\"},\"line_color\":{\"field\":\"line_color\"},\"line_width\":{\"field\":\"line_width\"},\"size\":{\"units\":\"screen\",\"value\":11},\"x\":{\"field\":\"x\"},\"y\":{\"field\":\"y\"}},\"id\":\"1405\",\"type\":\"Circle\"},{\"attributes\":{},\"id\":\"1366\",\"type\":\"BasicTicker\"}],\"root_ids\":[\"1446\"]},\"title\":\"Bokeh Application\",\"version\":\"2.2.3\"}};\n",
       "  var render_items = [{\"docid\":\"d5587e71-9beb-4fdf-8ced-2c4e6f770257\",\"root_ids\":[\"1446\"],\"roots\":{\"1446\":\"1f179777-879e-4d7a-b3b9-f1e9803b233a\"}}];\n",
       "  root.Bokeh.embed.embed_items_notebook(docs_json, render_items);\n",
       "\n",
       "  }\n",
       "  if (root.Bokeh !== undefined) {\n",
       "    embed_document(root);\n",
       "  } else {\n",
       "    var attempts = 0;\n",
       "    var timer = setInterval(function(root) {\n",
       "      if (root.Bokeh !== undefined) {\n",
       "        clearInterval(timer);\n",
       "        embed_document(root);\n",
       "      } else {\n",
       "        attempts++;\n",
       "        if (attempts > 100) {\n",
       "          clearInterval(timer);\n",
       "          console.log(\"Bokeh: ERROR: Unable to run BokehJS code because BokehJS library is missing\");\n",
       "        }\n",
       "      }\n",
       "    }, 10, root)\n",
       "  }\n",
       "})(window);"
      ],
      "application/vnd.bokehjs_exec.v0+json": ""
     },
     "metadata": {
      "application/vnd.bokehjs_exec.v0+json": {
       "id": "1446"
      }
     },
     "output_type": "display_data"
    }
   ],
   "source": [
    "vl.plot_mst_algorithm(G, 'prims')"
   ]
  },
  {
   "cell_type": "code",
   "execution_count": 6,
   "metadata": {
    "scrolled": false
   },
   "outputs": [
    {
     "data": {
      "text/html": [
       "\n",
       "\n",
       "\n",
       "\n",
       "\n",
       "\n",
       "  <div class=\"bk-root\" id=\"5395f2ce-9c21-47a9-a8cb-6a1fed2d2147\" data-root-id=\"1665\"></div>\n"
      ]
     },
     "metadata": {},
     "output_type": "display_data"
    },
    {
     "data": {
      "application/javascript": [
       "(function(root) {\n",
       "  function embed_document(root) {\n",
       "    \n",
       "  var docs_json = {\"4fb8d480-8c11-4dda-b0eb-70e087a7daa0\":{\"roots\":{\"references\":[{\"attributes\":{\"children\":[[{\"id\":\"1573\"},0,0],[{\"id\":\"1642\"},1,0],[{\"id\":\"1643\"},2,0]]},\"id\":\"1665\",\"type\":\"GridBox\"},{\"attributes\":{\"data\":{\"line_color\":[\"#DFDFDF\",\"#DFDFDF\",\"#DFDFDF\",\"#DFDFDF\",\"#DFDFDF\",\"#DFDFDF\",\"#DFDFDF\",\"#DFDFDF\",\"#DFDFDF\",\"#DFDFDF\",\"#DFDFDF\",\"#DFDFDF\",\"#DFDFDF\",\"#DFDFDF\",\"#DFDFDF\",\"#DFDFDF\",\"#DFDFDF\",\"#DFDFDF\",\"#DFDFDF\",\"#DFDFDF\",\"#DFDFDF\",\"#DFDFDF\",\"#DFDFDF\",\"#DFDFDF\",\"#DFDFDF\",\"#DFDFDF\",\"#DFDFDF\",\"#DFDFDF\"],\"u\":[0,0,1,1,14,14,14,14,2,2,3,3,3,11,11,11,11,4,5,6,6,7,7,15,15,8,9,12],\"v\":[1,14,2,14,2,11,12,13,3,11,4,5,11,5,10,12,13,5,6,7,15,8,9,9,10,9,10,13],\"visible\":[true,true,true,true,true,true,true,true,true,true,true,true,true,true,true,true,true,true,true,true,true,true,true,true,true,true,true,true],\"weight\":[4,24,12,19,20,8,10,6,10,25,14,18,18,14,4,8,8,12,14,3,3,1,2,4,6,2,6,4],\"xs\":[[6,20],[6,127],[20,72],[20,127],[127,72],[127,157],[127,162],[127,144],[72,111],[72,157],[111,194],[111,178],[111,157],[157,178],[157,165],[157,162],[157,144],[194,178],[178,199],[199,205],[199,189],[205,207],[205,198],[189,198],[189,165],[207,198],[198,165],[162,144]],\"ys\":[[71,59],[71,97],[59,31],[59,97],[97,31],[97,84],[97,112],[97,112],[31,-8],[31,84],[-8,-8],[-8,38],[-8,84],[84,38],[84,97],[84,112],[84,112],[-8,38],[38,86],[86,96],[86,93],[96,106],[96,103],[93,103],[93,97],[106,103],[103,97],[112,112]]},\"selected\":{\"id\":\"1652\"},\"selection_policy\":{\"id\":\"1653\"}},\"id\":\"1610\",\"type\":\"ColumnDataSource\"},{\"attributes\":{},\"id\":\"1662\",\"type\":\"UnionRenderers\"},{\"attributes\":{\"args\":{\"cost\":{\"id\":\"1635\"},\"done\":{\"id\":\"1615\"},\"edge_subset_src\":{\"id\":\"1629\"},\"k\":{\"id\":\"1614\"},\"n\":{\"id\":\"1613\"},\"nodes_src\":{\"id\":\"1609\"},\"source\":{\"id\":\"1612\"}},\"code\":\"\\nif ((parseInt(n.text) + 1) < parseInt(k.text)) {\\n    n.text = (parseInt(n.text) + 1).toString()\\n}\\nvar iteration = parseInt(n.text)\\n\\nif (iteration == parseInt(k.text) - 1) {\\n    done.text = \\\"done.\\\"\\n} else {\\n    done.text = \\\"\\\"\\n}\\n\\ncost.text = source.data['costs'][iteration].toFixed(1)\\n\\nedge_subset_src.data['xs'] = source.data['edge_xs'][iteration]\\nedge_subset_src.data['ys'] = source.data['edge_ys'][iteration]\\nedge_subset_src.change.emit()\\n\\nvar in_tree = source.data['nodes'][iteration]\\n\\nfor (let i = 0; i < nodes_src.data['line_color'].length ; i++) {\\n    if (in_tree.includes(i)) {\\n        nodes_src.data['fill_color'][i] = '#003c8f'\\n        nodes_src.data['line_color'][i] = '#003c8f'\\n    } else {\\n        nodes_src.data['fill_color'][i] = '#5e92f3'\\n        nodes_src.data['line_color'][i] = '#003c8f'\\n    }\\n}\\n\\nnodes_src.change.emit()\\n\"},\"id\":\"1637\",\"type\":\"CustomJS\"},{\"attributes\":{},\"id\":\"1595\",\"type\":\"SaveTool\"},{\"attributes\":{\"button_type\":\"primary\",\"icon\":null,\"js_event_callbacks\":{\"button_click\":[{\"id\":\"1639\"}]},\"label\":\"Previous\",\"sizing_mode\":\"scale_width\",\"width_policy\":\"fit\"},\"id\":\"1638\",\"type\":\"Button\"},{\"attributes\":{},\"id\":\"1592\",\"type\":\"PanTool\"},{\"attributes\":{},\"id\":\"1596\",\"type\":\"ResetTool\"},{\"attributes\":{\"align\":\"center\",\"width\":200},\"id\":\"1615\",\"type\":\"Div\"},{\"attributes\":{\"args\":{\"cost\":{\"id\":\"1635\"},\"done\":{\"id\":\"1615\"},\"edge_subset_src\":{\"id\":\"1629\"},\"k\":{\"id\":\"1614\"},\"n\":{\"id\":\"1613\"},\"nodes_src\":{\"id\":\"1609\"},\"source\":{\"id\":\"1612\"}},\"code\":\"\\nif ((parseInt(n.text) - 1) >= 0) {\\n    n.text = (parseInt(n.text) - 1).toString()\\n}\\nvar iteration = parseInt(n.text)\\n\\nif (iteration == parseInt(k.text) - 1) {\\n    done.text = \\\"done.\\\"\\n} else {\\n    done.text = \\\"\\\"\\n}\\n\\ncost.text = source.data['costs'][iteration].toFixed(1)\\n\\nedge_subset_src.data['xs'] = source.data['edge_xs'][iteration]\\nedge_subset_src.data['ys'] = source.data['edge_ys'][iteration]\\nedge_subset_src.change.emit()\\n\\nvar in_tree = source.data['nodes'][iteration]\\n\\nfor (let i = 0; i < nodes_src.data['line_color'].length ; i++) {\\n    if (in_tree.includes(i)) {\\n        nodes_src.data['fill_color'][i] = '#003c8f'\\n        nodes_src.data['line_color'][i] = '#003c8f'\\n    } else {\\n        nodes_src.data['fill_color'][i] = '#5e92f3'\\n        nodes_src.data['line_color'][i] = '#003c8f'\\n    }\\n}\\n\\nnodes_src.change.emit()\\n\"},\"id\":\"1639\",\"type\":\"CustomJS\"},{\"attributes\":{},\"id\":\"1597\",\"type\":\"HelpTool\"},{\"attributes\":{\"callback\":null,\"renderers\":[{\"id\":\"1625\"}],\"tooltips\":[[\"Node\",\"$index\"]]},\"id\":\"1640\",\"type\":\"HoverTool\"},{\"attributes\":{\"overlay\":{\"id\":\"1598\"}},\"id\":\"1594\",\"type\":\"BoxZoomTool\"},{\"attributes\":{\"data\":{\"text\":[4,24,12,19,20,8,10,6,10,25,14,18,18,14,4,8,8,12,14,3,3,1,2,4,6,2,6,4],\"x\":[13.0,66.5,46.0,73.5,99.5,142.0,144.5,135.5,91.5,114.5,152.5,144.5,134.0,167.5,161.0,159.5,150.5,186.0,188.5,202.0,194.0,206.0,201.5,193.5,177.0,202.5,181.5,153.0],\"y\":[65.0,84.0,45.0,78.0,64.0,90.5,104.5,104.5,11.5,57.5,-8.0,15.0,38.0,61.0,90.5,98.0,98.0,15.0,62.0,91.0,89.5,101.0,99.5,98.0,95.0,104.5,100.0,112.0]},\"selected\":{\"id\":\"1650\"},\"selection_policy\":{\"id\":\"1651\"}},\"id\":\"1611\",\"type\":\"ColumnDataSource\"},{\"attributes\":{\"data_source\":{\"id\":\"1609\"},\"glyph\":{\"id\":\"1623\"},\"hover_glyph\":null,\"muted_glyph\":null,\"nonselection_glyph\":{\"id\":\"1624\"},\"selection_glyph\":null,\"view\":{\"id\":\"1626\"}},\"id\":\"1625\",\"type\":\"GlyphRenderer\"},{\"attributes\":{\"children\":[{\"id\":\"1638\"},{\"id\":\"1636\"}],\"sizing_mode\":\"stretch_both\"},\"id\":\"1642\",\"type\":\"Row\"},{\"attributes\":{\"active_drag\":null,\"active_inspect\":\"auto\",\"active_multi\":null,\"active_scroll\":null,\"active_tap\":\"auto\",\"logo\":null,\"tools\":[{\"id\":\"1592\"},{\"id\":\"1593\"},{\"id\":\"1594\"},{\"id\":\"1595\"},{\"id\":\"1596\"},{\"id\":\"1597\"},{\"id\":\"1640\"}]},\"id\":\"1599\",\"type\":\"Toolbar\"},{\"attributes\":{\"line_cap\":\"round\",\"line_color\":{\"field\":\"line_color\"},\"line_width\":{\"value\":5},\"xs\":{\"field\":\"xs\"},\"ys\":{\"field\":\"ys\"}},\"id\":\"1618\",\"type\":\"MultiLine\"},{\"attributes\":{\"children\":[{\"id\":\"1635\"},{\"id\":\"1615\"}]},\"id\":\"1643\",\"type\":\"Row\"},{\"attributes\":{\"fill_color\":{\"field\":\"fill_color\"},\"line_color\":{\"field\":\"line_color\"},\"line_width\":{\"field\":\"line_width\"},\"size\":{\"units\":\"screen\",\"value\":11},\"x\":{\"field\":\"x\"},\"y\":{\"field\":\"y\"}},\"id\":\"1624\",\"type\":\"Circle\"},{\"attributes\":{\"source\":{\"id\":\"1609\"}},\"id\":\"1626\",\"type\":\"CDSView\"},{\"attributes\":{\"text\":\"\"},\"id\":\"1574\",\"type\":\"Title\"},{\"attributes\":{\"fill_color\":{\"field\":\"fill_color\"},\"line_color\":{\"field\":\"line_color\"},\"line_width\":{\"field\":\"line_width\"},\"size\":{\"units\":\"screen\",\"value\":11},\"x\":{\"field\":\"x\"},\"y\":{\"field\":\"y\"}},\"id\":\"1623\",\"type\":\"Circle\"},{\"attributes\":{},\"id\":\"1645\",\"type\":\"BasicTickFormatter\"},{\"attributes\":{\"data\":{\"fill_color\":[\"#5e92f3\",\"#5e92f3\",\"#5e92f3\",\"#5e92f3\",\"#5e92f3\",\"#5e92f3\",\"#5e92f3\",\"#5e92f3\",\"#5e92f3\",\"#5e92f3\",\"#5e92f3\",\"#5e92f3\",\"#5e92f3\",\"#5e92f3\",\"#5e92f3\",\"#5e92f3\"],\"line_color\":[\"#003c8f\",\"#003c8f\",\"#003c8f\",\"#003c8f\",\"#003c8f\",\"#003c8f\",\"#003c8f\",\"#003c8f\",\"#003c8f\",\"#003c8f\",\"#003c8f\",\"#003c8f\",\"#003c8f\",\"#003c8f\",\"#003c8f\",\"#003c8f\"],\"line_width\":[3,3,3,3,3,3,3,3,3,3,3,3,3,3,3,3],\"x\":[6,20,72,111,194,178,199,205,207,198,165,157,162,144,127,189],\"y\":[71,59,31,-8,-8,38,86,96,106,103,97,84,112,112,97,93]},\"selected\":{\"id\":\"1654\"},\"selection_policy\":{\"id\":\"1655\"}},\"id\":\"1609\",\"type\":\"ColumnDataSource\"},{\"attributes\":{\"background_fill_color\":null,\"below\":[{\"id\":\"1584\"}],\"border_fill_color\":null,\"center\":[{\"id\":\"1587\"},{\"id\":\"1591\"},{\"id\":\"1627\"}],\"left\":[{\"id\":\"1588\"}],\"outline_line_color\":null,\"plot_height\":400,\"plot_width\":400,\"renderers\":[{\"id\":\"1620\"},{\"id\":\"1625\"},{\"id\":\"1633\"}],\"title\":{\"id\":\"1574\"},\"toolbar\":{\"id\":\"1599\"},\"toolbar_location\":null,\"x_range\":{\"id\":\"1576\"},\"x_scale\":{\"id\":\"1580\"},\"y_range\":{\"id\":\"1578\"},\"y_scale\":{\"id\":\"1582\"}},\"id\":\"1573\",\"subtype\":\"Figure\",\"type\":\"Plot\"},{\"attributes\":{},\"id\":\"1647\",\"type\":\"BasicTickFormatter\"},{\"attributes\":{},\"id\":\"1582\",\"type\":\"LinearScale\"},{\"attributes\":{\"data\":{\"xs\":[],\"ys\":[]},\"selected\":{\"id\":\"1656\"},\"selection_policy\":{\"id\":\"1657\"}},\"id\":\"1629\",\"type\":\"ColumnDataSource\"},{\"attributes\":{},\"id\":\"1650\",\"type\":\"Selection\"},{\"attributes\":{},\"id\":\"1580\",\"type\":\"LinearScale\"},{\"attributes\":{\"source\":{\"id\":\"1611\"},\"x\":{\"field\":\"x\"},\"y\":{\"field\":\"y\"}},\"id\":\"1627\",\"type\":\"LabelSet\"},{\"attributes\":{},\"id\":\"1651\",\"type\":\"UnionRenderers\"},{\"attributes\":{\"end\":122.2,\"start\":-18.200000000000003},\"id\":\"1578\",\"type\":\"Range1d\"},{\"attributes\":{\"bottom_units\":\"screen\",\"fill_alpha\":0.5,\"fill_color\":\"lightgrey\",\"left_units\":\"screen\",\"level\":\"overlay\",\"line_alpha\":1.0,\"line_color\":\"black\",\"line_dash\":[4,4],\"line_width\":2,\"right_units\":\"screen\",\"top_units\":\"screen\"},\"id\":\"1598\",\"type\":\"BoxAnnotation\"},{\"attributes\":{},\"id\":\"1652\",\"type\":\"Selection\"},{\"attributes\":{\"formatter\":{\"id\":\"1647\"},\"ticker\":{\"id\":\"1585\"},\"visible\":false},\"id\":\"1584\",\"type\":\"LinearAxis\"},{\"attributes\":{},\"id\":\"1593\",\"type\":\"WheelZoomTool\"},{\"attributes\":{\"source\":{\"id\":\"1610\"}},\"id\":\"1621\",\"type\":\"CDSView\"},{\"attributes\":{\"line_alpha\":{\"value\":0.1},\"line_cap\":\"round\",\"line_color\":{\"value\":\"#404040\"},\"line_width\":{\"value\":5},\"xs\":{\"field\":\"xs\"},\"ys\":{\"field\":\"ys\"}},\"id\":\"1632\",\"type\":\"MultiLine\"},{\"attributes\":{\"end\":224.085,\"start\":-11.085},\"id\":\"1576\",\"type\":\"Range1d\"},{\"attributes\":{\"line_cap\":\"round\",\"line_color\":{\"value\":\"#404040\"},\"line_width\":{\"value\":5},\"xs\":{\"field\":\"xs\"},\"ys\":{\"field\":\"ys\"}},\"id\":\"1631\",\"type\":\"MultiLine\"},{\"attributes\":{\"data_source\":{\"id\":\"1610\"},\"glyph\":{\"id\":\"1617\"},\"hover_glyph\":{\"id\":\"1619\"},\"level\":\"image\",\"muted_glyph\":null,\"nonselection_glyph\":{\"id\":\"1618\"},\"selection_glyph\":null,\"view\":{\"id\":\"1621\"}},\"id\":\"1620\",\"type\":\"GlyphRenderer\"},{\"attributes\":{},\"id\":\"1653\",\"type\":\"UnionRenderers\"},{\"attributes\":{\"align\":\"center\",\"text\":\"0\",\"width\":400},\"id\":\"1613\",\"type\":\"Div\"},{\"attributes\":{\"line_alpha\":{\"field\":\"visible\"},\"line_cap\":\"round\",\"line_color\":{\"field\":\"line_color\"},\"line_width\":{\"value\":5},\"xs\":{\"field\":\"xs\"},\"ys\":{\"field\":\"ys\"}},\"id\":\"1617\",\"type\":\"MultiLine\"},{\"attributes\":{},\"id\":\"1654\",\"type\":\"Selection\"},{\"attributes\":{},\"id\":\"1585\",\"type\":\"BasicTicker\"},{\"attributes\":{\"data_source\":{\"id\":\"1629\"},\"glyph\":{\"id\":\"1631\"},\"hover_glyph\":null,\"level\":\"underlay\",\"muted_glyph\":null,\"nonselection_glyph\":{\"id\":\"1632\"},\"selection_glyph\":null,\"view\":{\"id\":\"1634\"}},\"id\":\"1633\",\"type\":\"GlyphRenderer\"},{\"attributes\":{},\"id\":\"1655\",\"type\":\"UnionRenderers\"},{\"attributes\":{\"axis\":{\"id\":\"1584\"},\"grid_line_color\":null,\"ticker\":null},\"id\":\"1587\",\"type\":\"Grid\"},{\"attributes\":{\"source\":{\"id\":\"1629\"}},\"id\":\"1634\",\"type\":\"CDSView\"},{\"attributes\":{\"axis\":{\"id\":\"1588\"},\"dimension\":1,\"grid_line_color\":null,\"ticker\":null},\"id\":\"1591\",\"type\":\"Grid\"},{\"attributes\":{\"formatter\":{\"id\":\"1645\"},\"ticker\":{\"id\":\"1589\"},\"visible\":false},\"id\":\"1588\",\"type\":\"LinearAxis\"},{\"attributes\":{},\"id\":\"1656\",\"type\":\"Selection\"},{\"attributes\":{\"line_alpha\":{\"field\":\"visible\"},\"line_cap\":\"round\",\"line_color\":{\"value\":\"#404040\"},\"line_width\":{\"value\":5},\"xs\":{\"field\":\"xs\"},\"ys\":{\"field\":\"ys\"}},\"id\":\"1619\",\"type\":\"MultiLine\"},{\"attributes\":{\"align\":\"center\",\"text\":\"0\",\"width\":200},\"id\":\"1635\",\"type\":\"Div\"},{\"attributes\":{},\"id\":\"1589\",\"type\":\"BasicTicker\"},{\"attributes\":{},\"id\":\"1657\",\"type\":\"UnionRenderers\"},{\"attributes\":{\"align\":\"center\",\"text\":\"16\",\"width\":400},\"id\":\"1614\",\"type\":\"Div\"},{\"attributes\":{\"button_type\":\"primary\",\"icon\":null,\"js_event_callbacks\":{\"button_click\":[{\"id\":\"1637\"}]},\"label\":\"Next\",\"sizing_mode\":\"scale_width\",\"width_policy\":\"fit\"},\"id\":\"1636\",\"type\":\"Button\"},{\"attributes\":{},\"id\":\"1661\",\"type\":\"Selection\"},{\"attributes\":{\"data\":{\"costs\":[0,1,3,6,9,13,17,21,27,33,41,51,63,75,89,103],\"edge_xs\":[[],[[205,207]],[[205,207],[205,198]],[[205,207],[205,198],[199,205]],[[205,207],[205,198],[199,205],[199,189]],[[205,207],[205,198],[199,205],[199,189],[6,20]],[[205,207],[205,198],[199,205],[199,189],[6,20],[157,165]],[[205,207],[205,198],[199,205],[199,189],[6,20],[157,165],[162,144]],[[205,207],[205,198],[199,205],[199,189],[6,20],[157,165],[162,144],[127,144]],[[205,207],[205,198],[199,205],[199,189],[6,20],[157,165],[162,144],[127,144],[189,165]],[[205,207],[205,198],[199,205],[199,189],[6,20],[157,165],[162,144],[127,144],[189,165],[127,157]],[[205,207],[205,198],[199,205],[199,189],[6,20],[157,165],[162,144],[127,144],[189,165],[127,157],[72,111]],[[205,207],[205,198],[199,205],[199,189],[6,20],[157,165],[162,144],[127,144],[189,165],[127,157],[72,111],[20,72]],[[205,207],[205,198],[199,205],[199,189],[6,20],[157,165],[162,144],[127,144],[189,165],[127,157],[72,111],[20,72],[194,178]],[[205,207],[205,198],[199,205],[199,189],[6,20],[157,165],[162,144],[127,144],[189,165],[127,157],[72,111],[20,72],[194,178],[111,194]],[[205,207],[205,198],[199,205],[199,189],[6,20],[157,165],[162,144],[127,144],[189,165],[127,157],[72,111],[20,72],[194,178],[111,194],[157,178]]],\"edge_ys\":[[],[[96,106]],[[96,106],[96,103]],[[96,106],[96,103],[86,96]],[[96,106],[96,103],[86,96],[86,93]],[[96,106],[96,103],[86,96],[86,93],[71,59]],[[96,106],[96,103],[86,96],[86,93],[71,59],[84,97]],[[96,106],[96,103],[86,96],[86,93],[71,59],[84,97],[112,112]],[[96,106],[96,103],[86,96],[86,93],[71,59],[84,97],[112,112],[97,112]],[[96,106],[96,103],[86,96],[86,93],[71,59],[84,97],[112,112],[97,112],[93,97]],[[96,106],[96,103],[86,96],[86,93],[71,59],[84,97],[112,112],[97,112],[93,97],[97,84]],[[96,106],[96,103],[86,96],[86,93],[71,59],[84,97],[112,112],[97,112],[93,97],[97,84],[31,-8]],[[96,106],[96,103],[86,96],[86,93],[71,59],[84,97],[112,112],[97,112],[93,97],[97,84],[31,-8],[59,31]],[[96,106],[96,103],[86,96],[86,93],[71,59],[84,97],[112,112],[97,112],[93,97],[97,84],[31,-8],[59,31],[-8,38]],[[96,106],[96,103],[86,96],[86,93],[71,59],[84,97],[112,112],[97,112],[93,97],[97,84],[31,-8],[59,31],[-8,38],[-8,-8]],[[96,106],[96,103],[86,96],[86,93],[71,59],[84,97],[112,112],[97,112],[93,97],[97,84],[31,-8],[59,31],[-8,38],[-8,-8],[84,38]]],\"nodes\":[[],[8,7],[8,9,7],[8,9,6,7],[6,7,8,9,15],[0,1,6,7,8,9,15],[0,1,6,7,8,9,10,11,15],[0,1,6,7,8,9,10,11,12,13,15],[0,1,6,7,8,9,10,11,12,13,14,15],[0,1,6,7,8,9,10,11,12,13,14,15],[0,1,6,7,8,9,10,11,12,13,14,15],[0,1,2,3,6,7,8,9,10,11,12,13,14,15],[0,1,2,3,6,7,8,9,10,11,12,13,14,15],[0,1,2,3,4,5,6,7,8,9,10,11,12,13,14,15],[0,1,2,3,4,5,6,7,8,9,10,11,12,13,14,15],[0,1,2,3,4,5,6,7,8,9,10,11,12,13,14,15]]},\"selected\":{\"id\":\"1661\"},\"selection_policy\":{\"id\":\"1662\"}},\"id\":\"1612\",\"type\":\"ColumnDataSource\"}],\"root_ids\":[\"1665\"]},\"title\":\"Bokeh Application\",\"version\":\"2.2.3\"}};\n",
       "  var render_items = [{\"docid\":\"4fb8d480-8c11-4dda-b0eb-70e087a7daa0\",\"root_ids\":[\"1665\"],\"roots\":{\"1665\":\"5395f2ce-9c21-47a9-a8cb-6a1fed2d2147\"}}];\n",
       "  root.Bokeh.embed.embed_items_notebook(docs_json, render_items);\n",
       "\n",
       "  }\n",
       "  if (root.Bokeh !== undefined) {\n",
       "    embed_document(root);\n",
       "  } else {\n",
       "    var attempts = 0;\n",
       "    var timer = setInterval(function(root) {\n",
       "      if (root.Bokeh !== undefined) {\n",
       "        clearInterval(timer);\n",
       "        embed_document(root);\n",
       "      } else {\n",
       "        attempts++;\n",
       "        if (attempts > 100) {\n",
       "          clearInterval(timer);\n",
       "          console.log(\"Bokeh: ERROR: Unable to run BokehJS code because BokehJS library is missing\");\n",
       "        }\n",
       "      }\n",
       "    }, 10, root)\n",
       "  }\n",
       "})(window);"
      ],
      "application/vnd.bokehjs_exec.v0+json": ""
     },
     "metadata": {
      "application/vnd.bokehjs_exec.v0+json": {
       "id": "1665"
      }
     },
     "output_type": "display_data"
    }
   ],
   "source": [
    "vl.plot_mst_algorithm(G, 'kruskals')"
   ]
  },
  {
   "cell_type": "code",
   "execution_count": 7,
   "metadata": {},
   "outputs": [
    {
     "data": {
      "text/html": [
       "\n",
       "\n",
       "\n",
       "\n",
       "\n",
       "\n",
       "  <div class=\"bk-root\" id=\"3a23c33a-72ef-4a46-897f-f3c537f5d79c\" data-root-id=\"1900\"></div>\n"
      ]
     },
     "metadata": {},
     "output_type": "display_data"
    },
    {
     "data": {
      "application/javascript": [
       "(function(root) {\n",
       "  function embed_document(root) {\n",
       "    \n",
       "  var docs_json = {\"3f287d3c-49fb-4064-9372-6d9f88510b8c\":{\"roots\":{\"references\":[{\"attributes\":{\"children\":[[{\"id\":\"1808\"},0,0],[{\"id\":\"1877\"},1,0],[{\"id\":\"1878\"},2,0]]},\"id\":\"1900\",\"type\":\"GridBox\"},{\"attributes\":{\"data_source\":{\"id\":\"1864\"},\"glyph\":{\"id\":\"1866\"},\"hover_glyph\":null,\"level\":\"underlay\",\"muted_glyph\":null,\"nonselection_glyph\":{\"id\":\"1867\"},\"selection_glyph\":null,\"view\":{\"id\":\"1869\"}},\"id\":\"1868\",\"type\":\"GlyphRenderer\"},{\"attributes\":{},\"id\":\"1831\",\"type\":\"ResetTool\"},{\"attributes\":{},\"id\":\"1830\",\"type\":\"SaveTool\"},{\"attributes\":{},\"id\":\"1896\",\"type\":\"Selection\"},{\"attributes\":{\"text\":\"\"},\"id\":\"1809\",\"type\":\"Title\"},{\"attributes\":{},\"id\":\"1832\",\"type\":\"HelpTool\"},{\"attributes\":{\"source\":{\"id\":\"1864\"}},\"id\":\"1869\",\"type\":\"CDSView\"},{\"attributes\":{\"align\":\"center\",\"width\":200},\"id\":\"1850\",\"type\":\"Div\"},{\"attributes\":{},\"id\":\"1897\",\"type\":\"UnionRenderers\"},{\"attributes\":{\"line_alpha\":{\"value\":0.1},\"line_cap\":\"round\",\"line_color\":{\"value\":\"#404040\"},\"line_width\":{\"value\":5},\"xs\":{\"field\":\"xs\"},\"ys\":{\"field\":\"ys\"}},\"id\":\"1867\",\"type\":\"MultiLine\"},{\"attributes\":{\"active_drag\":null,\"active_inspect\":\"auto\",\"active_multi\":null,\"active_scroll\":null,\"active_tap\":\"auto\",\"logo\":null,\"tools\":[{\"id\":\"1827\"},{\"id\":\"1828\"},{\"id\":\"1829\"},{\"id\":\"1830\"},{\"id\":\"1831\"},{\"id\":\"1832\"},{\"id\":\"1875\"}]},\"id\":\"1834\",\"type\":\"Toolbar\"},{\"attributes\":{\"align\":\"center\",\"text\":\"14\",\"width\":400},\"id\":\"1849\",\"type\":\"Div\"},{\"attributes\":{\"align\":\"center\",\"text\":\"279\",\"width\":200},\"id\":\"1870\",\"type\":\"Div\"},{\"attributes\":{\"overlay\":{\"id\":\"1833\"}},\"id\":\"1829\",\"type\":\"BoxZoomTool\"},{\"attributes\":{\"data\":{\"text\":[4,24,12,19,20,8,10,6,10,25,14,18,18,14,4,8,8,12,14,3,3,1,2,4,6,2,6,4],\"x\":[13.0,66.5,46.0,73.5,99.5,142.0,144.5,135.5,91.5,114.5,152.5,144.5,134.0,167.5,161.0,159.5,150.5,186.0,188.5,202.0,194.0,206.0,201.5,193.5,177.0,202.5,181.5,153.0],\"y\":[65.0,84.0,45.0,78.0,64.0,90.5,104.5,104.5,11.5,57.5,-8.0,15.0,38.0,61.0,90.5,98.0,98.0,15.0,62.0,91.0,89.5,101.0,99.5,98.0,95.0,104.5,100.0,112.0]},\"selected\":{\"id\":\"1885\"},\"selection_policy\":{\"id\":\"1886\"}},\"id\":\"1846\",\"type\":\"ColumnDataSource\"},{\"attributes\":{\"button_type\":\"primary\",\"icon\":null,\"js_event_callbacks\":{\"button_click\":[{\"id\":\"1872\"}]},\"label\":\"Next\",\"sizing_mode\":\"scale_width\",\"width_policy\":\"fit\"},\"id\":\"1871\",\"type\":\"Button\"},{\"attributes\":{},\"id\":\"1828\",\"type\":\"WheelZoomTool\"},{\"attributes\":{\"args\":{\"cost\":{\"id\":\"1870\"},\"done\":{\"id\":\"1850\"},\"edge_subset_src\":{\"id\":\"1864\"},\"k\":{\"id\":\"1849\"},\"n\":{\"id\":\"1848\"},\"nodes_src\":{\"id\":\"1844\"},\"source\":{\"id\":\"1847\"}},\"code\":\"\\nif ((parseInt(n.text) + 1) < parseInt(k.text)) {\\n    n.text = (parseInt(n.text) + 1).toString()\\n}\\nvar iteration = parseInt(n.text)\\n\\nif (iteration == parseInt(k.text) - 1) {\\n    done.text = \\\"done.\\\"\\n} else {\\n    done.text = \\\"\\\"\\n}\\n\\ncost.text = source.data['costs'][iteration].toFixed(1)\\n\\nedge_subset_src.data['xs'] = source.data['edge_xs'][iteration]\\nedge_subset_src.data['ys'] = source.data['edge_ys'][iteration]\\nedge_subset_src.change.emit()\\n\\nvar in_tree = source.data['nodes'][iteration]\\n\\nfor (let i = 0; i < nodes_src.data['line_color'].length ; i++) {\\n    if (in_tree.includes(i)) {\\n        nodes_src.data['fill_color'][i] = '#003c8f'\\n        nodes_src.data['line_color'][i] = '#003c8f'\\n    } else {\\n        nodes_src.data['fill_color'][i] = '#5e92f3'\\n        nodes_src.data['line_color'][i] = '#003c8f'\\n    }\\n}\\n\\nnodes_src.change.emit()\\n\"},\"id\":\"1872\",\"type\":\"CustomJS\"},{\"attributes\":{\"background_fill_color\":null,\"below\":[{\"id\":\"1819\"}],\"border_fill_color\":null,\"center\":[{\"id\":\"1822\"},{\"id\":\"1826\"},{\"id\":\"1862\"}],\"left\":[{\"id\":\"1823\"}],\"outline_line_color\":null,\"plot_height\":400,\"plot_width\":400,\"renderers\":[{\"id\":\"1855\"},{\"id\":\"1860\"},{\"id\":\"1868\"}],\"title\":{\"id\":\"1809\"},\"toolbar\":{\"id\":\"1834\"},\"toolbar_location\":null,\"x_range\":{\"id\":\"1811\"},\"x_scale\":{\"id\":\"1815\"},\"y_range\":{\"id\":\"1813\"},\"y_scale\":{\"id\":\"1817\"}},\"id\":\"1808\",\"subtype\":\"Figure\",\"type\":\"Plot\"},{\"attributes\":{\"button_type\":\"primary\",\"icon\":null,\"js_event_callbacks\":{\"button_click\":[{\"id\":\"1874\"}]},\"label\":\"Previous\",\"sizing_mode\":\"scale_width\",\"width_policy\":\"fit\"},\"id\":\"1873\",\"type\":\"Button\"},{\"attributes\":{\"line_cap\":\"round\",\"line_color\":{\"field\":\"line_color\"},\"line_width\":{\"value\":5},\"xs\":{\"field\":\"xs\"},\"ys\":{\"field\":\"ys\"}},\"id\":\"1853\",\"type\":\"MultiLine\"},{\"attributes\":{\"data\":{\"costs\":[279,254,230,210,191,173,155,141,131,123,115,109,105,103],\"edge_xs\":[[[6,127],[6,20],[20,127],[20,72],[72,157],[127,72],[72,111],[111,178],[111,157],[111,194],[194,178],[157,178],[178,199],[199,205],[199,189],[205,198],[205,207],[207,198],[198,165],[189,198],[189,165],[157,165],[127,157],[157,162],[157,144],[127,162],[162,144],[127,144]],[[6,127],[6,20],[20,127],[20,72],[127,72],[72,111],[111,178],[111,157],[111,194],[194,178],[157,178],[178,199],[199,205],[199,189],[205,198],[205,207],[207,198],[198,165],[189,198],[189,165],[157,165],[127,157],[157,162],[157,144],[127,162],[162,144],[127,144]],[[6,20],[20,127],[20,72],[127,72],[72,111],[111,178],[111,157],[111,194],[194,178],[157,178],[178,199],[199,205],[199,189],[205,198],[205,207],[207,198],[198,165],[189,198],[189,165],[157,165],[127,157],[157,162],[157,144],[127,162],[162,144],[127,144]],[[6,20],[20,127],[20,72],[72,111],[111,178],[111,157],[111,194],[194,178],[157,178],[178,199],[199,205],[199,189],[205,198],[205,207],[207,198],[198,165],[189,198],[189,165],[157,165],[127,157],[157,162],[157,144],[127,162],[162,144],[127,144]],[[6,20],[20,72],[72,111],[111,178],[111,157],[111,194],[194,178],[157,178],[178,199],[199,205],[199,189],[205,198],[205,207],[207,198],[198,165],[189,198],[189,165],[157,165],[127,157],[157,162],[157,144],[127,162],[162,144],[127,144]],[[6,20],[20,72],[72,111],[111,157],[111,194],[194,178],[157,178],[178,199],[199,205],[199,189],[205,198],[205,207],[207,198],[198,165],[189,198],[189,165],[157,165],[127,157],[157,162],[157,144],[127,162],[162,144],[127,144]],[[6,20],[20,72],[72,111],[111,194],[194,178],[157,178],[178,199],[199,205],[199,189],[205,198],[205,207],[207,198],[198,165],[189,198],[189,165],[157,165],[127,157],[157,162],[157,144],[127,162],[162,144],[127,144]],[[6,20],[20,72],[72,111],[111,194],[194,178],[178,199],[199,205],[199,189],[205,198],[205,207],[207,198],[198,165],[189,198],[189,165],[157,165],[127,157],[157,162],[157,144],[127,162],[162,144],[127,144]],[[6,20],[20,72],[72,111],[111,194],[194,178],[178,199],[199,205],[199,189],[205,198],[205,207],[207,198],[198,165],[189,198],[189,165],[157,165],[127,157],[157,162],[157,144],[162,144],[127,144]],[[6,20],[20,72],[72,111],[111,194],[194,178],[178,199],[199,205],[199,189],[205,198],[205,207],[207,198],[198,165],[189,198],[189,165],[157,165],[157,162],[157,144],[162,144],[127,144]],[[6,20],[20,72],[72,111],[111,194],[194,178],[178,199],[199,205],[199,189],[205,198],[205,207],[207,198],[198,165],[189,198],[189,165],[157,165],[157,144],[162,144],[127,144]],[[6,20],[20,72],[72,111],[111,194],[194,178],[178,199],[199,205],[199,189],[205,198],[205,207],[207,198],[198,165],[189,198],[157,165],[157,144],[162,144],[127,144]],[[6,20],[20,72],[72,111],[111,194],[194,178],[178,199],[199,205],[199,189],[205,198],[205,207],[207,198],[198,165],[157,165],[157,144],[162,144],[127,144]],[[6,20],[20,72],[72,111],[111,194],[194,178],[178,199],[199,205],[199,189],[205,207],[207,198],[198,165],[157,165],[157,144],[162,144],[127,144]]],\"edge_ys\":[[[71,97],[71,59],[59,97],[59,31],[31,84],[97,31],[31,-8],[-8,38],[-8,84],[-8,-8],[-8,38],[84,38],[38,86],[86,96],[86,93],[96,103],[96,106],[106,103],[103,97],[93,103],[93,97],[84,97],[97,84],[84,112],[84,112],[97,112],[112,112],[97,112]],[[71,97],[71,59],[59,97],[59,31],[97,31],[31,-8],[-8,38],[-8,84],[-8,-8],[-8,38],[84,38],[38,86],[86,96],[86,93],[96,103],[96,106],[106,103],[103,97],[93,103],[93,97],[84,97],[97,84],[84,112],[84,112],[97,112],[112,112],[97,112]],[[71,59],[59,97],[59,31],[97,31],[31,-8],[-8,38],[-8,84],[-8,-8],[-8,38],[84,38],[38,86],[86,96],[86,93],[96,103],[96,106],[106,103],[103,97],[93,103],[93,97],[84,97],[97,84],[84,112],[84,112],[97,112],[112,112],[97,112]],[[71,59],[59,97],[59,31],[31,-8],[-8,38],[-8,84],[-8,-8],[-8,38],[84,38],[38,86],[86,96],[86,93],[96,103],[96,106],[106,103],[103,97],[93,103],[93,97],[84,97],[97,84],[84,112],[84,112],[97,112],[112,112],[97,112]],[[71,59],[59,31],[31,-8],[-8,38],[-8,84],[-8,-8],[-8,38],[84,38],[38,86],[86,96],[86,93],[96,103],[96,106],[106,103],[103,97],[93,103],[93,97],[84,97],[97,84],[84,112],[84,112],[97,112],[112,112],[97,112]],[[71,59],[59,31],[31,-8],[-8,84],[-8,-8],[-8,38],[84,38],[38,86],[86,96],[86,93],[96,103],[96,106],[106,103],[103,97],[93,103],[93,97],[84,97],[97,84],[84,112],[84,112],[97,112],[112,112],[97,112]],[[71,59],[59,31],[31,-8],[-8,-8],[-8,38],[84,38],[38,86],[86,96],[86,93],[96,103],[96,106],[106,103],[103,97],[93,103],[93,97],[84,97],[97,84],[84,112],[84,112],[97,112],[112,112],[97,112]],[[71,59],[59,31],[31,-8],[-8,-8],[-8,38],[38,86],[86,96],[86,93],[96,103],[96,106],[106,103],[103,97],[93,103],[93,97],[84,97],[97,84],[84,112],[84,112],[97,112],[112,112],[97,112]],[[71,59],[59,31],[31,-8],[-8,-8],[-8,38],[38,86],[86,96],[86,93],[96,103],[96,106],[106,103],[103,97],[93,103],[93,97],[84,97],[97,84],[84,112],[84,112],[112,112],[97,112]],[[71,59],[59,31],[31,-8],[-8,-8],[-8,38],[38,86],[86,96],[86,93],[96,103],[96,106],[106,103],[103,97],[93,103],[93,97],[84,97],[84,112],[84,112],[112,112],[97,112]],[[71,59],[59,31],[31,-8],[-8,-8],[-8,38],[38,86],[86,96],[86,93],[96,103],[96,106],[106,103],[103,97],[93,103],[93,97],[84,97],[84,112],[112,112],[97,112]],[[71,59],[59,31],[31,-8],[-8,-8],[-8,38],[38,86],[86,96],[86,93],[96,103],[96,106],[106,103],[103,97],[93,103],[84,97],[84,112],[112,112],[97,112]],[[71,59],[59,31],[31,-8],[-8,-8],[-8,38],[38,86],[86,96],[86,93],[96,103],[96,106],[106,103],[103,97],[84,97],[84,112],[112,112],[97,112]],[[71,59],[59,31],[31,-8],[-8,-8],[-8,38],[38,86],[86,96],[86,93],[96,106],[106,103],[103,97],[84,97],[84,112],[112,112],[97,112]]],\"nodes\":[[0,1,2,3,4,5,6,7,8,9,10,11,12,13,14,15],[0,1,2,3,4,5,6,7,8,9,10,11,12,13,14,15],[0,1,2,3,4,5,6,7,8,9,10,11,12,13,14,15],[0,1,2,3,4,5,6,7,8,9,10,11,12,13,14,15],[0,1,2,3,4,5,6,7,8,9,10,11,12,13,14,15],[0,1,2,3,4,5,6,7,8,9,10,11,12,13,14,15],[0,1,2,3,4,5,6,7,8,9,10,11,12,13,14,15],[0,1,2,3,4,5,6,7,8,9,10,11,12,13,14,15],[0,1,2,3,4,5,6,7,8,9,10,11,12,13,14,15],[0,1,2,3,4,5,6,7,8,9,10,11,12,13,14,15],[0,1,2,3,4,5,6,7,8,9,10,11,12,13,14,15],[0,1,2,3,4,5,6,7,8,9,10,11,12,13,14,15],[0,1,2,3,4,5,6,7,8,9,10,11,12,13,14,15],[0,1,2,3,4,5,6,7,8,9,10,11,12,13,14,15]]},\"selected\":{\"id\":\"1896\"},\"selection_policy\":{\"id\":\"1897\"}},\"id\":\"1847\",\"type\":\"ColumnDataSource\"},{\"attributes\":{\"align\":\"center\",\"text\":\"0\",\"width\":400},\"id\":\"1848\",\"type\":\"Div\"},{\"attributes\":{\"args\":{\"cost\":{\"id\":\"1870\"},\"done\":{\"id\":\"1850\"},\"edge_subset_src\":{\"id\":\"1864\"},\"k\":{\"id\":\"1849\"},\"n\":{\"id\":\"1848\"},\"nodes_src\":{\"id\":\"1844\"},\"source\":{\"id\":\"1847\"}},\"code\":\"\\nif ((parseInt(n.text) - 1) >= 0) {\\n    n.text = (parseInt(n.text) - 1).toString()\\n}\\nvar iteration = parseInt(n.text)\\n\\nif (iteration == parseInt(k.text) - 1) {\\n    done.text = \\\"done.\\\"\\n} else {\\n    done.text = \\\"\\\"\\n}\\n\\ncost.text = source.data['costs'][iteration].toFixed(1)\\n\\nedge_subset_src.data['xs'] = source.data['edge_xs'][iteration]\\nedge_subset_src.data['ys'] = source.data['edge_ys'][iteration]\\nedge_subset_src.change.emit()\\n\\nvar in_tree = source.data['nodes'][iteration]\\n\\nfor (let i = 0; i < nodes_src.data['line_color'].length ; i++) {\\n    if (in_tree.includes(i)) {\\n        nodes_src.data['fill_color'][i] = '#003c8f'\\n        nodes_src.data['line_color'][i] = '#003c8f'\\n    } else {\\n        nodes_src.data['fill_color'][i] = '#5e92f3'\\n        nodes_src.data['line_color'][i] = '#003c8f'\\n    }\\n}\\n\\nnodes_src.change.emit()\\n\"},\"id\":\"1874\",\"type\":\"CustomJS\"},{\"attributes\":{\"end\":224.085,\"start\":-11.085},\"id\":\"1811\",\"type\":\"Range1d\"},{\"attributes\":{\"axis\":{\"id\":\"1823\"},\"dimension\":1,\"grid_line_color\":null,\"ticker\":null},\"id\":\"1826\",\"type\":\"Grid\"},{\"attributes\":{},\"id\":\"1890\",\"type\":\"UnionRenderers\"},{\"attributes\":{\"callback\":null,\"renderers\":[{\"id\":\"1860\"}],\"tooltips\":[[\"Node\",\"$index\"]]},\"id\":\"1875\",\"type\":\"HoverTool\"},{\"attributes\":{\"fill_color\":{\"field\":\"fill_color\"},\"line_color\":{\"field\":\"line_color\"},\"line_width\":{\"field\":\"line_width\"},\"size\":{\"units\":\"screen\",\"value\":11},\"x\":{\"field\":\"x\"},\"y\":{\"field\":\"y\"}},\"id\":\"1859\",\"type\":\"Circle\"},{\"attributes\":{\"children\":[{\"id\":\"1873\"},{\"id\":\"1871\"}],\"sizing_mode\":\"stretch_both\"},\"id\":\"1877\",\"type\":\"Row\"},{\"attributes\":{\"bottom_units\":\"screen\",\"fill_alpha\":0.5,\"fill_color\":\"lightgrey\",\"left_units\":\"screen\",\"level\":\"overlay\",\"line_alpha\":1.0,\"line_color\":\"black\",\"line_dash\":[4,4],\"line_width\":2,\"right_units\":\"screen\",\"top_units\":\"screen\"},\"id\":\"1833\",\"type\":\"BoxAnnotation\"},{\"attributes\":{\"source\":{\"id\":\"1846\"},\"x\":{\"field\":\"x\"},\"y\":{\"field\":\"y\"}},\"id\":\"1862\",\"type\":\"LabelSet\"},{\"attributes\":{\"end\":122.2,\"start\":-18.200000000000003},\"id\":\"1813\",\"type\":\"Range1d\"},{\"attributes\":{\"children\":[{\"id\":\"1870\"},{\"id\":\"1850\"}]},\"id\":\"1878\",\"type\":\"Row\"},{\"attributes\":{\"data_source\":{\"id\":\"1844\"},\"glyph\":{\"id\":\"1858\"},\"hover_glyph\":null,\"muted_glyph\":null,\"nonselection_glyph\":{\"id\":\"1859\"},\"selection_glyph\":null,\"view\":{\"id\":\"1861\"}},\"id\":\"1860\",\"type\":\"GlyphRenderer\"},{\"attributes\":{},\"id\":\"1815\",\"type\":\"LinearScale\"},{\"attributes\":{},\"id\":\"1827\",\"type\":\"PanTool\"},{\"attributes\":{\"source\":{\"id\":\"1844\"}},\"id\":\"1861\",\"type\":\"CDSView\"},{\"attributes\":{},\"id\":\"1817\",\"type\":\"LinearScale\"},{\"attributes\":{\"fill_color\":{\"field\":\"fill_color\"},\"line_color\":{\"field\":\"line_color\"},\"line_width\":{\"field\":\"line_width\"},\"size\":{\"units\":\"screen\",\"value\":11},\"x\":{\"field\":\"x\"},\"y\":{\"field\":\"y\"}},\"id\":\"1858\",\"type\":\"Circle\"},{\"attributes\":{},\"id\":\"1880\",\"type\":\"BasicTickFormatter\"},{\"attributes\":{\"data\":{\"fill_color\":[\"#003c8f\",\"#003c8f\",\"#003c8f\",\"#003c8f\",\"#003c8f\",\"#003c8f\",\"#003c8f\",\"#003c8f\",\"#003c8f\",\"#003c8f\",\"#003c8f\",\"#003c8f\",\"#003c8f\",\"#003c8f\",\"#003c8f\",\"#003c8f\"],\"line_color\":[\"#003c8f\",\"#003c8f\",\"#003c8f\",\"#003c8f\",\"#003c8f\",\"#003c8f\",\"#003c8f\",\"#003c8f\",\"#003c8f\",\"#003c8f\",\"#003c8f\",\"#003c8f\",\"#003c8f\",\"#003c8f\",\"#003c8f\",\"#003c8f\"],\"line_width\":[3,3,3,3,3,3,3,3,3,3,3,3,3,3,3,3],\"x\":[6,20,72,111,194,178,199,205,207,198,165,157,162,144,127,189],\"y\":[71,59,31,-8,-8,38,86,96,106,103,97,84,112,112,97,93]},\"selected\":{\"id\":\"1889\"},\"selection_policy\":{\"id\":\"1890\"}},\"id\":\"1844\",\"type\":\"ColumnDataSource\"},{\"attributes\":{\"line_alpha\":{\"field\":\"visible\"},\"line_cap\":\"round\",\"line_color\":{\"field\":\"line_color\"},\"line_width\":{\"value\":5},\"xs\":{\"field\":\"xs\"},\"ys\":{\"field\":\"ys\"}},\"id\":\"1852\",\"type\":\"MultiLine\"},{\"attributes\":{\"formatter\":{\"id\":\"1882\"},\"ticker\":{\"id\":\"1820\"},\"visible\":false},\"id\":\"1819\",\"type\":\"LinearAxis\"},{\"attributes\":{},\"id\":\"1882\",\"type\":\"BasicTickFormatter\"},{\"attributes\":{\"source\":{\"id\":\"1845\"}},\"id\":\"1856\",\"type\":\"CDSView\"},{\"attributes\":{\"data\":{\"xs\":[[6,127],[6,20],[20,127],[20,72],[72,157],[127,72],[72,111],[111,178],[111,157],[111,194],[194,178],[157,178],[178,199],[199,205],[199,189],[205,198],[205,207],[207,198],[198,165],[189,198],[189,165],[157,165],[127,157],[157,162],[157,144],[127,162],[162,144],[127,144]],\"ys\":[[71,97],[71,59],[59,97],[59,31],[31,84],[97,31],[31,-8],[-8,38],[-8,84],[-8,-8],[-8,38],[84,38],[38,86],[86,96],[86,93],[96,103],[96,106],[106,103],[103,97],[93,103],[93,97],[84,97],[97,84],[84,112],[84,112],[97,112],[112,112],[97,112]]},\"selected\":{\"id\":\"1891\"},\"selection_policy\":{\"id\":\"1892\"}},\"id\":\"1864\",\"type\":\"ColumnDataSource\"},{\"attributes\":{\"data_source\":{\"id\":\"1845\"},\"glyph\":{\"id\":\"1852\"},\"hover_glyph\":{\"id\":\"1854\"},\"level\":\"image\",\"muted_glyph\":null,\"nonselection_glyph\":{\"id\":\"1853\"},\"selection_glyph\":null,\"view\":{\"id\":\"1856\"}},\"id\":\"1855\",\"type\":\"GlyphRenderer\"},{\"attributes\":{},\"id\":\"1892\",\"type\":\"UnionRenderers\"},{\"attributes\":{},\"id\":\"1820\",\"type\":\"BasicTicker\"},{\"attributes\":{\"line_alpha\":{\"field\":\"visible\"},\"line_cap\":\"round\",\"line_color\":{\"value\":\"#404040\"},\"line_width\":{\"value\":5},\"xs\":{\"field\":\"xs\"},\"ys\":{\"field\":\"ys\"}},\"id\":\"1854\",\"type\":\"MultiLine\"},{\"attributes\":{},\"id\":\"1885\",\"type\":\"Selection\"},{\"attributes\":{},\"id\":\"1889\",\"type\":\"Selection\"},{\"attributes\":{\"axis\":{\"id\":\"1819\"},\"grid_line_color\":null,\"ticker\":null},\"id\":\"1822\",\"type\":\"Grid\"},{\"attributes\":{\"data\":{\"line_color\":[\"#DFDFDF\",\"#DFDFDF\",\"#DFDFDF\",\"#DFDFDF\",\"#DFDFDF\",\"#DFDFDF\",\"#DFDFDF\",\"#DFDFDF\",\"#DFDFDF\",\"#DFDFDF\",\"#DFDFDF\",\"#DFDFDF\",\"#DFDFDF\",\"#DFDFDF\",\"#DFDFDF\",\"#DFDFDF\",\"#DFDFDF\",\"#DFDFDF\",\"#DFDFDF\",\"#DFDFDF\",\"#DFDFDF\",\"#DFDFDF\",\"#DFDFDF\",\"#DFDFDF\",\"#DFDFDF\",\"#DFDFDF\",\"#DFDFDF\",\"#DFDFDF\"],\"u\":[0,0,1,1,14,14,14,14,2,2,3,3,3,11,11,11,11,4,5,6,6,7,7,15,15,8,9,12],\"v\":[1,14,2,14,2,11,12,13,3,11,4,5,11,5,10,12,13,5,6,7,15,8,9,9,10,9,10,13],\"visible\":[true,true,true,true,true,true,true,true,true,true,true,true,true,true,true,true,true,true,true,true,true,true,true,true,true,true,true,true],\"weight\":[4,24,12,19,20,8,10,6,10,25,14,18,18,14,4,8,8,12,14,3,3,1,2,4,6,2,6,4],\"xs\":[[6,20],[6,127],[20,72],[20,127],[127,72],[127,157],[127,162],[127,144],[72,111],[72,157],[111,194],[111,178],[111,157],[157,178],[157,165],[157,162],[157,144],[194,178],[178,199],[199,205],[199,189],[205,207],[205,198],[189,198],[189,165],[207,198],[198,165],[162,144]],\"ys\":[[71,59],[71,97],[59,31],[59,97],[97,31],[97,84],[97,112],[97,112],[31,-8],[31,84],[-8,-8],[-8,38],[-8,84],[84,38],[84,97],[84,112],[84,112],[-8,38],[38,86],[86,96],[86,93],[96,106],[96,103],[93,103],[93,97],[106,103],[103,97],[112,112]]},\"selected\":{\"id\":\"1887\"},\"selection_policy\":{\"id\":\"1888\"}},\"id\":\"1845\",\"type\":\"ColumnDataSource\"},{\"attributes\":{},\"id\":\"1886\",\"type\":\"UnionRenderers\"},{\"attributes\":{\"formatter\":{\"id\":\"1880\"},\"ticker\":{\"id\":\"1824\"},\"visible\":false},\"id\":\"1823\",\"type\":\"LinearAxis\"},{\"attributes\":{},\"id\":\"1888\",\"type\":\"UnionRenderers\"},{\"attributes\":{},\"id\":\"1887\",\"type\":\"Selection\"},{\"attributes\":{\"line_cap\":\"round\",\"line_color\":{\"value\":\"#404040\"},\"line_width\":{\"value\":5},\"xs\":{\"field\":\"xs\"},\"ys\":{\"field\":\"ys\"}},\"id\":\"1866\",\"type\":\"MultiLine\"},{\"attributes\":{},\"id\":\"1824\",\"type\":\"BasicTicker\"},{\"attributes\":{},\"id\":\"1891\",\"type\":\"Selection\"}],\"root_ids\":[\"1900\"]},\"title\":\"Bokeh Application\",\"version\":\"2.2.3\"}};\n",
       "  var render_items = [{\"docid\":\"3f287d3c-49fb-4064-9372-6d9f88510b8c\",\"root_ids\":[\"1900\"],\"roots\":{\"1900\":\"3a23c33a-72ef-4a46-897f-f3c537f5d79c\"}}];\n",
       "  root.Bokeh.embed.embed_items_notebook(docs_json, render_items);\n",
       "\n",
       "  }\n",
       "  if (root.Bokeh !== undefined) {\n",
       "    embed_document(root);\n",
       "  } else {\n",
       "    var attempts = 0;\n",
       "    var timer = setInterval(function(root) {\n",
       "      if (root.Bokeh !== undefined) {\n",
       "        clearInterval(timer);\n",
       "        embed_document(root);\n",
       "      } else {\n",
       "        attempts++;\n",
       "        if (attempts > 100) {\n",
       "          clearInterval(timer);\n",
       "          console.log(\"Bokeh: ERROR: Unable to run BokehJS code because BokehJS library is missing\");\n",
       "        }\n",
       "      }\n",
       "    }, 10, root)\n",
       "  }\n",
       "})(window);"
      ],
      "application/vnd.bokehjs_exec.v0+json": ""
     },
     "metadata": {
      "application/vnd.bokehjs_exec.v0+json": {
       "id": "1900"
      }
     },
     "output_type": "display_data"
    }
   ],
   "source": [
    "vl.plot_mst_algorithm(G, 'reverse_kruskals')"
   ]
  }
 ],
 "metadata": {
  "kernelspec": {
   "display_name": "Python 3",
   "language": "python",
   "name": "python3"
  },
  "language_info": {
   "codemirror_mode": {
    "name": "ipython",
    "version": 3
   },
   "file_extension": ".py",
   "mimetype": "text/x-python",
   "name": "python",
   "nbconvert_exporter": "python",
   "pygments_lexer": "ipython3",
   "version": "3.6.10"
  }
 },
 "nbformat": 4,
 "nbformat_minor": 4
}
