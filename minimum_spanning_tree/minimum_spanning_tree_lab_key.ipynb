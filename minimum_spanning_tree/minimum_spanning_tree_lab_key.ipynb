{
 "cells": [
  {
   "cell_type": "markdown",
   "metadata": {},
   "source": [
    "# The Minimum Spanning Tree Problem"
   ]
  },
  {
   "cell_type": "markdown",
   "metadata": {},
   "source": [
    "**Objectives**\n",
    "\n",
    "- Introduce students to the graph theoretic concept of spanning\n",
    "  trees.\n",
    "- Show three different combinatorial algorithms for solving the\n",
    "  minimum spanning tree problem.\n",
    "- Demonstrate a practical use of minimum spanning trees.\n",
    "\n",
    "**Reading:** Read Handout 4 on the minimum spanning tree problem.\n",
    "\n",
    "**Brief description:** In this lab, we review some of the\n",
    "applications of the minimum spanning tree problem, along with the\n",
    "concept of the spanning tree in an undirected graph (and why these are\n",
    "the desired solutions for the problem), some algorithms for solving\n",
    "the minimal spanning tree (MST) problem, and sensitivity analysis for\n",
    "this problem.\n",
    "\n",
    "<font color='blue'> <b>Solutions are shown blue.</b> </font> <br>\n",
    "<font color='red'> <b>Instuctor comments are shown in red.</b> </font>"
   ]
  },
  {
   "cell_type": "code",
   "execution_count": 1,
   "metadata": {
    "scrolled": true
   },
   "outputs": [
    {
     "data": {
      "text/html": [
       "\n",
       "    <div class=\"bk-root\">\n",
       "        <a href=\"https://bokeh.org\" target=\"_blank\" class=\"bk-logo bk-logo-small bk-logo-notebook\"></a>\n",
       "        <span id=\"1001\">Loading BokehJS ...</span>\n",
       "    </div>"
      ]
     },
     "metadata": {},
     "output_type": "display_data"
    },
    {
     "data": {
      "application/javascript": [
       "\n",
       "(function(root) {\n",
       "  function now() {\n",
       "    return new Date();\n",
       "  }\n",
       "\n",
       "  var force = true;\n",
       "\n",
       "  if (typeof root._bokeh_onload_callbacks === \"undefined\" || force === true) {\n",
       "    root._bokeh_onload_callbacks = [];\n",
       "    root._bokeh_is_loading = undefined;\n",
       "  }\n",
       "\n",
       "  var JS_MIME_TYPE = 'application/javascript';\n",
       "  var HTML_MIME_TYPE = 'text/html';\n",
       "  var EXEC_MIME_TYPE = 'application/vnd.bokehjs_exec.v0+json';\n",
       "  var CLASS_NAME = 'output_bokeh rendered_html';\n",
       "\n",
       "  /**\n",
       "   * Render data to the DOM node\n",
       "   */\n",
       "  function render(props, node) {\n",
       "    var script = document.createElement(\"script\");\n",
       "    node.appendChild(script);\n",
       "  }\n",
       "\n",
       "  /**\n",
       "   * Handle when an output is cleared or removed\n",
       "   */\n",
       "  function handleClearOutput(event, handle) {\n",
       "    var cell = handle.cell;\n",
       "\n",
       "    var id = cell.output_area._bokeh_element_id;\n",
       "    var server_id = cell.output_area._bokeh_server_id;\n",
       "    // Clean up Bokeh references\n",
       "    if (id != null && id in Bokeh.index) {\n",
       "      Bokeh.index[id].model.document.clear();\n",
       "      delete Bokeh.index[id];\n",
       "    }\n",
       "\n",
       "    if (server_id !== undefined) {\n",
       "      // Clean up Bokeh references\n",
       "      var cmd = \"from bokeh.io.state import curstate; print(curstate().uuid_to_server['\" + server_id + \"'].get_sessions()[0].document.roots[0]._id)\";\n",
       "      cell.notebook.kernel.execute(cmd, {\n",
       "        iopub: {\n",
       "          output: function(msg) {\n",
       "            var id = msg.content.text.trim();\n",
       "            if (id in Bokeh.index) {\n",
       "              Bokeh.index[id].model.document.clear();\n",
       "              delete Bokeh.index[id];\n",
       "            }\n",
       "          }\n",
       "        }\n",
       "      });\n",
       "      // Destroy server and session\n",
       "      var cmd = \"import bokeh.io.notebook as ion; ion.destroy_server('\" + server_id + \"')\";\n",
       "      cell.notebook.kernel.execute(cmd);\n",
       "    }\n",
       "  }\n",
       "\n",
       "  /**\n",
       "   * Handle when a new output is added\n",
       "   */\n",
       "  function handleAddOutput(event, handle) {\n",
       "    var output_area = handle.output_area;\n",
       "    var output = handle.output;\n",
       "\n",
       "    // limit handleAddOutput to display_data with EXEC_MIME_TYPE content only\n",
       "    if ((output.output_type != \"display_data\") || (!output.data.hasOwnProperty(EXEC_MIME_TYPE))) {\n",
       "      return\n",
       "    }\n",
       "\n",
       "    var toinsert = output_area.element.find(\".\" + CLASS_NAME.split(' ')[0]);\n",
       "\n",
       "    if (output.metadata[EXEC_MIME_TYPE][\"id\"] !== undefined) {\n",
       "      toinsert[toinsert.length - 1].firstChild.textContent = output.data[JS_MIME_TYPE];\n",
       "      // store reference to embed id on output_area\n",
       "      output_area._bokeh_element_id = output.metadata[EXEC_MIME_TYPE][\"id\"];\n",
       "    }\n",
       "    if (output.metadata[EXEC_MIME_TYPE][\"server_id\"] !== undefined) {\n",
       "      var bk_div = document.createElement(\"div\");\n",
       "      bk_div.innerHTML = output.data[HTML_MIME_TYPE];\n",
       "      var script_attrs = bk_div.children[0].attributes;\n",
       "      for (var i = 0; i < script_attrs.length; i++) {\n",
       "        toinsert[toinsert.length - 1].firstChild.setAttribute(script_attrs[i].name, script_attrs[i].value);\n",
       "        toinsert[toinsert.length - 1].firstChild.textContent = bk_div.children[0].textContent\n",
       "      }\n",
       "      // store reference to server id on output_area\n",
       "      output_area._bokeh_server_id = output.metadata[EXEC_MIME_TYPE][\"server_id\"];\n",
       "    }\n",
       "  }\n",
       "\n",
       "  function register_renderer(events, OutputArea) {\n",
       "\n",
       "    function append_mime(data, metadata, element) {\n",
       "      // create a DOM node to render to\n",
       "      var toinsert = this.create_output_subarea(\n",
       "        metadata,\n",
       "        CLASS_NAME,\n",
       "        EXEC_MIME_TYPE\n",
       "      );\n",
       "      this.keyboard_manager.register_events(toinsert);\n",
       "      // Render to node\n",
       "      var props = {data: data, metadata: metadata[EXEC_MIME_TYPE]};\n",
       "      render(props, toinsert[toinsert.length - 1]);\n",
       "      element.append(toinsert);\n",
       "      return toinsert\n",
       "    }\n",
       "\n",
       "    /* Handle when an output is cleared or removed */\n",
       "    events.on('clear_output.CodeCell', handleClearOutput);\n",
       "    events.on('delete.Cell', handleClearOutput);\n",
       "\n",
       "    /* Handle when a new output is added */\n",
       "    events.on('output_added.OutputArea', handleAddOutput);\n",
       "\n",
       "    /**\n",
       "     * Register the mime type and append_mime function with output_area\n",
       "     */\n",
       "    OutputArea.prototype.register_mime_type(EXEC_MIME_TYPE, append_mime, {\n",
       "      /* Is output safe? */\n",
       "      safe: true,\n",
       "      /* Index of renderer in `output_area.display_order` */\n",
       "      index: 0\n",
       "    });\n",
       "  }\n",
       "\n",
       "  // register the mime type if in Jupyter Notebook environment and previously unregistered\n",
       "  if (root.Jupyter !== undefined) {\n",
       "    var events = require('base/js/events');\n",
       "    var OutputArea = require('notebook/js/outputarea').OutputArea;\n",
       "\n",
       "    if (OutputArea.prototype.mime_types().indexOf(EXEC_MIME_TYPE) == -1) {\n",
       "      register_renderer(events, OutputArea);\n",
       "    }\n",
       "  }\n",
       "\n",
       "  \n",
       "  if (typeof (root._bokeh_timeout) === \"undefined\" || force === true) {\n",
       "    root._bokeh_timeout = Date.now() + 5000;\n",
       "    root._bokeh_failed_load = false;\n",
       "  }\n",
       "\n",
       "  var NB_LOAD_WARNING = {'data': {'text/html':\n",
       "     \"<div style='background-color: #fdd'>\\n\"+\n",
       "     \"<p>\\n\"+\n",
       "     \"BokehJS does not appear to have successfully loaded. If loading BokehJS from CDN, this \\n\"+\n",
       "     \"may be due to a slow or bad network connection. Possible fixes:\\n\"+\n",
       "     \"</p>\\n\"+\n",
       "     \"<ul>\\n\"+\n",
       "     \"<li>re-rerun `output_notebook()` to attempt to load from CDN again, or</li>\\n\"+\n",
       "     \"<li>use INLINE resources instead, as so:</li>\\n\"+\n",
       "     \"</ul>\\n\"+\n",
       "     \"<code>\\n\"+\n",
       "     \"from bokeh.resources import INLINE\\n\"+\n",
       "     \"output_notebook(resources=INLINE)\\n\"+\n",
       "     \"</code>\\n\"+\n",
       "     \"</div>\"}};\n",
       "\n",
       "  function display_loaded() {\n",
       "    var el = document.getElementById(\"1001\");\n",
       "    if (el != null) {\n",
       "      el.textContent = \"BokehJS is loading...\";\n",
       "    }\n",
       "    if (root.Bokeh !== undefined) {\n",
       "      if (el != null) {\n",
       "        el.textContent = \"BokehJS \" + root.Bokeh.version + \" successfully loaded.\";\n",
       "      }\n",
       "    } else if (Date.now() < root._bokeh_timeout) {\n",
       "      setTimeout(display_loaded, 100)\n",
       "    }\n",
       "  }\n",
       "\n",
       "\n",
       "  function run_callbacks() {\n",
       "    try {\n",
       "      root._bokeh_onload_callbacks.forEach(function(callback) {\n",
       "        if (callback != null)\n",
       "          callback();\n",
       "      });\n",
       "    } finally {\n",
       "      delete root._bokeh_onload_callbacks\n",
       "    }\n",
       "    console.debug(\"Bokeh: all callbacks have finished\");\n",
       "  }\n",
       "\n",
       "  function load_libs(css_urls, js_urls, callback) {\n",
       "    if (css_urls == null) css_urls = [];\n",
       "    if (js_urls == null) js_urls = [];\n",
       "\n",
       "    root._bokeh_onload_callbacks.push(callback);\n",
       "    if (root._bokeh_is_loading > 0) {\n",
       "      console.debug(\"Bokeh: BokehJS is being loaded, scheduling callback at\", now());\n",
       "      return null;\n",
       "    }\n",
       "    if (js_urls == null || js_urls.length === 0) {\n",
       "      run_callbacks();\n",
       "      return null;\n",
       "    }\n",
       "    console.debug(\"Bokeh: BokehJS not loaded, scheduling load and callback at\", now());\n",
       "    root._bokeh_is_loading = css_urls.length + js_urls.length;\n",
       "\n",
       "    function on_load() {\n",
       "      root._bokeh_is_loading--;\n",
       "      if (root._bokeh_is_loading === 0) {\n",
       "        console.debug(\"Bokeh: all BokehJS libraries/stylesheets loaded\");\n",
       "        run_callbacks()\n",
       "      }\n",
       "    }\n",
       "\n",
       "    function on_error() {\n",
       "      console.error(\"failed to load \" + url);\n",
       "    }\n",
       "\n",
       "    for (var i = 0; i < css_urls.length; i++) {\n",
       "      var url = css_urls[i];\n",
       "      const element = document.createElement(\"link\");\n",
       "      element.onload = on_load;\n",
       "      element.onerror = on_error;\n",
       "      element.rel = \"stylesheet\";\n",
       "      element.type = \"text/css\";\n",
       "      element.href = url;\n",
       "      console.debug(\"Bokeh: injecting link tag for BokehJS stylesheet: \", url);\n",
       "      document.body.appendChild(element);\n",
       "    }\n",
       "\n",
       "    const hashes = {\"https://cdn.bokeh.org/bokeh/release/bokeh-2.2.3.min.js\": \"T2yuo9Oe71Cz/I4X9Ac5+gpEa5a8PpJCDlqKYO0CfAuEszu1JrXLl8YugMqYe3sM\", \"https://cdn.bokeh.org/bokeh/release/bokeh-widgets-2.2.3.min.js\": \"98GDGJ0kOMCUMUePhksaQ/GYgB3+NH9h996V88sh3aOiUNX3N+fLXAtry6xctSZ6\", \"https://cdn.bokeh.org/bokeh/release/bokeh-tables-2.2.3.min.js\": \"89bArO+nlbP3sgakeHjCo1JYxYR5wufVgA3IbUvDY+K7w4zyxJqssu7wVnfeKCq8\"};\n",
       "\n",
       "    for (var i = 0; i < js_urls.length; i++) {\n",
       "      var url = js_urls[i];\n",
       "      var element = document.createElement('script');\n",
       "      element.onload = on_load;\n",
       "      element.onerror = on_error;\n",
       "      element.async = false;\n",
       "      element.src = url;\n",
       "      if (url in hashes) {\n",
       "        element.crossOrigin = \"anonymous\";\n",
       "        element.integrity = \"sha384-\" + hashes[url];\n",
       "      }\n",
       "      console.debug(\"Bokeh: injecting script tag for BokehJS library: \", url);\n",
       "      document.head.appendChild(element);\n",
       "    }\n",
       "  };\n",
       "\n",
       "  function inject_raw_css(css) {\n",
       "    const element = document.createElement(\"style\");\n",
       "    element.appendChild(document.createTextNode(css));\n",
       "    document.body.appendChild(element);\n",
       "  }\n",
       "\n",
       "  \n",
       "  var js_urls = [\"https://cdn.bokeh.org/bokeh/release/bokeh-2.2.3.min.js\", \"https://cdn.bokeh.org/bokeh/release/bokeh-widgets-2.2.3.min.js\", \"https://cdn.bokeh.org/bokeh/release/bokeh-tables-2.2.3.min.js\"];\n",
       "  var css_urls = [];\n",
       "  \n",
       "\n",
       "  var inline_js = [\n",
       "    function(Bokeh) {\n",
       "      Bokeh.set_log_level(\"info\");\n",
       "    },\n",
       "    function(Bokeh) {\n",
       "    \n",
       "    \n",
       "    }\n",
       "  ];\n",
       "\n",
       "  function run_inline_js() {\n",
       "    \n",
       "    if (root.Bokeh !== undefined || force === true) {\n",
       "      \n",
       "    for (var i = 0; i < inline_js.length; i++) {\n",
       "      inline_js[i].call(root, root.Bokeh);\n",
       "    }\n",
       "    if (force === true) {\n",
       "        display_loaded();\n",
       "      }} else if (Date.now() < root._bokeh_timeout) {\n",
       "      setTimeout(run_inline_js, 100);\n",
       "    } else if (!root._bokeh_failed_load) {\n",
       "      console.log(\"Bokeh: BokehJS failed to load within specified timeout.\");\n",
       "      root._bokeh_failed_load = true;\n",
       "    } else if (force !== true) {\n",
       "      var cell = $(document.getElementById(\"1001\")).parents('.cell').data().cell;\n",
       "      cell.output_area.append_execute_result(NB_LOAD_WARNING)\n",
       "    }\n",
       "\n",
       "  }\n",
       "\n",
       "  if (root._bokeh_is_loading === 0) {\n",
       "    console.debug(\"Bokeh: BokehJS loaded, going straight to plotting\");\n",
       "    run_inline_js();\n",
       "  } else {\n",
       "    load_libs(css_urls, js_urls, function() {\n",
       "      console.debug(\"Bokeh: BokehJS plotting callback run at\", now());\n",
       "      run_inline_js();\n",
       "    });\n",
       "  }\n",
       "}(window));"
      ],
      "application/vnd.bokehjs_load.v0+json": "\n(function(root) {\n  function now() {\n    return new Date();\n  }\n\n  var force = true;\n\n  if (typeof root._bokeh_onload_callbacks === \"undefined\" || force === true) {\n    root._bokeh_onload_callbacks = [];\n    root._bokeh_is_loading = undefined;\n  }\n\n  \n\n  \n  if (typeof (root._bokeh_timeout) === \"undefined\" || force === true) {\n    root._bokeh_timeout = Date.now() + 5000;\n    root._bokeh_failed_load = false;\n  }\n\n  var NB_LOAD_WARNING = {'data': {'text/html':\n     \"<div style='background-color: #fdd'>\\n\"+\n     \"<p>\\n\"+\n     \"BokehJS does not appear to have successfully loaded. If loading BokehJS from CDN, this \\n\"+\n     \"may be due to a slow or bad network connection. Possible fixes:\\n\"+\n     \"</p>\\n\"+\n     \"<ul>\\n\"+\n     \"<li>re-rerun `output_notebook()` to attempt to load from CDN again, or</li>\\n\"+\n     \"<li>use INLINE resources instead, as so:</li>\\n\"+\n     \"</ul>\\n\"+\n     \"<code>\\n\"+\n     \"from bokeh.resources import INLINE\\n\"+\n     \"output_notebook(resources=INLINE)\\n\"+\n     \"</code>\\n\"+\n     \"</div>\"}};\n\n  function display_loaded() {\n    var el = document.getElementById(\"1001\");\n    if (el != null) {\n      el.textContent = \"BokehJS is loading...\";\n    }\n    if (root.Bokeh !== undefined) {\n      if (el != null) {\n        el.textContent = \"BokehJS \" + root.Bokeh.version + \" successfully loaded.\";\n      }\n    } else if (Date.now() < root._bokeh_timeout) {\n      setTimeout(display_loaded, 100)\n    }\n  }\n\n\n  function run_callbacks() {\n    try {\n      root._bokeh_onload_callbacks.forEach(function(callback) {\n        if (callback != null)\n          callback();\n      });\n    } finally {\n      delete root._bokeh_onload_callbacks\n    }\n    console.debug(\"Bokeh: all callbacks have finished\");\n  }\n\n  function load_libs(css_urls, js_urls, callback) {\n    if (css_urls == null) css_urls = [];\n    if (js_urls == null) js_urls = [];\n\n    root._bokeh_onload_callbacks.push(callback);\n    if (root._bokeh_is_loading > 0) {\n      console.debug(\"Bokeh: BokehJS is being loaded, scheduling callback at\", now());\n      return null;\n    }\n    if (js_urls == null || js_urls.length === 0) {\n      run_callbacks();\n      return null;\n    }\n    console.debug(\"Bokeh: BokehJS not loaded, scheduling load and callback at\", now());\n    root._bokeh_is_loading = css_urls.length + js_urls.length;\n\n    function on_load() {\n      root._bokeh_is_loading--;\n      if (root._bokeh_is_loading === 0) {\n        console.debug(\"Bokeh: all BokehJS libraries/stylesheets loaded\");\n        run_callbacks()\n      }\n    }\n\n    function on_error() {\n      console.error(\"failed to load \" + url);\n    }\n\n    for (var i = 0; i < css_urls.length; i++) {\n      var url = css_urls[i];\n      const element = document.createElement(\"link\");\n      element.onload = on_load;\n      element.onerror = on_error;\n      element.rel = \"stylesheet\";\n      element.type = \"text/css\";\n      element.href = url;\n      console.debug(\"Bokeh: injecting link tag for BokehJS stylesheet: \", url);\n      document.body.appendChild(element);\n    }\n\n    const hashes = {\"https://cdn.bokeh.org/bokeh/release/bokeh-2.2.3.min.js\": \"T2yuo9Oe71Cz/I4X9Ac5+gpEa5a8PpJCDlqKYO0CfAuEszu1JrXLl8YugMqYe3sM\", \"https://cdn.bokeh.org/bokeh/release/bokeh-widgets-2.2.3.min.js\": \"98GDGJ0kOMCUMUePhksaQ/GYgB3+NH9h996V88sh3aOiUNX3N+fLXAtry6xctSZ6\", \"https://cdn.bokeh.org/bokeh/release/bokeh-tables-2.2.3.min.js\": \"89bArO+nlbP3sgakeHjCo1JYxYR5wufVgA3IbUvDY+K7w4zyxJqssu7wVnfeKCq8\"};\n\n    for (var i = 0; i < js_urls.length; i++) {\n      var url = js_urls[i];\n      var element = document.createElement('script');\n      element.onload = on_load;\n      element.onerror = on_error;\n      element.async = false;\n      element.src = url;\n      if (url in hashes) {\n        element.crossOrigin = \"anonymous\";\n        element.integrity = \"sha384-\" + hashes[url];\n      }\n      console.debug(\"Bokeh: injecting script tag for BokehJS library: \", url);\n      document.head.appendChild(element);\n    }\n  };\n\n  function inject_raw_css(css) {\n    const element = document.createElement(\"style\");\n    element.appendChild(document.createTextNode(css));\n    document.body.appendChild(element);\n  }\n\n  \n  var js_urls = [\"https://cdn.bokeh.org/bokeh/release/bokeh-2.2.3.min.js\", \"https://cdn.bokeh.org/bokeh/release/bokeh-widgets-2.2.3.min.js\", \"https://cdn.bokeh.org/bokeh/release/bokeh-tables-2.2.3.min.js\"];\n  var css_urls = [];\n  \n\n  var inline_js = [\n    function(Bokeh) {\n      Bokeh.set_log_level(\"info\");\n    },\n    function(Bokeh) {\n    \n    \n    }\n  ];\n\n  function run_inline_js() {\n    \n    if (root.Bokeh !== undefined || force === true) {\n      \n    for (var i = 0; i < inline_js.length; i++) {\n      inline_js[i].call(root, root.Bokeh);\n    }\n    if (force === true) {\n        display_loaded();\n      }} else if (Date.now() < root._bokeh_timeout) {\n      setTimeout(run_inline_js, 100);\n    } else if (!root._bokeh_failed_load) {\n      console.log(\"Bokeh: BokehJS failed to load within specified timeout.\");\n      root._bokeh_failed_load = true;\n    } else if (force !== true) {\n      var cell = $(document.getElementById(\"1001\")).parents('.cell').data().cell;\n      cell.output_area.append_execute_result(NB_LOAD_WARNING)\n    }\n\n  }\n\n  if (root._bokeh_is_loading === 0) {\n    console.debug(\"Bokeh: BokehJS loaded, going straight to plotting\");\n    run_inline_js();\n  } else {\n    load_libs(css_urls, js_urls, function() {\n      console.debug(\"Bokeh: BokehJS plotting callback run at\", now());\n      run_inline_js();\n    });\n  }\n}(window));"
     },
     "metadata": {},
     "output_type": "display_data"
    }
   ],
   "source": [
    "# Imports -- don't forget to run this cell!\n",
    "import networkx as nx\n",
    "import vinal as vl\n",
    "import pandas as pd\n",
    "import pickle\n",
    "from bokeh.io import output_notebook, show\n",
    "output_notebook()"
   ]
  },
  {
   "cell_type": "markdown",
   "metadata": {},
   "source": [
    "## Part I: An Application: Communication Network Design\n",
    "\n",
    "You are the engineer in charge of designing a new high speed fiber optic Internet network between several Operations Research departments throughout the U.S.. Your objective is to design a system that connects various campuses. However, so that this network can be brought online quickly, we must install the fiber optic line within existing physical infrastructure. The possible physical cable routes between cities and the cost of installing the fiber optic cable (in millions of dollars) are given in two CSV files."
   ]
  },
  {
   "cell_type": "code",
   "execution_count": 27,
   "metadata": {},
   "outputs": [
    {
     "data": {
      "text/html": [
       "\n",
       "\n",
       "\n",
       "\n",
       "\n",
       "\n",
       "  <div class=\"bk-root\" id=\"4ac56857-c202-42fc-96c0-361833682973\" data-root-id=\"4756\"></div>\n"
      ]
     },
     "metadata": {},
     "output_type": "display_data"
    },
    {
     "data": {
      "application/javascript": [
       "(function(root) {\n",
       "  function embed_document(root) {\n",
       "    \n",
       "  var docs_json = {\"f98877d6-46fc-4920-8aa1-479d740b957c\":{\"roots\":{\"references\":[{\"attributes\":{\"children\":[[{\"id\":\"4680\"},0,0],[{\"id\":\"4740\"},1,0]]},\"id\":\"4756\",\"type\":\"GridBox\"},{\"attributes\":{\"end\":122.2,\"start\":-18.200000000000003},\"id\":\"4685\",\"type\":\"Range1d\"},{\"attributes\":{},\"id\":\"4748\",\"type\":\"UnionRenderers\"},{\"attributes\":{},\"id\":\"4753\",\"type\":\"Selection\"},{\"attributes\":{\"line_color\":{\"value\":\"white\"},\"line_width\":{\"value\":6},\"xs\":{\"field\":\"xs\"},\"ys\":{\"field\":\"ys\"}},\"id\":\"4730\",\"type\":\"MultiLine\"},{\"attributes\":{},\"id\":\"4750\",\"type\":\"UnionRenderers\"},{\"attributes\":{\"align\":\"center\",\"width\":300},\"id\":\"4737\",\"type\":\"Div\"},{\"attributes\":{},\"id\":\"4754\",\"type\":\"UnionRenderers\"},{\"attributes\":{\"children\":[{\"id\":\"4737\"}]},\"id\":\"4740\",\"type\":\"Row\"},{\"attributes\":{},\"id\":\"4702\",\"type\":\"SaveTool\"},{\"attributes\":{\"data\":{\"text\":[4,24,12,19,20,8,10,6,10,25,14,18,18,14,4,8,8,12,14,3,3,1,2,4,6,2,6,4],\"x\":{\"__ndarray__\":\"AgAAAAAAKkAAAAAAAKBQQAEAAAAAAEdAAgAAAABgUkACAAAAAOBYQP//////v2FAAAAAAAAQYkAAAAAAAPBgQAAAAAAA4FZAAAAAAACgXED//////w9jQAAAAAAAEGJAAAAAAADAYEAAAAAAAPBkQAAAAAAAIGRAAAAAAADwY0AAAAAAANBiQAEAAAAAQGdAAAAAAACQZ0AAAAAAAEBpQAAAAAAAQGhAAQAAAADAaUAAAAAAADBpQP//////L2hAAAAAAAAgZkABAAAAAFBpQAAAAAAAsGZAAAAAAAAgY0A=\",\"dtype\":\"float64\",\"order\":\"little\",\"shape\":[28]},\"y\":{\"__ndarray__\":\"AAAAAABAUED///////9UQAAAAAAAgEZA//////9/U0AAAAAAAABQQAEAAAAAoFZAAAAAAAAgWkAAAAAAACBaQAAAAAAAACdAAAAAAADATED+//////8fwAAAAAAAAC5AAAAAAAAAQ0ACAAAAAIBOQAEAAAAAoFZAAQAAAACAWEABAAAAAIBYQAAAAAAAAC5AAAAAAAAAT0AAAAAAAMBWQAAAAAAAYFZAAAAAAABAWUABAAAAAOBYQAEAAAAAgFhAAQAAAADAV0AAAAAAACBaQAAAAAAAAFlAAQAAAAAAXEA=\",\"dtype\":\"float64\",\"order\":\"little\",\"shape\":[28]}},\"selected\":{\"id\":\"4747\"},\"selection_policy\":{\"id\":\"4748\"}},\"id\":\"4734\",\"type\":\"ColumnDataSource\"},{\"attributes\":{\"line_cap\":\"round\",\"line_color\":{\"field\":\"line_color\"},\"line_width\":{\"value\":5},\"xs\":{\"field\":\"xs\"},\"ys\":{\"field\":\"ys\"}},\"id\":\"4725\",\"type\":\"MultiLine\"},{\"attributes\":{},\"id\":\"4749\",\"type\":\"Selection\"},{\"attributes\":{},\"id\":\"4743\",\"type\":\"BasicTickFormatter\"},{\"attributes\":{\"line_cap\":\"round\",\"line_color\":{\"field\":\"line_color\"},\"line_width\":{\"value\":5},\"xs\":{\"field\":\"xs\"},\"ys\":{\"field\":\"ys\"}},\"id\":\"4724\",\"type\":\"MultiLine\"},{\"attributes\":{\"data_source\":{\"id\":\"4722\"},\"glyph\":{\"id\":\"4724\"},\"hover_glyph\":{\"id\":\"4726\"},\"level\":\"underlay\",\"muted_glyph\":null,\"nonselection_glyph\":{\"id\":\"4725\"},\"selection_glyph\":null,\"view\":{\"id\":\"4728\"}},\"id\":\"4727\",\"type\":\"GlyphRenderer\"},{\"attributes\":{\"overlay\":{\"id\":\"4705\"}},\"id\":\"4701\",\"type\":\"BoxZoomTool\"},{\"attributes\":{\"callback\":null,\"renderers\":[{\"id\":\"4720\"}],\"tooltips\":[[\"Index\",\"$index\"],[\"Name\",\"@name\"]]},\"id\":\"4738\",\"type\":\"HoverTool\"},{\"attributes\":{\"source\":{\"id\":\"4716\"}},\"id\":\"4721\",\"type\":\"CDSView\"},{\"attributes\":{},\"id\":\"4752\",\"type\":\"UnionRenderers\"},{\"attributes\":{\"end\":224.085,\"start\":-11.085},\"id\":\"4683\",\"type\":\"Range1d\"},{\"attributes\":{},\"id\":\"4689\",\"type\":\"LinearScale\"},{\"attributes\":{\"background_fill_color\":null,\"below\":[{\"id\":\"4691\"}],\"border_fill_color\":null,\"center\":[{\"id\":\"4694\"},{\"id\":\"4698\"},{\"id\":\"4735\"}],\"left\":[{\"id\":\"4695\"}],\"outline_line_color\":null,\"plot_height\":400,\"renderers\":[{\"id\":\"4720\"},{\"id\":\"4727\"},{\"id\":\"4732\"}],\"title\":{\"id\":\"4681\"},\"toolbar\":{\"id\":\"4706\"},\"toolbar_location\":null,\"x_range\":{\"id\":\"4683\"},\"x_scale\":{\"id\":\"4687\"},\"y_range\":{\"id\":\"4685\"},\"y_scale\":{\"id\":\"4689\"}},\"id\":\"4680\",\"subtype\":\"Figure\",\"type\":\"Plot\"},{\"attributes\":{\"data\":{\"line_color\":[\"#DFDFDF\",\"#DFDFDF\",\"#DFDFDF\",\"#DFDFDF\",\"#DFDFDF\",\"#DFDFDF\",\"#DFDFDF\",\"#DFDFDF\",\"#DFDFDF\",\"#DFDFDF\",\"#DFDFDF\",\"#DFDFDF\",\"#DFDFDF\",\"#DFDFDF\",\"#DFDFDF\",\"#DFDFDF\",\"#DFDFDF\",\"#DFDFDF\",\"#DFDFDF\",\"#DFDFDF\",\"#DFDFDF\",\"#DFDFDF\",\"#DFDFDF\",\"#DFDFDF\",\"#DFDFDF\",\"#DFDFDF\",\"#DFDFDF\",\"#DFDFDF\"],\"u\":[0,0,1,1,14,14,14,14,2,2,3,3,3,11,11,11,11,4,5,6,6,7,7,15,15,8,9,12],\"v\":[1,14,2,14,2,11,12,13,3,11,4,5,11,5,10,12,13,5,6,7,15,8,9,9,10,9,10,13],\"weight\":[4,24,12,19,20,8,10,6,10,25,14,18,18,14,4,8,8,12,14,3,3,1,2,4,6,2,6,4],\"xs\":[[6,20],[6,127],[20,72],[20,127],[127,72],[127,157],[127,162],[127,144],[72,111],[72,157],[111,194],[111,178],[111,157],[157,178],[157,165],[157,162],[157,144],[194,178],[178,199],[199,205],[199,189],[205,207],[205,198],[189,198],[189,165],[207,198],[198,165],[162,144]],\"ys\":[[71,59],[71,97],[59,31],[59,97],[97,31],[97,84],[97,112],[97,112],[31,-8],[31,84],[-8,-8],[-8,38],[-8,84],[84,38],[84,97],[84,112],[84,112],[-8,38],[38,86],[86,96],[86,93],[96,106],[96,103],[93,103],[93,97],[106,103],[103,97],[112,112]]},\"selected\":{\"id\":\"4751\"},\"selection_policy\":{\"id\":\"4752\"}},\"id\":\"4722\",\"type\":\"ColumnDataSource\"},{\"attributes\":{\"source\":{\"id\":\"4722\"}},\"id\":\"4728\",\"type\":\"CDSView\"},{\"attributes\":{\"formatter\":{\"id\":\"4745\"},\"ticker\":{\"id\":\"4692\"},\"visible\":false},\"id\":\"4691\",\"type\":\"LinearAxis\"},{\"attributes\":{},\"id\":\"4747\",\"type\":\"Selection\"},{\"attributes\":{\"axis\":{\"id\":\"4695\"},\"dimension\":1,\"grid_line_color\":null,\"ticker\":null},\"id\":\"4698\",\"type\":\"Grid\"},{\"attributes\":{\"active_drag\":null,\"active_inspect\":\"auto\",\"active_multi\":null,\"active_scroll\":null,\"active_tap\":\"auto\",\"logo\":null,\"tools\":[{\"id\":\"4699\"},{\"id\":\"4700\"},{\"id\":\"4701\"},{\"id\":\"4702\"},{\"id\":\"4703\"},{\"id\":\"4704\"},{\"id\":\"4738\"}]},\"id\":\"4706\",\"type\":\"Toolbar\"},{\"attributes\":{\"formatter\":{\"id\":\"4743\"},\"ticker\":{\"id\":\"4696\"},\"visible\":false},\"id\":\"4695\",\"type\":\"LinearAxis\"},{\"attributes\":{},\"id\":\"4696\",\"type\":\"BasicTicker\"},{\"attributes\":{\"data\":{\"fill_color\":[\"#5e92f3\",\"#5e92f3\",\"#5e92f3\",\"#5e92f3\",\"#5e92f3\",\"#5e92f3\",\"#5e92f3\",\"#5e92f3\",\"#5e92f3\",\"#5e92f3\",\"#5e92f3\",\"#5e92f3\",\"#5e92f3\",\"#5e92f3\",\"#5e92f3\",\"#5e92f3\"],\"line_color\":[\"#003c8f\",\"#003c8f\",\"#003c8f\",\"#003c8f\",\"#003c8f\",\"#003c8f\",\"#003c8f\",\"#003c8f\",\"#003c8f\",\"#003c8f\",\"#003c8f\",\"#003c8f\",\"#003c8f\",\"#003c8f\",\"#003c8f\",\"#003c8f\"],\"line_width\":[3,3,3,3,3,3,3,3,3,3,3,3,3,3,3,3],\"x\":[6,20,72,111,194,178,199,205,207,198,165,157,162,144,127,189],\"y\":[71,59,31,-8,-8,38,86,96,106,103,97,84,112,112,97,93]},\"selected\":{\"id\":\"4749\"},\"selection_policy\":{\"id\":\"4750\"}},\"id\":\"4716\",\"type\":\"ColumnDataSource\"},{\"attributes\":{\"data_source\":{\"id\":\"4716\"},\"glyph\":{\"id\":\"4718\"},\"hover_glyph\":null,\"muted_glyph\":null,\"nonselection_glyph\":{\"id\":\"4719\"},\"selection_glyph\":null,\"view\":{\"id\":\"4721\"}},\"id\":\"4720\",\"type\":\"GlyphRenderer\"},{\"attributes\":{\"data\":{\"xs\":[[11.301090324745442,14.698909675254566],[63.069812290021225,69.93018770997878],[42.976862092036946,49.02313790796307],[70.22089160863857,76.77910839136149],[101.60977267069882,97.39022732930124],[139.8831103628236,144.11688963717637],[141.31806115805978,147.68193884194022],[133.82482514008294,137.17517485991706],[89.14670153841959,93.85329846158044],[111.6050606932186,117.3949393067814],[148.97244999999998,156.02755],[141.7005138802247,147.2994861197753],[132.55841471316512,135.44158528683488],[166.16509629035858,168.83490370964145],[159.86494734502958,162.13505265497042],[159.128646851194,159.87135314880598],[151.4028559428779,149.5971440571221],[187.04906838665292,184.9509316133471],[187.21317691926478,189.78682308073522],[200.88690370215798,203.11309629784205],[195.85282232314876,192.14717767685121],[205.58539740586426,206.41460259413577],[203.06886564105358,199.9311343589464],[192.02424879142615,194.9757512085738],[179.31200007568697,174.68799992431306],[204.7039715447302,200.29602845526986],[183.80467874454894,179.19532125545106],[155.3517,150.6483]],\"ys\":[[66.45620829307533,63.543791706924665],[83.26293487223596,84.73706512776401],[46.62784348890318,43.372156511096804],[76.83545683297443,79.16454316702556],[66.53172720483855,61.46827279516147],[91.41731884277647,89.58268115722356],[103.13631192488276,105.86368807511724],[103.0219045353673,105.9780954646327],[13.85329846158043,9.146701538419578],[55.694920196948075,59.305079803051925],[-7.999999999999998,-7.999999999999998],[13.077964753587104,16.92203524641289],[35.11682942633026,40.883170573669744],[63.92407479254794,58.07592520745206],[88.65553943567308,92.34446056432695],[95.92042236668642,100.07957763331359],[96.05538719995533,99.9446128000447],[11.98392838837291,18.016071611627098],[59.05869010117662,64.94130989882336],[89.14483950359659,92.85516049640341],[88.20302437379587,90.79697562620413],[98.9269870293212,103.07301297067883],[97.93113435894641,101.0688656410536],[96.360276434918,99.63972356508202],[94.6146666540522,95.38533334594783],[105.23465718157672,103.76534281842328],[100.41903249900889,99.58096750099111],[112.00000000000001,112.00000000000001]]},\"selected\":{\"id\":\"4753\"},\"selection_policy\":{\"id\":\"4754\"}},\"id\":\"4729\",\"type\":\"ColumnDataSource\"},{\"attributes\":{\"fill_color\":{\"field\":\"fill_color\"},\"line_color\":{\"field\":\"line_color\"},\"line_width\":{\"field\":\"line_width\"},\"size\":{\"units\":\"screen\",\"value\":11},\"x\":{\"field\":\"x\"},\"y\":{\"field\":\"y\"}},\"id\":\"4718\",\"type\":\"Circle\"},{\"attributes\":{},\"id\":\"4692\",\"type\":\"BasicTicker\"},{\"attributes\":{},\"id\":\"4745\",\"type\":\"BasicTickFormatter\"},{\"attributes\":{\"text\":\"\"},\"id\":\"4681\",\"type\":\"Title\"},{\"attributes\":{\"axis\":{\"id\":\"4691\"},\"grid_line_color\":null,\"ticker\":null},\"id\":\"4694\",\"type\":\"Grid\"},{\"attributes\":{},\"id\":\"4700\",\"type\":\"WheelZoomTool\"},{\"attributes\":{\"fill_color\":{\"field\":\"fill_color\"},\"line_color\":{\"field\":\"line_color\"},\"line_width\":{\"field\":\"line_width\"},\"size\":{\"units\":\"screen\",\"value\":11},\"x\":{\"field\":\"x\"},\"y\":{\"field\":\"y\"}},\"id\":\"4719\",\"type\":\"Circle\"},{\"attributes\":{\"line_cap\":\"round\",\"line_color\":{\"value\":\"#404040\"},\"line_width\":{\"value\":5},\"xs\":{\"field\":\"xs\"},\"ys\":{\"field\":\"ys\"}},\"id\":\"4726\",\"type\":\"MultiLine\"},{\"attributes\":{},\"id\":\"4699\",\"type\":\"PanTool\"},{\"attributes\":{\"source\":{\"id\":\"4729\"}},\"id\":\"4733\",\"type\":\"CDSView\"},{\"attributes\":{\"source\":{\"id\":\"4734\"},\"text_align\":\"center\",\"text_baseline\":\"middle\",\"text_color\":{\"value\":\"black\"},\"text_font_size\":{\"value\":\"13px\"},\"x\":{\"field\":\"x\"},\"y\":{\"field\":\"y\"}},\"id\":\"4735\",\"type\":\"LabelSet\"},{\"attributes\":{},\"id\":\"4687\",\"type\":\"LinearScale\"},{\"attributes\":{},\"id\":\"4751\",\"type\":\"Selection\"},{\"attributes\":{\"bottom_units\":\"screen\",\"fill_alpha\":0.5,\"fill_color\":\"lightgrey\",\"left_units\":\"screen\",\"level\":\"overlay\",\"line_alpha\":1.0,\"line_color\":\"black\",\"line_dash\":[4,4],\"line_width\":2,\"right_units\":\"screen\",\"top_units\":\"screen\"},\"id\":\"4705\",\"type\":\"BoxAnnotation\"},{\"attributes\":{\"line_color\":{\"value\":\"white\"},\"line_width\":{\"value\":6},\"xs\":{\"field\":\"xs\"},\"ys\":{\"field\":\"ys\"}},\"id\":\"4731\",\"type\":\"MultiLine\"},{\"attributes\":{},\"id\":\"4704\",\"type\":\"HelpTool\"},{\"attributes\":{},\"id\":\"4703\",\"type\":\"ResetTool\"},{\"attributes\":{\"data_source\":{\"id\":\"4729\"},\"glyph\":{\"id\":\"4730\"},\"hover_glyph\":null,\"level\":\"guide\",\"muted_glyph\":null,\"nonselection_glyph\":{\"id\":\"4731\"},\"selection_glyph\":null,\"view\":{\"id\":\"4733\"}},\"id\":\"4732\",\"type\":\"GlyphRenderer\"}],\"root_ids\":[\"4756\"]},\"title\":\"Bokeh Application\",\"version\":\"2.2.3\"}};\n",
       "  var render_items = [{\"docid\":\"f98877d6-46fc-4920-8aa1-479d740b957c\",\"root_ids\":[\"4756\"],\"roots\":{\"4756\":\"4ac56857-c202-42fc-96c0-361833682973\"}}];\n",
       "  root.Bokeh.embed.embed_items_notebook(docs_json, render_items);\n",
       "\n",
       "  }\n",
       "  if (root.Bokeh !== undefined) {\n",
       "    embed_document(root);\n",
       "  } else {\n",
       "    var attempts = 0;\n",
       "    var timer = setInterval(function(root) {\n",
       "      if (root.Bokeh !== undefined) {\n",
       "        clearInterval(timer);\n",
       "        embed_document(root);\n",
       "      } else {\n",
       "        attempts++;\n",
       "        if (attempts > 100) {\n",
       "          clearInterval(timer);\n",
       "          console.log(\"Bokeh: ERROR: Unable to run BokehJS code because BokehJS library is missing\");\n",
       "        }\n",
       "      }\n",
       "    }, 10, root)\n",
       "  }\n",
       "})(window);"
      ],
      "application/vnd.bokehjs_exec.v0+json": ""
     },
     "metadata": {
      "application/vnd.bokehjs_exec.v0+json": {
       "id": "4756"
      }
     },
     "output_type": "display_data"
    }
   ],
   "source": [
    "# Load the data and create a graph G\n",
    "nodes = pd.read_csv('data/fiber_optic_nodes.csv', index_col=0)\n",
    "edges = pd.read_csv('data/fiber_optic_edges.csv', index_col=0)\n",
    "G = vl.create_network(nodes, edges)\n",
    "\n",
    "# Plot the graph G\n",
    "show(vl.tree_plot(G, tree=[], width=600))"
   ]
  },
  {
   "cell_type": "markdown",
   "metadata": {},
   "source": [
    "How do you suppose you would go about designing such a system? Since you can only use the edges shown in the graph, you must choose a subgraph of the given graph, or in other words, a subset of the possible edges. Every location must be serviced which means that the subgraph must be spanning. You should be able to get to any location from any other location. This means the subgraph should be connected. Because you are trying to minimize cost, the subgraph should also be minimal, meaning that you cannot remove any of the edges while maintaining the other necessary properties. A minimal connected spanning subgraph is called a spanning tree. There are many other ways of defining trees. In operations research terminology, we want to find a minimum spanning tree of the given graph."
   ]
  },
  {
   "cell_type": "code",
   "execution_count": 3,
   "metadata": {},
   "outputs": [
    {
     "data": {
      "text/html": [
       "\n",
       "\n",
       "\n",
       "\n",
       "\n",
       "\n",
       "  <div class=\"bk-root\" id=\"09ebba1a-b819-4335-a30d-fbdcd2fa137d\" data-root-id=\"1246\"></div>\n"
      ]
     },
     "metadata": {},
     "output_type": "display_data"
    },
    {
     "data": {
      "application/javascript": [
       "(function(root) {\n",
       "  function embed_document(root) {\n",
       "    \n",
       "  var docs_json = {\"2fab59db-c2c7-412e-9085-0b689fa853bf\":{\"roots\":{\"references\":[{\"attributes\":{\"children\":[[{\"id\":\"1163\"},0,0],[{\"id\":\"1228\"},1,0]]},\"id\":\"1246\",\"type\":\"GridBox\"},{\"attributes\":{\"fill_color\":{\"field\":\"fill_color\"},\"line_color\":{\"field\":\"line_color\"},\"line_width\":{\"field\":\"line_width\"},\"size\":{\"units\":\"screen\",\"value\":11},\"x\":{\"field\":\"x\"},\"y\":{\"field\":\"y\"}},\"id\":\"1202\",\"type\":\"Circle\"},{\"attributes\":{},\"id\":\"1186\",\"type\":\"ResetTool\"},{\"attributes\":{},\"id\":\"1239\",\"type\":\"Selection\"},{\"attributes\":{\"active_drag\":null,\"active_inspect\":\"auto\",\"active_multi\":null,\"active_scroll\":null,\"active_tap\":\"auto\",\"logo\":null,\"tools\":[{\"id\":\"1182\"},{\"id\":\"1183\"},{\"id\":\"1184\"},{\"id\":\"1185\"},{\"id\":\"1186\"},{\"id\":\"1187\"},{\"id\":\"1226\"}]},\"id\":\"1189\",\"type\":\"Toolbar\"},{\"attributes\":{},\"id\":\"1187\",\"type\":\"HelpTool\"},{\"attributes\":{\"data_source\":{\"id\":\"1199\"},\"glyph\":{\"id\":\"1201\"},\"hover_glyph\":null,\"muted_glyph\":null,\"nonselection_glyph\":{\"id\":\"1202\"},\"selection_glyph\":null,\"view\":{\"id\":\"1204\"}},\"id\":\"1203\",\"type\":\"GlyphRenderer\"},{\"attributes\":{},\"id\":\"1183\",\"type\":\"WheelZoomTool\"},{\"attributes\":{},\"id\":\"1241\",\"type\":\"Selection\"},{\"attributes\":{\"text\":\"\"},\"id\":\"1164\",\"type\":\"Title\"},{\"attributes\":{\"data\":{\"xs\":[[11.867393549830293,14.1326064501697],[64.2132081933475,68.78679180665253],[43.98457472802465,48.01542527197538],[71.31392773909235,75.68607226090765],[100.9065151137992,98.09348488620083],[140.5887402418824,143.4112597581176],[142.37870743870653,146.62129256129347],[134.3832167600553,136.6167832399447],[89.9311343589464,93.06886564105363],[112.57004046214576,116.42995953785424],[150.1483,154.85170000000002],[142.6336759201498,146.3663240798502],[133.03894314211007,134.96105685788993],[166.61006419357236,168.38993580642764],[160.24329823001975,161.75670176998028],[159.25243123412935,159.74756876587068],[151.1019039619186,149.89809603808138],[186.69937892443528,185.30062107556475],[187.6421179461765,189.35788205382346],[201.25793580143863,202.74206419856134],[195.23521488209917,192.7647851179008],[205.72359827057616,206.2764017294238],[202.54591042736908,200.45408957263095],[192.51616586095076,194.4838341390492],[178.54133338379128,175.4586666162087],[203.96931436315347,201.03068563684658],[183.03645249636594,179.96354750363403],[154.5678,151.4322]],\"ys\":[[65.9708055287169,64.02919447128312],[83.50862324815732,84.4913767518427],[46.085228992602126,43.914771007397874],[77.22363788864963,78.77636211135038],[65.68781813655903,62.31218186344098],[91.11154589518429,89.88845410481571],[103.59087461658854,105.40912538341149],[103.51460302357822,105.48539697642181],[13.06886564105362,9.93113435894638],[56.296613464632046,58.703386535367954],[-7.999999999999998,-7.999999999999998],[13.718643169058069,16.281356830941924],[36.07788628422017,39.922113715779815],[62.949383195031956,59.05061680496806],[89.27035962378204,91.72964037621796],[96.61361491112429,99.38638508887571],[96.70359146663688,99.29640853336312],[12.989285592248606,17.010714407751394],[60.03912673411776,63.960873265882256],[89.76322633573106,92.23677366426892],[88.63534958253058,90.36465041746942],[99.61799135288078,102.38200864711922],[98.45408957263092,100.54591042736905],[96.90685095661199,99.09314904338801],[94.74311110270146,95.25688889729855],[104.98977145438448,104.01022854561555],[100.27935499933926,99.72064500066074],[112.00000000000001,112.00000000000001]]},\"selected\":{\"id\":\"1239\"},\"selection_policy\":{\"id\":\"1238\"}},\"id\":\"1212\",\"type\":\"ColumnDataSource\"},{\"attributes\":{},\"id\":\"1182\",\"type\":\"PanTool\"},{\"attributes\":{\"callback\":null,\"renderers\":[{\"id\":\"1203\"}],\"tooltips\":[[\"Index\",\"$index\"],[\"Name\",\"@name\"]]},\"id\":\"1226\",\"type\":\"HoverTool\"},{\"attributes\":{},\"id\":\"1240\",\"type\":\"UnionRenderers\"},{\"attributes\":{\"end\":122.2,\"start\":-18.200000000000003},\"id\":\"1168\",\"type\":\"Range1d\"},{\"attributes\":{\"source\":{\"id\":\"1199\"}},\"id\":\"1204\",\"type\":\"CDSView\"},{\"attributes\":{\"source\":{\"id\":\"1205\"}},\"id\":\"1211\",\"type\":\"CDSView\"},{\"attributes\":{\"line_color\":{\"value\":\"white\"},\"line_width\":{\"value\":6},\"xs\":{\"field\":\"xs\"},\"ys\":{\"field\":\"ys\"}},\"id\":\"1214\",\"type\":\"MultiLine\"},{\"attributes\":{\"line_cap\":\"round\",\"line_color\":{\"value\":\"#404040\"},\"line_width\":{\"value\":5},\"xs\":{\"field\":\"xs\"},\"ys\":{\"field\":\"ys\"}},\"id\":\"1221\",\"type\":\"MultiLine\"},{\"attributes\":{\"line_color\":{\"value\":\"white\"},\"line_width\":{\"value\":6},\"xs\":{\"field\":\"xs\"},\"ys\":{\"field\":\"ys\"}},\"id\":\"1213\",\"type\":\"MultiLine\"},{\"attributes\":{\"data_source\":{\"id\":\"1220\"},\"glyph\":{\"id\":\"1221\"},\"hover_glyph\":null,\"level\":\"underlay\",\"muted_glyph\":null,\"nonselection_glyph\":{\"id\":\"1222\"},\"selection_glyph\":null,\"view\":{\"id\":\"1224\"}},\"id\":\"1223\",\"type\":\"GlyphRenderer\"},{\"attributes\":{\"data\":{\"text\":[4,24,12,19,20,8,10,6,10,25,14,18,18,14,4,8,8,12,14,3,3,1,2,4,6,2,6,4],\"x\":{\"__ndarray__\":\"/v//////KUAAAAAAAKBQQAEAAAAAAEdAAAAAAABgUkAAAAAAAOBYQAAAAAAAwGFAAAAAAAAQYkAAAAAAAPBgQAAAAAAA4FZAAAAAAACgXEABAAAAABBjQAAAAAAAEGJAAAAAAADAYEAAAAAAAPBkQAAAAAAAIGRAAAAAAADwY0D//////89iQAAAAAAAQGdAAAAAAACQZ0D//////z9pQAAAAAAAQGhAAAAAAADAaUAAAAAAADBpQAAAAAAAMGhA//////8fZkABAAAAAFBpQAAAAAAAsGZAAAAAAAAgY0A=\",\"dtype\":\"float64\",\"order\":\"little\",\"shape\":[28]},\"y\":{\"__ndarray__\":\"AAAAAABAUEAAAAAAAABVQAAAAAAAgEZAAAAAAACAU0AAAAAAAABQQAAAAAAAoFZAAAAAAAAgWkAAAAAAACBaQAAAAAAAACdAAAAAAADATED+//////8fwAAAAAAAAC5AAAAAAAAAQ0ACAAAAAIBOQAAAAAAAoFZAAAAAAACAWEAAAAAAAIBYQAAAAAAAAC5AAgAAAAAAT0AAAAAAAMBWQAAAAAAAYFZAAAAAAABAWUD//////99YQAAAAAAAgFhAAAAAAADAV0AAAAAAACBaQAAAAAAAAFlAAQAAAAAAXEA=\",\"dtype\":\"float64\",\"order\":\"little\",\"shape\":[28]}},\"selected\":{\"id\":\"1243\"},\"selection_policy\":{\"id\":\"1242\"}},\"id\":\"1217\",\"type\":\"ColumnDataSource\"},{\"attributes\":{\"data_source\":{\"id\":\"1212\"},\"glyph\":{\"id\":\"1213\"},\"hover_glyph\":null,\"level\":\"guide\",\"muted_glyph\":null,\"nonselection_glyph\":{\"id\":\"1214\"},\"selection_glyph\":null,\"view\":{\"id\":\"1216\"}},\"id\":\"1215\",\"type\":\"GlyphRenderer\"},{\"attributes\":{\"align\":\"center\",\"text\":\"137.0\",\"width\":450},\"id\":\"1225\",\"type\":\"Div\"},{\"attributes\":{\"data\":{\"xs\":[[6,127],[6,20],[20,72],[72,111],[111,178],[194,178],[157,178],[178,199],[199,189],[198,165],[205,198],[205,207],[199,205],[127,162],[162,144]],\"ys\":[[71,97],[71,59],[59,31],[31,-8],[-8,38],[-8,38],[84,38],[38,86],[86,93],[103,97],[96,103],[96,106],[86,96],[97,112],[112,112]]},\"selected\":{\"id\":\"1241\"},\"selection_policy\":{\"id\":\"1240\"}},\"id\":\"1220\",\"type\":\"ColumnDataSource\"},{\"attributes\":{},\"id\":\"1185\",\"type\":\"SaveTool\"},{\"attributes\":{\"source\":{\"id\":\"1217\"},\"text_align\":\"center\",\"text_baseline\":\"middle\",\"text_color\":{\"value\":\"black\"},\"text_font_size\":{\"value\":\"13px\"},\"x\":{\"field\":\"x\"},\"y\":{\"field\":\"y\"}},\"id\":\"1218\",\"type\":\"LabelSet\"},{\"attributes\":{\"line_cap\":\"round\",\"line_color\":{\"field\":\"line_color\"},\"line_width\":{\"value\":5},\"xs\":{\"field\":\"xs\"},\"ys\":{\"field\":\"ys\"}},\"id\":\"1208\",\"type\":\"MultiLine\"},{\"attributes\":{\"source\":{\"id\":\"1220\"}},\"id\":\"1224\",\"type\":\"CDSView\"},{\"attributes\":{\"line_alpha\":{\"value\":0.1},\"line_cap\":\"round\",\"line_color\":{\"value\":\"#404040\"},\"line_width\":{\"value\":5},\"xs\":{\"field\":\"xs\"},\"ys\":{\"field\":\"ys\"}},\"id\":\"1222\",\"type\":\"MultiLine\"},{\"attributes\":{\"formatter\":{\"id\":\"1232\"},\"ticker\":{\"id\":\"1179\"},\"visible\":false},\"id\":\"1178\",\"type\":\"LinearAxis\"},{\"attributes\":{\"source\":{\"id\":\"1212\"}},\"id\":\"1216\",\"type\":\"CDSView\"},{\"attributes\":{\"overlay\":{\"id\":\"1188\"}},\"id\":\"1184\",\"type\":\"BoxZoomTool\"},{\"attributes\":{\"children\":[{\"id\":\"1225\"}]},\"id\":\"1228\",\"type\":\"Row\"},{\"attributes\":{\"axis\":{\"id\":\"1174\"},\"grid_line_color\":null,\"ticker\":null},\"id\":\"1177\",\"type\":\"Grid\"},{\"attributes\":{},\"id\":\"1236\",\"type\":\"UnionRenderers\"},{\"attributes\":{\"background_fill_color\":null,\"below\":[{\"id\":\"1174\"}],\"border_fill_color\":null,\"center\":[{\"id\":\"1177\"},{\"id\":\"1181\"},{\"id\":\"1218\"}],\"left\":[{\"id\":\"1178\"}],\"outline_line_color\":null,\"plot_width\":900,\"renderers\":[{\"id\":\"1203\"},{\"id\":\"1210\"},{\"id\":\"1215\"},{\"id\":\"1223\"}],\"title\":{\"id\":\"1164\"},\"toolbar\":{\"id\":\"1189\"},\"toolbar_location\":null,\"x_range\":{\"id\":\"1166\"},\"x_scale\":{\"id\":\"1170\"},\"y_range\":{\"id\":\"1168\"},\"y_scale\":{\"id\":\"1172\"}},\"id\":\"1163\",\"subtype\":\"Figure\",\"type\":\"Plot\"},{\"attributes\":{},\"id\":\"1232\",\"type\":\"BasicTickFormatter\"},{\"attributes\":{},\"id\":\"1243\",\"type\":\"Selection\"},{\"attributes\":{\"bottom_units\":\"screen\",\"fill_alpha\":0.5,\"fill_color\":\"lightgrey\",\"left_units\":\"screen\",\"level\":\"overlay\",\"line_alpha\":1.0,\"line_color\":\"black\",\"line_dash\":[4,4],\"line_width\":2,\"right_units\":\"screen\",\"top_units\":\"screen\"},\"id\":\"1188\",\"type\":\"BoxAnnotation\"},{\"attributes\":{\"line_cap\":\"round\",\"line_color\":{\"value\":\"#404040\"},\"line_width\":{\"value\":5},\"xs\":{\"field\":\"xs\"},\"ys\":{\"field\":\"ys\"}},\"id\":\"1209\",\"type\":\"MultiLine\"},{\"attributes\":{\"axis\":{\"id\":\"1178\"},\"dimension\":1,\"grid_line_color\":null,\"ticker\":null},\"id\":\"1181\",\"type\":\"Grid\"},{\"attributes\":{\"formatter\":{\"id\":\"1230\"},\"ticker\":{\"id\":\"1175\"},\"visible\":false},\"id\":\"1174\",\"type\":\"LinearAxis\"},{\"attributes\":{},\"id\":\"1179\",\"type\":\"BasicTicker\"},{\"attributes\":{\"line_cap\":\"round\",\"line_color\":{\"field\":\"line_color\"},\"line_width\":{\"value\":5},\"xs\":{\"field\":\"xs\"},\"ys\":{\"field\":\"ys\"}},\"id\":\"1207\",\"type\":\"MultiLine\"},{\"attributes\":{},\"id\":\"1234\",\"type\":\"UnionRenderers\"},{\"attributes\":{},\"id\":\"1230\",\"type\":\"BasicTickFormatter\"},{\"attributes\":{},\"id\":\"1175\",\"type\":\"BasicTicker\"},{\"attributes\":{},\"id\":\"1242\",\"type\":\"UnionRenderers\"},{\"attributes\":{\"data_source\":{\"id\":\"1205\"},\"glyph\":{\"id\":\"1207\"},\"hover_glyph\":{\"id\":\"1209\"},\"level\":\"underlay\",\"muted_glyph\":null,\"nonselection_glyph\":{\"id\":\"1208\"},\"selection_glyph\":null,\"view\":{\"id\":\"1211\"}},\"id\":\"1210\",\"type\":\"GlyphRenderer\"},{\"attributes\":{\"end\":224.085,\"start\":-11.085},\"id\":\"1166\",\"type\":\"Range1d\"},{\"attributes\":{},\"id\":\"1235\",\"type\":\"Selection\"},{\"attributes\":{\"data\":{\"fill_color\":[\"#5e92f3\",\"#5e92f3\",\"#5e92f3\",\"#5e92f3\",\"#5e92f3\",\"#5e92f3\",\"#5e92f3\",\"#5e92f3\",\"#5e92f3\",\"#5e92f3\",\"#5e92f3\",\"#5e92f3\",\"#5e92f3\",\"#5e92f3\",\"#5e92f3\",\"#5e92f3\"],\"line_color\":[\"#003c8f\",\"#003c8f\",\"#003c8f\",\"#003c8f\",\"#003c8f\",\"#003c8f\",\"#003c8f\",\"#003c8f\",\"#003c8f\",\"#003c8f\",\"#003c8f\",\"#003c8f\",\"#003c8f\",\"#003c8f\",\"#003c8f\",\"#003c8f\"],\"line_width\":[3,3,3,3,3,3,3,3,3,3,3,3,3,3,3,3],\"x\":[6,20,72,111,194,178,199,205,207,198,165,157,162,144,127,189],\"y\":[71,59,31,-8,-8,38,86,96,106,103,97,84,112,112,97,93]},\"selected\":{\"id\":\"1235\"},\"selection_policy\":{\"id\":\"1234\"}},\"id\":\"1199\",\"type\":\"ColumnDataSource\"},{\"attributes\":{\"fill_color\":{\"field\":\"fill_color\"},\"line_color\":{\"field\":\"line_color\"},\"line_width\":{\"field\":\"line_width\"},\"size\":{\"units\":\"screen\",\"value\":11},\"x\":{\"field\":\"x\"},\"y\":{\"field\":\"y\"}},\"id\":\"1201\",\"type\":\"Circle\"},{\"attributes\":{},\"id\":\"1172\",\"type\":\"LinearScale\"},{\"attributes\":{},\"id\":\"1237\",\"type\":\"Selection\"},{\"attributes\":{},\"id\":\"1238\",\"type\":\"UnionRenderers\"},{\"attributes\":{\"data\":{\"line_color\":[\"#DFDFDF\",\"#DFDFDF\",\"#DFDFDF\",\"#DFDFDF\",\"#DFDFDF\",\"#DFDFDF\",\"#DFDFDF\",\"#DFDFDF\",\"#DFDFDF\",\"#DFDFDF\",\"#DFDFDF\",\"#DFDFDF\",\"#DFDFDF\",\"#DFDFDF\",\"#DFDFDF\",\"#DFDFDF\",\"#DFDFDF\",\"#DFDFDF\",\"#DFDFDF\",\"#DFDFDF\",\"#DFDFDF\",\"#DFDFDF\",\"#DFDFDF\",\"#DFDFDF\",\"#DFDFDF\",\"#DFDFDF\",\"#DFDFDF\",\"#DFDFDF\"],\"u\":[0,0,1,1,14,14,14,14,2,2,3,3,3,11,11,11,11,4,5,6,6,7,7,15,15,8,9,12],\"v\":[1,14,2,14,2,11,12,13,3,11,4,5,11,5,10,12,13,5,6,7,15,8,9,9,10,9,10,13],\"weight\":[4,24,12,19,20,8,10,6,10,25,14,18,18,14,4,8,8,12,14,3,3,1,2,4,6,2,6,4],\"xs\":[[6,20],[6,127],[20,72],[20,127],[127,72],[127,157],[127,162],[127,144],[72,111],[72,157],[111,194],[111,178],[111,157],[157,178],[157,165],[157,162],[157,144],[194,178],[178,199],[199,205],[199,189],[205,207],[205,198],[189,198],[189,165],[207,198],[198,165],[162,144]],\"ys\":[[71,59],[71,97],[59,31],[59,97],[97,31],[97,84],[97,112],[97,112],[31,-8],[31,84],[-8,-8],[-8,38],[-8,84],[84,38],[84,97],[84,112],[84,112],[-8,38],[38,86],[86,96],[86,93],[96,106],[96,103],[93,103],[93,97],[106,103],[103,97],[112,112]]},\"selected\":{\"id\":\"1237\"},\"selection_policy\":{\"id\":\"1236\"}},\"id\":\"1205\",\"type\":\"ColumnDataSource\"},{\"attributes\":{},\"id\":\"1170\",\"type\":\"LinearScale\"}],\"root_ids\":[\"1246\"]},\"title\":\"Bokeh Application\",\"version\":\"2.2.3\"}};\n",
       "  var render_items = [{\"docid\":\"2fab59db-c2c7-412e-9085-0b689fa853bf\",\"root_ids\":[\"1246\"],\"roots\":{\"1246\":\"09ebba1a-b819-4335-a30d-fbdcd2fa137d\"}}];\n",
       "  root.Bokeh.embed.embed_items_notebook(docs_json, render_items);\n",
       "\n",
       "  }\n",
       "  if (root.Bokeh !== undefined) {\n",
       "    embed_document(root);\n",
       "  } else {\n",
       "    var attempts = 0;\n",
       "    var timer = setInterval(function(root) {\n",
       "      if (root.Bokeh !== undefined) {\n",
       "        clearInterval(timer);\n",
       "        embed_document(root);\n",
       "      } else {\n",
       "        attempts++;\n",
       "        if (attempts > 100) {\n",
       "          clearInterval(timer);\n",
       "          console.log(\"Bokeh: ERROR: Unable to run BokehJS code because BokehJS library is missing\");\n",
       "        }\n",
       "      }\n",
       "    }, 10, root)\n",
       "  }\n",
       "})(window);"
      ],
      "application/vnd.bokehjs_exec.v0+json": ""
     },
     "metadata": {
      "application/vnd.bokehjs_exec.v0+json": {
       "id": "1246"
      }
     },
     "output_type": "display_data"
    }
   ],
   "source": [
    "tree = [(0,14),(0,1),(1,2),(2,3),(3,5),(4,5),(11,5),(5,6),\n",
    "        (6,15),(9,10),(7,9),(7,8),(6,7),(14,12),(12,13)]\n",
    "show(vl.tree_plot(G, tree=tree, show_cost=True, width=900, height=600))"
   ]
  },
  {
   "cell_type": "markdown",
   "metadata": {},
   "source": [
    "**Q1:** An example of a spanning tree is indicated above using thick edges. Do you think that this is the best possible? Can you briefly give a convincing argument why or why not?\n",
    "\n",
    "**A:** <font color='blue'> No, you could use edge (3,4) instead of (3,5) and have a cheaper spanning tree. </font>"
   ]
  },
  {
   "cell_type": "markdown",
   "metadata": {},
   "source": [
    "## Part II: Minimum Spanning Tree Algorithms\n",
    "\n",
    "In this section we will investigate three different algorithms for solving the Minimum Spanning Tree Problem. First you will try the algorithm that you have seen on lecture: Prim’s algorithm. This algorithm works as\n",
    "follows:\n",
    "\n",
    "1. Choose any node from which to begin, say node 1, and start the tree with the cheapest edge from node 1 to one of the other nodes in the graph.\n",
    "2. At each subsequent step, add the cheapest edge that maintains\n",
    "connectivity of the current tree and adds a new node. In other words,\n",
    "add the cheapest edge that connects a new node to those already\n",
    "connected.\n",
    "3.  Continue to do this until all nodes are connected."
   ]
  },
  {
   "cell_type": "code",
   "execution_count": 4,
   "metadata": {},
   "outputs": [
    {
     "data": {
      "text/html": [
       "\n",
       "\n",
       "\n",
       "\n",
       "\n",
       "\n",
       "  <div class=\"bk-root\" id=\"64a4700a-be41-46b8-80f1-5dcecaffbe7c\" data-root-id=\"1433\"></div>\n"
      ]
     },
     "metadata": {},
     "output_type": "display_data"
    },
    {
     "data": {
      "application/javascript": [
       "(function(root) {\n",
       "  function embed_document(root) {\n",
       "    \n",
       "  var docs_json = {\"aaec4eed-4612-4e78-9598-04e578529777\":{\"roots\":{\"references\":[{\"attributes\":{\"children\":[[{\"id\":\"1357\"},0,0],[{\"id\":\"1417\"},1,0]]},\"id\":\"1433\",\"type\":\"GridBox\"},{\"attributes\":{},\"id\":\"1366\",\"type\":\"LinearScale\"},{\"attributes\":{\"fill_color\":{\"field\":\"fill_color\"},\"line_color\":{\"field\":\"line_color\"},\"line_width\":{\"field\":\"line_width\"},\"size\":{\"units\":\"screen\",\"value\":11},\"x\":{\"field\":\"x\"},\"y\":{\"field\":\"y\"}},\"id\":\"1396\",\"type\":\"Circle\"},{\"attributes\":{},\"id\":\"1428\",\"type\":\"Selection\"},{\"attributes\":{\"data_source\":{\"id\":\"1399\"},\"glyph\":{\"id\":\"1401\"},\"hover_glyph\":{\"id\":\"1403\"},\"level\":\"underlay\",\"muted_glyph\":null,\"nonselection_glyph\":{\"id\":\"1402\"},\"selection_glyph\":null,\"view\":{\"id\":\"1405\"}},\"id\":\"1404\",\"type\":\"GlyphRenderer\"},{\"attributes\":{\"axis\":{\"id\":\"1368\"},\"grid_line_color\":null,\"ticker\":null},\"id\":\"1371\",\"type\":\"Grid\"},{\"attributes\":{\"data\":{\"text\":[4,24,12,19,20,8,10,6,10,25,14,18,18,14,4,8,8,12,14,3,3,1,2,4,6,2,6,4],\"x\":{\"__ndarray__\":\"AgAAAAAAKkAAAAAAAKBQQAEAAAAAAEdAAgAAAABgUkACAAAAAOBYQP//////v2FAAAAAAAAQYkAAAAAAAPBgQAAAAAAA4FZAAAAAAACgXED//////w9jQAAAAAAAEGJAAAAAAADAYEAAAAAAAPBkQAAAAAAAIGRAAAAAAADwY0AAAAAAANBiQAEAAAAAQGdAAAAAAACQZ0AAAAAAAEBpQAAAAAAAQGhAAQAAAADAaUAAAAAAADBpQP//////L2hAAAAAAAAgZkABAAAAAFBpQAAAAAAAsGZAAAAAAAAgY0A=\",\"dtype\":\"float64\",\"order\":\"little\",\"shape\":[28]},\"y\":{\"__ndarray__\":\"AAAAAABAUED///////9UQAAAAAAAgEZA//////9/U0AAAAAAAABQQAEAAAAAoFZAAAAAAAAgWkAAAAAAACBaQAAAAAAAACdAAAAAAADATED+//////8fwAAAAAAAAC5AAAAAAAAAQ0ACAAAAAIBOQAEAAAAAoFZAAQAAAACAWEABAAAAAIBYQAAAAAAAAC5AAAAAAAAAT0AAAAAAAMBWQAAAAAAAYFZAAAAAAABAWUABAAAAAOBYQAEAAAAAgFhAAQAAAADAV0AAAAAAACBaQAAAAAAAAFlAAQAAAAAAXEA=\",\"dtype\":\"float64\",\"order\":\"little\",\"shape\":[28]}},\"selected\":{\"id\":\"1430\"},\"selection_policy\":{\"id\":\"1429\"}},\"id\":\"1411\",\"type\":\"ColumnDataSource\"},{\"attributes\":{\"data_source\":{\"id\":\"1393\"},\"glyph\":{\"id\":\"1395\"},\"hover_glyph\":null,\"muted_glyph\":null,\"nonselection_glyph\":{\"id\":\"1396\"},\"selection_glyph\":null,\"view\":{\"id\":\"1398\"}},\"id\":\"1397\",\"type\":\"GlyphRenderer\"},{\"attributes\":{},\"id\":\"1425\",\"type\":\"UnionRenderers\"},{\"attributes\":{},\"id\":\"1369\",\"type\":\"BasicTicker\"},{\"attributes\":{},\"id\":\"1379\",\"type\":\"SaveTool\"},{\"attributes\":{\"text\":\"\"},\"id\":\"1358\",\"type\":\"Title\"},{\"attributes\":{\"source\":{\"id\":\"1393\"}},\"id\":\"1398\",\"type\":\"CDSView\"},{\"attributes\":{\"formatter\":{\"id\":\"1419\"},\"ticker\":{\"id\":\"1369\"},\"visible\":false},\"id\":\"1368\",\"type\":\"LinearAxis\"},{\"attributes\":{\"line_cap\":\"round\",\"line_color\":{\"field\":\"line_color\"},\"line_width\":{\"value\":5},\"xs\":{\"field\":\"xs\"},\"ys\":{\"field\":\"ys\"}},\"id\":\"1401\",\"type\":\"MultiLine\"},{\"attributes\":{\"data_source\":{\"id\":\"1406\"},\"glyph\":{\"id\":\"1407\"},\"hover_glyph\":null,\"level\":\"guide\",\"muted_glyph\":null,\"nonselection_glyph\":{\"id\":\"1408\"},\"selection_glyph\":null,\"view\":{\"id\":\"1410\"}},\"id\":\"1409\",\"type\":\"GlyphRenderer\"},{\"attributes\":{},\"id\":\"1419\",\"type\":\"BasicTickFormatter\"},{\"attributes\":{\"data\":{\"xs\":[[11.301090324745442,14.698909675254566],[63.069812290021225,69.93018770997878],[42.976862092036946,49.02313790796307],[70.22089160863857,76.77910839136149],[101.60977267069882,97.39022732930124],[139.8831103628236,144.11688963717637],[141.31806115805978,147.68193884194022],[133.82482514008294,137.17517485991706],[89.14670153841959,93.85329846158044],[111.6050606932186,117.3949393067814],[148.97244999999998,156.02755],[141.7005138802247,147.2994861197753],[132.55841471316512,135.44158528683488],[166.16509629035858,168.83490370964145],[159.86494734502958,162.13505265497042],[159.128646851194,159.87135314880598],[151.4028559428779,149.5971440571221],[187.04906838665292,184.9509316133471],[187.21317691926478,189.78682308073522],[200.88690370215798,203.11309629784205],[195.85282232314876,192.14717767685121],[205.58539740586426,206.41460259413577],[203.06886564105358,199.9311343589464],[192.02424879142615,194.9757512085738],[179.31200007568697,174.68799992431306],[204.7039715447302,200.29602845526986],[183.80467874454894,179.19532125545106],[155.3517,150.6483]],\"ys\":[[66.45620829307533,63.543791706924665],[83.26293487223596,84.73706512776401],[46.62784348890318,43.372156511096804],[76.83545683297443,79.16454316702556],[66.53172720483855,61.46827279516147],[91.41731884277647,89.58268115722356],[103.13631192488276,105.86368807511724],[103.0219045353673,105.9780954646327],[13.85329846158043,9.146701538419578],[55.694920196948075,59.305079803051925],[-7.999999999999998,-7.999999999999998],[13.077964753587104,16.92203524641289],[35.11682942633026,40.883170573669744],[63.92407479254794,58.07592520745206],[88.65553943567308,92.34446056432695],[95.92042236668642,100.07957763331359],[96.05538719995533,99.9446128000447],[11.98392838837291,18.016071611627098],[59.05869010117662,64.94130989882336],[89.14483950359659,92.85516049640341],[88.20302437379587,90.79697562620413],[98.9269870293212,103.07301297067883],[97.93113435894641,101.0688656410536],[96.360276434918,99.63972356508202],[94.6146666540522,95.38533334594783],[105.23465718157672,103.76534281842328],[100.41903249900889,99.58096750099111],[112.00000000000001,112.00000000000001]]},\"selected\":{\"id\":\"1428\"},\"selection_policy\":{\"id\":\"1427\"}},\"id\":\"1406\",\"type\":\"ColumnDataSource\"},{\"attributes\":{},\"id\":\"1426\",\"type\":\"Selection\"},{\"attributes\":{\"end\":122.2,\"start\":-18.200000000000003},\"id\":\"1362\",\"type\":\"Range1d\"},{\"attributes\":{\"source\":{\"id\":\"1411\"},\"text_align\":\"center\",\"text_baseline\":\"middle\",\"text_color\":{\"value\":\"black\"},\"text_font_size\":{\"value\":\"13px\"},\"x\":{\"field\":\"x\"},\"y\":{\"field\":\"y\"}},\"id\":\"1412\",\"type\":\"LabelSet\"},{\"attributes\":{\"data\":{\"fill_color\":[\"#5e92f3\",\"#5e92f3\",\"#5e92f3\",\"#5e92f3\",\"#5e92f3\",\"#5e92f3\",\"#5e92f3\",\"#5e92f3\",\"#5e92f3\",\"#5e92f3\",\"#5e92f3\",\"#5e92f3\",\"#5e92f3\",\"#5e92f3\",\"#5e92f3\",\"#5e92f3\"],\"line_color\":[\"#003c8f\",\"#003c8f\",\"#003c8f\",\"#003c8f\",\"#003c8f\",\"#003c8f\",\"#003c8f\",\"#003c8f\",\"#003c8f\",\"#003c8f\",\"#003c8f\",\"#003c8f\",\"#003c8f\",\"#003c8f\",\"#003c8f\",\"#003c8f\"],\"line_width\":[3,3,3,3,3,3,3,3,3,3,3,3,3,3,3,3],\"x\":[6,20,72,111,194,178,199,205,207,198,165,157,162,144,127,189],\"y\":[71,59,31,-8,-8,38,86,96,106,103,97,84,112,112,97,93]},\"selected\":{\"id\":\"1424\"},\"selection_policy\":{\"id\":\"1423\"}},\"id\":\"1393\",\"type\":\"ColumnDataSource\"},{\"attributes\":{\"line_cap\":\"round\",\"line_color\":{\"field\":\"line_color\"},\"line_width\":{\"value\":5},\"xs\":{\"field\":\"xs\"},\"ys\":{\"field\":\"ys\"}},\"id\":\"1402\",\"type\":\"MultiLine\"},{\"attributes\":{},\"id\":\"1376\",\"type\":\"PanTool\"},{\"attributes\":{\"callback\":null,\"renderers\":[{\"id\":\"1397\"}],\"tooltips\":[[\"Index\",\"$index\"],[\"Name\",\"@name\"]]},\"id\":\"1415\",\"type\":\"HoverTool\"},{\"attributes\":{\"source\":{\"id\":\"1406\"}},\"id\":\"1410\",\"type\":\"CDSView\"},{\"attributes\":{},\"id\":\"1381\",\"type\":\"HelpTool\"},{\"attributes\":{},\"id\":\"1377\",\"type\":\"WheelZoomTool\"},{\"attributes\":{\"formatter\":{\"id\":\"1421\"},\"ticker\":{\"id\":\"1373\"},\"visible\":false},\"id\":\"1372\",\"type\":\"LinearAxis\"},{\"attributes\":{},\"id\":\"1380\",\"type\":\"ResetTool\"},{\"attributes\":{\"line_color\":{\"value\":\"white\"},\"line_width\":{\"value\":6},\"xs\":{\"field\":\"xs\"},\"ys\":{\"field\":\"ys\"}},\"id\":\"1407\",\"type\":\"MultiLine\"},{\"attributes\":{},\"id\":\"1373\",\"type\":\"BasicTicker\"},{\"attributes\":{},\"id\":\"1429\",\"type\":\"UnionRenderers\"},{\"attributes\":{\"axis\":{\"id\":\"1372\"},\"dimension\":1,\"grid_line_color\":null,\"ticker\":null},\"id\":\"1375\",\"type\":\"Grid\"},{\"attributes\":{},\"id\":\"1421\",\"type\":\"BasicTickFormatter\"},{\"attributes\":{\"source\":{\"id\":\"1399\"}},\"id\":\"1405\",\"type\":\"CDSView\"},{\"attributes\":{\"bottom_units\":\"screen\",\"fill_alpha\":0.5,\"fill_color\":\"lightgrey\",\"left_units\":\"screen\",\"level\":\"overlay\",\"line_alpha\":1.0,\"line_color\":\"black\",\"line_dash\":[4,4],\"line_width\":2,\"right_units\":\"screen\",\"top_units\":\"screen\"},\"id\":\"1382\",\"type\":\"BoxAnnotation\"},{\"attributes\":{\"data\":{\"line_color\":[\"#DFDFDF\",\"#DFDFDF\",\"#DFDFDF\",\"#DFDFDF\",\"#DFDFDF\",\"#DFDFDF\",\"#DFDFDF\",\"#DFDFDF\",\"#DFDFDF\",\"#DFDFDF\",\"#DFDFDF\",\"#DFDFDF\",\"#DFDFDF\",\"#DFDFDF\",\"#DFDFDF\",\"#DFDFDF\",\"#DFDFDF\",\"#DFDFDF\",\"#DFDFDF\",\"#DFDFDF\",\"#DFDFDF\",\"#DFDFDF\",\"#DFDFDF\",\"#DFDFDF\",\"#DFDFDF\",\"#DFDFDF\",\"#DFDFDF\",\"#DFDFDF\"],\"u\":[0,0,1,1,14,14,14,14,2,2,3,3,3,11,11,11,11,4,5,6,6,7,7,15,15,8,9,12],\"v\":[1,14,2,14,2,11,12,13,3,11,4,5,11,5,10,12,13,5,6,7,15,8,9,9,10,9,10,13],\"weight\":[4,24,12,19,20,8,10,6,10,25,14,18,18,14,4,8,8,12,14,3,3,1,2,4,6,2,6,4],\"xs\":[[6,20],[6,127],[20,72],[20,127],[127,72],[127,157],[127,162],[127,144],[72,111],[72,157],[111,194],[111,178],[111,157],[157,178],[157,165],[157,162],[157,144],[194,178],[178,199],[199,205],[199,189],[205,207],[205,198],[189,198],[189,165],[207,198],[198,165],[162,144]],\"ys\":[[71,59],[71,97],[59,31],[59,97],[97,31],[97,84],[97,112],[97,112],[31,-8],[31,84],[-8,-8],[-8,38],[-8,84],[84,38],[84,97],[84,112],[84,112],[-8,38],[38,86],[86,96],[86,93],[96,106],[96,103],[93,103],[93,97],[106,103],[103,97],[112,112]]},\"selected\":{\"id\":\"1426\"},\"selection_policy\":{\"id\":\"1425\"}},\"id\":\"1399\",\"type\":\"ColumnDataSource\"},{\"attributes\":{},\"id\":\"1424\",\"type\":\"Selection\"},{\"attributes\":{},\"id\":\"1430\",\"type\":\"Selection\"},{\"attributes\":{\"align\":\"center\",\"width\":300},\"id\":\"1414\",\"type\":\"Div\"},{\"attributes\":{\"active_drag\":null,\"active_inspect\":\"auto\",\"active_multi\":null,\"active_scroll\":null,\"active_tap\":\"auto\",\"logo\":null,\"tools\":[{\"id\":\"1376\"},{\"id\":\"1377\"},{\"id\":\"1378\"},{\"id\":\"1379\"},{\"id\":\"1380\"},{\"id\":\"1381\"},{\"id\":\"1415\"}]},\"id\":\"1383\",\"type\":\"Toolbar\"},{\"attributes\":{\"line_cap\":\"round\",\"line_color\":{\"value\":\"#404040\"},\"line_width\":{\"value\":5},\"xs\":{\"field\":\"xs\"},\"ys\":{\"field\":\"ys\"}},\"id\":\"1403\",\"type\":\"MultiLine\"},{\"attributes\":{},\"id\":\"1423\",\"type\":\"UnionRenderers\"},{\"attributes\":{\"end\":224.085,\"start\":-11.085},\"id\":\"1360\",\"type\":\"Range1d\"},{\"attributes\":{\"children\":[{\"id\":\"1414\"}]},\"id\":\"1417\",\"type\":\"Row\"},{\"attributes\":{\"fill_color\":{\"field\":\"fill_color\"},\"line_color\":{\"field\":\"line_color\"},\"line_width\":{\"field\":\"line_width\"},\"size\":{\"units\":\"screen\",\"value\":11},\"x\":{\"field\":\"x\"},\"y\":{\"field\":\"y\"}},\"id\":\"1395\",\"type\":\"Circle\"},{\"attributes\":{\"line_color\":{\"value\":\"white\"},\"line_width\":{\"value\":6},\"xs\":{\"field\":\"xs\"},\"ys\":{\"field\":\"ys\"}},\"id\":\"1408\",\"type\":\"MultiLine\"},{\"attributes\":{\"overlay\":{\"id\":\"1382\"}},\"id\":\"1378\",\"type\":\"BoxZoomTool\"},{\"attributes\":{},\"id\":\"1427\",\"type\":\"UnionRenderers\"},{\"attributes\":{\"background_fill_color\":null,\"below\":[{\"id\":\"1368\"}],\"border_fill_color\":null,\"center\":[{\"id\":\"1371\"},{\"id\":\"1375\"},{\"id\":\"1412\"}],\"left\":[{\"id\":\"1372\"}],\"outline_line_color\":null,\"plot_height\":400,\"renderers\":[{\"id\":\"1397\"},{\"id\":\"1404\"},{\"id\":\"1409\"}],\"title\":{\"id\":\"1358\"},\"toolbar\":{\"id\":\"1383\"},\"toolbar_location\":null,\"x_range\":{\"id\":\"1360\"},\"x_scale\":{\"id\":\"1364\"},\"y_range\":{\"id\":\"1362\"},\"y_scale\":{\"id\":\"1366\"}},\"id\":\"1357\",\"subtype\":\"Figure\",\"type\":\"Plot\"},{\"attributes\":{},\"id\":\"1364\",\"type\":\"LinearScale\"}],\"root_ids\":[\"1433\"]},\"title\":\"Bokeh Application\",\"version\":\"2.2.3\"}};\n",
       "  var render_items = [{\"docid\":\"aaec4eed-4612-4e78-9598-04e578529777\",\"root_ids\":[\"1433\"],\"roots\":{\"1433\":\"64a4700a-be41-46b8-80f1-5dcecaffbe7c\"}}];\n",
       "  root.Bokeh.embed.embed_items_notebook(docs_json, render_items);\n",
       "\n",
       "  }\n",
       "  if (root.Bokeh !== undefined) {\n",
       "    embed_document(root);\n",
       "  } else {\n",
       "    var attempts = 0;\n",
       "    var timer = setInterval(function(root) {\n",
       "      if (root.Bokeh !== undefined) {\n",
       "        clearInterval(timer);\n",
       "        embed_document(root);\n",
       "      } else {\n",
       "        attempts++;\n",
       "        if (attempts > 100) {\n",
       "          clearInterval(timer);\n",
       "          console.log(\"Bokeh: ERROR: Unable to run BokehJS code because BokehJS library is missing\");\n",
       "        }\n",
       "      }\n",
       "    }, 10, root)\n",
       "  }\n",
       "})(window);"
      ],
      "application/vnd.bokehjs_exec.v0+json": ""
     },
     "metadata": {
      "application/vnd.bokehjs_exec.v0+json": {
       "id": "1433"
      }
     },
     "output_type": "display_data"
    }
   ],
   "source": [
    "show(vl.tree_plot(G, tree=[], width=600))"
   ]
  },
  {
   "cell_type": "markdown",
   "metadata": {},
   "source": [
    "**Q2:** Run the first 5 iterations of this algorithm (starting at node 0 on the far left). Show your work: indicate the order in which you add the edges.\n",
    "\n",
    "**A:** <font color='blue'> Add edges in this order: (0,1), (1,2), (2,3), (3,4), (4,5).</font>"
   ]
  },
  {
   "cell_type": "markdown",
   "metadata": {},
   "source": [
    "Now, use the software to run the first 5 iterations of Prim's. Run the cell to output a plot. The starting node is solid dark blue. Click the edges you identified in **Q2** to add them to the minimum spanning tree."
   ]
  },
  {
   "cell_type": "code",
   "execution_count": 16,
   "metadata": {},
   "outputs": [
    {
     "ename": "ValueError",
     "evalue": "min() arg is an empty sequence",
     "output_type": "error",
     "traceback": [
      "\u001b[1;31m---------------------------------------------------------------------------\u001b[0m",
      "\u001b[1;31mValueError\u001b[0m                                Traceback (most recent call last)",
      "\u001b[1;32m<ipython-input-16-62fb3ae179cc>\u001b[0m in \u001b[0;36m<module>\u001b[1;34m\u001b[0m\n\u001b[1;32m----> 1\u001b[1;33m \u001b[0mshow\u001b[0m\u001b[1;33m(\u001b[0m\u001b[0mvl\u001b[0m\u001b[1;33m.\u001b[0m\u001b[0massisted_mst_algorithm_plot\u001b[0m\u001b[1;33m(\u001b[0m\u001b[0mG\u001b[0m\u001b[1;33m,\u001b[0m \u001b[0malgorithm\u001b[0m\u001b[1;33m=\u001b[0m\u001b[1;34m'prims'\u001b[0m\u001b[1;33m,\u001b[0m \u001b[0ms\u001b[0m\u001b[1;33m=\u001b[0m\u001b[1;36m0\u001b[0m\u001b[1;33m,\u001b[0m \u001b[0mwidth\u001b[0m\u001b[1;33m=\u001b[0m\u001b[1;36m900\u001b[0m\u001b[1;33m,\u001b[0m \u001b[0mheight\u001b[0m\u001b[1;33m=\u001b[0m\u001b[1;36m600\u001b[0m\u001b[1;33m)\u001b[0m\u001b[1;33m)\u001b[0m\u001b[1;33m\u001b[0m\u001b[1;33m\u001b[0m\u001b[0m\n\u001b[0m",
      "\u001b[1;32m~\\anaconda3\\envs\\engri_1101\\lib\\site-packages\\vinal\\plot.py\u001b[0m in \u001b[0;36massisted_mst_algorithm_plot\u001b[1;34m(G, algorithm, **kw)\u001b[0m\n\u001b[0;32m    944\u001b[0m     \"\"\"\n\u001b[0;32m    945\u001b[0m     \u001b[0mG\u001b[0m \u001b[1;33m=\u001b[0m \u001b[0mG\u001b[0m\u001b[1;33m.\u001b[0m\u001b[0mcopy\u001b[0m\u001b[1;33m(\u001b[0m\u001b[1;33m)\u001b[0m\u001b[1;33m\u001b[0m\u001b[1;33m\u001b[0m\u001b[0m\n\u001b[1;32m--> 946\u001b[1;33m     \u001b[0mplot\u001b[0m \u001b[1;33m=\u001b[0m \u001b[0m_blank_plot\u001b[0m\u001b[1;33m(\u001b[0m\u001b[0mG\u001b[0m\u001b[1;33m,\u001b[0m \u001b[1;33m**\u001b[0m\u001b[0mkw\u001b[0m\u001b[1;33m)\u001b[0m\u001b[1;33m\u001b[0m\u001b[1;33m\u001b[0m\u001b[0m\n\u001b[0m\u001b[0;32m    947\u001b[0m \u001b[1;33m\u001b[0m\u001b[0m\n\u001b[0;32m    948\u001b[0m     \u001b[0m_set_edge_positions\u001b[0m\u001b[1;33m(\u001b[0m\u001b[0mG\u001b[0m\u001b[1;33m)\u001b[0m\u001b[1;33m\u001b[0m\u001b[1;33m\u001b[0m\u001b[0m\n",
      "\u001b[1;32m~\\anaconda3\\envs\\engri_1101\\lib\\site-packages\\vinal\\plot.py\u001b[0m in \u001b[0;36m_blank_plot\u001b[1;34m(G, width, height, x_range, y_range, image, **kw)\u001b[0m\n\u001b[0;32m    124\u001b[0m             \u001b[0mx\u001b[0m \u001b[1;33m=\u001b[0m \u001b[0mnx\u001b[0m\u001b[1;33m.\u001b[0m\u001b[0mget_node_attributes\u001b[0m\u001b[1;33m(\u001b[0m\u001b[0mG\u001b[0m\u001b[1;33m,\u001b[0m\u001b[1;34m'x'\u001b[0m\u001b[1;33m)\u001b[0m\u001b[1;33m.\u001b[0m\u001b[0mvalues\u001b[0m\u001b[1;33m(\u001b[0m\u001b[1;33m)\u001b[0m\u001b[1;33m\u001b[0m\u001b[1;33m\u001b[0m\u001b[0m\n\u001b[0;32m    125\u001b[0m             \u001b[0my\u001b[0m \u001b[1;33m=\u001b[0m \u001b[0mnx\u001b[0m\u001b[1;33m.\u001b[0m\u001b[0mget_node_attributes\u001b[0m\u001b[1;33m(\u001b[0m\u001b[0mG\u001b[0m\u001b[1;33m,\u001b[0m\u001b[1;34m'y'\u001b[0m\u001b[1;33m)\u001b[0m\u001b[1;33m.\u001b[0m\u001b[0mvalues\u001b[0m\u001b[1;33m(\u001b[0m\u001b[1;33m)\u001b[0m\u001b[1;33m\u001b[0m\u001b[1;33m\u001b[0m\u001b[0m\n\u001b[1;32m--> 126\u001b[1;33m             \u001b[0mmin_x\u001b[0m\u001b[1;33m,\u001b[0m \u001b[0mmax_x\u001b[0m\u001b[1;33m,\u001b[0m \u001b[0mmin_y\u001b[0m\u001b[1;33m,\u001b[0m \u001b[0mmax_y\u001b[0m \u001b[1;33m=\u001b[0m \u001b[0m_graph_range\u001b[0m\u001b[1;33m(\u001b[0m\u001b[0mx\u001b[0m\u001b[1;33m,\u001b[0m\u001b[0my\u001b[0m\u001b[1;33m)\u001b[0m\u001b[1;33m\u001b[0m\u001b[1;33m\u001b[0m\u001b[0m\n\u001b[0m\u001b[0;32m    127\u001b[0m     plot = figure(x_range=(min_x, max_x),\n\u001b[0;32m    128\u001b[0m                   \u001b[0my_range\u001b[0m\u001b[1;33m=\u001b[0m\u001b[1;33m(\u001b[0m\u001b[0mmin_y\u001b[0m\u001b[1;33m,\u001b[0m \u001b[0mmax_y\u001b[0m\u001b[1;33m)\u001b[0m\u001b[1;33m,\u001b[0m\u001b[1;33m\u001b[0m\u001b[1;33m\u001b[0m\u001b[0m\n",
      "\u001b[1;32m~\\anaconda3\\envs\\engri_1101\\lib\\site-packages\\vinal\\plot.py\u001b[0m in \u001b[0;36m_graph_range\u001b[1;34m(x, y)\u001b[0m\n\u001b[0;32m     81\u001b[0m         \u001b[0mList\u001b[0m\u001b[1;33m[\u001b[0m\u001b[0mfloat\u001b[0m\u001b[1;33m]\u001b[0m\u001b[1;33m:\u001b[0m \u001b[0mx\u001b[0m\u001b[1;33m-\u001b[0m\u001b[0mrange\u001b[0m \u001b[1;33m(\u001b[0m\u001b[0mmin_x\u001b[0m\u001b[1;33m,\u001b[0m \u001b[0mmax_x\u001b[0m\u001b[1;33m)\u001b[0m \u001b[1;32mand\u001b[0m \u001b[0my\u001b[0m\u001b[1;33m-\u001b[0m\u001b[0mrange\u001b[0m \u001b[1;33m(\u001b[0m\u001b[0mmin_y\u001b[0m\u001b[1;33m,\u001b[0m \u001b[0mmax_y\u001b[0m\u001b[1;33m)\u001b[0m\u001b[1;33m.\u001b[0m\u001b[1;33m\u001b[0m\u001b[1;33m\u001b[0m\u001b[0m\n\u001b[0;32m     82\u001b[0m     \"\"\"\n\u001b[1;32m---> 83\u001b[1;33m     \u001b[0mmin_x\u001b[0m\u001b[1;33m,\u001b[0m \u001b[0mmax_x\u001b[0m \u001b[1;33m=\u001b[0m \u001b[0mmin\u001b[0m\u001b[1;33m(\u001b[0m\u001b[0mx\u001b[0m\u001b[1;33m)\u001b[0m\u001b[1;33m,\u001b[0m \u001b[0mmax\u001b[0m\u001b[1;33m(\u001b[0m\u001b[0mx\u001b[0m\u001b[1;33m)\u001b[0m\u001b[1;33m\u001b[0m\u001b[1;33m\u001b[0m\u001b[0m\n\u001b[0m\u001b[0;32m     84\u001b[0m     \u001b[0mx_margin\u001b[0m \u001b[1;33m=\u001b[0m \u001b[0mPLOT_MARGIN\u001b[0m \u001b[1;33m*\u001b[0m \u001b[1;33m(\u001b[0m\u001b[0mmax_x\u001b[0m \u001b[1;33m-\u001b[0m \u001b[0mmin_x\u001b[0m\u001b[1;33m)\u001b[0m\u001b[1;33m\u001b[0m\u001b[1;33m\u001b[0m\u001b[0m\n\u001b[0;32m     85\u001b[0m     \u001b[0mmin_x\u001b[0m\u001b[1;33m,\u001b[0m \u001b[0mmax_x\u001b[0m \u001b[1;33m=\u001b[0m \u001b[0mmin_x\u001b[0m \u001b[1;33m-\u001b[0m \u001b[0mx_margin\u001b[0m\u001b[1;33m,\u001b[0m \u001b[0mmax_x\u001b[0m \u001b[1;33m+\u001b[0m \u001b[0mx_margin\u001b[0m\u001b[1;33m\u001b[0m\u001b[1;33m\u001b[0m\u001b[0m\n",
      "\u001b[1;31mValueError\u001b[0m: min() arg is an empty sequence"
     ]
    }
   ],
   "source": [
    "show(vl.assisted_mst_algorithm_plot(G, algorithm='prims', s=0, width=900, height=600))"
   ]
  },
  {
   "cell_type": "markdown",
   "metadata": {},
   "source": [
    "**Q3:** If you made a mistake, an error message would have appeared. Did you make any mistakes?\n",
    "\n",
    "**A:** <font color='blue'> Answers will vary.</font>"
   ]
  },
  {
   "cell_type": "markdown",
   "metadata": {},
   "source": [
    "**Q4:** There are two different colors of nodes in the above graph. Using your observations about the first 5 iterations, explain when each represents.\n",
    "\n",
    "**A:** <font color='blue'>Solid dark blue are visited by the current tree and the others are unvisited.</font>"
   ]
  },
  {
   "cell_type": "markdown",
   "metadata": {},
   "source": [
    "**Q5:** At each iteration of Prim's, among which subset of edges are you selecting a next edge to add. How do you select which one of these to add?\n",
    "\n",
    "**A:** <font color='blue'>The edges that go from a visited node to an unvisited node. You select the cheapest one.</font>"
   ]
  },
  {
   "cell_type": "markdown",
   "metadata": {},
   "source": [
    "**Q6:** Run the cell below and click next until you have a minimum spanning tree. Try to anticipate each of the algorithm’s steps. What is the total cost of this tree, and how does this compare with the original tree? (Hint: the cost of the tree is shown in the bottom left.)\n",
    "\n",
    "**A:** <font color='blue'>The total cost is 103 compared to the cost of 137 for the original tree.</font>"
   ]
  },
  {
   "cell_type": "code",
   "execution_count": 18,
   "metadata": {},
   "outputs": [
    {
     "data": {
      "text/html": [
       "\n",
       "\n",
       "\n",
       "\n",
       "\n",
       "\n",
       "  <div class=\"bk-root\" id=\"912bc2e8-28a0-42d3-bba2-143153eb4663\" data-root-id=\"2328\"></div>\n"
      ]
     },
     "metadata": {},
     "output_type": "display_data"
    },
    {
     "data": {
      "application/javascript": [
       "(function(root) {\n",
       "  function embed_document(root) {\n",
       "    \n",
       "  var docs_json = {\"b41ebdb7-4c08-48a7-9750-cb5f984ba286\":{\"roots\":{\"references\":[{\"attributes\":{\"children\":[[{\"id\":\"2229\"},0,0],[{\"id\":\"2303\"},1,0],[{\"id\":\"2304\"},2,0]]},\"id\":\"2328\",\"type\":\"GridBox\"},{\"attributes\":{},\"id\":\"2307\",\"type\":\"BasicTickFormatter\"},{\"attributes\":{\"data\":{\"costs\":[0,4,16,26,40,52,66,69,70,72,75,81,85,93,97,103],\"edge_xs\":[[],[[6,20]],[[6,20],[20,72]],[[6,20],[20,72],[72,111]],[[6,20],[20,72],[72,111],[111,194]],[[6,20],[20,72],[72,111],[111,194],[194,178]],[[6,20],[20,72],[72,111],[111,194],[194,178],[178,199]],[[6,20],[20,72],[72,111],[111,194],[194,178],[178,199],[199,205]],[[6,20],[20,72],[72,111],[111,194],[194,178],[178,199],[199,205],[205,207]],[[6,20],[20,72],[72,111],[111,194],[194,178],[178,199],[199,205],[205,207],[205,198]],[[6,20],[20,72],[72,111],[111,194],[194,178],[178,199],[199,205],[205,207],[205,198],[199,189]],[[6,20],[20,72],[72,111],[111,194],[194,178],[178,199],[199,205],[205,207],[205,198],[199,189],[198,165]],[[6,20],[20,72],[72,111],[111,194],[194,178],[178,199],[199,205],[205,207],[205,198],[199,189],[198,165],[165,157]],[[6,20],[20,72],[72,111],[111,194],[194,178],[178,199],[199,205],[205,207],[205,198],[199,189],[198,165],[165,157],[157,162]],[[6,20],[20,72],[72,111],[111,194],[194,178],[178,199],[199,205],[205,207],[205,198],[199,189],[198,165],[165,157],[157,162],[162,144]],[[6,20],[20,72],[72,111],[111,194],[194,178],[178,199],[199,205],[205,207],[205,198],[199,189],[198,165],[165,157],[157,162],[162,144],[144,127]]],\"edge_ys\":[[],[[71,59]],[[71,59],[59,31]],[[71,59],[59,31],[31,-8]],[[71,59],[59,31],[31,-8],[-8,-8]],[[71,59],[59,31],[31,-8],[-8,-8],[-8,38]],[[71,59],[59,31],[31,-8],[-8,-8],[-8,38],[38,86]],[[71,59],[59,31],[31,-8],[-8,-8],[-8,38],[38,86],[86,96]],[[71,59],[59,31],[31,-8],[-8,-8],[-8,38],[38,86],[86,96],[96,106]],[[71,59],[59,31],[31,-8],[-8,-8],[-8,38],[38,86],[86,96],[96,106],[96,103]],[[71,59],[59,31],[31,-8],[-8,-8],[-8,38],[38,86],[86,96],[96,106],[96,103],[86,93]],[[71,59],[59,31],[31,-8],[-8,-8],[-8,38],[38,86],[86,96],[96,106],[96,103],[86,93],[103,97]],[[71,59],[59,31],[31,-8],[-8,-8],[-8,38],[38,86],[86,96],[96,106],[96,103],[86,93],[103,97],[97,84]],[[71,59],[59,31],[31,-8],[-8,-8],[-8,38],[38,86],[86,96],[96,106],[96,103],[86,93],[103,97],[97,84],[84,112]],[[71,59],[59,31],[31,-8],[-8,-8],[-8,38],[38,86],[86,96],[96,106],[96,103],[86,93],[103,97],[97,84],[84,112],[112,112]],[[71,59],[59,31],[31,-8],[-8,-8],[-8,38],[38,86],[86,96],[96,106],[96,103],[86,93],[103,97],[97,84],[84,112],[112,112],[112,97]]],\"nodes\":[[],[0,1],[0,1,2],[0,1,2,3],[0,1,2,3,4],[0,1,2,3,4,5],[0,1,2,3,4,5,6],[0,1,2,3,4,5,6,7],[0,1,2,3,4,5,6,7,8],[0,1,2,3,4,5,6,7,8,9],[0,1,2,3,4,5,6,7,8,9,15],[0,1,2,3,4,5,6,7,8,9,10,15],[0,1,2,3,4,5,6,7,8,9,10,11,15],[0,1,2,3,4,5,6,7,8,9,10,11,12,15],[0,1,2,3,4,5,6,7,8,9,10,11,12,13,15],[0,1,2,3,4,5,6,7,8,9,10,11,12,13,14,15]]},\"selected\":{\"id\":\"2326\"},\"selection_policy\":{\"id\":\"2327\"}},\"id\":\"2296\",\"type\":\"ColumnDataSource\"},{\"attributes\":{\"source\":{\"id\":\"2289\"}},\"id\":\"2294\",\"type\":\"CDSView\"},{\"attributes\":{\"data\":{\"line_color\":[\"#DFDFDF\",\"#DFDFDF\",\"#DFDFDF\",\"#DFDFDF\",\"#DFDFDF\",\"#DFDFDF\",\"#DFDFDF\",\"#DFDFDF\",\"#DFDFDF\",\"#DFDFDF\",\"#DFDFDF\",\"#DFDFDF\",\"#DFDFDF\",\"#DFDFDF\",\"#DFDFDF\",\"#DFDFDF\",\"#DFDFDF\",\"#DFDFDF\",\"#DFDFDF\",\"#DFDFDF\",\"#DFDFDF\",\"#DFDFDF\",\"#DFDFDF\",\"#DFDFDF\",\"#DFDFDF\",\"#DFDFDF\",\"#DFDFDF\",\"#DFDFDF\"],\"u\":[0,0,1,1,14,14,14,14,2,2,3,3,3,11,11,11,11,4,5,6,6,7,7,15,15,8,9,12],\"v\":[1,14,2,14,2,11,12,13,3,11,4,5,11,5,10,12,13,5,6,7,15,8,9,9,10,9,10,13],\"weight\":[4,24,12,19,20,8,10,6,10,25,14,18,18,14,4,8,8,12,14,3,3,1,2,4,6,2,6,4],\"xs\":[[6,20],[6,127],[20,72],[20,127],[127,72],[127,157],[127,162],[127,144],[72,111],[72,157],[111,194],[111,178],[111,157],[157,178],[157,165],[157,162],[157,144],[194,178],[178,199],[199,205],[199,189],[205,207],[205,198],[189,198],[189,165],[207,198],[198,165],[162,144]],\"ys\":[[71,59],[71,97],[59,31],[59,97],[97,31],[97,84],[97,112],[97,112],[31,-8],[31,84],[-8,-8],[-8,38],[-8,84],[84,38],[84,97],[84,112],[84,112],[-8,38],[38,86],[86,96],[86,93],[96,106],[96,103],[93,103],[93,97],[106,103],[103,97],[112,112]]},\"selected\":{\"id\":\"2315\"},\"selection_policy\":{\"id\":\"2316\"}},\"id\":\"2271\",\"type\":\"ColumnDataSource\"},{\"attributes\":{\"align\":\"center\",\"text\":\"16\",\"width\":900},\"id\":\"2287\",\"type\":\"Div\"},{\"attributes\":{},\"id\":\"2253\",\"type\":\"HelpTool\"},{\"attributes\":{\"active_drag\":null,\"active_inspect\":\"auto\",\"active_multi\":null,\"active_scroll\":null,\"active_tap\":\"auto\",\"logo\":null,\"tools\":[{\"id\":\"2248\"},{\"id\":\"2249\"},{\"id\":\"2250\"},{\"id\":\"2251\"},{\"id\":\"2252\"},{\"id\":\"2253\"},{\"id\":\"2301\"}]},\"id\":\"2255\",\"type\":\"Toolbar\"},{\"attributes\":{\"line_color\":{\"value\":\"white\"},\"line_width\":{\"value\":6},\"xs\":{\"field\":\"xs\"},\"ys\":{\"field\":\"ys\"}},\"id\":\"2280\",\"type\":\"MultiLine\"},{\"attributes\":{\"align\":\"center\",\"text\":\"0\",\"width\":450},\"id\":\"2295\",\"type\":\"Div\"},{\"attributes\":{},\"id\":\"2313\",\"type\":\"Selection\"},{\"attributes\":{\"source\":{\"id\":\"2283\"},\"text_align\":\"center\",\"text_baseline\":\"middle\",\"text_color\":{\"value\":\"black\"},\"text_font_size\":{\"value\":\"13px\"},\"x\":{\"field\":\"x\"},\"y\":{\"field\":\"y\"}},\"id\":\"2284\",\"type\":\"LabelSet\"},{\"attributes\":{\"source\":{\"id\":\"2271\"}},\"id\":\"2277\",\"type\":\"CDSView\"},{\"attributes\":{\"data_source\":{\"id\":\"2271\"},\"glyph\":{\"id\":\"2273\"},\"hover_glyph\":{\"id\":\"2275\"},\"level\":\"underlay\",\"muted_glyph\":null,\"nonselection_glyph\":{\"id\":\"2274\"},\"selection_glyph\":null,\"view\":{\"id\":\"2277\"}},\"id\":\"2276\",\"type\":\"GlyphRenderer\"},{\"attributes\":{\"end\":224.085,\"start\":-11.085},\"id\":\"2232\",\"type\":\"Range1d\"},{\"attributes\":{\"fill_color\":{\"field\":\"fill_color\"},\"line_color\":{\"field\":\"line_color\"},\"line_width\":{\"field\":\"line_width\"},\"size\":{\"units\":\"screen\",\"value\":11},\"x\":{\"field\":\"x\"},\"y\":{\"field\":\"y\"}},\"id\":\"2268\",\"type\":\"Circle\"},{\"attributes\":{},\"id\":\"2309\",\"type\":\"BasicTickFormatter\"},{\"attributes\":{},\"id\":\"2317\",\"type\":\"Selection\"},{\"attributes\":{\"background_fill_color\":null,\"below\":[{\"id\":\"2240\"}],\"border_fill_color\":null,\"center\":[{\"id\":\"2243\"},{\"id\":\"2247\"},{\"id\":\"2284\"}],\"left\":[{\"id\":\"2244\"}],\"outline_line_color\":null,\"plot_width\":900,\"renderers\":[{\"id\":\"2269\"},{\"id\":\"2276\"},{\"id\":\"2281\"},{\"id\":\"2293\"}],\"title\":{\"id\":\"2230\"},\"toolbar\":{\"id\":\"2255\"},\"toolbar_location\":null,\"x_range\":{\"id\":\"2232\"},\"x_scale\":{\"id\":\"2236\"},\"y_range\":{\"id\":\"2234\"},\"y_scale\":{\"id\":\"2238\"}},\"id\":\"2229\",\"subtype\":\"Figure\",\"type\":\"Plot\"},{\"attributes\":{\"align\":\"center\",\"width\":450},\"id\":\"2288\",\"type\":\"Div\"},{\"attributes\":{\"source\":{\"id\":\"2278\"}},\"id\":\"2282\",\"type\":\"CDSView\"},{\"attributes\":{\"line_alpha\":{\"value\":0.1},\"line_cap\":\"round\",\"line_color\":{\"value\":\"#404040\"},\"line_width\":{\"value\":5},\"xs\":{\"field\":\"xs\"},\"ys\":{\"field\":\"ys\"}},\"id\":\"2292\",\"type\":\"MultiLine\"},{\"attributes\":{},\"id\":\"2236\",\"type\":\"LinearScale\"},{\"attributes\":{\"children\":[{\"id\":\"2295\"},{\"id\":\"2288\"}]},\"id\":\"2304\",\"type\":\"Row\"},{\"attributes\":{\"fill_color\":{\"field\":\"fill_color\"},\"line_color\":{\"field\":\"line_color\"},\"line_width\":{\"field\":\"line_width\"},\"size\":{\"units\":\"screen\",\"value\":11},\"x\":{\"field\":\"x\"},\"y\":{\"field\":\"y\"}},\"id\":\"2267\",\"type\":\"Circle\"},{\"attributes\":{\"line_color\":{\"value\":\"white\"},\"line_width\":{\"value\":6},\"xs\":{\"field\":\"xs\"},\"ys\":{\"field\":\"ys\"}},\"id\":\"2279\",\"type\":\"MultiLine\"},{\"attributes\":{},\"id\":\"2241\",\"type\":\"BasicTicker\"},{\"attributes\":{\"bottom_units\":\"screen\",\"fill_alpha\":0.5,\"fill_color\":\"lightgrey\",\"left_units\":\"screen\",\"level\":\"overlay\",\"line_alpha\":1.0,\"line_color\":\"black\",\"line_dash\":[4,4],\"line_width\":2,\"right_units\":\"screen\",\"top_units\":\"screen\"},\"id\":\"2254\",\"type\":\"BoxAnnotation\"},{\"attributes\":{},\"id\":\"2316\",\"type\":\"UnionRenderers\"},{\"attributes\":{},\"id\":\"2318\",\"type\":\"UnionRenderers\"},{\"attributes\":{\"axis\":{\"id\":\"2244\"},\"dimension\":1,\"grid_line_color\":null,\"ticker\":null},\"id\":\"2247\",\"type\":\"Grid\"},{\"attributes\":{\"button_type\":\"primary\",\"icon\":null,\"js_event_callbacks\":{\"button_click\":[{\"id\":\"2298\"}]},\"label\":\"Next\",\"max_width\":450,\"sizing_mode\":\"stretch_width\",\"width_policy\":\"fit\"},\"id\":\"2297\",\"type\":\"Button\"},{\"attributes\":{},\"id\":\"2238\",\"type\":\"LinearScale\"},{\"attributes\":{},\"id\":\"2327\",\"type\":\"UnionRenderers\"},{\"attributes\":{\"button_type\":\"primary\",\"icon\":null,\"js_event_callbacks\":{\"button_click\":[{\"id\":\"2300\"}]},\"label\":\"Previous\",\"max_width\":450,\"sizing_mode\":\"stretch_width\",\"width_policy\":\"fit\"},\"id\":\"2299\",\"type\":\"Button\"},{\"attributes\":{},\"id\":\"2314\",\"type\":\"UnionRenderers\"},{\"attributes\":{\"args\":{\"cost\":{\"id\":\"2295\"},\"done\":{\"id\":\"2288\"},\"edge_subset_src\":{\"id\":\"2289\"},\"k\":{\"id\":\"2287\"},\"n\":{\"id\":\"2286\"},\"nodes_src\":{\"id\":\"2265\"},\"source\":{\"id\":\"2296\"}},\"code\":\"/* Color Theme -- Using Google's Material Design Color System\\n   https://material.io/design/color/the-color-system.html */\\n\\n/** @constant {string} */\\nvar PRIMARY_COLOR = '#1565c0'\\n/** @constant {string} */\\nvar PRIMARY_LIGHT_COLOR = '#5e92f3'\\n/** @constant {string} */\\nvar PRIMARY_DARK_COLOR = '#003c8f'\\n/** @constant {string} */\\nvar SECONDARY_COLOR = '#d50000'\\n/** @constant {string} */\\nvar SECONDARY_LIGHT_COLOR = '#ff5131'\\n/** @constant {string} */\\nvar SECONDARY_DARK_COLOR = '#9b0000'\\n\\n// Grayscale\\n/** @constant {string} */\\nvar TERTIARY_COLOR = '#DFDFDF'\\n/**\\n *  Jupyter Notebook: 'white', Sphinx: '#FCFCFC'\\n *  @constant {string}\\n */\\nvar TERTIARY_LIGHT_COLOR = 'white'\\n/** @constant {string} */\\nvar TERTIARY_DARK_COLOR = '#404040'\\n/** @type {integer} */\\nvar iteration = 0\\n\\n\\n/**\\n * Increment iteration and update n Div.\\n */\\nfunction increment_iteration() {\\n    if ((parseInt(n.text) + 1) < parseInt(k.text)) {\\n        n.text = (parseInt(n.text) + 1).toString()\\n    }\\n    iteration = parseInt(n.text)\\n}\\n\\n/**\\n * Decrement iteration and update n Div.\\n */\\nfunction decrement_iteration() {\\n    if ((parseInt(n.text) - 1) >= 0) {\\n        n.text = (parseInt(n.text) - 1).toString()\\n    }\\n    iteration = parseInt(n.text)\\n}\\n\\n/**\\n * Update which nodes are highlighted given the current iteration.\\n */\\nfunction nodes_update() {\\n    var in_tree = source.data['nodes'][iteration]\\n\\n    for (let i = 0; i < nodes_src.data['line_color'].length ; i++) {\\n        if (in_tree.includes(i)) {\\n            nodes_src.data['fill_color'][i] = PRIMARY_DARK_COLOR\\n            nodes_src.data['line_color'][i] = PRIMARY_DARK_COLOR\\n        } else {\\n            nodes_src.data['fill_color'][i] = PRIMARY_LIGHT_COLOR\\n            nodes_src.data['line_color'][i] = PRIMARY_DARK_COLOR\\n        }\\n    }\\n\\n    nodes_src.change.emit()\\n}\\n\\n/**\\n * Update which subset of edges are highlighted given the current iteration.\\n */\\nfunction edge_subset_update() {\\n    edge_subset_src.data['xs'] = source.data['edge_xs'][iteration]\\n    edge_subset_src.data['ys'] = source.data['edge_ys'][iteration]\\n    edge_subset_src.change.emit()\\n}\\n\\n/**\\n * Update which swaps are updated given the current iteration\\n */\\nfunction swaps_update() {\\n    swaps_src.data['swaps_before_x'] = source.data['swaps_before_x'][iteration]\\n    swaps_src.data['swaps_before_y'] = source.data['swaps_before_y'][iteration]\\n    swaps_src.data['swaps_after_x'] = source.data['swaps_after_x'][iteration]\\n    swaps_src.data['swaps_after_y'] = source.data['swaps_after_y'][iteration]\\n    swaps_src.change.emit()\\n}\\n\\n/**\\n * Update which table is shown given the current iteration.\\n */\\nfunction table_update() {\\n    table_src.data = source.data['tables'][iteration]\\n}\\n\\n/**\\n * Update which cost is shown given the current iteration.\\n */\\nfunction cost_update() {\\n    cost.text = source.data['costs'][iteration].toFixed(1)\\n}\\n\\n/**\\n * Update done Div based on the current iteration.\\n */\\nfunction done_update() {\\n    if (iteration == parseInt(k.text) - 1) {\\n        done.text = \\\"done.\\\"\\n    } else {\\n        done.text = \\\"\\\"\\n    }\\n}\\n\\n// BEGIN FUNCTION CALLING\\nincrement_iteration()\\ndone_update()\\ncost_update()\\nedge_subset_update()\\nnodes_update()\\n\"},\"id\":\"2298\",\"type\":\"CustomJS\"},{\"attributes\":{},\"id\":\"2312\",\"type\":\"UnionRenderers\"},{\"attributes\":{},\"id\":\"2326\",\"type\":\"Selection\"},{\"attributes\":{},\"id\":\"2248\",\"type\":\"PanTool\"},{\"attributes\":{\"line_cap\":\"round\",\"line_color\":{\"value\":\"#404040\"},\"line_width\":{\"value\":5},\"xs\":{\"field\":\"xs\"},\"ys\":{\"field\":\"ys\"}},\"id\":\"2275\",\"type\":\"MultiLine\"},{\"attributes\":{},\"id\":\"2249\",\"type\":\"WheelZoomTool\"},{\"attributes\":{\"data\":{\"xs\":[],\"ys\":[]},\"selected\":{\"id\":\"2319\"},\"selection_policy\":{\"id\":\"2320\"}},\"id\":\"2289\",\"type\":\"ColumnDataSource\"},{\"attributes\":{\"args\":{\"cost\":{\"id\":\"2295\"},\"done\":{\"id\":\"2288\"},\"edge_subset_src\":{\"id\":\"2289\"},\"k\":{\"id\":\"2287\"},\"n\":{\"id\":\"2286\"},\"nodes_src\":{\"id\":\"2265\"},\"source\":{\"id\":\"2296\"}},\"code\":\"/* Color Theme -- Using Google's Material Design Color System\\n   https://material.io/design/color/the-color-system.html */\\n\\n/** @constant {string} */\\nvar PRIMARY_COLOR = '#1565c0'\\n/** @constant {string} */\\nvar PRIMARY_LIGHT_COLOR = '#5e92f3'\\n/** @constant {string} */\\nvar PRIMARY_DARK_COLOR = '#003c8f'\\n/** @constant {string} */\\nvar SECONDARY_COLOR = '#d50000'\\n/** @constant {string} */\\nvar SECONDARY_LIGHT_COLOR = '#ff5131'\\n/** @constant {string} */\\nvar SECONDARY_DARK_COLOR = '#9b0000'\\n\\n// Grayscale\\n/** @constant {string} */\\nvar TERTIARY_COLOR = '#DFDFDF'\\n/**\\n *  Jupyter Notebook: 'white', Sphinx: '#FCFCFC'\\n *  @constant {string}\\n */\\nvar TERTIARY_LIGHT_COLOR = 'white'\\n/** @constant {string} */\\nvar TERTIARY_DARK_COLOR = '#404040'\\n/** @type {integer} */\\nvar iteration = 0\\n\\n\\n/**\\n * Increment iteration and update n Div.\\n */\\nfunction increment_iteration() {\\n    if ((parseInt(n.text) + 1) < parseInt(k.text)) {\\n        n.text = (parseInt(n.text) + 1).toString()\\n    }\\n    iteration = parseInt(n.text)\\n}\\n\\n/**\\n * Decrement iteration and update n Div.\\n */\\nfunction decrement_iteration() {\\n    if ((parseInt(n.text) - 1) >= 0) {\\n        n.text = (parseInt(n.text) - 1).toString()\\n    }\\n    iteration = parseInt(n.text)\\n}\\n\\n/**\\n * Update which nodes are highlighted given the current iteration.\\n */\\nfunction nodes_update() {\\n    var in_tree = source.data['nodes'][iteration]\\n\\n    for (let i = 0; i < nodes_src.data['line_color'].length ; i++) {\\n        if (in_tree.includes(i)) {\\n            nodes_src.data['fill_color'][i] = PRIMARY_DARK_COLOR\\n            nodes_src.data['line_color'][i] = PRIMARY_DARK_COLOR\\n        } else {\\n            nodes_src.data['fill_color'][i] = PRIMARY_LIGHT_COLOR\\n            nodes_src.data['line_color'][i] = PRIMARY_DARK_COLOR\\n        }\\n    }\\n\\n    nodes_src.change.emit()\\n}\\n\\n/**\\n * Update which subset of edges are highlighted given the current iteration.\\n */\\nfunction edge_subset_update() {\\n    edge_subset_src.data['xs'] = source.data['edge_xs'][iteration]\\n    edge_subset_src.data['ys'] = source.data['edge_ys'][iteration]\\n    edge_subset_src.change.emit()\\n}\\n\\n/**\\n * Update which swaps are updated given the current iteration\\n */\\nfunction swaps_update() {\\n    swaps_src.data['swaps_before_x'] = source.data['swaps_before_x'][iteration]\\n    swaps_src.data['swaps_before_y'] = source.data['swaps_before_y'][iteration]\\n    swaps_src.data['swaps_after_x'] = source.data['swaps_after_x'][iteration]\\n    swaps_src.data['swaps_after_y'] = source.data['swaps_after_y'][iteration]\\n    swaps_src.change.emit()\\n}\\n\\n/**\\n * Update which table is shown given the current iteration.\\n */\\nfunction table_update() {\\n    table_src.data = source.data['tables'][iteration]\\n}\\n\\n/**\\n * Update which cost is shown given the current iteration.\\n */\\nfunction cost_update() {\\n    cost.text = source.data['costs'][iteration].toFixed(1)\\n}\\n\\n/**\\n * Update done Div based on the current iteration.\\n */\\nfunction done_update() {\\n    if (iteration == parseInt(k.text) - 1) {\\n        done.text = \\\"done.\\\"\\n    } else {\\n        done.text = \\\"\\\"\\n    }\\n}\\n\\n// BEGIN FUNCTION CALLING\\ndecrement_iteration()\\ndone_update()\\ncost_update()\\nedge_subset_update()\\nnodes_update()\\n\"},\"id\":\"2300\",\"type\":\"CustomJS\"},{\"attributes\":{\"end\":122.2,\"start\":-18.200000000000003},\"id\":\"2234\",\"type\":\"Range1d\"},{\"attributes\":{\"callback\":null,\"renderers\":[{\"id\":\"2269\"}],\"tooltips\":[[\"Index\",\"$index\"],[\"Name\",\"@name\"]]},\"id\":\"2301\",\"type\":\"HoverTool\"},{\"attributes\":{\"source\":{\"id\":\"2265\"}},\"id\":\"2270\",\"type\":\"CDSView\"},{\"attributes\":{\"line_cap\":\"round\",\"line_color\":{\"field\":\"line_color\"},\"line_width\":{\"value\":5},\"xs\":{\"field\":\"xs\"},\"ys\":{\"field\":\"ys\"}},\"id\":\"2274\",\"type\":\"MultiLine\"},{\"attributes\":{\"formatter\":{\"id\":\"2309\"},\"ticker\":{\"id\":\"2241\"},\"visible\":false},\"id\":\"2240\",\"type\":\"LinearAxis\"},{\"attributes\":{\"overlay\":{\"id\":\"2254\"}},\"id\":\"2250\",\"type\":\"BoxZoomTool\"},{\"attributes\":{\"data\":{\"fill_color\":[\"#5e92f3\",\"#5e92f3\",\"#5e92f3\",\"#5e92f3\",\"#5e92f3\",\"#5e92f3\",\"#5e92f3\",\"#5e92f3\",\"#5e92f3\",\"#5e92f3\",\"#5e92f3\",\"#5e92f3\",\"#5e92f3\",\"#5e92f3\",\"#5e92f3\",\"#5e92f3\"],\"line_color\":[\"#003c8f\",\"#003c8f\",\"#003c8f\",\"#003c8f\",\"#003c8f\",\"#003c8f\",\"#003c8f\",\"#003c8f\",\"#003c8f\",\"#003c8f\",\"#003c8f\",\"#003c8f\",\"#003c8f\",\"#003c8f\",\"#003c8f\",\"#003c8f\"],\"line_width\":[3,3,3,3,3,3,3,3,3,3,3,3,3,3,3,3],\"x\":[6,20,72,111,194,178,199,205,207,198,165,157,162,144,127,189],\"y\":[71,59,31,-8,-8,38,86,96,106,103,97,84,112,112,97,93]},\"selected\":{\"id\":\"2313\"},\"selection_policy\":{\"id\":\"2314\"}},\"id\":\"2265\",\"type\":\"ColumnDataSource\"},{\"attributes\":{},\"id\":\"2319\",\"type\":\"Selection\"},{\"attributes\":{\"data_source\":{\"id\":\"2265\"},\"glyph\":{\"id\":\"2267\"},\"hover_glyph\":null,\"muted_glyph\":null,\"nonselection_glyph\":{\"id\":\"2268\"},\"selection_glyph\":null,\"view\":{\"id\":\"2270\"}},\"id\":\"2269\",\"type\":\"GlyphRenderer\"},{\"attributes\":{\"data_source\":{\"id\":\"2289\"},\"glyph\":{\"id\":\"2291\"},\"hover_glyph\":null,\"level\":\"underlay\",\"muted_glyph\":null,\"nonselection_glyph\":{\"id\":\"2292\"},\"selection_glyph\":null,\"view\":{\"id\":\"2294\"}},\"id\":\"2293\",\"type\":\"GlyphRenderer\"},{\"attributes\":{\"text\":\"\"},\"id\":\"2230\",\"type\":\"Title\"},{\"attributes\":{},\"id\":\"2252\",\"type\":\"ResetTool\"},{\"attributes\":{\"line_cap\":\"round\",\"line_color\":{\"field\":\"line_color\"},\"line_width\":{\"value\":5},\"xs\":{\"field\":\"xs\"},\"ys\":{\"field\":\"ys\"}},\"id\":\"2273\",\"type\":\"MultiLine\"},{\"attributes\":{\"line_cap\":\"round\",\"line_color\":{\"value\":\"#404040\"},\"line_width\":{\"value\":5},\"xs\":{\"field\":\"xs\"},\"ys\":{\"field\":\"ys\"}},\"id\":\"2291\",\"type\":\"MultiLine\"},{\"attributes\":{},\"id\":\"2315\",\"type\":\"Selection\"},{\"attributes\":{},\"id\":\"2320\",\"type\":\"UnionRenderers\"},{\"attributes\":{\"align\":\"center\",\"text\":\"0\",\"width\":900},\"id\":\"2286\",\"type\":\"Div\"},{\"attributes\":{\"children\":[{\"id\":\"2299\"},{\"id\":\"2297\"}],\"max_width\":900,\"sizing_mode\":\"stretch_both\"},\"id\":\"2303\",\"type\":\"Row\"},{\"attributes\":{\"data_source\":{\"id\":\"2278\"},\"glyph\":{\"id\":\"2279\"},\"hover_glyph\":null,\"level\":\"guide\",\"muted_glyph\":null,\"nonselection_glyph\":{\"id\":\"2280\"},\"selection_glyph\":null,\"view\":{\"id\":\"2282\"}},\"id\":\"2281\",\"type\":\"GlyphRenderer\"},{\"attributes\":{},\"id\":\"2245\",\"type\":\"BasicTicker\"},{\"attributes\":{},\"id\":\"2251\",\"type\":\"SaveTool\"},{\"attributes\":{\"data\":{\"xs\":[[11.867393549830293,14.1326064501697],[64.2132081933475,68.78679180665253],[43.98457472802465,48.01542527197538],[71.31392773909235,75.68607226090765],[100.9065151137992,98.09348488620083],[140.5887402418824,143.4112597581176],[142.37870743870653,146.62129256129347],[134.3832167600553,136.6167832399447],[89.9311343589464,93.06886564105363],[112.57004046214576,116.42995953785424],[150.1483,154.85170000000002],[142.6336759201498,146.3663240798502],[133.03894314211007,134.96105685788993],[166.61006419357236,168.38993580642764],[160.24329823001975,161.75670176998028],[159.25243123412935,159.74756876587068],[151.1019039619186,149.89809603808138],[186.69937892443528,185.30062107556475],[187.6421179461765,189.35788205382346],[201.25793580143863,202.74206419856134],[195.23521488209917,192.7647851179008],[205.72359827057616,206.2764017294238],[202.54591042736908,200.45408957263095],[192.51616586095076,194.4838341390492],[178.54133338379128,175.4586666162087],[203.96931436315347,201.03068563684658],[183.03645249636594,179.96354750363403],[154.5678,151.4322]],\"ys\":[[65.9708055287169,64.02919447128312],[83.50862324815732,84.4913767518427],[46.085228992602126,43.914771007397874],[77.22363788864963,78.77636211135038],[65.68781813655903,62.31218186344098],[91.11154589518429,89.88845410481571],[103.59087461658854,105.40912538341149],[103.51460302357822,105.48539697642181],[13.06886564105362,9.93113435894638],[56.296613464632046,58.703386535367954],[-7.999999999999998,-7.999999999999998],[13.718643169058069,16.281356830941924],[36.07788628422017,39.922113715779815],[62.949383195031956,59.05061680496806],[89.27035962378204,91.72964037621796],[96.61361491112429,99.38638508887571],[96.70359146663688,99.29640853336312],[12.989285592248606,17.010714407751394],[60.03912673411776,63.960873265882256],[89.76322633573106,92.23677366426892],[88.63534958253058,90.36465041746942],[99.61799135288078,102.38200864711922],[98.45408957263092,100.54591042736905],[96.90685095661199,99.09314904338801],[94.74311110270146,95.25688889729855],[104.98977145438448,104.01022854561555],[100.27935499933926,99.72064500066074],[112.00000000000001,112.00000000000001]]},\"selected\":{\"id\":\"2317\"},\"selection_policy\":{\"id\":\"2318\"}},\"id\":\"2278\",\"type\":\"ColumnDataSource\"},{\"attributes\":{},\"id\":\"2311\",\"type\":\"Selection\"},{\"attributes\":{\"data\":{\"text\":[4,24,12,19,20,8,10,6,10,25,14,18,18,14,4,8,8,12,14,3,3,1,2,4,6,2,6,4],\"x\":{\"__ndarray__\":\"/v//////KUAAAAAAAKBQQAEAAAAAAEdAAAAAAABgUkAAAAAAAOBYQAAAAAAAwGFAAAAAAAAQYkAAAAAAAPBgQAAAAAAA4FZAAAAAAACgXEABAAAAABBjQAAAAAAAEGJAAAAAAADAYEAAAAAAAPBkQAAAAAAAIGRAAAAAAADwY0D//////89iQAAAAAAAQGdAAAAAAACQZ0D//////z9pQAAAAAAAQGhAAAAAAADAaUAAAAAAADBpQAAAAAAAMGhA//////8fZkABAAAAAFBpQAAAAAAAsGZAAAAAAAAgY0A=\",\"dtype\":\"float64\",\"order\":\"little\",\"shape\":[28]},\"y\":{\"__ndarray__\":\"AAAAAABAUEAAAAAAAABVQAAAAAAAgEZAAAAAAACAU0AAAAAAAABQQAAAAAAAoFZAAAAAAAAgWkAAAAAAACBaQAAAAAAAACdAAAAAAADATED+//////8fwAAAAAAAAC5AAAAAAAAAQ0ACAAAAAIBOQAAAAAAAoFZAAAAAAACAWEAAAAAAAIBYQAAAAAAAAC5AAgAAAAAAT0AAAAAAAMBWQAAAAAAAYFZAAAAAAABAWUD//////99YQAAAAAAAgFhAAAAAAADAV0AAAAAAACBaQAAAAAAAAFlAAQAAAAAAXEA=\",\"dtype\":\"float64\",\"order\":\"little\",\"shape\":[28]}},\"selected\":{\"id\":\"2311\"},\"selection_policy\":{\"id\":\"2312\"}},\"id\":\"2283\",\"type\":\"ColumnDataSource\"},{\"attributes\":{\"axis\":{\"id\":\"2240\"},\"grid_line_color\":null,\"ticker\":null},\"id\":\"2243\",\"type\":\"Grid\"},{\"attributes\":{\"formatter\":{\"id\":\"2307\"},\"ticker\":{\"id\":\"2245\"},\"visible\":false},\"id\":\"2244\",\"type\":\"LinearAxis\"}],\"root_ids\":[\"2328\"]},\"title\":\"Bokeh Application\",\"version\":\"2.2.3\"}};\n",
       "  var render_items = [{\"docid\":\"b41ebdb7-4c08-48a7-9750-cb5f984ba286\",\"root_ids\":[\"2328\"],\"roots\":{\"2328\":\"912bc2e8-28a0-42d3-bba2-143153eb4663\"}}];\n",
       "  root.Bokeh.embed.embed_items_notebook(docs_json, render_items);\n",
       "\n",
       "  }\n",
       "  if (root.Bokeh !== undefined) {\n",
       "    embed_document(root);\n",
       "  } else {\n",
       "    var attempts = 0;\n",
       "    var timer = setInterval(function(root) {\n",
       "      if (root.Bokeh !== undefined) {\n",
       "        clearInterval(timer);\n",
       "        embed_document(root);\n",
       "      } else {\n",
       "        attempts++;\n",
       "        if (attempts > 100) {\n",
       "          clearInterval(timer);\n",
       "          console.log(\"Bokeh: ERROR: Unable to run BokehJS code because BokehJS library is missing\");\n",
       "        }\n",
       "      }\n",
       "    }, 10, root)\n",
       "  }\n",
       "})(window);"
      ],
      "application/vnd.bokehjs_exec.v0+json": ""
     },
     "metadata": {
      "application/vnd.bokehjs_exec.v0+json": {
       "id": "2328"
      }
     },
     "output_type": "display_data"
    }
   ],
   "source": [
    "show(vl.mst_algorithm_plot(G, algorithm='prims', i=0, width=900, height=600))"
   ]
  },
  {
   "cell_type": "markdown",
   "metadata": {},
   "source": [
    "Now we turn to another algorithm which is called Kruskal's\n",
    "Algorithm. This is an example of a so- called Greedy Algorithm,\n",
    "i.e. an algorithm that always takes the step that \"looks best\"\n",
    "currently. Greedy algorithms are widely used in computer science\n",
    "beyond just solving the MST. Kruskal's algorithm works as follows:\n",
    "\n",
    "1. Begin with the cheapest edge (break ties arbitrarily).\n",
    "2. At each step, add the cheapest edge not already in the system that does not create a cycle, or a loop in the system.\n",
    "3. Continue adding edges until you get a spanning tree."
   ]
  },
  {
   "cell_type": "code",
   "execution_count": 7,
   "metadata": {},
   "outputs": [
    {
     "data": {
      "text/html": [
       "\n",
       "\n",
       "\n",
       "\n",
       "\n",
       "\n",
       "  <div class=\"bk-root\" id=\"1356e47c-26ca-49f3-8d1a-9217967ec0b8\" data-root-id=\"2137\"></div>\n"
      ]
     },
     "metadata": {},
     "output_type": "display_data"
    },
    {
     "data": {
      "application/javascript": [
       "(function(root) {\n",
       "  function embed_document(root) {\n",
       "    \n",
       "  var docs_json = {\"b1f232c3-1871-48d4-a4c2-6d780320ee45\":{\"roots\":{\"references\":[{\"attributes\":{\"children\":[[{\"id\":\"2061\"},0,0],[{\"id\":\"2121\"},1,0]]},\"id\":\"2137\",\"type\":\"GridBox\"},{\"attributes\":{\"axis\":{\"id\":\"2072\"},\"grid_line_color\":null,\"ticker\":null},\"id\":\"2075\",\"type\":\"Grid\"},{\"attributes\":{\"data_source\":{\"id\":\"2097\"},\"glyph\":{\"id\":\"2099\"},\"hover_glyph\":null,\"muted_glyph\":null,\"nonselection_glyph\":{\"id\":\"2100\"},\"selection_glyph\":null,\"view\":{\"id\":\"2102\"}},\"id\":\"2101\",\"type\":\"GlyphRenderer\"},{\"attributes\":{\"source\":{\"id\":\"2097\"}},\"id\":\"2102\",\"type\":\"CDSView\"},{\"attributes\":{\"overlay\":{\"id\":\"2086\"}},\"id\":\"2082\",\"type\":\"BoxZoomTool\"},{\"attributes\":{},\"id\":\"2131\",\"type\":\"Selection\"},{\"attributes\":{},\"id\":\"2130\",\"type\":\"UnionRenderers\"},{\"attributes\":{\"children\":[{\"id\":\"2118\"}]},\"id\":\"2121\",\"type\":\"Row\"},{\"attributes\":{},\"id\":\"2083\",\"type\":\"SaveTool\"},{\"attributes\":{},\"id\":\"2132\",\"type\":\"UnionRenderers\"},{\"attributes\":{\"fill_color\":{\"field\":\"fill_color\"},\"line_color\":{\"field\":\"line_color\"},\"line_width\":{\"field\":\"line_width\"},\"size\":{\"units\":\"screen\",\"value\":11},\"x\":{\"field\":\"x\"},\"y\":{\"field\":\"y\"}},\"id\":\"2099\",\"type\":\"Circle\"},{\"attributes\":{},\"id\":\"2084\",\"type\":\"ResetTool\"},{\"attributes\":{\"fill_color\":{\"field\":\"fill_color\"},\"line_color\":{\"field\":\"line_color\"},\"line_width\":{\"field\":\"line_width\"},\"size\":{\"units\":\"screen\",\"value\":11},\"x\":{\"field\":\"x\"},\"y\":{\"field\":\"y\"}},\"id\":\"2100\",\"type\":\"Circle\"},{\"attributes\":{},\"id\":\"2133\",\"type\":\"Selection\"},{\"attributes\":{},\"id\":\"2085\",\"type\":\"HelpTool\"},{\"attributes\":{\"formatter\":{\"id\":\"2125\"},\"ticker\":{\"id\":\"2077\"},\"visible\":false},\"id\":\"2076\",\"type\":\"LinearAxis\"},{\"attributes\":{},\"id\":\"2134\",\"type\":\"UnionRenderers\"},{\"attributes\":{},\"id\":\"2081\",\"type\":\"WheelZoomTool\"},{\"attributes\":{},\"id\":\"2135\",\"type\":\"Selection\"},{\"attributes\":{},\"id\":\"2128\",\"type\":\"Selection\"},{\"attributes\":{\"active_drag\":null,\"active_inspect\":\"auto\",\"active_multi\":null,\"active_scroll\":null,\"active_tap\":\"auto\",\"logo\":null,\"tools\":[{\"id\":\"2080\"},{\"id\":\"2081\"},{\"id\":\"2082\"},{\"id\":\"2083\"},{\"id\":\"2084\"},{\"id\":\"2085\"},{\"id\":\"2119\"}]},\"id\":\"2087\",\"type\":\"Toolbar\"},{\"attributes\":{\"formatter\":{\"id\":\"2123\"},\"ticker\":{\"id\":\"2073\"},\"visible\":false},\"id\":\"2072\",\"type\":\"LinearAxis\"},{\"attributes\":{\"axis\":{\"id\":\"2076\"},\"dimension\":1,\"grid_line_color\":null,\"ticker\":null},\"id\":\"2079\",\"type\":\"Grid\"},{\"attributes\":{\"source\":{\"id\":\"2103\"}},\"id\":\"2109\",\"type\":\"CDSView\"},{\"attributes\":{\"data\":{\"xs\":[[11.301090324745442,14.698909675254566],[63.069812290021225,69.93018770997878],[42.976862092036946,49.02313790796307],[70.22089160863857,76.77910839136149],[101.60977267069882,97.39022732930124],[139.8831103628236,144.11688963717637],[141.31806115805978,147.68193884194022],[133.82482514008294,137.17517485991706],[89.14670153841959,93.85329846158044],[111.6050606932186,117.3949393067814],[148.97244999999998,156.02755],[141.7005138802247,147.2994861197753],[132.55841471316512,135.44158528683488],[166.16509629035858,168.83490370964145],[159.86494734502958,162.13505265497042],[159.128646851194,159.87135314880598],[151.4028559428779,149.5971440571221],[187.04906838665292,184.9509316133471],[187.21317691926478,189.78682308073522],[200.88690370215798,203.11309629784205],[195.85282232314876,192.14717767685121],[205.58539740586426,206.41460259413577],[203.06886564105358,199.9311343589464],[192.02424879142615,194.9757512085738],[179.31200007568697,174.68799992431306],[204.7039715447302,200.29602845526986],[183.80467874454894,179.19532125545106],[155.3517,150.6483]],\"ys\":[[66.45620829307533,63.543791706924665],[83.26293487223596,84.73706512776401],[46.62784348890318,43.372156511096804],[76.83545683297443,79.16454316702556],[66.53172720483855,61.46827279516147],[91.41731884277647,89.58268115722356],[103.13631192488276,105.86368807511724],[103.0219045353673,105.9780954646327],[13.85329846158043,9.146701538419578],[55.694920196948075,59.305079803051925],[-7.999999999999998,-7.999999999999998],[13.077964753587104,16.92203524641289],[35.11682942633026,40.883170573669744],[63.92407479254794,58.07592520745206],[88.65553943567308,92.34446056432695],[95.92042236668642,100.07957763331359],[96.05538719995533,99.9446128000447],[11.98392838837291,18.016071611627098],[59.05869010117662,64.94130989882336],[89.14483950359659,92.85516049640341],[88.20302437379587,90.79697562620413],[98.9269870293212,103.07301297067883],[97.93113435894641,101.0688656410536],[96.360276434918,99.63972356508202],[94.6146666540522,95.38533334594783],[105.23465718157672,103.76534281842328],[100.41903249900889,99.58096750099111],[112.00000000000001,112.00000000000001]]},\"selected\":{\"id\":\"2135\"},\"selection_policy\":{\"id\":\"2134\"}},\"id\":\"2110\",\"type\":\"ColumnDataSource\"},{\"attributes\":{\"line_cap\":\"round\",\"line_color\":{\"field\":\"line_color\"},\"line_width\":{\"value\":5},\"xs\":{\"field\":\"xs\"},\"ys\":{\"field\":\"ys\"}},\"id\":\"2105\",\"type\":\"MultiLine\"},{\"attributes\":{\"data\":{\"text\":[4,24,12,19,20,8,10,6,10,25,14,18,18,14,4,8,8,12,14,3,3,1,2,4,6,2,6,4],\"x\":{\"__ndarray__\":\"AgAAAAAAKkAAAAAAAKBQQAEAAAAAAEdAAgAAAABgUkACAAAAAOBYQP//////v2FAAAAAAAAQYkAAAAAAAPBgQAAAAAAA4FZAAAAAAACgXED//////w9jQAAAAAAAEGJAAAAAAADAYEAAAAAAAPBkQAAAAAAAIGRAAAAAAADwY0AAAAAAANBiQAEAAAAAQGdAAAAAAACQZ0AAAAAAAEBpQAAAAAAAQGhAAQAAAADAaUAAAAAAADBpQP//////L2hAAAAAAAAgZkABAAAAAFBpQAAAAAAAsGZAAAAAAAAgY0A=\",\"dtype\":\"float64\",\"order\":\"little\",\"shape\":[28]},\"y\":{\"__ndarray__\":\"AAAAAABAUED///////9UQAAAAAAAgEZA//////9/U0AAAAAAAABQQAEAAAAAoFZAAAAAAAAgWkAAAAAAACBaQAAAAAAAACdAAAAAAADATED+//////8fwAAAAAAAAC5AAAAAAAAAQ0ACAAAAAIBOQAEAAAAAoFZAAQAAAACAWEABAAAAAIBYQAAAAAAAAC5AAAAAAAAAT0AAAAAAAMBWQAAAAAAAYFZAAAAAAABAWUABAAAAAOBYQAEAAAAAgFhAAQAAAADAV0AAAAAAACBaQAAAAAAAAFlAAQAAAAAAXEA=\",\"dtype\":\"float64\",\"order\":\"little\",\"shape\":[28]}},\"selected\":{\"id\":\"2128\"},\"selection_policy\":{\"id\":\"2127\"}},\"id\":\"2115\",\"type\":\"ColumnDataSource\"},{\"attributes\":{},\"id\":\"2070\",\"type\":\"LinearScale\"},{\"attributes\":{},\"id\":\"2073\",\"type\":\"BasicTicker\"},{\"attributes\":{\"data_source\":{\"id\":\"2110\"},\"glyph\":{\"id\":\"2111\"},\"hover_glyph\":null,\"level\":\"guide\",\"muted_glyph\":null,\"nonselection_glyph\":{\"id\":\"2112\"},\"selection_glyph\":null,\"view\":{\"id\":\"2114\"}},\"id\":\"2113\",\"type\":\"GlyphRenderer\"},{\"attributes\":{\"line_color\":{\"value\":\"white\"},\"line_width\":{\"value\":6},\"xs\":{\"field\":\"xs\"},\"ys\":{\"field\":\"ys\"}},\"id\":\"2111\",\"type\":\"MultiLine\"},{\"attributes\":{\"source\":{\"id\":\"2110\"}},\"id\":\"2114\",\"type\":\"CDSView\"},{\"attributes\":{\"data\":{\"fill_color\":[\"#5e92f3\",\"#5e92f3\",\"#5e92f3\",\"#5e92f3\",\"#5e92f3\",\"#5e92f3\",\"#5e92f3\",\"#5e92f3\",\"#5e92f3\",\"#5e92f3\",\"#5e92f3\",\"#5e92f3\",\"#5e92f3\",\"#5e92f3\",\"#5e92f3\",\"#5e92f3\"],\"line_color\":[\"#003c8f\",\"#003c8f\",\"#003c8f\",\"#003c8f\",\"#003c8f\",\"#003c8f\",\"#003c8f\",\"#003c8f\",\"#003c8f\",\"#003c8f\",\"#003c8f\",\"#003c8f\",\"#003c8f\",\"#003c8f\",\"#003c8f\",\"#003c8f\"],\"line_width\":[3,3,3,3,3,3,3,3,3,3,3,3,3,3,3,3],\"x\":[6,20,72,111,194,178,199,205,207,198,165,157,162,144,127,189],\"y\":[71,59,31,-8,-8,38,86,96,106,103,97,84,112,112,97,93]},\"selected\":{\"id\":\"2131\"},\"selection_policy\":{\"id\":\"2130\"}},\"id\":\"2097\",\"type\":\"ColumnDataSource\"},{\"attributes\":{\"line_cap\":\"round\",\"line_color\":{\"field\":\"line_color\"},\"line_width\":{\"value\":5},\"xs\":{\"field\":\"xs\"},\"ys\":{\"field\":\"ys\"}},\"id\":\"2106\",\"type\":\"MultiLine\"},{\"attributes\":{\"line_color\":{\"value\":\"white\"},\"line_width\":{\"value\":6},\"xs\":{\"field\":\"xs\"},\"ys\":{\"field\":\"ys\"}},\"id\":\"2112\",\"type\":\"MultiLine\"},{\"attributes\":{\"background_fill_color\":null,\"below\":[{\"id\":\"2072\"}],\"border_fill_color\":null,\"center\":[{\"id\":\"2075\"},{\"id\":\"2079\"},{\"id\":\"2116\"}],\"left\":[{\"id\":\"2076\"}],\"outline_line_color\":null,\"plot_height\":400,\"renderers\":[{\"id\":\"2101\"},{\"id\":\"2108\"},{\"id\":\"2113\"}],\"title\":{\"id\":\"2062\"},\"toolbar\":{\"id\":\"2087\"},\"toolbar_location\":null,\"x_range\":{\"id\":\"2064\"},\"x_scale\":{\"id\":\"2068\"},\"y_range\":{\"id\":\"2066\"},\"y_scale\":{\"id\":\"2070\"}},\"id\":\"2061\",\"subtype\":\"Figure\",\"type\":\"Plot\"},{\"attributes\":{\"data_source\":{\"id\":\"2103\"},\"glyph\":{\"id\":\"2105\"},\"hover_glyph\":{\"id\":\"2107\"},\"level\":\"underlay\",\"muted_glyph\":null,\"nonselection_glyph\":{\"id\":\"2106\"},\"selection_glyph\":null,\"view\":{\"id\":\"2109\"}},\"id\":\"2108\",\"type\":\"GlyphRenderer\"},{\"attributes\":{\"source\":{\"id\":\"2115\"},\"text_align\":\"center\",\"text_baseline\":\"middle\",\"text_color\":{\"value\":\"black\"},\"text_font_size\":{\"value\":\"13px\"},\"x\":{\"field\":\"x\"},\"y\":{\"field\":\"y\"}},\"id\":\"2116\",\"type\":\"LabelSet\"},{\"attributes\":{},\"id\":\"2080\",\"type\":\"PanTool\"},{\"attributes\":{\"bottom_units\":\"screen\",\"fill_alpha\":0.5,\"fill_color\":\"lightgrey\",\"left_units\":\"screen\",\"level\":\"overlay\",\"line_alpha\":1.0,\"line_color\":\"black\",\"line_dash\":[4,4],\"line_width\":2,\"right_units\":\"screen\",\"top_units\":\"screen\"},\"id\":\"2086\",\"type\":\"BoxAnnotation\"},{\"attributes\":{\"callback\":null,\"renderers\":[{\"id\":\"2101\"}],\"tooltips\":[[\"Index\",\"$index\"],[\"Name\",\"@name\"]]},\"id\":\"2119\",\"type\":\"HoverTool\"},{\"attributes\":{\"end\":122.2,\"start\":-18.200000000000003},\"id\":\"2066\",\"type\":\"Range1d\"},{\"attributes\":{},\"id\":\"2125\",\"type\":\"BasicTickFormatter\"},{\"attributes\":{},\"id\":\"2077\",\"type\":\"BasicTicker\"},{\"attributes\":{\"data\":{\"line_color\":[\"#DFDFDF\",\"#DFDFDF\",\"#DFDFDF\",\"#DFDFDF\",\"#DFDFDF\",\"#DFDFDF\",\"#DFDFDF\",\"#DFDFDF\",\"#DFDFDF\",\"#DFDFDF\",\"#DFDFDF\",\"#DFDFDF\",\"#DFDFDF\",\"#DFDFDF\",\"#DFDFDF\",\"#DFDFDF\",\"#DFDFDF\",\"#DFDFDF\",\"#DFDFDF\",\"#DFDFDF\",\"#DFDFDF\",\"#DFDFDF\",\"#DFDFDF\",\"#DFDFDF\",\"#DFDFDF\",\"#DFDFDF\",\"#DFDFDF\",\"#DFDFDF\"],\"u\":[0,0,1,1,14,14,14,14,2,2,3,3,3,11,11,11,11,4,5,6,6,7,7,15,15,8,9,12],\"v\":[1,14,2,14,2,11,12,13,3,11,4,5,11,5,10,12,13,5,6,7,15,8,9,9,10,9,10,13],\"weight\":[4,24,12,19,20,8,10,6,10,25,14,18,18,14,4,8,8,12,14,3,3,1,2,4,6,2,6,4],\"xs\":[[6,20],[6,127],[20,72],[20,127],[127,72],[127,157],[127,162],[127,144],[72,111],[72,157],[111,194],[111,178],[111,157],[157,178],[157,165],[157,162],[157,144],[194,178],[178,199],[199,205],[199,189],[205,207],[205,198],[189,198],[189,165],[207,198],[198,165],[162,144]],\"ys\":[[71,59],[71,97],[59,31],[59,97],[97,31],[97,84],[97,112],[97,112],[31,-8],[31,84],[-8,-8],[-8,38],[-8,84],[84,38],[84,97],[84,112],[84,112],[-8,38],[38,86],[86,96],[86,93],[96,106],[96,103],[93,103],[93,97],[106,103],[103,97],[112,112]]},\"selected\":{\"id\":\"2133\"},\"selection_policy\":{\"id\":\"2132\"}},\"id\":\"2103\",\"type\":\"ColumnDataSource\"},{\"attributes\":{},\"id\":\"2068\",\"type\":\"LinearScale\"},{\"attributes\":{\"align\":\"center\",\"width\":300},\"id\":\"2118\",\"type\":\"Div\"},{\"attributes\":{},\"id\":\"2123\",\"type\":\"BasicTickFormatter\"},{\"attributes\":{},\"id\":\"2127\",\"type\":\"UnionRenderers\"},{\"attributes\":{\"text\":\"\"},\"id\":\"2062\",\"type\":\"Title\"},{\"attributes\":{\"end\":224.085,\"start\":-11.085},\"id\":\"2064\",\"type\":\"Range1d\"},{\"attributes\":{\"line_cap\":\"round\",\"line_color\":{\"value\":\"#404040\"},\"line_width\":{\"value\":5},\"xs\":{\"field\":\"xs\"},\"ys\":{\"field\":\"ys\"}},\"id\":\"2107\",\"type\":\"MultiLine\"}],\"root_ids\":[\"2137\"]},\"title\":\"Bokeh Application\",\"version\":\"2.2.3\"}};\n",
       "  var render_items = [{\"docid\":\"b1f232c3-1871-48d4-a4c2-6d780320ee45\",\"root_ids\":[\"2137\"],\"roots\":{\"2137\":\"1356e47c-26ca-49f3-8d1a-9217967ec0b8\"}}];\n",
       "  root.Bokeh.embed.embed_items_notebook(docs_json, render_items);\n",
       "\n",
       "  }\n",
       "  if (root.Bokeh !== undefined) {\n",
       "    embed_document(root);\n",
       "  } else {\n",
       "    var attempts = 0;\n",
       "    var timer = setInterval(function(root) {\n",
       "      if (root.Bokeh !== undefined) {\n",
       "        clearInterval(timer);\n",
       "        embed_document(root);\n",
       "      } else {\n",
       "        attempts++;\n",
       "        if (attempts > 100) {\n",
       "          clearInterval(timer);\n",
       "          console.log(\"Bokeh: ERROR: Unable to run BokehJS code because BokehJS library is missing\");\n",
       "        }\n",
       "      }\n",
       "    }, 10, root)\n",
       "  }\n",
       "})(window);"
      ],
      "application/vnd.bokehjs_exec.v0+json": ""
     },
     "metadata": {
      "application/vnd.bokehjs_exec.v0+json": {
       "id": "2137"
      }
     },
     "output_type": "display_data"
    }
   ],
   "source": [
    "show(vl.tree_plot(G, tree=[], width=600))"
   ]
  },
  {
   "cell_type": "markdown",
   "metadata": {},
   "source": [
    "**Q7:** Run the first 5 iterations of this algorithm. Show your work: indicate the order in which you add the edges and also indicate (differently) any edges that you considered adding (but decided not to because they created a cycle or loop).\n",
    "\n",
    "**A:** <font color='blue'> Add edges in this order: (7,8), (9,8), **(9,7)**, (7,6), (15,6), **(15,9)**, (11,10) where bold edges were considered but not added.</font>"
   ]
  },
  {
   "cell_type": "markdown",
   "metadata": {},
   "source": [
    "Run the cell below."
   ]
  },
  {
   "cell_type": "code",
   "execution_count": 6,
   "metadata": {},
   "outputs": [
    {
     "data": {
      "text/html": [
       "\n",
       "\n",
       "\n",
       "\n",
       "\n",
       "\n",
       "  <div class=\"bk-root\" id=\"27bde456-c310-4495-ba48-ffeb8714b934\" data-root-id=\"1881\"></div>\n"
      ]
     },
     "metadata": {},
     "output_type": "display_data"
    },
    {
     "data": {
      "application/javascript": [
       "(function(root) {\n",
       "  function embed_document(root) {\n",
       "    \n",
       "  var docs_json = {\"eb6fe66d-c61b-47bf-98d9-05a635bbe9bc\":{\"roots\":{\"references\":[{\"attributes\":{\"children\":[[{\"id\":\"1791\"},0,0],[{\"id\":\"1861\"},1,0]]},\"id\":\"1881\",\"type\":\"GridBox\"},{\"attributes\":{},\"id\":\"1863\",\"type\":\"BasicTickFormatter\"},{\"attributes\":{},\"id\":\"1870\",\"type\":\"Selection\"},{\"attributes\":{\"data\":{\"line_color\":[\"#DFDFDF\",\"#DFDFDF\",\"#DFDFDF\",\"#DFDFDF\",\"#DFDFDF\",\"#DFDFDF\",\"#DFDFDF\",\"#DFDFDF\",\"#DFDFDF\",\"#DFDFDF\",\"#DFDFDF\",\"#DFDFDF\",\"#DFDFDF\",\"#DFDFDF\",\"#DFDFDF\",\"#DFDFDF\",\"#DFDFDF\",\"#DFDFDF\",\"#DFDFDF\",\"#DFDFDF\",\"#DFDFDF\",\"#DFDFDF\",\"#DFDFDF\",\"#DFDFDF\",\"#DFDFDF\",\"#DFDFDF\",\"#DFDFDF\",\"#DFDFDF\"],\"u\":[0,0,1,1,14,14,14,14,2,2,3,3,3,11,11,11,11,4,5,6,6,7,7,15,15,8,9,12],\"v\":[1,14,2,14,2,11,12,13,3,11,4,5,11,5,10,12,13,5,6,7,15,8,9,9,10,9,10,13],\"weight\":[4,24,12,19,20,8,10,6,10,25,14,18,18,14,4,8,8,12,14,3,3,1,2,4,6,2,6,4],\"xs\":[[6,20],[6,127],[20,72],[20,127],[127,72],[127,157],[127,162],[127,144],[72,111],[72,157],[111,194],[111,178],[111,157],[157,178],[157,165],[157,162],[157,144],[194,178],[178,199],[199,205],[199,189],[205,207],[205,198],[189,198],[189,165],[207,198],[198,165],[162,144]],\"ys\":[[71,59],[71,97],[59,31],[59,97],[97,31],[97,84],[97,112],[97,112],[31,-8],[31,84],[-8,-8],[-8,38],[-8,84],[84,38],[84,97],[84,112],[84,112],[-8,38],[38,86],[86,96],[86,93],[96,106],[96,103],[93,103],[93,97],[106,103],[103,97],[112,112]]},\"selected\":{\"id\":\"1870\"},\"selection_policy\":{\"id\":\"1869\"}},\"id\":\"1833\",\"type\":\"ColumnDataSource\"},{\"attributes\":{\"source\":{\"id\":\"1845\"},\"text_align\":\"center\",\"text_baseline\":\"middle\",\"text_color\":{\"value\":\"black\"},\"text_font_size\":{\"value\":\"13px\"},\"x\":{\"field\":\"x\"},\"y\":{\"field\":\"y\"}},\"id\":\"1846\",\"type\":\"LabelSet\"},{\"attributes\":{\"align\":\"center\",\"text\":\"[]\",\"width\":300},\"id\":\"1851\",\"type\":\"Div\"},{\"attributes\":{},\"id\":\"1798\",\"type\":\"LinearScale\"},{\"attributes\":{\"line_cap\":\"round\",\"line_color\":{\"field\":\"line_color\"},\"line_width\":{\"value\":5},\"xs\":{\"field\":\"xs\"},\"ys\":{\"field\":\"ys\"}},\"id\":\"1835\",\"type\":\"MultiLine\"},{\"attributes\":{},\"id\":\"1800\",\"type\":\"LinearScale\"},{\"attributes\":{\"bottom_units\":\"screen\",\"fill_alpha\":0.5,\"fill_color\":\"lightgrey\",\"left_units\":\"screen\",\"level\":\"overlay\",\"line_alpha\":1.0,\"line_color\":\"black\",\"line_dash\":[4,4],\"line_width\":2,\"right_units\":\"screen\",\"top_units\":\"screen\"},\"id\":\"1816\",\"type\":\"BoxAnnotation\"},{\"attributes\":{\"align\":\"center\",\"text\":\"0.0\",\"width\":300},\"id\":\"1850\",\"type\":\"Div\"},{\"attributes\":{},\"id\":\"1865\",\"type\":\"BasicTickFormatter\"},{\"attributes\":{},\"id\":\"1867\",\"type\":\"UnionRenderers\"},{\"attributes\":{\"data\":{\"fill_color\":[\"#5e92f3\",\"#5e92f3\",\"#5e92f3\",\"#5e92f3\",\"#5e92f3\",\"#5e92f3\",\"#5e92f3\",\"#5e92f3\",\"#5e92f3\",\"#5e92f3\",\"#5e92f3\",\"#5e92f3\",\"#5e92f3\",\"#5e92f3\",\"#5e92f3\",\"#5e92f3\"],\"line_color\":[\"#003c8f\",\"#003c8f\",\"#003c8f\",\"#003c8f\",\"#003c8f\",\"#003c8f\",\"#003c8f\",\"#003c8f\",\"#003c8f\",\"#003c8f\",\"#003c8f\",\"#003c8f\",\"#003c8f\",\"#003c8f\",\"#003c8f\",\"#003c8f\"],\"line_width\":[3,3,3,3,3,3,3,3,3,3,3,3,3,3,3,3],\"x\":[6,20,72,111,194,178,199,205,207,198,165,157,162,144,127,189],\"y\":[71,59,31,-8,-8,38,86,96,106,103,97,84,112,112,97,93]},\"selected\":{\"id\":\"1868\"},\"selection_policy\":{\"id\":\"1867\"}},\"id\":\"1827\",\"type\":\"ColumnDataSource\"},{\"attributes\":{\"source\":{\"id\":\"1833\"}},\"id\":\"1839\",\"type\":\"CDSView\"},{\"attributes\":{\"axis\":{\"id\":\"1806\"},\"dimension\":1,\"grid_line_color\":null,\"ticker\":null},\"id\":\"1809\",\"type\":\"Grid\"},{\"attributes\":{\"align\":\"center\",\"width\":300},\"id\":\"1852\",\"type\":\"Div\"},{\"attributes\":{\"overlay\":{\"id\":\"1816\"}},\"id\":\"1812\",\"type\":\"BoxZoomTool\"},{\"attributes\":{},\"id\":\"1868\",\"type\":\"Selection\"},{\"attributes\":{\"source\":{\"id\":\"1827\"}},\"id\":\"1832\",\"type\":\"CDSView\"},{\"attributes\":{\"line_cap\":\"round\",\"line_color\":{\"value\":\"#404040\"},\"line_width\":{\"value\":5},\"xs\":{\"field\":\"xs\"},\"ys\":{\"field\":\"ys\"}},\"id\":\"1837\",\"type\":\"MultiLine\"},{\"attributes\":{\"callback\":null,\"renderers\":[{\"id\":\"1831\"}],\"tooltips\":[[\"Index\",\"$index\"],[\"Name\",\"@name\"]]},\"id\":\"1853\",\"type\":\"HoverTool\"},{\"attributes\":{},\"id\":\"1869\",\"type\":\"UnionRenderers\"},{\"attributes\":{\"end\":122.2,\"start\":-18.200000000000003},\"id\":\"1796\",\"type\":\"Range1d\"},{\"attributes\":{\"fill_color\":{\"field\":\"fill_color\"},\"line_color\":{\"field\":\"line_color\"},\"line_width\":{\"field\":\"line_width\"},\"size\":{\"units\":\"screen\",\"value\":11},\"x\":{\"field\":\"x\"},\"y\":{\"field\":\"y\"}},\"id\":\"1830\",\"type\":\"Circle\"},{\"attributes\":{},\"id\":\"1873\",\"type\":\"UnionRenderers\"},{\"attributes\":{},\"id\":\"1876\",\"type\":\"UnionRenderers\"},{\"attributes\":{\"fill_color\":{\"field\":\"fill_color\"},\"line_color\":{\"field\":\"line_color\"},\"line_width\":{\"field\":\"line_width\"},\"size\":{\"units\":\"screen\",\"value\":11},\"x\":{\"field\":\"x\"},\"y\":{\"field\":\"y\"}},\"id\":\"1829\",\"type\":\"Circle\"},{\"attributes\":{},\"id\":\"1878\",\"type\":\"UnionRenderers\"},{\"attributes\":{\"formatter\":{\"id\":\"1863\"},\"ticker\":{\"id\":\"1803\"},\"visible\":false},\"id\":\"1802\",\"type\":\"LinearAxis\"},{\"attributes\":{\"line_cap\":\"round\",\"line_color\":{\"field\":\"line_color\"},\"line_width\":{\"value\":5},\"xs\":{\"field\":\"xs\"},\"ys\":{\"field\":\"ys\"}},\"id\":\"1836\",\"type\":\"MultiLine\"},{\"attributes\":{},\"id\":\"1872\",\"type\":\"Selection\"},{\"attributes\":{\"data\":{\"xs\":[[11.867393549830293,14.1326064501697],[64.2132081933475,68.78679180665253],[43.98457472802465,48.01542527197538],[71.31392773909235,75.68607226090765],[100.9065151137992,98.09348488620083],[140.5887402418824,143.4112597581176],[142.37870743870653,146.62129256129347],[134.3832167600553,136.6167832399447],[89.9311343589464,93.06886564105363],[112.57004046214576,116.42995953785424],[150.1483,154.85170000000002],[142.6336759201498,146.3663240798502],[133.03894314211007,134.96105685788993],[166.61006419357236,168.38993580642764],[160.24329823001975,161.75670176998028],[159.25243123412935,159.74756876587068],[151.1019039619186,149.89809603808138],[186.69937892443528,185.30062107556475],[187.6421179461765,189.35788205382346],[201.25793580143863,202.74206419856134],[195.23521488209917,192.7647851179008],[205.72359827057616,206.2764017294238],[202.54591042736908,200.45408957263095],[192.51616586095076,194.4838341390492],[178.54133338379128,175.4586666162087],[203.96931436315347,201.03068563684658],[183.03645249636594,179.96354750363403],[154.5678,151.4322]],\"ys\":[[65.9708055287169,64.02919447128312],[83.50862324815732,84.4913767518427],[46.085228992602126,43.914771007397874],[77.22363788864963,78.77636211135038],[65.68781813655903,62.31218186344098],[91.11154589518429,89.88845410481571],[103.59087461658854,105.40912538341149],[103.51460302357822,105.48539697642181],[13.06886564105362,9.93113435894638],[56.296613464632046,58.703386535367954],[-7.999999999999998,-7.999999999999998],[13.718643169058069,16.281356830941924],[36.07788628422017,39.922113715779815],[62.949383195031956,59.05061680496806],[89.27035962378204,91.72964037621796],[96.61361491112429,99.38638508887571],[96.70359146663688,99.29640853336312],[12.989285592248606,17.010714407751394],[60.03912673411776,63.960873265882256],[89.76322633573106,92.23677366426892],[88.63534958253058,90.36465041746942],[99.61799135288078,102.38200864711922],[98.45408957263092,100.54591042736905],[96.90685095661199,99.09314904338801],[94.74311110270146,95.25688889729855],[104.98977145438448,104.01022854561555],[100.27935499933926,99.72064500066074],[112.00000000000001,112.00000000000001]]},\"selected\":{\"id\":\"1872\"},\"selection_policy\":{\"id\":\"1871\"}},\"id\":\"1840\",\"type\":\"ColumnDataSource\"},{\"attributes\":{\"line_color\":{\"value\":\"white\"},\"line_width\":{\"value\":6},\"xs\":{\"field\":\"xs\"},\"ys\":{\"field\":\"ys\"}},\"id\":\"1842\",\"type\":\"MultiLine\"},{\"attributes\":{\"data\":{\"text\":[4,24,12,19,20,8,10,6,10,25,14,18,18,14,4,8,8,12,14,3,3,1,2,4,6,2,6,4],\"x\":{\"__ndarray__\":\"/v//////KUAAAAAAAKBQQAEAAAAAAEdAAAAAAABgUkAAAAAAAOBYQAAAAAAAwGFAAAAAAAAQYkAAAAAAAPBgQAAAAAAA4FZAAAAAAACgXEABAAAAABBjQAAAAAAAEGJAAAAAAADAYEAAAAAAAPBkQAAAAAAAIGRAAAAAAADwY0D//////89iQAAAAAAAQGdAAAAAAACQZ0D//////z9pQAAAAAAAQGhAAAAAAADAaUAAAAAAADBpQAAAAAAAMGhA//////8fZkABAAAAAFBpQAAAAAAAsGZAAAAAAAAgY0A=\",\"dtype\":\"float64\",\"order\":\"little\",\"shape\":[28]},\"y\":{\"__ndarray__\":\"AAAAAABAUEAAAAAAAABVQAAAAAAAgEZAAAAAAACAU0AAAAAAAABQQAAAAAAAoFZAAAAAAAAgWkAAAAAAACBaQAAAAAAAACdAAAAAAADATED+//////8fwAAAAAAAAC5AAAAAAAAAQ0ACAAAAAIBOQAAAAAAAoFZAAAAAAACAWEAAAAAAAIBYQAAAAAAAAC5AAgAAAAAAT0AAAAAAAMBWQAAAAAAAYFZAAAAAAABAWUD//////99YQAAAAAAAgFhAAAAAAADAV0AAAAAAACBaQAAAAAAAAFlAAQAAAAAAXEA=\",\"dtype\":\"float64\",\"order\":\"little\",\"shape\":[28]}},\"selected\":{\"id\":\"1874\"},\"selection_policy\":{\"id\":\"1873\"}},\"id\":\"1845\",\"type\":\"ColumnDataSource\"},{\"attributes\":{},\"id\":\"1877\",\"type\":\"Selection\"},{\"attributes\":{\"background_fill_color\":null,\"below\":[{\"id\":\"1802\"}],\"border_fill_color\":null,\"center\":[{\"id\":\"1805\"},{\"id\":\"1809\"},{\"id\":\"1846\"}],\"left\":[{\"id\":\"1806\"}],\"outline_line_color\":null,\"plot_width\":900,\"renderers\":[{\"id\":\"1831\"},{\"id\":\"1838\"},{\"id\":\"1843\"}],\"title\":{\"id\":\"1792\"},\"toolbar\":{\"id\":\"1817\"},\"toolbar_location\":null,\"x_range\":{\"id\":\"1794\"},\"x_scale\":{\"id\":\"1798\"},\"y_range\":{\"id\":\"1796\"},\"y_scale\":{\"id\":\"1800\"}},\"id\":\"1791\",\"subtype\":\"Figure\",\"type\":\"Plot\"},{\"attributes\":{\"active_drag\":null,\"active_inspect\":\"auto\",\"active_multi\":null,\"active_scroll\":null,\"active_tap\":\"auto\",\"logo\":null,\"tools\":[{\"id\":\"1810\"},{\"id\":\"1811\"},{\"id\":\"1812\"},{\"id\":\"1813\"},{\"id\":\"1814\"},{\"id\":\"1815\"},{\"id\":\"1853\"},{\"id\":\"1855\"},{\"id\":\"1857\"}]},\"id\":\"1817\",\"type\":\"Toolbar\"},{\"attributes\":{\"source\":{\"id\":\"1840\"}},\"id\":\"1844\",\"type\":\"CDSView\"},{\"attributes\":{\"data\":{\"G\":[[0.0,4.0,0.0,0.0,0.0,0.0,0.0,0.0,0.0,0.0,0.0,0.0,0.0,0.0,24.0,0.0],[4.0,0.0,12.0,0.0,0.0,0.0,0.0,0.0,0.0,0.0,0.0,0.0,0.0,0.0,19.0,0.0],[0.0,12.0,0.0,10.0,0.0,0.0,0.0,0.0,0.0,0.0,0.0,25.0,0.0,0.0,20.0,0.0],[0.0,0.0,10.0,0.0,14.0,18.0,0.0,0.0,0.0,0.0,0.0,18.0,0.0,0.0,0.0,0.0],[0.0,0.0,0.0,14.0,0.0,12.0,0.0,0.0,0.0,0.0,0.0,0.0,0.0,0.0,0.0,0.0],[0.0,0.0,0.0,18.0,12.0,0.0,14.0,0.0,0.0,0.0,0.0,14.0,0.0,0.0,0.0,0.0],[0.0,0.0,0.0,0.0,0.0,14.0,0.0,3.0,0.0,0.0,0.0,0.0,0.0,0.0,0.0,3.0],[0.0,0.0,0.0,0.0,0.0,0.0,3.0,0.0,1.0,2.0,0.0,0.0,0.0,0.0,0.0,0.0],[0.0,0.0,0.0,0.0,0.0,0.0,0.0,1.0,0.0,2.0,0.0,0.0,0.0,0.0,0.0,0.0],[0.0,0.0,0.0,0.0,0.0,0.0,0.0,2.0,2.0,0.0,6.0,0.0,0.0,0.0,0.0,4.0],[0.0,0.0,0.0,0.0,0.0,0.0,0.0,0.0,0.0,6.0,0.0,4.0,0.0,0.0,0.0,6.0],[0.0,0.0,25.0,18.0,0.0,14.0,0.0,0.0,0.0,0.0,4.0,0.0,8.0,8.0,8.0,0.0],[0.0,0.0,0.0,0.0,0.0,0.0,0.0,0.0,0.0,0.0,0.0,8.0,0.0,4.0,10.0,0.0],[0.0,0.0,0.0,0.0,0.0,0.0,0.0,0.0,0.0,0.0,0.0,8.0,4.0,0.0,6.0,0.0],[24.0,19.0,20.0,0.0,0.0,0.0,0.0,0.0,0.0,0.0,0.0,8.0,10.0,6.0,0.0,0.0],[0.0,0.0,0.0,0.0,0.0,0.0,3.0,0.0,0.0,4.0,6.0,0.0,0.0,0.0,0.0,0.0]]},\"selected\":{\"id\":\"1879\"},\"selection_policy\":{\"id\":\"1878\"}},\"id\":\"1848\",\"type\":\"ColumnDataSource\"},{\"attributes\":{\"args\":{\"source\":{\"id\":\"1849\"}},\"code\":\"source.data['last_index'] = cb_data.index.indices[0]\"},\"id\":\"1854\",\"type\":\"CustomJS\"},{\"attributes\":{},\"id\":\"1871\",\"type\":\"UnionRenderers\"},{\"attributes\":{},\"id\":\"1807\",\"type\":\"BasicTicker\"},{\"attributes\":{\"data_source\":{\"id\":\"1833\"},\"glyph\":{\"id\":\"1835\"},\"hover_glyph\":{\"id\":\"1837\"},\"level\":\"underlay\",\"muted_glyph\":null,\"nonselection_glyph\":{\"id\":\"1836\"},\"selection_glyph\":null,\"view\":{\"id\":\"1839\"}},\"id\":\"1838\",\"type\":\"GlyphRenderer\"},{\"attributes\":{\"axis\":{\"id\":\"1802\"},\"grid_line_color\":null,\"ticker\":null},\"id\":\"1805\",\"type\":\"Grid\"},{\"attributes\":{\"data_source\":{\"id\":\"1827\"},\"glyph\":{\"id\":\"1829\"},\"hover_glyph\":null,\"muted_glyph\":null,\"nonselection_glyph\":{\"id\":\"1830\"},\"selection_glyph\":null,\"view\":{\"id\":\"1832\"}},\"id\":\"1831\",\"type\":\"GlyphRenderer\"},{\"attributes\":{\"callback\":{\"id\":\"1856\"},\"renderers\":[{\"id\":\"1838\"}]},\"id\":\"1857\",\"type\":\"TapTool\"},{\"attributes\":{},\"id\":\"1879\",\"type\":\"Selection\"},{\"attributes\":{\"formatter\":{\"id\":\"1865\"},\"ticker\":{\"id\":\"1807\"},\"visible\":false},\"id\":\"1806\",\"type\":\"LinearAxis\"},{\"attributes\":{\"line_color\":{\"value\":\"white\"},\"line_width\":{\"value\":6},\"xs\":{\"field\":\"xs\"},\"ys\":{\"field\":\"ys\"}},\"id\":\"1841\",\"type\":\"MultiLine\"},{\"attributes\":{},\"id\":\"1874\",\"type\":\"Selection\"},{\"attributes\":{},\"id\":\"1815\",\"type\":\"HelpTool\"},{\"attributes\":{\"callback\":{\"id\":\"1854\"},\"renderers\":[{\"id\":\"1838\"}],\"tooltips\":null},\"id\":\"1855\",\"type\":\"HoverTool\"},{\"attributes\":{\"end\":224.085,\"start\":-11.085},\"id\":\"1794\",\"type\":\"Range1d\"},{\"attributes\":{\"data_source\":{\"id\":\"1840\"},\"glyph\":{\"id\":\"1841\"},\"hover_glyph\":null,\"level\":\"guide\",\"muted_glyph\":null,\"nonselection_glyph\":{\"id\":\"1842\"},\"selection_glyph\":null,\"view\":{\"id\":\"1844\"}},\"id\":\"1843\",\"type\":\"GlyphRenderer\"},{\"attributes\":{},\"id\":\"1803\",\"type\":\"BasicTicker\"},{\"attributes\":{},\"id\":\"1810\",\"type\":\"PanTool\"},{\"attributes\":{\"data\":{\"clicked\":[],\"edge_ids\":[[0.0,0.0,0.0,0.0,0.0,0.0,0.0,0.0,0.0,0.0,0.0,0.0,0.0,0.0,1.0,0.0],[0.0,0.0,2.0,0.0,0.0,0.0,0.0,0.0,0.0,0.0,0.0,0.0,0.0,0.0,3.0,0.0],[0.0,2.0,0.0,8.0,0.0,0.0,0.0,0.0,0.0,0.0,0.0,9.0,0.0,0.0,4.0,0.0],[0.0,0.0,8.0,0.0,10.0,11.0,0.0,0.0,0.0,0.0,0.0,12.0,0.0,0.0,0.0,0.0],[0.0,0.0,0.0,10.0,0.0,17.0,0.0,0.0,0.0,0.0,0.0,0.0,0.0,0.0,0.0,0.0],[0.0,0.0,0.0,11.0,17.0,0.0,18.0,0.0,0.0,0.0,0.0,13.0,0.0,0.0,0.0,0.0],[0.0,0.0,0.0,0.0,0.0,18.0,0.0,19.0,0.0,0.0,0.0,0.0,0.0,0.0,0.0,20.0],[0.0,0.0,0.0,0.0,0.0,0.0,19.0,0.0,21.0,22.0,0.0,0.0,0.0,0.0,0.0,0.0],[0.0,0.0,0.0,0.0,0.0,0.0,0.0,21.0,0.0,25.0,0.0,0.0,0.0,0.0,0.0,0.0],[0.0,0.0,0.0,0.0,0.0,0.0,0.0,22.0,25.0,0.0,26.0,0.0,0.0,0.0,0.0,23.0],[0.0,0.0,0.0,0.0,0.0,0.0,0.0,0.0,0.0,26.0,0.0,14.0,0.0,0.0,0.0,24.0],[0.0,0.0,9.0,12.0,0.0,13.0,0.0,0.0,0.0,0.0,14.0,0.0,15.0,16.0,5.0,0.0],[0.0,0.0,0.0,0.0,0.0,0.0,0.0,0.0,0.0,0.0,0.0,15.0,0.0,27.0,6.0,0.0],[0.0,0.0,0.0,0.0,0.0,0.0,0.0,0.0,0.0,0.0,0.0,16.0,27.0,0.0,7.0,0.0],[1.0,3.0,4.0,0.0,0.0,0.0,0.0,0.0,0.0,0.0,0.0,5.0,6.0,7.0,0.0,0.0],[0.0,0.0,0.0,0.0,0.0,0.0,20.0,0.0,0.0,23.0,24.0,0.0,0.0,0.0,0.0,0.0]],\"forest\":[0,1,2,3,4,5,6,7,8,9,10,11,12,13,14,15],\"index\":[0],\"sorted_edges\":[[7,8],[7,9],[8,9],[6,7],[6,15],[0,1],[11,10],[15,9],[12,13],[14,13],[15,10],[9,10],[14,11],[11,12],[11,13],[14,12],[2,3],[1,2],[4,5],[3,4],[11,5],[5,6],[3,5],[3,11],[1,14],[14,2],[0,14],[2,11]],\"tree_edges\":[],\"unvisited\":[0,1,2,3,4,5,6,7,8,9,10,11,12,13,14,15],\"visited\":[]},\"selected\":{\"id\":\"1877\"},\"selection_policy\":{\"id\":\"1876\"}},\"id\":\"1849\",\"type\":\"ColumnDataSource\"},{\"attributes\":{},\"id\":\"1811\",\"type\":\"WheelZoomTool\"},{\"attributes\":{\"args\":{\"clicked\":{\"id\":\"1851\"},\"cost\":{\"id\":\"1850\"},\"cost_matrix\":{\"id\":\"1848\"},\"edges_src\":{\"id\":\"1833\"},\"error_msg\":{\"id\":\"1852\"},\"nodes_src\":{\"id\":\"1827\"},\"source\":{\"id\":\"1849\"}},\"code\":\"/* Color Theme -- Using Google's Material Design Color System\\n   https://material.io/design/color/the-color-system.html */\\n\\n/** @constant {string} */\\nvar PRIMARY_COLOR = '#1565c0'\\n/** @constant {string} */\\nvar PRIMARY_LIGHT_COLOR = '#5e92f3'\\n/** @constant {string} */\\nvar PRIMARY_DARK_COLOR = '#003c8f'\\n/** @constant {string} */\\nvar SECONDARY_COLOR = '#d50000'\\n/** @constant {string} */\\nvar SECONDARY_LIGHT_COLOR = '#ff5131'\\n/** @constant {string} */\\nvar SECONDARY_DARK_COLOR = '#9b0000'\\n\\n// Grayscale\\n/** @constant {string} */\\nvar TERTIARY_COLOR = '#DFDFDF'\\n/**\\n *  Jupyter Notebook: 'white', Sphinx: '#FCFCFC'\\n *  @constant {string}\\n */\\nvar TERTIARY_LIGHT_COLOR = 'white'\\n/** @constant {string} */\\nvar TERTIARY_DARK_COLOR = '#404040'\\n/** @type {float[][]} */\\nvar G\\n/** @type {integer[]} */\\nvar visited\\n/** @type {integer[]} */\\nvar unvisited\\n/** @type {integer[][]} */\\nvar tree_edges\\n/** @type {integer[][]} */\\nvar edge_ids\\n/** @type {(integer[]|integer[][])} */\\nvar clicked_list\\n/** @type {integer} */\\nvar i\\n/** @type {integer} */\\nvar u\\n/** @type {integer} */\\nvar v\\n/** @type {float} */\\nvar w\\n\\n\\n/**\\n * Check if the error message text indicates tour or tree is complete.\\n */\\nfunction check_done() {\\n    if (error_msg.text == 'done.') {\\n        return;\\n    }\\n}\\n\\n/**\\n * Load the data necessary data for MST and shortest path tree creation.\\n */\\nfunction load_data() {\\n    G = cost_matrix.data['G']\\n    visited = source.data['visited']\\n    unvisited = source.data['unvisited']\\n    tree_edges = source.data['tree_edges']\\n    edge_ids = source.data['edge_ids']\\n    clicked_list = source.data['clicked']\\n\\n    i = source.data['last_index']\\n    u = edges_src.data['u'][i]\\n    v = edges_src.data['v'][i]\\n    w = edges_src.data['weight'][i]\\n}\\n\\n/**\\n * Update node and edge highlighting upon a proper edge selection.\\n */\\nfunction select_edge() {\\n    if (!visited.includes(v)) {\\n        nodes_src.data['fill_color'][v] = PRIMARY_DARK_COLOR\\n        nodes_src.data['line_color'][v] = PRIMARY_DARK_COLOR\\n        visited.push(v)\\n        unvisited.splice(unvisited.indexOf(v), 1)\\n    }\\n    if (!visited.includes(u)) {\\n        nodes_src.data['fill_color'][u] = PRIMARY_DARK_COLOR\\n        nodes_src.data['line_color'][u] = PRIMARY_DARK_COLOR\\n        visited.push(u)\\n        unvisited.splice(unvisited.indexOf(u), 1)\\n    }\\n    edges_src.data['line_color'][i] = TERTIARY_DARK_COLOR\\n    tree_edges.push([u,v])\\n    clicked_list = tree_edges\\n    var prev_cost = parseFloat(cost.text)\\n    cost.text = (prev_cost + w).toFixed(1)\\n    error_msg.text = ''\\n}\\n\\n/**\\n * Iteration of Prim's algorithm.\\n * Check if user-selected edge is a valid next edge. If valid, add the selected\\n * edge. If not, an error message is returned.\\n */\\nfunction prims() {\\n    var possible = {}\\n    for (let i = 0; i < visited.length; i++) {\\n        for (let j = 0; j < unvisited.length; j++) {\\n            var a = visited[i]\\n            var b = unvisited[j]\\n            if (G[a][b] != 0) {\\n                var id = edge_ids[a][b]\\n                possible[id] = G[a][b]\\n            }\\n        }\\n    }\\n\\n    var keys  = Object.keys(possible).sort(function(a,b) { return possible[a] - possible[b]; });\\n    var valid = keys.filter(function(x) { return possible[x] == possible[keys[0]]; });\\n\\n    var first_edge = (visited.length == 0)\\n    var u_in_tree = visited.includes(u)\\n    var v_in_tree = visited.includes(v)\\n    var one_in_tree = (u_in_tree && !v_in_tree) || (!u_in_tree && v_in_tree)\\n\\n    if (first_edge || one_in_tree) {\\n        if (valid.includes(i.toString())) {\\n            select_edge()\\n        } else {\\n            error_msg.text = 'Smaller weight edge exists.'\\n        }\\n    } else {\\n        if (u_in_tree && v_in_tree) {\\n            error_msg.text = 'Edge creates a cycle.'\\n        } else {\\n            error_msg.text = 'Edge not adjacent to the current tree.'\\n        }\\n    }\\n}\\n\\n/**\\n * Iteration of Kruskal's algorithm.\\n * Check if user-selected edge is a valid next edge. If valid, add the selected\\n * edge. If not, an error message is returned.\\n */\\nfunction kruskals() {\\n    var sorted_edges = source.data['sorted_edges']\\n    var forest = source.data['forest']\\n    var index = source.data['index'][0]\\n\\n    var a = sorted_edges[index][0]\\n    var b = sorted_edges[index][1]\\n    while (forest[a] == forest[b]) {\\n        index += 1\\n        a = sorted_edges[index][0]\\n        b = sorted_edges[index][1]\\n    }\\n    var min_val = G[sorted_edges[index][0]][sorted_edges[index][1]]\\n\\n    if (forest[u] != forest[v]) {\\n        if (G[u][v] == min_val) {\\n            select_edge()\\n            var x = forest[u]\\n            var y = forest[v]\\n            forest = forest.map(function(k) {if (k == y) {return x} else {return k} })\\n            source.data['forest'] = forest\\n            if (u == a && v == b) {\\n                index += 1\\n            }\\n        } else {\\n             error_msg.text = 'Smaller weight edge exists.'\\n        }\\n    } else {\\n        error_msg.text = 'This edge creates a cycle.'\\n    }\\n\\n    source.data['index'][0] = index\\n}\\n\\n/**\\n * Return an array of length len where every element has the given value.\\n * @param {float} value\\n * @param {integer} len\\n * @returns {float[]}\\n */\\nfunction fillArray(value, len) {\\n    var a = [value];\\n    while (a.length * 2 <= len) a = a.concat(a);\\n    if (a.length < len) a = a.concat(a.slice(0, len - a.length));\\n    return a;\\n}\\n\\n/**\\n * Return true iff the undirected graph G is connected.\\n * @param {float[][]} G\\n * @returns {boolean}\\n */\\nfunction is_connected(G) {\\n    var check = fillArray(false, G.length)\\n    check[0] = true\\n    var checked = [0]\\n\\n    while (checked.length > 0) {\\n        var a = checked.shift()\\n        for (let b = 0; b < G[a].length; b++) {\\n            if (G[a][b] > 0 && !check[b]) {\\n                check[b] = true\\n                checked.push(b)\\n            }\\n        }\\n    }\\n    return check.every(function(x) {return x})\\n}\\n\\n/**\\n * Iteration of reverse Kruskal's algorithm.\\n * Check if user-selected edge is a valid next edge. If valid, add the selected\\n * edge. If not, an error message is returned.\\n */\\nfunction reverse_kruskals() {\\n    var sorted_edges = source.data['sorted_edges']\\n    var index = source.data['index'][0]\\n\\n    var a = sorted_edges[index][0]\\n    var b = sorted_edges[index][1]\\n    var tmp_w = G[a][b]\\n    G[a][b] = 0\\n    G[b][a] = 0\\n    while (!is_connected(G) || !tree_edges.includes(edge_ids[a][b])) {\\n        G[a][b] = tmp_w\\n        G[b][a] = tmp_w\\n        index += 1\\n        a = sorted_edges[index][0]\\n        b = sorted_edges[index][1]\\n        tmp_w = G[a][b]\\n        G[a][b] = 0\\n        G[b][a] = 0\\n    }\\n    G[a][b] = tmp_w\\n    G[b][a] = tmp_w\\n    var max_val = tmp_w\\n\\n    var tmp_w = w\\n    G[u][v] = 0\\n    G[v][u] = 0\\n\\n    let e = tree_edges.indexOf(i)\\n    if (e > -1) {\\n        if (is_connected(G)) {\\n            if (tmp_w == max_val) {\\n                tree_edges.splice(e, 1);\\n                if (u == a && v == b) {\\n                    index += 1\\n                }\\n                edges_src.data['line_color'][i] = TERTIARY_COLOR\\n                var prev_cost = parseFloat(cost.text)\\n                cost.text = (prev_cost - w).toFixed(1)\\n                error_msg.text = ''\\n            } else {\\n                G[u][v] = tmp_w\\n                G[v][u] = tmp_w\\n                error_msg.text = 'Larger edge weight exists. Try ('\\n                                  .concat(a.toString())\\n                                  .concat(', ')\\n                                  .concat(b.toString())\\n                                  .concat(').')\\n            }\\n        } else {\\n            G[u][v] = tmp_w\\n            G[v][u] = tmp_w\\n            error_msg.text = 'Removing this edge disconnects the graph.'\\n        }\\n    } else {\\n        G[u][v] = tmp_w\\n        G[v][u] = tmp_w\\n        error_msg.text = 'Edge already removed.'\\n    }\\n\\n    var u_list = edges_src.data['u']\\n    var v_list = edges_src.data['v']\\n    clicked_list = []\\n    for (let i = 0; i < tree_edges.length; i++) {\\n        var edge = tree_edges[i]\\n        clicked_list.push([u_list[edge], v_list[edge]])\\n    }\\n    source.data['index'][0] = index\\n}\\n\\n/**\\n * Final updates when creating an MST or shortest path tree.\\n */\\nfunction tree_update() {\\n    if (tree_edges.length == nodes_src.data['x'].length - 1) {\\n        error_msg.text = 'done.'\\n    }\\n\\n    clicked.text = '['\\n    for (let i = 0; i < clicked_list.length; i++) {\\n        var edge_str = clicked_list[i].join(',')\\n        clicked.text = clicked.text.concat('(').concat(edge_str).concat(')')\\n        if (!(i == clicked_list.length - 1)) {\\n            clicked.text = clicked.text.concat(',')\\n        }\\n    }\\n    clicked.text = clicked.text.concat(']')\\n\\n    source.change.emit()\\n    nodes_src.change.emit()\\n    edges_src.change.emit()\\n}\\n\\n/**\\n * Check if user-selected node is valid and add to tour if valid.\\n */\\nfunction create_tour_on_click () {\\n    var v = source.data['last_index']\\n    var n = nodes_src.data['line_color'].length\\n    var tour = source.data['clicked']\\n\\n    if (tour.includes(v)) {\\n        error_msg.text = 'This node is already in the tour.'\\n        return;\\n    } else {\\n        error_msg.text = ''\\n    }\\n\\n    function add_node(v) {\\n        // add to cost\\n        if (tour.length > 0) {\\n            var u = tour[tour.length - 1]\\n            var prev_cost = parseFloat(cost.text)\\n            cost.text = (prev_cost + cost_matrix.data['G'][u][v]).toFixed(1)\\n        }\\n\\n        // add to tour\\n        tour.push(v)\\n        clicked.text = '['.concat(tour.join(',')).concat(']')\\n\\n        // highlight new node\\n        nodes_src.data['line_color'][v] = PRIMARY_DARK_COLOR\\n        nodes_src.data['fill_color'][v] = PRIMARY_DARK_COLOR\\n\\n        // highlight new edge\\n        tour_src.data['edges_x'].push(nodes_src.data['x'][v])\\n        tour_src.data['edges_y'].push(nodes_src.data['y'][v])\\n    }\\n\\n    add_node(v)\\n    if (tour.length == n) {\\n        add_node(tour[0])\\n        error_msg.text = 'done.'\\n    }\\n\\n    source.change.emit()\\n    tour_src.change.emit()\\n    nodes_src.change.emit()\\n}\\n\\n/**\\n * Iteration of Dijkstra's algorithm.\\n * Check if user-selected node is a valid next node. If valid, add the selected\\n * node. If not, an error message is returned.\\n */\\nfunction dijkstras() {\\n    var dist = source.data['dist']\\n    var prev = source.data['prev']\\n    var S = source.data['settled']\\n    var F = source.data['frontier']\\n\\n    F.sort(function(a,b) {return dist[a] - dist[b]})\\n\\n    if (F.includes(i)) {\\n        if (dist[i] == dist[F[0]]) {\\n            var f = i\\n            F.splice(F.indexOf(f), 1)\\n            S.push(f)\\n            for (let w = 0; w < G.length; w++) {\\n                if (G[f][w] != 0) {\\n                    if (!S.includes(w) && !F.includes(w)) {\\n                        dist[w] = dist[f] + G[f][w]\\n                        prev[w] = f\\n                        F.push(w)\\n                        var k = edge_ids[w][f]\\n                        edges_src.data['line_color'][k] = TERTIARY_DARK_COLOR\\n                    } else {\\n                        if (dist[f] + G[f][w] < dist[w]) {\\n                            var k = edge_ids[prev[w]][w]\\n                            edges_src.data['line_color'][k] = TERTIARY_COLOR\\n\\n                            dist[w] = dist[f] + G[f][w]\\n                            prev[w] = f\\n\\n                            var k = edge_ids[f][w]\\n                            edges_src.data['line_color'][k] = TERTIARY_DARK_COLOR\\n                        }\\n                    }\\n                }\\n            }\\n            error_msg.text = ''\\n        } else {\\n            error_msg.text = 'A closer frontier node exists.'\\n        }\\n    } else {\\n        error_msg.text = 'This node is not in the frontier set.'\\n    }\\n\\n    for (let i = 0; i < G.length; i++) {\\n        // Highlight settled and frontier nodes\\n        if (S.includes(i)) {\\n            nodes_src.data['fill_color'][i] = PRIMARY_DARK_COLOR\\n            nodes_src.data['line_color'][i] = PRIMARY_DARK_COLOR\\n        } else if (F.includes(i)) {\\n            nodes_src.data['fill_color'][i] = SECONDARY_COLOR\\n            nodes_src.data['line_color'][i] = SECONDARY_DARK_COLOR\\n        } else {\\n            nodes_src.data['fill_color'][i] = PRIMARY_LIGHT_COLOR\\n            nodes_src.data['line_color'][i] = PRIMARY_DARK_COLOR\\n        }\\n\\n        // Update table source\\n        var dist_text\\n        var prev_text\\n        if (isFinite(dist[i])) {\\n            dist_text = dist[i].toFixed(1)\\n        } else {\\n            dist_text = 'inf'\\n        }\\n        if (S.includes(i)) {\\n            dist_text = dist_text.concat('*')\\n        }\\n\\n        if (isNaN(prev[i])) {\\n            prev_text = '-'\\n        } else {\\n            prev_text = prev[i]\\n        }\\n        table_src.data[i.toString()] = [dist_text, prev_text]\\n    }\\n\\n    if (F.length == 0) {\\n        error_msg.text = 'done.'\\n    }\\n\\n    source.change.emit()\\n    nodes_src.change.emit()\\n    edges_src.change.emit()\\n    table_src.change.emit()\\n}\\n\\n// BEGIN FUNCTION CALLING\\ncheck_done()\\nload_data()\\nkruskals()\\ntree_update()\\n\"},\"id\":\"1856\",\"type\":\"CustomJS\"},{\"attributes\":{\"children\":[{\"id\":\"1850\"},{\"id\":\"1852\"},{\"id\":\"1851\"}]},\"id\":\"1861\",\"type\":\"Row\"},{\"attributes\":{},\"id\":\"1813\",\"type\":\"SaveTool\"},{\"attributes\":{\"text\":\"\"},\"id\":\"1792\",\"type\":\"Title\"},{\"attributes\":{},\"id\":\"1814\",\"type\":\"ResetTool\"}],\"root_ids\":[\"1881\"]},\"title\":\"Bokeh Application\",\"version\":\"2.2.3\"}};\n",
       "  var render_items = [{\"docid\":\"eb6fe66d-c61b-47bf-98d9-05a635bbe9bc\",\"root_ids\":[\"1881\"],\"roots\":{\"1881\":\"27bde456-c310-4495-ba48-ffeb8714b934\"}}];\n",
       "  root.Bokeh.embed.embed_items_notebook(docs_json, render_items);\n",
       "\n",
       "  }\n",
       "  if (root.Bokeh !== undefined) {\n",
       "    embed_document(root);\n",
       "  } else {\n",
       "    var attempts = 0;\n",
       "    var timer = setInterval(function(root) {\n",
       "      if (root.Bokeh !== undefined) {\n",
       "        clearInterval(timer);\n",
       "        embed_document(root);\n",
       "      } else {\n",
       "        attempts++;\n",
       "        if (attempts > 100) {\n",
       "          clearInterval(timer);\n",
       "          console.log(\"Bokeh: ERROR: Unable to run BokehJS code because BokehJS library is missing\");\n",
       "        }\n",
       "      }\n",
       "    }, 10, root)\n",
       "  }\n",
       "})(window);"
      ],
      "application/vnd.bokehjs_exec.v0+json": ""
     },
     "metadata": {
      "application/vnd.bokehjs_exec.v0+json": {
       "id": "1881"
      }
     },
     "output_type": "display_data"
    }
   ],
   "source": [
    "show(vl.assisted_mst_algorithm_plot(G, algorithm='kruskals', width=900, height=600))"
   ]
  },
  {
   "cell_type": "markdown",
   "metadata": {},
   "source": [
    "**Q8:** Verify your by-hand computations were correct. Did you make any mistakes?\n",
    "\n",
    "**A:** <font color='blue'> Answers will vary.</font>"
   ]
  },
  {
   "cell_type": "markdown",
   "metadata": {},
   "source": [
    "**Q9:** Run the cell below and click next until you have a minimum spanning tree. Again, try to anticipate each of the algorithm’s steps. What is the cost of the final solution?\n",
    "\n",
    "**A:** <font color='blue'> 103</font>"
   ]
  },
  {
   "cell_type": "code",
   "execution_count": 9,
   "metadata": {},
   "outputs": [
    {
     "data": {
      "text/html": [
       "\n",
       "\n",
       "\n",
       "\n",
       "\n",
       "\n",
       "  <div class=\"bk-root\" id=\"8a916ec9-5bbb-4411-8f93-875c3e852e85\" data-root-id=\"2694\"></div>\n"
      ]
     },
     "metadata": {},
     "output_type": "display_data"
    },
    {
     "data": {
      "application/javascript": [
       "(function(root) {\n",
       "  function embed_document(root) {\n",
       "    \n",
       "  var docs_json = {\"a1fcb805-6a18-46bc-a674-e0e8bbacc73e\":{\"roots\":{\"references\":[{\"attributes\":{\"children\":[[{\"id\":\"2595\"},0,0],[{\"id\":\"2669\"},1,0],[{\"id\":\"2670\"},2,0]]},\"id\":\"2694\",\"type\":\"GridBox\"},{\"attributes\":{\"fill_color\":{\"field\":\"fill_color\"},\"line_color\":{\"field\":\"line_color\"},\"line_width\":{\"field\":\"line_width\"},\"size\":{\"units\":\"screen\",\"value\":11},\"x\":{\"field\":\"x\"},\"y\":{\"field\":\"y\"}},\"id\":\"2633\",\"type\":\"Circle\"},{\"attributes\":{},\"id\":\"2607\",\"type\":\"BasicTicker\"},{\"attributes\":{\"line_color\":{\"value\":\"white\"},\"line_width\":{\"value\":6},\"xs\":{\"field\":\"xs\"},\"ys\":{\"field\":\"ys\"}},\"id\":\"2646\",\"type\":\"MultiLine\"},{\"attributes\":{\"callback\":null,\"renderers\":[{\"id\":\"2635\"}],\"tooltips\":[[\"Index\",\"$index\"],[\"Name\",\"@name\"]]},\"id\":\"2667\",\"type\":\"HoverTool\"},{\"attributes\":{\"end\":224.085,\"start\":-11.085},\"id\":\"2598\",\"type\":\"Range1d\"},{\"attributes\":{\"active_drag\":null,\"active_inspect\":\"auto\",\"active_multi\":null,\"active_scroll\":null,\"active_tap\":\"auto\",\"logo\":null,\"tools\":[{\"id\":\"2614\"},{\"id\":\"2615\"},{\"id\":\"2616\"},{\"id\":\"2617\"},{\"id\":\"2618\"},{\"id\":\"2619\"},{\"id\":\"2667\"}]},\"id\":\"2621\",\"type\":\"Toolbar\"},{\"attributes\":{\"data_source\":{\"id\":\"2644\"},\"glyph\":{\"id\":\"2645\"},\"hover_glyph\":null,\"level\":\"guide\",\"muted_glyph\":null,\"nonselection_glyph\":{\"id\":\"2646\"},\"selection_glyph\":null,\"view\":{\"id\":\"2648\"}},\"id\":\"2647\",\"type\":\"GlyphRenderer\"},{\"attributes\":{\"children\":[{\"id\":\"2665\"},{\"id\":\"2663\"}],\"max_width\":900,\"sizing_mode\":\"stretch_both\"},\"id\":\"2669\",\"type\":\"Row\"},{\"attributes\":{\"end\":122.2,\"start\":-18.200000000000003},\"id\":\"2600\",\"type\":\"Range1d\"},{\"attributes\":{\"fill_color\":{\"field\":\"fill_color\"},\"line_color\":{\"field\":\"line_color\"},\"line_width\":{\"field\":\"line_width\"},\"size\":{\"units\":\"screen\",\"value\":11},\"x\":{\"field\":\"x\"},\"y\":{\"field\":\"y\"}},\"id\":\"2634\",\"type\":\"Circle\"},{\"attributes\":{\"source\":{\"id\":\"2644\"}},\"id\":\"2648\",\"type\":\"CDSView\"},{\"attributes\":{\"children\":[{\"id\":\"2661\"},{\"id\":\"2654\"}]},\"id\":\"2670\",\"type\":\"Row\"},{\"attributes\":{},\"id\":\"2602\",\"type\":\"LinearScale\"},{\"attributes\":{\"data_source\":{\"id\":\"2631\"},\"glyph\":{\"id\":\"2633\"},\"hover_glyph\":null,\"muted_glyph\":null,\"nonselection_glyph\":{\"id\":\"2634\"},\"selection_glyph\":null,\"view\":{\"id\":\"2636\"}},\"id\":\"2635\",\"type\":\"GlyphRenderer\"},{\"attributes\":{\"data\":{\"text\":[4,24,12,19,20,8,10,6,10,25,14,18,18,14,4,8,8,12,14,3,3,1,2,4,6,2,6,4],\"x\":{\"__ndarray__\":\"/v//////KUAAAAAAAKBQQAEAAAAAAEdAAAAAAABgUkAAAAAAAOBYQAAAAAAAwGFAAAAAAAAQYkAAAAAAAPBgQAAAAAAA4FZAAAAAAACgXEABAAAAABBjQAAAAAAAEGJAAAAAAADAYEAAAAAAAPBkQAAAAAAAIGRAAAAAAADwY0D//////89iQAAAAAAAQGdAAAAAAACQZ0D//////z9pQAAAAAAAQGhAAAAAAADAaUAAAAAAADBpQAAAAAAAMGhA//////8fZkABAAAAAFBpQAAAAAAAsGZAAAAAAAAgY0A=\",\"dtype\":\"float64\",\"order\":\"little\",\"shape\":[28]},\"y\":{\"__ndarray__\":\"AAAAAABAUEAAAAAAAABVQAAAAAAAgEZAAAAAAACAU0AAAAAAAABQQAAAAAAAoFZAAAAAAAAgWkAAAAAAACBaQAAAAAAAACdAAAAAAADATED+//////8fwAAAAAAAAC5AAAAAAAAAQ0ACAAAAAIBOQAAAAAAAoFZAAAAAAACAWEAAAAAAAIBYQAAAAAAAAC5AAgAAAAAAT0AAAAAAAMBWQAAAAAAAYFZAAAAAAABAWUD//////99YQAAAAAAAgFhAAAAAAADAV0AAAAAAACBaQAAAAAAAAFlAAQAAAAAAXEA=\",\"dtype\":\"float64\",\"order\":\"little\",\"shape\":[28]}},\"selected\":{\"id\":\"2677\"},\"selection_policy\":{\"id\":\"2676\"}},\"id\":\"2649\",\"type\":\"ColumnDataSource\"},{\"attributes\":{},\"id\":\"2604\",\"type\":\"LinearScale\"},{\"attributes\":{\"source\":{\"id\":\"2649\"},\"text_align\":\"center\",\"text_baseline\":\"middle\",\"text_color\":{\"value\":\"black\"},\"text_font_size\":{\"value\":\"13px\"},\"x\":{\"field\":\"x\"},\"y\":{\"field\":\"y\"}},\"id\":\"2650\",\"type\":\"LabelSet\"},{\"attributes\":{},\"id\":\"2672\",\"type\":\"BasicTickFormatter\"},{\"attributes\":{\"bottom_units\":\"screen\",\"fill_alpha\":0.5,\"fill_color\":\"lightgrey\",\"left_units\":\"screen\",\"level\":\"overlay\",\"line_alpha\":1.0,\"line_color\":\"black\",\"line_dash\":[4,4],\"line_width\":2,\"right_units\":\"screen\",\"top_units\":\"screen\"},\"id\":\"2620\",\"type\":\"BoxAnnotation\"},{\"attributes\":{\"formatter\":{\"id\":\"2672\"},\"ticker\":{\"id\":\"2607\"},\"visible\":false},\"id\":\"2606\",\"type\":\"LinearAxis\"},{\"attributes\":{},\"id\":\"2674\",\"type\":\"BasicTickFormatter\"},{\"attributes\":{\"background_fill_color\":null,\"below\":[{\"id\":\"2606\"}],\"border_fill_color\":null,\"center\":[{\"id\":\"2609\"},{\"id\":\"2613\"},{\"id\":\"2650\"}],\"left\":[{\"id\":\"2610\"}],\"outline_line_color\":null,\"plot_width\":900,\"renderers\":[{\"id\":\"2635\"},{\"id\":\"2642\"},{\"id\":\"2647\"},{\"id\":\"2659\"}],\"title\":{\"id\":\"2596\"},\"toolbar\":{\"id\":\"2621\"},\"toolbar_location\":null,\"x_range\":{\"id\":\"2598\"},\"x_scale\":{\"id\":\"2602\"},\"y_range\":{\"id\":\"2600\"},\"y_scale\":{\"id\":\"2604\"}},\"id\":\"2595\",\"subtype\":\"Figure\",\"type\":\"Plot\"},{\"attributes\":{\"align\":\"center\",\"text\":\"16\",\"width\":900},\"id\":\"2653\",\"type\":\"Div\"},{\"attributes\":{\"axis\":{\"id\":\"2606\"},\"grid_line_color\":null,\"ticker\":null},\"id\":\"2609\",\"type\":\"Grid\"},{\"attributes\":{\"args\":{\"cost\":{\"id\":\"2661\"},\"done\":{\"id\":\"2654\"},\"edge_subset_src\":{\"id\":\"2655\"},\"k\":{\"id\":\"2653\"},\"n\":{\"id\":\"2652\"},\"nodes_src\":{\"id\":\"2631\"},\"source\":{\"id\":\"2662\"}},\"code\":\"/* Color Theme -- Using Google's Material Design Color System\\n   https://material.io/design/color/the-color-system.html */\\n\\n/** @constant {string} */\\nvar PRIMARY_COLOR = '#1565c0'\\n/** @constant {string} */\\nvar PRIMARY_LIGHT_COLOR = '#5e92f3'\\n/** @constant {string} */\\nvar PRIMARY_DARK_COLOR = '#003c8f'\\n/** @constant {string} */\\nvar SECONDARY_COLOR = '#d50000'\\n/** @constant {string} */\\nvar SECONDARY_LIGHT_COLOR = '#ff5131'\\n/** @constant {string} */\\nvar SECONDARY_DARK_COLOR = '#9b0000'\\n\\n// Grayscale\\n/** @constant {string} */\\nvar TERTIARY_COLOR = '#DFDFDF'\\n/**\\n *  Jupyter Notebook: 'white', Sphinx: '#FCFCFC'\\n *  @constant {string}\\n */\\nvar TERTIARY_LIGHT_COLOR = 'white'\\n/** @constant {string} */\\nvar TERTIARY_DARK_COLOR = '#404040'\\n/** @type {integer} */\\nvar iteration = 0\\n\\n\\n/**\\n * Increment iteration and update n Div.\\n */\\nfunction increment_iteration() {\\n    if ((parseInt(n.text) + 1) < parseInt(k.text)) {\\n        n.text = (parseInt(n.text) + 1).toString()\\n    }\\n    iteration = parseInt(n.text)\\n}\\n\\n/**\\n * Decrement iteration and update n Div.\\n */\\nfunction decrement_iteration() {\\n    if ((parseInt(n.text) - 1) >= 0) {\\n        n.text = (parseInt(n.text) - 1).toString()\\n    }\\n    iteration = parseInt(n.text)\\n}\\n\\n/**\\n * Update which nodes are highlighted given the current iteration.\\n */\\nfunction nodes_update() {\\n    var in_tree = source.data['nodes'][iteration]\\n\\n    for (let i = 0; i < nodes_src.data['line_color'].length ; i++) {\\n        if (in_tree.includes(i)) {\\n            nodes_src.data['fill_color'][i] = PRIMARY_DARK_COLOR\\n            nodes_src.data['line_color'][i] = PRIMARY_DARK_COLOR\\n        } else {\\n            nodes_src.data['fill_color'][i] = PRIMARY_LIGHT_COLOR\\n            nodes_src.data['line_color'][i] = PRIMARY_DARK_COLOR\\n        }\\n    }\\n\\n    nodes_src.change.emit()\\n}\\n\\n/**\\n * Update which subset of edges are highlighted given the current iteration.\\n */\\nfunction edge_subset_update() {\\n    edge_subset_src.data['xs'] = source.data['edge_xs'][iteration]\\n    edge_subset_src.data['ys'] = source.data['edge_ys'][iteration]\\n    edge_subset_src.change.emit()\\n}\\n\\n/**\\n * Update which swaps are updated given the current iteration\\n */\\nfunction swaps_update() {\\n    swaps_src.data['swaps_before_x'] = source.data['swaps_before_x'][iteration]\\n    swaps_src.data['swaps_before_y'] = source.data['swaps_before_y'][iteration]\\n    swaps_src.data['swaps_after_x'] = source.data['swaps_after_x'][iteration]\\n    swaps_src.data['swaps_after_y'] = source.data['swaps_after_y'][iteration]\\n    swaps_src.change.emit()\\n}\\n\\n/**\\n * Update which table is shown given the current iteration.\\n */\\nfunction table_update() {\\n    table_src.data = source.data['tables'][iteration]\\n}\\n\\n/**\\n * Update which cost is shown given the current iteration.\\n */\\nfunction cost_update() {\\n    cost.text = source.data['costs'][iteration].toFixed(1)\\n}\\n\\n/**\\n * Update done Div based on the current iteration.\\n */\\nfunction done_update() {\\n    if (iteration == parseInt(k.text) - 1) {\\n        done.text = \\\"done.\\\"\\n    } else {\\n        done.text = \\\"\\\"\\n    }\\n}\\n\\n// BEGIN FUNCTION CALLING\\ndecrement_iteration()\\ndone_update()\\ncost_update()\\nedge_subset_update()\\nnodes_update()\\n\"},\"id\":\"2666\",\"type\":\"CustomJS\"},{\"attributes\":{\"data\":{\"fill_color\":[\"#5e92f3\",\"#5e92f3\",\"#5e92f3\",\"#5e92f3\",\"#5e92f3\",\"#5e92f3\",\"#5e92f3\",\"#5e92f3\",\"#5e92f3\",\"#5e92f3\",\"#5e92f3\",\"#5e92f3\",\"#5e92f3\",\"#5e92f3\",\"#5e92f3\",\"#5e92f3\"],\"line_color\":[\"#003c8f\",\"#003c8f\",\"#003c8f\",\"#003c8f\",\"#003c8f\",\"#003c8f\",\"#003c8f\",\"#003c8f\",\"#003c8f\",\"#003c8f\",\"#003c8f\",\"#003c8f\",\"#003c8f\",\"#003c8f\",\"#003c8f\",\"#003c8f\"],\"line_width\":[3,3,3,3,3,3,3,3,3,3,3,3,3,3,3,3],\"x\":[6,20,72,111,194,178,199,205,207,198,165,157,162,144,127,189],\"y\":[71,59,31,-8,-8,38,86,96,106,103,97,84,112,112,97,93]},\"selected\":{\"id\":\"2680\"},\"selection_policy\":{\"id\":\"2679\"}},\"id\":\"2631\",\"type\":\"ColumnDataSource\"},{\"attributes\":{},\"id\":\"2676\",\"type\":\"UnionRenderers\"},{\"attributes\":{},\"id\":\"2682\",\"type\":\"Selection\"},{\"attributes\":{},\"id\":\"2679\",\"type\":\"UnionRenderers\"},{\"attributes\":{\"formatter\":{\"id\":\"2674\"},\"ticker\":{\"id\":\"2611\"},\"visible\":false},\"id\":\"2610\",\"type\":\"LinearAxis\"},{\"attributes\":{},\"id\":\"2677\",\"type\":\"Selection\"},{\"attributes\":{},\"id\":\"2681\",\"type\":\"UnionRenderers\"},{\"attributes\":{\"data\":{\"line_color\":[\"#DFDFDF\",\"#DFDFDF\",\"#DFDFDF\",\"#DFDFDF\",\"#DFDFDF\",\"#DFDFDF\",\"#DFDFDF\",\"#DFDFDF\",\"#DFDFDF\",\"#DFDFDF\",\"#DFDFDF\",\"#DFDFDF\",\"#DFDFDF\",\"#DFDFDF\",\"#DFDFDF\",\"#DFDFDF\",\"#DFDFDF\",\"#DFDFDF\",\"#DFDFDF\",\"#DFDFDF\",\"#DFDFDF\",\"#DFDFDF\",\"#DFDFDF\",\"#DFDFDF\",\"#DFDFDF\",\"#DFDFDF\",\"#DFDFDF\",\"#DFDFDF\"],\"u\":[0,0,1,1,14,14,14,14,2,2,3,3,3,11,11,11,11,4,5,6,6,7,7,15,15,8,9,12],\"v\":[1,14,2,14,2,11,12,13,3,11,4,5,11,5,10,12,13,5,6,7,15,8,9,9,10,9,10,13],\"weight\":[4,24,12,19,20,8,10,6,10,25,14,18,18,14,4,8,8,12,14,3,3,1,2,4,6,2,6,4],\"xs\":[[6,20],[6,127],[20,72],[20,127],[127,72],[127,157],[127,162],[127,144],[72,111],[72,157],[111,194],[111,178],[111,157],[157,178],[157,165],[157,162],[157,144],[194,178],[178,199],[199,205],[199,189],[205,207],[205,198],[189,198],[189,165],[207,198],[198,165],[162,144]],\"ys\":[[71,59],[71,97],[59,31],[59,97],[97,31],[97,84],[97,112],[97,112],[31,-8],[31,84],[-8,-8],[-8,38],[-8,84],[84,38],[84,97],[84,112],[84,112],[-8,38],[38,86],[86,96],[86,93],[96,106],[96,103],[93,103],[93,97],[106,103],[103,97],[112,112]]},\"selected\":{\"id\":\"2682\"},\"selection_policy\":{\"id\":\"2681\"}},\"id\":\"2637\",\"type\":\"ColumnDataSource\"},{\"attributes\":{},\"id\":\"2680\",\"type\":\"Selection\"},{\"attributes\":{},\"id\":\"2611\",\"type\":\"BasicTicker\"},{\"attributes\":{},\"id\":\"2618\",\"type\":\"ResetTool\"},{\"attributes\":{\"data\":{\"xs\":[],\"ys\":[]},\"selected\":{\"id\":\"2686\"},\"selection_policy\":{\"id\":\"2685\"}},\"id\":\"2655\",\"type\":\"ColumnDataSource\"},{\"attributes\":{},\"id\":\"2683\",\"type\":\"UnionRenderers\"},{\"attributes\":{\"axis\":{\"id\":\"2610\"},\"dimension\":1,\"grid_line_color\":null,\"ticker\":null},\"id\":\"2613\",\"type\":\"Grid\"},{\"attributes\":{\"data_source\":{\"id\":\"2655\"},\"glyph\":{\"id\":\"2657\"},\"hover_glyph\":null,\"level\":\"underlay\",\"muted_glyph\":null,\"nonselection_glyph\":{\"id\":\"2658\"},\"selection_glyph\":null,\"view\":{\"id\":\"2660\"}},\"id\":\"2659\",\"type\":\"GlyphRenderer\"},{\"attributes\":{},\"id\":\"2684\",\"type\":\"Selection\"},{\"attributes\":{\"line_cap\":\"round\",\"line_color\":{\"value\":\"#404040\"},\"line_width\":{\"value\":5},\"xs\":{\"field\":\"xs\"},\"ys\":{\"field\":\"ys\"}},\"id\":\"2657\",\"type\":\"MultiLine\"},{\"attributes\":{\"source\":{\"id\":\"2631\"}},\"id\":\"2636\",\"type\":\"CDSView\"},{\"attributes\":{\"source\":{\"id\":\"2655\"}},\"id\":\"2660\",\"type\":\"CDSView\"},{\"attributes\":{},\"id\":\"2685\",\"type\":\"UnionRenderers\"},{\"attributes\":{\"align\":\"center\",\"width\":450},\"id\":\"2654\",\"type\":\"Div\"},{\"attributes\":{\"line_cap\":\"round\",\"line_color\":{\"value\":\"#404040\"},\"line_width\":{\"value\":5},\"xs\":{\"field\":\"xs\"},\"ys\":{\"field\":\"ys\"}},\"id\":\"2641\",\"type\":\"MultiLine\"},{\"attributes\":{},\"id\":\"2686\",\"type\":\"Selection\"},{\"attributes\":{\"line_alpha\":{\"value\":0.1},\"line_cap\":\"round\",\"line_color\":{\"value\":\"#404040\"},\"line_width\":{\"value\":5},\"xs\":{\"field\":\"xs\"},\"ys\":{\"field\":\"ys\"}},\"id\":\"2658\",\"type\":\"MultiLine\"},{\"attributes\":{\"data_source\":{\"id\":\"2637\"},\"glyph\":{\"id\":\"2639\"},\"hover_glyph\":{\"id\":\"2641\"},\"level\":\"underlay\",\"muted_glyph\":null,\"nonselection_glyph\":{\"id\":\"2640\"},\"selection_glyph\":null,\"view\":{\"id\":\"2643\"}},\"id\":\"2642\",\"type\":\"GlyphRenderer\"},{\"attributes\":{\"text\":\"\"},\"id\":\"2596\",\"type\":\"Title\"},{\"attributes\":{\"align\":\"center\",\"text\":\"0\",\"width\":450},\"id\":\"2661\",\"type\":\"Div\"},{\"attributes\":{},\"id\":\"2614\",\"type\":\"PanTool\"},{\"attributes\":{},\"id\":\"2692\",\"type\":\"UnionRenderers\"},{\"attributes\":{\"line_cap\":\"round\",\"line_color\":{\"field\":\"line_color\"},\"line_width\":{\"value\":5},\"xs\":{\"field\":\"xs\"},\"ys\":{\"field\":\"ys\"}},\"id\":\"2639\",\"type\":\"MultiLine\"},{\"attributes\":{},\"id\":\"2615\",\"type\":\"WheelZoomTool\"},{\"attributes\":{\"source\":{\"id\":\"2637\"}},\"id\":\"2643\",\"type\":\"CDSView\"},{\"attributes\":{\"data\":{\"costs\":[0,1,3,6,9,13,17,21,27,33,41,51,63,75,89,103],\"edge_xs\":[[],[[205,207]],[[205,207],[205,198]],[[205,207],[205,198],[199,205]],[[205,207],[205,198],[199,205],[199,189]],[[205,207],[205,198],[199,205],[199,189],[6,20]],[[205,207],[205,198],[199,205],[199,189],[6,20],[157,165]],[[205,207],[205,198],[199,205],[199,189],[6,20],[157,165],[162,144]],[[205,207],[205,198],[199,205],[199,189],[6,20],[157,165],[162,144],[127,144]],[[205,207],[205,198],[199,205],[199,189],[6,20],[157,165],[162,144],[127,144],[189,165]],[[205,207],[205,198],[199,205],[199,189],[6,20],[157,165],[162,144],[127,144],[189,165],[127,157]],[[205,207],[205,198],[199,205],[199,189],[6,20],[157,165],[162,144],[127,144],[189,165],[127,157],[72,111]],[[205,207],[205,198],[199,205],[199,189],[6,20],[157,165],[162,144],[127,144],[189,165],[127,157],[72,111],[20,72]],[[205,207],[205,198],[199,205],[199,189],[6,20],[157,165],[162,144],[127,144],[189,165],[127,157],[72,111],[20,72],[194,178]],[[205,207],[205,198],[199,205],[199,189],[6,20],[157,165],[162,144],[127,144],[189,165],[127,157],[72,111],[20,72],[194,178],[111,194]],[[205,207],[205,198],[199,205],[199,189],[6,20],[157,165],[162,144],[127,144],[189,165],[127,157],[72,111],[20,72],[194,178],[111,194],[157,178]]],\"edge_ys\":[[],[[96,106]],[[96,106],[96,103]],[[96,106],[96,103],[86,96]],[[96,106],[96,103],[86,96],[86,93]],[[96,106],[96,103],[86,96],[86,93],[71,59]],[[96,106],[96,103],[86,96],[86,93],[71,59],[84,97]],[[96,106],[96,103],[86,96],[86,93],[71,59],[84,97],[112,112]],[[96,106],[96,103],[86,96],[86,93],[71,59],[84,97],[112,112],[97,112]],[[96,106],[96,103],[86,96],[86,93],[71,59],[84,97],[112,112],[97,112],[93,97]],[[96,106],[96,103],[86,96],[86,93],[71,59],[84,97],[112,112],[97,112],[93,97],[97,84]],[[96,106],[96,103],[86,96],[86,93],[71,59],[84,97],[112,112],[97,112],[93,97],[97,84],[31,-8]],[[96,106],[96,103],[86,96],[86,93],[71,59],[84,97],[112,112],[97,112],[93,97],[97,84],[31,-8],[59,31]],[[96,106],[96,103],[86,96],[86,93],[71,59],[84,97],[112,112],[97,112],[93,97],[97,84],[31,-8],[59,31],[-8,38]],[[96,106],[96,103],[86,96],[86,93],[71,59],[84,97],[112,112],[97,112],[93,97],[97,84],[31,-8],[59,31],[-8,38],[-8,-8]],[[96,106],[96,103],[86,96],[86,93],[71,59],[84,97],[112,112],[97,112],[93,97],[97,84],[31,-8],[59,31],[-8,38],[-8,-8],[84,38]]],\"nodes\":[[],[8,7],[8,9,7],[8,9,6,7],[6,7,8,9,15],[0,1,6,7,8,9,15],[0,1,6,7,8,9,10,11,15],[0,1,6,7,8,9,10,11,12,13,15],[0,1,6,7,8,9,10,11,12,13,14,15],[0,1,6,7,8,9,10,11,12,13,14,15],[0,1,6,7,8,9,10,11,12,13,14,15],[0,1,2,3,6,7,8,9,10,11,12,13,14,15],[0,1,2,3,6,7,8,9,10,11,12,13,14,15],[0,1,2,3,4,5,6,7,8,9,10,11,12,13,14,15],[0,1,2,3,4,5,6,7,8,9,10,11,12,13,14,15],[0,1,2,3,4,5,6,7,8,9,10,11,12,13,14,15]]},\"selected\":{\"id\":\"2693\"},\"selection_policy\":{\"id\":\"2692\"}},\"id\":\"2662\",\"type\":\"ColumnDataSource\"},{\"attributes\":{},\"id\":\"2693\",\"type\":\"Selection\"},{\"attributes\":{\"line_cap\":\"round\",\"line_color\":{\"field\":\"line_color\"},\"line_width\":{\"value\":5},\"xs\":{\"field\":\"xs\"},\"ys\":{\"field\":\"ys\"}},\"id\":\"2640\",\"type\":\"MultiLine\"},{\"attributes\":{\"overlay\":{\"id\":\"2620\"}},\"id\":\"2616\",\"type\":\"BoxZoomTool\"},{\"attributes\":{\"align\":\"center\",\"text\":\"0\",\"width\":900},\"id\":\"2652\",\"type\":\"Div\"},{\"attributes\":{\"button_type\":\"primary\",\"icon\":null,\"js_event_callbacks\":{\"button_click\":[{\"id\":\"2664\"}]},\"label\":\"Next\",\"max_width\":450,\"sizing_mode\":\"stretch_width\",\"width_policy\":\"fit\"},\"id\":\"2663\",\"type\":\"Button\"},{\"attributes\":{},\"id\":\"2617\",\"type\":\"SaveTool\"},{\"attributes\":{\"data\":{\"xs\":[[11.867393549830293,14.1326064501697],[64.2132081933475,68.78679180665253],[43.98457472802465,48.01542527197538],[71.31392773909235,75.68607226090765],[100.9065151137992,98.09348488620083],[140.5887402418824,143.4112597581176],[142.37870743870653,146.62129256129347],[134.3832167600553,136.6167832399447],[89.9311343589464,93.06886564105363],[112.57004046214576,116.42995953785424],[150.1483,154.85170000000002],[142.6336759201498,146.3663240798502],[133.03894314211007,134.96105685788993],[166.61006419357236,168.38993580642764],[160.24329823001975,161.75670176998028],[159.25243123412935,159.74756876587068],[151.1019039619186,149.89809603808138],[186.69937892443528,185.30062107556475],[187.6421179461765,189.35788205382346],[201.25793580143863,202.74206419856134],[195.23521488209917,192.7647851179008],[205.72359827057616,206.2764017294238],[202.54591042736908,200.45408957263095],[192.51616586095076,194.4838341390492],[178.54133338379128,175.4586666162087],[203.96931436315347,201.03068563684658],[183.03645249636594,179.96354750363403],[154.5678,151.4322]],\"ys\":[[65.9708055287169,64.02919447128312],[83.50862324815732,84.4913767518427],[46.085228992602126,43.914771007397874],[77.22363788864963,78.77636211135038],[65.68781813655903,62.31218186344098],[91.11154589518429,89.88845410481571],[103.59087461658854,105.40912538341149],[103.51460302357822,105.48539697642181],[13.06886564105362,9.93113435894638],[56.296613464632046,58.703386535367954],[-7.999999999999998,-7.999999999999998],[13.718643169058069,16.281356830941924],[36.07788628422017,39.922113715779815],[62.949383195031956,59.05061680496806],[89.27035962378204,91.72964037621796],[96.61361491112429,99.38638508887571],[96.70359146663688,99.29640853336312],[12.989285592248606,17.010714407751394],[60.03912673411776,63.960873265882256],[89.76322633573106,92.23677366426892],[88.63534958253058,90.36465041746942],[99.61799135288078,102.38200864711922],[98.45408957263092,100.54591042736905],[96.90685095661199,99.09314904338801],[94.74311110270146,95.25688889729855],[104.98977145438448,104.01022854561555],[100.27935499933926,99.72064500066074],[112.00000000000001,112.00000000000001]]},\"selected\":{\"id\":\"2684\"},\"selection_policy\":{\"id\":\"2683\"}},\"id\":\"2644\",\"type\":\"ColumnDataSource\"},{\"attributes\":{\"args\":{\"cost\":{\"id\":\"2661\"},\"done\":{\"id\":\"2654\"},\"edge_subset_src\":{\"id\":\"2655\"},\"k\":{\"id\":\"2653\"},\"n\":{\"id\":\"2652\"},\"nodes_src\":{\"id\":\"2631\"},\"source\":{\"id\":\"2662\"}},\"code\":\"/* Color Theme -- Using Google's Material Design Color System\\n   https://material.io/design/color/the-color-system.html */\\n\\n/** @constant {string} */\\nvar PRIMARY_COLOR = '#1565c0'\\n/** @constant {string} */\\nvar PRIMARY_LIGHT_COLOR = '#5e92f3'\\n/** @constant {string} */\\nvar PRIMARY_DARK_COLOR = '#003c8f'\\n/** @constant {string} */\\nvar SECONDARY_COLOR = '#d50000'\\n/** @constant {string} */\\nvar SECONDARY_LIGHT_COLOR = '#ff5131'\\n/** @constant {string} */\\nvar SECONDARY_DARK_COLOR = '#9b0000'\\n\\n// Grayscale\\n/** @constant {string} */\\nvar TERTIARY_COLOR = '#DFDFDF'\\n/**\\n *  Jupyter Notebook: 'white', Sphinx: '#FCFCFC'\\n *  @constant {string}\\n */\\nvar TERTIARY_LIGHT_COLOR = 'white'\\n/** @constant {string} */\\nvar TERTIARY_DARK_COLOR = '#404040'\\n/** @type {integer} */\\nvar iteration = 0\\n\\n\\n/**\\n * Increment iteration and update n Div.\\n */\\nfunction increment_iteration() {\\n    if ((parseInt(n.text) + 1) < parseInt(k.text)) {\\n        n.text = (parseInt(n.text) + 1).toString()\\n    }\\n    iteration = parseInt(n.text)\\n}\\n\\n/**\\n * Decrement iteration and update n Div.\\n */\\nfunction decrement_iteration() {\\n    if ((parseInt(n.text) - 1) >= 0) {\\n        n.text = (parseInt(n.text) - 1).toString()\\n    }\\n    iteration = parseInt(n.text)\\n}\\n\\n/**\\n * Update which nodes are highlighted given the current iteration.\\n */\\nfunction nodes_update() {\\n    var in_tree = source.data['nodes'][iteration]\\n\\n    for (let i = 0; i < nodes_src.data['line_color'].length ; i++) {\\n        if (in_tree.includes(i)) {\\n            nodes_src.data['fill_color'][i] = PRIMARY_DARK_COLOR\\n            nodes_src.data['line_color'][i] = PRIMARY_DARK_COLOR\\n        } else {\\n            nodes_src.data['fill_color'][i] = PRIMARY_LIGHT_COLOR\\n            nodes_src.data['line_color'][i] = PRIMARY_DARK_COLOR\\n        }\\n    }\\n\\n    nodes_src.change.emit()\\n}\\n\\n/**\\n * Update which subset of edges are highlighted given the current iteration.\\n */\\nfunction edge_subset_update() {\\n    edge_subset_src.data['xs'] = source.data['edge_xs'][iteration]\\n    edge_subset_src.data['ys'] = source.data['edge_ys'][iteration]\\n    edge_subset_src.change.emit()\\n}\\n\\n/**\\n * Update which swaps are updated given the current iteration\\n */\\nfunction swaps_update() {\\n    swaps_src.data['swaps_before_x'] = source.data['swaps_before_x'][iteration]\\n    swaps_src.data['swaps_before_y'] = source.data['swaps_before_y'][iteration]\\n    swaps_src.data['swaps_after_x'] = source.data['swaps_after_x'][iteration]\\n    swaps_src.data['swaps_after_y'] = source.data['swaps_after_y'][iteration]\\n    swaps_src.change.emit()\\n}\\n\\n/**\\n * Update which table is shown given the current iteration.\\n */\\nfunction table_update() {\\n    table_src.data = source.data['tables'][iteration]\\n}\\n\\n/**\\n * Update which cost is shown given the current iteration.\\n */\\nfunction cost_update() {\\n    cost.text = source.data['costs'][iteration].toFixed(1)\\n}\\n\\n/**\\n * Update done Div based on the current iteration.\\n */\\nfunction done_update() {\\n    if (iteration == parseInt(k.text) - 1) {\\n        done.text = \\\"done.\\\"\\n    } else {\\n        done.text = \\\"\\\"\\n    }\\n}\\n\\n// BEGIN FUNCTION CALLING\\nincrement_iteration()\\ndone_update()\\ncost_update()\\nedge_subset_update()\\nnodes_update()\\n\"},\"id\":\"2664\",\"type\":\"CustomJS\"},{\"attributes\":{\"button_type\":\"primary\",\"icon\":null,\"js_event_callbacks\":{\"button_click\":[{\"id\":\"2666\"}]},\"label\":\"Previous\",\"max_width\":450,\"sizing_mode\":\"stretch_width\",\"width_policy\":\"fit\"},\"id\":\"2665\",\"type\":\"Button\"},{\"attributes\":{\"line_color\":{\"value\":\"white\"},\"line_width\":{\"value\":6},\"xs\":{\"field\":\"xs\"},\"ys\":{\"field\":\"ys\"}},\"id\":\"2645\",\"type\":\"MultiLine\"},{\"attributes\":{},\"id\":\"2619\",\"type\":\"HelpTool\"}],\"root_ids\":[\"2694\"]},\"title\":\"Bokeh Application\",\"version\":\"2.2.3\"}};\n",
       "  var render_items = [{\"docid\":\"a1fcb805-6a18-46bc-a674-e0e8bbacc73e\",\"root_ids\":[\"2694\"],\"roots\":{\"2694\":\"8a916ec9-5bbb-4411-8f93-875c3e852e85\"}}];\n",
       "  root.Bokeh.embed.embed_items_notebook(docs_json, render_items);\n",
       "\n",
       "  }\n",
       "  if (root.Bokeh !== undefined) {\n",
       "    embed_document(root);\n",
       "  } else {\n",
       "    var attempts = 0;\n",
       "    var timer = setInterval(function(root) {\n",
       "      if (root.Bokeh !== undefined) {\n",
       "        clearInterval(timer);\n",
       "        embed_document(root);\n",
       "      } else {\n",
       "        attempts++;\n",
       "        if (attempts > 100) {\n",
       "          clearInterval(timer);\n",
       "          console.log(\"Bokeh: ERROR: Unable to run BokehJS code because BokehJS library is missing\");\n",
       "        }\n",
       "      }\n",
       "    }, 10, root)\n",
       "  }\n",
       "})(window);"
      ],
      "application/vnd.bokehjs_exec.v0+json": ""
     },
     "metadata": {
      "application/vnd.bokehjs_exec.v0+json": {
       "id": "2694"
      }
     },
     "output_type": "display_data"
    }
   ],
   "source": [
    "show(vl.mst_algorithm_plot(G, algorithm='kruskals', width=900, height=600))"
   ]
  },
  {
   "cell_type": "markdown",
   "metadata": {},
   "source": [
    "**Q10:** Is the same spanning tree found by the two algorithms?\n",
    "\n",
    "<font color='blue'>No.</font>"
   ]
  },
  {
   "cell_type": "markdown",
   "metadata": {},
   "source": [
    "**Q11:** (Why is the previous question not a dumb question?)\n",
    "\n",
    "<font color='blue'>Both are minimum spanning trees but there can be multiple spanning trees that have the same cost.</font>"
   ]
  },
  {
   "cell_type": "markdown",
   "metadata": {},
   "source": [
    "The following algorithm is called the Reverse Greedy Algorithm, and it\n",
    "effectively does Kruskal's in reverse.\n",
    "\n",
    "1. Start with the entire graph.\n",
    "2. At each step, check if the graph has a cycle. If it does, remove the most expensive edge in the cycle (break ties arbitrarily, and pick any cycle you'd like).\n",
    "3. Continue to do this until the graph remaining is a spanning tree.\n"
   ]
  },
  {
   "cell_type": "code",
   "execution_count": 10,
   "metadata": {},
   "outputs": [
    {
     "data": {
      "text/html": [
       "\n",
       "\n",
       "\n",
       "\n",
       "\n",
       "\n",
       "  <div class=\"bk-root\" id=\"22e4def8-b39e-4fe5-bcdd-3f998790f345\" data-root-id=\"2991\"></div>\n"
      ]
     },
     "metadata": {},
     "output_type": "display_data"
    },
    {
     "data": {
      "application/javascript": [
       "(function(root) {\n",
       "  function embed_document(root) {\n",
       "    \n",
       "  var docs_json = {\"773091d8-9766-41b6-9da8-f9a6fc21fd95\":{\"roots\":{\"references\":[{\"attributes\":{\"children\":[[{\"id\":\"2915\"},0,0],[{\"id\":\"2975\"},1,0]]},\"id\":\"2991\",\"type\":\"GridBox\"},{\"attributes\":{},\"id\":\"2939\",\"type\":\"HelpTool\"},{\"attributes\":{\"text\":\"\"},\"id\":\"2916\",\"type\":\"Title\"},{\"attributes\":{\"data_source\":{\"id\":\"2964\"},\"glyph\":{\"id\":\"2965\"},\"hover_glyph\":null,\"level\":\"guide\",\"muted_glyph\":null,\"nonselection_glyph\":{\"id\":\"2966\"},\"selection_glyph\":null,\"view\":{\"id\":\"2968\"}},\"id\":\"2967\",\"type\":\"GlyphRenderer\"},{\"attributes\":{\"source\":{\"id\":\"2964\"}},\"id\":\"2968\",\"type\":\"CDSView\"},{\"attributes\":{\"line_color\":{\"value\":\"white\"},\"line_width\":{\"value\":6},\"xs\":{\"field\":\"xs\"},\"ys\":{\"field\":\"ys\"}},\"id\":\"2965\",\"type\":\"MultiLine\"},{\"attributes\":{\"end\":224.085,\"start\":-11.085},\"id\":\"2918\",\"type\":\"Range1d\"},{\"attributes\":{\"active_drag\":null,\"active_inspect\":\"auto\",\"active_multi\":null,\"active_scroll\":null,\"active_tap\":\"auto\",\"logo\":null,\"tools\":[{\"id\":\"2934\"},{\"id\":\"2935\"},{\"id\":\"2936\"},{\"id\":\"2937\"},{\"id\":\"2938\"},{\"id\":\"2939\"},{\"id\":\"2973\"}]},\"id\":\"2941\",\"type\":\"Toolbar\"},{\"attributes\":{\"end\":122.2,\"start\":-18.200000000000003},\"id\":\"2920\",\"type\":\"Range1d\"},{\"attributes\":{\"data\":{\"text\":[4,24,12,19,20,8,10,6,10,25,14,18,18,14,4,8,8,12,14,3,3,1,2,4,6,2,6,4],\"x\":{\"__ndarray__\":\"AgAAAAAAKkAAAAAAAKBQQAEAAAAAAEdAAgAAAABgUkACAAAAAOBYQP//////v2FAAAAAAAAQYkAAAAAAAPBgQAAAAAAA4FZAAAAAAACgXED//////w9jQAAAAAAAEGJAAAAAAADAYEAAAAAAAPBkQAAAAAAAIGRAAAAAAADwY0AAAAAAANBiQAEAAAAAQGdAAAAAAACQZ0AAAAAAAEBpQAAAAAAAQGhAAQAAAADAaUAAAAAAADBpQP//////L2hAAAAAAAAgZkABAAAAAFBpQAAAAAAAsGZAAAAAAAAgY0A=\",\"dtype\":\"float64\",\"order\":\"little\",\"shape\":[28]},\"y\":{\"__ndarray__\":\"AAAAAABAUED///////9UQAAAAAAAgEZA//////9/U0AAAAAAAABQQAEAAAAAoFZAAAAAAAAgWkAAAAAAACBaQAAAAAAAACdAAAAAAADATED+//////8fwAAAAAAAAC5AAAAAAAAAQ0ACAAAAAIBOQAEAAAAAoFZAAQAAAACAWEABAAAAAIBYQAAAAAAAAC5AAAAAAAAAT0AAAAAAAMBWQAAAAAAAYFZAAAAAAABAWUABAAAAAOBYQAEAAAAAgFhAAQAAAADAV0AAAAAAACBaQAAAAAAAAFlAAQAAAAAAXEA=\",\"dtype\":\"float64\",\"order\":\"little\",\"shape\":[28]}},\"selected\":{\"id\":\"2982\"},\"selection_policy\":{\"id\":\"2981\"}},\"id\":\"2969\",\"type\":\"ColumnDataSource\"},{\"attributes\":{\"source\":{\"id\":\"2957\"}},\"id\":\"2963\",\"type\":\"CDSView\"},{\"attributes\":{},\"id\":\"2922\",\"type\":\"LinearScale\"},{\"attributes\":{\"line_color\":{\"value\":\"white\"},\"line_width\":{\"value\":6},\"xs\":{\"field\":\"xs\"},\"ys\":{\"field\":\"ys\"}},\"id\":\"2966\",\"type\":\"MultiLine\"},{\"attributes\":{\"data_source\":{\"id\":\"2957\"},\"glyph\":{\"id\":\"2959\"},\"hover_glyph\":{\"id\":\"2961\"},\"level\":\"underlay\",\"muted_glyph\":null,\"nonselection_glyph\":{\"id\":\"2960\"},\"selection_glyph\":null,\"view\":{\"id\":\"2963\"}},\"id\":\"2962\",\"type\":\"GlyphRenderer\"},{\"attributes\":{\"source\":{\"id\":\"2969\"},\"text_align\":\"center\",\"text_baseline\":\"middle\",\"text_color\":{\"value\":\"black\"},\"text_font_size\":{\"value\":\"13px\"},\"x\":{\"field\":\"x\"},\"y\":{\"field\":\"y\"}},\"id\":\"2970\",\"type\":\"LabelSet\"},{\"attributes\":{},\"id\":\"2924\",\"type\":\"LinearScale\"},{\"attributes\":{\"bottom_units\":\"screen\",\"fill_alpha\":0.5,\"fill_color\":\"lightgrey\",\"left_units\":\"screen\",\"level\":\"overlay\",\"line_alpha\":1.0,\"line_color\":\"black\",\"line_dash\":[4,4],\"line_width\":2,\"right_units\":\"screen\",\"top_units\":\"screen\"},\"id\":\"2940\",\"type\":\"BoxAnnotation\"},{\"attributes\":{\"formatter\":{\"id\":\"2977\"},\"ticker\":{\"id\":\"2927\"},\"visible\":false},\"id\":\"2926\",\"type\":\"LinearAxis\"},{\"attributes\":{\"data\":{\"fill_color\":[\"#5e92f3\",\"#5e92f3\",\"#5e92f3\",\"#5e92f3\",\"#5e92f3\",\"#5e92f3\",\"#5e92f3\",\"#5e92f3\",\"#5e92f3\",\"#5e92f3\",\"#5e92f3\",\"#5e92f3\",\"#5e92f3\",\"#5e92f3\",\"#5e92f3\",\"#5e92f3\"],\"line_color\":[\"#003c8f\",\"#003c8f\",\"#003c8f\",\"#003c8f\",\"#003c8f\",\"#003c8f\",\"#003c8f\",\"#003c8f\",\"#003c8f\",\"#003c8f\",\"#003c8f\",\"#003c8f\",\"#003c8f\",\"#003c8f\",\"#003c8f\",\"#003c8f\"],\"line_width\":[3,3,3,3,3,3,3,3,3,3,3,3,3,3,3,3],\"x\":[6,20,72,111,194,178,199,205,207,198,165,157,162,144,127,189],\"y\":[71,59,31,-8,-8,38,86,96,106,103,97,84,112,112,97,93]},\"selected\":{\"id\":\"2985\"},\"selection_policy\":{\"id\":\"2984\"}},\"id\":\"2951\",\"type\":\"ColumnDataSource\"},{\"attributes\":{\"line_cap\":\"round\",\"line_color\":{\"value\":\"#404040\"},\"line_width\":{\"value\":5},\"xs\":{\"field\":\"xs\"},\"ys\":{\"field\":\"ys\"}},\"id\":\"2961\",\"type\":\"MultiLine\"},{\"attributes\":{\"axis\":{\"id\":\"2926\"},\"grid_line_color\":null,\"ticker\":null},\"id\":\"2929\",\"type\":\"Grid\"},{\"attributes\":{},\"id\":\"2979\",\"type\":\"BasicTickFormatter\"},{\"attributes\":{},\"id\":\"2977\",\"type\":\"BasicTickFormatter\"},{\"attributes\":{\"data\":{\"line_color\":[\"#DFDFDF\",\"#DFDFDF\",\"#DFDFDF\",\"#DFDFDF\",\"#DFDFDF\",\"#DFDFDF\",\"#DFDFDF\",\"#DFDFDF\",\"#DFDFDF\",\"#DFDFDF\",\"#DFDFDF\",\"#DFDFDF\",\"#DFDFDF\",\"#DFDFDF\",\"#DFDFDF\",\"#DFDFDF\",\"#DFDFDF\",\"#DFDFDF\",\"#DFDFDF\",\"#DFDFDF\",\"#DFDFDF\",\"#DFDFDF\",\"#DFDFDF\",\"#DFDFDF\",\"#DFDFDF\",\"#DFDFDF\",\"#DFDFDF\",\"#DFDFDF\"],\"u\":[0,0,1,1,14,14,14,14,2,2,3,3,3,11,11,11,11,4,5,6,6,7,7,15,15,8,9,12],\"v\":[1,14,2,14,2,11,12,13,3,11,4,5,11,5,10,12,13,5,6,7,15,8,9,9,10,9,10,13],\"weight\":[4,24,12,19,20,8,10,6,10,25,14,18,18,14,4,8,8,12,14,3,3,1,2,4,6,2,6,4],\"xs\":[[6,20],[6,127],[20,72],[20,127],[127,72],[127,157],[127,162],[127,144],[72,111],[72,157],[111,194],[111,178],[111,157],[157,178],[157,165],[157,162],[157,144],[194,178],[178,199],[199,205],[199,189],[205,207],[205,198],[189,198],[189,165],[207,198],[198,165],[162,144]],\"ys\":[[71,59],[71,97],[59,31],[59,97],[97,31],[97,84],[97,112],[97,112],[31,-8],[31,84],[-8,-8],[-8,38],[-8,84],[84,38],[84,97],[84,112],[84,112],[-8,38],[38,86],[86,96],[86,93],[96,106],[96,103],[93,103],[93,97],[106,103],[103,97],[112,112]]},\"selected\":{\"id\":\"2987\"},\"selection_policy\":{\"id\":\"2986\"}},\"id\":\"2957\",\"type\":\"ColumnDataSource\"},{\"attributes\":{\"formatter\":{\"id\":\"2979\"},\"ticker\":{\"id\":\"2931\"},\"visible\":false},\"id\":\"2930\",\"type\":\"LinearAxis\"},{\"attributes\":{},\"id\":\"2981\",\"type\":\"UnionRenderers\"},{\"attributes\":{\"callback\":null,\"renderers\":[{\"id\":\"2955\"}],\"tooltips\":[[\"Index\",\"$index\"],[\"Name\",\"@name\"]]},\"id\":\"2973\",\"type\":\"HoverTool\"},{\"attributes\":{},\"id\":\"2931\",\"type\":\"BasicTicker\"},{\"attributes\":{},\"id\":\"2982\",\"type\":\"Selection\"},{\"attributes\":{},\"id\":\"2927\",\"type\":\"BasicTicker\"},{\"attributes\":{},\"id\":\"2984\",\"type\":\"UnionRenderers\"},{\"attributes\":{\"axis\":{\"id\":\"2930\"},\"dimension\":1,\"grid_line_color\":null,\"ticker\":null},\"id\":\"2933\",\"type\":\"Grid\"},{\"attributes\":{},\"id\":\"2985\",\"type\":\"Selection\"},{\"attributes\":{\"data_source\":{\"id\":\"2951\"},\"glyph\":{\"id\":\"2953\"},\"hover_glyph\":null,\"muted_glyph\":null,\"nonselection_glyph\":{\"id\":\"2954\"},\"selection_glyph\":null,\"view\":{\"id\":\"2956\"}},\"id\":\"2955\",\"type\":\"GlyphRenderer\"},{\"attributes\":{\"source\":{\"id\":\"2951\"}},\"id\":\"2956\",\"type\":\"CDSView\"},{\"attributes\":{},\"id\":\"2986\",\"type\":\"UnionRenderers\"},{\"attributes\":{\"align\":\"center\",\"width\":300},\"id\":\"2972\",\"type\":\"Div\"},{\"attributes\":{},\"id\":\"2987\",\"type\":\"Selection\"},{\"attributes\":{\"data\":{\"xs\":[[11.301090324745442,14.698909675254566],[63.069812290021225,69.93018770997878],[42.976862092036946,49.02313790796307],[70.22089160863857,76.77910839136149],[101.60977267069882,97.39022732930124],[139.8831103628236,144.11688963717637],[141.31806115805978,147.68193884194022],[133.82482514008294,137.17517485991706],[89.14670153841959,93.85329846158044],[111.6050606932186,117.3949393067814],[148.97244999999998,156.02755],[141.7005138802247,147.2994861197753],[132.55841471316512,135.44158528683488],[166.16509629035858,168.83490370964145],[159.86494734502958,162.13505265497042],[159.128646851194,159.87135314880598],[151.4028559428779,149.5971440571221],[187.04906838665292,184.9509316133471],[187.21317691926478,189.78682308073522],[200.88690370215798,203.11309629784205],[195.85282232314876,192.14717767685121],[205.58539740586426,206.41460259413577],[203.06886564105358,199.9311343589464],[192.02424879142615,194.9757512085738],[179.31200007568697,174.68799992431306],[204.7039715447302,200.29602845526986],[183.80467874454894,179.19532125545106],[155.3517,150.6483]],\"ys\":[[66.45620829307533,63.543791706924665],[83.26293487223596,84.73706512776401],[46.62784348890318,43.372156511096804],[76.83545683297443,79.16454316702556],[66.53172720483855,61.46827279516147],[91.41731884277647,89.58268115722356],[103.13631192488276,105.86368807511724],[103.0219045353673,105.9780954646327],[13.85329846158043,9.146701538419578],[55.694920196948075,59.305079803051925],[-7.999999999999998,-7.999999999999998],[13.077964753587104,16.92203524641289],[35.11682942633026,40.883170573669744],[63.92407479254794,58.07592520745206],[88.65553943567308,92.34446056432695],[95.92042236668642,100.07957763331359],[96.05538719995533,99.9446128000447],[11.98392838837291,18.016071611627098],[59.05869010117662,64.94130989882336],[89.14483950359659,92.85516049640341],[88.20302437379587,90.79697562620413],[98.9269870293212,103.07301297067883],[97.93113435894641,101.0688656410536],[96.360276434918,99.63972356508202],[94.6146666540522,95.38533334594783],[105.23465718157672,103.76534281842328],[100.41903249900889,99.58096750099111],[112.00000000000001,112.00000000000001]]},\"selected\":{\"id\":\"2989\"},\"selection_policy\":{\"id\":\"2988\"}},\"id\":\"2964\",\"type\":\"ColumnDataSource\"},{\"attributes\":{\"fill_color\":{\"field\":\"fill_color\"},\"line_color\":{\"field\":\"line_color\"},\"line_width\":{\"field\":\"line_width\"},\"size\":{\"units\":\"screen\",\"value\":11},\"x\":{\"field\":\"x\"},\"y\":{\"field\":\"y\"}},\"id\":\"2953\",\"type\":\"Circle\"},{\"attributes\":{\"line_cap\":\"round\",\"line_color\":{\"field\":\"line_color\"},\"line_width\":{\"value\":5},\"xs\":{\"field\":\"xs\"},\"ys\":{\"field\":\"ys\"}},\"id\":\"2959\",\"type\":\"MultiLine\"},{\"attributes\":{},\"id\":\"2934\",\"type\":\"PanTool\"},{\"attributes\":{\"fill_color\":{\"field\":\"fill_color\"},\"line_color\":{\"field\":\"line_color\"},\"line_width\":{\"field\":\"line_width\"},\"size\":{\"units\":\"screen\",\"value\":11},\"x\":{\"field\":\"x\"},\"y\":{\"field\":\"y\"}},\"id\":\"2954\",\"type\":\"Circle\"},{\"attributes\":{},\"id\":\"2988\",\"type\":\"UnionRenderers\"},{\"attributes\":{\"children\":[{\"id\":\"2972\"}]},\"id\":\"2975\",\"type\":\"Row\"},{\"attributes\":{},\"id\":\"2935\",\"type\":\"WheelZoomTool\"},{\"attributes\":{},\"id\":\"2989\",\"type\":\"Selection\"},{\"attributes\":{\"overlay\":{\"id\":\"2940\"}},\"id\":\"2936\",\"type\":\"BoxZoomTool\"},{\"attributes\":{\"line_cap\":\"round\",\"line_color\":{\"field\":\"line_color\"},\"line_width\":{\"value\":5},\"xs\":{\"field\":\"xs\"},\"ys\":{\"field\":\"ys\"}},\"id\":\"2960\",\"type\":\"MultiLine\"},{\"attributes\":{},\"id\":\"2937\",\"type\":\"SaveTool\"},{\"attributes\":{\"background_fill_color\":null,\"below\":[{\"id\":\"2926\"}],\"border_fill_color\":null,\"center\":[{\"id\":\"2929\"},{\"id\":\"2933\"},{\"id\":\"2970\"}],\"left\":[{\"id\":\"2930\"}],\"outline_line_color\":null,\"plot_height\":400,\"renderers\":[{\"id\":\"2955\"},{\"id\":\"2962\"},{\"id\":\"2967\"}],\"title\":{\"id\":\"2916\"},\"toolbar\":{\"id\":\"2941\"},\"toolbar_location\":null,\"x_range\":{\"id\":\"2918\"},\"x_scale\":{\"id\":\"2922\"},\"y_range\":{\"id\":\"2920\"},\"y_scale\":{\"id\":\"2924\"}},\"id\":\"2915\",\"subtype\":\"Figure\",\"type\":\"Plot\"},{\"attributes\":{},\"id\":\"2938\",\"type\":\"ResetTool\"}],\"root_ids\":[\"2991\"]},\"title\":\"Bokeh Application\",\"version\":\"2.2.3\"}};\n",
       "  var render_items = [{\"docid\":\"773091d8-9766-41b6-9da8-f9a6fc21fd95\",\"root_ids\":[\"2991\"],\"roots\":{\"2991\":\"22e4def8-b39e-4fe5-bcdd-3f998790f345\"}}];\n",
       "  root.Bokeh.embed.embed_items_notebook(docs_json, render_items);\n",
       "\n",
       "  }\n",
       "  if (root.Bokeh !== undefined) {\n",
       "    embed_document(root);\n",
       "  } else {\n",
       "    var attempts = 0;\n",
       "    var timer = setInterval(function(root) {\n",
       "      if (root.Bokeh !== undefined) {\n",
       "        clearInterval(timer);\n",
       "        embed_document(root);\n",
       "      } else {\n",
       "        attempts++;\n",
       "        if (attempts > 100) {\n",
       "          clearInterval(timer);\n",
       "          console.log(\"Bokeh: ERROR: Unable to run BokehJS code because BokehJS library is missing\");\n",
       "        }\n",
       "      }\n",
       "    }, 10, root)\n",
       "  }\n",
       "})(window);"
      ],
      "application/vnd.bokehjs_exec.v0+json": ""
     },
     "metadata": {
      "application/vnd.bokehjs_exec.v0+json": {
       "id": "2991"
      }
     },
     "output_type": "display_data"
    }
   ],
   "source": [
    "show(vl.tree_plot(G, tree=[], width=600))"
   ]
  },
  {
   "cell_type": "markdown",
   "metadata": {},
   "source": [
    "**Q12:** Run the first 5 iterations of this algorithm. Show your work: indicate the order in which you delete the edges.\n",
    "\n",
    "**A:** <font color='blue'> Delete edges in this order: (2,11), (0,14), (2,14),(1,14),(11,3) </font>"
   ]
  },
  {
   "cell_type": "markdown",
   "metadata": {},
   "source": [
    "Run the cell below and click next until you have a minimum spanning tree. Note: this software works a little bit different than the above process, and it always looks for the most expensive edge it can eliminate.  It will run a version of Reverse Kruskal's, but won't run in the full generality as above."
   ]
  },
  {
   "cell_type": "code",
   "execution_count": 19,
   "metadata": {},
   "outputs": [
    {
     "data": {
      "text/html": [
       "\n",
       "\n",
       "\n",
       "\n",
       "\n",
       "\n",
       "  <div class=\"bk-root\" id=\"07365e4e-dfcf-4791-b6ab-eb43df158a9b\" data-root-id=\"2624\"></div>\n"
      ]
     },
     "metadata": {},
     "output_type": "display_data"
    },
    {
     "data": {
      "application/javascript": [
       "(function(root) {\n",
       "  function embed_document(root) {\n",
       "    \n",
       "  var docs_json = {\"7d58266a-a02f-4369-aacd-8382717af499\":{\"roots\":{\"references\":[{\"attributes\":{\"children\":[[{\"id\":\"2525\"},0,0],[{\"id\":\"2599\"},1,0],[{\"id\":\"2600\"},2,0]]},\"id\":\"2624\",\"type\":\"GridBox\"},{\"attributes\":{\"data\":{\"costs\":[279,254,230,210,191,173,155,141,131,123,115,109,105,103],\"edge_xs\":[[[6,127],[6,20],[20,127],[20,72],[72,157],[72,127],[72,111],[111,178],[111,157],[111,194],[194,178],[178,157],[178,199],[199,205],[199,189],[205,198],[205,207],[207,198],[198,165],[198,189],[165,189],[165,157],[157,127],[157,162],[157,144],[162,127],[162,144],[144,127]],[[6,127],[6,20],[20,127],[20,72],[72,127],[72,111],[111,178],[111,157],[111,194],[194,178],[178,157],[178,199],[199,205],[199,189],[205,198],[205,207],[207,198],[198,165],[198,189],[165,189],[165,157],[157,127],[157,162],[157,144],[162,127],[162,144],[144,127]],[[6,20],[20,127],[20,72],[72,127],[72,111],[111,178],[111,157],[111,194],[194,178],[178,157],[178,199],[199,205],[199,189],[205,198],[205,207],[207,198],[198,165],[198,189],[165,189],[165,157],[157,127],[157,162],[157,144],[162,127],[162,144],[144,127]],[[6,20],[20,127],[20,72],[72,111],[111,178],[111,157],[111,194],[194,178],[178,157],[178,199],[199,205],[199,189],[205,198],[205,207],[207,198],[198,165],[198,189],[165,189],[165,157],[157,127],[157,162],[157,144],[162,127],[162,144],[144,127]],[[6,20],[20,72],[72,111],[111,178],[111,157],[111,194],[194,178],[178,157],[178,199],[199,205],[199,189],[205,198],[205,207],[207,198],[198,165],[198,189],[165,189],[165,157],[157,127],[157,162],[157,144],[162,127],[162,144],[144,127]],[[6,20],[20,72],[72,111],[111,157],[111,194],[194,178],[178,157],[178,199],[199,205],[199,189],[205,198],[205,207],[207,198],[198,165],[198,189],[165,189],[165,157],[157,127],[157,162],[157,144],[162,127],[162,144],[144,127]],[[6,20],[20,72],[72,111],[111,194],[194,178],[178,157],[178,199],[199,205],[199,189],[205,198],[205,207],[207,198],[198,165],[198,189],[165,189],[165,157],[157,127],[157,162],[157,144],[162,127],[162,144],[144,127]],[[6,20],[20,72],[72,111],[111,194],[194,178],[178,199],[199,205],[199,189],[205,198],[205,207],[207,198],[198,165],[198,189],[165,189],[165,157],[157,127],[157,162],[157,144],[162,127],[162,144],[144,127]],[[6,20],[20,72],[72,111],[111,194],[194,178],[178,199],[199,205],[199,189],[205,198],[205,207],[207,198],[198,165],[198,189],[165,189],[165,157],[157,127],[157,162],[157,144],[162,144],[144,127]],[[6,20],[20,72],[72,111],[111,194],[194,178],[178,199],[199,205],[199,189],[205,198],[205,207],[207,198],[198,165],[198,189],[165,189],[165,157],[157,162],[157,144],[162,144],[144,127]],[[6,20],[20,72],[72,111],[111,194],[194,178],[178,199],[199,205],[199,189],[205,198],[205,207],[207,198],[198,165],[198,189],[165,189],[165,157],[157,144],[162,144],[144,127]],[[6,20],[20,72],[72,111],[111,194],[194,178],[178,199],[199,205],[199,189],[205,198],[205,207],[207,198],[198,165],[198,189],[165,157],[157,144],[162,144],[144,127]],[[6,20],[20,72],[72,111],[111,194],[194,178],[178,199],[199,205],[199,189],[205,198],[205,207],[207,198],[198,165],[165,157],[157,144],[162,144],[144,127]],[[6,20],[20,72],[72,111],[111,194],[194,178],[178,199],[199,205],[199,189],[205,207],[207,198],[198,165],[165,157],[157,144],[162,144],[144,127]]],\"edge_ys\":[[[71,97],[71,59],[59,97],[59,31],[31,84],[31,97],[31,-8],[-8,38],[-8,84],[-8,-8],[-8,38],[38,84],[38,86],[86,96],[86,93],[96,103],[96,106],[106,103],[103,97],[103,93],[97,93],[97,84],[84,97],[84,112],[84,112],[112,97],[112,112],[112,97]],[[71,97],[71,59],[59,97],[59,31],[31,97],[31,-8],[-8,38],[-8,84],[-8,-8],[-8,38],[38,84],[38,86],[86,96],[86,93],[96,103],[96,106],[106,103],[103,97],[103,93],[97,93],[97,84],[84,97],[84,112],[84,112],[112,97],[112,112],[112,97]],[[71,59],[59,97],[59,31],[31,97],[31,-8],[-8,38],[-8,84],[-8,-8],[-8,38],[38,84],[38,86],[86,96],[86,93],[96,103],[96,106],[106,103],[103,97],[103,93],[97,93],[97,84],[84,97],[84,112],[84,112],[112,97],[112,112],[112,97]],[[71,59],[59,97],[59,31],[31,-8],[-8,38],[-8,84],[-8,-8],[-8,38],[38,84],[38,86],[86,96],[86,93],[96,103],[96,106],[106,103],[103,97],[103,93],[97,93],[97,84],[84,97],[84,112],[84,112],[112,97],[112,112],[112,97]],[[71,59],[59,31],[31,-8],[-8,38],[-8,84],[-8,-8],[-8,38],[38,84],[38,86],[86,96],[86,93],[96,103],[96,106],[106,103],[103,97],[103,93],[97,93],[97,84],[84,97],[84,112],[84,112],[112,97],[112,112],[112,97]],[[71,59],[59,31],[31,-8],[-8,84],[-8,-8],[-8,38],[38,84],[38,86],[86,96],[86,93],[96,103],[96,106],[106,103],[103,97],[103,93],[97,93],[97,84],[84,97],[84,112],[84,112],[112,97],[112,112],[112,97]],[[71,59],[59,31],[31,-8],[-8,-8],[-8,38],[38,84],[38,86],[86,96],[86,93],[96,103],[96,106],[106,103],[103,97],[103,93],[97,93],[97,84],[84,97],[84,112],[84,112],[112,97],[112,112],[112,97]],[[71,59],[59,31],[31,-8],[-8,-8],[-8,38],[38,86],[86,96],[86,93],[96,103],[96,106],[106,103],[103,97],[103,93],[97,93],[97,84],[84,97],[84,112],[84,112],[112,97],[112,112],[112,97]],[[71,59],[59,31],[31,-8],[-8,-8],[-8,38],[38,86],[86,96],[86,93],[96,103],[96,106],[106,103],[103,97],[103,93],[97,93],[97,84],[84,97],[84,112],[84,112],[112,112],[112,97]],[[71,59],[59,31],[31,-8],[-8,-8],[-8,38],[38,86],[86,96],[86,93],[96,103],[96,106],[106,103],[103,97],[103,93],[97,93],[97,84],[84,112],[84,112],[112,112],[112,97]],[[71,59],[59,31],[31,-8],[-8,-8],[-8,38],[38,86],[86,96],[86,93],[96,103],[96,106],[106,103],[103,97],[103,93],[97,93],[97,84],[84,112],[112,112],[112,97]],[[71,59],[59,31],[31,-8],[-8,-8],[-8,38],[38,86],[86,96],[86,93],[96,103],[96,106],[106,103],[103,97],[103,93],[97,84],[84,112],[112,112],[112,97]],[[71,59],[59,31],[31,-8],[-8,-8],[-8,38],[38,86],[86,96],[86,93],[96,103],[96,106],[106,103],[103,97],[97,84],[84,112],[112,112],[112,97]],[[71,59],[59,31],[31,-8],[-8,-8],[-8,38],[38,86],[86,96],[86,93],[96,106],[106,103],[103,97],[97,84],[84,112],[112,112],[112,97]]],\"nodes\":[[0,1,2,3,4,5,6,7,8,9,10,11,12,13,14,15],[0,1,2,3,4,5,6,7,8,9,10,11,12,13,14,15],[0,1,2,3,4,5,6,7,8,9,10,11,12,13,14,15],[0,1,2,3,4,5,6,7,8,9,10,11,12,13,14,15],[0,1,2,3,4,5,6,7,8,9,10,11,12,13,14,15],[0,1,2,3,4,5,6,7,8,9,10,11,12,13,14,15],[0,1,2,3,4,5,6,7,8,9,10,11,12,13,14,15],[0,1,2,3,4,5,6,7,8,9,10,11,12,13,14,15],[0,1,2,3,4,5,6,7,8,9,10,11,12,13,14,15],[0,1,2,3,4,5,6,7,8,9,10,11,12,13,14,15],[0,1,2,3,4,5,6,7,8,9,10,11,12,13,14,15],[0,1,2,3,4,5,6,7,8,9,10,11,12,13,14,15],[0,1,2,3,4,5,6,7,8,9,10,11,12,13,14,15],[0,1,2,3,4,5,6,7,8,9,10,11,12,13,14,15]]},\"selected\":{\"id\":\"2622\"},\"selection_policy\":{\"id\":\"2623\"}},\"id\":\"2592\",\"type\":\"ColumnDataSource\"},{\"attributes\":{\"axis\":{\"id\":\"2536\"},\"grid_line_color\":null,\"ticker\":null},\"id\":\"2539\",\"type\":\"Grid\"},{\"attributes\":{\"background_fill_color\":null,\"below\":[{\"id\":\"2536\"}],\"border_fill_color\":null,\"center\":[{\"id\":\"2539\"},{\"id\":\"2543\"},{\"id\":\"2580\"}],\"left\":[{\"id\":\"2540\"}],\"outline_line_color\":null,\"plot_width\":900,\"renderers\":[{\"id\":\"2565\"},{\"id\":\"2572\"},{\"id\":\"2577\"},{\"id\":\"2589\"}],\"title\":{\"id\":\"2526\"},\"toolbar\":{\"id\":\"2551\"},\"toolbar_location\":null,\"x_range\":{\"id\":\"2528\"},\"x_scale\":{\"id\":\"2532\"},\"y_range\":{\"id\":\"2530\"},\"y_scale\":{\"id\":\"2534\"}},\"id\":\"2525\",\"subtype\":\"Figure\",\"type\":\"Plot\"},{\"attributes\":{\"line_cap\":\"round\",\"line_color\":{\"value\":\"#404040\"},\"line_width\":{\"value\":5},\"xs\":{\"field\":\"xs\"},\"ys\":{\"field\":\"ys\"}},\"id\":\"2571\",\"type\":\"MultiLine\"},{\"attributes\":{\"data_source\":{\"id\":\"2567\"},\"glyph\":{\"id\":\"2569\"},\"hover_glyph\":{\"id\":\"2571\"},\"level\":\"underlay\",\"muted_glyph\":null,\"nonselection_glyph\":{\"id\":\"2570\"},\"selection_glyph\":null,\"view\":{\"id\":\"2573\"}},\"id\":\"2572\",\"type\":\"GlyphRenderer\"},{\"attributes\":{\"button_type\":\"primary\",\"icon\":null,\"js_event_callbacks\":{\"button_click\":[{\"id\":\"2594\"}]},\"label\":\"Next\",\"max_width\":450,\"sizing_mode\":\"stretch_width\",\"width_policy\":\"fit\"},\"id\":\"2593\",\"type\":\"Button\"},{\"attributes\":{},\"id\":\"2547\",\"type\":\"SaveTool\"},{\"attributes\":{},\"id\":\"2608\",\"type\":\"UnionRenderers\"},{\"attributes\":{\"overlay\":{\"id\":\"2550\"}},\"id\":\"2546\",\"type\":\"BoxZoomTool\"},{\"attributes\":{\"line_cap\":\"round\",\"line_color\":{\"field\":\"line_color\"},\"line_width\":{\"value\":5},\"xs\":{\"field\":\"xs\"},\"ys\":{\"field\":\"ys\"}},\"id\":\"2569\",\"type\":\"MultiLine\"},{\"attributes\":{\"button_type\":\"primary\",\"icon\":null,\"js_event_callbacks\":{\"button_click\":[{\"id\":\"2596\"}]},\"label\":\"Previous\",\"max_width\":450,\"sizing_mode\":\"stretch_width\",\"width_policy\":\"fit\"},\"id\":\"2595\",\"type\":\"Button\"},{\"attributes\":{\"data\":{\"fill_color\":[\"#003c8f\",\"#003c8f\",\"#003c8f\",\"#003c8f\",\"#003c8f\",\"#003c8f\",\"#003c8f\",\"#003c8f\",\"#003c8f\",\"#003c8f\",\"#003c8f\",\"#003c8f\",\"#003c8f\",\"#003c8f\",\"#003c8f\",\"#003c8f\"],\"line_color\":[\"#003c8f\",\"#003c8f\",\"#003c8f\",\"#003c8f\",\"#003c8f\",\"#003c8f\",\"#003c8f\",\"#003c8f\",\"#003c8f\",\"#003c8f\",\"#003c8f\",\"#003c8f\",\"#003c8f\",\"#003c8f\",\"#003c8f\",\"#003c8f\"],\"line_width\":[3,3,3,3,3,3,3,3,3,3,3,3,3,3,3,3],\"x\":[6,20,72,111,194,178,199,205,207,198,165,157,162,144,127,189],\"y\":[71,59,31,-8,-8,38,86,96,106,103,97,84,112,112,97,93]},\"selected\":{\"id\":\"2609\"},\"selection_policy\":{\"id\":\"2610\"}},\"id\":\"2561\",\"type\":\"ColumnDataSource\"},{\"attributes\":{\"data_source\":{\"id\":\"2561\"},\"glyph\":{\"id\":\"2563\"},\"hover_glyph\":null,\"muted_glyph\":null,\"nonselection_glyph\":{\"id\":\"2564\"},\"selection_glyph\":null,\"view\":{\"id\":\"2566\"}},\"id\":\"2565\",\"type\":\"GlyphRenderer\"},{\"attributes\":{\"axis\":{\"id\":\"2540\"},\"dimension\":1,\"grid_line_color\":null,\"ticker\":null},\"id\":\"2543\",\"type\":\"Grid\"},{\"attributes\":{\"args\":{\"cost\":{\"id\":\"2591\"},\"done\":{\"id\":\"2584\"},\"edge_subset_src\":{\"id\":\"2585\"},\"k\":{\"id\":\"2583\"},\"n\":{\"id\":\"2582\"},\"nodes_src\":{\"id\":\"2561\"},\"source\":{\"id\":\"2592\"}},\"code\":\"/* Color Theme -- Using Google's Material Design Color System\\n   https://material.io/design/color/the-color-system.html */\\n\\n/** @constant {string} */\\nvar PRIMARY_COLOR = '#1565c0'\\n/** @constant {string} */\\nvar PRIMARY_LIGHT_COLOR = '#5e92f3'\\n/** @constant {string} */\\nvar PRIMARY_DARK_COLOR = '#003c8f'\\n/** @constant {string} */\\nvar SECONDARY_COLOR = '#d50000'\\n/** @constant {string} */\\nvar SECONDARY_LIGHT_COLOR = '#ff5131'\\n/** @constant {string} */\\nvar SECONDARY_DARK_COLOR = '#9b0000'\\n\\n// Grayscale\\n/** @constant {string} */\\nvar TERTIARY_COLOR = '#DFDFDF'\\n/**\\n *  Jupyter Notebook: 'white', Sphinx: '#FCFCFC'\\n *  @constant {string}\\n */\\nvar TERTIARY_LIGHT_COLOR = 'white'\\n/** @constant {string} */\\nvar TERTIARY_DARK_COLOR = '#404040'\\n/** @type {integer} */\\nvar iteration = 0\\n\\n\\n/**\\n * Increment iteration and update n Div.\\n */\\nfunction increment_iteration() {\\n    if ((parseInt(n.text) + 1) < parseInt(k.text)) {\\n        n.text = (parseInt(n.text) + 1).toString()\\n    }\\n    iteration = parseInt(n.text)\\n}\\n\\n/**\\n * Decrement iteration and update n Div.\\n */\\nfunction decrement_iteration() {\\n    if ((parseInt(n.text) - 1) >= 0) {\\n        n.text = (parseInt(n.text) - 1).toString()\\n    }\\n    iteration = parseInt(n.text)\\n}\\n\\n/**\\n * Update which nodes are highlighted given the current iteration.\\n */\\nfunction nodes_update() {\\n    var in_tree = source.data['nodes'][iteration]\\n\\n    for (let i = 0; i < nodes_src.data['line_color'].length ; i++) {\\n        if (in_tree.includes(i)) {\\n            nodes_src.data['fill_color'][i] = PRIMARY_DARK_COLOR\\n            nodes_src.data['line_color'][i] = PRIMARY_DARK_COLOR\\n        } else {\\n            nodes_src.data['fill_color'][i] = PRIMARY_LIGHT_COLOR\\n            nodes_src.data['line_color'][i] = PRIMARY_DARK_COLOR\\n        }\\n    }\\n\\n    nodes_src.change.emit()\\n}\\n\\n/**\\n * Update which subset of edges are highlighted given the current iteration.\\n */\\nfunction edge_subset_update() {\\n    edge_subset_src.data['xs'] = source.data['edge_xs'][iteration]\\n    edge_subset_src.data['ys'] = source.data['edge_ys'][iteration]\\n    edge_subset_src.change.emit()\\n}\\n\\n/**\\n * Update which swaps are updated given the current iteration\\n */\\nfunction swaps_update() {\\n    swaps_src.data['swaps_before_x'] = source.data['swaps_before_x'][iteration]\\n    swaps_src.data['swaps_before_y'] = source.data['swaps_before_y'][iteration]\\n    swaps_src.data['swaps_after_x'] = source.data['swaps_after_x'][iteration]\\n    swaps_src.data['swaps_after_y'] = source.data['swaps_after_y'][iteration]\\n    swaps_src.change.emit()\\n}\\n\\n/**\\n * Update which table is shown given the current iteration.\\n */\\nfunction table_update() {\\n    table_src.data = source.data['tables'][iteration]\\n}\\n\\n/**\\n * Update which cost is shown given the current iteration.\\n */\\nfunction cost_update() {\\n    cost.text = source.data['costs'][iteration].toFixed(1)\\n}\\n\\n/**\\n * Update done Div based on the current iteration.\\n */\\nfunction done_update() {\\n    if (iteration == parseInt(k.text) - 1) {\\n        done.text = \\\"done.\\\"\\n    } else {\\n        done.text = \\\"\\\"\\n    }\\n}\\n\\n// BEGIN FUNCTION CALLING\\nincrement_iteration()\\ndone_update()\\ncost_update()\\nedge_subset_update()\\nnodes_update()\\n\"},\"id\":\"2594\",\"type\":\"CustomJS\"},{\"attributes\":{},\"id\":\"2607\",\"type\":\"Selection\"},{\"attributes\":{},\"id\":\"2545\",\"type\":\"WheelZoomTool\"},{\"attributes\":{\"fill_color\":{\"field\":\"fill_color\"},\"line_color\":{\"field\":\"line_color\"},\"line_width\":{\"field\":\"line_width\"},\"size\":{\"units\":\"screen\",\"value\":11},\"x\":{\"field\":\"x\"},\"y\":{\"field\":\"y\"}},\"id\":\"2563\",\"type\":\"Circle\"},{\"attributes\":{\"source\":{\"id\":\"2567\"}},\"id\":\"2573\",\"type\":\"CDSView\"},{\"attributes\":{},\"id\":\"2613\",\"type\":\"Selection\"},{\"attributes\":{\"formatter\":{\"id\":\"2603\"},\"ticker\":{\"id\":\"2541\"},\"visible\":false},\"id\":\"2540\",\"type\":\"LinearAxis\"},{\"attributes\":{},\"id\":\"2548\",\"type\":\"ResetTool\"},{\"attributes\":{},\"id\":\"2609\",\"type\":\"Selection\"},{\"attributes\":{\"source\":{\"id\":\"2561\"}},\"id\":\"2566\",\"type\":\"CDSView\"},{\"attributes\":{},\"id\":\"2614\",\"type\":\"UnionRenderers\"},{\"attributes\":{\"data\":{\"xs\":[[11.867393549830293,14.1326064501697],[64.2132081933475,68.78679180665253],[43.98457472802465,48.01542527197538],[71.31392773909235,75.68607226090765],[100.9065151137992,98.09348488620083],[140.5887402418824,143.4112597581176],[142.37870743870653,146.62129256129347],[134.3832167600553,136.6167832399447],[89.9311343589464,93.06886564105363],[112.57004046214576,116.42995953785424],[150.1483,154.85170000000002],[142.6336759201498,146.3663240798502],[133.03894314211007,134.96105685788993],[166.61006419357236,168.38993580642764],[160.24329823001975,161.75670176998028],[159.25243123412935,159.74756876587068],[151.1019039619186,149.89809603808138],[186.69937892443528,185.30062107556475],[187.6421179461765,189.35788205382346],[201.25793580143863,202.74206419856134],[195.23521488209917,192.7647851179008],[205.72359827057616,206.2764017294238],[202.54591042736908,200.45408957263095],[192.51616586095076,194.4838341390492],[178.54133338379128,175.4586666162087],[203.96931436315347,201.03068563684658],[183.03645249636594,179.96354750363403],[154.5678,151.4322]],\"ys\":[[65.9708055287169,64.02919447128312],[83.50862324815732,84.4913767518427],[46.085228992602126,43.914771007397874],[77.22363788864963,78.77636211135038],[65.68781813655903,62.31218186344098],[91.11154589518429,89.88845410481571],[103.59087461658854,105.40912538341149],[103.51460302357822,105.48539697642181],[13.06886564105362,9.93113435894638],[56.296613464632046,58.703386535367954],[-7.999999999999998,-7.999999999999998],[13.718643169058069,16.281356830941924],[36.07788628422017,39.922113715779815],[62.949383195031956,59.05061680496806],[89.27035962378204,91.72964037621796],[96.61361491112429,99.38638508887571],[96.70359146663688,99.29640853336312],[12.989285592248606,17.010714407751394],[60.03912673411776,63.960873265882256],[89.76322633573106,92.23677366426892],[88.63534958253058,90.36465041746942],[99.61799135288078,102.38200864711922],[98.45408957263092,100.54591042736905],[96.90685095661199,99.09314904338801],[94.74311110270146,95.25688889729855],[104.98977145438448,104.01022854561555],[100.27935499933926,99.72064500066074],[112.00000000000001,112.00000000000001]]},\"selected\":{\"id\":\"2613\"},\"selection_policy\":{\"id\":\"2614\"}},\"id\":\"2574\",\"type\":\"ColumnDataSource\"},{\"attributes\":{\"args\":{\"cost\":{\"id\":\"2591\"},\"done\":{\"id\":\"2584\"},\"edge_subset_src\":{\"id\":\"2585\"},\"k\":{\"id\":\"2583\"},\"n\":{\"id\":\"2582\"},\"nodes_src\":{\"id\":\"2561\"},\"source\":{\"id\":\"2592\"}},\"code\":\"/* Color Theme -- Using Google's Material Design Color System\\n   https://material.io/design/color/the-color-system.html */\\n\\n/** @constant {string} */\\nvar PRIMARY_COLOR = '#1565c0'\\n/** @constant {string} */\\nvar PRIMARY_LIGHT_COLOR = '#5e92f3'\\n/** @constant {string} */\\nvar PRIMARY_DARK_COLOR = '#003c8f'\\n/** @constant {string} */\\nvar SECONDARY_COLOR = '#d50000'\\n/** @constant {string} */\\nvar SECONDARY_LIGHT_COLOR = '#ff5131'\\n/** @constant {string} */\\nvar SECONDARY_DARK_COLOR = '#9b0000'\\n\\n// Grayscale\\n/** @constant {string} */\\nvar TERTIARY_COLOR = '#DFDFDF'\\n/**\\n *  Jupyter Notebook: 'white', Sphinx: '#FCFCFC'\\n *  @constant {string}\\n */\\nvar TERTIARY_LIGHT_COLOR = 'white'\\n/** @constant {string} */\\nvar TERTIARY_DARK_COLOR = '#404040'\\n/** @type {integer} */\\nvar iteration = 0\\n\\n\\n/**\\n * Increment iteration and update n Div.\\n */\\nfunction increment_iteration() {\\n    if ((parseInt(n.text) + 1) < parseInt(k.text)) {\\n        n.text = (parseInt(n.text) + 1).toString()\\n    }\\n    iteration = parseInt(n.text)\\n}\\n\\n/**\\n * Decrement iteration and update n Div.\\n */\\nfunction decrement_iteration() {\\n    if ((parseInt(n.text) - 1) >= 0) {\\n        n.text = (parseInt(n.text) - 1).toString()\\n    }\\n    iteration = parseInt(n.text)\\n}\\n\\n/**\\n * Update which nodes are highlighted given the current iteration.\\n */\\nfunction nodes_update() {\\n    var in_tree = source.data['nodes'][iteration]\\n\\n    for (let i = 0; i < nodes_src.data['line_color'].length ; i++) {\\n        if (in_tree.includes(i)) {\\n            nodes_src.data['fill_color'][i] = PRIMARY_DARK_COLOR\\n            nodes_src.data['line_color'][i] = PRIMARY_DARK_COLOR\\n        } else {\\n            nodes_src.data['fill_color'][i] = PRIMARY_LIGHT_COLOR\\n            nodes_src.data['line_color'][i] = PRIMARY_DARK_COLOR\\n        }\\n    }\\n\\n    nodes_src.change.emit()\\n}\\n\\n/**\\n * Update which subset of edges are highlighted given the current iteration.\\n */\\nfunction edge_subset_update() {\\n    edge_subset_src.data['xs'] = source.data['edge_xs'][iteration]\\n    edge_subset_src.data['ys'] = source.data['edge_ys'][iteration]\\n    edge_subset_src.change.emit()\\n}\\n\\n/**\\n * Update which swaps are updated given the current iteration\\n */\\nfunction swaps_update() {\\n    swaps_src.data['swaps_before_x'] = source.data['swaps_before_x'][iteration]\\n    swaps_src.data['swaps_before_y'] = source.data['swaps_before_y'][iteration]\\n    swaps_src.data['swaps_after_x'] = source.data['swaps_after_x'][iteration]\\n    swaps_src.data['swaps_after_y'] = source.data['swaps_after_y'][iteration]\\n    swaps_src.change.emit()\\n}\\n\\n/**\\n * Update which table is shown given the current iteration.\\n */\\nfunction table_update() {\\n    table_src.data = source.data['tables'][iteration]\\n}\\n\\n/**\\n * Update which cost is shown given the current iteration.\\n */\\nfunction cost_update() {\\n    cost.text = source.data['costs'][iteration].toFixed(1)\\n}\\n\\n/**\\n * Update done Div based on the current iteration.\\n */\\nfunction done_update() {\\n    if (iteration == parseInt(k.text) - 1) {\\n        done.text = \\\"done.\\\"\\n    } else {\\n        done.text = \\\"\\\"\\n    }\\n}\\n\\n// BEGIN FUNCTION CALLING\\ndecrement_iteration()\\ndone_update()\\ncost_update()\\nedge_subset_update()\\nnodes_update()\\n\"},\"id\":\"2596\",\"type\":\"CustomJS\"},{\"attributes\":{\"callback\":null,\"renderers\":[{\"id\":\"2565\"}],\"tooltips\":[[\"Index\",\"$index\"],[\"Name\",\"@name\"]]},\"id\":\"2597\",\"type\":\"HoverTool\"},{\"attributes\":{\"data\":{\"text\":[4,24,12,19,20,8,10,6,10,25,14,18,18,14,4,8,8,12,14,3,3,1,2,4,6,2,6,4],\"x\":{\"__ndarray__\":\"/v//////KUAAAAAAAKBQQAEAAAAAAEdAAAAAAABgUkAAAAAAAOBYQAAAAAAAwGFAAAAAAAAQYkAAAAAAAPBgQAAAAAAA4FZAAAAAAACgXEABAAAAABBjQAAAAAAAEGJAAAAAAADAYEAAAAAAAPBkQAAAAAAAIGRAAAAAAADwY0D//////89iQAAAAAAAQGdAAAAAAACQZ0D//////z9pQAAAAAAAQGhAAAAAAADAaUAAAAAAADBpQAAAAAAAMGhA//////8fZkABAAAAAFBpQAAAAAAAsGZAAAAAAAAgY0A=\",\"dtype\":\"float64\",\"order\":\"little\",\"shape\":[28]},\"y\":{\"__ndarray__\":\"AAAAAABAUEAAAAAAAABVQAAAAAAAgEZAAAAAAACAU0AAAAAAAABQQAAAAAAAoFZAAAAAAAAgWkAAAAAAACBaQAAAAAAAACdAAAAAAADATED+//////8fwAAAAAAAAC5AAAAAAAAAQ0ACAAAAAIBOQAAAAAAAoFZAAAAAAACAWEAAAAAAAIBYQAAAAAAAAC5AAgAAAAAAT0AAAAAAAMBWQAAAAAAAYFZAAAAAAABAWUD//////99YQAAAAAAAgFhAAAAAAADAV0AAAAAAACBaQAAAAAAAAFlAAQAAAAAAXEA=\",\"dtype\":\"float64\",\"order\":\"little\",\"shape\":[28]}},\"selected\":{\"id\":\"2607\"},\"selection_policy\":{\"id\":\"2608\"}},\"id\":\"2579\",\"type\":\"ColumnDataSource\"},{\"attributes\":{\"fill_color\":{\"field\":\"fill_color\"},\"line_color\":{\"field\":\"line_color\"},\"line_width\":{\"field\":\"line_width\"},\"size\":{\"units\":\"screen\",\"value\":11},\"x\":{\"field\":\"x\"},\"y\":{\"field\":\"y\"}},\"id\":\"2564\",\"type\":\"Circle\"},{\"attributes\":{},\"id\":\"2623\",\"type\":\"UnionRenderers\"},{\"attributes\":{\"data_source\":{\"id\":\"2574\"},\"glyph\":{\"id\":\"2575\"},\"hover_glyph\":null,\"level\":\"guide\",\"muted_glyph\":null,\"nonselection_glyph\":{\"id\":\"2576\"},\"selection_glyph\":null,\"view\":{\"id\":\"2578\"}},\"id\":\"2577\",\"type\":\"GlyphRenderer\"},{\"attributes\":{},\"id\":\"2622\",\"type\":\"Selection\"},{\"attributes\":{\"children\":[{\"id\":\"2595\"},{\"id\":\"2593\"}],\"max_width\":900,\"sizing_mode\":\"stretch_both\"},\"id\":\"2599\",\"type\":\"Row\"},{\"attributes\":{\"data\":{\"line_color\":[\"#DFDFDF\",\"#DFDFDF\",\"#DFDFDF\",\"#DFDFDF\",\"#DFDFDF\",\"#DFDFDF\",\"#DFDFDF\",\"#DFDFDF\",\"#DFDFDF\",\"#DFDFDF\",\"#DFDFDF\",\"#DFDFDF\",\"#DFDFDF\",\"#DFDFDF\",\"#DFDFDF\",\"#DFDFDF\",\"#DFDFDF\",\"#DFDFDF\",\"#DFDFDF\",\"#DFDFDF\",\"#DFDFDF\",\"#DFDFDF\",\"#DFDFDF\",\"#DFDFDF\",\"#DFDFDF\",\"#DFDFDF\",\"#DFDFDF\",\"#DFDFDF\"],\"u\":[0,0,1,1,14,14,14,14,2,2,3,3,3,11,11,11,11,4,5,6,6,7,7,15,15,8,9,12],\"v\":[1,14,2,14,2,11,12,13,3,11,4,5,11,5,10,12,13,5,6,7,15,8,9,9,10,9,10,13],\"weight\":[4,24,12,19,20,8,10,6,10,25,14,18,18,14,4,8,8,12,14,3,3,1,2,4,6,2,6,4],\"xs\":[[6,20],[6,127],[20,72],[20,127],[127,72],[127,157],[127,162],[127,144],[72,111],[72,157],[111,194],[111,178],[111,157],[157,178],[157,165],[157,162],[157,144],[194,178],[178,199],[199,205],[199,189],[205,207],[205,198],[189,198],[189,165],[207,198],[198,165],[162,144]],\"ys\":[[71,59],[71,97],[59,31],[59,97],[97,31],[97,84],[97,112],[97,112],[31,-8],[31,84],[-8,-8],[-8,38],[-8,84],[84,38],[84,97],[84,112],[84,112],[-8,38],[38,86],[86,96],[86,93],[96,106],[96,103],[93,103],[93,97],[106,103],[103,97],[112,112]]},\"selected\":{\"id\":\"2611\"},\"selection_policy\":{\"id\":\"2612\"}},\"id\":\"2567\",\"type\":\"ColumnDataSource\"},{\"attributes\":{\"line_color\":{\"value\":\"white\"},\"line_width\":{\"value\":6},\"xs\":{\"field\":\"xs\"},\"ys\":{\"field\":\"ys\"}},\"id\":\"2575\",\"type\":\"MultiLine\"},{\"attributes\":{},\"id\":\"2610\",\"type\":\"UnionRenderers\"},{\"attributes\":{\"formatter\":{\"id\":\"2605\"},\"ticker\":{\"id\":\"2537\"},\"visible\":false},\"id\":\"2536\",\"type\":\"LinearAxis\"},{\"attributes\":{\"data_source\":{\"id\":\"2585\"},\"glyph\":{\"id\":\"2587\"},\"hover_glyph\":null,\"level\":\"underlay\",\"muted_glyph\":null,\"nonselection_glyph\":{\"id\":\"2588\"},\"selection_glyph\":null,\"view\":{\"id\":\"2590\"}},\"id\":\"2589\",\"type\":\"GlyphRenderer\"},{\"attributes\":{\"align\":\"center\",\"text\":\"14\",\"width\":900},\"id\":\"2583\",\"type\":\"Div\"},{\"attributes\":{\"align\":\"center\",\"width\":450},\"id\":\"2584\",\"type\":\"Div\"},{\"attributes\":{},\"id\":\"2549\",\"type\":\"HelpTool\"},{\"attributes\":{\"line_color\":{\"value\":\"white\"},\"line_width\":{\"value\":6},\"xs\":{\"field\":\"xs\"},\"ys\":{\"field\":\"ys\"}},\"id\":\"2576\",\"type\":\"MultiLine\"},{\"attributes\":{\"children\":[{\"id\":\"2591\"},{\"id\":\"2584\"}]},\"id\":\"2600\",\"type\":\"Row\"},{\"attributes\":{\"text\":\"\"},\"id\":\"2526\",\"type\":\"Title\"},{\"attributes\":{\"line_cap\":\"round\",\"line_color\":{\"value\":\"#404040\"},\"line_width\":{\"value\":5},\"xs\":{\"field\":\"xs\"},\"ys\":{\"field\":\"ys\"}},\"id\":\"2587\",\"type\":\"MultiLine\"},{\"attributes\":{\"bottom_units\":\"screen\",\"fill_alpha\":0.5,\"fill_color\":\"lightgrey\",\"left_units\":\"screen\",\"level\":\"overlay\",\"line_alpha\":1.0,\"line_color\":\"black\",\"line_dash\":[4,4],\"line_width\":2,\"right_units\":\"screen\",\"top_units\":\"screen\"},\"id\":\"2550\",\"type\":\"BoxAnnotation\"},{\"attributes\":{\"source\":{\"id\":\"2579\"},\"text_align\":\"center\",\"text_baseline\":\"middle\",\"text_color\":{\"value\":\"black\"},\"text_font_size\":{\"value\":\"13px\"},\"x\":{\"field\":\"x\"},\"y\":{\"field\":\"y\"}},\"id\":\"2580\",\"type\":\"LabelSet\"},{\"attributes\":{\"active_drag\":null,\"active_inspect\":\"auto\",\"active_multi\":null,\"active_scroll\":null,\"active_tap\":\"auto\",\"logo\":null,\"tools\":[{\"id\":\"2544\"},{\"id\":\"2545\"},{\"id\":\"2546\"},{\"id\":\"2547\"},{\"id\":\"2548\"},{\"id\":\"2549\"},{\"id\":\"2597\"}]},\"id\":\"2551\",\"type\":\"Toolbar\"},{\"attributes\":{\"data\":{\"xs\":[[6,127],[6,20],[20,127],[20,72],[72,157],[72,127],[72,111],[111,178],[111,157],[111,194],[194,178],[178,157],[178,199],[199,205],[199,189],[205,198],[205,207],[207,198],[198,165],[198,189],[165,189],[165,157],[157,127],[157,162],[157,144],[162,127],[162,144],[144,127]],\"ys\":[[71,97],[71,59],[59,97],[59,31],[31,84],[31,97],[31,-8],[-8,38],[-8,84],[-8,-8],[-8,38],[38,84],[38,86],[86,96],[86,93],[96,103],[96,106],[106,103],[103,97],[103,93],[97,93],[97,84],[84,97],[84,112],[84,112],[112,97],[112,112],[112,97]]},\"selected\":{\"id\":\"2615\"},\"selection_policy\":{\"id\":\"2616\"}},\"id\":\"2585\",\"type\":\"ColumnDataSource\"},{\"attributes\":{},\"id\":\"2615\",\"type\":\"Selection\"},{\"attributes\":{\"end\":122.2,\"start\":-18.200000000000003},\"id\":\"2530\",\"type\":\"Range1d\"},{\"attributes\":{\"line_cap\":\"round\",\"line_color\":{\"field\":\"line_color\"},\"line_width\":{\"value\":5},\"xs\":{\"field\":\"xs\"},\"ys\":{\"field\":\"ys\"}},\"id\":\"2570\",\"type\":\"MultiLine\"},{\"attributes\":{},\"id\":\"2616\",\"type\":\"UnionRenderers\"},{\"attributes\":{},\"id\":\"2532\",\"type\":\"LinearScale\"},{\"attributes\":{},\"id\":\"2544\",\"type\":\"PanTool\"},{\"attributes\":{},\"id\":\"2603\",\"type\":\"BasicTickFormatter\"},{\"attributes\":{\"source\":{\"id\":\"2574\"}},\"id\":\"2578\",\"type\":\"CDSView\"},{\"attributes\":{\"align\":\"center\",\"text\":\"0\",\"width\":900},\"id\":\"2582\",\"type\":\"Div\"},{\"attributes\":{},\"id\":\"2537\",\"type\":\"BasicTicker\"},{\"attributes\":{},\"id\":\"2605\",\"type\":\"BasicTickFormatter\"},{\"attributes\":{\"line_alpha\":{\"value\":0.1},\"line_cap\":\"round\",\"line_color\":{\"value\":\"#404040\"},\"line_width\":{\"value\":5},\"xs\":{\"field\":\"xs\"},\"ys\":{\"field\":\"ys\"}},\"id\":\"2588\",\"type\":\"MultiLine\"},{\"attributes\":{},\"id\":\"2611\",\"type\":\"Selection\"},{\"attributes\":{\"align\":\"center\",\"text\":\"279\",\"width\":450},\"id\":\"2591\",\"type\":\"Div\"},{\"attributes\":{\"end\":224.085,\"start\":-11.085},\"id\":\"2528\",\"type\":\"Range1d\"},{\"attributes\":{},\"id\":\"2541\",\"type\":\"BasicTicker\"},{\"attributes\":{},\"id\":\"2612\",\"type\":\"UnionRenderers\"},{\"attributes\":{},\"id\":\"2534\",\"type\":\"LinearScale\"},{\"attributes\":{\"source\":{\"id\":\"2585\"}},\"id\":\"2590\",\"type\":\"CDSView\"}],\"root_ids\":[\"2624\"]},\"title\":\"Bokeh Application\",\"version\":\"2.2.3\"}};\n",
       "  var render_items = [{\"docid\":\"7d58266a-a02f-4369-aacd-8382717af499\",\"root_ids\":[\"2624\"],\"roots\":{\"2624\":\"07365e4e-dfcf-4791-b6ab-eb43df158a9b\"}}];\n",
       "  root.Bokeh.embed.embed_items_notebook(docs_json, render_items);\n",
       "\n",
       "  }\n",
       "  if (root.Bokeh !== undefined) {\n",
       "    embed_document(root);\n",
       "  } else {\n",
       "    var attempts = 0;\n",
       "    var timer = setInterval(function(root) {\n",
       "      if (root.Bokeh !== undefined) {\n",
       "        clearInterval(timer);\n",
       "        embed_document(root);\n",
       "      } else {\n",
       "        attempts++;\n",
       "        if (attempts > 100) {\n",
       "          clearInterval(timer);\n",
       "          console.log(\"Bokeh: ERROR: Unable to run BokehJS code because BokehJS library is missing\");\n",
       "        }\n",
       "      }\n",
       "    }, 10, root)\n",
       "  }\n",
       "})(window);"
      ],
      "application/vnd.bokehjs_exec.v0+json": ""
     },
     "metadata": {
      "application/vnd.bokehjs_exec.v0+json": {
       "id": "2624"
      }
     },
     "output_type": "display_data"
    }
   ],
   "source": [
    "show(vl.mst_algorithm_plot(G, algorithm='reverse_kruskals', width=900, height=600))"
   ]
  },
  {
   "cell_type": "markdown",
   "metadata": {},
   "source": [
    "**Q13:** What is the cost of the resulting spanning tree?\n",
    "\n",
    "**A:** <font color='blue'> 103 </font>"
   ]
  },
  {
   "cell_type": "markdown",
   "metadata": {},
   "source": [
    "**Q14:** How does the spanning tree and its cost compare to those obtained by the previous algorithms?\n",
    "\n",
    "**A:** <font color='blue'> They all found spanning trees of the same cost. </font>"
   ]
  },
  {
   "cell_type": "markdown",
   "metadata": {},
   "source": [
    "**Q15:** Which of the three algorithms was the easiest for you to follow? Why?\n",
    "\n",
    "**A:** <font color='blue'> Answers will vary. </font>"
   ]
  },
  {
   "cell_type": "markdown",
   "metadata": {},
   "source": [
    "## Part III: Analyzing Minimum Spanning Trees"
   ]
  },
  {
   "cell_type": "markdown",
   "metadata": {},
   "source": [
    "Suppose you start with some spanning tree, like the first one given in your lab handout, can you devise a way to systematically improve it? In other words, given a spanning tree, can you tell if it is one of minimum cost and, if not, can you improve it (without recomputing a minimum spanning tree from scratch)? "
   ]
  },
  {
   "cell_type": "markdown",
   "metadata": {},
   "source": [
    "**Q16:** Suggest such an algorithm.\n",
    "\n",
    "**A:** <font color='blue'> Take an edge of the spanning tree. Remove it. You now have two connected sets of nodes. Look for a cheaper edge spanning these two sets. If there is one, add it back instead of the original edge. If you can not do this for any edge, you have a minimum spanning tree.</font>"
   ]
  },
  {
   "cell_type": "markdown",
   "metadata": {},
   "source": [
    "Next we will study how the solution changes when problem parameters are altered. This is referred to as Sensitivity Analysis. Consider edge {3, 5} which was not used in the minimum spanning tree found by Prim’s algorithm. Just this one edge’s cost will be changed."
   ]
  },
  {
   "cell_type": "code",
   "execution_count": 12,
   "metadata": {},
   "outputs": [
    {
     "data": {
      "text/html": [
       "\n",
       "\n",
       "\n",
       "\n",
       "\n",
       "\n",
       "  <div class=\"bk-root\" id=\"939c50bd-7573-4366-8064-58915b231b33\" data-root-id=\"3641\"></div>\n"
      ]
     },
     "metadata": {},
     "output_type": "display_data"
    },
    {
     "data": {
      "application/javascript": [
       "(function(root) {\n",
       "  function embed_document(root) {\n",
       "    \n",
       "  var docs_json = {\"c1d0709f-a7fd-4817-90e2-92d3a52520b7\":{\"roots\":{\"references\":[{\"attributes\":{\"children\":[[{\"id\":\"3558\"},0,0],[{\"id\":\"3623\"},1,0]]},\"id\":\"3641\",\"type\":\"GridBox\"},{\"attributes\":{\"background_fill_color\":null,\"below\":[{\"id\":\"3569\"}],\"border_fill_color\":null,\"center\":[{\"id\":\"3572\"},{\"id\":\"3576\"},{\"id\":\"3613\"}],\"left\":[{\"id\":\"3573\"}],\"outline_line_color\":null,\"plot_height\":400,\"renderers\":[{\"id\":\"3598\"},{\"id\":\"3605\"},{\"id\":\"3610\"},{\"id\":\"3618\"}],\"title\":{\"id\":\"3559\"},\"toolbar\":{\"id\":\"3584\"},\"toolbar_location\":null,\"x_range\":{\"id\":\"3561\"},\"x_scale\":{\"id\":\"3565\"},\"y_range\":{\"id\":\"3563\"},\"y_scale\":{\"id\":\"3567\"}},\"id\":\"3558\",\"subtype\":\"Figure\",\"type\":\"Plot\"},{\"attributes\":{\"data_source\":{\"id\":\"3600\"},\"glyph\":{\"id\":\"3602\"},\"hover_glyph\":{\"id\":\"3604\"},\"level\":\"underlay\",\"muted_glyph\":null,\"nonselection_glyph\":{\"id\":\"3603\"},\"selection_glyph\":null,\"view\":{\"id\":\"3606\"}},\"id\":\"3605\",\"type\":\"GlyphRenderer\"},{\"attributes\":{},\"id\":\"3582\",\"type\":\"HelpTool\"},{\"attributes\":{},\"id\":\"3637\",\"type\":\"Selection\"},{\"attributes\":{\"line_cap\":\"round\",\"line_color\":{\"field\":\"line_color\"},\"line_width\":{\"value\":5},\"xs\":{\"field\":\"xs\"},\"ys\":{\"field\":\"ys\"}},\"id\":\"3602\",\"type\":\"MultiLine\"},{\"attributes\":{},\"id\":\"3635\",\"type\":\"Selection\"},{\"attributes\":{},\"id\":\"3638\",\"type\":\"UnionRenderers\"},{\"attributes\":{\"data\":{\"fill_color\":[\"#5e92f3\",\"#5e92f3\",\"#5e92f3\",\"#5e92f3\",\"#5e92f3\",\"#5e92f3\",\"#5e92f3\",\"#5e92f3\",\"#5e92f3\",\"#5e92f3\",\"#5e92f3\",\"#5e92f3\",\"#5e92f3\",\"#5e92f3\",\"#5e92f3\",\"#5e92f3\"],\"line_color\":[\"#003c8f\",\"#003c8f\",\"#003c8f\",\"#003c8f\",\"#003c8f\",\"#003c8f\",\"#003c8f\",\"#003c8f\",\"#003c8f\",\"#003c8f\",\"#003c8f\",\"#003c8f\",\"#003c8f\",\"#003c8f\",\"#003c8f\",\"#003c8f\"],\"line_width\":[3,3,3,3,3,3,3,3,3,3,3,3,3,3,3,3],\"x\":[6,20,72,111,194,178,199,205,207,198,165,157,162,144,127,189],\"y\":[71,59,31,-8,-8,38,86,96,106,103,97,84,112,112,97,93]},\"selected\":{\"id\":\"3633\"},\"selection_policy\":{\"id\":\"3632\"}},\"id\":\"3594\",\"type\":\"ColumnDataSource\"},{\"attributes\":{\"source\":{\"id\":\"3600\"}},\"id\":\"3606\",\"type\":\"CDSView\"},{\"attributes\":{\"active_drag\":null,\"active_inspect\":\"auto\",\"active_multi\":null,\"active_scroll\":null,\"active_tap\":\"auto\",\"logo\":null,\"tools\":[{\"id\":\"3577\"},{\"id\":\"3578\"},{\"id\":\"3579\"},{\"id\":\"3580\"},{\"id\":\"3581\"},{\"id\":\"3582\"},{\"id\":\"3621\"}]},\"id\":\"3584\",\"type\":\"Toolbar\"},{\"attributes\":{\"line_cap\":\"round\",\"line_color\":{\"field\":\"line_color\"},\"line_width\":{\"value\":5},\"xs\":{\"field\":\"xs\"},\"ys\":{\"field\":\"ys\"}},\"id\":\"3603\",\"type\":\"MultiLine\"},{\"attributes\":{},\"id\":\"3639\",\"type\":\"Selection\"},{\"attributes\":{\"text\":\"\"},\"id\":\"3559\",\"type\":\"Title\"},{\"attributes\":{},\"id\":\"3634\",\"type\":\"UnionRenderers\"},{\"attributes\":{\"end\":224.085,\"start\":-11.085},\"id\":\"3561\",\"type\":\"Range1d\"},{\"attributes\":{\"data\":{\"xs\":[[11.301090324745442,14.698909675254566],[63.069812290021225,69.93018770997878],[42.976862092036946,49.02313790796307],[70.22089160863857,76.77910839136149],[101.60977267069882,97.39022732930124],[139.8831103628236,144.11688963717637],[141.31806115805978,147.68193884194022],[133.82482514008294,137.17517485991706],[89.14670153841959,93.85329846158044],[111.6050606932186,117.3949393067814],[148.97244999999998,156.02755],[141.7005138802247,147.2994861197753],[132.55841471316512,135.44158528683488],[166.16509629035858,168.83490370964145],[159.86494734502958,162.13505265497042],[159.128646851194,159.87135314880598],[151.4028559428779,149.5971440571221],[187.04906838665292,184.9509316133471],[187.21317691926478,189.78682308073522],[200.88690370215798,203.11309629784205],[195.85282232314876,192.14717767685121],[205.58539740586426,206.41460259413577],[203.06886564105358,199.9311343589464],[192.02424879142615,194.9757512085738],[179.31200007568697,174.68799992431306],[204.7039715447302,200.29602845526986],[183.80467874454894,179.19532125545106],[155.3517,150.6483]],\"ys\":[[66.45620829307533,63.543791706924665],[83.26293487223596,84.73706512776401],[46.62784348890318,43.372156511096804],[76.83545683297443,79.16454316702556],[66.53172720483855,61.46827279516147],[91.41731884277647,89.58268115722356],[103.13631192488276,105.86368807511724],[103.0219045353673,105.9780954646327],[13.85329846158043,9.146701538419578],[55.694920196948075,59.305079803051925],[-7.999999999999998,-7.999999999999998],[13.077964753587104,16.92203524641289],[35.11682942633026,40.883170573669744],[63.92407479254794,58.07592520745206],[88.65553943567308,92.34446056432695],[95.92042236668642,100.07957763331359],[96.05538719995533,99.9446128000447],[11.98392838837291,18.016071611627098],[59.05869010117662,64.94130989882336],[89.14483950359659,92.85516049640341],[88.20302437379587,90.79697562620413],[98.9269870293212,103.07301297067883],[97.93113435894641,101.0688656410536],[96.360276434918,99.63972356508202],[94.6146666540522,95.38533334594783],[105.23465718157672,103.76534281842328],[100.41903249900889,99.58096750099111],[112.00000000000001,112.00000000000001]]},\"selected\":{\"id\":\"3637\"},\"selection_policy\":{\"id\":\"3636\"}},\"id\":\"3607\",\"type\":\"ColumnDataSource\"},{\"attributes\":{},\"id\":\"3633\",\"type\":\"Selection\"},{\"attributes\":{\"data\":{\"text\":[4,24,12,19,20,8,10,6,10,25,14,18,18,14,4,8,8,12,14,3,3,1,2,4,6,2,6,4],\"x\":{\"__ndarray__\":\"AgAAAAAAKkAAAAAAAKBQQAEAAAAAAEdAAgAAAABgUkACAAAAAOBYQP//////v2FAAAAAAAAQYkAAAAAAAPBgQAAAAAAA4FZAAAAAAACgXED//////w9jQAAAAAAAEGJAAAAAAADAYEAAAAAAAPBkQAAAAAAAIGRAAAAAAADwY0AAAAAAANBiQAEAAAAAQGdAAAAAAACQZ0AAAAAAAEBpQAAAAAAAQGhAAQAAAADAaUAAAAAAADBpQP//////L2hAAAAAAAAgZkABAAAAAFBpQAAAAAAAsGZAAAAAAAAgY0A=\",\"dtype\":\"float64\",\"order\":\"little\",\"shape\":[28]},\"y\":{\"__ndarray__\":\"AAAAAABAUED///////9UQAAAAAAAgEZA//////9/U0AAAAAAAABQQAEAAAAAoFZAAAAAAAAgWkAAAAAAACBaQAAAAAAAACdAAAAAAADATED+//////8fwAAAAAAAAC5AAAAAAAAAQ0ACAAAAAIBOQAEAAAAAoFZAAQAAAACAWEABAAAAAIBYQAAAAAAAAC5AAAAAAAAAT0AAAAAAAMBWQAAAAAAAYFZAAAAAAABAWUABAAAAAOBYQAEAAAAAgFhAAQAAAADAV0AAAAAAACBaQAAAAAAAAFlAAQAAAAAAXEA=\",\"dtype\":\"float64\",\"order\":\"little\",\"shape\":[28]}},\"selected\":{\"id\":\"3630\"},\"selection_policy\":{\"id\":\"3629\"}},\"id\":\"3612\",\"type\":\"ColumnDataSource\"},{\"attributes\":{},\"id\":\"3580\",\"type\":\"SaveTool\"},{\"attributes\":{\"bottom_units\":\"screen\",\"fill_alpha\":0.5,\"fill_color\":\"lightgrey\",\"left_units\":\"screen\",\"level\":\"overlay\",\"line_alpha\":1.0,\"line_color\":\"black\",\"line_dash\":[4,4],\"line_width\":2,\"right_units\":\"screen\",\"top_units\":\"screen\"},\"id\":\"3583\",\"type\":\"BoxAnnotation\"},{\"attributes\":{},\"id\":\"3574\",\"type\":\"BasicTicker\"},{\"attributes\":{\"data_source\":{\"id\":\"3607\"},\"glyph\":{\"id\":\"3608\"},\"hover_glyph\":null,\"level\":\"guide\",\"muted_glyph\":null,\"nonselection_glyph\":{\"id\":\"3609\"},\"selection_glyph\":null,\"view\":{\"id\":\"3611\"}},\"id\":\"3610\",\"type\":\"GlyphRenderer\"},{\"attributes\":{\"line_color\":{\"value\":\"white\"},\"line_width\":{\"value\":6},\"xs\":{\"field\":\"xs\"},\"ys\":{\"field\":\"ys\"}},\"id\":\"3608\",\"type\":\"MultiLine\"},{\"attributes\":{\"data\":{\"xs\":[[111,178]],\"ys\":[[-8,38]]},\"selected\":{\"id\":\"3639\"},\"selection_policy\":{\"id\":\"3638\"}},\"id\":\"3615\",\"type\":\"ColumnDataSource\"},{\"attributes\":{\"axis\":{\"id\":\"3573\"},\"dimension\":1,\"grid_line_color\":null,\"ticker\":null},\"id\":\"3576\",\"type\":\"Grid\"},{\"attributes\":{\"source\":{\"id\":\"3607\"}},\"id\":\"3611\",\"type\":\"CDSView\"},{\"attributes\":{},\"id\":\"3632\",\"type\":\"UnionRenderers\"},{\"attributes\":{\"align\":\"center\",\"width\":300},\"id\":\"3620\",\"type\":\"Div\"},{\"attributes\":{\"line_color\":{\"value\":\"white\"},\"line_width\":{\"value\":6},\"xs\":{\"field\":\"xs\"},\"ys\":{\"field\":\"ys\"}},\"id\":\"3609\",\"type\":\"MultiLine\"},{\"attributes\":{},\"id\":\"3636\",\"type\":\"UnionRenderers\"},{\"attributes\":{\"data\":{\"line_color\":[\"#DFDFDF\",\"#DFDFDF\",\"#DFDFDF\",\"#DFDFDF\",\"#DFDFDF\",\"#DFDFDF\",\"#DFDFDF\",\"#DFDFDF\",\"#DFDFDF\",\"#DFDFDF\",\"#DFDFDF\",\"#DFDFDF\",\"#DFDFDF\",\"#DFDFDF\",\"#DFDFDF\",\"#DFDFDF\",\"#DFDFDF\",\"#DFDFDF\",\"#DFDFDF\",\"#DFDFDF\",\"#DFDFDF\",\"#DFDFDF\",\"#DFDFDF\",\"#DFDFDF\",\"#DFDFDF\",\"#DFDFDF\",\"#DFDFDF\",\"#DFDFDF\"],\"u\":[0,0,1,1,14,14,14,14,2,2,3,3,3,11,11,11,11,4,5,6,6,7,7,15,15,8,9,12],\"v\":[1,14,2,14,2,11,12,13,3,11,4,5,11,5,10,12,13,5,6,7,15,8,9,9,10,9,10,13],\"weight\":[4,24,12,19,20,8,10,6,10,25,14,18,18,14,4,8,8,12,14,3,3,1,2,4,6,2,6,4],\"xs\":[[6,20],[6,127],[20,72],[20,127],[127,72],[127,157],[127,162],[127,144],[72,111],[72,157],[111,194],[111,178],[111,157],[157,178],[157,165],[157,162],[157,144],[194,178],[178,199],[199,205],[199,189],[205,207],[205,198],[189,198],[189,165],[207,198],[198,165],[162,144]],\"ys\":[[71,59],[71,97],[59,31],[59,97],[97,31],[97,84],[97,112],[97,112],[31,-8],[31,84],[-8,-8],[-8,38],[-8,84],[84,38],[84,97],[84,112],[84,112],[-8,38],[38,86],[86,96],[86,93],[96,106],[96,103],[93,103],[93,97],[106,103],[103,97],[112,112]]},\"selected\":{\"id\":\"3635\"},\"selection_policy\":{\"id\":\"3634\"}},\"id\":\"3600\",\"type\":\"ColumnDataSource\"},{\"attributes\":{\"line_cap\":\"round\",\"line_color\":{\"value\":\"#404040\"},\"line_width\":{\"value\":5},\"xs\":{\"field\":\"xs\"},\"ys\":{\"field\":\"ys\"}},\"id\":\"3616\",\"type\":\"MultiLine\"},{\"attributes\":{\"source\":{\"id\":\"3612\"},\"text_align\":\"center\",\"text_baseline\":\"middle\",\"text_color\":{\"value\":\"black\"},\"text_font_size\":{\"value\":\"13px\"},\"x\":{\"field\":\"x\"},\"y\":{\"field\":\"y\"}},\"id\":\"3613\",\"type\":\"LabelSet\"},{\"attributes\":{},\"id\":\"3625\",\"type\":\"BasicTickFormatter\"},{\"attributes\":{},\"id\":\"3577\",\"type\":\"PanTool\"},{\"attributes\":{},\"id\":\"3630\",\"type\":\"Selection\"},{\"attributes\":{\"line_alpha\":{\"value\":0.1},\"line_cap\":\"round\",\"line_color\":{\"value\":\"#404040\"},\"line_width\":{\"value\":5},\"xs\":{\"field\":\"xs\"},\"ys\":{\"field\":\"ys\"}},\"id\":\"3617\",\"type\":\"MultiLine\"},{\"attributes\":{},\"id\":\"3627\",\"type\":\"BasicTickFormatter\"},{\"attributes\":{},\"id\":\"3578\",\"type\":\"WheelZoomTool\"},{\"attributes\":{\"data_source\":{\"id\":\"3594\"},\"glyph\":{\"id\":\"3596\"},\"hover_glyph\":null,\"muted_glyph\":null,\"nonselection_glyph\":{\"id\":\"3597\"},\"selection_glyph\":null,\"view\":{\"id\":\"3599\"}},\"id\":\"3598\",\"type\":\"GlyphRenderer\"},{\"attributes\":{\"data_source\":{\"id\":\"3615\"},\"glyph\":{\"id\":\"3616\"},\"hover_glyph\":null,\"level\":\"underlay\",\"muted_glyph\":null,\"nonselection_glyph\":{\"id\":\"3617\"},\"selection_glyph\":null,\"view\":{\"id\":\"3619\"}},\"id\":\"3618\",\"type\":\"GlyphRenderer\"},{\"attributes\":{\"overlay\":{\"id\":\"3583\"}},\"id\":\"3579\",\"type\":\"BoxZoomTool\"},{\"attributes\":{\"source\":{\"id\":\"3594\"}},\"id\":\"3599\",\"type\":\"CDSView\"},{\"attributes\":{\"callback\":null,\"renderers\":[{\"id\":\"3598\"}],\"tooltips\":[[\"Index\",\"$index\"],[\"Name\",\"@name\"]]},\"id\":\"3621\",\"type\":\"HoverTool\"},{\"attributes\":{},\"id\":\"3629\",\"type\":\"UnionRenderers\"},{\"attributes\":{\"children\":[{\"id\":\"3620\"}]},\"id\":\"3623\",\"type\":\"Row\"},{\"attributes\":{\"fill_color\":{\"field\":\"fill_color\"},\"line_color\":{\"field\":\"line_color\"},\"line_width\":{\"field\":\"line_width\"},\"size\":{\"units\":\"screen\",\"value\":11},\"x\":{\"field\":\"x\"},\"y\":{\"field\":\"y\"}},\"id\":\"3596\",\"type\":\"Circle\"},{\"attributes\":{\"end\":122.2,\"start\":-18.200000000000003},\"id\":\"3563\",\"type\":\"Range1d\"},{\"attributes\":{\"fill_color\":{\"field\":\"fill_color\"},\"line_color\":{\"field\":\"line_color\"},\"line_width\":{\"field\":\"line_width\"},\"size\":{\"units\":\"screen\",\"value\":11},\"x\":{\"field\":\"x\"},\"y\":{\"field\":\"y\"}},\"id\":\"3597\",\"type\":\"Circle\"},{\"attributes\":{\"formatter\":{\"id\":\"3627\"},\"ticker\":{\"id\":\"3574\"},\"visible\":false},\"id\":\"3573\",\"type\":\"LinearAxis\"},{\"attributes\":{\"source\":{\"id\":\"3615\"}},\"id\":\"3619\",\"type\":\"CDSView\"},{\"attributes\":{},\"id\":\"3565\",\"type\":\"LinearScale\"},{\"attributes\":{},\"id\":\"3581\",\"type\":\"ResetTool\"},{\"attributes\":{},\"id\":\"3567\",\"type\":\"LinearScale\"},{\"attributes\":{\"axis\":{\"id\":\"3569\"},\"grid_line_color\":null,\"ticker\":null},\"id\":\"3572\",\"type\":\"Grid\"},{\"attributes\":{},\"id\":\"3570\",\"type\":\"BasicTicker\"},{\"attributes\":{\"formatter\":{\"id\":\"3625\"},\"ticker\":{\"id\":\"3570\"},\"visible\":false},\"id\":\"3569\",\"type\":\"LinearAxis\"},{\"attributes\":{\"line_cap\":\"round\",\"line_color\":{\"value\":\"#404040\"},\"line_width\":{\"value\":5},\"xs\":{\"field\":\"xs\"},\"ys\":{\"field\":\"ys\"}},\"id\":\"3604\",\"type\":\"MultiLine\"}],\"root_ids\":[\"3641\"]},\"title\":\"Bokeh Application\",\"version\":\"2.2.3\"}};\n",
       "  var render_items = [{\"docid\":\"c1d0709f-a7fd-4817-90e2-92d3a52520b7\",\"root_ids\":[\"3641\"],\"roots\":{\"3641\":\"939c50bd-7573-4366-8064-58915b231b33\"}}];\n",
       "  root.Bokeh.embed.embed_items_notebook(docs_json, render_items);\n",
       "\n",
       "  }\n",
       "  if (root.Bokeh !== undefined) {\n",
       "    embed_document(root);\n",
       "  } else {\n",
       "    var attempts = 0;\n",
       "    var timer = setInterval(function(root) {\n",
       "      if (root.Bokeh !== undefined) {\n",
       "        clearInterval(timer);\n",
       "        embed_document(root);\n",
       "      } else {\n",
       "        attempts++;\n",
       "        if (attempts > 100) {\n",
       "          clearInterval(timer);\n",
       "          console.log(\"Bokeh: ERROR: Unable to run BokehJS code because BokehJS library is missing\");\n",
       "        }\n",
       "      }\n",
       "    }, 10, root)\n",
       "  }\n",
       "})(window);"
      ],
      "application/vnd.bokehjs_exec.v0+json": ""
     },
     "metadata": {
      "application/vnd.bokehjs_exec.v0+json": {
       "id": "3641"
      }
     },
     "output_type": "display_data"
    }
   ],
   "source": [
    "show(vl.tree_plot(G, tree=[(3,5)], width=600))"
   ]
  },
  {
   "cell_type": "markdown",
   "metadata": {},
   "source": [
    "**Q17:** Should it increase or decrease if it will be included in the new minimum spanning tree? Exactly what must the cost of {3, 5} be changed to for this to occur.\n",
    "\n",
    "**A:** <font color='blue'> It must *decrease* to 14.</font>"
   ]
  },
  {
   "cell_type": "markdown",
   "metadata": {},
   "source": [
    "We can use the command below to get the weight of any edge:"
   ]
  },
  {
   "cell_type": "code",
   "execution_count": 13,
   "metadata": {},
   "outputs": [
    {
     "data": {
      "text/plain": [
       "10"
      ]
     },
     "execution_count": 13,
     "metadata": {},
     "output_type": "execute_result"
    }
   ],
   "source": [
    "G[2][3]['weight']"
   ]
  },
  {
   "cell_type": "markdown",
   "metadata": {},
   "source": [
    "**Q18:** Change the weight of {3,5} to be 1 less than the cost you answered in **Q17.**"
   ]
  },
  {
   "cell_type": "code",
   "execution_count": 14,
   "metadata": {},
   "outputs": [],
   "source": [
    "# TODO: Change the weight of edge {3,5}\n",
    "# G[3][5]['weight'] = ?\n",
    "\n",
    "### BEGIN SOLUTION\n",
    "G[3][5]['weight'] = 13\n",
    "### END SOLUTION"
   ]
  },
  {
   "cell_type": "markdown",
   "metadata": {},
   "source": [
    "Run the cell below to re-run Prim's"
   ]
  },
  {
   "cell_type": "code",
   "execution_count": 15,
   "metadata": {},
   "outputs": [
    {
     "data": {
      "text/html": [
       "\n",
       "\n",
       "\n",
       "\n",
       "\n",
       "\n",
       "  <div class=\"bk-root\" id=\"a5eeac92-8dc1-4ef5-99b9-efdb2cd84614\" data-root-id=\"3983\"></div>\n"
      ]
     },
     "metadata": {},
     "output_type": "display_data"
    },
    {
     "data": {
      "application/javascript": [
       "(function(root) {\n",
       "  function embed_document(root) {\n",
       "    \n",
       "  var docs_json = {\"5e4602ee-e818-44ed-939b-dfb895a78123\":{\"roots\":{\"references\":[{\"attributes\":{\"children\":[[{\"id\":\"3900\"},0,0],[{\"id\":\"3965\"},1,0]]},\"id\":\"3983\",\"type\":\"GridBox\"},{\"attributes\":{\"children\":[{\"id\":\"3962\"}]},\"id\":\"3965\",\"type\":\"Row\"},{\"attributes\":{\"data_source\":{\"id\":\"3936\"},\"glyph\":{\"id\":\"3938\"},\"hover_glyph\":null,\"muted_glyph\":null,\"nonselection_glyph\":{\"id\":\"3939\"},\"selection_glyph\":null,\"view\":{\"id\":\"3941\"}},\"id\":\"3940\",\"type\":\"GlyphRenderer\"},{\"attributes\":{\"source\":{\"id\":\"3957\"}},\"id\":\"3961\",\"type\":\"CDSView\"},{\"attributes\":{\"overlay\":{\"id\":\"3925\"}},\"id\":\"3921\",\"type\":\"BoxZoomTool\"},{\"attributes\":{},\"id\":\"3967\",\"type\":\"BasicTickFormatter\"},{\"attributes\":{},\"id\":\"3920\",\"type\":\"WheelZoomTool\"},{\"attributes\":{\"data_source\":{\"id\":\"3942\"},\"glyph\":{\"id\":\"3944\"},\"hover_glyph\":{\"id\":\"3946\"},\"level\":\"underlay\",\"muted_glyph\":null,\"nonselection_glyph\":{\"id\":\"3945\"},\"selection_glyph\":null,\"view\":{\"id\":\"3948\"}},\"id\":\"3947\",\"type\":\"GlyphRenderer\"},{\"attributes\":{\"line_cap\":\"round\",\"line_color\":{\"value\":\"#404040\"},\"line_width\":{\"value\":5},\"xs\":{\"field\":\"xs\"},\"ys\":{\"field\":\"ys\"}},\"id\":\"3958\",\"type\":\"MultiLine\"},{\"attributes\":{},\"id\":\"3969\",\"type\":\"BasicTickFormatter\"},{\"attributes\":{},\"id\":\"3919\",\"type\":\"PanTool\"},{\"attributes\":{\"line_cap\":\"round\",\"line_color\":{\"field\":\"line_color\"},\"line_width\":{\"value\":5},\"xs\":{\"field\":\"xs\"},\"ys\":{\"field\":\"ys\"}},\"id\":\"3944\",\"type\":\"MultiLine\"},{\"attributes\":{\"source\":{\"id\":\"3942\"}},\"id\":\"3948\",\"type\":\"CDSView\"},{\"attributes\":{},\"id\":\"3922\",\"type\":\"SaveTool\"},{\"attributes\":{},\"id\":\"3971\",\"type\":\"UnionRenderers\"},{\"attributes\":{\"axis\":{\"id\":\"3911\"},\"grid_line_color\":null,\"ticker\":null},\"id\":\"3914\",\"type\":\"Grid\"},{\"attributes\":{},\"id\":\"3912\",\"type\":\"BasicTicker\"},{\"attributes\":{\"line_cap\":\"round\",\"line_color\":{\"field\":\"line_color\"},\"line_width\":{\"value\":5},\"xs\":{\"field\":\"xs\"},\"ys\":{\"field\":\"ys\"}},\"id\":\"3945\",\"type\":\"MultiLine\"},{\"attributes\":{},\"id\":\"3972\",\"type\":\"Selection\"},{\"attributes\":{},\"id\":\"3924\",\"type\":\"HelpTool\"},{\"attributes\":{\"data\":{\"xs\":[[11.867393549830293,14.1326064501697],[64.2132081933475,68.78679180665253],[43.98457472802465,48.01542527197538],[71.31392773909235,75.68607226090765],[100.9065151137992,98.09348488620083],[140.5887402418824,143.4112597581176],[142.37870743870653,146.62129256129347],[134.3832167600553,136.6167832399447],[89.9311343589464,93.06886564105363],[112.57004046214576,116.42995953785424],[150.1483,154.85170000000002],[142.6336759201498,146.3663240798502],[133.03894314211007,134.96105685788993],[166.61006419357236,168.38993580642764],[160.24329823001975,161.75670176998028],[159.25243123412935,159.74756876587068],[151.1019039619186,149.89809603808138],[186.69937892443528,185.30062107556475],[187.6421179461765,189.35788205382346],[201.25793580143863,202.74206419856134],[195.23521488209917,192.7647851179008],[205.72359827057616,206.2764017294238],[202.54591042736908,200.45408957263095],[192.51616586095076,194.4838341390492],[178.54133338379128,175.4586666162087],[203.96931436315347,201.03068563684658],[183.03645249636594,179.96354750363403],[154.5678,151.4322]],\"ys\":[[65.9708055287169,64.02919447128312],[83.50862324815732,84.4913767518427],[46.085228992602126,43.914771007397874],[77.22363788864963,78.77636211135038],[65.68781813655903,62.31218186344098],[91.11154589518429,89.88845410481571],[103.59087461658854,105.40912538341149],[103.51460302357822,105.48539697642181],[13.06886564105362,9.93113435894638],[56.296613464632046,58.703386535367954],[-7.999999999999998,-7.999999999999998],[13.718643169058069,16.281356830941924],[36.07788628422017,39.922113715779815],[62.949383195031956,59.05061680496806],[89.27035962378204,91.72964037621796],[96.61361491112429,99.38638508887571],[96.70359146663688,99.29640853336312],[12.989285592248606,17.010714407751394],[60.03912673411776,63.960873265882256],[89.76322633573106,92.23677366426892],[88.63534958253058,90.36465041746942],[99.61799135288078,102.38200864711922],[98.45408957263092,100.54591042736905],[96.90685095661199,99.09314904338801],[94.74311110270146,95.25688889729855],[104.98977145438448,104.01022854561555],[100.27935499933926,99.72064500066074],[112.00000000000001,112.00000000000001]]},\"selected\":{\"id\":\"3979\"},\"selection_policy\":{\"id\":\"3978\"}},\"id\":\"3949\",\"type\":\"ColumnDataSource\"},{\"attributes\":{\"formatter\":{\"id\":\"3969\"},\"ticker\":{\"id\":\"3916\"},\"visible\":false},\"id\":\"3915\",\"type\":\"LinearAxis\"},{\"attributes\":{},\"id\":\"3909\",\"type\":\"LinearScale\"},{\"attributes\":{\"data\":{\"text\":[4,24,12,19,20,8,10,6,10,25,14,13,18,14,4,8,8,12,14,3,3,1,2,4,6,2,6,4],\"x\":{\"__ndarray__\":\"/v//////KUAAAAAAAKBQQAEAAAAAAEdAAAAAAABgUkAAAAAAAOBYQAAAAAAAwGFAAAAAAAAQYkAAAAAAAPBgQAAAAAAA4FZAAAAAAACgXEABAAAAABBjQAAAAAAAEGJAAAAAAADAYEAAAAAAAPBkQAAAAAAAIGRAAAAAAADwY0D//////89iQAAAAAAAQGdAAAAAAACQZ0D//////z9pQAAAAAAAQGhAAAAAAADAaUAAAAAAADBpQAAAAAAAMGhA//////8fZkABAAAAAFBpQAAAAAAAsGZAAAAAAAAgY0A=\",\"dtype\":\"float64\",\"order\":\"little\",\"shape\":[28]},\"y\":{\"__ndarray__\":\"AAAAAABAUEAAAAAAAABVQAAAAAAAgEZAAAAAAACAU0AAAAAAAABQQAAAAAAAoFZAAAAAAAAgWkAAAAAAACBaQAAAAAAAACdAAAAAAADATED+//////8fwAAAAAAAAC5AAAAAAAAAQ0ACAAAAAIBOQAAAAAAAoFZAAAAAAACAWEAAAAAAAIBYQAAAAAAAAC5AAgAAAAAAT0AAAAAAAMBWQAAAAAAAYFZAAAAAAABAWUD//////99YQAAAAAAAgFhAAAAAAADAV0AAAAAAACBaQAAAAAAAAFlAAQAAAAAAXEA=\",\"dtype\":\"float64\",\"order\":\"little\",\"shape\":[28]}},\"selected\":{\"id\":\"3972\"},\"selection_policy\":{\"id\":\"3971\"}},\"id\":\"3954\",\"type\":\"ColumnDataSource\"},{\"attributes\":{},\"id\":\"3923\",\"type\":\"ResetTool\"},{\"attributes\":{},\"id\":\"3975\",\"type\":\"Selection\"},{\"attributes\":{},\"id\":\"3976\",\"type\":\"UnionRenderers\"},{\"attributes\":{\"data_source\":{\"id\":\"3949\"},\"glyph\":{\"id\":\"3950\"},\"hover_glyph\":null,\"level\":\"guide\",\"muted_glyph\":null,\"nonselection_glyph\":{\"id\":\"3951\"},\"selection_glyph\":null,\"view\":{\"id\":\"3953\"}},\"id\":\"3952\",\"type\":\"GlyphRenderer\"},{\"attributes\":{\"data\":{\"xs\":[[6,20],[20,72],[72,111],[111,178],[178,194],[178,199],[199,205],[205,207],[205,198],[199,189],[198,165],[165,157],[157,162],[162,144],[144,127]],\"ys\":[[71,59],[59,31],[31,-8],[-8,38],[38,-8],[38,86],[86,96],[96,106],[96,103],[86,93],[103,97],[97,84],[84,112],[112,112],[112,97]]},\"selected\":{\"id\":\"3981\"},\"selection_policy\":{\"id\":\"3980\"}},\"id\":\"3957\",\"type\":\"ColumnDataSource\"},{\"attributes\":{},\"id\":\"3977\",\"type\":\"Selection\"},{\"attributes\":{},\"id\":\"3916\",\"type\":\"BasicTicker\"},{\"attributes\":{\"line_color\":{\"value\":\"white\"},\"line_width\":{\"value\":6},\"xs\":{\"field\":\"xs\"},\"ys\":{\"field\":\"ys\"}},\"id\":\"3950\",\"type\":\"MultiLine\"},{\"attributes\":{\"active_drag\":null,\"active_inspect\":\"auto\",\"active_multi\":null,\"active_scroll\":null,\"active_tap\":\"auto\",\"logo\":null,\"tools\":[{\"id\":\"3919\"},{\"id\":\"3920\"},{\"id\":\"3921\"},{\"id\":\"3922\"},{\"id\":\"3923\"},{\"id\":\"3924\"},{\"id\":\"3963\"}]},\"id\":\"3926\",\"type\":\"Toolbar\"},{\"attributes\":{\"source\":{\"id\":\"3949\"}},\"id\":\"3953\",\"type\":\"CDSView\"},{\"attributes\":{},\"id\":\"3978\",\"type\":\"UnionRenderers\"},{\"attributes\":{},\"id\":\"3979\",\"type\":\"Selection\"},{\"attributes\":{\"line_color\":{\"value\":\"white\"},\"line_width\":{\"value\":6},\"xs\":{\"field\":\"xs\"},\"ys\":{\"field\":\"ys\"}},\"id\":\"3951\",\"type\":\"MultiLine\"},{\"attributes\":{\"bottom_units\":\"screen\",\"fill_alpha\":0.5,\"fill_color\":\"lightgrey\",\"left_units\":\"screen\",\"level\":\"overlay\",\"line_alpha\":1.0,\"line_color\":\"black\",\"line_dash\":[4,4],\"line_width\":2,\"right_units\":\"screen\",\"top_units\":\"screen\"},\"id\":\"3925\",\"type\":\"BoxAnnotation\"},{\"attributes\":{\"text\":\"\"},\"id\":\"3901\",\"type\":\"Title\"},{\"attributes\":{\"data\":{\"line_color\":[\"#DFDFDF\",\"#DFDFDF\",\"#DFDFDF\",\"#DFDFDF\",\"#DFDFDF\",\"#DFDFDF\",\"#DFDFDF\",\"#DFDFDF\",\"#DFDFDF\",\"#DFDFDF\",\"#DFDFDF\",\"#DFDFDF\",\"#DFDFDF\",\"#DFDFDF\",\"#DFDFDF\",\"#DFDFDF\",\"#DFDFDF\",\"#DFDFDF\",\"#DFDFDF\",\"#DFDFDF\",\"#DFDFDF\",\"#DFDFDF\",\"#DFDFDF\",\"#DFDFDF\",\"#DFDFDF\",\"#DFDFDF\",\"#DFDFDF\",\"#DFDFDF\"],\"u\":[0,0,1,1,14,14,14,14,2,2,3,3,3,11,11,11,11,4,5,6,6,7,7,15,15,8,9,12],\"v\":[1,14,2,14,2,11,12,13,3,11,4,5,11,5,10,12,13,5,6,7,15,8,9,9,10,9,10,13],\"weight\":[4,24,12,19,20,8,10,6,10,25,14,13,18,14,4,8,8,12,14,3,3,1,2,4,6,2,6,4],\"xs\":[[6,20],[6,127],[20,72],[20,127],[127,72],[127,157],[127,162],[127,144],[72,111],[72,157],[111,194],[111,178],[111,157],[157,178],[157,165],[157,162],[157,144],[194,178],[178,199],[199,205],[199,189],[205,207],[205,198],[189,198],[189,165],[207,198],[198,165],[162,144]],\"ys\":[[71,59],[71,97],[59,31],[59,97],[97,31],[97,84],[97,112],[97,112],[31,-8],[31,84],[-8,-8],[-8,38],[-8,84],[84,38],[84,97],[84,112],[84,112],[-8,38],[38,86],[86,96],[86,93],[96,106],[96,103],[93,103],[93,97],[106,103],[103,97],[112,112]]},\"selected\":{\"id\":\"3977\"},\"selection_policy\":{\"id\":\"3976\"}},\"id\":\"3942\",\"type\":\"ColumnDataSource\"},{\"attributes\":{\"source\":{\"id\":\"3954\"},\"text_align\":\"center\",\"text_baseline\":\"middle\",\"text_color\":{\"value\":\"black\"},\"text_font_size\":{\"value\":\"13px\"},\"x\":{\"field\":\"x\"},\"y\":{\"field\":\"y\"}},\"id\":\"3955\",\"type\":\"LabelSet\"},{\"attributes\":{},\"id\":\"3980\",\"type\":\"UnionRenderers\"},{\"attributes\":{\"data\":{\"fill_color\":[\"#5e92f3\",\"#5e92f3\",\"#5e92f3\",\"#5e92f3\",\"#5e92f3\",\"#5e92f3\",\"#5e92f3\",\"#5e92f3\",\"#5e92f3\",\"#5e92f3\",\"#5e92f3\",\"#5e92f3\",\"#5e92f3\",\"#5e92f3\",\"#5e92f3\",\"#5e92f3\"],\"line_color\":[\"#003c8f\",\"#003c8f\",\"#003c8f\",\"#003c8f\",\"#003c8f\",\"#003c8f\",\"#003c8f\",\"#003c8f\",\"#003c8f\",\"#003c8f\",\"#003c8f\",\"#003c8f\",\"#003c8f\",\"#003c8f\",\"#003c8f\",\"#003c8f\"],\"line_width\":[3,3,3,3,3,3,3,3,3,3,3,3,3,3,3,3],\"x\":[6,20,72,111,194,178,199,205,207,198,165,157,162,144,127,189],\"y\":[71,59,31,-8,-8,38,86,96,106,103,97,84,112,112,97,93]},\"selected\":{\"id\":\"3975\"},\"selection_policy\":{\"id\":\"3974\"}},\"id\":\"3936\",\"type\":\"ColumnDataSource\"},{\"attributes\":{},\"id\":\"3981\",\"type\":\"Selection\"},{\"attributes\":{\"line_alpha\":{\"value\":0.1},\"line_cap\":\"round\",\"line_color\":{\"value\":\"#404040\"},\"line_width\":{\"value\":5},\"xs\":{\"field\":\"xs\"},\"ys\":{\"field\":\"ys\"}},\"id\":\"3959\",\"type\":\"MultiLine\"},{\"attributes\":{\"align\":\"center\",\"width\":450},\"id\":\"3962\",\"type\":\"Div\"},{\"attributes\":{\"background_fill_color\":null,\"below\":[{\"id\":\"3911\"}],\"border_fill_color\":null,\"center\":[{\"id\":\"3914\"},{\"id\":\"3918\"},{\"id\":\"3955\"}],\"left\":[{\"id\":\"3915\"}],\"outline_line_color\":null,\"plot_width\":900,\"renderers\":[{\"id\":\"3940\"},{\"id\":\"3947\"},{\"id\":\"3952\"},{\"id\":\"3960\"}],\"title\":{\"id\":\"3901\"},\"toolbar\":{\"id\":\"3926\"},\"toolbar_location\":null,\"x_range\":{\"id\":\"3903\"},\"x_scale\":{\"id\":\"3907\"},\"y_range\":{\"id\":\"3905\"},\"y_scale\":{\"id\":\"3909\"}},\"id\":\"3900\",\"subtype\":\"Figure\",\"type\":\"Plot\"},{\"attributes\":{},\"id\":\"3907\",\"type\":\"LinearScale\"},{\"attributes\":{\"end\":224.085,\"start\":-11.085},\"id\":\"3903\",\"type\":\"Range1d\"},{\"attributes\":{\"data_source\":{\"id\":\"3957\"},\"glyph\":{\"id\":\"3958\"},\"hover_glyph\":null,\"level\":\"underlay\",\"muted_glyph\":null,\"nonselection_glyph\":{\"id\":\"3959\"},\"selection_glyph\":null,\"view\":{\"id\":\"3961\"}},\"id\":\"3960\",\"type\":\"GlyphRenderer\"},{\"attributes\":{},\"id\":\"3974\",\"type\":\"UnionRenderers\"},{\"attributes\":{\"source\":{\"id\":\"3936\"}},\"id\":\"3941\",\"type\":\"CDSView\"},{\"attributes\":{\"callback\":null,\"renderers\":[{\"id\":\"3940\"}],\"tooltips\":[[\"Index\",\"$index\"],[\"Name\",\"@name\"]]},\"id\":\"3963\",\"type\":\"HoverTool\"},{\"attributes\":{\"fill_color\":{\"field\":\"fill_color\"},\"line_color\":{\"field\":\"line_color\"},\"line_width\":{\"field\":\"line_width\"},\"size\":{\"units\":\"screen\",\"value\":11},\"x\":{\"field\":\"x\"},\"y\":{\"field\":\"y\"}},\"id\":\"3939\",\"type\":\"Circle\"},{\"attributes\":{\"fill_color\":{\"field\":\"fill_color\"},\"line_color\":{\"field\":\"line_color\"},\"line_width\":{\"field\":\"line_width\"},\"size\":{\"units\":\"screen\",\"value\":11},\"x\":{\"field\":\"x\"},\"y\":{\"field\":\"y\"}},\"id\":\"3938\",\"type\":\"Circle\"},{\"attributes\":{\"formatter\":{\"id\":\"3967\"},\"ticker\":{\"id\":\"3912\"},\"visible\":false},\"id\":\"3911\",\"type\":\"LinearAxis\"},{\"attributes\":{\"line_cap\":\"round\",\"line_color\":{\"value\":\"#404040\"},\"line_width\":{\"value\":5},\"xs\":{\"field\":\"xs\"},\"ys\":{\"field\":\"ys\"}},\"id\":\"3946\",\"type\":\"MultiLine\"},{\"attributes\":{\"axis\":{\"id\":\"3915\"},\"dimension\":1,\"grid_line_color\":null,\"ticker\":null},\"id\":\"3918\",\"type\":\"Grid\"},{\"attributes\":{\"end\":122.2,\"start\":-18.200000000000003},\"id\":\"3905\",\"type\":\"Range1d\"}],\"root_ids\":[\"3983\"]},\"title\":\"Bokeh Application\",\"version\":\"2.2.3\"}};\n",
       "  var render_items = [{\"docid\":\"5e4602ee-e818-44ed-939b-dfb895a78123\",\"root_ids\":[\"3983\"],\"roots\":{\"3983\":\"a5eeac92-8dc1-4ef5-99b9-efdb2cd84614\"}}];\n",
       "  root.Bokeh.embed.embed_items_notebook(docs_json, render_items);\n",
       "\n",
       "  }\n",
       "  if (root.Bokeh !== undefined) {\n",
       "    embed_document(root);\n",
       "  } else {\n",
       "    var attempts = 0;\n",
       "    var timer = setInterval(function(root) {\n",
       "      if (root.Bokeh !== undefined) {\n",
       "        clearInterval(timer);\n",
       "        embed_document(root);\n",
       "      } else {\n",
       "        attempts++;\n",
       "        if (attempts > 100) {\n",
       "          clearInterval(timer);\n",
       "          console.log(\"Bokeh: ERROR: Unable to run BokehJS code because BokehJS library is missing\");\n",
       "        }\n",
       "      }\n",
       "    }, 10, root)\n",
       "  }\n",
       "})(window);"
      ],
      "application/vnd.bokehjs_exec.v0+json": ""
     },
     "metadata": {
      "application/vnd.bokehjs_exec.v0+json": {
       "id": "3983"
      }
     },
     "output_type": "display_data"
    }
   ],
   "source": [
    "mst = vl.prims(G,i=0)\n",
    "show(vl.tree_plot(G, tree=mst, i=0, width=900, height=600))"
   ]
  },
  {
   "cell_type": "markdown",
   "metadata": {},
   "source": [
    "**Q19:** Is the edge {3,5} now in the tree?\n",
    "\n",
    "**A:** <font color='blue'> Yes.</font>"
   ]
  },
  {
   "cell_type": "markdown",
   "metadata": {},
   "source": [
    "**Q20:** Change the weight of {3,5} to be 2 more than it currently is."
   ]
  },
  {
   "cell_type": "code",
   "execution_count": 16,
   "metadata": {},
   "outputs": [],
   "source": [
    "# TODO: Change the weight of edge {3,5}\n",
    "# G[3][5]['weight'] = ?\n",
    "\n",
    "### BEGIN SOLUTION\n",
    "G[3][5]['weight'] = 15\n",
    "### END SOLUTION"
   ]
  },
  {
   "cell_type": "code",
   "execution_count": 17,
   "metadata": {},
   "outputs": [
    {
     "data": {
      "text/html": [
       "\n",
       "\n",
       "\n",
       "\n",
       "\n",
       "\n",
       "  <div class=\"bk-root\" id=\"b90420da-f604-4226-8b55-0745f62c8973\" data-root-id=\"4341\"></div>\n"
      ]
     },
     "metadata": {},
     "output_type": "display_data"
    },
    {
     "data": {
      "application/javascript": [
       "(function(root) {\n",
       "  function embed_document(root) {\n",
       "    \n",
       "  var docs_json = {\"7b49227f-dbdd-497b-94d4-ba905e7d0fdf\":{\"roots\":{\"references\":[{\"attributes\":{\"children\":[[{\"id\":\"4258\"},0,0],[{\"id\":\"4323\"},1,0]]},\"id\":\"4341\",\"type\":\"GridBox\"},{\"attributes\":{\"fill_color\":{\"field\":\"fill_color\"},\"line_color\":{\"field\":\"line_color\"},\"line_width\":{\"field\":\"line_width\"},\"size\":{\"units\":\"screen\",\"value\":11},\"x\":{\"field\":\"x\"},\"y\":{\"field\":\"y\"}},\"id\":\"4296\",\"type\":\"Circle\"},{\"attributes\":{},\"id\":\"4325\",\"type\":\"BasicTickFormatter\"},{\"attributes\":{\"background_fill_color\":null,\"below\":[{\"id\":\"4269\"}],\"border_fill_color\":null,\"center\":[{\"id\":\"4272\"},{\"id\":\"4276\"},{\"id\":\"4313\"}],\"left\":[{\"id\":\"4273\"}],\"outline_line_color\":null,\"plot_width\":900,\"renderers\":[{\"id\":\"4298\"},{\"id\":\"4305\"},{\"id\":\"4310\"},{\"id\":\"4318\"}],\"title\":{\"id\":\"4259\"},\"toolbar\":{\"id\":\"4284\"},\"toolbar_location\":null,\"x_range\":{\"id\":\"4261\"},\"x_scale\":{\"id\":\"4265\"},\"y_range\":{\"id\":\"4263\"},\"y_scale\":{\"id\":\"4267\"}},\"id\":\"4258\",\"subtype\":\"Figure\",\"type\":\"Plot\"},{\"attributes\":{},\"id\":\"4282\",\"type\":\"HelpTool\"},{\"attributes\":{},\"id\":\"4327\",\"type\":\"BasicTickFormatter\"},{\"attributes\":{\"line_cap\":\"round\",\"line_color\":{\"value\":\"#404040\"},\"line_width\":{\"value\":5},\"xs\":{\"field\":\"xs\"},\"ys\":{\"field\":\"ys\"}},\"id\":\"4304\",\"type\":\"MultiLine\"},{\"attributes\":{\"active_drag\":null,\"active_inspect\":\"auto\",\"active_multi\":null,\"active_scroll\":null,\"active_tap\":\"auto\",\"logo\":null,\"tools\":[{\"id\":\"4277\"},{\"id\":\"4278\"},{\"id\":\"4279\"},{\"id\":\"4280\"},{\"id\":\"4281\"},{\"id\":\"4282\"},{\"id\":\"4321\"}]},\"id\":\"4284\",\"type\":\"Toolbar\"},{\"attributes\":{\"text\":\"\"},\"id\":\"4259\",\"type\":\"Title\"},{\"attributes\":{\"data_source\":{\"id\":\"4300\"},\"glyph\":{\"id\":\"4302\"},\"hover_glyph\":{\"id\":\"4304\"},\"level\":\"underlay\",\"muted_glyph\":null,\"nonselection_glyph\":{\"id\":\"4303\"},\"selection_glyph\":null,\"view\":{\"id\":\"4306\"}},\"id\":\"4305\",\"type\":\"GlyphRenderer\"},{\"attributes\":{},\"id\":\"4329\",\"type\":\"UnionRenderers\"},{\"attributes\":{\"data\":{\"fill_color\":[\"#5e92f3\",\"#5e92f3\",\"#5e92f3\",\"#5e92f3\",\"#5e92f3\",\"#5e92f3\",\"#5e92f3\",\"#5e92f3\",\"#5e92f3\",\"#5e92f3\",\"#5e92f3\",\"#5e92f3\",\"#5e92f3\",\"#5e92f3\",\"#5e92f3\",\"#5e92f3\"],\"line_color\":[\"#003c8f\",\"#003c8f\",\"#003c8f\",\"#003c8f\",\"#003c8f\",\"#003c8f\",\"#003c8f\",\"#003c8f\",\"#003c8f\",\"#003c8f\",\"#003c8f\",\"#003c8f\",\"#003c8f\",\"#003c8f\",\"#003c8f\",\"#003c8f\"],\"line_width\":[3,3,3,3,3,3,3,3,3,3,3,3,3,3,3,3],\"x\":[6,20,72,111,194,178,199,205,207,198,165,157,162,144,127,189],\"y\":[71,59,31,-8,-8,38,86,96,106,103,97,84,112,112,97,93]},\"selected\":{\"id\":\"4333\"},\"selection_policy\":{\"id\":\"4332\"}},\"id\":\"4294\",\"type\":\"ColumnDataSource\"},{\"attributes\":{\"line_cap\":\"round\",\"line_color\":{\"field\":\"line_color\"},\"line_width\":{\"value\":5},\"xs\":{\"field\":\"xs\"},\"ys\":{\"field\":\"ys\"}},\"id\":\"4302\",\"type\":\"MultiLine\"},{\"attributes\":{},\"id\":\"4330\",\"type\":\"Selection\"},{\"attributes\":{\"source\":{\"id\":\"4300\"}},\"id\":\"4306\",\"type\":\"CDSView\"},{\"attributes\":{\"line_cap\":\"round\",\"line_color\":{\"field\":\"line_color\"},\"line_width\":{\"value\":5},\"xs\":{\"field\":\"xs\"},\"ys\":{\"field\":\"ys\"}},\"id\":\"4303\",\"type\":\"MultiLine\"},{\"attributes\":{\"fill_color\":{\"field\":\"fill_color\"},\"line_color\":{\"field\":\"line_color\"},\"line_width\":{\"field\":\"line_width\"},\"size\":{\"units\":\"screen\",\"value\":11},\"x\":{\"field\":\"x\"},\"y\":{\"field\":\"y\"}},\"id\":\"4297\",\"type\":\"Circle\"},{\"attributes\":{\"source\":{\"id\":\"4315\"}},\"id\":\"4319\",\"type\":\"CDSView\"},{\"attributes\":{},\"id\":\"4265\",\"type\":\"LinearScale\"},{\"attributes\":{},\"id\":\"4333\",\"type\":\"Selection\"},{\"attributes\":{\"data\":{\"xs\":[[11.867393549830293,14.1326064501697],[64.2132081933475,68.78679180665253],[43.98457472802465,48.01542527197538],[71.31392773909235,75.68607226090765],[100.9065151137992,98.09348488620083],[140.5887402418824,143.4112597581176],[142.37870743870653,146.62129256129347],[134.3832167600553,136.6167832399447],[89.9311343589464,93.06886564105363],[112.57004046214576,116.42995953785424],[150.1483,154.85170000000002],[142.6336759201498,146.3663240798502],[133.03894314211007,134.96105685788993],[166.61006419357236,168.38993580642764],[160.24329823001975,161.75670176998028],[159.25243123412935,159.74756876587068],[151.1019039619186,149.89809603808138],[186.69937892443528,185.30062107556475],[187.6421179461765,189.35788205382346],[201.25793580143863,202.74206419856134],[195.23521488209917,192.7647851179008],[205.72359827057616,206.2764017294238],[202.54591042736908,200.45408957263095],[192.51616586095076,194.4838341390492],[178.54133338379128,175.4586666162087],[203.96931436315347,201.03068563684658],[183.03645249636594,179.96354750363403],[154.5678,151.4322]],\"ys\":[[65.9708055287169,64.02919447128312],[83.50862324815732,84.4913767518427],[46.085228992602126,43.914771007397874],[77.22363788864963,78.77636211135038],[65.68781813655903,62.31218186344098],[91.11154589518429,89.88845410481571],[103.59087461658854,105.40912538341149],[103.51460302357822,105.48539697642181],[13.06886564105362,9.93113435894638],[56.296613464632046,58.703386535367954],[-7.999999999999998,-7.999999999999998],[13.718643169058069,16.281356830941924],[36.07788628422017,39.922113715779815],[62.949383195031956,59.05061680496806],[89.27035962378204,91.72964037621796],[96.61361491112429,99.38638508887571],[96.70359146663688,99.29640853336312],[12.989285592248606,17.010714407751394],[60.03912673411776,63.960873265882256],[89.76322633573106,92.23677366426892],[88.63534958253058,90.36465041746942],[99.61799135288078,102.38200864711922],[98.45408957263092,100.54591042736905],[96.90685095661199,99.09314904338801],[94.74311110270146,95.25688889729855],[104.98977145438448,104.01022854561555],[100.27935499933926,99.72064500066074],[112.00000000000001,112.00000000000001]]},\"selected\":{\"id\":\"4337\"},\"selection_policy\":{\"id\":\"4336\"}},\"id\":\"4307\",\"type\":\"ColumnDataSource\"},{\"attributes\":{},\"id\":\"4334\",\"type\":\"UnionRenderers\"},{\"attributes\":{\"data\":{\"text\":[4,24,12,19,20,8,10,6,10,25,14,15,18,14,4,8,8,12,14,3,3,1,2,4,6,2,6,4],\"x\":{\"__ndarray__\":\"/v//////KUAAAAAAAKBQQAEAAAAAAEdAAAAAAABgUkAAAAAAAOBYQAAAAAAAwGFAAAAAAAAQYkAAAAAAAPBgQAAAAAAA4FZAAAAAAACgXEABAAAAABBjQAAAAAAAEGJAAAAAAADAYEAAAAAAAPBkQAAAAAAAIGRAAAAAAADwY0D//////89iQAAAAAAAQGdAAAAAAACQZ0D//////z9pQAAAAAAAQGhAAAAAAADAaUAAAAAAADBpQAAAAAAAMGhA//////8fZkABAAAAAFBpQAAAAAAAsGZAAAAAAAAgY0A=\",\"dtype\":\"float64\",\"order\":\"little\",\"shape\":[28]},\"y\":{\"__ndarray__\":\"AAAAAABAUEAAAAAAAABVQAAAAAAAgEZAAAAAAACAU0AAAAAAAABQQAAAAAAAoFZAAAAAAAAgWkAAAAAAACBaQAAAAAAAACdAAAAAAADATED+//////8fwAAAAAAAAC5AAAAAAAAAQ0ACAAAAAIBOQAAAAAAAoFZAAAAAAACAWEAAAAAAAIBYQAAAAAAAAC5AAgAAAAAAT0AAAAAAAMBWQAAAAAAAYFZAAAAAAABAWUD//////99YQAAAAAAAgFhAAAAAAADAV0AAAAAAACBaQAAAAAAAAFlAAQAAAAAAXEA=\",\"dtype\":\"float64\",\"order\":\"little\",\"shape\":[28]}},\"selected\":{\"id\":\"4330\"},\"selection_policy\":{\"id\":\"4329\"}},\"id\":\"4312\",\"type\":\"ColumnDataSource\"},{\"attributes\":{},\"id\":\"4335\",\"type\":\"Selection\"},{\"attributes\":{\"end\":224.085,\"start\":-11.085},\"id\":\"4261\",\"type\":\"Range1d\"},{\"attributes\":{\"formatter\":{\"id\":\"4325\"},\"ticker\":{\"id\":\"4270\"},\"visible\":false},\"id\":\"4269\",\"type\":\"LinearAxis\"},{\"attributes\":{},\"id\":\"4336\",\"type\":\"UnionRenderers\"},{\"attributes\":{\"data_source\":{\"id\":\"4307\"},\"glyph\":{\"id\":\"4308\"},\"hover_glyph\":null,\"level\":\"guide\",\"muted_glyph\":null,\"nonselection_glyph\":{\"id\":\"4309\"},\"selection_glyph\":null,\"view\":{\"id\":\"4311\"}},\"id\":\"4310\",\"type\":\"GlyphRenderer\"},{\"attributes\":{\"end\":122.2,\"start\":-18.200000000000003},\"id\":\"4263\",\"type\":\"Range1d\"},{\"attributes\":{\"line_color\":{\"value\":\"white\"},\"line_width\":{\"value\":6},\"xs\":{\"field\":\"xs\"},\"ys\":{\"field\":\"ys\"}},\"id\":\"4308\",\"type\":\"MultiLine\"},{\"attributes\":{},\"id\":\"4337\",\"type\":\"Selection\"},{\"attributes\":{\"source\":{\"id\":\"4307\"}},\"id\":\"4311\",\"type\":\"CDSView\"},{\"attributes\":{},\"id\":\"4338\",\"type\":\"UnionRenderers\"},{\"attributes\":{\"data_source\":{\"id\":\"4294\"},\"glyph\":{\"id\":\"4296\"},\"hover_glyph\":null,\"muted_glyph\":null,\"nonselection_glyph\":{\"id\":\"4297\"},\"selection_glyph\":null,\"view\":{\"id\":\"4299\"}},\"id\":\"4298\",\"type\":\"GlyphRenderer\"},{\"attributes\":{},\"id\":\"4270\",\"type\":\"BasicTicker\"},{\"attributes\":{\"line_color\":{\"value\":\"white\"},\"line_width\":{\"value\":6},\"xs\":{\"field\":\"xs\"},\"ys\":{\"field\":\"ys\"}},\"id\":\"4309\",\"type\":\"MultiLine\"},{\"attributes\":{},\"id\":\"4339\",\"type\":\"Selection\"},{\"attributes\":{},\"id\":\"4267\",\"type\":\"LinearScale\"},{\"attributes\":{\"source\":{\"id\":\"4312\"},\"text_align\":\"center\",\"text_baseline\":\"middle\",\"text_color\":{\"value\":\"black\"},\"text_font_size\":{\"value\":\"13px\"},\"x\":{\"field\":\"x\"},\"y\":{\"field\":\"y\"}},\"id\":\"4313\",\"type\":\"LabelSet\"},{\"attributes\":{\"bottom_units\":\"screen\",\"fill_alpha\":0.5,\"fill_color\":\"lightgrey\",\"left_units\":\"screen\",\"level\":\"overlay\",\"line_alpha\":1.0,\"line_color\":\"black\",\"line_dash\":[4,4],\"line_width\":2,\"right_units\":\"screen\",\"top_units\":\"screen\"},\"id\":\"4283\",\"type\":\"BoxAnnotation\"},{\"attributes\":{\"formatter\":{\"id\":\"4327\"},\"ticker\":{\"id\":\"4274\"},\"visible\":false},\"id\":\"4273\",\"type\":\"LinearAxis\"},{\"attributes\":{\"overlay\":{\"id\":\"4283\"}},\"id\":\"4279\",\"type\":\"BoxZoomTool\"},{\"attributes\":{\"axis\":{\"id\":\"4273\"},\"dimension\":1,\"grid_line_color\":null,\"ticker\":null},\"id\":\"4276\",\"type\":\"Grid\"},{\"attributes\":{\"line_alpha\":{\"value\":0.1},\"line_cap\":\"round\",\"line_color\":{\"value\":\"#404040\"},\"line_width\":{\"value\":5},\"xs\":{\"field\":\"xs\"},\"ys\":{\"field\":\"ys\"}},\"id\":\"4317\",\"type\":\"MultiLine\"},{\"attributes\":{\"data\":{\"line_color\":[\"#DFDFDF\",\"#DFDFDF\",\"#DFDFDF\",\"#DFDFDF\",\"#DFDFDF\",\"#DFDFDF\",\"#DFDFDF\",\"#DFDFDF\",\"#DFDFDF\",\"#DFDFDF\",\"#DFDFDF\",\"#DFDFDF\",\"#DFDFDF\",\"#DFDFDF\",\"#DFDFDF\",\"#DFDFDF\",\"#DFDFDF\",\"#DFDFDF\",\"#DFDFDF\",\"#DFDFDF\",\"#DFDFDF\",\"#DFDFDF\",\"#DFDFDF\",\"#DFDFDF\",\"#DFDFDF\",\"#DFDFDF\",\"#DFDFDF\",\"#DFDFDF\"],\"u\":[0,0,1,1,14,14,14,14,2,2,3,3,3,11,11,11,11,4,5,6,6,7,7,15,15,8,9,12],\"v\":[1,14,2,14,2,11,12,13,3,11,4,5,11,5,10,12,13,5,6,7,15,8,9,9,10,9,10,13],\"weight\":[4,24,12,19,20,8,10,6,10,25,14,15,18,14,4,8,8,12,14,3,3,1,2,4,6,2,6,4],\"xs\":[[6,20],[6,127],[20,72],[20,127],[127,72],[127,157],[127,162],[127,144],[72,111],[72,157],[111,194],[111,178],[111,157],[157,178],[157,165],[157,162],[157,144],[194,178],[178,199],[199,205],[199,189],[205,207],[205,198],[189,198],[189,165],[207,198],[198,165],[162,144]],\"ys\":[[71,59],[71,97],[59,31],[59,97],[97,31],[97,84],[97,112],[97,112],[31,-8],[31,84],[-8,-8],[-8,38],[-8,84],[84,38],[84,97],[84,112],[84,112],[-8,38],[38,86],[86,96],[86,93],[96,106],[96,103],[93,103],[93,97],[106,103],[103,97],[112,112]]},\"selected\":{\"id\":\"4335\"},\"selection_policy\":{\"id\":\"4334\"}},\"id\":\"4300\",\"type\":\"ColumnDataSource\"},{\"attributes\":{},\"id\":\"4278\",\"type\":\"WheelZoomTool\"},{\"attributes\":{\"align\":\"center\",\"width\":450},\"id\":\"4320\",\"type\":\"Div\"},{\"attributes\":{},\"id\":\"4274\",\"type\":\"BasicTicker\"},{\"attributes\":{},\"id\":\"4277\",\"type\":\"PanTool\"},{\"attributes\":{},\"id\":\"4280\",\"type\":\"SaveTool\"},{\"attributes\":{\"axis\":{\"id\":\"4269\"},\"grid_line_color\":null,\"ticker\":null},\"id\":\"4272\",\"type\":\"Grid\"},{\"attributes\":{\"data_source\":{\"id\":\"4315\"},\"glyph\":{\"id\":\"4316\"},\"hover_glyph\":null,\"level\":\"underlay\",\"muted_glyph\":null,\"nonselection_glyph\":{\"id\":\"4317\"},\"selection_glyph\":null,\"view\":{\"id\":\"4319\"}},\"id\":\"4318\",\"type\":\"GlyphRenderer\"},{\"attributes\":{},\"id\":\"4332\",\"type\":\"UnionRenderers\"},{\"attributes\":{\"callback\":null,\"renderers\":[{\"id\":\"4298\"}],\"tooltips\":[[\"Index\",\"$index\"],[\"Name\",\"@name\"]]},\"id\":\"4321\",\"type\":\"HoverTool\"},{\"attributes\":{\"children\":[{\"id\":\"4320\"}]},\"id\":\"4323\",\"type\":\"Row\"},{\"attributes\":{\"data\":{\"xs\":[[6,20],[20,72],[72,111],[111,194],[194,178],[178,199],[199,205],[205,207],[205,198],[199,189],[198,165],[165,157],[157,162],[162,144],[144,127]],\"ys\":[[71,59],[59,31],[31,-8],[-8,-8],[-8,38],[38,86],[86,96],[96,106],[96,103],[86,93],[103,97],[97,84],[84,112],[112,112],[112,97]]},\"selected\":{\"id\":\"4339\"},\"selection_policy\":{\"id\":\"4338\"}},\"id\":\"4315\",\"type\":\"ColumnDataSource\"},{\"attributes\":{\"line_cap\":\"round\",\"line_color\":{\"value\":\"#404040\"},\"line_width\":{\"value\":5},\"xs\":{\"field\":\"xs\"},\"ys\":{\"field\":\"ys\"}},\"id\":\"4316\",\"type\":\"MultiLine\"},{\"attributes\":{\"source\":{\"id\":\"4294\"}},\"id\":\"4299\",\"type\":\"CDSView\"},{\"attributes\":{},\"id\":\"4281\",\"type\":\"ResetTool\"}],\"root_ids\":[\"4341\"]},\"title\":\"Bokeh Application\",\"version\":\"2.2.3\"}};\n",
       "  var render_items = [{\"docid\":\"7b49227f-dbdd-497b-94d4-ba905e7d0fdf\",\"root_ids\":[\"4341\"],\"roots\":{\"4341\":\"b90420da-f604-4226-8b55-0745f62c8973\"}}];\n",
       "  root.Bokeh.embed.embed_items_notebook(docs_json, render_items);\n",
       "\n",
       "  }\n",
       "  if (root.Bokeh !== undefined) {\n",
       "    embed_document(root);\n",
       "  } else {\n",
       "    var attempts = 0;\n",
       "    var timer = setInterval(function(root) {\n",
       "      if (root.Bokeh !== undefined) {\n",
       "        clearInterval(timer);\n",
       "        embed_document(root);\n",
       "      } else {\n",
       "        attempts++;\n",
       "        if (attempts > 100) {\n",
       "          clearInterval(timer);\n",
       "          console.log(\"Bokeh: ERROR: Unable to run BokehJS code because BokehJS library is missing\");\n",
       "        }\n",
       "      }\n",
       "    }, 10, root)\n",
       "  }\n",
       "})(window);"
      ],
      "application/vnd.bokehjs_exec.v0+json": ""
     },
     "metadata": {
      "application/vnd.bokehjs_exec.v0+json": {
       "id": "4341"
      }
     },
     "output_type": "display_data"
    }
   ],
   "source": [
    "mst = vl.prims(G,i=0)\n",
    "show(vl.tree_plot(G, tree=mst, i=0, width=900, height=600))"
   ]
  },
  {
   "cell_type": "markdown",
   "metadata": {},
   "source": [
    "**Q21:** Is the edge {3,5} no longer in the tree?\n",
    "\n",
    "**A:** <font color='blue'> Yes.</font>"
   ]
  },
  {
   "cell_type": "markdown",
   "metadata": {},
   "source": [
    "**Q22:** In general, what does this suggest about how the cost of any one \"not included\" edge must be changed if it is to be included in the minimum spanning tree for the modified data?\n",
    "\n",
    "**A:** <font color='blue'> Consider the edges in the cycle created by adding the \"not included\" edge. The cost of the \"not included\" edge must become as cheap as the cheapest edge in this cycle.</font>"
   ]
  },
  {
   "cell_type": "markdown",
   "metadata": {},
   "source": [
    "**Q23:** Now consider an edge that is in the minimum spanning tree, such as {1, 2}. How must this be changed for this edge to be forced out of the optimal solution? Again, also figure out the general rule for forcing minimum spanning tree edges out of the minimum spanning tree.\n",
    "\n",
    "**A:** <font color='blue'> Its cost must increase to be 19 or greater. In general, remove the edge and consider all the edges the span the disconnected subsets of nodes. The cost of the edge must increase to cost of the next smallest edge for it to be forced out of the MS.</font>"
   ]
  },
  {
   "cell_type": "markdown",
   "metadata": {},
   "source": [
    "## Part IV: MST Application to Clustering"
   ]
  },
  {
   "cell_type": "markdown",
   "metadata": {},
   "source": [
    "We can also use the Minimum Spanning Tree algorithms to find clusters in data. A cluster is a subset of the data so that the data points in the subset are similar to each other, and different from data points not in the cluster. Below, some data is illustrated, which has two easily discernible clusters. Each node in the below graph represents a data point. How close two points are to each other represent how similar they are. However, you can see that some of the data points below are not really similar to any of the other points, and so cannot really be said to be a part of either cluster. These points are outliers."
   ]
  },
  {
   "cell_type": "code",
   "execution_count": 24,
   "metadata": {},
   "outputs": [
    {
     "data": {
      "text/html": [
       "\n",
       "\n",
       "\n",
       "\n",
       "\n",
       "\n",
       "  <div class=\"bk-root\" id=\"ed62e0bc-faee-424b-9c88-2e0fe16bfce7\" data-root-id=\"6911\"></div>\n"
      ]
     },
     "metadata": {},
     "output_type": "display_data"
    },
    {
     "data": {
      "application/javascript": [
       "(function(root) {\n",
       "  function embed_document(root) {\n",
       "    \n",
       "  var docs_json = {\"5fb293a9-799b-4d7b-bd15-5903ad99ec97\":{\"roots\":{\"references\":[{\"attributes\":{\"children\":[[{\"id\":\"6856\"},0,0],[{\"id\":\"6901\"},1,0]]},\"id\":\"6911\",\"type\":\"GridBox\"},{\"attributes\":{},\"id\":\"6879\",\"type\":\"ResetTool\"},{\"attributes\":{},\"id\":\"6876\",\"type\":\"WheelZoomTool\"},{\"attributes\":{\"axis\":{\"id\":\"6867\"},\"grid_line_color\":null,\"ticker\":null},\"id\":\"6870\",\"type\":\"Grid\"},{\"attributes\":{},\"id\":\"6868\",\"type\":\"BasicTicker\"},{\"attributes\":{\"overlay\":{\"id\":\"6881\"}},\"id\":\"6877\",\"type\":\"BoxZoomTool\"},{\"attributes\":{\"data\":{\"fill_color\":[\"#5e92f3\",\"#5e92f3\",\"#5e92f3\",\"#5e92f3\",\"#5e92f3\",\"#5e92f3\",\"#5e92f3\",\"#5e92f3\",\"#5e92f3\",\"#5e92f3\",\"#5e92f3\",\"#5e92f3\",\"#5e92f3\",\"#5e92f3\",\"#5e92f3\",\"#5e92f3\",\"#5e92f3\",\"#5e92f3\",\"#5e92f3\",\"#5e92f3\"],\"line_color\":[\"#003c8f\",\"#003c8f\",\"#003c8f\",\"#003c8f\",\"#003c8f\",\"#003c8f\",\"#003c8f\",\"#003c8f\",\"#003c8f\",\"#003c8f\",\"#003c8f\",\"#003c8f\",\"#003c8f\",\"#003c8f\",\"#003c8f\",\"#003c8f\",\"#003c8f\",\"#003c8f\",\"#003c8f\",\"#003c8f\"],\"line_width\":[3,3,3,3,3,3,3,3,3,3,3,3,3,3,3,3,3,3,3,3],\"x\":[35,26,-7,43,25,8,20,3,13,85,115,107,80,90,125,120,83,104,180,250],\"y\":[16,35,22,27,8,10,20,31,40,90,80,67,77,63,71,89,69,76,-10,50]},\"selected\":{\"id\":\"6908\"},\"selection_policy\":{\"id\":\"6907\"}},\"id\":\"6892\",\"type\":\"ColumnDataSource\"},{\"attributes\":{\"callback\":null,\"renderers\":[{\"id\":\"6896\"}],\"tooltips\":[[\"Index\",\"$index\"],[\"Name\",\"@name\"]]},\"id\":\"6899\",\"type\":\"HoverTool\"},{\"attributes\":{\"data_source\":{\"id\":\"6892\"},\"glyph\":{\"id\":\"6894\"},\"hover_glyph\":null,\"muted_glyph\":null,\"nonselection_glyph\":{\"id\":\"6895\"},\"selection_glyph\":null,\"view\":{\"id\":\"6897\"}},\"id\":\"6896\",\"type\":\"GlyphRenderer\"},{\"attributes\":{},\"id\":\"6903\",\"type\":\"BasicTickFormatter\"},{\"attributes\":{},\"id\":\"6878\",\"type\":\"SaveTool\"},{\"attributes\":{\"background_fill_color\":null,\"below\":[{\"id\":\"6867\"}],\"border_fill_color\":null,\"center\":[{\"id\":\"6870\"},{\"id\":\"6874\"}],\"left\":[{\"id\":\"6871\"}],\"outline_line_color\":null,\"plot_width\":900,\"renderers\":[{\"id\":\"6896\"}],\"title\":{\"id\":\"6857\"},\"toolbar\":{\"id\":\"6882\"},\"toolbar_location\":null,\"x_range\":{\"id\":\"6859\"},\"x_scale\":{\"id\":\"6863\"},\"y_range\":{\"id\":\"6861\"},\"y_scale\":{\"id\":\"6865\"}},\"id\":\"6856\",\"subtype\":\"Figure\",\"type\":\"Plot\"},{\"attributes\":{},\"id\":\"6880\",\"type\":\"HelpTool\"},{\"attributes\":{\"fill_color\":{\"field\":\"fill_color\"},\"line_color\":{\"field\":\"line_color\"},\"line_width\":{\"field\":\"line_width\"},\"size\":{\"units\":\"screen\",\"value\":11},\"x\":{\"field\":\"x\"},\"y\":{\"field\":\"y\"}},\"id\":\"6894\",\"type\":\"Circle\"},{\"attributes\":{},\"id\":\"6905\",\"type\":\"BasicTickFormatter\"},{\"attributes\":{},\"id\":\"6872\",\"type\":\"BasicTicker\"},{\"attributes\":{},\"id\":\"6908\",\"type\":\"Selection\"},{\"attributes\":{},\"id\":\"6875\",\"type\":\"PanTool\"},{\"attributes\":{\"formatter\":{\"id\":\"6905\"},\"ticker\":{\"id\":\"6868\"},\"visible\":false},\"id\":\"6867\",\"type\":\"LinearAxis\"},{\"attributes\":{\"end\":271.845,\"start\":-28.845000000000002},\"id\":\"6859\",\"type\":\"Range1d\"},{\"attributes\":{},\"id\":\"6865\",\"type\":\"LinearScale\"},{\"attributes\":{\"align\":\"center\",\"text\":\"0.0\",\"width\":450},\"id\":\"6898\",\"type\":\"Div\"},{\"attributes\":{\"fill_color\":{\"field\":\"fill_color\"},\"line_color\":{\"field\":\"line_color\"},\"line_width\":{\"field\":\"line_width\"},\"size\":{\"units\":\"screen\",\"value\":11},\"x\":{\"field\":\"x\"},\"y\":{\"field\":\"y\"}},\"id\":\"6895\",\"type\":\"Circle\"},{\"attributes\":{\"children\":[{\"id\":\"6898\"}]},\"id\":\"6901\",\"type\":\"Row\"},{\"attributes\":{},\"id\":\"6907\",\"type\":\"UnionRenderers\"},{\"attributes\":{\"active_drag\":null,\"active_inspect\":\"auto\",\"active_multi\":null,\"active_scroll\":null,\"active_tap\":\"auto\",\"logo\":null,\"tools\":[{\"id\":\"6875\"},{\"id\":\"6876\"},{\"id\":\"6877\"},{\"id\":\"6878\"},{\"id\":\"6879\"},{\"id\":\"6880\"},{\"id\":\"6899\"}]},\"id\":\"6882\",\"type\":\"Toolbar\"},{\"attributes\":{\"end\":98.5,\"start\":-18.5},\"id\":\"6861\",\"type\":\"Range1d\"},{\"attributes\":{\"axis\":{\"id\":\"6871\"},\"dimension\":1,\"grid_line_color\":null,\"ticker\":null},\"id\":\"6874\",\"type\":\"Grid\"},{\"attributes\":{\"bottom_units\":\"screen\",\"fill_alpha\":0.5,\"fill_color\":\"lightgrey\",\"left_units\":\"screen\",\"level\":\"overlay\",\"line_alpha\":1.0,\"line_color\":\"black\",\"line_dash\":[4,4],\"line_width\":2,\"right_units\":\"screen\",\"top_units\":\"screen\"},\"id\":\"6881\",\"type\":\"BoxAnnotation\"},{\"attributes\":{},\"id\":\"6863\",\"type\":\"LinearScale\"},{\"attributes\":{\"source\":{\"id\":\"6892\"}},\"id\":\"6897\",\"type\":\"CDSView\"},{\"attributes\":{\"text\":\"\"},\"id\":\"6857\",\"type\":\"Title\"},{\"attributes\":{\"formatter\":{\"id\":\"6903\"},\"ticker\":{\"id\":\"6872\"},\"visible\":false},\"id\":\"6871\",\"type\":\"LinearAxis\"}],\"root_ids\":[\"6911\"]},\"title\":\"Bokeh Application\",\"version\":\"2.2.3\"}};\n",
       "  var render_items = [{\"docid\":\"5fb293a9-799b-4d7b-bd15-5903ad99ec97\",\"root_ids\":[\"6911\"],\"roots\":{\"6911\":\"ed62e0bc-faee-424b-9c88-2e0fe16bfce7\"}}];\n",
       "  root.Bokeh.embed.embed_items_notebook(docs_json, render_items);\n",
       "\n",
       "  }\n",
       "  if (root.Bokeh !== undefined) {\n",
       "    embed_document(root);\n",
       "  } else {\n",
       "    var attempts = 0;\n",
       "    var timer = setInterval(function(root) {\n",
       "      if (root.Bokeh !== undefined) {\n",
       "        clearInterval(timer);\n",
       "        embed_document(root);\n",
       "      } else {\n",
       "        attempts++;\n",
       "        if (attempts > 100) {\n",
       "          clearInterval(timer);\n",
       "          console.log(\"Bokeh: ERROR: Unable to run BokehJS code because BokehJS library is missing\");\n",
       "        }\n",
       "      }\n",
       "    }, 10, root)\n",
       "  }\n",
       "})(window);"
      ],
      "application/vnd.bokehjs_exec.v0+json": ""
     },
     "metadata": {
      "application/vnd.bokehjs_exec.v0+json": {
       "id": "6911"
      }
     },
     "output_type": "display_data"
    }
   ],
   "source": [
    "# Load the data and create a graph G\n",
    "nodes = pd.read_csv('data/cluster.csv', index_col=0)\n",
    "edges = pd.read_csv('data/cluster_edges.csv', index_col=0)\n",
    "G = vl.create_network(nodes, edges)\n",
    "\n",
    "# Plot the graph G\n",
    "show(vl.tour_plot(G, tour=[], width = 900, height = 600))"
   ]
  },
  {
   "cell_type": "markdown",
   "metadata": {},
   "source": [
    "**Q24:** Can you identiy which nodes in the above data are outliers\n",
    "\n",
    "**A24:** <font color='blue'> Nodes 18 and 19 </font>"
   ]
  },
  {
   "cell_type": "markdown",
   "metadata": {},
   "source": [
    "Suppose we remove the outliers from the dataset. We can then use the methods we used to find the MST to identify the clusters in the data. We will use Kruskal's algorithm. In every step of Kruskal's algorithm we add the shortest edge possible. Since the edge is chosen so that it does not form a cycle, each added edge connects two previously unconnected components of the graph. At the end of the last step, the whole graph is connected, so right before the last step, the graph is divided into two components. Since the edges we added were connecting parts that were closest to each other, the two components at the end are also going to be the clusters. Run the algorithm below, and after it finishes, go to the previous step, and the clusters will be connected."
   ]
  },
  {
   "cell_type": "code",
   "execution_count": 30,
   "metadata": {},
   "outputs": [
    {
     "data": {
      "text/html": [
       "\n",
       "\n",
       "\n",
       "\n",
       "\n",
       "\n",
       "  <div class=\"bk-root\" id=\"e45f6b29-1664-4b26-b8c6-6a2961235220\" data-root-id=\"9407\"></div>\n"
      ]
     },
     "metadata": {},
     "output_type": "display_data"
    },
    {
     "data": {
      "application/javascript": [
       "(function(root) {\n",
       "  function embed_document(root) {\n",
       "    \n",
       "  var docs_json = {\"a160c283-a2f3-40c2-b57e-0df33a57fca8\":{\"roots\":{\"references\":[{\"attributes\":{\"children\":[[{\"id\":\"9308\"},0,0],[{\"id\":\"9382\"},1,0],[{\"id\":\"9383\"},2,0]]},\"id\":\"9407\",\"type\":\"GridBox\"},{\"attributes\":{\"data_source\":{\"id\":\"9350\"},\"glyph\":{\"id\":\"9352\"},\"hover_glyph\":{\"id\":\"9354\"},\"level\":\"underlay\",\"muted_glyph\":null,\"nonselection_glyph\":{\"id\":\"9353\"},\"selection_glyph\":null,\"view\":{\"id\":\"9356\"}},\"id\":\"9355\",\"type\":\"GlyphRenderer\"},{\"attributes\":{\"data_source\":{\"id\":\"9357\"},\"glyph\":{\"id\":\"9358\"},\"hover_glyph\":null,\"level\":\"guide\",\"muted_glyph\":null,\"nonselection_glyph\":{\"id\":\"9359\"},\"selection_glyph\":null,\"view\":{\"id\":\"9361\"}},\"id\":\"9360\",\"type\":\"GlyphRenderer\"},{\"attributes\":{},\"id\":\"9397\",\"type\":\"UnionRenderers\"},{\"attributes\":{\"button_type\":\"primary\",\"icon\":null,\"js_event_callbacks\":{\"button_click\":[{\"id\":\"9379\"}]},\"label\":\"Previous\",\"max_width\":250,\"sizing_mode\":\"stretch_width\",\"width_policy\":\"fit\"},\"id\":\"9378\",\"type\":\"Button\"},{\"attributes\":{},\"id\":\"9330\",\"type\":\"SaveTool\"},{\"attributes\":{\"background_fill_color\":null,\"below\":[{\"id\":\"9319\"}],\"border_fill_color\":null,\"center\":[{\"id\":\"9322\"},{\"id\":\"9326\"},{\"id\":\"9363\"}],\"left\":[{\"id\":\"9323\"}],\"outline_line_color\":null,\"plot_width\":500,\"renderers\":[{\"id\":\"9348\"},{\"id\":\"9355\"},{\"id\":\"9360\"},{\"id\":\"9372\"}],\"title\":{\"id\":\"9309\"},\"toolbar\":{\"id\":\"9334\"},\"toolbar_location\":null,\"x_range\":{\"id\":\"9311\"},\"x_scale\":{\"id\":\"9315\"},\"y_range\":{\"id\":\"9313\"},\"y_scale\":{\"id\":\"9317\"}},\"id\":\"9308\",\"subtype\":\"Figure\",\"type\":\"Plot\"},{\"attributes\":{\"args\":{\"cost\":{\"id\":\"9374\"},\"done\":{\"id\":\"9367\"},\"edge_subset_src\":{\"id\":\"9368\"},\"k\":{\"id\":\"9366\"},\"n\":{\"id\":\"9365\"},\"nodes_src\":{\"id\":\"9344\"},\"source\":{\"id\":\"9375\"}},\"code\":\"/* Color Theme -- Using Google's Material Design Color System\\n   https://material.io/design/color/the-color-system.html */\\n\\n/** @constant {string} */\\nvar PRIMARY_COLOR = '#1565c0'\\n/** @constant {string} */\\nvar PRIMARY_LIGHT_COLOR = '#5e92f3'\\n/** @constant {string} */\\nvar PRIMARY_DARK_COLOR = '#003c8f'\\n/** @constant {string} */\\nvar SECONDARY_COLOR = '#d50000'\\n/** @constant {string} */\\nvar SECONDARY_LIGHT_COLOR = '#ff5131'\\n/** @constant {string} */\\nvar SECONDARY_DARK_COLOR = '#9b0000'\\n\\n// Grayscale\\n/** @constant {string} */\\nvar TERTIARY_COLOR = '#DFDFDF'\\n/**\\n *  Jupyter Notebook: 'white', Sphinx: '#FCFCFC'\\n *  @constant {string}\\n */\\nvar TERTIARY_LIGHT_COLOR = 'white'\\n/** @constant {string} */\\nvar TERTIARY_DARK_COLOR = '#404040'\\n/** @type {integer} */\\nvar iteration = 0\\n\\n\\n/**\\n * Increment iteration and update n Div.\\n */\\nfunction increment_iteration() {\\n    if ((parseInt(n.text) + 1) < parseInt(k.text)) {\\n        n.text = (parseInt(n.text) + 1).toString()\\n    }\\n    iteration = parseInt(n.text)\\n}\\n\\n/**\\n * Decrement iteration and update n Div.\\n */\\nfunction decrement_iteration() {\\n    if ((parseInt(n.text) - 1) >= 0) {\\n        n.text = (parseInt(n.text) - 1).toString()\\n    }\\n    iteration = parseInt(n.text)\\n}\\n\\n/**\\n * Update which nodes are highlighted given the current iteration.\\n */\\nfunction nodes_update() {\\n    var in_tree = source.data['nodes'][iteration]\\n\\n    for (let i = 0; i < nodes_src.data['line_color'].length ; i++) {\\n        if (in_tree.includes(i)) {\\n            nodes_src.data['fill_color'][i] = PRIMARY_DARK_COLOR\\n            nodes_src.data['line_color'][i] = PRIMARY_DARK_COLOR\\n        } else {\\n            nodes_src.data['fill_color'][i] = PRIMARY_LIGHT_COLOR\\n            nodes_src.data['line_color'][i] = PRIMARY_DARK_COLOR\\n        }\\n    }\\n\\n    nodes_src.change.emit()\\n}\\n\\n/**\\n * Update which subset of edges are highlighted given the current iteration.\\n */\\nfunction edge_subset_update() {\\n    edge_subset_src.data['xs'] = source.data['edge_xs'][iteration]\\n    edge_subset_src.data['ys'] = source.data['edge_ys'][iteration]\\n    edge_subset_src.change.emit()\\n}\\n\\n/**\\n * Update which swaps are updated given the current iteration\\n */\\nfunction swaps_update() {\\n    swaps_src.data['swaps_before_x'] = source.data['swaps_before_x'][iteration]\\n    swaps_src.data['swaps_before_y'] = source.data['swaps_before_y'][iteration]\\n    swaps_src.data['swaps_after_x'] = source.data['swaps_after_x'][iteration]\\n    swaps_src.data['swaps_after_y'] = source.data['swaps_after_y'][iteration]\\n    swaps_src.change.emit()\\n}\\n\\n/**\\n * Update which table is shown given the current iteration.\\n */\\nfunction table_update() {\\n    table_src.data = source.data['tables'][iteration]\\n}\\n\\n/**\\n * Update which cost is shown given the current iteration.\\n */\\nfunction cost_update() {\\n    cost.text = source.data['costs'][iteration].toFixed(1)\\n}\\n\\n/**\\n * Update done Div based on the current iteration.\\n */\\nfunction done_update() {\\n    if (iteration == parseInt(k.text) - 1) {\\n        done.text = \\\"done.\\\"\\n    } else {\\n        done.text = \\\"\\\"\\n    }\\n}\\n\\n// BEGIN FUNCTION CALLING\\nincrement_iteration()\\ndone_update()\\ncost_update()\\nedge_subset_update()\\nnodes_update()\\n\"},\"id\":\"9377\",\"type\":\"CustomJS\"},{\"attributes\":{\"end\":136.22,\"start\":-18.22},\"id\":\"9311\",\"type\":\"Range1d\"},{\"attributes\":{\"source\":{\"id\":\"9362\"},\"text_align\":\"center\",\"text_baseline\":\"middle\",\"text_color\":{\"value\":\"black\"},\"text_font_size\":{\"value\":\"13px\"},\"x\":{\"field\":\"x\"},\"y\":{\"field\":\"y\"}},\"id\":\"9363\",\"type\":\"LabelSet\"},{\"attributes\":{},\"id\":\"9327\",\"type\":\"PanTool\"},{\"attributes\":{},\"id\":\"9393\",\"type\":\"UnionRenderers\"},{\"attributes\":{\"text\":\"\"},\"id\":\"9309\",\"type\":\"Title\"},{\"attributes\":{\"data\":{\"xs\":[],\"ys\":[]},\"selected\":{\"id\":\"9396\"},\"selection_policy\":{\"id\":\"9395\"}},\"id\":\"9368\",\"type\":\"ColumnDataSource\"},{\"attributes\":{},\"id\":\"9331\",\"type\":\"ResetTool\"},{\"attributes\":{},\"id\":\"9328\",\"type\":\"WheelZoomTool\"},{\"attributes\":{\"args\":{\"cost\":{\"id\":\"9374\"},\"done\":{\"id\":\"9367\"},\"edge_subset_src\":{\"id\":\"9368\"},\"k\":{\"id\":\"9366\"},\"n\":{\"id\":\"9365\"},\"nodes_src\":{\"id\":\"9344\"},\"source\":{\"id\":\"9375\"}},\"code\":\"/* Color Theme -- Using Google's Material Design Color System\\n   https://material.io/design/color/the-color-system.html */\\n\\n/** @constant {string} */\\nvar PRIMARY_COLOR = '#1565c0'\\n/** @constant {string} */\\nvar PRIMARY_LIGHT_COLOR = '#5e92f3'\\n/** @constant {string} */\\nvar PRIMARY_DARK_COLOR = '#003c8f'\\n/** @constant {string} */\\nvar SECONDARY_COLOR = '#d50000'\\n/** @constant {string} */\\nvar SECONDARY_LIGHT_COLOR = '#ff5131'\\n/** @constant {string} */\\nvar SECONDARY_DARK_COLOR = '#9b0000'\\n\\n// Grayscale\\n/** @constant {string} */\\nvar TERTIARY_COLOR = '#DFDFDF'\\n/**\\n *  Jupyter Notebook: 'white', Sphinx: '#FCFCFC'\\n *  @constant {string}\\n */\\nvar TERTIARY_LIGHT_COLOR = 'white'\\n/** @constant {string} */\\nvar TERTIARY_DARK_COLOR = '#404040'\\n/** @type {integer} */\\nvar iteration = 0\\n\\n\\n/**\\n * Increment iteration and update n Div.\\n */\\nfunction increment_iteration() {\\n    if ((parseInt(n.text) + 1) < parseInt(k.text)) {\\n        n.text = (parseInt(n.text) + 1).toString()\\n    }\\n    iteration = parseInt(n.text)\\n}\\n\\n/**\\n * Decrement iteration and update n Div.\\n */\\nfunction decrement_iteration() {\\n    if ((parseInt(n.text) - 1) >= 0) {\\n        n.text = (parseInt(n.text) - 1).toString()\\n    }\\n    iteration = parseInt(n.text)\\n}\\n\\n/**\\n * Update which nodes are highlighted given the current iteration.\\n */\\nfunction nodes_update() {\\n    var in_tree = source.data['nodes'][iteration]\\n\\n    for (let i = 0; i < nodes_src.data['line_color'].length ; i++) {\\n        if (in_tree.includes(i)) {\\n            nodes_src.data['fill_color'][i] = PRIMARY_DARK_COLOR\\n            nodes_src.data['line_color'][i] = PRIMARY_DARK_COLOR\\n        } else {\\n            nodes_src.data['fill_color'][i] = PRIMARY_LIGHT_COLOR\\n            nodes_src.data['line_color'][i] = PRIMARY_DARK_COLOR\\n        }\\n    }\\n\\n    nodes_src.change.emit()\\n}\\n\\n/**\\n * Update which subset of edges are highlighted given the current iteration.\\n */\\nfunction edge_subset_update() {\\n    edge_subset_src.data['xs'] = source.data['edge_xs'][iteration]\\n    edge_subset_src.data['ys'] = source.data['edge_ys'][iteration]\\n    edge_subset_src.change.emit()\\n}\\n\\n/**\\n * Update which swaps are updated given the current iteration\\n */\\nfunction swaps_update() {\\n    swaps_src.data['swaps_before_x'] = source.data['swaps_before_x'][iteration]\\n    swaps_src.data['swaps_before_y'] = source.data['swaps_before_y'][iteration]\\n    swaps_src.data['swaps_after_x'] = source.data['swaps_after_x'][iteration]\\n    swaps_src.data['swaps_after_y'] = source.data['swaps_after_y'][iteration]\\n    swaps_src.change.emit()\\n}\\n\\n/**\\n * Update which table is shown given the current iteration.\\n */\\nfunction table_update() {\\n    table_src.data = source.data['tables'][iteration]\\n}\\n\\n/**\\n * Update which cost is shown given the current iteration.\\n */\\nfunction cost_update() {\\n    cost.text = source.data['costs'][iteration].toFixed(1)\\n}\\n\\n/**\\n * Update done Div based on the current iteration.\\n */\\nfunction done_update() {\\n    if (iteration == parseInt(k.text) - 1) {\\n        done.text = \\\"done.\\\"\\n    } else {\\n        done.text = \\\"\\\"\\n    }\\n}\\n\\n// BEGIN FUNCTION CALLING\\ndecrement_iteration()\\ndone_update()\\ncost_update()\\nedge_subset_update()\\nnodes_update()\\n\"},\"id\":\"9379\",\"type\":\"CustomJS\"},{\"attributes\":{\"align\":\"center\",\"text\":\"0\",\"width\":500},\"id\":\"9365\",\"type\":\"Div\"},{\"attributes\":{\"fill_color\":{\"field\":\"fill_color\"},\"line_color\":{\"field\":\"line_color\"},\"line_width\":{\"field\":\"line_width\"},\"size\":{\"units\":\"screen\",\"value\":11},\"x\":{\"field\":\"x\"},\"y\":{\"field\":\"y\"}},\"id\":\"9347\",\"type\":\"Circle\"},{\"attributes\":{\"overlay\":{\"id\":\"9333\"}},\"id\":\"9329\",\"type\":\"BoxZoomTool\"},{\"attributes\":{},\"id\":\"9332\",\"type\":\"HelpTool\"},{\"attributes\":{\"callback\":null,\"renderers\":[{\"id\":\"9348\"}],\"tooltips\":[[\"Index\",\"$index\"],[\"Name\",\"@name\"]]},\"id\":\"9380\",\"type\":\"HoverTool\"},{\"attributes\":{\"formatter\":{\"id\":\"9385\"},\"ticker\":{\"id\":\"9324\"},\"visible\":false},\"id\":\"9323\",\"type\":\"LinearAxis\"},{\"attributes\":{\"source\":{\"id\":\"9357\"}},\"id\":\"9361\",\"type\":\"CDSView\"},{\"attributes\":{\"line_cap\":\"round\",\"line_color\":{\"value\":\"#404040\"},\"line_width\":{\"value\":5},\"xs\":{\"field\":\"xs\"},\"ys\":{\"field\":\"ys\"}},\"id\":\"9354\",\"type\":\"MultiLine\"},{\"attributes\":{\"line_cap\":\"round\",\"line_color\":{\"field\":\"line_color\"},\"line_width\":{\"value\":5},\"xs\":{\"field\":\"xs\"},\"ys\":{\"field\":\"ys\"}},\"id\":\"9353\",\"type\":\"MultiLine\"},{\"attributes\":{},\"id\":\"9394\",\"type\":\"Selection\"},{\"attributes\":{},\"id\":\"9398\",\"type\":\"Selection\"},{\"attributes\":{\"data_source\":{\"id\":\"9344\"},\"glyph\":{\"id\":\"9346\"},\"hover_glyph\":null,\"muted_glyph\":null,\"nonselection_glyph\":{\"id\":\"9347\"},\"selection_glyph\":null,\"view\":{\"id\":\"9349\"}},\"id\":\"9348\",\"type\":\"GlyphRenderer\"},{\"attributes\":{\"end\":96.97,\"start\":1.0299999999999994},\"id\":\"9313\",\"type\":\"Range1d\"},{\"attributes\":{\"data\":{\"line_color\":[\"#DFDFDF\",\"#DFDFDF\",\"#DFDFDF\",\"#DFDFDF\",\"#DFDFDF\",\"#DFDFDF\",\"#DFDFDF\",\"#DFDFDF\",\"#DFDFDF\",\"#DFDFDF\",\"#DFDFDF\",\"#DFDFDF\",\"#DFDFDF\",\"#DFDFDF\",\"#DFDFDF\",\"#DFDFDF\",\"#DFDFDF\",\"#DFDFDF\",\"#DFDFDF\",\"#DFDFDF\",\"#DFDFDF\",\"#DFDFDF\",\"#DFDFDF\",\"#DFDFDF\",\"#DFDFDF\",\"#DFDFDF\",\"#DFDFDF\",\"#DFDFDF\",\"#DFDFDF\",\"#DFDFDF\",\"#DFDFDF\",\"#DFDFDF\",\"#DFDFDF\",\"#DFDFDF\"],\"u\":[0,0,0,4,5,5,6,6,6,6,2,7,3,3,3,1,1,8,8,13,13,11,11,11,14,14,17,17,17,10,10,9,9,12],\"v\":[4,6,3,5,6,2,2,3,1,7,7,8,1,13,16,8,12,13,9,11,16,14,17,12,17,15,10,9,12,9,15,15,12,16],\"weight\":[9,8,11,9,16,15,15,14,16,15,14,14,13,37,40,9,43,41,54,10,6,11,10,24,13,19,8,16,14,15,10,16,12,9],\"xs\":[[35,25],[35,20],[35,43],[25,8],[8,20],[8,-7],[20,-7],[20,43],[20,26],[20,3],[-7,3],[3,13],[43,26],[43,90],[43,83],[26,13],[26,80],[13,90],[13,85],[90,107],[90,83],[107,125],[107,104],[107,80],[125,104],[125,120],[104,115],[104,85],[104,80],[115,85],[115,120],[85,120],[85,80],[80,83]],\"ys\":[[16,8],[16,20],[16,27],[8,10],[10,20],[10,22],[20,22],[20,27],[20,35],[20,31],[22,31],[31,40],[27,35],[27,63],[27,69],[35,40],[35,77],[40,63],[40,90],[63,67],[63,69],[67,71],[67,76],[67,77],[71,76],[71,89],[76,80],[76,90],[76,77],[80,90],[80,89],[90,89],[90,77],[77,69]]},\"selected\":{\"id\":\"9392\"},\"selection_policy\":{\"id\":\"9391\"}},\"id\":\"9350\",\"type\":\"ColumnDataSource\"},{\"attributes\":{},\"id\":\"9387\",\"type\":\"BasicTickFormatter\"},{\"attributes\":{\"children\":[{\"id\":\"9378\"},{\"id\":\"9376\"}],\"max_width\":500,\"sizing_mode\":\"stretch_both\"},\"id\":\"9382\",\"type\":\"Row\"},{\"attributes\":{\"axis\":{\"id\":\"9319\"},\"grid_line_color\":null,\"ticker\":null},\"id\":\"9322\",\"type\":\"Grid\"},{\"attributes\":{\"data\":{\"fill_color\":[\"#5e92f3\",\"#5e92f3\",\"#5e92f3\",\"#5e92f3\",\"#5e92f3\",\"#5e92f3\",\"#5e92f3\",\"#5e92f3\",\"#5e92f3\",\"#5e92f3\",\"#5e92f3\",\"#5e92f3\",\"#5e92f3\",\"#5e92f3\",\"#5e92f3\",\"#5e92f3\",\"#5e92f3\",\"#5e92f3\"],\"line_color\":[\"#003c8f\",\"#003c8f\",\"#003c8f\",\"#003c8f\",\"#003c8f\",\"#003c8f\",\"#003c8f\",\"#003c8f\",\"#003c8f\",\"#003c8f\",\"#003c8f\",\"#003c8f\",\"#003c8f\",\"#003c8f\",\"#003c8f\",\"#003c8f\",\"#003c8f\",\"#003c8f\"],\"line_width\":[3,3,3,3,3,3,3,3,3,3,3,3,3,3,3,3,3,3],\"x\":[35,26,-7,43,25,8,20,3,13,85,115,107,80,90,125,120,83,104],\"y\":[16,35,22,27,8,10,20,31,40,90,80,67,77,63,71,89,69,76]},\"selected\":{\"id\":\"9390\"},\"selection_policy\":{\"id\":\"9389\"}},\"id\":\"9344\",\"type\":\"ColumnDataSource\"},{\"attributes\":{\"active_drag\":null,\"active_inspect\":\"auto\",\"active_multi\":null,\"active_scroll\":null,\"active_tap\":\"auto\",\"logo\":null,\"tools\":[{\"id\":\"9327\"},{\"id\":\"9328\"},{\"id\":\"9329\"},{\"id\":\"9330\"},{\"id\":\"9331\"},{\"id\":\"9332\"},{\"id\":\"9380\"}]},\"id\":\"9334\",\"type\":\"Toolbar\"},{\"attributes\":{},\"id\":\"9317\",\"type\":\"LinearScale\"},{\"attributes\":{\"source\":{\"id\":\"9344\"}},\"id\":\"9349\",\"type\":\"CDSView\"},{\"attributes\":{\"line_cap\":\"round\",\"line_color\":{\"field\":\"line_color\"},\"line_width\":{\"value\":5},\"xs\":{\"field\":\"xs\"},\"ys\":{\"field\":\"ys\"}},\"id\":\"9352\",\"type\":\"MultiLine\"},{\"attributes\":{},\"id\":\"9315\",\"type\":\"LinearScale\"},{\"attributes\":{\"align\":\"center\",\"width\":250},\"id\":\"9367\",\"type\":\"Div\"},{\"attributes\":{},\"id\":\"9390\",\"type\":\"Selection\"},{\"attributes\":{},\"id\":\"9405\",\"type\":\"UnionRenderers\"},{\"attributes\":{\"bottom_units\":\"screen\",\"fill_alpha\":0.5,\"fill_color\":\"lightgrey\",\"left_units\":\"screen\",\"level\":\"overlay\",\"line_alpha\":1.0,\"line_color\":\"black\",\"line_dash\":[4,4],\"line_width\":2,\"right_units\":\"screen\",\"top_units\":\"screen\"},\"id\":\"9333\",\"type\":\"BoxAnnotation\"},{\"attributes\":{\"children\":[{\"id\":\"9374\"},{\"id\":\"9367\"}]},\"id\":\"9383\",\"type\":\"Row\"},{\"attributes\":{\"axis\":{\"id\":\"9323\"},\"dimension\":1,\"grid_line_color\":null,\"ticker\":null},\"id\":\"9326\",\"type\":\"Grid\"},{\"attributes\":{\"data\":{\"text\":[9,8,11,9,16,15,15,14,16,15,14,14,13,37,40,9,43,41,54,10,6,11,10,24,13,19,8,16,14,15,10,16,12,9],\"x\":{\"__ndarray__\":\"AAAAAAAAPkAAAAAAAIA7QAAAAAAAgENAAAAAAACAMEAAAAAAAAAsQAAAAAAAAOA/AAAAAAAAGkD+/////38/QAIAAAAAADdABAAAAAAAJ0AQAAAAAAAAwAAAAAAAACBAAAAAAABAQUAAAAAAAKBQQAAAAAAAgE9AAAAAAACAM0AAAAAAAIBKQAAAAAAAwElAAAAAAACASED//////59YQAEAAAAAoFVAAAAAAAAAXUAAAAAAAGBaQAAAAAAAYFdAAAAAAACgXEAAAAAAAKBeQAAAAAAAYFtAAAAAAACgV0AAAAAAAABXQAAAAAAAAFlAAAAAAABgXUD+/////59ZQAAAAAAAoFRAAAAAAABgVEA=\",\"dtype\":\"float64\",\"order\":\"little\",\"shape\":[34]},\"y\":{\"__ndarray__\":\"/v//////J0AAAAAAAAAyQP7/////fzVAAAAAAAAAIkD+//////8tQP7//////y9AAAAAAAAANUAAAAAAAIA3QAAAAAAAgDtAAAAAAACAOUAAAAAAAIA6QP//////v0FAAgAAAAAAP0AAAAAAAIBGQAAAAAAAAEhAAAAAAADAQkAAAAAAAABMQAAAAAAAwElAAAAAAABAUEAAAAAAAEBQQAAAAAAAgFBA//////8/UUAAAAAAAOBRQAAAAAAAAFJAAAAAAABgUkD///////9TQAAAAAAAgFNAAQAAAADAVEAAAAAAACBTQAAAAAAAQFVAAQAAAAAgVUD//////19WQAAAAAAA4FRAAAAAAABAUkA=\",\"dtype\":\"float64\",\"order\":\"little\",\"shape\":[34]}},\"selected\":{\"id\":\"9398\"},\"selection_policy\":{\"id\":\"9397\"}},\"id\":\"9362\",\"type\":\"ColumnDataSource\"},{\"attributes\":{},\"id\":\"9385\",\"type\":\"BasicTickFormatter\"},{\"attributes\":{},\"id\":\"9395\",\"type\":\"UnionRenderers\"},{\"attributes\":{\"button_type\":\"primary\",\"icon\":null,\"js_event_callbacks\":{\"button_click\":[{\"id\":\"9377\"}]},\"label\":\"Next\",\"max_width\":250,\"sizing_mode\":\"stretch_width\",\"width_policy\":\"fit\"},\"id\":\"9376\",\"type\":\"Button\"},{\"attributes\":{},\"id\":\"9320\",\"type\":\"BasicTicker\"},{\"attributes\":{\"fill_color\":{\"field\":\"fill_color\"},\"line_color\":{\"field\":\"line_color\"},\"line_width\":{\"field\":\"line_width\"},\"size\":{\"units\":\"screen\",\"value\":11},\"x\":{\"field\":\"x\"},\"y\":{\"field\":\"y\"}},\"id\":\"9346\",\"type\":\"Circle\"},{\"attributes\":{\"align\":\"center\",\"text\":\"18\",\"width\":500},\"id\":\"9366\",\"type\":\"Div\"},{\"attributes\":{\"line_cap\":\"round\",\"line_color\":{\"value\":\"#404040\"},\"line_width\":{\"value\":5},\"xs\":{\"field\":\"xs\"},\"ys\":{\"field\":\"ys\"}},\"id\":\"9370\",\"type\":\"MultiLine\"},{\"attributes\":{\"formatter\":{\"id\":\"9387\"},\"ticker\":{\"id\":\"9320\"},\"visible\":false},\"id\":\"9319\",\"type\":\"LinearAxis\"},{\"attributes\":{},\"id\":\"9389\",\"type\":\"UnionRenderers\"},{\"attributes\":{\"line_color\":{\"value\":\"white\"},\"line_width\":{\"value\":6},\"xs\":{\"field\":\"xs\"},\"ys\":{\"field\":\"ys\"}},\"id\":\"9359\",\"type\":\"MultiLine\"},{\"attributes\":{},\"id\":\"9396\",\"type\":\"Selection\"},{\"attributes\":{},\"id\":\"9406\",\"type\":\"Selection\"},{\"attributes\":{\"source\":{\"id\":\"9350\"}},\"id\":\"9356\",\"type\":\"CDSView\"},{\"attributes\":{\"data\":{\"xs\":[[31.00683745713981,28.993162542860183],[29.147538594969646,25.852461405030354],[38.02050222283724,39.97949777716276],[18.307199312801764,14.692800687198236],[12.533082914762801,15.466917085237206],[2.0102561857097214,-1.0102561857097143],[9.251890832733189,3.7481091672668185],[29.10355219487011,33.89644780512988],[22.43631801691079,23.563681983089225],[13.236663027272506,9.763336972727501],[-3.386065523150604,-0.6139344768494013],[6.613934476849401,9.386065523150599],[36.557027624450754,32.442972375549246],[64.94335639866947,68.05664360133053],[61.77071336826042,64.2292866317396],[20.98763276837782,18.012367231622186],[51.45971217126926,54.54028782873074],[49.09215717386043,53.90784282613957],[47.33853883950407,50.66146116049592],[95.96922915305584,101.03077084694414],[87.45811549480682,85.5418845051932],[113.44549532514077,118.55450467485926],[105.97271372589995,105.02728627410005],[95.76087131901195,91.23912868098805],[117.02559759570195,111.97440240429805],[122.89567996150646,122.10432003849351],[107.98347360815737,111.01652639184266],[96.09808725576772,92.90191274423226],[94.77095895629988,89.22904104370012],[102.3372968957542,97.66270310424578],[116.73164513198077,118.26835486801923],[99.72430433218571,105.27569566781426],[83.04284448420798,81.95715551579202],[81.14681845179707,81.85318154820291]],\"ys\":[[12.805469965711847,11.194530034288146],[17.560656374674764,18.439343625325243],[20.1531905564012,22.846809443598794],[8.78738831614097,9.21261168385903],[13.777569095635663,16.222430904364334],[14.79179505143222,17.208204948567776],[20.796156234612354,21.203843765387646],[22.77064632017786,24.22935367982214],[26.090795042276945,28.90920495772305],[24.37627686470603,26.62372313529397],[25.252541029164462,27.747458970835538],[34.25254102916446,36.74745897083553],[30.031987000258468,31.96801299974154],[43.80767724153406,46.19232275846595],[46.70924903667344,49.290750963326566],[36.927833550623916,38.072166449376084],[54.80199835543164,57.19800164456836],[50.780774220763504,52.219225779236496],[63.84620752743339,66.15379247256662],[64.40452450660138,65.59547549339862],[65.17875814730844,66.82124185269156],[68.43233229447571,69.56766770552427],[70.08185882230016,72.91814117769984],[71.1626402522178,72.83735974778222],[72.89866723911858,74.10133276088142],[78.5755521385767,81.42444786142327],[77.44853585751177,78.55146414248821],[81.82246202206589,84.17753797793412],[76.38454337682083,76.61545662317916],[84.22090103474861,85.77909896525139],[83.11696123756536,85.88303876243465],[89.57930559050897,89.420694409491],[84.91139565894075,82.08860434105927],[73.94181746187444,72.05818253812556]]},\"selected\":{\"id\":\"9394\"},\"selection_policy\":{\"id\":\"9393\"}},\"id\":\"9357\",\"type\":\"ColumnDataSource\"},{\"attributes\":{\"line_alpha\":{\"value\":0.1},\"line_cap\":\"round\",\"line_color\":{\"value\":\"#404040\"},\"line_width\":{\"value\":5},\"xs\":{\"field\":\"xs\"},\"ys\":{\"field\":\"ys\"}},\"id\":\"9371\",\"type\":\"MultiLine\"},{\"attributes\":{},\"id\":\"9324\",\"type\":\"BasicTicker\"},{\"attributes\":{\"data_source\":{\"id\":\"9368\"},\"glyph\":{\"id\":\"9370\"},\"hover_glyph\":null,\"level\":\"underlay\",\"muted_glyph\":null,\"nonselection_glyph\":{\"id\":\"9371\"},\"selection_glyph\":null,\"view\":{\"id\":\"9373\"}},\"id\":\"9372\",\"type\":\"GlyphRenderer\"},{\"attributes\":{},\"id\":\"9391\",\"type\":\"UnionRenderers\"},{\"attributes\":{\"line_color\":{\"value\":\"white\"},\"line_width\":{\"value\":6},\"xs\":{\"field\":\"xs\"},\"ys\":{\"field\":\"ys\"}},\"id\":\"9358\",\"type\":\"MultiLine\"},{\"attributes\":{},\"id\":\"9392\",\"type\":\"Selection\"},{\"attributes\":{\"data\":{\"costs\":[0,6,14,22,31,40,49,58,68,78,88,99,110,122,135,149,163,200],\"edge_xs\":[[],[[90,83]],[[90,83],[35,20]],[[90,83],[35,20],[104,115]],[[90,83],[35,20],[104,115],[35,25]],[[90,83],[35,20],[104,115],[35,25],[25,8]],[[90,83],[35,20],[104,115],[35,25],[25,8],[26,13]],[[90,83],[35,20],[104,115],[35,25],[25,8],[26,13],[80,83]],[[90,83],[35,20],[104,115],[35,25],[25,8],[26,13],[80,83],[90,107]],[[90,83],[35,20],[104,115],[35,25],[25,8],[26,13],[80,83],[90,107],[107,104]],[[90,83],[35,20],[104,115],[35,25],[25,8],[26,13],[80,83],[90,107],[107,104],[115,120]],[[90,83],[35,20],[104,115],[35,25],[25,8],[26,13],[80,83],[90,107],[107,104],[115,120],[35,43]],[[90,83],[35,20],[104,115],[35,25],[25,8],[26,13],[80,83],[90,107],[107,104],[115,120],[35,43],[107,125]],[[90,83],[35,20],[104,115],[35,25],[25,8],[26,13],[80,83],[90,107],[107,104],[115,120],[35,43],[107,125],[85,80]],[[90,83],[35,20],[104,115],[35,25],[25,8],[26,13],[80,83],[90,107],[107,104],[115,120],[35,43],[107,125],[85,80],[43,26]],[[90,83],[35,20],[104,115],[35,25],[25,8],[26,13],[80,83],[90,107],[107,104],[115,120],[35,43],[107,125],[85,80],[43,26],[-7,3]],[[90,83],[35,20],[104,115],[35,25],[25,8],[26,13],[80,83],[90,107],[107,104],[115,120],[35,43],[107,125],[85,80],[43,26],[-7,3],[3,13]],[[90,83],[35,20],[104,115],[35,25],[25,8],[26,13],[80,83],[90,107],[107,104],[115,120],[35,43],[107,125],[85,80],[43,26],[-7,3],[3,13],[43,90]]],\"edge_ys\":[[],[[63,69]],[[63,69],[16,20]],[[63,69],[16,20],[76,80]],[[63,69],[16,20],[76,80],[16,8]],[[63,69],[16,20],[76,80],[16,8],[8,10]],[[63,69],[16,20],[76,80],[16,8],[8,10],[35,40]],[[63,69],[16,20],[76,80],[16,8],[8,10],[35,40],[77,69]],[[63,69],[16,20],[76,80],[16,8],[8,10],[35,40],[77,69],[63,67]],[[63,69],[16,20],[76,80],[16,8],[8,10],[35,40],[77,69],[63,67],[67,76]],[[63,69],[16,20],[76,80],[16,8],[8,10],[35,40],[77,69],[63,67],[67,76],[80,89]],[[63,69],[16,20],[76,80],[16,8],[8,10],[35,40],[77,69],[63,67],[67,76],[80,89],[16,27]],[[63,69],[16,20],[76,80],[16,8],[8,10],[35,40],[77,69],[63,67],[67,76],[80,89],[16,27],[67,71]],[[63,69],[16,20],[76,80],[16,8],[8,10],[35,40],[77,69],[63,67],[67,76],[80,89],[16,27],[67,71],[90,77]],[[63,69],[16,20],[76,80],[16,8],[8,10],[35,40],[77,69],[63,67],[67,76],[80,89],[16,27],[67,71],[90,77],[27,35]],[[63,69],[16,20],[76,80],[16,8],[8,10],[35,40],[77,69],[63,67],[67,76],[80,89],[16,27],[67,71],[90,77],[27,35],[22,31]],[[63,69],[16,20],[76,80],[16,8],[8,10],[35,40],[77,69],[63,67],[67,76],[80,89],[16,27],[67,71],[90,77],[27,35],[22,31],[31,40]],[[63,69],[16,20],[76,80],[16,8],[8,10],[35,40],[77,69],[63,67],[67,76],[80,89],[16,27],[67,71],[90,77],[27,35],[22,31],[31,40],[27,63]]],\"nodes\":[[],[16,13],[16,0,13,6],[0,6,10,13,16,17],[0,4,6,10,13,16,17],[0,4,5,6,10,13,16,17],[0,1,4,5,6,8,10,13,16,17],[0,1,4,5,6,8,10,12,13,16,17],[0,1,4,5,6,8,10,11,12,13,16,17],[0,1,4,5,6,8,10,11,12,13,16,17],[0,1,4,5,6,8,10,11,12,13,15,16,17],[0,1,3,4,5,6,8,10,11,12,13,15,16,17],[0,1,3,4,5,6,8,10,11,12,13,14,15,16,17],[0,1,3,4,5,6,8,9,10,11,12,13,14,15,16,17],[0,1,3,4,5,6,8,9,10,11,12,13,14,15,16,17],[0,1,2,3,4,5,6,7,8,9,10,11,12,13,14,15,16,17],[0,1,2,3,4,5,6,7,8,9,10,11,12,13,14,15,16,17],[0,1,2,3,4,5,6,7,8,9,10,11,12,13,14,15,16,17]]},\"selected\":{\"id\":\"9406\"},\"selection_policy\":{\"id\":\"9405\"}},\"id\":\"9375\",\"type\":\"ColumnDataSource\"},{\"attributes\":{\"source\":{\"id\":\"9368\"}},\"id\":\"9373\",\"type\":\"CDSView\"},{\"attributes\":{\"align\":\"center\",\"text\":\"0\",\"width\":250},\"id\":\"9374\",\"type\":\"Div\"}],\"root_ids\":[\"9407\"]},\"title\":\"Bokeh Application\",\"version\":\"2.2.3\"}};\n",
       "  var render_items = [{\"docid\":\"a160c283-a2f3-40c2-b57e-0df33a57fca8\",\"root_ids\":[\"9407\"],\"roots\":{\"9407\":\"e45f6b29-1664-4b26-b8c6-6a2961235220\"}}];\n",
       "  root.Bokeh.embed.embed_items_notebook(docs_json, render_items);\n",
       "\n",
       "  }\n",
       "  if (root.Bokeh !== undefined) {\n",
       "    embed_document(root);\n",
       "  } else {\n",
       "    var attempts = 0;\n",
       "    var timer = setInterval(function(root) {\n",
       "      if (root.Bokeh !== undefined) {\n",
       "        clearInterval(timer);\n",
       "        embed_document(root);\n",
       "      } else {\n",
       "        attempts++;\n",
       "        if (attempts > 100) {\n",
       "          clearInterval(timer);\n",
       "          console.log(\"Bokeh: ERROR: Unable to run BokehJS code because BokehJS library is missing\");\n",
       "        }\n",
       "      }\n",
       "    }, 10, root)\n",
       "  }\n",
       "})(window);"
      ],
      "application/vnd.bokehjs_exec.v0+json": ""
     },
     "metadata": {
      "application/vnd.bokehjs_exec.v0+json": {
       "id": "9407"
      }
     },
     "output_type": "display_data"
    }
   ],
   "source": [
    "# Load the data and create a graph G\n",
    "nodes = pd.read_csv('data/cluster2.csv', index_col=0)\n",
    "edges = pd.read_csv('data/cluster2_edges.csv', index_col=0)\n",
    "G = vl.create_network(nodes, edges)\n",
    "\n",
    "# Plot the graph G\n",
    "show(vl.mst_algorithm_plot(G, algorithm='kruskals', width=500, height=600))"
   ]
  },
  {
   "cell_type": "markdown",
   "metadata": {},
   "source": [
    "So as we saw, Kruskal's can be used to separate the graph into the two components that are furthest from each other. When the graph has an outlier, the component farthest from the rest is going to be an outlier. So we can use this same algorithm to automatically identify outliers. Follow the same process as above, and when you get to the end and go back one step, you will see that all the other nodes are connected to each other, and there is one outlier."
   ]
  },
  {
   "cell_type": "code",
   "execution_count": 32,
   "metadata": {},
   "outputs": [
    {
     "data": {
      "text/html": [
       "\n",
       "\n",
       "\n",
       "\n",
       "\n",
       "\n",
       "  <div class=\"bk-root\" id=\"5958eba7-0d3a-48a0-baec-056bb4e91900\" data-root-id=\"10537\"></div>\n"
      ]
     },
     "metadata": {},
     "output_type": "display_data"
    },
    {
     "data": {
      "application/javascript": [
       "(function(root) {\n",
       "  function embed_document(root) {\n",
       "    \n",
       "  var docs_json = {\"2b184124-366a-4d5b-afa5-30c8df82bc58\":{\"roots\":{\"references\":[{\"attributes\":{\"children\":[[{\"id\":\"10438\"},0,0],[{\"id\":\"10512\"},1,0],[{\"id\":\"10513\"},2,0]]},\"id\":\"10537\",\"type\":\"GridBox\"},{\"attributes\":{\"button_type\":\"primary\",\"icon\":null,\"js_event_callbacks\":{\"button_click\":[{\"id\":\"10507\"}]},\"label\":\"Next\",\"max_width\":450,\"sizing_mode\":\"stretch_width\",\"width_policy\":\"fit\"},\"id\":\"10506\",\"type\":\"Button\"},{\"attributes\":{},\"id\":\"10454\",\"type\":\"BasicTicker\"},{\"attributes\":{},\"id\":\"10522\",\"type\":\"Selection\"},{\"attributes\":{},\"id\":\"10527\",\"type\":\"UnionRenderers\"},{\"attributes\":{\"background_fill_color\":null,\"below\":[{\"id\":\"10449\"}],\"border_fill_color\":null,\"center\":[{\"id\":\"10452\"},{\"id\":\"10456\"},{\"id\":\"10493\"}],\"left\":[{\"id\":\"10453\"}],\"outline_line_color\":null,\"plot_width\":900,\"renderers\":[{\"id\":\"10478\"},{\"id\":\"10485\"},{\"id\":\"10490\"},{\"id\":\"10502\"}],\"title\":{\"id\":\"10439\"},\"toolbar\":{\"id\":\"10464\"},\"toolbar_location\":null,\"x_range\":{\"id\":\"10441\"},\"x_scale\":{\"id\":\"10445\"},\"y_range\":{\"id\":\"10443\"},\"y_scale\":{\"id\":\"10447\"}},\"id\":\"10438\",\"subtype\":\"Figure\",\"type\":\"Plot\"},{\"attributes\":{\"formatter\":{\"id\":\"10515\"},\"ticker\":{\"id\":\"10454\"},\"visible\":false},\"id\":\"10453\",\"type\":\"LinearAxis\"},{\"attributes\":{\"end\":271.845,\"start\":-28.845000000000002},\"id\":\"10441\",\"type\":\"Range1d\"},{\"attributes\":{\"button_type\":\"primary\",\"icon\":null,\"js_event_callbacks\":{\"button_click\":[{\"id\":\"10509\"}]},\"label\":\"Previous\",\"max_width\":450,\"sizing_mode\":\"stretch_width\",\"width_policy\":\"fit\"},\"id\":\"10508\",\"type\":\"Button\"},{\"attributes\":{\"fill_color\":{\"field\":\"fill_color\"},\"line_color\":{\"field\":\"line_color\"},\"line_width\":{\"field\":\"line_width\"},\"size\":{\"units\":\"screen\",\"value\":11},\"x\":{\"field\":\"x\"},\"y\":{\"field\":\"y\"}},\"id\":\"10477\",\"type\":\"Circle\"},{\"attributes\":{\"args\":{\"cost\":{\"id\":\"10504\"},\"done\":{\"id\":\"10497\"},\"edge_subset_src\":{\"id\":\"10498\"},\"k\":{\"id\":\"10496\"},\"n\":{\"id\":\"10495\"},\"nodes_src\":{\"id\":\"10474\"},\"source\":{\"id\":\"10505\"}},\"code\":\"/* Color Theme -- Using Google's Material Design Color System\\n   https://material.io/design/color/the-color-system.html */\\n\\n/** @constant {string} */\\nvar PRIMARY_COLOR = '#1565c0'\\n/** @constant {string} */\\nvar PRIMARY_LIGHT_COLOR = '#5e92f3'\\n/** @constant {string} */\\nvar PRIMARY_DARK_COLOR = '#003c8f'\\n/** @constant {string} */\\nvar SECONDARY_COLOR = '#d50000'\\n/** @constant {string} */\\nvar SECONDARY_LIGHT_COLOR = '#ff5131'\\n/** @constant {string} */\\nvar SECONDARY_DARK_COLOR = '#9b0000'\\n\\n// Grayscale\\n/** @constant {string} */\\nvar TERTIARY_COLOR = '#DFDFDF'\\n/**\\n *  Jupyter Notebook: 'white', Sphinx: '#FCFCFC'\\n *  @constant {string}\\n */\\nvar TERTIARY_LIGHT_COLOR = 'white'\\n/** @constant {string} */\\nvar TERTIARY_DARK_COLOR = '#404040'\\n/** @type {integer} */\\nvar iteration = 0\\n\\n\\n/**\\n * Increment iteration and update n Div.\\n */\\nfunction increment_iteration() {\\n    if ((parseInt(n.text) + 1) < parseInt(k.text)) {\\n        n.text = (parseInt(n.text) + 1).toString()\\n    }\\n    iteration = parseInt(n.text)\\n}\\n\\n/**\\n * Decrement iteration and update n Div.\\n */\\nfunction decrement_iteration() {\\n    if ((parseInt(n.text) - 1) >= 0) {\\n        n.text = (parseInt(n.text) - 1).toString()\\n    }\\n    iteration = parseInt(n.text)\\n}\\n\\n/**\\n * Update which nodes are highlighted given the current iteration.\\n */\\nfunction nodes_update() {\\n    var in_tree = source.data['nodes'][iteration]\\n\\n    for (let i = 0; i < nodes_src.data['line_color'].length ; i++) {\\n        if (in_tree.includes(i)) {\\n            nodes_src.data['fill_color'][i] = PRIMARY_DARK_COLOR\\n            nodes_src.data['line_color'][i] = PRIMARY_DARK_COLOR\\n        } else {\\n            nodes_src.data['fill_color'][i] = PRIMARY_LIGHT_COLOR\\n            nodes_src.data['line_color'][i] = PRIMARY_DARK_COLOR\\n        }\\n    }\\n\\n    nodes_src.change.emit()\\n}\\n\\n/**\\n * Update which subset of edges are highlighted given the current iteration.\\n */\\nfunction edge_subset_update() {\\n    edge_subset_src.data['xs'] = source.data['edge_xs'][iteration]\\n    edge_subset_src.data['ys'] = source.data['edge_ys'][iteration]\\n    edge_subset_src.change.emit()\\n}\\n\\n/**\\n * Update which swaps are updated given the current iteration\\n */\\nfunction swaps_update() {\\n    swaps_src.data['swaps_before_x'] = source.data['swaps_before_x'][iteration]\\n    swaps_src.data['swaps_before_y'] = source.data['swaps_before_y'][iteration]\\n    swaps_src.data['swaps_after_x'] = source.data['swaps_after_x'][iteration]\\n    swaps_src.data['swaps_after_y'] = source.data['swaps_after_y'][iteration]\\n    swaps_src.change.emit()\\n}\\n\\n/**\\n * Update which table is shown given the current iteration.\\n */\\nfunction table_update() {\\n    table_src.data = source.data['tables'][iteration]\\n}\\n\\n/**\\n * Update which cost is shown given the current iteration.\\n */\\nfunction cost_update() {\\n    cost.text = source.data['costs'][iteration].toFixed(1)\\n}\\n\\n/**\\n * Update done Div based on the current iteration.\\n */\\nfunction done_update() {\\n    if (iteration == parseInt(k.text) - 1) {\\n        done.text = \\\"done.\\\"\\n    } else {\\n        done.text = \\\"\\\"\\n    }\\n}\\n\\n// BEGIN FUNCTION CALLING\\nincrement_iteration()\\ndone_update()\\ncost_update()\\nedge_subset_update()\\nnodes_update()\\n\"},\"id\":\"10507\",\"type\":\"CustomJS\"},{\"attributes\":{\"align\":\"center\",\"width\":450},\"id\":\"10497\",\"type\":\"Div\"},{\"attributes\":{\"data\":{\"xs\":[],\"ys\":[]},\"selected\":{\"id\":\"10526\"},\"selection_policy\":{\"id\":\"10525\"}},\"id\":\"10498\",\"type\":\"ColumnDataSource\"},{\"attributes\":{\"text\":\"\"},\"id\":\"10439\",\"type\":\"Title\"},{\"attributes\":{\"args\":{\"cost\":{\"id\":\"10504\"},\"done\":{\"id\":\"10497\"},\"edge_subset_src\":{\"id\":\"10498\"},\"k\":{\"id\":\"10496\"},\"n\":{\"id\":\"10495\"},\"nodes_src\":{\"id\":\"10474\"},\"source\":{\"id\":\"10505\"}},\"code\":\"/* Color Theme -- Using Google's Material Design Color System\\n   https://material.io/design/color/the-color-system.html */\\n\\n/** @constant {string} */\\nvar PRIMARY_COLOR = '#1565c0'\\n/** @constant {string} */\\nvar PRIMARY_LIGHT_COLOR = '#5e92f3'\\n/** @constant {string} */\\nvar PRIMARY_DARK_COLOR = '#003c8f'\\n/** @constant {string} */\\nvar SECONDARY_COLOR = '#d50000'\\n/** @constant {string} */\\nvar SECONDARY_LIGHT_COLOR = '#ff5131'\\n/** @constant {string} */\\nvar SECONDARY_DARK_COLOR = '#9b0000'\\n\\n// Grayscale\\n/** @constant {string} */\\nvar TERTIARY_COLOR = '#DFDFDF'\\n/**\\n *  Jupyter Notebook: 'white', Sphinx: '#FCFCFC'\\n *  @constant {string}\\n */\\nvar TERTIARY_LIGHT_COLOR = 'white'\\n/** @constant {string} */\\nvar TERTIARY_DARK_COLOR = '#404040'\\n/** @type {integer} */\\nvar iteration = 0\\n\\n\\n/**\\n * Increment iteration and update n Div.\\n */\\nfunction increment_iteration() {\\n    if ((parseInt(n.text) + 1) < parseInt(k.text)) {\\n        n.text = (parseInt(n.text) + 1).toString()\\n    }\\n    iteration = parseInt(n.text)\\n}\\n\\n/**\\n * Decrement iteration and update n Div.\\n */\\nfunction decrement_iteration() {\\n    if ((parseInt(n.text) - 1) >= 0) {\\n        n.text = (parseInt(n.text) - 1).toString()\\n    }\\n    iteration = parseInt(n.text)\\n}\\n\\n/**\\n * Update which nodes are highlighted given the current iteration.\\n */\\nfunction nodes_update() {\\n    var in_tree = source.data['nodes'][iteration]\\n\\n    for (let i = 0; i < nodes_src.data['line_color'].length ; i++) {\\n        if (in_tree.includes(i)) {\\n            nodes_src.data['fill_color'][i] = PRIMARY_DARK_COLOR\\n            nodes_src.data['line_color'][i] = PRIMARY_DARK_COLOR\\n        } else {\\n            nodes_src.data['fill_color'][i] = PRIMARY_LIGHT_COLOR\\n            nodes_src.data['line_color'][i] = PRIMARY_DARK_COLOR\\n        }\\n    }\\n\\n    nodes_src.change.emit()\\n}\\n\\n/**\\n * Update which subset of edges are highlighted given the current iteration.\\n */\\nfunction edge_subset_update() {\\n    edge_subset_src.data['xs'] = source.data['edge_xs'][iteration]\\n    edge_subset_src.data['ys'] = source.data['edge_ys'][iteration]\\n    edge_subset_src.change.emit()\\n}\\n\\n/**\\n * Update which swaps are updated given the current iteration\\n */\\nfunction swaps_update() {\\n    swaps_src.data['swaps_before_x'] = source.data['swaps_before_x'][iteration]\\n    swaps_src.data['swaps_before_y'] = source.data['swaps_before_y'][iteration]\\n    swaps_src.data['swaps_after_x'] = source.data['swaps_after_x'][iteration]\\n    swaps_src.data['swaps_after_y'] = source.data['swaps_after_y'][iteration]\\n    swaps_src.change.emit()\\n}\\n\\n/**\\n * Update which table is shown given the current iteration.\\n */\\nfunction table_update() {\\n    table_src.data = source.data['tables'][iteration]\\n}\\n\\n/**\\n * Update which cost is shown given the current iteration.\\n */\\nfunction cost_update() {\\n    cost.text = source.data['costs'][iteration].toFixed(1)\\n}\\n\\n/**\\n * Update done Div based on the current iteration.\\n */\\nfunction done_update() {\\n    if (iteration == parseInt(k.text) - 1) {\\n        done.text = \\\"done.\\\"\\n    } else {\\n        done.text = \\\"\\\"\\n    }\\n}\\n\\n// BEGIN FUNCTION CALLING\\ndecrement_iteration()\\ndone_update()\\ncost_update()\\nedge_subset_update()\\nnodes_update()\\n\"},\"id\":\"10509\",\"type\":\"CustomJS\"},{\"attributes\":{\"active_drag\":null,\"active_inspect\":\"auto\",\"active_multi\":null,\"active_scroll\":null,\"active_tap\":\"auto\",\"logo\":null,\"tools\":[{\"id\":\"10457\"},{\"id\":\"10458\"},{\"id\":\"10459\"},{\"id\":\"10460\"},{\"id\":\"10461\"},{\"id\":\"10462\"},{\"id\":\"10510\"}]},\"id\":\"10464\",\"type\":\"Toolbar\"},{\"attributes\":{\"line_cap\":\"round\",\"line_color\":{\"field\":\"line_color\"},\"line_width\":{\"value\":5},\"xs\":{\"field\":\"xs\"},\"ys\":{\"field\":\"ys\"}},\"id\":\"10483\",\"type\":\"MultiLine\"},{\"attributes\":{\"callback\":null,\"renderers\":[{\"id\":\"10478\"}],\"tooltips\":[[\"Index\",\"$index\"],[\"Name\",\"@name\"]]},\"id\":\"10510\",\"type\":\"HoverTool\"},{\"attributes\":{},\"id\":\"10523\",\"type\":\"UnionRenderers\"},{\"attributes\":{\"fill_color\":{\"field\":\"fill_color\"},\"line_color\":{\"field\":\"line_color\"},\"line_width\":{\"field\":\"line_width\"},\"size\":{\"units\":\"screen\",\"value\":11},\"x\":{\"field\":\"x\"},\"y\":{\"field\":\"y\"}},\"id\":\"10476\",\"type\":\"Circle\"},{\"attributes\":{\"axis\":{\"id\":\"10453\"},\"dimension\":1,\"grid_line_color\":null,\"ticker\":null},\"id\":\"10456\",\"type\":\"Grid\"},{\"attributes\":{\"source\":{\"id\":\"10474\"}},\"id\":\"10479\",\"type\":\"CDSView\"},{\"attributes\":{\"align\":\"center\",\"text\":\"20\",\"width\":900},\"id\":\"10496\",\"type\":\"Div\"},{\"attributes\":{\"line_color\":{\"value\":\"white\"},\"line_width\":{\"value\":6},\"xs\":{\"field\":\"xs\"},\"ys\":{\"field\":\"ys\"}},\"id\":\"10489\",\"type\":\"MultiLine\"},{\"attributes\":{\"bottom_units\":\"screen\",\"fill_alpha\":0.5,\"fill_color\":\"lightgrey\",\"left_units\":\"screen\",\"level\":\"overlay\",\"line_alpha\":1.0,\"line_color\":\"black\",\"line_dash\":[4,4],\"line_width\":2,\"right_units\":\"screen\",\"top_units\":\"screen\"},\"id\":\"10463\",\"type\":\"BoxAnnotation\"},{\"attributes\":{\"align\":\"center\",\"text\":\"0\",\"width\":900},\"id\":\"10495\",\"type\":\"Div\"},{\"attributes\":{\"children\":[{\"id\":\"10508\"},{\"id\":\"10506\"}],\"max_width\":900,\"sizing_mode\":\"stretch_both\"},\"id\":\"10512\",\"type\":\"Row\"},{\"attributes\":{\"data\":{\"xs\":[[31.181482999984485,28.818517000015536],[29.323307587959494,25.676692412040513],[37.82510252709105,40.17489747290895],[104.62568548330634,110.37431451669372],[18.465077004523696,14.534922995476311],[99.55090799153325,105.44909200846678],[12.27501296360919,15.724987036390818],[2.272224499976712,-1.272224499976705],[9.482972511553111,3.517027488446889],[28.833811163464762,34.16618883653521],[22.31638309649718,23.683616903502827],[13.513996028877177,9.486003971122823],[-3.6360792390857988,-0.3639207609142012],[6.363920760914201,9.636079239085806],[36.840812732486626,32.159187267513374],[64.67754846629762,68.32245153370238],[61.53910011754101,64.46089988245899],[108.77109029787516,114.22890970212487],[21.173846851733703,17.826153148266304],[51.19521836405562,54.80478163594438],[48.82327235081195,54.17672764918805],[47.06535562687364,50.93464437312636],[95.71119059406527,101.28880940593473],[87.62826451792262,85.37173548207738],[113.18989102638227,118.81010897361776],[106.0742333711448,104.9257666288552],[96.03886867224125,90.96113132775872],[117.28415211279366,111.71584788720631],[122.98121658551352,122.01878341448648],[184.61042174441553,190.38957825558452],[107.79859812997088,111.20140187002909],[96.36702923452717,92.63297076547283],[94.9992670203533,89.0007329796467],[102.61107729967262,97.38892270032736],[116.5725386718369,118.42746132816308],[99.49669630857665,105.50330369142333],[83.15860932995511,81.84139067004489],[182.32568980993696,187.6743101900631],[81.07139600006568,81.92860399993432],[216.69239677688392,213.30760322311613]],\"ys\":[[12.94518639998757,11.054813600012423],[17.513784643210798,18.486215356789195],[19.884515974750173,23.115484025249827],[3.5153943271312826,2.484605672868721],[8.768814470056036,9.231185529943964],[-0.6575247990167661,-1.342475200983234],[13.562510803007662,16.437489196992345],[14.582220400018635,17.417779599981365],[20.779039073218293,21.220960926781714],[22.68855122366319,24.31144877633681],[25.79095774124295,29.209042258757044],[24.19682609896183,26.80317390103818],[25.027528684822776,27.972471315177216],[34.027528684822784,36.97247131517722],[29.89844106706512,32.10155893293488],[43.60407967631308,46.39592032368694],[46.46605512341806,49.53394487658193],[9.237004810062913,7.762995189937087],[36.85621274933319,38.143787250666804],[54.59628094982102,57.40371905017895],[50.70045797491785,52.29954202508215],[63.656496963106704,66.3435030368933],[64.34380955154477,65.65619044845522],[65.03291612749493,66.9670838725051],[68.37553133919606,69.62446866080394],[69.77729988656561,73.22270011343439],[71.05967826954027,72.94032173045973],[72.83710663981104,74.16289336018899],[78.26762029215132,81.73237970784866],[60.985449146938194,60.014550853061806],[77.38130841089854,78.61869158910149],[81.62429424824316,84.37570575175687],[76.37503054081861,76.62496945918139],[84.12964090010912,85.87035909989086],[82.83056960930644,86.16943039069355],[89.5858086768978,89.41419132310219],[85.21238425788331,81.7876157421167],[70.30229305701891,68.69770694298109],[74.14294399982491,71.85705600017512],[21.450625808757636,18.549374191242364]]},\"selected\":{\"id\":\"10524\"},\"selection_policy\":{\"id\":\"10523\"}},\"id\":\"10487\",\"type\":\"ColumnDataSource\"},{\"attributes\":{},\"id\":\"10524\",\"type\":\"Selection\"},{\"attributes\":{},\"id\":\"10528\",\"type\":\"Selection\"},{\"attributes\":{},\"id\":\"10519\",\"type\":\"UnionRenderers\"},{\"attributes\":{\"children\":[{\"id\":\"10504\"},{\"id\":\"10497\"}]},\"id\":\"10513\",\"type\":\"Row\"},{\"attributes\":{\"line_cap\":\"round\",\"line_color\":{\"value\":\"#404040\"},\"line_width\":{\"value\":5},\"xs\":{\"field\":\"xs\"},\"ys\":{\"field\":\"ys\"}},\"id\":\"10484\",\"type\":\"MultiLine\"},{\"attributes\":{\"line_color\":{\"value\":\"white\"},\"line_width\":{\"value\":6},\"xs\":{\"field\":\"xs\"},\"ys\":{\"field\":\"ys\"}},\"id\":\"10488\",\"type\":\"MultiLine\"},{\"attributes\":{},\"id\":\"10457\",\"type\":\"PanTool\"},{\"attributes\":{},\"id\":\"10535\",\"type\":\"UnionRenderers\"},{\"attributes\":{},\"id\":\"10461\",\"type\":\"ResetTool\"},{\"attributes\":{\"data_source\":{\"id\":\"10480\"},\"glyph\":{\"id\":\"10482\"},\"hover_glyph\":{\"id\":\"10484\"},\"level\":\"underlay\",\"muted_glyph\":null,\"nonselection_glyph\":{\"id\":\"10483\"},\"selection_glyph\":null,\"view\":{\"id\":\"10486\"}},\"id\":\"10485\",\"type\":\"GlyphRenderer\"},{\"attributes\":{},\"id\":\"10517\",\"type\":\"BasicTickFormatter\"},{\"attributes\":{},\"id\":\"10458\",\"type\":\"WheelZoomTool\"},{\"attributes\":{\"data_source\":{\"id\":\"10487\"},\"glyph\":{\"id\":\"10488\"},\"hover_glyph\":null,\"level\":\"guide\",\"muted_glyph\":null,\"nonselection_glyph\":{\"id\":\"10489\"},\"selection_glyph\":null,\"view\":{\"id\":\"10491\"}},\"id\":\"10490\",\"type\":\"GlyphRenderer\"},{\"attributes\":{\"end\":98.5,\"start\":-18.5},\"id\":\"10443\",\"type\":\"Range1d\"},{\"attributes\":{\"line_cap\":\"round\",\"line_color\":{\"value\":\"#404040\"},\"line_width\":{\"value\":5},\"xs\":{\"field\":\"xs\"},\"ys\":{\"field\":\"ys\"}},\"id\":\"10500\",\"type\":\"MultiLine\"},{\"attributes\":{\"overlay\":{\"id\":\"10463\"}},\"id\":\"10459\",\"type\":\"BoxZoomTool\"},{\"attributes\":{\"data\":{\"line_color\":[\"#DFDFDF\",\"#DFDFDF\",\"#DFDFDF\",\"#DFDFDF\",\"#DFDFDF\",\"#DFDFDF\",\"#DFDFDF\",\"#DFDFDF\",\"#DFDFDF\",\"#DFDFDF\",\"#DFDFDF\",\"#DFDFDF\",\"#DFDFDF\",\"#DFDFDF\",\"#DFDFDF\",\"#DFDFDF\",\"#DFDFDF\",\"#DFDFDF\",\"#DFDFDF\",\"#DFDFDF\",\"#DFDFDF\",\"#DFDFDF\",\"#DFDFDF\",\"#DFDFDF\",\"#DFDFDF\",\"#DFDFDF\",\"#DFDFDF\",\"#DFDFDF\",\"#DFDFDF\",\"#DFDFDF\",\"#DFDFDF\",\"#DFDFDF\",\"#DFDFDF\",\"#DFDFDF\",\"#DFDFDF\",\"#DFDFDF\",\"#DFDFDF\",\"#DFDFDF\",\"#DFDFDF\",\"#DFDFDF\"],\"u\":[0,0,0,0,4,4,5,5,6,6,6,6,2,7,3,3,3,3,1,1,8,8,13,13,11,11,11,14,14,14,17,17,17,10,10,9,9,15,12,19],\"v\":[4,6,3,18,5,18,6,2,2,3,1,7,7,8,1,13,16,18,8,12,13,9,11,16,14,17,12,17,15,19,10,9,12,9,15,15,12,19,16,18],\"weight\":[9,8,11,60,9,60,13,15,15,14,16,15,14,14,13,37,40,62,9,43,41,54,10,6,11,10,24,13,19,54,8,16,14,15,10,16,12,63,9,57],\"xs\":[[35,25],[35,20],[35,43],[35,180],[25,8],[25,180],[8,20],[8,-7],[20,-7],[20,43],[20,26],[20,3],[-7,3],[3,13],[43,26],[43,90],[43,83],[43,180],[26,13],[26,80],[13,90],[13,85],[90,107],[90,83],[107,125],[107,104],[107,80],[125,104],[125,120],[125,250],[104,115],[104,85],[104,80],[115,85],[115,120],[85,120],[85,80],[120,250],[80,83],[250,180]],\"ys\":[[16,8],[16,20],[16,27],[16,-10],[8,10],[8,-10],[10,20],[10,22],[20,22],[20,27],[20,35],[20,31],[22,31],[31,40],[27,35],[27,63],[27,69],[27,-10],[35,40],[35,77],[40,63],[40,90],[63,67],[63,69],[67,71],[67,76],[67,77],[71,76],[71,89],[71,50],[76,80],[76,90],[76,77],[80,90],[80,89],[90,89],[90,77],[89,50],[77,69],[50,-10]]},\"selected\":{\"id\":\"10522\"},\"selection_policy\":{\"id\":\"10521\"}},\"id\":\"10480\",\"type\":\"ColumnDataSource\"},{\"attributes\":{},\"id\":\"10525\",\"type\":\"UnionRenderers\"},{\"attributes\":{\"line_alpha\":{\"value\":0.1},\"line_cap\":\"round\",\"line_color\":{\"value\":\"#404040\"},\"line_width\":{\"value\":5},\"xs\":{\"field\":\"xs\"},\"ys\":{\"field\":\"ys\"}},\"id\":\"10501\",\"type\":\"MultiLine\"},{\"attributes\":{},\"id\":\"10460\",\"type\":\"SaveTool\"},{\"attributes\":{\"axis\":{\"id\":\"10449\"},\"grid_line_color\":null,\"ticker\":null},\"id\":\"10452\",\"type\":\"Grid\"},{\"attributes\":{\"source\":{\"id\":\"10498\"}},\"id\":\"10503\",\"type\":\"CDSView\"},{\"attributes\":{},\"id\":\"10515\",\"type\":\"BasicTickFormatter\"},{\"attributes\":{\"align\":\"center\",\"text\":\"0\",\"width\":450},\"id\":\"10504\",\"type\":\"Div\"},{\"attributes\":{\"data\":{\"text\":[9,8,11,60,9,60,13,15,15,14,16,15,14,14,13,37,40,62,9,43,41,54,10,6,11,10,24,13,19,54,8,16,14,15,10,16,12,63,9,57],\"x\":{\"__ndarray__\":\"AQAAAAAAPkABAAAAAIA7QAAAAAAAgENAAgAAAADgWkABAAAAAIAwQAIAAAAAoFlAAgAAAAAALEAgAAAAAADgPwQAAAAAABpA/f////9/P0ABAAAAAAA3QAIAAAAAACdA8P///////78CAAAAAAAgQP7/////P0FAAAAAAACgUEAAAAAAAIBPQAAAAAAA4FtAAQAAAACAM0AAAAAAAIBKQAAAAAAAwElAAAAAAACASEAAAAAAAKBYQAAAAAAAoFVAAAAAAAAAXUAAAAAAAGBaQAAAAAAAYFdA/v////+fXEAAAAAAAKBeQAEAAAAAcGdA/v////9fW0AAAAAAAKBXQAAAAAAAAFdAAAAAAAAAWUAAAAAAAGBdQAAAAAAAoFlAAAAAAACgVEABAAAAACBnQAAAAAAAYFRAAgAAAADgakA=\",\"dtype\":\"float64\",\"order\":\"little\",\"shape\":[40]},\"y\":{\"__ndarray__\":\"AAAAAAAAKEAAAAAAAAAyQAAAAAAAgDVAAAAAAAAACEAAAAAAAAAiQAAAAAAAAPC/AAAAAAAALkAAAAAAAAAwQAAAAAAAADVAAAAAAACAN0AAAAAAAIA7QAIAAAAAgDlAAAAAAACAOkAAAAAAAMBBQAAAAAAAAD9AAAAAAACARkAAAAAAAABIQAAAAAAAACFAAAAAAADAQkD+//////9LQAAAAAAAwElAAAAAAABAUEAAAAAAAEBQQAEAAAAAgFBAAAAAAABAUUAAAAAAAOBRQAAAAAAAAFJAAQAAAABgUkAAAAAAAABUQAAAAAAAQE5AAQAAAACAU0ABAAAAAMBUQAAAAAAAIFNA//////8/VUAAAAAAACBVQAAAAAAAYFZAAAAAAADgVEAAAAAAAGBRQAEAAAAAQFJAAAAAAAAANEA=\",\"dtype\":\"float64\",\"order\":\"little\",\"shape\":[40]}},\"selected\":{\"id\":\"10528\"},\"selection_policy\":{\"id\":\"10527\"}},\"id\":\"10492\",\"type\":\"ColumnDataSource\"},{\"attributes\":{\"source\":{\"id\":\"10492\"},\"text_align\":\"center\",\"text_baseline\":\"middle\",\"text_color\":{\"value\":\"black\"},\"text_font_size\":{\"value\":\"13px\"},\"x\":{\"field\":\"x\"},\"y\":{\"field\":\"y\"}},\"id\":\"10493\",\"type\":\"LabelSet\"},{\"attributes\":{\"line_cap\":\"round\",\"line_color\":{\"field\":\"line_color\"},\"line_width\":{\"value\":5},\"xs\":{\"field\":\"xs\"},\"ys\":{\"field\":\"ys\"}},\"id\":\"10482\",\"type\":\"MultiLine\"},{\"attributes\":{},\"id\":\"10526\",\"type\":\"Selection\"},{\"attributes\":{\"formatter\":{\"id\":\"10517\"},\"ticker\":{\"id\":\"10450\"},\"visible\":false},\"id\":\"10449\",\"type\":\"LinearAxis\"},{\"attributes\":{},\"id\":\"10462\",\"type\":\"HelpTool\"},{\"attributes\":{},\"id\":\"10536\",\"type\":\"Selection\"},{\"attributes\":{\"data_source\":{\"id\":\"10498\"},\"glyph\":{\"id\":\"10500\"},\"hover_glyph\":null,\"level\":\"underlay\",\"muted_glyph\":null,\"nonselection_glyph\":{\"id\":\"10501\"},\"selection_glyph\":null,\"view\":{\"id\":\"10503\"}},\"id\":\"10502\",\"type\":\"GlyphRenderer\"},{\"attributes\":{},\"id\":\"10445\",\"type\":\"LinearScale\"},{\"attributes\":{\"data\":{\"fill_color\":[\"#5e92f3\",\"#5e92f3\",\"#5e92f3\",\"#5e92f3\",\"#5e92f3\",\"#5e92f3\",\"#5e92f3\",\"#5e92f3\",\"#5e92f3\",\"#5e92f3\",\"#5e92f3\",\"#5e92f3\",\"#5e92f3\",\"#5e92f3\",\"#5e92f3\",\"#5e92f3\",\"#5e92f3\",\"#5e92f3\",\"#5e92f3\",\"#5e92f3\"],\"line_color\":[\"#003c8f\",\"#003c8f\",\"#003c8f\",\"#003c8f\",\"#003c8f\",\"#003c8f\",\"#003c8f\",\"#003c8f\",\"#003c8f\",\"#003c8f\",\"#003c8f\",\"#003c8f\",\"#003c8f\",\"#003c8f\",\"#003c8f\",\"#003c8f\",\"#003c8f\",\"#003c8f\",\"#003c8f\",\"#003c8f\"],\"line_width\":[3,3,3,3,3,3,3,3,3,3,3,3,3,3,3,3,3,3,3,3],\"x\":[35,26,-7,43,25,8,20,3,13,85,115,107,80,90,125,120,83,104,180,250],\"y\":[16,35,22,27,8,10,20,31,40,90,80,67,77,63,71,89,69,76,-10,50]},\"selected\":{\"id\":\"10520\"},\"selection_policy\":{\"id\":\"10519\"}},\"id\":\"10474\",\"type\":\"ColumnDataSource\"},{\"attributes\":{\"source\":{\"id\":\"10487\"}},\"id\":\"10491\",\"type\":\"CDSView\"},{\"attributes\":{\"source\":{\"id\":\"10480\"}},\"id\":\"10486\",\"type\":\"CDSView\"},{\"attributes\":{},\"id\":\"10520\",\"type\":\"Selection\"},{\"attributes\":{},\"id\":\"10521\",\"type\":\"UnionRenderers\"},{\"attributes\":{\"data\":{\"costs\":[0,6,14,22,31,40,49,58,68,78,88,99,110,122,135,149,163,200,254,311],\"edge_xs\":[[],[[90,83]],[[90,83],[35,20]],[[90,83],[35,20],[104,115]],[[90,83],[35,20],[104,115],[35,25]],[[90,83],[35,20],[104,115],[35,25],[25,8]],[[90,83],[35,20],[104,115],[35,25],[25,8],[26,13]],[[90,83],[35,20],[104,115],[35,25],[25,8],[26,13],[80,83]],[[90,83],[35,20],[104,115],[35,25],[25,8],[26,13],[80,83],[90,107]],[[90,83],[35,20],[104,115],[35,25],[25,8],[26,13],[80,83],[90,107],[107,104]],[[90,83],[35,20],[104,115],[35,25],[25,8],[26,13],[80,83],[90,107],[107,104],[115,120]],[[90,83],[35,20],[104,115],[35,25],[25,8],[26,13],[80,83],[90,107],[107,104],[115,120],[35,43]],[[90,83],[35,20],[104,115],[35,25],[25,8],[26,13],[80,83],[90,107],[107,104],[115,120],[35,43],[107,125]],[[90,83],[35,20],[104,115],[35,25],[25,8],[26,13],[80,83],[90,107],[107,104],[115,120],[35,43],[107,125],[85,80]],[[90,83],[35,20],[104,115],[35,25],[25,8],[26,13],[80,83],[90,107],[107,104],[115,120],[35,43],[107,125],[85,80],[43,26]],[[90,83],[35,20],[104,115],[35,25],[25,8],[26,13],[80,83],[90,107],[107,104],[115,120],[35,43],[107,125],[85,80],[43,26],[-7,3]],[[90,83],[35,20],[104,115],[35,25],[25,8],[26,13],[80,83],[90,107],[107,104],[115,120],[35,43],[107,125],[85,80],[43,26],[-7,3],[3,13]],[[90,83],[35,20],[104,115],[35,25],[25,8],[26,13],[80,83],[90,107],[107,104],[115,120],[35,43],[107,125],[85,80],[43,26],[-7,3],[3,13],[43,90]],[[90,83],[35,20],[104,115],[35,25],[25,8],[26,13],[80,83],[90,107],[107,104],[115,120],[35,43],[107,125],[85,80],[43,26],[-7,3],[3,13],[43,90],[125,250]],[[90,83],[35,20],[104,115],[35,25],[25,8],[26,13],[80,83],[90,107],[107,104],[115,120],[35,43],[107,125],[85,80],[43,26],[-7,3],[3,13],[43,90],[125,250],[250,180]]],\"edge_ys\":[[],[[63,69]],[[63,69],[16,20]],[[63,69],[16,20],[76,80]],[[63,69],[16,20],[76,80],[16,8]],[[63,69],[16,20],[76,80],[16,8],[8,10]],[[63,69],[16,20],[76,80],[16,8],[8,10],[35,40]],[[63,69],[16,20],[76,80],[16,8],[8,10],[35,40],[77,69]],[[63,69],[16,20],[76,80],[16,8],[8,10],[35,40],[77,69],[63,67]],[[63,69],[16,20],[76,80],[16,8],[8,10],[35,40],[77,69],[63,67],[67,76]],[[63,69],[16,20],[76,80],[16,8],[8,10],[35,40],[77,69],[63,67],[67,76],[80,89]],[[63,69],[16,20],[76,80],[16,8],[8,10],[35,40],[77,69],[63,67],[67,76],[80,89],[16,27]],[[63,69],[16,20],[76,80],[16,8],[8,10],[35,40],[77,69],[63,67],[67,76],[80,89],[16,27],[67,71]],[[63,69],[16,20],[76,80],[16,8],[8,10],[35,40],[77,69],[63,67],[67,76],[80,89],[16,27],[67,71],[90,77]],[[63,69],[16,20],[76,80],[16,8],[8,10],[35,40],[77,69],[63,67],[67,76],[80,89],[16,27],[67,71],[90,77],[27,35]],[[63,69],[16,20],[76,80],[16,8],[8,10],[35,40],[77,69],[63,67],[67,76],[80,89],[16,27],[67,71],[90,77],[27,35],[22,31]],[[63,69],[16,20],[76,80],[16,8],[8,10],[35,40],[77,69],[63,67],[67,76],[80,89],[16,27],[67,71],[90,77],[27,35],[22,31],[31,40]],[[63,69],[16,20],[76,80],[16,8],[8,10],[35,40],[77,69],[63,67],[67,76],[80,89],[16,27],[67,71],[90,77],[27,35],[22,31],[31,40],[27,63]],[[63,69],[16,20],[76,80],[16,8],[8,10],[35,40],[77,69],[63,67],[67,76],[80,89],[16,27],[67,71],[90,77],[27,35],[22,31],[31,40],[27,63],[71,50]],[[63,69],[16,20],[76,80],[16,8],[8,10],[35,40],[77,69],[63,67],[67,76],[80,89],[16,27],[67,71],[90,77],[27,35],[22,31],[31,40],[27,63],[71,50],[50,-10]]],\"nodes\":[[],[16,13],[16,0,13,6],[0,6,10,13,16,17],[0,4,6,10,13,16,17],[0,4,5,6,10,13,16,17],[0,1,4,5,6,8,10,13,16,17],[0,1,4,5,6,8,10,12,13,16,17],[0,1,4,5,6,8,10,11,12,13,16,17],[0,1,4,5,6,8,10,11,12,13,16,17],[0,1,4,5,6,8,10,11,12,13,15,16,17],[0,1,3,4,5,6,8,10,11,12,13,15,16,17],[0,1,3,4,5,6,8,10,11,12,13,14,15,16,17],[0,1,3,4,5,6,8,9,10,11,12,13,14,15,16,17],[0,1,3,4,5,6,8,9,10,11,12,13,14,15,16,17],[0,1,2,3,4,5,6,7,8,9,10,11,12,13,14,15,16,17],[0,1,2,3,4,5,6,7,8,9,10,11,12,13,14,15,16,17],[0,1,2,3,4,5,6,7,8,9,10,11,12,13,14,15,16,17],[0,1,2,3,4,5,6,7,8,9,10,11,12,13,14,15,16,17,19],[0,1,2,3,4,5,6,7,8,9,10,11,12,13,14,15,16,17,18,19]]},\"selected\":{\"id\":\"10536\"},\"selection_policy\":{\"id\":\"10535\"}},\"id\":\"10505\",\"type\":\"ColumnDataSource\"},{\"attributes\":{\"data_source\":{\"id\":\"10474\"},\"glyph\":{\"id\":\"10476\"},\"hover_glyph\":null,\"muted_glyph\":null,\"nonselection_glyph\":{\"id\":\"10477\"},\"selection_glyph\":null,\"view\":{\"id\":\"10479\"}},\"id\":\"10478\",\"type\":\"GlyphRenderer\"},{\"attributes\":{},\"id\":\"10447\",\"type\":\"LinearScale\"},{\"attributes\":{},\"id\":\"10450\",\"type\":\"BasicTicker\"}],\"root_ids\":[\"10537\"]},\"title\":\"Bokeh Application\",\"version\":\"2.2.3\"}};\n",
       "  var render_items = [{\"docid\":\"2b184124-366a-4d5b-afa5-30c8df82bc58\",\"root_ids\":[\"10537\"],\"roots\":{\"10537\":\"5958eba7-0d3a-48a0-baec-056bb4e91900\"}}];\n",
       "  root.Bokeh.embed.embed_items_notebook(docs_json, render_items);\n",
       "\n",
       "  }\n",
       "  if (root.Bokeh !== undefined) {\n",
       "    embed_document(root);\n",
       "  } else {\n",
       "    var attempts = 0;\n",
       "    var timer = setInterval(function(root) {\n",
       "      if (root.Bokeh !== undefined) {\n",
       "        clearInterval(timer);\n",
       "        embed_document(root);\n",
       "      } else {\n",
       "        attempts++;\n",
       "        if (attempts > 100) {\n",
       "          clearInterval(timer);\n",
       "          console.log(\"Bokeh: ERROR: Unable to run BokehJS code because BokehJS library is missing\");\n",
       "        }\n",
       "      }\n",
       "    }, 10, root)\n",
       "  }\n",
       "})(window);"
      ],
      "application/vnd.bokehjs_exec.v0+json": ""
     },
     "metadata": {
      "application/vnd.bokehjs_exec.v0+json": {
       "id": "10537"
      }
     },
     "output_type": "display_data"
    }
   ],
   "source": [
    "# Load the data and create a graph G\n",
    "nodes = pd.read_csv('data/cluster.csv', index_col=0)\n",
    "edges = pd.read_csv('data/cluster_edges.csv', index_col=0)\n",
    "G = vl.create_network(nodes, edges)\n",
    "\n",
    "# Plot the graph G\n",
    "show(vl.mst_algorithm_plot(G, algorithm='kruskals', width=900, height=600))"
   ]
  },
  {
   "cell_type": "markdown",
   "metadata": {},
   "source": [
    "So, the algorithm identifies node 19 as an outlier. If we remove node 19, and then run it again, we can identify the other outlier."
   ]
  },
  {
   "cell_type": "code",
   "execution_count": 34,
   "metadata": {
    "scrolled": true
   },
   "outputs": [
    {
     "data": {
      "text/html": [
       "\n",
       "\n",
       "\n",
       "\n",
       "\n",
       "\n",
       "  <div class=\"bk-root\" id=\"2d27a0b7-8d0a-4dd0-bb1c-29a7ffec91d6\" data-root-id=\"11129\"></div>\n"
      ]
     },
     "metadata": {},
     "output_type": "display_data"
    },
    {
     "data": {
      "application/javascript": [
       "(function(root) {\n",
       "  function embed_document(root) {\n",
       "    \n",
       "  var docs_json = {\"07100194-fa62-4853-88c5-6d7161e6f1e5\":{\"roots\":{\"references\":[{\"attributes\":{\"children\":[[{\"id\":\"11030\"},0,0],[{\"id\":\"11104\"},1,0],[{\"id\":\"11105\"},2,0]]},\"id\":\"11129\",\"type\":\"GridBox\"},{\"attributes\":{\"fill_color\":{\"field\":\"fill_color\"},\"line_color\":{\"field\":\"line_color\"},\"line_width\":{\"field\":\"line_width\"},\"size\":{\"units\":\"screen\",\"value\":11},\"x\":{\"field\":\"x\"},\"y\":{\"field\":\"y\"}},\"id\":\"11069\",\"type\":\"Circle\"},{\"attributes\":{},\"id\":\"11107\",\"type\":\"BasicTickFormatter\"},{\"attributes\":{\"line_color\":{\"value\":\"white\"},\"line_width\":{\"value\":6},\"xs\":{\"field\":\"xs\"},\"ys\":{\"field\":\"ys\"}},\"id\":\"11081\",\"type\":\"MultiLine\"},{\"attributes\":{\"source\":{\"id\":\"11066\"}},\"id\":\"11071\",\"type\":\"CDSView\"},{\"attributes\":{\"overlay\":{\"id\":\"11055\"}},\"id\":\"11051\",\"type\":\"BoxZoomTool\"},{\"attributes\":{\"bottom_units\":\"screen\",\"fill_alpha\":0.5,\"fill_color\":\"lightgrey\",\"left_units\":\"screen\",\"level\":\"overlay\",\"line_alpha\":1.0,\"line_color\":\"black\",\"line_dash\":[4,4],\"line_width\":2,\"right_units\":\"screen\",\"top_units\":\"screen\"},\"id\":\"11055\",\"type\":\"BoxAnnotation\"},{\"attributes\":{},\"id\":\"11049\",\"type\":\"PanTool\"},{\"attributes\":{\"text\":\"\"},\"id\":\"11031\",\"type\":\"Title\"},{\"attributes\":{\"data\":{\"costs\":[0,6,14,22,31,40,49,58,68,78,88,99,110,122,135,149,163,200,254],\"edge_xs\":[[],[[90,83]],[[90,83],[35,20]],[[90,83],[35,20],[104,115]],[[90,83],[35,20],[104,115],[35,25]],[[90,83],[35,20],[104,115],[35,25],[25,8]],[[90,83],[35,20],[104,115],[35,25],[25,8],[26,13]],[[90,83],[35,20],[104,115],[35,25],[25,8],[26,13],[80,83]],[[90,83],[35,20],[104,115],[35,25],[25,8],[26,13],[80,83],[90,107]],[[90,83],[35,20],[104,115],[35,25],[25,8],[26,13],[80,83],[90,107],[107,104]],[[90,83],[35,20],[104,115],[35,25],[25,8],[26,13],[80,83],[90,107],[107,104],[115,120]],[[90,83],[35,20],[104,115],[35,25],[25,8],[26,13],[80,83],[90,107],[107,104],[115,120],[35,43]],[[90,83],[35,20],[104,115],[35,25],[25,8],[26,13],[80,83],[90,107],[107,104],[115,120],[35,43],[107,125]],[[90,83],[35,20],[104,115],[35,25],[25,8],[26,13],[80,83],[90,107],[107,104],[115,120],[35,43],[107,125],[85,80]],[[90,83],[35,20],[104,115],[35,25],[25,8],[26,13],[80,83],[90,107],[107,104],[115,120],[35,43],[107,125],[85,80],[43,26]],[[90,83],[35,20],[104,115],[35,25],[25,8],[26,13],[80,83],[90,107],[107,104],[115,120],[35,43],[107,125],[85,80],[43,26],[-7,3]],[[90,83],[35,20],[104,115],[35,25],[25,8],[26,13],[80,83],[90,107],[107,104],[115,120],[35,43],[107,125],[85,80],[43,26],[-7,3],[3,13]],[[90,83],[35,20],[104,115],[35,25],[25,8],[26,13],[80,83],[90,107],[107,104],[115,120],[35,43],[107,125],[85,80],[43,26],[-7,3],[3,13],[43,90]],[[90,83],[35,20],[104,115],[35,25],[25,8],[26,13],[80,83],[90,107],[107,104],[115,120],[35,43],[107,125],[85,80],[43,26],[-7,3],[3,13],[43,90],[125,250]]],\"edge_ys\":[[],[[63,69]],[[63,69],[16,20]],[[63,69],[16,20],[76,80]],[[63,69],[16,20],[76,80],[16,8]],[[63,69],[16,20],[76,80],[16,8],[8,10]],[[63,69],[16,20],[76,80],[16,8],[8,10],[35,40]],[[63,69],[16,20],[76,80],[16,8],[8,10],[35,40],[77,69]],[[63,69],[16,20],[76,80],[16,8],[8,10],[35,40],[77,69],[63,67]],[[63,69],[16,20],[76,80],[16,8],[8,10],[35,40],[77,69],[63,67],[67,76]],[[63,69],[16,20],[76,80],[16,8],[8,10],[35,40],[77,69],[63,67],[67,76],[80,89]],[[63,69],[16,20],[76,80],[16,8],[8,10],[35,40],[77,69],[63,67],[67,76],[80,89],[16,27]],[[63,69],[16,20],[76,80],[16,8],[8,10],[35,40],[77,69],[63,67],[67,76],[80,89],[16,27],[67,71]],[[63,69],[16,20],[76,80],[16,8],[8,10],[35,40],[77,69],[63,67],[67,76],[80,89],[16,27],[67,71],[90,77]],[[63,69],[16,20],[76,80],[16,8],[8,10],[35,40],[77,69],[63,67],[67,76],[80,89],[16,27],[67,71],[90,77],[27,35]],[[63,69],[16,20],[76,80],[16,8],[8,10],[35,40],[77,69],[63,67],[67,76],[80,89],[16,27],[67,71],[90,77],[27,35],[22,31]],[[63,69],[16,20],[76,80],[16,8],[8,10],[35,40],[77,69],[63,67],[67,76],[80,89],[16,27],[67,71],[90,77],[27,35],[22,31],[31,40]],[[63,69],[16,20],[76,80],[16,8],[8,10],[35,40],[77,69],[63,67],[67,76],[80,89],[16,27],[67,71],[90,77],[27,35],[22,31],[31,40],[27,63]],[[63,69],[16,20],[76,80],[16,8],[8,10],[35,40],[77,69],[63,67],[67,76],[80,89],[16,27],[67,71],[90,77],[27,35],[22,31],[31,40],[27,63],[71,50]]],\"nodes\":[[],[16,13],[16,0,13,6],[0,6,10,13,16,17],[0,4,6,10,13,16,17],[0,4,5,6,10,13,16,17],[0,1,4,5,6,8,10,13,16,17],[0,1,4,5,6,8,10,12,13,16,17],[0,1,4,5,6,8,10,11,12,13,16,17],[0,1,4,5,6,8,10,11,12,13,16,17],[0,1,4,5,6,8,10,11,12,13,15,16,17],[0,1,3,4,5,6,8,10,11,12,13,15,16,17],[0,1,3,4,5,6,8,10,11,12,13,14,15,16,17],[0,1,3,4,5,6,8,9,10,11,12,13,14,15,16,17],[0,1,3,4,5,6,8,9,10,11,12,13,14,15,16,17],[0,1,2,3,4,5,6,7,8,9,10,11,12,13,14,15,16,17],[0,1,2,3,4,5,6,7,8,9,10,11,12,13,14,15,16,17],[0,1,2,3,4,5,6,7,8,9,10,11,12,13,14,15,16,17],[0,1,2,3,4,5,6,7,8,9,10,11,12,13,14,15,16,17,18]]},\"selected\":{\"id\":\"11128\"},\"selection_policy\":{\"id\":\"11127\"}},\"id\":\"11097\",\"type\":\"ColumnDataSource\"},{\"attributes\":{\"line_cap\":\"round\",\"line_color\":{\"field\":\"line_color\"},\"line_width\":{\"value\":5},\"xs\":{\"field\":\"xs\"},\"ys\":{\"field\":\"ys\"}},\"id\":\"11074\",\"type\":\"MultiLine\"},{\"attributes\":{},\"id\":\"11112\",\"type\":\"Selection\"},{\"attributes\":{},\"id\":\"11117\",\"type\":\"UnionRenderers\"},{\"attributes\":{},\"id\":\"11127\",\"type\":\"UnionRenderers\"},{\"attributes\":{\"align\":\"center\",\"text\":\"0\",\"width\":450},\"id\":\"11096\",\"type\":\"Div\"},{\"attributes\":{\"fill_color\":{\"field\":\"fill_color\"},\"line_color\":{\"field\":\"line_color\"},\"line_width\":{\"field\":\"line_width\"},\"size\":{\"units\":\"screen\",\"value\":11},\"x\":{\"field\":\"x\"},\"y\":{\"field\":\"y\"}},\"id\":\"11068\",\"type\":\"Circle\"},{\"attributes\":{},\"id\":\"11111\",\"type\":\"UnionRenderers\"},{\"attributes\":{\"axis\":{\"id\":\"11045\"},\"dimension\":1,\"grid_line_color\":null,\"ticker\":null},\"id\":\"11048\",\"type\":\"Grid\"},{\"attributes\":{\"data\":{\"xs\":[[31.1690427126909,28.830957287309108],[29.31816777152922,25.6818322284708],[37.841089174887315,40.158910825112656],[18.463820529341906,14.536179470658102],[12.293676295940383,15.706323704059631],[2.2535640690363543,-1.2535640690363472],[9.482197696234874,3.5178023037651265],[28.843105636079134,34.156894363920856],[22.326768429147396,23.67323157085261],[13.49603584384612,9.50396415615388],[-3.617520588443302,-0.38247941155669096],[6.382479411556698,9.617520588443309],[36.825840484642725,32.17415951535726],[64.696159561959,68.30384043804096],[61.55705825890095,64.44294174109905],[21.165600694074886,17.83439930592512],[51.21385233717092,54.78614766282908],[48.832333107945914,54.167666892054086],[47.08367716978901,50.91632283021099],[95.71755966542332,101.28244033457668],[87.61583692596977,85.38416307403023],[113.19570512262612,118.8042948773739],[106.06537300153695,104.93462699846302],[96.02700475954836,90.97299524045164],[117.27766356895498,111.722336431045],[122.97370972865161,122.02629027134839],[184.61403911536217,190.38596088463785],[107.80634366658128,111.19365633341869],[96.348502981232,92.65149701876797],[94.99901775840414,89.00098224159586],[102.60061355442102,97.39938644557895],[116.58599683812722,118.41400316187278],[99.49681399418313,105.50318600581684],[83.14856562830013,81.85143437169987],[182.3348044679132,187.66519553208684],[81.07794731754416,81.92205268245584]],\"ys\":[[12.935234170152718,11.064765829847278],[17.51515526092554,18.484844739074454],[19.90649761547008,23.093502384529913],[8.768962290665655,9.23103770933434],[13.578063579950307,16.421936420049686],[14.59714874477092,17.402851255229074],[20.77909646694556,21.220903533054432],[22.691379976197993,24.308620023801993],[25.816921072868496,29.183078927131504],[24.20844739515838,26.791552604841613],[25.044231470401023,27.95576852959897],[34.04423147040102,36.95576852959897],[29.90548683075636,32.09451316924363],[43.61833498362817,46.38166501637183],[46.484911171846,49.51508882815399],[36.85938434843274,38.14061565156726],[54.61077404002183,57.38922595997818],[50.70316443484099,52.296835565159014],[63.66922025679793,66.33077974320206],[64.3453081565702,65.6546918434298],[65.04356834916877,66.95643165083125],[68.37682336058359,69.62317663941643],[69.80388099538911,73.19611900461089],[71.0640723112784,72.9359276887216],[72.8386515312012,74.1613484687988],[78.29464497685416,81.70535502314586],[60.98484142861916,60.01515857138085],[77.38412496966592,78.61587503033407],[81.63794517172377,84.36205482827623],[76.37504092673316,76.62495907326684],[84.13312881519299,85.86687118480701],[82.85479430862901,86.14520569137099],[89.5858053144519,89.41419468554808],[85.18627063358034,81.81372936641965],[70.29955865962604,68.70044134037396],[74.12547381988223,71.87452618011777]]},\"selected\":{\"id\":\"11116\"},\"selection_policy\":{\"id\":\"11115\"}},\"id\":\"11079\",\"type\":\"ColumnDataSource\"},{\"attributes\":{},\"id\":\"11052\",\"type\":\"SaveTool\"},{\"attributes\":{},\"id\":\"11128\",\"type\":\"Selection\"},{\"attributes\":{\"data_source\":{\"id\":\"11079\"},\"glyph\":{\"id\":\"11080\"},\"hover_glyph\":null,\"level\":\"guide\",\"muted_glyph\":null,\"nonselection_glyph\":{\"id\":\"11081\"},\"selection_glyph\":null,\"view\":{\"id\":\"11083\"}},\"id\":\"11082\",\"type\":\"GlyphRenderer\"},{\"attributes\":{\"align\":\"center\",\"width\":450},\"id\":\"11089\",\"type\":\"Div\"},{\"attributes\":{\"button_type\":\"primary\",\"icon\":null,\"js_event_callbacks\":{\"button_click\":[{\"id\":\"11099\"}]},\"label\":\"Next\",\"max_width\":450,\"sizing_mode\":\"stretch_width\",\"width_policy\":\"fit\"},\"id\":\"11098\",\"type\":\"Button\"},{\"attributes\":{\"source\":{\"id\":\"11072\"}},\"id\":\"11078\",\"type\":\"CDSView\"},{\"attributes\":{},\"id\":\"11039\",\"type\":\"LinearScale\"},{\"attributes\":{\"active_drag\":null,\"active_inspect\":\"auto\",\"active_multi\":null,\"active_scroll\":null,\"active_tap\":\"auto\",\"logo\":null,\"tools\":[{\"id\":\"11049\"},{\"id\":\"11050\"},{\"id\":\"11051\"},{\"id\":\"11052\"},{\"id\":\"11053\"},{\"id\":\"11054\"},{\"id\":\"11102\"}]},\"id\":\"11056\",\"type\":\"Toolbar\"},{\"attributes\":{\"data\":{\"line_color\":[\"#DFDFDF\",\"#DFDFDF\",\"#DFDFDF\",\"#DFDFDF\",\"#DFDFDF\",\"#DFDFDF\",\"#DFDFDF\",\"#DFDFDF\",\"#DFDFDF\",\"#DFDFDF\",\"#DFDFDF\",\"#DFDFDF\",\"#DFDFDF\",\"#DFDFDF\",\"#DFDFDF\",\"#DFDFDF\",\"#DFDFDF\",\"#DFDFDF\",\"#DFDFDF\",\"#DFDFDF\",\"#DFDFDF\",\"#DFDFDF\",\"#DFDFDF\",\"#DFDFDF\",\"#DFDFDF\",\"#DFDFDF\",\"#DFDFDF\",\"#DFDFDF\",\"#DFDFDF\",\"#DFDFDF\",\"#DFDFDF\",\"#DFDFDF\",\"#DFDFDF\",\"#DFDFDF\",\"#DFDFDF\",\"#DFDFDF\"],\"u\":[0,0,0,4,5,5,6,6,6,6,2,7,3,3,3,1,1,8,8,13,13,11,11,11,14,14,14,17,17,17,10,10,9,9,15,12],\"v\":[4,6,3,5,6,2,2,3,1,7,7,8,1,13,16,8,12,13,9,11,16,14,17,12,17,15,18,10,9,12,9,15,15,12,18,16],\"weight\":[9,8,11,9,13,15,15,14,16,15,14,14,13,37,40,9,43,41,54,10,6,11,10,24,13,19,54,8,16,14,15,10,16,12,63,9],\"xs\":[[35,25],[35,20],[35,43],[25,8],[8,20],[8,-7],[20,-7],[20,43],[20,26],[20,3],[-7,3],[3,13],[43,26],[43,90],[43,83],[26,13],[26,80],[13,90],[13,85],[90,107],[90,83],[107,125],[107,104],[107,80],[125,104],[125,120],[125,250],[104,115],[104,85],[104,80],[115,85],[115,120],[85,120],[85,80],[120,250],[80,83]],\"ys\":[[16,8],[16,20],[16,27],[8,10],[10,20],[10,22],[20,22],[20,27],[20,35],[20,31],[22,31],[31,40],[27,35],[27,63],[27,69],[35,40],[35,77],[40,63],[40,90],[63,67],[63,69],[67,71],[67,76],[67,77],[71,76],[71,89],[71,50],[76,80],[76,90],[76,77],[80,90],[80,89],[90,89],[90,77],[89,50],[77,69]]},\"selected\":{\"id\":\"11114\"},\"selection_policy\":{\"id\":\"11113\"}},\"id\":\"11072\",\"type\":\"ColumnDataSource\"},{\"attributes\":{},\"id\":\"11118\",\"type\":\"Selection\"},{\"attributes\":{\"button_type\":\"primary\",\"icon\":null,\"js_event_callbacks\":{\"button_click\":[{\"id\":\"11101\"}]},\"label\":\"Previous\",\"max_width\":450,\"sizing_mode\":\"stretch_width\",\"width_policy\":\"fit\"},\"id\":\"11100\",\"type\":\"Button\"},{\"attributes\":{\"align\":\"center\",\"text\":\"19\",\"width\":900},\"id\":\"11088\",\"type\":\"Div\"},{\"attributes\":{\"line_color\":{\"value\":\"white\"},\"line_width\":{\"value\":6},\"xs\":{\"field\":\"xs\"},\"ys\":{\"field\":\"ys\"}},\"id\":\"11080\",\"type\":\"MultiLine\"},{\"attributes\":{},\"id\":\"11042\",\"type\":\"BasicTicker\"},{\"attributes\":{\"args\":{\"cost\":{\"id\":\"11096\"},\"done\":{\"id\":\"11089\"},\"edge_subset_src\":{\"id\":\"11090\"},\"k\":{\"id\":\"11088\"},\"n\":{\"id\":\"11087\"},\"nodes_src\":{\"id\":\"11066\"},\"source\":{\"id\":\"11097\"}},\"code\":\"/* Color Theme -- Using Google's Material Design Color System\\n   https://material.io/design/color/the-color-system.html */\\n\\n/** @constant {string} */\\nvar PRIMARY_COLOR = '#1565c0'\\n/** @constant {string} */\\nvar PRIMARY_LIGHT_COLOR = '#5e92f3'\\n/** @constant {string} */\\nvar PRIMARY_DARK_COLOR = '#003c8f'\\n/** @constant {string} */\\nvar SECONDARY_COLOR = '#d50000'\\n/** @constant {string} */\\nvar SECONDARY_LIGHT_COLOR = '#ff5131'\\n/** @constant {string} */\\nvar SECONDARY_DARK_COLOR = '#9b0000'\\n\\n// Grayscale\\n/** @constant {string} */\\nvar TERTIARY_COLOR = '#DFDFDF'\\n/**\\n *  Jupyter Notebook: 'white', Sphinx: '#FCFCFC'\\n *  @constant {string}\\n */\\nvar TERTIARY_LIGHT_COLOR = 'white'\\n/** @constant {string} */\\nvar TERTIARY_DARK_COLOR = '#404040'\\n/** @type {integer} */\\nvar iteration = 0\\n\\n\\n/**\\n * Increment iteration and update n Div.\\n */\\nfunction increment_iteration() {\\n    if ((parseInt(n.text) + 1) < parseInt(k.text)) {\\n        n.text = (parseInt(n.text) + 1).toString()\\n    }\\n    iteration = parseInt(n.text)\\n}\\n\\n/**\\n * Decrement iteration and update n Div.\\n */\\nfunction decrement_iteration() {\\n    if ((parseInt(n.text) - 1) >= 0) {\\n        n.text = (parseInt(n.text) - 1).toString()\\n    }\\n    iteration = parseInt(n.text)\\n}\\n\\n/**\\n * Update which nodes are highlighted given the current iteration.\\n */\\nfunction nodes_update() {\\n    var in_tree = source.data['nodes'][iteration]\\n\\n    for (let i = 0; i < nodes_src.data['line_color'].length ; i++) {\\n        if (in_tree.includes(i)) {\\n            nodes_src.data['fill_color'][i] = PRIMARY_DARK_COLOR\\n            nodes_src.data['line_color'][i] = PRIMARY_DARK_COLOR\\n        } else {\\n            nodes_src.data['fill_color'][i] = PRIMARY_LIGHT_COLOR\\n            nodes_src.data['line_color'][i] = PRIMARY_DARK_COLOR\\n        }\\n    }\\n\\n    nodes_src.change.emit()\\n}\\n\\n/**\\n * Update which subset of edges are highlighted given the current iteration.\\n */\\nfunction edge_subset_update() {\\n    edge_subset_src.data['xs'] = source.data['edge_xs'][iteration]\\n    edge_subset_src.data['ys'] = source.data['edge_ys'][iteration]\\n    edge_subset_src.change.emit()\\n}\\n\\n/**\\n * Update which swaps are updated given the current iteration\\n */\\nfunction swaps_update() {\\n    swaps_src.data['swaps_before_x'] = source.data['swaps_before_x'][iteration]\\n    swaps_src.data['swaps_before_y'] = source.data['swaps_before_y'][iteration]\\n    swaps_src.data['swaps_after_x'] = source.data['swaps_after_x'][iteration]\\n    swaps_src.data['swaps_after_y'] = source.data['swaps_after_y'][iteration]\\n    swaps_src.change.emit()\\n}\\n\\n/**\\n * Update which table is shown given the current iteration.\\n */\\nfunction table_update() {\\n    table_src.data = source.data['tables'][iteration]\\n}\\n\\n/**\\n * Update which cost is shown given the current iteration.\\n */\\nfunction cost_update() {\\n    cost.text = source.data['costs'][iteration].toFixed(1)\\n}\\n\\n/**\\n * Update done Div based on the current iteration.\\n */\\nfunction done_update() {\\n    if (iteration == parseInt(k.text) - 1) {\\n        done.text = \\\"done.\\\"\\n    } else {\\n        done.text = \\\"\\\"\\n    }\\n}\\n\\n// BEGIN FUNCTION CALLING\\nincrement_iteration()\\ndone_update()\\ncost_update()\\nedge_subset_update()\\nnodes_update()\\n\"},\"id\":\"11099\",\"type\":\"CustomJS\"},{\"attributes\":{\"formatter\":{\"id\":\"11107\"},\"ticker\":{\"id\":\"11046\"},\"visible\":false},\"id\":\"11045\",\"type\":\"LinearAxis\"},{\"attributes\":{},\"id\":\"11037\",\"type\":\"LinearScale\"},{\"attributes\":{},\"id\":\"11113\",\"type\":\"UnionRenderers\"},{\"attributes\":{\"formatter\":{\"id\":\"11109\"},\"ticker\":{\"id\":\"11042\"},\"visible\":false},\"id\":\"11041\",\"type\":\"LinearAxis\"},{\"attributes\":{\"axis\":{\"id\":\"11041\"},\"grid_line_color\":null,\"ticker\":null},\"id\":\"11044\",\"type\":\"Grid\"},{\"attributes\":{\"data\":{\"xs\":[],\"ys\":[]},\"selected\":{\"id\":\"11118\"},\"selection_policy\":{\"id\":\"11117\"}},\"id\":\"11090\",\"type\":\"ColumnDataSource\"},{\"attributes\":{},\"id\":\"11114\",\"type\":\"Selection\"},{\"attributes\":{\"args\":{\"cost\":{\"id\":\"11096\"},\"done\":{\"id\":\"11089\"},\"edge_subset_src\":{\"id\":\"11090\"},\"k\":{\"id\":\"11088\"},\"n\":{\"id\":\"11087\"},\"nodes_src\":{\"id\":\"11066\"},\"source\":{\"id\":\"11097\"}},\"code\":\"/* Color Theme -- Using Google's Material Design Color System\\n   https://material.io/design/color/the-color-system.html */\\n\\n/** @constant {string} */\\nvar PRIMARY_COLOR = '#1565c0'\\n/** @constant {string} */\\nvar PRIMARY_LIGHT_COLOR = '#5e92f3'\\n/** @constant {string} */\\nvar PRIMARY_DARK_COLOR = '#003c8f'\\n/** @constant {string} */\\nvar SECONDARY_COLOR = '#d50000'\\n/** @constant {string} */\\nvar SECONDARY_LIGHT_COLOR = '#ff5131'\\n/** @constant {string} */\\nvar SECONDARY_DARK_COLOR = '#9b0000'\\n\\n// Grayscale\\n/** @constant {string} */\\nvar TERTIARY_COLOR = '#DFDFDF'\\n/**\\n *  Jupyter Notebook: 'white', Sphinx: '#FCFCFC'\\n *  @constant {string}\\n */\\nvar TERTIARY_LIGHT_COLOR = 'white'\\n/** @constant {string} */\\nvar TERTIARY_DARK_COLOR = '#404040'\\n/** @type {integer} */\\nvar iteration = 0\\n\\n\\n/**\\n * Increment iteration and update n Div.\\n */\\nfunction increment_iteration() {\\n    if ((parseInt(n.text) + 1) < parseInt(k.text)) {\\n        n.text = (parseInt(n.text) + 1).toString()\\n    }\\n    iteration = parseInt(n.text)\\n}\\n\\n/**\\n * Decrement iteration and update n Div.\\n */\\nfunction decrement_iteration() {\\n    if ((parseInt(n.text) - 1) >= 0) {\\n        n.text = (parseInt(n.text) - 1).toString()\\n    }\\n    iteration = parseInt(n.text)\\n}\\n\\n/**\\n * Update which nodes are highlighted given the current iteration.\\n */\\nfunction nodes_update() {\\n    var in_tree = source.data['nodes'][iteration]\\n\\n    for (let i = 0; i < nodes_src.data['line_color'].length ; i++) {\\n        if (in_tree.includes(i)) {\\n            nodes_src.data['fill_color'][i] = PRIMARY_DARK_COLOR\\n            nodes_src.data['line_color'][i] = PRIMARY_DARK_COLOR\\n        } else {\\n            nodes_src.data['fill_color'][i] = PRIMARY_LIGHT_COLOR\\n            nodes_src.data['line_color'][i] = PRIMARY_DARK_COLOR\\n        }\\n    }\\n\\n    nodes_src.change.emit()\\n}\\n\\n/**\\n * Update which subset of edges are highlighted given the current iteration.\\n */\\nfunction edge_subset_update() {\\n    edge_subset_src.data['xs'] = source.data['edge_xs'][iteration]\\n    edge_subset_src.data['ys'] = source.data['edge_ys'][iteration]\\n    edge_subset_src.change.emit()\\n}\\n\\n/**\\n * Update which swaps are updated given the current iteration\\n */\\nfunction swaps_update() {\\n    swaps_src.data['swaps_before_x'] = source.data['swaps_before_x'][iteration]\\n    swaps_src.data['swaps_before_y'] = source.data['swaps_before_y'][iteration]\\n    swaps_src.data['swaps_after_x'] = source.data['swaps_after_x'][iteration]\\n    swaps_src.data['swaps_after_y'] = source.data['swaps_after_y'][iteration]\\n    swaps_src.change.emit()\\n}\\n\\n/**\\n * Update which table is shown given the current iteration.\\n */\\nfunction table_update() {\\n    table_src.data = source.data['tables'][iteration]\\n}\\n\\n/**\\n * Update which cost is shown given the current iteration.\\n */\\nfunction cost_update() {\\n    cost.text = source.data['costs'][iteration].toFixed(1)\\n}\\n\\n/**\\n * Update done Div based on the current iteration.\\n */\\nfunction done_update() {\\n    if (iteration == parseInt(k.text) - 1) {\\n        done.text = \\\"done.\\\"\\n    } else {\\n        done.text = \\\"\\\"\\n    }\\n}\\n\\n// BEGIN FUNCTION CALLING\\ndecrement_iteration()\\ndone_update()\\ncost_update()\\nedge_subset_update()\\nnodes_update()\\n\"},\"id\":\"11101\",\"type\":\"CustomJS\"},{\"attributes\":{\"callback\":null,\"renderers\":[{\"id\":\"11070\"}],\"tooltips\":[[\"Index\",\"$index\"],[\"Name\",\"@name\"]]},\"id\":\"11102\",\"type\":\"HoverTool\"},{\"attributes\":{\"data\":{\"text\":[9,8,11,9,13,15,15,14,16,15,14,14,13,37,40,9,43,41,54,10,6,11,10,24,13,19,54,8,16,14,15,10,16,12,63,9],\"x\":{\"__ndarray__\":\"AQAAAAAAPkABAAAAAIA7QAAAAAAAgENAAQAAAACAMEACAAAAAAAsQCAAAAAAAOA/BAAAAAAAGkD9/////38/QAEAAAAAADdAAgAAAAAAJ0Dw////////vwIAAAAAACBA/v////8/QUAAAAAAAKBQQAAAAAAAgE9AAQAAAACAM0AAAAAAAIBKQAAAAAAAwElAAAAAAACASEAAAAAAAKBYQAAAAAAAoFVAAAAAAAAAXUAAAAAAAGBaQAAAAAAAYFdA/v////+fXEAAAAAAAKBeQAEAAAAAcGdA/v////9fW0AAAAAAAKBXQAAAAAAAAFdAAAAAAAAAWUAAAAAAAGBdQAAAAAAAoFlAAAAAAACgVEABAAAAACBnQAAAAAAAYFRA\",\"dtype\":\"float64\",\"order\":\"little\",\"shape\":[36]},\"y\":{\"__ndarray__\":\"/v//////J0AAAAAAAAAyQAAAAAAAgDVA/v//////IUD+//////8tQP7//////y9A/v//////NED+/////383QAAAAAAAgDtAAAAAAACAOUAAAAAAAIA6QAAAAAAAwEFA/v//////PkAAAAAAAIBGQAAAAAAAAEhAAAAAAADAQkABAAAAAABMQAAAAAAAwElAAAAAAABAUEAAAAAAAEBQQAAAAAAAgFBAAAAAAABAUUAAAAAAAOBRQAAAAAAAAFJAAAAAAABgUkABAAAAAABUQAIAAAAAQE5AAAAAAACAU0AAAAAAAMBUQAAAAAAAIFNAAAAAAABAVUAAAAAAACBVQAAAAAAAYFZA///////fVEAAAAAAAGBRQAAAAAAAQFJA\",\"dtype\":\"float64\",\"order\":\"little\",\"shape\":[36]}},\"selected\":{\"id\":\"11120\"},\"selection_policy\":{\"id\":\"11119\"}},\"id\":\"11084\",\"type\":\"ColumnDataSource\"},{\"attributes\":{},\"id\":\"11119\",\"type\":\"UnionRenderers\"},{\"attributes\":{\"align\":\"center\",\"text\":\"0\",\"width\":900},\"id\":\"11087\",\"type\":\"Div\"},{\"attributes\":{\"source\":{\"id\":\"11084\"},\"text_align\":\"center\",\"text_baseline\":\"middle\",\"text_color\":{\"value\":\"black\"},\"text_font_size\":{\"value\":\"13px\"},\"x\":{\"field\":\"x\"},\"y\":{\"field\":\"y\"}},\"id\":\"11085\",\"type\":\"LabelSet\"},{\"attributes\":{\"line_alpha\":{\"value\":0.1},\"line_cap\":\"round\",\"line_color\":{\"value\":\"#404040\"},\"line_width\":{\"value\":5},\"xs\":{\"field\":\"xs\"},\"ys\":{\"field\":\"ys\"}},\"id\":\"11093\",\"type\":\"MultiLine\"},{\"attributes\":{\"data_source\":{\"id\":\"11066\"},\"glyph\":{\"id\":\"11068\"},\"hover_glyph\":null,\"muted_glyph\":null,\"nonselection_glyph\":{\"id\":\"11069\"},\"selection_glyph\":null,\"view\":{\"id\":\"11071\"}},\"id\":\"11070\",\"type\":\"GlyphRenderer\"},{\"attributes\":{},\"id\":\"11109\",\"type\":\"BasicTickFormatter\"},{\"attributes\":{\"line_cap\":\"round\",\"line_color\":{\"field\":\"line_color\"},\"line_width\":{\"value\":5},\"xs\":{\"field\":\"xs\"},\"ys\":{\"field\":\"ys\"}},\"id\":\"11075\",\"type\":\"MultiLine\"},{\"attributes\":{},\"id\":\"11053\",\"type\":\"ResetTool\"},{\"attributes\":{},\"id\":\"11116\",\"type\":\"Selection\"},{\"attributes\":{\"children\":[{\"id\":\"11100\"},{\"id\":\"11098\"}],\"max_width\":900,\"sizing_mode\":\"stretch_both\"},\"id\":\"11104\",\"type\":\"Row\"},{\"attributes\":{\"end\":96.97,\"start\":1.0299999999999994},\"id\":\"11035\",\"type\":\"Range1d\"},{\"attributes\":{\"source\":{\"id\":\"11079\"}},\"id\":\"11083\",\"type\":\"CDSView\"},{\"attributes\":{},\"id\":\"11115\",\"type\":\"UnionRenderers\"},{\"attributes\":{\"line_cap\":\"round\",\"line_color\":{\"value\":\"#404040\"},\"line_width\":{\"value\":5},\"xs\":{\"field\":\"xs\"},\"ys\":{\"field\":\"ys\"}},\"id\":\"11092\",\"type\":\"MultiLine\"},{\"attributes\":{},\"id\":\"11046\",\"type\":\"BasicTicker\"},{\"attributes\":{\"line_cap\":\"round\",\"line_color\":{\"value\":\"#404040\"},\"line_width\":{\"value\":5},\"xs\":{\"field\":\"xs\"},\"ys\":{\"field\":\"ys\"}},\"id\":\"11076\",\"type\":\"MultiLine\"},{\"attributes\":{},\"id\":\"11050\",\"type\":\"WheelZoomTool\"},{\"attributes\":{},\"id\":\"11054\",\"type\":\"HelpTool\"},{\"attributes\":{\"children\":[{\"id\":\"11096\"},{\"id\":\"11089\"}]},\"id\":\"11105\",\"type\":\"Row\"},{\"attributes\":{\"data_source\":{\"id\":\"11090\"},\"glyph\":{\"id\":\"11092\"},\"hover_glyph\":null,\"level\":\"underlay\",\"muted_glyph\":null,\"nonselection_glyph\":{\"id\":\"11093\"},\"selection_glyph\":null,\"view\":{\"id\":\"11095\"}},\"id\":\"11094\",\"type\":\"GlyphRenderer\"},{\"attributes\":{\"background_fill_color\":null,\"below\":[{\"id\":\"11041\"}],\"border_fill_color\":null,\"center\":[{\"id\":\"11044\"},{\"id\":\"11048\"},{\"id\":\"11085\"}],\"left\":[{\"id\":\"11045\"}],\"outline_line_color\":null,\"plot_height\":500,\"plot_width\":900,\"renderers\":[{\"id\":\"11070\"},{\"id\":\"11077\"},{\"id\":\"11082\"},{\"id\":\"11094\"}],\"title\":{\"id\":\"11031\"},\"toolbar\":{\"id\":\"11056\"},\"toolbar_location\":null,\"x_range\":{\"id\":\"11033\"},\"x_scale\":{\"id\":\"11037\"},\"y_range\":{\"id\":\"11035\"},\"y_scale\":{\"id\":\"11039\"}},\"id\":\"11030\",\"subtype\":\"Figure\",\"type\":\"Plot\"},{\"attributes\":{\"data_source\":{\"id\":\"11072\"},\"glyph\":{\"id\":\"11074\"},\"hover_glyph\":{\"id\":\"11076\"},\"level\":\"underlay\",\"muted_glyph\":null,\"nonselection_glyph\":{\"id\":\"11075\"},\"selection_glyph\":null,\"view\":{\"id\":\"11078\"}},\"id\":\"11077\",\"type\":\"GlyphRenderer\"},{\"attributes\":{\"source\":{\"id\":\"11090\"}},\"id\":\"11095\",\"type\":\"CDSView\"},{\"attributes\":{},\"id\":\"11120\",\"type\":\"Selection\"},{\"attributes\":{\"end\":271.845,\"start\":-28.845000000000002},\"id\":\"11033\",\"type\":\"Range1d\"},{\"attributes\":{\"data\":{\"fill_color\":[\"#5e92f3\",\"#5e92f3\",\"#5e92f3\",\"#5e92f3\",\"#5e92f3\",\"#5e92f3\",\"#5e92f3\",\"#5e92f3\",\"#5e92f3\",\"#5e92f3\",\"#5e92f3\",\"#5e92f3\",\"#5e92f3\",\"#5e92f3\",\"#5e92f3\",\"#5e92f3\",\"#5e92f3\",\"#5e92f3\",\"#5e92f3\"],\"line_color\":[\"#003c8f\",\"#003c8f\",\"#003c8f\",\"#003c8f\",\"#003c8f\",\"#003c8f\",\"#003c8f\",\"#003c8f\",\"#003c8f\",\"#003c8f\",\"#003c8f\",\"#003c8f\",\"#003c8f\",\"#003c8f\",\"#003c8f\",\"#003c8f\",\"#003c8f\",\"#003c8f\",\"#003c8f\"],\"line_width\":[3,3,3,3,3,3,3,3,3,3,3,3,3,3,3,3,3,3,3],\"x\":[35,26,-7,43,25,8,20,3,13,85,115,107,80,90,125,120,83,104,250],\"y\":[16,35,22,27,8,10,20,31,40,90,80,67,77,63,71,89,69,76,50]},\"selected\":{\"id\":\"11112\"},\"selection_policy\":{\"id\":\"11111\"}},\"id\":\"11066\",\"type\":\"ColumnDataSource\"}],\"root_ids\":[\"11129\"]},\"title\":\"Bokeh Application\",\"version\":\"2.2.3\"}};\n",
       "  var render_items = [{\"docid\":\"07100194-fa62-4853-88c5-6d7161e6f1e5\",\"root_ids\":[\"11129\"],\"roots\":{\"11129\":\"2d27a0b7-8d0a-4dd0-bb1c-29a7ffec91d6\"}}];\n",
       "  root.Bokeh.embed.embed_items_notebook(docs_json, render_items);\n",
       "\n",
       "  }\n",
       "  if (root.Bokeh !== undefined) {\n",
       "    embed_document(root);\n",
       "  } else {\n",
       "    var attempts = 0;\n",
       "    var timer = setInterval(function(root) {\n",
       "      if (root.Bokeh !== undefined) {\n",
       "        clearInterval(timer);\n",
       "        embed_document(root);\n",
       "      } else {\n",
       "        attempts++;\n",
       "        if (attempts > 100) {\n",
       "          clearInterval(timer);\n",
       "          console.log(\"Bokeh: ERROR: Unable to run BokehJS code because BokehJS library is missing\");\n",
       "        }\n",
       "      }\n",
       "    }, 10, root)\n",
       "  }\n",
       "})(window);"
      ],
      "application/vnd.bokehjs_exec.v0+json": ""
     },
     "metadata": {
      "application/vnd.bokehjs_exec.v0+json": {
       "id": "11129"
      }
     },
     "output_type": "display_data"
    }
   ],
   "source": [
    "# Load the data and create a graph G\n",
    "nodes = pd.read_csv('data/cluster3.csv', index_col=0)\n",
    "edges = pd.read_csv('data/cluster3_edges.csv', index_col=0)\n",
    "G = vl.create_network(nodes, edges)\n",
    "\n",
    "# Plot the graph G\n",
    "show(vl.mst_algorithm_plot(G, algorithm='kruskals', width=900, height=500))"
   ]
  },
  {
   "cell_type": "markdown",
   "metadata": {},
   "source": [
    "Thus, we have identified all the outliers, and after removing them, we have already seen how the clusters can be found. \n",
    "\n",
    "We can apply this method to large data sets, like the taxi data from New York City 2014. We have data for how many taxis were hailed in every 15 minute period of every day of 2014. This data is visualized in the below image, and it is easy to see that there are patterns for each day. We can try to form clusters separating the days so that they can be identified be whether or not they are a weekend. However, even looking at the data quickly, one can see that there are many outliers, that do not fall into any set pattern. We need to remove these outliers. By using the method above, the outliers were identified one by one, and they were found to be special days, like holidays or the days around holidays, where the pattern is not like any other day. These days were often characterized by very few riders and so days with less than 70,000 total riders were removed, as were the 1st and 2nd of January, 31st of December, Martin Luther King's day, President's day, and the start and end of daylight savings time. This left us with a set of 344 days. We can then form clusters on this data, classifying a node based on whether it is a weekday or a weekend."
   ]
  },
  {
   "cell_type": "markdown",
   "metadata": {},
   "source": [
    "<img src=\"images/taxi_ride_frequency.png\" width=\"1000\" />"
   ]
  },
  {
   "cell_type": "markdown",
   "metadata": {},
   "source": [
    "After removing the outliers, the clusters we get are as below. The weekdays are the red nodes, Saturdays are green, and Sundays are Blue. Note that even though the Saturdays and Sundays look separated, they are part of the same cluster (connected by an edge in the tree). This is because while we could try to separate the data into three clusters, the data is too similar for Kruskal's to not select the edge that connects the Saturdays to the Sundays."
   ]
  },
  {
   "cell_type": "markdown",
   "metadata": {},
   "source": [
    "<img src=\"images/cg.graphml.png\" width=\"1000\" />"
   ]
  }
 ],
 "metadata": {
  "kernelspec": {
   "display_name": "Python 3",
   "language": "python",
   "name": "python3"
  },
  "language_info": {
   "codemirror_mode": {
    "name": "ipython",
    "version": 3
   },
   "file_extension": ".py",
   "mimetype": "text/x-python",
   "name": "python",
   "nbconvert_exporter": "python",
   "pygments_lexer": "ipython3",
   "version": "3.7.10"
  }
 },
 "nbformat": 4,
 "nbformat_minor": 4
}
