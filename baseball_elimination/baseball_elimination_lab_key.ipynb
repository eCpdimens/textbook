{
 "cells": [
  {
   "cell_type": "markdown",
   "metadata": {
    "colab_type": "text",
    "id": "PSaWiBAnFArR"
   },
   "source": [
    "# The Baseball Elimination Problem <font color='blue'>(Solution Key)</font>\n",
    "\n",
    "**Objectives:**\n",
    "* Introduce students to a sophisticated formulation using the\n",
    "maximum flow problem.\n",
    "* Demonstrate how to solve the application by the\n",
    "Ford-Fulkerson algorithm.\n",
    "\n",
    "**Key Ideas:**\n",
    "* integrality property\n",
    "* max-flow min-cut theorem\n",
    "* the baseball elimination problem\n",
    "\n",
    "**Reading Assignment:**\n",
    "* Read Handout 6 on the baseball elimination problem.\n",
    "\n",
    "**Brief description:** In this lab, we will learn how to formulate the so-called baseball elimination problem as a maximum flow problem and use the output of the Ford-Fulkerson algorithm to determine whether a team can still win the division, and if not, why. We will again use the Python package NetworkX."
   ]
  },
  {
   "cell_type": "markdown",
   "metadata": {
    "colab_type": "text",
    "id": "dj9789P7Fvj9"
   },
   "source": [
    "\n",
    "You have seen an example for the Baseball Elimination Problem in\n",
    "class. Recall that the data for this problem consists of the following:\n",
    "* a collection of teams $1, 2, \\ldots, n$,\n",
    "* the number of games $g(i,j)$ remaining to be played between teams $i$ and $j$ for all pairs of teams $i$ and $j$,\n",
    "* the number of wins $w(i)$ team $i$ already has.\n",
    "\n",
    "We would like to determine if team $n$ (our favorite) has\n",
    "been eliminated already: that is, even if team $n$ wins all\n",
    "of its remaining games, no matter how the games between the other\n",
    "teams turn out, there will always be some team with more wins than\n",
    "team $n$ at the end of the season.  If it is possible for\n",
    "team $n$ to finish the season at least tied for first, then\n",
    "it has not been eliminated.\n",
    "\n",
    "Consider the following data for a 4 team league:\n",
    "\n",
    "Team | Wins \n",
    "--- | ---\n",
    "1 | 8 \n",
    "2 | 10\n",
    "3 | 10\n",
    "4 | 1\n",
    "\n",
    "Games remaining to be played:\n",
    "\n",
    "vs. | 1 | 2 | 3 | 4\n",
    " -- | -- | -- | -- | --\n",
    "**1** | - | 3 | 3 | 6\n",
    "**2** | 3 | - | 6 | 3\n",
    "**3** | 3 | 6 | - | 3\n",
    "**4** | 6 | 3 | 3 | -\n",
    "\n",
    "\n",
    "Our team (team 4) didn't do very well so far. We would like\n",
    "to determine whether it still has a chance to finish first at the end\n",
    "of the season (we are satisfied with a tie for first place as\n",
    "well).  \n",
    "**Q1:** How many games can team 4 possibly win during the\n",
    "season? Call this number $W$."
   ]
  },
  {
   "cell_type": "code",
   "execution_count": 1,
   "metadata": {
    "colab": {},
    "colab_type": "code",
    "id": "9qS_3TFuIt0o"
   },
   "outputs": [],
   "source": [
    "W = 13"
   ]
  },
  {
   "cell_type": "markdown",
   "metadata": {
    "colab_type": "text",
    "id": "g-O6lbqKIzkU"
   },
   "source": [
    "Team 4 finishes first if no other team wins more games than\n",
    "$W$.  \n",
    "**Q2:** What if (hypothetically) team 1 already had 14 wins? Can our team come out first?"
   ]
  },
  {
   "cell_type": "markdown",
   "metadata": {
    "colab_type": "text",
    "id": "eF2LAne-I8yf"
   },
   "source": [
    "*Answer:* <font color='blue'>No, team 4 could have at most 1 + 12 = 13 wins by the end of the season and team 1 already has 14</font>"
   ]
  },
  {
   "cell_type": "markdown",
   "metadata": {},
   "source": [
    "<font color='red'>* Not exactly sure how to interpret Q3 and Q4 (9/4/20)</font>"
   ]
  },
  {
   "cell_type": "markdown",
   "metadata": {
    "colab_type": "text",
    "id": "mE4OW_U6JG7R"
   },
   "source": [
    "Team 1 has already won 8 games.  \n",
    "**Q3:** At most how many\n",
    "more games is this team allowed to win if we want to make sure\n",
    "that our team comes out first? What about teams 2 and 3?"
   ]
  },
  {
   "cell_type": "markdown",
   "metadata": {
    "colab_type": "text",
    "id": "FcNxvkUpJNM8"
   },
   "source": [
    "*Answer:*  <font color='blue'> An upper bound on the number of games team 1 could win is 13 - 8 = 5. Teams 2 and 3 could win at most 3 more games.</font>"
   ]
  },
  {
   "cell_type": "markdown",
   "metadata": {
    "colab_type": "text",
    "id": "otUWl4yEJTp7"
   },
   "source": [
    "**Q4:** How can you express this amount in general (in terms of $W$ and $w(i)$)\n",
    "for team $i$?"
   ]
  },
  {
   "cell_type": "markdown",
   "metadata": {
    "colab_type": "text",
    "id": "uelaP3KNJXze"
   },
   "source": [
    "*Answer:* <font color='blue'> $W - w(i)$</font>"
   ]
  },
  {
   "cell_type": "markdown",
   "metadata": {},
   "source": [
    "<font color='red'>* Maybe stating the team 4 wins all assumption earlier helps to clarify Q3 and Q4</font>"
   ]
  },
  {
   "cell_type": "markdown",
   "metadata": {
    "colab_type": "text",
    "id": "wiNG-0XCJgus"
   },
   "source": [
    "If one of two teams scheduled to play is team 4, then we assume\n",
    "that the game outcome is decided in our favor. For the rest of the games, we\n",
    "would like to assign a winner so that no team wins more games than the\n",
    "number determined above. So for each pair of teams (other than those\n",
    "containing our team) we would like to decide how many of the leftover\n",
    "games between them are going to be won by one team or the other.\n",
    "\n",
    "\n",
    "To illustrate this, we draw two sets of nodes: one set for all the\n",
    "pairs of teams not containing our team (these will be called the \n",
    "*pair nodes*) and another one for the individual teams (these are\n",
    "called the *team nodes*). We can interpret $g(i,j)$, the number of \n",
    "games remaining to be played between teams $i$ and $j$, as the amount\n",
    "of \"excess games\" at the pair node. These games need to be \"distributed\" \n",
    "between the two corresponding team nodes as represented by edges.  \n",
    "\n",
    "**Q5:** Complete the following code and run the cell to add edges to our graph.\n"
   ]
  },
  {
   "cell_type": "code",
   "execution_count": 2,
   "metadata": {
    "colab": {
     "base_uri": "https://localhost:8080/",
     "height": 248
    },
    "colab_type": "code",
    "executionInfo": {
     "elapsed": 788,
     "status": "ok",
     "timestamp": 1593795475047,
     "user": {
      "displayName": "David Williamson",
      "photoUrl": "",
      "userId": "05809819013017635720"
     },
     "user_tz": 240
    },
    "id": "B_ooJ7YQIaX_",
    "outputId": "d4bfcc31-ea9a-4027-919e-354264ebae8e"
   },
   "outputs": [
    {
     "data": {
      "image/png": "[encoded data removed]",
      "text/plain": [
       "<Figure size 432x288 with 1 Axes>"
      ]
     },
     "metadata": {},
     "output_type": "display_data"
    }
   ],
   "source": [
    "import networkx as nx\n",
    "\n",
    "G = nx.DiGraph()\n",
    "# pair nodes\n",
    "G.add_node('1,2', pos=(10,30))\n",
    "G.add_node('1,3', pos=(10,20))\n",
    "G.add_node('2,3', pos=(10,10))\n",
    "# team nodes\n",
    "G.add_node('1', pos=(20,30))\n",
    "G.add_node('2', pos=(20,20))\n",
    "G.add_node('3', pos=(20,10))\n",
    "\n",
    "# FILL IN THE EDGES --remember that they are directed edges, so the order of endpoints matter\n",
    "G.add_edge('1,2', '1')\n",
    "G.add_edge('1,2', '2')\n",
    "G.add_edge('1,3', '1')\n",
    "G.add_edge('1,3', '3')\n",
    "G.add_edge('2,3', '2')\n",
    "G.add_edge('2,3', '3')\n",
    "\n",
    "# graph display\n",
    "pos=nx.get_node_attributes(G,'pos')\n",
    "nx.draw_networkx(G,pos,node_size=1000,node_color='r')"
   ]
  },
  {
   "cell_type": "markdown",
   "metadata": {
    "colab_type": "text",
    "id": "yUAdR8hpN3u5"
   },
   "source": [
    "To make a single-source single-sink flow problem from\n",
    "this model, we introduce two nodes: a node which is the \"source\n",
    "of all games\" and a node which is the \"sink of all played\n",
    "games\".  \n",
    "**Q6:** What should be the capacity of (source, pair node) arcs? What about (team node, sink) arcs? Fill in the capacity values missing in the code below and run the cell to display the graph."
   ]
  },
  {
   "cell_type": "markdown",
   "metadata": {},
   "source": [
    "<font color='blue'>* We make the capacity of $(s,(i,j))$ edges equal to the number of games left to play $g(i,j)$ and the capacity of $(i,t)$ edges equal to the maxium number of games team $i$ can win $W - w(i)$</font>"
   ]
  },
  {
   "cell_type": "code",
   "execution_count": 3,
   "metadata": {
    "colab": {
     "base_uri": "https://localhost:8080/",
     "height": 248
    },
    "colab_type": "code",
    "executionInfo": {
     "elapsed": 772,
     "status": "ok",
     "timestamp": 1593796225688,
     "user": {
      "displayName": "David Williamson",
      "photoUrl": "",
      "userId": "05809819013017635720"
     },
     "user_tz": 240
    },
    "id": "YvHHzMzUnvsP",
    "outputId": "654be0c5-064f-4196-fbe3-20e145ff7a75"
   },
   "outputs": [
    {
     "data": {
      "image/png": "[encoded data removed]",
      "text/plain": [
       "<Figure size 432x288 with 1 Axes>"
      ]
     },
     "metadata": {},
     "output_type": "display_data"
    }
   ],
   "source": [
    "# adding our source node and sink node\n",
    "G.add_node('s', pos=(0,20))\n",
    "G.add_node('t', pos=(30,20))\n",
    "\n",
    "# FILL IN THE CAPACITIES\n",
    "G.add_edge('s', '1,2', capacity = 3)\n",
    "G.add_edge('s', '1,3', capacity = 3)\n",
    "G.add_edge('s', '2,3', capacity = 6)\n",
    "G.add_edge('1', 't', capacity = 5)\n",
    "G.add_edge('2', 't', capacity = 3)\n",
    "G.add_edge('3', 't', capacity = 3)\n",
    "\n",
    "# graph display\n",
    "pos=nx.get_node_attributes(G,'pos')\n",
    "cap=nx.get_edge_attributes(G,'capacity')\n",
    "nx.draw_networkx(G,pos,node_size=1000,node_color='r')\n",
    "nx.draw_networkx_edge_labels(G,pos,edge_labels=cap);"
   ]
  },
  {
   "cell_type": "markdown",
   "metadata": {
    "colab_type": "text",
    "id": "qE5XMv9pqQq9"
   },
   "source": [
    "**Q7:** In class, we used capacities\n",
    "of $\\infty$ on the (pair node, team node) arcs.  Why is this\n",
    "appropriate?"
   ]
  },
  {
   "cell_type": "markdown",
   "metadata": {
    "colab_type": "text",
    "id": "vSeq-96qqS40"
   },
   "source": [
    "*Answer:* <font color='blue'> The flow on (pair node, team node) edges can only be as great as the number of games left for pair (i,j) to play. Either team can win any number of the remaining games so it is appropriate to assign capacities of $\\infty$ to these edges</font>"
   ]
  },
  {
   "cell_type": "markdown",
   "metadata": {
    "colab_type": "text",
    "id": "lTtEy__MOpGj"
   },
   "source": [
    "**Q8:** What does a feasible flow, with all integer flow values,\n",
    "in the above network correspond to? How can we interpret the value\n",
    "of a flow?"
   ]
  },
  {
   "cell_type": "markdown",
   "metadata": {
    "colab_type": "text",
    "id": "LH2UznxcOtVU"
   },
   "source": [
    "*Answer:* <font color='blue'>* We can interpret the flow on $(s,(i,j))$ to be the number of new games played between teams $i$ and $j$, $((i,j), i)$ arcs to be the number of games team $i$ won aganist team $j$, and $(i,t)$ arcs to be the total number of addtional wins team $i$ has. </font>"
   ]
  },
  {
   "cell_type": "markdown",
   "metadata": {
    "colab_type": "text",
    "id": "boRLl9-MOybr"
   },
   "source": [
    "**Q9:** How can we tell whether our team is eliminated by solving the maximum\n",
    "flow problem on the above network? What has to be the value of the\n",
    "maximum flow if our team is not eliminated?"
   ]
  },
  {
   "cell_type": "markdown",
   "metadata": {
    "colab_type": "text",
    "id": "wszrAjToOz7t"
   },
   "source": [
    "*Answer:* <font color='blue'>* The max flow must be equal to the total number of games remaining between all teams $(i,j)$ where $i \\neq 4$ and $j \\neq 4$. This corresponds to an outcome in which all the remaining games are played and no other team gets strictly more wins than team 4.</font> "
   ]
  },
  {
   "cell_type": "markdown",
   "metadata": {
    "colab_type": "text",
    "id": "N9ldfUw3O5H7"
   },
   "source": [
    "**Q10:** Solve the maximum flow problem on the above network with\n",
    "the Ford-Fulkerson algorithm. What is the value of the maximum\n",
    "flow? What is the maximum flow (i.e. the actual flows on the\n",
    "arcs)? What about the minimum cut (i.e., which nodes are on the $s$ side, which on the $t$)?"
   ]
  },
  {
   "cell_type": "markdown",
   "metadata": {
    "colab_type": "text",
    "id": "ga7XN5MuO8r8"
   },
   "source": [
    "*Answer:* <font color='blue'>* The max flow is 11 where $$f(2,(1,2)) = 3, f((1,2),1) = 3, f(s,(1,3)) = 2, f((1,3),1) = 2, f(s,(2,3)) = 6, f((2,3),2) = 3, f((2,3),3) = 3,$$ $$f(1,t) = 5, f(2,t) = 3, f(3,t) = 3$$. The minimum cut is $S \\setminus \\{t\\}$. </font>  "
   ]
  },
  {
   "cell_type": "markdown",
   "metadata": {
    "colab_type": "text",
    "id": "h9IjPFxNqdyC"
   },
   "source": [
    "Check your answer by running the following cell, which will compute a maximum flow in the graph $G$ we defined previously."
   ]
  },
  {
   "cell_type": "code",
   "execution_count": 4,
   "metadata": {
    "colab": {
     "base_uri": "https://localhost:8080/",
     "height": 256
    },
    "colab_type": "code",
    "executionInfo": {
     "elapsed": 622,
     "status": "ok",
     "timestamp": 1593639573306,
     "user": {
      "displayName": "David Williamson",
      "photoUrl": "",
      "userId": "05809819013017635720"
     },
     "user_tz": 240
    },
    "id": "LqWiuBsGQqLx",
    "outputId": "0e646f5a-70b4-4d18-b95a-da71577cb757"
   },
   "outputs": [
    {
     "name": "stdout",
     "output_type": "stream",
     "text": [
      "The value of the flow is 11\n",
      "The flow on the arc from 1,2 to 1 is 3\n",
      "The flow on the arc from 1,2 to 2 is 0\n",
      "The flow on the arc from 1,3 to 1 is 2\n",
      "The flow on the arc from 1,3 to 3 is 0\n",
      "The flow on the arc from 2,3 to 2 is 3\n",
      "The flow on the arc from 2,3 to 3 is 3\n",
      "The flow on the arc from 1 to t is 5\n",
      "The flow on the arc from 2 to t is 3\n",
      "The flow on the arc from 3 to t is 3\n",
      "The flow on the arc from s to 1,2 is 3\n",
      "The flow on the arc from s to 1,3 is 2\n",
      "The flow on the arc from s to 2,3 is 6\n"
     ]
    }
   ],
   "source": [
    "flow_value, flow = nx.maximum_flow(G, 's', 't')\n",
    "print(\"The value of the flow is\", flow_value)\n",
    "for i, j in G.edges:\n",
    "    print(\"The flow on the arc from \"+i+\" to \"+j+\" is\",flow[i][j])"
   ]
  },
  {
   "cell_type": "markdown",
   "metadata": {
    "colab_type": "text",
    "id": "NYZTsa99qwLH"
   },
   "source": [
    "**Q11:** Has our team been eliminated already or not yet? If it\n",
    "hasn't been eliminated, give a short scenario (i.e. a way\n",
    "for the remaining games to turn out) by which our team could end\n",
    "the season at least tied for first place. If it has been\n",
    "eliminated, give a short explanation why. (Imagine you are trying\n",
    "to explain it to a friend who doesn't know anything about the max\n",
    "flow or min cut problems.)"
   ]
  },
  {
   "cell_type": "markdown",
   "metadata": {
    "colab_type": "text",
    "id": "Z30dlYrBq2m5"
   },
   "source": [
    "*Answer:* <font color='blue'>* Our team has been eliminated. We can only play 11 of the remaining 12 games before another team must have more wins than team 4. </font>  "
   ]
  },
  {
   "cell_type": "markdown",
   "metadata": {
    "colab_type": "text",
    "id": "icUAE5SGq5Xu"
   },
   "source": [
    "**Q12a:** If team 4 was not eliminated, then how many games from the\n",
    "rest of the season could it lose and still come in first place?\n",
    "Does it matter which of its remaining games it loses?"
   ]
  },
  {
   "cell_type": "markdown",
   "metadata": {
    "colab_type": "text",
    "id": "ONCWUuaoq-M4"
   },
   "source": [
    "*Answer:* <font color='blue'>* N/A </font>  "
   ]
  },
  {
   "cell_type": "markdown",
   "metadata": {
    "colab_type": "text",
    "id": "pzUMldDPrFd2"
   },
   "source": [
    "**Q12b:** If team 4 was eliminated, how many additional games should it\n",
    "have won from the first part of the season in order to have prevented\n",
    "this early end to its competitive season? Does it matter against which \n",
    "teams these additional win(s) come from?"
   ]
  },
  {
   "cell_type": "markdown",
   "metadata": {
    "colab_type": "text",
    "id": "CCtXcuL5rLLt"
   },
   "source": [
    "*Answer:* <font color='blue'>* Team 4 just needed one additonal win. It does not matter who this win was aganist. </font>  "
   ]
  },
  {
   "cell_type": "markdown",
   "metadata": {
    "colab_type": "text",
    "id": "TeeYIWVRrVxx"
   },
   "source": [
    "Now assume that team 3 had only 9 wins (the total\n",
    "number of games is one less than previously).  \n",
    "**Q13:** How is the network going to change? Will team 4 be eliminated in this case? Also answer Q11 and Q12a/b for this case."
   ]
  },
  {
   "cell_type": "markdown",
   "metadata": {
    "colab_type": "text",
    "id": "d6Xc25bPrdON"
   },
   "source": [
    "*Answer:* <font color='blue'>* The edge $(3,t)$ now has capacity 4. There is now a max flow with value 12. Hence, team 4 will not be eliminated. They must win all of their remaining games. </font>  "
   ]
  },
  {
   "cell_type": "markdown",
   "metadata": {
    "colab_type": "text",
    "id": "PhkXQnpqrh8Y"
   },
   "source": [
    "---\n",
    "Here is the data from another season.\n",
    "\n",
    "Team | Wins \n",
    "--- | ---\n",
    "1 | 7\n",
    "2 | 7\n",
    "3 | 3\n",
    "4 | 3\n",
    "\n",
    "Games remaining to be played:\n",
    "\n",
    "vs. | 1 | 2 | 3 | 4\n",
    " -- | -- | -- | -- | --\n",
    "**1** | - | 3 | 1 | 1\n",
    "**2** | 3 | - | 1 | 1\n",
    "**3** | 1 | 1 | - | 3\n",
    "**4** | 1 | 1 | 3 | -\n",
    "\n",
    "**Q14:** Finish the code and run the cell to display the new graph. We once again are cheering for team 4.  "
   ]
  },
  {
   "cell_type": "code",
   "execution_count": 5,
   "metadata": {
    "colab": {
     "base_uri": "https://localhost:8080/",
     "height": 248
    },
    "colab_type": "code",
    "executionInfo": {
     "elapsed": 654,
     "status": "ok",
     "timestamp": 1593796746681,
     "user": {
      "displayName": "David Williamson",
      "photoUrl": "",
      "userId": "05809819013017635720"
     },
     "user_tz": 240
    },
    "id": "d2Iz_l-4rK7R",
    "outputId": "80eab3ba-f4f0-42aa-cbb7-8a44737f5776"
   },
   "outputs": [
    {
     "data": {
      "image/png": "[encoded data removed]",
      "text/plain": [
       "<Figure size 432x288 with 1 Axes>"
      ]
     },
     "metadata": {},
     "output_type": "display_data"
    }
   ],
   "source": [
    "# creating a new graph\n",
    "G = nx.DiGraph()\n",
    "G.add_node('s', pos=(0,20))\n",
    "G.add_node('t', pos=(30,20))\n",
    "G.add_node('1,2', pos=(10,30))\n",
    "G.add_node('1,3', pos=(10,20))\n",
    "G.add_node('2,3', pos=(10,10))\n",
    "G.add_node('1', pos=(20,30))\n",
    "G.add_node('2', pos=(20,20))\n",
    "G.add_node('3', pos=(20,10))\n",
    "\n",
    "# FILL IN THE EDGES --remember that they are directed edges, so the order of endpoints matter\n",
    "G.add_edge('1,2', '1')\n",
    "G.add_edge('1,2', '2')\n",
    "G.add_edge('1,3', '1')\n",
    "G.add_edge('1,3', '3')\n",
    "G.add_edge('2,3', '2')\n",
    "G.add_edge('2,3', '3')\n",
    "\n",
    "# FILL IN THE CAPACITIES\n",
    "G.add_edge('s', '1,2', capacity = 3)\n",
    "G.add_edge('s', '1,3', capacity = 1)\n",
    "G.add_edge('s', '2,3', capacity = 1)\n",
    "G.add_edge('1', 't', capacity = 1)\n",
    "G.add_edge('2', 't', capacity = 1)\n",
    "G.add_edge('3', 't', capacity = 5)\n",
    "\n",
    "pos=nx.get_node_attributes(G,'pos')\n",
    "cap=nx.get_edge_attributes(G,'capacity')\n",
    "nx.draw_networkx(G,pos,node_size=1000,node_color='r')\n",
    "nx.draw_networkx_edge_labels(G,pos,edge_labels=cap);"
   ]
  },
  {
   "cell_type": "markdown",
   "metadata": {},
   "source": [
    "**Q15:** Can you tell if team 4 is eliminated or not? If the team is not yet eliminated, give a short scenario where the team comes out first. If the team is eliminated, explain why this happened to your friend who doesn't know anything about Operations Research."
   ]
  },
  {
   "cell_type": "markdown",
   "metadata": {
    "colab_type": "text",
    "id": "gxeEQIyhsflR"
   },
   "source": [
    "*Answer:* <font color='blue'>* Team 4 is eliminated. Both teams 1 and 2 can only win one more game but they must play each other 3 more times. Hence, one of them will have two more wins. </font>  "
   ]
  },
  {
   "cell_type": "markdown",
   "metadata": {
    "colab_type": "text",
    "id": "nSfbPFiXuYFM"
   },
   "source": [
    "**Q16:** Going back to the general formulation of the Baseball\n",
    "Elimination Problem given at the beginning of this lab, how many\n",
    "pair nodes and how many team nodes are we going to have if the\n",
    "number of teams is $n$?"
   ]
  },
  {
   "cell_type": "markdown",
   "metadata": {
    "colab_type": "text",
    "id": "Hn0rs8cKucCK"
   },
   "source": [
    "*Answer:* <font color='blue'>* We will have $n-1$ team nodes and $(n-1)^2 - (n-1)$ pair nodes </font>  "
   ]
  },
  {
   "cell_type": "markdown",
   "metadata": {
    "colab_type": "text",
    "id": "5P45i-HlufYF"
   },
   "source": [
    "**Q17:** Write down in terms of the general formulation what the\n",
    "nodes, arcs and arc capacities correspond to."
   ]
  },
  {
   "cell_type": "markdown",
   "metadata": {
    "colab_type": "text",
    "id": "jb4Xdc9CukHd"
   },
   "source": [
    "*Answer:* <font color='blue'>* We have a source $s$ and sink $t$. Furthermore, we have a pair node $(i,j)$ for every pair of teams $(i,j)$ where $i \\neq 4$ and $j \\neq 4$ and team node $i$ for all teams $i \\neq 4$. We have arcs $(s,(i,j))$ with capacity equal to the number of games left to play between teams $i$ and $j$, arcs $((i,j),i)$ and $((i,j),j)$ with capacity $\\infty$, and arcs $(i,t)$ with capacity $W - w(i)$ </font>  "
   ]
  },
  {
   "cell_type": "markdown",
   "metadata": {
    "colab_type": "text",
    "id": "IvEo5HF2umrF"
   },
   "source": [
    "**Q18:** What can you say about the value of the maximum flow if\n",
    "team $n$ is eliminated? How can you use the minimum cut to\n",
    "explain to your friend why team $n$ is eliminated?"
   ]
  },
  {
   "cell_type": "markdown",
   "metadata": {
    "colab_type": "text",
    "id": "JlC7Cp35utLW"
   },
   "source": [
    "*Answer:* <font color='blue'>* The value of the maximum flow will be strictly less than the total number of remaining games. The minimum cut represents the total number of remaining games that can be played before team $n$ is eliminated. If the minimum cut is less than the total number of remaining games, then team $n$ must be elimnated. </font>  "
   ]
  },
  {
   "cell_type": "markdown",
   "metadata": {
    "colab_type": "text",
    "id": "PIDG6Tuhuvzx"
   },
   "source": [
    "**Q19:** Is it possible for a minimum $s$-$t$ cut in the general\n",
    "network to have infinite capacity? Why?\n"
   ]
  },
  {
   "cell_type": "markdown",
   "metadata": {
    "colab_type": "text",
    "id": "1EJsVeLeu0kS"
   },
   "source": [
    "*Answer:* <font color='blue'>* No, consider the cut $S \\setminus \\{t\\}$. The edges $(i,j)$ where $i \\in S$ and $j \\notin S$ will all be of the form $(i,t)$. All edges of this form have finite capacity. Thus, this cut always has finite capacity. Hence, there can not be a minimum cut with infinite capacity because this would imply no cut had finite capacity.</font>  "
   ]
  }
 ],
 "metadata": {
  "colab": {
   "authorship_tag": "ABX9TyP3FZuPiQJApTnk5upRT/Q5",
   "collapsed_sections": [],
   "name": "Baseball Elimination Lab.ipynb",
   "provenance": []
  },
  "kernelspec": {
   "display_name": "Python 3",
   "language": "python",
   "name": "python3"
  },
  "language_info": {
   "codemirror_mode": {
    "name": "ipython",
    "version": 3
   },
   "file_extension": ".py",
   "mimetype": "text/x-python",
   "name": "python",
   "nbconvert_exporter": "python",
   "pygments_lexer": "ipython3",
   "version": "3.7.7"
  }
 },
 "nbformat": 4,
 "nbformat_minor": 1
}
