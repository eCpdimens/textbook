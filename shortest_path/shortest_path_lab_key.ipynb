{
 "cells": [
  {
   "cell_type": "markdown",
   "metadata": {},
   "source": [
    "# Shortest Path Problem"
   ]
  },
  {
   "cell_type": "markdown",
   "metadata": {},
   "source": [
    "**Objectives**\n",
    "\n",
    "- Introduce students to the concept of a shortest path tree\n",
    "- Show students the inner workings of a combinatorial algorithm\n",
    "- Demonstrate the usefulness of sensitivity analysis in problem solving\n",
    "\n",
    "**Reading:** Read Handout 3 on the shortest path problem.\n",
    "\n",
    "**Brief description:** In this lab, we review some motivation and observations behind Dijkstra's algorithm for shortest path computation, and analyze how sensitive the solution to the shortest path problem is to changes in the input data.\n",
    "\n",
    "<font color='blue'> <b>Solutions are shown blue.</b> </font> <br>\n",
    "<font color='red'> <b>Instuctor comments are shown in red.</b> </font>"
   ]
  },
  {
   "cell_type": "code",
   "execution_count": 1,
   "metadata": {},
   "outputs": [
    {
     "data": {
      "text/html": [
       "\n",
       "    <div class=\"bk-root\">\n",
       "        <a href=\"https://bokeh.org\" target=\"_blank\" class=\"bk-logo bk-logo-small bk-logo-notebook\"></a>\n",
       "        <span id=\"1001\">Loading BokehJS ...</span>\n",
       "    </div>"
      ]
     },
     "metadata": {},
     "output_type": "display_data"
    },
    {
     "data": {
      "application/javascript": [
       "\n",
       "(function(root) {\n",
       "  function now() {\n",
       "    return new Date();\n",
       "  }\n",
       "\n",
       "  var force = true;\n",
       "\n",
       "  if (typeof root._bokeh_onload_callbacks === \"undefined\" || force === true) {\n",
       "    root._bokeh_onload_callbacks = [];\n",
       "    root._bokeh_is_loading = undefined;\n",
       "  }\n",
       "\n",
       "  var JS_MIME_TYPE = 'application/javascript';\n",
       "  var HTML_MIME_TYPE = 'text/html';\n",
       "  var EXEC_MIME_TYPE = 'application/vnd.bokehjs_exec.v0+json';\n",
       "  var CLASS_NAME = 'output_bokeh rendered_html';\n",
       "\n",
       "  /**\n",
       "   * Render data to the DOM node\n",
       "   */\n",
       "  function render(props, node) {\n",
       "    var script = document.createElement(\"script\");\n",
       "    node.appendChild(script);\n",
       "  }\n",
       "\n",
       "  /**\n",
       "   * Handle when an output is cleared or removed\n",
       "   */\n",
       "  function handleClearOutput(event, handle) {\n",
       "    var cell = handle.cell;\n",
       "\n",
       "    var id = cell.output_area._bokeh_element_id;\n",
       "    var server_id = cell.output_area._bokeh_server_id;\n",
       "    // Clean up Bokeh references\n",
       "    if (id != null && id in Bokeh.index) {\n",
       "      Bokeh.index[id].model.document.clear();\n",
       "      delete Bokeh.index[id];\n",
       "    }\n",
       "\n",
       "    if (server_id !== undefined) {\n",
       "      // Clean up Bokeh references\n",
       "      var cmd = \"from bokeh.io.state import curstate; print(curstate().uuid_to_server['\" + server_id + \"'].get_sessions()[0].document.roots[0]._id)\";\n",
       "      cell.notebook.kernel.execute(cmd, {\n",
       "        iopub: {\n",
       "          output: function(msg) {\n",
       "            var id = msg.content.text.trim();\n",
       "            if (id in Bokeh.index) {\n",
       "              Bokeh.index[id].model.document.clear();\n",
       "              delete Bokeh.index[id];\n",
       "            }\n",
       "          }\n",
       "        }\n",
       "      });\n",
       "      // Destroy server and session\n",
       "      var cmd = \"import bokeh.io.notebook as ion; ion.destroy_server('\" + server_id + \"')\";\n",
       "      cell.notebook.kernel.execute(cmd);\n",
       "    }\n",
       "  }\n",
       "\n",
       "  /**\n",
       "   * Handle when a new output is added\n",
       "   */\n",
       "  function handleAddOutput(event, handle) {\n",
       "    var output_area = handle.output_area;\n",
       "    var output = handle.output;\n",
       "\n",
       "    // limit handleAddOutput to display_data with EXEC_MIME_TYPE content only\n",
       "    if ((output.output_type != \"display_data\") || (!output.data.hasOwnProperty(EXEC_MIME_TYPE))) {\n",
       "      return\n",
       "    }\n",
       "\n",
       "    var toinsert = output_area.element.find(\".\" + CLASS_NAME.split(' ')[0]);\n",
       "\n",
       "    if (output.metadata[EXEC_MIME_TYPE][\"id\"] !== undefined) {\n",
       "      toinsert[toinsert.length - 1].firstChild.textContent = output.data[JS_MIME_TYPE];\n",
       "      // store reference to embed id on output_area\n",
       "      output_area._bokeh_element_id = output.metadata[EXEC_MIME_TYPE][\"id\"];\n",
       "    }\n",
       "    if (output.metadata[EXEC_MIME_TYPE][\"server_id\"] !== undefined) {\n",
       "      var bk_div = document.createElement(\"div\");\n",
       "      bk_div.innerHTML = output.data[HTML_MIME_TYPE];\n",
       "      var script_attrs = bk_div.children[0].attributes;\n",
       "      for (var i = 0; i < script_attrs.length; i++) {\n",
       "        toinsert[toinsert.length - 1].firstChild.setAttribute(script_attrs[i].name, script_attrs[i].value);\n",
       "        toinsert[toinsert.length - 1].firstChild.textContent = bk_div.children[0].textContent\n",
       "      }\n",
       "      // store reference to server id on output_area\n",
       "      output_area._bokeh_server_id = output.metadata[EXEC_MIME_TYPE][\"server_id\"];\n",
       "    }\n",
       "  }\n",
       "\n",
       "  function register_renderer(events, OutputArea) {\n",
       "\n",
       "    function append_mime(data, metadata, element) {\n",
       "      // create a DOM node to render to\n",
       "      var toinsert = this.create_output_subarea(\n",
       "        metadata,\n",
       "        CLASS_NAME,\n",
       "        EXEC_MIME_TYPE\n",
       "      );\n",
       "      this.keyboard_manager.register_events(toinsert);\n",
       "      // Render to node\n",
       "      var props = {data: data, metadata: metadata[EXEC_MIME_TYPE]};\n",
       "      render(props, toinsert[toinsert.length - 1]);\n",
       "      element.append(toinsert);\n",
       "      return toinsert\n",
       "    }\n",
       "\n",
       "    /* Handle when an output is cleared or removed */\n",
       "    events.on('clear_output.CodeCell', handleClearOutput);\n",
       "    events.on('delete.Cell', handleClearOutput);\n",
       "\n",
       "    /* Handle when a new output is added */\n",
       "    events.on('output_added.OutputArea', handleAddOutput);\n",
       "\n",
       "    /**\n",
       "     * Register the mime type and append_mime function with output_area\n",
       "     */\n",
       "    OutputArea.prototype.register_mime_type(EXEC_MIME_TYPE, append_mime, {\n",
       "      /* Is output safe? */\n",
       "      safe: true,\n",
       "      /* Index of renderer in `output_area.display_order` */\n",
       "      index: 0\n",
       "    });\n",
       "  }\n",
       "\n",
       "  // register the mime type if in Jupyter Notebook environment and previously unregistered\n",
       "  if (root.Jupyter !== undefined) {\n",
       "    var events = require('base/js/events');\n",
       "    var OutputArea = require('notebook/js/outputarea').OutputArea;\n",
       "\n",
       "    if (OutputArea.prototype.mime_types().indexOf(EXEC_MIME_TYPE) == -1) {\n",
       "      register_renderer(events, OutputArea);\n",
       "    }\n",
       "  }\n",
       "\n",
       "  \n",
       "  if (typeof (root._bokeh_timeout) === \"undefined\" || force === true) {\n",
       "    root._bokeh_timeout = Date.now() + 5000;\n",
       "    root._bokeh_failed_load = false;\n",
       "  }\n",
       "\n",
       "  var NB_LOAD_WARNING = {'data': {'text/html':\n",
       "     \"<div style='background-color: #fdd'>\\n\"+\n",
       "     \"<p>\\n\"+\n",
       "     \"BokehJS does not appear to have successfully loaded. If loading BokehJS from CDN, this \\n\"+\n",
       "     \"may be due to a slow or bad network connection. Possible fixes:\\n\"+\n",
       "     \"</p>\\n\"+\n",
       "     \"<ul>\\n\"+\n",
       "     \"<li>re-rerun `output_notebook()` to attempt to load from CDN again, or</li>\\n\"+\n",
       "     \"<li>use INLINE resources instead, as so:</li>\\n\"+\n",
       "     \"</ul>\\n\"+\n",
       "     \"<code>\\n\"+\n",
       "     \"from bokeh.resources import INLINE\\n\"+\n",
       "     \"output_notebook(resources=INLINE)\\n\"+\n",
       "     \"</code>\\n\"+\n",
       "     \"</div>\"}};\n",
       "\n",
       "  function display_loaded() {\n",
       "    var el = document.getElementById(\"1001\");\n",
       "    if (el != null) {\n",
       "      el.textContent = \"BokehJS is loading...\";\n",
       "    }\n",
       "    if (root.Bokeh !== undefined) {\n",
       "      if (el != null) {\n",
       "        el.textContent = \"BokehJS \" + root.Bokeh.version + \" successfully loaded.\";\n",
       "      }\n",
       "    } else if (Date.now() < root._bokeh_timeout) {\n",
       "      setTimeout(display_loaded, 100)\n",
       "    }\n",
       "  }\n",
       "\n",
       "\n",
       "  function run_callbacks() {\n",
       "    try {\n",
       "      root._bokeh_onload_callbacks.forEach(function(callback) {\n",
       "        if (callback != null)\n",
       "          callback();\n",
       "      });\n",
       "    } finally {\n",
       "      delete root._bokeh_onload_callbacks\n",
       "    }\n",
       "    console.debug(\"Bokeh: all callbacks have finished\");\n",
       "  }\n",
       "\n",
       "  function load_libs(css_urls, js_urls, callback) {\n",
       "    if (css_urls == null) css_urls = [];\n",
       "    if (js_urls == null) js_urls = [];\n",
       "\n",
       "    root._bokeh_onload_callbacks.push(callback);\n",
       "    if (root._bokeh_is_loading > 0) {\n",
       "      console.debug(\"Bokeh: BokehJS is being loaded, scheduling callback at\", now());\n",
       "      return null;\n",
       "    }\n",
       "    if (js_urls == null || js_urls.length === 0) {\n",
       "      run_callbacks();\n",
       "      return null;\n",
       "    }\n",
       "    console.debug(\"Bokeh: BokehJS not loaded, scheduling load and callback at\", now());\n",
       "    root._bokeh_is_loading = css_urls.length + js_urls.length;\n",
       "\n",
       "    function on_load() {\n",
       "      root._bokeh_is_loading--;\n",
       "      if (root._bokeh_is_loading === 0) {\n",
       "        console.debug(\"Bokeh: all BokehJS libraries/stylesheets loaded\");\n",
       "        run_callbacks()\n",
       "      }\n",
       "    }\n",
       "\n",
       "    function on_error() {\n",
       "      console.error(\"failed to load \" + url);\n",
       "    }\n",
       "\n",
       "    for (var i = 0; i < css_urls.length; i++) {\n",
       "      var url = css_urls[i];\n",
       "      const element = document.createElement(\"link\");\n",
       "      element.onload = on_load;\n",
       "      element.onerror = on_error;\n",
       "      element.rel = \"stylesheet\";\n",
       "      element.type = \"text/css\";\n",
       "      element.href = url;\n",
       "      console.debug(\"Bokeh: injecting link tag for BokehJS stylesheet: \", url);\n",
       "      document.body.appendChild(element);\n",
       "    }\n",
       "\n",
       "    const hashes = {\"https://cdn.bokeh.org/bokeh/release/bokeh-2.2.3.min.js\": \"T2yuo9Oe71Cz/I4X9Ac5+gpEa5a8PpJCDlqKYO0CfAuEszu1JrXLl8YugMqYe3sM\", \"https://cdn.bokeh.org/bokeh/release/bokeh-widgets-2.2.3.min.js\": \"98GDGJ0kOMCUMUePhksaQ/GYgB3+NH9h996V88sh3aOiUNX3N+fLXAtry6xctSZ6\", \"https://cdn.bokeh.org/bokeh/release/bokeh-tables-2.2.3.min.js\": \"89bArO+nlbP3sgakeHjCo1JYxYR5wufVgA3IbUvDY+K7w4zyxJqssu7wVnfeKCq8\"};\n",
       "\n",
       "    for (var i = 0; i < js_urls.length; i++) {\n",
       "      var url = js_urls[i];\n",
       "      var element = document.createElement('script');\n",
       "      element.onload = on_load;\n",
       "      element.onerror = on_error;\n",
       "      element.async = false;\n",
       "      element.src = url;\n",
       "      if (url in hashes) {\n",
       "        element.crossOrigin = \"anonymous\";\n",
       "        element.integrity = \"sha384-\" + hashes[url];\n",
       "      }\n",
       "      console.debug(\"Bokeh: injecting script tag for BokehJS library: \", url);\n",
       "      document.head.appendChild(element);\n",
       "    }\n",
       "  };\n",
       "\n",
       "  function inject_raw_css(css) {\n",
       "    const element = document.createElement(\"style\");\n",
       "    element.appendChild(document.createTextNode(css));\n",
       "    document.body.appendChild(element);\n",
       "  }\n",
       "\n",
       "  \n",
       "  var js_urls = [\"https://cdn.bokeh.org/bokeh/release/bokeh-2.2.3.min.js\", \"https://cdn.bokeh.org/bokeh/release/bokeh-widgets-2.2.3.min.js\", \"https://cdn.bokeh.org/bokeh/release/bokeh-tables-2.2.3.min.js\"];\n",
       "  var css_urls = [];\n",
       "  \n",
       "\n",
       "  var inline_js = [\n",
       "    function(Bokeh) {\n",
       "      Bokeh.set_log_level(\"info\");\n",
       "    },\n",
       "    function(Bokeh) {\n",
       "    \n",
       "    \n",
       "    }\n",
       "  ];\n",
       "\n",
       "  function run_inline_js() {\n",
       "    \n",
       "    if (root.Bokeh !== undefined || force === true) {\n",
       "      \n",
       "    for (var i = 0; i < inline_js.length; i++) {\n",
       "      inline_js[i].call(root, root.Bokeh);\n",
       "    }\n",
       "    if (force === true) {\n",
       "        display_loaded();\n",
       "      }} else if (Date.now() < root._bokeh_timeout) {\n",
       "      setTimeout(run_inline_js, 100);\n",
       "    } else if (!root._bokeh_failed_load) {\n",
       "      console.log(\"Bokeh: BokehJS failed to load within specified timeout.\");\n",
       "      root._bokeh_failed_load = true;\n",
       "    } else if (force !== true) {\n",
       "      var cell = $(document.getElementById(\"1001\")).parents('.cell').data().cell;\n",
       "      cell.output_area.append_execute_result(NB_LOAD_WARNING)\n",
       "    }\n",
       "\n",
       "  }\n",
       "\n",
       "  if (root._bokeh_is_loading === 0) {\n",
       "    console.debug(\"Bokeh: BokehJS loaded, going straight to plotting\");\n",
       "    run_inline_js();\n",
       "  } else {\n",
       "    load_libs(css_urls, js_urls, function() {\n",
       "      console.debug(\"Bokeh: BokehJS plotting callback run at\", now());\n",
       "      run_inline_js();\n",
       "    });\n",
       "  }\n",
       "}(window));"
      ],
      "application/vnd.bokehjs_load.v0+json": "\n(function(root) {\n  function now() {\n    return new Date();\n  }\n\n  var force = true;\n\n  if (typeof root._bokeh_onload_callbacks === \"undefined\" || force === true) {\n    root._bokeh_onload_callbacks = [];\n    root._bokeh_is_loading = undefined;\n  }\n\n  \n\n  \n  if (typeof (root._bokeh_timeout) === \"undefined\" || force === true) {\n    root._bokeh_timeout = Date.now() + 5000;\n    root._bokeh_failed_load = false;\n  }\n\n  var NB_LOAD_WARNING = {'data': {'text/html':\n     \"<div style='background-color: #fdd'>\\n\"+\n     \"<p>\\n\"+\n     \"BokehJS does not appear to have successfully loaded. If loading BokehJS from CDN, this \\n\"+\n     \"may be due to a slow or bad network connection. Possible fixes:\\n\"+\n     \"</p>\\n\"+\n     \"<ul>\\n\"+\n     \"<li>re-rerun `output_notebook()` to attempt to load from CDN again, or</li>\\n\"+\n     \"<li>use INLINE resources instead, as so:</li>\\n\"+\n     \"</ul>\\n\"+\n     \"<code>\\n\"+\n     \"from bokeh.resources import INLINE\\n\"+\n     \"output_notebook(resources=INLINE)\\n\"+\n     \"</code>\\n\"+\n     \"</div>\"}};\n\n  function display_loaded() {\n    var el = document.getElementById(\"1001\");\n    if (el != null) {\n      el.textContent = \"BokehJS is loading...\";\n    }\n    if (root.Bokeh !== undefined) {\n      if (el != null) {\n        el.textContent = \"BokehJS \" + root.Bokeh.version + \" successfully loaded.\";\n      }\n    } else if (Date.now() < root._bokeh_timeout) {\n      setTimeout(display_loaded, 100)\n    }\n  }\n\n\n  function run_callbacks() {\n    try {\n      root._bokeh_onload_callbacks.forEach(function(callback) {\n        if (callback != null)\n          callback();\n      });\n    } finally {\n      delete root._bokeh_onload_callbacks\n    }\n    console.debug(\"Bokeh: all callbacks have finished\");\n  }\n\n  function load_libs(css_urls, js_urls, callback) {\n    if (css_urls == null) css_urls = [];\n    if (js_urls == null) js_urls = [];\n\n    root._bokeh_onload_callbacks.push(callback);\n    if (root._bokeh_is_loading > 0) {\n      console.debug(\"Bokeh: BokehJS is being loaded, scheduling callback at\", now());\n      return null;\n    }\n    if (js_urls == null || js_urls.length === 0) {\n      run_callbacks();\n      return null;\n    }\n    console.debug(\"Bokeh: BokehJS not loaded, scheduling load and callback at\", now());\n    root._bokeh_is_loading = css_urls.length + js_urls.length;\n\n    function on_load() {\n      root._bokeh_is_loading--;\n      if (root._bokeh_is_loading === 0) {\n        console.debug(\"Bokeh: all BokehJS libraries/stylesheets loaded\");\n        run_callbacks()\n      }\n    }\n\n    function on_error() {\n      console.error(\"failed to load \" + url);\n    }\n\n    for (var i = 0; i < css_urls.length; i++) {\n      var url = css_urls[i];\n      const element = document.createElement(\"link\");\n      element.onload = on_load;\n      element.onerror = on_error;\n      element.rel = \"stylesheet\";\n      element.type = \"text/css\";\n      element.href = url;\n      console.debug(\"Bokeh: injecting link tag for BokehJS stylesheet: \", url);\n      document.body.appendChild(element);\n    }\n\n    const hashes = {\"https://cdn.bokeh.org/bokeh/release/bokeh-2.2.3.min.js\": \"T2yuo9Oe71Cz/I4X9Ac5+gpEa5a8PpJCDlqKYO0CfAuEszu1JrXLl8YugMqYe3sM\", \"https://cdn.bokeh.org/bokeh/release/bokeh-widgets-2.2.3.min.js\": \"98GDGJ0kOMCUMUePhksaQ/GYgB3+NH9h996V88sh3aOiUNX3N+fLXAtry6xctSZ6\", \"https://cdn.bokeh.org/bokeh/release/bokeh-tables-2.2.3.min.js\": \"89bArO+nlbP3sgakeHjCo1JYxYR5wufVgA3IbUvDY+K7w4zyxJqssu7wVnfeKCq8\"};\n\n    for (var i = 0; i < js_urls.length; i++) {\n      var url = js_urls[i];\n      var element = document.createElement('script');\n      element.onload = on_load;\n      element.onerror = on_error;\n      element.async = false;\n      element.src = url;\n      if (url in hashes) {\n        element.crossOrigin = \"anonymous\";\n        element.integrity = \"sha384-\" + hashes[url];\n      }\n      console.debug(\"Bokeh: injecting script tag for BokehJS library: \", url);\n      document.head.appendChild(element);\n    }\n  };\n\n  function inject_raw_css(css) {\n    const element = document.createElement(\"style\");\n    element.appendChild(document.createTextNode(css));\n    document.body.appendChild(element);\n  }\n\n  \n  var js_urls = [\"https://cdn.bokeh.org/bokeh/release/bokeh-2.2.3.min.js\", \"https://cdn.bokeh.org/bokeh/release/bokeh-widgets-2.2.3.min.js\", \"https://cdn.bokeh.org/bokeh/release/bokeh-tables-2.2.3.min.js\"];\n  var css_urls = [];\n  \n\n  var inline_js = [\n    function(Bokeh) {\n      Bokeh.set_log_level(\"info\");\n    },\n    function(Bokeh) {\n    \n    \n    }\n  ];\n\n  function run_inline_js() {\n    \n    if (root.Bokeh !== undefined || force === true) {\n      \n    for (var i = 0; i < inline_js.length; i++) {\n      inline_js[i].call(root, root.Bokeh);\n    }\n    if (force === true) {\n        display_loaded();\n      }} else if (Date.now() < root._bokeh_timeout) {\n      setTimeout(run_inline_js, 100);\n    } else if (!root._bokeh_failed_load) {\n      console.log(\"Bokeh: BokehJS failed to load within specified timeout.\");\n      root._bokeh_failed_load = true;\n    } else if (force !== true) {\n      var cell = $(document.getElementById(\"1001\")).parents('.cell').data().cell;\n      cell.output_area.append_execute_result(NB_LOAD_WARNING)\n    }\n\n  }\n\n  if (root._bokeh_is_loading === 0) {\n    console.debug(\"Bokeh: BokehJS loaded, going straight to plotting\");\n    run_inline_js();\n  } else {\n    load_libs(css_urls, js_urls, function() {\n      console.debug(\"Bokeh: BokehJS plotting callback run at\", now());\n      run_inline_js();\n    });\n  }\n}(window));"
     },
     "metadata": {},
     "output_type": "display_data"
    }
   ],
   "source": [
    "# Imports -- don't forget to run this cell!\n",
    "import vinal as vl\n",
    "import pandas as pd\n",
    "from bokeh.io import output_notebook, show\n",
    "output_notebook()"
   ]
  },
  {
   "cell_type": "markdown",
   "metadata": {},
   "source": [
    "## Part I: The Shortest Path Problem and Dijkstra's Algorithm\n",
    "\n",
    "As an Entrepreneurial first-year student, you plan to start a pizza delivery company: Good Pizza, Inc.  You will base Good Pizza out of the kitchen on your floor of Jameson Hall and deliver pizzas via bike.  You want to guarantee delivery anywhere on campus in 15 minutes or less; in order to maximize the amount of your tips, you want to deliver as many pizzas as you can and deliver\n",
    "them as fast as you can.  As a first-year, however, you're still figuring out your way around campus.  You've quickly realized that, because of pedestrian traffic, lights, obstacles, and  placement of bike stands  it is not always best to take the route that covers the shortest distance.  Instead, you would like to know the\n",
    "quickest way of getting from the your dorm room to various parts of campus.\n",
    "\n",
    "To help you in finding the quickest routes, you map the travel time between some of the most-happening locations on campus.  Below is an attached map showing the key points on campus. \n",
    "\n",
    "<img src=\"images/campus_map.png\" width=\"500\" />"
   ]
  },
  {
   "cell_type": "markdown",
   "metadata": {},
   "source": [
    "Let's load two dataframes with the data for each node and edge of this graph respectively."
   ]
  },
  {
   "cell_type": "code",
   "execution_count": 2,
   "metadata": {},
   "outputs": [
    {
     "data": {
      "text/html": [
       "<div>\n",
       "<style scoped>\n",
       "    .dataframe tbody tr th:only-of-type {\n",
       "        vertical-align: middle;\n",
       "    }\n",
       "\n",
       "    .dataframe tbody tr th {\n",
       "        vertical-align: top;\n",
       "    }\n",
       "\n",
       "    .dataframe thead th {\n",
       "        text-align: right;\n",
       "    }\n",
       "</style>\n",
       "<table border=\"1\" class=\"dataframe\">\n",
       "  <thead>\n",
       "    <tr style=\"text-align: right;\">\n",
       "      <th></th>\n",
       "      <th>name</th>\n",
       "      <th>x</th>\n",
       "      <th>y</th>\n",
       "    </tr>\n",
       "  </thead>\n",
       "  <tbody>\n",
       "    <tr>\n",
       "      <th>0</th>\n",
       "      <td>Jameson Hall</td>\n",
       "      <td>127</td>\n",
       "      <td>296</td>\n",
       "    </tr>\n",
       "    <tr>\n",
       "      <th>1</th>\n",
       "      <td>Clara Dickson Hall</td>\n",
       "      <td>111</td>\n",
       "      <td>284</td>\n",
       "    </tr>\n",
       "    <tr>\n",
       "      <th>2</th>\n",
       "      <td>Willard Straight (and Okenshields)</td>\n",
       "      <td>51</td>\n",
       "      <td>50</td>\n",
       "    </tr>\n",
       "    <tr>\n",
       "      <th>3</th>\n",
       "      <td>Cornell Health</td>\n",
       "      <td>60</td>\n",
       "      <td>8</td>\n",
       "    </tr>\n",
       "    <tr>\n",
       "      <th>4</th>\n",
       "      <td>Hollister Hall</td>\n",
       "      <td>68</td>\n",
       "      <td>-28</td>\n",
       "    </tr>\n",
       "    <tr>\n",
       "      <th>5</th>\n",
       "      <td>Duffield Hall</td>\n",
       "      <td>83</td>\n",
       "      <td>-28</td>\n",
       "    </tr>\n",
       "    <tr>\n",
       "      <th>6</th>\n",
       "      <td>Gates Hall</td>\n",
       "      <td>95</td>\n",
       "      <td>-16</td>\n",
       "    </tr>\n",
       "    <tr>\n",
       "      <th>7</th>\n",
       "      <td>Rhodes Hall</td>\n",
       "      <td>94</td>\n",
       "      <td>-55</td>\n",
       "    </tr>\n",
       "    <tr>\n",
       "      <th>8</th>\n",
       "      <td>Cornell High Energy</td>\n",
       "      <td>132</td>\n",
       "      <td>14</td>\n",
       "    </tr>\n",
       "    <tr>\n",
       "      <th>9</th>\n",
       "      <td>Holland International Living Center</td>\n",
       "      <td>148</td>\n",
       "      <td>269</td>\n",
       "    </tr>\n",
       "    <tr>\n",
       "      <th>10</th>\n",
       "      <td>High Rise 5</td>\n",
       "      <td>141</td>\n",
       "      <td>296</td>\n",
       "    </tr>\n",
       "    <tr>\n",
       "      <th>11</th>\n",
       "      <td>Helen Newman Bowling Lanes</td>\n",
       "      <td>127</td>\n",
       "      <td>227</td>\n",
       "    </tr>\n",
       "    <tr>\n",
       "      <th>12</th>\n",
       "      <td>Lindseth Climbing Center</td>\n",
       "      <td>120</td>\n",
       "      <td>65</td>\n",
       "    </tr>\n",
       "    <tr>\n",
       "      <th>13</th>\n",
       "      <td>Lynah Hockey Rink</td>\n",
       "      <td>106</td>\n",
       "      <td>62</td>\n",
       "    </tr>\n",
       "  </tbody>\n",
       "</table>\n",
       "</div>"
      ],
      "text/plain": [
       "                                   name    x    y\n",
       "0                          Jameson Hall  127  296\n",
       "1                    Clara Dickson Hall  111  284\n",
       "2    Willard Straight (and Okenshields)   51   50\n",
       "3                        Cornell Health   60    8\n",
       "4                        Hollister Hall   68  -28\n",
       "5                         Duffield Hall   83  -28\n",
       "6                            Gates Hall   95  -16\n",
       "7                           Rhodes Hall   94  -55\n",
       "8                   Cornell High Energy  132   14\n",
       "9   Holland International Living Center  148  269\n",
       "10                          High Rise 5  141  296\n",
       "11           Helen Newman Bowling Lanes  127  227\n",
       "12             Lindseth Climbing Center  120   65\n",
       "13                    Lynah Hockey Rink  106   62"
      ]
     },
     "metadata": {},
     "output_type": "display_data"
    },
    {
     "data": {
      "text/html": [
       "<div>\n",
       "<style scoped>\n",
       "    .dataframe tbody tr th:only-of-type {\n",
       "        vertical-align: middle;\n",
       "    }\n",
       "\n",
       "    .dataframe tbody tr th {\n",
       "        vertical-align: top;\n",
       "    }\n",
       "\n",
       "    .dataframe thead th {\n",
       "        text-align: right;\n",
       "    }\n",
       "</style>\n",
       "<table border=\"1\" class=\"dataframe\">\n",
       "  <thead>\n",
       "    <tr style=\"text-align: right;\">\n",
       "      <th></th>\n",
       "      <th>u</th>\n",
       "      <th>v</th>\n",
       "      <th>weight</th>\n",
       "    </tr>\n",
       "  </thead>\n",
       "  <tbody>\n",
       "    <tr>\n",
       "      <th>0</th>\n",
       "      <td>8</td>\n",
       "      <td>9</td>\n",
       "      <td>14</td>\n",
       "    </tr>\n",
       "    <tr>\n",
       "      <th>1</th>\n",
       "      <td>2</td>\n",
       "      <td>3</td>\n",
       "      <td>3</td>\n",
       "    </tr>\n",
       "    <tr>\n",
       "      <th>2</th>\n",
       "      <td>3</td>\n",
       "      <td>4</td>\n",
       "      <td>3</td>\n",
       "    </tr>\n",
       "    <tr>\n",
       "      <th>3</th>\n",
       "      <td>4</td>\n",
       "      <td>5</td>\n",
       "      <td>4</td>\n",
       "    </tr>\n",
       "    <tr>\n",
       "      <th>4</th>\n",
       "      <td>5</td>\n",
       "      <td>6</td>\n",
       "      <td>2</td>\n",
       "    </tr>\n",
       "  </tbody>\n",
       "</table>\n",
       "</div>"
      ],
      "text/plain": [
       "   u  v  weight\n",
       "0  8  9      14\n",
       "1  2  3       3\n",
       "2  3  4       3\n",
       "3  4  5       4\n",
       "4  5  6       2"
      ]
     },
     "metadata": {},
     "output_type": "display_data"
    }
   ],
   "source": [
    "nodes = pd.read_csv('data/cornell_pizza_nodes.csv', index_col=0)\n",
    "display(nodes)\n",
    "edges = pd.read_csv('data/cornell_pizza_edges.csv', index_col=0)\n",
    "display(edges.head())"
   ]
  },
  {
   "cell_type": "markdown",
   "metadata": {},
   "source": [
    "Now, let's pass these to `create_network` and create a graph which we can visualize."
   ]
  },
  {
   "cell_type": "code",
   "execution_count": 3,
   "metadata": {},
   "outputs": [
    {
     "data": {
      "text/html": [
       "\n",
       "\n",
       "\n",
       "\n",
       "\n",
       "\n",
       "  <div class=\"bk-root\" id=\"4bf1879f-9f99-4a96-b20b-ce590813cf8b\" data-root-id=\"1078\"></div>\n"
      ]
     },
     "metadata": {},
     "output_type": "display_data"
    },
    {
     "data": {
      "application/javascript": [
       "(function(root) {\n",
       "  function embed_document(root) {\n",
       "    \n",
       "  var docs_json = {\"1de0478b-0073-4784-8633-ff183ad8703b\":{\"roots\":{\"references\":[{\"attributes\":{\"children\":[[{\"id\":\"1002\"},0,0],[{\"id\":\"1062\"},1,0]]},\"id\":\"1078\",\"type\":\"GridBox\"},{\"attributes\":{},\"id\":\"1018\",\"type\":\"BasicTicker\"},{\"attributes\":{\"axis\":{\"id\":\"1017\"},\"dimension\":1,\"grid_line_color\":null,\"ticker\":null},\"id\":\"1020\",\"type\":\"Grid\"},{\"attributes\":{\"formatter\":{\"id\":\"1065\"},\"ticker\":{\"id\":\"1014\"},\"visible\":false},\"id\":\"1013\",\"type\":\"LinearAxis\"},{\"attributes\":{\"line_color\":{\"value\":\"white\"},\"line_width\":{\"value\":6},\"xs\":{\"field\":\"xs\"},\"ys\":{\"field\":\"ys\"}},\"id\":\"1053\",\"type\":\"MultiLine\"},{\"attributes\":{\"source\":{\"id\":\"1051\"}},\"id\":\"1055\",\"type\":\"CDSView\"},{\"attributes\":{\"data_source\":{\"id\":\"1038\"},\"glyph\":{\"id\":\"1040\"},\"hover_glyph\":null,\"muted_glyph\":null,\"nonselection_glyph\":{\"id\":\"1041\"},\"selection_glyph\":null,\"view\":{\"id\":\"1043\"}},\"id\":\"1042\",\"type\":\"GlyphRenderer\"},{\"attributes\":{\"text\":\"\"},\"id\":\"1003\",\"type\":\"Title\"},{\"attributes\":{\"data_source\":{\"id\":\"1051\"},\"glyph\":{\"id\":\"1052\"},\"hover_glyph\":null,\"level\":\"guide\",\"muted_glyph\":null,\"nonselection_glyph\":{\"id\":\"1053\"},\"selection_glyph\":null,\"view\":{\"id\":\"1055\"}},\"id\":\"1054\",\"type\":\"GlyphRenderer\"},{\"attributes\":{\"callback\":null,\"renderers\":[{\"id\":\"1042\"}],\"tooltips\":[[\"Index\",\"$index\"],[\"Name\",\"@name\"]]},\"id\":\"1060\",\"type\":\"HoverTool\"},{\"attributes\":{\"bottom_units\":\"screen\",\"fill_alpha\":0.5,\"fill_color\":\"lightgrey\",\"left_units\":\"screen\",\"level\":\"overlay\",\"line_alpha\":1.0,\"line_color\":\"black\",\"line_dash\":[4,4],\"line_width\":2,\"right_units\":\"screen\",\"top_units\":\"screen\"},\"id\":\"1027\",\"type\":\"BoxAnnotation\"},{\"attributes\":{\"data\":{\"text\":[14,5,6,6,3,1,3,8,18,19,3,8,4,7,2,3,5,5,2,14,17,12,2,3,5,3,2],\"x\":{\"__ndarray__\":\"AAAAAACAYUAAAAAAAIBfQAAAAAAAYFxAAAAAAABAXEAAAAAAADBhQAAAAAAAEGJAAAAAAADAS0AAAAAAAKBTQAAAAAAAQFRAAAAAAABAVkAAAAAAAABQQAAAAAAAwFRAAAAAAADgUkAAAAAAAMBVQAAAAAAAQFZAAAAAAACgV0AAAAAAACBZQAEAAAAA4FpAAAAAAABAXED//////x9bQP//////H11AAAAAAADgXkAAAAAAAMBdQAAAAAAAwF1AAAAAAADAYEAAAAAAAMBfQAAAAAAAwGBA\",\"dtype\":\"float64\",\"order\":\"little\",\"shape\":[27]},\"y\":{\"__ndarray__\":\"AAAAAACwYUAAAAAAAMBDQAAAAAAAAPC/AAAAAACANMD///////9uQAAAAAAAqHFAAAAAAAAAPUAAAAAAAABMQP7/////32RA/v////9PYUAAAAAAAAAkwAAAAAAAgEFA/v//////O8AAAAAAAAAxQAIAAAAAADbAAQAAAADAQcAAAAAAAAA3QAAAAAAAgDhAAAAAAADAT0ABAAAAAKBlQP//////X2ZAAAAAAABAYkAAAAAAACByQP//////729AAAAAAABYcEAAAAAAAFhwQAAAAAAAgHJA\",\"dtype\":\"float64\",\"order\":\"little\",\"shape\":[27]}},\"selected\":{\"id\":\"1076\"},\"selection_policy\":{\"id\":\"1075\"}},\"id\":\"1056\",\"type\":\"ColumnDataSource\"},{\"attributes\":{\"children\":[{\"id\":\"1059\"}]},\"id\":\"1062\",\"type\":\"Row\"},{\"attributes\":{\"data\":{\"fill_color\":[\"#5e92f3\",\"#5e92f3\",\"#5e92f3\",\"#5e92f3\",\"#5e92f3\",\"#5e92f3\",\"#5e92f3\",\"#5e92f3\",\"#5e92f3\",\"#5e92f3\",\"#5e92f3\",\"#5e92f3\",\"#5e92f3\",\"#5e92f3\"],\"line_color\":[\"#003c8f\",\"#003c8f\",\"#003c8f\",\"#003c8f\",\"#003c8f\",\"#003c8f\",\"#003c8f\",\"#003c8f\",\"#003c8f\",\"#003c8f\",\"#003c8f\",\"#003c8f\",\"#003c8f\",\"#003c8f\"],\"line_width\":[3,3,3,3,3,3,3,3,3,3,3,3,3,3],\"name\":[\"Jameson Hall\",\"Clara Dickson Hall\",\"Willard Straight (and Okenshields)\",\"Cornell Health\",\"Hollister Hall\",\"Duffield Hall\",\"Gates Hall\",\"Rhodes Hall\",\"Cornell High Energy\",\"Holland International Living Center\",\"High Rise 5\",\"Helen Newman Bowling Lanes\",\"Lindseth Climbing Center\",\"Lynah Hockey Rink\"],\"x\":[127,111,51,60,68,83,95,94,132,148,141,127,120,106],\"y\":[296,284,50,8,-28,-28,-16,-55,14,269,296,227,65,62]},\"selected\":{\"id\":\"1069\"},\"selection_policy\":{\"id\":\"1068\"}},\"id\":\"1038\",\"type\":\"ColumnDataSource\"},{\"attributes\":{},\"id\":\"1021\",\"type\":\"PanTool\"},{\"attributes\":{\"background_fill_color\":null,\"below\":[{\"id\":\"1013\"}],\"border_fill_color\":null,\"center\":[{\"id\":\"1016\"},{\"id\":\"1020\"},{\"id\":\"1057\"}],\"left\":[{\"id\":\"1017\"}],\"outline_line_color\":null,\"plot_height\":500,\"plot_width\":500,\"renderers\":[{\"id\":\"1042\"},{\"id\":\"1049\"},{\"id\":\"1054\"}],\"title\":{\"id\":\"1003\"},\"toolbar\":{\"id\":\"1028\"},\"toolbar_location\":null,\"x_range\":{\"id\":\"1005\"},\"x_scale\":{\"id\":\"1009\"},\"y_range\":{\"id\":\"1007\"},\"y_scale\":{\"id\":\"1011\"}},\"id\":\"1002\",\"subtype\":\"Figure\",\"type\":\"Plot\"},{\"attributes\":{\"data\":{\"line_color\":[\"#DFDFDF\",\"#DFDFDF\",\"#DFDFDF\",\"#DFDFDF\",\"#DFDFDF\",\"#DFDFDF\",\"#DFDFDF\",\"#DFDFDF\",\"#DFDFDF\",\"#DFDFDF\",\"#DFDFDF\",\"#DFDFDF\",\"#DFDFDF\",\"#DFDFDF\",\"#DFDFDF\",\"#DFDFDF\",\"#DFDFDF\",\"#DFDFDF\",\"#DFDFDF\",\"#DFDFDF\",\"#DFDFDF\",\"#DFDFDF\",\"#DFDFDF\",\"#DFDFDF\",\"#DFDFDF\",\"#DFDFDF\",\"#DFDFDF\"],\"u\":[8,8,8,8,9,9,2,2,2,2,3,3,4,4,5,6,6,6,13,13,13,12,1,1,11,11,0],\"v\":[9,12,6,7,11,10,3,13,1,11,4,13,5,13,6,7,13,12,12,1,0,11,0,11,10,0,10],\"weight\":[14,5,6,6,3,1,3,8,18,19,3,8,4,7,2,3,5,5,2,14,17,12,2,3,5,3,2],\"xs\":[[132,148],[132,120],[132,95],[132,94],[148,127],[148,141],[51,60],[51,106],[51,111],[51,127],[60,68],[60,106],[68,83],[68,106],[83,95],[95,94],[95,106],[95,120],[106,120],[106,111],[106,127],[120,127],[111,127],[111,127],[127,141],[127,127],[127,141]],\"ys\":[[14,269],[14,65],[14,-16],[14,-55],[269,227],[269,296],[50,8],[50,62],[50,284],[50,227],[8,-28],[8,62],[-28,-28],[-28,62],[-28,-16],[-16,-55],[-16,62],[-16,65],[62,65],[62,284],[62,296],[65,227],[284,296],[284,227],[227,296],[227,296],[296,296]]},\"selected\":{\"id\":\"1071\"},\"selection_policy\":{\"id\":\"1070\"}},\"id\":\"1044\",\"type\":\"ColumnDataSource\"},{\"attributes\":{},\"id\":\"1022\",\"type\":\"WheelZoomTool\"},{\"attributes\":{},\"id\":\"1065\",\"type\":\"BasicTickFormatter\"},{\"attributes\":{\"overlay\":{\"id\":\"1027\"}},\"id\":\"1023\",\"type\":\"BoxZoomTool\"},{\"attributes\":{},\"id\":\"1076\",\"type\":\"Selection\"},{\"attributes\":{},\"id\":\"1067\",\"type\":\"BasicTickFormatter\"},{\"attributes\":{},\"id\":\"1024\",\"type\":\"SaveTool\"},{\"attributes\":{},\"id\":\"1075\",\"type\":\"UnionRenderers\"},{\"attributes\":{},\"id\":\"1068\",\"type\":\"UnionRenderers\"},{\"attributes\":{},\"id\":\"1025\",\"type\":\"ResetTool\"},{\"attributes\":{\"source\":{\"id\":\"1038\"}},\"id\":\"1043\",\"type\":\"CDSView\"},{\"attributes\":{},\"id\":\"1069\",\"type\":\"Selection\"},{\"attributes\":{\"source\":{\"id\":\"1056\"},\"text_align\":\"center\",\"text_baseline\":\"middle\",\"text_color\":{\"value\":\"black\"},\"text_font_size\":{\"value\":\"13px\"},\"x\":{\"field\":\"x\"},\"y\":{\"field\":\"y\"}},\"id\":\"1057\",\"type\":\"LabelSet\"},{\"attributes\":{},\"id\":\"1026\",\"type\":\"HelpTool\"},{\"attributes\":{},\"id\":\"1070\",\"type\":\"UnionRenderers\"},{\"attributes\":{\"fill_color\":{\"field\":\"fill_color\"},\"line_color\":{\"field\":\"line_color\"},\"line_width\":{\"field\":\"line_width\"},\"size\":{\"units\":\"screen\",\"value\":11},\"x\":{\"field\":\"x\"},\"y\":{\"field\":\"y\"}},\"id\":\"1040\",\"type\":\"Circle\"},{\"attributes\":{\"align\":\"center\",\"width\":250},\"id\":\"1059\",\"type\":\"Div\"},{\"attributes\":{\"active_drag\":null,\"active_inspect\":\"auto\",\"active_multi\":null,\"active_scroll\":null,\"active_tap\":\"auto\",\"logo\":null,\"tools\":[{\"id\":\"1021\"},{\"id\":\"1022\"},{\"id\":\"1023\"},{\"id\":\"1024\"},{\"id\":\"1025\"},{\"id\":\"1026\"},{\"id\":\"1060\"}]},\"id\":\"1028\",\"type\":\"Toolbar\"},{\"attributes\":{},\"id\":\"1071\",\"type\":\"Selection\"},{\"attributes\":{},\"id\":\"1072\",\"type\":\"UnionRenderers\"},{\"attributes\":{\"line_cap\":\"round\",\"line_color\":{\"field\":\"line_color\"},\"line_width\":{\"value\":5},\"xs\":{\"field\":\"xs\"},\"ys\":{\"field\":\"ys\"}},\"id\":\"1046\",\"type\":\"MultiLine\"},{\"attributes\":{},\"id\":\"1009\",\"type\":\"LinearScale\"},{\"attributes\":{\"source\":{\"id\":\"1044\"}},\"id\":\"1050\",\"type\":\"CDSView\"},{\"attributes\":{},\"id\":\"1073\",\"type\":\"Selection\"},{\"attributes\":{\"data_source\":{\"id\":\"1044\"},\"glyph\":{\"id\":\"1046\"},\"hover_glyph\":{\"id\":\"1048\"},\"level\":\"underlay\",\"muted_glyph\":null,\"nonselection_glyph\":{\"id\":\"1047\"},\"selection_glyph\":null,\"view\":{\"id\":\"1050\"}},\"id\":\"1049\",\"type\":\"GlyphRenderer\"},{\"attributes\":{\"fill_color\":{\"field\":\"fill_color\"},\"line_color\":{\"field\":\"line_color\"},\"line_width\":{\"field\":\"line_width\"},\"size\":{\"units\":\"screen\",\"value\":11},\"x\":{\"field\":\"x\"},\"y\":{\"field\":\"y\"}},\"id\":\"1041\",\"type\":\"Circle\"},{\"attributes\":{},\"id\":\"1011\",\"type\":\"LinearScale\"},{\"attributes\":{\"line_cap\":\"round\",\"line_color\":{\"value\":\"#404040\"},\"line_width\":{\"value\":5},\"xs\":{\"field\":\"xs\"},\"ys\":{\"field\":\"ys\"}},\"id\":\"1048\",\"type\":\"MultiLine\"},{\"attributes\":{\"line_cap\":\"round\",\"line_color\":{\"field\":\"line_color\"},\"line_width\":{\"value\":5},\"xs\":{\"field\":\"xs\"},\"ys\":{\"field\":\"ys\"}},\"id\":\"1047\",\"type\":\"MultiLine\"},{\"attributes\":{\"axis\":{\"id\":\"1013\"},\"grid_line_color\":null,\"ticker\":null},\"id\":\"1016\",\"type\":\"Grid\"},{\"attributes\":{\"end\":156.245,\"start\":42.754999999999995},\"id\":\"1005\",\"type\":\"Range1d\"},{\"attributes\":{},\"id\":\"1014\",\"type\":\"BasicTicker\"},{\"attributes\":{\"data\":{\"xs\":[[139.54769615462328,140.45230384537672],[126.8828770389428,125.1171229610572],[114.8289275090869,112.1710724909131],[114.21722514717803,111.78277485282196],[138.6919361087974,136.3080638912026],[145.43178629393617,143.5682137060638],[54.66547860530453,56.33452139469547],[77.1405888403088,79.8594111596912],[79.61055314785354,82.38944685214648],[87.28221404313904,90.71778595686096],[63.14657436429944,64.85342563570057],[81.70458303384284,84.29541696615716],[74.13812,76.86188],[85.86050012641759,88.13949987358241],[87.68732316577159,90.31267683422843],[94.62581958410185,94.37418041589815],[99.8809646803367,101.11903531966328],[106.48539741954187,108.51460258045815],[111.64050168379492,114.35949831620506],[108.33406233663071,108.66593766336928],[115.86904572477269,117.13095427522728],[123.18442424701709,123.81557575298292],[117.66646237536449,120.33353762463551],[118.02951766558283,119.97048233441718],[133.1940151584473,134.8059848415527],[127.0,127.0],[132.63812000000001,135.36187999999999]],\"ys\":[[134.29140746430838,148.7085925356916],[35.747772584493106,43.252227415506894],[0.07750879115152998,-2.07750879115153],[-18.28977539065042,-22.710224609349574],[250.38387221759476,245.6161277824052],[278.90596715196034,286.09403284803955],[32.894433175245524,25.105566824754476],[55.70340120152193,56.29659879847807],[161.5811572766287,172.41884272337123],[134.49936691625797,142.50063308374195],[-6.159584639347429,-13.840415360652571],[33.47929312668509,36.52070687331491],[-27.999999999999993,-27.999999999999993],[14.301184509936405,19.698815490063595],[-23.31267683422842,-20.687323165771602],[-30.59303622002799,-40.40696377997201],[18.61047682420579,27.38952317579421],[21.21268763931559,27.787312360684382],[63.20867893224175,63.79132106775822],[165.63236774640376,180.3676322535962],[171.96936664746718,186.0306333525327],[138.6966754309668,153.30332456903318],[288.9998467815233,291.0001532184766],[258.9573433163612,252.0426566836388],[257.52764613806175,265.47235386193825],[256.57196,266.42804],[296.0,296.0]]},\"selected\":{\"id\":\"1073\"},\"selection_policy\":{\"id\":\"1072\"}},\"id\":\"1051\",\"type\":\"ColumnDataSource\"},{\"attributes\":{\"line_color\":{\"value\":\"white\"},\"line_width\":{\"value\":6},\"xs\":{\"field\":\"xs\"},\"ys\":{\"field\":\"ys\"}},\"id\":\"1052\",\"type\":\"MultiLine\"},{\"attributes\":{\"end\":325.835,\"start\":-84.83500000000001},\"id\":\"1007\",\"type\":\"Range1d\"},{\"attributes\":{\"formatter\":{\"id\":\"1067\"},\"ticker\":{\"id\":\"1018\"},\"visible\":false},\"id\":\"1017\",\"type\":\"LinearAxis\"}],\"root_ids\":[\"1078\"]},\"title\":\"Bokeh Application\",\"version\":\"2.2.3\"}};\n",
       "  var render_items = [{\"docid\":\"1de0478b-0073-4784-8633-ff183ad8703b\",\"root_ids\":[\"1078\"],\"roots\":{\"1078\":\"4bf1879f-9f99-4a96-b20b-ce590813cf8b\"}}];\n",
       "  root.Bokeh.embed.embed_items_notebook(docs_json, render_items);\n",
       "\n",
       "  }\n",
       "  if (root.Bokeh !== undefined) {\n",
       "    embed_document(root);\n",
       "  } else {\n",
       "    var attempts = 0;\n",
       "    var timer = setInterval(function(root) {\n",
       "      if (root.Bokeh !== undefined) {\n",
       "        clearInterval(timer);\n",
       "        embed_document(root);\n",
       "      } else {\n",
       "        attempts++;\n",
       "        if (attempts > 100) {\n",
       "          clearInterval(timer);\n",
       "          console.log(\"Bokeh: ERROR: Unable to run BokehJS code because BokehJS library is missing\");\n",
       "        }\n",
       "      }\n",
       "    }, 10, root)\n",
       "  }\n",
       "})(window);"
      ],
      "application/vnd.bokehjs_exec.v0+json": ""
     },
     "metadata": {
      "application/vnd.bokehjs_exec.v0+json": {
       "id": "1078"
      }
     },
     "output_type": "display_data"
    }
   ],
   "source": [
    "G = vl.create_network(nodes, edges)\n",
    "show(vl.tree_plot(G, tree=[], width=500, height=500, show_cost=False))"
   ]
  },
  {
   "cell_type": "markdown",
   "metadata": {},
   "source": [
    "**Q1:** Your company is based out of Jameson Hall, which is node 1 on the map. What is the index of this node in the graph above? (Hint: Hover over nodes to see their index).\n",
    "\n",
    "**A:** <font color='blue'> Jameson Hall is node 0. </font> "
   ]
  },
  {
   "cell_type": "markdown",
   "metadata": {},
   "source": [
    "**Q2:** Let's define our source $s$ to be Jameson Hall."
   ]
  },
  {
   "cell_type": "code",
   "execution_count": 4,
   "metadata": {},
   "outputs": [],
   "source": [
    "# TODO: Uncomment and set s to the index which corresponds to Jameson Hall\n",
    "# s = XXX\n",
    "\n",
    "### BEGIN SOLUTION\n",
    "s = 0\n",
    "### END SOLUTION"
   ]
  },
  {
   "cell_type": "markdown",
   "metadata": {},
   "source": [
    "**Q3:** What is the node that is closest to Jameson Hall (not considering Jameson Hall itself)? In case of ties, choose any of them. Can there be a quicker route to get to this destination (call it point X) than just to go directly there from Jameson Hall? Why or why not?\n",
    "\n",
    "**A:** <font color='blue'> 10 (High Rise 5) is closest. There is not a quicker way because every other edge out of 0 is already at least as large. Hence, any other path out of 0 to 10 will have a length at least as large as the direct path. </font> "
   ]
  },
  {
   "cell_type": "markdown",
   "metadata": {},
   "source": [
    "**Q4:** Explain why the predecessor (“prev$(X)$” from class) of $X$ must be the 0 (Jameson Hall).\n",
    "\n",
    "**A:** <font color='blue'> By the logic in **Q3**, the shortest path between 0 and 10 is (0,10). Since 0 is the source, this means that we will define prev(10) = 0.</font>"
   ]
  },
  {
   "cell_type": "markdown",
   "metadata": {},
   "source": [
    "Run the cell below to generate an interactive plot running Dijkstra's algorithm. If you answered **Q1** and **Q2** correctly, the node corresponding to Jameson hall will be red.\n",
    "\n",
    "After running the cell, click node 0 (in red) and then node 10 (High Rise 5)"
   ]
  },
  {
   "cell_type": "code",
   "execution_count": 5,
   "metadata": {},
   "outputs": [
    {
     "data": {
      "text/html": [
       "\n",
       "\n",
       "\n",
       "\n",
       "\n",
       "\n",
       "  <div class=\"bk-root\" id=\"8c765550-97ff-4e08-8b59-05a2b4409151\" data-root-id=\"1303\"></div>\n"
      ]
     },
     "metadata": {},
     "output_type": "display_data"
    },
    {
     "data": {
      "application/javascript": [
       "(function(root) {\n",
       "  function embed_document(root) {\n",
       "    \n",
       "  var docs_json = {\"6b7cc496-2129-431b-a26f-87e65055d545\":{\"roots\":{\"references\":[{\"attributes\":{\"children\":[[{\"id\":\"1163\"},0,0],[{\"id\":\"1239\"},1,0],[{\"id\":\"1249\"},2,0]]},\"id\":\"1303\",\"type\":\"GridBox\"},{\"attributes\":{},\"id\":\"1263\",\"type\":\"Selection\"},{\"attributes\":{\"active_drag\":null,\"active_inspect\":\"auto\",\"active_multi\":null,\"active_scroll\":null,\"active_tap\":\"auto\",\"logo\":null,\"tools\":[{\"id\":\"1182\"},{\"id\":\"1183\"},{\"id\":\"1184\"},{\"id\":\"1185\"},{\"id\":\"1186\"},{\"id\":\"1187\"},{\"id\":\"1241\"},{\"id\":\"1243\"},{\"id\":\"1245\"}]},\"id\":\"1189\",\"type\":\"Toolbar\"},{\"attributes\":{\"align\":\"center\",\"width\":166},\"id\":\"1222\",\"type\":\"Div\"},{\"attributes\":{\"fill_color\":{\"field\":\"fill_color\"},\"line_color\":{\"field\":\"line_color\"},\"line_width\":{\"field\":\"line_width\"},\"size\":{\"units\":\"screen\",\"value\":11},\"x\":{\"field\":\"x\"},\"y\":{\"field\":\"y\"}},\"id\":\"1202\",\"type\":\"Circle\"},{\"attributes\":{\"background_fill_color\":null,\"below\":[{\"id\":\"1174\"}],\"border_fill_color\":null,\"center\":[{\"id\":\"1177\"},{\"id\":\"1181\"},{\"id\":\"1218\"}],\"left\":[{\"id\":\"1178\"}],\"outline_line_color\":null,\"plot_height\":500,\"plot_width\":500,\"renderers\":[{\"id\":\"1203\"},{\"id\":\"1210\"},{\"id\":\"1215\"}],\"title\":{\"id\":\"1164\"},\"toolbar\":{\"id\":\"1189\"},\"toolbar_location\":null,\"x_range\":{\"id\":\"1166\"},\"x_scale\":{\"id\":\"1170\"},\"y_range\":{\"id\":\"1168\"},\"y_scale\":{\"id\":\"1172\"}},\"id\":\"1163\",\"subtype\":\"Figure\",\"type\":\"Plot\"},{\"attributes\":{\"bottom_units\":\"screen\",\"fill_alpha\":0.5,\"fill_color\":\"lightgrey\",\"left_units\":\"screen\",\"level\":\"overlay\",\"line_alpha\":1.0,\"line_color\":\"black\",\"line_dash\":[4,4],\"line_width\":2,\"right_units\":\"screen\",\"top_units\":\"screen\"},\"id\":\"1188\",\"type\":\"BoxAnnotation\"},{\"attributes\":{},\"id\":\"1187\",\"type\":\"HelpTool\"},{\"attributes\":{\"data_source\":{\"id\":\"1199\"},\"glyph\":{\"id\":\"1201\"},\"hover_glyph\":null,\"muted_glyph\":null,\"nonselection_glyph\":{\"id\":\"1202\"},\"selection_glyph\":null,\"view\":{\"id\":\"1204\"}},\"id\":\"1203\",\"type\":\"GlyphRenderer\"},{\"attributes\":{\"overlay\":{\"id\":\"1188\"}},\"id\":\"1184\",\"type\":\"BoxZoomTool\"},{\"attributes\":{},\"id\":\"1262\",\"type\":\"UnionRenderers\"},{\"attributes\":{},\"id\":\"1182\",\"type\":\"PanTool\"},{\"attributes\":{\"source\":{\"id\":\"1199\"}},\"id\":\"1204\",\"type\":\"CDSView\"},{\"attributes\":{\"fill_color\":{\"field\":\"fill_color\"},\"line_color\":{\"field\":\"line_color\"},\"line_width\":{\"field\":\"line_width\"},\"size\":{\"units\":\"screen\",\"value\":11},\"x\":{\"field\":\"x\"},\"y\":{\"field\":\"y\"}},\"id\":\"1201\",\"type\":\"Circle\"},{\"attributes\":{\"data\":{\"text\":[14,5,6,6,3,1,3,8,18,19,3,8,4,7,2,3,5,5,2,14,17,12,2,3,5,3,2],\"x\":{\"__ndarray__\":\"AAAAAACAYUAAAAAAAIBfQAAAAAAAYFxAAAAAAABAXEAAAAAAADBhQAAAAAAAEGJAAAAAAADAS0AAAAAAAKBTQAAAAAAAQFRAAAAAAABAVkAAAAAAAABQQAAAAAAAwFRAAAAAAADgUkAAAAAAAMBVQAAAAAAAQFZAAAAAAACgV0AAAAAAACBZQAEAAAAA4FpAAAAAAABAXED//////x9bQP//////H11AAAAAAADgXkAAAAAAAMBdQAAAAAAAwF1AAAAAAADAYEAAAAAAAMBfQAAAAAAAwGBA\",\"dtype\":\"float64\",\"order\":\"little\",\"shape\":[27]},\"y\":{\"__ndarray__\":\"AAAAAACwYUAAAAAAAMBDQAAAAAAAAPC/AAAAAACANMD///////9uQAAAAAAAqHFAAAAAAAAAPUAAAAAAAABMQP7/////32RA/v////9PYUAAAAAAAAAkwAAAAAAAgEFA/v//////O8AAAAAAAAAxQAIAAAAAADbAAQAAAADAQcAAAAAAAAA3QAAAAAAAgDhAAAAAAADAT0ABAAAAAKBlQP//////X2ZAAAAAAABAYkAAAAAAACByQP//////729AAAAAAABYcEAAAAAAAFhwQAAAAAAAgHJA\",\"dtype\":\"float64\",\"order\":\"little\",\"shape\":[27]}},\"selected\":{\"id\":\"1263\"},\"selection_policy\":{\"id\":\"1262\"}},\"id\":\"1217\",\"type\":\"ColumnDataSource\"},{\"attributes\":{\"line_cap\":\"round\",\"line_color\":{\"value\":\"#404040\"},\"line_width\":{\"value\":5},\"xs\":{\"field\":\"xs\"},\"ys\":{\"field\":\"ys\"}},\"id\":\"1209\",\"type\":\"MultiLine\"},{\"attributes\":{},\"id\":\"1186\",\"type\":\"ResetTool\"},{\"attributes\":{\"end\":156.245,\"start\":42.754999999999995},\"id\":\"1166\",\"type\":\"Range1d\"},{\"attributes\":{\"line_cap\":\"round\",\"line_color\":{\"field\":\"line_color\"},\"line_width\":{\"value\":5},\"xs\":{\"field\":\"xs\"},\"ys\":{\"field\":\"ys\"}},\"id\":\"1207\",\"type\":\"MultiLine\"},{\"attributes\":{\"text\":\"\"},\"id\":\"1164\",\"type\":\"Title\"},{\"attributes\":{\"source\":{\"id\":\"1205\"}},\"id\":\"1211\",\"type\":\"CDSView\"},{\"attributes\":{\"data_source\":{\"id\":\"1205\"},\"glyph\":{\"id\":\"1207\"},\"hover_glyph\":{\"id\":\"1209\"},\"level\":\"underlay\",\"muted_glyph\":null,\"nonselection_glyph\":{\"id\":\"1208\"},\"selection_glyph\":null,\"view\":{\"id\":\"1211\"}},\"id\":\"1210\",\"type\":\"GlyphRenderer\"},{\"attributes\":{},\"id\":\"1170\",\"type\":\"LinearScale\"},{\"attributes\":{\"end\":325.835,\"start\":-84.83500000000001},\"id\":\"1168\",\"type\":\"Range1d\"},{\"attributes\":{\"line_cap\":\"round\",\"line_color\":{\"field\":\"line_color\"},\"line_width\":{\"value\":5},\"xs\":{\"field\":\"xs\"},\"ys\":{\"field\":\"ys\"}},\"id\":\"1208\",\"type\":\"MultiLine\"},{\"attributes\":{\"axis\":{\"id\":\"1174\"},\"grid_line_color\":null,\"ticker\":null},\"id\":\"1177\",\"type\":\"Grid\"},{\"attributes\":{\"data\":{\"xs\":[[139.54769615462328,140.45230384537672],[126.8828770389428,125.1171229610572],[114.8289275090869,112.1710724909131],[114.21722514717803,111.78277485282196],[138.6919361087974,136.3080638912026],[145.43178629393617,143.5682137060638],[54.66547860530453,56.33452139469547],[77.1405888403088,79.8594111596912],[79.61055314785354,82.38944685214648],[87.28221404313904,90.71778595686096],[63.14657436429944,64.85342563570057],[81.70458303384284,84.29541696615716],[74.13812,76.86188],[85.86050012641759,88.13949987358241],[87.68732316577159,90.31267683422843],[94.62581958410185,94.37418041589815],[99.8809646803367,101.11903531966328],[106.48539741954187,108.51460258045815],[111.64050168379492,114.35949831620506],[108.33406233663071,108.66593766336928],[115.86904572477269,117.13095427522728],[123.18442424701709,123.81557575298292],[117.66646237536449,120.33353762463551],[118.02951766558283,119.97048233441718],[133.1940151584473,134.8059848415527],[127.0,127.0],[132.63812000000001,135.36187999999999]],\"ys\":[[134.29140746430838,148.7085925356916],[35.747772584493106,43.252227415506894],[0.07750879115152998,-2.07750879115153],[-18.28977539065042,-22.710224609349574],[250.38387221759476,245.6161277824052],[278.90596715196034,286.09403284803955],[32.894433175245524,25.105566824754476],[55.70340120152193,56.29659879847807],[161.5811572766287,172.41884272337123],[134.49936691625797,142.50063308374195],[-6.159584639347429,-13.840415360652571],[33.47929312668509,36.52070687331491],[-27.999999999999993,-27.999999999999993],[14.301184509936405,19.698815490063595],[-23.31267683422842,-20.687323165771602],[-30.59303622002799,-40.40696377997201],[18.61047682420579,27.38952317579421],[21.21268763931559,27.787312360684382],[63.20867893224175,63.79132106775822],[165.63236774640376,180.3676322535962],[171.96936664746718,186.0306333525327],[138.6966754309668,153.30332456903318],[288.9998467815233,291.0001532184766],[258.9573433163612,252.0426566836388],[257.52764613806175,265.47235386193825],[256.57196,266.42804],[296.0,296.0]]},\"selected\":{\"id\":\"1260\"},\"selection_policy\":{\"id\":\"1259\"}},\"id\":\"1212\",\"type\":\"ColumnDataSource\"},{\"attributes\":{},\"id\":\"1185\",\"type\":\"SaveTool\"},{\"attributes\":{},\"id\":\"1175\",\"type\":\"BasicTicker\"},{\"attributes\":{\"formatter\":{\"id\":\"1252\"},\"ticker\":{\"id\":\"1175\"},\"visible\":false},\"id\":\"1174\",\"type\":\"LinearAxis\"},{\"attributes\":{\"line_color\":{\"value\":\"white\"},\"line_width\":{\"value\":6},\"xs\":{\"field\":\"xs\"},\"ys\":{\"field\":\"ys\"}},\"id\":\"1213\",\"type\":\"MultiLine\"},{\"attributes\":{\"source\":{\"id\":\"1212\"}},\"id\":\"1216\",\"type\":\"CDSView\"},{\"attributes\":{},\"id\":\"1172\",\"type\":\"LinearScale\"},{\"attributes\":{\"data_source\":{\"id\":\"1212\"},\"glyph\":{\"id\":\"1213\"},\"hover_glyph\":null,\"level\":\"guide\",\"muted_glyph\":null,\"nonselection_glyph\":{\"id\":\"1214\"},\"selection_glyph\":null,\"view\":{\"id\":\"1216\"}},\"id\":\"1215\",\"type\":\"GlyphRenderer\"},{\"attributes\":{\"data\":{\"fill_color\":[\"#d50000\",\"#5e92f3\",\"#5e92f3\",\"#5e92f3\",\"#5e92f3\",\"#5e92f3\",\"#5e92f3\",\"#5e92f3\",\"#5e92f3\",\"#5e92f3\",\"#5e92f3\",\"#5e92f3\",\"#5e92f3\",\"#5e92f3\"],\"line_color\":[\"#9b0000\",\"#003c8f\",\"#003c8f\",\"#003c8f\",\"#003c8f\",\"#003c8f\",\"#003c8f\",\"#003c8f\",\"#003c8f\",\"#003c8f\",\"#003c8f\",\"#003c8f\",\"#003c8f\",\"#003c8f\"],\"line_width\":[3,3,3,3,3,3,3,3,3,3,3,3,3,3],\"name\":[\"Jameson Hall\",\"Clara Dickson Hall\",\"Willard Straight (and Okenshields)\",\"Cornell Health\",\"Hollister Hall\",\"Duffield Hall\",\"Gates Hall\",\"Rhodes Hall\",\"Cornell High Energy\",\"Holland International Living Center\",\"High Rise 5\",\"Helen Newman Bowling Lanes\",\"Lindseth Climbing Center\",\"Lynah Hockey Rink\"],\"x\":[127,111,51,60,68,83,95,94,132,148,141,127,120,106],\"y\":[296,284,50,8,-28,-28,-16,-55,14,269,296,227,65,62]},\"selected\":{\"id\":\"1256\"},\"selection_policy\":{\"id\":\"1255\"}},\"id\":\"1199\",\"type\":\"ColumnDataSource\"},{\"attributes\":{\"data\":{\"line_color\":[\"#DFDFDF\",\"#DFDFDF\",\"#DFDFDF\",\"#DFDFDF\",\"#DFDFDF\",\"#DFDFDF\",\"#DFDFDF\",\"#DFDFDF\",\"#DFDFDF\",\"#DFDFDF\",\"#DFDFDF\",\"#DFDFDF\",\"#DFDFDF\",\"#DFDFDF\",\"#DFDFDF\",\"#DFDFDF\",\"#DFDFDF\",\"#DFDFDF\",\"#DFDFDF\",\"#DFDFDF\",\"#DFDFDF\",\"#DFDFDF\",\"#DFDFDF\",\"#DFDFDF\",\"#DFDFDF\",\"#DFDFDF\",\"#DFDFDF\"],\"u\":[8,8,8,8,9,9,2,2,2,2,3,3,4,4,5,6,6,6,13,13,13,12,1,1,11,11,0],\"v\":[9,12,6,7,11,10,3,13,1,11,4,13,5,13,6,7,13,12,12,1,0,11,0,11,10,0,10],\"weight\":[14,5,6,6,3,1,3,8,18,19,3,8,4,7,2,3,5,5,2,14,17,12,2,3,5,3,2],\"xs\":[[132,148],[132,120],[132,95],[132,94],[148,127],[148,141],[51,60],[51,106],[51,111],[51,127],[60,68],[60,106],[68,83],[68,106],[83,95],[95,94],[95,106],[95,120],[106,120],[106,111],[106,127],[120,127],[111,127],[111,127],[127,141],[127,127],[127,141]],\"ys\":[[14,269],[14,65],[14,-16],[14,-55],[269,227],[269,296],[50,8],[50,62],[50,284],[50,227],[8,-28],[8,62],[-28,-28],[-28,62],[-28,-16],[-16,-55],[-16,62],[-16,65],[62,65],[62,284],[62,296],[65,227],[284,296],[284,227],[227,296],[227,296],[296,296]]},\"selected\":{\"id\":\"1258\"},\"selection_policy\":{\"id\":\"1257\"}},\"id\":\"1205\",\"type\":\"ColumnDataSource\"},{\"attributes\":{},\"id\":\"1179\",\"type\":\"BasicTicker\"},{\"attributes\":{\"source\":{\"id\":\"1217\"},\"text_align\":\"center\",\"text_baseline\":\"middle\",\"text_color\":{\"value\":\"black\"},\"text_font_size\":{\"value\":\"13px\"},\"x\":{\"field\":\"x\"},\"y\":{\"field\":\"y\"}},\"id\":\"1218\",\"type\":\"LabelSet\"},{\"attributes\":{\"formatter\":{\"id\":\"1254\"},\"ticker\":{\"id\":\"1179\"},\"visible\":false},\"id\":\"1178\",\"type\":\"LinearAxis\"},{\"attributes\":{\"line_color\":{\"value\":\"white\"},\"line_width\":{\"value\":6},\"xs\":{\"field\":\"xs\"},\"ys\":{\"field\":\"ys\"}},\"id\":\"1214\",\"type\":\"MultiLine\"},{\"attributes\":{},\"id\":\"1183\",\"type\":\"WheelZoomTool\"},{\"attributes\":{\"data\":{\"G\":[[0.0,2.0,0.0,0.0,0.0,0.0,0.0,0.0,0.0,0.0,2.0,3.0,0.0,17.0],[2.0,0.0,18.0,0.0,0.0,0.0,0.0,0.0,0.0,0.0,0.0,3.0,0.0,14.0],[0.0,18.0,0.0,3.0,0.0,0.0,0.0,0.0,0.0,0.0,0.0,19.0,0.0,8.0],[0.0,0.0,3.0,0.0,3.0,0.0,0.0,0.0,0.0,0.0,0.0,0.0,0.0,8.0],[0.0,0.0,0.0,3.0,0.0,4.0,0.0,0.0,0.0,0.0,0.0,0.0,0.0,7.0],[0.0,0.0,0.0,0.0,4.0,0.0,2.0,0.0,0.0,0.0,0.0,0.0,0.0,0.0],[0.0,0.0,0.0,0.0,0.0,2.0,0.0,3.0,6.0,0.0,0.0,0.0,5.0,5.0],[0.0,0.0,0.0,0.0,0.0,0.0,3.0,0.0,6.0,0.0,0.0,0.0,0.0,0.0],[0.0,0.0,0.0,0.0,0.0,0.0,6.0,6.0,0.0,14.0,0.0,0.0,5.0,0.0],[0.0,0.0,0.0,0.0,0.0,0.0,0.0,0.0,14.0,0.0,1.0,3.0,0.0,0.0],[2.0,0.0,0.0,0.0,0.0,0.0,0.0,0.0,0.0,1.0,0.0,5.0,0.0,0.0],[3.0,3.0,19.0,0.0,0.0,0.0,0.0,0.0,0.0,3.0,5.0,0.0,12.0,0.0],[0.0,0.0,0.0,0.0,0.0,0.0,5.0,0.0,5.0,0.0,0.0,12.0,0.0,2.0],[17.0,14.0,8.0,8.0,7.0,0.0,5.0,0.0,0.0,0.0,0.0,0.0,2.0,0.0]]},\"selected\":{\"id\":\"1267\"},\"selection_policy\":{\"id\":\"1266\"}},\"id\":\"1220\",\"type\":\"ColumnDataSource\"},{\"attributes\":{},\"id\":\"1260\",\"type\":\"Selection\"},{\"attributes\":{\"axis\":{\"id\":\"1178\"},\"dimension\":1,\"grid_line_color\":null,\"ticker\":null},\"id\":\"1181\",\"type\":\"Grid\"},{\"attributes\":{},\"id\":\"1290\",\"type\":\"StringEditor\"},{\"attributes\":{\"args\":{\"cost_matrix\":{\"id\":\"1220\"},\"edges_src\":{\"id\":\"1205\"},\"error_msg\":{\"id\":\"1222\"},\"nodes_src\":{\"id\":\"1199\"},\"source\":{\"id\":\"1221\"},\"table_src\":{\"id\":\"1223\"}},\"code\":\"/* Color Theme -- Using Google's Material Design Color System\\n   https://material.io/design/color/the-color-system.html */\\n\\n/** @constant {string} */\\nvar PRIMARY_COLOR = '#1565c0'\\n/** @constant {string} */\\nvar PRIMARY_LIGHT_COLOR = '#5e92f3'\\n/** @constant {string} */\\nvar PRIMARY_DARK_COLOR = '#003c8f'\\n/** @constant {string} */\\nvar SECONDARY_COLOR = '#d50000'\\n/** @constant {string} */\\nvar SECONDARY_LIGHT_COLOR = '#ff5131'\\n/** @constant {string} */\\nvar SECONDARY_DARK_COLOR = '#9b0000'\\n\\n// Grayscale\\n/** @constant {string} */\\nvar TERTIARY_COLOR = '#DFDFDF'\\n/**\\n *  Jupyter Notebook: 'white', Sphinx: '#FCFCFC'\\n *  @constant {string}\\n */\\nvar TERTIARY_LIGHT_COLOR = 'white'\\n/** @constant {string} */\\nvar TERTIARY_DARK_COLOR = '#404040'\\n/** @type {float[][]} */\\nvar G\\n/** @type {integer[]} */\\nvar visited\\n/** @type {integer[]} */\\nvar unvisited\\n/** @type {integer[][]} */\\nvar tree_edges\\n/** @type {integer[][]} */\\nvar edge_ids\\n/** @type {(integer[]|integer[][])} */\\nvar clicked_list\\n/** @type {integer} */\\nvar i\\n/** @type {integer} */\\nvar u\\n/** @type {integer} */\\nvar v\\n/** @type {float} */\\nvar w\\n\\n\\n/**\\n * Check if the error message text indicates tour or tree is complete.\\n */\\nfunction check_done() {\\n    if (error_msg.text == 'done.') {\\n        return;\\n    }\\n}\\n\\n/**\\n * Load the data necessary data for MST and shortest path tree creation.\\n */\\nfunction load_data() {\\n    G = cost_matrix.data['G']\\n    visited = source.data['visited']\\n    unvisited = source.data['unvisited']\\n    tree_edges = source.data['tree_edges']\\n    edge_ids = source.data['edge_ids']\\n    clicked_list = source.data['clicked']\\n\\n    i = source.data['last_index']\\n    u = edges_src.data['u'][i]\\n    v = edges_src.data['v'][i]\\n    w = edges_src.data['weight'][i]\\n}\\n\\n/**\\n * Update node and edge highlighting upon a proper edge selection.\\n */\\nfunction select_edge() {\\n    if (!visited.includes(v)) {\\n        nodes_src.data['fill_color'][v] = PRIMARY_DARK_COLOR\\n        nodes_src.data['line_color'][v] = PRIMARY_DARK_COLOR\\n        visited.push(v)\\n        unvisited.splice(unvisited.indexOf(v), 1)\\n    }\\n    if (!visited.includes(u)) {\\n        nodes_src.data['fill_color'][u] = PRIMARY_DARK_COLOR\\n        nodes_src.data['line_color'][u] = PRIMARY_DARK_COLOR\\n        visited.push(u)\\n        unvisited.splice(unvisited.indexOf(u), 1)\\n    }\\n    edges_src.data['line_color'][i] = TERTIARY_DARK_COLOR\\n    tree_edges.push([u,v])\\n    clicked_list = tree_edges\\n    var prev_cost = parseFloat(cost.text)\\n    cost.text = (prev_cost + w).toFixed(1)\\n    error_msg.text = ''\\n}\\n\\n/**\\n * Iteration of Prim's algorithm.\\n * Check if user-selected edge is a valid next edge. If valid, add the selected\\n * edge. If not, an error message is returned.\\n */\\nfunction prims() {\\n    var possible = {}\\n    for (let i = 0; i < visited.length; i++) {\\n        for (let j = 0; j < unvisited.length; j++) {\\n            var a = visited[i]\\n            var b = unvisited[j]\\n            if (G[a][b] != 0) {\\n                var id = edge_ids[a][b]\\n                possible[id] = G[a][b]\\n            }\\n        }\\n    }\\n\\n    var keys  = Object.keys(possible).sort(function(a,b) { return possible[a] - possible[b]; });\\n    var valid = keys.filter(function(x) { return possible[x] == possible[keys[0]]; });\\n\\n    var first_edge = (visited.length == 0)\\n    var u_in_tree = visited.includes(u)\\n    var v_in_tree = visited.includes(v)\\n    var one_in_tree = (u_in_tree && !v_in_tree) || (!u_in_tree && v_in_tree)\\n\\n    if (first_edge || one_in_tree) {\\n        if (valid.includes(i.toString())) {\\n            select_edge()\\n        } else {\\n            error_msg.text = 'Smaller weight edge exists.'\\n        }\\n    } else {\\n        if (u_in_tree && v_in_tree) {\\n            error_msg.text = 'Edge creates a cycle.'\\n        } else {\\n            error_msg.text = 'Edge not adjacent to the current tree.'\\n        }\\n    }\\n}\\n\\n/**\\n * Iteration of Kruskal's algorithm.\\n * Check if user-selected edge is a valid next edge. If valid, add the selected\\n * edge. If not, an error message is returned.\\n */\\nfunction kruskals() {\\n    var sorted_edges = source.data['sorted_edges']\\n    var forest = source.data['forest']\\n    var index = source.data['index'][0]\\n\\n    var a = sorted_edges[index][0]\\n    var b = sorted_edges[index][1]\\n    while (forest[a] == forest[b]) {\\n        index += 1\\n        a = sorted_edges[index][0]\\n        b = sorted_edges[index][1]\\n    }\\n    var min_val = G[sorted_edges[index][0]][sorted_edges[index][1]]\\n\\n    if (forest[u] != forest[v]) {\\n        if (G[u][v] == min_val) {\\n            select_edge()\\n            var x = forest[u]\\n            var y = forest[v]\\n            forest = forest.map(function(k) {if (k == y) {return x} else {return k} })\\n            source.data['forest'] = forest\\n            if (u == a && v == b) {\\n                index += 1\\n            }\\n        } else {\\n             error_msg.text = 'Smaller weight edge exists.'\\n        }\\n    } else {\\n        error_msg.text = 'This edge creates a cycle.'\\n    }\\n\\n    source.data['index'][0] = index\\n}\\n\\n/**\\n * Return an array of length len where every element has the given value.\\n * @param {float} value\\n * @param {integer} len\\n * @returns {float[]}\\n */\\nfunction fillArray(value, len) {\\n    var a = [value];\\n    while (a.length * 2 <= len) a = a.concat(a);\\n    if (a.length < len) a = a.concat(a.slice(0, len - a.length));\\n    return a;\\n}\\n\\n/**\\n * Return true iff the undirected graph G is connected.\\n * @param {float[][]} G\\n * @returns {boolean}\\n */\\nfunction is_connected(G) {\\n    var check = fillArray(false, G.length)\\n    check[0] = true\\n    var checked = [0]\\n\\n    while (checked.length > 0) {\\n        var a = checked.shift()\\n        for (let b = 0; b < G[a].length; b++) {\\n            if (G[a][b] > 0 && !check[b]) {\\n                check[b] = true\\n                checked.push(b)\\n            }\\n        }\\n    }\\n    return check.every(function(x) {return x})\\n}\\n\\n/**\\n * Iteration of reverse Kruskal's algorithm.\\n * Check if user-selected edge is a valid next edge. If valid, add the selected\\n * edge. If not, an error message is returned.\\n */\\nfunction reverse_kruskals() {\\n    var sorted_edges = source.data['sorted_edges']\\n    var index = source.data['index'][0]\\n\\n    var a = sorted_edges[index][0]\\n    var b = sorted_edges[index][1]\\n    var tmp_w = G[a][b]\\n    G[a][b] = 0\\n    G[b][a] = 0\\n    while (!is_connected(G) || !tree_edges.includes(edge_ids[a][b])) {\\n        G[a][b] = tmp_w\\n        G[b][a] = tmp_w\\n        index += 1\\n        a = sorted_edges[index][0]\\n        b = sorted_edges[index][1]\\n        tmp_w = G[a][b]\\n        G[a][b] = 0\\n        G[b][a] = 0\\n    }\\n    G[a][b] = tmp_w\\n    G[b][a] = tmp_w\\n    var max_val = tmp_w\\n\\n    var tmp_w = w\\n    G[u][v] = 0\\n    G[v][u] = 0\\n\\n    let e = tree_edges.indexOf(i)\\n    if (e > -1) {\\n        if (is_connected(G)) {\\n            if (tmp_w == max_val) {\\n                tree_edges.splice(e, 1);\\n                if (u == a && v == b) {\\n                    index += 1\\n                }\\n                edges_src.data['line_color'][i] = TERTIARY_COLOR\\n                var prev_cost = parseFloat(cost.text)\\n                cost.text = (prev_cost - w).toFixed(1)\\n                error_msg.text = ''\\n            } else {\\n                G[u][v] = tmp_w\\n                G[v][u] = tmp_w\\n                error_msg.text = 'Larger edge weight exists. Try ('\\n                                  .concat(a.toString())\\n                                  .concat(', ')\\n                                  .concat(b.toString())\\n                                  .concat(').')\\n            }\\n        } else {\\n            G[u][v] = tmp_w\\n            G[v][u] = tmp_w\\n            error_msg.text = 'Removing this edge disconnects the graph.'\\n        }\\n    } else {\\n        G[u][v] = tmp_w\\n        G[v][u] = tmp_w\\n        error_msg.text = 'Edge already removed.'\\n    }\\n\\n    var u_list = edges_src.data['u']\\n    var v_list = edges_src.data['v']\\n    clicked_list = []\\n    for (let i = 0; i < tree_edges.length; i++) {\\n        var edge = tree_edges[i]\\n        clicked_list.push([u_list[edge], v_list[edge]])\\n    }\\n    source.data['index'][0] = index\\n}\\n\\n/**\\n * Final updates when creating an MST or shortest path tree.\\n */\\nfunction tree_update() {\\n    if (tree_edges.length == nodes_src.data['x'].length - 1) {\\n        error_msg.text = 'done.'\\n    }\\n\\n    clicked.text = '['\\n    for (let i = 0; i < clicked_list.length; i++) {\\n        var edge_str = clicked_list[i].join(',')\\n        clicked.text = clicked.text.concat('(').concat(edge_str).concat(')')\\n        if (!(i == clicked_list.length - 1)) {\\n            clicked.text = clicked.text.concat(',')\\n        }\\n    }\\n    clicked.text = clicked.text.concat(']')\\n\\n    source.change.emit()\\n    nodes_src.change.emit()\\n    edges_src.change.emit()\\n}\\n\\n/**\\n * Check if user-selected node is valid and add to tour if valid.\\n */\\nfunction create_tour_on_click () {\\n    var v = source.data['last_index']\\n    var n = nodes_src.data['line_color'].length\\n    var tour = source.data['clicked']\\n\\n    if (tour.includes(v)) {\\n        error_msg.text = 'This node is already in the tour.'\\n        return;\\n    } else {\\n        error_msg.text = ''\\n    }\\n\\n    function add_node(v) {\\n        // add to cost\\n        if (tour.length > 0) {\\n            var u = tour[tour.length - 1]\\n            var prev_cost = parseFloat(cost.text)\\n            cost.text = (prev_cost + cost_matrix.data['G'][u][v]).toFixed(1)\\n        }\\n\\n        // add to tour\\n        tour.push(v)\\n        clicked.text = '['.concat(tour.join(',')).concat(']')\\n\\n        // highlight new node\\n        nodes_src.data['line_color'][v] = PRIMARY_DARK_COLOR\\n        nodes_src.data['fill_color'][v] = PRIMARY_DARK_COLOR\\n\\n        // highlight new edge\\n        tour_src.data['edges_x'].push(nodes_src.data['x'][v])\\n        tour_src.data['edges_y'].push(nodes_src.data['y'][v])\\n    }\\n\\n    add_node(v)\\n    if (tour.length == n) {\\n        add_node(tour[0])\\n        error_msg.text = 'done.'\\n    }\\n\\n    source.change.emit()\\n    tour_src.change.emit()\\n    nodes_src.change.emit()\\n}\\n\\n/**\\n * Iteration of Dijkstra's algorithm.\\n * Check if user-selected node is a valid next node. If valid, add the selected\\n * node. If not, an error message is returned.\\n */\\nfunction dijkstras() {\\n    var dist = source.data['dist']\\n    var prev = source.data['prev']\\n    var S = source.data['settled']\\n    var F = source.data['frontier']\\n\\n    F.sort(function(a,b) {return dist[a] - dist[b]})\\n\\n    if (F.includes(i)) {\\n        if (dist[i] == dist[F[0]]) {\\n            var f = i\\n            F.splice(F.indexOf(f), 1)\\n            S.push(f)\\n            for (let w = 0; w < G.length; w++) {\\n                if (G[f][w] != 0) {\\n                    if (!S.includes(w) && !F.includes(w)) {\\n                        dist[w] = dist[f] + G[f][w]\\n                        prev[w] = f\\n                        F.push(w)\\n                        var k = edge_ids[w][f]\\n                        edges_src.data['line_color'][k] = TERTIARY_DARK_COLOR\\n                    } else {\\n                        if (dist[f] + G[f][w] < dist[w]) {\\n                            var k = edge_ids[prev[w]][w]\\n                            edges_src.data['line_color'][k] = TERTIARY_COLOR\\n\\n                            dist[w] = dist[f] + G[f][w]\\n                            prev[w] = f\\n\\n                            var k = edge_ids[f][w]\\n                            edges_src.data['line_color'][k] = TERTIARY_DARK_COLOR\\n                        }\\n                    }\\n                }\\n            }\\n            error_msg.text = ''\\n        } else {\\n            error_msg.text = 'A closer frontier node exists.'\\n        }\\n    } else {\\n        error_msg.text = 'This node is not in the frontier set.'\\n    }\\n\\n    for (let i = 0; i < G.length; i++) {\\n        // Highlight settled and frontier nodes\\n        if (S.includes(i)) {\\n            nodes_src.data['fill_color'][i] = PRIMARY_DARK_COLOR\\n            nodes_src.data['line_color'][i] = PRIMARY_DARK_COLOR\\n        } else if (F.includes(i)) {\\n            nodes_src.data['fill_color'][i] = SECONDARY_COLOR\\n            nodes_src.data['line_color'][i] = SECONDARY_DARK_COLOR\\n        } else {\\n            nodes_src.data['fill_color'][i] = PRIMARY_LIGHT_COLOR\\n            nodes_src.data['line_color'][i] = PRIMARY_DARK_COLOR\\n        }\\n\\n        // Update table source\\n        var dist_text\\n        var prev_text\\n        if (isFinite(dist[i])) {\\n            dist_text = dist[i].toFixed(1)\\n        } else {\\n            dist_text = 'inf'\\n        }\\n        if (S.includes(i)) {\\n            dist_text = dist_text.concat('*')\\n        }\\n\\n        if (isNaN(prev[i])) {\\n            prev_text = '-'\\n        } else {\\n            prev_text = prev[i]\\n        }\\n        table_src.data[i.toString()] = [dist_text, prev_text]\\n    }\\n\\n    if (F.length == 0) {\\n        error_msg.text = 'done.'\\n    }\\n\\n    source.change.emit()\\n    nodes_src.change.emit()\\n    edges_src.change.emit()\\n    table_src.change.emit()\\n}\\n\\n// BEGIN FUNCTION CALLING\\ncheck_done()\\nload_data()\\ndijkstras()\\n\"},\"id\":\"1244\",\"type\":\"CustomJS\"},{\"attributes\":{\"data\":{\"0\":[\"inf\",\"0\"],\"1\":[\"inf\",\"-\"],\"10\":[\"inf\",\"-\"],\"11\":[\"inf\",\"-\"],\"12\":[\"inf\",\"-\"],\"13\":[\"inf\",\"-\"],\"2\":[\"inf\",\"-\"],\"3\":[\"inf\",\"-\"],\"4\":[\"inf\",\"-\"],\"5\":[\"inf\",\"-\"],\"6\":[\"inf\",\"-\"],\"7\":[\"inf\",\"-\"],\"8\":[\"inf\",\"-\"],\"9\":[\"inf\",\"-\"],\"index\":[\"label\",\"prev\"]},\"selected\":{\"id\":\"1269\"},\"selection_policy\":{\"id\":\"1268\"}},\"id\":\"1223\",\"type\":\"ColumnDataSource\"},{\"attributes\":{\"callback\":{\"id\":\"1244\"},\"renderers\":[{\"id\":\"1203\"}]},\"id\":\"1245\",\"type\":\"TapTool\"},{\"attributes\":{},\"id\":\"1291\",\"type\":\"StringFormatter\"},{\"attributes\":{\"children\":[{\"id\":\"1222\"}]},\"id\":\"1249\",\"type\":\"Row\"},{\"attributes\":{\"editor\":{\"id\":\"1272\"},\"field\":\"index\",\"formatter\":{\"id\":\"1271\"},\"title\":\"\"},\"id\":\"1224\",\"type\":\"TableColumn\"},{\"attributes\":{},\"id\":\"1292\",\"type\":\"StringEditor\"},{\"attributes\":{},\"id\":\"1293\",\"type\":\"StringFormatter\"},{\"attributes\":{\"editor\":{\"id\":\"1274\"},\"field\":\"0\",\"formatter\":{\"id\":\"1273\"},\"title\":\"0\"},\"id\":\"1225\",\"type\":\"TableColumn\"},{\"attributes\":{},\"id\":\"1252\",\"type\":\"BasicTickFormatter\"},{\"attributes\":{},\"id\":\"1294\",\"type\":\"StringEditor\"},{\"attributes\":{},\"id\":\"1254\",\"type\":\"BasicTickFormatter\"},{\"attributes\":{},\"id\":\"1295\",\"type\":\"StringFormatter\"},{\"attributes\":{\"editor\":{\"id\":\"1276\"},\"field\":\"1\",\"formatter\":{\"id\":\"1275\"},\"title\":\"1\"},\"id\":\"1226\",\"type\":\"TableColumn\"},{\"attributes\":{},\"id\":\"1296\",\"type\":\"StringEditor\"},{\"attributes\":{},\"id\":\"1255\",\"type\":\"UnionRenderers\"},{\"attributes\":{},\"id\":\"1297\",\"type\":\"StringFormatter\"},{\"attributes\":{},\"id\":\"1256\",\"type\":\"Selection\"},{\"attributes\":{\"editor\":{\"id\":\"1278\"},\"field\":\"2\",\"formatter\":{\"id\":\"1277\"},\"title\":\"2\"},\"id\":\"1227\",\"type\":\"TableColumn\"},{\"attributes\":{},\"id\":\"1298\",\"type\":\"StringEditor\"},{\"attributes\":{},\"id\":\"1257\",\"type\":\"UnionRenderers\"},{\"attributes\":{},\"id\":\"1299\",\"type\":\"StringFormatter\"},{\"attributes\":{},\"id\":\"1258\",\"type\":\"Selection\"},{\"attributes\":{\"editor\":{\"id\":\"1280\"},\"field\":\"3\",\"formatter\":{\"id\":\"1279\"},\"title\":\"3\"},\"id\":\"1228\",\"type\":\"TableColumn\"},{\"attributes\":{},\"id\":\"1300\",\"type\":\"StringEditor\"},{\"attributes\":{},\"id\":\"1259\",\"type\":\"UnionRenderers\"},{\"attributes\":{},\"id\":\"1264\",\"type\":\"UnionRenderers\"},{\"attributes\":{\"editor\":{\"id\":\"1282\"},\"field\":\"4\",\"formatter\":{\"id\":\"1281\"},\"title\":\"4\"},\"id\":\"1229\",\"type\":\"TableColumn\"},{\"attributes\":{},\"id\":\"1265\",\"type\":\"Selection\"},{\"attributes\":{},\"id\":\"1266\",\"type\":\"UnionRenderers\"},{\"attributes\":{\"editor\":{\"id\":\"1284\"},\"field\":\"5\",\"formatter\":{\"id\":\"1283\"},\"title\":\"5\"},\"id\":\"1230\",\"type\":\"TableColumn\"},{\"attributes\":{},\"id\":\"1267\",\"type\":\"Selection\"},{\"attributes\":{},\"id\":\"1268\",\"type\":\"UnionRenderers\"},{\"attributes\":{\"editor\":{\"id\":\"1286\"},\"field\":\"6\",\"formatter\":{\"id\":\"1285\"},\"title\":\"6\"},\"id\":\"1231\",\"type\":\"TableColumn\"},{\"attributes\":{},\"id\":\"1269\",\"type\":\"Selection\"},{\"attributes\":{},\"id\":\"1271\",\"type\":\"StringFormatter\"},{\"attributes\":{\"editor\":{\"id\":\"1288\"},\"field\":\"7\",\"formatter\":{\"id\":\"1287\"},\"title\":\"7\"},\"id\":\"1232\",\"type\":\"TableColumn\"},{\"attributes\":{},\"id\":\"1272\",\"type\":\"StringEditor\"},{\"attributes\":{},\"id\":\"1273\",\"type\":\"StringFormatter\"},{\"attributes\":{\"editor\":{\"id\":\"1290\"},\"field\":\"8\",\"formatter\":{\"id\":\"1289\"},\"title\":\"8\"},\"id\":\"1233\",\"type\":\"TableColumn\"},{\"attributes\":{},\"id\":\"1274\",\"type\":\"StringEditor\"},{\"attributes\":{},\"id\":\"1275\",\"type\":\"StringFormatter\"},{\"attributes\":{\"editor\":{\"id\":\"1292\"},\"field\":\"9\",\"formatter\":{\"id\":\"1291\"},\"title\":\"9\"},\"id\":\"1234\",\"type\":\"TableColumn\"},{\"attributes\":{},\"id\":\"1276\",\"type\":\"StringEditor\"},{\"attributes\":{},\"id\":\"1277\",\"type\":\"StringFormatter\"},{\"attributes\":{\"editor\":{\"id\":\"1294\"},\"field\":\"10\",\"formatter\":{\"id\":\"1293\"},\"title\":\"10\"},\"id\":\"1235\",\"type\":\"TableColumn\"},{\"attributes\":{},\"id\":\"1278\",\"type\":\"StringEditor\"},{\"attributes\":{},\"id\":\"1279\",\"type\":\"StringFormatter\"},{\"attributes\":{\"editor\":{\"id\":\"1296\"},\"field\":\"11\",\"formatter\":{\"id\":\"1295\"},\"title\":\"11\"},\"id\":\"1236\",\"type\":\"TableColumn\"},{\"attributes\":{},\"id\":\"1280\",\"type\":\"StringEditor\"},{\"attributes\":{},\"id\":\"1281\",\"type\":\"StringFormatter\"},{\"attributes\":{\"editor\":{\"id\":\"1298\"},\"field\":\"12\",\"formatter\":{\"id\":\"1297\"},\"title\":\"12\"},\"id\":\"1237\",\"type\":\"TableColumn\"},{\"attributes\":{},\"id\":\"1282\",\"type\":\"StringEditor\"},{\"attributes\":{},\"id\":\"1283\",\"type\":\"StringFormatter\"},{\"attributes\":{\"data\":{\"clicked\":[],\"dist\":[0,\"Infinity\",\"Infinity\",\"Infinity\",\"Infinity\",\"Infinity\",\"Infinity\",\"Infinity\",\"Infinity\",\"Infinity\",\"Infinity\",\"Infinity\",\"Infinity\",\"Infinity\"],\"edge_ids\":[[0.0,22.0,0.0,0.0,0.0,0.0,0.0,0.0,0.0,0.0,26.0,25.0,0.0,20.0],[22.0,0.0,8.0,0.0,0.0,0.0,0.0,0.0,0.0,0.0,0.0,23.0,0.0,19.0],[0.0,8.0,0.0,6.0,0.0,0.0,0.0,0.0,0.0,0.0,0.0,9.0,0.0,7.0],[0.0,0.0,6.0,0.0,10.0,0.0,0.0,0.0,0.0,0.0,0.0,0.0,0.0,11.0],[0.0,0.0,0.0,10.0,0.0,12.0,0.0,0.0,0.0,0.0,0.0,0.0,0.0,13.0],[0.0,0.0,0.0,0.0,12.0,0.0,14.0,0.0,0.0,0.0,0.0,0.0,0.0,0.0],[0.0,0.0,0.0,0.0,0.0,14.0,0.0,15.0,2.0,0.0,0.0,0.0,17.0,16.0],[0.0,0.0,0.0,0.0,0.0,0.0,15.0,0.0,3.0,0.0,0.0,0.0,0.0,0.0],[0.0,0.0,0.0,0.0,0.0,0.0,2.0,3.0,0.0,0.0,0.0,0.0,1.0,0.0],[0.0,0.0,0.0,0.0,0.0,0.0,0.0,0.0,0.0,0.0,5.0,4.0,0.0,0.0],[26.0,0.0,0.0,0.0,0.0,0.0,0.0,0.0,0.0,5.0,0.0,24.0,0.0,0.0],[25.0,23.0,9.0,0.0,0.0,0.0,0.0,0.0,0.0,4.0,24.0,0.0,21.0,0.0],[0.0,0.0,0.0,0.0,0.0,0.0,17.0,0.0,1.0,0.0,0.0,21.0,0.0,18.0],[20.0,19.0,7.0,11.0,13.0,0.0,16.0,0.0,0.0,0.0,0.0,0.0,18.0,0.0]],\"frontier\":[0],\"prev\":[\"NaN\",\"NaN\",\"NaN\",\"NaN\",\"NaN\",\"NaN\",\"NaN\",\"NaN\",\"NaN\",\"NaN\",\"NaN\",\"NaN\",\"NaN\",\"NaN\"],\"settled\":[],\"tree_edges\":[],\"unvisited\":[0,1,2,3,4,5,6,7,8,9,10,11,12,13],\"visited\":[]},\"selected\":{\"id\":\"1265\"},\"selection_policy\":{\"id\":\"1264\"}},\"id\":\"1221\",\"type\":\"ColumnDataSource\"},{\"attributes\":{\"editor\":{\"id\":\"1300\"},\"field\":\"13\",\"formatter\":{\"id\":\"1299\"},\"title\":\"13\"},\"id\":\"1238\",\"type\":\"TableColumn\"},{\"attributes\":{},\"id\":\"1284\",\"type\":\"StringEditor\"},{\"attributes\":{\"background\":\"white\",\"columns\":[{\"id\":\"1224\"},{\"id\":\"1225\"},{\"id\":\"1226\"},{\"id\":\"1227\"},{\"id\":\"1228\"},{\"id\":\"1229\"},{\"id\":\"1230\"},{\"id\":\"1231\"},{\"id\":\"1232\"},{\"id\":\"1233\"},{\"id\":\"1234\"},{\"id\":\"1235\"},{\"id\":\"1236\"},{\"id\":\"1237\"},{\"id\":\"1238\"}],\"height\":80,\"index_position\":null,\"max_width\":500,\"reorderable\":false,\"selectable\":false,\"sortable\":false,\"source\":{\"id\":\"1223\"},\"view\":{\"id\":\"1240\"},\"width\":500,\"width_policy\":\"fit\"},\"id\":\"1239\",\"type\":\"DataTable\"},{\"attributes\":{},\"id\":\"1285\",\"type\":\"StringFormatter\"},{\"attributes\":{\"callback\":{\"id\":\"1242\"},\"renderers\":[{\"id\":\"1203\"}],\"tooltips\":null},\"id\":\"1243\",\"type\":\"HoverTool\"},{\"attributes\":{\"source\":{\"id\":\"1223\"}},\"id\":\"1240\",\"type\":\"CDSView\"},{\"attributes\":{},\"id\":\"1286\",\"type\":\"StringEditor\"},{\"attributes\":{\"callback\":null,\"renderers\":[{\"id\":\"1203\"}],\"tooltips\":[[\"Index\",\"$index\"],[\"Name\",\"@name\"]]},\"id\":\"1241\",\"type\":\"HoverTool\"},{\"attributes\":{},\"id\":\"1287\",\"type\":\"StringFormatter\"},{\"attributes\":{},\"id\":\"1288\",\"type\":\"StringEditor\"},{\"attributes\":{\"args\":{\"source\":{\"id\":\"1221\"}},\"code\":\"source.data['last_index'] = cb_data.index.indices[0]\"},\"id\":\"1242\",\"type\":\"CustomJS\"},{\"attributes\":{},\"id\":\"1289\",\"type\":\"StringFormatter\"}],\"root_ids\":[\"1303\"]},\"title\":\"Bokeh Application\",\"version\":\"2.2.3\"}};\n",
       "  var render_items = [{\"docid\":\"6b7cc496-2129-431b-a26f-87e65055d545\",\"root_ids\":[\"1303\"],\"roots\":{\"1303\":\"8c765550-97ff-4e08-8b59-05a2b4409151\"}}];\n",
       "  root.Bokeh.embed.embed_items_notebook(docs_json, render_items);\n",
       "\n",
       "  }\n",
       "  if (root.Bokeh !== undefined) {\n",
       "    embed_document(root);\n",
       "  } else {\n",
       "    var attempts = 0;\n",
       "    var timer = setInterval(function(root) {\n",
       "      if (root.Bokeh !== undefined) {\n",
       "        clearInterval(timer);\n",
       "        embed_document(root);\n",
       "      } else {\n",
       "        attempts++;\n",
       "        if (attempts > 100) {\n",
       "          clearInterval(timer);\n",
       "          console.log(\"Bokeh: ERROR: Unable to run BokehJS code because BokehJS library is missing\");\n",
       "        }\n",
       "      }\n",
       "    }, 10, root)\n",
       "  }\n",
       "})(window);"
      ],
      "application/vnd.bokehjs_exec.v0+json": ""
     },
     "metadata": {
      "application/vnd.bokehjs_exec.v0+json": {
       "id": "1303"
      }
     },
     "output_type": "display_data"
    }
   ],
   "source": [
    "show(vl.assisted_dijkstras_plot(G, s=s, width=500, height=500, show_cost=False))"
   ]
  },
  {
   "cell_type": "markdown",
   "metadata": {},
   "source": [
    "After clicking those two nodes, you should notice that several things happen:\n",
    "\n",
    "- Node 0 and 10 turn solid dark blue\n",
    "- The current shortest path tree is shown by highlighting edges in dark grey\n",
    "- The table on the bottom updates, and you can see the current version of the Dijkstra table \n",
    "- In the current table, node 10 is now starred and prev(10) is marked as node 0"
   ]
  },
  {
   "cell_type": "markdown",
   "metadata": {},
   "source": [
    "**Q5:** The graph shows three styles of nodes (solid dark blue, red, and light blue). What does each style of node represent?\n",
    "\n",
    "**A:** <font color='blue'> Solid dark blue nodes are starred (settled), red nodes are neighbors of starred nodes (frontier), and light blue nodes are the reamining unexplored ones (far away).</font>"
   ]
  },
  {
   "cell_type": "markdown",
   "metadata": {},
   "source": [
    "How do we find the next edge to add to the tree (i.e., the next edge to “darken”)? One way is as follows. Compute the travel times for all routes that either go directly from Jameson Hall (0) to a destination or go from Jameson Hall (0) to High Rise 5 (10) and then directly to a destination. Take the shortest of all these routes and add it to the tree. For instance, in this case, we consider the following routes. Node IDs are in parenthesis.\n",
    "\n",
    "\n",
    "| Route | Travel Time |\n",
    "|-------|-------------|\n",
    "|Jameson Hall (0) - High Rise 5 (10) | **2**\n",
    "|Jameson Hall (0) - Clara Dickson Hall (1) | 2*\n",
    "|Jameson Hall (0) - Helen Newman (11) | 3\n",
    "|Jameson Hall (0) - Lynah Hockey Rink (13) | 17\n",
    "|Jameson Hall (0) - High Rise 5 (10) - Holland International Living Center (9) | 3\n",
    "|Jameson Hall (0) - High Rise 5 (10) - Helen Newman (11) | 7"
   ]
  },
  {
   "cell_type": "markdown",
   "metadata": {},
   "source": [
    "**Q6:** Consider all of the nodes we can reach by these paths (0, 10, 1, 11, 13, and 9). What is true about those nodes (and only those nodes) in the current iteration of Dijkstra's.\n",
    "\n",
    "**A:** <font color='blue'> They are all dark blue or red and have a finite distance to the source node in the table. </font>"
   ]
  },
  {
   "cell_type": "markdown",
   "metadata": {},
   "source": [
    "**Q7:** There are two paths to node 11 listed above. Look at node 11 in the table. Which of those two paths is indicated in the table? Using just the table – without referring back to the original graph or edge lengths – how can you identify this path?\n",
    "\n",
    "**A:** <font color='blue'> The path (0,11) is indicated in the table because prev(11) is 0. If prev(11) = 10 and prev(10) = 0, it would have indicated the other path.</font>"
   ]
  },
  {
   "cell_type": "markdown",
   "metadata": {},
   "source": [
    "Now back to Dijkstra and we pick Clara Dickson (1). Jameson Hall to Clara Dickson is the shortest route on this list (we’ve marked it with a *). "
   ]
  },
  {
   "cell_type": "markdown",
   "metadata": {},
   "source": [
    "**Q8:** Can there be a shorter route to Clara Dickson (1) than the one that we just added? Why or why not? Answer this question in as much generality as possible. (Hint: suppose that there were some shorter path that went from Jameson (0) – SOMEWHERE ELSE – Clara Dickson (1). How would the length of the first edge in this path have to compare to the length of the edge directly between Jameson (0) and Clara Dickson (1)?)\n",
    "\n",
    "**A:** <font color='blue'>No. The first edge in any path of the form source – SOMEWHERE ELSE – Clara Dickson (1) would as great or greater than the one we just added. This is becuase we selected the one for which this distance was the shortest!</font>"
   ]
  },
  {
   "cell_type": "markdown",
   "metadata": {},
   "source": [
    "Now we update the table for the next iteration: if two entries have the same destination we drop the more expensive one (e.g., we drop the Jameson Hall (0) - High Rise 5 (10) - Helen Newman (11) route, since it takes longer than the direct Jameson Hall (0) - Helen Newman (11) route). Then for each destination that can be reached from Clara Dickson (1), we compute the length of the path using only nodes already marked, with Clara Dickson (1) being the second-to-last node on the path."
   ]
  },
  {
   "cell_type": "markdown",
   "metadata": {},
   "source": [
    "**Q9:** Fill in the missing entries in the table below. Then, as before, cross out any redundant paths (like the Jameson Hall (0) - High Rise 5 (10) - Helen Newman (11) path which we previously dropped).\n",
    "\n",
    "**A:**\n",
    "\n",
    "| Route | Travel Time |\n",
    "|-------|-------------|\n",
    "|Jameson Hall (0) - High Rise 5 (10) | **2**\n",
    "|Jameson Hall (0) - Clara Dickson Hall (1) | 2*\n",
    "|Jameson Hall (0) - Helen Newman (11) | 3\n",
    "|Jameson Hall (0) - Lynah Hockey Rink (13) | 17\n",
    "|Jameson Hall (0) - High Rise 5 (10) - Holland International Living Center (9) | 3\n",
    "|Jameson Hall (0) - Clara Dickson Hall (1) - ? | ?\n",
    "|Jameson Hall (0) - Clara Dickson Hall (1) - ? | ?\n",
    "|Jameson Hall (0) - Clara Dickson Hall (1) - ? | ?\n",
    "\n",
    "<font color='blue'> \n",
    "    \n",
    "| Route | Travel Time |\n",
    "|-------|-------------|\n",
    "|Jameson Hall (0) - High Rise 5 (10) | **2**\n",
    "|Jameson Hall (0) - Clara Dickson Hall (1) | 2*\n",
    "|Jameson Hall (0) - Helen Newman (11) | 3\n",
    "|Jameson Hall (0) - Lynah Hockey Rink (13) | 17 (CROSS OUT)\n",
    "|Jameson Hall (0) - High Rise 5 (10) - Holland International Living Center (9) | 3\n",
    "|Jameson Hall (0) - Clara Dickson Hall (1) - Helen Newman (11) | 5 (CROSS OUT)\n",
    "|Jameson Hall (0) - Clara Dickson Hall (1) - Hockey Rink (13) | 16\n",
    "|Jameson Hall (0) - Clara Dickson Hall (1) - Willard Straight (2) | 20\n",
    "</font>\n"
   ]
  },
  {
   "cell_type": "markdown",
   "metadata": {},
   "source": [
    "On the graph, click Clara Dickson Hall (2). Use the updated table to verify your work. Notice that we discovered a shorter path to Lynah Hockey Rink through Clara Dickson and we see the highlighted edges change according! "
   ]
  },
  {
   "cell_type": "markdown",
   "metadata": {},
   "source": [
    "**Q10:** Which node should be clicked next? Call it $X$. What is prev(X) and the shortest path from  Jameson Hall to X?\n",
    "\n",
    "**A:** <font color='blue'>The next node to be clicked is Holland International Living Center (9), prev(9) = 10, and the shortest path is (0,10),(10,9).</font>"
   ]
  },
  {
   "cell_type": "markdown",
   "metadata": {},
   "source": [
    "Dijkstra’s Algorithm continues in this manner. In the next step, we compute the travel times to destinations not already marked (i.e. starred/solid dark blue) that are adjacent to the lastly marked node, using routes that involve only already marked nodes as intermediate steps."
   ]
  },
  {
   "cell_type": "markdown",
   "metadata": {},
   "source": [
    "**Q11:** Do the next iteration of the algorithm by hand based on your previous answer: write down the nodes that get marked and/or have their labels updated in this iteration.\n",
    "\n",
    "**A:** <font color='blue'> Cornell High Energy (8) is marked and prev(8) = 9 </font>"
   ]
  },
  {
   "cell_type": "markdown",
   "metadata": {},
   "source": [
    "Finish executing Dijkstra's algorithm by clicking the next node to mark at each step. Feel free to use the instance below to avoid scrolling."
   ]
  },
  {
   "cell_type": "code",
   "execution_count": 6,
   "metadata": {},
   "outputs": [
    {
     "data": {
      "text/html": [
       "\n",
       "\n",
       "\n",
       "\n",
       "\n",
       "\n",
       "  <div class=\"bk-root\" id=\"55a4839b-29fd-4fcc-b320-5faf93a48a19\" data-root-id=\"1758\"></div>\n"
      ]
     },
     "metadata": {},
     "output_type": "display_data"
    },
    {
     "data": {
      "application/javascript": [
       "(function(root) {\n",
       "  function embed_document(root) {\n",
       "    \n",
       "  var docs_json = {\"d762b8eb-3a37-4268-8066-f73b49c27309\":{\"roots\":{\"references\":[{\"attributes\":{\"children\":[[{\"id\":\"1618\"},0,0],[{\"id\":\"1694\"},1,0],[{\"id\":\"1704\"},2,0]]},\"id\":\"1758\",\"type\":\"GridBox\"},{\"attributes\":{\"callback\":{\"id\":\"1699\"},\"renderers\":[{\"id\":\"1658\"}]},\"id\":\"1700\",\"type\":\"TapTool\"},{\"attributes\":{},\"id\":\"1744\",\"type\":\"StringFormatter\"},{\"attributes\":{\"children\":[{\"id\":\"1677\"}]},\"id\":\"1704\",\"type\":\"Row\"},{\"attributes\":{},\"id\":\"1745\",\"type\":\"StringEditor\"},{\"attributes\":{},\"id\":\"1746\",\"type\":\"StringFormatter\"},{\"attributes\":{},\"id\":\"1707\",\"type\":\"BasicTickFormatter\"},{\"attributes\":{},\"id\":\"1747\",\"type\":\"StringEditor\"},{\"attributes\":{},\"id\":\"1709\",\"type\":\"BasicTickFormatter\"},{\"attributes\":{},\"id\":\"1748\",\"type\":\"StringFormatter\"},{\"attributes\":{},\"id\":\"1749\",\"type\":\"StringEditor\"},{\"attributes\":{},\"id\":\"1710\",\"type\":\"UnionRenderers\"},{\"attributes\":{},\"id\":\"1750\",\"type\":\"StringFormatter\"},{\"attributes\":{},\"id\":\"1711\",\"type\":\"Selection\"},{\"attributes\":{},\"id\":\"1751\",\"type\":\"StringEditor\"},{\"attributes\":{},\"id\":\"1712\",\"type\":\"UnionRenderers\"},{\"attributes\":{},\"id\":\"1752\",\"type\":\"StringFormatter\"},{\"attributes\":{},\"id\":\"1713\",\"type\":\"Selection\"},{\"attributes\":{},\"id\":\"1753\",\"type\":\"StringEditor\"},{\"attributes\":{},\"id\":\"1714\",\"type\":\"UnionRenderers\"},{\"attributes\":{},\"id\":\"1754\",\"type\":\"StringFormatter\"},{\"attributes\":{},\"id\":\"1715\",\"type\":\"Selection\"},{\"attributes\":{},\"id\":\"1755\",\"type\":\"StringEditor\"},{\"attributes\":{},\"id\":\"1717\",\"type\":\"UnionRenderers\"},{\"attributes\":{},\"id\":\"1718\",\"type\":\"Selection\"},{\"attributes\":{},\"id\":\"1719\",\"type\":\"UnionRenderers\"},{\"attributes\":{},\"id\":\"1721\",\"type\":\"UnionRenderers\"},{\"attributes\":{},\"id\":\"1722\",\"type\":\"Selection\"},{\"attributes\":{},\"id\":\"1723\",\"type\":\"UnionRenderers\"},{\"attributes\":{},\"id\":\"1724\",\"type\":\"Selection\"},{\"attributes\":{},\"id\":\"1726\",\"type\":\"StringFormatter\"},{\"attributes\":{},\"id\":\"1727\",\"type\":\"StringEditor\"},{\"attributes\":{},\"id\":\"1728\",\"type\":\"StringFormatter\"},{\"attributes\":{},\"id\":\"1729\",\"type\":\"StringEditor\"},{\"attributes\":{},\"id\":\"1730\",\"type\":\"StringFormatter\"},{\"attributes\":{},\"id\":\"1731\",\"type\":\"StringEditor\"},{\"attributes\":{},\"id\":\"1732\",\"type\":\"StringFormatter\"},{\"attributes\":{},\"id\":\"1733\",\"type\":\"StringEditor\"},{\"attributes\":{},\"id\":\"1734\",\"type\":\"StringFormatter\"},{\"attributes\":{},\"id\":\"1735\",\"type\":\"StringEditor\"},{\"attributes\":{},\"id\":\"1736\",\"type\":\"StringFormatter\"},{\"attributes\":{},\"id\":\"1737\",\"type\":\"StringEditor\"},{\"attributes\":{},\"id\":\"1738\",\"type\":\"StringFormatter\"},{\"attributes\":{},\"id\":\"1739\",\"type\":\"StringEditor\"},{\"attributes\":{},\"id\":\"1740\",\"type\":\"StringFormatter\"},{\"attributes\":{},\"id\":\"1741\",\"type\":\"StringEditor\"},{\"attributes\":{},\"id\":\"1742\",\"type\":\"StringFormatter\"},{\"attributes\":{},\"id\":\"1743\",\"type\":\"StringEditor\"},{\"attributes\":{\"data\":{\"0\":[\"inf\",\"0\"],\"1\":[\"inf\",\"-\"],\"10\":[\"inf\",\"-\"],\"11\":[\"inf\",\"-\"],\"12\":[\"inf\",\"-\"],\"13\":[\"inf\",\"-\"],\"2\":[\"inf\",\"-\"],\"3\":[\"inf\",\"-\"],\"4\":[\"inf\",\"-\"],\"5\":[\"inf\",\"-\"],\"6\":[\"inf\",\"-\"],\"7\":[\"inf\",\"-\"],\"8\":[\"inf\",\"-\"],\"9\":[\"inf\",\"-\"],\"index\":[\"label\",\"prev\"]},\"selected\":{\"id\":\"1724\"},\"selection_policy\":{\"id\":\"1723\"}},\"id\":\"1678\",\"type\":\"ColumnDataSource\"},{\"attributes\":{},\"id\":\"1642\",\"type\":\"HelpTool\"},{\"attributes\":{\"data_source\":{\"id\":\"1660\"},\"glyph\":{\"id\":\"1662\"},\"hover_glyph\":{\"id\":\"1664\"},\"level\":\"underlay\",\"muted_glyph\":null,\"nonselection_glyph\":{\"id\":\"1663\"},\"selection_glyph\":null,\"view\":{\"id\":\"1666\"}},\"id\":\"1665\",\"type\":\"GlyphRenderer\"},{\"attributes\":{\"editor\":{\"id\":\"1727\"},\"field\":\"index\",\"formatter\":{\"id\":\"1726\"},\"title\":\"\"},\"id\":\"1679\",\"type\":\"TableColumn\"},{\"attributes\":{},\"id\":\"1641\",\"type\":\"ResetTool\"},{\"attributes\":{\"line_cap\":\"round\",\"line_color\":{\"field\":\"line_color\"},\"line_width\":{\"value\":5},\"xs\":{\"field\":\"xs\"},\"ys\":{\"field\":\"ys\"}},\"id\":\"1662\",\"type\":\"MultiLine\"},{\"attributes\":{\"data\":{\"fill_color\":[\"#d50000\",\"#5e92f3\",\"#5e92f3\",\"#5e92f3\",\"#5e92f3\",\"#5e92f3\",\"#5e92f3\",\"#5e92f3\",\"#5e92f3\",\"#5e92f3\",\"#5e92f3\",\"#5e92f3\",\"#5e92f3\",\"#5e92f3\"],\"line_color\":[\"#9b0000\",\"#003c8f\",\"#003c8f\",\"#003c8f\",\"#003c8f\",\"#003c8f\",\"#003c8f\",\"#003c8f\",\"#003c8f\",\"#003c8f\",\"#003c8f\",\"#003c8f\",\"#003c8f\",\"#003c8f\"],\"line_width\":[3,3,3,3,3,3,3,3,3,3,3,3,3,3],\"name\":[\"Jameson Hall\",\"Clara Dickson Hall\",\"Willard Straight (and Okenshields)\",\"Cornell Health\",\"Hollister Hall\",\"Duffield Hall\",\"Gates Hall\",\"Rhodes Hall\",\"Cornell High Energy\",\"Holland International Living Center\",\"High Rise 5\",\"Helen Newman Bowling Lanes\",\"Lindseth Climbing Center\",\"Lynah Hockey Rink\"],\"x\":[127,111,51,60,68,83,95,94,132,148,141,127,120,106],\"y\":[296,284,50,8,-28,-28,-16,-55,14,269,296,227,65,62]},\"selected\":{\"id\":\"1711\"},\"selection_policy\":{\"id\":\"1710\"}},\"id\":\"1654\",\"type\":\"ColumnDataSource\"},{\"attributes\":{\"editor\":{\"id\":\"1729\"},\"field\":\"0\",\"formatter\":{\"id\":\"1728\"},\"title\":\"0\"},\"id\":\"1680\",\"type\":\"TableColumn\"},{\"attributes\":{\"editor\":{\"id\":\"1731\"},\"field\":\"1\",\"formatter\":{\"id\":\"1730\"},\"title\":\"1\"},\"id\":\"1681\",\"type\":\"TableColumn\"},{\"attributes\":{\"source\":{\"id\":\"1660\"}},\"id\":\"1666\",\"type\":\"CDSView\"},{\"attributes\":{\"editor\":{\"id\":\"1733\"},\"field\":\"2\",\"formatter\":{\"id\":\"1732\"},\"title\":\"2\"},\"id\":\"1682\",\"type\":\"TableColumn\"},{\"attributes\":{\"line_cap\":\"round\",\"line_color\":{\"field\":\"line_color\"},\"line_width\":{\"value\":5},\"xs\":{\"field\":\"xs\"},\"ys\":{\"field\":\"ys\"}},\"id\":\"1663\",\"type\":\"MultiLine\"},{\"attributes\":{\"bottom_units\":\"screen\",\"fill_alpha\":0.5,\"fill_color\":\"lightgrey\",\"left_units\":\"screen\",\"level\":\"overlay\",\"line_alpha\":1.0,\"line_color\":\"black\",\"line_dash\":[4,4],\"line_width\":2,\"right_units\":\"screen\",\"top_units\":\"screen\"},\"id\":\"1643\",\"type\":\"BoxAnnotation\"},{\"attributes\":{\"active_drag\":null,\"active_inspect\":\"auto\",\"active_multi\":null,\"active_scroll\":null,\"active_tap\":\"auto\",\"logo\":null,\"tools\":[{\"id\":\"1637\"},{\"id\":\"1638\"},{\"id\":\"1639\"},{\"id\":\"1640\"},{\"id\":\"1641\"},{\"id\":\"1642\"},{\"id\":\"1696\"},{\"id\":\"1698\"},{\"id\":\"1700\"}]},\"id\":\"1644\",\"type\":\"Toolbar\"},{\"attributes\":{\"editor\":{\"id\":\"1735\"},\"field\":\"3\",\"formatter\":{\"id\":\"1734\"},\"title\":\"3\"},\"id\":\"1683\",\"type\":\"TableColumn\"},{\"attributes\":{\"editor\":{\"id\":\"1737\"},\"field\":\"4\",\"formatter\":{\"id\":\"1736\"},\"title\":\"4\"},\"id\":\"1684\",\"type\":\"TableColumn\"},{\"attributes\":{\"editor\":{\"id\":\"1739\"},\"field\":\"5\",\"formatter\":{\"id\":\"1738\"},\"title\":\"5\"},\"id\":\"1685\",\"type\":\"TableColumn\"},{\"attributes\":{},\"id\":\"1640\",\"type\":\"SaveTool\"},{\"attributes\":{\"align\":\"center\",\"width\":166},\"id\":\"1677\",\"type\":\"Div\"},{\"attributes\":{\"line_cap\":\"round\",\"line_color\":{\"value\":\"#404040\"},\"line_width\":{\"value\":5},\"xs\":{\"field\":\"xs\"},\"ys\":{\"field\":\"ys\"}},\"id\":\"1664\",\"type\":\"MultiLine\"},{\"attributes\":{\"editor\":{\"id\":\"1741\"},\"field\":\"6\",\"formatter\":{\"id\":\"1740\"},\"title\":\"6\"},\"id\":\"1686\",\"type\":\"TableColumn\"},{\"attributes\":{\"data\":{\"G\":[[0.0,2.0,0.0,0.0,0.0,0.0,0.0,0.0,0.0,0.0,2.0,3.0,0.0,17.0],[2.0,0.0,18.0,0.0,0.0,0.0,0.0,0.0,0.0,0.0,0.0,3.0,0.0,14.0],[0.0,18.0,0.0,3.0,0.0,0.0,0.0,0.0,0.0,0.0,0.0,19.0,0.0,8.0],[0.0,0.0,3.0,0.0,3.0,0.0,0.0,0.0,0.0,0.0,0.0,0.0,0.0,8.0],[0.0,0.0,0.0,3.0,0.0,4.0,0.0,0.0,0.0,0.0,0.0,0.0,0.0,7.0],[0.0,0.0,0.0,0.0,4.0,0.0,2.0,0.0,0.0,0.0,0.0,0.0,0.0,0.0],[0.0,0.0,0.0,0.0,0.0,2.0,0.0,3.0,6.0,0.0,0.0,0.0,5.0,5.0],[0.0,0.0,0.0,0.0,0.0,0.0,3.0,0.0,6.0,0.0,0.0,0.0,0.0,0.0],[0.0,0.0,0.0,0.0,0.0,0.0,6.0,6.0,0.0,14.0,0.0,0.0,5.0,0.0],[0.0,0.0,0.0,0.0,0.0,0.0,0.0,0.0,14.0,0.0,1.0,3.0,0.0,0.0],[2.0,0.0,0.0,0.0,0.0,0.0,0.0,0.0,0.0,1.0,0.0,5.0,0.0,0.0],[3.0,3.0,19.0,0.0,0.0,0.0,0.0,0.0,0.0,3.0,5.0,0.0,12.0,0.0],[0.0,0.0,0.0,0.0,0.0,0.0,5.0,0.0,5.0,0.0,0.0,12.0,0.0,2.0],[17.0,14.0,8.0,8.0,7.0,0.0,5.0,0.0,0.0,0.0,0.0,0.0,2.0,0.0]]},\"selected\":{\"id\":\"1722\"},\"selection_policy\":{\"id\":\"1721\"}},\"id\":\"1675\",\"type\":\"ColumnDataSource\"},{\"attributes\":{\"text\":\"\"},\"id\":\"1619\",\"type\":\"Title\"},{\"attributes\":{\"editor\":{\"id\":\"1743\"},\"field\":\"7\",\"formatter\":{\"id\":\"1742\"},\"title\":\"7\"},\"id\":\"1687\",\"type\":\"TableColumn\"},{\"attributes\":{\"data\":{\"clicked\":[],\"dist\":[0,\"Infinity\",\"Infinity\",\"Infinity\",\"Infinity\",\"Infinity\",\"Infinity\",\"Infinity\",\"Infinity\",\"Infinity\",\"Infinity\",\"Infinity\",\"Infinity\",\"Infinity\"],\"edge_ids\":[[0.0,22.0,0.0,0.0,0.0,0.0,0.0,0.0,0.0,0.0,26.0,25.0,0.0,20.0],[22.0,0.0,8.0,0.0,0.0,0.0,0.0,0.0,0.0,0.0,0.0,23.0,0.0,19.0],[0.0,8.0,0.0,6.0,0.0,0.0,0.0,0.0,0.0,0.0,0.0,9.0,0.0,7.0],[0.0,0.0,6.0,0.0,10.0,0.0,0.0,0.0,0.0,0.0,0.0,0.0,0.0,11.0],[0.0,0.0,0.0,10.0,0.0,12.0,0.0,0.0,0.0,0.0,0.0,0.0,0.0,13.0],[0.0,0.0,0.0,0.0,12.0,0.0,14.0,0.0,0.0,0.0,0.0,0.0,0.0,0.0],[0.0,0.0,0.0,0.0,0.0,14.0,0.0,15.0,2.0,0.0,0.0,0.0,17.0,16.0],[0.0,0.0,0.0,0.0,0.0,0.0,15.0,0.0,3.0,0.0,0.0,0.0,0.0,0.0],[0.0,0.0,0.0,0.0,0.0,0.0,2.0,3.0,0.0,0.0,0.0,0.0,1.0,0.0],[0.0,0.0,0.0,0.0,0.0,0.0,0.0,0.0,0.0,0.0,5.0,4.0,0.0,0.0],[26.0,0.0,0.0,0.0,0.0,0.0,0.0,0.0,0.0,5.0,0.0,24.0,0.0,0.0],[25.0,23.0,9.0,0.0,0.0,0.0,0.0,0.0,0.0,4.0,24.0,0.0,21.0,0.0],[0.0,0.0,0.0,0.0,0.0,0.0,17.0,0.0,1.0,0.0,0.0,21.0,0.0,18.0],[20.0,19.0,7.0,11.0,13.0,0.0,16.0,0.0,0.0,0.0,0.0,0.0,18.0,0.0]],\"frontier\":[0],\"prev\":[\"NaN\",\"NaN\",\"NaN\",\"NaN\",\"NaN\",\"NaN\",\"NaN\",\"NaN\",\"NaN\",\"NaN\",\"NaN\",\"NaN\",\"NaN\",\"NaN\"],\"settled\":[],\"tree_edges\":[],\"unvisited\":[0,1,2,3,4,5,6,7,8,9,10,11,12,13],\"visited\":[]},\"selected\":{\"id\":\"1720\"},\"selection_policy\":{\"id\":\"1719\"}},\"id\":\"1676\",\"type\":\"ColumnDataSource\"},{\"attributes\":{\"fill_color\":{\"field\":\"fill_color\"},\"line_color\":{\"field\":\"line_color\"},\"line_width\":{\"field\":\"line_width\"},\"size\":{\"units\":\"screen\",\"value\":11},\"x\":{\"field\":\"x\"},\"y\":{\"field\":\"y\"}},\"id\":\"1657\",\"type\":\"Circle\"},{\"attributes\":{},\"id\":\"1627\",\"type\":\"LinearScale\"},{\"attributes\":{\"data_source\":{\"id\":\"1654\"},\"glyph\":{\"id\":\"1656\"},\"hover_glyph\":null,\"muted_glyph\":null,\"nonselection_glyph\":{\"id\":\"1657\"},\"selection_glyph\":null,\"view\":{\"id\":\"1659\"}},\"id\":\"1658\",\"type\":\"GlyphRenderer\"},{\"attributes\":{\"editor\":{\"id\":\"1745\"},\"field\":\"8\",\"formatter\":{\"id\":\"1744\"},\"title\":\"8\"},\"id\":\"1688\",\"type\":\"TableColumn\"},{\"attributes\":{\"source\":{\"id\":\"1654\"}},\"id\":\"1659\",\"type\":\"CDSView\"},{\"attributes\":{},\"id\":\"1625\",\"type\":\"LinearScale\"},{\"attributes\":{\"background_fill_color\":null,\"below\":[{\"id\":\"1629\"}],\"border_fill_color\":null,\"center\":[{\"id\":\"1632\"},{\"id\":\"1636\"},{\"id\":\"1673\"}],\"left\":[{\"id\":\"1633\"}],\"outline_line_color\":null,\"plot_height\":500,\"plot_width\":500,\"renderers\":[{\"id\":\"1658\"},{\"id\":\"1665\"},{\"id\":\"1670\"}],\"title\":{\"id\":\"1619\"},\"toolbar\":{\"id\":\"1644\"},\"toolbar_location\":null,\"x_range\":{\"id\":\"1621\"},\"x_scale\":{\"id\":\"1625\"},\"y_range\":{\"id\":\"1623\"},\"y_scale\":{\"id\":\"1627\"}},\"id\":\"1618\",\"subtype\":\"Figure\",\"type\":\"Plot\"},{\"attributes\":{\"editor\":{\"id\":\"1747\"},\"field\":\"9\",\"formatter\":{\"id\":\"1746\"},\"title\":\"9\"},\"id\":\"1689\",\"type\":\"TableColumn\"},{\"attributes\":{\"fill_color\":{\"field\":\"fill_color\"},\"line_color\":{\"field\":\"line_color\"},\"line_width\":{\"field\":\"line_width\"},\"size\":{\"units\":\"screen\",\"value\":11},\"x\":{\"field\":\"x\"},\"y\":{\"field\":\"y\"}},\"id\":\"1656\",\"type\":\"Circle\"},{\"attributes\":{\"end\":156.245,\"start\":42.754999999999995},\"id\":\"1621\",\"type\":\"Range1d\"},{\"attributes\":{\"data\":{\"xs\":[[139.54769615462328,140.45230384537672],[126.8828770389428,125.1171229610572],[114.8289275090869,112.1710724909131],[114.21722514717803,111.78277485282196],[138.6919361087974,136.3080638912026],[145.43178629393617,143.5682137060638],[54.66547860530453,56.33452139469547],[77.1405888403088,79.8594111596912],[79.61055314785354,82.38944685214648],[87.28221404313904,90.71778595686096],[63.14657436429944,64.85342563570057],[81.70458303384284,84.29541696615716],[74.13812,76.86188],[85.86050012641759,88.13949987358241],[87.68732316577159,90.31267683422843],[94.62581958410185,94.37418041589815],[99.8809646803367,101.11903531966328],[106.48539741954187,108.51460258045815],[111.64050168379492,114.35949831620506],[108.33406233663071,108.66593766336928],[115.86904572477269,117.13095427522728],[123.18442424701709,123.81557575298292],[117.66646237536449,120.33353762463551],[118.02951766558283,119.97048233441718],[133.1940151584473,134.8059848415527],[127.0,127.0],[132.63812000000001,135.36187999999999]],\"ys\":[[134.29140746430838,148.7085925356916],[35.747772584493106,43.252227415506894],[0.07750879115152998,-2.07750879115153],[-18.28977539065042,-22.710224609349574],[250.38387221759476,245.6161277824052],[278.90596715196034,286.09403284803955],[32.894433175245524,25.105566824754476],[55.70340120152193,56.29659879847807],[161.5811572766287,172.41884272337123],[134.49936691625797,142.50063308374195],[-6.159584639347429,-13.840415360652571],[33.47929312668509,36.52070687331491],[-27.999999999999993,-27.999999999999993],[14.301184509936405,19.698815490063595],[-23.31267683422842,-20.687323165771602],[-30.59303622002799,-40.40696377997201],[18.61047682420579,27.38952317579421],[21.21268763931559,27.787312360684382],[63.20867893224175,63.79132106775822],[165.63236774640376,180.3676322535962],[171.96936664746718,186.0306333525327],[138.6966754309668,153.30332456903318],[288.9998467815233,291.0001532184766],[258.9573433163612,252.0426566836388],[257.52764613806175,265.47235386193825],[256.57196,266.42804],[296.0,296.0]]},\"selected\":{\"id\":\"1715\"},\"selection_policy\":{\"id\":\"1714\"}},\"id\":\"1667\",\"type\":\"ColumnDataSource\"},{\"attributes\":{\"editor\":{\"id\":\"1749\"},\"field\":\"10\",\"formatter\":{\"id\":\"1748\"},\"title\":\"10\"},\"id\":\"1690\",\"type\":\"TableColumn\"},{\"attributes\":{\"end\":325.835,\"start\":-84.83500000000001},\"id\":\"1623\",\"type\":\"Range1d\"},{\"attributes\":{\"data\":{\"text\":[14,5,6,6,3,1,3,8,18,19,3,8,4,7,2,3,5,5,2,14,17,12,2,3,5,3,2],\"x\":{\"__ndarray__\":\"AAAAAACAYUAAAAAAAIBfQAAAAAAAYFxAAAAAAABAXEAAAAAAADBhQAAAAAAAEGJAAAAAAADAS0AAAAAAAKBTQAAAAAAAQFRAAAAAAABAVkAAAAAAAABQQAAAAAAAwFRAAAAAAADgUkAAAAAAAMBVQAAAAAAAQFZAAAAAAACgV0AAAAAAACBZQAEAAAAA4FpAAAAAAABAXED//////x9bQP//////H11AAAAAAADgXkAAAAAAAMBdQAAAAAAAwF1AAAAAAADAYEAAAAAAAMBfQAAAAAAAwGBA\",\"dtype\":\"float64\",\"order\":\"little\",\"shape\":[27]},\"y\":{\"__ndarray__\":\"AAAAAACwYUAAAAAAAMBDQAAAAAAAAPC/AAAAAACANMD///////9uQAAAAAAAqHFAAAAAAAAAPUAAAAAAAABMQP7/////32RA/v////9PYUAAAAAAAAAkwAAAAAAAgEFA/v//////O8AAAAAAAAAxQAIAAAAAADbAAQAAAADAQcAAAAAAAAA3QAAAAAAAgDhAAAAAAADAT0ABAAAAAKBlQP//////X2ZAAAAAAABAYkAAAAAAACByQP//////729AAAAAAABYcEAAAAAAAFhwQAAAAAAAgHJA\",\"dtype\":\"float64\",\"order\":\"little\",\"shape\":[27]}},\"selected\":{\"id\":\"1718\"},\"selection_policy\":{\"id\":\"1717\"}},\"id\":\"1672\",\"type\":\"ColumnDataSource\"},{\"attributes\":{\"data\":{\"line_color\":[\"#DFDFDF\",\"#DFDFDF\",\"#DFDFDF\",\"#DFDFDF\",\"#DFDFDF\",\"#DFDFDF\",\"#DFDFDF\",\"#DFDFDF\",\"#DFDFDF\",\"#DFDFDF\",\"#DFDFDF\",\"#DFDFDF\",\"#DFDFDF\",\"#DFDFDF\",\"#DFDFDF\",\"#DFDFDF\",\"#DFDFDF\",\"#DFDFDF\",\"#DFDFDF\",\"#DFDFDF\",\"#DFDFDF\",\"#DFDFDF\",\"#DFDFDF\",\"#DFDFDF\",\"#DFDFDF\",\"#DFDFDF\",\"#DFDFDF\"],\"u\":[8,8,8,8,9,9,2,2,2,2,3,3,4,4,5,6,6,6,13,13,13,12,1,1,11,11,0],\"v\":[9,12,6,7,11,10,3,13,1,11,4,13,5,13,6,7,13,12,12,1,0,11,0,11,10,0,10],\"weight\":[14,5,6,6,3,1,3,8,18,19,3,8,4,7,2,3,5,5,2,14,17,12,2,3,5,3,2],\"xs\":[[132,148],[132,120],[132,95],[132,94],[148,127],[148,141],[51,60],[51,106],[51,111],[51,127],[60,68],[60,106],[68,83],[68,106],[83,95],[95,94],[95,106],[95,120],[106,120],[106,111],[106,127],[120,127],[111,127],[111,127],[127,141],[127,127],[127,141]],\"ys\":[[14,269],[14,65],[14,-16],[14,-55],[269,227],[269,296],[50,8],[50,62],[50,284],[50,227],[8,-28],[8,62],[-28,-28],[-28,62],[-28,-16],[-16,-55],[-16,62],[-16,65],[62,65],[62,284],[62,296],[65,227],[284,296],[284,227],[227,296],[227,296],[296,296]]},\"selected\":{\"id\":\"1713\"},\"selection_policy\":{\"id\":\"1712\"}},\"id\":\"1660\",\"type\":\"ColumnDataSource\"},{\"attributes\":{\"editor\":{\"id\":\"1751\"},\"field\":\"11\",\"formatter\":{\"id\":\"1750\"},\"title\":\"11\"},\"id\":\"1691\",\"type\":\"TableColumn\"},{\"attributes\":{\"data_source\":{\"id\":\"1667\"},\"glyph\":{\"id\":\"1668\"},\"hover_glyph\":null,\"level\":\"guide\",\"muted_glyph\":null,\"nonselection_glyph\":{\"id\":\"1669\"},\"selection_glyph\":null,\"view\":{\"id\":\"1671\"}},\"id\":\"1670\",\"type\":\"GlyphRenderer\"},{\"attributes\":{\"line_color\":{\"value\":\"white\"},\"line_width\":{\"value\":6},\"xs\":{\"field\":\"xs\"},\"ys\":{\"field\":\"ys\"}},\"id\":\"1668\",\"type\":\"MultiLine\"},{\"attributes\":{\"axis\":{\"id\":\"1629\"},\"grid_line_color\":null,\"ticker\":null},\"id\":\"1632\",\"type\":\"Grid\"},{\"attributes\":{\"source\":{\"id\":\"1667\"}},\"id\":\"1671\",\"type\":\"CDSView\"},{\"attributes\":{\"editor\":{\"id\":\"1753\"},\"field\":\"12\",\"formatter\":{\"id\":\"1752\"},\"title\":\"12\"},\"id\":\"1692\",\"type\":\"TableColumn\"},{\"attributes\":{\"line_color\":{\"value\":\"white\"},\"line_width\":{\"value\":6},\"xs\":{\"field\":\"xs\"},\"ys\":{\"field\":\"ys\"}},\"id\":\"1669\",\"type\":\"MultiLine\"},{\"attributes\":{},\"id\":\"1630\",\"type\":\"BasicTicker\"},{\"attributes\":{\"source\":{\"id\":\"1672\"},\"text_align\":\"center\",\"text_baseline\":\"middle\",\"text_color\":{\"value\":\"black\"},\"text_font_size\":{\"value\":\"13px\"},\"x\":{\"field\":\"x\"},\"y\":{\"field\":\"y\"}},\"id\":\"1673\",\"type\":\"LabelSet\"},{\"attributes\":{\"formatter\":{\"id\":\"1707\"},\"ticker\":{\"id\":\"1630\"},\"visible\":false},\"id\":\"1629\",\"type\":\"LinearAxis\"},{\"attributes\":{\"editor\":{\"id\":\"1755\"},\"field\":\"13\",\"formatter\":{\"id\":\"1754\"},\"title\":\"13\"},\"id\":\"1693\",\"type\":\"TableColumn\"},{\"attributes\":{\"background\":\"white\",\"columns\":[{\"id\":\"1679\"},{\"id\":\"1680\"},{\"id\":\"1681\"},{\"id\":\"1682\"},{\"id\":\"1683\"},{\"id\":\"1684\"},{\"id\":\"1685\"},{\"id\":\"1686\"},{\"id\":\"1687\"},{\"id\":\"1688\"},{\"id\":\"1689\"},{\"id\":\"1690\"},{\"id\":\"1691\"},{\"id\":\"1692\"},{\"id\":\"1693\"}],\"height\":80,\"index_position\":null,\"max_width\":500,\"reorderable\":false,\"selectable\":false,\"sortable\":false,\"source\":{\"id\":\"1678\"},\"view\":{\"id\":\"1695\"},\"width\":500,\"width_policy\":\"fit\"},\"id\":\"1694\",\"type\":\"DataTable\"},{\"attributes\":{},\"id\":\"1720\",\"type\":\"Selection\"},{\"attributes\":{\"axis\":{\"id\":\"1633\"},\"dimension\":1,\"grid_line_color\":null,\"ticker\":null},\"id\":\"1636\",\"type\":\"Grid\"},{\"attributes\":{\"source\":{\"id\":\"1678\"}},\"id\":\"1695\",\"type\":\"CDSView\"},{\"attributes\":{},\"id\":\"1634\",\"type\":\"BasicTicker\"},{\"attributes\":{\"formatter\":{\"id\":\"1709\"},\"ticker\":{\"id\":\"1634\"},\"visible\":false},\"id\":\"1633\",\"type\":\"LinearAxis\"},{\"attributes\":{\"callback\":null,\"renderers\":[{\"id\":\"1658\"}],\"tooltips\":[[\"Index\",\"$index\"],[\"Name\",\"@name\"]]},\"id\":\"1696\",\"type\":\"HoverTool\"},{\"attributes\":{\"args\":{\"source\":{\"id\":\"1676\"}},\"code\":\"source.data['last_index'] = cb_data.index.indices[0]\"},\"id\":\"1697\",\"type\":\"CustomJS\"},{\"attributes\":{\"overlay\":{\"id\":\"1643\"}},\"id\":\"1639\",\"type\":\"BoxZoomTool\"},{\"attributes\":{\"callback\":{\"id\":\"1697\"},\"renderers\":[{\"id\":\"1658\"}],\"tooltips\":null},\"id\":\"1698\",\"type\":\"HoverTool\"},{\"attributes\":{},\"id\":\"1637\",\"type\":\"PanTool\"},{\"attributes\":{\"args\":{\"cost_matrix\":{\"id\":\"1675\"},\"edges_src\":{\"id\":\"1660\"},\"error_msg\":{\"id\":\"1677\"},\"nodes_src\":{\"id\":\"1654\"},\"source\":{\"id\":\"1676\"},\"table_src\":{\"id\":\"1678\"}},\"code\":\"/* Color Theme -- Using Google's Material Design Color System\\n   https://material.io/design/color/the-color-system.html */\\n\\n/** @constant {string} */\\nvar PRIMARY_COLOR = '#1565c0'\\n/** @constant {string} */\\nvar PRIMARY_LIGHT_COLOR = '#5e92f3'\\n/** @constant {string} */\\nvar PRIMARY_DARK_COLOR = '#003c8f'\\n/** @constant {string} */\\nvar SECONDARY_COLOR = '#d50000'\\n/** @constant {string} */\\nvar SECONDARY_LIGHT_COLOR = '#ff5131'\\n/** @constant {string} */\\nvar SECONDARY_DARK_COLOR = '#9b0000'\\n\\n// Grayscale\\n/** @constant {string} */\\nvar TERTIARY_COLOR = '#DFDFDF'\\n/**\\n *  Jupyter Notebook: 'white', Sphinx: '#FCFCFC'\\n *  @constant {string}\\n */\\nvar TERTIARY_LIGHT_COLOR = 'white'\\n/** @constant {string} */\\nvar TERTIARY_DARK_COLOR = '#404040'\\n/** @type {float[][]} */\\nvar G\\n/** @type {integer[]} */\\nvar visited\\n/** @type {integer[]} */\\nvar unvisited\\n/** @type {integer[][]} */\\nvar tree_edges\\n/** @type {integer[][]} */\\nvar edge_ids\\n/** @type {(integer[]|integer[][])} */\\nvar clicked_list\\n/** @type {integer} */\\nvar i\\n/** @type {integer} */\\nvar u\\n/** @type {integer} */\\nvar v\\n/** @type {float} */\\nvar w\\n\\n\\n/**\\n * Check if the error message text indicates tour or tree is complete.\\n */\\nfunction check_done() {\\n    if (error_msg.text == 'done.') {\\n        return;\\n    }\\n}\\n\\n/**\\n * Load the data necessary data for MST and shortest path tree creation.\\n */\\nfunction load_data() {\\n    G = cost_matrix.data['G']\\n    visited = source.data['visited']\\n    unvisited = source.data['unvisited']\\n    tree_edges = source.data['tree_edges']\\n    edge_ids = source.data['edge_ids']\\n    clicked_list = source.data['clicked']\\n\\n    i = source.data['last_index']\\n    u = edges_src.data['u'][i]\\n    v = edges_src.data['v'][i]\\n    w = edges_src.data['weight'][i]\\n}\\n\\n/**\\n * Update node and edge highlighting upon a proper edge selection.\\n */\\nfunction select_edge() {\\n    if (!visited.includes(v)) {\\n        nodes_src.data['fill_color'][v] = PRIMARY_DARK_COLOR\\n        nodes_src.data['line_color'][v] = PRIMARY_DARK_COLOR\\n        visited.push(v)\\n        unvisited.splice(unvisited.indexOf(v), 1)\\n    }\\n    if (!visited.includes(u)) {\\n        nodes_src.data['fill_color'][u] = PRIMARY_DARK_COLOR\\n        nodes_src.data['line_color'][u] = PRIMARY_DARK_COLOR\\n        visited.push(u)\\n        unvisited.splice(unvisited.indexOf(u), 1)\\n    }\\n    edges_src.data['line_color'][i] = TERTIARY_DARK_COLOR\\n    tree_edges.push([u,v])\\n    clicked_list = tree_edges\\n    var prev_cost = parseFloat(cost.text)\\n    cost.text = (prev_cost + w).toFixed(1)\\n    error_msg.text = ''\\n}\\n\\n/**\\n * Iteration of Prim's algorithm.\\n * Check if user-selected edge is a valid next edge. If valid, add the selected\\n * edge. If not, an error message is returned.\\n */\\nfunction prims() {\\n    var possible = {}\\n    for (let i = 0; i < visited.length; i++) {\\n        for (let j = 0; j < unvisited.length; j++) {\\n            var a = visited[i]\\n            var b = unvisited[j]\\n            if (G[a][b] != 0) {\\n                var id = edge_ids[a][b]\\n                possible[id] = G[a][b]\\n            }\\n        }\\n    }\\n\\n    var keys  = Object.keys(possible).sort(function(a,b) { return possible[a] - possible[b]; });\\n    var valid = keys.filter(function(x) { return possible[x] == possible[keys[0]]; });\\n\\n    var first_edge = (visited.length == 0)\\n    var u_in_tree = visited.includes(u)\\n    var v_in_tree = visited.includes(v)\\n    var one_in_tree = (u_in_tree && !v_in_tree) || (!u_in_tree && v_in_tree)\\n\\n    if (first_edge || one_in_tree) {\\n        if (valid.includes(i.toString())) {\\n            select_edge()\\n        } else {\\n            error_msg.text = 'Smaller weight edge exists.'\\n        }\\n    } else {\\n        if (u_in_tree && v_in_tree) {\\n            error_msg.text = 'Edge creates a cycle.'\\n        } else {\\n            error_msg.text = 'Edge not adjacent to the current tree.'\\n        }\\n    }\\n}\\n\\n/**\\n * Iteration of Kruskal's algorithm.\\n * Check if user-selected edge is a valid next edge. If valid, add the selected\\n * edge. If not, an error message is returned.\\n */\\nfunction kruskals() {\\n    var sorted_edges = source.data['sorted_edges']\\n    var forest = source.data['forest']\\n    var index = source.data['index'][0]\\n\\n    var a = sorted_edges[index][0]\\n    var b = sorted_edges[index][1]\\n    while (forest[a] == forest[b]) {\\n        index += 1\\n        a = sorted_edges[index][0]\\n        b = sorted_edges[index][1]\\n    }\\n    var min_val = G[sorted_edges[index][0]][sorted_edges[index][1]]\\n\\n    if (forest[u] != forest[v]) {\\n        if (G[u][v] == min_val) {\\n            select_edge()\\n            var x = forest[u]\\n            var y = forest[v]\\n            forest = forest.map(function(k) {if (k == y) {return x} else {return k} })\\n            source.data['forest'] = forest\\n            if (u == a && v == b) {\\n                index += 1\\n            }\\n        } else {\\n             error_msg.text = 'Smaller weight edge exists.'\\n        }\\n    } else {\\n        error_msg.text = 'This edge creates a cycle.'\\n    }\\n\\n    source.data['index'][0] = index\\n}\\n\\n/**\\n * Return an array of length len where every element has the given value.\\n * @param {float} value\\n * @param {integer} len\\n * @returns {float[]}\\n */\\nfunction fillArray(value, len) {\\n    var a = [value];\\n    while (a.length * 2 <= len) a = a.concat(a);\\n    if (a.length < len) a = a.concat(a.slice(0, len - a.length));\\n    return a;\\n}\\n\\n/**\\n * Return true iff the undirected graph G is connected.\\n * @param {float[][]} G\\n * @returns {boolean}\\n */\\nfunction is_connected(G) {\\n    var check = fillArray(false, G.length)\\n    check[0] = true\\n    var checked = [0]\\n\\n    while (checked.length > 0) {\\n        var a = checked.shift()\\n        for (let b = 0; b < G[a].length; b++) {\\n            if (G[a][b] > 0 && !check[b]) {\\n                check[b] = true\\n                checked.push(b)\\n            }\\n        }\\n    }\\n    return check.every(function(x) {return x})\\n}\\n\\n/**\\n * Iteration of reverse Kruskal's algorithm.\\n * Check if user-selected edge is a valid next edge. If valid, add the selected\\n * edge. If not, an error message is returned.\\n */\\nfunction reverse_kruskals() {\\n    var sorted_edges = source.data['sorted_edges']\\n    var index = source.data['index'][0]\\n\\n    var a = sorted_edges[index][0]\\n    var b = sorted_edges[index][1]\\n    var tmp_w = G[a][b]\\n    G[a][b] = 0\\n    G[b][a] = 0\\n    while (!is_connected(G) || !tree_edges.includes(edge_ids[a][b])) {\\n        G[a][b] = tmp_w\\n        G[b][a] = tmp_w\\n        index += 1\\n        a = sorted_edges[index][0]\\n        b = sorted_edges[index][1]\\n        tmp_w = G[a][b]\\n        G[a][b] = 0\\n        G[b][a] = 0\\n    }\\n    G[a][b] = tmp_w\\n    G[b][a] = tmp_w\\n    var max_val = tmp_w\\n\\n    var tmp_w = w\\n    G[u][v] = 0\\n    G[v][u] = 0\\n\\n    let e = tree_edges.indexOf(i)\\n    if (e > -1) {\\n        if (is_connected(G)) {\\n            if (tmp_w == max_val) {\\n                tree_edges.splice(e, 1);\\n                if (u == a && v == b) {\\n                    index += 1\\n                }\\n                edges_src.data['line_color'][i] = TERTIARY_COLOR\\n                var prev_cost = parseFloat(cost.text)\\n                cost.text = (prev_cost - w).toFixed(1)\\n                error_msg.text = ''\\n            } else {\\n                G[u][v] = tmp_w\\n                G[v][u] = tmp_w\\n                error_msg.text = 'Larger edge weight exists. Try ('\\n                                  .concat(a.toString())\\n                                  .concat(', ')\\n                                  .concat(b.toString())\\n                                  .concat(').')\\n            }\\n        } else {\\n            G[u][v] = tmp_w\\n            G[v][u] = tmp_w\\n            error_msg.text = 'Removing this edge disconnects the graph.'\\n        }\\n    } else {\\n        G[u][v] = tmp_w\\n        G[v][u] = tmp_w\\n        error_msg.text = 'Edge already removed.'\\n    }\\n\\n    var u_list = edges_src.data['u']\\n    var v_list = edges_src.data['v']\\n    clicked_list = []\\n    for (let i = 0; i < tree_edges.length; i++) {\\n        var edge = tree_edges[i]\\n        clicked_list.push([u_list[edge], v_list[edge]])\\n    }\\n    source.data['index'][0] = index\\n}\\n\\n/**\\n * Final updates when creating an MST or shortest path tree.\\n */\\nfunction tree_update() {\\n    if (tree_edges.length == nodes_src.data['x'].length - 1) {\\n        error_msg.text = 'done.'\\n    }\\n\\n    clicked.text = '['\\n    for (let i = 0; i < clicked_list.length; i++) {\\n        var edge_str = clicked_list[i].join(',')\\n        clicked.text = clicked.text.concat('(').concat(edge_str).concat(')')\\n        if (!(i == clicked_list.length - 1)) {\\n            clicked.text = clicked.text.concat(',')\\n        }\\n    }\\n    clicked.text = clicked.text.concat(']')\\n\\n    source.change.emit()\\n    nodes_src.change.emit()\\n    edges_src.change.emit()\\n}\\n\\n/**\\n * Check if user-selected node is valid and add to tour if valid.\\n */\\nfunction create_tour_on_click () {\\n    var v = source.data['last_index']\\n    var n = nodes_src.data['line_color'].length\\n    var tour = source.data['clicked']\\n\\n    if (tour.includes(v)) {\\n        error_msg.text = 'This node is already in the tour.'\\n        return;\\n    } else {\\n        error_msg.text = ''\\n    }\\n\\n    function add_node(v) {\\n        // add to cost\\n        if (tour.length > 0) {\\n            var u = tour[tour.length - 1]\\n            var prev_cost = parseFloat(cost.text)\\n            cost.text = (prev_cost + cost_matrix.data['G'][u][v]).toFixed(1)\\n        }\\n\\n        // add to tour\\n        tour.push(v)\\n        clicked.text = '['.concat(tour.join(',')).concat(']')\\n\\n        // highlight new node\\n        nodes_src.data['line_color'][v] = PRIMARY_DARK_COLOR\\n        nodes_src.data['fill_color'][v] = PRIMARY_DARK_COLOR\\n\\n        // highlight new edge\\n        tour_src.data['edges_x'].push(nodes_src.data['x'][v])\\n        tour_src.data['edges_y'].push(nodes_src.data['y'][v])\\n    }\\n\\n    add_node(v)\\n    if (tour.length == n) {\\n        add_node(tour[0])\\n        error_msg.text = 'done.'\\n    }\\n\\n    source.change.emit()\\n    tour_src.change.emit()\\n    nodes_src.change.emit()\\n}\\n\\n/**\\n * Iteration of Dijkstra's algorithm.\\n * Check if user-selected node is a valid next node. If valid, add the selected\\n * node. If not, an error message is returned.\\n */\\nfunction dijkstras() {\\n    var dist = source.data['dist']\\n    var prev = source.data['prev']\\n    var S = source.data['settled']\\n    var F = source.data['frontier']\\n\\n    F.sort(function(a,b) {return dist[a] - dist[b]})\\n\\n    if (F.includes(i)) {\\n        if (dist[i] == dist[F[0]]) {\\n            var f = i\\n            F.splice(F.indexOf(f), 1)\\n            S.push(f)\\n            for (let w = 0; w < G.length; w++) {\\n                if (G[f][w] != 0) {\\n                    if (!S.includes(w) && !F.includes(w)) {\\n                        dist[w] = dist[f] + G[f][w]\\n                        prev[w] = f\\n                        F.push(w)\\n                        var k = edge_ids[w][f]\\n                        edges_src.data['line_color'][k] = TERTIARY_DARK_COLOR\\n                    } else {\\n                        if (dist[f] + G[f][w] < dist[w]) {\\n                            var k = edge_ids[prev[w]][w]\\n                            edges_src.data['line_color'][k] = TERTIARY_COLOR\\n\\n                            dist[w] = dist[f] + G[f][w]\\n                            prev[w] = f\\n\\n                            var k = edge_ids[f][w]\\n                            edges_src.data['line_color'][k] = TERTIARY_DARK_COLOR\\n                        }\\n                    }\\n                }\\n            }\\n            error_msg.text = ''\\n        } else {\\n            error_msg.text = 'A closer frontier node exists.'\\n        }\\n    } else {\\n        error_msg.text = 'This node is not in the frontier set.'\\n    }\\n\\n    for (let i = 0; i < G.length; i++) {\\n        // Highlight settled and frontier nodes\\n        if (S.includes(i)) {\\n            nodes_src.data['fill_color'][i] = PRIMARY_DARK_COLOR\\n            nodes_src.data['line_color'][i] = PRIMARY_DARK_COLOR\\n        } else if (F.includes(i)) {\\n            nodes_src.data['fill_color'][i] = SECONDARY_COLOR\\n            nodes_src.data['line_color'][i] = SECONDARY_DARK_COLOR\\n        } else {\\n            nodes_src.data['fill_color'][i] = PRIMARY_LIGHT_COLOR\\n            nodes_src.data['line_color'][i] = PRIMARY_DARK_COLOR\\n        }\\n\\n        // Update table source\\n        var dist_text\\n        var prev_text\\n        if (isFinite(dist[i])) {\\n            dist_text = dist[i].toFixed(1)\\n        } else {\\n            dist_text = 'inf'\\n        }\\n        if (S.includes(i)) {\\n            dist_text = dist_text.concat('*')\\n        }\\n\\n        if (isNaN(prev[i])) {\\n            prev_text = '-'\\n        } else {\\n            prev_text = prev[i]\\n        }\\n        table_src.data[i.toString()] = [dist_text, prev_text]\\n    }\\n\\n    if (F.length == 0) {\\n        error_msg.text = 'done.'\\n    }\\n\\n    source.change.emit()\\n    nodes_src.change.emit()\\n    edges_src.change.emit()\\n    table_src.change.emit()\\n}\\n\\n// BEGIN FUNCTION CALLING\\ncheck_done()\\nload_data()\\ndijkstras()\\n\"},\"id\":\"1699\",\"type\":\"CustomJS\"},{\"attributes\":{},\"id\":\"1638\",\"type\":\"WheelZoomTool\"}],\"root_ids\":[\"1758\"]},\"title\":\"Bokeh Application\",\"version\":\"2.2.3\"}};\n",
       "  var render_items = [{\"docid\":\"d762b8eb-3a37-4268-8066-f73b49c27309\",\"root_ids\":[\"1758\"],\"roots\":{\"1758\":\"55a4839b-29fd-4fcc-b320-5faf93a48a19\"}}];\n",
       "  root.Bokeh.embed.embed_items_notebook(docs_json, render_items);\n",
       "\n",
       "  }\n",
       "  if (root.Bokeh !== undefined) {\n",
       "    embed_document(root);\n",
       "  } else {\n",
       "    var attempts = 0;\n",
       "    var timer = setInterval(function(root) {\n",
       "      if (root.Bokeh !== undefined) {\n",
       "        clearInterval(timer);\n",
       "        embed_document(root);\n",
       "      } else {\n",
       "        attempts++;\n",
       "        if (attempts > 100) {\n",
       "          clearInterval(timer);\n",
       "          console.log(\"Bokeh: ERROR: Unable to run BokehJS code because BokehJS library is missing\");\n",
       "        }\n",
       "      }\n",
       "    }, 10, root)\n",
       "  }\n",
       "})(window);"
      ],
      "application/vnd.bokehjs_exec.v0+json": ""
     },
     "metadata": {
      "application/vnd.bokehjs_exec.v0+json": {
       "id": "1758"
      }
     },
     "output_type": "display_data"
    }
   ],
   "source": [
    "show(vl.assisted_dijkstras_plot(G, s=s, width=500, height=500, show_cost=False))"
   ]
  },
  {
   "cell_type": "markdown",
   "metadata": {},
   "source": [
    "**Q12:** How can you read out the shortest path from Jameson Hall to other places on campus from the shortest path tree?\n",
    "\n",
    "**A:** <font color='blue'> Because this is a tree, there is exactly one simple path between any pairs of nodes. For any path between Jameson Hall and another node, this path is a shortest path.</font>"
   ]
  },
  {
   "cell_type": "markdown",
   "metadata": {},
   "source": [
    "**Q13:** What is the shortest path (both the route and length) from Jameson Hall (0) to Rhodes Hall (7)?\n",
    "\n",
    "**A:** <font color='blue'> (0,10),(10,9),(9,8),(8,7) of length 23.</font>"
   ]
  },
  {
   "cell_type": "markdown",
   "metadata": {},
   "source": [
    "**Q14:** Is the 15 minute guarantee a good one? What about a 30 minute guarantee, assuming some reasonably small fluctuations in the actual travel time due to traffic, etc.\n",
    "\n",
    "**A:** <font color='blue'> 15 minute guarantee is no good but a 30 minute guarantee would probably be reasonable.</font>"
   ]
  },
  {
   "cell_type": "markdown",
   "metadata": {},
   "source": [
    "**Q15:** Is the shortest path always unique? If yes, why? If no, can you give an example of two nodes in the graph for this lab that have more than one shortest path between them?\n",
    "\n",
    "**A:** <font color='blue'> No, consider routes (0,11),(11,12),(12,6),(6,7) and (0,10),(10,9),(9,8),(8,7) both of length 23 to Rhodes (7).</font>"
   ]
  },
  {
   "cell_type": "markdown",
   "metadata": {},
   "source": [
    "## Part II: Sensitivity analysis\n",
    "\n",
    "The next several questions ask you to analyze how sensitive your output is to the precise data that has been used. This is called “performing sensitivity analysis” for the input."
   ]
  },
  {
   "cell_type": "markdown",
   "metadata": {},
   "source": [
    "**Q16:** Suppose that there was a parade on campus so that the time to go from Holland International (9) to Cornell High Energy (8) directly was increased to 20 minutes.\n",
    "Would this change the shortest path tree? How would the shortest path tree change?\n",
    "\n",
    "**A:** <font color='blue'> Yes, the shortest path to Cornell High Energy is now (0,11),(11,12),(12,8) and the shortest path to Rhodes Hall is now (0,11),(11,12),(12,6),(6,7).</font>"
   ]
  },
  {
   "cell_type": "markdown",
   "metadata": {},
   "source": [
    "**Q17:** Can such an increase affect any of the routes that did not originally include the leg from Holland International (9) to Cornell High Energy (8)? Why or why not?\n",
    "\n",
    "<font color='blue'> As long as the change is an increase, then no because there is no way this would introduce a shorter path.</font>"
   ]
  },
  {
   "cell_type": "markdown",
   "metadata": {},
   "source": [
    "Run the cell below to change the weight and generate a plot running Dijkstra's algorithm. Press the next button to see each iteration until all nodes are marked."
   ]
  },
  {
   "cell_type": "code",
   "execution_count": 7,
   "metadata": {},
   "outputs": [
    {
     "data": {
      "text/html": [
       "\n",
       "\n",
       "\n",
       "\n",
       "\n",
       "\n",
       "  <div class=\"bk-root\" id=\"f58322cd-878e-4ef9-bd10-0005ea5df4ed\" data-root-id=\"2273\"></div>\n"
      ]
     },
     "metadata": {},
     "output_type": "display_data"
    },
    {
     "data": {
      "application/javascript": [
       "(function(root) {\n",
       "  function embed_document(root) {\n",
       "    \n",
       "  var docs_json = {\"ef526a65-d730-49ed-9581-0db3215f84b7\":{\"roots\":{\"references\":[{\"attributes\":{\"children\":[[{\"id\":\"2123\"},0,0],[{\"id\":\"2205\"},1,0],[{\"id\":\"2214\"},2,0],[{\"id\":\"2215\"},3,0]]},\"id\":\"2273\",\"type\":\"GridBox\"},{\"attributes\":{},\"id\":\"2135\",\"type\":\"BasicTicker\"},{\"attributes\":{},\"id\":\"2240\",\"type\":\"StringEditor\"},{\"attributes\":{\"end\":156.245,\"start\":42.754999999999995},\"id\":\"2126\",\"type\":\"Range1d\"},{\"attributes\":{},\"id\":\"2241\",\"type\":\"StringFormatter\"},{\"attributes\":{\"axis\":{\"id\":\"2134\"},\"grid_line_color\":null,\"ticker\":null},\"id\":\"2137\",\"type\":\"Grid\"},{\"attributes\":{},\"id\":\"2242\",\"type\":\"StringEditor\"},{\"attributes\":{\"formatter\":{\"id\":\"2218\"},\"ticker\":{\"id\":\"2135\"},\"visible\":false},\"id\":\"2134\",\"type\":\"LinearAxis\"},{\"attributes\":{},\"id\":\"2243\",\"type\":\"StringFormatter\"},{\"attributes\":{},\"id\":\"2244\",\"type\":\"StringEditor\"},{\"attributes\":{},\"id\":\"2245\",\"type\":\"StringFormatter\"},{\"attributes\":{},\"id\":\"2246\",\"type\":\"StringEditor\"},{\"attributes\":{},\"id\":\"2247\",\"type\":\"StringFormatter\"},{\"attributes\":{},\"id\":\"2248\",\"type\":\"StringEditor\"},{\"attributes\":{},\"id\":\"2249\",\"type\":\"StringFormatter\"},{\"attributes\":{},\"id\":\"2250\",\"type\":\"StringEditor\"},{\"attributes\":{\"formatter\":{\"id\":\"2220\"},\"ticker\":{\"id\":\"2139\"},\"visible\":false},\"id\":\"2138\",\"type\":\"LinearAxis\"},{\"attributes\":{},\"id\":\"2251\",\"type\":\"StringFormatter\"},{\"attributes\":{},\"id\":\"2139\",\"type\":\"BasicTicker\"},{\"attributes\":{},\"id\":\"2252\",\"type\":\"StringEditor\"},{\"attributes\":{\"axis\":{\"id\":\"2138\"},\"dimension\":1,\"grid_line_color\":null,\"ticker\":null},\"id\":\"2141\",\"type\":\"Grid\"},{\"attributes\":{},\"id\":\"2253\",\"type\":\"StringFormatter\"},{\"attributes\":{},\"id\":\"2254\",\"type\":\"StringEditor\"},{\"attributes\":{},\"id\":\"2255\",\"type\":\"StringFormatter\"},{\"attributes\":{\"align\":\"center\",\"text\":\"15\",\"width\":500},\"id\":\"2181\",\"type\":\"Div\"},{\"attributes\":{\"source\":{\"id\":\"2165\"}},\"id\":\"2171\",\"type\":\"CDSView\"},{\"attributes\":{},\"id\":\"2256\",\"type\":\"StringEditor\"},{\"attributes\":{},\"id\":\"2142\",\"type\":\"PanTool\"},{\"attributes\":{},\"id\":\"2257\",\"type\":\"StringFormatter\"},{\"attributes\":{},\"id\":\"2143\",\"type\":\"WheelZoomTool\"},{\"attributes\":{},\"id\":\"2258\",\"type\":\"StringEditor\"},{\"attributes\":{\"overlay\":{\"id\":\"2148\"}},\"id\":\"2144\",\"type\":\"BoxZoomTool\"},{\"attributes\":{},\"id\":\"2259\",\"type\":\"StringFormatter\"},{\"attributes\":{},\"id\":\"2145\",\"type\":\"SaveTool\"},{\"attributes\":{},\"id\":\"2260\",\"type\":\"StringEditor\"},{\"attributes\":{},\"id\":\"2146\",\"type\":\"ResetTool\"},{\"attributes\":{},\"id\":\"2261\",\"type\":\"StringFormatter\"},{\"attributes\":{},\"id\":\"2147\",\"type\":\"HelpTool\"},{\"attributes\":{},\"id\":\"2262\",\"type\":\"StringEditor\"},{\"attributes\":{\"data\":{\"xs\":[[139.54769615462328,140.45230384537672],[126.8828770389428,125.1171229610572],[114.8289275090869,112.1710724909131],[114.21722514717803,111.78277485282196],[138.6919361087974,136.3080638912026],[145.43178629393617,143.5682137060638],[54.66547860530453,56.33452139469547],[77.1405888403088,79.8594111596912],[79.61055314785354,82.38944685214648],[87.28221404313904,90.71778595686096],[63.14657436429944,64.85342563570057],[81.70458303384284,84.29541696615716],[74.13812,76.86188],[85.86050012641759,88.13949987358241],[87.68732316577159,90.31267683422843],[94.62581958410185,94.37418041589815],[99.8809646803367,101.11903531966328],[106.48539741954187,108.51460258045815],[111.64050168379492,114.35949831620506],[108.33406233663071,108.66593766336928],[115.86904572477269,117.13095427522728],[123.18442424701709,123.81557575298292],[117.66646237536449,120.33353762463551],[118.02951766558283,119.97048233441718],[133.1940151584473,134.8059848415527],[127.0,127.0],[132.63812000000001,135.36187999999999]],\"ys\":[[134.29140746430838,148.7085925356916],[35.747772584493106,43.252227415506894],[0.07750879115152998,-2.07750879115153],[-18.28977539065042,-22.710224609349574],[250.38387221759476,245.6161277824052],[278.90596715196034,286.09403284803955],[32.894433175245524,25.105566824754476],[55.70340120152193,56.29659879847807],[161.5811572766287,172.41884272337123],[134.49936691625797,142.50063308374195],[-6.159584639347429,-13.840415360652571],[33.47929312668509,36.52070687331491],[-27.999999999999993,-27.999999999999993],[14.301184509936405,19.698815490063595],[-23.31267683422842,-20.687323165771602],[-30.59303622002799,-40.40696377997201],[18.61047682420579,27.38952317579421],[21.21268763931559,27.787312360684382],[63.20867893224175,63.79132106775822],[165.63236774640376,180.3676322535962],[171.96936664746718,186.0306333525327],[138.6966754309668,153.30332456903318],[288.9998467815233,291.0001532184766],[258.9573433163612,252.0426566836388],[257.52764613806175,265.47235386193825],[256.57196,266.42804],[296.0,296.0]]},\"selected\":{\"id\":\"2226\"},\"selection_policy\":{\"id\":\"2225\"}},\"id\":\"2172\",\"type\":\"ColumnDataSource\"},{\"attributes\":{\"active_drag\":null,\"active_inspect\":\"auto\",\"active_multi\":null,\"active_scroll\":null,\"active_tap\":\"auto\",\"logo\":null,\"tools\":[{\"id\":\"2142\"},{\"id\":\"2143\"},{\"id\":\"2144\"},{\"id\":\"2145\"},{\"id\":\"2146\"},{\"id\":\"2147\"},{\"id\":\"2212\"}]},\"id\":\"2149\",\"type\":\"Toolbar\"},{\"attributes\":{},\"id\":\"2263\",\"type\":\"UnionRenderers\"},{\"attributes\":{\"background_fill_color\":null,\"below\":[{\"id\":\"2134\"}],\"border_fill_color\":null,\"center\":[{\"id\":\"2137\"},{\"id\":\"2141\"},{\"id\":\"2178\"}],\"left\":[{\"id\":\"2138\"}],\"outline_line_color\":null,\"plot_height\":500,\"plot_width\":500,\"renderers\":[{\"id\":\"2163\"},{\"id\":\"2170\"},{\"id\":\"2175\"},{\"id\":\"2187\"}],\"title\":{\"id\":\"2124\"},\"toolbar\":{\"id\":\"2149\"},\"toolbar_location\":null,\"x_range\":{\"id\":\"2126\"},\"x_scale\":{\"id\":\"2130\"},\"y_range\":{\"id\":\"2128\"},\"y_scale\":{\"id\":\"2132\"}},\"id\":\"2123\",\"subtype\":\"Figure\",\"type\":\"Plot\"},{\"attributes\":{},\"id\":\"2264\",\"type\":\"Selection\"},{\"attributes\":{\"data_source\":{\"id\":\"2165\"},\"glyph\":{\"id\":\"2167\"},\"hover_glyph\":{\"id\":\"2169\"},\"level\":\"underlay\",\"muted_glyph\":null,\"nonselection_glyph\":{\"id\":\"2168\"},\"selection_glyph\":null,\"view\":{\"id\":\"2171\"}},\"id\":\"2170\",\"type\":\"GlyphRenderer\"},{\"attributes\":{},\"id\":\"2271\",\"type\":\"UnionRenderers\"},{\"attributes\":{\"line_cap\":\"round\",\"line_color\":{\"value\":\"#404040\"},\"line_width\":{\"value\":5},\"xs\":{\"field\":\"xs\"},\"ys\":{\"field\":\"ys\"}},\"id\":\"2169\",\"type\":\"MultiLine\"},{\"attributes\":{},\"id\":\"2272\",\"type\":\"Selection\"},{\"attributes\":{\"bottom_units\":\"screen\",\"fill_alpha\":0.5,\"fill_color\":\"lightgrey\",\"left_units\":\"screen\",\"level\":\"overlay\",\"line_alpha\":1.0,\"line_color\":\"black\",\"line_dash\":[4,4],\"line_width\":2,\"right_units\":\"screen\",\"top_units\":\"screen\"},\"id\":\"2148\",\"type\":\"BoxAnnotation\"},{\"attributes\":{\"data\":{\"fill_color\":[\"#5e92f3\",\"#5e92f3\",\"#5e92f3\",\"#5e92f3\",\"#5e92f3\",\"#5e92f3\",\"#5e92f3\",\"#5e92f3\",\"#5e92f3\",\"#5e92f3\",\"#5e92f3\",\"#5e92f3\",\"#5e92f3\",\"#5e92f3\"],\"line_color\":[\"#003c8f\",\"#003c8f\",\"#003c8f\",\"#003c8f\",\"#003c8f\",\"#003c8f\",\"#003c8f\",\"#003c8f\",\"#003c8f\",\"#003c8f\",\"#003c8f\",\"#003c8f\",\"#003c8f\",\"#003c8f\"],\"line_width\":[3,3,3,3,3,3,3,3,3,3,3,3,3,3],\"name\":[\"Jameson Hall\",\"Clara Dickson Hall\",\"Willard Straight (and Okenshields)\",\"Cornell Health\",\"Hollister Hall\",\"Duffield Hall\",\"Gates Hall\",\"Rhodes Hall\",\"Cornell High Energy\",\"Holland International Living Center\",\"High Rise 5\",\"Helen Newman Bowling Lanes\",\"Lindseth Climbing Center\",\"Lynah Hockey Rink\"],\"x\":[127,111,51,60,68,83,95,94,132,148,141,127,120,106],\"y\":[296,284,50,8,-28,-28,-16,-55,14,269,296,227,65,62]},\"selected\":{\"id\":\"2222\"},\"selection_policy\":{\"id\":\"2221\"}},\"id\":\"2159\",\"type\":\"ColumnDataSource\"},{\"attributes\":{\"align\":\"center\",\"width\":250},\"id\":\"2182\",\"type\":\"Div\"},{\"attributes\":{\"data\":{\"line_color\":[\"#DFDFDF\",\"#DFDFDF\",\"#DFDFDF\",\"#DFDFDF\",\"#DFDFDF\",\"#DFDFDF\",\"#DFDFDF\",\"#DFDFDF\",\"#DFDFDF\",\"#DFDFDF\",\"#DFDFDF\",\"#DFDFDF\",\"#DFDFDF\",\"#DFDFDF\",\"#DFDFDF\",\"#DFDFDF\",\"#DFDFDF\",\"#DFDFDF\",\"#DFDFDF\",\"#DFDFDF\",\"#DFDFDF\",\"#DFDFDF\",\"#DFDFDF\",\"#DFDFDF\",\"#DFDFDF\",\"#DFDFDF\",\"#DFDFDF\"],\"u\":[8,8,8,8,9,9,2,2,2,2,3,3,4,4,5,6,6,6,13,13,13,12,1,1,11,11,0],\"v\":[9,12,6,7,11,10,3,13,1,11,4,13,5,13,6,7,13,12,12,1,0,11,0,11,10,0,10],\"weight\":[20,5,6,6,3,1,3,8,18,19,3,8,4,7,2,3,5,5,2,14,17,12,2,3,5,3,2],\"xs\":[[132,148],[132,120],[132,95],[132,94],[148,127],[148,141],[51,60],[51,106],[51,111],[51,127],[60,68],[60,106],[68,83],[68,106],[83,95],[95,94],[95,106],[95,120],[106,120],[106,111],[106,127],[120,127],[111,127],[111,127],[127,141],[127,127],[127,141]],\"ys\":[[14,269],[14,65],[14,-16],[14,-55],[269,227],[269,296],[50,8],[50,62],[50,284],[50,227],[8,-28],[8,62],[-28,-28],[-28,62],[-28,-16],[-16,-55],[-16,62],[-16,65],[62,65],[62,284],[62,296],[65,227],[284,296],[284,227],[227,296],[227,296],[296,296]]},\"selected\":{\"id\":\"2224\"},\"selection_policy\":{\"id\":\"2223\"}},\"id\":\"2165\",\"type\":\"ColumnDataSource\"},{\"attributes\":{\"data\":{\"xs\":[],\"ys\":[]},\"selected\":{\"id\":\"2228\"},\"selection_policy\":{\"id\":\"2227\"}},\"id\":\"2183\",\"type\":\"ColumnDataSource\"},{\"attributes\":{\"line_cap\":\"round\",\"line_color\":{\"field\":\"line_color\"},\"line_width\":{\"value\":5},\"xs\":{\"field\":\"xs\"},\"ys\":{\"field\":\"ys\"}},\"id\":\"2168\",\"type\":\"MultiLine\"},{\"attributes\":{\"fill_color\":{\"field\":\"fill_color\"},\"line_color\":{\"field\":\"line_color\"},\"line_width\":{\"field\":\"line_width\"},\"size\":{\"units\":\"screen\",\"value\":11},\"x\":{\"field\":\"x\"},\"y\":{\"field\":\"y\"}},\"id\":\"2162\",\"type\":\"Circle\"},{\"attributes\":{\"data_source\":{\"id\":\"2159\"},\"glyph\":{\"id\":\"2161\"},\"hover_glyph\":null,\"muted_glyph\":null,\"nonselection_glyph\":{\"id\":\"2162\"},\"selection_glyph\":null,\"view\":{\"id\":\"2164\"}},\"id\":\"2163\",\"type\":\"GlyphRenderer\"},{\"attributes\":{\"source\":{\"id\":\"2159\"}},\"id\":\"2164\",\"type\":\"CDSView\"},{\"attributes\":{\"fill_color\":{\"field\":\"fill_color\"},\"line_color\":{\"field\":\"line_color\"},\"line_width\":{\"field\":\"line_width\"},\"size\":{\"units\":\"screen\",\"value\":11},\"x\":{\"field\":\"x\"},\"y\":{\"field\":\"y\"}},\"id\":\"2161\",\"type\":\"Circle\"},{\"attributes\":{},\"id\":\"2132\",\"type\":\"LinearScale\"},{\"attributes\":{\"editor\":{\"id\":\"2258\"},\"field\":\"11\",\"formatter\":{\"id\":\"2257\"},\"title\":\"11\"},\"id\":\"2202\",\"type\":\"TableColumn\"},{\"attributes\":{\"editor\":{\"id\":\"2260\"},\"field\":\"12\",\"formatter\":{\"id\":\"2259\"},\"title\":\"12\"},\"id\":\"2203\",\"type\":\"TableColumn\"},{\"attributes\":{\"data\":{\"text\":[20,5,6,6,3,1,3,8,18,19,3,8,4,7,2,3,5,5,2,14,17,12,2,3,5,3,2],\"x\":{\"__ndarray__\":\"AAAAAACAYUAAAAAAAIBfQAAAAAAAYFxAAAAAAABAXEAAAAAAADBhQAAAAAAAEGJAAAAAAADAS0AAAAAAAKBTQAAAAAAAQFRAAAAAAABAVkAAAAAAAABQQAAAAAAAwFRAAAAAAADgUkAAAAAAAMBVQAAAAAAAQFZAAAAAAACgV0AAAAAAACBZQAEAAAAA4FpAAAAAAABAXED//////x9bQP//////H11AAAAAAADgXkAAAAAAAMBdQAAAAAAAwF1AAAAAAADAYEAAAAAAAMBfQAAAAAAAwGBA\",\"dtype\":\"float64\",\"order\":\"little\",\"shape\":[27]},\"y\":{\"__ndarray__\":\"AAAAAACwYUAAAAAAAMBDQAAAAAAAAPC/AAAAAACANMD///////9uQAAAAAAAqHFAAAAAAAAAPUAAAAAAAABMQP7/////32RA/v////9PYUAAAAAAAAAkwAAAAAAAgEFA/v//////O8AAAAAAAAAxQAIAAAAAADbAAQAAAADAQcAAAAAAAAA3QAAAAAAAgDhAAAAAAADAT0ABAAAAAKBlQP//////X2ZAAAAAAABAYkAAAAAAACByQP//////729AAAAAAABYcEAAAAAAAFhwQAAAAAAAgHJA\",\"dtype\":\"float64\",\"order\":\"little\",\"shape\":[27]}},\"selected\":{\"id\":\"2231\"},\"selection_policy\":{\"id\":\"2230\"}},\"id\":\"2177\",\"type\":\"ColumnDataSource\"},{\"attributes\":{\"line_cap\":\"round\",\"line_color\":{\"field\":\"line_color\"},\"line_width\":{\"value\":5},\"xs\":{\"field\":\"xs\"},\"ys\":{\"field\":\"ys\"}},\"id\":\"2167\",\"type\":\"MultiLine\"},{\"attributes\":{\"line_color\":{\"value\":\"white\"},\"line_width\":{\"value\":6},\"xs\":{\"field\":\"xs\"},\"ys\":{\"field\":\"ys\"}},\"id\":\"2173\",\"type\":\"MultiLine\"},{\"attributes\":{\"editor\":{\"id\":\"2262\"},\"field\":\"13\",\"formatter\":{\"id\":\"2261\"},\"title\":\"13\"},\"id\":\"2204\",\"type\":\"TableColumn\"},{\"attributes\":{\"source\":{\"id\":\"2172\"}},\"id\":\"2176\",\"type\":\"CDSView\"},{\"attributes\":{\"background\":\"white\",\"columns\":[{\"id\":\"2190\"},{\"id\":\"2191\"},{\"id\":\"2192\"},{\"id\":\"2193\"},{\"id\":\"2194\"},{\"id\":\"2195\"},{\"id\":\"2196\"},{\"id\":\"2197\"},{\"id\":\"2198\"},{\"id\":\"2199\"},{\"id\":\"2200\"},{\"id\":\"2201\"},{\"id\":\"2202\"},{\"id\":\"2203\"},{\"id\":\"2204\"}],\"height\":80,\"index_position\":null,\"max_width\":500,\"reorderable\":false,\"selectable\":false,\"sortable\":false,\"source\":{\"id\":\"2189\"},\"view\":{\"id\":\"2206\"},\"width\":500,\"width_policy\":\"fit\"},\"id\":\"2205\",\"type\":\"DataTable\"},{\"attributes\":{\"data_source\":{\"id\":\"2172\"},\"glyph\":{\"id\":\"2173\"},\"hover_glyph\":null,\"level\":\"guide\",\"muted_glyph\":null,\"nonselection_glyph\":{\"id\":\"2174\"},\"selection_glyph\":null,\"view\":{\"id\":\"2176\"}},\"id\":\"2175\",\"type\":\"GlyphRenderer\"},{\"attributes\":{\"source\":{\"id\":\"2189\"}},\"id\":\"2206\",\"type\":\"CDSView\"},{\"attributes\":{\"line_color\":{\"value\":\"white\"},\"line_width\":{\"value\":6},\"xs\":{\"field\":\"xs\"},\"ys\":{\"field\":\"ys\"}},\"id\":\"2174\",\"type\":\"MultiLine\"},{\"attributes\":{\"source\":{\"id\":\"2177\"},\"text_align\":\"center\",\"text_baseline\":\"middle\",\"text_color\":{\"value\":\"black\"},\"text_font_size\":{\"value\":\"13px\"},\"x\":{\"field\":\"x\"},\"y\":{\"field\":\"y\"}},\"id\":\"2178\",\"type\":\"LabelSet\"},{\"attributes\":{\"data\":{\"edge_xs\":[[],[[111,127],[141,127],[127,127],[106,127]],[[111,127],[51,111],[141,127],[127,127],[106,111]],[[111,127],[51,111],[148,141],[141,127],[127,127],[106,111]],[[111,127],[51,111],[132,148],[148,141],[141,127],[127,127],[106,111]],[[111,127],[51,111],[132,148],[148,141],[141,127],[127,127],[120,127],[106,111]],[[111,127],[51,111],[95,120],[132,120],[148,141],[141,127],[127,127],[120,127],[106,111]],[[111,127],[51,111],[60,106],[68,106],[95,120],[132,120],[148,141],[141,127],[127,127],[120,127],[106,111]],[[111,127],[51,111],[60,106],[68,106],[83,95],[95,120],[94,95],[132,120],[148,141],[141,127],[127,127],[120,127],[106,111]],[[111,127],[51,111],[60,51],[68,106],[83,95],[95,120],[94,95],[132,120],[148,141],[141,127],[127,127],[120,127],[106,111]],[[111,127],[51,111],[60,51],[68,106],[83,95],[95,120],[94,95],[132,120],[148,141],[141,127],[127,127],[120,127],[106,111]],[[111,127],[51,111],[60,51],[68,106],[83,95],[95,120],[94,95],[132,120],[148,141],[141,127],[127,127],[120,127],[106,111]],[[111,127],[51,111],[60,51],[68,106],[83,95],[95,120],[94,95],[132,120],[148,141],[141,127],[127,127],[120,127],[106,111]],[[111,127],[51,111],[60,51],[68,106],[83,95],[95,120],[94,95],[132,120],[148,141],[141,127],[127,127],[120,127],[106,111]],[[111,127],[51,111],[60,51],[68,106],[83,95],[95,120],[94,95],[132,120],[148,141],[141,127],[127,127],[120,127],[106,111]]],\"edge_ys\":[[],[[284,296],[296,296],[227,296],[62,296]],[[284,296],[50,284],[296,296],[227,296],[62,284]],[[284,296],[50,284],[269,296],[296,296],[227,296],[62,284]],[[284,296],[50,284],[14,269],[269,296],[296,296],[227,296],[62,284]],[[284,296],[50,284],[14,269],[269,296],[296,296],[227,296],[65,227],[62,284]],[[284,296],[50,284],[-16,65],[14,65],[269,296],[296,296],[227,296],[65,227],[62,284]],[[284,296],[50,284],[8,62],[-28,62],[-16,65],[14,65],[269,296],[296,296],[227,296],[65,227],[62,284]],[[284,296],[50,284],[8,62],[-28,62],[-28,-16],[-16,65],[-55,-16],[14,65],[269,296],[296,296],[227,296],[65,227],[62,284]],[[284,296],[50,284],[8,50],[-28,62],[-28,-16],[-16,65],[-55,-16],[14,65],[269,296],[296,296],[227,296],[65,227],[62,284]],[[284,296],[50,284],[8,50],[-28,62],[-28,-16],[-16,65],[-55,-16],[14,65],[269,296],[296,296],[227,296],[65,227],[62,284]],[[284,296],[50,284],[8,50],[-28,62],[-28,-16],[-16,65],[-55,-16],[14,65],[269,296],[296,296],[227,296],[65,227],[62,284]],[[284,296],[50,284],[8,50],[-28,62],[-28,-16],[-16,65],[-55,-16],[14,65],[269,296],[296,296],[227,296],[65,227],[62,284]],[[284,296],[50,284],[8,50],[-28,62],[-28,-16],[-16,65],[-55,-16],[14,65],[269,296],[296,296],[227,296],[65,227],[62,284]],[[284,296],[50,284],[8,50],[-28,62],[-28,-16],[-16,65],[-55,-16],[14,65],[269,296],[296,296],[227,296],[65,227],[62,284]]],\"nodes\":[[],[0],[0,1],[0,1,10],[0,1,10,9],[0,1,10,9,11],[0,1,10,9,11,12],[0,1,10,9,11,12,13],[0,1,10,9,11,12,13,6],[0,1,10,9,11,12,13,6,2],[0,1,10,9,11,12,13,6,2,8],[0,1,10,9,11,12,13,6,2,8,5],[0,1,10,9,11,12,13,6,2,8,5,7],[0,1,10,9,11,12,13,6,2,8,5,7,4],[0,1,10,9,11,12,13,6,2,8,5,7,4,3]],\"tables\":[{\"0\":[\"0.0\",\"-\"],\"1\":[\"inf\",\"-\"],\"10\":[\"inf\",\"-\"],\"11\":[\"inf\",\"-\"],\"12\":[\"inf\",\"-\"],\"13\":[\"inf\",\"-\"],\"2\":[\"inf\",\"-\"],\"3\":[\"inf\",\"-\"],\"4\":[\"inf\",\"-\"],\"5\":[\"inf\",\"-\"],\"6\":[\"inf\",\"-\"],\"7\":[\"inf\",\"-\"],\"8\":[\"inf\",\"-\"],\"9\":[\"inf\",\"-\"],\"index\":[\"label\",\"prev\"]},{\"0\":[\"0.0*\",\"-\"],\"1\":[\"2.0\",0.0],\"10\":[\"2.0\",0.0],\"11\":[\"3.0\",0.0],\"12\":[\"inf\",\"-\"],\"13\":[\"17.0\",0.0],\"2\":[\"inf\",\"-\"],\"3\":[\"inf\",\"-\"],\"4\":[\"inf\",\"-\"],\"5\":[\"inf\",\"-\"],\"6\":[\"inf\",\"-\"],\"7\":[\"inf\",\"-\"],\"8\":[\"inf\",\"-\"],\"9\":[\"inf\",\"-\"],\"index\":[\"label\",\"prev\"]},{\"0\":[\"0.0*\",\"-\"],\"1\":[\"2.0*\",0.0],\"10\":[\"2.0\",0.0],\"11\":[\"3.0\",0.0],\"12\":[\"inf\",\"-\"],\"13\":[\"16.0\",1.0],\"2\":[\"20.0\",1.0],\"3\":[\"inf\",\"-\"],\"4\":[\"inf\",\"-\"],\"5\":[\"inf\",\"-\"],\"6\":[\"inf\",\"-\"],\"7\":[\"inf\",\"-\"],\"8\":[\"inf\",\"-\"],\"9\":[\"inf\",\"-\"],\"index\":[\"label\",\"prev\"]},{\"0\":[\"0.0*\",\"-\"],\"1\":[\"2.0*\",0.0],\"10\":[\"2.0*\",0.0],\"11\":[\"3.0\",0.0],\"12\":[\"inf\",\"-\"],\"13\":[\"16.0\",1.0],\"2\":[\"20.0\",1.0],\"3\":[\"inf\",\"-\"],\"4\":[\"inf\",\"-\"],\"5\":[\"inf\",\"-\"],\"6\":[\"inf\",\"-\"],\"7\":[\"inf\",\"-\"],\"8\":[\"inf\",\"-\"],\"9\":[\"3.0\",10.0],\"index\":[\"label\",\"prev\"]},{\"0\":[\"0.0*\",\"-\"],\"1\":[\"2.0*\",0.0],\"10\":[\"2.0*\",0.0],\"11\":[\"3.0\",0.0],\"12\":[\"inf\",\"-\"],\"13\":[\"16.0\",1.0],\"2\":[\"20.0\",1.0],\"3\":[\"inf\",\"-\"],\"4\":[\"inf\",\"-\"],\"5\":[\"inf\",\"-\"],\"6\":[\"inf\",\"-\"],\"7\":[\"inf\",\"-\"],\"8\":[\"23.0\",9.0],\"9\":[\"3.0*\",10.0],\"index\":[\"label\",\"prev\"]},{\"0\":[\"0.0*\",\"-\"],\"1\":[\"2.0*\",0.0],\"10\":[\"2.0*\",0.0],\"11\":[\"3.0*\",0.0],\"12\":[\"15.0\",11.0],\"13\":[\"16.0\",1.0],\"2\":[\"20.0\",1.0],\"3\":[\"inf\",\"-\"],\"4\":[\"inf\",\"-\"],\"5\":[\"inf\",\"-\"],\"6\":[\"inf\",\"-\"],\"7\":[\"inf\",\"-\"],\"8\":[\"23.0\",9.0],\"9\":[\"3.0*\",10.0],\"index\":[\"label\",\"prev\"]},{\"0\":[\"0.0*\",\"-\"],\"1\":[\"2.0*\",0.0],\"10\":[\"2.0*\",0.0],\"11\":[\"3.0*\",0.0],\"12\":[\"15.0*\",11.0],\"13\":[\"16.0\",1.0],\"2\":[\"20.0\",1.0],\"3\":[\"inf\",\"-\"],\"4\":[\"inf\",\"-\"],\"5\":[\"inf\",\"-\"],\"6\":[\"20.0\",12.0],\"7\":[\"inf\",\"-\"],\"8\":[\"20.0\",12.0],\"9\":[\"3.0*\",10.0],\"index\":[\"label\",\"prev\"]},{\"0\":[\"0.0*\",\"-\"],\"1\":[\"2.0*\",0.0],\"10\":[\"2.0*\",0.0],\"11\":[\"3.0*\",0.0],\"12\":[\"15.0*\",11.0],\"13\":[\"16.0*\",1.0],\"2\":[\"20.0\",1.0],\"3\":[\"24.0\",13.0],\"4\":[\"23.0\",13.0],\"5\":[\"inf\",\"-\"],\"6\":[\"20.0\",12.0],\"7\":[\"inf\",\"-\"],\"8\":[\"20.0\",12.0],\"9\":[\"3.0*\",10.0],\"index\":[\"label\",\"prev\"]},{\"0\":[\"0.0*\",\"-\"],\"1\":[\"2.0*\",0.0],\"10\":[\"2.0*\",0.0],\"11\":[\"3.0*\",0.0],\"12\":[\"15.0*\",11.0],\"13\":[\"16.0*\",1.0],\"2\":[\"20.0\",1.0],\"3\":[\"24.0\",13.0],\"4\":[\"23.0\",13.0],\"5\":[\"22.0\",6.0],\"6\":[\"20.0*\",12.0],\"7\":[\"23.0\",6.0],\"8\":[\"20.0\",12.0],\"9\":[\"3.0*\",10.0],\"index\":[\"label\",\"prev\"]},{\"0\":[\"0.0*\",\"-\"],\"1\":[\"2.0*\",0.0],\"10\":[\"2.0*\",0.0],\"11\":[\"3.0*\",0.0],\"12\":[\"15.0*\",11.0],\"13\":[\"16.0*\",1.0],\"2\":[\"20.0*\",1.0],\"3\":[\"23.0\",2.0],\"4\":[\"23.0\",13.0],\"5\":[\"22.0\",6.0],\"6\":[\"20.0*\",12.0],\"7\":[\"23.0\",6.0],\"8\":[\"20.0\",12.0],\"9\":[\"3.0*\",10.0],\"index\":[\"label\",\"prev\"]},{\"0\":[\"0.0*\",\"-\"],\"1\":[\"2.0*\",0.0],\"10\":[\"2.0*\",0.0],\"11\":[\"3.0*\",0.0],\"12\":[\"15.0*\",11.0],\"13\":[\"16.0*\",1.0],\"2\":[\"20.0*\",1.0],\"3\":[\"23.0\",2.0],\"4\":[\"23.0\",13.0],\"5\":[\"22.0\",6.0],\"6\":[\"20.0*\",12.0],\"7\":[\"23.0\",6.0],\"8\":[\"20.0*\",12.0],\"9\":[\"3.0*\",10.0],\"index\":[\"label\",\"prev\"]},{\"0\":[\"0.0*\",\"-\"],\"1\":[\"2.0*\",0.0],\"10\":[\"2.0*\",0.0],\"11\":[\"3.0*\",0.0],\"12\":[\"15.0*\",11.0],\"13\":[\"16.0*\",1.0],\"2\":[\"20.0*\",1.0],\"3\":[\"23.0\",2.0],\"4\":[\"23.0\",13.0],\"5\":[\"22.0*\",6.0],\"6\":[\"20.0*\",12.0],\"7\":[\"23.0\",6.0],\"8\":[\"20.0*\",12.0],\"9\":[\"3.0*\",10.0],\"index\":[\"label\",\"prev\"]},{\"0\":[\"0.0*\",\"-\"],\"1\":[\"2.0*\",0.0],\"10\":[\"2.0*\",0.0],\"11\":[\"3.0*\",0.0],\"12\":[\"15.0*\",11.0],\"13\":[\"16.0*\",1.0],\"2\":[\"20.0*\",1.0],\"3\":[\"23.0\",2.0],\"4\":[\"23.0\",13.0],\"5\":[\"22.0*\",6.0],\"6\":[\"20.0*\",12.0],\"7\":[\"23.0*\",6.0],\"8\":[\"20.0*\",12.0],\"9\":[\"3.0*\",10.0],\"index\":[\"label\",\"prev\"]},{\"0\":[\"0.0*\",\"-\"],\"1\":[\"2.0*\",0.0],\"10\":[\"2.0*\",0.0],\"11\":[\"3.0*\",0.0],\"12\":[\"15.0*\",11.0],\"13\":[\"16.0*\",1.0],\"2\":[\"20.0*\",1.0],\"3\":[\"23.0\",2.0],\"4\":[\"23.0*\",13.0],\"5\":[\"22.0*\",6.0],\"6\":[\"20.0*\",12.0],\"7\":[\"23.0*\",6.0],\"8\":[\"20.0*\",12.0],\"9\":[\"3.0*\",10.0],\"index\":[\"label\",\"prev\"]},{\"0\":[\"0.0*\",\"-\"],\"1\":[\"2.0*\",0.0],\"10\":[\"2.0*\",0.0],\"11\":[\"3.0*\",0.0],\"12\":[\"15.0*\",11.0],\"13\":[\"16.0*\",1.0],\"2\":[\"20.0*\",1.0],\"3\":[\"23.0*\",2.0],\"4\":[\"23.0*\",13.0],\"5\":[\"22.0*\",6.0],\"6\":[\"20.0*\",12.0],\"7\":[\"23.0*\",6.0],\"8\":[\"20.0*\",12.0],\"9\":[\"3.0*\",10.0],\"index\":[\"label\",\"prev\"]}]},\"selected\":{\"id\":\"2272\"},\"selection_policy\":{\"id\":\"2271\"}},\"id\":\"2207\",\"type\":\"ColumnDataSource\"},{\"attributes\":{\"button_type\":\"primary\",\"icon\":null,\"js_event_callbacks\":{\"button_click\":[{\"id\":\"2209\"}]},\"label\":\"Next\",\"max_width\":250,\"sizing_mode\":\"stretch_width\",\"width_policy\":\"fit\"},\"id\":\"2208\",\"type\":\"Button\"},{\"attributes\":{\"args\":{\"done\":{\"id\":\"2182\"},\"edge_subset_src\":{\"id\":\"2183\"},\"k\":{\"id\":\"2181\"},\"n\":{\"id\":\"2180\"},\"nodes_src\":{\"id\":\"2159\"},\"source\":{\"id\":\"2207\"},\"table_src\":{\"id\":\"2189\"}},\"code\":\"/* Color Theme -- Using Google's Material Design Color System\\n   https://material.io/design/color/the-color-system.html */\\n\\n/** @constant {string} */\\nvar PRIMARY_COLOR = '#1565c0'\\n/** @constant {string} */\\nvar PRIMARY_LIGHT_COLOR = '#5e92f3'\\n/** @constant {string} */\\nvar PRIMARY_DARK_COLOR = '#003c8f'\\n/** @constant {string} */\\nvar SECONDARY_COLOR = '#d50000'\\n/** @constant {string} */\\nvar SECONDARY_LIGHT_COLOR = '#ff5131'\\n/** @constant {string} */\\nvar SECONDARY_DARK_COLOR = '#9b0000'\\n\\n// Grayscale\\n/** @constant {string} */\\nvar TERTIARY_COLOR = '#DFDFDF'\\n/**\\n *  Jupyter Notebook: 'white', Sphinx: '#FCFCFC'\\n *  @constant {string}\\n */\\nvar TERTIARY_LIGHT_COLOR = 'white'\\n/** @constant {string} */\\nvar TERTIARY_DARK_COLOR = '#404040'\\n/** @type {integer} */\\nvar iteration = 0\\n\\n\\n/**\\n * Increment iteration and update n Div.\\n */\\nfunction increment_iteration() {\\n    if ((parseInt(n.text) + 1) < parseInt(k.text)) {\\n        n.text = (parseInt(n.text) + 1).toString()\\n    }\\n    iteration = parseInt(n.text)\\n}\\n\\n/**\\n * Decrement iteration and update n Div.\\n */\\nfunction decrement_iteration() {\\n    if ((parseInt(n.text) - 1) >= 0) {\\n        n.text = (parseInt(n.text) - 1).toString()\\n    }\\n    iteration = parseInt(n.text)\\n}\\n\\n/**\\n * Update which nodes are highlighted given the current iteration.\\n */\\nfunction nodes_update() {\\n    var in_tree = source.data['nodes'][iteration]\\n\\n    for (let i = 0; i < nodes_src.data['line_color'].length ; i++) {\\n        if (in_tree.includes(i)) {\\n            nodes_src.data['fill_color'][i] = PRIMARY_DARK_COLOR\\n            nodes_src.data['line_color'][i] = PRIMARY_DARK_COLOR\\n        } else {\\n            nodes_src.data['fill_color'][i] = PRIMARY_LIGHT_COLOR\\n            nodes_src.data['line_color'][i] = PRIMARY_DARK_COLOR\\n        }\\n    }\\n\\n    nodes_src.change.emit()\\n}\\n\\n/**\\n * Update which subset of edges are highlighted given the current iteration.\\n */\\nfunction edge_subset_update() {\\n    edge_subset_src.data['xs'] = source.data['edge_xs'][iteration]\\n    edge_subset_src.data['ys'] = source.data['edge_ys'][iteration]\\n    edge_subset_src.change.emit()\\n}\\n\\n/**\\n * Update which swaps are updated given the current iteration\\n */\\nfunction swaps_update() {\\n    swaps_src.data['swaps_before_x'] = source.data['swaps_before_x'][iteration]\\n    swaps_src.data['swaps_before_y'] = source.data['swaps_before_y'][iteration]\\n    swaps_src.data['swaps_after_x'] = source.data['swaps_after_x'][iteration]\\n    swaps_src.data['swaps_after_y'] = source.data['swaps_after_y'][iteration]\\n    swaps_src.change.emit()\\n}\\n\\n/**\\n * Update which table is shown given the current iteration.\\n */\\nfunction table_update() {\\n    table_src.data = source.data['tables'][iteration]\\n}\\n\\n/**\\n * Update which cost is shown given the current iteration.\\n */\\nfunction cost_update() {\\n    cost.text = source.data['costs'][iteration].toFixed(1)\\n}\\n\\n/**\\n * Update done Div based on the current iteration.\\n */\\nfunction done_update() {\\n    if (iteration == parseInt(k.text) - 1) {\\n        done.text = \\\"done.\\\"\\n    } else {\\n        done.text = \\\"\\\"\\n    }\\n}\\n\\n// BEGIN FUNCTION CALLING\\nincrement_iteration()\\ndone_update()\\nedge_subset_update()\\ntable_update()\\nnodes_update()\\n\"},\"id\":\"2209\",\"type\":\"CustomJS\"},{\"attributes\":{\"button_type\":\"primary\",\"icon\":null,\"js_event_callbacks\":{\"button_click\":[{\"id\":\"2211\"}]},\"label\":\"Previous\",\"max_width\":250,\"sizing_mode\":\"stretch_width\",\"width_policy\":\"fit\"},\"id\":\"2210\",\"type\":\"Button\"},{\"attributes\":{\"data\":{\"0\":[\"0.0\",\"-\"],\"1\":[\"inf\",\"-\"],\"10\":[\"inf\",\"-\"],\"11\":[\"inf\",\"-\"],\"12\":[\"inf\",\"-\"],\"13\":[\"inf\",\"-\"],\"2\":[\"inf\",\"-\"],\"3\":[\"inf\",\"-\"],\"4\":[\"inf\",\"-\"],\"5\":[\"inf\",\"-\"],\"6\":[\"inf\",\"-\"],\"7\":[\"inf\",\"-\"],\"8\":[\"inf\",\"-\"],\"9\":[\"inf\",\"-\"],\"index\":[\"label\",\"prev\"]},\"selected\":{\"id\":\"2264\"},\"selection_policy\":{\"id\":\"2263\"}},\"id\":\"2189\",\"type\":\"ColumnDataSource\"},{\"attributes\":{\"args\":{\"done\":{\"id\":\"2182\"},\"edge_subset_src\":{\"id\":\"2183\"},\"k\":{\"id\":\"2181\"},\"n\":{\"id\":\"2180\"},\"nodes_src\":{\"id\":\"2159\"},\"source\":{\"id\":\"2207\"},\"table_src\":{\"id\":\"2189\"}},\"code\":\"/* Color Theme -- Using Google's Material Design Color System\\n   https://material.io/design/color/the-color-system.html */\\n\\n/** @constant {string} */\\nvar PRIMARY_COLOR = '#1565c0'\\n/** @constant {string} */\\nvar PRIMARY_LIGHT_COLOR = '#5e92f3'\\n/** @constant {string} */\\nvar PRIMARY_DARK_COLOR = '#003c8f'\\n/** @constant {string} */\\nvar SECONDARY_COLOR = '#d50000'\\n/** @constant {string} */\\nvar SECONDARY_LIGHT_COLOR = '#ff5131'\\n/** @constant {string} */\\nvar SECONDARY_DARK_COLOR = '#9b0000'\\n\\n// Grayscale\\n/** @constant {string} */\\nvar TERTIARY_COLOR = '#DFDFDF'\\n/**\\n *  Jupyter Notebook: 'white', Sphinx: '#FCFCFC'\\n *  @constant {string}\\n */\\nvar TERTIARY_LIGHT_COLOR = 'white'\\n/** @constant {string} */\\nvar TERTIARY_DARK_COLOR = '#404040'\\n/** @type {integer} */\\nvar iteration = 0\\n\\n\\n/**\\n * Increment iteration and update n Div.\\n */\\nfunction increment_iteration() {\\n    if ((parseInt(n.text) + 1) < parseInt(k.text)) {\\n        n.text = (parseInt(n.text) + 1).toString()\\n    }\\n    iteration = parseInt(n.text)\\n}\\n\\n/**\\n * Decrement iteration and update n Div.\\n */\\nfunction decrement_iteration() {\\n    if ((parseInt(n.text) - 1) >= 0) {\\n        n.text = (parseInt(n.text) - 1).toString()\\n    }\\n    iteration = parseInt(n.text)\\n}\\n\\n/**\\n * Update which nodes are highlighted given the current iteration.\\n */\\nfunction nodes_update() {\\n    var in_tree = source.data['nodes'][iteration]\\n\\n    for (let i = 0; i < nodes_src.data['line_color'].length ; i++) {\\n        if (in_tree.includes(i)) {\\n            nodes_src.data['fill_color'][i] = PRIMARY_DARK_COLOR\\n            nodes_src.data['line_color'][i] = PRIMARY_DARK_COLOR\\n        } else {\\n            nodes_src.data['fill_color'][i] = PRIMARY_LIGHT_COLOR\\n            nodes_src.data['line_color'][i] = PRIMARY_DARK_COLOR\\n        }\\n    }\\n\\n    nodes_src.change.emit()\\n}\\n\\n/**\\n * Update which subset of edges are highlighted given the current iteration.\\n */\\nfunction edge_subset_update() {\\n    edge_subset_src.data['xs'] = source.data['edge_xs'][iteration]\\n    edge_subset_src.data['ys'] = source.data['edge_ys'][iteration]\\n    edge_subset_src.change.emit()\\n}\\n\\n/**\\n * Update which swaps are updated given the current iteration\\n */\\nfunction swaps_update() {\\n    swaps_src.data['swaps_before_x'] = source.data['swaps_before_x'][iteration]\\n    swaps_src.data['swaps_before_y'] = source.data['swaps_before_y'][iteration]\\n    swaps_src.data['swaps_after_x'] = source.data['swaps_after_x'][iteration]\\n    swaps_src.data['swaps_after_y'] = source.data['swaps_after_y'][iteration]\\n    swaps_src.change.emit()\\n}\\n\\n/**\\n * Update which table is shown given the current iteration.\\n */\\nfunction table_update() {\\n    table_src.data = source.data['tables'][iteration]\\n}\\n\\n/**\\n * Update which cost is shown given the current iteration.\\n */\\nfunction cost_update() {\\n    cost.text = source.data['costs'][iteration].toFixed(1)\\n}\\n\\n/**\\n * Update done Div based on the current iteration.\\n */\\nfunction done_update() {\\n    if (iteration == parseInt(k.text) - 1) {\\n        done.text = \\\"done.\\\"\\n    } else {\\n        done.text = \\\"\\\"\\n    }\\n}\\n\\n// BEGIN FUNCTION CALLING\\ndecrement_iteration()\\ndone_update()\\nedge_subset_update()\\ntable_update()\\nnodes_update()\\n\"},\"id\":\"2211\",\"type\":\"CustomJS\"},{\"attributes\":{\"text\":\"\"},\"id\":\"2124\",\"type\":\"Title\"},{\"attributes\":{\"callback\":null,\"renderers\":[{\"id\":\"2163\"}],\"tooltips\":[[\"Index\",\"$index\"],[\"Name\",\"@name\"]]},\"id\":\"2212\",\"type\":\"HoverTool\"},{\"attributes\":{\"data_source\":{\"id\":\"2183\"},\"glyph\":{\"id\":\"2185\"},\"hover_glyph\":null,\"level\":\"underlay\",\"muted_glyph\":null,\"nonselection_glyph\":{\"id\":\"2186\"},\"selection_glyph\":null,\"view\":{\"id\":\"2188\"}},\"id\":\"2187\",\"type\":\"GlyphRenderer\"},{\"attributes\":{\"children\":[{\"id\":\"2210\"},{\"id\":\"2208\"}],\"max_width\":500,\"sizing_mode\":\"stretch_both\"},\"id\":\"2214\",\"type\":\"Row\"},{\"attributes\":{\"line_cap\":\"round\",\"line_color\":{\"value\":\"#404040\"},\"line_width\":{\"value\":5},\"xs\":{\"field\":\"xs\"},\"ys\":{\"field\":\"ys\"}},\"id\":\"2185\",\"type\":\"MultiLine\"},{\"attributes\":{\"children\":[{\"id\":\"2182\"}]},\"id\":\"2215\",\"type\":\"Row\"},{\"attributes\":{\"editor\":{\"id\":\"2236\"},\"field\":\"0\",\"formatter\":{\"id\":\"2235\"},\"title\":\"0\"},\"id\":\"2191\",\"type\":\"TableColumn\"},{\"attributes\":{\"source\":{\"id\":\"2183\"}},\"id\":\"2188\",\"type\":\"CDSView\"},{\"attributes\":{\"line_alpha\":{\"value\":0.1},\"line_cap\":\"round\",\"line_color\":{\"value\":\"#404040\"},\"line_width\":{\"value\":5},\"xs\":{\"field\":\"xs\"},\"ys\":{\"field\":\"ys\"}},\"id\":\"2186\",\"type\":\"MultiLine\"},{\"attributes\":{},\"id\":\"2130\",\"type\":\"LinearScale\"},{\"attributes\":{\"editor\":{\"id\":\"2234\"},\"field\":\"index\",\"formatter\":{\"id\":\"2233\"},\"title\":\"\"},\"id\":\"2190\",\"type\":\"TableColumn\"},{\"attributes\":{\"editor\":{\"id\":\"2238\"},\"field\":\"1\",\"formatter\":{\"id\":\"2237\"},\"title\":\"1\"},\"id\":\"2192\",\"type\":\"TableColumn\"},{\"attributes\":{},\"id\":\"2218\",\"type\":\"BasicTickFormatter\"},{\"attributes\":{\"editor\":{\"id\":\"2240\"},\"field\":\"2\",\"formatter\":{\"id\":\"2239\"},\"title\":\"2\"},\"id\":\"2193\",\"type\":\"TableColumn\"},{\"attributes\":{},\"id\":\"2220\",\"type\":\"BasicTickFormatter\"},{\"attributes\":{},\"id\":\"2221\",\"type\":\"UnionRenderers\"},{\"attributes\":{\"editor\":{\"id\":\"2242\"},\"field\":\"3\",\"formatter\":{\"id\":\"2241\"},\"title\":\"3\"},\"id\":\"2194\",\"type\":\"TableColumn\"},{\"attributes\":{},\"id\":\"2222\",\"type\":\"Selection\"},{\"attributes\":{},\"id\":\"2223\",\"type\":\"UnionRenderers\"},{\"attributes\":{\"editor\":{\"id\":\"2244\"},\"field\":\"4\",\"formatter\":{\"id\":\"2243\"},\"title\":\"4\"},\"id\":\"2195\",\"type\":\"TableColumn\"},{\"attributes\":{},\"id\":\"2224\",\"type\":\"Selection\"},{\"attributes\":{},\"id\":\"2225\",\"type\":\"UnionRenderers\"},{\"attributes\":{\"editor\":{\"id\":\"2246\"},\"field\":\"5\",\"formatter\":{\"id\":\"2245\"},\"title\":\"5\"},\"id\":\"2196\",\"type\":\"TableColumn\"},{\"attributes\":{},\"id\":\"2226\",\"type\":\"Selection\"},{\"attributes\":{},\"id\":\"2227\",\"type\":\"UnionRenderers\"},{\"attributes\":{\"editor\":{\"id\":\"2248\"},\"field\":\"6\",\"formatter\":{\"id\":\"2247\"},\"title\":\"6\"},\"id\":\"2197\",\"type\":\"TableColumn\"},{\"attributes\":{},\"id\":\"2228\",\"type\":\"Selection\"},{\"attributes\":{},\"id\":\"2230\",\"type\":\"UnionRenderers\"},{\"attributes\":{\"align\":\"center\",\"text\":\"0\",\"width\":500},\"id\":\"2180\",\"type\":\"Div\"},{\"attributes\":{\"end\":325.835,\"start\":-84.83500000000001},\"id\":\"2128\",\"type\":\"Range1d\"},{\"attributes\":{\"editor\":{\"id\":\"2250\"},\"field\":\"7\",\"formatter\":{\"id\":\"2249\"},\"title\":\"7\"},\"id\":\"2198\",\"type\":\"TableColumn\"},{\"attributes\":{},\"id\":\"2231\",\"type\":\"Selection\"},{\"attributes\":{},\"id\":\"2233\",\"type\":\"StringFormatter\"},{\"attributes\":{\"editor\":{\"id\":\"2252\"},\"field\":\"8\",\"formatter\":{\"id\":\"2251\"},\"title\":\"8\"},\"id\":\"2199\",\"type\":\"TableColumn\"},{\"attributes\":{},\"id\":\"2234\",\"type\":\"StringEditor\"},{\"attributes\":{},\"id\":\"2235\",\"type\":\"StringFormatter\"},{\"attributes\":{\"editor\":{\"id\":\"2254\"},\"field\":\"9\",\"formatter\":{\"id\":\"2253\"},\"title\":\"9\"},\"id\":\"2200\",\"type\":\"TableColumn\"},{\"attributes\":{},\"id\":\"2236\",\"type\":\"StringEditor\"},{\"attributes\":{},\"id\":\"2237\",\"type\":\"StringFormatter\"},{\"attributes\":{\"editor\":{\"id\":\"2256\"},\"field\":\"10\",\"formatter\":{\"id\":\"2255\"},\"title\":\"10\"},\"id\":\"2201\",\"type\":\"TableColumn\"},{\"attributes\":{},\"id\":\"2238\",\"type\":\"StringEditor\"},{\"attributes\":{},\"id\":\"2239\",\"type\":\"StringFormatter\"}],\"root_ids\":[\"2273\"]},\"title\":\"Bokeh Application\",\"version\":\"2.2.3\"}};\n",
       "  var render_items = [{\"docid\":\"ef526a65-d730-49ed-9581-0db3215f84b7\",\"root_ids\":[\"2273\"],\"roots\":{\"2273\":\"f58322cd-878e-4ef9-bd10-0005ea5df4ed\"}}];\n",
       "  root.Bokeh.embed.embed_items_notebook(docs_json, render_items);\n",
       "\n",
       "  }\n",
       "  if (root.Bokeh !== undefined) {\n",
       "    embed_document(root);\n",
       "  } else {\n",
       "    var attempts = 0;\n",
       "    var timer = setInterval(function(root) {\n",
       "      if (root.Bokeh !== undefined) {\n",
       "        clearInterval(timer);\n",
       "        embed_document(root);\n",
       "      } else {\n",
       "        attempts++;\n",
       "        if (attempts > 100) {\n",
       "          clearInterval(timer);\n",
       "          console.log(\"Bokeh: ERROR: Unable to run BokehJS code because BokehJS library is missing\");\n",
       "        }\n",
       "      }\n",
       "    }, 10, root)\n",
       "  }\n",
       "})(window);"
      ],
      "application/vnd.bokehjs_exec.v0+json": ""
     },
     "metadata": {
      "application/vnd.bokehjs_exec.v0+json": {
       "id": "2273"
      }
     },
     "output_type": "display_data"
    }
   ],
   "source": [
    "G[9][8]['weight'] = 20  # change weight\n",
    "show(vl.dijkstras_plot(G, s=s, width=500, height=500, show_cost=False))"
   ]
  },
  {
   "cell_type": "markdown",
   "metadata": {},
   "source": [
    "**Q18:** Did you make any mistakes in **Q16** and **Q17**?\n",
    "\n",
    "<font color='blue'>Answers will vary.</font>"
   ]
  },
  {
   "cell_type": "markdown",
   "metadata": {},
   "source": [
    "**Q19:** Suppose the travel time from node (9) to node (8) increased from 14 minutes, but not all the way to 20 minutes. By how much could the travel time increase without the shortest path route to node (8) changing?\n",
    "\n",
    "<font color='blue'>The next shortest path is of length 20: (0,11),(11,12),(12,8) so the travel time could increase to 17 but no further.</font>"
   ]
  },
  {
   "cell_type": "markdown",
   "metadata": {},
   "source": [
    "Suppose that your competitor, Better-Than-Adequate Pizza, decides to promote their brand by installing a moving walkway that takes students from Clara Dickson on North Campus to the Lynah hockey rink. This has the effect of reducing the travel time from Clara Dickson (1) to Lynah (13) so that it only takes 5 minutes."
   ]
  },
  {
   "cell_type": "markdown",
   "metadata": {},
   "source": [
    "**Q20:** Would this change or alter the shortest path tree? Does this affect any of the routes that did not originally include the leg from Clara Dickson to Lynah? Why or why not?\n",
    "\n",
    "<font color='blue'>Yes, it changes it dramatically. It can affect other routes that did not originally include the leg from Clara Dickson to Lynah by making them shorter.</font>"
   ]
  },
  {
   "cell_type": "code",
   "execution_count": 8,
   "metadata": {},
   "outputs": [
    {
     "data": {
      "text/html": [
       "\n",
       "\n",
       "\n",
       "\n",
       "\n",
       "\n",
       "  <div class=\"bk-root\" id=\"39dff83f-ecea-47ff-b017-3d7e07ef5da3\" data-root-id=\"2838\"></div>\n"
      ]
     },
     "metadata": {},
     "output_type": "display_data"
    },
    {
     "data": {
      "application/javascript": [
       "(function(root) {\n",
       "  function embed_document(root) {\n",
       "    \n",
       "  var docs_json = {\"b753cafa-cb54-4572-9ada-7d0659b8dd2c\":{\"roots\":{\"references\":[{\"attributes\":{\"children\":[[{\"id\":\"2688\"},0,0],[{\"id\":\"2770\"},1,0],[{\"id\":\"2779\"},2,0],[{\"id\":\"2780\"},3,0]]},\"id\":\"2838\",\"type\":\"GridBox\"},{\"attributes\":{\"align\":\"center\",\"text\":\"0\",\"width\":500},\"id\":\"2745\",\"type\":\"Div\"},{\"attributes\":{\"axis\":{\"id\":\"2699\"},\"grid_line_color\":null,\"ticker\":null},\"id\":\"2702\",\"type\":\"Grid\"},{\"attributes\":{\"editor\":{\"id\":\"2827\"},\"field\":\"13\",\"formatter\":{\"id\":\"2826\"},\"title\":\"13\"},\"id\":\"2769\",\"type\":\"TableColumn\"},{\"attributes\":{\"source\":{\"id\":\"2737\"}},\"id\":\"2741\",\"type\":\"CDSView\"},{\"attributes\":{},\"id\":\"2810\",\"type\":\"StringFormatter\"},{\"attributes\":{\"background\":\"white\",\"columns\":[{\"id\":\"2755\"},{\"id\":\"2756\"},{\"id\":\"2757\"},{\"id\":\"2758\"},{\"id\":\"2759\"},{\"id\":\"2760\"},{\"id\":\"2761\"},{\"id\":\"2762\"},{\"id\":\"2763\"},{\"id\":\"2764\"},{\"id\":\"2765\"},{\"id\":\"2766\"},{\"id\":\"2767\"},{\"id\":\"2768\"},{\"id\":\"2769\"}],\"height\":80,\"index_position\":null,\"max_width\":500,\"reorderable\":false,\"selectable\":false,\"sortable\":false,\"source\":{\"id\":\"2754\"},\"view\":{\"id\":\"2771\"},\"width\":500,\"width_policy\":\"fit\"},\"id\":\"2770\",\"type\":\"DataTable\"},{\"attributes\":{\"formatter\":{\"id\":\"2785\"},\"ticker\":{\"id\":\"2704\"},\"visible\":false},\"id\":\"2703\",\"type\":\"LinearAxis\"},{\"attributes\":{},\"id\":\"2695\",\"type\":\"LinearScale\"},{\"attributes\":{\"data\":{\"text\":[14,5,6,6,3,1,3,8,18,19,3,8,4,7,2,3,5,5,2,5,17,12,2,3,5,3,2],\"x\":{\"__ndarray__\":\"AAAAAACAYUAAAAAAAIBfQAAAAAAAYFxAAAAAAABAXEAAAAAAADBhQAAAAAAAEGJAAAAAAADAS0AAAAAAAKBTQAAAAAAAQFRAAAAAAABAVkAAAAAAAABQQAAAAAAAwFRAAAAAAADgUkAAAAAAAMBVQAAAAAAAQFZAAAAAAACgV0AAAAAAACBZQAEAAAAA4FpAAAAAAABAXED//////x9bQP//////H11AAAAAAADgXkAAAAAAAMBdQAAAAAAAwF1AAAAAAADAYEAAAAAAAMBfQAAAAAAAwGBA\",\"dtype\":\"float64\",\"order\":\"little\",\"shape\":[27]},\"y\":{\"__ndarray__\":\"AAAAAACwYUAAAAAAAMBDQAAAAAAAAPC/AAAAAACANMD///////9uQAAAAAAAqHFAAAAAAAAAPUAAAAAAAABMQP7/////32RA/v////9PYUAAAAAAAAAkwAAAAAAAgEFA/v//////O8AAAAAAAAAxQAIAAAAAADbAAQAAAADAQcAAAAAAAAA3QAAAAAAAgDhAAAAAAADAT0ABAAAAAKBlQP//////X2ZAAAAAAABAYkAAAAAAACByQP//////729AAAAAAABYcEAAAAAAAFhwQAAAAAAAgHJA\",\"dtype\":\"float64\",\"order\":\"little\",\"shape\":[27]}},\"selected\":{\"id\":\"2796\"},\"selection_policy\":{\"id\":\"2795\"}},\"id\":\"2742\",\"type\":\"ColumnDataSource\"},{\"attributes\":{},\"id\":\"2811\",\"type\":\"StringEditor\"},{\"attributes\":{\"source\":{\"id\":\"2742\"},\"text_align\":\"center\",\"text_baseline\":\"middle\",\"text_color\":{\"value\":\"black\"},\"text_font_size\":{\"value\":\"13px\"},\"x\":{\"field\":\"x\"},\"y\":{\"field\":\"y\"}},\"id\":\"2743\",\"type\":\"LabelSet\"},{\"attributes\":{\"source\":{\"id\":\"2754\"}},\"id\":\"2771\",\"type\":\"CDSView\"},{\"attributes\":{},\"id\":\"2704\",\"type\":\"BasicTicker\"},{\"attributes\":{},\"id\":\"2812\",\"type\":\"StringFormatter\"},{\"attributes\":{\"axis\":{\"id\":\"2703\"},\"dimension\":1,\"grid_line_color\":null,\"ticker\":null},\"id\":\"2706\",\"type\":\"Grid\"},{\"attributes\":{\"data\":{\"edge_xs\":[[],[[111,127],[141,127],[127,127],[106,127]],[[111,127],[51,111],[141,127],[127,127],[106,111]],[[111,127],[51,111],[148,141],[141,127],[127,127],[106,111]],[[111,127],[51,111],[132,148],[148,141],[141,127],[127,127],[106,111]],[[111,127],[51,111],[132,148],[148,141],[141,127],[127,127],[120,127],[106,111]],[[111,127],[51,106],[60,106],[68,106],[95,106],[132,148],[148,141],[141,127],[127,127],[120,106],[106,111]],[[111,127],[51,106],[60,106],[68,106],[95,106],[132,120],[148,141],[141,127],[127,127],[120,106],[106,111]],[[111,127],[51,106],[60,106],[68,106],[83,95],[95,106],[94,95],[132,120],[148,141],[141,127],[127,127],[120,106],[106,111]],[[111,127],[51,106],[60,106],[68,106],[83,95],[95,106],[94,95],[132,120],[148,141],[141,127],[127,127],[120,106],[106,111]],[[111,127],[51,106],[60,106],[68,106],[83,95],[95,106],[94,95],[132,120],[148,141],[141,127],[127,127],[120,106],[106,111]],[[111,127],[51,106],[60,106],[68,106],[83,95],[95,106],[94,95],[132,120],[148,141],[141,127],[127,127],[120,106],[106,111]],[[111,127],[51,106],[60,106],[68,106],[83,95],[95,106],[94,95],[132,120],[148,141],[141,127],[127,127],[120,106],[106,111]],[[111,127],[51,106],[60,106],[68,106],[83,95],[95,106],[94,95],[132,120],[148,141],[141,127],[127,127],[120,106],[106,111]],[[111,127],[51,106],[60,106],[68,106],[83,95],[95,106],[94,95],[132,120],[148,141],[141,127],[127,127],[120,106],[106,111]]],\"edge_ys\":[[],[[284,296],[296,296],[227,296],[62,296]],[[284,296],[50,284],[296,296],[227,296],[62,284]],[[284,296],[50,284],[269,296],[296,296],[227,296],[62,284]],[[284,296],[50,284],[14,269],[269,296],[296,296],[227,296],[62,284]],[[284,296],[50,284],[14,269],[269,296],[296,296],[227,296],[65,227],[62,284]],[[284,296],[50,62],[8,62],[-28,62],[-16,62],[14,269],[269,296],[296,296],[227,296],[65,62],[62,284]],[[284,296],[50,62],[8,62],[-28,62],[-16,62],[14,65],[269,296],[296,296],[227,296],[65,62],[62,284]],[[284,296],[50,62],[8,62],[-28,62],[-28,-16],[-16,62],[-55,-16],[14,65],[269,296],[296,296],[227,296],[65,62],[62,284]],[[284,296],[50,62],[8,62],[-28,62],[-28,-16],[-16,62],[-55,-16],[14,65],[269,296],[296,296],[227,296],[65,62],[62,284]],[[284,296],[50,62],[8,62],[-28,62],[-28,-16],[-16,62],[-55,-16],[14,65],[269,296],[296,296],[227,296],[65,62],[62,284]],[[284,296],[50,62],[8,62],[-28,62],[-28,-16],[-16,62],[-55,-16],[14,65],[269,296],[296,296],[227,296],[65,62],[62,284]],[[284,296],[50,62],[8,62],[-28,62],[-28,-16],[-16,62],[-55,-16],[14,65],[269,296],[296,296],[227,296],[65,62],[62,284]],[[284,296],[50,62],[8,62],[-28,62],[-28,-16],[-16,62],[-55,-16],[14,65],[269,296],[296,296],[227,296],[65,62],[62,284]],[[284,296],[50,62],[8,62],[-28,62],[-28,-16],[-16,62],[-55,-16],[14,65],[269,296],[296,296],[227,296],[65,62],[62,284]]],\"nodes\":[[],[0],[0,1],[0,1,10],[0,1,10,9],[0,1,10,9,11],[0,1,10,9,11,13],[0,1,10,9,11,13,12],[0,1,10,9,11,13,12,6],[0,1,10,9,11,13,12,6,5],[0,1,10,9,11,13,12,6,5,4],[0,1,10,9,11,13,12,6,5,4,8],[0,1,10,9,11,13,12,6,5,4,8,7],[0,1,10,9,11,13,12,6,5,4,8,7,3],[0,1,10,9,11,13,12,6,5,4,8,7,3,2]],\"tables\":[{\"0\":[\"0.0\",\"-\"],\"1\":[\"inf\",\"-\"],\"10\":[\"inf\",\"-\"],\"11\":[\"inf\",\"-\"],\"12\":[\"inf\",\"-\"],\"13\":[\"inf\",\"-\"],\"2\":[\"inf\",\"-\"],\"3\":[\"inf\",\"-\"],\"4\":[\"inf\",\"-\"],\"5\":[\"inf\",\"-\"],\"6\":[\"inf\",\"-\"],\"7\":[\"inf\",\"-\"],\"8\":[\"inf\",\"-\"],\"9\":[\"inf\",\"-\"],\"index\":[\"label\",\"prev\"]},{\"0\":[\"0.0*\",\"-\"],\"1\":[\"2.0\",0.0],\"10\":[\"2.0\",0.0],\"11\":[\"3.0\",0.0],\"12\":[\"inf\",\"-\"],\"13\":[\"17.0\",0.0],\"2\":[\"inf\",\"-\"],\"3\":[\"inf\",\"-\"],\"4\":[\"inf\",\"-\"],\"5\":[\"inf\",\"-\"],\"6\":[\"inf\",\"-\"],\"7\":[\"inf\",\"-\"],\"8\":[\"inf\",\"-\"],\"9\":[\"inf\",\"-\"],\"index\":[\"label\",\"prev\"]},{\"0\":[\"0.0*\",\"-\"],\"1\":[\"2.0*\",0.0],\"10\":[\"2.0\",0.0],\"11\":[\"3.0\",0.0],\"12\":[\"inf\",\"-\"],\"13\":[\"7.0\",1.0],\"2\":[\"20.0\",1.0],\"3\":[\"inf\",\"-\"],\"4\":[\"inf\",\"-\"],\"5\":[\"inf\",\"-\"],\"6\":[\"inf\",\"-\"],\"7\":[\"inf\",\"-\"],\"8\":[\"inf\",\"-\"],\"9\":[\"inf\",\"-\"],\"index\":[\"label\",\"prev\"]},{\"0\":[\"0.0*\",\"-\"],\"1\":[\"2.0*\",0.0],\"10\":[\"2.0*\",0.0],\"11\":[\"3.0\",0.0],\"12\":[\"inf\",\"-\"],\"13\":[\"7.0\",1.0],\"2\":[\"20.0\",1.0],\"3\":[\"inf\",\"-\"],\"4\":[\"inf\",\"-\"],\"5\":[\"inf\",\"-\"],\"6\":[\"inf\",\"-\"],\"7\":[\"inf\",\"-\"],\"8\":[\"inf\",\"-\"],\"9\":[\"3.0\",10.0],\"index\":[\"label\",\"prev\"]},{\"0\":[\"0.0*\",\"-\"],\"1\":[\"2.0*\",0.0],\"10\":[\"2.0*\",0.0],\"11\":[\"3.0\",0.0],\"12\":[\"inf\",\"-\"],\"13\":[\"7.0\",1.0],\"2\":[\"20.0\",1.0],\"3\":[\"inf\",\"-\"],\"4\":[\"inf\",\"-\"],\"5\":[\"inf\",\"-\"],\"6\":[\"inf\",\"-\"],\"7\":[\"inf\",\"-\"],\"8\":[\"17.0\",9.0],\"9\":[\"3.0*\",10.0],\"index\":[\"label\",\"prev\"]},{\"0\":[\"0.0*\",\"-\"],\"1\":[\"2.0*\",0.0],\"10\":[\"2.0*\",0.0],\"11\":[\"3.0*\",0.0],\"12\":[\"15.0\",11.0],\"13\":[\"7.0\",1.0],\"2\":[\"20.0\",1.0],\"3\":[\"inf\",\"-\"],\"4\":[\"inf\",\"-\"],\"5\":[\"inf\",\"-\"],\"6\":[\"inf\",\"-\"],\"7\":[\"inf\",\"-\"],\"8\":[\"17.0\",9.0],\"9\":[\"3.0*\",10.0],\"index\":[\"label\",\"prev\"]},{\"0\":[\"0.0*\",\"-\"],\"1\":[\"2.0*\",0.0],\"10\":[\"2.0*\",0.0],\"11\":[\"3.0*\",0.0],\"12\":[\"9.0\",13.0],\"13\":[\"7.0*\",1.0],\"2\":[\"15.0\",13.0],\"3\":[\"15.0\",13.0],\"4\":[\"14.0\",13.0],\"5\":[\"inf\",\"-\"],\"6\":[\"12.0\",13.0],\"7\":[\"inf\",\"-\"],\"8\":[\"17.0\",9.0],\"9\":[\"3.0*\",10.0],\"index\":[\"label\",\"prev\"]},{\"0\":[\"0.0*\",\"-\"],\"1\":[\"2.0*\",0.0],\"10\":[\"2.0*\",0.0],\"11\":[\"3.0*\",0.0],\"12\":[\"9.0*\",13.0],\"13\":[\"7.0*\",1.0],\"2\":[\"15.0\",13.0],\"3\":[\"15.0\",13.0],\"4\":[\"14.0\",13.0],\"5\":[\"inf\",\"-\"],\"6\":[\"12.0\",13.0],\"7\":[\"inf\",\"-\"],\"8\":[\"14.0\",12.0],\"9\":[\"3.0*\",10.0],\"index\":[\"label\",\"prev\"]},{\"0\":[\"0.0*\",\"-\"],\"1\":[\"2.0*\",0.0],\"10\":[\"2.0*\",0.0],\"11\":[\"3.0*\",0.0],\"12\":[\"9.0*\",13.0],\"13\":[\"7.0*\",1.0],\"2\":[\"15.0\",13.0],\"3\":[\"15.0\",13.0],\"4\":[\"14.0\",13.0],\"5\":[\"14.0\",6.0],\"6\":[\"12.0*\",13.0],\"7\":[\"15.0\",6.0],\"8\":[\"14.0\",12.0],\"9\":[\"3.0*\",10.0],\"index\":[\"label\",\"prev\"]},{\"0\":[\"0.0*\",\"-\"],\"1\":[\"2.0*\",0.0],\"10\":[\"2.0*\",0.0],\"11\":[\"3.0*\",0.0],\"12\":[\"9.0*\",13.0],\"13\":[\"7.0*\",1.0],\"2\":[\"15.0\",13.0],\"3\":[\"15.0\",13.0],\"4\":[\"14.0\",13.0],\"5\":[\"14.0*\",6.0],\"6\":[\"12.0*\",13.0],\"7\":[\"15.0\",6.0],\"8\":[\"14.0\",12.0],\"9\":[\"3.0*\",10.0],\"index\":[\"label\",\"prev\"]},{\"0\":[\"0.0*\",\"-\"],\"1\":[\"2.0*\",0.0],\"10\":[\"2.0*\",0.0],\"11\":[\"3.0*\",0.0],\"12\":[\"9.0*\",13.0],\"13\":[\"7.0*\",1.0],\"2\":[\"15.0\",13.0],\"3\":[\"15.0\",13.0],\"4\":[\"14.0*\",13.0],\"5\":[\"14.0*\",6.0],\"6\":[\"12.0*\",13.0],\"7\":[\"15.0\",6.0],\"8\":[\"14.0\",12.0],\"9\":[\"3.0*\",10.0],\"index\":[\"label\",\"prev\"]},{\"0\":[\"0.0*\",\"-\"],\"1\":[\"2.0*\",0.0],\"10\":[\"2.0*\",0.0],\"11\":[\"3.0*\",0.0],\"12\":[\"9.0*\",13.0],\"13\":[\"7.0*\",1.0],\"2\":[\"15.0\",13.0],\"3\":[\"15.0\",13.0],\"4\":[\"14.0*\",13.0],\"5\":[\"14.0*\",6.0],\"6\":[\"12.0*\",13.0],\"7\":[\"15.0\",6.0],\"8\":[\"14.0*\",12.0],\"9\":[\"3.0*\",10.0],\"index\":[\"label\",\"prev\"]},{\"0\":[\"0.0*\",\"-\"],\"1\":[\"2.0*\",0.0],\"10\":[\"2.0*\",0.0],\"11\":[\"3.0*\",0.0],\"12\":[\"9.0*\",13.0],\"13\":[\"7.0*\",1.0],\"2\":[\"15.0\",13.0],\"3\":[\"15.0\",13.0],\"4\":[\"14.0*\",13.0],\"5\":[\"14.0*\",6.0],\"6\":[\"12.0*\",13.0],\"7\":[\"15.0*\",6.0],\"8\":[\"14.0*\",12.0],\"9\":[\"3.0*\",10.0],\"index\":[\"label\",\"prev\"]},{\"0\":[\"0.0*\",\"-\"],\"1\":[\"2.0*\",0.0],\"10\":[\"2.0*\",0.0],\"11\":[\"3.0*\",0.0],\"12\":[\"9.0*\",13.0],\"13\":[\"7.0*\",1.0],\"2\":[\"15.0\",13.0],\"3\":[\"15.0*\",13.0],\"4\":[\"14.0*\",13.0],\"5\":[\"14.0*\",6.0],\"6\":[\"12.0*\",13.0],\"7\":[\"15.0*\",6.0],\"8\":[\"14.0*\",12.0],\"9\":[\"3.0*\",10.0],\"index\":[\"label\",\"prev\"]},{\"0\":[\"0.0*\",\"-\"],\"1\":[\"2.0*\",0.0],\"10\":[\"2.0*\",0.0],\"11\":[\"3.0*\",0.0],\"12\":[\"9.0*\",13.0],\"13\":[\"7.0*\",1.0],\"2\":[\"15.0*\",13.0],\"3\":[\"15.0*\",13.0],\"4\":[\"14.0*\",13.0],\"5\":[\"14.0*\",6.0],\"6\":[\"12.0*\",13.0],\"7\":[\"15.0*\",6.0],\"8\":[\"14.0*\",12.0],\"9\":[\"3.0*\",10.0],\"index\":[\"label\",\"prev\"]}]},\"selected\":{\"id\":\"2837\"},\"selection_policy\":{\"id\":\"2836\"}},\"id\":\"2772\",\"type\":\"ColumnDataSource\"},{\"attributes\":{},\"id\":\"2813\",\"type\":\"StringEditor\"},{\"attributes\":{\"data\":{\"fill_color\":[\"#5e92f3\",\"#5e92f3\",\"#5e92f3\",\"#5e92f3\",\"#5e92f3\",\"#5e92f3\",\"#5e92f3\",\"#5e92f3\",\"#5e92f3\",\"#5e92f3\",\"#5e92f3\",\"#5e92f3\",\"#5e92f3\",\"#5e92f3\"],\"line_color\":[\"#003c8f\",\"#003c8f\",\"#003c8f\",\"#003c8f\",\"#003c8f\",\"#003c8f\",\"#003c8f\",\"#003c8f\",\"#003c8f\",\"#003c8f\",\"#003c8f\",\"#003c8f\",\"#003c8f\",\"#003c8f\"],\"line_width\":[3,3,3,3,3,3,3,3,3,3,3,3,3,3],\"name\":[\"Jameson Hall\",\"Clara Dickson Hall\",\"Willard Straight (and Okenshields)\",\"Cornell Health\",\"Hollister Hall\",\"Duffield Hall\",\"Gates Hall\",\"Rhodes Hall\",\"Cornell High Energy\",\"Holland International Living Center\",\"High Rise 5\",\"Helen Newman Bowling Lanes\",\"Lindseth Climbing Center\",\"Lynah Hockey Rink\"],\"x\":[127,111,51,60,68,83,95,94,132,148,141,127,120,106],\"y\":[296,284,50,8,-28,-28,-16,-55,14,269,296,227,65,62]},\"selected\":{\"id\":\"2787\"},\"selection_policy\":{\"id\":\"2786\"}},\"id\":\"2724\",\"type\":\"ColumnDataSource\"},{\"attributes\":{\"formatter\":{\"id\":\"2783\"},\"ticker\":{\"id\":\"2700\"},\"visible\":false},\"id\":\"2699\",\"type\":\"LinearAxis\"},{\"attributes\":{\"button_type\":\"primary\",\"icon\":null,\"js_event_callbacks\":{\"button_click\":[{\"id\":\"2774\"}]},\"label\":\"Next\",\"max_width\":250,\"sizing_mode\":\"stretch_width\",\"width_policy\":\"fit\"},\"id\":\"2773\",\"type\":\"Button\"},{\"attributes\":{},\"id\":\"2814\",\"type\":\"StringFormatter\"},{\"attributes\":{\"args\":{\"done\":{\"id\":\"2747\"},\"edge_subset_src\":{\"id\":\"2748\"},\"k\":{\"id\":\"2746\"},\"n\":{\"id\":\"2745\"},\"nodes_src\":{\"id\":\"2724\"},\"source\":{\"id\":\"2772\"},\"table_src\":{\"id\":\"2754\"}},\"code\":\"/* Color Theme -- Using Google's Material Design Color System\\n   https://material.io/design/color/the-color-system.html */\\n\\n/** @constant {string} */\\nvar PRIMARY_COLOR = '#1565c0'\\n/** @constant {string} */\\nvar PRIMARY_LIGHT_COLOR = '#5e92f3'\\n/** @constant {string} */\\nvar PRIMARY_DARK_COLOR = '#003c8f'\\n/** @constant {string} */\\nvar SECONDARY_COLOR = '#d50000'\\n/** @constant {string} */\\nvar SECONDARY_LIGHT_COLOR = '#ff5131'\\n/** @constant {string} */\\nvar SECONDARY_DARK_COLOR = '#9b0000'\\n\\n// Grayscale\\n/** @constant {string} */\\nvar TERTIARY_COLOR = '#DFDFDF'\\n/**\\n *  Jupyter Notebook: 'white', Sphinx: '#FCFCFC'\\n *  @constant {string}\\n */\\nvar TERTIARY_LIGHT_COLOR = 'white'\\n/** @constant {string} */\\nvar TERTIARY_DARK_COLOR = '#404040'\\n/** @type {integer} */\\nvar iteration = 0\\n\\n\\n/**\\n * Increment iteration and update n Div.\\n */\\nfunction increment_iteration() {\\n    if ((parseInt(n.text) + 1) < parseInt(k.text)) {\\n        n.text = (parseInt(n.text) + 1).toString()\\n    }\\n    iteration = parseInt(n.text)\\n}\\n\\n/**\\n * Decrement iteration and update n Div.\\n */\\nfunction decrement_iteration() {\\n    if ((parseInt(n.text) - 1) >= 0) {\\n        n.text = (parseInt(n.text) - 1).toString()\\n    }\\n    iteration = parseInt(n.text)\\n}\\n\\n/**\\n * Update which nodes are highlighted given the current iteration.\\n */\\nfunction nodes_update() {\\n    var in_tree = source.data['nodes'][iteration]\\n\\n    for (let i = 0; i < nodes_src.data['line_color'].length ; i++) {\\n        if (in_tree.includes(i)) {\\n            nodes_src.data['fill_color'][i] = PRIMARY_DARK_COLOR\\n            nodes_src.data['line_color'][i] = PRIMARY_DARK_COLOR\\n        } else {\\n            nodes_src.data['fill_color'][i] = PRIMARY_LIGHT_COLOR\\n            nodes_src.data['line_color'][i] = PRIMARY_DARK_COLOR\\n        }\\n    }\\n\\n    nodes_src.change.emit()\\n}\\n\\n/**\\n * Update which subset of edges are highlighted given the current iteration.\\n */\\nfunction edge_subset_update() {\\n    edge_subset_src.data['xs'] = source.data['edge_xs'][iteration]\\n    edge_subset_src.data['ys'] = source.data['edge_ys'][iteration]\\n    edge_subset_src.change.emit()\\n}\\n\\n/**\\n * Update which swaps are updated given the current iteration\\n */\\nfunction swaps_update() {\\n    swaps_src.data['swaps_before_x'] = source.data['swaps_before_x'][iteration]\\n    swaps_src.data['swaps_before_y'] = source.data['swaps_before_y'][iteration]\\n    swaps_src.data['swaps_after_x'] = source.data['swaps_after_x'][iteration]\\n    swaps_src.data['swaps_after_y'] = source.data['swaps_after_y'][iteration]\\n    swaps_src.change.emit()\\n}\\n\\n/**\\n * Update which table is shown given the current iteration.\\n */\\nfunction table_update() {\\n    table_src.data = source.data['tables'][iteration]\\n}\\n\\n/**\\n * Update which cost is shown given the current iteration.\\n */\\nfunction cost_update() {\\n    cost.text = source.data['costs'][iteration].toFixed(1)\\n}\\n\\n/**\\n * Update done Div based on the current iteration.\\n */\\nfunction done_update() {\\n    if (iteration == parseInt(k.text) - 1) {\\n        done.text = \\\"done.\\\"\\n    } else {\\n        done.text = \\\"\\\"\\n    }\\n}\\n\\n// BEGIN FUNCTION CALLING\\nincrement_iteration()\\ndone_update()\\nedge_subset_update()\\ntable_update()\\nnodes_update()\\n\"},\"id\":\"2774\",\"type\":\"CustomJS\"},{\"attributes\":{\"data\":{\"xs\":[],\"ys\":[]},\"selected\":{\"id\":\"2793\"},\"selection_policy\":{\"id\":\"2792\"}},\"id\":\"2748\",\"type\":\"ColumnDataSource\"},{\"attributes\":{},\"id\":\"2815\",\"type\":\"StringEditor\"},{\"attributes\":{\"data\":{\"0\":[\"0.0\",\"-\"],\"1\":[\"inf\",\"-\"],\"10\":[\"inf\",\"-\"],\"11\":[\"inf\",\"-\"],\"12\":[\"inf\",\"-\"],\"13\":[\"inf\",\"-\"],\"2\":[\"inf\",\"-\"],\"3\":[\"inf\",\"-\"],\"4\":[\"inf\",\"-\"],\"5\":[\"inf\",\"-\"],\"6\":[\"inf\",\"-\"],\"7\":[\"inf\",\"-\"],\"8\":[\"inf\",\"-\"],\"9\":[\"inf\",\"-\"],\"index\":[\"label\",\"prev\"]},\"selected\":{\"id\":\"2829\"},\"selection_policy\":{\"id\":\"2828\"}},\"id\":\"2754\",\"type\":\"ColumnDataSource\"},{\"attributes\":{\"button_type\":\"primary\",\"icon\":null,\"js_event_callbacks\":{\"button_click\":[{\"id\":\"2776\"}]},\"label\":\"Previous\",\"max_width\":250,\"sizing_mode\":\"stretch_width\",\"width_policy\":\"fit\"},\"id\":\"2775\",\"type\":\"Button\"},{\"attributes\":{},\"id\":\"2707\",\"type\":\"PanTool\"},{\"attributes\":{},\"id\":\"2816\",\"type\":\"StringFormatter\"},{\"attributes\":{\"args\":{\"done\":{\"id\":\"2747\"},\"edge_subset_src\":{\"id\":\"2748\"},\"k\":{\"id\":\"2746\"},\"n\":{\"id\":\"2745\"},\"nodes_src\":{\"id\":\"2724\"},\"source\":{\"id\":\"2772\"},\"table_src\":{\"id\":\"2754\"}},\"code\":\"/* Color Theme -- Using Google's Material Design Color System\\n   https://material.io/design/color/the-color-system.html */\\n\\n/** @constant {string} */\\nvar PRIMARY_COLOR = '#1565c0'\\n/** @constant {string} */\\nvar PRIMARY_LIGHT_COLOR = '#5e92f3'\\n/** @constant {string} */\\nvar PRIMARY_DARK_COLOR = '#003c8f'\\n/** @constant {string} */\\nvar SECONDARY_COLOR = '#d50000'\\n/** @constant {string} */\\nvar SECONDARY_LIGHT_COLOR = '#ff5131'\\n/** @constant {string} */\\nvar SECONDARY_DARK_COLOR = '#9b0000'\\n\\n// Grayscale\\n/** @constant {string} */\\nvar TERTIARY_COLOR = '#DFDFDF'\\n/**\\n *  Jupyter Notebook: 'white', Sphinx: '#FCFCFC'\\n *  @constant {string}\\n */\\nvar TERTIARY_LIGHT_COLOR = 'white'\\n/** @constant {string} */\\nvar TERTIARY_DARK_COLOR = '#404040'\\n/** @type {integer} */\\nvar iteration = 0\\n\\n\\n/**\\n * Increment iteration and update n Div.\\n */\\nfunction increment_iteration() {\\n    if ((parseInt(n.text) + 1) < parseInt(k.text)) {\\n        n.text = (parseInt(n.text) + 1).toString()\\n    }\\n    iteration = parseInt(n.text)\\n}\\n\\n/**\\n * Decrement iteration and update n Div.\\n */\\nfunction decrement_iteration() {\\n    if ((parseInt(n.text) - 1) >= 0) {\\n        n.text = (parseInt(n.text) - 1).toString()\\n    }\\n    iteration = parseInt(n.text)\\n}\\n\\n/**\\n * Update which nodes are highlighted given the current iteration.\\n */\\nfunction nodes_update() {\\n    var in_tree = source.data['nodes'][iteration]\\n\\n    for (let i = 0; i < nodes_src.data['line_color'].length ; i++) {\\n        if (in_tree.includes(i)) {\\n            nodes_src.data['fill_color'][i] = PRIMARY_DARK_COLOR\\n            nodes_src.data['line_color'][i] = PRIMARY_DARK_COLOR\\n        } else {\\n            nodes_src.data['fill_color'][i] = PRIMARY_LIGHT_COLOR\\n            nodes_src.data['line_color'][i] = PRIMARY_DARK_COLOR\\n        }\\n    }\\n\\n    nodes_src.change.emit()\\n}\\n\\n/**\\n * Update which subset of edges are highlighted given the current iteration.\\n */\\nfunction edge_subset_update() {\\n    edge_subset_src.data['xs'] = source.data['edge_xs'][iteration]\\n    edge_subset_src.data['ys'] = source.data['edge_ys'][iteration]\\n    edge_subset_src.change.emit()\\n}\\n\\n/**\\n * Update which swaps are updated given the current iteration\\n */\\nfunction swaps_update() {\\n    swaps_src.data['swaps_before_x'] = source.data['swaps_before_x'][iteration]\\n    swaps_src.data['swaps_before_y'] = source.data['swaps_before_y'][iteration]\\n    swaps_src.data['swaps_after_x'] = source.data['swaps_after_x'][iteration]\\n    swaps_src.data['swaps_after_y'] = source.data['swaps_after_y'][iteration]\\n    swaps_src.change.emit()\\n}\\n\\n/**\\n * Update which table is shown given the current iteration.\\n */\\nfunction table_update() {\\n    table_src.data = source.data['tables'][iteration]\\n}\\n\\n/**\\n * Update which cost is shown given the current iteration.\\n */\\nfunction cost_update() {\\n    cost.text = source.data['costs'][iteration].toFixed(1)\\n}\\n\\n/**\\n * Update done Div based on the current iteration.\\n */\\nfunction done_update() {\\n    if (iteration == parseInt(k.text) - 1) {\\n        done.text = \\\"done.\\\"\\n    } else {\\n        done.text = \\\"\\\"\\n    }\\n}\\n\\n// BEGIN FUNCTION CALLING\\ndecrement_iteration()\\ndone_update()\\nedge_subset_update()\\ntable_update()\\nnodes_update()\\n\"},\"id\":\"2776\",\"type\":\"CustomJS\"},{\"attributes\":{},\"id\":\"2708\",\"type\":\"WheelZoomTool\"},{\"attributes\":{},\"id\":\"2817\",\"type\":\"StringEditor\"},{\"attributes\":{\"data_source\":{\"id\":\"2748\"},\"glyph\":{\"id\":\"2750\"},\"hover_glyph\":null,\"level\":\"underlay\",\"muted_glyph\":null,\"nonselection_glyph\":{\"id\":\"2751\"},\"selection_glyph\":null,\"view\":{\"id\":\"2753\"}},\"id\":\"2752\",\"type\":\"GlyphRenderer\"},{\"attributes\":{\"callback\":null,\"renderers\":[{\"id\":\"2728\"}],\"tooltips\":[[\"Index\",\"$index\"],[\"Name\",\"@name\"]]},\"id\":\"2777\",\"type\":\"HoverTool\"},{\"attributes\":{\"line_cap\":\"round\",\"line_color\":{\"value\":\"#404040\"},\"line_width\":{\"value\":5},\"xs\":{\"field\":\"xs\"},\"ys\":{\"field\":\"ys\"}},\"id\":\"2750\",\"type\":\"MultiLine\"},{\"attributes\":{\"overlay\":{\"id\":\"2713\"}},\"id\":\"2709\",\"type\":\"BoxZoomTool\"},{\"attributes\":{},\"id\":\"2818\",\"type\":\"StringFormatter\"},{\"attributes\":{\"children\":[{\"id\":\"2775\"},{\"id\":\"2773\"}],\"max_width\":500,\"sizing_mode\":\"stretch_both\"},\"id\":\"2779\",\"type\":\"Row\"},{\"attributes\":{\"source\":{\"id\":\"2748\"}},\"id\":\"2753\",\"type\":\"CDSView\"},{\"attributes\":{},\"id\":\"2710\",\"type\":\"SaveTool\"},{\"attributes\":{},\"id\":\"2819\",\"type\":\"StringEditor\"},{\"attributes\":{\"children\":[{\"id\":\"2747\"}]},\"id\":\"2780\",\"type\":\"Row\"},{\"attributes\":{\"editor\":{\"id\":\"2801\"},\"field\":\"0\",\"formatter\":{\"id\":\"2800\"},\"title\":\"0\"},\"id\":\"2756\",\"type\":\"TableColumn\"},{\"attributes\":{\"line_alpha\":{\"value\":0.1},\"line_cap\":\"round\",\"line_color\":{\"value\":\"#404040\"},\"line_width\":{\"value\":5},\"xs\":{\"field\":\"xs\"},\"ys\":{\"field\":\"ys\"}},\"id\":\"2751\",\"type\":\"MultiLine\"},{\"attributes\":{},\"id\":\"2711\",\"type\":\"ResetTool\"},{\"attributes\":{},\"id\":\"2820\",\"type\":\"StringFormatter\"},{\"attributes\":{},\"id\":\"2712\",\"type\":\"HelpTool\"},{\"attributes\":{},\"id\":\"2821\",\"type\":\"StringEditor\"},{\"attributes\":{},\"id\":\"2697\",\"type\":\"LinearScale\"},{\"attributes\":{\"editor\":{\"id\":\"2803\"},\"field\":\"1\",\"formatter\":{\"id\":\"2802\"},\"title\":\"1\"},\"id\":\"2757\",\"type\":\"TableColumn\"},{\"attributes\":{\"editor\":{\"id\":\"2799\"},\"field\":\"index\",\"formatter\":{\"id\":\"2798\"},\"title\":\"\"},\"id\":\"2755\",\"type\":\"TableColumn\"},{\"attributes\":{},\"id\":\"2783\",\"type\":\"BasicTickFormatter\"},{\"attributes\":{},\"id\":\"2822\",\"type\":\"StringFormatter\"},{\"attributes\":{\"active_drag\":null,\"active_inspect\":\"auto\",\"active_multi\":null,\"active_scroll\":null,\"active_tap\":\"auto\",\"logo\":null,\"tools\":[{\"id\":\"2707\"},{\"id\":\"2708\"},{\"id\":\"2709\"},{\"id\":\"2710\"},{\"id\":\"2711\"},{\"id\":\"2712\"},{\"id\":\"2777\"}]},\"id\":\"2714\",\"type\":\"Toolbar\"},{\"attributes\":{\"background_fill_color\":null,\"below\":[{\"id\":\"2699\"}],\"border_fill_color\":null,\"center\":[{\"id\":\"2702\"},{\"id\":\"2706\"},{\"id\":\"2743\"}],\"left\":[{\"id\":\"2703\"}],\"outline_line_color\":null,\"plot_height\":500,\"plot_width\":500,\"renderers\":[{\"id\":\"2728\"},{\"id\":\"2735\"},{\"id\":\"2740\"},{\"id\":\"2752\"}],\"title\":{\"id\":\"2689\"},\"toolbar\":{\"id\":\"2714\"},\"toolbar_location\":null,\"x_range\":{\"id\":\"2691\"},\"x_scale\":{\"id\":\"2695\"},\"y_range\":{\"id\":\"2693\"},\"y_scale\":{\"id\":\"2697\"}},\"id\":\"2688\",\"subtype\":\"Figure\",\"type\":\"Plot\"},{\"attributes\":{},\"id\":\"2785\",\"type\":\"BasicTickFormatter\"},{\"attributes\":{},\"id\":\"2823\",\"type\":\"StringEditor\"},{\"attributes\":{\"editor\":{\"id\":\"2805\"},\"field\":\"2\",\"formatter\":{\"id\":\"2804\"},\"title\":\"2\"},\"id\":\"2758\",\"type\":\"TableColumn\"},{\"attributes\":{},\"id\":\"2824\",\"type\":\"StringFormatter\"},{\"attributes\":{},\"id\":\"2786\",\"type\":\"UnionRenderers\"},{\"attributes\":{\"end\":325.835,\"start\":-84.83500000000001},\"id\":\"2693\",\"type\":\"Range1d\"},{\"attributes\":{},\"id\":\"2825\",\"type\":\"StringEditor\"},{\"attributes\":{},\"id\":\"2787\",\"type\":\"Selection\"},{\"attributes\":{\"editor\":{\"id\":\"2807\"},\"field\":\"3\",\"formatter\":{\"id\":\"2806\"},\"title\":\"3\"},\"id\":\"2759\",\"type\":\"TableColumn\"},{\"attributes\":{},\"id\":\"2826\",\"type\":\"StringFormatter\"},{\"attributes\":{},\"id\":\"2788\",\"type\":\"UnionRenderers\"},{\"attributes\":{\"bottom_units\":\"screen\",\"fill_alpha\":0.5,\"fill_color\":\"lightgrey\",\"left_units\":\"screen\",\"level\":\"overlay\",\"line_alpha\":1.0,\"line_color\":\"black\",\"line_dash\":[4,4],\"line_width\":2,\"right_units\":\"screen\",\"top_units\":\"screen\"},\"id\":\"2713\",\"type\":\"BoxAnnotation\"},{\"attributes\":{\"align\":\"center\",\"width\":250},\"id\":\"2747\",\"type\":\"Div\"},{\"attributes\":{},\"id\":\"2827\",\"type\":\"StringEditor\"},{\"attributes\":{},\"id\":\"2789\",\"type\":\"Selection\"},{\"attributes\":{\"editor\":{\"id\":\"2809\"},\"field\":\"4\",\"formatter\":{\"id\":\"2808\"},\"title\":\"4\"},\"id\":\"2760\",\"type\":\"TableColumn\"},{\"attributes\":{},\"id\":\"2828\",\"type\":\"UnionRenderers\"},{\"attributes\":{},\"id\":\"2790\",\"type\":\"UnionRenderers\"},{\"attributes\":{\"data\":{\"line_color\":[\"#DFDFDF\",\"#DFDFDF\",\"#DFDFDF\",\"#DFDFDF\",\"#DFDFDF\",\"#DFDFDF\",\"#DFDFDF\",\"#DFDFDF\",\"#DFDFDF\",\"#DFDFDF\",\"#DFDFDF\",\"#DFDFDF\",\"#DFDFDF\",\"#DFDFDF\",\"#DFDFDF\",\"#DFDFDF\",\"#DFDFDF\",\"#DFDFDF\",\"#DFDFDF\",\"#DFDFDF\",\"#DFDFDF\",\"#DFDFDF\",\"#DFDFDF\",\"#DFDFDF\",\"#DFDFDF\",\"#DFDFDF\",\"#DFDFDF\"],\"u\":[8,8,8,8,9,9,2,2,2,2,3,3,4,4,5,6,6,6,13,13,13,12,1,1,11,11,0],\"v\":[9,12,6,7,11,10,3,13,1,11,4,13,5,13,6,7,13,12,12,1,0,11,0,11,10,0,10],\"weight\":[14,5,6,6,3,1,3,8,18,19,3,8,4,7,2,3,5,5,2,5,17,12,2,3,5,3,2],\"xs\":[[132,148],[132,120],[132,95],[132,94],[148,127],[148,141],[51,60],[51,106],[51,111],[51,127],[60,68],[60,106],[68,83],[68,106],[83,95],[95,94],[95,106],[95,120],[106,120],[106,111],[106,127],[120,127],[111,127],[111,127],[127,141],[127,127],[127,141]],\"ys\":[[14,269],[14,65],[14,-16],[14,-55],[269,227],[269,296],[50,8],[50,62],[50,284],[50,227],[8,-28],[8,62],[-28,-28],[-28,62],[-28,-16],[-16,-55],[-16,62],[-16,65],[62,65],[62,284],[62,296],[65,227],[284,296],[284,227],[227,296],[227,296],[296,296]]},\"selected\":{\"id\":\"2789\"},\"selection_policy\":{\"id\":\"2788\"}},\"id\":\"2730\",\"type\":\"ColumnDataSource\"},{\"attributes\":{},\"id\":\"2829\",\"type\":\"Selection\"},{\"attributes\":{},\"id\":\"2791\",\"type\":\"Selection\"},{\"attributes\":{\"editor\":{\"id\":\"2811\"},\"field\":\"5\",\"formatter\":{\"id\":\"2810\"},\"title\":\"5\"},\"id\":\"2761\",\"type\":\"TableColumn\"},{\"attributes\":{},\"id\":\"2792\",\"type\":\"UnionRenderers\"},{\"attributes\":{},\"id\":\"2836\",\"type\":\"UnionRenderers\"},{\"attributes\":{},\"id\":\"2793\",\"type\":\"Selection\"},{\"attributes\":{\"align\":\"center\",\"text\":\"15\",\"width\":500},\"id\":\"2746\",\"type\":\"Div\"},{\"attributes\":{},\"id\":\"2837\",\"type\":\"Selection\"},{\"attributes\":{\"editor\":{\"id\":\"2813\"},\"field\":\"6\",\"formatter\":{\"id\":\"2812\"},\"title\":\"6\"},\"id\":\"2762\",\"type\":\"TableColumn\"},{\"attributes\":{\"fill_color\":{\"field\":\"fill_color\"},\"line_color\":{\"field\":\"line_color\"},\"line_width\":{\"field\":\"line_width\"},\"size\":{\"units\":\"screen\",\"value\":11},\"x\":{\"field\":\"x\"},\"y\":{\"field\":\"y\"}},\"id\":\"2727\",\"type\":\"Circle\"},{\"attributes\":{},\"id\":\"2795\",\"type\":\"UnionRenderers\"},{\"attributes\":{\"data_source\":{\"id\":\"2724\"},\"glyph\":{\"id\":\"2726\"},\"hover_glyph\":null,\"muted_glyph\":null,\"nonselection_glyph\":{\"id\":\"2727\"},\"selection_glyph\":null,\"view\":{\"id\":\"2729\"}},\"id\":\"2728\",\"type\":\"GlyphRenderer\"},{\"attributes\":{},\"id\":\"2796\",\"type\":\"Selection\"},{\"attributes\":{\"end\":156.245,\"start\":42.754999999999995},\"id\":\"2691\",\"type\":\"Range1d\"},{\"attributes\":{\"editor\":{\"id\":\"2815\"},\"field\":\"7\",\"formatter\":{\"id\":\"2814\"},\"title\":\"7\"},\"id\":\"2763\",\"type\":\"TableColumn\"},{\"attributes\":{\"source\":{\"id\":\"2724\"}},\"id\":\"2729\",\"type\":\"CDSView\"},{\"attributes\":{},\"id\":\"2798\",\"type\":\"StringFormatter\"},{\"attributes\":{},\"id\":\"2799\",\"type\":\"StringEditor\"},{\"attributes\":{\"editor\":{\"id\":\"2817\"},\"field\":\"8\",\"formatter\":{\"id\":\"2816\"},\"title\":\"8\"},\"id\":\"2764\",\"type\":\"TableColumn\"},{\"attributes\":{\"fill_color\":{\"field\":\"fill_color\"},\"line_color\":{\"field\":\"line_color\"},\"line_width\":{\"field\":\"line_width\"},\"size\":{\"units\":\"screen\",\"value\":11},\"x\":{\"field\":\"x\"},\"y\":{\"field\":\"y\"}},\"id\":\"2726\",\"type\":\"Circle\"},{\"attributes\":{\"text\":\"\"},\"id\":\"2689\",\"type\":\"Title\"},{\"attributes\":{},\"id\":\"2800\",\"type\":\"StringFormatter\"},{\"attributes\":{},\"id\":\"2700\",\"type\":\"BasicTicker\"},{\"attributes\":{},\"id\":\"2801\",\"type\":\"StringEditor\"},{\"attributes\":{\"editor\":{\"id\":\"2819\"},\"field\":\"9\",\"formatter\":{\"id\":\"2818\"},\"title\":\"9\"},\"id\":\"2765\",\"type\":\"TableColumn\"},{\"attributes\":{\"line_cap\":\"round\",\"line_color\":{\"field\":\"line_color\"},\"line_width\":{\"value\":5},\"xs\":{\"field\":\"xs\"},\"ys\":{\"field\":\"ys\"}},\"id\":\"2732\",\"type\":\"MultiLine\"},{\"attributes\":{\"source\":{\"id\":\"2730\"}},\"id\":\"2736\",\"type\":\"CDSView\"},{\"attributes\":{},\"id\":\"2802\",\"type\":\"StringFormatter\"},{\"attributes\":{\"data_source\":{\"id\":\"2730\"},\"glyph\":{\"id\":\"2732\"},\"hover_glyph\":{\"id\":\"2734\"},\"level\":\"underlay\",\"muted_glyph\":null,\"nonselection_glyph\":{\"id\":\"2733\"},\"selection_glyph\":null,\"view\":{\"id\":\"2736\"}},\"id\":\"2735\",\"type\":\"GlyphRenderer\"},{\"attributes\":{},\"id\":\"2803\",\"type\":\"StringEditor\"},{\"attributes\":{\"editor\":{\"id\":\"2821\"},\"field\":\"10\",\"formatter\":{\"id\":\"2820\"},\"title\":\"10\"},\"id\":\"2766\",\"type\":\"TableColumn\"},{\"attributes\":{\"line_cap\":\"round\",\"line_color\":{\"value\":\"#404040\"},\"line_width\":{\"value\":5},\"xs\":{\"field\":\"xs\"},\"ys\":{\"field\":\"ys\"}},\"id\":\"2734\",\"type\":\"MultiLine\"},{\"attributes\":{\"line_cap\":\"round\",\"line_color\":{\"field\":\"line_color\"},\"line_width\":{\"value\":5},\"xs\":{\"field\":\"xs\"},\"ys\":{\"field\":\"ys\"}},\"id\":\"2733\",\"type\":\"MultiLine\"},{\"attributes\":{},\"id\":\"2804\",\"type\":\"StringFormatter\"},{\"attributes\":{},\"id\":\"2805\",\"type\":\"StringEditor\"},{\"attributes\":{\"editor\":{\"id\":\"2823\"},\"field\":\"11\",\"formatter\":{\"id\":\"2822\"},\"title\":\"11\"},\"id\":\"2767\",\"type\":\"TableColumn\"},{\"attributes\":{\"data\":{\"xs\":[[139.54769615462328,140.45230384537672],[126.8828770389428,125.1171229610572],[114.8289275090869,112.1710724909131],[114.21722514717803,111.78277485282196],[138.6919361087974,136.3080638912026],[145.43178629393617,143.5682137060638],[54.66547860530453,56.33452139469547],[77.1405888403088,79.8594111596912],[79.61055314785354,82.38944685214648],[87.28221404313904,90.71778595686096],[63.14657436429944,64.85342563570057],[81.70458303384284,84.29541696615716],[74.13812,76.86188],[85.86050012641759,88.13949987358241],[87.68732316577159,90.31267683422843],[94.62581958410185,94.37418041589815],[99.8809646803367,101.11903531966328],[106.48539741954187,108.51460258045815],[111.64050168379492,114.35949831620506],[108.38937489108713,108.61062510891286],[115.86904572477269,117.13095427522728],[123.18442424701709,123.81557575298292],[117.66646237536449,120.33353762463551],[118.02951766558283,119.97048233441718],[133.1940151584473,134.8059848415527],[127.0,127.0],[132.63812000000001,135.36187999999999]],\"ys\":[[134.29140746430838,148.7085925356916],[35.747772584493106,43.252227415506894],[0.07750879115152998,-2.07750879115153],[-18.28977539065042,-22.710224609349574],[250.38387221759476,245.6161277824052],[278.90596715196034,286.09403284803955],[32.894433175245524,25.105566824754476],[55.70340120152193,56.29659879847807],[161.5811572766287,172.41884272337123],[134.49936691625797,142.50063308374195],[-6.159584639347429,-13.840415360652571],[33.47929312668509,36.52070687331491],[-27.999999999999993,-27.999999999999993],[14.301184509936405,19.698815490063595],[-23.31267683422842,-20.687323165771602],[-30.59303622002799,-40.40696377997201],[18.61047682420579,27.38952317579421],[21.21268763931559,27.787312360684382],[63.20867893224175,63.79132106775822],[168.08824516426915,177.91175483573082],[171.96936664746718,186.0306333525327],[138.6966754309668,153.30332456903318],[288.9998467815233,291.0001532184766],[258.9573433163612,252.0426566836388],[257.52764613806175,265.47235386193825],[256.57196,266.42804],[296.0,296.0]]},\"selected\":{\"id\":\"2791\"},\"selection_policy\":{\"id\":\"2790\"}},\"id\":\"2737\",\"type\":\"ColumnDataSource\"},{\"attributes\":{},\"id\":\"2806\",\"type\":\"StringFormatter\"},{\"attributes\":{},\"id\":\"2807\",\"type\":\"StringEditor\"},{\"attributes\":{\"editor\":{\"id\":\"2825\"},\"field\":\"12\",\"formatter\":{\"id\":\"2824\"},\"title\":\"12\"},\"id\":\"2768\",\"type\":\"TableColumn\"},{\"attributes\":{\"line_color\":{\"value\":\"white\"},\"line_width\":{\"value\":6},\"xs\":{\"field\":\"xs\"},\"ys\":{\"field\":\"ys\"}},\"id\":\"2738\",\"type\":\"MultiLine\"},{\"attributes\":{\"data_source\":{\"id\":\"2737\"},\"glyph\":{\"id\":\"2738\"},\"hover_glyph\":null,\"level\":\"guide\",\"muted_glyph\":null,\"nonselection_glyph\":{\"id\":\"2739\"},\"selection_glyph\":null,\"view\":{\"id\":\"2741\"}},\"id\":\"2740\",\"type\":\"GlyphRenderer\"},{\"attributes\":{},\"id\":\"2808\",\"type\":\"StringFormatter\"},{\"attributes\":{\"line_color\":{\"value\":\"white\"},\"line_width\":{\"value\":6},\"xs\":{\"field\":\"xs\"},\"ys\":{\"field\":\"ys\"}},\"id\":\"2739\",\"type\":\"MultiLine\"},{\"attributes\":{},\"id\":\"2809\",\"type\":\"StringEditor\"}],\"root_ids\":[\"2838\"]},\"title\":\"Bokeh Application\",\"version\":\"2.2.3\"}};\n",
       "  var render_items = [{\"docid\":\"b753cafa-cb54-4572-9ada-7d0659b8dd2c\",\"root_ids\":[\"2838\"],\"roots\":{\"2838\":\"39dff83f-ecea-47ff-b017-3d7e07ef5da3\"}}];\n",
       "  root.Bokeh.embed.embed_items_notebook(docs_json, render_items);\n",
       "\n",
       "  }\n",
       "  if (root.Bokeh !== undefined) {\n",
       "    embed_document(root);\n",
       "  } else {\n",
       "    var attempts = 0;\n",
       "    var timer = setInterval(function(root) {\n",
       "      if (root.Bokeh !== undefined) {\n",
       "        clearInterval(timer);\n",
       "        embed_document(root);\n",
       "      } else {\n",
       "        attempts++;\n",
       "        if (attempts > 100) {\n",
       "          clearInterval(timer);\n",
       "          console.log(\"Bokeh: ERROR: Unable to run BokehJS code because BokehJS library is missing\");\n",
       "        }\n",
       "      }\n",
       "    }, 10, root)\n",
       "  }\n",
       "})(window);"
      ],
      "application/vnd.bokehjs_exec.v0+json": ""
     },
     "metadata": {
      "application/vnd.bokehjs_exec.v0+json": {
       "id": "2838"
      }
     },
     "output_type": "display_data"
    }
   ],
   "source": [
    "G[9][8]['weight'] = 14  # change this weight back t original\n",
    "G[1][13]['weight'] = 5  # change this weight\n",
    "show(vl.dijkstras_plot(G, s=s, width=500, height=500, show_cost=False))"
   ]
  },
  {
   "cell_type": "markdown",
   "metadata": {},
   "source": [
    "**Q21:** Suppose that all the travel times obeyed the following inequality:\n",
    "\n",
    "$$\\text{(travel time from A to C) ≤ (travel time from A to B) + (travel time from B to C)}$$\n",
    "\n",
    "for all nodes A, B and C. This is called the triangle inequality. Suppose our input was the complete graph (that is, there is an edge between every pair of nodes). If the travel times on this input obeyed the triangle inequality, what would the shortest path tree look like?\n",
    "\n",
    "**A:** <font color='blue'>It would contain all and only edges of the form $(s,i)$ for source $s$ and node $i$</font>"
   ]
  },
  {
   "cell_type": "markdown",
   "metadata": {},
   "source": [
    "<font color='red'>Part III: NYC Data currently implemented in a separate notebook.</font>"
   ]
  }
 ],
 "metadata": {
  "kernelspec": {
   "display_name": "Python 3",
   "language": "python",
   "name": "python3"
  },
  "language_info": {
   "codemirror_mode": {
    "name": "ipython",
    "version": 3
   },
   "file_extension": ".py",
   "mimetype": "text/x-python",
   "name": "python",
   "nbconvert_exporter": "python",
   "pygments_lexer": "ipython3",
   "version": "3.6.10"
  }
 },
 "nbformat": 4,
 "nbformat_minor": 4
}
