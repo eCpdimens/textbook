{
 "cells": [
  {
   "cell_type": "markdown",
   "metadata": {},
   "source": [
    "<font color='red'>\n",
    "    \n",
    "This is a Jupyter Notebook demo for the shortest path lab, ENGRI 1101 by Sander Aarts, 2020.\n",
    "    \n",
    "Meta notes are in red. These are not intended for students.\n",
    "    \n",
    "</font>"
   ]
  },
  {
   "cell_type": "markdown",
   "metadata": {},
   "source": [
    "# The Shortest Path Problem \n",
    "\n",
    "### Objectives\n",
    " - Introduce the shortest path problem\n",
    " - Show students the inner workings of a combinatorial algorithm\n",
    " - Demonstrate the usefulness of sensitivity analysis in problem solving\n",
    " \n",
    "### Brief description\n",
    "In this lab, we review some motivation and observations behind Dijkstra’s algorithm for shortest path computation, and analyze how sensitive the solution to the shortest path problem is to changes in the input data."
   ]
  },
  {
   "cell_type": "markdown",
   "metadata": {},
   "source": [
    "## Part 0: Load the necessary packages\n",
    "\n",
    "This lab should run by simply downloading the lab folder and opening the jupyter notebook. If you have not installed the packages below an error will appear."
   ]
  },
  {
   "cell_type": "code",
   "execution_count": 1,
   "metadata": {},
   "outputs": [
    {
     "data": {
      "text/html": [
       "\n",
       "    <div class=\"bk-root\">\n",
       "        <a href=\"https://bokeh.org\" target=\"_blank\" class=\"bk-logo bk-logo-small bk-logo-notebook\"></a>\n",
       "        <span id=\"1001\">Loading BokehJS ...</span>\n",
       "    </div>"
      ]
     },
     "metadata": {},
     "output_type": "display_data"
    },
    {
     "data": {
      "application/javascript": [
       "\n",
       "(function(root) {\n",
       "  function now() {\n",
       "    return new Date();\n",
       "  }\n",
       "\n",
       "  var force = true;\n",
       "\n",
       "  if (typeof root._bokeh_onload_callbacks === \"undefined\" || force === true) {\n",
       "    root._bokeh_onload_callbacks = [];\n",
       "    root._bokeh_is_loading = undefined;\n",
       "  }\n",
       "\n",
       "  var JS_MIME_TYPE = 'application/javascript';\n",
       "  var HTML_MIME_TYPE = 'text/html';\n",
       "  var EXEC_MIME_TYPE = 'application/vnd.bokehjs_exec.v0+json';\n",
       "  var CLASS_NAME = 'output_bokeh rendered_html';\n",
       "\n",
       "  /**\n",
       "   * Render data to the DOM node\n",
       "   */\n",
       "  function render(props, node) {\n",
       "    var script = document.createElement(\"script\");\n",
       "    node.appendChild(script);\n",
       "  }\n",
       "\n",
       "  /**\n",
       "   * Handle when an output is cleared or removed\n",
       "   */\n",
       "  function handleClearOutput(event, handle) {\n",
       "    var cell = handle.cell;\n",
       "\n",
       "    var id = cell.output_area._bokeh_element_id;\n",
       "    var server_id = cell.output_area._bokeh_server_id;\n",
       "    // Clean up Bokeh references\n",
       "    if (id != null && id in Bokeh.index) {\n",
       "      Bokeh.index[id].model.document.clear();\n",
       "      delete Bokeh.index[id];\n",
       "    }\n",
       "\n",
       "    if (server_id !== undefined) {\n",
       "      // Clean up Bokeh references\n",
       "      var cmd = \"from bokeh.io.state import curstate; print(curstate().uuid_to_server['\" + server_id + \"'].get_sessions()[0].document.roots[0]._id)\";\n",
       "      cell.notebook.kernel.execute(cmd, {\n",
       "        iopub: {\n",
       "          output: function(msg) {\n",
       "            var id = msg.content.text.trim();\n",
       "            if (id in Bokeh.index) {\n",
       "              Bokeh.index[id].model.document.clear();\n",
       "              delete Bokeh.index[id];\n",
       "            }\n",
       "          }\n",
       "        }\n",
       "      });\n",
       "      // Destroy server and session\n",
       "      var cmd = \"import bokeh.io.notebook as ion; ion.destroy_server('\" + server_id + \"')\";\n",
       "      cell.notebook.kernel.execute(cmd);\n",
       "    }\n",
       "  }\n",
       "\n",
       "  /**\n",
       "   * Handle when a new output is added\n",
       "   */\n",
       "  function handleAddOutput(event, handle) {\n",
       "    var output_area = handle.output_area;\n",
       "    var output = handle.output;\n",
       "\n",
       "    // limit handleAddOutput to display_data with EXEC_MIME_TYPE content only\n",
       "    if ((output.output_type != \"display_data\") || (!output.data.hasOwnProperty(EXEC_MIME_TYPE))) {\n",
       "      return\n",
       "    }\n",
       "\n",
       "    var toinsert = output_area.element.find(\".\" + CLASS_NAME.split(' ')[0]);\n",
       "\n",
       "    if (output.metadata[EXEC_MIME_TYPE][\"id\"] !== undefined) {\n",
       "      toinsert[toinsert.length - 1].firstChild.textContent = output.data[JS_MIME_TYPE];\n",
       "      // store reference to embed id on output_area\n",
       "      output_area._bokeh_element_id = output.metadata[EXEC_MIME_TYPE][\"id\"];\n",
       "    }\n",
       "    if (output.metadata[EXEC_MIME_TYPE][\"server_id\"] !== undefined) {\n",
       "      var bk_div = document.createElement(\"div\");\n",
       "      bk_div.innerHTML = output.data[HTML_MIME_TYPE];\n",
       "      var script_attrs = bk_div.children[0].attributes;\n",
       "      for (var i = 0; i < script_attrs.length; i++) {\n",
       "        toinsert[toinsert.length - 1].firstChild.setAttribute(script_attrs[i].name, script_attrs[i].value);\n",
       "        toinsert[toinsert.length - 1].firstChild.textContent = bk_div.children[0].textContent\n",
       "      }\n",
       "      // store reference to server id on output_area\n",
       "      output_area._bokeh_server_id = output.metadata[EXEC_MIME_TYPE][\"server_id\"];\n",
       "    }\n",
       "  }\n",
       "\n",
       "  function register_renderer(events, OutputArea) {\n",
       "\n",
       "    function append_mime(data, metadata, element) {\n",
       "      // create a DOM node to render to\n",
       "      var toinsert = this.create_output_subarea(\n",
       "        metadata,\n",
       "        CLASS_NAME,\n",
       "        EXEC_MIME_TYPE\n",
       "      );\n",
       "      this.keyboard_manager.register_events(toinsert);\n",
       "      // Render to node\n",
       "      var props = {data: data, metadata: metadata[EXEC_MIME_TYPE]};\n",
       "      render(props, toinsert[toinsert.length - 1]);\n",
       "      element.append(toinsert);\n",
       "      return toinsert\n",
       "    }\n",
       "\n",
       "    /* Handle when an output is cleared or removed */\n",
       "    events.on('clear_output.CodeCell', handleClearOutput);\n",
       "    events.on('delete.Cell', handleClearOutput);\n",
       "\n",
       "    /* Handle when a new output is added */\n",
       "    events.on('output_added.OutputArea', handleAddOutput);\n",
       "\n",
       "    /**\n",
       "     * Register the mime type and append_mime function with output_area\n",
       "     */\n",
       "    OutputArea.prototype.register_mime_type(EXEC_MIME_TYPE, append_mime, {\n",
       "      /* Is output safe? */\n",
       "      safe: true,\n",
       "      /* Index of renderer in `output_area.display_order` */\n",
       "      index: 0\n",
       "    });\n",
       "  }\n",
       "\n",
       "  // register the mime type if in Jupyter Notebook environment and previously unregistered\n",
       "  if (root.Jupyter !== undefined) {\n",
       "    var events = require('base/js/events');\n",
       "    var OutputArea = require('notebook/js/outputarea').OutputArea;\n",
       "\n",
       "    if (OutputArea.prototype.mime_types().indexOf(EXEC_MIME_TYPE) == -1) {\n",
       "      register_renderer(events, OutputArea);\n",
       "    }\n",
       "  }\n",
       "\n",
       "  \n",
       "  if (typeof (root._bokeh_timeout) === \"undefined\" || force === true) {\n",
       "    root._bokeh_timeout = Date.now() + 5000;\n",
       "    root._bokeh_failed_load = false;\n",
       "  }\n",
       "\n",
       "  var NB_LOAD_WARNING = {'data': {'text/html':\n",
       "     \"<div style='background-color: #fdd'>\\n\"+\n",
       "     \"<p>\\n\"+\n",
       "     \"BokehJS does not appear to have successfully loaded. If loading BokehJS from CDN, this \\n\"+\n",
       "     \"may be due to a slow or bad network connection. Possible fixes:\\n\"+\n",
       "     \"</p>\\n\"+\n",
       "     \"<ul>\\n\"+\n",
       "     \"<li>re-rerun `output_notebook()` to attempt to load from CDN again, or</li>\\n\"+\n",
       "     \"<li>use INLINE resources instead, as so:</li>\\n\"+\n",
       "     \"</ul>\\n\"+\n",
       "     \"<code>\\n\"+\n",
       "     \"from bokeh.resources import INLINE\\n\"+\n",
       "     \"output_notebook(resources=INLINE)\\n\"+\n",
       "     \"</code>\\n\"+\n",
       "     \"</div>\"}};\n",
       "\n",
       "  function display_loaded() {\n",
       "    var el = document.getElementById(\"1001\");\n",
       "    if (el != null) {\n",
       "      el.textContent = \"BokehJS is loading...\";\n",
       "    }\n",
       "    if (root.Bokeh !== undefined) {\n",
       "      if (el != null) {\n",
       "        el.textContent = \"BokehJS \" + root.Bokeh.version + \" successfully loaded.\";\n",
       "      }\n",
       "    } else if (Date.now() < root._bokeh_timeout) {\n",
       "      setTimeout(display_loaded, 100)\n",
       "    }\n",
       "  }\n",
       "\n",
       "\n",
       "  function run_callbacks() {\n",
       "    try {\n",
       "      root._bokeh_onload_callbacks.forEach(function(callback) {\n",
       "        if (callback != null)\n",
       "          callback();\n",
       "      });\n",
       "    } finally {\n",
       "      delete root._bokeh_onload_callbacks\n",
       "    }\n",
       "    console.debug(\"Bokeh: all callbacks have finished\");\n",
       "  }\n",
       "\n",
       "  function load_libs(css_urls, js_urls, callback) {\n",
       "    if (css_urls == null) css_urls = [];\n",
       "    if (js_urls == null) js_urls = [];\n",
       "\n",
       "    root._bokeh_onload_callbacks.push(callback);\n",
       "    if (root._bokeh_is_loading > 0) {\n",
       "      console.debug(\"Bokeh: BokehJS is being loaded, scheduling callback at\", now());\n",
       "      return null;\n",
       "    }\n",
       "    if (js_urls == null || js_urls.length === 0) {\n",
       "      run_callbacks();\n",
       "      return null;\n",
       "    }\n",
       "    console.debug(\"Bokeh: BokehJS not loaded, scheduling load and callback at\", now());\n",
       "    root._bokeh_is_loading = css_urls.length + js_urls.length;\n",
       "\n",
       "    function on_load() {\n",
       "      root._bokeh_is_loading--;\n",
       "      if (root._bokeh_is_loading === 0) {\n",
       "        console.debug(\"Bokeh: all BokehJS libraries/stylesheets loaded\");\n",
       "        run_callbacks()\n",
       "      }\n",
       "    }\n",
       "\n",
       "    function on_error() {\n",
       "      console.error(\"failed to load \" + url);\n",
       "    }\n",
       "\n",
       "    for (var i = 0; i < css_urls.length; i++) {\n",
       "      var url = css_urls[i];\n",
       "      const element = document.createElement(\"link\");\n",
       "      element.onload = on_load;\n",
       "      element.onerror = on_error;\n",
       "      element.rel = \"stylesheet\";\n",
       "      element.type = \"text/css\";\n",
       "      element.href = url;\n",
       "      console.debug(\"Bokeh: injecting link tag for BokehJS stylesheet: \", url);\n",
       "      document.body.appendChild(element);\n",
       "    }\n",
       "\n",
       "    const hashes = {\"https://cdn.bokeh.org/bokeh/release/bokeh-2.2.0.min.js\": \"jtq3UzIrk2TfDZfSNGEN0ICKrRWmtzZSQm6i1Xnd3hY3UfU9m98vuEL7JUv7Iway\", \"https://cdn.bokeh.org/bokeh/release/bokeh-widgets-2.2.0.min.js\": \"rRlSZb4FImflqQNhKcvkZq8b+FqcNFxP9CmCO8Vgo9uNXe6wk6yNMlKMrXn+TjeM\", \"https://cdn.bokeh.org/bokeh/release/bokeh-tables-2.2.0.min.js\": \"MJyUmyL5f4wPlABPEp4CF5HzMeAPMvzucE8gEGNH15tAWgHFb2hsPNIEkva89XtP\"};\n",
       "\n",
       "    for (var i = 0; i < js_urls.length; i++) {\n",
       "      var url = js_urls[i];\n",
       "      var element = document.createElement('script');\n",
       "      element.onload = on_load;\n",
       "      element.onerror = on_error;\n",
       "      element.async = false;\n",
       "      element.src = url;\n",
       "      if (url in hashes) {\n",
       "        element.crossOrigin = \"anonymous\";\n",
       "        element.integrity = \"sha384-\" + hashes[url];\n",
       "      }\n",
       "      console.debug(\"Bokeh: injecting script tag for BokehJS library: \", url);\n",
       "      document.head.appendChild(element);\n",
       "    }\n",
       "  };\n",
       "\n",
       "  function inject_raw_css(css) {\n",
       "    const element = document.createElement(\"style\");\n",
       "    element.appendChild(document.createTextNode(css));\n",
       "    document.body.appendChild(element);\n",
       "  }\n",
       "\n",
       "  \n",
       "  var js_urls = [\"https://cdn.bokeh.org/bokeh/release/bokeh-2.2.0.min.js\", \"https://cdn.bokeh.org/bokeh/release/bokeh-widgets-2.2.0.min.js\", \"https://cdn.bokeh.org/bokeh/release/bokeh-tables-2.2.0.min.js\"];\n",
       "  var css_urls = [];\n",
       "  \n",
       "\n",
       "  var inline_js = [\n",
       "    function(Bokeh) {\n",
       "      Bokeh.set_log_level(\"info\");\n",
       "    },\n",
       "    function(Bokeh) {\n",
       "    \n",
       "    \n",
       "    }\n",
       "  ];\n",
       "\n",
       "  function run_inline_js() {\n",
       "    \n",
       "    if (root.Bokeh !== undefined || force === true) {\n",
       "      \n",
       "    for (var i = 0; i < inline_js.length; i++) {\n",
       "      inline_js[i].call(root, root.Bokeh);\n",
       "    }\n",
       "    if (force === true) {\n",
       "        display_loaded();\n",
       "      }} else if (Date.now() < root._bokeh_timeout) {\n",
       "      setTimeout(run_inline_js, 100);\n",
       "    } else if (!root._bokeh_failed_load) {\n",
       "      console.log(\"Bokeh: BokehJS failed to load within specified timeout.\");\n",
       "      root._bokeh_failed_load = true;\n",
       "    } else if (force !== true) {\n",
       "      var cell = $(document.getElementById(\"1001\")).parents('.cell').data().cell;\n",
       "      cell.output_area.append_execute_result(NB_LOAD_WARNING)\n",
       "    }\n",
       "\n",
       "  }\n",
       "\n",
       "  if (root._bokeh_is_loading === 0) {\n",
       "    console.debug(\"Bokeh: BokehJS loaded, going straight to plotting\");\n",
       "    run_inline_js();\n",
       "  } else {\n",
       "    load_libs(css_urls, js_urls, function() {\n",
       "      console.debug(\"Bokeh: BokehJS plotting callback run at\", now());\n",
       "      run_inline_js();\n",
       "    });\n",
       "  }\n",
       "}(window));"
      ],
      "application/vnd.bokehjs_load.v0+json": "\n(function(root) {\n  function now() {\n    return new Date();\n  }\n\n  var force = true;\n\n  if (typeof root._bokeh_onload_callbacks === \"undefined\" || force === true) {\n    root._bokeh_onload_callbacks = [];\n    root._bokeh_is_loading = undefined;\n  }\n\n  \n\n  \n  if (typeof (root._bokeh_timeout) === \"undefined\" || force === true) {\n    root._bokeh_timeout = Date.now() + 5000;\n    root._bokeh_failed_load = false;\n  }\n\n  var NB_LOAD_WARNING = {'data': {'text/html':\n     \"<div style='background-color: #fdd'>\\n\"+\n     \"<p>\\n\"+\n     \"BokehJS does not appear to have successfully loaded. If loading BokehJS from CDN, this \\n\"+\n     \"may be due to a slow or bad network connection. Possible fixes:\\n\"+\n     \"</p>\\n\"+\n     \"<ul>\\n\"+\n     \"<li>re-rerun `output_notebook()` to attempt to load from CDN again, or</li>\\n\"+\n     \"<li>use INLINE resources instead, as so:</li>\\n\"+\n     \"</ul>\\n\"+\n     \"<code>\\n\"+\n     \"from bokeh.resources import INLINE\\n\"+\n     \"output_notebook(resources=INLINE)\\n\"+\n     \"</code>\\n\"+\n     \"</div>\"}};\n\n  function display_loaded() {\n    var el = document.getElementById(\"1001\");\n    if (el != null) {\n      el.textContent = \"BokehJS is loading...\";\n    }\n    if (root.Bokeh !== undefined) {\n      if (el != null) {\n        el.textContent = \"BokehJS \" + root.Bokeh.version + \" successfully loaded.\";\n      }\n    } else if (Date.now() < root._bokeh_timeout) {\n      setTimeout(display_loaded, 100)\n    }\n  }\n\n\n  function run_callbacks() {\n    try {\n      root._bokeh_onload_callbacks.forEach(function(callback) {\n        if (callback != null)\n          callback();\n      });\n    } finally {\n      delete root._bokeh_onload_callbacks\n    }\n    console.debug(\"Bokeh: all callbacks have finished\");\n  }\n\n  function load_libs(css_urls, js_urls, callback) {\n    if (css_urls == null) css_urls = [];\n    if (js_urls == null) js_urls = [];\n\n    root._bokeh_onload_callbacks.push(callback);\n    if (root._bokeh_is_loading > 0) {\n      console.debug(\"Bokeh: BokehJS is being loaded, scheduling callback at\", now());\n      return null;\n    }\n    if (js_urls == null || js_urls.length === 0) {\n      run_callbacks();\n      return null;\n    }\n    console.debug(\"Bokeh: BokehJS not loaded, scheduling load and callback at\", now());\n    root._bokeh_is_loading = css_urls.length + js_urls.length;\n\n    function on_load() {\n      root._bokeh_is_loading--;\n      if (root._bokeh_is_loading === 0) {\n        console.debug(\"Bokeh: all BokehJS libraries/stylesheets loaded\");\n        run_callbacks()\n      }\n    }\n\n    function on_error() {\n      console.error(\"failed to load \" + url);\n    }\n\n    for (var i = 0; i < css_urls.length; i++) {\n      var url = css_urls[i];\n      const element = document.createElement(\"link\");\n      element.onload = on_load;\n      element.onerror = on_error;\n      element.rel = \"stylesheet\";\n      element.type = \"text/css\";\n      element.href = url;\n      console.debug(\"Bokeh: injecting link tag for BokehJS stylesheet: \", url);\n      document.body.appendChild(element);\n    }\n\n    const hashes = {\"https://cdn.bokeh.org/bokeh/release/bokeh-2.2.0.min.js\": \"jtq3UzIrk2TfDZfSNGEN0ICKrRWmtzZSQm6i1Xnd3hY3UfU9m98vuEL7JUv7Iway\", \"https://cdn.bokeh.org/bokeh/release/bokeh-widgets-2.2.0.min.js\": \"rRlSZb4FImflqQNhKcvkZq8b+FqcNFxP9CmCO8Vgo9uNXe6wk6yNMlKMrXn+TjeM\", \"https://cdn.bokeh.org/bokeh/release/bokeh-tables-2.2.0.min.js\": \"MJyUmyL5f4wPlABPEp4CF5HzMeAPMvzucE8gEGNH15tAWgHFb2hsPNIEkva89XtP\"};\n\n    for (var i = 0; i < js_urls.length; i++) {\n      var url = js_urls[i];\n      var element = document.createElement('script');\n      element.onload = on_load;\n      element.onerror = on_error;\n      element.async = false;\n      element.src = url;\n      if (url in hashes) {\n        element.crossOrigin = \"anonymous\";\n        element.integrity = \"sha384-\" + hashes[url];\n      }\n      console.debug(\"Bokeh: injecting script tag for BokehJS library: \", url);\n      document.head.appendChild(element);\n    }\n  };\n\n  function inject_raw_css(css) {\n    const element = document.createElement(\"style\");\n    element.appendChild(document.createTextNode(css));\n    document.body.appendChild(element);\n  }\n\n  \n  var js_urls = [\"https://cdn.bokeh.org/bokeh/release/bokeh-2.2.0.min.js\", \"https://cdn.bokeh.org/bokeh/release/bokeh-widgets-2.2.0.min.js\", \"https://cdn.bokeh.org/bokeh/release/bokeh-tables-2.2.0.min.js\"];\n  var css_urls = [];\n  \n\n  var inline_js = [\n    function(Bokeh) {\n      Bokeh.set_log_level(\"info\");\n    },\n    function(Bokeh) {\n    \n    \n    }\n  ];\n\n  function run_inline_js() {\n    \n    if (root.Bokeh !== undefined || force === true) {\n      \n    for (var i = 0; i < inline_js.length; i++) {\n      inline_js[i].call(root, root.Bokeh);\n    }\n    if (force === true) {\n        display_loaded();\n      }} else if (Date.now() < root._bokeh_timeout) {\n      setTimeout(run_inline_js, 100);\n    } else if (!root._bokeh_failed_load) {\n      console.log(\"Bokeh: BokehJS failed to load within specified timeout.\");\n      root._bokeh_failed_load = true;\n    } else if (force !== true) {\n      var cell = $(document.getElementById(\"1001\")).parents('.cell').data().cell;\n      cell.output_area.append_execute_result(NB_LOAD_WARNING)\n    }\n\n  }\n\n  if (root._bokeh_is_loading === 0) {\n    console.debug(\"Bokeh: BokehJS loaded, going straight to plotting\");\n    run_inline_js();\n  } else {\n    load_libs(css_urls, js_urls, function() {\n      console.debug(\"Bokeh: BokehJS plotting callback run at\", now());\n      run_inline_js();\n    });\n  }\n}(window));"
     },
     "metadata": {},
     "output_type": "display_data"
    }
   ],
   "source": [
    "import pandas as pd\n",
    "import numpy as np\n",
    "import math\n",
    "import itertools\n",
    "import networkx as nx\n",
    "from bokeh.io import output_notebook\n",
    "output_notebook()"
   ]
  },
  {
   "cell_type": "markdown",
   "metadata": {},
   "source": [
    "#  Part 1: The shortest path problem and Dijkstra’s algorithm"
   ]
  },
  {
   "cell_type": "markdown",
   "metadata": {},
   "source": [
    "You are a pizza delivery person for Good Pizza, Inc. Good Pizza is located on Cornell’s campus and guarantees delivery in 30 minutes or less anywhere in Tompkins County. In order to maximize the amount of your tips, you want to deliver as many pizzas as you can and deliver them as fast as you can. Therefore, you would like to know the quickest way of getting from the pizza shop to various parts of Tompkins County. Because of speed limits and various geographical obstacles (of which there are many in Tompkins County), it is not always best to take the route that covers the shortest distance. For instance, to get to Groton from the Northeast, it is quicker to go through Freeville than to try to go straight to Groton because Route 38 goes directly from Freeville to Groton and has a speed limit of 55 mph.\n",
    "To help you in finding the quickest routes, you have the attached map which contains approximate travel times for going directly from one location to another by the shortest distance route. The approxiamte travel time is called the $\\texttt{cost}$."
   ]
  },
  {
   "cell_type": "markdown",
   "metadata": {},
   "source": [
    "You can view the graph by first loading the files $\\texttt{tompkins_nodes.csv}$ and $\\texttt{tompkins_links.csv}$ from the $\\texttt{data}$ folder. The data is kept in pandas dataframes. To view the data as tables, run the cells belows."
   ]
  },
  {
   "cell_type": "code",
   "execution_count": 2,
   "metadata": {},
   "outputs": [
    {
     "name": "stdout",
     "output_type": "stream",
     "text": [
      "Loaded 18 nodes and 42 edges.\n"
     ]
    }
   ],
   "source": [
    "# load nodes\n",
    "data = pd.read_csv('data/tompkins_nodes.csv')\n",
    "dfn = pd.DataFrame(data)\n",
    "# load links\n",
    "data = pd.read_csv('data/tompkins_links.csv')\n",
    "dfl = pd.DataFrame(data)\n",
    "\n",
    "print('Loaded %d nodes and %d edges.' % (dfn.shape[0], dfl.shape[0]))"
   ]
  },
  {
   "cell_type": "code",
   "execution_count": 3,
   "metadata": {},
   "outputs": [
    {
     "data": {
      "text/html": [
       "<div>\n",
       "<style scoped>\n",
       "    .dataframe tbody tr th:only-of-type {\n",
       "        vertical-align: middle;\n",
       "    }\n",
       "\n",
       "    .dataframe tbody tr th {\n",
       "        vertical-align: top;\n",
       "    }\n",
       "\n",
       "    .dataframe thead th {\n",
       "        text-align: right;\n",
       "    }\n",
       "</style>\n",
       "<table border=\"1\" class=\"dataframe\">\n",
       "  <thead>\n",
       "    <tr style=\"text-align: right;\">\n",
       "      <th></th>\n",
       "      <th>name</th>\n",
       "      <th>lat</th>\n",
       "      <th>lon</th>\n",
       "      <th>x</th>\n",
       "      <th>y</th>\n",
       "    </tr>\n",
       "  </thead>\n",
       "  <tbody>\n",
       "    <tr>\n",
       "      <th>0</th>\n",
       "      <td>Trumansburg</td>\n",
       "      <td>42.540556</td>\n",
       "      <td>-76.660000</td>\n",
       "      <td>0</td>\n",
       "      <td>8</td>\n",
       "    </tr>\n",
       "    <tr>\n",
       "      <th>1</th>\n",
       "      <td>Enfield</td>\n",
       "      <td>42.435278</td>\n",
       "      <td>-76.626667</td>\n",
       "      <td>2</td>\n",
       "      <td>5</td>\n",
       "    </tr>\n",
       "    <tr>\n",
       "      <th>2</th>\n",
       "      <td>Newfield</td>\n",
       "      <td>42.354444</td>\n",
       "      <td>-76.600278</td>\n",
       "      <td>4</td>\n",
       "      <td>2</td>\n",
       "    </tr>\n",
       "    <tr>\n",
       "      <th>3</th>\n",
       "      <td>West Hill</td>\n",
       "      <td>42.466523</td>\n",
       "      <td>-76.539525</td>\n",
       "      <td>8</td>\n",
       "      <td>6</td>\n",
       "    </tr>\n",
       "    <tr>\n",
       "      <th>4</th>\n",
       "      <td>Cayuga Heights</td>\n",
       "      <td>42.466389</td>\n",
       "      <td>-76.486111</td>\n",
       "      <td>12</td>\n",
       "      <td>7</td>\n",
       "    </tr>\n",
       "  </tbody>\n",
       "</table>\n",
       "</div>"
      ],
      "text/plain": [
       "             name        lat        lon   x  y\n",
       "0     Trumansburg  42.540556 -76.660000   0  8\n",
       "1         Enfield  42.435278 -76.626667   2  5\n",
       "2        Newfield  42.354444 -76.600278   4  2\n",
       "3       West Hill  42.466523 -76.539525   8  6\n",
       "4  Cayuga Heights  42.466389 -76.486111  12  7"
      ]
     },
     "execution_count": 3,
     "metadata": {},
     "output_type": "execute_result"
    }
   ],
   "source": [
    "dfn.head() # inspect the nodes"
   ]
  },
  {
   "cell_type": "code",
   "execution_count": 4,
   "metadata": {},
   "outputs": [
    {
     "data": {
      "text/html": [
       "<div>\n",
       "<style scoped>\n",
       "    .dataframe tbody tr th:only-of-type {\n",
       "        vertical-align: middle;\n",
       "    }\n",
       "\n",
       "    .dataframe tbody tr th {\n",
       "        vertical-align: top;\n",
       "    }\n",
       "\n",
       "    .dataframe thead th {\n",
       "        text-align: right;\n",
       "    }\n",
       "</style>\n",
       "<table border=\"1\" class=\"dataframe\">\n",
       "  <thead>\n",
       "    <tr style=\"text-align: right;\">\n",
       "      <th></th>\n",
       "      <th>start</th>\n",
       "      <th>end</th>\n",
       "      <th>cost</th>\n",
       "    </tr>\n",
       "  </thead>\n",
       "  <tbody>\n",
       "    <tr>\n",
       "      <th>0</th>\n",
       "      <td>Trumansburg</td>\n",
       "      <td>Enfield</td>\n",
       "      <td>25</td>\n",
       "    </tr>\n",
       "    <tr>\n",
       "      <th>1</th>\n",
       "      <td>Trumansburg</td>\n",
       "      <td>West Hill</td>\n",
       "      <td>20</td>\n",
       "    </tr>\n",
       "    <tr>\n",
       "      <th>2</th>\n",
       "      <td>Enfield</td>\n",
       "      <td>West Hill</td>\n",
       "      <td>9</td>\n",
       "    </tr>\n",
       "    <tr>\n",
       "      <th>3</th>\n",
       "      <td>Enfield</td>\n",
       "      <td>Newfield</td>\n",
       "      <td>10</td>\n",
       "    </tr>\n",
       "    <tr>\n",
       "      <th>4</th>\n",
       "      <td>Newfield</td>\n",
       "      <td>West Hill</td>\n",
       "      <td>10</td>\n",
       "    </tr>\n",
       "  </tbody>\n",
       "</table>\n",
       "</div>"
      ],
      "text/plain": [
       "         start        end  cost\n",
       "0  Trumansburg    Enfield    25\n",
       "1  Trumansburg  West Hill    20\n",
       "2      Enfield  West Hill     9\n",
       "3      Enfield   Newfield    10\n",
       "4     Newfield  West Hill    10"
      ]
     },
     "execution_count": 4,
     "metadata": {},
     "output_type": "execute_result"
    }
   ],
   "source": [
    "dfl.head() # instect the edges"
   ]
  },
  {
   "cell_type": "markdown",
   "metadata": {},
   "source": [
    "To get a better feel for the graph, you should plot it. Running the cell below generates an interactive plot. You can view the edges and associated costs by mousing over edges. Clicking a node lets you highlight all edges associated with it. Plot the graph and familiarize yourself with the nodes and edges."
   ]
  },
  {
   "cell_type": "code",
   "execution_count": 5,
   "metadata": {
    "scrolled": false
   },
   "outputs": [
    {
     "data": {
      "text/html": [
       "\n",
       "\n",
       "\n",
       "\n",
       "\n",
       "\n",
       "  <div class=\"bk-root\" id=\"fb5b9d3b-3e35-4f76-83e8-f63224e62f8a\" data-root-id=\"1002\"></div>\n"
      ]
     },
     "metadata": {},
     "output_type": "display_data"
    },
    {
     "data": {
      "application/javascript": [
       "(function(root) {\n",
       "  function embed_document(root) {\n",
       "    \n",
       "  var docs_json = {\"9ccd1406-e10d-480d-a3d1-288ccf260de1\":{\"roots\":{\"references\":[{\"attributes\":{\"below\":[{\"id\":\"1013\"}],\"center\":[{\"id\":\"1016\"},{\"id\":\"1020\"},{\"id\":\"1084\"}],\"left\":[{\"id\":\"1017\"}],\"plot_height\":420,\"plot_width\":800,\"renderers\":[{\"id\":\"1035\"}],\"title\":{\"id\":\"1003\"},\"toolbar\":{\"id\":\"1028\"},\"x_range\":{\"id\":\"1005\"},\"x_scale\":{\"id\":\"1009\"},\"y_range\":{\"id\":\"1007\"},\"y_scale\":{\"id\":\"1011\"}},\"id\":\"1002\",\"subtype\":\"Figure\",\"type\":\"Plot\"},{\"attributes\":{},\"id\":\"1021\",\"type\":\"PanTool\"},{\"attributes\":{\"text\":\"A simple graph of Tomkins County\"},\"id\":\"1003\",\"type\":\"Title\"},{\"attributes\":{\"data\":{\"cost\":[25,20,9,10,10,15,15,18,17,7,7,5,6,5,12,5,15,12,10,5,10,6,6,14,18,15,16,4,25,5,6,10,10,17,7,8,10,8,10,9,21,4],\"end\":[\"Enfield\",\"West Hill\",\"West Hill\",\"Newfield\",\"West Hill\",\"The Commons\",\"East Hill\",\"Danby\",\"Danby\",\"The Commons\",\"Cayuga Heights\",\"Campus\",\"East Hill\",\"Lansing\",\"Northeast\",\"Fall Creek\",\"Fall Creek\",\"Groton\",\"Freeville\",\"Northeast\",\"Fall Creek\",\"Campus\",\"Danby\",\"Campus\",\"Varna\",\"Slaterville\",\"Caroline\",\"Slaterville\",\"Dryden\",\"Varna\",\"Slaterville\",\"Northeast\",\"Fall Creek\",\"Groton\",\"Freeville\",\"Dryden\",\"Varna\",\"Freeville\",\"Dryden\",\"Slaterville\",\"Dryden\",\"Caroline\"],\"start\":[\"Trumansburg\",\"Trumansburg\",\"Enfield\",\"Enfield\",\"Newfield\",\"Newfield\",\"Newfield\",\"Newfield\",\"West Hill\",\"West Hill\",\"The Commons\",\"The Commons\",\"The Commons\",\"Cayuga Heights\",\"Cayuga Heights\",\"Cayuga Heights\",\"Lansing\",\"Lansing\",\"Lansing\",\"Lansing\",\"East Hill\",\"East Hill\",\"East Hill\",\"Danby\",\"Danby\",\"Danby\",\"Danby\",\"Caroline\",\"Caroline\",\"Campus\",\"Campus\",\"Campus\",\"Campus\",\"Northeast\",\"Northeast\",\"Northeast\",\"Northeast\",\"Varna\",\"Varna\",\"Varna\",\"Slaterville\",\"Slaterville\"]},\"selected\":{\"id\":\"1103\"},\"selection_policy\":{\"id\":\"1102\"}},\"id\":\"1060\",\"type\":\"ColumnDataSource\"},{\"attributes\":{},\"id\":\"1022\",\"type\":\"WheelZoomTool\"},{\"attributes\":{},\"id\":\"1088\",\"type\":\"BasicTickFormatter\"},{\"attributes\":{\"data_source\":{\"id\":\"1060\"},\"glyph\":{\"id\":\"1063\"},\"hover_glyph\":{\"id\":\"1068\"},\"muted_glyph\":null,\"selection_glyph\":{\"id\":\"1073\"},\"view\":{\"id\":\"1062\"}},\"id\":\"1061\",\"type\":\"GlyphRenderer\"},{\"attributes\":{\"end\":21,\"start\":-1},\"id\":\"1005\",\"type\":\"Range1d\"},{\"attributes\":{\"overlay\":{\"id\":\"1027\"}},\"id\":\"1023\",\"type\":\"BoxZoomTool\"},{\"attributes\":{},\"id\":\"1090\",\"type\":\"BasicTickFormatter\"},{\"attributes\":{\"source\":{\"id\":\"1060\"}},\"id\":\"1062\",\"type\":\"CDSView\"},{\"attributes\":{},\"id\":\"1024\",\"type\":\"SaveTool\"},{\"attributes\":{},\"id\":\"1099\",\"type\":\"UnionRenderers\"},{\"attributes\":{\"line_color\":{\"value\":\"steelblue\"},\"line_width\":{\"value\":5}},\"id\":\"1063\",\"type\":\"MultiLine\"},{\"attributes\":{},\"id\":\"1025\",\"type\":\"ResetTool\"},{\"attributes\":{\"end\":10,\"start\":-1},\"id\":\"1007\",\"type\":\"Range1d\"},{\"attributes\":{},\"id\":\"1026\",\"type\":\"HelpTool\"},{\"attributes\":{},\"id\":\"1009\",\"type\":\"LinearScale\"},{\"attributes\":{},\"id\":\"1011\",\"type\":\"LinearScale\"},{\"attributes\":{},\"id\":\"1103\",\"type\":\"Selection\"},{\"attributes\":{\"line_color\":{\"value\":\"lightgreen\"},\"line_width\":{\"value\":5}},\"id\":\"1068\",\"type\":\"MultiLine\"},{\"attributes\":{\"formatter\":{\"id\":\"1088\"},\"ticker\":{\"id\":\"1014\"}},\"id\":\"1013\",\"type\":\"LinearAxis\"},{\"attributes\":{\"fill_color\":{\"value\":\"lightblue\"},\"line_color\":{\"value\":\"steelblue\"},\"line_width\":{\"value\":2},\"size\":{\"units\":\"screen\",\"value\":10}},\"id\":\"1044\",\"type\":\"Circle\"},{\"attributes\":{},\"id\":\"1102\",\"type\":\"UnionRenderers\"},{\"attributes\":{},\"id\":\"1018\",\"type\":\"BasicTicker\"},{\"attributes\":{\"graph_layout\":{\"Campus\":[12,6],\"Caroline\":[20,1],\"Cayuga Heights\":[12,7],\"Danby\":[12,0],\"Dryden\":[19,6],\"East Hill\":[13,4],\"Enfield\":[2,5],\"Fall Creek\":[10,6],\"Freeville\":[19,7],\"Groton\":[18,9],\"Lansing\":[14,8],\"Newfield\":[4,2],\"Northeast\":[14,7],\"Slaterville\":[18,2],\"The Commons\":[10,4],\"Trumansburg\":[0,8],\"Varna\":[17,6],\"West Hill\":[8,6]}},\"id\":\"1078\",\"type\":\"StaticLayoutProvider\"},{\"attributes\":{},\"id\":\"1014\",\"type\":\"BasicTicker\"},{\"attributes\":{},\"id\":\"1100\",\"type\":\"Selection\"},{\"attributes\":{\"axis\":{\"id\":\"1013\"},\"ticker\":null},\"id\":\"1016\",\"type\":\"Grid\"},{\"attributes\":{\"line_color\":{\"value\":\"orange\"},\"line_width\":{\"value\":5}},\"id\":\"1073\",\"type\":\"MultiLine\"},{\"attributes\":{\"data_source\":{\"id\":\"1041\"},\"glyph\":{\"id\":\"1044\"},\"hover_glyph\":{\"id\":\"1049\"},\"muted_glyph\":null,\"selection_glyph\":{\"id\":\"1054\"},\"view\":{\"id\":\"1043\"}},\"id\":\"1042\",\"type\":\"GlyphRenderer\"},{\"attributes\":{\"axis\":{\"id\":\"1017\"},\"dimension\":1,\"ticker\":null},\"id\":\"1020\",\"type\":\"Grid\"},{\"attributes\":{\"formatter\":{\"id\":\"1090\"},\"ticker\":{\"id\":\"1018\"}},\"id\":\"1017\",\"type\":\"LinearAxis\"},{\"attributes\":{},\"id\":\"1079\",\"type\":\"EdgesAndLinkedNodes\"},{\"attributes\":{\"source\":{\"id\":\"1041\"}},\"id\":\"1043\",\"type\":\"CDSView\"},{\"attributes\":{\"fill_color\":{\"value\":\"yellow\"},\"line_color\":{\"value\":\"orange\"},\"line_width\":{\"value\":2},\"size\":{\"units\":\"screen\",\"value\":10}},\"id\":\"1054\",\"type\":\"Circle\"},{\"attributes\":{\"callback\":null},\"id\":\"1037\",\"type\":\"TapTool\"},{\"attributes\":{},\"id\":\"1105\",\"type\":\"Selection\"},{\"attributes\":{},\"id\":\"1081\",\"type\":\"NodesAndLinkedEdges\"},{\"attributes\":{},\"id\":\"1104\",\"type\":\"UnionRenderers\"},{\"attributes\":{\"data\":{\"node\":[\"Trumansburg\",\"Enfield\",\"Newfield\",\"West Hill\",\"Cayuga Heights\",\"Lansing\",\"Groton\",\"Fall Creek\",\"Northeast\",\"Freeville\",\"Dryden\",\"The Commons\",\"Campus\",\"Varna\",\"East Hill\",\"Slaterville\",\"Danby\",\"Caroline\"],\"x\":[0,2,4,8,12,14,18,10,14,19,19,10,12,17,13,18,12,20],\"y\":[8,5,2,6,7,8,9,6,7,7,6,4,6,6,4,2,0,1]},\"selected\":{\"id\":\"1100\"},\"selection_policy\":{\"id\":\"1099\"}},\"id\":\"1083\",\"type\":\"ColumnDataSource\"},{\"attributes\":{\"fill_color\":{\"value\":\"yellow\"},\"line_color\":{\"value\":\"lightgreen\"},\"line_width\":{\"value\":2},\"size\":{\"units\":\"screen\",\"value\":10}},\"id\":\"1049\",\"type\":\"Circle\"},{\"attributes\":{\"callback\":null,\"tooltips\":[[\"Node1\",\"@start\"],[\"Node2\",\"@end\"],[\"cost\",\"@cost\"]]},\"id\":\"1036\",\"type\":\"HoverTool\"},{\"attributes\":{\"bottom_units\":\"screen\",\"fill_alpha\":0.5,\"fill_color\":\"lightgrey\",\"left_units\":\"screen\",\"level\":\"overlay\",\"line_alpha\":1.0,\"line_color\":\"black\",\"line_dash\":[4,4],\"line_width\":2,\"right_units\":\"screen\",\"top_units\":\"screen\"},\"id\":\"1027\",\"type\":\"BoxAnnotation\"},{\"attributes\":{\"data\":{\"index\":[\"Trumansburg\",\"Enfield\",\"Newfield\",\"West Hill\",\"Cayuga Heights\",\"Lansing\",\"Groton\",\"Fall Creek\",\"Northeast\",\"Freeville\",\"Dryden\",\"The Commons\",\"Campus\",\"Varna\",\"East Hill\",\"Slaterville\",\"Danby\",\"Caroline\"]},\"selected\":{\"id\":\"1105\"},\"selection_policy\":{\"id\":\"1104\"}},\"id\":\"1041\",\"type\":\"ColumnDataSource\"},{\"attributes\":{\"level\":\"glyph\",\"source\":{\"id\":\"1083\"},\"text\":{\"field\":\"node\"},\"x\":{\"field\":\"x\"},\"x_offset\":{\"value\":5},\"y\":{\"field\":\"y\"},\"y_offset\":{\"value\":5}},\"id\":\"1084\",\"type\":\"LabelSet\"},{\"attributes\":{\"active_drag\":\"auto\",\"active_inspect\":\"auto\",\"active_multi\":null,\"active_scroll\":\"auto\",\"active_tap\":\"auto\",\"tools\":[{\"id\":\"1021\"},{\"id\":\"1022\"},{\"id\":\"1023\"},{\"id\":\"1024\"},{\"id\":\"1025\"},{\"id\":\"1026\"},{\"id\":\"1036\"},{\"id\":\"1037\"}]},\"id\":\"1028\",\"type\":\"Toolbar\"},{\"attributes\":{\"edge_renderer\":{\"id\":\"1061\"},\"inspection_policy\":{\"id\":\"1079\"},\"layout_provider\":{\"id\":\"1078\"},\"node_renderer\":{\"id\":\"1042\"},\"selection_policy\":{\"id\":\"1081\"}},\"id\":\"1035\",\"type\":\"GraphRenderer\"}],\"root_ids\":[\"1002\"]},\"title\":\"Bokeh Application\",\"version\":\"2.2.0\"}};\n",
       "  var render_items = [{\"docid\":\"9ccd1406-e10d-480d-a3d1-288ccf260de1\",\"root_ids\":[\"1002\"],\"roots\":{\"1002\":\"fb5b9d3b-3e35-4f76-83e8-f63224e62f8a\"}}];\n",
       "  root.Bokeh.embed.embed_items_notebook(docs_json, render_items);\n",
       "\n",
       "  }\n",
       "  if (root.Bokeh !== undefined) {\n",
       "    embed_document(root);\n",
       "  } else {\n",
       "    var attempts = 0;\n",
       "    var timer = setInterval(function(root) {\n",
       "      if (root.Bokeh !== undefined) {\n",
       "        clearInterval(timer);\n",
       "        embed_document(root);\n",
       "      } else {\n",
       "        attempts++;\n",
       "        if (attempts > 100) {\n",
       "          clearInterval(timer);\n",
       "          console.log(\"Bokeh: ERROR: Unable to run BokehJS code because BokehJS library is missing\");\n",
       "        }\n",
       "      }\n",
       "    }, 10, root)\n",
       "  }\n",
       "})(window);"
      ],
      "application/vnd.bokehjs_exec.v0+json": ""
     },
     "metadata": {
      "application/vnd.bokehjs_exec.v0+json": {
       "id": "1002"
      }
     },
     "output_type": "display_data"
    }
   ],
   "source": [
    "from graph_tools import plotNetworkTompkins\n",
    "plotNetworkTompkins(dfn, dfl)"
   ]
  },
  {
   "cell_type": "markdown",
   "metadata": {},
   "source": [
    "<font color='red'>\n",
    "The names are to be placed more visibly later.   \n",
    "</font>"
   ]
  },
  {
   "cell_type": "markdown",
   "metadata": {},
   "source": [
    "Your pizza place is located on Campus, so this is our source s."
   ]
  },
  {
   "cell_type": "markdown",
   "metadata": {},
   "source": [
    "**Q1:** What is the node that is closest to campus (not considering the campus itself)? In case of ties, choose any of them. \n",
    "\n",
    "**A:**"
   ]
  },
  {
   "cell_type": "markdown",
   "metadata": {},
   "source": [
    "**Q2:** Can there be a quicker route to get to this destination (call it point X) than just to go directly there from Campus? Why or why not? (Hint: You can click on the campus node to hilight its adjacent edges).\n",
    "\n",
    "**A:**"
   ]
  },
  {
   "cell_type": "markdown",
   "metadata": {},
   "source": [
    "**Q3:** Explain why the predecessor (“prev(X)” from class) of X must be the Campus.\n",
    "\n",
    "**A:**"
   ]
  },
  {
   "cell_type": "markdown",
   "metadata": {},
   "source": [
    "For now on, let X be downtown (X has ID 1). This is one of the two nodes which were closest to Campus. Since the predecessor of X is Campus, we can mark the edge between Campus and X. How do we find the next edge to add to the tree (i.e., the next edge to “iluminate”)? One way is as follows. Compute the travel times for all routes that either go directly from Campus to a destination or go from campus to point X and then directly to a destination. Take the shortest of all these routes and add it to the tree. For instance, in\n",
    "this case, we consider the following routes. Node IDs are in parentheses.\n",
    "\n",
    "<br>\n",
    "<font color='red'>\n",
    "    [insert table here]\n",
    "</font>"
   ]
  },
  {
   "cell_type": "markdown",
   "metadata": {},
   "source": [
    "**Q4:** Campus to Varna is the shortest route on this list. Can there be a shorter route to Varna than the one that we just added? Why or why not?\n",
    "\n",
    "**A:**"
   ]
  },
  {
   "cell_type": "markdown",
   "metadata": {},
   "source": [
    "Now we update the table: if two entries have the same destination we drop the more expensive one (e.g., Campus-Fall Creek takes 10 units of time while Campus-Downtown-Fall Creek takes 9, so we keep the latter). Then for each destination that can be reached from Varna, we compute the length of the path using only nodes already marked, with Varna being the second-to-last node on the path. Fill in the missing entries in the table below and choose the next edge to be added to the shortest path tree.\n",
    "\n",
    "<br>\n",
    "<font color='red'>\n",
    "    [insert table here]\n",
    "</font>\n",
    "\n",
    "Dijkstra’s Algorithm continues in this manner. In the next step, we compute the travel times to destinations not already marked that are adjacent to the lastly marked node, using routes that involve only already marked nodes as intermediate steps."
   ]
  },
  {
   "cell_type": "markdown",
   "metadata": {},
   "source": [
    "**Q5:** Do the next two iterations of the algorithm and write down the nodes that get marked in each of these iterations. It will help to look at the map in some cells above.\n",
    "\n",
    "**A:**"
   ]
  },
  {
   "cell_type": "markdown",
   "metadata": {},
   "source": [
    "Now trace the execution of Dijkstra’s algorithm with **the software** up to the point that you have already computed by hand. (Press B and click on the Campus to set it as the starting node s, then go step by step by pressing N. At any point you can hover your mouse over a particular node to check its information)\n",
    "The program uses colors to distinguish different types of information. Explain when each of the following colors is used (be sure to mention all uses of a particular color, such as nodes in the graph, edges in the graph).\n",
    "\n",
    " - blue\n",
    " - red\n",
    " - ...\n",
    " \n",
    " <br>\n",
    " <font color='red'>\n",
    " The software can be made as just another interactive graph. It would sit in a cell about here.    \n",
    "    \n",
    " The 'software' should terminate with a hilighted shortest path tree.\n",
    "</font>"
   ]
  },
  {
   "cell_type": "markdown",
   "metadata": {},
   "source": [
    "How can you read out the shortest path from Campus to other places in Tompkins County from the shortest path tree?\n",
    "\n",
    "<br>"
   ]
  },
  {
   "cell_type": "markdown",
   "metadata": {},
   "source": [
    "## Part 2: Get the shortest path tree using a built-in solver.\n",
    "\n",
    "<br>\n",
    "\n",
    "<font color='red'>\n",
    "   \n",
    " - Networkx is a library for dealing with graphs and graph algorithms in python. There may well be other / better options.\n",
    "    \n",
    " - To the best of my knowledge, ortools in python does not have a build in shortest path algorithm\n",
    "    \n",
    " - In this section students find and plot a shortest path tree using networkx\n",
    "</font>"
   ]
  },
  {
   "cell_type": "markdown",
   "metadata": {},
   "source": [
    "Next, your goal is to let your computer do the work. Load the package 'networkx' and define a graph using the links dataframe from earlier.\n",
    "\n",
    "Recall that edges (see dfl) were defined by the 'start' node and the 'end node. Below we load the data as a graph by specifying (1) that our data sits in dfl, (2) that edges start at nodes from the 'start' columsn, (3) that edges end in nodes in the 'end' column, and (4) that edge costs are in the 'cost' column. I.e.\n",
    "\n",
    "$$\\texttt{G = nx.from_pandas_edgelist(<dataframe of edges>, <start col name>, <end col name>, <cost col name>)} $$"
   ]
  },
  {
   "cell_type": "code",
   "execution_count": 6,
   "metadata": {},
   "outputs": [],
   "source": [
    "# load networkx model from edge dataset\n",
    "G = nx.from_pandas_edgelist(dfl, 'start', 'end', 'cost')"
   ]
  },
  {
   "cell_type": "code",
   "execution_count": 7,
   "metadata": {},
   "outputs": [],
   "source": [
    "# solve shortest path problem\n",
    "out = nx.single_source_dijkstra(G, source='Campus', weight='cost')"
   ]
  },
  {
   "cell_type": "markdown",
   "metadata": {},
   "source": [
    "Run the solver on the Tompkins instance G we defined above. The cell below prints the time it takes to traverse the quickest path to each location from Campus. Do the values agree with what you found before? "
   ]
  },
  {
   "cell_type": "code",
   "execution_count": 8,
   "metadata": {},
   "outputs": [
    {
     "data": {
      "text/plain": [
       "{'Campus': 0,\n",
       " 'The Commons': 5,\n",
       " 'Varna': 5,\n",
       " 'East Hill': 6,\n",
       " 'Slaterville': 6,\n",
       " 'Northeast': 10,\n",
       " 'Fall Creek': 10,\n",
       " 'Caroline': 10,\n",
       " 'West Hill': 12,\n",
       " 'Cayuga Heights': 12,\n",
       " 'Danby': 12,\n",
       " 'Freeville': 13,\n",
       " 'Dryden': 15,\n",
       " 'Lansing': 15,\n",
       " 'Newfield': 20,\n",
       " 'Enfield': 21,\n",
       " 'Groton': 27,\n",
       " 'Trumansburg': 32}"
      ]
     },
     "execution_count": 8,
     "metadata": {},
     "output_type": "execute_result"
    }
   ],
   "source": [
    "# print values\n",
    "#pd.DataFrame(out[0].values(), index=out[0].keys()).rename(columns={0:'cost'}) # fancy version\n",
    "out[0] # raw output"
   ]
  },
  {
   "cell_type": "code",
   "execution_count": 9,
   "metadata": {},
   "outputs": [
    {
     "data": {
      "text/plain": [
       "{'Campus': ['Campus'],\n",
       " 'The Commons': ['Campus', 'The Commons'],\n",
       " 'East Hill': ['Campus', 'East Hill'],\n",
       " 'Danby': ['Campus', 'East Hill', 'Danby'],\n",
       " 'Varna': ['Campus', 'Varna'],\n",
       " 'Slaterville': ['Campus', 'Slaterville'],\n",
       " 'Northeast': ['Campus', 'Northeast'],\n",
       " 'Fall Creek': ['Campus', 'Fall Creek'],\n",
       " 'Newfield': ['Campus', 'The Commons', 'Newfield'],\n",
       " 'West Hill': ['Campus', 'The Commons', 'West Hill'],\n",
       " 'Cayuga Heights': ['Campus', 'The Commons', 'Cayuga Heights'],\n",
       " 'Freeville': ['Campus', 'Varna', 'Freeville'],\n",
       " 'Dryden': ['Campus', 'Varna', 'Dryden'],\n",
       " 'Caroline': ['Campus', 'Slaterville', 'Caroline'],\n",
       " 'Lansing': ['Campus', 'Northeast', 'Lansing'],\n",
       " 'Groton': ['Campus', 'Northeast', 'Groton'],\n",
       " 'Trumansburg': ['Campus', 'The Commons', 'West Hill', 'Trumansburg'],\n",
       " 'Enfield': ['Campus', 'The Commons', 'West Hill', 'Enfield']}"
      ]
     },
     "execution_count": 9,
     "metadata": {},
     "output_type": "execute_result"
    }
   ],
   "source": [
    "out[1] # raw tree"
   ]
  },
  {
   "cell_type": "markdown",
   "metadata": {},
   "source": [
    "Next, we want to visualize the shortest path tree. To do so we first add shortest path information to the node and link dataframes."
   ]
  },
  {
   "cell_type": "code",
   "execution_count": 10,
   "metadata": {},
   "outputs": [],
   "source": [
    "from graph_tools import getTree"
   ]
  },
  {
   "cell_type": "code",
   "execution_count": 11,
   "metadata": {},
   "outputs": [],
   "source": [
    "# add node labels (out[0]) to node dataframe \n",
    "dfn['label'] = dfn['name'].map(out[0])\n",
    "# add an 'in shortest-path-tree' indicator variable\n",
    "tree_dict = getTree(out, dfl) # get dictionary\n",
    "dfl['in_tree'] = dfl.index.map(tree_dict)"
   ]
  },
  {
   "cell_type": "code",
   "execution_count": 12,
   "metadata": {},
   "outputs": [],
   "source": [
    "from graph_tools import plotTreeTompkins"
   ]
  },
  {
   "cell_type": "code",
   "execution_count": 13,
   "metadata": {},
   "outputs": [
    {
     "data": {
      "text/html": [
       "\n",
       "\n",
       "\n",
       "\n",
       "\n",
       "\n",
       "  <div class=\"bk-root\" id=\"3b1f02f1-597c-45cd-9ea8-474c43a2486a\" data-root-id=\"1238\"></div>\n"
      ]
     },
     "metadata": {},
     "output_type": "display_data"
    },
    {
     "data": {
      "application/javascript": [
       "(function(root) {\n",
       "  function embed_document(root) {\n",
       "    \n",
       "  var docs_json = {\"9a2ee703-72bd-4e1e-a823-a6590042b991\":{\"roots\":{\"references\":[{\"attributes\":{\"below\":[{\"id\":\"1249\"}],\"center\":[{\"id\":\"1252\"},{\"id\":\"1256\"}],\"left\":[{\"id\":\"1253\"}],\"plot_height\":420,\"plot_width\":800,\"renderers\":[{\"id\":\"1271\"}],\"title\":{\"id\":\"1239\"},\"toolbar\":{\"id\":\"1264\"},\"x_range\":{\"id\":\"1241\"},\"x_scale\":{\"id\":\"1245\"},\"y_range\":{\"id\":\"1243\"},\"y_scale\":{\"id\":\"1247\"}},\"id\":\"1238\",\"subtype\":\"Figure\",\"type\":\"Plot\"},{\"attributes\":{\"data_source\":{\"id\":\"1275\"},\"glyph\":{\"id\":\"1282\"},\"hover_glyph\":{\"id\":\"1287\"},\"muted_glyph\":null,\"selection_glyph\":{\"id\":\"1292\"},\"view\":{\"id\":\"1277\"}},\"id\":\"1276\",\"type\":\"GlyphRenderer\"},{\"attributes\":{\"formatter\":{\"id\":\"1339\"},\"ticker\":{\"id\":\"1254\"}},\"id\":\"1253\",\"type\":\"LinearAxis\"},{\"attributes\":{},\"id\":\"1262\",\"type\":\"HelpTool\"},{\"attributes\":{\"axis\":{\"id\":\"1249\"},\"ticker\":null},\"id\":\"1252\",\"type\":\"Grid\"},{\"attributes\":{\"data_source\":{\"id\":\"1279\"},\"glyph\":{\"id\":\"1297\"},\"hover_glyph\":{\"id\":\"1302\"},\"muted_glyph\":null,\"selection_glyph\":{\"id\":\"1307\"},\"view\":{\"id\":\"1281\"}},\"id\":\"1280\",\"type\":\"GlyphRenderer\"},{\"attributes\":{\"data\":{\"end\":[\"Enfield\",\"West Hill\",\"West Hill\",\"Newfield\",\"West Hill\",\"The Commons\",\"East Hill\",\"Danby\",\"Danby\",\"The Commons\",\"Cayuga Heights\",\"Campus\",\"East Hill\",\"Lansing\",\"Northeast\",\"Fall Creek\",\"Fall Creek\",\"Groton\",\"Freeville\",\"Northeast\",\"Fall Creek\",\"Campus\",\"Danby\",\"Campus\",\"Varna\",\"Slaterville\",\"Caroline\",\"Slaterville\",\"Dryden\",\"Varna\",\"Slaterville\",\"Northeast\",\"Fall Creek\",\"Groton\",\"Freeville\",\"Dryden\",\"Varna\",\"Freeville\",\"Dryden\",\"Slaterville\",\"Dryden\",\"Caroline\"],\"in_tree\":[0.1,1.0,1.0,0.1,0.1,1.0,0.1,0.1,0.1,1.0,1.0,1.0,0.1,0.1,0.1,0.1,0.1,0.1,0.1,1.0,0.1,1.0,1.0,0.1,0.1,0.1,0.1,1.0,0.1,1.0,1.0,1.0,1.0,1.0,0.1,0.1,0.1,1.0,1.0,0.1,0.1,1.0],\"start\":[\"Trumansburg\",\"Trumansburg\",\"Enfield\",\"Enfield\",\"Newfield\",\"Newfield\",\"Newfield\",\"Newfield\",\"West Hill\",\"West Hill\",\"The Commons\",\"The Commons\",\"The Commons\",\"Cayuga Heights\",\"Cayuga Heights\",\"Cayuga Heights\",\"Lansing\",\"Lansing\",\"Lansing\",\"Lansing\",\"East Hill\",\"East Hill\",\"East Hill\",\"Danby\",\"Danby\",\"Danby\",\"Danby\",\"Caroline\",\"Caroline\",\"Campus\",\"Campus\",\"Campus\",\"Campus\",\"Northeast\",\"Northeast\",\"Northeast\",\"Northeast\",\"Varna\",\"Varna\",\"Varna\",\"Slaterville\",\"Slaterville\"]},\"selected\":{\"id\":\"1351\"},\"selection_policy\":{\"id\":\"1350\"}},\"id\":\"1279\",\"type\":\"ColumnDataSource\"},{\"attributes\":{\"source\":{\"id\":\"1275\"}},\"id\":\"1277\",\"type\":\"CDSView\"},{\"attributes\":{},\"id\":\"1352\",\"type\":\"UnionRenderers\"},{\"attributes\":{\"line_alpha\":{\"field\":\"in_tree\"},\"line_color\":{\"value\":\"green\"},\"line_width\":{\"value\":5}},\"id\":\"1297\",\"type\":\"MultiLine\"},{\"attributes\":{\"fill_color\":{\"value\":\"yellow\"},\"line_color\":{\"value\":\"orange\"},\"line_width\":{\"value\":2},\"size\":{\"units\":\"screen\",\"value\":10}},\"id\":\"1292\",\"type\":\"Circle\"},{\"attributes\":{},\"id\":\"1351\",\"type\":\"Selection\"},{\"attributes\":{\"source\":{\"id\":\"1279\"}},\"id\":\"1281\",\"type\":\"CDSView\"},{\"attributes\":{},\"id\":\"1257\",\"type\":\"PanTool\"},{\"attributes\":{},\"id\":\"1261\",\"type\":\"ResetTool\"},{\"attributes\":{},\"id\":\"1353\",\"type\":\"Selection\"},{\"attributes\":{},\"id\":\"1337\",\"type\":\"BasicTickFormatter\"},{\"attributes\":{\"fill_color\":{\"value\":\"lightgreen\"},\"line_color\":{\"value\":\"green\"},\"line_width\":{\"value\":2},\"size\":{\"units\":\"screen\",\"value\":10}},\"id\":\"1282\",\"type\":\"Circle\"},{\"attributes\":{},\"id\":\"1313\",\"type\":\"NodesOnly\"},{\"attributes\":{\"active_drag\":\"auto\",\"active_inspect\":\"auto\",\"active_multi\":null,\"active_scroll\":\"auto\",\"active_tap\":\"auto\",\"tools\":[{\"id\":\"1257\"},{\"id\":\"1258\"},{\"id\":\"1259\"},{\"id\":\"1260\"},{\"id\":\"1261\"},{\"id\":\"1262\"},{\"id\":\"1272\"}]},\"id\":\"1264\",\"type\":\"Toolbar\"},{\"attributes\":{\"edge_renderer\":{\"id\":\"1280\"},\"inspection_policy\":{\"id\":\"1313\"},\"layout_provider\":{\"id\":\"1312\"},\"node_renderer\":{\"id\":\"1276\"},\"selection_policy\":{\"id\":\"1340\"}},\"id\":\"1271\",\"type\":\"GraphRenderer\"},{\"attributes\":{},\"id\":\"1350\",\"type\":\"UnionRenderers\"},{\"attributes\":{},\"id\":\"1258\",\"type\":\"WheelZoomTool\"},{\"attributes\":{},\"id\":\"1340\",\"type\":\"NodesOnly\"},{\"attributes\":{\"data\":{\"cost\":[32,21,20,12,12,15,27,10,10,13,15,5,0,5,6,6,12,10],\"index\":[\"Trumansburg\",\"Enfield\",\"Newfield\",\"West Hill\",\"Cayuga Heights\",\"Lansing\",\"Groton\",\"Fall Creek\",\"Northeast\",\"Freeville\",\"Dryden\",\"The Commons\",\"Campus\",\"Varna\",\"East Hill\",\"Slaterville\",\"Danby\",\"Caroline\"]},\"selected\":{\"id\":\"1353\"},\"selection_policy\":{\"id\":\"1352\"}},\"id\":\"1275\",\"type\":\"ColumnDataSource\"},{\"attributes\":{\"end\":21,\"start\":-1},\"id\":\"1241\",\"type\":\"Range1d\"},{\"attributes\":{},\"id\":\"1339\",\"type\":\"BasicTickFormatter\"},{\"attributes\":{\"fill_color\":{\"value\":\"yellow\"},\"line_color\":{\"value\":\"lightgreen\"},\"line_width\":{\"value\":2},\"size\":{\"units\":\"screen\",\"value\":10}},\"id\":\"1287\",\"type\":\"Circle\"},{\"attributes\":{\"line_color\":{\"value\":\"lightgreen\"},\"line_width\":{\"value\":5}},\"id\":\"1302\",\"type\":\"MultiLine\"},{\"attributes\":{},\"id\":\"1260\",\"type\":\"SaveTool\"},{\"attributes\":{\"graph_layout\":{\"Campus\":[12,6],\"Caroline\":[20,1],\"Cayuga Heights\":[12,7],\"Danby\":[12,0],\"Dryden\":[19,6],\"East Hill\":[13,4],\"Enfield\":[2,5],\"Fall Creek\":[10,6],\"Freeville\":[19,7],\"Groton\":[18,9],\"Lansing\":[14,8],\"Newfield\":[4,2],\"Northeast\":[14,7],\"Slaterville\":[18,2],\"The Commons\":[10,4],\"Trumansburg\":[0,8],\"Varna\":[17,6],\"West Hill\":[8,6]}},\"id\":\"1312\",\"type\":\"StaticLayoutProvider\"},{\"attributes\":{},\"id\":\"1245\",\"type\":\"LinearScale\"},{\"attributes\":{\"text\":\"A simple graph of Tompkins County\"},\"id\":\"1239\",\"type\":\"Title\"},{\"attributes\":{},\"id\":\"1247\",\"type\":\"LinearScale\"},{\"attributes\":{\"callback\":null,\"tooltips\":[[\"Name\",\"@index\"],[\"cost\",\"@cost\"]]},\"id\":\"1272\",\"type\":\"HoverTool\"},{\"attributes\":{},\"id\":\"1250\",\"type\":\"BasicTicker\"},{\"attributes\":{},\"id\":\"1254\",\"type\":\"BasicTicker\"},{\"attributes\":{\"bottom_units\":\"screen\",\"fill_alpha\":0.5,\"fill_color\":\"lightgrey\",\"left_units\":\"screen\",\"level\":\"overlay\",\"line_alpha\":1.0,\"line_color\":\"black\",\"line_dash\":[4,4],\"line_width\":2,\"right_units\":\"screen\",\"top_units\":\"screen\"},\"id\":\"1263\",\"type\":\"BoxAnnotation\"},{\"attributes\":{\"axis\":{\"id\":\"1253\"},\"dimension\":1,\"ticker\":null},\"id\":\"1256\",\"type\":\"Grid\"},{\"attributes\":{\"end\":10,\"start\":-1},\"id\":\"1243\",\"type\":\"Range1d\"},{\"attributes\":{\"line_color\":{\"value\":\"orange\"},\"line_width\":{\"value\":5}},\"id\":\"1307\",\"type\":\"MultiLine\"},{\"attributes\":{\"formatter\":{\"id\":\"1337\"},\"ticker\":{\"id\":\"1250\"}},\"id\":\"1249\",\"type\":\"LinearAxis\"},{\"attributes\":{\"overlay\":{\"id\":\"1263\"}},\"id\":\"1259\",\"type\":\"BoxZoomTool\"}],\"root_ids\":[\"1238\"]},\"title\":\"Bokeh Application\",\"version\":\"2.2.0\"}};\n",
       "  var render_items = [{\"docid\":\"9a2ee703-72bd-4e1e-a823-a6590042b991\",\"root_ids\":[\"1238\"],\"roots\":{\"1238\":\"3b1f02f1-597c-45cd-9ea8-474c43a2486a\"}}];\n",
       "  root.Bokeh.embed.embed_items_notebook(docs_json, render_items);\n",
       "\n",
       "  }\n",
       "  if (root.Bokeh !== undefined) {\n",
       "    embed_document(root);\n",
       "  } else {\n",
       "    var attempts = 0;\n",
       "    var timer = setInterval(function(root) {\n",
       "      if (root.Bokeh !== undefined) {\n",
       "        clearInterval(timer);\n",
       "        embed_document(root);\n",
       "      } else {\n",
       "        attempts++;\n",
       "        if (attempts > 100) {\n",
       "          clearInterval(timer);\n",
       "          console.log(\"Bokeh: ERROR: Unable to run BokehJS code because BokehJS library is missing\");\n",
       "        }\n",
       "      }\n",
       "    }, 10, root)\n",
       "  }\n",
       "})(window);"
      ],
      "application/vnd.bokehjs_exec.v0+json": ""
     },
     "metadata": {
      "application/vnd.bokehjs_exec.v0+json": {
       "id": "1238"
      }
     },
     "output_type": "display_data"
    }
   ],
   "source": [
    "plotTreeTompkins(dfn, dfl)"
   ]
  },
  {
   "cell_type": "markdown",
   "metadata": {},
   "source": [
    "<font color='red'>\n",
    "   \n",
    " - We could add edge tooltips so students can verfiy that branches of the tree are indeed shortest paths.\n",
    "    \n",
    " - This should agree with the output of the 'interactive solver'\n",
    "</font>"
   ]
  }
 ],
 "metadata": {
  "kernelspec": {
   "display_name": "Python 3",
   "language": "python",
   "name": "python3"
  },
  "language_info": {
   "codemirror_mode": {
    "name": "ipython",
    "version": 3
   },
   "file_extension": ".py",
   "mimetype": "text/x-python",
   "name": "python",
   "nbconvert_exporter": "python",
   "pygments_lexer": "ipython3",
   "version": "3.7.7"
  }
 },
 "nbformat": 4,
 "nbformat_minor": 4
}
