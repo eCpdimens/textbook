{
 "cells": [
  {
   "cell_type": "code",
   "execution_count": 1,
   "metadata": {},
   "outputs": [
    {
     "data": {
      "text/html": [
       "\n",
       "    <div class=\"bk-root\">\n",
       "        <a href=\"https://bokeh.org\" target=\"_blank\" class=\"bk-logo bk-logo-small bk-logo-notebook\"></a>\n",
       "        <span id=\"1001\">Loading BokehJS ...</span>\n",
       "    </div>"
      ]
     },
     "metadata": {},
     "output_type": "display_data"
    },
    {
     "data": {
      "application/javascript": [
       "\n",
       "(function(root) {\n",
       "  function now() {\n",
       "    return new Date();\n",
       "  }\n",
       "\n",
       "  var force = true;\n",
       "\n",
       "  if (typeof root._bokeh_onload_callbacks === \"undefined\" || force === true) {\n",
       "    root._bokeh_onload_callbacks = [];\n",
       "    root._bokeh_is_loading = undefined;\n",
       "  }\n",
       "\n",
       "  var JS_MIME_TYPE = 'application/javascript';\n",
       "  var HTML_MIME_TYPE = 'text/html';\n",
       "  var EXEC_MIME_TYPE = 'application/vnd.bokehjs_exec.v0+json';\n",
       "  var CLASS_NAME = 'output_bokeh rendered_html';\n",
       "\n",
       "  /**\n",
       "   * Render data to the DOM node\n",
       "   */\n",
       "  function render(props, node) {\n",
       "    var script = document.createElement(\"script\");\n",
       "    node.appendChild(script);\n",
       "  }\n",
       "\n",
       "  /**\n",
       "   * Handle when an output is cleared or removed\n",
       "   */\n",
       "  function handleClearOutput(event, handle) {\n",
       "    var cell = handle.cell;\n",
       "\n",
       "    var id = cell.output_area._bokeh_element_id;\n",
       "    var server_id = cell.output_area._bokeh_server_id;\n",
       "    // Clean up Bokeh references\n",
       "    if (id != null && id in Bokeh.index) {\n",
       "      Bokeh.index[id].model.document.clear();\n",
       "      delete Bokeh.index[id];\n",
       "    }\n",
       "\n",
       "    if (server_id !== undefined) {\n",
       "      // Clean up Bokeh references\n",
       "      var cmd = \"from bokeh.io.state import curstate; print(curstate().uuid_to_server['\" + server_id + \"'].get_sessions()[0].document.roots[0]._id)\";\n",
       "      cell.notebook.kernel.execute(cmd, {\n",
       "        iopub: {\n",
       "          output: function(msg) {\n",
       "            var id = msg.content.text.trim();\n",
       "            if (id in Bokeh.index) {\n",
       "              Bokeh.index[id].model.document.clear();\n",
       "              delete Bokeh.index[id];\n",
       "            }\n",
       "          }\n",
       "        }\n",
       "      });\n",
       "      // Destroy server and session\n",
       "      var cmd = \"import bokeh.io.notebook as ion; ion.destroy_server('\" + server_id + \"')\";\n",
       "      cell.notebook.kernel.execute(cmd);\n",
       "    }\n",
       "  }\n",
       "\n",
       "  /**\n",
       "   * Handle when a new output is added\n",
       "   */\n",
       "  function handleAddOutput(event, handle) {\n",
       "    var output_area = handle.output_area;\n",
       "    var output = handle.output;\n",
       "\n",
       "    // limit handleAddOutput to display_data with EXEC_MIME_TYPE content only\n",
       "    if ((output.output_type != \"display_data\") || (!output.data.hasOwnProperty(EXEC_MIME_TYPE))) {\n",
       "      return\n",
       "    }\n",
       "\n",
       "    var toinsert = output_area.element.find(\".\" + CLASS_NAME.split(' ')[0]);\n",
       "\n",
       "    if (output.metadata[EXEC_MIME_TYPE][\"id\"] !== undefined) {\n",
       "      toinsert[toinsert.length - 1].firstChild.textContent = output.data[JS_MIME_TYPE];\n",
       "      // store reference to embed id on output_area\n",
       "      output_area._bokeh_element_id = output.metadata[EXEC_MIME_TYPE][\"id\"];\n",
       "    }\n",
       "    if (output.metadata[EXEC_MIME_TYPE][\"server_id\"] !== undefined) {\n",
       "      var bk_div = document.createElement(\"div\");\n",
       "      bk_div.innerHTML = output.data[HTML_MIME_TYPE];\n",
       "      var script_attrs = bk_div.children[0].attributes;\n",
       "      for (var i = 0; i < script_attrs.length; i++) {\n",
       "        toinsert[toinsert.length - 1].firstChild.setAttribute(script_attrs[i].name, script_attrs[i].value);\n",
       "        toinsert[toinsert.length - 1].firstChild.textContent = bk_div.children[0].textContent\n",
       "      }\n",
       "      // store reference to server id on output_area\n",
       "      output_area._bokeh_server_id = output.metadata[EXEC_MIME_TYPE][\"server_id\"];\n",
       "    }\n",
       "  }\n",
       "\n",
       "  function register_renderer(events, OutputArea) {\n",
       "\n",
       "    function append_mime(data, metadata, element) {\n",
       "      // create a DOM node to render to\n",
       "      var toinsert = this.create_output_subarea(\n",
       "        metadata,\n",
       "        CLASS_NAME,\n",
       "        EXEC_MIME_TYPE\n",
       "      );\n",
       "      this.keyboard_manager.register_events(toinsert);\n",
       "      // Render to node\n",
       "      var props = {data: data, metadata: metadata[EXEC_MIME_TYPE]};\n",
       "      render(props, toinsert[toinsert.length - 1]);\n",
       "      element.append(toinsert);\n",
       "      return toinsert\n",
       "    }\n",
       "\n",
       "    /* Handle when an output is cleared or removed */\n",
       "    events.on('clear_output.CodeCell', handleClearOutput);\n",
       "    events.on('delete.Cell', handleClearOutput);\n",
       "\n",
       "    /* Handle when a new output is added */\n",
       "    events.on('output_added.OutputArea', handleAddOutput);\n",
       "\n",
       "    /**\n",
       "     * Register the mime type and append_mime function with output_area\n",
       "     */\n",
       "    OutputArea.prototype.register_mime_type(EXEC_MIME_TYPE, append_mime, {\n",
       "      /* Is output safe? */\n",
       "      safe: true,\n",
       "      /* Index of renderer in `output_area.display_order` */\n",
       "      index: 0\n",
       "    });\n",
       "  }\n",
       "\n",
       "  // register the mime type if in Jupyter Notebook environment and previously unregistered\n",
       "  if (root.Jupyter !== undefined) {\n",
       "    var events = require('base/js/events');\n",
       "    var OutputArea = require('notebook/js/outputarea').OutputArea;\n",
       "\n",
       "    if (OutputArea.prototype.mime_types().indexOf(EXEC_MIME_TYPE) == -1) {\n",
       "      register_renderer(events, OutputArea);\n",
       "    }\n",
       "  }\n",
       "\n",
       "  \n",
       "  if (typeof (root._bokeh_timeout) === \"undefined\" || force === true) {\n",
       "    root._bokeh_timeout = Date.now() + 5000;\n",
       "    root._bokeh_failed_load = false;\n",
       "  }\n",
       "\n",
       "  var NB_LOAD_WARNING = {'data': {'text/html':\n",
       "     \"<div style='background-color: #fdd'>\\n\"+\n",
       "     \"<p>\\n\"+\n",
       "     \"BokehJS does not appear to have successfully loaded. If loading BokehJS from CDN, this \\n\"+\n",
       "     \"may be due to a slow or bad network connection. Possible fixes:\\n\"+\n",
       "     \"</p>\\n\"+\n",
       "     \"<ul>\\n\"+\n",
       "     \"<li>re-rerun `output_notebook()` to attempt to load from CDN again, or</li>\\n\"+\n",
       "     \"<li>use INLINE resources instead, as so:</li>\\n\"+\n",
       "     \"</ul>\\n\"+\n",
       "     \"<code>\\n\"+\n",
       "     \"from bokeh.resources import INLINE\\n\"+\n",
       "     \"output_notebook(resources=INLINE)\\n\"+\n",
       "     \"</code>\\n\"+\n",
       "     \"</div>\"}};\n",
       "\n",
       "  function display_loaded() {\n",
       "    var el = document.getElementById(\"1001\");\n",
       "    if (el != null) {\n",
       "      el.textContent = \"BokehJS is loading...\";\n",
       "    }\n",
       "    if (root.Bokeh !== undefined) {\n",
       "      if (el != null) {\n",
       "        el.textContent = \"BokehJS \" + root.Bokeh.version + \" successfully loaded.\";\n",
       "      }\n",
       "    } else if (Date.now() < root._bokeh_timeout) {\n",
       "      setTimeout(display_loaded, 100)\n",
       "    }\n",
       "  }\n",
       "\n",
       "\n",
       "  function run_callbacks() {\n",
       "    try {\n",
       "      root._bokeh_onload_callbacks.forEach(function(callback) {\n",
       "        if (callback != null)\n",
       "          callback();\n",
       "      });\n",
       "    } finally {\n",
       "      delete root._bokeh_onload_callbacks\n",
       "    }\n",
       "    console.debug(\"Bokeh: all callbacks have finished\");\n",
       "  }\n",
       "\n",
       "  function load_libs(css_urls, js_urls, callback) {\n",
       "    if (css_urls == null) css_urls = [];\n",
       "    if (js_urls == null) js_urls = [];\n",
       "\n",
       "    root._bokeh_onload_callbacks.push(callback);\n",
       "    if (root._bokeh_is_loading > 0) {\n",
       "      console.debug(\"Bokeh: BokehJS is being loaded, scheduling callback at\", now());\n",
       "      return null;\n",
       "    }\n",
       "    if (js_urls == null || js_urls.length === 0) {\n",
       "      run_callbacks();\n",
       "      return null;\n",
       "    }\n",
       "    console.debug(\"Bokeh: BokehJS not loaded, scheduling load and callback at\", now());\n",
       "    root._bokeh_is_loading = css_urls.length + js_urls.length;\n",
       "\n",
       "    function on_load() {\n",
       "      root._bokeh_is_loading--;\n",
       "      if (root._bokeh_is_loading === 0) {\n",
       "        console.debug(\"Bokeh: all BokehJS libraries/stylesheets loaded\");\n",
       "        run_callbacks()\n",
       "      }\n",
       "    }\n",
       "\n",
       "    function on_error() {\n",
       "      console.error(\"failed to load \" + url);\n",
       "    }\n",
       "\n",
       "    for (var i = 0; i < css_urls.length; i++) {\n",
       "      var url = css_urls[i];\n",
       "      const element = document.createElement(\"link\");\n",
       "      element.onload = on_load;\n",
       "      element.onerror = on_error;\n",
       "      element.rel = \"stylesheet\";\n",
       "      element.type = \"text/css\";\n",
       "      element.href = url;\n",
       "      console.debug(\"Bokeh: injecting link tag for BokehJS stylesheet: \", url);\n",
       "      document.body.appendChild(element);\n",
       "    }\n",
       "\n",
       "    const hashes = {\"https://cdn.bokeh.org/bokeh/release/bokeh-2.2.3.min.js\": \"T2yuo9Oe71Cz/I4X9Ac5+gpEa5a8PpJCDlqKYO0CfAuEszu1JrXLl8YugMqYe3sM\", \"https://cdn.bokeh.org/bokeh/release/bokeh-widgets-2.2.3.min.js\": \"98GDGJ0kOMCUMUePhksaQ/GYgB3+NH9h996V88sh3aOiUNX3N+fLXAtry6xctSZ6\", \"https://cdn.bokeh.org/bokeh/release/bokeh-tables-2.2.3.min.js\": \"89bArO+nlbP3sgakeHjCo1JYxYR5wufVgA3IbUvDY+K7w4zyxJqssu7wVnfeKCq8\"};\n",
       "\n",
       "    for (var i = 0; i < js_urls.length; i++) {\n",
       "      var url = js_urls[i];\n",
       "      var element = document.createElement('script');\n",
       "      element.onload = on_load;\n",
       "      element.onerror = on_error;\n",
       "      element.async = false;\n",
       "      element.src = url;\n",
       "      if (url in hashes) {\n",
       "        element.crossOrigin = \"anonymous\";\n",
       "        element.integrity = \"sha384-\" + hashes[url];\n",
       "      }\n",
       "      console.debug(\"Bokeh: injecting script tag for BokehJS library: \", url);\n",
       "      document.head.appendChild(element);\n",
       "    }\n",
       "  };\n",
       "\n",
       "  function inject_raw_css(css) {\n",
       "    const element = document.createElement(\"style\");\n",
       "    element.appendChild(document.createTextNode(css));\n",
       "    document.body.appendChild(element);\n",
       "  }\n",
       "\n",
       "  \n",
       "  var js_urls = [\"https://cdn.bokeh.org/bokeh/release/bokeh-2.2.3.min.js\", \"https://cdn.bokeh.org/bokeh/release/bokeh-widgets-2.2.3.min.js\", \"https://cdn.bokeh.org/bokeh/release/bokeh-tables-2.2.3.min.js\"];\n",
       "  var css_urls = [];\n",
       "  \n",
       "\n",
       "  var inline_js = [\n",
       "    function(Bokeh) {\n",
       "      Bokeh.set_log_level(\"info\");\n",
       "    },\n",
       "    function(Bokeh) {\n",
       "    \n",
       "    \n",
       "    }\n",
       "  ];\n",
       "\n",
       "  function run_inline_js() {\n",
       "    \n",
       "    if (root.Bokeh !== undefined || force === true) {\n",
       "      \n",
       "    for (var i = 0; i < inline_js.length; i++) {\n",
       "      inline_js[i].call(root, root.Bokeh);\n",
       "    }\n",
       "    if (force === true) {\n",
       "        display_loaded();\n",
       "      }} else if (Date.now() < root._bokeh_timeout) {\n",
       "      setTimeout(run_inline_js, 100);\n",
       "    } else if (!root._bokeh_failed_load) {\n",
       "      console.log(\"Bokeh: BokehJS failed to load within specified timeout.\");\n",
       "      root._bokeh_failed_load = true;\n",
       "    } else if (force !== true) {\n",
       "      var cell = $(document.getElementById(\"1001\")).parents('.cell').data().cell;\n",
       "      cell.output_area.append_execute_result(NB_LOAD_WARNING)\n",
       "    }\n",
       "\n",
       "  }\n",
       "\n",
       "  if (root._bokeh_is_loading === 0) {\n",
       "    console.debug(\"Bokeh: BokehJS loaded, going straight to plotting\");\n",
       "    run_inline_js();\n",
       "  } else {\n",
       "    load_libs(css_urls, js_urls, function() {\n",
       "      console.debug(\"Bokeh: BokehJS plotting callback run at\", now());\n",
       "      run_inline_js();\n",
       "    });\n",
       "  }\n",
       "}(window));"
      ],
      "application/vnd.bokehjs_load.v0+json": "\n(function(root) {\n  function now() {\n    return new Date();\n  }\n\n  var force = true;\n\n  if (typeof root._bokeh_onload_callbacks === \"undefined\" || force === true) {\n    root._bokeh_onload_callbacks = [];\n    root._bokeh_is_loading = undefined;\n  }\n\n  \n\n  \n  if (typeof (root._bokeh_timeout) === \"undefined\" || force === true) {\n    root._bokeh_timeout = Date.now() + 5000;\n    root._bokeh_failed_load = false;\n  }\n\n  var NB_LOAD_WARNING = {'data': {'text/html':\n     \"<div style='background-color: #fdd'>\\n\"+\n     \"<p>\\n\"+\n     \"BokehJS does not appear to have successfully loaded. If loading BokehJS from CDN, this \\n\"+\n     \"may be due to a slow or bad network connection. Possible fixes:\\n\"+\n     \"</p>\\n\"+\n     \"<ul>\\n\"+\n     \"<li>re-rerun `output_notebook()` to attempt to load from CDN again, or</li>\\n\"+\n     \"<li>use INLINE resources instead, as so:</li>\\n\"+\n     \"</ul>\\n\"+\n     \"<code>\\n\"+\n     \"from bokeh.resources import INLINE\\n\"+\n     \"output_notebook(resources=INLINE)\\n\"+\n     \"</code>\\n\"+\n     \"</div>\"}};\n\n  function display_loaded() {\n    var el = document.getElementById(\"1001\");\n    if (el != null) {\n      el.textContent = \"BokehJS is loading...\";\n    }\n    if (root.Bokeh !== undefined) {\n      if (el != null) {\n        el.textContent = \"BokehJS \" + root.Bokeh.version + \" successfully loaded.\";\n      }\n    } else if (Date.now() < root._bokeh_timeout) {\n      setTimeout(display_loaded, 100)\n    }\n  }\n\n\n  function run_callbacks() {\n    try {\n      root._bokeh_onload_callbacks.forEach(function(callback) {\n        if (callback != null)\n          callback();\n      });\n    } finally {\n      delete root._bokeh_onload_callbacks\n    }\n    console.debug(\"Bokeh: all callbacks have finished\");\n  }\n\n  function load_libs(css_urls, js_urls, callback) {\n    if (css_urls == null) css_urls = [];\n    if (js_urls == null) js_urls = [];\n\n    root._bokeh_onload_callbacks.push(callback);\n    if (root._bokeh_is_loading > 0) {\n      console.debug(\"Bokeh: BokehJS is being loaded, scheduling callback at\", now());\n      return null;\n    }\n    if (js_urls == null || js_urls.length === 0) {\n      run_callbacks();\n      return null;\n    }\n    console.debug(\"Bokeh: BokehJS not loaded, scheduling load and callback at\", now());\n    root._bokeh_is_loading = css_urls.length + js_urls.length;\n\n    function on_load() {\n      root._bokeh_is_loading--;\n      if (root._bokeh_is_loading === 0) {\n        console.debug(\"Bokeh: all BokehJS libraries/stylesheets loaded\");\n        run_callbacks()\n      }\n    }\n\n    function on_error() {\n      console.error(\"failed to load \" + url);\n    }\n\n    for (var i = 0; i < css_urls.length; i++) {\n      var url = css_urls[i];\n      const element = document.createElement(\"link\");\n      element.onload = on_load;\n      element.onerror = on_error;\n      element.rel = \"stylesheet\";\n      element.type = \"text/css\";\n      element.href = url;\n      console.debug(\"Bokeh: injecting link tag for BokehJS stylesheet: \", url);\n      document.body.appendChild(element);\n    }\n\n    const hashes = {\"https://cdn.bokeh.org/bokeh/release/bokeh-2.2.3.min.js\": \"T2yuo9Oe71Cz/I4X9Ac5+gpEa5a8PpJCDlqKYO0CfAuEszu1JrXLl8YugMqYe3sM\", \"https://cdn.bokeh.org/bokeh/release/bokeh-widgets-2.2.3.min.js\": \"98GDGJ0kOMCUMUePhksaQ/GYgB3+NH9h996V88sh3aOiUNX3N+fLXAtry6xctSZ6\", \"https://cdn.bokeh.org/bokeh/release/bokeh-tables-2.2.3.min.js\": \"89bArO+nlbP3sgakeHjCo1JYxYR5wufVgA3IbUvDY+K7w4zyxJqssu7wVnfeKCq8\"};\n\n    for (var i = 0; i < js_urls.length; i++) {\n      var url = js_urls[i];\n      var element = document.createElement('script');\n      element.onload = on_load;\n      element.onerror = on_error;\n      element.async = false;\n      element.src = url;\n      if (url in hashes) {\n        element.crossOrigin = \"anonymous\";\n        element.integrity = \"sha384-\" + hashes[url];\n      }\n      console.debug(\"Bokeh: injecting script tag for BokehJS library: \", url);\n      document.head.appendChild(element);\n    }\n  };\n\n  function inject_raw_css(css) {\n    const element = document.createElement(\"style\");\n    element.appendChild(document.createTextNode(css));\n    document.body.appendChild(element);\n  }\n\n  \n  var js_urls = [\"https://cdn.bokeh.org/bokeh/release/bokeh-2.2.3.min.js\", \"https://cdn.bokeh.org/bokeh/release/bokeh-widgets-2.2.3.min.js\", \"https://cdn.bokeh.org/bokeh/release/bokeh-tables-2.2.3.min.js\"];\n  var css_urls = [];\n  \n\n  var inline_js = [\n    function(Bokeh) {\n      Bokeh.set_log_level(\"info\");\n    },\n    function(Bokeh) {\n    \n    \n    }\n  ];\n\n  function run_inline_js() {\n    \n    if (root.Bokeh !== undefined || force === true) {\n      \n    for (var i = 0; i < inline_js.length; i++) {\n      inline_js[i].call(root, root.Bokeh);\n    }\n    if (force === true) {\n        display_loaded();\n      }} else if (Date.now() < root._bokeh_timeout) {\n      setTimeout(run_inline_js, 100);\n    } else if (!root._bokeh_failed_load) {\n      console.log(\"Bokeh: BokehJS failed to load within specified timeout.\");\n      root._bokeh_failed_load = true;\n    } else if (force !== true) {\n      var cell = $(document.getElementById(\"1001\")).parents('.cell').data().cell;\n      cell.output_area.append_execute_result(NB_LOAD_WARNING)\n    }\n\n  }\n\n  if (root._bokeh_is_loading === 0) {\n    console.debug(\"Bokeh: BokehJS loaded, going straight to plotting\");\n    run_inline_js();\n  } else {\n    load_libs(css_urls, js_urls, function() {\n      console.debug(\"Bokeh: BokehJS plotting callback run at\", now());\n      run_inline_js();\n    });\n  }\n}(window));"
     },
     "metadata": {},
     "output_type": "display_data"
    }
   ],
   "source": [
    "from graph import *\n",
    "from bokeh.io import output_notebook\n",
    "output_notebook()"
   ]
  },
  {
   "cell_type": "code",
   "execution_count": 2,
   "metadata": {},
   "outputs": [],
   "source": [
    "# create graph\n",
    "edges = pd.read_csv('data/tompkins_edges.csv', index_col=0)\n",
    "nodes = pd.read_csv('data/tompkins_nodes.csv', index_col=0)\n",
    "G = create_network(nodes, edges)"
   ]
  },
  {
   "cell_type": "code",
   "execution_count": 3,
   "metadata": {},
   "outputs": [
    {
     "data": {
      "text/html": [
       "\n",
       "\n",
       "\n",
       "\n",
       "\n",
       "\n",
       "  <div class=\"bk-root\" id=\"f37b16b7-ebdb-426a-893a-b6c34f4d6ebc\" data-root-id=\"1069\"></div>\n"
      ]
     },
     "metadata": {},
     "output_type": "display_data"
    },
    {
     "data": {
      "application/javascript": [
       "(function(root) {\n",
       "  function embed_document(root) {\n",
       "    \n",
       "  var docs_json = {\"519c1ef9-2ad0-461a-a42c-19b101c1aff0\":{\"roots\":{\"references\":[{\"attributes\":{\"children\":[[{\"id\":\"1002\"},0,0]]},\"id\":\"1069\",\"type\":\"GridBox\"},{\"attributes\":{\"end\":9.765,\"start\":-0.765},\"id\":\"1007\",\"type\":\"Range1d\"},{\"attributes\":{\"formatter\":{\"id\":\"1060\"},\"ticker\":{\"id\":\"1018\"},\"visible\":false},\"id\":\"1017\",\"type\":\"LinearAxis\"},{\"attributes\":{},\"id\":\"1058\",\"type\":\"BasicTickFormatter\"},{\"attributes\":{\"background_fill_color\":null,\"below\":[{\"id\":\"1013\"}],\"border_fill_color\":null,\"center\":[{\"id\":\"1016\"},{\"id\":\"1020\"},{\"id\":\"1052\"}],\"left\":[{\"id\":\"1017\"}],\"outline_line_color\":null,\"plot_height\":500,\"plot_width\":900,\"renderers\":[{\"id\":\"1045\"},{\"id\":\"1050\"}],\"title\":{\"id\":\"1003\"},\"toolbar\":{\"id\":\"1028\"},\"toolbar_location\":null,\"x_range\":{\"id\":\"1005\"},\"x_scale\":{\"id\":\"1009\"},\"y_range\":{\"id\":\"1007\"},\"y_scale\":{\"id\":\"1011\"}},\"id\":\"1002\",\"subtype\":\"Figure\",\"type\":\"Plot\"},{\"attributes\":{\"active_drag\":null,\"active_inspect\":\"auto\",\"active_multi\":null,\"active_scroll\":null,\"active_tap\":\"auto\",\"logo\":null,\"tools\":[{\"id\":\"1021\"},{\"id\":\"1022\"},{\"id\":\"1023\"},{\"id\":\"1024\"},{\"id\":\"1025\"},{\"id\":\"1026\"},{\"id\":\"1054\"}]},\"id\":\"1028\",\"type\":\"Toolbar\"},{\"attributes\":{\"text\":\"\"},\"id\":\"1003\",\"type\":\"Title\"},{\"attributes\":{},\"id\":\"1026\",\"type\":\"HelpTool\"},{\"attributes\":{},\"id\":\"1060\",\"type\":\"BasicTickFormatter\"},{\"attributes\":{},\"id\":\"1025\",\"type\":\"ResetTool\"},{\"attributes\":{\"source\":{\"id\":\"1040\"},\"x\":{\"field\":\"x\"},\"y\":{\"field\":\"y\"}},\"id\":\"1052\",\"type\":\"LabelSet\"},{\"attributes\":{},\"id\":\"1014\",\"type\":\"BasicTicker\"},{\"attributes\":{\"axis\":{\"id\":\"1013\"},\"grid_line_color\":null,\"ticker\":null},\"id\":\"1016\",\"type\":\"Grid\"},{\"attributes\":{\"formatter\":{\"id\":\"1058\"},\"ticker\":{\"id\":\"1014\"},\"visible\":false},\"id\":\"1013\",\"type\":\"LinearAxis\"},{\"attributes\":{},\"id\":\"1011\",\"type\":\"LinearScale\"},{\"attributes\":{},\"id\":\"1024\",\"type\":\"SaveTool\"},{\"attributes\":{},\"id\":\"1009\",\"type\":\"LinearScale\"},{\"attributes\":{},\"id\":\"1067\",\"type\":\"Selection\"},{\"attributes\":{\"fill_color\":{\"field\":\"fill_color\"},\"line_alpha\":{\"value\":0.1},\"line_color\":{\"field\":\"line_color\"},\"size\":{\"units\":\"screen\",\"value\":12},\"x\":{\"field\":\"x\"},\"y\":{\"field\":\"y\"}},\"id\":\"1049\",\"type\":\"Circle\"},{\"attributes\":{\"callback\":null,\"renderers\":[{\"id\":\"1050\"}],\"tooltips\":[[\"Node\",\"$index\"]]},\"id\":\"1054\",\"type\":\"HoverTool\"},{\"attributes\":{\"data_source\":{\"id\":\"1038\"},\"glyph\":{\"id\":\"1048\"},\"hover_glyph\":null,\"muted_glyph\":null,\"nonselection_glyph\":{\"id\":\"1049\"},\"selection_glyph\":null,\"view\":{\"id\":\"1051\"}},\"id\":\"1050\",\"type\":\"GlyphRenderer\"},{\"attributes\":{\"overlay\":{\"id\":\"1027\"}},\"id\":\"1023\",\"type\":\"BoxZoomTool\"},{\"attributes\":{},\"id\":\"1066\",\"type\":\"UnionRenderers\"},{\"attributes\":{\"data\":{\"line_color\":[\"lightgray\",\"black\",\"black\",\"lightgray\",\"lightgray\",\"lightgray\",\"black\",\"black\",\"lightgray\",\"lightgray\",\"black\",\"black\",\"lightgray\",\"lightgray\",\"black\",\"black\",\"lightgray\",\"lightgray\",\"lightgray\",\"lightgray\",\"lightgray\",\"lightgray\",\"lightgray\",\"black\",\"black\",\"black\",\"black\",\"lightgray\",\"lightgray\",\"lightgray\",\"black\",\"black\",\"lightgray\",\"lightgray\",\"lightgray\",\"black\",\"black\",\"lightgray\",\"black\",\"lightgray\",\"lightgray\"],\"visible\":[true,true,true,true,true,true,true,true,true,true,true,true,true,true,true,true,true,true,true,true,true,true,true,true,true,true,true,true,true,true,true,true,true,true,true,true,true,true,true,true,true],\"weight\":[25,20,9,10,10,17,7,15,15,18,7,5,6,10,6,6,14,18,15,16,5,12,5,5,6,10,10,15,12,10,5,17,7,8,10,8,10,9,4,21,25],\"xs\":[[0,2],[0,8],[2,8],[2,4],[8,4],[8,12],[8,10],[4,10],[4,13],[4,12],[10,12],[10,12],[10,13],[13,10],[13,12],[13,12],[12,12],[12,17],[12,18],[12,20],[12,14],[12,14],[12,10],[12,17],[12,18],[12,14],[12,10],[14,10],[14,18],[14,19],[14,14],[14,18],[14,19],[14,19],[14,17],[19,17],[17,19],[17,18],[18,20],[18,19],[20,19]],\"ys\":[[8,5],[8,6],[5,6],[5,2],[6,2],[6,0],[6,4],[2,4],[2,4],[2,0],[4,7],[4,6],[4,4],[4,6],[4,6],[4,0],[0,6],[0,6],[0,2],[0,1],[7,8],[7,7],[7,6],[6,6],[6,2],[6,7],[6,6],[8,6],[8,9],[8,7],[8,7],[7,9],[7,7],[7,6],[7,6],[7,6],[6,6],[6,2],[2,1],[2,6],[1,6]]},\"selected\":{\"id\":\"1065\"},\"selection_policy\":{\"id\":\"1064\"}},\"id\":\"1039\",\"type\":\"ColumnDataSource\"},{\"attributes\":{},\"id\":\"1065\",\"type\":\"Selection\"},{\"attributes\":{},\"id\":\"1064\",\"type\":\"UnionRenderers\"},{\"attributes\":{},\"id\":\"1022\",\"type\":\"WheelZoomTool\"},{\"attributes\":{},\"id\":\"1062\",\"type\":\"Selection\"},{\"attributes\":{\"source\":{\"id\":\"1038\"}},\"id\":\"1051\",\"type\":\"CDSView\"},{\"attributes\":{\"line_alpha\":{\"field\":\"visible\"},\"line_color\":{\"field\":\"line_color\"},\"line_width\":{\"value\":6},\"xs\":{\"field\":\"xs\"},\"ys\":{\"field\":\"ys\"}},\"id\":\"1042\",\"type\":\"MultiLine\"},{\"attributes\":{},\"id\":\"1021\",\"type\":\"PanTool\"},{\"attributes\":{},\"id\":\"1061\",\"type\":\"UnionRenderers\"},{\"attributes\":{\"bottom_units\":\"screen\",\"fill_alpha\":0.5,\"fill_color\":\"lightgrey\",\"left_units\":\"screen\",\"level\":\"overlay\",\"line_alpha\":1.0,\"line_color\":\"black\",\"line_dash\":[4,4],\"line_width\":2,\"right_units\":\"screen\",\"top_units\":\"screen\"},\"id\":\"1027\",\"type\":\"BoxAnnotation\"},{\"attributes\":{\"line_color\":{\"field\":\"line_color\"},\"line_width\":{\"value\":6},\"xs\":{\"field\":\"xs\"},\"ys\":{\"field\":\"ys\"}},\"id\":\"1043\",\"type\":\"MultiLine\"},{\"attributes\":{\"data\":{\"fill_color\":[\"steelblue\",\"steelblue\",\"steelblue\",\"steelblue\",\"steelblue\",\"steelblue\",\"steelblue\",\"steelblue\",\"steelblue\",\"steelblue\",\"steelblue\",\"steelblue\",\"steelblue\",\"steelblue\",\"steelblue\",\"steelblue\",\"steelblue\",\"steelblue\"],\"line_color\":[\"steelblue\",\"steelblue\",\"steelblue\",\"steelblue\",\"steelblue\",\"steelblue\",\"steelblue\",\"steelblue\",\"steelblue\",\"steelblue\",\"steelblue\",\"steelblue\",\"steelblue\",\"steelblue\",\"steelblue\",\"steelblue\",\"steelblue\",\"steelblue\"],\"x\":[0,2,4,8,12,14,18,10,14,19,19,10,12,17,13,18,12,20],\"y\":[8,5,2,6,7,8,9,6,7,7,6,4,6,6,4,2,0,1]},\"selected\":{\"id\":\"1067\"},\"selection_policy\":{\"id\":\"1066\"}},\"id\":\"1038\",\"type\":\"ColumnDataSource\"},{\"attributes\":{\"end\":21.7,\"start\":-1.7000000000000002},\"id\":\"1005\",\"type\":\"Range1d\"},{\"attributes\":{\"data_source\":{\"id\":\"1039\"},\"glyph\":{\"id\":\"1042\"},\"hover_glyph\":{\"id\":\"1044\"},\"muted_glyph\":null,\"nonselection_glyph\":{\"id\":\"1043\"},\"selection_glyph\":null,\"view\":{\"id\":\"1046\"}},\"id\":\"1045\",\"type\":\"GlyphRenderer\"},{\"attributes\":{\"line_alpha\":{\"field\":\"visible\"},\"line_width\":{\"value\":6},\"xs\":{\"field\":\"xs\"},\"ys\":{\"field\":\"ys\"}},\"id\":\"1044\",\"type\":\"MultiLine\"},{\"attributes\":{\"data\":{\"text\":[25,20,9,10,10,17,7,15,15,18,7,5,6,10,6,6,14,18,15,16,5,12,5,5,6,10,10,15,12,10,5,17,7,8,10,8,10,9,4,21,25],\"x\":[1.0,4.0,5.0,3.0,6.0,10.0,9.0,7.0,8.5,8.0,11.0,11.0,11.5,11.5,12.5,12.5,12.0,14.5,15.0,16.0,13.0,13.0,11.0,14.5,15.0,13.0,11.0,12.0,16.0,16.5,14.0,16.0,16.5,16.5,15.5,18.0,18.0,17.5,19.0,18.5,19.5],\"y\":[6.5,7.0,5.5,3.5,4.0,3.0,5.0,3.0,3.0,1.0,5.5,5.0,4.0,5.0,5.0,2.0,3.0,3.0,1.0,0.5,7.5,7.0,6.5,6.0,4.0,6.5,6.0,7.0,8.5,7.5,7.5,8.0,7.0,6.5,6.5,6.5,6.0,4.0,1.5,4.0,3.5]},\"selected\":{\"id\":\"1062\"},\"selection_policy\":{\"id\":\"1061\"}},\"id\":\"1040\",\"type\":\"ColumnDataSource\"},{\"attributes\":{\"source\":{\"id\":\"1039\"}},\"id\":\"1046\",\"type\":\"CDSView\"},{\"attributes\":{\"axis\":{\"id\":\"1017\"},\"dimension\":1,\"grid_line_color\":null,\"ticker\":null},\"id\":\"1020\",\"type\":\"Grid\"},{\"attributes\":{\"fill_color\":{\"field\":\"fill_color\"},\"line_color\":{\"field\":\"line_color\"},\"size\":{\"units\":\"screen\",\"value\":12},\"x\":{\"field\":\"x\"},\"y\":{\"field\":\"y\"}},\"id\":\"1048\",\"type\":\"Circle\"},{\"attributes\":{},\"id\":\"1018\",\"type\":\"BasicTicker\"}],\"root_ids\":[\"1069\"]},\"title\":\"Bokeh Application\",\"version\":\"2.2.3\"}};\n",
       "  var render_items = [{\"docid\":\"519c1ef9-2ad0-461a-a42c-19b101c1aff0\",\"root_ids\":[\"1069\"],\"roots\":{\"1069\":\"f37b16b7-ebdb-426a-893a-b6c34f4d6ebc\"}}];\n",
       "  root.Bokeh.embed.embed_items_notebook(docs_json, render_items);\n",
       "\n",
       "  }\n",
       "  if (root.Bokeh !== undefined) {\n",
       "    embed_document(root);\n",
       "  } else {\n",
       "    var attempts = 0;\n",
       "    var timer = setInterval(function(root) {\n",
       "      if (root.Bokeh !== undefined) {\n",
       "        clearInterval(timer);\n",
       "        embed_document(root);\n",
       "      } else {\n",
       "        attempts++;\n",
       "        if (attempts > 100) {\n",
       "          clearInterval(timer);\n",
       "          console.log(\"Bokeh: ERROR: Unable to run BokehJS code because BokehJS library is missing\");\n",
       "        }\n",
       "      }\n",
       "    }, 10, root)\n",
       "  }\n",
       "})(window);"
      ],
      "application/vnd.bokehjs_exec.v0+json": ""
     },
     "metadata": {
      "application/vnd.bokehjs_exec.v0+json": {
       "id": "1069"
      }
     },
     "output_type": "display_data"
    }
   ],
   "source": [
    "# get shortest path tree and visualize\n",
    "shortest_path_tree = dijkstras(G, s=12)\n",
    "plot_graph(G, edges=shortest_path_tree)"
   ]
  },
  {
   "cell_type": "code",
   "execution_count": 4,
   "metadata": {
    "scrolled": false
   },
   "outputs": [
    {
     "data": {
      "text/html": [
       "\n",
       "\n",
       "\n",
       "\n",
       "\n",
       "\n",
       "  <div class=\"bk-root\" id=\"a9e17814-b441-4205-a911-4abf726b1994\" data-root-id=\"1297\"></div>\n"
      ]
     },
     "metadata": {},
     "output_type": "display_data"
    },
    {
     "data": {
      "application/javascript": [
       "(function(root) {\n",
       "  function embed_document(root) {\n",
       "    \n",
       "  var docs_json = {\"1c987696-b728-4354-8966-5cb32f3dc62a\":{\"roots\":{\"references\":[{\"attributes\":{\"children\":[[{\"id\":\"1142\"},0,0],[{\"id\":\"1224\"},1,0],[{\"id\":\"1232\"},2,0],[{\"id\":\"1233\"},3,0]]},\"id\":\"1297\",\"type\":\"GridBox\"},{\"attributes\":{\"source\":{\"id\":\"1204\"}},\"id\":\"1225\",\"type\":\"CDSView\"},{\"attributes\":{\"background_fill_color\":null,\"below\":[{\"id\":\"1153\"}],\"border_fill_color\":null,\"center\":[{\"id\":\"1156\"},{\"id\":\"1160\"},{\"id\":\"1196\"}],\"left\":[{\"id\":\"1157\"}],\"outline_line_color\":null,\"plot_height\":500,\"plot_width\":900,\"renderers\":[{\"id\":\"1189\"},{\"id\":\"1194\"},{\"id\":\"1202\"}],\"title\":{\"id\":\"1143\"},\"toolbar\":{\"id\":\"1168\"},\"toolbar_location\":null,\"x_range\":{\"id\":\"1145\"},\"x_scale\":{\"id\":\"1149\"},\"y_range\":{\"id\":\"1147\"},\"y_scale\":{\"id\":\"1151\"}},\"id\":\"1142\",\"subtype\":\"Figure\",\"type\":\"Plot\"},{\"attributes\":{\"data\":{\"line_color\":[\"lightgray\",\"lightgray\",\"lightgray\",\"lightgray\",\"lightgray\",\"lightgray\",\"lightgray\",\"lightgray\",\"lightgray\",\"lightgray\",\"lightgray\",\"lightgray\",\"lightgray\",\"lightgray\",\"lightgray\",\"lightgray\",\"lightgray\",\"lightgray\",\"lightgray\",\"lightgray\",\"lightgray\",\"lightgray\",\"lightgray\",\"lightgray\",\"lightgray\",\"lightgray\",\"lightgray\",\"lightgray\",\"lightgray\",\"lightgray\",\"lightgray\",\"lightgray\",\"lightgray\",\"lightgray\",\"lightgray\",\"lightgray\",\"lightgray\",\"lightgray\",\"lightgray\",\"lightgray\",\"lightgray\"],\"visible\":[true,true,true,true,true,true,true,true,true,true,true,true,true,true,true,true,true,true,true,true,true,true,true,true,true,true,true,true,true,true,true,true,true,true,true,true,true,true,true,true,true],\"weight\":[25,20,9,10,10,17,7,15,15,18,7,5,6,10,6,6,14,18,15,16,5,12,5,5,6,10,10,15,12,10,5,17,7,8,10,8,10,9,4,21,25],\"xs\":[[0,2],[0,8],[2,8],[2,4],[8,4],[8,12],[8,10],[4,10],[4,13],[4,12],[10,12],[10,12],[10,13],[13,10],[13,12],[13,12],[12,12],[12,17],[12,18],[12,20],[12,14],[12,14],[12,10],[12,17],[12,18],[12,14],[12,10],[14,10],[14,18],[14,19],[14,14],[14,18],[14,19],[14,19],[14,17],[19,17],[17,19],[17,18],[18,20],[18,19],[20,19]],\"ys\":[[8,5],[8,6],[5,6],[5,2],[6,2],[6,0],[6,4],[2,4],[2,4],[2,0],[4,7],[4,6],[4,4],[4,6],[4,6],[4,0],[0,6],[0,6],[0,2],[0,1],[7,8],[7,7],[7,6],[6,6],[6,2],[6,7],[6,6],[8,6],[8,9],[8,7],[8,7],[7,9],[7,7],[7,6],[7,6],[7,6],[6,6],[6,2],[2,1],[2,6],[1,6]]},\"selected\":{\"id\":\"1243\"},\"selection_policy\":{\"id\":\"1242\"}},\"id\":\"1179\",\"type\":\"ColumnDataSource\"},{\"attributes\":{\"button_type\":\"success\",\"icon\":null,\"js_event_callbacks\":{\"button_click\":[{\"id\":\"1227\"}]},\"label\":\"Next\",\"sizing_mode\":\"scale_width\",\"width_policy\":\"fit\"},\"id\":\"1226\",\"type\":\"Button\"},{\"attributes\":{},\"id\":\"1269\",\"type\":\"StringFormatter\"},{\"attributes\":{\"editor\":{\"id\":\"1256\"},\"field\":\"1\",\"formatter\":{\"id\":\"1255\"},\"title\":\"1\"},\"id\":\"1207\",\"type\":\"TableColumn\"},{\"attributes\":{\"args\":{\"done\":{\"id\":\"1184\"},\"edge_subset_src\":{\"id\":\"1198\"},\"k\":{\"id\":\"1183\"},\"n\":{\"id\":\"1182\"},\"nodes_src\":{\"id\":\"1178\"},\"source\":{\"id\":\"1181\"},\"table_src\":{\"id\":\"1204\"}},\"code\":\"\\nif ((parseInt(n.text) + 1) < parseInt(k.text)) {\\n    n.text = (parseInt(n.text) + 1).toString()\\n}\\nvar iteration = parseInt(n.text)\\n\\nif (iteration == parseInt(k.text) - 1) {\\n    done.text = \\\"done.\\\"\\n} else {\\n    done.text = \\\"\\\"\\n}\\n\\nedge_subset_src.data['xs'] = source.data['edge_xs'][iteration]\\nedge_subset_src.data['ys'] = source.data['edge_ys'][iteration]\\nedge_subset_src.change.emit()\\n\\ntable_src.data = source.data['tables'][iteration]\\n\\nvar in_tree = source.data['nodes'][iteration]\\n\\nfor (let i = 0; i < nodes_src.data['line_color'].length ; i++) {\\n    if (in_tree.includes(i)) {\\n        nodes_src.data['fill_color'][i] = 'steelblue'\\n        nodes_src.data['line_color'][i] = 'steelblue'\\n    } else {\\n        nodes_src.data['fill_color'][i] = '#EA8585'\\n        nodes_src.data['line_color'][i] = '#EA8585'\\n    }\\n}\\n\\nnodes_src.change.emit()\\n\"},\"id\":\"1227\",\"type\":\"CustomJS\"},{\"attributes\":{},\"id\":\"1270\",\"type\":\"StringEditor\"},{\"attributes\":{\"button_type\":\"success\",\"icon\":null,\"js_event_callbacks\":{\"button_click\":[{\"id\":\"1229\"}]},\"label\":\"Previous\",\"sizing_mode\":\"scale_width\",\"width_policy\":\"fit\"},\"id\":\"1228\",\"type\":\"Button\"},{\"attributes\":{},\"id\":\"1271\",\"type\":\"StringFormatter\"},{\"attributes\":{\"editor\":{\"id\":\"1258\"},\"field\":\"2\",\"formatter\":{\"id\":\"1257\"},\"title\":\"2\"},\"id\":\"1208\",\"type\":\"TableColumn\"},{\"attributes\":{\"args\":{\"done\":{\"id\":\"1184\"},\"edge_subset_src\":{\"id\":\"1198\"},\"k\":{\"id\":\"1183\"},\"n\":{\"id\":\"1182\"},\"nodes_src\":{\"id\":\"1178\"},\"source\":{\"id\":\"1181\"},\"table_src\":{\"id\":\"1204\"}},\"code\":\"\\nif ((parseInt(n.text) - 1) >= 0) {\\n    n.text = (parseInt(n.text) - 1).toString()\\n}\\nvar iteration = parseInt(n.text)\\n\\nif (iteration == parseInt(k.text) - 1) {\\n    done.text = \\\"done.\\\"\\n} else {\\n    done.text = \\\"\\\"\\n}\\n\\nedge_subset_src.data['xs'] = source.data['edge_xs'][iteration]\\nedge_subset_src.data['ys'] = source.data['edge_ys'][iteration]\\nedge_subset_src.change.emit()\\n\\ntable_src.data = source.data['tables'][iteration]\\n\\nvar in_tree = source.data['nodes'][iteration]\\n\\nfor (let i = 0; i < nodes_src.data['line_color'].length ; i++) {\\n    if (in_tree.includes(i)) {\\n        nodes_src.data['fill_color'][i] = 'steelblue'\\n        nodes_src.data['line_color'][i] = 'steelblue'\\n    } else {\\n        nodes_src.data['fill_color'][i] = '#EA8585'\\n        nodes_src.data['line_color'][i] = '#EA8585'\\n    }\\n}\\n\\nnodes_src.change.emit()\\n\"},\"id\":\"1229\",\"type\":\"CustomJS\"},{\"attributes\":{},\"id\":\"1272\",\"type\":\"StringEditor\"},{\"attributes\":{\"callback\":null,\"renderers\":[{\"id\":\"1194\"}],\"tooltips\":[[\"Node\",\"$index\"]]},\"id\":\"1230\",\"type\":\"HoverTool\"},{\"attributes\":{},\"id\":\"1273\",\"type\":\"StringFormatter\"},{\"attributes\":{\"children\":[{\"id\":\"1228\"},{\"id\":\"1226\"}],\"max_width\":900,\"sizing_mode\":\"stretch_both\"},\"id\":\"1232\",\"type\":\"Row\"},{\"attributes\":{\"text\":\"\"},\"id\":\"1143\",\"type\":\"Title\"},{\"attributes\":{\"editor\":{\"id\":\"1260\"},\"field\":\"3\",\"formatter\":{\"id\":\"1259\"},\"title\":\"3\"},\"id\":\"1209\",\"type\":\"TableColumn\"},{\"attributes\":{},\"id\":\"1274\",\"type\":\"StringEditor\"},{\"attributes\":{\"children\":[{\"id\":\"1184\"}]},\"id\":\"1233\",\"type\":\"Row\"},{\"attributes\":{},\"id\":\"1275\",\"type\":\"StringFormatter\"},{\"attributes\":{\"end\":21.7,\"start\":-1.7000000000000002},\"id\":\"1145\",\"type\":\"Range1d\"},{\"attributes\":{\"editor\":{\"id\":\"1262\"},\"field\":\"4\",\"formatter\":{\"id\":\"1261\"},\"title\":\"4\"},\"id\":\"1210\",\"type\":\"TableColumn\"},{\"attributes\":{},\"id\":\"1276\",\"type\":\"StringEditor\"},{\"attributes\":{\"end\":9.765,\"start\":-0.765},\"id\":\"1147\",\"type\":\"Range1d\"},{\"attributes\":{\"align\":\"center\",\"text\":\"0\",\"width\":900},\"id\":\"1182\",\"type\":\"Div\"},{\"attributes\":{},\"id\":\"1236\",\"type\":\"BasicTickFormatter\"},{\"attributes\":{},\"id\":\"1277\",\"type\":\"StringFormatter\"},{\"attributes\":{},\"id\":\"1149\",\"type\":\"LinearScale\"},{\"attributes\":{\"editor\":{\"id\":\"1264\"},\"field\":\"5\",\"formatter\":{\"id\":\"1263\"},\"title\":\"5\"},\"id\":\"1211\",\"type\":\"TableColumn\"},{\"attributes\":{\"align\":\"center\",\"text\":\"19\",\"width\":900},\"id\":\"1183\",\"type\":\"Div\"},{\"attributes\":{},\"id\":\"1238\",\"type\":\"BasicTickFormatter\"},{\"attributes\":{},\"id\":\"1278\",\"type\":\"StringEditor\"},{\"attributes\":{},\"id\":\"1151\",\"type\":\"LinearScale\"},{\"attributes\":{},\"id\":\"1279\",\"type\":\"StringFormatter\"},{\"attributes\":{},\"id\":\"1239\",\"type\":\"UnionRenderers\"},{\"attributes\":{\"formatter\":{\"id\":\"1236\"},\"ticker\":{\"id\":\"1154\"},\"visible\":false},\"id\":\"1153\",\"type\":\"LinearAxis\"},{\"attributes\":{\"editor\":{\"id\":\"1266\"},\"field\":\"6\",\"formatter\":{\"id\":\"1265\"},\"title\":\"6\"},\"id\":\"1212\",\"type\":\"TableColumn\"},{\"attributes\":{\"data\":{\"edge_xs\":[[],[[12,10],[12,14],[10,12],[12,17],[13,12],[12,18],[12,12]],[[12,10],[12,14],[19,17],[17,19],[10,12],[12,17],[13,12],[12,18],[12,12]],[[4,10],[8,10],[10,12],[12,10],[12,14],[19,17],[17,19],[10,12],[12,17],[13,12],[12,18],[12,12]],[[4,10],[8,10],[10,12],[12,10],[12,14],[19,17],[17,19],[10,12],[12,17],[13,12],[12,18],[12,12],[18,20]],[[4,10],[8,10],[10,12],[12,10],[12,14],[19,17],[17,19],[10,12],[12,17],[13,12],[12,18],[13,12],[18,20]],[[4,10],[8,10],[10,12],[12,10],[12,14],[19,17],[17,19],[10,12],[12,17],[13,12],[12,18],[13,12],[18,20]],[[4,10],[8,10],[10,12],[14,10],[12,10],[12,14],[19,17],[17,19],[10,12],[12,17],[13,12],[12,18],[13,12],[18,20]],[[4,10],[8,10],[10,12],[14,14],[14,18],[12,10],[12,14],[19,17],[17,19],[10,12],[12,17],[13,12],[12,18],[13,12],[18,20]],[[4,10],[8,10],[10,12],[14,14],[14,18],[12,10],[12,14],[19,17],[17,19],[10,12],[12,17],[13,12],[12,18],[13,12],[18,20]],[[0,8],[2,8],[4,10],[8,10],[10,12],[14,14],[14,18],[12,10],[12,14],[19,17],[17,19],[10,12],[12,17],[13,12],[12,18],[13,12],[18,20]],[[0,8],[2,8],[4,10],[8,10],[10,12],[14,14],[14,18],[12,10],[12,14],[19,17],[17,19],[10,12],[12,17],[13,12],[12,18],[13,12],[18,20]],[[0,8],[2,8],[4,10],[8,10],[10,12],[14,14],[14,18],[12,10],[12,14],[19,17],[17,19],[10,12],[12,17],[13,12],[12,18],[13,12],[18,20]],[[0,8],[2,8],[4,10],[8,10],[10,12],[14,14],[14,18],[12,10],[12,14],[19,17],[17,19],[10,12],[12,17],[13,12],[12,18],[13,12],[18,20]],[[0,8],[2,8],[4,10],[8,10],[10,12],[14,14],[14,18],[12,10],[12,14],[19,17],[17,19],[10,12],[12,17],[13,12],[12,18],[13,12],[18,20]],[[0,8],[2,8],[4,10],[8,10],[10,12],[14,14],[14,18],[12,10],[12,14],[19,17],[17,19],[10,12],[12,17],[13,12],[12,18],[13,12],[18,20]],[[0,8],[2,8],[4,10],[8,10],[10,12],[14,14],[14,18],[12,10],[12,14],[19,17],[17,19],[10,12],[12,17],[13,12],[12,18],[13,12],[18,20]],[[0,8],[2,8],[4,10],[8,10],[10,12],[14,14],[14,18],[12,10],[12,14],[19,17],[17,19],[10,12],[12,17],[13,12],[12,18],[13,12],[18,20]],[[0,8],[2,8],[4,10],[8,10],[10,12],[14,14],[14,18],[12,10],[12,14],[19,17],[17,19],[10,12],[12,17],[13,12],[12,18],[13,12],[18,20]]],\"edge_ys\":[[],[[6,6],[6,7],[4,6],[6,6],[4,6],[6,2],[0,6]],[[6,6],[6,7],[7,6],[6,6],[4,6],[6,6],[4,6],[6,2],[0,6]],[[2,4],[6,4],[4,7],[6,6],[6,7],[7,6],[6,6],[4,6],[6,6],[4,6],[6,2],[0,6]],[[2,4],[6,4],[4,7],[6,6],[6,7],[7,6],[6,6],[4,6],[6,6],[4,6],[6,2],[0,6],[2,1]],[[2,4],[6,4],[4,7],[6,6],[6,7],[7,6],[6,6],[4,6],[6,6],[4,6],[6,2],[4,0],[2,1]],[[2,4],[6,4],[4,7],[6,6],[6,7],[7,6],[6,6],[4,6],[6,6],[4,6],[6,2],[4,0],[2,1]],[[2,4],[6,4],[4,7],[8,6],[6,6],[6,7],[7,6],[6,6],[4,6],[6,6],[4,6],[6,2],[4,0],[2,1]],[[2,4],[6,4],[4,7],[8,7],[7,9],[6,6],[6,7],[7,6],[6,6],[4,6],[6,6],[4,6],[6,2],[4,0],[2,1]],[[2,4],[6,4],[4,7],[8,7],[7,9],[6,6],[6,7],[7,6],[6,6],[4,6],[6,6],[4,6],[6,2],[4,0],[2,1]],[[8,6],[5,6],[2,4],[6,4],[4,7],[8,7],[7,9],[6,6],[6,7],[7,6],[6,6],[4,6],[6,6],[4,6],[6,2],[4,0],[2,1]],[[8,6],[5,6],[2,4],[6,4],[4,7],[8,7],[7,9],[6,6],[6,7],[7,6],[6,6],[4,6],[6,6],[4,6],[6,2],[4,0],[2,1]],[[8,6],[5,6],[2,4],[6,4],[4,7],[8,7],[7,9],[6,6],[6,7],[7,6],[6,6],[4,6],[6,6],[4,6],[6,2],[4,0],[2,1]],[[8,6],[5,6],[2,4],[6,4],[4,7],[8,7],[7,9],[6,6],[6,7],[7,6],[6,6],[4,6],[6,6],[4,6],[6,2],[4,0],[2,1]],[[8,6],[5,6],[2,4],[6,4],[4,7],[8,7],[7,9],[6,6],[6,7],[7,6],[6,6],[4,6],[6,6],[4,6],[6,2],[4,0],[2,1]],[[8,6],[5,6],[2,4],[6,4],[4,7],[8,7],[7,9],[6,6],[6,7],[7,6],[6,6],[4,6],[6,6],[4,6],[6,2],[4,0],[2,1]],[[8,6],[5,6],[2,4],[6,4],[4,7],[8,7],[7,9],[6,6],[6,7],[7,6],[6,6],[4,6],[6,6],[4,6],[6,2],[4,0],[2,1]],[[8,6],[5,6],[2,4],[6,4],[4,7],[8,7],[7,9],[6,6],[6,7],[7,6],[6,6],[4,6],[6,6],[4,6],[6,2],[4,0],[2,1]],[[8,6],[5,6],[2,4],[6,4],[4,7],[8,7],[7,9],[6,6],[6,7],[7,6],[6,6],[4,6],[6,6],[4,6],[6,2],[4,0],[2,1]]],\"nodes\":[[],[12],[12,13],[12,13,11],[12,13,11,15],[12,13,11,15,14],[12,13,11,15,14,17],[12,13,11,15,14,17,7],[12,13,11,15,14,17,7,8],[12,13,11,15,14,17,7,8,4],[12,13,11,15,14,17,7,8,4,3],[12,13,11,15,14,17,7,8,4,3,16],[12,13,11,15,14,17,7,8,4,3,16,9],[12,13,11,15,14,17,7,8,4,3,16,9,10],[12,13,11,15,14,17,7,8,4,3,16,9,10,5],[12,13,11,15,14,17,7,8,4,3,16,9,10,5,2],[12,13,11,15,14,17,7,8,4,3,16,9,10,5,2,1],[12,13,11,15,14,17,7,8,4,3,16,9,10,5,2,1,6],[12,13,11,15,14,17,7,8,4,3,16,9,10,5,2,1,6,0]],\"tables\":[{\"0\":[\"inf\",\"-\"],\"1\":[\"inf\",\"-\"],\"10\":[\"inf\",\"-\"],\"11\":[\"inf\",\"-\"],\"12\":[\"0.0\",\"-\"],\"13\":[\"inf\",\"-\"],\"14\":[\"inf\",\"-\"],\"15\":[\"inf\",\"-\"],\"16\":[\"inf\",\"-\"],\"17\":[\"inf\",\"-\"],\"2\":[\"inf\",\"-\"],\"3\":[\"inf\",\"-\"],\"4\":[\"inf\",\"-\"],\"5\":[\"inf\",\"-\"],\"6\":[\"inf\",\"-\"],\"7\":[\"inf\",\"-\"],\"8\":[\"inf\",\"-\"],\"9\":[\"inf\",\"-\"],\"index\":[\"label\",\"prev\"]},{\"0\":[\"inf\",\"-\"],\"1\":[\"inf\",\"-\"],\"10\":[\"inf\",\"-\"],\"11\":[\"5.0\",12],\"12\":[\"0.0*\",\"-\"],\"13\":[\"5.0\",12],\"14\":[\"6.0\",12],\"15\":[\"6.0\",12],\"16\":[\"14.0\",12],\"17\":[\"inf\",\"-\"],\"2\":[\"inf\",\"-\"],\"3\":[\"inf\",\"-\"],\"4\":[\"inf\",\"-\"],\"5\":[\"inf\",\"-\"],\"6\":[\"inf\",\"-\"],\"7\":[\"10.0\",12],\"8\":[\"10.0\",12],\"9\":[\"inf\",\"-\"],\"index\":[\"label\",\"prev\"]},{\"0\":[\"inf\",\"-\"],\"1\":[\"inf\",\"-\"],\"10\":[\"15.0\",13],\"11\":[\"5.0\",12],\"12\":[\"0.0*\",\"-\"],\"13\":[\"5.0*\",12],\"14\":[\"6.0\",12],\"15\":[\"6.0\",12],\"16\":[\"14.0\",12],\"17\":[\"inf\",\"-\"],\"2\":[\"inf\",\"-\"],\"3\":[\"inf\",\"-\"],\"4\":[\"inf\",\"-\"],\"5\":[\"inf\",\"-\"],\"6\":[\"inf\",\"-\"],\"7\":[\"10.0\",12],\"8\":[\"10.0\",12],\"9\":[\"13.0\",13],\"index\":[\"label\",\"prev\"]},{\"0\":[\"inf\",\"-\"],\"1\":[\"inf\",\"-\"],\"10\":[\"15.0\",13],\"11\":[\"5.0*\",12],\"12\":[\"0.0*\",\"-\"],\"13\":[\"5.0*\",12],\"14\":[\"6.0\",12],\"15\":[\"6.0\",12],\"16\":[\"14.0\",12],\"17\":[\"inf\",\"-\"],\"2\":[\"20.0\",11],\"3\":[\"12.0\",11],\"4\":[\"12.0\",11],\"5\":[\"inf\",\"-\"],\"6\":[\"inf\",\"-\"],\"7\":[\"10.0\",12],\"8\":[\"10.0\",12],\"9\":[\"13.0\",13],\"index\":[\"label\",\"prev\"]},{\"0\":[\"inf\",\"-\"],\"1\":[\"inf\",\"-\"],\"10\":[\"15.0\",13],\"11\":[\"5.0*\",12],\"12\":[\"0.0*\",\"-\"],\"13\":[\"5.0*\",12],\"14\":[\"6.0\",12],\"15\":[\"6.0*\",12],\"16\":[\"14.0\",12],\"17\":[\"10.0\",15],\"2\":[\"20.0\",11],\"3\":[\"12.0\",11],\"4\":[\"12.0\",11],\"5\":[\"inf\",\"-\"],\"6\":[\"inf\",\"-\"],\"7\":[\"10.0\",12],\"8\":[\"10.0\",12],\"9\":[\"13.0\",13],\"index\":[\"label\",\"prev\"]},{\"0\":[\"inf\",\"-\"],\"1\":[\"inf\",\"-\"],\"10\":[\"15.0\",13],\"11\":[\"5.0*\",12],\"12\":[\"0.0*\",\"-\"],\"13\":[\"5.0*\",12],\"14\":[\"6.0*\",12],\"15\":[\"6.0*\",12],\"16\":[\"12.0\",14],\"17\":[\"10.0\",15],\"2\":[\"20.0\",11],\"3\":[\"12.0\",11],\"4\":[\"12.0\",11],\"5\":[\"inf\",\"-\"],\"6\":[\"inf\",\"-\"],\"7\":[\"10.0\",12],\"8\":[\"10.0\",12],\"9\":[\"13.0\",13],\"index\":[\"label\",\"prev\"]},{\"0\":[\"inf\",\"-\"],\"1\":[\"inf\",\"-\"],\"10\":[\"15.0\",13],\"11\":[\"5.0*\",12],\"12\":[\"0.0*\",\"-\"],\"13\":[\"5.0*\",12],\"14\":[\"6.0*\",12],\"15\":[\"6.0*\",12],\"16\":[\"12.0\",14],\"17\":[\"10.0*\",15],\"2\":[\"20.0\",11],\"3\":[\"12.0\",11],\"4\":[\"12.0\",11],\"5\":[\"inf\",\"-\"],\"6\":[\"inf\",\"-\"],\"7\":[\"10.0\",12],\"8\":[\"10.0\",12],\"9\":[\"13.0\",13],\"index\":[\"label\",\"prev\"]},{\"0\":[\"inf\",\"-\"],\"1\":[\"inf\",\"-\"],\"10\":[\"15.0\",13],\"11\":[\"5.0*\",12],\"12\":[\"0.0*\",\"-\"],\"13\":[\"5.0*\",12],\"14\":[\"6.0*\",12],\"15\":[\"6.0*\",12],\"16\":[\"12.0\",14],\"17\":[\"10.0*\",15],\"2\":[\"20.0\",11],\"3\":[\"12.0\",11],\"4\":[\"12.0\",11],\"5\":[\"25.0\",7],\"6\":[\"inf\",\"-\"],\"7\":[\"10.0*\",12],\"8\":[\"10.0\",12],\"9\":[\"13.0\",13],\"index\":[\"label\",\"prev\"]},{\"0\":[\"inf\",\"-\"],\"1\":[\"inf\",\"-\"],\"10\":[\"15.0\",13],\"11\":[\"5.0*\",12],\"12\":[\"0.0*\",\"-\"],\"13\":[\"5.0*\",12],\"14\":[\"6.0*\",12],\"15\":[\"6.0*\",12],\"16\":[\"12.0\",14],\"17\":[\"10.0*\",15],\"2\":[\"20.0\",11],\"3\":[\"12.0\",11],\"4\":[\"12.0\",11],\"5\":[\"15.0\",8],\"6\":[\"27.0\",8],\"7\":[\"10.0*\",12],\"8\":[\"10.0*\",12],\"9\":[\"13.0\",13],\"index\":[\"label\",\"prev\"]},{\"0\":[\"inf\",\"-\"],\"1\":[\"inf\",\"-\"],\"10\":[\"15.0\",13],\"11\":[\"5.0*\",12],\"12\":[\"0.0*\",\"-\"],\"13\":[\"5.0*\",12],\"14\":[\"6.0*\",12],\"15\":[\"6.0*\",12],\"16\":[\"12.0\",14],\"17\":[\"10.0*\",15],\"2\":[\"20.0\",11],\"3\":[\"12.0\",11],\"4\":[\"12.0*\",11],\"5\":[\"15.0\",8],\"6\":[\"27.0\",8],\"7\":[\"10.0*\",12],\"8\":[\"10.0*\",12],\"9\":[\"13.0\",13],\"index\":[\"label\",\"prev\"]},{\"0\":[\"32.0\",3],\"1\":[\"21.0\",3],\"10\":[\"15.0\",13],\"11\":[\"5.0*\",12],\"12\":[\"0.0*\",\"-\"],\"13\":[\"5.0*\",12],\"14\":[\"6.0*\",12],\"15\":[\"6.0*\",12],\"16\":[\"12.0\",14],\"17\":[\"10.0*\",15],\"2\":[\"20.0\",11],\"3\":[\"12.0*\",11],\"4\":[\"12.0*\",11],\"5\":[\"15.0\",8],\"6\":[\"27.0\",8],\"7\":[\"10.0*\",12],\"8\":[\"10.0*\",12],\"9\":[\"13.0\",13],\"index\":[\"label\",\"prev\"]},{\"0\":[\"32.0\",3],\"1\":[\"21.0\",3],\"10\":[\"15.0\",13],\"11\":[\"5.0*\",12],\"12\":[\"0.0*\",\"-\"],\"13\":[\"5.0*\",12],\"14\":[\"6.0*\",12],\"15\":[\"6.0*\",12],\"16\":[\"12.0*\",14],\"17\":[\"10.0*\",15],\"2\":[\"20.0\",11],\"3\":[\"12.0*\",11],\"4\":[\"12.0*\",11],\"5\":[\"15.0\",8],\"6\":[\"27.0\",8],\"7\":[\"10.0*\",12],\"8\":[\"10.0*\",12],\"9\":[\"13.0\",13],\"index\":[\"label\",\"prev\"]},{\"0\":[\"32.0\",3],\"1\":[\"21.0\",3],\"10\":[\"15.0\",13],\"11\":[\"5.0*\",12],\"12\":[\"0.0*\",\"-\"],\"13\":[\"5.0*\",12],\"14\":[\"6.0*\",12],\"15\":[\"6.0*\",12],\"16\":[\"12.0*\",14],\"17\":[\"10.0*\",15],\"2\":[\"20.0\",11],\"3\":[\"12.0*\",11],\"4\":[\"12.0*\",11],\"5\":[\"15.0\",8],\"6\":[\"27.0\",8],\"7\":[\"10.0*\",12],\"8\":[\"10.0*\",12],\"9\":[\"13.0*\",13],\"index\":[\"label\",\"prev\"]},{\"0\":[\"32.0\",3],\"1\":[\"21.0\",3],\"10\":[\"15.0*\",13],\"11\":[\"5.0*\",12],\"12\":[\"0.0*\",\"-\"],\"13\":[\"5.0*\",12],\"14\":[\"6.0*\",12],\"15\":[\"6.0*\",12],\"16\":[\"12.0*\",14],\"17\":[\"10.0*\",15],\"2\":[\"20.0\",11],\"3\":[\"12.0*\",11],\"4\":[\"12.0*\",11],\"5\":[\"15.0\",8],\"6\":[\"27.0\",8],\"7\":[\"10.0*\",12],\"8\":[\"10.0*\",12],\"9\":[\"13.0*\",13],\"index\":[\"label\",\"prev\"]},{\"0\":[\"32.0\",3],\"1\":[\"21.0\",3],\"10\":[\"15.0*\",13],\"11\":[\"5.0*\",12],\"12\":[\"0.0*\",\"-\"],\"13\":[\"5.0*\",12],\"14\":[\"6.0*\",12],\"15\":[\"6.0*\",12],\"16\":[\"12.0*\",14],\"17\":[\"10.0*\",15],\"2\":[\"20.0\",11],\"3\":[\"12.0*\",11],\"4\":[\"12.0*\",11],\"5\":[\"15.0*\",8],\"6\":[\"27.0\",8],\"7\":[\"10.0*\",12],\"8\":[\"10.0*\",12],\"9\":[\"13.0*\",13],\"index\":[\"label\",\"prev\"]},{\"0\":[\"32.0\",3],\"1\":[\"21.0\",3],\"10\":[\"15.0*\",13],\"11\":[\"5.0*\",12],\"12\":[\"0.0*\",\"-\"],\"13\":[\"5.0*\",12],\"14\":[\"6.0*\",12],\"15\":[\"6.0*\",12],\"16\":[\"12.0*\",14],\"17\":[\"10.0*\",15],\"2\":[\"20.0*\",11],\"3\":[\"12.0*\",11],\"4\":[\"12.0*\",11],\"5\":[\"15.0*\",8],\"6\":[\"27.0\",8],\"7\":[\"10.0*\",12],\"8\":[\"10.0*\",12],\"9\":[\"13.0*\",13],\"index\":[\"label\",\"prev\"]},{\"0\":[\"32.0\",3],\"1\":[\"21.0*\",3],\"10\":[\"15.0*\",13],\"11\":[\"5.0*\",12],\"12\":[\"0.0*\",\"-\"],\"13\":[\"5.0*\",12],\"14\":[\"6.0*\",12],\"15\":[\"6.0*\",12],\"16\":[\"12.0*\",14],\"17\":[\"10.0*\",15],\"2\":[\"20.0*\",11],\"3\":[\"12.0*\",11],\"4\":[\"12.0*\",11],\"5\":[\"15.0*\",8],\"6\":[\"27.0\",8],\"7\":[\"10.0*\",12],\"8\":[\"10.0*\",12],\"9\":[\"13.0*\",13],\"index\":[\"label\",\"prev\"]},{\"0\":[\"32.0\",3],\"1\":[\"21.0*\",3],\"10\":[\"15.0*\",13],\"11\":[\"5.0*\",12],\"12\":[\"0.0*\",\"-\"],\"13\":[\"5.0*\",12],\"14\":[\"6.0*\",12],\"15\":[\"6.0*\",12],\"16\":[\"12.0*\",14],\"17\":[\"10.0*\",15],\"2\":[\"20.0*\",11],\"3\":[\"12.0*\",11],\"4\":[\"12.0*\",11],\"5\":[\"15.0*\",8],\"6\":[\"27.0*\",8],\"7\":[\"10.0*\",12],\"8\":[\"10.0*\",12],\"9\":[\"13.0*\",13],\"index\":[\"label\",\"prev\"]},{\"0\":[\"32.0*\",3],\"1\":[\"21.0*\",3],\"10\":[\"15.0*\",13],\"11\":[\"5.0*\",12],\"12\":[\"0.0*\",\"-\"],\"13\":[\"5.0*\",12],\"14\":[\"6.0*\",12],\"15\":[\"6.0*\",12],\"16\":[\"12.0*\",14],\"17\":[\"10.0*\",15],\"2\":[\"20.0*\",11],\"3\":[\"12.0*\",11],\"4\":[\"12.0*\",11],\"5\":[\"15.0*\",8],\"6\":[\"27.0*\",8],\"7\":[\"10.0*\",12],\"8\":[\"10.0*\",12],\"9\":[\"13.0*\",13],\"index\":[\"label\",\"prev\"]}]},\"selected\":{\"id\":\"1292\"},\"selection_policy\":{\"id\":\"1291\"}},\"id\":\"1181\",\"type\":\"ColumnDataSource\"},{\"attributes\":{},\"id\":\"1280\",\"type\":\"StringEditor\"},{\"attributes\":{},\"id\":\"1240\",\"type\":\"Selection\"},{\"attributes\":{},\"id\":\"1154\",\"type\":\"BasicTicker\"},{\"attributes\":{\"data\":{\"text\":[25,20,9,10,10,17,7,15,15,18,7,5,6,10,6,6,14,18,15,16,5,12,5,5,6,10,10,15,12,10,5,17,7,8,10,8,10,9,4,21,25],\"x\":[1.0,4.0,5.0,3.0,6.0,10.0,9.0,7.0,8.5,8.0,11.0,11.0,11.5,11.5,12.5,12.5,12.0,14.5,15.0,16.0,13.0,13.0,11.0,14.5,15.0,13.0,11.0,12.0,16.0,16.5,14.0,16.0,16.5,16.5,15.5,18.0,18.0,17.5,19.0,18.5,19.5],\"y\":[6.5,7.0,5.5,3.5,4.0,3.0,5.0,3.0,3.0,1.0,5.5,5.0,4.0,5.0,5.0,2.0,3.0,3.0,1.0,0.5,7.5,7.0,6.5,6.0,4.0,6.5,6.0,7.0,8.5,7.5,7.5,8.0,7.0,6.5,6.5,6.5,6.0,4.0,1.5,4.0,3.5]},\"selected\":{\"id\":\"1240\"},\"selection_policy\":{\"id\":\"1239\"}},\"id\":\"1180\",\"type\":\"ColumnDataSource\"},{\"attributes\":{},\"id\":\"1281\",\"type\":\"StringFormatter\"},{\"attributes\":{},\"id\":\"1242\",\"type\":\"UnionRenderers\"},{\"attributes\":{\"axis\":{\"id\":\"1153\"},\"grid_line_color\":null,\"ticker\":null},\"id\":\"1156\",\"type\":\"Grid\"},{\"attributes\":{\"editor\":{\"id\":\"1268\"},\"field\":\"7\",\"formatter\":{\"id\":\"1267\"},\"title\":\"7\"},\"id\":\"1213\",\"type\":\"TableColumn\"},{\"attributes\":{\"align\":\"center\",\"width\":450},\"id\":\"1184\",\"type\":\"Div\"},{\"attributes\":{},\"id\":\"1282\",\"type\":\"StringEditor\"},{\"attributes\":{},\"id\":\"1243\",\"type\":\"Selection\"},{\"attributes\":{\"formatter\":{\"id\":\"1238\"},\"ticker\":{\"id\":\"1158\"},\"visible\":false},\"id\":\"1157\",\"type\":\"LinearAxis\"},{\"attributes\":{},\"id\":\"1283\",\"type\":\"StringFormatter\"},{\"attributes\":{},\"id\":\"1244\",\"type\":\"UnionRenderers\"},{\"attributes\":{\"editor\":{\"id\":\"1270\"},\"field\":\"8\",\"formatter\":{\"id\":\"1269\"},\"title\":\"8\"},\"id\":\"1214\",\"type\":\"TableColumn\"},{\"attributes\":{},\"id\":\"1158\",\"type\":\"BasicTicker\"},{\"attributes\":{\"source\":{\"id\":\"1178\"}},\"id\":\"1195\",\"type\":\"CDSView\"},{\"attributes\":{},\"id\":\"1284\",\"type\":\"StringEditor\"},{\"attributes\":{},\"id\":\"1245\",\"type\":\"Selection\"},{\"attributes\":{\"axis\":{\"id\":\"1157\"},\"dimension\":1,\"grid_line_color\":null,\"ticker\":null},\"id\":\"1160\",\"type\":\"Grid\"},{\"attributes\":{\"line_alpha\":{\"field\":\"visible\"},\"line_color\":{\"field\":\"line_color\"},\"line_width\":{\"value\":6},\"xs\":{\"field\":\"xs\"},\"ys\":{\"field\":\"ys\"}},\"id\":\"1186\",\"type\":\"MultiLine\"},{\"attributes\":{\"data_source\":{\"id\":\"1179\"},\"glyph\":{\"id\":\"1186\"},\"hover_glyph\":{\"id\":\"1188\"},\"muted_glyph\":null,\"nonselection_glyph\":{\"id\":\"1187\"},\"selection_glyph\":null,\"view\":{\"id\":\"1190\"}},\"id\":\"1189\",\"type\":\"GlyphRenderer\"},{\"attributes\":{},\"id\":\"1285\",\"type\":\"StringFormatter\"},{\"attributes\":{},\"id\":\"1246\",\"type\":\"UnionRenderers\"},{\"attributes\":{\"line_color\":{\"field\":\"line_color\"},\"line_width\":{\"value\":6},\"xs\":{\"field\":\"xs\"},\"ys\":{\"field\":\"ys\"}},\"id\":\"1187\",\"type\":\"MultiLine\"},{\"attributes\":{\"editor\":{\"id\":\"1272\"},\"field\":\"9\",\"formatter\":{\"id\":\"1271\"},\"title\":\"9\"},\"id\":\"1215\",\"type\":\"TableColumn\"},{\"attributes\":{},\"id\":\"1286\",\"type\":\"StringEditor\"},{\"attributes\":{},\"id\":\"1247\",\"type\":\"Selection\"},{\"attributes\":{\"data\":{\"fill_color\":[\"#EA8585\",\"#EA8585\",\"#EA8585\",\"#EA8585\",\"#EA8585\",\"#EA8585\",\"#EA8585\",\"#EA8585\",\"#EA8585\",\"#EA8585\",\"#EA8585\",\"#EA8585\",\"#EA8585\",\"#EA8585\",\"#EA8585\",\"#EA8585\",\"#EA8585\",\"#EA8585\"],\"line_color\":[\"#EA8585\",\"#EA8585\",\"#EA8585\",\"#EA8585\",\"#EA8585\",\"#EA8585\",\"#EA8585\",\"#EA8585\",\"#EA8585\",\"#EA8585\",\"#EA8585\",\"#EA8585\",\"#EA8585\",\"#EA8585\",\"#EA8585\",\"#EA8585\",\"#EA8585\",\"#EA8585\"],\"x\":[0,2,4,8,12,14,18,10,14,19,19,10,12,17,13,18,12,20],\"y\":[8,5,2,6,7,8,9,6,7,7,6,4,6,6,4,2,0,1]},\"selected\":{\"id\":\"1245\"},\"selection_policy\":{\"id\":\"1244\"}},\"id\":\"1178\",\"type\":\"ColumnDataSource\"},{\"attributes\":{},\"id\":\"1251\",\"type\":\"StringFormatter\"},{\"attributes\":{},\"id\":\"1287\",\"type\":\"StringFormatter\"},{\"attributes\":{\"editor\":{\"id\":\"1274\"},\"field\":\"10\",\"formatter\":{\"id\":\"1273\"},\"title\":\"10\"},\"id\":\"1216\",\"type\":\"TableColumn\"},{\"attributes\":{\"line_alpha\":{\"field\":\"visible\"},\"line_width\":{\"value\":6},\"xs\":{\"field\":\"xs\"},\"ys\":{\"field\":\"ys\"}},\"id\":\"1188\",\"type\":\"MultiLine\"},{\"attributes\":{},\"id\":\"1161\",\"type\":\"PanTool\"},{\"attributes\":{},\"id\":\"1252\",\"type\":\"StringEditor\"},{\"attributes\":{},\"id\":\"1288\",\"type\":\"StringEditor\"},{\"attributes\":{\"source\":{\"id\":\"1179\"}},\"id\":\"1190\",\"type\":\"CDSView\"},{\"attributes\":{},\"id\":\"1162\",\"type\":\"WheelZoomTool\"},{\"attributes\":{},\"id\":\"1253\",\"type\":\"StringFormatter\"},{\"attributes\":{},\"id\":\"1291\",\"type\":\"UnionRenderers\"},{\"attributes\":{\"data_source\":{\"id\":\"1178\"},\"glyph\":{\"id\":\"1192\"},\"hover_glyph\":null,\"muted_glyph\":null,\"nonselection_glyph\":{\"id\":\"1193\"},\"selection_glyph\":null,\"view\":{\"id\":\"1195\"}},\"id\":\"1194\",\"type\":\"GlyphRenderer\"},{\"attributes\":{\"editor\":{\"id\":\"1276\"},\"field\":\"11\",\"formatter\":{\"id\":\"1275\"},\"title\":\"11\"},\"id\":\"1217\",\"type\":\"TableColumn\"},{\"attributes\":{\"overlay\":{\"id\":\"1167\"}},\"id\":\"1163\",\"type\":\"BoxZoomTool\"},{\"attributes\":{},\"id\":\"1254\",\"type\":\"StringEditor\"},{\"attributes\":{},\"id\":\"1292\",\"type\":\"Selection\"},{\"attributes\":{\"source\":{\"id\":\"1180\"},\"x\":{\"field\":\"x\"},\"y\":{\"field\":\"y\"}},\"id\":\"1196\",\"type\":\"LabelSet\"},{\"attributes\":{},\"id\":\"1164\",\"type\":\"SaveTool\"},{\"attributes\":{},\"id\":\"1255\",\"type\":\"StringFormatter\"},{\"attributes\":{\"editor\":{\"id\":\"1278\"},\"field\":\"12\",\"formatter\":{\"id\":\"1277\"},\"title\":\"12\"},\"id\":\"1218\",\"type\":\"TableColumn\"},{\"attributes\":{},\"id\":\"1165\",\"type\":\"ResetTool\"},{\"attributes\":{\"data\":{\"xs\":[],\"ys\":[]},\"selected\":{\"id\":\"1247\"},\"selection_policy\":{\"id\":\"1246\"}},\"id\":\"1198\",\"type\":\"ColumnDataSource\"},{\"attributes\":{},\"id\":\"1256\",\"type\":\"StringEditor\"},{\"attributes\":{\"fill_color\":{\"field\":\"fill_color\"},\"line_alpha\":{\"value\":0.1},\"line_color\":{\"field\":\"line_color\"},\"size\":{\"units\":\"screen\",\"value\":12},\"x\":{\"field\":\"x\"},\"y\":{\"field\":\"y\"}},\"id\":\"1193\",\"type\":\"Circle\"},{\"attributes\":{},\"id\":\"1166\",\"type\":\"HelpTool\"},{\"attributes\":{},\"id\":\"1257\",\"type\":\"StringFormatter\"},{\"attributes\":{\"editor\":{\"id\":\"1280\"},\"field\":\"13\",\"formatter\":{\"id\":\"1279\"},\"title\":\"13\"},\"id\":\"1219\",\"type\":\"TableColumn\"},{\"attributes\":{},\"id\":\"1258\",\"type\":\"StringEditor\"},{\"attributes\":{\"active_drag\":null,\"active_inspect\":\"auto\",\"active_multi\":null,\"active_scroll\":null,\"active_tap\":\"auto\",\"logo\":null,\"tools\":[{\"id\":\"1161\"},{\"id\":\"1162\"},{\"id\":\"1163\"},{\"id\":\"1164\"},{\"id\":\"1165\"},{\"id\":\"1166\"},{\"id\":\"1230\"}]},\"id\":\"1168\",\"type\":\"Toolbar\"},{\"attributes\":{\"fill_color\":{\"field\":\"fill_color\"},\"line_color\":{\"field\":\"line_color\"},\"size\":{\"units\":\"screen\",\"value\":12},\"x\":{\"field\":\"x\"},\"y\":{\"field\":\"y\"}},\"id\":\"1192\",\"type\":\"Circle\"},{\"attributes\":{},\"id\":\"1250\",\"type\":\"Selection\"},{\"attributes\":{},\"id\":\"1259\",\"type\":\"StringFormatter\"},{\"attributes\":{\"editor\":{\"id\":\"1282\"},\"field\":\"14\",\"formatter\":{\"id\":\"1281\"},\"title\":\"14\"},\"id\":\"1220\",\"type\":\"TableColumn\"},{\"attributes\":{},\"id\":\"1249\",\"type\":\"UnionRenderers\"},{\"attributes\":{},\"id\":\"1260\",\"type\":\"StringEditor\"},{\"attributes\":{\"data\":{\"0\":[\"inf\",\"-\"],\"1\":[\"inf\",\"-\"],\"10\":[\"inf\",\"-\"],\"11\":[\"inf\",\"-\"],\"12\":[\"0.0\",\"-\"],\"13\":[\"inf\",\"-\"],\"14\":[\"inf\",\"-\"],\"15\":[\"inf\",\"-\"],\"16\":[\"inf\",\"-\"],\"17\":[\"inf\",\"-\"],\"2\":[\"inf\",\"-\"],\"3\":[\"inf\",\"-\"],\"4\":[\"inf\",\"-\"],\"5\":[\"inf\",\"-\"],\"6\":[\"inf\",\"-\"],\"7\":[\"inf\",\"-\"],\"8\":[\"inf\",\"-\"],\"9\":[\"inf\",\"-\"],\"index\":[\"label\",\"prev\"]},\"selected\":{\"id\":\"1250\"},\"selection_policy\":{\"id\":\"1249\"}},\"id\":\"1204\",\"type\":\"ColumnDataSource\"},{\"attributes\":{\"data_source\":{\"id\":\"1198\"},\"glyph\":{\"id\":\"1200\"},\"hover_glyph\":null,\"muted_glyph\":null,\"nonselection_glyph\":{\"id\":\"1201\"},\"selection_glyph\":null,\"view\":{\"id\":\"1203\"}},\"id\":\"1202\",\"type\":\"GlyphRenderer\"},{\"attributes\":{},\"id\":\"1261\",\"type\":\"StringFormatter\"},{\"attributes\":{\"editor\":{\"id\":\"1284\"},\"field\":\"15\",\"formatter\":{\"id\":\"1283\"},\"title\":\"15\"},\"id\":\"1221\",\"type\":\"TableColumn\"},{\"attributes\":{\"line_alpha\":{\"value\":0.1},\"line_width\":{\"value\":6},\"xs\":{\"field\":\"xs\"},\"ys\":{\"field\":\"ys\"}},\"id\":\"1201\",\"type\":\"MultiLine\"},{\"attributes\":{},\"id\":\"1262\",\"type\":\"StringEditor\"},{\"attributes\":{\"bottom_units\":\"screen\",\"fill_alpha\":0.5,\"fill_color\":\"lightgrey\",\"left_units\":\"screen\",\"level\":\"overlay\",\"line_alpha\":1.0,\"line_color\":\"black\",\"line_dash\":[4,4],\"line_width\":2,\"right_units\":\"screen\",\"top_units\":\"screen\"},\"id\":\"1167\",\"type\":\"BoxAnnotation\"},{\"attributes\":{\"source\":{\"id\":\"1198\"}},\"id\":\"1203\",\"type\":\"CDSView\"},{\"attributes\":{},\"id\":\"1263\",\"type\":\"StringFormatter\"},{\"attributes\":{\"editor\":{\"id\":\"1286\"},\"field\":\"16\",\"formatter\":{\"id\":\"1285\"},\"title\":\"16\"},\"id\":\"1222\",\"type\":\"TableColumn\"},{\"attributes\":{\"line_width\":{\"value\":6},\"xs\":{\"field\":\"xs\"},\"ys\":{\"field\":\"ys\"}},\"id\":\"1200\",\"type\":\"MultiLine\"},{\"attributes\":{},\"id\":\"1264\",\"type\":\"StringEditor\"},{\"attributes\":{},\"id\":\"1265\",\"type\":\"StringFormatter\"},{\"attributes\":{\"editor\":{\"id\":\"1252\"},\"field\":\"index\",\"formatter\":{\"id\":\"1251\"},\"title\":\"\"},\"id\":\"1205\",\"type\":\"TableColumn\"},{\"attributes\":{\"editor\":{\"id\":\"1288\"},\"field\":\"17\",\"formatter\":{\"id\":\"1287\"},\"title\":\"17\"},\"id\":\"1223\",\"type\":\"TableColumn\"},{\"attributes\":{},\"id\":\"1266\",\"type\":\"StringEditor\"},{\"attributes\":{\"background\":\"white\",\"columns\":[{\"id\":\"1205\"},{\"id\":\"1206\"},{\"id\":\"1207\"},{\"id\":\"1208\"},{\"id\":\"1209\"},{\"id\":\"1210\"},{\"id\":\"1211\"},{\"id\":\"1212\"},{\"id\":\"1213\"},{\"id\":\"1214\"},{\"id\":\"1215\"},{\"id\":\"1216\"},{\"id\":\"1217\"},{\"id\":\"1218\"},{\"id\":\"1219\"},{\"id\":\"1220\"},{\"id\":\"1221\"},{\"id\":\"1222\"},{\"id\":\"1223\"}],\"height\":80,\"index_position\":null,\"reorderable\":false,\"selectable\":false,\"sortable\":false,\"source\":{\"id\":\"1204\"},\"view\":{\"id\":\"1225\"},\"width\":900},\"id\":\"1224\",\"type\":\"DataTable\"},{\"attributes\":{},\"id\":\"1267\",\"type\":\"StringFormatter\"},{\"attributes\":{\"editor\":{\"id\":\"1254\"},\"field\":\"0\",\"formatter\":{\"id\":\"1253\"},\"title\":\"0\"},\"id\":\"1206\",\"type\":\"TableColumn\"},{\"attributes\":{},\"id\":\"1268\",\"type\":\"StringEditor\"}],\"root_ids\":[\"1297\"]},\"title\":\"Bokeh Application\",\"version\":\"2.2.3\"}};\n",
       "  var render_items = [{\"docid\":\"1c987696-b728-4354-8966-5cb32f3dc62a\",\"root_ids\":[\"1297\"],\"roots\":{\"1297\":\"a9e17814-b441-4205-a911-4abf726b1994\"}}];\n",
       "  root.Bokeh.embed.embed_items_notebook(docs_json, render_items);\n",
       "\n",
       "  }\n",
       "  if (root.Bokeh !== undefined) {\n",
       "    embed_document(root);\n",
       "  } else {\n",
       "    var attempts = 0;\n",
       "    var timer = setInterval(function(root) {\n",
       "      if (root.Bokeh !== undefined) {\n",
       "        clearInterval(timer);\n",
       "        embed_document(root);\n",
       "      } else {\n",
       "        attempts++;\n",
       "        if (attempts > 100) {\n",
       "          clearInterval(timer);\n",
       "          console.log(\"Bokeh: ERROR: Unable to run BokehJS code because BokehJS library is missing\");\n",
       "        }\n",
       "      }\n",
       "    }, 10, root)\n",
       "  }\n",
       "})(window);"
      ],
      "application/vnd.bokehjs_exec.v0+json": ""
     },
     "metadata": {
      "application/vnd.bokehjs_exec.v0+json": {
       "id": "1297"
      }
     },
     "output_type": "display_data"
    }
   ],
   "source": [
    "# show dijkstras running\n",
    "plot_dijkstras(G, source=12)"
   ]
  },
  {
   "cell_type": "code",
   "execution_count": 5,
   "metadata": {},
   "outputs": [
    {
     "name": "stdout",
     "output_type": "stream",
     "text": [
      "127\n"
     ]
    },
    {
     "data": {
      "text/html": [
       "\n",
       "\n",
       "\n",
       "\n",
       "\n",
       "\n",
       "  <div class=\"bk-root\" id=\"f20392a1-cfdf-44b5-a866-83cb7a546935\" data-root-id=\"1713\"></div>\n"
      ]
     },
     "metadata": {},
     "output_type": "display_data"
    },
    {
     "data": {
      "application/javascript": [
       "(function(root) {\n",
       "  function embed_document(root) {\n",
       "    \n",
       "  var docs_json = {\"bcab4fee-7168-4380-acef-ee8610315de1\":{\"roots\":{\"references\":[{\"attributes\":{\"children\":[[{\"id\":\"1646\"},0,0]]},\"id\":\"1713\",\"type\":\"GridBox\"},{\"attributes\":{\"bottom_units\":\"screen\",\"fill_alpha\":0.5,\"fill_color\":\"lightgrey\",\"left_units\":\"screen\",\"level\":\"overlay\",\"line_alpha\":1.0,\"line_color\":\"black\",\"line_dash\":[4,4],\"line_width\":2,\"right_units\":\"screen\",\"top_units\":\"screen\"},\"id\":\"1671\",\"type\":\"BoxAnnotation\"},{\"attributes\":{},\"id\":\"1670\",\"type\":\"HelpTool\"},{\"attributes\":{\"data_source\":{\"id\":\"1682\"},\"glyph\":{\"id\":\"1692\"},\"hover_glyph\":null,\"muted_glyph\":null,\"nonselection_glyph\":{\"id\":\"1693\"},\"selection_glyph\":null,\"view\":{\"id\":\"1695\"}},\"id\":\"1694\",\"type\":\"GlyphRenderer\"},{\"attributes\":{},\"id\":\"1709\",\"type\":\"Selection\"},{\"attributes\":{},\"id\":\"1702\",\"type\":\"BasicTickFormatter\"},{\"attributes\":{\"data\":{\"fill_color\":[\"steelblue\",\"steelblue\",\"steelblue\",\"steelblue\",\"steelblue\",\"steelblue\",\"steelblue\",\"steelblue\",\"steelblue\",\"steelblue\",\"steelblue\",\"steelblue\",\"steelblue\",\"steelblue\",\"steelblue\",\"steelblue\",\"steelblue\",\"steelblue\"],\"line_color\":[\"steelblue\",\"steelblue\",\"steelblue\",\"steelblue\",\"steelblue\",\"steelblue\",\"steelblue\",\"steelblue\",\"steelblue\",\"steelblue\",\"steelblue\",\"steelblue\",\"steelblue\",\"steelblue\",\"steelblue\",\"steelblue\",\"steelblue\",\"steelblue\"],\"x\":[0,2,4,8,12,14,18,10,14,19,19,10,12,17,13,18,12,20],\"y\":[8,5,2,6,7,8,9,6,7,7,6,4,6,6,4,2,0,1]},\"selected\":{\"id\":\"1711\"},\"selection_policy\":{\"id\":\"1710\"}},\"id\":\"1682\",\"type\":\"ColumnDataSource\"},{\"attributes\":{},\"id\":\"1669\",\"type\":\"ResetTool\"},{\"attributes\":{},\"id\":\"1655\",\"type\":\"LinearScale\"},{\"attributes\":{},\"id\":\"1653\",\"type\":\"LinearScale\"},{\"attributes\":{},\"id\":\"1706\",\"type\":\"Selection\"},{\"attributes\":{},\"id\":\"1668\",\"type\":\"SaveTool\"},{\"attributes\":{\"end\":9.765,\"start\":-0.765},\"id\":\"1651\",\"type\":\"Range1d\"},{\"attributes\":{\"end\":21.7,\"start\":-1.7000000000000002},\"id\":\"1649\",\"type\":\"Range1d\"},{\"attributes\":{\"source\":{\"id\":\"1683\"}},\"id\":\"1690\",\"type\":\"CDSView\"},{\"attributes\":{\"overlay\":{\"id\":\"1671\"}},\"id\":\"1667\",\"type\":\"BoxZoomTool\"},{\"attributes\":{\"text\":\"\"},\"id\":\"1647\",\"type\":\"Title\"},{\"attributes\":{},\"id\":\"1704\",\"type\":\"BasicTickFormatter\"},{\"attributes\":{},\"id\":\"1705\",\"type\":\"UnionRenderers\"},{\"attributes\":{\"line_alpha\":{\"field\":\"visible\"},\"line_width\":{\"value\":6},\"xs\":{\"field\":\"xs\"},\"ys\":{\"field\":\"ys\"}},\"id\":\"1688\",\"type\":\"MultiLine\"},{\"attributes\":{},\"id\":\"1666\",\"type\":\"WheelZoomTool\"},{\"attributes\":{\"callback\":null,\"renderers\":[{\"id\":\"1694\"}],\"tooltips\":[[\"Node\",\"$index\"]]},\"id\":\"1698\",\"type\":\"HoverTool\"},{\"attributes\":{\"background_fill_color\":null,\"below\":[{\"id\":\"1657\"}],\"border_fill_color\":null,\"center\":[{\"id\":\"1660\"},{\"id\":\"1664\"},{\"id\":\"1696\"}],\"left\":[{\"id\":\"1661\"}],\"outline_line_color\":null,\"plot_height\":500,\"plot_width\":900,\"renderers\":[{\"id\":\"1689\"},{\"id\":\"1694\"}],\"title\":{\"id\":\"1647\"},\"toolbar\":{\"id\":\"1672\"},\"toolbar_location\":null,\"x_range\":{\"id\":\"1649\"},\"x_scale\":{\"id\":\"1653\"},\"y_range\":{\"id\":\"1651\"},\"y_scale\":{\"id\":\"1655\"}},\"id\":\"1646\",\"subtype\":\"Figure\",\"type\":\"Plot\"},{\"attributes\":{\"source\":{\"id\":\"1684\"},\"x\":{\"field\":\"x\"},\"y\":{\"field\":\"y\"}},\"id\":\"1696\",\"type\":\"LabelSet\"},{\"attributes\":{\"active_drag\":null,\"active_inspect\":\"auto\",\"active_multi\":null,\"active_scroll\":null,\"active_tap\":\"auto\",\"logo\":null,\"tools\":[{\"id\":\"1665\"},{\"id\":\"1666\"},{\"id\":\"1667\"},{\"id\":\"1668\"},{\"id\":\"1669\"},{\"id\":\"1670\"},{\"id\":\"1698\"}]},\"id\":\"1672\",\"type\":\"Toolbar\"},{\"attributes\":{},\"id\":\"1665\",\"type\":\"PanTool\"},{\"attributes\":{\"fill_color\":{\"field\":\"fill_color\"},\"line_color\":{\"field\":\"line_color\"},\"size\":{\"units\":\"screen\",\"value\":12},\"x\":{\"field\":\"x\"},\"y\":{\"field\":\"y\"}},\"id\":\"1692\",\"type\":\"Circle\"},{\"attributes\":{},\"id\":\"1708\",\"type\":\"UnionRenderers\"},{\"attributes\":{\"axis\":{\"id\":\"1661\"},\"dimension\":1,\"grid_line_color\":null,\"ticker\":null},\"id\":\"1664\",\"type\":\"Grid\"},{\"attributes\":{},\"id\":\"1711\",\"type\":\"Selection\"},{\"attributes\":{\"data_source\":{\"id\":\"1683\"},\"glyph\":{\"id\":\"1686\"},\"hover_glyph\":{\"id\":\"1688\"},\"muted_glyph\":null,\"nonselection_glyph\":{\"id\":\"1687\"},\"selection_glyph\":null,\"view\":{\"id\":\"1690\"}},\"id\":\"1689\",\"type\":\"GlyphRenderer\"},{\"attributes\":{},\"id\":\"1662\",\"type\":\"BasicTicker\"},{\"attributes\":{\"data\":{\"line_color\":[\"lightgray\",\"black\",\"black\",\"lightgray\",\"black\",\"lightgray\",\"black\",\"lightgray\",\"lightgray\",\"lightgray\",\"black\",\"black\",\"lightgray\",\"lightgray\",\"black\",\"black\",\"lightgray\",\"lightgray\",\"lightgray\",\"lightgray\",\"black\",\"lightgray\",\"black\",\"black\",\"black\",\"lightgray\",\"lightgray\",\"lightgray\",\"black\",\"lightgray\",\"black\",\"lightgray\",\"black\",\"black\",\"lightgray\",\"lightgray\",\"lightgray\",\"lightgray\",\"black\",\"lightgray\",\"lightgray\"],\"visible\":[true,true,true,true,true,true,true,true,true,true,true,true,true,true,true,true,true,true,true,true,true,true,true,true,true,true,true,true,true,true,true,true,true,true,true,true,true,true,true,true,true],\"weight\":[25,20,9,10,10,17,7,15,15,18,7,5,6,10,6,6,14,18,15,16,5,12,5,5,6,10,10,15,12,10,5,17,7,8,10,8,10,9,4,21,25],\"xs\":[[0,2],[0,8],[2,8],[2,4],[8,4],[8,12],[8,10],[4,10],[4,13],[4,12],[10,12],[10,12],[10,13],[13,10],[13,12],[13,12],[12,12],[12,17],[12,18],[12,20],[12,14],[12,14],[12,10],[12,17],[12,18],[12,14],[12,10],[14,10],[14,18],[14,19],[14,14],[14,18],[14,19],[14,19],[14,17],[19,17],[17,19],[17,18],[18,20],[18,19],[20,19]],\"ys\":[[8,5],[8,6],[5,6],[5,2],[6,2],[6,0],[6,4],[2,4],[2,4],[2,0],[4,7],[4,6],[4,4],[4,6],[4,6],[4,0],[0,6],[0,6],[0,2],[0,1],[7,8],[7,7],[7,6],[6,6],[6,2],[6,7],[6,6],[8,6],[8,9],[8,7],[8,7],[7,9],[7,7],[7,6],[7,6],[7,6],[6,6],[6,2],[2,1],[2,6],[1,6]]},\"selected\":{\"id\":\"1709\"},\"selection_policy\":{\"id\":\"1708\"}},\"id\":\"1683\",\"type\":\"ColumnDataSource\"},{\"attributes\":{\"formatter\":{\"id\":\"1704\"},\"ticker\":{\"id\":\"1662\"},\"visible\":false},\"id\":\"1661\",\"type\":\"LinearAxis\"},{\"attributes\":{\"line_alpha\":{\"field\":\"visible\"},\"line_color\":{\"field\":\"line_color\"},\"line_width\":{\"value\":6},\"xs\":{\"field\":\"xs\"},\"ys\":{\"field\":\"ys\"}},\"id\":\"1686\",\"type\":\"MultiLine\"},{\"attributes\":{\"fill_color\":{\"field\":\"fill_color\"},\"line_alpha\":{\"value\":0.1},\"line_color\":{\"field\":\"line_color\"},\"size\":{\"units\":\"screen\",\"value\":12},\"x\":{\"field\":\"x\"},\"y\":{\"field\":\"y\"}},\"id\":\"1693\",\"type\":\"Circle\"},{\"attributes\":{},\"id\":\"1710\",\"type\":\"UnionRenderers\"},{\"attributes\":{\"axis\":{\"id\":\"1657\"},\"grid_line_color\":null,\"ticker\":null},\"id\":\"1660\",\"type\":\"Grid\"},{\"attributes\":{\"data\":{\"text\":[25,20,9,10,10,17,7,15,15,18,7,5,6,10,6,6,14,18,15,16,5,12,5,5,6,10,10,15,12,10,5,17,7,8,10,8,10,9,4,21,25],\"x\":[1.0,4.0,5.0,3.0,6.0,10.0,9.0,7.0,8.5,8.0,11.0,11.0,11.5,11.5,12.5,12.5,12.0,14.5,15.0,16.0,13.0,13.0,11.0,14.5,15.0,13.0,11.0,12.0,16.0,16.5,14.0,16.0,16.5,16.5,15.5,18.0,18.0,17.5,19.0,18.5,19.5],\"y\":[6.5,7.0,5.5,3.5,4.0,3.0,5.0,3.0,3.0,1.0,5.5,5.0,4.0,5.0,5.0,2.0,3.0,3.0,1.0,0.5,7.5,7.0,6.5,6.0,4.0,6.5,6.0,7.0,8.5,7.5,7.5,8.0,7.0,6.5,6.5,6.5,6.0,4.0,1.5,4.0,3.5]},\"selected\":{\"id\":\"1706\"},\"selection_policy\":{\"id\":\"1705\"}},\"id\":\"1684\",\"type\":\"ColumnDataSource\"},{\"attributes\":{\"line_color\":{\"field\":\"line_color\"},\"line_width\":{\"value\":6},\"xs\":{\"field\":\"xs\"},\"ys\":{\"field\":\"ys\"}},\"id\":\"1687\",\"type\":\"MultiLine\"},{\"attributes\":{\"source\":{\"id\":\"1682\"}},\"id\":\"1695\",\"type\":\"CDSView\"},{\"attributes\":{},\"id\":\"1658\",\"type\":\"BasicTicker\"},{\"attributes\":{\"formatter\":{\"id\":\"1702\"},\"ticker\":{\"id\":\"1658\"},\"visible\":false},\"id\":\"1657\",\"type\":\"LinearAxis\"}],\"root_ids\":[\"1713\"]},\"title\":\"Bokeh Application\",\"version\":\"2.2.3\"}};\n",
       "  var render_items = [{\"docid\":\"bcab4fee-7168-4380-acef-ee8610315de1\",\"root_ids\":[\"1713\"],\"roots\":{\"1713\":\"f20392a1-cfdf-44b5-a866-83cb7a546935\"}}];\n",
       "  root.Bokeh.embed.embed_items_notebook(docs_json, render_items);\n",
       "\n",
       "  }\n",
       "  if (root.Bokeh !== undefined) {\n",
       "    embed_document(root);\n",
       "  } else {\n",
       "    var attempts = 0;\n",
       "    var timer = setInterval(function(root) {\n",
       "      if (root.Bokeh !== undefined) {\n",
       "        clearInterval(timer);\n",
       "        embed_document(root);\n",
       "      } else {\n",
       "        attempts++;\n",
       "        if (attempts > 100) {\n",
       "          clearInterval(timer);\n",
       "          console.log(\"Bokeh: ERROR: Unable to run BokehJS code because BokehJS library is missing\");\n",
       "        }\n",
       "      }\n",
       "    }, 10, root)\n",
       "  }\n",
       "})(window);"
      ],
      "application/vnd.bokehjs_exec.v0+json": ""
     },
     "metadata": {
      "application/vnd.bokehjs_exec.v0+json": {
       "id": "1713"
      }
     },
     "output_type": "display_data"
    }
   ],
   "source": [
    "# get mst, print cost, and visualize\n",
    "mst = prims(G,12)\n",
    "print(spanning_tree_cost(G,mst))\n",
    "plot_graph(G, edges=mst)"
   ]
  },
  {
   "cell_type": "code",
   "execution_count": 6,
   "metadata": {},
   "outputs": [
    {
     "data": {
      "text/html": [
       "\n",
       "\n",
       "\n",
       "\n",
       "\n",
       "\n",
       "  <div class=\"bk-root\" id=\"3971ad50-216b-4f83-865c-3aacbebcd17f\" data-root-id=\"1946\"></div>\n"
      ]
     },
     "metadata": {},
     "output_type": "display_data"
    },
    {
     "data": {
      "application/javascript": [
       "(function(root) {\n",
       "  function embed_document(root) {\n",
       "    \n",
       "  var docs_json = {\"97df169b-9891-42d4-a2d4-3ba7e9e4660e\":{\"roots\":{\"references\":[{\"attributes\":{\"children\":[[{\"id\":\"1854\"},0,0],[{\"id\":\"1923\"},1,0],[{\"id\":\"1924\"},2,0]]},\"id\":\"1946\",\"type\":\"GridBox\"},{\"attributes\":{\"data\":{\"fill_color\":[\"#EA8585\",\"#EA8585\",\"#EA8585\",\"#EA8585\",\"#EA8585\",\"#EA8585\",\"#EA8585\",\"#EA8585\",\"#EA8585\",\"#EA8585\",\"#EA8585\",\"#EA8585\",\"#EA8585\",\"#EA8585\",\"#EA8585\",\"#EA8585\",\"#EA8585\",\"#EA8585\"],\"line_color\":[\"#EA8585\",\"#EA8585\",\"#EA8585\",\"#EA8585\",\"#EA8585\",\"#EA8585\",\"#EA8585\",\"#EA8585\",\"#EA8585\",\"#EA8585\",\"#EA8585\",\"#EA8585\",\"#EA8585\",\"#EA8585\",\"#EA8585\",\"#EA8585\",\"#EA8585\",\"#EA8585\"],\"x\":[0,2,4,8,12,14,18,10,14,19,19,10,12,17,13,18,12,20],\"y\":[8,5,2,6,7,8,9,6,7,7,6,4,6,6,4,2,0,1]},\"selected\":{\"id\":\"1936\"},\"selection_policy\":{\"id\":\"1935\"}},\"id\":\"1890\",\"type\":\"ColumnDataSource\"},{\"attributes\":{\"args\":{\"cost\":{\"id\":\"1916\"},\"done\":{\"id\":\"1896\"},\"edge_subset_src\":{\"id\":\"1910\"},\"k\":{\"id\":\"1895\"},\"n\":{\"id\":\"1894\"},\"nodes_src\":{\"id\":\"1890\"},\"source\":{\"id\":\"1893\"}},\"code\":\"\\nif ((parseInt(n.text) + 1) < parseInt(k.text)) {\\n    n.text = (parseInt(n.text) + 1).toString()\\n}\\nvar iteration = parseInt(n.text)\\n\\nif (iteration == parseInt(k.text) - 1) {\\n    done.text = \\\"done.\\\"\\n} else {\\n    done.text = \\\"\\\"\\n}\\n\\ncost.text = source.data['costs'][iteration].toFixed(1)\\n\\nedge_subset_src.data['xs'] = source.data['edge_xs'][iteration]\\nedge_subset_src.data['ys'] = source.data['edge_ys'][iteration]\\nedge_subset_src.change.emit()\\n\\nvar in_tree = source.data['nodes'][iteration]\\n\\nfor (let i = 0; i < nodes_src.data['line_color'].length ; i++) {\\n    if (in_tree.includes(i)) {\\n        nodes_src.data['fill_color'][i] = 'steelblue'\\n        nodes_src.data['line_color'][i] = 'steelblue'\\n    } else {\\n        nodes_src.data['fill_color'][i] = '#EA8585'\\n        nodes_src.data['line_color'][i] = '#EA8585'\\n    }\\n}\\n\\nnodes_src.change.emit()\\n\"},\"id\":\"1918\",\"type\":\"CustomJS\"},{\"attributes\":{},\"id\":\"1927\",\"type\":\"BasicTickFormatter\"},{\"attributes\":{\"data\":{\"text\":[25,20,9,10,10,17,7,15,15,18,7,5,6,10,6,6,14,18,15,16,5,12,5,5,6,10,10,15,12,10,5,17,7,8,10,8,10,9,4,21,25],\"x\":[1.0,4.0,5.0,3.0,6.0,10.0,9.0,7.0,8.5,8.0,11.0,11.0,11.5,11.5,12.5,12.5,12.0,14.5,15.0,16.0,13.0,13.0,11.0,14.5,15.0,13.0,11.0,12.0,16.0,16.5,14.0,16.0,16.5,16.5,15.5,18.0,18.0,17.5,19.0,18.5,19.5],\"y\":[6.5,7.0,5.5,3.5,4.0,3.0,5.0,3.0,3.0,1.0,5.5,5.0,4.0,5.0,5.0,2.0,3.0,3.0,1.0,0.5,7.5,7.0,6.5,6.0,4.0,6.5,6.0,7.0,8.5,7.5,7.5,8.0,7.0,6.5,6.5,6.5,6.0,4.0,1.5,4.0,3.5]},\"selected\":{\"id\":\"1931\"},\"selection_policy\":{\"id\":\"1930\"}},\"id\":\"1892\",\"type\":\"ColumnDataSource\"},{\"attributes\":{\"text\":\"\"},\"id\":\"1855\",\"type\":\"Title\"},{\"attributes\":{},\"id\":\"1935\",\"type\":\"UnionRenderers\"},{\"attributes\":{\"formatter\":{\"id\":\"1929\"},\"ticker\":{\"id\":\"1870\"},\"visible\":false},\"id\":\"1869\",\"type\":\"LinearAxis\"},{\"attributes\":{},\"id\":\"1866\",\"type\":\"BasicTicker\"},{\"attributes\":{},\"id\":\"1937\",\"type\":\"UnionRenderers\"},{\"attributes\":{\"bottom_units\":\"screen\",\"fill_alpha\":0.5,\"fill_color\":\"lightgrey\",\"left_units\":\"screen\",\"level\":\"overlay\",\"line_alpha\":1.0,\"line_color\":\"black\",\"line_dash\":[4,4],\"line_width\":2,\"right_units\":\"screen\",\"top_units\":\"screen\"},\"id\":\"1879\",\"type\":\"BoxAnnotation\"},{\"attributes\":{\"align\":\"center\",\"text\":\"18\",\"width\":900},\"id\":\"1895\",\"type\":\"Div\"},{\"attributes\":{},\"id\":\"1929\",\"type\":\"BasicTickFormatter\"},{\"attributes\":{},\"id\":\"1931\",\"type\":\"Selection\"},{\"attributes\":{\"data\":{\"costs\":[0,4,9,14,19,24,29,35,41,47,54,61,68,76,85,95,107,127],\"edge_xs\":[[],[[18,20]],[[18,20],[10,12]],[[18,20],[10,12],[12,14]],[[18,20],[10,12],[12,14],[12,10]],[[18,20],[10,12],[12,14],[12,10],[12,17]],[[18,20],[10,12],[12,14],[12,10],[12,17],[14,14]],[[18,20],[10,12],[12,14],[12,10],[12,17],[14,14],[10,13]],[[18,20],[10,12],[12,14],[12,10],[12,17],[14,14],[10,13],[13,12]],[[18,20],[10,12],[12,14],[12,10],[12,17],[14,14],[10,13],[13,12],[12,18]],[[18,20],[10,12],[12,14],[12,10],[12,17],[14,14],[10,13],[13,12],[12,18],[8,10]],[[18,20],[10,12],[12,14],[12,10],[12,17],[14,14],[10,13],[13,12],[12,18],[8,10],[10,12]],[[18,20],[10,12],[12,14],[12,10],[12,17],[14,14],[10,13],[13,12],[12,18],[8,10],[10,12],[14,19]],[[18,20],[10,12],[12,14],[12,10],[12,17],[14,14],[10,13],[13,12],[12,18],[8,10],[10,12],[14,19],[14,19]],[[18,20],[10,12],[12,14],[12,10],[12,17],[14,14],[10,13],[13,12],[12,18],[8,10],[10,12],[14,19],[14,19],[2,8]],[[18,20],[10,12],[12,14],[12,10],[12,17],[14,14],[10,13],[13,12],[12,18],[8,10],[10,12],[14,19],[14,19],[2,8],[2,4]],[[18,20],[10,12],[12,14],[12,10],[12,17],[14,14],[10,13],[13,12],[12,18],[8,10],[10,12],[14,19],[14,19],[2,8],[2,4],[14,18]],[[18,20],[10,12],[12,14],[12,10],[12,17],[14,14],[10,13],[13,12],[12,18],[8,10],[10,12],[14,19],[14,19],[2,8],[2,4],[14,18],[0,8]]],\"edge_ys\":[[],[[2,1]],[[2,1],[4,6]],[[2,1],[4,6],[7,8]],[[2,1],[4,6],[7,8],[7,6]],[[2,1],[4,6],[7,8],[7,6],[6,6]],[[2,1],[4,6],[7,8],[7,6],[6,6],[8,7]],[[2,1],[4,6],[7,8],[7,6],[6,6],[8,7],[4,4]],[[2,1],[4,6],[7,8],[7,6],[6,6],[8,7],[4,4],[4,0]],[[2,1],[4,6],[7,8],[7,6],[6,6],[8,7],[4,4],[4,0],[6,2]],[[2,1],[4,6],[7,8],[7,6],[6,6],[8,7],[4,4],[4,0],[6,2],[6,4]],[[2,1],[4,6],[7,8],[7,6],[6,6],[8,7],[4,4],[4,0],[6,2],[6,4],[4,7]],[[2,1],[4,6],[7,8],[7,6],[6,6],[8,7],[4,4],[4,0],[6,2],[6,4],[4,7],[7,7]],[[2,1],[4,6],[7,8],[7,6],[6,6],[8,7],[4,4],[4,0],[6,2],[6,4],[4,7],[7,7],[7,6]],[[2,1],[4,6],[7,8],[7,6],[6,6],[8,7],[4,4],[4,0],[6,2],[6,4],[4,7],[7,7],[7,6],[5,6]],[[2,1],[4,6],[7,8],[7,6],[6,6],[8,7],[4,4],[4,0],[6,2],[6,4],[4,7],[7,7],[7,6],[5,6],[5,2]],[[2,1],[4,6],[7,8],[7,6],[6,6],[8,7],[4,4],[4,0],[6,2],[6,4],[4,7],[7,7],[7,6],[5,6],[5,2],[8,9]],[[2,1],[4,6],[7,8],[7,6],[6,6],[8,7],[4,4],[4,0],[6,2],[6,4],[4,7],[7,7],[7,6],[5,6],[5,2],[8,9],[8,6]]],\"nodes\":[[],[17,15],[17,11,12,15],[4,5,11,12,15,17],[4,5,7,11,12,15,17],[4,5,7,11,12,13,15,17],[4,5,7,8,11,12,13,15,17],[4,5,7,8,11,12,13,14,15,17],[4,5,7,8,11,12,13,14,15,16,17],[4,5,7,8,11,12,13,14,15,16,17],[3,4,5,7,8,11,12,13,14,15,16,17],[3,4,5,7,8,11,12,13,14,15,16,17],[3,4,5,7,8,9,11,12,13,14,15,16,17],[3,4,5,7,8,9,10,11,12,13,14,15,16,17],[1,3,4,5,7,8,9,10,11,12,13,14,15,16,17],[1,2,3,4,5,7,8,9,10,11,12,13,14,15,16,17],[1,2,3,4,5,6,7,8,9,10,11,12,13,14,15,16,17],[0,1,2,3,4,5,6,7,8,9,10,11,12,13,14,15,16,17]]},\"selected\":{\"id\":\"1943\"},\"selection_policy\":{\"id\":\"1942\"}},\"id\":\"1893\",\"type\":\"ColumnDataSource\"},{\"attributes\":{\"children\":[{\"id\":\"1919\"},{\"id\":\"1917\"}],\"max_width\":900,\"sizing_mode\":\"stretch_both\"},\"id\":\"1923\",\"type\":\"Row\"},{\"attributes\":{\"children\":[{\"id\":\"1916\"},{\"id\":\"1896\"}]},\"id\":\"1924\",\"type\":\"Row\"},{\"attributes\":{\"callback\":null,\"renderers\":[{\"id\":\"1906\"}],\"tooltips\":[[\"Node\",\"$index\"]]},\"id\":\"1921\",\"type\":\"HoverTool\"},{\"attributes\":{},\"id\":\"1936\",\"type\":\"Selection\"},{\"attributes\":{\"line_width\":{\"value\":6},\"xs\":{\"field\":\"xs\"},\"ys\":{\"field\":\"ys\"}},\"id\":\"1912\",\"type\":\"MultiLine\"},{\"attributes\":{\"align\":\"center\",\"width\":450},\"id\":\"1896\",\"type\":\"Div\"},{\"attributes\":{},\"id\":\"1870\",\"type\":\"BasicTicker\"},{\"attributes\":{\"axis\":{\"id\":\"1869\"},\"dimension\":1,\"grid_line_color\":null,\"ticker\":null},\"id\":\"1872\",\"type\":\"Grid\"},{\"attributes\":{\"line_alpha\":{\"value\":0.1},\"line_width\":{\"value\":6},\"xs\":{\"field\":\"xs\"},\"ys\":{\"field\":\"ys\"}},\"id\":\"1913\",\"type\":\"MultiLine\"},{\"attributes\":{},\"id\":\"1877\",\"type\":\"ResetTool\"},{\"attributes\":{\"source\":{\"id\":\"1910\"}},\"id\":\"1915\",\"type\":\"CDSView\"},{\"attributes\":{\"axis\":{\"id\":\"1865\"},\"grid_line_color\":null,\"ticker\":null},\"id\":\"1868\",\"type\":\"Grid\"},{\"attributes\":{\"source\":{\"id\":\"1891\"}},\"id\":\"1902\",\"type\":\"CDSView\"},{\"attributes\":{\"data_source\":{\"id\":\"1910\"},\"glyph\":{\"id\":\"1912\"},\"hover_glyph\":null,\"muted_glyph\":null,\"nonselection_glyph\":{\"id\":\"1913\"},\"selection_glyph\":null,\"view\":{\"id\":\"1915\"}},\"id\":\"1914\",\"type\":\"GlyphRenderer\"},{\"attributes\":{\"align\":\"center\",\"text\":\"0\",\"width\":900},\"id\":\"1894\",\"type\":\"Div\"},{\"attributes\":{\"button_type\":\"success\",\"icon\":null,\"js_event_callbacks\":{\"button_click\":[{\"id\":\"1918\"}]},\"label\":\"Next\",\"sizing_mode\":\"scale_width\",\"width_policy\":\"fit\"},\"id\":\"1917\",\"type\":\"Button\"},{\"attributes\":{\"line_alpha\":{\"field\":\"visible\"},\"line_color\":{\"field\":\"line_color\"},\"line_width\":{\"value\":6},\"xs\":{\"field\":\"xs\"},\"ys\":{\"field\":\"ys\"}},\"id\":\"1898\",\"type\":\"MultiLine\"},{\"attributes\":{\"align\":\"center\",\"text\":\"0\",\"width\":450},\"id\":\"1916\",\"type\":\"Div\"},{\"attributes\":{\"end\":21.7,\"start\":-1.7000000000000002},\"id\":\"1857\",\"type\":\"Range1d\"},{\"attributes\":{\"overlay\":{\"id\":\"1879\"}},\"id\":\"1875\",\"type\":\"BoxZoomTool\"},{\"attributes\":{\"end\":9.765,\"start\":-0.765},\"id\":\"1859\",\"type\":\"Range1d\"},{\"attributes\":{\"args\":{\"cost\":{\"id\":\"1916\"},\"done\":{\"id\":\"1896\"},\"edge_subset_src\":{\"id\":\"1910\"},\"k\":{\"id\":\"1895\"},\"n\":{\"id\":\"1894\"},\"nodes_src\":{\"id\":\"1890\"},\"source\":{\"id\":\"1893\"}},\"code\":\"\\nif ((parseInt(n.text) - 1) >= 0) {\\n    n.text = (parseInt(n.text) - 1).toString()\\n}\\nvar iteration = parseInt(n.text)\\n\\nif (iteration == parseInt(k.text) - 1) {\\n    done.text = \\\"done.\\\"\\n} else {\\n    done.text = \\\"\\\"\\n}\\n\\ncost.text = source.data['costs'][iteration].toFixed(1)\\n\\nedge_subset_src.data['xs'] = source.data['edge_xs'][iteration]\\nedge_subset_src.data['ys'] = source.data['edge_ys'][iteration]\\nedge_subset_src.change.emit()\\n\\nvar in_tree = source.data['nodes'][iteration]\\n\\nfor (let i = 0; i < nodes_src.data['line_color'].length ; i++) {\\n    if (in_tree.includes(i)) {\\n        nodes_src.data['fill_color'][i] = 'steelblue'\\n        nodes_src.data['line_color'][i] = 'steelblue'\\n    } else {\\n        nodes_src.data['fill_color'][i] = '#EA8585'\\n        nodes_src.data['line_color'][i] = '#EA8585'\\n    }\\n}\\n\\nnodes_src.change.emit()\\n\"},\"id\":\"1920\",\"type\":\"CustomJS\"},{\"attributes\":{\"active_drag\":null,\"active_inspect\":\"auto\",\"active_multi\":null,\"active_scroll\":null,\"active_tap\":\"auto\",\"logo\":null,\"tools\":[{\"id\":\"1873\"},{\"id\":\"1874\"},{\"id\":\"1875\"},{\"id\":\"1876\"},{\"id\":\"1877\"},{\"id\":\"1878\"},{\"id\":\"1921\"}]},\"id\":\"1880\",\"type\":\"Toolbar\"},{\"attributes\":{\"source\":{\"id\":\"1890\"}},\"id\":\"1907\",\"type\":\"CDSView\"},{\"attributes\":{},\"id\":\"1876\",\"type\":\"SaveTool\"},{\"attributes\":{},\"id\":\"1943\",\"type\":\"Selection\"},{\"attributes\":{\"background_fill_color\":null,\"below\":[{\"id\":\"1865\"}],\"border_fill_color\":null,\"center\":[{\"id\":\"1868\"},{\"id\":\"1872\"},{\"id\":\"1908\"}],\"left\":[{\"id\":\"1869\"}],\"outline_line_color\":null,\"plot_height\":500,\"plot_width\":900,\"renderers\":[{\"id\":\"1901\"},{\"id\":\"1906\"},{\"id\":\"1914\"}],\"title\":{\"id\":\"1855\"},\"toolbar\":{\"id\":\"1880\"},\"toolbar_location\":null,\"x_range\":{\"id\":\"1857\"},\"x_scale\":{\"id\":\"1861\"},\"y_range\":{\"id\":\"1859\"},\"y_scale\":{\"id\":\"1863\"}},\"id\":\"1854\",\"subtype\":\"Figure\",\"type\":\"Plot\"},{\"attributes\":{},\"id\":\"1938\",\"type\":\"Selection\"},{\"attributes\":{\"button_type\":\"success\",\"icon\":null,\"js_event_callbacks\":{\"button_click\":[{\"id\":\"1920\"}]},\"label\":\"Previous\",\"sizing_mode\":\"scale_width\",\"width_policy\":\"fit\"},\"id\":\"1919\",\"type\":\"Button\"},{\"attributes\":{},\"id\":\"1942\",\"type\":\"UnionRenderers\"},{\"attributes\":{\"line_color\":{\"field\":\"line_color\"},\"line_width\":{\"value\":6},\"xs\":{\"field\":\"xs\"},\"ys\":{\"field\":\"ys\"}},\"id\":\"1899\",\"type\":\"MultiLine\"},{\"attributes\":{\"fill_color\":{\"field\":\"fill_color\"},\"line_color\":{\"field\":\"line_color\"},\"size\":{\"units\":\"screen\",\"value\":12},\"x\":{\"field\":\"x\"},\"y\":{\"field\":\"y\"}},\"id\":\"1904\",\"type\":\"Circle\"},{\"attributes\":{\"data_source\":{\"id\":\"1890\"},\"glyph\":{\"id\":\"1904\"},\"hover_glyph\":null,\"muted_glyph\":null,\"nonselection_glyph\":{\"id\":\"1905\"},\"selection_glyph\":null,\"view\":{\"id\":\"1907\"}},\"id\":\"1906\",\"type\":\"GlyphRenderer\"},{\"attributes\":{},\"id\":\"1878\",\"type\":\"HelpTool\"},{\"attributes\":{},\"id\":\"1933\",\"type\":\"UnionRenderers\"},{\"attributes\":{},\"id\":\"1861\",\"type\":\"LinearScale\"},{\"attributes\":{},\"id\":\"1934\",\"type\":\"Selection\"},{\"attributes\":{\"formatter\":{\"id\":\"1927\"},\"ticker\":{\"id\":\"1866\"},\"visible\":false},\"id\":\"1865\",\"type\":\"LinearAxis\"},{\"attributes\":{},\"id\":\"1874\",\"type\":\"WheelZoomTool\"},{\"attributes\":{\"data\":{\"xs\":[],\"ys\":[]},\"selected\":{\"id\":\"1938\"},\"selection_policy\":{\"id\":\"1937\"}},\"id\":\"1910\",\"type\":\"ColumnDataSource\"},{\"attributes\":{\"line_alpha\":{\"field\":\"visible\"},\"line_width\":{\"value\":6},\"xs\":{\"field\":\"xs\"},\"ys\":{\"field\":\"ys\"}},\"id\":\"1900\",\"type\":\"MultiLine\"},{\"attributes\":{\"source\":{\"id\":\"1892\"},\"x\":{\"field\":\"x\"},\"y\":{\"field\":\"y\"}},\"id\":\"1908\",\"type\":\"LabelSet\"},{\"attributes\":{\"data_source\":{\"id\":\"1891\"},\"glyph\":{\"id\":\"1898\"},\"hover_glyph\":{\"id\":\"1900\"},\"muted_glyph\":null,\"nonselection_glyph\":{\"id\":\"1899\"},\"selection_glyph\":null,\"view\":{\"id\":\"1902\"}},\"id\":\"1901\",\"type\":\"GlyphRenderer\"},{\"attributes\":{\"fill_color\":{\"field\":\"fill_color\"},\"line_alpha\":{\"value\":0.1},\"line_color\":{\"field\":\"line_color\"},\"size\":{\"units\":\"screen\",\"value\":12},\"x\":{\"field\":\"x\"},\"y\":{\"field\":\"y\"}},\"id\":\"1905\",\"type\":\"Circle\"},{\"attributes\":{\"data\":{\"line_color\":[\"lightgray\",\"lightgray\",\"lightgray\",\"lightgray\",\"lightgray\",\"lightgray\",\"lightgray\",\"lightgray\",\"lightgray\",\"lightgray\",\"lightgray\",\"lightgray\",\"lightgray\",\"lightgray\",\"lightgray\",\"lightgray\",\"lightgray\",\"lightgray\",\"lightgray\",\"lightgray\",\"lightgray\",\"lightgray\",\"lightgray\",\"lightgray\",\"lightgray\",\"lightgray\",\"lightgray\",\"lightgray\",\"lightgray\",\"lightgray\",\"lightgray\",\"lightgray\",\"lightgray\",\"lightgray\",\"lightgray\",\"lightgray\",\"lightgray\",\"lightgray\",\"lightgray\",\"lightgray\",\"lightgray\"],\"visible\":[true,true,true,true,true,true,true,true,true,true,true,true,true,true,true,true,true,true,true,true,true,true,true,true,true,true,true,true,true,true,true,true,true,true,true,true,true,true,true,true,true],\"weight\":[25,20,9,10,10,17,7,15,15,18,7,5,6,10,6,6,14,18,15,16,5,12,5,5,6,10,10,15,12,10,5,17,7,8,10,8,10,9,4,21,25],\"xs\":[[0,2],[0,8],[2,8],[2,4],[8,4],[8,12],[8,10],[4,10],[4,13],[4,12],[10,12],[10,12],[10,13],[13,10],[13,12],[13,12],[12,12],[12,17],[12,18],[12,20],[12,14],[12,14],[12,10],[12,17],[12,18],[12,14],[12,10],[14,10],[14,18],[14,19],[14,14],[14,18],[14,19],[14,19],[14,17],[19,17],[17,19],[17,18],[18,20],[18,19],[20,19]],\"ys\":[[8,5],[8,6],[5,6],[5,2],[6,2],[6,0],[6,4],[2,4],[2,4],[2,0],[4,7],[4,6],[4,4],[4,6],[4,6],[4,0],[0,6],[0,6],[0,2],[0,1],[7,8],[7,7],[7,6],[6,6],[6,2],[6,7],[6,6],[8,6],[8,9],[8,7],[8,7],[7,9],[7,7],[7,6],[7,6],[7,6],[6,6],[6,2],[2,1],[2,6],[1,6]]},\"selected\":{\"id\":\"1934\"},\"selection_policy\":{\"id\":\"1933\"}},\"id\":\"1891\",\"type\":\"ColumnDataSource\"},{\"attributes\":{},\"id\":\"1873\",\"type\":\"PanTool\"},{\"attributes\":{},\"id\":\"1930\",\"type\":\"UnionRenderers\"},{\"attributes\":{},\"id\":\"1863\",\"type\":\"LinearScale\"}],\"root_ids\":[\"1946\"]},\"title\":\"Bokeh Application\",\"version\":\"2.2.3\"}};\n",
       "  var render_items = [{\"docid\":\"97df169b-9891-42d4-a2d4-3ba7e9e4660e\",\"root_ids\":[\"1946\"],\"roots\":{\"1946\":\"3971ad50-216b-4f83-865c-3aacbebcd17f\"}}];\n",
       "  root.Bokeh.embed.embed_items_notebook(docs_json, render_items);\n",
       "\n",
       "  }\n",
       "  if (root.Bokeh !== undefined) {\n",
       "    embed_document(root);\n",
       "  } else {\n",
       "    var attempts = 0;\n",
       "    var timer = setInterval(function(root) {\n",
       "      if (root.Bokeh !== undefined) {\n",
       "        clearInterval(timer);\n",
       "        embed_document(root);\n",
       "      } else {\n",
       "        attempts++;\n",
       "        if (attempts > 100) {\n",
       "          clearInterval(timer);\n",
       "          console.log(\"Bokeh: ERROR: Unable to run BokehJS code because BokehJS library is missing\");\n",
       "        }\n",
       "      }\n",
       "    }, 10, root)\n",
       "  }\n",
       "})(window);"
      ],
      "application/vnd.bokehjs_exec.v0+json": ""
     },
     "metadata": {
      "application/vnd.bokehjs_exec.v0+json": {
       "id": "1946"
      }
     },
     "output_type": "display_data"
    }
   ],
   "source": [
    "# show kruskals running\n",
    "plot_mst_algorithm(G, 'kruskals')"
   ]
  },
  {
   "cell_type": "code",
   "execution_count": 7,
   "metadata": {},
   "outputs": [],
   "source": [
    "# create graph with all edges\n",
    "G = create_network(nodes)"
   ]
  },
  {
   "cell_type": "code",
   "execution_count": 8,
   "metadata": {},
   "outputs": [
    {
     "name": "stdout",
     "output_type": "stream",
     "text": [
      "74\n"
     ]
    },
    {
     "data": {
      "text/html": [
       "\n",
       "\n",
       "\n",
       "\n",
       "\n",
       "\n",
       "  <div class=\"bk-root\" id=\"1d185935-88eb-49aa-94ad-986c83dc4c7b\" data-root-id=\"2190\"></div>\n"
      ]
     },
     "metadata": {},
     "output_type": "display_data"
    },
    {
     "data": {
      "application/javascript": [
       "(function(root) {\n",
       "  function embed_document(root) {\n",
       "    \n",
       "  var docs_json = {\"ccb73dd3-e91c-4bf3-8a87-b73281c4f128\":{\"roots\":{\"references\":[{\"attributes\":{\"children\":[[{\"id\":\"2123\"},0,0]]},\"id\":\"2190\",\"type\":\"GridBox\"},{\"attributes\":{},\"id\":\"2143\",\"type\":\"WheelZoomTool\"},{\"attributes\":{\"text\":\"\"},\"id\":\"2124\",\"type\":\"Title\"},{\"attributes\":{},\"id\":\"2145\",\"type\":\"SaveTool\"},{\"attributes\":{\"data_source\":{\"id\":\"2159\"},\"glyph\":{\"id\":\"2169\"},\"hover_glyph\":null,\"muted_glyph\":null,\"nonselection_glyph\":{\"id\":\"2170\"},\"selection_glyph\":null,\"view\":{\"id\":\"2172\"}},\"id\":\"2171\",\"type\":\"GlyphRenderer\"},{\"attributes\":{\"overlay\":{\"id\":\"2148\"}},\"id\":\"2144\",\"type\":\"BoxZoomTool\"},{\"attributes\":{\"end\":9.765,\"start\":-0.765},\"id\":\"2128\",\"type\":\"Range1d\"},{\"attributes\":{},\"id\":\"2188\",\"type\":\"Selection\"},{\"attributes\":{\"fill_color\":{\"field\":\"fill_color\"},\"line_color\":{\"field\":\"line_color\"},\"size\":{\"units\":\"screen\",\"value\":12},\"x\":{\"field\":\"x\"},\"y\":{\"field\":\"y\"}},\"id\":\"2169\",\"type\":\"Circle\"},{\"attributes\":{\"end\":21.7,\"start\":-1.7000000000000002},\"id\":\"2126\",\"type\":\"Range1d\"},{\"attributes\":{},\"id\":\"2139\",\"type\":\"BasicTicker\"},{\"attributes\":{\"source\":{\"id\":\"2159\"}},\"id\":\"2172\",\"type\":\"CDSView\"},{\"attributes\":{\"data\":{\"fill_color\":[\"steelblue\",\"steelblue\",\"steelblue\",\"steelblue\",\"steelblue\",\"steelblue\",\"steelblue\",\"steelblue\",\"steelblue\",\"steelblue\",\"steelblue\",\"steelblue\",\"steelblue\",\"steelblue\",\"steelblue\",\"steelblue\",\"steelblue\",\"steelblue\"],\"line_color\":[\"steelblue\",\"steelblue\",\"steelblue\",\"steelblue\",\"steelblue\",\"steelblue\",\"steelblue\",\"steelblue\",\"steelblue\",\"steelblue\",\"steelblue\",\"steelblue\",\"steelblue\",\"steelblue\",\"steelblue\",\"steelblue\",\"steelblue\",\"steelblue\"],\"x\":[0,2,4,8,12,14,18,10,14,19,19,10,12,17,13,18,12,20],\"y\":[8,5,2,6,7,8,9,6,7,7,6,4,6,6,4,2,0,1]},\"selected\":{\"id\":\"2188\"},\"selection_policy\":{\"id\":\"2187\"}},\"id\":\"2159\",\"type\":\"ColumnDataSource\"},{\"attributes\":{\"axis\":{\"id\":\"2138\"},\"dimension\":1,\"grid_line_color\":null,\"ticker\":null},\"id\":\"2141\",\"type\":\"Grid\"},{\"attributes\":{\"line_alpha\":{\"field\":\"visible\"},\"line_color\":{\"field\":\"line_color\"},\"line_width\":{\"value\":6},\"xs\":{\"field\":\"xs\"},\"ys\":{\"field\":\"ys\"}},\"id\":\"2163\",\"type\":\"MultiLine\"},{\"attributes\":{\"axis\":{\"id\":\"2134\"},\"grid_line_color\":null,\"ticker\":null},\"id\":\"2137\",\"type\":\"Grid\"},{\"attributes\":{},\"id\":\"2186\",\"type\":\"Selection\"},{\"attributes\":{\"source\":{\"id\":\"2160\"}},\"id\":\"2167\",\"type\":\"CDSView\"},{\"attributes\":{},\"id\":\"2146\",\"type\":\"ResetTool\"},{\"attributes\":{},\"id\":\"2187\",\"type\":\"UnionRenderers\"},{\"attributes\":{\"data\":{\"line_color\":[\"black\",\"lightgray\",\"black\",\"lightgray\",\"lightgray\",\"lightgray\",\"lightgray\",\"lightgray\",\"lightgray\",\"lightgray\",\"lightgray\",\"lightgray\",\"lightgray\",\"lightgray\",\"lightgray\",\"lightgray\",\"lightgray\",\"black\",\"lightgray\",\"lightgray\",\"lightgray\",\"lightgray\",\"lightgray\",\"lightgray\",\"lightgray\",\"lightgray\",\"lightgray\",\"lightgray\",\"lightgray\",\"lightgray\",\"lightgray\",\"lightgray\",\"lightgray\",\"lightgray\",\"lightgray\",\"lightgray\",\"lightgray\",\"lightgray\",\"lightgray\",\"lightgray\",\"lightgray\",\"lightgray\",\"lightgray\",\"lightgray\",\"lightgray\",\"lightgray\",\"black\",\"lightgray\",\"lightgray\",\"lightgray\",\"lightgray\",\"black\",\"lightgray\",\"lightgray\",\"lightgray\",\"lightgray\",\"lightgray\",\"lightgray\",\"lightgray\",\"lightgray\",\"lightgray\",\"lightgray\",\"lightgray\",\"lightgray\",\"lightgray\",\"black\",\"lightgray\",\"lightgray\",\"lightgray\",\"black\",\"lightgray\",\"lightgray\",\"lightgray\",\"lightgray\",\"lightgray\",\"black\",\"lightgray\",\"black\",\"lightgray\",\"lightgray\",\"lightgray\",\"lightgray\",\"lightgray\",\"lightgray\",\"lightgray\",\"lightgray\",\"lightgray\",\"lightgray\",\"lightgray\",\"black\",\"lightgray\",\"lightgray\",\"lightgray\",\"lightgray\",\"lightgray\",\"lightgray\",\"lightgray\",\"lightgray\",\"lightgray\",\"lightgray\",\"lightgray\",\"black\",\"lightgray\",\"lightgray\",\"lightgray\",\"lightgray\",\"lightgray\",\"lightgray\",\"lightgray\",\"lightgray\",\"lightgray\",\"lightgray\",\"lightgray\",\"lightgray\",\"lightgray\",\"lightgray\",\"lightgray\",\"lightgray\",\"lightgray\",\"lightgray\",\"black\",\"lightgray\",\"lightgray\",\"lightgray\",\"lightgray\",\"lightgray\",\"lightgray\",\"black\",\"lightgray\",\"black\",\"lightgray\",\"lightgray\",\"lightgray\",\"lightgray\",\"black\",\"lightgray\",\"lightgray\",\"lightgray\",\"lightgray\",\"black\",\"lightgray\",\"lightgray\",\"lightgray\",\"lightgray\",\"lightgray\",\"lightgray\",\"lightgray\",\"lightgray\",\"lightgray\",\"lightgray\",\"lightgray\",\"black\",\"black\"],\"visible\":[true,false,true,false,false,false,false,false,false,false,false,false,false,false,false,false,false,true,false,false,false,false,false,false,false,false,false,false,false,false,false,false,false,false,false,false,false,false,false,false,false,false,false,false,false,false,true,false,false,false,false,true,false,false,false,false,false,false,false,false,false,false,false,false,false,true,false,false,false,true,false,false,false,false,false,true,false,true,false,false,false,false,false,false,false,false,false,false,false,true,false,false,false,false,false,false,false,false,false,false,false,true,false,false,false,false,false,false,false,false,false,false,false,false,false,false,false,false,false,false,true,false,false,false,false,false,false,true,false,true,false,false,false,false,true,false,false,false,false,true,false,false,false,false,false,false,false,false,false,false,false,true,true],\"weight\":[5,10,10,13,14,19,12,15,20,21,14,14,19,17,24,20,27,5,7,12,15,20,9,14,19,18,9,11,16,12,19,15,22,8,13,16,21,10,15,20,19,8,12,17,11,14,10,17,5,8,13,2,7,12,11,4,4,9,7,14,10,17,3,8,3,2,7,8,5,1,6,4,11,7,14,5,6,1,6,7,8,4,5,5,10,10,13,11,6,3,4,13,9,4,10,7,15,10,5,10,9,2,2,7,5,12,8,15,5,6,7,3,4,4,9,9,12,1,12,8,3,9,6,14,7,11,7,2,8,5,13,6,4,9,3,10,6,13,5,3,10,6,13,6,5,11,8,7,5,10,8,3,9],\"xs\":[[0,2],[0,4],[0,8],[0,12],[0,14],[0,18],[0,10],[0,14],[0,19],[0,19],[0,10],[0,12],[0,17],[0,13],[0,18],[0,12],[0,20],[2,4],[2,8],[2,12],[2,14],[2,18],[2,10],[2,14],[2,19],[2,19],[2,10],[2,12],[2,17],[2,13],[2,18],[2,12],[2,20],[4,8],[4,12],[4,14],[4,18],[4,10],[4,14],[4,19],[4,19],[4,10],[4,12],[4,17],[4,13],[4,18],[4,12],[4,20],[8,12],[8,14],[8,18],[8,10],[8,14],[8,19],[8,19],[8,10],[8,12],[8,17],[8,13],[8,18],[8,12],[8,20],[12,14],[12,18],[12,10],[12,14],[12,19],[12,19],[12,10],[12,12],[12,17],[12,13],[12,18],[12,12],[12,20],[14,18],[14,10],[14,14],[14,19],[14,19],[14,10],[14,12],[14,17],[14,13],[14,18],[14,12],[14,20],[18,10],[18,14],[18,19],[18,19],[18,10],[18,12],[18,17],[18,13],[18,18],[18,12],[18,20],[10,14],[10,19],[10,19],[10,10],[10,12],[10,17],[10,13],[10,18],[10,12],[10,20],[14,19],[14,19],[14,10],[14,12],[14,17],[14,13],[14,18],[14,12],[14,20],[19,19],[19,10],[19,12],[19,17],[19,13],[19,18],[19,12],[19,20],[19,10],[19,12],[19,17],[19,13],[19,18],[19,12],[19,20],[10,12],[10,17],[10,13],[10,18],[10,12],[10,20],[12,17],[12,13],[12,18],[12,12],[12,20],[17,13],[17,18],[17,12],[17,20],[13,18],[13,12],[13,20],[18,12],[18,20],[12,20]],\"ys\":[[8,5],[8,2],[8,6],[8,7],[8,8],[8,9],[8,6],[8,7],[8,7],[8,6],[8,4],[8,6],[8,6],[8,4],[8,2],[8,0],[8,1],[5,2],[5,6],[5,7],[5,8],[5,9],[5,6],[5,7],[5,7],[5,6],[5,4],[5,6],[5,6],[5,4],[5,2],[5,0],[5,1],[2,6],[2,7],[2,8],[2,9],[2,6],[2,7],[2,7],[2,6],[2,4],[2,6],[2,6],[2,4],[2,2],[2,0],[2,1],[6,7],[6,8],[6,9],[6,6],[6,7],[6,7],[6,6],[6,4],[6,6],[6,6],[6,4],[6,2],[6,0],[6,1],[7,8],[7,9],[7,6],[7,7],[7,7],[7,6],[7,4],[7,6],[7,6],[7,4],[7,2],[7,0],[7,1],[8,9],[8,6],[8,7],[8,7],[8,6],[8,4],[8,6],[8,6],[8,4],[8,2],[8,0],[8,1],[9,6],[9,7],[9,7],[9,6],[9,4],[9,6],[9,6],[9,4],[9,2],[9,0],[9,1],[6,7],[6,7],[6,6],[6,4],[6,6],[6,6],[6,4],[6,2],[6,0],[6,1],[7,7],[7,6],[7,4],[7,6],[7,6],[7,4],[7,2],[7,0],[7,1],[7,6],[7,4],[7,6],[7,6],[7,4],[7,2],[7,0],[7,1],[6,4],[6,6],[6,6],[6,4],[6,2],[6,0],[6,1],[4,6],[4,6],[4,4],[4,2],[4,0],[4,1],[6,6],[6,4],[6,2],[6,0],[6,1],[6,4],[6,2],[6,0],[6,1],[4,2],[4,0],[4,1],[2,0],[2,1],[0,1]]},\"selected\":{\"id\":\"2186\"},\"selection_policy\":{\"id\":\"2185\"}},\"id\":\"2160\",\"type\":\"ColumnDataSource\"},{\"attributes\":{\"line_alpha\":{\"field\":\"visible\"},\"line_width\":{\"value\":6},\"xs\":{\"field\":\"xs\"},\"ys\":{\"field\":\"ys\"}},\"id\":\"2165\",\"type\":\"MultiLine\"},{\"attributes\":{},\"id\":\"2179\",\"type\":\"BasicTickFormatter\"},{\"attributes\":{},\"id\":\"2147\",\"type\":\"HelpTool\"},{\"attributes\":{\"data_source\":{\"id\":\"2160\"},\"glyph\":{\"id\":\"2163\"},\"hover_glyph\":{\"id\":\"2165\"},\"muted_glyph\":null,\"nonselection_glyph\":{\"id\":\"2164\"},\"selection_glyph\":null,\"view\":{\"id\":\"2167\"}},\"id\":\"2166\",\"type\":\"GlyphRenderer\"},{\"attributes\":{\"formatter\":{\"id\":\"2181\"},\"ticker\":{\"id\":\"2139\"},\"visible\":false},\"id\":\"2138\",\"type\":\"LinearAxis\"},{\"attributes\":{},\"id\":\"2185\",\"type\":\"UnionRenderers\"},{\"attributes\":{},\"id\":\"2130\",\"type\":\"LinearScale\"},{\"attributes\":{},\"id\":\"2135\",\"type\":\"BasicTicker\"},{\"attributes\":{\"fill_color\":{\"field\":\"fill_color\"},\"line_alpha\":{\"value\":0.1},\"line_color\":{\"field\":\"line_color\"},\"size\":{\"units\":\"screen\",\"value\":12},\"x\":{\"field\":\"x\"},\"y\":{\"field\":\"y\"}},\"id\":\"2170\",\"type\":\"Circle\"},{\"attributes\":{},\"id\":\"2183\",\"type\":\"Selection\"},{\"attributes\":{\"background_fill_color\":null,\"below\":[{\"id\":\"2134\"}],\"border_fill_color\":null,\"center\":[{\"id\":\"2137\"},{\"id\":\"2141\"},{\"id\":\"2173\"}],\"left\":[{\"id\":\"2138\"}],\"outline_line_color\":null,\"plot_height\":500,\"plot_width\":900,\"renderers\":[{\"id\":\"2166\"},{\"id\":\"2171\"}],\"title\":{\"id\":\"2124\"},\"toolbar\":{\"id\":\"2149\"},\"toolbar_location\":null,\"x_range\":{\"id\":\"2126\"},\"x_scale\":{\"id\":\"2130\"},\"y_range\":{\"id\":\"2128\"},\"y_scale\":{\"id\":\"2132\"}},\"id\":\"2123\",\"subtype\":\"Figure\",\"type\":\"Plot\"},{\"attributes\":{},\"id\":\"2132\",\"type\":\"LinearScale\"},{\"attributes\":{\"bottom_units\":\"screen\",\"fill_alpha\":0.5,\"fill_color\":\"lightgrey\",\"left_units\":\"screen\",\"level\":\"overlay\",\"line_alpha\":1.0,\"line_color\":\"black\",\"line_dash\":[4,4],\"line_width\":2,\"right_units\":\"screen\",\"top_units\":\"screen\"},\"id\":\"2148\",\"type\":\"BoxAnnotation\"},{\"attributes\":{\"source\":{\"id\":\"2161\"},\"visible\":false,\"x\":{\"field\":\"x\"},\"y\":{\"field\":\"y\"}},\"id\":\"2173\",\"type\":\"LabelSet\"},{\"attributes\":{\"active_drag\":null,\"active_inspect\":\"auto\",\"active_multi\":null,\"active_scroll\":null,\"active_tap\":\"auto\",\"logo\":null,\"tools\":[{\"id\":\"2142\"},{\"id\":\"2143\"},{\"id\":\"2144\"},{\"id\":\"2145\"},{\"id\":\"2146\"},{\"id\":\"2147\"},{\"id\":\"2175\"}]},\"id\":\"2149\",\"type\":\"Toolbar\"},{\"attributes\":{\"formatter\":{\"id\":\"2179\"},\"ticker\":{\"id\":\"2135\"},\"visible\":false},\"id\":\"2134\",\"type\":\"LinearAxis\"},{\"attributes\":{\"data\":{\"text\":[5,10,10,13,14,19,12,15,20,21,14,14,19,17,24,20,27,5,7,12,15,20,9,14,19,18,9,11,16,12,19,15,22,8,13,16,21,10,15,20,19,8,12,17,11,14,10,17,5,8,13,2,7,12,11,4,4,9,7,14,10,17,3,8,3,2,7,8,5,1,6,4,11,7,14,5,6,1,6,7,8,4,5,5,10,10,13,11,6,3,4,13,9,4,10,7,15,10,5,10,9,2,2,7,5,12,8,15,5,6,7,3,4,4,9,9,12,1,12,8,3,9,6,14,7,11,7,2,8,5,13,6,4,9,3,10,6,13,5,3,10,6,13,6,5,11,8,7,5,10,8,3,9],\"x\":[1.0,2.0,4.0,6.0,7.0,9.0,5.0,7.0,9.5,9.5,5.0,6.0,8.5,6.5,9.0,6.0,10.0,3.0,5.0,7.0,8.0,10.0,6.0,8.0,10.5,10.5,6.0,7.0,9.5,7.5,10.0,7.0,11.0,6.0,8.0,9.0,11.0,7.0,9.0,11.5,11.5,7.0,8.0,10.5,8.5,11.0,8.0,12.0,10.0,11.0,13.0,9.0,11.0,13.5,13.5,9.0,10.0,12.5,10.5,13.0,10.0,14.0,13.0,15.0,11.0,13.0,15.5,15.5,11.0,12.0,14.5,12.5,15.0,12.0,16.0,16.0,12.0,14.0,16.5,16.5,12.0,13.0,15.5,13.5,16.0,13.0,17.0,14.0,16.0,18.5,18.5,14.0,15.0,17.5,15.5,18.0,15.0,19.0,12.0,14.5,14.5,10.0,11.0,13.5,11.5,14.0,11.0,15.0,16.5,16.5,12.0,13.0,15.5,13.5,16.0,13.0,17.0,19.0,14.5,15.5,18.0,16.0,18.5,15.5,19.5,14.5,15.5,18.0,16.0,18.5,15.5,19.5,11.0,13.5,11.5,14.0,11.0,15.0,14.5,12.5,15.0,12.0,16.0,15.0,17.5,14.5,18.5,15.5,12.5,16.5,15.0,19.0,16.0],\"y\":[6.5,5.0,7.0,7.5,8.0,8.5,7.0,7.5,7.5,7.0,6.0,7.0,7.0,6.0,5.0,4.0,4.5,3.5,5.5,6.0,6.5,7.0,5.5,6.0,6.0,5.5,4.5,5.5,5.5,4.5,3.5,2.5,3.0,4.0,4.5,5.0,5.5,4.0,4.5,4.5,4.0,3.0,4.0,4.0,3.0,2.0,1.0,1.5,6.5,7.0,7.5,6.0,6.5,6.5,6.0,5.0,6.0,6.0,5.0,4.0,3.0,3.5,7.5,8.0,6.5,7.0,7.0,6.5,5.5,6.5,6.5,5.5,4.5,3.5,4.0,8.5,7.0,7.5,7.5,7.0,6.0,7.0,7.0,6.0,5.0,4.0,4.5,7.5,8.0,8.0,7.5,6.5,7.5,7.5,6.5,5.5,4.5,5.0,6.5,6.5,6.0,5.0,6.0,6.0,5.0,4.0,3.0,3.5,7.0,6.5,5.5,6.5,6.5,5.5,4.5,3.5,4.0,6.5,5.5,6.5,6.5,5.5,4.5,3.5,4.0,5.0,6.0,6.0,5.0,4.0,3.0,3.5,5.0,5.0,4.0,3.0,2.0,2.5,6.0,5.0,4.0,3.0,3.5,5.0,4.0,3.0,3.5,3.0,2.0,2.5,1.0,1.5,0.5]},\"selected\":{\"id\":\"2183\"},\"selection_policy\":{\"id\":\"2182\"}},\"id\":\"2161\",\"type\":\"ColumnDataSource\"},{\"attributes\":{},\"id\":\"2182\",\"type\":\"UnionRenderers\"},{\"attributes\":{},\"id\":\"2142\",\"type\":\"PanTool\"},{\"attributes\":{\"line_color\":{\"field\":\"line_color\"},\"line_width\":{\"value\":6},\"xs\":{\"field\":\"xs\"},\"ys\":{\"field\":\"ys\"}},\"id\":\"2164\",\"type\":\"MultiLine\"},{\"attributes\":{\"callback\":null,\"renderers\":[{\"id\":\"2171\"}],\"tooltips\":[[\"Node\",\"$index\"]]},\"id\":\"2175\",\"type\":\"HoverTool\"},{\"attributes\":{},\"id\":\"2181\",\"type\":\"BasicTickFormatter\"}],\"root_ids\":[\"2190\"]},\"title\":\"Bokeh Application\",\"version\":\"2.2.3\"}};\n",
       "  var render_items = [{\"docid\":\"ccb73dd3-e91c-4bf3-8a87-b73281c4f128\",\"root_ids\":[\"2190\"],\"roots\":{\"2190\":\"1d185935-88eb-49aa-94ad-986c83dc4c7b\"}}];\n",
       "  root.Bokeh.embed.embed_items_notebook(docs_json, render_items);\n",
       "\n",
       "  }\n",
       "  if (root.Bokeh !== undefined) {\n",
       "    embed_document(root);\n",
       "  } else {\n",
       "    var attempts = 0;\n",
       "    var timer = setInterval(function(root) {\n",
       "      if (root.Bokeh !== undefined) {\n",
       "        clearInterval(timer);\n",
       "        embed_document(root);\n",
       "      } else {\n",
       "        attempts++;\n",
       "        if (attempts > 100) {\n",
       "          clearInterval(timer);\n",
       "          console.log(\"Bokeh: ERROR: Unable to run BokehJS code because BokehJS library is missing\");\n",
       "        }\n",
       "      }\n",
       "    }, 10, root)\n",
       "  }\n",
       "})(window);"
      ],
      "application/vnd.bokehjs_exec.v0+json": ""
     },
     "metadata": {
      "application/vnd.bokehjs_exec.v0+json": {
       "id": "2190"
      }
     },
     "output_type": "display_data"
    }
   ],
   "source": [
    "# run furthest insertion, print cost, and visualize\n",
    "tour = insertion(G, nearest=False, initial=[0,17,0])\n",
    "print(tour_cost(G,tour))\n",
    "edges = [(tour[i], tour[i+1]) for i in range(len(tour)-1)]\n",
    "plot_graph(G, edges=edges, show_all_edges=False, show_labels=False)"
   ]
  },
  {
   "cell_type": "code",
   "execution_count": 9,
   "metadata": {
    "scrolled": false
   },
   "outputs": [
    {
     "data": {
      "text/html": [
       "\n",
       "\n",
       "\n",
       "\n",
       "\n",
       "\n",
       "  <div class=\"bk-root\" id=\"9659d594-6823-4b3e-bf1a-380155db21d3\" data-root-id=\"2451\"></div>\n"
      ]
     },
     "metadata": {},
     "output_type": "display_data"
    },
    {
     "data": {
      "application/javascript": [
       "(function(root) {\n",
       "  function embed_document(root) {\n",
       "    \n",
       "  var docs_json = {\"86d59e24-1ba7-4ee5-a0bf-4d585928020a\":{\"roots\":{\"references\":[{\"attributes\":{\"children\":[[{\"id\":\"2359\"},0,0],[{\"id\":\"2428\"},1,0],[{\"id\":\"2429\"},2,0]]},\"id\":\"2451\",\"type\":\"GridBox\"},{\"attributes\":{\"source\":{\"id\":\"2415\"}},\"id\":\"2420\",\"type\":\"CDSView\"},{\"attributes\":{\"source\":{\"id\":\"2397\"},\"visible\":false,\"x\":{\"field\":\"x\"},\"y\":{\"field\":\"y\"}},\"id\":\"2413\",\"type\":\"LabelSet\"},{\"attributes\":{\"children\":[{\"id\":\"2421\"},{\"id\":\"2401\"}]},\"id\":\"2429\",\"type\":\"Row\"},{\"attributes\":{},\"id\":\"2383\",\"type\":\"HelpTool\"},{\"attributes\":{\"data\":{\"xs\":[[0,2],[0,2]],\"ys\":[[8,5],[8,5]]},\"selected\":{\"id\":\"2443\"},\"selection_policy\":{\"id\":\"2442\"}},\"id\":\"2415\",\"type\":\"ColumnDataSource\"},{\"attributes\":{},\"id\":\"2432\",\"type\":\"BasicTickFormatter\"},{\"attributes\":{\"line_alpha\":{\"field\":\"visible\"},\"line_color\":{\"field\":\"line_color\"},\"line_width\":{\"value\":6},\"xs\":{\"field\":\"xs\"},\"ys\":{\"field\":\"ys\"}},\"id\":\"2403\",\"type\":\"MultiLine\"},{\"attributes\":{\"children\":[{\"id\":\"2424\"},{\"id\":\"2422\"}],\"max_width\":900,\"sizing_mode\":\"stretch_both\"},\"id\":\"2428\",\"type\":\"Row\"},{\"attributes\":{},\"id\":\"2436\",\"type\":\"Selection\"},{\"attributes\":{\"align\":\"center\",\"text\":\"0\",\"width\":900},\"id\":\"2399\",\"type\":\"Div\"},{\"attributes\":{},\"id\":\"2381\",\"type\":\"SaveTool\"},{\"attributes\":{},\"id\":\"2441\",\"type\":\"Selection\"},{\"attributes\":{},\"id\":\"2435\",\"type\":\"UnionRenderers\"},{\"attributes\":{\"source\":{\"id\":\"2395\"}},\"id\":\"2412\",\"type\":\"CDSView\"},{\"attributes\":{},\"id\":\"2442\",\"type\":\"UnionRenderers\"},{\"attributes\":{},\"id\":\"2439\",\"type\":\"Selection\"},{\"attributes\":{},\"id\":\"2440\",\"type\":\"UnionRenderers\"},{\"attributes\":{},\"id\":\"2379\",\"type\":\"WheelZoomTool\"},{\"attributes\":{\"fill_color\":{\"field\":\"fill_color\"},\"line_color\":{\"field\":\"line_color\"},\"size\":{\"units\":\"screen\",\"value\":12},\"x\":{\"field\":\"x\"},\"y\":{\"field\":\"y\"}},\"id\":\"2409\",\"type\":\"Circle\"},{\"attributes\":{\"axis\":{\"id\":\"2370\"},\"grid_line_color\":null,\"ticker\":null},\"id\":\"2373\",\"type\":\"Grid\"},{\"attributes\":{\"overlay\":{\"id\":\"2384\"}},\"id\":\"2380\",\"type\":\"BoxZoomTool\"},{\"attributes\":{},\"id\":\"2382\",\"type\":\"ResetTool\"},{\"attributes\":{\"data_source\":{\"id\":\"2415\"},\"glyph\":{\"id\":\"2417\"},\"hover_glyph\":null,\"muted_glyph\":null,\"nonselection_glyph\":{\"id\":\"2418\"},\"selection_glyph\":null,\"view\":{\"id\":\"2420\"}},\"id\":\"2419\",\"type\":\"GlyphRenderer\"},{\"attributes\":{},\"id\":\"2434\",\"type\":\"BasicTickFormatter\"},{\"attributes\":{\"line_alpha\":{\"field\":\"visible\"},\"line_width\":{\"value\":6},\"xs\":{\"field\":\"xs\"},\"ys\":{\"field\":\"ys\"}},\"id\":\"2405\",\"type\":\"MultiLine\"},{\"attributes\":{\"data\":{\"fill_color\":[\"#EA8585\",\"#EA8585\",\"#EA8585\",\"#EA8585\",\"#EA8585\",\"#EA8585\",\"#EA8585\",\"#EA8585\",\"#EA8585\",\"#EA8585\",\"#EA8585\",\"#EA8585\",\"#EA8585\",\"#EA8585\",\"#EA8585\",\"#EA8585\",\"#EA8585\",\"#EA8585\"],\"line_color\":[\"#EA8585\",\"#EA8585\",\"#EA8585\",\"#EA8585\",\"#EA8585\",\"#EA8585\",\"#EA8585\",\"#EA8585\",\"#EA8585\",\"#EA8585\",\"#EA8585\",\"#EA8585\",\"#EA8585\",\"#EA8585\",\"#EA8585\",\"#EA8585\",\"#EA8585\",\"#EA8585\"],\"x\":[0,2,4,8,12,14,18,10,14,19,19,10,12,17,13,18,12,20],\"y\":[8,5,2,6,7,8,9,6,7,7,6,4,6,6,4,2,0,1]},\"selected\":{\"id\":\"2441\"},\"selection_policy\":{\"id\":\"2440\"}},\"id\":\"2395\",\"type\":\"ColumnDataSource\"},{\"attributes\":{\"data\":{\"costs\":[10,20,28,32,36,40,40,44,44,46,54,58,58,60,68,76,80],\"edge_xs\":[[[0,2],[0,2]],[[0,4],[2,4],[0,2]],[[0,8],[4,8],[2,4],[0,2]],[[0,10],[8,10],[4,8],[2,4],[0,2]],[[0,10],[10,10],[8,10],[4,8],[2,4],[0,2]],[[0,12],[10,12],[10,10],[8,10],[4,8],[2,4],[0,2]],[[0,12],[12,12],[10,12],[10,10],[8,10],[4,8],[2,4],[0,2]],[[0,14],[12,14],[12,12],[10,12],[10,10],[8,10],[4,8],[2,4],[0,2]],[[0,14],[14,14],[12,14],[12,12],[10,12],[10,10],[8,10],[4,8],[2,4],[0,2]],[[0,14],[14,14],[12,14],[12,12],[12,13],[10,13],[10,10],[8,10],[4,8],[2,4],[0,2]],[[0,14],[14,17],[14,17],[12,14],[12,12],[12,13],[10,13],[10,10],[8,10],[4,8],[2,4],[0,2]],[[0,14],[14,19],[19,17],[14,17],[12,14],[12,12],[12,13],[10,13],[10,10],[8,10],[4,8],[2,4],[0,2]],[[0,14],[14,19],[19,19],[19,17],[14,17],[12,14],[12,12],[12,13],[10,13],[10,10],[8,10],[4,8],[2,4],[0,2]],[[0,14],[14,18],[18,19],[19,19],[19,17],[14,17],[12,14],[12,12],[12,13],[10,13],[10,10],[8,10],[4,8],[2,4],[0,2]],[[0,14],[14,18],[18,19],[19,19],[19,17],[14,17],[12,14],[12,12],[12,12],[13,12],[10,13],[10,10],[8,10],[4,8],[2,4],[0,2]],[[0,14],[14,18],[18,19],[19,19],[19,18],[17,18],[14,17],[12,14],[12,12],[12,12],[13,12],[10,13],[10,10],[8,10],[4,8],[2,4],[0,2]],[[0,14],[14,18],[18,19],[19,19],[19,20],[18,20],[17,18],[14,17],[12,14],[12,12],[12,12],[13,12],[10,13],[10,10],[8,10],[4,8],[2,4],[0,2]]],\"edge_ys\":[[[8,5],[8,5]],[[8,2],[5,2],[8,5]],[[8,6],[2,6],[5,2],[8,5]],[[8,6],[6,6],[2,6],[5,2],[8,5]],[[8,4],[6,4],[6,6],[2,6],[5,2],[8,5]],[[8,6],[4,6],[6,4],[6,6],[2,6],[5,2],[8,5]],[[8,7],[7,6],[4,6],[6,4],[6,6],[2,6],[5,2],[8,5]],[[8,7],[7,7],[7,6],[4,6],[6,4],[6,6],[2,6],[5,2],[8,5]],[[8,8],[8,7],[7,7],[7,6],[4,6],[6,4],[6,6],[2,6],[5,2],[8,5]],[[8,8],[8,7],[7,7],[7,6],[6,4],[4,4],[6,4],[6,6],[2,6],[5,2],[8,5]],[[8,8],[8,6],[7,6],[7,7],[7,6],[6,4],[4,4],[6,4],[6,6],[2,6],[5,2],[8,5]],[[8,8],[8,6],[6,6],[7,6],[7,7],[7,6],[6,4],[4,4],[6,4],[6,6],[2,6],[5,2],[8,5]],[[8,8],[8,7],[7,6],[6,6],[7,6],[7,7],[7,6],[6,4],[4,4],[6,4],[6,6],[2,6],[5,2],[8,5]],[[8,8],[8,9],[9,7],[7,6],[6,6],[7,6],[7,7],[7,6],[6,4],[4,4],[6,4],[6,6],[2,6],[5,2],[8,5]],[[8,8],[8,9],[9,7],[7,6],[6,6],[7,6],[7,7],[7,6],[6,0],[4,0],[4,4],[6,4],[6,6],[2,6],[5,2],[8,5]],[[8,8],[8,9],[9,7],[7,6],[6,2],[6,2],[7,6],[7,7],[7,6],[6,0],[4,0],[4,4],[6,4],[6,6],[2,6],[5,2],[8,5]],[[8,8],[8,9],[9,7],[7,6],[6,1],[2,1],[6,2],[7,6],[7,7],[7,6],[6,0],[4,0],[4,4],[6,4],[6,6],[2,6],[5,2],[8,5]]],\"nodes\":[[0,1,0],[0,2,1,0],[0,3,2,1,0],[0,7,3,2,1,0],[0,11,7,3,2,1,0],[0,12,11,7,3,2,1,0],[0,4,12,11,7,3,2,1,0],[0,8,4,12,11,7,3,2,1,0],[0,5,8,4,12,11,7,3,2,1,0],[0,5,8,4,12,14,11,7,3,2,1,0],[0,5,13,8,4,12,14,11,7,3,2,1,0],[0,5,10,13,8,4,12,14,11,7,3,2,1,0],[0,5,9,10,13,8,4,12,14,11,7,3,2,1,0],[0,5,6,9,10,13,8,4,12,14,11,7,3,2,1,0],[0,5,6,9,10,13,8,4,12,16,14,11,7,3,2,1,0],[0,5,6,9,10,15,13,8,4,12,16,14,11,7,3,2,1,0],[0,5,6,9,10,17,15,13,8,4,12,16,14,11,7,3,2,1,0]]},\"selected\":{\"id\":\"2448\"},\"selection_policy\":{\"id\":\"2447\"}},\"id\":\"2398\",\"type\":\"ColumnDataSource\"},{\"attributes\":{},\"id\":\"2448\",\"type\":\"Selection\"},{\"attributes\":{\"axis\":{\"id\":\"2374\"},\"dimension\":1,\"grid_line_color\":null,\"ticker\":null},\"id\":\"2377\",\"type\":\"Grid\"},{\"attributes\":{\"background_fill_color\":null,\"below\":[{\"id\":\"2370\"}],\"border_fill_color\":null,\"center\":[{\"id\":\"2373\"},{\"id\":\"2377\"},{\"id\":\"2413\"}],\"left\":[{\"id\":\"2374\"}],\"outline_line_color\":null,\"plot_height\":500,\"plot_width\":900,\"renderers\":[{\"id\":\"2406\"},{\"id\":\"2411\"},{\"id\":\"2419\"}],\"title\":{\"id\":\"2360\"},\"toolbar\":{\"id\":\"2385\"},\"toolbar_location\":null,\"x_range\":{\"id\":\"2362\"},\"x_scale\":{\"id\":\"2366\"},\"y_range\":{\"id\":\"2364\"},\"y_scale\":{\"id\":\"2368\"}},\"id\":\"2359\",\"subtype\":\"Figure\",\"type\":\"Plot\"},{\"attributes\":{\"end\":9.765,\"start\":-0.765},\"id\":\"2364\",\"type\":\"Range1d\"},{\"attributes\":{\"button_type\":\"success\",\"icon\":null,\"js_event_callbacks\":{\"button_click\":[{\"id\":\"2423\"}]},\"label\":\"Next\",\"sizing_mode\":\"scale_width\",\"width_policy\":\"fit\"},\"id\":\"2422\",\"type\":\"Button\"},{\"attributes\":{\"fill_color\":{\"field\":\"fill_color\"},\"line_alpha\":{\"value\":0.1},\"line_color\":{\"field\":\"line_color\"},\"size\":{\"units\":\"screen\",\"value\":12},\"x\":{\"field\":\"x\"},\"y\":{\"field\":\"y\"}},\"id\":\"2410\",\"type\":\"Circle\"},{\"attributes\":{\"end\":21.7,\"start\":-1.7000000000000002},\"id\":\"2362\",\"type\":\"Range1d\"},{\"attributes\":{},\"id\":\"2447\",\"type\":\"UnionRenderers\"},{\"attributes\":{},\"id\":\"2443\",\"type\":\"Selection\"},{\"attributes\":{\"align\":\"center\",\"text\":\"10\",\"width\":450},\"id\":\"2421\",\"type\":\"Div\"},{\"attributes\":{\"align\":\"center\",\"width\":450},\"id\":\"2401\",\"type\":\"Div\"},{\"attributes\":{\"args\":{\"cost\":{\"id\":\"2421\"},\"done\":{\"id\":\"2401\"},\"edge_subset_src\":{\"id\":\"2415\"},\"k\":{\"id\":\"2400\"},\"n\":{\"id\":\"2399\"},\"nodes_src\":{\"id\":\"2395\"},\"source\":{\"id\":\"2398\"}},\"code\":\"\\nif ((parseInt(n.text) - 1) >= 0) {\\n    n.text = (parseInt(n.text) - 1).toString()\\n}\\nvar iteration = parseInt(n.text)\\n\\nif (iteration == parseInt(k.text) - 1) {\\n    done.text = \\\"done.\\\"\\n} else {\\n    done.text = \\\"\\\"\\n}\\n\\ncost.text = source.data['costs'][iteration].toFixed(1)\\n\\nedge_subset_src.data['xs'] = source.data['edge_xs'][iteration]\\nedge_subset_src.data['ys'] = source.data['edge_ys'][iteration]\\nedge_subset_src.change.emit()\\n\\nvar in_tree = source.data['nodes'][iteration]\\n\\nfor (let i = 0; i < nodes_src.data['line_color'].length ; i++) {\\n    if (in_tree.includes(i)) {\\n        nodes_src.data['fill_color'][i] = 'steelblue'\\n        nodes_src.data['line_color'][i] = 'steelblue'\\n    } else {\\n        nodes_src.data['fill_color'][i] = '#EA8585'\\n        nodes_src.data['line_color'][i] = '#EA8585'\\n    }\\n}\\n\\nnodes_src.change.emit()\\n\"},\"id\":\"2425\",\"type\":\"CustomJS\"},{\"attributes\":{},\"id\":\"2438\",\"type\":\"UnionRenderers\"},{\"attributes\":{\"line_alpha\":{\"value\":0.1},\"line_width\":{\"value\":6},\"xs\":{\"field\":\"xs\"},\"ys\":{\"field\":\"ys\"}},\"id\":\"2418\",\"type\":\"MultiLine\"},{\"attributes\":{\"line_color\":{\"field\":\"line_color\"},\"line_width\":{\"value\":6},\"xs\":{\"field\":\"xs\"},\"ys\":{\"field\":\"ys\"}},\"id\":\"2404\",\"type\":\"MultiLine\"},{\"attributes\":{\"args\":{\"cost\":{\"id\":\"2421\"},\"done\":{\"id\":\"2401\"},\"edge_subset_src\":{\"id\":\"2415\"},\"k\":{\"id\":\"2400\"},\"n\":{\"id\":\"2399\"},\"nodes_src\":{\"id\":\"2395\"},\"source\":{\"id\":\"2398\"}},\"code\":\"\\nif ((parseInt(n.text) + 1) < parseInt(k.text)) {\\n    n.text = (parseInt(n.text) + 1).toString()\\n}\\nvar iteration = parseInt(n.text)\\n\\nif (iteration == parseInt(k.text) - 1) {\\n    done.text = \\\"done.\\\"\\n} else {\\n    done.text = \\\"\\\"\\n}\\n\\ncost.text = source.data['costs'][iteration].toFixed(1)\\n\\nedge_subset_src.data['xs'] = source.data['edge_xs'][iteration]\\nedge_subset_src.data['ys'] = source.data['edge_ys'][iteration]\\nedge_subset_src.change.emit()\\n\\nvar in_tree = source.data['nodes'][iteration]\\n\\nfor (let i = 0; i < nodes_src.data['line_color'].length ; i++) {\\n    if (in_tree.includes(i)) {\\n        nodes_src.data['fill_color'][i] = 'steelblue'\\n        nodes_src.data['line_color'][i] = 'steelblue'\\n    } else {\\n        nodes_src.data['fill_color'][i] = '#EA8585'\\n        nodes_src.data['line_color'][i] = '#EA8585'\\n    }\\n}\\n\\nnodes_src.change.emit()\\n\"},\"id\":\"2423\",\"type\":\"CustomJS\"},{\"attributes\":{\"text\":\"\"},\"id\":\"2360\",\"type\":\"Title\"},{\"attributes\":{},\"id\":\"2375\",\"type\":\"BasicTicker\"},{\"attributes\":{\"data\":{\"text\":[5,10,10,13,14,19,12,15,20,21,14,14,19,17,24,20,27,5,7,12,15,20,9,14,19,18,9,11,16,12,19,15,22,8,13,16,21,10,15,20,19,8,12,17,11,14,10,17,5,8,13,2,7,12,11,4,4,9,7,14,10,17,3,8,3,2,7,8,5,1,6,4,11,7,14,5,6,1,6,7,8,4,5,5,10,10,13,11,6,3,4,13,9,4,10,7,15,10,5,10,9,2,2,7,5,12,8,15,5,6,7,3,4,4,9,9,12,1,12,8,3,9,6,14,7,11,7,2,8,5,13,6,4,9,3,10,6,13,5,3,10,6,13,6,5,11,8,7,5,10,8,3,9],\"x\":[1.0,2.0,4.0,6.0,7.0,9.0,5.0,7.0,9.5,9.5,5.0,6.0,8.5,6.5,9.0,6.0,10.0,3.0,5.0,7.0,8.0,10.0,6.0,8.0,10.5,10.5,6.0,7.0,9.5,7.5,10.0,7.0,11.0,6.0,8.0,9.0,11.0,7.0,9.0,11.5,11.5,7.0,8.0,10.5,8.5,11.0,8.0,12.0,10.0,11.0,13.0,9.0,11.0,13.5,13.5,9.0,10.0,12.5,10.5,13.0,10.0,14.0,13.0,15.0,11.0,13.0,15.5,15.5,11.0,12.0,14.5,12.5,15.0,12.0,16.0,16.0,12.0,14.0,16.5,16.5,12.0,13.0,15.5,13.5,16.0,13.0,17.0,14.0,16.0,18.5,18.5,14.0,15.0,17.5,15.5,18.0,15.0,19.0,12.0,14.5,14.5,10.0,11.0,13.5,11.5,14.0,11.0,15.0,16.5,16.5,12.0,13.0,15.5,13.5,16.0,13.0,17.0,19.0,14.5,15.5,18.0,16.0,18.5,15.5,19.5,14.5,15.5,18.0,16.0,18.5,15.5,19.5,11.0,13.5,11.5,14.0,11.0,15.0,14.5,12.5,15.0,12.0,16.0,15.0,17.5,14.5,18.5,15.5,12.5,16.5,15.0,19.0,16.0],\"y\":[6.5,5.0,7.0,7.5,8.0,8.5,7.0,7.5,7.5,7.0,6.0,7.0,7.0,6.0,5.0,4.0,4.5,3.5,5.5,6.0,6.5,7.0,5.5,6.0,6.0,5.5,4.5,5.5,5.5,4.5,3.5,2.5,3.0,4.0,4.5,5.0,5.5,4.0,4.5,4.5,4.0,3.0,4.0,4.0,3.0,2.0,1.0,1.5,6.5,7.0,7.5,6.0,6.5,6.5,6.0,5.0,6.0,6.0,5.0,4.0,3.0,3.5,7.5,8.0,6.5,7.0,7.0,6.5,5.5,6.5,6.5,5.5,4.5,3.5,4.0,8.5,7.0,7.5,7.5,7.0,6.0,7.0,7.0,6.0,5.0,4.0,4.5,7.5,8.0,8.0,7.5,6.5,7.5,7.5,6.5,5.5,4.5,5.0,6.5,6.5,6.0,5.0,6.0,6.0,5.0,4.0,3.0,3.5,7.0,6.5,5.5,6.5,6.5,5.5,4.5,3.5,4.0,6.5,5.5,6.5,6.5,5.5,4.5,3.5,4.0,5.0,6.0,6.0,5.0,4.0,3.0,3.5,5.0,5.0,4.0,3.0,2.0,2.5,6.0,5.0,4.0,3.0,3.5,5.0,4.0,3.0,3.5,3.0,2.0,2.5,1.0,1.5,0.5]},\"selected\":{\"id\":\"2436\"},\"selection_policy\":{\"id\":\"2435\"}},\"id\":\"2397\",\"type\":\"ColumnDataSource\"},{\"attributes\":{\"align\":\"center\",\"text\":\"17\",\"width\":900},\"id\":\"2400\",\"type\":\"Div\"},{\"attributes\":{},\"id\":\"2366\",\"type\":\"LinearScale\"},{\"attributes\":{\"bottom_units\":\"screen\",\"fill_alpha\":0.5,\"fill_color\":\"lightgrey\",\"left_units\":\"screen\",\"level\":\"overlay\",\"line_alpha\":1.0,\"line_color\":\"black\",\"line_dash\":[4,4],\"line_width\":2,\"right_units\":\"screen\",\"top_units\":\"screen\"},\"id\":\"2384\",\"type\":\"BoxAnnotation\"},{\"attributes\":{\"data_source\":{\"id\":\"2395\"},\"glyph\":{\"id\":\"2409\"},\"hover_glyph\":null,\"muted_glyph\":null,\"nonselection_glyph\":{\"id\":\"2410\"},\"selection_glyph\":null,\"view\":{\"id\":\"2412\"}},\"id\":\"2411\",\"type\":\"GlyphRenderer\"},{\"attributes\":{\"callback\":null,\"renderers\":[{\"id\":\"2411\"}],\"tooltips\":[[\"Node\",\"$index\"]]},\"id\":\"2426\",\"type\":\"HoverTool\"},{\"attributes\":{},\"id\":\"2371\",\"type\":\"BasicTicker\"},{\"attributes\":{\"data_source\":{\"id\":\"2396\"},\"glyph\":{\"id\":\"2403\"},\"hover_glyph\":{\"id\":\"2405\"},\"muted_glyph\":null,\"nonselection_glyph\":{\"id\":\"2404\"},\"selection_glyph\":null,\"view\":{\"id\":\"2407\"},\"visible\":false},\"id\":\"2406\",\"type\":\"GlyphRenderer\"},{\"attributes\":{\"button_type\":\"success\",\"icon\":null,\"js_event_callbacks\":{\"button_click\":[{\"id\":\"2425\"}]},\"label\":\"Previous\",\"sizing_mode\":\"scale_width\",\"width_policy\":\"fit\"},\"id\":\"2424\",\"type\":\"Button\"},{\"attributes\":{\"source\":{\"id\":\"2396\"}},\"id\":\"2407\",\"type\":\"CDSView\"},{\"attributes\":{},\"id\":\"2378\",\"type\":\"PanTool\"},{\"attributes\":{\"active_drag\":null,\"active_inspect\":\"auto\",\"active_multi\":null,\"active_scroll\":null,\"active_tap\":\"auto\",\"logo\":null,\"tools\":[{\"id\":\"2378\"},{\"id\":\"2379\"},{\"id\":\"2380\"},{\"id\":\"2381\"},{\"id\":\"2382\"},{\"id\":\"2383\"},{\"id\":\"2426\"}]},\"id\":\"2385\",\"type\":\"Toolbar\"},{\"attributes\":{\"data\":{\"line_color\":[\"lightgray\",\"lightgray\",\"lightgray\",\"lightgray\",\"lightgray\",\"lightgray\",\"lightgray\",\"lightgray\",\"lightgray\",\"lightgray\",\"lightgray\",\"lightgray\",\"lightgray\",\"lightgray\",\"lightgray\",\"lightgray\",\"lightgray\",\"lightgray\",\"lightgray\",\"lightgray\",\"lightgray\",\"lightgray\",\"lightgray\",\"lightgray\",\"lightgray\",\"lightgray\",\"lightgray\",\"lightgray\",\"lightgray\",\"lightgray\",\"lightgray\",\"lightgray\",\"lightgray\",\"lightgray\",\"lightgray\",\"lightgray\",\"lightgray\",\"lightgray\",\"lightgray\",\"lightgray\",\"lightgray\",\"lightgray\",\"lightgray\",\"lightgray\",\"lightgray\",\"lightgray\",\"lightgray\",\"lightgray\",\"lightgray\",\"lightgray\",\"lightgray\",\"lightgray\",\"lightgray\",\"lightgray\",\"lightgray\",\"lightgray\",\"lightgray\",\"lightgray\",\"lightgray\",\"lightgray\",\"lightgray\",\"lightgray\",\"lightgray\",\"lightgray\",\"lightgray\",\"lightgray\",\"lightgray\",\"lightgray\",\"lightgray\",\"lightgray\",\"lightgray\",\"lightgray\",\"lightgray\",\"lightgray\",\"lightgray\",\"lightgray\",\"lightgray\",\"lightgray\",\"lightgray\",\"lightgray\",\"lightgray\",\"lightgray\",\"lightgray\",\"lightgray\",\"lightgray\",\"lightgray\",\"lightgray\",\"lightgray\",\"lightgray\",\"lightgray\",\"lightgray\",\"lightgray\",\"lightgray\",\"lightgray\",\"lightgray\",\"lightgray\",\"lightgray\",\"lightgray\",\"lightgray\",\"lightgray\",\"lightgray\",\"lightgray\",\"lightgray\",\"lightgray\",\"lightgray\",\"lightgray\",\"lightgray\",\"lightgray\",\"lightgray\",\"lightgray\",\"lightgray\",\"lightgray\",\"lightgray\",\"lightgray\",\"lightgray\",\"lightgray\",\"lightgray\",\"lightgray\",\"lightgray\",\"lightgray\",\"lightgray\",\"lightgray\",\"lightgray\",\"lightgray\",\"lightgray\",\"lightgray\",\"lightgray\",\"lightgray\",\"lightgray\",\"lightgray\",\"lightgray\",\"lightgray\",\"lightgray\",\"lightgray\",\"lightgray\",\"lightgray\",\"lightgray\",\"lightgray\",\"lightgray\",\"lightgray\",\"lightgray\",\"lightgray\",\"lightgray\",\"lightgray\",\"lightgray\",\"lightgray\",\"lightgray\",\"lightgray\",\"lightgray\",\"lightgray\",\"lightgray\",\"lightgray\",\"lightgray\"],\"visible\":[true,true,true,true,true,true,true,true,true,true,true,true,true,true,true,true,true,true,true,true,true,true,true,true,true,true,true,true,true,true,true,true,true,true,true,true,true,true,true,true,true,true,true,true,true,true,true,true,true,true,true,true,true,true,true,true,true,true,true,true,true,true,true,true,true,true,true,true,true,true,true,true,true,true,true,true,true,true,true,true,true,true,true,true,true,true,true,true,true,true,true,true,true,true,true,true,true,true,true,true,true,true,true,true,true,true,true,true,true,true,true,true,true,true,true,true,true,true,true,true,true,true,true,true,true,true,true,true,true,true,true,true,true,true,true,true,true,true,true,true,true,true,true,true,true,true,true,true,true,true,true,true,true],\"weight\":[5,10,10,13,14,19,12,15,20,21,14,14,19,17,24,20,27,5,7,12,15,20,9,14,19,18,9,11,16,12,19,15,22,8,13,16,21,10,15,20,19,8,12,17,11,14,10,17,5,8,13,2,7,12,11,4,4,9,7,14,10,17,3,8,3,2,7,8,5,1,6,4,11,7,14,5,6,1,6,7,8,4,5,5,10,10,13,11,6,3,4,13,9,4,10,7,15,10,5,10,9,2,2,7,5,12,8,15,5,6,7,3,4,4,9,9,12,1,12,8,3,9,6,14,7,11,7,2,8,5,13,6,4,9,3,10,6,13,5,3,10,6,13,6,5,11,8,7,5,10,8,3,9],\"xs\":[[0,2],[0,4],[0,8],[0,12],[0,14],[0,18],[0,10],[0,14],[0,19],[0,19],[0,10],[0,12],[0,17],[0,13],[0,18],[0,12],[0,20],[2,4],[2,8],[2,12],[2,14],[2,18],[2,10],[2,14],[2,19],[2,19],[2,10],[2,12],[2,17],[2,13],[2,18],[2,12],[2,20],[4,8],[4,12],[4,14],[4,18],[4,10],[4,14],[4,19],[4,19],[4,10],[4,12],[4,17],[4,13],[4,18],[4,12],[4,20],[8,12],[8,14],[8,18],[8,10],[8,14],[8,19],[8,19],[8,10],[8,12],[8,17],[8,13],[8,18],[8,12],[8,20],[12,14],[12,18],[12,10],[12,14],[12,19],[12,19],[12,10],[12,12],[12,17],[12,13],[12,18],[12,12],[12,20],[14,18],[14,10],[14,14],[14,19],[14,19],[14,10],[14,12],[14,17],[14,13],[14,18],[14,12],[14,20],[18,10],[18,14],[18,19],[18,19],[18,10],[18,12],[18,17],[18,13],[18,18],[18,12],[18,20],[10,14],[10,19],[10,19],[10,10],[10,12],[10,17],[10,13],[10,18],[10,12],[10,20],[14,19],[14,19],[14,10],[14,12],[14,17],[14,13],[14,18],[14,12],[14,20],[19,19],[19,10],[19,12],[19,17],[19,13],[19,18],[19,12],[19,20],[19,10],[19,12],[19,17],[19,13],[19,18],[19,12],[19,20],[10,12],[10,17],[10,13],[10,18],[10,12],[10,20],[12,17],[12,13],[12,18],[12,12],[12,20],[17,13],[17,18],[17,12],[17,20],[13,18],[13,12],[13,20],[18,12],[18,20],[12,20]],\"ys\":[[8,5],[8,2],[8,6],[8,7],[8,8],[8,9],[8,6],[8,7],[8,7],[8,6],[8,4],[8,6],[8,6],[8,4],[8,2],[8,0],[8,1],[5,2],[5,6],[5,7],[5,8],[5,9],[5,6],[5,7],[5,7],[5,6],[5,4],[5,6],[5,6],[5,4],[5,2],[5,0],[5,1],[2,6],[2,7],[2,8],[2,9],[2,6],[2,7],[2,7],[2,6],[2,4],[2,6],[2,6],[2,4],[2,2],[2,0],[2,1],[6,7],[6,8],[6,9],[6,6],[6,7],[6,7],[6,6],[6,4],[6,6],[6,6],[6,4],[6,2],[6,0],[6,1],[7,8],[7,9],[7,6],[7,7],[7,7],[7,6],[7,4],[7,6],[7,6],[7,4],[7,2],[7,0],[7,1],[8,9],[8,6],[8,7],[8,7],[8,6],[8,4],[8,6],[8,6],[8,4],[8,2],[8,0],[8,1],[9,6],[9,7],[9,7],[9,6],[9,4],[9,6],[9,6],[9,4],[9,2],[9,0],[9,1],[6,7],[6,7],[6,6],[6,4],[6,6],[6,6],[6,4],[6,2],[6,0],[6,1],[7,7],[7,6],[7,4],[7,6],[7,6],[7,4],[7,2],[7,0],[7,1],[7,6],[7,4],[7,6],[7,6],[7,4],[7,2],[7,0],[7,1],[6,4],[6,6],[6,6],[6,4],[6,2],[6,0],[6,1],[4,6],[4,6],[4,4],[4,2],[4,0],[4,1],[6,6],[6,4],[6,2],[6,0],[6,1],[6,4],[6,2],[6,0],[6,1],[4,2],[4,0],[4,1],[2,0],[2,1],[0,1]]},\"selected\":{\"id\":\"2439\"},\"selection_policy\":{\"id\":\"2438\"}},\"id\":\"2396\",\"type\":\"ColumnDataSource\"},{\"attributes\":{\"formatter\":{\"id\":\"2434\"},\"ticker\":{\"id\":\"2375\"},\"visible\":false},\"id\":\"2374\",\"type\":\"LinearAxis\"},{\"attributes\":{},\"id\":\"2368\",\"type\":\"LinearScale\"},{\"attributes\":{\"line_width\":{\"value\":6},\"xs\":{\"field\":\"xs\"},\"ys\":{\"field\":\"ys\"}},\"id\":\"2417\",\"type\":\"MultiLine\"},{\"attributes\":{\"formatter\":{\"id\":\"2432\"},\"ticker\":{\"id\":\"2371\"},\"visible\":false},\"id\":\"2370\",\"type\":\"LinearAxis\"}],\"root_ids\":[\"2451\"]},\"title\":\"Bokeh Application\",\"version\":\"2.2.3\"}};\n",
       "  var render_items = [{\"docid\":\"86d59e24-1ba7-4ee5-a0bf-4d585928020a\",\"root_ids\":[\"2451\"],\"roots\":{\"2451\":\"9659d594-6823-4b3e-bf1a-380155db21d3\"}}];\n",
       "  root.Bokeh.embed.embed_items_notebook(docs_json, render_items);\n",
       "\n",
       "  }\n",
       "  if (root.Bokeh !== undefined) {\n",
       "    embed_document(root);\n",
       "  } else {\n",
       "    var attempts = 0;\n",
       "    var timer = setInterval(function(root) {\n",
       "      if (root.Bokeh !== undefined) {\n",
       "        clearInterval(timer);\n",
       "        embed_document(root);\n",
       "      } else {\n",
       "        attempts++;\n",
       "        if (attempts > 100) {\n",
       "          clearInterval(timer);\n",
       "          console.log(\"Bokeh: ERROR: Unable to run BokehJS code because BokehJS library is missing\");\n",
       "        }\n",
       "      }\n",
       "    }, 10, root)\n",
       "  }\n",
       "})(window);"
      ],
      "application/vnd.bokehjs_exec.v0+json": ""
     },
     "metadata": {
      "application/vnd.bokehjs_exec.v0+json": {
       "id": "2451"
      }
     },
     "output_type": "display_data"
    }
   ],
   "source": [
    "# show nearest insertion\n",
    "plot_tsp_heuristic(G, 'nearest_insertion', initial=[0,1,0])"
   ]
  }
 ],
 "metadata": {
  "kernelspec": {
   "display_name": "Python 3",
   "language": "python",
   "name": "python3"
  },
  "language_info": {
   "codemirror_mode": {
    "name": "ipython",
    "version": 3
   },
   "file_extension": ".py",
   "mimetype": "text/x-python",
   "name": "python",
   "nbconvert_exporter": "python",
   "pygments_lexer": "ipython3",
   "version": "3.6.10"
  }
 },
 "nbformat": 4,
 "nbformat_minor": 4
}
