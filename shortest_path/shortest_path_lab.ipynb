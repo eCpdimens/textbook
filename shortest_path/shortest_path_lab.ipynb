{
 "cells": [
  {
   "cell_type": "markdown",
   "metadata": {},
   "source": []
  },
  {
   "cell_type": "markdown",
   "metadata": {},
   "source": [
    "# The Shortest Path Problem \n",
    "\n",
    "### Objectives\n",
    " - Introduce the shortest path problem\n",
    " - Show students the inner workings of a combinatorial algorithm\n",
    " - Demonstrate the usefulness of sensitivity analysis in problem solving\n",
    " \n",
    "### Brief description\n",
    "In this lab, we review some motivation and observations behind Dijkstra’s algorithm for shortest path computation, and analyze how sensitive the solution to the shortest path problem is to changes in the input data."
   ]
  },
  {
   "cell_type": "markdown",
   "metadata": {},
   "source": [
    "## Part 0: Load the necessary packages\n",
    "\n",
    "This lab should run by simply downloading the lab folder and opening the jupyter notebook. If you have not installed the packages below an error will appear."
   ]
  },
  {
   "cell_type": "code",
   "execution_count": null,
   "metadata": {},
   "outputs": [],
   "source": [
    "import pandas as pd\n",
    "import numpy as np\n",
    "import math\n",
    "import itertools\n",
    "import networkx as nx\n",
    "from bokeh.io import output_notebook\n",
    "output_notebook()"
   ]
  },
  {
   "cell_type": "markdown",
   "metadata": {},
   "source": [
    "#  Part 1: The shortest path problem and Dijkstra’s algorithm"
   ]
  },
  {
   "cell_type": "markdown",
   "metadata": {},
   "source": [
    "You are a pizza delivery person for Good Pizza, Inc. Good Pizza is located on Cornell’s campus and guarantees delivery in 30 minutes or less anywhere in Tompkins County. In order to maximize the amount of your tips, you want to deliver as many pizzas as you can and deliver them as fast as you can. Therefore, you would like to know the quickest way of getting from the pizza shop to various parts of Tompkins County. Because of speed limits and various geographical obstacles (of which there are many in Tompkins County), it is not always best to take the route that covers the shortest distance. For instance, to get to Groton from the Northeast, it is quicker to go through Freeville than to try to go straight to Groton because Route 38 goes directly from Freeville to Groton and has a speed limit of 55 mph.\n",
    "To help you in finding the quickest routes, you have the attached map which contains approximate travel times for going directly from one location to another by the shortest distance route. The approxiamte travel time is called the $\\texttt{cost}$."
   ]
  },
  {
   "cell_type": "markdown",
   "metadata": {},
   "source": [
    "You can view the graph by first loading the files $\\texttt{tompkins_nodes.csv}$ and $\\texttt{tompkins_links.csv}$ from the $\\texttt{data}$ folder. The data is kept in pandas dataframes. To view the data as tables, run the cells belows."
   ]
  },
  {
   "cell_type": "code",
   "execution_count": null,
   "metadata": {},
   "outputs": [],
   "source": [
    "# load nodes\n",
    "data = pd.read_csv('data/tompkins_nodes.csv')\n",
    "dfn = pd.DataFrame(data)\n",
    "# load links\n",
    "data = pd.read_csv('data/tompkins_links.csv')\n",
    "dfl = pd.DataFrame(data)\n",
    "\n",
    "print('Loaded %d nodes and %d edges.' % (dfn.shape[0], dfl.shape[0]))"
   ]
  },
  {
   "cell_type": "code",
   "execution_count": null,
   "metadata": {},
   "outputs": [],
   "source": [
    "dfn.head() # inspect the nodes"
   ]
  },
  {
   "cell_type": "code",
   "execution_count": null,
   "metadata": {},
   "outputs": [],
   "source": [
    "dfl.head() # instect the edges"
   ]
  },
  {
   "cell_type": "markdown",
   "metadata": {},
   "source": [
    "To get a better feel for the graph, you should plot it. Running the cell below generates an interactive plot. You can view the edges and associated costs by mousing over edges. Clicking a node lets you highlight all edges associated with it. Plot the graph and familiarize yourself with the nodes and edges."
   ]
  },
  {
   "cell_type": "code",
   "execution_count": null,
   "metadata": {},
   "outputs": [],
   "source": [
    "from graph_tools import plotNetworkTompkins\n",
    "plotNetworkTompkins(dfn, dfl)"
   ]
  },
  {
   "cell_type": "markdown",
   "metadata": {},
   "source": []
  },
  {
   "cell_type": "markdown",
   "metadata": {},
   "source": [
    "Your pizza place is located on Campus, so this is our source s."
   ]
  },
  {
   "cell_type": "markdown",
   "metadata": {},
   "source": [
    "**Q1:** What is the node that is closest to campus (not considering the campus itself)? In case of ties, choose any of them. \n",
    "\n",
    "**A:**"
   ]
  },
  {
   "cell_type": "markdown",
   "metadata": {},
   "source": [
    "**Q2:** Can there be a quicker route to get to this destination (call it point X) than just to go directly there from Campus? Why or why not? (Hint: You can click on the campus node to hilight its adjacent edges).\n",
    "\n",
    "**A:**"
   ]
  },
  {
   "cell_type": "markdown",
   "metadata": {},
   "source": [
    "**Q3:** Explain why the predecessor (“prev(X)” from class) of X must be the Campus.\n",
    "\n",
    "**A:**"
   ]
  },
  {
   "cell_type": "markdown",
   "metadata": {},
   "source": [
    "For now on, let X be downtown (X has ID 1). This is one of the two nodes which were closest to Campus. Since the predecessor of X is Campus, we can mark the edge between Campus and X. How do we find the next edge to add to the tree (i.e., the next edge to “iluminate”)? One way is as follows. Compute the travel times for all routes that either go directly from Campus to a destination or go from campus to point X and then directly to a destination. Take the shortest of all these routes and add it to the tree. For instance, in\n",
    "this case, we consider the following routes. Node IDs are in parentheses.\n",
    "\n",
    "<br>\n"
   ]
  },
  {
   "cell_type": "markdown",
   "metadata": {},
   "source": [
    "**Q4:** Campus to Varna is the shortest route on this list. Can there be a shorter route to Varna than the one that we just added? Why or why not?\n",
    "\n",
    "**A:**"
   ]
  },
  {
   "cell_type": "markdown",
   "metadata": {},
   "source": [
    "Now we update the table: if two entries have the same destination we drop the more expensive one (e.g., Campus-Fall Creek takes 10 units of time while Campus-Downtown-Fall Creek takes 9, so we keep the latter). Then for each destination that can be reached from Varna, we compute the length of the path using only nodes already marked, with Varna being the second-to-last node on the path. Fill in the missing entries in the table below and choose the next edge to be added to the shortest path tree.\n",
    "\n",
    "<br>\n",
    "\n",
    "\n",
    "Dijkstra’s Algorithm continues in this manner. In the next step, we compute the travel times to destinations not already marked that are adjacent to the lastly marked node, using routes that involve only already marked nodes as intermediate steps."
   ]
  },
  {
   "cell_type": "markdown",
   "metadata": {},
   "source": [
    "**Q5:** Do the next two iterations of the algorithm and write down the nodes that get marked in each of these iterations. It will help to look at the map in some cells above.\n",
    "\n",
    "**A:**"
   ]
  },
  {
   "cell_type": "markdown",
   "metadata": {},
   "source": [
    "Now trace the execution of Dijkstra’s algorithm with **the software** up to the point that you have already computed by hand. (Press B and click on the Campus to set it as the starting node s, then go step by step by pressing N. At any point you can hover your mouse over a particular node to check its information)\n",
    "The program uses colors to distinguish different types of information. Explain when each of the following colors is used (be sure to mention all uses of a particular color, such as nodes in the graph, edges in the graph).\n",
    "\n",
    " - blue\n",
    " - red\n",
    " - ...\n",
    " \n",
    " <br>\n",
    " "
   ]
  },
  {
   "cell_type": "markdown",
   "metadata": {},
   "source": [
    "How can you read out the shortest path from Campus to other places in Tompkins County from the shortest path tree?\n",
    "\n",
    "<br>"
   ]
  },
  {
   "cell_type": "markdown",
   "metadata": {},
   "source": [
    "## Part 2: Get the shortest path tree using a built-in solver.\n",
    "\n",
    "<br>\n",
    "\n"
   ]
  },
  {
   "cell_type": "markdown",
   "metadata": {},
   "source": [
    "Next, your goal is to let your computer do the work. Load the package 'networkx' and define a graph using the links dataframe from earlier.\n",
    "\n",
    "Recall that edges (see dfl) were defined by the 'start' node and the 'end node. Below we load the data as a graph by specifying (1) that our data sits in dfl, (2) that edges start at nodes from the 'start' columsn, (3) that edges end in nodes in the 'end' column, and (4) that edge costs are in the 'cost' column. I.e.\n",
    "\n",
    "$$\\texttt{G = nx.from_pandas_edgelist(<dataframe of edges>, <start col name>, <end col name>, <cost col name>)} $$"
   ]
  },
  {
   "cell_type": "code",
   "execution_count": null,
   "metadata": {},
   "outputs": [],
   "source": [
    "# load networkx model from edge dataset\n",
    "G = nx.from_pandas_edgelist(dfl, 'start', 'end', 'cost')"
   ]
  },
  {
   "cell_type": "code",
   "execution_count": null,
   "metadata": {},
   "outputs": [],
   "source": [
    "# solve shortest path problem\n",
    "out = nx.single_source_dijkstra(G, source='Campus', weight='cost')"
   ]
  },
  {
   "cell_type": "markdown",
   "metadata": {},
   "source": [
    "Run the solver on the Tompkins instance G we defined above. The cell below prints the time it takes to traverse the quickest path to each location from Campus. Do the values agree with what you found before? "
   ]
  },
  {
   "cell_type": "code",
   "execution_count": null,
   "metadata": {},
   "outputs": [],
   "source": [
    "# print values\n",
    "#pd.DataFrame(out[0].values(), index=out[0].keys()).rename(columns={0:'cost'}) # fancy version\n",
    "out[0] # raw output"
   ]
  },
  {
   "cell_type": "code",
   "execution_count": null,
   "metadata": {},
   "outputs": [],
   "source": [
    "out[1] # raw tree"
   ]
  },
  {
   "cell_type": "markdown",
   "metadata": {},
   "source": [
    "Next, we want to visualize the shortest path tree. To do so we first add shortest path information to the node and link dataframes."
   ]
  },
  {
   "cell_type": "code",
   "execution_count": null,
   "metadata": {},
   "outputs": [],
   "source": [
    "from graph_tools import getTree"
   ]
  },
  {
   "cell_type": "code",
   "execution_count": null,
   "metadata": {},
   "outputs": [],
   "source": [
    "# add node labels (out[0]) to node dataframe \n",
    "dfn['label'] = dfn['name'].map(out[0])\n",
    "# add an 'in shortest-path-tree' indicator variable\n",
    "tree_dict = getTree(out, dfl) # get dictionary\n",
    "dfl['in_tree'] = dfl.index.map(tree_dict)"
   ]
  },
  {
   "cell_type": "code",
   "execution_count": null,
   "metadata": {},
   "outputs": [],
   "source": [
    "from graph_tools import plotTreeTompkins"
   ]
  },
  {
   "cell_type": "code",
   "execution_count": null,
   "metadata": {},
   "outputs": [],
   "source": [
    "plotTreeTompkins(dfn, dfl)"
   ]
  },
  {
   "cell_type": "markdown",
   "metadata": {},
   "source": []
  }
 ],
 "metadata": {
  "kernelspec": {
   "display_name": "Python 3",
   "language": "python",
   "name": "python3"
  },
  "language_info": {
   "codemirror_mode": {
    "name": "ipython",
    "version": 3
   },
   "file_extension": ".py",
   "mimetype": "text/x-python",
   "name": "python",
   "nbconvert_exporter": "python",
   "pygments_lexer": "ipython3",
   "version": "3.6.10"
  }
 },
 "nbformat": 4,
 "nbformat_minor": 4
}
