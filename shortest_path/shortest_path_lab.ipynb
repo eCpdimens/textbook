{
 "cells": [
  {
   "cell_type": "markdown",
   "metadata": {},
   "source": [
    "# Shortest Path Problem"
   ]
  },
  {
   "cell_type": "markdown",
   "metadata": {},
   "source": [
    "**Objectives**\n",
    "\n",
    "- Introduce students to the concept of a shortest path tree\n",
    "- Show students the inner workings of a combinatorial algorithm\n",
    "- Demonstrate the usefulness of sensitivity analysis in problem solving\n",
    "\n",
    "**Reading:** Read Handout 3 on the shortest path problem.\n",
    "\n",
    "**Brief description:** In this lab, we review some motivation and observations behind Dijkstra's algorithm for shortest path computation, and analyze how sensitive the solution to the shortest path problem is to changes in the input data.\n",
    "\n",
    " <br>\n"
   ]
  },
  {
   "cell_type": "code",
   "execution_count": null,
   "metadata": {},
   "outputs": [],
   "source": [
    "# Imports -- don't forget to run this cell!\n",
    "import vinal as vl\n",
    "import pandas as pd\n",
    "from bokeh.io import output_notebook, show\n",
    "output_notebook()"
   ]
  },
  {
   "cell_type": "markdown",
   "metadata": {},
   "source": [
    "## Part I: The Shortest Path Problem and Dijkstra's Algorithm\n",
    "\n",
    "As an Entrepreneurial first-year student, you plan to start a pizza delivery company: Good Pizza, Inc.  You will base Good Pizza out of the kitchen on your floor of Jameson Hall and deliver pizzas via bike.  You want to guarantee delivery anywhere on campus in 15 minutes or less; in order to maximize the amount of your tips, you want to deliver as many pizzas as you can and deliver\n",
    "them as fast as you can.  As a first-year, however, you're still figuring out your way around campus.  You've quickly realized that, because of pedestrian traffic, lights, obstacles, and  placement of bike stands  it is not always best to take the route that covers the shortest distance.  Instead, you would like to know the\n",
    "quickest way of getting from the your dorm room to various parts of campus.\n",
    "\n",
    "To help you in finding the quickest routes, you map the travel time between some of the most-happening locations on campus.  Below is an attached map showing the key points on campus. \n",
    "\n",
    "<img src=\"images/campus_map.png\" width=\"500\" />"
   ]
  },
  {
   "cell_type": "markdown",
   "metadata": {},
   "source": [
    "Let's load two dataframes with the data for each node and edge of this graph respectively."
   ]
  },
  {
   "cell_type": "code",
   "execution_count": null,
   "metadata": {},
   "outputs": [],
   "source": [
    "nodes = pd.read_csv('data/cornell_pizza_nodes.csv', index_col=0)\n",
    "display(nodes)\n",
    "edges = pd.read_csv('data/cornell_pizza_edges.csv', index_col=0)\n",
    "display(edges.head())"
   ]
  },
  {
   "cell_type": "markdown",
   "metadata": {},
   "source": [
    "Now, let's pass these to `create_network` and create a graph which we can visualize."
   ]
  },
  {
   "cell_type": "code",
   "execution_count": null,
   "metadata": {},
   "outputs": [],
   "source": [
    "G = vl.create_network(nodes, edges)\n",
    "show(vl.tree_plot(G, tree=[], width=500, height=500, show_cost=False))"
   ]
  },
  {
   "cell_type": "markdown",
   "metadata": {},
   "source": [
    "**Q1:** Your company is based out of Jameson Hall, which is node 1 on the map. What is the index of this node in the graph above? (Hint: Hover over nodes to see their index).\n",
    "\n",
    "**A:**  "
   ]
  },
  {
   "cell_type": "markdown",
   "metadata": {},
   "source": [
    "**Q2:** Let's define our source $s$ to be Jameson Hall."
   ]
  },
  {
   "cell_type": "code",
   "execution_count": null,
   "metadata": {},
   "outputs": [],
   "source": [
    "# TODO: Uncomment and set s to the index which corresponds to Jameson Hall\n",
    "# s = XXX\n",
    "\n"
   ]
  },
  {
   "cell_type": "markdown",
   "metadata": {},
   "source": [
    "**Q3:** What is the node that is closest to Jameson Hall (not considering Jameson Hall itself)? In case of ties, choose any of them. Can there be a quicker route to get to this destination (call it point X) than just to go directly there from Jameson Hall? Why or why not?\n",
    "\n",
    "**A:**  "
   ]
  },
  {
   "cell_type": "markdown",
   "metadata": {},
   "source": [
    "**Q4:** Explain why the predecessor (“prev$(X)$” from class) of $X$ must be the 0 (Jameson Hall).\n",
    "\n",
    "**A:** "
   ]
  },
  {
   "cell_type": "markdown",
   "metadata": {},
   "source": [
    "Run the cell below to generate an interactive plot running Dijkstra's algorithm. If you answered **Q1** and **Q2** correctly, the node corresponding to Jameson hall will be red.\n",
    "\n",
    "After running the cell, click node 0 (in red) and then node 10 (High Rise 5)"
   ]
  },
  {
   "cell_type": "code",
   "execution_count": null,
   "metadata": {},
   "outputs": [],
   "source": [
    "show(vl.assisted_dijkstras_plot(G, s=s, width=500, height=500, show_cost=False))"
   ]
  },
  {
   "cell_type": "markdown",
   "metadata": {},
   "source": [
    "After clicking those two nodes, you should notice that several things happen:\n",
    "\n",
    "- Node 0 and 10 turn solid dark blue\n",
    "- The current shortest path tree is shown by highlighting edges in dark grey\n",
    "- The table on the bottom updates, and you can see the current version of the Dijkstra table \n",
    "- In the current table, node 10 is now starred and prev(10) is marked as node 0"
   ]
  },
  {
   "cell_type": "markdown",
   "metadata": {},
   "source": [
    "**Q5:** The graph shows three styles of nodes (solid dark blue, red, and light blue). What does each style of node represent?\n",
    "\n",
    "**A:** "
   ]
  },
  {
   "cell_type": "markdown",
   "metadata": {},
   "source": [
    "How do we find the next edge to add to the tree (i.e., the next edge to “darken”)? One way is as follows. Compute the travel times for all routes that either go directly from Jameson Hall (0) to a destination or go from Jameson Hall (0) to High Rise 5 (10) and then directly to a destination. Take the shortest of all these routes and add it to the tree. For instance, in this case, we consider the following routes. Node IDs are in parenthesis.\n",
    "\n",
    "\n",
    "| Route | Travel Time |\n",
    "|-------|-------------|\n",
    "|Jameson Hall (0) - High Rise 5 (10) | **2**\n",
    "|Jameson Hall (0) - Clara Dickson Hall (1) | 2*\n",
    "|Jameson Hall (0) - Helen Newman (11) | 3\n",
    "|Jameson Hall (0) - Lynah Hockey Rink (13) | 17\n",
    "|Jameson Hall (0) - High Rise 5 (10) - Holland International Living Center (9) | 3\n",
    "|Jameson Hall (0) - High Rise 5 (10) - Helen Newman (11) | 7"
   ]
  },
  {
   "cell_type": "markdown",
   "metadata": {},
   "source": [
    "**Q6:** Consider all of the nodes we can reach by these paths (0, 10, 1, 11, 13, and 9). What is true about those nodes (and only those nodes) in the current iteration of Dijkstra's.\n",
    "\n",
    "**A:** "
   ]
  },
  {
   "cell_type": "markdown",
   "metadata": {},
   "source": [
    "**Q7:** There are two paths to node 11 listed above. Look at node 11 in the table. Which of those two paths is indicated in the table? Using just the table – without referring back to the original graph or edge lengths – how can you identify this path?\n",
    "\n",
    "**A:** "
   ]
  },
  {
   "cell_type": "markdown",
   "metadata": {},
   "source": [
    "Now back to Dijkstra and we pick Clara Dickson (1). Jameson Hall to Clara Dickson is the shortest route on this list (we’ve marked it with a *). "
   ]
  },
  {
   "cell_type": "markdown",
   "metadata": {},
   "source": [
    "**Q8:** Can there be a shorter route to Clara Dickson (1) than the one that we just added? Why or why not? Answer this question in as much generality as possible. (Hint: suppose that there were some shorter path that went from Jameson (0) – SOMEWHERE ELSE – Clara Dickson (1). How would the length of the first edge in this path have to compare to the length of the edge directly between Jameson (0) and Clara Dickson (1)?)\n",
    "\n",
    "**A:** "
   ]
  },
  {
   "cell_type": "markdown",
   "metadata": {},
   "source": [
    "Now we update the table for the next iteration: if two entries have the same destination we drop the more expensive one (e.g., we drop the Jameson Hall (0) - High Rise 5 (10) - Helen Newman (11) route, since it takes longer than the direct Jameson Hall (0) - Helen Newman (11) route). Then for each destination that can be reached from Clara Dickson (1), we compute the length of the path using only nodes already marked, with Clara Dickson (1) being the second-to-last node on the path."
   ]
  },
  {
   "cell_type": "markdown",
   "metadata": {},
   "source": [
    "**Q9:** Fill in the missing entries in the table below. Then, as before, cross out any redundant paths (like the Jameson Hall (0) - High Rise 5 (10) - Helen Newman (11) path which we previously dropped).\n",
    "\n",
    "**A:**\n",
    "\n",
    "| Route | Travel Time |\n",
    "|-------|-------------|\n",
    "|Jameson Hall (0) - High Rise 5 (10) | **2**\n",
    "|Jameson Hall (0) - Clara Dickson Hall (1) | 2*\n",
    "|Jameson Hall (0) - Helen Newman (11) | 3\n",
    "|Jameson Hall (0) - Lynah Hockey Rink (13) | 17\n",
    "|Jameson Hall (0) - High Rise 5 (10) - Holland International Living Center (9) | 3\n",
    "|Jameson Hall (0) - Clara Dickson Hall (1) - ? | ?\n",
    "|Jameson Hall (0) - Clara Dickson Hall (1) - ? | ?\n",
    "|Jameson Hall (0) - Clara Dickson Hall (1) - ? | ?\n",
    "\n",
    "\n"
   ]
  },
  {
   "cell_type": "markdown",
   "metadata": {},
   "source": [
    "On the graph, click Clara Dickson Hall (2). Use the updated table to verify your work. Notice that we discovered a shorter path to Lynah Hockey Rink through Clara Dickson and we see the highlighted edges change according! "
   ]
  },
  {
   "cell_type": "markdown",
   "metadata": {},
   "source": [
    "**Q10:** Which node should be clicked next? Call it $X$. What is prev(X) and the shortest path from  Jameson Hall to X?\n",
    "\n",
    "**A:** "
   ]
  },
  {
   "cell_type": "markdown",
   "metadata": {},
   "source": [
    "Dijkstra’s Algorithm continues in this manner. In the next step, we compute the travel times to destinations not already marked (i.e. starred/solid dark blue) that are adjacent to the lastly marked node, using routes that involve only already marked nodes as intermediate steps."
   ]
  },
  {
   "cell_type": "markdown",
   "metadata": {},
   "source": [
    "**Q11:** Do the next iteration of the algorithm by hand based on your previous answer: write down the nodes that get marked and/or have their labels updated in this iteration.\n",
    "\n",
    "**A:** "
   ]
  },
  {
   "cell_type": "markdown",
   "metadata": {},
   "source": [
    "Finish executing Dijkstra's algorithm by clicking the next node to mark at each step. Feel free to use the instance below to avoid scrolling."
   ]
  },
  {
   "cell_type": "code",
   "execution_count": null,
   "metadata": {},
   "outputs": [],
   "source": [
    "show(vl.assisted_dijkstras_plot(G, s=s, width=500, height=500, show_cost=False))"
   ]
  },
  {
   "cell_type": "markdown",
   "metadata": {},
   "source": [
    "**Q12:** How can you read out the shortest path from Jameson Hall to other places on campus from the shortest path tree?\n",
    "\n",
    "**A:** "
   ]
  },
  {
   "cell_type": "markdown",
   "metadata": {},
   "source": [
    "**Q13:** What is the shortest path (both the route and length) from Jameson Hall (0) to Rhodes Hall (7)?\n",
    "\n",
    "**A:** "
   ]
  },
  {
   "cell_type": "markdown",
   "metadata": {},
   "source": [
    "**Q14:** Is the 15 minute guarantee a good one? What about a 30 minute guarantee, assuming some reasonably small fluctuations in the actual travel time due to traffic, etc.\n",
    "\n",
    "**A:** "
   ]
  },
  {
   "cell_type": "markdown",
   "metadata": {},
   "source": [
    "**Q15:** Is the shortest path always unique? If yes, why? If no, can you give an example of two nodes in the graph for this lab that have more than one shortest path between them?\n",
    "\n",
    "**A:** "
   ]
  },
  {
   "cell_type": "markdown",
   "metadata": {},
   "source": [
    "## Part II: Sensitivity analysis\n",
    "\n",
    "The next several questions ask you to analyze how sensitive your output is to the precise data that has been used. This is called “performing sensitivity analysis” for the input."
   ]
  },
  {
   "cell_type": "markdown",
   "metadata": {},
   "source": [
    "**Q16:** Suppose that there was a parade on campus so that the time to go from Holland International (9) to Cornell High Energy (8) directly was increased to 20 minutes.\n",
    "Would this change the shortest path tree? How would the shortest path tree change?\n",
    "\n",
    "**A:** "
   ]
  },
  {
   "cell_type": "markdown",
   "metadata": {},
   "source": [
    "**Q17:** Can such an increase affect any of the routes that did not originally include the leg from Holland International (9) to Cornell High Energy (8)? Why or why not?\n",
    "\n"
   ]
  },
  {
   "cell_type": "markdown",
   "metadata": {},
   "source": [
    "Run the cell below to change the weight and generate a plot running Dijkstra's algorithm. Press the next button to see each iteration until all nodes are marked."
   ]
  },
  {
   "cell_type": "code",
   "execution_count": null,
   "metadata": {},
   "outputs": [],
   "source": [
    "G[9][8]['weight'] = 20  # change weight\n",
    "show(vl.dijkstras_plot(G, s=s, width=500, height=500, show_cost=False))"
   ]
  },
  {
   "cell_type": "markdown",
   "metadata": {},
   "source": [
    "**Q18:** Did you make any mistakes in **Q16** and **Q17**?\n",
    "\n"
   ]
  },
  {
   "cell_type": "markdown",
   "metadata": {},
   "source": [
    "**Q19:** Suppose the travel time from node (9) to node (8) increased from 14 minutes, but not all the way to 20 minutes. By how much could the travel time increase without the shortest path route to node (8) changing?\n",
    "\n"
   ]
  },
  {
   "cell_type": "markdown",
   "metadata": {},
   "source": [
    "Suppose that your competitor, Better-Than-Adequate Pizza, decides to promote their brand by installing a moving walkway that takes students from Clara Dickson on North Campus to the Lynah hockey rink. This has the effect of reducing the travel time from Clara Dickson (1) to Lynah (13) so that it only takes 5 minutes."
   ]
  },
  {
   "cell_type": "markdown",
   "metadata": {},
   "source": [
    "**Q20:** Would this change or alter the shortest path tree? Does this affect any of the routes that did not originally include the leg from Clara Dickson to Lynah? Why or why not?\n",
    "\n"
   ]
  },
  {
   "cell_type": "code",
   "execution_count": null,
   "metadata": {},
   "outputs": [],
   "source": [
    "G[9][8]['weight'] = 14  # change this weight back t original\n",
    "G[1][13]['weight'] = 5  # change this weight\n",
    "show(vl.dijkstras_plot(G, s=s, width=500, height=500, show_cost=False))"
   ]
  },
  {
   "cell_type": "markdown",
   "metadata": {},
   "source": [
    "**Q21:** Suppose that all the travel times obeyed the following inequality:\n",
    "\n",
    "$$\\text{(travel time from A to C) ≤ (travel time from A to B) + (travel time from B to C)}$$\n",
    "\n",
    "for all nodes A, B and C. This is called the triangle inequality. Suppose our input was the complete graph (that is, there is an edge between every pair of nodes). If the travel times on this input obeyed the triangle inequality, what would the shortest path tree look like?\n",
    "\n",
    "**A:** "
   ]
  },
  {
   "cell_type": "markdown",
   "metadata": {},
   "source": []
  }
 ],
 "metadata": {
  "kernelspec": {
   "display_name": "Python 3",
   "language": "python",
   "name": "python3"
  },
  "language_info": {
   "codemirror_mode": {
    "name": "ipython",
    "version": 3
   },
   "file_extension": ".py",
   "mimetype": "text/x-python",
   "name": "python",
   "nbconvert_exporter": "python",
   "pygments_lexer": "ipython3",
   "version": "3.6.10"
  }
 },
 "nbformat": 4,
 "nbformat_minor": 4
}
