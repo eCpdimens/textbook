{
 "cells": [
  {
   "cell_type": "markdown",
   "metadata": {},
   "source": [
    "# First-Year Writing Seminars\n",
    "\n",
    "**Objectives:**\n",
    "* Assign students to FWS sections so that they get one of their top 5 choices.\n",
    "* Improve assignments by making changes to our transportation formulation.\n",
    "\n",
    "**Key Ideas:**\n",
    "* integrality property\n",
    "* the transportation problem\n",
    "* the assignment problem\n",
    "\n",
    "**Brief description:** If you recall pre-enroll, there was a separate ballot you completed by listing your top 5 picks for FWS that semester. You were later notified which class you got placed into, probably hoping it was your first choice. By now, this should not seem like magic; problems like these often enlist help from Operations Research especially as the scale increases. Disclaimer: the following model is not actually used by Cornell."
   ]
  },
  {
   "cell_type": "code",
   "execution_count": null,
   "metadata": {},
   "outputs": [],
   "source": [
    "# imports -- make sure to run this cell\n",
    "import pandas as pd\n",
    "import math, itertools\n",
    "import matplotlib.pyplot as plt\n",
    "%matplotlib inline\n",
    "import networkx as nx\n",
    "from networkx.algorithms import bipartite\n",
    "from fws_lab import *\n",
    "from ortools.linear_solver import pywraplp as OR"
   ]
  },
  {
   "cell_type": "markdown",
   "metadata": {},
   "source": [
    "## Part 1: Brainstorming\n",
    "\n",
    "We want to *assign* a class to each student. This sounds like an assignment problem, which is a special case of the *transportation problem*. \n",
    "\n",
    "**Example 1**  \n",
    "The following table gives an instance with 7 students (1-7) and 4 classes (A-D). Each class has a capacity of 2 students. Column `1` gives the student's first preference and `2` gives their second preference."
   ]
  },
  {
   "cell_type": "code",
   "execution_count": null,
   "metadata": {},
   "outputs": [],
   "source": [
    "fws_7_students = pd.read_csv('data/fws_7_students.csv', index_col=0)\n",
    "display(fws_7_students)"
   ]
  },
  {
   "cell_type": "markdown",
   "metadata": {},
   "source": [
    "**Q1:** What are the supply nodes?  \n",
    "\n",
    "**A:**   "
   ]
  },
  {
   "cell_type": "markdown",
   "metadata": {},
   "source": [
    "**Q2:** What are the supply values of the supply nodes? (Hint: How many units can be transferred?)\n",
    "\n",
    "**A:**   "
   ]
  },
  {
   "cell_type": "markdown",
   "metadata": {},
   "source": [
    "**Q3:** What are the demand nodes?  \n",
    "\n",
    "**A:**   "
   ]
  },
  {
   "cell_type": "markdown",
   "metadata": {},
   "source": [
    "**Q4:** What are the demand values of the demand nodes? (Hint: How many units can be received?)\n",
    "\n",
    "**A:**   "
   ]
  },
  {
   "cell_type": "markdown",
   "metadata": {},
   "source": [
    "**Q5:** What does a directed edge from a supply node to a demand node indicate?  \n",
    "\n",
    "**A:** "
   ]
  },
  {
   "cell_type": "markdown",
   "metadata": {},
   "source": [
    "**Q6:** What are the edge costs?  \n",
    "\n",
    "**A:** "
   ]
  },
  {
   "cell_type": "markdown",
   "metadata": {},
   "source": [
    "**Q7:** Visualize your graph by completing the dictionary of edge costs. This will be used later as the input to the LP model."
   ]
  },
  {
   "cell_type": "code",
   "execution_count": null,
   "metadata": {},
   "outputs": [],
   "source": [
    "# TODO: Uncomment and complete the dictionary of edge costs\n",
    "# S = [1,2,3,4,5,6,7]\n",
    "# D = ['A','B','C','D']\n",
    "# E = {(1,'A'):1, \n",
    "#      (1,'B'):2, \n",
    "#      (2,'D'): , \n",
    "#      (2,'C'): , \n",
    "#      (3,'A'): , \n",
    "#      (3,'C'): , \n",
    "#      (4,'B'): , \n",
    "#      (4,'D'): , \n",
    "#      (5,'C'): , \n",
    "#      (5,'B'): , \n",
    "#      (6,'A'): , \n",
    "#      (6,'B'): , \n",
    "#      (7,'B'): , \n",
    "#      (7,'A'):  }\n",
    "\n",
    "\n",
    "\n",
    "ex1(S, D, E)"
   ]
  },
  {
   "cell_type": "markdown",
   "metadata": {},
   "source": [
    "To complete the simple model, we need to answer one more question.  "
   ]
  },
  {
   "cell_type": "markdown",
   "metadata": {},
   "source": [
    "**Q8:** The total demand is 8, but the current total supply is only 7. How can we make sure that demand is satisfied for there to be a feasible solution?  \n",
    "\n",
    "**A:**   "
   ]
  },
  {
   "cell_type": "markdown",
   "metadata": {},
   "source": [
    "**Q9:** Create a similar list of students, classes, and edge weights like the lists above but account for the dummy supply node (which is indexed as zero)."
   ]
  },
  {
   "cell_type": "code",
   "execution_count": null,
   "metadata": {},
   "outputs": [],
   "source": [
    "# TODO: Uncomment and complete the dictionary of edge costs\n",
    "# S_dummy = [1,2,3,4,5,6,7,0]\n",
    "# D_dummy = ['A','B','C','D']\n",
    "# E_dummy = {(1,'A'):1, (1,'B'):2, (2,'D'):1, (2,'C'):2, (3,'A'):1, (3,'C'):2, \n",
    "#            (4,'B'):1, (4,'D'):2, (5,'C'):1, (5,'B'):2, (6,'A'):1, (6,'B'):2, \n",
    "#            (7,'B'):1, (7,'A'):2, (0,'A'): XXX, (0,'B'): XXX, (0,'C'): XXX, (0,'D'): XXX}\n",
    "\n",
    "\n",
    "\n",
    "ex1(S_dummy, D_dummy, E_dummy)"
   ]
  },
  {
   "cell_type": "markdown",
   "metadata": {},
   "source": [
    "## Part 2: Solving\n",
    "\n",
    "Let's use OR-Tools to define our mathematical model. \n",
    "\n",
    "**Q10:** Complete the constraints in the cell below."
   ]
  },
  {
   "cell_type": "code",
   "execution_count": null,
   "metadata": {},
   "outputs": [],
   "source": [
    "def fws(preferences, capcity, cost, integer = False):\n",
    "    \"\"\"A model for solving a first-year writing seminar assignment problem.\n",
    "    \n",
    "    Args:\n",
    "        preferences (pd.DataFrame): Preferred classes for each student.\n",
    "        capcity (int): Capacity of the classroom.\n",
    "        cost (Dict): Dictionary from edges types to cost.\n",
    "    \"\"\"\n",
    "    STUDENTS = list(preferences.index) + ['dummy']             # students\n",
    "    \n",
    "    CLASSES = []\n",
    "    for c in preferences.columns:\n",
    "        CLASSES = CLASSES + list(preferences[c].unique())\n",
    "    CLASSES = list(set(CLASSES))                               # classes\n",
    "    \n",
    "    edge_costs = {}                                 \n",
    "    for s in preferences.index:\n",
    "        for c in preferences:\n",
    "            edge_costs[(s, preferences.at[int(s),c])] = cost[int(c)]\n",
    "    EDGES = list(edge_costs)                                   # edges\n",
    "    \n",
    "    # add dummy edges\n",
    "    dummy_edges = list(itertools.product(['dummy'], CLASSES))\n",
    "    EDGES.extend(dummy_edges)          \n",
    "    \n",
    "    c = edge_costs                                             # costs\n",
    "    # add dummy edge costs\n",
    "    for edge in dummy_edges:\n",
    "        c.update({edge : cost['dummy']})    \n",
    "    \n",
    "    # define model\n",
    "    m = OR.Solver('fws', OR.Solver.CBC_MIXED_INTEGER_PROGRAMMING)\n",
    "    \n",
    "    # decision variables\n",
    "    x = {}    \n",
    "    for i,j in EDGES:\n",
    "        if integer:\n",
    "            x[i,j] = m.IntVar(0, m.infinity(), ('(%s, %s)' % (i,j)))\n",
    "        else:\n",
    "            x[i,j] = m.NumVar(0, m.infinity(), ('(%s, %s)' % (i,j)))\n",
    "        \n",
    "    # objective function\n",
    "    m.Minimize(sum(c[i,j]*x[i,j] for i,j in EDGES))\n",
    "       \n",
    "    # subject to: each student (not including the dummy) is assigned at most one class\n",
    "    for k in STUDENTS:\n",
    "        if k != 'dummy':\n",
    "            m.Add(sum(x[i,j] for i,j in EDGES if i==k) <= 1)\n",
    "        \n",
    "    # subject to: each class is full\n",
    "    # TODO: Write the constraint that each class is full\n",
    "    \n",
    "    \n",
    "    \n",
    "    return m,x"
   ]
  },
  {
   "cell_type": "code",
   "execution_count": null,
   "metadata": {},
   "outputs": [],
   "source": [
    "def solution_summary(preferences, x):\n",
    "    '''Get the counts of every assigned preference for some solution.'''\n",
    "    counts = {int(i):0 for i in list(preferences.columns)}\n",
    "    unassigned = 0\n",
    "    matches = {k[0] : k[1] for k,v in x.items() if v.solution_value() == 1.0}\n",
    "    for index, row in preferences.iterrows():\n",
    "        class_to_rank = {v:k for k,v in row.to_dict().items()}\n",
    "        if index in matches:\n",
    "            pref=int(class_to_rank[matches[index]])\n",
    "            counts[pref] += 1\n",
    "        else:\n",
    "            unassigned +=1\n",
    "    print(\"Unmatched students:\", unassigned)\n",
    "    return counts"
   ]
  },
  {
   "cell_type": "markdown",
   "metadata": {},
   "source": [
    "**Q11:** Replace `XXX` with the cost of the dummy edges and then run the cell."
   ]
  },
  {
   "cell_type": "code",
   "execution_count": null,
   "metadata": {},
   "outputs": [],
   "source": [
    "# TODO: Uncomment and replace XXX with the cost of the dummy edges\n",
    "# costs = {1:1, 2:2, 'dummy':XXX}\n",
    "\n",
    "\n",
    "\n",
    "m,x = fws(fws_7_students, 2, costs)\n",
    "m.Solve()\n",
    "solution_summary(fws_7_students, x)"
   ]
  },
  {
   "cell_type": "markdown",
   "metadata": {},
   "source": [
    "6 students got their first choice, 1 student got their second choice, and no students were left unmatched.   \n",
    "\n",
    "**Q12:** Why can't all the students be assigned their first choice? Or do you think the answer you got could be better?  \n",
    "\n",
    "**A:**  "
   ]
  },
  {
   "cell_type": "markdown",
   "metadata": {},
   "source": [
    "**Example 2**  \n",
    "In this new instance with 8 students (1-8) and 4 classes (A-D), more students prefer A and B than C and D."
   ]
  },
  {
   "cell_type": "code",
   "execution_count": null,
   "metadata": {},
   "outputs": [],
   "source": [
    "fws_8_students = pd.read_csv('data/fws_8_students.csv', index_col=0)\n",
    "display(fws_8_students)"
   ]
  },
  {
   "cell_type": "code",
   "execution_count": null,
   "metadata": {},
   "outputs": [],
   "source": [
    "S2 = [1,2,3,4,5,6,7,8]\n",
    "D2 = ['A','B','C','D']\n",
    "E2 = {(1,'A'):1, (1,'B'):2, (2,'B'):1, (2,'A'):2, (3,'C'):1, (3,'D'):2, (4,'A'):1, (4,'B'):2, \n",
    "      (5,'B'):1, (5,'A'):2, (6,'A'):1, (6,'C'):2, (7,'C'):1, (7,'D'):2, (8,'A'):1, (8,'D'):2}\n",
    "\n",
    "ex2(S2, E2)"
   ]
  },
  {
   "cell_type": "code",
   "execution_count": null,
   "metadata": {},
   "outputs": [],
   "source": [
    "# cost of edges from dummy node is 2.5\n",
    "costs = {1:1, 2:2, 'dummy':2.5}\n",
    "m,x = fws(fws_8_students, 2, costs)\n",
    "m.Solve()\n",
    "solution_summary(fws_8_students, x)"
   ]
  },
  {
   "cell_type": "markdown",
   "metadata": {},
   "source": [
    "There is 1 unmatched student when using 2.5 as the cost of dummy edges.  \n",
    "\n",
    "**Q13:** Why can't all the students be assigned one of their top 2 choices? Or do you think the answer you got could be better?  \n",
    "\n",
    "**A:**   \n",
    "\n",
    "Re-solve using 3.5 as the cost."
   ]
  },
  {
   "cell_type": "code",
   "execution_count": null,
   "metadata": {},
   "outputs": [],
   "source": [
    "costs = {1:1, 2:2, 'dummy':3.5}\n",
    "m,x = fws(fws_8_students, 2, costs)\n",
    "m.Solve()\n",
    "solution_summary(fws_8_students, x)"
   ]
  },
  {
   "cell_type": "markdown",
   "metadata": {},
   "source": [
    "**Q14:** Both the edge weights 2.5 and 3.5 are greater than 2. In some sense, they are prioritized last. We rather send flow across 1 and 2 weight edges. However, we get different solutions. Why?\n",
    "\n",
    "**A:**   \n",
    "\n",
    "When solving the actual data, you will see that other subtle reasons might lead to unmatched students."
   ]
  },
  {
   "cell_type": "markdown",
   "metadata": {},
   "source": [
    "## Part 3: Solving the Actual Data\n",
    "\n",
    "There are 2886 students and 183 class sections. Assume each class can have at most 16 students. As we already know, each student picks their top 5 classes."
   ]
  },
  {
   "cell_type": "code",
   "execution_count": null,
   "metadata": {},
   "outputs": [],
   "source": [
    "fws_f09_ballots = pd.read_csv('data/fws_f09_ballots.csv', index_col=0)\n",
    "fws_f09_ballots.head()"
   ]
  },
  {
   "cell_type": "markdown",
   "metadata": {},
   "source": [
    "There are 6 columns with the first being student # and the other 5 being first, second, third, fourth, and fifth choice. Each row is a student, and class # indicates the class picked as the choice belonging to the column."
   ]
  },
  {
   "cell_type": "code",
   "execution_count": null,
   "metadata": {},
   "outputs": [],
   "source": [
    "costs = {1:1, 2:2, 3:3, 4:4, 5:5, 'dummy':6}\n",
    "m,x = fws(fws_f09_ballots, 16, costs)\n",
    "m.Solve()\n",
    "original  = solution_summary(fws_f09_ballots, x)\n",
    "Histo(original, 15)"
   ]
  },
  {
   "cell_type": "markdown",
   "metadata": {},
   "source": [
    "We got an answer! Unfortunately, there are 107 students who did not get any of their top 5 picks. Let's improve our model, so that no students are unmatched.  \n",
    "\n",
    "The objective function is actually a weighted function. The coefficients dictate how desirable each of the corresponding edges are. An edge with a small cost (weight) has a higher likelihood of being in the solution while an edge with a large cost will potentially be avoided.\n",
    "\n",
    "Let's leave the costs for the first - fifth choices (1-5) the same but set the cost of edges from the dummy node to an arbitrarily large number like 100,000. These edges are now very likely to be avoided in a solution."
   ]
  },
  {
   "cell_type": "markdown",
   "metadata": {},
   "source": [
    "**Q15:** What is the real-world interpretation of having less edges from the dummy node in the solution?\n",
    "\n",
    "**A:**   "
   ]
  },
  {
   "cell_type": "markdown",
   "metadata": {},
   "source": [
    "**Q16:** Set the cost of the dummy edges to 100,000. How many students are unmatched now?\n",
    "\n",
    "**A:**   "
   ]
  },
  {
   "cell_type": "code",
   "execution_count": null,
   "metadata": {},
   "outputs": [],
   "source": [
    "# TODO: Set the cost of the dummy edges to 100,000\n",
    "#costs = {1:1, 2:2, 3:3, 4:4, 5:5, 'dummy':XXX}\n",
    "\n",
    "\n",
    "\n",
    "m,x = fws(fws_f09_ballots, 16, costs)\n",
    "m.Solve()\n",
    "large_dummy_weight  = solution_summary(fws_f09_ballots, x)\n",
    "Histo(large_dummy_weight, 15)"
   ]
  },
  {
   "cell_type": "markdown",
   "metadata": {},
   "source": [
    "**Q17:** Compare the distribution of received student preferences between our original solution and the new one with zero unmatched students.\n",
    "\n",
    "**A:**   "
   ]
  },
  {
   "cell_type": "markdown",
   "metadata": {},
   "source": [
    "You may have mentioned that less students got their first choice. What if we want a solution that maximizes the number of students receiving their first choice, then maximizes those receiving their second choice, and so on all subject to the number of unmatched students being minimized (in this case, we know there should be zero unmatched students). It turns out we can acheive some complex behavior like this by just setting our weights cleverly.\n",
    "\n",
    "By setting the weight of the dummy edges to be multiple orders of magnitude greater than the other edge weights, we essentially acheived a model that first minimizes the number of unmatched students without thinking about any preferences. This is because a student being matched or unmatched has a significantly larger effect on the value of a solution than which preference and student receives. We can apply this same approach again! \n",
    "\n",
    "We will use a dummy cost of 100,000 again. Now, we want to maximize the number of first preferences received. To do this, we set the cost of these edges to a large negative value an order of magnitude less than the cost of the dummy edges: -10,000. We set the remaining edge weights in the same fashion."
   ]
  },
  {
   "cell_type": "markdown",
   "metadata": {},
   "source": [
    "**Q18:** Choose the correct edge weights for the second through fifth preference edges. "
   ]
  },
  {
   "cell_type": "code",
   "execution_count": null,
   "metadata": {},
   "outputs": [],
   "source": [
    "# TODO: Choose the correct edge weights\n",
    "# costs = {1:-10000, 2:XXX, 3:XXX, 4:XXX, 5:XXX, 'dummy':100000}\n",
    "\n",
    "\n",
    "\n",
    "m,x = fws(fws_f09_ballots, 16, costs)\n",
    "m.Solve()\n",
    "max_lexico  = solution_summary(fws_f09_ballots, x)\n",
    "Histo(max_lexico, 15)"
   ]
  },
  {
   "cell_type": "markdown",
   "metadata": {},
   "source": [
    "**Q19:** How does the number of students with their first preference compare to the previous solutions? What was the number of unmatched students? Comment on the distribution you observe.\n",
    "\n",
    "**A:**   "
   ]
  },
  {
   "cell_type": "markdown",
   "metadata": {},
   "source": [
    "What if we want to have the opposite approach. Again, we want to minimize unmatched students. However, rather than maximizing the number of students who recieive their first preference next, we want to minimize the number of students who recieive their last (fifth) preference. Then, we minimize the number of students who recieive their fourth preference and so on."
   ]
  },
  {
   "cell_type": "markdown",
   "metadata": {},
   "source": [
    "**Q20:** Choose costs that achieve the described objective. (Hint: Use different orders of magnitude to choose the order in which objectives are considered. Negative edge weights are like maximizing and positive edge weights are like minimizing)"
   ]
  },
  {
   "cell_type": "code",
   "execution_count": null,
   "metadata": {},
   "outputs": [],
   "source": [
    "# TODO: Choose costs that achieve the described objective.\n",
    "# costs = {1:XXX, 2:XXX, 3:XXX, 4:XXX, 5:XXX, 'dummy':XXX}\n",
    "\n",
    "\n",
    "\n",
    "m,x = fws(fws_f09_ballots, 16, costs)\n",
    "m.Solve()\n",
    "min_lexico  = solution_summary(fws_f09_ballots, x)\n",
    "Histo(min_lexico, 15)"
   ]
  },
  {
   "cell_type": "markdown",
   "metadata": {},
   "source": [
    "**Q21:** How does the number of students with their fifth preference compare to the previous solutions? Compare this solution to the other solutions.\n",
    "\n",
    "**A:**   "
   ]
  },
  {
   "cell_type": "markdown",
   "metadata": {},
   "source": [
    "As you can see, there are a wide variety of solutions with zero unmatched students. How did the Knight Institute choose a solution? They opted to do a combination of the previous two models. The number of fifth and then fourth preferences were minimized and then the number of first, second, and then third preferences was then maximized. Let's see the solution! "
   ]
  },
  {
   "cell_type": "code",
   "execution_count": null,
   "metadata": {},
   "outputs": [],
   "source": [
    "costs = {1:-100, 2:-10, 3:0, 4:1000, 5:10000, 'dummy':100000}\n",
    "m,x = fws(fws_f09_ballots, 16, costs)\n",
    "m.Solve()\n",
    "knight  = solution_summary(fws_f09_ballots, x)\n",
    "Histo(knight, 15)"
   ]
  },
  {
   "cell_type": "markdown",
   "metadata": {},
   "source": [
    "**Q22:** Compare this solution to the previous solutions. Do you think the Knight Institute made the right decision? How would you have done it differently?\n",
    "\n",
    "**A:**   "
   ]
  },
  {
   "cell_type": "markdown",
   "metadata": {},
   "source": []
  },
  {
   "cell_type": "markdown",
   "metadata": {},
   "source": [
    "In each of the previous models, we set the weights of different edges at different orders of magnitude to essentially order our objectives. However, an order of magnitude seems arbitrary. How can we show exactly what multiplier needs to  be used to prove the model is giving us the solution we want?\n",
    "\n",
    "Let's consider a simple example in which there is only one prefernce which is either met or not. We want to minimize unmatched. Let's assume we have 100 students that must be assigned. We need to choose weights $w_1$ and $w_{\\text{dummy}}$."
   ]
  },
  {
   "cell_type": "markdown",
   "metadata": {},
   "source": [
    "**Q23:** If one student is unmatched, what is the maximum total weight the other 100 students can acheive?\n",
    "\n",
    "**A:**   "
   ]
  },
  {
   "cell_type": "markdown",
   "metadata": {},
   "source": [
    "**Q24:** Using your answer to **Q23**, give an inequality that your weights must abide by.\n",
    "\n",
    "**A:**   "
   ]
  },
  {
   "cell_type": "markdown",
   "metadata": {},
   "source": [
    "**Q25:** What multiplier needs to be used to ensure that the number of unmatched students is minimized?\n",
    "\n",
    "**A:**   "
   ]
  },
  {
   "cell_type": "markdown",
   "metadata": {},
   "source": []
  },
  {
   "cell_type": "markdown",
   "metadata": {},
   "source": [
    "## Bonus 1\n",
    "\n",
    "We do not want to waste time trying different cost combinations if there is no solution where every student gets one of their top 5 picks. How can we check whether there exists a feasible solution with 0 unmatched students?  "
   ]
  },
  {
   "cell_type": "markdown",
   "metadata": {},
   "source": [
    "**B1:** What is the cost of edges representing students' preferences?  \n",
    "\n",
    "**A:**   "
   ]
  },
  {
   "cell_type": "markdown",
   "metadata": {},
   "source": [
    "**B2:** What is the cost of dummy edges?  \n",
    "    \n",
    "**A:**   "
   ]
  },
  {
   "cell_type": "markdown",
   "metadata": {},
   "source": [
    "**B3:** What is the desired solution?  \n",
    "\n",
    "**A:**   "
   ]
  },
  {
   "cell_type": "markdown",
   "metadata": {},
   "source": [
    "**B4:** Describe another way that might use a different model.  \n",
    "\n",
    "**A:**   "
   ]
  }
 ],
 "metadata": {
  "kernelspec": {
   "display_name": "Python 3",
   "language": "python",
   "name": "python3"
  },
  "language_info": {
   "codemirror_mode": {
    "name": "ipython",
    "version": 3
   },
   "file_extension": ".py",
   "mimetype": "text/x-python",
   "name": "python",
   "nbconvert_exporter": "python",
   "pygments_lexer": "ipython3",
   "version": "3.6.10"
  }
 },
 "nbformat": 4,
 "nbformat_minor": 2
}
