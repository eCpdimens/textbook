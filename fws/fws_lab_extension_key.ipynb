{
 "cells": [
  {
   "cell_type": "markdown",
   "metadata": {},
   "source": [
    "# First-Year Writing Seminars: Extension\n",
    "\n",
    "**Objectives:**\n",
    "* Formulate a new approach to the FWS assignment problem using ideas from min-cost flow.\n",
    "* Improve an existing model by adding new constraints and nuances.\n",
    "* Get comfortable with ORTools syntax.\n",
    "\n",
    "**Key Ideas:**\n",
    "* integrality property\n",
    "* the min-cost flow problem\n",
    "* the transportation problem\n",
    "* the assignment problem\n",
    "\n",
    "**Reading Assignment:**\n",
    "* Read Handout 7.5 on the min-cost flow problem.\n",
    "\n",
    "**Brief description:** If you recall pre-enroll, there was a separate ballot you completed by listing your top 5 picks for FWS that semester. You were later notified which class you got placed into, probably hoping it was your first choice. By now, this should not seem like magic; problems like these often enlist help from Operations Research especially as the scale increases. Disclaimer: the following models are not actually used by Cornell."
   ]
  },
  {
   "cell_type": "code",
   "execution_count": 1,
   "metadata": {},
   "outputs": [],
   "source": [
    "# imports -- don't forget to run this cell!\n",
    "import numpy as np\n",
    "import pandas as pd\n",
    "import math, itertools\n",
    "import matplotlib.pyplot as plt\n",
    "import networkx as nx\n",
    "from networkx.algorithms import bipartite\n",
    "from ortools.linear_solver import pywraplp as OR\n",
    "from ortools.graph import pywrapgraph as ORMC\n",
    "from networkx.algorithms.flow import min_cost_flow"
   ]
  },
  {
   "cell_type": "markdown",
   "metadata": {},
   "source": [
    "# Part 1: Min-Cost Flow Formulation"
   ]
  },
  {
   "cell_type": "markdown",
   "metadata": {},
   "source": [
    "**Review** \n",
    "\n",
    "Recall the min-cost flow problem. It takes as input\n",
    "* A directed graph $G = (V,A)$,\n",
    "* costs $c(i,j)$ for shipping one unit of good from node $i$ to node $j$ for each arc $(i,j) \\in A$,\n",
    "* capacities $u(i,j)$ for each arc $(i,j) \\in A$,\n",
    "* supply values $b(i)$ for each node $i \\in V$, such that $\\sum_{i \\in V} b(i) = 0$.\n",
    "\n",
    "Remember also that at each node $i$, our supply value $b(i)$ is greater than 0 if there is supply at node $i$, less than 0 if there is demand at node $i$, and equal to 0 if there is neither supply nor demand at node $i$ (i.e., node $i$ is a transit node). Using shortest-path terminology, supply nodes are \"sources,\" demand nodes are \"sinks,\" and transit nodes are interior nodes.\n",
    "\n",
    "Our goal is to find a feasible flow that satisfies both flow-capacity constraints and flow-conservation constraints; that is, we wish to find a flow $f(i,j)$ on all arcs such that $0 \\leq f(i,j) \\leq u(i,j)$ for every arc $(i,j) \\in A$ and $\\sum_{(i,j) \\in A} f(i,j) - \\sum_{(j,i) \\in A} f(j,i) = b(i)$ for every node $i \\in V$.\n",
    "\n",
    "The objective value of a feasible solution is given by $\\sum_{(i,j) \\in A} c(i,j)*f(i,j)$. We'd like to minimize this cost function&mdash;in other words, find a \"min-cost\" flow.\n",
    "\n",
    "(For a more in-depth discussion, see Handout 7.5 and the min-cost flow lab.)"
   ]
  },
  {
   "cell_type": "markdown",
   "metadata": {},
   "source": [
    "**Formulating the model**\n",
    "\n",
    "In Handout 7.5, we learned that the transportation problem is really just a specific case of the min-cost flow problem. Let's use this fact, along with the transportation model we've already created in the FWS lab, to formulate a min-cost flow model."
   ]
  },
  {
   "cell_type": "markdown",
   "metadata": {},
   "source": [
    "Nodes for each student and class section, as well as the special 'dummy' supply node, remain the same as before, as do our arcs and edge costs; all we need to do to create a min-cost flow input is define (1) the arc capacities and (2) the supply values at each node, and we'll be all set!"
   ]
  },
  {
   "cell_type": "markdown",
   "metadata": {},
   "source": [
    "**Q1:** What should the capacity $u(i,j)$ on each arc $(i,j)$ be? (An arc $(i,j)$ connects a student node $i$ to a class node $j$.)\n",
    "\n",
    "**A:** <font color='blue'>1</font>"
   ]
  },
  {
   "cell_type": "markdown",
   "metadata": {},
   "source": [
    "**Q2:** We also need to define the capacity $u(dummy,j)$ on each arc leaving the 'dummy' node to a class node. We could set it to infinity, since there are an infinite number of \"dummy students\" we could assign to each class. Can you find a better upper bound? (Hint: we cannot have more than 16 students in a class)\n",
    "\n",
    "**A:** <font color='blue'> Yes; set $u(dummy,j) = 16$. More generally, we set $u(dummy,j) = $ (max number of 'real' students) $ - $ (min number of 'real' students), or (in this case) $16 - 0 = 16$.</font>"
   ]
  },
  {
   "cell_type": "markdown",
   "metadata": {},
   "source": [
    "Next, let's define our supply values $b(i)$."
   ]
  },
  {
   "cell_type": "markdown",
   "metadata": {},
   "source": [
    "**Q3:** For a student node $i$, what should the supply value $b(i)$ be?\n",
    "\n",
    "**A:** <font color='blue'>1</font>"
   ]
  },
  {
   "cell_type": "markdown",
   "metadata": {},
   "source": [
    "**Q4:** For a class node $j$, what should the supply value $b(j)$ be? (If there is demand at a node $k$, then $b(k) < 0$.)\n",
    "\n",
    "**A:** <font color='blue'>-16</font>"
   ]
  },
  {
   "cell_type": "markdown",
   "metadata": {},
   "source": [
    "Once again, we must account for our dummy supply node. Recall that for a min-cost flow input to be valid, the \"net supply/demand\" summed up over all nodes should be equal to 0:  $\\sum_{i \\in V} b(i) = 0$. \n",
    "\n",
    "Suppose we have $m$ students selecting from $n$ classes, each of which can have up to 16 students. "
   ]
  },
  {
   "cell_type": "markdown",
   "metadata": {},
   "source": [
    "**Q5:** Using this information, what should the supply value $b(dummy)$ be?\n",
    "\n",
    "**A:** <font color='blue'>To satisfy our input condition $\\sum_{i \\in V} b(i) = 0$, we must have $\\sum_{students,i} b(i)$ + $\\sum_{classes,j} b(j)$ + $b(dummy) = 0$. Thus $m(1) - n(16) + b(dummy) = 0$, which gives $b(dummy) = 16n - m$.</font>"
   ]
  },
  {
   "cell_type": "markdown",
   "metadata": {},
   "source": [
    "This should make sense intuitively; essentially, we are saying that after every student has been assigned a class, whatever spots are left over should be filled by our \"fake students.\" (Of course, this assumes there are enough spots for every \"real\" student!)\n",
    "\n",
    "Now, let's take a look at our formulation in Python."
   ]
  },
  {
   "cell_type": "markdown",
   "metadata": {},
   "source": [
    "\\#TODO: Should I show the code implementation? It's less straightforward than what students have seen from ORTools (not an LP/IP formulation, but rather constructing a graph)"
   ]
  },
  {
   "cell_type": "code",
   "execution_count": 2,
   "metadata": {},
   "outputs": [
    {
     "name": "stdout",
     "output_type": "stream",
     "text": [
      "Success\n",
      "Minimum cost: 4205307\n",
      "\n",
      "Student cost: 5307\n",
      "Preferences received:\n",
      "1: 1532\n",
      "2: 670\n",
      "3: 386\n",
      "4: 213\n",
      "5: 85\n"
     ]
    }
   ],
   "source": [
    "from fws_lab_ext import mincostflow\n",
    "mincostflow()"
   ]
  },
  {
   "cell_type": "markdown",
   "metadata": {},
   "source": [
    "Success! If everything ran properly, you should now have a working min-cost flow formulation for the FWS assignment problem. As we'll see, thinking in terms of flows can be helpful when working with different constraints."
   ]
  },
  {
   "cell_type": "markdown",
   "metadata": {},
   "source": [
    "**Q6:** Using just the objective value and student cost calculated above, as well as the fact that there are 2886 students and 183 (full) class sections, show that the unit cost for an arc originating at the dummy node is 100,000.\n",
    "\n",
    "**A:** <font color='blue'>There are a few different ways to do this; one is to use the formula derived in **Q5**. To make the input balanced, our dummy node supply is $16n - m = 16(183) - 2886 = 42$. So there are 42 dummy students. Now, we know the cost of all 'real' students is 5307, so the cost of the dummy 'filler' students is $4205307 - 5307 = 4,200,000$. Dividing by the number of dummies, our unit cost for each dummy arc is then $\\frac{4200000}{42} = 100,000$.</font>"
   ]
  },
  {
   "cell_type": "markdown",
   "metadata": {},
   "source": [
    "You may have noticed that our formulation is fairly simple in terms of its assumptions. For example, based off your answer to **Q2**, a feasible (though expensive) solution might involve assigning 16 fake 'filler' students to a section! It's also easy to imagine our model assigning just 1 or 2 \"real\" students to a less interesting section that doesn't rank as high on people's preferences.\n",
    "\n",
    "The Knight Institute wants students to take full advantage of the diversity of FWS classes offered, so they decide to implement a new rule: now, each section must have a minimum of 6 students enrolled, but no more than 16 (as before). "
   ]
  },
  {
   "cell_type": "markdown",
   "metadata": {},
   "source": [
    "**Q7:** How can we account for this \"minimum class size constraint\" in our model? (Hint: take a look at **Q2**)\n",
    "\n",
    "**A:** <font color='blue'>(taken from answer to Q2) Set $u(dummy,j) = $ (max class size) $ - $ (min class size), or (in this case) $16 - 6 = 10$.</font>"
   ]
  },
  {
   "cell_type": "markdown",
   "metadata": {},
   "source": [
    "It turns out that our Python function can take as input a parameter called 'minstudents' that specifies the minimum number of \"real\" students assigned to each class section. (The code basically does what you did in **Q6**.)"
   ]
  },
  {
   "cell_type": "code",
   "execution_count": 3,
   "metadata": {},
   "outputs": [
    {
     "name": "stdout",
     "output_type": "stream",
     "text": [
      "Success\n",
      "Minimum cost: 4205307\n",
      "\n",
      "Student cost: 5307\n",
      "Preferences received:\n",
      "1: 1532\n",
      "2: 670\n",
      "3: 386\n",
      "4: 213\n",
      "5: 85\n"
     ]
    }
   ],
   "source": [
    "mincostflow(minstudents=0)"
   ]
  },
  {
   "cell_type": "markdown",
   "metadata": {},
   "source": [
    "**Q8:** Play around with different values for the 'minstudents' parameter and see what outputs you get. What do you observe?\n",
    "\n",
    "**A:** <font color='blue'>Should see that a feasible flow exists for values of minstudents from 0 to 10 (including 6, which was our goal), and the input becomes infeasible for values of minstudents from 11 to 16. Also, the student cost is minimized (at 5307) for values of minstudents from 0 to 8, then increases to 5308 for minstudents=9 and 5311 for minstudents=10.</font>"
   ]
  },
  {
   "cell_type": "markdown",
   "metadata": {},
   "source": [
    "Run the following cell, which outputs the least popular class (or classes) among students' preferences. (Define \"least popular\" as appearing the least on students' list of preferences.) If you'd like, read the comments alongside each line of code to understand what the function does."
   ]
  },
  {
   "cell_type": "code",
   "execution_count": 4,
   "metadata": {},
   "outputs": [
    {
     "name": "stdout",
     "output_type": "stream",
     "text": [
      "The class (or classes) with the least students interested is [130].\n",
      "Only 10 students put this class as one of their top 5 preferences.\n"
     ]
    }
   ],
   "source": [
    "# Outputs the least popular FWS class section among students' listed preferences\n",
    "def leastpopular(dataset='f09_fws_ballots.csv'):\n",
    "    data = pd.read_csv(dataset) # reads in the dataset\n",
    "    \n",
    "    a = np.array(data[['1','2','3','4','5']].values) # creates a list of all the class preferences students put\n",
    "    unique, counts = np.unique(a, return_counts=True) # counts how many of each class number appears on the preference list\n",
    "    classlist = dict(zip(unique, counts)) # creates a dictionary of class number : number of preferences\n",
    "    \n",
    "    least_students = min(classlist.values()) # finds the minimum number of preferences in the dictionary\n",
    "    res = [c for c in classlist if classlist[c] == least_students] # finds class number corresponding to min number of prefs.\n",
    "    print('The class (or classes) with the least students interested is ' + str(res) + '.')\n",
    "    print('Only ' + str(least_students) + ' students put this class as one of their top 5 preferences.') # prints results \n",
    "    \n",
    "leastpopular()"
   ]
  },
  {
   "cell_type": "markdown",
   "metadata": {},
   "source": [
    "**Q9:** Does this output make sense based on what you observed in **Q7**? Explain.\n",
    "\n",
    "**A:** <font color='blue'>The function output states that the class with the minimum number of students putting it as a preference has only 10 students interested. Thus a maximum of 10 \"real\" students will be assigned this class--so if we set 'minstudents' higher than 10, there aren't enough students interested to satisfy the minimum class size constraint, and the mincostflow function returns 'Infeasible'.</font>"
   ]
  },
  {
   "cell_type": "markdown",
   "metadata": {},
   "source": [
    "# Part 2: A Better Integer Program"
   ]
  },
  {
   "cell_type": "markdown",
   "metadata": {},
   "source": [
    "In the previous section, we were able to modify an existing model to incorporate a new constraint (that each class must have at least 6 students). Even with this additional constraint, we still found a feasible solution for the given data. But what if we were not so lucky?\n",
    "\n",
    "For instance, suppose a particularly grumpy grad student agrees to hold an FWS section at 8:00 AM on Mondays. In the course description, they advertise a weekly 20-page writing assignment on the most boring topic they can find. (Use your imagination!)\n",
    "\n",
    "Naturally, only two students decide to list the class as their top preference, hoping to impress their fellow first-years. Seeing the general lack of enthusiasm, the Knight Institute wants to know if they can cancel the section and still find a full matching of students to FWS sections. \n",
    "\n",
    "Of course, this is not the only scenario where being able to choose which class sections run might be helpful. What if an instructor got sick before the school year, or the FWS budget decreased and some class offerings were cut? \n",
    "\n",
    "Let's see how we can build this idea into our existing model to make it more flexible. As a reminder, here is the existing code for our assignment model, formulated as an integer program. Read through and run the next few cells. If everything runs smoothly, you should obtain the same solution you got in the FWS lab."
   ]
  },
  {
   "cell_type": "code",
   "execution_count": 5,
   "metadata": {},
   "outputs": [],
   "source": [
    "# An FWS assignment model\n",
    "\n",
    "# INPUTS:\n",
    "# students: a list of students\n",
    "# classes: a list of classes\n",
    "# edges: a dictionary of edge costs\n",
    "# csize: the class capacity \n",
    "# dcost: the cost of not assigning a student to one of their top 5 picks\n",
    "def Assign(students, classes, edges, csize, dcost, solver):\n",
    "    STUDENT = students + ['dummy']  # create student list add dummy node \n",
    "    CLASS = classes                 # create class list\n",
    "    EDGES = list(edges.keys())      # create edge list\n",
    "    \n",
    "    newedges = list(itertools.product([0], CLASS))\n",
    "    EDGES.extend(newedges)          # add dummy edges\n",
    "    \n",
    "    c = edges.copy()                # define c[i,j]\n",
    "    for edge in newedges:\n",
    "        c.update({edge : dcost})    # add c[i,dummy] costs\n",
    "    \n",
    "    # define model\n",
    "    m = OR.Solver('assignFWS', solver)\n",
    "    \n",
    "    # decision variables\n",
    "    x = {}    \n",
    "    for i,j in EDGES:\n",
    "        # define x(i,j) here\n",
    "        x[i,j] = m.IntVar(0, m.infinity(), ('(%d, %s)' % (i,j))) \n",
    "        \n",
    "    # define objective function here\n",
    "    m.Minimize(sum(c[i,j]*x[i,j] for i,j in EDGES))\n",
    "       \n",
    "    # add constraint to ensure each student (not including the dummy) is assigned at most one class\n",
    "    for k in students:\n",
    "        if k != 'dummy':\n",
    "            m.Add(sum(x[i,j] for i,j in EDGES if i==k) <= 1)\n",
    "        \n",
    "    # add constraint to ensure each class is full\n",
    "    for k in classes:\n",
    "        m.Add(sum(x[i,j] for i,j in EDGES if j==k) == csize)\n",
    "    \n",
    "    m.Solve()\n",
    "    \n",
    "    unmatched = []\n",
    "    for k in STUDENT:\n",
    "        if (sum(x[i,j].solution_value() for i,j in EDGES if i==k) == 0) and (k!='dummy'):\n",
    "            unmatched.append(k)\n",
    "    print(\"Unmatched students:\", len(unmatched))\n",
    "    \n",
    "    matched = {}\n",
    "    for i,j in EDGES:\n",
    "        if x[i,j].solution_value() == 1:\n",
    "            if c[i,j] in matched:\n",
    "                matched[c[i,j]] += 1\n",
    "            else:\n",
    "                matched.update({c[i,j] : 1})\n",
    "    if dcost in matched.keys():\n",
    "        del matched[dcost]\n",
    "    \n",
    "    return matched"
   ]
  },
  {
   "cell_type": "code",
   "execution_count": 6,
   "metadata": {},
   "outputs": [
    {
     "data": {
      "text/html": [
       "<div>\n",
       "<style scoped>\n",
       "    .dataframe tbody tr th:only-of-type {\n",
       "        vertical-align: middle;\n",
       "    }\n",
       "\n",
       "    .dataframe tbody tr th {\n",
       "        vertical-align: top;\n",
       "    }\n",
       "\n",
       "    .dataframe thead th {\n",
       "        text-align: right;\n",
       "    }\n",
       "</style>\n",
       "<table border=\"1\" class=\"dataframe\">\n",
       "  <thead>\n",
       "    <tr style=\"text-align: right;\">\n",
       "      <th></th>\n",
       "      <th>STUDENTS</th>\n",
       "      <th>1</th>\n",
       "      <th>2</th>\n",
       "      <th>3</th>\n",
       "      <th>4</th>\n",
       "      <th>5</th>\n",
       "    </tr>\n",
       "  </thead>\n",
       "  <tbody>\n",
       "    <tr>\n",
       "      <td>0</td>\n",
       "      <td>1</td>\n",
       "      <td>145</td>\n",
       "      <td>142</td>\n",
       "      <td>125</td>\n",
       "      <td>143</td>\n",
       "      <td>80</td>\n",
       "    </tr>\n",
       "    <tr>\n",
       "      <td>1</td>\n",
       "      <td>2</td>\n",
       "      <td>72</td>\n",
       "      <td>12</td>\n",
       "      <td>149</td>\n",
       "      <td>171</td>\n",
       "      <td>8</td>\n",
       "    </tr>\n",
       "    <tr>\n",
       "      <td>2</td>\n",
       "      <td>3</td>\n",
       "      <td>79</td>\n",
       "      <td>87</td>\n",
       "      <td>37</td>\n",
       "      <td>120</td>\n",
       "      <td>97</td>\n",
       "    </tr>\n",
       "    <tr>\n",
       "      <td>3</td>\n",
       "      <td>4</td>\n",
       "      <td>104</td>\n",
       "      <td>101</td>\n",
       "      <td>103</td>\n",
       "      <td>100</td>\n",
       "      <td>99</td>\n",
       "    </tr>\n",
       "    <tr>\n",
       "      <td>4</td>\n",
       "      <td>5</td>\n",
       "      <td>26</td>\n",
       "      <td>154</td>\n",
       "      <td>149</td>\n",
       "      <td>101</td>\n",
       "      <td>28</td>\n",
       "    </tr>\n",
       "  </tbody>\n",
       "</table>\n",
       "</div>"
      ],
      "text/plain": [
       "   STUDENTS    1    2    3    4   5\n",
       "0         1  145  142  125  143  80\n",
       "1         2   72   12  149  171   8\n",
       "2         3   79   87   37  120  97\n",
       "3         4  104  101  103  100  99\n",
       "4         5   26  154  149  101  28"
      ]
     },
     "execution_count": 6,
     "metadata": {},
     "output_type": "execute_result"
    }
   ],
   "source": [
    "# read in the dataset\n",
    "\n",
    "# 2886 students, 183 class sections\n",
    "data = pd.read_csv('f09_fws_ballots.csv')\n",
    "data.head()    # preview"
   ]
  },
  {
   "cell_type": "code",
   "execution_count": 7,
   "metadata": {},
   "outputs": [
    {
     "name": "stdout",
     "output_type": "stream",
     "text": [
      "Unmatched students: 0\n",
      "{1: 1532, 4: 208, 2: 673, 3: 384, 5: 89}\n"
     ]
    }
   ],
   "source": [
    "# solve the instance\n",
    "\n",
    "from fws_lab import inputData\n",
    "students, classes, edges = inputData('f09_fws_ballots.csv')\n",
    "data_sol = Assign(students, classes, edges, 16, 100000, OR.Solver.CBC_MIXED_INTEGER_PROGRAMMING)\n",
    "print(data_sol)"
   ]
  },
  {
   "cell_type": "markdown",
   "metadata": {},
   "source": [
    "Notice that the Assign function above doesn't implement the minimum class size constraint discussed in Part I; instead, there is a constraint specifying that each class section must be full. "
   ]
  },
  {
   "cell_type": "markdown",
   "metadata": {},
   "source": [
    "**Q10:** How does our current model guarantee that each class will be full? If we include a minimum class size in our input, is this feature still necessary? Why?\n",
    "\n",
    "**A:** <font color='blue'>The \"dummy student\" node sends as much supply/flow as is necessary for each class to be \"full.\" However, upon implementing the minimum class size, we are essentially saying that this is no longer needed; no class has to be filled to capacity, as long as each class that runs has a specified minimum number of students signed up. Thus the dummy node becomes unnecessary and can be removed.</font>"
   ]
  },
  {
   "cell_type": "markdown",
   "metadata": {},
   "source": [
    "**Q11:** How can we describe whether or not a class section runs in our model? (Hint: think about how one could encode \"on/off\" functionality for each section) \n",
    "\n",
    "**A:** <font color='blue'>Add a new decision variable for each class. This should be a binary (integer) decision variable, set to 1 if the class runs and 0 if the class does not run.</font>"
   ]
  },
  {
   "cell_type": "markdown",
   "metadata": {},
   "source": [
    "Below, you'll see a modified version of the Assign function. Take a careful look at the changes made, thinking about your answers to **Q9** and **Q10**. Do the changes mirror what you expected?"
   ]
  },
  {
   "cell_type": "code",
   "execution_count": 8,
   "metadata": {},
   "outputs": [],
   "source": [
    "# A modified FWS assignment model, which incorporates minimum class size and the option of not running class sections\n",
    "\n",
    "# INPUTS:\n",
    "# students: a list of students\n",
    "# classes: a list of classes\n",
    "# edges: a dictionary of edge costs\n",
    "# minstudents: minimum number of students per class section\n",
    "# csize: maximum number of students per class section\n",
    "# solver: the solver to be used\n",
    "def modifiedAssign(students, classes, edges, minstudents, csize, solver):\n",
    "    STUDENT = students              # create student list\n",
    "    CLASS = classes                 # create class list\n",
    "    EDGES = list(edges.keys())      # create edge list    \n",
    "    \n",
    "    c = edges.copy()                # define c[i,j]\n",
    "    \n",
    "    # define model\n",
    "    m = OR.Solver('assignFWS', solver)\n",
    "    \n",
    "    # decision variables\n",
    "    x = {}    \n",
    "    for i,j in EDGES:\n",
    "        # define x(i,j) here\n",
    "        x[i,j] = m.IntVar(0, m.infinity(), ('(%d, %s)' % (i,j))) \n",
    "        \n",
    "    y = {}\n",
    "    for j in CLASS:\n",
    "        # define y_j here\n",
    "        y[j] = m.BoolVar('y_%s' % j) # A BoolVar or Boolean variable is similar to an integer variable,\n",
    "                                     # except that it can only take on values in {0,1}, where 0 represents \"false\"\n",
    "                                     # and 1 represents \"true.\" We could have also used an IntVar ranging from 0 to 1.\n",
    "               \n",
    "    # define objective function here\n",
    "    m.Minimize(sum(c[i,j]*x[i,j] for i,j in EDGES))\n",
    "       \n",
    "    # add constraint to ensure each student is assigned exactly one class\n",
    "    for k in students:\n",
    "        m.Add(sum(x[i,j] for i,j in EDGES if i==k) == 1)\n",
    "        \n",
    "    # add constraint to ensure each class that runs satisfies minimum and maximum class size\n",
    "    for k in classes:\n",
    "        m.Add(sum(x[i,j] for i,j in EDGES if j==k) <= csize*y[k])\n",
    "        m.Add(sum(x[i,j] for i,j in EDGES if j==k) >= minstudents*y[k])\n",
    "    \n",
    "    # solve\n",
    "    status = m.Solve()\n",
    "    \n",
    "    if status == OR.Solver.INFEASIBLE:\n",
    "        print('Infeasible')\n",
    "        return\n",
    " \n",
    "    unmatched = []\n",
    "    for k in STUDENT:\n",
    "        if (sum(x[i,j].solution_value() for i,j in EDGES if i==k) == 0):\n",
    "            unmatched.append(k)\n",
    "    print(\"Unmatched students:\", len(unmatched))\n",
    "    \n",
    "    matched = {}\n",
    "    for i,j in EDGES:\n",
    "        if x[i,j].solution_value() == 1:\n",
    "            if c[i,j] in matched:\n",
    "                matched[c[i,j]] += 1\n",
    "            else:\n",
    "                matched.update({c[i,j] : 1})\n",
    "    \n",
    "    return matched       "
   ]
  },
  {
   "cell_type": "markdown",
   "metadata": {},
   "source": [
    "**Q12:** Pay attention to the constraints. What differences do you notice? Do these new constraints make sense? Explain.\n",
    "\n",
    "**A:** <font color='blue'>The student constraint (beginning with \"for k in students\") is now strict equality, meaning that each student must be assigned a class section. (Otherwise, the cheapest solution is just to not run any classes.) <br><br>Additionally, the class size constraint has been modified to work in the following way: if class k runs (i.e, y[k] == 1), then it must have between 'minstudents' and 'csize' students assigned to it, whereas if class k does not run (i.e., y[k] == 0), then it must have no students (literally, between 0 and 0 students) assigned to it.</font>"
   ]
  },
  {
   "cell_type": "markdown",
   "metadata": {},
   "source": [
    "One advantage of this approach is that it gives flexibility in the case that a class must be canceled for some reason. For instance, if we needed to cancel a class for financial reasons (like the least popular class, section 130), we'd just put the following line of code in with our constraints: \n",
    "\n",
    "<code>m.Add(y[130] == 0)</code>"
   ]
  },
  {
   "cell_type": "markdown",
   "metadata": {},
   "source": [
    "Now, let's test out our new model! Run the cell below, which sets the parameter 'minstudents' equal to 6 and 'csize' equal to 16. If all goes well, we should get a feasible solution. (Recall that in Part I, we found a feasible flow satisfying the same constraints.)"
   ]
  },
  {
   "cell_type": "code",
   "execution_count": 9,
   "metadata": {},
   "outputs": [
    {
     "name": "stdout",
     "output_type": "stream",
     "text": [
      "Unmatched students: 0\n",
      "{1: 1536, 4: 210, 2: 667, 3: 384, 5: 89}\n"
     ]
    }
   ],
   "source": [
    "modified_sol = modifiedAssign(students, classes, edges, 6, 16, OR.Solver.CBC_MIXED_INTEGER_PROGRAMMING)\n",
    "print(modified_sol)"
   ]
  },
  {
   "cell_type": "markdown",
   "metadata": {},
   "source": [
    "Woohoo! We found a solution! \n",
    "\n",
    "Let's see how it compares to the original model."
   ]
  },
  {
   "cell_type": "code",
   "execution_count": 10,
   "metadata": {},
   "outputs": [
    {
     "data": {
      "image/png": "[encoded data removed]",
      "text/plain": [
       "<Figure size 432x288 with 1 Axes>"
      ]
     },
     "metadata": {
      "needs_background": "light"
     },
     "output_type": "display_data"
    },
    {
     "name": "stdout",
     "output_type": "stream",
     "text": [
      "1 : 53.08 %\n",
      "2 : 23.32 %\n",
      "3 : 13.31 %\n",
      "4 : 7.21 %\n",
      "5 : 3.08 %\n"
     ]
    },
    {
     "data": {
      "image/png": "[encoded data removed]",
      "text/plain": [
       "<Figure size 432x288 with 1 Axes>"
      ]
     },
     "metadata": {
      "needs_background": "light"
     },
     "output_type": "display_data"
    },
    {
     "name": "stdout",
     "output_type": "stream",
     "text": [
      "1 : 53.22 %\n",
      "2 : 23.11 %\n",
      "3 : 13.31 %\n",
      "4 : 7.28 %\n",
      "5 : 3.08 %\n"
     ]
    }
   ],
   "source": [
    "from fws_lab_ext import Histo\n",
    "\n",
    "# Assign function solution\n",
    "Histo(data_sol, 15)\n",
    "\n",
    "for pref in range(1,6):\n",
    "    print(pref, \":\", round(100*data_sol[pref]/2886, 2), \"%\")\n",
    "\n",
    "    \n",
    "# Modified Assign function solution\n",
    "Histo(modified_sol, 15)\n",
    "\n",
    "for pref in range(1,6):\n",
    "    print(pref, \":\", round(100*modified_sol[pref]/2886, 2), \"%\")"
   ]
  },
  {
   "cell_type": "markdown",
   "metadata": {},
   "source": [
    "**Q13:** Compare the objective values of the two solutions (you can use the cell below for computations if you'd like). What do you observe? Is this surprising? (Remember we set the cost of a student receiving their $k$th preference to be $k$; that is, a student receiving their top choice cost 1, second choice cost 2, and so forth)\n",
    "\n",
    "**A:** <font color='blue'>Even though the solutions are different, both should have cost 5307. It may not be surprising that we can't do better than the original, less-constrained model, but more significant is the fact that the min-class-size constraint doesn't worsen the objective value.</font>"
   ]
  },
  {
   "cell_type": "code",
   "execution_count": 11,
   "metadata": {},
   "outputs": [],
   "source": [
    "### CELL FOR COMPUTATIONS ###\n"
   ]
  },
  {
   "cell_type": "markdown",
   "metadata": {},
   "source": [
    "**Q14:** The Knight Institute is also interested in seeing the least amount of classes they can run, given the data on student preferences. To implement this, we can re-define the objective function in our model to the following:\n",
    "\n",
    "<code>m.Minimize(sum(y[j] for j in CLASS))</code>\n",
    "\n",
    "Doing this will give a solution with an objective value of 181. We claim that this is optimal, regardless of the minimum class size. Why? (Recall that there are 2886 students in total.)\n",
    "\n",
    "**A:** <font color='blue'>The objective value essentially says that we can never run less than 181 class sections if we want a feasible solution. Suppose we fill each classroom to the max, that is, assign 16 students per class for as many classes as possible. We can fill $\\frac{2886 - 2886\\bmod16}{16} = 180$ classes this way, with a remaining $2886\\bmod16 = 6$ students to put in the 181st class section. (With a maximum of 183 class sections available, there isn't much wiggle room!)</font>"
   ]
  },
  {
   "cell_type": "markdown",
   "metadata": {},
   "source": [
    "We could extend the problem even further by aiming to satisfy the most students (by assigning them to their preferred classes) while running as few classes as possible. Clearly, there's a trade-off here: by running fewer classes, the university saves money, but might leave some students dissatisfied with their FWS assignment, and vice-versa. This is a peek into the messy world of *multi-objective optimization*! \n",
    "\n",
    "In this case, we know the minimum number of classes we can run will be 181, so we can just add a constraint to our model to enforce this while the objective function remains the same."
   ]
  },
  {
   "cell_type": "markdown",
   "metadata": {},
   "source": [
    "**Q15:** Write the constraint that our model must run exactly 181 classes, using the code from **Q14** as a guide. Your answer should look like this: m.Add(XXX)\n",
    "\n",
    "**A:** <font color='blue'>m.Add(sum(y[j] for j in CLASS) == 181)</font>"
   ]
  },
  {
   "cell_type": "markdown",
   "metadata": {},
   "source": [
    "# Part 3: New Objectives\n",
    "*Adapted from previous versions of the FWS lab.* "
   ]
  },
  {
   "cell_type": "markdown",
   "metadata": {},
   "source": [
    "As you have probably noticed, the different models presented in this lab find different feasible solutions to the FWS assignment problem&mdash;that is, they find a matching of students to FWS sections that ensures every student gets one of their top 5 picks. Having many solutions is great, but in a real-life scenario, we can only pick one!\n",
    "\n",
    "Once we know we have feasible solutions, deciding which of the solutions is \"the best\" depends on what our goal is. For instance, our goal could be to find the solution that maximizes the number of students receiving their first choice, or to minimize the number of students receiving their fifth choice.\n",
    "\n",
    "It turns out we can achieve some complex behavior in our solutions by making some clever adjustments to our original objective function."
   ]
  },
  {
   "cell_type": "markdown",
   "metadata": {},
   "source": [
    "**Q16:** In our original input for the FWS assignment problem, we set the unit cost of edges from the dummy node to be 100,000. Why?\n",
    "\n",
    "**A:** <font color='blue'>In the FWS lab, we discussed how the objective function is actually a weighted function. The coefficients, which in this case are the costs, dictate how much you want the solver to select the corresponding edges. An edge with a small cost has a higher likelihood (weight) of being in the solution while an edge with a large cost will potentially be avoided. This being said, we can try setting the cost of edges from the dummy node to an arbitrarily large number like 100,000. This should create greater incentive to fill classes with actual students than our fake filler 'students' as we witnessed in the second small example. [Taken directly from the FWS lab]\n",
    "    \n",
    "More technically, the cost of not assigning just *one* student to one of their top 5 choices is greater than the cost of assigning all 2886 students their fifth choice! Using this method thus ensures a maximal assignment of students to classes, if one exists, before considering student preferences.</font>"
   ]
  },
  {
   "cell_type": "markdown",
   "metadata": {},
   "source": [
    "Let's use this notion of \"weight adjustment\" to see how it plays into the solutions we can find. Run the cell below, which defines a method to facilitate incorporating varied edge costs into our modifiedAssign model."
   ]
  },
  {
   "cell_type": "code",
   "execution_count": 12,
   "metadata": {},
   "outputs": [],
   "source": [
    "from fws_lab_ext import updated_edge_costs\n",
    "\n",
    "def part3(prefcosts):\n",
    "    # Get the updated edge : cost dictionary\n",
    "    newedges = updated_edge_costs(edges,prefcosts)\n",
    "\n",
    "    # Assign students based on these new edge costs\n",
    "    test_sol = modifiedAssign(students, classes, newedges, 6, 16, OR.Solver.CBC_MIXED_INTEGER_PROGRAMMING)\n",
    "\n",
    "    # Format results\n",
    "    new_costs_to_prefs = dict(zip(list(newedges.values())[:5],list(range(1,6))))\n",
    "\n",
    "    prefs_to_nums = {}\n",
    "    for key in test_sol.keys():\n",
    "        prefs_to_nums[new_costs_to_prefs[key]] = test_sol[key]   \n",
    "    \n",
    "    # See histogram\n",
    "    Histo(prefs_to_nums,15)\n",
    "    \n",
    "    for pref in range(1,6):\n",
    "        print(pref, \":\", round(100*prefs_to_nums[pref]/2886, 2), \"%\")"
   ]
  },
  {
   "cell_type": "markdown",
   "metadata": {},
   "source": [
    "Going back to our example, let's find a solution that maximizes the number of students receiving their first choice. To do this, we need to somehow \"entice\" the solver into picking edges corresponding to students' first preference. This is just the opposite of what we did with the dummy node! \n",
    "\n",
    "In the cell below, we set the cost of edges between a student and their first-choice class to be an arbitrarily large *negative* number (-10,000). It's worth noting that edge costs can be positive or negative here, since we're not so much concerned about the actual cost of our solution as we are about the relationship between the costs of different types of edges."
   ]
  },
  {
   "cell_type": "code",
   "execution_count": 13,
   "metadata": {},
   "outputs": [
    {
     "name": "stdout",
     "output_type": "stream",
     "text": [
      "Unmatched students: 0\n"
     ]
    },
    {
     "data": {
      "image/png": "[encoded data removed]",
      "text/plain": [
       "<Figure size 432x288 with 1 Axes>"
      ]
     },
     "metadata": {
      "needs_background": "light"
     },
     "output_type": "display_data"
    },
    {
     "name": "stdout",
     "output_type": "stream",
     "text": [
      "1 : 60.53 %\n",
      "2 : 8.49 %\n",
      "3 : 10.88 %\n",
      "4 : 11.09 %\n",
      "5 : 9.01 %\n"
     ]
    }
   ],
   "source": [
    "# Define new edge costs here\n",
    "prefcosts = {1:-10000,\n",
    "             2:2,\n",
    "             3:3,\n",
    "             4:4,\n",
    "             5:5}\n",
    "\n",
    "# Run the model with the new edge costs\n",
    "part3(prefcosts)"
   ]
  },
  {
   "cell_type": "markdown",
   "metadata": {},
   "source": [
    "Now, let's see a solution where the number of students receiving their fifth choice is minimized. In the cell below, modify the cost of edges from a student to their fifth-choice class to achieve this objective, then run it and see what you get! \n",
    "\n",
    "(As a sanity check, you should find that only 15 students receive their fifth choice.)"
   ]
  },
  {
   "cell_type": "code",
   "execution_count": 14,
   "metadata": {},
   "outputs": [
    {
     "name": "stdout",
     "output_type": "stream",
     "text": [
      "Unmatched students: 0\n"
     ]
    },
    {
     "data": {
      "image/png": "[encoded data removed]",
      "text/plain": [
       "<Figure size 432x288 with 1 Axes>"
      ]
     },
     "metadata": {
      "needs_background": "light"
     },
     "output_type": "display_data"
    },
    {
     "name": "stdout",
     "output_type": "stream",
     "text": [
      "1 : 53.22 %\n",
      "2 : 23.11 %\n",
      "3 : 13.31 %\n",
      "4 : 7.28 %\n",
      "5 : 3.08 %\n"
     ]
    }
   ],
   "source": [
    "# Define new edge costs here\n",
    "prefcosts = {1:1,\n",
    "             2:2,\n",
    "             3:3,\n",
    "             4:4,\n",
    "             5:5 # change this value\n",
    "            }\n",
    "\n",
    "# Run the model with the new edge costs\n",
    "part3(prefcosts)"
   ]
  },
  {
   "cell_type": "markdown",
   "metadata": {},
   "source": [
    "**Q17:** Compare these two solutions (maximizing first choice versus minimizing fifth choice). If you had to present one of these solutions to the FWS assignment committee, which would you present? Give a reason for your choice.\n",
    "\n",
    "**A:** <font color='blue'>Answers may vary, but one justification for the second solution is that it is monotonically decreasing, i.e, the number of students receiving their first choice is greater than the number of students receiving their second choice, which is greater than the number of students receiving their third choice, etc. Additionally, the second solution has a lesser (meaning better) mean preference received.</font>"
   ]
  },
  {
   "cell_type": "markdown",
   "metadata": {},
   "source": [
    "What if we wanted to combine these approaches? For example, we could first maximize the number of students receiving their first preference, then maximize the number of students receiving their second preference, and so on. Or, we could first minimize the number of students receiving their fifth choice, then minimize the number of students receiving their fourth choice, etc. In both cases, there exists a notion of \"ranking\" or \"prioritizing\" different objectives.\n",
    "\n",
    "How can we encode a ranking of importance among our different objectives? We'll use weights of different orders of magnitude.\n",
    "\n",
    "For example, suppose we have two objective functions, $f_{1}$ and $f_{2}$. We'd like to first minimize $f_{1}$, and then minimize $f_{2}$. If we were to write out an expression such as $min\\:f_{1} + f_{2}$, then decreasing either $f_{1}$ or $f_{2}$ by some amount $\\delta$ would have the same effect; in essence, $f_{1}$ and $f_{2}$ have \"equal priority.\"\n",
    "\n",
    "However, if instead we write $min\\:10f_{1} + f_{2}$, then decreasing $f_{1}$ by $\\delta$ has 10 times the effect on lowering the cost of the solution as decreasing $f_{2}$ by the same amount&mdash;so minimizing $f_{1}$ has \"greater priority\" than minimizing $f_{2}$. \n",
    "\n",
    "We can apply similar reasoning to our problem; in fact, we already have! Take another look at our objective function:\n",
    "\n",
    "$min\\:\\sum_{(i,j) \\in A} c(i,j)x(i,j) = min\\:\\sum_{k=1}^{5} ($edge cost of preference $k)($number of students assigned preference $k)$<br>$= min\\:c_1 f_{1} + c_2 f_{2} + c_3 f_{3} + c_4 f_{4} + c_5 f_{5}$\n",
    "\n",
    "Our costs $c_k$ for each edge type $k$, enumerated in <code>prefcosts</code>, specify the \"weights\" (or \"priorities\") of each function $f_k$ in our overall objective function. For instance, specifying costs $c_k = k, k \\in \\{1,..,5\\}$, prioritizes minimizing $f_{5}$ before minimizing $f_{1}$. "
   ]
  },
  {
   "cell_type": "markdown",
   "metadata": {},
   "source": [
    "Let's utilize this knowledge to implement the second approach outlined above.\n",
    "\n",
    "Run the following cell, which uses weights of different orders of magnitude to effectively \"rank\" our objectives in order of importance: first (most importantly), we minimize the number of fifth preferences assigned, second (most importantly), we minimize the number of fourth preferences assigned, and so forth until our least important objective, minimizing the number of first preferences."
   ]
  },
  {
   "cell_type": "code",
   "execution_count": 15,
   "metadata": {},
   "outputs": [
    {
     "name": "stdout",
     "output_type": "stream",
     "text": [
      "Unmatched students: 0\n"
     ]
    },
    {
     "data": {
      "image/png": "[encoded data removed]",
      "text/plain": [
       "<Figure size 432x288 with 1 Axes>"
      ]
     },
     "metadata": {
      "needs_background": "light"
     },
     "output_type": "display_data"
    },
    {
     "name": "stdout",
     "output_type": "stream",
     "text": [
      "1 : 41.75 %\n",
      "2 : 31.46 %\n",
      "3 : 18.3 %\n",
      "4 : 7.97 %\n",
      "5 : 0.52 %\n"
     ]
    }
   ],
   "source": [
    "# Define new edge costs here\n",
    "prefcosts = {1:0,\n",
    "             2:10,\n",
    "             3:100,\n",
    "             4:1000,\n",
    "             5:10000}\n",
    "\n",
    "# Run the model with the new edge costs\n",
    "part3(prefcosts)"
   ]
  },
  {
   "cell_type": "markdown",
   "metadata": {},
   "source": [
    "As we've seen, there are a plethora of solutions to the FWS assignment problem! Choosing just one depends on how you define the \"best\" solution. \n",
    "\n",
    "The Knight Institute decided on the following criteria in determining the optimal solution:<br>\n",
    "First, the number of fifth, and then fourth, preferences should be minimized.<br>\n",
    "After that, the number of first, second, and then third preferences should be maximized.\n",
    "\n",
    "Below, try to implement these specifications, using weights with different orders of magnitude for each successive objective. (Hint: minimizing a negative expression is the same as maximizing that expression!)"
   ]
  },
  {
   "cell_type": "code",
   "execution_count": 16,
   "metadata": {},
   "outputs": [
    {
     "name": "stdout",
     "output_type": "stream",
     "text": [
      "Unmatched students: 0\n"
     ]
    },
    {
     "data": {
      "image/png": "[encoded data removed]",
      "text/plain": [
       "<Figure size 432x288 with 1 Axes>"
      ]
     },
     "metadata": {
      "needs_background": "light"
     },
     "output_type": "display_data"
    },
    {
     "name": "stdout",
     "output_type": "stream",
     "text": [
      "1 : 47.26 %\n",
      "2 : 21.07 %\n",
      "3 : 23.18 %\n",
      "4 : 7.97 %\n",
      "5 : 0.52 %\n"
     ]
    }
   ],
   "source": [
    "# TODO: Fill in the missing edge costs to achieve the desired objectives\n",
    "# prefcosts = {1:XXX, 2:XXX, 3:0, 4:XXX, 5:10000}\n",
    "\n",
    "### BEGIN SOLUTION\n",
    "prefcosts = {1:-100, 2:-10, 3:0, 4:1000, 5:10000}\n",
    "### END SOLUTION\n",
    "\n",
    "# Run the model with the new edge costs\n",
    "part3(prefcosts)"
   ]
  },
  {
   "cell_type": "markdown",
   "metadata": {},
   "source": [
    "**Q22:** Compare this solution to the previous solutions. Do you think the Knight Institute made the right decision? How would you have done it differently?\n",
    "\n",
    "**A:** <font color='blue'>Answers may vary.</font>"
   ]
  },
  {
   "cell_type": "markdown",
   "metadata": {},
   "source": [
    "# Messing with Integrality (TESTING)"
   ]
  },
  {
   "cell_type": "code",
   "execution_count": 17,
   "metadata": {},
   "outputs": [],
   "source": [
    "# A modified FWS assignment model, which incorporates minimum class size and the option of not running class sections\n",
    "\n",
    "# INPUTS:\n",
    "# students: a list of students\n",
    "# classes: a list of classes\n",
    "# edges: a dictionary of edge costs\n",
    "# minstudents: minimum number of students per class section\n",
    "# csize: maximum number of students per class section\n",
    "# solver: the solver to be used\n",
    "# integer: Boolean value, whether or not decision variables are constrained to integer values (default: True)\n",
    "def integralityAssign(students, classes, edges, minstudents, csize, solver, integer=True):\n",
    "    STUDENT = students              # create student list\n",
    "    CLASS = classes                 # create class list\n",
    "    EDGES = list(edges.keys())      # create edge list    \n",
    "    \n",
    "    c = edges.copy()                # define c[i,j]\n",
    "    \n",
    "    # define model\n",
    "    m = OR.Solver('assignFWS', solver)\n",
    "    \n",
    "    # decision variables\n",
    "    x = {}    \n",
    "    for i,j in EDGES:\n",
    "        # define x(i,j) here\n",
    "        if integer:\n",
    "            x[i,j] = m.IntVar(0, m.infinity(), ('(%d, %s)' % (i,j))) \n",
    "        else:\n",
    "            x[i,j] = m.NumVar(0, m.infinity(), ('(%d, %s)' % (i,j))) \n",
    "            \n",
    "    y = {}\n",
    "    for j in CLASS:\n",
    "        # define y_j here\n",
    "        y[j] = m.BoolVar('y_%s' % j) # A BoolVar or Boolean variable is similar to an integer variable,\n",
    "                                     # except that it can only take on values in {0,1}, where 0 represents \"false\"\n",
    "                                     # and 1 represents \"true.\" We could have also used an IntVar ranging from 0 to 1.\n",
    "               \n",
    "    # define objective function here\n",
    "    m.Minimize(sum(c[i,j]*x[i,j] for i,j in EDGES))\n",
    "       \n",
    "    # add constraint to ensure each student is assigned exactly one class\n",
    "    for k in students:\n",
    "        m.Add(sum(x[i,j] for i,j in EDGES if i==k) == 1)\n",
    "        \n",
    "    # add constraint to ensure each class that runs satisfies minimum and maximum class size\n",
    "    for k in classes:\n",
    "        m.Add(sum(x[i,j] for i,j in EDGES if j==k) <= csize*y[k])\n",
    "        m.Add(sum(x[i,j] for i,j in EDGES if j==k) >= minstudents*y[k])\n",
    "    \n",
    "    # solve\n",
    "    status = m.Solve()\n",
    "    \n",
    "    if status == OR.Solver.INFEASIBLE:\n",
    "        print('Infeasible')\n",
    "        return\n",
    " \n",
    "    # test for non-integer values\n",
    "    for i,j in EDGES:\n",
    "        if x[i,j].solution_value() > 0.0 and x[i,j].solution_value() < 1.0:\n",
    "            print(x[i,j].solution_value())\n",
    "            \n",
    "    unmatched = []\n",
    "    for k in STUDENT:\n",
    "        if (sum(x[i,j].solution_value() for i,j in EDGES if i==k) == 0):\n",
    "            unmatched.append(k)\n",
    "    print(\"Unmatched students:\", len(unmatched))\n",
    "    \n",
    "    matched = {}\n",
    "    for i,j in EDGES:\n",
    "        if x[i,j].solution_value() == 1:\n",
    "            if c[i,j] in matched:\n",
    "                matched[c[i,j]] += 1\n",
    "            else:\n",
    "                matched.update({c[i,j] : 1})\n",
    "    \n",
    "    return matched\n",
    "\n",
    "def part4(prefcosts,integral):\n",
    "    # Get the updated edge : cost dictionary\n",
    "    newedges = updated_edge_costs(edges,prefcosts)\n",
    "\n",
    "    # Assign students based on these new edge costs\n",
    "    test_sol = integralityAssign(students, classes, newedges, 6, 16, OR.Solver.CBC_MIXED_INTEGER_PROGRAMMING,integer=integral)\n",
    "\n",
    "    # Format results\n",
    "    new_costs_to_prefs = dict(zip(list(newedges.values())[:5],list(range(1,6))))\n",
    "\n",
    "    prefs_to_nums = {}\n",
    "    for key in test_sol.keys():\n",
    "        prefs_to_nums[new_costs_to_prefs[key]] = test_sol[key]   \n",
    "    \n",
    "    # Print results\n",
    "    print('Preferences received:')\n",
    "    for i in sorted(prefs_to_nums):\n",
    "        print('%1s: %1s' % (i,prefs_to_nums[i]))      "
   ]
  },
  {
   "cell_type": "code",
   "execution_count": 18,
   "metadata": {},
   "outputs": [
    {
     "name": "stdout",
     "output_type": "stream",
     "text": [
      "Unmatched students: 0\n",
      "Preferences received:\n",
      "1: 1665\n",
      "2: 425\n",
      "3: 256\n",
      "4: 293\n",
      "5: 168\n"
     ]
    }
   ],
   "source": [
    "#prefcosts = {1:1, 2:2, 3:3, 4:4, 5:5}\n",
    "prefcosts = {1:-0.453, 2:2.568, 3:3.997, 4:4.120, 5:5.04}\n",
    "part4(prefcosts,False)\n"
   ]
  },
  {
   "cell_type": "code",
   "execution_count": null,
   "metadata": {},
   "outputs": [],
   "source": []
  }
 ],
 "metadata": {
  "kernelspec": {
   "display_name": "Python 3",
   "language": "python",
   "name": "python3"
  },
  "language_info": {
   "codemirror_mode": {
    "name": "ipython",
    "version": 3
   },
   "file_extension": ".py",
   "mimetype": "text/x-python",
   "name": "python",
   "nbconvert_exporter": "python",
   "pygments_lexer": "ipython3",
   "version": "3.7.10"
  }
 },
 "nbformat": 4,
 "nbformat_minor": 2
}
