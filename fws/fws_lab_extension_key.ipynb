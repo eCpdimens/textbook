{
 "cells": [
  {
   "cell_type": "markdown",
   "metadata": {},
   "source": [
    "# First-Year Writing Seminars: Extension\n",
    "\n",
    "**Objectives:**\n",
    "* Formulate a new approach to the FWS assignment problem using ideas from min-cost flow.\n",
    "* See how adding and changing constraints and the objective function affects the solution.\n",
    "* #TODO: clean this up\n",
    "\n",
    "**Key Ideas:**\n",
    "* integrality property\n",
    "* the min-cost flow problem\n",
    "* the transportation problem\n",
    "* the assignment problem\n",
    "\n",
    "**Reading Assignment:**\n",
    "* Read Handout 7.5 on the min-cost flow problem.\n",
    "\n",
    "**Brief description:** #TODO"
   ]
  },
  {
   "cell_type": "code",
   "execution_count": 7,
   "metadata": {},
   "outputs": [],
   "source": [
    "# imports -- don't forget to run this cell!\n",
    "import numpy as np\n",
    "import pandas as pd\n",
    "import math, itertools\n",
    "import matplotlib.pyplot as plt\n",
    "import networkx as nx\n",
    "from networkx.algorithms import bipartite\n",
    "from ortools.linear_solver import pywraplp as OR\n",
    "from ortools.graph import pywrapgraph as ORMC\n",
    "from networkx.algorithms.flow import min_cost_flow"
   ]
  },
  {
   "cell_type": "markdown",
   "metadata": {},
   "source": [
    "# Part 1: Min-Cost Flow Formulation"
   ]
  },
  {
   "cell_type": "markdown",
   "metadata": {},
   "source": [
    "**Review** \n",
    "\n",
    "Recall the min-cost flow problem. It takes as input\n",
    "* A directed graph $G = (V,A)$,\n",
    "* costs $c(i,j)$ for shipping one unit of good from node $i$ to node $j$ for each arc $(i,j) \\in A$,\n",
    "* capacities $u(i,j)$ for each arc $(i,j) \\in A$,\n",
    "* supply values $b(i)$ for each node $i \\in V$, such that $\\sum_{i \\in V} b(i) = 0$.\n",
    "\n",
    "Remember also that at each node $i$, our supply value $b(i)$ is greater than 0 if there is supply at node $i$, less than 0 if there is demand at node $i$, and equal to 0 if there is neither supply nor demand at node $i$ (i.e., node $i$ is a transit node). Using shortest-path terminology, supply nodes are \"sources,\" demand nodes are \"sinks,\" and transit nodes are interior nodes.\n",
    "\n",
    "Our goal is to find a feasible flow that satisfies both flow-capacity constraints and flow-conservation constraints; that is, we wish to find a flow $f(i,j)$ on all arcs such that $0 \\leq f(i,j) \\leq u(i,j)$ for every arc $(i,j) \\in A$ and $\\sum_{(i,j) \\in A} f(i,j) - \\sum_{(j,i) \\in A} f(j,i) = b(i)$ for every node $i \\in V$.\n",
    "\n",
    "The objective value of a feasible solution is given by $\\sum_{(i,j) \\in A} c(i,j)*f(i,j)$. We'd like to minimize this cost function--in other words, find a \"min-cost\" flow.\n",
    "\n"
   ]
  },
  {
   "cell_type": "markdown",
   "metadata": {},
   "source": [
    "\\#(The above was taken/adapted from Handout 7.5 and the min-cost flow lab.)"
   ]
  },
  {
   "cell_type": "markdown",
   "metadata": {},
   "source": [
    "**Formulating the model**\n",
    "\n",
    "In Handout 7.5, we learned that the transportation problem is really just a specific case of the min-cost flow problem. Let's use this fact, along with the transportation model we've already created in the FWS lab, to formulate a min-cost flow model."
   ]
  },
  {
   "cell_type": "markdown",
   "metadata": {},
   "source": [
    "Nodes for the students and classes, as well as the special 'dummy' supply node, remain the same as before, as do our arcs and edge costs (which we'll experiment with later). All we need to do is define the capacities and supply values, and we'll be all set!"
   ]
  },
  {
   "cell_type": "markdown",
   "metadata": {},
   "source": [
    "**Q1:** What should the capacity $u(i,j)$ on each arc $(i,j)$ be?\n",
    "\n",
    "**A:** <font color='blue'>1</font>"
   ]
  },
  {
   "cell_type": "markdown",
   "metadata": {},
   "source": [
    "**Q2:** We also need to define the capacity $u(dummy,j)$ on each arc leaving the 'dummy' node to a class node. We could set it to infinity, since there are an infinite number of \"dummy students\" we could assign to each class. Can you find a better upper bound? (Hint: we cannot have more than 16 students in a class)\n",
    "\n",
    "**A:** <font color='blue'> Yes; set $u(dummy,j) = 16$. More generally, we set $u(dummy,j) = $ (max number of 'real' students) $ - $ (min number of 'real' students), or (in this case) $16 - 0 = 16$.</font>"
   ]
  },
  {
   "cell_type": "markdown",
   "metadata": {},
   "source": [
    "Now, let's define our supply values $b(i)$."
   ]
  },
  {
   "cell_type": "markdown",
   "metadata": {},
   "source": [
    "**Q3:** For a student node $i$, what should the supply value $b(i)$ be?\n",
    "\n",
    "**A:** <font color='blue'>1</font>"
   ]
  },
  {
   "cell_type": "markdown",
   "metadata": {},
   "source": [
    "**Q4:** For a class node $j$, what should the supply value $b(j)$ be? (Remember that if there is demand at a node $k$, then $b(k) < 0$.)\n",
    "\n",
    "**A:** <font color='blue'>-16</font>"
   ]
  },
  {
   "cell_type": "markdown",
   "metadata": {},
   "source": [
    "Once again, we must account for our dummy supply node. Recall that for a min-cost flow input to be valid, the \"net supply/demand\" summed up over all nodes should be equal to 0:  $\\sum_{i \\in V} b(i) = 0$. \n",
    "\n",
    "Suppose we have $m$ students selecting from $n$ classes, each of which can have up to 16 students. "
   ]
  },
  {
   "cell_type": "markdown",
   "metadata": {},
   "source": [
    "**Q5:** Using this information, what should the supply value $b(dummy)$ be?\n",
    "\n",
    "**A:** <font color='blue'>To satisfy our input condition $\\sum_{i \\in V} b(i) = 0$, we must have $\\sum_{students,i} b(i)$ + $\\sum_{classes,j} b(j)$ + $b(dummy) = 0$. Thus $m(1) - n(16) + b(dummy) = 0$, which gives $b(dummy) = 16n - m$.</font>"
   ]
  },
  {
   "cell_type": "markdown",
   "metadata": {},
   "source": [
    "This should make sense intuitively; essentially, we are saying that after every student has been assigned a class, whatever spots are left over should be filled by our \"fake students.\" (Of course, we assume there are enough spots for every real student!)"
   ]
  },
  {
   "cell_type": "markdown",
   "metadata": {},
   "source": [
    "Let's take a look at our formulation in Python."
   ]
  },
  {
   "cell_type": "markdown",
   "metadata": {},
   "source": [
    "\\#TODO: Should I show the code implementation? It's less straightforward than what students have seen from ORTools (not an LP/IP formulation, but rather constructing a graph)"
   ]
  },
  {
   "cell_type": "code",
   "execution_count": 2,
   "metadata": {},
   "outputs": [
    {
     "name": "stdout",
     "output_type": "stream",
     "text": [
      "10\n",
      "Success\n",
      "Minimum cost: 5432\n",
      "\n",
      "Student cost: 5343\n",
      "Preferences received:\n",
      "1: 1525\n",
      "2: 668\n",
      "3: 384\n",
      "4: 215\n",
      "5: 94\n"
     ]
    }
   ],
   "source": [
    "# ORTools formulation\n",
    "from fws_lab_ex import mincostflow\n",
    "mincostflow()\n",
    "\n",
    "#TODO: figure out why optimal solution here differs from FWS lab optimal sol'n\n",
    "#      Has something to do with dummy edge costs not working properly, not sure why that is\n",
    "\n",
    "#from fws_lab_ex import mincostflow2\n",
    "#mincostflow2()"
   ]
  },
  {
   "cell_type": "markdown",
   "metadata": {},
   "source": [
    "Success! If everything ran properly, you should now have a working min-cost flow formulation for the FWS assignment problem. As we'll see, thinking in terms of flows can be helpful when working with different constraints."
   ]
  },
  {
   "cell_type": "markdown",
   "metadata": {},
   "source": [
    "You may have noticed that our formulation is fairly simple in terms of its assumptions. For example, based off your answer to **Q2**, a feasible (though expensive) solution might involve assigning 16 fake 'filler' students to a section! It's also easy to imagine our model assigning just 1 or 2 \"real\" students to a less interesting section that doesn't rank as high on people's preferences.\n",
    "\n",
    "The Knight Institute wants students to take full advantage of the diversity of FWS classes offered, so they decide to implement a new rule: now, each section must have a minimum of 6 students enrolled, but no more than 16 (as before). "
   ]
  },
  {
   "cell_type": "markdown",
   "metadata": {},
   "source": [
    "**Q6:** How can we account for this \"minimum class size constraint\" in our model? (Hint: take a look at **Q2**)\n",
    "\n",
    "**A:** <font color='blue'>(taken from answer to Q2) Set $u(dummy,j) = $ (max class size) $ - $ (min class size), or (in this case) $16 - 6 = 10$.</font>"
   ]
  },
  {
   "cell_type": "markdown",
   "metadata": {},
   "source": [
    "It turns out that our Python function can take as input a parameter called 'minstudents' that specifies the minimum number of \"real\" students assigned to each class section. (The code basically does what you did in **Q6**.)"
   ]
  },
  {
   "cell_type": "code",
   "execution_count": 7,
   "metadata": {},
   "outputs": [
    {
     "name": "stdout",
     "output_type": "stream",
     "text": [
      "Success\n",
      "Minimum cost: 5432\n",
      "\n",
      "Student cost: 5343\n",
      "Preferences received:\n",
      "1: 1525\n",
      "2: 668\n",
      "3: 384\n",
      "4: 215\n",
      "5: 94\n"
     ]
    }
   ],
   "source": [
    "mincostflow(minstudents=0)"
   ]
  },
  {
   "cell_type": "markdown",
   "metadata": {},
   "source": [
    "**Q7:** Play around with different values for the 'minstudents' parameter and see what outputs you get. What do you observe?\n",
    "\n",
    "**A:** <font color='blue'>Answers may vary. Should see that a feasible flow exists for values of minstudents from 0 to 10, and the input becomes infeasible for values of minstudents from 11 to 16.</font>"
   ]
  },
  {
   "cell_type": "markdown",
   "metadata": {},
   "source": [
    "Run the following cell, which outputs the least popular class (or classes) among students' preferences. (Define \"least popular\" as appearing the least on students' list of preferences.) If you'd like, read the comments alongside each line of code to understand what the function does."
   ]
  },
  {
   "cell_type": "code",
   "execution_count": 11,
   "metadata": {},
   "outputs": [
    {
     "name": "stdout",
     "output_type": "stream",
     "text": [
      "The class (or classes) with the least students interested is [130].\n",
      "Only 10 students put this class as one of their top 5 preferences.\n"
     ]
    }
   ],
   "source": [
    "def leastpopular(dataset='f09_fws_ballots.csv'):\n",
    "    data = pd.read_csv(dataset) # reads in the dataset\n",
    "    \n",
    "    a = np.array(data[['1','2','3','4','5']].values) # creates a list of all the class preferences students put\n",
    "    unique, counts = np.unique(a, return_counts=True) # counts how many of each class number appears on the preference list\n",
    "    classlist = dict(zip(unique, counts)) # creates a dictionary of class number : number of preferences\n",
    "    \n",
    "    least_students = min(classlist.values()) # finds the minimum number of preferences in the dictionary\n",
    "    res = [c for c in classlist if classlist[c] == least_students] # finds class number corresponding to min number of prefs.\n",
    "    \n",
    "    print('The class (or classes) with the least students interested is ' + str(res) + '.')\n",
    "    print('Only ' + str(least_students) + ' students put this class as one of their top 5 preferences.') # prints results \n",
    "    \n",
    "leastpopular()"
   ]
  },
  {
   "cell_type": "markdown",
   "metadata": {},
   "source": [
    "**Q8:** Does this output make sense based on what you observed in **Q7**? Explain.\n",
    "\n",
    "**A:** <font color='blue'>The function output states that the class with the minimum number of students putting it as a preference has only 10 students interested. Thus a maximum of 10 \"real\" students will be assigned this class--so if we set 'minstudents' higher than 10, there aren't enough students interested to satisfy the minimum class size constraint, and the mincostflow function returns 'Infeasible'.</font>"
   ]
  },
  {
   "cell_type": "markdown",
   "metadata": {},
   "source": [
    "# Part 2: Improving Our Integer Program"
   ]
  },
  {
   "cell_type": "markdown",
   "metadata": {},
   "source": []
  },
  {
   "cell_type": "code",
   "execution_count": null,
   "metadata": {},
   "outputs": [],
   "source": [
    "# An FWS assignment model\n",
    "\n",
    "# INPUTS:\n",
    "# students: a list of students\n",
    "# classes: a list of classes\n",
    "# edges: a dictionary of edge costs\n",
    "# csize: the class capacity \n",
    "# dcost: the cost of not assigning a student to one of their top 5 picks\n",
    "def Assign(students, classes, edges, csize, dcost, solver):\n",
    "    STUDENT = students + ['dummy']  # create student list add dummy node \n",
    "    CLASS = classes                 # create class list\n",
    "    EDGES = list(edges.keys())      # create edge list\n",
    "    \n",
    "    newedges = list(itertools.product([0], CLASS))\n",
    "    EDGES.extend(newedges)          # add dummy edges\n",
    "    \n",
    "    c = edges.copy()                # define c[i,j]\n",
    "    for edge in newedges:\n",
    "        c.update({edge : dcost})    # add c[i,dummy] costs\n",
    "    \n",
    "    # define model\n",
    "    m = OR.Solver('assignFWS', solver)\n",
    "    \n",
    "    # decision variables\n",
    "    x = {}    \n",
    "    for i,j in EDGES:\n",
    "        # define x(i,j) here\n",
    "        x[i,j] = m.IntVar(0, m.infinity(), ('(%d, %s)' % (i,j))) \n",
    "        \n",
    "    # define objective function here\n",
    "    m.Minimize(sum(c[i,j]*x[i,j] for i,j in EDGES))\n",
    "       \n",
    "    # add constraint to ensure each student (not including the dummy) is assigned at most one class\n",
    "    for k in students:\n",
    "        if k != 'dummy':\n",
    "            m.Add(sum(x[i,j] for i,j in EDGES if i==k) <= 1)\n",
    "        \n",
    "    # add constraint to ensure each class is full\n",
    "    # HINT: Mimic the constraint code above \n",
    "    # ADD YOUR CODE HERE\n",
    "    for k in classes:\n",
    "        m.Add(sum(x[i,j] for i,j in EDGES if j==k) == csize)\n",
    "    \n",
    "    m.Solve()\n",
    "    # print(m.Objective().Value())\n",
    "    \n",
    "    unmatched = []\n",
    "    for k in STUDENT:\n",
    "        if (sum(x[i,j].solution_value() for i,j in EDGES if i==k) == 0) and (k!='dummy'):\n",
    "            unmatched.append(k)\n",
    "    print(\"Unmatched students:\", len(unmatched))\n",
    "    \n",
    "    matched = {}\n",
    "    for i,j in EDGES:\n",
    "        if x[i,j].solution_value() == 1:\n",
    "            if c[i,j] in matched:\n",
    "                matched[c[i,j]] += 1\n",
    "            else:\n",
    "                matched.update({c[i,j] : 1})\n",
    "    if dcost in matched.keys():\n",
    "        del matched[dcost]\n",
    "    \n",
    "    return matched"
   ]
  },
  {
   "cell_type": "code",
   "execution_count": null,
   "metadata": {},
   "outputs": [],
   "source": [
    "# read in the dataset\n",
    "\n",
    "# 2886 students, 183 class sections\n",
    "data = pd.read_csv('f09_fws_ballots.csv')\n",
    "data.head()    # preview"
   ]
  },
  {
   "cell_type": "code",
   "execution_count": null,
   "metadata": {},
   "outputs": [],
   "source": [
    "# solve the instance\n",
    "\n",
    "from fws_lab import inputData\n",
    "students, classes, edges = inputData('f09_fws_ballots.csv')\n",
    "data_sol = Assign(students, classes, edges, 16, 100000, OR.Solver.CBC_MIXED_INTEGER_PROGRAMMING)\n",
    "print(data_sol)"
   ]
  },
  {
   "cell_type": "markdown",
   "metadata": {},
   "source": [
    "### Miscellaneous Stuff"
   ]
  },
  {
   "cell_type": "markdown",
   "metadata": {},
   "source": [
    "Taking a look back at the FWS lab, we found a solution which matched every student to a class section:"
   ]
  },
  {
   "cell_type": "markdown",
   "metadata": {},
   "source": [
    "Unmatched students: 0<br>\n",
    "{1: 1532, 4: 208, 2: 673, 3: 384, 5: 89}"
   ]
  },
  {
   "cell_type": "markdown",
   "metadata": {},
   "source": [
    "**Q(???):** In formulating the input, we set the dummy edge costs to be an arbitrarily large number (100,000). Behind the scenes, we assumed the cost of a student receiving their $k$th preference was $k$; that is, a student receiving their top choice cost 1, second choice cost 2, and so on. Using this information, what should be the objective value of our solution? (Remember that there are 2886 students and 183 class sections, each with 16 students.)\n",
    "\n",
    "**A:** <font color='blue'>This question plays off of Q5. We know that all 2886 students have been assigned a class section, and the total class capacity is $183 * 16 = 2928$. Thus there are $2928 - 2886 = 42$ dummy students. Then the objective value is just the summation of the number of each \"type\" of edge used times its edge cost: $1532(1) + 673(2) + 384(3) + 208(4) + 89(5) + 42(100000) = 4,205,307$.</font>"
   ]
  },
  {
   "cell_type": "markdown",
   "metadata": {},
   "source": [
    "To verify your solution is correct, you can add the following line to the Assign method on the line after m.Solve():<br>\n",
    "print(m.Objective().Value())<br>\n",
    "Then re-run the notebook to check your answer."
   ]
  },
  {
   "cell_type": "code",
   "execution_count": null,
   "metadata": {},
   "outputs": [],
   "source": []
  }
 ],
 "metadata": {
  "kernelspec": {
   "display_name": "Python 3",
   "language": "python",
   "name": "python3"
  },
  "language_info": {
   "codemirror_mode": {
    "name": "ipython",
    "version": 3
   },
   "file_extension": ".py",
   "mimetype": "text/x-python",
   "name": "python",
   "nbconvert_exporter": "python",
   "pygments_lexer": "ipython3",
   "version": "3.7.10"
  }
 },
 "nbformat": 4,
 "nbformat_minor": 2
}
