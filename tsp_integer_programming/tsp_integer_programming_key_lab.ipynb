{
 "cells": [
  {
   "cell_type": "markdown",
   "metadata": {},
   "source": [
    "# TSP and Integer Programming\n",
    "Based on Lab 10 of ENGRI 1101 Fall 2019\n",
    "\n",
    "<font color='red'> **Comments in red** </font>\n",
    "\n",
    "<font color='blue'> **Solutions in blue** </font>"
   ]
  },
  {
   "cell_type": "markdown",
   "metadata": {},
   "source": [
    "**Objectives:**\n",
    "- Introduce the students to an integer programming formulation of the traveling salesman problem\n",
    "- Demonstrate the use of the simplex method to solve two linear relaxations of the traveling salesman problem\n",
    "- Give students an appreciation of the difficulty of solving optimization problems exactly\n",
    "- Practice using branch and bound to solve integer programs"
   ]
  },
  {
   "cell_type": "markdown",
   "metadata": {},
   "source": [
    "**Reading assignment:**\n",
    "- Handout 7 on Integer Programming and the Traveling Salesman Problem; lecture 19 handout on Branch and Bound by example."
   ]
  },
  {
   "cell_type": "markdown",
   "metadata": {},
   "source": [
    "If one is to solve a minimization Integer Program, having lower bounds can help considerably. One way to get a lower bound is to use an LP relaxation of the problem. For the TSP, we first construct a correct integer programming formulation of the problem (see, e.g., the prelab formulation), and then obtain the LP relaxation by dropping the integrality constraints."
   ]
  },
  {
   "cell_type": "markdown",
   "metadata": {},
   "source": [
    "**Q1:** Why does the optimal solution to the LP relaxation provide a lower bound on the optimal solution to the TSP?\n",
    "\n",
    "**A:** <font color='blue'> The optimal solution to the LP relaxation provides a lower bound because the IP is the same problem except with an added constraint (integrality) which can only remove feasible solutions. Hence, the optimal solution can only decrease.</font>"
   ]
  },
  {
   "cell_type": "markdown",
   "metadata": {},
   "source": [
    "Using an LP relaxation is not the only possible way of getting a lower bound for a problem. For example, another lower bound for the TSP is the cost of the minimum spanning tree on the same graph. Complete the following argument that this is the case: If you start with a tour, and delete one edge, the remaining graph is connected, i.e., there is a path between any two nodes in the graph."
   ]
  },
  {
   "cell_type": "markdown",
   "metadata": {},
   "source": [
    "**Q2:** Why does this imply that the cost of a minimum spanning tree is a lower bound on the cost of an optimal tour?\n",
    "\n",
    "**A:** <font color='blue'> Consider an arbitrary tour of the nodes. If we remove one edge, we are left with a spanning tree. By definition, this spanning tree must cost the same or more than the minimum spanning tree. Furthermore, the tour must cost more than this spanning tree since it has that additional edge. Hence, any tour must have cost no less than the cost of the minimum spanning tree. </font>"
   ]
  },
  {
   "cell_type": "markdown",
   "metadata": {},
   "source": [
    "In the prelab, you were asked to show that the minimum cost of a fractional 2-matching is a lower bound on the optimal tour length. Now consider an instance of the TSP on 6 nodes, where the distance between node $i$ and $j$ are given by the ($i,j$)-th entry in the following matrix.\n",
    "\n",
    "|   |   |   |   |   |   |\n",
    "|---|---|---|---|---|---|\n",
    "| - | 1 | 1 | 5 | 6 | 6 |\n",
    "| 1 | - | 1 | 6 | 5 | 6 |\n",
    "| 1 | 1 | - | 6 | 6 | 5 |\n",
    "| 5 | 6 | 6 | - | 1 | 1 |\n",
    "| 6 | 5 | 6 | 1 | - | 1 |\n",
    "| 6 | 6 | 5 | 1 | 1 | - |\n",
    "\n",
    "We can also depict this instance graphically as follows:\n",
    "\n",
    "![title](graph1.png)\n",
    "\n",
    "The distance or cost of traveling between node i and j corresponds to the shortest path from $i$ to $j$ in the graph above. For example $c_{16} = 6$ and the shortest route between nodes 1 and 6 is of length 6: 1 → 4 → 6."
   ]
  },
  {
   "cell_type": "markdown",
   "metadata": {},
   "source": [
    "First, let’s consider the lower bound that we get from calculating an optimal solution to the Minimum Spanning Tree Problem for this graph. Note that there we do not have to consider the edges that are not drawn in the graph. "
   ]
  },
  {
   "cell_type": "markdown",
   "metadata": {},
   "source": [
    "**Q3:** Draw an optimal solution for the Minimum Spanning Tree Problem for the instance, and give the length of the solution.\n",
    "\n",
    "**A:** <font color='blue'> The length of the optimal minimum spanning tree (not unique) is 9. </font>\n",
    "\n",
    "![title](graph1_mst.png)"
   ]
  },
  {
   "cell_type": "markdown",
   "metadata": {},
   "source": [
    "We will now generate a second lower bound for this instance by solving the fractional 2-matching LP that corresponds to this instance. To solve the corresponding 2-matching LP, we will use OR-Tools again. Note that there are no integrality constraints, so this is indeed an LP, i.e., the fractional 2-matching LP. Run the model cell."
   ]
  },
  {
   "cell_type": "code",
   "execution_count": null,
   "metadata": {},
   "outputs": [],
   "source": []
  },
  {
   "cell_type": "markdown",
   "metadata": {},
   "source": [
    "**Q4:** Report the results.\n",
    "\n",
    "**A:**"
   ]
  }
 ],
 "metadata": {
  "kernelspec": {
   "display_name": "Python 3",
   "language": "python",
   "name": "python3"
  },
  "language_info": {
   "codemirror_mode": {
    "name": "ipython",
    "version": 3
   },
   "file_extension": ".py",
   "mimetype": "text/x-python",
   "name": "python",
   "nbconvert_exporter": "python",
   "pygments_lexer": "ipython3",
   "version": "3.6.10"
  }
 },
 "nbformat": 4,
 "nbformat_minor": 4
}
