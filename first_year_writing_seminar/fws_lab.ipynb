{
 "cells": [
  {
   "cell_type": "markdown",
   "metadata": {},
   "source": [
    "# First-Year Writing Seminars\n",
    "\n",
    "**Objectives:**\n",
    "* Assign students to FWS sections so that they get one of their top 5 choices.\n",
    "* Improve assignments by making changes to our transportation formulation.\n",
    "\n",
    "**Key Ideas:**\n",
    "* integrality property\n",
    "* the transportation problem\n",
    "* the assignment problem\n",
    "\n",
    "**Brief description:** If you recall pre-enroll, there was a separate ballot you completed by listing your top 5 picks for FWS that semester. You were later notified which class you got placed into, probably hoping it was your first choice. By now, this should not seem like magic; problems like these often enlist help from Operations Research especially as the scale increases. Disclaimer: the following model is not actually used by Cornell."
   ]
  },
  {
   "cell_type": "code",
   "execution_count": null,
   "metadata": {},
   "outputs": [],
   "source": [
    "# imports -- make sure to run this cell\n",
    "import pandas as pd\n",
    "import math, itertools\n",
    "import matplotlib.pyplot as plt\n",
    "import networkx as nx\n",
    "from networkx.algorithms import bipartite\n",
    "from ortools.linear_solver import pywraplp as OR"
   ]
  },
  {
   "cell_type": "markdown",
   "metadata": {},
   "source": [
    "## Part 1: Brainstorming\n",
    "\n",
    "We want to *assign* a class to each student. This sounds like an assignment problem, which is a special case of the *transportation problem*. \n",
    "\n",
    "**Example 1**  \n",
    "The following table gives an instance with 7 students (1-7) and 4 classes (A-D). Each class has a capacity of 2 students. Column `1` gives the student's first preference and `2` gives their second preference."
   ]
  },
  {
   "cell_type": "code",
   "execution_count": null,
   "metadata": {},
   "outputs": [],
   "source": [
    "fws_7_students = pd.read_csv('data/fws_7_students.csv', index_col=0)\n",
    "display(fws_7_students)"
   ]
  },
  {
   "cell_type": "markdown",
   "metadata": {},
   "source": [
    "**Q1:** What are the supply nodes?  \n",
    "\n",
    "**A:**   "
   ]
  },
  {
   "cell_type": "markdown",
   "metadata": {},
   "source": [
    "**Q2:** What are the supply values of the supply nodes? (Hint: How many units can be transferred?)\n",
    "\n",
    "**A:**   "
   ]
  },
  {
   "cell_type": "markdown",
   "metadata": {},
   "source": [
    "**Q3:** What are the demand nodes?  \n",
    "\n",
    "**A:**   "
   ]
  },
  {
   "cell_type": "markdown",
   "metadata": {},
   "source": [
    "**Q4:** What are the demand values of the demand nodes? (Hint: How many units can be received?)\n",
    "\n",
    "**A:**   "
   ]
  },
  {
   "cell_type": "markdown",
   "metadata": {},
   "source": [
    "**Q5:** What does a directed edge from a supply node to a demand node indicate?  \n",
    "\n",
    "**A:** "
   ]
  },
  {
   "cell_type": "markdown",
   "metadata": {},
   "source": [
    "**Q6:** What are the edge costs?  \n",
    "\n",
    "**A:** "
   ]
  },
  {
   "cell_type": "markdown",
   "metadata": {},
   "source": [
    "**Q7:** Visualize your graph by completing the dictionary of edge costs. This will be used later as the input to the LP model."
   ]
  },
  {
   "cell_type": "code",
   "execution_count": null,
   "metadata": {},
   "outputs": [],
   "source": [
    "from fws_lab import ex1\n",
    "\n",
    "# TODO: Uncomment and complete the dictionary of edge costs\n",
    "# S = [1,2,3,4,5,6,7]\n",
    "# D = ['A','B','C','D']\n",
    "# E = {(1,'A'):1, \n",
    "#      (1,'B'):2, \n",
    "#      (2,'D'): , \n",
    "#      (2,'C'): , \n",
    "#      (3,'A'): , \n",
    "#      (3,'C'): , \n",
    "#      (4,'B'): , \n",
    "#      (4,'D'): , \n",
    "#      (5,'C'): , \n",
    "#      (5,'B'): , \n",
    "#      (6,'A'): , \n",
    "#      (6,'B'): , \n",
    "#      (7,'B'): , \n",
    "#      (7,'A'):  }\n",
    "\n",
    "\n",
    "\n",
    "ex1(S, D, E)"
   ]
  },
  {
   "cell_type": "markdown",
   "metadata": {},
   "source": [
    "To complete the simple model, we need to answer one more question.  "
   ]
  },
  {
   "cell_type": "markdown",
   "metadata": {},
   "source": [
    "**Q8:** The total demand is 8, but the current total supply is only 7. How can we make sure that demand is satisfied for there to be a feasible solution?  \n",
    "\n",
    "**A:**   "
   ]
  },
  {
   "cell_type": "markdown",
   "metadata": {},
   "source": [
    "**Q9:** Create a similar list of students, classes, and edge weights like the lists above but account for the dummy supply node (which is indexed as zero)."
   ]
  },
  {
   "cell_type": "code",
   "execution_count": null,
   "metadata": {},
   "outputs": [],
   "source": [
    "# TODO: Uncomment and complete the dictionary of edge costs\n",
    "# S_dummy = [1,2,3,4,5,6,7,0]\n",
    "# D_dummy = ['A','B','C','D']\n",
    "# E_dummy = {(1,'A'):1, (1,'B'):2, (2,'D'):1, (2,'C'):2, (3,'A'):1, (3,'C'):2, \n",
    "#            (4,'B'):1, (4,'D'):2, (5,'C'):1, (5,'B'):2, (6,'A'):1, (6,'B'):2, \n",
    "#            (7,'B'):1, (7,'A'):2, (0,'A'): XXX, (0,'B'): XXX, (0,'C'): XXX, (0,'D'): XXX}\n",
    "\n",
    "\n",
    "\n",
    "ex1(S_dummy, D_dummy, E_dummy)"
   ]
  },
  {
   "cell_type": "markdown",
   "metadata": {},
   "source": [
    "## Part 2: Solving\n",
    "\n",
    "Let's use OR-Tools to define our mathematical model. \n",
    "\n",
    "**Q10:** Complete the constraints in the cell below."
   ]
  },
  {
   "cell_type": "code",
   "execution_count": null,
   "metadata": {},
   "outputs": [],
   "source": [
    "def fws(preferences, capcity, penalty, integer = False):\n",
    "    \"\"\"A model for solving a first-year writing seminar assignment problem.\n",
    "    \n",
    "    Args:\n",
    "        preferences (pd.DataFrame): Preferred classes for each student.\n",
    "        capcity (int): Capacity of the classroom.\n",
    "        penalty (float): Penalty for not assigning a student to one of their top 5 picks.\n",
    "    \"\"\"\n",
    "    STUDENTS = list(preferences.index) + ['dummy']             # students\n",
    "    \n",
    "    CLASSES = []\n",
    "    for c in preferences.columns:\n",
    "        CLASSES = CLASSES + list(preferences[c].unique())\n",
    "    CLASSES = list(set(CLASSES))                               # classes\n",
    "    \n",
    "    edge_costs = {}                                 \n",
    "    for s in preferences.index:\n",
    "        for c in preferences:\n",
    "            edge_costs[(s, preferences.at[int(s),c])] = int(c)\n",
    "    EDGES = list(edge_costs)                                   # edges\n",
    "    \n",
    "    # add dummy edges\n",
    "    dummy_edges = list(itertools.product(['dummy'], CLASSES))\n",
    "    EDGES.extend(dummy_edges)          \n",
    "    \n",
    "    c = edge_costs                                             # costs\n",
    "    # add dummy edge costs\n",
    "    for edge in dummy_edges:\n",
    "        c.update({edge : penalty})    \n",
    "    \n",
    "    # define model\n",
    "    m = OR.Solver('fws', OR.Solver.CBC_MIXED_INTEGER_PROGRAMMING)\n",
    "    \n",
    "    # decision variables\n",
    "    x = {}    \n",
    "    for i,j in EDGES:\n",
    "        if integer:\n",
    "            x[i,j] = m.IntVar(0, m.infinity(), ('(%s, %s)' % (i,j)))\n",
    "        else:\n",
    "            x[i,j] = m.NumVar(0, m.infinity(), ('(%s, %s)' % (i,j)))\n",
    "        \n",
    "    # objective function\n",
    "    m.Minimize(sum(c[i,j]*x[i,j] for i,j in EDGES))\n",
    "       \n",
    "    # subject to: each student (not including the dummy) is assigned at most one class\n",
    "    for k in STUDENTS:\n",
    "        if k != 'dummy':\n",
    "            m.Add(sum(x[i,j] for i,j in EDGES if i==k) <= 1)\n",
    "        \n",
    "    # subject to: each class is full\n",
    "    # TODO: Write the constraint that each class is full\n",
    "    \n",
    "    \n",
    "    \n",
    "    return m,x"
   ]
  },
  {
   "cell_type": "code",
   "execution_count": null,
   "metadata": {},
   "outputs": [],
   "source": [
    "def solution_summary(preferences, penalty, m):\n",
    "    \"\"\"Print a summary of the solution.\"\"\"\n",
    "    students = list(preferences.index) + ['dummy']\n",
    "\n",
    "    classes = []\n",
    "    for c in preferences.columns:\n",
    "        classes = classes + list(preferences[c].unique())\n",
    "    classes = list(set(classes))   \n",
    "\n",
    "    edge_costs = {}                                 \n",
    "    for s in preferences.index:\n",
    "        for c in preferences:\n",
    "            edge_costs[(s, preferences.at[int(s),c])] = int(c)\n",
    "    edges = list(edge_costs)\n",
    "\n",
    "    dummy_edges = list(itertools.product(['dummy'], classes))\n",
    "    edges.extend(dummy_edges)          \n",
    "\n",
    "    c = edge_costs\n",
    "    for edge in dummy_edges:\n",
    "        c.update({edge : penalty}) \n",
    "        \n",
    "    unmatched = []\n",
    "    for k in students:\n",
    "        if (sum(x[i,j].solution_value() for i,j in edges if i==k) == 0) and (k!='dummy'):\n",
    "            unmatched.append(k)\n",
    "    print(\"Unmatched students:\", len(unmatched))\n",
    "    \n",
    "    matched = {}\n",
    "    for i,j in edges:\n",
    "        if x[i,j].solution_value() == 1:\n",
    "            if c[i,j] in matched:\n",
    "                matched[c[i,j]] += 1\n",
    "            else:\n",
    "                matched.update({c[i,j] : 1})\n",
    "    \n",
    "    if penalty in matched.keys():\n",
    "        del matched[penalty]\n",
    "        \n",
    "    return matched"
   ]
  },
  {
   "cell_type": "markdown",
   "metadata": {},
   "source": [
    "**Q11:** Replace `XXX` with the cost of the dummy edges and then run the cell."
   ]
  },
  {
   "cell_type": "code",
   "execution_count": null,
   "metadata": {},
   "outputs": [],
   "source": [
    "# TODO: Uncomment and replace XXX with the cost of the dummy edges\n",
    "# m,x = fws(fws_7_students, 2, XXX)\n",
    "# m.Solve()\n",
    "# solution_summary(fws_7_students, XXX,m)\n",
    "\n"
   ]
  },
  {
   "cell_type": "markdown",
   "metadata": {},
   "source": [
    "6 students got their first choice, 1 student got their second choice, and no students were left unmatched.   \n",
    "\n",
    "**Q12:** Why can't all the students be assigned their first choice? Or do you think the answer you got could be better?  \n",
    "\n",
    "**A:**  "
   ]
  },
  {
   "cell_type": "markdown",
   "metadata": {},
   "source": [
    "**Example 2**  \n",
    "In this new instance with 8 students (1-8) and 4 classes (A-D), more students prefer A and B than C and D."
   ]
  },
  {
   "cell_type": "code",
   "execution_count": null,
   "metadata": {},
   "outputs": [],
   "source": [
    "fws_8_students = pd.read_csv('data/fws_8_students.csv', index_col=0)\n",
    "display(fws_8_students)"
   ]
  },
  {
   "cell_type": "code",
   "execution_count": null,
   "metadata": {},
   "outputs": [],
   "source": [
    "from fws_lab import ex2\n",
    "\n",
    "S2 = [1,2,3,4,5,6,7,8]\n",
    "D2 = ['A','B','C','D']\n",
    "E2 = {(1,'A'):1, (1,'B'):2, (2,'B'):1, (2,'A'):2, (3,'C'):1, (3,'D'):2, (4,'A'):1, (4,'B'):2, \n",
    "      (5,'B'):1, (5,'A'):2, (6,'A'):1, (6,'C'):2, (7,'C'):1, (7,'D'):2, (8,'A'):1, (8,'D'):2}\n",
    "\n",
    "ex2(S2, E2)"
   ]
  },
  {
   "cell_type": "code",
   "execution_count": null,
   "metadata": {},
   "outputs": [],
   "source": [
    "# cost of edges from dummy node is 2.5\n",
    "m,x = fws(fws_8_students, 2, 2.5)\n",
    "m.Solve()\n",
    "solution_summary(fws_8_students, 2.5, m)"
   ]
  },
  {
   "cell_type": "markdown",
   "metadata": {},
   "source": [
    "There is 1 unmatched student when using 2.5 as the cost of dummy edges.  \n",
    "\n",
    "**Q13:** Why can't all the students be assigned one of their top 2 choices? Or do you think the answer you got could be better?  \n",
    "\n",
    "**A:**   \n",
    "\n",
    "Re-solve using 3.5 as the cost."
   ]
  },
  {
   "cell_type": "code",
   "execution_count": null,
   "metadata": {},
   "outputs": [],
   "source": [
    "# cost of edges from dummy node is 3.5\n",
    "m,x = fws(fws_8_students, 2, 3.5)\n",
    "m.Solve()\n",
    "solution_summary(fws_8_students, 3.5, m)"
   ]
  },
  {
   "cell_type": "markdown",
   "metadata": {},
   "source": [
    "**Q14:** Both the edge weights 2.5 and 3.5 are greater than 2. In some sense, they are prioritized last. We rather send flow across 1 and 2 weight edges. However, we get different solutions. Why?\n",
    "\n",
    "**A:**   \n",
    "\n",
    "When solving the actual data, you will see that other subtle reasons might lead to unmatched students."
   ]
  },
  {
   "cell_type": "markdown",
   "metadata": {},
   "source": [
    "## Part 3: Solving the Actual Data\n",
    "\n",
    "There are 2886 students and 183 class sections. Assume each class can have at most 16 students. As we already know, each student picks their top 5 classes."
   ]
  },
  {
   "cell_type": "code",
   "execution_count": null,
   "metadata": {},
   "outputs": [],
   "source": [
    "fws_f09_ballots = pd.read_csv('data/fws_f09_ballots.csv', index_col=0)\n",
    "fws_f09_ballots.head()"
   ]
  },
  {
   "cell_type": "markdown",
   "metadata": {},
   "source": [
    "There are 6 columns with the first being student # and the other 5 being first, second, third, fourth, and fifth choice. Each row is a student, and class # indicates the class picked as the choice belonging to the column."
   ]
  },
  {
   "cell_type": "code",
   "execution_count": null,
   "metadata": {},
   "outputs": [],
   "source": [
    "m,x = fws(fws_f09_ballots, 16, 6)\n",
    "m.Solve()\n",
    "solution_summary(fws_f09_ballots, 6, m)"
   ]
  },
  {
   "cell_type": "markdown",
   "metadata": {},
   "source": [
    "We got an answer! Unfortunately, there are 107 students who did not get any of their top 5 picks. Let's try to make our model better, so that no students are unmatched.  \n",
    "\n",
    "The objective function is actually a weighted function. The coefficients, which in this case are the costs, dictate how much you want the solver to select the corresponding edges. An edge with a small cost has a higher likelihood (weight) of being in the solution while an edge with a large cost will potentially be avoided. This being said, we can try setting the cost of edges from the dummy node to an arbitrarily large number like 100,000. This should create greater incentive to fill classes with actual students than our fake filler 'students' as we witnessed in the second small example."
   ]
  },
  {
   "cell_type": "code",
   "execution_count": null,
   "metadata": {},
   "outputs": [],
   "source": [
    "m,x = fws(fws_f09_ballots, 16, 100000)\n",
    "m.Solve()\n",
    "sol = solution_summary(fws_f09_ballots, 100000, m)\n",
    "sol"
   ]
  },
  {
   "cell_type": "markdown",
   "metadata": {},
   "source": [
    "Yay! We just improved our model. As a bonus, we can look at the distribution of preferences received by students in the form of a histogram and see how our solution did in percentages."
   ]
  },
  {
   "cell_type": "code",
   "execution_count": null,
   "metadata": {},
   "outputs": [],
   "source": [
    "from fws_lab import Histo\n",
    "\n",
    "Histo(sol, 15)\n",
    "for pref in range(1,6):\n",
    "    print(pref, \":\", round(100*sol[pref]/2886, 2), \"%\")"
   ]
  },
  {
   "cell_type": "markdown",
   "metadata": {},
   "source": [
    "## Bonus 1\n",
    "\n",
    "We do not want to waste time trying different cost combinations if there is no solution where every student gets one of their top 5 picks. How can we check whether there exists a feasible solution with 0 unmatched students?  "
   ]
  },
  {
   "cell_type": "markdown",
   "metadata": {},
   "source": [
    "**B1:** What is the cost of edges representing students' preferences?  \n",
    "\n",
    "**A:**   "
   ]
  },
  {
   "cell_type": "markdown",
   "metadata": {},
   "source": [
    "**B2:** What is the cost of dummy edges?  \n",
    "    \n",
    "**A:**   "
   ]
  },
  {
   "cell_type": "markdown",
   "metadata": {},
   "source": [
    "**B3:** What is the desired solution?  \n",
    "\n",
    "**A:**   "
   ]
  },
  {
   "cell_type": "markdown",
   "metadata": {},
   "source": [
    "**B4:** Describe another way that might use a different model.  \n",
    "\n",
    "**A:**   "
   ]
  },
  {
   "cell_type": "markdown",
   "metadata": {},
   "source": [
    "## Bonus 2\n",
    "\n",
    "There are many ways to improve a model even if the type of problem does not change. Previously, we decided it was important for an assignment to guarantee that everyone got at least one of their top 5 picks. How can you make a better yet model? \n",
    "\n",
    "Your answer will depend on what you think makes the best assignment. Some things to consider: reducing the number of students getting their lesser-preferred choices, adding a lower bound on class size, choosing for two students to both have their 3rd choice instead of one 1st and the other 5th, using recursion..."
   ]
  }
 ],
 "metadata": {
  "kernelspec": {
   "display_name": "Python 3",
   "language": "python",
   "name": "python3"
  },
  "language_info": {
   "codemirror_mode": {
    "name": "ipython",
    "version": 3
   },
   "file_extension": ".py",
   "mimetype": "text/x-python",
   "name": "python",
   "nbconvert_exporter": "python",
   "pygments_lexer": "ipython3",
   "version": "3.6.10"
  }
 },
 "nbformat": 4,
 "nbformat_minor": 2
}
