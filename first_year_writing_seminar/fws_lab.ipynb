{
 "cells": [
  {
   "cell_type": "markdown",
   "metadata": {},
   "source": [
    "# First-Year Writing Seminars\n",
    "\n",
    "### Introduction\n",
    "If you recall pre-enroll, there was a separate ballot you completed by listing your top 5 picks for FWS that semester. You were then later notified which class you got placed into, probably hoping it was your first choice. By now, this should not seem like magic; problems like these often enlist help from Operations Research especially as the scale increases. Disclaimer: the following model is not actually used by Cornell.\n",
    "\n",
    "### Import the following"
   ]
  },
  {
   "cell_type": "code",
   "execution_count": null,
   "metadata": {},
   "outputs": [],
   "source": [
    "import pandas as pd\n",
    "import math, itertools\n",
    "import matplotlib.pyplot as plt\n",
    "import networkx as nx\n",
    "from networkx.algorithms import bipartite\n",
    "from ortools.linear_solver import pywraplp as OR"
   ]
  },
  {
   "cell_type": "markdown",
   "metadata": {},
   "source": [
    "## Part 1: Brainstorming\n",
    "\n",
    "### Questions\n",
    "- How can FWS sections be assigned so that the most number of students get one of their top 5 picks?\n",
    "- How can we improve the assignments?\n",
    "\n",
    "We want to *assign* a class to each student. This sounds like an assignment problem, which is a special case of the *transportation problem*.  \n",
    "\n",
    "**Example 1**  \n",
    "The following table gives an instance with 7 students (1-7) and 4 classes (A-D). Each class has a capacity of 2 students. \n",
    "\n",
    "| Student | First | Second |\n",
    "|:-------:|:-----:|:------:|\n",
    "|    1    |   A   |    B   |\n",
    "|    2    |   D   |    C   |\n",
    "|    3    |   A   |    C   |\n",
    "|    4    |   B   |    D   |\n",
    "|    5    |   C   |    B   |\n",
    "|    6    |   A   |    B   |\n",
    "|    7    |   B   |    A   |"
   ]
  },
  {
   "cell_type": "markdown",
   "metadata": {},
   "source": [
    "**Q1:** What are the supply nodes?  \n",
    "**A:**"
   ]
  },
  {
   "cell_type": "markdown",
   "metadata": {},
   "source": [
    "**Q2:** What are the supply values of the supply nodes? <font color='grey'>(Hint: How many units can be transferred?)</font>  \n",
    "**A:**"
   ]
  },
  {
   "cell_type": "markdown",
   "metadata": {},
   "source": [
    "**Q3:** What are the demand nodes?  \n",
    "**A:**"
   ]
  },
  {
   "cell_type": "markdown",
   "metadata": {},
   "source": [
    "**Q4:** What are the demand values of the demand nodes? <font color='grey'>(Hint: How many units can be received?)</font>  \n",
    "**A:** "
   ]
  },
  {
   "cell_type": "markdown",
   "metadata": {},
   "source": [
    "**Q5:** What does a directed edge from a supply node to a demand node mean?  \n",
    "**A:**   "
   ]
  },
  {
   "cell_type": "markdown",
   "metadata": {},
   "source": [
    "**Q6:** What are the edge costs?  \n",
    "**A:** "
   ]
  },
  {
   "cell_type": "markdown",
   "metadata": {},
   "source": [
    "Visualize your graph by completing the dictionary of edge costs. This will be used later as the input to the LP model."
   ]
  },
  {
   "cell_type": "code",
   "execution_count": null,
   "metadata": {
    "scrolled": false
   },
   "outputs": [],
   "source": [
    "from fws_lab import ex1\n",
    "\n",
    "S = [1,2,3,4,5,6,7]\n",
    "D = ['A','B','C','D']\n",
    "E = {(1,'A'):1, ...}\n",
    "\n",
    "ex1(S, D, E)"
   ]
  },
  {
   "cell_type": "markdown",
   "metadata": {},
   "source": [
    "To complete the simple model, we need to answer one more question.  \n",
    "\n",
    "**Q7:** The total demand is 8, but the current total supply is only 7. How can we make sure that demand is satisfied for there to be a feasible solution?  \n",
    "**A:** \n",
    "\n",
    "\n",
    "Create a similar list of students, classes, and edge weights like the lists above but account for the dummy supply node."
   ]
  },
  {
   "cell_type": "code",
   "execution_count": null,
   "metadata": {},
   "outputs": [],
   "source": [
    "S_dummy = \n",
    "D_dummy = \n",
    "E_dummy =\n",
    "\n",
    "ex1(S_dummy, D_dummy, E_dummy)"
   ]
  },
  {
   "cell_type": "markdown",
   "metadata": {},
   "source": [
    "## Part 2: Solving\n",
    "\n",
    "Finish describing the LP model below."
   ]
  },
  {
   "cell_type": "code",
   "execution_count": null,
   "metadata": {},
   "outputs": [],
   "source": [
    "# An FWS assignment model\n",
    "\n",
    "# INPUTS:\n",
    "# students: a list of students\n",
    "# classes: a list of classes\n",
    "# edges: a dictionary of edge costs\n",
    "# csize: the class capacity \n",
    "# dcost: the cost of not assigning a student to one of their top 5 picks\n",
    "def Assign(students, classes, edges, csize, dcost, solver):\n",
    "    STUDENT = students + ['dummy']  # create student list add dummy node \n",
    "    CLASS = classes                 # create class list\n",
    "    EDGES = list(edges.keys())      # create edge list\n",
    "    \n",
    "    newedges = list(itertools.product([0], CLASS))\n",
    "    EDGES.extend(newedges)          # add dummy edges\n",
    "    \n",
    "    c = edges.copy()                # define c[i,j]\n",
    "    for edge in newedges:\n",
    "        c.update({edge : dcost})    # add c[i,dummy] costs\n",
    "    \n",
    "    # define model\n",
    "    m = OR.Solver('assignFWS', solver)\n",
    "    \n",
    "    # decision variables\n",
    "    x = {}    \n",
    "    for i,j in EDGES:\n",
    "        # (1) define x(i,j) here\n",
    "        \n",
    "        \n",
    "    # (2) define objective function here\n",
    "\n",
    "       \n",
    "    # (3) add constraint to ensure each student (not including the dummy is assigned at most one class)\n",
    "\n",
    "        \n",
    "    # (4) add constraint to ensure each class is full\n",
    "\n",
    "    \n",
    "    m.Solve()\n",
    "    \n",
    "    unmatched = []\n",
    "    for k in STUDENT:\n",
    "        if (sum(x[i,j].solution_value() for i,j in EDGES if i==k) == 0) and (k!='dummy'):\n",
    "            unmatched.append(k)\n",
    "    print(\"Unmatched students:\", len(unmatched))\n",
    "    \n",
    "    matched = {}\n",
    "    for i,j in EDGES:\n",
    "        if x[i,j].solution_value() == 1:\n",
    "            if c[i,j] in matched:\n",
    "                matched[c[i,j]] += 1\n",
    "            else:\n",
    "                matched.update({c[i,j] : 1})\n",
    "    if dcost in matched.keys():\n",
    "        del matched[dcost]\n",
    "    \n",
    "    return matched"
   ]
  },
  {
   "cell_type": "markdown",
   "metadata": {},
   "source": [
    "Replace XXX with the cost of dummy edges and then run the cell."
   ]
  },
  {
   "cell_type": "code",
   "execution_count": null,
   "metadata": {},
   "outputs": [],
   "source": [
    "sol1 = Assign(S, D, E, 2, XXX, OR.Solver.CBC_MIXED_INTEGER_PROGRAMMING)\n",
    "print(sol1)"
   ]
  },
  {
   "cell_type": "markdown",
   "metadata": {},
   "source": [
    "6 students got their first choice, 1 student got their second choice, and no students were left unmatched.   \n",
    "\n",
    "**Q8:** Why can't all the students be assigned their first choice? Or do you think the answer you got could be better?  \n",
    "**A:**"
   ]
  },
  {
   "cell_type": "markdown",
   "metadata": {},
   "source": [
    "**Example 2**  \n",
    "In this new instance with 8 students (1-8) and 4 classes (A-D), more students prefer A and B than C and D:  \n",
    "\n",
    "| Student | First | Second |\n",
    "|:-------:|:-----:|:------:|\n",
    "|    1    |   A   |    B   |\n",
    "|    2    |   B   |    A   |\n",
    "|    3    |   C   |    D   |\n",
    "|    4    |   A   |    B   |\n",
    "|    5    |   B   |    A   |\n",
    "|    6    |   A   |    C   |\n",
    "|    7    |   C   |    D   |\n",
    "|    8    |   A   |    D   |"
   ]
  },
  {
   "cell_type": "code",
   "execution_count": null,
   "metadata": {
    "scrolled": false
   },
   "outputs": [],
   "source": [
    "from fws_lab import ex2\n",
    "\n",
    "S2 = [1,2,3,4,5,6,7,8]\n",
    "D2 = ['A','B','C','D']\n",
    "E2 = {(1,'A'):1, (1,'B'):2, (2,'B'):1, (2,'A'):2, (3,'C'):1, (3,'D'):2, (4,'A'):1, (4,'B'):2, \n",
    "      (5,'B'):1, (5,'A'):2, (6,'A'):1, (6,'C'):2, (7,'C'):1, (7,'D'):2, (8,'A'):1, (8,'D'):2}\n",
    "\n",
    "ex2(S2, E2)"
   ]
  },
  {
   "cell_type": "code",
   "execution_count": null,
   "metadata": {},
   "outputs": [],
   "source": [
    "# cost of edges from dummy node is 2.5\n",
    "sol2 = Assign(S2, D2, E2, 2, 2.5, OR.Solver.CBC_MIXED_INTEGER_PROGRAMMING)\n",
    "print(sol2)"
   ]
  },
  {
   "cell_type": "markdown",
   "metadata": {},
   "source": [
    "There is 1 unmatched student when using 2.5 as the cost of dummy edges.  \n",
    "\n",
    "**Q9:** Why can't all the students be assigned one of their top 2 choices? Or do you think the answer you got could be better?  \n",
    "**A:** \n",
    "\n",
    "Re-solve using 3 as the cost."
   ]
  },
  {
   "cell_type": "code",
   "execution_count": null,
   "metadata": {},
   "outputs": [],
   "source": [
    "# cost of edges from dummy node is 3.5\n",
    "sol3 = Assign(S2, D2, E2, 2, 3.5, OR.Solver.CBC_MIXED_INTEGER_PROGRAMMING)\n",
    "print(sol3)"
   ]
  },
  {
   "cell_type": "markdown",
   "metadata": {},
   "source": [
    "**Q10:** 2.5 and 3.5 are both greater than 1 and 2 and prioritized last. What then is causing the different solutions?  \n",
    "**A:**\n",
    "\n",
    "When solving the actual data, you will see that other subtle reasons might lead to unmatched students."
   ]
  },
  {
   "cell_type": "markdown",
   "metadata": {},
   "source": [
    "## Part 3: Solving the Actual Data\n",
    "\n",
    "There are 2886 students and 183 class sections. Assume each class can have at most 16 students. As we already know, each student picks their top 5 classes."
   ]
  },
  {
   "cell_type": "code",
   "execution_count": null,
   "metadata": {},
   "outputs": [],
   "source": [
    "# read in the dataset\n",
    "data = pd.read_csv('Fall2009Ballots.csv')\n",
    "data.head()    # preview"
   ]
  },
  {
   "cell_type": "markdown",
   "metadata": {},
   "source": [
    "There are 6 columns with the first being student # and the other 5 being first, second, third, fourth, and fifth choice. Each row is a student, and class # indicates the class picked as the choice belonging to the column.  \n",
    "\n",
    "The dataset has been transformed behind the scenes from what you see above into the correct formats for the inputs. Nothing has changed about the model except the edge costs are equal to the choice rank (1-5) and the edges from the dummy node have a cost of 6."
   ]
  },
  {
   "cell_type": "code",
   "execution_count": null,
   "metadata": {},
   "outputs": [],
   "source": [
    "from fws_lab import inputData\n",
    "students,classes,edges = inputData('Fall2009Ballots.csv')\n",
    "data_sol = Assign(students, classes, edges, 16, 6, OR.Solver.CBC_MIXED_INTEGER_PROGRAMMING)\n",
    "print(data_sol)"
   ]
  },
  {
   "cell_type": "markdown",
   "metadata": {},
   "source": [
    "We got an answer! Unfortunately, there are 85 students who did not get any of their top 5 picks. Let's try to make our model better, so that no students are unmatched.  \n",
    "\n",
    "The objective function is actually a weighted function. The coefficients, which in this case are the costs, dictate how much you want the solver to select the corresponding edges. An edge with a small cost has a higher likelihood (weight) of being in the solution while an edge with a large cost will potentially be avoided. This being said, we can try setting the cost of edges from the dummy node to an arbitrarily large number like 100,000. This should create greater incentive to fill classes with actual students than our fake filler 'students' as we witnessed in the second small example."
   ]
  },
  {
   "cell_type": "code",
   "execution_count": null,
   "metadata": {},
   "outputs": [],
   "source": [
    "data_sol2 = Assign(students, classes, edges, 16, 100000, OR.Solver.CBC_MIXED_INTEGER_PROGRAMMING)\n",
    "print(data_sol2)"
   ]
  },
  {
   "cell_type": "markdown",
   "metadata": {},
   "source": [
    "Yay! We just improved our model. As a bonus, we can look at the distribution of preferences received by students in the form of a histogram and see how our solution did in percentages."
   ]
  },
  {
   "cell_type": "code",
   "execution_count": null,
   "metadata": {},
   "outputs": [],
   "source": [
    "from fws_lab import Histo\n",
    "Histo(data_sol2, 15)\n",
    "\n",
    "for pref in data_sol2.keys():\n",
    "    print(pref, \":\", round(100*data_sol2[pref]/2886, 2), \"%\")"
   ]
  },
  {
   "cell_type": "markdown",
   "metadata": {},
   "source": [
    "<font color='red'> Adjust coefficents to get a better solution? -- Maybe not since this lab is combined with another.. </font>  "
   ]
  },
  {
   "cell_type": "markdown",
   "metadata": {},
   "source": [
    "## Challenge 1\n",
    "\n",
    "We do not want to waste time trying different cost combinations if there is no solution where every student gets one of their top 5 picks. How can we check whether there exists a feasible solution with 0 unmatched students?  \n",
    "\n",
    "**Q:** What is the cost of edges representing students' preferences?  \n",
    "**A:**  \n",
    "\n",
    "**Q:** What is the cost of dummy edges?  \n",
    "**A:** \n",
    "\n",
    "**Q:** What is the desired solution?  \n",
    "**A:** \n",
    "\n",
    "-- OR --  \n",
    "**Q:** Describe another way that might use a different model.  \n",
    "**A:** "
   ]
  },
  {
   "cell_type": "markdown",
   "metadata": {},
   "source": [
    "## Challenge 2\n",
    "\n",
    "There are many ways to improve a model even if the type of problem does not change. Previously, we decided it was important for an assignment to guarantee that everyone got at least one of their top 5 picks. How can you make a better yet model?"
   ]
  }
 ],
 "metadata": {
  "kernelspec": {
   "display_name": "Python 3",
   "language": "python",
   "name": "python3"
  },
  "language_info": {
   "codemirror_mode": {
    "name": "ipython",
    "version": 3
   },
   "file_extension": ".py",
   "mimetype": "text/x-python",
   "name": "python",
   "nbconvert_exporter": "python",
   "pygments_lexer": "ipython3",
   "version": "3.7.7"
  }
 },
 "nbformat": 4,
 "nbformat_minor": 2
}
