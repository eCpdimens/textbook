{
 "cells": [
  {
   "cell_type": "markdown",
   "id": "e8e14fa6",
   "metadata": {},
   "source": [
    "# Min Cut Lab\n",
    "**Objectives:**\n",
    "- Understand the formulation of a min cut instance, in particular\n",
    "    - using infinite capacity edges\n",
    "    - finding an s-t cut"
   ]
  },
  {
   "cell_type": "markdown",
   "id": "14028177",
   "metadata": {},
   "source": [
    "## Part 1: Formulating the maximum density subgraph problem.\n",
    "In the first part of this lab, we will introduce the maximum density subgraph problem.\n",
    "\n",
    "The density of a graph is defined by the number of edges included in the graph divided by the number of nodes on the graph. Let us denote the graph and density with $$G = (V, E), d = \\frac{|E|}{|V|}.$$ In this lab, we will model the problem of finding the densest subgraph by reducing it to an instance of the Minimum Cut problem.\n",
    "\n",
    "We will first focus on the non-optimization aspect of this problem. That is, we want to answer the question: does there exist a subset of nodes S such that the density of the subgraph it makes up is at least $\\lambda$?"
   ]
  },
  {
   "cell_type": "markdown",
   "id": "19a2c161",
   "metadata": {},
   "source": [
    "\n",
    "**Q1:** Write an equation that if satisfied, proves the existence of such a subset S. Let E(S) be the edge set induced by the nodes in S (edges going from a node in S to another node in S).\n",
    "\n",
    "**A:** $\\frac{|E(S)|}{|S|} \\geq \\lambda$"
   ]
  },
  {
   "cell_type": "markdown",
   "id": "9e66b5ff",
   "metadata": {},
   "source": [
    "**Q2:** Rewrite the equation such that we have an equation of the form $a - b*c \\geq 0$.\n",
    "\n",
    "**A:** $|E(S)| - \\lambda |S| \\geq 0$"
   ]
  },
  {
   "cell_type": "markdown",
   "id": "42178669",
   "metadata": {},
   "source": [
    "So, if we want to prove that there exists some subset of nodes S that has density at least l, we just need to find one such S that satisfies the equation above. Since the relationship is greater than or equal to, we can try to maximize the LHS such that if our maximum value is $\\geq 0$ then we know we have found a set S that satisfies this property. Thus, our goal is $$maximize |E(S)| - \\lambda |S|$$ and we want to see if that value is $\\geq 0$."
   ]
  },
  {
   "cell_type": "markdown",
   "id": "1b3b83fd",
   "metadata": {},
   "source": [
    "Notice that there are two components to this equation. The first part can be interpreted as receiving one unit of benefit for each edge induced by the set $S$ we are choosing. The second part can be interpreted as paying $\\lambda$ units of cost for every node that we include in our set $S$. Is this starting to sound familiar?\n",
    "\n",
    "This is exactly similar to the tool selection problem! We wanted to find a subset of tasks to complete given that we gain a certain amount of revenue for each task finished, but have to pay a certain cost to use the tools needed for each task. Luckily enough, that problem also had the optimization of finding such a subset such that our overall profit was positive.\n",
    "\n",
    "Let's model the densest subgraph instance as a tool selection problem! Since we gain benefit from including edges, let the edge set of the graph, $E$, take the role of the tasks in the model. Similarly, let the vertex set of the graph, $V$, take the role of the tools in the model.\n",
    "\n",
    "Rather than choosing tools so that certain tasks can be completed, we can think of this as *choosing nodes such that certain edges are induced by our subset $S$.*"
   ]
  },
  {
   "cell_type": "markdown",
   "id": "5a47372b",
   "metadata": {},
   "source": [
    "Let's say we are given the following graph, and we want to see if there is a subgraph with density at least 1.2.\n",
    "\n",
    "![title](images-lab/graph_1.png)\n"
   ]
  },
  {
   "cell_type": "markdown",
   "id": "fb22c2aa",
   "metadata": {},
   "source": [
    "**Q3:** Draw the min cut instance for the above graph. Hint: there should be a \"layer\" for nodes representing edges in the original graph, and another \"layer\" for vertex nodes.\n",
    "\n",
    "**A:** ![title](images-key/q3_graph_1.png)"
   ]
  },
  {
   "cell_type": "markdown",
   "id": "f86d081e",
   "metadata": {},
   "source": [
    "Given that the objective function of the tool selection problem was really `maximize b - c` where $b$ was the total benefit of all the tasks completed and $c$ was the total cost of all the tools used, the \"equivalent\" objective function of the minimum cost reduction was to minimize just the total cost, which was measured by the opportunity cost of jobs not taken added with the cost of using tools for the jobs we did take."
   ]
  },
  {
   "cell_type": "markdown",
   "id": "d891545e",
   "metadata": {},
   "source": [
    "**Q4:** In plain English, what are the two costs that we want to minimize for the densest subgraph problem?\n",
    "\n",
    "**A:** the opportunity cost of not inducing an edge and the cost of including more vertices in our subgraph"
   ]
  },
  {
   "cell_type": "markdown",
   "id": "519c923d",
   "metadata": {},
   "source": [
    "Let the edge set from the original graph be $E = E(S) \\cup E(T)$, where $E(S)$ is the set of all edges induced by the subgraph and $E(T)$ is the set of all edges not induced. Let the vertex set be $V = S \\cup T$, where $S$ is the set of all vertices included in our subgraph and $T$ is the set of vertices not included. "
   ]
  },
  {
   "cell_type": "markdown",
   "id": "ca2afb0e",
   "metadata": {},
   "source": [
    "**Q5:** What the is equivalent objective function of the equation you just described in Q3? Write your answer in terms of $\\lambda$, $|E(S)|$, $|E(T)|$, $|S|$, and/or $|T|$.\n",
    "\n",
    "<font color='red'> **Q5:** What is the equivalent objective function to the equation you just described in Q3? Write your answer in terms of $\\lambda$, $|E(S)|$, $|E(T)|$, $|S|$, and/or $|T|$.</font>\n",
    "**A:** *minimize* $|E(T)| + \\lambda|S|$ "
   ]
  },
  {
   "cell_type": "markdown",
   "id": "25990e07",
   "metadata": {},
   "source": [
    "It's not immediately apparent, but this is exactly the objective function we said we wanted to use at the beginning of the lab! Let's see how that is. We first need to change it into a maximization function."
   ]
  },
  {
   "cell_type": "markdown",
   "id": "0d044c77",
   "metadata": {},
   "source": [
    "**Q6:** What is the maximization equivalent of the objective function you gave in Q5?\n",
    "\n",
    "**A:** *maximize* $-|E(T)| - \\lambda|S|$ "
   ]
  },
  {
   "cell_type": "markdown",
   "id": "b9d827ea",
   "metadata": {},
   "source": [
    "**Q7:** If you have done Q4-Q6 correctly, you should have ended up with an equation in terms of only $|E(T)|$, $|S|$, and $\\lambda$. We can rewrite $|E(T)|$ in terms of $|E|$ and $|E(S)|$. Substitute $|E(T)|$ from Q6 and write the new maximization equation below.\n",
    "\n",
    "**A:** *maximize* $-(|E| - |E(S)|) - \\lambda|S|$ or *maximize* $-|E| + |E(S)|) - \\lambda|S|$"
   ]
  },
  {
   "cell_type": "markdown",
   "id": "83177b91",
   "metadata": {},
   "source": [
    "Notice that $|E|$ is a property of the original graph and is independent of any subgraph we may choose, thus it is a constant that we can remove from the objective function since constants contribute the same value to any solution. Finally, we end up with the function: *maximize* $|E(S)| - \\lambda|S|$ which is exactly what we wanted!\n",
    "\n",
    "Essentially, nodes inside the cut represent the edges induced and vertices making up the subgraph we have chosen."
   ]
  },
  {
   "cell_type": "markdown",
   "id": "066d9535",
   "metadata": {},
   "source": [
    "We've now successfully formulated a min cut instance from the densest subgraph problem!"
   ]
  },
  {
   "cell_type": "markdown",
   "id": "500f5b24",
   "metadata": {},
   "source": [
    "## Part 2: Using Python"
   ]
  },
  {
   "cell_type": "markdown",
   "id": "2bea2bea",
   "metadata": {},
   "source": [
    "In this part of the lab, we will be using python to help us solve some instances of the densest subgraph problem. We first define the graph that we want to analyze. Run the following code to see an illustration of the graph we will be using for this part of the lab."
   ]
  },
  {
   "cell_type": "code",
   "execution_count": null,
   "id": "debedcf5",
   "metadata": {},
   "outputs": [],
   "source": [
    "from max_flow import *\n",
    "\n",
    "# define the input graph\n",
    "G = nx.Graph()\n",
    "edgeList = [(1,1), (2,4), (3,4), (4,5), (4,6), (4,7), (5,6), (5,7), (6,7)]\n",
    "G.add_edges_from(edgeList)\n",
    "nx.draw(G,with_labels=True, font_weight='bold')\n",
    "plt.show()"
   ]
  },
  {
   "cell_type": "markdown",
   "id": "3934f128",
   "metadata": {},
   "source": [
    "**Q8:** What do you expect to be the maximum density for this graph upon inspection?\n",
    "\n",
    "**A:** 1.5"
   ]
  },
  {
   "cell_type": "markdown",
   "id": "6bcc6a27",
   "metadata": {},
   "source": [
    "**Q9:** What vertices do you expect to be inside subgraph with the density you answered above?\n",
    "\n",
    "**A:** 4,5,6,7"
   ]
  },
  {
   "cell_type": "markdown",
   "id": "7bf0876d",
   "metadata": {},
   "source": [
    "The following code will generate the min-cut instance of the graph given above. It will then execute Ford-Fulkerson on the formulated graph and print out the max flow value as well as the list of nodes in the s side of the minimum cut. Fill in the missing pieces of code."
   ]
  },
  {
   "cell_type": "code",
   "execution_count": null,
   "id": "9d1bf62f",
   "metadata": {},
   "outputs": [],
   "source": [
    "def gen_max_density(G, edges, d):\n",
    "    \"\"\"Returns the graph of the min cut instance of the maximum density problem with the given graph [G], graph edges [edges] and given density [d].\"\"\"\n",
    "    dirG = nx.DiGraph()\n",
    "    sink_edges = []\n",
    "    \n",
    "    #add vertex nodes\n",
    "    for i in G.nodes:\n",
    "        # TODO: Assign a value for the capacity of the edges going into the sink node. Hint: use a given parameter.\n",
    "        # sink_edges.append((i, 't', XXX))\n",
    "        ### BEGIN SOLUTION\n",
    "        sink_edges.append((i, 't', d))\n",
    "        ### END SOLUTION\n",
    "        \n",
    "    source_edges = []\n",
    "    etv_edges = []  #edge to vertex edges\n",
    "    edge_nodes = [] #list of all the edge nodes we need to add\n",
    "    #total number of edges in the original graph that are not self loops\n",
    "    total_edges = 0\n",
    "    #add source to edge node edges and edge to vertex node edges\n",
    "    for e in edges:\n",
    "        if e[0] != e[1]:\n",
    "            edge_nodes.append(str(e))\n",
    "            \n",
    "            # TODO: Assign a value for the capacity of the edges coming from the source node.\n",
    "            # source_edges.append(('s',str(e), XXX))\n",
    "            ### BEGIN SOLUTION\n",
    "            source_edges.append(('s', str(e), 1))\n",
    "            ### END SOLUTION\n",
    "            \n",
    "            etv_edges.append((str(e), e[0], math.inf))\n",
    "            etv_edges.append((str(e), e[1], math.inf))\n",
    "            total_edges += 1\n",
    "    dirG.add_weighted_edges_from(sink_edges, 'cap' )\n",
    "    dirG.add_weighted_edges_from(source_edges, 'cap' )\n",
    "    dirG.add_weighted_edges_from(etv_edges, 'cap' )\n",
    "    #assign positions to nodes\n",
    "    for i in G.nodes:\n",
    "        dirG.nodes[i]['pos'] = (40, 100-i*10)\n",
    "    count = 0\n",
    "    for i in edge_nodes:\n",
    "        dirG.nodes[i]['pos'] = (20, 100-count*10)\n",
    "        count +=1\n",
    "    dirG.nodes['t']['pos'] = (60, len(edge_nodes)*10)\n",
    "    dirG.nodes['s']['pos'] = (0, len(edge_nodes)*10)\n",
    "\n",
    "    return dirG\n",
    "\n",
    "\n",
    "def solve_min_cut(G):\n",
    "    \"\"\"Solves the given graph [G] that represents a min-cut instance. Prints out the flow and min-cut. \"\"\"\n",
    "    #solve the min cut instance\n",
    "    ex= max_flow(G)\n",
    "    ex.plot_flow()\n",
    "    ex.ford_fulkerson(s='s', t='t', show=False)\n",
    "    print(\"Max flow value: \" + str(ex.get_flow_value(t='t')))\n",
    "    ex.plot_flow()\n",
    "    ex.label(s='s', auto=True, show=False)\n",
    "    print(\"Minimum s-t cut: \" + str(ex.get_checked_nodes()))\n",
    "    ex.plot_checked(residual=True)"
   ]
  },
  {
   "cell_type": "code",
   "execution_count": null,
   "id": "5a0f2ebb",
   "metadata": {},
   "outputs": [],
   "source": [
    "# TODO: Test this block of code with different values to find the maximum density.\n",
    "# d = XXX\n",
    "### BEGIN SOLUTION\n",
    "d = 1.499\n",
    "### END SOLUTION\n",
    "dirG = gen_max_density(G, edgeList, d)\n",
    "solve_min_cut(dirG)"
   ]
  },
  {
   "cell_type": "markdown",
   "id": "5979443d",
   "metadata": {},
   "source": [
    "<font color='red'> Here are a couple of ideas for improving graph readability: \n",
    " - font sizes for labels on the graphs can be changed through parameters (E.g. nx.draw_networkx_edge_labels(self.G,self.pos,edge_labels=label); can be changed to nx.draw_networkx_edge_labels(self.G,self.pos,edge_labels=label, font_size=8); in order to reduce the font size).\n",
    " - A decent portion of the readability issues come from the edge labels having white backgrounds. A quick search on stack overflow told me this was preventable by using a bbox argument like so:\n",
    "    nx.draw_networkx_edge_labels(self.G,self.pos,edge_labels=label, bbox = dict(alpha=0));\n",
    " - If you remove the white backgrounds, you will likely need to change where the labels are displayed in relation to the edges on the graph. I would recommend shifting the labels up slightly so that they are all slightly above the edge they are for.\n",
    " - I don't fully understand how networkx graph drawing works, bubt from what I managed to find online, it may be possible to work around some of the issues by using invisible nodes (alpha=0) to organize the edges a little bit.\n",
    "</font>"
   ]
  },
  {
   "cell_type": "markdown",
   "id": "32e84e0f",
   "metadata": {},
   "source": [
    "**Q10:** What was the maximum density subgraph you found?\n",
    "\n",
    "**A:** 1.5 (1.499) *if you did this \"correctly, the code would have been slightly off. Rather than finding the exact maximium density, it would have instead allowed you to see some sort of \"upper bound\" on the value."
   ]
  },
  {
   "cell_type": "markdown",
   "id": "7236868f",
   "metadata": {},
   "source": [
    "**Q11:** What nodes are part of the subgraph that makes up this density?\n",
    "\n",
    "**A:** 4,5,6,7"
   ]
  }
 ],
 "metadata": {
  "kernelspec": {
   "display_name": "Python [conda env:engri_1101] *",
   "language": "python",
   "name": "conda-env-engri_1101-py"
  },
  "language_info": {
   "codemirror_mode": {
    "name": "ipython",
    "version": 3
   },
   "file_extension": ".py",
   "mimetype": "text/x-python",
   "name": "python",
   "nbconvert_exporter": "python",
   "pygments_lexer": "ipython3",
   "version": "3.7.10"
  }
 },
 "nbformat": 4,
 "nbformat_minor": 5
}
