{
 "cells": [
  {
   "cell_type": "markdown",
   "id": "e8e14fa6",
   "metadata": {},
   "source": [
    "# Min Cut Lab\n",
    "**Objectives:**\n",
    "- Understand the formulation of a min cut instance, in particular\n",
    "    - using infinite capacity edges\n",
    "    - finding an s-t cut"
   ]
  },
  {
   "cell_type": "markdown",
   "id": "14028177",
   "metadata": {},
   "source": [
    "## Part 1: Formulating the maximum density subgraph problem.\n",
    "In the first part of this lab, we will introduce the maximum density subgraph problem.\n",
    "\n",
    "The density of a graph is defined by the number of edges included in the graph divided by the number of nodes on the graph. Given $G = (V, E)$, $d = |E|/|V|$. In this lab, we will model the problem of finding the densest subgraph by reducing it to an instance of the Minimum Cut problem.\n",
    "\n",
    "We will first focus on the non-optimization aspect of this problem. That is, we want to answer the question: does there exist a subset of nodes S such that the density of the subgraph it makes up is at least $\\lambda$?"
   ]
  },
  {
   "cell_type": "markdown",
   "id": "19a2c161",
   "metadata": {},
   "source": [
    "\n",
    "**Q1:** Write an equation that if satisfied, proves the existence of such a subset S. Let E(S) be the edge set induced by the nodes in S (edges going from a node in S to another node in S).\n",
    "\n",
    "**A:** $|E(S)|/|S| \\geq \\lambda$"
   ]
  },
  {
   "cell_type": "markdown",
   "id": "9e66b5ff",
   "metadata": {},
   "source": [
    "**Q2:** Rewrite the equation such that we have an equation of the form $a - b*c \\geq 0$.\n",
    "\n",
    "**A:** $|E(S)| - \\lambda |S| \\geq 0$"
   ]
  },
  {
   "cell_type": "markdown",
   "id": "42178669",
   "metadata": {},
   "source": [
    "So, if we want to prove that there exists some subset of nodes S that has density at least l, we just need to find one such S that satisfies the equation above. Since the relationship is greater than or equal to, we can try to maximize the LHS such that if our maximum value is $\\geq 0$ then we know we have found a set S that satisfies this property. Thus, our goal is\n",
    "\n",
    "maximize $|E(S)| - \\lambda |S|$\n",
    "\n",
    "and see if that value is $\\geq 0$."
   ]
  },
  {
   "cell_type": "markdown",
   "id": "500f5b24",
   "metadata": {},
   "source": [
    "## Part 2: Using Python"
   ]
  },
  {
   "cell_type": "code",
   "execution_count": null,
   "id": "debedcf5",
   "metadata": {},
   "outputs": [],
   "source": [
    "from max_flow import *\n",
    "\n",
    "# define the input graph\n",
    "G = nx.DiGraph()\n",
    "edgeList = [(1,2,2),(1,3,5),(2,4,1),(3,2,1),(3,5,3),(4,6,6),(5,2,1),(5,4,2),(5,6,1)]\n",
    "G.add_weighted_edges_from( edgeList, 'cap' )\n",
    "pos = ((0,0),(0,10),(10,20),(10,0),(30,20),(30,0),(40,10))\n",
    "for i in range(1,7):\n",
    "    G.nodes[i]['pos'] = pos[i]\n",
    "\n",
    "ex = max_flow(G)"
   ]
  },
  {
   "cell_type": "markdown",
   "id": "7bf0876d",
   "metadata": {},
   "source": [
    "The following code will execute Ford-Fulkerson on the given graph and print out the max flow value as well as the list of nodes in the s side of the minimum cut."
   ]
  },
  {
   "cell_type": "code",
   "execution_count": null,
   "id": "9d1bf62f",
   "metadata": {},
   "outputs": [],
   "source": [
    "ex.ford_fulkerson(s=1, t=6, show=False)\n",
    "print(\"Max flow value: \" + str(ex.get_flow_value(t=6)))\n",
    "ex.plot_flow()\n",
    "\n",
    "ex.label(s=1, auto=True, show=False)\n",
    "print(\"Minimum s-t cut: \" + str(ex.get_checked_nodes()))\n",
    "ex.plot_checked(residual=True)"
   ]
  }
 ],
 "metadata": {
  "kernelspec": {
   "display_name": "Python [conda env:.conda-engri_1101] *",
   "language": "python",
   "name": "conda-env-.conda-engri_1101-py"
  },
  "language_info": {
   "codemirror_mode": {
    "name": "ipython",
    "version": 3
   },
   "file_extension": ".py",
   "mimetype": "text/x-python",
   "name": "python",
   "nbconvert_exporter": "python",
   "pygments_lexer": "ipython3",
   "version": "3.7.10"
  }
 },
 "nbformat": 4,
 "nbformat_minor": 5
}
