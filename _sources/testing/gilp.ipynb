{
 "cells": [
  {
   "cell_type": "markdown",
   "metadata": {
    "colab_type": "text",
    "id": "RBv5APyAuHlF"
   },
   "source": [
    "# Simplex Visualization"
   ]
  },
  {
   "cell_type": "code",
   "execution_count": null,
   "metadata": {},
   "outputs": [],
   "source": [
    "import gilp\n",
    "lp = gilp.examples.ALL_INTEGER_2D_LP\n",
    "gilp.simplex_visual(lp, initial_solution=[0,0]).show()"
   ]
  },
  {
   "cell_type": "code",
   "execution_count": null,
   "metadata": {},
   "outputs": [],
   "source": [
    "lp = gilp.examples.ALL_INTEGER_3D_LP\n",
    "gilp.simplex_visual(lp, initial_solution=[0,0,0]).show()"
   ]
  }
 ],
 "metadata": {
  "kernelspec": {
   "display_name": "engri_1101",
   "language": "python",
   "name": "engri_1101"
  },
  "language_info": {
   "codemirror_mode": {
    "name": "ipython",
    "version": 3
   },
   "file_extension": ".py",
   "mimetype": "text/x-python",
   "name": "python",
   "nbconvert_exporter": "python",
   "pygments_lexer": "ipython3",
   "version": "3.8.8"
  }
 },
 "nbformat": 4,
 "nbformat_minor": 2
}
