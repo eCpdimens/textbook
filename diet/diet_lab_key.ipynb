{
 "cells": [
  {
   "cell_type": "markdown",
   "metadata": {
    "colab_type": "text",
    "id": "KLc2I9kCdHKX"
   },
   "source": [
    "# Diet Lab\n",
    "Note: this demo is based on the Fall 2019 ENGRI 1101 Lab 8 which is based off both chapter 2 of the AMPL book and section 6.2 of _Decision Making, Models and Algorithms: A First Course_ by Saul I. Gass."
   ]
  },
  {
   "cell_type": "markdown",
   "metadata": {
    "colab_type": "text",
    "id": "rxIJwDNtdHKX"
   },
   "source": [
    "Objectives:\n",
    "- Introduce an historically important linear program\n",
    "- Think about solving linear programs and tweaking solutions\n",
    "- Introduce AMPL, a powerful computational tool for solving linear programs"
   ]
  },
  {
   "cell_type": "code",
   "execution_count": 1,
   "metadata": {
    "colab": {},
    "colab_type": "code",
    "id": "VfxPx35ndHKT"
   },
   "outputs": [],
   "source": [
    "# imports; make sure to import them!\n",
    "import pandas as pd\n",
    "from IPython.display import Image\n",
    "from ortools.linear_solver import pywraplp as OR"
   ]
  },
  {
   "cell_type": "markdown",
   "metadata": {
    "colab_type": "text",
    "id": "qEkU8S5udHKY"
   },
   "source": [
    "## Part 1: The Diet Problem"
   ]
  },
  {
   "cell_type": "markdown",
   "metadata": {
    "colab_type": "text",
    "id": "I5TdgUljdHKY"
   },
   "source": [
    "Suppose that you have a choice of two cereals for breakfast: Krunchies (K) or Crispies (C). Breakfast is the\n",
    "most important meal of the day, so you want to make sure you get sufficient Thiamine, Niacin, and caloric\n",
    "intake for breakfast. Being a college student, you want to do so as cheaply as possible – taste gets thrown\n",
    "into the wind! Price and nutritional info for these two cereals is summarized in the table below:"
   ]
  },
  {
   "cell_type": "markdown",
   "metadata": {},
   "source": [
    "| Nutrients<br> | Amount of each nutrient (in mg)<br>in 1 ounce of Krunchies | Amount of each nutrient (in mg)<br>in 1 ounce of Crispies | Requirement of each<br>nutrient (in mg)\n",
    "|-----------|---------------------------------|---------------------------------|----------------------|\n",
    "| Thiamine  |                  0.1            |            0.25                 |       1.0            |\n",
    "| Niacin    |                  1.0            |             0.25                |        5.0           |\n",
    "| Calories  |                  110.0          |           120.0                 |          400.0       |\n",
    "| Cost  |                 3.80                |           4.20                  |                      |\n"
   ]
  },
  {
   "cell_type": "markdown",
   "metadata": {
    "colab_type": "text",
    "id": "8HiPUTRPdHKc"
   },
   "source": [
    "**Q:** Suppose you just ate Krunchies. How many ounces of Krunchies would you need to eat to satisfy the\n",
    "three nutritional requirements? How much would this cost?\n",
    "\n",
    "**A:**"
   ]
  },
  {
   "cell_type": "markdown",
   "metadata": {
    "colab_type": "text",
    "id": "bwSTz0CFdHKc"
   },
   "source": [
    "**Q:** Suppose you just ate Crispies. How many ounces of Crispies would you need to eat to satisfy the three\n",
    "nutritional requirements? How much would this cost?\n",
    "\n",
    "**A:**"
   ]
  },
  {
   "cell_type": "markdown",
   "metadata": {
    "colab_type": "text",
    "id": "iNJGdWnCdHKd"
   },
   "source": [
    "**Q:** Now let’s write an optimization problem to model this problem, just like you did all the way back on\n",
    "the first lab/homework! Let K be a decision variable for the amount of Krunchies you eat and C be\n",
    "a decision variable for the amount of Crispies you eat. Write an objective function, encoding that you\n",
    "minimize total cost (as a function of K and C).\n",
    "\n",
    "**A:**"
   ]
  },
  {
   "cell_type": "markdown",
   "metadata": {
    "colab_type": "text",
    "id": "t9d6CHTodHKe"
   },
   "source": [
    "**Q:** Write three constraints: one enforcing that you get at least 1 mg of Thiamine, one enforcing that you\n",
    "get at least 5 mg of Niacin, and one enforcing that you get at least 400 calories. Also write constraints\n",
    "that K and C are nonnegative.\n",
    "\n",
    "**A:**"
   ]
  },
  {
   "cell_type": "markdown",
   "metadata": {
    "colab_type": "text",
    "id": "1-8WbhPwdHKf"
   },
   "source": [
    "You just wrote a linear program! In the rest of this lab, we’ll think about how to solve it using Pyomo in Python"
   ]
  },
  {
   "cell_type": "markdown",
   "metadata": {
    "colab_type": "text",
    "id": "1g0Q9MXKdHKf"
   },
   "source": [
    "## Part 2: Solving The Cereal Diet Problem"
   ]
  },
  {
   "cell_type": "markdown",
   "metadata": {
    "colab_type": "text",
    "id": "Paa8lJDldHKg"
   },
   "source": [
    "On the previous pages, you were asked to write down a mathematical formulation. In class today we saw\n",
    "that your model is actually “linear program:” it’s constraints are linear inequalities on decision variables (K\n",
    "and C), and its objective function is to minimize a linear combination of decision variables. Hopefully you\n",
    "wrote down:"
   ]
  },
  {
   "cell_type": "markdown",
   "metadata": {
    "colab_type": "text",
    "id": "TyHCL8A4dHKg"
   },
   "source": [
    "$$\n",
    "\\begin{align}\n",
    "\\min &\\quad 3.8K + 4.2C \\\\\n",
    "\\text{subject to} &\\quad 0.1K + 0.25C &\\geq 1 \\\\\n",
    "&\\quad 1K + 0.25C &\\geq 5 \\\\\n",
    "&\\quad 110K + 120C &\\geq 400 \\\\\n",
    "&\\quad 0 \\leq K, C\n",
    "\\end{align}\n",
    "$$\n"
   ]
  },
  {
   "cell_type": "markdown",
   "metadata": {
    "colab_type": "text",
    "id": "_rqAoUl5dHKg"
   },
   "source": [
    "It’s important that you have inequalities saying that you get “at least” the required nutritional value."
   ]
  },
  {
   "cell_type": "markdown",
   "metadata": {
    "colab_type": "text",
    "id": "xMvg6ar2dHKh"
   },
   "source": [
    "**Q:** The feasible region is plotted below and has three marked points. Find the coordinates of points A, B,\n",
    "and C. What is the corresponding diet at those points? What does it cost? (Hint: you already looked\n",
    "at A and C in the previous page; to find point B, you might want to note that it’s where the lines\n",
    "$0.1K + 0.25C = 1 K + 0.25C = 5$ meet.)\n",
    "\n",
    "**A:**"
   ]
  },
  {
   "cell_type": "markdown",
   "metadata": {
    "colab_type": "text",
    "id": "Zfuuiv6PdHKk"
   },
   "source": [
    "**Q:** Based on your above work, what is the optimal solution to the linear program?\n",
    "\n",
    "**A:**"
   ]
  },
  {
   "cell_type": "markdown",
   "metadata": {
    "colab_type": "text",
    "id": "ySvXkPxYdHKl"
   },
   "source": [
    "**Q:** Now let’s try and solve this toy problem in AMPL. To open AMPL:\n",
    "\n",
    "**A:**"
   ]
  },
  {
   "cell_type": "markdown",
   "metadata": {
    "colab_type": "text",
    "id": "IUWb2HxPdHKl"
   },
   "source": [
    "We will now solve this LP in Python using OR-Tools"
   ]
  },
  {
   "cell_type": "code",
   "execution_count": 2,
   "metadata": {
    "colab": {},
    "colab_type": "code",
    "id": "WLseBKIXdHKo"
   },
   "outputs": [
    {
     "name": "stdout",
     "output_type": "stream",
     "text": [
      "Objective = 26.222222222222225\n",
      "Solution:\n",
      "K : 4.444444444444445\n",
      "C : 2.2222222222222228\n"
     ]
    }
   ],
   "source": [
    "# define the model\n",
    "diet = OR.Solver('diet', OR.Solver.GLOP_LINEAR_PROGRAMMING);\n",
    "\n",
    "# decision variables\n",
    "K = diet.NumVar(0, diet.infinity(), 'K');\n",
    "C = diet.NumVar(0, diet.infinity(), 'C');\n",
    "\n",
    "# objective function\n",
    "diet.Minimize(3.8*K + 4.2*C);\n",
    "\n",
    "# constraints\n",
    "diet.Add(0.1*K + 0.25*C >= 1);\n",
    "diet.Add(1*K + 0.25*C >= 5);\n",
    "diet.Add(110*K + 120*C >= 400);\n",
    "\n",
    "# solve and print solution\n",
    "diet.Solve()\n",
    "print('Objective =', diet.Objective().Value())\n",
    "print('Solution:')\n",
    "for v in diet.variables():\n",
    "    print(v.name(),':', v.solution_value())"
   ]
  },
  {
   "cell_type": "markdown",
   "metadata": {
    "colab_type": "text",
    "id": "Ddn9DPstdHKu"
   },
   "source": [
    "**Q:** You just defined an LP model using Pyomo, solved it using a solver called gurobi, and then displayed the solutions for the variables. What did you find for $K, C$ and the total cost? Is this the same as\n",
    "above?\n",
    "\n",
    "**A:**"
   ]
  },
  {
   "cell_type": "markdown",
   "metadata": {
    "colab_type": "text",
    "id": "PwXvk7xjdHKv"
   },
   "source": [
    "**Ans:**"
   ]
  },
  {
   "cell_type": "markdown",
   "metadata": {
    "colab_type": "text",
    "id": "SsbZMnljdHKv"
   },
   "source": [
    "## 3 A More Robust Diet"
   ]
  },
  {
   "cell_type": "markdown",
   "metadata": {
    "colab_type": "text",
    "id": "edqN3cUJdHKv"
   },
   "source": [
    "Let’s now expand our diet. Instead of looking at just breakfast, we’ll allow ourselves to eat more food. The\n",
    "food options, together with the decision variable we’ll use, are:\n",
    "- Beef ($X_{beef}$ )\n",
    "- Chicken ($X_{chk}$)\n",
    "- Fish ($X_{fish}$)\n",
    "- Ham ($X_{ham}$)\n",
    "- Mac & cheese ($X_{mch}$)\n",
    "- Meat loaf ($X_{mtl}$)\n",
    "- Spaghetti ($X_{spg}$)\n",
    "- Turkey ($X_{tur}$)\n",
    "\n",
    "As before, we’ll want to minimize cost. This time, we’ll want to meet nutritional requirements for vitamins\n",
    "$A, C, B1$, and $B2$."
   ]
  },
  {
   "cell_type": "markdown",
   "metadata": {
    "colab_type": "text",
    "id": "XQ47j-wsdHKz"
   },
   "source": [
    "Costs (in dollars) and nutritional information are shown below. All costs/nutritional requirements are\n",
    "per package. The values for nutritional requirements are percents. E.g. one package of beef provides 60% of\n",
    "the daily requirement for vitamin A. In a day, you need 100% of your recommended amount of Vitamin A."
   ]
  },
  {
   "cell_type": "code",
   "execution_count": 3,
   "metadata": {
    "colab": {},
    "colab_type": "code",
    "id": "SwpgtaBxdHKz",
    "outputId": "4b96f6bf-2ba6-49a3-a789-38fa533c286d"
   },
   "outputs": [
    {
     "data": {
      "text/html": [
       "<div>\n",
       "<style scoped>\n",
       "    .dataframe tbody tr th:only-of-type {\n",
       "        vertical-align: middle;\n",
       "    }\n",
       "\n",
       "    .dataframe tbody tr th {\n",
       "        vertical-align: top;\n",
       "    }\n",
       "\n",
       "    .dataframe thead th {\n",
       "        text-align: right;\n",
       "    }\n",
       "</style>\n",
       "<table border=\"1\" class=\"dataframe\">\n",
       "  <thead>\n",
       "    <tr style=\"text-align: right;\">\n",
       "      <th></th>\n",
       "      <th>Name</th>\n",
       "      <th>Cost</th>\n",
       "      <th>Vitamin A</th>\n",
       "      <th>Vitamin C</th>\n",
       "      <th>Vitamin B1</th>\n",
       "      <th>Vitamin B2</th>\n",
       "    </tr>\n",
       "  </thead>\n",
       "  <tbody>\n",
       "    <tr>\n",
       "      <th>0</th>\n",
       "      <td>Beef</td>\n",
       "      <td>3.19</td>\n",
       "      <td>60</td>\n",
       "      <td>20</td>\n",
       "      <td>10</td>\n",
       "      <td>15</td>\n",
       "    </tr>\n",
       "    <tr>\n",
       "      <th>1</th>\n",
       "      <td>Chk</td>\n",
       "      <td>2.59</td>\n",
       "      <td>8</td>\n",
       "      <td>0</td>\n",
       "      <td>20</td>\n",
       "      <td>20</td>\n",
       "    </tr>\n",
       "    <tr>\n",
       "      <th>2</th>\n",
       "      <td>Fish</td>\n",
       "      <td>2.59</td>\n",
       "      <td>8</td>\n",
       "      <td>10</td>\n",
       "      <td>15</td>\n",
       "      <td>10</td>\n",
       "    </tr>\n",
       "    <tr>\n",
       "      <th>3</th>\n",
       "      <td>Ham</td>\n",
       "      <td>2.89</td>\n",
       "      <td>40</td>\n",
       "      <td>40</td>\n",
       "      <td>35</td>\n",
       "      <td>10</td>\n",
       "    </tr>\n",
       "    <tr>\n",
       "      <th>4</th>\n",
       "      <td>Mch</td>\n",
       "      <td>1.89</td>\n",
       "      <td>15</td>\n",
       "      <td>35</td>\n",
       "      <td>15</td>\n",
       "      <td>15</td>\n",
       "    </tr>\n",
       "    <tr>\n",
       "      <th>5</th>\n",
       "      <td>Mtl</td>\n",
       "      <td>1.99</td>\n",
       "      <td>70</td>\n",
       "      <td>30</td>\n",
       "      <td>15</td>\n",
       "      <td>15</td>\n",
       "    </tr>\n",
       "    <tr>\n",
       "      <th>6</th>\n",
       "      <td>Spg</td>\n",
       "      <td>1.99</td>\n",
       "      <td>25</td>\n",
       "      <td>50</td>\n",
       "      <td>25</td>\n",
       "      <td>15</td>\n",
       "    </tr>\n",
       "    <tr>\n",
       "      <th>7</th>\n",
       "      <td>Tur</td>\n",
       "      <td>2.49</td>\n",
       "      <td>60</td>\n",
       "      <td>20</td>\n",
       "      <td>15</td>\n",
       "      <td>10</td>\n",
       "    </tr>\n",
       "  </tbody>\n",
       "</table>\n",
       "</div>"
      ],
      "text/plain": [
       "   Name  Cost  Vitamin A  Vitamin C  Vitamin B1  Vitamin B2\n",
       "0  Beef  3.19         60         20          10          15\n",
       "1   Chk  2.59          8          0          20          20\n",
       "2  Fish  2.59          8         10          15          10\n",
       "3   Ham  2.89         40         40          35          10\n",
       "4   Mch  1.89         15         35          15          15\n",
       "5   Mtl  1.99         70         30          15          15\n",
       "6   Spg  1.99         25         50          25          15\n",
       "7   Tur  2.49         60         20          15          10"
      ]
     },
     "execution_count": 3,
     "metadata": {},
     "output_type": "execute_result"
    }
   ],
   "source": [
    "pd.read_csv('small_diet.csv')"
   ]
  },
  {
   "cell_type": "markdown",
   "metadata": {
    "colab_type": "text",
    "id": "OEhVojd5dHK1"
   },
   "source": [
    "Let’s consider the problem of minimizing cost of a diet over an entire week."
   ]
  },
  {
   "cell_type": "markdown",
   "metadata": {
    "colab_type": "text",
    "id": "crO4ob36dHK2"
   },
   "source": [
    "**Q:** Write out the objective function for this problem (which is to minimize cost).\n",
    "\n",
    "**A:**"
   ]
  },
  {
   "cell_type": "markdown",
   "metadata": {
    "colab_type": "text",
    "id": "hzMw5UAudHK2"
   },
   "source": [
    "**Q:** Write out the constraint indicating that you get enough Vitamin A in an entire week. Be careful about\n",
    "the right hand side: what percent do you need over an entire week?\n",
    "\n",
    "**A:**"
   ]
  },
  {
   "cell_type": "markdown",
   "metadata": {
    "colab_type": "text",
    "id": "fgnChTt_dHK-"
   },
   "source": [
    "**Q:** What solution does it give? How much does it cost, which food(s) do we eat, and how much of those food(s) do we eat?\n",
    "\n",
    "**A:**"
   ]
  },
  {
   "cell_type": "markdown",
   "metadata": {
    "colab_type": "text",
    "id": "5NvyOb0pdHK_"
   },
   "source": [
    "**Q:** Does the diet seem reasonable?\n",
    "\n",
    "**A:**"
   ]
  },
  {
   "cell_type": "markdown",
   "metadata": {
    "colab_type": "text",
    "id": "CVHGZzFPdHLA"
   },
   "source": [
    "Let’s add a constraint capping the maximum amount of mac and cheese we eat at 20 servings. (some explanation of how to do this ...)"
   ]
  },
  {
   "cell_type": "markdown",
   "metadata": {
    "colab_type": "text",
    "id": "VIr8EbpMdHLK"
   },
   "source": [
    "**Q:** What is the new solution? How much more expensive is it? Does it seem healthier?\n",
    "\n",
    "**A:**"
   ]
  },
  {
   "cell_type": "markdown",
   "metadata": {
    "colab_type": "text",
    "id": "MDNKbliNdHLK"
   },
   "source": [
    "**Q:** Suppose you wanted to add in 3 more food options (soylent, snickers, and coffee) and 10 more con-\n",
    "straints (on vitamins B3, B5, B6, B9, B12, D, E, and K; on Sodium; and on the most important vitamin of all, caffeine). Or suppose that I asked you to instead do this problem with bread, meat,\n",
    "potatoes, cabbage, milk, and gelatin. Write 2-3 sentences actually explaining what you’d have to do\n",
    "in each of these two settings. Also briefly describe how tedious of a process it would be to edit this\n",
    "model. Colorful (but not vulgar) language, metaphors, and famous quotes are all appropriate.\n",
    "\n",
    "**A:**"
   ]
  },
  {
   "cell_type": "markdown",
   "metadata": {
    "colab_type": "text",
    "id": "CJtBX9gHdHLL"
   },
   "source": [
    "## Model And Data"
   ]
  },
  {
   "cell_type": "code",
   "execution_count": 4,
   "metadata": {},
   "outputs": [],
   "source": [
    "def Diet(foods, nutrients, integer=False):\n",
    "    \"\"\"Classic Diet Problem Model.\n",
    "    \n",
    "    Args:\n",
    "        foods (pd.DataFrame): Foods with cost per serving and nutrients per serving.\n",
    "        nutrients (pd.DataFrame): Nutrients with min and max bounds.\n",
    "    \"\"\"\n",
    "    FOODS = list(foods.index)                                 # foods\n",
    "    NUTRIENTS = list(nutrients.index)                         # nutrients\n",
    "    c = foods['Cost'].to_dict()                               # cost per serving of food \n",
    "    f_min = foods['Min'].to_dict()                            # lower bound of food serving\n",
    "    f_max = foods['Max'].to_dict()                            # upper bound of food serving\n",
    "    n_min = nutrients['Min'].to_dict()                        # lower bound of nutrient\n",
    "    n_max = nutrients['Max'].to_dict()                        # upper bound of nutrient  \n",
    "    a = foods[list(nutrients.index)].transpose().to_dict()    # amt of nutrients per serving of food\n",
    "    \n",
    "    # define model\n",
    "    m = OR.Solver('diet', OR.Solver.CBC_MIXED_INTEGER_PROGRAMMING)\n",
    "    \n",
    "    # decision variables\n",
    "    x = {}    \n",
    "    for i in FOODS:\n",
    "        if integer:\n",
    "            x[i] = m.IntVar(f_min[i], f_max[i], 'x_%s' % (i)) \n",
    "        else:\n",
    "            x[i] = m.NumVar(f_min[i], f_max[i], 'x_%s' % (i)) \n",
    "        \n",
    "    # define objective function here\n",
    "    m.Minimize(sum(c[i]*x[i] for i in FOODS))\n",
    "    \n",
    "    # enforce lower and upper bound on nutrients \n",
    "    for j in NUTRIENTS:\n",
    "        m.Add(sum(a[i][j]*x[i] for i in FOODS) >= n_min[j])\n",
    "        m.Add(sum(a[i][j]*x[i] for i in FOODS) <= n_max[j])\n",
    "        \n",
    "    return (m, x)  # return the model and the decision variables"
   ]
  },
  {
   "cell_type": "code",
   "execution_count": 5,
   "metadata": {},
   "outputs": [],
   "source": [
    "# You do not need to do anything with this cell but make sure you run it!\n",
    "def solve(m):\n",
    "    \"\"\"Used to solve a model m.\"\"\"\n",
    "    m.Solve()\n",
    "    \n",
    "    print('Objective =', m.Objective().Value())    \n",
    "    return {var.name() : var.solution_value() for var in m.variables()}"
   ]
  },
  {
   "cell_type": "code",
   "execution_count": 6,
   "metadata": {},
   "outputs": [],
   "source": [
    "foods = pd.read_csv('neos_foods.csv', index_col=0)\n",
    "nutrients = pd.read_csv('neos_nutrients.csv', index_col=0)"
   ]
  },
  {
   "cell_type": "code",
   "execution_count": 7,
   "metadata": {},
   "outputs": [
    {
     "name": "stdout",
     "output_type": "stream",
     "text": [
      "Objective = 0.9560078273216122\n"
     ]
    },
    {
     "data": {
      "text/plain": [
       "{'x_Frozen Broccoli': 0.0,\n",
       " 'x_Carrots, Raw': 0.23581781088978732,\n",
       " 'x_Celery, Raw': 0.0,\n",
       " 'x_Frozen Corn': 0.0,\n",
       " 'x_Lettuce, Iceberg,Raw': 0.0,\n",
       " 'x_Peppers, Sweet, Raw': 0.0,\n",
       " 'x_Potatoes, Baked': 3.5449447765210538,\n",
       " 'x_Tofu': 0.0,\n",
       " 'x_Roasted Chicken': 0.0,\n",
       " 'x_Spaghetti W/ Sauce': 0.0,\n",
       " 'x_Tomato,Red,Ripe,Raw': 0.0,\n",
       " 'x_Apple, Raw, w/Skin': 0.0,\n",
       " 'x_Banana': 0.0,\n",
       " 'x_Grapes': 0.0,\n",
       " 'x_Kiwifruit, Raw, Fresh': 0.0,\n",
       " 'x_Oranges': 0.0,\n",
       " 'x_Bagels': 0.0,\n",
       " 'x_Wheat Bread': 0.0,\n",
       " 'x_White Bread': 0.0,\n",
       " 'x_Oatmeal Cookies': 0.0,\n",
       " 'x_Apple Pie': 0.0,\n",
       " 'x_Chocolate Chip Cookies': 0.0,\n",
       " 'x_Butter, Regular': 0.0,\n",
       " 'x_Cheddar Cheese': 0.0,\n",
       " 'x_3.3% Fat, Whole Milk': 0.0,\n",
       " 'x_2% Lowfat Milk': 0.0,\n",
       " 'x_Skim Milk': 2.167849362594859,\n",
       " 'x_Poached Eggs': 0.0,\n",
       " 'x_Scrambled Eggs': 0.0,\n",
       " 'x_Bologna, Turkey': 0.0,\n",
       " 'x_Frankfurter, Beef': 0.0,\n",
       " 'x_Ham, Sliced, Extralean': 0.0,\n",
       " 'x_Kielbasa, Pork': 0.0,\n",
       " \"x_Cap'N Crunch\": 0.0,\n",
       " 'x_Cheerios': 0.0,\n",
       " \"x_Corn Flakes, Kellogg'S\": 0.0,\n",
       " \"x_Raisin Bran, Kellogg'S\": 0.0,\n",
       " 'x_Rice Krispies': 0.0,\n",
       " 'x_Special K': 0.0,\n",
       " 'x_Oatmeal': 0.0,\n",
       " 'x_Malt-O-Meal, Choc': 0.0,\n",
       " 'x_Pizza w/Pepperoni': 0.0,\n",
       " 'x_Hamburger w/Toppings': 0.0,\n",
       " 'x_Hotdog, Plain': 0.0,\n",
       " 'x_Couscous': 0.0,\n",
       " 'x_Macaroni, cooked': 0.0,\n",
       " 'x_Peanut Butter': 3.6007759146508564,\n",
       " 'x_Pork': 0.0,\n",
       " 'x_Sardines in Oil': 0.0,\n",
       " 'x_White Tuna in Water': 0.0,\n",
       " 'x_Popcorn, Air-Popped': 4.823229070129304,\n",
       " 'x_Potato Chips, BBQ': 0.0,\n",
       " 'x_Pretzels': 0.0,\n",
       " 'x_Tortilla Chips': 0.0,\n",
       " 'x_Chicken Noodle Soup': 0.0,\n",
       " 'x_Splt Pea&Ham Soup': 0.0,\n",
       " 'x_Veggie Beef Soup': 0.0,\n",
       " 'x_New Eng Clam Chwd': 0.0,\n",
       " 'x_Tomato Soup': 0.0,\n",
       " 'x_New Eng Clam Chwd, w/Mlk': 0.0,\n",
       " 'x_Crm Mshrm Soup, w/Mlk': 0.0,\n",
       " 'x_Bean Bacon Soup, w/Watr': 0.0}"
      ]
     },
     "execution_count": 7,
     "metadata": {},
     "output_type": "execute_result"
    }
   ],
   "source": [
    "m,x = Diet(foods, nutrients)\n",
    "solve(m)"
   ]
  },
  {
   "cell_type": "code",
   "execution_count": 8,
   "metadata": {},
   "outputs": [],
   "source": [
    "foods = pd.read_csv('small_diet.csv').set_index('Name')\n",
    "foods['Min'] = 0\n",
    "foods['Max'] = float('inf')\n",
    "nutrients = pd.DataFrame(index=['Vitamin A', 'Vitamin C',\n",
    "                                'Vitamin B1', 'Vitamin B2'])\n",
    "nutrients['Min']= 700 # 100% over an entire week (7 days)\n",
    "nutrients['Max']= float('inf')"
   ]
  },
  {
   "cell_type": "code",
   "execution_count": 9,
   "metadata": {},
   "outputs": [
    {
     "name": "stdout",
     "output_type": "stream",
     "text": [
      "Objective = 88.2\n"
     ]
    },
    {
     "data": {
      "text/plain": [
       "{'x_Beef': 0.0,\n",
       " 'x_Chk': 0.0,\n",
       " 'x_Fish': 0.0,\n",
       " 'x_Ham': 0.0,\n",
       " 'x_Mch': 46.66666666666667,\n",
       " 'x_Mtl': 0.0,\n",
       " 'x_Spg': 0.0,\n",
       " 'x_Tur': 0.0}"
      ]
     },
     "execution_count": 9,
     "metadata": {},
     "output_type": "execute_result"
    }
   ],
   "source": [
    "m,x = Diet(foods, nutrients)\n",
    "solve(m)"
   ]
  },
  {
   "cell_type": "code",
   "execution_count": 10,
   "metadata": {},
   "outputs": [
    {
     "name": "stdout",
     "output_type": "stream",
     "text": [
      "Objective = 89.778125\n"
     ]
    },
    {
     "data": {
      "text/plain": [
       "{'x_Beef': 0.0,\n",
       " 'x_Chk': 17.187500000000004,\n",
       " 'x_Fish': 0.0,\n",
       " 'x_Ham': 0.0,\n",
       " 'x_Mch': 19.999999999999996,\n",
       " 'x_Mtl': 3.7500000000000004,\n",
       " 'x_Spg': 0.0,\n",
       " 'x_Tur': 0.0}"
      ]
     },
     "execution_count": 10,
     "metadata": {},
     "output_type": "execute_result"
    }
   ],
   "source": [
    "m,x = Diet(foods, nutrients)\n",
    "m.Add(x['Mch'] <= 20)\n",
    "solve(m)"
   ]
  }
 ],
 "metadata": {
  "colab": {
   "name": "FA 2019 Lab 8 (Python Demo).ipynb",
   "provenance": []
  },
  "kernelspec": {
   "display_name": "Python 3",
   "language": "python",
   "name": "python3"
  },
  "language_info": {
   "codemirror_mode": {
    "name": "ipython",
    "version": 3
   },
   "file_extension": ".py",
   "mimetype": "text/x-python",
   "name": "python",
   "nbconvert_exporter": "python",
   "pygments_lexer": "ipython3",
   "version": "3.6.10"
  }
 },
 "nbformat": 4,
 "nbformat_minor": 1
}
