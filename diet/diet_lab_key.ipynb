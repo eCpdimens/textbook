{
 "cells": [
  {
   "cell_type": "markdown",
   "metadata": {
    "colab_type": "text",
    "id": "KLc2I9kCdHKX"
   },
   "source": [
    "# Diet Lab\n",
    "Based on chapter 2 of the AMPL book and section 6.2 of *Decision Making, Models and Algorithms: A First Course* by Saul I. Gass."
   ]
  },
  {
   "cell_type": "markdown",
   "metadata": {
    "colab_type": "text",
    "id": "rxIJwDNtdHKX"
   },
   "source": [
    "**Objectives**\n",
    "- Introduce an historically important linear program\n",
    "- Think about solving linear programs and tweaking solutions\n",
    "- Demonstrate the idea of sensitivity analysis in linear programming\n",
    "\n",
    "**Brief description:** In this lab we will consider one of the most famous (and one of the earliest) appli-\n",
    "cations of linear programming — the diet problem.\n",
    "\n",
    "<font color='blue'> <b>Solutions are shown blue.</b> </font> <br>\n",
    "<font color='red'> <b>Instuctor comments are shown in red.</b> </font>"
   ]
  },
  {
   "cell_type": "code",
   "execution_count": 1,
   "metadata": {
    "colab": {},
    "colab_type": "code",
    "id": "VfxPx35ndHKT"
   },
   "outputs": [],
   "source": [
    "# imports -- don't forget to run this cell\n",
    "import pandas as pd\n",
    "from IPython.display import Image\n",
    "from ortools.linear_solver import pywraplp as OR"
   ]
  },
  {
   "cell_type": "markdown",
   "metadata": {
    "colab_type": "text",
    "id": "qEkU8S5udHKY"
   },
   "source": [
    "## Part 1: The Diet Problem"
   ]
  },
  {
   "cell_type": "markdown",
   "metadata": {
    "colab_type": "text",
    "id": "I5TdgUljdHKY"
   },
   "source": [
    "Suppose that you have a choice of two cereals for breakfast: Krunchies (K) or Crispies (C). Breakfast is the\n",
    "most important meal of the day, so you want to make sure you get sufficient Thiamine, Niacin, and caloric\n",
    "intake for breakfast. Being a college student, you want to do so as cheaply as possible – taste gets thrown\n",
    "into the wind! Price and nutritional info for these two cereals is summarized in the two tables below:"
   ]
  },
  {
   "cell_type": "code",
   "execution_count": 2,
   "metadata": {},
   "outputs": [],
   "source": [
    "# Create the two tables\n",
    "nutrients = pd.DataFrame([{'Name':'Thiamine', 'Min':1},\n",
    "                          {'Name':'Niacin', 'Min':5},\n",
    "                          {'Name':'Calories', 'Min':400}]).set_index('Name')\n",
    "cereals = pd.DataFrame([{'Name':'Krunchies', 'Cost':3.80, 'Thiamine':0.1, 'Niacin':1.0, 'Calories':110},\n",
    "                        {'Name':'Crispies', 'Cost':4.20, 'Thiamine':0.25, 'Niacin':0.25, 'Calories':120}])\n",
    "cereals = cereals.set_index('Name')"
   ]
  },
  {
   "cell_type": "code",
   "execution_count": 3,
   "metadata": {},
   "outputs": [
    {
     "data": {
      "text/html": [
       "<div>\n",
       "<style scoped>\n",
       "    .dataframe tbody tr th:only-of-type {\n",
       "        vertical-align: middle;\n",
       "    }\n",
       "\n",
       "    .dataframe tbody tr th {\n",
       "        vertical-align: top;\n",
       "    }\n",
       "\n",
       "    .dataframe thead th {\n",
       "        text-align: right;\n",
       "    }\n",
       "</style>\n",
       "<table border=\"1\" class=\"dataframe\">\n",
       "  <thead>\n",
       "    <tr style=\"text-align: right;\">\n",
       "      <th></th>\n",
       "      <th>Cost</th>\n",
       "      <th>Thiamine</th>\n",
       "      <th>Niacin</th>\n",
       "      <th>Calories</th>\n",
       "    </tr>\n",
       "    <tr>\n",
       "      <th>Name</th>\n",
       "      <th></th>\n",
       "      <th></th>\n",
       "      <th></th>\n",
       "      <th></th>\n",
       "    </tr>\n",
       "  </thead>\n",
       "  <tbody>\n",
       "    <tr>\n",
       "      <th>Krunchies</th>\n",
       "      <td>3.8</td>\n",
       "      <td>0.10</td>\n",
       "      <td>1.00</td>\n",
       "      <td>110</td>\n",
       "    </tr>\n",
       "    <tr>\n",
       "      <th>Crispies</th>\n",
       "      <td>4.2</td>\n",
       "      <td>0.25</td>\n",
       "      <td>0.25</td>\n",
       "      <td>120</td>\n",
       "    </tr>\n",
       "  </tbody>\n",
       "</table>\n",
       "</div>"
      ],
      "text/plain": [
       "           Cost  Thiamine  Niacin  Calories\n",
       "Name                                       \n",
       "Krunchies   3.8      0.10    1.00       110\n",
       "Crispies    4.2      0.25    0.25       120"
      ]
     },
     "metadata": {},
     "output_type": "display_data"
    },
    {
     "data": {
      "text/html": [
       "<div>\n",
       "<style scoped>\n",
       "    .dataframe tbody tr th:only-of-type {\n",
       "        vertical-align: middle;\n",
       "    }\n",
       "\n",
       "    .dataframe tbody tr th {\n",
       "        vertical-align: top;\n",
       "    }\n",
       "\n",
       "    .dataframe thead th {\n",
       "        text-align: right;\n",
       "    }\n",
       "</style>\n",
       "<table border=\"1\" class=\"dataframe\">\n",
       "  <thead>\n",
       "    <tr style=\"text-align: right;\">\n",
       "      <th></th>\n",
       "      <th>Min</th>\n",
       "    </tr>\n",
       "    <tr>\n",
       "      <th>Name</th>\n",
       "      <th></th>\n",
       "    </tr>\n",
       "  </thead>\n",
       "  <tbody>\n",
       "    <tr>\n",
       "      <th>Thiamine</th>\n",
       "      <td>1</td>\n",
       "    </tr>\n",
       "    <tr>\n",
       "      <th>Niacin</th>\n",
       "      <td>5</td>\n",
       "    </tr>\n",
       "    <tr>\n",
       "      <th>Calories</th>\n",
       "      <td>400</td>\n",
       "    </tr>\n",
       "  </tbody>\n",
       "</table>\n",
       "</div>"
      ],
      "text/plain": [
       "          Min\n",
       "Name         \n",
       "Thiamine    1\n",
       "Niacin      5\n",
       "Calories  400"
      ]
     },
     "metadata": {},
     "output_type": "display_data"
    }
   ],
   "source": [
    "display(cereals)\n",
    "display(nutrients)"
   ]
  },
  {
   "cell_type": "markdown",
   "metadata": {
    "colab_type": "text",
    "id": "8HiPUTRPdHKc"
   },
   "source": [
    "**Q1:** Suppose you just ate Krunchies. How many ounces of Krunchies would you need to eat to satisfy the\n",
    "three nutritional requirements? How much would this cost?\n",
    "\n",
    "**A:** <font color='blue'>10 ounces to meet Thiamine requirement. 5 ounces to meet Niacin requirement. 3.636 ounces to satisfy Calories requirement. Hence, 10 ounces to satisfy all three. </font>"
   ]
  },
  {
   "cell_type": "markdown",
   "metadata": {
    "colab_type": "text",
    "id": "bwSTz0CFdHKc"
   },
   "source": [
    "**Q2:** Suppose you just ate Crispies. How many ounces of Crispies would you need to eat to satisfy the three\n",
    "nutritional requirements? How much would this cost?\n",
    "\n",
    "**A:** <font color='blue'>4 ounces to meet Thiamine requirement. 20 ounces to meet Niacin requirement. 3.333 ounces to satisfy Calories requirement. Hence, 20 ounces to satisfy all three. </font>"
   ]
  },
  {
   "cell_type": "markdown",
   "metadata": {
    "colab_type": "text",
    "id": "iNJGdWnCdHKd"
   },
   "source": [
    "**Q3:** Now let’s write an optimization problem to model this problem. Let $K$ be a decision variable for the amount of Krunchies you eat and $C$ be a decision variable for the amount of Crispies you eat. Write an objective function, encoding that you minimize total cost (as a function of $K$ and $C$).\n",
    "\n",
    "**A:** <font color='blue'> $\\min 3.8K + 4.2C$ </font>"
   ]
  },
  {
   "cell_type": "markdown",
   "metadata": {
    "colab_type": "text",
    "id": "t9d6CHTodHKe"
   },
   "source": [
    "**Q4:** Write three constraints: one enforcing that you get at least 1 mg of Thiamine, one enforcing that you\n",
    "get at least 5 mg of Niacin, and one enforcing that you get at least 400 calories. Also write constraints\n",
    "that $K$ and $C$ are nonnegative.\n",
    "\n",
    "**A: <font color='blue'> $$0.1K + 0.25C \\geq 1$$ \n",
    "$$1K + 0.25C \\geq 5$$ \n",
    "$$110K + 120C \\geq 400$$** </font>"
   ]
  },
  {
   "cell_type": "markdown",
   "metadata": {},
   "source": [
    "**Q5:** Implement this model in OR-Tools. The basic structure has been given to you."
   ]
  },
  {
   "cell_type": "code",
   "execution_count": 4,
   "metadata": {},
   "outputs": [
    {
     "name": "stdout",
     "output_type": "stream",
     "text": [
      "Objective = 26.22222222222222\n",
      "Solution:\n",
      "K : 4.444444444444445\n",
      "C : 2.2222222222222223\n"
     ]
    }
   ],
   "source": [
    "# define the model\n",
    "m = OR.Solver('diet', OR.Solver.CLP_LINEAR_PROGRAMMING);\n",
    "\n",
    "# TODO: Define the decision variables.\n",
    "# m.NumVar(lower_bound, upper_bound, name)\n",
    "# If you want to use infinity as a bound, you can use m.infinity()\n",
    "\n",
    "# SOLUTION \n",
    "K = m.NumVar(0, m.infinity(), 'K');\n",
    "C = m.NumVar(0, m.infinity(), 'C');\n",
    "\n",
    "# TODO: Define the objective function.\n",
    "# m.Minimize() or m.Maximize()\n",
    "\n",
    "# SOLUTION \n",
    "m.Minimize(3.8*K + 4.2*C);\n",
    "\n",
    "# TODO: Define the constraints.\n",
    "# m.Add()\n",
    "\n",
    "# SOLUTION \n",
    "m.Add(0.1*K + 0.25*C >= 1);\n",
    "m.Add(1*K + 0.25*C >= 5);\n",
    "m.Add(110*K + 120*C >= 400);\n",
    "\n",
    "# Solve and print solution\n",
    "m.Solve()\n",
    "print('Objective =', m.Objective().Value())\n",
    "print('Solution:')\n",
    "for v in m.variables():\n",
    "    print(v.name(),':', v.solution_value())"
   ]
  },
  {
   "cell_type": "markdown",
   "metadata": {},
   "source": [
    "## Part 2: Generalizing the Diet Problem"
   ]
  },
  {
   "cell_type": "markdown",
   "metadata": {},
   "source": [
    "We now know that if we expect to live a long and healthy life, we must have a well-balanced diet. Too much fat or sodium in our diet can lead to serious health problems. Similarly, diets deficient in essential vitamins and minerals should be avoided. \n",
    "\n",
    "This part of this lab is aimed at helping you to formulate this problem as a linear programming problem. We can view the diet problem in the following way. We are given a variety of foods that we could buy to achieve a balanced diet. For example, we might consider diet consisting of 2% milk, spaghetti (with sauce), peanut butter, wheat bread, tomato soup, and bagels. To make things simpler, we will specify the variables of this linear programming formulation. We will use $x$_$\\textit{(food-type)}$ to specify the number of daily servings of food-type that you are willing to consume. First of all, we wish to write constraints that capture whether one can satisfy certain daily requirements with just these foods."
   ]
  },
  {
   "cell_type": "markdown",
   "metadata": {},
   "source": [
    "**Q:** Write constraints that ensure that the diet specifies that we eat at most 10 servings/day of each food-type (We can call this the boredom constraint).\n",
    "\n",
    "**A:** <font color='blue'> Let $F$ be the set of foods. We have $x_i \\leq 10$ for $i \\in F$. </font>"
   ]
  },
  {
   "cell_type": "markdown",
   "metadata": {},
   "source": [
    "Next consider the total number of calories consumed. A proper diet requires that you consume between 2000 and 2250 calories per day. "
   ]
  },
  {
   "cell_type": "markdown",
   "metadata": {},
   "source": [
    "**Q:** Write two constraints that ensure that the diet specifies that we eat an appropriate number of total calories. To write this constraint you need to know how many calories are in one serving of each of the food-types. Let $a_{ij}$ be the amount of nutrient $j$ in food $i$.\n",
    "\n",
    "**A:**  <font color='blue'> $\\sum_{i\\in F} a_{ij}x_i \\geq 2000$ and $\\sum_{i\\in F} a_{ij}x_i \\leq 2250$ where $j$ = calories.</font>"
   ]
  },
  {
   "cell_type": "markdown",
   "metadata": {},
   "source": [
    "Of course, we could repeat this sort of constraint with any number of nutrient requirement, such as cholesterol, fat, sodium, dietary fiber, carbohydrates, protein, vitamin A, vitamin C, calcium, and iron."
   ]
  },
  {
   "cell_type": "markdown",
   "metadata": {},
   "source": [
    "**Q:** The objective function is to minimize the cost of each day’s diet. Express this objective function in terms of the decision variables, given that $c_i$ is the cost of one serving of food $i$.\n",
    "\n",
    "**A:** <font color='blue'> $\\min \\sum_{i\\in F} c_ix_i$ </font>"
   ]
  },
  {
   "cell_type": "markdown",
   "metadata": {},
   "source": [
    "**Q:** What does it mean if your linear program for this diet problem is infeasible?\n",
    "\n",
    "**A:**"
   ]
  },
  {
   "cell_type": "markdown",
   "metadata": {},
   "source": [
    "**Q:** How might you correct this?\n",
    "    \n",
    "**A:**"
   ]
  },
  {
   "cell_type": "markdown",
   "metadata": {},
   "source": [
    "Let's use OR-Tools to implement this generalized diet problem model!"
   ]
  },
  {
   "cell_type": "markdown",
   "metadata": {},
   "source": [
    "**Q:** Complete the model below."
   ]
  },
  {
   "cell_type": "code",
   "execution_count": 5,
   "metadata": {},
   "outputs": [],
   "source": [
    "def Diet(foods, nutrients, integer=False):\n",
    "    \"\"\"Classic Diet Problem Model.\n",
    "    \n",
    "    Args:\n",
    "        foods (pd.DataFrame): Foods with cost per serving and nutrients per serving.\n",
    "        nutrients (pd.DataFrame): Nutrients with min and max bounds.\n",
    "    \"\"\"\n",
    "    FOODS = list(foods.index)                                 # foods\n",
    "    NUTRIENTS = list(nutrients.index)                         # nutrients\n",
    "    c = foods['Cost'].to_dict()                               # cost per serving of food \n",
    "    f_min = foods['Min'].to_dict()                            # lower bound of food serving\n",
    "    f_max = foods['Max'].to_dict()                            # upper bound of food serving\n",
    "    n_min = nutrients['Min'].to_dict()                        # lower bound of nutrient\n",
    "    n_max = nutrients['Max'].to_dict()                        # upper bound of nutrient  \n",
    "    a = foods[list(nutrients.index)].transpose().to_dict()    # amt of nutrients per serving of food\n",
    "    \n",
    "    # define model\n",
    "    if integer:\n",
    "        m = OR.Solver('diet', OR.Solver.CBC_MIXED_INTEGER_PROGRAMMING)\n",
    "    else:\n",
    "        m = OR.Solver('diet', OR.Solver.CLP_LINEAR_PROGRAMMING)\n",
    "        \n",
    "    # decision variables\n",
    "    x = {}    \n",
    "    for i in FOODS:\n",
    "        if integer:\n",
    "            x[i] = m.IntVar(0, m.infinity(), 'x_%s' % (i)) \n",
    "        else:\n",
    "            x[i] = m.NumVar(0, m.infinity(), 'x_%s' % (i)) \n",
    "        \n",
    "    # define objective function here\n",
    "    m.Minimize(sum(c[i]*x[i] for i in FOODS))\n",
    "    \n",
    "    # enforce lower and upper bound on food servings\n",
    "    for i in FOODS:\n",
    "        m.Add(x[i] >= f_min[i], name='lb_%s' % (i))\n",
    "        m.Add(x[i] <= f_max[i], name='ub_%s' % (i))\n",
    "    \n",
    "    # enforce lower and upper bound on nutrients \n",
    "    for j in NUTRIENTS:\n",
    "        m.Add(sum(a[i][j]*x[i] for i in FOODS) >= n_min[j], name='lb_%s' % (j))\n",
    "        m.Add(sum(a[i][j]*x[i] for i in FOODS) <= n_max[j], name='ub_%s' % (j))\n",
    "        \n",
    "    return (m, x)  # return the model and the decision variables"
   ]
  },
  {
   "cell_type": "code",
   "execution_count": 6,
   "metadata": {},
   "outputs": [],
   "source": [
    "# You do not need to do anything with this cell but make sure you run it!\n",
    "def solve(m):\n",
    "    \"\"\"Used to solve a model m.\"\"\"\n",
    "    m.Solve()\n",
    "    \n",
    "    print('Objective =', m.Objective().Value())    \n",
    "    return {var.name() : var.solution_value() for var in m.variables()}"
   ]
  },
  {
   "cell_type": "markdown",
   "metadata": {},
   "source": [
    "Use this model to solve the cereal model. Add question about how to modify input to do this."
   ]
  },
  {
   "cell_type": "code",
   "execution_count": 7,
   "metadata": {},
   "outputs": [
    {
     "data": {
      "text/html": [
       "<div>\n",
       "<style scoped>\n",
       "    .dataframe tbody tr th:only-of-type {\n",
       "        vertical-align: middle;\n",
       "    }\n",
       "\n",
       "    .dataframe tbody tr th {\n",
       "        vertical-align: top;\n",
       "    }\n",
       "\n",
       "    .dataframe thead th {\n",
       "        text-align: right;\n",
       "    }\n",
       "</style>\n",
       "<table border=\"1\" class=\"dataframe\">\n",
       "  <thead>\n",
       "    <tr style=\"text-align: right;\">\n",
       "      <th></th>\n",
       "      <th>Cost</th>\n",
       "      <th>Thiamine</th>\n",
       "      <th>Niacin</th>\n",
       "      <th>Calories</th>\n",
       "    </tr>\n",
       "    <tr>\n",
       "      <th>Name</th>\n",
       "      <th></th>\n",
       "      <th></th>\n",
       "      <th></th>\n",
       "      <th></th>\n",
       "    </tr>\n",
       "  </thead>\n",
       "  <tbody>\n",
       "    <tr>\n",
       "      <th>Krunchies</th>\n",
       "      <td>3.8</td>\n",
       "      <td>0.10</td>\n",
       "      <td>1.00</td>\n",
       "      <td>110</td>\n",
       "    </tr>\n",
       "    <tr>\n",
       "      <th>Crispies</th>\n",
       "      <td>4.2</td>\n",
       "      <td>0.25</td>\n",
       "      <td>0.25</td>\n",
       "      <td>120</td>\n",
       "    </tr>\n",
       "  </tbody>\n",
       "</table>\n",
       "</div>"
      ],
      "text/plain": [
       "           Cost  Thiamine  Niacin  Calories\n",
       "Name                                       \n",
       "Krunchies   3.8      0.10    1.00       110\n",
       "Crispies    4.2      0.25    0.25       120"
      ]
     },
     "metadata": {},
     "output_type": "display_data"
    },
    {
     "data": {
      "text/html": [
       "<div>\n",
       "<style scoped>\n",
       "    .dataframe tbody tr th:only-of-type {\n",
       "        vertical-align: middle;\n",
       "    }\n",
       "\n",
       "    .dataframe tbody tr th {\n",
       "        vertical-align: top;\n",
       "    }\n",
       "\n",
       "    .dataframe thead th {\n",
       "        text-align: right;\n",
       "    }\n",
       "</style>\n",
       "<table border=\"1\" class=\"dataframe\">\n",
       "  <thead>\n",
       "    <tr style=\"text-align: right;\">\n",
       "      <th></th>\n",
       "      <th>Min</th>\n",
       "    </tr>\n",
       "    <tr>\n",
       "      <th>Name</th>\n",
       "      <th></th>\n",
       "    </tr>\n",
       "  </thead>\n",
       "  <tbody>\n",
       "    <tr>\n",
       "      <th>Thiamine</th>\n",
       "      <td>1</td>\n",
       "    </tr>\n",
       "    <tr>\n",
       "      <th>Niacin</th>\n",
       "      <td>5</td>\n",
       "    </tr>\n",
       "    <tr>\n",
       "      <th>Calories</th>\n",
       "      <td>400</td>\n",
       "    </tr>\n",
       "  </tbody>\n",
       "</table>\n",
       "</div>"
      ],
      "text/plain": [
       "          Min\n",
       "Name         \n",
       "Thiamine    1\n",
       "Niacin      5\n",
       "Calories  400"
      ]
     },
     "metadata": {},
     "output_type": "display_data"
    }
   ],
   "source": [
    "display(cereals)\n",
    "display(nutrients)"
   ]
  },
  {
   "cell_type": "code",
   "execution_count": 8,
   "metadata": {},
   "outputs": [],
   "source": [
    "cereals['Min'] = 0 \n",
    "cereals['Max'] = float('inf') \n",
    "nutrients['Max'] = float('inf') "
   ]
  },
  {
   "cell_type": "code",
   "execution_count": 9,
   "metadata": {},
   "outputs": [
    {
     "name": "stdout",
     "output_type": "stream",
     "text": [
      "Objective = 26.22222222222222\n"
     ]
    },
    {
     "data": {
      "text/plain": [
       "{'x_Krunchies': 4.444444444444445, 'x_Crispies': 2.2222222222222223}"
      ]
     },
     "execution_count": 9,
     "metadata": {},
     "output_type": "execute_result"
    }
   ],
   "source": [
    "m,x = Diet(cereals, nutrients)\n",
    "solve(m)"
   ]
  },
  {
   "cell_type": "markdown",
   "metadata": {},
   "source": [
    "## Part 3: Solving the Diet Problem"
   ]
  },
  {
   "cell_type": "markdown",
   "metadata": {},
   "source": [
    "You will use an interactive program for the diet problem which was developed at Argonne National Labs. Open a browser and go to the URL,\n",
    "   http://www.neos-guide.org/NEOS/index.php/Diet_Problem_Demo\n",
    "Click on the link to the “case study” in the first line of this wiki page. Read the entry on the history of the diet problem first."
   ]
  },
  {
   "cell_type": "markdown",
   "metadata": {},
   "source": [
    "**Q:** Now return to the wiki page, and submit a selection of foods for your diet. In particular, try clicking on the set of food-types that were mentioned above as a starter set of food-types. You will see that there is no feasible solution. Take a look at the specifics of the nutrient requirements and the nutrient contents, and try to understand why there is no feasible solution. What do think caused it to be infeasible? (I don’t know of a simple answer to this.)\n",
    "\n",
    "**A:**"
   ]
  },
  {
   "cell_type": "markdown",
   "metadata": {},
   "source": [
    "**Q:** Now consider a much wider set of food-types. First try the “Default” set of foods. What is the solution found by the algorithm?\n",
    "\n",
    "**A:**"
   ]
  },
  {
   "cell_type": "markdown",
   "metadata": {},
   "source": [
    "**Q:** How many different food-types are included in this diet? Check this carefully. Is this surprising to you? How much does this diet cost?\n",
    "\n",
    "**A:**"
   ]
  },
  {
   "cell_type": "markdown",
   "metadata": {},
   "source": [
    "**Q:** Now view the summary of the “dual and constraint information”. These tables indicate how much of each nutrient you will actually consume. For which nutrients are you at your upper limit? Such a constraint is said to be tight.\n",
    "\n",
    "**A:**"
   ]
  },
  {
   "cell_type": "markdown",
   "metadata": {},
   "source": [
    "**Q:** For which are you at your lower limit? (That is, which lower limits are tight?)\n",
    "\n",
    "**A:**"
   ]
  },
  {
   "cell_type": "markdown",
   "metadata": {},
   "source": [
    "**Q:** Are any of the minimum and maximum number of serving constraints tight?\n",
    "\n",
    "**A:**"
   ]
  },
  {
   "cell_type": "markdown",
   "metadata": {},
   "source": [
    "**Q:** You should have included carbohydrates in the list of nutrients that is at its upper limit in your diet. Make a note of the dual cost for the upper bound on carbohydrates. Suppose you increase the allowance for carbohydrates to 305 grams. (This requires returning to the food selection table, and checking that you want to edit the requirements.) How does the optimal diet change? By how much does its cost change?\n",
    "\n",
    "**A:**"
   ]
  },
  {
   "cell_type": "markdown",
   "metadata": {},
   "source": [
    "**Q:** Now return to the dual and constraint information. The “dual cost” for carbohydrates is given there. This information can be used in the following way. Suppose that a dual cost for a particular nutrient is −c , (i.e., it is negative). Now suppose that we may have one more unit of this nutrient in our diet, and when we find the optimal solution for this modified data, the foods that make up the optimal diet are unchanged. First of all, how does the cost of the optimal solution to the new data compare to the optimal solution to the original data? Why?\n",
    "\n",
    "**A:**"
   ]
  },
  {
   "cell_type": "markdown",
   "metadata": {},
   "source": [
    "**Q:** In fact, the dual cost tells how much cheaper the new solution will be: it will be c units cheaper. Use the dual cost for carbohydrates for the original (default) data to double check the change in cost for the optimum when you change the carbohydrate requirement from 300 to 305.\n",
    "\n",
    "**A:**"
   ]
  },
  {
   "cell_type": "markdown",
   "metadata": {},
   "source": [
    "**Q:** Now allow up to 320 grams of carbohydrates in your diet. How does this change things? Does the analogous calculation to the one that you just did still work? Why do you think that this is?\n",
    "\n",
    "**A:**"
   ]
  },
  {
   "cell_type": "markdown",
   "metadata": {},
   "source": [
    "**Q:** Now go back to the default data, its optimal solution, and the dual and constraint information for it. Which constraint do you think it would be most profitable to violate by one unit? Can you give an intuitive explanation of this?\n",
    "    \n",
    "**A:**    "
   ]
  },
  {
   "cell_type": "markdown",
   "metadata": {},
   "source": [
    "**Q:** As you can tell from the output, the optimal solution largely calls for non-integral numbers of servings of the various food-types. Why might this be problematic? Is there any explanation of the set-up for the problem that would allow us to consider such fractional solutions?\n",
    "\n",
    "**A:**"
   ]
  },
  {
   "cell_type": "markdown",
   "metadata": {},
   "source": [
    "**Q:** Suppose that you are buying just one day’s worth of food, and you must buy an integral number of servings of each food-type. Can you still use this output to construct a diet? Is this new selection an optimal diet subject to the restriction that the number of servings bought be integral?\n",
    "\n",
    "**A:**"
   ]
  },
  {
   "cell_type": "markdown",
   "metadata": {},
   "source": [
    "**Q:** Without worrying about how to compute the optimal integer solution, how does the cost of the optimal integer solution compare to the cost of our linear program’s optimal solution? \n",
    "\n",
    "**A:**"
   ]
  },
  {
   "cell_type": "markdown",
   "metadata": {},
   "source": [
    "**Q:** As a bit of useful terminology, a linear program in which the variables are further constrained to take on integer values is called an integer linear program, or sometimes just an integer program, for short. If we remove the requirement that the variables take integer values, then these constraints are said to be relaxed, and we have the linear programming relaxation of this integer program. For any minimization integer linear program, how does the optimal value of the integer program compare to the optimal value of its linear relaxation? (Compare just the values, not the optimal solutions themselves.)\n",
    "\n",
    "**A:**"
   ]
  },
  {
   "cell_type": "markdown",
   "metadata": {},
   "source": [
    "**Q:** What do you think about eating the diet proposed by the output? How might you modify the constraints to get something more to your liking?\n",
    "\n",
    "**A:**"
   ]
  },
  {
   "cell_type": "markdown",
   "metadata": {},
   "source": [
    "**Q:** Now go back to the input selection menu, and try to find a cheaper diet. How cheap a diet can you find? What is this diet?\n",
    "    \n",
    "**A:**"
   ]
  },
  {
   "cell_type": "markdown",
   "metadata": {
    "colab_type": "text",
    "id": "CJtBX9gHdHLL"
   },
   "source": [
    "## Model And Data"
   ]
  },
  {
   "cell_type": "code",
   "execution_count": 10,
   "metadata": {},
   "outputs": [],
   "source": [
    "# foods = pd.read_csv('small_diet.csv').set_index('Name')\n",
    "# foods['Min'] = 0\n",
    "# foods['Max'] = float('inf')\n",
    "# nutrients = pd.DataFrame(index=['Vitamin A', 'Vitamin C',\n",
    "#                                 'Vitamin B1', 'Vitamin B2'])\n",
    "# nutrients['Min']= 700 # 100% over an entire week (7 days)\n",
    "# nutrients['Max']= float('inf')"
   ]
  },
  {
   "cell_type": "code",
   "execution_count": 11,
   "metadata": {},
   "outputs": [],
   "source": [
    "foods = pd.read_csv('neos_foods.csv', index_col=0)\n",
    "nutrients = pd.read_csv('neos_nutrients.csv', index_col=0)"
   ]
  },
  {
   "cell_type": "code",
   "execution_count": 12,
   "metadata": {
    "scrolled": false
   },
   "outputs": [
    {
     "name": "stdout",
     "output_type": "stream",
     "text": [
      "lb_Thiamine 14.444444444444446\n",
      "lb_Niacin 2.355555555555555\n"
     ]
    }
   ],
   "source": [
    "m.Solve()\n",
    "for i in m.constraints():\n",
    "    name = i.name()\n",
    "    dual_value = i.dual_value()\n",
    "    if dual_value != 0:\n",
    "        print(i.name(), i.dual_value())"
   ]
  },
  {
   "cell_type": "markdown",
   "metadata": {
    "colab_type": "text",
    "id": "SsbZMnljdHKv"
   },
   "source": [
    "## 3 A More Robust Diet"
   ]
  },
  {
   "cell_type": "markdown",
   "metadata": {
    "colab_type": "text",
    "id": "edqN3cUJdHKv"
   },
   "source": [
    "Let’s now expand our diet. Instead of looking at just breakfast, we’ll allow ourselves to eat more food. The\n",
    "food options, together with the decision variable we’ll use, are:\n",
    "- Beef ($X_{beef}$ )\n",
    "- Chicken ($X_{chk}$)\n",
    "- Fish ($X_{fish}$)\n",
    "- Ham ($X_{ham}$)\n",
    "- Mac & cheese ($X_{mch}$)\n",
    "- Meat loaf ($X_{mtl}$)\n",
    "- Spaghetti ($X_{spg}$)\n",
    "- Turkey ($X_{tur}$)\n",
    "\n",
    "As before, we’ll want to minimize cost. This time, we’ll want to meet nutritional requirements for vitamins\n",
    "$A, C, B1$, and $B2$."
   ]
  },
  {
   "cell_type": "markdown",
   "metadata": {
    "colab_type": "text",
    "id": "XQ47j-wsdHKz"
   },
   "source": [
    "Costs (in dollars) and nutritional information are shown below. All costs/nutritional requirements are\n",
    "per package. The values for nutritional requirements are percents. E.g. one package of beef provides 60% of\n",
    "the daily requirement for vitamin A. In a day, you need 100% of your recommended amount of Vitamin A."
   ]
  },
  {
   "cell_type": "code",
   "execution_count": 13,
   "metadata": {
    "colab": {},
    "colab_type": "code",
    "id": "SwpgtaBxdHKz",
    "outputId": "4b96f6bf-2ba6-49a3-a789-38fa533c286d"
   },
   "outputs": [
    {
     "data": {
      "text/html": [
       "<div>\n",
       "<style scoped>\n",
       "    .dataframe tbody tr th:only-of-type {\n",
       "        vertical-align: middle;\n",
       "    }\n",
       "\n",
       "    .dataframe tbody tr th {\n",
       "        vertical-align: top;\n",
       "    }\n",
       "\n",
       "    .dataframe thead th {\n",
       "        text-align: right;\n",
       "    }\n",
       "</style>\n",
       "<table border=\"1\" class=\"dataframe\">\n",
       "  <thead>\n",
       "    <tr style=\"text-align: right;\">\n",
       "      <th></th>\n",
       "      <th>Name</th>\n",
       "      <th>Cost</th>\n",
       "      <th>Vitamin A</th>\n",
       "      <th>Vitamin C</th>\n",
       "      <th>Vitamin B1</th>\n",
       "      <th>Vitamin B2</th>\n",
       "    </tr>\n",
       "  </thead>\n",
       "  <tbody>\n",
       "    <tr>\n",
       "      <th>0</th>\n",
       "      <td>Beef</td>\n",
       "      <td>3.19</td>\n",
       "      <td>60</td>\n",
       "      <td>20</td>\n",
       "      <td>10</td>\n",
       "      <td>15</td>\n",
       "    </tr>\n",
       "    <tr>\n",
       "      <th>1</th>\n",
       "      <td>Chk</td>\n",
       "      <td>2.59</td>\n",
       "      <td>8</td>\n",
       "      <td>0</td>\n",
       "      <td>20</td>\n",
       "      <td>20</td>\n",
       "    </tr>\n",
       "    <tr>\n",
       "      <th>2</th>\n",
       "      <td>Fish</td>\n",
       "      <td>2.59</td>\n",
       "      <td>8</td>\n",
       "      <td>10</td>\n",
       "      <td>15</td>\n",
       "      <td>10</td>\n",
       "    </tr>\n",
       "    <tr>\n",
       "      <th>3</th>\n",
       "      <td>Ham</td>\n",
       "      <td>2.89</td>\n",
       "      <td>40</td>\n",
       "      <td>40</td>\n",
       "      <td>35</td>\n",
       "      <td>10</td>\n",
       "    </tr>\n",
       "    <tr>\n",
       "      <th>4</th>\n",
       "      <td>Mch</td>\n",
       "      <td>1.89</td>\n",
       "      <td>15</td>\n",
       "      <td>35</td>\n",
       "      <td>15</td>\n",
       "      <td>15</td>\n",
       "    </tr>\n",
       "    <tr>\n",
       "      <th>5</th>\n",
       "      <td>Mtl</td>\n",
       "      <td>1.99</td>\n",
       "      <td>70</td>\n",
       "      <td>30</td>\n",
       "      <td>15</td>\n",
       "      <td>15</td>\n",
       "    </tr>\n",
       "    <tr>\n",
       "      <th>6</th>\n",
       "      <td>Spg</td>\n",
       "      <td>1.99</td>\n",
       "      <td>25</td>\n",
       "      <td>50</td>\n",
       "      <td>25</td>\n",
       "      <td>15</td>\n",
       "    </tr>\n",
       "    <tr>\n",
       "      <th>7</th>\n",
       "      <td>Tur</td>\n",
       "      <td>2.49</td>\n",
       "      <td>60</td>\n",
       "      <td>20</td>\n",
       "      <td>15</td>\n",
       "      <td>10</td>\n",
       "    </tr>\n",
       "  </tbody>\n",
       "</table>\n",
       "</div>"
      ],
      "text/plain": [
       "   Name  Cost  Vitamin A  Vitamin C  Vitamin B1  Vitamin B2\n",
       "0  Beef  3.19         60         20          10          15\n",
       "1   Chk  2.59          8          0          20          20\n",
       "2  Fish  2.59          8         10          15          10\n",
       "3   Ham  2.89         40         40          35          10\n",
       "4   Mch  1.89         15         35          15          15\n",
       "5   Mtl  1.99         70         30          15          15\n",
       "6   Spg  1.99         25         50          25          15\n",
       "7   Tur  2.49         60         20          15          10"
      ]
     },
     "execution_count": 13,
     "metadata": {},
     "output_type": "execute_result"
    }
   ],
   "source": [
    "pd.read_csv('small_diet.csv')"
   ]
  },
  {
   "cell_type": "markdown",
   "metadata": {
    "colab_type": "text",
    "id": "OEhVojd5dHK1"
   },
   "source": [
    "Let’s consider the problem of minimizing cost of a diet over an entire week."
   ]
  },
  {
   "cell_type": "markdown",
   "metadata": {
    "colab_type": "text",
    "id": "crO4ob36dHK2"
   },
   "source": [
    "**Q:** Write out the objective function for this problem (which is to minimize cost).\n",
    "\n",
    "**A:**"
   ]
  },
  {
   "cell_type": "markdown",
   "metadata": {
    "colab_type": "text",
    "id": "hzMw5UAudHK2"
   },
   "source": [
    "**Q:** Write out the constraint indicating that you get enough Vitamin A in an entire week. Be careful about\n",
    "the right hand side: what percent do you need over an entire week?\n",
    "\n",
    "**A:**"
   ]
  },
  {
   "cell_type": "markdown",
   "metadata": {
    "colab_type": "text",
    "id": "fgnChTt_dHK-"
   },
   "source": [
    "**Q:** What solution does it give? How much does it cost, which food(s) do we eat, and how much of those food(s) do we eat?\n",
    "\n",
    "**A:**"
   ]
  },
  {
   "cell_type": "markdown",
   "metadata": {
    "colab_type": "text",
    "id": "5NvyOb0pdHK_"
   },
   "source": [
    "**Q:** Does the diet seem reasonable?\n",
    "\n",
    "**A:**"
   ]
  },
  {
   "cell_type": "markdown",
   "metadata": {
    "colab_type": "text",
    "id": "CVHGZzFPdHLA"
   },
   "source": [
    "Let’s add a constraint capping the maximum amount of mac and cheese we eat at 20 servings. (some explanation of how to do this ...)"
   ]
  },
  {
   "cell_type": "markdown",
   "metadata": {
    "colab_type": "text",
    "id": "VIr8EbpMdHLK"
   },
   "source": [
    "**Q:** What is the new solution? How much more expensive is it? Does it seem healthier?\n",
    "\n",
    "**A:**"
   ]
  },
  {
   "cell_type": "markdown",
   "metadata": {
    "colab_type": "text",
    "id": "MDNKbliNdHLK"
   },
   "source": [
    "**Q:** Suppose you wanted to add in 3 more food options (soylent, snickers, and coffee) and 10 more con-\n",
    "straints (on vitamins B3, B5, B6, B9, B12, D, E, and K; on Sodium; and on the most important vitamin of all, caffeine). Or suppose that I asked you to instead do this problem with bread, meat,\n",
    "potatoes, cabbage, milk, and gelatin. Write 2-3 sentences actually explaining what you’d have to do\n",
    "in each of these two settings. Also briefly describe how tedious of a process it would be to edit this\n",
    "model. Colorful (but not vulgar) language, metaphors, and famous quotes are all appropriate.\n",
    "\n",
    "**A:**"
   ]
  }
 ],
 "metadata": {
  "colab": {
   "name": "FA 2019 Lab 8 (Python Demo).ipynb",
   "provenance": []
  },
  "kernelspec": {
   "display_name": "Python 3",
   "language": "python",
   "name": "python3"
  },
  "language_info": {
   "codemirror_mode": {
    "name": "ipython",
    "version": 3
   },
   "file_extension": ".py",
   "mimetype": "text/x-python",
   "name": "python",
   "nbconvert_exporter": "python",
   "pygments_lexer": "ipython3",
   "version": "3.6.10"
  }
 },
 "nbformat": 4,
 "nbformat_minor": 1
}
