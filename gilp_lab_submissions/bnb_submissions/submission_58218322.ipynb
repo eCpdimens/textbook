{
  "nbformat": 4,
  "nbformat_minor": 0,
  "metadata": {
    "kernelspec": {
      "display_name": "Python 3",
      "language": "python",
      "name": "python3"
    },
    "language_info": {
      "codemirror_mode": {
        "name": "ipython",
        "version": 3
      },
      "file_extension": ".py",
      "mimetype": "text/x-python",
      "name": "python",
      "nbconvert_exporter": "python",
      "pygments_lexer": "ipython3",
      "version": "3.7.6"
    },
    "colab": {
      "name": "branch_and_bound_lab.ipynb",
      "provenance": [],
      "collapsed_sections": [
        "lwZvecXn7zPK"
      ],
      "toc_visible": true
    }
  },
  "cells": [
    {
      "cell_type": "markdown",
      "metadata": {
        "id": "P-zUmPOV7zPI"
      },
      "source": [
        "# Branch & Bound and Knapsack Lab"
      ]
    },
    {
      "cell_type": "markdown",
      "metadata": {
        "id": "CrfBrDog7zPI"
      },
      "source": [
        "**Objectives**\n",
        "- Preform the branch and bound algorithm\n",
        "- Apply branch and bound to the knapsack problem\n",
        "- Understand the geometry of the branch and bound algorithm\n",
        "\n",
        "**Brief description:** In this lab, we will try solving an example of a knapsack problem with the branch-and-bound algorithm. We will also see how adding a cutting plane helps in reducing the computation time and effort of the algorithm. Lastly, we will explore the geometry of the branch and bound algorithm."
      ]
    },
    {
      "cell_type": "code",
      "metadata": {
        "colab": {
          "base_uri": "https://localhost:8080/"
        },
        "id": "EW9teGie7zPI",
        "outputId": "0f412da2-1876-435a-b035-1eb13c3a851c"
      },
      "source": [
        "import sys\n",
        "!{sys.executable} -m pip install gilp==1.0.0rc4\n",
        "import sys\n",
        "!{sys.executable} -m pip install ortools\n"
      ],
      "execution_count": 4,
      "outputs": [
        {
          "output_type": "stream",
          "text": [
            "Requirement already satisfied: gilp==1.0.0rc4 in /usr/local/lib/python3.6/dist-packages (1.0.0rc4)\n",
            "Requirement already satisfied: plotly>=4.8 in /usr/local/lib/python3.6/dist-packages (from gilp==1.0.0rc4) (4.13.0)\n",
            "Requirement already satisfied: numpy>=1.19 in /usr/local/lib/python3.6/dist-packages (from gilp==1.0.0rc4) (1.19.4)\n",
            "Requirement already satisfied: networkx>=2.0 in /usr/local/lib/python3.6/dist-packages (from gilp==1.0.0rc4) (2.5)\n",
            "Requirement already satisfied: typing>=3.7 in /usr/local/lib/python3.6/dist-packages (from gilp==1.0.0rc4) (3.7.4.3)\n",
            "Requirement already satisfied: scipy>=1.3 in /usr/local/lib/python3.6/dist-packages (from gilp==1.0.0rc4) (1.4.1)\n",
            "Requirement already satisfied: retrying>=1.3.3 in /usr/local/lib/python3.6/dist-packages (from plotly>=4.8->gilp==1.0.0rc4) (1.3.3)\n",
            "Requirement already satisfied: six in /usr/local/lib/python3.6/dist-packages (from plotly>=4.8->gilp==1.0.0rc4) (1.15.0)\n",
            "Requirement already satisfied: decorator>=4.3.0 in /usr/local/lib/python3.6/dist-packages (from networkx>=2.0->gilp==1.0.0rc4) (4.4.2)\n",
            "Collecting ortools\n",
            "\u001b[?25l  Downloading https://files.pythonhosted.org/packages/be/06/70475cc058328217739dff257a85fe2e90ecdbc1068d8fe52ad6f30fc53b/ortools-8.0.8283-cp36-cp36m-manylinux1_x86_64.whl (13.7MB)\n",
            "\u001b[K     |████████████████████████████████| 13.7MB 329kB/s \n",
            "\u001b[?25hRequirement already satisfied: six>=1.10 in /usr/local/lib/python3.6/dist-packages (from ortools) (1.15.0)\n",
            "Collecting protobuf>=3.13.0\n",
            "\u001b[?25l  Downloading https://files.pythonhosted.org/packages/fe/fd/247ef25f5ec5f9acecfbc98ca3c6aaf66716cf52509aca9a93583d410493/protobuf-3.14.0-cp36-cp36m-manylinux1_x86_64.whl (1.0MB)\n",
            "\u001b[K     |████████████████████████████████| 1.0MB 46.9MB/s \n",
            "\u001b[31mERROR: tensorflow 2.3.0 has requirement numpy<1.19.0,>=1.16.0, but you'll have numpy 1.19.4 which is incompatible.\u001b[0m\n",
            "\u001b[?25hInstalling collected packages: protobuf, ortools\n",
            "  Found existing installation: protobuf 3.12.4\n",
            "    Uninstalling protobuf-3.12.4:\n",
            "      Successfully uninstalled protobuf-3.12.4\n",
            "Successfully installed ortools-8.0.8283 protobuf-3.14.0\n"
          ],
          "name": "stdout"
        }
      ]
    },
    {
      "cell_type": "code",
      "metadata": {
        "id": "XO-ZZ7HA7zPI"
      },
      "source": [
        "# imports -- don't forget to run this cell\n",
        "import pandas as pd\n",
        "import ortools\n",
        "import gilp\n",
        "from gilp.visualize import feasible_integer_pts\n",
        "from ortools.linear_solver import pywraplp as OR"
      ],
      "execution_count": 5,
      "outputs": []
    },
    {
      "cell_type": "markdown",
      "metadata": {
        "id": "xtBA4H3F7zPI"
      },
      "source": [
        "## Part 1: Branch and Bound Algorithm"
      ]
    },
    {
      "cell_type": "markdown",
      "metadata": {
        "id": "vTY3PnEN7zPI"
      },
      "source": [
        "Recall that the branch and bound algorithm (in addition to the simplex method) allows us to solve integer programs. Before applying the branch and bound algorithm to the knapsack problem, we will begin by reviewing some core ideas. Furthermore, we will identify a helpful property that will make branch and bound terminate quicker later in the lab!"
      ]
    },
    {
      "cell_type": "markdown",
      "metadata": {
        "id": "AqVWlttT7zPI"
      },
      "source": [
        "**Q1:** What are the different ways a node can be fathomed during the branch and bound algorithm? Describe each.\n",
        "\n",
        "**A:** Nodes can be fathomed through either integrality or Bouonds"
      ]
    },
    {
      "cell_type": "markdown",
      "metadata": {
        "id": "3wBL6AlK7zPI"
      },
      "source": [
        "**Q2:** Suppose you have a maximization integer program and you solve its linear program relaxation. What does the LP-relaxation optimal value tell you about the IP optimal value? What if it is a minimization problem?\n",
        "\n",
        "**A:** If the IP is a maximization problem the LP relaxation optimal value tells me the upper boound. If the IP is a minimization problem the LP-relaxation optimal value tells me the lower bound"
      ]
    },
    {
      "cell_type": "markdown",
      "metadata": {
        "id": "lBhIkSxW7zPI"
      },
      "source": [
        "**Q3:** Assume you have a maximization integer program with all integral coefficents in the objective function. Now, suppose you are running the branch and bound algorithm and come across a node with an optimal value of 44.5. The current incumbent is 44. Can you fathom this node? Why or why not?\n",
        "\n",
        "**A:** No because it is not an integer"
      ]
    },
    {
      "cell_type": "markdown",
      "metadata": {
        "id": "1fqXCEPR7zPI"
      },
      "source": [
        "**Q4:** If the optimal solution to the LP relaxation of the original program is integer, then you have found an optimal solution to your integer program. Explain why this is true.\n",
        "\n",
        "**A:** Because the solution of the LP is a bound, upper or lower on the IP and so if it is an integer then it is the best we can do."
      ]
    },
    {
      "cell_type": "markdown",
      "metadata": {
        "id": "r6jWHvym7zPI"
      },
      "source": [
        "**Q5:** If the LP is infeasible, then the IP is infeasible. Explain why this is true.\n",
        "\n",
        "**A:** The LP is a relaxed version of the P if we're not able to solvel with less constraints addinc constraints doeesn't help."
      ]
    },
    {
      "cell_type": "markdown",
      "metadata": {
        "id": "7Hs-8PWP7zPI"
      },
      "source": [
        "The next questions ask about the following branch and bound tree. If the solution was not integral, the fractional $x_i$ that was used to branch is given. If the solution was integral, it is denoted *INT*. In the current iteration of branch and bound, you are looking at the node with the *****."
      ]
    },
    {
      "cell_type": "markdown",
      "metadata": {
        "id": "skodsyAL7zPI"
      },
      "source": [
        "<img src=\"part1_bnb_tree.png\" width=\"500\"/>"
      ]
    },
    {
      "cell_type": "markdown",
      "metadata": {
        "id": "aWtigUfu7zPI"
      },
      "source": [
        "**Q6:** Can you determine if the integer program this branch and bound tree is for is a minimization or maximixation problem? If so, which is it?\n",
        "\n",
        "**A:** No I cannot determine"
      ]
    },
    {
      "cell_type": "markdown",
      "metadata": {
        "id": "AOnYN_dz7zPI"
      },
      "source": [
        "Hint: For **Q7-8**, you can assume integral coefficents in the objective function."
      ]
    },
    {
      "cell_type": "markdown",
      "metadata": {
        "id": "dUaKRxtO7zPI"
      },
      "source": [
        "**Q7:** Is the current node (marked $z^*$) fathomed? Why or why not? If not, what additional constraints should be imposed for each of the next two nodes?\n",
        "\n",
        "**A:** No it is not fathomed.  for the next two nodes it is possible to add constraints for integrality"
      ]
    },
    {
      "cell_type": "markdown",
      "metadata": {
        "id": "QchTclJe7zPI"
      },
      "source": [
        "**Q8:** Consider the nodes under the current node (where $z = 16.3$). What do you know about the optimal value of these nodes? Why? \n",
        "\n",
        "**A:** The optimal value is 16.3 for these nodes since they have to be integers while this node doesn't."
      ]
    },
    {
      "cell_type": "markdown",
      "metadata": {
        "id": "qjq9Cwts7zPI"
      },
      "source": [
        "## Part 2: The Knapsack Problem\n",
        "\n",
        "In this lab, you will solve an integer program by branch and bound. The integer program to be solved will be a knapsack problem."
      ]
    },
    {
      "cell_type": "markdown",
      "metadata": {
        "id": "HC9K1pJk7zPI"
      },
      "source": [
        "**Knapsack Problem:** We are given a collection of $n$ items, where each item $i = 1,\\dots,n$ has a weight $w_i$ and a value $v_i$. In addition, there is a given capacity $W$, and the aim is to select a maximum value subset of items that has a total weight at most $W$. Note that each item can be brought at most once.\n",
        "\n",
        "$$\\begin{align*}\n",
        "\\max \\quad & \\sum_{i=1}^n v_ix_i\\\\\n",
        "\\text{s.t.} \\quad & \\sum_{i=1}^n w_ix_i \\leq W \\\\\n",
        "& 0 \\leq x_i \\leq 1, \\text{integer}, i = 1,\\dots,n\n",
        "\\end{align*}$$"
      ]
    },
    {
      "cell_type": "markdown",
      "metadata": {
        "id": "rR8AOFGq7zPI"
      },
      "source": [
        "Consider the following data which we import from a CSV file:"
      ]
    },
    {
      "cell_type": "code",
      "metadata": {
        "colab": {
          "base_uri": "https://localhost:8080/",
          "height": 284
        },
        "id": "0tNrBm3u7zPI",
        "outputId": "062d1344-c2cb-44e7-c060-ab98989466dc"
      },
      "source": [
        "data = pd.read_csv('knapsack_data_1.csv', index_col=0)\n",
        "data"
      ],
      "execution_count": 16,
      "outputs": [
        {
          "output_type": "execute_result",
          "data": {
            "text/html": [
              "<div>\n",
              "<style scoped>\n",
              "    .dataframe tbody tr th:only-of-type {\n",
              "        vertical-align: middle;\n",
              "    }\n",
              "\n",
              "    .dataframe tbody tr th {\n",
              "        vertical-align: top;\n",
              "    }\n",
              "\n",
              "    .dataframe thead th {\n",
              "        text-align: right;\n",
              "    }\n",
              "</style>\n",
              "<table border=\"1\" class=\"dataframe\">\n",
              "  <thead>\n",
              "    <tr style=\"text-align: right;\">\n",
              "      <th></th>\n",
              "      <th>value</th>\n",
              "      <th>weight</th>\n",
              "    </tr>\n",
              "    <tr>\n",
              "      <th>item</th>\n",
              "      <th></th>\n",
              "      <th></th>\n",
              "    </tr>\n",
              "  </thead>\n",
              "  <tbody>\n",
              "    <tr>\n",
              "      <th>1</th>\n",
              "      <td>50</td>\n",
              "      <td>10</td>\n",
              "    </tr>\n",
              "    <tr>\n",
              "      <th>2</th>\n",
              "      <td>30</td>\n",
              "      <td>12</td>\n",
              "    </tr>\n",
              "    <tr>\n",
              "      <th>3</th>\n",
              "      <td>24</td>\n",
              "      <td>10</td>\n",
              "    </tr>\n",
              "    <tr>\n",
              "      <th>4</th>\n",
              "      <td>14</td>\n",
              "      <td>7</td>\n",
              "    </tr>\n",
              "    <tr>\n",
              "      <th>5</th>\n",
              "      <td>12</td>\n",
              "      <td>6</td>\n",
              "    </tr>\n",
              "    <tr>\n",
              "      <th>6</th>\n",
              "      <td>10</td>\n",
              "      <td>7</td>\n",
              "    </tr>\n",
              "    <tr>\n",
              "      <th>7</th>\n",
              "      <td>40</td>\n",
              "      <td>30</td>\n",
              "    </tr>\n",
              "  </tbody>\n",
              "</table>\n",
              "</div>"
            ],
            "text/plain": [
              "      value  weight\n",
              "item               \n",
              "1        50      10\n",
              "2        30      12\n",
              "3        24      10\n",
              "4        14       7\n",
              "5        12       6\n",
              "6        10       7\n",
              "7        40      30"
            ]
          },
          "metadata": {
            "tags": []
          },
          "execution_count": 16
        }
      ]
    },
    {
      "cell_type": "markdown",
      "metadata": {
        "id": "ndPZehWz7zPI"
      },
      "source": [
        "and $W = 18$. "
      ]
    },
    {
      "cell_type": "markdown",
      "metadata": {
        "id": "zIgjmcLM7zPI"
      },
      "source": [
        "**Q9:** Are there any items we can remove from our input to simplify this problem? Why? If so, replace `index` with the item number that can be removed in the code below. Hint: how many of each item could we possibly take?\n",
        "\n",
        "**A:** "
      ]
    },
    {
      "cell_type": "code",
      "metadata": {
        "id": "DP7fLuyY7zPI"
      },
      "source": [
        "# TODO: replace index\n",
        "data = data.drop(7)"
      ],
      "execution_count": 17,
      "outputs": []
    },
    {
      "cell_type": "markdown",
      "metadata": {
        "id": "SzeuNDjs7zPI"
      },
      "source": [
        "**Q10:** If we remove item 7 from the knapsack, it does not change the optimal solution to the integer program. Explain why.\n",
        "\n",
        "**A:** Because Item 7 has weight greater than the bag, it couldn't fit in the knapsack anway."
      ]
    },
    {
      "cell_type": "markdown",
      "metadata": {
        "id": "l55_sA5I7zPI"
      },
      "source": [
        "**Q11:** Consider removing items $i$ such that $w_i > W$ from a knapsack input. How does the LP relaxation's optimal value change?\n",
        "\n",
        "**A:** The optimal value decreases depending on the problem. Since we were able to do fracctions in LP relaxation, we can take a fraction of a very heavy but very valuable thing. Now we cannot do that anymore."
      ]
    },
    {
      "cell_type": "markdown",
      "metadata": {
        "id": "R1YUSL_S7zPI"
      },
      "source": [
        "In **Q10-11**, you should have found that removing these items removes feasible solutions from the linear program  but does not change the integer program. This is desirable as the gap between the optimal IP and LP values can become smaller. By adding this step, branch and bound may terminate sooner. "
      ]
    },
    {
      "cell_type": "markdown",
      "metadata": {
        "id": "G-0atThh7zPI"
      },
      "source": [
        "Recall that a branch and bound node can be fathomed if its bound is no better than the value of the best feasible integer solution found thus far. Hence, it helps to have a good feasible integer solution as quickly as possible (so that we stop needless work). To do this, we can first try to construct a good feasible integer solution by a reasonable heuristic algorithm before starting to run the branch and bound procedure."
      ]
    },
    {
      "cell_type": "markdown",
      "metadata": {
        "id": "RtlPZDB07zPJ"
      },
      "source": [
        "In designing a heuristic for the knapsack problem, it is helpful to think about the value per unit weight for each item. We compute this value in the table below."
      ]
    },
    {
      "cell_type": "code",
      "metadata": {
        "colab": {
          "base_uri": "https://localhost:8080/",
          "height": 254
        },
        "id": "038rbfO27zPJ",
        "outputId": "8f3de830-f386-4437-d759-5878f06642ce"
      },
      "source": [
        "data['value per unit weight'] = (data['value'] / data['weight']).round(2)\n",
        "data"
      ],
      "execution_count": 18,
      "outputs": [
        {
          "output_type": "execute_result",
          "data": {
            "text/html": [
              "<div>\n",
              "<style scoped>\n",
              "    .dataframe tbody tr th:only-of-type {\n",
              "        vertical-align: middle;\n",
              "    }\n",
              "\n",
              "    .dataframe tbody tr th {\n",
              "        vertical-align: top;\n",
              "    }\n",
              "\n",
              "    .dataframe thead th {\n",
              "        text-align: right;\n",
              "    }\n",
              "</style>\n",
              "<table border=\"1\" class=\"dataframe\">\n",
              "  <thead>\n",
              "    <tr style=\"text-align: right;\">\n",
              "      <th></th>\n",
              "      <th>value</th>\n",
              "      <th>weight</th>\n",
              "      <th>value per unit weight</th>\n",
              "    </tr>\n",
              "    <tr>\n",
              "      <th>item</th>\n",
              "      <th></th>\n",
              "      <th></th>\n",
              "      <th></th>\n",
              "    </tr>\n",
              "  </thead>\n",
              "  <tbody>\n",
              "    <tr>\n",
              "      <th>1</th>\n",
              "      <td>50</td>\n",
              "      <td>10</td>\n",
              "      <td>5.00</td>\n",
              "    </tr>\n",
              "    <tr>\n",
              "      <th>2</th>\n",
              "      <td>30</td>\n",
              "      <td>12</td>\n",
              "      <td>2.50</td>\n",
              "    </tr>\n",
              "    <tr>\n",
              "      <th>3</th>\n",
              "      <td>24</td>\n",
              "      <td>10</td>\n",
              "      <td>2.40</td>\n",
              "    </tr>\n",
              "    <tr>\n",
              "      <th>4</th>\n",
              "      <td>14</td>\n",
              "      <td>7</td>\n",
              "      <td>2.00</td>\n",
              "    </tr>\n",
              "    <tr>\n",
              "      <th>5</th>\n",
              "      <td>12</td>\n",
              "      <td>6</td>\n",
              "      <td>2.00</td>\n",
              "    </tr>\n",
              "    <tr>\n",
              "      <th>6</th>\n",
              "      <td>10</td>\n",
              "      <td>7</td>\n",
              "      <td>1.43</td>\n",
              "    </tr>\n",
              "  </tbody>\n",
              "</table>\n",
              "</div>"
            ],
            "text/plain": [
              "      value  weight  value per unit weight\n",
              "item                                      \n",
              "1        50      10                   5.00\n",
              "2        30      12                   2.50\n",
              "3        24      10                   2.40\n",
              "4        14       7                   2.00\n",
              "5        12       6                   2.00\n",
              "6        10       7                   1.43"
            ]
          },
          "metadata": {
            "tags": []
          },
          "execution_count": 18
        }
      ]
    },
    {
      "cell_type": "markdown",
      "metadata": {
        "id": "khWrRtUa7zPJ"
      },
      "source": [
        "**Q12:** Design a reasonable heuristic for the knapsack problem. Note a heuristic aims to find a decent solution to the problem (but is not necessarily optimal).\n",
        "\n",
        "**A:** assign each item a value/weight number then stuff as many of it in the knapsack as you can then place the next and so on."
      ]
    },
    {
      "cell_type": "markdown",
      "metadata": {
        "id": "ed7V_RdK7zPJ"
      },
      "source": [
        "**Q13:** Run your heuristic on the data above to compute a good feasible integer solution. Your heuristic should generate a feasible solution with a value of 64 or better. If it does not, try a different heuristic (or talk to your TA!)\n",
        "\n",
        "**A:** take item 1, and item 4 for a total value of 64"
      ]
    },
    {
      "cell_type": "markdown",
      "metadata": {
        "id": "FFtH4PTS7zPJ"
      },
      "source": [
        "We will now use the branch and bound algorithm to solve this knapsack problem! First, let us define a mathematical model for the linear relaxation of the knapsack problem."
      ]
    },
    {
      "cell_type": "markdown",
      "metadata": {
        "id": "9SN5ID0T7zPJ"
      },
      "source": [
        "**Q14:** Complete the model below."
      ]
    },
    {
      "cell_type": "code",
      "metadata": {
        "id": "PzOPzzcC7zPJ"
      },
      "source": [
        "def Knapsack(table, capacity, integer = False):\n",
        "    \"\"\"Model for solving the Knapsack problem.\n",
        "    \n",
        "    Args:\n",
        "        table (pd.DataFrame): A table indexd by items with a column for value and weight\n",
        "        capcity (int): An integer-capacity for the knapsack\n",
        "        integer (bool): True if the variables should be integer. False otherwise.\n",
        "    \"\"\"\n",
        "    ITEMS = list(table.index)        # set of items\n",
        "    v = table.to_dict()['value']     # value for each item \n",
        "    w = table.to_dict()['weight']    # weight for each item\n",
        "    W = capacity                     # capacity of the knapsack\n",
        "    \n",
        "    # define model\n",
        "    m = OR.Solver('knapsack', OR.Solver.CBC_MIXED_INTEGER_PROGRAMMING)\n",
        "    \n",
        "    # decision variables\n",
        "    x = {}    \n",
        "    for i in ITEMS:\n",
        "        if integer:\n",
        "            x[i] = m.IntVar(0, 1, 'x_%d' % (i)) \n",
        "        else:\n",
        "            x[i] = m.NumVar(0, 1, 'x_%d' % (i)) \n",
        "        \n",
        "    # define objective function here\n",
        "    m.Maximize(sum(v[i]*x[i] for i in ITEMS))\n",
        "    \n",
        "    # TODO: Add a constraint that enforces that weight must not exceed capacity\n",
        "    # recall that we add constraints to the model using m.Add()\n",
        "    m.Add(sum(w[i]*x[i] for i in ITEMS) <= W)\n",
        "    \n",
        "    return (m, x)  # return the model and the decision variables"
      ],
      "execution_count": 24,
      "outputs": []
    },
    {
      "cell_type": "code",
      "metadata": {
        "id": "HNy9HoSo7zPJ"
      },
      "source": [
        "# You do not need to do anything with this cell but make sure you run it!\n",
        "def solve(m):\n",
        "    \"\"\"Used to solve a model m.\"\"\"\n",
        "    m.Solve()\n",
        "    \n",
        "    print('Objective =', m.Objective().Value())\n",
        "    print('iterations :', m.iterations())\n",
        "    print('branch-and-bound nodes :',m.nodes())\n",
        "    \n",
        "    return ({var.name() : var.solution_value() for var in m.variables()})"
      ],
      "execution_count": 25,
      "outputs": []
    },
    {
      "cell_type": "markdown",
      "metadata": {
        "id": "7U801l227zPJ"
      },
      "source": [
        "We can now create a linear relaxation of our knapsack problem. Now, `m` represents our model and `x` represents our decision variables."
      ]
    },
    {
      "cell_type": "code",
      "metadata": {
        "id": "xw-EOIWX7zPJ"
      },
      "source": [
        "m, x = Knapsack(data, 18)"
      ],
      "execution_count": 26,
      "outputs": []
    },
    {
      "cell_type": "markdown",
      "metadata": {
        "id": "SQv5pCCa7zPJ"
      },
      "source": [
        "We can use the next line to solve the model and output the solution"
      ]
    },
    {
      "cell_type": "code",
      "metadata": {
        "colab": {
          "base_uri": "https://localhost:8080/"
        },
        "id": "V6wii-gg7zPJ",
        "outputId": "0e7a1916-0340-4cb3-d28e-0e68ba696ca0"
      },
      "source": [
        "solve(m)"
      ],
      "execution_count": 27,
      "outputs": [
        {
          "output_type": "stream",
          "text": [
            "Objective = 70.0\n",
            "iterations : 0\n",
            "branch-and-bound nodes : 0\n"
          ],
          "name": "stdout"
        },
        {
          "output_type": "execute_result",
          "data": {
            "text/plain": [
              "{'x_1': 1.0,\n",
              " 'x_2': 0.6666666666666667,\n",
              " 'x_3': 0.0,\n",
              " 'x_4': 0.0,\n",
              " 'x_5': 0.0,\n",
              " 'x_6': 0.0}"
            ]
          },
          "metadata": {
            "tags": []
          },
          "execution_count": 27
        }
      ]
    },
    {
      "cell_type": "markdown",
      "metadata": {
        "id": "_ItoOrcE7zPJ"
      },
      "source": [
        "**Q15:** How does this optimal value compare to the value you found using the heuristic integer solution?\n",
        "\n",
        "**A:** The optimal value is greater than the value computed using the heuristic."
      ]
    },
    {
      "cell_type": "markdown",
      "metadata": {
        "id": "vnsJ-nMZ7zPJ"
      },
      "source": [
        "**Q16:** Should this node be fathomed? If not, what variable should be branched on and what additional constraints should be imposed for each of the next two nodes?\n",
        "\n",
        "\n",
        "**A:** NO, it shouldn't be fathomed. The next two nodes must be integer and have integer vaalues>"
      ]
    },
    {
      "cell_type": "markdown",
      "metadata": {
        "id": "UYx-r5bG7zPJ"
      },
      "source": [
        "After constructing the linear relaxation model using `Knapsack(data1, 18)` we can add additional constraints. For example, we can add the constraint $x_2 \\leq 0$ and solve it as follows:"
      ]
    },
    {
      "cell_type": "code",
      "metadata": {
        "colab": {
          "base_uri": "https://localhost:8080/"
        },
        "id": "fNGHRjtp7zPJ",
        "outputId": "15ef8413-adc0-45a2-a6b2-52755c647426"
      },
      "source": [
        "m, x = Knapsack(data, 18)\n",
        "m.Add(x[2] <= 0)\n",
        "solve(m)"
      ],
      "execution_count": 31,
      "outputs": [
        {
          "output_type": "stream",
          "text": [
            "Objective = 69.2\n",
            "iterations : 0\n",
            "branch-and-bound nodes : 0\n"
          ],
          "name": "stdout"
        },
        {
          "output_type": "execute_result",
          "data": {
            "text/plain": [
              "{'x_1': 1.0, 'x_2': 0.0, 'x_3': 0.8, 'x_4': 0.0, 'x_5': 0.0, 'x_6': 0.0}"
            ]
          },
          "metadata": {
            "tags": []
          },
          "execution_count": 31
        }
      ]
    },
    {
      "cell_type": "markdown",
      "metadata": {
        "id": "pNeIKxDd7zPJ"
      },
      "source": [
        " **NOTE:** The line `m, x = Knapsack(data1, 18)` resets the model `m` to the LP relaxation. All constraints from branching have to be added each time."
      ]
    },
    {
      "cell_type": "markdown",
      "metadata": {
        "id": "g-VMZe7b7zPJ"
      },
      "source": [
        "**Q17:** Use the following cell to compute the optimal value for the other node you found in **Q16**."
      ]
    },
    {
      "cell_type": "code",
      "metadata": {
        "id": "D7NY0oXf7zPJ"
      },
      "source": [
        "# TODO: Answer Q17"
      ],
      "execution_count": 32,
      "outputs": []
    },
    {
      "cell_type": "code",
      "metadata": {
        "colab": {
          "base_uri": "https://localhost:8080/"
        },
        "id": "tRTLyLoaBON5",
        "outputId": "8876840f-a47b-4238-8646-5fdef3380c6c"
      },
      "source": [
        "m, x = Knapsack(data, 18)\n",
        "m.Add(x[3] <= 0)\n",
        "solve(m)"
      ],
      "execution_count": 33,
      "outputs": [
        {
          "output_type": "stream",
          "text": [
            "Objective = 70.0\n",
            "iterations : 0\n",
            "branch-and-bound nodes : 0\n"
          ],
          "name": "stdout"
        },
        {
          "output_type": "execute_result",
          "data": {
            "text/plain": [
              "{'x_1': 1.0,\n",
              " 'x_2': 0.6666666666666667,\n",
              " 'x_3': 0.0,\n",
              " 'x_4': 0.0,\n",
              " 'x_5': 0.0,\n",
              " 'x_6': 0.0}"
            ]
          },
          "metadata": {
            "tags": []
          },
          "execution_count": 33
        }
      ]
    },
    {
      "cell_type": "code",
      "metadata": {
        "colab": {
          "base_uri": "https://localhost:8080/"
        },
        "id": "hqKozj_eBM2I",
        "outputId": "53d36305-faf1-413c-b5ec-96967d65a6d9"
      },
      "source": [
        "m, x = Knapsack(data, 18)\n",
        "m.Add(x[3] <= 0)\n",
        "m.Add(x[2] <= 0)\n",
        "solve(m)"
      ],
      "execution_count": 34,
      "outputs": [
        {
          "output_type": "stream",
          "text": [
            "Objective = 66.0\n",
            "iterations : 0\n",
            "branch-and-bound nodes : 0\n"
          ],
          "name": "stdout"
        },
        {
          "output_type": "execute_result",
          "data": {
            "text/plain": [
              "{'x_1': 1.0,\n",
              " 'x_2': 0.0,\n",
              " 'x_3': 0.0,\n",
              " 'x_4': 0.2857142857142857,\n",
              " 'x_5': 1.0,\n",
              " 'x_6': 0.0}"
            ]
          },
          "metadata": {
            "tags": []
          },
          "execution_count": 34
        }
      ]
    },
    {
      "cell_type": "markdown",
      "metadata": {
        "id": "K1i76x247zPJ"
      },
      "source": [
        "**Q18:** What was the optimal value? Can this node be fathomed? Why? (Hint: In **Q13**, you found a feasible integer solution with value 64.)\n",
        "\n",
        "**A:** 66, No it cannot be fathomed. "
      ]
    },
    {
      "cell_type": "markdown",
      "metadata": {
        "id": "95ZdKtgP7zPJ"
      },
      "source": [
        "If we continue running the branch and bound algorithm, we will eventually reach the branch and bound tree below where the $z^*$ indictes the current node we are looking at.\n",
        "\n",
        "<img src=\"part2_bnb_tree.png\" width=\"700\"/>"
      ]
    },
    {
      "cell_type": "markdown",
      "metadata": {
        "id": "s_ThJkQO7zPJ"
      },
      "source": [
        "**Q19:** The node with $z = 64.857$ was fathomed. Why are we allowed to fathom this node? (Hint: think back to **Q3**)\n",
        "\n",
        "**A:**Because it is very close to the value we are looking for."
      ]
    },
    {
      "cell_type": "markdown",
      "metadata": {
        "id": "cMJkVjrl7zPJ"
      },
      "source": [
        "**Q20:** Finish running branch and bound to find the optimal integer solution. Use a separate cell for each node you solve and indicate if the node was fathomed with a comment. (Hint: Don't forget to include the constraints further up in the branch and bound tree.)"
      ]
    },
    {
      "cell_type": "code",
      "metadata": {
        "colab": {
          "base_uri": "https://localhost:8080/"
        },
        "id": "BXP_rMcK7zPJ",
        "outputId": "0211932b-536d-41df-9857-44aef4dc1c14"
      },
      "source": [
        "# Template\n",
        "m, x = Knapsack(data, 18)\n",
        "m.Add(x[3] <= 0)\n",
        "m.Add(x[2] <= 0)\n",
        "m.Add(x[5] <= 0)\n",
        "\n",
        "m.Add(x[6] <= 0)\n",
        "\n",
        "solve(m)\n",
        "# fathomed?"
      ],
      "execution_count": 37,
      "outputs": [
        {
          "output_type": "stream",
          "text": [
            "Objective = 64.0\n",
            "iterations : 0\n",
            "branch-and-bound nodes : 0\n"
          ],
          "name": "stdout"
        },
        {
          "output_type": "execute_result",
          "data": {
            "text/plain": [
              "{'x_1': 1.0, 'x_2': 0.0, 'x_3': 0.0, 'x_4': 1.0, 'x_5': 0.0, 'x_6': 0.0}"
            ]
          },
          "metadata": {
            "tags": []
          },
          "execution_count": 37
        }
      ]
    },
    {
      "cell_type": "code",
      "metadata": {
        "id": "BrjXlFfj7zPJ"
      },
      "source": [
        ""
      ],
      "execution_count": 36,
      "outputs": []
    },
    {
      "cell_type": "code",
      "metadata": {
        "id": "lgqIST8_7zPJ"
      },
      "source": [
        ""
      ],
      "execution_count": 36,
      "outputs": []
    },
    {
      "cell_type": "markdown",
      "metadata": {
        "id": "ZG05h8HC7zPJ"
      },
      "source": [
        "**A:** "
      ]
    },
    {
      "cell_type": "markdown",
      "metadata": {
        "id": "gAAR-fZb7zPJ"
      },
      "source": [
        "**Q21:** How many nodes did you have to explore while running the branch and bound algorithm?\n",
        "\n",
        "**A:**12"
      ]
    },
    {
      "cell_type": "markdown",
      "metadata": {
        "id": "wt0htbh77zPJ"
      },
      "source": [
        "In the next section, we will think about additional constraints we can add to make running branch and bound quicker."
      ]
    },
    {
      "cell_type": "markdown",
      "metadata": {
        "id": "xuYdDdbL7zPJ"
      },
      "source": [
        "## Part 3: Cutting Planes"
      ]
    },
    {
      "cell_type": "markdown",
      "metadata": {
        "id": "rqvSODOV7zPJ"
      },
      "source": [
        "In general, a cutting plane is an additional constraint we can add to an integer program's linear relaxation that removes feasible linear solutions but does not remove any integer feasible solutions. This is very useful when  solving integer programs! Recall many of the problems we have learned in class have something we call the \"integrality property\". This is useful because it allows us to ignore the integrality constraint since we are garunteed to reach an integral solution. By cleverly adding cutting planes, we strive to remove feasible linear solutions (without removing any integer feasible solutions) such that the optimal solution to the linear relaxation is integral!"
      ]
    },
    {
      "cell_type": "markdown",
      "metadata": {
        "id": "7NuNEUpG7zPJ"
      },
      "source": [
        "Conisder an integer program whose linear program releaxation is \n",
        "\n",
        "$$\\begin{align*}\n",
        "\\max \\quad & 2x_1+x_2\\\\\n",
        "\\text{s.t.} \\quad & x_1 + x_2 \\leq 3 \\\\\n",
        "& 2x_1 \\leq 5 \\\\\n",
        "& -x_1 + 2x_2 \\leq 2 \\\\\n",
        "& x_1, x_2 \\geq 0\n",
        "\\end{align*}$$\n",
        "\n",
        "We can define this linear program and then visualize its feasible region. The integer points have been highlighted."
      ]
    },
    {
      "cell_type": "code",
      "metadata": {
        "colab": {
          "base_uri": "https://localhost:8080/",
          "height": 517
        },
        "id": "h9TafZpt7zPJ",
        "outputId": "9dd5bf35-27a7-4291-8c45-02234a592459"
      },
      "source": [
        "lp = gilp.LP([[1,1],[2,0],[-1,2]],\n",
        "             [3,5,2],\n",
        "             [2,1])\n",
        "fig = gilp.lp_visual(lp)\n",
        "fig.set_axis_limits([3.5,2])\n",
        "fig.add_trace(feasible_integer_pts(lp, fig))\n",
        "fig"
      ],
      "execution_count": 38,
      "outputs": [
        {
          "output_type": "display_data",
          "data": {
            "text/html": [
              "<html>\n",
              "<head><meta charset=\"utf-8\" /></head>\n",
              "<body>\n",
              "    <div>            <script src=\"https://cdnjs.cloudflare.com/ajax/libs/mathjax/2.7.5/MathJax.js?config=TeX-AMS-MML_SVG\"></script><script type=\"text/javascript\">if (window.MathJax) {MathJax.Hub.Config({SVG: {font: \"STIX-Web\"}});}</script>                <script type=\"text/javascript\">window.PlotlyConfig = {MathJaxConfig: 'local'};</script>\n",
              "        <script src=\"https://cdn.plot.ly/plotly-latest.min.js\"></script>                <div id=\"ab732b0b-1c1e-4ea7-8e2f-452acbba9f1d\" class=\"plotly-graph-div\" style=\"height:500px; width:950px;\"></div>            <script type=\"text/javascript\">                                    window.PLOTLYENV=window.PLOTLYENV || {};                                    if (document.getElementById(\"ab732b0b-1c1e-4ea7-8e2f-452acbba9f1d\")) {                    Plotly.newPlot(                        \"ab732b0b-1c1e-4ea7-8e2f-452acbba9f1d\",                        [{\"type\": \"scatter\", \"visible\": false, \"x\": [3.25], \"y\": [2.1666666666671]}, {\"fill\": \"toself\", \"fillcolor\": \"#1565c0\", \"line\": {\"color\": \"#003c8f\", \"width\": 3}, \"mode\": \"lines\", \"opacity\": 0.2, \"type\": \"scatter\", \"x\": [0.0, 2.5, 2.5, 1.333333333333, 0.0, 0.0], \"y\": [0.0, 0.0, 0.5, 1.666666666667, 1.0, 0.0]}, {\"hoverinfo\": \"text\", \"hoverlabel\": {\"align\": \"left\", \"bgcolor\": \"white\", \"bordercolor\": \"#404040\", \"font\": {\"color\": \"#404040\", \"family\": \"Arial\"}}, \"marker\": {\"color\": \"gray\", \"opacity\": 1e-07, \"size\": 20}, \"text\": [\"<b>BFS</b>: (0, 0, 3, 5, 2)<br><b>B</b>: (3, 4, 5)<br><b>Obj</b>: 0\", \"<b>BFS</b>: (0, 1, 2, 5, 0)<br><b>B</b>: (2, 3, 4)<br><b>Obj</b>: 1\", \"<b>BFS</b>: (1.333, 1.667, 0, 2.333, -0)<br><b>B</b>: (1, 2, 4, 5)<br><b>Obj</b>: 4.333\", \"<b>BFS</b>: (2.5, 0.5, 0, 0, 3.5)<br><b>B</b>: (1, 2, 5)<br><b>Obj</b>: 5.5\", \"<b>BFS</b>: (2.5, 0, 0.5, 0, 4.5)<br><b>B</b>: (1, 3, 5)<br><b>Obj</b>: 5\"], \"type\": \"scatter\", \"x\": [0.0, 0.0, 1.333333333333, 2.5, 2.5], \"y\": [0.0, 1.0, 1.666666666667, 0.5, 0.0]}, {\"line\": {\"dash\": \"15,3,5,3\", \"width\": 2}, \"mode\": \"lines\", \"name\": \"(3) 1x<sub>1</sub> + 1x<sub>2</sub> \\u2264 3\", \"showlegend\": true, \"type\": \"scatter\", \"x\": [0.0, 3.25], \"y\": [3.0, -0.25]}, {\"line\": {\"dash\": \"15,3,5,3\", \"width\": 2}, \"mode\": \"lines\", \"name\": \"(4) 2x<sub>1</sub> + 0x<sub>2</sub> \\u2264 5\", \"showlegend\": true, \"type\": \"scatter\", \"x\": [2.5, 2.5], \"y\": [0.0, 2.1666666666671]}, {\"line\": {\"dash\": \"15,3,5,3\", \"width\": 2}, \"mode\": \"lines\", \"name\": \"(5) -1x<sub>1</sub> + 2x<sub>2</sub> \\u2264 2\", \"showlegend\": true, \"type\": \"scatter\", \"x\": [0.0, 3.25], \"y\": [1.0, 2.625]}, {\"line\": {\"color\": \"#d50000\", \"width\": 4}, \"mode\": \"lines\", \"type\": \"scatter\", \"visible\": false, \"x\": [0.0, 3.25], \"y\": [0.0, -6.5]}, {\"line\": {\"color\": \"#d50000\", \"width\": 4}, \"mode\": \"lines\", \"type\": \"scatter\", \"visible\": false, \"x\": [0.0, 3.25], \"y\": [0.36, -6.14]}, {\"line\": {\"color\": \"#d50000\", \"width\": 4}, \"mode\": \"lines\", \"type\": \"scatter\", \"visible\": false, \"x\": [0.0, 3.25], \"y\": [0.72, -5.78]}, {\"line\": {\"color\": \"#d50000\", \"width\": 4}, \"mode\": \"lines\", \"type\": \"scatter\", \"visible\": false, \"x\": [0.0, 3.25], \"y\": [1.08, -5.42]}, {\"line\": {\"color\": \"#d50000\", \"width\": 4}, \"mode\": \"lines\", \"type\": \"scatter\", \"visible\": false, \"x\": [0.0, 3.25], \"y\": [1.44, -5.0600000000000005]}, {\"line\": {\"color\": \"#d50000\", \"width\": 4}, \"mode\": \"lines\", \"type\": \"scatter\", \"visible\": false, \"x\": [0.0, 3.25], \"y\": [1.81, -4.6899999999999995]}, {\"line\": {\"color\": \"#d50000\", \"width\": 4}, \"mode\": \"lines\", \"type\": \"scatter\", \"visible\": false, \"x\": [0.0, 3.25], \"y\": [2.17, -4.33]}, {\"line\": {\"color\": \"#d50000\", \"width\": 4}, \"mode\": \"lines\", \"type\": \"scatter\", \"visible\": false, \"x\": [0.0, 3.25], \"y\": [2.53, -3.97]}, {\"line\": {\"color\": \"#d50000\", \"width\": 4}, \"mode\": \"lines\", \"type\": \"scatter\", \"visible\": false, \"x\": [0.0, 3.25], \"y\": [2.89, -3.61]}, {\"line\": {\"color\": \"#d50000\", \"width\": 4}, \"mode\": \"lines\", \"type\": \"scatter\", \"visible\": false, \"x\": [0.0, 3.25], \"y\": [3.25, -3.25]}, {\"line\": {\"color\": \"#d50000\", \"width\": 4}, \"mode\": \"lines\", \"type\": \"scatter\", \"visible\": false, \"x\": [0.0, 3.25], \"y\": [3.61, -2.89]}, {\"line\": {\"color\": \"#d50000\", \"width\": 4}, \"mode\": \"lines\", \"type\": \"scatter\", \"visible\": false, \"x\": [0.0, 3.25], \"y\": [3.97, -2.53]}, {\"line\": {\"color\": \"#d50000\", \"width\": 4}, \"mode\": \"lines\", \"type\": \"scatter\", \"visible\": false, \"x\": [0.0, 3.25], \"y\": [4.33, -2.17]}, {\"line\": {\"color\": \"#d50000\", \"width\": 4}, \"mode\": \"lines\", \"type\": \"scatter\", \"visible\": false, \"x\": [0.0, 3.25], \"y\": [4.69, -1.8099999999999996]}, {\"line\": {\"color\": \"#d50000\", \"width\": 4}, \"mode\": \"lines\", \"type\": \"scatter\", \"visible\": false, \"x\": [0.0, 3.25], \"y\": [5.06, -1.4400000000000004]}, {\"line\": {\"color\": \"#d50000\", \"width\": 4}, \"mode\": \"lines\", \"type\": \"scatter\", \"visible\": false, \"x\": [0.0, 3.25], \"y\": [5.42, -1.08]}, {\"line\": {\"color\": \"#d50000\", \"width\": 4}, \"mode\": \"lines\", \"type\": \"scatter\", \"visible\": false, \"x\": [0.0, 3.25], \"y\": [5.5, -1.0]}, {\"line\": {\"color\": \"#d50000\", \"width\": 4}, \"mode\": \"lines\", \"type\": \"scatter\", \"visible\": false, \"x\": [0.0, 3.25], \"y\": [5.78, -0.7199999999999998]}, {\"line\": {\"color\": \"#d50000\", \"width\": 4}, \"mode\": \"lines\", \"type\": \"scatter\", \"visible\": false, \"x\": [0.0, 3.25], \"y\": [6.14, -0.3600000000000003]}, {\"line\": {\"color\": \"#d50000\", \"width\": 4}, \"mode\": \"lines\", \"type\": \"scatter\", \"visible\": false, \"x\": [0.0, 3.25], \"y\": [6.5, 0.0]}, {\"line\": {\"color\": \"#d50000\", \"width\": 4}, \"mode\": \"lines\", \"type\": \"scatter\", \"visible\": false, \"x\": [0.0, 3.25], \"y\": [6.86, 0.3600000000000003]}, {\"line\": {\"color\": \"#d50000\", \"width\": 4}, \"mode\": \"lines\", \"type\": \"scatter\", \"visible\": false, \"x\": [0.0, 3.25], \"y\": [7.22, 0.7199999999999998]}, {\"line\": {\"color\": \"#d50000\", \"width\": 4}, \"mode\": \"lines\", \"type\": \"scatter\", \"visible\": false, \"x\": [0.0, 3.25], \"y\": [7.58, 1.08]}, {\"line\": {\"color\": \"#d50000\", \"width\": 4}, \"mode\": \"lines\", \"type\": \"scatter\", \"visible\": false, \"x\": [0.0, 3.25], \"y\": [7.94, 1.4400000000000004]}, {\"line\": {\"color\": \"#d50000\", \"width\": 4}, \"mode\": \"lines\", \"type\": \"scatter\", \"visible\": false, \"x\": [0.0, 3.25], \"y\": [8.31, 1.8100000000000005]}, {\"line\": {\"color\": \"#d50000\", \"width\": 4}, \"mode\": \"lines\", \"type\": \"scatter\", \"visible\": false, \"x\": [0.0, 3.25], \"y\": [8.67, 2.17]}, {\"type\": \"scatter\", \"visible\": false, \"x\": [3.5], \"y\": [2.0]}, {\"marker\": {\"color\": \"#404040\", \"line\": {\"color\": \"#404040\"}, \"symbol\": \"circle\"}, \"opacity\": 0.4, \"type\": \"scatter\", \"x\": [0, 0, 1, 1, 2, 2], \"y\": [0, 1, 0, 1, 0, 1]}],                        {\"sliders\": [{\"active\": 0, \"currentvalue\": {\"prefix\": \"Objective Value: \"}, \"len\": 0.39473684210526316, \"lenmode\": \"fraction\", \"steps\": [{\"args\": [{\"visible\": [false, null, null, null, null, null, true, false, false, false, false, false, false, false, false, false, false, false, false, false, false, false, false, false, false, false, false, false, false, false, false, false]}], \"label\": \"0.0\", \"method\": \"update\"}, {\"args\": [{\"visible\": [false, null, null, null, null, null, false, true, false, false, false, false, false, false, false, false, false, false, false, false, false, false, false, false, false, false, false, false, false, false, false, false]}], \"label\": \"0.36\", \"method\": \"update\"}, {\"args\": [{\"visible\": [false, null, null, null, null, null, false, false, true, false, false, false, false, false, false, false, false, false, false, false, false, false, false, false, false, false, false, false, false, false, false, false]}], \"label\": \"0.72\", \"method\": \"update\"}, {\"args\": [{\"visible\": [false, null, null, null, null, null, false, false, false, true, false, false, false, false, false, false, false, false, false, false, false, false, false, false, false, false, false, false, false, false, false, false]}], \"label\": \"1.08\", \"method\": \"update\"}, {\"args\": [{\"visible\": [false, null, null, null, null, null, false, false, false, false, true, false, false, false, false, false, false, false, false, false, false, false, false, false, false, false, false, false, false, false, false, false]}], \"label\": \"1.44\", \"method\": \"update\"}, {\"args\": [{\"visible\": [false, null, null, null, null, null, false, false, false, false, false, true, false, false, false, false, false, false, false, false, false, false, false, false, false, false, false, false, false, false, false, false]}], \"label\": \"1.81\", \"method\": \"update\"}, {\"args\": [{\"visible\": [false, null, null, null, null, null, false, false, false, false, false, false, true, false, false, false, false, false, false, false, false, false, false, false, false, false, false, false, false, false, false, false]}], \"label\": \"2.17\", \"method\": \"update\"}, {\"args\": [{\"visible\": [false, null, null, null, null, null, false, false, false, false, false, false, false, true, false, false, false, false, false, false, false, false, false, false, false, false, false, false, false, false, false, false]}], \"label\": \"2.53\", \"method\": \"update\"}, {\"args\": [{\"visible\": [false, null, null, null, null, null, false, false, false, false, false, false, false, false, true, false, false, false, false, false, false, false, false, false, false, false, false, false, false, false, false, false]}], \"label\": \"2.89\", \"method\": \"update\"}, {\"args\": [{\"visible\": [false, null, null, null, null, null, false, false, false, false, false, false, false, false, false, true, false, false, false, false, false, false, false, false, false, false, false, false, false, false, false, false]}], \"label\": \"3.25\", \"method\": \"update\"}, {\"args\": [{\"visible\": [false, null, null, null, null, null, false, false, false, false, false, false, false, false, false, false, true, false, false, false, false, false, false, false, false, false, false, false, false, false, false, false]}], \"label\": \"3.61\", \"method\": \"update\"}, {\"args\": [{\"visible\": [false, null, null, null, null, null, false, false, false, false, false, false, false, false, false, false, false, true, false, false, false, false, false, false, false, false, false, false, false, false, false, false]}], \"label\": \"3.97\", \"method\": \"update\"}, {\"args\": [{\"visible\": [false, null, null, null, null, null, false, false, false, false, false, false, false, false, false, false, false, false, true, false, false, false, false, false, false, false, false, false, false, false, false, false]}], \"label\": \"4.33\", \"method\": \"update\"}, {\"args\": [{\"visible\": [false, null, null, null, null, null, false, false, false, false, false, false, false, false, false, false, false, false, false, true, false, false, false, false, false, false, false, false, false, false, false, false]}], \"label\": \"4.69\", \"method\": \"update\"}, {\"args\": [{\"visible\": [false, null, null, null, null, null, false, false, false, false, false, false, false, false, false, false, false, false, false, false, true, false, false, false, false, false, false, false, false, false, false, false]}], \"label\": \"5.06\", \"method\": \"update\"}, {\"args\": [{\"visible\": [false, null, null, null, null, null, false, false, false, false, false, false, false, false, false, false, false, false, false, false, false, true, false, false, false, false, false, false, false, false, false, false]}], \"label\": \"5.42\", \"method\": \"update\"}, {\"args\": [{\"visible\": [false, null, null, null, null, null, false, false, false, false, false, false, false, false, false, false, false, false, false, false, false, false, true, false, false, false, false, false, false, false, false, false]}], \"label\": \"5.5\", \"method\": \"update\"}, {\"args\": [{\"visible\": [false, null, null, null, null, null, false, false, false, false, false, false, false, false, false, false, false, false, false, false, false, false, false, true, false, false, false, false, false, false, false, false]}], \"label\": \"5.78\", \"method\": \"update\"}, {\"args\": [{\"visible\": [false, null, null, null, null, null, false, false, false, false, false, false, false, false, false, false, false, false, false, false, false, false, false, false, true, false, false, false, false, false, false, false]}], \"label\": \"6.14\", \"method\": \"update\"}, {\"args\": [{\"visible\": [false, null, null, null, null, null, false, false, false, false, false, false, false, false, false, false, false, false, false, false, false, false, false, false, false, true, false, false, false, false, false, false]}], \"label\": \"6.5\", \"method\": \"update\"}, {\"args\": [{\"visible\": [false, null, null, null, null, null, false, false, false, false, false, false, false, false, false, false, false, false, false, false, false, false, false, false, false, false, true, false, false, false, false, false]}], \"label\": \"6.86\", \"method\": \"update\"}, {\"args\": [{\"visible\": [false, null, null, null, null, null, false, false, false, false, false, false, false, false, false, false, false, false, false, false, false, false, false, false, false, false, false, true, false, false, false, false]}], \"label\": \"7.22\", \"method\": \"update\"}, {\"args\": [{\"visible\": [false, null, null, null, null, null, false, false, false, false, false, false, false, false, false, false, false, false, false, false, false, false, false, false, false, false, false, false, true, false, false, false]}], \"label\": \"7.58\", \"method\": \"update\"}, {\"args\": [{\"visible\": [false, null, null, null, null, null, false, false, false, false, false, false, false, false, false, false, false, false, false, false, false, false, false, false, false, false, false, false, false, true, false, false]}], \"label\": \"7.94\", \"method\": \"update\"}, {\"args\": [{\"visible\": [false, null, null, null, null, null, false, false, false, false, false, false, false, false, false, false, false, false, false, false, false, false, false, false, false, false, false, false, false, false, true, false]}], \"label\": \"8.31\", \"method\": \"update\"}], \"tickcolor\": \"white\", \"ticklen\": 0, \"x\": 0.6052631578947368, \"xanchor\": \"left\", \"y\": 0.01, \"yanchor\": \"bottom\"}], \"template\": {\"data\": {\"scatter\": [{\"fillcolor\": \"#1565c0\", \"hoverinfo\": \"none\", \"line\": {\"color\": \"#173D90\", \"width\": 4}, \"marker\": {\"color\": \"white\", \"line\": {\"color\": \"#d50000\", \"width\": 2}, \"opacity\": 0.99, \"size\": 9}, \"mode\": \"markers\", \"showlegend\": false, \"type\": \"scatter\", \"visible\": true}, {\"fillcolor\": \"#1565c0\", \"hoverinfo\": \"none\", \"line\": {\"color\": \"#1469FE\", \"width\": 4}, \"marker\": {\"color\": \"white\", \"line\": {\"color\": \"#d50000\", \"width\": 2}, \"opacity\": 0.99, \"size\": 9}, \"mode\": \"markers\", \"showlegend\": false, \"type\": \"scatter\", \"visible\": true}, {\"fillcolor\": \"#1565c0\", \"hoverinfo\": \"none\", \"line\": {\"color\": \"#65ADFF\", \"width\": 4}, \"marker\": {\"color\": \"white\", \"line\": {\"color\": \"#d50000\", \"width\": 2}, \"opacity\": 0.99, \"size\": 9}, \"mode\": \"markers\", \"showlegend\": false, \"type\": \"scatter\", \"visible\": true}, {\"fillcolor\": \"#1565c0\", \"hoverinfo\": \"none\", \"line\": {\"color\": \"#474849\", \"width\": 4}, \"marker\": {\"color\": \"white\", \"line\": {\"color\": \"#d50000\", \"width\": 2}, \"opacity\": 0.99, \"size\": 9}, \"mode\": \"markers\", \"showlegend\": false, \"type\": \"scatter\", \"visible\": true}, {\"fillcolor\": \"#1565c0\", \"hoverinfo\": \"none\", \"line\": {\"color\": \"#A90C0C\", \"width\": 4}, \"marker\": {\"color\": \"white\", \"line\": {\"color\": \"#d50000\", \"width\": 2}, \"opacity\": 0.99, \"size\": 9}, \"mode\": \"markers\", \"showlegend\": false, \"type\": \"scatter\", \"visible\": true}, {\"fillcolor\": \"#1565c0\", \"hoverinfo\": \"none\", \"line\": {\"color\": \"#DC0000\", \"width\": 4}, \"marker\": {\"color\": \"white\", \"line\": {\"color\": \"#d50000\", \"width\": 2}, \"opacity\": 0.99, \"size\": 9}, \"mode\": \"markers\", \"showlegend\": false, \"type\": \"scatter\", \"visible\": true}], \"scatter3d\": [{\"hoverinfo\": \"none\", \"line\": {\"color\": \"#1565c0\", \"width\": 6}, \"marker\": {\"color\": \"#ff5131\", \"line\": {\"color\": \"#d50000\", \"width\": 1}, \"opacity\": 0.99, \"size\": 5, \"symbol\": \"circle-open\"}, \"mode\": \"markers\", \"showlegend\": false, \"surfacecolor\": \"#5e92f3\", \"type\": \"scatter3d\", \"visible\": true}], \"table\": [{\"cells\": {\"fill\": {\"color\": \"white\"}, \"font\": {\"color\": [[\"black\", \"#d50000\", \"black\"], [\"black\", \"black\", \"black\"]]}}, \"header\": {\"fill\": {\"color\": \"white\"}, \"font\": {\"color\": [\"#d50000\", \"black\"]}}, \"type\": \"table\", \"visible\": false}]}, \"layout\": {\"annotations\": [{\"align\": \"center\", \"ax\": 0, \"ay\": 0, \"bgcolor\": \"#45568B\", \"bordercolor\": \"#404040\", \"borderpad\": 3, \"borderwidth\": 2, \"font\": {\"color\": \"white\", \"size\": 12}, \"name\": \"current\", \"visible\": false}, {\"align\": \"center\", \"ax\": 0, \"ay\": 0, \"bgcolor\": \"#D8E4F9\", \"bordercolor\": \"#404040\", \"borderpad\": 3, \"borderwidth\": 2, \"font\": {\"color\": \"#404040\", \"size\": 12}, \"name\": \"explored\", \"visible\": false}, {\"align\": \"center\", \"ax\": 0, \"ay\": 0, \"bgcolor\": \"white\", \"bordercolor\": \"#404040\", \"borderpad\": 3, \"borderwidth\": 2, \"font\": {\"color\": \"#404040\", \"size\": 12}, \"name\": \"unexplored\", \"visible\": false}], \"clickmode\": \"none\", \"dragmode\": \"turntable\", \"font\": {\"color\": \"#404040\", \"family\": \"Arial\"}, \"height\": 500, \"hovermode\": \"closest\", \"legend\": {\"font\": {\"size\": 13}, \"title\": {\"font\": {\"size\": 14}, \"text\": \"<b>Constraint(s)</b>\"}, \"x\": 0.39473684210526316, \"xanchor\": \"left\", \"y\": 1, \"yanchor\": \"top\"}, \"margin\": {\"b\": 0, \"l\": 0, \"r\": 0, \"t\": 33}, \"paper_bgcolor\": \"white\", \"plot_bgcolor\": \"white\", \"title\": {\"font\": {\"color\": \"#404040\", \"size\": 18}, \"text\": \"<b>Geometric Interpretation of LPs</b>\", \"x\": 0, \"xanchor\": \"left\", \"y\": 0.99, \"yanchor\": \"top\"}, \"width\": 950, \"xaxis\": {\"automargin\": true, \"domain\": [0, 0.39473684210526316], \"gridcolor\": \"#DFDFDF\", \"gridwidth\": 1, \"linecolor\": \"#404040\", \"linewidth\": 2, \"rangemode\": \"tozero\", \"showspikes\": false, \"tickcolor\": \"#DFDFDF\", \"ticks\": \"outside\", \"title\": {\"standoff\": 15, \"text\": \"x<sub>1</sub>\"}, \"zerolinewidth\": 2}, \"yaxis\": {\"automargin\": true, \"domain\": [0, 1], \"gridcolor\": \"#DFDFDF\", \"gridwidth\": 1, \"linecolor\": \"#404040\", \"linewidth\": 2, \"rangemode\": \"tozero\", \"showspikes\": false, \"tickcolor\": \"#DFDFDF\", \"ticks\": \"outside\", \"title\": {\"standoff\": 15, \"text\": \"x<sub>2</sub>\"}, \"zerolinewidth\": 2}}}, \"xaxis\": {\"anchor\": \"y\", \"domain\": [0.0, 0.39473684210526316], \"range\": [0, 3.5]}, \"xaxis2\": {\"domain\": [0.5, 1], \"range\": [0, 1], \"visible\": false}, \"yaxis\": {\"anchor\": \"x\", \"domain\": [0.0, 1.0], \"range\": [0, 2]}, \"yaxis2\": {\"domain\": [0.15, 1], \"range\": [0, 1], \"visible\": false}},                        {\"doubleClick\": false, \"displayModeBar\": false, \"editable\": false, \"responsive\": false, \"showAxisDragHandles\": false, \"showAxisRangeEntryBoxes\": false}                    ).then(function(){\n",
              "                            \n",
              "var gd = document.getElementById('ab732b0b-1c1e-4ea7-8e2f-452acbba9f1d');\n",
              "var x = new MutationObserver(function (mutations, observer) {{\n",
              "        var display = window.getComputedStyle(gd).display;\n",
              "        if (!display || display === 'none') {{\n",
              "            console.log([gd, 'removed!']);\n",
              "            Plotly.purge(gd);\n",
              "            observer.disconnect();\n",
              "        }}\n",
              "}});\n",
              "\n",
              "// Listen for the removal of the full notebook cells\n",
              "var notebookContainer = gd.closest('#notebook-container');\n",
              "if (notebookContainer) {{\n",
              "    x.observe(notebookContainer, {childList: true});\n",
              "}}\n",
              "\n",
              "// Listen for the clearing of the current output cell\n",
              "var outputEl = gd.closest('.output');\n",
              "if (outputEl) {{\n",
              "    x.observe(outputEl, {childList: true});\n",
              "}}\n",
              "\n",
              "                        })                };                            </script>        </div>\n",
              "</body>\n",
              "</html>"
            ]
          },
          "metadata": {
            "tags": []
          }
        }
      ]
    },
    {
      "cell_type": "markdown",
      "metadata": {
        "id": "kPEdCyLQ7zPJ"
      },
      "source": [
        "**Q22:** List every feasible solution to the integer program.\n",
        "\n",
        "**A:**(1,0)(0,0)(1,1)(0,1)(2,2)(2,0)"
      ]
    },
    {
      "cell_type": "markdown",
      "metadata": {
        "id": "JVQS9ed17zPJ"
      },
      "source": [
        "**Q23:** Is the constraint $x_2 \\leq 1$ a cutting plane? Why? (Hint: Would any feasible integer points become infeasible? What about feasible linear points?)\n",
        "\n",
        "**A:**Yes it is a cutting plane"
      ]
    },
    {
      "cell_type": "markdown",
      "metadata": {
        "id": "h5Pps2Cp7zPJ"
      },
      "source": [
        "Let's add this cutting plane to the LP relaxation!"
      ]
    },
    {
      "cell_type": "code",
      "metadata": {
        "colab": {
          "base_uri": "https://localhost:8080/",
          "height": 517
        },
        "id": "GdoerjUF7zPJ",
        "outputId": "cdfaa35d-577a-4d5a-deca-cc6bf870592b"
      },
      "source": [
        "lp = gilp.LP([[1,1],[2,0],[-1,2],[0,1]],\n",
        "             [3,5,2,1],\n",
        "             [2,1])\n",
        "fig = gilp.lp_visual(lp)\n",
        "fig.set_axis_limits([3.5,2])\n",
        "fig.add_trace(feasible_integer_pts(lp, fig))\n",
        "fig"
      ],
      "execution_count": 39,
      "outputs": [
        {
          "output_type": "display_data",
          "data": {
            "text/html": [
              "<html>\n",
              "<head><meta charset=\"utf-8\" /></head>\n",
              "<body>\n",
              "    <div>            <script src=\"https://cdnjs.cloudflare.com/ajax/libs/mathjax/2.7.5/MathJax.js?config=TeX-AMS-MML_SVG\"></script><script type=\"text/javascript\">if (window.MathJax) {MathJax.Hub.Config({SVG: {font: \"STIX-Web\"}});}</script>                <script type=\"text/javascript\">window.PlotlyConfig = {MathJaxConfig: 'local'};</script>\n",
              "        <script src=\"https://cdn.plot.ly/plotly-latest.min.js\"></script>                <div id=\"5cd489f9-d5f0-415e-966c-8893c4e61570\" class=\"plotly-graph-div\" style=\"height:500px; width:950px;\"></div>            <script type=\"text/javascript\">                                    window.PLOTLYENV=window.PLOTLYENV || {};                                    if (document.getElementById(\"5cd489f9-d5f0-415e-966c-8893c4e61570\")) {                    Plotly.newPlot(                        \"5cd489f9-d5f0-415e-966c-8893c4e61570\",                        [{\"type\": \"scatter\", \"visible\": false, \"x\": [3.25], \"y\": [1.3]}, {\"fill\": \"toself\", \"fillcolor\": \"#1565c0\", \"line\": {\"color\": \"#003c8f\", \"width\": 3}, \"mode\": \"lines\", \"opacity\": 0.2, \"type\": \"scatter\", \"x\": [0.0, 2.5, 2.5, 2.0, 0.0, 0.0], \"y\": [0.0, 0.0, 0.5, 1.0, 1.0, 0.0]}, {\"hoverinfo\": \"text\", \"hoverlabel\": {\"align\": \"left\", \"bgcolor\": \"white\", \"bordercolor\": \"#404040\", \"font\": {\"color\": \"#404040\", \"family\": \"Arial\"}}, \"marker\": {\"color\": \"gray\", \"opacity\": 1e-07, \"size\": 20}, \"text\": [\"<b>BFS</b>: (0, 0, 3, 5, 2, 1)<br><b>B</b>: (3, 4, 5, 6)<br><b>Obj</b>: 0\", \"<b>BFS</b>: (0, 1, 2, 5, 0, 0)<br><b>B<sub>1</sub></b>: (2, 3, 4, 1)<br><b>B<sub>2</sub></b>: (2, 3, 4, 5)<br><b>B<sub>3</sub></b>: (2, 3, 4, 6)<br><b>Obj</b>: 1\", \"<b>BFS</b>: (2, 1, 0, 1, 2, 0)<br><b>B</b>: (1, 2, 4, 5)<br><b>Obj</b>: 5\", \"<b>BFS</b>: (2.5, 0.5, 0, 0, 3.5, 0.5)<br><b>B</b>: (1, 2, 5, 6)<br><b>Obj</b>: 5.5\", \"<b>BFS</b>: (2.5, 0, 0.5, 0, 4.5, 1)<br><b>B</b>: (1, 3, 5, 6)<br><b>Obj</b>: 5\"], \"type\": \"scatter\", \"x\": [0.0, 0.0, 2.0, 2.5, 2.5], \"y\": [0.0, 1.0, 1.0, 0.5, 0.0]}, {\"line\": {\"dash\": \"15,3,5,3\", \"width\": 2}, \"mode\": \"lines\", \"name\": \"(3) 1x<sub>1</sub> + 1x<sub>2</sub> \\u2264 3\", \"showlegend\": true, \"type\": \"scatter\", \"x\": [0.0, 3.25], \"y\": [3.0, -0.25]}, {\"line\": {\"dash\": \"15,3,5,3\", \"width\": 2}, \"mode\": \"lines\", \"name\": \"(4) 2x<sub>1</sub> + 0x<sub>2</sub> \\u2264 5\", \"showlegend\": true, \"type\": \"scatter\", \"x\": [2.5, 2.5], \"y\": [0.0, 1.3]}, {\"line\": {\"dash\": \"15,3,5,3\", \"width\": 2}, \"mode\": \"lines\", \"name\": \"(5) -1x<sub>1</sub> + 2x<sub>2</sub> \\u2264 2\", \"showlegend\": true, \"type\": \"scatter\", \"x\": [0.0, 3.25], \"y\": [1.0, 2.625]}, {\"line\": {\"dash\": \"15,3,5,3\", \"width\": 2}, \"mode\": \"lines\", \"name\": \"(6) 0x<sub>1</sub> + 1x<sub>2</sub> \\u2264 1\", \"showlegend\": true, \"type\": \"scatter\", \"x\": [0.0, 3.25], \"y\": [1.0, 1.0]}, {\"line\": {\"color\": \"#d50000\", \"width\": 4}, \"mode\": \"lines\", \"type\": \"scatter\", \"visible\": false, \"x\": [0.0, 3.25], \"y\": [0.0, -6.5]}, {\"line\": {\"color\": \"#d50000\", \"width\": 4}, \"mode\": \"lines\", \"type\": \"scatter\", \"visible\": false, \"x\": [0.0, 3.25], \"y\": [0.32, -6.18]}, {\"line\": {\"color\": \"#d50000\", \"width\": 4}, \"mode\": \"lines\", \"type\": \"scatter\", \"visible\": false, \"x\": [0.0, 3.25], \"y\": [0.65, -5.85]}, {\"line\": {\"color\": \"#d50000\", \"width\": 4}, \"mode\": \"lines\", \"type\": \"scatter\", \"visible\": false, \"x\": [0.0, 3.25], \"y\": [0.98, -5.52]}, {\"line\": {\"color\": \"#d50000\", \"width\": 4}, \"mode\": \"lines\", \"type\": \"scatter\", \"visible\": false, \"x\": [0.0, 3.25], \"y\": [1.3, -5.2]}, {\"line\": {\"color\": \"#d50000\", \"width\": 4}, \"mode\": \"lines\", \"type\": \"scatter\", \"visible\": false, \"x\": [0.0, 3.25], \"y\": [1.62, -4.88]}, {\"line\": {\"color\": \"#d50000\", \"width\": 4}, \"mode\": \"lines\", \"type\": \"scatter\", \"visible\": false, \"x\": [0.0, 3.25], \"y\": [1.95, -4.55]}, {\"line\": {\"color\": \"#d50000\", \"width\": 4}, \"mode\": \"lines\", \"type\": \"scatter\", \"visible\": false, \"x\": [0.0, 3.25], \"y\": [2.28, -4.220000000000001]}, {\"line\": {\"color\": \"#d50000\", \"width\": 4}, \"mode\": \"lines\", \"type\": \"scatter\", \"visible\": false, \"x\": [0.0, 3.25], \"y\": [2.6, -3.9]}, {\"line\": {\"color\": \"#d50000\", \"width\": 4}, \"mode\": \"lines\", \"type\": \"scatter\", \"visible\": false, \"x\": [0.0, 3.25], \"y\": [2.92, -3.58]}, {\"line\": {\"color\": \"#d50000\", \"width\": 4}, \"mode\": \"lines\", \"type\": \"scatter\", \"visible\": false, \"x\": [0.0, 3.25], \"y\": [3.25, -3.25]}, {\"line\": {\"color\": \"#d50000\", \"width\": 4}, \"mode\": \"lines\", \"type\": \"scatter\", \"visible\": false, \"x\": [0.0, 3.25], \"y\": [3.58, -2.92]}, {\"line\": {\"color\": \"#d50000\", \"width\": 4}, \"mode\": \"lines\", \"type\": \"scatter\", \"visible\": false, \"x\": [0.0, 3.25], \"y\": [3.9, -2.6]}, {\"line\": {\"color\": \"#d50000\", \"width\": 4}, \"mode\": \"lines\", \"type\": \"scatter\", \"visible\": false, \"x\": [0.0, 3.25], \"y\": [4.23, -2.2699999999999996]}, {\"line\": {\"color\": \"#d50000\", \"width\": 4}, \"mode\": \"lines\", \"type\": \"scatter\", \"visible\": false, \"x\": [0.0, 3.25], \"y\": [4.55, -1.9500000000000002]}, {\"line\": {\"color\": \"#d50000\", \"width\": 4}, \"mode\": \"lines\", \"type\": \"scatter\", \"visible\": false, \"x\": [0.0, 3.25], \"y\": [4.88, -1.62]}, {\"line\": {\"color\": \"#d50000\", \"width\": 4}, \"mode\": \"lines\", \"type\": \"scatter\", \"visible\": false, \"x\": [0.0, 3.25], \"y\": [5.2, -1.2999999999999998]}, {\"line\": {\"color\": \"#d50000\", \"width\": 4}, \"mode\": \"lines\", \"type\": \"scatter\", \"visible\": false, \"x\": [0.0, 3.25], \"y\": [5.5, -1.0]}, {\"line\": {\"color\": \"#d50000\", \"width\": 4}, \"mode\": \"lines\", \"type\": \"scatter\", \"visible\": false, \"x\": [0.0, 3.25], \"y\": [5.52, -0.9800000000000004]}, {\"line\": {\"color\": \"#d50000\", \"width\": 4}, \"mode\": \"lines\", \"type\": \"scatter\", \"visible\": false, \"x\": [0.0, 3.25], \"y\": [5.85, -0.6500000000000004]}, {\"line\": {\"color\": \"#d50000\", \"width\": 4}, \"mode\": \"lines\", \"type\": \"scatter\", \"visible\": false, \"x\": [0.0, 3.25], \"y\": [6.18, -0.3200000000000003]}, {\"line\": {\"color\": \"#d50000\", \"width\": 4}, \"mode\": \"lines\", \"type\": \"scatter\", \"visible\": false, \"x\": [0.0, 3.25], \"y\": [6.5, 0.0]}, {\"line\": {\"color\": \"#d50000\", \"width\": 4}, \"mode\": \"lines\", \"type\": \"scatter\", \"visible\": false, \"x\": [0.0, 3.25], \"y\": [6.82, 0.3200000000000003]}, {\"line\": {\"color\": \"#d50000\", \"width\": 4}, \"mode\": \"lines\", \"type\": \"scatter\", \"visible\": false, \"x\": [0.0, 3.25], \"y\": [7.15, 0.6500000000000004]}, {\"line\": {\"color\": \"#d50000\", \"width\": 4}, \"mode\": \"lines\", \"type\": \"scatter\", \"visible\": false, \"x\": [0.0, 3.25], \"y\": [7.48, 0.9800000000000004]}, {\"line\": {\"color\": \"#d50000\", \"width\": 4}, \"mode\": \"lines\", \"type\": \"scatter\", \"visible\": false, \"x\": [0.0, 3.25], \"y\": [7.8, 1.2999999999999998]}, {\"type\": \"scatter\", \"visible\": false, \"x\": [3.5], \"y\": [2.0]}, {\"marker\": {\"color\": \"#404040\", \"line\": {\"color\": \"#404040\"}, \"symbol\": \"circle\"}, \"opacity\": 0.4, \"type\": \"scatter\", \"x\": [0, 0, 1, 1, 2, 2], \"y\": [0, 1, 0, 1, 0, 1]}],                        {\"sliders\": [{\"active\": 0, \"currentvalue\": {\"prefix\": \"Objective Value: \"}, \"len\": 0.39473684210526316, \"lenmode\": \"fraction\", \"steps\": [{\"args\": [{\"visible\": [false, null, null, null, null, null, null, true, false, false, false, false, false, false, false, false, false, false, false, false, false, false, false, false, false, false, false, false, false, false, false, false, false]}], \"label\": \"0.0\", \"method\": \"update\"}, {\"args\": [{\"visible\": [false, null, null, null, null, null, null, false, true, false, false, false, false, false, false, false, false, false, false, false, false, false, false, false, false, false, false, false, false, false, false, false, false]}], \"label\": \"0.32\", \"method\": \"update\"}, {\"args\": [{\"visible\": [false, null, null, null, null, null, null, false, false, true, false, false, false, false, false, false, false, false, false, false, false, false, false, false, false, false, false, false, false, false, false, false, false]}], \"label\": \"0.65\", \"method\": \"update\"}, {\"args\": [{\"visible\": [false, null, null, null, null, null, null, false, false, false, true, false, false, false, false, false, false, false, false, false, false, false, false, false, false, false, false, false, false, false, false, false, false]}], \"label\": \"0.98\", \"method\": \"update\"}, {\"args\": [{\"visible\": [false, null, null, null, null, null, null, false, false, false, false, true, false, false, false, false, false, false, false, false, false, false, false, false, false, false, false, false, false, false, false, false, false]}], \"label\": \"1.3\", \"method\": \"update\"}, {\"args\": [{\"visible\": [false, null, null, null, null, null, null, false, false, false, false, false, true, false, false, false, false, false, false, false, false, false, false, false, false, false, false, false, false, false, false, false, false]}], \"label\": \"1.62\", \"method\": \"update\"}, {\"args\": [{\"visible\": [false, null, null, null, null, null, null, false, false, false, false, false, false, true, false, false, false, false, false, false, false, false, false, false, false, false, false, false, false, false, false, false, false]}], \"label\": \"1.95\", \"method\": \"update\"}, {\"args\": [{\"visible\": [false, null, null, null, null, null, null, false, false, false, false, false, false, false, true, false, false, false, false, false, false, false, false, false, false, false, false, false, false, false, false, false, false]}], \"label\": \"2.28\", \"method\": \"update\"}, {\"args\": [{\"visible\": [false, null, null, null, null, null, null, false, false, false, false, false, false, false, false, true, false, false, false, false, false, false, false, false, false, false, false, false, false, false, false, false, false]}], \"label\": \"2.6\", \"method\": \"update\"}, {\"args\": [{\"visible\": [false, null, null, null, null, null, null, false, false, false, false, false, false, false, false, false, true, false, false, false, false, false, false, false, false, false, false, false, false, false, false, false, false]}], \"label\": \"2.92\", \"method\": \"update\"}, {\"args\": [{\"visible\": [false, null, null, null, null, null, null, false, false, false, false, false, false, false, false, false, false, true, false, false, false, false, false, false, false, false, false, false, false, false, false, false, false]}], \"label\": \"3.25\", \"method\": \"update\"}, {\"args\": [{\"visible\": [false, null, null, null, null, null, null, false, false, false, false, false, false, false, false, false, false, false, true, false, false, false, false, false, false, false, false, false, false, false, false, false, false]}], \"label\": \"3.58\", \"method\": \"update\"}, {\"args\": [{\"visible\": [false, null, null, null, null, null, null, false, false, false, false, false, false, false, false, false, false, false, false, true, false, false, false, false, false, false, false, false, false, false, false, false, false]}], \"label\": \"3.9\", \"method\": \"update\"}, {\"args\": [{\"visible\": [false, null, null, null, null, null, null, false, false, false, false, false, false, false, false, false, false, false, false, false, true, false, false, false, false, false, false, false, false, false, false, false, false]}], \"label\": \"4.23\", \"method\": \"update\"}, {\"args\": [{\"visible\": [false, null, null, null, null, null, null, false, false, false, false, false, false, false, false, false, false, false, false, false, false, true, false, false, false, false, false, false, false, false, false, false, false]}], \"label\": \"4.55\", \"method\": \"update\"}, {\"args\": [{\"visible\": [false, null, null, null, null, null, null, false, false, false, false, false, false, false, false, false, false, false, false, false, false, false, true, false, false, false, false, false, false, false, false, false, false]}], \"label\": \"4.88\", \"method\": \"update\"}, {\"args\": [{\"visible\": [false, null, null, null, null, null, null, false, false, false, false, false, false, false, false, false, false, false, false, false, false, false, false, true, false, false, false, false, false, false, false, false, false]}], \"label\": \"5.2\", \"method\": \"update\"}, {\"args\": [{\"visible\": [false, null, null, null, null, null, null, false, false, false, false, false, false, false, false, false, false, false, false, false, false, false, false, false, true, false, false, false, false, false, false, false, false]}], \"label\": \"5.5\", \"method\": \"update\"}, {\"args\": [{\"visible\": [false, null, null, null, null, null, null, false, false, false, false, false, false, false, false, false, false, false, false, false, false, false, false, false, false, true, false, false, false, false, false, false, false]}], \"label\": \"5.52\", \"method\": \"update\"}, {\"args\": [{\"visible\": [false, null, null, null, null, null, null, false, false, false, false, false, false, false, false, false, false, false, false, false, false, false, false, false, false, false, true, false, false, false, false, false, false]}], \"label\": \"5.85\", \"method\": \"update\"}, {\"args\": [{\"visible\": [false, null, null, null, null, null, null, false, false, false, false, false, false, false, false, false, false, false, false, false, false, false, false, false, false, false, false, true, false, false, false, false, false]}], \"label\": \"6.18\", \"method\": \"update\"}, {\"args\": [{\"visible\": [false, null, null, null, null, null, null, false, false, false, false, false, false, false, false, false, false, false, false, false, false, false, false, false, false, false, false, false, true, false, false, false, false]}], \"label\": \"6.5\", \"method\": \"update\"}, {\"args\": [{\"visible\": [false, null, null, null, null, null, null, false, false, false, false, false, false, false, false, false, false, false, false, false, false, false, false, false, false, false, false, false, false, true, false, false, false]}], \"label\": \"6.82\", \"method\": \"update\"}, {\"args\": [{\"visible\": [false, null, null, null, null, null, null, false, false, false, false, false, false, false, false, false, false, false, false, false, false, false, false, false, false, false, false, false, false, false, true, false, false]}], \"label\": \"7.15\", \"method\": \"update\"}, {\"args\": [{\"visible\": [false, null, null, null, null, null, null, false, false, false, false, false, false, false, false, false, false, false, false, false, false, false, false, false, false, false, false, false, false, false, false, true, false]}], \"label\": \"7.48\", \"method\": \"update\"}], \"tickcolor\": \"white\", \"ticklen\": 0, \"x\": 0.6052631578947368, \"xanchor\": \"left\", \"y\": 0.01, \"yanchor\": \"bottom\"}], \"template\": {\"data\": {\"scatter\": [{\"fillcolor\": \"#1565c0\", \"hoverinfo\": \"none\", \"line\": {\"color\": \"#173D90\", \"width\": 4}, \"marker\": {\"color\": \"white\", \"line\": {\"color\": \"#d50000\", \"width\": 2}, \"opacity\": 0.99, \"size\": 9}, \"mode\": \"markers\", \"showlegend\": false, \"type\": \"scatter\", \"visible\": true}, {\"fillcolor\": \"#1565c0\", \"hoverinfo\": \"none\", \"line\": {\"color\": \"#1469FE\", \"width\": 4}, \"marker\": {\"color\": \"white\", \"line\": {\"color\": \"#d50000\", \"width\": 2}, \"opacity\": 0.99, \"size\": 9}, \"mode\": \"markers\", \"showlegend\": false, \"type\": \"scatter\", \"visible\": true}, {\"fillcolor\": \"#1565c0\", \"hoverinfo\": \"none\", \"line\": {\"color\": \"#65ADFF\", \"width\": 4}, \"marker\": {\"color\": \"white\", \"line\": {\"color\": \"#d50000\", \"width\": 2}, \"opacity\": 0.99, \"size\": 9}, \"mode\": \"markers\", \"showlegend\": false, \"type\": \"scatter\", \"visible\": true}, {\"fillcolor\": \"#1565c0\", \"hoverinfo\": \"none\", \"line\": {\"color\": \"#474849\", \"width\": 4}, \"marker\": {\"color\": \"white\", \"line\": {\"color\": \"#d50000\", \"width\": 2}, \"opacity\": 0.99, \"size\": 9}, \"mode\": \"markers\", \"showlegend\": false, \"type\": \"scatter\", \"visible\": true}, {\"fillcolor\": \"#1565c0\", \"hoverinfo\": \"none\", \"line\": {\"color\": \"#A90C0C\", \"width\": 4}, \"marker\": {\"color\": \"white\", \"line\": {\"color\": \"#d50000\", \"width\": 2}, \"opacity\": 0.99, \"size\": 9}, \"mode\": \"markers\", \"showlegend\": false, \"type\": \"scatter\", \"visible\": true}, {\"fillcolor\": \"#1565c0\", \"hoverinfo\": \"none\", \"line\": {\"color\": \"#DC0000\", \"width\": 4}, \"marker\": {\"color\": \"white\", \"line\": {\"color\": \"#d50000\", \"width\": 2}, \"opacity\": 0.99, \"size\": 9}, \"mode\": \"markers\", \"showlegend\": false, \"type\": \"scatter\", \"visible\": true}], \"scatter3d\": [{\"hoverinfo\": \"none\", \"line\": {\"color\": \"#1565c0\", \"width\": 6}, \"marker\": {\"color\": \"#ff5131\", \"line\": {\"color\": \"#d50000\", \"width\": 1}, \"opacity\": 0.99, \"size\": 5, \"symbol\": \"circle-open\"}, \"mode\": \"markers\", \"showlegend\": false, \"surfacecolor\": \"#5e92f3\", \"type\": \"scatter3d\", \"visible\": true}], \"table\": [{\"cells\": {\"fill\": {\"color\": \"white\"}, \"font\": {\"color\": [[\"black\", \"#d50000\", \"black\"], [\"black\", \"black\", \"black\"]]}}, \"header\": {\"fill\": {\"color\": \"white\"}, \"font\": {\"color\": [\"#d50000\", \"black\"]}}, \"type\": \"table\", \"visible\": false}]}, \"layout\": {\"annotations\": [{\"align\": \"center\", \"ax\": 0, \"ay\": 0, \"bgcolor\": \"#45568B\", \"bordercolor\": \"#404040\", \"borderpad\": 3, \"borderwidth\": 2, \"font\": {\"color\": \"white\", \"size\": 12}, \"name\": \"current\", \"visible\": false}, {\"align\": \"center\", \"ax\": 0, \"ay\": 0, \"bgcolor\": \"#D8E4F9\", \"bordercolor\": \"#404040\", \"borderpad\": 3, \"borderwidth\": 2, \"font\": {\"color\": \"#404040\", \"size\": 12}, \"name\": \"explored\", \"visible\": false}, {\"align\": \"center\", \"ax\": 0, \"ay\": 0, \"bgcolor\": \"white\", \"bordercolor\": \"#404040\", \"borderpad\": 3, \"borderwidth\": 2, \"font\": {\"color\": \"#404040\", \"size\": 12}, \"name\": \"unexplored\", \"visible\": false}], \"clickmode\": \"none\", \"dragmode\": \"turntable\", \"font\": {\"color\": \"#404040\", \"family\": \"Arial\"}, \"height\": 500, \"hovermode\": \"closest\", \"legend\": {\"font\": {\"size\": 13}, \"title\": {\"font\": {\"size\": 14}, \"text\": \"<b>Constraint(s)</b>\"}, \"x\": 0.39473684210526316, \"xanchor\": \"left\", \"y\": 1, \"yanchor\": \"top\"}, \"margin\": {\"b\": 0, \"l\": 0, \"r\": 0, \"t\": 33}, \"paper_bgcolor\": \"white\", \"plot_bgcolor\": \"white\", \"title\": {\"font\": {\"color\": \"#404040\", \"size\": 18}, \"text\": \"<b>Geometric Interpretation of LPs</b>\", \"x\": 0, \"xanchor\": \"left\", \"y\": 0.99, \"yanchor\": \"top\"}, \"width\": 950, \"xaxis\": {\"automargin\": true, \"domain\": [0, 0.39473684210526316], \"gridcolor\": \"#DFDFDF\", \"gridwidth\": 1, \"linecolor\": \"#404040\", \"linewidth\": 2, \"rangemode\": \"tozero\", \"showspikes\": false, \"tickcolor\": \"#DFDFDF\", \"ticks\": \"outside\", \"title\": {\"standoff\": 15, \"text\": \"x<sub>1</sub>\"}, \"zerolinewidth\": 2}, \"yaxis\": {\"automargin\": true, \"domain\": [0, 1], \"gridcolor\": \"#DFDFDF\", \"gridwidth\": 1, \"linecolor\": \"#404040\", \"linewidth\": 2, \"rangemode\": \"tozero\", \"showspikes\": false, \"tickcolor\": \"#DFDFDF\", \"ticks\": \"outside\", \"title\": {\"standoff\": 15, \"text\": \"x<sub>2</sub>\"}, \"zerolinewidth\": 2}}}, \"xaxis\": {\"anchor\": \"y\", \"domain\": [0.0, 0.39473684210526316], \"range\": [0, 3.5]}, \"xaxis2\": {\"domain\": [0.5, 1], \"range\": [0, 1], \"visible\": false}, \"yaxis\": {\"anchor\": \"x\", \"domain\": [0.0, 1.0], \"range\": [0, 2]}, \"yaxis2\": {\"domain\": [0.15, 1], \"range\": [0, 1], \"visible\": false}},                        {\"doubleClick\": false, \"displayModeBar\": false, \"editable\": false, \"responsive\": false, \"showAxisDragHandles\": false, \"showAxisRangeEntryBoxes\": false}                    ).then(function(){\n",
              "                            \n",
              "var gd = document.getElementById('5cd489f9-d5f0-415e-966c-8893c4e61570');\n",
              "var x = new MutationObserver(function (mutations, observer) {{\n",
              "        var display = window.getComputedStyle(gd).display;\n",
              "        if (!display || display === 'none') {{\n",
              "            console.log([gd, 'removed!']);\n",
              "            Plotly.purge(gd);\n",
              "            observer.disconnect();\n",
              "        }}\n",
              "}});\n",
              "\n",
              "// Listen for the removal of the full notebook cells\n",
              "var notebookContainer = gd.closest('#notebook-container');\n",
              "if (notebookContainer) {{\n",
              "    x.observe(notebookContainer, {childList: true});\n",
              "}}\n",
              "\n",
              "// Listen for the clearing of the current output cell\n",
              "var outputEl = gd.closest('.output');\n",
              "if (outputEl) {{\n",
              "    x.observe(outputEl, {childList: true});\n",
              "}}\n",
              "\n",
              "                        })                };                            </script>        </div>\n",
              "</body>\n",
              "</html>"
            ]
          },
          "metadata": {
            "tags": []
          }
        }
      ]
    },
    {
      "cell_type": "markdown",
      "metadata": {
        "id": "4xb_BDjU7zPJ"
      },
      "source": [
        "**Q24:** Is the constraint $x_1 \\leq 3$ a cutting plane? Why?\n",
        "\n",
        "**A:**Yes cuts set of possible solutions"
      ]
    },
    {
      "cell_type": "markdown",
      "metadata": {
        "id": "sjClzMhI7zPJ"
      },
      "source": [
        "**Q25:** Can you provide another cutting plane? If so, what is it?\n",
        "\n",
        "**A:**  The third constraints"
      ]
    },
    {
      "cell_type": "markdown",
      "metadata": {
        "id": "gS2PSRKT7zPJ"
      },
      "source": [
        "Let's look at the feasible region after adding the cutting plane from **Q23** and one of the possible answers from **Q25**. Notice the optimal solution to the LP relaxation is now integral!"
      ]
    },
    {
      "cell_type": "code",
      "metadata": {
        "colab": {
          "base_uri": "https://localhost:8080/",
          "height": 517
        },
        "id": "55E9tkdI7zPJ",
        "outputId": "9efe3c7e-08cf-4d3f-be23-d0e6d2bf8107"
      },
      "source": [
        "lp = gilp.LP([[1,1],[2,0],[-1,2],[0,1],[1,0]],\n",
        "             [3,5,2,1,2],\n",
        "             [2,1])\n",
        "fig = gilp.lp_visual(lp)\n",
        "fig.set_axis_limits([3.5,2])\n",
        "fig.add_trace(feasible_integer_pts(lp, fig))\n",
        "fig"
      ],
      "execution_count": 40,
      "outputs": [
        {
          "output_type": "display_data",
          "data": {
            "text/html": [
              "<html>\n",
              "<head><meta charset=\"utf-8\" /></head>\n",
              "<body>\n",
              "    <div>            <script src=\"https://cdnjs.cloudflare.com/ajax/libs/mathjax/2.7.5/MathJax.js?config=TeX-AMS-MML_SVG\"></script><script type=\"text/javascript\">if (window.MathJax) {MathJax.Hub.Config({SVG: {font: \"STIX-Web\"}});}</script>                <script type=\"text/javascript\">window.PlotlyConfig = {MathJaxConfig: 'local'};</script>\n",
              "        <script src=\"https://cdn.plot.ly/plotly-latest.min.js\"></script>                <div id=\"22893035-1443-48d3-95cf-1fe651ec6983\" class=\"plotly-graph-div\" style=\"height:500px; width:950px;\"></div>            <script type=\"text/javascript\">                                    window.PLOTLYENV=window.PLOTLYENV || {};                                    if (document.getElementById(\"22893035-1443-48d3-95cf-1fe651ec6983\")) {                    Plotly.newPlot(                        \"22893035-1443-48d3-95cf-1fe651ec6983\",                        [{\"type\": \"scatter\", \"visible\": false, \"x\": [2.6], \"y\": [1.3]}, {\"fill\": \"toself\", \"fillcolor\": \"#1565c0\", \"line\": {\"color\": \"#003c8f\", \"width\": 3}, \"mode\": \"lines\", \"opacity\": 0.2, \"type\": \"scatter\", \"x\": [0.0, 2.0, 2.0, 0.0, 0.0], \"y\": [0.0, 0.0, 1.0, 1.0, 0.0]}, {\"hoverinfo\": \"text\", \"hoverlabel\": {\"align\": \"left\", \"bgcolor\": \"white\", \"bordercolor\": \"#404040\", \"font\": {\"color\": \"#404040\", \"family\": \"Arial\"}}, \"marker\": {\"color\": \"gray\", \"opacity\": 1e-07, \"size\": 20}, \"text\": [\"<b>BFS</b>: (0, 0, 3, 5, 2, 1, 2)<br><b>B</b>: (3, 4, 5, 6, 7)<br><b>Obj</b>: 0\", \"<b>BFS</b>: (2, 0, 1, 1, 4, 1, 0)<br><b>B</b>: (1, 3, 4, 5, 6)<br><b>Obj</b>: 4\", \"<b>BFS</b>: (0, 1, 2, 5, 0, 0, 2)<br><b>B<sub>1</sub></b>: (2, 3, 4, 7, 1)<br><b>B<sub>2</sub></b>: (2, 3, 4, 7, 5)<br><b>B<sub>3</sub></b>: (2, 3, 4, 7, 6)<br><b>Obj</b>: 1\", \"<b>BFS</b>: (2, 1, 0, 1, 2, 0, 0)<br><b>B<sub>1</sub></b>: (1, 2, 4, 5, 3)<br><b>B<sub>2</sub></b>: (1, 2, 4, 5, 6)<br><b>B<sub>3</sub></b>: (1, 2, 4, 5, 7)<br><b>Obj</b>: 5\"], \"type\": \"scatter\", \"x\": [0.0, 2.0, 0.0, 2.0], \"y\": [0.0, 0.0, 1.0, 1.0]}, {\"line\": {\"dash\": \"15,3,5,3\", \"width\": 2}, \"mode\": \"lines\", \"name\": \"(3) 1x<sub>1</sub> + 1x<sub>2</sub> \\u2264 3\", \"showlegend\": true, \"type\": \"scatter\", \"x\": [0.0, 2.6], \"y\": [3.0, 0.3999999999999999]}, {\"line\": {\"dash\": \"15,3,5,3\", \"width\": 2}, \"mode\": \"lines\", \"name\": \"(4) 2x<sub>1</sub> + 0x<sub>2</sub> \\u2264 5\", \"showlegend\": true, \"type\": \"scatter\", \"x\": [2.5, 2.5], \"y\": [0.0, 1.3]}, {\"line\": {\"dash\": \"15,3,5,3\", \"width\": 2}, \"mode\": \"lines\", \"name\": \"(5) -1x<sub>1</sub> + 2x<sub>2</sub> \\u2264 2\", \"showlegend\": true, \"type\": \"scatter\", \"x\": [0.0, 2.6], \"y\": [1.0, 2.3]}, {\"line\": {\"dash\": \"15,3,5,3\", \"width\": 2}, \"mode\": \"lines\", \"name\": \"(6) 0x<sub>1</sub> + 1x<sub>2</sub> \\u2264 1\", \"showlegend\": true, \"type\": \"scatter\", \"x\": [0.0, 2.6], \"y\": [1.0, 1.0]}, {\"line\": {\"dash\": \"15,3,5,3\", \"width\": 2}, \"mode\": \"lines\", \"name\": \"(7) 1x<sub>1</sub> + 0x<sub>2</sub> \\u2264 2\", \"showlegend\": true, \"type\": \"scatter\", \"x\": [2.0, 2.0], \"y\": [0.0, 1.3]}, {\"line\": {\"color\": \"#d50000\", \"width\": 4}, \"mode\": \"lines\", \"type\": \"scatter\", \"visible\": false, \"x\": [0.0, 2.6], \"y\": [0.0, -5.2]}, {\"line\": {\"color\": \"#d50000\", \"width\": 4}, \"mode\": \"lines\", \"type\": \"scatter\", \"visible\": false, \"x\": [0.0, 2.6], \"y\": [0.27, -4.93]}, {\"line\": {\"color\": \"#d50000\", \"width\": 4}, \"mode\": \"lines\", \"type\": \"scatter\", \"visible\": false, \"x\": [0.0, 2.6], \"y\": [0.54, -4.66]}, {\"line\": {\"color\": \"#d50000\", \"width\": 4}, \"mode\": \"lines\", \"type\": \"scatter\", \"visible\": false, \"x\": [0.0, 2.6], \"y\": [0.81, -4.390000000000001]}, {\"line\": {\"color\": \"#d50000\", \"width\": 4}, \"mode\": \"lines\", \"type\": \"scatter\", \"visible\": false, \"x\": [0.0, 2.6], \"y\": [1.08, -4.12]}, {\"line\": {\"color\": \"#d50000\", \"width\": 4}, \"mode\": \"lines\", \"type\": \"scatter\", \"visible\": false, \"x\": [0.0, 2.6], \"y\": [1.35, -3.85]}, {\"line\": {\"color\": \"#d50000\", \"width\": 4}, \"mode\": \"lines\", \"type\": \"scatter\", \"visible\": false, \"x\": [0.0, 2.6], \"y\": [1.62, -3.58]}, {\"line\": {\"color\": \"#d50000\", \"width\": 4}, \"mode\": \"lines\", \"type\": \"scatter\", \"visible\": false, \"x\": [0.0, 2.6], \"y\": [1.9, -3.3000000000000003]}, {\"line\": {\"color\": \"#d50000\", \"width\": 4}, \"mode\": \"lines\", \"type\": \"scatter\", \"visible\": false, \"x\": [0.0, 2.6], \"y\": [2.17, -3.0300000000000002]}, {\"line\": {\"color\": \"#d50000\", \"width\": 4}, \"mode\": \"lines\", \"type\": \"scatter\", \"visible\": false, \"x\": [0.0, 2.6], \"y\": [2.44, -2.7600000000000002]}, {\"line\": {\"color\": \"#d50000\", \"width\": 4}, \"mode\": \"lines\", \"type\": \"scatter\", \"visible\": false, \"x\": [0.0, 2.6], \"y\": [2.71, -2.49]}, {\"line\": {\"color\": \"#d50000\", \"width\": 4}, \"mode\": \"lines\", \"type\": \"scatter\", \"visible\": false, \"x\": [0.0, 2.6], \"y\": [2.98, -2.22]}, {\"line\": {\"color\": \"#d50000\", \"width\": 4}, \"mode\": \"lines\", \"type\": \"scatter\", \"visible\": false, \"x\": [0.0, 2.6], \"y\": [3.25, -1.9500000000000002]}, {\"line\": {\"color\": \"#d50000\", \"width\": 4}, \"mode\": \"lines\", \"type\": \"scatter\", \"visible\": false, \"x\": [0.0, 2.6], \"y\": [3.52, -1.6800000000000002]}, {\"line\": {\"color\": \"#d50000\", \"width\": 4}, \"mode\": \"lines\", \"type\": \"scatter\", \"visible\": false, \"x\": [0.0, 2.6], \"y\": [3.79, -1.4100000000000001]}, {\"line\": {\"color\": \"#d50000\", \"width\": 4}, \"mode\": \"lines\", \"type\": \"scatter\", \"visible\": false, \"x\": [0.0, 2.6], \"y\": [4.06, -1.1400000000000006]}, {\"line\": {\"color\": \"#d50000\", \"width\": 4}, \"mode\": \"lines\", \"type\": \"scatter\", \"visible\": false, \"x\": [0.0, 2.6], \"y\": [4.33, -0.8700000000000001]}, {\"line\": {\"color\": \"#d50000\", \"width\": 4}, \"mode\": \"lines\", \"type\": \"scatter\", \"visible\": false, \"x\": [0.0, 2.6], \"y\": [4.6, -0.6000000000000005]}, {\"line\": {\"color\": \"#d50000\", \"width\": 4}, \"mode\": \"lines\", \"type\": \"scatter\", \"visible\": false, \"x\": [0.0, 2.6], \"y\": [4.88, -0.3200000000000003]}, {\"line\": {\"color\": \"#d50000\", \"width\": 4}, \"mode\": \"lines\", \"type\": \"scatter\", \"visible\": false, \"x\": [0.0, 2.6], \"y\": [5.0, -0.20000000000000018]}, {\"line\": {\"color\": \"#d50000\", \"width\": 4}, \"mode\": \"lines\", \"type\": \"scatter\", \"visible\": false, \"x\": [0.0, 2.6], \"y\": [5.15, -0.04999999999999982]}, {\"line\": {\"color\": \"#d50000\", \"width\": 4}, \"mode\": \"lines\", \"type\": \"scatter\", \"visible\": false, \"x\": [0.0, 2.6], \"y\": [5.42, 0.21999999999999975]}, {\"line\": {\"color\": \"#d50000\", \"width\": 4}, \"mode\": \"lines\", \"type\": \"scatter\", \"visible\": false, \"x\": [0.0, 2.6], \"y\": [5.69, 0.4900000000000002]}, {\"line\": {\"color\": \"#d50000\", \"width\": 4}, \"mode\": \"lines\", \"type\": \"scatter\", \"visible\": false, \"x\": [0.0, 2.6], \"y\": [5.96, 0.7599999999999998]}, {\"line\": {\"color\": \"#d50000\", \"width\": 4}, \"mode\": \"lines\", \"type\": \"scatter\", \"visible\": false, \"x\": [0.0, 2.6], \"y\": [6.23, 1.0300000000000002]}, {\"line\": {\"color\": \"#d50000\", \"width\": 4}, \"mode\": \"lines\", \"type\": \"scatter\", \"visible\": false, \"x\": [0.0, 2.6], \"y\": [6.5, 1.2999999999999998]}, {\"type\": \"scatter\", \"visible\": false, \"x\": [3.5], \"y\": [2.0]}, {\"marker\": {\"color\": \"#404040\", \"line\": {\"color\": \"#404040\"}, \"symbol\": \"circle\"}, \"opacity\": 0.4, \"type\": \"scatter\", \"x\": [0, 0, 1, 1, 2, 2], \"y\": [0, 1, 0, 1, 0, 1]}],                        {\"sliders\": [{\"active\": 0, \"currentvalue\": {\"prefix\": \"Objective Value: \"}, \"len\": 0.39473684210526316, \"lenmode\": \"fraction\", \"steps\": [{\"args\": [{\"visible\": [false, null, null, null, null, null, null, null, true, false, false, false, false, false, false, false, false, false, false, false, false, false, false, false, false, false, false, false, false, false, false, false, false, false]}], \"label\": \"0.0\", \"method\": \"update\"}, {\"args\": [{\"visible\": [false, null, null, null, null, null, null, null, false, true, false, false, false, false, false, false, false, false, false, false, false, false, false, false, false, false, false, false, false, false, false, false, false, false]}], \"label\": \"0.27\", \"method\": \"update\"}, {\"args\": [{\"visible\": [false, null, null, null, null, null, null, null, false, false, true, false, false, false, false, false, false, false, false, false, false, false, false, false, false, false, false, false, false, false, false, false, false, false]}], \"label\": \"0.54\", \"method\": \"update\"}, {\"args\": [{\"visible\": [false, null, null, null, null, null, null, null, false, false, false, true, false, false, false, false, false, false, false, false, false, false, false, false, false, false, false, false, false, false, false, false, false, false]}], \"label\": \"0.81\", \"method\": \"update\"}, {\"args\": [{\"visible\": [false, null, null, null, null, null, null, null, false, false, false, false, true, false, false, false, false, false, false, false, false, false, false, false, false, false, false, false, false, false, false, false, false, false]}], \"label\": \"1.08\", \"method\": \"update\"}, {\"args\": [{\"visible\": [false, null, null, null, null, null, null, null, false, false, false, false, false, true, false, false, false, false, false, false, false, false, false, false, false, false, false, false, false, false, false, false, false, false]}], \"label\": \"1.35\", \"method\": \"update\"}, {\"args\": [{\"visible\": [false, null, null, null, null, null, null, null, false, false, false, false, false, false, true, false, false, false, false, false, false, false, false, false, false, false, false, false, false, false, false, false, false, false]}], \"label\": \"1.62\", \"method\": \"update\"}, {\"args\": [{\"visible\": [false, null, null, null, null, null, null, null, false, false, false, false, false, false, false, true, false, false, false, false, false, false, false, false, false, false, false, false, false, false, false, false, false, false]}], \"label\": \"1.9\", \"method\": \"update\"}, {\"args\": [{\"visible\": [false, null, null, null, null, null, null, null, false, false, false, false, false, false, false, false, true, false, false, false, false, false, false, false, false, false, false, false, false, false, false, false, false, false]}], \"label\": \"2.17\", \"method\": \"update\"}, {\"args\": [{\"visible\": [false, null, null, null, null, null, null, null, false, false, false, false, false, false, false, false, false, true, false, false, false, false, false, false, false, false, false, false, false, false, false, false, false, false]}], \"label\": \"2.44\", \"method\": \"update\"}, {\"args\": [{\"visible\": [false, null, null, null, null, null, null, null, false, false, false, false, false, false, false, false, false, false, true, false, false, false, false, false, false, false, false, false, false, false, false, false, false, false]}], \"label\": \"2.71\", \"method\": \"update\"}, {\"args\": [{\"visible\": [false, null, null, null, null, null, null, null, false, false, false, false, false, false, false, false, false, false, false, true, false, false, false, false, false, false, false, false, false, false, false, false, false, false]}], \"label\": \"2.98\", \"method\": \"update\"}, {\"args\": [{\"visible\": [false, null, null, null, null, null, null, null, false, false, false, false, false, false, false, false, false, false, false, false, true, false, false, false, false, false, false, false, false, false, false, false, false, false]}], \"label\": \"3.25\", \"method\": \"update\"}, {\"args\": [{\"visible\": [false, null, null, null, null, null, null, null, false, false, false, false, false, false, false, false, false, false, false, false, false, true, false, false, false, false, false, false, false, false, false, false, false, false]}], \"label\": \"3.52\", \"method\": \"update\"}, {\"args\": [{\"visible\": [false, null, null, null, null, null, null, null, false, false, false, false, false, false, false, false, false, false, false, false, false, false, true, false, false, false, false, false, false, false, false, false, false, false]}], \"label\": \"3.79\", \"method\": \"update\"}, {\"args\": [{\"visible\": [false, null, null, null, null, null, null, null, false, false, false, false, false, false, false, false, false, false, false, false, false, false, false, true, false, false, false, false, false, false, false, false, false, false]}], \"label\": \"4.06\", \"method\": \"update\"}, {\"args\": [{\"visible\": [false, null, null, null, null, null, null, null, false, false, false, false, false, false, false, false, false, false, false, false, false, false, false, false, true, false, false, false, false, false, false, false, false, false]}], \"label\": \"4.33\", \"method\": \"update\"}, {\"args\": [{\"visible\": [false, null, null, null, null, null, null, null, false, false, false, false, false, false, false, false, false, false, false, false, false, false, false, false, false, true, false, false, false, false, false, false, false, false]}], \"label\": \"4.6\", \"method\": \"update\"}, {\"args\": [{\"visible\": [false, null, null, null, null, null, null, null, false, false, false, false, false, false, false, false, false, false, false, false, false, false, false, false, false, false, true, false, false, false, false, false, false, false]}], \"label\": \"4.88\", \"method\": \"update\"}, {\"args\": [{\"visible\": [false, null, null, null, null, null, null, null, false, false, false, false, false, false, false, false, false, false, false, false, false, false, false, false, false, false, false, true, false, false, false, false, false, false]}], \"label\": \"5.0\", \"method\": \"update\"}, {\"args\": [{\"visible\": [false, null, null, null, null, null, null, null, false, false, false, false, false, false, false, false, false, false, false, false, false, false, false, false, false, false, false, false, true, false, false, false, false, false]}], \"label\": \"5.15\", \"method\": \"update\"}, {\"args\": [{\"visible\": [false, null, null, null, null, null, null, null, false, false, false, false, false, false, false, false, false, false, false, false, false, false, false, false, false, false, false, false, false, true, false, false, false, false]}], \"label\": \"5.42\", \"method\": \"update\"}, {\"args\": [{\"visible\": [false, null, null, null, null, null, null, null, false, false, false, false, false, false, false, false, false, false, false, false, false, false, false, false, false, false, false, false, false, false, true, false, false, false]}], \"label\": \"5.69\", \"method\": \"update\"}, {\"args\": [{\"visible\": [false, null, null, null, null, null, null, null, false, false, false, false, false, false, false, false, false, false, false, false, false, false, false, false, false, false, false, false, false, false, false, true, false, false]}], \"label\": \"5.96\", \"method\": \"update\"}, {\"args\": [{\"visible\": [false, null, null, null, null, null, null, null, false, false, false, false, false, false, false, false, false, false, false, false, false, false, false, false, false, false, false, false, false, false, false, false, true, false]}], \"label\": \"6.23\", \"method\": \"update\"}], \"tickcolor\": \"white\", \"ticklen\": 0, \"x\": 0.6052631578947368, \"xanchor\": \"left\", \"y\": 0.01, \"yanchor\": \"bottom\"}], \"template\": {\"data\": {\"scatter\": [{\"fillcolor\": \"#1565c0\", \"hoverinfo\": \"none\", \"line\": {\"color\": \"#173D90\", \"width\": 4}, \"marker\": {\"color\": \"white\", \"line\": {\"color\": \"#d50000\", \"width\": 2}, \"opacity\": 0.99, \"size\": 9}, \"mode\": \"markers\", \"showlegend\": false, \"type\": \"scatter\", \"visible\": true}, {\"fillcolor\": \"#1565c0\", \"hoverinfo\": \"none\", \"line\": {\"color\": \"#1469FE\", \"width\": 4}, \"marker\": {\"color\": \"white\", \"line\": {\"color\": \"#d50000\", \"width\": 2}, \"opacity\": 0.99, \"size\": 9}, \"mode\": \"markers\", \"showlegend\": false, \"type\": \"scatter\", \"visible\": true}, {\"fillcolor\": \"#1565c0\", \"hoverinfo\": \"none\", \"line\": {\"color\": \"#65ADFF\", \"width\": 4}, \"marker\": {\"color\": \"white\", \"line\": {\"color\": \"#d50000\", \"width\": 2}, \"opacity\": 0.99, \"size\": 9}, \"mode\": \"markers\", \"showlegend\": false, \"type\": \"scatter\", \"visible\": true}, {\"fillcolor\": \"#1565c0\", \"hoverinfo\": \"none\", \"line\": {\"color\": \"#474849\", \"width\": 4}, \"marker\": {\"color\": \"white\", \"line\": {\"color\": \"#d50000\", \"width\": 2}, \"opacity\": 0.99, \"size\": 9}, \"mode\": \"markers\", \"showlegend\": false, \"type\": \"scatter\", \"visible\": true}, {\"fillcolor\": \"#1565c0\", \"hoverinfo\": \"none\", \"line\": {\"color\": \"#A90C0C\", \"width\": 4}, \"marker\": {\"color\": \"white\", \"line\": {\"color\": \"#d50000\", \"width\": 2}, \"opacity\": 0.99, \"size\": 9}, \"mode\": \"markers\", \"showlegend\": false, \"type\": \"scatter\", \"visible\": true}, {\"fillcolor\": \"#1565c0\", \"hoverinfo\": \"none\", \"line\": {\"color\": \"#DC0000\", \"width\": 4}, \"marker\": {\"color\": \"white\", \"line\": {\"color\": \"#d50000\", \"width\": 2}, \"opacity\": 0.99, \"size\": 9}, \"mode\": \"markers\", \"showlegend\": false, \"type\": \"scatter\", \"visible\": true}], \"scatter3d\": [{\"hoverinfo\": \"none\", \"line\": {\"color\": \"#1565c0\", \"width\": 6}, \"marker\": {\"color\": \"#ff5131\", \"line\": {\"color\": \"#d50000\", \"width\": 1}, \"opacity\": 0.99, \"size\": 5, \"symbol\": \"circle-open\"}, \"mode\": \"markers\", \"showlegend\": false, \"surfacecolor\": \"#5e92f3\", \"type\": \"scatter3d\", \"visible\": true}], \"table\": [{\"cells\": {\"fill\": {\"color\": \"white\"}, \"font\": {\"color\": [[\"black\", \"#d50000\", \"black\"], [\"black\", \"black\", \"black\"]]}}, \"header\": {\"fill\": {\"color\": \"white\"}, \"font\": {\"color\": [\"#d50000\", \"black\"]}}, \"type\": \"table\", \"visible\": false}]}, \"layout\": {\"annotations\": [{\"align\": \"center\", \"ax\": 0, \"ay\": 0, \"bgcolor\": \"#45568B\", \"bordercolor\": \"#404040\", \"borderpad\": 3, \"borderwidth\": 2, \"font\": {\"color\": \"white\", \"size\": 12}, \"name\": \"current\", \"visible\": false}, {\"align\": \"center\", \"ax\": 0, \"ay\": 0, \"bgcolor\": \"#D8E4F9\", \"bordercolor\": \"#404040\", \"borderpad\": 3, \"borderwidth\": 2, \"font\": {\"color\": \"#404040\", \"size\": 12}, \"name\": \"explored\", \"visible\": false}, {\"align\": \"center\", \"ax\": 0, \"ay\": 0, \"bgcolor\": \"white\", \"bordercolor\": \"#404040\", \"borderpad\": 3, \"borderwidth\": 2, \"font\": {\"color\": \"#404040\", \"size\": 12}, \"name\": \"unexplored\", \"visible\": false}], \"clickmode\": \"none\", \"dragmode\": \"turntable\", \"font\": {\"color\": \"#404040\", \"family\": \"Arial\"}, \"height\": 500, \"hovermode\": \"closest\", \"legend\": {\"font\": {\"size\": 13}, \"title\": {\"font\": {\"size\": 14}, \"text\": \"<b>Constraint(s)</b>\"}, \"x\": 0.39473684210526316, \"xanchor\": \"left\", \"y\": 1, \"yanchor\": \"top\"}, \"margin\": {\"b\": 0, \"l\": 0, \"r\": 0, \"t\": 33}, \"paper_bgcolor\": \"white\", \"plot_bgcolor\": \"white\", \"title\": {\"font\": {\"color\": \"#404040\", \"size\": 18}, \"text\": \"<b>Geometric Interpretation of LPs</b>\", \"x\": 0, \"xanchor\": \"left\", \"y\": 0.99, \"yanchor\": \"top\"}, \"width\": 950, \"xaxis\": {\"automargin\": true, \"domain\": [0, 0.39473684210526316], \"gridcolor\": \"#DFDFDF\", \"gridwidth\": 1, \"linecolor\": \"#404040\", \"linewidth\": 2, \"rangemode\": \"tozero\", \"showspikes\": false, \"tickcolor\": \"#DFDFDF\", \"ticks\": \"outside\", \"title\": {\"standoff\": 15, \"text\": \"x<sub>1</sub>\"}, \"zerolinewidth\": 2}, \"yaxis\": {\"automargin\": true, \"domain\": [0, 1], \"gridcolor\": \"#DFDFDF\", \"gridwidth\": 1, \"linecolor\": \"#404040\", \"linewidth\": 2, \"rangemode\": \"tozero\", \"showspikes\": false, \"tickcolor\": \"#DFDFDF\", \"ticks\": \"outside\", \"title\": {\"standoff\": 15, \"text\": \"x<sub>2</sub>\"}, \"zerolinewidth\": 2}}}, \"xaxis\": {\"anchor\": \"y\", \"domain\": [0.0, 0.39473684210526316], \"range\": [0, 3.5]}, \"xaxis2\": {\"domain\": [0.5, 1], \"range\": [0, 1], \"visible\": false}, \"yaxis\": {\"anchor\": \"x\", \"domain\": [0.0, 1.0], \"range\": [0, 2]}, \"yaxis2\": {\"domain\": [0.15, 1], \"range\": [0, 1], \"visible\": false}},                        {\"doubleClick\": false, \"displayModeBar\": false, \"editable\": false, \"responsive\": false, \"showAxisDragHandles\": false, \"showAxisRangeEntryBoxes\": false}                    ).then(function(){\n",
              "                            \n",
              "var gd = document.getElementById('22893035-1443-48d3-95cf-1fe651ec6983');\n",
              "var x = new MutationObserver(function (mutations, observer) {{\n",
              "        var display = window.getComputedStyle(gd).display;\n",
              "        if (!display || display === 'none') {{\n",
              "            console.log([gd, 'removed!']);\n",
              "            Plotly.purge(gd);\n",
              "            observer.disconnect();\n",
              "        }}\n",
              "}});\n",
              "\n",
              "// Listen for the removal of the full notebook cells\n",
              "var notebookContainer = gd.closest('#notebook-container');\n",
              "if (notebookContainer) {{\n",
              "    x.observe(notebookContainer, {childList: true});\n",
              "}}\n",
              "\n",
              "// Listen for the clearing of the current output cell\n",
              "var outputEl = gd.closest('.output');\n",
              "if (outputEl) {{\n",
              "    x.observe(outputEl, {childList: true});\n",
              "}}\n",
              "\n",
              "                        })                };                            </script>        </div>\n",
              "</body>\n",
              "</html>"
            ]
          },
          "metadata": {
            "tags": []
          }
        }
      ]
    },
    {
      "cell_type": "markdown",
      "metadata": {
        "id": "hKKptfZ77zPJ"
      },
      "source": [
        "Let's try applying what we know about cutting planes to the knapsack problem! Again, recall our input was $W = 18$ and:"
      ]
    },
    {
      "cell_type": "code",
      "metadata": {
        "colab": {
          "base_uri": "https://localhost:8080/",
          "height": 254
        },
        "id": "PhnTj3-U7zPJ",
        "outputId": "6e4cfbd9-f84d-465d-ae74-ee04bc06ba69"
      },
      "source": [
        "data"
      ],
      "execution_count": 41,
      "outputs": [
        {
          "output_type": "execute_result",
          "data": {
            "text/html": [
              "<div>\n",
              "<style scoped>\n",
              "    .dataframe tbody tr th:only-of-type {\n",
              "        vertical-align: middle;\n",
              "    }\n",
              "\n",
              "    .dataframe tbody tr th {\n",
              "        vertical-align: top;\n",
              "    }\n",
              "\n",
              "    .dataframe thead th {\n",
              "        text-align: right;\n",
              "    }\n",
              "</style>\n",
              "<table border=\"1\" class=\"dataframe\">\n",
              "  <thead>\n",
              "    <tr style=\"text-align: right;\">\n",
              "      <th></th>\n",
              "      <th>value</th>\n",
              "      <th>weight</th>\n",
              "      <th>value per unit weight</th>\n",
              "    </tr>\n",
              "    <tr>\n",
              "      <th>item</th>\n",
              "      <th></th>\n",
              "      <th></th>\n",
              "      <th></th>\n",
              "    </tr>\n",
              "  </thead>\n",
              "  <tbody>\n",
              "    <tr>\n",
              "      <th>1</th>\n",
              "      <td>50</td>\n",
              "      <td>10</td>\n",
              "      <td>5.00</td>\n",
              "    </tr>\n",
              "    <tr>\n",
              "      <th>2</th>\n",
              "      <td>30</td>\n",
              "      <td>12</td>\n",
              "      <td>2.50</td>\n",
              "    </tr>\n",
              "    <tr>\n",
              "      <th>3</th>\n",
              "      <td>24</td>\n",
              "      <td>10</td>\n",
              "      <td>2.40</td>\n",
              "    </tr>\n",
              "    <tr>\n",
              "      <th>4</th>\n",
              "      <td>14</td>\n",
              "      <td>7</td>\n",
              "      <td>2.00</td>\n",
              "    </tr>\n",
              "    <tr>\n",
              "      <th>5</th>\n",
              "      <td>12</td>\n",
              "      <td>6</td>\n",
              "      <td>2.00</td>\n",
              "    </tr>\n",
              "    <tr>\n",
              "      <th>6</th>\n",
              "      <td>10</td>\n",
              "      <td>7</td>\n",
              "      <td>1.43</td>\n",
              "    </tr>\n",
              "  </tbody>\n",
              "</table>\n",
              "</div>"
            ],
            "text/plain": [
              "      value  weight  value per unit weight\n",
              "item                                      \n",
              "1        50      10                   5.00\n",
              "2        30      12                   2.50\n",
              "3        24      10                   2.40\n",
              "4        14       7                   2.00\n",
              "5        12       6                   2.00\n",
              "6        10       7                   1.43"
            ]
          },
          "metadata": {
            "tags": []
          },
          "execution_count": 41
        }
      ]
    },
    {
      "cell_type": "markdown",
      "metadata": {
        "id": "znNEDa_n7zPJ"
      },
      "source": [
        "**Q26:** Look at items 1, 2, and 3. How many of these items can we take simultaneously? Can you write a new constraint to capture this? If so, please provide it.\n",
        "\n",
        "**A:**  one of each"
      ]
    },
    {
      "cell_type": "markdown",
      "metadata": {
        "id": "HfUtY7jo7zPJ"
      },
      "source": [
        "**Q27:** Is the constraint you found in **Q26** a cutting plane? If so, provide a feasible solution to the linear program relaxation that is no longer feasible (i.e. a point the constraint *cuts off*).\n",
        "\n",
        "**A:** yes it is a cutting plane"
      ]
    },
    {
      "cell_type": "markdown",
      "metadata": {
        "id": "shmvObsW7zPJ"
      },
      "source": [
        "**Q28:** Provide another cutting plane involving items 4,5 and 6 for this integer program. Explain how you derived it.\n",
        "\n",
        "**A:** If you take one of 1,2,3 you can only take one of 4,5,6"
      ]
    },
    {
      "cell_type": "markdown",
      "metadata": {
        "id": "bQZq14Qh7zPJ"
      },
      "source": [
        "**Q29:** Add the cutting planes from **Q26** and **Q28** to the model and solve it. You should get a solution in which we take items 1 and 4 and $\\frac{1}{6}$ of item 5 with an objective value of 66."
      ]
    },
    {
      "cell_type": "code",
      "metadata": {
        "colab": {
          "base_uri": "https://localhost:8080/"
        },
        "id": "x07VX6Eh7zPJ",
        "outputId": "06967d84-3cd6-4d87-eed6-8f1733709607"
      },
      "source": [
        "m, x = Knapsack(data, 18)\n",
        "m.Add(x[1]+x[2]+x[3] <= 1)\n",
        "m.Add(x[4]+x[4]+x[4] <= 1)\n",
        "\n",
        "solve(m)"
      ],
      "execution_count": 43,
      "outputs": [
        {
          "output_type": "stream",
          "text": [
            "Objective = 66.0\n",
            "iterations : 0\n",
            "branch-and-bound nodes : 0\n"
          ],
          "name": "stdout"
        },
        {
          "output_type": "execute_result",
          "data": {
            "text/plain": [
              "{'x_1': 1.0,\n",
              " 'x_2': 0.0,\n",
              " 'x_3': 0.0,\n",
              " 'x_4': 0.3333333333333333,\n",
              " 'x_5': 0.9444444444444446,\n",
              " 'x_6': 0.0}"
            ]
          },
          "metadata": {
            "tags": []
          },
          "execution_count": 43
        }
      ]
    },
    {
      "cell_type": "markdown",
      "metadata": {
        "id": "ySWqCS7T7zPJ"
      },
      "source": [
        "Let's take a moment to pause and reflect on what we are doing. Recall from **Q9-11** that we dropped item 7 becuase its weight was greater than the capcity of the knapsack. Essentially we added the constraint $x_7 \\leq 0$. This constraint was a cutting plane! It eliminated some linear feasible solutions but no integer ones. By adding these two new cutting planes, we can get branch and bound to terminate earlier yet again! So far, we have generated cutting planes by inspection. However, there are more algorithmic ways to identify them (which we will ignore for now)."
      ]
    },
    {
      "cell_type": "markdown",
      "metadata": {
        "id": "BesoxxD-7zPJ"
      },
      "source": [
        "If we continue running the branch and bound algorithm, we will eventually reach the branch and bound tree below where the $z^*$ indictes the current node we are looking at. \n",
        "\n",
        "<img src=\"part3_bnb_tree.png\" width=\"700\"/>"
      ]
    },
    {
      "cell_type": "markdown",
      "metadata": {
        "id": "8ukeVeBs7zPJ"
      },
      "source": [
        "**NOTE:** Do not forget about the feasible integer solution our heuristic gave us with value 64."
      ]
    },
    {
      "cell_type": "markdown",
      "metadata": {
        "id": "2VnwqSUW7zPJ"
      },
      "source": [
        "**Q30** Finish running branch and bound to find the optimal integer solution. Use a separate cell for each node you solve and indicate if the node was fathomed with a comment. Hint: Don't forget the cutting plane constraints should be included in every node of the branch and bound tree."
      ]
    },
    {
      "cell_type": "code",
      "metadata": {
        "colab": {
          "base_uri": "https://localhost:8080/"
        },
        "id": "4-e-epL17zPJ",
        "outputId": "70394866-5b02-4ea5-867a-81fa0d606d4e"
      },
      "source": [
        "# Template\n",
        "m, x = Knapsack(data, 18)\n",
        "m.Add(x[1]+x[2]+x[3] <= 1)\n",
        "m.Add(x[4]+x[5]+x[6] <= 1)\n",
        "solve(m)\n",
        "# fathomed?"
      ],
      "execution_count": 44,
      "outputs": [
        {
          "output_type": "stream",
          "text": [
            "Objective = 64.0\n",
            "iterations : 0\n",
            "branch-and-bound nodes : 0\n"
          ],
          "name": "stdout"
        },
        {
          "output_type": "execute_result",
          "data": {
            "text/plain": [
              "{'x_1': 1.0, 'x_2': 0.0, 'x_3': 0.0, 'x_4': 1.0, 'x_5': 0.0, 'x_6': 0.0}"
            ]
          },
          "metadata": {
            "tags": []
          },
          "execution_count": 44
        }
      ]
    },
    {
      "cell_type": "code",
      "metadata": {
        "id": "uyoWSj2q7zPJ"
      },
      "source": [
        ""
      ],
      "execution_count": 43,
      "outputs": []
    },
    {
      "cell_type": "code",
      "metadata": {
        "id": "VsnTh5P77zPJ"
      },
      "source": [
        ""
      ],
      "execution_count": 43,
      "outputs": []
    },
    {
      "cell_type": "markdown",
      "metadata": {
        "id": "Bixx5f277zPJ"
      },
      "source": [
        "**A:** "
      ]
    },
    {
      "cell_type": "markdown",
      "metadata": {
        "id": "NPUB1ysM7zPJ"
      },
      "source": [
        "**Q31:** Did you find the same optimal solution? How many nodes did you explore? How did this compare to the number you explored previously?\n",
        "\n",
        "**A:** Yes explored 4 nodes"
      ]
    },
    {
      "cell_type": "markdown",
      "metadata": {
        "id": "_gP4vGiS7zPJ"
      },
      "source": [
        "## Part 4: Geometry of Branch and Bound"
      ]
    },
    {
      "cell_type": "markdown",
      "metadata": {
        "id": "mS3ndukB7zPJ"
      },
      "source": [
        "Previously, we used the `gilp` package to viusualize the simplex algorithm but it also has the functionality to visualize branch and bound. We will give a quick overview of the tool. Similar to `lp_visual` and `simplex_visual`, the function `bnb_visual` takes an `LP` and returns a visualization. It is assumed that every decision variable is constrained to be integer. Unlike previous visualizations, `bnb_visual` returns a series of figures for each node of the branch and bound tree. Let's look at a small 2D example:\n",
        "\n",
        "$$\\begin{align*}\n",
        "\\max \\quad & 5x_1+ 8x_2\\\\\n",
        "\\text{s.t.} \\quad & x_1 + x_2 \\leq 6 \\\\\n",
        "& 5x_1 + 9x_2 \\leq 45 \\\\\n",
        "& x_1, x_2 \\geq 0, \\quad \\text{integral}\n",
        "\\end{align*}$$"
      ]
    },
    {
      "cell_type": "code",
      "metadata": {
        "colab": {
          "base_uri": "https://localhost:8080/",
          "height": 454
        },
        "id": "d0GH5Ity7zPJ",
        "outputId": "0b895d78-2ed0-435a-bf99-b82015e40101"
      },
      "source": [
        "nodes = gilp.bnb_visual(gilp.examples.STANDARD_2D_IP)"
      ],
      "execution_count": 52,
      "outputs": [
        {
          "output_type": "error",
          "ename": "ValueError",
          "evalue": "ignored",
          "traceback": [
            "\u001b[0;31m---------------------------------------------------------------------------\u001b[0m",
            "\u001b[0;31mNoInteriorPoint\u001b[0m                           Traceback (most recent call last)",
            "\u001b[0;32m/usr/local/lib/python3.6/dist-packages/gilp/_geometry.py\u001b[0m in \u001b[0;36mpolytope_vertices\u001b[0;34m(A, b, interior_pt)\u001b[0m\n\u001b[1;32m     86\u001b[0m         \u001b[0;32mif\u001b[0m \u001b[0minterior_pt\u001b[0m \u001b[0;32mis\u001b[0m \u001b[0;32mNone\u001b[0m\u001b[0;34m:\u001b[0m\u001b[0;34m\u001b[0m\u001b[0;34m\u001b[0m\u001b[0m\n\u001b[0;32m---> 87\u001b[0;31m             \u001b[0minterior_pt\u001b[0m \u001b[0;34m=\u001b[0m \u001b[0minterior_point\u001b[0m\u001b[0;34m(\u001b[0m\u001b[0mA\u001b[0m\u001b[0;34m,\u001b[0m\u001b[0mb\u001b[0m\u001b[0;34m)\u001b[0m\u001b[0;34m\u001b[0m\u001b[0;34m\u001b[0m\u001b[0m\n\u001b[0m\u001b[1;32m     88\u001b[0m         \u001b[0minterior_pt\u001b[0m \u001b[0;34m=\u001b[0m \u001b[0minterior_pt\u001b[0m\u001b[0;34m.\u001b[0m\u001b[0mastype\u001b[0m\u001b[0;34m(\u001b[0m\u001b[0mfloat\u001b[0m\u001b[0;34m)\u001b[0m\u001b[0;34m\u001b[0m\u001b[0;34m\u001b[0m\u001b[0m\n",
            "\u001b[0;32m/usr/local/lib/python3.6/dist-packages/gilp/_geometry.py\u001b[0m in \u001b[0;36minterior_point\u001b[0;34m(A, b, tol)\u001b[0m\n\u001b[1;32m    198\u001b[0m     \u001b[0;32mif\u001b[0m \u001b[0mx\u001b[0m\u001b[0;34m[\u001b[0m\u001b[0;34m-\u001b[0m\u001b[0;36m1\u001b[0m\u001b[0;34m]\u001b[0m \u001b[0;34m<=\u001b[0m \u001b[0mtol\u001b[0m\u001b[0;34m:\u001b[0m\u001b[0;34m\u001b[0m\u001b[0;34m\u001b[0m\u001b[0m\n\u001b[0;32m--> 199\u001b[0;31m         \u001b[0;32mraise\u001b[0m \u001b[0mNoInteriorPoint\u001b[0m\u001b[0;34m(\u001b[0m\u001b[0;34m'Halfspace intersection has no interior point.'\u001b[0m\u001b[0;34m)\u001b[0m\u001b[0;34m\u001b[0m\u001b[0;34m\u001b[0m\u001b[0m\n\u001b[0m\u001b[1;32m    200\u001b[0m     \u001b[0;32mreturn\u001b[0m \u001b[0mx\u001b[0m\u001b[0;34m[\u001b[0m\u001b[0;34m:\u001b[0m\u001b[0;34m-\u001b[0m\u001b[0;36m1\u001b[0m\u001b[0;34m]\u001b[0m\u001b[0;34m\u001b[0m\u001b[0;34m\u001b[0m\u001b[0m\n",
            "\u001b[0;31mNoInteriorPoint\u001b[0m: Halfspace intersection has no interior point.",
            "\nDuring handling of the above exception, another exception occurred:\n",
            "\u001b[0;31mValueError\u001b[0m                                Traceback (most recent call last)",
            "\u001b[0;32m<ipython-input-52-c5d79fee6538>\u001b[0m in \u001b[0;36m<module>\u001b[0;34m()\u001b[0m\n\u001b[0;32m----> 1\u001b[0;31m \u001b[0mnodes\u001b[0m \u001b[0;34m=\u001b[0m \u001b[0mgilp\u001b[0m\u001b[0;34m.\u001b[0m\u001b[0mbnb_visual\u001b[0m\u001b[0;34m(\u001b[0m\u001b[0mgilp\u001b[0m\u001b[0;34m.\u001b[0m\u001b[0mexamples\u001b[0m\u001b[0;34m.\u001b[0m\u001b[0mSTANDARD_2D_IP\u001b[0m\u001b[0;34m)\u001b[0m\u001b[0;34m\u001b[0m\u001b[0;34m\u001b[0m\u001b[0m\n\u001b[0m",
            "\u001b[0;32m/usr/local/lib/python3.6/dist-packages/gilp/visualize.py\u001b[0m in \u001b[0;36mbnb_visual\u001b[0;34m(lp, manual, feas_tol, int_feas_tol)\u001b[0m\n\u001b[1;32m    793\u001b[0m                     trace = labeled_feasible_region(lp=feas_reg,\n\u001b[1;32m    794\u001b[0m                                                     \u001b[0mbasic_sol\u001b[0m\u001b[0;34m=\u001b[0m\u001b[0;32mFalse\u001b[0m\u001b[0;34m,\u001b[0m\u001b[0;34m\u001b[0m\u001b[0;34m\u001b[0m\u001b[0m\n\u001b[0;32m--> 795\u001b[0;31m                                                     show_basis=False)\n\u001b[0m\u001b[1;32m    796\u001b[0m                     \u001b[0mfig\u001b[0m\u001b[0;34m.\u001b[0m\u001b[0madd_traces\u001b[0m\u001b[0;34m(\u001b[0m\u001b[0mtrace\u001b[0m\u001b[0;34m)\u001b[0m\u001b[0;34m\u001b[0m\u001b[0;34m\u001b[0m\u001b[0m\n\u001b[1;32m    797\u001b[0m             \u001b[0;32mexcept\u001b[0m \u001b[0mInfeasible\u001b[0m\u001b[0;34m:\u001b[0m\u001b[0;34m\u001b[0m\u001b[0;34m\u001b[0m\u001b[0m\n",
            "\u001b[0;32m/usr/local/lib/python3.6/dist-packages/gilp/visualize.py\u001b[0m in \u001b[0;36mlabeled_feasible_region\u001b[0;34m(lp, theme, basic_sol, show_basis, vertices)\u001b[0m\n\u001b[1;32m    280\u001b[0m     \"\"\"\n\u001b[1;32m    281\u001b[0m     \u001b[0;32mif\u001b[0m \u001b[0mvertices\u001b[0m \u001b[0;32mis\u001b[0m \u001b[0;32mNone\u001b[0m\u001b[0;34m:\u001b[0m\u001b[0;34m\u001b[0m\u001b[0;34m\u001b[0m\u001b[0m\n\u001b[0;32m--> 282\u001b[0;31m         \u001b[0mvertices\u001b[0m \u001b[0;34m=\u001b[0m \u001b[0mlp\u001b[0m\u001b[0;34m.\u001b[0m\u001b[0mget_vertices\u001b[0m\u001b[0;34m(\u001b[0m\u001b[0;34m)\u001b[0m\u001b[0;34m\u001b[0m\u001b[0;34m\u001b[0m\u001b[0m\n\u001b[0m\u001b[1;32m    283\u001b[0m     region = feasible_region(lp=lp,\n\u001b[1;32m    284\u001b[0m                              \u001b[0mtheme\u001b[0m\u001b[0;34m=\u001b[0m\u001b[0mtheme\u001b[0m\u001b[0;34m,\u001b[0m\u001b[0;34m\u001b[0m\u001b[0;34m\u001b[0m\u001b[0m\n",
            "\u001b[0;32m/usr/local/lib/python3.6/dist-packages/gilp/simplex.py\u001b[0m in \u001b[0;36mget_vertices\u001b[0;34m(self)\u001b[0m\n\u001b[1;32m    259\u001b[0m         \u001b[0mA_tmp\u001b[0m \u001b[0;34m=\u001b[0m \u001b[0mnp\u001b[0m\u001b[0;34m.\u001b[0m\u001b[0mvstack\u001b[0m\u001b[0;34m(\u001b[0m\u001b[0;34m(\u001b[0m\u001b[0mA\u001b[0m\u001b[0;34m,\u001b[0m \u001b[0;34m-\u001b[0m\u001b[0mnp\u001b[0m\u001b[0;34m.\u001b[0m\u001b[0midentity\u001b[0m\u001b[0;34m(\u001b[0m\u001b[0mn\u001b[0m\u001b[0;34m)\u001b[0m\u001b[0;34m)\u001b[0m\u001b[0;34m)\u001b[0m\u001b[0;34m\u001b[0m\u001b[0;34m\u001b[0m\u001b[0m\n\u001b[1;32m    260\u001b[0m         \u001b[0mb_tmp\u001b[0m \u001b[0;34m=\u001b[0m \u001b[0mnp\u001b[0m\u001b[0;34m.\u001b[0m\u001b[0mvstack\u001b[0m\u001b[0;34m(\u001b[0m\u001b[0;34m(\u001b[0m\u001b[0mb\u001b[0m\u001b[0;34m,\u001b[0m \u001b[0mnp\u001b[0m\u001b[0;34m.\u001b[0m\u001b[0mzeros\u001b[0m\u001b[0;34m(\u001b[0m\u001b[0;34m(\u001b[0m\u001b[0mn\u001b[0m\u001b[0;34m,\u001b[0m\u001b[0;36m1\u001b[0m\u001b[0;34m)\u001b[0m\u001b[0;34m)\u001b[0m\u001b[0;34m)\u001b[0m\u001b[0;34m)\u001b[0m\u001b[0;34m\u001b[0m\u001b[0;34m\u001b[0m\u001b[0m\n\u001b[0;32m--> 261\u001b[0;31m         \u001b[0;32mreturn\u001b[0m \u001b[0mpolytope_vertices\u001b[0m\u001b[0;34m(\u001b[0m\u001b[0mA_tmp\u001b[0m\u001b[0;34m,\u001b[0m \u001b[0mb_tmp\u001b[0m\u001b[0;34m)\u001b[0m\u001b[0;34m\u001b[0m\u001b[0;34m\u001b[0m\u001b[0m\n\u001b[0m\u001b[1;32m    262\u001b[0m \u001b[0;34m\u001b[0m\u001b[0m\n\u001b[1;32m    263\u001b[0m \u001b[0;34m\u001b[0m\u001b[0m\n",
            "\u001b[0;32m/usr/local/lib/python3.6/dist-packages/gilp/_geometry.py\u001b[0m in \u001b[0;36mpolytope_vertices\u001b[0;34m(A, b, interior_pt)\u001b[0m\n\u001b[1;32m    101\u001b[0m                 \u001b[0;32mpass\u001b[0m\u001b[0;34m\u001b[0m\u001b[0;34m\u001b[0m\u001b[0m\n\u001b[1;32m    102\u001b[0m         \u001b[0mvertices\u001b[0m \u001b[0;34m=\u001b[0m \u001b[0mnp\u001b[0m\u001b[0;34m.\u001b[0m\u001b[0mround\u001b[0m\u001b[0;34m(\u001b[0m\u001b[0mnp\u001b[0m\u001b[0;34m.\u001b[0m\u001b[0marray\u001b[0m\u001b[0;34m(\u001b[0m\u001b[0mvertices\u001b[0m\u001b[0;34m)\u001b[0m\u001b[0;34m,\u001b[0m \u001b[0;36m12\u001b[0m\u001b[0;34m)\u001b[0m\u001b[0;34m\u001b[0m\u001b[0;34m\u001b[0m\u001b[0m\n\u001b[0;32m--> 103\u001b[0;31m         \u001b[0mvertices\u001b[0m \u001b[0;34m=\u001b[0m \u001b[0mnp\u001b[0m\u001b[0;34m.\u001b[0m\u001b[0munique\u001b[0m\u001b[0;34m(\u001b[0m\u001b[0mvertices\u001b[0m\u001b[0;34m,\u001b[0m \u001b[0maxis\u001b[0m\u001b[0;34m=\u001b[0m\u001b[0;36m0\u001b[0m\u001b[0;34m)\u001b[0m\u001b[0;34m\u001b[0m\u001b[0;34m\u001b[0m\u001b[0m\n\u001b[0m\u001b[1;32m    104\u001b[0m     \u001b[0;32mreturn\u001b[0m \u001b[0;34m[\u001b[0m\u001b[0mnp\u001b[0m\u001b[0;34m.\u001b[0m\u001b[0marray\u001b[0m\u001b[0;34m(\u001b[0m\u001b[0;34m[\u001b[0m\u001b[0mv\u001b[0m\u001b[0;34m]\u001b[0m\u001b[0;34m)\u001b[0m\u001b[0;34m.\u001b[0m\u001b[0mtranspose\u001b[0m\u001b[0;34m(\u001b[0m\u001b[0;34m)\u001b[0m \u001b[0;32mfor\u001b[0m \u001b[0mv\u001b[0m \u001b[0;32min\u001b[0m \u001b[0mvertices\u001b[0m\u001b[0;34m]\u001b[0m\u001b[0;34m\u001b[0m\u001b[0;34m\u001b[0m\u001b[0m\n\u001b[1;32m    105\u001b[0m \u001b[0;34m\u001b[0m\u001b[0m\n",
            "\u001b[0;32m<__array_function__ internals>\u001b[0m in \u001b[0;36munique\u001b[0;34m(*args, **kwargs)\u001b[0m\n",
            "\u001b[0;32m/usr/local/lib/python3.6/dist-packages/numpy/lib/arraysetops.py\u001b[0m in \u001b[0;36munique\u001b[0;34m(ar, return_index, return_inverse, return_counts, axis)\u001b[0m\n\u001b[1;32m    273\u001b[0m     \u001b[0mar\u001b[0m \u001b[0;34m=\u001b[0m \u001b[0mar\u001b[0m\u001b[0;34m.\u001b[0m\u001b[0mreshape\u001b[0m\u001b[0;34m(\u001b[0m\u001b[0morig_shape\u001b[0m\u001b[0;34m[\u001b[0m\u001b[0;36m0\u001b[0m\u001b[0;34m]\u001b[0m\u001b[0;34m,\u001b[0m \u001b[0mnp\u001b[0m\u001b[0;34m.\u001b[0m\u001b[0mprod\u001b[0m\u001b[0;34m(\u001b[0m\u001b[0morig_shape\u001b[0m\u001b[0;34m[\u001b[0m\u001b[0;36m1\u001b[0m\u001b[0;34m:\u001b[0m\u001b[0;34m]\u001b[0m\u001b[0;34m,\u001b[0m \u001b[0mdtype\u001b[0m\u001b[0;34m=\u001b[0m\u001b[0mnp\u001b[0m\u001b[0;34m.\u001b[0m\u001b[0mintp\u001b[0m\u001b[0;34m)\u001b[0m\u001b[0;34m)\u001b[0m\u001b[0;34m\u001b[0m\u001b[0;34m\u001b[0m\u001b[0m\n\u001b[1;32m    274\u001b[0m     \u001b[0mar\u001b[0m \u001b[0;34m=\u001b[0m \u001b[0mnp\u001b[0m\u001b[0;34m.\u001b[0m\u001b[0mascontiguousarray\u001b[0m\u001b[0;34m(\u001b[0m\u001b[0mar\u001b[0m\u001b[0;34m)\u001b[0m\u001b[0;34m\u001b[0m\u001b[0;34m\u001b[0m\u001b[0m\n\u001b[0;32m--> 275\u001b[0;31m     \u001b[0mdtype\u001b[0m \u001b[0;34m=\u001b[0m \u001b[0;34m[\u001b[0m\u001b[0;34m(\u001b[0m\u001b[0;34m'f{i}'\u001b[0m\u001b[0;34m.\u001b[0m\u001b[0mformat\u001b[0m\u001b[0;34m(\u001b[0m\u001b[0mi\u001b[0m\u001b[0;34m=\u001b[0m\u001b[0mi\u001b[0m\u001b[0;34m)\u001b[0m\u001b[0;34m,\u001b[0m \u001b[0mar\u001b[0m\u001b[0;34m.\u001b[0m\u001b[0mdtype\u001b[0m\u001b[0;34m)\u001b[0m \u001b[0;32mfor\u001b[0m \u001b[0mi\u001b[0m \u001b[0;32min\u001b[0m \u001b[0mrange\u001b[0m\u001b[0;34m(\u001b[0m\u001b[0mar\u001b[0m\u001b[0;34m.\u001b[0m\u001b[0mshape\u001b[0m\u001b[0;34m[\u001b[0m\u001b[0;36m1\u001b[0m\u001b[0;34m]\u001b[0m\u001b[0;34m)\u001b[0m\u001b[0;34m]\u001b[0m\u001b[0;34m\u001b[0m\u001b[0;34m\u001b[0m\u001b[0m\n\u001b[0m\u001b[1;32m    276\u001b[0m \u001b[0;34m\u001b[0m\u001b[0m\n\u001b[1;32m    277\u001b[0m     \u001b[0;31m# At this point, `ar` has shape `(n, m)`, and `dtype` is a structured\u001b[0m\u001b[0;34m\u001b[0m\u001b[0;34m\u001b[0m\u001b[0;34m\u001b[0m\u001b[0m\n",
            "\u001b[0;31mValueError\u001b[0m: cannot reshape array of size 0 into shape (0,newaxis)"
          ]
        }
      ]
    },
    {
      "cell_type": "code",
      "metadata": {
        "colab": {
          "base_uri": "https://localhost:8080/",
          "height": 162
        },
        "id": "uHIxh0317zPJ",
        "outputId": "47c52096-e96c-45c6-d1b3-20966fbefcdd"
      },
      "source": [
        "nodes[0].show()"
      ],
      "execution_count": 50,
      "outputs": [
        {
          "output_type": "error",
          "ename": "NameError",
          "evalue": "ignored",
          "traceback": [
            "\u001b[0;31m---------------------------------------------------------------------------\u001b[0m",
            "\u001b[0;31mNameError\u001b[0m                                 Traceback (most recent call last)",
            "\u001b[0;32m<ipython-input-50-56b8760f18ba>\u001b[0m in \u001b[0;36m<module>\u001b[0;34m()\u001b[0m\n\u001b[0;32m----> 1\u001b[0;31m \u001b[0mnodes\u001b[0m\u001b[0;34m[\u001b[0m\u001b[0;36m0\u001b[0m\u001b[0;34m]\u001b[0m\u001b[0;34m.\u001b[0m\u001b[0mshow\u001b[0m\u001b[0;34m(\u001b[0m\u001b[0;34m)\u001b[0m\u001b[0;34m\u001b[0m\u001b[0;34m\u001b[0m\u001b[0m\n\u001b[0m",
            "\u001b[0;31mNameError\u001b[0m: name 'nodes' is not defined"
          ]
        }
      ]
    },
    {
      "cell_type": "markdown",
      "metadata": {
        "id": "ljRfXGoh7zPJ"
      },
      "source": [
        "Run the cells above to generate a figure for each node and view the first node. At first, you will see the LP relaxation on the left and the root of the branch and bound tree on the right. The simplex path and isoprofit slider are also present."
      ]
    },
    {
      "cell_type": "markdown",
      "metadata": {
        "id": "Q7IzAEDL7zPJ"
      },
      "source": [
        "**Q32:** Recall the root of a branch and bound tree is the unaltered LP relaxation. What is the optimal solution? (Hint: Use the objective slider and hover over extreme points).\n",
        "\n",
        "**A:** A 65"
      ]
    },
    {
      "cell_type": "markdown",
      "metadata": {
        "id": "Xw7rDXlQ7zPJ"
      },
      "source": [
        "**Q33:** Assume that we always choose the variable with the minimum index to branch on if there are multiple options. Write down (in full) each of the LPs we get after branching off the root node.\n",
        "\n",
        "**A:** 12"
      ]
    },
    {
      "cell_type": "markdown",
      "metadata": {
        "id": "xZ0j1G7V7zPJ"
      },
      "source": [
        "**Q34:** Draw the feasible region to each of the LPs from **Q33** on the same picture.\n",
        "\n",
        "**A:**Drawn"
      ]
    },
    {
      "cell_type": "markdown",
      "metadata": {
        "id": "HSbKxikp7zPJ"
      },
      "source": [
        "Run the following cell to see if the picture you drew in **Q34** was correct."
      ]
    },
    {
      "cell_type": "code",
      "metadata": {
        "colab": {
          "base_uri": "https://localhost:8080/",
          "height": 162
        },
        "id": "Q6hq6w9T7zPJ",
        "outputId": "7fd8ae8d-3237-4405-f427-e9653c87edd3"
      },
      "source": [
        "nodes[1].show()"
      ],
      "execution_count": 48,
      "outputs": [
        {
          "output_type": "error",
          "ename": "NameError",
          "evalue": "ignored",
          "traceback": [
            "\u001b[0;31m---------------------------------------------------------------------------\u001b[0m",
            "\u001b[0;31mNameError\u001b[0m                                 Traceback (most recent call last)",
            "\u001b[0;32m<ipython-input-48-51baf5263716>\u001b[0m in \u001b[0;36m<module>\u001b[0;34m()\u001b[0m\n\u001b[0;32m----> 1\u001b[0;31m \u001b[0mnodes\u001b[0m\u001b[0;34m[\u001b[0m\u001b[0;36m1\u001b[0m\u001b[0;34m]\u001b[0m\u001b[0;34m.\u001b[0m\u001b[0mshow\u001b[0m\u001b[0;34m(\u001b[0m\u001b[0;34m)\u001b[0m\u001b[0;34m\u001b[0m\u001b[0;34m\u001b[0m\u001b[0m\n\u001b[0m",
            "\u001b[0;31mNameError\u001b[0m: name 'nodes' is not defined"
          ]
        }
      ]
    },
    {
      "cell_type": "markdown",
      "metadata": {
        "id": "HA7hqJGj7zPJ"
      },
      "source": [
        "The outline of the original LP relaxation is still shown on the left. Now that we have eliminated some of the fractional feasible solutions, we now have 2 feasible regions to consider. The darker one is the feasible region associated with the current node which is also shaded darker in the branch and bound tree. The unexplored nodes in the branch and bound tree are not shaded in."
      ]
    },
    {
      "cell_type": "markdown",
      "metadata": {
        "id": "oWx6LCPd7zPJ"
      },
      "source": [
        "**Q35:** Which feasible solutions to the LP relaxation are removed by this branch?\n",
        "\n",
        "**A:**  Non integer ones"
      ]
    },
    {
      "cell_type": "markdown",
      "metadata": {
        "id": "MkPxUu887zPJ"
      },
      "source": [
        "**Q36:** At the current (dark) node, what constraints will we add? How many feasible regions will the original LP relaxation be broken into?\n",
        "\n",
        "**A:** inegrality constraints\n"
      ]
    },
    {
      "cell_type": "code",
      "metadata": {
        "scrolled": false,
        "id": "MAZJsVWv7zPJ"
      },
      "source": [
        "nodes[2].show()"
      ],
      "execution_count": null,
      "outputs": []
    },
    {
      "cell_type": "markdown",
      "metadata": {
        "id": "shjiUosp7zPJ"
      },
      "source": [
        "**Q37:** What is the optimal solution at the current (dark) node? Do we have to further explore this branch? Explain.\n",
        "\n",
        "**A:** 65 no we do not because I cannot view the example."
      ]
    },
    {
      "cell_type": "markdown",
      "metadata": {
        "id": "tBq32Ly57zPJ"
      },
      "source": [
        "**Q38:** Recall shaded nodes have been explored and the node shaded darker (and feasible region shaded darker) correspond to the current node and its feasible region. Nodes not shaded have not been explored. How many nodes have not yet been explored?\n",
        "\n",
        "**A:**21"
      ]
    },
    {
      "cell_type": "markdown",
      "metadata": {
        "id": "ojQah1_m7zPJ"
      },
      "source": [
        "**Q39:** How many nodes have a degree of one in the branch and bound tree? (That is, they are only connected to one edge). These nodes are called leaf nodes. What is the relationship between the leaf nodes and the remaining feasible region?\n",
        "\n",
        "**A:**  number of leafs equals number of feasible solutions."
      ]
    },
    {
      "cell_type": "code",
      "metadata": {
        "scrolled": false,
        "id": "PEknod6F7zPJ"
      },
      "source": [
        "# Show the next two iterations of the branch and bound algorithm\n",
        "nodes[3].show()\n",
        "nodes[4].show()"
      ],
      "execution_count": null,
      "outputs": []
    },
    {
      "cell_type": "markdown",
      "metadata": {
        "id": "fZSYkXL17zPJ"
      },
      "source": [
        "**Q40:** At the current (dark) node, we added the constraint $x_1 \\leq 1$. Why were the fractional solutions $1 < x_1 < 2$ not eliminated for $x_2 <= 3$?\n",
        "\n",
        "**A:** because they are still feasible."
      ]
    },
    {
      "cell_type": "code",
      "metadata": {
        "scrolled": false,
        "id": "YUO0KjMD7zPJ"
      },
      "source": [
        "# Show the next three iterations of the branch and bound algorithm\n",
        "nodes[5].show()\n",
        "nodes[6].show()\n",
        "nodes[7].show()"
      ],
      "execution_count": null,
      "outputs": []
    },
    {
      "cell_type": "markdown",
      "metadata": {
        "id": "o2jn5kV37zPK"
      },
      "source": [
        "**Q41:** What constraints are enforced at the current (dark) node? Why are there no feasible solutions at this node?\n",
        "\n",
        "**A:** None, because no constraints are inforced"
      ]
    },
    {
      "cell_type": "code",
      "metadata": {
        "scrolled": false,
        "id": "y7yxDCq57zPK"
      },
      "source": [
        "nodes[8].show()"
      ],
      "execution_count": null,
      "outputs": []
    },
    {
      "cell_type": "markdown",
      "metadata": {
        "id": "mx1Hk9NS7zPK"
      },
      "source": [
        "**Q42:** Are we done? If so, what nodes are fathomed and what is the optimal solution? Explain.\n",
        "\n",
        "**A:**  Yes. integral noodes with the final solution are fathomed."
      ]
    },
    {
      "cell_type": "markdown",
      "metadata": {
        "id": "g3tyn6st7zPK"
      },
      "source": [
        "Let's look at branch and bound visualization for an integer program with 3 decision variables!"
      ]
    },
    {
      "cell_type": "code",
      "metadata": {
        "id": "X1c7nnRS7zPK"
      },
      "source": [
        "nodes = gilp.bnb_visual(gilp.examples.VARIED_BRANCHING_3D_IP)"
      ],
      "execution_count": 53,
      "outputs": []
    },
    {
      "cell_type": "code",
      "metadata": {
        "scrolled": false,
        "colab": {
          "base_uri": "https://localhost:8080/",
          "height": 1000
        },
        "id": "gLT6LHky7zPK",
        "outputId": "5833b2b5-a16c-4c0a-ee24-041e563e6b61"
      },
      "source": [
        "# Look at the first 3 iterations\n",
        "nodes[0].show()\n",
        "nodes[1].show()\n",
        "nodes[2].show()"
      ],
      "execution_count": 54,
      "outputs": [
        {
          "output_type": "display_data",
          "data": {
            "text/html": [
              "<html>\n",
              "<head><meta charset=\"utf-8\" /></head>\n",
              "<body>\n",
              "    <div>            <script src=\"https://cdnjs.cloudflare.com/ajax/libs/mathjax/2.7.5/MathJax.js?config=TeX-AMS-MML_SVG\"></script><script type=\"text/javascript\">if (window.MathJax) {MathJax.Hub.Config({SVG: {font: \"STIX-Web\"}});}</script>                <script type=\"text/javascript\">window.PlotlyConfig = {MathJaxConfig: 'local'};</script>\n",
              "        <script src=\"https://cdn.plot.ly/plotly-latest.min.js\"></script>                <div id=\"e0ad561d-0080-46e0-bee5-074116932559\" class=\"plotly-graph-div\" style=\"height:500px; width:950px;\"></div>            <script type=\"text/javascript\">                                    window.PLOTLYENV=window.PLOTLYENV || {};                                    if (document.getElementById(\"e0ad561d-0080-46e0-bee5-074116932559\")) {                    Plotly.newPlot(                        \"e0ad561d-0080-46e0-bee5-074116932559\",                        [{\"type\": \"scatter3d\", \"visible\": false, \"x\": [6.9333333333329], \"y\": [4.16], \"z\": [7.800000000000001]}, {\"hoverinfo\": \"none\", \"line\": {\"color\": \"black\", \"width\": 1}, \"mode\": \"lines\", \"showlegend\": false, \"type\": \"scatter\", \"x\": [], \"xaxis\": \"x\", \"y\": [], \"yaxis\": \"y\"}, {\"line\": {\"color\": \"#002659\", \"width\": 5}, \"mode\": \"lines\", \"opacity\": 0.30000000000000004, \"surfaceaxis\": 2, \"surfacecolor\": \"#003c8f\", \"type\": \"scatter3d\", \"x\": [0.0, 0.0, 4.0, 0.0], \"y\": [-0.0, 2.857142857143, 0.0, -0.0], \"z\": [6.0, 1.714285714286, 4.0, 6.0]}, {\"line\": {\"color\": \"#002659\", \"width\": 5}, \"mode\": \"lines\", \"opacity\": 0.30000000000000004, \"surfaceaxis\": 2, \"surfacecolor\": \"#003c8f\", \"type\": \"scatter3d\", \"x\": [0.0, 0.0, 4.0, 5.333333333333, 0.0], \"y\": [3.2, 2.857142857143, 0.0, 0.0, 3.2], \"z\": [0.0, 1.714285714286, 4.0, 0.0, 0.0]}, {\"line\": {\"color\": \"#002659\", \"width\": 5}, \"mode\": \"lines\", \"opacity\": 0.30000000000000004, \"surfaceaxis\": 0, \"surfacecolor\": \"#003c8f\", \"type\": \"scatter3d\", \"x\": [0.0, 0.0, 0.0, 0.0, 0.0], \"y\": [0.0, -0.0, 2.857142857143, 3.2, 0.0], \"z\": [0.0, 6.0, 1.714285714286, 0.0, 0.0]}, {\"line\": {\"color\": \"#002659\", \"width\": 5}, \"mode\": \"lines\", \"opacity\": 0.30000000000000004, \"surfaceaxis\": 1, \"surfacecolor\": \"#003c8f\", \"type\": \"scatter3d\", \"x\": [0.0, 0.0, 5.333333333333, 4.0, 0.0], \"y\": [-0.0, 0.0, 0.0, 0.0, -0.0], \"z\": [6.0, 0.0, 0.0, 4.0, 6.0]}, {\"line\": {\"color\": \"#002659\", \"width\": 5}, \"mode\": \"lines\", \"opacity\": 0.30000000000000004, \"surfaceaxis\": 2, \"surfacecolor\": \"#003c8f\", \"type\": \"scatter3d\", \"x\": [0.0, 0.0, 5.333333333333, 0.0], \"y\": [3.2, 0.0, 0.0, 3.2], \"z\": [0.0, 0.0, 0.0, 0.0]}, {\"hoverinfo\": \"text\", \"hoverlabel\": {\"align\": \"left\", \"bgcolor\": \"white\", \"bordercolor\": \"#404040\", \"font\": {\"color\": \"#404040\", \"family\": \"Arial\"}}, \"marker\": {\"color\": \"gray\", \"opacity\": 1e-07, \"size\": 20}, \"text\": [\"<b>BFS</b>: (0, 3.2, 0)<br><b>Obj</b>: 12.8\", \"<b>BFS</b>: (0, 0, 0)<br><b>Obj</b>: 0\", \"<b>BFS</b>: (5.333, 0, 0)<br><b>Obj</b>: 10.667\", \"<b>BFS</b>: (0, 2.857, 1.714)<br><b>Obj</b>: 13.143\", \"<b>BFS</b>: (0, -0, 6)<br><b>Obj</b>: 6\", \"<b>BFS</b>: (4, 0, 4)<br><b>Obj</b>: 12\"], \"type\": \"scatter3d\", \"x\": [0.0, 0.0, 5.333333333333, 0.0, 0.0, 4.0], \"y\": [3.2, 0.0, 0.0, 2.857142857143, -0.0, 0.0], \"z\": [0.0, 0.0, 0.0, 1.714285714286, 6.0, 4.0]}, {\"type\": \"scatter3d\", \"visible\": true, \"x\": [0.0], \"y\": [2.8571428571428568], \"z\": [1.7142857142857146]}, {\"marker\": {\"color\": \"#d50000\", \"symbol\": \"circle\"}, \"type\": \"scatter3d\", \"x\": [0.0], \"y\": [2.8571428571428568], \"z\": [1.7142857142857146]}, {\"mode\": \"none\", \"opacity\": 0.3, \"surfaceaxis\": 2, \"surfacecolor\": \"gray\", \"type\": \"scatter3d\", \"visible\": false, \"x\": [6.9333333333329, 6.9333333333329, 0.0, 0.0, 6.9333333333329], \"y\": [0.0, 4.16, 4.16, 0.0, 0.0], \"z\": [-13.8666666666658, -30.5066666666658, -16.64, 0.0, -13.8666666666658]}, {\"line\": {\"color\": \"#d50000\", \"width\": 5}, \"marker\": {\"color\": \"#d50000\", \"size\": 5, \"symbol\": \"circle\"}, \"mode\": \"lines+markers\", \"surfaceaxis\": 2, \"surfacecolor\": \"#d50000\", \"type\": \"scatter3d\", \"visible\": false, \"x\": [0.0], \"y\": [0.0], \"z\": [0.0]}, {\"mode\": \"none\", \"opacity\": 0.3, \"surfaceaxis\": 2, \"surfacecolor\": \"gray\", \"type\": \"scatter3d\", \"visible\": false, \"x\": [0.0, 6.9333333333329, 6.9333333333329, 0.0, 0.0], \"y\": [4.16, 4.16, 0.0, 0.0, 4.16], \"z\": [-15.040000000000001, -28.9066666666658, -12.2666666666658, 1.6, -15.040000000000001]}, {\"line\": {\"color\": \"#d50000\", \"width\": 5}, \"marker\": {\"color\": \"#d50000\", \"size\": 5, \"symbol\": \"circle\"}, \"mode\": \"lines+markers\", \"surfaceaxis\": 2, \"surfacecolor\": \"#d50000\", \"type\": \"scatter3d\", \"visible\": false, \"x\": [0.0, 0.0, 0.8, 0.0], \"y\": [0.4, 0.0, 0.0, 0.4], \"z\": [0.0, 1.6, 0.0, 0.0]}, {\"mode\": \"none\", \"opacity\": 0.3, \"surfaceaxis\": 2, \"surfacecolor\": \"gray\", \"type\": \"scatter3d\", \"visible\": false, \"x\": [6.9333333333329, 0.0, 0.0, 6.9333333333329, 6.9333333333329], \"y\": [4.16, 4.16, 0.0, 0.0, 4.16], \"z\": [-27.316666666665803, -13.450000000000001, 3.19, -10.6766666666658, -27.316666666665803]}, {\"line\": {\"color\": \"#d50000\", \"width\": 5}, \"marker\": {\"color\": \"#d50000\", \"size\": 5, \"symbol\": \"circle\"}, \"mode\": \"lines+markers\", \"surfaceaxis\": 2, \"surfacecolor\": \"#d50000\", \"type\": \"scatter3d\", \"visible\": false, \"x\": [1.595, 0.0, -0.0, 1.595], \"y\": [0.0, 0.7975, -0.0, 0.0], \"z\": [0.0, 0.0, 3.19, 0.0]}, {\"mode\": \"none\", \"opacity\": 0.3, \"surfaceaxis\": 2, \"surfacecolor\": \"gray\", \"type\": \"scatter3d\", \"visible\": false, \"x\": [6.9333333333329, 0.0, 0.0, 6.9333333333329, 6.9333333333329], \"y\": [4.16, 4.16, 0.0, 0.0, 4.16], \"z\": [-25.7166666666658, -11.850000000000001, 4.79, -9.076666666665801, -25.7166666666658]}, {\"line\": {\"color\": \"#d50000\", \"width\": 5}, \"marker\": {\"color\": \"#d50000\", \"size\": 5, \"symbol\": \"circle\"}, \"mode\": \"lines+markers\", \"surfaceaxis\": 2, \"surfacecolor\": \"#d50000\", \"type\": \"scatter3d\", \"visible\": false, \"x\": [0.0, 2.395, 0.0, 0.0], \"y\": [1.1975, 0.0, 0.0, 1.1975], \"z\": [0.0, 0.0, 4.79, 0.0]}, {\"mode\": \"none\", \"opacity\": 0.3, \"surfaceaxis\": 2, \"surfacecolor\": \"gray\", \"type\": \"scatter3d\", \"visible\": false, \"x\": [0.0, 0.0, 6.9333333333329, 6.9333333333329, 0.0], \"y\": [4.16, 0.0, 0.0, 4.16, 4.16], \"z\": [-10.260000000000002, 6.38, -7.4866666666658, -24.126666666665802, -10.260000000000002]}, {\"line\": {\"color\": \"#d50000\", \"width\": 5}, \"marker\": {\"color\": \"#d50000\", \"size\": 5, \"symbol\": \"circle\"}, \"mode\": \"lines+markers\", \"surfaceaxis\": 2, \"surfacecolor\": \"#d50000\", \"type\": \"scatter3d\", \"visible\": false, \"x\": [0.0, 0.253333333333, 3.19, 0.0, 0.0], \"y\": [0.152, -0.0, 0.0, 1.595, 0.152], \"z\": [5.772, 5.873333333333, 0.0, 0.0, 5.772]}, {\"mode\": \"none\", \"opacity\": 0.3, \"surfaceaxis\": 2, \"surfacecolor\": \"gray\", \"type\": \"scatter3d\", \"visible\": false, \"x\": [6.9333333333329, 0.0, 0.0, 6.9333333333329, 6.9333333333329], \"y\": [0.0, 0.0, 4.16, 4.16, 0.0], \"z\": [-5.8866666666658, 7.98, -8.66, -22.5266666666658, -5.8866666666658]}, {\"line\": {\"color\": \"#d50000\", \"width\": 5}, \"marker\": {\"color\": \"#d50000\", \"size\": 5, \"symbol\": \"circle\"}, \"mode\": \"lines+markers\", \"surfaceaxis\": 2, \"surfacecolor\": \"#d50000\", \"type\": \"scatter3d\", \"visible\": false, \"x\": [0.0, 0.0, 1.32, 3.99, 0.0], \"y\": [1.995, 0.792, 0.0, 0.0, 1.995], \"z\": [0.0, 4.812, 5.34, 0.0, 0.0]}, {\"mode\": \"none\", \"opacity\": 0.3, \"surfaceaxis\": 2, \"surfacecolor\": \"gray\", \"type\": \"scatter3d\", \"visible\": false, \"x\": [0.0, 6.9333333333329, 6.9333333333329, 0.0, 0.0], \"y\": [4.16, 4.16, 0.0, 0.0, 4.16], \"z\": [-7.0600000000000005, -20.926666666665803, -4.2866666666658, 9.58, -7.0600000000000005]}, {\"line\": {\"color\": \"#d50000\", \"width\": 5}, \"marker\": {\"color\": \"#d50000\", \"size\": 5, \"symbol\": \"circle\"}, \"mode\": \"lines+markers\", \"surfaceaxis\": 2, \"surfacecolor\": \"#d50000\", \"type\": \"scatter3d\", \"visible\": false, \"x\": [-0.0, 0.0, 4.79, 2.386666666667, -0.0], \"y\": [1.432, 2.395, 0.0, 0.0, 1.432], \"z\": [3.852, 0.0, 0.0, 4.806666666667, 3.852]}, {\"mode\": \"none\", \"opacity\": 0.3, \"surfaceaxis\": 2, \"surfacecolor\": \"gray\", \"type\": \"scatter3d\", \"visible\": false, \"x\": [6.9333333333329, 0.0, 0.0, 6.9333333333329, 6.9333333333329], \"y\": [4.16, 4.16, 0.0, 0.0, 4.16], \"z\": [-19.3366666666658, -5.470000000000001, 11.17, -2.6966666666658003, -19.3366666666658]}, {\"line\": {\"color\": \"#d50000\", \"width\": 5}, \"marker\": {\"color\": \"#d50000\", \"size\": 5, \"symbol\": \"circle\"}, \"mode\": \"lines+markers\", \"surfaceaxis\": 2, \"surfacecolor\": \"#d50000\", \"type\": \"scatter3d\", \"visible\": false, \"x\": [3.446666666667, 0.0, 0.0, 4.075, 4.83, 3.446666666667], \"y\": [-0.0, 2.068, 2.7925, 0.755, 0.0, -0.0], \"z\": [4.276666666667, 2.898, 0.0, 0.0, 1.51, 4.276666666667]}, {\"mode\": \"none\", \"opacity\": 0.3, \"surfaceaxis\": 2, \"surfacecolor\": \"gray\", \"type\": \"scatter3d\", \"visible\": false, \"x\": [6.9333333333329, 6.9333333333329, 0.0, 0.0, 6.9333333333329], \"y\": [4.16, 0.0, 0.0, 4.16, 4.16], \"z\": [-17.7366666666658, -1.0966666666658007, 12.77, -3.870000000000001, -17.7366666666658]}, {\"line\": {\"color\": \"#d50000\", \"width\": 5}, \"marker\": {\"color\": \"#d50000\", \"size\": 5, \"symbol\": \"circle\"}, \"mode\": \"lines+markers\", \"surfaceaxis\": 2, \"surfacecolor\": \"#d50000\", \"type\": \"scatter3d\", \"visible\": false, \"x\": [0.075, 0.0, 0.0, 1.305, 0.075], \"y\": [3.155, 3.1925, 2.708, 1.925, 3.155], \"z\": [0.0, 0.0, 1.938, 2.46, 0.0]}, {\"mode\": \"none\", \"opacity\": 0.3, \"surfaceaxis\": 2, \"surfacecolor\": \"gray\", \"type\": \"scatter3d\", \"visible\": false, \"x\": [0.0, 6.9333333333329, 6.9333333333329, 0.0, 0.0], \"y\": [0.0, 0.0, 4.16, 4.16, 0.0], \"z\": [13.143, -0.7236666666657996, -17.3636666666658, -3.497, 13.143]}, {\"mode\": \"none\", \"opacity\": 0.3, \"surfaceaxis\": 2, \"surfacecolor\": \"gray\", \"type\": \"scatter3d\", \"visible\": false, \"x\": [0.0, 0.0, 6.9333333333329, 6.9333333333329, 0.0], \"y\": [0.0, 4.16, 4.16, 0.0, 0.0], \"z\": [14.36, -2.280000000000001, -16.1466666666658, 0.49333333333419915, 14.36]}, {\"mode\": \"none\", \"opacity\": 0.3, \"surfaceaxis\": 2, \"surfacecolor\": \"gray\", \"type\": \"scatter3d\", \"visible\": false, \"x\": [0.0, 6.9333333333329, 6.9333333333329, 0.0, 0.0], \"y\": [4.16, 4.16, 0.0, 0.0, 4.16], \"z\": [-0.6799999999999997, -14.5466666666658, 2.0933333333342006, 15.96, -0.6799999999999997]}, {\"mode\": \"none\", \"opacity\": 0.3, \"surfaceaxis\": 2, \"surfacecolor\": \"gray\", \"type\": \"scatter3d\", \"visible\": false, \"x\": [6.9333333333329, 6.9333333333329, 0.0, 0.0, 6.9333333333329], \"y\": [0.0, 4.16, 4.16, 0.0, 0.0], \"z\": [3.6933333333341984, -12.946666666665802, 0.9199999999999982, 17.56, 3.6933333333341984]}, {\"mode\": \"none\", \"opacity\": 0.3, \"surfaceaxis\": 2, \"surfacecolor\": \"gray\", \"type\": \"scatter3d\", \"visible\": false, \"x\": [6.9333333333329, 0.0, 0.0, 6.9333333333329, 6.9333333333329], \"y\": [0.0, 0.0, 4.16, 4.16, 0.0], \"z\": [5.283333333334198, 19.15, 2.509999999999998, -11.356666666665802, 5.283333333334198]}, {\"mode\": \"none\", \"opacity\": 0.3, \"surfaceaxis\": 2, \"surfacecolor\": \"gray\", \"type\": \"scatter3d\", \"visible\": false, \"x\": [6.9333333333329, 6.9333333333329, 0.0, 0.0, 6.9333333333329], \"y\": [4.16, 0.0, 0.0, 4.16, 4.16], \"z\": [-9.7566666666658, 6.8833333333342, 20.75, 4.109999999999999, -9.7566666666658]}, {\"mode\": \"none\", \"opacity\": 0.3, \"surfaceaxis\": 2, \"surfacecolor\": \"gray\", \"type\": \"scatter3d\", \"visible\": false, \"x\": [0.0, 6.9333333333329, 6.9333333333329, 0.0, 0.0], \"y\": [0.0, 0.0, 4.16, 4.16, 0.0], \"z\": [22.35, 8.483333333334201, -8.1566666666658, 5.710000000000001, 22.35]}, {\"mode\": \"none\", \"opacity\": 0.3, \"surfaceaxis\": 2, \"surfacecolor\": \"gray\", \"type\": \"scatter3d\", \"visible\": false, \"x\": [6.9333333333329, 6.9333333333329, 0.0, 0.0, 6.9333333333329], \"y\": [0.0, 4.16, 4.16, 0.0, 0.0], \"z\": [10.073333333334201, -6.5666666666658, 7.300000000000001, 23.94, 10.073333333334201]}, {\"mode\": \"none\", \"opacity\": 0.3, \"surfaceaxis\": 2, \"surfacecolor\": \"gray\", \"type\": \"scatter3d\", \"visible\": false, \"x\": [6.9333333333329, 6.9333333333329, 0.0, 0.0, 6.9333333333329], \"y\": [0.0, 4.16, 4.16, 0.0, 0.0], \"z\": [11.673333333334199, -4.966666666665802, 8.899999999999999, 25.54, 11.673333333334199]}, {\"mode\": \"none\", \"opacity\": 0.3, \"surfaceaxis\": 2, \"surfacecolor\": \"gray\", \"type\": \"scatter3d\", \"visible\": false, \"x\": [0.0, 0.0, 6.9333333333329, 6.9333333333329, 0.0], \"y\": [0.0, 4.16, 4.16, 0.0, 0.0], \"z\": [27.13, 10.489999999999998, -3.376666666665802, 13.263333333334199, 27.13]}, {\"mode\": \"none\", \"opacity\": 0.3, \"surfaceaxis\": 2, \"surfacecolor\": \"gray\", \"type\": \"scatter3d\", \"visible\": false, \"x\": [6.9333333333329, 6.9333333333329, 0.0, 0.0, 6.9333333333329], \"y\": [0.0, 4.16, 4.16, 0.0, 0.0], \"z\": [14.8633333333342, -1.7766666666658004, 12.09, 28.73, 14.8633333333342]}, {\"mode\": \"none\", \"opacity\": 0.3, \"surfaceaxis\": 2, \"surfacecolor\": \"gray\", \"type\": \"scatter3d\", \"visible\": false, \"x\": [0.0, 6.9333333333329, 6.9333333333329, 0.0, 0.0], \"y\": [0.0, 0.0, 4.16, 4.16, 0.0], \"z\": [30.33, 16.463333333334198, -0.17666666666580255, 13.689999999999998, 30.33]}, {\"mode\": \"none\", \"opacity\": 0.3, \"surfaceaxis\": 2, \"surfacecolor\": \"gray\", \"type\": \"scatter3d\", \"visible\": false, \"x\": [6.9333333333329, 6.9333333333329, 0.0, 0.0, 6.9333333333329], \"y\": [0.0, 4.16, 4.16, 0.0, 0.0], \"z\": [18.0533333333342, 1.4133333333342009, 15.280000000000001, 31.92, 18.0533333333342]}, {\"mode\": \"none\", \"opacity\": 0.3, \"surfaceaxis\": 2, \"surfacecolor\": \"gray\", \"type\": \"scatter3d\", \"visible\": false, \"x\": [6.9333333333329, 6.9333333333329, 0.0, 0.0, 6.9333333333329], \"y\": [0.0, 4.16, 4.16, 0.0, 0.0], \"z\": [19.653333333334203, 3.0133333333342023, 16.880000000000003, 33.52, 19.653333333334203]}, {\"mode\": \"none\", \"opacity\": 0.3, \"surfaceaxis\": 2, \"surfacecolor\": \"gray\", \"type\": \"scatter3d\", \"visible\": false, \"x\": [0.0, 6.9333333333329, 6.9333333333329, 0.0, 0.0], \"y\": [4.16, 4.16, 0.0, 0.0, 4.16], \"z\": [18.47, 4.603333333334199, 21.2433333333342, 35.11, 18.47]}, {\"mode\": \"none\", \"opacity\": 0.3, \"surfaceaxis\": 2, \"surfacecolor\": \"gray\", \"type\": \"scatter3d\", \"visible\": false, \"x\": [6.9333333333329, 0.0, 0.0, 6.9333333333329, 6.9333333333329], \"y\": [4.16, 4.16, 0.0, 0.0, 4.16], \"z\": [6.2033333333342, 20.07, 36.71, 22.8433333333342, 6.2033333333342]}, {\"mode\": \"none\", \"opacity\": 0.3, \"surfaceaxis\": 2, \"surfacecolor\": \"gray\", \"type\": \"scatter3d\", \"visible\": false, \"x\": [6.9333333333329, 0.0, 0.0, 6.9333333333329, 6.9333333333329], \"y\": [0.0, 0.0, 4.16, 4.16, 0.0], \"z\": [24.443333333334202, 38.31, 21.67, 7.803333333334201, 24.443333333334202]}],                        {\"annotations\": [{\"templateitemname\": \"current\", \"text\": \"<br>13.143<br>x* = (0, 2.857, 1.714)\", \"visible\": true, \"x\": 0.5, \"xref\": \"x\", \"y\": 0.9, \"yref\": \"y\"}], \"scene\": {\"domain\": {\"x\": [0.0, 0.39473684210526316], \"y\": [0.0, 1.0]}, \"xaxis\": {\"range\": [0, 6.9333333333329]}, \"yaxis\": {\"range\": [0, 4.16]}, \"zaxis\": {\"range\": [0, 7.800000000000001]}}, \"sliders\": [{\"active\": 0, \"currentvalue\": {\"prefix\": \"Objective Value: \"}, \"len\": 0.39473684210526316, \"lenmode\": \"fraction\", \"steps\": [{\"args\": [{\"visible\": [false, null, null, null, null, null, null, null, true, null, true, true, false, false, false, false, false, false, false, false, false, false, false, false, false, false, false, false, false, false, false, false, false, false, false, false, false, false, false, false, false, false, false, false, false]}], \"label\": \"0.0\", \"method\": \"update\"}, {\"args\": [{\"visible\": [false, null, null, null, null, null, null, null, true, null, false, false, true, true, false, false, false, false, false, false, false, false, false, false, false, false, false, false, false, false, false, false, false, false, false, false, false, false, false, false, false, false, false, false, false]}], \"label\": \"1.6\", \"method\": \"update\"}, {\"args\": [{\"visible\": [false, null, null, null, null, null, null, null, true, null, false, false, false, false, true, true, false, false, false, false, false, false, false, false, false, false, false, false, false, false, false, false, false, false, false, false, false, false, false, false, false, false, false, false, false]}], \"label\": \"3.19\", \"method\": \"update\"}, {\"args\": [{\"visible\": [false, null, null, null, null, null, null, null, true, null, false, false, false, false, false, false, true, true, false, false, false, false, false, false, false, false, false, false, false, false, false, false, false, false, false, false, false, false, false, false, false, false, false, false, false]}], \"label\": \"4.79\", \"method\": \"update\"}, {\"args\": [{\"visible\": [false, null, null, null, null, null, null, null, true, null, false, false, false, false, false, false, false, false, true, true, false, false, false, false, false, false, false, false, false, false, false, false, false, false, false, false, false, false, false, false, false, false, false, false, false]}], \"label\": \"6.38\", \"method\": \"update\"}, {\"args\": [{\"visible\": [false, null, null, null, null, null, null, null, true, null, false, false, false, false, false, false, false, false, false, false, true, true, false, false, false, false, false, false, false, false, false, false, false, false, false, false, false, false, false, false, false, false, false, false, false]}], \"label\": \"7.98\", \"method\": \"update\"}, {\"args\": [{\"visible\": [false, null, null, null, null, null, null, null, true, null, false, false, false, false, false, false, false, false, false, false, false, false, true, true, false, false, false, false, false, false, false, false, false, false, false, false, false, false, false, false, false, false, false, false, false]}], \"label\": \"9.58\", \"method\": \"update\"}, {\"args\": [{\"visible\": [false, null, null, null, null, null, null, null, true, null, false, false, false, false, false, false, false, false, false, false, false, false, false, false, true, true, false, false, false, false, false, false, false, false, false, false, false, false, false, false, false, false, false, false, false]}], \"label\": \"11.17\", \"method\": \"update\"}, {\"args\": [{\"visible\": [false, null, null, null, null, null, null, null, true, null, false, false, false, false, false, false, false, false, false, false, false, false, false, false, false, false, true, true, false, false, false, false, false, false, false, false, false, false, false, false, false, false, false, false, false]}], \"label\": \"12.77\", \"method\": \"update\"}, {\"args\": [{\"visible\": [false, null, null, null, null, null, null, null, true, null, false, false, false, false, false, false, false, false, false, false, false, false, false, false, false, false, false, false, true, false, false, false, false, false, false, false, false, false, false, false, false, false, false, false, false]}], \"label\": \"13.143\", \"method\": \"update\"}, {\"args\": [{\"visible\": [false, null, null, null, null, null, null, null, true, null, false, false, false, false, false, false, false, false, false, false, false, false, false, false, false, false, false, false, false, true, false, false, false, false, false, false, false, false, false, false, false, false, false, false, false]}], \"label\": \"14.36\", \"method\": \"update\"}, {\"args\": [{\"visible\": [false, null, null, null, null, null, null, null, true, null, false, false, false, false, false, false, false, false, false, false, false, false, false, false, false, false, false, false, false, false, true, false, false, false, false, false, false, false, false, false, false, false, false, false, false]}], \"label\": \"15.96\", \"method\": \"update\"}, {\"args\": [{\"visible\": [false, null, null, null, null, null, null, null, true, null, false, false, false, false, false, false, false, false, false, false, false, false, false, false, false, false, false, false, false, false, false, true, false, false, false, false, false, false, false, false, false, false, false, false, false]}], \"label\": \"17.56\", \"method\": \"update\"}, {\"args\": [{\"visible\": [false, null, null, null, null, null, null, null, true, null, false, false, false, false, false, false, false, false, false, false, false, false, false, false, false, false, false, false, false, false, false, false, true, false, false, false, false, false, false, false, false, false, false, false, false]}], \"label\": \"19.15\", \"method\": \"update\"}, {\"args\": [{\"visible\": [false, null, null, null, null, null, null, null, true, null, false, false, false, false, false, false, false, false, false, false, false, false, false, false, false, false, false, false, false, false, false, false, false, true, false, false, false, false, false, false, false, false, false, false, false]}], \"label\": \"20.75\", \"method\": \"update\"}, {\"args\": [{\"visible\": [false, null, null, null, null, null, null, null, true, null, false, false, false, false, false, false, false, false, false, false, false, false, false, false, false, false, false, false, false, false, false, false, false, false, true, false, false, false, false, false, false, false, false, false, false]}], \"label\": \"22.35\", \"method\": \"update\"}, {\"args\": [{\"visible\": [false, null, null, null, null, null, null, null, true, null, false, false, false, false, false, false, false, false, false, false, false, false, false, false, false, false, false, false, false, false, false, false, false, false, false, true, false, false, false, false, false, false, false, false, false]}], \"label\": \"23.94\", \"method\": \"update\"}, {\"args\": [{\"visible\": [false, null, null, null, null, null, null, null, true, null, false, false, false, false, false, false, false, false, false, false, false, false, false, false, false, false, false, false, false, false, false, false, false, false, false, false, true, false, false, false, false, false, false, false, false]}], \"label\": \"25.54\", \"method\": \"update\"}, {\"args\": [{\"visible\": [false, null, null, null, null, null, null, null, true, null, false, false, false, false, false, false, false, false, false, false, false, false, false, false, false, false, false, false, false, false, false, false, false, false, false, false, false, true, false, false, false, false, false, false, false]}], \"label\": \"27.13\", \"method\": \"update\"}, {\"args\": [{\"visible\": [false, null, null, null, null, null, null, null, true, null, false, false, false, false, false, false, false, false, false, false, false, false, false, false, false, false, false, false, false, false, false, false, false, false, false, false, false, false, true, false, false, false, false, false, false]}], \"label\": \"28.73\", \"method\": \"update\"}, {\"args\": [{\"visible\": [false, null, null, null, null, null, null, null, true, null, false, false, false, false, false, false, false, false, false, false, false, false, false, false, false, false, false, false, false, false, false, false, false, false, false, false, false, false, false, true, false, false, false, false, false]}], \"label\": \"30.33\", \"method\": \"update\"}, {\"args\": [{\"visible\": [false, null, null, null, null, null, null, null, true, null, false, false, false, false, false, false, false, false, false, false, false, false, false, false, false, false, false, false, false, false, false, false, false, false, false, false, false, false, false, false, true, false, false, false, false]}], \"label\": \"31.92\", \"method\": \"update\"}, {\"args\": [{\"visible\": [false, null, null, null, null, null, null, null, true, null, false, false, false, false, false, false, false, false, false, false, false, false, false, false, false, false, false, false, false, false, false, false, false, false, false, false, false, false, false, false, false, true, false, false, false]}], \"label\": \"33.52\", \"method\": \"update\"}, {\"args\": [{\"visible\": [false, null, null, null, null, null, null, null, true, null, false, false, false, false, false, false, false, false, false, false, false, false, false, false, false, false, false, false, false, false, false, false, false, false, false, false, false, false, false, false, false, false, true, false, false]}], \"label\": \"35.11\", \"method\": \"update\"}, {\"args\": [{\"visible\": [false, null, null, null, null, null, null, null, true, null, false, false, false, false, false, false, false, false, false, false, false, false, false, false, false, false, false, false, false, false, false, false, false, false, false, false, false, false, false, false, false, false, false, true, false]}], \"label\": \"36.71\", \"method\": \"update\"}], \"tickcolor\": \"white\", \"ticklen\": 0, \"x\": 0.6052631578947368, \"xanchor\": \"left\", \"y\": 0.01, \"yanchor\": \"bottom\"}], \"template\": {\"data\": {\"scatter\": [{\"fillcolor\": \"#1565c0\", \"hoverinfo\": \"none\", \"line\": {\"color\": \"#173D90\", \"width\": 4}, \"marker\": {\"color\": \"white\", \"line\": {\"color\": \"#d50000\", \"width\": 2}, \"opacity\": 0.99, \"size\": 9}, \"mode\": \"markers\", \"showlegend\": false, \"type\": \"scatter\", \"visible\": true}, {\"fillcolor\": \"#1565c0\", \"hoverinfo\": \"none\", \"line\": {\"color\": \"#1469FE\", \"width\": 4}, \"marker\": {\"color\": \"white\", \"line\": {\"color\": \"#d50000\", \"width\": 2}, \"opacity\": 0.99, \"size\": 9}, \"mode\": \"markers\", \"showlegend\": false, \"type\": \"scatter\", \"visible\": true}, {\"fillcolor\": \"#1565c0\", \"hoverinfo\": \"none\", \"line\": {\"color\": \"#65ADFF\", \"width\": 4}, \"marker\": {\"color\": \"white\", \"line\": {\"color\": \"#d50000\", \"width\": 2}, \"opacity\": 0.99, \"size\": 9}, \"mode\": \"markers\", \"showlegend\": false, \"type\": \"scatter\", \"visible\": true}, {\"fillcolor\": \"#1565c0\", \"hoverinfo\": \"none\", \"line\": {\"color\": \"#474849\", \"width\": 4}, \"marker\": {\"color\": \"white\", \"line\": {\"color\": \"#d50000\", \"width\": 2}, \"opacity\": 0.99, \"size\": 9}, \"mode\": \"markers\", \"showlegend\": false, \"type\": \"scatter\", \"visible\": true}, {\"fillcolor\": \"#1565c0\", \"hoverinfo\": \"none\", \"line\": {\"color\": \"#A90C0C\", \"width\": 4}, \"marker\": {\"color\": \"white\", \"line\": {\"color\": \"#d50000\", \"width\": 2}, \"opacity\": 0.99, \"size\": 9}, \"mode\": \"markers\", \"showlegend\": false, \"type\": \"scatter\", \"visible\": true}, {\"fillcolor\": \"#1565c0\", \"hoverinfo\": \"none\", \"line\": {\"color\": \"#DC0000\", \"width\": 4}, \"marker\": {\"color\": \"white\", \"line\": {\"color\": \"#d50000\", \"width\": 2}, \"opacity\": 0.99, \"size\": 9}, \"mode\": \"markers\", \"showlegend\": false, \"type\": \"scatter\", \"visible\": true}], \"scatter3d\": [{\"hoverinfo\": \"none\", \"line\": {\"color\": \"#1565c0\", \"width\": 6}, \"marker\": {\"color\": \"#ff5131\", \"line\": {\"color\": \"#d50000\", \"width\": 1}, \"opacity\": 0.99, \"size\": 5, \"symbol\": \"circle-open\"}, \"mode\": \"markers\", \"showlegend\": false, \"surfacecolor\": \"#5e92f3\", \"type\": \"scatter3d\", \"visible\": true}], \"table\": [{\"cells\": {\"fill\": {\"color\": \"white\"}, \"font\": {\"color\": [[\"black\", \"#d50000\", \"black\"], [\"black\", \"black\", \"black\"]]}}, \"header\": {\"fill\": {\"color\": \"white\"}, \"font\": {\"color\": [\"#d50000\", \"black\"]}}, \"type\": \"table\", \"visible\": false}]}, \"layout\": {\"annotations\": [{\"align\": \"center\", \"ax\": 0, \"ay\": 0, \"bgcolor\": \"#45568B\", \"bordercolor\": \"#404040\", \"borderpad\": 3, \"borderwidth\": 2, \"font\": {\"color\": \"white\", \"size\": 12}, \"name\": \"current\", \"visible\": false}, {\"align\": \"center\", \"ax\": 0, \"ay\": 0, \"bgcolor\": \"#D8E4F9\", \"bordercolor\": \"#404040\", \"borderpad\": 3, \"borderwidth\": 2, \"font\": {\"color\": \"#404040\", \"size\": 12}, \"name\": \"explored\", \"visible\": false}, {\"align\": \"center\", \"ax\": 0, \"ay\": 0, \"bgcolor\": \"white\", \"bordercolor\": \"#404040\", \"borderpad\": 3, \"borderwidth\": 2, \"font\": {\"color\": \"#404040\", \"size\": 12}, \"name\": \"unexplored\", \"visible\": false}], \"clickmode\": \"none\", \"dragmode\": \"turntable\", \"font\": {\"color\": \"#404040\", \"family\": \"Arial\"}, \"height\": 500, \"hovermode\": \"closest\", \"legend\": {\"font\": {\"size\": 13}, \"title\": {\"font\": {\"size\": 14}, \"text\": \"<b>Constraint(s)</b>\"}, \"x\": 0.39473684210526316, \"xanchor\": \"left\", \"y\": 1, \"yanchor\": \"top\"}, \"margin\": {\"b\": 0, \"l\": 0, \"r\": 0, \"t\": 33}, \"paper_bgcolor\": \"white\", \"plot_bgcolor\": \"white\", \"scene\": {\"aspectmode\": \"cube\", \"domain\": {\"x\": [0, 0.39473684210526316], \"y\": [0, 1]}, \"xaxis\": {\"backgroundcolor\": \"white\", \"gridcolor\": \"#DFDFDF\", \"gridwidth\": 2, \"linecolor\": \"#404040\", \"rangemode\": \"tozero\", \"showbackground\": true, \"showspikes\": false, \"ticks\": \"\", \"title\": {\"text\": \"x<sub>1</sub>\"}, \"zerolinecolor\": \"white\"}, \"yaxis\": {\"backgroundcolor\": \"white\", \"gridcolor\": \"#DFDFDF\", \"gridwidth\": 2, \"linecolor\": \"#404040\", \"rangemode\": \"tozero\", \"showbackground\": true, \"showspikes\": false, \"ticks\": \"\", \"title\": {\"text\": \"x<sub>2</sub>\"}, \"zerolinecolor\": \"white\"}, \"zaxis\": {\"backgroundcolor\": \"white\", \"gridcolor\": \"#DFDFDF\", \"gridwidth\": 2, \"linecolor\": \"#404040\", \"rangemode\": \"tozero\", \"showbackground\": true, \"showspikes\": false, \"ticks\": \"\", \"title\": {\"text\": \"x<sub>3</sub>\"}, \"zerolinecolor\": \"white\"}}, \"title\": {\"font\": {\"color\": \"#404040\", \"size\": 18}, \"text\": \"<b>Geometric Interpretation of LPs</b>\", \"x\": 0, \"xanchor\": \"left\", \"y\": 0.99, \"yanchor\": \"top\"}, \"width\": 950}}, \"xaxis\": {\"domain\": [0.5, 1], \"range\": [0, 1], \"visible\": false}, \"yaxis\": {\"domain\": [0.15, 1], \"range\": [0, 1], \"visible\": false}},                        {\"doubleClick\": false, \"displayModeBar\": false, \"editable\": false, \"responsive\": false, \"showAxisDragHandles\": false, \"showAxisRangeEntryBoxes\": false}                    ).then(function(){\n",
              "                            \n",
              "var gd = document.getElementById('e0ad561d-0080-46e0-bee5-074116932559');\n",
              "var x = new MutationObserver(function (mutations, observer) {{\n",
              "        var display = window.getComputedStyle(gd).display;\n",
              "        if (!display || display === 'none') {{\n",
              "            console.log([gd, 'removed!']);\n",
              "            Plotly.purge(gd);\n",
              "            observer.disconnect();\n",
              "        }}\n",
              "}});\n",
              "\n",
              "// Listen for the removal of the full notebook cells\n",
              "var notebookContainer = gd.closest('#notebook-container');\n",
              "if (notebookContainer) {{\n",
              "    x.observe(notebookContainer, {childList: true});\n",
              "}}\n",
              "\n",
              "// Listen for the clearing of the current output cell\n",
              "var outputEl = gd.closest('.output');\n",
              "if (outputEl) {{\n",
              "    x.observe(outputEl, {childList: true});\n",
              "}}\n",
              "\n",
              "                        })                };                            </script>        </div>\n",
              "</body>\n",
              "</html>"
            ]
          },
          "metadata": {
            "tags": []
          }
        },
        {
          "output_type": "display_data",
          "data": {
            "text/html": [
              "<html>\n",
              "<head><meta charset=\"utf-8\" /></head>\n",
              "<body>\n",
              "    <div>            <script src=\"https://cdnjs.cloudflare.com/ajax/libs/mathjax/2.7.5/MathJax.js?config=TeX-AMS-MML_SVG\"></script><script type=\"text/javascript\">if (window.MathJax) {MathJax.Hub.Config({SVG: {font: \"STIX-Web\"}});}</script>                <script type=\"text/javascript\">window.PlotlyConfig = {MathJaxConfig: 'local'};</script>\n",
              "        <script src=\"https://cdn.plot.ly/plotly-latest.min.js\"></script>                <div id=\"60f2ad2e-bcb8-4c05-8f10-9bb4c5cc5895\" class=\"plotly-graph-div\" style=\"height:500px; width:950px;\"></div>            <script type=\"text/javascript\">                                    window.PLOTLYENV=window.PLOTLYENV || {};                                    if (document.getElementById(\"60f2ad2e-bcb8-4c05-8f10-9bb4c5cc5895\")) {                    Plotly.newPlot(                        \"60f2ad2e-bcb8-4c05-8f10-9bb4c5cc5895\",                        [{\"type\": \"scatter3d\", \"visible\": false, \"x\": [6.9333333333329], \"y\": [4.16], \"z\": [7.800000000000001]}, {\"hoverinfo\": \"none\", \"line\": {\"color\": \"black\", \"width\": 1}, \"mode\": \"lines\", \"showlegend\": false, \"type\": \"scatter\", \"x\": [0.5, 0.25, null, 0.5, 0.75, null], \"xaxis\": \"x\", \"y\": [0.9, 0.29999999999999993, null, 0.9, 0.29999999999999993, null], \"yaxis\": \"y\"}, {\"line\": {\"color\": \"#404040\", \"width\": 5}, \"mode\": \"lines\", \"opacity\": 0.1, \"surfaceaxis\": 2, \"surfacecolor\": \"white\", \"type\": \"scatter3d\", \"x\": [0.0, 0.0, 4.0, 0.0], \"y\": [-0.0, 2.857142857143, 0.0, -0.0], \"z\": [6.0, 1.714285714286, 4.0, 6.0]}, {\"line\": {\"color\": \"#404040\", \"width\": 5}, \"mode\": \"lines\", \"opacity\": 0.1, \"surfaceaxis\": 2, \"surfacecolor\": \"white\", \"type\": \"scatter3d\", \"x\": [0.0, 0.0, 4.0, 5.333333333333, 0.0], \"y\": [3.2, 2.857142857143, 0.0, 0.0, 3.2], \"z\": [0.0, 1.714285714286, 4.0, 0.0, 0.0]}, {\"line\": {\"color\": \"#404040\", \"width\": 5}, \"mode\": \"lines\", \"opacity\": 0.1, \"surfaceaxis\": 0, \"surfacecolor\": \"white\", \"type\": \"scatter3d\", \"x\": [0.0, 0.0, 0.0, 0.0, 0.0], \"y\": [0.0, -0.0, 2.857142857143, 3.2, 0.0], \"z\": [0.0, 6.0, 1.714285714286, 0.0, 0.0]}, {\"line\": {\"color\": \"#404040\", \"width\": 5}, \"mode\": \"lines\", \"opacity\": 0.1, \"surfaceaxis\": 1, \"surfacecolor\": \"white\", \"type\": \"scatter3d\", \"x\": [0.0, 0.0, 5.333333333333, 4.0, 0.0], \"y\": [-0.0, 0.0, 0.0, 0.0, -0.0], \"z\": [6.0, 0.0, 0.0, 4.0, 6.0]}, {\"line\": {\"color\": \"#404040\", \"width\": 5}, \"mode\": \"lines\", \"opacity\": 0.1, \"surfaceaxis\": 2, \"surfacecolor\": \"white\", \"type\": \"scatter3d\", \"x\": [0.0, 0.0, 5.333333333333, 0.0], \"y\": [3.2, 0.0, 0.0, 3.2], \"z\": [0.0, 0.0, 0.0, 0.0]}, {\"hoverinfo\": \"text\", \"hoverlabel\": {\"align\": \"left\", \"bgcolor\": \"white\", \"bordercolor\": \"#404040\", \"font\": {\"color\": \"#404040\", \"family\": \"Arial\"}}, \"marker\": {\"color\": \"gray\", \"opacity\": 1e-07, \"size\": 20}, \"text\": [\"<b>BFS</b>: (0, 3.2, 0)<br><b>Obj</b>: 12.8\", \"<b>BFS</b>: (0, 0, 0)<br><b>Obj</b>: 0\", \"<b>BFS</b>: (5.333, 0, 0)<br><b>Obj</b>: 10.667\", \"<b>BFS</b>: (0, 2.857, 1.714)<br><b>Obj</b>: 13.143\", \"<b>BFS</b>: (0, -0, 6)<br><b>Obj</b>: 6\", \"<b>BFS</b>: (4, 0, 4)<br><b>Obj</b>: 12\"], \"type\": \"scatter3d\", \"x\": [0.0, 0.0, 5.333333333333, 0.0, 0.0, 4.0], \"y\": [3.2, 0.0, 0.0, 2.857142857143, -0.0, 0.0], \"z\": [0.0, 0.0, 0.0, 1.714285714286, 6.0, 4.0]}, {\"line\": {\"color\": \"#003c8f\", \"width\": 5}, \"mode\": \"lines\", \"opacity\": 0.2, \"surfaceaxis\": 2, \"surfacecolor\": \"#1565c0\", \"type\": \"scatter3d\", \"x\": [0.0, 0.333333333333, 0.0, 0.0], \"y\": [3.2, 3.0, 3.0, 3.2], \"z\": [0.0, 0.0, 1.0, 0.0]}, {\"line\": {\"color\": \"#003c8f\", \"width\": 5}, \"mode\": \"lines\", \"opacity\": 0.2, \"surfaceaxis\": 1, \"surfacecolor\": \"#1565c0\", \"type\": \"scatter3d\", \"x\": [-0.0, 0.333333333333, 0.0, -0.0], \"y\": [3.0, 3.0, 3.0, 3.0], \"z\": [-0.0, 0.0, 1.0, -0.0]}, {\"line\": {\"color\": \"#003c8f\", \"width\": 5}, \"mode\": \"lines\", \"opacity\": 0.2, \"surfaceaxis\": 0, \"surfacecolor\": \"#1565c0\", \"type\": \"scatter3d\", \"x\": [0.0, -0.0, 0.0, 0.0], \"y\": [3.2, 3.0, 3.0, 3.2], \"z\": [0.0, -0.0, 1.0, 0.0]}, {\"line\": {\"color\": \"#003c8f\", \"width\": 5}, \"mode\": \"lines\", \"opacity\": 0.2, \"surfaceaxis\": 2, \"surfacecolor\": \"#1565c0\", \"type\": \"scatter3d\", \"x\": [0.0, 0.333333333333, -0.0, 0.0], \"y\": [3.2, 3.0, 3.0, 3.2], \"z\": [0.0, 0.0, -0.0, 0.0]}, {\"hoverinfo\": \"text\", \"hoverlabel\": {\"align\": \"left\", \"bgcolor\": \"white\", \"bordercolor\": \"#404040\", \"font\": {\"color\": \"#404040\", \"family\": \"Arial\"}}, \"marker\": {\"color\": \"gray\", \"opacity\": 1e-07, \"size\": 20}, \"text\": [\"<b>BFS</b>: (0, 3, 1)<br><b>Obj</b>: 13\", \"<b>BFS</b>: (0, 3.2, 0)<br><b>Obj</b>: 12.8\", \"<b>BFS</b>: (-0, 3, -0)<br><b>Obj</b>: 12\", \"<b>BFS</b>: (0.333, 3, 0)<br><b>Obj</b>: 12.667\"], \"type\": \"scatter3d\", \"x\": [0.0, 0.0, -0.0, 0.333333333333], \"y\": [3.0, 3.2, 3.0, 3.0], \"z\": [1.0, 0.0, -0.0, 0.0]}, {\"line\": {\"color\": \"#002659\", \"width\": 5}, \"mode\": \"lines\", \"opacity\": 0.30000000000000004, \"surfaceaxis\": 2, \"surfacecolor\": \"#003c8f\", \"type\": \"scatter3d\", \"x\": [1.2, 0.0, 0.0, 4.0, 1.2], \"y\": [2.0, 2.0, 0.0, 0.0, 2.0], \"z\": [2.4, 3.0, 6.0, 4.0, 2.4]}, {\"line\": {\"color\": \"#002659\", \"width\": 5}, \"mode\": \"lines\", \"opacity\": 0.30000000000000004, \"surfaceaxis\": 2, \"surfacecolor\": \"#003c8f\", \"type\": \"scatter3d\", \"x\": [1.2, 4.0, 5.333333333333, 2.0, 1.2], \"y\": [2.0, 0.0, 0.0, 2.0, 2.0], \"z\": [2.4, 4.0, 0.0, 0.0, 2.4]}, {\"line\": {\"color\": \"#002659\", \"width\": 5}, \"mode\": \"lines\", \"opacity\": 0.30000000000000004, \"surfaceaxis\": 1, \"surfacecolor\": \"#003c8f\", \"type\": \"scatter3d\", \"x\": [0.0, 0.0, 2.0, 1.2, 0.0], \"y\": [2.0, 2.0, 2.0, 2.0, 2.0], \"z\": [3.0, 0.0, 0.0, 2.4, 3.0]}, {\"line\": {\"color\": \"#002659\", \"width\": 5}, \"mode\": \"lines\", \"opacity\": 0.30000000000000004, \"surfaceaxis\": 0, \"surfacecolor\": \"#003c8f\", \"type\": \"scatter3d\", \"x\": [0.0, 0.0, 0.0, 0.0, 0.0], \"y\": [0.0, 2.0, 2.0, 0.0, 0.0], \"z\": [0.0, 0.0, 3.0, 6.0, 0.0]}, {\"line\": {\"color\": \"#002659\", \"width\": 5}, \"mode\": \"lines\", \"opacity\": 0.30000000000000004, \"surfaceaxis\": 1, \"surfacecolor\": \"#003c8f\", \"type\": \"scatter3d\", \"x\": [0.0, 0.0, 5.333333333333, 4.0, 0.0], \"y\": [0.0, 0.0, 0.0, 0.0, 0.0], \"z\": [6.0, 0.0, 0.0, 4.0, 6.0]}, {\"line\": {\"color\": \"#002659\", \"width\": 5}, \"mode\": \"lines\", \"opacity\": 0.30000000000000004, \"surfaceaxis\": 2, \"surfacecolor\": \"#003c8f\", \"type\": \"scatter3d\", \"x\": [0.0, 0.0, 5.333333333333, 2.0, 0.0], \"y\": [2.0, 0.0, 0.0, 2.0, 2.0], \"z\": [0.0, 0.0, 0.0, 0.0, 0.0]}, {\"hoverinfo\": \"text\", \"hoverlabel\": {\"align\": \"left\", \"bgcolor\": \"white\", \"bordercolor\": \"#404040\", \"font\": {\"color\": \"#404040\", \"family\": \"Arial\"}}, \"marker\": {\"color\": \"gray\", \"opacity\": 1e-07, \"size\": 20}, \"text\": [\"<b>BFS</b>: (0, 0, 0)<br><b>Obj</b>: 0\", \"<b>BFS</b>: (5.333, 0, 0)<br><b>Obj</b>: 10.667\", \"<b>BFS</b>: (0, 2, 0)<br><b>Obj</b>: 8\", \"<b>BFS</b>: (2, 2, 0)<br><b>Obj</b>: 12\", \"<b>BFS</b>: (0, 0, 6)<br><b>Obj</b>: 6\", \"<b>BFS</b>: (4, 0, 4)<br><b>Obj</b>: 12\", \"<b>BFS</b>: (0, 2, 3)<br><b>Obj</b>: 11\", \"<b>BFS</b>: (1.2, 2, 2.4)<br><b>Obj</b>: 12.8\"], \"type\": \"scatter3d\", \"x\": [0.0, 5.333333333333, 0.0, 2.0, 0.0, 4.0, 0.0, 1.2], \"y\": [0.0, 0.0, 2.0, 2.0, 0.0, 0.0, 2.0, 2.0], \"z\": [0.0, 0.0, 0.0, 0.0, 6.0, 4.0, 3.0, 2.4]}, {\"mode\": \"none\", \"name\": \"x<sub>2</sub> \\u2264 2\", \"opacity\": 0.5, \"showlegend\": true, \"surfaceaxis\": 1, \"surfacecolor\": \"gray\", \"type\": \"scatter3d\", \"visible\": \"legendonly\", \"x\": [0.0, 6.9333333333329, 6.9333333333329, 0.0, 0.0], \"y\": [2.0, 2.0, 2.0, 2.0, 2.0], \"z\": [7.800000000000001, 7.800000000000001, 0.0, 0.0, 7.800000000000001]}, {\"mode\": \"none\", \"name\": \"x<sub>2</sub> \\u2265 3\", \"opacity\": 0.5, \"showlegend\": true, \"surfaceaxis\": 1, \"surfacecolor\": \"gray\", \"type\": \"scatter3d\", \"visible\": \"legendonly\", \"x\": [0.0, 6.9333333333329, 6.9333333333329, 0.0, 0.0], \"y\": [3.0, 3.0, 3.0, 3.0, 3.0], \"z\": [0.0, 0.0, 7.800000000000001, 7.800000000000001, 0.0]}, {\"type\": \"scatter3d\", \"visible\": true, \"x\": [1.2000000000000002], \"y\": [1.9999999999999996], \"z\": [2.4000000000000004]}, {\"marker\": {\"color\": \"#d50000\", \"symbol\": \"circle\"}, \"type\": \"scatter3d\", \"x\": [1.2000000000000002], \"y\": [1.9999999999999996], \"z\": [2.4000000000000004]}, {\"mode\": \"none\", \"opacity\": 0.3, \"surfaceaxis\": 2, \"surfacecolor\": \"gray\", \"type\": \"scatter3d\", \"visible\": false, \"x\": [6.9333333333329, 6.9333333333329, 0.0, 0.0, 6.9333333333329], \"y\": [0.0, 4.16, 4.16, 0.0, 0.0], \"z\": [-13.8666666666658, -30.5066666666658, -16.64, 0.0, -13.8666666666658]}, {\"line\": {\"color\": \"#d50000\", \"width\": 5}, \"marker\": {\"color\": \"#d50000\", \"size\": 5, \"symbol\": \"circle\"}, \"mode\": \"lines+markers\", \"surfaceaxis\": 2, \"surfacecolor\": \"#d50000\", \"type\": \"scatter3d\", \"visible\": false, \"x\": [0.0], \"y\": [0.0], \"z\": [0.0]}, {\"mode\": \"none\", \"opacity\": 0.3, \"surfaceaxis\": 2, \"surfacecolor\": \"gray\", \"type\": \"scatter3d\", \"visible\": false, \"x\": [0.0, 6.9333333333329, 6.9333333333329, 0.0, 0.0], \"y\": [4.16, 4.16, 0.0, 0.0, 4.16], \"z\": [-15.040000000000001, -28.9066666666658, -12.2666666666658, 1.6, -15.040000000000001]}, {\"line\": {\"color\": \"#d50000\", \"width\": 5}, \"marker\": {\"color\": \"#d50000\", \"size\": 5, \"symbol\": \"circle\"}, \"mode\": \"lines+markers\", \"surfaceaxis\": 2, \"surfacecolor\": \"#d50000\", \"type\": \"scatter3d\", \"visible\": false, \"x\": [0.0, 0.0, 0.8, 0.0], \"y\": [0.4, 0.0, 0.0, 0.4], \"z\": [0.0, 1.6, 0.0, 0.0]}, {\"mode\": \"none\", \"opacity\": 0.3, \"surfaceaxis\": 2, \"surfacecolor\": \"gray\", \"type\": \"scatter3d\", \"visible\": false, \"x\": [6.9333333333329, 0.0, 0.0, 6.9333333333329, 6.9333333333329], \"y\": [4.16, 4.16, 0.0, 0.0, 4.16], \"z\": [-27.316666666665803, -13.450000000000001, 3.19, -10.6766666666658, -27.316666666665803]}, {\"line\": {\"color\": \"#d50000\", \"width\": 5}, \"marker\": {\"color\": \"#d50000\", \"size\": 5, \"symbol\": \"circle\"}, \"mode\": \"lines+markers\", \"surfaceaxis\": 2, \"surfacecolor\": \"#d50000\", \"type\": \"scatter3d\", \"visible\": false, \"x\": [1.595, 0.0, -0.0, 1.595], \"y\": [0.0, 0.7975, -0.0, 0.0], \"z\": [0.0, 0.0, 3.19, 0.0]}, {\"mode\": \"none\", \"opacity\": 0.3, \"surfaceaxis\": 2, \"surfacecolor\": \"gray\", \"type\": \"scatter3d\", \"visible\": false, \"x\": [6.9333333333329, 0.0, 0.0, 6.9333333333329, 6.9333333333329], \"y\": [4.16, 4.16, 0.0, 0.0, 4.16], \"z\": [-25.7166666666658, -11.850000000000001, 4.79, -9.076666666665801, -25.7166666666658]}, {\"line\": {\"color\": \"#d50000\", \"width\": 5}, \"marker\": {\"color\": \"#d50000\", \"size\": 5, \"symbol\": \"circle\"}, \"mode\": \"lines+markers\", \"surfaceaxis\": 2, \"surfacecolor\": \"#d50000\", \"type\": \"scatter3d\", \"visible\": false, \"x\": [0.0, 2.395, 0.0, 0.0], \"y\": [1.1975, 0.0, 0.0, 1.1975], \"z\": [0.0, 0.0, 4.79, 0.0]}, {\"mode\": \"none\", \"opacity\": 0.3, \"surfaceaxis\": 2, \"surfacecolor\": \"gray\", \"type\": \"scatter3d\", \"visible\": false, \"x\": [0.0, 0.0, 6.9333333333329, 6.9333333333329, 0.0], \"y\": [4.16, 0.0, 0.0, 4.16, 4.16], \"z\": [-10.260000000000002, 6.38, -7.4866666666658, -24.126666666665802, -10.260000000000002]}, {\"line\": {\"color\": \"#d50000\", \"width\": 5}, \"marker\": {\"color\": \"#d50000\", \"size\": 5, \"symbol\": \"circle\"}, \"mode\": \"lines+markers\", \"surfaceaxis\": 2, \"surfacecolor\": \"#d50000\", \"type\": \"scatter3d\", \"visible\": false, \"x\": [0.0, 0.253333333333, 3.19, 0.0, 0.0], \"y\": [0.152, -0.0, 0.0, 1.595, 0.152], \"z\": [5.772, 5.873333333333, 0.0, 0.0, 5.772]}, {\"mode\": \"none\", \"opacity\": 0.3, \"surfaceaxis\": 2, \"surfacecolor\": \"gray\", \"type\": \"scatter3d\", \"visible\": false, \"x\": [6.9333333333329, 0.0, 0.0, 6.9333333333329, 6.9333333333329], \"y\": [0.0, 0.0, 4.16, 4.16, 0.0], \"z\": [-5.8866666666658, 7.98, -8.66, -22.5266666666658, -5.8866666666658]}, {\"line\": {\"color\": \"#d50000\", \"width\": 5}, \"marker\": {\"color\": \"#d50000\", \"size\": 5, \"symbol\": \"circle\"}, \"mode\": \"lines+markers\", \"surfaceaxis\": 2, \"surfacecolor\": \"#d50000\", \"type\": \"scatter3d\", \"visible\": false, \"x\": [0.0, 0.0, 1.32, 3.99, 0.0], \"y\": [1.995, 0.792, 0.0, 0.0, 1.995], \"z\": [0.0, 4.812, 5.34, 0.0, 0.0]}, {\"mode\": \"none\", \"opacity\": 0.3, \"surfaceaxis\": 2, \"surfacecolor\": \"gray\", \"type\": \"scatter3d\", \"visible\": false, \"x\": [0.0, 6.9333333333329, 6.9333333333329, 0.0, 0.0], \"y\": [4.16, 4.16, 0.0, 0.0, 4.16], \"z\": [-7.0600000000000005, -20.926666666665803, -4.2866666666658, 9.58, -7.0600000000000005]}, {\"line\": {\"color\": \"#d50000\", \"width\": 5}, \"marker\": {\"color\": \"#d50000\", \"size\": 5, \"symbol\": \"circle\"}, \"mode\": \"lines+markers\", \"surfaceaxis\": 2, \"surfacecolor\": \"#d50000\", \"type\": \"scatter3d\", \"visible\": false, \"x\": [0.79, 0.0, -0.0, 2.386666666667, 4.79, 0.79], \"y\": [2.0, 2.0, 1.432, 0.0, 0.0, 2.0], \"z\": [0.0, 1.58, 3.852, 4.806666666667, 0.0, 0.0]}, {\"mode\": \"none\", \"opacity\": 0.3, \"surfaceaxis\": 2, \"surfacecolor\": \"gray\", \"type\": \"scatter3d\", \"visible\": false, \"x\": [6.9333333333329, 0.0, 0.0, 6.9333333333329, 6.9333333333329], \"y\": [4.16, 4.16, 0.0, 0.0, 4.16], \"z\": [-19.3366666666658, -5.470000000000001, 11.17, -2.6966666666658003, -19.3366666666658]}, {\"line\": {\"color\": \"#d50000\", \"width\": 5}, \"marker\": {\"color\": \"#d50000\", \"size\": 5, \"symbol\": \"circle\"}, \"mode\": \"lines+markers\", \"surfaceaxis\": 2, \"surfacecolor\": \"#d50000\", \"type\": \"scatter3d\", \"visible\": false, \"x\": [4.83, 4.075, 1.585, 0.113333333333, 3.446666666667, 4.83], \"y\": [0.0, 0.755, 2.0, 2.0, -0.0, 0.0], \"z\": [1.51, 0.0, 0.0, 2.943333333333, 4.276666666667, 1.51]}, {\"mode\": \"none\", \"opacity\": 0.3, \"surfaceaxis\": 2, \"surfacecolor\": \"gray\", \"type\": \"scatter3d\", \"visible\": false, \"x\": [6.9333333333329, 6.9333333333329, 0.0, 0.0, 6.9333333333329], \"y\": [4.16, 0.0, 0.0, 4.16, 4.16], \"z\": [-17.7366666666658, -1.0966666666658007, 12.77, -3.870000000000001, -17.7366666666658]}, {\"line\": {\"color\": \"#d50000\", \"width\": 5}, \"marker\": {\"color\": \"#d50000\", \"size\": 5, \"symbol\": \"circle\"}, \"mode\": \"lines+markers\", \"surfaceaxis\": 2, \"surfacecolor\": \"#d50000\", \"type\": \"scatter3d\", \"visible\": false, \"x\": [1.23, 1.18, 1.305, 1.23], \"y\": [2.0, 2.0, 1.925, 2.0], \"z\": [2.31, 2.41, 2.46, 2.31]}, {\"mode\": \"none\", \"opacity\": 0.3, \"surfaceaxis\": 2, \"surfacecolor\": \"gray\", \"type\": \"scatter3d\", \"visible\": false, \"x\": [6.9333333333329, 6.9333333333329, 0.0, 0.0, 6.9333333333329], \"y\": [4.16, 0.0, 0.0, 4.16, 4.16], \"z\": [-17.7066666666658, -1.0666666666657996, 12.8, -3.84, -17.7066666666658]}, {\"line\": {\"color\": \"#d50000\", \"width\": 5}, \"marker\": {\"color\": \"#d50000\", \"size\": 5, \"symbol\": \"circle\"}, \"mode\": \"lines+markers\", \"surfaceaxis\": 2, \"surfacecolor\": \"#d50000\", \"type\": \"scatter3d\", \"visible\": false, \"x\": [1.2], \"y\": [2.0], \"z\": [2.4]}, {\"mode\": \"none\", \"opacity\": 0.3, \"surfaceaxis\": 2, \"surfacecolor\": \"gray\", \"type\": \"scatter3d\", \"visible\": false, \"x\": [0.0, 0.0, 6.9333333333329, 6.9333333333329, 0.0], \"y\": [0.0, 4.16, 4.16, 0.0, 0.0], \"z\": [14.36, -2.280000000000001, -16.1466666666658, 0.49333333333419915, 14.36]}, {\"mode\": \"none\", \"opacity\": 0.3, \"surfaceaxis\": 2, \"surfacecolor\": \"gray\", \"type\": \"scatter3d\", \"visible\": false, \"x\": [0.0, 6.9333333333329, 6.9333333333329, 0.0, 0.0], \"y\": [4.16, 4.16, 0.0, 0.0, 4.16], \"z\": [-0.6799999999999997, -14.5466666666658, 2.0933333333342006, 15.96, -0.6799999999999997]}, {\"mode\": \"none\", \"opacity\": 0.3, \"surfaceaxis\": 2, \"surfacecolor\": \"gray\", \"type\": \"scatter3d\", \"visible\": false, \"x\": [6.9333333333329, 6.9333333333329, 0.0, 0.0, 6.9333333333329], \"y\": [0.0, 4.16, 4.16, 0.0, 0.0], \"z\": [3.6933333333341984, -12.946666666665802, 0.9199999999999982, 17.56, 3.6933333333341984]}, {\"mode\": \"none\", \"opacity\": 0.3, \"surfaceaxis\": 2, \"surfacecolor\": \"gray\", \"type\": \"scatter3d\", \"visible\": false, \"x\": [6.9333333333329, 0.0, 0.0, 6.9333333333329, 6.9333333333329], \"y\": [0.0, 0.0, 4.16, 4.16, 0.0], \"z\": [5.283333333334198, 19.15, 2.509999999999998, -11.356666666665802, 5.283333333334198]}, {\"mode\": \"none\", \"opacity\": 0.3, \"surfaceaxis\": 2, \"surfacecolor\": \"gray\", \"type\": \"scatter3d\", \"visible\": false, \"x\": [6.9333333333329, 6.9333333333329, 0.0, 0.0, 6.9333333333329], \"y\": [4.16, 0.0, 0.0, 4.16, 4.16], \"z\": [-9.7566666666658, 6.8833333333342, 20.75, 4.109999999999999, -9.7566666666658]}, {\"mode\": \"none\", \"opacity\": 0.3, \"surfaceaxis\": 2, \"surfacecolor\": \"gray\", \"type\": \"scatter3d\", \"visible\": false, \"x\": [0.0, 6.9333333333329, 6.9333333333329, 0.0, 0.0], \"y\": [0.0, 0.0, 4.16, 4.16, 0.0], \"z\": [22.35, 8.483333333334201, -8.1566666666658, 5.710000000000001, 22.35]}, {\"mode\": \"none\", \"opacity\": 0.3, \"surfaceaxis\": 2, \"surfacecolor\": \"gray\", \"type\": \"scatter3d\", \"visible\": false, \"x\": [6.9333333333329, 6.9333333333329, 0.0, 0.0, 6.9333333333329], \"y\": [0.0, 4.16, 4.16, 0.0, 0.0], \"z\": [10.073333333334201, -6.5666666666658, 7.300000000000001, 23.94, 10.073333333334201]}, {\"mode\": \"none\", \"opacity\": 0.3, \"surfaceaxis\": 2, \"surfacecolor\": \"gray\", \"type\": \"scatter3d\", \"visible\": false, \"x\": [6.9333333333329, 6.9333333333329, 0.0, 0.0, 6.9333333333329], \"y\": [0.0, 4.16, 4.16, 0.0, 0.0], \"z\": [11.673333333334199, -4.966666666665802, 8.899999999999999, 25.54, 11.673333333334199]}, {\"mode\": \"none\", \"opacity\": 0.3, \"surfaceaxis\": 2, \"surfacecolor\": \"gray\", \"type\": \"scatter3d\", \"visible\": false, \"x\": [0.0, 0.0, 6.9333333333329, 6.9333333333329, 0.0], \"y\": [0.0, 4.16, 4.16, 0.0, 0.0], \"z\": [27.13, 10.489999999999998, -3.376666666665802, 13.263333333334199, 27.13]}, {\"mode\": \"none\", \"opacity\": 0.3, \"surfaceaxis\": 2, \"surfacecolor\": \"gray\", \"type\": \"scatter3d\", \"visible\": false, \"x\": [6.9333333333329, 6.9333333333329, 0.0, 0.0, 6.9333333333329], \"y\": [0.0, 4.16, 4.16, 0.0, 0.0], \"z\": [14.8633333333342, -1.7766666666658004, 12.09, 28.73, 14.8633333333342]}, {\"mode\": \"none\", \"opacity\": 0.3, \"surfaceaxis\": 2, \"surfacecolor\": \"gray\", \"type\": \"scatter3d\", \"visible\": false, \"x\": [0.0, 6.9333333333329, 6.9333333333329, 0.0, 0.0], \"y\": [0.0, 0.0, 4.16, 4.16, 0.0], \"z\": [30.33, 16.463333333334198, -0.17666666666580255, 13.689999999999998, 30.33]}, {\"mode\": \"none\", \"opacity\": 0.3, \"surfaceaxis\": 2, \"surfacecolor\": \"gray\", \"type\": \"scatter3d\", \"visible\": false, \"x\": [6.9333333333329, 6.9333333333329, 0.0, 0.0, 6.9333333333329], \"y\": [0.0, 4.16, 4.16, 0.0, 0.0], \"z\": [18.0533333333342, 1.4133333333342009, 15.280000000000001, 31.92, 18.0533333333342]}, {\"mode\": \"none\", \"opacity\": 0.3, \"surfaceaxis\": 2, \"surfacecolor\": \"gray\", \"type\": \"scatter3d\", \"visible\": false, \"x\": [6.9333333333329, 6.9333333333329, 0.0, 0.0, 6.9333333333329], \"y\": [0.0, 4.16, 4.16, 0.0, 0.0], \"z\": [19.653333333334203, 3.0133333333342023, 16.880000000000003, 33.52, 19.653333333334203]}, {\"mode\": \"none\", \"opacity\": 0.3, \"surfaceaxis\": 2, \"surfacecolor\": \"gray\", \"type\": \"scatter3d\", \"visible\": false, \"x\": [0.0, 6.9333333333329, 6.9333333333329, 0.0, 0.0], \"y\": [4.16, 4.16, 0.0, 0.0, 4.16], \"z\": [18.47, 4.603333333334199, 21.2433333333342, 35.11, 18.47]}, {\"mode\": \"none\", \"opacity\": 0.3, \"surfaceaxis\": 2, \"surfacecolor\": \"gray\", \"type\": \"scatter3d\", \"visible\": false, \"x\": [6.9333333333329, 0.0, 0.0, 6.9333333333329, 6.9333333333329], \"y\": [4.16, 4.16, 0.0, 0.0, 4.16], \"z\": [6.2033333333342, 20.07, 36.71, 22.8433333333342, 6.2033333333342]}, {\"mode\": \"none\", \"opacity\": 0.3, \"surfaceaxis\": 2, \"surfacecolor\": \"gray\", \"type\": \"scatter3d\", \"visible\": false, \"x\": [6.9333333333329, 0.0, 0.0, 6.9333333333329, 6.9333333333329], \"y\": [0.0, 0.0, 4.16, 4.16, 0.0], \"z\": [24.443333333334202, 38.31, 21.67, 7.803333333334201, 24.443333333334202]}],                        {\"annotations\": [{\"templateitemname\": \"explored\", \"text\": \"<br>13.143<br>x* = (0, 2.857, 1.714)\", \"visible\": true, \"x\": 0.5, \"xref\": \"x\", \"y\": 0.9, \"yref\": \"y\"}, {\"templateitemname\": \"current\", \"text\": \"x<sub>2</sub> \\u2264 2<br>12.8<br>x* = (1.2, 2, 2.4)\", \"visible\": true, \"x\": 0.25, \"xref\": \"x\", \"y\": 0.29999999999999993, \"yref\": \"y\"}, {\"templateitemname\": \"unexplored\", \"text\": \"x<sub>2</sub> \\u2265 3\", \"visible\": true, \"x\": 0.75, \"xref\": \"x\", \"y\": 0.29999999999999993, \"yref\": \"y\"}], \"scene\": {\"domain\": {\"x\": [0.0, 0.39473684210526316], \"y\": [0.0, 1.0]}, \"xaxis\": {\"range\": [0, 6.9333333333329]}, \"yaxis\": {\"range\": [0, 4.16]}, \"zaxis\": {\"range\": [0, 7.800000000000001]}}, \"sliders\": [{\"active\": 0, \"currentvalue\": {\"prefix\": \"Objective Value: \"}, \"len\": 0.39473684210526316, \"lenmode\": \"fraction\", \"steps\": [{\"args\": [{\"visible\": [false, null, null, null, null, null, null, null, null, null, null, null, null, null, null, null, null, null, null, null, \"legendonly\", \"legendonly\", true, null, true, true, false, false, false, false, false, false, false, false, false, false, false, false, false, false, false, false, false, false, false, false, false, false, false, false, false, false, false, false, false, false, false, false, false, false]}], \"label\": \"0.0\", \"method\": \"update\"}, {\"args\": [{\"visible\": [false, null, null, null, null, null, null, null, null, null, null, null, null, null, null, null, null, null, null, null, \"legendonly\", \"legendonly\", true, null, false, false, true, true, false, false, false, false, false, false, false, false, false, false, false, false, false, false, false, false, false, false, false, false, false, false, false, false, false, false, false, false, false, false, false, false]}], \"label\": \"1.6\", \"method\": \"update\"}, {\"args\": [{\"visible\": [false, null, null, null, null, null, null, null, null, null, null, null, null, null, null, null, null, null, null, null, \"legendonly\", \"legendonly\", true, null, false, false, false, false, true, true, false, false, false, false, false, false, false, false, false, false, false, false, false, false, false, false, false, false, false, false, false, false, false, false, false, false, false, false, false, false]}], \"label\": \"3.19\", \"method\": \"update\"}, {\"args\": [{\"visible\": [false, null, null, null, null, null, null, null, null, null, null, null, null, null, null, null, null, null, null, null, \"legendonly\", \"legendonly\", true, null, false, false, false, false, false, false, true, true, false, false, false, false, false, false, false, false, false, false, false, false, false, false, false, false, false, false, false, false, false, false, false, false, false, false, false, false]}], \"label\": \"4.79\", \"method\": \"update\"}, {\"args\": [{\"visible\": [false, null, null, null, null, null, null, null, null, null, null, null, null, null, null, null, null, null, null, null, \"legendonly\", \"legendonly\", true, null, false, false, false, false, false, false, false, false, true, true, false, false, false, false, false, false, false, false, false, false, false, false, false, false, false, false, false, false, false, false, false, false, false, false, false, false]}], \"label\": \"6.38\", \"method\": \"update\"}, {\"args\": [{\"visible\": [false, null, null, null, null, null, null, null, null, null, null, null, null, null, null, null, null, null, null, null, \"legendonly\", \"legendonly\", true, null, false, false, false, false, false, false, false, false, false, false, true, true, false, false, false, false, false, false, false, false, false, false, false, false, false, false, false, false, false, false, false, false, false, false, false, false]}], \"label\": \"7.98\", \"method\": \"update\"}, {\"args\": [{\"visible\": [false, null, null, null, null, null, null, null, null, null, null, null, null, null, null, null, null, null, null, null, \"legendonly\", \"legendonly\", true, null, false, false, false, false, false, false, false, false, false, false, false, false, true, true, false, false, false, false, false, false, false, false, false, false, false, false, false, false, false, false, false, false, false, false, false, false]}], \"label\": \"9.58\", \"method\": \"update\"}, {\"args\": [{\"visible\": [false, null, null, null, null, null, null, null, null, null, null, null, null, null, null, null, null, null, null, null, \"legendonly\", \"legendonly\", true, null, false, false, false, false, false, false, false, false, false, false, false, false, false, false, true, true, false, false, false, false, false, false, false, false, false, false, false, false, false, false, false, false, false, false, false, false]}], \"label\": \"11.17\", \"method\": \"update\"}, {\"args\": [{\"visible\": [false, null, null, null, null, null, null, null, null, null, null, null, null, null, null, null, null, null, null, null, \"legendonly\", \"legendonly\", true, null, false, false, false, false, false, false, false, false, false, false, false, false, false, false, false, false, true, true, false, false, false, false, false, false, false, false, false, false, false, false, false, false, false, false, false, false]}], \"label\": \"12.77\", \"method\": \"update\"}, {\"args\": [{\"visible\": [false, null, null, null, null, null, null, null, null, null, null, null, null, null, null, null, null, null, null, null, \"legendonly\", \"legendonly\", true, null, false, false, false, false, false, false, false, false, false, false, false, false, false, false, false, false, false, false, true, true, false, false, false, false, false, false, false, false, false, false, false, false, false, false, false, false]}], \"label\": \"12.8\", \"method\": \"update\"}, {\"args\": [{\"visible\": [false, null, null, null, null, null, null, null, null, null, null, null, null, null, null, null, null, null, null, null, \"legendonly\", \"legendonly\", true, null, false, false, false, false, false, false, false, false, false, false, false, false, false, false, false, false, false, false, false, false, true, false, false, false, false, false, false, false, false, false, false, false, false, false, false, false]}], \"label\": \"14.36\", \"method\": \"update\"}, {\"args\": [{\"visible\": [false, null, null, null, null, null, null, null, null, null, null, null, null, null, null, null, null, null, null, null, \"legendonly\", \"legendonly\", true, null, false, false, false, false, false, false, false, false, false, false, false, false, false, false, false, false, false, false, false, false, false, true, false, false, false, false, false, false, false, false, false, false, false, false, false, false]}], \"label\": \"15.96\", \"method\": \"update\"}, {\"args\": [{\"visible\": [false, null, null, null, null, null, null, null, null, null, null, null, null, null, null, null, null, null, null, null, \"legendonly\", \"legendonly\", true, null, false, false, false, false, false, false, false, false, false, false, false, false, false, false, false, false, false, false, false, false, false, false, true, false, false, false, false, false, false, false, false, false, false, false, false, false]}], \"label\": \"17.56\", \"method\": \"update\"}, {\"args\": [{\"visible\": [false, null, null, null, null, null, null, null, null, null, null, null, null, null, null, null, null, null, null, null, \"legendonly\", \"legendonly\", true, null, false, false, false, false, false, false, false, false, false, false, false, false, false, false, false, false, false, false, false, false, false, false, false, true, false, false, false, false, false, false, false, false, false, false, false, false]}], \"label\": \"19.15\", \"method\": \"update\"}, {\"args\": [{\"visible\": [false, null, null, null, null, null, null, null, null, null, null, null, null, null, null, null, null, null, null, null, \"legendonly\", \"legendonly\", true, null, false, false, false, false, false, false, false, false, false, false, false, false, false, false, false, false, false, false, false, false, false, false, false, false, true, false, false, false, false, false, false, false, false, false, false, false]}], \"label\": \"20.75\", \"method\": \"update\"}, {\"args\": [{\"visible\": [false, null, null, null, null, null, null, null, null, null, null, null, null, null, null, null, null, null, null, null, \"legendonly\", \"legendonly\", true, null, false, false, false, false, false, false, false, false, false, false, false, false, false, false, false, false, false, false, false, false, false, false, false, false, false, true, false, false, false, false, false, false, false, false, false, false]}], \"label\": \"22.35\", \"method\": \"update\"}, {\"args\": [{\"visible\": [false, null, null, null, null, null, null, null, null, null, null, null, null, null, null, null, null, null, null, null, \"legendonly\", \"legendonly\", true, null, false, false, false, false, false, false, false, false, false, false, false, false, false, false, false, false, false, false, false, false, false, false, false, false, false, false, true, false, false, false, false, false, false, false, false, false]}], \"label\": \"23.94\", \"method\": \"update\"}, {\"args\": [{\"visible\": [false, null, null, null, null, null, null, null, null, null, null, null, null, null, null, null, null, null, null, null, \"legendonly\", \"legendonly\", true, null, false, false, false, false, false, false, false, false, false, false, false, false, false, false, false, false, false, false, false, false, false, false, false, false, false, false, false, true, false, false, false, false, false, false, false, false]}], \"label\": \"25.54\", \"method\": \"update\"}, {\"args\": [{\"visible\": [false, null, null, null, null, null, null, null, null, null, null, null, null, null, null, null, null, null, null, null, \"legendonly\", \"legendonly\", true, null, false, false, false, false, false, false, false, false, false, false, false, false, false, false, false, false, false, false, false, false, false, false, false, false, false, false, false, false, true, false, false, false, false, false, false, false]}], \"label\": \"27.13\", \"method\": \"update\"}, {\"args\": [{\"visible\": [false, null, null, null, null, null, null, null, null, null, null, null, null, null, null, null, null, null, null, null, \"legendonly\", \"legendonly\", true, null, false, false, false, false, false, false, false, false, false, false, false, false, false, false, false, false, false, false, false, false, false, false, false, false, false, false, false, false, false, true, false, false, false, false, false, false]}], \"label\": \"28.73\", \"method\": \"update\"}, {\"args\": [{\"visible\": [false, null, null, null, null, null, null, null, null, null, null, null, null, null, null, null, null, null, null, null, \"legendonly\", \"legendonly\", true, null, false, false, false, false, false, false, false, false, false, false, false, false, false, false, false, false, false, false, false, false, false, false, false, false, false, false, false, false, false, false, true, false, false, false, false, false]}], \"label\": \"30.33\", \"method\": \"update\"}, {\"args\": [{\"visible\": [false, null, null, null, null, null, null, null, null, null, null, null, null, null, null, null, null, null, null, null, \"legendonly\", \"legendonly\", true, null, false, false, false, false, false, false, false, false, false, false, false, false, false, false, false, false, false, false, false, false, false, false, false, false, false, false, false, false, false, false, false, true, false, false, false, false]}], \"label\": \"31.92\", \"method\": \"update\"}, {\"args\": [{\"visible\": [false, null, null, null, null, null, null, null, null, null, null, null, null, null, null, null, null, null, null, null, \"legendonly\", \"legendonly\", true, null, false, false, false, false, false, false, false, false, false, false, false, false, false, false, false, false, false, false, false, false, false, false, false, false, false, false, false, false, false, false, false, false, true, false, false, false]}], \"label\": \"33.52\", \"method\": \"update\"}, {\"args\": [{\"visible\": [false, null, null, null, null, null, null, null, null, null, null, null, null, null, null, null, null, null, null, null, \"legendonly\", \"legendonly\", true, null, false, false, false, false, false, false, false, false, false, false, false, false, false, false, false, false, false, false, false, false, false, false, false, false, false, false, false, false, false, false, false, false, false, true, false, false]}], \"label\": \"35.11\", \"method\": \"update\"}, {\"args\": [{\"visible\": [false, null, null, null, null, null, null, null, null, null, null, null, null, null, null, null, null, null, null, null, \"legendonly\", \"legendonly\", true, null, false, false, false, false, false, false, false, false, false, false, false, false, false, false, false, false, false, false, false, false, false, false, false, false, false, false, false, false, false, false, false, false, false, false, true, false]}], \"label\": \"36.71\", \"method\": \"update\"}], \"tickcolor\": \"white\", \"ticklen\": 0, \"x\": 0.6052631578947368, \"xanchor\": \"left\", \"y\": 0.01, \"yanchor\": \"bottom\"}], \"template\": {\"data\": {\"scatter\": [{\"fillcolor\": \"#1565c0\", \"hoverinfo\": \"none\", \"line\": {\"color\": \"#173D90\", \"width\": 4}, \"marker\": {\"color\": \"white\", \"line\": {\"color\": \"#d50000\", \"width\": 2}, \"opacity\": 0.99, \"size\": 9}, \"mode\": \"markers\", \"showlegend\": false, \"type\": \"scatter\", \"visible\": true}, {\"fillcolor\": \"#1565c0\", \"hoverinfo\": \"none\", \"line\": {\"color\": \"#1469FE\", \"width\": 4}, \"marker\": {\"color\": \"white\", \"line\": {\"color\": \"#d50000\", \"width\": 2}, \"opacity\": 0.99, \"size\": 9}, \"mode\": \"markers\", \"showlegend\": false, \"type\": \"scatter\", \"visible\": true}, {\"fillcolor\": \"#1565c0\", \"hoverinfo\": \"none\", \"line\": {\"color\": \"#65ADFF\", \"width\": 4}, \"marker\": {\"color\": \"white\", \"line\": {\"color\": \"#d50000\", \"width\": 2}, \"opacity\": 0.99, \"size\": 9}, \"mode\": \"markers\", \"showlegend\": false, \"type\": \"scatter\", \"visible\": true}, {\"fillcolor\": \"#1565c0\", \"hoverinfo\": \"none\", \"line\": {\"color\": \"#474849\", \"width\": 4}, \"marker\": {\"color\": \"white\", \"line\": {\"color\": \"#d50000\", \"width\": 2}, \"opacity\": 0.99, \"size\": 9}, \"mode\": \"markers\", \"showlegend\": false, \"type\": \"scatter\", \"visible\": true}, {\"fillcolor\": \"#1565c0\", \"hoverinfo\": \"none\", \"line\": {\"color\": \"#A90C0C\", \"width\": 4}, \"marker\": {\"color\": \"white\", \"line\": {\"color\": \"#d50000\", \"width\": 2}, \"opacity\": 0.99, \"size\": 9}, \"mode\": \"markers\", \"showlegend\": false, \"type\": \"scatter\", \"visible\": true}, {\"fillcolor\": \"#1565c0\", \"hoverinfo\": \"none\", \"line\": {\"color\": \"#DC0000\", \"width\": 4}, \"marker\": {\"color\": \"white\", \"line\": {\"color\": \"#d50000\", \"width\": 2}, \"opacity\": 0.99, \"size\": 9}, \"mode\": \"markers\", \"showlegend\": false, \"type\": \"scatter\", \"visible\": true}], \"scatter3d\": [{\"hoverinfo\": \"none\", \"line\": {\"color\": \"#1565c0\", \"width\": 6}, \"marker\": {\"color\": \"#ff5131\", \"line\": {\"color\": \"#d50000\", \"width\": 1}, \"opacity\": 0.99, \"size\": 5, \"symbol\": \"circle-open\"}, \"mode\": \"markers\", \"showlegend\": false, \"surfacecolor\": \"#5e92f3\", \"type\": \"scatter3d\", \"visible\": true}], \"table\": [{\"cells\": {\"fill\": {\"color\": \"white\"}, \"font\": {\"color\": [[\"black\", \"#d50000\", \"black\"], [\"black\", \"black\", \"black\"]]}}, \"header\": {\"fill\": {\"color\": \"white\"}, \"font\": {\"color\": [\"#d50000\", \"black\"]}}, \"type\": \"table\", \"visible\": false}]}, \"layout\": {\"annotations\": [{\"align\": \"center\", \"ax\": 0, \"ay\": 0, \"bgcolor\": \"#45568B\", \"bordercolor\": \"#404040\", \"borderpad\": 3, \"borderwidth\": 2, \"font\": {\"color\": \"white\", \"size\": 12}, \"name\": \"current\", \"visible\": false}, {\"align\": \"center\", \"ax\": 0, \"ay\": 0, \"bgcolor\": \"#D8E4F9\", \"bordercolor\": \"#404040\", \"borderpad\": 3, \"borderwidth\": 2, \"font\": {\"color\": \"#404040\", \"size\": 12}, \"name\": \"explored\", \"visible\": false}, {\"align\": \"center\", \"ax\": 0, \"ay\": 0, \"bgcolor\": \"white\", \"bordercolor\": \"#404040\", \"borderpad\": 3, \"borderwidth\": 2, \"font\": {\"color\": \"#404040\", \"size\": 12}, \"name\": \"unexplored\", \"visible\": false}], \"clickmode\": \"none\", \"dragmode\": \"turntable\", \"font\": {\"color\": \"#404040\", \"family\": \"Arial\"}, \"height\": 500, \"hovermode\": \"closest\", \"legend\": {\"font\": {\"size\": 13}, \"title\": {\"font\": {\"size\": 14}, \"text\": \"<b>Constraint(s)</b>\"}, \"x\": 0.39473684210526316, \"xanchor\": \"left\", \"y\": 1, \"yanchor\": \"top\"}, \"margin\": {\"b\": 0, \"l\": 0, \"r\": 0, \"t\": 33}, \"paper_bgcolor\": \"white\", \"plot_bgcolor\": \"white\", \"scene\": {\"aspectmode\": \"cube\", \"domain\": {\"x\": [0, 0.39473684210526316], \"y\": [0, 1]}, \"xaxis\": {\"backgroundcolor\": \"white\", \"gridcolor\": \"#DFDFDF\", \"gridwidth\": 2, \"linecolor\": \"#404040\", \"rangemode\": \"tozero\", \"showbackground\": true, \"showspikes\": false, \"ticks\": \"\", \"title\": {\"text\": \"x<sub>1</sub>\"}, \"zerolinecolor\": \"white\"}, \"yaxis\": {\"backgroundcolor\": \"white\", \"gridcolor\": \"#DFDFDF\", \"gridwidth\": 2, \"linecolor\": \"#404040\", \"rangemode\": \"tozero\", \"showbackground\": true, \"showspikes\": false, \"ticks\": \"\", \"title\": {\"text\": \"x<sub>2</sub>\"}, \"zerolinecolor\": \"white\"}, \"zaxis\": {\"backgroundcolor\": \"white\", \"gridcolor\": \"#DFDFDF\", \"gridwidth\": 2, \"linecolor\": \"#404040\", \"rangemode\": \"tozero\", \"showbackground\": true, \"showspikes\": false, \"ticks\": \"\", \"title\": {\"text\": \"x<sub>3</sub>\"}, \"zerolinecolor\": \"white\"}}, \"title\": {\"font\": {\"color\": \"#404040\", \"size\": 18}, \"text\": \"<b>Geometric Interpretation of LPs</b>\", \"x\": 0, \"xanchor\": \"left\", \"y\": 0.99, \"yanchor\": \"top\"}, \"width\": 950}}, \"xaxis\": {\"domain\": [0.5, 1], \"range\": [0, 1], \"visible\": false}, \"yaxis\": {\"domain\": [0.15, 1], \"range\": [0, 1], \"visible\": false}},                        {\"doubleClick\": false, \"displayModeBar\": false, \"editable\": false, \"responsive\": false, \"showAxisDragHandles\": false, \"showAxisRangeEntryBoxes\": false}                    ).then(function(){\n",
              "                            \n",
              "var gd = document.getElementById('60f2ad2e-bcb8-4c05-8f10-9bb4c5cc5895');\n",
              "var x = new MutationObserver(function (mutations, observer) {{\n",
              "        var display = window.getComputedStyle(gd).display;\n",
              "        if (!display || display === 'none') {{\n",
              "            console.log([gd, 'removed!']);\n",
              "            Plotly.purge(gd);\n",
              "            observer.disconnect();\n",
              "        }}\n",
              "}});\n",
              "\n",
              "// Listen for the removal of the full notebook cells\n",
              "var notebookContainer = gd.closest('#notebook-container');\n",
              "if (notebookContainer) {{\n",
              "    x.observe(notebookContainer, {childList: true});\n",
              "}}\n",
              "\n",
              "// Listen for the clearing of the current output cell\n",
              "var outputEl = gd.closest('.output');\n",
              "if (outputEl) {{\n",
              "    x.observe(outputEl, {childList: true});\n",
              "}}\n",
              "\n",
              "                        })                };                            </script>        </div>\n",
              "</body>\n",
              "</html>"
            ]
          },
          "metadata": {
            "tags": []
          }
        },
        {
          "output_type": "display_data",
          "data": {
            "text/html": [
              "<html>\n",
              "<head><meta charset=\"utf-8\" /></head>\n",
              "<body>\n",
              "    <div>            <script src=\"https://cdnjs.cloudflare.com/ajax/libs/mathjax/2.7.5/MathJax.js?config=TeX-AMS-MML_SVG\"></script><script type=\"text/javascript\">if (window.MathJax) {MathJax.Hub.Config({SVG: {font: \"STIX-Web\"}});}</script>                <script type=\"text/javascript\">window.PlotlyConfig = {MathJaxConfig: 'local'};</script>\n",
              "        <script src=\"https://cdn.plot.ly/plotly-latest.min.js\"></script>                <div id=\"d38f58da-1c5f-4f55-8597-b4f7ab75d145\" class=\"plotly-graph-div\" style=\"height:500px; width:950px;\"></div>            <script type=\"text/javascript\">                                    window.PLOTLYENV=window.PLOTLYENV || {};                                    if (document.getElementById(\"d38f58da-1c5f-4f55-8597-b4f7ab75d145\")) {                    Plotly.newPlot(                        \"d38f58da-1c5f-4f55-8597-b4f7ab75d145\",                        [{\"type\": \"scatter3d\", \"visible\": false, \"x\": [6.9333333333329], \"y\": [4.16], \"z\": [7.800000000000001]}, {\"hoverinfo\": \"none\", \"line\": {\"color\": \"black\", \"width\": 1}, \"mode\": \"lines\", \"showlegend\": false, \"type\": \"scatter\", \"x\": [0.5, 0.25, null, 0.5, 0.75, null, 0.25, 0.125, null, 0.25, 0.375, null], \"xaxis\": \"x\", \"y\": [0.9, 0.5, null, 0.9, 0.5, null, 0.5, 0.19999999999999996, null, 0.5, 0.19999999999999996, null], \"yaxis\": \"y\"}, {\"line\": {\"color\": \"#404040\", \"width\": 5}, \"mode\": \"lines\", \"opacity\": 0.1, \"surfaceaxis\": 2, \"surfacecolor\": \"white\", \"type\": \"scatter3d\", \"x\": [0.0, 0.0, 4.0, 0.0], \"y\": [-0.0, 2.857142857143, 0.0, -0.0], \"z\": [6.0, 1.714285714286, 4.0, 6.0]}, {\"line\": {\"color\": \"#404040\", \"width\": 5}, \"mode\": \"lines\", \"opacity\": 0.1, \"surfaceaxis\": 2, \"surfacecolor\": \"white\", \"type\": \"scatter3d\", \"x\": [0.0, 0.0, 4.0, 5.333333333333, 0.0], \"y\": [3.2, 2.857142857143, 0.0, 0.0, 3.2], \"z\": [0.0, 1.714285714286, 4.0, 0.0, 0.0]}, {\"line\": {\"color\": \"#404040\", \"width\": 5}, \"mode\": \"lines\", \"opacity\": 0.1, \"surfaceaxis\": 0, \"surfacecolor\": \"white\", \"type\": \"scatter3d\", \"x\": [0.0, 0.0, 0.0, 0.0, 0.0], \"y\": [0.0, -0.0, 2.857142857143, 3.2, 0.0], \"z\": [0.0, 6.0, 1.714285714286, 0.0, 0.0]}, {\"line\": {\"color\": \"#404040\", \"width\": 5}, \"mode\": \"lines\", \"opacity\": 0.1, \"surfaceaxis\": 1, \"surfacecolor\": \"white\", \"type\": \"scatter3d\", \"x\": [0.0, 0.0, 5.333333333333, 4.0, 0.0], \"y\": [-0.0, 0.0, 0.0, 0.0, -0.0], \"z\": [6.0, 0.0, 0.0, 4.0, 6.0]}, {\"line\": {\"color\": \"#404040\", \"width\": 5}, \"mode\": \"lines\", \"opacity\": 0.1, \"surfaceaxis\": 2, \"surfacecolor\": \"white\", \"type\": \"scatter3d\", \"x\": [0.0, 0.0, 5.333333333333, 0.0], \"y\": [3.2, 0.0, 0.0, 3.2], \"z\": [0.0, 0.0, 0.0, 0.0]}, {\"hoverinfo\": \"text\", \"hoverlabel\": {\"align\": \"left\", \"bgcolor\": \"white\", \"bordercolor\": \"#404040\", \"font\": {\"color\": \"#404040\", \"family\": \"Arial\"}}, \"marker\": {\"color\": \"gray\", \"opacity\": 1e-07, \"size\": 20}, \"text\": [\"<b>BFS</b>: (0, 3.2, 0)<br><b>Obj</b>: 12.8\", \"<b>BFS</b>: (0, 0, 0)<br><b>Obj</b>: 0\", \"<b>BFS</b>: (5.333, 0, 0)<br><b>Obj</b>: 10.667\", \"<b>BFS</b>: (0, 2.857, 1.714)<br><b>Obj</b>: 13.143\", \"<b>BFS</b>: (0, -0, 6)<br><b>Obj</b>: 6\", \"<b>BFS</b>: (4, 0, 4)<br><b>Obj</b>: 12\"], \"type\": \"scatter3d\", \"x\": [0.0, 0.0, 5.333333333333, 0.0, 0.0, 4.0], \"y\": [3.2, 0.0, 0.0, 2.857142857143, -0.0, 0.0], \"z\": [0.0, 0.0, 0.0, 1.714285714286, 6.0, 4.0]}, {\"line\": {\"color\": \"#003c8f\", \"width\": 5}, \"mode\": \"lines\", \"opacity\": 0.2, \"surfaceaxis\": 2, \"surfacecolor\": \"#1565c0\", \"type\": \"scatter3d\", \"x\": [0.0, 0.333333333333, 0.0, 0.0], \"y\": [3.2, 3.0, 3.0, 3.2], \"z\": [0.0, 0.0, 1.0, 0.0]}, {\"line\": {\"color\": \"#003c8f\", \"width\": 5}, \"mode\": \"lines\", \"opacity\": 0.2, \"surfaceaxis\": 1, \"surfacecolor\": \"#1565c0\", \"type\": \"scatter3d\", \"x\": [-0.0, 0.333333333333, 0.0, -0.0], \"y\": [3.0, 3.0, 3.0, 3.0], \"z\": [-0.0, 0.0, 1.0, -0.0]}, {\"line\": {\"color\": \"#003c8f\", \"width\": 5}, \"mode\": \"lines\", \"opacity\": 0.2, \"surfaceaxis\": 0, \"surfacecolor\": \"#1565c0\", \"type\": \"scatter3d\", \"x\": [0.0, -0.0, 0.0, 0.0], \"y\": [3.2, 3.0, 3.0, 3.2], \"z\": [0.0, -0.0, 1.0, 0.0]}, {\"line\": {\"color\": \"#003c8f\", \"width\": 5}, \"mode\": \"lines\", \"opacity\": 0.2, \"surfaceaxis\": 2, \"surfacecolor\": \"#1565c0\", \"type\": \"scatter3d\", \"x\": [0.0, 0.333333333333, -0.0, 0.0], \"y\": [3.2, 3.0, 3.0, 3.2], \"z\": [0.0, 0.0, -0.0, 0.0]}, {\"hoverinfo\": \"text\", \"hoverlabel\": {\"align\": \"left\", \"bgcolor\": \"white\", \"bordercolor\": \"#404040\", \"font\": {\"color\": \"#404040\", \"family\": \"Arial\"}}, \"marker\": {\"color\": \"gray\", \"opacity\": 1e-07, \"size\": 20}, \"text\": [\"<b>BFS</b>: (0, 3, 1)<br><b>Obj</b>: 13\", \"<b>BFS</b>: (0, 3.2, 0)<br><b>Obj</b>: 12.8\", \"<b>BFS</b>: (-0, 3, -0)<br><b>Obj</b>: 12\", \"<b>BFS</b>: (0.333, 3, 0)<br><b>Obj</b>: 12.667\"], \"type\": \"scatter3d\", \"x\": [0.0, 0.0, -0.0, 0.333333333333], \"y\": [3.0, 3.2, 3.0, 3.0], \"z\": [1.0, 0.0, -0.0, 0.0]}, {\"line\": {\"color\": \"#003c8f\", \"width\": 5}, \"mode\": \"lines\", \"opacity\": 0.2, \"surfaceaxis\": 2, \"surfacecolor\": \"#1565c0\", \"type\": \"scatter3d\", \"x\": [2.0, 4.0, 2.0, 2.0], \"y\": [0.0, 0.0, 1.428571428571, 0.0], \"z\": [5.0, 4.0, 2.857142857143, 5.0]}, {\"line\": {\"color\": \"#003c8f\", \"width\": 5}, \"mode\": \"lines\", \"opacity\": 0.2, \"surfaceaxis\": 2, \"surfacecolor\": \"#1565c0\", \"type\": \"scatter3d\", \"x\": [4.0, 5.333333333333, 2.0, 2.0, 4.0], \"y\": [0.0, 0.0, 2.0, 1.428571428571, 0.0], \"z\": [4.0, 0.0, 0.0, 2.857142857143, 4.0]}, {\"line\": {\"color\": \"#003c8f\", \"width\": 5}, \"mode\": \"lines\", \"opacity\": 0.2, \"surfaceaxis\": 2, \"surfacecolor\": \"#1565c0\", \"type\": \"scatter3d\", \"x\": [2.0], \"y\": [2.0], \"z\": [0.0]}, {\"line\": {\"color\": \"#003c8f\", \"width\": 5}, \"mode\": \"lines\", \"opacity\": 0.2, \"surfaceaxis\": 0, \"surfacecolor\": \"#1565c0\", \"type\": \"scatter3d\", \"x\": [2.0, 2.0, 2.0, 2.0, 2.0], \"y\": [0.0, 0.0, 2.0, 1.428571428571, 0.0], \"z\": [5.0, 0.0, 0.0, 2.857142857143, 5.0]}, {\"line\": {\"color\": \"#003c8f\", \"width\": 5}, \"mode\": \"lines\", \"opacity\": 0.2, \"surfaceaxis\": 1, \"surfacecolor\": \"#1565c0\", \"type\": \"scatter3d\", \"x\": [2.0, 4.0, 5.333333333333, 2.0, 2.0], \"y\": [0.0, 0.0, 0.0, 0.0, 0.0], \"z\": [5.0, 4.0, 0.0, 0.0, 5.0]}, {\"line\": {\"color\": \"#003c8f\", \"width\": 5}, \"mode\": \"lines\", \"opacity\": 0.2, \"surfaceaxis\": 2, \"surfacecolor\": \"#1565c0\", \"type\": \"scatter3d\", \"x\": [5.333333333333, 2.0, 2.0, 5.333333333333], \"y\": [0.0, 0.0, 2.0, 0.0], \"z\": [0.0, 0.0, 0.0, 0.0]}, {\"hoverinfo\": \"text\", \"hoverlabel\": {\"align\": \"left\", \"bgcolor\": \"white\", \"bordercolor\": \"#404040\", \"font\": {\"color\": \"#404040\", \"family\": \"Arial\"}}, \"marker\": {\"color\": \"gray\", \"opacity\": 1e-07, \"size\": 20}, \"text\": [\"<b>BFS</b>: (2, 2, 0)<br><b>Obj</b>: 12\", \"<b>BFS</b>: (2, 0, 0)<br><b>Obj</b>: 4\", \"<b>BFS</b>: (5.333, 0, 0)<br><b>Obj</b>: 10.667\", \"<b>BFS</b>: (2, 1.429, 2.857)<br><b>Obj</b>: 12.571\", \"<b>BFS</b>: (2, 0, 5)<br><b>Obj</b>: 9\", \"<b>BFS</b>: (4, 0, 4)<br><b>Obj</b>: 12\"], \"type\": \"scatter3d\", \"x\": [2.0, 2.0, 5.333333333333, 2.0, 2.0, 4.0], \"y\": [2.0, 0.0, 0.0, 1.428571428571, 0.0, 0.0], \"z\": [0.0, 0.0, 0.0, 2.857142857143, 5.0, 4.0]}, {\"line\": {\"color\": \"#002659\", \"width\": 5}, \"mode\": \"lines\", \"opacity\": 0.30000000000000004, \"surfaceaxis\": 2, \"surfacecolor\": \"#003c8f\", \"type\": \"scatter3d\", \"x\": [1.0, 0.0, -0.0, 1.0, 1.0], \"y\": [-0.0, 0.0, 2.0, 2.0, -0.0], \"z\": [5.5, 6.0, 3.0, 2.5, 5.5]}, {\"line\": {\"color\": \"#002659\", \"width\": 5}, \"mode\": \"lines\", \"opacity\": 0.30000000000000004, \"surfaceaxis\": 1, \"surfacecolor\": \"#003c8f\", \"type\": \"scatter3d\", \"x\": [-0.0, 0.0, 1.0, 1.0, -0.0], \"y\": [2.0, 2.0, 2.0, 2.0, 2.0], \"z\": [3.0, 0.0, 0.0, 2.5, 3.0]}, {\"line\": {\"color\": \"#002659\", \"width\": 5}, \"mode\": \"lines\", \"opacity\": 0.30000000000000004, \"surfaceaxis\": 0, \"surfacecolor\": \"#003c8f\", \"type\": \"scatter3d\", \"x\": [1.0, 1.0, 1.0, 1.0, 1.0], \"y\": [0.0, 2.0, 2.0, -0.0, 0.0], \"z\": [0.0, 0.0, 2.5, 5.5, 0.0]}, {\"line\": {\"color\": \"#002659\", \"width\": 5}, \"mode\": \"lines\", \"opacity\": 0.30000000000000004, \"surfaceaxis\": 0, \"surfacecolor\": \"#003c8f\", \"type\": \"scatter3d\", \"x\": [0.0, 0.0, -0.0, 0.0, 0.0], \"y\": [0.0, 2.0, 2.0, 0.0, 0.0], \"z\": [0.0, 0.0, 3.0, 6.0, 0.0]}, {\"line\": {\"color\": \"#002659\", \"width\": 5}, \"mode\": \"lines\", \"opacity\": 0.30000000000000004, \"surfaceaxis\": 1, \"surfacecolor\": \"#003c8f\", \"type\": \"scatter3d\", \"x\": [1.0, 1.0, 0.0, 0.0, 1.0], \"y\": [0.0, -0.0, 0.0, 0.0, 0.0], \"z\": [0.0, 5.5, 6.0, 0.0, 0.0]}, {\"line\": {\"color\": \"#002659\", \"width\": 5}, \"mode\": \"lines\", \"opacity\": 0.30000000000000004, \"surfaceaxis\": 2, \"surfacecolor\": \"#003c8f\", \"type\": \"scatter3d\", \"x\": [0.0, 0.0, 1.0, 1.0, 0.0], \"y\": [0.0, 2.0, 2.0, 0.0, 0.0], \"z\": [0.0, 0.0, 0.0, 0.0, 0.0]}, {\"hoverinfo\": \"text\", \"hoverlabel\": {\"align\": \"left\", \"bgcolor\": \"white\", \"bordercolor\": \"#404040\", \"font\": {\"color\": \"#404040\", \"family\": \"Arial\"}}, \"marker\": {\"color\": \"gray\", \"opacity\": 1e-07, \"size\": 20}, \"text\": [\"<b>BFS</b>: (0, 0, 0)<br><b>Obj</b>: 0\", \"<b>BFS</b>: (1, 0, 0)<br><b>Obj</b>: 2\", \"<b>BFS</b>: (0, 2, 0)<br><b>Obj</b>: 8\", \"<b>BFS</b>: (1, 2, 0)<br><b>Obj</b>: 10\", \"<b>BFS</b>: (1, -0, 5.5)<br><b>Obj</b>: 7.5\", \"<b>BFS</b>: (0, 0, 6)<br><b>Obj</b>: 6\", \"<b>BFS</b>: (1, 2, 2.5)<br><b>Obj</b>: 12.5\", \"<b>BFS</b>: (-0, 2, 3)<br><b>Obj</b>: 11\"], \"type\": \"scatter3d\", \"x\": [0.0, 1.0, 0.0, 1.0, 1.0, 0.0, 1.0, -0.0], \"y\": [0.0, 0.0, 2.0, 2.0, -0.0, 0.0, 2.0, 2.0], \"z\": [0.0, 0.0, 0.0, 0.0, 5.5, 6.0, 2.5, 3.0]}, {\"mode\": \"none\", \"name\": \"x<sub>1</sub> \\u2264 1\", \"opacity\": 0.5, \"showlegend\": true, \"surfaceaxis\": 0, \"surfacecolor\": \"gray\", \"type\": \"scatter3d\", \"visible\": \"legendonly\", \"x\": [1.0, 1.0, 1.0, 1.0, 1.0], \"y\": [0.0, 4.16, 4.16, 0.0, 0.0], \"z\": [7.800000000000001, 7.800000000000001, 0.0, 0.0, 7.800000000000001]}, {\"mode\": \"none\", \"name\": \"x<sub>1</sub> \\u2265 2\", \"opacity\": 0.5, \"showlegend\": true, \"surfaceaxis\": 0, \"surfacecolor\": \"gray\", \"type\": \"scatter3d\", \"visible\": \"legendonly\", \"x\": [2.0, 2.0, 2.0, 2.0, 2.0], \"y\": [0.0, 4.16, 4.16, 0.0, 0.0], \"z\": [0.0, 0.0, 7.800000000000001, 7.800000000000001, 0.0]}, {\"type\": \"scatter3d\", \"visible\": true, \"x\": [1.0], \"y\": [2.0], \"z\": [2.5]}, {\"marker\": {\"color\": \"#d50000\", \"symbol\": \"circle\"}, \"type\": \"scatter3d\", \"x\": [1.0], \"y\": [2.0], \"z\": [2.5]}, {\"mode\": \"none\", \"opacity\": 0.3, \"surfaceaxis\": 2, \"surfacecolor\": \"gray\", \"type\": \"scatter3d\", \"visible\": false, \"x\": [6.9333333333329, 6.9333333333329, 0.0, 0.0, 6.9333333333329], \"y\": [0.0, 4.16, 4.16, 0.0, 0.0], \"z\": [-13.8666666666658, -30.5066666666658, -16.64, 0.0, -13.8666666666658]}, {\"line\": {\"color\": \"#d50000\", \"width\": 5}, \"marker\": {\"color\": \"#d50000\", \"size\": 5, \"symbol\": \"circle\"}, \"mode\": \"lines+markers\", \"surfaceaxis\": 2, \"surfacecolor\": \"#d50000\", \"type\": \"scatter3d\", \"visible\": false, \"x\": [0.0], \"y\": [0.0], \"z\": [0.0]}, {\"mode\": \"none\", \"opacity\": 0.3, \"surfaceaxis\": 2, \"surfacecolor\": \"gray\", \"type\": \"scatter3d\", \"visible\": false, \"x\": [0.0, 6.9333333333329, 6.9333333333329, 0.0, 0.0], \"y\": [4.16, 4.16, 0.0, 0.0, 4.16], \"z\": [-15.040000000000001, -28.9066666666658, -12.2666666666658, 1.6, -15.040000000000001]}, {\"line\": {\"color\": \"#d50000\", \"width\": 5}, \"marker\": {\"color\": \"#d50000\", \"size\": 5, \"symbol\": \"circle\"}, \"mode\": \"lines+markers\", \"surfaceaxis\": 2, \"surfacecolor\": \"#d50000\", \"type\": \"scatter3d\", \"visible\": false, \"x\": [0.0, 0.0, 0.8, 0.0], \"y\": [0.4, 0.0, 0.0, 0.4], \"z\": [0.0, 1.6, 0.0, 0.0]}, {\"mode\": \"none\", \"opacity\": 0.3, \"surfaceaxis\": 2, \"surfacecolor\": \"gray\", \"type\": \"scatter3d\", \"visible\": false, \"x\": [6.9333333333329, 0.0, 0.0, 6.9333333333329, 6.9333333333329], \"y\": [4.16, 4.16, 0.0, 0.0, 4.16], \"z\": [-27.316666666665803, -13.450000000000001, 3.19, -10.6766666666658, -27.316666666665803]}, {\"line\": {\"color\": \"#d50000\", \"width\": 5}, \"marker\": {\"color\": \"#d50000\", \"size\": 5, \"symbol\": \"circle\"}, \"mode\": \"lines+markers\", \"surfaceaxis\": 2, \"surfacecolor\": \"#d50000\", \"type\": \"scatter3d\", \"visible\": false, \"x\": [1.0, -0.0, -0.0, 1.0, 1.0], \"y\": [0.2975, 0.7975, -0.0, -0.0, 0.2975], \"z\": [-0.0, -0.0, 3.19, 1.19, -0.0]}, {\"mode\": \"none\", \"opacity\": 0.3, \"surfaceaxis\": 2, \"surfacecolor\": \"gray\", \"type\": \"scatter3d\", \"visible\": false, \"x\": [6.9333333333329, 0.0, 0.0, 6.9333333333329, 6.9333333333329], \"y\": [4.16, 4.16, 0.0, 0.0, 4.16], \"z\": [-25.7166666666658, -11.850000000000001, 4.79, -9.076666666665801, -25.7166666666658]}, {\"line\": {\"color\": \"#d50000\", \"width\": 5}, \"marker\": {\"color\": \"#d50000\", \"size\": 5, \"symbol\": \"circle\"}, \"mode\": \"lines+markers\", \"surfaceaxis\": 2, \"surfacecolor\": \"#d50000\", \"type\": \"scatter3d\", \"visible\": false, \"x\": [1.0, 1.0, 0.0, 0.0, 1.0], \"y\": [0.6975, -0.0, 0.0, 1.1975, 0.6975], \"z\": [-0.0, 2.79, 4.79, 0.0, -0.0]}, {\"mode\": \"none\", \"opacity\": 0.3, \"surfaceaxis\": 2, \"surfacecolor\": \"gray\", \"type\": \"scatter3d\", \"visible\": false, \"x\": [0.0, 0.0, 6.9333333333329, 6.9333333333329, 0.0], \"y\": [4.16, 0.0, 0.0, 4.16, 4.16], \"z\": [-10.260000000000002, 6.38, -7.4866666666658, -24.126666666665802, -10.260000000000002]}, {\"line\": {\"color\": \"#d50000\", \"width\": 5}, \"marker\": {\"color\": \"#d50000\", \"size\": 5, \"symbol\": \"circle\"}, \"mode\": \"lines+markers\", \"surfaceaxis\": 2, \"surfacecolor\": \"#d50000\", \"type\": \"scatter3d\", \"visible\": false, \"x\": [1.0, 1.0, 0.253333333333, 0.0, 0.0, 1.0], \"y\": [1.095, 0.0, -0.0, 0.152, 1.595, 1.095], \"z\": [0.0, 4.38, 5.873333333333, 5.772, 0.0, 0.0]}, {\"mode\": \"none\", \"opacity\": 0.3, \"surfaceaxis\": 2, \"surfacecolor\": \"gray\", \"type\": \"scatter3d\", \"visible\": false, \"x\": [6.9333333333329, 0.0, 0.0, 6.9333333333329, 6.9333333333329], \"y\": [0.0, 0.0, 4.16, 4.16, 0.0], \"z\": [-5.8866666666658, 7.98, -8.66, -22.5266666666658, -5.8866666666658]}, {\"line\": {\"color\": \"#d50000\", \"width\": 5}, \"marker\": {\"color\": \"#d50000\", \"size\": 5, \"symbol\": \"circle\"}, \"mode\": \"lines+markers\", \"surfaceaxis\": 2, \"surfacecolor\": \"#d50000\", \"type\": \"scatter3d\", \"visible\": false, \"x\": [1.0, -0.0, 0.0, 1.0, 1.0], \"y\": [1.495, 1.995, 0.792, 0.192, 1.495], \"z\": [-0.0, -0.0, 4.812, 5.212, -0.0]}, {\"mode\": \"none\", \"opacity\": 0.3, \"surfaceaxis\": 2, \"surfacecolor\": \"gray\", \"type\": \"scatter3d\", \"visible\": false, \"x\": [0.0, 6.9333333333329, 6.9333333333329, 0.0, 0.0], \"y\": [4.16, 4.16, 0.0, 0.0, 4.16], \"z\": [-7.0600000000000005, -20.926666666665803, -4.2866666666658, 9.58, -7.0600000000000005]}, {\"line\": {\"color\": \"#d50000\", \"width\": 5}, \"marker\": {\"color\": \"#d50000\", \"size\": 5, \"symbol\": \"circle\"}, \"mode\": \"lines+markers\", \"surfaceaxis\": 2, \"surfacecolor\": \"#d50000\", \"type\": \"scatter3d\", \"visible\": false, \"x\": [0.0, 0.79, 1.0, 1.0, 0.0, 0.0], \"y\": [2.0, 2.0, 1.895, 0.832, 1.432, 2.0], \"z\": [1.58, 0.0, 0.0, 4.252, 3.852, 1.58]}, {\"mode\": \"none\", \"opacity\": 0.3, \"surfaceaxis\": 2, \"surfacecolor\": \"gray\", \"type\": \"scatter3d\", \"visible\": false, \"x\": [6.9333333333329, 0.0, 0.0, 6.9333333333329, 6.9333333333329], \"y\": [4.16, 4.16, 0.0, 0.0, 4.16], \"z\": [-19.3366666666658, -5.470000000000001, 11.17, -2.6966666666658003, -19.3366666666658]}, {\"line\": {\"color\": \"#d50000\", \"width\": 5}, \"marker\": {\"color\": \"#d50000\", \"size\": 5, \"symbol\": \"circle\"}, \"mode\": \"lines+markers\", \"surfaceaxis\": 2, \"surfacecolor\": \"#d50000\", \"type\": \"scatter3d\", \"visible\": false, \"x\": [1.0, 1.0, 0.113333333333, 1.0], \"y\": [1.468, 2.0, 2.0, 1.468], \"z\": [3.298, 1.17, 2.943333333333, 3.298]}, {\"mode\": \"none\", \"opacity\": 0.3, \"surfaceaxis\": 2, \"surfacecolor\": \"gray\", \"type\": \"scatter3d\", \"visible\": false, \"x\": [6.9333333333329, 0.0, 0.0, 6.9333333333329, 6.9333333333329], \"y\": [4.16, 4.16, 0.0, 0.0, 4.16], \"z\": [-18.0066666666658, -4.140000000000001, 12.5, -1.3666666666658003, -18.0066666666658]}, {\"line\": {\"color\": \"#d50000\", \"width\": 5}, \"marker\": {\"color\": \"#d50000\", \"size\": 5, \"symbol\": \"circle\"}, \"mode\": \"lines+markers\", \"surfaceaxis\": 2, \"surfacecolor\": \"#d50000\", \"type\": \"scatter3d\", \"visible\": false, \"x\": [1.0], \"y\": [2.0], \"z\": [2.5]}, {\"mode\": \"none\", \"opacity\": 0.3, \"surfaceaxis\": 2, \"surfacecolor\": \"gray\", \"type\": \"scatter3d\", \"visible\": false, \"x\": [6.9333333333329, 6.9333333333329, 0.0, 0.0, 6.9333333333329], \"y\": [4.16, 0.0, 0.0, 4.16, 4.16], \"z\": [-17.7366666666658, -1.0966666666658007, 12.77, -3.870000000000001, -17.7366666666658]}, {\"mode\": \"none\", \"opacity\": 0.3, \"surfaceaxis\": 2, \"surfacecolor\": \"gray\", \"type\": \"scatter3d\", \"visible\": false, \"x\": [0.0, 0.0, 6.9333333333329, 6.9333333333329, 0.0], \"y\": [0.0, 4.16, 4.16, 0.0, 0.0], \"z\": [14.36, -2.280000000000001, -16.1466666666658, 0.49333333333419915, 14.36]}, {\"mode\": \"none\", \"opacity\": 0.3, \"surfaceaxis\": 2, \"surfacecolor\": \"gray\", \"type\": \"scatter3d\", \"visible\": false, \"x\": [0.0, 6.9333333333329, 6.9333333333329, 0.0, 0.0], \"y\": [4.16, 4.16, 0.0, 0.0, 4.16], \"z\": [-0.6799999999999997, -14.5466666666658, 2.0933333333342006, 15.96, -0.6799999999999997]}, {\"mode\": \"none\", \"opacity\": 0.3, \"surfaceaxis\": 2, \"surfacecolor\": \"gray\", \"type\": \"scatter3d\", \"visible\": false, \"x\": [6.9333333333329, 6.9333333333329, 0.0, 0.0, 6.9333333333329], \"y\": [0.0, 4.16, 4.16, 0.0, 0.0], \"z\": [3.6933333333341984, -12.946666666665802, 0.9199999999999982, 17.56, 3.6933333333341984]}, {\"mode\": \"none\", \"opacity\": 0.3, \"surfaceaxis\": 2, \"surfacecolor\": \"gray\", \"type\": \"scatter3d\", \"visible\": false, \"x\": [6.9333333333329, 0.0, 0.0, 6.9333333333329, 6.9333333333329], \"y\": [0.0, 0.0, 4.16, 4.16, 0.0], \"z\": [5.283333333334198, 19.15, 2.509999999999998, -11.356666666665802, 5.283333333334198]}, {\"mode\": \"none\", \"opacity\": 0.3, \"surfaceaxis\": 2, \"surfacecolor\": \"gray\", \"type\": \"scatter3d\", \"visible\": false, \"x\": [6.9333333333329, 6.9333333333329, 0.0, 0.0, 6.9333333333329], \"y\": [4.16, 0.0, 0.0, 4.16, 4.16], \"z\": [-9.7566666666658, 6.8833333333342, 20.75, 4.109999999999999, -9.7566666666658]}, {\"mode\": \"none\", \"opacity\": 0.3, \"surfaceaxis\": 2, \"surfacecolor\": \"gray\", \"type\": \"scatter3d\", \"visible\": false, \"x\": [0.0, 6.9333333333329, 6.9333333333329, 0.0, 0.0], \"y\": [0.0, 0.0, 4.16, 4.16, 0.0], \"z\": [22.35, 8.483333333334201, -8.1566666666658, 5.710000000000001, 22.35]}, {\"mode\": \"none\", \"opacity\": 0.3, \"surfaceaxis\": 2, \"surfacecolor\": \"gray\", \"type\": \"scatter3d\", \"visible\": false, \"x\": [6.9333333333329, 6.9333333333329, 0.0, 0.0, 6.9333333333329], \"y\": [0.0, 4.16, 4.16, 0.0, 0.0], \"z\": [10.073333333334201, -6.5666666666658, 7.300000000000001, 23.94, 10.073333333334201]}, {\"mode\": \"none\", \"opacity\": 0.3, \"surfaceaxis\": 2, \"surfacecolor\": \"gray\", \"type\": \"scatter3d\", \"visible\": false, \"x\": [6.9333333333329, 6.9333333333329, 0.0, 0.0, 6.9333333333329], \"y\": [0.0, 4.16, 4.16, 0.0, 0.0], \"z\": [11.673333333334199, -4.966666666665802, 8.899999999999999, 25.54, 11.673333333334199]}, {\"mode\": \"none\", \"opacity\": 0.3, \"surfaceaxis\": 2, \"surfacecolor\": \"gray\", \"type\": \"scatter3d\", \"visible\": false, \"x\": [0.0, 0.0, 6.9333333333329, 6.9333333333329, 0.0], \"y\": [0.0, 4.16, 4.16, 0.0, 0.0], \"z\": [27.13, 10.489999999999998, -3.376666666665802, 13.263333333334199, 27.13]}, {\"mode\": \"none\", \"opacity\": 0.3, \"surfaceaxis\": 2, \"surfacecolor\": \"gray\", \"type\": \"scatter3d\", \"visible\": false, \"x\": [6.9333333333329, 6.9333333333329, 0.0, 0.0, 6.9333333333329], \"y\": [0.0, 4.16, 4.16, 0.0, 0.0], \"z\": [14.8633333333342, -1.7766666666658004, 12.09, 28.73, 14.8633333333342]}, {\"mode\": \"none\", \"opacity\": 0.3, \"surfaceaxis\": 2, \"surfacecolor\": \"gray\", \"type\": \"scatter3d\", \"visible\": false, \"x\": [0.0, 6.9333333333329, 6.9333333333329, 0.0, 0.0], \"y\": [0.0, 0.0, 4.16, 4.16, 0.0], \"z\": [30.33, 16.463333333334198, -0.17666666666580255, 13.689999999999998, 30.33]}, {\"mode\": \"none\", \"opacity\": 0.3, \"surfaceaxis\": 2, \"surfacecolor\": \"gray\", \"type\": \"scatter3d\", \"visible\": false, \"x\": [6.9333333333329, 6.9333333333329, 0.0, 0.0, 6.9333333333329], \"y\": [0.0, 4.16, 4.16, 0.0, 0.0], \"z\": [18.0533333333342, 1.4133333333342009, 15.280000000000001, 31.92, 18.0533333333342]}, {\"mode\": \"none\", \"opacity\": 0.3, \"surfaceaxis\": 2, \"surfacecolor\": \"gray\", \"type\": \"scatter3d\", \"visible\": false, \"x\": [6.9333333333329, 6.9333333333329, 0.0, 0.0, 6.9333333333329], \"y\": [0.0, 4.16, 4.16, 0.0, 0.0], \"z\": [19.653333333334203, 3.0133333333342023, 16.880000000000003, 33.52, 19.653333333334203]}, {\"mode\": \"none\", \"opacity\": 0.3, \"surfaceaxis\": 2, \"surfacecolor\": \"gray\", \"type\": \"scatter3d\", \"visible\": false, \"x\": [0.0, 6.9333333333329, 6.9333333333329, 0.0, 0.0], \"y\": [4.16, 4.16, 0.0, 0.0, 4.16], \"z\": [18.47, 4.603333333334199, 21.2433333333342, 35.11, 18.47]}, {\"mode\": \"none\", \"opacity\": 0.3, \"surfaceaxis\": 2, \"surfacecolor\": \"gray\", \"type\": \"scatter3d\", \"visible\": false, \"x\": [6.9333333333329, 0.0, 0.0, 6.9333333333329, 6.9333333333329], \"y\": [4.16, 4.16, 0.0, 0.0, 4.16], \"z\": [6.2033333333342, 20.07, 36.71, 22.8433333333342, 6.2033333333342]}, {\"mode\": \"none\", \"opacity\": 0.3, \"surfaceaxis\": 2, \"surfacecolor\": \"gray\", \"type\": \"scatter3d\", \"visible\": false, \"x\": [6.9333333333329, 0.0, 0.0, 6.9333333333329, 6.9333333333329], \"y\": [0.0, 0.0, 4.16, 4.16, 0.0], \"z\": [24.443333333334202, 38.31, 21.67, 7.803333333334201, 24.443333333334202]}],                        {\"annotations\": [{\"templateitemname\": \"explored\", \"text\": \"<br>13.143<br>x* = (0, 2.857, 1.714)\", \"visible\": true, \"x\": 0.5, \"xref\": \"x\", \"y\": 0.9, \"yref\": \"y\"}, {\"templateitemname\": \"explored\", \"text\": \"x<sub>2</sub> \\u2264 2<br>12.8<br>x* = (1.2, 2, 2.4)\", \"visible\": true, \"x\": 0.25, \"xref\": \"x\", \"y\": 0.5, \"yref\": \"y\"}, {\"templateitemname\": \"unexplored\", \"text\": \"x<sub>2</sub> \\u2265 3\", \"visible\": true, \"x\": 0.75, \"xref\": \"x\", \"y\": 0.5, \"yref\": \"y\"}, {\"templateitemname\": \"current\", \"text\": \"x<sub>1</sub> \\u2264 1<br>12.5<br>x* = (1, 2, 2.5)\", \"visible\": true, \"x\": 0.125, \"xref\": \"x\", \"y\": 0.19999999999999996, \"yref\": \"y\"}, {\"templateitemname\": \"unexplored\", \"text\": \"x<sub>1</sub> \\u2265 2\", \"visible\": true, \"x\": 0.375, \"xref\": \"x\", \"y\": 0.19999999999999996, \"yref\": \"y\"}], \"scene\": {\"domain\": {\"x\": [0.0, 0.39473684210526316], \"y\": [0.0, 1.0]}, \"xaxis\": {\"range\": [0, 6.9333333333329]}, \"yaxis\": {\"range\": [0, 4.16]}, \"zaxis\": {\"range\": [0, 7.800000000000001]}}, \"sliders\": [{\"active\": 0, \"currentvalue\": {\"prefix\": \"Objective Value: \"}, \"len\": 0.39473684210526316, \"lenmode\": \"fraction\", \"steps\": [{\"args\": [{\"visible\": [false, null, null, null, null, null, null, null, null, null, null, null, null, null, null, null, null, null, null, null, null, null, null, null, null, null, null, \"legendonly\", \"legendonly\", true, null, true, true, false, false, false, false, false, false, false, false, false, false, false, false, false, false, false, false, false, false, false, false, false, false, false, false, false, false, false, false, false, false, false, false, false]}], \"label\": \"0.0\", \"method\": \"update\"}, {\"args\": [{\"visible\": [false, null, null, null, null, null, null, null, null, null, null, null, null, null, null, null, null, null, null, null, null, null, null, null, null, null, null, \"legendonly\", \"legendonly\", true, null, false, false, true, true, false, false, false, false, false, false, false, false, false, false, false, false, false, false, false, false, false, false, false, false, false, false, false, false, false, false, false, false, false, false, false]}], \"label\": \"1.6\", \"method\": \"update\"}, {\"args\": [{\"visible\": [false, null, null, null, null, null, null, null, null, null, null, null, null, null, null, null, null, null, null, null, null, null, null, null, null, null, null, \"legendonly\", \"legendonly\", true, null, false, false, false, false, true, true, false, false, false, false, false, false, false, false, false, false, false, false, false, false, false, false, false, false, false, false, false, false, false, false, false, false, false, false, false]}], \"label\": \"3.19\", \"method\": \"update\"}, {\"args\": [{\"visible\": [false, null, null, null, null, null, null, null, null, null, null, null, null, null, null, null, null, null, null, null, null, null, null, null, null, null, null, \"legendonly\", \"legendonly\", true, null, false, false, false, false, false, false, true, true, false, false, false, false, false, false, false, false, false, false, false, false, false, false, false, false, false, false, false, false, false, false, false, false, false, false, false]}], \"label\": \"4.79\", \"method\": \"update\"}, {\"args\": [{\"visible\": [false, null, null, null, null, null, null, null, null, null, null, null, null, null, null, null, null, null, null, null, null, null, null, null, null, null, null, \"legendonly\", \"legendonly\", true, null, false, false, false, false, false, false, false, false, true, true, false, false, false, false, false, false, false, false, false, false, false, false, false, false, false, false, false, false, false, false, false, false, false, false, false]}], \"label\": \"6.38\", \"method\": \"update\"}, {\"args\": [{\"visible\": [false, null, null, null, null, null, null, null, null, null, null, null, null, null, null, null, null, null, null, null, null, null, null, null, null, null, null, \"legendonly\", \"legendonly\", true, null, false, false, false, false, false, false, false, false, false, false, true, true, false, false, false, false, false, false, false, false, false, false, false, false, false, false, false, false, false, false, false, false, false, false, false]}], \"label\": \"7.98\", \"method\": \"update\"}, {\"args\": [{\"visible\": [false, null, null, null, null, null, null, null, null, null, null, null, null, null, null, null, null, null, null, null, null, null, null, null, null, null, null, \"legendonly\", \"legendonly\", true, null, false, false, false, false, false, false, false, false, false, false, false, false, true, true, false, false, false, false, false, false, false, false, false, false, false, false, false, false, false, false, false, false, false, false, false]}], \"label\": \"9.58\", \"method\": \"update\"}, {\"args\": [{\"visible\": [false, null, null, null, null, null, null, null, null, null, null, null, null, null, null, null, null, null, null, null, null, null, null, null, null, null, null, \"legendonly\", \"legendonly\", true, null, false, false, false, false, false, false, false, false, false, false, false, false, false, false, true, true, false, false, false, false, false, false, false, false, false, false, false, false, false, false, false, false, false, false, false]}], \"label\": \"11.17\", \"method\": \"update\"}, {\"args\": [{\"visible\": [false, null, null, null, null, null, null, null, null, null, null, null, null, null, null, null, null, null, null, null, null, null, null, null, null, null, null, \"legendonly\", \"legendonly\", true, null, false, false, false, false, false, false, false, false, false, false, false, false, false, false, false, false, true, true, false, false, false, false, false, false, false, false, false, false, false, false, false, false, false, false, false]}], \"label\": \"12.5\", \"method\": \"update\"}, {\"args\": [{\"visible\": [false, null, null, null, null, null, null, null, null, null, null, null, null, null, null, null, null, null, null, null, null, null, null, null, null, null, null, \"legendonly\", \"legendonly\", true, null, false, false, false, false, false, false, false, false, false, false, false, false, false, false, false, false, false, false, true, false, false, false, false, false, false, false, false, false, false, false, false, false, false, false, false]}], \"label\": \"12.77\", \"method\": \"update\"}, {\"args\": [{\"visible\": [false, null, null, null, null, null, null, null, null, null, null, null, null, null, null, null, null, null, null, null, null, null, null, null, null, null, null, \"legendonly\", \"legendonly\", true, null, false, false, false, false, false, false, false, false, false, false, false, false, false, false, false, false, false, false, false, true, false, false, false, false, false, false, false, false, false, false, false, false, false, false, false]}], \"label\": \"14.36\", \"method\": \"update\"}, {\"args\": [{\"visible\": [false, null, null, null, null, null, null, null, null, null, null, null, null, null, null, null, null, null, null, null, null, null, null, null, null, null, null, \"legendonly\", \"legendonly\", true, null, false, false, false, false, false, false, false, false, false, false, false, false, false, false, false, false, false, false, false, false, true, false, false, false, false, false, false, false, false, false, false, false, false, false, false]}], \"label\": \"15.96\", \"method\": \"update\"}, {\"args\": [{\"visible\": [false, null, null, null, null, null, null, null, null, null, null, null, null, null, null, null, null, null, null, null, null, null, null, null, null, null, null, \"legendonly\", \"legendonly\", true, null, false, false, false, false, false, false, false, false, false, false, false, false, false, false, false, false, false, false, false, false, false, true, false, false, false, false, false, false, false, false, false, false, false, false, false]}], \"label\": \"17.56\", \"method\": \"update\"}, {\"args\": [{\"visible\": [false, null, null, null, null, null, null, null, null, null, null, null, null, null, null, null, null, null, null, null, null, null, null, null, null, null, null, \"legendonly\", \"legendonly\", true, null, false, false, false, false, false, false, false, false, false, false, false, false, false, false, false, false, false, false, false, false, false, false, true, false, false, false, false, false, false, false, false, false, false, false, false]}], \"label\": \"19.15\", \"method\": \"update\"}, {\"args\": [{\"visible\": [false, null, null, null, null, null, null, null, null, null, null, null, null, null, null, null, null, null, null, null, null, null, null, null, null, null, null, \"legendonly\", \"legendonly\", true, null, false, false, false, false, false, false, false, false, false, false, false, false, false, false, false, false, false, false, false, false, false, false, false, true, false, false, false, false, false, false, false, false, false, false, false]}], \"label\": \"20.75\", \"method\": \"update\"}, {\"args\": [{\"visible\": [false, null, null, null, null, null, null, null, null, null, null, null, null, null, null, null, null, null, null, null, null, null, null, null, null, null, null, \"legendonly\", \"legendonly\", true, null, false, false, false, false, false, false, false, false, false, false, false, false, false, false, false, false, false, false, false, false, false, false, false, false, true, false, false, false, false, false, false, false, false, false, false]}], \"label\": \"22.35\", \"method\": \"update\"}, {\"args\": [{\"visible\": [false, null, null, null, null, null, null, null, null, null, null, null, null, null, null, null, null, null, null, null, null, null, null, null, null, null, null, \"legendonly\", \"legendonly\", true, null, false, false, false, false, false, false, false, false, false, false, false, false, false, false, false, false, false, false, false, false, false, false, false, false, false, true, false, false, false, false, false, false, false, false, false]}], \"label\": \"23.94\", \"method\": \"update\"}, {\"args\": [{\"visible\": [false, null, null, null, null, null, null, null, null, null, null, null, null, null, null, null, null, null, null, null, null, null, null, null, null, null, null, \"legendonly\", \"legendonly\", true, null, false, false, false, false, false, false, false, false, false, false, false, false, false, false, false, false, false, false, false, false, false, false, false, false, false, false, true, false, false, false, false, false, false, false, false]}], \"label\": \"25.54\", \"method\": \"update\"}, {\"args\": [{\"visible\": [false, null, null, null, null, null, null, null, null, null, null, null, null, null, null, null, null, null, null, null, null, null, null, null, null, null, null, \"legendonly\", \"legendonly\", true, null, false, false, false, false, false, false, false, false, false, false, false, false, false, false, false, false, false, false, false, false, false, false, false, false, false, false, false, true, false, false, false, false, false, false, false]}], \"label\": \"27.13\", \"method\": \"update\"}, {\"args\": [{\"visible\": [false, null, null, null, null, null, null, null, null, null, null, null, null, null, null, null, null, null, null, null, null, null, null, null, null, null, null, \"legendonly\", \"legendonly\", true, null, false, false, false, false, false, false, false, false, false, false, false, false, false, false, false, false, false, false, false, false, false, false, false, false, false, false, false, false, true, false, false, false, false, false, false]}], \"label\": \"28.73\", \"method\": \"update\"}, {\"args\": [{\"visible\": [false, null, null, null, null, null, null, null, null, null, null, null, null, null, null, null, null, null, null, null, null, null, null, null, null, null, null, \"legendonly\", \"legendonly\", true, null, false, false, false, false, false, false, false, false, false, false, false, false, false, false, false, false, false, false, false, false, false, false, false, false, false, false, false, false, false, true, false, false, false, false, false]}], \"label\": \"30.33\", \"method\": \"update\"}, {\"args\": [{\"visible\": [false, null, null, null, null, null, null, null, null, null, null, null, null, null, null, null, null, null, null, null, null, null, null, null, null, null, null, \"legendonly\", \"legendonly\", true, null, false, false, false, false, false, false, false, false, false, false, false, false, false, false, false, false, false, false, false, false, false, false, false, false, false, false, false, false, false, false, true, false, false, false, false]}], \"label\": \"31.92\", \"method\": \"update\"}, {\"args\": [{\"visible\": [false, null, null, null, null, null, null, null, null, null, null, null, null, null, null, null, null, null, null, null, null, null, null, null, null, null, null, \"legendonly\", \"legendonly\", true, null, false, false, false, false, false, false, false, false, false, false, false, false, false, false, false, false, false, false, false, false, false, false, false, false, false, false, false, false, false, false, false, true, false, false, false]}], \"label\": \"33.52\", \"method\": \"update\"}, {\"args\": [{\"visible\": [false, null, null, null, null, null, null, null, null, null, null, null, null, null, null, null, null, null, null, null, null, null, null, null, null, null, null, \"legendonly\", \"legendonly\", true, null, false, false, false, false, false, false, false, false, false, false, false, false, false, false, false, false, false, false, false, false, false, false, false, false, false, false, false, false, false, false, false, false, true, false, false]}], \"label\": \"35.11\", \"method\": \"update\"}, {\"args\": [{\"visible\": [false, null, null, null, null, null, null, null, null, null, null, null, null, null, null, null, null, null, null, null, null, null, null, null, null, null, null, \"legendonly\", \"legendonly\", true, null, false, false, false, false, false, false, false, false, false, false, false, false, false, false, false, false, false, false, false, false, false, false, false, false, false, false, false, false, false, false, false, false, false, true, false]}], \"label\": \"36.71\", \"method\": \"update\"}], \"tickcolor\": \"white\", \"ticklen\": 0, \"x\": 0.6052631578947368, \"xanchor\": \"left\", \"y\": 0.01, \"yanchor\": \"bottom\"}], \"template\": {\"data\": {\"scatter\": [{\"fillcolor\": \"#1565c0\", \"hoverinfo\": \"none\", \"line\": {\"color\": \"#173D90\", \"width\": 4}, \"marker\": {\"color\": \"white\", \"line\": {\"color\": \"#d50000\", \"width\": 2}, \"opacity\": 0.99, \"size\": 9}, \"mode\": \"markers\", \"showlegend\": false, \"type\": \"scatter\", \"visible\": true}, {\"fillcolor\": \"#1565c0\", \"hoverinfo\": \"none\", \"line\": {\"color\": \"#1469FE\", \"width\": 4}, \"marker\": {\"color\": \"white\", \"line\": {\"color\": \"#d50000\", \"width\": 2}, \"opacity\": 0.99, \"size\": 9}, \"mode\": \"markers\", \"showlegend\": false, \"type\": \"scatter\", \"visible\": true}, {\"fillcolor\": \"#1565c0\", \"hoverinfo\": \"none\", \"line\": {\"color\": \"#65ADFF\", \"width\": 4}, \"marker\": {\"color\": \"white\", \"line\": {\"color\": \"#d50000\", \"width\": 2}, \"opacity\": 0.99, \"size\": 9}, \"mode\": \"markers\", \"showlegend\": false, \"type\": \"scatter\", \"visible\": true}, {\"fillcolor\": \"#1565c0\", \"hoverinfo\": \"none\", \"line\": {\"color\": \"#474849\", \"width\": 4}, \"marker\": {\"color\": \"white\", \"line\": {\"color\": \"#d50000\", \"width\": 2}, \"opacity\": 0.99, \"size\": 9}, \"mode\": \"markers\", \"showlegend\": false, \"type\": \"scatter\", \"visible\": true}, {\"fillcolor\": \"#1565c0\", \"hoverinfo\": \"none\", \"line\": {\"color\": \"#A90C0C\", \"width\": 4}, \"marker\": {\"color\": \"white\", \"line\": {\"color\": \"#d50000\", \"width\": 2}, \"opacity\": 0.99, \"size\": 9}, \"mode\": \"markers\", \"showlegend\": false, \"type\": \"scatter\", \"visible\": true}, {\"fillcolor\": \"#1565c0\", \"hoverinfo\": \"none\", \"line\": {\"color\": \"#DC0000\", \"width\": 4}, \"marker\": {\"color\": \"white\", \"line\": {\"color\": \"#d50000\", \"width\": 2}, \"opacity\": 0.99, \"size\": 9}, \"mode\": \"markers\", \"showlegend\": false, \"type\": \"scatter\", \"visible\": true}], \"scatter3d\": [{\"hoverinfo\": \"none\", \"line\": {\"color\": \"#1565c0\", \"width\": 6}, \"marker\": {\"color\": \"#ff5131\", \"line\": {\"color\": \"#d50000\", \"width\": 1}, \"opacity\": 0.99, \"size\": 5, \"symbol\": \"circle-open\"}, \"mode\": \"markers\", \"showlegend\": false, \"surfacecolor\": \"#5e92f3\", \"type\": \"scatter3d\", \"visible\": true}], \"table\": [{\"cells\": {\"fill\": {\"color\": \"white\"}, \"font\": {\"color\": [[\"black\", \"#d50000\", \"black\"], [\"black\", \"black\", \"black\"]]}}, \"header\": {\"fill\": {\"color\": \"white\"}, \"font\": {\"color\": [\"#d50000\", \"black\"]}}, \"type\": \"table\", \"visible\": false}]}, \"layout\": {\"annotations\": [{\"align\": \"center\", \"ax\": 0, \"ay\": 0, \"bgcolor\": \"#45568B\", \"bordercolor\": \"#404040\", \"borderpad\": 3, \"borderwidth\": 2, \"font\": {\"color\": \"white\", \"size\": 12}, \"name\": \"current\", \"visible\": false}, {\"align\": \"center\", \"ax\": 0, \"ay\": 0, \"bgcolor\": \"#D8E4F9\", \"bordercolor\": \"#404040\", \"borderpad\": 3, \"borderwidth\": 2, \"font\": {\"color\": \"#404040\", \"size\": 12}, \"name\": \"explored\", \"visible\": false}, {\"align\": \"center\", \"ax\": 0, \"ay\": 0, \"bgcolor\": \"white\", \"bordercolor\": \"#404040\", \"borderpad\": 3, \"borderwidth\": 2, \"font\": {\"color\": \"#404040\", \"size\": 12}, \"name\": \"unexplored\", \"visible\": false}], \"clickmode\": \"none\", \"dragmode\": \"turntable\", \"font\": {\"color\": \"#404040\", \"family\": \"Arial\"}, \"height\": 500, \"hovermode\": \"closest\", \"legend\": {\"font\": {\"size\": 13}, \"title\": {\"font\": {\"size\": 14}, \"text\": \"<b>Constraint(s)</b>\"}, \"x\": 0.39473684210526316, \"xanchor\": \"left\", \"y\": 1, \"yanchor\": \"top\"}, \"margin\": {\"b\": 0, \"l\": 0, \"r\": 0, \"t\": 33}, \"paper_bgcolor\": \"white\", \"plot_bgcolor\": \"white\", \"scene\": {\"aspectmode\": \"cube\", \"domain\": {\"x\": [0, 0.39473684210526316], \"y\": [0, 1]}, \"xaxis\": {\"backgroundcolor\": \"white\", \"gridcolor\": \"#DFDFDF\", \"gridwidth\": 2, \"linecolor\": \"#404040\", \"rangemode\": \"tozero\", \"showbackground\": true, \"showspikes\": false, \"ticks\": \"\", \"title\": {\"text\": \"x<sub>1</sub>\"}, \"zerolinecolor\": \"white\"}, \"yaxis\": {\"backgroundcolor\": \"white\", \"gridcolor\": \"#DFDFDF\", \"gridwidth\": 2, \"linecolor\": \"#404040\", \"rangemode\": \"tozero\", \"showbackground\": true, \"showspikes\": false, \"ticks\": \"\", \"title\": {\"text\": \"x<sub>2</sub>\"}, \"zerolinecolor\": \"white\"}, \"zaxis\": {\"backgroundcolor\": \"white\", \"gridcolor\": \"#DFDFDF\", \"gridwidth\": 2, \"linecolor\": \"#404040\", \"rangemode\": \"tozero\", \"showbackground\": true, \"showspikes\": false, \"ticks\": \"\", \"title\": {\"text\": \"x<sub>3</sub>\"}, \"zerolinecolor\": \"white\"}}, \"title\": {\"font\": {\"color\": \"#404040\", \"size\": 18}, \"text\": \"<b>Geometric Interpretation of LPs</b>\", \"x\": 0, \"xanchor\": \"left\", \"y\": 0.99, \"yanchor\": \"top\"}, \"width\": 950}}, \"xaxis\": {\"domain\": [0.5, 1], \"range\": [0, 1], \"visible\": false}, \"yaxis\": {\"domain\": [0.15, 1], \"range\": [0, 1], \"visible\": false}},                        {\"doubleClick\": false, \"displayModeBar\": false, \"editable\": false, \"responsive\": false, \"showAxisDragHandles\": false, \"showAxisRangeEntryBoxes\": false}                    ).then(function(){\n",
              "                            \n",
              "var gd = document.getElementById('d38f58da-1c5f-4f55-8597-b4f7ab75d145');\n",
              "var x = new MutationObserver(function (mutations, observer) {{\n",
              "        var display = window.getComputedStyle(gd).display;\n",
              "        if (!display || display === 'none') {{\n",
              "            console.log([gd, 'removed!']);\n",
              "            Plotly.purge(gd);\n",
              "            observer.disconnect();\n",
              "        }}\n",
              "}});\n",
              "\n",
              "// Listen for the removal of the full notebook cells\n",
              "var notebookContainer = gd.closest('#notebook-container');\n",
              "if (notebookContainer) {{\n",
              "    x.observe(notebookContainer, {childList: true});\n",
              "}}\n",
              "\n",
              "// Listen for the clearing of the current output cell\n",
              "var outputEl = gd.closest('.output');\n",
              "if (outputEl) {{\n",
              "    x.observe(outputEl, {childList: true});\n",
              "}}\n",
              "\n",
              "                        })                };                            </script>        </div>\n",
              "</body>\n",
              "</html>"
            ]
          },
          "metadata": {
            "tags": []
          }
        }
      ]
    },
    {
      "cell_type": "markdown",
      "metadata": {
        "id": "Cvk74LXk7zPK"
      },
      "source": [
        "Let's fast-forward to the final iteration of the branch and bound algorithm."
      ]
    },
    {
      "cell_type": "code",
      "metadata": {
        "scrolled": false,
        "colab": {
          "base_uri": "https://localhost:8080/",
          "height": 517
        },
        "id": "7BGqSIqx7zPK",
        "outputId": "19db244a-560d-44a1-afba-828da606374a"
      },
      "source": [
        "nodes[-1].show()"
      ],
      "execution_count": 55,
      "outputs": [
        {
          "output_type": "display_data",
          "data": {
            "text/html": [
              "<html>\n",
              "<head><meta charset=\"utf-8\" /></head>\n",
              "<body>\n",
              "    <div>            <script src=\"https://cdnjs.cloudflare.com/ajax/libs/mathjax/2.7.5/MathJax.js?config=TeX-AMS-MML_SVG\"></script><script type=\"text/javascript\">if (window.MathJax) {MathJax.Hub.Config({SVG: {font: \"STIX-Web\"}});}</script>                <script type=\"text/javascript\">window.PlotlyConfig = {MathJaxConfig: 'local'};</script>\n",
              "        <script src=\"https://cdn.plot.ly/plotly-latest.min.js\"></script>                <div id=\"d5f4e11c-8fb4-444e-b048-7652420114f4\" class=\"plotly-graph-div\" style=\"height:500px; width:950px;\"></div>            <script type=\"text/javascript\">                                    window.PLOTLYENV=window.PLOTLYENV || {};                                    if (document.getElementById(\"d5f4e11c-8fb4-444e-b048-7652420114f4\")) {                    Plotly.newPlot(                        \"d5f4e11c-8fb4-444e-b048-7652420114f4\",                        [{\"type\": \"scatter3d\", \"visible\": false, \"x\": [6.9333333333329], \"y\": [4.16], \"z\": [7.800000000000001]}, {\"hoverinfo\": \"none\", \"line\": {\"color\": \"black\", \"width\": 1}, \"mode\": \"lines\", \"showlegend\": false, \"type\": \"scatter\", \"x\": [0.5, 0.25, null, 0.5, 0.75, null, 0.25, 0.125, null, 0.25, 0.375, null, 0.125, 0.09999999999999992, null, 0.125, 0.29999999999999993, null, 0.375, 0.49999999999999994, null, 0.375, 0.7, null, 0.49999999999999994, 0.3999999999999999, null, 0.49999999999999994, 0.6, null, 0.6, 0.49999999999999994, null, 0.6, 0.7, null], \"xaxis\": \"x\", \"y\": [0.9, 0.7571428571428571, null, 0.9, 0.7571428571428571, null, 0.7571428571428571, 0.5857142857142857, null, 0.7571428571428571, 0.5857142857142857, null, 0.5857142857142857, 0.41428571428571426, null, 0.5857142857142857, 0.41428571428571426, null, 0.5857142857142857, 0.41428571428571426, null, 0.5857142857142857, 0.41428571428571426, null, 0.41428571428571426, 0.24285714285714277, null, 0.41428571428571426, 0.24285714285714277, null, 0.24285714285714277, 0.0714285714285714, null, 0.24285714285714277, 0.0714285714285714, null], \"yaxis\": \"y\"}, {\"line\": {\"color\": \"#404040\", \"width\": 5}, \"mode\": \"lines\", \"opacity\": 0.1, \"surfaceaxis\": 2, \"surfacecolor\": \"white\", \"type\": \"scatter3d\", \"x\": [0.0, 0.0, 4.0, 0.0], \"y\": [-0.0, 2.857142857143, 0.0, -0.0], \"z\": [6.0, 1.714285714286, 4.0, 6.0]}, {\"line\": {\"color\": \"#404040\", \"width\": 5}, \"mode\": \"lines\", \"opacity\": 0.1, \"surfaceaxis\": 2, \"surfacecolor\": \"white\", \"type\": \"scatter3d\", \"x\": [0.0, 0.0, 4.0, 5.333333333333, 0.0], \"y\": [3.2, 2.857142857143, 0.0, 0.0, 3.2], \"z\": [0.0, 1.714285714286, 4.0, 0.0, 0.0]}, {\"line\": {\"color\": \"#404040\", \"width\": 5}, \"mode\": \"lines\", \"opacity\": 0.1, \"surfaceaxis\": 0, \"surfacecolor\": \"white\", \"type\": \"scatter3d\", \"x\": [0.0, 0.0, 0.0, 0.0, 0.0], \"y\": [0.0, -0.0, 2.857142857143, 3.2, 0.0], \"z\": [0.0, 6.0, 1.714285714286, 0.0, 0.0]}, {\"line\": {\"color\": \"#404040\", \"width\": 5}, \"mode\": \"lines\", \"opacity\": 0.1, \"surfaceaxis\": 1, \"surfacecolor\": \"white\", \"type\": \"scatter3d\", \"x\": [0.0, 0.0, 5.333333333333, 4.0, 0.0], \"y\": [-0.0, 0.0, 0.0, 0.0, -0.0], \"z\": [6.0, 0.0, 0.0, 4.0, 6.0]}, {\"line\": {\"color\": \"#404040\", \"width\": 5}, \"mode\": \"lines\", \"opacity\": 0.1, \"surfaceaxis\": 2, \"surfacecolor\": \"white\", \"type\": \"scatter3d\", \"x\": [0.0, 0.0, 5.333333333333, 0.0], \"y\": [3.2, 0.0, 0.0, 3.2], \"z\": [0.0, 0.0, 0.0, 0.0]}, {\"hoverinfo\": \"text\", \"hoverlabel\": {\"align\": \"left\", \"bgcolor\": \"white\", \"bordercolor\": \"#404040\", \"font\": {\"color\": \"#404040\", \"family\": \"Arial\"}}, \"marker\": {\"color\": \"gray\", \"opacity\": 1e-07, \"size\": 20}, \"text\": [\"<b>BFS</b>: (0, 3.2, 0)<br><b>Obj</b>: 12.8\", \"<b>BFS</b>: (0, 0, 0)<br><b>Obj</b>: 0\", \"<b>BFS</b>: (5.333, 0, 0)<br><b>Obj</b>: 10.667\", \"<b>BFS</b>: (0, 2.857, 1.714)<br><b>Obj</b>: 13.143\", \"<b>BFS</b>: (0, -0, 6)<br><b>Obj</b>: 6\", \"<b>BFS</b>: (4, 0, 4)<br><b>Obj</b>: 12\"], \"type\": \"scatter3d\", \"x\": [0.0, 0.0, 5.333333333333, 0.0, 0.0, 4.0], \"y\": [3.2, 0.0, 0.0, 2.857142857143, -0.0, 0.0], \"z\": [0.0, 0.0, 0.0, 1.714285714286, 6.0, 4.0]}, {\"line\": {\"color\": \"#002659\", \"width\": 5}, \"mode\": \"lines\", \"opacity\": 0.30000000000000004, \"surfaceaxis\": 2, \"surfacecolor\": \"#003c8f\", \"type\": \"scatter3d\", \"x\": [0.0, 0.333333333333, 0.0, 0.0], \"y\": [3.2, 3.0, 3.0, 3.2], \"z\": [0.0, 0.0, 1.0, 0.0]}, {\"line\": {\"color\": \"#002659\", \"width\": 5}, \"mode\": \"lines\", \"opacity\": 0.30000000000000004, \"surfaceaxis\": 1, \"surfacecolor\": \"#003c8f\", \"type\": \"scatter3d\", \"x\": [-0.0, 0.333333333333, 0.0, -0.0], \"y\": [3.0, 3.0, 3.0, 3.0], \"z\": [-0.0, 0.0, 1.0, -0.0]}, {\"line\": {\"color\": \"#002659\", \"width\": 5}, \"mode\": \"lines\", \"opacity\": 0.30000000000000004, \"surfaceaxis\": 0, \"surfacecolor\": \"#003c8f\", \"type\": \"scatter3d\", \"x\": [0.0, -0.0, 0.0, 0.0], \"y\": [3.2, 3.0, 3.0, 3.2], \"z\": [0.0, -0.0, 1.0, 0.0]}, {\"line\": {\"color\": \"#002659\", \"width\": 5}, \"mode\": \"lines\", \"opacity\": 0.30000000000000004, \"surfaceaxis\": 2, \"surfacecolor\": \"#003c8f\", \"type\": \"scatter3d\", \"x\": [0.0, 0.333333333333, -0.0, 0.0], \"y\": [3.2, 3.0, 3.0, 3.2], \"z\": [0.0, 0.0, -0.0, 0.0]}, {\"hoverinfo\": \"text\", \"hoverlabel\": {\"align\": \"left\", \"bgcolor\": \"white\", \"bordercolor\": \"#404040\", \"font\": {\"color\": \"#404040\", \"family\": \"Arial\"}}, \"marker\": {\"color\": \"gray\", \"opacity\": 1e-07, \"size\": 20}, \"text\": [\"<b>BFS</b>: (0, 3, 1)<br><b>Obj</b>: 13\", \"<b>BFS</b>: (0, 3.2, 0)<br><b>Obj</b>: 12.8\", \"<b>BFS</b>: (-0, 3, -0)<br><b>Obj</b>: 12\", \"<b>BFS</b>: (0.333, 3, 0)<br><b>Obj</b>: 12.667\"], \"type\": \"scatter3d\", \"x\": [0.0, 0.0, -0.0, 0.333333333333], \"y\": [3.0, 3.2, 3.0, 3.0], \"z\": [1.0, 0.0, -0.0, 0.0]}, {\"line\": {\"color\": \"#003c8f\", \"width\": 5}, \"mode\": \"lines\", \"opacity\": 0.2, \"surfaceaxis\": 2, \"surfacecolor\": \"#1565c0\", \"type\": \"scatter3d\", \"x\": [0.0, 0.0, 1.0, 1.0, 0.0], \"y\": [2.0, 0.0, -0.0, 1.666666666667, 2.0], \"z\": [3.0, 6.0, 5.5, 3.0, 3.0]}, {\"line\": {\"color\": \"#003c8f\", \"width\": 5}, \"mode\": \"lines\", \"opacity\": 0.2, \"surfaceaxis\": 2, \"surfacecolor\": \"#1565c0\", \"type\": \"scatter3d\", \"x\": [0.0], \"y\": [2.0], \"z\": [3.0]}, {\"line\": {\"color\": \"#003c8f\", \"width\": 5}, \"mode\": \"lines\", \"opacity\": 0.2, \"surfaceaxis\": 0, \"surfacecolor\": \"#1565c0\", \"type\": \"scatter3d\", \"x\": [1.0, 1.0, 1.0, 1.0], \"y\": [1.666666666667, 0.0, -0.0, 1.666666666667], \"z\": [3.0, 3.0, 5.5, 3.0]}, {\"line\": {\"color\": \"#003c8f\", \"width\": 5}, \"mode\": \"lines\", \"opacity\": 0.2, \"surfaceaxis\": 2, \"surfacecolor\": \"#1565c0\", \"type\": \"scatter3d\", \"x\": [0.0, 1.0, 1.0, 0.0, 0.0], \"y\": [0.0, 0.0, 1.666666666667, 2.0, 0.0], \"z\": [3.0, 3.0, 3.0, 3.0, 3.0]}, {\"line\": {\"color\": \"#003c8f\", \"width\": 5}, \"mode\": \"lines\", \"opacity\": 0.2, \"surfaceaxis\": 0, \"surfacecolor\": \"#1565c0\", \"type\": \"scatter3d\", \"x\": [0.0, 0.0, 0.0, 0.0], \"y\": [2.0, 0.0, 0.0, 2.0], \"z\": [3.0, 6.0, 3.0, 3.0]}, {\"line\": {\"color\": \"#003c8f\", \"width\": 5}, \"mode\": \"lines\", \"opacity\": 0.2, \"surfaceaxis\": 1, \"surfacecolor\": \"#1565c0\", \"type\": \"scatter3d\", \"x\": [0.0, 0.0, 1.0, 1.0, 0.0], \"y\": [0.0, 0.0, -0.0, 0.0, 0.0], \"z\": [3.0, 6.0, 5.5, 3.0, 3.0]}, {\"hoverinfo\": \"text\", \"hoverlabel\": {\"align\": \"left\", \"bgcolor\": \"white\", \"bordercolor\": \"#404040\", \"font\": {\"color\": \"#404040\", \"family\": \"Arial\"}}, \"marker\": {\"color\": \"gray\", \"opacity\": 1e-07, \"size\": 20}, \"text\": [\"<b>BFS</b>: (0, 0, 3)<br><b>Obj</b>: 3\", \"<b>BFS</b>: (1, 0, 3)<br><b>Obj</b>: 5\", \"<b>BFS</b>: (0, 0, 6)<br><b>Obj</b>: 6\", \"<b>BFS</b>: (1, -0, 5.5)<br><b>Obj</b>: 7.5\", \"<b>BFS</b>: (0, 2, 3)<br><b>Obj</b>: 11\", \"<b>BFS</b>: (1, 1.667, 3)<br><b>Obj</b>: 11.667\"], \"type\": \"scatter3d\", \"x\": [0.0, 1.0, 0.0, 1.0, 0.0, 1.0], \"y\": [0.0, 0.0, 0.0, -0.0, 2.0, 1.666666666667], \"z\": [3.0, 3.0, 6.0, 5.5, 3.0, 3.0]}, {\"line\": {\"color\": \"#003c8f\", \"width\": 5}, \"mode\": \"lines\", \"opacity\": 0.2, \"surfaceaxis\": 1, \"surfacecolor\": \"#1565c0\", \"type\": \"scatter3d\", \"x\": [-0.0, 0.0, 1.0, 1.0, -0.0], \"y\": [2.0, 2.0, 2.0, 2.0, 2.0], \"z\": [2.0, 0.0, 0.0, 2.0, 2.0]}, {\"line\": {\"color\": \"#003c8f\", \"width\": 5}, \"mode\": \"lines\", \"opacity\": 0.2, \"surfaceaxis\": 0, \"surfacecolor\": \"#1565c0\", \"type\": \"scatter3d\", \"x\": [1.0, 1.0, 1.0, 1.0, 1.0], \"y\": [0.0, 0.0, 2.0, 2.0, 0.0], \"z\": [0.0, 2.0, 2.0, 0.0, 0.0]}, {\"line\": {\"color\": \"#003c8f\", \"width\": 5}, \"mode\": \"lines\", \"opacity\": 0.2, \"surfaceaxis\": 2, \"surfacecolor\": \"#1565c0\", \"type\": \"scatter3d\", \"x\": [1.0, 1.0, 0.0, -0.0, 1.0], \"y\": [2.0, 0.0, 0.0, 2.0, 2.0], \"z\": [2.0, 2.0, 2.0, 2.0, 2.0]}, {\"line\": {\"color\": \"#003c8f\", \"width\": 5}, \"mode\": \"lines\", \"opacity\": 0.2, \"surfaceaxis\": 0, \"surfacecolor\": \"#1565c0\", \"type\": \"scatter3d\", \"x\": [0.0, 0.0, 0.0, -0.0, 0.0], \"y\": [2.0, 0.0, 0.0, 2.0, 2.0], \"z\": [0.0, 0.0, 2.0, 2.0, 0.0]}, {\"line\": {\"color\": \"#003c8f\", \"width\": 5}, \"mode\": \"lines\", \"opacity\": 0.2, \"surfaceaxis\": 1, \"surfacecolor\": \"#1565c0\", \"type\": \"scatter3d\", \"x\": [1.0, 1.0, 0.0, 0.0, 1.0], \"y\": [0.0, 0.0, 0.0, 0.0, 0.0], \"z\": [0.0, 2.0, 2.0, 0.0, 0.0]}, {\"line\": {\"color\": \"#003c8f\", \"width\": 5}, \"mode\": \"lines\", \"opacity\": 0.2, \"surfaceaxis\": 2, \"surfacecolor\": \"#1565c0\", \"type\": \"scatter3d\", \"x\": [0.0, 0.0, 1.0, 1.0, 0.0], \"y\": [0.0, 2.0, 2.0, 0.0, 0.0], \"z\": [0.0, 0.0, 0.0, 0.0, 0.0]}, {\"hoverinfo\": \"text\", \"hoverlabel\": {\"align\": \"left\", \"bgcolor\": \"white\", \"bordercolor\": \"#404040\", \"font\": {\"color\": \"#404040\", \"family\": \"Arial\"}}, \"marker\": {\"color\": \"gray\", \"opacity\": 1e-07, \"size\": 20}, \"text\": [\"<b>BFS</b>: (0, 0, 0)<br><b>Obj</b>: 0\", \"<b>BFS</b>: (1, 0, 0)<br><b>Obj</b>: 2\", \"<b>BFS</b>: (0, 0, 2)<br><b>Obj</b>: 2\", \"<b>BFS</b>: (1, 0, 2)<br><b>Obj</b>: 4\", \"<b>BFS</b>: (1, 2, 0)<br><b>Obj</b>: 10\", \"<b>BFS</b>: (0, 2, 0)<br><b>Obj</b>: 8\", \"<b>BFS</b>: (1, 2, 2)<br><b>Obj</b>: 12\", \"<b>BFS</b>: (-0, 2, 2)<br><b>Obj</b>: 10\"], \"type\": \"scatter3d\", \"x\": [0.0, 1.0, 0.0, 1.0, 1.0, 0.0, 1.0, -0.0], \"y\": [0.0, 0.0, 0.0, 0.0, 2.0, 2.0, 2.0, 2.0], \"z\": [0.0, 0.0, 2.0, 2.0, 0.0, 0.0, 2.0, 2.0]}, {\"line\": {\"color\": \"#003c8f\", \"width\": 5}, \"mode\": \"lines\", \"opacity\": 0.2, \"surfaceaxis\": 2, \"surfacecolor\": \"#1565c0\", \"type\": \"scatter3d\", \"x\": [2.0], \"y\": [2.0], \"z\": [-0.0]}, {\"line\": {\"color\": \"#003c8f\", \"width\": 5}, \"mode\": \"lines\", \"opacity\": 0.2, \"surfaceaxis\": 2, \"surfacecolor\": \"#1565c0\", \"type\": \"scatter3d\", \"x\": [2.0], \"y\": [2.0], \"z\": [-0.0]}, {\"line\": {\"color\": \"#003c8f\", \"width\": 5}, \"mode\": \"lines\", \"opacity\": 0.2, \"surfaceaxis\": 2, \"surfacecolor\": \"#1565c0\", \"type\": \"scatter3d\", \"x\": [2.0], \"y\": [2.0], \"z\": [-0.0]}, {\"line\": {\"color\": \"#003c8f\", \"width\": 5}, \"mode\": \"lines\", \"opacity\": 0.2, \"surfaceaxis\": 2, \"surfacecolor\": \"#1565c0\", \"type\": \"scatter3d\", \"x\": [2.0], \"y\": [2.0], \"z\": [-0.0]}, {\"line\": {\"color\": \"#003c8f\", \"width\": 5}, \"mode\": \"lines\", \"opacity\": 0.2, \"surfaceaxis\": 2, \"surfacecolor\": \"#1565c0\", \"type\": \"scatter3d\", \"x\": [2.0], \"y\": [2.0], \"z\": [-0.0]}, {\"hoverinfo\": \"text\", \"hoverlabel\": {\"align\": \"left\", \"bgcolor\": \"white\", \"bordercolor\": \"#404040\", \"font\": {\"color\": \"#404040\", \"family\": \"Arial\"}}, \"marker\": {\"color\": \"gray\", \"opacity\": 1e-07, \"size\": 20}, \"text\": [\"<b>BFS</b>: (2, 2, -0)<br><b>Obj</b>: 12\"], \"type\": \"scatter3d\", \"x\": [2.0], \"y\": [2.0], \"z\": [-0.0]}, {\"line\": {\"color\": \"#003c8f\", \"width\": 5}, \"mode\": \"lines\", \"opacity\": 0.2, \"surfaceaxis\": 2, \"surfacecolor\": \"#1565c0\", \"type\": \"scatter3d\", \"x\": [2.0, 2.0], \"y\": [0.0, 1.0], \"z\": [5.0, 3.5]}, {\"line\": {\"color\": \"#003c8f\", \"width\": 5}, \"mode\": \"lines\", \"opacity\": 0.2, \"surfaceaxis\": 0, \"surfacecolor\": \"#1565c0\", \"type\": \"scatter3d\", \"x\": [2.0, 2.0, 2.0, 2.0, 2.0], \"y\": [1.0, 0.0, -0.0, 1.0, 1.0], \"z\": [3.5, 5.0, -0.0, -0.0, 3.5]}, {\"line\": {\"color\": \"#003c8f\", \"width\": 5}, \"mode\": \"lines\", \"opacity\": 0.2, \"surfaceaxis\": 2, \"surfacecolor\": \"#1565c0\", \"type\": \"scatter3d\", \"x\": [2.0, 2.0], \"y\": [1.0, 1.0], \"z\": [-0.0, 3.5]}, {\"line\": {\"color\": \"#003c8f\", \"width\": 5}, \"mode\": \"lines\", \"opacity\": 0.2, \"surfaceaxis\": 0, \"surfacecolor\": \"#1565c0\", \"type\": \"scatter3d\", \"x\": [2.0, 2.0, 2.0, 2.0, 2.0], \"y\": [1.0, 0.0, -0.0, 1.0, 1.0], \"z\": [3.5, 5.0, -0.0, -0.0, 3.5]}, {\"line\": {\"color\": \"#003c8f\", \"width\": 5}, \"mode\": \"lines\", \"opacity\": 0.2, \"surfaceaxis\": 2, \"surfacecolor\": \"#1565c0\", \"type\": \"scatter3d\", \"x\": [2.0, 2.0], \"y\": [0.0, -0.0], \"z\": [5.0, -0.0]}, {\"line\": {\"color\": \"#003c8f\", \"width\": 5}, \"mode\": \"lines\", \"opacity\": 0.2, \"surfaceaxis\": 2, \"surfacecolor\": \"#1565c0\", \"type\": \"scatter3d\", \"x\": [2.0, 2.0], \"y\": [1.0, -0.0], \"z\": [-0.0, -0.0]}, {\"hoverinfo\": \"text\", \"hoverlabel\": {\"align\": \"left\", \"bgcolor\": \"white\", \"bordercolor\": \"#404040\", \"font\": {\"color\": \"#404040\", \"family\": \"Arial\"}}, \"marker\": {\"color\": \"gray\", \"opacity\": 1e-07, \"size\": 20}, \"text\": [\"<b>BFS</b>: (2, -0, -0)<br><b>Obj</b>: 4\", \"<b>BFS</b>: (2, 0, 5)<br><b>Obj</b>: 9\", \"<b>BFS</b>: (2, 1, -0)<br><b>Obj</b>: 8\", \"<b>BFS</b>: (2, 1, 3.5)<br><b>Obj</b>: 11.5\"], \"type\": \"scatter3d\", \"x\": [2.0, 2.0, 2.0, 2.0], \"y\": [-0.0, 0.0, 1.0, 1.0], \"z\": [-0.0, 5.0, -0.0, 3.5]}, {\"line\": {\"color\": \"#003c8f\", \"width\": 5}, \"mode\": \"lines\", \"opacity\": 0.2, \"surfaceaxis\": 2, \"surfacecolor\": \"#1565c0\", \"type\": \"scatter3d\", \"x\": [3.666666666667, 3.0], \"y\": [1.0, 1.0], \"z\": [-0.0, 2.0]}, {\"line\": {\"color\": \"#003c8f\", \"width\": 5}, \"mode\": \"lines\", \"opacity\": 0.2, \"surfaceaxis\": 1, \"surfacecolor\": \"#1565c0\", \"type\": \"scatter3d\", \"x\": [3.666666666667, 3.0, 3.0, 3.666666666667], \"y\": [1.0, 1.0, 1.0, 1.0], \"z\": [-0.0, -0.0, 2.0, -0.0]}, {\"line\": {\"color\": \"#003c8f\", \"width\": 5}, \"mode\": \"lines\", \"opacity\": 0.2, \"surfaceaxis\": 2, \"surfacecolor\": \"#1565c0\", \"type\": \"scatter3d\", \"x\": [3.0, 3.0], \"y\": [1.0, 1.0], \"z\": [-0.0, 2.0]}, {\"line\": {\"color\": \"#003c8f\", \"width\": 5}, \"mode\": \"lines\", \"opacity\": 0.2, \"surfaceaxis\": 1, \"surfacecolor\": \"#1565c0\", \"type\": \"scatter3d\", \"x\": [3.666666666667, 3.0, 3.0, 3.666666666667], \"y\": [1.0, 1.0, 1.0, 1.0], \"z\": [-0.0, -0.0, 2.0, -0.0]}, {\"line\": {\"color\": \"#003c8f\", \"width\": 5}, \"mode\": \"lines\", \"opacity\": 0.2, \"surfaceaxis\": 2, \"surfacecolor\": \"#1565c0\", \"type\": \"scatter3d\", \"x\": [3.666666666667, 3.0], \"y\": [1.0, 1.0], \"z\": [-0.0, -0.0]}, {\"hoverinfo\": \"text\", \"hoverlabel\": {\"align\": \"left\", \"bgcolor\": \"white\", \"bordercolor\": \"#404040\", \"font\": {\"color\": \"#404040\", \"family\": \"Arial\"}}, \"marker\": {\"color\": \"gray\", \"opacity\": 1e-07, \"size\": 20}, \"text\": [\"<b>BFS</b>: (3, 1, -0)<br><b>Obj</b>: 10\", \"<b>BFS</b>: (3, 1, 2)<br><b>Obj</b>: 12\", \"<b>BFS</b>: (3.667, 1, -0)<br><b>Obj</b>: 11.333\"], \"type\": \"scatter3d\", \"x\": [3.0, 3.0, 3.666666666667], \"y\": [1.0, 1.0, 1.0], \"z\": [-0.0, 2.0, -0.0]}, {\"line\": {\"color\": \"#003c8f\", \"width\": 5}, \"mode\": \"lines\", \"opacity\": 0.2, \"surfaceaxis\": 2, \"surfacecolor\": \"#1565c0\", \"type\": \"scatter3d\", \"x\": [4.0, 3.0], \"y\": [0.0, 0.0], \"z\": [4.0, 4.5]}, {\"line\": {\"color\": \"#003c8f\", \"width\": 5}, \"mode\": \"lines\", \"opacity\": 0.2, \"surfaceaxis\": 2, \"surfacecolor\": \"#1565c0\", \"type\": \"scatter3d\", \"x\": [4.0, 5.333333333333], \"y\": [0.0, 0.0], \"z\": [4.0, -0.0]}, {\"line\": {\"color\": \"#003c8f\", \"width\": 5}, \"mode\": \"lines\", \"opacity\": 0.2, \"surfaceaxis\": 2, \"surfacecolor\": \"#1565c0\", \"type\": \"scatter3d\", \"x\": [3.0, 3.0], \"y\": [0.0, 0.0], \"z\": [-0.0, 4.5]}, {\"line\": {\"color\": \"#003c8f\", \"width\": 5}, \"mode\": \"lines\", \"opacity\": 0.2, \"surfaceaxis\": 1, \"surfacecolor\": \"#1565c0\", \"type\": \"scatter3d\", \"x\": [3.0, 3.0, 4.0, 5.333333333333, 3.0], \"y\": [0.0, 0.0, 0.0, 0.0, 0.0], \"z\": [-0.0, 4.5, 4.0, -0.0, -0.0]}, {\"line\": {\"color\": \"#003c8f\", \"width\": 5}, \"mode\": \"lines\", \"opacity\": 0.2, \"surfaceaxis\": 1, \"surfacecolor\": \"#1565c0\", \"type\": \"scatter3d\", \"x\": [3.0, 3.0, 4.0, 5.333333333333, 3.0], \"y\": [0.0, 0.0, 0.0, 0.0, 0.0], \"z\": [-0.0, 4.5, 4.0, -0.0, -0.0]}, {\"line\": {\"color\": \"#003c8f\", \"width\": 5}, \"mode\": \"lines\", \"opacity\": 0.2, \"surfaceaxis\": 2, \"surfacecolor\": \"#1565c0\", \"type\": \"scatter3d\", \"x\": [3.0, 5.333333333333], \"y\": [0.0, 0.0], \"z\": [-0.0, -0.0]}, {\"hoverinfo\": \"text\", \"hoverlabel\": {\"align\": \"left\", \"bgcolor\": \"white\", \"bordercolor\": \"#404040\", \"font\": {\"color\": \"#404040\", \"family\": \"Arial\"}}, \"marker\": {\"color\": \"gray\", \"opacity\": 1e-07, \"size\": 20}, \"text\": [\"<b>BFS</b>: (3, 0, -0)<br><b>Obj</b>: 6\", \"<b>BFS</b>: (3, 0, 4.5)<br><b>Obj</b>: 10.5\", \"<b>BFS</b>: (4, 0, 4)<br><b>Obj</b>: 12\", \"<b>BFS</b>: (5.333, 0, -0)<br><b>Obj</b>: 10.667\"], \"type\": \"scatter3d\", \"x\": [3.0, 3.0, 4.0, 5.333333333333], \"y\": [0.0, 0.0, 0.0, 0.0], \"z\": [-0.0, 4.5, 4.0, -0.0]}, {\"mode\": \"none\", \"name\": \"x<sub>2</sub> \\u2264 2\", \"opacity\": 0.5, \"showlegend\": true, \"surfaceaxis\": 1, \"surfacecolor\": \"gray\", \"type\": \"scatter3d\", \"visible\": \"legendonly\", \"x\": [0.0, 6.9333333333329, 6.9333333333329, 0.0, 0.0], \"y\": [2.0, 2.0, 2.0, 2.0, 2.0], \"z\": [7.800000000000001, 7.800000000000001, 0.0, 0.0, 7.800000000000001]}, {\"mode\": \"none\", \"name\": \"x<sub>2</sub> \\u2265 3\", \"opacity\": 0.5, \"showlegend\": true, \"surfaceaxis\": 1, \"surfacecolor\": \"gray\", \"type\": \"scatter3d\", \"visible\": \"legendonly\", \"x\": [0.0, 6.9333333333329, 6.9333333333329, 0.0, 0.0], \"y\": [3.0, 3.0, 3.0, 3.0, 3.0], \"z\": [0.0, 0.0, 7.800000000000001, 7.800000000000001, 0.0]}, {\"type\": \"scatter3d\", \"visible\": true, \"x\": [0.0], \"y\": [3.0], \"z\": [0.9999999999999998]}, {\"marker\": {\"color\": \"#d50000\", \"symbol\": \"circle\"}, \"type\": \"scatter3d\", \"x\": [0.0], \"y\": [3.0], \"z\": [0.9999999999999998]}, {\"mode\": \"none\", \"opacity\": 0.3, \"surfaceaxis\": 2, \"surfacecolor\": \"gray\", \"type\": \"scatter3d\", \"visible\": false, \"x\": [6.9333333333329, 6.9333333333329, 0.0, 0.0, 6.9333333333329], \"y\": [0.0, 4.16, 4.16, 0.0, 0.0], \"z\": [-13.8666666666658, -30.5066666666658, -16.64, 0.0, -13.8666666666658]}, {\"mode\": \"none\", \"opacity\": 0.3, \"surfaceaxis\": 2, \"surfacecolor\": \"gray\", \"type\": \"scatter3d\", \"visible\": false, \"x\": [0.0, 6.9333333333329, 6.9333333333329, 0.0, 0.0], \"y\": [4.16, 4.16, 0.0, 0.0, 4.16], \"z\": [-15.040000000000001, -28.9066666666658, -12.2666666666658, 1.6, -15.040000000000001]}, {\"mode\": \"none\", \"opacity\": 0.3, \"surfaceaxis\": 2, \"surfacecolor\": \"gray\", \"type\": \"scatter3d\", \"visible\": false, \"x\": [6.9333333333329, 0.0, 0.0, 6.9333333333329, 6.9333333333329], \"y\": [4.16, 4.16, 0.0, 0.0, 4.16], \"z\": [-27.316666666665803, -13.450000000000001, 3.19, -10.6766666666658, -27.316666666665803]}, {\"mode\": \"none\", \"opacity\": 0.3, \"surfaceaxis\": 2, \"surfacecolor\": \"gray\", \"type\": \"scatter3d\", \"visible\": false, \"x\": [6.9333333333329, 0.0, 0.0, 6.9333333333329, 6.9333333333329], \"y\": [4.16, 4.16, 0.0, 0.0, 4.16], \"z\": [-25.7166666666658, -11.850000000000001, 4.79, -9.076666666665801, -25.7166666666658]}, {\"mode\": \"none\", \"opacity\": 0.3, \"surfaceaxis\": 2, \"surfacecolor\": \"gray\", \"type\": \"scatter3d\", \"visible\": false, \"x\": [0.0, 0.0, 6.9333333333329, 6.9333333333329, 0.0], \"y\": [4.16, 0.0, 0.0, 4.16, 4.16], \"z\": [-10.260000000000002, 6.38, -7.4866666666658, -24.126666666665802, -10.260000000000002]}, {\"mode\": \"none\", \"opacity\": 0.3, \"surfaceaxis\": 2, \"surfacecolor\": \"gray\", \"type\": \"scatter3d\", \"visible\": false, \"x\": [6.9333333333329, 0.0, 0.0, 6.9333333333329, 6.9333333333329], \"y\": [0.0, 0.0, 4.16, 4.16, 0.0], \"z\": [-5.8866666666658, 7.98, -8.66, -22.5266666666658, -5.8866666666658]}, {\"mode\": \"none\", \"opacity\": 0.3, \"surfaceaxis\": 2, \"surfacecolor\": \"gray\", \"type\": \"scatter3d\", \"visible\": false, \"x\": [0.0, 6.9333333333329, 6.9333333333329, 0.0, 0.0], \"y\": [4.16, 4.16, 0.0, 0.0, 4.16], \"z\": [-7.0600000000000005, -20.926666666665803, -4.2866666666658, 9.58, -7.0600000000000005]}, {\"mode\": \"none\", \"opacity\": 0.3, \"surfaceaxis\": 2, \"surfacecolor\": \"gray\", \"type\": \"scatter3d\", \"visible\": false, \"x\": [6.9333333333329, 0.0, 0.0, 6.9333333333329, 6.9333333333329], \"y\": [4.16, 4.16, 0.0, 0.0, 4.16], \"z\": [-19.3366666666658, -5.470000000000001, 11.17, -2.6966666666658003, -19.3366666666658]}, {\"mode\": \"none\", \"opacity\": 0.3, \"surfaceaxis\": 2, \"surfacecolor\": \"gray\", \"type\": \"scatter3d\", \"visible\": false, \"x\": [6.9333333333329, 6.9333333333329, 0.0, 0.0, 6.9333333333329], \"y\": [4.16, 0.0, 0.0, 4.16, 4.16], \"z\": [-17.7366666666658, -1.0966666666658007, 12.77, -3.870000000000001, -17.7366666666658]}, {\"line\": {\"color\": \"#d50000\", \"width\": 5}, \"marker\": {\"color\": \"#d50000\", \"size\": 5, \"symbol\": \"circle\"}, \"mode\": \"lines+markers\", \"surfaceaxis\": 2, \"surfacecolor\": \"#d50000\", \"type\": \"scatter3d\", \"visible\": false, \"x\": [0.0, 0.23, 0.075, 0.0, 0.0], \"y\": [3.0, 3.0, 3.155, 3.1925, 3.0], \"z\": [0.77, 0.31, 0.0, 0.0, 0.77]}, {\"mode\": \"none\", \"opacity\": 0.3, \"surfaceaxis\": 2, \"surfacecolor\": \"gray\", \"type\": \"scatter3d\", \"visible\": false, \"x\": [0.0, 6.9333333333329, 6.9333333333329, 0.0, 0.0], \"y\": [0.0, 0.0, 4.16, 4.16, 0.0], \"z\": [13.0, -0.8666666666658003, -17.5066666666658, -3.6400000000000006, 13.0]}, {\"line\": {\"color\": \"#d50000\", \"width\": 5}, \"marker\": {\"color\": \"#d50000\", \"size\": 5, \"symbol\": \"circle\"}, \"mode\": \"lines+markers\", \"surfaceaxis\": 2, \"surfacecolor\": \"#d50000\", \"type\": \"scatter3d\", \"visible\": false, \"x\": [-0.0], \"y\": [3.0], \"z\": [1.0]}, {\"mode\": \"none\", \"opacity\": 0.3, \"surfaceaxis\": 2, \"surfacecolor\": \"gray\", \"type\": \"scatter3d\", \"visible\": false, \"x\": [0.0, 0.0, 6.9333333333329, 6.9333333333329, 0.0], \"y\": [0.0, 4.16, 4.16, 0.0, 0.0], \"z\": [14.36, -2.280000000000001, -16.1466666666658, 0.49333333333419915, 14.36]}, {\"mode\": \"none\", \"opacity\": 0.3, \"surfaceaxis\": 2, \"surfacecolor\": \"gray\", \"type\": \"scatter3d\", \"visible\": false, \"x\": [0.0, 6.9333333333329, 6.9333333333329, 0.0, 0.0], \"y\": [4.16, 4.16, 0.0, 0.0, 4.16], \"z\": [-0.6799999999999997, -14.5466666666658, 2.0933333333342006, 15.96, -0.6799999999999997]}, {\"mode\": \"none\", \"opacity\": 0.3, \"surfaceaxis\": 2, \"surfacecolor\": \"gray\", \"type\": \"scatter3d\", \"visible\": false, \"x\": [6.9333333333329, 6.9333333333329, 0.0, 0.0, 6.9333333333329], \"y\": [0.0, 4.16, 4.16, 0.0, 0.0], \"z\": [3.6933333333341984, -12.946666666665802, 0.9199999999999982, 17.56, 3.6933333333341984]}, {\"mode\": \"none\", \"opacity\": 0.3, \"surfaceaxis\": 2, \"surfacecolor\": \"gray\", \"type\": \"scatter3d\", \"visible\": false, \"x\": [6.9333333333329, 0.0, 0.0, 6.9333333333329, 6.9333333333329], \"y\": [0.0, 0.0, 4.16, 4.16, 0.0], \"z\": [5.283333333334198, 19.15, 2.509999999999998, -11.356666666665802, 5.283333333334198]}, {\"mode\": \"none\", \"opacity\": 0.3, \"surfaceaxis\": 2, \"surfacecolor\": \"gray\", \"type\": \"scatter3d\", \"visible\": false, \"x\": [6.9333333333329, 6.9333333333329, 0.0, 0.0, 6.9333333333329], \"y\": [4.16, 0.0, 0.0, 4.16, 4.16], \"z\": [-9.7566666666658, 6.8833333333342, 20.75, 4.109999999999999, -9.7566666666658]}, {\"mode\": \"none\", \"opacity\": 0.3, \"surfaceaxis\": 2, \"surfacecolor\": \"gray\", \"type\": \"scatter3d\", \"visible\": false, \"x\": [0.0, 6.9333333333329, 6.9333333333329, 0.0, 0.0], \"y\": [0.0, 0.0, 4.16, 4.16, 0.0], \"z\": [22.35, 8.483333333334201, -8.1566666666658, 5.710000000000001, 22.35]}, {\"mode\": \"none\", \"opacity\": 0.3, \"surfaceaxis\": 2, \"surfacecolor\": \"gray\", \"type\": \"scatter3d\", \"visible\": false, \"x\": [6.9333333333329, 6.9333333333329, 0.0, 0.0, 6.9333333333329], \"y\": [0.0, 4.16, 4.16, 0.0, 0.0], \"z\": [10.073333333334201, -6.5666666666658, 7.300000000000001, 23.94, 10.073333333334201]}, {\"mode\": \"none\", \"opacity\": 0.3, \"surfaceaxis\": 2, \"surfacecolor\": \"gray\", \"type\": \"scatter3d\", \"visible\": false, \"x\": [6.9333333333329, 6.9333333333329, 0.0, 0.0, 6.9333333333329], \"y\": [0.0, 4.16, 4.16, 0.0, 0.0], \"z\": [11.673333333334199, -4.966666666665802, 8.899999999999999, 25.54, 11.673333333334199]}, {\"mode\": \"none\", \"opacity\": 0.3, \"surfaceaxis\": 2, \"surfacecolor\": \"gray\", \"type\": \"scatter3d\", \"visible\": false, \"x\": [0.0, 0.0, 6.9333333333329, 6.9333333333329, 0.0], \"y\": [0.0, 4.16, 4.16, 0.0, 0.0], \"z\": [27.13, 10.489999999999998, -3.376666666665802, 13.263333333334199, 27.13]}, {\"mode\": \"none\", \"opacity\": 0.3, \"surfaceaxis\": 2, \"surfacecolor\": \"gray\", \"type\": \"scatter3d\", \"visible\": false, \"x\": [6.9333333333329, 6.9333333333329, 0.0, 0.0, 6.9333333333329], \"y\": [0.0, 4.16, 4.16, 0.0, 0.0], \"z\": [14.8633333333342, -1.7766666666658004, 12.09, 28.73, 14.8633333333342]}, {\"mode\": \"none\", \"opacity\": 0.3, \"surfaceaxis\": 2, \"surfacecolor\": \"gray\", \"type\": \"scatter3d\", \"visible\": false, \"x\": [0.0, 6.9333333333329, 6.9333333333329, 0.0, 0.0], \"y\": [0.0, 0.0, 4.16, 4.16, 0.0], \"z\": [30.33, 16.463333333334198, -0.17666666666580255, 13.689999999999998, 30.33]}, {\"mode\": \"none\", \"opacity\": 0.3, \"surfaceaxis\": 2, \"surfacecolor\": \"gray\", \"type\": \"scatter3d\", \"visible\": false, \"x\": [6.9333333333329, 6.9333333333329, 0.0, 0.0, 6.9333333333329], \"y\": [0.0, 4.16, 4.16, 0.0, 0.0], \"z\": [18.0533333333342, 1.4133333333342009, 15.280000000000001, 31.92, 18.0533333333342]}, {\"mode\": \"none\", \"opacity\": 0.3, \"surfaceaxis\": 2, \"surfacecolor\": \"gray\", \"type\": \"scatter3d\", \"visible\": false, \"x\": [6.9333333333329, 6.9333333333329, 0.0, 0.0, 6.9333333333329], \"y\": [0.0, 4.16, 4.16, 0.0, 0.0], \"z\": [19.653333333334203, 3.0133333333342023, 16.880000000000003, 33.52, 19.653333333334203]}, {\"mode\": \"none\", \"opacity\": 0.3, \"surfaceaxis\": 2, \"surfacecolor\": \"gray\", \"type\": \"scatter3d\", \"visible\": false, \"x\": [0.0, 6.9333333333329, 6.9333333333329, 0.0, 0.0], \"y\": [4.16, 4.16, 0.0, 0.0, 4.16], \"z\": [18.47, 4.603333333334199, 21.2433333333342, 35.11, 18.47]}, {\"mode\": \"none\", \"opacity\": 0.3, \"surfaceaxis\": 2, \"surfacecolor\": \"gray\", \"type\": \"scatter3d\", \"visible\": false, \"x\": [6.9333333333329, 0.0, 0.0, 6.9333333333329, 6.9333333333329], \"y\": [4.16, 4.16, 0.0, 0.0, 4.16], \"z\": [6.2033333333342, 20.07, 36.71, 22.8433333333342, 6.2033333333342]}, {\"mode\": \"none\", \"opacity\": 0.3, \"surfaceaxis\": 2, \"surfacecolor\": \"gray\", \"type\": \"scatter3d\", \"visible\": false, \"x\": [6.9333333333329, 0.0, 0.0, 6.9333333333329, 6.9333333333329], \"y\": [0.0, 0.0, 4.16, 4.16, 0.0], \"z\": [24.443333333334202, 38.31, 21.67, 7.803333333334201, 24.443333333334202]}],                        {\"annotations\": [{\"templateitemname\": \"explored\", \"text\": \"<br>13.143<br>x* = (0, 2.857, 1.714)\", \"visible\": true, \"x\": 0.5, \"xref\": \"x\", \"y\": 0.9, \"yref\": \"y\"}, {\"templateitemname\": \"explored\", \"text\": \"x<sub>2</sub> \\u2264 2<br>12.8<br>x* = (1.2, 2, 2.4)\", \"visible\": true, \"x\": 0.25, \"xref\": \"x\", \"y\": 0.7571428571428571, \"yref\": \"y\"}, {\"templateitemname\": \"current\", \"text\": \"x<sub>2</sub> \\u2265 3<br>13<br>x* = (0, 3, 1)\", \"visible\": true, \"x\": 0.75, \"xref\": \"x\", \"y\": 0.7571428571428571, \"yref\": \"y\"}, {\"templateitemname\": \"explored\", \"text\": \"x<sub>1</sub> \\u2264 1<br>12.5<br>x* = (1, 2, 2.5)\", \"visible\": true, \"x\": 0.125, \"xref\": \"x\", \"y\": 0.5857142857142857, \"yref\": \"y\"}, {\"templateitemname\": \"explored\", \"text\": \"x<sub>1</sub> \\u2265 2<br>12.571<br>x* = (2, 1.429, 2.857)\", \"visible\": true, \"x\": 0.375, \"xref\": \"x\", \"y\": 0.5857142857142857, \"yref\": \"y\"}, {\"templateitemname\": \"explored\", \"text\": \"x<sub>3</sub> \\u2264 2<br>12<br>x* = (1, 2, 2)\", \"visible\": true, \"x\": 0.09999999999999992, \"xref\": \"x\", \"y\": 0.41428571428571426, \"yref\": \"y\"}, {\"templateitemname\": \"explored\", \"text\": \"x<sub>3</sub> \\u2265 3<br>11.667<br>x* = (1, 1.667, 3)\", \"visible\": true, \"x\": 0.29999999999999993, \"xref\": \"x\", \"y\": 0.41428571428571426, \"yref\": \"y\"}, {\"templateitemname\": \"explored\", \"text\": \"x<sub>2</sub> \\u2264 1<br>12.4<br>x* = (2.6, 1, 3.2)\", \"visible\": true, \"x\": 0.49999999999999994, \"xref\": \"x\", \"y\": 0.41428571428571426, \"yref\": \"y\"}, {\"templateitemname\": \"explored\", \"text\": \"x<sub>2</sub> \\u2265 2<br>12<br>x* = (2, 2, 0)\", \"visible\": true, \"x\": 0.7, \"xref\": \"x\", \"y\": 0.41428571428571426, \"yref\": \"y\"}, {\"templateitemname\": \"explored\", \"text\": \"x<sub>1</sub> \\u2264 2<br>11.5<br>x* = (2, 1, 3.5)\", \"visible\": true, \"x\": 0.3999999999999999, \"xref\": \"x\", \"y\": 0.24285714285714277, \"yref\": \"y\"}, {\"templateitemname\": \"explored\", \"text\": \"x<sub>1</sub> \\u2265 3<br>12.286<br>x* = (3, 0.714, 3.429)\", \"visible\": true, \"x\": 0.6, \"xref\": \"x\", \"y\": 0.24285714285714277, \"yref\": \"y\"}, {\"templateitemname\": \"explored\", \"text\": \"x<sub>2</sub> \\u2264 0<br>12<br>x* = (4, -0, 4)\", \"visible\": true, \"x\": 0.49999999999999994, \"xref\": \"x\", \"y\": 0.0714285714285714, \"yref\": \"y\"}, {\"templateitemname\": \"explored\", \"text\": \"x<sub>2</sub> \\u2265 1<br>12<br>x* = (3, 1, 2)\", \"visible\": true, \"x\": 0.7, \"xref\": \"x\", \"y\": 0.0714285714285714, \"yref\": \"y\"}], \"scene\": {\"domain\": {\"x\": [0.0, 0.39473684210526316], \"y\": [0.0, 1.0]}, \"xaxis\": {\"range\": [0, 6.9333333333329]}, \"yaxis\": {\"range\": [0, 4.16]}, \"zaxis\": {\"range\": [0, 7.800000000000001]}}, \"sliders\": [{\"active\": 0, \"currentvalue\": {\"prefix\": \"Objective Value: \"}, \"len\": 0.39473684210526316, \"lenmode\": \"fraction\", \"steps\": [{\"args\": [{\"visible\": [false, null, null, null, null, null, null, null, null, null, null, null, null, null, null, null, null, null, null, null, null, null, null, null, null, null, null, null, null, null, null, null, null, null, null, null, null, null, null, null, null, null, null, null, null, null, null, null, null, null, null, null, null, \"legendonly\", \"legendonly\", true, null, true, false, false, false, false, false, false, false, false, false, false, false, false, false, false, false, false, false, false, false, false, false, false, false, false, false, false, false]}], \"label\": \"0.0\", \"method\": \"update\"}, {\"args\": [{\"visible\": [false, null, null, null, null, null, null, null, null, null, null, null, null, null, null, null, null, null, null, null, null, null, null, null, null, null, null, null, null, null, null, null, null, null, null, null, null, null, null, null, null, null, null, null, null, null, null, null, null, null, null, null, null, \"legendonly\", \"legendonly\", true, null, false, true, false, false, false, false, false, false, false, false, false, false, false, false, false, false, false, false, false, false, false, false, false, false, false, false, false, false]}], \"label\": \"1.6\", \"method\": \"update\"}, {\"args\": [{\"visible\": [false, null, null, null, null, null, null, null, null, null, null, null, null, null, null, null, null, null, null, null, null, null, null, null, null, null, null, null, null, null, null, null, null, null, null, null, null, null, null, null, null, null, null, null, null, null, null, null, null, null, null, null, null, \"legendonly\", \"legendonly\", true, null, false, false, true, false, false, false, false, false, false, false, false, false, false, false, false, false, false, false, false, false, false, false, false, false, false, false, false, false]}], \"label\": \"3.19\", \"method\": \"update\"}, {\"args\": [{\"visible\": [false, null, null, null, null, null, null, null, null, null, null, null, null, null, null, null, null, null, null, null, null, null, null, null, null, null, null, null, null, null, null, null, null, null, null, null, null, null, null, null, null, null, null, null, null, null, null, null, null, null, null, null, null, \"legendonly\", \"legendonly\", true, null, false, false, false, true, false, false, false, false, false, false, false, false, false, false, false, false, false, false, false, false, false, false, false, false, false, false, false, false]}], \"label\": \"4.79\", \"method\": \"update\"}, {\"args\": [{\"visible\": [false, null, null, null, null, null, null, null, null, null, null, null, null, null, null, null, null, null, null, null, null, null, null, null, null, null, null, null, null, null, null, null, null, null, null, null, null, null, null, null, null, null, null, null, null, null, null, null, null, null, null, null, null, \"legendonly\", \"legendonly\", true, null, false, false, false, false, true, false, false, false, false, false, false, false, false, false, false, false, false, false, false, false, false, false, false, false, false, false, false, false]}], \"label\": \"6.38\", \"method\": \"update\"}, {\"args\": [{\"visible\": [false, null, null, null, null, null, null, null, null, null, null, null, null, null, null, null, null, null, null, null, null, null, null, null, null, null, null, null, null, null, null, null, null, null, null, null, null, null, null, null, null, null, null, null, null, null, null, null, null, null, null, null, null, \"legendonly\", \"legendonly\", true, null, false, false, false, false, false, true, false, false, false, false, false, false, false, false, false, false, false, false, false, false, false, false, false, false, false, false, false, false]}], \"label\": \"7.98\", \"method\": \"update\"}, {\"args\": [{\"visible\": [false, null, null, null, null, null, null, null, null, null, null, null, null, null, null, null, null, null, null, null, null, null, null, null, null, null, null, null, null, null, null, null, null, null, null, null, null, null, null, null, null, null, null, null, null, null, null, null, null, null, null, null, null, \"legendonly\", \"legendonly\", true, null, false, false, false, false, false, false, true, false, false, false, false, false, false, false, false, false, false, false, false, false, false, false, false, false, false, false, false, false]}], \"label\": \"9.58\", \"method\": \"update\"}, {\"args\": [{\"visible\": [false, null, null, null, null, null, null, null, null, null, null, null, null, null, null, null, null, null, null, null, null, null, null, null, null, null, null, null, null, null, null, null, null, null, null, null, null, null, null, null, null, null, null, null, null, null, null, null, null, null, null, null, null, \"legendonly\", \"legendonly\", true, null, false, false, false, false, false, false, false, true, false, false, false, false, false, false, false, false, false, false, false, false, false, false, false, false, false, false, false, false]}], \"label\": \"11.17\", \"method\": \"update\"}, {\"args\": [{\"visible\": [false, null, null, null, null, null, null, null, null, null, null, null, null, null, null, null, null, null, null, null, null, null, null, null, null, null, null, null, null, null, null, null, null, null, null, null, null, null, null, null, null, null, null, null, null, null, null, null, null, null, null, null, null, \"legendonly\", \"legendonly\", true, null, false, false, false, false, false, false, false, false, true, true, false, false, false, false, false, false, false, false, false, false, false, false, false, false, false, false, false, false]}], \"label\": \"12.77\", \"method\": \"update\"}, {\"args\": [{\"visible\": [false, null, null, null, null, null, null, null, null, null, null, null, null, null, null, null, null, null, null, null, null, null, null, null, null, null, null, null, null, null, null, null, null, null, null, null, null, null, null, null, null, null, null, null, null, null, null, null, null, null, null, null, null, \"legendonly\", \"legendonly\", true, null, false, false, false, false, false, false, false, false, false, false, true, true, false, false, false, false, false, false, false, false, false, false, false, false, false, false, false, false]}], \"label\": \"13.0\", \"method\": \"update\"}, {\"args\": [{\"visible\": [false, null, null, null, null, null, null, null, null, null, null, null, null, null, null, null, null, null, null, null, null, null, null, null, null, null, null, null, null, null, null, null, null, null, null, null, null, null, null, null, null, null, null, null, null, null, null, null, null, null, null, null, null, \"legendonly\", \"legendonly\", true, null, false, false, false, false, false, false, false, false, false, false, false, false, true, false, false, false, false, false, false, false, false, false, false, false, false, false, false, false]}], \"label\": \"14.36\", \"method\": \"update\"}, {\"args\": [{\"visible\": [false, null, null, null, null, null, null, null, null, null, null, null, null, null, null, null, null, null, null, null, null, null, null, null, null, null, null, null, null, null, null, null, null, null, null, null, null, null, null, null, null, null, null, null, null, null, null, null, null, null, null, null, null, \"legendonly\", \"legendonly\", true, null, false, false, false, false, false, false, false, false, false, false, false, false, false, true, false, false, false, false, false, false, false, false, false, false, false, false, false, false]}], \"label\": \"15.96\", \"method\": \"update\"}, {\"args\": [{\"visible\": [false, null, null, null, null, null, null, null, null, null, null, null, null, null, null, null, null, null, null, null, null, null, null, null, null, null, null, null, null, null, null, null, null, null, null, null, null, null, null, null, null, null, null, null, null, null, null, null, null, null, null, null, null, \"legendonly\", \"legendonly\", true, null, false, false, false, false, false, false, false, false, false, false, false, false, false, false, true, false, false, false, false, false, false, false, false, false, false, false, false, false]}], \"label\": \"17.56\", \"method\": \"update\"}, {\"args\": [{\"visible\": [false, null, null, null, null, null, null, null, null, null, null, null, null, null, null, null, null, null, null, null, null, null, null, null, null, null, null, null, null, null, null, null, null, null, null, null, null, null, null, null, null, null, null, null, null, null, null, null, null, null, null, null, null, \"legendonly\", \"legendonly\", true, null, false, false, false, false, false, false, false, false, false, false, false, false, false, false, false, true, false, false, false, false, false, false, false, false, false, false, false, false]}], \"label\": \"19.15\", \"method\": \"update\"}, {\"args\": [{\"visible\": [false, null, null, null, null, null, null, null, null, null, null, null, null, null, null, null, null, null, null, null, null, null, null, null, null, null, null, null, null, null, null, null, null, null, null, null, null, null, null, null, null, null, null, null, null, null, null, null, null, null, null, null, null, \"legendonly\", \"legendonly\", true, null, false, false, false, false, false, false, false, false, false, false, false, false, false, false, false, false, true, false, false, false, false, false, false, false, false, false, false, false]}], \"label\": \"20.75\", \"method\": \"update\"}, {\"args\": [{\"visible\": [false, null, null, null, null, null, null, null, null, null, null, null, null, null, null, null, null, null, null, null, null, null, null, null, null, null, null, null, null, null, null, null, null, null, null, null, null, null, null, null, null, null, null, null, null, null, null, null, null, null, null, null, null, \"legendonly\", \"legendonly\", true, null, false, false, false, false, false, false, false, false, false, false, false, false, false, false, false, false, false, true, false, false, false, false, false, false, false, false, false, false]}], \"label\": \"22.35\", \"method\": \"update\"}, {\"args\": [{\"visible\": [false, null, null, null, null, null, null, null, null, null, null, null, null, null, null, null, null, null, null, null, null, null, null, null, null, null, null, null, null, null, null, null, null, null, null, null, null, null, null, null, null, null, null, null, null, null, null, null, null, null, null, null, null, \"legendonly\", \"legendonly\", true, null, false, false, false, false, false, false, false, false, false, false, false, false, false, false, false, false, false, false, true, false, false, false, false, false, false, false, false, false]}], \"label\": \"23.94\", \"method\": \"update\"}, {\"args\": [{\"visible\": [false, null, null, null, null, null, null, null, null, null, null, null, null, null, null, null, null, null, null, null, null, null, null, null, null, null, null, null, null, null, null, null, null, null, null, null, null, null, null, null, null, null, null, null, null, null, null, null, null, null, null, null, null, \"legendonly\", \"legendonly\", true, null, false, false, false, false, false, false, false, false, false, false, false, false, false, false, false, false, false, false, false, true, false, false, false, false, false, false, false, false]}], \"label\": \"25.54\", \"method\": \"update\"}, {\"args\": [{\"visible\": [false, null, null, null, null, null, null, null, null, null, null, null, null, null, null, null, null, null, null, null, null, null, null, null, null, null, null, null, null, null, null, null, null, null, null, null, null, null, null, null, null, null, null, null, null, null, null, null, null, null, null, null, null, \"legendonly\", \"legendonly\", true, null, false, false, false, false, false, false, false, false, false, false, false, false, false, false, false, false, false, false, false, false, true, false, false, false, false, false, false, false]}], \"label\": \"27.13\", \"method\": \"update\"}, {\"args\": [{\"visible\": [false, null, null, null, null, null, null, null, null, null, null, null, null, null, null, null, null, null, null, null, null, null, null, null, null, null, null, null, null, null, null, null, null, null, null, null, null, null, null, null, null, null, null, null, null, null, null, null, null, null, null, null, null, \"legendonly\", \"legendonly\", true, null, false, false, false, false, false, false, false, false, false, false, false, false, false, false, false, false, false, false, false, false, false, true, false, false, false, false, false, false]}], \"label\": \"28.73\", \"method\": \"update\"}, {\"args\": [{\"visible\": [false, null, null, null, null, null, null, null, null, null, null, null, null, null, null, null, null, null, null, null, null, null, null, null, null, null, null, null, null, null, null, null, null, null, null, null, null, null, null, null, null, null, null, null, null, null, null, null, null, null, null, null, null, \"legendonly\", \"legendonly\", true, null, false, false, false, false, false, false, false, false, false, false, false, false, false, false, false, false, false, false, false, false, false, false, true, false, false, false, false, false]}], \"label\": \"30.33\", \"method\": \"update\"}, {\"args\": [{\"visible\": [false, null, null, null, null, null, null, null, null, null, null, null, null, null, null, null, null, null, null, null, null, null, null, null, null, null, null, null, null, null, null, null, null, null, null, null, null, null, null, null, null, null, null, null, null, null, null, null, null, null, null, null, null, \"legendonly\", \"legendonly\", true, null, false, false, false, false, false, false, false, false, false, false, false, false, false, false, false, false, false, false, false, false, false, false, false, true, false, false, false, false]}], \"label\": \"31.92\", \"method\": \"update\"}, {\"args\": [{\"visible\": [false, null, null, null, null, null, null, null, null, null, null, null, null, null, null, null, null, null, null, null, null, null, null, null, null, null, null, null, null, null, null, null, null, null, null, null, null, null, null, null, null, null, null, null, null, null, null, null, null, null, null, null, null, \"legendonly\", \"legendonly\", true, null, false, false, false, false, false, false, false, false, false, false, false, false, false, false, false, false, false, false, false, false, false, false, false, false, true, false, false, false]}], \"label\": \"33.52\", \"method\": \"update\"}, {\"args\": [{\"visible\": [false, null, null, null, null, null, null, null, null, null, null, null, null, null, null, null, null, null, null, null, null, null, null, null, null, null, null, null, null, null, null, null, null, null, null, null, null, null, null, null, null, null, null, null, null, null, null, null, null, null, null, null, null, \"legendonly\", \"legendonly\", true, null, false, false, false, false, false, false, false, false, false, false, false, false, false, false, false, false, false, false, false, false, false, false, false, false, false, true, false, false]}], \"label\": \"35.11\", \"method\": \"update\"}, {\"args\": [{\"visible\": [false, null, null, null, null, null, null, null, null, null, null, null, null, null, null, null, null, null, null, null, null, null, null, null, null, null, null, null, null, null, null, null, null, null, null, null, null, null, null, null, null, null, null, null, null, null, null, null, null, null, null, null, null, \"legendonly\", \"legendonly\", true, null, false, false, false, false, false, false, false, false, false, false, false, false, false, false, false, false, false, false, false, false, false, false, false, false, false, false, true, false]}], \"label\": \"36.71\", \"method\": \"update\"}], \"tickcolor\": \"white\", \"ticklen\": 0, \"x\": 0.6052631578947368, \"xanchor\": \"left\", \"y\": 0.01, \"yanchor\": \"bottom\"}], \"template\": {\"data\": {\"scatter\": [{\"fillcolor\": \"#1565c0\", \"hoverinfo\": \"none\", \"line\": {\"color\": \"#173D90\", \"width\": 4}, \"marker\": {\"color\": \"white\", \"line\": {\"color\": \"#d50000\", \"width\": 2}, \"opacity\": 0.99, \"size\": 9}, \"mode\": \"markers\", \"showlegend\": false, \"type\": \"scatter\", \"visible\": true}, {\"fillcolor\": \"#1565c0\", \"hoverinfo\": \"none\", \"line\": {\"color\": \"#1469FE\", \"width\": 4}, \"marker\": {\"color\": \"white\", \"line\": {\"color\": \"#d50000\", \"width\": 2}, \"opacity\": 0.99, \"size\": 9}, \"mode\": \"markers\", \"showlegend\": false, \"type\": \"scatter\", \"visible\": true}, {\"fillcolor\": \"#1565c0\", \"hoverinfo\": \"none\", \"line\": {\"color\": \"#65ADFF\", \"width\": 4}, \"marker\": {\"color\": \"white\", \"line\": {\"color\": \"#d50000\", \"width\": 2}, \"opacity\": 0.99, \"size\": 9}, \"mode\": \"markers\", \"showlegend\": false, \"type\": \"scatter\", \"visible\": true}, {\"fillcolor\": \"#1565c0\", \"hoverinfo\": \"none\", \"line\": {\"color\": \"#474849\", \"width\": 4}, \"marker\": {\"color\": \"white\", \"line\": {\"color\": \"#d50000\", \"width\": 2}, \"opacity\": 0.99, \"size\": 9}, \"mode\": \"markers\", \"showlegend\": false, \"type\": \"scatter\", \"visible\": true}, {\"fillcolor\": \"#1565c0\", \"hoverinfo\": \"none\", \"line\": {\"color\": \"#A90C0C\", \"width\": 4}, \"marker\": {\"color\": \"white\", \"line\": {\"color\": \"#d50000\", \"width\": 2}, \"opacity\": 0.99, \"size\": 9}, \"mode\": \"markers\", \"showlegend\": false, \"type\": \"scatter\", \"visible\": true}, {\"fillcolor\": \"#1565c0\", \"hoverinfo\": \"none\", \"line\": {\"color\": \"#DC0000\", \"width\": 4}, \"marker\": {\"color\": \"white\", \"line\": {\"color\": \"#d50000\", \"width\": 2}, \"opacity\": 0.99, \"size\": 9}, \"mode\": \"markers\", \"showlegend\": false, \"type\": \"scatter\", \"visible\": true}], \"scatter3d\": [{\"hoverinfo\": \"none\", \"line\": {\"color\": \"#1565c0\", \"width\": 6}, \"marker\": {\"color\": \"#ff5131\", \"line\": {\"color\": \"#d50000\", \"width\": 1}, \"opacity\": 0.99, \"size\": 5, \"symbol\": \"circle-open\"}, \"mode\": \"markers\", \"showlegend\": false, \"surfacecolor\": \"#5e92f3\", \"type\": \"scatter3d\", \"visible\": true}], \"table\": [{\"cells\": {\"fill\": {\"color\": \"white\"}, \"font\": {\"color\": [[\"black\", \"#d50000\", \"black\"], [\"black\", \"black\", \"black\"]]}}, \"header\": {\"fill\": {\"color\": \"white\"}, \"font\": {\"color\": [\"#d50000\", \"black\"]}}, \"type\": \"table\", \"visible\": false}]}, \"layout\": {\"annotations\": [{\"align\": \"center\", \"ax\": 0, \"ay\": 0, \"bgcolor\": \"#45568B\", \"bordercolor\": \"#404040\", \"borderpad\": 3, \"borderwidth\": 2, \"font\": {\"color\": \"white\", \"size\": 12}, \"name\": \"current\", \"visible\": false}, {\"align\": \"center\", \"ax\": 0, \"ay\": 0, \"bgcolor\": \"#D8E4F9\", \"bordercolor\": \"#404040\", \"borderpad\": 3, \"borderwidth\": 2, \"font\": {\"color\": \"#404040\", \"size\": 12}, \"name\": \"explored\", \"visible\": false}, {\"align\": \"center\", \"ax\": 0, \"ay\": 0, \"bgcolor\": \"white\", \"bordercolor\": \"#404040\", \"borderpad\": 3, \"borderwidth\": 2, \"font\": {\"color\": \"#404040\", \"size\": 12}, \"name\": \"unexplored\", \"visible\": false}], \"clickmode\": \"none\", \"dragmode\": \"turntable\", \"font\": {\"color\": \"#404040\", \"family\": \"Arial\"}, \"height\": 500, \"hovermode\": \"closest\", \"legend\": {\"font\": {\"size\": 13}, \"title\": {\"font\": {\"size\": 14}, \"text\": \"<b>Constraint(s)</b>\"}, \"x\": 0.39473684210526316, \"xanchor\": \"left\", \"y\": 1, \"yanchor\": \"top\"}, \"margin\": {\"b\": 0, \"l\": 0, \"r\": 0, \"t\": 33}, \"paper_bgcolor\": \"white\", \"plot_bgcolor\": \"white\", \"scene\": {\"aspectmode\": \"cube\", \"domain\": {\"x\": [0, 0.39473684210526316], \"y\": [0, 1]}, \"xaxis\": {\"backgroundcolor\": \"white\", \"gridcolor\": \"#DFDFDF\", \"gridwidth\": 2, \"linecolor\": \"#404040\", \"rangemode\": \"tozero\", \"showbackground\": true, \"showspikes\": false, \"ticks\": \"\", \"title\": {\"text\": \"x<sub>1</sub>\"}, \"zerolinecolor\": \"white\"}, \"yaxis\": {\"backgroundcolor\": \"white\", \"gridcolor\": \"#DFDFDF\", \"gridwidth\": 2, \"linecolor\": \"#404040\", \"rangemode\": \"tozero\", \"showbackground\": true, \"showspikes\": false, \"ticks\": \"\", \"title\": {\"text\": \"x<sub>2</sub>\"}, \"zerolinecolor\": \"white\"}, \"zaxis\": {\"backgroundcolor\": \"white\", \"gridcolor\": \"#DFDFDF\", \"gridwidth\": 2, \"linecolor\": \"#404040\", \"rangemode\": \"tozero\", \"showbackground\": true, \"showspikes\": false, \"ticks\": \"\", \"title\": {\"text\": \"x<sub>3</sub>\"}, \"zerolinecolor\": \"white\"}}, \"title\": {\"font\": {\"color\": \"#404040\", \"size\": 18}, \"text\": \"<b>Geometric Interpretation of LPs</b>\", \"x\": 0, \"xanchor\": \"left\", \"y\": 0.99, \"yanchor\": \"top\"}, \"width\": 950}}, \"xaxis\": {\"domain\": [0.5, 1], \"range\": [0, 1], \"visible\": false}, \"yaxis\": {\"domain\": [0.15, 1], \"range\": [0, 1], \"visible\": false}},                        {\"doubleClick\": false, \"displayModeBar\": false, \"editable\": false, \"responsive\": false, \"showAxisDragHandles\": false, \"showAxisRangeEntryBoxes\": false}                    ).then(function(){\n",
              "                            \n",
              "var gd = document.getElementById('d5f4e11c-8fb4-444e-b048-7652420114f4');\n",
              "var x = new MutationObserver(function (mutations, observer) {{\n",
              "        var display = window.getComputedStyle(gd).display;\n",
              "        if (!display || display === 'none') {{\n",
              "            console.log([gd, 'removed!']);\n",
              "            Plotly.purge(gd);\n",
              "            observer.disconnect();\n",
              "        }}\n",
              "}});\n",
              "\n",
              "// Listen for the removal of the full notebook cells\n",
              "var notebookContainer = gd.closest('#notebook-container');\n",
              "if (notebookContainer) {{\n",
              "    x.observe(notebookContainer, {childList: true});\n",
              "}}\n",
              "\n",
              "// Listen for the clearing of the current output cell\n",
              "var outputEl = gd.closest('.output');\n",
              "if (outputEl) {{\n",
              "    x.observe(outputEl, {childList: true});\n",
              "}}\n",
              "\n",
              "                        })                };                            </script>        </div>\n",
              "</body>\n",
              "</html>"
            ]
          },
          "metadata": {
            "tags": []
          }
        }
      ]
    },
    {
      "cell_type": "markdown",
      "metadata": {
        "id": "Zwp9p7li7zPK"
      },
      "source": [
        "**Q43:** Consider the feasible region that looks like a rectangular box with one corner point at the origin. What node does it correspond to in the tree? What is the optimal solution at that node?\n",
        "\n",
        "**A:** Node with x1 <= 1. Optimal solution is 12.5"
      ]
    },
    {
      "cell_type": "markdown",
      "metadata": {
        "id": "mguiJsVq7zPK"
      },
      "source": [
        "**Q44:** How many branch and bound nodes did we explore? What was the optimal solution? How many branch and bound nodes would we have explored if we knew the value of the optimal solution before starting branch and bound?\n",
        "\n",
        "**A:** 12, none we wouldn't have to do anything if we nknew the solution?"
      ]
    },
    {
      "cell_type": "markdown",
      "metadata": {
        "id": "lwZvecXn7zPK"
      },
      "source": [
        "## Bonus: Branch and Bound for Knapsack"
      ]
    },
    {
      "cell_type": "markdown",
      "metadata": {
        "id": "TmPt118O7zPK"
      },
      "source": [
        "Consider the following example:\n",
        "\n",
        "| item | value | weight\n",
        "|------|-------|-------\n",
        "|  1   |   2   |   1 \n",
        "|  2   |   9   |   3 \n",
        "|  3   |   6   |   2 \n",
        "\n",
        "The linear program formulation will be:\n",
        "\n",
        "\n",
        "$$\\begin{align*}\n",
        "\\max \\quad & 2x_1+9x_2+6x_3\\\\\n",
        "\\text{s.t.} \\quad & 1x_1+3x_2+2x_3 \\leq 10 \\\\\n",
        "& x_1, x_2, x_3 \\geq 0, \\quad \\text{integer}\n",
        "\\end{align*}$$\n",
        "\n",
        "In gilp, we can define this lp as follows:"
      ]
    },
    {
      "cell_type": "code",
      "metadata": {
        "scrolled": false,
        "id": "zyz-Pjk37zPK"
      },
      "source": [
        "lp = gilp.LP([[1,3,2]],\n",
        "             [10],\n",
        "             [2,9,6])\n",
        "\n",
        "for fig in gilp.bnb_visual(lp):\n",
        "    fig.show()"
      ],
      "execution_count": null,
      "outputs": []
    }
  ]
}