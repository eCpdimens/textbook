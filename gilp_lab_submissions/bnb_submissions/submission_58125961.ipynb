{
 "cells": [
  {
   "cell_type": "markdown",
   "metadata": {},
   "source": [
    "# Branch & Bound and Knapsack Lab"
   ]
  },
  {
   "cell_type": "markdown",
   "metadata": {},
   "source": [
    "**Objectives**\n",
    "- Preform the branch and bound algorithm\n",
    "- Apply branch and bound to the knapsack problem\n",
    "- Understand the geometry of the branch and bound algorithm\n",
    "\n",
    "**Brief description:** In this lab, we will try solving an example of a knapsack problem with the branch-and-bound algorithm. We will also see how adding a cutting plane helps in reducing the computation time and effort of the algorithm. Lastly, we will explore the geometry of the branch and bound algorithm."
   ]
  },
  {
   "cell_type": "code",
   "execution_count": null,
   "metadata": {},
   "outputs": [],
   "source": [
    "# imports -- don't forget to run this cell\n",
    "import pandas as pd\n",
    "import gilp\n",
    "from gilp.visualize import feasible_integer_pts\n",
    "from ortools.linear_solver import pywraplp as OR"
   ]
  },
  {
   "cell_type": "markdown",
   "metadata": {},
   "source": [
    "## Part 1: Branch and Bound Algorithm"
   ]
  },
  {
   "cell_type": "markdown",
   "metadata": {},
   "source": [
    "Recall that the branch and bound algorithm (in addition to the simplex method) allows us to solve integer programs. Before applying the branch and bound algorithm to the knapsack problem, we will begin by reviewing some core ideas. Furthermore, we will identify a helpful property that will make branch and bound terminate quicker later in the lab!"
   ]
  },
  {
   "cell_type": "markdown",
   "metadata": {},
   "source": [
    "**Q1:** What are the different ways a node can be fathomed during the branch and bound algorithm? Describe each.\n",
    "\n",
    "**A:**  A node can be fathomed in an itteration of the branch and bound algorith by either rounding up or rounding down. "
   ]
  },
  {
   "cell_type": "markdown",
   "metadata": {},
   "source": [
    "**Q2:** Suppose you have a maximization integer program and you solve its linear program relaxation. What does the LP-relaxation optimal value tell you about the IP optimal value? What if it is a minimization problem?\n",
    "\n",
    "**A:** If it is a minimumization program the LP relaxation puts a lowwer bound on the optimal solution, and if it is a maximazation problem, the LP optimal solution places an upper bound on the IP optimal solution. "
   ]
  },
  {
   "cell_type": "markdown",
   "metadata": {},
   "source": [
    "**Q3:** Assume you have a maximization integer program with all integral coefficents in the objective function. Now, suppose you are running the branch and bound algorithm and come across a node with an optimal value of 44.5. The current incumbent is 44. Can you fathom this node? Why or why not?\n",
    "\n",
    "**A:** you can fathom this node by rounding up."
   ]
  },
  {
   "cell_type": "markdown",
   "metadata": {},
   "source": [
    "**Q4:** If the optimal solution to the LP relaxation of the original program is integer, then you have found an optimal solution to your integer program. Explain why this is true.\n",
    "\n",
    "**A:** The optimal solution to the LP relaxation puts an ipper or lower bound on the IP optimal solution, so if the LP relaxation is integer, it is the best the IP can possibly be, as the IP cannot be better than the LP. "
   ]
  },
  {
   "cell_type": "markdown",
   "metadata": {},
   "source": [
    "**Q5:** If the LP is infeasible, then the IP is infeasible. Explain why this is true.\n",
    "\n",
    "**A:** The LP is the same as the IP but with a restriction removed, so if no solution to the LP exists, no solution to the IP exists, as the LP is easier to solve. "
   ]
  },
  {
   "cell_type": "markdown",
   "metadata": {},
   "source": [
    "The next questions ask about the following branch and bound tree. If the solution was not integral, the fractional $x_i$ that was used to branch is given. If the solution was integral, it is denoted *INT*. In the current iteration of branch and bound, you are looking at the node with the *****."
   ]
  },
  {
   "cell_type": "markdown",
   "metadata": {},
   "source": [
    "<img src=\"part1_bnb_tree.png\" width=\"500\"/>"
   ]
  },
  {
   "cell_type": "markdown",
   "metadata": {},
   "source": [
    "**Q6:** Can you determine if the integer program this branch and bound tree is for is a minimization or maximixation problem? If so, which is it?\n",
    "\n",
    "**A:** This is a maximization problem"
   ]
  },
  {
   "cell_type": "markdown",
   "metadata": {},
   "source": [
    "Hint: For **Q7-8**, you can assume integral coefficents in the objective function."
   ]
  },
  {
   "cell_type": "markdown",
   "metadata": {},
   "source": [
    "**Q7:** Is the current node (marked $z^*$) fathomed? Why or why not? If not, what additional constraints should be imposed for each of the next two nodes?\n",
    "\n",
    "**A:** This node is fathomed, it should have two other nodes, one with a constraint that z=<16 and one with z>=17. "
   ]
  },
  {
   "cell_type": "markdown",
   "metadata": {},
   "source": [
    "**Q8:** Consider the nodes under the current node (where $z = 16.3$). What do you know about the optimal value of these nodes? Why? \n",
    "\n",
    "**A:** The optimal value of these nodes will be the optimal value of the associated nodes is integer because each of those nodes will fathom until there is an integer solution. "
   ]
  },
  {
   "cell_type": "markdown",
   "metadata": {},
   "source": [
    "## Part 2: The Knapsack Problem\n",
    "\n",
    "In this lab, you will solve an integer program by branch and bound. The integer program to be solved will be a knapsack problem."
   ]
  },
  {
   "cell_type": "markdown",
   "metadata": {},
   "source": [
    "**Knapsack Problem:** We are given a collection of $n$ items, where each item $i = 1,\\dots,n$ has a weight $w_i$ and a value $v_i$. In addition, there is a given capacity $W$, and the aim is to select a maximum value subset of items that has a total weight at most $W$. Note that each item can be brought at most once.\n",
    "\n",
    "$$\\begin{align*}\n",
    "\\max \\quad & \\sum_{i=1}^n v_ix_i\\\\\n",
    "\\text{s.t.} \\quad & \\sum_{i=1}^n w_ix_i \\leq W \\\\\n",
    "& 0 \\leq x_i \\leq 1, \\text{integer}, i = 1,\\dots,n\n",
    "\\end{align*}$$"
   ]
  },
  {
   "cell_type": "markdown",
   "metadata": {},
   "source": [
    "Consider the following data which we import from a CSV file:"
   ]
  },
  {
   "cell_type": "code",
   "execution_count": null,
   "metadata": {},
   "outputs": [],
   "source": [
    "data = pd.read_csv('knapsack_data_1.csv', index_col=0)\n",
    "data"
   ]
  },
  {
   "cell_type": "markdown",
   "metadata": {},
   "source": [
    "and $W = 18$. "
   ]
  },
  {
   "cell_type": "markdown",
   "metadata": {},
   "source": [
    "**Q9:** Are there any items we can remove from our input to simplify this problem? Why? If so, replace `index` with the item number that can be removed in the code below. Hint: how many of each item could we possibly take?\n",
    "\n",
    "**A:** we can remove item 7, because we cannot fit it in out Knapsack. "
   ]
  },
  {
   "cell_type": "code",
   "execution_count": null,
   "metadata": {},
   "outputs": [],
   "source": [
    "# TODO: replace index\n",
    "data = data.drop(7)"
   ]
  },
  {
   "cell_type": "markdown",
   "metadata": {},
   "source": [
    "**Q10:** If we remove item 7 from the knapsack, it does not change the optimal solution to the integer program. Explain why.\n",
    "\n",
    "**A:** If we remove item 7, it does not change the optimal solution, because we could not fit it in our napsack anyways"
   ]
  },
  {
   "cell_type": "markdown",
   "metadata": {},
   "source": [
    "**Q11:** Consider removing items $i$ such that $w_i > W$ from a knapsack input. How does the LP relaxation's optimal value change?\n",
    "\n",
    "**A:** Removing any items with wi > W does not change the optimal value because we could not fit these items anyways. "
   ]
  },
  {
   "cell_type": "markdown",
   "metadata": {},
   "source": [
    "In **Q10-11**, you should have found that removing these items removes feasible solutions from the linear program  but does not change the integer program. This is desirable as the gap between the optimal IP and LP values can become smaller. By adding this step, branch and bound may terminate sooner. "
   ]
  },
  {
   "cell_type": "markdown",
   "metadata": {},
   "source": [
    "Recall that a branch and bound node can be fathomed if its bound is no better than the value of the best feasible integer solution found thus far. Hence, it helps to have a good feasible integer solution as quickly as possible (so that we stop needless work). To do this, we can first try to construct a good feasible integer solution by a reasonable heuristic algorithm before starting to run the branch and bound procedure."
   ]
  },
  {
   "cell_type": "markdown",
   "metadata": {},
   "source": [
    "In designing a heuristic for the knapsack problem, it is helpful to think about the value per unit weight for each item. We compute this value in the table below."
   ]
  },
  {
   "cell_type": "code",
   "execution_count": null,
   "metadata": {},
   "outputs": [],
   "source": [
    "data['value per unit weight'] = (data['value'] / data['weight']).round(2)\n",
    "data"
   ]
  },
  {
   "cell_type": "markdown",
   "metadata": {},
   "source": [
    "**Q12:** Design a reasonable heuristic for the knapsack problem. Note a heuristic aims to find a decent solution to the problem (but is not necessarily optimal).\n",
    "\n",
    "**A:** Put the biggest value per weight item that fits in the bag into the bag until no more items fit. "
   ]
  },
  {
   "cell_type": "markdown",
   "metadata": {},
   "source": [
    "**Q13:** Run your heuristic on the data above to compute a good feasible integer solution. Your heuristic should generate a feasible solution with a value of 64 or better. If it does not, try a different heuristic (or talk to your TA!)\n",
    "\n",
    "**A:** Item 1, Item 4. Total Value = 64"
   ]
  },
  {
   "cell_type": "markdown",
   "metadata": {},
   "source": [
    "We will now use the branch and bound algorithm to solve this knapsack problem! First, let us define a mathematical model for the linear relaxation of the knapsack problem."
   ]
  },
  {
   "cell_type": "markdown",
   "metadata": {},
   "source": [
    "**Q14:** Complete the model below."
   ]
  },
  {
   "cell_type": "code",
   "execution_count": null,
   "metadata": {},
   "outputs": [],
   "source": [
    "def Knapsack(table, capacity, integer = False):\n",
    "    \"\"\"Model for solving the Knapsack problem.\n",
    "    \n",
    "    Args:\n",
    "        table (pd.DataFrame): A table indexd by items with a column for value and weight\n",
    "        capcity (int): An integer-capacity for the knapsack\n",
    "        integer (bool): True if the variables should be integer. False otherwise.\n",
    "    \"\"\"\n",
    "    ITEMS = list(table.index)        # set of items\n",
    "    v = table.to_dict()['value']     # value for each item \n",
    "    w = table.to_dict()['weight']    # weight for each item\n",
    "    W = capacity                     # capacity of the knapsack\n",
    "    \n",
    "    # define model\n",
    "    m = OR.Solver('knapsack', OR.Solver.CBC_MIXED_INTEGER_PROGRAMMING)\n",
    "    \n",
    "    # decision variables\n",
    "    x = {}    \n",
    "    for i in ITEMS:\n",
    "        if integer:\n",
    "            x[i] = m.IntVar(0, 1, 'x_%d' % (i)) \n",
    "        else:\n",
    "            x[i] = m.NumVar(0, 1, 'x_%d' % (i)) \n",
    "        \n",
    "    # define objective function here\n",
    "    m.Maximize(sum(v[i]*x[i] for i in ITEMS))\n",
    "    \n",
    "    # TODO: Add a constraint that enforces that weight must not exceed capacity\n",
    "    # recall that we add constraints to the model using m.Add()\n",
    "    m.Add(x[1]* w[1] +x[2]* w[2] +x[3]* w[3] +x[4] * w[4] +x[5] *w[5] + x[6] *w[6] <= W)\n",
    "    return (m, x)  # return the model and the decision variables"
   ]
  },
  {
   "cell_type": "code",
   "execution_count": null,
   "metadata": {},
   "outputs": [],
   "source": [
    "# You do not need to do anything with this cell but make sure you run it!\n",
    "def solve(m):\n",
    "    \"\"\"Used to solve a model m.\"\"\"\n",
    "    m.Solve()\n",
    "    \n",
    "    print('Objective =', m.Objective().Value())\n",
    "    print('iterations :', m.iterations())\n",
    "    print('branch-and-bound nodes :',m.nodes())\n",
    "    \n",
    "    return ({var.name() : var.solution_value() for var in m.variables()})"
   ]
  },
  {
   "cell_type": "markdown",
   "metadata": {},
   "source": [
    "We can now create a linear relaxation of our knapsack problem. Now, `m` represents our model and `x` represents our decision variables."
   ]
  },
  {
   "cell_type": "code",
   "execution_count": null,
   "metadata": {},
   "outputs": [],
   "source": [
    "m, x = Knapsack(data, 18)"
   ]
  },
  {
   "cell_type": "markdown",
   "metadata": {},
   "source": [
    "We can use the next line to solve the model and output the solution"
   ]
  },
  {
   "cell_type": "code",
   "execution_count": null,
   "metadata": {},
   "outputs": [],
   "source": [
    "solve(m)"
   ]
  },
  {
   "cell_type": "markdown",
   "metadata": {},
   "source": [
    "**Q15:** How does this optimal value compare to the value you found using the heuristic integer solution?\n",
    "\n",
    "**A:** This optimal solution is higher than my heuristic solution"
   ]
  },
  {
   "cell_type": "markdown",
   "metadata": {},
   "source": [
    "**Q16:** Should this node be fathomed? If not, what variable should be branched on and what additional constraints should be imposed for each of the next two nodes?\n",
    "\n",
    "\n",
    "**A:** This node should not be fathomed because it is already integer"
   ]
  },
  {
   "cell_type": "markdown",
   "metadata": {},
   "source": [
    "After constructing the linear relaxation model using `Knapsack(data1, 18)` we can add additional constraints. For example, we can add the constraint $x_2 \\leq 0$ and solve it as follows:"
   ]
  },
  {
   "cell_type": "code",
   "execution_count": null,
   "metadata": {},
   "outputs": [],
   "source": [
    "m, x = Knapsack(data, 18)\n",
    "m.Add(x[2] <= 0)\n",
    "solve(m)"
   ]
  },
  {
   "cell_type": "markdown",
   "metadata": {},
   "source": [
    " **NOTE:** The line `m, x = Knapsack(data1, 18)` resets the model `m` to the LP relaxation. All constraints from branching have to be added each time."
   ]
  },
  {
   "cell_type": "markdown",
   "metadata": {},
   "source": [
    "**Q17:** Use the following cell to compute the optimal value for the other node you found in **Q16**."
   ]
  },
  {
   "cell_type": "code",
   "execution_count": null,
   "metadata": {},
   "outputs": [],
   "source": [
    "m, x = Knapscack(data1,18)"
   ]
  },
  {
   "cell_type": "markdown",
   "metadata": {},
   "source": [
    "**Q18:** What was the optimal value? Can this node be fathomed? Why? (Hint: In **Q13**, you found a feasible integer solution with value 64.)\n",
    "\n",
    "**A:** The optimal value is 65"
   ]
  },
  {
   "cell_type": "markdown",
   "metadata": {},
   "source": [
    "If we continue running the branch and bound algorithm, we will eventually reach the branch and bound tree below where the $z^*$ indictes the current node we are looking at.\n",
    "\n",
    "<img src=\"part2_bnb_tree.png\" width=\"700\"/>"
   ]
  },
  {
   "cell_type": "markdown",
   "metadata": {},
   "source": [
    "**Q19:** The node with $z = 64.857$ was fathomed. Why are we allowed to fathom this node? (Hint: think back to **Q3**)\n",
    "\n",
    "**A:** Because we round up the previous value"
   ]
  },
  {
   "cell_type": "markdown",
   "metadata": {},
   "source": [
    "**Q20:** Finish running branch and bound to find the optimal integer solution. Use a separate cell for each node you solve and indicate if the node was fathomed with a comment. (Hint: Don't forget to include the constraints further up in the branch and bound tree.)"
   ]
  },
  {
   "cell_type": "code",
   "execution_count": null,
   "metadata": {},
   "outputs": [],
   "source": [
    "# Template\n",
    "m, x = Knapsack(data, 18)\n",
    "m.Add(x[1]<=0)\n",
    "m.Add(x[4]>=1)\n",
    "m.Add(x[3]<=0)\n",
    "m.Add(x[2]<=0)\n",
    "\n",
    "solve(m)\n",
    "# fathomed?"
   ]
  },
  {
   "cell_type": "code",
   "execution_count": null,
   "metadata": {},
   "outputs": [],
   "source": []
  },
  {
   "cell_type": "code",
   "execution_count": null,
   "metadata": {},
   "outputs": [],
   "source": []
  },
  {
   "cell_type": "markdown",
   "metadata": {},
   "source": [
    "**A:** "
   ]
  },
  {
   "cell_type": "markdown",
   "metadata": {},
   "source": [
    "**Q21:** How many nodes did you have to explore while running the branch and bound algorithm?\n",
    "\n",
    "**A:** 9"
   ]
  },
  {
   "cell_type": "markdown",
   "metadata": {},
   "source": [
    "In the next section, we will think about additional constraints we can add to make running branch and bound quicker."
   ]
  },
  {
   "cell_type": "markdown",
   "metadata": {},
   "source": [
    "## Part 3: Cutting Planes"
   ]
  },
  {
   "cell_type": "markdown",
   "metadata": {},
   "source": [
    "In general, a cutting plane is an additional constraint we can add to an integer program's linear relaxation that removes feasible linear solutions but does not remove any integer feasible solutions. This is very useful when  solving integer programs! Recall many of the problems we have learned in class have something we call the \"integrality property\". This is useful because it allows us to ignore the integrality constraint since we are garunteed to reach an integral solution. By cleverly adding cutting planes, we strive to remove feasible linear solutions (without removing any integer feasible solutions) such that the optimal solution to the linear relaxation is integral!"
   ]
  },
  {
   "cell_type": "markdown",
   "metadata": {},
   "source": [
    "Conisder an integer program whose linear program releaxation is \n",
    "\n",
    "$$\\begin{align*}\n",
    "\\max \\quad & 2x_1+x_2\\\\\n",
    "\\text{s.t.} \\quad & x_1 + x_2 \\leq 3 \\\\\n",
    "& 2x_1 \\leq 5 \\\\\n",
    "& -x_1 + 2x_2 \\leq 2 \\\\\n",
    "& x_1, x_2 \\geq 0\n",
    "\\end{align*}$$\n",
    "\n",
    "We can define this linear program and then visualize its feasible region. The integer points have been highlighted."
   ]
  },
  {
   "cell_type": "code",
   "execution_count": null,
   "metadata": {},
   "outputs": [],
   "source": [
    "lp = gilp.LP([[1,1],[2,0],[-1,2]],\n",
    "             [3,5,2],\n",
    "             [2,1])\n",
    "fig = gilp.lp_visual(lp)\n",
    "fig.set_axis_limits([3.5,2])\n",
    "fig.add_trace(feasible_integer_pts(lp, fig))\n",
    "fig"
   ]
  },
  {
   "cell_type": "markdown",
   "metadata": {},
   "source": [
    "**Q22:** List every feasible solution to the integer program.\n",
    "\n",
    "**A:** (x1 = 2, x2 =1), (x1 = 2, x2 = 0), (x1 = 1, x2 = 0)"
   ]
  },
  {
   "cell_type": "markdown",
   "metadata": {},
   "source": [
    "**Q23:** Is the constraint $x_2 \\leq 1$ a cutting plane? Why? (Hint: Would any feasible integer points become infeasible? What about feasible linear points?)\n",
    "\n",
    "**A:** Yes, because it eliminates non-integer solutions without eliminating any integer solutions. "
   ]
  },
  {
   "cell_type": "markdown",
   "metadata": {},
   "source": [
    "Let's add this cutting plane to the LP relaxation!"
   ]
  },
  {
   "cell_type": "code",
   "execution_count": null,
   "metadata": {},
   "outputs": [],
   "source": [
    "lp = gilp.LP([[1,1],[2,0],[-1,2],[0,1]],\n",
    "             [3,5,2,1],\n",
    "             [2,1])\n",
    "fig = gilp.lp_visual(lp)\n",
    "fig.set_axis_limits([3.5,2])\n",
    "fig.add_trace(feasible_integer_pts(lp, fig))\n",
    "fig"
   ]
  },
  {
   "cell_type": "markdown",
   "metadata": {},
   "source": [
    "**Q24:** Is the constraint $x_1 \\leq 3$ a cutting plane? Why?\n",
    "\n",
    "**A:** No, becasue it does not remove any feasable solutions"
   ]
  },
  {
   "cell_type": "markdown",
   "metadata": {},
   "source": [
    "**Q25:** Can you provide another cutting plane? If so, what is it?\n",
    "\n",
    "**A:** x1 <= 2"
   ]
  },
  {
   "cell_type": "markdown",
   "metadata": {},
   "source": [
    "Let's look at the feasible region after adding the cutting plane from **Q23** and one of the possible answers from **Q25**. Notice the optimal solution to the LP relaxation is now integral!"
   ]
  },
  {
   "cell_type": "code",
   "execution_count": null,
   "metadata": {},
   "outputs": [],
   "source": [
    "lp = gilp.LP([[1,1],[2,0],[-1,2],[0,1],[1,0]],\n",
    "             [3,5,2,1,2],\n",
    "             [2,1])\n",
    "fig = gilp.lp_visual(lp)\n",
    "fig.set_axis_limits([3.5,2])\n",
    "fig.add_trace(feasible_integer_pts(lp, fig))\n",
    "fig"
   ]
  },
  {
   "cell_type": "markdown",
   "metadata": {},
   "source": [
    "Let's try applying what we know about cutting planes to the knapsack problem! Again, recall our input was $W = 18$ and:"
   ]
  },
  {
   "cell_type": "code",
   "execution_count": null,
   "metadata": {},
   "outputs": [],
   "source": [
    "data"
   ]
  },
  {
   "cell_type": "markdown",
   "metadata": {},
   "source": [
    "**Q26:** Look at items 1, 2, and 3. How many of these items can we take simultaneously? Can you write a new constraint to capture this? If so, please provide it.\n",
    "\n",
    "**A:** only one of these items can be taken simeltaneously\n",
    "x1 + x2 + x3 <= 1"
   ]
  },
  {
   "cell_type": "markdown",
   "metadata": {},
   "source": [
    "**Q27:** Is the constraint you found in **Q26** a cutting plane? If so, provide a feasible solution to the linear program relaxation that is no longer feasible (i.e. a point the constraint *cuts off*).\n",
    "\n",
    "**A:** This constarint is a cutting plane, as it cuts off feasable non-integer solutions without eliminating any integer solutions."
   ]
  },
  {
   "cell_type": "markdown",
   "metadata": {},
   "source": [
    "**Q28:** Provide another cutting plane involving items 4,5 and 6 for this integer program. Explain how you derived it.\n",
    "\n",
    "**A:** x4 + x5 + x6 <= 2\n",
    "We can have 2 of these items at a time. "
   ]
  },
  {
   "cell_type": "markdown",
   "metadata": {},
   "source": [
    "**Q29:** Add the cutting planes from **Q26** and **Q28** to the model and solve it. You should get a solution in which we take items 1 and 4 and $\\frac{1}{6}$ of item 5 with an objective value of 66."
   ]
  },
  {
   "cell_type": "code",
   "execution_count": null,
   "metadata": {},
   "outputs": [],
   "source": [
    "m, x = Knapsack(data, 18)\n",
    "m.Add(x[1]+x[2]+x[3] <=1)\n",
    "m.Add(x[4]+x[5]+x[6]<=2)\n",
    "\n",
    "solve(m)"
   ]
  },
  {
   "cell_type": "markdown",
   "metadata": {},
   "source": [
    "Let's take a moment to pause and reflect on what we are doing. Recall from **Q9-11** that we dropped item 7 becuase its weight was greater than the capcity of the knapsack. Essentially we added the constraint $x_7 \\leq 0$. This constraint was a cutting plane! It eliminated some linear feasible solutions but no integer ones. By adding these two new cutting planes, we can get branch and bound to terminate earlier yet again! So far, we have generated cutting planes by inspection. However, there are more algorithmic ways to identify them (which we will ignore for now)."
   ]
  },
  {
   "cell_type": "markdown",
   "metadata": {},
   "source": [
    "If we continue running the branch and bound algorithm, we will eventually reach the branch and bound tree below where the $z^*$ indictes the current node we are looking at. \n",
    "\n",
    "<img src=\"part3_bnb_tree.png\" width=\"700\"/>"
   ]
  },
  {
   "cell_type": "markdown",
   "metadata": {},
   "source": [
    "**NOTE:** Do not forget about the feasible integer solution our heuristic gave us with value 64."
   ]
  },
  {
   "cell_type": "markdown",
   "metadata": {},
   "source": [
    "**Q30** Finish running branch and bound to find the optimal integer solution. Use a separate cell for each node you solve and indicate if the node was fathomed with a comment. Hint: Don't forget the cutting plane constraints should be included in every node of the branch and bound tree."
   ]
  },
  {
   "cell_type": "code",
   "execution_count": null,
   "metadata": {},
   "outputs": [],
   "source": [
    "# Template\n",
    "m, x = Knapsack(data, 18)\n",
    "m.Add(x[1]+x[2]+x[3] <=1)\n",
    "m.Add(x[4]+x[5]+x[6]<=2)\n",
    "m.Add(x[5] >=1)\n",
    "\n",
    "solve(m)\n",
    "# fathomed?"
   ]
  },
  {
   "cell_type": "code",
   "execution_count": null,
   "metadata": {},
   "outputs": [],
   "source": []
  },
  {
   "cell_type": "code",
   "execution_count": null,
   "metadata": {},
   "outputs": [],
   "source": []
  },
  {
   "cell_type": "markdown",
   "metadata": {},
   "source": [
    "**A:** "
   ]
  },
  {
   "cell_type": "markdown",
   "metadata": {},
   "source": [
    "**Q31:** Did you find the same optimal solution? How many nodes did you explore? How did this compare to the number you explored previously?\n",
    "\n",
    "**A:** I did find the same optimal solution, but without exporing as many nodes. This time, I only had to explore 3 nodes, as opposed to 5 from last time. "
   ]
  },
  {
   "cell_type": "markdown",
   "metadata": {},
   "source": [
    "## Part 4: Geometry of Branch and Bound"
   ]
  },
  {
   "cell_type": "markdown",
   "metadata": {},
   "source": [
    "Previously, we used the `gilp` package to viusualize the simplex algorithm but it also has the functionality to visualize branch and bound. We will give a quick overview of the tool. Similar to `lp_visual` and `simplex_visual`, the function `bnb_visual` takes an `LP` and returns a visualization. It is assumed that every decision variable is constrained to be integer. Unlike previous visualizations, `bnb_visual` returns a series of figures for each node of the branch and bound tree. Let's look at a small 2D example:\n",
    "\n",
    "$$\\begin{align*}\n",
    "\\max \\quad & 5x_1+ 8x_2\\\\\n",
    "\\text{s.t.} \\quad & x_1 + x_2 \\leq 6 \\\\\n",
    "& 5x_1 + 9x_2 \\leq 45 \\\\\n",
    "& x_1, x_2 \\geq 0, \\quad \\text{integral}\n",
    "\\end{align*}$$"
   ]
  },
  {
   "cell_type": "code",
   "execution_count": null,
   "metadata": {},
   "outputs": [],
   "source": [
    "nodes = gilp.bnb_visual(gilp.examples.STANDARD_2D_IP)"
   ]
  },
  {
   "cell_type": "code",
   "execution_count": null,
   "metadata": {},
   "outputs": [],
   "source": [
    "nodes[0].show()"
   ]
  },
  {
   "cell_type": "markdown",
   "metadata": {},
   "source": [
    "Run the cells above to generate a figure for each node and view the first node. At first, you will see the LP relaxation on the left and the root of the branch and bound tree on the right. The simplex path and isoprofit slider are also present."
   ]
  },
  {
   "cell_type": "markdown",
   "metadata": {},
   "source": [
    "**Q32:** Recall the root of a branch and bound tree is the unaltered LP relaxation. What is the optimal solution? (Hint: Use the objective slider and hover over extreme points).\n",
    "\n",
    "**A:** The optimal solution to the LP relaxation is the optimal solution to the unaltered problem. "
   ]
  },
  {
   "cell_type": "markdown",
   "metadata": {},
   "source": [
    "**Q33:** Assume that we always choose the variable with the minimum index to branch on if there are multiple options. Write down (in full) each of the LPs we get after branching off the root node.\n",
    "\n",
    "**A:** x1 <= 5\n",
    "x2 <=5\n",
    "\n"
   ]
  },
  {
   "cell_type": "markdown",
   "metadata": {},
   "source": [
    "**Q34:** Draw the feasible region to each of the LPs from **Q33** on the same picture.\n",
    "\n",
    "**A:** "
   ]
  },
  {
   "cell_type": "markdown",
   "metadata": {},
   "source": [
    "Run the following cell to see if the picture you drew in **Q34** was correct."
   ]
  },
  {
   "cell_type": "code",
   "execution_count": null,
   "metadata": {},
   "outputs": [],
   "source": [
    "nodes[1].show()"
   ]
  },
  {
   "cell_type": "markdown",
   "metadata": {},
   "source": [
    "The outline of the original LP relaxation is still shown on the left. Now that we have eliminated some of the fractional feasible solutions, we now have 2 feasible regions to consider. The darker one is the feasible region associated with the current node which is also shaded darker in the branch and bound tree. The unexplored nodes in the branch and bound tree are not shaded in."
   ]
  },
  {
   "cell_type": "markdown",
   "metadata": {},
   "source": [
    "**Q35:** Which feasible solutions to the LP relaxation are removed by this branch?\n",
    "\n",
    "**A:** All solutions with x1 > 5 are eliminated by this branch"
   ]
  },
  {
   "cell_type": "markdown",
   "metadata": {},
   "source": [
    "**Q36:** At the current (dark) node, what constraints will we add? How many feasible regions will the original LP relaxation be broken into?\n",
    "\n",
    "**A:** we add a constraint x1 <=5 "
   ]
  },
  {
   "cell_type": "code",
   "execution_count": null,
   "metadata": {},
   "outputs": [],
   "source": [
    "nodes[2].show()"
   ]
  },
  {
   "cell_type": "markdown",
   "metadata": {},
   "source": [
    "**Q37:** What is the optimal solution at the current (dark) node? Do we have to further explore this branch? Explain.\n",
    "\n",
    "**A:** The optimal solution at this branch is 40. We do not contunue any further as this solution is already optimal. We know this because all of the decision variables are integer. "
   ]
  },
  {
   "cell_type": "markdown",
   "metadata": {},
   "source": [
    "**Q38:** Recall shaded nodes have been explored and the node shaded darker (and feasible region shaded darker) correspond to the current node and its feasible region. Nodes not shaded have not been explored. How many nodes have not yet been explored?\n",
    "\n",
    "**A:** 5 nodes have yet to be explored. "
   ]
  },
  {
   "cell_type": "markdown",
   "metadata": {},
   "source": [
    "**Q39:** How many nodes have a degree of one in the branch and bound tree? (That is, they are only connected to one edge). These nodes are called leaf nodes. What is the relationship between the leaf nodes and the remaining feasible region?\n",
    "\n",
    "**A:** 6 nodes are leaves. These are the nodes that put the most constraint on the feasbable region. "
   ]
  },
  {
   "cell_type": "code",
   "execution_count": null,
   "metadata": {},
   "outputs": [],
   "source": [
    "# Show the next two iterations of the branch and bound algorithm\n",
    "nodes[3].show()\n",
    "nodes[4].show()"
   ]
  },
  {
   "cell_type": "markdown",
   "metadata": {},
   "source": [
    "**Q40:** At the current (dark) node, we added the constraint $x_1 \\leq 1$. Why were the fractional solutions $1 < x_1 < 2$ not eliminated for $x_2 <= 3$?\n",
    " \n",
    "**A:** Because an x2 value less than or equal to 3 allows room for the x1 varaible to be between 1 and 2, which is not constrained enough to always be integer. "
   ]
  },
  {
   "cell_type": "code",
   "execution_count": null,
   "metadata": {},
   "outputs": [],
   "source": [
    "# Show the next three iterations of the branch and bound algorithm\n",
    "nodes[5].show()\n",
    "nodes[6].show()\n",
    "nodes[7].show()"
   ]
  },
  {
   "cell_type": "markdown",
   "metadata": {},
   "source": [
    "**Q41:** What constraints are enforced at the current (dark) node? Why are there no feasible solutions at this node?\n",
    "\n",
    "**A:**  x1>=6 and x2>=6 are the constraints enforced at this node, which leaves for no feasable solutions as the other constraints are violated. "
   ]
  },
  {
   "cell_type": "code",
   "execution_count": null,
   "metadata": {},
   "outputs": [],
   "source": [
    "nodes[8].show()"
   ]
  },
  {
   "cell_type": "markdown",
   "metadata": {},
   "source": [
    "**Q42:** Are we done? If so, what nodes are fathomed and what is the optimal solution? Explain.\n",
    "\n",
    "**A:** We are done, all nodes that need to be fathomed have been, and the optimal solution is x1 =0, x2 =5 which produces an objective value of 40"
   ]
  },
  {
   "cell_type": "markdown",
   "metadata": {},
   "source": [
    "Let's look at branch and bound visualization for an integer program with 3 decision variables!"
   ]
  },
  {
   "cell_type": "code",
   "execution_count": null,
   "metadata": {},
   "outputs": [],
   "source": [
    "nodes = gilp.bnb_visual(gilp.examples.VARIED_BRANCHING_3D_IP)"
   ]
  },
  {
   "cell_type": "code",
   "execution_count": null,
   "metadata": {},
   "outputs": [],
   "source": [
    "# Look at the first 3 iterations\n",
    "nodes[0].show()\n",
    "nodes[1].show()\n",
    "nodes[2].show()"
   ]
  },
  {
   "cell_type": "markdown",
   "metadata": {},
   "source": [
    "Let's fast-forward to the final iteration of the branch and bound algorithm."
   ]
  },
  {
   "cell_type": "code",
   "execution_count": null,
   "metadata": {},
   "outputs": [],
   "source": [
    "nodes[-1].show()"
   ]
  },
  {
   "cell_type": "markdown",
   "metadata": {},
   "source": [
    "**Q43:** Consider the feasible region that looks like a rectangular box with one corner point at the origin. What node does it correspond to in the tree? What is the optimal solution at that node?\n",
    "\n",
    "**A:** This corresponds to node 3, which has an optimal solution of 36"
   ]
  },
  {
   "cell_type": "markdown",
   "metadata": {},
   "source": [
    "**Q44:** How many branch and bound nodes did we explore? What was the optimal solution? How many branch and bound nodes would we have explored if we knew the value of the optimal solution before starting branch and bound?\n",
    "\n",
    "**A:** In total, we explored 5 nodes, and we found an optimal soltion of 40. If we already knew the optimal solution, we would have only had to explore 3 nodes to find the optimal solution. "
   ]
  },
  {
   "cell_type": "markdown",
   "metadata": {},
   "source": [
    "## Bonus: Branch and Bound for Knapsack"
   ]
  },
  {
   "cell_type": "markdown",
   "metadata": {},
   "source": [
    "Consider the following example:\n",
    "\n",
    "| item | value | weight\n",
    "|------|-------|-------\n",
    "|  1   |   2   |   1 \n",
    "|  2   |   9   |   3 \n",
    "|  3   |   6   |   2 \n",
    "\n",
    "The linear program formulation will be:\n",
    "\n",
    "\n",
    "$$\\begin{align*}\n",
    "\\max \\quad & 2x_1+9x_2+6x_3\\\\\n",
    "\\text{s.t.} \\quad & 1x_1+3x_2+2x_3 \\leq 10 \\\\\n",
    "& x_1, x_2, x_3 \\geq 0, \\quad \\text{integer}\n",
    "\\end{align*}$$\n",
    "\n",
    "In gilp, we can define this lp as follows:"
   ]
  },
  {
   "cell_type": "code",
   "execution_count": null,
   "metadata": {},
   "outputs": [],
   "source": [
    "lp = gilp.LP([[1,3,2]],\n",
    "             [10],\n",
    "             [2,9,6])\n",
    "\n",
    "for fig in gilp.bnb_visual(lp):\n",
    "    fig.show()"
   ]
  }
 ],
 "metadata": {
  "language_info": {
   "name": "python"
  }
 },
 "nbformat": 4,
 "nbformat_minor": 4
}
