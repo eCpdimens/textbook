{
 "cells": [
  {
   "cell_type": "markdown",
   "metadata": {
    "colab_type": "text",
    "id": "RBv5APyAuHlF"
   },
   "source": [
    "# Geometry of Simplex Lab"
   ]
  },
  {
   "cell_type": "markdown",
   "metadata": {
    "colab_type": "text",
    "id": "aN5t4dbCuHlG"
   },
   "source": [
    "## Objectives\n",
    "- Understand the geometry of a linear program's feasible region.\n",
    "- Use isoprofit lines and planes to solve 2D and 3D LPs graphically.\n",
    "- Identify the most limiting constraint in an iteration of simplex both algebraically and geometrically.\n",
    "- Identify the geometric features corresponding to dictionaries.\n",
    "- Describe the geometrical decision made at each iteration of simplex."
   ]
  },
  {
   "cell_type": "markdown",
   "metadata": {
    "colab_type": "text",
    "id": "aWLaUe75uHlG"
   },
   "source": [
    "## Review\n",
    "Recall, linear programs (LPs) have three main components: decision variables, constraints, and an objective function. The goal of linear programming is to find a **feasible solution** (a solution satisfying every constraint) with the highest objective value. The set of feasible solutions form a **feasible region**. In lecture, we learned about isoprofit lines. For every objective value, we can define an isoprofit line. Isoprofit lines have the property that two solutions on the same line have the same objective value and all isoprofit lines are parallel. \n",
    "\n",
    "In the first part of the lab, we will use a Python package called GILP to solve linear programs graphically. We introduce the package now."
   ]
  },
  {
   "cell_type": "markdown",
   "metadata": {
    "colab_type": "text",
    "id": "7JnEsABJuHlH"
   },
   "source": [
    "## GILP\n",
    "\n",
    "If you are running this file in a Google Colab Notebook, uncomment the following line and run it. Otherwise, you can ignore it."
   ]
  },
  {
   "cell_type": "code",
   "execution_count": null,
   "metadata": {},
   "outputs": [],
   "source": [
    "#!pip install gilp"
   ]
  },
  {
   "cell_type": "markdown",
   "metadata": {
    "colab_type": "text",
    "id": "IfZOeoDXuHlK"
   },
   "source": [
    "This lab uses default LPs built in to GILP. We import them below."
   ]
  },
  {
   "cell_type": "code",
   "execution_count": null,
   "metadata": {},
   "outputs": [],
   "source": [
    "from gilp import examples as ex"
   ]
  },
  {
   "cell_type": "markdown",
   "metadata": {
    "colab_type": "text",
    "id": "7-0xeoZxuHlN"
   },
   "source": [
    "We access the LP examples using `ex.NAME` where `NAME` is the name of the example LP. For example, consider:\n",
    "\n",
    "$$\\begin{align*}\n",
    "\\max \\quad & 5x_1+3x_2\\\\\n",
    "\\text{s.t.} \\quad & 2x_1 + 1x_2 \\leq 20 \\\\\n",
    "\\quad & 1x_1 + 1x_2 \\leq 16\n",
    " \\\\\n",
    "\\quad & 1x_1 + 0x_2 \\leq 7 \\\\\n",
    "\\quad & x_1, x_2 \\geq 0 \\\\\n",
    "\\end{align*}$$\n",
    "\n",
    "This example LP is called `ALL_INTEGER_2D_LP`. We assign this LP to the variable `lp` below."
   ]
  },
  {
   "cell_type": "code",
   "execution_count": null,
   "metadata": {},
   "outputs": [],
   "source": [
    "lp = ex.ALL_INTEGER_2D_LP"
   ]
  },
  {
   "cell_type": "markdown",
   "metadata": {
    "colab_type": "text",
    "id": "763HNpKquHlS"
   },
   "source": [
    "We can visualize this LP using a function called `lp_visual()`. First, we must import it."
   ]
  },
  {
   "cell_type": "code",
   "execution_count": null,
   "metadata": {},
   "outputs": [],
   "source": [
    "from gilp.visualize import lp_visual"
   ]
  },
  {
   "cell_type": "markdown",
   "metadata": {
    "colab_type": "text",
    "id": "zzEyysW0uHlU"
   },
   "source": [
    "The function `lp_visual()` takes an LP and returns a visualization. We then use the `.show()` function to display the visualiazation."
   ]
  },
  {
   "cell_type": "code",
   "execution_count": null,
   "metadata": {},
   "outputs": [],
   "source": [
    "lp_visual(lp).show()"
   ]
  },
  {
   "cell_type": "markdown",
   "metadata": {
    "colab_type": "text",
    "id": "Ks5NUWMIuHlY",
    "scrolled": false
   },
   "source": [
    "On the left, you can see a coordinate plane where the $x$-axis corresponds to the value of $x_1$ and the $y$-axis corresponds to the value of $x_2$. The region shaded blue is the feasible region. Along the perimeter of the feasible region, you can see points where two edges come to a \"corner\". You can hover over these **corner points** to see information about them. Only some of the information in the hover box will be relevant for Part I. The first two values of **BFS** represent the values of $x_1$ and $x_2$ respectively and **Obj** is the objective value. For example, the upper left corner point has solution $x_1 = 0$ and $x_2 = 16$ with objective value 48. The dashed lines represent the constraints. You can click on the constraints in the legend to mute and un-mute them. Note this does not alter the LP; it just changes visibility. Lastly, the objective slider allows you to see the isoprofit line for a range of objective values.  "
   ]
  },
  {
   "cell_type": "markdown",
   "metadata": {
    "colab_type": "text",
    "id": "8x_9JE4YuHlY"
   },
   "source": [
    "# Part I: Solving Linear Programs Graphically"
   ]
  },
  {
   "cell_type": "markdown",
   "metadata": {
    "colab_type": "text",
    "id": "fDFhW_zhuHlZ"
   },
   "source": [
    "Let's use GILP to solve the following LP graphically:\n",
    "\n",
    "$$\\begin{align*}\n",
    "\\max \\quad & 5x_1+3x_2\\\\\n",
    "\\text{s.t.} \\quad & 2x_1 + 1x_2 \\leq 20 \\\\\n",
    "\\quad & 1x_1 + 1x_2 \\leq 16 \\\\\n",
    "\\quad & 1x_1 + 0x_2 \\leq 7 \\\\\n",
    "\\quad & x_1, x_2 \\geq 0 \\\\\n",
    "\\end{align*}$$\n",
    "\n",
    "Recall, this LP is called `ALL_INTEGER_2D_LP`."
   ]
  },
  {
   "cell_type": "code",
   "execution_count": null,
   "metadata": {},
   "outputs": [],
   "source": [
    "lp = ex.ALL_INTEGER_2D_LP # get LP example\n",
    "lp_visual(lp).show() # visualize it"
   ]
  },
  {
   "cell_type": "markdown",
   "metadata": {
    "colab_type": "text",
    "id": "zgBeRIW3uHlb"
   },
   "source": [
    "**Q1:** How can you use isoprofit lines to solve LPs graphically?\n",
    "\n",
    "**A:** We can find the isoprofit line that lies within the region defined by the constraints that has the largest y-intercept or objective values."
   ]
  },
  {
   "cell_type": "markdown",
   "metadata": {
    "colab_type": "text",
    "id": "CX_LC5DJuHlb"
   },
   "source": [
    "**Q2:** Use the objective slider to solve this LP graphically. Give an optimal solution and objective value. Argue why it is optimal. (Hint: The objective slider shows the isoprofit line (in red) for some objective value.)\n",
    "\n",
    "**A:** The optimal solution is when $x_1 = 4$ and $x_2 = 12$ where the objective values is $56$. This gives the optimal solution because it is the point where the isoprofit line lies within the region defined by the constraints but has the maximum possible y-intercept."
   ]
  },
  {
   "cell_type": "markdown",
   "metadata": {
    "colab_type": "text",
    "id": "Il9DLi3yuHlc"
   },
   "source": [
    "**Q3:** Plug your solution from **Q2** back into the LP and verify that each constraint is satisfied (don't forget non-negativity constraints!) and the objective value is as expected. Show your work.\n",
    "\n",
    "**A:** \n",
    "$2(4) + 1(12) = 20 \\leq 20\n",
    "\\\\ 1(4) + 1(12) = 16 \\leq 16\n",
    "\\\\ 1(4) + 0(12) = 4 \\leq 7\n",
    "\\\\ 4 \\geq 0\n",
    "\\\\ 12 \\geq 0\n",
    "5(4) + 3(12) = 20 + 36 = 56$\n",
    "\n",
    "Hence the optimal solution $x_1 = 4$ and $x_2 = 12$ satisfies each constraint, and the objective value is equal to $56$, as expected."
   ]
  },
  {
   "cell_type": "markdown",
   "metadata": {
    "colab_type": "text",
    "id": "wM44rQ_tuHlc"
   },
   "source": [
    "Let's try another! This LP is called `DEGENERATE_FIN_2D_LP`.\n",
    "\n",
    "$$\\begin{align*}\n",
    "\\max \\quad & 1x_1+2x_2\\\\\n",
    "\\text{s.t.} \\quad & 0x_1 + 1x_2 \\leq 4 \\\\\n",
    "\\quad & 1x_1 - 1x_2 \\leq 2 \\\\\n",
    "\\quad & 1x_1 + 0x_2 \\leq 3 \\\\\n",
    "\\quad & -2x_1 + 1x_2 \\leq 0 \\\\\n",
    "\\quad & x_1, x_2 \\geq 0 \\\\\n",
    "\\end{align*}$$"
   ]
  },
  {
   "cell_type": "code",
   "execution_count": null,
   "metadata": {},
   "outputs": [],
   "source": [
    "lp = ex.DEGENERATE_FIN_2D_LP # get LP example\n",
    "lp_visual(lp).show() # visualize it"
   ]
  },
  {
   "cell_type": "markdown",
   "metadata": {
    "colab_type": "text",
    "id": "2ky7BcI4uHle"
   },
   "source": [
    "**Q4:** Use the objective slider to solve the `DEGENERATE_FIN_2D_LP` LP graphically. Give an optimal solution and objective value. (Hint: The objective slider shows the isoprofit line (in red) for some objective value.)\n",
    "\n",
    "**A:** The optimal solution is $x_1 = 3$ and $x_2 = 4$, where the objective value is $11$."
   ]
  },
  {
   "cell_type": "markdown",
   "metadata": {
    "colab_type": "text",
    "id": "OfIKglp4uHlf"
   },
   "source": [
    "You should now be comfortable solving linear programs with two decision variables graphically. In this case, each constraint is a line representing an inequality. These inequalites define a shaded region in the coordinate plane which is our feasible region. Lastly, the isoprofits are parallel lines. To find an optimal solution, we just increase the objective value while the corresponding isoprofit line still intersects the 2D feasible region. \n",
    "\n",
    "Now, we will try to wrap our head around an LP with three decision variables! Similar to before, we can plot solutions to a 3D LP on a plot with 3 axes. Here, the $x$-axis corresponds to the value of $x_1$ and the $y$-axis corresponds to the value of $x_2$ as before. Furthermore, the $z$-axis corresponds to the value of $x_3$. Now, constraints are *planes* representing an inequality. These inequality planes define a 3D shaded region which is our feasible region. The isoprofits are isoprofit *planes* which are parallel. To find an optimal solution, we just increase the objective value while the corresponding isoprofit plane still intersects the 3D feasible region. Let us look at an example."
   ]
  },
  {
   "cell_type": "markdown",
   "metadata": {
    "colab_type": "text",
    "id": "qj-oi9XiuHlf"
   },
   "source": [
    "This LP is called `ALL_INTEGER_3D_LP`:\n",
    "\n",
    "$$\\begin{align*}\n",
    "\\max \\quad & 1x_1+2x_2+4x_3\\\\\n",
    "\\text{s.t.} \\quad & 1x_1 + 0x_2 + 0x_3 \\leq 6 \\\\\n",
    "\\quad & 1x_1 + 0x_2 + 1x_3 \\leq 8 \\\\\n",
    "\\quad & 0x_1 + 0x_2 + 1x_3 \\leq 5 \\\\\n",
    "\\quad & 0x_1 + 1x_2 + 1x_3 \\leq 8 \\\\\n",
    "\\quad & x_1, x_2 \\geq 0 \\\\\n",
    "\\end{align*}$$\n"
   ]
  },
  {
   "cell_type": "code",
   "execution_count": null,
   "metadata": {},
   "outputs": [],
   "source": [
    "lp = ex.ALL_INTEGER_3D_LP # get LP example\n",
    "lp_visual(lp).show() # visualize it"
   ]
  },
  {
   "cell_type": "markdown",
   "metadata": {
    "colab_type": "text",
    "id": "fF0ujXiAuHli"
   },
   "source": [
    "The 3D feasible region is shown on the left. Hold and drag the mouse to examine it from different angles. Next, click on a constraint to un-mute it. Each constraint is a gray plane in 3D space. Un-mute the constraints one by one to see how they define the 3D feasible region. Move the objective slider to see the isoprofit planes. The isoprofit plane is light gray and the intersection with the feasible region is shown in red. Like the 2D visualization, you can hover over corner points to see information about that point."
   ]
  },
  {
   "cell_type": "markdown",
   "metadata": {
    "colab_type": "text",
    "id": "AbzXEr-vuHli"
   },
   "source": [
    "**Q5:** Use the objective slider to solve this LP graphically. Give an optimal solution and objective value. (Hint: The objective slider shows the isoprofit plane for some objective value in light gray and the intersection with the feasible region in red.)\n",
    "\n",
    "**A:** The optimal solution is when $x_1 = 3$, $x_2 = 3$, and $x_3 = 5$, where the objective values is $29$."
   ]
  },
  {
   "cell_type": "markdown",
   "metadata": {
    "colab_type": "text",
    "id": "io4zHOsjuHli"
   },
   "source": [
    "When it comes to LPs with 4 or more decision variables, our graphical approaches fail. We need to find a different way to solve linear programs of this size."
   ]
  },
  {
   "cell_type": "markdown",
   "metadata": {
    "colab_type": "text",
    "id": "bUjcaoH3uHlj"
   },
   "source": [
    "# Part II: The Simplex Algorithm for Solving LPs"
   ]
  },
  {
   "cell_type": "markdown",
   "metadata": {
    "colab_type": "text",
    "id": "pyGKgFrzuHlj"
   },
   "source": [
    "## Dictionary Form LP"
   ]
  },
  {
   "cell_type": "markdown",
   "metadata": {
    "colab_type": "text",
    "id": "xKEUzW1puHlj"
   },
   "source": [
    "First, let's answer some guiding questions that will help to motivate the simplex algorithm.  "
   ]
  },
  {
   "cell_type": "markdown",
   "metadata": {
    "colab_type": "text",
    "id": "U_qOD87OuHlk"
   },
   "source": [
    "**Q6:** Does there exist a unique way to write any given inequality constraint? If so, explain why each constraint can only be written one way. Otherwise, give 2 ways of writing the same inequality constraint.\n",
    "\n",
    "**A:** There does not exist a unique way to write any given constraint, since any inequality can be rewritten as an equation of another nonnegative variable.. For instance, $2x_1 + 1x_2 \\leq 20$ can be rewritten as $x_3 = 20 - 2x_1 - x_2$ where $x_3 \\geq 0$ without changing the values that satisfy the inequality."
   ]
  },
  {
   "cell_type": "markdown",
   "metadata": {
    "colab_type": "text",
    "id": "EFzcncRyuHlk"
   },
   "source": [
    "**Q7:** Consider the following two constraints: $2x_1 + 1x_2 \\leq 20$ and $2x_1 + 1x_2 + x_3 = 20$ where all $x$ are nonnegative. Are these the same constraint? Why? (This question is tricky!)\n",
    "\n",
    "**A:** No, since $x_3$ in the first constraint can potentially be any value, whereas in the second contraint it cannot be any more than $20$, otherwise the other values $x_1$ and $x_2$ would become negative."
   ]
  },
  {
   "cell_type": "markdown",
   "metadata": {
    "colab_type": "text",
    "id": "iYpnflgvuHll"
   },
   "source": [
    "**Q8:** Based on your answers to **Q6** and **Q7**, do you think there exists a unique way to write any given LP?\n",
    "\n",
    "**A:** There does not exist a unique way to write any give LP, since the constraints can be rewritten in terms of equations by introducing new nonnegative variables and setting an nonnegative expression in terms of  rather than inequalities."
   ]
  },
  {
   "cell_type": "markdown",
   "metadata": {
    "colab_type": "text",
    "id": "xal6nOP8uHll"
   },
   "source": [
    "You should have found that there are many ways to write some LP. This begs a new question: are some ways of writing an LP harder or easier to solve than others? Consider the following LP: \n",
    "\n",
    "$$\\begin{align*}\n",
    "\\max \\quad & 56 - 2x_3 - 1x_4\\\\\n",
    "\\text{s.t.} \\quad & x_1 = 4 - 1x_3 + 1x_4 \\\\\n",
    "\\quad & x_2 = 12 + 1x_3 - 2x_4 \\\\\n",
    "\\quad & x_5 = 3 + 1x_3 - 1x_4 \\\\\n",
    "\\quad & x_1, x_2, x_3, x_4, x_5 \\geq 0 \\\\\n",
    "\\end{align*}$$"
   ]
  },
  {
   "cell_type": "markdown",
   "metadata": {
    "colab_type": "text",
    "id": "FEPTwRAmuHll"
   },
   "source": [
    "**Q9:** Just by looking at this LP, can you give an optimal solution and its objective value. If so, explain what property of the LP allows you to do this. (Hint: Look at the objective function)\n",
    "\n",
    "**A:** Yes, the optimal solution is when $x_1 = 4$, $x_2 = 12$, $x_3 = 0$, $x_4 = 0$, $x_5 = 3$, where the objective value is 56. This is because the non-negativity condition in the LP ensures that any solution with positive values of $x_3$ and $x_4$ will have an objective value less than 56, so the maximum value must be when the objective values is 56. Because one feasible solution when $x_3 = x_4 = 0$ has an objective function value of 56, we can conclude that it must be optimal since it has the maximum possible objective function value."
   ]
  },
  {
   "cell_type": "markdown",
   "metadata": {
    "colab_type": "text",
    "id": "1v-el8yWuHll"
   },
   "source": [
    "The LP above is the same as `ALL_INTEGER_2D_LP` just rewritten in a different way! This rewitten form (which we found is easier to solve) was found using the simplex algorithm. At its core, the simplex algorithm strategically rewrites an LP until it is in a form that is \"easy\" to solve. \n",
    "\n",
    "The simplex algorithm relies on an LP being in **dictionary form**. Recall the following properties of an LP in dictionary form:\n",
    "- All constraints are equality constraints\n",
    "- All variables are constrained to be nonnegative\n",
    "- Each variable only appears on the left-hand side (LHS) or the right-hand side (RHS) of the constraints (not both)\n",
    "- Each constraint has a unique variable on the LHS\n",
    "- The objective function is in terms of the variables that appear on the RHS of the constraints only.\n",
    "- All constants on the RHS of the constraints are nonnegative"
   ]
  },
  {
   "cell_type": "markdown",
   "metadata": {
    "colab_type": "text",
    "id": "wZoykdvsuHlm"
   },
   "source": [
    "**Q10:** Rewrite the example LP `ALL_INTEGER_2D_LP` in dictionary form. Show your steps!\n",
    "\n",
    "$$\\begin{align*}\n",
    "\\max \\quad & 5x_1+3x_2\\\\\n",
    "\\text{s.t.} \\quad & 2x_1 + 1x_2 \\leq 20 \\\\\n",
    "\\quad & 1x_1 + 1x_2 \\leq 16 \\\\\n",
    "\\quad & 1x_1 + 0x_2 \\leq 7 \\\\\n",
    "\\quad & x_1, x_2 \\geq 0 \\\\\n",
    "\\end{align*}$$\n",
    "\n",
    "**A:**\n",
    "\n",
    "max $5x_1+3x_2$\n",
    "$ 2x_1 + 1x_2 = 20 \\\\\n",
    "0 \\leq 16 - 1x_1 + 1x_2 \\\\\n",
    "0 \\leq  7 - 1x_1 + 0x_2\\\\\n",
    "x_1, x_2 \\geq 0$\n",
    "\n",
    "We introduce 2 new variables $x_3$ and $x_4$\n",
    "\n",
    "max $5x_1+3x_2$\n",
    "$ 2x_1 + 1x_2 = 20 \\\\\n",
    "x_3 = 16 - 1x_1 + 1x_2 \\\\\n",
    "x_4 =  7 - 1x_1 + 0x_2\\\\\n",
    "x_1, x_2, x_3, x_4 \\geq 0$"
   ]
  },
  {
   "cell_type": "markdown",
   "metadata": {
    "colab_type": "text",
    "id": "pIJvELNGuHlm"
   },
   "source": [
    "## Most Limiting Constraint"
   ]
  },
  {
   "cell_type": "markdown",
   "metadata": {
    "colab_type": "text",
    "id": "lkcvej4luHlm"
   },
   "source": [
    "Once our LP is in dictionary form, we can run the simplex algorithm! In every iteration of the simplex algorithm, we will take an LP in dictionary form and strategically rewrite it in a new dictionary form. Note: it is important to realize that rewriting the LP **does not** change the LP's feasible region. Let us examine an iteration of simplex on a new LP.\n",
    "\n",
    "$$\\begin{align*}\n",
    "\\max \\quad & 5x_1+3x_2\\\\\n",
    "\\text{s.t.} \\quad & 1x_1 + 0x_2 \\leq 4 \\\\\n",
    "\\quad & 0x_1 + 1x_2 \\leq 6 \\\\\n",
    "\\quad & 2x_1 + 1x_2 \\leq 9 \\\\\n",
    "\\quad & 3x_1 + 2x_2 \\leq 15 \\\\\n",
    "\\quad & x_1, x_2 \\geq 0 \\\\\n",
    "\\end{align*}$$"
   ]
  },
  {
   "cell_type": "markdown",
   "metadata": {
    "colab_type": "text",
    "id": "C1esujF0uHln"
   },
   "source": [
    "**Q11:** Is this LP in dictionary form? If not, rewrite this LP in dictionary form.\n",
    "\n",
    "**A:** The LP is not in dictionary form. \n",
    "$$\\begin{align*}\n",
    "\\max \\quad & 5x_1+3x_2\\\\\n",
    "\\text{s.t.} \\quad & 0 \\leq 4 - 1x_1 - 0x_2 \\\\\n",
    "\\quad & 0 \\leq 6 - 0x_1 - 1x_2 \\\\\n",
    "\\quad & 0 \\leq 9 - 2x_1 - 1x_2 \\\\\n",
    "\\quad & 0 \\leq 15 - 3x_1 - 2x_2 \\\\\n",
    "\\quad & x_1, x_2 \\geq 0 \\\\\n",
    "\\end{align*}$$\n",
    "\n",
    "We introduce variables $x_3$, $x_4$, $x_5$, $x_6$ to rewrite the LP in dictionary form:\n",
    "\n",
    "$$\\begin{align*}\n",
    "\\max \\quad & 5x_1+3x_2\\\\\n",
    "\\text{s.t.} \\quad & x_3 = 4 - 1x_1 - 0x_2 \\\\\n",
    "\\quad & x_4 = 6 - 0x_1 - 1x_2 \\\\\n",
    "\\quad & x_5 = 9 - 2x_1 - 1x_2 \\\\\n",
    "\\quad & x_6 = 15 - 3x_1 - 2x_2 \\\\\n",
    "\\quad & x_1, x_2, x_3, x_4, x_5, x_6 \\geq 0 \\\\\n",
    "\\end{align*}$$"
   ]
  },
  {
   "cell_type": "markdown",
   "metadata": {
    "colab_type": "text",
    "id": "2JqMl5FduHln"
   },
   "source": [
    "**Q12:** Recall from **Q9** how you found a feasible solution (which we argued to be optimal) just by looking at the LP. Using this same stratagy, look at the LP above and give a feasible solution and its objective value for this LP. Describe how you found this feasible solution. Is it optimal? Why?\n",
    "\n",
    "**A:** One feasible solution is $x_1 = 0$, $x_2 = 0$, $x_3 = 4$, $x_4 = 6$, $x_5 = 9$, $x_6 = 15$. I found this feasible solution by setting the variables $x_1$ and $x_2$ in the objective function to $0$ and then I set the constants on the right hand side of each constraint equal to the variables on the left hand side. It is evident that this feasible solution is not optimal, since $x_1$ and $x_2$ could have larger values than $0$ without violating any constraints, which would therefore increase the objective function value."
   ]
  },
  {
   "cell_type": "markdown",
   "metadata": {
    "colab_type": "text",
    "id": "Xcd2gTx4uHlo"
   },
   "source": [
    "From **Q12** we see that every dictionary form LP has a corresponding feasible solution. Furthermore, there are positive coefficents in the objective function. Hence, we can increase the objective value by increaseing the corresponding variable. In our example, both $x_1$ and $x_2$ have positive coefficents in the objective function. Let us choose to increase $x_1$.\n",
    "\n",
    "**Q13:** What do we have to be careful about when increasing $x_1$?\n",
    "\n",
    "**A:** We have to make sure that no constraint is violated, and that a certain value of $x_1$ does not force another variable on the left hand side to take on a negative value, since all variables must have nonnegative values."
   ]
  },
  {
   "cell_type": "markdown",
   "metadata": {
    "colab_type": "text",
    "id": "n9JTaKLUuHlo"
   },
   "source": [
    "**Q14:** After choosing a variable to increase, we must determine the most limiting constraint. Let us look at the first constraint $x_3 = 4 - 1x_1 - 0x_2$. How much can $x_1$ increase? (Hint: what does a dictionary form LP require about the constant on the RHS of constraints?)\n",
    "\n",
    "**A:** The most $x_1$ can increase to is $4$, since a value greater than $4$ would mean that $4 - 1x_1 < 0$ and $x_3$ is negative."
   ]
  },
  {
   "cell_type": "markdown",
   "metadata": {
    "colab_type": "text",
    "id": "Ymdtddm8uHlo"
   },
   "source": [
    "**Q15:** Like in **Q14**, determine how much each constraint limits the increase in $x_1$ and identify the most limiting constraint.\n",
    "\n",
    "**A:** The second contraint does not limit the value of $x_1$, the third constraint limits $x_1$ to at most $4.5$, and the fourth constraint limits $x_1$ to $5$. The most limiting constraint is therefore the first constraint, which has the smallest maximum value for $x_1$."
   ]
  },
  {
   "cell_type": "markdown",
   "metadata": {
    "colab_type": "text",
    "id": "7CM6-FwbuHlo"
   },
   "source": [
    "If we increase $x_1$ to 4, note that $x_3$ will become zero. Earlier, we identified that each dictionary form has a corresponding feasible solution acheived by setting variables on the RHS (and in the objective function) to zero. Hence, since $x_3$ will become zero, we want to rewrite our LP such that $x_3$ appears on the RHS. Furthermore, since $x_1$ is no longer zero, it should now appear on the LHS."
   ]
  },
  {
   "cell_type": "markdown",
   "metadata": {
    "colab_type": "text",
    "id": "tGwfQJsfuHlp"
   },
   "source": [
    "**Q16:** Rewrite the most limiting constraint $x_3 = 4 - 1x_1 - 0x_2$ such that $x_1$ appears on the left and $x_3$ appears on the right.\n",
    "\n",
    "**A:** $x_1 = 4 - 1x_3 - 0x_2$"
   ]
  },
  {
   "cell_type": "markdown",
   "metadata": {
    "colab_type": "text",
    "id": "vmOfyp5xuHlp"
   },
   "source": [
    "**Q17:** Using substitution, rewrite the LP such that $x_3$ appears on the RHS and $x_1$ appears on the LHS. (Hint: Don't forget the rule about which variables can appear in the objective function)\n",
    "\n",
    "**A:** \n",
    "$$\\begin{align*}\n",
    "\\max \\quad & 20 - 4x_3 + 3x_2\\\\\n",
    "\\text{s.t.} \\quad & x_1 = 4 - 1x_3 - 0x_2 \\\\\n",
    "\\quad & x_4 = 6 - 0x_1 - 1x_2 \\\\\n",
    "\\quad & x_5 = 1 + 2x_3 - 1x_2 \\\\\n",
    "\\quad & x_6 = 3 + 3x_3 - 2x_2 \\\\\n",
    "\\quad & x_1, x_2, x_3, x_4, x_5, x_6 \\geq 0 \\\\\n",
    "\\end{align*}$$"
   ]
  },
  {
   "cell_type": "markdown",
   "metadata": {
    "colab_type": "text",
    "id": "QqyFCVVEuHlp"
   },
   "source": [
    "**Q18:** We have now completed an iteration of simplex! What is the corresponding feasible solution of the new LP?\n",
    "\n",
    "**A:** The corresponding feasible solution is $x_1 = 4$, $x_2 = 0$, $x_3 = 0$, $x_4 = 6$, $x_5 = 1$, and $x_6 = 3$."
   ]
  },
  {
   "cell_type": "markdown",
   "metadata": {
    "colab_type": "text",
    "id": "TR-hPvK9uHlq"
   },
   "source": [
    "Now that we have seen an iteration of simplex algebraically, let's use GILP to visualize it! The LP example we have been using is called `LIMITING_CONSTRAINT_2D_LP`. To visualize simplex, we must import a function called `simplex_visual()`."
   ]
  },
  {
   "cell_type": "code",
   "execution_count": null,
   "metadata": {},
   "outputs": [],
   "source": [
    "from gilp.visualize import simplex_visual # import the function\n",
    "import numpy as np\n",
    "lp = ex.LIMITING_CONSTRAINT_2D_LP # get the LP example\n",
    "simplex_visual(lp, initial_solution=np.array([[0],[0]])).show() # show the simplex visualization"
   ]
  },
  {
   "cell_type": "markdown",
   "metadata": {
    "colab_type": "text",
    "id": "1sCnSfHsuHls"
   },
   "source": [
    "This visualization is much the same as the previous one but we now have an addtional slider which allows you to toggle through iterations of simplex. Furthermore, the corresponding dictionary at every iteration of simplex is shown in the top right. If you toggle between two iterations, you can see the dictionary form for both the previous and next LP at the same time."
   ]
  },
  {
   "cell_type": "markdown",
   "metadata": {
    "colab_type": "text",
    "id": "fTCnT_xnuHls"
   },
   "source": [
    "**Q19:** Starting from point (0,0), by how much can you increase $x_1$ before the point is no longer feasible? Which constraint do you *hit* first? Does this match what you found algebraically?\n",
    "\n",
    "**A:** $x_1$ can be increased to at most $4$, where it hits the first constraint $1x_1 + 0x_2 \\leq 4$. This matches what was found algebraically, since we concluded that the first constraint limited the value of $x_1$ to no more than 4."
   ]
  },
  {
   "cell_type": "markdown",
   "metadata": {
    "colab_type": "text",
    "id": "7rSD4MLKuHlt"
   },
   "source": [
    "**Q20:** Which variable will be the next increasing variable and why? (Hint: Look at the dictionary form LP at iteration 1)\n",
    "\n",
    "**A:** Variable $x_2$ will be increased next, since like $x_1$, $x_2$ still has room to increase and any increase will increase the objective function value since it has a positive coefficient of $3$."
   ]
  },
  {
   "cell_type": "markdown",
   "metadata": {
    "colab_type": "text",
    "id": "4LcxznCcuHlt"
   },
   "source": [
    "**Q21:** Visually, which constraint do you think is the most limiting constraint? How much can $x_2$ increase? Give the corresponding feasible solution and its objective value of the next dictionary form LP. (Hint: hover over the feasible points to see information about them.)\n",
    "\n",
    "**A:** Visually, the most limiting constraint is the second constraint, which says that $0x_1 + 1x_2 \\leq 6$. $x_2$ can increase up to $1$ at most without violating any other constraints. The corresponding feasible solution for the next dictionary form is $x_1 = 4$, $x_2 = 1$, $x_3 = 0$, $x_4 = 5$, $x_5 = 0$, and $x_6 = 1$, whereas the objective value is 23."
   ]
  },
  {
   "cell_type": "markdown",
   "metadata": {
    "colab_type": "text",
    "id": "-kzkvtlAuHlt"
   },
   "source": [
    "**Q22:** Move the slider to see the next iteration of simplex. Was your guess from **Q21** correct? If not, describe how your guess was wrong.\n",
    "\n",
    "**A:** Yes the guess was correct, as the value of $x_2$ increased to exactly $1$ with the same predicted corresponding solution and objective value."
   ]
  },
  {
   "cell_type": "markdown",
   "metadata": {
    "colab_type": "text",
    "id": "tjTPPcPLuHlu"
   },
   "source": [
    "**Q23:** Look at the dictionary form LP after the second iteration of simplex. What is the increasing variable? Identify the most limiting constraint graphically and algebraically. Show your work and verify they are the same constraint. In addition, give the next feasible solution and its objective value.\n",
    "\n",
    "**A:** The next increasing variable after the second iteration is $x_3$. The most limiting constraint graphically is the third constraint $3x_1 + 2x_2 \\leq 15$, whereas algebraically it is also the third constraint $x_4 = 5 - 2x_3 + 1x_5$, which allows $x_3$ to be at most $2.5$. These constraints are the same because we can rewrite $0x_1 + 1x_2 \\leq 6$ as $0 \\leq 6 + 0x_1 - 1x_2$ and introduce a new variable $x_4 \\geq 0$ such that $x_4 = 6 + 0x_1 - 1x_2$. Since $x_2 = 1 - 1x_5 - 2x_3$, we can rewrite the constraint again as $x_4 = 6 - 1(1 - 1x_5 - 2x_3) - 1x_2 = 5 + 2x_3 + 1x_5$. The next feasible solution would be $x_1 = 3$, $x_2 = 3$, $x_3 = 1$, $x_4 = 3$, $x_5 = 0$, and $x_6 = 0$, whereas the objective value is $24$."
   ]
  },
  {
   "cell_type": "markdown",
   "metadata": {
    "colab_type": "text",
    "id": "EwB3oDm_uHlu"
   },
   "source": [
    "**Q24:** Is the new feasible solution you found in **Q23** optimal? (Hint: Look at the dictionary form LP)\n",
    "\n",
    "**A:** The new feasible solution must be optimal, since the dictionary form has an objective function of $24 - 1x_5 - 1x_6$. Since $x_5$ and $x_6$ are always nonnegative, this suggests that the maximum possible objective value is $24$. Since the new feasible solution has an objective value of exactly $24$, it must be the optimal solution."
   ]
  },
  {
   "cell_type": "markdown",
   "metadata": {
    "colab_type": "text",
    "id": "Lwp7P4GguHlu"
   },
   "source": [
    "**Q25:** In **Q21** and **Q23**, how did you determine the most limiting constraint graphically?\n",
    "\n",
    "**A:** I followed the edges of the feasible region until I hit the corner point with another edge."
   ]
  },
  {
   "cell_type": "markdown",
   "metadata": {
    "colab_type": "text",
    "id": "riXVRFA5uHlv"
   },
   "source": [
    "**(BONUS):** In 2D, we can increase a variable until we hit a 2D line representing the most limiting constraint. What would be the analogous situation in 3D?\n",
    "\n",
    "**A:** The analogous situation in 3D would be hitting a 3D plane representing the most limiting constraint."
   ]
  },
  {
   "cell_type": "markdown",
   "metadata": {
    "colab_type": "text",
    "id": "S2VT4wxIuHlv"
   },
   "source": [
    "# Part III: Geometrical Interpretation of the Dictionary"
   ]
  },
  {
   "cell_type": "markdown",
   "metadata": {
    "colab_type": "text",
    "id": "t7n7wFCouHlv"
   },
   "source": [
    "We have seen how the simplex algorithm transforms an LP from one dictionary form to another. Each dictionary form has a corresponding dictionary defined by the variables on the LHS of the constraints. Furthermore, each dictionary form has a corresponding feasible solution obtained by setting all non-dictionary variables to 0 and the dictionary variables to the constants on the RHS. In this section, we will explore the geometric interpretation of a dictionary."
   ]
  },
  {
   "cell_type": "code",
   "execution_count": null,
   "metadata": {},
   "outputs": [],
   "source": [
    "lp = ex.ALL_INTEGER_2D_LP # get LP example\n",
    "simplex_visual(lp, initial_solution=np.array([[0],[0]])).show() # visualize it"
   ]
  },
  {
   "cell_type": "markdown",
   "metadata": {
    "colab_type": "text",
    "id": "Qi7fXPIguHlx"
   },
   "source": [
    "Recall, we can hover over the corner points of the feasible region. **BFS** indicates the feasible solution corresponding to that point. For example, (7,0,6,9,0) means $x_1 = 7, x_2 = 0, x_3 = 6, x_4 = 9$, and $x_5 = 0$. **B** gives the indices of the variables in the dictionary. For example, (1,3,4) means that $x_1, x_3,$ and $x_4$ are in the dictionary. Lastly, the objective value at that point is given."
   ]
  },
  {
   "cell_type": "markdown",
   "metadata": {
    "colab_type": "text",
    "id": "dn-gA0nquHlx"
   },
   "source": [
    "**Q26:** Hover over the point (7,6) where $x_1 = 7$ and $x_2 = 6$. What is the feasible solution at that point ?\n",
    "\n",
    "**A:** The feasible solution is $x_1 = 7$, $x_2 = 6$, $x_3 = 0$, $x_4 = 3$, and $x_5 = 0$."
   ]
  },
  {
   "cell_type": "markdown",
   "metadata": {
    "colab_type": "text",
    "id": "BFEklIr8uHly"
   },
   "source": [
    "We have a notion of *slack* for an inequality constraint. Consider the constraint $x_1 \\geq 0$. A feasible solution where $x_1 = 7$ has a slack of 7 in this constraint. Consider the constraint $2x_1 + 1x_2 \\leq 20$. The feasible solution with $x_1 = 7$ and $x_2 = 6$ has a slack of 0 in this constraint."
   ]
  },
  {
   "cell_type": "markdown",
   "metadata": {
    "colab_type": "text",
    "id": "_r-p7MkDuHly"
   },
   "source": [
    "**Q27:** What is the slack in constraint $1x_1 + 1x_2 \\leq 16$ when $x_1 = 7$ and $x_2 = 6$?\n",
    "\n",
    "**A:** The slack would be $16 - 7 - 6$, or $3$."
   ]
  },
  {
   "cell_type": "markdown",
   "metadata": {
    "colab_type": "text",
    "id": "EV1MtTRIuHly"
   },
   "source": [
    "**Q28:** Look at the constraint $2x_1 + 1x_2 \\leq 20$. After rewriting in dictionary form, the constraint is $x_3 = 20 - 2x_1 - 1x_2$. What does $x_3$ represent?\n",
    "\n",
    "**A:** $x_3$ represents the slack in the constraint, since it is the difference between the maximum constant $20$ and the epxression of the variables $2x_1 + 1x_2$."
   ]
  },
  {
   "cell_type": "markdown",
   "metadata": {
    "colab_type": "text",
    "id": "YPgg2bZluHlz"
   },
   "source": [
    "**Q29:** What do you notice about the feasible solution at point (7,6) and the slack in each constraint?\n",
    "\n",
    "**A:** The feasible solution leaves $0$ slack in the first constraint and third constraint, but positive slack in the second constraint of $3$. "
   ]
  },
  {
   "cell_type": "markdown",
   "metadata": {
    "colab_type": "text",
    "id": "esyCEJXGuHlz"
   },
   "source": [
    "It turns out that each decision variable is really a measure of slack in some corresponding constraint!"
   ]
  },
  {
   "cell_type": "markdown",
   "metadata": {
    "colab_type": "text",
    "id": "9xi2PpYRuHlz"
   },
   "source": [
    "**Q30:** If the slack between a constraint and a feasible solution is 0, what does that tell you about the relationship between the feasible solution and constraint geometrically?\n",
    "\n",
    "**A:**  Geometrically, the feasible solution lies on the edge of the constraint, specifically at the corner point with another constraint that has a slack of $0$."
   ]
  },
  {
   "cell_type": "markdown",
   "metadata": {
    "colab_type": "text",
    "id": "tADKCLEeuHl0"
   },
   "source": [
    "**Q31:** For (7,6), which variables are **not** in the dictionary? For which constraints do they represent the slack? (Hint: The **B** in the hover box gives the indices of the variables in the dicitonary)\n",
    "\n",
    "**A:** Variables not in the dictionary $x_3$ and $x_5$, which represents the slack for the first and third constraints."
   ]
  },
  {
   "cell_type": "markdown",
   "metadata": {
    "colab_type": "text",
    "id": "C7vyW3FnuHl0"
   },
   "source": [
    "**Q32:** For (7,6), what are the values of the non-dictionary variables? Using what you learned from **Q30**, what does their value tell you about the feasible solution at (7,6)?\n",
    "\n",
    "**A:** The values of the non-dictionary variables are $x_3 = x_5 = 0$. This tells me that geometrically, the feasible solution is located at the intersection or corner point between the first and third constraints."
   ]
  },
  {
   "cell_type": "markdown",
   "metadata": {
    "colab_type": "text",
    "id": "3oMbX6QRuHl0"
   },
   "source": [
    "**Q33:** Look at some other corner points with this in mind. What do you find?\n",
    "\n",
    "**A:** The corner points always have a feasible solution with variables not in the dictionary equal to $0$, where the indices of those variables correspond to the constraints of the edges that intersect."
   ]
  },
  {
   "cell_type": "markdown",
   "metadata": {
    "colab_type": "text",
    "id": "J13fXzCIuHl0"
   },
   "source": [
    "Now, let's look at a 3 dimensional LP!"
   ]
  },
  {
   "cell_type": "code",
   "execution_count": null,
   "metadata": {},
   "outputs": [],
   "source": [
    "lp = ex.ALL_INTEGER_3D_LP # get LP example\n",
    "lp_visual(lp).show() # visualize it"
   ]
  },
  {
   "cell_type": "markdown",
   "metadata": {
    "colab_type": "text",
    "id": "L09Ymk5EuHl3"
   },
   "source": [
    "**Q34:** Hover over the point (6,6,2) where $x_1 = 6, x_2 = 6,$ and $x_3 = 2$. Note which variables are not in the dictionary. Toggle the corresponding constraints on. What do you notice?\n",
    "\n",
    "**A:** Variables not in the dictionary are $x_4$, $x_5$, and $x_7$. Toggling the corresponding constriants 4, 5, and 7 on, we get that the intersection of the constraints is exactly the point $(6,6,2)$."
   ]
  },
  {
   "cell_type": "markdown",
   "metadata": {
    "colab_type": "text",
    "id": "nZCEsuTluHl4"
   },
   "source": [
    "**Q35:** Look at some other corner points and do as you did in Q34. Do you see a similar pattern? Combining what you learned in Q33, what can you say about the relationship between the variables not in the dictionary at some corner point, and the corresponding constraints?\n",
    "\n",
    "**A:** The indices of the variables not in the dictionary correspond to the constraint numbers that have an intersection point at the corner point, where the variables not in the dictionary always have a value of $0$.  "
   ]
  },
  {
   "cell_type": "markdown",
   "metadata": {
    "colab_type": "text",
    "id": "cRx8JGGkuHl4"
   },
   "source": [
    "**Q36:** What geometric feature do feasible solutions for a dictionary correspond to?\n",
    "\n",
    "**A:** Feasible solutions for a dictionary correspond to the corner points of the feasible region bounded by the constraints of the linear program."
   ]
  },
  {
   "cell_type": "markdown",
   "metadata": {
    "colab_type": "text",
    "id": "sp0tmlxmuHl4"
   },
   "source": [
    "## Part IV: Pivot Rules"
   ]
  },
  {
   "cell_type": "markdown",
   "metadata": {
    "colab_type": "text",
    "id": "_UPRwBwyuHl5"
   },
   "source": [
    "The first step in an iteration of simplex is to choose an increasing variable. Sometimes, there are multiple options since multiple variables have a positive coefficent in the objective function. Here, we will explore what this decison translates to geometrically.\n",
    "\n",
    "In this section, we will use a special LP commonly referred to as the Klee-Minty Cube.\n",
    "\n",
    "$$\\begin{align*}\n",
    "\\max \\quad & 4x_1+ 2x_2+ x_3\\\\\n",
    "\\text{s.t.} \\quad\\ & x_1 \\leq 5 \\\\\n",
    "& 4x_1 + x_2 \\leq 25 \\\\\n",
    "& 8x_1 + 4x_2 + x_3 \\leq 125 \\\\\n",
    "& x_1, x_2, x_3 \\geq 0.\n",
    "\\end{align*}$$\n",
    "\n",
    "Furthermore, we will use an optional parameter called `rule` for the `simplex_visual()` function. This rule tells simplex which variable to choose as an increasing variable when there are multiple options."
   ]
  },
  {
   "cell_type": "code",
   "execution_count": null,
   "metadata": {},
   "outputs": [],
   "source": [
    "simplex_visual(ex.KLEE_MINTY_3D_LP, rule='dantzig', initial_solution=np.array([[0],[0],[0]])).show()"
   ]
  },
  {
   "cell_type": "markdown",
   "metadata": {
    "colab_type": "text",
    "id": "RI40kx9guHl7"
   },
   "source": [
    "**Q37:** Use the iteration slider to examine the path of simplex on this LP. What do you notice?\n",
    "\n",
    "**A:** The path always follows the edges of the feasible region that have the smallest increase in the objective function value of the LP. "
   ]
  },
  {
   "cell_type": "markdown",
   "metadata": {
    "colab_type": "text",
    "id": "zvZ2eHGCuHl7"
   },
   "source": [
    "Above, we used a pivot rule proposed by Dantzig. In this rule, the variable with the largest positive coefficient in the objective function enters the dictionary. Go through the iterations again to verify this.\n",
    "\n",
    "Let us consider another pivot rule proposed by Bland, a professor here at Cornell. In his rule, of the variables with positive coefficents in the objective function, the one with the smallest index enters. Let us examine the path of simplex using this pivot rule! Again, look at the dictionary form LP at every iteration."
   ]
  },
  {
   "cell_type": "code",
   "execution_count": null,
   "metadata": {},
   "outputs": [],
   "source": [
    "simplex_visual(ex.KLEE_MINTY_3D_LP,rule='bland', initial_solution=np.array([[0],[0],[0]])).show()"
   ]
  },
  {
   "cell_type": "markdown",
   "metadata": {
    "colab_type": "text",
    "id": "7z2ZxfHfuHl9"
   },
   "source": [
    "**Q38:** What is the difference between the path of simplex using Dantzig's rule and Bland's rule?\n",
    "\n",
    "**A:** The path using Dantzig's rule always adds the variable with the largest positive coefficient into the dictionary, whereas the path using Bland's rule always adds the variable with smallest index and a positive coefficient."
   ]
  },
  {
   "cell_type": "markdown",
   "metadata": {
    "colab_type": "text",
    "id": "tSVPrWhOuHl9"
   },
   "source": [
    "Can you do any better? By setting `rule='manual_select'`, you can choose the entering variable explicitly at each simplex iteration. \n",
    "\n",
    "**Q39:** Can you do better than 5 iterations? How many paths can you find? (By my count, there are 7)\n",
    "\n",
    "**A:** Yes, the path can be as small as 1 iteration by chosing to add $x_3$ first into the dictionary. Choosing to add $x_3$ first yields only one possible path, whereas choosing to add $x_2$ yields two possible paths, and choosing to add $x_1$ yields four possible paths, for a total of seven paths."
   ]
  },
  {
   "cell_type": "code",
   "execution_count": null,
   "metadata": {},
   "outputs": [],
   "source": [
    "simplex_visual(ex.KLEE_MINTY_3D_LP,rule='manual_select', initial_solution=np.array([[0],[0],[0]])).show()"
   ]
  },
  {
   "cell_type": "markdown",
   "metadata": {
    "colab_type": "text",
    "id": "8NkutPafuHl_"
   },
   "source": [
    "**Q40:** What does the choice of increasing variable correspond to geometrically?\n",
    "\n",
    "**A:** The choice of increasing variable corresponds to the path following the edge between the corner points where the variable was not added to the dictionary and where the variable is added to the dictionary."
   ]
  },
  {
   "cell_type": "markdown",
   "metadata": {
    "colab_type": "text",
    "id": "oURvU7IvuHmA"
   },
   "source": [
    "**Q41:** Are there any paths you could visualize taking to the optimal solution that `rule='manual_select'` prevented you from taking? If yes, give an example and explain why it is not a valid path for simplex to take. (Hint: Look at the objective value after each simplex iteration.)\n",
    "\n",
    "**A:** Yes, for example, paths that decrease the objective function value or decrease variables not in the dictionary are not allowed, since the goal is to maximize the objective function, and decreasing variables not in the dictionary would not contribute towards finding the largest objective function value."
   ]
  },
  {
   "cell_type": "markdown",
   "metadata": {
    "colab_type": "text",
    "id": "fz0_WImNuHmA"
   },
   "source": [
    "# Part V: Creating LPs in GILP (Optional)"
   ]
  },
  {
   "cell_type": "markdown",
   "metadata": {
    "colab_type": "text",
    "id": "vYdqpGtHuHmA"
   },
   "source": [
    "We can also create our own LPs! First, we must import the `LP` class. "
   ]
  },
  {
   "cell_type": "code",
   "execution_count": null,
   "metadata": {},
   "outputs": [],
   "source": [
    "from gilp.simplex import LP"
   ]
  },
  {
   "cell_type": "markdown",
   "metadata": {
    "colab_type": "text",
    "id": "IYB81mHnuHmC"
   },
   "source": [
    "Let us create the following LP.\n",
    "\n",
    "$$\\begin{align*}\n",
    "\\max \\quad & 3x_1+2x_2\\\\\n",
    "\\text{s.t.} \\quad & 2x_1 + 1x_2 \\leq 6 \\\\\n",
    "\\quad & 0x_1 + 1x_2 \\leq 2 \\\\\n",
    "\\quad & x_1, x_2 \\geq 0 \\\\\n",
    "\\end{align*}$$\n",
    "\n",
    "We will create this LP by specifying 3 arrays of coefficents. We define the NumPy arrays `A`, `b`, and `c` and then pass them to the `LP` class to create the LP."
   ]
  },
  {
   "cell_type": "code",
   "execution_count": null,
   "metadata": {},
   "outputs": [],
   "source": [
    "A = np.array([[2,1],  # LHS constraint coefficents\n",
    "              [0,1]])\n",
    "b = np.array([6,2])  # RHS constraint coefficents\n",
    "c = np.array([3,2])  # objective function coefficents\n",
    "lp = LP(A,b,c)"
   ]
  },
  {
   "cell_type": "markdown",
   "metadata": {
    "colab_type": "text",
    "id": "UjF9etaWuHmG"
   },
   "source": [
    "Let's visualize it!"
   ]
  },
  {
   "cell_type": "code",
   "execution_count": null,
   "metadata": {},
   "outputs": [],
   "source": [
    "lp_visual(lp).show()"
   ]
  },
  {
   "cell_type": "markdown",
   "metadata": {
    "colab_type": "text",
    "id": "eTy0yYb3uHmI"
   },
   "source": [
    "... and solve it!"
   ]
  },
  {
   "cell_type": "code",
   "execution_count": null,
   "metadata": {},
   "outputs": [],
   "source": [
    "simplex_visual(lp, initial_solution=np.array([[0],[0]])).show()"
   ]
  },
  {
   "cell_type": "code",
   "execution_count": null,
   "metadata": {},
   "outputs": [],
   "source": []
  }
 ],
 "metadata": {
  "language_info": {
   "name": "python"
  }
 },
 "nbformat": 4,
 "nbformat_minor": 2
}
