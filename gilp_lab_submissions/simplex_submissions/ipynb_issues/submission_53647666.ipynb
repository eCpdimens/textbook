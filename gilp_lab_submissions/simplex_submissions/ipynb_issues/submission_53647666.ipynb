{
  "nbformat": 4,
  "nbformat_minor": 0,
  "metadata": {
    "colab": {
      "name": "simplex_lab.ipynb",
      "provenance": [],
      "collapsed_sections": []
    },
    "kernelspec": {
      "display_name": "Python 3",
      "language": "python",
      "name": "python3"
    },
    "language_info": {
      "codemirror_mode": {
        "name": "ipython",
        "version": 3
      },
      "file_extension": ".py",
      "mimetype": "text/x-python",
      "name": "python",
      "nbconvert_exporter": "python",
      "pygments_lexer": "ipython3",
      "version": "3.6.10"
    }
  },
  "cells": [
    {
      "cell_type": "markdown",
      "metadata": {
        "id": "RBv5APyAuHlF"
      },
      "source": [
        "# Geometry of Simplex Lab"
      ]
    },
    {
      "cell_type": "markdown",
      "metadata": {
        "id": "aN5t4dbCuHlG"
      },
      "source": [
        "## Objectives\n",
        "- Understand the geometry of a linear program's feasible region.\n",
        "- Use isoprofit lines and planes to solve 2D and 3D LPs graphically.\n",
        "- Identify the most limiting constraint in an iteration of simplex both algebraically and geometrically.\n",
        "- Identify the geometric features corresponding to dictionaries.\n",
        "- Describe the geometrical decision made at each iteration of simplex."
      ]
    },
    {
      "cell_type": "markdown",
      "metadata": {
        "id": "aWLaUe75uHlG"
      },
      "source": [
        "## Review\n",
        "Recall, linear programs (LPs) have three main components: decision variables, constraints, and an objective function. The goal of linear programming is to find a **feasible solution** (a solution satisfying every constraint) with the highest objective value. The set of feasible solutions form a **feasible region**. In lecture, we learned about isoprofit lines. For every objective value, we can define an isoprofit line. Isoprofit lines have the property that two solutions on the same line have the same objective value and all isoprofit lines are parallel. \n",
        "\n",
        "In the first part of the lab, we will use a Python package called GILP to solve linear programs graphically. We introduce the package now."
      ]
    },
    {
      "cell_type": "markdown",
      "metadata": {
        "id": "7JnEsABJuHlH"
      },
      "source": [
        "## GILP\n",
        "\n",
        "If you are running this file in a Google Colab Notebook, uncomment the following line and run it. Otherwise, you can ignore it."
      ]
    },
    {
      "cell_type": "code",
      "metadata": {
        "id": "y4onoJ4RuHlH",
        "outputId": "3a16bacb-8216-486b-f995-e98b753cb282",
        "colab": {
          "base_uri": "https://localhost:8080/",
          "height": 598
        }
      },
      "source": [
        "!pip install gilp"
      ],
      "execution_count": null,
      "outputs": [
        {
          "output_type": "stream",
          "text": [
            "Collecting gilp\n",
            "  Downloading https://files.pythonhosted.org/packages/96/49/12f4adf7b988975fe2ed55e845b84f5173089e2943bc239e4520527bfe84/gilp-0.1.0-py3-none-any.whl\n",
            "Collecting typing>=3.7\n",
            "\u001b[?25l  Downloading https://files.pythonhosted.org/packages/05/d9/6eebe19d46bd05360c9a9aae822e67a80f9242aabbfc58b641b957546607/typing-3.7.4.3.tar.gz (78kB)\n",
            "\u001b[K     |████████████████████████████████| 81kB 3.5MB/s \n",
            "\u001b[?25hRequirement already satisfied: numpy>=1.16 in /usr/local/lib/python3.6/dist-packages (from gilp) (1.18.5)\n",
            "Requirement already satisfied: scipy>=1.3 in /usr/local/lib/python3.6/dist-packages (from gilp) (1.4.1)\n",
            "Collecting plotly>=4.8\n",
            "\u001b[?25l  Downloading https://files.pythonhosted.org/packages/a6/66/af86e9d9bf1a3e4f2dabebeabd02a32e8ddf671a5d072b3af2b011efea99/plotly-4.12.0-py2.py3-none-any.whl (13.1MB)\n",
            "\u001b[K     |████████████████████████████████| 13.1MB 312kB/s \n",
            "\u001b[?25hCollecting pyhull>=1.5.4\n",
            "\u001b[?25l  Downloading https://files.pythonhosted.org/packages/2d/5e/1dab36627c5855dacf206ccecc78c91ad7cfe614187c93643044fabdd934/pyhull-2015.2.1.tar.gz (318kB)\n",
            "\u001b[K     |████████████████████████████████| 327kB 37.9MB/s \n",
            "\u001b[?25hRequirement already satisfied: retrying>=1.3.3 in /usr/local/lib/python3.6/dist-packages (from plotly>=4.8->gilp) (1.3.3)\n",
            "Requirement already satisfied: six in /usr/local/lib/python3.6/dist-packages (from plotly>=4.8->gilp) (1.15.0)\n",
            "Building wheels for collected packages: typing, pyhull\n",
            "  Building wheel for typing (setup.py) ... \u001b[?25l\u001b[?25hdone\n",
            "  Created wheel for typing: filename=typing-3.7.4.3-cp36-none-any.whl size=26307 sha256=fa177abcaf429f0528a970c78eaa443a58214f74755c86439e2a610deb73ad67\n",
            "  Stored in directory: /root/.cache/pip/wheels/2d/04/41/8e1836e79581989c22eebac3f4e70aaac9af07b0908da173be\n",
            "  Building wheel for pyhull (setup.py) ... \u001b[?25l\u001b[?25hdone\n",
            "  Created wheel for pyhull: filename=pyhull-2015.2.1-cp36-cp36m-linux_x86_64.whl size=448083 sha256=efe0e28cf9334b2a289fb370ee3d970dd3f7e904ead92b8d2e73323bec912223\n",
            "  Stored in directory: /root/.cache/pip/wheels/ce/55/53/e62bbcc5daafc9ae4d09590581193249782445e0d73b878b74\n",
            "Successfully built typing pyhull\n",
            "Installing collected packages: typing, plotly, pyhull, gilp\n",
            "  Found existing installation: plotly 4.4.1\n",
            "    Uninstalling plotly-4.4.1:\n",
            "      Successfully uninstalled plotly-4.4.1\n",
            "Successfully installed gilp-0.1.0 plotly-4.12.0 pyhull-2015.2.1 typing-3.7.4.3\n"
          ],
          "name": "stdout"
        },
        {
          "output_type": "display_data",
          "data": {
            "application/vnd.colab-display-data+json": {
              "pip_warning": {
                "packages": [
                  "typing"
                ]
              }
            }
          },
          "metadata": {
            "tags": []
          }
        }
      ]
    },
    {
      "cell_type": "markdown",
      "metadata": {
        "id": "IfZOeoDXuHlK"
      },
      "source": [
        "This lab uses default LPs built in to GILP. We import them below."
      ]
    },
    {
      "cell_type": "code",
      "metadata": {
        "id": "qcDn9AqmuHlL"
      },
      "source": [
        "from gilp import examples as ex"
      ],
      "execution_count": null,
      "outputs": []
    },
    {
      "cell_type": "markdown",
      "metadata": {
        "id": "7-0xeoZxuHlN"
      },
      "source": [
        "We access the LP examples using `ex.NAME` where `NAME` is the name of the example LP. For example, consider:\n",
        "\n",
        "$$\\begin{align*}\n",
        "\\max \\quad & 5x_1+3x_2\\\\\n",
        "\\text{s.t.} \\quad & 2x_1 + 1x_2 \\leq 20 \\\\\n",
        "\\quad & 1x_1 + 1x_2 \\leq 16\n",
        " \\\\\n",
        "\\quad & 1x_1 + 0x_2 \\leq 7 \\\\\n",
        "\\quad & x_1, x_2 \\geq 0 \\\\\n",
        "\\end{align*}$$\n",
        "\n",
        "This example LP is called `ALL_INTEGER_2D_LP`. We assign this LP to the variable `lp` below."
      ]
    },
    {
      "cell_type": "code",
      "metadata": {
        "id": "GHff7IwmuHlN"
      },
      "source": [
        "lp = ex.ALL_INTEGER_2D_LP"
      ],
      "execution_count": null,
      "outputs": []
    },
    {
      "cell_type": "markdown",
      "metadata": {
        "id": "763HNpKquHlS"
      },
      "source": [
        "We can visualize this LP using a function called `lp_visual()`. First, we must import it."
      ]
    },
    {
      "cell_type": "code",
      "metadata": {
        "id": "nqIZ_FOyuHlS"
      },
      "source": [
        "from gilp.visualize import lp_visual"
      ],
      "execution_count": null,
      "outputs": []
    },
    {
      "cell_type": "markdown",
      "metadata": {
        "id": "zzEyysW0uHlU"
      },
      "source": [
        "The function `lp_visual()` takes an LP and returns a visualization. We then use the `.show()` function to display the visualiazation."
      ]
    },
    {
      "cell_type": "code",
      "metadata": {
        "id": "-B-qcGD1uHlU",
        "scrolled": false,
        "outputId": "a7ca8af9-e334-4738-e3a2-52e356cf8c57",
        "colab": {
          "base_uri": "https://localhost:8080/",
          "height": 517
        }
      },
      "source": [
        "lp_visual(lp).show()"
      ],
      "execution_count": null,
      "outputs": [
        {
          "output_type": "display_data",
          "data": {
            "text/html": [
              "<html>\n",
              "<head><meta charset=\"utf-8\" /></head>\n",
              "<body>\n",
              "    <div>            <script src=\"https://cdnjs.cloudflare.com/ajax/libs/mathjax/2.7.5/MathJax.js?config=TeX-AMS-MML_SVG\"></script><script type=\"text/javascript\">if (window.MathJax) {MathJax.Hub.Config({SVG: {font: \"STIX-Web\"}});}</script>                <script type=\"text/javascript\">window.PlotlyConfig = {MathJaxConfig: 'local'};</script>\n",
              "        <script src=\"https://cdn.plot.ly/plotly-latest.min.js\"></script>                <div id=\"e170b36c-804f-4d41-9772-382a22c0d19f\" class=\"plotly-graph-div\" style=\"height:500px; width:950px;\"></div>            <script type=\"text/javascript\">                                    window.PLOTLYENV=window.PLOTLYENV || {};                                    if (document.getElementById(\"e170b36c-804f-4d41-9772-382a22c0d19f\")) {                    Plotly.newPlot(                        \"e170b36c-804f-4d41-9772-382a22c0d19f\",                        [{\"hoverinfo\": \"skip\", \"marker\": {\"color\": \"white\", \"opacity\": 1e-07, \"size\": 0}, \"mode\": \"markers\", \"showlegend\": false, \"type\": \"scatter\", \"x\": [9.1], \"y\": [20.8]}, {\"fill\": \"toself\", \"fillcolor\": \"#1469FE\", \"hoverinfo\": \"none\", \"line\": {\"color\": \"#00285F\", \"width\": 2}, \"mode\": \"lines\", \"opacity\": 0.3, \"showlegend\": false, \"type\": \"scatter\", \"x\": [0.0, 7.0, 7.0, 4.0, 0.0, 0.0], \"y\": [0.0, 0.0, 6.0, 12.0, 16.0, 0.0]}, {\"hoverinfo\": \"skip\", \"line\": {\"color\": \"#1469FE\", \"dash\": \"15,3,5,3\", \"width\": 2}, \"mode\": \"lines\", \"name\": \"(3) 2x<sub>1</sub> + 1x<sub>2</sub> \\u2264 20\", \"showlegend\": true, \"type\": \"scatter\", \"visible\": true, \"x\": [0.0, 9.1], \"y\": [20.0, 1.8000000000000007]}, {\"hoverinfo\": \"skip\", \"line\": {\"color\": \"#65ADFF\", \"dash\": \"15,3,5,3\", \"width\": 2}, \"mode\": \"lines\", \"name\": \"(4) 1x<sub>1</sub> + 1x<sub>2</sub> \\u2264 16\", \"showlegend\": true, \"type\": \"scatter\", \"visible\": true, \"x\": [0.0, 9.1], \"y\": [16.0, 6.9]}, {\"hoverinfo\": \"skip\", \"line\": {\"color\": \"#474849\", \"dash\": \"15,3,5,3\", \"width\": 2}, \"mode\": \"lines\", \"name\": \"(5) 1x<sub>1</sub> + 0x<sub>2</sub> \\u2264 7\", \"showlegend\": true, \"type\": \"scatter\", \"visible\": true, \"x\": [7.0, 7.0], \"y\": [0.0, 20.8]}, {\"hoverinfo\": \"text\", \"hoverlabel\": {\"bgcolor\": \"#FAFAFA\", \"bordercolor\": \"#323232\", \"font\": {\"color\": \"#323232\", \"family\": \"Arial\"}}, \"marker\": {\"color\": \"gray\", \"opacity\": 1e-07, \"size\": 20}, \"mode\": \"markers\", \"showlegend\": false, \"text\": [\"<b>BFS</b>: (0, 0, 20, 16, 7)<br><b>B</b>: (3, 4, 5)<br><b>Obj</b>: 0\", \"<b>BFS</b>: (0, 16, 4, 0, 7)<br><b>B</b>: (2, 3, 5)<br><b>Obj</b>: 48\", \"<b>BFS</b>: (4, 12, 0, 0, 3)<br><b>B</b>: (1, 2, 5)<br><b>Obj</b>: 56\", \"<b>BFS</b>: (7, 0, 6, 9, 0)<br><b>B</b>: (1, 3, 4)<br><b>Obj</b>: 35\", \"<b>BFS</b>: (7, 6, 0, 3, 0)<br><b>B</b>: (1, 2, 4)<br><b>Obj</b>: 53\"], \"type\": \"scatter\", \"x\": [0.0, 0.0, 4.000000000000001, 7.0, 7.0], \"y\": [0.0, 16.0, 12.0, 0.0, 6.000000000000002]}, {\"hoverinfo\": \"skip\", \"line\": {\"color\": \"red\", \"width\": 4}, \"mode\": \"lines\", \"showlegend\": false, \"type\": \"scatter\", \"visible\": false, \"x\": [0.0, 9.1], \"y\": [0.0, -15.166666666666666]}, {\"hoverinfo\": \"skip\", \"line\": {\"color\": \"red\", \"width\": 4}, \"mode\": \"lines\", \"showlegend\": false, \"type\": \"scatter\", \"visible\": false, \"x\": [0.0, 9.1], \"y\": [1.5, -13.666666666666666]}, {\"hoverinfo\": \"skip\", \"line\": {\"color\": \"red\", \"width\": 4}, \"mode\": \"lines\", \"showlegend\": false, \"type\": \"scatter\", \"visible\": false, \"x\": [0.0, 9.1], \"y\": [2.9966666666666666, -12.17]}, {\"hoverinfo\": \"skip\", \"line\": {\"color\": \"red\", \"width\": 4}, \"mode\": \"lines\", \"showlegend\": false, \"type\": \"scatter\", \"visible\": false, \"x\": [0.0, 9.1], \"y\": [4.496666666666667, -10.67]}, {\"hoverinfo\": \"skip\", \"line\": {\"color\": \"red\", \"width\": 4}, \"mode\": \"lines\", \"showlegend\": false, \"type\": \"scatter\", \"visible\": false, \"x\": [0.0, 9.1], \"y\": [5.993333333333333, -9.173333333333334]}, {\"hoverinfo\": \"skip\", \"line\": {\"color\": \"red\", \"width\": 4}, \"mode\": \"lines\", \"showlegend\": false, \"type\": \"scatter\", \"visible\": false, \"x\": [0.0, 9.1], \"y\": [7.493333333333333, -7.673333333333333]}, {\"hoverinfo\": \"skip\", \"line\": {\"color\": \"red\", \"width\": 4}, \"mode\": \"lines\", \"showlegend\": false, \"type\": \"scatter\", \"visible\": false, \"x\": [0.0, 9.1], \"y\": [8.993333333333334, -6.173333333333333]}, {\"hoverinfo\": \"skip\", \"line\": {\"color\": \"red\", \"width\": 4}, \"mode\": \"lines\", \"showlegend\": false, \"type\": \"scatter\", \"visible\": false, \"x\": [0.0, 9.1], \"y\": [10.49, -4.676666666666667]}, {\"hoverinfo\": \"skip\", \"line\": {\"color\": \"red\", \"width\": 4}, \"mode\": \"lines\", \"showlegend\": false, \"type\": \"scatter\", \"visible\": false, \"x\": [0.0, 9.1], \"y\": [11.99, -3.176666666666667]}, {\"hoverinfo\": \"skip\", \"line\": {\"color\": \"red\", \"width\": 4}, \"mode\": \"lines\", \"showlegend\": false, \"type\": \"scatter\", \"visible\": false, \"x\": [0.0, 9.1], \"y\": [13.486666666666666, -1.6799999999999997]}, {\"hoverinfo\": \"skip\", \"line\": {\"color\": \"red\", \"width\": 4}, \"mode\": \"lines\", \"showlegend\": false, \"type\": \"scatter\", \"visible\": false, \"x\": [0.0, 9.1], \"y\": [14.986666666666666, -0.17999999999999972]}, {\"hoverinfo\": \"skip\", \"line\": {\"color\": \"red\", \"width\": 4}, \"mode\": \"lines\", \"showlegend\": false, \"type\": \"scatter\", \"visible\": false, \"x\": [0.0, 9.1], \"y\": [16.483333333333334, 1.3166666666666675]}, {\"hoverinfo\": \"skip\", \"line\": {\"color\": \"red\", \"width\": 4}, \"mode\": \"lines\", \"showlegend\": false, \"type\": \"scatter\", \"visible\": false, \"x\": [0.0, 9.1], \"y\": [17.983333333333334, 2.8166666666666678]}, {\"hoverinfo\": \"skip\", \"line\": {\"color\": \"red\", \"width\": 4}, \"mode\": \"lines\", \"showlegend\": false, \"type\": \"scatter\", \"visible\": false, \"x\": [0.0, 9.1], \"y\": [18.666666666666668, 3.5]}, {\"hoverinfo\": \"skip\", \"line\": {\"color\": \"red\", \"width\": 4}, \"mode\": \"lines\", \"showlegend\": false, \"type\": \"scatter\", \"visible\": false, \"x\": [0.0, 9.1], \"y\": [19.483333333333334, 4.316666666666667]}, {\"hoverinfo\": \"skip\", \"line\": {\"color\": \"red\", \"width\": 4}, \"mode\": \"lines\", \"showlegend\": false, \"type\": \"scatter\", \"visible\": false, \"x\": [0.0, 9.1], \"y\": [20.98, 5.813333333333333]}, {\"hoverinfo\": \"skip\", \"line\": {\"color\": \"red\", \"width\": 4}, \"mode\": \"lines\", \"showlegend\": false, \"type\": \"scatter\", \"visible\": false, \"x\": [0.0, 9.1], \"y\": [22.48, 7.313333333333333]}, {\"hoverinfo\": \"skip\", \"line\": {\"color\": \"red\", \"width\": 4}, \"mode\": \"lines\", \"showlegend\": false, \"type\": \"scatter\", \"visible\": false, \"x\": [0.0, 9.1], \"y\": [23.97666666666667, 8.810000000000002]}, {\"hoverinfo\": \"skip\", \"line\": {\"color\": \"red\", \"width\": 4}, \"mode\": \"lines\", \"showlegend\": false, \"type\": \"scatter\", \"visible\": false, \"x\": [0.0, 9.1], \"y\": [25.47666666666667, 10.310000000000002]}, {\"hoverinfo\": \"skip\", \"line\": {\"color\": \"red\", \"width\": 4}, \"mode\": \"lines\", \"showlegend\": false, \"type\": \"scatter\", \"visible\": false, \"x\": [0.0, 9.1], \"y\": [26.97666666666667, 11.810000000000002]}, {\"hoverinfo\": \"skip\", \"line\": {\"color\": \"red\", \"width\": 4}, \"mode\": \"lines\", \"showlegend\": false, \"type\": \"scatter\", \"visible\": false, \"x\": [0.0, 9.1], \"y\": [28.473333333333333, 13.306666666666667]}, {\"hoverinfo\": \"skip\", \"line\": {\"color\": \"red\", \"width\": 4}, \"mode\": \"lines\", \"showlegend\": false, \"type\": \"scatter\", \"visible\": false, \"x\": [0.0, 9.1], \"y\": [29.973333333333333, 14.806666666666667]}, {\"hoverinfo\": \"skip\", \"line\": {\"color\": \"red\", \"width\": 4}, \"mode\": \"lines\", \"showlegend\": false, \"type\": \"scatter\", \"visible\": false, \"x\": [0.0, 9.1], \"y\": [31.47, 16.30333333333333]}, {\"hoverinfo\": \"skip\", \"line\": {\"color\": \"red\", \"width\": 4}, \"mode\": \"lines\", \"showlegend\": false, \"type\": \"scatter\", \"visible\": false, \"x\": [0.0, 9.1], \"y\": [32.97, 17.80333333333333]}, {\"hoverinfo\": \"skip\", \"line\": {\"color\": \"red\", \"width\": 4}, \"mode\": \"lines\", \"showlegend\": false, \"type\": \"scatter\", \"visible\": false, \"x\": [0.0, 9.1], \"y\": [34.46666666666667, 19.3]}, {\"hoverinfo\": \"skip\", \"line\": {\"color\": \"red\", \"width\": 4}, \"mode\": \"lines\", \"showlegend\": false, \"type\": \"scatter\", \"visible\": false, \"x\": [0.0, 9.1], \"y\": [35.96666666666667, 20.8]}],                        {\"font\": {\"color\": \"#323232\", \"family\": \"Arial\"}, \"height\": 500, \"legend\": {\"font\": {\"size\": 13}, \"title\": {\"font\": {\"size\": 14}, \"text\": \"<b>Constraint(s)</b>\"}, \"x\": 0.39473684210526316, \"xanchor\": \"left\", \"y\": 1, \"yanchor\": \"top\"}, \"margin\": {\"b\": 0, \"l\": 0, \"r\": 0, \"t\": 33}, \"paper_bgcolor\": \"white\", \"plot_bgcolor\": \"#FAFAFA\", \"scene\": {\"aspectmode\": \"cube\", \"domain\": {\"x\": [0, 0.39473684210526316], \"y\": [0, 1]}, \"xaxis\": {\"gridcolor\": \"#CCCCCC\", \"gridwidth\": 1, \"linecolor\": \"#4D4D4D\", \"linewidth\": 2, \"range\": [0, 9.1], \"rangemode\": \"tozero\", \"showspikes\": false, \"tickcolor\": \"#4D4D4D\", \"ticks\": \"outside\", \"title\": {\"text\": \"x<sub>1</sub>\"}}, \"yaxis\": {\"gridcolor\": \"#CCCCCC\", \"gridwidth\": 1, \"linecolor\": \"#4D4D4D\", \"linewidth\": 2, \"range\": [0, 20.8], \"rangemode\": \"tozero\", \"showspikes\": false, \"tickcolor\": \"#4D4D4D\", \"ticks\": \"outside\", \"title\": {\"text\": \"x<sub>2</sub>\"}}, \"zaxis\": {\"gridcolor\": \"#CCCCCC\", \"gridwidth\": 1, \"linecolor\": \"#4D4D4D\", \"linewidth\": 2, \"rangemode\": \"tozero\", \"showspikes\": false, \"tickcolor\": \"#4D4D4D\", \"ticks\": \"outside\", \"title\": {\"text\": \"x<sub>3</sub>\"}}}, \"sliders\": [{\"active\": 0, \"currentvalue\": {\"prefix\": \"Objective Value: \"}, \"len\": 0.4, \"lenmode\": \"fraction\", \"pad\": {\"b\": 0, \"l\": 0, \"r\": 0, \"t\": 50}, \"steps\": [{\"args\": [{\"visible\": [null, null, true, true, true, null, true, false, false, false, false, false, false, false, false, false, false, false, false, false, false, false, false, false, false, false, false, false, false, false, false, false]}], \"label\": \"0.0\", \"method\": \"update\"}, {\"args\": [{\"visible\": [null, null, true, true, true, null, false, true, false, false, false, false, false, false, false, false, false, false, false, false, false, false, false, false, false, false, false, false, false, false, false, false]}], \"label\": \"4.5\", \"method\": \"update\"}, {\"args\": [{\"visible\": [null, null, true, true, true, null, false, false, true, false, false, false, false, false, false, false, false, false, false, false, false, false, false, false, false, false, false, false, false, false, false, false]}], \"label\": \"8.99\", \"method\": \"update\"}, {\"args\": [{\"visible\": [null, null, true, true, true, null, false, false, false, true, false, false, false, false, false, false, false, false, false, false, false, false, false, false, false, false, false, false, false, false, false, false]}], \"label\": \"13.49\", \"method\": \"update\"}, {\"args\": [{\"visible\": [null, null, true, true, true, null, false, false, false, false, true, false, false, false, false, false, false, false, false, false, false, false, false, false, false, false, false, false, false, false, false, false]}], \"label\": \"17.98\", \"method\": \"update\"}, {\"args\": [{\"visible\": [null, null, true, true, true, null, false, false, false, false, false, true, false, false, false, false, false, false, false, false, false, false, false, false, false, false, false, false, false, false, false, false]}], \"label\": \"22.48\", \"method\": \"update\"}, {\"args\": [{\"visible\": [null, null, true, true, true, null, false, false, false, false, false, false, true, false, false, false, false, false, false, false, false, false, false, false, false, false, false, false, false, false, false, false]}], \"label\": \"26.98\", \"method\": \"update\"}, {\"args\": [{\"visible\": [null, null, true, true, true, null, false, false, false, false, false, false, false, true, false, false, false, false, false, false, false, false, false, false, false, false, false, false, false, false, false, false]}], \"label\": \"31.47\", \"method\": \"update\"}, {\"args\": [{\"visible\": [null, null, true, true, true, null, false, false, false, false, false, false, false, false, true, false, false, false, false, false, false, false, false, false, false, false, false, false, false, false, false, false]}], \"label\": \"35.97\", \"method\": \"update\"}, {\"args\": [{\"visible\": [null, null, true, true, true, null, false, false, false, false, false, false, false, false, false, true, false, false, false, false, false, false, false, false, false, false, false, false, false, false, false, false]}], \"label\": \"40.46\", \"method\": \"update\"}, {\"args\": [{\"visible\": [null, null, true, true, true, null, false, false, false, false, false, false, false, false, false, false, true, false, false, false, false, false, false, false, false, false, false, false, false, false, false, false]}], \"label\": \"44.96\", \"method\": \"update\"}, {\"args\": [{\"visible\": [null, null, true, true, true, null, false, false, false, false, false, false, false, false, false, false, false, true, false, false, false, false, false, false, false, false, false, false, false, false, false, false]}], \"label\": \"49.45\", \"method\": \"update\"}, {\"args\": [{\"visible\": [null, null, true, true, true, null, false, false, false, false, false, false, false, false, false, false, false, false, true, false, false, false, false, false, false, false, false, false, false, false, false, false]}], \"label\": \"53.95\", \"method\": \"update\"}, {\"args\": [{\"visible\": [null, null, true, true, true, null, false, false, false, false, false, false, false, false, false, false, false, false, false, true, false, false, false, false, false, false, false, false, false, false, false, false]}], \"label\": \"56.0\", \"method\": \"update\"}, {\"args\": [{\"visible\": [null, null, true, true, true, null, false, false, false, false, false, false, false, false, false, false, false, false, false, false, true, false, false, false, false, false, false, false, false, false, false, false]}], \"label\": \"58.45\", \"method\": \"update\"}, {\"args\": [{\"visible\": [null, null, true, true, true, null, false, false, false, false, false, false, false, false, false, false, false, false, false, false, false, true, false, false, false, false, false, false, false, false, false, false]}], \"label\": \"62.94\", \"method\": \"update\"}, {\"args\": [{\"visible\": [null, null, true, true, true, null, false, false, false, false, false, false, false, false, false, false, false, false, false, false, false, false, true, false, false, false, false, false, false, false, false, false]}], \"label\": \"67.44\", \"method\": \"update\"}, {\"args\": [{\"visible\": [null, null, true, true, true, null, false, false, false, false, false, false, false, false, false, false, false, false, false, false, false, false, false, true, false, false, false, false, false, false, false, false]}], \"label\": \"71.93\", \"method\": \"update\"}, {\"args\": [{\"visible\": [null, null, true, true, true, null, false, false, false, false, false, false, false, false, false, false, false, false, false, false, false, false, false, false, true, false, false, false, false, false, false, false]}], \"label\": \"76.43\", \"method\": \"update\"}, {\"args\": [{\"visible\": [null, null, true, true, true, null, false, false, false, false, false, false, false, false, false, false, false, false, false, false, false, false, false, false, false, true, false, false, false, false, false, false]}], \"label\": \"80.93\", \"method\": \"update\"}, {\"args\": [{\"visible\": [null, null, true, true, true, null, false, false, false, false, false, false, false, false, false, false, false, false, false, false, false, false, false, false, false, false, true, false, false, false, false, false]}], \"label\": \"85.42\", \"method\": \"update\"}, {\"args\": [{\"visible\": [null, null, true, true, true, null, false, false, false, false, false, false, false, false, false, false, false, false, false, false, false, false, false, false, false, false, false, true, false, false, false, false]}], \"label\": \"89.92\", \"method\": \"update\"}, {\"args\": [{\"visible\": [null, null, true, true, true, null, false, false, false, false, false, false, false, false, false, false, false, false, false, false, false, false, false, false, false, false, false, false, true, false, false, false]}], \"label\": \"94.41\", \"method\": \"update\"}, {\"args\": [{\"visible\": [null, null, true, true, true, null, false, false, false, false, false, false, false, false, false, false, false, false, false, false, false, false, false, false, false, false, false, false, false, true, false, false]}], \"label\": \"98.91\", \"method\": \"update\"}, {\"args\": [{\"visible\": [null, null, true, true, true, null, false, false, false, false, false, false, false, false, false, false, false, false, false, false, false, false, false, false, false, false, false, false, false, false, true, false]}], \"label\": \"103.4\", \"method\": \"update\"}, {\"args\": [{\"visible\": [null, null, true, true, true, null, false, false, false, false, false, false, false, false, false, false, false, false, false, false, false, false, false, false, false, false, false, false, false, false, false, true]}], \"label\": \"107.9\", \"method\": \"update\"}], \"tickcolor\": \"white\", \"ticklen\": 0, \"x\": 0.6052631578947368, \"xanchor\": \"left\", \"y\": 0.01, \"yanchor\": \"bottom\"}], \"template\": {\"data\": {\"bar\": [{\"error_x\": {\"color\": \"#2a3f5f\"}, \"error_y\": {\"color\": \"#2a3f5f\"}, \"marker\": {\"line\": {\"color\": \"#E5ECF6\", \"width\": 0.5}}, \"type\": \"bar\"}], \"barpolar\": [{\"marker\": {\"line\": {\"color\": \"#E5ECF6\", \"width\": 0.5}}, \"type\": \"barpolar\"}], \"carpet\": [{\"aaxis\": {\"endlinecolor\": \"#2a3f5f\", \"gridcolor\": \"white\", \"linecolor\": \"white\", \"minorgridcolor\": \"white\", \"startlinecolor\": \"#2a3f5f\"}, \"baxis\": {\"endlinecolor\": \"#2a3f5f\", \"gridcolor\": \"white\", \"linecolor\": \"white\", \"minorgridcolor\": \"white\", \"startlinecolor\": \"#2a3f5f\"}, \"type\": \"carpet\"}], \"choropleth\": [{\"colorbar\": {\"outlinewidth\": 0, \"ticks\": \"\"}, \"type\": \"choropleth\"}], \"contour\": [{\"colorbar\": {\"outlinewidth\": 0, \"ticks\": \"\"}, \"colorscale\": [[0.0, \"#0d0887\"], [0.1111111111111111, \"#46039f\"], [0.2222222222222222, \"#7201a8\"], [0.3333333333333333, \"#9c179e\"], [0.4444444444444444, \"#bd3786\"], [0.5555555555555556, \"#d8576b\"], [0.6666666666666666, \"#ed7953\"], [0.7777777777777778, \"#fb9f3a\"], [0.8888888888888888, \"#fdca26\"], [1.0, \"#f0f921\"]], \"type\": \"contour\"}], \"contourcarpet\": [{\"colorbar\": {\"outlinewidth\": 0, \"ticks\": \"\"}, \"type\": \"contourcarpet\"}], \"heatmap\": [{\"colorbar\": {\"outlinewidth\": 0, \"ticks\": \"\"}, \"colorscale\": [[0.0, \"#0d0887\"], [0.1111111111111111, \"#46039f\"], [0.2222222222222222, \"#7201a8\"], [0.3333333333333333, \"#9c179e\"], [0.4444444444444444, \"#bd3786\"], [0.5555555555555556, \"#d8576b\"], [0.6666666666666666, \"#ed7953\"], [0.7777777777777778, \"#fb9f3a\"], [0.8888888888888888, \"#fdca26\"], [1.0, \"#f0f921\"]], \"type\": \"heatmap\"}], \"heatmapgl\": [{\"colorbar\": {\"outlinewidth\": 0, \"ticks\": \"\"}, \"colorscale\": [[0.0, \"#0d0887\"], [0.1111111111111111, \"#46039f\"], [0.2222222222222222, \"#7201a8\"], [0.3333333333333333, \"#9c179e\"], [0.4444444444444444, \"#bd3786\"], [0.5555555555555556, \"#d8576b\"], [0.6666666666666666, \"#ed7953\"], [0.7777777777777778, \"#fb9f3a\"], [0.8888888888888888, \"#fdca26\"], [1.0, \"#f0f921\"]], \"type\": \"heatmapgl\"}], \"histogram\": [{\"marker\": {\"colorbar\": {\"outlinewidth\": 0, \"ticks\": \"\"}}, \"type\": \"histogram\"}], \"histogram2d\": [{\"colorbar\": {\"outlinewidth\": 0, \"ticks\": \"\"}, \"colorscale\": [[0.0, \"#0d0887\"], [0.1111111111111111, \"#46039f\"], [0.2222222222222222, \"#7201a8\"], [0.3333333333333333, \"#9c179e\"], [0.4444444444444444, \"#bd3786\"], [0.5555555555555556, \"#d8576b\"], [0.6666666666666666, \"#ed7953\"], [0.7777777777777778, \"#fb9f3a\"], [0.8888888888888888, \"#fdca26\"], [1.0, \"#f0f921\"]], \"type\": \"histogram2d\"}], \"histogram2dcontour\": [{\"colorbar\": {\"outlinewidth\": 0, \"ticks\": \"\"}, \"colorscale\": [[0.0, \"#0d0887\"], [0.1111111111111111, \"#46039f\"], [0.2222222222222222, \"#7201a8\"], [0.3333333333333333, \"#9c179e\"], [0.4444444444444444, \"#bd3786\"], [0.5555555555555556, \"#d8576b\"], [0.6666666666666666, \"#ed7953\"], [0.7777777777777778, \"#fb9f3a\"], [0.8888888888888888, \"#fdca26\"], [1.0, \"#f0f921\"]], \"type\": \"histogram2dcontour\"}], \"mesh3d\": [{\"colorbar\": {\"outlinewidth\": 0, \"ticks\": \"\"}, \"type\": \"mesh3d\"}], \"parcoords\": [{\"line\": {\"colorbar\": {\"outlinewidth\": 0, \"ticks\": \"\"}}, \"type\": \"parcoords\"}], \"pie\": [{\"automargin\": true, \"type\": \"pie\"}], \"scatter\": [{\"marker\": {\"colorbar\": {\"outlinewidth\": 0, \"ticks\": \"\"}}, \"type\": \"scatter\"}], \"scatter3d\": [{\"line\": {\"colorbar\": {\"outlinewidth\": 0, \"ticks\": \"\"}}, \"marker\": {\"colorbar\": {\"outlinewidth\": 0, \"ticks\": \"\"}}, \"type\": \"scatter3d\"}], \"scattercarpet\": [{\"marker\": {\"colorbar\": {\"outlinewidth\": 0, \"ticks\": \"\"}}, \"type\": \"scattercarpet\"}], \"scattergeo\": [{\"marker\": {\"colorbar\": {\"outlinewidth\": 0, \"ticks\": \"\"}}, \"type\": \"scattergeo\"}], \"scattergl\": [{\"marker\": {\"colorbar\": {\"outlinewidth\": 0, \"ticks\": \"\"}}, \"type\": \"scattergl\"}], \"scattermapbox\": [{\"marker\": {\"colorbar\": {\"outlinewidth\": 0, \"ticks\": \"\"}}, \"type\": \"scattermapbox\"}], \"scatterpolar\": [{\"marker\": {\"colorbar\": {\"outlinewidth\": 0, \"ticks\": \"\"}}, \"type\": \"scatterpolar\"}], \"scatterpolargl\": [{\"marker\": {\"colorbar\": {\"outlinewidth\": 0, \"ticks\": \"\"}}, \"type\": \"scatterpolargl\"}], \"scatterternary\": [{\"marker\": {\"colorbar\": {\"outlinewidth\": 0, \"ticks\": \"\"}}, \"type\": \"scatterternary\"}], \"surface\": [{\"colorbar\": {\"outlinewidth\": 0, \"ticks\": \"\"}, \"colorscale\": [[0.0, \"#0d0887\"], [0.1111111111111111, \"#46039f\"], [0.2222222222222222, \"#7201a8\"], [0.3333333333333333, \"#9c179e\"], [0.4444444444444444, \"#bd3786\"], [0.5555555555555556, \"#d8576b\"], [0.6666666666666666, \"#ed7953\"], [0.7777777777777778, \"#fb9f3a\"], [0.8888888888888888, \"#fdca26\"], [1.0, \"#f0f921\"]], \"type\": \"surface\"}], \"table\": [{\"cells\": {\"fill\": {\"color\": \"#EBF0F8\"}, \"line\": {\"color\": \"white\"}}, \"header\": {\"fill\": {\"color\": \"#C8D4E3\"}, \"line\": {\"color\": \"white\"}}, \"type\": \"table\"}]}, \"layout\": {\"annotationdefaults\": {\"arrowcolor\": \"#2a3f5f\", \"arrowhead\": 0, \"arrowwidth\": 1}, \"coloraxis\": {\"colorbar\": {\"outlinewidth\": 0, \"ticks\": \"\"}}, \"colorscale\": {\"diverging\": [[0, \"#8e0152\"], [0.1, \"#c51b7d\"], [0.2, \"#de77ae\"], [0.3, \"#f1b6da\"], [0.4, \"#fde0ef\"], [0.5, \"#f7f7f7\"], [0.6, \"#e6f5d0\"], [0.7, \"#b8e186\"], [0.8, \"#7fbc41\"], [0.9, \"#4d9221\"], [1, \"#276419\"]], \"sequential\": [[0.0, \"#0d0887\"], [0.1111111111111111, \"#46039f\"], [0.2222222222222222, \"#7201a8\"], [0.3333333333333333, \"#9c179e\"], [0.4444444444444444, \"#bd3786\"], [0.5555555555555556, \"#d8576b\"], [0.6666666666666666, \"#ed7953\"], [0.7777777777777778, \"#fb9f3a\"], [0.8888888888888888, \"#fdca26\"], [1.0, \"#f0f921\"]], \"sequentialminus\": [[0.0, \"#0d0887\"], [0.1111111111111111, \"#46039f\"], [0.2222222222222222, \"#7201a8\"], [0.3333333333333333, \"#9c179e\"], [0.4444444444444444, \"#bd3786\"], [0.5555555555555556, \"#d8576b\"], [0.6666666666666666, \"#ed7953\"], [0.7777777777777778, \"#fb9f3a\"], [0.8888888888888888, \"#fdca26\"], [1.0, \"#f0f921\"]]}, \"colorway\": [\"#636efa\", \"#EF553B\", \"#00cc96\", \"#ab63fa\", \"#FFA15A\", \"#19d3f3\", \"#FF6692\", \"#B6E880\", \"#FF97FF\", \"#FECB52\"], \"font\": {\"color\": \"#2a3f5f\"}, \"geo\": {\"bgcolor\": \"white\", \"lakecolor\": \"white\", \"landcolor\": \"#E5ECF6\", \"showlakes\": true, \"showland\": true, \"subunitcolor\": \"white\"}, \"hoverlabel\": {\"align\": \"left\"}, \"hovermode\": \"closest\", \"mapbox\": {\"style\": \"light\"}, \"paper_bgcolor\": \"white\", \"plot_bgcolor\": \"#E5ECF6\", \"polar\": {\"angularaxis\": {\"gridcolor\": \"white\", \"linecolor\": \"white\", \"ticks\": \"\"}, \"bgcolor\": \"#E5ECF6\", \"radialaxis\": {\"gridcolor\": \"white\", \"linecolor\": \"white\", \"ticks\": \"\"}}, \"scene\": {\"xaxis\": {\"backgroundcolor\": \"#E5ECF6\", \"gridcolor\": \"white\", \"gridwidth\": 2, \"linecolor\": \"white\", \"showbackground\": true, \"ticks\": \"\", \"zerolinecolor\": \"white\"}, \"yaxis\": {\"backgroundcolor\": \"#E5ECF6\", \"gridcolor\": \"white\", \"gridwidth\": 2, \"linecolor\": \"white\", \"showbackground\": true, \"ticks\": \"\", \"zerolinecolor\": \"white\"}, \"zaxis\": {\"backgroundcolor\": \"#E5ECF6\", \"gridcolor\": \"white\", \"gridwidth\": 2, \"linecolor\": \"white\", \"showbackground\": true, \"ticks\": \"\", \"zerolinecolor\": \"white\"}}, \"shapedefaults\": {\"line\": {\"color\": \"#2a3f5f\"}}, \"ternary\": {\"aaxis\": {\"gridcolor\": \"white\", \"linecolor\": \"white\", \"ticks\": \"\"}, \"baxis\": {\"gridcolor\": \"white\", \"linecolor\": \"white\", \"ticks\": \"\"}, \"bgcolor\": \"#E5ECF6\", \"caxis\": {\"gridcolor\": \"white\", \"linecolor\": \"white\", \"ticks\": \"\"}}, \"title\": {\"x\": 0.05}, \"xaxis\": {\"automargin\": true, \"gridcolor\": \"white\", \"linecolor\": \"white\", \"ticks\": \"\", \"title\": {\"standoff\": 15}, \"zerolinecolor\": \"white\", \"zerolinewidth\": 2}, \"yaxis\": {\"automargin\": true, \"gridcolor\": \"white\", \"linecolor\": \"white\", \"ticks\": \"\", \"title\": {\"standoff\": 15}, \"zerolinecolor\": \"white\", \"zerolinewidth\": 2}}}, \"title\": {\"font\": {\"color\": \"#00285F\", \"size\": 18}, \"text\": \"<b>Geometric Interpretation of LPs</b>\", \"x\": 0, \"xanchor\": \"left\", \"y\": 0.99, \"yanchor\": \"top\"}, \"width\": 950, \"xaxis\": {\"domain\": [0, 0.39473684210526316], \"gridcolor\": \"#CCCCCC\", \"gridwidth\": 1, \"linecolor\": \"#4D4D4D\", \"linewidth\": 2, \"range\": [0, 9.1], \"rangemode\": \"tozero\", \"showspikes\": false, \"tickcolor\": \"#4D4D4D\", \"ticks\": \"outside\", \"title\": {\"text\": \"x<sub>1</sub>\"}}, \"yaxis\": {\"domain\": [0, 1], \"gridcolor\": \"#CCCCCC\", \"gridwidth\": 1, \"linecolor\": \"#4D4D4D\", \"linewidth\": 2, \"range\": [0, 20.8], \"rangemode\": \"tozero\", \"showspikes\": false, \"tickcolor\": \"#4D4D4D\", \"ticks\": \"outside\", \"title\": {\"text\": \"x<sub>2</sub>\"}}},                        {\"responsive\": true}                    ).then(function(){\n",
              "                            \n",
              "var gd = document.getElementById('e170b36c-804f-4d41-9772-382a22c0d19f');\n",
              "var x = new MutationObserver(function (mutations, observer) {{\n",
              "        var display = window.getComputedStyle(gd).display;\n",
              "        if (!display || display === 'none') {{\n",
              "            console.log([gd, 'removed!']);\n",
              "            Plotly.purge(gd);\n",
              "            observer.disconnect();\n",
              "        }}\n",
              "}});\n",
              "\n",
              "// Listen for the removal of the full notebook cells\n",
              "var notebookContainer = gd.closest('#notebook-container');\n",
              "if (notebookContainer) {{\n",
              "    x.observe(notebookContainer, {childList: true});\n",
              "}}\n",
              "\n",
              "// Listen for the clearing of the current output cell\n",
              "var outputEl = gd.closest('.output');\n",
              "if (outputEl) {{\n",
              "    x.observe(outputEl, {childList: true});\n",
              "}}\n",
              "\n",
              "                        })                };                            </script>        </div>\n",
              "</body>\n",
              "</html>"
            ]
          },
          "metadata": {
            "tags": []
          }
        }
      ]
    },
    {
      "cell_type": "markdown",
      "metadata": {
        "id": "Ks5NUWMIuHlY",
        "scrolled": false
      },
      "source": [
        "On the left, you can see a coordinate plane where the $x$-axis corresponds to the value of $x_1$ and the $y$-axis corresponds to the value of $x_2$. The region shaded blue is the feasible region. Along the perimeter of the feasible region, you can see points where two edges come to a \"corner\". You can hover over these **corner points** to see information about them. Only some of the information in the hover box will be relevant for Part I. The first two values of **BFS** represent the values of $x_1$ and $x_2$ respectively and **Obj** is the objective value. For example, the upper left corner point has solution $x_1 = 0$ and $x_2 = 16$ with objective value 48. The dashed lines represent the constraints. You can click on the constraints in the legend to mute and un-mute them. Note this does not alter the LP; it just changes visibility. Lastly, the objective slider allows you to see the isoprofit line for a range of objective values.  "
      ]
    },
    {
      "cell_type": "markdown",
      "metadata": {
        "id": "8x_9JE4YuHlY"
      },
      "source": [
        "# Part I: Solving Linear Programs Graphically"
      ]
    },
    {
      "cell_type": "markdown",
      "metadata": {
        "id": "fDFhW_zhuHlZ"
      },
      "source": [
        "Let's use GILP to solve the following LP graphically:\n",
        "\n",
        "$$\\begin{align*}\n",
        "\\max \\quad & 5x_1+3x_2\\\\\n",
        "\\text{s.t.} \\quad & 2x_1 + 1x_2 \\leq 20 \\\\\n",
        "\\quad & 1x_1 + 1x_2 \\leq 16 \\\\\n",
        "\\quad & 1x_1 + 0x_2 \\leq 7 \\\\\n",
        "\\quad & x_1, x_2 \\geq 0 \\\\\n",
        "\\end{align*}$$\n",
        "\n",
        "Recall, this LP is called `ALL_INTEGER_2D_LP`."
      ]
    },
    {
      "cell_type": "code",
      "metadata": {
        "id": "5v1E_OhTuHlZ",
        "outputId": "ae0418be-9629-4ef7-8a4c-74b72cf86260",
        "colab": {
          "base_uri": "https://localhost:8080/",
          "height": 517
        }
      },
      "source": [
        "lp = ex.ALL_INTEGER_2D_LP # get LP example\n",
        "lp_visual(lp).show() # visualize it"
      ],
      "execution_count": null,
      "outputs": [
        {
          "output_type": "display_data",
          "data": {
            "text/html": [
              "<html>\n",
              "<head><meta charset=\"utf-8\" /></head>\n",
              "<body>\n",
              "    <div>            <script src=\"https://cdnjs.cloudflare.com/ajax/libs/mathjax/2.7.5/MathJax.js?config=TeX-AMS-MML_SVG\"></script><script type=\"text/javascript\">if (window.MathJax) {MathJax.Hub.Config({SVG: {font: \"STIX-Web\"}});}</script>                <script type=\"text/javascript\">window.PlotlyConfig = {MathJaxConfig: 'local'};</script>\n",
              "        <script src=\"https://cdn.plot.ly/plotly-latest.min.js\"></script>                <div id=\"00f700fd-01a7-481b-889c-8c728de355b7\" class=\"plotly-graph-div\" style=\"height:500px; width:950px;\"></div>            <script type=\"text/javascript\">                                    window.PLOTLYENV=window.PLOTLYENV || {};                                    if (document.getElementById(\"00f700fd-01a7-481b-889c-8c728de355b7\")) {                    Plotly.newPlot(                        \"00f700fd-01a7-481b-889c-8c728de355b7\",                        [{\"hoverinfo\": \"skip\", \"marker\": {\"color\": \"white\", \"opacity\": 1e-07, \"size\": 0}, \"mode\": \"markers\", \"showlegend\": false, \"type\": \"scatter\", \"x\": [9.1], \"y\": [20.8]}, {\"fill\": \"toself\", \"fillcolor\": \"#1469FE\", \"hoverinfo\": \"none\", \"line\": {\"color\": \"#00285F\", \"width\": 2}, \"mode\": \"lines\", \"opacity\": 0.3, \"showlegend\": false, \"type\": \"scatter\", \"x\": [0.0, 7.0, 7.0, 4.0, 0.0, 0.0], \"y\": [0.0, 0.0, 6.0, 12.0, 16.0, 0.0]}, {\"hoverinfo\": \"skip\", \"line\": {\"color\": \"#A90C0C\", \"dash\": \"15,3,5,3\", \"width\": 2}, \"mode\": \"lines\", \"name\": \"(3) 2x<sub>1</sub> + 1x<sub>2</sub> \\u2264 20\", \"showlegend\": true, \"type\": \"scatter\", \"visible\": true, \"x\": [0.0, 9.1], \"y\": [20.0, 1.8000000000000007]}, {\"hoverinfo\": \"skip\", \"line\": {\"color\": \"#DC0000\", \"dash\": \"15,3,5,3\", \"width\": 2}, \"mode\": \"lines\", \"name\": \"(4) 1x<sub>1</sub> + 1x<sub>2</sub> \\u2264 16\", \"showlegend\": true, \"type\": \"scatter\", \"visible\": true, \"x\": [0.0, 9.1], \"y\": [16.0, 6.9]}, {\"hoverinfo\": \"skip\", \"line\": {\"color\": \"#173D90\", \"dash\": \"15,3,5,3\", \"width\": 2}, \"mode\": \"lines\", \"name\": \"(5) 1x<sub>1</sub> + 0x<sub>2</sub> \\u2264 7\", \"showlegend\": true, \"type\": \"scatter\", \"visible\": true, \"x\": [7.0, 7.0], \"y\": [0.0, 20.8]}, {\"hoverinfo\": \"text\", \"hoverlabel\": {\"bgcolor\": \"#FAFAFA\", \"bordercolor\": \"#323232\", \"font\": {\"color\": \"#323232\", \"family\": \"Arial\"}}, \"marker\": {\"color\": \"gray\", \"opacity\": 1e-07, \"size\": 20}, \"mode\": \"markers\", \"showlegend\": false, \"text\": [\"<b>BFS</b>: (0, 0, 20, 16, 7)<br><b>B</b>: (3, 4, 5)<br><b>Obj</b>: 0\", \"<b>BFS</b>: (0, 16, 4, 0, 7)<br><b>B</b>: (2, 3, 5)<br><b>Obj</b>: 48\", \"<b>BFS</b>: (4, 12, 0, 0, 3)<br><b>B</b>: (1, 2, 5)<br><b>Obj</b>: 56\", \"<b>BFS</b>: (7, 0, 6, 9, 0)<br><b>B</b>: (1, 3, 4)<br><b>Obj</b>: 35\", \"<b>BFS</b>: (7, 6, 0, 3, 0)<br><b>B</b>: (1, 2, 4)<br><b>Obj</b>: 53\"], \"type\": \"scatter\", \"x\": [0.0, 0.0, 4.000000000000001, 7.0, 7.0], \"y\": [0.0, 16.0, 12.0, 0.0, 6.000000000000002]}, {\"hoverinfo\": \"skip\", \"line\": {\"color\": \"red\", \"width\": 4}, \"mode\": \"lines\", \"showlegend\": false, \"type\": \"scatter\", \"visible\": false, \"x\": [0.0, 9.1], \"y\": [0.0, -15.166666666666666]}, {\"hoverinfo\": \"skip\", \"line\": {\"color\": \"red\", \"width\": 4}, \"mode\": \"lines\", \"showlegend\": false, \"type\": \"scatter\", \"visible\": false, \"x\": [0.0, 9.1], \"y\": [1.5, -13.666666666666666]}, {\"hoverinfo\": \"skip\", \"line\": {\"color\": \"red\", \"width\": 4}, \"mode\": \"lines\", \"showlegend\": false, \"type\": \"scatter\", \"visible\": false, \"x\": [0.0, 9.1], \"y\": [2.9966666666666666, -12.17]}, {\"hoverinfo\": \"skip\", \"line\": {\"color\": \"red\", \"width\": 4}, \"mode\": \"lines\", \"showlegend\": false, \"type\": \"scatter\", \"visible\": false, \"x\": [0.0, 9.1], \"y\": [4.496666666666667, -10.67]}, {\"hoverinfo\": \"skip\", \"line\": {\"color\": \"red\", \"width\": 4}, \"mode\": \"lines\", \"showlegend\": false, \"type\": \"scatter\", \"visible\": false, \"x\": [0.0, 9.1], \"y\": [5.993333333333333, -9.173333333333334]}, {\"hoverinfo\": \"skip\", \"line\": {\"color\": \"red\", \"width\": 4}, \"mode\": \"lines\", \"showlegend\": false, \"type\": \"scatter\", \"visible\": false, \"x\": [0.0, 9.1], \"y\": [7.493333333333333, -7.673333333333333]}, {\"hoverinfo\": \"skip\", \"line\": {\"color\": \"red\", \"width\": 4}, \"mode\": \"lines\", \"showlegend\": false, \"type\": \"scatter\", \"visible\": false, \"x\": [0.0, 9.1], \"y\": [8.993333333333334, -6.173333333333333]}, {\"hoverinfo\": \"skip\", \"line\": {\"color\": \"red\", \"width\": 4}, \"mode\": \"lines\", \"showlegend\": false, \"type\": \"scatter\", \"visible\": false, \"x\": [0.0, 9.1], \"y\": [10.49, -4.676666666666667]}, {\"hoverinfo\": \"skip\", \"line\": {\"color\": \"red\", \"width\": 4}, \"mode\": \"lines\", \"showlegend\": false, \"type\": \"scatter\", \"visible\": false, \"x\": [0.0, 9.1], \"y\": [11.99, -3.176666666666667]}, {\"hoverinfo\": \"skip\", \"line\": {\"color\": \"red\", \"width\": 4}, \"mode\": \"lines\", \"showlegend\": false, \"type\": \"scatter\", \"visible\": false, \"x\": [0.0, 9.1], \"y\": [13.486666666666666, -1.6799999999999997]}, {\"hoverinfo\": \"skip\", \"line\": {\"color\": \"red\", \"width\": 4}, \"mode\": \"lines\", \"showlegend\": false, \"type\": \"scatter\", \"visible\": false, \"x\": [0.0, 9.1], \"y\": [14.986666666666666, -0.17999999999999972]}, {\"hoverinfo\": \"skip\", \"line\": {\"color\": \"red\", \"width\": 4}, \"mode\": \"lines\", \"showlegend\": false, \"type\": \"scatter\", \"visible\": false, \"x\": [0.0, 9.1], \"y\": [16.483333333333334, 1.3166666666666675]}, {\"hoverinfo\": \"skip\", \"line\": {\"color\": \"red\", \"width\": 4}, \"mode\": \"lines\", \"showlegend\": false, \"type\": \"scatter\", \"visible\": false, \"x\": [0.0, 9.1], \"y\": [17.983333333333334, 2.8166666666666678]}, {\"hoverinfo\": \"skip\", \"line\": {\"color\": \"red\", \"width\": 4}, \"mode\": \"lines\", \"showlegend\": false, \"type\": \"scatter\", \"visible\": false, \"x\": [0.0, 9.1], \"y\": [18.666666666666668, 3.5]}, {\"hoverinfo\": \"skip\", \"line\": {\"color\": \"red\", \"width\": 4}, \"mode\": \"lines\", \"showlegend\": false, \"type\": \"scatter\", \"visible\": false, \"x\": [0.0, 9.1], \"y\": [19.483333333333334, 4.316666666666667]}, {\"hoverinfo\": \"skip\", \"line\": {\"color\": \"red\", \"width\": 4}, \"mode\": \"lines\", \"showlegend\": false, \"type\": \"scatter\", \"visible\": false, \"x\": [0.0, 9.1], \"y\": [20.98, 5.813333333333333]}, {\"hoverinfo\": \"skip\", \"line\": {\"color\": \"red\", \"width\": 4}, \"mode\": \"lines\", \"showlegend\": false, \"type\": \"scatter\", \"visible\": false, \"x\": [0.0, 9.1], \"y\": [22.48, 7.313333333333333]}, {\"hoverinfo\": \"skip\", \"line\": {\"color\": \"red\", \"width\": 4}, \"mode\": \"lines\", \"showlegend\": false, \"type\": \"scatter\", \"visible\": false, \"x\": [0.0, 9.1], \"y\": [23.97666666666667, 8.810000000000002]}, {\"hoverinfo\": \"skip\", \"line\": {\"color\": \"red\", \"width\": 4}, \"mode\": \"lines\", \"showlegend\": false, \"type\": \"scatter\", \"visible\": false, \"x\": [0.0, 9.1], \"y\": [25.47666666666667, 10.310000000000002]}, {\"hoverinfo\": \"skip\", \"line\": {\"color\": \"red\", \"width\": 4}, \"mode\": \"lines\", \"showlegend\": false, \"type\": \"scatter\", \"visible\": false, \"x\": [0.0, 9.1], \"y\": [26.97666666666667, 11.810000000000002]}, {\"hoverinfo\": \"skip\", \"line\": {\"color\": \"red\", \"width\": 4}, \"mode\": \"lines\", \"showlegend\": false, \"type\": \"scatter\", \"visible\": false, \"x\": [0.0, 9.1], \"y\": [28.473333333333333, 13.306666666666667]}, {\"hoverinfo\": \"skip\", \"line\": {\"color\": \"red\", \"width\": 4}, \"mode\": \"lines\", \"showlegend\": false, \"type\": \"scatter\", \"visible\": false, \"x\": [0.0, 9.1], \"y\": [29.973333333333333, 14.806666666666667]}, {\"hoverinfo\": \"skip\", \"line\": {\"color\": \"red\", \"width\": 4}, \"mode\": \"lines\", \"showlegend\": false, \"type\": \"scatter\", \"visible\": false, \"x\": [0.0, 9.1], \"y\": [31.47, 16.30333333333333]}, {\"hoverinfo\": \"skip\", \"line\": {\"color\": \"red\", \"width\": 4}, \"mode\": \"lines\", \"showlegend\": false, \"type\": \"scatter\", \"visible\": false, \"x\": [0.0, 9.1], \"y\": [32.97, 17.80333333333333]}, {\"hoverinfo\": \"skip\", \"line\": {\"color\": \"red\", \"width\": 4}, \"mode\": \"lines\", \"showlegend\": false, \"type\": \"scatter\", \"visible\": false, \"x\": [0.0, 9.1], \"y\": [34.46666666666667, 19.3]}, {\"hoverinfo\": \"skip\", \"line\": {\"color\": \"red\", \"width\": 4}, \"mode\": \"lines\", \"showlegend\": false, \"type\": \"scatter\", \"visible\": false, \"x\": [0.0, 9.1], \"y\": [35.96666666666667, 20.8]}],                        {\"font\": {\"color\": \"#323232\", \"family\": \"Arial\"}, \"height\": 500, \"legend\": {\"font\": {\"size\": 13}, \"title\": {\"font\": {\"size\": 14}, \"text\": \"<b>Constraint(s)</b>\"}, \"x\": 0.39473684210526316, \"xanchor\": \"left\", \"y\": 1, \"yanchor\": \"top\"}, \"margin\": {\"b\": 0, \"l\": 0, \"r\": 0, \"t\": 33}, \"paper_bgcolor\": \"white\", \"plot_bgcolor\": \"#FAFAFA\", \"scene\": {\"aspectmode\": \"cube\", \"domain\": {\"x\": [0, 0.39473684210526316], \"y\": [0, 1]}, \"xaxis\": {\"gridcolor\": \"#CCCCCC\", \"gridwidth\": 1, \"linecolor\": \"#4D4D4D\", \"linewidth\": 2, \"range\": [0, 9.1], \"rangemode\": \"tozero\", \"showspikes\": false, \"tickcolor\": \"#4D4D4D\", \"ticks\": \"outside\", \"title\": {\"text\": \"x<sub>1</sub>\"}}, \"yaxis\": {\"gridcolor\": \"#CCCCCC\", \"gridwidth\": 1, \"linecolor\": \"#4D4D4D\", \"linewidth\": 2, \"range\": [0, 20.8], \"rangemode\": \"tozero\", \"showspikes\": false, \"tickcolor\": \"#4D4D4D\", \"ticks\": \"outside\", \"title\": {\"text\": \"x<sub>2</sub>\"}}, \"zaxis\": {\"gridcolor\": \"#CCCCCC\", \"gridwidth\": 1, \"linecolor\": \"#4D4D4D\", \"linewidth\": 2, \"rangemode\": \"tozero\", \"showspikes\": false, \"tickcolor\": \"#4D4D4D\", \"ticks\": \"outside\", \"title\": {\"text\": \"x<sub>3</sub>\"}}}, \"sliders\": [{\"active\": 0, \"currentvalue\": {\"prefix\": \"Objective Value: \"}, \"len\": 0.4, \"lenmode\": \"fraction\", \"pad\": {\"b\": 0, \"l\": 0, \"r\": 0, \"t\": 50}, \"steps\": [{\"args\": [{\"visible\": [null, null, true, true, true, null, true, false, false, false, false, false, false, false, false, false, false, false, false, false, false, false, false, false, false, false, false, false, false, false, false, false]}], \"label\": \"0.0\", \"method\": \"update\"}, {\"args\": [{\"visible\": [null, null, true, true, true, null, false, true, false, false, false, false, false, false, false, false, false, false, false, false, false, false, false, false, false, false, false, false, false, false, false, false]}], \"label\": \"4.5\", \"method\": \"update\"}, {\"args\": [{\"visible\": [null, null, true, true, true, null, false, false, true, false, false, false, false, false, false, false, false, false, false, false, false, false, false, false, false, false, false, false, false, false, false, false]}], \"label\": \"8.99\", \"method\": \"update\"}, {\"args\": [{\"visible\": [null, null, true, true, true, null, false, false, false, true, false, false, false, false, false, false, false, false, false, false, false, false, false, false, false, false, false, false, false, false, false, false]}], \"label\": \"13.49\", \"method\": \"update\"}, {\"args\": [{\"visible\": [null, null, true, true, true, null, false, false, false, false, true, false, false, false, false, false, false, false, false, false, false, false, false, false, false, false, false, false, false, false, false, false]}], \"label\": \"17.98\", \"method\": \"update\"}, {\"args\": [{\"visible\": [null, null, true, true, true, null, false, false, false, false, false, true, false, false, false, false, false, false, false, false, false, false, false, false, false, false, false, false, false, false, false, false]}], \"label\": \"22.48\", \"method\": \"update\"}, {\"args\": [{\"visible\": [null, null, true, true, true, null, false, false, false, false, false, false, true, false, false, false, false, false, false, false, false, false, false, false, false, false, false, false, false, false, false, false]}], \"label\": \"26.98\", \"method\": \"update\"}, {\"args\": [{\"visible\": [null, null, true, true, true, null, false, false, false, false, false, false, false, true, false, false, false, false, false, false, false, false, false, false, false, false, false, false, false, false, false, false]}], \"label\": \"31.47\", \"method\": \"update\"}, {\"args\": [{\"visible\": [null, null, true, true, true, null, false, false, false, false, false, false, false, false, true, false, false, false, false, false, false, false, false, false, false, false, false, false, false, false, false, false]}], \"label\": \"35.97\", \"method\": \"update\"}, {\"args\": [{\"visible\": [null, null, true, true, true, null, false, false, false, false, false, false, false, false, false, true, false, false, false, false, false, false, false, false, false, false, false, false, false, false, false, false]}], \"label\": \"40.46\", \"method\": \"update\"}, {\"args\": [{\"visible\": [null, null, true, true, true, null, false, false, false, false, false, false, false, false, false, false, true, false, false, false, false, false, false, false, false, false, false, false, false, false, false, false]}], \"label\": \"44.96\", \"method\": \"update\"}, {\"args\": [{\"visible\": [null, null, true, true, true, null, false, false, false, false, false, false, false, false, false, false, false, true, false, false, false, false, false, false, false, false, false, false, false, false, false, false]}], \"label\": \"49.45\", \"method\": \"update\"}, {\"args\": [{\"visible\": [null, null, true, true, true, null, false, false, false, false, false, false, false, false, false, false, false, false, true, false, false, false, false, false, false, false, false, false, false, false, false, false]}], \"label\": \"53.95\", \"method\": \"update\"}, {\"args\": [{\"visible\": [null, null, true, true, true, null, false, false, false, false, false, false, false, false, false, false, false, false, false, true, false, false, false, false, false, false, false, false, false, false, false, false]}], \"label\": \"56.0\", \"method\": \"update\"}, {\"args\": [{\"visible\": [null, null, true, true, true, null, false, false, false, false, false, false, false, false, false, false, false, false, false, false, true, false, false, false, false, false, false, false, false, false, false, false]}], \"label\": \"58.45\", \"method\": \"update\"}, {\"args\": [{\"visible\": [null, null, true, true, true, null, false, false, false, false, false, false, false, false, false, false, false, false, false, false, false, true, false, false, false, false, false, false, false, false, false, false]}], \"label\": \"62.94\", \"method\": \"update\"}, {\"args\": [{\"visible\": [null, null, true, true, true, null, false, false, false, false, false, false, false, false, false, false, false, false, false, false, false, false, true, false, false, false, false, false, false, false, false, false]}], \"label\": \"67.44\", \"method\": \"update\"}, {\"args\": [{\"visible\": [null, null, true, true, true, null, false, false, false, false, false, false, false, false, false, false, false, false, false, false, false, false, false, true, false, false, false, false, false, false, false, false]}], \"label\": \"71.93\", \"method\": \"update\"}, {\"args\": [{\"visible\": [null, null, true, true, true, null, false, false, false, false, false, false, false, false, false, false, false, false, false, false, false, false, false, false, true, false, false, false, false, false, false, false]}], \"label\": \"76.43\", \"method\": \"update\"}, {\"args\": [{\"visible\": [null, null, true, true, true, null, false, false, false, false, false, false, false, false, false, false, false, false, false, false, false, false, false, false, false, true, false, false, false, false, false, false]}], \"label\": \"80.93\", \"method\": \"update\"}, {\"args\": [{\"visible\": [null, null, true, true, true, null, false, false, false, false, false, false, false, false, false, false, false, false, false, false, false, false, false, false, false, false, true, false, false, false, false, false]}], \"label\": \"85.42\", \"method\": \"update\"}, {\"args\": [{\"visible\": [null, null, true, true, true, null, false, false, false, false, false, false, false, false, false, false, false, false, false, false, false, false, false, false, false, false, false, true, false, false, false, false]}], \"label\": \"89.92\", \"method\": \"update\"}, {\"args\": [{\"visible\": [null, null, true, true, true, null, false, false, false, false, false, false, false, false, false, false, false, false, false, false, false, false, false, false, false, false, false, false, true, false, false, false]}], \"label\": \"94.41\", \"method\": \"update\"}, {\"args\": [{\"visible\": [null, null, true, true, true, null, false, false, false, false, false, false, false, false, false, false, false, false, false, false, false, false, false, false, false, false, false, false, false, true, false, false]}], \"label\": \"98.91\", \"method\": \"update\"}, {\"args\": [{\"visible\": [null, null, true, true, true, null, false, false, false, false, false, false, false, false, false, false, false, false, false, false, false, false, false, false, false, false, false, false, false, false, true, false]}], \"label\": \"103.4\", \"method\": \"update\"}, {\"args\": [{\"visible\": [null, null, true, true, true, null, false, false, false, false, false, false, false, false, false, false, false, false, false, false, false, false, false, false, false, false, false, false, false, false, false, true]}], \"label\": \"107.9\", \"method\": \"update\"}], \"tickcolor\": \"white\", \"ticklen\": 0, \"x\": 0.6052631578947368, \"xanchor\": \"left\", \"y\": 0.01, \"yanchor\": \"bottom\"}], \"template\": {\"data\": {\"bar\": [{\"error_x\": {\"color\": \"#2a3f5f\"}, \"error_y\": {\"color\": \"#2a3f5f\"}, \"marker\": {\"line\": {\"color\": \"#E5ECF6\", \"width\": 0.5}}, \"type\": \"bar\"}], \"barpolar\": [{\"marker\": {\"line\": {\"color\": \"#E5ECF6\", \"width\": 0.5}}, \"type\": \"barpolar\"}], \"carpet\": [{\"aaxis\": {\"endlinecolor\": \"#2a3f5f\", \"gridcolor\": \"white\", \"linecolor\": \"white\", \"minorgridcolor\": \"white\", \"startlinecolor\": \"#2a3f5f\"}, \"baxis\": {\"endlinecolor\": \"#2a3f5f\", \"gridcolor\": \"white\", \"linecolor\": \"white\", \"minorgridcolor\": \"white\", \"startlinecolor\": \"#2a3f5f\"}, \"type\": \"carpet\"}], \"choropleth\": [{\"colorbar\": {\"outlinewidth\": 0, \"ticks\": \"\"}, \"type\": \"choropleth\"}], \"contour\": [{\"colorbar\": {\"outlinewidth\": 0, \"ticks\": \"\"}, \"colorscale\": [[0.0, \"#0d0887\"], [0.1111111111111111, \"#46039f\"], [0.2222222222222222, \"#7201a8\"], [0.3333333333333333, \"#9c179e\"], [0.4444444444444444, \"#bd3786\"], [0.5555555555555556, \"#d8576b\"], [0.6666666666666666, \"#ed7953\"], [0.7777777777777778, \"#fb9f3a\"], [0.8888888888888888, \"#fdca26\"], [1.0, \"#f0f921\"]], \"type\": \"contour\"}], \"contourcarpet\": [{\"colorbar\": {\"outlinewidth\": 0, \"ticks\": \"\"}, \"type\": \"contourcarpet\"}], \"heatmap\": [{\"colorbar\": {\"outlinewidth\": 0, \"ticks\": \"\"}, \"colorscale\": [[0.0, \"#0d0887\"], [0.1111111111111111, \"#46039f\"], [0.2222222222222222, \"#7201a8\"], [0.3333333333333333, \"#9c179e\"], [0.4444444444444444, \"#bd3786\"], [0.5555555555555556, \"#d8576b\"], [0.6666666666666666, \"#ed7953\"], [0.7777777777777778, \"#fb9f3a\"], [0.8888888888888888, \"#fdca26\"], [1.0, \"#f0f921\"]], \"type\": \"heatmap\"}], \"heatmapgl\": [{\"colorbar\": {\"outlinewidth\": 0, \"ticks\": \"\"}, \"colorscale\": [[0.0, \"#0d0887\"], [0.1111111111111111, \"#46039f\"], [0.2222222222222222, \"#7201a8\"], [0.3333333333333333, \"#9c179e\"], [0.4444444444444444, \"#bd3786\"], [0.5555555555555556, \"#d8576b\"], [0.6666666666666666, \"#ed7953\"], [0.7777777777777778, \"#fb9f3a\"], [0.8888888888888888, \"#fdca26\"], [1.0, \"#f0f921\"]], \"type\": \"heatmapgl\"}], \"histogram\": [{\"marker\": {\"colorbar\": {\"outlinewidth\": 0, \"ticks\": \"\"}}, \"type\": \"histogram\"}], \"histogram2d\": [{\"colorbar\": {\"outlinewidth\": 0, \"ticks\": \"\"}, \"colorscale\": [[0.0, \"#0d0887\"], [0.1111111111111111, \"#46039f\"], [0.2222222222222222, \"#7201a8\"], [0.3333333333333333, \"#9c179e\"], [0.4444444444444444, \"#bd3786\"], [0.5555555555555556, \"#d8576b\"], [0.6666666666666666, \"#ed7953\"], [0.7777777777777778, \"#fb9f3a\"], [0.8888888888888888, \"#fdca26\"], [1.0, \"#f0f921\"]], \"type\": \"histogram2d\"}], \"histogram2dcontour\": [{\"colorbar\": {\"outlinewidth\": 0, \"ticks\": \"\"}, \"colorscale\": [[0.0, \"#0d0887\"], [0.1111111111111111, \"#46039f\"], [0.2222222222222222, \"#7201a8\"], [0.3333333333333333, \"#9c179e\"], [0.4444444444444444, \"#bd3786\"], [0.5555555555555556, \"#d8576b\"], [0.6666666666666666, \"#ed7953\"], [0.7777777777777778, \"#fb9f3a\"], [0.8888888888888888, \"#fdca26\"], [1.0, \"#f0f921\"]], \"type\": \"histogram2dcontour\"}], \"mesh3d\": [{\"colorbar\": {\"outlinewidth\": 0, \"ticks\": \"\"}, \"type\": \"mesh3d\"}], \"parcoords\": [{\"line\": {\"colorbar\": {\"outlinewidth\": 0, \"ticks\": \"\"}}, \"type\": \"parcoords\"}], \"pie\": [{\"automargin\": true, \"type\": \"pie\"}], \"scatter\": [{\"marker\": {\"colorbar\": {\"outlinewidth\": 0, \"ticks\": \"\"}}, \"type\": \"scatter\"}], \"scatter3d\": [{\"line\": {\"colorbar\": {\"outlinewidth\": 0, \"ticks\": \"\"}}, \"marker\": {\"colorbar\": {\"outlinewidth\": 0, \"ticks\": \"\"}}, \"type\": \"scatter3d\"}], \"scattercarpet\": [{\"marker\": {\"colorbar\": {\"outlinewidth\": 0, \"ticks\": \"\"}}, \"type\": \"scattercarpet\"}], \"scattergeo\": [{\"marker\": {\"colorbar\": {\"outlinewidth\": 0, \"ticks\": \"\"}}, \"type\": \"scattergeo\"}], \"scattergl\": [{\"marker\": {\"colorbar\": {\"outlinewidth\": 0, \"ticks\": \"\"}}, \"type\": \"scattergl\"}], \"scattermapbox\": [{\"marker\": {\"colorbar\": {\"outlinewidth\": 0, \"ticks\": \"\"}}, \"type\": \"scattermapbox\"}], \"scatterpolar\": [{\"marker\": {\"colorbar\": {\"outlinewidth\": 0, \"ticks\": \"\"}}, \"type\": \"scatterpolar\"}], \"scatterpolargl\": [{\"marker\": {\"colorbar\": {\"outlinewidth\": 0, \"ticks\": \"\"}}, \"type\": \"scatterpolargl\"}], \"scatterternary\": [{\"marker\": {\"colorbar\": {\"outlinewidth\": 0, \"ticks\": \"\"}}, \"type\": \"scatterternary\"}], \"surface\": [{\"colorbar\": {\"outlinewidth\": 0, \"ticks\": \"\"}, \"colorscale\": [[0.0, \"#0d0887\"], [0.1111111111111111, \"#46039f\"], [0.2222222222222222, \"#7201a8\"], [0.3333333333333333, \"#9c179e\"], [0.4444444444444444, \"#bd3786\"], [0.5555555555555556, \"#d8576b\"], [0.6666666666666666, \"#ed7953\"], [0.7777777777777778, \"#fb9f3a\"], [0.8888888888888888, \"#fdca26\"], [1.0, \"#f0f921\"]], \"type\": \"surface\"}], \"table\": [{\"cells\": {\"fill\": {\"color\": \"#EBF0F8\"}, \"line\": {\"color\": \"white\"}}, \"header\": {\"fill\": {\"color\": \"#C8D4E3\"}, \"line\": {\"color\": \"white\"}}, \"type\": \"table\"}]}, \"layout\": {\"annotationdefaults\": {\"arrowcolor\": \"#2a3f5f\", \"arrowhead\": 0, \"arrowwidth\": 1}, \"coloraxis\": {\"colorbar\": {\"outlinewidth\": 0, \"ticks\": \"\"}}, \"colorscale\": {\"diverging\": [[0, \"#8e0152\"], [0.1, \"#c51b7d\"], [0.2, \"#de77ae\"], [0.3, \"#f1b6da\"], [0.4, \"#fde0ef\"], [0.5, \"#f7f7f7\"], [0.6, \"#e6f5d0\"], [0.7, \"#b8e186\"], [0.8, \"#7fbc41\"], [0.9, \"#4d9221\"], [1, \"#276419\"]], \"sequential\": [[0.0, \"#0d0887\"], [0.1111111111111111, \"#46039f\"], [0.2222222222222222, \"#7201a8\"], [0.3333333333333333, \"#9c179e\"], [0.4444444444444444, \"#bd3786\"], [0.5555555555555556, \"#d8576b\"], [0.6666666666666666, \"#ed7953\"], [0.7777777777777778, \"#fb9f3a\"], [0.8888888888888888, \"#fdca26\"], [1.0, \"#f0f921\"]], \"sequentialminus\": [[0.0, \"#0d0887\"], [0.1111111111111111, \"#46039f\"], [0.2222222222222222, \"#7201a8\"], [0.3333333333333333, \"#9c179e\"], [0.4444444444444444, \"#bd3786\"], [0.5555555555555556, \"#d8576b\"], [0.6666666666666666, \"#ed7953\"], [0.7777777777777778, \"#fb9f3a\"], [0.8888888888888888, \"#fdca26\"], [1.0, \"#f0f921\"]]}, \"colorway\": [\"#636efa\", \"#EF553B\", \"#00cc96\", \"#ab63fa\", \"#FFA15A\", \"#19d3f3\", \"#FF6692\", \"#B6E880\", \"#FF97FF\", \"#FECB52\"], \"font\": {\"color\": \"#2a3f5f\"}, \"geo\": {\"bgcolor\": \"white\", \"lakecolor\": \"white\", \"landcolor\": \"#E5ECF6\", \"showlakes\": true, \"showland\": true, \"subunitcolor\": \"white\"}, \"hoverlabel\": {\"align\": \"left\"}, \"hovermode\": \"closest\", \"mapbox\": {\"style\": \"light\"}, \"paper_bgcolor\": \"white\", \"plot_bgcolor\": \"#E5ECF6\", \"polar\": {\"angularaxis\": {\"gridcolor\": \"white\", \"linecolor\": \"white\", \"ticks\": \"\"}, \"bgcolor\": \"#E5ECF6\", \"radialaxis\": {\"gridcolor\": \"white\", \"linecolor\": \"white\", \"ticks\": \"\"}}, \"scene\": {\"xaxis\": {\"backgroundcolor\": \"#E5ECF6\", \"gridcolor\": \"white\", \"gridwidth\": 2, \"linecolor\": \"white\", \"showbackground\": true, \"ticks\": \"\", \"zerolinecolor\": \"white\"}, \"yaxis\": {\"backgroundcolor\": \"#E5ECF6\", \"gridcolor\": \"white\", \"gridwidth\": 2, \"linecolor\": \"white\", \"showbackground\": true, \"ticks\": \"\", \"zerolinecolor\": \"white\"}, \"zaxis\": {\"backgroundcolor\": \"#E5ECF6\", \"gridcolor\": \"white\", \"gridwidth\": 2, \"linecolor\": \"white\", \"showbackground\": true, \"ticks\": \"\", \"zerolinecolor\": \"white\"}}, \"shapedefaults\": {\"line\": {\"color\": \"#2a3f5f\"}}, \"ternary\": {\"aaxis\": {\"gridcolor\": \"white\", \"linecolor\": \"white\", \"ticks\": \"\"}, \"baxis\": {\"gridcolor\": \"white\", \"linecolor\": \"white\", \"ticks\": \"\"}, \"bgcolor\": \"#E5ECF6\", \"caxis\": {\"gridcolor\": \"white\", \"linecolor\": \"white\", \"ticks\": \"\"}}, \"title\": {\"x\": 0.05}, \"xaxis\": {\"automargin\": true, \"gridcolor\": \"white\", \"linecolor\": \"white\", \"ticks\": \"\", \"title\": {\"standoff\": 15}, \"zerolinecolor\": \"white\", \"zerolinewidth\": 2}, \"yaxis\": {\"automargin\": true, \"gridcolor\": \"white\", \"linecolor\": \"white\", \"ticks\": \"\", \"title\": {\"standoff\": 15}, \"zerolinecolor\": \"white\", \"zerolinewidth\": 2}}}, \"title\": {\"font\": {\"color\": \"#00285F\", \"size\": 18}, \"text\": \"<b>Geometric Interpretation of LPs</b>\", \"x\": 0, \"xanchor\": \"left\", \"y\": 0.99, \"yanchor\": \"top\"}, \"width\": 950, \"xaxis\": {\"domain\": [0, 0.39473684210526316], \"gridcolor\": \"#CCCCCC\", \"gridwidth\": 1, \"linecolor\": \"#4D4D4D\", \"linewidth\": 2, \"range\": [0, 9.1], \"rangemode\": \"tozero\", \"showspikes\": false, \"tickcolor\": \"#4D4D4D\", \"ticks\": \"outside\", \"title\": {\"text\": \"x<sub>1</sub>\"}}, \"yaxis\": {\"domain\": [0, 1], \"gridcolor\": \"#CCCCCC\", \"gridwidth\": 1, \"linecolor\": \"#4D4D4D\", \"linewidth\": 2, \"range\": [0, 20.8], \"rangemode\": \"tozero\", \"showspikes\": false, \"tickcolor\": \"#4D4D4D\", \"ticks\": \"outside\", \"title\": {\"text\": \"x<sub>2</sub>\"}}},                        {\"responsive\": true}                    ).then(function(){\n",
              "                            \n",
              "var gd = document.getElementById('00f700fd-01a7-481b-889c-8c728de355b7');\n",
              "var x = new MutationObserver(function (mutations, observer) {{\n",
              "        var display = window.getComputedStyle(gd).display;\n",
              "        if (!display || display === 'none') {{\n",
              "            console.log([gd, 'removed!']);\n",
              "            Plotly.purge(gd);\n",
              "            observer.disconnect();\n",
              "        }}\n",
              "}});\n",
              "\n",
              "// Listen for the removal of the full notebook cells\n",
              "var notebookContainer = gd.closest('#notebook-container');\n",
              "if (notebookContainer) {{\n",
              "    x.observe(notebookContainer, {childList: true});\n",
              "}}\n",
              "\n",
              "// Listen for the clearing of the current output cell\n",
              "var outputEl = gd.closest('.output');\n",
              "if (outputEl) {{\n",
              "    x.observe(outputEl, {childList: true});\n",
              "}}\n",
              "\n",
              "                        })                };                            </script>        </div>\n",
              "</body>\n",
              "</html>"
            ]
          },
          "metadata": {
            "tags": []
          }
        }
      ]
    },
    {
      "cell_type": "markdown",
      "metadata": {
        "id": "zgBeRIW3uHlb"
      },
      "source": [
        "**Q1:** How can you use isoprofit lines to solve LPs graphically?\n",
        "\n",
        "**A:** graph each of the equations and see where they intercept"
      ]
    },
    {
      "cell_type": "markdown",
      "metadata": {
        "id": "CX_LC5DJuHlb"
      },
      "source": [
        "**Q2:** Use the objective slider to solve this LP graphically. Give an optimal solution and objective value. Argue why it is optimal. (Hint: The objective slider shows the isoprofit line (in red) for some objective value.)\n",
        "\n",
        "**A:**x1 = 4, x2 = 12"
      ]
    },
    {
      "cell_type": "markdown",
      "metadata": {
        "id": "Il9DLi3yuHlc"
      },
      "source": [
        "**Q3:** Plug your solution from **Q2** back into the LP and verify that each constraint is satisfied (don't forget non-negativity constraints!) and the objective value is as expected. Show your work.\n",
        "\n",
        "**A:** 2 * 4 + 12 <= 20\n",
        "        4 + 12 <= 16\n",
        "        4 <= 7\n",
        "        4, 12 >= 0\n",
        "\n",
        "        All conditions satisfied"
      ]
    },
    {
      "cell_type": "markdown",
      "metadata": {
        "id": "wM44rQ_tuHlc"
      },
      "source": [
        "Let's try another! This LP is called `DEGENERATE_FIN_2D_LP`.\n",
        "\n",
        "$$\\begin{align*}\n",
        "\\max \\quad & 1x_1+2x_2\\\\\n",
        "\\text{s.t.} \\quad & 0x_1 + 1x_2 \\leq 4 \\\\\n",
        "\\quad & 1x_1 - 1x_2 \\leq 2 \\\\\n",
        "\\quad & 1x_1 + 0x_2 \\leq 3 \\\\\n",
        "\\quad & -2x_1 + 1x_2 \\leq 0 \\\\\n",
        "\\quad & x_1, x_2 \\geq 0 \\\\\n",
        "\\end{align*}$$"
      ]
    },
    {
      "cell_type": "code",
      "metadata": {
        "id": "0bupNYRpuHlc",
        "outputId": "159a8dbc-5a2e-48a6-f212-22501529289e",
        "colab": {
          "base_uri": "https://localhost:8080/",
          "height": 517
        }
      },
      "source": [
        "lp = ex.DEGENERATE_FIN_2D_LP # get LP example\n",
        "lp_visual(lp).show() # visualize it"
      ],
      "execution_count": null,
      "outputs": [
        {
          "output_type": "display_data",
          "data": {
            "text/html": [
              "<html>\n",
              "<head><meta charset=\"utf-8\" /></head>\n",
              "<body>\n",
              "    <div>            <script src=\"https://cdnjs.cloudflare.com/ajax/libs/mathjax/2.7.5/MathJax.js?config=TeX-AMS-MML_SVG\"></script><script type=\"text/javascript\">if (window.MathJax) {MathJax.Hub.Config({SVG: {font: \"STIX-Web\"}});}</script>                <script type=\"text/javascript\">window.PlotlyConfig = {MathJaxConfig: 'local'};</script>\n",
              "        <script src=\"https://cdn.plot.ly/plotly-latest.min.js\"></script>                <div id=\"068ab53f-9488-4dbe-a65e-94e768c2a0e1\" class=\"plotly-graph-div\" style=\"height:500px; width:950px;\"></div>            <script type=\"text/javascript\">                                    window.PLOTLYENV=window.PLOTLYENV || {};                                    if (document.getElementById(\"068ab53f-9488-4dbe-a65e-94e768c2a0e1\")) {                    Plotly.newPlot(                        \"068ab53f-9488-4dbe-a65e-94e768c2a0e1\",                        [{\"hoverinfo\": \"skip\", \"marker\": {\"color\": \"white\", \"opacity\": 1e-07, \"size\": 0}, \"mode\": \"markers\", \"showlegend\": false, \"type\": \"scatter\", \"x\": [3.9000000000000004], \"y\": [5.2]}, {\"fill\": \"toself\", \"fillcolor\": \"#1469FE\", \"hoverinfo\": \"none\", \"line\": {\"color\": \"#00285F\", \"width\": 2}, \"mode\": \"lines\", \"opacity\": 0.3, \"showlegend\": false, \"type\": \"scatter\", \"x\": [0.0, 2.0, 3.0, 3.0, 2.0, 0.0], \"y\": [0.0, 0.0, 1.0, 4.0, 4.0, 0.0]}, {\"hoverinfo\": \"skip\", \"line\": {\"color\": \"#DC0000\", \"dash\": \"15,3,5,3\", \"width\": 2}, \"mode\": \"lines\", \"name\": \"(3) 0x<sub>1</sub> + 1x<sub>2</sub> \\u2264 4\", \"showlegend\": true, \"type\": \"scatter\", \"visible\": true, \"x\": [0.0, 3.9000000000000004], \"y\": [4.0, 4.0]}, {\"hoverinfo\": \"skip\", \"line\": {\"color\": \"#173D90\", \"dash\": \"15,3,5,3\", \"width\": 2}, \"mode\": \"lines\", \"name\": \"(4) 1x<sub>1</sub> - 1x<sub>2</sub> \\u2264 2\", \"showlegend\": true, \"type\": \"scatter\", \"visible\": true, \"x\": [0.0, 3.9000000000000004], \"y\": [-2.0, 1.9000000000000004]}, {\"hoverinfo\": \"skip\", \"line\": {\"color\": \"#1469FE\", \"dash\": \"15,3,5,3\", \"width\": 2}, \"mode\": \"lines\", \"name\": \"(5) 1x<sub>1</sub> + 0x<sub>2</sub> \\u2264 3\", \"showlegend\": true, \"type\": \"scatter\", \"visible\": true, \"x\": [3.0, 3.0], \"y\": [0.0, 5.2]}, {\"hoverinfo\": \"skip\", \"line\": {\"color\": \"#65ADFF\", \"dash\": \"15,3,5,3\", \"width\": 2}, \"mode\": \"lines\", \"name\": \"(6) -2x<sub>1</sub> + 1x<sub>2</sub> \\u2264 0\", \"showlegend\": true, \"type\": \"scatter\", \"visible\": true, \"x\": [0.0, 3.9000000000000004], \"y\": [0.0, 7.800000000000001]}, {\"hoverinfo\": \"text\", \"hoverlabel\": {\"bgcolor\": \"#FAFAFA\", \"bordercolor\": \"#323232\", \"font\": {\"color\": \"#323232\", \"family\": \"Arial\"}}, \"marker\": {\"color\": \"gray\", \"opacity\": 1e-07, \"size\": 20}, \"mode\": \"markers\", \"showlegend\": false, \"text\": [\"<b>BFS</b>: (0, 0, 4, 2, 3, 0)<br><b>B</b>: (1, 3, 4, 5, 6)<br><b>Obj</b>: 0\", \"<b>BFS</b>: (2, 0, 4, 0, 1, 4)<br><b>B</b>: (1, 3, 5, 6)<br><b>Obj</b>: 2\", \"<b>BFS</b>: (2, 4, 0, 4, 1, 0)<br><b>B</b>: (1, 2, 4, 5)<br><b>Obj</b>: 10\", \"<b>BFS</b>: (3, 1, 3, 0, 0, 5)<br><b>B</b>: (1, 2, 3, 6)<br><b>Obj</b>: 5\", \"<b>BFS</b>: (3, 4, 0, 3, 0, 2)<br><b>B</b>: (1, 2, 4, 6)<br><b>Obj</b>: 11\"], \"type\": \"scatter\", \"x\": [2.220446049250313e-16, 2.0, 2.0, 3.0, 3.0], \"y\": [0.0, 0.0, 4.0, 1.0, 4.0]}, {\"hoverinfo\": \"skip\", \"line\": {\"color\": \"red\", \"width\": 4}, \"mode\": \"lines\", \"showlegend\": false, \"type\": \"scatter\", \"visible\": false, \"x\": [0.0, 3.9000000000000004], \"y\": [0.0, -1.9500000000000002]}, {\"hoverinfo\": \"skip\", \"line\": {\"color\": \"red\", \"width\": 4}, \"mode\": \"lines\", \"showlegend\": false, \"type\": \"scatter\", \"visible\": false, \"x\": [0.0, 3.9000000000000004], \"y\": [0.3, -1.6500000000000001]}, {\"hoverinfo\": \"skip\", \"line\": {\"color\": \"red\", \"width\": 4}, \"mode\": \"lines\", \"showlegend\": false, \"type\": \"scatter\", \"visible\": false, \"x\": [0.0, 3.9000000000000004], \"y\": [0.595, -1.3550000000000002]}, {\"hoverinfo\": \"skip\", \"line\": {\"color\": \"red\", \"width\": 4}, \"mode\": \"lines\", \"showlegend\": false, \"type\": \"scatter\", \"visible\": false, \"x\": [0.0, 3.9000000000000004], \"y\": [0.895, -1.0550000000000002]}, {\"hoverinfo\": \"skip\", \"line\": {\"color\": \"red\", \"width\": 4}, \"mode\": \"lines\", \"showlegend\": false, \"type\": \"scatter\", \"visible\": false, \"x\": [0.0, 3.9000000000000004], \"y\": [1.19, -0.7600000000000002]}, {\"hoverinfo\": \"skip\", \"line\": {\"color\": \"red\", \"width\": 4}, \"mode\": \"lines\", \"showlegend\": false, \"type\": \"scatter\", \"visible\": false, \"x\": [0.0, 3.9000000000000004], \"y\": [1.49, -0.4600000000000002]}, {\"hoverinfo\": \"skip\", \"line\": {\"color\": \"red\", \"width\": 4}, \"mode\": \"lines\", \"showlegend\": false, \"type\": \"scatter\", \"visible\": false, \"x\": [0.0, 3.9000000000000004], \"y\": [1.79, -0.16000000000000014]}, {\"hoverinfo\": \"skip\", \"line\": {\"color\": \"red\", \"width\": 4}, \"mode\": \"lines\", \"showlegend\": false, \"type\": \"scatter\", \"visible\": false, \"x\": [0.0, 3.9000000000000004], \"y\": [2.085, 0.1349999999999998]}, {\"hoverinfo\": \"skip\", \"line\": {\"color\": \"red\", \"width\": 4}, \"mode\": \"lines\", \"showlegend\": false, \"type\": \"scatter\", \"visible\": false, \"x\": [0.0, 3.9000000000000004], \"y\": [2.385, 0.4349999999999996]}, {\"hoverinfo\": \"skip\", \"line\": {\"color\": \"red\", \"width\": 4}, \"mode\": \"lines\", \"showlegend\": false, \"type\": \"scatter\", \"visible\": false, \"x\": [0.0, 3.9000000000000004], \"y\": [2.68, 0.73]}, {\"hoverinfo\": \"skip\", \"line\": {\"color\": \"red\", \"width\": 4}, \"mode\": \"lines\", \"showlegend\": false, \"type\": \"scatter\", \"visible\": false, \"x\": [0.0, 3.9000000000000004], \"y\": [2.98, 1.0299999999999998]}, {\"hoverinfo\": \"skip\", \"line\": {\"color\": \"red\", \"width\": 4}, \"mode\": \"lines\", \"showlegend\": false, \"type\": \"scatter\", \"visible\": false, \"x\": [0.0, 3.9000000000000004], \"y\": [3.275, 1.3249999999999997]}, {\"hoverinfo\": \"skip\", \"line\": {\"color\": \"red\", \"width\": 4}, \"mode\": \"lines\", \"showlegend\": false, \"type\": \"scatter\", \"visible\": false, \"x\": [0.0, 3.9000000000000004], \"y\": [3.575, 1.625]}, {\"hoverinfo\": \"skip\", \"line\": {\"color\": \"red\", \"width\": 4}, \"mode\": \"lines\", \"showlegend\": false, \"type\": \"scatter\", \"visible\": false, \"x\": [0.0, 3.9000000000000004], \"y\": [3.875, 1.9249999999999998]}, {\"hoverinfo\": \"skip\", \"line\": {\"color\": \"red\", \"width\": 4}, \"mode\": \"lines\", \"showlegend\": false, \"type\": \"scatter\", \"visible\": false, \"x\": [0.0, 3.9000000000000004], \"y\": [4.17, 2.2199999999999998]}, {\"hoverinfo\": \"skip\", \"line\": {\"color\": \"red\", \"width\": 4}, \"mode\": \"lines\", \"showlegend\": false, \"type\": \"scatter\", \"visible\": false, \"x\": [0.0, 3.9000000000000004], \"y\": [4.47, 2.5199999999999996]}, {\"hoverinfo\": \"skip\", \"line\": {\"color\": \"red\", \"width\": 4}, \"mode\": \"lines\", \"showlegend\": false, \"type\": \"scatter\", \"visible\": false, \"x\": [0.0, 3.9000000000000004], \"y\": [4.765, 2.8149999999999995]}, {\"hoverinfo\": \"skip\", \"line\": {\"color\": \"red\", \"width\": 4}, \"mode\": \"lines\", \"showlegend\": false, \"type\": \"scatter\", \"visible\": false, \"x\": [0.0, 3.9000000000000004], \"y\": [5.065, 3.115]}, {\"hoverinfo\": \"skip\", \"line\": {\"color\": \"red\", \"width\": 4}, \"mode\": \"lines\", \"showlegend\": false, \"type\": \"scatter\", \"visible\": false, \"x\": [0.0, 3.9000000000000004], \"y\": [5.36, 3.41]}, {\"hoverinfo\": \"skip\", \"line\": {\"color\": \"red\", \"width\": 4}, \"mode\": \"lines\", \"showlegend\": false, \"type\": \"scatter\", \"visible\": false, \"x\": [0.0, 3.9000000000000004], \"y\": [5.5, 3.55]}, {\"hoverinfo\": \"skip\", \"line\": {\"color\": \"red\", \"width\": 4}, \"mode\": \"lines\", \"showlegend\": false, \"type\": \"scatter\", \"visible\": false, \"x\": [0.0, 3.9000000000000004], \"y\": [5.66, 3.71]}, {\"hoverinfo\": \"skip\", \"line\": {\"color\": \"red\", \"width\": 4}, \"mode\": \"lines\", \"showlegend\": false, \"type\": \"scatter\", \"visible\": false, \"x\": [0.0, 3.9000000000000004], \"y\": [5.96, 4.01]}, {\"hoverinfo\": \"skip\", \"line\": {\"color\": \"red\", \"width\": 4}, \"mode\": \"lines\", \"showlegend\": false, \"type\": \"scatter\", \"visible\": false, \"x\": [0.0, 3.9000000000000004], \"y\": [6.255, 4.305]}, {\"hoverinfo\": \"skip\", \"line\": {\"color\": \"red\", \"width\": 4}, \"mode\": \"lines\", \"showlegend\": false, \"type\": \"scatter\", \"visible\": false, \"x\": [0.0, 3.9000000000000004], \"y\": [6.555, 4.6049999999999995]}, {\"hoverinfo\": \"skip\", \"line\": {\"color\": \"red\", \"width\": 4}, \"mode\": \"lines\", \"showlegend\": false, \"type\": \"scatter\", \"visible\": false, \"x\": [0.0, 3.9000000000000004], \"y\": [6.85, 4.8999999999999995]}, {\"hoverinfo\": \"skip\", \"line\": {\"color\": \"red\", \"width\": 4}, \"mode\": \"lines\", \"showlegend\": false, \"type\": \"scatter\", \"visible\": false, \"x\": [0.0, 3.9000000000000004], \"y\": [7.15, 5.2]}],                        {\"font\": {\"color\": \"#323232\", \"family\": \"Arial\"}, \"height\": 500, \"legend\": {\"font\": {\"size\": 13}, \"title\": {\"font\": {\"size\": 14}, \"text\": \"<b>Constraint(s)</b>\"}, \"x\": 0.39473684210526316, \"xanchor\": \"left\", \"y\": 1, \"yanchor\": \"top\"}, \"margin\": {\"b\": 0, \"l\": 0, \"r\": 0, \"t\": 33}, \"paper_bgcolor\": \"white\", \"plot_bgcolor\": \"#FAFAFA\", \"scene\": {\"aspectmode\": \"cube\", \"domain\": {\"x\": [0, 0.39473684210526316], \"y\": [0, 1]}, \"xaxis\": {\"gridcolor\": \"#CCCCCC\", \"gridwidth\": 1, \"linecolor\": \"#4D4D4D\", \"linewidth\": 2, \"range\": [0, 3.9000000000000004], \"rangemode\": \"tozero\", \"showspikes\": false, \"tickcolor\": \"#4D4D4D\", \"ticks\": \"outside\", \"title\": {\"text\": \"x<sub>1</sub>\"}}, \"yaxis\": {\"gridcolor\": \"#CCCCCC\", \"gridwidth\": 1, \"linecolor\": \"#4D4D4D\", \"linewidth\": 2, \"range\": [0, 5.2], \"rangemode\": \"tozero\", \"showspikes\": false, \"tickcolor\": \"#4D4D4D\", \"ticks\": \"outside\", \"title\": {\"text\": \"x<sub>2</sub>\"}}, \"zaxis\": {\"gridcolor\": \"#CCCCCC\", \"gridwidth\": 1, \"linecolor\": \"#4D4D4D\", \"linewidth\": 2, \"rangemode\": \"tozero\", \"showspikes\": false, \"tickcolor\": \"#4D4D4D\", \"ticks\": \"outside\", \"title\": {\"text\": \"x<sub>3</sub>\"}}}, \"sliders\": [{\"active\": 0, \"currentvalue\": {\"prefix\": \"Objective Value: \"}, \"len\": 0.4, \"lenmode\": \"fraction\", \"pad\": {\"b\": 0, \"l\": 0, \"r\": 0, \"t\": 50}, \"steps\": [{\"args\": [{\"visible\": [null, null, true, true, true, true, null, true, false, false, false, false, false, false, false, false, false, false, false, false, false, false, false, false, false, false, false, false, false, false, false, false, false]}], \"label\": \"0.0\", \"method\": \"update\"}, {\"args\": [{\"visible\": [null, null, true, true, true, true, null, false, true, false, false, false, false, false, false, false, false, false, false, false, false, false, false, false, false, false, false, false, false, false, false, false, false]}], \"label\": \"0.6\", \"method\": \"update\"}, {\"args\": [{\"visible\": [null, null, true, true, true, true, null, false, false, true, false, false, false, false, false, false, false, false, false, false, false, false, false, false, false, false, false, false, false, false, false, false, false]}], \"label\": \"1.19\", \"method\": \"update\"}, {\"args\": [{\"visible\": [null, null, true, true, true, true, null, false, false, false, true, false, false, false, false, false, false, false, false, false, false, false, false, false, false, false, false, false, false, false, false, false, false]}], \"label\": \"1.79\", \"method\": \"update\"}, {\"args\": [{\"visible\": [null, null, true, true, true, true, null, false, false, false, false, true, false, false, false, false, false, false, false, false, false, false, false, false, false, false, false, false, false, false, false, false, false]}], \"label\": \"2.38\", \"method\": \"update\"}, {\"args\": [{\"visible\": [null, null, true, true, true, true, null, false, false, false, false, false, true, false, false, false, false, false, false, false, false, false, false, false, false, false, false, false, false, false, false, false, false]}], \"label\": \"2.98\", \"method\": \"update\"}, {\"args\": [{\"visible\": [null, null, true, true, true, true, null, false, false, false, false, false, false, true, false, false, false, false, false, false, false, false, false, false, false, false, false, false, false, false, false, false, false]}], \"label\": \"3.58\", \"method\": \"update\"}, {\"args\": [{\"visible\": [null, null, true, true, true, true, null, false, false, false, false, false, false, false, true, false, false, false, false, false, false, false, false, false, false, false, false, false, false, false, false, false, false]}], \"label\": \"4.17\", \"method\": \"update\"}, {\"args\": [{\"visible\": [null, null, true, true, true, true, null, false, false, false, false, false, false, false, false, true, false, false, false, false, false, false, false, false, false, false, false, false, false, false, false, false, false]}], \"label\": \"4.77\", \"method\": \"update\"}, {\"args\": [{\"visible\": [null, null, true, true, true, true, null, false, false, false, false, false, false, false, false, false, true, false, false, false, false, false, false, false, false, false, false, false, false, false, false, false, false]}], \"label\": \"5.36\", \"method\": \"update\"}, {\"args\": [{\"visible\": [null, null, true, true, true, true, null, false, false, false, false, false, false, false, false, false, false, true, false, false, false, false, false, false, false, false, false, false, false, false, false, false, false]}], \"label\": \"5.96\", \"method\": \"update\"}, {\"args\": [{\"visible\": [null, null, true, true, true, true, null, false, false, false, false, false, false, false, false, false, false, false, true, false, false, false, false, false, false, false, false, false, false, false, false, false, false]}], \"label\": \"6.55\", \"method\": \"update\"}, {\"args\": [{\"visible\": [null, null, true, true, true, true, null, false, false, false, false, false, false, false, false, false, false, false, false, true, false, false, false, false, false, false, false, false, false, false, false, false, false]}], \"label\": \"7.15\", \"method\": \"update\"}, {\"args\": [{\"visible\": [null, null, true, true, true, true, null, false, false, false, false, false, false, false, false, false, false, false, false, false, true, false, false, false, false, false, false, false, false, false, false, false, false]}], \"label\": \"7.75\", \"method\": \"update\"}, {\"args\": [{\"visible\": [null, null, true, true, true, true, null, false, false, false, false, false, false, false, false, false, false, false, false, false, false, true, false, false, false, false, false, false, false, false, false, false, false]}], \"label\": \"8.34\", \"method\": \"update\"}, {\"args\": [{\"visible\": [null, null, true, true, true, true, null, false, false, false, false, false, false, false, false, false, false, false, false, false, false, false, true, false, false, false, false, false, false, false, false, false, false]}], \"label\": \"8.94\", \"method\": \"update\"}, {\"args\": [{\"visible\": [null, null, true, true, true, true, null, false, false, false, false, false, false, false, false, false, false, false, false, false, false, false, false, true, false, false, false, false, false, false, false, false, false]}], \"label\": \"9.53\", \"method\": \"update\"}, {\"args\": [{\"visible\": [null, null, true, true, true, true, null, false, false, false, false, false, false, false, false, false, false, false, false, false, false, false, false, false, true, false, false, false, false, false, false, false, false]}], \"label\": \"10.13\", \"method\": \"update\"}, {\"args\": [{\"visible\": [null, null, true, true, true, true, null, false, false, false, false, false, false, false, false, false, false, false, false, false, false, false, false, false, false, true, false, false, false, false, false, false, false]}], \"label\": \"10.72\", \"method\": \"update\"}, {\"args\": [{\"visible\": [null, null, true, true, true, true, null, false, false, false, false, false, false, false, false, false, false, false, false, false, false, false, false, false, false, false, true, false, false, false, false, false, false]}], \"label\": \"11.0\", \"method\": \"update\"}, {\"args\": [{\"visible\": [null, null, true, true, true, true, null, false, false, false, false, false, false, false, false, false, false, false, false, false, false, false, false, false, false, false, false, true, false, false, false, false, false]}], \"label\": \"11.32\", \"method\": \"update\"}, {\"args\": [{\"visible\": [null, null, true, true, true, true, null, false, false, false, false, false, false, false, false, false, false, false, false, false, false, false, false, false, false, false, false, false, true, false, false, false, false]}], \"label\": \"11.92\", \"method\": \"update\"}, {\"args\": [{\"visible\": [null, null, true, true, true, true, null, false, false, false, false, false, false, false, false, false, false, false, false, false, false, false, false, false, false, false, false, false, false, true, false, false, false]}], \"label\": \"12.51\", \"method\": \"update\"}, {\"args\": [{\"visible\": [null, null, true, true, true, true, null, false, false, false, false, false, false, false, false, false, false, false, false, false, false, false, false, false, false, false, false, false, false, false, true, false, false]}], \"label\": \"13.11\", \"method\": \"update\"}, {\"args\": [{\"visible\": [null, null, true, true, true, true, null, false, false, false, false, false, false, false, false, false, false, false, false, false, false, false, false, false, false, false, false, false, false, false, false, true, false]}], \"label\": \"13.7\", \"method\": \"update\"}, {\"args\": [{\"visible\": [null, null, true, true, true, true, null, false, false, false, false, false, false, false, false, false, false, false, false, false, false, false, false, false, false, false, false, false, false, false, false, false, true]}], \"label\": \"14.3\", \"method\": \"update\"}], \"tickcolor\": \"white\", \"ticklen\": 0, \"x\": 0.6052631578947368, \"xanchor\": \"left\", \"y\": 0.01, \"yanchor\": \"bottom\"}], \"template\": {\"data\": {\"bar\": [{\"error_x\": {\"color\": \"#2a3f5f\"}, \"error_y\": {\"color\": \"#2a3f5f\"}, \"marker\": {\"line\": {\"color\": \"#E5ECF6\", \"width\": 0.5}}, \"type\": \"bar\"}], \"barpolar\": [{\"marker\": {\"line\": {\"color\": \"#E5ECF6\", \"width\": 0.5}}, \"type\": \"barpolar\"}], \"carpet\": [{\"aaxis\": {\"endlinecolor\": \"#2a3f5f\", \"gridcolor\": \"white\", \"linecolor\": \"white\", \"minorgridcolor\": \"white\", \"startlinecolor\": \"#2a3f5f\"}, \"baxis\": {\"endlinecolor\": \"#2a3f5f\", \"gridcolor\": \"white\", \"linecolor\": \"white\", \"minorgridcolor\": \"white\", \"startlinecolor\": \"#2a3f5f\"}, \"type\": \"carpet\"}], \"choropleth\": [{\"colorbar\": {\"outlinewidth\": 0, \"ticks\": \"\"}, \"type\": \"choropleth\"}], \"contour\": [{\"colorbar\": {\"outlinewidth\": 0, \"ticks\": \"\"}, \"colorscale\": [[0.0, \"#0d0887\"], [0.1111111111111111, \"#46039f\"], [0.2222222222222222, \"#7201a8\"], [0.3333333333333333, \"#9c179e\"], [0.4444444444444444, \"#bd3786\"], [0.5555555555555556, \"#d8576b\"], [0.6666666666666666, \"#ed7953\"], [0.7777777777777778, \"#fb9f3a\"], [0.8888888888888888, \"#fdca26\"], [1.0, \"#f0f921\"]], \"type\": \"contour\"}], \"contourcarpet\": [{\"colorbar\": {\"outlinewidth\": 0, \"ticks\": \"\"}, \"type\": \"contourcarpet\"}], \"heatmap\": [{\"colorbar\": {\"outlinewidth\": 0, \"ticks\": \"\"}, \"colorscale\": [[0.0, \"#0d0887\"], [0.1111111111111111, \"#46039f\"], [0.2222222222222222, \"#7201a8\"], [0.3333333333333333, \"#9c179e\"], [0.4444444444444444, \"#bd3786\"], [0.5555555555555556, \"#d8576b\"], [0.6666666666666666, \"#ed7953\"], [0.7777777777777778, \"#fb9f3a\"], [0.8888888888888888, \"#fdca26\"], [1.0, \"#f0f921\"]], \"type\": \"heatmap\"}], \"heatmapgl\": [{\"colorbar\": {\"outlinewidth\": 0, \"ticks\": \"\"}, \"colorscale\": [[0.0, \"#0d0887\"], [0.1111111111111111, \"#46039f\"], [0.2222222222222222, \"#7201a8\"], [0.3333333333333333, \"#9c179e\"], [0.4444444444444444, \"#bd3786\"], [0.5555555555555556, \"#d8576b\"], [0.6666666666666666, \"#ed7953\"], [0.7777777777777778, \"#fb9f3a\"], [0.8888888888888888, \"#fdca26\"], [1.0, \"#f0f921\"]], \"type\": \"heatmapgl\"}], \"histogram\": [{\"marker\": {\"colorbar\": {\"outlinewidth\": 0, \"ticks\": \"\"}}, \"type\": \"histogram\"}], \"histogram2d\": [{\"colorbar\": {\"outlinewidth\": 0, \"ticks\": \"\"}, \"colorscale\": [[0.0, \"#0d0887\"], [0.1111111111111111, \"#46039f\"], [0.2222222222222222, \"#7201a8\"], [0.3333333333333333, \"#9c179e\"], [0.4444444444444444, \"#bd3786\"], [0.5555555555555556, \"#d8576b\"], [0.6666666666666666, \"#ed7953\"], [0.7777777777777778, \"#fb9f3a\"], [0.8888888888888888, \"#fdca26\"], [1.0, \"#f0f921\"]], \"type\": \"histogram2d\"}], \"histogram2dcontour\": [{\"colorbar\": {\"outlinewidth\": 0, \"ticks\": \"\"}, \"colorscale\": [[0.0, \"#0d0887\"], [0.1111111111111111, \"#46039f\"], [0.2222222222222222, \"#7201a8\"], [0.3333333333333333, \"#9c179e\"], [0.4444444444444444, \"#bd3786\"], [0.5555555555555556, \"#d8576b\"], [0.6666666666666666, \"#ed7953\"], [0.7777777777777778, \"#fb9f3a\"], [0.8888888888888888, \"#fdca26\"], [1.0, \"#f0f921\"]], \"type\": \"histogram2dcontour\"}], \"mesh3d\": [{\"colorbar\": {\"outlinewidth\": 0, \"ticks\": \"\"}, \"type\": \"mesh3d\"}], \"parcoords\": [{\"line\": {\"colorbar\": {\"outlinewidth\": 0, \"ticks\": \"\"}}, \"type\": \"parcoords\"}], \"pie\": [{\"automargin\": true, \"type\": \"pie\"}], \"scatter\": [{\"marker\": {\"colorbar\": {\"outlinewidth\": 0, \"ticks\": \"\"}}, \"type\": \"scatter\"}], \"scatter3d\": [{\"line\": {\"colorbar\": {\"outlinewidth\": 0, \"ticks\": \"\"}}, \"marker\": {\"colorbar\": {\"outlinewidth\": 0, \"ticks\": \"\"}}, \"type\": \"scatter3d\"}], \"scattercarpet\": [{\"marker\": {\"colorbar\": {\"outlinewidth\": 0, \"ticks\": \"\"}}, \"type\": \"scattercarpet\"}], \"scattergeo\": [{\"marker\": {\"colorbar\": {\"outlinewidth\": 0, \"ticks\": \"\"}}, \"type\": \"scattergeo\"}], \"scattergl\": [{\"marker\": {\"colorbar\": {\"outlinewidth\": 0, \"ticks\": \"\"}}, \"type\": \"scattergl\"}], \"scattermapbox\": [{\"marker\": {\"colorbar\": {\"outlinewidth\": 0, \"ticks\": \"\"}}, \"type\": \"scattermapbox\"}], \"scatterpolar\": [{\"marker\": {\"colorbar\": {\"outlinewidth\": 0, \"ticks\": \"\"}}, \"type\": \"scatterpolar\"}], \"scatterpolargl\": [{\"marker\": {\"colorbar\": {\"outlinewidth\": 0, \"ticks\": \"\"}}, \"type\": \"scatterpolargl\"}], \"scatterternary\": [{\"marker\": {\"colorbar\": {\"outlinewidth\": 0, \"ticks\": \"\"}}, \"type\": \"scatterternary\"}], \"surface\": [{\"colorbar\": {\"outlinewidth\": 0, \"ticks\": \"\"}, \"colorscale\": [[0.0, \"#0d0887\"], [0.1111111111111111, \"#46039f\"], [0.2222222222222222, \"#7201a8\"], [0.3333333333333333, \"#9c179e\"], [0.4444444444444444, \"#bd3786\"], [0.5555555555555556, \"#d8576b\"], [0.6666666666666666, \"#ed7953\"], [0.7777777777777778, \"#fb9f3a\"], [0.8888888888888888, \"#fdca26\"], [1.0, \"#f0f921\"]], \"type\": \"surface\"}], \"table\": [{\"cells\": {\"fill\": {\"color\": \"#EBF0F8\"}, \"line\": {\"color\": \"white\"}}, \"header\": {\"fill\": {\"color\": \"#C8D4E3\"}, \"line\": {\"color\": \"white\"}}, \"type\": \"table\"}]}, \"layout\": {\"annotationdefaults\": {\"arrowcolor\": \"#2a3f5f\", \"arrowhead\": 0, \"arrowwidth\": 1}, \"coloraxis\": {\"colorbar\": {\"outlinewidth\": 0, \"ticks\": \"\"}}, \"colorscale\": {\"diverging\": [[0, \"#8e0152\"], [0.1, \"#c51b7d\"], [0.2, \"#de77ae\"], [0.3, \"#f1b6da\"], [0.4, \"#fde0ef\"], [0.5, \"#f7f7f7\"], [0.6, \"#e6f5d0\"], [0.7, \"#b8e186\"], [0.8, \"#7fbc41\"], [0.9, \"#4d9221\"], [1, \"#276419\"]], \"sequential\": [[0.0, \"#0d0887\"], [0.1111111111111111, \"#46039f\"], [0.2222222222222222, \"#7201a8\"], [0.3333333333333333, \"#9c179e\"], [0.4444444444444444, \"#bd3786\"], [0.5555555555555556, \"#d8576b\"], [0.6666666666666666, \"#ed7953\"], [0.7777777777777778, \"#fb9f3a\"], [0.8888888888888888, \"#fdca26\"], [1.0, \"#f0f921\"]], \"sequentialminus\": [[0.0, \"#0d0887\"], [0.1111111111111111, \"#46039f\"], [0.2222222222222222, \"#7201a8\"], [0.3333333333333333, \"#9c179e\"], [0.4444444444444444, \"#bd3786\"], [0.5555555555555556, \"#d8576b\"], [0.6666666666666666, \"#ed7953\"], [0.7777777777777778, \"#fb9f3a\"], [0.8888888888888888, \"#fdca26\"], [1.0, \"#f0f921\"]]}, \"colorway\": [\"#636efa\", \"#EF553B\", \"#00cc96\", \"#ab63fa\", \"#FFA15A\", \"#19d3f3\", \"#FF6692\", \"#B6E880\", \"#FF97FF\", \"#FECB52\"], \"font\": {\"color\": \"#2a3f5f\"}, \"geo\": {\"bgcolor\": \"white\", \"lakecolor\": \"white\", \"landcolor\": \"#E5ECF6\", \"showlakes\": true, \"showland\": true, \"subunitcolor\": \"white\"}, \"hoverlabel\": {\"align\": \"left\"}, \"hovermode\": \"closest\", \"mapbox\": {\"style\": \"light\"}, \"paper_bgcolor\": \"white\", \"plot_bgcolor\": \"#E5ECF6\", \"polar\": {\"angularaxis\": {\"gridcolor\": \"white\", \"linecolor\": \"white\", \"ticks\": \"\"}, \"bgcolor\": \"#E5ECF6\", \"radialaxis\": {\"gridcolor\": \"white\", \"linecolor\": \"white\", \"ticks\": \"\"}}, \"scene\": {\"xaxis\": {\"backgroundcolor\": \"#E5ECF6\", \"gridcolor\": \"white\", \"gridwidth\": 2, \"linecolor\": \"white\", \"showbackground\": true, \"ticks\": \"\", \"zerolinecolor\": \"white\"}, \"yaxis\": {\"backgroundcolor\": \"#E5ECF6\", \"gridcolor\": \"white\", \"gridwidth\": 2, \"linecolor\": \"white\", \"showbackground\": true, \"ticks\": \"\", \"zerolinecolor\": \"white\"}, \"zaxis\": {\"backgroundcolor\": \"#E5ECF6\", \"gridcolor\": \"white\", \"gridwidth\": 2, \"linecolor\": \"white\", \"showbackground\": true, \"ticks\": \"\", \"zerolinecolor\": \"white\"}}, \"shapedefaults\": {\"line\": {\"color\": \"#2a3f5f\"}}, \"ternary\": {\"aaxis\": {\"gridcolor\": \"white\", \"linecolor\": \"white\", \"ticks\": \"\"}, \"baxis\": {\"gridcolor\": \"white\", \"linecolor\": \"white\", \"ticks\": \"\"}, \"bgcolor\": \"#E5ECF6\", \"caxis\": {\"gridcolor\": \"white\", \"linecolor\": \"white\", \"ticks\": \"\"}}, \"title\": {\"x\": 0.05}, \"xaxis\": {\"automargin\": true, \"gridcolor\": \"white\", \"linecolor\": \"white\", \"ticks\": \"\", \"title\": {\"standoff\": 15}, \"zerolinecolor\": \"white\", \"zerolinewidth\": 2}, \"yaxis\": {\"automargin\": true, \"gridcolor\": \"white\", \"linecolor\": \"white\", \"ticks\": \"\", \"title\": {\"standoff\": 15}, \"zerolinecolor\": \"white\", \"zerolinewidth\": 2}}}, \"title\": {\"font\": {\"color\": \"#00285F\", \"size\": 18}, \"text\": \"<b>Geometric Interpretation of LPs</b>\", \"x\": 0, \"xanchor\": \"left\", \"y\": 0.99, \"yanchor\": \"top\"}, \"width\": 950, \"xaxis\": {\"domain\": [0, 0.39473684210526316], \"gridcolor\": \"#CCCCCC\", \"gridwidth\": 1, \"linecolor\": \"#4D4D4D\", \"linewidth\": 2, \"range\": [0, 3.9000000000000004], \"rangemode\": \"tozero\", \"showspikes\": false, \"tickcolor\": \"#4D4D4D\", \"ticks\": \"outside\", \"title\": {\"text\": \"x<sub>1</sub>\"}}, \"yaxis\": {\"domain\": [0, 1], \"gridcolor\": \"#CCCCCC\", \"gridwidth\": 1, \"linecolor\": \"#4D4D4D\", \"linewidth\": 2, \"range\": [0, 5.2], \"rangemode\": \"tozero\", \"showspikes\": false, \"tickcolor\": \"#4D4D4D\", \"ticks\": \"outside\", \"title\": {\"text\": \"x<sub>2</sub>\"}}},                        {\"responsive\": true}                    ).then(function(){\n",
              "                            \n",
              "var gd = document.getElementById('068ab53f-9488-4dbe-a65e-94e768c2a0e1');\n",
              "var x = new MutationObserver(function (mutations, observer) {{\n",
              "        var display = window.getComputedStyle(gd).display;\n",
              "        if (!display || display === 'none') {{\n",
              "            console.log([gd, 'removed!']);\n",
              "            Plotly.purge(gd);\n",
              "            observer.disconnect();\n",
              "        }}\n",
              "}});\n",
              "\n",
              "// Listen for the removal of the full notebook cells\n",
              "var notebookContainer = gd.closest('#notebook-container');\n",
              "if (notebookContainer) {{\n",
              "    x.observe(notebookContainer, {childList: true});\n",
              "}}\n",
              "\n",
              "// Listen for the clearing of the current output cell\n",
              "var outputEl = gd.closest('.output');\n",
              "if (outputEl) {{\n",
              "    x.observe(outputEl, {childList: true});\n",
              "}}\n",
              "\n",
              "                        })                };                            </script>        </div>\n",
              "</body>\n",
              "</html>"
            ]
          },
          "metadata": {
            "tags": []
          }
        }
      ]
    },
    {
      "cell_type": "markdown",
      "metadata": {
        "id": "2ky7BcI4uHle"
      },
      "source": [
        "**Q4:** Use the objective slider to solve the `DEGENERATE_FIN_2D_LP` LP graphically. Give an optimal solution and objective value. (Hint: The objective slider shows the isoprofit line (in red) for some objective value.)\n",
        "\n",
        "**A:** x1 = 2, x2 = 4"
      ]
    },
    {
      "cell_type": "markdown",
      "metadata": {
        "id": "OfIKglp4uHlf"
      },
      "source": [
        "You should now be comfortable solving linear programs with two decision variables graphically. In this case, each constraint is a line representing an inequality. These inequalites define a shaded region in the coordinate plane which is our feasible region. Lastly, the isoprofits are parallel lines. To find an optimal solution, we just increase the objective value while the corresponding isoprofit line still intersects the 2D feasible region. \n",
        "\n",
        "Now, we will try to wrap our head around an LP with three decision variables! Similar to before, we can plot solutions to a 3D LP on a plot with 3 axes. Here, the $x$-axis corresponds to the value of $x_1$ and the $y$-axis corresponds to the value of $x_2$ as before. Furthermore, the $z$-axis corresponds to the value of $x_3$. Now, constraints are *planes* representing an inequality. These inequality planes define a 3D shaded region which is our feasible region. The isoprofits are isoprofit *planes* which are parallel. To find an optimal solution, we just increase the objective value while the corresponding isoprofit plane still intersects the 3D feasible region. Let us look at an example."
      ]
    },
    {
      "cell_type": "markdown",
      "metadata": {
        "id": "qj-oi9XiuHlf"
      },
      "source": [
        "This LP is called `ALL_INTEGER_3D_LP`:\n",
        "\n",
        "$$\\begin{align*}\n",
        "\\max \\quad & 1x_1+2x_2+4x_3\\\\\n",
        "\\text{s.t.} \\quad & 1x_1 + 0x_2 + 0x_3 \\leq 6 \\\\\n",
        "\\quad & 1x_1 + 0x_2 + 1x_3 \\leq 8 \\\\\n",
        "\\quad & 0x_1 + 0x_2 + 1x_3 \\leq 5 \\\\\n",
        "\\quad & 0x_1 + 1x_2 + 1x_3 \\leq 8 \\\\\n",
        "\\quad & x_1, x_2 \\geq 0 \\\\\n",
        "\\end{align*}$$\n"
      ]
    },
    {
      "cell_type": "code",
      "metadata": {
        "id": "MpcqMsG2uHlf",
        "outputId": "b446ac28-ccd1-4e38-e7fe-b51ba3cb09ea",
        "colab": {
          "base_uri": "https://localhost:8080/",
          "height": 517
        }
      },
      "source": [
        "lp = ex.ALL_INTEGER_3D_LP # get LP example\n",
        "lp_visual(lp).show() # visualize it"
      ],
      "execution_count": null,
      "outputs": [
        {
          "output_type": "display_data",
          "data": {
            "text/html": [
              "<html>\n",
              "<head><meta charset=\"utf-8\" /></head>\n",
              "<body>\n",
              "    <div>            <script src=\"https://cdnjs.cloudflare.com/ajax/libs/mathjax/2.7.5/MathJax.js?config=TeX-AMS-MML_SVG\"></script><script type=\"text/javascript\">if (window.MathJax) {MathJax.Hub.Config({SVG: {font: \"STIX-Web\"}});}</script>                <script type=\"text/javascript\">window.PlotlyConfig = {MathJaxConfig: 'local'};</script>\n",
              "        <script src=\"https://cdn.plot.ly/plotly-latest.min.js\"></script>                <div id=\"eb8423ed-d50c-4f99-ba12-dbfaf349bfa8\" class=\"plotly-graph-div\" style=\"height:500px; width:950px;\"></div>            <script type=\"text/javascript\">                                    window.PLOTLYENV=window.PLOTLYENV || {};                                    if (document.getElementById(\"eb8423ed-d50c-4f99-ba12-dbfaf349bfa8\")) {                    Plotly.newPlot(                        \"eb8423ed-d50c-4f99-ba12-dbfaf349bfa8\",                        [{\"hoverinfo\": \"skip\", \"marker\": {\"color\": \"white\", \"opacity\": 1e-07, \"size\": 0}, \"mode\": \"markers\", \"showlegend\": false, \"type\": \"scatter3d\", \"x\": [7.800000000000001], \"y\": [10.4], \"z\": [6.5]}, {\"hoverinfo\": \"none\", \"line\": {\"color\": \"#173D90\", \"width\": 5}, \"mode\": \"lines\", \"opacity\": 0.2, \"showlegend\": false, \"surfaceaxis\": 0, \"surfacecolor\": \"#1469FE\", \"type\": \"scatter3d\", \"visible\": true, \"x\": [6.0, 6.0, 6.0, 6.0, 6.0], \"y\": [8.0, 0.0, 0.0, 6.0, 8.0], \"z\": [-0.0, 0.0, 2.0, 2.0, -0.0]}, {\"hoverinfo\": \"none\", \"line\": {\"color\": \"#173D90\", \"width\": 5}, \"mode\": \"lines\", \"opacity\": 0.2, \"showlegend\": false, \"surfaceaxis\": 2, \"surfacecolor\": \"#1469FE\", \"type\": \"scatter3d\", \"visible\": true, \"x\": [3.0, 6.0, 6.0, 3.0, 3.0], \"y\": [3.0, 6.0, 0.0, 0.0, 3.0], \"z\": [5.0, 2.0, 2.0, 5.0, 5.0]}, {\"hoverinfo\": \"none\", \"line\": {\"color\": \"#173D90\", \"width\": 5}, \"mode\": \"lines\", \"opacity\": 0.2, \"showlegend\": false, \"surfaceaxis\": 2, \"surfacecolor\": \"#1469FE\", \"type\": \"scatter3d\", \"visible\": true, \"x\": [3.0, 3.0, 0.0, 0.0, 3.0], \"y\": [3.0, 0.0, 0.0, 3.0, 3.0], \"z\": [5.0, 5.0, 5.0, 5.0, 5.0]}, {\"hoverinfo\": \"none\", \"line\": {\"color\": \"#173D90\", \"width\": 5}, \"mode\": \"lines\", \"opacity\": 0.2, \"showlegend\": false, \"surfaceaxis\": 2, \"surfacecolor\": \"#1469FE\", \"type\": \"scatter3d\", \"visible\": true, \"x\": [3.0, 6.0, 6.0, 0.0, 0.0, 3.0], \"y\": [3.0, 6.0, 8.0, 8.0, 3.0, 3.0], \"z\": [5.0, 2.0, -0.0, 0.0, 5.0, 5.0]}, {\"hoverinfo\": \"none\", \"line\": {\"color\": \"#173D90\", \"width\": 5}, \"mode\": \"lines\", \"opacity\": 0.2, \"showlegend\": false, \"surfaceaxis\": 0, \"surfacecolor\": \"#1469FE\", \"type\": \"scatter3d\", \"visible\": true, \"x\": [0.0, 0.0, 0.0, 0.0, 0.0], \"y\": [3.0, 8.0, 0.0, 0.0, 3.0], \"z\": [5.0, 0.0, 0.0, 5.0, 5.0]}, {\"hoverinfo\": \"none\", \"line\": {\"color\": \"#173D90\", \"width\": 5}, \"mode\": \"lines\", \"opacity\": 0.2, \"showlegend\": false, \"surfaceaxis\": 1, \"surfacecolor\": \"#1469FE\", \"type\": \"scatter3d\", \"visible\": true, \"x\": [0.0, 0.0, 6.0, 6.0, 3.0, 0.0], \"y\": [0.0, 0.0, 0.0, 0.0, 0.0, 0.0], \"z\": [5.0, 0.0, 0.0, 2.0, 5.0, 5.0]}, {\"hoverinfo\": \"none\", \"line\": {\"color\": \"#173D90\", \"width\": 5}, \"mode\": \"lines\", \"opacity\": 0.2, \"showlegend\": false, \"surfaceaxis\": 2, \"surfacecolor\": \"#1469FE\", \"type\": \"scatter3d\", \"visible\": true, \"x\": [6.0, 0.0, 0.0, 6.0, 6.0], \"y\": [8.0, 8.0, 0.0, 0.0, 8.0], \"z\": [-0.0, 0.0, 0.0, 0.0, -0.0]}, {\"hoverinfo\": \"none\", \"mode\": \"none\", \"name\": \"(4) 1x<sub>1</sub> + 0x<sub>2</sub> + 0x<sub>3</sub> \\u2264 6\", \"opacity\": 0.5, \"showlegend\": true, \"surfaceaxis\": 0, \"surfacecolor\": \"gray\", \"type\": \"scatter3d\", \"visible\": \"legendonly\", \"x\": [6.0, 6.0, 6.0, 6.0, 6.0], \"y\": [0.0, 0.0, 10.4, 10.4, 0.0], \"z\": [0.0, 6.5, 6.5, 0.0, 0.0]}, {\"hoverinfo\": \"none\", \"mode\": \"none\", \"name\": \"(5) 1x<sub>1</sub> + 0x<sub>2</sub> + 1x<sub>3</sub> \\u2264 8\", \"opacity\": 0.5, \"showlegend\": true, \"surfaceaxis\": 2, \"surfacecolor\": \"gray\", \"type\": \"scatter3d\", \"visible\": \"legendonly\", \"x\": [0.0, 0.0, 7.800000000000001, 7.800000000000001, 0.0], \"y\": [10.4, 0.0, 0.0, 10.4, 10.4], \"z\": [8.0, 8.0, 0.1999999999999993, 0.1999999999999993, 8.0]}, {\"hoverinfo\": \"none\", \"mode\": \"none\", \"name\": \"(6) 0x<sub>1</sub> + 0x<sub>2</sub> + 1x<sub>3</sub> \\u2264 5\", \"opacity\": 0.5, \"showlegend\": true, \"surfaceaxis\": 2, \"surfacecolor\": \"gray\", \"type\": \"scatter3d\", \"visible\": \"legendonly\", \"x\": [0.0, 7.800000000000001, 7.800000000000001, 0.0, 0.0], \"y\": [0.0, 0.0, 10.4, 10.4, 0.0], \"z\": [5.0, 5.0, 5.0, 5.0, 5.0]}, {\"hoverinfo\": \"none\", \"mode\": \"none\", \"name\": \"(7) 0x<sub>1</sub> + 1x<sub>2</sub> + 1x<sub>3</sub> \\u2264 8\", \"opacity\": 0.5, \"showlegend\": true, \"surfaceaxis\": 2, \"surfacecolor\": \"gray\", \"type\": \"scatter3d\", \"visible\": \"legendonly\", \"x\": [0.0, 7.800000000000001, 7.800000000000001, 0.0, 0.0], \"y\": [10.4, 10.4, 0.0, 0.0, 10.4], \"z\": [-2.4000000000000004, -2.4000000000000004, 8.0, 8.0, -2.4000000000000004]}, {\"hoverinfo\": \"text\", \"hoverlabel\": {\"bgcolor\": \"#FAFAFA\", \"bordercolor\": \"#323232\", \"font\": {\"color\": \"#323232\", \"family\": \"Arial\"}}, \"marker\": {\"color\": \"gray\", \"opacity\": 1e-07, \"size\": 20}, \"mode\": \"markers\", \"showlegend\": false, \"text\": [\"<b>BFS</b>: (0, 0, 0, 6, 8, 5, 8)<br><b>B</b>: (2, 4, 5, 6, 7)<br><b>Obj</b>: 0\", \"<b>BFS</b>: (0, 3, 5, 6, 3, 0, 0)<br><b>B</b>: (2, 3, 4, 5)<br><b>Obj</b>: 26\", \"<b>BFS</b>: (0, 0, 5, 6, 3, 0, 3)<br><b>B</b>: (1, 2, 3, 4, 5, 7)<br><b>Obj</b>: 20\", \"<b>BFS</b>: (0, 8, 0, 6, 8, 5, 0)<br><b>B</b>: (1, 2, 3, 4, 5, 6)<br><b>Obj</b>: 16\", \"<b>BFS</b>: (3, 0, 5, 3, 0, 0, 3)<br><b>B</b>: (1, 3, 4, 7)<br><b>Obj</b>: 23\", \"<b>BFS</b>: (3, 3, 5, 3, 0, 0, 0)<br><b>B</b>: (1, 2, 3, 4)<br><b>Obj</b>: 29\", \"<b>BFS</b>: (6, 0, 0, 0, 2, 5, 8)<br><b>B</b>: (1, 5, 6, 7)<br><b>Obj</b>: 6\", \"<b>BFS</b>: (6, 0, 2, 0, 0, 3, 6)<br><b>B</b>: (1, 3, 6, 7)<br><b>Obj</b>: 14\", \"<b>BFS</b>: (6, 6, 2, 0, 0, 3, 0)<br><b>B</b>: (1, 2, 3, 6)<br><b>Obj</b>: 26\", \"<b>BFS</b>: (6, 8, 0, 0, 2, 5, 0)<br><b>B</b>: (1, 2, 3, 5, 6, 7)<br><b>Obj</b>: 22\"], \"type\": \"scatter3d\", \"x\": [0.0, 0.0, 4.440892098500626e-16, 4.440892098500626e-16, 3.0, 3.0, 6.0, 6.0, 6.0, 6.0], \"y\": [4.440892098500626e-16, 3.0, 4.440892098500626e-16, 8.0, 0.0, 3.0, 0.0, 0.0, 6.0, 8.000000000000002], \"z\": [0.0, 5.0, 5.0, 4.440892098500626e-16, 5.0, 5.0, 0.0, 2.0, 2.0, 4.440892098500626e-16]}, {\"hoverinfo\": \"none\", \"mode\": \"none\", \"opacity\": 0.3, \"showlegend\": false, \"surfaceaxis\": 2, \"surfacecolor\": \"gray\", \"type\": \"scatter3d\", \"visible\": false, \"x\": [0.0, 7.800000000000001, 7.800000000000001, 0.0, 0.0], \"y\": [10.4, 10.4, 0.0, 0.0, 10.4], \"z\": [-5.2, -7.15, -1.9500000000000002, 0.0, -5.2]}, {\"hoverinfo\": \"none\", \"line\": {\"color\": \"red\", \"width\": 5}, \"marker\": {\"color\": \"red\", \"opacity\": 1, \"size\": 5}, \"mode\": \"lines+markers\", \"opacity\": 1, \"showlegend\": false, \"surfaceaxis\": 2, \"surfacecolor\": \"red\", \"type\": \"scatter3d\", \"visible\": false, \"x\": [0.0, -0.0, 0.0, 0.0], \"y\": [0.0, -0.0, 0.0, 0.0], \"z\": [0.0, -0.0, 0.0, 0.0]}, {\"hoverinfo\": \"none\", \"mode\": \"none\", \"opacity\": 0.3, \"showlegend\": false, \"surfaceaxis\": 2, \"surfacecolor\": \"gray\", \"type\": \"scatter3d\", \"visible\": false, \"x\": [0.0, 0.0, 7.800000000000001, 7.800000000000001, 0.0], \"y\": [0.0, 10.4, 10.4, 0.0, 0.0], \"z\": [0.57, -4.63, -6.58, -1.3800000000000003, 0.57]}, {\"hoverinfo\": \"none\", \"line\": {\"color\": \"red\", \"width\": 5}, \"marker\": {\"color\": \"red\", \"opacity\": 1, \"size\": 5}, \"mode\": \"lines+markers\", \"opacity\": 1, \"showlegend\": false, \"surfaceaxis\": 2, \"surfacecolor\": \"red\", \"type\": \"scatter3d\", \"visible\": false, \"x\": [2.28, 0.0, 0.0, 2.28], \"y\": [-5.551115123125783e-17, -2.775557561562891e-17, 1.14, -5.551115123125783e-17], \"z\": [0.0, 0.5700000000000001, 0.0, 0.0]}, {\"hoverinfo\": \"none\", \"mode\": \"none\", \"opacity\": 0.3, \"showlegend\": false, \"surfaceaxis\": 2, \"surfacecolor\": \"gray\", \"type\": \"scatter3d\", \"visible\": false, \"x\": [7.800000000000001, 0.0, 0.0, 7.800000000000001, 7.800000000000001], \"y\": [0.0, 0.0, 10.4, 10.4, 0.0], \"z\": [-0.8125000000000002, 1.1375, -4.0625, -6.0125, -0.8125000000000002]}, {\"hoverinfo\": \"none\", \"line\": {\"color\": \"red\", \"width\": 5}, \"marker\": {\"color\": \"red\", \"opacity\": 1, \"size\": 5}, \"mode\": \"lines+markers\", \"opacity\": 1, \"showlegend\": false, \"surfaceaxis\": 2, \"surfacecolor\": \"red\", \"type\": \"scatter3d\", \"visible\": false, \"x\": [4.549999999999999, -2.775557561562891e-17, 0.0, 4.549999999999999], \"y\": [-2.775557561562891e-17, -2.775557561562891e-17, 2.275, -2.775557561562891e-17], \"z\": [0.0, 1.1375, 0.0, 0.0]}, {\"hoverinfo\": \"none\", \"mode\": \"none\", \"opacity\": 0.3, \"showlegend\": false, \"surfaceaxis\": 2, \"surfacecolor\": \"gray\", \"type\": \"scatter3d\", \"visible\": false, \"x\": [7.800000000000001, 0.0, 0.0, 7.800000000000001, 7.800000000000001], \"y\": [10.4, 10.4, 0.0, 0.0, 10.4], \"z\": [-5.445, -3.495, 1.705, -0.2450000000000001, -5.445]}, {\"hoverinfo\": \"none\", \"line\": {\"color\": \"red\", \"width\": 5}, \"marker\": {\"color\": \"red\", \"opacity\": 1, \"size\": 5}, \"mode\": \"lines+markers\", \"opacity\": 1, \"showlegend\": false, \"surfaceaxis\": 2, \"surfacecolor\": \"red\", \"type\": \"scatter3d\", \"visible\": false, \"x\": [6.0, 2.775557561562891e-17, 0.0, 6.0, 6.0], \"y\": [0.4100000000000003, 3.410000000000001, 0.0, -5.551115123125783e-17, 0.4100000000000003], \"z\": [-2.775557561562891e-17, 2.775557561562891e-17, 1.705, 0.2050000000000002, -2.775557561562891e-17]}, {\"hoverinfo\": \"none\", \"mode\": \"none\", \"opacity\": 0.3, \"showlegend\": false, \"surfaceaxis\": 2, \"surfacecolor\": \"gray\", \"type\": \"scatter3d\", \"visible\": false, \"x\": [7.800000000000001, 0.0, 0.0, 7.800000000000001, 7.800000000000001], \"y\": [10.4, 10.4, 0.0, 0.0, 10.4], \"z\": [-4.875, -2.9250000000000003, 2.275, 0.32499999999999973, -4.875]}, {\"hoverinfo\": \"none\", \"line\": {\"color\": \"red\", \"width\": 5}, \"marker\": {\"color\": \"red\", \"opacity\": 1, \"size\": 5}, \"mode\": \"lines+markers\", \"opacity\": 1, \"showlegend\": false, \"surfaceaxis\": 2, \"surfacecolor\": \"red\", \"type\": \"scatter3d\", \"visible\": false, \"x\": [6.000000000000002, 6.0, 2.775557561562891e-17, 5.551115123125783e-17, 6.000000000000002], \"y\": [1.55, -2.775557561562891e-17, -2.775557561562891e-17, 4.55, 1.55], \"z\": [-2.775557561562891e-17, 0.7749999999999998, 2.275, -2.775557561562891e-17, -2.775557561562891e-17]}, {\"hoverinfo\": \"none\", \"mode\": \"none\", \"opacity\": 0.3, \"showlegend\": false, \"surfaceaxis\": 2, \"surfacecolor\": \"gray\", \"type\": \"scatter3d\", \"visible\": false, \"x\": [7.800000000000001, 0.0, 0.0, 7.800000000000001, 7.800000000000001], \"y\": [10.4, 10.4, 0.0, 0.0, 10.4], \"z\": [-4.305, -2.355, 2.845, 0.895, -4.305]}, {\"hoverinfo\": \"none\", \"line\": {\"color\": \"red\", \"width\": 5}, \"marker\": {\"color\": \"red\", \"opacity\": 1, \"size\": 5}, \"mode\": \"lines+markers\", \"opacity\": 1, \"showlegend\": false, \"surfaceaxis\": 2, \"surfacecolor\": \"red\", \"type\": \"scatter3d\", \"visible\": false, \"x\": [6.000000000000002, 6.0, 2.775557561562891e-17, 0.0, 6.000000000000002], \"y\": [2.69, 0.0, -8.326672684688674e-17, 5.690000000000001, 2.69], \"z\": [0.0, 1.345, 2.845000000000001, 0.0, 0.0]}, {\"hoverinfo\": \"none\", \"mode\": \"none\", \"opacity\": 0.3, \"showlegend\": false, \"surfaceaxis\": 2, \"surfacecolor\": \"gray\", \"type\": \"scatter3d\", \"visible\": false, \"x\": [7.800000000000001, 7.800000000000001, 0.0, 0.0, 7.800000000000001], \"y\": [10.4, 0.0, 0.0, 10.4, 10.4], \"z\": [-3.7375000000000003, 1.4625, 3.4125, -1.7875, -3.7375000000000003]}, {\"hoverinfo\": \"none\", \"line\": {\"color\": \"red\", \"width\": 5}, \"marker\": {\"color\": \"red\", \"opacity\": 1, \"size\": 5}, \"mode\": \"lines+markers\", \"opacity\": 1, \"showlegend\": false, \"surfaceaxis\": 2, \"surfacecolor\": \"red\", \"type\": \"scatter3d\", \"visible\": false, \"x\": [6.000000000000002, 6.0, 8.326672684688674e-17, 2.775557561562891e-17, 6.000000000000002], \"y\": [3.825000000000001, -2.775557561562891e-17, 5.551115123125783e-17, 6.825, 3.825000000000001], \"z\": [-2.775557561562891e-17, 1.9125, 3.4125, 2.775557561562891e-17, -2.775557561562891e-17]}, {\"hoverinfo\": \"none\", \"mode\": \"none\", \"opacity\": 0.3, \"showlegend\": false, \"surfaceaxis\": 2, \"surfacecolor\": \"gray\", \"type\": \"scatter3d\", \"visible\": false, \"x\": [7.800000000000001, 0.0, 0.0, 7.800000000000001, 7.800000000000001], \"y\": [10.4, 10.4, 0.0, 0.0, 10.4], \"z\": [-3.1700000000000004, -1.2200000000000002, 3.98, 2.03, -3.1700000000000004]}, {\"hoverinfo\": \"none\", \"line\": {\"color\": \"red\", \"width\": 5}, \"marker\": {\"color\": \"red\", \"opacity\": 1, \"size\": 5}, \"mode\": \"lines+markers\", \"opacity\": 1, \"showlegend\": false, \"surfaceaxis\": 2, \"surfacecolor\": \"red\", \"type\": \"scatter3d\", \"visible\": false, \"x\": [5.360000000000003, -2.775557561562891e-17, 5.551115123125783e-17, 6.0, 6.000000000000002, 5.360000000000003], \"y\": [-2.775557561562891e-17, -5.551115123125783e-17, 7.959999999999998, 4.96, 0.9599999999999979, -2.775557561562891e-17], \"z\": [2.639999999999999, 3.98, 2.775557561562891e-17, -2.775557561562891e-17, 2.000000000000001, 2.639999999999999]}, {\"hoverinfo\": \"none\", \"mode\": \"none\", \"opacity\": 0.3, \"showlegend\": false, \"surfaceaxis\": 2, \"surfacecolor\": \"gray\", \"type\": \"scatter3d\", \"visible\": false, \"x\": [0.0, 7.800000000000001, 7.800000000000001, 0.0, 0.0], \"y\": [10.4, 10.4, 0.0, 0.0, 10.4], \"z\": [-0.6500000000000004, -2.6000000000000005, 2.5999999999999996, 4.55, -0.6500000000000004]}, {\"hoverinfo\": \"none\", \"line\": {\"color\": \"red\", \"width\": 5}, \"marker\": {\"color\": \"red\", \"opacity\": 1, \"size\": 5}, \"mode\": \"lines+markers\", \"opacity\": 1, \"showlegend\": false, \"surfaceaxis\": 2, \"surfacecolor\": \"red\", \"type\": \"scatter3d\", \"visible\": false, \"x\": [2.200000000000002, 6.000000000000002, 6.0, 4.600000000000001, 0.0, 0.0, 2.200000000000002], \"y\": [8.0, 6.100000000000001, 2.099999999999997, -5.551115123125783e-17, -2.775557561562891e-17, 6.899999999999999, 8.0], \"z\": [-2.775557561562891e-17, -2.775557561562891e-17, 2.000000000000001, 3.4, 4.550000000000001, 1.100000000000001, -2.775557561562891e-17]}, {\"hoverinfo\": \"none\", \"mode\": \"none\", \"opacity\": 0.3, \"showlegend\": false, \"surfaceaxis\": 2, \"surfacecolor\": \"gray\", \"type\": \"scatter3d\", \"visible\": false, \"x\": [0.0, 0.0, 7.800000000000001, 7.800000000000001, 0.0], \"y\": [0.0, 10.4, 10.4, 0.0, 0.0], \"z\": [5.1175, -0.08250000000000046, -2.0325000000000006, 3.1674999999999995, 5.1175]}, {\"hoverinfo\": \"none\", \"line\": {\"color\": \"red\", \"width\": 5}, \"marker\": {\"color\": \"red\", \"opacity\": 1, \"size\": 5}, \"mode\": \"lines+markers\", \"opacity\": 1, \"showlegend\": false, \"surfaceaxis\": 2, \"surfacecolor\": \"red\", \"type\": \"scatter3d\", \"visible\": false, \"x\": [4.470000000000006, 6.0, 6.0, 3.843333333333334, 0.470000000000002, 0.0, 2.775557561562891e-17, 4.470000000000006], \"y\": [7.999999999999999, 7.235, 3.234999999999999, 0.0, -2.775557561562891e-17, 0.235000000000001, 5.764999999999996, 7.999999999999999], \"z\": [2.775557561562891e-17, 0.0, 2.000000000000001, 4.156666666666667, 5.0, 5.0, 2.235000000000003, 2.775557561562891e-17]}, {\"hoverinfo\": \"none\", \"mode\": \"none\", \"opacity\": 0.3, \"showlegend\": false, \"surfaceaxis\": 2, \"surfacecolor\": \"gray\", \"type\": \"scatter3d\", \"visible\": false, \"x\": [0.0, 0.0, 7.800000000000001, 7.800000000000001, 0.0], \"y\": [0.0, 10.4, 10.4, 0.0, 0.0], \"z\": [5.6875, 0.4874999999999998, -1.4625000000000004, 3.7375, 5.6875]}, {\"hoverinfo\": \"none\", \"line\": {\"color\": \"red\", \"width\": 5}, \"marker\": {\"color\": \"red\", \"opacity\": 1, \"size\": 5}, \"mode\": \"lines+markers\", \"opacity\": 1, \"showlegend\": false, \"surfaceaxis\": 2, \"surfacecolor\": \"red\", \"type\": \"scatter3d\", \"visible\": false, \"x\": [6.0, 2.775557561562891e-17, 0.0, 2.750000000000002, 3.083333333333334, 6.0, 6.0], \"y\": [7.624999999999997, 4.624999999999996, 1.375000000000001, -2.775557561562891e-17, -2.775557561562891e-17, 4.374999999999999, 7.624999999999997], \"z\": [0.375000000000002, 3.375000000000003, 5.0, 5.0, 4.916666666666668, 2.0, 0.375000000000002]}, {\"hoverinfo\": \"none\", \"mode\": \"none\", \"opacity\": 0.3, \"showlegend\": false, \"surfaceaxis\": 2, \"surfacecolor\": \"gray\", \"type\": \"scatter3d\", \"visible\": false, \"x\": [7.800000000000001, 0.0, 0.0, 7.800000000000001, 7.800000000000001], \"y\": [0.0, 0.0, 10.4, 10.4, 0.0], \"z\": [4.305, 6.255, 1.0549999999999997, -0.8950000000000005, 4.305]}, {\"hoverinfo\": \"none\", \"line\": {\"color\": \"red\", \"width\": 5}, \"marker\": {\"color\": \"red\", \"opacity\": 1, \"size\": 5}, \"mode\": \"lines+markers\", \"opacity\": 1, \"showlegend\": false, \"surfaceaxis\": 2, \"surfacecolor\": \"red\", \"type\": \"scatter3d\", \"visible\": false, \"x\": [6.0, 2.775557561562891e-17, 0.0, 3.000000000000002, 6.0, 6.0], \"y\": [6.489999999999998, 3.489999999999998, 2.51, 1.009999999999999, 5.509999999999997, 6.489999999999998], \"z\": [1.510000000000001, 4.510000000000002, 5.0, 5.0, 2.000000000000001, 1.510000000000001]}, {\"hoverinfo\": \"none\", \"mode\": \"none\", \"opacity\": 0.3, \"showlegend\": false, \"surfaceaxis\": 2, \"surfacecolor\": \"gray\", \"type\": \"scatter3d\", \"visible\": false, \"x\": [7.800000000000001, 0.0, 0.0, 7.800000000000001, 7.800000000000001], \"y\": [0.0, 0.0, 10.4, 10.4, 0.0], \"z\": [4.875, 6.825, 1.625, -0.3250000000000002, 4.875]}, {\"hoverinfo\": \"none\", \"line\": {\"color\": \"red\", \"width\": 5}, \"marker\": {\"color\": \"red\", \"opacity\": 1, \"size\": 5}, \"mode\": \"lines+markers\", \"opacity\": 1, \"showlegend\": false, \"surfaceaxis\": 2, \"surfacecolor\": \"red\", \"type\": \"scatter3d\", \"visible\": false, \"x\": [4.700000000000003, 3.000000000000001, 1.3, 4.700000000000003], \"y\": [4.7, 2.149999999999998, 2.999999999999999, 4.7], \"z\": [3.299999999999999, 5.0, 5.0, 3.299999999999999]}, {\"hoverinfo\": \"none\", \"mode\": \"none\", \"opacity\": 0.3, \"showlegend\": false, \"surfaceaxis\": 2, \"surfacecolor\": \"gray\", \"type\": \"scatter3d\", \"visible\": false, \"x\": [7.800000000000001, 0.0, 0.0, 7.800000000000001, 7.800000000000001], \"y\": [0.0, 0.0, 10.4, 10.4, 0.0], \"z\": [5.3, 7.25, 2.05, 0.09999999999999964, 5.3]}, {\"hoverinfo\": \"none\", \"line\": {\"color\": \"red\", \"width\": 5}, \"marker\": {\"color\": \"red\", \"opacity\": 1, \"size\": 5}, \"mode\": \"lines+markers\", \"opacity\": 1, \"showlegend\": false, \"surfaceaxis\": 2, \"surfacecolor\": \"red\", \"type\": \"scatter3d\", \"visible\": false, \"x\": [3.0000000000000013, 3.000000000000001, 2.9999999999999996, 3.0000000000000013], \"y\": [3.0000000000000013, 2.999999999999999, 2.9999999999999996, 3.0000000000000013], \"z\": [4.999999999999999, 5.000000000000001, 4.999999999999999, 4.999999999999999]}, {\"hoverinfo\": \"none\", \"mode\": \"none\", \"opacity\": 0.3, \"showlegend\": false, \"surfaceaxis\": 2, \"surfacecolor\": \"gray\", \"type\": \"scatter3d\", \"visible\": false, \"x\": [7.800000000000001, 0.0, 0.0, 7.800000000000001, 7.800000000000001], \"y\": [0.0, 0.0, 10.4, 10.4, 0.0], \"z\": [5.444999999999999, 7.395, 2.1949999999999994, 0.24499999999999922, 5.444999999999999]}, {\"hoverinfo\": \"skip\", \"marker\": {\"color\": \"white\", \"opacity\": 1e-07, \"size\": 0}, \"mode\": \"markers\", \"showlegend\": false, \"type\": \"scatter3d\", \"x\": [0.0], \"y\": [0.0], \"z\": [0.0]}, {\"hoverinfo\": \"none\", \"mode\": \"none\", \"opacity\": 0.3, \"showlegend\": false, \"surfaceaxis\": 2, \"surfacecolor\": \"gray\", \"type\": \"scatter3d\", \"visible\": false, \"x\": [7.800000000000001, 0.0, 0.0, 7.800000000000001, 7.800000000000001], \"y\": [0.0, 0.0, 10.4, 10.4, 0.0], \"z\": [6.0125, 7.9625, 2.7625, 0.8125, 6.0125]}, {\"hoverinfo\": \"skip\", \"marker\": {\"color\": \"white\", \"opacity\": 1e-07, \"size\": 0}, \"mode\": \"markers\", \"showlegend\": false, \"type\": \"scatter3d\", \"x\": [0.0], \"y\": [0.0], \"z\": [0.0]}, {\"hoverinfo\": \"none\", \"mode\": \"none\", \"opacity\": 0.3, \"showlegend\": false, \"surfaceaxis\": 2, \"surfacecolor\": \"gray\", \"type\": \"scatter3d\", \"visible\": false, \"x\": [0.0, 0.0, 7.800000000000001, 7.800000000000001, 0.0], \"y\": [10.4, 0.0, 0.0, 10.4, 10.4], \"z\": [3.329999999999999, 8.53, 6.579999999999999, 1.379999999999999, 3.329999999999999]}, {\"hoverinfo\": \"skip\", \"marker\": {\"color\": \"white\", \"opacity\": 1e-07, \"size\": 0}, \"mode\": \"markers\", \"showlegend\": false, \"type\": \"scatter3d\", \"x\": [0.0], \"y\": [0.0], \"z\": [0.0]}, {\"hoverinfo\": \"none\", \"mode\": \"none\", \"opacity\": 0.3, \"showlegend\": false, \"surfaceaxis\": 2, \"surfacecolor\": \"gray\", \"type\": \"scatter3d\", \"visible\": false, \"x\": [0.0, 7.800000000000001, 7.800000000000001, 0.0, 0.0], \"y\": [10.4, 10.4, 0.0, 0.0, 10.4], \"z\": [3.8999999999999995, 1.9499999999999993, 7.1499999999999995, 9.1, 3.8999999999999995]}, {\"hoverinfo\": \"skip\", \"marker\": {\"color\": \"white\", \"opacity\": 1e-07, \"size\": 0}, \"mode\": \"markers\", \"showlegend\": false, \"type\": \"scatter3d\", \"x\": [0.0], \"y\": [0.0], \"z\": [0.0]}, {\"hoverinfo\": \"none\", \"mode\": \"none\", \"opacity\": 0.3, \"showlegend\": false, \"surfaceaxis\": 2, \"surfacecolor\": \"gray\", \"type\": \"scatter3d\", \"visible\": false, \"x\": [0.0, 0.0, 7.800000000000001, 7.800000000000001, 0.0], \"y\": [0.0, 10.4, 10.4, 0.0, 0.0], \"z\": [9.6675, 4.4675, 2.5175, 7.7175, 9.6675]}, {\"hoverinfo\": \"skip\", \"marker\": {\"color\": \"white\", \"opacity\": 1e-07, \"size\": 0}, \"mode\": \"markers\", \"showlegend\": false, \"type\": \"scatter3d\", \"x\": [0.0], \"y\": [0.0], \"z\": [0.0]}, {\"hoverinfo\": \"none\", \"mode\": \"none\", \"opacity\": 0.3, \"showlegend\": false, \"surfaceaxis\": 2, \"surfacecolor\": \"gray\", \"type\": \"scatter3d\", \"visible\": false, \"x\": [7.800000000000001, 7.800000000000001, 0.0, 0.0, 7.800000000000001], \"y\": [10.4, 0.0, 0.0, 10.4, 10.4], \"z\": [3.0875000000000012, 8.287500000000001, 10.2375, 5.0375000000000005, 3.0875000000000012]}, {\"hoverinfo\": \"skip\", \"marker\": {\"color\": \"white\", \"opacity\": 1e-07, \"size\": 0}, \"mode\": \"markers\", \"showlegend\": false, \"type\": \"scatter3d\", \"x\": [0.0], \"y\": [0.0], \"z\": [0.0]}, {\"hoverinfo\": \"none\", \"mode\": \"none\", \"opacity\": 0.3, \"showlegend\": false, \"surfaceaxis\": 2, \"surfacecolor\": \"gray\", \"type\": \"scatter3d\", \"visible\": false, \"x\": [7.800000000000001, 7.800000000000001, 0.0, 0.0, 7.800000000000001], \"y\": [10.4, 0.0, 0.0, 10.4, 10.4], \"z\": [3.6550000000000002, 8.855, 10.805, 5.6049999999999995, 3.6550000000000002]}, {\"hoverinfo\": \"skip\", \"marker\": {\"color\": \"white\", \"opacity\": 1e-07, \"size\": 0}, \"mode\": \"markers\", \"showlegend\": false, \"type\": \"scatter3d\", \"x\": [0.0], \"y\": [0.0], \"z\": [0.0]}, {\"hoverinfo\": \"none\", \"mode\": \"none\", \"opacity\": 0.3, \"showlegend\": false, \"surfaceaxis\": 2, \"surfacecolor\": \"gray\", \"type\": \"scatter3d\", \"visible\": false, \"x\": [7.800000000000001, 0.0, 0.0, 7.800000000000001, 7.800000000000001], \"y\": [10.4, 10.4, 0.0, 0.0, 10.4], \"z\": [4.2250000000000005, 6.175, 11.375, 9.425, 4.2250000000000005]}, {\"hoverinfo\": \"skip\", \"marker\": {\"color\": \"white\", \"opacity\": 1e-07, \"size\": 0}, \"mode\": \"markers\", \"showlegend\": false, \"type\": \"scatter3d\", \"x\": [0.0], \"y\": [0.0], \"z\": [0.0]}, {\"hoverinfo\": \"none\", \"mode\": \"none\", \"opacity\": 0.3, \"showlegend\": false, \"surfaceaxis\": 2, \"surfacecolor\": \"gray\", \"type\": \"scatter3d\", \"visible\": false, \"x\": [7.800000000000001, 0.0, 0.0, 7.800000000000001, 7.800000000000001], \"y\": [10.4, 10.4, 0.0, 0.0, 10.4], \"z\": [4.795000000000001, 6.745, 11.945, 9.995000000000001, 4.795000000000001]}, {\"hoverinfo\": \"skip\", \"marker\": {\"color\": \"white\", \"opacity\": 1e-07, \"size\": 0}, \"mode\": \"markers\", \"showlegend\": false, \"type\": \"scatter3d\", \"x\": [0.0], \"y\": [0.0], \"z\": [0.0]}, {\"hoverinfo\": \"none\", \"mode\": \"none\", \"opacity\": 0.3, \"showlegend\": false, \"surfaceaxis\": 2, \"surfacecolor\": \"gray\", \"type\": \"scatter3d\", \"visible\": false, \"x\": [7.800000000000001, 7.800000000000001, 0.0, 0.0, 7.800000000000001], \"y\": [0.0, 10.4, 10.4, 0.0, 0.0], \"z\": [10.5625, 5.3625, 7.312499999999999, 12.5125, 10.5625]}, {\"hoverinfo\": \"skip\", \"marker\": {\"color\": \"white\", \"opacity\": 1e-07, \"size\": 0}, \"mode\": \"markers\", \"showlegend\": false, \"type\": \"scatter3d\", \"x\": [0.0], \"y\": [0.0], \"z\": [0.0]}, {\"hoverinfo\": \"none\", \"mode\": \"none\", \"opacity\": 0.3, \"showlegend\": false, \"surfaceaxis\": 2, \"surfacecolor\": \"gray\", \"type\": \"scatter3d\", \"visible\": false, \"x\": [0.0, 7.800000000000001, 7.800000000000001, 0.0, 0.0], \"y\": [0.0, 0.0, 10.4, 10.4, 0.0], \"z\": [13.08, 11.129999999999999, 5.929999999999999, 7.88, 13.08]}, {\"hoverinfo\": \"skip\", \"marker\": {\"color\": \"white\", \"opacity\": 1e-07, \"size\": 0}, \"mode\": \"markers\", \"showlegend\": false, \"type\": \"scatter3d\", \"x\": [0.0], \"y\": [0.0], \"z\": [0.0]}, {\"hoverinfo\": \"none\", \"mode\": \"none\", \"opacity\": 0.3, \"showlegend\": false, \"surfaceaxis\": 2, \"surfacecolor\": \"gray\", \"type\": \"scatter3d\", \"visible\": false, \"x\": [0.0, 0.0, 7.800000000000001, 7.800000000000001, 0.0], \"y\": [0.0, 10.4, 10.4, 0.0, 0.0], \"z\": [13.65, 8.45, 6.499999999999999, 11.7, 13.65]}, {\"hoverinfo\": \"skip\", \"marker\": {\"color\": \"white\", \"opacity\": 1e-07, \"size\": 0}, \"mode\": \"markers\", \"showlegend\": false, \"type\": \"scatter3d\", \"x\": [0.0], \"y\": [0.0], \"z\": [0.0]}],                        {\"font\": {\"color\": \"#323232\", \"family\": \"Arial\"}, \"height\": 500, \"legend\": {\"font\": {\"size\": 13}, \"title\": {\"font\": {\"size\": 14}, \"text\": \"<b>Constraint(s)</b>\"}, \"x\": 0.39473684210526316, \"xanchor\": \"left\", \"y\": 1, \"yanchor\": \"top\"}, \"margin\": {\"b\": 0, \"l\": 0, \"r\": 0, \"t\": 33}, \"paper_bgcolor\": \"white\", \"plot_bgcolor\": \"#FAFAFA\", \"scene\": {\"aspectmode\": \"cube\", \"domain\": {\"x\": [0, 0.39473684210526316], \"y\": [0, 1]}, \"xaxis\": {\"gridcolor\": \"#CCCCCC\", \"gridwidth\": 1, \"linecolor\": \"#4D4D4D\", \"linewidth\": 2, \"range\": [0, 7.800000000000001], \"rangemode\": \"tozero\", \"showspikes\": false, \"tickcolor\": \"#4D4D4D\", \"ticks\": \"outside\", \"title\": {\"text\": \"x<sub>1</sub>\"}}, \"yaxis\": {\"gridcolor\": \"#CCCCCC\", \"gridwidth\": 1, \"linecolor\": \"#4D4D4D\", \"linewidth\": 2, \"range\": [0, 10.4], \"rangemode\": \"tozero\", \"showspikes\": false, \"tickcolor\": \"#4D4D4D\", \"ticks\": \"outside\", \"title\": {\"text\": \"x<sub>2</sub>\"}}, \"zaxis\": {\"gridcolor\": \"#CCCCCC\", \"gridwidth\": 1, \"linecolor\": \"#4D4D4D\", \"linewidth\": 2, \"range\": [0, 6.5], \"rangemode\": \"tozero\", \"showspikes\": false, \"tickcolor\": \"#4D4D4D\", \"ticks\": \"outside\", \"title\": {\"text\": \"x<sub>3</sub>\"}}}, \"sliders\": [{\"active\": 0, \"currentvalue\": {\"prefix\": \"Objective Value: \"}, \"len\": 0.4, \"lenmode\": \"fraction\", \"pad\": {\"b\": 0, \"l\": 0, \"r\": 0, \"t\": 50}, \"steps\": [{\"args\": [{\"visible\": [null, true, true, true, true, true, true, true, \"legendonly\", \"legendonly\", \"legendonly\", \"legendonly\", null, true, true, false, false, false, false, false, false, false, false, false, false, false, false, false, false, false, false, false, false, false, false, false, false, false, false, false, false, false, false, false, false, false, false, false, false, false, false, false, false, false, false, false, false, false, false, false, false, false, false, false, false]}], \"label\": \"0.0\", \"method\": \"update\"}, {\"args\": [{\"visible\": [null, true, true, true, true, true, true, true, \"legendonly\", \"legendonly\", \"legendonly\", \"legendonly\", null, false, false, true, true, false, false, false, false, false, false, false, false, false, false, false, false, false, false, false, false, false, false, false, false, false, false, false, false, false, false, false, false, false, false, false, false, false, false, false, false, false, false, false, false, false, false, false, false, false, false, false, false]}], \"label\": \"2.28\", \"method\": \"update\"}, {\"args\": [{\"visible\": [null, true, true, true, true, true, true, true, \"legendonly\", \"legendonly\", \"legendonly\", \"legendonly\", null, false, false, false, false, true, true, false, false, false, false, false, false, false, false, false, false, false, false, false, false, false, false, false, false, false, false, false, false, false, false, false, false, false, false, false, false, false, false, false, false, false, false, false, false, false, false, false, false, false, false, false, false]}], \"label\": \"4.55\", \"method\": \"update\"}, {\"args\": [{\"visible\": [null, true, true, true, true, true, true, true, \"legendonly\", \"legendonly\", \"legendonly\", \"legendonly\", null, false, false, false, false, false, false, true, true, false, false, false, false, false, false, false, false, false, false, false, false, false, false, false, false, false, false, false, false, false, false, false, false, false, false, false, false, false, false, false, false, false, false, false, false, false, false, false, false, false, false, false, false]}], \"label\": \"6.82\", \"method\": \"update\"}, {\"args\": [{\"visible\": [null, true, true, true, true, true, true, true, \"legendonly\", \"legendonly\", \"legendonly\", \"legendonly\", null, false, false, false, false, false, false, false, false, true, true, false, false, false, false, false, false, false, false, false, false, false, false, false, false, false, false, false, false, false, false, false, false, false, false, false, false, false, false, false, false, false, false, false, false, false, false, false, false, false, false, false, false]}], \"label\": \"9.1\", \"method\": \"update\"}, {\"args\": [{\"visible\": [null, true, true, true, true, true, true, true, \"legendonly\", \"legendonly\", \"legendonly\", \"legendonly\", null, false, false, false, false, false, false, false, false, false, false, true, true, false, false, false, false, false, false, false, false, false, false, false, false, false, false, false, false, false, false, false, false, false, false, false, false, false, false, false, false, false, false, false, false, false, false, false, false, false, false, false, false]}], \"label\": \"11.38\", \"method\": \"update\"}, {\"args\": [{\"visible\": [null, true, true, true, true, true, true, true, \"legendonly\", \"legendonly\", \"legendonly\", \"legendonly\", null, false, false, false, false, false, false, false, false, false, false, false, false, true, true, false, false, false, false, false, false, false, false, false, false, false, false, false, false, false, false, false, false, false, false, false, false, false, false, false, false, false, false, false, false, false, false, false, false, false, false, false, false]}], \"label\": \"13.65\", \"method\": \"update\"}, {\"args\": [{\"visible\": [null, true, true, true, true, true, true, true, \"legendonly\", \"legendonly\", \"legendonly\", \"legendonly\", null, false, false, false, false, false, false, false, false, false, false, false, false, false, false, true, true, false, false, false, false, false, false, false, false, false, false, false, false, false, false, false, false, false, false, false, false, false, false, false, false, false, false, false, false, false, false, false, false, false, false, false, false]}], \"label\": \"15.92\", \"method\": \"update\"}, {\"args\": [{\"visible\": [null, true, true, true, true, true, true, true, \"legendonly\", \"legendonly\", \"legendonly\", \"legendonly\", null, false, false, false, false, false, false, false, false, false, false, false, false, false, false, false, false, true, true, false, false, false, false, false, false, false, false, false, false, false, false, false, false, false, false, false, false, false, false, false, false, false, false, false, false, false, false, false, false, false, false, false, false]}], \"label\": \"18.2\", \"method\": \"update\"}, {\"args\": [{\"visible\": [null, true, true, true, true, true, true, true, \"legendonly\", \"legendonly\", \"legendonly\", \"legendonly\", null, false, false, false, false, false, false, false, false, false, false, false, false, false, false, false, false, false, false, true, true, false, false, false, false, false, false, false, false, false, false, false, false, false, false, false, false, false, false, false, false, false, false, false, false, false, false, false, false, false, false, false, false]}], \"label\": \"20.47\", \"method\": \"update\"}, {\"args\": [{\"visible\": [null, true, true, true, true, true, true, true, \"legendonly\", \"legendonly\", \"legendonly\", \"legendonly\", null, false, false, false, false, false, false, false, false, false, false, false, false, false, false, false, false, false, false, false, false, true, true, false, false, false, false, false, false, false, false, false, false, false, false, false, false, false, false, false, false, false, false, false, false, false, false, false, false, false, false, false, false]}], \"label\": \"22.75\", \"method\": \"update\"}, {\"args\": [{\"visible\": [null, true, true, true, true, true, true, true, \"legendonly\", \"legendonly\", \"legendonly\", \"legendonly\", null, false, false, false, false, false, false, false, false, false, false, false, false, false, false, false, false, false, false, false, false, false, false, true, true, false, false, false, false, false, false, false, false, false, false, false, false, false, false, false, false, false, false, false, false, false, false, false, false, false, false, false, false]}], \"label\": \"25.02\", \"method\": \"update\"}, {\"args\": [{\"visible\": [null, true, true, true, true, true, true, true, \"legendonly\", \"legendonly\", \"legendonly\", \"legendonly\", null, false, false, false, false, false, false, false, false, false, false, false, false, false, false, false, false, false, false, false, false, false, false, false, false, true, true, false, false, false, false, false, false, false, false, false, false, false, false, false, false, false, false, false, false, false, false, false, false, false, false, false, false]}], \"label\": \"27.3\", \"method\": \"update\"}, {\"args\": [{\"visible\": [null, true, true, true, true, true, true, true, \"legendonly\", \"legendonly\", \"legendonly\", \"legendonly\", null, false, false, false, false, false, false, false, false, false, false, false, false, false, false, false, false, false, false, false, false, false, false, false, false, false, false, true, true, false, false, false, false, false, false, false, false, false, false, false, false, false, false, false, false, false, false, false, false, false, false, false, false]}], \"label\": \"29.0\", \"method\": \"update\"}, {\"args\": [{\"visible\": [null, true, true, true, true, true, true, true, \"legendonly\", \"legendonly\", \"legendonly\", \"legendonly\", null, false, false, false, false, false, false, false, false, false, false, false, false, false, false, false, false, false, false, false, false, false, false, false, false, false, false, false, false, true, true, false, false, false, false, false, false, false, false, false, false, false, false, false, false, false, false, false, false, false, false, false, false]}], \"label\": \"29.58\", \"method\": \"update\"}, {\"args\": [{\"visible\": [null, true, true, true, true, true, true, true, \"legendonly\", \"legendonly\", \"legendonly\", \"legendonly\", null, false, false, false, false, false, false, false, false, false, false, false, false, false, false, false, false, false, false, false, false, false, false, false, false, false, false, false, false, false, false, true, true, false, false, false, false, false, false, false, false, false, false, false, false, false, false, false, false, false, false, false, false]}], \"label\": \"31.85\", \"method\": \"update\"}, {\"args\": [{\"visible\": [null, true, true, true, true, true, true, true, \"legendonly\", \"legendonly\", \"legendonly\", \"legendonly\", null, false, false, false, false, false, false, false, false, false, false, false, false, false, false, false, false, false, false, false, false, false, false, false, false, false, false, false, false, false, false, false, false, true, true, false, false, false, false, false, false, false, false, false, false, false, false, false, false, false, false, false, false]}], \"label\": \"34.12\", \"method\": \"update\"}, {\"args\": [{\"visible\": [null, true, true, true, true, true, true, true, \"legendonly\", \"legendonly\", \"legendonly\", \"legendonly\", null, false, false, false, false, false, false, false, false, false, false, false, false, false, false, false, false, false, false, false, false, false, false, false, false, false, false, false, false, false, false, false, false, false, false, true, true, false, false, false, false, false, false, false, false, false, false, false, false, false, false, false, false]}], \"label\": \"36.4\", \"method\": \"update\"}, {\"args\": [{\"visible\": [null, true, true, true, true, true, true, true, \"legendonly\", \"legendonly\", \"legendonly\", \"legendonly\", null, false, false, false, false, false, false, false, false, false, false, false, false, false, false, false, false, false, false, false, false, false, false, false, false, false, false, false, false, false, false, false, false, false, false, false, false, true, true, false, false, false, false, false, false, false, false, false, false, false, false, false, false]}], \"label\": \"38.67\", \"method\": \"update\"}, {\"args\": [{\"visible\": [null, true, true, true, true, true, true, true, \"legendonly\", \"legendonly\", \"legendonly\", \"legendonly\", null, false, false, false, false, false, false, false, false, false, false, false, false, false, false, false, false, false, false, false, false, false, false, false, false, false, false, false, false, false, false, false, false, false, false, false, false, false, false, true, true, false, false, false, false, false, false, false, false, false, false, false, false]}], \"label\": \"40.95\", \"method\": \"update\"}, {\"args\": [{\"visible\": [null, true, true, true, true, true, true, true, \"legendonly\", \"legendonly\", \"legendonly\", \"legendonly\", null, false, false, false, false, false, false, false, false, false, false, false, false, false, false, false, false, false, false, false, false, false, false, false, false, false, false, false, false, false, false, false, false, false, false, false, false, false, false, false, false, true, true, false, false, false, false, false, false, false, false, false, false]}], \"label\": \"43.22\", \"method\": \"update\"}, {\"args\": [{\"visible\": [null, true, true, true, true, true, true, true, \"legendonly\", \"legendonly\", \"legendonly\", \"legendonly\", null, false, false, false, false, false, false, false, false, false, false, false, false, false, false, false, false, false, false, false, false, false, false, false, false, false, false, false, false, false, false, false, false, false, false, false, false, false, false, false, false, false, false, true, true, false, false, false, false, false, false, false, false]}], \"label\": \"45.5\", \"method\": \"update\"}, {\"args\": [{\"visible\": [null, true, true, true, true, true, true, true, \"legendonly\", \"legendonly\", \"legendonly\", \"legendonly\", null, false, false, false, false, false, false, false, false, false, false, false, false, false, false, false, false, false, false, false, false, false, false, false, false, false, false, false, false, false, false, false, false, false, false, false, false, false, false, false, false, false, false, false, false, true, true, false, false, false, false, false, false]}], \"label\": \"47.78\", \"method\": \"update\"}, {\"args\": [{\"visible\": [null, true, true, true, true, true, true, true, \"legendonly\", \"legendonly\", \"legendonly\", \"legendonly\", null, false, false, false, false, false, false, false, false, false, false, false, false, false, false, false, false, false, false, false, false, false, false, false, false, false, false, false, false, false, false, false, false, false, false, false, false, false, false, false, false, false, false, false, false, false, false, true, true, false, false, false, false]}], \"label\": \"50.05\", \"method\": \"update\"}, {\"args\": [{\"visible\": [null, true, true, true, true, true, true, true, \"legendonly\", \"legendonly\", \"legendonly\", \"legendonly\", null, false, false, false, false, false, false, false, false, false, false, false, false, false, false, false, false, false, false, false, false, false, false, false, false, false, false, false, false, false, false, false, false, false, false, false, false, false, false, false, false, false, false, false, false, false, false, false, false, true, true, false, false]}], \"label\": \"52.32\", \"method\": \"update\"}, {\"args\": [{\"visible\": [null, true, true, true, true, true, true, true, \"legendonly\", \"legendonly\", \"legendonly\", \"legendonly\", null, false, false, false, false, false, false, false, false, false, false, false, false, false, false, false, false, false, false, false, false, false, false, false, false, false, false, false, false, false, false, false, false, false, false, false, false, false, false, false, false, false, false, false, false, false, false, false, false, false, false, true, true]}], \"label\": \"54.6\", \"method\": \"update\"}], \"tickcolor\": \"white\", \"ticklen\": 0, \"x\": 0.6052631578947368, \"xanchor\": \"left\", \"y\": 0.01, \"yanchor\": \"bottom\"}], \"template\": {\"data\": {\"bar\": [{\"error_x\": {\"color\": \"#2a3f5f\"}, \"error_y\": {\"color\": \"#2a3f5f\"}, \"marker\": {\"line\": {\"color\": \"#E5ECF6\", \"width\": 0.5}}, \"type\": \"bar\"}], \"barpolar\": [{\"marker\": {\"line\": {\"color\": \"#E5ECF6\", \"width\": 0.5}}, \"type\": \"barpolar\"}], \"carpet\": [{\"aaxis\": {\"endlinecolor\": \"#2a3f5f\", \"gridcolor\": \"white\", \"linecolor\": \"white\", \"minorgridcolor\": \"white\", \"startlinecolor\": \"#2a3f5f\"}, \"baxis\": {\"endlinecolor\": \"#2a3f5f\", \"gridcolor\": \"white\", \"linecolor\": \"white\", \"minorgridcolor\": \"white\", \"startlinecolor\": \"#2a3f5f\"}, \"type\": \"carpet\"}], \"choropleth\": [{\"colorbar\": {\"outlinewidth\": 0, \"ticks\": \"\"}, \"type\": \"choropleth\"}], \"contour\": [{\"colorbar\": {\"outlinewidth\": 0, \"ticks\": \"\"}, \"colorscale\": [[0.0, \"#0d0887\"], [0.1111111111111111, \"#46039f\"], [0.2222222222222222, \"#7201a8\"], [0.3333333333333333, \"#9c179e\"], [0.4444444444444444, \"#bd3786\"], [0.5555555555555556, \"#d8576b\"], [0.6666666666666666, \"#ed7953\"], [0.7777777777777778, \"#fb9f3a\"], [0.8888888888888888, \"#fdca26\"], [1.0, \"#f0f921\"]], \"type\": \"contour\"}], \"contourcarpet\": [{\"colorbar\": {\"outlinewidth\": 0, \"ticks\": \"\"}, \"type\": \"contourcarpet\"}], \"heatmap\": [{\"colorbar\": {\"outlinewidth\": 0, \"ticks\": \"\"}, \"colorscale\": [[0.0, \"#0d0887\"], [0.1111111111111111, \"#46039f\"], [0.2222222222222222, \"#7201a8\"], [0.3333333333333333, \"#9c179e\"], [0.4444444444444444, \"#bd3786\"], [0.5555555555555556, \"#d8576b\"], [0.6666666666666666, \"#ed7953\"], [0.7777777777777778, \"#fb9f3a\"], [0.8888888888888888, \"#fdca26\"], [1.0, \"#f0f921\"]], \"type\": \"heatmap\"}], \"heatmapgl\": [{\"colorbar\": {\"outlinewidth\": 0, \"ticks\": \"\"}, \"colorscale\": [[0.0, \"#0d0887\"], [0.1111111111111111, \"#46039f\"], [0.2222222222222222, \"#7201a8\"], [0.3333333333333333, \"#9c179e\"], [0.4444444444444444, \"#bd3786\"], [0.5555555555555556, \"#d8576b\"], [0.6666666666666666, \"#ed7953\"], [0.7777777777777778, \"#fb9f3a\"], [0.8888888888888888, \"#fdca26\"], [1.0, \"#f0f921\"]], \"type\": \"heatmapgl\"}], \"histogram\": [{\"marker\": {\"colorbar\": {\"outlinewidth\": 0, \"ticks\": \"\"}}, \"type\": \"histogram\"}], \"histogram2d\": [{\"colorbar\": {\"outlinewidth\": 0, \"ticks\": \"\"}, \"colorscale\": [[0.0, \"#0d0887\"], [0.1111111111111111, \"#46039f\"], [0.2222222222222222, \"#7201a8\"], [0.3333333333333333, \"#9c179e\"], [0.4444444444444444, \"#bd3786\"], [0.5555555555555556, \"#d8576b\"], [0.6666666666666666, \"#ed7953\"], [0.7777777777777778, \"#fb9f3a\"], [0.8888888888888888, \"#fdca26\"], [1.0, \"#f0f921\"]], \"type\": \"histogram2d\"}], \"histogram2dcontour\": [{\"colorbar\": {\"outlinewidth\": 0, \"ticks\": \"\"}, \"colorscale\": [[0.0, \"#0d0887\"], [0.1111111111111111, \"#46039f\"], [0.2222222222222222, \"#7201a8\"], [0.3333333333333333, \"#9c179e\"], [0.4444444444444444, \"#bd3786\"], [0.5555555555555556, \"#d8576b\"], [0.6666666666666666, \"#ed7953\"], [0.7777777777777778, \"#fb9f3a\"], [0.8888888888888888, \"#fdca26\"], [1.0, \"#f0f921\"]], \"type\": \"histogram2dcontour\"}], \"mesh3d\": [{\"colorbar\": {\"outlinewidth\": 0, \"ticks\": \"\"}, \"type\": \"mesh3d\"}], \"parcoords\": [{\"line\": {\"colorbar\": {\"outlinewidth\": 0, \"ticks\": \"\"}}, \"type\": \"parcoords\"}], \"pie\": [{\"automargin\": true, \"type\": \"pie\"}], \"scatter\": [{\"marker\": {\"colorbar\": {\"outlinewidth\": 0, \"ticks\": \"\"}}, \"type\": \"scatter\"}], \"scatter3d\": [{\"line\": {\"colorbar\": {\"outlinewidth\": 0, \"ticks\": \"\"}}, \"marker\": {\"colorbar\": {\"outlinewidth\": 0, \"ticks\": \"\"}}, \"type\": \"scatter3d\"}], \"scattercarpet\": [{\"marker\": {\"colorbar\": {\"outlinewidth\": 0, \"ticks\": \"\"}}, \"type\": \"scattercarpet\"}], \"scattergeo\": [{\"marker\": {\"colorbar\": {\"outlinewidth\": 0, \"ticks\": \"\"}}, \"type\": \"scattergeo\"}], \"scattergl\": [{\"marker\": {\"colorbar\": {\"outlinewidth\": 0, \"ticks\": \"\"}}, \"type\": \"scattergl\"}], \"scattermapbox\": [{\"marker\": {\"colorbar\": {\"outlinewidth\": 0, \"ticks\": \"\"}}, \"type\": \"scattermapbox\"}], \"scatterpolar\": [{\"marker\": {\"colorbar\": {\"outlinewidth\": 0, \"ticks\": \"\"}}, \"type\": \"scatterpolar\"}], \"scatterpolargl\": [{\"marker\": {\"colorbar\": {\"outlinewidth\": 0, \"ticks\": \"\"}}, \"type\": \"scatterpolargl\"}], \"scatterternary\": [{\"marker\": {\"colorbar\": {\"outlinewidth\": 0, \"ticks\": \"\"}}, \"type\": \"scatterternary\"}], \"surface\": [{\"colorbar\": {\"outlinewidth\": 0, \"ticks\": \"\"}, \"colorscale\": [[0.0, \"#0d0887\"], [0.1111111111111111, \"#46039f\"], [0.2222222222222222, \"#7201a8\"], [0.3333333333333333, \"#9c179e\"], [0.4444444444444444, \"#bd3786\"], [0.5555555555555556, \"#d8576b\"], [0.6666666666666666, \"#ed7953\"], [0.7777777777777778, \"#fb9f3a\"], [0.8888888888888888, \"#fdca26\"], [1.0, \"#f0f921\"]], \"type\": \"surface\"}], \"table\": [{\"cells\": {\"fill\": {\"color\": \"#EBF0F8\"}, \"line\": {\"color\": \"white\"}}, \"header\": {\"fill\": {\"color\": \"#C8D4E3\"}, \"line\": {\"color\": \"white\"}}, \"type\": \"table\"}]}, \"layout\": {\"annotationdefaults\": {\"arrowcolor\": \"#2a3f5f\", \"arrowhead\": 0, \"arrowwidth\": 1}, \"coloraxis\": {\"colorbar\": {\"outlinewidth\": 0, \"ticks\": \"\"}}, \"colorscale\": {\"diverging\": [[0, \"#8e0152\"], [0.1, \"#c51b7d\"], [0.2, \"#de77ae\"], [0.3, \"#f1b6da\"], [0.4, \"#fde0ef\"], [0.5, \"#f7f7f7\"], [0.6, \"#e6f5d0\"], [0.7, \"#b8e186\"], [0.8, \"#7fbc41\"], [0.9, \"#4d9221\"], [1, \"#276419\"]], \"sequential\": [[0.0, \"#0d0887\"], [0.1111111111111111, \"#46039f\"], [0.2222222222222222, \"#7201a8\"], [0.3333333333333333, \"#9c179e\"], [0.4444444444444444, \"#bd3786\"], [0.5555555555555556, \"#d8576b\"], [0.6666666666666666, \"#ed7953\"], [0.7777777777777778, \"#fb9f3a\"], [0.8888888888888888, \"#fdca26\"], [1.0, \"#f0f921\"]], \"sequentialminus\": [[0.0, \"#0d0887\"], [0.1111111111111111, \"#46039f\"], [0.2222222222222222, \"#7201a8\"], [0.3333333333333333, \"#9c179e\"], [0.4444444444444444, \"#bd3786\"], [0.5555555555555556, \"#d8576b\"], [0.6666666666666666, \"#ed7953\"], [0.7777777777777778, \"#fb9f3a\"], [0.8888888888888888, \"#fdca26\"], [1.0, \"#f0f921\"]]}, \"colorway\": [\"#636efa\", \"#EF553B\", \"#00cc96\", \"#ab63fa\", \"#FFA15A\", \"#19d3f3\", \"#FF6692\", \"#B6E880\", \"#FF97FF\", \"#FECB52\"], \"font\": {\"color\": \"#2a3f5f\"}, \"geo\": {\"bgcolor\": \"white\", \"lakecolor\": \"white\", \"landcolor\": \"#E5ECF6\", \"showlakes\": true, \"showland\": true, \"subunitcolor\": \"white\"}, \"hoverlabel\": {\"align\": \"left\"}, \"hovermode\": \"closest\", \"mapbox\": {\"style\": \"light\"}, \"paper_bgcolor\": \"white\", \"plot_bgcolor\": \"#E5ECF6\", \"polar\": {\"angularaxis\": {\"gridcolor\": \"white\", \"linecolor\": \"white\", \"ticks\": \"\"}, \"bgcolor\": \"#E5ECF6\", \"radialaxis\": {\"gridcolor\": \"white\", \"linecolor\": \"white\", \"ticks\": \"\"}}, \"scene\": {\"xaxis\": {\"backgroundcolor\": \"#E5ECF6\", \"gridcolor\": \"white\", \"gridwidth\": 2, \"linecolor\": \"white\", \"showbackground\": true, \"ticks\": \"\", \"zerolinecolor\": \"white\"}, \"yaxis\": {\"backgroundcolor\": \"#E5ECF6\", \"gridcolor\": \"white\", \"gridwidth\": 2, \"linecolor\": \"white\", \"showbackground\": true, \"ticks\": \"\", \"zerolinecolor\": \"white\"}, \"zaxis\": {\"backgroundcolor\": \"#E5ECF6\", \"gridcolor\": \"white\", \"gridwidth\": 2, \"linecolor\": \"white\", \"showbackground\": true, \"ticks\": \"\", \"zerolinecolor\": \"white\"}}, \"shapedefaults\": {\"line\": {\"color\": \"#2a3f5f\"}}, \"ternary\": {\"aaxis\": {\"gridcolor\": \"white\", \"linecolor\": \"white\", \"ticks\": \"\"}, \"baxis\": {\"gridcolor\": \"white\", \"linecolor\": \"white\", \"ticks\": \"\"}, \"bgcolor\": \"#E5ECF6\", \"caxis\": {\"gridcolor\": \"white\", \"linecolor\": \"white\", \"ticks\": \"\"}}, \"title\": {\"x\": 0.05}, \"xaxis\": {\"automargin\": true, \"gridcolor\": \"white\", \"linecolor\": \"white\", \"ticks\": \"\", \"title\": {\"standoff\": 15}, \"zerolinecolor\": \"white\", \"zerolinewidth\": 2}, \"yaxis\": {\"automargin\": true, \"gridcolor\": \"white\", \"linecolor\": \"white\", \"ticks\": \"\", \"title\": {\"standoff\": 15}, \"zerolinecolor\": \"white\", \"zerolinewidth\": 2}}}, \"title\": {\"font\": {\"color\": \"#00285F\", \"size\": 18}, \"text\": \"<b>Geometric Interpretation of LPs</b>\", \"x\": 0, \"xanchor\": \"left\", \"y\": 0.99, \"yanchor\": \"top\"}, \"width\": 950, \"xaxis\": {\"domain\": [0, 0.39473684210526316], \"gridcolor\": \"#CCCCCC\", \"gridwidth\": 1, \"linecolor\": \"#4D4D4D\", \"linewidth\": 2, \"rangemode\": \"tozero\", \"showspikes\": false, \"tickcolor\": \"#4D4D4D\", \"ticks\": \"outside\", \"title\": {\"text\": \"x<sub>1</sub>\"}}, \"yaxis\": {\"domain\": [0, 1], \"gridcolor\": \"#CCCCCC\", \"gridwidth\": 1, \"linecolor\": \"#4D4D4D\", \"linewidth\": 2, \"rangemode\": \"tozero\", \"showspikes\": false, \"tickcolor\": \"#4D4D4D\", \"ticks\": \"outside\", \"title\": {\"text\": \"x<sub>2</sub>\"}}},                        {\"responsive\": true}                    ).then(function(){\n",
              "                            \n",
              "var gd = document.getElementById('eb8423ed-d50c-4f99-ba12-dbfaf349bfa8');\n",
              "var x = new MutationObserver(function (mutations, observer) {{\n",
              "        var display = window.getComputedStyle(gd).display;\n",
              "        if (!display || display === 'none') {{\n",
              "            console.log([gd, 'removed!']);\n",
              "            Plotly.purge(gd);\n",
              "            observer.disconnect();\n",
              "        }}\n",
              "}});\n",
              "\n",
              "// Listen for the removal of the full notebook cells\n",
              "var notebookContainer = gd.closest('#notebook-container');\n",
              "if (notebookContainer) {{\n",
              "    x.observe(notebookContainer, {childList: true});\n",
              "}}\n",
              "\n",
              "// Listen for the clearing of the current output cell\n",
              "var outputEl = gd.closest('.output');\n",
              "if (outputEl) {{\n",
              "    x.observe(outputEl, {childList: true});\n",
              "}}\n",
              "\n",
              "                        })                };                            </script>        </div>\n",
              "</body>\n",
              "</html>"
            ]
          },
          "metadata": {
            "tags": []
          }
        }
      ]
    },
    {
      "cell_type": "markdown",
      "metadata": {
        "id": "fF0ujXiAuHli"
      },
      "source": [
        "The 3D feasible region is shown on the left. Hold and drag the mouse to examine it from different angles. Next, click on a constraint to un-mute it. Each constraint is a gray plane in 3D space. Un-mute the constraints one by one to see how they define the 3D feasible region. Move the objective slider to see the isoprofit planes. The isoprofit plane is light gray and the intersection with the feasible region is shown in red. Like the 2D visualization, you can hover over corner points to see information about that point."
      ]
    },
    {
      "cell_type": "markdown",
      "metadata": {
        "id": "AbzXEr-vuHli"
      },
      "source": [
        "**Q5:** Use the objective slider to solve this LP graphically. Give an optimal solution and objective value. (Hint: The objective slider shows the isoprofit plane for some objective value in light gray and the intersection with the feasible region in red.)\n",
        "\n",
        "**A:** x1 = 2\n",
        "      x2 = 2\n",
        "      x3 = 6\n",
        "      objective value: 30"
      ]
    },
    {
      "cell_type": "markdown",
      "metadata": {
        "id": "io4zHOsjuHli"
      },
      "source": [
        "When it comes to LPs with 4 or more decision variables, our graphical approaches fail. We need to find a different way to solve linear programs of this size."
      ]
    },
    {
      "cell_type": "markdown",
      "metadata": {
        "id": "bUjcaoH3uHlj"
      },
      "source": [
        "# Part II: The Simplex Algorithm for Solving LPs"
      ]
    },
    {
      "cell_type": "markdown",
      "metadata": {
        "id": "pyGKgFrzuHlj"
      },
      "source": [
        "## Dictionary Form LP"
      ]
    },
    {
      "cell_type": "markdown",
      "metadata": {
        "id": "xKEUzW1puHlj"
      },
      "source": [
        "First, let's answer some guiding questions that will help to motivate the simplex algorithm.  "
      ]
    },
    {
      "cell_type": "markdown",
      "metadata": {
        "id": "U_qOD87OuHlk"
      },
      "source": [
        "**Q6:** Does there exist a unique way to write any given inequality constraint? If so, explain why each constraint can only be written one way. Otherwise, give 2 ways of writing the same inequality constraint.\n",
        "\n",
        "**A:** An inequality constraint can always be written more than one way. For example, you can flip the signs on the variables and flip the direction of the inequality."
      ]
    },
    {
      "cell_type": "markdown",
      "metadata": {
        "id": "EFzcncRyuHlk"
      },
      "source": [
        "**Q7:** Consider the following two constraints: $2x_1 + 1x_2 \\leq 20$ and $2x_1 + 1x_2 + x_3 = 20$ where all $x$ are nonnegative. Are these the same constraint? Why? (This question is tricky!)\n",
        "\n",
        "**A:** These are not t he same constraint, because here, the variables are allowed to add to less than 20 if needed to meet other constraints. "
      ]
    },
    {
      "cell_type": "markdown",
      "metadata": {
        "id": "iYpnflgvuHll"
      },
      "source": [
        "**Q8:** Based on your answers to **Q6** and **Q7**, do you think there exists a unique way to write any given LP?\n",
        "\n",
        "**A:** No, there is not a unique way to write an LP. "
      ]
    },
    {
      "cell_type": "markdown",
      "metadata": {
        "id": "xal6nOP8uHll"
      },
      "source": [
        "You should have found that there are many ways to write some LP. This begs a new question: are some ways of writing an LP harder or easier to solve than others? Consider the following LP: \n",
        "\n",
        "$$\\begin{align*}\n",
        "\\max \\quad & 56 - 2x_3 - 1x_4\\\\\n",
        "\\text{s.t.} \\quad & x_1 = 4 - 1x_3 + 1x_4 \\\\\n",
        "\\quad & x_2 = 12 + 1x_3 - 2x_4 \\\\\n",
        "\\quad & x_5 = 3 + 1x_3 - 1x_4 \\\\\n",
        "\\quad & x_1, x_2, x_3, x_4, x_5 \\geq 0 \\\\\n",
        "\\end{align*}$$"
      ]
    },
    {
      "cell_type": "markdown",
      "metadata": {
        "id": "FEPTwRAmuHll"
      },
      "source": [
        "**Q9:** Just by looking at this LP, can you give an optimal solution and its objective value. If so, explain what property of the LP allows you to do this. (Hint: Look at the objective function)\n",
        "\n",
        "**A:** for this sollution to be optimal, both x3 and x4 should be equal to zero, we know this because they both have to be greater than or equal to zero, and in the objective function they are both being subtracted from 56."
      ]
    },
    {
      "cell_type": "markdown",
      "metadata": {
        "id": "1v-el8yWuHll"
      },
      "source": [
        "The LP above is the same as `ALL_INTEGER_2D_LP` just rewritten in a different way! This rewitten form (which we found is easier to solve) was found using the simplex algorithm. At its core, the simplex algorithm strategically rewrites an LP until it is in a form that is \"easy\" to solve. \n",
        "\n",
        "The simplex algorithm relies on an LP being in **dictionary form**. Recall the following properties of an LP in dictionary form:\n",
        "- All constraints are equality constraints\n",
        "- All variables are constrained to be nonnegative\n",
        "- Each variable only appears on the left-hand side (LHS) or the right-hand side (RHS) of the constraints (not both)\n",
        "- Each constraint has a unique variable on the LHS\n",
        "- The objective function is in terms of the variables that appear on the RHS of the constraints only.\n",
        "- All constants on the RHS of the constraints are nonnegative"
      ]
    },
    {
      "cell_type": "markdown",
      "metadata": {
        "id": "wZoykdvsuHlm"
      },
      "source": [
        "**Q10:** Rewrite the example LP `ALL_INTEGER_2D_LP` in dictionary form. Show your steps!\n",
        "\n",
        "$$\\begin{align*}\n",
        "\\max \\quad & 5x_1+3x_2\\\\\n",
        "\\text{s.t.} \\quad & 2x_1 + 1x_2 \\leq 20 \\\\\n",
        "\\quad & 1x_1 + 1x_2 \\leq 16 \\\\\n",
        "\\quad & 1x_1 + 0x_2 \\leq 7 \\\\\n",
        "\\quad & x_1, x_2 \\geq 0 \\\\\n",
        "\\end{align*}$$\n",
        "\n",
        "**A:** Max 5x1 + 3x2\n",
        "      x1 <= 7\n",
        "      x1 + x2 <= 16\n",
        "      2x1 + x2 <= 20\n",
        "      x1, x2 >= 0"
      ]
    },
    {
      "cell_type": "markdown",
      "metadata": {
        "id": "pIJvELNGuHlm"
      },
      "source": [
        "## Most Limiting Constraint"
      ]
    },
    {
      "cell_type": "markdown",
      "metadata": {
        "id": "lkcvej4luHlm"
      },
      "source": [
        "Once our LP is in dictionary form, we can run the simplex algorithm! In every iteration of the simplex algorithm, we will take an LP in dictionary form and strategically rewrite it in a new dictionary form. Note: it is important to realize that rewriting the LP **does not** change the LP's feasible region. Let us examine an iteration of simplex on a new LP.\n",
        "\n",
        "$$\\begin{align*}\n",
        "\\max \\quad & 5x_1+3x_2\\\\\n",
        "\\text{s.t.} \\quad & 1x_1 + 0x_2 \\leq 4 \\\\\n",
        "\\quad & 0x_1 + 1x_2 \\leq 6 \\\\\n",
        "\\quad & 2x_1 + 1x_2 \\leq 9 \\\\\n",
        "\\quad & 3x_1 + 2x_2 \\leq 15 \\\\\n",
        "\\quad & x_1, x_2 \\geq 0 \\\\\n",
        "\\end{align*}$$"
      ]
    },
    {
      "cell_type": "markdown",
      "metadata": {
        "id": "C1esujF0uHln"
      },
      "source": [
        "**Q11:** Is this LP in dictionary form? If not, rewrite this LP in dictionary form.\n",
        "\n",
        "**A:** This is in dictionary form"
      ]
    },
    {
      "cell_type": "markdown",
      "metadata": {
        "id": "2JqMl5FduHln"
      },
      "source": [
        "**Q12:** Recall from **Q9** how you found a feasible solution (which we argued to be optimal) just by looking at the LP. Using this same stratagy, look at the LP above and give a feasible solution and its objective value for this LP. Describe how you found this feasible solution. Is it optimal? Why?\n",
        "\n",
        "**A:** x1 = 4\n",
        "      x2 = 1\n",
        "      objective value = 23"
      ]
    },
    {
      "cell_type": "markdown",
      "metadata": {
        "id": "Xcd2gTx4uHlo"
      },
      "source": [
        "From **Q12** we see that every dictionary form LP has a corresponding feasible solution. Furthermore, there are positive coefficents in the objective function. Hence, we can increase the objective value by increaseing the corresponding variable. In our example, both $x_1$ and $x_2$ have positive coefficents in the objective function. Let us choose to increase $x_1$.\n",
        "\n",
        "**Q13:** What do we have to be careful about when increasing $x_1$?\n",
        "\n",
        "**A:** not breaking the constraints "
      ]
    },
    {
      "cell_type": "markdown",
      "metadata": {
        "id": "n9JTaKLUuHlo"
      },
      "source": [
        "**Q14:** After choosing a variable to increase, we must determine the most limiting constraint. Let us look at the first constraint $x_3 = 4 - 1x_1 - 0x_2$. How much can $x_1$ increase? (Hint: what does a dictionary form LP require about the constant on the RHS of constraints?)\n",
        "\n",
        "**A:** x1 can increase up to 4"
      ]
    },
    {
      "cell_type": "markdown",
      "metadata": {
        "id": "Ymdtddm8uHlo"
      },
      "source": [
        "**Q15:** Like in **Q14**, determine how much each constraint limits the increase in $x_1$ and identify the most limiting constraint.\n",
        "\n",
        "**A:** The most limiting constraint is the equation x1 <= 4, so x1 cannot be more than 4"
      ]
    },
    {
      "cell_type": "markdown",
      "metadata": {
        "id": "7CM6-FwbuHlo"
      },
      "source": [
        "If we increase $x_1$ to 4, note that $x_3$ will become zero. Earlier, we identified that each dictionary form has a corresponding feasible solution acheived by setting variables on the RHS (and in the objective function) to zero. Hence, since $x_3$ will become zero, we want to rewrite our LP such that $x_3$ appears on the RHS. Furthermore, since $x_1$ is no longer zero, it should now appear on the LHS."
      ]
    },
    {
      "cell_type": "markdown",
      "metadata": {
        "id": "tGwfQJsfuHlp"
      },
      "source": [
        "**Q16:** Rewrite the most limiting constraint $x_3 = 4 - 1x_1 - 0x_2$ such that $x_1$ appears on the left and $x_3$ appears on the right.\n",
        "\n",
        "**A:** x1 = 3- x3"
      ]
    },
    {
      "cell_type": "markdown",
      "metadata": {
        "id": "vmOfyp5xuHlp"
      },
      "source": [
        "**Q17:** Using substitution, rewrite the LP such that $x_3$ appears on the RHS and $x_1$ appears on the LHS. (Hint: Don't forget the rule about which variables can appear in the objective function)\n",
        "\n",
        "**A:** x1 = 4-x3"
      ]
    },
    {
      "cell_type": "markdown",
      "metadata": {
        "id": "QqyFCVVEuHlp"
      },
      "source": [
        "**Q18:** We have now completed an iteration of simplex! What is the corresponding feasible solution of the new LP?\n",
        "\n",
        "**A:** x1 = 4\n",
        "      x3 = 0"
      ]
    },
    {
      "cell_type": "markdown",
      "metadata": {
        "id": "TR-hPvK9uHlq"
      },
      "source": [
        "Now that we have seen an iteration of simplex algebraically, let's use GILP to visualize it! The LP example we have been using is called `LIMITING_CONSTRAINT_2D_LP`. To visualize simplex, we must import a function called `simplex_visual()`."
      ]
    },
    {
      "cell_type": "code",
      "metadata": {
        "id": "YGHpPB2wuHlq",
        "outputId": "f7a42fd8-caf7-441e-bfe7-a68e0ea6842a",
        "colab": {
          "base_uri": "https://localhost:8080/",
          "height": 340
        }
      },
      "source": [
        "from gilp.visualize import simplex_visual # import the function\n",
        "import numpy as np\n",
        "lp = ex.LIMITING_CONSTRAINT_2D_LP # get the LP example\n",
        "simplex_visual(lp, initial_solution=np.array([[0],[0]])).show() # show the simplex visualization"
      ],
      "execution_count": null,
      "outputs": [
        {
          "output_type": "error",
          "ename": "ValueError",
          "evalue": "ignored",
          "traceback": [
            "\u001b[0;31m---------------------------------------------------------------------------\u001b[0m",
            "\u001b[0;31mValueError\u001b[0m                                Traceback (most recent call last)",
            "\u001b[0;32m<ipython-input-11-b6b6e9e83250>\u001b[0m in \u001b[0;36m<module>\u001b[0;34m()\u001b[0m\n\u001b[1;32m      2\u001b[0m \u001b[0;32mimport\u001b[0m \u001b[0mnumpy\u001b[0m \u001b[0;32mas\u001b[0m \u001b[0mnp\u001b[0m\u001b[0;34m\u001b[0m\u001b[0;34m\u001b[0m\u001b[0m\n\u001b[1;32m      3\u001b[0m \u001b[0mlp\u001b[0m \u001b[0;34m=\u001b[0m \u001b[0mex\u001b[0m\u001b[0;34m.\u001b[0m\u001b[0mLIMITING_CONSTRAINT_2D_LP\u001b[0m \u001b[0;31m# get the LP example\u001b[0m\u001b[0;34m\u001b[0m\u001b[0;34m\u001b[0m\u001b[0m\n\u001b[0;32m----> 4\u001b[0;31m \u001b[0msimplex_visual\u001b[0m\u001b[0;34m(\u001b[0m\u001b[0mlp\u001b[0m\u001b[0;34m,\u001b[0m \u001b[0minitial_solution\u001b[0m\u001b[0;34m=\u001b[0m\u001b[0mnp\u001b[0m\u001b[0;34m.\u001b[0m\u001b[0marray\u001b[0m\u001b[0;34m(\u001b[0m\u001b[0;34m[\u001b[0m\u001b[0;34m[\u001b[0m\u001b[0;36m0\u001b[0m\u001b[0;34m]\u001b[0m\u001b[0;34m,\u001b[0m\u001b[0;34m[\u001b[0m\u001b[0;36m0\u001b[0m\u001b[0;34m]\u001b[0m\u001b[0;34m]\u001b[0m\u001b[0;34m)\u001b[0m\u001b[0;34m)\u001b[0m\u001b[0;34m.\u001b[0m\u001b[0mshow\u001b[0m\u001b[0;34m(\u001b[0m\u001b[0;34m)\u001b[0m \u001b[0;31m# show the simplex visualization\u001b[0m\u001b[0;34m\u001b[0m\u001b[0;34m\u001b[0m\u001b[0m\n\u001b[0m",
            "\u001b[0;32m/usr/local/lib/python3.6/dist-packages/gilp/visualize.py\u001b[0m in \u001b[0;36msimplex_visual\u001b[0;34m(lp, tableau_form, rule, initial_solution, iteration_limit)\u001b[0m\n\u001b[1;32m    511\u001b[0m                                       \u001b[0mpivot_rule\u001b[0m\u001b[0;34m=\u001b[0m\u001b[0mrule\u001b[0m\u001b[0;34m,\u001b[0m\u001b[0;34m\u001b[0m\u001b[0;34m\u001b[0m\u001b[0m\n\u001b[1;32m    512\u001b[0m                                       \u001b[0minitial_solution\u001b[0m\u001b[0;34m=\u001b[0m\u001b[0minitial_solution\u001b[0m\u001b[0;34m,\u001b[0m\u001b[0;34m\u001b[0m\u001b[0;34m\u001b[0m\u001b[0m\n\u001b[0;32m--> 513\u001b[0;31m                                       iteration_limit=iteration_limit)\n\u001b[0m\u001b[1;32m    514\u001b[0m \u001b[0;34m\u001b[0m\u001b[0m\n\u001b[1;32m    515\u001b[0m     \u001b[0;31m# Create all traces: isoprofit, path, and table\u001b[0m\u001b[0;34m\u001b[0m\u001b[0;34m\u001b[0m\u001b[0;34m\u001b[0m\u001b[0m\n",
            "\u001b[0;32m/usr/local/lib/python3.6/dist-packages/gilp/simplex.py\u001b[0m in \u001b[0;36msimplex\u001b[0;34m(lp, pivot_rule, initial_solution, iteration_limit, feas_tol)\u001b[0m\n\u001b[1;32m    510\u001b[0m         \u001b[0;32mif\u001b[0m \u001b[0;32mnot\u001b[0m \u001b[0minitial_solution\u001b[0m\u001b[0;34m.\u001b[0m\u001b[0mshape\u001b[0m \u001b[0;34m==\u001b[0m \u001b[0;34m(\u001b[0m\u001b[0mn\u001b[0m\u001b[0;34m,\u001b[0m \u001b[0;36m1\u001b[0m\u001b[0;34m)\u001b[0m\u001b[0;34m:\u001b[0m\u001b[0;34m\u001b[0m\u001b[0;34m\u001b[0m\u001b[0m\n\u001b[1;32m    511\u001b[0m             raise ValueError('initial_solution should have shape (' + str(n)\n\u001b[0;32m--> 512\u001b[0;31m                              + ',1) but was ' + str(initial_solution.shape))\n\u001b[0m\u001b[1;32m    513\u001b[0m         \u001b[0mx_B\u001b[0m \u001b[0;34m=\u001b[0m \u001b[0minitial_solution\u001b[0m\u001b[0;34m\u001b[0m\u001b[0;34m\u001b[0m\u001b[0m\n\u001b[1;32m    514\u001b[0m         if (np.allclose(np.dot(A,x_B), b, atol=feas_tol) and\n",
            "\u001b[0;31mValueError\u001b[0m: initial_solution should have shape (6,1) but was (2, 1)"
          ]
        }
      ]
    },
    {
      "cell_type": "markdown",
      "metadata": {
        "id": "1sCnSfHsuHls"
      },
      "source": [
        "This visualization is much the same as the previous one but we now have an addtional slider which allows you to toggle through iterations of simplex. Furthermore, the corresponding dictionary at every iteration of simplex is shown in the top right. If you toggle between two iterations, you can see the dictionary form for both the previous and next LP at the same time."
      ]
    },
    {
      "cell_type": "markdown",
      "metadata": {
        "id": "fTCnT_xnuHls"
      },
      "source": [
        "**Q19:** Starting from point (0,0), by how much can you increase $x_1$ before the point is no longer feasible? Which constraint do you *hit* first? Does this match what you found algebraically?\n",
        "\n",
        "**A:** x1 can be increased to 7 while still being feasable, after this point, our sollution will no longer be feasable. "
      ]
    },
    {
      "cell_type": "markdown",
      "metadata": {
        "id": "7rSD4MLKuHlt"
      },
      "source": [
        "**Q20:** Which variable will be the next increasing variable and why? (Hint: Look at the dictionary form LP at iteration 1)\n",
        "\n",
        "**A:**  Next, we will increase x2, as it comes next in the dictonary"
      ]
    },
    {
      "cell_type": "code",
      "metadata": {
        "id": "mgFi-Bx-Ku31"
      },
      "source": [
        ""
      ],
      "execution_count": null,
      "outputs": []
    },
    {
      "cell_type": "markdown",
      "metadata": {
        "id": "4LcxznCcuHlt"
      },
      "source": [
        "**Q21:** Visually, which constraint do you think is the most limiting constraint? How much can $x_2$ increase? Give the corresponding feasible solution and its objective value of the next dictionary form LP. (Hint: hover over the feasible points to see information about them.)\n",
        "\n",
        "**A:** x2 can increase to 6"
      ]
    },
    {
      "cell_type": "markdown",
      "metadata": {
        "id": "-kzkvtlAuHlt"
      },
      "source": [
        "**Q22:** Move the slider to see the next iteration of simplex. Was your guess from **Q21** correct? If not, describe how your guess was wrong.\n",
        "\n",
        "**A:** my guess was correct"
      ]
    },
    {
      "cell_type": "markdown",
      "metadata": {
        "id": "tjTPPcPLuHlu"
      },
      "source": [
        "**Q23:** Look at the dictionary form LP after the second iteration of simplex. What is the increasing variable? Identify the most limiting constraint graphically and algebraically. Show your work and verify they are the same constraint. In addition, give the next feasible solution and its objective value.\n",
        "\n",
        "**A:** feasable sollution:\n",
        "x1 = 7, x2 = 6\n",
        "objective value = 53"
      ]
    },
    {
      "cell_type": "markdown",
      "metadata": {
        "id": "EwB3oDm_uHlu"
      },
      "source": [
        "**Q24:** Is the new feasible solution you found in **Q23** optimal? (Hint: Look at the dictionary form LP)\n",
        "\n",
        "**A:** This sollution is optimal"
      ]
    },
    {
      "cell_type": "markdown",
      "metadata": {
        "id": "Lwp7P4GguHlu"
      },
      "source": [
        "**Q25:** In **Q21** and **Q23**, how did you determine the most limiting constraint graphically?\n",
        "\n",
        "**A:** by looking at the lowest line when all of them are plottet"
      ]
    },
    {
      "cell_type": "markdown",
      "metadata": {
        "id": "riXVRFA5uHlv"
      },
      "source": [
        "**(BONUS):** In 2D, we can increase a variable until we hit a 2D line representing the most limiting constraint. What would be the analagous situation in 3D?\n",
        "\n",
        "**A:** This is analagout to increasinf a variable in 3d until it hits an edge of the shape"
      ]
    },
    {
      "cell_type": "markdown",
      "metadata": {
        "id": "S2VT4wxIuHlv"
      },
      "source": [
        "# Part III: Geometrical Interpretation of the Dictionary"
      ]
    },
    {
      "cell_type": "markdown",
      "metadata": {
        "id": "t7n7wFCouHlv"
      },
      "source": [
        "We have seen how the simplex algorithm transforms an LP from one dictionary form to another. Each dictionary form has a corresponding dictionary defined by the variables on the LHS of the constraints. Furthermore, each dictionary form has a corresponding feasible solution obtained by setting all non-dictionary variables to 0 and the dictionary variables to the constants on the RHS. In this section, we will explore the geometric interpretation of a dictionary."
      ]
    },
    {
      "cell_type": "code",
      "metadata": {
        "id": "DAOYG0oSuHlw",
        "outputId": "4b3a4085-11af-4f0c-8d6a-42da9d2be6f8",
        "colab": {
          "base_uri": "https://localhost:8080/",
          "height": 323
        }
      },
      "source": [
        "lp = ex.ALL_INTEGER_2D_LP # get LP example\n",
        "simplex_visual(lp, initial_solution=np.array([[0],[0]])).show() # visualize it"
      ],
      "execution_count": null,
      "outputs": [
        {
          "output_type": "error",
          "ename": "ValueError",
          "evalue": "ignored",
          "traceback": [
            "\u001b[0;31m---------------------------------------------------------------------------\u001b[0m",
            "\u001b[0;31mValueError\u001b[0m                                Traceback (most recent call last)",
            "\u001b[0;32m<ipython-input-12-ec58a64de5f5>\u001b[0m in \u001b[0;36m<module>\u001b[0;34m()\u001b[0m\n\u001b[1;32m      1\u001b[0m \u001b[0mlp\u001b[0m \u001b[0;34m=\u001b[0m \u001b[0mex\u001b[0m\u001b[0;34m.\u001b[0m\u001b[0mALL_INTEGER_2D_LP\u001b[0m \u001b[0;31m# get LP example\u001b[0m\u001b[0;34m\u001b[0m\u001b[0;34m\u001b[0m\u001b[0m\n\u001b[0;32m----> 2\u001b[0;31m \u001b[0msimplex_visual\u001b[0m\u001b[0;34m(\u001b[0m\u001b[0mlp\u001b[0m\u001b[0;34m,\u001b[0m \u001b[0minitial_solution\u001b[0m\u001b[0;34m=\u001b[0m\u001b[0mnp\u001b[0m\u001b[0;34m.\u001b[0m\u001b[0marray\u001b[0m\u001b[0;34m(\u001b[0m\u001b[0;34m[\u001b[0m\u001b[0;34m[\u001b[0m\u001b[0;36m0\u001b[0m\u001b[0;34m]\u001b[0m\u001b[0;34m,\u001b[0m\u001b[0;34m[\u001b[0m\u001b[0;36m0\u001b[0m\u001b[0;34m]\u001b[0m\u001b[0;34m]\u001b[0m\u001b[0;34m)\u001b[0m\u001b[0;34m)\u001b[0m\u001b[0;34m.\u001b[0m\u001b[0mshow\u001b[0m\u001b[0;34m(\u001b[0m\u001b[0;34m)\u001b[0m \u001b[0;31m# visualize it\u001b[0m\u001b[0;34m\u001b[0m\u001b[0;34m\u001b[0m\u001b[0m\n\u001b[0m",
            "\u001b[0;32m/usr/local/lib/python3.6/dist-packages/gilp/visualize.py\u001b[0m in \u001b[0;36msimplex_visual\u001b[0;34m(lp, tableau_form, rule, initial_solution, iteration_limit)\u001b[0m\n\u001b[1;32m    511\u001b[0m                                       \u001b[0mpivot_rule\u001b[0m\u001b[0;34m=\u001b[0m\u001b[0mrule\u001b[0m\u001b[0;34m,\u001b[0m\u001b[0;34m\u001b[0m\u001b[0;34m\u001b[0m\u001b[0m\n\u001b[1;32m    512\u001b[0m                                       \u001b[0minitial_solution\u001b[0m\u001b[0;34m=\u001b[0m\u001b[0minitial_solution\u001b[0m\u001b[0;34m,\u001b[0m\u001b[0;34m\u001b[0m\u001b[0;34m\u001b[0m\u001b[0m\n\u001b[0;32m--> 513\u001b[0;31m                                       iteration_limit=iteration_limit)\n\u001b[0m\u001b[1;32m    514\u001b[0m \u001b[0;34m\u001b[0m\u001b[0m\n\u001b[1;32m    515\u001b[0m     \u001b[0;31m# Create all traces: isoprofit, path, and table\u001b[0m\u001b[0;34m\u001b[0m\u001b[0;34m\u001b[0m\u001b[0;34m\u001b[0m\u001b[0m\n",
            "\u001b[0;32m/usr/local/lib/python3.6/dist-packages/gilp/simplex.py\u001b[0m in \u001b[0;36msimplex\u001b[0;34m(lp, pivot_rule, initial_solution, iteration_limit, feas_tol)\u001b[0m\n\u001b[1;32m    510\u001b[0m         \u001b[0;32mif\u001b[0m \u001b[0;32mnot\u001b[0m \u001b[0minitial_solution\u001b[0m\u001b[0;34m.\u001b[0m\u001b[0mshape\u001b[0m \u001b[0;34m==\u001b[0m \u001b[0;34m(\u001b[0m\u001b[0mn\u001b[0m\u001b[0;34m,\u001b[0m \u001b[0;36m1\u001b[0m\u001b[0;34m)\u001b[0m\u001b[0;34m:\u001b[0m\u001b[0;34m\u001b[0m\u001b[0;34m\u001b[0m\u001b[0m\n\u001b[1;32m    511\u001b[0m             raise ValueError('initial_solution should have shape (' + str(n)\n\u001b[0;32m--> 512\u001b[0;31m                              + ',1) but was ' + str(initial_solution.shape))\n\u001b[0m\u001b[1;32m    513\u001b[0m         \u001b[0mx_B\u001b[0m \u001b[0;34m=\u001b[0m \u001b[0minitial_solution\u001b[0m\u001b[0;34m\u001b[0m\u001b[0;34m\u001b[0m\u001b[0m\n\u001b[1;32m    514\u001b[0m         if (np.allclose(np.dot(A,x_B), b, atol=feas_tol) and\n",
            "\u001b[0;31mValueError\u001b[0m: initial_solution should have shape (5,1) but was (2, 1)"
          ]
        }
      ]
    },
    {
      "cell_type": "markdown",
      "metadata": {
        "id": "Qi7fXPIguHlx"
      },
      "source": [
        "Recall, we can hover over the corner points of the feasible region. **BFS** indicates the feasible solution corresponding to that point. For example, (7,0,6,9,0) means $x_1 = 7, x_2 = 0, x_3 = 6, x_4 = 9$, and $x_5 = 0$. **B** gives the indices of the variables in the dictionary. For example, (1,3,4) means that $x_1, x_3,$ and $x_4$ are in the dictionary. Lastly, the objective value at that point is given."
      ]
    },
    {
      "cell_type": "markdown",
      "metadata": {
        "id": "dn-gA0nquHlx"
      },
      "source": [
        "**Q26:** Hover over the point (7,6) where $x_1 = 7$ and $x_2 = 6$. What is the feasible solution at that point ?\n",
        "\n",
        "**A:** x1 = 7, x2 = 6, x3  = 6, x4 = 9, x5 = 0"
      ]
    },
    {
      "cell_type": "markdown",
      "metadata": {
        "id": "BFEklIr8uHly"
      },
      "source": [
        "We have a notion of *slack* for an inequality constraint. Consider the constraint $x_1 \\geq 0$. A feasible solution where $x_1 = 7$ has a slack of 7 in this constraint. Consider the constraint $2x_1 + 1x_2 \\leq 20$. The feasible solution with $x_1 = 7$ and $x_2 = 6$ has a slack of 0 in this constraint."
      ]
    },
    {
      "cell_type": "markdown",
      "metadata": {
        "id": "_r-p7MkDuHly"
      },
      "source": [
        "**Q27:** What is the slack in constraint $1x_1 + 1x_2 \\leq 16$ when $x_1 = 7$ and $x_2 = 6$?\n",
        "\n",
        "**A:** 3"
      ]
    },
    {
      "cell_type": "markdown",
      "metadata": {
        "id": "EV1MtTRIuHly"
      },
      "source": [
        "**Q28:** Look at the constraint $2x_1 + 1x_2 \\leq 20$. After rewriting in dictionary form, the constraint is $x_3 = 20 - 2x_1 - 1x_2$. What does $x_3$ represent?\n",
        "\n",
        "**A:** "
      ]
    },
    {
      "cell_type": "markdown",
      "metadata": {
        "id": "YPgg2bZluHlz"
      },
      "source": [
        "**Q29:** What do you notice about the feasible solution at point (7,6) and the slack in each constraint?\n",
        "\n",
        "**A:** the leftover value from x1 and x2"
      ]
    },
    {
      "cell_type": "markdown",
      "metadata": {
        "id": "esyCEJXGuHlz"
      },
      "source": [
        "It turns out that each decision variable is really a measure of slack in some corresponding constraint!"
      ]
    },
    {
      "cell_type": "markdown",
      "metadata": {
        "id": "9xi2PpYRuHlz"
      },
      "source": [
        "**Q30:** If the slack between a constraint and a feasible solution is 0, what does that tell you about the relationship between the feasible solution and constraint geometrically?\n",
        "\n",
        "**A:**  The feasable solution lies on the edge of the restraint"
      ]
    },
    {
      "cell_type": "markdown",
      "metadata": {
        "id": "tADKCLEeuHl0"
      },
      "source": [
        "**Q31:** For (7,6), which variables are **not** in the dictionary? For which constraints do they represent the slack? (Hint: The **B** in the hover box gives the indices of the variables in the dicitonary)\n",
        "\n",
        "**A:** x4 and x5 are not in the dictionary"
      ]
    },
    {
      "cell_type": "markdown",
      "metadata": {
        "id": "C7vyW3FnuHl0"
      },
      "source": [
        "**Q32:** For (7,6), what are the values of the non-dictionary variables? Using what you learned from **Q30**, what does their value tell you about the feasible solution at (7,6)?\n",
        "\n",
        "**A:** x4 = 0, x5 = 0"
      ]
    },
    {
      "cell_type": "markdown",
      "metadata": {
        "id": "3oMbX6QRuHl0"
      },
      "source": [
        "**Q33:** Look at some other corner points with this in mind. What do you find?\n",
        "\n",
        "**A:** when some variables are maxed out, others are minimized"
      ]
    },
    {
      "cell_type": "markdown",
      "metadata": {
        "id": "J13fXzCIuHl0"
      },
      "source": [
        "Now, let's look at a 3 dimensional LP!"
      ]
    },
    {
      "cell_type": "code",
      "metadata": {
        "id": "RYeddl4DuHl1",
        "outputId": "0133cc97-8336-4a54-d8bc-c2ffd791c3c7",
        "colab": {
          "base_uri": "https://localhost:8080/",
          "height": 517
        }
      },
      "source": [
        "lp = ex.ALL_INTEGER_3D_LP # get LP example\n",
        "lp_visual(lp).show() # visualize it"
      ],
      "execution_count": null,
      "outputs": [
        {
          "output_type": "display_data",
          "data": {
            "text/html": [
              "<html>\n",
              "<head><meta charset=\"utf-8\" /></head>\n",
              "<body>\n",
              "    <div>            <script src=\"https://cdnjs.cloudflare.com/ajax/libs/mathjax/2.7.5/MathJax.js?config=TeX-AMS-MML_SVG\"></script><script type=\"text/javascript\">if (window.MathJax) {MathJax.Hub.Config({SVG: {font: \"STIX-Web\"}});}</script>                <script type=\"text/javascript\">window.PlotlyConfig = {MathJaxConfig: 'local'};</script>\n",
              "        <script src=\"https://cdn.plot.ly/plotly-latest.min.js\"></script>                <div id=\"062aec7c-a7a3-4106-9db6-be01617251ab\" class=\"plotly-graph-div\" style=\"height:500px; width:950px;\"></div>            <script type=\"text/javascript\">                                    window.PLOTLYENV=window.PLOTLYENV || {};                                    if (document.getElementById(\"062aec7c-a7a3-4106-9db6-be01617251ab\")) {                    Plotly.newPlot(                        \"062aec7c-a7a3-4106-9db6-be01617251ab\",                        [{\"hoverinfo\": \"skip\", \"marker\": {\"color\": \"white\", \"opacity\": 1e-07, \"size\": 0}, \"mode\": \"markers\", \"showlegend\": false, \"type\": \"scatter3d\", \"x\": [7.800000000000001], \"y\": [10.4], \"z\": [6.5]}, {\"hoverinfo\": \"none\", \"line\": {\"color\": \"#173D90\", \"width\": 5}, \"mode\": \"lines\", \"opacity\": 0.2, \"showlegend\": false, \"surfaceaxis\": 0, \"surfacecolor\": \"#1469FE\", \"type\": \"scatter3d\", \"visible\": true, \"x\": [6.0, 6.0, 6.0, 6.0, 6.0], \"y\": [8.0, 0.0, 0.0, 6.0, 8.0], \"z\": [-0.0, 0.0, 2.0, 2.0, -0.0]}, {\"hoverinfo\": \"none\", \"line\": {\"color\": \"#173D90\", \"width\": 5}, \"mode\": \"lines\", \"opacity\": 0.2, \"showlegend\": false, \"surfaceaxis\": 2, \"surfacecolor\": \"#1469FE\", \"type\": \"scatter3d\", \"visible\": true, \"x\": [3.0, 6.0, 6.0, 3.0, 3.0], \"y\": [3.0, 6.0, 0.0, 0.0, 3.0], \"z\": [5.0, 2.0, 2.0, 5.0, 5.0]}, {\"hoverinfo\": \"none\", \"line\": {\"color\": \"#173D90\", \"width\": 5}, \"mode\": \"lines\", \"opacity\": 0.2, \"showlegend\": false, \"surfaceaxis\": 2, \"surfacecolor\": \"#1469FE\", \"type\": \"scatter3d\", \"visible\": true, \"x\": [3.0, 3.0, 0.0, 0.0, 3.0], \"y\": [3.0, 0.0, 0.0, 3.0, 3.0], \"z\": [5.0, 5.0, 5.0, 5.0, 5.0]}, {\"hoverinfo\": \"none\", \"line\": {\"color\": \"#173D90\", \"width\": 5}, \"mode\": \"lines\", \"opacity\": 0.2, \"showlegend\": false, \"surfaceaxis\": 2, \"surfacecolor\": \"#1469FE\", \"type\": \"scatter3d\", \"visible\": true, \"x\": [3.0, 6.0, 6.0, 0.0, 0.0, 3.0], \"y\": [3.0, 6.0, 8.0, 8.0, 3.0, 3.0], \"z\": [5.0, 2.0, -0.0, 0.0, 5.0, 5.0]}, {\"hoverinfo\": \"none\", \"line\": {\"color\": \"#173D90\", \"width\": 5}, \"mode\": \"lines\", \"opacity\": 0.2, \"showlegend\": false, \"surfaceaxis\": 0, \"surfacecolor\": \"#1469FE\", \"type\": \"scatter3d\", \"visible\": true, \"x\": [0.0, 0.0, 0.0, 0.0, 0.0], \"y\": [3.0, 8.0, 0.0, 0.0, 3.0], \"z\": [5.0, 0.0, 0.0, 5.0, 5.0]}, {\"hoverinfo\": \"none\", \"line\": {\"color\": \"#173D90\", \"width\": 5}, \"mode\": \"lines\", \"opacity\": 0.2, \"showlegend\": false, \"surfaceaxis\": 1, \"surfacecolor\": \"#1469FE\", \"type\": \"scatter3d\", \"visible\": true, \"x\": [0.0, 0.0, 6.0, 6.0, 3.0, 0.0], \"y\": [0.0, 0.0, 0.0, 0.0, 0.0, 0.0], \"z\": [5.0, 0.0, 0.0, 2.0, 5.0, 5.0]}, {\"hoverinfo\": \"none\", \"line\": {\"color\": \"#173D90\", \"width\": 5}, \"mode\": \"lines\", \"opacity\": 0.2, \"showlegend\": false, \"surfaceaxis\": 2, \"surfacecolor\": \"#1469FE\", \"type\": \"scatter3d\", \"visible\": true, \"x\": [6.0, 0.0, 0.0, 6.0, 6.0], \"y\": [8.0, 8.0, 0.0, 0.0, 8.0], \"z\": [-0.0, 0.0, 0.0, 0.0, -0.0]}, {\"hoverinfo\": \"none\", \"mode\": \"none\", \"name\": \"(4) 1x<sub>1</sub> + 0x<sub>2</sub> + 0x<sub>3</sub> \\u2264 6\", \"opacity\": 0.5, \"showlegend\": true, \"surfaceaxis\": 0, \"surfacecolor\": \"gray\", \"type\": \"scatter3d\", \"visible\": \"legendonly\", \"x\": [6.0, 6.0, 6.0, 6.0, 6.0], \"y\": [0.0, 0.0, 10.4, 10.4, 0.0], \"z\": [0.0, 6.5, 6.5, 0.0, 0.0]}, {\"hoverinfo\": \"none\", \"mode\": \"none\", \"name\": \"(5) 1x<sub>1</sub> + 0x<sub>2</sub> + 1x<sub>3</sub> \\u2264 8\", \"opacity\": 0.5, \"showlegend\": true, \"surfaceaxis\": 2, \"surfacecolor\": \"gray\", \"type\": \"scatter3d\", \"visible\": \"legendonly\", \"x\": [0.0, 0.0, 7.800000000000001, 7.800000000000001, 0.0], \"y\": [10.4, 0.0, 0.0, 10.4, 10.4], \"z\": [8.0, 8.0, 0.1999999999999993, 0.1999999999999993, 8.0]}, {\"hoverinfo\": \"none\", \"mode\": \"none\", \"name\": \"(6) 0x<sub>1</sub> + 0x<sub>2</sub> + 1x<sub>3</sub> \\u2264 5\", \"opacity\": 0.5, \"showlegend\": true, \"surfaceaxis\": 2, \"surfacecolor\": \"gray\", \"type\": \"scatter3d\", \"visible\": \"legendonly\", \"x\": [0.0, 7.800000000000001, 7.800000000000001, 0.0, 0.0], \"y\": [0.0, 0.0, 10.4, 10.4, 0.0], \"z\": [5.0, 5.0, 5.0, 5.0, 5.0]}, {\"hoverinfo\": \"none\", \"mode\": \"none\", \"name\": \"(7) 0x<sub>1</sub> + 1x<sub>2</sub> + 1x<sub>3</sub> \\u2264 8\", \"opacity\": 0.5, \"showlegend\": true, \"surfaceaxis\": 2, \"surfacecolor\": \"gray\", \"type\": \"scatter3d\", \"visible\": \"legendonly\", \"x\": [0.0, 7.800000000000001, 7.800000000000001, 0.0, 0.0], \"y\": [10.4, 10.4, 0.0, 0.0, 10.4], \"z\": [-2.4000000000000004, -2.4000000000000004, 8.0, 8.0, -2.4000000000000004]}, {\"hoverinfo\": \"text\", \"hoverlabel\": {\"bgcolor\": \"#FAFAFA\", \"bordercolor\": \"#323232\", \"font\": {\"color\": \"#323232\", \"family\": \"Arial\"}}, \"marker\": {\"color\": \"gray\", \"opacity\": 1e-07, \"size\": 20}, \"mode\": \"markers\", \"showlegend\": false, \"text\": [\"<b>BFS</b>: (0, 0, 0, 6, 8, 5, 8)<br><b>B</b>: (2, 4, 5, 6, 7)<br><b>Obj</b>: 0\", \"<b>BFS</b>: (0, 3, 5, 6, 3, 0, 0)<br><b>B</b>: (2, 3, 4, 5)<br><b>Obj</b>: 26\", \"<b>BFS</b>: (0, 0, 5, 6, 3, 0, 3)<br><b>B</b>: (1, 2, 3, 4, 5, 7)<br><b>Obj</b>: 20\", \"<b>BFS</b>: (0, 8, 0, 6, 8, 5, 0)<br><b>B</b>: (1, 2, 3, 4, 5, 6)<br><b>Obj</b>: 16\", \"<b>BFS</b>: (3, 0, 5, 3, 0, 0, 3)<br><b>B</b>: (1, 3, 4, 7)<br><b>Obj</b>: 23\", \"<b>BFS</b>: (3, 3, 5, 3, 0, 0, 0)<br><b>B</b>: (1, 2, 3, 4)<br><b>Obj</b>: 29\", \"<b>BFS</b>: (6, 0, 0, 0, 2, 5, 8)<br><b>B</b>: (1, 5, 6, 7)<br><b>Obj</b>: 6\", \"<b>BFS</b>: (6, 0, 2, 0, 0, 3, 6)<br><b>B</b>: (1, 3, 6, 7)<br><b>Obj</b>: 14\", \"<b>BFS</b>: (6, 6, 2, 0, 0, 3, 0)<br><b>B</b>: (1, 2, 3, 6)<br><b>Obj</b>: 26\", \"<b>BFS</b>: (6, 8, 0, 0, 2, 5, 0)<br><b>B</b>: (1, 2, 3, 5, 6, 7)<br><b>Obj</b>: 22\"], \"type\": \"scatter3d\", \"x\": [0.0, 0.0, 4.440892098500626e-16, 4.440892098500626e-16, 3.0, 3.0, 6.0, 6.0, 6.0, 6.0], \"y\": [4.440892098500626e-16, 3.0, 4.440892098500626e-16, 8.0, 0.0, 3.0, 0.0, 0.0, 6.0, 8.000000000000002], \"z\": [0.0, 5.0, 5.0, 4.440892098500626e-16, 5.0, 5.0, 0.0, 2.0, 2.0, 4.440892098500626e-16]}, {\"hoverinfo\": \"none\", \"mode\": \"none\", \"opacity\": 0.3, \"showlegend\": false, \"surfaceaxis\": 2, \"surfacecolor\": \"gray\", \"type\": \"scatter3d\", \"visible\": false, \"x\": [0.0, 7.800000000000001, 7.800000000000001, 0.0, 0.0], \"y\": [10.4, 10.4, 0.0, 0.0, 10.4], \"z\": [-5.2, -7.15, -1.9500000000000002, 0.0, -5.2]}, {\"hoverinfo\": \"none\", \"line\": {\"color\": \"red\", \"width\": 5}, \"marker\": {\"color\": \"red\", \"opacity\": 1, \"size\": 5}, \"mode\": \"lines+markers\", \"opacity\": 1, \"showlegend\": false, \"surfaceaxis\": 2, \"surfacecolor\": \"red\", \"type\": \"scatter3d\", \"visible\": false, \"x\": [0.0, -0.0, 0.0, 0.0], \"y\": [0.0, -0.0, 0.0, 0.0], \"z\": [0.0, -0.0, 0.0, 0.0]}, {\"hoverinfo\": \"none\", \"mode\": \"none\", \"opacity\": 0.3, \"showlegend\": false, \"surfaceaxis\": 2, \"surfacecolor\": \"gray\", \"type\": \"scatter3d\", \"visible\": false, \"x\": [0.0, 0.0, 7.800000000000001, 7.800000000000001, 0.0], \"y\": [0.0, 10.4, 10.4, 0.0, 0.0], \"z\": [0.57, -4.63, -6.58, -1.3800000000000003, 0.57]}, {\"hoverinfo\": \"none\", \"line\": {\"color\": \"red\", \"width\": 5}, \"marker\": {\"color\": \"red\", \"opacity\": 1, \"size\": 5}, \"mode\": \"lines+markers\", \"opacity\": 1, \"showlegend\": false, \"surfaceaxis\": 2, \"surfacecolor\": \"red\", \"type\": \"scatter3d\", \"visible\": false, \"x\": [2.28, 0.0, 0.0, 2.28], \"y\": [-5.551115123125783e-17, -2.775557561562891e-17, 1.14, -5.551115123125783e-17], \"z\": [0.0, 0.5700000000000001, 0.0, 0.0]}, {\"hoverinfo\": \"none\", \"mode\": \"none\", \"opacity\": 0.3, \"showlegend\": false, \"surfaceaxis\": 2, \"surfacecolor\": \"gray\", \"type\": \"scatter3d\", \"visible\": false, \"x\": [7.800000000000001, 0.0, 0.0, 7.800000000000001, 7.800000000000001], \"y\": [0.0, 0.0, 10.4, 10.4, 0.0], \"z\": [-0.8125000000000002, 1.1375, -4.0625, -6.0125, -0.8125000000000002]}, {\"hoverinfo\": \"none\", \"line\": {\"color\": \"red\", \"width\": 5}, \"marker\": {\"color\": \"red\", \"opacity\": 1, \"size\": 5}, \"mode\": \"lines+markers\", \"opacity\": 1, \"showlegend\": false, \"surfaceaxis\": 2, \"surfacecolor\": \"red\", \"type\": \"scatter3d\", \"visible\": false, \"x\": [4.549999999999999, -2.775557561562891e-17, 0.0, 4.549999999999999], \"y\": [-2.775557561562891e-17, -2.775557561562891e-17, 2.275, -2.775557561562891e-17], \"z\": [0.0, 1.1375, 0.0, 0.0]}, {\"hoverinfo\": \"none\", \"mode\": \"none\", \"opacity\": 0.3, \"showlegend\": false, \"surfaceaxis\": 2, \"surfacecolor\": \"gray\", \"type\": \"scatter3d\", \"visible\": false, \"x\": [7.800000000000001, 0.0, 0.0, 7.800000000000001, 7.800000000000001], \"y\": [10.4, 10.4, 0.0, 0.0, 10.4], \"z\": [-5.445, -3.495, 1.705, -0.2450000000000001, -5.445]}, {\"hoverinfo\": \"none\", \"line\": {\"color\": \"red\", \"width\": 5}, \"marker\": {\"color\": \"red\", \"opacity\": 1, \"size\": 5}, \"mode\": \"lines+markers\", \"opacity\": 1, \"showlegend\": false, \"surfaceaxis\": 2, \"surfacecolor\": \"red\", \"type\": \"scatter3d\", \"visible\": false, \"x\": [6.0, 2.775557561562891e-17, 0.0, 6.0, 6.0], \"y\": [0.4100000000000003, 3.410000000000001, 0.0, -5.551115123125783e-17, 0.4100000000000003], \"z\": [-2.775557561562891e-17, 2.775557561562891e-17, 1.705, 0.2050000000000002, -2.775557561562891e-17]}, {\"hoverinfo\": \"none\", \"mode\": \"none\", \"opacity\": 0.3, \"showlegend\": false, \"surfaceaxis\": 2, \"surfacecolor\": \"gray\", \"type\": \"scatter3d\", \"visible\": false, \"x\": [7.800000000000001, 0.0, 0.0, 7.800000000000001, 7.800000000000001], \"y\": [10.4, 10.4, 0.0, 0.0, 10.4], \"z\": [-4.875, -2.9250000000000003, 2.275, 0.32499999999999973, -4.875]}, {\"hoverinfo\": \"none\", \"line\": {\"color\": \"red\", \"width\": 5}, \"marker\": {\"color\": \"red\", \"opacity\": 1, \"size\": 5}, \"mode\": \"lines+markers\", \"opacity\": 1, \"showlegend\": false, \"surfaceaxis\": 2, \"surfacecolor\": \"red\", \"type\": \"scatter3d\", \"visible\": false, \"x\": [6.000000000000002, 6.0, 2.775557561562891e-17, 5.551115123125783e-17, 6.000000000000002], \"y\": [1.55, -2.775557561562891e-17, -2.775557561562891e-17, 4.55, 1.55], \"z\": [-2.775557561562891e-17, 0.7749999999999998, 2.275, -2.775557561562891e-17, -2.775557561562891e-17]}, {\"hoverinfo\": \"none\", \"mode\": \"none\", \"opacity\": 0.3, \"showlegend\": false, \"surfaceaxis\": 2, \"surfacecolor\": \"gray\", \"type\": \"scatter3d\", \"visible\": false, \"x\": [7.800000000000001, 0.0, 0.0, 7.800000000000001, 7.800000000000001], \"y\": [10.4, 10.4, 0.0, 0.0, 10.4], \"z\": [-4.305, -2.355, 2.845, 0.895, -4.305]}, {\"hoverinfo\": \"none\", \"line\": {\"color\": \"red\", \"width\": 5}, \"marker\": {\"color\": \"red\", \"opacity\": 1, \"size\": 5}, \"mode\": \"lines+markers\", \"opacity\": 1, \"showlegend\": false, \"surfaceaxis\": 2, \"surfacecolor\": \"red\", \"type\": \"scatter3d\", \"visible\": false, \"x\": [6.000000000000002, 6.0, 2.775557561562891e-17, 0.0, 6.000000000000002], \"y\": [2.69, 0.0, -8.326672684688674e-17, 5.690000000000001, 2.69], \"z\": [0.0, 1.345, 2.845000000000001, 0.0, 0.0]}, {\"hoverinfo\": \"none\", \"mode\": \"none\", \"opacity\": 0.3, \"showlegend\": false, \"surfaceaxis\": 2, \"surfacecolor\": \"gray\", \"type\": \"scatter3d\", \"visible\": false, \"x\": [7.800000000000001, 7.800000000000001, 0.0, 0.0, 7.800000000000001], \"y\": [10.4, 0.0, 0.0, 10.4, 10.4], \"z\": [-3.7375000000000003, 1.4625, 3.4125, -1.7875, -3.7375000000000003]}, {\"hoverinfo\": \"none\", \"line\": {\"color\": \"red\", \"width\": 5}, \"marker\": {\"color\": \"red\", \"opacity\": 1, \"size\": 5}, \"mode\": \"lines+markers\", \"opacity\": 1, \"showlegend\": false, \"surfaceaxis\": 2, \"surfacecolor\": \"red\", \"type\": \"scatter3d\", \"visible\": false, \"x\": [6.000000000000002, 6.0, 8.326672684688674e-17, 2.775557561562891e-17, 6.000000000000002], \"y\": [3.825000000000001, -2.775557561562891e-17, 5.551115123125783e-17, 6.825, 3.825000000000001], \"z\": [-2.775557561562891e-17, 1.9125, 3.4125, 2.775557561562891e-17, -2.775557561562891e-17]}, {\"hoverinfo\": \"none\", \"mode\": \"none\", \"opacity\": 0.3, \"showlegend\": false, \"surfaceaxis\": 2, \"surfacecolor\": \"gray\", \"type\": \"scatter3d\", \"visible\": false, \"x\": [7.800000000000001, 0.0, 0.0, 7.800000000000001, 7.800000000000001], \"y\": [10.4, 10.4, 0.0, 0.0, 10.4], \"z\": [-3.1700000000000004, -1.2200000000000002, 3.98, 2.03, -3.1700000000000004]}, {\"hoverinfo\": \"none\", \"line\": {\"color\": \"red\", \"width\": 5}, \"marker\": {\"color\": \"red\", \"opacity\": 1, \"size\": 5}, \"mode\": \"lines+markers\", \"opacity\": 1, \"showlegend\": false, \"surfaceaxis\": 2, \"surfacecolor\": \"red\", \"type\": \"scatter3d\", \"visible\": false, \"x\": [5.360000000000003, -2.775557561562891e-17, 5.551115123125783e-17, 6.0, 6.000000000000002, 5.360000000000003], \"y\": [-2.775557561562891e-17, -5.551115123125783e-17, 7.959999999999998, 4.96, 0.9599999999999979, -2.775557561562891e-17], \"z\": [2.639999999999999, 3.98, 2.775557561562891e-17, -2.775557561562891e-17, 2.000000000000001, 2.639999999999999]}, {\"hoverinfo\": \"none\", \"mode\": \"none\", \"opacity\": 0.3, \"showlegend\": false, \"surfaceaxis\": 2, \"surfacecolor\": \"gray\", \"type\": \"scatter3d\", \"visible\": false, \"x\": [0.0, 7.800000000000001, 7.800000000000001, 0.0, 0.0], \"y\": [10.4, 10.4, 0.0, 0.0, 10.4], \"z\": [-0.6500000000000004, -2.6000000000000005, 2.5999999999999996, 4.55, -0.6500000000000004]}, {\"hoverinfo\": \"none\", \"line\": {\"color\": \"red\", \"width\": 5}, \"marker\": {\"color\": \"red\", \"opacity\": 1, \"size\": 5}, \"mode\": \"lines+markers\", \"opacity\": 1, \"showlegend\": false, \"surfaceaxis\": 2, \"surfacecolor\": \"red\", \"type\": \"scatter3d\", \"visible\": false, \"x\": [2.200000000000002, 6.000000000000002, 6.0, 4.600000000000001, 0.0, 0.0, 2.200000000000002], \"y\": [8.0, 6.100000000000001, 2.099999999999997, -5.551115123125783e-17, -2.775557561562891e-17, 6.899999999999999, 8.0], \"z\": [-2.775557561562891e-17, -2.775557561562891e-17, 2.000000000000001, 3.4, 4.550000000000001, 1.100000000000001, -2.775557561562891e-17]}, {\"hoverinfo\": \"none\", \"mode\": \"none\", \"opacity\": 0.3, \"showlegend\": false, \"surfaceaxis\": 2, \"surfacecolor\": \"gray\", \"type\": \"scatter3d\", \"visible\": false, \"x\": [0.0, 0.0, 7.800000000000001, 7.800000000000001, 0.0], \"y\": [0.0, 10.4, 10.4, 0.0, 0.0], \"z\": [5.1175, -0.08250000000000046, -2.0325000000000006, 3.1674999999999995, 5.1175]}, {\"hoverinfo\": \"none\", \"line\": {\"color\": \"red\", \"width\": 5}, \"marker\": {\"color\": \"red\", \"opacity\": 1, \"size\": 5}, \"mode\": \"lines+markers\", \"opacity\": 1, \"showlegend\": false, \"surfaceaxis\": 2, \"surfacecolor\": \"red\", \"type\": \"scatter3d\", \"visible\": false, \"x\": [4.470000000000006, 6.0, 6.0, 3.843333333333334, 0.470000000000002, 0.0, 2.775557561562891e-17, 4.470000000000006], \"y\": [7.999999999999999, 7.235, 3.234999999999999, 0.0, -2.775557561562891e-17, 0.235000000000001, 5.764999999999996, 7.999999999999999], \"z\": [2.775557561562891e-17, 0.0, 2.000000000000001, 4.156666666666667, 5.0, 5.0, 2.235000000000003, 2.775557561562891e-17]}, {\"hoverinfo\": \"none\", \"mode\": \"none\", \"opacity\": 0.3, \"showlegend\": false, \"surfaceaxis\": 2, \"surfacecolor\": \"gray\", \"type\": \"scatter3d\", \"visible\": false, \"x\": [0.0, 0.0, 7.800000000000001, 7.800000000000001, 0.0], \"y\": [0.0, 10.4, 10.4, 0.0, 0.0], \"z\": [5.6875, 0.4874999999999998, -1.4625000000000004, 3.7375, 5.6875]}, {\"hoverinfo\": \"none\", \"line\": {\"color\": \"red\", \"width\": 5}, \"marker\": {\"color\": \"red\", \"opacity\": 1, \"size\": 5}, \"mode\": \"lines+markers\", \"opacity\": 1, \"showlegend\": false, \"surfaceaxis\": 2, \"surfacecolor\": \"red\", \"type\": \"scatter3d\", \"visible\": false, \"x\": [6.0, 2.775557561562891e-17, 0.0, 2.750000000000002, 3.083333333333334, 6.0, 6.0], \"y\": [7.624999999999997, 4.624999999999996, 1.375000000000001, -2.775557561562891e-17, -2.775557561562891e-17, 4.374999999999999, 7.624999999999997], \"z\": [0.375000000000002, 3.375000000000003, 5.0, 5.0, 4.916666666666668, 2.0, 0.375000000000002]}, {\"hoverinfo\": \"none\", \"mode\": \"none\", \"opacity\": 0.3, \"showlegend\": false, \"surfaceaxis\": 2, \"surfacecolor\": \"gray\", \"type\": \"scatter3d\", \"visible\": false, \"x\": [7.800000000000001, 0.0, 0.0, 7.800000000000001, 7.800000000000001], \"y\": [0.0, 0.0, 10.4, 10.4, 0.0], \"z\": [4.305, 6.255, 1.0549999999999997, -0.8950000000000005, 4.305]}, {\"hoverinfo\": \"none\", \"line\": {\"color\": \"red\", \"width\": 5}, \"marker\": {\"color\": \"red\", \"opacity\": 1, \"size\": 5}, \"mode\": \"lines+markers\", \"opacity\": 1, \"showlegend\": false, \"surfaceaxis\": 2, \"surfacecolor\": \"red\", \"type\": \"scatter3d\", \"visible\": false, \"x\": [6.0, 2.775557561562891e-17, 0.0, 3.000000000000002, 6.0, 6.0], \"y\": [6.489999999999998, 3.489999999999998, 2.51, 1.009999999999999, 5.509999999999997, 6.489999999999998], \"z\": [1.510000000000001, 4.510000000000002, 5.0, 5.0, 2.000000000000001, 1.510000000000001]}, {\"hoverinfo\": \"none\", \"mode\": \"none\", \"opacity\": 0.3, \"showlegend\": false, \"surfaceaxis\": 2, \"surfacecolor\": \"gray\", \"type\": \"scatter3d\", \"visible\": false, \"x\": [7.800000000000001, 0.0, 0.0, 7.800000000000001, 7.800000000000001], \"y\": [0.0, 0.0, 10.4, 10.4, 0.0], \"z\": [4.875, 6.825, 1.625, -0.3250000000000002, 4.875]}, {\"hoverinfo\": \"none\", \"line\": {\"color\": \"red\", \"width\": 5}, \"marker\": {\"color\": \"red\", \"opacity\": 1, \"size\": 5}, \"mode\": \"lines+markers\", \"opacity\": 1, \"showlegend\": false, \"surfaceaxis\": 2, \"surfacecolor\": \"red\", \"type\": \"scatter3d\", \"visible\": false, \"x\": [4.700000000000003, 3.000000000000001, 1.3, 4.700000000000003], \"y\": [4.7, 2.149999999999998, 2.999999999999999, 4.7], \"z\": [3.299999999999999, 5.0, 5.0, 3.299999999999999]}, {\"hoverinfo\": \"none\", \"mode\": \"none\", \"opacity\": 0.3, \"showlegend\": false, \"surfaceaxis\": 2, \"surfacecolor\": \"gray\", \"type\": \"scatter3d\", \"visible\": false, \"x\": [7.800000000000001, 0.0, 0.0, 7.800000000000001, 7.800000000000001], \"y\": [0.0, 0.0, 10.4, 10.4, 0.0], \"z\": [5.3, 7.25, 2.05, 0.09999999999999964, 5.3]}, {\"hoverinfo\": \"none\", \"line\": {\"color\": \"red\", \"width\": 5}, \"marker\": {\"color\": \"red\", \"opacity\": 1, \"size\": 5}, \"mode\": \"lines+markers\", \"opacity\": 1, \"showlegend\": false, \"surfaceaxis\": 2, \"surfacecolor\": \"red\", \"type\": \"scatter3d\", \"visible\": false, \"x\": [3.0000000000000013, 3.000000000000001, 2.9999999999999996, 3.0000000000000013], \"y\": [3.0000000000000013, 2.999999999999999, 2.9999999999999996, 3.0000000000000013], \"z\": [4.999999999999999, 5.000000000000001, 4.999999999999999, 4.999999999999999]}, {\"hoverinfo\": \"none\", \"mode\": \"none\", \"opacity\": 0.3, \"showlegend\": false, \"surfaceaxis\": 2, \"surfacecolor\": \"gray\", \"type\": \"scatter3d\", \"visible\": false, \"x\": [7.800000000000001, 0.0, 0.0, 7.800000000000001, 7.800000000000001], \"y\": [0.0, 0.0, 10.4, 10.4, 0.0], \"z\": [5.444999999999999, 7.395, 2.1949999999999994, 0.24499999999999922, 5.444999999999999]}, {\"hoverinfo\": \"skip\", \"marker\": {\"color\": \"white\", \"opacity\": 1e-07, \"size\": 0}, \"mode\": \"markers\", \"showlegend\": false, \"type\": \"scatter3d\", \"x\": [0.0], \"y\": [0.0], \"z\": [0.0]}, {\"hoverinfo\": \"none\", \"mode\": \"none\", \"opacity\": 0.3, \"showlegend\": false, \"surfaceaxis\": 2, \"surfacecolor\": \"gray\", \"type\": \"scatter3d\", \"visible\": false, \"x\": [7.800000000000001, 0.0, 0.0, 7.800000000000001, 7.800000000000001], \"y\": [0.0, 0.0, 10.4, 10.4, 0.0], \"z\": [6.0125, 7.9625, 2.7625, 0.8125, 6.0125]}, {\"hoverinfo\": \"skip\", \"marker\": {\"color\": \"white\", \"opacity\": 1e-07, \"size\": 0}, \"mode\": \"markers\", \"showlegend\": false, \"type\": \"scatter3d\", \"x\": [0.0], \"y\": [0.0], \"z\": [0.0]}, {\"hoverinfo\": \"none\", \"mode\": \"none\", \"opacity\": 0.3, \"showlegend\": false, \"surfaceaxis\": 2, \"surfacecolor\": \"gray\", \"type\": \"scatter3d\", \"visible\": false, \"x\": [0.0, 0.0, 7.800000000000001, 7.800000000000001, 0.0], \"y\": [10.4, 0.0, 0.0, 10.4, 10.4], \"z\": [3.329999999999999, 8.53, 6.579999999999999, 1.379999999999999, 3.329999999999999]}, {\"hoverinfo\": \"skip\", \"marker\": {\"color\": \"white\", \"opacity\": 1e-07, \"size\": 0}, \"mode\": \"markers\", \"showlegend\": false, \"type\": \"scatter3d\", \"x\": [0.0], \"y\": [0.0], \"z\": [0.0]}, {\"hoverinfo\": \"none\", \"mode\": \"none\", \"opacity\": 0.3, \"showlegend\": false, \"surfaceaxis\": 2, \"surfacecolor\": \"gray\", \"type\": \"scatter3d\", \"visible\": false, \"x\": [0.0, 7.800000000000001, 7.800000000000001, 0.0, 0.0], \"y\": [10.4, 10.4, 0.0, 0.0, 10.4], \"z\": [3.8999999999999995, 1.9499999999999993, 7.1499999999999995, 9.1, 3.8999999999999995]}, {\"hoverinfo\": \"skip\", \"marker\": {\"color\": \"white\", \"opacity\": 1e-07, \"size\": 0}, \"mode\": \"markers\", \"showlegend\": false, \"type\": \"scatter3d\", \"x\": [0.0], \"y\": [0.0], \"z\": [0.0]}, {\"hoverinfo\": \"none\", \"mode\": \"none\", \"opacity\": 0.3, \"showlegend\": false, \"surfaceaxis\": 2, \"surfacecolor\": \"gray\", \"type\": \"scatter3d\", \"visible\": false, \"x\": [0.0, 0.0, 7.800000000000001, 7.800000000000001, 0.0], \"y\": [0.0, 10.4, 10.4, 0.0, 0.0], \"z\": [9.6675, 4.4675, 2.5175, 7.7175, 9.6675]}, {\"hoverinfo\": \"skip\", \"marker\": {\"color\": \"white\", \"opacity\": 1e-07, \"size\": 0}, \"mode\": \"markers\", \"showlegend\": false, \"type\": \"scatter3d\", \"x\": [0.0], \"y\": [0.0], \"z\": [0.0]}, {\"hoverinfo\": \"none\", \"mode\": \"none\", \"opacity\": 0.3, \"showlegend\": false, \"surfaceaxis\": 2, \"surfacecolor\": \"gray\", \"type\": \"scatter3d\", \"visible\": false, \"x\": [7.800000000000001, 7.800000000000001, 0.0, 0.0, 7.800000000000001], \"y\": [10.4, 0.0, 0.0, 10.4, 10.4], \"z\": [3.0875000000000012, 8.287500000000001, 10.2375, 5.0375000000000005, 3.0875000000000012]}, {\"hoverinfo\": \"skip\", \"marker\": {\"color\": \"white\", \"opacity\": 1e-07, \"size\": 0}, \"mode\": \"markers\", \"showlegend\": false, \"type\": \"scatter3d\", \"x\": [0.0], \"y\": [0.0], \"z\": [0.0]}, {\"hoverinfo\": \"none\", \"mode\": \"none\", \"opacity\": 0.3, \"showlegend\": false, \"surfaceaxis\": 2, \"surfacecolor\": \"gray\", \"type\": \"scatter3d\", \"visible\": false, \"x\": [7.800000000000001, 7.800000000000001, 0.0, 0.0, 7.800000000000001], \"y\": [10.4, 0.0, 0.0, 10.4, 10.4], \"z\": [3.6550000000000002, 8.855, 10.805, 5.6049999999999995, 3.6550000000000002]}, {\"hoverinfo\": \"skip\", \"marker\": {\"color\": \"white\", \"opacity\": 1e-07, \"size\": 0}, \"mode\": \"markers\", \"showlegend\": false, \"type\": \"scatter3d\", \"x\": [0.0], \"y\": [0.0], \"z\": [0.0]}, {\"hoverinfo\": \"none\", \"mode\": \"none\", \"opacity\": 0.3, \"showlegend\": false, \"surfaceaxis\": 2, \"surfacecolor\": \"gray\", \"type\": \"scatter3d\", \"visible\": false, \"x\": [7.800000000000001, 0.0, 0.0, 7.800000000000001, 7.800000000000001], \"y\": [10.4, 10.4, 0.0, 0.0, 10.4], \"z\": [4.2250000000000005, 6.175, 11.375, 9.425, 4.2250000000000005]}, {\"hoverinfo\": \"skip\", \"marker\": {\"color\": \"white\", \"opacity\": 1e-07, \"size\": 0}, \"mode\": \"markers\", \"showlegend\": false, \"type\": \"scatter3d\", \"x\": [0.0], \"y\": [0.0], \"z\": [0.0]}, {\"hoverinfo\": \"none\", \"mode\": \"none\", \"opacity\": 0.3, \"showlegend\": false, \"surfaceaxis\": 2, \"surfacecolor\": \"gray\", \"type\": \"scatter3d\", \"visible\": false, \"x\": [7.800000000000001, 0.0, 0.0, 7.800000000000001, 7.800000000000001], \"y\": [10.4, 10.4, 0.0, 0.0, 10.4], \"z\": [4.795000000000001, 6.745, 11.945, 9.995000000000001, 4.795000000000001]}, {\"hoverinfo\": \"skip\", \"marker\": {\"color\": \"white\", \"opacity\": 1e-07, \"size\": 0}, \"mode\": \"markers\", \"showlegend\": false, \"type\": \"scatter3d\", \"x\": [0.0], \"y\": [0.0], \"z\": [0.0]}, {\"hoverinfo\": \"none\", \"mode\": \"none\", \"opacity\": 0.3, \"showlegend\": false, \"surfaceaxis\": 2, \"surfacecolor\": \"gray\", \"type\": \"scatter3d\", \"visible\": false, \"x\": [7.800000000000001, 7.800000000000001, 0.0, 0.0, 7.800000000000001], \"y\": [0.0, 10.4, 10.4, 0.0, 0.0], \"z\": [10.5625, 5.3625, 7.312499999999999, 12.5125, 10.5625]}, {\"hoverinfo\": \"skip\", \"marker\": {\"color\": \"white\", \"opacity\": 1e-07, \"size\": 0}, \"mode\": \"markers\", \"showlegend\": false, \"type\": \"scatter3d\", \"x\": [0.0], \"y\": [0.0], \"z\": [0.0]}, {\"hoverinfo\": \"none\", \"mode\": \"none\", \"opacity\": 0.3, \"showlegend\": false, \"surfaceaxis\": 2, \"surfacecolor\": \"gray\", \"type\": \"scatter3d\", \"visible\": false, \"x\": [0.0, 7.800000000000001, 7.800000000000001, 0.0, 0.0], \"y\": [0.0, 0.0, 10.4, 10.4, 0.0], \"z\": [13.08, 11.129999999999999, 5.929999999999999, 7.88, 13.08]}, {\"hoverinfo\": \"skip\", \"marker\": {\"color\": \"white\", \"opacity\": 1e-07, \"size\": 0}, \"mode\": \"markers\", \"showlegend\": false, \"type\": \"scatter3d\", \"x\": [0.0], \"y\": [0.0], \"z\": [0.0]}, {\"hoverinfo\": \"none\", \"mode\": \"none\", \"opacity\": 0.3, \"showlegend\": false, \"surfaceaxis\": 2, \"surfacecolor\": \"gray\", \"type\": \"scatter3d\", \"visible\": false, \"x\": [0.0, 0.0, 7.800000000000001, 7.800000000000001, 0.0], \"y\": [0.0, 10.4, 10.4, 0.0, 0.0], \"z\": [13.65, 8.45, 6.499999999999999, 11.7, 13.65]}, {\"hoverinfo\": \"skip\", \"marker\": {\"color\": \"white\", \"opacity\": 1e-07, \"size\": 0}, \"mode\": \"markers\", \"showlegend\": false, \"type\": \"scatter3d\", \"x\": [0.0], \"y\": [0.0], \"z\": [0.0]}],                        {\"font\": {\"color\": \"#323232\", \"family\": \"Arial\"}, \"height\": 500, \"legend\": {\"font\": {\"size\": 13}, \"title\": {\"font\": {\"size\": 14}, \"text\": \"<b>Constraint(s)</b>\"}, \"x\": 0.39473684210526316, \"xanchor\": \"left\", \"y\": 1, \"yanchor\": \"top\"}, \"margin\": {\"b\": 0, \"l\": 0, \"r\": 0, \"t\": 33}, \"paper_bgcolor\": \"white\", \"plot_bgcolor\": \"#FAFAFA\", \"scene\": {\"aspectmode\": \"cube\", \"domain\": {\"x\": [0, 0.39473684210526316], \"y\": [0, 1]}, \"xaxis\": {\"gridcolor\": \"#CCCCCC\", \"gridwidth\": 1, \"linecolor\": \"#4D4D4D\", \"linewidth\": 2, \"range\": [0, 7.800000000000001], \"rangemode\": \"tozero\", \"showspikes\": false, \"tickcolor\": \"#4D4D4D\", \"ticks\": \"outside\", \"title\": {\"text\": \"x<sub>1</sub>\"}}, \"yaxis\": {\"gridcolor\": \"#CCCCCC\", \"gridwidth\": 1, \"linecolor\": \"#4D4D4D\", \"linewidth\": 2, \"range\": [0, 10.4], \"rangemode\": \"tozero\", \"showspikes\": false, \"tickcolor\": \"#4D4D4D\", \"ticks\": \"outside\", \"title\": {\"text\": \"x<sub>2</sub>\"}}, \"zaxis\": {\"gridcolor\": \"#CCCCCC\", \"gridwidth\": 1, \"linecolor\": \"#4D4D4D\", \"linewidth\": 2, \"range\": [0, 6.5], \"rangemode\": \"tozero\", \"showspikes\": false, \"tickcolor\": \"#4D4D4D\", \"ticks\": \"outside\", \"title\": {\"text\": \"x<sub>3</sub>\"}}}, \"sliders\": [{\"active\": 0, \"currentvalue\": {\"prefix\": \"Objective Value: \"}, \"len\": 0.4, \"lenmode\": \"fraction\", \"pad\": {\"b\": 0, \"l\": 0, \"r\": 0, \"t\": 50}, \"steps\": [{\"args\": [{\"visible\": [null, true, true, true, true, true, true, true, \"legendonly\", \"legendonly\", \"legendonly\", \"legendonly\", null, true, true, false, false, false, false, false, false, false, false, false, false, false, false, false, false, false, false, false, false, false, false, false, false, false, false, false, false, false, false, false, false, false, false, false, false, false, false, false, false, false, false, false, false, false, false, false, false, false, false, false, false]}], \"label\": \"0.0\", \"method\": \"update\"}, {\"args\": [{\"visible\": [null, true, true, true, true, true, true, true, \"legendonly\", \"legendonly\", \"legendonly\", \"legendonly\", null, false, false, true, true, false, false, false, false, false, false, false, false, false, false, false, false, false, false, false, false, false, false, false, false, false, false, false, false, false, false, false, false, false, false, false, false, false, false, false, false, false, false, false, false, false, false, false, false, false, false, false, false]}], \"label\": \"2.28\", \"method\": \"update\"}, {\"args\": [{\"visible\": [null, true, true, true, true, true, true, true, \"legendonly\", \"legendonly\", \"legendonly\", \"legendonly\", null, false, false, false, false, true, true, false, false, false, false, false, false, false, false, false, false, false, false, false, false, false, false, false, false, false, false, false, false, false, false, false, false, false, false, false, false, false, false, false, false, false, false, false, false, false, false, false, false, false, false, false, false]}], \"label\": \"4.55\", \"method\": \"update\"}, {\"args\": [{\"visible\": [null, true, true, true, true, true, true, true, \"legendonly\", \"legendonly\", \"legendonly\", \"legendonly\", null, false, false, false, false, false, false, true, true, false, false, false, false, false, false, false, false, false, false, false, false, false, false, false, false, false, false, false, false, false, false, false, false, false, false, false, false, false, false, false, false, false, false, false, false, false, false, false, false, false, false, false, false]}], \"label\": \"6.82\", \"method\": \"update\"}, {\"args\": [{\"visible\": [null, true, true, true, true, true, true, true, \"legendonly\", \"legendonly\", \"legendonly\", \"legendonly\", null, false, false, false, false, false, false, false, false, true, true, false, false, false, false, false, false, false, false, false, false, false, false, false, false, false, false, false, false, false, false, false, false, false, false, false, false, false, false, false, false, false, false, false, false, false, false, false, false, false, false, false, false]}], \"label\": \"9.1\", \"method\": \"update\"}, {\"args\": [{\"visible\": [null, true, true, true, true, true, true, true, \"legendonly\", \"legendonly\", \"legendonly\", \"legendonly\", null, false, false, false, false, false, false, false, false, false, false, true, true, false, false, false, false, false, false, false, false, false, false, false, false, false, false, false, false, false, false, false, false, false, false, false, false, false, false, false, false, false, false, false, false, false, false, false, false, false, false, false, false]}], \"label\": \"11.38\", \"method\": \"update\"}, {\"args\": [{\"visible\": [null, true, true, true, true, true, true, true, \"legendonly\", \"legendonly\", \"legendonly\", \"legendonly\", null, false, false, false, false, false, false, false, false, false, false, false, false, true, true, false, false, false, false, false, false, false, false, false, false, false, false, false, false, false, false, false, false, false, false, false, false, false, false, false, false, false, false, false, false, false, false, false, false, false, false, false, false]}], \"label\": \"13.65\", \"method\": \"update\"}, {\"args\": [{\"visible\": [null, true, true, true, true, true, true, true, \"legendonly\", \"legendonly\", \"legendonly\", \"legendonly\", null, false, false, false, false, false, false, false, false, false, false, false, false, false, false, true, true, false, false, false, false, false, false, false, false, false, false, false, false, false, false, false, false, false, false, false, false, false, false, false, false, false, false, false, false, false, false, false, false, false, false, false, false]}], \"label\": \"15.92\", \"method\": \"update\"}, {\"args\": [{\"visible\": [null, true, true, true, true, true, true, true, \"legendonly\", \"legendonly\", \"legendonly\", \"legendonly\", null, false, false, false, false, false, false, false, false, false, false, false, false, false, false, false, false, true, true, false, false, false, false, false, false, false, false, false, false, false, false, false, false, false, false, false, false, false, false, false, false, false, false, false, false, false, false, false, false, false, false, false, false]}], \"label\": \"18.2\", \"method\": \"update\"}, {\"args\": [{\"visible\": [null, true, true, true, true, true, true, true, \"legendonly\", \"legendonly\", \"legendonly\", \"legendonly\", null, false, false, false, false, false, false, false, false, false, false, false, false, false, false, false, false, false, false, true, true, false, false, false, false, false, false, false, false, false, false, false, false, false, false, false, false, false, false, false, false, false, false, false, false, false, false, false, false, false, false, false, false]}], \"label\": \"20.47\", \"method\": \"update\"}, {\"args\": [{\"visible\": [null, true, true, true, true, true, true, true, \"legendonly\", \"legendonly\", \"legendonly\", \"legendonly\", null, false, false, false, false, false, false, false, false, false, false, false, false, false, false, false, false, false, false, false, false, true, true, false, false, false, false, false, false, false, false, false, false, false, false, false, false, false, false, false, false, false, false, false, false, false, false, false, false, false, false, false, false]}], \"label\": \"22.75\", \"method\": \"update\"}, {\"args\": [{\"visible\": [null, true, true, true, true, true, true, true, \"legendonly\", \"legendonly\", \"legendonly\", \"legendonly\", null, false, false, false, false, false, false, false, false, false, false, false, false, false, false, false, false, false, false, false, false, false, false, true, true, false, false, false, false, false, false, false, false, false, false, false, false, false, false, false, false, false, false, false, false, false, false, false, false, false, false, false, false]}], \"label\": \"25.02\", \"method\": \"update\"}, {\"args\": [{\"visible\": [null, true, true, true, true, true, true, true, \"legendonly\", \"legendonly\", \"legendonly\", \"legendonly\", null, false, false, false, false, false, false, false, false, false, false, false, false, false, false, false, false, false, false, false, false, false, false, false, false, true, true, false, false, false, false, false, false, false, false, false, false, false, false, false, false, false, false, false, false, false, false, false, false, false, false, false, false]}], \"label\": \"27.3\", \"method\": \"update\"}, {\"args\": [{\"visible\": [null, true, true, true, true, true, true, true, \"legendonly\", \"legendonly\", \"legendonly\", \"legendonly\", null, false, false, false, false, false, false, false, false, false, false, false, false, false, false, false, false, false, false, false, false, false, false, false, false, false, false, true, true, false, false, false, false, false, false, false, false, false, false, false, false, false, false, false, false, false, false, false, false, false, false, false, false]}], \"label\": \"29.0\", \"method\": \"update\"}, {\"args\": [{\"visible\": [null, true, true, true, true, true, true, true, \"legendonly\", \"legendonly\", \"legendonly\", \"legendonly\", null, false, false, false, false, false, false, false, false, false, false, false, false, false, false, false, false, false, false, false, false, false, false, false, false, false, false, false, false, true, true, false, false, false, false, false, false, false, false, false, false, false, false, false, false, false, false, false, false, false, false, false, false]}], \"label\": \"29.58\", \"method\": \"update\"}, {\"args\": [{\"visible\": [null, true, true, true, true, true, true, true, \"legendonly\", \"legendonly\", \"legendonly\", \"legendonly\", null, false, false, false, false, false, false, false, false, false, false, false, false, false, false, false, false, false, false, false, false, false, false, false, false, false, false, false, false, false, false, true, true, false, false, false, false, false, false, false, false, false, false, false, false, false, false, false, false, false, false, false, false]}], \"label\": \"31.85\", \"method\": \"update\"}, {\"args\": [{\"visible\": [null, true, true, true, true, true, true, true, \"legendonly\", \"legendonly\", \"legendonly\", \"legendonly\", null, false, false, false, false, false, false, false, false, false, false, false, false, false, false, false, false, false, false, false, false, false, false, false, false, false, false, false, false, false, false, false, false, true, true, false, false, false, false, false, false, false, false, false, false, false, false, false, false, false, false, false, false]}], \"label\": \"34.12\", \"method\": \"update\"}, {\"args\": [{\"visible\": [null, true, true, true, true, true, true, true, \"legendonly\", \"legendonly\", \"legendonly\", \"legendonly\", null, false, false, false, false, false, false, false, false, false, false, false, false, false, false, false, false, false, false, false, false, false, false, false, false, false, false, false, false, false, false, false, false, false, false, true, true, false, false, false, false, false, false, false, false, false, false, false, false, false, false, false, false]}], \"label\": \"36.4\", \"method\": \"update\"}, {\"args\": [{\"visible\": [null, true, true, true, true, true, true, true, \"legendonly\", \"legendonly\", \"legendonly\", \"legendonly\", null, false, false, false, false, false, false, false, false, false, false, false, false, false, false, false, false, false, false, false, false, false, false, false, false, false, false, false, false, false, false, false, false, false, false, false, false, true, true, false, false, false, false, false, false, false, false, false, false, false, false, false, false]}], \"label\": \"38.67\", \"method\": \"update\"}, {\"args\": [{\"visible\": [null, true, true, true, true, true, true, true, \"legendonly\", \"legendonly\", \"legendonly\", \"legendonly\", null, false, false, false, false, false, false, false, false, false, false, false, false, false, false, false, false, false, false, false, false, false, false, false, false, false, false, false, false, false, false, false, false, false, false, false, false, false, false, true, true, false, false, false, false, false, false, false, false, false, false, false, false]}], \"label\": \"40.95\", \"method\": \"update\"}, {\"args\": [{\"visible\": [null, true, true, true, true, true, true, true, \"legendonly\", \"legendonly\", \"legendonly\", \"legendonly\", null, false, false, false, false, false, false, false, false, false, false, false, false, false, false, false, false, false, false, false, false, false, false, false, false, false, false, false, false, false, false, false, false, false, false, false, false, false, false, false, false, true, true, false, false, false, false, false, false, false, false, false, false]}], \"label\": \"43.22\", \"method\": \"update\"}, {\"args\": [{\"visible\": [null, true, true, true, true, true, true, true, \"legendonly\", \"legendonly\", \"legendonly\", \"legendonly\", null, false, false, false, false, false, false, false, false, false, false, false, false, false, false, false, false, false, false, false, false, false, false, false, false, false, false, false, false, false, false, false, false, false, false, false, false, false, false, false, false, false, false, true, true, false, false, false, false, false, false, false, false]}], \"label\": \"45.5\", \"method\": \"update\"}, {\"args\": [{\"visible\": [null, true, true, true, true, true, true, true, \"legendonly\", \"legendonly\", \"legendonly\", \"legendonly\", null, false, false, false, false, false, false, false, false, false, false, false, false, false, false, false, false, false, false, false, false, false, false, false, false, false, false, false, false, false, false, false, false, false, false, false, false, false, false, false, false, false, false, false, false, true, true, false, false, false, false, false, false]}], \"label\": \"47.78\", \"method\": \"update\"}, {\"args\": [{\"visible\": [null, true, true, true, true, true, true, true, \"legendonly\", \"legendonly\", \"legendonly\", \"legendonly\", null, false, false, false, false, false, false, false, false, false, false, false, false, false, false, false, false, false, false, false, false, false, false, false, false, false, false, false, false, false, false, false, false, false, false, false, false, false, false, false, false, false, false, false, false, false, false, true, true, false, false, false, false]}], \"label\": \"50.05\", \"method\": \"update\"}, {\"args\": [{\"visible\": [null, true, true, true, true, true, true, true, \"legendonly\", \"legendonly\", \"legendonly\", \"legendonly\", null, false, false, false, false, false, false, false, false, false, false, false, false, false, false, false, false, false, false, false, false, false, false, false, false, false, false, false, false, false, false, false, false, false, false, false, false, false, false, false, false, false, false, false, false, false, false, false, false, true, true, false, false]}], \"label\": \"52.32\", \"method\": \"update\"}, {\"args\": [{\"visible\": [null, true, true, true, true, true, true, true, \"legendonly\", \"legendonly\", \"legendonly\", \"legendonly\", null, false, false, false, false, false, false, false, false, false, false, false, false, false, false, false, false, false, false, false, false, false, false, false, false, false, false, false, false, false, false, false, false, false, false, false, false, false, false, false, false, false, false, false, false, false, false, false, false, false, false, true, true]}], \"label\": \"54.6\", \"method\": \"update\"}], \"tickcolor\": \"white\", \"ticklen\": 0, \"x\": 0.6052631578947368, \"xanchor\": \"left\", \"y\": 0.01, \"yanchor\": \"bottom\"}], \"template\": {\"data\": {\"bar\": [{\"error_x\": {\"color\": \"#2a3f5f\"}, \"error_y\": {\"color\": \"#2a3f5f\"}, \"marker\": {\"line\": {\"color\": \"#E5ECF6\", \"width\": 0.5}}, \"type\": \"bar\"}], \"barpolar\": [{\"marker\": {\"line\": {\"color\": \"#E5ECF6\", \"width\": 0.5}}, \"type\": \"barpolar\"}], \"carpet\": [{\"aaxis\": {\"endlinecolor\": \"#2a3f5f\", \"gridcolor\": \"white\", \"linecolor\": \"white\", \"minorgridcolor\": \"white\", \"startlinecolor\": \"#2a3f5f\"}, \"baxis\": {\"endlinecolor\": \"#2a3f5f\", \"gridcolor\": \"white\", \"linecolor\": \"white\", \"minorgridcolor\": \"white\", \"startlinecolor\": \"#2a3f5f\"}, \"type\": \"carpet\"}], \"choropleth\": [{\"colorbar\": {\"outlinewidth\": 0, \"ticks\": \"\"}, \"type\": \"choropleth\"}], \"contour\": [{\"colorbar\": {\"outlinewidth\": 0, \"ticks\": \"\"}, \"colorscale\": [[0.0, \"#0d0887\"], [0.1111111111111111, \"#46039f\"], [0.2222222222222222, \"#7201a8\"], [0.3333333333333333, \"#9c179e\"], [0.4444444444444444, \"#bd3786\"], [0.5555555555555556, \"#d8576b\"], [0.6666666666666666, \"#ed7953\"], [0.7777777777777778, \"#fb9f3a\"], [0.8888888888888888, \"#fdca26\"], [1.0, \"#f0f921\"]], \"type\": \"contour\"}], \"contourcarpet\": [{\"colorbar\": {\"outlinewidth\": 0, \"ticks\": \"\"}, \"type\": \"contourcarpet\"}], \"heatmap\": [{\"colorbar\": {\"outlinewidth\": 0, \"ticks\": \"\"}, \"colorscale\": [[0.0, \"#0d0887\"], [0.1111111111111111, \"#46039f\"], [0.2222222222222222, \"#7201a8\"], [0.3333333333333333, \"#9c179e\"], [0.4444444444444444, \"#bd3786\"], [0.5555555555555556, \"#d8576b\"], [0.6666666666666666, \"#ed7953\"], [0.7777777777777778, \"#fb9f3a\"], [0.8888888888888888, \"#fdca26\"], [1.0, \"#f0f921\"]], \"type\": \"heatmap\"}], \"heatmapgl\": [{\"colorbar\": {\"outlinewidth\": 0, \"ticks\": \"\"}, \"colorscale\": [[0.0, \"#0d0887\"], [0.1111111111111111, \"#46039f\"], [0.2222222222222222, \"#7201a8\"], [0.3333333333333333, \"#9c179e\"], [0.4444444444444444, \"#bd3786\"], [0.5555555555555556, \"#d8576b\"], [0.6666666666666666, \"#ed7953\"], [0.7777777777777778, \"#fb9f3a\"], [0.8888888888888888, \"#fdca26\"], [1.0, \"#f0f921\"]], \"type\": \"heatmapgl\"}], \"histogram\": [{\"marker\": {\"colorbar\": {\"outlinewidth\": 0, \"ticks\": \"\"}}, \"type\": \"histogram\"}], \"histogram2d\": [{\"colorbar\": {\"outlinewidth\": 0, \"ticks\": \"\"}, \"colorscale\": [[0.0, \"#0d0887\"], [0.1111111111111111, \"#46039f\"], [0.2222222222222222, \"#7201a8\"], [0.3333333333333333, \"#9c179e\"], [0.4444444444444444, \"#bd3786\"], [0.5555555555555556, \"#d8576b\"], [0.6666666666666666, \"#ed7953\"], [0.7777777777777778, \"#fb9f3a\"], [0.8888888888888888, \"#fdca26\"], [1.0, \"#f0f921\"]], \"type\": \"histogram2d\"}], \"histogram2dcontour\": [{\"colorbar\": {\"outlinewidth\": 0, \"ticks\": \"\"}, \"colorscale\": [[0.0, \"#0d0887\"], [0.1111111111111111, \"#46039f\"], [0.2222222222222222, \"#7201a8\"], [0.3333333333333333, \"#9c179e\"], [0.4444444444444444, \"#bd3786\"], [0.5555555555555556, \"#d8576b\"], [0.6666666666666666, \"#ed7953\"], [0.7777777777777778, \"#fb9f3a\"], [0.8888888888888888, \"#fdca26\"], [1.0, \"#f0f921\"]], \"type\": \"histogram2dcontour\"}], \"mesh3d\": [{\"colorbar\": {\"outlinewidth\": 0, \"ticks\": \"\"}, \"type\": \"mesh3d\"}], \"parcoords\": [{\"line\": {\"colorbar\": {\"outlinewidth\": 0, \"ticks\": \"\"}}, \"type\": \"parcoords\"}], \"pie\": [{\"automargin\": true, \"type\": \"pie\"}], \"scatter\": [{\"marker\": {\"colorbar\": {\"outlinewidth\": 0, \"ticks\": \"\"}}, \"type\": \"scatter\"}], \"scatter3d\": [{\"line\": {\"colorbar\": {\"outlinewidth\": 0, \"ticks\": \"\"}}, \"marker\": {\"colorbar\": {\"outlinewidth\": 0, \"ticks\": \"\"}}, \"type\": \"scatter3d\"}], \"scattercarpet\": [{\"marker\": {\"colorbar\": {\"outlinewidth\": 0, \"ticks\": \"\"}}, \"type\": \"scattercarpet\"}], \"scattergeo\": [{\"marker\": {\"colorbar\": {\"outlinewidth\": 0, \"ticks\": \"\"}}, \"type\": \"scattergeo\"}], \"scattergl\": [{\"marker\": {\"colorbar\": {\"outlinewidth\": 0, \"ticks\": \"\"}}, \"type\": \"scattergl\"}], \"scattermapbox\": [{\"marker\": {\"colorbar\": {\"outlinewidth\": 0, \"ticks\": \"\"}}, \"type\": \"scattermapbox\"}], \"scatterpolar\": [{\"marker\": {\"colorbar\": {\"outlinewidth\": 0, \"ticks\": \"\"}}, \"type\": \"scatterpolar\"}], \"scatterpolargl\": [{\"marker\": {\"colorbar\": {\"outlinewidth\": 0, \"ticks\": \"\"}}, \"type\": \"scatterpolargl\"}], \"scatterternary\": [{\"marker\": {\"colorbar\": {\"outlinewidth\": 0, \"ticks\": \"\"}}, \"type\": \"scatterternary\"}], \"surface\": [{\"colorbar\": {\"outlinewidth\": 0, \"ticks\": \"\"}, \"colorscale\": [[0.0, \"#0d0887\"], [0.1111111111111111, \"#46039f\"], [0.2222222222222222, \"#7201a8\"], [0.3333333333333333, \"#9c179e\"], [0.4444444444444444, \"#bd3786\"], [0.5555555555555556, \"#d8576b\"], [0.6666666666666666, \"#ed7953\"], [0.7777777777777778, \"#fb9f3a\"], [0.8888888888888888, \"#fdca26\"], [1.0, \"#f0f921\"]], \"type\": \"surface\"}], \"table\": [{\"cells\": {\"fill\": {\"color\": \"#EBF0F8\"}, \"line\": {\"color\": \"white\"}}, \"header\": {\"fill\": {\"color\": \"#C8D4E3\"}, \"line\": {\"color\": \"white\"}}, \"type\": \"table\"}]}, \"layout\": {\"annotationdefaults\": {\"arrowcolor\": \"#2a3f5f\", \"arrowhead\": 0, \"arrowwidth\": 1}, \"coloraxis\": {\"colorbar\": {\"outlinewidth\": 0, \"ticks\": \"\"}}, \"colorscale\": {\"diverging\": [[0, \"#8e0152\"], [0.1, \"#c51b7d\"], [0.2, \"#de77ae\"], [0.3, \"#f1b6da\"], [0.4, \"#fde0ef\"], [0.5, \"#f7f7f7\"], [0.6, \"#e6f5d0\"], [0.7, \"#b8e186\"], [0.8, \"#7fbc41\"], [0.9, \"#4d9221\"], [1, \"#276419\"]], \"sequential\": [[0.0, \"#0d0887\"], [0.1111111111111111, \"#46039f\"], [0.2222222222222222, \"#7201a8\"], [0.3333333333333333, \"#9c179e\"], [0.4444444444444444, \"#bd3786\"], [0.5555555555555556, \"#d8576b\"], [0.6666666666666666, \"#ed7953\"], [0.7777777777777778, \"#fb9f3a\"], [0.8888888888888888, \"#fdca26\"], [1.0, \"#f0f921\"]], \"sequentialminus\": [[0.0, \"#0d0887\"], [0.1111111111111111, \"#46039f\"], [0.2222222222222222, \"#7201a8\"], [0.3333333333333333, \"#9c179e\"], [0.4444444444444444, \"#bd3786\"], [0.5555555555555556, \"#d8576b\"], [0.6666666666666666, \"#ed7953\"], [0.7777777777777778, \"#fb9f3a\"], [0.8888888888888888, \"#fdca26\"], [1.0, \"#f0f921\"]]}, \"colorway\": [\"#636efa\", \"#EF553B\", \"#00cc96\", \"#ab63fa\", \"#FFA15A\", \"#19d3f3\", \"#FF6692\", \"#B6E880\", \"#FF97FF\", \"#FECB52\"], \"font\": {\"color\": \"#2a3f5f\"}, \"geo\": {\"bgcolor\": \"white\", \"lakecolor\": \"white\", \"landcolor\": \"#E5ECF6\", \"showlakes\": true, \"showland\": true, \"subunitcolor\": \"white\"}, \"hoverlabel\": {\"align\": \"left\"}, \"hovermode\": \"closest\", \"mapbox\": {\"style\": \"light\"}, \"paper_bgcolor\": \"white\", \"plot_bgcolor\": \"#E5ECF6\", \"polar\": {\"angularaxis\": {\"gridcolor\": \"white\", \"linecolor\": \"white\", \"ticks\": \"\"}, \"bgcolor\": \"#E5ECF6\", \"radialaxis\": {\"gridcolor\": \"white\", \"linecolor\": \"white\", \"ticks\": \"\"}}, \"scene\": {\"xaxis\": {\"backgroundcolor\": \"#E5ECF6\", \"gridcolor\": \"white\", \"gridwidth\": 2, \"linecolor\": \"white\", \"showbackground\": true, \"ticks\": \"\", \"zerolinecolor\": \"white\"}, \"yaxis\": {\"backgroundcolor\": \"#E5ECF6\", \"gridcolor\": \"white\", \"gridwidth\": 2, \"linecolor\": \"white\", \"showbackground\": true, \"ticks\": \"\", \"zerolinecolor\": \"white\"}, \"zaxis\": {\"backgroundcolor\": \"#E5ECF6\", \"gridcolor\": \"white\", \"gridwidth\": 2, \"linecolor\": \"white\", \"showbackground\": true, \"ticks\": \"\", \"zerolinecolor\": \"white\"}}, \"shapedefaults\": {\"line\": {\"color\": \"#2a3f5f\"}}, \"ternary\": {\"aaxis\": {\"gridcolor\": \"white\", \"linecolor\": \"white\", \"ticks\": \"\"}, \"baxis\": {\"gridcolor\": \"white\", \"linecolor\": \"white\", \"ticks\": \"\"}, \"bgcolor\": \"#E5ECF6\", \"caxis\": {\"gridcolor\": \"white\", \"linecolor\": \"white\", \"ticks\": \"\"}}, \"title\": {\"x\": 0.05}, \"xaxis\": {\"automargin\": true, \"gridcolor\": \"white\", \"linecolor\": \"white\", \"ticks\": \"\", \"title\": {\"standoff\": 15}, \"zerolinecolor\": \"white\", \"zerolinewidth\": 2}, \"yaxis\": {\"automargin\": true, \"gridcolor\": \"white\", \"linecolor\": \"white\", \"ticks\": \"\", \"title\": {\"standoff\": 15}, \"zerolinecolor\": \"white\", \"zerolinewidth\": 2}}}, \"title\": {\"font\": {\"color\": \"#00285F\", \"size\": 18}, \"text\": \"<b>Geometric Interpretation of LPs</b>\", \"x\": 0, \"xanchor\": \"left\", \"y\": 0.99, \"yanchor\": \"top\"}, \"width\": 950, \"xaxis\": {\"domain\": [0, 0.39473684210526316], \"gridcolor\": \"#CCCCCC\", \"gridwidth\": 1, \"linecolor\": \"#4D4D4D\", \"linewidth\": 2, \"rangemode\": \"tozero\", \"showspikes\": false, \"tickcolor\": \"#4D4D4D\", \"ticks\": \"outside\", \"title\": {\"text\": \"x<sub>1</sub>\"}}, \"yaxis\": {\"domain\": [0, 1], \"gridcolor\": \"#CCCCCC\", \"gridwidth\": 1, \"linecolor\": \"#4D4D4D\", \"linewidth\": 2, \"rangemode\": \"tozero\", \"showspikes\": false, \"tickcolor\": \"#4D4D4D\", \"ticks\": \"outside\", \"title\": {\"text\": \"x<sub>2</sub>\"}}},                        {\"responsive\": true}                    ).then(function(){\n",
              "                            \n",
              "var gd = document.getElementById('062aec7c-a7a3-4106-9db6-be01617251ab');\n",
              "var x = new MutationObserver(function (mutations, observer) {{\n",
              "        var display = window.getComputedStyle(gd).display;\n",
              "        if (!display || display === 'none') {{\n",
              "            console.log([gd, 'removed!']);\n",
              "            Plotly.purge(gd);\n",
              "            observer.disconnect();\n",
              "        }}\n",
              "}});\n",
              "\n",
              "// Listen for the removal of the full notebook cells\n",
              "var notebookContainer = gd.closest('#notebook-container');\n",
              "if (notebookContainer) {{\n",
              "    x.observe(notebookContainer, {childList: true});\n",
              "}}\n",
              "\n",
              "// Listen for the clearing of the current output cell\n",
              "var outputEl = gd.closest('.output');\n",
              "if (outputEl) {{\n",
              "    x.observe(outputEl, {childList: true});\n",
              "}}\n",
              "\n",
              "                        })                };                            </script>        </div>\n",
              "</body>\n",
              "</html>"
            ]
          },
          "metadata": {
            "tags": []
          }
        }
      ]
    },
    {
      "cell_type": "markdown",
      "metadata": {
        "id": "L09Ymk5EuHl3"
      },
      "source": [
        "**Q34:** Hover over the point (6,6,2) where $x_1 = 6, x_2 = 6,$ and $x_3 = 2$. Note which variables are not in the dictionary. Toggle the corresponding constraints on. What do you notice?\n",
        "\n",
        "**A:** x3 is not in the dictionary at this point. "
      ]
    },
    {
      "cell_type": "markdown",
      "metadata": {
        "id": "nZCEsuTluHl4"
      },
      "source": [
        "**Q35:** Look at some other corner points and do as you did in Q34. Do you see a similar pattern? Combining what you learned in Q33, what can you say about the relationship between the variables not in the dictionary at some corner point, and the corresponding constraints?\n",
        "\n",
        "**A:** At a corner point, the varaibles not in the dictionary are at a minimum"
      ]
    },
    {
      "cell_type": "markdown",
      "metadata": {
        "id": "cRx8JGGkuHl4"
      },
      "source": [
        "**Q36:** What geometric feature do feasible solutions for a dictionary correspond to?\n",
        "\n",
        "**A:** Feasable solutions are represented geometrically by the red part being enclosed inside the shape. "
      ]
    },
    {
      "cell_type": "markdown",
      "metadata": {
        "id": "sp0tmlxmuHl4"
      },
      "source": [
        "## Part IV: Pivot Rules"
      ]
    },
    {
      "cell_type": "markdown",
      "metadata": {
        "id": "_UPRwBwyuHl5"
      },
      "source": [
        "The first step in an iteration of simplex is to choose an increasing variable. Sometimes, there are multiple options since multiple variables have a positive coefficent in the objective function. Here, we will explore what this decison translates to geometrically.\n",
        "\n",
        "In this section, we will use a special LP commonly referred to as the Klee-Minty Cube.\n",
        "\n",
        "$$\\begin{align*}\n",
        "\\max \\quad & 4x_1+ 2x_2+ x_3\\\\\n",
        "\\text{s.t.} \\quad\\ & x_1 \\leq 5 \\\\\n",
        "& 4x_1 + x_2 \\leq 25 \\\\\n",
        "& 8x_1 + 4x_2 + x_3 \\leq 125 \\\\\n",
        "& x_1, x_2, x_3 \\geq 0.\n",
        "\\end{align*}$$\n",
        "\n",
        "Furthermore, we will use an optional parameter called `rule` for the `simplex_visual()` function. This rule tells simplex which varaible to choose as an increasing variable when there are multiple options."
      ]
    },
    {
      "cell_type": "code",
      "metadata": {
        "id": "t5x490WluHl5"
      },
      "source": [
        "simplex_visual(ex.KLEE_MINTY_3D_LP, rule='dantzig', initial_solution=np.array([[0],[0],[0]])).show()"
      ],
      "execution_count": null,
      "outputs": []
    },
    {
      "cell_type": "markdown",
      "metadata": {
        "id": "RI40kx9guHl7"
      },
      "source": [
        "**Q37:** Use the iteration slider to examine the path of simplex on this LP. What do you notice?\n",
        "\n",
        "**A:** As we move the slider, the value increases until it hits a maximum, and then decreases. "
      ]
    },
    {
      "cell_type": "markdown",
      "metadata": {
        "id": "zvZ2eHGCuHl7"
      },
      "source": [
        "Above, we used a pivot rule proposed by Dantzig. In this rule, the variable with the largest positive coefficient in the objective function enters the dictionary. Go through the iterations again to verify this.\n",
        "\n",
        "Let us consider another pivot rule proposed by Bland, a professor here at Cornell. In his rule, of the variables with positive coefficents in the objective function, the one with the smallest index enters. Let us examine the path of simplex using this pivot rule! Again, look at the dictionary form LP at every iteration."
      ]
    },
    {
      "cell_type": "code",
      "metadata": {
        "id": "mR6SqAwOuHl7"
      },
      "source": [
        "simplex_visual(ex.KLEE_MINTY_3D_LP,rule='bland', initial_solution=np.array([[0],[0],[0]])).show()"
      ],
      "execution_count": null,
      "outputs": []
    },
    {
      "cell_type": "markdown",
      "metadata": {
        "id": "7z2ZxfHfuHl9"
      },
      "source": [
        "**Q38:** What is the difference between the path of simplex using Dantzig's rule and Bland's rule?\n",
        "\n",
        "**A:** "
      ]
    },
    {
      "cell_type": "markdown",
      "metadata": {
        "id": "tSVPrWhOuHl9"
      },
      "source": [
        "Can you do any better? By setting `rule='manual_select'`, you can choose the entering variable explicitly at each simplex iteration. \n",
        "\n",
        "**Q39:** Can you do better than 5 iterations? How many paths can you find? (By my count, there are 7)\n",
        "\n",
        "**A:** "
      ]
    },
    {
      "cell_type": "code",
      "metadata": {
        "id": "q2Yjs95OuHl-"
      },
      "source": [
        "simplex_visual(ex.KLEE_MINTY_3D_LP,rule='manual_select', initial_solution=np.array([[0],[0],[0]])).show()"
      ],
      "execution_count": null,
      "outputs": []
    },
    {
      "cell_type": "markdown",
      "metadata": {
        "id": "8NkutPafuHl_"
      },
      "source": [
        "**Q40:** What does the choice of increasing variable correspond to geometrically?\n",
        "\n",
        "**A:** "
      ]
    },
    {
      "cell_type": "markdown",
      "metadata": {
        "id": "oURvU7IvuHmA"
      },
      "source": [
        "**Q41:** Are there any paths you could visualize taking to the optimal solution that `rule='manual_select'` prevented you from taking? If yes, give an example and explain why it is not a valid path for simplex to take. (Hint: Look at the objective value after each simplex iteration.)\n",
        "\n",
        "**A:** "
      ]
    },
    {
      "cell_type": "markdown",
      "metadata": {
        "id": "fz0_WImNuHmA"
      },
      "source": [
        "# Part V: Creating LPs in GILP (Optional)"
      ]
    },
    {
      "cell_type": "markdown",
      "metadata": {
        "id": "vYdqpGtHuHmA"
      },
      "source": [
        "We can also create our own LPs! First, we must import the `LP` class. "
      ]
    },
    {
      "cell_type": "code",
      "metadata": {
        "id": "7TrwVH8-uHmA"
      },
      "source": [
        "from gilp.simplex import LP"
      ],
      "execution_count": null,
      "outputs": []
    },
    {
      "cell_type": "markdown",
      "metadata": {
        "id": "IYB81mHnuHmC"
      },
      "source": [
        "Let us create the following LP.\n",
        "\n",
        "$$\\begin{align*}\n",
        "\\max \\quad & 3x_1+2x_2\\\\\n",
        "\\text{s.t.} \\quad & 2x_1 + 1x_2 \\leq 6 \\\\\n",
        "\\quad & 0x_1 + 1x_2 \\leq 2 \\\\\n",
        "\\quad & x_1, x_2 \\geq 0 \\\\\n",
        "\\end{align*}$$\n",
        "\n",
        "We will create this LP by specifying 3 arrays of coefficents. We define the NumPy arrays `A`, `b`, and `c` and then pass them to the `LP` class to create the LP."
      ]
    },
    {
      "cell_type": "code",
      "metadata": {
        "id": "QWu8BCq8uHmF"
      },
      "source": [
        "A = np.array([[2,1],  # LHS constraint coefficents\n",
        "              [0,1]])\n",
        "b = np.array([6,2])  # RHS constraint coefficents\n",
        "c = np.array([3,2])  # objective function coefficents\n",
        "lp = LP(A,b,c)"
      ],
      "execution_count": null,
      "outputs": []
    },
    {
      "cell_type": "markdown",
      "metadata": {
        "id": "UjF9etaWuHmG"
      },
      "source": [
        "Let's visualize it!"
      ]
    },
    {
      "cell_type": "code",
      "metadata": {
        "id": "l0hq52E0uHmH"
      },
      "source": [
        "lp_visual(lp).show()"
      ],
      "execution_count": null,
      "outputs": []
    },
    {
      "cell_type": "markdown",
      "metadata": {
        "id": "eTy0yYb3uHmI"
      },
      "source": [
        "... and solve it!"
      ]
    },
    {
      "cell_type": "code",
      "metadata": {
        "id": "ai9nC7ZiuHmJ"
      },
      "source": [
        "simplex_visual(lp, initial_solution=np.array([[0],[0]])).show()"
      ],
      "execution_count": null,
      "outputs": []
    }
  ]
}