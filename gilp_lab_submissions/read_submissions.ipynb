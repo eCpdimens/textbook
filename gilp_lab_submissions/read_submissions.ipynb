{
 "cells": [
  {
   "cell_type": "code",
   "execution_count": null,
   "metadata": {},
   "outputs": [],
   "source": [
    "import pandas as pd"
   ]
  },
  {
   "cell_type": "code",
   "execution_count": null,
   "metadata": {},
   "outputs": [],
   "source": [
    "simplex_df = pd.read_csv('simplex_submissions.csv', index_col=0)\n",
    "sum(((len(simplex_df) - simplex_df.isna().sum()) / len(simplex_df))[2:46])/44"
   ]
  },
  {
   "cell_type": "code",
   "execution_count": null,
   "metadata": {},
   "outputs": [],
   "source": [
    "bnb_df = pd.read_csv('bnb_submissions.csv', index_col=0)\n",
    "sum(((len(bnb_df) - bnb_df.isna().sum()) / len(bnb_df))[2:43])/41"
   ]
  }
 ],
 "metadata": {
  "language_info": {
   "name": "python"
  }
 },
 "nbformat": 4,
 "nbformat_minor": 4
}
