{
 "cells": [
  {
   "cell_type": "code",
   "execution_count": 1,
   "metadata": {
    "scrolled": true
   },
   "outputs": [
    {
     "data": {
      "text/html": [
       "\n",
       "    <div class=\"bk-root\">\n",
       "        <a href=\"https://bokeh.org\" target=\"_blank\" class=\"bk-logo bk-logo-small bk-logo-notebook\"></a>\n",
       "        <span id=\"1001\">Loading BokehJS ...</span>\n",
       "    </div>"
      ]
     },
     "metadata": {},
     "output_type": "display_data"
    },
    {
     "data": {
      "application/javascript": [
       "\n",
       "(function(root) {\n",
       "  function now() {\n",
       "    return new Date();\n",
       "  }\n",
       "\n",
       "  var force = true;\n",
       "\n",
       "  if (typeof root._bokeh_onload_callbacks === \"undefined\" || force === true) {\n",
       "    root._bokeh_onload_callbacks = [];\n",
       "    root._bokeh_is_loading = undefined;\n",
       "  }\n",
       "\n",
       "  var JS_MIME_TYPE = 'application/javascript';\n",
       "  var HTML_MIME_TYPE = 'text/html';\n",
       "  var EXEC_MIME_TYPE = 'application/vnd.bokehjs_exec.v0+json';\n",
       "  var CLASS_NAME = 'output_bokeh rendered_html';\n",
       "\n",
       "  /**\n",
       "   * Render data to the DOM node\n",
       "   */\n",
       "  function render(props, node) {\n",
       "    var script = document.createElement(\"script\");\n",
       "    node.appendChild(script);\n",
       "  }\n",
       "\n",
       "  /**\n",
       "   * Handle when an output is cleared or removed\n",
       "   */\n",
       "  function handleClearOutput(event, handle) {\n",
       "    var cell = handle.cell;\n",
       "\n",
       "    var id = cell.output_area._bokeh_element_id;\n",
       "    var server_id = cell.output_area._bokeh_server_id;\n",
       "    // Clean up Bokeh references\n",
       "    if (id != null && id in Bokeh.index) {\n",
       "      Bokeh.index[id].model.document.clear();\n",
       "      delete Bokeh.index[id];\n",
       "    }\n",
       "\n",
       "    if (server_id !== undefined) {\n",
       "      // Clean up Bokeh references\n",
       "      var cmd = \"from bokeh.io.state import curstate; print(curstate().uuid_to_server['\" + server_id + \"'].get_sessions()[0].document.roots[0]._id)\";\n",
       "      cell.notebook.kernel.execute(cmd, {\n",
       "        iopub: {\n",
       "          output: function(msg) {\n",
       "            var id = msg.content.text.trim();\n",
       "            if (id in Bokeh.index) {\n",
       "              Bokeh.index[id].model.document.clear();\n",
       "              delete Bokeh.index[id];\n",
       "            }\n",
       "          }\n",
       "        }\n",
       "      });\n",
       "      // Destroy server and session\n",
       "      var cmd = \"import bokeh.io.notebook as ion; ion.destroy_server('\" + server_id + \"')\";\n",
       "      cell.notebook.kernel.execute(cmd);\n",
       "    }\n",
       "  }\n",
       "\n",
       "  /**\n",
       "   * Handle when a new output is added\n",
       "   */\n",
       "  function handleAddOutput(event, handle) {\n",
       "    var output_area = handle.output_area;\n",
       "    var output = handle.output;\n",
       "\n",
       "    // limit handleAddOutput to display_data with EXEC_MIME_TYPE content only\n",
       "    if ((output.output_type != \"display_data\") || (!output.data.hasOwnProperty(EXEC_MIME_TYPE))) {\n",
       "      return\n",
       "    }\n",
       "\n",
       "    var toinsert = output_area.element.find(\".\" + CLASS_NAME.split(' ')[0]);\n",
       "\n",
       "    if (output.metadata[EXEC_MIME_TYPE][\"id\"] !== undefined) {\n",
       "      toinsert[toinsert.length - 1].firstChild.textContent = output.data[JS_MIME_TYPE];\n",
       "      // store reference to embed id on output_area\n",
       "      output_area._bokeh_element_id = output.metadata[EXEC_MIME_TYPE][\"id\"];\n",
       "    }\n",
       "    if (output.metadata[EXEC_MIME_TYPE][\"server_id\"] !== undefined) {\n",
       "      var bk_div = document.createElement(\"div\");\n",
       "      bk_div.innerHTML = output.data[HTML_MIME_TYPE];\n",
       "      var script_attrs = bk_div.children[0].attributes;\n",
       "      for (var i = 0; i < script_attrs.length; i++) {\n",
       "        toinsert[toinsert.length - 1].firstChild.setAttribute(script_attrs[i].name, script_attrs[i].value);\n",
       "        toinsert[toinsert.length - 1].firstChild.textContent = bk_div.children[0].textContent\n",
       "      }\n",
       "      // store reference to server id on output_area\n",
       "      output_area._bokeh_server_id = output.metadata[EXEC_MIME_TYPE][\"server_id\"];\n",
       "    }\n",
       "  }\n",
       "\n",
       "  function register_renderer(events, OutputArea) {\n",
       "\n",
       "    function append_mime(data, metadata, element) {\n",
       "      // create a DOM node to render to\n",
       "      var toinsert = this.create_output_subarea(\n",
       "        metadata,\n",
       "        CLASS_NAME,\n",
       "        EXEC_MIME_TYPE\n",
       "      );\n",
       "      this.keyboard_manager.register_events(toinsert);\n",
       "      // Render to node\n",
       "      var props = {data: data, metadata: metadata[EXEC_MIME_TYPE]};\n",
       "      render(props, toinsert[toinsert.length - 1]);\n",
       "      element.append(toinsert);\n",
       "      return toinsert\n",
       "    }\n",
       "\n",
       "    /* Handle when an output is cleared or removed */\n",
       "    events.on('clear_output.CodeCell', handleClearOutput);\n",
       "    events.on('delete.Cell', handleClearOutput);\n",
       "\n",
       "    /* Handle when a new output is added */\n",
       "    events.on('output_added.OutputArea', handleAddOutput);\n",
       "\n",
       "    /**\n",
       "     * Register the mime type and append_mime function with output_area\n",
       "     */\n",
       "    OutputArea.prototype.register_mime_type(EXEC_MIME_TYPE, append_mime, {\n",
       "      /* Is output safe? */\n",
       "      safe: true,\n",
       "      /* Index of renderer in `output_area.display_order` */\n",
       "      index: 0\n",
       "    });\n",
       "  }\n",
       "\n",
       "  // register the mime type if in Jupyter Notebook environment and previously unregistered\n",
       "  if (root.Jupyter !== undefined) {\n",
       "    var events = require('base/js/events');\n",
       "    var OutputArea = require('notebook/js/outputarea').OutputArea;\n",
       "\n",
       "    if (OutputArea.prototype.mime_types().indexOf(EXEC_MIME_TYPE) == -1) {\n",
       "      register_renderer(events, OutputArea);\n",
       "    }\n",
       "  }\n",
       "\n",
       "  \n",
       "  if (typeof (root._bokeh_timeout) === \"undefined\" || force === true) {\n",
       "    root._bokeh_timeout = Date.now() + 5000;\n",
       "    root._bokeh_failed_load = false;\n",
       "  }\n",
       "\n",
       "  var NB_LOAD_WARNING = {'data': {'text/html':\n",
       "     \"<div style='background-color: #fdd'>\\n\"+\n",
       "     \"<p>\\n\"+\n",
       "     \"BokehJS does not appear to have successfully loaded. If loading BokehJS from CDN, this \\n\"+\n",
       "     \"may be due to a slow or bad network connection. Possible fixes:\\n\"+\n",
       "     \"</p>\\n\"+\n",
       "     \"<ul>\\n\"+\n",
       "     \"<li>re-rerun `output_notebook()` to attempt to load from CDN again, or</li>\\n\"+\n",
       "     \"<li>use INLINE resources instead, as so:</li>\\n\"+\n",
       "     \"</ul>\\n\"+\n",
       "     \"<code>\\n\"+\n",
       "     \"from bokeh.resources import INLINE\\n\"+\n",
       "     \"output_notebook(resources=INLINE)\\n\"+\n",
       "     \"</code>\\n\"+\n",
       "     \"</div>\"}};\n",
       "\n",
       "  function display_loaded() {\n",
       "    var el = document.getElementById(\"1001\");\n",
       "    if (el != null) {\n",
       "      el.textContent = \"BokehJS is loading...\";\n",
       "    }\n",
       "    if (root.Bokeh !== undefined) {\n",
       "      if (el != null) {\n",
       "        el.textContent = \"BokehJS \" + root.Bokeh.version + \" successfully loaded.\";\n",
       "      }\n",
       "    } else if (Date.now() < root._bokeh_timeout) {\n",
       "      setTimeout(display_loaded, 100)\n",
       "    }\n",
       "  }\n",
       "\n",
       "\n",
       "  function run_callbacks() {\n",
       "    try {\n",
       "      root._bokeh_onload_callbacks.forEach(function(callback) {\n",
       "        if (callback != null)\n",
       "          callback();\n",
       "      });\n",
       "    } finally {\n",
       "      delete root._bokeh_onload_callbacks\n",
       "    }\n",
       "    console.debug(\"Bokeh: all callbacks have finished\");\n",
       "  }\n",
       "\n",
       "  function load_libs(css_urls, js_urls, callback) {\n",
       "    if (css_urls == null) css_urls = [];\n",
       "    if (js_urls == null) js_urls = [];\n",
       "\n",
       "    root._bokeh_onload_callbacks.push(callback);\n",
       "    if (root._bokeh_is_loading > 0) {\n",
       "      console.debug(\"Bokeh: BokehJS is being loaded, scheduling callback at\", now());\n",
       "      return null;\n",
       "    }\n",
       "    if (js_urls == null || js_urls.length === 0) {\n",
       "      run_callbacks();\n",
       "      return null;\n",
       "    }\n",
       "    console.debug(\"Bokeh: BokehJS not loaded, scheduling load and callback at\", now());\n",
       "    root._bokeh_is_loading = css_urls.length + js_urls.length;\n",
       "\n",
       "    function on_load() {\n",
       "      root._bokeh_is_loading--;\n",
       "      if (root._bokeh_is_loading === 0) {\n",
       "        console.debug(\"Bokeh: all BokehJS libraries/stylesheets loaded\");\n",
       "        run_callbacks()\n",
       "      }\n",
       "    }\n",
       "\n",
       "    function on_error() {\n",
       "      console.error(\"failed to load \" + url);\n",
       "    }\n",
       "\n",
       "    for (var i = 0; i < css_urls.length; i++) {\n",
       "      var url = css_urls[i];\n",
       "      const element = document.createElement(\"link\");\n",
       "      element.onload = on_load;\n",
       "      element.onerror = on_error;\n",
       "      element.rel = \"stylesheet\";\n",
       "      element.type = \"text/css\";\n",
       "      element.href = url;\n",
       "      console.debug(\"Bokeh: injecting link tag for BokehJS stylesheet: \", url);\n",
       "      document.body.appendChild(element);\n",
       "    }\n",
       "\n",
       "    const hashes = {\"https://cdn.bokeh.org/bokeh/release/bokeh-2.1.0.min.js\": \"YobFyzPeVUsFQydHkJGsJL1kyfHnWxOlPc3EwaV22TmBaeGoXHLWx5aRRVPS9xlE\", \"https://cdn.bokeh.org/bokeh/release/bokeh-widgets-2.1.0.min.js\": \"NuAg9+TcTQQqvQCTtkCneRrpkTiMhhfiq0KHiBzx8ECiKiLWXHN6i6ia3q7b3eHu\", \"https://cdn.bokeh.org/bokeh/release/bokeh-tables-2.1.0.min.js\": \"uMVqQc8JqHitD67bXTn9a06Mrk3EiHRaZ18EJENQenAKJ/KL71SakdXYomZQpGRr\", \"https://cdn.bokeh.org/bokeh/release/bokeh-gl-2.1.0.min.js\": \"u+eGuEXC8aw0VSCm2mH+b/tQEAitUOYiR1H6SuIVEdUmXsf4vN8m/SmXpmjb7U/X\"};\n",
       "\n",
       "    for (var i = 0; i < js_urls.length; i++) {\n",
       "      var url = js_urls[i];\n",
       "      var element = document.createElement('script');\n",
       "      element.onload = on_load;\n",
       "      element.onerror = on_error;\n",
       "      element.async = false;\n",
       "      element.src = url;\n",
       "      if (url in hashes) {\n",
       "        element.crossOrigin = \"anonymous\";\n",
       "        element.integrity = \"sha384-\" + hashes[url];\n",
       "      }\n",
       "      console.debug(\"Bokeh: injecting script tag for BokehJS library: \", url);\n",
       "      document.head.appendChild(element);\n",
       "    }\n",
       "  };\n",
       "\n",
       "  function inject_raw_css(css) {\n",
       "    const element = document.createElement(\"style\");\n",
       "    element.appendChild(document.createTextNode(css));\n",
       "    document.body.appendChild(element);\n",
       "  }\n",
       "\n",
       "  \n",
       "  var js_urls = [\"https://cdn.bokeh.org/bokeh/release/bokeh-2.1.0.min.js\", \"https://cdn.bokeh.org/bokeh/release/bokeh-widgets-2.1.0.min.js\", \"https://cdn.bokeh.org/bokeh/release/bokeh-tables-2.1.0.min.js\", \"https://cdn.bokeh.org/bokeh/release/bokeh-gl-2.1.0.min.js\"];\n",
       "  var css_urls = [];\n",
       "  \n",
       "\n",
       "  var inline_js = [\n",
       "    function(Bokeh) {\n",
       "      Bokeh.set_log_level(\"info\");\n",
       "    },\n",
       "    function(Bokeh) {\n",
       "    \n",
       "    \n",
       "    }\n",
       "  ];\n",
       "\n",
       "  function run_inline_js() {\n",
       "    \n",
       "    if (root.Bokeh !== undefined || force === true) {\n",
       "      \n",
       "    for (var i = 0; i < inline_js.length; i++) {\n",
       "      inline_js[i].call(root, root.Bokeh);\n",
       "    }\n",
       "    if (force === true) {\n",
       "        display_loaded();\n",
       "      }} else if (Date.now() < root._bokeh_timeout) {\n",
       "      setTimeout(run_inline_js, 100);\n",
       "    } else if (!root._bokeh_failed_load) {\n",
       "      console.log(\"Bokeh: BokehJS failed to load within specified timeout.\");\n",
       "      root._bokeh_failed_load = true;\n",
       "    } else if (force !== true) {\n",
       "      var cell = $(document.getElementById(\"1001\")).parents('.cell').data().cell;\n",
       "      cell.output_area.append_execute_result(NB_LOAD_WARNING)\n",
       "    }\n",
       "\n",
       "  }\n",
       "\n",
       "  if (root._bokeh_is_loading === 0) {\n",
       "    console.debug(\"Bokeh: BokehJS loaded, going straight to plotting\");\n",
       "    run_inline_js();\n",
       "  } else {\n",
       "    load_libs(css_urls, js_urls, function() {\n",
       "      console.debug(\"Bokeh: BokehJS plotting callback run at\", now());\n",
       "      run_inline_js();\n",
       "    });\n",
       "  }\n",
       "}(window));"
      ],
      "application/vnd.bokehjs_load.v0+json": "\n(function(root) {\n  function now() {\n    return new Date();\n  }\n\n  var force = true;\n\n  if (typeof root._bokeh_onload_callbacks === \"undefined\" || force === true) {\n    root._bokeh_onload_callbacks = [];\n    root._bokeh_is_loading = undefined;\n  }\n\n  \n\n  \n  if (typeof (root._bokeh_timeout) === \"undefined\" || force === true) {\n    root._bokeh_timeout = Date.now() + 5000;\n    root._bokeh_failed_load = false;\n  }\n\n  var NB_LOAD_WARNING = {'data': {'text/html':\n     \"<div style='background-color: #fdd'>\\n\"+\n     \"<p>\\n\"+\n     \"BokehJS does not appear to have successfully loaded. If loading BokehJS from CDN, this \\n\"+\n     \"may be due to a slow or bad network connection. Possible fixes:\\n\"+\n     \"</p>\\n\"+\n     \"<ul>\\n\"+\n     \"<li>re-rerun `output_notebook()` to attempt to load from CDN again, or</li>\\n\"+\n     \"<li>use INLINE resources instead, as so:</li>\\n\"+\n     \"</ul>\\n\"+\n     \"<code>\\n\"+\n     \"from bokeh.resources import INLINE\\n\"+\n     \"output_notebook(resources=INLINE)\\n\"+\n     \"</code>\\n\"+\n     \"</div>\"}};\n\n  function display_loaded() {\n    var el = document.getElementById(\"1001\");\n    if (el != null) {\n      el.textContent = \"BokehJS is loading...\";\n    }\n    if (root.Bokeh !== undefined) {\n      if (el != null) {\n        el.textContent = \"BokehJS \" + root.Bokeh.version + \" successfully loaded.\";\n      }\n    } else if (Date.now() < root._bokeh_timeout) {\n      setTimeout(display_loaded, 100)\n    }\n  }\n\n\n  function run_callbacks() {\n    try {\n      root._bokeh_onload_callbacks.forEach(function(callback) {\n        if (callback != null)\n          callback();\n      });\n    } finally {\n      delete root._bokeh_onload_callbacks\n    }\n    console.debug(\"Bokeh: all callbacks have finished\");\n  }\n\n  function load_libs(css_urls, js_urls, callback) {\n    if (css_urls == null) css_urls = [];\n    if (js_urls == null) js_urls = [];\n\n    root._bokeh_onload_callbacks.push(callback);\n    if (root._bokeh_is_loading > 0) {\n      console.debug(\"Bokeh: BokehJS is being loaded, scheduling callback at\", now());\n      return null;\n    }\n    if (js_urls == null || js_urls.length === 0) {\n      run_callbacks();\n      return null;\n    }\n    console.debug(\"Bokeh: BokehJS not loaded, scheduling load and callback at\", now());\n    root._bokeh_is_loading = css_urls.length + js_urls.length;\n\n    function on_load() {\n      root._bokeh_is_loading--;\n      if (root._bokeh_is_loading === 0) {\n        console.debug(\"Bokeh: all BokehJS libraries/stylesheets loaded\");\n        run_callbacks()\n      }\n    }\n\n    function on_error() {\n      console.error(\"failed to load \" + url);\n    }\n\n    for (var i = 0; i < css_urls.length; i++) {\n      var url = css_urls[i];\n      const element = document.createElement(\"link\");\n      element.onload = on_load;\n      element.onerror = on_error;\n      element.rel = \"stylesheet\";\n      element.type = \"text/css\";\n      element.href = url;\n      console.debug(\"Bokeh: injecting link tag for BokehJS stylesheet: \", url);\n      document.body.appendChild(element);\n    }\n\n    const hashes = {\"https://cdn.bokeh.org/bokeh/release/bokeh-2.1.0.min.js\": \"YobFyzPeVUsFQydHkJGsJL1kyfHnWxOlPc3EwaV22TmBaeGoXHLWx5aRRVPS9xlE\", \"https://cdn.bokeh.org/bokeh/release/bokeh-widgets-2.1.0.min.js\": \"NuAg9+TcTQQqvQCTtkCneRrpkTiMhhfiq0KHiBzx8ECiKiLWXHN6i6ia3q7b3eHu\", \"https://cdn.bokeh.org/bokeh/release/bokeh-tables-2.1.0.min.js\": \"uMVqQc8JqHitD67bXTn9a06Mrk3EiHRaZ18EJENQenAKJ/KL71SakdXYomZQpGRr\", \"https://cdn.bokeh.org/bokeh/release/bokeh-gl-2.1.0.min.js\": \"u+eGuEXC8aw0VSCm2mH+b/tQEAitUOYiR1H6SuIVEdUmXsf4vN8m/SmXpmjb7U/X\"};\n\n    for (var i = 0; i < js_urls.length; i++) {\n      var url = js_urls[i];\n      var element = document.createElement('script');\n      element.onload = on_load;\n      element.onerror = on_error;\n      element.async = false;\n      element.src = url;\n      if (url in hashes) {\n        element.crossOrigin = \"anonymous\";\n        element.integrity = \"sha384-\" + hashes[url];\n      }\n      console.debug(\"Bokeh: injecting script tag for BokehJS library: \", url);\n      document.head.appendChild(element);\n    }\n  };\n\n  function inject_raw_css(css) {\n    const element = document.createElement(\"style\");\n    element.appendChild(document.createTextNode(css));\n    document.body.appendChild(element);\n  }\n\n  \n  var js_urls = [\"https://cdn.bokeh.org/bokeh/release/bokeh-2.1.0.min.js\", \"https://cdn.bokeh.org/bokeh/release/bokeh-widgets-2.1.0.min.js\", \"https://cdn.bokeh.org/bokeh/release/bokeh-tables-2.1.0.min.js\", \"https://cdn.bokeh.org/bokeh/release/bokeh-gl-2.1.0.min.js\"];\n  var css_urls = [];\n  \n\n  var inline_js = [\n    function(Bokeh) {\n      Bokeh.set_log_level(\"info\");\n    },\n    function(Bokeh) {\n    \n    \n    }\n  ];\n\n  function run_inline_js() {\n    \n    if (root.Bokeh !== undefined || force === true) {\n      \n    for (var i = 0; i < inline_js.length; i++) {\n      inline_js[i].call(root, root.Bokeh);\n    }\n    if (force === true) {\n        display_loaded();\n      }} else if (Date.now() < root._bokeh_timeout) {\n      setTimeout(run_inline_js, 100);\n    } else if (!root._bokeh_failed_load) {\n      console.log(\"Bokeh: BokehJS failed to load within specified timeout.\");\n      root._bokeh_failed_load = true;\n    } else if (force !== true) {\n      var cell = $(document.getElementById(\"1001\")).parents('.cell').data().cell;\n      cell.output_area.append_execute_result(NB_LOAD_WARNING)\n    }\n\n  }\n\n  if (root._bokeh_is_loading === 0) {\n    console.debug(\"Bokeh: BokehJS loaded, going straight to plotting\");\n    run_inline_js();\n  } else {\n    load_libs(css_urls, js_urls, function() {\n      console.debug(\"Bokeh: BokehJS plotting callback run at\", now());\n      run_inline_js();\n    });\n  }\n}(window));"
     },
     "metadata": {},
     "output_type": "display_data"
    }
   ],
   "source": [
    "# Imports\n",
    "from routing import TaxiRouting, create_dataframes\n",
    "import numpy as np\n",
    "import pandas as pd\n",
    "import random\n",
    "from bokeh.io import output_notebook\n",
    "output_notebook()"
   ]
  },
  {
   "cell_type": "markdown",
   "metadata": {},
   "source": [
    "### Taxi-Routing to Min-Cost Flow Formulation"
   ]
  },
  {
   "cell_type": "markdown",
   "metadata": {},
   "source": [
    "Consider a taxi-routing problem over some time horizon. Over this time period, we know all the ride requests we will receive. Each ride request has a start/end location, start time, duration, and trip value. For example, trip value could be the revenue from that trip. We know the number of taxis and the layout of Manhattan. How can we create a min-cost flow formulation to solve this problem? "
   ]
  },
  {
   "cell_type": "code",
   "execution_count": 2,
   "metadata": {},
   "outputs": [],
   "source": [
    "# Define trips as a list of tuples (start, end, start_time, trip_time, value)\n",
    "# EX: The first trip goes from location to 2 to 1 at time t=1. It takes 2 minutes to get there and the value is 2.\n",
    "\n",
    "trips = [(0,1,0,2,1),\n",
    "         (2,1,3,1,1),\n",
    "         (2,3,2,1,1),\n",
    "         (2,3,0,1,1)]"
   ]
  },
  {
   "cell_type": "code",
   "execution_count": 3,
   "metadata": {},
   "outputs": [],
   "source": [
    "# Define a general transport arc as a list of tuples (start, end, trip_time)\n",
    "\n",
    "arcs = []\n",
    "arcs = [(1,2,1), (3,2,1)]"
   ]
  },
  {
   "cell_type": "code",
   "execution_count": 4,
   "metadata": {},
   "outputs": [],
   "source": [
    "B = 3  # number of taxis\n",
    "L = 4  # of locations\n",
    "T = max(np.array(list(zip(*trips))[2]) + np.array(list(zip(*trips))[3]))  # time horizon"
   ]
  },
  {
   "cell_type": "code",
   "execution_count": 5,
   "metadata": {},
   "outputs": [],
   "source": [
    "# Create an instance of this taxi-routing problem\n",
    "trips_df, nodes_df, arcs_df = create_dataframes(trips, arcs, L)\n",
    "small_ex = TaxiRouting(trips_df, nodes_df, arcs_df, 0, T, B)"
   ]
  },
  {
   "cell_type": "code",
   "execution_count": 6,
   "metadata": {
    "scrolled": true
   },
   "outputs": [
    {
     "data": {
      "image/png": "[encoded data removed]",
      "text/plain": [
       "<Figure size 648x432 with 1 Axes>"
      ]
     },
     "metadata": {},
     "output_type": "display_data"
    }
   ],
   "source": [
    "# View the min-cost flow graph (edge labels are flow on that edge)\n",
    "small_ex.draw_graph()"
   ]
  },
  {
   "cell_type": "code",
   "execution_count": 7,
   "metadata": {
    "scrolled": true
   },
   "outputs": [
    {
     "data": {
      "image/png": "[encoded data removed]",
      "text/plain": [
       "<Figure size 648x432 with 1 Axes>"
      ]
     },
     "metadata": {},
     "output_type": "display_data"
    }
   ],
   "source": [
    "# Optimize\n",
    "small_ex.optimize()\n",
    "small_ex.draw_graph(draw_all=False)"
   ]
  },
  {
   "cell_type": "code",
   "execution_count": 8,
   "metadata": {},
   "outputs": [
    {
     "name": "stdout",
     "output_type": "stream",
     "text": [
      "Summary Statistics\n",
      "Avg. Moving Pct.: 0.67\n",
      "Avg. On Trip Pct.: 0.42\n",
      "Total Trips: 4.00 (1.00)\n"
     ]
    }
   ],
   "source": [
    "small_ex.get_stats()"
   ]
  },
  {
   "cell_type": "code",
   "execution_count": 9,
   "metadata": {},
   "outputs": [
    {
     "data": {
      "text/plain": [
       "{'moving_pct': 1.0,\n",
       " 'on_trip_pct': 0.5,\n",
       " 'num_trips': 2,\n",
       " 'total_trip_distance': None,\n",
       " 'total_passengers': None,\n",
       " 'revenue': None}"
      ]
     },
     "execution_count": 9,
     "metadata": {},
     "output_type": "execute_result"
    }
   ],
   "source": [
    "small_ex.taxi_stats[2]"
   ]
  },
  {
   "cell_type": "code",
   "execution_count": 10,
   "metadata": {},
   "outputs": [
    {
     "data": {
      "image/png": "[encoded data removed]",
      "text/plain": [
       "<Figure size 1440x720 with 6 Axes>"
      ]
     },
     "metadata": {
      "needs_background": "light"
     },
     "output_type": "display_data"
    }
   ],
   "source": [
    "small_ex.plot_stats()"
   ]
  },
  {
   "cell_type": "markdown",
   "metadata": {},
   "source": [
    "### Taxi-Routing At Scale"
   ]
  },
  {
   "cell_type": "code",
   "execution_count": 11,
   "metadata": {},
   "outputs": [],
   "source": [
    "# Load data\n",
    "trips_df = pd.read_csv('data/2013-09-01_trip_data_manhattan.csv').drop(columns='id')\n",
    "trips_df['revenue'] = 2.50 + 1.56*trips_df.trip_distance + 0.50*trips_df.trip_time\n",
    "trips_df.revenue = trips_df.revenue.apply(lambda x: round(x,2))\n",
    "\n",
    "nodes_df = pd.read_csv('data/nyc_nodes_manhattan.csv').drop(columns='Unnamed: 0')\n",
    "arcs_df = pd.read_csv('data/nyc_links_manhattan.csv').drop(columns='Unnamed: 0')"
   ]
  },
  {
   "cell_type": "code",
   "execution_count": 12,
   "metadata": {},
   "outputs": [
    {
     "data": {
      "text/html": [
       "<div>\n",
       "<style scoped>\n",
       "    .dataframe tbody tr th:only-of-type {\n",
       "        vertical-align: middle;\n",
       "    }\n",
       "\n",
       "    .dataframe tbody tr th {\n",
       "        vertical-align: top;\n",
       "    }\n",
       "\n",
       "    .dataframe thead th {\n",
       "        text-align: right;\n",
       "    }\n",
       "</style>\n",
       "<table border=\"1\" class=\"dataframe\">\n",
       "  <thead>\n",
       "    <tr style=\"text-align: right;\">\n",
       "      <th></th>\n",
       "      <th>start_node</th>\n",
       "      <th>end_node</th>\n",
       "      <th>start_time</th>\n",
       "      <th>trip_time</th>\n",
       "      <th>passenger_count</th>\n",
       "      <th>trip_distance</th>\n",
       "      <th>revenue</th>\n",
       "    </tr>\n",
       "  </thead>\n",
       "  <tbody>\n",
       "    <tr>\n",
       "      <th>0</th>\n",
       "      <td>333</td>\n",
       "      <td>692</td>\n",
       "      <td>0</td>\n",
       "      <td>6</td>\n",
       "      <td>5</td>\n",
       "      <td>2.204796</td>\n",
       "      <td>8.94</td>\n",
       "    </tr>\n",
       "    <tr>\n",
       "      <th>1</th>\n",
       "      <td>1802</td>\n",
       "      <td>110</td>\n",
       "      <td>0</td>\n",
       "      <td>7</td>\n",
       "      <td>1</td>\n",
       "      <td>1.738087</td>\n",
       "      <td>8.71</td>\n",
       "    </tr>\n",
       "    <tr>\n",
       "      <th>2</th>\n",
       "      <td>1769</td>\n",
       "      <td>77</td>\n",
       "      <td>0</td>\n",
       "      <td>9</td>\n",
       "      <td>1</td>\n",
       "      <td>5.262542</td>\n",
       "      <td>15.21</td>\n",
       "    </tr>\n",
       "  </tbody>\n",
       "</table>\n",
       "</div>"
      ],
      "text/plain": [
       "   start_node  end_node  start_time  trip_time  passenger_count  \\\n",
       "0         333       692           0          6                5   \n",
       "1        1802       110           0          7                1   \n",
       "2        1769        77           0          9                1   \n",
       "\n",
       "   trip_distance  revenue  \n",
       "0       2.204796     8.94  \n",
       "1       1.738087     8.71  \n",
       "2       5.262542    15.21  "
      ]
     },
     "execution_count": 12,
     "metadata": {},
     "output_type": "execute_result"
    }
   ],
   "source": [
    "trips_df.head(3)"
   ]
  },
  {
   "cell_type": "code",
   "execution_count": 13,
   "metadata": {},
   "outputs": [
    {
     "data": {
      "text/html": [
       "<div>\n",
       "<style scoped>\n",
       "    .dataframe tbody tr th:only-of-type {\n",
       "        vertical-align: middle;\n",
       "    }\n",
       "\n",
       "    .dataframe tbody tr th {\n",
       "        vertical-align: top;\n",
       "    }\n",
       "\n",
       "    .dataframe thead th {\n",
       "        text-align: right;\n",
       "    }\n",
       "</style>\n",
       "<table border=\"1\" class=\"dataframe\">\n",
       "  <thead>\n",
       "    <tr style=\"text-align: right;\">\n",
       "      <th></th>\n",
       "      <th>name</th>\n",
       "      <th>lon</th>\n",
       "      <th>lat</th>\n",
       "      <th>x</th>\n",
       "      <th>y</th>\n",
       "    </tr>\n",
       "  </thead>\n",
       "  <tbody>\n",
       "    <tr>\n",
       "      <th>0</th>\n",
       "      <td>0</td>\n",
       "      <td>-74.003837</td>\n",
       "      <td>40.710545</td>\n",
       "      <td>-8.238069e+06</td>\n",
       "      <td>4.969740e+06</td>\n",
       "    </tr>\n",
       "    <tr>\n",
       "      <th>1</th>\n",
       "      <td>1</td>\n",
       "      <td>-73.969571</td>\n",
       "      <td>40.749594</td>\n",
       "      <td>-8.234255e+06</td>\n",
       "      <td>4.975477e+06</td>\n",
       "    </tr>\n",
       "    <tr>\n",
       "      <th>2</th>\n",
       "      <td>2</td>\n",
       "      <td>-73.964442</td>\n",
       "      <td>40.753157</td>\n",
       "      <td>-8.233684e+06</td>\n",
       "      <td>4.976000e+06</td>\n",
       "    </tr>\n",
       "  </tbody>\n",
       "</table>\n",
       "</div>"
      ],
      "text/plain": [
       "   name        lon        lat             x             y\n",
       "0     0 -74.003837  40.710545 -8.238069e+06  4.969740e+06\n",
       "1     1 -73.969571  40.749594 -8.234255e+06  4.975477e+06\n",
       "2     2 -73.964442  40.753157 -8.233684e+06  4.976000e+06"
      ]
     },
     "execution_count": 13,
     "metadata": {},
     "output_type": "execute_result"
    }
   ],
   "source": [
    "nodes_df.head(3)"
   ]
  },
  {
   "cell_type": "code",
   "execution_count": 14,
   "metadata": {},
   "outputs": [
    {
     "data": {
      "text/html": [
       "<div>\n",
       "<style scoped>\n",
       "    .dataframe tbody tr th:only-of-type {\n",
       "        vertical-align: middle;\n",
       "    }\n",
       "\n",
       "    .dataframe tbody tr th {\n",
       "        vertical-align: top;\n",
       "    }\n",
       "\n",
       "    .dataframe thead th {\n",
       "        text-align: right;\n",
       "    }\n",
       "</style>\n",
       "<table border=\"1\" class=\"dataframe\">\n",
       "  <thead>\n",
       "    <tr style=\"text-align: right;\">\n",
       "      <th></th>\n",
       "      <th>start</th>\n",
       "      <th>end</th>\n",
       "      <th>street_name</th>\n",
       "      <th>trip_time</th>\n",
       "    </tr>\n",
       "  </thead>\n",
       "  <tbody>\n",
       "    <tr>\n",
       "      <th>0</th>\n",
       "      <td>598</td>\n",
       "      <td>597</td>\n",
       "      <td>MadisonAvenue</td>\n",
       "      <td>1</td>\n",
       "    </tr>\n",
       "    <tr>\n",
       "      <th>1</th>\n",
       "      <td>103</td>\n",
       "      <td>597</td>\n",
       "      <td>East60thStreet</td>\n",
       "      <td>1</td>\n",
       "    </tr>\n",
       "    <tr>\n",
       "      <th>2</th>\n",
       "      <td>599</td>\n",
       "      <td>598</td>\n",
       "      <td>MadisonAvenue</td>\n",
       "      <td>1</td>\n",
       "    </tr>\n",
       "  </tbody>\n",
       "</table>\n",
       "</div>"
      ],
      "text/plain": [
       "   start  end     street_name  trip_time\n",
       "0    598  597   MadisonAvenue          1\n",
       "1    103  597  East60thStreet          1\n",
       "2    599  598   MadisonAvenue          1"
      ]
     },
     "execution_count": 14,
     "metadata": {},
     "output_type": "execute_result"
    }
   ],
   "source": [
    "arcs_df.head(3)"
   ]
  },
  {
   "cell_type": "code",
   "execution_count": 15,
   "metadata": {},
   "outputs": [],
   "source": [
    "# Set a value to use for each trip\n",
    "trips_df['value'] = trips_df['revenue']"
   ]
  },
  {
   "cell_type": "code",
   "execution_count": 16,
   "metadata": {},
   "outputs": [
    {
     "name": "stdout",
     "output_type": "stream",
     "text": [
      "This instance has 370625 nodes and 1139919 arcs.\n"
     ]
    }
   ],
   "source": [
    "# Create instance for 5:00 PM - 7:00 PM with 1500 taxis\n",
    "nyc_taxi = TaxiRouting(trips_df, nodes_df, arcs_df, 1020, 1140, 1500)\n",
    "print('This instance has',len(nyc_taxi.nodes),'nodes and',len(nyc_taxi.arcs),'arcs.')"
   ]
  },
  {
   "cell_type": "code",
   "execution_count": 17,
   "metadata": {},
   "outputs": [
    {
     "name": "stdout",
     "output_type": "stream",
     "text": [
      "Summary Statistics\n",
      "Avg. Moving Pct.: 0.90\n",
      "Avg. On Trip Pct.: 0.68\n",
      "Avg. Total Distance of Trips: 26.51\n",
      "Avg. Revenue: 102.33\n",
      "Total Trips: 12104.00 (0.89)\n",
      "Total Passengers: 22231.00 (0.89)\n",
      "Total Revenue: 153488.59 (0.91)\n"
     ]
    }
   ],
   "source": [
    "nyc_taxi.optimize()\n",
    "nyc_taxi.get_stats()"
   ]
  },
  {
   "cell_type": "code",
   "execution_count": 21,
   "metadata": {},
   "outputs": [
    {
     "data": {
      "text/html": [
       "\n",
       "\n",
       "\n",
       "\n",
       "\n",
       "\n",
       "  <div class=\"bk-root\" id=\"ad6790d1-1fc3-43e8-83ce-03ea1ce49fad\" data-root-id=\"1722\"></div>\n"
      ]
     },
     "metadata": {},
     "output_type": "display_data"
    },
    {
     "data": {
      "application/javascript": [
       "(function(root) {\n",
       "  function embed_document(root) {\n",
       "    \n",
       "  var docs_json = {\"7a49fa8e-427b-4e8d-b298-bacc9832ff88\":{\"roots\":{\"references\":[{\"attributes\":{\"below\":[{\"id\":\"1733\"}],\"center\":[{\"id\":\"1740\"},{\"id\":\"1748\"}],\"left\":[{\"id\":\"1741\"}],\"plot_height\":470,\"renderers\":[{\"id\":\"1764\"},{\"id\":\"1766\"}],\"title\":{\"id\":\"1723\"},\"toolbar\":{\"id\":\"1756\"},\"x_range\":{\"id\":\"1725\"},\"x_scale\":{\"id\":\"1729\"},\"y_range\":{\"id\":\"1727\"},\"y_scale\":{\"id\":\"1731\"}},\"id\":\"1722\",\"subtype\":\"Figure\",\"type\":\"Plot\"},{\"attributes\":{},\"id\":\"1863\",\"type\":\"NodesOnly\"},{\"attributes\":{\"data\":{\"index\":[539,705,544],\"start_colors\":[\"#1f77b4\",\"#ff7f0e\",\"#2ca02c\"]},\"selected\":{\"id\":\"1867\"},\"selection_policy\":{\"id\":\"1866\"}},\"id\":\"1768\",\"type\":\"ColumnDataSource\"},{\"attributes\":{\"text\":\"Taxi Routes\"},\"id\":\"1723\",\"type\":\"Title\"},{\"attributes\":{\"fill_color\":{\"field\":\"start_colors\"},\"line_width\":{\"value\":0},\"size\":{\"units\":\"screen\",\"value\":7}},\"id\":\"1775\",\"type\":\"Circle\"},{\"attributes\":{},\"id\":\"1731\",\"type\":\"LinearScale\"},{\"attributes\":{},\"id\":\"1749\",\"type\":\"PanTool\"},{\"attributes\":{\"end\":4980697.667529709,\"start\":4969360.460350082},\"id\":\"1727\",\"type\":\"Range1d\"},{\"attributes\":{\"active_drag\":\"auto\",\"active_inspect\":\"auto\",\"active_multi\":null,\"active_scroll\":\"auto\",\"active_tap\":\"auto\",\"tools\":[{\"id\":\"1749\"},{\"id\":\"1750\"},{\"id\":\"1751\"},{\"id\":\"1752\"},{\"id\":\"1753\"},{\"id\":\"1754\"}]},\"id\":\"1756\",\"type\":\"Toolbar\"},{\"attributes\":{\"attribution\":\"&copy; <a href=\\\"https://www.openstreetmap.org/copyright\\\">OpenStreetMap</a> contributors,&copy; <a href=\\\"https://cartodb.com/attributions\\\">CartoDB</a>\",\"url\":\"https://tiles.basemaps.cartocdn.com/light_all/{z}/{x}/{y}@2x.png\"},\"id\":\"1763\",\"type\":\"WMTSTileSource\"},{\"attributes\":{},\"id\":\"1866\",\"type\":\"UnionRenderers\"},{\"attributes\":{\"formatter\":{\"id\":\"1744\"},\"ticker\":{\"id\":\"1742\"}},\"id\":\"1741\",\"type\":\"MercatorAxis\"},{\"attributes\":{},\"id\":\"1864\",\"type\":\"NodesOnly\"},{\"attributes\":{\"data_source\":{\"id\":\"1768\"},\"glyph\":{\"id\":\"1775\"},\"hover_glyph\":null,\"muted_glyph\":null,\"view\":{\"id\":\"1770\"}},\"id\":\"1769\",\"type\":\"GlyphRenderer\"},{\"attributes\":{\"overlay\":{\"id\":\"1755\"}},\"id\":\"1751\",\"type\":\"BoxZoomTool\"},{\"attributes\":{},\"id\":\"1868\",\"type\":\"UnionRenderers\"},{\"attributes\":{\"data\":{\"alpha\":[1,1,1,1,1,1,1,1,1,0.3,1,1,1,1,0.3,1,1,0.3,1,0.3,1,0.3,0.3,0.3,1,1,1,0.3,1,1,1,0.3,1,1,0.3,1,1,1,1,1,1,0.3,1,1,0.3,1,1,1,0.3,1,1,1,1,1,1,0.3,1,1,1,1,1,0.3,1,1,0.3,1,1,0.3,1,0.3,1,1,1,1,1,1,1,1,1,1,1,1,1,1,0.3,1,0.3,1,1,1,1,0.3,1,0.3,1,1,1,1,1,1,0.3,1,1,1,1,1,1,0.3,1,1,0.3,1,1,1,0.3,1,0.3,1,1],\"color\":[\"#1f77b4\",\"#1f77b4\",\"#1f77b4\",\"#1f77b4\",\"#1f77b4\",\"#1f77b4\",\"#1f77b4\",\"#1f77b4\",\"#1f77b4\",\"#1f77b4\",\"#1f77b4\",\"#1f77b4\",\"#1f77b4\",\"#1f77b4\",\"#1f77b4\",\"#1f77b4\",\"#1f77b4\",\"#1f77b4\",\"#1f77b4\",\"#1f77b4\",\"#1f77b4\",\"#1f77b4\",\"#1f77b4\",\"#1f77b4\",\"#1f77b4\",\"#1f77b4\",\"#1f77b4\",\"#1f77b4\",\"#1f77b4\",\"#1f77b4\",\"#1f77b4\",\"#1f77b4\",\"#1f77b4\",\"#1f77b4\",\"#1f77b4\",\"#1f77b4\",\"#1f77b4\",\"#1f77b4\",\"#1f77b4\",\"#ff7f0e\",\"#ff7f0e\",\"#ff7f0e\",\"#ff7f0e\",\"#ff7f0e\",\"#ff7f0e\",\"#ff7f0e\",\"#ff7f0e\",\"#ff7f0e\",\"#ff7f0e\",\"#ff7f0e\",\"#ff7f0e\",\"#ff7f0e\",\"#ff7f0e\",\"#ff7f0e\",\"#ff7f0e\",\"#ff7f0e\",\"#ff7f0e\",\"#ff7f0e\",\"#ff7f0e\",\"#ff7f0e\",\"#ff7f0e\",\"#ff7f0e\",\"#ff7f0e\",\"#ff7f0e\",\"#ff7f0e\",\"#ff7f0e\",\"#ff7f0e\",\"#ff7f0e\",\"#ff7f0e\",\"#ff7f0e\",\"#ff7f0e\",\"#ff7f0e\",\"#ff7f0e\",\"#ff7f0e\",\"#ff7f0e\",\"#2ca02c\",\"#2ca02c\",\"#2ca02c\",\"#2ca02c\",\"#2ca02c\",\"#2ca02c\",\"#2ca02c\",\"#2ca02c\",\"#2ca02c\",\"#2ca02c\",\"#2ca02c\",\"#2ca02c\",\"#2ca02c\",\"#2ca02c\",\"#2ca02c\",\"#2ca02c\",\"#2ca02c\",\"#2ca02c\",\"#2ca02c\",\"#2ca02c\",\"#2ca02c\",\"#2ca02c\",\"#2ca02c\",\"#2ca02c\",\"#2ca02c\",\"#2ca02c\",\"#2ca02c\",\"#2ca02c\",\"#2ca02c\",\"#2ca02c\",\"#2ca02c\",\"#2ca02c\",\"#2ca02c\",\"#2ca02c\",\"#2ca02c\",\"#2ca02c\",\"#2ca02c\",\"#2ca02c\",\"#2ca02c\",\"#2ca02c\",\"#2ca02c\",\"#2ca02c\",\"#2ca02c\",\"#2ca02c\"],\"end\":[1543,1108,1108,2272,2273,2274,2274,2275,2276,313,457,1470,1471,1472,134,134,738,2722,2722,1551,1551,490,505,1265,1265,1265,1265,1488,1488,941,167,167,167,167,167,167,167,167,167,1625,1625,158,158,1152,1478,2382,1479,127,2418,2417,2416,2415,2414,2413,288,1899,1480,1480,1480,727,728,738,1784,1222,104,1485,104,326,344,1759,2144,2144,2144,2144,2143,609,609,2157,608,1482,2158,2157,608,808,2122,2122,309,482,218,589,219,859,859,818,1120,415,416,910,417,819,1635,1635,1634,1633,1087,2042,2043,249,2192,2193,518,519,517,516,2436,2435,2497,2496,2496],\"start\":[539,1543,1108,1108,2272,2273,2274,2274,2275,2276,313,457,1470,1471,1472,134,134,738,2722,2722,1551,1551,490,505,1265,1265,1265,1265,1488,1488,941,167,167,167,167,167,167,167,167,705,1625,1625,158,158,1152,1478,2382,1479,127,2418,2417,2416,2415,2414,2413,288,1899,1480,1480,1480,727,728,738,1784,1222,104,1485,104,326,344,1759,2144,2144,2144,2144,544,609,609,2157,608,1482,2158,2157,608,808,2122,2122,309,482,218,589,219,859,859,818,1120,415,416,910,417,819,1635,1635,1634,1633,1087,2042,2043,249,2192,2193,518,519,517,516,2436,2435,2497,2496]},\"selected\":{\"id\":\"1869\"},\"selection_policy\":{\"id\":\"1868\"}},\"id\":\"1781\",\"type\":\"ColumnDataSource\"},{\"attributes\":{\"end\":-8231697.306546125,\"start\":-8240445.471814115},\"id\":\"1725\",\"type\":\"Range1d\"},{\"attributes\":{},\"id\":\"1869\",\"type\":\"Selection\"},{\"attributes\":{\"edge_renderer\":{\"id\":\"1782\"},\"inspection_policy\":{\"id\":\"1863\"},\"layout_provider\":{\"id\":\"1789\"},\"node_renderer\":{\"id\":\"1769\"},\"selection_policy\":{\"id\":\"1864\"}},\"id\":\"1766\",\"type\":\"GraphRenderer\"},{\"attributes\":{\"dimension\":\"lat\"},\"id\":\"1744\",\"type\":\"MercatorTickFormatter\"},{\"attributes\":{\"tile_source\":{\"id\":\"1763\"}},\"id\":\"1764\",\"type\":\"TileRenderer\"},{\"attributes\":{\"dimension\":\"lon\"},\"id\":\"1736\",\"type\":\"MercatorTickFormatter\"},{\"attributes\":{\"dimension\":\"lat\"},\"id\":\"1742\",\"type\":\"MercatorTicker\"},{\"attributes\":{\"dimension\":\"lon\"},\"id\":\"1734\",\"type\":\"MercatorTicker\"},{\"attributes\":{\"axis\":{\"id\":\"1733\"},\"ticker\":null},\"id\":\"1740\",\"type\":\"Grid\"},{\"attributes\":{\"bottom_units\":\"screen\",\"fill_alpha\":0.5,\"fill_color\":\"lightgrey\",\"left_units\":\"screen\",\"level\":\"overlay\",\"line_alpha\":1.0,\"line_color\":\"black\",\"line_dash\":[4,4],\"line_width\":2,\"right_units\":\"screen\",\"top_units\":\"screen\"},\"id\":\"1755\",\"type\":\"BoxAnnotation\"},{\"attributes\":{},\"id\":\"1752\",\"type\":\"SaveTool\"},{\"attributes\":{},\"id\":\"1729\",\"type\":\"LinearScale\"},{\"attributes\":{\"formatter\":{\"id\":\"1736\"},\"ticker\":{\"id\":\"1734\"}},\"id\":\"1733\",\"type\":\"MercatorAxis\"},{\"attributes\":{\"source\":{\"id\":\"1768\"}},\"id\":\"1770\",\"type\":\"CDSView\"},{\"attributes\":{},\"id\":\"1750\",\"type\":\"WheelZoomTool\"},{\"attributes\":{},\"id\":\"1867\",\"type\":\"Selection\"},{\"attributes\":{\"data_source\":{\"id\":\"1781\"},\"glyph\":{\"id\":\"1784\"},\"hover_glyph\":null,\"muted_glyph\":null,\"view\":{\"id\":\"1783\"}},\"id\":\"1782\",\"type\":\"GlyphRenderer\"},{\"attributes\":{\"line_alpha\":{\"field\":\"alpha\"},\"line_cap\":\"round\",\"line_color\":{\"field\":\"color\"},\"line_width\":{\"value\":3}},\"id\":\"1784\",\"type\":\"MultiLine\"},{\"attributes\":{\"graph_layout\":{\"104\":[-8235696.89928114,4971610.5170124285],\"1087\":[-8238055.759291051,4973602.6248310665],\"1108\":[-8235700.5728243375,4972797.197937364],\"1120\":[-8233318.992506358,4976518.186126016],\"1152\":[-8234638.362243189,4977634.797175656],\"1222\":[-8237607.141743152,4973854.293026561],\"1265\":[-8236703.116158421,4975493.159682415],\"127\":[-8237083.650705747,4977049.9996308535],\"134\":[-8238418.215553072,4974306.224862947],\"1470\":[-8233515.961213365,4977969.612836739],\"1471\":[-8233694.083530585,4978068.839823071],\"1472\":[-8233858.569210181,4978160.468778224],\"1478\":[-8237789.427409328,4977309.942887818],\"1479\":[-8237138.330839625,4976951.0034409305],\"1480\":[-8236821.882923149,4976775.04371676],\"1482\":[-8235514.780594204,4976047.885887425],\"1485\":[-8235745.879857087,4971521.358341963],\"1488\":[-8236514.652260507,4971948.945462372],\"1543\":[-8235757.056333967,4972693.911238627],\"1551\":[-8232697.306546125,4978860.810484574],\"158\":[-8234586.932638442,4977725.775361539],\"1625\":[-8233256.820570747,4978438.491634032],\"1633\":[-8238282.038419987,4973648.43295538],\"1634\":[-8238293.983001348,4973557.815937068],\"1635\":[-8238305.782867372,4973456.592667173],\"167\":[-8236302.922589021,4971708.049009887],\"1759\":[-8236197.135676919,4977158.241120227],\"1784\":[-8237923.333624802,4974031.037612038],\"1899\":[-8236967.266178125,4976855.873397795],\"2042\":[-8237880.097134579,4973635.9745347],\"2043\":[-8237859.169070309,4973540.1862646],\"2122\":[-8234744.449717913,4977441.967376146],\"2143\":[-8236463.256051607,4977424.962674787],\"2144\":[-8236146.685683693,4977249.626382654],\"2157\":[-8235390.303139597,4975850.6054761205],\"2158\":[-8235568.6592277475,4975949.869721483],\"218\":[-8233124.472828145,4979489.185236867],\"219\":[-8233497.67142103,4979697.667529709],\"2192\":[-8237974.273423787,4971614.9235575935],\"2193\":[-8238046.965051278,4971669.858654013],\"2272\":[-8235645.358356902,4972895.946389109],\"2273\":[-8235821.79974981,4972994.416717828],\"2274\":[-8235910.298744992,4973043.483311903],\"2275\":[-8235999.465657118,4973093.284687702],\"2276\":[-8236159.743459961,4973182.48707828],\"2382\":[-8237456.259305333,4977127.583599053],\"2413\":[-8235260.192918758,4977358.046449455],\"2414\":[-8235310.954606561,4977266.189869277],\"2415\":[-8235362.194968172,4977173.760975868],\"2416\":[-8235412.834204535,4977083.037774985],\"2417\":[-8235462.415905734,4976992.77101036],\"2418\":[-8235514.201732852,4976899.271864285],\"2435\":[-8236385.299012207,4975316.564979174],\"2436\":[-8236435.259199675,4975227.166780557],\"249\":[-8238061.770543554,4971479.2028780775],\"2496\":[-8235612.073829156,4974174.727585752],\"2497\":[-8235790.185014428,4974273.9013458835],\"2722\":[-8235951.008282776,4977021.458761778],\"288\":[-8234900.853602477,4977158.7555089835],\"309\":[-8232781.898227178,4979297.803527446],\"313\":[-8233617.373269478,4977786.109504619],\"326\":[-8235102.898478269,4975097.008932615],\"344\":[-8235052.470748938,4975187.816550662],\"415\":[-8233325.237529791,4976401.7515332615],\"416\":[-8233620.467951323,4976566.182917651],\"417\":[-8234133.383637102,4976851.861290577],\"457\":[-8233566.700637269,4977877.79459919],\"482\":[-8232960.154127786,4979397.3821130665],\"490\":[-8234100.210428846,4977334.472294326],\"505\":[-8235439.194659955,4974909.518850677],\"516\":[-8239445.471814115,4970360.460350082],\"517\":[-8239417.998163788,4970410.673973621],\"518\":[-8239233.742142625,4970687.242720592],\"519\":[-8239337.213609317,4970545.1020624805],\"539\":[-8235809.554605824,4972600.732324353],\"544\":[-8235618.7529986035,4975859.201969695],\"589\":[-8233319.382124576,4979598.0711816205],\"608\":[-8235336.4579019025,4975948.135711209],\"609\":[-8235440.586153589,4975759.9092560215],\"705\":[-8233312.535975892,4978337.67344388],\"727\":[-8236870.741047657,4976686.484546719],\"728\":[-8236925.95551509,4976586.41923513],\"738\":[-8238239.659089843,4974205.87538423],\"808\":[-8235234.600567824,4975891.163358303],\"818\":[-8233569.750791318,4976657.93004356],\"819\":[-8234082.800060485,4976943.846243402],\"859\":[-8235743.4085643925,4978729.075499974],\"910\":[-8233884.128165265,4976713.025760364],\"941\":[-8236567.451094992,4971853.026834385]}},\"id\":\"1789\",\"type\":\"StaticLayoutProvider\"},{\"attributes\":{\"source\":{\"id\":\"1781\"}},\"id\":\"1783\",\"type\":\"CDSView\"},{\"attributes\":{},\"id\":\"1754\",\"type\":\"HelpTool\"},{\"attributes\":{\"axis\":{\"id\":\"1741\"},\"dimension\":1,\"ticker\":null},\"id\":\"1748\",\"type\":\"Grid\"},{\"attributes\":{},\"id\":\"1753\",\"type\":\"ResetTool\"}],\"root_ids\":[\"1722\"]},\"title\":\"Bokeh Application\",\"version\":\"2.1.0\"}};\n",
       "  var render_items = [{\"docid\":\"7a49fa8e-427b-4e8d-b298-bacc9832ff88\",\"root_ids\":[\"1722\"],\"roots\":{\"1722\":\"ad6790d1-1fc3-43e8-83ce-03ea1ce49fad\"}}];\n",
       "  root.Bokeh.embed.embed_items_notebook(docs_json, render_items);\n",
       "\n",
       "  }\n",
       "  if (root.Bokeh !== undefined) {\n",
       "    embed_document(root);\n",
       "  } else {\n",
       "    var attempts = 0;\n",
       "    var timer = setInterval(function(root) {\n",
       "      if (root.Bokeh !== undefined) {\n",
       "        clearInterval(timer);\n",
       "        embed_document(root);\n",
       "      } else {\n",
       "        attempts++;\n",
       "        if (attempts > 100) {\n",
       "          clearInterval(timer);\n",
       "          console.log(\"Bokeh: ERROR: Unable to run BokehJS code because BokehJS library is missing\");\n",
       "        }\n",
       "      }\n",
       "    }, 10, root)\n",
       "  }\n",
       "})(window);"
      ],
      "application/vnd.bokehjs_exec.v0+json": ""
     },
     "metadata": {
      "application/vnd.bokehjs_exec.v0+json": {
       "id": "1722"
      }
     },
     "output_type": "display_data"
    }
   ],
   "source": [
    "random.seed(1101)  # set random seed\n",
    "taxis = [random.randint(0,1500) for i in range(3)]\n",
    "nyc_taxi.plot_taxi_route(taxis)"
   ]
  },
  {
   "cell_type": "code",
   "execution_count": 19,
   "metadata": {},
   "outputs": [
    {
     "data": {
      "text/html": [
       "\n",
       "\n",
       "\n",
       "\n",
       "\n",
       "\n",
       "  <div class=\"bk-root\" id=\"45d84b25-47fe-459b-8bb9-dff6dbd58d72\" data-root-id=\"1222\"></div>\n"
      ]
     },
     "metadata": {},
     "output_type": "display_data"
    },
    {
     "data": {
      "application/javascript": [
       "(function(root) {\n",
       "  function embed_document(root) {\n",
       "    \n",
       "  var docs_json = {\"a8a8d9ed-308f-491a-a7a2-48e8ceed52d0\":{\"roots\":{\"references\":[{\"attributes\":{\"below\":[{\"id\":\"1233\"}],\"center\":[{\"id\":\"1240\"},{\"id\":\"1248\"}],\"left\":[{\"id\":\"1241\"}],\"plot_height\":470,\"renderers\":[{\"id\":\"1264\"},{\"id\":\"1266\"}],\"title\":{\"id\":\"1223\"},\"toolbar\":{\"id\":\"1256\"},\"x_range\":{\"id\":\"1225\"},\"x_scale\":{\"id\":\"1229\"},\"y_range\":{\"id\":\"1227\"},\"y_scale\":{\"id\":\"1231\"}},\"id\":\"1222\",\"subtype\":\"Figure\",\"type\":\"Plot\"},{\"attributes\":{\"bottom_units\":\"screen\",\"fill_alpha\":0.5,\"fill_color\":\"lightgrey\",\"left_units\":\"screen\",\"level\":\"overlay\",\"line_alpha\":1.0,\"line_color\":\"black\",\"line_dash\":[4,4],\"line_width\":2,\"right_units\":\"screen\",\"top_units\":\"screen\"},\"id\":\"1255\",\"type\":\"BoxAnnotation\"},{\"attributes\":{\"dimension\":\"lat\"},\"id\":\"1242\",\"type\":\"MercatorTicker\"},{\"attributes\":{},\"id\":\"1328\",\"type\":\"UnionRenderers\"},{\"attributes\":{},\"id\":\"1327\",\"type\":\"Selection\"},{\"attributes\":{\"line_alpha\":{\"field\":\"alpha\"},\"line_cap\":\"round\",\"line_color\":{\"field\":\"color\"},\"line_width\":{\"value\":3}},\"id\":\"1284\",\"type\":\"MultiLine\"},{\"attributes\":{},\"id\":\"1229\",\"type\":\"LinearScale\"},{\"attributes\":{},\"id\":\"1250\",\"type\":\"WheelZoomTool\"},{\"attributes\":{\"overlay\":{\"id\":\"1255\"}},\"id\":\"1251\",\"type\":\"BoxZoomTool\"},{\"attributes\":{\"graph_layout\":{\"1087\":[-8238055.759291051,4973602.6248310665],\"1120\":[-8233318.992506358,4976518.186126016],\"1482\":[-8235514.780594204,4976047.885887425],\"1633\":[-8238282.038419987,4973648.43295538],\"1634\":[-8238293.983001348,4973557.815937068],\"1635\":[-8238305.782867372,4973456.592667173],\"2042\":[-8237880.097134579,4973635.9745347],\"2043\":[-8237859.169070309,4973540.1862646],\"2122\":[-8234744.449717913,4977441.967376146],\"2157\":[-8235390.303139597,4975850.6054761205],\"2158\":[-8235568.6592277475,4975949.869721483],\"218\":[-8233124.472828145,4979489.185236867],\"219\":[-8233497.67142103,4979697.667529709],\"2192\":[-8237974.273423787,4971614.9235575935],\"2193\":[-8238046.965051278,4971669.858654013],\"2435\":[-8236385.299012207,4975316.564979174],\"2436\":[-8236435.259199675,4975227.166780557],\"249\":[-8238061.770543554,4971479.2028780775],\"2496\":[-8235612.073829156,4974174.727585752],\"2497\":[-8235790.185014428,4974273.9013458835],\"309\":[-8232781.898227178,4979297.803527446],\"415\":[-8233325.237529791,4976401.7515332615],\"416\":[-8233620.467951323,4976566.182917651],\"417\":[-8234133.383637102,4976851.861290577],\"482\":[-8232960.154127786,4979397.3821130665],\"516\":[-8239445.471814115,4970360.460350082],\"517\":[-8239417.998163788,4970410.673973621],\"518\":[-8239233.742142625,4970687.242720592],\"519\":[-8239337.213609317,4970545.1020624805],\"544\":[-8235618.7529986035,4975859.201969695],\"589\":[-8233319.382124576,4979598.0711816205],\"608\":[-8235336.4579019025,4975948.135711209],\"609\":[-8235440.586153589,4975759.9092560215],\"808\":[-8235234.600567824,4975891.163358303],\"818\":[-8233569.750791318,4976657.93004356],\"819\":[-8234082.800060485,4976943.846243402],\"859\":[-8235743.4085643925,4978729.075499974],\"910\":[-8233884.128165265,4976713.025760364]}},\"id\":\"1289\",\"type\":\"StaticLayoutProvider\"},{\"attributes\":{},\"id\":\"1254\",\"type\":\"HelpTool\"},{\"attributes\":{\"edge_renderer\":{\"id\":\"1282\"},\"inspection_policy\":{\"id\":\"1323\"},\"layout_provider\":{\"id\":\"1289\"},\"node_renderer\":{\"id\":\"1269\"},\"selection_policy\":{\"id\":\"1324\"}},\"id\":\"1266\",\"type\":\"GraphRenderer\"},{\"attributes\":{\"source\":{\"id\":\"1281\"}},\"id\":\"1283\",\"type\":\"CDSView\"},{\"attributes\":{\"axis\":{\"id\":\"1241\"},\"dimension\":1,\"ticker\":null},\"id\":\"1248\",\"type\":\"Grid\"},{\"attributes\":{},\"id\":\"1252\",\"type\":\"SaveTool\"},{\"attributes\":{},\"id\":\"1329\",\"type\":\"Selection\"},{\"attributes\":{\"tile_source\":{\"id\":\"1263\"}},\"id\":\"1264\",\"type\":\"TileRenderer\"},{\"attributes\":{\"active_drag\":\"auto\",\"active_inspect\":\"auto\",\"active_multi\":null,\"active_scroll\":\"auto\",\"active_tap\":\"auto\",\"tools\":[{\"id\":\"1249\"},{\"id\":\"1250\"},{\"id\":\"1251\"},{\"id\":\"1252\"},{\"id\":\"1253\"},{\"id\":\"1254\"}]},\"id\":\"1256\",\"type\":\"Toolbar\"},{\"attributes\":{\"attribution\":\"&copy; <a href=\\\"https://www.openstreetmap.org/copyright\\\">OpenStreetMap</a> contributors,&copy; <a href=\\\"https://cartodb.com/attributions\\\">CartoDB</a>\",\"url\":\"https://tiles.basemaps.cartocdn.com/light_all/{z}/{x}/{y}@2x.png\"},\"id\":\"1263\",\"type\":\"WMTSTileSource\"},{\"attributes\":{},\"id\":\"1326\",\"type\":\"UnionRenderers\"},{\"attributes\":{\"fill_color\":{\"field\":\"start_colors\"},\"line_width\":{\"value\":0},\"size\":{\"units\":\"screen\",\"value\":7}},\"id\":\"1275\",\"type\":\"Circle\"},{\"attributes\":{\"dimension\":\"lat\"},\"id\":\"1244\",\"type\":\"MercatorTickFormatter\"},{\"attributes\":{\"dimension\":\"lon\"},\"id\":\"1234\",\"type\":\"MercatorTicker\"},{\"attributes\":{\"end\":-8231781.898227178,\"start\":-8240445.471814115},\"id\":\"1225\",\"type\":\"Range1d\"},{\"attributes\":{\"data_source\":{\"id\":\"1281\"},\"glyph\":{\"id\":\"1284\"},\"hover_glyph\":null,\"muted_glyph\":null,\"view\":{\"id\":\"1283\"}},\"id\":\"1282\",\"type\":\"GlyphRenderer\"},{\"attributes\":{},\"id\":\"1253\",\"type\":\"ResetTool\"},{\"attributes\":{},\"id\":\"1324\",\"type\":\"NodesOnly\"},{\"attributes\":{\"end\":4980697.667529709,\"start\":4969360.460350082},\"id\":\"1227\",\"type\":\"Range1d\"},{\"attributes\":{\"formatter\":{\"id\":\"1244\"},\"ticker\":{\"id\":\"1242\"}},\"id\":\"1241\",\"type\":\"MercatorAxis\"},{\"attributes\":{},\"id\":\"1249\",\"type\":\"PanTool\"},{\"attributes\":{\"data\":{\"index\":[544],\"start_colors\":[\"#1f77b4\"]},\"selected\":{\"id\":\"1327\"},\"selection_policy\":{\"id\":\"1326\"}},\"id\":\"1268\",\"type\":\"ColumnDataSource\"},{\"attributes\":{\"data\":{\"alpha\":[1,1,1,1,1,1,1,1,1,0.3,1,0.3,1,1,1,1,0.3,1,0.3,1,1,1,1,1,1,0.3,1,1,1,1,1,1,0.3,1,1,0.3,1,1,1,0.3,1,0.3,1,1],\"color\":[\"#1f77b4\",\"#1f77b4\",\"#1f77b4\",\"#1f77b4\",\"#1f77b4\",\"#1f77b4\",\"#1f77b4\",\"#1f77b4\",\"#1f77b4\",\"#1f77b4\",\"#1f77b4\",\"#1f77b4\",\"#1f77b4\",\"#1f77b4\",\"#1f77b4\",\"#1f77b4\",\"#1f77b4\",\"#1f77b4\",\"#1f77b4\",\"#1f77b4\",\"#1f77b4\",\"#1f77b4\",\"#1f77b4\",\"#1f77b4\",\"#1f77b4\",\"#1f77b4\",\"#1f77b4\",\"#1f77b4\",\"#1f77b4\",\"#1f77b4\",\"#1f77b4\",\"#1f77b4\",\"#1f77b4\",\"#1f77b4\",\"#1f77b4\",\"#1f77b4\",\"#1f77b4\",\"#1f77b4\",\"#1f77b4\",\"#1f77b4\",\"#1f77b4\",\"#1f77b4\",\"#1f77b4\",\"#1f77b4\"],\"end\":[609,609,2157,608,1482,2158,2157,608,808,2122,2122,309,482,218,589,219,859,859,818,1120,415,416,910,417,819,1635,1635,1634,1633,1087,2042,2043,249,2192,2193,518,519,517,516,2436,2435,2497,2496,2496],\"start\":[544,609,609,2157,608,1482,2158,2157,608,808,2122,2122,309,482,218,589,219,859,859,818,1120,415,416,910,417,819,1635,1635,1634,1633,1087,2042,2043,249,2192,2193,518,519,517,516,2436,2435,2497,2496]},\"selected\":{\"id\":\"1329\"},\"selection_policy\":{\"id\":\"1328\"}},\"id\":\"1281\",\"type\":\"ColumnDataSource\"},{\"attributes\":{\"axis\":{\"id\":\"1233\"},\"ticker\":null},\"id\":\"1240\",\"type\":\"Grid\"},{\"attributes\":{},\"id\":\"1231\",\"type\":\"LinearScale\"},{\"attributes\":{},\"id\":\"1323\",\"type\":\"NodesOnly\"},{\"attributes\":{\"data_source\":{\"id\":\"1268\"},\"glyph\":{\"id\":\"1275\"},\"hover_glyph\":null,\"muted_glyph\":null,\"view\":{\"id\":\"1270\"}},\"id\":\"1269\",\"type\":\"GlyphRenderer\"},{\"attributes\":{\"text\":\"Taxi Routes\"},\"id\":\"1223\",\"type\":\"Title\"},{\"attributes\":{\"dimension\":\"lon\"},\"id\":\"1236\",\"type\":\"MercatorTickFormatter\"},{\"attributes\":{\"source\":{\"id\":\"1268\"}},\"id\":\"1270\",\"type\":\"CDSView\"},{\"attributes\":{\"formatter\":{\"id\":\"1236\"},\"ticker\":{\"id\":\"1234\"}},\"id\":\"1233\",\"type\":\"MercatorAxis\"}],\"root_ids\":[\"1222\"]},\"title\":\"Bokeh Application\",\"version\":\"2.1.0\"}};\n",
       "  var render_items = [{\"docid\":\"a8a8d9ed-308f-491a-a7a2-48e8ceed52d0\",\"root_ids\":[\"1222\"],\"roots\":{\"1222\":\"45d84b25-47fe-459b-8bb9-dff6dbd58d72\"}}];\n",
       "  root.Bokeh.embed.embed_items_notebook(docs_json, render_items);\n",
       "\n",
       "  }\n",
       "  if (root.Bokeh !== undefined) {\n",
       "    embed_document(root);\n",
       "  } else {\n",
       "    var attempts = 0;\n",
       "    var timer = setInterval(function(root) {\n",
       "      if (root.Bokeh !== undefined) {\n",
       "        clearInterval(timer);\n",
       "        embed_document(root);\n",
       "      } else {\n",
       "        attempts++;\n",
       "        if (attempts > 100) {\n",
       "          clearInterval(timer);\n",
       "          console.log(\"Bokeh: ERROR: Unable to run BokehJS code because BokehJS library is missing\");\n",
       "        }\n",
       "      }\n",
       "    }, 10, root)\n",
       "  }\n",
       "})(window);"
      ],
      "application/vnd.bokehjs_exec.v0+json": ""
     },
     "metadata": {
      "application/vnd.bokehjs_exec.v0+json": {
       "id": "1222"
      }
     },
     "output_type": "display_data"
    }
   ],
   "source": [
    "nyc_taxi.plot_taxi_route([taxis[2]])"
   ]
  },
  {
   "cell_type": "code",
   "execution_count": null,
   "metadata": {},
   "outputs": [],
   "source": [
    "trips_df['value'] = 1\n",
    "nyc_taxi = TaxiRouting(trips_df, nodes_df, arcs_df, 1020, 1140, 1500)\n",
    "print('This instance has',len(nyc_taxi.nodes),'nodes and',len(nyc_taxi.arcs),'arcs.')\n",
    "nyc_taxi.optimize()\n",
    "nyc_taxi.get_stats()"
   ]
  },
  {
   "cell_type": "code",
   "execution_count": null,
   "metadata": {
    "scrolled": false
   },
   "outputs": [],
   "source": [
    "random.seed(1101)  # set random seed\n",
    "taxis = [random.randint(0,1500) for i in range(3)]\n",
    "nyc_taxi.plot_taxi_route(taxis)"
   ]
  }
 ],
 "metadata": {
  "kernelspec": {
   "display_name": "Python 3",
   "language": "python",
   "name": "python3"
  },
  "language_info": {
   "codemirror_mode": {
    "name": "ipython",
    "version": 3
   },
   "file_extension": ".py",
   "mimetype": "text/x-python",
   "name": "python",
   "nbconvert_exporter": "python",
   "pygments_lexer": "ipython3",
   "version": "3.6.10"
  }
 },
 "nbformat": 4,
 "nbformat_minor": 4
}
