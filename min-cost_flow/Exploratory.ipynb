{
 "cells": [
  {
   "cell_type": "code",
   "execution_count": null,
   "metadata": {},
   "outputs": [],
   "source": [
    "from ortools.graph import pywrapgraph\n",
    "from sub_problem import *\n",
    "import pandas as pd\n",
    "from datetime import datetime"
   ]
  },
  {
   "cell_type": "code",
   "execution_count": null,
   "metadata": {},
   "outputs": [],
   "source": [
    "rides = list()\n",
    "# start, end, start_time, trip_time, value, capacity\n",
    "rides.append(Trip(1, 2, 1, 2, 1, 1))\n",
    "rides.append(Trip(2, 1, 1, 1, 1, 1))\n",
    "rides.append(Trip(2, 3, 0, 1, 1, 1))"
   ]
  },
  {
   "cell_type": "code",
   "execution_count": null,
   "metadata": {},
   "outputs": [],
   "source": [
    "node_to_id = {}\n",
    "nodes = pd.read_csv('nyc_nodes.csv')[['name']].reset_index().rename(columns={'index':'id'})\n",
    "for index, row in nodes.iterrows():\n",
    "    node_to_id[row['name']] = row['id']"
   ]
  },
  {
   "cell_type": "code",
   "execution_count": null,
   "metadata": {},
   "outputs": [],
   "source": [
    "# Generate trips from CSV\n",
    "trip_data = pd.read_csv('2013-09-01_trip_data_discrete.csv', index_col=0)\n",
    "trip_data.start_node = trip_data.start_node.apply(lambda x: node_to_id[x])\n",
    "trip_data.end_node = trip_data.end_node.apply(lambda x: node_to_id[x])\n",
    "rides = []\n",
    "trip_data.apply(lambda x: rides.append(Trip(x.start_node,\n",
    "                                            x.end_node, \n",
    "                                            x.start_time,\n",
    "                                            x.trip_time, 1, 1)), axis=1);"
   ]
  },
  {
   "cell_type": "code",
   "execution_count": null,
   "metadata": {},
   "outputs": [],
   "source": [
    "B = 1200\n",
    "T = max(trip_data.start_time + trip_data.trip_time)+1\n",
    "L = len(nodes)"
   ]
  },
  {
   "cell_type": "code",
   "execution_count": null,
   "metadata": {},
   "outputs": [],
   "source": [
    "problem = {'bikes': B,\n",
    "           'L': list(range(1, L+1)),\n",
    "           'T_max': T,\n",
    "           'B_max': 1,\n",
    "           'trips': rides,\n",
    "           'capacity': 1}\n",
    "problem = Problem(problem)\n",
    "model = BikeRouting(problem)"
   ]
  },
  {
   "cell_type": "code",
   "execution_count": null,
   "metadata": {},
   "outputs": [],
   "source": [
    "# model.draw_graph()"
   ]
  },
  {
   "cell_type": "code",
   "execution_count": null,
   "metadata": {},
   "outputs": [],
   "source": [
    "model.optimize()"
   ]
  },
  {
   "cell_type": "code",
   "execution_count": null,
   "metadata": {
    "scrolled": true
   },
   "outputs": [],
   "source": [
    "# model.draw_graph()"
   ]
  }
 ],
 "metadata": {
  "kernelspec": {
   "display_name": "Python 3",
   "language": "python",
   "name": "python3"
  },
  "language_info": {
   "codemirror_mode": {
    "name": "ipython",
    "version": 3
   },
   "file_extension": ".py",
   "mimetype": "text/x-python",
   "name": "python",
   "nbconvert_exporter": "python",
   "pygments_lexer": "ipython3",
   "version": "3.6.10"
  }
 },
 "nbformat": 4,
 "nbformat_minor": 4
}
