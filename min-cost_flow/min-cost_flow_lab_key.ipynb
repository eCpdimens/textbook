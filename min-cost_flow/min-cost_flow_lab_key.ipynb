{
 "cells": [
  {
   "cell_type": "code",
   "execution_count": 1,
   "metadata": {},
   "outputs": [
    {
     "data": {
      "text/html": [
       "\n",
       "    <div class=\"bk-root\">\n",
       "        <a href=\"https://bokeh.org\" target=\"_blank\" class=\"bk-logo bk-logo-small bk-logo-notebook\"></a>\n",
       "        <span id=\"1001\">Loading BokehJS ...</span>\n",
       "    </div>"
      ]
     },
     "metadata": {},
     "output_type": "display_data"
    },
    {
     "data": {
      "application/javascript": [
       "\n",
       "(function(root) {\n",
       "  function now() {\n",
       "    return new Date();\n",
       "  }\n",
       "\n",
       "  var force = true;\n",
       "\n",
       "  if (typeof root._bokeh_onload_callbacks === \"undefined\" || force === true) {\n",
       "    root._bokeh_onload_callbacks = [];\n",
       "    root._bokeh_is_loading = undefined;\n",
       "  }\n",
       "\n",
       "  var JS_MIME_TYPE = 'application/javascript';\n",
       "  var HTML_MIME_TYPE = 'text/html';\n",
       "  var EXEC_MIME_TYPE = 'application/vnd.bokehjs_exec.v0+json';\n",
       "  var CLASS_NAME = 'output_bokeh rendered_html';\n",
       "\n",
       "  /**\n",
       "   * Render data to the DOM node\n",
       "   */\n",
       "  function render(props, node) {\n",
       "    var script = document.createElement(\"script\");\n",
       "    node.appendChild(script);\n",
       "  }\n",
       "\n",
       "  /**\n",
       "   * Handle when an output is cleared or removed\n",
       "   */\n",
       "  function handleClearOutput(event, handle) {\n",
       "    var cell = handle.cell;\n",
       "\n",
       "    var id = cell.output_area._bokeh_element_id;\n",
       "    var server_id = cell.output_area._bokeh_server_id;\n",
       "    // Clean up Bokeh references\n",
       "    if (id != null && id in Bokeh.index) {\n",
       "      Bokeh.index[id].model.document.clear();\n",
       "      delete Bokeh.index[id];\n",
       "    }\n",
       "\n",
       "    if (server_id !== undefined) {\n",
       "      // Clean up Bokeh references\n",
       "      var cmd = \"from bokeh.io.state import curstate; print(curstate().uuid_to_server['\" + server_id + \"'].get_sessions()[0].document.roots[0]._id)\";\n",
       "      cell.notebook.kernel.execute(cmd, {\n",
       "        iopub: {\n",
       "          output: function(msg) {\n",
       "            var id = msg.content.text.trim();\n",
       "            if (id in Bokeh.index) {\n",
       "              Bokeh.index[id].model.document.clear();\n",
       "              delete Bokeh.index[id];\n",
       "            }\n",
       "          }\n",
       "        }\n",
       "      });\n",
       "      // Destroy server and session\n",
       "      var cmd = \"import bokeh.io.notebook as ion; ion.destroy_server('\" + server_id + \"')\";\n",
       "      cell.notebook.kernel.execute(cmd);\n",
       "    }\n",
       "  }\n",
       "\n",
       "  /**\n",
       "   * Handle when a new output is added\n",
       "   */\n",
       "  function handleAddOutput(event, handle) {\n",
       "    var output_area = handle.output_area;\n",
       "    var output = handle.output;\n",
       "\n",
       "    // limit handleAddOutput to display_data with EXEC_MIME_TYPE content only\n",
       "    if ((output.output_type != \"display_data\") || (!output.data.hasOwnProperty(EXEC_MIME_TYPE))) {\n",
       "      return\n",
       "    }\n",
       "\n",
       "    var toinsert = output_area.element.find(\".\" + CLASS_NAME.split(' ')[0]);\n",
       "\n",
       "    if (output.metadata[EXEC_MIME_TYPE][\"id\"] !== undefined) {\n",
       "      toinsert[toinsert.length - 1].firstChild.textContent = output.data[JS_MIME_TYPE];\n",
       "      // store reference to embed id on output_area\n",
       "      output_area._bokeh_element_id = output.metadata[EXEC_MIME_TYPE][\"id\"];\n",
       "    }\n",
       "    if (output.metadata[EXEC_MIME_TYPE][\"server_id\"] !== undefined) {\n",
       "      var bk_div = document.createElement(\"div\");\n",
       "      bk_div.innerHTML = output.data[HTML_MIME_TYPE];\n",
       "      var script_attrs = bk_div.children[0].attributes;\n",
       "      for (var i = 0; i < script_attrs.length; i++) {\n",
       "        toinsert[toinsert.length - 1].firstChild.setAttribute(script_attrs[i].name, script_attrs[i].value);\n",
       "        toinsert[toinsert.length - 1].firstChild.textContent = bk_div.children[0].textContent\n",
       "      }\n",
       "      // store reference to server id on output_area\n",
       "      output_area._bokeh_server_id = output.metadata[EXEC_MIME_TYPE][\"server_id\"];\n",
       "    }\n",
       "  }\n",
       "\n",
       "  function register_renderer(events, OutputArea) {\n",
       "\n",
       "    function append_mime(data, metadata, element) {\n",
       "      // create a DOM node to render to\n",
       "      var toinsert = this.create_output_subarea(\n",
       "        metadata,\n",
       "        CLASS_NAME,\n",
       "        EXEC_MIME_TYPE\n",
       "      );\n",
       "      this.keyboard_manager.register_events(toinsert);\n",
       "      // Render to node\n",
       "      var props = {data: data, metadata: metadata[EXEC_MIME_TYPE]};\n",
       "      render(props, toinsert[toinsert.length - 1]);\n",
       "      element.append(toinsert);\n",
       "      return toinsert\n",
       "    }\n",
       "\n",
       "    /* Handle when an output is cleared or removed */\n",
       "    events.on('clear_output.CodeCell', handleClearOutput);\n",
       "    events.on('delete.Cell', handleClearOutput);\n",
       "\n",
       "    /* Handle when a new output is added */\n",
       "    events.on('output_added.OutputArea', handleAddOutput);\n",
       "\n",
       "    /**\n",
       "     * Register the mime type and append_mime function with output_area\n",
       "     */\n",
       "    OutputArea.prototype.register_mime_type(EXEC_MIME_TYPE, append_mime, {\n",
       "      /* Is output safe? */\n",
       "      safe: true,\n",
       "      /* Index of renderer in `output_area.display_order` */\n",
       "      index: 0\n",
       "    });\n",
       "  }\n",
       "\n",
       "  // register the mime type if in Jupyter Notebook environment and previously unregistered\n",
       "  if (root.Jupyter !== undefined) {\n",
       "    var events = require('base/js/events');\n",
       "    var OutputArea = require('notebook/js/outputarea').OutputArea;\n",
       "\n",
       "    if (OutputArea.prototype.mime_types().indexOf(EXEC_MIME_TYPE) == -1) {\n",
       "      register_renderer(events, OutputArea);\n",
       "    }\n",
       "  }\n",
       "\n",
       "  \n",
       "  if (typeof (root._bokeh_timeout) === \"undefined\" || force === true) {\n",
       "    root._bokeh_timeout = Date.now() + 5000;\n",
       "    root._bokeh_failed_load = false;\n",
       "  }\n",
       "\n",
       "  var NB_LOAD_WARNING = {'data': {'text/html':\n",
       "     \"<div style='background-color: #fdd'>\\n\"+\n",
       "     \"<p>\\n\"+\n",
       "     \"BokehJS does not appear to have successfully loaded. If loading BokehJS from CDN, this \\n\"+\n",
       "     \"may be due to a slow or bad network connection. Possible fixes:\\n\"+\n",
       "     \"</p>\\n\"+\n",
       "     \"<ul>\\n\"+\n",
       "     \"<li>re-rerun `output_notebook()` to attempt to load from CDN again, or</li>\\n\"+\n",
       "     \"<li>use INLINE resources instead, as so:</li>\\n\"+\n",
       "     \"</ul>\\n\"+\n",
       "     \"<code>\\n\"+\n",
       "     \"from bokeh.resources import INLINE\\n\"+\n",
       "     \"output_notebook(resources=INLINE)\\n\"+\n",
       "     \"</code>\\n\"+\n",
       "     \"</div>\"}};\n",
       "\n",
       "  function display_loaded() {\n",
       "    var el = document.getElementById(\"1001\");\n",
       "    if (el != null) {\n",
       "      el.textContent = \"BokehJS is loading...\";\n",
       "    }\n",
       "    if (root.Bokeh !== undefined) {\n",
       "      if (el != null) {\n",
       "        el.textContent = \"BokehJS \" + root.Bokeh.version + \" successfully loaded.\";\n",
       "      }\n",
       "    } else if (Date.now() < root._bokeh_timeout) {\n",
       "      setTimeout(display_loaded, 100)\n",
       "    }\n",
       "  }\n",
       "\n",
       "\n",
       "  function run_callbacks() {\n",
       "    try {\n",
       "      root._bokeh_onload_callbacks.forEach(function(callback) {\n",
       "        if (callback != null)\n",
       "          callback();\n",
       "      });\n",
       "    } finally {\n",
       "      delete root._bokeh_onload_callbacks\n",
       "    }\n",
       "    console.debug(\"Bokeh: all callbacks have finished\");\n",
       "  }\n",
       "\n",
       "  function load_libs(css_urls, js_urls, callback) {\n",
       "    if (css_urls == null) css_urls = [];\n",
       "    if (js_urls == null) js_urls = [];\n",
       "\n",
       "    root._bokeh_onload_callbacks.push(callback);\n",
       "    if (root._bokeh_is_loading > 0) {\n",
       "      console.debug(\"Bokeh: BokehJS is being loaded, scheduling callback at\", now());\n",
       "      return null;\n",
       "    }\n",
       "    if (js_urls == null || js_urls.length === 0) {\n",
       "      run_callbacks();\n",
       "      return null;\n",
       "    }\n",
       "    console.debug(\"Bokeh: BokehJS not loaded, scheduling load and callback at\", now());\n",
       "    root._bokeh_is_loading = css_urls.length + js_urls.length;\n",
       "\n",
       "    function on_load() {\n",
       "      root._bokeh_is_loading--;\n",
       "      if (root._bokeh_is_loading === 0) {\n",
       "        console.debug(\"Bokeh: all BokehJS libraries/stylesheets loaded\");\n",
       "        run_callbacks()\n",
       "      }\n",
       "    }\n",
       "\n",
       "    function on_error() {\n",
       "      console.error(\"failed to load \" + url);\n",
       "    }\n",
       "\n",
       "    for (var i = 0; i < css_urls.length; i++) {\n",
       "      var url = css_urls[i];\n",
       "      const element = document.createElement(\"link\");\n",
       "      element.onload = on_load;\n",
       "      element.onerror = on_error;\n",
       "      element.rel = \"stylesheet\";\n",
       "      element.type = \"text/css\";\n",
       "      element.href = url;\n",
       "      console.debug(\"Bokeh: injecting link tag for BokehJS stylesheet: \", url);\n",
       "      document.body.appendChild(element);\n",
       "    }\n",
       "\n",
       "    const hashes = {\"https://cdn.bokeh.org/bokeh/release/bokeh-2.1.0.min.js\": \"YobFyzPeVUsFQydHkJGsJL1kyfHnWxOlPc3EwaV22TmBaeGoXHLWx5aRRVPS9xlE\", \"https://cdn.bokeh.org/bokeh/release/bokeh-widgets-2.1.0.min.js\": \"NuAg9+TcTQQqvQCTtkCneRrpkTiMhhfiq0KHiBzx8ECiKiLWXHN6i6ia3q7b3eHu\", \"https://cdn.bokeh.org/bokeh/release/bokeh-tables-2.1.0.min.js\": \"uMVqQc8JqHitD67bXTn9a06Mrk3EiHRaZ18EJENQenAKJ/KL71SakdXYomZQpGRr\", \"https://cdn.bokeh.org/bokeh/release/bokeh-gl-2.1.0.min.js\": \"u+eGuEXC8aw0VSCm2mH+b/tQEAitUOYiR1H6SuIVEdUmXsf4vN8m/SmXpmjb7U/X\"};\n",
       "\n",
       "    for (var i = 0; i < js_urls.length; i++) {\n",
       "      var url = js_urls[i];\n",
       "      var element = document.createElement('script');\n",
       "      element.onload = on_load;\n",
       "      element.onerror = on_error;\n",
       "      element.async = false;\n",
       "      element.src = url;\n",
       "      if (url in hashes) {\n",
       "        element.crossOrigin = \"anonymous\";\n",
       "        element.integrity = \"sha384-\" + hashes[url];\n",
       "      }\n",
       "      console.debug(\"Bokeh: injecting script tag for BokehJS library: \", url);\n",
       "      document.head.appendChild(element);\n",
       "    }\n",
       "  };\n",
       "\n",
       "  function inject_raw_css(css) {\n",
       "    const element = document.createElement(\"style\");\n",
       "    element.appendChild(document.createTextNode(css));\n",
       "    document.body.appendChild(element);\n",
       "  }\n",
       "\n",
       "  \n",
       "  var js_urls = [\"https://cdn.bokeh.org/bokeh/release/bokeh-2.1.0.min.js\", \"https://cdn.bokeh.org/bokeh/release/bokeh-widgets-2.1.0.min.js\", \"https://cdn.bokeh.org/bokeh/release/bokeh-tables-2.1.0.min.js\", \"https://cdn.bokeh.org/bokeh/release/bokeh-gl-2.1.0.min.js\"];\n",
       "  var css_urls = [];\n",
       "  \n",
       "\n",
       "  var inline_js = [\n",
       "    function(Bokeh) {\n",
       "      Bokeh.set_log_level(\"info\");\n",
       "    },\n",
       "    function(Bokeh) {\n",
       "    \n",
       "    \n",
       "    }\n",
       "  ];\n",
       "\n",
       "  function run_inline_js() {\n",
       "    \n",
       "    if (root.Bokeh !== undefined || force === true) {\n",
       "      \n",
       "    for (var i = 0; i < inline_js.length; i++) {\n",
       "      inline_js[i].call(root, root.Bokeh);\n",
       "    }\n",
       "    if (force === true) {\n",
       "        display_loaded();\n",
       "      }} else if (Date.now() < root._bokeh_timeout) {\n",
       "      setTimeout(run_inline_js, 100);\n",
       "    } else if (!root._bokeh_failed_load) {\n",
       "      console.log(\"Bokeh: BokehJS failed to load within specified timeout.\");\n",
       "      root._bokeh_failed_load = true;\n",
       "    } else if (force !== true) {\n",
       "      var cell = $(document.getElementById(\"1001\")).parents('.cell').data().cell;\n",
       "      cell.output_area.append_execute_result(NB_LOAD_WARNING)\n",
       "    }\n",
       "\n",
       "  }\n",
       "\n",
       "  if (root._bokeh_is_loading === 0) {\n",
       "    console.debug(\"Bokeh: BokehJS loaded, going straight to plotting\");\n",
       "    run_inline_js();\n",
       "  } else {\n",
       "    load_libs(css_urls, js_urls, function() {\n",
       "      console.debug(\"Bokeh: BokehJS plotting callback run at\", now());\n",
       "      run_inline_js();\n",
       "    });\n",
       "  }\n",
       "}(window));"
      ],
      "application/vnd.bokehjs_load.v0+json": "\n(function(root) {\n  function now() {\n    return new Date();\n  }\n\n  var force = true;\n\n  if (typeof root._bokeh_onload_callbacks === \"undefined\" || force === true) {\n    root._bokeh_onload_callbacks = [];\n    root._bokeh_is_loading = undefined;\n  }\n\n  \n\n  \n  if (typeof (root._bokeh_timeout) === \"undefined\" || force === true) {\n    root._bokeh_timeout = Date.now() + 5000;\n    root._bokeh_failed_load = false;\n  }\n\n  var NB_LOAD_WARNING = {'data': {'text/html':\n     \"<div style='background-color: #fdd'>\\n\"+\n     \"<p>\\n\"+\n     \"BokehJS does not appear to have successfully loaded. If loading BokehJS from CDN, this \\n\"+\n     \"may be due to a slow or bad network connection. Possible fixes:\\n\"+\n     \"</p>\\n\"+\n     \"<ul>\\n\"+\n     \"<li>re-rerun `output_notebook()` to attempt to load from CDN again, or</li>\\n\"+\n     \"<li>use INLINE resources instead, as so:</li>\\n\"+\n     \"</ul>\\n\"+\n     \"<code>\\n\"+\n     \"from bokeh.resources import INLINE\\n\"+\n     \"output_notebook(resources=INLINE)\\n\"+\n     \"</code>\\n\"+\n     \"</div>\"}};\n\n  function display_loaded() {\n    var el = document.getElementById(\"1001\");\n    if (el != null) {\n      el.textContent = \"BokehJS is loading...\";\n    }\n    if (root.Bokeh !== undefined) {\n      if (el != null) {\n        el.textContent = \"BokehJS \" + root.Bokeh.version + \" successfully loaded.\";\n      }\n    } else if (Date.now() < root._bokeh_timeout) {\n      setTimeout(display_loaded, 100)\n    }\n  }\n\n\n  function run_callbacks() {\n    try {\n      root._bokeh_onload_callbacks.forEach(function(callback) {\n        if (callback != null)\n          callback();\n      });\n    } finally {\n      delete root._bokeh_onload_callbacks\n    }\n    console.debug(\"Bokeh: all callbacks have finished\");\n  }\n\n  function load_libs(css_urls, js_urls, callback) {\n    if (css_urls == null) css_urls = [];\n    if (js_urls == null) js_urls = [];\n\n    root._bokeh_onload_callbacks.push(callback);\n    if (root._bokeh_is_loading > 0) {\n      console.debug(\"Bokeh: BokehJS is being loaded, scheduling callback at\", now());\n      return null;\n    }\n    if (js_urls == null || js_urls.length === 0) {\n      run_callbacks();\n      return null;\n    }\n    console.debug(\"Bokeh: BokehJS not loaded, scheduling load and callback at\", now());\n    root._bokeh_is_loading = css_urls.length + js_urls.length;\n\n    function on_load() {\n      root._bokeh_is_loading--;\n      if (root._bokeh_is_loading === 0) {\n        console.debug(\"Bokeh: all BokehJS libraries/stylesheets loaded\");\n        run_callbacks()\n      }\n    }\n\n    function on_error() {\n      console.error(\"failed to load \" + url);\n    }\n\n    for (var i = 0; i < css_urls.length; i++) {\n      var url = css_urls[i];\n      const element = document.createElement(\"link\");\n      element.onload = on_load;\n      element.onerror = on_error;\n      element.rel = \"stylesheet\";\n      element.type = \"text/css\";\n      element.href = url;\n      console.debug(\"Bokeh: injecting link tag for BokehJS stylesheet: \", url);\n      document.body.appendChild(element);\n    }\n\n    const hashes = {\"https://cdn.bokeh.org/bokeh/release/bokeh-2.1.0.min.js\": \"YobFyzPeVUsFQydHkJGsJL1kyfHnWxOlPc3EwaV22TmBaeGoXHLWx5aRRVPS9xlE\", \"https://cdn.bokeh.org/bokeh/release/bokeh-widgets-2.1.0.min.js\": \"NuAg9+TcTQQqvQCTtkCneRrpkTiMhhfiq0KHiBzx8ECiKiLWXHN6i6ia3q7b3eHu\", \"https://cdn.bokeh.org/bokeh/release/bokeh-tables-2.1.0.min.js\": \"uMVqQc8JqHitD67bXTn9a06Mrk3EiHRaZ18EJENQenAKJ/KL71SakdXYomZQpGRr\", \"https://cdn.bokeh.org/bokeh/release/bokeh-gl-2.1.0.min.js\": \"u+eGuEXC8aw0VSCm2mH+b/tQEAitUOYiR1H6SuIVEdUmXsf4vN8m/SmXpmjb7U/X\"};\n\n    for (var i = 0; i < js_urls.length; i++) {\n      var url = js_urls[i];\n      var element = document.createElement('script');\n      element.onload = on_load;\n      element.onerror = on_error;\n      element.async = false;\n      element.src = url;\n      if (url in hashes) {\n        element.crossOrigin = \"anonymous\";\n        element.integrity = \"sha384-\" + hashes[url];\n      }\n      console.debug(\"Bokeh: injecting script tag for BokehJS library: \", url);\n      document.head.appendChild(element);\n    }\n  };\n\n  function inject_raw_css(css) {\n    const element = document.createElement(\"style\");\n    element.appendChild(document.createTextNode(css));\n    document.body.appendChild(element);\n  }\n\n  \n  var js_urls = [\"https://cdn.bokeh.org/bokeh/release/bokeh-2.1.0.min.js\", \"https://cdn.bokeh.org/bokeh/release/bokeh-widgets-2.1.0.min.js\", \"https://cdn.bokeh.org/bokeh/release/bokeh-tables-2.1.0.min.js\", \"https://cdn.bokeh.org/bokeh/release/bokeh-gl-2.1.0.min.js\"];\n  var css_urls = [];\n  \n\n  var inline_js = [\n    function(Bokeh) {\n      Bokeh.set_log_level(\"info\");\n    },\n    function(Bokeh) {\n    \n    \n    }\n  ];\n\n  function run_inline_js() {\n    \n    if (root.Bokeh !== undefined || force === true) {\n      \n    for (var i = 0; i < inline_js.length; i++) {\n      inline_js[i].call(root, root.Bokeh);\n    }\n    if (force === true) {\n        display_loaded();\n      }} else if (Date.now() < root._bokeh_timeout) {\n      setTimeout(run_inline_js, 100);\n    } else if (!root._bokeh_failed_load) {\n      console.log(\"Bokeh: BokehJS failed to load within specified timeout.\");\n      root._bokeh_failed_load = true;\n    } else if (force !== true) {\n      var cell = $(document.getElementById(\"1001\")).parents('.cell').data().cell;\n      cell.output_area.append_execute_result(NB_LOAD_WARNING)\n    }\n\n  }\n\n  if (root._bokeh_is_loading === 0) {\n    console.debug(\"Bokeh: BokehJS loaded, going straight to plotting\");\n    run_inline_js();\n  } else {\n    load_libs(css_urls, js_urls, function() {\n      console.debug(\"Bokeh: BokehJS plotting callback run at\", now());\n      run_inline_js();\n    });\n  }\n}(window));"
     },
     "metadata": {},
     "output_type": "display_data"
    }
   ],
   "source": [
    "# IMPORTS\n",
    "from routing import TaxiRouting, create_dataframes\n",
    "import numpy as np\n",
    "import pandas as pd\n",
    "from bokeh.io import output_notebook\n",
    "output_notebook()"
   ]
  },
  {
   "cell_type": "markdown",
   "metadata": {
    "colab_type": "text",
    "id": "pkXM36r5cTcg"
   },
   "source": [
    "# Min-Cost Flow Lab\n",
    "\n",
    "**Objectives:**\n",
    "\n",
    "* Understand the min-cost flow problem.\n",
    "* Use the min-cost flow problem to solve the shortest path problem.\n",
    "* Apply min-cost flow to the taxi-routing problem.\n",
    "* Analyze solutions to the taxi-routing problem\n",
    "    \n",
    "<font color='red'> **Instructor Comments** </font>\n",
    "\n",
    "<font color='blue'> **Solutions** </font>"
   ]
  },
  {
   "cell_type": "markdown",
   "metadata": {},
   "source": [
    "**Review:** Recall the min-cost flow problem. For our input, we have a directed graph $G = (N,A)$. For each arc $(i,j) \\in A$, we have a per-unit cost $c(i,j)$ and capacity $u(i,j)$. For each node $i \\in N$, we have a demand / supply $s(i)$. If $s(i) > 0$, we have supply at node $i$. If $s(i) < 0$, we have demand at node $i$. Our goal is to distribute the supply from supply nodes to the demand nodes at minimal cost. A solution to the min-cost problem can be described by a giving a flow $f(i,j)$ for every arc $(i,j) \\in A$. The objective value of a solution is given by $\\sum_{(i,j) \\in A} c(i,j)*f(i,j)$."
   ]
  },
  {
   "cell_type": "markdown",
   "metadata": {
    "colab_type": "text",
    "id": "c30NLz3mcTci"
   },
   "source": [
    "## Part 1: A Little Theory"
   ]
  },
  {
   "cell_type": "markdown",
   "metadata": {},
   "source": [
    "**Q1:** What must be true for there to be an optimal solution? (Hint: supply and demand)\n",
    "\n",
    "**A:** <font color='blue'> The total supply must be greater or equal to the total demand.</font>"
   ]
  },
  {
   "cell_type": "markdown",
   "metadata": {},
   "source": [
    "**Q2:** Consider a cut $S \\subset N$ on the graph $G = (N,A)$. The capacity of a cut $S$ is the sum of capacities of all edges $(i,j)$ where $i \\in S$ and $j \\in T = N \\setminus S$ (the notation $A \\setminus B$ means all the elements of $A$ that are not in $B$). Notationally, the capcity of cut $S$ is $$\\sum_{(i,j) \\in A \\mid i \\in S, j \\in T}u(i,j).$$ Let the total demand and total supply in set $T$ be denoted $d_T$ and $s_T$ respectively. Assume $d_T > s_T$. Hence, the total supply within the set $T$ is not enough to satisfy the demand within set $T$. If we asssume this instance has a feasible solution, what must be true about the capacity of the cut $S$.\n",
    "\n",
    "\n",
    "**A:** <font color='blue'>The flow into set $T$ must be at least $d_T - s_T$ in order to satisfy the demand in set $T$. Hence, the capacity of the cut $S$ must be at least $d_T - s_T$.</font>"
   ]
  },
  {
   "cell_type": "markdown",
   "metadata": {},
   "source": [
    "Recall the shortest path problem. We have a directed graph $G = (N,A)$ with length $\\ell(i,j)$ for all edges $(i,j) \\in A$ and source/sink $s,t \\in N$. Our goal is to find an $s-t$ path of minimum length. How could we use the min-cost flow problem to solve the shortest path problem? Let's walk through the formulation."
   ]
  },
  {
   "cell_type": "markdown",
   "metadata": {},
   "source": [
    "**Q3:** Let's use the input directed graph $G = (N,A)$ for the shortest path problem as our directed graph for our min-cost flow problem. We need to assign a cost $c(i,j)$ for all edges $(i,j) \\in A$. What should the cost be?\n",
    "\n",
    "**A:** <font color='blue'>$c(i,j) = \\ell(i,j)$</font>"
   ]
  },
  {
   "cell_type": "markdown",
   "metadata": {},
   "source": [
    "**Q4:** We also need to assign a capacitiy $u(i,j)$ for all edges $(i,j) \\in A$. What should the capacity be?\n",
    "\n",
    "**A:** <font color='blue'>$u(i,j) = 1$</font>"
   ]
  },
  {
   "cell_type": "markdown",
   "metadata": {},
   "source": [
    "**Q5:** Lastly, we need to asssign supply/demand $s(i)$ to every node $i \\in N$. What should the supply/demands be?\n",
    "\n",
    "**A:** <font color='blue'>$s(s) = 1$, $s(t) = -1$, and $s(i) = 0$ otherwise.</font>"
   ]
  },
  {
   "cell_type": "markdown",
   "metadata": {},
   "source": [
    "If you are unsure about your formulation, reach out to a TA before heading on!"
   ]
  },
  {
   "cell_type": "markdown",
   "metadata": {},
   "source": [
    "The following will be a little hand-wavy. Let's say we have a black box that solves min-cost flow problems. Given all the inputs, it returns an optimal solution $f(i,j)$ for all $(i,j) \\in A$. If all $u(i,j)$ and $s(i)$ are integral, the **integrality property** states that the black-box will return an all integral solution."
   ]
  },
  {
   "cell_type": "markdown",
   "metadata": {},
   "source": [
    "**Q6:** If $0 \\leq x \\leq 1$ and $x$ is integral, what values can $x$ be?\n",
    "\n",
    "**A:** <font color='blue'> Either $x = 1$ or $x = 0$</font>"
   ]
  },
  {
   "cell_type": "markdown",
   "metadata": {},
   "source": [
    "**Q7:** What does the integrality property and your answer to Q6 imply about the optimal solution that will be returned when using the black-box to solve the min-cost flow input created to solve the shortest path problem?\n",
    "\n",
    "**A:** <font color='blue'>The optimal solution will be integral. Furthermore, since $0 \\leq f(i,j) \\leq 1$, we know that $f(i,j)$ will be 1 or 0. </font>"
   ]
  },
  {
   "cell_type": "markdown",
   "metadata": {},
   "source": [
    "**Q8:** How can we interpret a min-cost flow solution as a solution to the shortest path problem.\n",
    "\n",
    "**A:** <font color='blue'>If $f(i,j) = 1$, then $(i,j)$ is in the path. Otherwise, it is not. </font>"
   ]
  },
  {
   "cell_type": "markdown",
   "metadata": {},
   "source": [
    "You are now very familiar with the steps required to show how one problem can be used to solve another. At this point, we have done the first step: created a way to transform shortest-path inputs into min-cost flow inputs. The remaining steps are to show there is a one-to-one correspondence between feasible solutions to the shortest-path problem and feasible solutions to the min-cost flow problem and show the objective values are the same (or differ by a constant). Think about how this argument might look. The next question addresses one complication you will come across."
   ]
  },
  {
   "cell_type": "markdown",
   "metadata": {},
   "source": [
    "Suppose we have the following graph for the shortest path problem. "
   ]
  },
  {
   "cell_type": "markdown",
   "metadata": {},
   "source": [
    "![](graph.png)"
   ]
  },
  {
   "cell_type": "markdown",
   "metadata": {},
   "source": [
    "Consider the feasible solution to the min-cost flow problem where $f(i,j) = 1$ for edges $(1,2),(2,3),(3,5),(5,2),(2,4),$ and $(4,6)$"
   ]
  },
  {
   "cell_type": "markdown",
   "metadata": {},
   "source": [
    "**Q9:** Does this feasible solution correspond to an $s-t$ path? Why or why not?\n",
    "\n",
    "**A:** <font color='blue'>No because (2,3),(3,5), and (5,2) form a cycle. </font>"
   ]
  },
  {
   "cell_type": "markdown",
   "metadata": {},
   "source": [
    "**Q10:** Does the feasible solution **contain** an $s-t$ path? If so, what is it?\n",
    "\n",
    "**A:** <font color='blue'>Yes, (1,2),(2,4),(4,6) is an $s-t$ path. </font>"
   ]
  },
  {
   "cell_type": "markdown",
   "metadata": {},
   "source": [
    "**Q11:** How did you arrive at an $s-t$ path?\n",
    "\n",
    "**A:** <font color='blue'> Cut out the cycle. </font>"
   ]
  },
  {
   "cell_type": "markdown",
   "metadata": {},
   "source": [
    "**Q12:** Consider any feasible solution to the min-cost flow problem that corresponds to a path that has some cycles. If we cut out the cycles to obtain a corresponding $s-t$ path, how will the cost of the min-cost flow solution correspond to the length of the corresponding $s-t$ path.\n",
    "\n",
    "**A:**  <font color='blue'> The length of the $s-t$ path will always be shorter. </font>"
   ]
  },
  {
   "cell_type": "markdown",
   "metadata": {},
   "source": [
    "## Part 2: The Taxi-Routing Problem"
   ]
  },
  {
   "cell_type": "markdown",
   "metadata": {},
   "source": [
    "Suppose we are a New York City taxi company and we know all the ride requests we will receive over some time horizon. Each trip has a start/end location, start time, trip time, and some value. We could view the value as the revenue generated, number of passengers, or constant across all rides. Furthermore, we know the number of taxi cabs we have $B$ and the layout of Manhattan. We can represent Manhattan as a grid where every street intersection is a node and every street segment is an edge. Assume we also know the time it takes to traverse any street segment. We want to maximize the value of the trips we pick-up. Let's use the min-cost flow problem to solve this problem!"
   ]
  },
  {
   "cell_type": "markdown",
   "metadata": {},
   "source": [
    "First, we must construct an input to the min-cost flow problem. Let us discretize time into minutes. We will have a time horizon of $T$ minutes. Next, let's index every location node so that we have $L$ nodes indexed $0,\\dots,L-1$ for all $L$ locations in Manhattan. We now construct the directed graph $G$ that will be the input to the min-cost flow problem. There is a node for every time and location combination where node $(\\ell,t)$ is the node representing location $\\ell$ at time $t$."
   ]
  },
  {
   "cell_type": "markdown",
   "metadata": {},
   "source": [
    "Furthermore, we will have nodes $s$ and $f$. There is an edge from $s$ to node $(\\ell,0)$ for all locations and an edge from node $(\\ell,T)$ to $f$ for all locations. The idea is that a unit of flow through the graph will represent where a given taxi is at any given time over the time horizon."
   ]
  },
  {
   "cell_type": "markdown",
   "metadata": {},
   "source": [
    "**Q13:** What should the supplies for the $s$, $f$, and $(\\ell,t)$ nodes be?\n",
    "\n",
    "**A:** <font color='blue'> The supply at $s$ is $B$, the supply at any $(\\ell,t)$ is 0, and the supply at $f$ is $-B$. </font>"
   ]
  },
  {
   "cell_type": "markdown",
   "metadata": {},
   "source": [
    "We are almost there! We need to define the other edges in the graph and determine the cost and capacity for each edge. Since we know the layout of Manhattan, we know how long it takes to get from one location to another. In other words, we have a list of arcs of the form $(a,b,d)$ where $a$ is the start location, $b$ is the end location , and $d$ is the time it takes to travel between the two locations. For each arc of this type we will introduce edges from $(a,t)$ to $(b,t+d)$ for every $t$ such that $0 \\leq t$ and $t+d \\leq T$. Each edge of this type will have a capacity of $B$ because any taxi can traverse this edge and cost 0 since it is of zero value to drive with no passengers. Most importantly, we need edges to represent each trip we could take. Lastly, we need arcs to represent each trip."
   ]
  },
  {
   "cell_type": "markdown",
   "metadata": {},
   "source": [
    "**Q14:** Suppose we have a trip from location $a$ to $b$ that starts as time $t$ with duration $d$ and value $v$. What edge should be added and what are its cost and capacity?\n",
    "\n",
    "**A:** <font color='blue'> We should have an edge from $(a,t)$ to $(b,t+d)$ with cost $-v$ and capacity 1. </font>"
   ]
  },
  {
   "cell_type": "markdown",
   "metadata": {},
   "source": [
    "Let's look at a small input!"
   ]
  },
  {
   "cell_type": "code",
   "execution_count": 2,
   "metadata": {},
   "outputs": [],
   "source": [
    "# start, end, start_time, trip_time, value\n",
    "trips = [(2,1,1,2,1),\n",
    "         (0,1,0,1,1),\n",
    "         (0,1,2,1,1)]\n",
    "\n",
    "# start, end, trip_time\n",
    "arcs = []\n",
    "\n",
    "B = 2  # number of taxis\n",
    "L = 3  # of locations\n",
    "T = max(np.array(list(zip(*trips))[2]) + np.array(list(zip(*trips))[3]))  # time horizon\n",
    "\n",
    "trips_df, nodes_df, arcs_df = create_dataframes(trips, arcs, L)\n",
    "small_ex = TaxiRouting(trips_df, nodes_df, arcs_df, 0, T, B)"
   ]
  },
  {
   "cell_type": "markdown",
   "metadata": {},
   "source": [
    "Let's look at the corresponding min-cost flow input to this problem. The label on each edge is the flow on that edge."
   ]
  },
  {
   "cell_type": "code",
   "execution_count": 3,
   "metadata": {},
   "outputs": [
    {
     "data": {
      "image/png": "[encoded data removed]",
      "text/plain": [
       "<Figure size 648x432 with 1 Axes>"
      ]
     },
     "metadata": {},
     "output_type": "display_data"
    }
   ],
   "source": [
    "small_ex.draw_graph()"
   ]
  },
  {
   "cell_type": "markdown",
   "metadata": {},
   "source": [
    "**Q14:** Is this what you expected? If not, why?\n",
    "\n",
    "**A:** <font color='blue'> Depends. </font>"
   ]
  },
  {
   "cell_type": "markdown",
   "metadata": {},
   "source": [
    "**Q15:** The edges $(\\ell,t)$ to $(\\ell,t+1)$ for all locations $\\ell$ and $0 \\leq t \\leq T-1$ are automatically added to the graph despite being explicitly defined. What do they represent?\n",
    "\n",
    "**A:** <font color='blue'> Staying at the same location. </font>"
   ]
  },
  {
   "cell_type": "markdown",
   "metadata": {},
   "source": [
    "We can now solve the problem and look at the optimal flow again."
   ]
  },
  {
   "cell_type": "code",
   "execution_count": 4,
   "metadata": {},
   "outputs": [
    {
     "data": {
      "image/png": "[encoded data removed]",
      "text/plain": [
       "<Figure size 648x432 with 1 Axes>"
      ]
     },
     "metadata": {},
     "output_type": "display_data"
    }
   ],
   "source": [
    "small_ex.optimize()\n",
    "small_ex.draw_graph()"
   ]
  },
  {
   "cell_type": "markdown",
   "metadata": {},
   "source": [
    "**Q16:** What is the cost of this solution? Recall that we used a constant value of 1 for each trip\n",
    "\n",
    "**A:** <font color='blue'> -2 because we satisfied 2 trips. </font>"
   ]
  },
  {
   "cell_type": "markdown",
   "metadata": {},
   "source": [
    "**Q17:** Intepret this solution as a solution to the taxi-routing problem. That is, give a schedule for every taxi.\n",
    "\n",
    "**A:** <font color='blue'> One taxi starts at location 0 and takes a trip from location 0 to 1. After that, they stay at location 1 for the rest of the time horizon. The other taxi starts at location 2 and waits until $t = 1$ to take a trip from location 2 to 1. </font>     "
   ]
  },
  {
   "cell_type": "markdown",
   "metadata": {},
   "source": [
    "**Q18:** We have a trip from location 0 to 1 that only takes 1 minute. Suppose this takes a two way road and we can get from location 1 to 0 in 1 minute as well. Add this to the input and see how the optimal solution changes."
   ]
  },
  {
   "cell_type": "code",
   "execution_count": 5,
   "metadata": {
    "scrolled": true
   },
   "outputs": [
    {
     "data": {
      "image/png": "[encoded data removed]",
      "text/plain": [
       "<Figure size 648x432 with 1 Axes>"
      ]
     },
     "metadata": {},
     "output_type": "display_data"
    }
   ],
   "source": [
    "# start, end, trip_time\n",
    "arcs = [] # ADD YOUR ANSWER HERE\n",
    "\n",
    "# SOLUTION\n",
    "arcs = [(1,0,1)]\n",
    "\n",
    "trips_df, nodes_df, arcs_df = create_dataframes(trips, arcs, L)\n",
    "small_ex = TaxiRouting(trips_df, nodes_df, arcs_df, 0, T, B)\n",
    "small_ex.optimize()\n",
    "small_ex.draw_graph()"
   ]
  },
  {
   "cell_type": "markdown",
   "metadata": {},
   "source": [
    "It becomes hard to interpret the solution with so many edges. We can use the following command to get the taxi paths:"
   ]
  },
  {
   "cell_type": "code",
   "execution_count": 6,
   "metadata": {},
   "outputs": [],
   "source": [
    "paths = small_ex.taxi_paths()"
   ]
  },
  {
   "cell_type": "markdown",
   "metadata": {},
   "source": [
    "This returns a list of paths for each taxi. Let's look at the first taxi."
   ]
  },
  {
   "cell_type": "code",
   "execution_count": 7,
   "metadata": {},
   "outputs": [
    {
     "data": {
      "text/plain": [
       "[(0, 1, True), (1, 0, False), (0, 1, True)]"
      ]
     },
     "execution_count": 7,
     "metadata": {},
     "output_type": "execute_result"
    }
   ],
   "source": [
    "paths[0]"
   ]
  },
  {
   "cell_type": "markdown",
   "metadata": {},
   "source": [
    "We can intepret this output as follows: This taxi went from location 0 to 1 taking a trip then went back to location 0 without taking a trip before taking another trip from location 0 to 1."
   ]
  },
  {
   "cell_type": "markdown",
   "metadata": {},
   "source": [
    "**Q19:** Interpret the path of the other taxi."
   ]
  },
  {
   "cell_type": "code",
   "execution_count": 8,
   "metadata": {},
   "outputs": [
    {
     "data": {
      "text/plain": [
       "[(2, 2, False), (2, 1, True)]"
      ]
     },
     "execution_count": 8,
     "metadata": {},
     "output_type": "execute_result"
    }
   ],
   "source": [
    "paths[1]"
   ]
  },
  {
   "cell_type": "markdown",
   "metadata": {},
   "source": [
    "**A:** <font color='blue'> This taxi stayed at location 2 then took a trip from location 2 to 1.</font>"
   ]
  },
  {
   "cell_type": "markdown",
   "metadata": {},
   "source": [
    "## Part 3: The Taxi-Routing Problem (At Scale)"
   ]
  },
  {
   "cell_type": "markdown",
   "metadata": {},
   "source": [
    "Let's look at the taxi routing problem at scale! First, we need to input some data:"
   ]
  },
  {
   "cell_type": "code",
   "execution_count": 9,
   "metadata": {},
   "outputs": [],
   "source": [
    "trips_df = pd.read_csv('data/2013-09-01_trip_data_manhattan.csv').drop(columns='id')\n",
    "trips_df['revenue'] = 2.50 + 1.56*trips_df.trip_distance + 0.50*trips_df.trip_time\n",
    "trips_df.revenue = trips_df.revenue.apply(lambda x: round(x,2))\n",
    "\n",
    "# first, we will try to maximize revenue so we will set the value of each trip to be the revenue it generates\n",
    "trips_df['value'] = trips_df['revenue']\n",
    "\n",
    "nodes_df = pd.read_csv('data/nyc_nodes_manhattan.csv').drop(columns='Unnamed: 0')\n",
    "arcs_df = pd.read_csv('data/nyc_links_manhattan.csv').drop(columns='Unnamed: 0')"
   ]
  },
  {
   "cell_type": "markdown",
   "metadata": {},
   "source": [
    "**Q20:** Take a look at the 3 dataframes."
   ]
  },
  {
   "cell_type": "code",
   "execution_count": 10,
   "metadata": {},
   "outputs": [
    {
     "data": {
      "text/html": [
       "<div>\n",
       "<style scoped>\n",
       "    .dataframe tbody tr th:only-of-type {\n",
       "        vertical-align: middle;\n",
       "    }\n",
       "\n",
       "    .dataframe tbody tr th {\n",
       "        vertical-align: top;\n",
       "    }\n",
       "\n",
       "    .dataframe thead th {\n",
       "        text-align: right;\n",
       "    }\n",
       "</style>\n",
       "<table border=\"1\" class=\"dataframe\">\n",
       "  <thead>\n",
       "    <tr style=\"text-align: right;\">\n",
       "      <th></th>\n",
       "      <th>start_node</th>\n",
       "      <th>end_node</th>\n",
       "      <th>start_time</th>\n",
       "      <th>trip_time</th>\n",
       "      <th>passenger_count</th>\n",
       "      <th>trip_distance</th>\n",
       "      <th>revenue</th>\n",
       "      <th>value</th>\n",
       "    </tr>\n",
       "  </thead>\n",
       "  <tbody>\n",
       "    <tr>\n",
       "      <th>0</th>\n",
       "      <td>333</td>\n",
       "      <td>692</td>\n",
       "      <td>0</td>\n",
       "      <td>6</td>\n",
       "      <td>5</td>\n",
       "      <td>2.204796</td>\n",
       "      <td>8.94</td>\n",
       "      <td>8.94</td>\n",
       "    </tr>\n",
       "    <tr>\n",
       "      <th>1</th>\n",
       "      <td>1802</td>\n",
       "      <td>110</td>\n",
       "      <td>0</td>\n",
       "      <td>7</td>\n",
       "      <td>1</td>\n",
       "      <td>1.738087</td>\n",
       "      <td>8.71</td>\n",
       "      <td>8.71</td>\n",
       "    </tr>\n",
       "    <tr>\n",
       "      <th>2</th>\n",
       "      <td>1769</td>\n",
       "      <td>77</td>\n",
       "      <td>0</td>\n",
       "      <td>9</td>\n",
       "      <td>1</td>\n",
       "      <td>5.262542</td>\n",
       "      <td>15.21</td>\n",
       "      <td>15.21</td>\n",
       "    </tr>\n",
       "    <tr>\n",
       "      <th>3</th>\n",
       "      <td>526</td>\n",
       "      <td>2573</td>\n",
       "      <td>0</td>\n",
       "      <td>18</td>\n",
       "      <td>5</td>\n",
       "      <td>2.687598</td>\n",
       "      <td>15.69</td>\n",
       "      <td>15.69</td>\n",
       "    </tr>\n",
       "    <tr>\n",
       "      <th>4</th>\n",
       "      <td>148</td>\n",
       "      <td>2662</td>\n",
       "      <td>0</td>\n",
       "      <td>32</td>\n",
       "      <td>5</td>\n",
       "      <td>13.067841</td>\n",
       "      <td>38.89</td>\n",
       "      <td>38.89</td>\n",
       "    </tr>\n",
       "  </tbody>\n",
       "</table>\n",
       "</div>"
      ],
      "text/plain": [
       "   start_node  end_node  start_time  trip_time  passenger_count  \\\n",
       "0         333       692           0          6                5   \n",
       "1        1802       110           0          7                1   \n",
       "2        1769        77           0          9                1   \n",
       "3         526      2573           0         18                5   \n",
       "4         148      2662           0         32                5   \n",
       "\n",
       "   trip_distance  revenue  value  \n",
       "0       2.204796     8.94   8.94  \n",
       "1       1.738087     8.71   8.71  \n",
       "2       5.262542    15.21  15.21  \n",
       "3       2.687598    15.69  15.69  \n",
       "4      13.067841    38.89  38.89  "
      ]
     },
     "execution_count": 10,
     "metadata": {},
     "output_type": "execute_result"
    }
   ],
   "source": [
    "trips_df.head()"
   ]
  },
  {
   "cell_type": "code",
   "execution_count": 11,
   "metadata": {},
   "outputs": [
    {
     "data": {
      "text/html": [
       "<div>\n",
       "<style scoped>\n",
       "    .dataframe tbody tr th:only-of-type {\n",
       "        vertical-align: middle;\n",
       "    }\n",
       "\n",
       "    .dataframe tbody tr th {\n",
       "        vertical-align: top;\n",
       "    }\n",
       "\n",
       "    .dataframe thead th {\n",
       "        text-align: right;\n",
       "    }\n",
       "</style>\n",
       "<table border=\"1\" class=\"dataframe\">\n",
       "  <thead>\n",
       "    <tr style=\"text-align: right;\">\n",
       "      <th></th>\n",
       "      <th>name</th>\n",
       "      <th>lon</th>\n",
       "      <th>lat</th>\n",
       "      <th>x</th>\n",
       "      <th>y</th>\n",
       "    </tr>\n",
       "  </thead>\n",
       "  <tbody>\n",
       "    <tr>\n",
       "      <th>0</th>\n",
       "      <td>0</td>\n",
       "      <td>-74.003837</td>\n",
       "      <td>40.710545</td>\n",
       "      <td>-8.238069e+06</td>\n",
       "      <td>4.969740e+06</td>\n",
       "    </tr>\n",
       "    <tr>\n",
       "      <th>1</th>\n",
       "      <td>1</td>\n",
       "      <td>-73.969571</td>\n",
       "      <td>40.749594</td>\n",
       "      <td>-8.234255e+06</td>\n",
       "      <td>4.975477e+06</td>\n",
       "    </tr>\n",
       "    <tr>\n",
       "      <th>2</th>\n",
       "      <td>2</td>\n",
       "      <td>-73.964442</td>\n",
       "      <td>40.753157</td>\n",
       "      <td>-8.233684e+06</td>\n",
       "      <td>4.976000e+06</td>\n",
       "    </tr>\n",
       "    <tr>\n",
       "      <th>3</th>\n",
       "      <td>3</td>\n",
       "      <td>-74.012328</td>\n",
       "      <td>40.713941</td>\n",
       "      <td>-8.239015e+06</td>\n",
       "      <td>4.970239e+06</td>\n",
       "    </tr>\n",
       "    <tr>\n",
       "      <th>4</th>\n",
       "      <td>4</td>\n",
       "      <td>-74.008254</td>\n",
       "      <td>40.736961</td>\n",
       "      <td>-8.238561e+06</td>\n",
       "      <td>4.973621e+06</td>\n",
       "    </tr>\n",
       "  </tbody>\n",
       "</table>\n",
       "</div>"
      ],
      "text/plain": [
       "   name        lon        lat             x             y\n",
       "0     0 -74.003837  40.710545 -8.238069e+06  4.969740e+06\n",
       "1     1 -73.969571  40.749594 -8.234255e+06  4.975477e+06\n",
       "2     2 -73.964442  40.753157 -8.233684e+06  4.976000e+06\n",
       "3     3 -74.012328  40.713941 -8.239015e+06  4.970239e+06\n",
       "4     4 -74.008254  40.736961 -8.238561e+06  4.973621e+06"
      ]
     },
     "execution_count": 11,
     "metadata": {},
     "output_type": "execute_result"
    }
   ],
   "source": [
    "nodes_df.head()"
   ]
  },
  {
   "cell_type": "code",
   "execution_count": 12,
   "metadata": {},
   "outputs": [
    {
     "data": {
      "text/html": [
       "<div>\n",
       "<style scoped>\n",
       "    .dataframe tbody tr th:only-of-type {\n",
       "        vertical-align: middle;\n",
       "    }\n",
       "\n",
       "    .dataframe tbody tr th {\n",
       "        vertical-align: top;\n",
       "    }\n",
       "\n",
       "    .dataframe thead th {\n",
       "        text-align: right;\n",
       "    }\n",
       "</style>\n",
       "<table border=\"1\" class=\"dataframe\">\n",
       "  <thead>\n",
       "    <tr style=\"text-align: right;\">\n",
       "      <th></th>\n",
       "      <th>start</th>\n",
       "      <th>end</th>\n",
       "      <th>street_name</th>\n",
       "      <th>trip_time</th>\n",
       "    </tr>\n",
       "  </thead>\n",
       "  <tbody>\n",
       "    <tr>\n",
       "      <th>0</th>\n",
       "      <td>598</td>\n",
       "      <td>597</td>\n",
       "      <td>MadisonAvenue</td>\n",
       "      <td>1</td>\n",
       "    </tr>\n",
       "    <tr>\n",
       "      <th>1</th>\n",
       "      <td>103</td>\n",
       "      <td>597</td>\n",
       "      <td>East60thStreet</td>\n",
       "      <td>1</td>\n",
       "    </tr>\n",
       "    <tr>\n",
       "      <th>2</th>\n",
       "      <td>599</td>\n",
       "      <td>598</td>\n",
       "      <td>MadisonAvenue</td>\n",
       "      <td>1</td>\n",
       "    </tr>\n",
       "    <tr>\n",
       "      <th>3</th>\n",
       "      <td>1152</td>\n",
       "      <td>598</td>\n",
       "      <td>East59thStreet</td>\n",
       "      <td>1</td>\n",
       "    </tr>\n",
       "    <tr>\n",
       "      <th>4</th>\n",
       "      <td>601</td>\n",
       "      <td>600</td>\n",
       "      <td>MadisonAvenue</td>\n",
       "      <td>1</td>\n",
       "    </tr>\n",
       "  </tbody>\n",
       "</table>\n",
       "</div>"
      ],
      "text/plain": [
       "   start  end     street_name  trip_time\n",
       "0    598  597   MadisonAvenue          1\n",
       "1    103  597  East60thStreet          1\n",
       "2    599  598   MadisonAvenue          1\n",
       "3   1152  598  East59thStreet          1\n",
       "4    601  600   MadisonAvenue          1"
      ]
     },
     "execution_count": 12,
     "metadata": {},
     "output_type": "execute_result"
    }
   ],
   "source": [
    "arcs_df.head()"
   ]
  },
  {
   "cell_type": "markdown",
   "metadata": {},
   "source": [
    "In the `trips_df`, the `start_time` feild is given in minutes since midnight. Let's first look at the time window of 5:00 PM to 5:15 PM. This corresponds to 1020 to 1035. Furthermore, we will have 500 taxis on the road."
   ]
  },
  {
   "cell_type": "code",
   "execution_count": 13,
   "metadata": {},
   "outputs": [],
   "source": [
    "nyc_taxi = TaxiRouting(trips_df, nodes_df, arcs_df, 1020, 1035, 500)"
   ]
  },
  {
   "cell_type": "markdown",
   "metadata": {},
   "source": [
    "Now let's solve it and look at some summary statistics!"
   ]
  },
  {
   "cell_type": "code",
   "execution_count": 14,
   "metadata": {},
   "outputs": [
    {
     "name": "stdout",
     "output_type": "stream",
     "text": [
      "Summary Statistics\n",
      "Avg. Moving Pct.:  0.87\n",
      "Avg. On Trip Pct.:  0.61\n",
      "Avg. Total Distance of Trips:  3.16\n",
      "Total Trips.:  627\n",
      "Total Passengers:  1182\n",
      "Avg. Revenue:  12.63\n",
      "Total Revenue:  6312.99\n"
     ]
    }
   ],
   "source": [
    "nyc_taxi.optimize()\n",
    "nyc_taxi.get_stats()"
   ]
  },
  {
   "cell_type": "markdown",
   "metadata": {},
   "source": [
    "We can also look at the stats for an individual taxi and look at the path it takes on the map. The path of each taxi is color-coded. The circle represents its start location and the lower opacity edge means the taxi has a passenger."
   ]
  },
  {
   "cell_type": "code",
   "execution_count": 15,
   "metadata": {},
   "outputs": [
    {
     "data": {
      "text/plain": [
       "{'moving_pct': 0.8,\n",
       " 'on_trip_pct': 0.4,\n",
       " 'num_trips': 1,\n",
       " 'total_trip_distance': 1.7702740000000001,\n",
       " 'total_passengers': 1,\n",
       " 'revenue': 8.26}"
      ]
     },
     "execution_count": 15,
     "metadata": {},
     "output_type": "execute_result"
    }
   ],
   "source": [
    "nyc_taxi.taxi_stats[0]"
   ]
  },
  {
   "cell_type": "code",
   "execution_count": 16,
   "metadata": {},
   "outputs": [
    {
     "data": {
      "text/html": [
       "\n",
       "\n",
       "\n",
       "\n",
       "\n",
       "\n",
       "  <div class=\"bk-root\" id=\"12c12c4b-c59c-48ca-a347-9ec3ed2eb8c9\" data-root-id=\"1002\"></div>\n"
      ]
     },
     "metadata": {},
     "output_type": "display_data"
    },
    {
     "data": {
      "application/javascript": [
       "(function(root) {\n",
       "  function embed_document(root) {\n",
       "    \n",
       "  var docs_json = {\"d435c2ea-2a62-4443-94ca-0fda66efc3b5\":{\"roots\":{\"references\":[{\"attributes\":{\"below\":[{\"id\":\"1013\"}],\"center\":[{\"id\":\"1020\"},{\"id\":\"1028\"}],\"left\":[{\"id\":\"1021\"}],\"plot_height\":470,\"renderers\":[{\"id\":\"1044\"},{\"id\":\"1046\"}],\"title\":{\"id\":\"1003\"},\"toolbar\":{\"id\":\"1036\"},\"x_range\":{\"id\":\"1005\"},\"x_scale\":{\"id\":\"1009\"},\"y_range\":{\"id\":\"1007\"},\"y_scale\":{\"id\":\"1011\"}},\"id\":\"1002\",\"subtype\":\"Figure\",\"type\":\"Plot\"},{\"attributes\":{\"formatter\":{\"id\":\"1024\"},\"ticker\":{\"id\":\"1022\"}},\"id\":\"1021\",\"type\":\"MercatorAxis\"},{\"attributes\":{\"source\":{\"id\":\"1048\"}},\"id\":\"1050\",\"type\":\"CDSView\"},{\"attributes\":{\"text\":\"Taxi Routes\"},\"id\":\"1003\",\"type\":\"Title\"},{\"attributes\":{\"bottom_units\":\"screen\",\"fill_alpha\":0.5,\"fill_color\":\"lightgrey\",\"left_units\":\"screen\",\"level\":\"overlay\",\"line_alpha\":1.0,\"line_color\":\"black\",\"line_dash\":[4,4],\"line_width\":2,\"right_units\":\"screen\",\"top_units\":\"screen\"},\"id\":\"1035\",\"type\":\"BoxAnnotation\"},{\"attributes\":{\"dimension\":\"lat\"},\"id\":\"1024\",\"type\":\"MercatorTickFormatter\"},{\"attributes\":{},\"id\":\"1073\",\"type\":\"NodesOnly\"},{\"attributes\":{\"edge_renderer\":{\"id\":\"1062\"},\"inspection_policy\":{\"id\":\"1074\"},\"layout_provider\":{\"id\":\"1069\"},\"node_renderer\":{\"id\":\"1049\"},\"selection_policy\":{\"id\":\"1073\"}},\"id\":\"1046\",\"type\":\"GraphRenderer\"},{\"attributes\":{\"tile_source\":{\"id\":\"1043\"}},\"id\":\"1044\",\"type\":\"TileRenderer\"},{\"attributes\":{\"attribution\":\"&copy; <a href=\\\"https://www.openstreetmap.org/copyright\\\">OpenStreetMap</a> contributors,&copy; <a href=\\\"https://cartodb.com/attributions\\\">CartoDB</a>\",\"url\":\"https://tiles.basemaps.cartocdn.com/light_all/{z}/{x}/{y}@2x.png\"},\"id\":\"1043\",\"type\":\"WMTSTileSource\"},{\"attributes\":{},\"id\":\"1087\",\"type\":\"Selection\"},{\"attributes\":{\"data_source\":{\"id\":\"1061\"},\"glyph\":{\"id\":\"1064\"},\"hover_glyph\":null,\"muted_glyph\":null,\"view\":{\"id\":\"1063\"}},\"id\":\"1062\",\"type\":\"GlyphRenderer\"},{\"attributes\":{\"line_alpha\":{\"field\":\"alpha\"},\"line_cap\":\"round\",\"line_color\":{\"field\":\"color\"},\"line_width\":{\"value\":3}},\"id\":\"1064\",\"type\":\"MultiLine\"},{\"attributes\":{},\"id\":\"1074\",\"type\":\"NodesOnly\"},{\"attributes\":{},\"id\":\"1034\",\"type\":\"HelpTool\"},{\"attributes\":{\"axis\":{\"id\":\"1021\"},\"dimension\":1,\"ticker\":null},\"id\":\"1028\",\"type\":\"Grid\"},{\"attributes\":{\"data_source\":{\"id\":\"1048\"},\"glyph\":{\"id\":\"1055\"},\"hover_glyph\":null,\"muted_glyph\":null,\"view\":{\"id\":\"1050\"}},\"id\":\"1049\",\"type\":\"GlyphRenderer\"},{\"attributes\":{},\"id\":\"1088\",\"type\":\"UnionRenderers\"},{\"attributes\":{\"fill_color\":{\"field\":\"start_colors\"},\"line_width\":{\"value\":0},\"size\":{\"units\":\"screen\",\"value\":7}},\"id\":\"1055\",\"type\":\"Circle\"},{\"attributes\":{\"axis\":{\"id\":\"1013\"},\"ticker\":null},\"id\":\"1020\",\"type\":\"Grid\"},{\"attributes\":{\"dimension\":\"lon\"},\"id\":\"1016\",\"type\":\"MercatorTickFormatter\"},{\"attributes\":{\"data\":{\"alpha\":[1,1,1,1,1,1,0.3,1,1,1,1,1,0.3,1,1,1,1,1,1,1,1,0.3,1,1,1,1,1,1,1,0.3,1,1,1,1,1,1,1,1,1,1,0.3,1],\"color\":[\"#1f77b4\",\"#1f77b4\",\"#1f77b4\",\"#1f77b4\",\"#1f77b4\",\"#1f77b4\",\"#1f77b4\",\"#1f77b4\",\"#1f77b4\",\"#1f77b4\",\"#ff7f0e\",\"#ff7f0e\",\"#ff7f0e\",\"#ff7f0e\",\"#ff7f0e\",\"#ff7f0e\",\"#ff7f0e\",\"#ff7f0e\",\"#2ca02c\",\"#2ca02c\",\"#2ca02c\",\"#2ca02c\",\"#2ca02c\",\"#2ca02c\",\"#2ca02c\",\"#2ca02c\",\"#2ca02c\",\"#d62728\",\"#d62728\",\"#d62728\",\"#d62728\",\"#d62728\",\"#d62728\",\"#9467bd\",\"#9467bd\",\"#9467bd\",\"#9467bd\",\"#9467bd\",\"#9467bd\",\"#9467bd\",\"#9467bd\",\"#9467bd\"],\"end\":[1086,376,27,1674,1674,1636,2852,2852,735,735,17,186,1806,1805,2168,1103,2168,2168,186,670,670,690,691,690,691,692,692,489,490,1595,1595,1595,1595,594,459,81,595,594,459,81,805,806],\"start\":[4,1086,376,27,1674,1674,1636,2852,2852,735,17,17,186,1806,1805,2168,1103,2168,17,186,670,670,690,691,690,691,692,315,489,490,1595,1595,1595,458,594,459,81,595,594,459,81,805]},\"selected\":{\"id\":\"1089\"},\"selection_policy\":{\"id\":\"1088\"}},\"id\":\"1061\",\"type\":\"ColumnDataSource\"},{\"attributes\":{\"dimension\":\"lat\"},\"id\":\"1022\",\"type\":\"MercatorTicker\"},{\"attributes\":{\"source\":{\"id\":\"1061\"}},\"id\":\"1063\",\"type\":\"CDSView\"},{\"attributes\":{},\"id\":\"1009\",\"type\":\"LinearScale\"},{\"attributes\":{\"data\":{\"index\":[4,17,17,315,458],\"start_colors\":[\"#1f77b4\",\"#ff7f0e\",\"#2ca02c\",\"#d62728\",\"#9467bd\"]},\"selected\":{\"id\":\"1087\"},\"selection_policy\":{\"id\":\"1086\"}},\"id\":\"1048\",\"type\":\"ColumnDataSource\"},{\"attributes\":{},\"id\":\"1086\",\"type\":\"UnionRenderers\"},{\"attributes\":{\"active_drag\":\"auto\",\"active_inspect\":\"auto\",\"active_multi\":null,\"active_scroll\":\"auto\",\"active_tap\":\"auto\",\"tools\":[{\"id\":\"1029\"},{\"id\":\"1030\"},{\"id\":\"1031\"},{\"id\":\"1032\"},{\"id\":\"1033\"},{\"id\":\"1034\"}]},\"id\":\"1036\",\"type\":\"Toolbar\"},{\"attributes\":{\"end\":-8230076.5838157665,\"start\":-8239581.4099265775},\"id\":\"1005\",\"type\":\"Range1d\"},{\"attributes\":{},\"id\":\"1032\",\"type\":\"SaveTool\"},{\"attributes\":{},\"id\":\"1011\",\"type\":\"LinearScale\"},{\"attributes\":{},\"id\":\"1029\",\"type\":\"PanTool\"},{\"attributes\":{},\"id\":\"1033\",\"type\":\"ResetTool\"},{\"attributes\":{\"graph_layout\":{\"1086\":[-8238568.719504625,4973506.98380112],\"1103\":[-8237305.744221833,4970622.7812795285],\"1595\":[-8231076.5838157665,4981168.724664395],\"1636\":[-8238317.916691868,4973352.138403533],\"1674\":[-8238419.32874798,4973332.746173649],\"17\":[-8237303.016894308,4971698.942065324],\"1805\":[-8237484.612379638,4970704.221015462],\"1806\":[-8237566.732767995,4970529.504608325],\"186\":[-8237230.547905801,4971813.80769708],\"2168\":[-8237392.1392786335,4970662.362815788],\"27\":[-8238581.4099265775,4973301.74806791],\"2852\":[-8237941.879451968,4974746.129173534],\"315\":[-8233871.704910094,4977326.300717671],\"376\":[-8238574.062840182,4973406.789440207],\"4\":[-8238561.149779253,4973620.548446184],\"458\":[-8233909.364293829,4978068.531161054],\"459\":[-8234283.253067558,4978276.6597625315],\"489\":[-8234049.704775873,4977424.918583122],\"490\":[-8234100.210428846,4977334.472294326],\"594\":[-8234104.073215177,4978176.916222575],\"595\":[-8234154.645659842,4978085.448793505],\"670\":[-8237183.905039158,4971775.763815343],\"690\":[-8235206.759563179,4974908.343375617],\"691\":[-8235385.20470692,4975007.671516997],\"692\":[-8235551.972436078,4975103.518253212],\"735\":[-8237989.190235557,4974659.880508584],\"805\":[-8235079.076107237,4976175.440631285],\"806\":[-8235130.06043402,4976082.566505485],\"81\":[-8234334.014755357,4978185.382478185]}},\"id\":\"1069\",\"type\":\"StaticLayoutProvider\"},{\"attributes\":{\"end\":4982168.724664395,\"start\":4969529.504608325},\"id\":\"1007\",\"type\":\"Range1d\"},{\"attributes\":{\"overlay\":{\"id\":\"1035\"}},\"id\":\"1031\",\"type\":\"BoxZoomTool\"},{\"attributes\":{\"dimension\":\"lon\"},\"id\":\"1014\",\"type\":\"MercatorTicker\"},{\"attributes\":{},\"id\":\"1089\",\"type\":\"Selection\"},{\"attributes\":{},\"id\":\"1030\",\"type\":\"WheelZoomTool\"},{\"attributes\":{\"formatter\":{\"id\":\"1016\"},\"ticker\":{\"id\":\"1014\"}},\"id\":\"1013\",\"type\":\"MercatorAxis\"}],\"root_ids\":[\"1002\"]},\"title\":\"Bokeh Application\",\"version\":\"2.1.0\"}};\n",
       "  var render_items = [{\"docid\":\"d435c2ea-2a62-4443-94ca-0fda66efc3b5\",\"root_ids\":[\"1002\"],\"roots\":{\"1002\":\"12c12c4b-c59c-48ca-a347-9ec3ed2eb8c9\"}}];\n",
       "  root.Bokeh.embed.embed_items_notebook(docs_json, render_items);\n",
       "\n",
       "  }\n",
       "  if (root.Bokeh !== undefined) {\n",
       "    embed_document(root);\n",
       "  } else {\n",
       "    var attempts = 0;\n",
       "    var timer = setInterval(function(root) {\n",
       "      if (root.Bokeh !== undefined) {\n",
       "        clearInterval(timer);\n",
       "        embed_document(root);\n",
       "      } else {\n",
       "        attempts++;\n",
       "        if (attempts > 100) {\n",
       "          clearInterval(timer);\n",
       "          console.log(\"Bokeh: ERROR: Unable to run BokehJS code because BokehJS library is missing\");\n",
       "        }\n",
       "      }\n",
       "    }, 10, root)\n",
       "  }\n",
       "})(window);"
      ],
      "application/vnd.bokehjs_exec.v0+json": ""
     },
     "metadata": {
      "application/vnd.bokehjs_exec.v0+json": {
       "id": "1002"
      }
     },
     "output_type": "display_data"
    }
   ],
   "source": [
    "nyc_taxi.plot_taxi_route([0,1,2,89,147])"
   ]
  },
  {
   "cell_type": "code",
   "execution_count": 17,
   "metadata": {},
   "outputs": [
    {
     "name": "stdout",
     "output_type": "stream",
     "text": [
      "Summary Statistics\n",
      "Avg. Moving Pct.:  0.81\n",
      "Avg. On Trip Pct.:  0.54\n",
      "Avg. Total Distance of Trips:  2.83\n",
      "Total Trips.:  628\n",
      "Total Passengers:  1345\n",
      "Avg. Revenue:  11.63\n",
      "Total Revenue:  5816.39\n"
     ]
    }
   ],
   "source": [
    "# Maximize the number of passenges we move\n",
    "trips_df['value'] = trips_df['passenger_count']\n",
    "nyc_taxi = TaxiRouting(trips_df, nodes_df, arcs_df, 1020, 1035, 500)\n",
    "nyc_taxi.optimize()\n",
    "nyc_taxi.get_stats()"
   ]
  },
  {
   "cell_type": "code",
   "execution_count": 18,
   "metadata": {},
   "outputs": [
    {
     "name": "stdout",
     "output_type": "stream",
     "text": [
      "Summary Statistics\n",
      "Avg. Moving Pct.:  0.84\n",
      "Avg. On Trip Pct.:  0.5\n",
      "Avg. Total Distance of Trips:  2.58\n",
      "Total Trips.:  628\n",
      "Total Passengers:  1194\n",
      "Avg. Revenue:  10.88\n",
      "Total Revenue:  5440.85\n"
     ]
    }
   ],
   "source": [
    "# Maximize the number of passenges we move\n",
    "trips_df['value'] = 1\n",
    "nyc_taxi = TaxiRouting(trips_df, nodes_df, arcs_df, 1020, 1035, 500)\n",
    "nyc_taxi.optimize()\n",
    "nyc_taxi.get_stats()"
   ]
  }
 ],
 "metadata": {
  "colab": {
   "collapsed_sections": [],
   "name": "MaxFlow Empty(1).ipynb",
   "provenance": []
  },
  "kernelspec": {
   "display_name": "Python 3",
   "language": "python",
   "name": "python3"
  },
  "language_info": {
   "codemirror_mode": {
    "name": "ipython",
    "version": 3
   },
   "file_extension": ".py",
   "mimetype": "text/x-python",
   "name": "python",
   "nbconvert_exporter": "python",
   "pygments_lexer": "ipython3",
   "version": "3.6.10"
  }
 },
 "nbformat": 4,
 "nbformat_minor": 2
}
