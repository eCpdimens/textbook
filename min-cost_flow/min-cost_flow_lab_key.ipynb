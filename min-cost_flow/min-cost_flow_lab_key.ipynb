{
 "cells": [
  {
   "cell_type": "code",
   "execution_count": 1,
   "metadata": {},
   "outputs": [
    {
     "data": {
      "text/html": [
       "\n",
       "    <div class=\"bk-root\">\n",
       "        <a href=\"https://bokeh.org\" target=\"_blank\" class=\"bk-logo bk-logo-small bk-logo-notebook\"></a>\n",
       "        <span id=\"1001\">Loading BokehJS ...</span>\n",
       "    </div>"
      ]
     },
     "metadata": {},
     "output_type": "display_data"
    },
    {
     "data": {
      "application/javascript": [
       "\n",
       "(function(root) {\n",
       "  function now() {\n",
       "    return new Date();\n",
       "  }\n",
       "\n",
       "  var force = true;\n",
       "\n",
       "  if (typeof root._bokeh_onload_callbacks === \"undefined\" || force === true) {\n",
       "    root._bokeh_onload_callbacks = [];\n",
       "    root._bokeh_is_loading = undefined;\n",
       "  }\n",
       "\n",
       "  var JS_MIME_TYPE = 'application/javascript';\n",
       "  var HTML_MIME_TYPE = 'text/html';\n",
       "  var EXEC_MIME_TYPE = 'application/vnd.bokehjs_exec.v0+json';\n",
       "  var CLASS_NAME = 'output_bokeh rendered_html';\n",
       "\n",
       "  /**\n",
       "   * Render data to the DOM node\n",
       "   */\n",
       "  function render(props, node) {\n",
       "    var script = document.createElement(\"script\");\n",
       "    node.appendChild(script);\n",
       "  }\n",
       "\n",
       "  /**\n",
       "   * Handle when an output is cleared or removed\n",
       "   */\n",
       "  function handleClearOutput(event, handle) {\n",
       "    var cell = handle.cell;\n",
       "\n",
       "    var id = cell.output_area._bokeh_element_id;\n",
       "    var server_id = cell.output_area._bokeh_server_id;\n",
       "    // Clean up Bokeh references\n",
       "    if (id != null && id in Bokeh.index) {\n",
       "      Bokeh.index[id].model.document.clear();\n",
       "      delete Bokeh.index[id];\n",
       "    }\n",
       "\n",
       "    if (server_id !== undefined) {\n",
       "      // Clean up Bokeh references\n",
       "      var cmd = \"from bokeh.io.state import curstate; print(curstate().uuid_to_server['\" + server_id + \"'].get_sessions()[0].document.roots[0]._id)\";\n",
       "      cell.notebook.kernel.execute(cmd, {\n",
       "        iopub: {\n",
       "          output: function(msg) {\n",
       "            var id = msg.content.text.trim();\n",
       "            if (id in Bokeh.index) {\n",
       "              Bokeh.index[id].model.document.clear();\n",
       "              delete Bokeh.index[id];\n",
       "            }\n",
       "          }\n",
       "        }\n",
       "      });\n",
       "      // Destroy server and session\n",
       "      var cmd = \"import bokeh.io.notebook as ion; ion.destroy_server('\" + server_id + \"')\";\n",
       "      cell.notebook.kernel.execute(cmd);\n",
       "    }\n",
       "  }\n",
       "\n",
       "  /**\n",
       "   * Handle when a new output is added\n",
       "   */\n",
       "  function handleAddOutput(event, handle) {\n",
       "    var output_area = handle.output_area;\n",
       "    var output = handle.output;\n",
       "\n",
       "    // limit handleAddOutput to display_data with EXEC_MIME_TYPE content only\n",
       "    if ((output.output_type != \"display_data\") || (!output.data.hasOwnProperty(EXEC_MIME_TYPE))) {\n",
       "      return\n",
       "    }\n",
       "\n",
       "    var toinsert = output_area.element.find(\".\" + CLASS_NAME.split(' ')[0]);\n",
       "\n",
       "    if (output.metadata[EXEC_MIME_TYPE][\"id\"] !== undefined) {\n",
       "      toinsert[toinsert.length - 1].firstChild.textContent = output.data[JS_MIME_TYPE];\n",
       "      // store reference to embed id on output_area\n",
       "      output_area._bokeh_element_id = output.metadata[EXEC_MIME_TYPE][\"id\"];\n",
       "    }\n",
       "    if (output.metadata[EXEC_MIME_TYPE][\"server_id\"] !== undefined) {\n",
       "      var bk_div = document.createElement(\"div\");\n",
       "      bk_div.innerHTML = output.data[HTML_MIME_TYPE];\n",
       "      var script_attrs = bk_div.children[0].attributes;\n",
       "      for (var i = 0; i < script_attrs.length; i++) {\n",
       "        toinsert[toinsert.length - 1].firstChild.setAttribute(script_attrs[i].name, script_attrs[i].value);\n",
       "        toinsert[toinsert.length - 1].firstChild.textContent = bk_div.children[0].textContent\n",
       "      }\n",
       "      // store reference to server id on output_area\n",
       "      output_area._bokeh_server_id = output.metadata[EXEC_MIME_TYPE][\"server_id\"];\n",
       "    }\n",
       "  }\n",
       "\n",
       "  function register_renderer(events, OutputArea) {\n",
       "\n",
       "    function append_mime(data, metadata, element) {\n",
       "      // create a DOM node to render to\n",
       "      var toinsert = this.create_output_subarea(\n",
       "        metadata,\n",
       "        CLASS_NAME,\n",
       "        EXEC_MIME_TYPE\n",
       "      );\n",
       "      this.keyboard_manager.register_events(toinsert);\n",
       "      // Render to node\n",
       "      var props = {data: data, metadata: metadata[EXEC_MIME_TYPE]};\n",
       "      render(props, toinsert[toinsert.length - 1]);\n",
       "      element.append(toinsert);\n",
       "      return toinsert\n",
       "    }\n",
       "\n",
       "    /* Handle when an output is cleared or removed */\n",
       "    events.on('clear_output.CodeCell', handleClearOutput);\n",
       "    events.on('delete.Cell', handleClearOutput);\n",
       "\n",
       "    /* Handle when a new output is added */\n",
       "    events.on('output_added.OutputArea', handleAddOutput);\n",
       "\n",
       "    /**\n",
       "     * Register the mime type and append_mime function with output_area\n",
       "     */\n",
       "    OutputArea.prototype.register_mime_type(EXEC_MIME_TYPE, append_mime, {\n",
       "      /* Is output safe? */\n",
       "      safe: true,\n",
       "      /* Index of renderer in `output_area.display_order` */\n",
       "      index: 0\n",
       "    });\n",
       "  }\n",
       "\n",
       "  // register the mime type if in Jupyter Notebook environment and previously unregistered\n",
       "  if (root.Jupyter !== undefined) {\n",
       "    var events = require('base/js/events');\n",
       "    var OutputArea = require('notebook/js/outputarea').OutputArea;\n",
       "\n",
       "    if (OutputArea.prototype.mime_types().indexOf(EXEC_MIME_TYPE) == -1) {\n",
       "      register_renderer(events, OutputArea);\n",
       "    }\n",
       "  }\n",
       "\n",
       "  \n",
       "  if (typeof (root._bokeh_timeout) === \"undefined\" || force === true) {\n",
       "    root._bokeh_timeout = Date.now() + 5000;\n",
       "    root._bokeh_failed_load = false;\n",
       "  }\n",
       "\n",
       "  var NB_LOAD_WARNING = {'data': {'text/html':\n",
       "     \"<div style='background-color: #fdd'>\\n\"+\n",
       "     \"<p>\\n\"+\n",
       "     \"BokehJS does not appear to have successfully loaded. If loading BokehJS from CDN, this \\n\"+\n",
       "     \"may be due to a slow or bad network connection. Possible fixes:\\n\"+\n",
       "     \"</p>\\n\"+\n",
       "     \"<ul>\\n\"+\n",
       "     \"<li>re-rerun `output_notebook()` to attempt to load from CDN again, or</li>\\n\"+\n",
       "     \"<li>use INLINE resources instead, as so:</li>\\n\"+\n",
       "     \"</ul>\\n\"+\n",
       "     \"<code>\\n\"+\n",
       "     \"from bokeh.resources import INLINE\\n\"+\n",
       "     \"output_notebook(resources=INLINE)\\n\"+\n",
       "     \"</code>\\n\"+\n",
       "     \"</div>\"}};\n",
       "\n",
       "  function display_loaded() {\n",
       "    var el = document.getElementById(\"1001\");\n",
       "    if (el != null) {\n",
       "      el.textContent = \"BokehJS is loading...\";\n",
       "    }\n",
       "    if (root.Bokeh !== undefined) {\n",
       "      if (el != null) {\n",
       "        el.textContent = \"BokehJS \" + root.Bokeh.version + \" successfully loaded.\";\n",
       "      }\n",
       "    } else if (Date.now() < root._bokeh_timeout) {\n",
       "      setTimeout(display_loaded, 100)\n",
       "    }\n",
       "  }\n",
       "\n",
       "\n",
       "  function run_callbacks() {\n",
       "    try {\n",
       "      root._bokeh_onload_callbacks.forEach(function(callback) {\n",
       "        if (callback != null)\n",
       "          callback();\n",
       "      });\n",
       "    } finally {\n",
       "      delete root._bokeh_onload_callbacks\n",
       "    }\n",
       "    console.debug(\"Bokeh: all callbacks have finished\");\n",
       "  }\n",
       "\n",
       "  function load_libs(css_urls, js_urls, callback) {\n",
       "    if (css_urls == null) css_urls = [];\n",
       "    if (js_urls == null) js_urls = [];\n",
       "\n",
       "    root._bokeh_onload_callbacks.push(callback);\n",
       "    if (root._bokeh_is_loading > 0) {\n",
       "      console.debug(\"Bokeh: BokehJS is being loaded, scheduling callback at\", now());\n",
       "      return null;\n",
       "    }\n",
       "    if (js_urls == null || js_urls.length === 0) {\n",
       "      run_callbacks();\n",
       "      return null;\n",
       "    }\n",
       "    console.debug(\"Bokeh: BokehJS not loaded, scheduling load and callback at\", now());\n",
       "    root._bokeh_is_loading = css_urls.length + js_urls.length;\n",
       "\n",
       "    function on_load() {\n",
       "      root._bokeh_is_loading--;\n",
       "      if (root._bokeh_is_loading === 0) {\n",
       "        console.debug(\"Bokeh: all BokehJS libraries/stylesheets loaded\");\n",
       "        run_callbacks()\n",
       "      }\n",
       "    }\n",
       "\n",
       "    function on_error() {\n",
       "      console.error(\"failed to load \" + url);\n",
       "    }\n",
       "\n",
       "    for (var i = 0; i < css_urls.length; i++) {\n",
       "      var url = css_urls[i];\n",
       "      const element = document.createElement(\"link\");\n",
       "      element.onload = on_load;\n",
       "      element.onerror = on_error;\n",
       "      element.rel = \"stylesheet\";\n",
       "      element.type = \"text/css\";\n",
       "      element.href = url;\n",
       "      console.debug(\"Bokeh: injecting link tag for BokehJS stylesheet: \", url);\n",
       "      document.body.appendChild(element);\n",
       "    }\n",
       "\n",
       "    const hashes = {\"https://cdn.bokeh.org/bokeh/release/bokeh-2.1.0.min.js\": \"YobFyzPeVUsFQydHkJGsJL1kyfHnWxOlPc3EwaV22TmBaeGoXHLWx5aRRVPS9xlE\", \"https://cdn.bokeh.org/bokeh/release/bokeh-widgets-2.1.0.min.js\": \"NuAg9+TcTQQqvQCTtkCneRrpkTiMhhfiq0KHiBzx8ECiKiLWXHN6i6ia3q7b3eHu\", \"https://cdn.bokeh.org/bokeh/release/bokeh-tables-2.1.0.min.js\": \"uMVqQc8JqHitD67bXTn9a06Mrk3EiHRaZ18EJENQenAKJ/KL71SakdXYomZQpGRr\", \"https://cdn.bokeh.org/bokeh/release/bokeh-gl-2.1.0.min.js\": \"u+eGuEXC8aw0VSCm2mH+b/tQEAitUOYiR1H6SuIVEdUmXsf4vN8m/SmXpmjb7U/X\"};\n",
       "\n",
       "    for (var i = 0; i < js_urls.length; i++) {\n",
       "      var url = js_urls[i];\n",
       "      var element = document.createElement('script');\n",
       "      element.onload = on_load;\n",
       "      element.onerror = on_error;\n",
       "      element.async = false;\n",
       "      element.src = url;\n",
       "      if (url in hashes) {\n",
       "        element.crossOrigin = \"anonymous\";\n",
       "        element.integrity = \"sha384-\" + hashes[url];\n",
       "      }\n",
       "      console.debug(\"Bokeh: injecting script tag for BokehJS library: \", url);\n",
       "      document.head.appendChild(element);\n",
       "    }\n",
       "  };\n",
       "\n",
       "  function inject_raw_css(css) {\n",
       "    const element = document.createElement(\"style\");\n",
       "    element.appendChild(document.createTextNode(css));\n",
       "    document.body.appendChild(element);\n",
       "  }\n",
       "\n",
       "  \n",
       "  var js_urls = [\"https://cdn.bokeh.org/bokeh/release/bokeh-2.1.0.min.js\", \"https://cdn.bokeh.org/bokeh/release/bokeh-widgets-2.1.0.min.js\", \"https://cdn.bokeh.org/bokeh/release/bokeh-tables-2.1.0.min.js\", \"https://cdn.bokeh.org/bokeh/release/bokeh-gl-2.1.0.min.js\"];\n",
       "  var css_urls = [];\n",
       "  \n",
       "\n",
       "  var inline_js = [\n",
       "    function(Bokeh) {\n",
       "      Bokeh.set_log_level(\"info\");\n",
       "    },\n",
       "    function(Bokeh) {\n",
       "    \n",
       "    \n",
       "    }\n",
       "  ];\n",
       "\n",
       "  function run_inline_js() {\n",
       "    \n",
       "    if (root.Bokeh !== undefined || force === true) {\n",
       "      \n",
       "    for (var i = 0; i < inline_js.length; i++) {\n",
       "      inline_js[i].call(root, root.Bokeh);\n",
       "    }\n",
       "    if (force === true) {\n",
       "        display_loaded();\n",
       "      }} else if (Date.now() < root._bokeh_timeout) {\n",
       "      setTimeout(run_inline_js, 100);\n",
       "    } else if (!root._bokeh_failed_load) {\n",
       "      console.log(\"Bokeh: BokehJS failed to load within specified timeout.\");\n",
       "      root._bokeh_failed_load = true;\n",
       "    } else if (force !== true) {\n",
       "      var cell = $(document.getElementById(\"1001\")).parents('.cell').data().cell;\n",
       "      cell.output_area.append_execute_result(NB_LOAD_WARNING)\n",
       "    }\n",
       "\n",
       "  }\n",
       "\n",
       "  if (root._bokeh_is_loading === 0) {\n",
       "    console.debug(\"Bokeh: BokehJS loaded, going straight to plotting\");\n",
       "    run_inline_js();\n",
       "  } else {\n",
       "    load_libs(css_urls, js_urls, function() {\n",
       "      console.debug(\"Bokeh: BokehJS plotting callback run at\", now());\n",
       "      run_inline_js();\n",
       "    });\n",
       "  }\n",
       "}(window));"
      ],
      "application/vnd.bokehjs_load.v0+json": "\n(function(root) {\n  function now() {\n    return new Date();\n  }\n\n  var force = true;\n\n  if (typeof root._bokeh_onload_callbacks === \"undefined\" || force === true) {\n    root._bokeh_onload_callbacks = [];\n    root._bokeh_is_loading = undefined;\n  }\n\n  \n\n  \n  if (typeof (root._bokeh_timeout) === \"undefined\" || force === true) {\n    root._bokeh_timeout = Date.now() + 5000;\n    root._bokeh_failed_load = false;\n  }\n\n  var NB_LOAD_WARNING = {'data': {'text/html':\n     \"<div style='background-color: #fdd'>\\n\"+\n     \"<p>\\n\"+\n     \"BokehJS does not appear to have successfully loaded. If loading BokehJS from CDN, this \\n\"+\n     \"may be due to a slow or bad network connection. Possible fixes:\\n\"+\n     \"</p>\\n\"+\n     \"<ul>\\n\"+\n     \"<li>re-rerun `output_notebook()` to attempt to load from CDN again, or</li>\\n\"+\n     \"<li>use INLINE resources instead, as so:</li>\\n\"+\n     \"</ul>\\n\"+\n     \"<code>\\n\"+\n     \"from bokeh.resources import INLINE\\n\"+\n     \"output_notebook(resources=INLINE)\\n\"+\n     \"</code>\\n\"+\n     \"</div>\"}};\n\n  function display_loaded() {\n    var el = document.getElementById(\"1001\");\n    if (el != null) {\n      el.textContent = \"BokehJS is loading...\";\n    }\n    if (root.Bokeh !== undefined) {\n      if (el != null) {\n        el.textContent = \"BokehJS \" + root.Bokeh.version + \" successfully loaded.\";\n      }\n    } else if (Date.now() < root._bokeh_timeout) {\n      setTimeout(display_loaded, 100)\n    }\n  }\n\n\n  function run_callbacks() {\n    try {\n      root._bokeh_onload_callbacks.forEach(function(callback) {\n        if (callback != null)\n          callback();\n      });\n    } finally {\n      delete root._bokeh_onload_callbacks\n    }\n    console.debug(\"Bokeh: all callbacks have finished\");\n  }\n\n  function load_libs(css_urls, js_urls, callback) {\n    if (css_urls == null) css_urls = [];\n    if (js_urls == null) js_urls = [];\n\n    root._bokeh_onload_callbacks.push(callback);\n    if (root._bokeh_is_loading > 0) {\n      console.debug(\"Bokeh: BokehJS is being loaded, scheduling callback at\", now());\n      return null;\n    }\n    if (js_urls == null || js_urls.length === 0) {\n      run_callbacks();\n      return null;\n    }\n    console.debug(\"Bokeh: BokehJS not loaded, scheduling load and callback at\", now());\n    root._bokeh_is_loading = css_urls.length + js_urls.length;\n\n    function on_load() {\n      root._bokeh_is_loading--;\n      if (root._bokeh_is_loading === 0) {\n        console.debug(\"Bokeh: all BokehJS libraries/stylesheets loaded\");\n        run_callbacks()\n      }\n    }\n\n    function on_error() {\n      console.error(\"failed to load \" + url);\n    }\n\n    for (var i = 0; i < css_urls.length; i++) {\n      var url = css_urls[i];\n      const element = document.createElement(\"link\");\n      element.onload = on_load;\n      element.onerror = on_error;\n      element.rel = \"stylesheet\";\n      element.type = \"text/css\";\n      element.href = url;\n      console.debug(\"Bokeh: injecting link tag for BokehJS stylesheet: \", url);\n      document.body.appendChild(element);\n    }\n\n    const hashes = {\"https://cdn.bokeh.org/bokeh/release/bokeh-2.1.0.min.js\": \"YobFyzPeVUsFQydHkJGsJL1kyfHnWxOlPc3EwaV22TmBaeGoXHLWx5aRRVPS9xlE\", \"https://cdn.bokeh.org/bokeh/release/bokeh-widgets-2.1.0.min.js\": \"NuAg9+TcTQQqvQCTtkCneRrpkTiMhhfiq0KHiBzx8ECiKiLWXHN6i6ia3q7b3eHu\", \"https://cdn.bokeh.org/bokeh/release/bokeh-tables-2.1.0.min.js\": \"uMVqQc8JqHitD67bXTn9a06Mrk3EiHRaZ18EJENQenAKJ/KL71SakdXYomZQpGRr\", \"https://cdn.bokeh.org/bokeh/release/bokeh-gl-2.1.0.min.js\": \"u+eGuEXC8aw0VSCm2mH+b/tQEAitUOYiR1H6SuIVEdUmXsf4vN8m/SmXpmjb7U/X\"};\n\n    for (var i = 0; i < js_urls.length; i++) {\n      var url = js_urls[i];\n      var element = document.createElement('script');\n      element.onload = on_load;\n      element.onerror = on_error;\n      element.async = false;\n      element.src = url;\n      if (url in hashes) {\n        element.crossOrigin = \"anonymous\";\n        element.integrity = \"sha384-\" + hashes[url];\n      }\n      console.debug(\"Bokeh: injecting script tag for BokehJS library: \", url);\n      document.head.appendChild(element);\n    }\n  };\n\n  function inject_raw_css(css) {\n    const element = document.createElement(\"style\");\n    element.appendChild(document.createTextNode(css));\n    document.body.appendChild(element);\n  }\n\n  \n  var js_urls = [\"https://cdn.bokeh.org/bokeh/release/bokeh-2.1.0.min.js\", \"https://cdn.bokeh.org/bokeh/release/bokeh-widgets-2.1.0.min.js\", \"https://cdn.bokeh.org/bokeh/release/bokeh-tables-2.1.0.min.js\", \"https://cdn.bokeh.org/bokeh/release/bokeh-gl-2.1.0.min.js\"];\n  var css_urls = [];\n  \n\n  var inline_js = [\n    function(Bokeh) {\n      Bokeh.set_log_level(\"info\");\n    },\n    function(Bokeh) {\n    \n    \n    }\n  ];\n\n  function run_inline_js() {\n    \n    if (root.Bokeh !== undefined || force === true) {\n      \n    for (var i = 0; i < inline_js.length; i++) {\n      inline_js[i].call(root, root.Bokeh);\n    }\n    if (force === true) {\n        display_loaded();\n      }} else if (Date.now() < root._bokeh_timeout) {\n      setTimeout(run_inline_js, 100);\n    } else if (!root._bokeh_failed_load) {\n      console.log(\"Bokeh: BokehJS failed to load within specified timeout.\");\n      root._bokeh_failed_load = true;\n    } else if (force !== true) {\n      var cell = $(document.getElementById(\"1001\")).parents('.cell').data().cell;\n      cell.output_area.append_execute_result(NB_LOAD_WARNING)\n    }\n\n  }\n\n  if (root._bokeh_is_loading === 0) {\n    console.debug(\"Bokeh: BokehJS loaded, going straight to plotting\");\n    run_inline_js();\n  } else {\n    load_libs(css_urls, js_urls, function() {\n      console.debug(\"Bokeh: BokehJS plotting callback run at\", now());\n      run_inline_js();\n    });\n  }\n}(window));"
     },
     "metadata": {},
     "output_type": "display_data"
    }
   ],
   "source": [
    "# IMPORTS\n",
    "from routing import TaxiRouting, create_dataframes\n",
    "import numpy as np\n",
    "import pandas as pd\n",
    "import random\n",
    "from bokeh.io import output_notebook\n",
    "output_notebook()"
   ]
  },
  {
   "cell_type": "markdown",
   "metadata": {
    "colab_type": "text",
    "id": "pkXM36r5cTcg"
   },
   "source": [
    "# Min-Cost Flow Lab\n",
    "\n",
    "**Objectives:**\n",
    "\n",
    "* Understand the min-cost flow problem.\n",
    "* Use the min-cost flow problem to solve the shortest path problem.\n",
    "* Apply min-cost flow to the taxi-routing problem.\n",
    "* Analyze solutions to the taxi-routing problem\n",
    "    \n",
    "<font color='red'> **Instructor Comments** </font>\n",
    "\n",
    "<font color='blue'> **Solutions** </font>"
   ]
  },
  {
   "cell_type": "markdown",
   "metadata": {},
   "source": [
    "**Review:** Recall the min-cost flow problem. For our input, we have a directed graph $G = (N,A)$. For each arc $(i,j) \\in A$, we have a per-unit cost $c(i,j)$ and capacity $u(i,j)$. For each node $i \\in N$, we have a demand / supply $s(i)$. If $s(i) > 0$, we have supply at node $i$. If $s(i) < 0$, we have demand at node $i$. Our goal is to distribute the supply from supply nodes to the demand nodes at minimal cost. A solution to the min-cost problem can be described by a giving a flow $f(i,j)$ for every arc $(i,j) \\in A$. The objective value of a solution is given by $\\sum_{(i,j) \\in A} c(i,j)*f(i,j)$."
   ]
  },
  {
   "cell_type": "markdown",
   "metadata": {
    "colab_type": "text",
    "id": "c30NLz3mcTci"
   },
   "source": [
    "## Part 1: A Little Theory"
   ]
  },
  {
   "cell_type": "markdown",
   "metadata": {},
   "source": [
    "**Q1:** What must be true for there to be an optimal solution? (Hint: supply and demand)\n",
    "\n",
    "**A:** <font color='blue'> The total supply must be greater or equal to the total demand.</font>"
   ]
  },
  {
   "cell_type": "markdown",
   "metadata": {},
   "source": [
    "**Q2:** Consider a cut $S \\subset N$ on the graph $G = (N,A)$. The capacity of a cut $S$ is the sum of capacities of all edges $(i,j)$ where $i \\in S$ and $j \\in T = N \\setminus S$ (the notation $A \\setminus B$ means all the elements of $A$ that are not in $B$). Notationally, the capcity of cut $S$ is $$\\sum_{(i,j) \\in A \\mid i \\in S, j \\in T}u(i,j).$$ Let the total demand and total supply in set $T$ be denoted $d_T$ and $s_T$ respectively. Assume $d_T > s_T$. Hence, the total supply within the set $T$ is not enough to satisfy the demand within set $T$. If we asssume this instance has a feasible solution, what must be true about the capacity of the cut $S$.\n",
    "\n",
    "\n",
    "**A:** <font color='blue'>The flow into set $T$ must be at least $d_T - s_T$ in order to satisfy the demand in set $T$. Hence, the capacity of the cut $S$ must be at least $d_T - s_T$.</font>"
   ]
  },
  {
   "cell_type": "markdown",
   "metadata": {},
   "source": [
    "Recall the shortest path problem. We have a directed graph $G = (N,A)$ with length $\\ell(i,j)$ for all edges $(i,j) \\in A$ and source/sink $s,t \\in N$. Our goal is to find an $s-t$ path of minimum length. How could we use the min-cost flow problem to solve the shortest path problem? Let's walk through the formulation."
   ]
  },
  {
   "cell_type": "markdown",
   "metadata": {},
   "source": [
    "**Q3:** Let's use the input directed graph $G = (N,A)$ for the shortest path problem as our directed graph for our min-cost flow problem. We need to assign a cost $c(i,j)$ for all edges $(i,j) \\in A$. What should the cost be?\n",
    "\n",
    "**A:** <font color='blue'>$c(i,j) = \\ell(i,j)$</font>"
   ]
  },
  {
   "cell_type": "markdown",
   "metadata": {},
   "source": [
    "**Q4:** We also need to assign a capacitiy $u(i,j)$ for all edges $(i,j) \\in A$. What should the capacity be?\n",
    "\n",
    "**A:** <font color='blue'>$u(i,j) = 1$</font>"
   ]
  },
  {
   "cell_type": "markdown",
   "metadata": {},
   "source": [
    "**Q5:** Lastly, we need to asssign supply/demand $s(i)$ to every node $i \\in N$. What should the supply/demands be?\n",
    "\n",
    "**A:** <font color='blue'>$s(s) = 1$, $s(t) = -1$, and $s(i) = 0$ otherwise.</font>"
   ]
  },
  {
   "cell_type": "markdown",
   "metadata": {},
   "source": [
    "If you are unsure about your formulation, reach out to a TA before heading on!"
   ]
  },
  {
   "cell_type": "markdown",
   "metadata": {},
   "source": [
    "The following will be a little hand-wavy. Let's say we have a black box that solves min-cost flow problems. Given all the inputs, it returns an optimal solution $f(i,j)$ for all $(i,j) \\in A$. If all $u(i,j)$ and $s(i)$ are integral, the **integrality property** states that the black-box will return an all integral solution."
   ]
  },
  {
   "cell_type": "markdown",
   "metadata": {},
   "source": [
    "**Q6:** If $0 \\leq x \\leq 1$ and $x$ is integral, what values can $x$ be?\n",
    "\n",
    "**A:** <font color='blue'> Either $x = 1$ or $x = 0$</font>"
   ]
  },
  {
   "cell_type": "markdown",
   "metadata": {},
   "source": [
    "**Q7:** What does the integrality property and your answer to Q6 imply about the optimal solution that will be returned when using the black-box to solve the min-cost flow input created to solve the shortest path problem?\n",
    "\n",
    "**A:** <font color='blue'>The optimal solution will be integral. Furthermore, since $0 \\leq f(i,j) \\leq 1$, we know that $f(i,j)$ will be 1 or 0. </font>"
   ]
  },
  {
   "cell_type": "markdown",
   "metadata": {},
   "source": [
    "**Q8:** How can we interpret a min-cost flow solution as a solution to the shortest path problem.\n",
    "\n",
    "**A:** <font color='blue'>If $f(i,j) = 1$, then $(i,j)$ is in the path. Otherwise, it is not. </font>"
   ]
  },
  {
   "cell_type": "markdown",
   "metadata": {},
   "source": [
    "You are now very familiar with the steps required to show how one problem can be used to solve another. At this point, we have done the first step: created a way to transform shortest-path inputs into min-cost flow inputs. The remaining steps are to show there is a one-to-one correspondence between feasible solutions to the shortest-path problem and feasible solutions to the min-cost flow problem and show the objective values are the same (or differ by a constant). Think about how this argument might look. The next question addresses one complication you will come across."
   ]
  },
  {
   "cell_type": "markdown",
   "metadata": {},
   "source": [
    "Suppose we have the following graph for the shortest path problem. "
   ]
  },
  {
   "cell_type": "markdown",
   "metadata": {},
   "source": [
    "![](graph.png)"
   ]
  },
  {
   "cell_type": "markdown",
   "metadata": {},
   "source": [
    "Consider the feasible solution to the min-cost flow problem where $f(i,j) = 1$ for edges $(1,2),(2,3),(3,5),(5,2),(2,4),$ and $(4,6)$"
   ]
  },
  {
   "cell_type": "markdown",
   "metadata": {},
   "source": [
    "**Q9:** Does this feasible solution correspond to an $s-t$ path? Why or why not?\n",
    "\n",
    "**A:** <font color='blue'>No because (2,3),(3,5), and (5,2) form a cycle. </font>"
   ]
  },
  {
   "cell_type": "markdown",
   "metadata": {},
   "source": [
    "**Q10:** Does the feasible solution **contain** an $s-t$ path? If so, what is it?\n",
    "\n",
    "**A:** <font color='blue'>Yes, (1,2),(2,4),(4,6) is an $s-t$ path. </font>"
   ]
  },
  {
   "cell_type": "markdown",
   "metadata": {},
   "source": [
    "**Q11:** How did you arrive at an $s-t$ path?\n",
    "\n",
    "**A:** <font color='blue'> Cut out the cycle. </font>"
   ]
  },
  {
   "cell_type": "markdown",
   "metadata": {},
   "source": [
    "**Q12:** Consider any feasible solution to the min-cost flow problem that corresponds to a path that has some cycles. If we cut out the cycles to obtain a corresponding $s-t$ path, how will the cost of the min-cost flow solution correspond to the length of the corresponding $s-t$ path.\n",
    "\n",
    "**A:**  <font color='blue'> The length of the $s-t$ path will always be shorter. </font>"
   ]
  },
  {
   "cell_type": "markdown",
   "metadata": {},
   "source": [
    "## Part 2: The Taxi-Routing Problem"
   ]
  },
  {
   "cell_type": "markdown",
   "metadata": {},
   "source": [
    "Suppose we are a New York City taxi company and we know all the ride requests we will receive over some time horizon. Each trip has a start/end location, start time, trip time, and some value. We could view the value as the revenue generated, number of passengers, or constant across all rides. Furthermore, we know the number of taxi cabs we have $B$ and the layout of Manhattan. We can represent Manhattan as a grid where every street intersection is a node and every street segment is an edge. Assume we also know the time it takes to traverse any street segment. We want to maximize the value of the trips we pick-up. Let's use the min-cost flow problem to solve this problem!"
   ]
  },
  {
   "cell_type": "markdown",
   "metadata": {},
   "source": [
    "First, we must construct an input to the min-cost flow problem. Let us discretize time into minutes. We will have a time horizon of $T$ minutes. Next, let's index every location node so that we have $L$ nodes indexed $0,\\dots,L-1$ for all $L$ locations in Manhattan. We now construct the directed graph $G$ that will be the input to the min-cost flow problem. There is a node for every time and location combination where node $(\\ell,t)$ is the node representing location $\\ell$ at time $t$."
   ]
  },
  {
   "cell_type": "markdown",
   "metadata": {},
   "source": [
    "Furthermore, we will have nodes $s$ and $f$. There is an edge from $s$ to node $(\\ell,0)$ for all locations and an edge from node $(\\ell,T)$ to $f$ for all locations. The idea is that a unit of flow through the graph will represent where a given taxi is at any given time over the time horizon."
   ]
  },
  {
   "cell_type": "markdown",
   "metadata": {},
   "source": [
    "**Q13:** What should the supplies for the $s$, $f$, and $(\\ell,t)$ nodes be?\n",
    "\n",
    "**A:** <font color='blue'> The supply at $s$ is $B$, the supply at any $(\\ell,t)$ is 0, and the supply at $f$ is $-B$. </font>"
   ]
  },
  {
   "cell_type": "markdown",
   "metadata": {},
   "source": [
    "We are almost there! We need to define the other edges in the graph and determine the cost and capacity for each edge. Since we know the layout of Manhattan, we know how long it takes to get from one location to another. In other words, we have a list of arcs of the form $(a,b,d)$ where $a$ is the start location, $b$ is the end location , and $d$ is the time it takes to travel between the two locations. For each arc of this type we will introduce edges from $(a,t)$ to $(b,t+d)$ for every $t$ such that $0 \\leq t$ and $t+d \\leq T$. Each edge of this type will have a capacity of $B$ because any taxi can traverse this edge and cost 0 since it is of zero value to drive with no passengers. Most importantly, we need edges to represent each trip we could take. Lastly, we need arcs to represent each trip."
   ]
  },
  {
   "cell_type": "markdown",
   "metadata": {},
   "source": [
    "**Q14:** Suppose we have a trip from location $a$ to $b$ that starts as time $t$ with duration $d$ and value $v$. What edge should be added and what are its cost and capacity?\n",
    "\n",
    "**A:** <font color='blue'> We should have an edge from $(a,t)$ to $(b,t+d)$ with cost $-v$ and capacity 1. </font>"
   ]
  },
  {
   "cell_type": "markdown",
   "metadata": {},
   "source": [
    "Let's look at a small input!"
   ]
  },
  {
   "cell_type": "code",
   "execution_count": 2,
   "metadata": {},
   "outputs": [],
   "source": [
    "# start, end, start_time, trip_time, value\n",
    "trips = [(2,1,1,2,1),\n",
    "         (0,1,0,1,1),\n",
    "         (0,1,2,1,1)]\n",
    "\n",
    "# start, end, trip_time\n",
    "arcs = []\n",
    "\n",
    "B = 2  # number of taxis\n",
    "L = 3  # of locations\n",
    "T = max(np.array(list(zip(*trips))[2]) + np.array(list(zip(*trips))[3]))  # time horizon\n",
    "\n",
    "trips_df, nodes_df, arcs_df = create_dataframes(trips, arcs, L)\n",
    "small_ex = TaxiRouting(trips_df, nodes_df, arcs_df, 0, T, B)"
   ]
  },
  {
   "cell_type": "markdown",
   "metadata": {},
   "source": [
    "Let's look at the corresponding min-cost flow input to this problem. The label on each edge is the flow on that edge."
   ]
  },
  {
   "cell_type": "code",
   "execution_count": 3,
   "metadata": {},
   "outputs": [
    {
     "data": {
      "image/png": "[encoded data removed]",
      "text/plain": [
       "<Figure size 648x432 with 1 Axes>"
      ]
     },
     "metadata": {},
     "output_type": "display_data"
    }
   ],
   "source": [
    "small_ex.draw_graph()"
   ]
  },
  {
   "cell_type": "markdown",
   "metadata": {},
   "source": [
    "**Q14:** Is this what you expected? If not, why?\n",
    "\n",
    "**A:** <font color='blue'> Depends. </font>"
   ]
  },
  {
   "cell_type": "markdown",
   "metadata": {},
   "source": [
    "**Q15:** The edges $(\\ell,t)$ to $(\\ell,t+1)$ for all locations $\\ell$ and $0 \\leq t \\leq T-1$ are automatically added to the graph despite being explicitly defined. What do they represent?\n",
    "\n",
    "**A:** <font color='blue'> Staying at the same location. </font>"
   ]
  },
  {
   "cell_type": "markdown",
   "metadata": {},
   "source": [
    "We can now solve the problem and look at the optimal flow again."
   ]
  },
  {
   "cell_type": "code",
   "execution_count": 4,
   "metadata": {},
   "outputs": [
    {
     "data": {
      "image/png": "[encoded data removed]",
      "text/plain": [
       "<Figure size 648x432 with 1 Axes>"
      ]
     },
     "metadata": {},
     "output_type": "display_data"
    }
   ],
   "source": [
    "small_ex.optimize()\n",
    "small_ex.draw_graph()"
   ]
  },
  {
   "cell_type": "markdown",
   "metadata": {},
   "source": [
    "**Q16:** What is the cost of this solution? Recall that we used a constant value of 1 for each trip\n",
    "\n",
    "**A:** <font color='blue'> -2 because we satisfied 2 trips. </font>"
   ]
  },
  {
   "cell_type": "markdown",
   "metadata": {},
   "source": [
    "**Q17:** Intepret this solution as a solution to the taxi-routing problem. That is, give a schedule for every taxi.\n",
    "\n",
    "**A:** <font color='blue'> One taxi starts at location 0 and takes a trip from location 0 to 1. After that, they stay at location 1 for the rest of the time horizon. The other taxi starts at location 2 and waits until $t = 1$ to take a trip from location 2 to 1. </font>     "
   ]
  },
  {
   "cell_type": "markdown",
   "metadata": {},
   "source": [
    "**Q18:** We have a trip from location 0 to 1 that only takes 1 minute. Suppose this takes a two way road and we can get from location 1 to 0 in 1 minute as well. Add this to the input and see how the optimal solution changes."
   ]
  },
  {
   "cell_type": "code",
   "execution_count": 5,
   "metadata": {
    "scrolled": true
   },
   "outputs": [
    {
     "data": {
      "image/png": "[encoded data removed]",
      "text/plain": [
       "<Figure size 648x432 with 1 Axes>"
      ]
     },
     "metadata": {},
     "output_type": "display_data"
    }
   ],
   "source": [
    "# start, end, trip_time\n",
    "arcs = [] # ADD YOUR ANSWER HERE\n",
    "\n",
    "# SOLUTION\n",
    "arcs = [(1,0,1)]\n",
    "\n",
    "trips_df, nodes_df, arcs_df = create_dataframes(trips, arcs, L)\n",
    "small_ex = TaxiRouting(trips_df, nodes_df, arcs_df, 0, T, B)\n",
    "small_ex.optimize()\n",
    "small_ex.draw_graph()"
   ]
  },
  {
   "cell_type": "markdown",
   "metadata": {},
   "source": [
    "It becomes hard to interpret the solution with so many edges. We can use the following command to get the taxi paths:"
   ]
  },
  {
   "cell_type": "code",
   "execution_count": 6,
   "metadata": {},
   "outputs": [],
   "source": [
    "paths = small_ex.taxi_paths()"
   ]
  },
  {
   "cell_type": "markdown",
   "metadata": {},
   "source": [
    "This returns a list of paths for each taxi. Let's look at the first taxi."
   ]
  },
  {
   "cell_type": "code",
   "execution_count": 7,
   "metadata": {},
   "outputs": [
    {
     "data": {
      "text/plain": [
       "[(0, 1, True), (1, 0, False), (0, 1, True)]"
      ]
     },
     "execution_count": 7,
     "metadata": {},
     "output_type": "execute_result"
    }
   ],
   "source": [
    "paths[0]"
   ]
  },
  {
   "cell_type": "markdown",
   "metadata": {},
   "source": [
    "We can intepret this output as follows: This taxi went from location 0 to 1 taking a trip then went back to location 0 without taking a trip before taking another trip from location 0 to 1."
   ]
  },
  {
   "cell_type": "markdown",
   "metadata": {},
   "source": [
    "**Q19:** Interpret the path of the other taxi."
   ]
  },
  {
   "cell_type": "code",
   "execution_count": 8,
   "metadata": {},
   "outputs": [
    {
     "data": {
      "text/plain": [
       "[(2, 2, False), (2, 1, True)]"
      ]
     },
     "execution_count": 8,
     "metadata": {},
     "output_type": "execute_result"
    }
   ],
   "source": [
    "paths[1]"
   ]
  },
  {
   "cell_type": "markdown",
   "metadata": {},
   "source": [
    "**A:** <font color='blue'> This taxi stayed at location 2 then took a trip from location 2 to 1.</font>"
   ]
  },
  {
   "cell_type": "markdown",
   "metadata": {},
   "source": [
    "## Part 3: The Taxi-Routing Problem (At Scale)"
   ]
  },
  {
   "cell_type": "markdown",
   "metadata": {},
   "source": [
    "Let's look at the taxi routing problem at scale! First, we need to input some data:"
   ]
  },
  {
   "cell_type": "code",
   "execution_count": 9,
   "metadata": {},
   "outputs": [],
   "source": [
    "trips_df = pd.read_csv('data/2013-09-01_trip_data_manhattan.csv').drop(columns='id')\n",
    "trips_df['revenue'] = 2.50 + 1.56*trips_df.trip_distance + 0.50*trips_df.trip_time\n",
    "trips_df.revenue = trips_df.revenue.apply(lambda x: round(x,2))\n",
    "\n",
    "nodes_df = pd.read_csv('data/nyc_nodes_manhattan.csv').drop(columns='Unnamed: 0')\n",
    "arcs_df = pd.read_csv('data/nyc_links_manhattan.csv').drop(columns='Unnamed: 0')"
   ]
  },
  {
   "cell_type": "markdown",
   "metadata": {},
   "source": [
    "**Q20:** Take a look at the 3 dataframes."
   ]
  },
  {
   "cell_type": "code",
   "execution_count": 10,
   "metadata": {},
   "outputs": [
    {
     "data": {
      "text/html": [
       "<div>\n",
       "<style scoped>\n",
       "    .dataframe tbody tr th:only-of-type {\n",
       "        vertical-align: middle;\n",
       "    }\n",
       "\n",
       "    .dataframe tbody tr th {\n",
       "        vertical-align: top;\n",
       "    }\n",
       "\n",
       "    .dataframe thead th {\n",
       "        text-align: right;\n",
       "    }\n",
       "</style>\n",
       "<table border=\"1\" class=\"dataframe\">\n",
       "  <thead>\n",
       "    <tr style=\"text-align: right;\">\n",
       "      <th></th>\n",
       "      <th>start_node</th>\n",
       "      <th>end_node</th>\n",
       "      <th>start_time</th>\n",
       "      <th>trip_time</th>\n",
       "      <th>passenger_count</th>\n",
       "      <th>trip_distance</th>\n",
       "      <th>revenue</th>\n",
       "    </tr>\n",
       "  </thead>\n",
       "  <tbody>\n",
       "    <tr>\n",
       "      <th>0</th>\n",
       "      <td>333</td>\n",
       "      <td>692</td>\n",
       "      <td>0</td>\n",
       "      <td>6</td>\n",
       "      <td>5</td>\n",
       "      <td>2.204796</td>\n",
       "      <td>8.94</td>\n",
       "    </tr>\n",
       "    <tr>\n",
       "      <th>1</th>\n",
       "      <td>1802</td>\n",
       "      <td>110</td>\n",
       "      <td>0</td>\n",
       "      <td>7</td>\n",
       "      <td>1</td>\n",
       "      <td>1.738087</td>\n",
       "      <td>8.71</td>\n",
       "    </tr>\n",
       "    <tr>\n",
       "      <th>2</th>\n",
       "      <td>1769</td>\n",
       "      <td>77</td>\n",
       "      <td>0</td>\n",
       "      <td>9</td>\n",
       "      <td>1</td>\n",
       "      <td>5.262542</td>\n",
       "      <td>15.21</td>\n",
       "    </tr>\n",
       "    <tr>\n",
       "      <th>3</th>\n",
       "      <td>526</td>\n",
       "      <td>2573</td>\n",
       "      <td>0</td>\n",
       "      <td>18</td>\n",
       "      <td>5</td>\n",
       "      <td>2.687598</td>\n",
       "      <td>15.69</td>\n",
       "    </tr>\n",
       "    <tr>\n",
       "      <th>4</th>\n",
       "      <td>148</td>\n",
       "      <td>2662</td>\n",
       "      <td>0</td>\n",
       "      <td>32</td>\n",
       "      <td>5</td>\n",
       "      <td>13.067841</td>\n",
       "      <td>38.89</td>\n",
       "    </tr>\n",
       "  </tbody>\n",
       "</table>\n",
       "</div>"
      ],
      "text/plain": [
       "   start_node  end_node  start_time  trip_time  passenger_count  \\\n",
       "0         333       692           0          6                5   \n",
       "1        1802       110           0          7                1   \n",
       "2        1769        77           0          9                1   \n",
       "3         526      2573           0         18                5   \n",
       "4         148      2662           0         32                5   \n",
       "\n",
       "   trip_distance  revenue  \n",
       "0       2.204796     8.94  \n",
       "1       1.738087     8.71  \n",
       "2       5.262542    15.21  \n",
       "3       2.687598    15.69  \n",
       "4      13.067841    38.89  "
      ]
     },
     "execution_count": 10,
     "metadata": {},
     "output_type": "execute_result"
    }
   ],
   "source": [
    "trips_df.head()"
   ]
  },
  {
   "cell_type": "code",
   "execution_count": 11,
   "metadata": {},
   "outputs": [
    {
     "data": {
      "text/html": [
       "<div>\n",
       "<style scoped>\n",
       "    .dataframe tbody tr th:only-of-type {\n",
       "        vertical-align: middle;\n",
       "    }\n",
       "\n",
       "    .dataframe tbody tr th {\n",
       "        vertical-align: top;\n",
       "    }\n",
       "\n",
       "    .dataframe thead th {\n",
       "        text-align: right;\n",
       "    }\n",
       "</style>\n",
       "<table border=\"1\" class=\"dataframe\">\n",
       "  <thead>\n",
       "    <tr style=\"text-align: right;\">\n",
       "      <th></th>\n",
       "      <th>name</th>\n",
       "      <th>lon</th>\n",
       "      <th>lat</th>\n",
       "      <th>x</th>\n",
       "      <th>y</th>\n",
       "    </tr>\n",
       "  </thead>\n",
       "  <tbody>\n",
       "    <tr>\n",
       "      <th>0</th>\n",
       "      <td>0</td>\n",
       "      <td>-74.003837</td>\n",
       "      <td>40.710545</td>\n",
       "      <td>-8.238069e+06</td>\n",
       "      <td>4.969740e+06</td>\n",
       "    </tr>\n",
       "    <tr>\n",
       "      <th>1</th>\n",
       "      <td>1</td>\n",
       "      <td>-73.969571</td>\n",
       "      <td>40.749594</td>\n",
       "      <td>-8.234255e+06</td>\n",
       "      <td>4.975477e+06</td>\n",
       "    </tr>\n",
       "    <tr>\n",
       "      <th>2</th>\n",
       "      <td>2</td>\n",
       "      <td>-73.964442</td>\n",
       "      <td>40.753157</td>\n",
       "      <td>-8.233684e+06</td>\n",
       "      <td>4.976000e+06</td>\n",
       "    </tr>\n",
       "    <tr>\n",
       "      <th>3</th>\n",
       "      <td>3</td>\n",
       "      <td>-74.012328</td>\n",
       "      <td>40.713941</td>\n",
       "      <td>-8.239015e+06</td>\n",
       "      <td>4.970239e+06</td>\n",
       "    </tr>\n",
       "    <tr>\n",
       "      <th>4</th>\n",
       "      <td>4</td>\n",
       "      <td>-74.008254</td>\n",
       "      <td>40.736961</td>\n",
       "      <td>-8.238561e+06</td>\n",
       "      <td>4.973621e+06</td>\n",
       "    </tr>\n",
       "  </tbody>\n",
       "</table>\n",
       "</div>"
      ],
      "text/plain": [
       "   name        lon        lat             x             y\n",
       "0     0 -74.003837  40.710545 -8.238069e+06  4.969740e+06\n",
       "1     1 -73.969571  40.749594 -8.234255e+06  4.975477e+06\n",
       "2     2 -73.964442  40.753157 -8.233684e+06  4.976000e+06\n",
       "3     3 -74.012328  40.713941 -8.239015e+06  4.970239e+06\n",
       "4     4 -74.008254  40.736961 -8.238561e+06  4.973621e+06"
      ]
     },
     "execution_count": 11,
     "metadata": {},
     "output_type": "execute_result"
    }
   ],
   "source": [
    "nodes_df.head()"
   ]
  },
  {
   "cell_type": "code",
   "execution_count": 12,
   "metadata": {
    "scrolled": true
   },
   "outputs": [
    {
     "data": {
      "text/html": [
       "<div>\n",
       "<style scoped>\n",
       "    .dataframe tbody tr th:only-of-type {\n",
       "        vertical-align: middle;\n",
       "    }\n",
       "\n",
       "    .dataframe tbody tr th {\n",
       "        vertical-align: top;\n",
       "    }\n",
       "\n",
       "    .dataframe thead th {\n",
       "        text-align: right;\n",
       "    }\n",
       "</style>\n",
       "<table border=\"1\" class=\"dataframe\">\n",
       "  <thead>\n",
       "    <tr style=\"text-align: right;\">\n",
       "      <th></th>\n",
       "      <th>start</th>\n",
       "      <th>end</th>\n",
       "      <th>street_name</th>\n",
       "      <th>trip_time</th>\n",
       "    </tr>\n",
       "  </thead>\n",
       "  <tbody>\n",
       "    <tr>\n",
       "      <th>0</th>\n",
       "      <td>598</td>\n",
       "      <td>597</td>\n",
       "      <td>MadisonAvenue</td>\n",
       "      <td>1</td>\n",
       "    </tr>\n",
       "    <tr>\n",
       "      <th>1</th>\n",
       "      <td>103</td>\n",
       "      <td>597</td>\n",
       "      <td>East60thStreet</td>\n",
       "      <td>1</td>\n",
       "    </tr>\n",
       "    <tr>\n",
       "      <th>2</th>\n",
       "      <td>599</td>\n",
       "      <td>598</td>\n",
       "      <td>MadisonAvenue</td>\n",
       "      <td>1</td>\n",
       "    </tr>\n",
       "    <tr>\n",
       "      <th>3</th>\n",
       "      <td>1152</td>\n",
       "      <td>598</td>\n",
       "      <td>East59thStreet</td>\n",
       "      <td>1</td>\n",
       "    </tr>\n",
       "    <tr>\n",
       "      <th>4</th>\n",
       "      <td>601</td>\n",
       "      <td>600</td>\n",
       "      <td>MadisonAvenue</td>\n",
       "      <td>1</td>\n",
       "    </tr>\n",
       "  </tbody>\n",
       "</table>\n",
       "</div>"
      ],
      "text/plain": [
       "   start  end     street_name  trip_time\n",
       "0    598  597   MadisonAvenue          1\n",
       "1    103  597  East60thStreet          1\n",
       "2    599  598   MadisonAvenue          1\n",
       "3   1152  598  East59thStreet          1\n",
       "4    601  600   MadisonAvenue          1"
      ]
     },
     "execution_count": 12,
     "metadata": {},
     "output_type": "execute_result"
    }
   ],
   "source": [
    "arcs_df.head()"
   ]
  },
  {
   "cell_type": "markdown",
   "metadata": {},
   "source": [
    "**Q21:** The `trips_df` dataframe has a list of trips but is missing a field for value. If we want to create a taxi schedule maximizing revenue, what should be the value for each trip?\n",
    "\n",
    "**A:** <font color='blue'> The value of each trip should be the revenue that trip generates.</font>"
   ]
  },
  {
   "cell_type": "markdown",
   "metadata": {},
   "source": [
    "**Q22:** The following code creates a feild in `trips_df` called `value` and sets it equal to another field in the dataframe. Fill in the missing field name based on your answer to Q21 then run the next line to make sure the field was added properly."
   ]
  },
  {
   "cell_type": "code",
   "execution_count": 13,
   "metadata": {},
   "outputs": [],
   "source": [
    "#trips_df['value'] = trips_df['FIELD']  # replace FIELD\n",
    "\n",
    "# SOLUTION\n",
    "trips_df['value'] = trips_df['revenue']"
   ]
  },
  {
   "cell_type": "code",
   "execution_count": 14,
   "metadata": {},
   "outputs": [
    {
     "data": {
      "text/html": [
       "<div>\n",
       "<style scoped>\n",
       "    .dataframe tbody tr th:only-of-type {\n",
       "        vertical-align: middle;\n",
       "    }\n",
       "\n",
       "    .dataframe tbody tr th {\n",
       "        vertical-align: top;\n",
       "    }\n",
       "\n",
       "    .dataframe thead th {\n",
       "        text-align: right;\n",
       "    }\n",
       "</style>\n",
       "<table border=\"1\" class=\"dataframe\">\n",
       "  <thead>\n",
       "    <tr style=\"text-align: right;\">\n",
       "      <th></th>\n",
       "      <th>start_node</th>\n",
       "      <th>end_node</th>\n",
       "      <th>start_time</th>\n",
       "      <th>trip_time</th>\n",
       "      <th>passenger_count</th>\n",
       "      <th>trip_distance</th>\n",
       "      <th>revenue</th>\n",
       "      <th>value</th>\n",
       "    </tr>\n",
       "  </thead>\n",
       "  <tbody>\n",
       "    <tr>\n",
       "      <th>0</th>\n",
       "      <td>333</td>\n",
       "      <td>692</td>\n",
       "      <td>0</td>\n",
       "      <td>6</td>\n",
       "      <td>5</td>\n",
       "      <td>2.204796</td>\n",
       "      <td>8.94</td>\n",
       "      <td>8.94</td>\n",
       "    </tr>\n",
       "    <tr>\n",
       "      <th>1</th>\n",
       "      <td>1802</td>\n",
       "      <td>110</td>\n",
       "      <td>0</td>\n",
       "      <td>7</td>\n",
       "      <td>1</td>\n",
       "      <td>1.738087</td>\n",
       "      <td>8.71</td>\n",
       "      <td>8.71</td>\n",
       "    </tr>\n",
       "    <tr>\n",
       "      <th>2</th>\n",
       "      <td>1769</td>\n",
       "      <td>77</td>\n",
       "      <td>0</td>\n",
       "      <td>9</td>\n",
       "      <td>1</td>\n",
       "      <td>5.262542</td>\n",
       "      <td>15.21</td>\n",
       "      <td>15.21</td>\n",
       "    </tr>\n",
       "    <tr>\n",
       "      <th>3</th>\n",
       "      <td>526</td>\n",
       "      <td>2573</td>\n",
       "      <td>0</td>\n",
       "      <td>18</td>\n",
       "      <td>5</td>\n",
       "      <td>2.687598</td>\n",
       "      <td>15.69</td>\n",
       "      <td>15.69</td>\n",
       "    </tr>\n",
       "    <tr>\n",
       "      <th>4</th>\n",
       "      <td>148</td>\n",
       "      <td>2662</td>\n",
       "      <td>0</td>\n",
       "      <td>32</td>\n",
       "      <td>5</td>\n",
       "      <td>13.067841</td>\n",
       "      <td>38.89</td>\n",
       "      <td>38.89</td>\n",
       "    </tr>\n",
       "  </tbody>\n",
       "</table>\n",
       "</div>"
      ],
      "text/plain": [
       "   start_node  end_node  start_time  trip_time  passenger_count  \\\n",
       "0         333       692           0          6                5   \n",
       "1        1802       110           0          7                1   \n",
       "2        1769        77           0          9                1   \n",
       "3         526      2573           0         18                5   \n",
       "4         148      2662           0         32                5   \n",
       "\n",
       "   trip_distance  revenue  value  \n",
       "0       2.204796     8.94   8.94  \n",
       "1       1.738087     8.71   8.71  \n",
       "2       5.262542    15.21  15.21  \n",
       "3       2.687598    15.69  15.69  \n",
       "4      13.067841    38.89  38.89  "
      ]
     },
     "execution_count": 14,
     "metadata": {},
     "output_type": "execute_result"
    }
   ],
   "source": [
    "trips_df.head()"
   ]
  },
  {
   "cell_type": "markdown",
   "metadata": {},
   "source": [
    "We can now pass this input to the TaxiRouting solver! In `trips_df`, the `start_time` field is given in minutes since midnight. Let's first look at the time window of 5:00 PM to 5:15 PM. This corresponds to 1020 to 1035. Furthermore, we will have 500 taxis on the road."
   ]
  },
  {
   "cell_type": "code",
   "execution_count": 15,
   "metadata": {},
   "outputs": [],
   "source": [
    "nyc_taxi = TaxiRouting(trips_df, nodes_df, arcs_df, 1020, 1035, 500)"
   ]
  },
  {
   "cell_type": "markdown",
   "metadata": {},
   "source": [
    "Now let's solve it and print some statistics about the solution."
   ]
  },
  {
   "cell_type": "code",
   "execution_count": 16,
   "metadata": {
    "scrolled": false
   },
   "outputs": [
    {
     "name": "stdout",
     "output_type": "stream",
     "text": [
      "Summary Statistics\n",
      "Avg. Moving Pct.:  0.83\n",
      "Avg. On Trip Pct.:  0.61\n",
      "Avg. Total Distance of Trips:  3.16\n",
      "Avg. Revenue:  12.64\n",
      "Total Trips:  628 ( 0.79 )\n",
      "Total Passengers:  1182 ( 0.78 )\n",
      "Total Revenue:  6319.47 ( 0.86 )\n"
     ]
    }
   ],
   "source": [
    "nyc_taxi.optimize()\n",
    "nyc_taxi.get_stats()"
   ]
  },
  {
   "cell_type": "markdown",
   "metadata": {},
   "source": [
    "It turns out 500 taxis was not enough to get all the requested rides in this time period. The percent of potential trips, passengers, and revenue that were acheived are given in the parentheses following the corresponding statisitc (ex. there were 792 trips that could have been taken but only 628 or 79% were). \n",
    "\n",
    "Furthermoe, here is a quick description of each statisitcic:\n",
    "\n",
    "* **Average Moving Percentage:** The moving percentage for a taxi is the percent of time intervals the taxi is moving from one location to another (it may or may not have a passenger). This is the average moving percentage across all taxis.\n",
    "* **Average On Trip Percentage:** The on trip percentage for a taxi is the percent of time intervals the taxi has a passenger. This is the average on trip percentage across all taxis.\n",
    "* **Average Total Distance of Trips:** The total distance travelled during trips is computed for each taxi and them averaged.\n",
    "* **Average Revenue:** Average revenue collected per taxi cab.\n",
    "* **Total Trips:** Total number of trips the taxi routing schedule could accommodate.\n",
    "* **Total Passengers:** Total number of passengers the taxi routing schedule could accommodate.\n",
    "* **Total Revenue:** Total revenue generated from the taxi routing schedule."
   ]
  },
  {
   "cell_type": "markdown",
   "metadata": {},
   "source": [
    "To look at the statistics for an indiviual taxi, we use the following command where the index is the id of the taxi."
   ]
  },
  {
   "cell_type": "code",
   "execution_count": 17,
   "metadata": {},
   "outputs": [
    {
     "data": {
      "text/plain": [
       "{'moving_pct': 0.9333333333333333,\n",
       " 'on_trip_pct': 0.4666666666666667,\n",
       " 'num_trips': 1,\n",
       " 'total_trip_distance': 2.0760486,\n",
       " 'total_passengers': 1,\n",
       " 'revenue': 9.24}"
      ]
     },
     "execution_count": 17,
     "metadata": {},
     "output_type": "execute_result"
    }
   ],
   "source": [
    "nyc_taxi.taxi_stats[12]"
   ]
  },
  {
   "cell_type": "markdown",
   "metadata": {},
   "source": [
    "We can also plot the path of a set of taxis! The path of each taxi is color-coded. The circle represents its start location and the lower opacity edges indicate the taxi has a passenger."
   ]
  },
  {
   "cell_type": "code",
   "execution_count": 18,
   "metadata": {
    "scrolled": false
   },
   "outputs": [
    {
     "data": {
      "text/html": [
       "\n",
       "\n",
       "\n",
       "\n",
       "\n",
       "\n",
       "  <div class=\"bk-root\" id=\"60171907-2675-4f42-9efa-0231a1bdf4b9\" data-root-id=\"1002\"></div>\n"
      ]
     },
     "metadata": {},
     "output_type": "display_data"
    },
    {
     "data": {
      "application/javascript": [
       "(function(root) {\n",
       "  function embed_document(root) {\n",
       "    \n",
       "  var docs_json = {\"26f3f65b-25d1-4902-88a6-c3514de449e1\":{\"roots\":{\"references\":[{\"attributes\":{\"below\":[{\"id\":\"1013\"}],\"center\":[{\"id\":\"1020\"},{\"id\":\"1028\"}],\"left\":[{\"id\":\"1021\"}],\"plot_height\":470,\"renderers\":[{\"id\":\"1044\"},{\"id\":\"1046\"}],\"title\":{\"id\":\"1003\"},\"toolbar\":{\"id\":\"1036\"},\"x_range\":{\"id\":\"1005\"},\"x_scale\":{\"id\":\"1009\"},\"y_range\":{\"id\":\"1007\"},\"y_scale\":{\"id\":\"1011\"}},\"id\":\"1002\",\"subtype\":\"Figure\",\"type\":\"Plot\"},{\"attributes\":{},\"id\":\"1080\",\"type\":\"NodesOnly\"},{\"attributes\":{\"data_source\":{\"id\":\"1048\"},\"glyph\":{\"id\":\"1055\"},\"hover_glyph\":null,\"muted_glyph\":null,\"view\":{\"id\":\"1050\"}},\"id\":\"1049\",\"type\":\"GlyphRenderer\"},{\"attributes\":{},\"id\":\"1086\",\"type\":\"UnionRenderers\"},{\"attributes\":{},\"id\":\"1088\",\"type\":\"UnionRenderers\"},{\"attributes\":{\"data_source\":{\"id\":\"1061\"},\"glyph\":{\"id\":\"1064\"},\"hover_glyph\":null,\"muted_glyph\":null,\"view\":{\"id\":\"1063\"}},\"id\":\"1062\",\"type\":\"GlyphRenderer\"},{\"attributes\":{\"attribution\":\"&copy; <a href=\\\"https://www.openstreetmap.org/copyright\\\">OpenStreetMap</a> contributors,&copy; <a href=\\\"https://cartodb.com/attributions\\\">CartoDB</a>\",\"url\":\"https://tiles.basemaps.cartocdn.com/light_all/{z}/{x}/{y}@2x.png\"},\"id\":\"1043\",\"type\":\"WMTSTileSource\"},{\"attributes\":{\"source\":{\"id\":\"1061\"}},\"id\":\"1063\",\"type\":\"CDSView\"},{\"attributes\":{\"dimension\":\"lat\"},\"id\":\"1022\",\"type\":\"MercatorTicker\"},{\"attributes\":{\"dimension\":\"lon\"},\"id\":\"1016\",\"type\":\"MercatorTickFormatter\"},{\"attributes\":{\"end\":4972919.567528397,\"start\":4968419.1091165},\"id\":\"1007\",\"type\":\"Range1d\"},{\"attributes\":{\"axis\":{\"id\":\"1021\"},\"dimension\":1,\"ticker\":null},\"id\":\"1028\",\"type\":\"Grid\"},{\"attributes\":{\"dimension\":\"lon\"},\"id\":\"1014\",\"type\":\"MercatorTicker\"},{\"attributes\":{\"dimension\":\"lat\"},\"id\":\"1024\",\"type\":\"MercatorTickFormatter\"},{\"attributes\":{\"overlay\":{\"id\":\"1035\"}},\"id\":\"1031\",\"type\":\"BoxZoomTool\"},{\"attributes\":{\"bottom_units\":\"screen\",\"fill_alpha\":0.5,\"fill_color\":\"lightgrey\",\"left_units\":\"screen\",\"level\":\"overlay\",\"line_alpha\":1.0,\"line_color\":\"black\",\"line_dash\":[4,4],\"line_width\":2,\"right_units\":\"screen\",\"top_units\":\"screen\"},\"id\":\"1035\",\"type\":\"BoxAnnotation\"},{\"attributes\":{\"end\":-8236569.404435772,\"start\":-8239494.191105541},\"id\":\"1005\",\"type\":\"Range1d\"},{\"attributes\":{\"source\":{\"id\":\"1048\"}},\"id\":\"1050\",\"type\":\"CDSView\"},{\"attributes\":{\"edge_renderer\":{\"id\":\"1062\"},\"inspection_policy\":{\"id\":\"1080\"},\"layout_provider\":{\"id\":\"1069\"},\"node_renderer\":{\"id\":\"1049\"},\"selection_policy\":{\"id\":\"1071\"}},\"id\":\"1046\",\"type\":\"GraphRenderer\"},{\"attributes\":{\"line_alpha\":{\"field\":\"alpha\"},\"line_cap\":\"round\",\"line_color\":{\"field\":\"color\"},\"line_width\":{\"value\":3}},\"id\":\"1064\",\"type\":\"MultiLine\"},{\"attributes\":{},\"id\":\"1071\",\"type\":\"NodesOnly\"},{\"attributes\":{\"formatter\":{\"id\":\"1024\"},\"ticker\":{\"id\":\"1022\"}},\"id\":\"1021\",\"type\":\"MercatorAxis\"},{\"attributes\":{},\"id\":\"1034\",\"type\":\"HelpTool\"},{\"attributes\":{\"fill_color\":{\"field\":\"start_colors\"},\"line_width\":{\"value\":0},\"size\":{\"units\":\"screen\",\"value\":7}},\"id\":\"1055\",\"type\":\"Circle\"},{\"attributes\":{},\"id\":\"1009\",\"type\":\"LinearScale\"},{\"attributes\":{\"text\":\"Taxi Routes\"},\"id\":\"1003\",\"type\":\"Title\"},{\"attributes\":{},\"id\":\"1089\",\"type\":\"Selection\"},{\"attributes\":{\"axis\":{\"id\":\"1013\"},\"ticker\":null},\"id\":\"1020\",\"type\":\"Grid\"},{\"attributes\":{\"tile_source\":{\"id\":\"1043\"}},\"id\":\"1044\",\"type\":\"TileRenderer\"},{\"attributes\":{},\"id\":\"1030\",\"type\":\"WheelZoomTool\"},{\"attributes\":{\"data\":{\"alpha\":[1,1,1,1,1,1,0.3,1,1],\"color\":[\"#1f77b4\",\"#1f77b4\",\"#1f77b4\",\"#1f77b4\",\"#1f77b4\",\"#1f77b4\",\"#1f77b4\",\"#1f77b4\",\"#1f77b4\"],\"end\":[2005,2006,2191,2192,249,2007,2581,1145,1145],\"start\":[52,2005,2006,2191,2192,249,2007,2581,1145]},\"selected\":{\"id\":\"1087\"},\"selection_policy\":{\"id\":\"1086\"}},\"id\":\"1061\",\"type\":\"ColumnDataSource\"},{\"attributes\":{},\"id\":\"1011\",\"type\":\"LinearScale\"},{\"attributes\":{\"data\":{\"index\":[52],\"start_colors\":[\"#1f77b4\"]},\"selected\":{\"id\":\"1089\"},\"selection_policy\":{\"id\":\"1088\"}},\"id\":\"1048\",\"type\":\"ColumnDataSource\"},{\"attributes\":{},\"id\":\"1033\",\"type\":\"ResetTool\"},{\"attributes\":{\"active_drag\":\"auto\",\"active_inspect\":\"auto\",\"active_multi\":null,\"active_scroll\":\"auto\",\"active_tap\":\"auto\",\"tools\":[{\"id\":\"1029\"},{\"id\":\"1030\"},{\"id\":\"1031\"},{\"id\":\"1032\"},{\"id\":\"1033\"},{\"id\":\"1034\"}]},\"id\":\"1036\",\"type\":\"Toolbar\"},{\"attributes\":{\"formatter\":{\"id\":\"1016\"},\"ticker\":{\"id\":\"1014\"}},\"id\":\"1013\",\"type\":\"MercatorAxis\"},{\"attributes\":{},\"id\":\"1032\",\"type\":\"SaveTool\"},{\"attributes\":{},\"id\":\"1087\",\"type\":\"Selection\"},{\"attributes\":{},\"id\":\"1029\",\"type\":\"PanTool\"},{\"attributes\":{\"graph_layout\":{\"1145\":[-8238455.040040627,4969472.8276851885],\"2005\":[-8237653.561970815,4971919.567528397],\"2006\":[-8237767.775768368,4971740.951589963],\"2007\":[-8237973.048909391,4971422.065623104],\"2191\":[-8237884.327275229,4971559.401233695],\"2192\":[-8237974.273423787,4971614.9235575935],\"249\":[-8238061.770543554,4971479.2028780775],\"2581\":[-8238494.191105541,4969419.1091165],\"52\":[-8237569.404435772,4971864.631028775]}},\"id\":\"1069\",\"type\":\"StaticLayoutProvider\"}],\"root_ids\":[\"1002\"]},\"title\":\"Bokeh Application\",\"version\":\"2.1.0\"}};\n",
       "  var render_items = [{\"docid\":\"26f3f65b-25d1-4902-88a6-c3514de449e1\",\"root_ids\":[\"1002\"],\"roots\":{\"1002\":\"60171907-2675-4f42-9efa-0231a1bdf4b9\"}}];\n",
       "  root.Bokeh.embed.embed_items_notebook(docs_json, render_items);\n",
       "\n",
       "  }\n",
       "  if (root.Bokeh !== undefined) {\n",
       "    embed_document(root);\n",
       "  } else {\n",
       "    var attempts = 0;\n",
       "    var timer = setInterval(function(root) {\n",
       "      if (root.Bokeh !== undefined) {\n",
       "        clearInterval(timer);\n",
       "        embed_document(root);\n",
       "      } else {\n",
       "        attempts++;\n",
       "        if (attempts > 100) {\n",
       "          clearInterval(timer);\n",
       "          console.log(\"Bokeh: ERROR: Unable to run BokehJS code because BokehJS library is missing\");\n",
       "        }\n",
       "      }\n",
       "    }, 10, root)\n",
       "  }\n",
       "})(window);"
      ],
      "application/vnd.bokehjs_exec.v0+json": ""
     },
     "metadata": {
      "application/vnd.bokehjs_exec.v0+json": {
       "id": "1002"
      }
     },
     "output_type": "display_data"
    }
   ],
   "source": [
    "nyc_taxi.plot_taxi_route([12])"
   ]
  },
  {
   "cell_type": "markdown",
   "metadata": {},
   "source": [
    "**Q23:** What if we wanted to maximize the number of passengers we accommodated instead of maximizing revenue? How would we change the value? Adjust the value field accordingly."
   ]
  },
  {
   "cell_type": "code",
   "execution_count": 19,
   "metadata": {},
   "outputs": [],
   "source": [
    "# trips_df['value'] = # FINISH THIS\n",
    "\n",
    "#SOLUTION\n",
    "trips_df['value'] = trips_df['passenger_count']"
   ]
  },
  {
   "cell_type": "markdown",
   "metadata": {},
   "source": [
    "**Q24:** What was the total revenue generared in the previous solution where we tried to maximize revenue. How many passengers were accommodated? Before re-solving with a new objective, what do you know already know about the these values in the new solution? (Hint: How can you bound these values?)\n",
    "\n",
    "**A:** <font color='blue'> The revenue was 6319.47 and the number of accommodated passengers was 1182. In the new solution, the revenue must be $\\leq 6319.47$ and the number of passengers must be $\\geq 1182$. </font>"
   ]
  },
  {
   "cell_type": "code",
   "execution_count": 20,
   "metadata": {},
   "outputs": [
    {
     "name": "stdout",
     "output_type": "stream",
     "text": [
      "Summary Statistics\n",
      "Avg. Moving Pct.:  0.84\n",
      "Avg. On Trip Pct.:  0.5\n",
      "Avg. Total Distance of Trips:  2.62\n",
      "Avg. Revenue:  10.96\n",
      "Total Trips:  628 ( 0.79 )\n",
      "Total Passengers:  1345 ( 0.89 )\n",
      "Total Revenue:  5482.12 ( 0.74 )\n"
     ]
    }
   ],
   "source": [
    "nyc_taxi = TaxiRouting(trips_df, nodes_df, arcs_df, 1020, 1035, 500)\n",
    "nyc_taxi.optimize()\n",
    "nyc_taxi.get_stats()"
   ]
  },
  {
   "cell_type": "markdown",
   "metadata": {},
   "source": [
    "**Q25:** On average, what was the total distance a taxi drove on a trip in the previous solution (maximizing revenue). What about the new solution (maximizing passengers)? How do these values compare? Why might this be?\n",
    "\n",
    "**A:** <font color='blue'> Before, it was 3.16. Now, it is 2.62. It is much less in this solution. It looks like most taxis will only make one ride in this 15 minute time span. The longer the ride, the higher the revenue will be. Since revenue and trip distance are correlated, the trip distance will naturally be pretty high when we maximize revenue. However, the trip distance is not correlated with number of passengers so it is not weighted in the objective function. This leads to a lower value in the new solution.</font>"
   ]
  },
  {
   "cell_type": "markdown",
   "metadata": {},
   "source": [
    "**Q26:** Lastly, what if we wanted to maximize the number of trips. How would we change the value? Adjust the value field accordingly."
   ]
  },
  {
   "cell_type": "code",
   "execution_count": 21,
   "metadata": {},
   "outputs": [],
   "source": [
    "# trips_df['value'] = # FINISH THIS\n",
    "\n",
    "#SOLUTION\n",
    "trips_df['value'] = 1"
   ]
  },
  {
   "cell_type": "code",
   "execution_count": 22,
   "metadata": {},
   "outputs": [
    {
     "name": "stdout",
     "output_type": "stream",
     "text": [
      "Summary Statistics\n",
      "Avg. Moving Pct.:  0.85\n",
      "Avg. On Trip Pct.:  0.5\n",
      "Avg. Total Distance of Trips:  2.6\n",
      "Avg. Revenue:  10.97\n",
      "Total Trips:  628 ( 0.79 )\n",
      "Total Passengers:  1187 ( 0.79 )\n",
      "Total Revenue:  5483.29 ( 0.74 )\n"
     ]
    }
   ],
   "source": [
    "nyc_taxi = TaxiRouting(trips_df, nodes_df, arcs_df, 1020, 1035, 500)\n",
    "nyc_taxi.optimize()\n",
    "nyc_taxi.get_stats()"
   ]
  },
  {
   "cell_type": "markdown",
   "metadata": {},
   "source": [
    "To finish, let's look over a wider time horizon. Since we were only looking at a 15 minute interval before, each taxi only had 1 ride on average. This is more of an assignment problem of taxis to rides and does not capture the full complexity of a schedule with taxis striningly together multiple rides. Let's look at 5:00 PM to 6:30 PM with 1500 taxis now. We will return to our revenue maximizing objective."
   ]
  },
  {
   "cell_type": "markdown",
   "metadata": {},
   "source": [
    "Run the cell below to compute the taxi schedule. (Note, this takes a bit (about 2 minutes). The corresponding min-cost flow formulation has 278,735 nodes and 855,945 edges!)"
   ]
  },
  {
   "cell_type": "code",
   "execution_count": 23,
   "metadata": {},
   "outputs": [
    {
     "name": "stdout",
     "output_type": "stream",
     "text": [
      "Summary Statistics\n",
      "Avg. Moving Pct.:  0.88\n",
      "Avg. On Trip Pct.:  0.65\n",
      "Avg. Total Distance of Trips:  19.06\n",
      "Avg. Revenue:  73.6\n",
      "Total Trips:  8806 ( 0.91 )\n",
      "Total Passengers:  16210 ( 0.91 )\n",
      "Total Revenue:  110395.53 ( 0.93 )\n"
     ]
    }
   ],
   "source": [
    "trips_df['value'] = trips_df['revenue']\n",
    "nyc_taxi = TaxiRouting(trips_df, nodes_df, arcs_df, 1020, 1110, 1500)\n",
    "nyc_taxi.optimize()\n",
    "nyc_taxi.get_stats()"
   ]
  },
  {
   "cell_type": "markdown",
   "metadata": {},
   "source": [
    "**Q27:** How many rides does each taxi make on average?\n",
    "\n",
    "**A:** <font color='blue'> There are 1500 taxis and 8806 rides made so 5.87 $\\approx$ 6 rides per taxi</font>"
   ]
  },
  {
   "cell_type": "markdown",
   "metadata": {},
   "source": [
    "Let's look at a few random taxi paths in this solution."
   ]
  },
  {
   "cell_type": "code",
   "execution_count": 24,
   "metadata": {},
   "outputs": [
    {
     "data": {
      "text/html": [
       "\n",
       "\n",
       "\n",
       "\n",
       "\n",
       "\n",
       "  <div class=\"bk-root\" id=\"ba001664-2d1e-4209-bc8f-446ff8237a78\" data-root-id=\"1222\"></div>\n"
      ]
     },
     "metadata": {},
     "output_type": "display_data"
    },
    {
     "data": {
      "application/javascript": [
       "(function(root) {\n",
       "  function embed_document(root) {\n",
       "    \n",
       "  var docs_json = {\"17719eec-488a-4317-b02b-f20dcf7113e8\":{\"roots\":{\"references\":[{\"attributes\":{\"below\":[{\"id\":\"1233\"}],\"center\":[{\"id\":\"1240\"},{\"id\":\"1248\"}],\"left\":[{\"id\":\"1241\"}],\"plot_height\":470,\"renderers\":[{\"id\":\"1264\"},{\"id\":\"1266\"}],\"title\":{\"id\":\"1223\"},\"toolbar\":{\"id\":\"1256\"},\"x_range\":{\"id\":\"1225\"},\"x_scale\":{\"id\":\"1229\"},\"y_range\":{\"id\":\"1227\"},\"y_scale\":{\"id\":\"1231\"}},\"id\":\"1222\",\"subtype\":\"Figure\",\"type\":\"Plot\"},{\"attributes\":{\"formatter\":{\"id\":\"1236\"},\"ticker\":{\"id\":\"1234\"}},\"id\":\"1233\",\"type\":\"MercatorAxis\"},{\"attributes\":{\"axis\":{\"id\":\"1241\"},\"dimension\":1,\"ticker\":null},\"id\":\"1248\",\"type\":\"Grid\"},{\"attributes\":{},\"id\":\"1320\",\"type\":\"NodesOnly\"},{\"attributes\":{\"data_source\":{\"id\":\"1268\"},\"glyph\":{\"id\":\"1275\"},\"hover_glyph\":null,\"muted_glyph\":null,\"view\":{\"id\":\"1270\"}},\"id\":\"1269\",\"type\":\"GlyphRenderer\"},{\"attributes\":{\"dimension\":\"lat\"},\"id\":\"1242\",\"type\":\"MercatorTicker\"},{\"attributes\":{\"source\":{\"id\":\"1281\"}},\"id\":\"1283\",\"type\":\"CDSView\"},{\"attributes\":{\"text\":\"Taxi Routes\"},\"id\":\"1223\",\"type\":\"Title\"},{\"attributes\":{\"data\":{\"index\":[554,725,586],\"start_colors\":[\"#1f77b4\",\"#ff7f0e\",\"#2ca02c\"]},\"selected\":{\"id\":\"1329\"},\"selection_policy\":{\"id\":\"1328\"}},\"id\":\"1268\",\"type\":\"ColumnDataSource\"},{\"attributes\":{\"end\":4981825.536588436,\"start\":4969309.5567176435},\"id\":\"1227\",\"type\":\"Range1d\"},{\"attributes\":{\"tile_source\":{\"id\":\"1263\"}},\"id\":\"1264\",\"type\":\"TileRenderer\"},{\"attributes\":{\"dimension\":\"lat\"},\"id\":\"1244\",\"type\":\"MercatorTickFormatter\"},{\"attributes\":{\"data_source\":{\"id\":\"1281\"},\"glyph\":{\"id\":\"1284\"},\"hover_glyph\":null,\"muted_glyph\":null,\"view\":{\"id\":\"1283\"}},\"id\":\"1282\",\"type\":\"GlyphRenderer\"},{\"attributes\":{\"edge_renderer\":{\"id\":\"1282\"},\"inspection_policy\":{\"id\":\"1320\"},\"layout_provider\":{\"id\":\"1289\"},\"node_renderer\":{\"id\":\"1269\"},\"selection_policy\":{\"id\":\"1311\"}},\"id\":\"1266\",\"type\":\"GraphRenderer\"},{\"attributes\":{\"fill_color\":{\"field\":\"start_colors\"},\"line_width\":{\"value\":0},\"size\":{\"units\":\"screen\",\"value\":7}},\"id\":\"1275\",\"type\":\"Circle\"},{\"attributes\":{\"end\":-8231695.825996897,\"start\":-8239545.899009013},\"id\":\"1225\",\"type\":\"Range1d\"},{\"attributes\":{},\"id\":\"1329\",\"type\":\"Selection\"},{\"attributes\":{\"graph_layout\":{\"1021\":[-8238285.85667852,4971962.459341648],\"1198\":[-8236244.925134318,4976325.922101611],\"1273\":[-8233445.90785781,4979790.870050764],\"1405\":[-8236753.321248769,4970576.062054603],\"1406\":[-8236822.7066873815,4970413.625996371],\"141\":[-8233180.811622432,4980271.0535401385],\"156\":[-8236766.813171052,4970309.5567176435],\"1614\":[-8232900.598200211,4980356.116825337],\"1615\":[-8233078.976552257,4980455.544483908],\"1649\":[-8238483.5600941675,4971986.843127602],\"1650\":[-8238496.027877137,4971891.658572896],\"1651\":[-8238545.899009013,4971514.895471589],\"1700\":[-8238533.208587063,4971611.251436485],\"1761\":[-8236298.525469134,4976974.591367237],\"1767\":[-8236660.146834978,4976319.603008873],\"1779\":[-8237577.976036565,4974656.060312749],\"1799\":[-8233342.569974505,4979978.409743561],\"1972\":[-8234340.693924808,4975885.946664747],\"1973\":[-8234590.82882062,4976023.932820557],\"2044\":[-8237839.354200947,4973444.398933275],\"2045\":[-8237817.535580752,4973351.256937704],\"2234\":[-8237917.968025347,4972647.490605908],\"226\":[-8232874.749814448,4980825.536588436],\"231\":[-8237993.420376208,4973317.173653266],\"2357\":[-8237140.156479276,4973102.833653052],\"2426\":[-8235927.553266062,4976150.164674168],\"2427\":[-8235977.31307845,4976058.613353593],\"2428\":[-8236026.850251853,4975967.65069207],\"2429\":[-8236077.945898126,4975876.83582634],\"2460\":[-8238057.540402902,4972047.068401723],\"2461\":[-8238091.0475696325,4971938.810065176],\"249\":[-8238061.770543554,4971479.2028780775],\"2592\":[-8233236.037221817,4980170.995601798],\"2670\":[-8235672.5091807125,4978931.147286897],\"2672\":[-8235673.444264429,4978804.879491309],\"2726\":[-8236154.978985755,4976276.251203776],\"2728\":[-8236205.072756613,4976066.40179531],\"2729\":[-8236229.674364076,4975961.478781259],\"28\":[-8238014.348440478,4973411.6375308],\"287\":[-8236524.938181459,4978061.5936173815],\"2917\":[-8238491.575097508,4971642.684837788],\"361\":[-8236576.467973745,4977968.290013037],\"366\":[-8238448.049176605,4974576.865050878],\"370\":[-8233291.797154755,4980071.48263332],\"39\":[-8232977.564496145,4980639.274406372],\"395\":[-8232926.658093005,4980731.486165748],\"428\":[-8233394.255614082,4979884.514489093],\"553\":[-8236627.886446544,4977875.2077684365],\"554\":[-8235002.822256046,4976974.606063784],\"583\":[-8232695.825996897,4980725.370052702],\"584\":[-8232747.9903102815,4980631.7322522085],\"585\":[-8232798.685206391,4980539.815473103],\"586\":[-8233002.422138439,4980171.568954685],\"632\":[-8232951.961013261,4980262.7912971685],\"633\":[-8233130.495212598,4980362.2033038065],\"707\":[-8233655.132840755,4978528.69826524],\"708\":[-8233850.019873287,4978637.367715177],\"721\":[-8236210.594203355,4977882.835981546],\"725\":[-8236614.550371547,4977150.789834654],\"736\":[-8238133.905573588,4974402.608348514],\"754\":[-8232849.458026137,4980448.017173432],\"755\":[-8233028.136940813,4980547.651594715],\"788\":[-8234641.701827913,4975931.941833488],\"813\":[-8237894.457348892,4974832.084733272],\"916\":[-8234392.234849044,4975793.2222383935],\"917\":[-8234443.330495317,4975701.233423453]}},\"id\":\"1289\",\"type\":\"StaticLayoutProvider\"},{\"attributes\":{\"active_drag\":\"auto\",\"active_inspect\":\"auto\",\"active_multi\":null,\"active_scroll\":\"auto\",\"active_tap\":\"auto\",\"tools\":[{\"id\":\"1249\"},{\"id\":\"1250\"},{\"id\":\"1251\"},{\"id\":\"1252\"},{\"id\":\"1253\"},{\"id\":\"1254\"}]},\"id\":\"1256\",\"type\":\"Toolbar\"},{\"attributes\":{},\"id\":\"1229\",\"type\":\"LinearScale\"},{\"attributes\":{},\"id\":\"1249\",\"type\":\"PanTool\"},{\"attributes\":{},\"id\":\"1311\",\"type\":\"NodesOnly\"},{\"attributes\":{},\"id\":\"1254\",\"type\":\"HelpTool\"},{\"attributes\":{\"data\":{\"alpha\":[1,0.3,1,1,1,1,0.3,1,1,1,1,1,1,1,0.3,1,1,1,1,0.3,1,0.3,1,1,0.3,1,1,1,1,1,0.3,1,1,1,0.3,0.3,0.3,1,1,0.3,1,1,1,1,1,1,1,1,1,1,1,1,1,1,1,1,1,1,1,1,1,1,1,1,1,0.3,1,1,1,1,1,0.3,1,1,1,1,0.3,0.3,1,0.3,1,1,1],\"color\":[\"#1f77b4\",\"#1f77b4\",\"#1f77b4\",\"#1f77b4\",\"#1f77b4\",\"#1f77b4\",\"#1f77b4\",\"#1f77b4\",\"#1f77b4\",\"#1f77b4\",\"#1f77b4\",\"#1f77b4\",\"#1f77b4\",\"#1f77b4\",\"#1f77b4\",\"#1f77b4\",\"#1f77b4\",\"#1f77b4\",\"#1f77b4\",\"#1f77b4\",\"#1f77b4\",\"#1f77b4\",\"#ff7f0e\",\"#ff7f0e\",\"#ff7f0e\",\"#ff7f0e\",\"#ff7f0e\",\"#ff7f0e\",\"#ff7f0e\",\"#ff7f0e\",\"#ff7f0e\",\"#ff7f0e\",\"#ff7f0e\",\"#ff7f0e\",\"#ff7f0e\",\"#ff7f0e\",\"#ff7f0e\",\"#ff7f0e\",\"#ff7f0e\",\"#ff7f0e\",\"#ff7f0e\",\"#ff7f0e\",\"#2ca02c\",\"#2ca02c\",\"#2ca02c\",\"#2ca02c\",\"#2ca02c\",\"#2ca02c\",\"#2ca02c\",\"#2ca02c\",\"#2ca02c\",\"#2ca02c\",\"#2ca02c\",\"#2ca02c\",\"#2ca02c\",\"#2ca02c\",\"#2ca02c\",\"#2ca02c\",\"#2ca02c\",\"#2ca02c\",\"#2ca02c\",\"#2ca02c\",\"#2ca02c\",\"#2ca02c\",\"#2ca02c\",\"#2ca02c\",\"#2ca02c\",\"#2ca02c\",\"#2ca02c\",\"#2ca02c\",\"#2ca02c\",\"#2ca02c\",\"#2ca02c\",\"#2ca02c\",\"#2ca02c\",\"#2ca02c\",\"#2ca02c\",\"#2ca02c\",\"#2ca02c\",\"#2ca02c\",\"#2ca02c\",\"#2ca02c\",\"#2ca02c\"],\"end\":[554,1405,1405,1406,156,1406,1651,1700,2917,1650,1649,1021,2461,2460,553,553,361,287,721,366,366,2357,1761,1761,788,788,1973,1972,916,917,231,28,2044,2045,249,1767,2234,2234,2234,1779,813,813,632,1614,754,585,584,583,226,226,395,39,755,755,1615,633,141,2592,370,370,1799,428,428,428,1273,2428,2428,2728,2729,2429,2428,2428,2427,2426,2726,1198,736,2672,2670,707,708,708,708],\"start\":[554,554,1405,1405,1406,156,1406,1651,1700,2917,1650,1649,1021,2461,2460,553,553,361,287,721,366,366,725,1761,1761,788,788,1973,1972,916,917,231,28,2044,2045,249,1767,2234,2234,2234,1779,813,586,632,1614,754,585,584,583,226,226,395,39,755,755,1615,633,141,2592,370,370,1799,428,428,428,1273,2428,2428,2728,2729,2429,2428,2428,2427,2426,2726,1198,736,2672,2670,707,708,708]},\"selected\":{\"id\":\"1327\"},\"selection_policy\":{\"id\":\"1326\"}},\"id\":\"1281\",\"type\":\"ColumnDataSource\"},{\"attributes\":{\"bottom_units\":\"screen\",\"fill_alpha\":0.5,\"fill_color\":\"lightgrey\",\"left_units\":\"screen\",\"level\":\"overlay\",\"line_alpha\":1.0,\"line_color\":\"black\",\"line_dash\":[4,4],\"line_width\":2,\"right_units\":\"screen\",\"top_units\":\"screen\"},\"id\":\"1255\",\"type\":\"BoxAnnotation\"},{\"attributes\":{\"overlay\":{\"id\":\"1255\"}},\"id\":\"1251\",\"type\":\"BoxZoomTool\"},{\"attributes\":{},\"id\":\"1326\",\"type\":\"UnionRenderers\"},{\"attributes\":{},\"id\":\"1250\",\"type\":\"WheelZoomTool\"},{\"attributes\":{},\"id\":\"1327\",\"type\":\"Selection\"},{\"attributes\":{},\"id\":\"1252\",\"type\":\"SaveTool\"},{\"attributes\":{\"dimension\":\"lon\"},\"id\":\"1234\",\"type\":\"MercatorTicker\"},{\"attributes\":{},\"id\":\"1253\",\"type\":\"ResetTool\"},{\"attributes\":{\"formatter\":{\"id\":\"1244\"},\"ticker\":{\"id\":\"1242\"}},\"id\":\"1241\",\"type\":\"MercatorAxis\"},{\"attributes\":{\"attribution\":\"&copy; <a href=\\\"https://www.openstreetmap.org/copyright\\\">OpenStreetMap</a> contributors,&copy; <a href=\\\"https://cartodb.com/attributions\\\">CartoDB</a>\",\"url\":\"https://tiles.basemaps.cartocdn.com/light_all/{z}/{x}/{y}@2x.png\"},\"id\":\"1263\",\"type\":\"WMTSTileSource\"},{\"attributes\":{},\"id\":\"1328\",\"type\":\"UnionRenderers\"},{\"attributes\":{\"line_alpha\":{\"field\":\"alpha\"},\"line_cap\":\"round\",\"line_color\":{\"field\":\"color\"},\"line_width\":{\"value\":3}},\"id\":\"1284\",\"type\":\"MultiLine\"},{\"attributes\":{},\"id\":\"1231\",\"type\":\"LinearScale\"},{\"attributes\":{\"source\":{\"id\":\"1268\"}},\"id\":\"1270\",\"type\":\"CDSView\"},{\"attributes\":{\"axis\":{\"id\":\"1233\"},\"ticker\":null},\"id\":\"1240\",\"type\":\"Grid\"},{\"attributes\":{\"dimension\":\"lon\"},\"id\":\"1236\",\"type\":\"MercatorTickFormatter\"}],\"root_ids\":[\"1222\"]},\"title\":\"Bokeh Application\",\"version\":\"2.1.0\"}};\n",
       "  var render_items = [{\"docid\":\"17719eec-488a-4317-b02b-f20dcf7113e8\",\"root_ids\":[\"1222\"],\"roots\":{\"1222\":\"ba001664-2d1e-4209-bc8f-446ff8237a78\"}}];\n",
       "  root.Bokeh.embed.embed_items_notebook(docs_json, render_items);\n",
       "\n",
       "  }\n",
       "  if (root.Bokeh !== undefined) {\n",
       "    embed_document(root);\n",
       "  } else {\n",
       "    var attempts = 0;\n",
       "    var timer = setInterval(function(root) {\n",
       "      if (root.Bokeh !== undefined) {\n",
       "        clearInterval(timer);\n",
       "        embed_document(root);\n",
       "      } else {\n",
       "        attempts++;\n",
       "        if (attempts > 100) {\n",
       "          clearInterval(timer);\n",
       "          console.log(\"Bokeh: ERROR: Unable to run BokehJS code because BokehJS library is missing\");\n",
       "        }\n",
       "      }\n",
       "    }, 10, root)\n",
       "  }\n",
       "})(window);"
      ],
      "application/vnd.bokehjs_exec.v0+json": ""
     },
     "metadata": {
      "application/vnd.bokehjs_exec.v0+json": {
       "id": "1222"
      }
     },
     "output_type": "display_data"
    },
    {
     "name": "stdout",
     "output_type": "stream",
     "text": [
      "These taxis make a total of 16 trips.\n"
     ]
    }
   ],
   "source": [
    "random.seed(1101)  # set random seed\n",
    "taxis = [random.randint(0,1500) for i in range(3)]\n",
    "nyc_taxi.plot_taxi_route(taxis)"
   ]
  },
  {
   "cell_type": "markdown",
   "metadata": {},
   "source": [
    "**Q28:** What does the solution maximizing the number of trips look like? Run the code to change the objective (change the value field), create the new problem, solve it, and print the summary statisitcs."
   ]
  },
  {
   "cell_type": "code",
   "execution_count": 25,
   "metadata": {},
   "outputs": [
    {
     "name": "stdout",
     "output_type": "stream",
     "text": [
      "Summary Statistics\n",
      "Avg. Moving Pct.:  0.87\n",
      "Avg. On Trip Pct.:  0.62\n",
      "Avg. Total Distance of Trips:  17.99\n",
      "Avg. Revenue:  70.86\n",
      "Total Trips:  9047 ( 0.93 )\n",
      "Total Passengers:  16651 ( 0.93 )\n",
      "Total Revenue:  106296.49 ( 0.89 )\n"
     ]
    }
   ],
   "source": [
    "trips_df['value'] = 1\n",
    "nyc_taxi = TaxiRouting(trips_df, nodes_df, arcs_df, 1020, 1110, 1500)\n",
    "nyc_taxi.optimize()\n",
    "nyc_taxi.get_stats()"
   ]
  },
  {
   "cell_type": "code",
   "execution_count": 26,
   "metadata": {},
   "outputs": [
    {
     "data": {
      "text/html": [
       "\n",
       "\n",
       "\n",
       "\n",
       "\n",
       "\n",
       "  <div class=\"bk-root\" id=\"dbc80399-d65c-4569-b906-bc3319f5d770\" data-root-id=\"1462\"></div>\n"
      ]
     },
     "metadata": {},
     "output_type": "display_data"
    },
    {
     "data": {
      "application/javascript": [
       "(function(root) {\n",
       "  function embed_document(root) {\n",
       "    \n",
       "  var docs_json = {\"649d4861-8172-4966-9b9c-2304090b4b3b\":{\"roots\":{\"references\":[{\"attributes\":{\"below\":[{\"id\":\"1473\"}],\"center\":[{\"id\":\"1480\"},{\"id\":\"1488\"}],\"left\":[{\"id\":\"1481\"}],\"plot_height\":470,\"renderers\":[{\"id\":\"1504\"},{\"id\":\"1506\"}],\"title\":{\"id\":\"1463\"},\"toolbar\":{\"id\":\"1496\"},\"x_range\":{\"id\":\"1465\"},\"x_scale\":{\"id\":\"1469\"},\"y_range\":{\"id\":\"1467\"},\"y_scale\":{\"id\":\"1471\"}},\"id\":\"1462\",\"subtype\":\"Figure\",\"type\":\"Plot\"},{\"attributes\":{},\"id\":\"1471\",\"type\":\"LinearScale\"},{\"attributes\":{\"dimension\":\"lon\"},\"id\":\"1476\",\"type\":\"MercatorTickFormatter\"},{\"attributes\":{\"end\":-8232007.3201960325,\"start\":-8239780.98350967},\"id\":\"1465\",\"type\":\"Range1d\"},{\"attributes\":{},\"id\":\"1469\",\"type\":\"LinearScale\"},{\"attributes\":{\"axis\":{\"id\":\"1481\"},\"dimension\":1,\"ticker\":null},\"id\":\"1488\",\"type\":\"Grid\"},{\"attributes\":{\"overlay\":{\"id\":\"1495\"}},\"id\":\"1491\",\"type\":\"BoxZoomTool\"},{\"attributes\":{\"source\":{\"id\":\"1521\"}},\"id\":\"1523\",\"type\":\"CDSView\"},{\"attributes\":{},\"id\":\"1587\",\"type\":\"Selection\"},{\"attributes\":{\"formatter\":{\"id\":\"1484\"},\"ticker\":{\"id\":\"1482\"}},\"id\":\"1481\",\"type\":\"MercatorAxis\"},{\"attributes\":{},\"id\":\"1489\",\"type\":\"PanTool\"},{\"attributes\":{},\"id\":\"1492\",\"type\":\"SaveTool\"},{\"attributes\":{\"text\":\"Taxi Routes\"},\"id\":\"1463\",\"type\":\"Title\"},{\"attributes\":{\"data\":{\"index\":[528,705,542],\"start_colors\":[\"#1f77b4\",\"#ff7f0e\",\"#2ca02c\"]},\"selected\":{\"id\":\"1589\"},\"selection_policy\":{\"id\":\"1588\"}},\"id\":\"1508\",\"type\":\"ColumnDataSource\"},{\"attributes\":{\"edge_renderer\":{\"id\":\"1522\"},\"inspection_policy\":{\"id\":\"1580\"},\"layout_provider\":{\"id\":\"1529\"},\"node_renderer\":{\"id\":\"1509\"},\"selection_policy\":{\"id\":\"1571\"}},\"id\":\"1506\",\"type\":\"GraphRenderer\"},{\"attributes\":{\"bottom_units\":\"screen\",\"fill_alpha\":0.5,\"fill_color\":\"lightgrey\",\"left_units\":\"screen\",\"level\":\"overlay\",\"line_alpha\":1.0,\"line_color\":\"black\",\"line_dash\":[4,4],\"line_width\":2,\"right_units\":\"screen\",\"top_units\":\"screen\"},\"id\":\"1495\",\"type\":\"BoxAnnotation\"},{\"attributes\":{\"tile_source\":{\"id\":\"1503\"}},\"id\":\"1504\",\"type\":\"TileRenderer\"},{\"attributes\":{},\"id\":\"1493\",\"type\":\"ResetTool\"},{\"attributes\":{\"fill_color\":{\"field\":\"start_colors\"},\"line_width\":{\"value\":0},\"size\":{\"units\":\"screen\",\"value\":7}},\"id\":\"1515\",\"type\":\"Circle\"},{\"attributes\":{\"source\":{\"id\":\"1508\"}},\"id\":\"1510\",\"type\":\"CDSView\"},{\"attributes\":{\"axis\":{\"id\":\"1473\"},\"ticker\":null},\"id\":\"1480\",\"type\":\"Grid\"},{\"attributes\":{\"active_drag\":\"auto\",\"active_inspect\":\"auto\",\"active_multi\":null,\"active_scroll\":\"auto\",\"active_tap\":\"auto\",\"tools\":[{\"id\":\"1489\"},{\"id\":\"1490\"},{\"id\":\"1491\"},{\"id\":\"1492\"},{\"id\":\"1493\"},{\"id\":\"1494\"}]},\"id\":\"1496\",\"type\":\"Toolbar\"},{\"attributes\":{\"formatter\":{\"id\":\"1476\"},\"ticker\":{\"id\":\"1474\"}},\"id\":\"1473\",\"type\":\"MercatorAxis\"},{\"attributes\":{\"end\":4982080.9489977015,\"start\":4970843.332201537},\"id\":\"1467\",\"type\":\"Range1d\"},{\"attributes\":{},\"id\":\"1586\",\"type\":\"UnionRenderers\"},{\"attributes\":{\"attribution\":\"&copy; <a href=\\\"https://www.openstreetmap.org/copyright\\\">OpenStreetMap</a> contributors,&copy; <a href=\\\"https://cartodb.com/attributions\\\">CartoDB</a>\",\"url\":\"https://tiles.basemaps.cartocdn.com/light_all/{z}/{x}/{y}@2x.png\"},\"id\":\"1503\",\"type\":\"WMTSTileSource\"},{\"attributes\":{},\"id\":\"1588\",\"type\":\"UnionRenderers\"},{\"attributes\":{\"dimension\":\"lat\"},\"id\":\"1482\",\"type\":\"MercatorTicker\"},{\"attributes\":{\"line_alpha\":{\"field\":\"alpha\"},\"line_cap\":\"round\",\"line_color\":{\"field\":\"color\"},\"line_width\":{\"value\":3}},\"id\":\"1524\",\"type\":\"MultiLine\"},{\"attributes\":{\"graph_layout\":{\"1021\":[-8238285.85667852,4971962.459341648],\"106\":[-8236898.927142726,4973083.295010855],\"1112\":[-8236931.922239797,4973479.320064807],\"1152\":[-8234638.362243189,4977634.797175656],\"1244\":[-8233150.710832124,4978630.488563602],\"1253\":[-8238018.133303163,4971900.471918658],\"127\":[-8237083.650705747,4977049.9996308535],\"1277\":[-8238259.585278693,4972180.299777647],\"1282\":[-8238084.145761202,4974487.679318394],\"1302\":[-8237039.523659599,4973284.265767276],\"1339\":[-8233201.962325684,4978537.7527816435],\"1448\":[-8237547.663739222,4976209.8865757985],\"145\":[-8234489.639403488,4974992.243263124],\"1479\":[-8237138.330839625,4976951.0034409305],\"1491\":[-8235543.957432738,4981080.9489977015],\"1493\":[-8234703.150186827,4980612.884243296],\"1537\":[-8238228.861099234,4972429.434102662],\"1547\":[-8236781.37376045,4973263.698394794],\"1556\":[-8238780.98350967,4972952.886592493],\"1557\":[-8238600.34537196,4972990.3768146215],\"1624\":[-8233007.3201960325,4978299.515963252],\"1625\":[-8233256.820570747,4978438.491634032],\"1639\":[-8238355.542679756,4973046.5683455095],\"1677\":[-8238479.7752314815,4973016.893300708],\"1759\":[-8236197.135676919,4977158.241120227],\"176\":[-8238759.96638981,4973265.329092031],\"1760\":[-8236248.075475905,4977065.989608367],\"1761\":[-8236298.525469134,4976974.591367237],\"177\":[-8238773.346992603,4973059.907454407],\"1781\":[-8237767.99840735,4974312.101877532],\"1782\":[-8237815.420510427,4974225.71011896],\"1920\":[-8234707.4916469725,4977677.567105806],\"200\":[-8235906.068604343,4971843.332201537],\"2009\":[-8235552.740540564,4980962.592773578],\"2134\":[-8236982.06053845,4977233.944740191],\"2137\":[-8235358.376709639,4976330.624684901],\"2264\":[-8238049.414080075,4972501.560850118],\"229\":[-8238766.656691204,4973162.1402821485],\"2325\":[-8235338.060902568,4980964.401187077],\"2326\":[-8235389.412583672,4980870.790499039],\"2327\":[-8235440.708605028,4980777.636478813],\"2356\":[-8236953.696332198,4972999.117698208],\"2357\":[-8237140.156479276,4973102.833653052],\"2375\":[-8237096.3745235475,4977775.674096335],\"2376\":[-8237146.37923881,4977686.517949936],\"2408\":[-8234996.699684051,4977839.976965525],\"2461\":[-8238091.0475696325,4971938.810065176],\"2469\":[-8233097.822942047,4978726.179760953],\"2470\":[-8233276.312613588,4978825.193943809],\"2471\":[-8233440.887348778,4978916.477207738],\"2580\":[-8236987.537457397,4973378.435504003],\"2841\":[-8238564.9457738865,4975576.7560081715],\"2940\":[-8234287.060194142,4980623.528512188],\"2979\":[-8233621.725861569,4977188.546012801],\"3044\":[-8235159.860661708,4980986.29330879],\"3045\":[-8234967.522845515,4980881.773204878],\"3046\":[-8234651.809637674,4980705.845563615],\"3047\":[-8234339.3135631215,4980530.612081262],\"3053\":[-8235491.592744271,4980684.953815443],\"3054\":[-8235370.365818798,4980615.795243858],\"315\":[-8233871.704910094,4977326.300717671],\"378\":[-8237091.287222818,4973190.537663465],\"421\":[-8233921.843208748,4977234.929434901],\"489\":[-8234049.704775873,4977424.918583122],\"490\":[-8234100.210428846,4977334.472294326],\"528\":[-8237601.620296411,4976112.192080102],\"542\":[-8236839.927812608,4973174.0839198],\"642\":[-8234438.543757214,4975084.078466644],\"643\":[-8234607.326369156,4975177.898201813],\"644\":[-8234856.047507434,4975316.1388516985],\"645\":[-8234952.138491888,4975369.551871508],\"646\":[-8235130.45005224,4975468.6642870465],\"647\":[-8235300.112088158,4975562.252604192],\"664\":[-8238272.164381153,4972074.243342014],\"705\":[-8233312.535975892,4978337.67344388],\"724\":[-8236564.278489504,4977241.895785381],\"725\":[-8236614.550371547,4977150.789834654],\"73\":[-8236930.642065655,4977327.035571407],\"736\":[-8238133.905573588,4974402.608348514],\"74\":[-8237190.717791994,4976856.152628759],\"748\":[-8235856.531430939,4971932.934477408],\"75\":[-8237493.028133143,4976308.801778421],\"825\":[-8237032.944677694,4977141.810087807],\"829\":[-8236829.708683351,4977509.780714681],\"830\":[-8236513.4388780575,4977334.031381738],\"850\":[-8234600.36890098,4980798.998898916],\"903\":[-8233063.146920668,4978198.625715655],\"921\":[-8234702.482269885,4975230.781484754],\"99\":[-8238246.449578779,4972286.357363913]}},\"id\":\"1529\",\"type\":\"StaticLayoutProvider\"},{\"attributes\":{\"dimension\":\"lon\"},\"id\":\"1474\",\"type\":\"MercatorTicker\"},{\"attributes\":{\"data_source\":{\"id\":\"1521\"},\"glyph\":{\"id\":\"1524\"},\"hover_glyph\":null,\"muted_glyph\":null,\"view\":{\"id\":\"1523\"}},\"id\":\"1522\",\"type\":\"GlyphRenderer\"},{\"attributes\":{},\"id\":\"1589\",\"type\":\"Selection\"},{\"attributes\":{},\"id\":\"1490\",\"type\":\"WheelZoomTool\"},{\"attributes\":{},\"id\":\"1571\",\"type\":\"NodesOnly\"},{\"attributes\":{},\"id\":\"1580\",\"type\":\"NodesOnly\"},{\"attributes\":{\"dimension\":\"lat\"},\"id\":\"1484\",\"type\":\"MercatorTickFormatter\"},{\"attributes\":{\"data\":{\"alpha\":[1,1,1,1,1,1,1,1,1,1,1,1,1,1,1,1,1,0.3,1,1,1,1,1,1,1,1,1,1,0.3,1,1,0.3,1,1,1,0.3,1,1,1,1,1,1,1,1,1,1,1,1,1,1,1,1,0.3,1,1,1,1,1,0.3,0.3,1,1,1,1,1,1,1,1,0.3,1,1,1,1,0.3,1,1,1,1,1,1,1,1,1,0.3,1,1,1,1,1,1,1,1,1,1,1,1,1,1,1,1,0.3,1,1,1,1,1,1,1,0.3,1,1,1,1,1,1,1,0.3,0.3,1,1,1,1,1,1,0.3,1,1,1,1,1,0.3,1,1],\"color\":[\"#1f77b4\",\"#1f77b4\",\"#1f77b4\",\"#1f77b4\",\"#1f77b4\",\"#1f77b4\",\"#1f77b4\",\"#1f77b4\",\"#1f77b4\",\"#1f77b4\",\"#1f77b4\",\"#1f77b4\",\"#1f77b4\",\"#1f77b4\",\"#1f77b4\",\"#1f77b4\",\"#1f77b4\",\"#1f77b4\",\"#1f77b4\",\"#1f77b4\",\"#1f77b4\",\"#1f77b4\",\"#1f77b4\",\"#1f77b4\",\"#1f77b4\",\"#1f77b4\",\"#1f77b4\",\"#1f77b4\",\"#1f77b4\",\"#1f77b4\",\"#1f77b4\",\"#1f77b4\",\"#1f77b4\",\"#1f77b4\",\"#1f77b4\",\"#1f77b4\",\"#1f77b4\",\"#1f77b4\",\"#1f77b4\",\"#1f77b4\",\"#1f77b4\",\"#1f77b4\",\"#1f77b4\",\"#1f77b4\",\"#1f77b4\",\"#1f77b4\",\"#1f77b4\",\"#ff7f0e\",\"#ff7f0e\",\"#ff7f0e\",\"#ff7f0e\",\"#ff7f0e\",\"#ff7f0e\",\"#ff7f0e\",\"#ff7f0e\",\"#ff7f0e\",\"#ff7f0e\",\"#ff7f0e\",\"#ff7f0e\",\"#ff7f0e\",\"#ff7f0e\",\"#ff7f0e\",\"#ff7f0e\",\"#ff7f0e\",\"#ff7f0e\",\"#ff7f0e\",\"#ff7f0e\",\"#ff7f0e\",\"#ff7f0e\",\"#ff7f0e\",\"#ff7f0e\",\"#ff7f0e\",\"#ff7f0e\",\"#ff7f0e\",\"#ff7f0e\",\"#ff7f0e\",\"#ff7f0e\",\"#ff7f0e\",\"#ff7f0e\",\"#ff7f0e\",\"#ff7f0e\",\"#ff7f0e\",\"#ff7f0e\",\"#ff7f0e\",\"#ff7f0e\",\"#ff7f0e\",\"#ff7f0e\",\"#ff7f0e\",\"#ff7f0e\",\"#ff7f0e\",\"#2ca02c\",\"#2ca02c\",\"#2ca02c\",\"#2ca02c\",\"#2ca02c\",\"#2ca02c\",\"#2ca02c\",\"#2ca02c\",\"#2ca02c\",\"#2ca02c\",\"#2ca02c\",\"#2ca02c\",\"#2ca02c\",\"#2ca02c\",\"#2ca02c\",\"#2ca02c\",\"#2ca02c\",\"#2ca02c\",\"#2ca02c\",\"#2ca02c\",\"#2ca02c\",\"#2ca02c\",\"#2ca02c\",\"#2ca02c\",\"#2ca02c\",\"#2ca02c\",\"#2ca02c\",\"#2ca02c\",\"#2ca02c\",\"#2ca02c\",\"#2ca02c\",\"#2ca02c\",\"#2ca02c\",\"#2ca02c\",\"#2ca02c\",\"#2ca02c\",\"#2ca02c\",\"#2ca02c\",\"#2ca02c\",\"#2ca02c\",\"#2ca02c\",\"#2ca02c\",\"#2ca02c\"],\"end\":[528,1448,75,75,75,75,75,75,75,75,75,75,75,75,75,75,75,145,145,642,642,643,921,921,644,645,646,647,1761,1760,1759,2408,1920,1152,1152,200,748,748,748,748,748,748,748,748,748,748,748,1625,1625,1624,1624,903,315,489,490,421,2979,315,2137,2325,2325,1491,1491,2009,2326,2327,3053,3054,1339,1244,2469,2470,2471,3044,3045,3046,3047,2940,850,3046,3046,3046,1493,2375,2376,829,830,724,725,1761,542,1547,1547,2580,1302,378,2357,2356,106,106,2264,1537,99,1277,664,1021,2461,1253,74,1479,127,825,2134,73,725,725,1112,1639,1677,1557,1556,177,229,176,1781,1781,1781,1282,736,1782,2841,2841,2841],\"start\":[528,528,1448,75,75,75,75,75,75,75,75,75,75,75,75,75,75,75,145,145,642,642,643,921,921,644,645,646,647,1761,1760,1759,2408,1920,1152,1152,200,748,748,748,748,748,748,748,748,748,748,705,1625,1625,1624,1624,903,315,489,490,421,2979,315,2137,2325,2325,1491,1491,2009,2326,2327,3053,3054,1339,1244,2469,2470,2471,3044,3045,3046,3047,2940,850,3046,3046,3046,1493,2375,2376,829,830,724,725,542,542,1547,1547,2580,1302,378,2357,2356,106,106,2264,1537,99,1277,664,1021,2461,1253,74,1479,127,825,2134,73,725,725,1112,1639,1677,1557,1556,177,229,176,1781,1781,1781,1282,736,1782,2841,2841]},\"selected\":{\"id\":\"1587\"},\"selection_policy\":{\"id\":\"1586\"}},\"id\":\"1521\",\"type\":\"ColumnDataSource\"},{\"attributes\":{},\"id\":\"1494\",\"type\":\"HelpTool\"},{\"attributes\":{\"data_source\":{\"id\":\"1508\"},\"glyph\":{\"id\":\"1515\"},\"hover_glyph\":null,\"muted_glyph\":null,\"view\":{\"id\":\"1510\"}},\"id\":\"1509\",\"type\":\"GlyphRenderer\"}],\"root_ids\":[\"1462\"]},\"title\":\"Bokeh Application\",\"version\":\"2.1.0\"}};\n",
       "  var render_items = [{\"docid\":\"649d4861-8172-4966-9b9c-2304090b4b3b\",\"root_ids\":[\"1462\"],\"roots\":{\"1462\":\"dbc80399-d65c-4569-b906-bc3319f5d770\"}}];\n",
       "  root.Bokeh.embed.embed_items_notebook(docs_json, render_items);\n",
       "\n",
       "  }\n",
       "  if (root.Bokeh !== undefined) {\n",
       "    embed_document(root);\n",
       "  } else {\n",
       "    var attempts = 0;\n",
       "    var timer = setInterval(function(root) {\n",
       "      if (root.Bokeh !== undefined) {\n",
       "        clearInterval(timer);\n",
       "        embed_document(root);\n",
       "      } else {\n",
       "        attempts++;\n",
       "        if (attempts > 100) {\n",
       "          clearInterval(timer);\n",
       "          console.log(\"Bokeh: ERROR: Unable to run BokehJS code because BokehJS library is missing\");\n",
       "        }\n",
       "      }\n",
       "    }, 10, root)\n",
       "  }\n",
       "})(window);"
      ],
      "application/vnd.bokehjs_exec.v0+json": ""
     },
     "metadata": {
      "application/vnd.bokehjs_exec.v0+json": {
       "id": "1462"
      }
     },
     "output_type": "display_data"
    },
    {
     "name": "stdout",
     "output_type": "stream",
     "text": [
      "These taxis make a total of 16 trips.\n"
     ]
    }
   ],
   "source": [
    "nyc_taxi.plot_taxi_route(taxis)"
   ]
  },
  {
   "cell_type": "markdown",
   "metadata": {},
   "source": [
    "**Q29:** Visually compare the paths of the three taxis in the two different solutions. What do you notice? Try to give some explanation.\n",
    "\n",
    "**A:** <font color='blue'>It appears the taxis do not cover as much ground as they did previously. They stay in one region as opposed to jumping all over the map. Recall that the solution maximizing revenue tends to have longer trips than the solution maximizing trips. Since the trips are shorter and taxis are unlikely to get multiple trips headed in the same direction, this leads to taxis covering smaller regions. </font>"
   ]
  },
  {
   "cell_type": "markdown",
   "metadata": {},
   "source": [
    "**Bonus:** Play around with other objectives, time windows, number of taxis, etc. Use the summary statistics and path plotting functionalities to compare their solutions. What types of things did you notice? Was it what you expected? If you find something interesting, feel free to share!"
   ]
  }
 ],
 "metadata": {
  "colab": {
   "collapsed_sections": [],
   "name": "MaxFlow Empty(1).ipynb",
   "provenance": []
  },
  "kernelspec": {
   "display_name": "Python 3",
   "language": "python",
   "name": "python3"
  },
  "language_info": {
   "codemirror_mode": {
    "name": "ipython",
    "version": 3
   },
   "file_extension": ".py",
   "mimetype": "text/x-python",
   "name": "python",
   "nbconvert_exporter": "python",
   "pygments_lexer": "ipython3",
   "version": "3.6.10"
  }
 },
 "nbformat": 4,
 "nbformat_minor": 2
}
