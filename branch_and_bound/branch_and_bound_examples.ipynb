{
 "cells": [
  {
   "cell_type": "code",
   "execution_count": null,
   "metadata": {},
   "outputs": [],
   "source": [
    "import gilp"
   ]
  },
  {
   "cell_type": "markdown",
   "metadata": {},
   "source": [
    "## Integer Program Examples"
   ]
  },
  {
   "cell_type": "markdown",
   "metadata": {},
   "source": [
    "Consider the following 2D integer program:\n",
    "\n",
    "$$\\begin{align*}\n",
    "\\max \\quad & 5x_1+8x_2\\\\\n",
    "\\text{s.t.} \\quad & x_1 + x_2 \\leq 6 \\\\\n",
    "& 5x_1 + 9x_2 \\leq 45 \\\\\n",
    "& x_1, x_2 \\geq 0, \\quad \\text{integer}\n",
    "\\end{align*}$$"
   ]
  },
  {
   "cell_type": "code",
   "execution_count": null,
   "metadata": {},
   "outputs": [],
   "source": [
    "# Create the LP object\n",
    "ip_2d = gilp.LP(A=[[1,1],\n",
    "                   [5,9]],\n",
    "                b=[6,45],\n",
    "                c=[5,8])"
   ]
  },
  {
   "cell_type": "code",
   "execution_count": null,
   "metadata": {},
   "outputs": [],
   "source": [
    "# Visualize branch and bound with manually selecting the branched on variable\n",
    "gilp.bnb_visual(ip_2d, manual=True)"
   ]
  }
 ],
 "metadata": {
  "kernelspec": {
   "display_name": "1101_venv",
   "language": "python",
   "name": "1101_venv"
  },
  "language_info": {
   "codemirror_mode": {
    "name": "ipython",
    "version": 3
   },
   "file_extension": ".py",
   "mimetype": "text/x-python",
   "name": "python",
   "nbconvert_exporter": "python",
   "pygments_lexer": "ipython3",
   "version": "3.6.10"
  }
 },
 "nbformat": 4,
 "nbformat_minor": 4
}
