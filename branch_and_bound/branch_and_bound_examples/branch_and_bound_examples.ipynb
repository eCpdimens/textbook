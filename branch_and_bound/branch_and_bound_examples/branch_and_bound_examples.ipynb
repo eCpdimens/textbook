{
 "cells": [
  {
   "cell_type": "code",
   "execution_count": null,
   "metadata": {},
   "outputs": [],
   "source": [
    "import gilp\n",
    "from ortools.linear_solver import pywraplp as OR"
   ]
  },
  {
   "cell_type": "markdown",
   "metadata": {},
   "source": [
    "## Integer Program Examples"
   ]
  },
  {
   "cell_type": "markdown",
   "metadata": {},
   "source": [
    "Consider the following 2D integer program:\n",
    "\n",
    "$$\\begin{align*}\n",
    "\\max \\quad & 5x_1+8x_2\\\\\n",
    "\\text{s.t.} \\quad & x_1 + x_2 \\leq 6 \\\\\n",
    "& 5x_1 + 9x_2 \\leq 45 \\\\\n",
    "& x_1, x_2 \\geq 0, \\quad \\text{integer}\n",
    "\\end{align*}$$"
   ]
  },
  {
   "cell_type": "code",
   "execution_count": null,
   "metadata": {},
   "outputs": [],
   "source": [
    "# Create the LP object\n",
    "ip_2d = gilp.LP(A=[[1,1],\n",
    "                   [5,9]],\n",
    "                b=[6,45],\n",
    "                c=[5,8])"
   ]
  },
  {
   "cell_type": "code",
   "execution_count": null,
   "metadata": {
    "scrolled": false
   },
   "outputs": [],
   "source": [
    "# Visualize branch and bound with manually selecting the branched on variable\n",
    "gilp.bnb_visual(ip_2d, manual=True);"
   ]
  },
  {
   "cell_type": "markdown",
   "metadata": {},
   "source": [
    "# Consider the following 5D integer program:\n",
    "\n",
    "$$\\begin{align*}\n",
    "\\mbox{minimize } x_1 + x_2 + x_3 + x_4 + x_5 + x_6 + x_7\\\\\n",
    "\\mbox{subject to }\\qquad \n",
    "x_1 + x_4 + x_5 + x_6 + x_7 & \\ge 17 \\\\\n",
    "x_1 + x_2 + x_5 + x_6 + x_7 & \\ge 13 \\\\\n",
    "x_1 + x_2 + x_3 + x_6 + x_7 & \\ge 15 \\\\\n",
    "x_1 + x_2 + x_3 + x_4 + x_7 & \\ge 19 \\\\\n",
    "x_1 + x_2 + x_3 + x_4 + x_5 & \\ge 14 \\\\\n",
    "x_2 + x_3 + x_4 + x_5 + x_6 & \\ge 16 \\\\\n",
    "x_3 + x_4 + x_5 + x_6 + x_7 & \\ge 11 \\\\\n",
    "x_i & \\ge 0, \\ \\ i=1,\\ldots,7, \\mbox{ integer}\n",
    "\\end{align*}$$"
   ]
  },
  {
   "cell_type": "code",
   "execution_count": null,
   "metadata": {},
   "outputs": [],
   "source": [
    "def Example():\n",
    "    # define model\n",
    "    m = OR.Solver('ex', OR.Solver.CBC_MIXED_INTEGER_PROGRAMMING)\n",
    "    \n",
    "    # decision variables\n",
    "    x = {}    \n",
    "    for i in range(1,8):\n",
    "        x[i] = m.NumVar(0, m.infinity(), 'x_%d' % (i)) \n",
    "        \n",
    "    # define objective function here\n",
    "    m.Minimize(sum(x[i] for i in range(1,8)))\n",
    "    \n",
    "    # constraints\n",
    "    m.Add(x[1] + x[4] + x[5] + x[6] + x[7] >= 17)\n",
    "    m.Add(x[1] + x[2] + x[5] + x[6] + x[7] >= 13)\n",
    "    m.Add(x[1] + x[2] + x[3] + x[6] + x[7] >= 15)\n",
    "    m.Add(x[1] + x[2] + x[3] + x[4] + x[7] >= 19)\n",
    "    m.Add(x[1] + x[2] + x[3] + x[4] + x[5] >= 14)\n",
    "    m.Add(x[2] + x[3] + x[4] + x[5] + x[6] >= 16)\n",
    "    m.Add(x[3] + x[4] + x[5] + x[6] + x[7] >= 11)\n",
    "    \n",
    "    return (m, x)  # return the model and the decision variables"
   ]
  },
  {
   "cell_type": "code",
   "execution_count": null,
   "metadata": {},
   "outputs": [],
   "source": [
    "def solve(m):\n",
    "    m.Solve()\n",
    "    \n",
    "    print('Objective =', m.Objective().Value())\n",
    "    print('iterations :', m.iterations())\n",
    "    print('branch-and-bound nodes :',m.nodes())\n",
    "    \n",
    "    return ({var.name() : var.solution_value() for var in m.variables()})"
   ]
  },
  {
   "cell_type": "code",
   "execution_count": null,
   "metadata": {},
   "outputs": [],
   "source": [
    "m, x = Example()\n",
    "solve(m)"
   ]
  },
  {
   "cell_type": "markdown",
   "metadata": {},
   "source": [
    "<img src=\"tree_1.png\" width=\"500\"/>"
   ]
  },
  {
   "cell_type": "code",
   "execution_count": null,
   "metadata": {},
   "outputs": [],
   "source": [
    "m, x = Example()\n",
    "m.Add(x[1] >= 2)\n",
    "solve(m)"
   ]
  },
  {
   "cell_type": "markdown",
   "metadata": {},
   "source": [
    "<img src=\"tree_2.png\" width=\"700\"/>"
   ]
  },
  {
   "cell_type": "code",
   "execution_count": null,
   "metadata": {},
   "outputs": [],
   "source": [
    "m, x = Example()\n",
    "m.Add(x[1] >= 2)\n",
    "m.Add(x[2] >= 6)\n",
    "solve(m)\n",
    "# fathom by integrality\n",
    "# this solution becomes the incumbent"
   ]
  },
  {
   "cell_type": "markdown",
   "metadata": {},
   "source": [
    "<img src=\"tree_3.png\" width=\"700\"/>"
   ]
  },
  {
   "cell_type": "code",
   "execution_count": null,
   "metadata": {},
   "outputs": [],
   "source": [
    "m, x = Example()\n",
    "m.Add(x[1] >= 2)\n",
    "m.Add(x[2] <= 5)\n",
    "solve(m)\n",
    "# fathom by bound"
   ]
  },
  {
   "cell_type": "markdown",
   "metadata": {},
   "source": [
    "<img src=\"tree_4.png\" width=\"700\"/>"
   ]
  },
  {
   "cell_type": "code",
   "execution_count": null,
   "metadata": {},
   "outputs": [],
   "source": [
    "m, x = Example()\n",
    "m.Add(x[1] <= 1)\n",
    "solve(m)\n",
    "# fathom by bound"
   ]
  },
  {
   "cell_type": "markdown",
   "metadata": {},
   "source": [
    "<img src=\"tree_5.png\" width=\"700\"/>"
   ]
  }
 ],
 "metadata": {
  "kernelspec": {
   "display_name": "Python 3",
   "language": "python",
   "name": "python3"
  },
  "language_info": {
   "codemirror_mode": {
    "name": "ipython",
    "version": 3
   },
   "file_extension": ".py",
   "mimetype": "text/x-python",
   "name": "python",
   "nbconvert_exporter": "python",
   "pygments_lexer": "ipython3",
   "version": "3.6.10"
  }
 },
 "nbformat": 4,
 "nbformat_minor": 4
}
