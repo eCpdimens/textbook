{
  "nbformat": 4,
  "nbformat_minor": 0,
  "metadata": {
    "kernelspec": {
      "display_name": "Python 3",
      "language": "python",
      "name": "python3"
    },
    "language_info": {
      "codemirror_mode": {
        "name": "ipython",
        "version": 3
      },
      "file_extension": ".py",
      "mimetype": "text/x-python",
      "name": "python",
      "nbconvert_exporter": "python",
      "pygments_lexer": "ipython3",
      "version": "3.8.1"
    },
    "colab": {
      "name": "MaxFlow Empty(1).ipynb",
      "provenance": [],
      "collapsed_sections": []
    }
  },
  "cells": [
    {
      "cell_type": "markdown",
      "metadata": {
        "id": "pkXM36r5cTcg",
        "colab_type": "text"
      },
      "source": [
        "# The Max Flow Problem\n",
        "\n",
        "**Objectives:**\n",
        "* Understand Ford-Fulkerson algorithm, in particular \n",
        "    - (use of) residual graphs\n",
        "    - backward/forward edges\n",
        "    - path in residual graph and minimum residual capacity\n",
        "    - finding s,t-cut\n",
        "* Intro to using Python\n",
        "    - intro to NetworkX\n",
        "    - using functions    "
      ]
    },
    {
      "cell_type": "markdown",
      "metadata": {
        "id": "c30NLz3mcTci",
        "colab_type": "text"
      },
      "source": [
        "## Part 1: Ford-Fulkerson by hand"
      ]
    },
    {
      "cell_type": "markdown",
      "metadata": {
        "id": "2YUmy7QZcTck",
        "colab_type": "text"
      },
      "source": [
        "In the first part of the lab we will solve an example\n",
        "using the algorithm you've learned in class.  This will give you\n",
        "practice using the *residual graph*."
      ]
    },
    {
      "cell_type": "markdown",
      "metadata": {
        "id": "rLDVU3ZycTcl",
        "colab_type": "text"
      },
      "source": [
        "Take the following example. The source (where the flow\n",
        "comes from) is node 0, the sink (where the flow goes to) is\n",
        "node 6. The numbers on the arcs are the capacities. We would\n",
        "like to push as much flow as we can from node 0 to node 6. So how do we start?"
      ]
    },
    {
      "cell_type": "markdown",
      "metadata": {
        "id": "Vxw3Kl-VcTco",
        "colab_type": "text"
      },
      "source": [
        "<img src=\"http://people.orie.cornell.edu/fms9/graph1.svg\" width=\"50%\"/>"
      ]
    },
    {
      "cell_type": "markdown",
      "metadata": {
        "id": "5tH46joccTcp",
        "colab_type": "text"
      },
      "source": [
        "Let's pick a path that goes from \n",
        "0  to 6 (if there is\n",
        "any), and push as much flow as possible through this path. Say we pick\n",
        "the path 0-1-4-6. \n",
        "\n",
        "### Q1. How many units of flow can be pushed through this path?\n"
      ]
    },
    {
      "cell_type": "markdown",
      "metadata": {
        "id": "-hc0RBg-cTcq",
        "colab_type": "text"
      },
      "source": [
        "*"
      ]
    },
    {
      "cell_type": "markdown",
      "metadata": {
        "id": "Hdxz_kSYcTcu",
        "colab_type": "text"
      },
      "source": [
        "### Q2. Is there an arc which got *saturated* (that is, no more flow can go through it)?\n"
      ]
    },
    {
      "cell_type": "markdown",
      "metadata": {
        "id": "EnWD9gVfcTcw",
        "colab_type": "text"
      },
      "source": [
        "*"
      ]
    },
    {
      "cell_type": "markdown",
      "metadata": {
        "id": "DBuhqzhzcTcw",
        "colab_type": "text"
      },
      "source": [
        "Now we write down the flow on the arcs (the flow is the number inside a box, the other is the capacity of the arc)."
      ]
    },
    {
      "cell_type": "markdown",
      "metadata": {
        "id": "bsNNZN-hcTcx",
        "colab_type": "text"
      },
      "source": [
        "<img src=\"http://people.orie.cornell.edu/fms9/graph2.svg\" width=\"50%\"/>"
      ]
    },
    {
      "cell_type": "markdown",
      "metadata": {
        "id": "_jWl_LIrcTcz",
        "colab_type": "text"
      },
      "source": [
        "What would be the next step? We might think that it's a reasonable\n",
        "idea to decrease the capacities on the arcs of the path by the amount\n",
        "of flow we have just pushed through them, and start anew with the\n",
        "resulting graph. But this greedy approach wouldn't let us reverse flow\n",
        "on the arcs, and reversing flow is an essential part of the algorithm\n",
        "as we have seen in lecture. So instead of just decreasing the\n",
        "capacities on arcs that are on the *augmenting path*, we will\n",
        "introduce new arcs that show how much flow can be sent in the reverse\n",
        "direction between the nodes. We will draw all the original arcs that\n",
        "are not yet saturated, and also reverse arcs between those nodes where\n",
        "there is positive flow --- this flow can potentially be reversed. The resulting graph is called the *residual graph*.\n",
        "\n",
        "So, for example, arc $(1,4)$ has remaining capacity\n",
        "$7-4=3$, so we write this capacity on the arc in the residual graph.\n",
        "Also, the flow of value 4 could be sent back from 4 to 1, so we draw the arc $(4,1)$ with capacity 4 in the\n",
        "residual graph. Capacities on the arcs in the residual graph are\n",
        "called *residual capacities*. Below is the residual graph that\n",
        "corresponds to the flow in the graph. \n",
        "\n",
        "### Q3. Fill out the missing residual capacities.\n"
      ]
    },
    {
      "cell_type": "markdown",
      "metadata": {
        "id": "M0DMjz__cTc0",
        "colab_type": "text"
      },
      "source": [
        "<img src=\"http://people.orie.cornell.edu/fms9/graph3.svg\" width=\"50%\"/>"
      ]
    },
    {
      "cell_type": "markdown",
      "metadata": {
        "id": "tcmX33hicTc1",
        "colab_type": "text"
      },
      "source": [
        " ### Q4. Why is there no arc from 0 to 1 in the residual graph?"
      ]
    },
    {
      "cell_type": "markdown",
      "metadata": {
        "id": "HHI2shpLcTc2",
        "colab_type": "text"
      },
      "source": [
        "*"
      ]
    },
    {
      "cell_type": "markdown",
      "metadata": {
        "id": "xx1ruBlCcTc3",
        "colab_type": "text"
      },
      "source": [
        "The residual graph tells us which arcs can have more\n",
        "flow pushed through them and in what direction, so what we do is\n",
        "that we look for a path from the source to the sink. If we find\n",
        "one, we can increase the value of the flow by pushing some flow\n",
        "through this path. Then we redraw the residual graph, look for a\n",
        "new path, and so on. When do we stop? If we can't find a path from\n",
        "source to sink in the residual graph. Does this mean that we have\n",
        "an optimal flow?  Yes, and the last residual graph lets us read\n",
        "off a minimum cut that proves it.\n",
        "\n",
        "\n",
        "### Q5. Use the \"empty'' graphs below to finish the algorithm for this problem. \n",
        "At each step pick a path from 0 to 6 in the\n",
        "residual graph (start with the residual graph above), determine how\n",
        "much flow you can push through this path, draw the new flow on the\n",
        "arcs of the graph on the left, and the residual graph into the \"empty\"\n",
        "graph on the right. \n"
      ]
    },
    {
      "cell_type": "markdown",
      "metadata": {
        "id": "tu0zJE-XcTc5",
        "colab_type": "text"
      },
      "source": [
        "<img src=\"http://people.orie.cornell.edu/fms9/graph4.svg\" width=\"90%\"/>"
      ]
    },
    {
      "cell_type": "markdown",
      "metadata": {
        "id": "HLolp16YcTc6",
        "colab_type": "text"
      },
      "source": [
        "<img src=\"http://people.orie.cornell.edu/fms9/graph4.svg\" width=\"90%\"/>"
      ]
    },
    {
      "cell_type": "markdown",
      "metadata": {
        "id": "Z7SU9JN9cTc7",
        "colab_type": "text"
      },
      "source": [
        "<img src=\"http://people.orie.cornell.edu/fms9/graph4.svg\" width=\"90%\"/>"
      ]
    },
    {
      "cell_type": "markdown",
      "metadata": {
        "id": "SZU2J-AvcTc7",
        "colab_type": "text"
      },
      "source": [
        "### Q6. What is the value of the optimal flow? Did you use any reverse arcs to improve the flow?\n"
      ]
    },
    {
      "cell_type": "markdown",
      "metadata": {
        "id": "qVj7qooAcTc9",
        "colab_type": "text"
      },
      "source": [
        "*"
      ]
    },
    {
      "cell_type": "markdown",
      "metadata": {
        "id": "MPR3IWmCcTdA",
        "colab_type": "text"
      },
      "source": [
        "### Q7. Take a look at the last residual graph. Why did you stop? Which nodes can be reached by a directed path from the source in the residual graph? \n"
      ]
    },
    {
      "cell_type": "markdown",
      "metadata": {
        "id": "V6VlPweDcTdB",
        "colab_type": "text"
      },
      "source": [
        "*"
      ]
    },
    {
      "cell_type": "markdown",
      "metadata": {
        "id": "j2BRue2gcTdB",
        "colab_type": "text"
      },
      "source": [
        "### Q8. Draw a *cut* in the last graph on the left between those nodes that are reachable from 0 and those that are not. "
      ]
    },
    {
      "cell_type": "markdown",
      "metadata": {
        "id": "wHROWCibcTdD",
        "colab_type": "text"
      },
      "source": [
        "*"
      ]
    },
    {
      "cell_type": "markdown",
      "metadata": {
        "id": "JVdAgsmAcTdD",
        "colab_type": "text"
      },
      "source": [
        "### Q9. Add up the capacities on the arcs that cross the cut from the \"source-side\" to the \"sink-side\" (in the original graph). How does this value compare with the maximum flow? What can you now conclude about the flow you found? Give a short explanation."
      ]
    },
    {
      "cell_type": "markdown",
      "metadata": {
        "id": "poXKSkrJcTdE",
        "colab_type": "text"
      },
      "source": [
        "*"
      ]
    },
    {
      "cell_type": "markdown",
      "metadata": {
        "id": "1VBKC-XHcTdG",
        "colab_type": "text"
      },
      "source": [
        "## Part 2: Ford-Fulkerson using Python"
      ]
    },
    {
      "cell_type": "markdown",
      "metadata": {
        "id": "1__lkeTYcTdG",
        "colab_type": "text"
      },
      "source": [
        "You will now use Python to help you run the Ford-Fulkerson algorithm. This lab is meant to give you a flavor of Python. We hope that the comments in the code (the lines that start with `#`) are sufficient to give an idea of what the Python commands are doing --- you are not expected to be able to code this yourself from scratch. (If you major or minor in CS you will learn this soon enough.)\n",
        "\n",
        "Note that you can run Python code in this notebook by pressing Ctrl-Enter when you have highlighted the cell with the code you want to run. You can also press Shift-Enter, to run the code, and highlight the next cell.\n",
        "\n",
        "We start by defining the input in Python. We will use the package \"NetworkX\" to manipulate and display graphs. The nodes in our instance are numbered 1, 2, 3, 4, 5 and 6, and we want to find the Maximum Flow from node 1 to node 6.\n",
        "\n",
        "Read the code below, and run it."
      ]
    },
    {
      "cell_type": "code",
      "metadata": {
        "id": "RUmSAdnpcTdI",
        "colab_type": "code",
        "colab": {}
      },
      "source": [
        "# To use a package, we use the command \"import\" in Python\n",
        "import networkx as nx\n",
        "\n",
        "# G is directed graph \n",
        "G = nx.DiGraph() \n",
        "\n",
        "# We define G based on the edges, and the capacity on each edge.\n",
        "# This is one way of doing this in Python: we give a list of the endpoints of each edge and its capacity,\n",
        "# for instance, edge (1,2) is defined to have capacity 2, (1,3) capacity 5, etc.\n",
        "edgeList = [(1,2,2),(1,3,5),(2,4,1),(3,2,1),(3,5,3),(4,6,6),(5,2,1),(5,4,2),(5,6,1)]\n",
        "\n",
        "# We then create the graph based on this list.\n",
        "G.add_weighted_edges_from( edgeList, 'cap' )\n",
        "\n",
        "# Each edge will have a flow associated with it. At the start of the algorithm the flow on each edge is 0.\n",
        "# We initialize this by going through the edges in a for-loop, and then get the attribute 'flow' for this edge equal to 0.\n",
        "for i, j in G.edges:\n",
        "    G.edges[i,j]['flow'] = 0"
      ],
      "execution_count": null,
      "outputs": []
    },
    {
      "cell_type": "markdown",
      "metadata": {
        "id": "ZSq5k9aEJYE0",
        "colab_type": "text"
      },
      "source": [
        "Also pay attention to the white space in the code: in Python white space indentation is used to signal that these commands are part of the `for`-loop (right above it).  "
      ]
    },
    {
      "cell_type": "markdown",
      "metadata": {
        "id": "FFAD0iCDcTdQ",
        "colab_type": "text"
      },
      "source": [
        "The code above initializes the graph, but it does not display anything. Let's run some code that shows what we are doing --- run the code below."
      ]
    },
    {
      "cell_type": "code",
      "metadata": {
        "id": "v0QWSsIScTdQ",
        "colab_type": "code",
        "colab": {}
      },
      "source": [
        "# We want to display the graph --- let's give the computer the coordinates of the nodes we want.    \n",
        "pos = ((0,0),(0,10),(10,20),(10,0),(30,20),(30,0),(40,10))\n",
        "\n",
        "# And then we use NetworkX to draw the graph.\n",
        "nx.draw_networkx(G,pos,node_size=500,node_color='darkorange')"
      ],
      "execution_count": null,
      "outputs": []
    },
    {
      "cell_type": "markdown",
      "metadata": {
        "id": "25scIxv1cTdU",
        "colab_type": "text"
      },
      "source": [
        "As you can see, the flows and capacities are not displayed on the graph. To do this, you can run the following code."
      ]
    },
    {
      "cell_type": "code",
      "metadata": {
        "id": "JTWVy-QQcTdW",
        "colab_type": "code",
        "colab": {}
      },
      "source": [
        "# We create a label for each edge that will contain the string \"flow/cap\". \n",
        "label = {}\n",
        "for i, j in G.edges:\n",
        "    label[(i,j)] = str( G.edges[i,j][\"flow\"] ) + \" / \" + str( G.edges[i,j][\"cap\"] )\n",
        "    \n",
        "# Next we draw the graph again.    \n",
        "nx.draw_networkx(G,pos,node_size=500,node_color='darkorange')\n",
        "# And now add the labels to the edges.\n",
        "nx.draw_networkx_edge_labels(G,pos,edge_labels=label);"
      ],
      "execution_count": null,
      "outputs": []
    },
    {
      "cell_type": "markdown",
      "metadata": {
        "id": "f7N9odfvcTdc",
        "colab_type": "text"
      },
      "source": [
        "So this is the input that we want to run the Ford-Fulkerson algorithm on. As a reminder, every iteration of the algorithm works as follows:\n",
        "\n",
        "- Create the residual graph $G_x$ based on the current flow\n",
        "- Find a path in $G_x$ from $s$ to $t$ (here from 1 to 6)\n",
        "    * If a path exists, update the flow\n",
        "    * Otherwise you have found a Maximum Flow\n",
        "    \n",
        "So first we want to create the residual graph $G_x$. Recall that we create this graph by adding edges for which there is residual capacity (\"forward edges\"), and also adding edges in the reverse direction for which there is positive flow (\"backward edges\") with residual capacity equal to the flow on that edge.\n",
        "\n",
        "You will now implement this logic in the framework below. The framework is set up to iterate over the edges in the input graph, and you will add edges to the residual graph based on each of these edges, the flow of the edge and the capacity.\n",
        "\n",
        "The Python code for adding edge $(i,j)$ to the graph that is called \"residualGraph\" is\n",
        "\n",
        "`residualGraph.add_edge( i, j )`\n",
        "\n",
        "You can give the edge $(i,j)$ an attribute \"residual capacity\" with value 5 (for instance), using the code\n",
        "\n",
        "`residualGraph.edges[i,j][ \"residual capacity\" ] = 5`\n",
        "\n",
        "Please use the attribute \"residual capacity\" to denote the residual capacity on each edge, as this will be used to plot the residual graph. There is also the attribute \"forward edge\" that you need to set to `True` or `False`, depending on whether the edge you are adding to the residual graph is a forward edge (`True`) or a backward edge (`False`).\n",
        "\n",
        "### Q10. Finish the code below to create the residual graph."
      ]
    },
    {
      "cell_type": "code",
      "metadata": {
        "id": "e1XQHXsKcTdc",
        "colab_type": "code",
        "colab": {}
      },
      "source": [
        "# First we create the residual graph in Python.\n",
        "residualGraph = nx.DiGraph()\n",
        "\n",
        "# Next we iterate over all edges\n",
        "for i, j in G.edges:\n",
        "# We store the capacity of edge (i,j) in the variable c, and the flow in the variable f\n",
        "    c = G.edges[ i,j ]['cap']\n",
        "    f = G.edges[ i,j ]['flow'] \n",
        "    \n",
        "    if( c > f ):\n",
        "# UNCOMMENT AND FINISH THIS CODE \n",
        "#        residualGraph.add_edge( XXX, XXX )\n",
        "#        residualGraph.edges[ XXX, XXX ]['residual capacity'] = XXX\n",
        "#        residualGraph.edges[ XXX, XXX ]['forward edge'] = XXX \n",
        "# SOLUTION \n",
        "        residualGraph.add_edge( i, j )\n",
        "        residualGraph.edges[ i, j ]['residual capacity'] = c-f\n",
        "        residualGraph.edges[ i, j ]['forward edge'] = True \n",
        "# END SOLUTION \n",
        "    \n",
        "    if ( f > 0 ):\n",
        "# UNCOMMENT AND FINISH THIS CODE \n",
        "#        residualGraph.add_edge( XXX, XXX )\n",
        "#        residualGraph.edges[ XXX, XXX ]['residual capacity'] = XXX\n",
        "#        residualGraph.edges[ XXX, XXX ]['forward edge'] = XXX \n",
        "# SOLUTION \n",
        "        residualGraph.add_edge( j, i )\n",
        "        residualGraph.edges[ j, i ]['residual capacity'] = f\n",
        "        residualGraph.edges[ j, i ]['forward edge'] = False \n",
        "# END SOLUTION \n"
      ],
      "execution_count": null,
      "outputs": []
    },
    {
      "cell_type": "markdown",
      "metadata": {
        "id": "l5vBpi9vcTdg",
        "colab_type": "text"
      },
      "source": [
        "We would like to make sure our code is working as expected, so let's plot the residual graph."
      ]
    },
    {
      "cell_type": "code",
      "metadata": {
        "id": "rtSiP3OzcTdi",
        "colab_type": "code",
        "colab": {}
      },
      "source": [
        "nx.draw_networkx(residualGraph,pos,node_size=500,node_color='limegreen',connectionstyle='arc3, rad=0.1')\n",
        "residualcap = nx.get_edge_attributes( residualGraph, 'residual capacity' )        \n",
        "nx.draw_networkx_edge_labels(residualGraph,pos,edge_labels=residualcap,label_pos=0.66);"
      ],
      "execution_count": null,
      "outputs": []
    },
    {
      "cell_type": "markdown",
      "metadata": {
        "id": "JjU-TI53cTdm",
        "colab_type": "text"
      },
      "source": [
        "The nodes are drawn in green as an visual reminder that we are looking at the residual graph. Also, the edges are drawn with a slight bend, because we know there will often be both an arc $(i,j)$ and $(j,i)$ in the residual graph. The residual capacities are given closer to the tail of the edges than the head, again, because there will often be two edges between $i$ and $j$.\n",
        "\n",
        "Let's now do an iteration of Ford-Fulkerson. \n",
        "\n",
        "### Q11. Find a path from 1 to 6 in the residual graph, and define delta to be the minimum residual capacity of the edges in this path.\n",
        "\n",
        "You can define a path in Python by listing the edges in the path as follows:\n",
        "\n",
        "`path = [(1,2),(2,3)]` \n",
        "\n",
        "defines the path with edges (1,2) and (2,3)."
      ]
    },
    {
      "cell_type": "code",
      "metadata": {
        "id": "cncJKFGMcTdn",
        "colab_type": "code",
        "colab": {}
      },
      "source": [
        "# UNCOMMENT AND FINISH THIS CODE\n",
        "\n",
        "#flowpath = []\n",
        "#delta = \n",
        "\n",
        "#SOLUTION\n",
        "flowpath = [(1,3),(3,5),(5,6)]\n",
        "delta = 1"
      ],
      "execution_count": null,
      "outputs": []
    },
    {
      "cell_type": "markdown",
      "metadata": {
        "id": "A5ji3iTfcTdr",
        "colab_type": "text"
      },
      "source": [
        "### Q12. Let's update the flow according to what you found above. \n",
        "\n",
        "Recall that updating the flow in $G$ is different for edges that correspond to forward edges in the residual graph, and edges that correspond to backward edges. "
      ]
    },
    {
      "cell_type": "code",
      "metadata": {
        "id": "VtiEXiDJcTdt",
        "colab_type": "code",
        "colab": {}
      },
      "source": [
        "for i, j in flowpath:\n",
        "    if residualGraph.edges[i,j]['forward edge']:\n",
        "# UNCOMMENT AND FINISH THIS CODE\n",
        "#        G.edges[i,j]['flow'] = G.edges[i,j]['flow'] + XXX\n",
        "#SOLUTION\n",
        "        G.edges[i,j]['flow'] = G.edges[i,j]['flow'] + delta\n",
        "#ENDSOLUTION\n",
        "    else:\n",
        "# UNCOMMENT AND FINISH THIS CODE\n",
        "#        G.edges[i,j]['flow'] = G.edges[i,j]['flow'] + XXX\n",
        "#SOLUTION\n",
        "        G.edges[i,j]['flow'] = G.edges[i,j]['flow'] - delta\n",
        "#ENDSOLUTION"
      ],
      "execution_count": null,
      "outputs": []
    },
    {
      "cell_type": "markdown",
      "metadata": {
        "id": "i9lj4yTkcTdy",
        "colab_type": "text"
      },
      "source": [
        "### Q13. Let's plot the graph with the current flow --- copy the code for plotting the graph from above, and run it."
      ]
    },
    {
      "cell_type": "code",
      "metadata": {
        "id": "Y4VLJeNTcTdy",
        "colab_type": "code",
        "colab": {}
      },
      "source": [
        "#SOLUTION\n",
        "label = {}\n",
        "for i, j in G.edges:\n",
        "    label[(i,j)] = str( G.edges[i,j]['flow'] ) + \" / \" + str( G.edges[i,j]['cap'] )\n",
        "nx.draw_networkx(G,pos,node_size=500,node_color='darkorange')\n",
        "nx.draw_networkx_edge_labels(G,pos,edge_labels=label);\n",
        "#ENDSOLUTION"
      ],
      "execution_count": null,
      "outputs": []
    },
    {
      "cell_type": "markdown",
      "metadata": {
        "id": "URnoHJtxcTd2",
        "colab_type": "text"
      },
      "source": [
        "This concludes the first iteration of the Ford-Fulkerson Algorithm! Let's do this again, but instead of copy-pasting code we want to reuse, let's make them into \"function\". You can do this in Python using the command \"def\". As an example, let's define a function to plot the graph with the current flow, called PlotFlow():"
      ]
    },
    {
      "cell_type": "code",
      "metadata": {
        "id": "6New4bn4cTd3",
        "colab_type": "code",
        "colab": {}
      },
      "source": [
        "def PlotFlow():\n",
        "    label = {}\n",
        "    for i, j in G.edges:\n",
        "        label[(i,j)] = str( G.edges[i,j][\"flow\"] ) + \" / \" + str( G.edges[i,j][\"cap\"] )\n",
        "    nx.draw_networkx(G,pos,node_size=500,node_color='darkorange')\n",
        "    nx.draw_networkx_edge_labels(G,pos,edge_labels=label);"
      ],
      "execution_count": null,
      "outputs": []
    },
    {
      "cell_type": "markdown",
      "metadata": {
        "id": "3GTyno-TcTd8",
        "colab_type": "text"
      },
      "source": [
        "After running the code in the cell above, it now suffices to just type\n",
        "\n",
        "`PlotFlow()`\n",
        "\n",
        "to see the current flow.\n",
        "\n",
        "### Q14. Try this in the next cell."
      ]
    },
    {
      "cell_type": "code",
      "metadata": {
        "id": "vgtYvYS4cTd9",
        "colab_type": "code",
        "colab": {}
      },
      "source": [
        "#SOLUTION\n",
        "PlotFlow()\n",
        "#ENDSOLUTION"
      ],
      "execution_count": null,
      "outputs": []
    },
    {
      "cell_type": "markdown",
      "metadata": {
        "id": "YtdvijC7cTeB",
        "colab_type": "text"
      },
      "source": [
        "Great! Let's do the same thing for plotting the residual graph. \n",
        "\n",
        "### Q15. Finish the code below, by copying the appropriate code from cells above. \n",
        "\n",
        "The function should first determine the residual graph, and then plot it. (The declaration `global residualGraph` is there to make sure that the variable residualGraph in the workbook is updated, and not just a new variable that only exists inside the function.)"
      ]
    },
    {
      "cell_type": "code",
      "metadata": {
        "id": "ThGEYenicTeB",
        "colab_type": "code",
        "colab": {}
      },
      "source": [
        "def PlotResidualGraph():\n",
        "\n",
        "    global residualGraph\n",
        "    \n",
        "    #FINISH CODE\n",
        "\n",
        "#SOLUTION\n",
        "    residualGraph = nx.DiGraph()\n",
        "\n",
        "    # Next we iterate over all edges\n",
        "    for i, j in G.edges:\n",
        "    # We store the capacity of edge (i,j) in the variable c, and the flow in the variable f\n",
        "        c = G.edges[ i,j ]['cap']\n",
        "        f = G.edges[ i,j ]['flow'] \n",
        "\n",
        "        if( c > f ):\n",
        "            residualGraph.add_edge( i, j )\n",
        "            residualGraph.edges[i,j]['residual capacity'] = c - f\n",
        "            residualGraph.edges[i,j]['forward edge'] = True \n",
        "\n",
        "        if ( f > 0 ):\n",
        "            residualGraph.add_edge( j, i )\n",
        "            residualGraph.edges[j,i]['residual capacity'] = f\n",
        "            residualGraph.edges[j,i]['forward edge'] = False \n",
        "\n",
        "    nx.draw_networkx(residualGraph,pos,node_size=500,node_color='limegreen',connectionstyle='arc3, rad=0.1')\n",
        "    residualcap = nx.get_edge_attributes( residualGraph, 'residual capacity' )        \n",
        "    nx.draw_networkx_edge_labels(residualGraph,pos,edge_labels=residualcap,label_pos=0.66);\n",
        "#ENDSOLUTION"
      ],
      "execution_count": null,
      "outputs": []
    },
    {
      "cell_type": "code",
      "metadata": {
        "id": "7do4YAoKcTeF",
        "colab_type": "code",
        "colab": {}
      },
      "source": [
        "PlotResidualGraph()"
      ],
      "execution_count": null,
      "outputs": []
    },
    {
      "cell_type": "markdown",
      "metadata": {
        "id": "C9L9XJQZNMgM",
        "colab_type": "text"
      },
      "source": [
        "As a reminder: The residual capacities are given closer to the tail of the edges than the head, again, because there will often be two edges between $i$ and $j$.\n"
      ]
    },
    {
      "cell_type": "markdown",
      "metadata": {
        "id": "XU0c3TXRcTeJ",
        "colab_type": "text"
      },
      "source": [
        "### Q16. Find another 1 to 6 path in the residual graph, and find the minimum residual capacity of the edges on this path."
      ]
    },
    {
      "cell_type": "code",
      "metadata": {
        "id": "WXpNxnd5cTeK",
        "colab_type": "code",
        "colab": {}
      },
      "source": [
        "# UNCOMMENT AND FINISH THIS CODE\n",
        "#flowpath = []\n",
        "#delta = \n",
        "\n",
        "#SOLUTION\n",
        "flowpath = [(1,2),(2,4),(4,6)]\n",
        "delta = 1\n",
        "#ENDSOLUTION"
      ],
      "execution_count": null,
      "outputs": []
    },
    {
      "cell_type": "markdown",
      "metadata": {
        "id": "p9udBRBAcTeN",
        "colab_type": "text"
      },
      "source": [
        "And now let's update the flow again. Let's make another function to do this.\n",
        "\n",
        "### Q17. Copy your code from Q12 to create a function that updates the flow according to the variables flowpath and delta"
      ]
    },
    {
      "cell_type": "code",
      "metadata": {
        "id": "4SdnNSgycTeO",
        "colab_type": "code",
        "colab": {}
      },
      "source": [
        "def UpdateFlow():\n",
        "    \n",
        "#SOLUTION\n",
        "    for i, j in flowpath:\n",
        "        if residualGraph.edges[i,j]['forward edge']:\n",
        "            G.edges[i,j]['flow'] = G.edges[i,j]['flow'] + delta\n",
        "        else:\n",
        "            G.edges[i,j]['flow'] = G.edges[i,j]['flow'] - delta\n",
        "#ENDSOLUTION"
      ],
      "execution_count": null,
      "outputs": []
    },
    {
      "cell_type": "markdown",
      "metadata": {
        "id": "NcjvDy1TcTeS",
        "colab_type": "text"
      },
      "source": [
        "And let's run it."
      ]
    },
    {
      "cell_type": "code",
      "metadata": {
        "id": "HclRSBKScTeS",
        "colab_type": "code",
        "colab": {}
      },
      "source": [
        "UpdateFlow()"
      ],
      "execution_count": null,
      "outputs": []
    },
    {
      "cell_type": "markdown",
      "metadata": {
        "id": "Uz86KsuGcTeW",
        "colab_type": "text"
      },
      "source": [
        "And let's view it."
      ]
    },
    {
      "cell_type": "code",
      "metadata": {
        "id": "EEOoAbXGcTeX",
        "colab_type": "code",
        "colab": {}
      },
      "source": [
        "PlotFlow()"
      ],
      "execution_count": null,
      "outputs": []
    },
    {
      "cell_type": "markdown",
      "metadata": {
        "id": "3hDKkgHccTea",
        "colab_type": "text"
      },
      "source": [
        "And let's do another iteration."
      ]
    },
    {
      "cell_type": "code",
      "metadata": {
        "id": "FeEbamSacTeb",
        "colab_type": "code",
        "colab": {}
      },
      "source": [
        "PlotResidualGraph()"
      ],
      "execution_count": null,
      "outputs": []
    },
    {
      "cell_type": "markdown",
      "metadata": {
        "id": "h_-cOBdlcTee",
        "colab_type": "text"
      },
      "source": [
        "### Q18. Find another path."
      ]
    },
    {
      "cell_type": "code",
      "metadata": {
        "id": "Svf9mU-KcTef",
        "colab_type": "code",
        "colab": {}
      },
      "source": [
        "# UNCOMMENT AND FINISH THIS CODE\n",
        "#flowpath = []\n",
        "#delta = \n",
        "\n",
        "#SOLUTION\n",
        "flowpath = [(1,3),(3,5),(5,4),(4,6)]\n",
        "delta = 2\n",
        "#ENDSOLUTION"
      ],
      "execution_count": null,
      "outputs": []
    },
    {
      "cell_type": "code",
      "metadata": {
        "id": "rRN1bC1-cTej",
        "colab_type": "code",
        "colab": {}
      },
      "source": [
        "UpdateFlow()"
      ],
      "execution_count": null,
      "outputs": []
    },
    {
      "cell_type": "code",
      "metadata": {
        "id": "k4JMII04cTem",
        "colab_type": "code",
        "colab": {}
      },
      "source": [
        "PlotFlow()"
      ],
      "execution_count": null,
      "outputs": []
    },
    {
      "cell_type": "code",
      "metadata": {
        "id": "-uXVBDy5cTeo",
        "colab_type": "code",
        "colab": {}
      },
      "source": [
        "PlotResidualGraph()"
      ],
      "execution_count": null,
      "outputs": []
    },
    {
      "cell_type": "markdown",
      "metadata": {
        "id": "wQYXgnJMcTer",
        "colab_type": "text"
      },
      "source": [
        "Did we find an optimal flow? \n",
        "\n",
        "If you did the previous iterations correctly, there is no longer a path from 1 to 6 in the residual graph. Recall that this means that the flow is optimal, and you can show this by exhibiting a cut that has capacity equal to the flow value. This cut can be found using a \"Labeling algorithm\" that maintains a list of\n",
        "checked nodes that it still needs to process. \n",
        "\n",
        "### Labeling algorithm \n",
        "- Mark $s$ with a $\\checkmark$. Let the list initially contain just node $s$.\n",
        "- Until the list is empty:\n",
        "    * Take any node (e.g., the first one) off of the list. Suppose that $i$ is the name of this node. For each arc leaving $i$, that is, each $(i,j) \\in E_x$, if $j$ is unchecked, check it and add it to the list.\n",
        "\n",
        "The nodes that have been checked are those nodes that are reachable from $s$ by a path in $G_x$.\n",
        "\n",
        "Let's implement this \"labeling algorithm\"."
      ]
    },
    {
      "cell_type": "code",
      "metadata": {
        "id": "FSvkrx_ccTes",
        "colab_type": "code",
        "colab": {}
      },
      "source": [
        "# we first make all nodes except node 1 unchecked\n",
        "for i in G.nodes:\n",
        "    G.nodes[i][\"check\"] = False\n",
        "G.nodes[1][\"check\"] = True\n",
        "\n",
        "# then we initialize the list of checked nodes that we still need to process (this is actually implemented as a set) \n",
        "list = { 1 }\n",
        "\n",
        "# until the list is empty\n",
        "while ( len( list ) > 0 ):\n",
        "# take any node off of the list\n",
        "    i = list.pop()\n",
        "# for each arc leaving i, that is (i,j) in the edge set of the residual graph\n",
        "    for j in residualGraph.neighbors(i):\n",
        "# if j is unchecked        \n",
        "        if not G.nodes[j][\"check\"]:\n",
        "# check it\n",
        "            G.nodes[j][\"check\"] = True\n",
        "# and add it to the list\n",
        "            list.add( j )\n",
        "\n",
        "# finally we output the checked nodes\n",
        "for i in G.nodes:\n",
        "    if G.nodes[i][\"check\"]:\n",
        "        print( i )"
      ],
      "execution_count": null,
      "outputs": []
    },
    {
      "cell_type": "markdown",
      "metadata": {
        "id": "EXP9OuyEcTev",
        "colab_type": "text"
      },
      "source": [
        "### Q19. What is the cut that the \"labeling algorithm\" finds? What is the capacity of the cut?"
      ]
    },
    {
      "cell_type": "markdown",
      "metadata": {
        "id": "exEFLDyncTew",
        "colab_type": "text"
      },
      "source": [
        "*"
      ]
    },
    {
      "cell_type": "markdown",
      "metadata": {
        "id": "siEWCZuMcTew",
        "colab_type": "text"
      },
      "source": [
        "## Part 3: Implementing the full algorithm"
      ]
    },
    {
      "cell_type": "markdown",
      "metadata": {
        "id": "hzfOGrlLcTex",
        "colab_type": "text"
      },
      "source": [
        "We can modify the code to find a path in the residual graph if there is one, by keeping track of the node $i$ we came from when we first check a node $j$. We can do this by adding another attribute to the nodes, called \"prev\", and defining this in the algorithm. As soon as we encounter node 6 we can backtrack using \"prev\" to find the path.\n",
        "\n",
        "### Q20. Modify the code to include this idea.\n",
        "Add the missing line in the following function."
      ]
    },
    {
      "cell_type": "code",
      "metadata": {
        "id": "DVLLcy3GcTex",
        "colab_type": "code",
        "colab": {}
      },
      "source": [
        "def LabelingAlgorithm():\n",
        "# we first make all nodes except node 1 unchecked\n",
        "    for i in G.nodes:\n",
        "        G.nodes[i][\"check\"] = False\n",
        "        G.nodes[i][\"prev\"] = None\n",
        "    G.nodes[1][\"check\"] = True\n",
        "\n",
        "# then we initialize the list of checked nodes that we still need to process (this is actually implemented as a set) \n",
        "    list = { 1 }\n",
        "\n",
        "# until the list is empty\n",
        "    while ( len( list ) > 0 ):\n",
        "# take any node off of the list\n",
        "        i = list.pop()\n",
        "# for each arc leaving i, that is (i,j) in the edge set of the residual graph\n",
        "        for j in residualGraph.neighbors(i):\n",
        "# if j is unchecked        \n",
        "            if not G.nodes[j][\"check\"]:\n",
        "# check it\n",
        "                G.nodes[j][\"check\"] = True\n",
        "# set the attribute prev\n",
        "                # ADD CODE HERE\n",
        "\n",
        "#SOLUTION\n",
        "                G.nodes[j][\"prev\"] = i\n",
        "#ENDSOLUTION\n",
        "# and add it to the list\n",
        "                list.add( j )"
      ],
      "execution_count": null,
      "outputs": []
    },
    {
      "cell_type": "markdown",
      "metadata": {
        "id": "mfdg1FWDcTe2",
        "colab_type": "text"
      },
      "source": [
        "Let's start with the same graph again."
      ]
    },
    {
      "cell_type": "code",
      "metadata": {
        "id": "nqyMEGgwcTe2",
        "colab_type": "code",
        "colab": {}
      },
      "source": [
        "G = nx.DiGraph() \n",
        "\n",
        "# We define G based on the edges, and the capacity on each edge.\n",
        "# This is one way of doing this in Python: we give a list of the endpoints of each edge and its capacity,\n",
        "# for instance, edge (1,2) is defined to have capacity 2, (1,3) capacity 5, etc.\n",
        "edgeList = [(1,2,2),(1,3,5),(2,4,1),(3,2,1),(3,5,3),(4,6,6),(5,2,1),(5,4,2),(5,6,1)]\n",
        "\n",
        "# We then create the graph based on this list.\n",
        "G.add_weighted_edges_from( edgeList, 'cap' )\n",
        "\n",
        "# Each edge will have a flow associated with it. At the start of the algorithm the flow on each edge is 0.\n",
        "# We initialize this by going through the edges in a for-loop, and then get the attribute 'flow' for this edge equal to 0.\n",
        "for i, j in G.edges:\n",
        "    G.edges[i,j]['flow'] = 0"
      ],
      "execution_count": null,
      "outputs": []
    },
    {
      "cell_type": "markdown",
      "metadata": {
        "id": "4v2VwLubcTe5",
        "colab_type": "text"
      },
      "source": [
        "And let's have a look if we did everything right, by plotting the flow and the residual graph."
      ]
    },
    {
      "cell_type": "code",
      "metadata": {
        "id": "ApcFRQDJcTe7",
        "colab_type": "code",
        "colab": {}
      },
      "source": [
        "PlotFlow()"
      ],
      "execution_count": null,
      "outputs": []
    },
    {
      "cell_type": "code",
      "metadata": {
        "id": "kUoVCT52cTe-",
        "colab_type": "code",
        "colab": {}
      },
      "source": [
        "PlotResidualGraph()"
      ],
      "execution_count": null,
      "outputs": []
    },
    {
      "cell_type": "markdown",
      "metadata": {
        "id": "EmxoTdJOcTfB",
        "colab_type": "text"
      },
      "source": [
        "Run the labeling algorithm."
      ]
    },
    {
      "cell_type": "code",
      "metadata": {
        "id": "xIsy5RkJcTfB",
        "colab_type": "code",
        "colab": {}
      },
      "source": [
        "LabelingAlgorithm()"
      ],
      "execution_count": null,
      "outputs": []
    },
    {
      "cell_type": "markdown",
      "metadata": {
        "id": "bCynevo2cTfD",
        "colab_type": "text"
      },
      "source": [
        "We can now use the atribute \"check\" to see whether node 6 is reachable from node 1 in the residual graph.\n",
        "\n",
        "### Q21. Print the attribute \"check\" of node 6."
      ]
    },
    {
      "cell_type": "code",
      "metadata": {
        "id": "53VOEhpTcTfD",
        "colab_type": "code",
        "colab": {}
      },
      "source": [
        "#SOLUTION\n",
        "print( G.nodes[6][\"check\"] )"
      ],
      "execution_count": null,
      "outputs": []
    },
    {
      "cell_type": "markdown",
      "metadata": {
        "id": "TSk8J4nvcTfG",
        "colab_type": "text"
      },
      "source": [
        "Let's use the \"prev\" attribute to find a path from 1 to 6 in the residual graph."
      ]
    },
    {
      "cell_type": "code",
      "metadata": {
        "id": "_5f6j2TLcTfG",
        "colab_type": "code",
        "colab": {}
      },
      "source": [
        "j = 6\n",
        "flowpath = []\n",
        "while j != 1:\n",
        "    i = G.nodes[j][\"prev\"]\n",
        "    flowpath.insert( 0, (i,j) )\n",
        "    j = i\n",
        "print( flowpath )"
      ],
      "execution_count": null,
      "outputs": []
    },
    {
      "cell_type": "markdown",
      "metadata": {
        "id": "LkxaLiNtcTfK",
        "colab_type": "text"
      },
      "source": [
        "And let's find the minimum residual capacity on this path. You can use ```math.min(a,b)``` to get the minimum of the numbers ```a``` and ```b```. A nice trick is starting off by defining delta to be ```math.inf```.\n",
        "\n",
        "### Q22. Finish the code below to find the minimum residual capacity on path."
      ]
    },
    {
      "cell_type": "code",
      "metadata": {
        "id": "P-ZSGlbDcTfK",
        "colab_type": "code",
        "colab": {}
      },
      "source": [
        "import math\n",
        "\n",
        "delta = math.inf\n",
        "for i, j in flowpath:\n",
        "# UNCOMMENT AND FINISH THIS CODE\n",
        "#    delta = min( XXX, XXX )\n",
        "#SOLUTION\n",
        "    delta = min( delta, residualGraph.edges[i,j]['residual capacity'] )\n",
        "#ENDSOLUTION\n",
        "\n",
        "print( delta )"
      ],
      "execution_count": null,
      "outputs": []
    },
    {
      "cell_type": "markdown",
      "metadata": {
        "id": "joOCQlFccTfM",
        "colab_type": "text"
      },
      "source": [
        "Now we can use the function defined earlier to update the flow!"
      ]
    },
    {
      "cell_type": "code",
      "metadata": {
        "id": "j3xCKYr-cTfN",
        "colab_type": "code",
        "colab": {}
      },
      "source": [
        "UpdateFlow()\n",
        "PlotFlow()"
      ],
      "execution_count": null,
      "outputs": []
    },
    {
      "cell_type": "code",
      "metadata": {
        "id": "esSSPYudcTfQ",
        "colab_type": "code",
        "colab": {}
      },
      "source": [
        "PlotResidualGraph()"
      ],
      "execution_count": null,
      "outputs": []
    },
    {
      "cell_type": "markdown",
      "metadata": {
        "id": "f-TdlBtscTfR",
        "colab_type": "text"
      },
      "source": [
        "Let's run the labelling algorithm again."
      ]
    },
    {
      "cell_type": "code",
      "metadata": {
        "id": "EK-MFbdrcTfS",
        "colab_type": "code",
        "colab": {}
      },
      "source": [
        "LabelingAlgorithm()"
      ],
      "execution_count": null,
      "outputs": []
    },
    {
      "cell_type": "markdown",
      "metadata": {
        "id": "ldvEa3YacTfV",
        "colab_type": "text"
      },
      "source": [
        "And show the path --- let's make a function to do this.\n",
        "\n",
        "### Q23. Finish the code by copy and pasting code from earlier in this workbook."
      ]
    },
    {
      "cell_type": "code",
      "metadata": {
        "id": "jjYT_fKMcTfW",
        "colab_type": "code",
        "colab": {}
      },
      "source": [
        "def PrintPathAndDelta():\n",
        "    global flowpath, delta\n",
        "    \n",
        "    # FINISH THIS CODE \n",
        "\n",
        "#SOLUTION\n",
        "    j = 6\n",
        "    flowpath = []\n",
        "    while j != 1:\n",
        "        i = G.nodes[j][\"prev\"]\n",
        "        flowpath.insert( 0, (i,j) )\n",
        "        j = i\n",
        "    print( flowpath )\n",
        "    \n",
        "    delta = math.inf\n",
        "    for i, j in flowpath:\n",
        "        delta = min( delta, residualGraph.edges[i,j]['residual capacity'] )\n",
        "\n",
        "    print( delta )"
      ],
      "execution_count": null,
      "outputs": []
    },
    {
      "cell_type": "markdown",
      "metadata": {
        "id": "tQJO9Bt_cTfY",
        "colab_type": "text"
      },
      "source": [
        "And let's run it!"
      ]
    },
    {
      "cell_type": "code",
      "metadata": {
        "id": "vKAt76N2cTfZ",
        "colab_type": "code",
        "colab": {}
      },
      "source": [
        "PrintPathAndDelta()"
      ],
      "execution_count": null,
      "outputs": []
    },
    {
      "cell_type": "markdown",
      "metadata": {
        "id": "xblHSCCdcTfc",
        "colab_type": "text"
      },
      "source": [
        "Let's update the flow again."
      ]
    },
    {
      "cell_type": "code",
      "metadata": {
        "id": "4QaoiMthcTfc",
        "colab_type": "code",
        "colab": {}
      },
      "source": [
        "UpdateFlow()\n",
        "PlotFlow()"
      ],
      "execution_count": null,
      "outputs": []
    },
    {
      "cell_type": "code",
      "metadata": {
        "id": "xLNMy_aRcTfe",
        "colab_type": "code",
        "colab": {}
      },
      "source": [
        "PlotResidualGraph()"
      ],
      "execution_count": null,
      "outputs": []
    },
    {
      "cell_type": "markdown",
      "metadata": {
        "id": "_zNjfih7cTfg",
        "colab_type": "text"
      },
      "source": [
        "You're probably getting a bit sick from pressing Ctrl-Enter every time. Let's automate the procedure!"
      ]
    },
    {
      "cell_type": "code",
      "metadata": {
        "id": "S2FcrQfZcTfi",
        "colab_type": "code",
        "colab": {}
      },
      "source": [
        "G = nx.DiGraph() \n",
        "edgeList = [(1,2,2),(1,3,5),(2,4,1),(3,2,1),(3,5,3),(4,6,6),(5,2,1),(5,4,2),(5,6,1)]\n",
        "G.add_weighted_edges_from( edgeList, 'cap' )\n",
        "for i, j in G.edges:\n",
        "    G.edges[i,j]['flow'] = 0\n",
        "\n",
        "PlotResidualGraph()\n",
        "LabelingAlgorithm()\n",
        "while G.nodes[6][\"check\"]:\n",
        "    PrintPathAndDelta()\n",
        "    UpdateFlow()\n",
        "    PlotResidualGraph()\n",
        "    LabelingAlgorithm()"
      ],
      "execution_count": null,
      "outputs": []
    },
    {
      "cell_type": "markdown",
      "metadata": {
        "id": "MW-ce1NwcTfl",
        "colab_type": "text"
      },
      "source": [
        "Let's have a look at the maximum flow."
      ]
    },
    {
      "cell_type": "code",
      "metadata": {
        "id": "R8DC2VDWcTfl",
        "colab_type": "code",
        "colab": {}
      },
      "source": [
        "PlotFlow()"
      ],
      "execution_count": null,
      "outputs": []
    },
    {
      "cell_type": "markdown",
      "metadata": {
        "id": "kb4TekNdcTf0",
        "colab_type": "text"
      },
      "source": [
        "And let's also display the cut.\n",
        "\n",
        "### Q24. Use the code from earlier to print the nodes that are \"checked\"."
      ]
    },
    {
      "cell_type": "code",
      "metadata": {
        "id": "9VywzJfzcTf0",
        "colab_type": "code",
        "colab": {}
      },
      "source": [
        "#SOLUTION\n",
        "for i in G.nodes:\n",
        "    if G.nodes[i][\"check\"]:\n",
        "        print( i )"
      ],
      "execution_count": null,
      "outputs": []
    },
    {
      "cell_type": "markdown",
      "metadata": {
        "id": "OmXmdV9FcTf4",
        "colab_type": "text"
      },
      "source": [
        "You now have implemented the Ford-Fulkerson algorithm in Python! With a few more tweaks you could use this on any graph."
      ]
    },
    {
      "cell_type": "markdown",
      "metadata": {
        "id": "RzYirUzccTf4",
        "colab_type": "text"
      },
      "source": [
        "### Challenge problem \n",
        "\n",
        "### You have seen all the ingredients necessary to also implement Dijkstra's algorithm for the Shortest Path Problem. Try and implement this algorithm now."
      ]
    },
    {
      "cell_type": "code",
      "metadata": {
        "id": "pstd9AE_cTf5",
        "colab_type": "code",
        "colab": {}
      },
      "source": [
        ""
      ],
      "execution_count": null,
      "outputs": []
    }
  ]
}