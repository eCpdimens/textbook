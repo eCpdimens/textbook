{
 "cells": [
  {
   "cell_type": "code",
   "execution_count": null,
   "metadata": {},
   "outputs": [],
   "source": [
    "from ortools.linear_solver import pywraplp as OR"
   ]
  },
  {
   "cell_type": "code",
   "execution_count": null,
   "metadata": {},
   "outputs": [],
   "source": [
    "def oil_production(integer = False):\n",
    "    \"\"\"A linear program for solving an oil production problem.\"\"\"\n",
    "    # define the model\n",
    "    m = OR.Solver('oil_production', OR.Solver.CBC_MIXED_INTEGER_PROGRAMMING)\n",
    "\n",
    "    # decision variables\n",
    "    proc = {i: m.NumVar(0, m.infinity(), 'proc_'+str(i)) for i in range(1,4)}\n",
    "    crude = {i: m.NumVar(0, m.infinity(), 'crude_'+str(i)) for i in range(1,3)}\n",
    "    gas = {i: m.NumVar(0, m.infinity(), 'gas_'+str(i)) for i in range(1,4)}\n",
    "\n",
    "    # objective function\n",
    "    m.Maximize((9*gas[1] + 10*gas[2] + 24*gas[3])     # revenue from selling\n",
    "               - (2*crude[1] + 3*crude[2])            # cost of crude oil\n",
    "               - (5*proc[1] + 4*proc[2] + 1*proc[3])) # cost of running processes\n",
    "\n",
    "    # subject to: extra decison variables definitions\n",
    "    m.Add(crude[1] == 2*proc[1] + proc[2])\n",
    "    m.Add(crude[2] == 3*proc[1] + 3*proc[2] + 2*proc[3])\n",
    "    m.Add(gas[1] == 2*proc[1])\n",
    "    m.Add(gas[2] == 1*proc[1] + 3*proc[2] - 3*proc[3])\n",
    "    m.Add(gas[3] == 2*proc[3])\n",
    "\n",
    "    # subject to: supply of oil\n",
    "    m.Add(crude[1] <= 200)\n",
    "    m.Add(crude[2] <= 300)\n",
    "\n",
    "    # subject to: time limit\n",
    "    m.Add(proc[1] + proc[2] + proc[3] <= 95);\n",
    "    \n",
    "    return m, m.variables()"
   ]
  },
  {
   "cell_type": "code",
   "execution_count": null,
   "metadata": {},
   "outputs": [],
   "source": [
    "def solve(m):\n",
    "    m.Solve()\n",
    "    print('Solution:')\n",
    "    print('Objective value =', m.Objective().Value())\n",
    "    for var in m.variables():\n",
    "        print(var.name(), ':',  var.solution_value())"
   ]
  },
  {
   "cell_type": "code",
   "execution_count": null,
   "metadata": {},
   "outputs": [],
   "source": [
    "m,x = oil_production()\n",
    "solve(m)"
   ]
  }
 ],
 "metadata": {
  "language_info": {
   "name": "python"
  }
 },
 "nbformat": 4,
 "nbformat_minor": 4
}
