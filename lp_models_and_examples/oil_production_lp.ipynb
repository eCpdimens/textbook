{
 "cells": [
  {
   "cell_type": "code",
   "execution_count": 1,
   "metadata": {},
   "outputs": [],
   "source": [
    "from ortools.linear_solver import pywraplp as OR"
   ]
  },
  {
   "cell_type": "code",
   "execution_count": 2,
   "metadata": {},
   "outputs": [],
   "source": [
    "def oil_production(integer = False):\n",
    "    \"\"\"A linear program for solving an oil production problem.\"\"\"\n",
    "    m = OR.Solver('oil_production', OR.Solver.CBC_MIXED_INTEGER_PROGRAMMING)\n",
    "\n",
    "    # decision variables\n",
    "    proc = {i: m.NumVar(0, m.infinity(), 'proc_'+str(i)) for i in range(1,4)}\n",
    "    crude = {i: m.NumVar(0, m.infinity(), 'crude_'+str(i)) for i in range(1,3)}\n",
    "    gas = {i: m.NumVar(0, m.infinity(), 'gas_'+str(i)) for i in range(1,4)}\n",
    "\n",
    "    # objective function\n",
    "    m.Maximize((9*gas[1] + 10*gas[2] + 24*gas[3])     # revenue from selling\n",
    "               - (2*crude[1] + 3*crude[2])            # cost of crude oil\n",
    "               - (5*proc[1] + 4*proc[2] + 1*proc[3])) # cost of running processes\n",
    "\n",
    "    # enforce the extra decison variables to represent what we want\n",
    "    m.Add(crude[1] == 2*proc[1] + proc[2])\n",
    "    m.Add(crude[2] == 3*proc[1] + 3*proc[2] + 2*proc[3])\n",
    "    m.Add(gas[1] == 2*proc[1])\n",
    "    m.Add(gas[2] == 1*proc[1] + 3*proc[2] - 3*proc[3])\n",
    "    m.Add(gas[3] == 2*proc[3])\n",
    "\n",
    "    # limit of oil that can bee purchased\n",
    "    m.Add(crude[1] <= 200)\n",
    "    m.Add(crude[2] <= 300)\n",
    "\n",
    "    # time limit\n",
    "    m.Add(proc[1] + proc[2] + proc[3] <= 95);\n",
    "    \n",
    "    return m"
   ]
  },
  {
   "cell_type": "code",
   "execution_count": 3,
   "metadata": {},
   "outputs": [],
   "source": [
    "def solve(m):\n",
    "    m.Solve()\n",
    "    print('Solution:')\n",
    "    print('Objective value =', m.Objective().Value())\n",
    "    for var in m.variables():\n",
    "        print(var.name(), ':',  var.solution_value())"
   ]
  },
  {
   "cell_type": "code",
   "execution_count": 4,
   "metadata": {},
   "outputs": [
    {
     "name": "stdout",
     "output_type": "stream",
     "text": [
      "Solution:\n",
      "Objective value = 1424.9999999999998\n",
      "proc_1 : 0.0\n",
      "proc_2 : 95.0\n",
      "proc_3 : 0.0\n",
      "crude_1 : 95.00000000000001\n",
      "crude_2 : 285.00000000000006\n",
      "gas_1 : 0.0\n",
      "gas_2 : 285.0\n",
      "gas_3 : 0.0\n"
     ]
    }
   ],
   "source": [
    "m = oil_production()\n",
    "solve(m)"
   ]
  }
 ],
 "metadata": {
  "kernelspec": {
   "display_name": "Python 3",
   "language": "python",
   "name": "python3"
  },
  "language_info": {
   "codemirror_mode": {
    "name": "ipython",
    "version": 3
   },
   "file_extension": ".py",
   "mimetype": "text/x-python",
   "name": "python",
   "nbconvert_exporter": "python",
   "pygments_lexer": "ipython3",
   "version": "3.6.10"
  }
 },
 "nbformat": 4,
 "nbformat_minor": 4
}
