{
 "cells": [
  {
   "cell_type": "code",
   "execution_count": 1,
   "metadata": {},
   "outputs": [],
   "source": [
    "import pandas as pd\n",
    "import itertools\n",
    "from ortools.linear_solver import pywraplp as OR"
   ]
  },
  {
   "cell_type": "code",
   "execution_count": 2,
   "metadata": {},
   "outputs": [],
   "source": [
    "ex = pd.read_csv('fws_example.csv', index_col=0)"
   ]
  },
  {
   "cell_type": "code",
   "execution_count": 3,
   "metadata": {},
   "outputs": [],
   "source": [
    "def fws(preferences, capcity, penalty, integer = False):\n",
    "    \"\"\"A model for solving a first-year writing seminar assignment problem.\n",
    "    \n",
    "    Args:\n",
    "        preferences (pd.DataFrame): Preferred classes for each student.\n",
    "        capcity (int): Capacity of the classroom.\n",
    "        penalty (float): Penalty for not assigning a student to one of their top 5 picks.\n",
    "    \"\"\"\n",
    "    STUDENTS = list(preferences.index) + ['dummy']             # students\n",
    "    \n",
    "    CLASSES = []\n",
    "    for c in preferences.columns:\n",
    "        CLASSES = CLASSES + list(preferences[c].unique())\n",
    "    CLASSES = list(set(CLASSES))                               # classes\n",
    "    \n",
    "    edge_costs = {}                                 \n",
    "    for s in preferences.index:\n",
    "        for c in preferences:\n",
    "            edge_costs[(s, preferences.at[int(s),c])] = int(c)\n",
    "    EDGES = list(edge_costs)                                   # edges\n",
    "    \n",
    "    # add dummy edges\n",
    "    dummy_edges = list(itertools.product([0], CLASSES))\n",
    "    EDGES.extend(dummy_edges)          \n",
    "    \n",
    "    c = edge_costs                                             # costs\n",
    "    # add dummy edge costs\n",
    "    for edge in dummy_edges:\n",
    "        c.update({edge : penalty})    \n",
    "    \n",
    "    # define model\n",
    "    m = OR.Solver('fws', OR.Solver.CBC_MIXED_INTEGER_PROGRAMMING)\n",
    "    \n",
    "    # decision variables\n",
    "    x = {}    \n",
    "    for i,j in EDGES:\n",
    "        if integer:\n",
    "            x[i,j] = m.IntVar(0, m.infinity(), ('(%d, %s)' % (i,j)))\n",
    "        else:\n",
    "            x[i,j] = m.NumVar(0, m.infinity(), ('(%d, %s)' % (i,j)))\n",
    "        \n",
    "    # objective function\n",
    "    m.Minimize(sum(c[i,j]*x[i,j] for i,j in EDGES))\n",
    "       \n",
    "    # subject to: each student (not including the dummy) is assigned at most one class\n",
    "    for k in STUDENTS:\n",
    "        if k != 'dummy':\n",
    "            m.Add(sum(x[i,j] for i,j in EDGES if i==k) <= 1)\n",
    "        \n",
    "    # subject to: each class is full\n",
    "    for k in CLASSES:\n",
    "        m.Add(sum(x[i,j] for i,j in EDGES if j==k) == capcity)\n",
    "    \n",
    "    return m,x"
   ]
  },
  {
   "cell_type": "code",
   "execution_count": 4,
   "metadata": {},
   "outputs": [],
   "source": [
    "def solve(m):\n",
    "    m.Solve()\n",
    "    print('Solution:')\n",
    "    print('Objective value =', m.Objective().Value())\n",
    "    for var in m.variables():\n",
    "        print(var.name(), ':',  var.solution_value())"
   ]
  },
  {
   "cell_type": "code",
   "execution_count": 5,
   "metadata": {},
   "outputs": [
    {
     "name": "stdout",
     "output_type": "stream",
     "text": [
      "Solution:\n",
      "Objective value = 11.0\n",
      "(1, A) : 1.0\n",
      "(1, B) : 0.0\n",
      "(2, D) : 1.0\n",
      "(2, C) : 0.0\n",
      "(3, A) : 0.0\n",
      "(3, C) : 1.0\n",
      "(4, B) : 1.0\n",
      "(4, D) : 0.0\n",
      "(5, C) : 1.0\n",
      "(5, B) : 0.0\n",
      "(6, A) : 1.0\n",
      "(6, B) : 0.0\n",
      "(7, B) : 1.0\n",
      "(7, A) : 0.0\n",
      "(0, A) : 0.0\n",
      "(0, C) : 0.0\n",
      "(0, B) : 0.0\n",
      "(0, D) : 1.0\n"
     ]
    }
   ],
   "source": [
    "m,x = fws(ex, 2, 3, integer=True)\n",
    "solve(m)"
   ]
  }
 ],
 "metadata": {
  "kernelspec": {
   "display_name": "Python 3",
   "language": "python",
   "name": "python3"
  },
  "language_info": {
   "codemirror_mode": {
    "name": "ipython",
    "version": 3
   },
   "file_extension": ".py",
   "mimetype": "text/x-python",
   "name": "python",
   "nbconvert_exporter": "python",
   "pygments_lexer": "ipython3",
   "version": "3.6.10"
  }
 },
 "nbformat": 4,
 "nbformat_minor": 4
}
