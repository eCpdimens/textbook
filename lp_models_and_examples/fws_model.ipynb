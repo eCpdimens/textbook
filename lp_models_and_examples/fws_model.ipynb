{
 "cells": [
  {
   "cell_type": "code",
   "execution_count": null,
   "metadata": {},
   "outputs": [],
   "source": [
    "import pandas as pd\n",
    "import itertools\n",
    "from ortools.linear_solver import pywraplp as OR"
   ]
  },
  {
   "cell_type": "code",
   "execution_count": null,
   "metadata": {},
   "outputs": [],
   "source": [
    "ex = pd.read_csv('fws_7_students.csv', index_col=0)"
   ]
  },
  {
   "cell_type": "code",
   "execution_count": null,
   "metadata": {},
   "outputs": [],
   "source": [
    "def fws(preferences, capcity, cost, integer = False):\n",
    "    \"\"\"A model for solving a first-year writing seminar assignment problem.\n",
    "    \n",
    "    Args:\n",
    "        preferences (pd.DataFrame): Preferred classes for each student.\n",
    "        capcity (int): Capacity of the classroom.\n",
    "        cost (Dict): Dictionary from edges types to cost.\n",
    "    \"\"\"\n",
    "    STUDENTS = list(preferences.index) + ['dummy']             # students\n",
    "    \n",
    "    CLASSES = []\n",
    "    for c in preferences.columns:\n",
    "        CLASSES = CLASSES + list(preferences[c].unique())\n",
    "    CLASSES = list(set(CLASSES))                               # classes\n",
    "    \n",
    "    edge_costs = {}                                 \n",
    "    for s in preferences.index:\n",
    "        for c in preferences:\n",
    "            edge_costs[(s, preferences.at[int(s),c])] = cost[int(c)]\n",
    "    EDGES = list(edge_costs)                                   # edges\n",
    "    \n",
    "    # add dummy edges\n",
    "    dummy_edges = list(itertools.product(['dummy'], CLASSES))\n",
    "    EDGES.extend(dummy_edges)          \n",
    "    \n",
    "    c = edge_costs                                             # costs\n",
    "    # add dummy edge costs\n",
    "    for edge in dummy_edges:\n",
    "        c.update({edge : cost['dummy']})    \n",
    "    \n",
    "    # define model\n",
    "    m = OR.Solver('fws', OR.Solver.CBC_MIXED_INTEGER_PROGRAMMING)\n",
    "    \n",
    "    # decision variables\n",
    "    x = {}    \n",
    "    for i,j in EDGES:\n",
    "        if integer:\n",
    "            x[i,j] = m.IntVar(0, m.infinity(), ('(%s, %s)' % (i,j)))\n",
    "        else:\n",
    "            x[i,j] = m.NumVar(0, m.infinity(), ('(%s, %s)' % (i,j)))\n",
    "        \n",
    "    # objective function\n",
    "    m.Minimize(sum(c[i,j]*x[i,j] for i,j in EDGES))\n",
    "       \n",
    "    # subject to: each student (not including the dummy) is assigned at most one class\n",
    "    for k in STUDENTS:\n",
    "        if k != 'dummy':\n",
    "            m.Add(sum(x[i,j] for i,j in EDGES if i==k) <= 1)\n",
    "        \n",
    "    # subject to: each class is full\n",
    "    for k in CLASSES:\n",
    "        m.Add(sum(x[i,j] for i,j in EDGES if j==k) == capcity)\n",
    "    \n",
    "    return m,x"
   ]
  },
  {
   "cell_type": "code",
   "execution_count": null,
   "metadata": {},
   "outputs": [],
   "source": [
    "def solve(m):\n",
    "    m.Solve()\n",
    "    print('Solution:')\n",
    "    print('Objective value =', m.Objective().Value())\n",
    "    for var in m.variables():\n",
    "        print(var.name(), ':',  var.solution_value())"
   ]
  },
  {
   "cell_type": "code",
   "execution_count": null,
   "metadata": {},
   "outputs": [],
   "source": [
    "costs = {1:1, 2:2, 'dummy':3}\n",
    "m,x = fws(ex, 2, costs, integer=True)\n",
    "solve(m)"
   ]
  }
 ],
 "metadata": {
  "language_info": {
   "name": "python"
  }
 },
 "nbformat": 4,
 "nbformat_minor": 4
}
