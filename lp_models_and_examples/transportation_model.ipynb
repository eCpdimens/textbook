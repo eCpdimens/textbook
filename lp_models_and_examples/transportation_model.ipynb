{
 "cells": [
  {
   "cell_type": "code",
   "execution_count": 1,
   "metadata": {},
   "outputs": [],
   "source": [
    "import pandas as pd\n",
    "from ortools.linear_solver import pywraplp as OR"
   ]
  },
  {
   "cell_type": "code",
   "execution_count": 2,
   "metadata": {},
   "outputs": [],
   "source": [
    "data = pd.read_csv('transportation_steel.csv', index_col=0)"
   ]
  },
  {
   "cell_type": "code",
   "execution_count": 3,
   "metadata": {},
   "outputs": [],
   "source": [
    "def transportation(data, integer=False):\n",
    "    \"\"\"A model for solving the transportation problem.\n",
    "    \n",
    "    Args:\n",
    "        data (pd.DataFrame): Dataframe with demand, supplies, and cost matrix.\n",
    "    \"\"\"\n",
    "    ORIG = list(data.index)[:-1]                                # origins\n",
    "    DEST = list(data.columns)[:-1]                              # destinations\n",
    "    supply = data['supply'][:-1].to_dict()                      # supply\n",
    "    demand = data.transpose()['demand'][:-1].to_dict()          # demand\n",
    "    cost = data.iloc[:-1,:-1].transpose().to_dict()\n",
    "    cost = {(i,j) : cost[i][j] for i in cost for j in cost[i]}  # cost\n",
    "    ARCS = list(cost)                                           # arcs\n",
    "    \n",
    "    # define model\n",
    "    m = OR.Solver('transportation', OR.Solver.CBC_MIXED_INTEGER_PROGRAMMING)\n",
    "    \n",
    "    # decision variables\n",
    "    x = {}  # units to be shipped on each edge\n",
    "    for i,j in ARCS:\n",
    "        if integer:\n",
    "            x[i,j] = m.IntVar(0, m.infinity(), ('(%s, %s)' % (i,j))) \n",
    "        else:\n",
    "            x[i,j] = m.NumVar(0, m.infinity(), ('(%s, %s)' % (i,j)))\n",
    "        \n",
    "    # objective function\n",
    "    m.Minimize(sum(cost[i,j]*x[i,j] for i,j in ARCS))\n",
    "        \n",
    "    # subject to: all supply delivered at each origin node\n",
    "    for i in ORIG:\n",
    "        m.Add(sum(x[i,j] for j in DEST) == supply[i])\n",
    "        \n",
    "    # subject to: demand met at each demand node\n",
    "    for j in DEST:\n",
    "        m.Add(sum(x[i,j] for i in ORIG) == demand[j])\n",
    "    \n",
    "    return m, x"
   ]
  },
  {
   "cell_type": "code",
   "execution_count": 4,
   "metadata": {},
   "outputs": [],
   "source": [
    "def solve(m):\n",
    "    m.Solve()\n",
    "    print('Solution:')\n",
    "    print('Objective value =', m.Objective().Value())\n",
    "    for var in m.variables():\n",
    "        print(var.name(), ':',  var.solution_value())"
   ]
  },
  {
   "cell_type": "code",
   "execution_count": 5,
   "metadata": {},
   "outputs": [
    {
     "name": "stdout",
     "output_type": "stream",
     "text": [
      "Solution:\n",
      "Objective value = 196200.0\n",
      "(GARY, FRA) : 0.0\n",
      "(GARY, DET) : 0.0\n",
      "(GARY, LAN) : 0.0\n",
      "(GARY, WIN) : 0.0\n",
      "(GARY, STL) : 300.0\n",
      "(GARY, FRE) : 1100.0\n",
      "(GARY, LAF) : 0.0\n",
      "(CLEV, FRA) : 0.0\n",
      "(CLEV, DET) : 1200.0\n",
      "(CLEV, LAN) : 600.0\n",
      "(CLEV, WIN) : 400.0\n",
      "(CLEV, STL) : 0.0\n",
      "(CLEV, FRE) : 0.0\n",
      "(CLEV, LAF) : 400.0\n",
      "(PITT, FRA) : 900.0\n",
      "(PITT, DET) : 0.0\n",
      "(PITT, LAN) : 0.0\n",
      "(PITT, WIN) : 0.0\n",
      "(PITT, STL) : 1400.0\n",
      "(PITT, FRE) : 0.0\n",
      "(PITT, LAF) : 600.0\n"
     ]
    }
   ],
   "source": [
    "m, x = transportation(data)\n",
    "solve(m)"
   ]
  }
 ],
 "metadata": {
  "kernelspec": {
   "display_name": "Python 3",
   "language": "python",
   "name": "python3"
  },
  "language_info": {
   "codemirror_mode": {
    "name": "ipython",
    "version": 3
   },
   "file_extension": ".py",
   "mimetype": "text/x-python",
   "name": "python",
   "nbconvert_exporter": "python",
   "pygments_lexer": "ipython3",
   "version": "3.6.10"
  }
 },
 "nbformat": 4,
 "nbformat_minor": 4
}
