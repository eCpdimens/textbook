{
 "cells": [
  {
   "cell_type": "code",
   "execution_count": null,
   "metadata": {},
   "outputs": [],
   "source": [
    "import pandas as pd\n",
    "from ortools.linear_solver import pywraplp as OR"
   ]
  },
  {
   "cell_type": "code",
   "execution_count": null,
   "metadata": {},
   "outputs": [],
   "source": [
    "data = pd.read_csv('transportation_steel.csv', index_col=0)"
   ]
  },
  {
   "cell_type": "code",
   "execution_count": null,
   "metadata": {},
   "outputs": [],
   "source": [
    "def transportation(data, integer=False):\n",
    "    \"\"\"A model for solving the transportation problem.\n",
    "    \n",
    "    Args:\n",
    "        data (pd.DataFrame): Dataframe with demand, supplies, and cost matrix.\n",
    "    \"\"\"\n",
    "    ORIG = list(data.index)[:-1]                                # origins\n",
    "    DEST = list(data.columns)[:-1]                              # destinations\n",
    "    supply = data['supply'][:-1].to_dict()                      # supply\n",
    "    demand = data.transpose()['demand'][:-1].to_dict()          # demand\n",
    "    cost = data.iloc[:-1,:-1].transpose().to_dict()\n",
    "    cost = {(i,j) : cost[i][j] for i in cost for j in cost[i]}  # cost\n",
    "    ARCS = list(cost)                                           # arcs\n",
    "    \n",
    "    # define model\n",
    "    m = OR.Solver('transportation', OR.Solver.CBC_MIXED_INTEGER_PROGRAMMING)\n",
    "    \n",
    "    # decision variables\n",
    "    x = {}  # units to be shipped on each edge\n",
    "    for i,j in ARCS:\n",
    "        if integer:\n",
    "            x[i,j] = m.IntVar(0, m.infinity(), ('(%s, %s)' % (i,j))) \n",
    "        else:\n",
    "            x[i,j] = m.NumVar(0, m.infinity(), ('(%s, %s)' % (i,j)))\n",
    "        \n",
    "    # objective function\n",
    "    m.Minimize(sum(cost[i,j]*x[i,j] for i,j in ARCS))\n",
    "        \n",
    "    # subject to: all supply delivered at each origin node\n",
    "    for i in ORIG:\n",
    "        m.Add(sum(x[i,j] for j in DEST) == supply[i])\n",
    "        \n",
    "    # subject to: demand met at each demand node\n",
    "    for j in DEST:\n",
    "        m.Add(sum(x[i,j] for i in ORIG) == demand[j])\n",
    "    \n",
    "    return m, x"
   ]
  },
  {
   "cell_type": "code",
   "execution_count": null,
   "metadata": {},
   "outputs": [],
   "source": [
    "def solve(m):\n",
    "    m.Solve()\n",
    "    print('Solution:')\n",
    "    print('Objective value =', m.Objective().Value())\n",
    "    for var in m.variables():\n",
    "        print(var.name(), ':',  var.solution_value())"
   ]
  },
  {
   "cell_type": "code",
   "execution_count": null,
   "metadata": {},
   "outputs": [],
   "source": [
    "m, x = transportation(data)\n",
    "solve(m)"
   ]
  }
 ],
 "metadata": {
  "language_info": {
   "name": "python"
  }
 },
 "nbformat": 4,
 "nbformat_minor": 4
}
