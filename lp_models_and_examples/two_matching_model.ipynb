{
 "cells": [
  {
   "cell_type": "code",
   "execution_count": 1,
   "metadata": {},
   "outputs": [],
   "source": [
    "from ortools.linear_solver import pywraplp as OR\n",
    "import itertools\n",
    "import pandas as pd"
   ]
  },
  {
   "cell_type": "code",
   "execution_count": 2,
   "metadata": {},
   "outputs": [],
   "source": [
    "tsp_6_node = pd.read_csv('tsp_6_node.csv', index_col=0).astype(int)\n",
    "tsp_6_node.columns = tsp_6_node.columns.astype(int)"
   ]
  },
  {
   "cell_type": "code",
   "execution_count": 3,
   "metadata": {},
   "outputs": [],
   "source": [
    "def two_matching(graph, cuts, integer=False):\n",
    "    \"\"\"A model to solve tsp problems with two-matching.\"\"\"\n",
    "    NODES = list(graph)                      # nodes\n",
    "    cost = {}                                # costs\n",
    "    for i in NODES:\n",
    "        for j in NODES:\n",
    "            if i < j:\n",
    "                cost[(i,j)] = graph.at[i,j]\n",
    "    EDGES = list(cost)                       # edges\n",
    "    \n",
    "    # define model\n",
    "    m = OR.Solver('two_matching', OR.Solver.CBC_MIXED_INTEGER_PROGRAMMING)\n",
    "    \n",
    "    # decision variables\n",
    "    if integer:\n",
    "        x = {(i,j) : m.IntVar(0, 1, ('(%s,%s)' % (i,j))) for (i,j) in EDGES}\n",
    "    else:\n",
    "        x = {(i,j) : m.NumVar(0, 1, ('(%s,%s)' % (i,j))) for (i,j) in EDGES}\n",
    "    \n",
    "    # objective function\n",
    "    m.Minimize(sum(cost[i,j]*x[i,j] for (i,j) in EDGES))\n",
    "    \n",
    "    # subject to: degree of every node is 2\n",
    "    for k in NODES:\n",
    "        m.Add(sum(x[i,j] for (i,j) in EDGES if i == k) + \n",
    "              sum(x[i,j] for (i,j) in EDGES if j == k) == 2)\n",
    "    \n",
    "    # subject to: provided cuts\n",
    "    for S in cuts:\n",
    "        m.Add(sum(x[i,j] for (i,j) in EDGES if (i in S and j not in S) or \n",
    "                                               (j in S and i not in S)) >= 2)\n",
    "        \n",
    "    return m,x"
   ]
  },
  {
   "cell_type": "code",
   "execution_count": 4,
   "metadata": {},
   "outputs": [],
   "source": [
    "def solve(m):\n",
    "    m.Solve()\n",
    "    print('Solution:')\n",
    "    print('Objective value =', m.Objective().Value())\n",
    "    for var in m.variables():\n",
    "        print(var.name(), ':',  var.solution_value())"
   ]
  },
  {
   "cell_type": "code",
   "execution_count": 5,
   "metadata": {},
   "outputs": [
    {
     "name": "stdout",
     "output_type": "stream",
     "text": [
      "Solution:\n",
      "Objective value = 6.0\n",
      "(1,2) : 1.0\n",
      "(1,3) : 1.0\n",
      "(1,4) : 0.0\n",
      "(1,5) : 0.0\n",
      "(1,6) : 0.0\n",
      "(2,3) : 1.0\n",
      "(2,4) : 0.0\n",
      "(2,5) : 0.0\n",
      "(2,6) : 0.0\n",
      "(3,4) : 0.0\n",
      "(3,5) : 0.0\n",
      "(3,6) : 0.0\n",
      "(4,5) : 1.0\n",
      "(4,6) : 1.0\n",
      "(5,6) : 1.0\n"
     ]
    }
   ],
   "source": [
    "m,x = two_matching(tsp_6_node, [])\n",
    "solve(m)"
   ]
  },
  {
   "cell_type": "code",
   "execution_count": 6,
   "metadata": {},
   "outputs": [
    {
     "name": "stdout",
     "output_type": "stream",
     "text": [
      "Solution:\n",
      "Objective value = 14.0\n",
      "(1,2) : 0.0\n",
      "(1,3) : 1.0\n",
      "(1,4) : 1.0\n",
      "(1,5) : 0.0\n",
      "(1,6) : 0.0\n",
      "(2,3) : 1.0\n",
      "(2,4) : 0.0\n",
      "(2,5) : 1.0\n",
      "(2,6) : 0.0\n",
      "(3,4) : 0.0\n",
      "(3,5) : 0.0\n",
      "(3,6) : 0.0\n",
      "(4,5) : 0.0\n",
      "(4,6) : 1.0\n",
      "(5,6) : 1.0\n"
     ]
    }
   ],
   "source": [
    "m,x = two_matching(tsp_6_node, [[1,2,3]])\n",
    "solve(m)"
   ]
  }
 ],
 "metadata": {
  "kernelspec": {
   "display_name": "Python 3",
   "language": "python",
   "name": "python3"
  },
  "language_info": {
   "codemirror_mode": {
    "name": "ipython",
    "version": 3
   },
   "file_extension": ".py",
   "mimetype": "text/x-python",
   "name": "python",
   "nbconvert_exporter": "python",
   "pygments_lexer": "ipython3",
   "version": "3.6.10"
  }
 },
 "nbformat": 4,
 "nbformat_minor": 4
}
