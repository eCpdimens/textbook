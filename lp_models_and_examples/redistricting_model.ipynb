{
 "cells": [
  {
   "cell_type": "code",
   "execution_count": 1,
   "metadata": {},
   "outputs": [],
   "source": [
    "import pandas as pd\n",
    "import numpy as np\n",
    "from ortools.linear_solver import pywraplp as OR"
   ]
  },
  {
   "cell_type": "code",
   "execution_count": 2,
   "metadata": {},
   "outputs": [],
   "source": [
    "def redistrict(k, A, cost, integer=False, opt_type='abs_val', solver='CBC'):\n",
    "    \"\"\"A model for solving a congressional redistricting problem.\n",
    "    \n",
    "    Args:\n",
    "        k (int): number of districts in a plan\n",
    "        A (np.ndarray): binary matrix a_ij = 1 if tract i is in district j\n",
    "        costs (np.ndarray): cost coefficients of districts\n",
    "        opt_type (str): {\"minimize\", \"maximize\", \"abs_val\"}\n",
    "        solver (str) : {\"CBC\", \"gurobi\"}\n",
    "    \"\"\"\n",
    "    n_tracts, n_columns = A.shape\n",
    "    TRACTS = range(n_tracts)\n",
    "    DISTRICTS = range(n_columns)\n",
    "    \n",
    "    # define the model\n",
    "    if solver=='CBC':\n",
    "        m = OR.Solver('redistrict', OR.Solver.CBC_MIXED_INTEGER_PROGRAMMING)        \n",
    "    elif solver=='gurobi':\n",
    "        m = OR.Solver('redistrict', OR.Solver.GUROBI_MIXED_INTEGER_PROGRAMMING)\n",
    "    else:\n",
    "        raise ValueError('Invalid solver')\n",
    "\n",
    "    # decision variables\n",
    "    x = {} # x_i is 1 if district i is used, 0 otherwise\n",
    "    for d in DISTRICTS:\n",
    "        if integer:\n",
    "            x[d] = m.IntVar(0, 1, name=\"x(%s)\" % d)\n",
    "        else:\n",
    "            x[d] = m.NumVar(0, 1, name=\"x(%s)\" % d)\n",
    "\n",
    "    # objective function\n",
    "    if opt_type == 'min':\n",
    "        m.Minimize(sum(cost[d] * x[d] for d in DISTRICTS))\n",
    "    elif opt_type == 'max':\n",
    "        m.Maximize(sum(cost[d] * x[d] for d in DISTRICTS))\n",
    "    elif opt_type == 'abs_val':\n",
    "        w = m.NumVar(-k, k, name=\"w\")\n",
    "        m.Add(sum(cost[d] * x[d] for d in DISTRICTS) <= w, name='absval_pos')\n",
    "        m.Add(sum(cost[d] * x[d] for d in DISTRICTS) >= -w, name='absval_neg')\n",
    "        m.Minimize(w)\n",
    "    else:\n",
    "        raise ValueError('Invalid optimization type')\n",
    "\n",
    "    # subject to: each census tract appears in exactly one district\n",
    "    for t in TRACTS:    \n",
    "        m.Add(sum(x[d] * A[t,d] for d in DISTRICTS) == 1)\n",
    "\n",
    "    # subject to: k total districts\n",
    "    m.Add(sum(x[d] for d in DISTRICTS) == k)\n",
    "\n",
    "    return m,x"
   ]
  },
  {
   "cell_type": "code",
   "execution_count": 3,
   "metadata": {},
   "outputs": [],
   "source": [
    "# You do not need to pay attention to this cell but make sure you run it!\n",
    "def solve(m, solver='CBC'):\n",
    "    \"\"\"Solve the model and specify some solver parameters.\"\"\"\n",
    "    if solver=='CBC':\n",
    "        m.SetTimeLimit(2000000)\n",
    "        params = OR.MPSolverParameters()\n",
    "        params.SetDoubleParam(params.RELATIVE_MIP_GAP, 1e-4)\n",
    "        status = m.Solve(params)\n",
    "    elif solver=='gurobi':\n",
    "        params_set = m.SetSolverSpecificParametersAsString(\n",
    "                     '''TimeLimit %d\n",
    "                        MIPGapAbs %d''' % (2000, 1e-4))\n",
    "        if params_set:\n",
    "            print('Gurobi solver parameters set successfully.')\n",
    "        status = m.Solve()\n",
    "    if status == OR.Solver.OPTIMAL:\n",
    "        print('Optimal solution found.')\n",
    "        print('Objective value =', m.Objective().Value())\n",
    "    else:\n",
    "        print('Optimal solution was not found - %s' % (status))"
   ]
  }
 ],
 "metadata": {
  "kernelspec": {
   "display_name": "Python 3",
   "language": "python",
   "name": "python3"
  },
  "language_info": {
   "codemirror_mode": {
    "name": "ipython",
    "version": 3
   },
   "file_extension": ".py",
   "mimetype": "text/x-python",
   "name": "python",
   "nbconvert_exporter": "python",
   "pygments_lexer": "ipython3",
   "version": "3.6.10"
  }
 },
 "nbformat": 4,
 "nbformat_minor": 4
}
