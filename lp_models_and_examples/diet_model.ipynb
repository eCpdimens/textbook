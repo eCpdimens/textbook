{
 "cells": [
  {
   "cell_type": "code",
   "execution_count": null,
   "metadata": {},
   "outputs": [],
   "source": [
    "import pandas as pd\n",
    "from ortools.linear_solver import pywraplp as OR"
   ]
  },
  {
   "cell_type": "code",
   "execution_count": null,
   "metadata": {},
   "outputs": [],
   "source": [
    "foods = pd.read_csv('diet_neos/neos_foods.csv', index_col=0)\n",
    "nutrients = pd.read_csv('diet_neos/neos_nutrients.csv', index_col=0)"
   ]
  },
  {
   "cell_type": "code",
   "execution_count": null,
   "metadata": {},
   "outputs": [],
   "source": [
    "def diet(foods, nutrients, integer=False):\n",
    "    \"\"\"A model for solving the diet problem.\n",
    "    \n",
    "    Args:\n",
    "        foods (pd.DataFrame): Foods with cost per serving, min and max servings, and nutrients per serving.\n",
    "        nutrients (pd.DataFrame): Nutrients with min and max bounds.\n",
    "    \"\"\"\n",
    "    FOODS = list(foods.index)                                 # foods\n",
    "    NUTRIENTS = list(nutrients.index)                         # nutrients\n",
    "    c = foods['Cost'].to_dict()                               # cost per serving of food \n",
    "    f_min = foods['Min'].to_dict()                            # lower bound of food serving\n",
    "    f_max = foods['Max'].to_dict()                            # upper bound of food serving\n",
    "    n_min = nutrients['Min'].to_dict()                        # lower bound of nutrient\n",
    "    n_max = nutrients['Max'].to_dict()                        # upper bound of nutrient  \n",
    "    a = foods[list(nutrients.index)].transpose().to_dict()    # amt of nutrients per serving of food\n",
    "    \n",
    "    # define model\n",
    "    m = OR.Solver('diet', OR.Solver.CBC_MIXED_INTEGER_PROGRAMMING)\n",
    "        \n",
    "    # decision variables\n",
    "    x = {}    \n",
    "    for i in FOODS:\n",
    "        if integer:\n",
    "            x[i] = m.IntVar(0, m.infinity(), 'x_%s' % (i)) \n",
    "        else:\n",
    "            x[i] = m.NumVar(0, m.infinity(), 'x_%s' % (i)) \n",
    "        \n",
    "    # objective function.\n",
    "    m.Minimize(sum(c[i]*x[i] for i in FOODS))\n",
    "    \n",
    "    # enforce lower and upper bound on food servings\n",
    "    for i in FOODS:\n",
    "        m.Add(x[i] >= f_min[i], name='lb_%s' % (i))\n",
    "        m.Add(x[i] <= f_max[i], name='ub_%s' % (i))\n",
    "    \n",
    "    # enforce lower and upper bound on nutrients \n",
    "    for j in NUTRIENTS:\n",
    "        m.Add(sum(a[i][j]*x[i] for i in FOODS) >= n_min[j], name='lb_%s' % (j))\n",
    "        m.Add(sum(a[i][j]*x[i] for i in FOODS) <= n_max[j], name='ub_%s' % (j))\n",
    "        \n",
    "    return m, x"
   ]
  },
  {
   "cell_type": "code",
   "execution_count": null,
   "metadata": {},
   "outputs": [],
   "source": [
    "def solve(m):\n",
    "    m.Solve()\n",
    "    print('Solution:')\n",
    "    print('Objective value =', m.Objective().Value())\n",
    "    for var in m.variables():\n",
    "        print(var.name(), ':',  var.solution_value())"
   ]
  },
  {
   "cell_type": "code",
   "execution_count": null,
   "metadata": {},
   "outputs": [],
   "source": [
    "m, x = diet(foods, nutrients)\n",
    "solve(m)"
   ]
  },
  {
   "cell_type": "code",
   "execution_count": null,
   "metadata": {},
   "outputs": [],
   "source": [
    "m, x = diet(foods, nutrients, integer=True)\n",
    "solve(m)"
   ]
  }
 ],
 "metadata": {
  "language_info": {
   "name": "python"
  }
 },
 "nbformat": 4,
 "nbformat_minor": 4
}
