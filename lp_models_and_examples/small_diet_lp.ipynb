{
 "cells": [
  {
   "cell_type": "code",
   "execution_count": null,
   "metadata": {},
   "outputs": [],
   "source": [
    "from ortools.linear_solver import pywraplp as OR"
   ]
  },
  {
   "cell_type": "code",
   "execution_count": null,
   "metadata": {},
   "outputs": [],
   "source": [
    "def small_diet(integer = False):\n",
    "    \"\"\"A linear program for solving a diet problem.\"\"\"\n",
    "    # define the model\n",
    "    m = OR.Solver('cereal_diet', OR.Solver.CLP_LINEAR_PROGRAMMING);\n",
    "\n",
    "    K = m.NumVar(0, m.infinity(), 'K');\n",
    "    C = m.NumVar(0, m.infinity(), 'C');\n",
    "\n",
    "    # objective function\n",
    "    m.Minimize(3.8*K + 4.2*C);\n",
    "\n",
    "    # constraints\n",
    "    m.Add(0.1*K + 0.25*C >= 1);\n",
    "    m.Add(1*K + 0.25*C >= 5);\n",
    "    m.Add(110*K + 120*C >= 400);\n",
    "    \n",
    "    return m"
   ]
  },
  {
   "cell_type": "code",
   "execution_count": null,
   "metadata": {},
   "outputs": [],
   "source": [
    "def solve(m):\n",
    "    m.Solve()\n",
    "    print('Solution:')\n",
    "    print('Objective value =', m.Objective().Value())\n",
    "    for var in m.variables():\n",
    "        print(var.name(), ':',  var.solution_value())"
   ]
  },
  {
   "cell_type": "code",
   "execution_count": null,
   "metadata": {},
   "outputs": [],
   "source": [
    "m = small_diet()\n",
    "solve(m)"
   ]
  }
 ],
 "metadata": {
  "language_info": {
   "name": "python"
  }
 },
 "nbformat": 4,
 "nbformat_minor": 4
}
