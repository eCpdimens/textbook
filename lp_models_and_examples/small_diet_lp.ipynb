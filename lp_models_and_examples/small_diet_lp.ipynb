{
 "cells": [
  {
   "cell_type": "code",
   "execution_count": 1,
   "metadata": {},
   "outputs": [],
   "source": [
    "from ortools.linear_solver import pywraplp as OR"
   ]
  },
  {
   "cell_type": "code",
   "execution_count": 2,
   "metadata": {},
   "outputs": [],
   "source": [
    "def small_diet(integer = False):\n",
    "    \"\"\"A linear program for solving a diet problem.\"\"\"\n",
    "    # define the model\n",
    "    m = OR.Solver('cereal_diet', OR.Solver.CLP_LINEAR_PROGRAMMING);\n",
    "\n",
    "    K = m.NumVar(0, m.infinity(), 'K');\n",
    "    C = m.NumVar(0, m.infinity(), 'C');\n",
    "\n",
    "    # objective function\n",
    "    m.Minimize(3.8*K + 4.2*C);\n",
    "\n",
    "    # constraints\n",
    "    m.Add(0.1*K + 0.25*C >= 1);\n",
    "    m.Add(1*K + 0.25*C >= 5);\n",
    "    m.Add(110*K + 120*C >= 400);\n",
    "    \n",
    "    return m"
   ]
  },
  {
   "cell_type": "code",
   "execution_count": 3,
   "metadata": {},
   "outputs": [],
   "source": [
    "def solve(m):\n",
    "    m.Solve()\n",
    "    print('Solution:')\n",
    "    print('Objective value =', m.Objective().Value())\n",
    "    for var in m.variables():\n",
    "        print(var.name(), ':',  var.solution_value())"
   ]
  },
  {
   "cell_type": "code",
   "execution_count": 4,
   "metadata": {},
   "outputs": [
    {
     "name": "stdout",
     "output_type": "stream",
     "text": [
      "Solution:\n",
      "Objective value = 26.22222222222222\n",
      "K : 4.444444444444445\n",
      "C : 2.2222222222222223\n"
     ]
    }
   ],
   "source": [
    "m = small_diet()\n",
    "solve(m)"
   ]
  }
 ],
 "metadata": {
  "kernelspec": {
   "display_name": "Python 3",
   "language": "python",
   "name": "python3"
  },
  "language_info": {
   "codemirror_mode": {
    "name": "ipython",
    "version": 3
   },
   "file_extension": ".py",
   "mimetype": "text/x-python",
   "name": "python",
   "nbconvert_exporter": "python",
   "pygments_lexer": "ipython3",
   "version": "3.6.10"
  }
 },
 "nbformat": 4,
 "nbformat_minor": 4
}
