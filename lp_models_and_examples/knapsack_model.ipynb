{
 "cells": [
  {
   "cell_type": "code",
   "execution_count": 1,
   "metadata": {},
   "outputs": [],
   "source": [
    "import pandas as pd\n",
    "from ortools.linear_solver import pywraplp as OR"
   ]
  },
  {
   "cell_type": "code",
   "execution_count": 2,
   "metadata": {},
   "outputs": [],
   "source": [
    "items = pd.read_csv('knapsack_example.csv', index_col=0)"
   ]
  },
  {
   "cell_type": "code",
   "execution_count": 3,
   "metadata": {},
   "outputs": [],
   "source": [
    "def knapsack(items, capacity, integer = False):\n",
    "    \"\"\"Model for solving the Knapsack problem.\n",
    "    \n",
    "    Args:\n",
    "        items (pd.DataFrame): A table indexd by items with a column for value and weight\n",
    "        capcity (int): An integer-capacity for the knapsack\n",
    "        integer (bool): True if the variables should be integer. False otherwise.\n",
    "    \"\"\"\n",
    "    ITEMS = list(items.index)        # set of items\n",
    "    v = items.to_dict()['value']     # value for each item \n",
    "    w = items.to_dict()['weight']    # weight for each item\n",
    "    W = capacity                     # capacity of the knapsack\n",
    "    \n",
    "    # define model\n",
    "    m = OR.Solver('knapsack', OR.Solver.CBC_MIXED_INTEGER_PROGRAMMING)\n",
    "    \n",
    "    # decision variables\n",
    "    x = {}    \n",
    "    for i in ITEMS:\n",
    "        if integer:\n",
    "            x[i] = m.IntVar(0, 1, 'x_%d' % (i)) \n",
    "        else:\n",
    "            x[i] = m.NumVar(0, 1, 'x_%d' % (i)) \n",
    "        \n",
    "    # define objective function here\n",
    "    m.Maximize(sum(v[i]*x[i] for i in ITEMS))\n",
    "    \n",
    "    # weight must not exceed capacity\n",
    "    m.Add(sum(w[i]*x[i] for i in ITEMS) <= W)\n",
    "    \n",
    "    return m, x"
   ]
  },
  {
   "cell_type": "code",
   "execution_count": 4,
   "metadata": {},
   "outputs": [],
   "source": [
    "def solve(m):\n",
    "    m.Solve()\n",
    "    print('Solution:')\n",
    "    print('Objective value =', m.Objective().Value())\n",
    "    for var in m.variables():\n",
    "        print(var.name(), ':',  var.solution_value())"
   ]
  },
  {
   "cell_type": "code",
   "execution_count": 5,
   "metadata": {},
   "outputs": [
    {
     "name": "stdout",
     "output_type": "stream",
     "text": [
      "Solution:\n",
      "Objective value = 70.0\n",
      "x_1 : 1.0\n",
      "x_2 : 0.6666666666666666\n",
      "x_3 : 0.0\n",
      "x_4 : 0.0\n",
      "x_5 : 0.0\n",
      "x_6 : 0.0\n",
      "x_7 : 0.0\n"
     ]
    }
   ],
   "source": [
    "m, x = knapsack(items, 18)\n",
    "solve(m)"
   ]
  },
  {
   "cell_type": "code",
   "execution_count": 6,
   "metadata": {},
   "outputs": [
    {
     "name": "stdout",
     "output_type": "stream",
     "text": [
      "Solution:\n",
      "Objective value = 64.0\n",
      "x_1 : 1.0\n",
      "x_2 : 0.0\n",
      "x_3 : 0.0\n",
      "x_4 : 1.0\n",
      "x_5 : 0.0\n",
      "x_6 : 0.0\n",
      "x_7 : 0.0\n"
     ]
    }
   ],
   "source": [
    "m, x = knapsack(items, 18, integer=True)\n",
    "solve(m)"
   ]
  }
 ],
 "metadata": {
  "kernelspec": {
   "display_name": "Python 3",
   "language": "python",
   "name": "python3"
  },
  "language_info": {
   "codemirror_mode": {
    "name": "ipython",
    "version": 3
   },
   "file_extension": ".py",
   "mimetype": "text/x-python",
   "name": "python",
   "nbconvert_exporter": "python",
   "pygments_lexer": "ipython3",
   "version": "3.6.10"
  }
 },
 "nbformat": 4,
 "nbformat_minor": 4
}
