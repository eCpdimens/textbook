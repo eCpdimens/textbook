{
 "cells": [
  {
   "cell_type": "code",
   "execution_count": 1,
   "metadata": {},
   "outputs": [],
   "source": [
    "import pandas as pd\n",
    "import numpy as np\n",
    "from ortools.linear_solver import pywraplp as OR"
   ]
  },
  {
   "cell_type": "code",
   "execution_count": 2,
   "metadata": {},
   "outputs": [],
   "source": [
    "graph = pd.read_csv('mis_seat_packing_example.csv',index_col=0).astype(int)\n",
    "graph.columns = graph.columns.astype(int)"
   ]
  },
  {
   "cell_type": "code",
   "execution_count": 3,
   "metadata": {},
   "outputs": [],
   "source": [
    "def mis(graph, integer=False):\n",
    "    \"\"\"A model for solving the maximum independent set problem.\n",
    "    \n",
    "    Args:\n",
    "        graph (pd.DataFrame): Graph represented by an adjacency matrix.\n",
    "    \"\"\"\n",
    "    NODES = list(graph.index)                # nodes\n",
    "    EDGES = []                               # edges\n",
    "    for i in NODES:\n",
    "        for j in NODES:\n",
    "            if i <= j and graph.at[i,j] == 1:\n",
    "                EDGES.append((i,j))\n",
    "    \n",
    "    # define model\n",
    "    m = OR.Solver('mis', OR.Solver.CBC_MIXED_INTEGER_PROGRAMMING)\n",
    "    \n",
    "    # decision variables\n",
    "    x = {} \n",
    "    for i in NODES:\n",
    "        if integer:\n",
    "            x[i] = m.IntVar(0, 1, ('%s' % (i)))\n",
    "        else:\n",
    "            x[i] = m.NumVar(0, 1, ('%s' % (i)))\n",
    "    \n",
    "    # objective function\n",
    "    m.Maximize(sum(x[i] for i in NODES))\n",
    "        \n",
    "    # subject to: no vertices in the set share an edge\n",
    "    for i,j in EDGES:\n",
    "        m.Add(x[i] + x[j] <= 1)\n",
    "\n",
    "    return m,x"
   ]
  },
  {
   "cell_type": "code",
   "execution_count": 4,
   "metadata": {},
   "outputs": [],
   "source": [
    "def solve(m):\n",
    "    m.Solve()\n",
    "    print('Solution:')\n",
    "    print('Objective value =', m.Objective().Value())\n",
    "    for var in m.variables():\n",
    "        print(var.name(), ':',  var.solution_value())"
   ]
  },
  {
   "cell_type": "code",
   "execution_count": 5,
   "metadata": {},
   "outputs": [
    {
     "name": "stdout",
     "output_type": "stream",
     "text": [
      "Solution:\n",
      "Objective value = 6.0\n",
      "1 : 0.5\n",
      "2 : 0.5\n",
      "3 : 0.5\n",
      "4 : 0.5\n",
      "5 : 0.5\n",
      "6 : 0.5\n",
      "7 : 0.5\n",
      "8 : 0.5\n",
      "9 : 0.5\n",
      "10 : 0.5\n",
      "11 : 0.5\n",
      "12 : 0.5\n"
     ]
    }
   ],
   "source": [
    "m,x = mis(graph)\n",
    "solve(m)"
   ]
  },
  {
   "cell_type": "code",
   "execution_count": 6,
   "metadata": {},
   "outputs": [
    {
     "name": "stdout",
     "output_type": "stream",
     "text": [
      "Solution:\n",
      "Objective value = 4.0\n",
      "1 : 1.0\n",
      "2 : 0.0\n",
      "3 : 0.0\n",
      "4 : 1.0\n",
      "5 : 0.0\n",
      "6 : 0.0\n",
      "7 : 0.0\n",
      "8 : 0.0\n",
      "9 : 1.0\n",
      "10 : 0.0\n",
      "11 : 0.0\n",
      "12 : 1.0\n"
     ]
    }
   ],
   "source": [
    "m,x = mis(graph, integer=True)\n",
    "solve(m)"
   ]
  }
 ],
 "metadata": {
  "kernelspec": {
   "display_name": "Python 3",
   "language": "python",
   "name": "python3"
  },
  "language_info": {
   "codemirror_mode": {
    "name": "ipython",
    "version": 3
   },
   "file_extension": ".py",
   "mimetype": "text/x-python",
   "name": "python",
   "nbconvert_exporter": "python",
   "pygments_lexer": "ipython3",
   "version": "3.6.10"
  }
 },
 "nbformat": 4,
 "nbformat_minor": 4
}
