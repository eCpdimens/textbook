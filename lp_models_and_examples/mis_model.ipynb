{
 "cells": [
  {
   "cell_type": "code",
   "execution_count": null,
   "metadata": {},
   "outputs": [],
   "source": [
    "import pandas as pd\n",
    "import numpy as np\n",
    "from ortools.linear_solver import pywraplp as OR"
   ]
  },
  {
   "cell_type": "code",
   "execution_count": null,
   "metadata": {},
   "outputs": [],
   "source": [
    "graph = pd.read_csv('mis_seat_packing_example.csv',index_col=0).astype(int)\n",
    "graph.columns = graph.columns.astype(int)"
   ]
  },
  {
   "cell_type": "code",
   "execution_count": null,
   "metadata": {},
   "outputs": [],
   "source": [
    "def mis(graph, integer=False):\n",
    "    \"\"\"A model for solving the maximum independent set problem.\n",
    "    \n",
    "    Args:\n",
    "        graph (pd.DataFrame): Graph represented by an adjacency matrix.\n",
    "    \"\"\"\n",
    "    NODES = list(graph.index)                # nodes\n",
    "    EDGES = []                               # edges\n",
    "    for i in NODES:\n",
    "        for j in NODES:\n",
    "            if i <= j and graph.at[i,j] == 1:\n",
    "                EDGES.append((i,j))\n",
    "    \n",
    "    # define model\n",
    "    m = OR.Solver('mis', OR.Solver.CBC_MIXED_INTEGER_PROGRAMMING)\n",
    "    \n",
    "    # decision variables\n",
    "    x = {} \n",
    "    for i in NODES:\n",
    "        if integer:\n",
    "            x[i] = m.IntVar(0, 1, ('%s' % (i)))\n",
    "        else:\n",
    "            x[i] = m.NumVar(0, 1, ('%s' % (i)))\n",
    "    \n",
    "    # objective function\n",
    "    m.Maximize(sum(x[i] for i in NODES))\n",
    "        \n",
    "    # subject to: no vertices in the set share an edge\n",
    "    for i,j in EDGES:\n",
    "        m.Add(x[i] + x[j] <= 1)\n",
    "\n",
    "    return m,x"
   ]
  },
  {
   "cell_type": "code",
   "execution_count": null,
   "metadata": {},
   "outputs": [],
   "source": [
    "def solve(m):\n",
    "    m.Solve()\n",
    "    print('Solution:')\n",
    "    print('Objective value =', m.Objective().Value())\n",
    "    for var in m.variables():\n",
    "        print(var.name(), ':',  var.solution_value())"
   ]
  },
  {
   "cell_type": "code",
   "execution_count": null,
   "metadata": {},
   "outputs": [],
   "source": [
    "m,x = mis(graph)\n",
    "solve(m)"
   ]
  },
  {
   "cell_type": "code",
   "execution_count": null,
   "metadata": {},
   "outputs": [],
   "source": [
    "m,x = mis(graph, integer=True)\n",
    "solve(m)"
   ]
  }
 ],
 "metadata": {
  "language_info": {
   "name": "python"
  }
 },
 "nbformat": 4,
 "nbformat_minor": 4
}
