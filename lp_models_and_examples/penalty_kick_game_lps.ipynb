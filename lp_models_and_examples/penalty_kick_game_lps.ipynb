{
 "cells": [
  {
   "cell_type": "code",
   "execution_count": null,
   "metadata": {},
   "outputs": [],
   "source": [
    "from ortools.linear_solver import pywraplp as OR"
   ]
  },
  {
   "cell_type": "code",
   "execution_count": null,
   "metadata": {},
   "outputs": [],
   "source": [
    "def right_subgame_kicker():\n",
    "    \"\"\"A linear program for solving the right penalty kick subgame for the kicker.\"\"\"\n",
    "    # define the model\n",
    "    m = OR.Solver('right_subgame-kicker', OR.Solver.CLP_LINEAR_PROGRAMMING);\n",
    "\n",
    "    # decision variables\n",
    "    R = m.NumVar(0, m.infinity(), 'R');\n",
    "    L = m.NumVar(0, m.infinity(), 'L');\n",
    "    z = m.NumVar(-m.infinity(), m.infinity(), 'z');\n",
    "\n",
    "    # objective function.\n",
    "    m.Maximize(z);\n",
    "\n",
    "    # constraints.\n",
    "    m.Add(0.55*L + 0.95*R >= z);\n",
    "    m.Add(0.65*L + 0.73*R >= z);\n",
    "    m.Add(0.93*L + 0.70*R >= z);\n",
    "    m.Add(L + R == 1);\n",
    "    \n",
    "    return m, m.variables()"
   ]
  },
  {
   "cell_type": "code",
   "execution_count": null,
   "metadata": {},
   "outputs": [],
   "source": [
    "def left_subgame_kicker():\n",
    "    \"\"\"A linear program for solving the left penalty kick subgame for the kicker.\"\"\"\n",
    "    # define the model\n",
    "    m = OR.Solver('left_subgame-kicker', OR.Solver.CLP_LINEAR_PROGRAMMING);\n",
    "\n",
    "    # decision variables\n",
    "    R = m.NumVar(0, m.infinity(), 'R');\n",
    "    L = m.NumVar(0, m.infinity(), 'L');\n",
    "    z = m.NumVar(-m.infinity(), m.infinity(), 'z');\n",
    "\n",
    "    # objective function\n",
    "    m.Maximize(z);\n",
    "\n",
    "    # constraints\n",
    "    m.Add(0.67*L + 0.87*R >= z);\n",
    "    m.Add(0.70*L + 0.65*R >= z);\n",
    "    m.Add(0.96*L + 0.61*R >= z);\n",
    "    m.Add(L + R == 1);\n",
    "    \n",
    "    return m, m.variables()"
   ]
  },
  {
   "cell_type": "code",
   "execution_count": null,
   "metadata": {},
   "outputs": [],
   "source": [
    "def left_subgame_goalie(): \n",
    "    \"\"\"A linear program for solving the left penalty kick subgame for the goalie.\"\"\"\n",
    "    # define the model\n",
    "    m = OR.Solver('left_subgame-goalie', OR.Solver.CLP_LINEAR_PROGRAMMING);\n",
    "\n",
    "    # decision variables.\n",
    "    R = m.NumVar(0, m.infinity(), 'R');\n",
    "    M = m.NumVar(0, m.infinity(), 'M');\n",
    "    L = m.NumVar(0, m.infinity(), 'L');\n",
    "    z = m.NumVar(-m.infinity(), m.infinity(), 'z');\n",
    "\n",
    "    # objective function\n",
    "    m.Minimize(z);\n",
    "\n",
    "    # constraints\n",
    "    m.Add(0.67*L + 0.70*M + 0.96*R <= z);\n",
    "    m.Add(0.87*L + 0.65*M + 0.61*R <= z);\n",
    "    m.Add(L + M + R == 1);\n",
    "    \n",
    "    return m, m.variables()"
   ]
  },
  {
   "cell_type": "code",
   "execution_count": null,
   "metadata": {},
   "outputs": [],
   "source": [
    "def penalty_kick_game(integer = False):\n",
    "    \"\"\"A linear program for solving a penalty kick game.\"\"\"\n",
    "    # define the model\n",
    "    m = OR.Solver('penalty_kick_game', OR.Solver.CLP_LINEAR_PROGRAMMING);\n",
    "\n",
    "    RR = m.NumVar(0, m.infinity(), 'RR');\n",
    "    RM = m.NumVar(0, m.infinity(), 'RM');\n",
    "    RL = m.NumVar(0, m.infinity(), 'RL');\n",
    "    LR = m.NumVar(0, m.infinity(), 'LR');\n",
    "    LM = m.NumVar(0, m.infinity(), 'LM');\n",
    "    LL = m.NumVar(0, m.infinity(), 'LL');\n",
    "    z = m.NumVar(-m.infinity(), m.infinity(), 'z');\n",
    "\n",
    "    # objective function\n",
    "    m.Maximize(z);\n",
    "\n",
    "    # constraints\n",
    "    m.Add(0.70*RR + 0.72*RM + 0.93*RL + 0.70*LR + 0.72*LM + 0.93*LL >= z, name='([R,R],[L,R])');\n",
    "    m.Add(0.70*RR + 0.72*RM + 0.93*RL + 0.73*LR + 0.60*LM + 0.65*LL >= z, name='([R,R],[L,M])');\n",
    "    m.Add(0.70*RR + 0.72*RM + 0.93*RL + 0.95*LR + 0.74*LM + 0.55*LL >= z, name='([R,R],[L,L])');\n",
    "    m.Add(0.73*RR + 0.60*RM + 0.65*RL + 0.70*LR + 0.72*LM + 0.93*LL >= z, name='([R,M],[L,R])');\n",
    "    m.Add(0.73*RR + 0.60*RM + 0.65*RL + 0.73*LR + 0.60*LM + 0.65*LL >= z, name='([R,M],[L,M])');\n",
    "    m.Add(0.73*RR + 0.60*RM + 0.65*RL + 0.95*LR + 0.74*LM + 0.55*LL >= z, name='([R,M],[L,L])');\n",
    "    m.Add(0.95*RR + 0.74*RM + 0.55*RL + 0.70*LR + 0.72*LM + 0.93*LL >= z, name='([R,L],[L,R])');\n",
    "    m.Add(0.95*RR + 0.74*RM + 0.55*RL + 0.73*LR + 0.60*LM + 0.65*LL >= z, name='([R,L],[L,M])');\n",
    "    m.Add(0.95*RR + 0.74*RM + 0.55*RL + 0.95*LR + 0.74*LM + 0.55*LL >= z, name='([R,L],[L,L])');\n",
    "    m.Add(RR + RM + RL + LR + LM + LL == 1);\n",
    "    \n",
    "    return m, m.variables()"
   ]
  },
  {
   "cell_type": "code",
   "execution_count": null,
   "metadata": {},
   "outputs": [],
   "source": [
    "def solve(m):\n",
    "    m.Solve()\n",
    "    print('Solution:')\n",
    "    print('Objective value =', m.Objective().Value())\n",
    "    for var in m.variables():\n",
    "        print(var.name(), ':',  var.solution_value())"
   ]
  },
  {
   "cell_type": "code",
   "execution_count": null,
   "metadata": {},
   "outputs": [],
   "source": [
    "m,x = right_subgame_kicker()\n",
    "solve(m)"
   ]
  },
  {
   "cell_type": "code",
   "execution_count": null,
   "metadata": {},
   "outputs": [],
   "source": [
    "m,x = left_subgame_kicker()\n",
    "solve(m)"
   ]
  },
  {
   "cell_type": "code",
   "execution_count": null,
   "metadata": {},
   "outputs": [],
   "source": [
    "m,x = left_subgame_goalie()\n",
    "solve(m)"
   ]
  },
  {
   "cell_type": "code",
   "execution_count": null,
   "metadata": {},
   "outputs": [],
   "source": [
    "m,x = penalty_kick_game()\n",
    "solve(m)"
   ]
  }
 ],
 "metadata": {
  "language_info": {
   "name": "python"
  }
 },
 "nbformat": 4,
 "nbformat_minor": 4
}
