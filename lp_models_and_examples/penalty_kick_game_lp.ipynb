{
 "cells": [
  {
   "cell_type": "code",
   "execution_count": 1,
   "metadata": {},
   "outputs": [],
   "source": [
    "from ortools.linear_solver import pywraplp as OR"
   ]
  },
  {
   "cell_type": "code",
   "execution_count": 2,
   "metadata": {},
   "outputs": [],
   "source": [
    "def penalty_kick_game(integer = False):\n",
    "    \"\"\"A linear program for solving a penalty kick game.\"\"\"\n",
    "    # define the model\n",
    "    m = OR.Solver('penalty_kick_game', OR.Solver.CLP_LINEAR_PROGRAMMING);\n",
    "\n",
    "    RR = m.NumVar(0, m.infinity(), 'RR');\n",
    "    RM = m.NumVar(0, m.infinity(), 'RM');\n",
    "    RL = m.NumVar(0, m.infinity(), 'RL');\n",
    "    LR = m.NumVar(0, m.infinity(), 'LR');\n",
    "    LM = m.NumVar(0, m.infinity(), 'LM');\n",
    "    LL = m.NumVar(0, m.infinity(), 'LL');\n",
    "    z = m.NumVar(-m.infinity(), m.infinity(), 'z');\n",
    "\n",
    "    # objective function\n",
    "    m.Maximize(z);\n",
    "\n",
    "    # constraints\n",
    "    m.Add(0.70*RR + 0.72*RM + 0.93*RL + 0.70*LR + 0.72*LM + 0.93*LL >= z, name='([R,R],[L,R])');\n",
    "    m.Add(0.70*RR + 0.72*RM + 0.93*RL + 0.73*LR + 0.60*LM + 0.65*LL >= z, name='([R,R],[L,M])');\n",
    "    m.Add(0.70*RR + 0.72*RM + 0.93*RL + 0.95*LR + 0.74*LM + 0.55*LL >= z, name='([R,R],[L,L])');\n",
    "    m.Add(0.73*RR + 0.60*RM + 0.65*RL + 0.70*LR + 0.72*LM + 0.93*LL >= z, name='([R,M],[L,R])');\n",
    "    m.Add(0.73*RR + 0.60*RM + 0.65*RL + 0.73*LR + 0.60*LM + 0.65*LL >= z, name='([R,M],[L,M])');\n",
    "    m.Add(0.73*RR + 0.60*RM + 0.65*RL + 0.95*LR + 0.74*LM + 0.55*LL >= z, name='([R,M],[L,L])');\n",
    "    m.Add(0.95*RR + 0.74*RM + 0.55*RL + 0.70*LR + 0.72*LM + 0.93*LL >= z, name='([R,L],[L,R])');\n",
    "    m.Add(0.95*RR + 0.74*RM + 0.55*RL + 0.73*LR + 0.60*LM + 0.65*LL >= z, name='([R,L],[L,M])');\n",
    "    m.Add(0.95*RR + 0.74*RM + 0.55*RL + 0.95*LR + 0.74*LM + 0.55*LL >= z, name='([R,L],[L,L])');\n",
    "    m.Add(RR + RM + RL + LR + LM + LL == 1);\n",
    "    \n",
    "    return m, m.variables()"
   ]
  },
  {
   "cell_type": "code",
   "execution_count": 3,
   "metadata": {},
   "outputs": [],
   "source": [
    "def solve(m):\n",
    "    m.Solve()\n",
    "    print('Solution:')\n",
    "    print('Objective value =', m.Objective().Value())\n",
    "    for var in m.variables():\n",
    "        print(var.name(), ':',  var.solution_value())"
   ]
  },
  {
   "cell_type": "code",
   "execution_count": 4,
   "metadata": {},
   "outputs": [
    {
     "name": "stdout",
     "output_type": "stream",
     "text": [
      "Solution:\n",
      "Objective value = 0.7222580645161291\n",
      "RR : 0.9032258064516129\n",
      "RM : 0.0\n",
      "RL : 0.09677419354838718\n",
      "LR : 0.0\n",
      "LM : 0.0\n",
      "LL : 0.0\n",
      "z : 0.7222580645161291\n"
     ]
    }
   ],
   "source": [
    "m,x = penalty_kick_game()\n",
    "solve(m)"
   ]
  }
 ],
 "metadata": {
  "kernelspec": {
   "display_name": "Python 3",
   "language": "python",
   "name": "python3"
  },
  "language_info": {
   "codemirror_mode": {
    "name": "ipython",
    "version": 3
   },
   "file_extension": ".py",
   "mimetype": "text/x-python",
   "name": "python",
   "nbconvert_exporter": "python",
   "pygments_lexer": "ipython3",
   "version": "3.6.10"
  }
 },
 "nbformat": 4,
 "nbformat_minor": 4
}
