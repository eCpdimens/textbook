{
 "cells": [
  {
   "cell_type": "code",
   "execution_count": 1,
   "metadata": {},
   "outputs": [],
   "source": [
    "from ortools.linear_solver import pywraplp as OR"
   ]
  },
  {
   "cell_type": "code",
   "execution_count": 2,
   "metadata": {},
   "outputs": [],
   "source": [
    "def work_schedule(integer = False):\n",
    "    \"\"\"A linear program for solving a work scheduling problem.\"\"\"\n",
    "    # define the model\n",
    "    m = OR.Solver('work_sched', OR.Solver.CBC_MIXED_INTEGER_PROGRAMMING)\n",
    "\n",
    "    # decision variables\n",
    "    if integer:   \n",
    "        x = {i: m.IntVar(0, m.infinity(), 'x_'+str(i)) for i in range(1,6)}\n",
    "    else:\n",
    "        x = {i: m.NumVar(0, m.infinity(), 'x_'+str(i)) for i in range(1,6)}\n",
    "\n",
    "    # objective function\n",
    "    m.Minimize(170*x[1] + 160*x[2] + 175*x[3] + 180*x[4] + 195*x[5])\n",
    "\n",
    "    # constraints\n",
    "    m.Add(x[1]                             >= 48)\n",
    "    m.Add(x[1] + x[2]                      >= 79)\n",
    "    m.Add(x[1] + x[2]                      >= 65)\n",
    "    m.Add(x[1] + x[2] + x[3]               >= 87)\n",
    "    m.Add(       x[2] + x[3]               >= 64)\n",
    "    m.Add(              x[3] + x[4]        >= 87)\n",
    "    m.Add(              x[3] + x[4]        >= 64) \n",
    "    m.Add(                     x[4]        >= 73)\n",
    "    m.Add(                     x[4] + x[5] >= 82) \n",
    "    m.Add(                            x[5] >= 43)\n",
    "    \n",
    "    return m, x"
   ]
  },
  {
   "cell_type": "code",
   "execution_count": 3,
   "metadata": {},
   "outputs": [],
   "source": [
    "def solve(m):\n",
    "    m.Solve()\n",
    "    print('Solution:')\n",
    "    print('Objective value =', m.Objective().Value())\n",
    "    for var in m.variables():\n",
    "        print(var.name(), ':',  var.solution_value())"
   ]
  },
  {
   "cell_type": "code",
   "execution_count": 4,
   "metadata": {},
   "outputs": [
    {
     "name": "stdout",
     "output_type": "stream",
     "text": [
      "Solution:\n",
      "Objective value = 40135.0\n",
      "x_1 : 48.0\n",
      "x_2 : 50.0\n",
      "x_3 : 14.0\n",
      "x_4 : 73.0\n",
      "x_5 : 43.0\n"
     ]
    }
   ],
   "source": [
    "m,x = work_schedule()\n",
    "solve(m)"
   ]
  },
  {
   "cell_type": "code",
   "execution_count": 5,
   "metadata": {},
   "outputs": [
    {
     "name": "stdout",
     "output_type": "stream",
     "text": [
      "Solution:\n",
      "Objective value = 40447.0\n",
      "x_1 : 48.0\n",
      "x_2 : 49.999999999999986\n",
      "x_3 : 14.0\n",
      "x_4 : 73.0\n",
      "x_5 : 44.60000000000001\n"
     ]
    }
   ],
   "source": [
    "m,x = work_schedule()\n",
    "m.Add(30*x[1] + 10*x[2] + 10*x[3] + 30*x[4] + 50*x[5] >= 6500)\n",
    "solve(m)"
   ]
  },
  {
   "cell_type": "code",
   "execution_count": 6,
   "metadata": {},
   "outputs": [
    {
     "name": "stdout",
     "output_type": "stream",
     "text": [
      "Solution:\n",
      "Objective value = 40495.0\n",
      "x_1 : 48.0\n",
      "x_2 : 51.0\n",
      "x_3 : 13.0\n",
      "x_4 : 74.0\n",
      "x_5 : 44.0\n"
     ]
    }
   ],
   "source": [
    "m,x = work_schedule(integer=True)\n",
    "m.Add(30*x[1] + 10*x[2] + 10*x[3] + 30*x[4] + 50*x[5] >= 6500)\n",
    "solve(m)"
   ]
  }
 ],
 "metadata": {
  "kernelspec": {
   "display_name": "Python 3",
   "language": "python",
   "name": "python3"
  },
  "language_info": {
   "codemirror_mode": {
    "name": "ipython",
    "version": 3
   },
   "file_extension": ".py",
   "mimetype": "text/x-python",
   "name": "python",
   "nbconvert_exporter": "python",
   "pygments_lexer": "ipython3",
   "version": "3.6.10"
  }
 },
 "nbformat": 4,
 "nbformat_minor": 4
}
