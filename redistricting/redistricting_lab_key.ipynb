{
 "cells": [
  {
   "cell_type": "markdown",
   "metadata": {},
   "source": [
    "# Redistricting Lab\n",
    "\n",
    "**Objectives**\n",
    " - Introduce students to congressional redistricting and gerrymandering\n",
    " - Introduce students to a new integer programming formulation\n",
    " - Expose students to measures of compactness and the efficiency gap\n",
    " - Give students experience creating congressional districts for differet objectives\n",
    "\n",
    "**Reading:** This lab is based on real congressional redistricting research done by Wes Gurnee and David Shmoys. More information about this research can be found at [fairmandering.org](https://www.fairmandering.org). A more complete description of the algorithm can be found [here](https://www.fairmandering.org/algorithm.html).\n",
    "\n",
    "**Brief description:** In this lab, we will consider a section of a new paper on congressional redistricting. After summarizing the problem of congressional redistricting, we will give a breif overview of the the paper leading up to the relevant section. Lastly, we will explore possible districts for the state of Georgia subject to various objectives.\n",
    "\n",
    "<font color='blue'> <b>Solutions are shown blue.</b> </font> <br>\n",
    "<font color='red'> <b>Instuctor comments are shown in red.</b> </font>"
   ]
  },
  {
   "cell_type": "code",
   "execution_count": 1,
   "metadata": {
    "scrolled": false
   },
   "outputs": [
    {
     "data": {
      "text/html": [
       "\n",
       "    <div class=\"bk-root\">\n",
       "        <a href=\"https://bokeh.org\" target=\"_blank\" class=\"bk-logo bk-logo-small bk-logo-notebook\"></a>\n",
       "        <span id=\"1001\">Loading BokehJS ...</span>\n",
       "    </div>"
      ]
     },
     "metadata": {},
     "output_type": "display_data"
    },
    {
     "data": {
      "application/javascript": [
       "\n",
       "(function(root) {\n",
       "  function now() {\n",
       "    return new Date();\n",
       "  }\n",
       "\n",
       "  var force = true;\n",
       "\n",
       "  if (typeof root._bokeh_onload_callbacks === \"undefined\" || force === true) {\n",
       "    root._bokeh_onload_callbacks = [];\n",
       "    root._bokeh_is_loading = undefined;\n",
       "  }\n",
       "\n",
       "  var JS_MIME_TYPE = 'application/javascript';\n",
       "  var HTML_MIME_TYPE = 'text/html';\n",
       "  var EXEC_MIME_TYPE = 'application/vnd.bokehjs_exec.v0+json';\n",
       "  var CLASS_NAME = 'output_bokeh rendered_html';\n",
       "\n",
       "  /**\n",
       "   * Render data to the DOM node\n",
       "   */\n",
       "  function render(props, node) {\n",
       "    var script = document.createElement(\"script\");\n",
       "    node.appendChild(script);\n",
       "  }\n",
       "\n",
       "  /**\n",
       "   * Handle when an output is cleared or removed\n",
       "   */\n",
       "  function handleClearOutput(event, handle) {\n",
       "    var cell = handle.cell;\n",
       "\n",
       "    var id = cell.output_area._bokeh_element_id;\n",
       "    var server_id = cell.output_area._bokeh_server_id;\n",
       "    // Clean up Bokeh references\n",
       "    if (id != null && id in Bokeh.index) {\n",
       "      Bokeh.index[id].model.document.clear();\n",
       "      delete Bokeh.index[id];\n",
       "    }\n",
       "\n",
       "    if (server_id !== undefined) {\n",
       "      // Clean up Bokeh references\n",
       "      var cmd = \"from bokeh.io.state import curstate; print(curstate().uuid_to_server['\" + server_id + \"'].get_sessions()[0].document.roots[0]._id)\";\n",
       "      cell.notebook.kernel.execute(cmd, {\n",
       "        iopub: {\n",
       "          output: function(msg) {\n",
       "            var id = msg.content.text.trim();\n",
       "            if (id in Bokeh.index) {\n",
       "              Bokeh.index[id].model.document.clear();\n",
       "              delete Bokeh.index[id];\n",
       "            }\n",
       "          }\n",
       "        }\n",
       "      });\n",
       "      // Destroy server and session\n",
       "      var cmd = \"import bokeh.io.notebook as ion; ion.destroy_server('\" + server_id + \"')\";\n",
       "      cell.notebook.kernel.execute(cmd);\n",
       "    }\n",
       "  }\n",
       "\n",
       "  /**\n",
       "   * Handle when a new output is added\n",
       "   */\n",
       "  function handleAddOutput(event, handle) {\n",
       "    var output_area = handle.output_area;\n",
       "    var output = handle.output;\n",
       "\n",
       "    // limit handleAddOutput to display_data with EXEC_MIME_TYPE content only\n",
       "    if ((output.output_type != \"display_data\") || (!output.data.hasOwnProperty(EXEC_MIME_TYPE))) {\n",
       "      return\n",
       "    }\n",
       "\n",
       "    var toinsert = output_area.element.find(\".\" + CLASS_NAME.split(' ')[0]);\n",
       "\n",
       "    if (output.metadata[EXEC_MIME_TYPE][\"id\"] !== undefined) {\n",
       "      toinsert[toinsert.length - 1].firstChild.textContent = output.data[JS_MIME_TYPE];\n",
       "      // store reference to embed id on output_area\n",
       "      output_area._bokeh_element_id = output.metadata[EXEC_MIME_TYPE][\"id\"];\n",
       "    }\n",
       "    if (output.metadata[EXEC_MIME_TYPE][\"server_id\"] !== undefined) {\n",
       "      var bk_div = document.createElement(\"div\");\n",
       "      bk_div.innerHTML = output.data[HTML_MIME_TYPE];\n",
       "      var script_attrs = bk_div.children[0].attributes;\n",
       "      for (var i = 0; i < script_attrs.length; i++) {\n",
       "        toinsert[toinsert.length - 1].firstChild.setAttribute(script_attrs[i].name, script_attrs[i].value);\n",
       "        toinsert[toinsert.length - 1].firstChild.textContent = bk_div.children[0].textContent\n",
       "      }\n",
       "      // store reference to server id on output_area\n",
       "      output_area._bokeh_server_id = output.metadata[EXEC_MIME_TYPE][\"server_id\"];\n",
       "    }\n",
       "  }\n",
       "\n",
       "  function register_renderer(events, OutputArea) {\n",
       "\n",
       "    function append_mime(data, metadata, element) {\n",
       "      // create a DOM node to render to\n",
       "      var toinsert = this.create_output_subarea(\n",
       "        metadata,\n",
       "        CLASS_NAME,\n",
       "        EXEC_MIME_TYPE\n",
       "      );\n",
       "      this.keyboard_manager.register_events(toinsert);\n",
       "      // Render to node\n",
       "      var props = {data: data, metadata: metadata[EXEC_MIME_TYPE]};\n",
       "      render(props, toinsert[toinsert.length - 1]);\n",
       "      element.append(toinsert);\n",
       "      return toinsert\n",
       "    }\n",
       "\n",
       "    /* Handle when an output is cleared or removed */\n",
       "    events.on('clear_output.CodeCell', handleClearOutput);\n",
       "    events.on('delete.Cell', handleClearOutput);\n",
       "\n",
       "    /* Handle when a new output is added */\n",
       "    events.on('output_added.OutputArea', handleAddOutput);\n",
       "\n",
       "    /**\n",
       "     * Register the mime type and append_mime function with output_area\n",
       "     */\n",
       "    OutputArea.prototype.register_mime_type(EXEC_MIME_TYPE, append_mime, {\n",
       "      /* Is output safe? */\n",
       "      safe: true,\n",
       "      /* Index of renderer in `output_area.display_order` */\n",
       "      index: 0\n",
       "    });\n",
       "  }\n",
       "\n",
       "  // register the mime type if in Jupyter Notebook environment and previously unregistered\n",
       "  if (root.Jupyter !== undefined) {\n",
       "    var events = require('base/js/events');\n",
       "    var OutputArea = require('notebook/js/outputarea').OutputArea;\n",
       "\n",
       "    if (OutputArea.prototype.mime_types().indexOf(EXEC_MIME_TYPE) == -1) {\n",
       "      register_renderer(events, OutputArea);\n",
       "    }\n",
       "  }\n",
       "\n",
       "  \n",
       "  if (typeof (root._bokeh_timeout) === \"undefined\" || force === true) {\n",
       "    root._bokeh_timeout = Date.now() + 5000;\n",
       "    root._bokeh_failed_load = false;\n",
       "  }\n",
       "\n",
       "  var NB_LOAD_WARNING = {'data': {'text/html':\n",
       "     \"<div style='background-color: #fdd'>\\n\"+\n",
       "     \"<p>\\n\"+\n",
       "     \"BokehJS does not appear to have successfully loaded. If loading BokehJS from CDN, this \\n\"+\n",
       "     \"may be due to a slow or bad network connection. Possible fixes:\\n\"+\n",
       "     \"</p>\\n\"+\n",
       "     \"<ul>\\n\"+\n",
       "     \"<li>re-rerun `output_notebook()` to attempt to load from CDN again, or</li>\\n\"+\n",
       "     \"<li>use INLINE resources instead, as so:</li>\\n\"+\n",
       "     \"</ul>\\n\"+\n",
       "     \"<code>\\n\"+\n",
       "     \"from bokeh.resources import INLINE\\n\"+\n",
       "     \"output_notebook(resources=INLINE)\\n\"+\n",
       "     \"</code>\\n\"+\n",
       "     \"</div>\"}};\n",
       "\n",
       "  function display_loaded() {\n",
       "    var el = document.getElementById(\"1001\");\n",
       "    if (el != null) {\n",
       "      el.textContent = \"BokehJS is loading...\";\n",
       "    }\n",
       "    if (root.Bokeh !== undefined) {\n",
       "      if (el != null) {\n",
       "        el.textContent = \"BokehJS \" + root.Bokeh.version + \" successfully loaded.\";\n",
       "      }\n",
       "    } else if (Date.now() < root._bokeh_timeout) {\n",
       "      setTimeout(display_loaded, 100)\n",
       "    }\n",
       "  }\n",
       "\n",
       "\n",
       "  function run_callbacks() {\n",
       "    try {\n",
       "      root._bokeh_onload_callbacks.forEach(function(callback) {\n",
       "        if (callback != null)\n",
       "          callback();\n",
       "      });\n",
       "    } finally {\n",
       "      delete root._bokeh_onload_callbacks\n",
       "    }\n",
       "    console.debug(\"Bokeh: all callbacks have finished\");\n",
       "  }\n",
       "\n",
       "  function load_libs(css_urls, js_urls, callback) {\n",
       "    if (css_urls == null) css_urls = [];\n",
       "    if (js_urls == null) js_urls = [];\n",
       "\n",
       "    root._bokeh_onload_callbacks.push(callback);\n",
       "    if (root._bokeh_is_loading > 0) {\n",
       "      console.debug(\"Bokeh: BokehJS is being loaded, scheduling callback at\", now());\n",
       "      return null;\n",
       "    }\n",
       "    if (js_urls == null || js_urls.length === 0) {\n",
       "      run_callbacks();\n",
       "      return null;\n",
       "    }\n",
       "    console.debug(\"Bokeh: BokehJS not loaded, scheduling load and callback at\", now());\n",
       "    root._bokeh_is_loading = css_urls.length + js_urls.length;\n",
       "\n",
       "    function on_load() {\n",
       "      root._bokeh_is_loading--;\n",
       "      if (root._bokeh_is_loading === 0) {\n",
       "        console.debug(\"Bokeh: all BokehJS libraries/stylesheets loaded\");\n",
       "        run_callbacks()\n",
       "      }\n",
       "    }\n",
       "\n",
       "    function on_error() {\n",
       "      console.error(\"failed to load \" + url);\n",
       "    }\n",
       "\n",
       "    for (var i = 0; i < css_urls.length; i++) {\n",
       "      var url = css_urls[i];\n",
       "      const element = document.createElement(\"link\");\n",
       "      element.onload = on_load;\n",
       "      element.onerror = on_error;\n",
       "      element.rel = \"stylesheet\";\n",
       "      element.type = \"text/css\";\n",
       "      element.href = url;\n",
       "      console.debug(\"Bokeh: injecting link tag for BokehJS stylesheet: \", url);\n",
       "      document.body.appendChild(element);\n",
       "    }\n",
       "\n",
       "    const hashes = {\"https://cdn.bokeh.org/bokeh/release/bokeh-2.2.3.min.js\": \"T2yuo9Oe71Cz/I4X9Ac5+gpEa5a8PpJCDlqKYO0CfAuEszu1JrXLl8YugMqYe3sM\", \"https://cdn.bokeh.org/bokeh/release/bokeh-widgets-2.2.3.min.js\": \"98GDGJ0kOMCUMUePhksaQ/GYgB3+NH9h996V88sh3aOiUNX3N+fLXAtry6xctSZ6\", \"https://cdn.bokeh.org/bokeh/release/bokeh-tables-2.2.3.min.js\": \"89bArO+nlbP3sgakeHjCo1JYxYR5wufVgA3IbUvDY+K7w4zyxJqssu7wVnfeKCq8\"};\n",
       "\n",
       "    for (var i = 0; i < js_urls.length; i++) {\n",
       "      var url = js_urls[i];\n",
       "      var element = document.createElement('script');\n",
       "      element.onload = on_load;\n",
       "      element.onerror = on_error;\n",
       "      element.async = false;\n",
       "      element.src = url;\n",
       "      if (url in hashes) {\n",
       "        element.crossOrigin = \"anonymous\";\n",
       "        element.integrity = \"sha384-\" + hashes[url];\n",
       "      }\n",
       "      console.debug(\"Bokeh: injecting script tag for BokehJS library: \", url);\n",
       "      document.head.appendChild(element);\n",
       "    }\n",
       "  };\n",
       "\n",
       "  function inject_raw_css(css) {\n",
       "    const element = document.createElement(\"style\");\n",
       "    element.appendChild(document.createTextNode(css));\n",
       "    document.body.appendChild(element);\n",
       "  }\n",
       "\n",
       "  \n",
       "  var js_urls = [\"https://cdn.bokeh.org/bokeh/release/bokeh-2.2.3.min.js\", \"https://cdn.bokeh.org/bokeh/release/bokeh-widgets-2.2.3.min.js\", \"https://cdn.bokeh.org/bokeh/release/bokeh-tables-2.2.3.min.js\"];\n",
       "  var css_urls = [];\n",
       "  \n",
       "\n",
       "  var inline_js = [\n",
       "    function(Bokeh) {\n",
       "      Bokeh.set_log_level(\"info\");\n",
       "    },\n",
       "    function(Bokeh) {\n",
       "    \n",
       "    \n",
       "    }\n",
       "  ];\n",
       "\n",
       "  function run_inline_js() {\n",
       "    \n",
       "    if (root.Bokeh !== undefined || force === true) {\n",
       "      \n",
       "    for (var i = 0; i < inline_js.length; i++) {\n",
       "      inline_js[i].call(root, root.Bokeh);\n",
       "    }\n",
       "    if (force === true) {\n",
       "        display_loaded();\n",
       "      }} else if (Date.now() < root._bokeh_timeout) {\n",
       "      setTimeout(run_inline_js, 100);\n",
       "    } else if (!root._bokeh_failed_load) {\n",
       "      console.log(\"Bokeh: BokehJS failed to load within specified timeout.\");\n",
       "      root._bokeh_failed_load = true;\n",
       "    } else if (force !== true) {\n",
       "      var cell = $(document.getElementById(\"1001\")).parents('.cell').data().cell;\n",
       "      cell.output_area.append_execute_result(NB_LOAD_WARNING)\n",
       "    }\n",
       "\n",
       "  }\n",
       "\n",
       "  if (root._bokeh_is_loading === 0) {\n",
       "    console.debug(\"Bokeh: BokehJS loaded, going straight to plotting\");\n",
       "    run_inline_js();\n",
       "  } else {\n",
       "    load_libs(css_urls, js_urls, function() {\n",
       "      console.debug(\"Bokeh: BokehJS plotting callback run at\", now());\n",
       "      run_inline_js();\n",
       "    });\n",
       "  }\n",
       "}(window));"
      ],
      "application/vnd.bokehjs_load.v0+json": "\n(function(root) {\n  function now() {\n    return new Date();\n  }\n\n  var force = true;\n\n  if (typeof root._bokeh_onload_callbacks === \"undefined\" || force === true) {\n    root._bokeh_onload_callbacks = [];\n    root._bokeh_is_loading = undefined;\n  }\n\n  \n\n  \n  if (typeof (root._bokeh_timeout) === \"undefined\" || force === true) {\n    root._bokeh_timeout = Date.now() + 5000;\n    root._bokeh_failed_load = false;\n  }\n\n  var NB_LOAD_WARNING = {'data': {'text/html':\n     \"<div style='background-color: #fdd'>\\n\"+\n     \"<p>\\n\"+\n     \"BokehJS does not appear to have successfully loaded. If loading BokehJS from CDN, this \\n\"+\n     \"may be due to a slow or bad network connection. Possible fixes:\\n\"+\n     \"</p>\\n\"+\n     \"<ul>\\n\"+\n     \"<li>re-rerun `output_notebook()` to attempt to load from CDN again, or</li>\\n\"+\n     \"<li>use INLINE resources instead, as so:</li>\\n\"+\n     \"</ul>\\n\"+\n     \"<code>\\n\"+\n     \"from bokeh.resources import INLINE\\n\"+\n     \"output_notebook(resources=INLINE)\\n\"+\n     \"</code>\\n\"+\n     \"</div>\"}};\n\n  function display_loaded() {\n    var el = document.getElementById(\"1001\");\n    if (el != null) {\n      el.textContent = \"BokehJS is loading...\";\n    }\n    if (root.Bokeh !== undefined) {\n      if (el != null) {\n        el.textContent = \"BokehJS \" + root.Bokeh.version + \" successfully loaded.\";\n      }\n    } else if (Date.now() < root._bokeh_timeout) {\n      setTimeout(display_loaded, 100)\n    }\n  }\n\n\n  function run_callbacks() {\n    try {\n      root._bokeh_onload_callbacks.forEach(function(callback) {\n        if (callback != null)\n          callback();\n      });\n    } finally {\n      delete root._bokeh_onload_callbacks\n    }\n    console.debug(\"Bokeh: all callbacks have finished\");\n  }\n\n  function load_libs(css_urls, js_urls, callback) {\n    if (css_urls == null) css_urls = [];\n    if (js_urls == null) js_urls = [];\n\n    root._bokeh_onload_callbacks.push(callback);\n    if (root._bokeh_is_loading > 0) {\n      console.debug(\"Bokeh: BokehJS is being loaded, scheduling callback at\", now());\n      return null;\n    }\n    if (js_urls == null || js_urls.length === 0) {\n      run_callbacks();\n      return null;\n    }\n    console.debug(\"Bokeh: BokehJS not loaded, scheduling load and callback at\", now());\n    root._bokeh_is_loading = css_urls.length + js_urls.length;\n\n    function on_load() {\n      root._bokeh_is_loading--;\n      if (root._bokeh_is_loading === 0) {\n        console.debug(\"Bokeh: all BokehJS libraries/stylesheets loaded\");\n        run_callbacks()\n      }\n    }\n\n    function on_error() {\n      console.error(\"failed to load \" + url);\n    }\n\n    for (var i = 0; i < css_urls.length; i++) {\n      var url = css_urls[i];\n      const element = document.createElement(\"link\");\n      element.onload = on_load;\n      element.onerror = on_error;\n      element.rel = \"stylesheet\";\n      element.type = \"text/css\";\n      element.href = url;\n      console.debug(\"Bokeh: injecting link tag for BokehJS stylesheet: \", url);\n      document.body.appendChild(element);\n    }\n\n    const hashes = {\"https://cdn.bokeh.org/bokeh/release/bokeh-2.2.3.min.js\": \"T2yuo9Oe71Cz/I4X9Ac5+gpEa5a8PpJCDlqKYO0CfAuEszu1JrXLl8YugMqYe3sM\", \"https://cdn.bokeh.org/bokeh/release/bokeh-widgets-2.2.3.min.js\": \"98GDGJ0kOMCUMUePhksaQ/GYgB3+NH9h996V88sh3aOiUNX3N+fLXAtry6xctSZ6\", \"https://cdn.bokeh.org/bokeh/release/bokeh-tables-2.2.3.min.js\": \"89bArO+nlbP3sgakeHjCo1JYxYR5wufVgA3IbUvDY+K7w4zyxJqssu7wVnfeKCq8\"};\n\n    for (var i = 0; i < js_urls.length; i++) {\n      var url = js_urls[i];\n      var element = document.createElement('script');\n      element.onload = on_load;\n      element.onerror = on_error;\n      element.async = false;\n      element.src = url;\n      if (url in hashes) {\n        element.crossOrigin = \"anonymous\";\n        element.integrity = \"sha384-\" + hashes[url];\n      }\n      console.debug(\"Bokeh: injecting script tag for BokehJS library: \", url);\n      document.head.appendChild(element);\n    }\n  };\n\n  function inject_raw_css(css) {\n    const element = document.createElement(\"style\");\n    element.appendChild(document.createTextNode(css));\n    document.body.appendChild(element);\n  }\n\n  \n  var js_urls = [\"https://cdn.bokeh.org/bokeh/release/bokeh-2.2.3.min.js\", \"https://cdn.bokeh.org/bokeh/release/bokeh-widgets-2.2.3.min.js\", \"https://cdn.bokeh.org/bokeh/release/bokeh-tables-2.2.3.min.js\"];\n  var css_urls = [];\n  \n\n  var inline_js = [\n    function(Bokeh) {\n      Bokeh.set_log_level(\"info\");\n    },\n    function(Bokeh) {\n    \n    \n    }\n  ];\n\n  function run_inline_js() {\n    \n    if (root.Bokeh !== undefined || force === true) {\n      \n    for (var i = 0; i < inline_js.length; i++) {\n      inline_js[i].call(root, root.Bokeh);\n    }\n    if (force === true) {\n        display_loaded();\n      }} else if (Date.now() < root._bokeh_timeout) {\n      setTimeout(run_inline_js, 100);\n    } else if (!root._bokeh_failed_load) {\n      console.log(\"Bokeh: BokehJS failed to load within specified timeout.\");\n      root._bokeh_failed_load = true;\n    } else if (force !== true) {\n      var cell = $(document.getElementById(\"1001\")).parents('.cell').data().cell;\n      cell.output_area.append_execute_result(NB_LOAD_WARNING)\n    }\n\n  }\n\n  if (root._bokeh_is_loading === 0) {\n    console.debug(\"Bokeh: BokehJS loaded, going straight to plotting\");\n    run_inline_js();\n  } else {\n    load_libs(css_urls, js_urls, function() {\n      console.debug(\"Bokeh: BokehJS plotting callback run at\", now());\n      run_inline_js();\n    });\n  }\n}(window));"
     },
     "metadata": {},
     "output_type": "display_data"
    }
   ],
   "source": [
    "# imports -- don't forget to run this cell!\n",
    "from redistricting import *\n",
    "import networkx as nx\n",
    "from ortools.linear_solver import pywraplp as OR\n",
    "from bokeh.io import output_notebook, show\n",
    "output_notebook()"
   ]
  },
  {
   "cell_type": "code",
   "execution_count": 2,
   "metadata": {},
   "outputs": [],
   "source": [
    "def redistrict(k, tract_district_matrix, cost, integer=False, opt_type='abs_val', solver='CBC'):\n",
    "    \"\"\"A model for solving a congressional redistricting problem.\n",
    "    \n",
    "    Args:\n",
    "        k (int): number of districts in a plan\n",
    "        tract_district_matrix (np.ndarray): binary matrix a_ij = 1 if tract i is in district j\n",
    "        costs (np.ndarray): cost coefficients of districts\n",
    "        opt_type (str): {\"minimize\", \"maximize\", \"abs_val\"}\n",
    "        solver (str) : {\"CBC\", \"gurobi\"}\n",
    "    \"\"\"\n",
    "    n_tracts, n_columns = tract_district_matrix.shape\n",
    "    TRACTS = range(n_tracts)\n",
    "    DISTRICTS = range(n_columns)\n",
    "    \n",
    "    # define the model\n",
    "    if solver=='CBC':\n",
    "        m = OR.Solver('redistrict', OR.Solver.CBC_MIXED_INTEGER_PROGRAMMING)        \n",
    "    elif solver=='gurobi':\n",
    "        m = OR.Solver('redistrict', OR.Solver.GUROBI_MIXED_INTEGER_PROGRAMMING)\n",
    "    else:\n",
    "        raise ValueError('Invalid solver')\n",
    "\n",
    "    # decision variables\n",
    "    x = {} # x_i is 1 if district i is used, 0 otherwise\n",
    "    for d in DISTRICTS:\n",
    "        if integer:\n",
    "            x[d] = m.IntVar(0, 1, name=\"x(%s)\" % d)\n",
    "        else:\n",
    "            x[d] = m.NumVar(0, 1, name=\"x(%s)\" % d)\n",
    "\n",
    "    # objective function\n",
    "    if opt_type == 'min':\n",
    "        m.Minimize(sum(cost[d] * x[d] for d in DISTRICTS))\n",
    "    elif opt_type == 'max':\n",
    "        m.Maximize(sum(cost[d] * x[d] for d in DISTRICTS))\n",
    "    elif opt_type == 'abs_val':\n",
    "        w = m.NumVar(-k, k, name=\"w\")\n",
    "        m.Add(sum(cost[d] * x[d] for d in DISTRICTS) <= w, name='absval_pos')\n",
    "        m.Add(sum(cost[d] * x[d] for d in DISTRICTS) >= -w, name='absval_neg')\n",
    "        m.Minimize(w)\n",
    "    else:\n",
    "        raise ValueError('Invalid optimization type')\n",
    "\n",
    "    # subject to: each census tract appears in exactly one district\n",
    "    for t in TRACTS:    \n",
    "        m.Add(sum(x[d] * tract_district_matrix[t,d] for d in DISTRICTS) == 1)\n",
    "\n",
    "    # subject to: k total districts\n",
    "    # TODO: Implement this constraint\n",
    "    \n",
    "    ### BEGIN SOLUTION\n",
    "    m.Add(sum(x[d] for d in DISTRICTS) == k)\n",
    "    ### END SOLUTION\n",
    "\n",
    "    return m,x"
   ]
  },
  {
   "cell_type": "code",
   "execution_count": 3,
   "metadata": {},
   "outputs": [],
   "source": [
    "# You do not need to pay attention to this cell but make sure you run it!\n",
    "def solve(m, solver='CBC'):\n",
    "    \"\"\"Solve the model and specify some solver parameters.\"\"\"\n",
    "    if solver=='CBC':\n",
    "        m.SetTimeLimit(2000)\n",
    "        params = OR.MPSolverParameters()\n",
    "        params.SetDoubleParam(params.RELATIVE_MIP_GAP, 1e-4)\n",
    "        status = m.Solve(params)\n",
    "    elif solver=='gurobi':\n",
    "        params_set = m.SetSolverSpecificParametersAsString(\n",
    "                     '''TimeLimit %d\n",
    "                        MIPGapAbs %d''' % (2000, 1e-4))\n",
    "        if params_set:\n",
    "            print('Gurobi solver parameters set successfully.')\n",
    "        status = m.Solve()\n",
    "    if status == OR.Solver.OPTIMAL:\n",
    "        print('Optimal solution found.')\n",
    "        print('Objective value =', m.Objective().Value())\n",
    "    else:\n",
    "        print('Optimal solution was not found - %s' % (status))"
   ]
  },
  {
   "cell_type": "code",
   "execution_count": 5,
   "metadata": {},
   "outputs": [
    {
     "data": {
      "text/html": [
       "\n",
       "\n",
       "\n",
       "\n",
       "\n",
       "\n",
       "  <div class=\"bk-root\" id=\"9de7c92b-3632-42d5-9c3d-432a9c6dc273\" data-root-id=\"1089\"></div>\n"
      ]
     },
     "metadata": {},
     "output_type": "display_data"
    },
    {
     "data": {
      "application/javascript": [
       "(function(root) {\n",
       "  function embed_document(root) {\n",
       "    \n",
       "  var docs_json = {\"053bca88-ca81-4118-bf7b-a2614591446a\":{\"roots\":{\"references\":[{\"attributes\":{\"background_fill_color\":null,\"below\":[{\"id\":\"1100\"}],\"border_fill_color\":null,\"center\":[{\"id\":\"1103\"},{\"id\":\"1107\"}],\"left\":[{\"id\":\"1104\"}],\"outline_line_color\":null,\"plot_height\":240,\"plot_width\":150,\"renderers\":[{\"id\":\"1126\"}],\"title\":{\"id\":\"1090\"},\"toolbar\":{\"id\":\"1115\"},\"toolbar_location\":null,\"x_range\":{\"id\":\"1092\"},\"x_scale\":{\"id\":\"1096\"},\"y_range\":{\"id\":\"1094\"},\"y_scale\":{\"id\":\"1098\"}},\"id\":\"1089\",\"subtype\":\"Figure\",\"type\":\"Plot\"},{\"attributes\":{},\"id\":\"1111\",\"type\":\"SaveTool\"},{\"attributes\":{\"axis\":{\"id\":\"1104\"},\"dimension\":1,\"grid_line_color\":null,\"ticker\":null},\"id\":\"1107\",\"type\":\"Grid\"},{\"attributes\":{},\"id\":\"1096\",\"type\":\"LinearScale\"},{\"attributes\":{\"end\":8},\"id\":\"1094\",\"type\":\"Range1d\"},{\"attributes\":{\"data\":{\"bottom\":[0,0,0,0,0,1,1,1,1,1,2,2,2,2,2,3,3,3,3,3,4,4,4,4,4,5,5,5,5,5,6,6,6,6,6,7,7,7,7,7],\"fill_color\":[\"#195495\",\"#195495\",\"#DC0000\",\"#DC0000\",\"#DC0000\",\"#195495\",\"#195495\",\"#DC0000\",\"#DC0000\",\"#DC0000\",\"#195495\",\"#195495\",\"#DC0000\",\"#DC0000\",\"#DC0000\",\"#195495\",\"#195495\",\"#DC0000\",\"#DC0000\",\"#DC0000\",\"#195495\",\"#195495\",\"#DC0000\",\"#DC0000\",\"#DC0000\",\"#195495\",\"#195495\",\"#DC0000\",\"#DC0000\",\"#DC0000\",\"#195495\",\"#195495\",\"#DC0000\",\"#DC0000\",\"#DC0000\",\"#195495\",\"#195495\",\"#DC0000\",\"#DC0000\",\"#DC0000\"],\"left\":[0,1,2,3,4,0,1,2,3,4,0,1,2,3,4,0,1,2,3,4,0,1,2,3,4,0,1,2,3,4,0,1,2,3,4,0,1,2,3,4],\"right\":[1,2,3,4,5,1,2,3,4,5,1,2,3,4,5,1,2,3,4,5,1,2,3,4,5,1,2,3,4,5,1,2,3,4,5,1,2,3,4,5],\"top\":[1,1,1,1,1,2,2,2,2,2,3,3,3,3,3,4,4,4,4,4,5,5,5,5,5,6,6,6,6,6,7,7,7,7,7,8,8,8,8,8]},\"selected\":{\"id\":\"1143\"},\"selection_policy\":{\"id\":\"1142\"}},\"id\":\"1123\",\"type\":\"ColumnDataSource\"},{\"attributes\":{\"end\":5},\"id\":\"1092\",\"type\":\"Range1d\"},{\"attributes\":{\"bottom\":{\"field\":\"bottom\"},\"fill_color\":{\"field\":\"fill_color\"},\"left\":{\"field\":\"left\"},\"line_color\":{\"value\":\"white\"},\"line_width\":{\"value\":2},\"right\":{\"field\":\"right\"},\"top\":{\"field\":\"top\"}},\"id\":\"1124\",\"type\":\"Quad\"},{\"attributes\":{\"text\":\"\"},\"id\":\"1090\",\"type\":\"Title\"},{\"attributes\":{},\"id\":\"1108\",\"type\":\"PanTool\"},{\"attributes\":{\"bottom\":{\"field\":\"bottom\"},\"fill_alpha\":{\"value\":0.1},\"fill_color\":{\"field\":\"fill_color\"},\"left\":{\"field\":\"left\"},\"line_alpha\":{\"value\":0.1},\"line_color\":{\"value\":\"white\"},\"line_width\":{\"value\":2},\"right\":{\"field\":\"right\"},\"top\":{\"field\":\"top\"}},\"id\":\"1125\",\"type\":\"Quad\"},{\"attributes\":{},\"id\":\"1142\",\"type\":\"UnionRenderers\"},{\"attributes\":{\"data_source\":{\"id\":\"1123\"},\"glyph\":{\"id\":\"1124\"},\"hover_glyph\":null,\"muted_glyph\":null,\"nonselection_glyph\":{\"id\":\"1125\"},\"selection_glyph\":null,\"view\":{\"id\":\"1127\"}},\"id\":\"1126\",\"type\":\"GlyphRenderer\"},{\"attributes\":{\"bottom_units\":\"screen\",\"fill_alpha\":0.5,\"fill_color\":\"lightgrey\",\"left_units\":\"screen\",\"level\":\"overlay\",\"line_alpha\":1.0,\"line_color\":\"black\",\"line_dash\":[4,4],\"line_width\":2,\"right_units\":\"screen\",\"top_units\":\"screen\"},\"id\":\"1114\",\"type\":\"BoxAnnotation\"},{\"attributes\":{},\"id\":\"1137\",\"type\":\"BasicTickFormatter\"},{\"attributes\":{},\"id\":\"1139\",\"type\":\"BasicTickFormatter\"},{\"attributes\":{\"axis\":{\"id\":\"1100\"},\"grid_line_color\":null,\"ticker\":null},\"id\":\"1103\",\"type\":\"Grid\"},{\"attributes\":{},\"id\":\"1113\",\"type\":\"HelpTool\"},{\"attributes\":{},\"id\":\"1101\",\"type\":\"BasicTicker\"},{\"attributes\":{},\"id\":\"1143\",\"type\":\"Selection\"},{\"attributes\":{},\"id\":\"1109\",\"type\":\"WheelZoomTool\"},{\"attributes\":{\"active_drag\":\"auto\",\"active_inspect\":\"auto\",\"active_multi\":null,\"active_scroll\":\"auto\",\"active_tap\":\"auto\",\"logo\":null,\"tools\":[{\"id\":\"1108\"},{\"id\":\"1109\"},{\"id\":\"1110\"},{\"id\":\"1111\"},{\"id\":\"1112\"},{\"id\":\"1113\"}]},\"id\":\"1115\",\"type\":\"Toolbar\"},{\"attributes\":{\"overlay\":{\"id\":\"1114\"}},\"id\":\"1110\",\"type\":\"BoxZoomTool\"},{\"attributes\":{},\"id\":\"1112\",\"type\":\"ResetTool\"},{\"attributes\":{\"formatter\":{\"id\":\"1137\"},\"ticker\":{\"id\":\"1101\"},\"visible\":false},\"id\":\"1100\",\"type\":\"LinearAxis\"},{\"attributes\":{},\"id\":\"1098\",\"type\":\"LinearScale\"},{\"attributes\":{},\"id\":\"1105\",\"type\":\"BasicTicker\"},{\"attributes\":{\"source\":{\"id\":\"1123\"}},\"id\":\"1127\",\"type\":\"CDSView\"},{\"attributes\":{\"formatter\":{\"id\":\"1139\"},\"ticker\":{\"id\":\"1105\"},\"visible\":false},\"id\":\"1104\",\"type\":\"LinearAxis\"}],\"root_ids\":[\"1089\"]},\"title\":\"Bokeh Application\",\"version\":\"2.2.3\"}};\n",
       "  var render_items = [{\"docid\":\"053bca88-ca81-4118-bf7b-a2614591446a\",\"root_ids\":[\"1089\"],\"roots\":{\"1089\":\"9de7c92b-3632-42d5-9c3d-432a9c6dc273\"}}];\n",
       "  root.Bokeh.embed.embed_items_notebook(docs_json, render_items);\n",
       "\n",
       "  }\n",
       "  if (root.Bokeh !== undefined) {\n",
       "    embed_document(root);\n",
       "  } else {\n",
       "    var attempts = 0;\n",
       "    var timer = setInterval(function(root) {\n",
       "      if (root.Bokeh !== undefined) {\n",
       "        clearInterval(timer);\n",
       "        embed_document(root);\n",
       "      } else {\n",
       "        attempts++;\n",
       "        if (attempts > 100) {\n",
       "          clearInterval(timer);\n",
       "          console.log(\"Bokeh: ERROR: Unable to run BokehJS code because BokehJS library is missing\");\n",
       "        }\n",
       "      }\n",
       "    }, 10, root)\n",
       "  }\n",
       "})(window);"
      ],
      "application/vnd.bokehjs_exec.v0+json": ""
     },
     "metadata": {
      "application/vnd.bokehjs_exec.v0+json": {
       "id": "1089"
      }
     },
     "output_type": "display_data"
    }
   ],
   "source": [
    "show(grid_plot(8,5,large_example))"
   ]
  },
  {
   "cell_type": "code",
   "execution_count": 23,
   "metadata": {},
   "outputs": [
    {
     "data": {
      "text/html": [
       "\n",
       "\n",
       "\n",
       "\n",
       "\n",
       "\n",
       "  <div class=\"bk-root\" id=\"4d2f8fc8-9e86-42e8-bed9-f18678a56877\" data-root-id=\"4790\"></div>\n"
      ]
     },
     "metadata": {},
     "output_type": "display_data"
    },
    {
     "data": {
      "application/javascript": [
       "(function(root) {\n",
       "  function embed_document(root) {\n",
       "    \n",
       "  var docs_json = {\"e44765c1-bbfb-4867-a54a-d1846f39a112\":{\"roots\":{\"references\":[{\"attributes\":{\"children\":[[{\"id\":\"2582\"},0,0],[{\"id\":\"2972\"},0,1],[{\"id\":\"3362\"},0,2],[{\"id\":\"3752\"},0,3],[{\"id\":\"4142\"},0,4],[{\"id\":\"2621\"},1,0],[{\"id\":\"3011\"},1,1],[{\"id\":\"3401\"},1,2],[{\"id\":\"3791\"},1,3],[{\"id\":\"4181\"},1,4],[{\"id\":\"2660\"},2,0],[{\"id\":\"3050\"},2,1],[{\"id\":\"3440\"},2,2],[{\"id\":\"3830\"},2,3],[{\"id\":\"4220\"},2,4],[{\"id\":\"2699\"},3,0],[{\"id\":\"3089\"},3,1],[{\"id\":\"3479\"},3,2],[{\"id\":\"3869\"},3,3],[{\"id\":\"4259\"},3,4],[{\"id\":\"2738\"},4,0],[{\"id\":\"3128\"},4,1],[{\"id\":\"3518\"},4,2],[{\"id\":\"3908\"},4,3],[{\"id\":\"4298\"},4,4],[{\"id\":\"2777\"},5,0],[{\"id\":\"3167\"},5,1],[{\"id\":\"3557\"},5,2],[{\"id\":\"3947\"},5,3],[{\"id\":\"4337\"},5,4],[{\"id\":\"2816\"},6,0],[{\"id\":\"3206\"},6,1],[{\"id\":\"3596\"},6,2],[{\"id\":\"3986\"},6,3],[{\"id\":\"2855\"},7,0],[{\"id\":\"3245\"},7,1],[{\"id\":\"3635\"},7,2],[{\"id\":\"4025\"},7,3],[{\"id\":\"2894\"},8,0],[{\"id\":\"3284\"},8,1],[{\"id\":\"3674\"},8,2],[{\"id\":\"4064\"},8,3],[{\"id\":\"2933\"},9,0],[{\"id\":\"3323\"},9,1],[{\"id\":\"3713\"},9,2],[{\"id\":\"4103\"},9,3]]},\"id\":\"4790\",\"type\":\"GridBox\"},{\"attributes\":{\"background_fill_color\":null,\"below\":[{\"id\":\"3646\"}],\"border_fill_color\":null,\"center\":[{\"id\":\"3649\"},{\"id\":\"3653\"}],\"left\":[{\"id\":\"3650\"}],\"outline_line_color\":null,\"plot_height\":90,\"plot_width\":150,\"renderers\":[{\"id\":\"3672\"}],\"title\":{\"id\":\"3636\"},\"toolbar\":{\"id\":\"3661\"},\"toolbar_location\":null,\"x_range\":{\"id\":\"3638\"},\"x_scale\":{\"id\":\"3642\"},\"y_range\":{\"id\":\"3640\"},\"y_scale\":{\"id\":\"3644\"}},\"id\":\"3635\",\"subtype\":\"Figure\",\"type\":\"Plot\"},{\"attributes\":{},\"id\":\"3502\",\"type\":\"ResetTool\"},{\"attributes\":{\"bottom\":{\"field\":\"bottom\"},\"fill_alpha\":{\"value\":0.1},\"fill_color\":{\"field\":\"fill_color\"},\"left\":{\"field\":\"left\"},\"line_alpha\":{\"value\":0.1},\"line_color\":{\"value\":\"gray\"},\"line_width\":{\"value\":2},\"right\":{\"field\":\"right\"},\"top\":{\"field\":\"top\"}},\"id\":\"3320\",\"type\":\"Quad\"},{\"attributes\":{\"axis\":{\"id\":\"3026\"},\"dimension\":1,\"grid_line_color\":null,\"ticker\":null},\"id\":\"3029\",\"type\":\"Grid\"},{\"attributes\":{\"text\":\"\"},\"id\":\"3285\",\"type\":\"Title\"},{\"attributes\":{\"overlay\":{\"id\":\"2607\"}},\"id\":\"2603\",\"type\":\"BoxZoomTool\"},{\"attributes\":{},\"id\":\"3503\",\"type\":\"HelpTool\"},{\"attributes\":{\"source\":{\"id\":\"3630\"}},\"id\":\"3634\",\"type\":\"CDSView\"},{\"attributes\":{},\"id\":\"3343\",\"type\":\"WheelZoomTool\"},{\"attributes\":{\"formatter\":{\"id\":\"4730\"},\"ticker\":{\"id\":\"3300\"},\"visible\":false},\"id\":\"3299\",\"type\":\"LinearAxis\"},{\"attributes\":{},\"id\":\"2604\",\"type\":\"SaveTool\"},{\"attributes\":{\"bottom\":{\"field\":\"bottom\"},\"fill_alpha\":{\"value\":0.1},\"fill_color\":{\"field\":\"fill_color\"},\"left\":{\"field\":\"left\"},\"line_alpha\":{\"value\":0.1},\"line_color\":{\"value\":\"gray\"},\"line_width\":{\"value\":2},\"right\":{\"field\":\"right\"},\"top\":{\"field\":\"top\"}},\"id\":\"3047\",\"type\":\"Quad\"},{\"attributes\":{\"data_source\":{\"id\":\"3045\"},\"glyph\":{\"id\":\"3046\"},\"hover_glyph\":null,\"muted_glyph\":null,\"nonselection_glyph\":{\"id\":\"3047\"},\"selection_glyph\":null,\"view\":{\"id\":\"3049\"}},\"id\":\"3048\",\"type\":\"GlyphRenderer\"},{\"attributes\":{\"axis\":{\"id\":\"3568\"},\"grid_line_color\":null,\"ticker\":null},\"id\":\"3571\",\"type\":\"Grid\"},{\"attributes\":{\"overlay\":{\"id\":\"3348\"}},\"id\":\"3344\",\"type\":\"BoxZoomTool\"},{\"attributes\":{\"active_drag\":\"auto\",\"active_inspect\":\"auto\",\"active_multi\":null,\"active_scroll\":\"auto\",\"active_tap\":\"auto\",\"logo\":null,\"tools\":[{\"id\":\"3498\"},{\"id\":\"3499\"},{\"id\":\"3500\"},{\"id\":\"3501\"},{\"id\":\"3502\"},{\"id\":\"3503\"}]},\"id\":\"3505\",\"type\":\"Toolbar\"},{\"attributes\":{\"text\":\"\"},\"id\":\"3636\",\"type\":\"Title\"},{\"attributes\":{},\"id\":\"2605\",\"type\":\"ResetTool\"},{\"attributes\":{},\"id\":\"3300\",\"type\":\"BasicTicker\"},{\"attributes\":{},\"id\":\"3345\",\"type\":\"SaveTool\"},{\"attributes\":{\"end\":5},\"id\":\"3638\",\"type\":\"Range1d\"},{\"attributes\":{\"axis\":{\"id\":\"3299\"},\"dimension\":1,\"grid_line_color\":null,\"ticker\":null},\"id\":\"3302\",\"type\":\"Grid\"},{\"attributes\":{},\"id\":\"2606\",\"type\":\"HelpTool\"},{\"attributes\":{},\"id\":\"3030\",\"type\":\"PanTool\"},{\"attributes\":{},\"id\":\"3569\",\"type\":\"BasicTicker\"},{\"attributes\":{},\"id\":\"3346\",\"type\":\"ResetTool\"},{\"attributes\":{\"formatter\":{\"id\":\"4620\"},\"ticker\":{\"id\":\"3569\"},\"visible\":false},\"id\":\"3568\",\"type\":\"LinearAxis\"},{\"attributes\":{\"end\":3},\"id\":\"3640\",\"type\":\"Range1d\"},{\"attributes\":{\"data_source\":{\"id\":\"3318\"},\"glyph\":{\"id\":\"3319\"},\"hover_glyph\":null,\"muted_glyph\":null,\"nonselection_glyph\":{\"id\":\"3320\"},\"selection_glyph\":null,\"view\":{\"id\":\"3322\"}},\"id\":\"3321\",\"type\":\"GlyphRenderer\"},{\"attributes\":{\"active_drag\":\"auto\",\"active_inspect\":\"auto\",\"active_multi\":null,\"active_scroll\":\"auto\",\"active_tap\":\"auto\",\"logo\":null,\"tools\":[{\"id\":\"2601\"},{\"id\":\"2602\"},{\"id\":\"2603\"},{\"id\":\"2604\"},{\"id\":\"2605\"},{\"id\":\"2606\"}]},\"id\":\"2608\",\"type\":\"Toolbar\"},{\"attributes\":{},\"id\":\"3031\",\"type\":\"WheelZoomTool\"},{\"attributes\":{},\"id\":\"3347\",\"type\":\"HelpTool\"},{\"attributes\":{},\"id\":\"3642\",\"type\":\"LinearScale\"},{\"attributes\":{\"background_fill_color\":null,\"below\":[{\"id\":\"2671\"}],\"border_fill_color\":null,\"center\":[{\"id\":\"2674\"},{\"id\":\"2678\"}],\"left\":[{\"id\":\"2675\"}],\"outline_line_color\":null,\"plot_height\":90,\"plot_width\":150,\"renderers\":[{\"id\":\"2697\"}],\"title\":{\"id\":\"2661\"},\"toolbar\":{\"id\":\"2686\"},\"toolbar_location\":null,\"x_range\":{\"id\":\"2663\"},\"x_scale\":{\"id\":\"2667\"},\"y_range\":{\"id\":\"2665\"},\"y_scale\":{\"id\":\"2669\"}},\"id\":\"2660\",\"subtype\":\"Figure\",\"type\":\"Plot\"},{\"attributes\":{\"active_drag\":\"auto\",\"active_inspect\":\"auto\",\"active_multi\":null,\"active_scroll\":\"auto\",\"active_tap\":\"auto\",\"logo\":null,\"tools\":[{\"id\":\"3342\"},{\"id\":\"3343\"},{\"id\":\"3344\"},{\"id\":\"3345\"},{\"id\":\"3346\"},{\"id\":\"3347\"}]},\"id\":\"3349\",\"type\":\"Toolbar\"},{\"attributes\":{\"overlay\":{\"id\":\"3036\"}},\"id\":\"3032\",\"type\":\"BoxZoomTool\"},{\"attributes\":{\"data\":{\"bottom\":[0,0,0,0,0,1,1,1,1,1,2,2,2,2,2],\"fill_color\":[\"white\",\"white\",\"white\",\"white\",\"white\",\"white\",\"white\",\"black\",\"white\",\"white\",\"white\",\"white\",\"black\",\"black\",\"white\"],\"left\":[0,1,2,3,4,0,1,2,3,4,0,1,2,3,4],\"right\":[1,2,3,4,5,1,2,3,4,5,1,2,3,4,5],\"top\":[1,1,1,1,1,2,2,2,2,2,3,3,3,3,3]},\"selected\":{\"id\":\"4734\"},\"selection_policy\":{\"id\":\"4733\"}},\"id\":\"3318\",\"type\":\"ColumnDataSource\"},{\"attributes\":{},\"id\":\"3644\",\"type\":\"LinearScale\"},{\"attributes\":{\"bottom\":{\"field\":\"bottom\"},\"fill_color\":{\"field\":\"fill_color\"},\"left\":{\"field\":\"left\"},\"line_color\":{\"value\":\"gray\"},\"line_width\":{\"value\":2},\"right\":{\"field\":\"right\"},\"top\":{\"field\":\"top\"}},\"id\":\"2656\",\"type\":\"Quad\"},{\"attributes\":{\"bottom_units\":\"screen\",\"fill_alpha\":0.5,\"fill_color\":\"lightgrey\",\"left_units\":\"screen\",\"level\":\"overlay\",\"line_alpha\":1.0,\"line_color\":\"black\",\"line_dash\":[4,4],\"line_width\":2,\"right_units\":\"screen\",\"top_units\":\"screen\"},\"id\":\"3504\",\"type\":\"BoxAnnotation\"},{\"attributes\":{\"background_fill_color\":null,\"below\":[{\"id\":\"3490\"}],\"border_fill_color\":null,\"center\":[{\"id\":\"3493\"},{\"id\":\"3497\"}],\"left\":[{\"id\":\"3494\"}],\"outline_line_color\":null,\"plot_height\":90,\"plot_width\":150,\"renderers\":[{\"id\":\"3516\"}],\"title\":{\"id\":\"3480\"},\"toolbar\":{\"id\":\"3505\"},\"toolbar_location\":null,\"x_range\":{\"id\":\"3482\"},\"x_scale\":{\"id\":\"3486\"},\"y_range\":{\"id\":\"3484\"},\"y_scale\":{\"id\":\"3488\"}},\"id\":\"3479\",\"subtype\":\"Figure\",\"type\":\"Plot\"},{\"attributes\":{\"data_source\":{\"id\":\"3513\"},\"glyph\":{\"id\":\"3514\"},\"hover_glyph\":null,\"muted_glyph\":null,\"nonselection_glyph\":{\"id\":\"3515\"},\"selection_glyph\":null,\"view\":{\"id\":\"3517\"}},\"id\":\"3516\",\"type\":\"GlyphRenderer\"},{\"attributes\":{},\"id\":\"3033\",\"type\":\"SaveTool\"},{\"attributes\":{},\"id\":\"3303\",\"type\":\"PanTool\"},{\"attributes\":{\"background_fill_color\":null,\"below\":[{\"id\":\"3529\"}],\"border_fill_color\":null,\"center\":[{\"id\":\"3532\"},{\"id\":\"3536\"}],\"left\":[{\"id\":\"3533\"}],\"outline_line_color\":null,\"plot_height\":90,\"plot_width\":150,\"renderers\":[{\"id\":\"3555\"}],\"title\":{\"id\":\"3519\"},\"toolbar\":{\"id\":\"3544\"},\"toolbar_location\":null,\"x_range\":{\"id\":\"3521\"},\"x_scale\":{\"id\":\"3525\"},\"y_range\":{\"id\":\"3523\"},\"y_scale\":{\"id\":\"3527\"}},\"id\":\"3518\",\"subtype\":\"Figure\",\"type\":\"Plot\"},{\"attributes\":{\"data_source\":{\"id\":\"3474\"},\"glyph\":{\"id\":\"3475\"},\"hover_glyph\":null,\"muted_glyph\":null,\"nonselection_glyph\":{\"id\":\"3476\"},\"selection_glyph\":null,\"view\":{\"id\":\"3478\"}},\"id\":\"3477\",\"type\":\"GlyphRenderer\"},{\"attributes\":{\"formatter\":{\"id\":\"4701\"},\"ticker\":{\"id\":\"3647\"},\"visible\":false},\"id\":\"3646\",\"type\":\"LinearAxis\"},{\"attributes\":{\"source\":{\"id\":\"2655\"}},\"id\":\"2659\",\"type\":\"CDSView\"},{\"attributes\":{},\"id\":\"3034\",\"type\":\"ResetTool\"},{\"attributes\":{},\"id\":\"3304\",\"type\":\"WheelZoomTool\"},{\"attributes\":{\"active_drag\":\"auto\",\"active_inspect\":\"auto\",\"active_multi\":null,\"active_scroll\":\"auto\",\"active_tap\":\"auto\",\"logo\":null,\"tools\":[{\"id\":\"3381\"},{\"id\":\"3382\"},{\"id\":\"3383\"},{\"id\":\"3384\"},{\"id\":\"3385\"},{\"id\":\"3386\"}]},\"id\":\"3388\",\"type\":\"Toolbar\"},{\"attributes\":{\"source\":{\"id\":\"3513\"}},\"id\":\"3517\",\"type\":\"CDSView\"},{\"attributes\":{},\"id\":\"3647\",\"type\":\"BasicTicker\"},{\"attributes\":{},\"id\":\"3035\",\"type\":\"HelpTool\"},{\"attributes\":{\"overlay\":{\"id\":\"3309\"}},\"id\":\"3305\",\"type\":\"BoxZoomTool\"},{\"attributes\":{\"bottom_units\":\"screen\",\"fill_alpha\":0.5,\"fill_color\":\"lightgrey\",\"left_units\":\"screen\",\"level\":\"overlay\",\"line_alpha\":1.0,\"line_color\":\"black\",\"line_dash\":[4,4],\"line_width\":2,\"right_units\":\"screen\",\"top_units\":\"screen\"},\"id\":\"2607\",\"type\":\"BoxAnnotation\"},{\"attributes\":{\"data_source\":{\"id\":\"2616\"},\"glyph\":{\"id\":\"2617\"},\"hover_glyph\":null,\"muted_glyph\":null,\"nonselection_glyph\":{\"id\":\"2618\"},\"selection_glyph\":null,\"view\":{\"id\":\"2620\"}},\"id\":\"2619\",\"type\":\"GlyphRenderer\"},{\"attributes\":{\"axis\":{\"id\":\"3646\"},\"grid_line_color\":null,\"ticker\":null},\"id\":\"3649\",\"type\":\"Grid\"},{\"attributes\":{\"bottom_units\":\"screen\",\"fill_alpha\":0.5,\"fill_color\":\"lightgrey\",\"left_units\":\"screen\",\"level\":\"overlay\",\"line_alpha\":1.0,\"line_color\":\"black\",\"line_dash\":[4,4],\"line_width\":2,\"right_units\":\"screen\",\"top_units\":\"screen\"},\"id\":\"3348\",\"type\":\"BoxAnnotation\"},{\"attributes\":{\"background_fill_color\":null,\"below\":[{\"id\":\"2632\"}],\"border_fill_color\":null,\"center\":[{\"id\":\"2635\"},{\"id\":\"2639\"}],\"left\":[{\"id\":\"2636\"}],\"outline_line_color\":null,\"plot_height\":90,\"plot_width\":150,\"renderers\":[{\"id\":\"2658\"}],\"title\":{\"id\":\"2622\"},\"toolbar\":{\"id\":\"2647\"},\"toolbar_location\":null,\"x_range\":{\"id\":\"2624\"},\"x_scale\":{\"id\":\"2628\"},\"y_range\":{\"id\":\"2626\"},\"y_scale\":{\"id\":\"2630\"}},\"id\":\"2621\",\"subtype\":\"Figure\",\"type\":\"Plot\"},{\"attributes\":{},\"id\":\"3306\",\"type\":\"SaveTool\"},{\"attributes\":{\"active_drag\":\"auto\",\"active_inspect\":\"auto\",\"active_multi\":null,\"active_scroll\":\"auto\",\"active_tap\":\"auto\",\"logo\":null,\"tools\":[{\"id\":\"3030\"},{\"id\":\"3031\"},{\"id\":\"3032\"},{\"id\":\"3033\"},{\"id\":\"3034\"},{\"id\":\"3035\"}]},\"id\":\"3037\",\"type\":\"Toolbar\"},{\"attributes\":{\"formatter\":{\"id\":\"4703\"},\"ticker\":{\"id\":\"3651\"},\"visible\":false},\"id\":\"3650\",\"type\":\"LinearAxis\"},{\"attributes\":{\"data_source\":{\"id\":\"3357\"},\"glyph\":{\"id\":\"3358\"},\"hover_glyph\":null,\"muted_glyph\":null,\"nonselection_glyph\":{\"id\":\"3359\"},\"selection_glyph\":null,\"view\":{\"id\":\"3361\"}},\"id\":\"3360\",\"type\":\"GlyphRenderer\"},{\"attributes\":{\"background_fill_color\":null,\"below\":[{\"id\":\"3373\"}],\"border_fill_color\":null,\"center\":[{\"id\":\"3376\"},{\"id\":\"3380\"}],\"left\":[{\"id\":\"3377\"}],\"outline_line_color\":null,\"plot_height\":90,\"plot_width\":150,\"renderers\":[{\"id\":\"3399\"}],\"title\":{\"id\":\"3363\"},\"toolbar\":{\"id\":\"3388\"},\"toolbar_location\":null,\"x_range\":{\"id\":\"3365\"},\"x_scale\":{\"id\":\"3369\"},\"y_range\":{\"id\":\"3367\"},\"y_scale\":{\"id\":\"3371\"}},\"id\":\"3362\",\"subtype\":\"Figure\",\"type\":\"Plot\"},{\"attributes\":{\"text\":\"\"},\"id\":\"3519\",\"type\":\"Title\"},{\"attributes\":{\"source\":{\"id\":\"2616\"}},\"id\":\"2620\",\"type\":\"CDSView\"},{\"attributes\":{\"bottom\":{\"field\":\"bottom\"},\"fill_alpha\":{\"value\":0.1},\"fill_color\":{\"field\":\"fill_color\"},\"left\":{\"field\":\"left\"},\"line_alpha\":{\"value\":0.1},\"line_color\":{\"value\":\"gray\"},\"line_width\":{\"value\":2},\"right\":{\"field\":\"right\"},\"top\":{\"field\":\"top\"}},\"id\":\"3554\",\"type\":\"Quad\"},{\"attributes\":{},\"id\":\"3112\",\"type\":\"ResetTool\"},{\"attributes\":{},\"id\":\"3651\",\"type\":\"BasicTicker\"},{\"attributes\":{},\"id\":\"3307\",\"type\":\"ResetTool\"},{\"attributes\":{\"end\":5},\"id\":\"3521\",\"type\":\"Range1d\"},{\"attributes\":{},\"id\":\"3308\",\"type\":\"HelpTool\"},{\"attributes\":{\"source\":{\"id\":\"3357\"}},\"id\":\"3361\",\"type\":\"CDSView\"},{\"attributes\":{\"axis\":{\"id\":\"3650\"},\"dimension\":1,\"grid_line_color\":null,\"ticker\":null},\"id\":\"3653\",\"type\":\"Grid\"},{\"attributes\":{},\"id\":\"3111\",\"type\":\"SaveTool\"},{\"attributes\":{\"end\":3},\"id\":\"3523\",\"type\":\"Range1d\"},{\"attributes\":{\"text\":\"\"},\"id\":\"2622\",\"type\":\"Title\"},{\"attributes\":{\"active_drag\":\"auto\",\"active_inspect\":\"auto\",\"active_multi\":null,\"active_scroll\":\"auto\",\"active_tap\":\"auto\",\"logo\":null,\"tools\":[{\"id\":\"3303\"},{\"id\":\"3304\"},{\"id\":\"3305\"},{\"id\":\"3306\"},{\"id\":\"3307\"},{\"id\":\"3308\"}]},\"id\":\"3310\",\"type\":\"Toolbar\"},{\"attributes\":{},\"id\":\"3113\",\"type\":\"HelpTool\"},{\"attributes\":{},\"id\":\"3525\",\"type\":\"LinearScale\"},{\"attributes\":{\"data_source\":{\"id\":\"3669\"},\"glyph\":{\"id\":\"3670\"},\"hover_glyph\":null,\"muted_glyph\":null,\"nonselection_glyph\":{\"id\":\"3671\"},\"selection_glyph\":null,\"view\":{\"id\":\"3673\"}},\"id\":\"3672\",\"type\":\"GlyphRenderer\"},{\"attributes\":{\"bottom\":{\"field\":\"bottom\"},\"fill_alpha\":{\"value\":0.1},\"fill_color\":{\"field\":\"fill_color\"},\"left\":{\"field\":\"left\"},\"line_alpha\":{\"value\":0.1},\"line_color\":{\"value\":\"gray\"},\"line_width\":{\"value\":2},\"right\":{\"field\":\"right\"},\"top\":{\"field\":\"top\"}},\"id\":\"3398\",\"type\":\"Quad\"},{\"attributes\":{\"bottom\":{\"field\":\"bottom\"},\"fill_alpha\":{\"value\":0.1},\"fill_color\":{\"field\":\"fill_color\"},\"left\":{\"field\":\"left\"},\"line_alpha\":{\"value\":0.1},\"line_color\":{\"value\":\"gray\"},\"line_width\":{\"value\":2},\"right\":{\"field\":\"right\"},\"top\":{\"field\":\"top\"}},\"id\":\"3671\",\"type\":\"Quad\"},{\"attributes\":{\"text\":\"\"},\"id\":\"3363\",\"type\":\"Title\"},{\"attributes\":{\"end\":5},\"id\":\"2624\",\"type\":\"Range1d\"},{\"attributes\":{},\"id\":\"3385\",\"type\":\"ResetTool\"},{\"attributes\":{},\"id\":\"3527\",\"type\":\"LinearScale\"},{\"attributes\":{\"bottom_units\":\"screen\",\"fill_alpha\":0.5,\"fill_color\":\"lightgrey\",\"left_units\":\"screen\",\"level\":\"overlay\",\"line_alpha\":1.0,\"line_color\":\"black\",\"line_dash\":[4,4],\"line_width\":2,\"right_units\":\"screen\",\"top_units\":\"screen\"},\"id\":\"3036\",\"type\":\"BoxAnnotation\"},{\"attributes\":{\"end\":5},\"id\":\"3365\",\"type\":\"Range1d\"},{\"attributes\":{\"end\":3},\"id\":\"2626\",\"type\":\"Range1d\"},{\"attributes\":{},\"id\":\"3384\",\"type\":\"SaveTool\"},{\"attributes\":{\"formatter\":{\"id\":\"4575\"},\"ticker\":{\"id\":\"3530\"},\"visible\":false},\"id\":\"3529\",\"type\":\"LinearAxis\"},{\"attributes\":{\"data\":{\"bottom\":[0,0,0,0,0,1,1,1,1,1,2,2,2,2,2],\"fill_color\":[\"black\",\"black\",\"black\",\"white\",\"white\",\"white\",\"white\",\"white\",\"white\",\"white\",\"white\",\"white\",\"white\",\"white\",\"white\"],\"left\":[0,1,2,3,4,0,1,2,3,4,0,1,2,3,4],\"right\":[1,2,3,4,5,1,2,3,4,5,1,2,3,4,5],\"top\":[1,1,1,1,1,2,2,2,2,2,3,3,3,3,3]},\"selected\":{\"id\":\"4410\"},\"selection_policy\":{\"id\":\"4409\"}},\"id\":\"3786\",\"type\":\"ColumnDataSource\"},{\"attributes\":{\"bottom\":{\"field\":\"bottom\"},\"fill_color\":{\"field\":\"fill_color\"},\"left\":{\"field\":\"left\"},\"line_color\":{\"value\":\"gray\"},\"line_width\":{\"value\":2},\"right\":{\"field\":\"right\"},\"top\":{\"field\":\"top\"}},\"id\":\"3046\",\"type\":\"Quad\"},{\"attributes\":{},\"id\":\"3654\",\"type\":\"PanTool\"},{\"attributes\":{\"end\":3},\"id\":\"3367\",\"type\":\"Range1d\"},{\"attributes\":{\"background_fill_color\":null,\"below\":[{\"id\":\"3061\"}],\"border_fill_color\":null,\"center\":[{\"id\":\"3064\"},{\"id\":\"3068\"}],\"left\":[{\"id\":\"3065\"}],\"outline_line_color\":null,\"plot_height\":90,\"plot_width\":150,\"renderers\":[{\"id\":\"3087\"}],\"title\":{\"id\":\"3051\"},\"toolbar\":{\"id\":\"3076\"},\"toolbar_location\":null,\"x_range\":{\"id\":\"3053\"},\"x_scale\":{\"id\":\"3057\"},\"y_range\":{\"id\":\"3055\"},\"y_scale\":{\"id\":\"3059\"}},\"id\":\"3050\",\"subtype\":\"Figure\",\"type\":\"Plot\"},{\"attributes\":{},\"id\":\"2628\",\"type\":\"LinearScale\"},{\"attributes\":{},\"id\":\"3386\",\"type\":\"HelpTool\"},{\"attributes\":{\"source\":{\"id\":\"3045\"}},\"id\":\"3049\",\"type\":\"CDSView\"},{\"attributes\":{},\"id\":\"3530\",\"type\":\"BasicTicker\"},{\"attributes\":{},\"id\":\"3655\",\"type\":\"WheelZoomTool\"},{\"attributes\":{},\"id\":\"3369\",\"type\":\"LinearScale\"},{\"attributes\":{},\"id\":\"2630\",\"type\":\"LinearScale\"},{\"attributes\":{\"bottom_units\":\"screen\",\"fill_alpha\":0.5,\"fill_color\":\"lightgrey\",\"left_units\":\"screen\",\"level\":\"overlay\",\"line_alpha\":1.0,\"line_color\":\"black\",\"line_dash\":[4,4],\"line_width\":2,\"right_units\":\"screen\",\"top_units\":\"screen\"},\"id\":\"3309\",\"type\":\"BoxAnnotation\"},{\"attributes\":{\"axis\":{\"id\":\"3529\"},\"grid_line_color\":null,\"ticker\":null},\"id\":\"3532\",\"type\":\"Grid\"},{\"attributes\":{},\"id\":\"3371\",\"type\":\"LinearScale\"},{\"attributes\":{\"text\":\"\"},\"id\":\"3753\",\"type\":\"Title\"},{\"attributes\":{\"formatter\":{\"id\":\"4422\"},\"ticker\":{\"id\":\"2633\"},\"visible\":false},\"id\":\"2632\",\"type\":\"LinearAxis\"},{\"attributes\":{\"text\":\"\"},\"id\":\"3051\",\"type\":\"Title\"},{\"attributes\":{\"formatter\":{\"id\":\"4577\"},\"ticker\":{\"id\":\"3534\"},\"visible\":false},\"id\":\"3533\",\"type\":\"LinearAxis\"},{\"attributes\":{\"bottom\":{\"field\":\"bottom\"},\"fill_alpha\":{\"value\":0.1},\"fill_color\":{\"field\":\"fill_color\"},\"left\":{\"field\":\"left\"},\"line_alpha\":{\"value\":0.1},\"line_color\":{\"value\":\"gray\"},\"line_width\":{\"value\":2},\"right\":{\"field\":\"right\"},\"top\":{\"field\":\"top\"}},\"id\":\"3086\",\"type\":\"Quad\"},{\"attributes\":{\"bottom\":{\"field\":\"bottom\"},\"fill_color\":{\"field\":\"fill_color\"},\"left\":{\"field\":\"left\"},\"line_color\":{\"value\":\"gray\"},\"line_width\":{\"value\":2},\"right\":{\"field\":\"right\"},\"top\":{\"field\":\"top\"}},\"id\":\"3319\",\"type\":\"Quad\"},{\"attributes\":{\"background_fill_color\":null,\"below\":[{\"id\":\"3334\"}],\"border_fill_color\":null,\"center\":[{\"id\":\"3337\"},{\"id\":\"3341\"}],\"left\":[{\"id\":\"3338\"}],\"outline_line_color\":null,\"plot_height\":90,\"plot_width\":150,\"renderers\":[{\"id\":\"3360\"}],\"title\":{\"id\":\"3324\"},\"toolbar\":{\"id\":\"3349\"},\"toolbar_location\":null,\"x_range\":{\"id\":\"3326\"},\"x_scale\":{\"id\":\"3330\"},\"y_range\":{\"id\":\"3328\"},\"y_scale\":{\"id\":\"3332\"}},\"id\":\"3323\",\"subtype\":\"Figure\",\"type\":\"Plot\"},{\"attributes\":{\"formatter\":{\"id\":\"4395\"},\"ticker\":{\"id\":\"3374\"},\"visible\":false},\"id\":\"3373\",\"type\":\"LinearAxis\"},{\"attributes\":{},\"id\":\"2633\",\"type\":\"BasicTicker\"},{\"attributes\":{\"end\":5},\"id\":\"3053\",\"type\":\"Range1d\"},{\"attributes\":{},\"id\":\"3534\",\"type\":\"BasicTicker\"},{\"attributes\":{\"source\":{\"id\":\"3318\"}},\"id\":\"3322\",\"type\":\"CDSView\"},{\"attributes\":{\"axis\":{\"id\":\"2632\"},\"grid_line_color\":null,\"ticker\":null},\"id\":\"2635\",\"type\":\"Grid\"},{\"attributes\":{},\"id\":\"3374\",\"type\":\"BasicTicker\"},{\"attributes\":{\"end\":3},\"id\":\"3055\",\"type\":\"Range1d\"},{\"attributes\":{\"axis\":{\"id\":\"3533\"},\"dimension\":1,\"grid_line_color\":null,\"ticker\":null},\"id\":\"3536\",\"type\":\"Grid\"},{\"attributes\":{\"bottom\":{\"field\":\"bottom\"},\"fill_color\":{\"field\":\"fill_color\"},\"left\":{\"field\":\"left\"},\"line_color\":{\"value\":\"gray\"},\"line_width\":{\"value\":2},\"right\":{\"field\":\"right\"},\"top\":{\"field\":\"top\"}},\"id\":\"3670\",\"type\":\"Quad\"},{\"attributes\":{\"background_fill_color\":null,\"below\":[{\"id\":\"3685\"}],\"border_fill_color\":null,\"center\":[{\"id\":\"3688\"},{\"id\":\"3692\"}],\"left\":[{\"id\":\"3689\"}],\"outline_line_color\":null,\"plot_height\":90,\"plot_width\":150,\"renderers\":[{\"id\":\"3711\"}],\"title\":{\"id\":\"3675\"},\"toolbar\":{\"id\":\"3700\"},\"toolbar_location\":null,\"x_range\":{\"id\":\"3677\"},\"x_scale\":{\"id\":\"3681\"},\"y_range\":{\"id\":\"3679\"},\"y_scale\":{\"id\":\"3683\"}},\"id\":\"3674\",\"subtype\":\"Figure\",\"type\":\"Plot\"},{\"attributes\":{\"axis\":{\"id\":\"3373\"},\"grid_line_color\":null,\"ticker\":null},\"id\":\"3376\",\"type\":\"Grid\"},{\"attributes\":{\"formatter\":{\"id\":\"4424\"},\"ticker\":{\"id\":\"2637\"},\"visible\":false},\"id\":\"2636\",\"type\":\"LinearAxis\"},{\"attributes\":{},\"id\":\"3057\",\"type\":\"LinearScale\"},{\"attributes\":{\"text\":\"\"},\"id\":\"3324\",\"type\":\"Title\"},{\"attributes\":{\"source\":{\"id\":\"3669\"}},\"id\":\"3673\",\"type\":\"CDSView\"},{\"attributes\":{\"bottom\":{\"field\":\"bottom\"},\"fill_alpha\":{\"value\":0.1},\"fill_color\":{\"field\":\"fill_color\"},\"left\":{\"field\":\"left\"},\"line_alpha\":{\"value\":0.1},\"line_color\":{\"value\":\"gray\"},\"line_width\":{\"value\":2},\"right\":{\"field\":\"right\"},\"top\":{\"field\":\"top\"}},\"id\":\"3359\",\"type\":\"Quad\"},{\"attributes\":{\"formatter\":{\"id\":\"4397\"},\"ticker\":{\"id\":\"3378\"},\"visible\":false},\"id\":\"3377\",\"type\":\"LinearAxis\"},{\"attributes\":{},\"id\":\"2637\",\"type\":\"BasicTicker\"},{\"attributes\":{\"bottom\":{\"field\":\"bottom\"},\"fill_color\":{\"field\":\"fill_color\"},\"left\":{\"field\":\"left\"},\"line_color\":{\"value\":\"gray\"},\"line_width\":{\"value\":2},\"right\":{\"field\":\"right\"},\"top\":{\"field\":\"top\"}},\"id\":\"3553\",\"type\":\"Quad\"},{\"attributes\":{},\"id\":\"3059\",\"type\":\"LinearScale\"},{\"attributes\":{\"end\":5},\"id\":\"3326\",\"type\":\"Range1d\"},{\"attributes\":{\"axis\":{\"id\":\"2636\"},\"dimension\":1,\"grid_line_color\":null,\"ticker\":null},\"id\":\"2639\",\"type\":\"Grid\"},{\"attributes\":{},\"id\":\"3378\",\"type\":\"BasicTicker\"},{\"attributes\":{\"data\":{\"bottom\":[0,0,0,0,0,1,1,1,1,1,2,2,2,2,2],\"fill_color\":[\"white\",\"white\",\"white\",\"white\",\"white\",\"white\",\"white\",\"white\",\"white\",\"white\",\"black\",\"black\",\"black\",\"white\",\"white\"],\"left\":[0,1,2,3,4,0,1,2,3,4,0,1,2,3,4],\"right\":[1,2,3,4,5,1,2,3,4,5,1,2,3,4,5],\"top\":[1,1,1,1,1,2,2,2,2,2,3,3,3,3,3]},\"selected\":{\"id\":\"4581\"},\"selection_policy\":{\"id\":\"4580\"}},\"id\":\"3552\",\"type\":\"ColumnDataSource\"},{\"attributes\":{\"formatter\":{\"id\":\"4476\"},\"ticker\":{\"id\":\"3062\"},\"visible\":false},\"id\":\"3061\",\"type\":\"LinearAxis\"},{\"attributes\":{},\"id\":\"3564\",\"type\":\"LinearScale\"},{\"attributes\":{\"text\":\"\"},\"id\":\"3675\",\"type\":\"Title\"},{\"attributes\":{\"end\":3},\"id\":\"3328\",\"type\":\"Range1d\"},{\"attributes\":{\"axis\":{\"id\":\"3377\"},\"dimension\":1,\"grid_line_color\":null,\"ticker\":null},\"id\":\"3380\",\"type\":\"Grid\"},{\"attributes\":{\"bottom\":{\"field\":\"bottom\"},\"fill_alpha\":{\"value\":0.1},\"fill_color\":{\"field\":\"fill_color\"},\"left\":{\"field\":\"left\"},\"line_alpha\":{\"value\":0.1},\"line_color\":{\"value\":\"gray\"},\"line_width\":{\"value\":2},\"right\":{\"field\":\"right\"},\"top\":{\"field\":\"top\"}},\"id\":\"2657\",\"type\":\"Quad\"},{\"attributes\":{},\"id\":\"3537\",\"type\":\"PanTool\"},{\"attributes\":{\"data_source\":{\"id\":\"2655\"},\"glyph\":{\"id\":\"2656\"},\"hover_glyph\":null,\"muted_glyph\":null,\"nonselection_glyph\":{\"id\":\"2657\"},\"selection_glyph\":null,\"view\":{\"id\":\"2659\"}},\"id\":\"2658\",\"type\":\"GlyphRenderer\"},{\"attributes\":{\"end\":5},\"id\":\"3677\",\"type\":\"Range1d\"},{\"attributes\":{},\"id\":\"3330\",\"type\":\"LinearScale\"},{\"attributes\":{},\"id\":\"3062\",\"type\":\"BasicTicker\"},{\"attributes\":{\"data_source\":{\"id\":\"3396\"},\"glyph\":{\"id\":\"3397\"},\"hover_glyph\":null,\"muted_glyph\":null,\"nonselection_glyph\":{\"id\":\"3398\"},\"selection_glyph\":null,\"view\":{\"id\":\"3400\"}},\"id\":\"3399\",\"type\":\"GlyphRenderer\"},{\"attributes\":{},\"id\":\"3538\",\"type\":\"WheelZoomTool\"},{\"attributes\":{\"axis\":{\"id\":\"3061\"},\"grid_line_color\":null,\"ticker\":null},\"id\":\"3064\",\"type\":\"Grid\"},{\"attributes\":{\"end\":3},\"id\":\"3679\",\"type\":\"Range1d\"},{\"attributes\":{},\"id\":\"3332\",\"type\":\"LinearScale\"},{\"attributes\":{\"overlay\":{\"id\":\"3543\"}},\"id\":\"3539\",\"type\":\"BoxZoomTool\"},{\"attributes\":{\"formatter\":{\"id\":\"4478\"},\"ticker\":{\"id\":\"3066\"},\"visible\":false},\"id\":\"3065\",\"type\":\"LinearAxis\"},{\"attributes\":{},\"id\":\"3681\",\"type\":\"LinearScale\"},{\"attributes\":{\"formatter\":{\"id\":\"4764\"},\"ticker\":{\"id\":\"3335\"},\"visible\":false},\"id\":\"3334\",\"type\":\"LinearAxis\"},{\"attributes\":{\"data\":{\"bottom\":[0,0,0,0,0,1,1,1,1,1,2,2,2,2,2],\"fill_color\":[\"black\",\"white\",\"white\",\"white\",\"white\",\"black\",\"black\",\"white\",\"white\",\"white\",\"white\",\"white\",\"white\",\"white\",\"white\"],\"left\":[0,1,2,3,4,0,1,2,3,4,0,1,2,3,4],\"right\":[1,2,3,4,5,1,2,3,4,5,1,2,3,4,5],\"top\":[1,1,1,1,1,2,2,2,2,2,3,3,3,3,3]},\"selected\":{\"id\":\"4401\"},\"selection_policy\":{\"id\":\"4400\"}},\"id\":\"3396\",\"type\":\"ColumnDataSource\"},{\"attributes\":{},\"id\":\"2602\",\"type\":\"WheelZoomTool\"},{\"attributes\":{},\"id\":\"2640\",\"type\":\"PanTool\"},{\"attributes\":{\"source\":{\"id\":\"3474\"}},\"id\":\"3478\",\"type\":\"CDSView\"},{\"attributes\":{},\"id\":\"3683\",\"type\":\"LinearScale\"},{\"attributes\":{},\"id\":\"3381\",\"type\":\"PanTool\"},{\"attributes\":{},\"id\":\"2641\",\"type\":\"WheelZoomTool\"},{\"attributes\":{},\"id\":\"3066\",\"type\":\"BasicTicker\"},{\"attributes\":{},\"id\":\"3540\",\"type\":\"SaveTool\"},{\"attributes\":{},\"id\":\"3541\",\"type\":\"ResetTool\"},{\"attributes\":{},\"id\":\"3335\",\"type\":\"BasicTicker\"},{\"attributes\":{\"axis\":{\"id\":\"3065\"},\"dimension\":1,\"grid_line_color\":null,\"ticker\":null},\"id\":\"3068\",\"type\":\"Grid\"},{\"attributes\":{\"formatter\":{\"id\":\"4737\"},\"ticker\":{\"id\":\"3686\"},\"visible\":false},\"id\":\"3685\",\"type\":\"LinearAxis\"},{\"attributes\":{\"axis\":{\"id\":\"3334\"},\"grid_line_color\":null,\"ticker\":null},\"id\":\"3337\",\"type\":\"Grid\"},{\"attributes\":{},\"id\":\"3382\",\"type\":\"WheelZoomTool\"},{\"attributes\":{\"overlay\":{\"id\":\"2646\"}},\"id\":\"2642\",\"type\":\"BoxZoomTool\"},{\"attributes\":{},\"id\":\"3542\",\"type\":\"HelpTool\"},{\"attributes\":{\"formatter\":{\"id\":\"4766\"},\"ticker\":{\"id\":\"3339\"},\"visible\":false},\"id\":\"3338\",\"type\":\"LinearAxis\"},{\"attributes\":{},\"id\":\"2643\",\"type\":\"SaveTool\"},{\"attributes\":{\"bottom\":{\"field\":\"bottom\"},\"fill_alpha\":{\"value\":0.1},\"fill_color\":{\"field\":\"fill_color\"},\"left\":{\"field\":\"left\"},\"line_alpha\":{\"value\":0.1},\"line_color\":{\"value\":\"gray\"},\"line_width\":{\"value\":2},\"right\":{\"field\":\"right\"},\"top\":{\"field\":\"top\"}},\"id\":\"3515\",\"type\":\"Quad\"},{\"attributes\":{},\"id\":\"3686\",\"type\":\"BasicTicker\"},{\"attributes\":{},\"id\":\"3566\",\"type\":\"LinearScale\"},{\"attributes\":{\"bottom\":{\"field\":\"bottom\"},\"fill_color\":{\"field\":\"fill_color\"},\"left\":{\"field\":\"left\"},\"line_color\":{\"value\":\"gray\"},\"line_width\":{\"value\":2},\"right\":{\"field\":\"right\"},\"top\":{\"field\":\"top\"}},\"id\":\"3085\",\"type\":\"Quad\"},{\"attributes\":{\"active_drag\":\"auto\",\"active_inspect\":\"auto\",\"active_multi\":null,\"active_scroll\":\"auto\",\"active_tap\":\"auto\",\"logo\":null,\"tools\":[{\"id\":\"3537\"},{\"id\":\"3538\"},{\"id\":\"3539\"},{\"id\":\"3540\"},{\"id\":\"3541\"},{\"id\":\"3542\"}]},\"id\":\"3544\",\"type\":\"Toolbar\"},{\"attributes\":{\"axis\":{\"id\":\"3685\"},\"grid_line_color\":null,\"ticker\":null},\"id\":\"3688\",\"type\":\"Grid\"},{\"attributes\":{},\"id\":\"2644\",\"type\":\"ResetTool\"},{\"attributes\":{},\"id\":\"3339\",\"type\":\"BasicTicker\"},{\"attributes\":{\"data\":{\"bottom\":[0,0,0,0,0,1,1,1,1,1,2,2,2,2,2],\"fill_color\":[\"black\",\"black\",\"white\",\"white\",\"white\",\"white\",\"black\",\"white\",\"white\",\"white\",\"white\",\"white\",\"white\",\"white\",\"white\"],\"left\":[0,1,2,3,4,0,1,2,3,4,0,1,2,3,4],\"right\":[1,2,3,4,5,1,2,3,4,5,1,2,3,4,5],\"top\":[1,1,1,1,1,2,2,2,2,2,3,3,3,3,3]},\"selected\":{\"id\":\"4482\"},\"selection_policy\":{\"id\":\"4481\"}},\"id\":\"3084\",\"type\":\"ColumnDataSource\"},{\"attributes\":{\"bottom_units\":\"screen\",\"fill_alpha\":0.5,\"fill_color\":\"lightgrey\",\"left_units\":\"screen\",\"level\":\"overlay\",\"line_alpha\":1.0,\"line_color\":\"black\",\"line_dash\":[4,4],\"line_width\":2,\"right_units\":\"screen\",\"top_units\":\"screen\"},\"id\":\"3387\",\"type\":\"BoxAnnotation\"},{\"attributes\":{\"formatter\":{\"id\":\"4739\"},\"ticker\":{\"id\":\"3690\"},\"visible\":false},\"id\":\"3689\",\"type\":\"LinearAxis\"},{\"attributes\":{\"axis\":{\"id\":\"3338\"},\"dimension\":1,\"grid_line_color\":null,\"ticker\":null},\"id\":\"3341\",\"type\":\"Grid\"},{\"attributes\":{},\"id\":\"2645\",\"type\":\"HelpTool\"},{\"attributes\":{\"overlay\":{\"id\":\"3114\"}},\"id\":\"3110\",\"type\":\"BoxZoomTool\"},{\"attributes\":{\"end\":3},\"id\":\"3562\",\"type\":\"Range1d\"},{\"attributes\":{},\"id\":\"3069\",\"type\":\"PanTool\"},{\"attributes\":{\"bottom\":{\"field\":\"bottom\"},\"fill_color\":{\"field\":\"fill_color\"},\"left\":{\"field\":\"left\"},\"line_color\":{\"value\":\"gray\"},\"line_width\":{\"value\":2},\"right\":{\"field\":\"right\"},\"top\":{\"field\":\"top\"}},\"id\":\"3397\",\"type\":\"Quad\"},{\"attributes\":{},\"id\":\"3657\",\"type\":\"SaveTool\"},{\"attributes\":{},\"id\":\"3690\",\"type\":\"BasicTicker\"},{\"attributes\":{\"background_fill_color\":null,\"below\":[{\"id\":\"3412\"}],\"border_fill_color\":null,\"center\":[{\"id\":\"3415\"},{\"id\":\"3419\"}],\"left\":[{\"id\":\"3416\"}],\"outline_line_color\":null,\"plot_height\":90,\"plot_width\":150,\"renderers\":[{\"id\":\"3438\"}],\"title\":{\"id\":\"3402\"},\"toolbar\":{\"id\":\"3427\"},\"toolbar_location\":null,\"x_range\":{\"id\":\"3404\"},\"x_scale\":{\"id\":\"3408\"},\"y_range\":{\"id\":\"3406\"},\"y_scale\":{\"id\":\"3410\"}},\"id\":\"3401\",\"subtype\":\"Figure\",\"type\":\"Plot\"},{\"attributes\":{\"active_drag\":\"auto\",\"active_inspect\":\"auto\",\"active_multi\":null,\"active_scroll\":\"auto\",\"active_tap\":\"auto\",\"logo\":null,\"tools\":[{\"id\":\"2640\"},{\"id\":\"2641\"},{\"id\":\"2642\"},{\"id\":\"2643\"},{\"id\":\"2644\"},{\"id\":\"2645\"}]},\"id\":\"2647\",\"type\":\"Toolbar\"},{\"attributes\":{\"end\":5},\"id\":\"3560\",\"type\":\"Range1d\"},{\"attributes\":{\"axis\":{\"id\":\"3689\"},\"dimension\":1,\"grid_line_color\":null,\"ticker\":null},\"id\":\"3692\",\"type\":\"Grid\"},{\"attributes\":{\"source\":{\"id\":\"3396\"}},\"id\":\"3400\",\"type\":\"CDSView\"},{\"attributes\":{},\"id\":\"3070\",\"type\":\"WheelZoomTool\"},{\"attributes\":{\"bottom\":{\"field\":\"bottom\"},\"fill_color\":{\"field\":\"fill_color\"},\"left\":{\"field\":\"left\"},\"line_color\":{\"value\":\"gray\"},\"line_width\":{\"value\":2},\"right\":{\"field\":\"right\"},\"top\":{\"field\":\"top\"}},\"id\":\"3358\",\"type\":\"Quad\"},{\"attributes\":{\"overlay\":{\"id\":\"3075\"}},\"id\":\"3071\",\"type\":\"BoxZoomTool\"},{\"attributes\":{\"data\":{\"bottom\":[0,0,0,0,0,1,1,1,1,1,2,2,2,2,2],\"fill_color\":[\"white\",\"white\",\"white\",\"white\",\"white\",\"white\",\"white\",\"white\",\"black\",\"white\",\"white\",\"white\",\"white\",\"black\",\"black\"],\"left\":[0,1,2,3,4,0,1,2,3,4,0,1,2,3,4],\"right\":[1,2,3,4,5,1,2,3,4,5,1,2,3,4,5],\"top\":[1,1,1,1,1,2,2,2,2,2,3,3,3,3,3]},\"selected\":{\"id\":\"4770\"},\"selection_policy\":{\"id\":\"4769\"}},\"id\":\"3357\",\"type\":\"ColumnDataSource\"},{\"attributes\":{\"bottom_units\":\"screen\",\"fill_alpha\":0.5,\"fill_color\":\"lightgrey\",\"left_units\":\"screen\",\"level\":\"overlay\",\"line_alpha\":1.0,\"line_color\":\"black\",\"line_dash\":[4,4],\"line_width\":2,\"right_units\":\"screen\",\"top_units\":\"screen\"},\"id\":\"3543\",\"type\":\"BoxAnnotation\"},{\"attributes\":{\"active_drag\":\"auto\",\"active_inspect\":\"auto\",\"active_multi\":null,\"active_scroll\":\"auto\",\"active_tap\":\"auto\",\"logo\":null,\"tools\":[{\"id\":\"3576\"},{\"id\":\"3577\"},{\"id\":\"3578\"},{\"id\":\"3579\"},{\"id\":\"3580\"},{\"id\":\"3581\"}]},\"id\":\"3583\",\"type\":\"Toolbar\"},{\"attributes\":{\"overlay\":{\"id\":\"3387\"}},\"id\":\"3383\",\"type\":\"BoxZoomTool\"},{\"attributes\":{\"data\":{\"bottom\":[0,0,0,0,0,1,1,1,1,1,2,2,2,2,2],\"fill_color\":[\"white\",\"black\",\"white\",\"white\",\"white\",\"white\",\"black\",\"black\",\"white\",\"white\",\"white\",\"white\",\"white\",\"white\",\"white\"],\"left\":[0,1,2,3,4,0,1,2,3,4,0,1,2,3,4],\"right\":[1,2,3,4,5,1,2,3,4,5,1,2,3,4,5],\"top\":[1,1,1,1,1,2,2,2,2,2,3,3,3,3,3]},\"selected\":{\"id\":\"4446\"},\"selection_policy\":{\"id\":\"4445\"}},\"id\":\"3435\",\"type\":\"ColumnDataSource\"},{\"attributes\":{},\"id\":\"3072\",\"type\":\"SaveTool\"},{\"attributes\":{\"data\":{\"bottom\":[0,0,0,0,0,1,1,1,1,1,2,2,2,2,2],\"fill_color\":[\"white\",\"white\",\"white\",\"white\",\"white\",\"white\",\"black\",\"black\",\"black\",\"white\",\"white\",\"white\",\"white\",\"white\",\"white\"],\"left\":[0,1,2,3,4,0,1,2,3,4,0,1,2,3,4],\"right\":[1,2,3,4,5,1,2,3,4,5,1,2,3,4,5],\"top\":[1,1,1,1,1,2,2,2,2,2,3,3,3,3,3]},\"selected\":{\"id\":\"4743\"},\"selection_policy\":{\"id\":\"4742\"}},\"id\":\"3708\",\"type\":\"ColumnDataSource\"},{\"attributes\":{},\"id\":\"3342\",\"type\":\"PanTool\"},{\"attributes\":{\"bottom_units\":\"screen\",\"fill_alpha\":0.5,\"fill_color\":\"lightgrey\",\"left_units\":\"screen\",\"level\":\"overlay\",\"line_alpha\":1.0,\"line_color\":\"black\",\"line_dash\":[4,4],\"line_width\":2,\"right_units\":\"screen\",\"top_units\":\"screen\"},\"id\":\"2685\",\"type\":\"BoxAnnotation\"},{\"attributes\":{\"axis\":{\"id\":\"2753\"},\"dimension\":1,\"grid_line_color\":null,\"ticker\":null},\"id\":\"2756\",\"type\":\"Grid\"},{\"attributes\":{},\"id\":\"3966\",\"type\":\"PanTool\"},{\"attributes\":{},\"id\":\"4616\",\"type\":\"UnionRenderers\"},{\"attributes\":{},\"id\":\"2864\",\"type\":\"LinearScale\"},{\"attributes\":{\"text\":\"\"},\"id\":\"3909\",\"type\":\"Title\"},{\"attributes\":{\"bottom\":{\"field\":\"bottom\"},\"fill_alpha\":{\"value\":0.1},\"fill_color\":{\"field\":\"fill_color\"},\"left\":{\"field\":\"left\"},\"line_alpha\":{\"value\":0.1},\"line_color\":{\"value\":\"gray\"},\"line_width\":{\"value\":2},\"right\":{\"field\":\"right\"},\"top\":{\"field\":\"top\"}},\"id\":\"2774\",\"type\":\"Quad\"},{\"attributes\":{},\"id\":\"3967\",\"type\":\"WheelZoomTool\"},{\"attributes\":{},\"id\":\"4617\",\"type\":\"Selection\"},{\"attributes\":{\"data_source\":{\"id\":\"2772\"},\"glyph\":{\"id\":\"2773\"},\"hover_glyph\":null,\"muted_glyph\":null,\"nonselection_glyph\":{\"id\":\"2774\"},\"selection_glyph\":null,\"view\":{\"id\":\"2776\"}},\"id\":\"2775\",\"type\":\"GlyphRenderer\"},{\"attributes\":{\"formatter\":{\"id\":\"4683\"},\"ticker\":{\"id\":\"2867\"},\"visible\":false},\"id\":\"2866\",\"type\":\"LinearAxis\"},{\"attributes\":{\"end\":5},\"id\":\"3911\",\"type\":\"Range1d\"},{\"attributes\":{},\"id\":\"4620\",\"type\":\"BasicTickFormatter\"},{\"attributes\":{\"overlay\":{\"id\":\"3972\"}},\"id\":\"3968\",\"type\":\"BoxZoomTool\"},{\"attributes\":{},\"id\":\"2867\",\"type\":\"BasicTicker\"},{\"attributes\":{\"end\":3},\"id\":\"3913\",\"type\":\"Range1d\"},{\"attributes\":{},\"id\":\"4622\",\"type\":\"BasicTickFormatter\"},{\"attributes\":{},\"id\":\"3969\",\"type\":\"SaveTool\"},{\"attributes\":{},\"id\":\"2839\",\"type\":\"ResetTool\"},{\"attributes\":{\"axis\":{\"id\":\"2866\"},\"grid_line_color\":null,\"ticker\":null},\"id\":\"2869\",\"type\":\"Grid\"},{\"attributes\":{},\"id\":\"2757\",\"type\":\"PanTool\"},{\"attributes\":{},\"id\":\"3915\",\"type\":\"LinearScale\"},{\"attributes\":{},\"id\":\"3970\",\"type\":\"ResetTool\"},{\"attributes\":{},\"id\":\"4625\",\"type\":\"UnionRenderers\"},{\"attributes\":{\"formatter\":{\"id\":\"4685\"},\"ticker\":{\"id\":\"2871\"},\"visible\":false},\"id\":\"2870\",\"type\":\"LinearAxis\"},{\"attributes\":{},\"id\":\"2758\",\"type\":\"WheelZoomTool\"},{\"attributes\":{},\"id\":\"3917\",\"type\":\"LinearScale\"},{\"attributes\":{},\"id\":\"3971\",\"type\":\"HelpTool\"},{\"attributes\":{},\"id\":\"4626\",\"type\":\"Selection\"},{\"attributes\":{\"overlay\":{\"id\":\"2763\"}},\"id\":\"2759\",\"type\":\"BoxZoomTool\"},{\"attributes\":{},\"id\":\"2871\",\"type\":\"BasicTicker\"},{\"attributes\":{\"formatter\":{\"id\":\"4584\"},\"ticker\":{\"id\":\"3920\"},\"visible\":false},\"id\":\"3919\",\"type\":\"LinearAxis\"},{\"attributes\":{\"end\":3},\"id\":\"4030\",\"type\":\"Range1d\"},{\"attributes\":{},\"id\":\"4629\",\"type\":\"BasicTickFormatter\"},{\"attributes\":{\"active_drag\":\"auto\",\"active_inspect\":\"auto\",\"active_multi\":null,\"active_scroll\":\"auto\",\"active_tap\":\"auto\",\"logo\":null,\"tools\":[{\"id\":\"3966\"},{\"id\":\"3967\"},{\"id\":\"3968\"},{\"id\":\"3969\"},{\"id\":\"3970\"},{\"id\":\"3971\"}]},\"id\":\"3973\",\"type\":\"Toolbar\"},{\"attributes\":{\"axis\":{\"id\":\"2870\"},\"dimension\":1,\"grid_line_color\":null,\"ticker\":null},\"id\":\"2873\",\"type\":\"Grid\"},{\"attributes\":{},\"id\":\"2760\",\"type\":\"SaveTool\"},{\"attributes\":{},\"id\":\"3920\",\"type\":\"BasicTicker\"},{\"attributes\":{},\"id\":\"4631\",\"type\":\"BasicTickFormatter\"},{\"attributes\":{\"bottom_units\":\"screen\",\"fill_alpha\":0.5,\"fill_color\":\"lightgrey\",\"left_units\":\"screen\",\"level\":\"overlay\",\"line_alpha\":1.0,\"line_color\":\"black\",\"line_dash\":[4,4],\"line_width\":2,\"right_units\":\"screen\",\"top_units\":\"screen\"},\"id\":\"3660\",\"type\":\"BoxAnnotation\"},{\"attributes\":{\"end\":5},\"id\":\"4028\",\"type\":\"Range1d\"},{\"attributes\":{},\"id\":\"2761\",\"type\":\"ResetTool\"},{\"attributes\":{\"bottom\":{\"field\":\"bottom\"},\"fill_alpha\":{\"value\":0.1},\"fill_color\":{\"field\":\"fill_color\"},\"left\":{\"field\":\"left\"},\"line_alpha\":{\"value\":0.1},\"line_color\":{\"value\":\"gray\"},\"line_width\":{\"value\":2},\"right\":{\"field\":\"right\"},\"top\":{\"field\":\"top\"}},\"id\":\"2891\",\"type\":\"Quad\"},{\"attributes\":{\"axis\":{\"id\":\"3919\"},\"grid_line_color\":null,\"ticker\":null},\"id\":\"3922\",\"type\":\"Grid\"},{\"attributes\":{\"data_source\":{\"id\":\"2889\"},\"glyph\":{\"id\":\"2890\"},\"hover_glyph\":null,\"muted_glyph\":null,\"nonselection_glyph\":{\"id\":\"2891\"},\"selection_glyph\":null,\"view\":{\"id\":\"2893\"}},\"id\":\"2892\",\"type\":\"GlyphRenderer\"},{\"attributes\":{},\"id\":\"4634\",\"type\":\"UnionRenderers\"},{\"attributes\":{\"text\":\"\"},\"id\":\"4026\",\"type\":\"Title\"},{\"attributes\":{},\"id\":\"2762\",\"type\":\"HelpTool\"},{\"attributes\":{\"formatter\":{\"id\":\"4586\"},\"ticker\":{\"id\":\"3924\"},\"visible\":false},\"id\":\"3923\",\"type\":\"LinearAxis\"},{\"attributes\":{\"data\":{\"bottom\":[0,0,0,0,0,1,1,1,1,1,2,2,2,2,2],\"fill_color\":[\"white\",\"white\",\"white\",\"white\",\"black\",\"white\",\"white\",\"white\",\"white\",\"black\",\"white\",\"white\",\"white\",\"white\",\"black\"],\"left\":[0,1,2,3,4,0,1,2,3,4,0,1,2,3,4],\"right\":[1,2,3,4,5,1,2,3,4,5,1,2,3,4,5],\"top\":[1,1,1,1,1,2,2,2,2,2,3,3,3,3,3]},\"selected\":{\"id\":\"4716\"},\"selection_policy\":{\"id\":\"4715\"}},\"id\":\"4059\",\"type\":\"ColumnDataSource\"},{\"attributes\":{},\"id\":\"4635\",\"type\":\"Selection\"},{\"attributes\":{},\"id\":\"2840\",\"type\":\"HelpTool\"},{\"attributes\":{\"bottom\":{\"field\":\"bottom\"},\"fill_color\":{\"field\":\"fill_color\"},\"left\":{\"field\":\"left\"},\"line_color\":{\"value\":\"gray\"},\"line_width\":{\"value\":2},\"right\":{\"field\":\"right\"},\"top\":{\"field\":\"top\"}},\"id\":\"2929\",\"type\":\"Quad\"},{\"attributes\":{\"active_drag\":\"auto\",\"active_inspect\":\"auto\",\"active_multi\":null,\"active_scroll\":\"auto\",\"active_tap\":\"auto\",\"logo\":null,\"tools\":[{\"id\":\"2757\"},{\"id\":\"2758\"},{\"id\":\"2759\"},{\"id\":\"2760\"},{\"id\":\"2761\"},{\"id\":\"2762\"}]},\"id\":\"2764\",\"type\":\"Toolbar\"},{\"attributes\":{},\"id\":\"3924\",\"type\":\"BasicTicker\"},{\"attributes\":{},\"id\":\"4638\",\"type\":\"BasicTickFormatter\"},{\"attributes\":{},\"id\":\"2874\",\"type\":\"PanTool\"},{\"attributes\":{\"bottom_units\":\"screen\",\"fill_alpha\":0.5,\"fill_color\":\"lightgrey\",\"left_units\":\"screen\",\"level\":\"overlay\",\"line_alpha\":1.0,\"line_color\":\"black\",\"line_dash\":[4,4],\"line_width\":2,\"right_units\":\"screen\",\"top_units\":\"screen\"},\"id\":\"3972\",\"type\":\"BoxAnnotation\"},{\"attributes\":{\"axis\":{\"id\":\"3923\"},\"dimension\":1,\"grid_line_color\":null,\"ticker\":null},\"id\":\"3926\",\"type\":\"Grid\"},{\"attributes\":{\"data_source\":{\"id\":\"3981\"},\"glyph\":{\"id\":\"3982\"},\"hover_glyph\":null,\"muted_glyph\":null,\"nonselection_glyph\":{\"id\":\"3983\"},\"selection_glyph\":null,\"view\":{\"id\":\"3985\"}},\"id\":\"3984\",\"type\":\"GlyphRenderer\"},{\"attributes\":{},\"id\":\"4640\",\"type\":\"BasicTickFormatter\"},{\"attributes\":{},\"id\":\"2875\",\"type\":\"WheelZoomTool\"},{\"attributes\":{\"background_fill_color\":null,\"below\":[{\"id\":\"3997\"}],\"border_fill_color\":null,\"center\":[{\"id\":\"4000\"},{\"id\":\"4004\"}],\"left\":[{\"id\":\"4001\"}],\"outline_line_color\":null,\"plot_height\":90,\"plot_width\":150,\"renderers\":[{\"id\":\"4023\"}],\"title\":{\"id\":\"3987\"},\"toolbar\":{\"id\":\"4012\"},\"toolbar_location\":null,\"x_range\":{\"id\":\"3989\"},\"x_scale\":{\"id\":\"3993\"},\"y_range\":{\"id\":\"3991\"},\"y_scale\":{\"id\":\"3995\"}},\"id\":\"3986\",\"subtype\":\"Figure\",\"type\":\"Plot\"},{\"attributes\":{},\"id\":\"2838\",\"type\":\"SaveTool\"},{\"attributes\":{\"bottom\":{\"field\":\"bottom\"},\"fill_alpha\":{\"value\":0.1},\"fill_color\":{\"field\":\"fill_color\"},\"left\":{\"field\":\"left\"},\"line_alpha\":{\"value\":0.1},\"line_color\":{\"value\":\"gray\"},\"line_width\":{\"value\":2},\"right\":{\"field\":\"right\"},\"top\":{\"field\":\"top\"}},\"id\":\"3944\",\"type\":\"Quad\"},{\"attributes\":{\"overlay\":{\"id\":\"2880\"}},\"id\":\"2876\",\"type\":\"BoxZoomTool\"},{\"attributes\":{},\"id\":\"4643\",\"type\":\"UnionRenderers\"},{\"attributes\":{\"data_source\":{\"id\":\"3942\"},\"glyph\":{\"id\":\"3943\"},\"hover_glyph\":null,\"muted_glyph\":null,\"nonselection_glyph\":{\"id\":\"3944\"},\"selection_glyph\":null,\"view\":{\"id\":\"3946\"}},\"id\":\"3945\",\"type\":\"GlyphRenderer\"},{\"attributes\":{\"source\":{\"id\":\"3981\"}},\"id\":\"3985\",\"type\":\"CDSView\"},{\"attributes\":{\"overlay\":{\"id\":\"2841\"}},\"id\":\"2837\",\"type\":\"BoxZoomTool\"},{\"attributes\":{},\"id\":\"2877\",\"type\":\"SaveTool\"},{\"attributes\":{},\"id\":\"4644\",\"type\":\"Selection\"},{\"attributes\":{\"bottom_units\":\"screen\",\"fill_alpha\":0.5,\"fill_color\":\"lightgrey\",\"left_units\":\"screen\",\"level\":\"overlay\",\"line_alpha\":1.0,\"line_color\":\"black\",\"line_dash\":[4,4],\"line_width\":2,\"right_units\":\"screen\",\"top_units\":\"screen\"},\"id\":\"2763\",\"type\":\"BoxAnnotation\"},{\"attributes\":{},\"id\":\"4647\",\"type\":\"BasicTickFormatter\"},{\"attributes\":{},\"id\":\"2878\",\"type\":\"ResetTool\"},{\"attributes\":{},\"id\":\"3927\",\"type\":\"PanTool\"},{\"attributes\":{\"source\":{\"id\":\"4020\"}},\"id\":\"4024\",\"type\":\"CDSView\"},{\"attributes\":{\"text\":\"\"},\"id\":\"3987\",\"type\":\"Title\"},{\"attributes\":{},\"id\":\"4649\",\"type\":\"BasicTickFormatter\"},{\"attributes\":{},\"id\":\"2879\",\"type\":\"HelpTool\"},{\"attributes\":{\"bottom\":{\"field\":\"bottom\"},\"fill_color\":{\"field\":\"fill_color\"},\"left\":{\"field\":\"left\"},\"line_color\":{\"value\":\"gray\"},\"line_width\":{\"value\":2},\"right\":{\"field\":\"right\"},\"top\":{\"field\":\"top\"}},\"id\":\"2773\",\"type\":\"Quad\"},{\"attributes\":{},\"id\":\"3928\",\"type\":\"WheelZoomTool\"},{\"attributes\":{\"background_fill_color\":null,\"below\":[{\"id\":\"2788\"}],\"border_fill_color\":null,\"center\":[{\"id\":\"2791\"},{\"id\":\"2795\"}],\"left\":[{\"id\":\"2792\"}],\"outline_line_color\":null,\"plot_height\":90,\"plot_width\":150,\"renderers\":[{\"id\":\"2814\"}],\"title\":{\"id\":\"2778\"},\"toolbar\":{\"id\":\"2803\"},\"toolbar_location\":null,\"x_range\":{\"id\":\"2780\"},\"x_scale\":{\"id\":\"2784\"},\"y_range\":{\"id\":\"2782\"},\"y_scale\":{\"id\":\"2786\"}},\"id\":\"2777\",\"subtype\":\"Figure\",\"type\":\"Plot\"},{\"attributes\":{\"end\":5},\"id\":\"3989\",\"type\":\"Range1d\"},{\"attributes\":{},\"id\":\"4652\",\"type\":\"UnionRenderers\"},{\"attributes\":{\"active_drag\":\"auto\",\"active_inspect\":\"auto\",\"active_multi\":null,\"active_scroll\":\"auto\",\"active_tap\":\"auto\",\"logo\":null,\"tools\":[{\"id\":\"2874\"},{\"id\":\"2875\"},{\"id\":\"2876\"},{\"id\":\"2877\"},{\"id\":\"2878\"},{\"id\":\"2879\"}]},\"id\":\"2881\",\"type\":\"Toolbar\"},{\"attributes\":{\"source\":{\"id\":\"2772\"}},\"id\":\"2776\",\"type\":\"CDSView\"},{\"attributes\":{\"overlay\":{\"id\":\"3933\"}},\"id\":\"3929\",\"type\":\"BoxZoomTool\"},{\"attributes\":{\"end\":3},\"id\":\"3991\",\"type\":\"Range1d\"},{\"attributes\":{},\"id\":\"4653\",\"type\":\"Selection\"},{\"attributes\":{\"bottom_units\":\"screen\",\"fill_alpha\":0.5,\"fill_color\":\"lightgrey\",\"left_units\":\"screen\",\"level\":\"overlay\",\"line_alpha\":1.0,\"line_color\":\"black\",\"line_dash\":[4,4],\"line_width\":2,\"right_units\":\"screen\",\"top_units\":\"screen\"},\"id\":\"3933\",\"type\":\"BoxAnnotation\"},{\"attributes\":{},\"id\":\"3993\",\"type\":\"LinearScale\"},{\"attributes\":{\"bottom\":{\"field\":\"bottom\"},\"fill_alpha\":{\"value\":0.1},\"fill_color\":{\"field\":\"fill_color\"},\"left\":{\"field\":\"left\"},\"line_alpha\":{\"value\":0.1},\"line_color\":{\"value\":\"gray\"},\"line_width\":{\"value\":2},\"right\":{\"field\":\"right\"},\"top\":{\"field\":\"top\"}},\"id\":\"2813\",\"type\":\"Quad\"},{\"attributes\":{},\"id\":\"4656\",\"type\":\"BasicTickFormatter\"},{\"attributes\":{\"text\":\"\"},\"id\":\"2778\",\"type\":\"Title\"},{\"attributes\":{\"active_drag\":\"auto\",\"active_inspect\":\"auto\",\"active_multi\":null,\"active_scroll\":\"auto\",\"active_tap\":\"auto\",\"logo\":null,\"tools\":[{\"id\":\"2913\"},{\"id\":\"2914\"},{\"id\":\"2915\"},{\"id\":\"2916\"},{\"id\":\"2917\"},{\"id\":\"2918\"}]},\"id\":\"2920\",\"type\":\"Toolbar\"},{\"attributes\":{},\"id\":\"3995\",\"type\":\"LinearScale\"},{\"attributes\":{},\"id\":\"4658\",\"type\":\"BasicTickFormatter\"},{\"attributes\":{\"end\":5},\"id\":\"2780\",\"type\":\"Range1d\"},{\"attributes\":{\"bottom\":{\"field\":\"bottom\"},\"fill_color\":{\"field\":\"fill_color\"},\"left\":{\"field\":\"left\"},\"line_color\":{\"value\":\"gray\"},\"line_width\":{\"value\":2},\"right\":{\"field\":\"right\"},\"top\":{\"field\":\"top\"}},\"id\":\"3943\",\"type\":\"Quad\"},{\"attributes\":{\"bottom\":{\"field\":\"bottom\"},\"fill_alpha\":{\"value\":0.1},\"fill_color\":{\"field\":\"fill_color\"},\"left\":{\"field\":\"left\"},\"line_alpha\":{\"value\":0.1},\"line_color\":{\"value\":\"gray\"},\"line_width\":{\"value\":2},\"right\":{\"field\":\"right\"},\"top\":{\"field\":\"top\"}},\"id\":\"2930\",\"type\":\"Quad\"},{\"attributes\":{\"background_fill_color\":null,\"below\":[{\"id\":\"3958\"}],\"border_fill_color\":null,\"center\":[{\"id\":\"3961\"},{\"id\":\"3965\"}],\"left\":[{\"id\":\"3962\"}],\"outline_line_color\":null,\"plot_height\":90,\"plot_width\":150,\"renderers\":[{\"id\":\"3984\"}],\"title\":{\"id\":\"3948\"},\"toolbar\":{\"id\":\"3973\"},\"toolbar_location\":null,\"x_range\":{\"id\":\"3950\"},\"x_scale\":{\"id\":\"3954\"},\"y_range\":{\"id\":\"3952\"},\"y_scale\":{\"id\":\"3956\"}},\"id\":\"3947\",\"subtype\":\"Figure\",\"type\":\"Plot\"},{\"attributes\":{\"formatter\":{\"id\":\"4674\"},\"ticker\":{\"id\":\"3998\"},\"visible\":false},\"id\":\"3997\",\"type\":\"LinearAxis\"},{\"attributes\":{},\"id\":\"4661\",\"type\":\"UnionRenderers\"},{\"attributes\":{\"bottom_units\":\"screen\",\"fill_alpha\":0.5,\"fill_color\":\"lightgrey\",\"left_units\":\"screen\",\"level\":\"overlay\",\"line_alpha\":1.0,\"line_color\":\"black\",\"line_dash\":[4,4],\"line_width\":2,\"right_units\":\"screen\",\"top_units\":\"screen\"},\"id\":\"2880\",\"type\":\"BoxAnnotation\"},{\"attributes\":{\"end\":3},\"id\":\"2782\",\"type\":\"Range1d\"},{\"attributes\":{\"source\":{\"id\":\"3942\"}},\"id\":\"3946\",\"type\":\"CDSView\"},{\"attributes\":{},\"id\":\"3998\",\"type\":\"BasicTicker\"},{\"attributes\":{},\"id\":\"4662\",\"type\":\"Selection\"},{\"attributes\":{},\"id\":\"2784\",\"type\":\"LinearScale\"},{\"attributes\":{\"axis\":{\"id\":\"3997\"},\"grid_line_color\":null,\"ticker\":null},\"id\":\"4000\",\"type\":\"Grid\"},{\"attributes\":{\"bottom\":{\"field\":\"bottom\"},\"fill_alpha\":{\"value\":0.1},\"fill_color\":{\"field\":\"fill_color\"},\"left\":{\"field\":\"left\"},\"line_alpha\":{\"value\":0.1},\"line_color\":{\"value\":\"gray\"},\"line_width\":{\"value\":2},\"right\":{\"field\":\"right\"},\"top\":{\"field\":\"top\"}},\"id\":\"3983\",\"type\":\"Quad\"},{\"attributes\":{},\"id\":\"4665\",\"type\":\"BasicTickFormatter\"},{\"attributes\":{\"bottom\":{\"field\":\"bottom\"},\"fill_color\":{\"field\":\"fill_color\"},\"left\":{\"field\":\"left\"},\"line_color\":{\"value\":\"gray\"},\"line_width\":{\"value\":2},\"right\":{\"field\":\"right\"},\"top\":{\"field\":\"top\"}},\"id\":\"2890\",\"type\":\"Quad\"},{\"attributes\":{\"background_fill_color\":null,\"below\":[{\"id\":\"2905\"}],\"border_fill_color\":null,\"center\":[{\"id\":\"2908\"},{\"id\":\"2912\"}],\"left\":[{\"id\":\"2909\"}],\"outline_line_color\":null,\"plot_height\":90,\"plot_width\":150,\"renderers\":[{\"id\":\"2931\"}],\"title\":{\"id\":\"2895\"},\"toolbar\":{\"id\":\"2920\"},\"toolbar_location\":null,\"x_range\":{\"id\":\"2897\"},\"x_scale\":{\"id\":\"2901\"},\"y_range\":{\"id\":\"2899\"},\"y_scale\":{\"id\":\"2903\"}},\"id\":\"2894\",\"subtype\":\"Figure\",\"type\":\"Plot\"},{\"attributes\":{},\"id\":\"2786\",\"type\":\"LinearScale\"},{\"attributes\":{\"text\":\"\"},\"id\":\"3948\",\"type\":\"Title\"},{\"attributes\":{\"formatter\":{\"id\":\"4676\"},\"ticker\":{\"id\":\"4002\"},\"visible\":false},\"id\":\"4001\",\"type\":\"LinearAxis\"},{\"attributes\":{},\"id\":\"4667\",\"type\":\"BasicTickFormatter\"},{\"attributes\":{\"source\":{\"id\":\"2889\"}},\"id\":\"2893\",\"type\":\"CDSView\"},{\"attributes\":{\"formatter\":{\"id\":\"4602\"},\"ticker\":{\"id\":\"2789\"},\"visible\":false},\"id\":\"2788\",\"type\":\"LinearAxis\"},{\"attributes\":{\"end\":5},\"id\":\"3950\",\"type\":\"Range1d\"},{\"attributes\":{},\"id\":\"4002\",\"type\":\"BasicTicker\"},{\"attributes\":{\"source\":{\"id\":\"4059\"}},\"id\":\"4063\",\"type\":\"CDSView\"},{\"attributes\":{},\"id\":\"4670\",\"type\":\"UnionRenderers\"},{\"attributes\":{\"end\":3},\"id\":\"3952\",\"type\":\"Range1d\"},{\"attributes\":{\"axis\":{\"id\":\"3182\"},\"dimension\":1,\"grid_line_color\":null,\"ticker\":null},\"id\":\"3185\",\"type\":\"Grid\"},{\"attributes\":{},\"id\":\"2789\",\"type\":\"BasicTicker\"},{\"attributes\":{\"axis\":{\"id\":\"4001\"},\"dimension\":1,\"grid_line_color\":null,\"ticker\":null},\"id\":\"4004\",\"type\":\"Grid\"},{\"attributes\":{\"text\":\"\"},\"id\":\"2895\",\"type\":\"Title\"},{\"attributes\":{\"data\":{\"bottom\":[0,0,0,0,0,1,1,1,1,1,2,2,2,2,2],\"fill_color\":[\"white\",\"white\",\"white\",\"white\",\"white\",\"black\",\"black\",\"white\",\"white\",\"white\",\"white\",\"black\",\"white\",\"white\",\"white\"],\"left\":[0,1,2,3,4,0,1,2,3,4,0,1,2,3,4],\"right\":[1,2,3,4,5,1,2,3,4,5,1,2,3,4,5],\"top\":[1,1,1,1,1,2,2,2,2,2,3,3,3,3,3]},\"selected\":{\"id\":\"4725\"},\"selection_policy\":{\"id\":\"4724\"}},\"id\":\"2928\",\"type\":\"ColumnDataSource\"},{\"attributes\":{},\"id\":\"4671\",\"type\":\"Selection\"},{\"attributes\":{\"axis\":{\"id\":\"2788\"},\"grid_line_color\":null,\"ticker\":null},\"id\":\"2791\",\"type\":\"Grid\"},{\"attributes\":{},\"id\":\"3954\",\"type\":\"LinearScale\"},{\"attributes\":{\"data_source\":{\"id\":\"4020\"},\"glyph\":{\"id\":\"4021\"},\"hover_glyph\":null,\"muted_glyph\":null,\"nonselection_glyph\":{\"id\":\"4022\"},\"selection_glyph\":null,\"view\":{\"id\":\"4024\"}},\"id\":\"4023\",\"type\":\"GlyphRenderer\"},{\"attributes\":{\"end\":5},\"id\":\"2897\",\"type\":\"Range1d\"},{\"attributes\":{},\"id\":\"4674\",\"type\":\"BasicTickFormatter\"},{\"attributes\":{\"background_fill_color\":null,\"below\":[{\"id\":\"4036\"}],\"border_fill_color\":null,\"center\":[{\"id\":\"4039\"},{\"id\":\"4043\"}],\"left\":[{\"id\":\"4040\"}],\"outline_line_color\":null,\"plot_height\":90,\"plot_width\":150,\"renderers\":[{\"id\":\"4062\"}],\"title\":{\"id\":\"4026\"},\"toolbar\":{\"id\":\"4051\"},\"toolbar_location\":null,\"x_range\":{\"id\":\"4028\"},\"x_scale\":{\"id\":\"4032\"},\"y_range\":{\"id\":\"4030\"},\"y_scale\":{\"id\":\"4034\"}},\"id\":\"4025\",\"subtype\":\"Figure\",\"type\":\"Plot\"},{\"attributes\":{\"formatter\":{\"id\":\"4604\"},\"ticker\":{\"id\":\"2793\"},\"visible\":false},\"id\":\"2792\",\"type\":\"LinearAxis\"},{\"attributes\":{},\"id\":\"3956\",\"type\":\"LinearScale\"},{\"attributes\":{\"end\":3},\"id\":\"2899\",\"type\":\"Range1d\"},{\"attributes\":{},\"id\":\"4676\",\"type\":\"BasicTickFormatter\"},{\"attributes\":{\"formatter\":{\"id\":\"4629\"},\"ticker\":{\"id\":\"3959\"},\"visible\":false},\"id\":\"3958\",\"type\":\"LinearAxis\"},{\"attributes\":{},\"id\":\"2793\",\"type\":\"BasicTicker\"},{\"attributes\":{},\"id\":\"2901\",\"type\":\"LinearScale\"},{\"attributes\":{},\"id\":\"4478\",\"type\":\"BasicTickFormatter\"},{\"attributes\":{},\"id\":\"4679\",\"type\":\"UnionRenderers\"},{\"attributes\":{\"axis\":{\"id\":\"2792\"},\"dimension\":1,\"grid_line_color\":null,\"ticker\":null},\"id\":\"2795\",\"type\":\"Grid\"},{\"attributes\":{},\"id\":\"3959\",\"type\":\"BasicTicker\"},{\"attributes\":{},\"id\":\"4005\",\"type\":\"PanTool\"},{\"attributes\":{},\"id\":\"2903\",\"type\":\"LinearScale\"},{\"attributes\":{},\"id\":\"4680\",\"type\":\"Selection\"},{\"attributes\":{\"axis\":{\"id\":\"3958\"},\"grid_line_color\":null,\"ticker\":null},\"id\":\"3961\",\"type\":\"Grid\"},{\"attributes\":{},\"id\":\"4006\",\"type\":\"WheelZoomTool\"},{\"attributes\":{\"bottom\":{\"field\":\"bottom\"},\"fill_color\":{\"field\":\"fill_color\"},\"left\":{\"field\":\"left\"},\"line_color\":{\"value\":\"gray\"},\"line_width\":{\"value\":2},\"right\":{\"field\":\"right\"},\"top\":{\"field\":\"top\"}},\"id\":\"3709\",\"type\":\"Quad\"},{\"attributes\":{\"formatter\":{\"id\":\"4719\"},\"ticker\":{\"id\":\"2906\"},\"visible\":false},\"id\":\"2905\",\"type\":\"LinearAxis\"},{\"attributes\":{\"bottom\":{\"field\":\"bottom\"},\"fill_color\":{\"field\":\"fill_color\"},\"left\":{\"field\":\"left\"},\"line_color\":{\"value\":\"gray\"},\"line_width\":{\"value\":2},\"right\":{\"field\":\"right\"},\"top\":{\"field\":\"top\"}},\"id\":\"2812\",\"type\":\"Quad\"},{\"attributes\":{},\"id\":\"4683\",\"type\":\"BasicTickFormatter\"},{\"attributes\":{\"formatter\":{\"id\":\"4631\"},\"ticker\":{\"id\":\"3963\"},\"visible\":false},\"id\":\"3962\",\"type\":\"LinearAxis\"},{\"attributes\":{\"overlay\":{\"id\":\"4011\"}},\"id\":\"4007\",\"type\":\"BoxZoomTool\"},{\"attributes\":{\"data\":{\"bottom\":[0,0,0,0,0,1,1,1,1,1,2,2,2,2,2],\"fill_color\":[\"white\",\"white\",\"black\",\"white\",\"white\",\"white\",\"black\",\"black\",\"white\",\"white\",\"white\",\"white\",\"white\",\"white\",\"white\"],\"left\":[0,1,2,3,4,0,1,2,3,4,0,1,2,3,4],\"right\":[1,2,3,4,5,1,2,3,4,5,1,2,3,4,5],\"top\":[1,1,1,1,1,2,2,2,2,2,3,3,3,3,3]},\"selected\":{\"id\":\"4608\"},\"selection_policy\":{\"id\":\"4607\"}},\"id\":\"2811\",\"type\":\"ColumnDataSource\"},{\"attributes\":{},\"id\":\"4685\",\"type\":\"BasicTickFormatter\"},{\"attributes\":{},\"id\":\"2906\",\"type\":\"BasicTicker\"},{\"attributes\":{},\"id\":\"3963\",\"type\":\"BasicTicker\"},{\"attributes\":{},\"id\":\"4008\",\"type\":\"SaveTool\"},{\"attributes\":{\"axis\":{\"id\":\"2905\"},\"grid_line_color\":null,\"ticker\":null},\"id\":\"2908\",\"type\":\"Grid\"},{\"attributes\":{},\"id\":\"2796\",\"type\":\"PanTool\"},{\"attributes\":{},\"id\":\"4688\",\"type\":\"UnionRenderers\"},{\"attributes\":{\"axis\":{\"id\":\"3962\"},\"dimension\":1,\"grid_line_color\":null,\"ticker\":null},\"id\":\"3965\",\"type\":\"Grid\"},{\"attributes\":{},\"id\":\"4009\",\"type\":\"ResetTool\"},{\"attributes\":{\"formatter\":{\"id\":\"4721\"},\"ticker\":{\"id\":\"2910\"},\"visible\":false},\"id\":\"2909\",\"type\":\"LinearAxis\"},{\"attributes\":{},\"id\":\"2797\",\"type\":\"WheelZoomTool\"},{\"attributes\":{},\"id\":\"4689\",\"type\":\"Selection\"},{\"attributes\":{},\"id\":\"4010\",\"type\":\"HelpTool\"},{\"attributes\":{\"overlay\":{\"id\":\"2802\"}},\"id\":\"2798\",\"type\":\"BoxZoomTool\"},{\"attributes\":{\"bottom\":{\"field\":\"bottom\"},\"fill_color\":{\"field\":\"fill_color\"},\"left\":{\"field\":\"left\"},\"line_color\":{\"value\":\"gray\"},\"line_width\":{\"value\":2},\"right\":{\"field\":\"right\"},\"top\":{\"field\":\"top\"}},\"id\":\"3982\",\"type\":\"Quad\"},{\"attributes\":{},\"id\":\"4692\",\"type\":\"BasicTickFormatter\"},{\"attributes\":{},\"id\":\"2910\",\"type\":\"BasicTicker\"},{\"attributes\":{\"axis\":{\"id\":\"2909\"},\"dimension\":1,\"grid_line_color\":null,\"ticker\":null},\"id\":\"2912\",\"type\":\"Grid\"},{\"attributes\":{},\"id\":\"2799\",\"type\":\"SaveTool\"},{\"attributes\":{\"data\":{\"bottom\":[0,0,0,0,0,1,1,1,1,1,2,2,2,2,2],\"fill_color\":[\"white\",\"white\",\"black\",\"white\",\"white\",\"white\",\"white\",\"black\",\"white\",\"white\",\"white\",\"white\",\"black\",\"white\",\"white\"],\"left\":[0,1,2,3,4,0,1,2,3,4,0,1,2,3,4],\"right\":[1,2,3,4,5,1,2,3,4,5,1,2,3,4,5],\"top\":[1,1,1,1,1,2,2,2,2,2,3,3,3,3,3]},\"selected\":{\"id\":\"4635\"},\"selection_policy\":{\"id\":\"4634\"}},\"id\":\"3981\",\"type\":\"ColumnDataSource\"},{\"attributes\":{},\"id\":\"4694\",\"type\":\"BasicTickFormatter\"},{\"attributes\":{\"data_source\":{\"id\":\"3708\"},\"glyph\":{\"id\":\"3709\"},\"hover_glyph\":null,\"muted_glyph\":null,\"nonselection_glyph\":{\"id\":\"3710\"},\"selection_glyph\":null,\"view\":{\"id\":\"3712\"}},\"id\":\"3711\",\"type\":\"GlyphRenderer\"},{\"attributes\":{},\"id\":\"4464\",\"type\":\"Selection\"},{\"attributes\":{},\"id\":\"3803\",\"type\":\"BasicTicker\"},{\"attributes\":{},\"id\":\"4353\",\"type\":\"BasicTicker\"},{\"attributes\":{\"bottom\":{\"field\":\"bottom\"},\"fill_alpha\":{\"value\":0.1},\"fill_color\":{\"field\":\"fill_color\"},\"left\":{\"field\":\"left\"},\"line_alpha\":{\"value\":0.1},\"line_color\":{\"value\":\"gray\"},\"line_width\":{\"value\":2},\"right\":{\"field\":\"right\"},\"top\":{\"field\":\"top\"}},\"id\":\"3710\",\"type\":\"Quad\"},{\"attributes\":{\"bottom_units\":\"screen\",\"fill_alpha\":0.5,\"fill_color\":\"lightgrey\",\"left_units\":\"screen\",\"level\":\"overlay\",\"line_alpha\":1.0,\"line_color\":\"black\",\"line_dash\":[4,4],\"line_width\":2,\"right_units\":\"screen\",\"top_units\":\"screen\"},\"id\":\"4284\",\"type\":\"BoxAnnotation\"},{\"attributes\":{\"axis\":{\"id\":\"3802\"},\"grid_line_color\":null,\"ticker\":null},\"id\":\"3805\",\"type\":\"Grid\"},{\"attributes\":{\"axis\":{\"id\":\"4352\"},\"dimension\":1,\"grid_line_color\":null,\"ticker\":null},\"id\":\"4355\",\"type\":\"Grid\"},{\"attributes\":{},\"id\":\"3693\",\"type\":\"PanTool\"},{\"attributes\":{},\"id\":\"4305\",\"type\":\"LinearScale\"},{\"attributes\":{\"formatter\":{\"id\":\"4451\"},\"ticker\":{\"id\":\"3807\"},\"visible\":false},\"id\":\"3806\",\"type\":\"LinearAxis\"},{\"attributes\":{\"bottom\":{\"field\":\"bottom\"},\"fill_alpha\":{\"value\":0.1},\"fill_color\":{\"field\":\"fill_color\"},\"left\":{\"field\":\"left\"},\"line_alpha\":{\"value\":0.1},\"line_color\":{\"value\":\"gray\"},\"line_width\":{\"value\":2},\"right\":{\"field\":\"right\"},\"top\":{\"field\":\"top\"}},\"id\":\"4373\",\"type\":\"Quad\"},{\"attributes\":{},\"id\":\"3694\",\"type\":\"WheelZoomTool\"},{\"attributes\":{},\"id\":\"4307\",\"type\":\"LinearScale\"},{\"attributes\":{\"data_source\":{\"id\":\"4371\"},\"glyph\":{\"id\":\"4372\"},\"hover_glyph\":null,\"muted_glyph\":null,\"nonselection_glyph\":{\"id\":\"4373\"},\"selection_glyph\":null,\"view\":{\"id\":\"4375\"}},\"id\":\"4374\",\"type\":\"GlyphRenderer\"},{\"attributes\":{},\"id\":\"3807\",\"type\":\"BasicTicker\"},{\"attributes\":{\"overlay\":{\"id\":\"3699\"}},\"id\":\"3695\",\"type\":\"BoxZoomTool\"},{\"attributes\":{\"formatter\":{\"id\":\"4593\"},\"ticker\":{\"id\":\"4310\"},\"visible\":false},\"id\":\"4309\",\"type\":\"LinearAxis\"},{\"attributes\":{\"axis\":{\"id\":\"3806\"},\"dimension\":1,\"grid_line_color\":null,\"ticker\":null},\"id\":\"3809\",\"type\":\"Grid\"},{\"attributes\":{},\"id\":\"3696\",\"type\":\"SaveTool\"},{\"attributes\":{},\"id\":\"4310\",\"type\":\"BasicTicker\"},{\"attributes\":{},\"id\":\"4356\",\"type\":\"PanTool\"},{\"attributes\":{\"bottom\":{\"field\":\"bottom\"},\"fill_alpha\":{\"value\":0.1},\"fill_color\":{\"field\":\"fill_color\"},\"left\":{\"field\":\"left\"},\"line_alpha\":{\"value\":0.1},\"line_color\":{\"value\":\"gray\"},\"line_width\":{\"value\":2},\"right\":{\"field\":\"right\"},\"top\":{\"field\":\"top\"}},\"id\":\"3827\",\"type\":\"Quad\"},{\"attributes\":{},\"id\":\"3697\",\"type\":\"ResetTool\"},{\"attributes\":{\"data_source\":{\"id\":\"3825\"},\"glyph\":{\"id\":\"3826\"},\"hover_glyph\":null,\"muted_glyph\":null,\"nonselection_glyph\":{\"id\":\"3827\"},\"selection_glyph\":null,\"view\":{\"id\":\"3829\"}},\"id\":\"3828\",\"type\":\"GlyphRenderer\"},{\"attributes\":{\"axis\":{\"id\":\"4309\"},\"grid_line_color\":null,\"ticker\":null},\"id\":\"4312\",\"type\":\"Grid\"},{\"attributes\":{},\"id\":\"4357\",\"type\":\"WheelZoomTool\"},{\"attributes\":{},\"id\":\"3698\",\"type\":\"HelpTool\"},{\"attributes\":{\"formatter\":{\"id\":\"4595\"},\"ticker\":{\"id\":\"4314\"},\"visible\":false},\"id\":\"4313\",\"type\":\"LinearAxis\"},{\"attributes\":{\"overlay\":{\"id\":\"4362\"}},\"id\":\"4358\",\"type\":\"BoxZoomTool\"},{\"attributes\":{\"active_drag\":\"auto\",\"active_inspect\":\"auto\",\"active_multi\":null,\"active_scroll\":\"auto\",\"active_tap\":\"auto\",\"logo\":null,\"tools\":[{\"id\":\"3693\"},{\"id\":\"3694\"},{\"id\":\"3695\"},{\"id\":\"3696\"},{\"id\":\"3697\"},{\"id\":\"3698\"}]},\"id\":\"3700\",\"type\":\"Toolbar\"},{\"attributes\":{},\"id\":\"3810\",\"type\":\"PanTool\"},{\"attributes\":{},\"id\":\"4314\",\"type\":\"BasicTicker\"},{\"attributes\":{},\"id\":\"4359\",\"type\":\"SaveTool\"},{\"attributes\":{\"axis\":{\"id\":\"4313\"},\"dimension\":1,\"grid_line_color\":null,\"ticker\":null},\"id\":\"4316\",\"type\":\"Grid\"},{\"attributes\":{},\"id\":\"3811\",\"type\":\"WheelZoomTool\"},{\"attributes\":{},\"id\":\"4360\",\"type\":\"ResetTool\"},{\"attributes\":{\"source\":{\"id\":\"3747\"}},\"id\":\"3751\",\"type\":\"CDSView\"},{\"attributes\":{\"active_drag\":\"auto\",\"active_inspect\":\"auto\",\"active_multi\":null,\"active_scroll\":\"auto\",\"active_tap\":\"auto\",\"logo\":null,\"tools\":[{\"id\":\"3732\"},{\"id\":\"3733\"},{\"id\":\"3734\"},{\"id\":\"3735\"},{\"id\":\"3736\"},{\"id\":\"3737\"}]},\"id\":\"3739\",\"type\":\"Toolbar\"},{\"attributes\":{\"overlay\":{\"id\":\"3816\"}},\"id\":\"3812\",\"type\":\"BoxZoomTool\"},{\"attributes\":{\"bottom\":{\"field\":\"bottom\"},\"fill_alpha\":{\"value\":0.1},\"fill_color\":{\"field\":\"fill_color\"},\"left\":{\"field\":\"left\"},\"line_alpha\":{\"value\":0.1},\"line_color\":{\"value\":\"gray\"},\"line_width\":{\"value\":2},\"right\":{\"field\":\"right\"},\"top\":{\"field\":\"top\"}},\"id\":\"4334\",\"type\":\"Quad\"},{\"attributes\":{},\"id\":\"4361\",\"type\":\"HelpTool\"},{\"attributes\":{\"data_source\":{\"id\":\"4332\"},\"glyph\":{\"id\":\"4333\"},\"hover_glyph\":null,\"muted_glyph\":null,\"nonselection_glyph\":{\"id\":\"4334\"},\"selection_glyph\":null,\"view\":{\"id\":\"4336\"}},\"id\":\"4335\",\"type\":\"GlyphRenderer\"},{\"attributes\":{\"data_source\":{\"id\":\"3747\"},\"glyph\":{\"id\":\"3748\"},\"hover_glyph\":null,\"muted_glyph\":null,\"nonselection_glyph\":{\"id\":\"3749\"},\"selection_glyph\":null,\"view\":{\"id\":\"3751\"}},\"id\":\"3750\",\"type\":\"GlyphRenderer\"},{\"attributes\":{\"background_fill_color\":null,\"below\":[{\"id\":\"3763\"}],\"border_fill_color\":null,\"center\":[{\"id\":\"3766\"},{\"id\":\"3770\"}],\"left\":[{\"id\":\"3767\"}],\"outline_line_color\":null,\"plot_height\":90,\"plot_width\":150,\"renderers\":[{\"id\":\"3789\"}],\"title\":{\"id\":\"3753\"},\"toolbar\":{\"id\":\"3778\"},\"toolbar_location\":null,\"x_range\":{\"id\":\"3755\"},\"x_scale\":{\"id\":\"3759\"},\"y_range\":{\"id\":\"3757\"},\"y_scale\":{\"id\":\"3761\"}},\"id\":\"3752\",\"subtype\":\"Figure\",\"type\":\"Plot\"},{\"attributes\":{},\"id\":\"3813\",\"type\":\"SaveTool\"},{\"attributes\":{\"active_drag\":\"auto\",\"active_inspect\":\"auto\",\"active_multi\":null,\"active_scroll\":\"auto\",\"active_tap\":\"auto\",\"logo\":null,\"tools\":[{\"id\":\"4356\"},{\"id\":\"4357\"},{\"id\":\"4358\"},{\"id\":\"4359\"},{\"id\":\"4360\"},{\"id\":\"4361\"}]},\"id\":\"4363\",\"type\":\"Toolbar\"},{\"attributes\":{\"bottom_units\":\"screen\",\"fill_alpha\":0.5,\"fill_color\":\"lightgrey\",\"left_units\":\"screen\",\"level\":\"overlay\",\"line_alpha\":1.0,\"line_color\":\"black\",\"line_dash\":[4,4],\"line_width\":2,\"right_units\":\"screen\",\"top_units\":\"screen\"},\"id\":\"3699\",\"type\":\"BoxAnnotation\"},{\"attributes\":{},\"id\":\"3814\",\"type\":\"ResetTool\"},{\"attributes\":{},\"id\":\"4382\",\"type\":\"UnionRenderers\"},{\"attributes\":{\"background_fill_color\":null,\"below\":[{\"id\":\"3724\"}],\"border_fill_color\":null,\"center\":[{\"id\":\"3727\"},{\"id\":\"3731\"}],\"left\":[{\"id\":\"3728\"}],\"outline_line_color\":null,\"plot_height\":90,\"plot_width\":150,\"renderers\":[{\"id\":\"3750\"}],\"title\":{\"id\":\"3714\"},\"toolbar\":{\"id\":\"3739\"},\"toolbar_location\":null,\"x_range\":{\"id\":\"3716\"},\"x_scale\":{\"id\":\"3720\"},\"y_range\":{\"id\":\"3718\"},\"y_scale\":{\"id\":\"3722\"}},\"id\":\"3713\",\"subtype\":\"Figure\",\"type\":\"Plot\"},{\"attributes\":{},\"id\":\"4388\",\"type\":\"BasicTickFormatter\"},{\"attributes\":{},\"id\":\"4317\",\"type\":\"PanTool\"},{\"attributes\":{},\"id\":\"3815\",\"type\":\"HelpTool\"},{\"attributes\":{},\"id\":\"4386\",\"type\":\"BasicTickFormatter\"},{\"attributes\":{},\"id\":\"4318\",\"type\":\"WheelZoomTool\"},{\"attributes\":{\"source\":{\"id\":\"3708\"}},\"id\":\"3712\",\"type\":\"CDSView\"},{\"attributes\":{\"active_drag\":\"auto\",\"active_inspect\":\"auto\",\"active_multi\":null,\"active_scroll\":\"auto\",\"active_tap\":\"auto\",\"logo\":null,\"tools\":[{\"id\":\"3810\"},{\"id\":\"3811\"},{\"id\":\"3812\"},{\"id\":\"3813\"},{\"id\":\"3814\"},{\"id\":\"3815\"}]},\"id\":\"3817\",\"type\":\"Toolbar\"},{\"attributes\":{\"overlay\":{\"id\":\"4323\"}},\"id\":\"4319\",\"type\":\"BoxZoomTool\"},{\"attributes\":{},\"id\":\"4391\",\"type\":\"UnionRenderers\"},{\"attributes\":{\"bottom_units\":\"screen\",\"fill_alpha\":0.5,\"fill_color\":\"lightgrey\",\"left_units\":\"screen\",\"level\":\"overlay\",\"line_alpha\":1.0,\"line_color\":\"black\",\"line_dash\":[4,4],\"line_width\":2,\"right_units\":\"screen\",\"top_units\":\"screen\"},\"id\":\"4362\",\"type\":\"BoxAnnotation\"},{\"attributes\":{\"formatter\":{\"id\":\"4496\"},\"ticker\":{\"id\":\"3846\"},\"visible\":false},\"id\":\"3845\",\"type\":\"LinearAxis\"},{\"attributes\":{},\"id\":\"4320\",\"type\":\"SaveTool\"},{\"attributes\":{\"axis\":{\"id\":\"3841\"},\"grid_line_color\":null,\"ticker\":null},\"id\":\"3844\",\"type\":\"Grid\"},{\"attributes\":{\"text\":\"\"},\"id\":\"3714\",\"type\":\"Title\"},{\"attributes\":{},\"id\":\"4321\",\"type\":\"ResetTool\"},{\"attributes\":{\"bottom\":{\"field\":\"bottom\"},\"fill_color\":{\"field\":\"fill_color\"},\"left\":{\"field\":\"left\"},\"line_color\":{\"value\":\"gray\"},\"line_width\":{\"value\":2},\"right\":{\"field\":\"right\"},\"top\":{\"field\":\"top\"}},\"id\":\"4372\",\"type\":\"Quad\"},{\"attributes\":{\"end\":5},\"id\":\"3716\",\"type\":\"Range1d\"},{\"attributes\":{},\"id\":\"3846\",\"type\":\"BasicTicker\"},{\"attributes\":{},\"id\":\"4322\",\"type\":\"HelpTool\"},{\"attributes\":{\"source\":{\"id\":\"4371\"}},\"id\":\"4375\",\"type\":\"CDSView\"},{\"attributes\":{\"bottom_units\":\"screen\",\"fill_alpha\":0.5,\"fill_color\":\"lightgrey\",\"left_units\":\"screen\",\"level\":\"overlay\",\"line_alpha\":1.0,\"line_color\":\"black\",\"line_dash\":[4,4],\"line_width\":2,\"right_units\":\"screen\",\"top_units\":\"screen\"},\"id\":\"3816\",\"type\":\"BoxAnnotation\"},{\"attributes\":{\"end\":3},\"id\":\"3718\",\"type\":\"Range1d\"},{\"attributes\":{},\"id\":\"4383\",\"type\":\"Selection\"},{\"attributes\":{\"active_drag\":\"auto\",\"active_inspect\":\"auto\",\"active_multi\":null,\"active_scroll\":\"auto\",\"active_tap\":\"auto\",\"logo\":null,\"tools\":[{\"id\":\"4317\"},{\"id\":\"4318\"},{\"id\":\"4319\"},{\"id\":\"4320\"},{\"id\":\"4321\"},{\"id\":\"4322\"}]},\"id\":\"4324\",\"type\":\"Toolbar\"},{\"attributes\":{},\"id\":\"3720\",\"type\":\"LinearScale\"},{\"attributes\":{},\"id\":\"4392\",\"type\":\"Selection\"},{\"attributes\":{\"bottom\":{\"field\":\"bottom\"},\"fill_color\":{\"field\":\"fill_color\"},\"left\":{\"field\":\"left\"},\"line_color\":{\"value\":\"gray\"},\"line_width\":{\"value\":2},\"right\":{\"field\":\"right\"},\"top\":{\"field\":\"top\"}},\"id\":\"3826\",\"type\":\"Quad\"},{\"attributes\":{\"background_fill_color\":null,\"below\":[{\"id\":\"3841\"}],\"border_fill_color\":null,\"center\":[{\"id\":\"3844\"},{\"id\":\"3848\"}],\"left\":[{\"id\":\"3845\"}],\"outline_line_color\":null,\"plot_height\":90,\"plot_width\":150,\"renderers\":[{\"id\":\"3867\"}],\"title\":{\"id\":\"3831\"},\"toolbar\":{\"id\":\"3856\"},\"toolbar_location\":null,\"x_range\":{\"id\":\"3833\"},\"x_scale\":{\"id\":\"3837\"},\"y_range\":{\"id\":\"3835\"},\"y_scale\":{\"id\":\"3839\"}},\"id\":\"3830\",\"subtype\":\"Figure\",\"type\":\"Plot\"},{\"attributes\":{},\"id\":\"3722\",\"type\":\"LinearScale\"},{\"attributes\":{},\"id\":\"4379\",\"type\":\"BasicTickFormatter\"},{\"attributes\":{},\"id\":\"4395\",\"type\":\"BasicTickFormatter\"},{\"attributes\":{\"source\":{\"id\":\"3825\"}},\"id\":\"3829\",\"type\":\"CDSView\"},{\"attributes\":{\"overlay\":{\"id\":\"3660\"}},\"id\":\"3656\",\"type\":\"BoxZoomTool\"},{\"attributes\":{\"formatter\":{\"id\":\"4773\"},\"ticker\":{\"id\":\"3725\"},\"visible\":false},\"id\":\"3724\",\"type\":\"LinearAxis\"},{\"attributes\":{},\"id\":\"4377\",\"type\":\"BasicTickFormatter\"},{\"attributes\":{},\"id\":\"4397\",\"type\":\"BasicTickFormatter\"},{\"attributes\":{\"bottom\":{\"field\":\"bottom\"},\"fill_alpha\":{\"value\":0.1},\"fill_color\":{\"field\":\"fill_color\"},\"left\":{\"field\":\"left\"},\"line_alpha\":{\"value\":0.1},\"line_color\":{\"value\":\"gray\"},\"line_width\":{\"value\":2},\"right\":{\"field\":\"right\"},\"top\":{\"field\":\"top\"}},\"id\":\"3866\",\"type\":\"Quad\"},{\"attributes\":{},\"id\":\"3725\",\"type\":\"BasicTicker\"},{\"attributes\":{},\"id\":\"4400\",\"type\":\"UnionRenderers\"},{\"attributes\":{\"text\":\"\"},\"id\":\"3831\",\"type\":\"Title\"},{\"attributes\":{\"bottom_units\":\"screen\",\"fill_alpha\":0.5,\"fill_color\":\"lightgrey\",\"left_units\":\"screen\",\"level\":\"overlay\",\"line_alpha\":1.0,\"line_color\":\"black\",\"line_dash\":[4,4],\"line_width\":2,\"right_units\":\"screen\",\"top_units\":\"screen\"},\"id\":\"4323\",\"type\":\"BoxAnnotation\"},{\"attributes\":{\"axis\":{\"id\":\"3724\"},\"grid_line_color\":null,\"ticker\":null},\"id\":\"3727\",\"type\":\"Grid\"},{\"attributes\":{},\"id\":\"4401\",\"type\":\"Selection\"},{\"attributes\":{\"formatter\":{\"id\":\"4494\"},\"ticker\":{\"id\":\"3842\"},\"visible\":false},\"id\":\"3841\",\"type\":\"LinearAxis\"},{\"attributes\":{\"formatter\":{\"id\":\"4775\"},\"ticker\":{\"id\":\"3729\"},\"visible\":false},\"id\":\"3728\",\"type\":\"LinearAxis\"},{\"attributes\":{},\"id\":\"4404\",\"type\":\"BasicTickFormatter\"},{\"attributes\":{\"background_fill_color\":null,\"below\":[{\"id\":\"4348\"}],\"border_fill_color\":null,\"center\":[{\"id\":\"4351\"},{\"id\":\"4355\"}],\"left\":[{\"id\":\"4352\"}],\"outline_line_color\":null,\"plot_height\":90,\"plot_width\":150,\"renderers\":[{\"id\":\"4374\"}],\"title\":{\"id\":\"4338\"},\"toolbar\":{\"id\":\"4363\"},\"toolbar_location\":null,\"x_range\":{\"id\":\"4340\"},\"x_scale\":{\"id\":\"4344\"},\"y_range\":{\"id\":\"4342\"},\"y_scale\":{\"id\":\"4346\"}},\"id\":\"4337\",\"subtype\":\"Figure\",\"type\":\"Plot\"},{\"attributes\":{\"bottom\":{\"field\":\"bottom\"},\"fill_color\":{\"field\":\"fill_color\"},\"left\":{\"field\":\"left\"},\"line_color\":{\"value\":\"gray\"},\"line_width\":{\"value\":2},\"right\":{\"field\":\"right\"},\"top\":{\"field\":\"top\"}},\"id\":\"4333\",\"type\":\"Quad\"},{\"attributes\":{},\"id\":\"4406\",\"type\":\"BasicTickFormatter\"},{\"attributes\":{},\"id\":\"3842\",\"type\":\"BasicTicker\"},{\"attributes\":{\"source\":{\"id\":\"4332\"}},\"id\":\"4336\",\"type\":\"CDSView\"},{\"attributes\":{\"axis\":{\"id\":\"3845\"},\"dimension\":1,\"grid_line_color\":null,\"ticker\":null},\"id\":\"3848\",\"type\":\"Grid\"},{\"attributes\":{},\"id\":\"3729\",\"type\":\"BasicTicker\"},{\"attributes\":{\"axis\":{\"id\":\"3728\"},\"dimension\":1,\"grid_line_color\":null,\"ticker\":null},\"id\":\"3731\",\"type\":\"Grid\"},{\"attributes\":{},\"id\":\"4409\",\"type\":\"UnionRenderers\"},{\"attributes\":{\"data\":{\"bottom\":[0,0,0,0,0,1,1,1,1,1,2,2,2,2,2],\"fill_color\":[\"white\",\"white\",\"white\",\"black\",\"black\",\"white\",\"white\",\"white\",\"black\",\"white\",\"white\",\"white\",\"white\",\"white\",\"white\"],\"left\":[0,1,2,3,4,0,1,2,3,4,0,1,2,3,4],\"right\":[1,2,3,4,5,1,2,3,4,5,1,2,3,4,5],\"top\":[1,1,1,1,1,2,2,2,2,2,3,3,3,3,3]},\"selected\":{\"id\":\"4644\"},\"selection_policy\":{\"id\":\"4643\"}},\"id\":\"4371\",\"type\":\"ColumnDataSource\"},{\"attributes\":{\"text\":\"\"},\"id\":\"4338\",\"type\":\"Title\"},{\"attributes\":{\"bottom\":{\"field\":\"bottom\"},\"fill_color\":{\"field\":\"fill_color\"},\"left\":{\"field\":\"left\"},\"line_color\":{\"value\":\"gray\"},\"line_width\":{\"value\":2},\"right\":{\"field\":\"right\"},\"top\":{\"field\":\"top\"}},\"id\":\"3865\",\"type\":\"Quad\"},{\"attributes\":{},\"id\":\"4410\",\"type\":\"Selection\"},{\"attributes\":{\"bottom\":{\"field\":\"bottom\"},\"fill_alpha\":{\"value\":0.1},\"fill_color\":{\"field\":\"fill_color\"},\"left\":{\"field\":\"left\"},\"line_alpha\":{\"value\":0.1},\"line_color\":{\"value\":\"gray\"},\"line_width\":{\"value\":2},\"right\":{\"field\":\"right\"},\"top\":{\"field\":\"top\"}},\"id\":\"3749\",\"type\":\"Quad\"},{\"attributes\":{\"end\":5},\"id\":\"4340\",\"type\":\"Range1d\"},{\"attributes\":{},\"id\":\"4413\",\"type\":\"BasicTickFormatter\"},{\"attributes\":{\"data\":{\"bottom\":[0,0,0,0,0,1,1,1,1,1,2,2,2,2,2],\"fill_color\":[\"white\",\"white\",\"black\",\"black\",\"black\",\"white\",\"white\",\"white\",\"white\",\"white\",\"white\",\"white\",\"white\",\"white\",\"white\"],\"left\":[0,1,2,3,4,0,1,2,3,4,0,1,2,3,4],\"right\":[1,2,3,4,5,1,2,3,4,5,1,2,3,4,5],\"top\":[1,1,1,1,1,2,2,2,2,2,3,3,3,3,3]},\"selected\":{\"id\":\"4500\"},\"selection_policy\":{\"id\":\"4499\"}},\"id\":\"3864\",\"type\":\"ColumnDataSource\"},{\"attributes\":{\"active_drag\":\"auto\",\"active_inspect\":\"auto\",\"active_multi\":null,\"active_scroll\":\"auto\",\"active_tap\":\"auto\",\"logo\":null,\"tools\":[{\"id\":\"4005\"},{\"id\":\"4006\"},{\"id\":\"4007\"},{\"id\":\"4008\"},{\"id\":\"4009\"},{\"id\":\"4010\"}]},\"id\":\"4012\",\"type\":\"Toolbar\"},{\"attributes\":{\"data\":{\"bottom\":[0,0,0,0,0,1,1,1,1,1,2,2,2,2,2],\"fill_color\":[\"white\",\"white\",\"white\",\"white\",\"white\",\"white\",\"white\",\"black\",\"black\",\"black\",\"white\",\"white\",\"white\",\"white\",\"white\"],\"left\":[0,1,2,3,4,0,1,2,3,4,0,1,2,3,4],\"right\":[1,2,3,4,5,1,2,3,4,5,1,2,3,4,5],\"top\":[1,1,1,1,1,2,2,2,2,2,3,3,3,3,3]},\"selected\":{\"id\":\"4779\"},\"selection_policy\":{\"id\":\"4778\"}},\"id\":\"3747\",\"type\":\"ColumnDataSource\"},{\"attributes\":{\"end\":3},\"id\":\"4342\",\"type\":\"Range1d\"},{\"attributes\":{},\"id\":\"4415\",\"type\":\"BasicTickFormatter\"},{\"attributes\":{},\"id\":\"3849\",\"type\":\"PanTool\"},{\"attributes\":{},\"id\":\"3732\",\"type\":\"PanTool\"},{\"attributes\":{},\"id\":\"4481\",\"type\":\"UnionRenderers\"},{\"attributes\":{},\"id\":\"4344\",\"type\":\"LinearScale\"},{\"attributes\":{},\"id\":\"3850\",\"type\":\"WheelZoomTool\"},{\"attributes\":{},\"id\":\"4418\",\"type\":\"UnionRenderers\"},{\"attributes\":{},\"id\":\"3733\",\"type\":\"WheelZoomTool\"},{\"attributes\":{},\"id\":\"4346\",\"type\":\"LinearScale\"},{\"attributes\":{\"overlay\":{\"id\":\"3855\"}},\"id\":\"3851\",\"type\":\"BoxZoomTool\"},{\"attributes\":{},\"id\":\"4419\",\"type\":\"Selection\"},{\"attributes\":{\"overlay\":{\"id\":\"3738\"}},\"id\":\"3734\",\"type\":\"BoxZoomTool\"},{\"attributes\":{\"formatter\":{\"id\":\"4638\"},\"ticker\":{\"id\":\"4349\"},\"visible\":false},\"id\":\"4348\",\"type\":\"LinearAxis\"},{\"attributes\":{},\"id\":\"4422\",\"type\":\"BasicTickFormatter\"},{\"attributes\":{},\"id\":\"3852\",\"type\":\"SaveTool\"},{\"attributes\":{},\"id\":\"3735\",\"type\":\"SaveTool\"},{\"attributes\":{},\"id\":\"4424\",\"type\":\"BasicTickFormatter\"},{\"attributes\":{},\"id\":\"3853\",\"type\":\"ResetTool\"},{\"attributes\":{},\"id\":\"4349\",\"type\":\"BasicTicker\"},{\"attributes\":{},\"id\":\"3736\",\"type\":\"ResetTool\"},{\"attributes\":{\"axis\":{\"id\":\"4348\"},\"grid_line_color\":null,\"ticker\":null},\"id\":\"4351\",\"type\":\"Grid\"},{\"attributes\":{},\"id\":\"3854\",\"type\":\"HelpTool\"},{\"attributes\":{},\"id\":\"4427\",\"type\":\"UnionRenderers\"},{\"attributes\":{},\"id\":\"3737\",\"type\":\"HelpTool\"},{\"attributes\":{\"formatter\":{\"id\":\"4640\"},\"ticker\":{\"id\":\"4353\"},\"visible\":false},\"id\":\"4352\",\"type\":\"LinearAxis\"},{\"attributes\":{\"data\":{\"bottom\":[0,0,0,0,0,1,1,1,1,1,2,2,2,2,2],\"fill_color\":[\"white\",\"white\",\"white\",\"black\",\"white\",\"white\",\"white\",\"white\",\"black\",\"white\",\"white\",\"white\",\"white\",\"black\",\"white\"],\"left\":[0,1,2,3,4,0,1,2,3,4,0,1,2,3,4],\"right\":[1,2,3,4,5,1,2,3,4,5,1,2,3,4,5],\"top\":[1,1,1,1,1,2,2,2,2,2,3,3,3,3,3]},\"selected\":{\"id\":\"4680\"},\"selection_policy\":{\"id\":\"4679\"}},\"id\":\"4020\",\"type\":\"ColumnDataSource\"},{\"attributes\":{},\"id\":\"4428\",\"type\":\"Selection\"},{\"attributes\":{\"active_drag\":\"auto\",\"active_inspect\":\"auto\",\"active_multi\":null,\"active_scroll\":\"auto\",\"active_tap\":\"auto\",\"logo\":null,\"tools\":[{\"id\":\"4200\"},{\"id\":\"4201\"},{\"id\":\"4202\"},{\"id\":\"4203\"},{\"id\":\"4204\"},{\"id\":\"4205\"}]},\"id\":\"4207\",\"type\":\"Toolbar\"},{\"attributes\":{\"axis\":{\"id\":\"4075\"},\"grid_line_color\":null,\"ticker\":null},\"id\":\"4078\",\"type\":\"Grid\"},{\"attributes\":{\"bottom_units\":\"screen\",\"fill_alpha\":0.5,\"fill_color\":\"lightgrey\",\"left_units\":\"screen\",\"level\":\"overlay\",\"line_alpha\":1.0,\"line_color\":\"black\",\"line_dash\":[4,4],\"line_width\":2,\"right_units\":\"screen\",\"top_units\":\"screen\"},\"id\":\"2958\",\"type\":\"BoxAnnotation\"},{\"attributes\":{},\"id\":\"4778\",\"type\":\"UnionRenderers\"},{\"attributes\":{\"end\":5},\"id\":\"2936\",\"type\":\"Range1d\"},{\"attributes\":{\"formatter\":{\"id\":\"4748\"},\"ticker\":{\"id\":\"4080\"},\"visible\":false},\"id\":\"4079\",\"type\":\"LinearAxis\"},{\"attributes\":{},\"id\":\"4779\",\"type\":\"Selection\"},{\"attributes\":{\"text\":\"\"},\"id\":\"2934\",\"type\":\"Title\"},{\"attributes\":{},\"id\":\"4080\",\"type\":\"BasicTicker\"},{\"attributes\":{},\"id\":\"4782\",\"type\":\"BasicTickFormatter\"},{\"attributes\":{\"bottom_units\":\"screen\",\"fill_alpha\":0.5,\"fill_color\":\"lightgrey\",\"left_units\":\"screen\",\"level\":\"overlay\",\"line_alpha\":1.0,\"line_color\":\"black\",\"line_dash\":[4,4],\"line_width\":2,\"right_units\":\"screen\",\"top_units\":\"screen\"},\"id\":\"4128\",\"type\":\"BoxAnnotation\"},{\"attributes\":{\"background_fill_color\":null,\"below\":[{\"id\":\"2983\"}],\"border_fill_color\":null,\"center\":[{\"id\":\"2986\"},{\"id\":\"2990\"}],\"left\":[{\"id\":\"2987\"}],\"outline_line_color\":null,\"plot_height\":90,\"plot_width\":150,\"renderers\":[{\"id\":\"3009\"}],\"title\":{\"id\":\"2973\"},\"toolbar\":{\"id\":\"2998\"},\"toolbar_location\":null,\"x_range\":{\"id\":\"2975\"},\"x_scale\":{\"id\":\"2979\"},\"y_range\":{\"id\":\"2977\"},\"y_scale\":{\"id\":\"2981\"}},\"id\":\"2972\",\"subtype\":\"Figure\",\"type\":\"Plot\"},{\"attributes\":{},\"id\":\"2913\",\"type\":\"PanTool\"},{\"attributes\":{\"axis\":{\"id\":\"4079\"},\"dimension\":1,\"grid_line_color\":null,\"ticker\":null},\"id\":\"4082\",\"type\":\"Grid\"},{\"attributes\":{\"data_source\":{\"id\":\"2967\"},\"glyph\":{\"id\":\"2968\"},\"hover_glyph\":null,\"muted_glyph\":null,\"nonselection_glyph\":{\"id\":\"2969\"},\"selection_glyph\":null,\"view\":{\"id\":\"2971\"}},\"id\":\"2970\",\"type\":\"GlyphRenderer\"},{\"attributes\":{},\"id\":\"4784\",\"type\":\"BasicTickFormatter\"},{\"attributes\":{},\"id\":\"2914\",\"type\":\"WheelZoomTool\"},{\"attributes\":{\"source\":{\"id\":\"2967\"}},\"id\":\"2971\",\"type\":\"CDSView\"},{\"attributes\":{\"bottom\":{\"field\":\"bottom\"},\"fill_alpha\":{\"value\":0.1},\"fill_color\":{\"field\":\"fill_color\"},\"left\":{\"field\":\"left\"},\"line_alpha\":{\"value\":0.1},\"line_color\":{\"value\":\"gray\"},\"line_width\":{\"value\":2},\"right\":{\"field\":\"right\"},\"top\":{\"field\":\"top\"}},\"id\":\"4100\",\"type\":\"Quad\"},{\"attributes\":{},\"id\":\"4787\",\"type\":\"UnionRenderers\"},{\"attributes\":{\"background_fill_color\":null,\"below\":[{\"id\":\"4153\"}],\"border_fill_color\":null,\"center\":[{\"id\":\"4156\"},{\"id\":\"4160\"}],\"left\":[{\"id\":\"4157\"}],\"outline_line_color\":null,\"plot_height\":90,\"plot_width\":150,\"renderers\":[{\"id\":\"4179\"}],\"title\":{\"id\":\"4143\"},\"toolbar\":{\"id\":\"4168\"},\"toolbar_location\":null,\"x_range\":{\"id\":\"4145\"},\"x_scale\":{\"id\":\"4149\"},\"y_range\":{\"id\":\"4147\"},\"y_scale\":{\"id\":\"4151\"}},\"id\":\"4142\",\"subtype\":\"Figure\",\"type\":\"Plot\"},{\"attributes\":{\"data_source\":{\"id\":\"4098\"},\"glyph\":{\"id\":\"4099\"},\"hover_glyph\":null,\"muted_glyph\":null,\"nonselection_glyph\":{\"id\":\"4100\"},\"selection_glyph\":null,\"view\":{\"id\":\"4102\"}},\"id\":\"4101\",\"type\":\"GlyphRenderer\"},{\"attributes\":{\"bottom\":{\"field\":\"bottom\"},\"fill_alpha\":{\"value\":0.1},\"fill_color\":{\"field\":\"fill_color\"},\"left\":{\"field\":\"left\"},\"line_alpha\":{\"value\":0.1},\"line_color\":{\"value\":\"gray\"},\"line_width\":{\"value\":2},\"right\":{\"field\":\"right\"},\"top\":{\"field\":\"top\"}},\"id\":\"3008\",\"type\":\"Quad\"},{\"attributes\":{\"text\":\"\"},\"id\":\"2973\",\"type\":\"Title\"},{\"attributes\":{\"data_source\":{\"id\":\"4137\"},\"glyph\":{\"id\":\"4138\"},\"hover_glyph\":null,\"muted_glyph\":null,\"nonselection_glyph\":{\"id\":\"4139\"},\"selection_glyph\":null,\"view\":{\"id\":\"4141\"}},\"id\":\"4140\",\"type\":\"GlyphRenderer\"},{\"attributes\":{\"overlay\":{\"id\":\"2919\"}},\"id\":\"2915\",\"type\":\"BoxZoomTool\"},{\"attributes\":{},\"id\":\"4788\",\"type\":\"Selection\"},{\"attributes\":{},\"id\":\"2916\",\"type\":\"SaveTool\"},{\"attributes\":{\"source\":{\"id\":\"4137\"}},\"id\":\"4141\",\"type\":\"CDSView\"},{\"attributes\":{\"end\":5},\"id\":\"2975\",\"type\":\"Range1d\"},{\"attributes\":{\"bottom\":{\"field\":\"bottom\"},\"fill_alpha\":{\"value\":0.1},\"fill_color\":{\"field\":\"fill_color\"},\"left\":{\"field\":\"left\"},\"line_alpha\":{\"value\":0.1},\"line_color\":{\"value\":\"gray\"},\"line_width\":{\"value\":2},\"right\":{\"field\":\"right\"},\"top\":{\"field\":\"top\"}},\"id\":\"4178\",\"type\":\"Quad\"},{\"attributes\":{},\"id\":\"2917\",\"type\":\"ResetTool\"},{\"attributes\":{},\"id\":\"4083\",\"type\":\"PanTool\"},{\"attributes\":{\"end\":3},\"id\":\"2977\",\"type\":\"Range1d\"},{\"attributes\":{\"text\":\"\"},\"id\":\"4143\",\"type\":\"Title\"},{\"attributes\":{},\"id\":\"2918\",\"type\":\"HelpTool\"},{\"attributes\":{},\"id\":\"4084\",\"type\":\"WheelZoomTool\"},{\"attributes\":{},\"id\":\"2979\",\"type\":\"LinearScale\"},{\"attributes\":{\"end\":5},\"id\":\"4145\",\"type\":\"Range1d\"},{\"attributes\":{\"overlay\":{\"id\":\"4089\"}},\"id\":\"4085\",\"type\":\"BoxZoomTool\"},{\"attributes\":{},\"id\":\"2981\",\"type\":\"LinearScale\"},{\"attributes\":{\"end\":3},\"id\":\"4147\",\"type\":\"Range1d\"},{\"attributes\":{\"end\":3},\"id\":\"2938\",\"type\":\"Range1d\"},{\"attributes\":{},\"id\":\"4086\",\"type\":\"SaveTool\"},{\"attributes\":{\"formatter\":{\"id\":\"4386\"},\"ticker\":{\"id\":\"2984\"},\"visible\":false},\"id\":\"2983\",\"type\":\"LinearAxis\"},{\"attributes\":{},\"id\":\"4149\",\"type\":\"LinearScale\"},{\"attributes\":{},\"id\":\"3579\",\"type\":\"SaveTool\"},{\"attributes\":{},\"id\":\"4087\",\"type\":\"ResetTool\"},{\"attributes\":{},\"id\":\"4151\",\"type\":\"LinearScale\"},{\"attributes\":{},\"id\":\"2984\",\"type\":\"BasicTicker\"},{\"attributes\":{},\"id\":\"4088\",\"type\":\"HelpTool\"},{\"attributes\":{\"axis\":{\"id\":\"2983\"},\"grid_line_color\":null,\"ticker\":null},\"id\":\"2986\",\"type\":\"Grid\"},{\"attributes\":{\"formatter\":{\"id\":\"4413\"},\"ticker\":{\"id\":\"4154\"},\"visible\":false},\"id\":\"4153\",\"type\":\"LinearAxis\"},{\"attributes\":{\"formatter\":{\"id\":\"4388\"},\"ticker\":{\"id\":\"2988\"},\"visible\":false},\"id\":\"2987\",\"type\":\"LinearAxis\"},{\"attributes\":{\"active_drag\":\"auto\",\"active_inspect\":\"auto\",\"active_multi\":null,\"active_scroll\":\"auto\",\"active_tap\":\"auto\",\"logo\":null,\"tools\":[{\"id\":\"4083\"},{\"id\":\"4084\"},{\"id\":\"4085\"},{\"id\":\"4086\"},{\"id\":\"4087\"},{\"id\":\"4088\"}]},\"id\":\"4090\",\"type\":\"Toolbar\"},{\"attributes\":{},\"id\":\"4154\",\"type\":\"BasicTicker\"},{\"attributes\":{\"overlay\":{\"id\":\"3582\"}},\"id\":\"3578\",\"type\":\"BoxZoomTool\"},{\"attributes\":{\"axis\":{\"id\":\"4153\"},\"grid_line_color\":null,\"ticker\":null},\"id\":\"4156\",\"type\":\"Grid\"},{\"attributes\":{\"formatter\":{\"id\":\"4784\"},\"ticker\":{\"id\":\"4119\"},\"visible\":false},\"id\":\"4118\",\"type\":\"LinearAxis\"},{\"attributes\":{},\"id\":\"2988\",\"type\":\"BasicTicker\"},{\"attributes\":{},\"id\":\"3580\",\"type\":\"ResetTool\"},{\"attributes\":{\"bottom_units\":\"screen\",\"fill_alpha\":0.5,\"fill_color\":\"lightgrey\",\"left_units\":\"screen\",\"level\":\"overlay\",\"line_alpha\":1.0,\"line_color\":\"black\",\"line_dash\":[4,4],\"line_width\":2,\"right_units\":\"screen\",\"top_units\":\"screen\"},\"id\":\"2919\",\"type\":\"BoxAnnotation\"},{\"attributes\":{\"axis\":{\"id\":\"2987\"},\"dimension\":1,\"grid_line_color\":null,\"ticker\":null},\"id\":\"2990\",\"type\":\"Grid\"},{\"attributes\":{\"formatter\":{\"id\":\"4415\"},\"ticker\":{\"id\":\"4158\"},\"visible\":false},\"id\":\"4157\",\"type\":\"LinearAxis\"},{\"attributes\":{\"axis\":{\"id\":\"4114\"},\"grid_line_color\":null,\"ticker\":null},\"id\":\"4117\",\"type\":\"Grid\"},{\"attributes\":{},\"id\":\"2940\",\"type\":\"LinearScale\"},{\"attributes\":{\"data_source\":{\"id\":\"3006\"},\"glyph\":{\"id\":\"3007\"},\"hover_glyph\":null,\"muted_glyph\":null,\"nonselection_glyph\":{\"id\":\"3008\"},\"selection_glyph\":null,\"view\":{\"id\":\"3010\"}},\"id\":\"3009\",\"type\":\"GlyphRenderer\"},{\"attributes\":{},\"id\":\"4158\",\"type\":\"BasicTicker\"},{\"attributes\":{},\"id\":\"4119\",\"type\":\"BasicTicker\"},{\"attributes\":{},\"id\":\"2942\",\"type\":\"LinearScale\"},{\"attributes\":{\"bottom_units\":\"screen\",\"fill_alpha\":0.5,\"fill_color\":\"lightgrey\",\"left_units\":\"screen\",\"level\":\"overlay\",\"line_alpha\":1.0,\"line_color\":\"black\",\"line_dash\":[4,4],\"line_width\":2,\"right_units\":\"screen\",\"top_units\":\"screen\"},\"id\":\"4089\",\"type\":\"BoxAnnotation\"},{\"attributes\":{\"axis\":{\"id\":\"4157\"},\"dimension\":1,\"grid_line_color\":null,\"ticker\":null},\"id\":\"4160\",\"type\":\"Grid\"},{\"attributes\":{\"formatter\":{\"id\":\"4755\"},\"ticker\":{\"id\":\"2945\"},\"visible\":false},\"id\":\"2944\",\"type\":\"LinearAxis\"},{\"attributes\":{\"data\":{\"bottom\":[0,0,0,0,0,1,1,1,1,1,2,2,2,2,2],\"fill_color\":[\"white\",\"white\",\"white\",\"white\",\"white\",\"white\",\"white\",\"black\",\"black\",\"white\",\"white\",\"white\",\"white\",\"black\",\"white\"],\"left\":[0,1,2,3,4,0,1,2,3,4,0,1,2,3,4],\"right\":[1,2,3,4,5,1,2,3,4,5,1,2,3,4,5],\"top\":[1,1,1,1,1,2,2,2,2,2,3,3,3,3,3]},\"selected\":{\"id\":\"4392\"},\"selection_policy\":{\"id\":\"4391\"}},\"id\":\"3006\",\"type\":\"ColumnDataSource\"},{\"attributes\":{\"data_source\":{\"id\":\"4176\"},\"glyph\":{\"id\":\"4177\"},\"hover_glyph\":null,\"muted_glyph\":null,\"nonselection_glyph\":{\"id\":\"4178\"},\"selection_glyph\":null,\"view\":{\"id\":\"4180\"}},\"id\":\"4179\",\"type\":\"GlyphRenderer\"},{\"attributes\":{\"axis\":{\"id\":\"3022\"},\"grid_line_color\":null,\"ticker\":null},\"id\":\"3025\",\"type\":\"Grid\"},{\"attributes\":{\"bottom_units\":\"screen\",\"fill_alpha\":0.5,\"fill_color\":\"lightgrey\",\"left_units\":\"screen\",\"level\":\"overlay\",\"line_alpha\":1.0,\"line_color\":\"black\",\"line_dash\":[4,4],\"line_width\":2,\"right_units\":\"screen\",\"top_units\":\"screen\"},\"id\":\"3738\",\"type\":\"BoxAnnotation\"},{\"attributes\":{},\"id\":\"2991\",\"type\":\"PanTool\"},{\"attributes\":{\"bottom\":{\"field\":\"bottom\"},\"fill_color\":{\"field\":\"fill_color\"},\"left\":{\"field\":\"left\"},\"line_color\":{\"value\":\"gray\"},\"line_width\":{\"value\":2},\"right\":{\"field\":\"right\"},\"top\":{\"field\":\"top\"}},\"id\":\"4099\",\"type\":\"Quad\"},{\"attributes\":{},\"id\":\"2945\",\"type\":\"BasicTicker\"},{\"attributes\":{\"background_fill_color\":null,\"below\":[{\"id\":\"4114\"}],\"border_fill_color\":null,\"center\":[{\"id\":\"4117\"},{\"id\":\"4121\"}],\"left\":[{\"id\":\"4118\"}],\"outline_line_color\":null,\"plot_height\":90,\"plot_width\":150,\"renderers\":[{\"id\":\"4140\"}],\"title\":{\"id\":\"4104\"},\"toolbar\":{\"id\":\"4129\"},\"toolbar_location\":null,\"x_range\":{\"id\":\"4106\"},\"x_scale\":{\"id\":\"4110\"},\"y_range\":{\"id\":\"4108\"},\"y_scale\":{\"id\":\"4112\"}},\"id\":\"4103\",\"subtype\":\"Figure\",\"type\":\"Plot\"},{\"attributes\":{\"axis\":{\"id\":\"2944\"},\"grid_line_color\":null,\"ticker\":null},\"id\":\"2947\",\"type\":\"Grid\"},{\"attributes\":{},\"id\":\"2992\",\"type\":\"WheelZoomTool\"},{\"attributes\":{\"data\":{\"bottom\":[0,0,0,0,0,1,1,1,1,1,2,2,2,2,2],\"fill_color\":[\"white\",\"white\",\"white\",\"white\",\"white\",\"white\",\"white\",\"black\",\"black\",\"white\",\"white\",\"white\",\"black\",\"white\",\"white\"],\"left\":[0,1,2,3,4,0,1,2,3,4,0,1,2,3,4],\"right\":[1,2,3,4,5,1,2,3,4,5,1,2,3,4,5],\"top\":[1,1,1,1,1,2,2,2,2,2,3,3,3,3,3]},\"selected\":{\"id\":\"4419\"},\"selection_policy\":{\"id\":\"4418\"}},\"id\":\"4176\",\"type\":\"ColumnDataSource\"},{\"attributes\":{},\"id\":\"4205\",\"type\":\"HelpTool\"},{\"attributes\":{\"source\":{\"id\":\"4098\"}},\"id\":\"4102\",\"type\":\"CDSView\"},{\"attributes\":{\"formatter\":{\"id\":\"4757\"},\"ticker\":{\"id\":\"2949\"},\"visible\":false},\"id\":\"2948\",\"type\":\"LinearAxis\"},{\"attributes\":{\"overlay\":{\"id\":\"2997\"}},\"id\":\"2993\",\"type\":\"BoxZoomTool\"},{\"attributes\":{},\"id\":\"4161\",\"type\":\"PanTool\"},{\"attributes\":{\"bottom\":{\"field\":\"bottom\"},\"fill_alpha\":{\"value\":0.1},\"fill_color\":{\"field\":\"fill_color\"},\"left\":{\"field\":\"left\"},\"line_alpha\":{\"value\":0.1},\"line_color\":{\"value\":\"gray\"},\"line_width\":{\"value\":2},\"right\":{\"field\":\"right\"},\"top\":{\"field\":\"top\"}},\"id\":\"4139\",\"type\":\"Quad\"},{\"attributes\":{\"text\":\"\"},\"id\":\"4104\",\"type\":\"Title\"},{\"attributes\":{},\"id\":\"2994\",\"type\":\"SaveTool\"},{\"attributes\":{},\"id\":\"4162\",\"type\":\"WheelZoomTool\"},{\"attributes\":{},\"id\":\"2949\",\"type\":\"BasicTicker\"},{\"attributes\":{\"axis\":{\"id\":\"2948\"},\"dimension\":1,\"grid_line_color\":null,\"ticker\":null},\"id\":\"2951\",\"type\":\"Grid\"},{\"attributes\":{},\"id\":\"2995\",\"type\":\"ResetTool\"},{\"attributes\":{\"overlay\":{\"id\":\"4167\"}},\"id\":\"4163\",\"type\":\"BoxZoomTool\"},{\"attributes\":{\"formatter\":{\"id\":\"4782\"},\"ticker\":{\"id\":\"4115\"},\"visible\":false},\"id\":\"4114\",\"type\":\"LinearAxis\"},{\"attributes\":{},\"id\":\"2996\",\"type\":\"HelpTool\"},{\"attributes\":{},\"id\":\"4164\",\"type\":\"SaveTool\"},{\"attributes\":{\"bottom\":{\"field\":\"bottom\"},\"fill_alpha\":{\"value\":0.1},\"fill_color\":{\"field\":\"fill_color\"},\"left\":{\"field\":\"left\"},\"line_alpha\":{\"value\":0.1},\"line_color\":{\"value\":\"gray\"},\"line_width\":{\"value\":2},\"right\":{\"field\":\"right\"},\"top\":{\"field\":\"top\"}},\"id\":\"2969\",\"type\":\"Quad\"},{\"attributes\":{},\"id\":\"4115\",\"type\":\"BasicTicker\"},{\"attributes\":{\"formatter\":{\"id\":\"4433\"},\"ticker\":{\"id\":\"3027\"},\"visible\":false},\"id\":\"3026\",\"type\":\"LinearAxis\"},{\"attributes\":{\"axis\":{\"id\":\"4118\"},\"dimension\":1,\"grid_line_color\":null,\"ticker\":null},\"id\":\"4121\",\"type\":\"Grid\"},{\"attributes\":{},\"id\":\"4165\",\"type\":\"ResetTool\"},{\"attributes\":{\"active_drag\":\"auto\",\"active_inspect\":\"auto\",\"active_multi\":null,\"active_scroll\":\"auto\",\"active_tap\":\"auto\",\"logo\":null,\"tools\":[{\"id\":\"2991\"},{\"id\":\"2992\"},{\"id\":\"2993\"},{\"id\":\"2994\"},{\"id\":\"2995\"},{\"id\":\"2996\"}]},\"id\":\"2998\",\"type\":\"Toolbar\"},{\"attributes\":{\"bottom\":{\"field\":\"bottom\"},\"fill_color\":{\"field\":\"fill_color\"},\"left\":{\"field\":\"left\"},\"line_color\":{\"value\":\"gray\"},\"line_width\":{\"value\":2},\"right\":{\"field\":\"right\"},\"top\":{\"field\":\"top\"}},\"id\":\"2968\",\"type\":\"Quad\"},{\"attributes\":{},\"id\":\"3018\",\"type\":\"LinearScale\"},{\"attributes\":{},\"id\":\"4166\",\"type\":\"HelpTool\"},{\"attributes\":{},\"id\":\"2952\",\"type\":\"PanTool\"},{\"attributes\":{\"bottom\":{\"field\":\"bottom\"},\"fill_color\":{\"field\":\"fill_color\"},\"left\":{\"field\":\"left\"},\"line_color\":{\"value\":\"gray\"},\"line_width\":{\"value\":2},\"right\":{\"field\":\"right\"},\"top\":{\"field\":\"top\"}},\"id\":\"4138\",\"type\":\"Quad\"},{\"attributes\":{},\"id\":\"3023\",\"type\":\"BasicTicker\"},{\"attributes\":{\"bottom\":{\"field\":\"bottom\"},\"fill_alpha\":{\"value\":0.1},\"fill_color\":{\"field\":\"fill_color\"},\"left\":{\"field\":\"left\"},\"line_alpha\":{\"value\":0.1},\"line_color\":{\"value\":\"gray\"},\"line_width\":{\"value\":2},\"right\":{\"field\":\"right\"},\"top\":{\"field\":\"top\"}},\"id\":\"4295\",\"type\":\"Quad\"},{\"attributes\":{\"active_drag\":\"auto\",\"active_inspect\":\"auto\",\"active_multi\":null,\"active_scroll\":\"auto\",\"active_tap\":\"auto\",\"logo\":null,\"tools\":[{\"id\":\"4161\"},{\"id\":\"4162\"},{\"id\":\"4163\"},{\"id\":\"4164\"},{\"id\":\"4165\"},{\"id\":\"4166\"}]},\"id\":\"4168\",\"type\":\"Toolbar\"},{\"attributes\":{},\"id\":\"2953\",\"type\":\"WheelZoomTool\"},{\"attributes\":{\"data\":{\"bottom\":[0,0,0,0,0,1,1,1,1,1,2,2,2,2,2],\"fill_color\":[\"white\",\"white\",\"white\",\"white\",\"white\",\"white\",\"black\",\"black\",\"white\",\"white\",\"white\",\"black\",\"white\",\"white\",\"white\"],\"left\":[0,1,2,3,4,0,1,2,3,4,0,1,2,3,4],\"right\":[1,2,3,4,5,1,2,3,4,5,1,2,3,4,5],\"top\":[1,1,1,1,1,2,2,2,2,2,3,3,3,3,3]},\"selected\":{\"id\":\"4788\"},\"selection_policy\":{\"id\":\"4787\"}},\"id\":\"4137\",\"type\":\"ColumnDataSource\"},{\"attributes\":{\"formatter\":{\"id\":\"4431\"},\"ticker\":{\"id\":\"3023\"},\"visible\":false},\"id\":\"3022\",\"type\":\"LinearAxis\"},{\"attributes\":{\"active_drag\":\"auto\",\"active_inspect\":\"auto\",\"active_multi\":null,\"active_scroll\":\"auto\",\"active_tap\":\"auto\",\"logo\":null,\"tools\":[{\"id\":\"4278\"},{\"id\":\"4279\"},{\"id\":\"4280\"},{\"id\":\"4281\"},{\"id\":\"4282\"},{\"id\":\"4283\"}]},\"id\":\"4285\",\"type\":\"Toolbar\"},{\"attributes\":{\"overlay\":{\"id\":\"2958\"}},\"id\":\"2954\",\"type\":\"BoxZoomTool\"},{\"attributes\":{},\"id\":\"4122\",\"type\":\"PanTool\"},{\"attributes\":{},\"id\":\"4204\",\"type\":\"ResetTool\"},{\"attributes\":{\"bottom_units\":\"screen\",\"fill_alpha\":0.5,\"fill_color\":\"lightgrey\",\"left_units\":\"screen\",\"level\":\"overlay\",\"line_alpha\":1.0,\"line_color\":\"black\",\"line_dash\":[4,4],\"line_width\":2,\"right_units\":\"screen\",\"top_units\":\"screen\"},\"id\":\"2997\",\"type\":\"BoxAnnotation\"},{\"attributes\":{},\"id\":\"2955\",\"type\":\"SaveTool\"},{\"attributes\":{},\"id\":\"4123\",\"type\":\"WheelZoomTool\"},{\"attributes\":{},\"id\":\"4203\",\"type\":\"SaveTool\"},{\"attributes\":{},\"id\":\"2956\",\"type\":\"ResetTool\"},{\"attributes\":{\"overlay\":{\"id\":\"4128\"}},\"id\":\"4124\",\"type\":\"BoxZoomTool\"},{\"attributes\":{\"bottom\":{\"field\":\"bottom\"},\"fill_color\":{\"field\":\"fill_color\"},\"left\":{\"field\":\"left\"},\"line_color\":{\"value\":\"gray\"},\"line_width\":{\"value\":2},\"right\":{\"field\":\"right\"},\"top\":{\"field\":\"top\"}},\"id\":\"3007\",\"type\":\"Quad\"},{\"attributes\":{\"bottom_units\":\"screen\",\"fill_alpha\":0.5,\"fill_color\":\"lightgrey\",\"left_units\":\"screen\",\"level\":\"overlay\",\"line_alpha\":1.0,\"line_color\":\"black\",\"line_dash\":[4,4],\"line_width\":2,\"right_units\":\"screen\",\"top_units\":\"screen\"},\"id\":\"4167\",\"type\":\"BoxAnnotation\"},{\"attributes\":{\"background_fill_color\":null,\"below\":[{\"id\":\"3022\"}],\"border_fill_color\":null,\"center\":[{\"id\":\"3025\"},{\"id\":\"3029\"}],\"left\":[{\"id\":\"3026\"}],\"outline_line_color\":null,\"plot_height\":90,\"plot_width\":150,\"renderers\":[{\"id\":\"3048\"}],\"title\":{\"id\":\"3012\"},\"toolbar\":{\"id\":\"3037\"},\"toolbar_location\":null,\"x_range\":{\"id\":\"3014\"},\"x_scale\":{\"id\":\"3018\"},\"y_range\":{\"id\":\"3016\"},\"y_scale\":{\"id\":\"3020\"}},\"id\":\"3011\",\"subtype\":\"Figure\",\"type\":\"Plot\"},{\"attributes\":{},\"id\":\"2957\",\"type\":\"HelpTool\"},{\"attributes\":{},\"id\":\"4125\",\"type\":\"SaveTool\"},{\"attributes\":{\"source\":{\"id\":\"3006\"}},\"id\":\"3010\",\"type\":\"CDSView\"},{\"attributes\":{},\"id\":\"3020\",\"type\":\"LinearScale\"},{\"attributes\":{},\"id\":\"4126\",\"type\":\"ResetTool\"},{\"attributes\":{\"bottom\":{\"field\":\"bottom\"},\"fill_color\":{\"field\":\"fill_color\"},\"left\":{\"field\":\"left\"},\"line_color\":{\"value\":\"gray\"},\"line_width\":{\"value\":2},\"right\":{\"field\":\"right\"},\"top\":{\"field\":\"top\"}},\"id\":\"4177\",\"type\":\"Quad\"},{\"attributes\":{\"background_fill_color\":null,\"below\":[{\"id\":\"4192\"}],\"border_fill_color\":null,\"center\":[{\"id\":\"4195\"},{\"id\":\"4199\"}],\"left\":[{\"id\":\"4196\"}],\"outline_line_color\":null,\"plot_height\":90,\"plot_width\":150,\"renderers\":[{\"id\":\"4218\"}],\"title\":{\"id\":\"4182\"},\"toolbar\":{\"id\":\"4207\"},\"toolbar_location\":null,\"x_range\":{\"id\":\"4184\"},\"x_scale\":{\"id\":\"4188\"},\"y_range\":{\"id\":\"4186\"},\"y_scale\":{\"id\":\"4190\"}},\"id\":\"4181\",\"subtype\":\"Figure\",\"type\":\"Plot\"},{\"attributes\":{\"active_drag\":\"auto\",\"active_inspect\":\"auto\",\"active_multi\":null,\"active_scroll\":\"auto\",\"active_tap\":\"auto\",\"logo\":null,\"tools\":[{\"id\":\"2952\"},{\"id\":\"2953\"},{\"id\":\"2954\"},{\"id\":\"2955\"},{\"id\":\"2956\"},{\"id\":\"2957\"}]},\"id\":\"2959\",\"type\":\"Toolbar\"},{\"attributes\":{\"data\":{\"bottom\":[0,0,0,0,0,1,1,1,1,1,2,2,2,2,2],\"fill_color\":[\"white\",\"white\",\"white\",\"white\",\"white\",\"white\",\"white\",\"white\",\"black\",\"black\",\"white\",\"white\",\"white\",\"white\",\"black\"],\"left\":[0,1,2,3,4,0,1,2,3,4,0,1,2,3,4],\"right\":[1,2,3,4,5,1,2,3,4,5,1,2,3,4,5],\"top\":[1,1,1,1,1,2,2,2,2,2,3,3,3,3,3]},\"selected\":{\"id\":\"4437\"},\"selection_policy\":{\"id\":\"4436\"}},\"id\":\"3045\",\"type\":\"ColumnDataSource\"},{\"attributes\":{},\"id\":\"4127\",\"type\":\"HelpTool\"},{\"attributes\":{\"text\":\"\"},\"id\":\"3012\",\"type\":\"Title\"},{\"attributes\":{\"source\":{\"id\":\"4176\"}},\"id\":\"4180\",\"type\":\"CDSView\"},{\"attributes\":{\"end\":3},\"id\":\"3016\",\"type\":\"Range1d\"},{\"attributes\":{\"data\":{\"bottom\":[0,0,0,0,0,1,1,1,1,1,2,2,2,2,2],\"fill_color\":[\"white\",\"black\",\"black\",\"white\",\"white\",\"white\",\"black\",\"white\",\"white\",\"white\",\"white\",\"white\",\"white\",\"white\",\"white\"],\"left\":[0,1,2,3,4,0,1,2,3,4,0,1,2,3,4],\"right\":[1,2,3,4,5,1,2,3,4,5,1,2,3,4,5],\"top\":[1,1,1,1,1,2,2,2,2,2,3,3,3,3,3]},\"selected\":{\"id\":\"4554\"},\"selection_policy\":{\"id\":\"4553\"}},\"id\":\"4293\",\"type\":\"ColumnDataSource\"},{\"attributes\":{\"end\":5},\"id\":\"3014\",\"type\":\"Range1d\"},{\"attributes\":{\"active_drag\":\"auto\",\"active_inspect\":\"auto\",\"active_multi\":null,\"active_scroll\":\"auto\",\"active_tap\":\"auto\",\"logo\":null,\"tools\":[{\"id\":\"4122\"},{\"id\":\"4123\"},{\"id\":\"4124\"},{\"id\":\"4125\"},{\"id\":\"4126\"},{\"id\":\"4127\"}]},\"id\":\"4129\",\"type\":\"Toolbar\"},{\"attributes\":{\"data\":{\"bottom\":[0,0,0,0,0,1,1,1,1,1,2,2,2,2,2],\"fill_color\":[\"white\",\"white\",\"white\",\"white\",\"white\",\"white\",\"white\",\"white\",\"black\",\"black\",\"white\",\"white\",\"white\",\"black\",\"white\"],\"left\":[0,1,2,3,4,0,1,2,3,4,0,1,2,3,4],\"right\":[1,2,3,4,5,1,2,3,4,5,1,2,3,4,5],\"top\":[1,1,1,1,1,2,2,2,2,2,3,3,3,3,3]},\"selected\":{\"id\":\"4464\"},\"selection_policy\":{\"id\":\"4463\"}},\"id\":\"4215\",\"type\":\"ColumnDataSource\"},{\"attributes\":{\"text\":\"\"},\"id\":\"4182\",\"type\":\"Title\"},{\"attributes\":{},\"id\":\"3027\",\"type\":\"BasicTicker\"},{\"attributes\":{},\"id\":\"4476\",\"type\":\"BasicTickFormatter\"},{\"attributes\":{},\"id\":\"4487\",\"type\":\"BasicTickFormatter\"},{\"attributes\":{\"end\":3},\"id\":\"3757\",\"type\":\"Range1d\"},{\"attributes\":{\"end\":5},\"id\":\"4184\",\"type\":\"Range1d\"},{\"attributes\":{\"overlay\":{\"id\":\"4245\"}},\"id\":\"4241\",\"type\":\"BoxZoomTool\"},{\"attributes\":{\"background_fill_color\":null,\"below\":[{\"id\":\"3568\"}],\"border_fill_color\":null,\"center\":[{\"id\":\"3571\"},{\"id\":\"3575\"}],\"left\":[{\"id\":\"3572\"}],\"outline_line_color\":null,\"plot_height\":90,\"plot_width\":150,\"renderers\":[{\"id\":\"3594\"}],\"title\":{\"id\":\"3558\"},\"toolbar\":{\"id\":\"3583\"},\"toolbar_location\":null,\"x_range\":{\"id\":\"3560\"},\"x_scale\":{\"id\":\"3564\"},\"y_range\":{\"id\":\"3562\"},\"y_scale\":{\"id\":\"3566\"}},\"id\":\"3557\",\"subtype\":\"Figure\",\"type\":\"Plot\"},{\"attributes\":{},\"id\":\"4473\",\"type\":\"Selection\"},{\"attributes\":{\"end\":3},\"id\":\"4186\",\"type\":\"Range1d\"},{\"attributes\":{\"data_source\":{\"id\":\"3552\"},\"glyph\":{\"id\":\"3553\"},\"hover_glyph\":null,\"muted_glyph\":null,\"nonselection_glyph\":{\"id\":\"3554\"},\"selection_glyph\":null,\"view\":{\"id\":\"3556\"}},\"id\":\"3555\",\"type\":\"GlyphRenderer\"},{\"attributes\":{},\"id\":\"4485\",\"type\":\"BasicTickFormatter\"},{\"attributes\":{},\"id\":\"4242\",\"type\":\"SaveTool\"},{\"attributes\":{\"source\":{\"id\":\"3552\"}},\"id\":\"3556\",\"type\":\"CDSView\"},{\"attributes\":{\"bottom\":{\"field\":\"bottom\"},\"fill_color\":{\"field\":\"fill_color\"},\"left\":{\"field\":\"left\"},\"line_color\":{\"value\":\"gray\"},\"line_width\":{\"value\":2},\"right\":{\"field\":\"right\"},\"top\":{\"field\":\"top\"}},\"id\":\"3748\",\"type\":\"Quad\"},{\"attributes\":{},\"id\":\"4188\",\"type\":\"LinearScale\"},{\"attributes\":{},\"id\":\"4243\",\"type\":\"ResetTool\"},{\"attributes\":{},\"id\":\"4482\",\"type\":\"Selection\"},{\"attributes\":{\"data_source\":{\"id\":\"3591\"},\"glyph\":{\"id\":\"3592\"},\"hover_glyph\":null,\"muted_glyph\":null,\"nonselection_glyph\":{\"id\":\"3593\"},\"selection_glyph\":null,\"view\":{\"id\":\"3595\"}},\"id\":\"3594\",\"type\":\"GlyphRenderer\"},{\"attributes\":{},\"id\":\"3581\",\"type\":\"HelpTool\"},{\"attributes\":{\"bottom_units\":\"screen\",\"fill_alpha\":0.5,\"fill_color\":\"lightgrey\",\"left_units\":\"screen\",\"level\":\"overlay\",\"line_alpha\":1.0,\"line_color\":\"black\",\"line_dash\":[4,4],\"line_width\":2,\"right_units\":\"screen\",\"top_units\":\"screen\"},\"id\":\"4011\",\"type\":\"BoxAnnotation\"},{\"attributes\":{},\"id\":\"4190\",\"type\":\"LinearScale\"},{\"attributes\":{\"text\":\"\"},\"id\":\"3558\",\"type\":\"Title\"},{\"attributes\":{},\"id\":\"4032\",\"type\":\"LinearScale\"},{\"attributes\":{\"background_fill_color\":null,\"below\":[{\"id\":\"2593\"}],\"border_fill_color\":null,\"center\":[{\"id\":\"2596\"},{\"id\":\"2600\"}],\"left\":[{\"id\":\"2597\"}],\"outline_line_color\":null,\"plot_height\":90,\"plot_width\":150,\"renderers\":[{\"id\":\"2619\"}],\"title\":{\"id\":\"2583\"},\"toolbar\":{\"id\":\"2608\"},\"toolbar_location\":null,\"x_range\":{\"id\":\"2585\"},\"x_scale\":{\"id\":\"2589\"},\"y_range\":{\"id\":\"2587\"},\"y_scale\":{\"id\":\"2591\"}},\"id\":\"2582\",\"subtype\":\"Figure\",\"type\":\"Plot\"},{\"attributes\":{},\"id\":\"4244\",\"type\":\"HelpTool\"},{\"attributes\":{\"bottom\":{\"field\":\"bottom\"},\"fill_alpha\":{\"value\":0.1},\"fill_color\":{\"field\":\"fill_color\"},\"left\":{\"field\":\"left\"},\"line_alpha\":{\"value\":0.1},\"line_color\":{\"value\":\"gray\"},\"line_width\":{\"value\":2},\"right\":{\"field\":\"right\"},\"top\":{\"field\":\"top\"}},\"id\":\"3593\",\"type\":\"Quad\"},{\"attributes\":{\"bottom_units\":\"screen\",\"fill_alpha\":0.5,\"fill_color\":\"lightgrey\",\"left_units\":\"screen\",\"level\":\"overlay\",\"line_alpha\":1.0,\"line_color\":\"black\",\"line_dash\":[4,4],\"line_width\":2,\"right_units\":\"screen\",\"top_units\":\"screen\"},\"id\":\"2646\",\"type\":\"BoxAnnotation\"},{\"attributes\":{\"formatter\":{\"id\":\"4458\"},\"ticker\":{\"id\":\"4193\"},\"visible\":false},\"id\":\"4192\",\"type\":\"LinearAxis\"},{\"attributes\":{\"end\":3},\"id\":\"4303\",\"type\":\"Range1d\"},{\"attributes\":{},\"id\":\"4034\",\"type\":\"LinearScale\"},{\"attributes\":{},\"id\":\"3759\",\"type\":\"LinearScale\"},{\"attributes\":{\"active_drag\":\"auto\",\"active_inspect\":\"auto\",\"active_multi\":null,\"active_scroll\":\"auto\",\"active_tap\":\"auto\",\"logo\":null,\"tools\":[{\"id\":\"4239\"},{\"id\":\"4240\"},{\"id\":\"4241\"},{\"id\":\"4242\"},{\"id\":\"4243\"},{\"id\":\"4244\"}]},\"id\":\"4246\",\"type\":\"Toolbar\"},{\"attributes\":{\"bottom\":{\"field\":\"bottom\"},\"fill_alpha\":{\"value\":0.1},\"fill_color\":{\"field\":\"fill_color\"},\"left\":{\"field\":\"left\"},\"line_alpha\":{\"value\":0.1},\"line_color\":{\"value\":\"gray\"},\"line_width\":{\"value\":2},\"right\":{\"field\":\"right\"},\"top\":{\"field\":\"top\"}},\"id\":\"2696\",\"type\":\"Quad\"},{\"attributes\":{\"bottom_units\":\"screen\",\"fill_alpha\":0.5,\"fill_color\":\"lightgrey\",\"left_units\":\"screen\",\"level\":\"overlay\",\"line_alpha\":1.0,\"line_color\":\"black\",\"line_dash\":[4,4],\"line_width\":2,\"right_units\":\"screen\",\"top_units\":\"screen\"},\"id\":\"3582\",\"type\":\"BoxAnnotation\"},{\"attributes\":{\"text\":\"\"},\"id\":\"2661\",\"type\":\"Title\"},{\"attributes\":{\"formatter\":{\"id\":\"4710\"},\"ticker\":{\"id\":\"4037\"},\"visible\":false},\"id\":\"4036\",\"type\":\"LinearAxis\"},{\"attributes\":{},\"id\":\"4193\",\"type\":\"BasicTicker\"},{\"attributes\":{\"end\":5},\"id\":\"4301\",\"type\":\"Range1d\"},{\"attributes\":{},\"id\":\"3761\",\"type\":\"LinearScale\"},{\"attributes\":{\"background_fill_color\":null,\"below\":[{\"id\":\"3607\"}],\"border_fill_color\":null,\"center\":[{\"id\":\"3610\"},{\"id\":\"3614\"}],\"left\":[{\"id\":\"3611\"}],\"outline_line_color\":null,\"plot_height\":90,\"plot_width\":150,\"renderers\":[{\"id\":\"3633\"}],\"title\":{\"id\":\"3597\"},\"toolbar\":{\"id\":\"3622\"},\"toolbar_location\":null,\"x_range\":{\"id\":\"3599\"},\"x_scale\":{\"id\":\"3603\"},\"y_range\":{\"id\":\"3601\"},\"y_scale\":{\"id\":\"3605\"}},\"id\":\"3596\",\"subtype\":\"Figure\",\"type\":\"Plot\"},{\"attributes\":{\"axis\":{\"id\":\"4192\"},\"grid_line_color\":null,\"ticker\":null},\"id\":\"4195\",\"type\":\"Grid\"},{\"attributes\":{\"end\":5},\"id\":\"2663\",\"type\":\"Range1d\"},{\"attributes\":{\"formatter\":{\"id\":\"4404\"},\"ticker\":{\"id\":\"3764\"},\"visible\":false},\"id\":\"3763\",\"type\":\"LinearAxis\"},{\"attributes\":{\"text\":\"\"},\"id\":\"4299\",\"type\":\"Title\"},{\"attributes\":{},\"id\":\"4037\",\"type\":\"BasicTicker\"},{\"attributes\":{\"formatter\":{\"id\":\"4460\"},\"ticker\":{\"id\":\"4197\"},\"visible\":false},\"id\":\"4196\",\"type\":\"LinearAxis\"},{\"attributes\":{\"end\":3},\"id\":\"2665\",\"type\":\"Range1d\"},{\"attributes\":{\"axis\":{\"id\":\"4036\"},\"grid_line_color\":null,\"ticker\":null},\"id\":\"4039\",\"type\":\"Grid\"},{\"attributes\":{},\"id\":\"3764\",\"type\":\"BasicTicker\"},{\"attributes\":{\"data\":{\"bottom\":[0,0,0,0,0,1,1,1,1,1,2,2,2,2,2],\"fill_color\":[\"white\",\"white\",\"black\",\"black\",\"white\",\"white\",\"white\",\"black\",\"white\",\"white\",\"white\",\"white\",\"white\",\"white\",\"white\"],\"left\":[0,1,2,3,4,0,1,2,3,4,0,1,2,3,4],\"right\":[1,2,3,4,5,1,2,3,4,5,1,2,3,4,5],\"top\":[1,1,1,1,1,2,2,2,2,2,3,3,3,3,3]},\"selected\":{\"id\":\"4599\"},\"selection_policy\":{\"id\":\"4598\"}},\"id\":\"4332\",\"type\":\"ColumnDataSource\"},{\"attributes\":{\"source\":{\"id\":\"3591\"}},\"id\":\"3595\",\"type\":\"CDSView\"},{\"attributes\":{},\"id\":\"2667\",\"type\":\"LinearScale\"},{\"attributes\":{\"formatter\":{\"id\":\"4712\"},\"ticker\":{\"id\":\"4041\"},\"visible\":false},\"id\":\"4040\",\"type\":\"LinearAxis\"},{\"attributes\":{},\"id\":\"4197\",\"type\":\"BasicTicker\"},{\"attributes\":{\"axis\":{\"id\":\"3763\"},\"grid_line_color\":null,\"ticker\":null},\"id\":\"3766\",\"type\":\"Grid\"},{\"attributes\":{\"bottom_units\":\"screen\",\"fill_alpha\":0.5,\"fill_color\":\"lightgrey\",\"left_units\":\"screen\",\"level\":\"overlay\",\"line_alpha\":1.0,\"line_color\":\"black\",\"line_dash\":[4,4],\"line_width\":2,\"right_units\":\"screen\",\"top_units\":\"screen\"},\"id\":\"4245\",\"type\":\"BoxAnnotation\"},{\"attributes\":{\"axis\":{\"id\":\"4196\"},\"dimension\":1,\"grid_line_color\":null,\"ticker\":null},\"id\":\"4199\",\"type\":\"Grid\"},{\"attributes\":{},\"id\":\"2669\",\"type\":\"LinearScale\"},{\"attributes\":{\"data_source\":{\"id\":\"4254\"},\"glyph\":{\"id\":\"4255\"},\"hover_glyph\":null,\"muted_glyph\":null,\"nonselection_glyph\":{\"id\":\"4256\"},\"selection_glyph\":null,\"view\":{\"id\":\"4258\"}},\"id\":\"4257\",\"type\":\"GlyphRenderer\"},{\"attributes\":{\"background_fill_color\":null,\"below\":[{\"id\":\"4270\"}],\"border_fill_color\":null,\"center\":[{\"id\":\"4273\"},{\"id\":\"4277\"}],\"left\":[{\"id\":\"4274\"}],\"outline_line_color\":null,\"plot_height\":90,\"plot_width\":150,\"renderers\":[{\"id\":\"4296\"}],\"title\":{\"id\":\"4260\"},\"toolbar\":{\"id\":\"4285\"},\"toolbar_location\":null,\"x_range\":{\"id\":\"4262\"},\"x_scale\":{\"id\":\"4266\"},\"y_range\":{\"id\":\"4264\"},\"y_scale\":{\"id\":\"4268\"}},\"id\":\"4259\",\"subtype\":\"Figure\",\"type\":\"Plot\"},{\"attributes\":{\"formatter\":{\"id\":\"4406\"},\"ticker\":{\"id\":\"3768\"},\"visible\":false},\"id\":\"3767\",\"type\":\"LinearAxis\"},{\"attributes\":{\"text\":\"\"},\"id\":\"3597\",\"type\":\"Title\"},{\"attributes\":{},\"id\":\"4041\",\"type\":\"BasicTicker\"},{\"attributes\":{\"formatter\":{\"id\":\"4467\"},\"ticker\":{\"id\":\"2672\"},\"visible\":false},\"id\":\"2671\",\"type\":\"LinearAxis\"},{\"attributes\":{\"axis\":{\"id\":\"4040\"},\"dimension\":1,\"grid_line_color\":null,\"ticker\":null},\"id\":\"4043\",\"type\":\"Grid\"},{\"attributes\":{\"end\":5},\"id\":\"3599\",\"type\":\"Range1d\"},{\"attributes\":{},\"id\":\"3768\",\"type\":\"BasicTicker\"},{\"attributes\":{\"bottom\":{\"field\":\"bottom\"},\"fill_alpha\":{\"value\":0.1},\"fill_color\":{\"field\":\"fill_color\"},\"left\":{\"field\":\"left\"},\"line_alpha\":{\"value\":0.1},\"line_color\":{\"value\":\"gray\"},\"line_width\":{\"value\":2},\"right\":{\"field\":\"right\"},\"top\":{\"field\":\"top\"}},\"id\":\"4217\",\"type\":\"Quad\"},{\"attributes\":{\"source\":{\"id\":\"4254\"}},\"id\":\"4258\",\"type\":\"CDSView\"},{\"attributes\":{\"data_source\":{\"id\":\"4215\"},\"glyph\":{\"id\":\"4216\"},\"hover_glyph\":null,\"muted_glyph\":null,\"nonselection_glyph\":{\"id\":\"4217\"},\"selection_glyph\":null,\"view\":{\"id\":\"4219\"}},\"id\":\"4218\",\"type\":\"GlyphRenderer\"},{\"attributes\":{},\"id\":\"2672\",\"type\":\"BasicTicker\"},{\"attributes\":{\"bottom\":{\"field\":\"bottom\"},\"fill_alpha\":{\"value\":0.1},\"fill_color\":{\"field\":\"fill_color\"},\"left\":{\"field\":\"left\"},\"line_alpha\":{\"value\":0.1},\"line_color\":{\"value\":\"gray\"},\"line_width\":{\"value\":2},\"right\":{\"field\":\"right\"},\"top\":{\"field\":\"top\"}},\"id\":\"4061\",\"type\":\"Quad\"},{\"attributes\":{\"axis\":{\"id\":\"3767\"},\"dimension\":1,\"grid_line_color\":null,\"ticker\":null},\"id\":\"3770\",\"type\":\"Grid\"},{\"attributes\":{\"end\":3},\"id\":\"3601\",\"type\":\"Range1d\"},{\"attributes\":{\"data_source\":{\"id\":\"4059\"},\"glyph\":{\"id\":\"4060\"},\"hover_glyph\":null,\"muted_glyph\":null,\"nonselection_glyph\":{\"id\":\"4061\"},\"selection_glyph\":null,\"view\":{\"id\":\"4063\"}},\"id\":\"4062\",\"type\":\"GlyphRenderer\"},{\"attributes\":{\"axis\":{\"id\":\"2671\"},\"grid_line_color\":null,\"ticker\":null},\"id\":\"2674\",\"type\":\"Grid\"},{\"attributes\":{},\"id\":\"3603\",\"type\":\"LinearScale\"},{\"attributes\":{\"bottom\":{\"field\":\"bottom\"},\"fill_alpha\":{\"value\":0.1},\"fill_color\":{\"field\":\"fill_color\"},\"left\":{\"field\":\"left\"},\"line_alpha\":{\"value\":0.1},\"line_color\":{\"value\":\"gray\"},\"line_width\":{\"value\":2},\"right\":{\"field\":\"right\"},\"top\":{\"field\":\"top\"}},\"id\":\"3788\",\"type\":\"Quad\"},{\"attributes\":{},\"id\":\"4200\",\"type\":\"PanTool\"},{\"attributes\":{\"source\":{\"id\":\"4293\"}},\"id\":\"4297\",\"type\":\"CDSView\"},{\"attributes\":{\"data_source\":{\"id\":\"3786\"},\"glyph\":{\"id\":\"3787\"},\"hover_glyph\":null,\"muted_glyph\":null,\"nonselection_glyph\":{\"id\":\"3788\"},\"selection_glyph\":null,\"view\":{\"id\":\"3790\"}},\"id\":\"3789\",\"type\":\"GlyphRenderer\"},{\"attributes\":{\"formatter\":{\"id\":\"4469\"},\"ticker\":{\"id\":\"2676\"},\"visible\":false},\"id\":\"2675\",\"type\":\"LinearAxis\"},{\"attributes\":{\"text\":\"\"},\"id\":\"4260\",\"type\":\"Title\"},{\"attributes\":{},\"id\":\"3605\",\"type\":\"LinearScale\"},{\"attributes\":{},\"id\":\"4110\",\"type\":\"LinearScale\"},{\"attributes\":{},\"id\":\"4201\",\"type\":\"WheelZoomTool\"},{\"attributes\":{},\"id\":\"4044\",\"type\":\"PanTool\"},{\"attributes\":{\"end\":5},\"id\":\"4262\",\"type\":\"Range1d\"},{\"attributes\":{},\"id\":\"2676\",\"type\":\"BasicTicker\"},{\"attributes\":{},\"id\":\"3837\",\"type\":\"LinearScale\"},{\"attributes\":{\"formatter\":{\"id\":\"4665\"},\"ticker\":{\"id\":\"3608\"},\"visible\":false},\"id\":\"3607\",\"type\":\"LinearAxis\"},{\"attributes\":{\"overlay\":{\"id\":\"4206\"}},\"id\":\"4202\",\"type\":\"BoxZoomTool\"},{\"attributes\":{},\"id\":\"4045\",\"type\":\"WheelZoomTool\"},{\"attributes\":{\"axis\":{\"id\":\"2675\"},\"dimension\":1,\"grid_line_color\":null,\"ticker\":null},\"id\":\"2678\",\"type\":\"Grid\"},{\"attributes\":{\"end\":3},\"id\":\"4264\",\"type\":\"Range1d\"},{\"attributes\":{},\"id\":\"3771\",\"type\":\"PanTool\"},{\"attributes\":{},\"id\":\"3608\",\"type\":\"BasicTicker\"},{\"attributes\":{\"overlay\":{\"id\":\"4050\"}},\"id\":\"4046\",\"type\":\"BoxZoomTool\"},{\"attributes\":{\"bottom_units\":\"screen\",\"fill_alpha\":0.5,\"fill_color\":\"lightgrey\",\"left_units\":\"screen\",\"level\":\"overlay\",\"line_alpha\":1.0,\"line_color\":\"black\",\"line_dash\":[4,4],\"line_width\":2,\"right_units\":\"screen\",\"top_units\":\"screen\"},\"id\":\"4206\",\"type\":\"BoxAnnotation\"},{\"attributes\":{\"data_source\":{\"id\":\"2694\"},\"glyph\":{\"id\":\"2695\"},\"hover_glyph\":null,\"muted_glyph\":null,\"nonselection_glyph\":{\"id\":\"2696\"},\"selection_glyph\":null,\"view\":{\"id\":\"2698\"}},\"id\":\"2697\",\"type\":\"GlyphRenderer\"},{\"attributes\":{},\"id\":\"4266\",\"type\":\"LinearScale\"},{\"attributes\":{},\"id\":\"3772\",\"type\":\"WheelZoomTool\"},{\"attributes\":{\"axis\":{\"id\":\"3607\"},\"grid_line_color\":null,\"ticker\":null},\"id\":\"3610\",\"type\":\"Grid\"},{\"attributes\":{},\"id\":\"4047\",\"type\":\"SaveTool\"},{\"attributes\":{},\"id\":\"4268\",\"type\":\"LinearScale\"},{\"attributes\":{\"overlay\":{\"id\":\"3777\"}},\"id\":\"3773\",\"type\":\"BoxZoomTool\"},{\"attributes\":{\"formatter\":{\"id\":\"4667\"},\"ticker\":{\"id\":\"3612\"},\"visible\":false},\"id\":\"3611\",\"type\":\"LinearAxis\"},{\"attributes\":{\"bottom\":{\"field\":\"bottom\"},\"fill_color\":{\"field\":\"fill_color\"},\"left\":{\"field\":\"left\"},\"line_color\":{\"value\":\"gray\"},\"line_width\":{\"value\":2},\"right\":{\"field\":\"right\"},\"top\":{\"field\":\"top\"}},\"id\":\"4216\",\"type\":\"Quad\"},{\"attributes\":{\"data\":{\"bottom\":[0,0,0,0,0,1,1,1,1,1,2,2,2,2,2],\"fill_color\":[\"white\",\"white\",\"white\",\"white\",\"white\",\"white\",\"white\",\"white\",\"black\",\"white\",\"white\",\"white\",\"black\",\"black\",\"white\"],\"left\":[0,1,2,3,4,0,1,2,3,4,0,1,2,3,4],\"right\":[1,2,3,4,5,1,2,3,4,5,1,2,3,4,5],\"top\":[1,1,1,1,1,2,2,2,2,2,3,3,3,3,3]},\"selected\":{\"id\":\"4473\"},\"selection_policy\":{\"id\":\"4472\"}},\"id\":\"2694\",\"type\":\"ColumnDataSource\"},{\"attributes\":{},\"id\":\"4048\",\"type\":\"ResetTool\"},{\"attributes\":{\"background_fill_color\":null,\"below\":[{\"id\":\"4231\"}],\"border_fill_color\":null,\"center\":[{\"id\":\"4234\"},{\"id\":\"4238\"}],\"left\":[{\"id\":\"4235\"}],\"outline_line_color\":null,\"plot_height\":90,\"plot_width\":150,\"renderers\":[{\"id\":\"4257\"}],\"title\":{\"id\":\"4221\"},\"toolbar\":{\"id\":\"4246\"},\"toolbar_location\":null,\"x_range\":{\"id\":\"4223\"},\"x_scale\":{\"id\":\"4227\"},\"y_range\":{\"id\":\"4225\"},\"y_scale\":{\"id\":\"4229\"}},\"id\":\"4220\",\"subtype\":\"Figure\",\"type\":\"Plot\"},{\"attributes\":{\"formatter\":{\"id\":\"4548\"},\"ticker\":{\"id\":\"4271\"},\"visible\":false},\"id\":\"4270\",\"type\":\"LinearAxis\"},{\"attributes\":{},\"id\":\"3774\",\"type\":\"SaveTool\"},{\"attributes\":{\"source\":{\"id\":\"4215\"}},\"id\":\"4219\",\"type\":\"CDSView\"},{\"attributes\":{},\"id\":\"2679\",\"type\":\"PanTool\"},{\"attributes\":{},\"id\":\"3612\",\"type\":\"BasicTicker\"},{\"attributes\":{},\"id\":\"4049\",\"type\":\"HelpTool\"},{\"attributes\":{},\"id\":\"2598\",\"type\":\"BasicTicker\"},{\"attributes\":{},\"id\":\"3775\",\"type\":\"ResetTool\"},{\"attributes\":{},\"id\":\"4271\",\"type\":\"BasicTicker\"},{\"attributes\":{\"axis\":{\"id\":\"3611\"},\"dimension\":1,\"grid_line_color\":null,\"ticker\":null},\"id\":\"3614\",\"type\":\"Grid\"},{\"attributes\":{},\"id\":\"4112\",\"type\":\"LinearScale\"},{\"attributes\":{},\"id\":\"2680\",\"type\":\"WheelZoomTool\"},{\"attributes\":{\"axis\":{\"id\":\"4270\"},\"grid_line_color\":null,\"ticker\":null},\"id\":\"4273\",\"type\":\"Grid\"},{\"attributes\":{\"active_drag\":\"auto\",\"active_inspect\":\"auto\",\"active_multi\":null,\"active_scroll\":\"auto\",\"active_tap\":\"auto\",\"logo\":null,\"tools\":[{\"id\":\"4044\"},{\"id\":\"4045\"},{\"id\":\"4046\"},{\"id\":\"4047\"},{\"id\":\"4048\"},{\"id\":\"4049\"}]},\"id\":\"4051\",\"type\":\"Toolbar\"},{\"attributes\":{},\"id\":\"3776\",\"type\":\"HelpTool\"},{\"attributes\":{\"text\":\"\"},\"id\":\"4221\",\"type\":\"Title\"},{\"attributes\":{\"overlay\":{\"id\":\"2685\"}},\"id\":\"2681\",\"type\":\"BoxZoomTool\"},{\"attributes\":{\"bottom\":{\"field\":\"bottom\"},\"fill_alpha\":{\"value\":0.1},\"fill_color\":{\"field\":\"fill_color\"},\"left\":{\"field\":\"left\"},\"line_alpha\":{\"value\":0.1},\"line_color\":{\"value\":\"gray\"},\"line_width\":{\"value\":2},\"right\":{\"field\":\"right\"},\"top\":{\"field\":\"top\"}},\"id\":\"4256\",\"type\":\"Quad\"},{\"attributes\":{\"bottom\":{\"field\":\"bottom\"},\"fill_alpha\":{\"value\":0.1},\"fill_color\":{\"field\":\"fill_color\"},\"left\":{\"field\":\"left\"},\"line_alpha\":{\"value\":0.1},\"line_color\":{\"value\":\"gray\"},\"line_width\":{\"value\":2},\"right\":{\"field\":\"right\"},\"top\":{\"field\":\"top\"}},\"id\":\"3632\",\"type\":\"Quad\"},{\"attributes\":{},\"id\":\"3839\",\"type\":\"LinearScale\"},{\"attributes\":{\"formatter\":{\"id\":\"4550\"},\"ticker\":{\"id\":\"4275\"},\"visible\":false},\"id\":\"4274\",\"type\":\"LinearAxis\"},{\"attributes\":{},\"id\":\"2594\",\"type\":\"BasicTicker\"},{\"attributes\":{\"active_drag\":\"auto\",\"active_inspect\":\"auto\",\"active_multi\":null,\"active_scroll\":\"auto\",\"active_tap\":\"auto\",\"logo\":null,\"tools\":[{\"id\":\"3771\"},{\"id\":\"3772\"},{\"id\":\"3773\"},{\"id\":\"3774\"},{\"id\":\"3775\"},{\"id\":\"3776\"}]},\"id\":\"3778\",\"type\":\"Toolbar\"},{\"attributes\":{\"end\":5},\"id\":\"4223\",\"type\":\"Range1d\"},{\"attributes\":{\"end\":3},\"id\":\"4108\",\"type\":\"Range1d\"},{\"attributes\":{},\"id\":\"2682\",\"type\":\"SaveTool\"},{\"attributes\":{},\"id\":\"4275\",\"type\":\"BasicTicker\"},{\"attributes\":{\"data\":{\"bottom\":[0,0,0,0,0,1,1,1,1,1,2,2,2,2,2],\"fill_color\":[\"white\",\"white\",\"white\",\"white\",\"white\",\"white\",\"white\",\"white\",\"white\",\"white\",\"white\",\"white\",\"black\",\"black\",\"black\"],\"left\":[0,1,2,3,4,0,1,2,3,4,0,1,2,3,4],\"right\":[1,2,3,4,5,1,2,3,4,5,1,2,3,4,5],\"top\":[1,1,1,1,1,2,2,2,2,2,3,3,3,3,3]},\"selected\":{\"id\":\"4671\"},\"selection_policy\":{\"id\":\"4670\"}},\"id\":\"3630\",\"type\":\"ColumnDataSource\"},{\"attributes\":{\"axis\":{\"id\":\"2593\"},\"grid_line_color\":null,\"ticker\":null},\"id\":\"2596\",\"type\":\"Grid\"},{\"attributes\":{\"end\":3},\"id\":\"4225\",\"type\":\"Range1d\"},{\"attributes\":{\"end\":5},\"id\":\"4106\",\"type\":\"Range1d\"},{\"attributes\":{},\"id\":\"2683\",\"type\":\"ResetTool\"},{\"attributes\":{\"end\":3},\"id\":\"3835\",\"type\":\"Range1d\"},{\"attributes\":{\"axis\":{\"id\":\"4274\"},\"dimension\":1,\"grid_line_color\":null,\"ticker\":null},\"id\":\"4277\",\"type\":\"Grid\"},{\"attributes\":{\"data\":{\"bottom\":[0,0,0,0,0,1,1,1,1,1,2,2,2,2,2],\"fill_color\":[\"white\",\"white\",\"white\",\"white\",\"white\",\"white\",\"black\",\"white\",\"white\",\"white\",\"black\",\"black\",\"white\",\"white\",\"white\"],\"left\":[0,1,2,3,4,0,1,2,3,4,0,1,2,3,4],\"right\":[1,2,3,4,5,1,2,3,4,5,1,2,3,4,5],\"top\":[1,1,1,1,1,2,2,2,2,2,3,3,3,3,3]},\"selected\":{\"id\":\"4383\"},\"selection_policy\":{\"id\":\"4382\"}},\"id\":\"2616\",\"type\":\"ColumnDataSource\"},{\"attributes\":{},\"id\":\"4227\",\"type\":\"LinearScale\"},{\"attributes\":{},\"id\":\"2684\",\"type\":\"HelpTool\"},{\"attributes\":{},\"id\":\"3615\",\"type\":\"PanTool\"},{\"attributes\":{\"bottom_units\":\"screen\",\"fill_alpha\":0.5,\"fill_color\":\"lightgrey\",\"left_units\":\"screen\",\"level\":\"overlay\",\"line_alpha\":1.0,\"line_color\":\"black\",\"line_dash\":[4,4],\"line_width\":2,\"right_units\":\"screen\",\"top_units\":\"screen\"},\"id\":\"4050\",\"type\":\"BoxAnnotation\"},{\"attributes\":{\"end\":5},\"id\":\"3833\",\"type\":\"Range1d\"},{\"attributes\":{\"data_source\":{\"id\":\"4293\"},\"glyph\":{\"id\":\"4294\"},\"hover_glyph\":null,\"muted_glyph\":null,\"nonselection_glyph\":{\"id\":\"4295\"},\"selection_glyph\":null,\"view\":{\"id\":\"4297\"}},\"id\":\"4296\",\"type\":\"GlyphRenderer\"},{\"attributes\":{},\"id\":\"3616\",\"type\":\"WheelZoomTool\"},{\"attributes\":{\"background_fill_color\":null,\"below\":[{\"id\":\"4309\"}],\"border_fill_color\":null,\"center\":[{\"id\":\"4312\"},{\"id\":\"4316\"}],\"left\":[{\"id\":\"4313\"}],\"outline_line_color\":null,\"plot_height\":90,\"plot_width\":150,\"renderers\":[{\"id\":\"4335\"}],\"title\":{\"id\":\"4299\"},\"toolbar\":{\"id\":\"4324\"},\"toolbar_location\":null,\"x_range\":{\"id\":\"4301\"},\"x_scale\":{\"id\":\"4305\"},\"y_range\":{\"id\":\"4303\"},\"y_scale\":{\"id\":\"4307\"}},\"id\":\"4298\",\"subtype\":\"Figure\",\"type\":\"Plot\"},{\"attributes\":{},\"id\":\"4229\",\"type\":\"LinearScale\"},{\"attributes\":{\"active_drag\":\"auto\",\"active_inspect\":\"auto\",\"active_multi\":null,\"active_scroll\":\"auto\",\"active_tap\":\"auto\",\"logo\":null,\"tools\":[{\"id\":\"2679\"},{\"id\":\"2680\"},{\"id\":\"2681\"},{\"id\":\"2682\"},{\"id\":\"2683\"},{\"id\":\"2684\"}]},\"id\":\"2686\",\"type\":\"Toolbar\"},{\"attributes\":{\"overlay\":{\"id\":\"3621\"}},\"id\":\"3617\",\"type\":\"BoxZoomTool\"},{\"attributes\":{\"bottom_units\":\"screen\",\"fill_alpha\":0.5,\"fill_color\":\"lightgrey\",\"left_units\":\"screen\",\"level\":\"overlay\",\"line_alpha\":1.0,\"line_color\":\"black\",\"line_dash\":[4,4],\"line_width\":2,\"right_units\":\"screen\",\"top_units\":\"screen\"},\"id\":\"3777\",\"type\":\"BoxAnnotation\"},{\"attributes\":{\"formatter\":{\"id\":\"4503\"},\"ticker\":{\"id\":\"4232\"},\"visible\":false},\"id\":\"4231\",\"type\":\"LinearAxis\"},{\"attributes\":{\"bottom\":{\"field\":\"bottom\"},\"fill_color\":{\"field\":\"fill_color\"},\"left\":{\"field\":\"left\"},\"line_color\":{\"value\":\"gray\"},\"line_width\":{\"value\":2},\"right\":{\"field\":\"right\"},\"top\":{\"field\":\"top\"}},\"id\":\"4060\",\"type\":\"Quad\"},{\"attributes\":{\"background_fill_color\":null,\"below\":[{\"id\":\"4075\"}],\"border_fill_color\":null,\"center\":[{\"id\":\"4078\"},{\"id\":\"4082\"}],\"left\":[{\"id\":\"4079\"}],\"outline_line_color\":null,\"plot_height\":90,\"plot_width\":150,\"renderers\":[{\"id\":\"4101\"}],\"title\":{\"id\":\"4065\"},\"toolbar\":{\"id\":\"4090\"},\"toolbar_location\":null,\"x_range\":{\"id\":\"4067\"},\"x_scale\":{\"id\":\"4071\"},\"y_range\":{\"id\":\"4069\"},\"y_scale\":{\"id\":\"4073\"}},\"id\":\"4064\",\"subtype\":\"Figure\",\"type\":\"Plot\"},{\"attributes\":{\"axis\":{\"id\":\"2597\"},\"dimension\":1,\"grid_line_color\":null,\"ticker\":null},\"id\":\"2600\",\"type\":\"Grid\"},{\"attributes\":{\"text\":\"\"},\"id\":\"2739\",\"type\":\"Title\"},{\"attributes\":{\"end\":3},\"id\":\"2587\",\"type\":\"Range1d\"},{\"attributes\":{},\"id\":\"4232\",\"type\":\"BasicTicker\"},{\"attributes\":{},\"id\":\"4278\",\"type\":\"PanTool\"},{\"attributes\":{\"data\":{\"bottom\":[0,0,0,0,0,1,1,1,1,1,2,2,2,2,2],\"fill_color\":[\"white\",\"black\",\"white\",\"white\",\"white\",\"black\",\"black\",\"white\",\"white\",\"white\",\"white\",\"white\",\"white\",\"white\",\"white\"],\"left\":[0,1,2,3,4,0,1,2,3,4,0,1,2,3,4],\"right\":[1,2,3,4,5,1,2,3,4,5,1,2,3,4,5],\"top\":[1,1,1,1,1,2,2,2,2,2,3,3,3,3,3]},\"selected\":{\"id\":\"4563\"},\"selection_policy\":{\"id\":\"4562\"}},\"id\":\"2772\",\"type\":\"ColumnDataSource\"},{\"attributes\":{\"formatter\":{\"id\":\"4377\"},\"ticker\":{\"id\":\"2594\"},\"visible\":false},\"id\":\"2593\",\"type\":\"LinearAxis\"},{\"attributes\":{\"bottom\":{\"field\":\"bottom\"},\"fill_color\":{\"field\":\"fill_color\"},\"left\":{\"field\":\"left\"},\"line_color\":{\"value\":\"gray\"},\"line_width\":{\"value\":2},\"right\":{\"field\":\"right\"},\"top\":{\"field\":\"top\"}},\"id\":\"3787\",\"type\":\"Quad\"},{\"attributes\":{},\"id\":\"3618\",\"type\":\"SaveTool\"},{\"attributes\":{\"background_fill_color\":null,\"below\":[{\"id\":\"3802\"}],\"border_fill_color\":null,\"center\":[{\"id\":\"3805\"},{\"id\":\"3809\"}],\"left\":[{\"id\":\"3806\"}],\"outline_line_color\":null,\"plot_height\":90,\"plot_width\":150,\"renderers\":[{\"id\":\"3828\"}],\"title\":{\"id\":\"3792\"},\"toolbar\":{\"id\":\"3817\"},\"toolbar_location\":null,\"x_range\":{\"id\":\"3794\"},\"x_scale\":{\"id\":\"3798\"},\"y_range\":{\"id\":\"3796\"},\"y_scale\":{\"id\":\"3800\"}},\"id\":\"3791\",\"subtype\":\"Figure\",\"type\":\"Plot\"},{\"attributes\":{\"background_fill_color\":null,\"below\":[{\"id\":\"2749\"}],\"border_fill_color\":null,\"center\":[{\"id\":\"2752\"},{\"id\":\"2756\"}],\"left\":[{\"id\":\"2753\"}],\"outline_line_color\":null,\"plot_height\":90,\"plot_width\":150,\"renderers\":[{\"id\":\"2775\"}],\"title\":{\"id\":\"2739\"},\"toolbar\":{\"id\":\"2764\"},\"toolbar_location\":null,\"x_range\":{\"id\":\"2741\"},\"x_scale\":{\"id\":\"2745\"},\"y_range\":{\"id\":\"2743\"},\"y_scale\":{\"id\":\"2747\"}},\"id\":\"2738\",\"subtype\":\"Figure\",\"type\":\"Plot\"},{\"attributes\":{},\"id\":\"2589\",\"type\":\"LinearScale\"},{\"attributes\":{\"axis\":{\"id\":\"4231\"},\"grid_line_color\":null,\"ticker\":null},\"id\":\"4234\",\"type\":\"Grid\"},{\"attributes\":{\"end\":5},\"id\":\"2741\",\"type\":\"Range1d\"},{\"attributes\":{},\"id\":\"2601\",\"type\":\"PanTool\"},{\"attributes\":{\"source\":{\"id\":\"3786\"}},\"id\":\"3790\",\"type\":\"CDSView\"},{\"attributes\":{\"formatter\":{\"id\":\"4505\"},\"ticker\":{\"id\":\"4236\"},\"visible\":false},\"id\":\"4235\",\"type\":\"LinearAxis\"},{\"attributes\":{\"text\":\"\"},\"id\":\"4065\",\"type\":\"Title\"},{\"attributes\":{\"bottom\":{\"field\":\"bottom\"},\"fill_alpha\":{\"value\":0.1},\"fill_color\":{\"field\":\"fill_color\"},\"left\":{\"field\":\"left\"},\"line_alpha\":{\"value\":0.1},\"line_color\":{\"value\":\"gray\"},\"line_width\":{\"value\":2},\"right\":{\"field\":\"right\"},\"top\":{\"field\":\"top\"}},\"id\":\"2618\",\"type\":\"Quad\"},{\"attributes\":{\"overlay\":{\"id\":\"4284\"}},\"id\":\"4280\",\"type\":\"BoxZoomTool\"},{\"attributes\":{\"active_drag\":\"auto\",\"active_inspect\":\"auto\",\"active_multi\":null,\"active_scroll\":\"auto\",\"active_tap\":\"auto\",\"logo\":null,\"tools\":[{\"id\":\"3654\"},{\"id\":\"3655\"},{\"id\":\"3656\"},{\"id\":\"3657\"},{\"id\":\"3658\"},{\"id\":\"3659\"}]},\"id\":\"3661\",\"type\":\"Toolbar\"},{\"attributes\":{},\"id\":\"3620\",\"type\":\"HelpTool\"},{\"attributes\":{\"data\":{\"bottom\":[0,0,0,0,0,1,1,1,1,1,2,2,2,2,2],\"fill_color\":[\"white\",\"white\",\"white\",\"white\",\"white\",\"black\",\"black\",\"white\",\"white\",\"white\",\"black\",\"white\",\"white\",\"white\",\"white\"],\"left\":[0,1,2,3,4,0,1,2,3,4,0,1,2,3,4],\"right\":[1,2,3,4,5,1,2,3,4,5,1,2,3,4,5],\"top\":[1,1,1,1,1,2,2,2,2,2,3,3,3,3,3]},\"selected\":{\"id\":\"4752\"},\"selection_policy\":{\"id\":\"4751\"}},\"id\":\"4098\",\"type\":\"ColumnDataSource\"},{\"attributes\":{\"active_drag\":\"auto\",\"active_inspect\":\"auto\",\"active_multi\":null,\"active_scroll\":\"auto\",\"active_tap\":\"auto\",\"logo\":null,\"tools\":[{\"id\":\"3615\"},{\"id\":\"3616\"},{\"id\":\"3617\"},{\"id\":\"3618\"},{\"id\":\"3619\"},{\"id\":\"3620\"}]},\"id\":\"3622\",\"type\":\"Toolbar\"},{\"attributes\":{\"end\":5},\"id\":\"4067\",\"type\":\"Range1d\"},{\"attributes\":{\"data\":{\"bottom\":[0,0,0,0,0,1,1,1,1,1,2,2,2,2,2],\"fill_color\":[\"white\",\"black\",\"black\",\"black\",\"white\",\"white\",\"white\",\"white\",\"white\",\"white\",\"white\",\"white\",\"white\",\"white\",\"white\"],\"left\":[0,1,2,3,4,0,1,2,3,4,0,1,2,3,4],\"right\":[1,2,3,4,5,1,2,3,4,5,1,2,3,4,5],\"top\":[1,1,1,1,1,2,2,2,2,2,3,3,3,3,3]},\"selected\":{\"id\":\"4455\"},\"selection_policy\":{\"id\":\"4454\"}},\"id\":\"3825\",\"type\":\"ColumnDataSource\"},{\"attributes\":{},\"id\":\"4236\",\"type\":\"BasicTicker\"},{\"attributes\":{\"text\":\"\"},\"id\":\"3792\",\"type\":\"Title\"},{\"attributes\":{\"data\":{\"bottom\":[0,0,0,0,0,1,1,1,1,1,2,2,2,2,2],\"fill_color\":[\"white\",\"white\",\"white\",\"white\",\"white\",\"white\",\"white\",\"black\",\"white\",\"white\",\"white\",\"black\",\"black\",\"white\",\"white\"],\"left\":[0,1,2,3,4,0,1,2,3,4,0,1,2,3,4],\"right\":[1,2,3,4,5,1,2,3,4,5,1,2,3,4,5],\"top\":[1,1,1,1,1,2,2,2,2,2,3,3,3,3,3]},\"selected\":{\"id\":\"4428\"},\"selection_policy\":{\"id\":\"4427\"}},\"id\":\"2655\",\"type\":\"ColumnDataSource\"},{\"attributes\":{},\"id\":\"4281\",\"type\":\"SaveTool\"},{\"attributes\":{\"formatter\":{\"id\":\"4379\"},\"ticker\":{\"id\":\"2598\"},\"visible\":false},\"id\":\"2597\",\"type\":\"LinearAxis\"},{\"attributes\":{\"end\":5},\"id\":\"3755\",\"type\":\"Range1d\"},{\"attributes\":{\"axis\":{\"id\":\"4235\"},\"dimension\":1,\"grid_line_color\":null,\"ticker\":null},\"id\":\"4238\",\"type\":\"Grid\"},{\"attributes\":{\"end\":3},\"id\":\"4069\",\"type\":\"Range1d\"},{\"attributes\":{},\"id\":\"2591\",\"type\":\"LinearScale\"},{\"attributes\":{\"end\":5},\"id\":\"3794\",\"type\":\"Range1d\"},{\"attributes\":{\"bottom\":{\"field\":\"bottom\"},\"fill_color\":{\"field\":\"fill_color\"},\"left\":{\"field\":\"left\"},\"line_color\":{\"value\":\"gray\"},\"line_width\":{\"value\":2},\"right\":{\"field\":\"right\"},\"top\":{\"field\":\"top\"}},\"id\":\"2695\",\"type\":\"Quad\"},{\"attributes\":{},\"id\":\"4071\",\"type\":\"LinearScale\"},{\"attributes\":{\"bottom\":{\"field\":\"bottom\"},\"fill_color\":{\"field\":\"fill_color\"},\"left\":{\"field\":\"left\"},\"line_color\":{\"value\":\"gray\"},\"line_width\":{\"value\":2},\"right\":{\"field\":\"right\"},\"top\":{\"field\":\"top\"}},\"id\":\"2617\",\"type\":\"Quad\"},{\"attributes\":{},\"id\":\"4282\",\"type\":\"ResetTool\"},{\"attributes\":{},\"id\":\"4283\",\"type\":\"HelpTool\"},{\"attributes\":{\"background_fill_color\":null,\"below\":[{\"id\":\"2710\"}],\"border_fill_color\":null,\"center\":[{\"id\":\"2713\"},{\"id\":\"2717\"}],\"left\":[{\"id\":\"2714\"}],\"outline_line_color\":null,\"plot_height\":90,\"plot_width\":150,\"renderers\":[{\"id\":\"2736\"}],\"title\":{\"id\":\"2700\"},\"toolbar\":{\"id\":\"2725\"},\"toolbar_location\":null,\"x_range\":{\"id\":\"2702\"},\"x_scale\":{\"id\":\"2706\"},\"y_range\":{\"id\":\"2704\"},\"y_scale\":{\"id\":\"2708\"}},\"id\":\"2699\",\"subtype\":\"Figure\",\"type\":\"Plot\"},{\"attributes\":{\"end\":5},\"id\":\"2585\",\"type\":\"Range1d\"},{\"attributes\":{\"end\":3},\"id\":\"3796\",\"type\":\"Range1d\"},{\"attributes\":{\"text\":\"\"},\"id\":\"2583\",\"type\":\"Title\"},{\"attributes\":{},\"id\":\"4073\",\"type\":\"LinearScale\"},{\"attributes\":{\"source\":{\"id\":\"2694\"}},\"id\":\"2698\",\"type\":\"CDSView\"},{\"attributes\":{\"bottom\":{\"field\":\"bottom\"},\"fill_color\":{\"field\":\"fill_color\"},\"left\":{\"field\":\"left\"},\"line_color\":{\"value\":\"gray\"},\"line_width\":{\"value\":2},\"right\":{\"field\":\"right\"},\"top\":{\"field\":\"top\"}},\"id\":\"4255\",\"type\":\"Quad\"},{\"attributes\":{},\"id\":\"3798\",\"type\":\"LinearScale\"},{\"attributes\":{\"data\":{\"bottom\":[0,0,0,0,0,1,1,1,1,1,2,2,2,2,2],\"fill_color\":[\"black\",\"black\",\"white\",\"white\",\"white\",\"black\",\"white\",\"white\",\"white\",\"white\",\"white\",\"white\",\"white\",\"white\",\"white\"],\"left\":[0,1,2,3,4,0,1,2,3,4,0,1,2,3,4],\"right\":[1,2,3,4,5,1,2,3,4,5,1,2,3,4,5],\"top\":[1,1,1,1,1,2,2,2,2,2,3,3,3,3,3]},\"selected\":{\"id\":\"4509\"},\"selection_policy\":{\"id\":\"4508\"}},\"id\":\"4254\",\"type\":\"ColumnDataSource\"},{\"attributes\":{\"data\":{\"bottom\":[0,0,0,0,0,1,1,1,1,1,2,2,2,2,2],\"fill_color\":[\"white\",\"white\",\"white\",\"white\",\"white\",\"black\",\"black\",\"black\",\"white\",\"white\",\"white\",\"white\",\"white\",\"white\",\"white\"],\"left\":[0,1,2,3,4,0,1,2,3,4,0,1,2,3,4],\"right\":[1,2,3,4,5,1,2,3,4,5,1,2,3,4,5],\"top\":[1,1,1,1,1,2,2,2,2,2,3,3,3,3,3]},\"selected\":{\"id\":\"4707\"},\"selection_policy\":{\"id\":\"4706\"}},\"id\":\"3669\",\"type\":\"ColumnDataSource\"},{\"attributes\":{\"formatter\":{\"id\":\"4746\"},\"ticker\":{\"id\":\"4076\"},\"visible\":false},\"id\":\"4075\",\"type\":\"LinearAxis\"},{\"attributes\":{\"bottom\":{\"field\":\"bottom\"},\"fill_color\":{\"field\":\"fill_color\"},\"left\":{\"field\":\"left\"},\"line_color\":{\"value\":\"gray\"},\"line_width\":{\"value\":2},\"right\":{\"field\":\"right\"},\"top\":{\"field\":\"top\"}},\"id\":\"4294\",\"type\":\"Quad\"},{\"attributes\":{},\"id\":\"4472\",\"type\":\"UnionRenderers\"},{\"attributes\":{\"bottom_units\":\"screen\",\"fill_alpha\":0.5,\"fill_color\":\"lightgrey\",\"left_units\":\"screen\",\"level\":\"overlay\",\"line_alpha\":1.0,\"line_color\":\"black\",\"line_dash\":[4,4],\"line_width\":2,\"right_units\":\"screen\",\"top_units\":\"screen\"},\"id\":\"3621\",\"type\":\"BoxAnnotation\"},{\"attributes\":{},\"id\":\"3800\",\"type\":\"LinearScale\"},{\"attributes\":{},\"id\":\"4469\",\"type\":\"BasicTickFormatter\"},{\"attributes\":{},\"id\":\"4239\",\"type\":\"PanTool\"},{\"attributes\":{\"text\":\"\"},\"id\":\"2700\",\"type\":\"Title\"},{\"attributes\":{\"data_source\":{\"id\":\"3630\"},\"glyph\":{\"id\":\"3631\"},\"hover_glyph\":null,\"muted_glyph\":null,\"nonselection_glyph\":{\"id\":\"3632\"},\"selection_glyph\":null,\"view\":{\"id\":\"3634\"}},\"id\":\"3633\",\"type\":\"GlyphRenderer\"},{\"attributes\":{\"data\":{\"bottom\":[0,0,0,0,0,1,1,1,1,1,2,2,2,2,2],\"fill_color\":[\"white\",\"white\",\"white\",\"white\",\"white\",\"white\",\"white\",\"white\",\"white\",\"black\",\"white\",\"white\",\"white\",\"black\",\"black\"],\"left\":[0,1,2,3,4,0,1,2,3,4,0,1,2,3,4],\"right\":[1,2,3,4,5,1,2,3,4,5,1,2,3,4,5],\"top\":[1,1,1,1,1,2,2,2,2,2,3,3,3,3,3]},\"selected\":{\"id\":\"4518\"},\"selection_policy\":{\"id\":\"4517\"}},\"id\":\"2733\",\"type\":\"ColumnDataSource\"},{\"attributes\":{},\"id\":\"4076\",\"type\":\"BasicTicker\"},{\"attributes\":{\"formatter\":{\"id\":\"4449\"},\"ticker\":{\"id\":\"3803\"},\"visible\":false},\"id\":\"3802\",\"type\":\"LinearAxis\"},{\"attributes\":{},\"id\":\"4467\",\"type\":\"BasicTickFormatter\"},{\"attributes\":{},\"id\":\"4240\",\"type\":\"WheelZoomTool\"},{\"attributes\":{\"bottom\":{\"field\":\"bottom\"},\"fill_color\":{\"field\":\"fill_color\"},\"left\":{\"field\":\"left\"},\"line_color\":{\"value\":\"gray\"},\"line_width\":{\"value\":2},\"right\":{\"field\":\"right\"},\"top\":{\"field\":\"top\"}},\"id\":\"3631\",\"type\":\"Quad\"},{\"attributes\":{\"active_drag\":\"auto\",\"active_inspect\":\"auto\",\"active_multi\":null,\"active_scroll\":\"auto\",\"active_tap\":\"auto\",\"logo\":null,\"tools\":[{\"id\":\"3849\"},{\"id\":\"3850\"},{\"id\":\"3851\"},{\"id\":\"3852\"},{\"id\":\"3853\"},{\"id\":\"3854\"}]},\"id\":\"3856\",\"type\":\"Toolbar\"},{\"attributes\":{},\"id\":\"4697\",\"type\":\"UnionRenderers\"},{\"attributes\":{\"formatter\":{\"id\":\"4487\"},\"ticker\":{\"id\":\"3456\"},\"visible\":false},\"id\":\"3455\",\"type\":\"LinearAxis\"},{\"attributes\":{},\"id\":\"3296\",\"type\":\"BasicTicker\"},{\"attributes\":{},\"id\":\"4698\",\"type\":\"Selection\"},{\"attributes\":{\"active_drag\":\"auto\",\"active_inspect\":\"auto\",\"active_multi\":null,\"active_scroll\":\"auto\",\"active_tap\":\"auto\",\"logo\":null,\"tools\":[{\"id\":\"3927\"},{\"id\":\"3928\"},{\"id\":\"3929\"},{\"id\":\"3930\"},{\"id\":\"3931\"},{\"id\":\"3932\"}]},\"id\":\"3934\",\"type\":\"Toolbar\"},{\"attributes\":{\"formatter\":{\"id\":\"4728\"},\"ticker\":{\"id\":\"3296\"},\"visible\":false},\"id\":\"3295\",\"type\":\"LinearAxis\"},{\"attributes\":{},\"id\":\"3456\",\"type\":\"BasicTicker\"},{\"attributes\":{},\"id\":\"4279\",\"type\":\"WheelZoomTool\"},{\"attributes\":{\"data\":{\"bottom\":[0,0,0,0,0,1,1,1,1,1,2,2,2,2,2],\"fill_color\":[\"white\",\"black\",\"white\",\"white\",\"white\",\"white\",\"black\",\"white\",\"white\",\"white\",\"white\",\"black\",\"white\",\"white\",\"white\"],\"left\":[0,1,2,3,4,0,1,2,3,4,0,1,2,3,4],\"right\":[1,2,3,4,5,1,2,3,4,5,1,2,3,4,5],\"top\":[1,1,1,1,1,2,2,2,2,2,3,3,3,3,3]},\"selected\":{\"id\":\"4590\"},\"selection_policy\":{\"id\":\"4589\"}},\"id\":\"3942\",\"type\":\"ColumnDataSource\"},{\"attributes\":{},\"id\":\"4701\",\"type\":\"BasicTickFormatter\"},{\"attributes\":{\"axis\":{\"id\":\"3455\"},\"dimension\":1,\"grid_line_color\":null,\"ticker\":null},\"id\":\"3458\",\"type\":\"Grid\"},{\"attributes\":{\"bottom\":{\"field\":\"bottom\"},\"fill_color\":{\"field\":\"fill_color\"},\"left\":{\"field\":\"left\"},\"line_color\":{\"value\":\"gray\"},\"line_width\":{\"value\":2},\"right\":{\"field\":\"right\"},\"top\":{\"field\":\"top\"}},\"id\":\"4021\",\"type\":\"Quad\"},{\"attributes\":{},\"id\":\"4703\",\"type\":\"BasicTickFormatter\"},{\"attributes\":{\"bottom_units\":\"screen\",\"fill_alpha\":0.5,\"fill_color\":\"lightgrey\",\"left_units\":\"screen\",\"level\":\"overlay\",\"line_alpha\":1.0,\"line_color\":\"black\",\"line_dash\":[4,4],\"line_width\":2,\"right_units\":\"screen\",\"top_units\":\"screen\"},\"id\":\"3231\",\"type\":\"BoxAnnotation\"},{\"attributes\":{\"bottom_units\":\"screen\",\"fill_alpha\":0.5,\"fill_color\":\"lightgrey\",\"left_units\":\"screen\",\"level\":\"overlay\",\"line_alpha\":1.0,\"line_color\":\"black\",\"line_dash\":[4,4],\"line_width\":2,\"right_units\":\"screen\",\"top_units\":\"screen\"},\"id\":\"3855\",\"type\":\"BoxAnnotation\"},{\"attributes\":{\"end\":5},\"id\":\"3482\",\"type\":\"Range1d\"},{\"attributes\":{\"active_drag\":\"auto\",\"active_inspect\":\"auto\",\"active_multi\":null,\"active_scroll\":\"auto\",\"active_tap\":\"auto\",\"logo\":null,\"tools\":[{\"id\":\"3225\"},{\"id\":\"3226\"},{\"id\":\"3227\"},{\"id\":\"3228\"},{\"id\":\"3229\"},{\"id\":\"3230\"}]},\"id\":\"3232\",\"type\":\"Toolbar\"},{\"attributes\":{},\"id\":\"4706\",\"type\":\"UnionRenderers\"},{\"attributes\":{\"data_source\":{\"id\":\"3864\"},\"glyph\":{\"id\":\"3865\"},\"hover_glyph\":null,\"muted_glyph\":null,\"nonselection_glyph\":{\"id\":\"3866\"},\"selection_glyph\":null,\"view\":{\"id\":\"3868\"}},\"id\":\"3867\",\"type\":\"GlyphRenderer\"},{\"attributes\":{\"background_fill_color\":null,\"below\":[{\"id\":\"3880\"}],\"border_fill_color\":null,\"center\":[{\"id\":\"3883\"},{\"id\":\"3887\"}],\"left\":[{\"id\":\"3884\"}],\"outline_line_color\":null,\"plot_height\":90,\"plot_width\":150,\"renderers\":[{\"id\":\"3906\"}],\"title\":{\"id\":\"3870\"},\"toolbar\":{\"id\":\"3895\"},\"toolbar_location\":null,\"x_range\":{\"id\":\"3872\"},\"x_scale\":{\"id\":\"3876\"},\"y_range\":{\"id\":\"3874\"},\"y_scale\":{\"id\":\"3878\"}},\"id\":\"3869\",\"subtype\":\"Figure\",\"type\":\"Plot\"},{\"attributes\":{\"text\":\"\"},\"id\":\"3480\",\"type\":\"Title\"},{\"attributes\":{},\"id\":\"4707\",\"type\":\"Selection\"},{\"attributes\":{\"background_fill_color\":null,\"below\":[{\"id\":\"3256\"}],\"border_fill_color\":null,\"center\":[{\"id\":\"3259\"},{\"id\":\"3263\"}],\"left\":[{\"id\":\"3260\"}],\"outline_line_color\":null,\"plot_height\":90,\"plot_width\":150,\"renderers\":[{\"id\":\"3282\"}],\"title\":{\"id\":\"3246\"},\"toolbar\":{\"id\":\"3271\"},\"toolbar_location\":null,\"x_range\":{\"id\":\"3248\"},\"x_scale\":{\"id\":\"3252\"},\"y_range\":{\"id\":\"3250\"},\"y_scale\":{\"id\":\"3254\"}},\"id\":\"3245\",\"subtype\":\"Figure\",\"type\":\"Plot\"},{\"attributes\":{\"data_source\":{\"id\":\"3240\"},\"glyph\":{\"id\":\"3241\"},\"hover_glyph\":null,\"muted_glyph\":null,\"nonselection_glyph\":{\"id\":\"3242\"},\"selection_glyph\":null,\"view\":{\"id\":\"3244\"}},\"id\":\"3243\",\"type\":\"GlyphRenderer\"},{\"attributes\":{},\"id\":\"3459\",\"type\":\"PanTool\"},{\"attributes\":{\"source\":{\"id\":\"3864\"}},\"id\":\"3868\",\"type\":\"CDSView\"},{\"attributes\":{},\"id\":\"4710\",\"type\":\"BasicTickFormatter\"},{\"attributes\":{\"source\":{\"id\":\"3240\"}},\"id\":\"3244\",\"type\":\"CDSView\"},{\"attributes\":{},\"id\":\"3460\",\"type\":\"WheelZoomTool\"},{\"attributes\":{},\"id\":\"4712\",\"type\":\"BasicTickFormatter\"},{\"attributes\":{\"bottom\":{\"field\":\"bottom\"},\"fill_alpha\":{\"value\":0.1},\"fill_color\":{\"field\":\"fill_color\"},\"left\":{\"field\":\"left\"},\"line_alpha\":{\"value\":0.1},\"line_color\":{\"value\":\"gray\"},\"line_width\":{\"value\":2},\"right\":{\"field\":\"right\"},\"top\":{\"field\":\"top\"}},\"id\":\"3281\",\"type\":\"Quad\"},{\"attributes\":{\"text\":\"\"},\"id\":\"3246\",\"type\":\"Title\"},{\"attributes\":{\"overlay\":{\"id\":\"3465\"}},\"id\":\"3461\",\"type\":\"BoxZoomTool\"},{\"attributes\":{\"bottom\":{\"field\":\"bottom\"},\"fill_alpha\":{\"value\":0.1},\"fill_color\":{\"field\":\"fill_color\"},\"left\":{\"field\":\"left\"},\"line_alpha\":{\"value\":0.1},\"line_color\":{\"value\":\"gray\"},\"line_width\":{\"value\":2},\"right\":{\"field\":\"right\"},\"top\":{\"field\":\"top\"}},\"id\":\"3905\",\"type\":\"Quad\"},{\"attributes\":{},\"id\":\"4715\",\"type\":\"UnionRenderers\"},{\"attributes\":{\"text\":\"\"},\"id\":\"3870\",\"type\":\"Title\"},{\"attributes\":{\"end\":5},\"id\":\"3248\",\"type\":\"Range1d\"},{\"attributes\":{},\"id\":\"3462\",\"type\":\"SaveTool\"},{\"attributes\":{},\"id\":\"4716\",\"type\":\"Selection\"},{\"attributes\":{\"end\":5},\"id\":\"3872\",\"type\":\"Range1d\"},{\"attributes\":{\"end\":3},\"id\":\"3250\",\"type\":\"Range1d\"},{\"attributes\":{},\"id\":\"3463\",\"type\":\"ResetTool\"},{\"attributes\":{},\"id\":\"4719\",\"type\":\"BasicTickFormatter\"},{\"attributes\":{\"end\":3},\"id\":\"3874\",\"type\":\"Range1d\"},{\"attributes\":{},\"id\":\"3252\",\"type\":\"LinearScale\"},{\"attributes\":{},\"id\":\"3464\",\"type\":\"HelpTool\"},{\"attributes\":{},\"id\":\"4721\",\"type\":\"BasicTickFormatter\"},{\"attributes\":{},\"id\":\"3876\",\"type\":\"LinearScale\"},{\"attributes\":{},\"id\":\"3254\",\"type\":\"LinearScale\"},{\"attributes\":{},\"id\":\"4724\",\"type\":\"UnionRenderers\"},{\"attributes\":{\"end\":3},\"id\":\"3484\",\"type\":\"Range1d\"},{\"attributes\":{},\"id\":\"3878\",\"type\":\"LinearScale\"},{\"attributes\":{\"formatter\":{\"id\":\"4692\"},\"ticker\":{\"id\":\"3257\"},\"visible\":false},\"id\":\"3256\",\"type\":\"LinearAxis\"},{\"attributes\":{},\"id\":\"4725\",\"type\":\"Selection\"},{\"attributes\":{\"formatter\":{\"id\":\"4539\"},\"ticker\":{\"id\":\"3881\"},\"visible\":false},\"id\":\"3880\",\"type\":\"LinearAxis\"},{\"attributes\":{},\"id\":\"3257\",\"type\":\"BasicTicker\"},{\"attributes\":{},\"id\":\"4728\",\"type\":\"BasicTickFormatter\"},{\"attributes\":{},\"id\":\"3881\",\"type\":\"BasicTicker\"},{\"attributes\":{},\"id\":\"3573\",\"type\":\"BasicTicker\"},{\"attributes\":{\"axis\":{\"id\":\"3256\"},\"grid_line_color\":null,\"ticker\":null},\"id\":\"3259\",\"type\":\"Grid\"},{\"attributes\":{},\"id\":\"4730\",\"type\":\"BasicTickFormatter\"},{\"attributes\":{\"axis\":{\"id\":\"3880\"},\"grid_line_color\":null,\"ticker\":null},\"id\":\"3883\",\"type\":\"Grid\"},{\"attributes\":{\"formatter\":{\"id\":\"4694\"},\"ticker\":{\"id\":\"3261\"},\"visible\":false},\"id\":\"3260\",\"type\":\"LinearAxis\"},{\"attributes\":{},\"id\":\"4733\",\"type\":\"UnionRenderers\"},{\"attributes\":{\"formatter\":{\"id\":\"4541\"},\"ticker\":{\"id\":\"3885\"},\"visible\":false},\"id\":\"3884\",\"type\":\"LinearAxis\"},{\"attributes\":{},\"id\":\"3261\",\"type\":\"BasicTicker\"},{\"attributes\":{},\"id\":\"4734\",\"type\":\"Selection\"},{\"attributes\":{},\"id\":\"3885\",\"type\":\"BasicTicker\"},{\"attributes\":{\"axis\":{\"id\":\"3260\"},\"dimension\":1,\"grid_line_color\":null,\"ticker\":null},\"id\":\"3263\",\"type\":\"Grid\"},{\"attributes\":{},\"id\":\"4737\",\"type\":\"BasicTickFormatter\"},{\"attributes\":{\"axis\":{\"id\":\"3884\"},\"dimension\":1,\"grid_line_color\":null,\"ticker\":null},\"id\":\"3887\",\"type\":\"Grid\"},{\"attributes\":{\"axis\":{\"id\":\"3572\"},\"dimension\":1,\"grid_line_color\":null,\"ticker\":null},\"id\":\"3575\",\"type\":\"Grid\"},{\"attributes\":{\"data_source\":{\"id\":\"3279\"},\"glyph\":{\"id\":\"3280\"},\"hover_glyph\":null,\"muted_glyph\":null,\"nonselection_glyph\":{\"id\":\"3281\"},\"selection_glyph\":null,\"view\":{\"id\":\"3283\"}},\"id\":\"3282\",\"type\":\"GlyphRenderer\"},{\"attributes\":{},\"id\":\"4739\",\"type\":\"BasicTickFormatter\"},{\"attributes\":{\"data_source\":{\"id\":\"3903\"},\"glyph\":{\"id\":\"3904\"},\"hover_glyph\":null,\"muted_glyph\":null,\"nonselection_glyph\":{\"id\":\"3905\"},\"selection_glyph\":null,\"view\":{\"id\":\"3907\"}},\"id\":\"3906\",\"type\":\"GlyphRenderer\"},{\"attributes\":{\"formatter\":{\"id\":\"4622\"},\"ticker\":{\"id\":\"3573\"},\"visible\":false},\"id\":\"3572\",\"type\":\"LinearAxis\"},{\"attributes\":{},\"id\":\"4742\",\"type\":\"UnionRenderers\"},{\"attributes\":{\"data\":{\"bottom\":[0,0,0,0,0,1,1,1,1,1,2,2,2,2,2],\"fill_color\":[\"white\",\"white\",\"white\",\"white\",\"white\",\"white\",\"black\",\"white\",\"white\",\"white\",\"white\",\"black\",\"black\",\"white\",\"white\"],\"left\":[0,1,2,3,4,0,1,2,3,4,0,1,2,3,4],\"right\":[1,2,3,4,5,1,2,3,4,5,1,2,3,4,5],\"top\":[1,1,1,1,1,2,2,2,2,2,3,3,3,3,3]},\"selected\":{\"id\":\"4698\"},\"selection_policy\":{\"id\":\"4697\"}},\"id\":\"3279\",\"type\":\"ColumnDataSource\"},{\"attributes\":{\"bottom_units\":\"screen\",\"fill_alpha\":0.5,\"fill_color\":\"lightgrey\",\"left_units\":\"screen\",\"level\":\"overlay\",\"line_alpha\":1.0,\"line_color\":\"black\",\"line_dash\":[4,4],\"line_width\":2,\"right_units\":\"screen\",\"top_units\":\"screen\"},\"id\":\"3465\",\"type\":\"BoxAnnotation\"},{\"attributes\":{},\"id\":\"3291\",\"type\":\"LinearScale\"},{\"attributes\":{\"data\":{\"bottom\":[0,0,0,0,0,1,1,1,1,1,2,2,2,2,2],\"fill_color\":[\"black\",\"white\",\"white\",\"white\",\"white\",\"black\",\"white\",\"white\",\"white\",\"white\",\"black\",\"white\",\"white\",\"white\",\"white\"],\"left\":[0,1,2,3,4,0,1,2,3,4,0,1,2,3,4],\"right\":[1,2,3,4,5,1,2,3,4,5,1,2,3,4,5],\"top\":[1,1,1,1,1,2,2,2,2,2,3,3,3,3,3]},\"selected\":{\"id\":\"4545\"},\"selection_policy\":{\"id\":\"4544\"}},\"id\":\"3903\",\"type\":\"ColumnDataSource\"},{\"attributes\":{},\"id\":\"4743\",\"type\":\"Selection\"},{\"attributes\":{},\"id\":\"3486\",\"type\":\"LinearScale\"},{\"attributes\":{},\"id\":\"3932\",\"type\":\"HelpTool\"},{\"attributes\":{},\"id\":\"3264\",\"type\":\"PanTool\"},{\"attributes\":{},\"id\":\"3888\",\"type\":\"PanTool\"},{\"attributes\":{},\"id\":\"4746\",\"type\":\"BasicTickFormatter\"},{\"attributes\":{},\"id\":\"3488\",\"type\":\"LinearScale\"},{\"attributes\":{},\"id\":\"3265\",\"type\":\"WheelZoomTool\"},{\"attributes\":{},\"id\":\"3889\",\"type\":\"WheelZoomTool\"},{\"attributes\":{},\"id\":\"4748\",\"type\":\"BasicTickFormatter\"},{\"attributes\":{\"formatter\":{\"id\":\"4530\"},\"ticker\":{\"id\":\"3491\"},\"visible\":false},\"id\":\"3490\",\"type\":\"LinearAxis\"},{\"attributes\":{\"overlay\":{\"id\":\"3270\"}},\"id\":\"3266\",\"type\":\"BoxZoomTool\"},{\"attributes\":{\"overlay\":{\"id\":\"3894\"}},\"id\":\"3890\",\"type\":\"BoxZoomTool\"},{\"attributes\":{},\"id\":\"4751\",\"type\":\"UnionRenderers\"},{\"attributes\":{},\"id\":\"3491\",\"type\":\"BasicTicker\"},{\"attributes\":{},\"id\":\"3267\",\"type\":\"SaveTool\"},{\"attributes\":{},\"id\":\"3891\",\"type\":\"SaveTool\"},{\"attributes\":{},\"id\":\"4752\",\"type\":\"Selection\"},{\"attributes\":{\"axis\":{\"id\":\"3490\"},\"grid_line_color\":null,\"ticker\":null},\"id\":\"3493\",\"type\":\"Grid\"},{\"attributes\":{},\"id\":\"3268\",\"type\":\"ResetTool\"},{\"attributes\":{},\"id\":\"3892\",\"type\":\"ResetTool\"},{\"attributes\":{},\"id\":\"4755\",\"type\":\"BasicTickFormatter\"},{\"attributes\":{\"formatter\":{\"id\":\"4532\"},\"ticker\":{\"id\":\"3495\"},\"visible\":false},\"id\":\"3494\",\"type\":\"LinearAxis\"},{\"attributes\":{},\"id\":\"3269\",\"type\":\"HelpTool\"},{\"attributes\":{},\"id\":\"3619\",\"type\":\"ResetTool\"},{\"attributes\":{},\"id\":\"3893\",\"type\":\"HelpTool\"},{\"attributes\":{},\"id\":\"4757\",\"type\":\"BasicTickFormatter\"},{\"attributes\":{},\"id\":\"3293\",\"type\":\"LinearScale\"},{\"attributes\":{},\"id\":\"3495\",\"type\":\"BasicTicker\"},{\"attributes\":{\"active_drag\":\"auto\",\"active_inspect\":\"auto\",\"active_multi\":null,\"active_scroll\":\"auto\",\"active_tap\":\"auto\",\"logo\":null,\"tools\":[{\"id\":\"3264\"},{\"id\":\"3265\"},{\"id\":\"3266\"},{\"id\":\"3267\"},{\"id\":\"3268\"},{\"id\":\"3269\"}]},\"id\":\"3271\",\"type\":\"Toolbar\"},{\"attributes\":{\"bottom\":{\"field\":\"bottom\"},\"fill_alpha\":{\"value\":0.1},\"fill_color\":{\"field\":\"fill_color\"},\"left\":{\"field\":\"left\"},\"line_alpha\":{\"value\":0.1},\"line_color\":{\"value\":\"gray\"},\"line_width\":{\"value\":2},\"right\":{\"field\":\"right\"},\"top\":{\"field\":\"top\"}},\"id\":\"4022\",\"type\":\"Quad\"},{\"attributes\":{},\"id\":\"4760\",\"type\":\"UnionRenderers\"},{\"attributes\":{\"axis\":{\"id\":\"3494\"},\"dimension\":1,\"grid_line_color\":null,\"ticker\":null},\"id\":\"3497\",\"type\":\"Grid\"},{\"attributes\":{\"active_drag\":\"auto\",\"active_inspect\":\"auto\",\"active_multi\":null,\"active_scroll\":\"auto\",\"active_tap\":\"auto\",\"logo\":null,\"tools\":[{\"id\":\"3888\"},{\"id\":\"3889\"},{\"id\":\"3890\"},{\"id\":\"3891\"},{\"id\":\"3892\"},{\"id\":\"3893\"}]},\"id\":\"3895\",\"type\":\"Toolbar\"},{\"attributes\":{},\"id\":\"4761\",\"type\":\"Selection\"},{\"attributes\":{\"end\":3},\"id\":\"3289\",\"type\":\"Range1d\"},{\"attributes\":{\"bottom\":{\"field\":\"bottom\"},\"fill_color\":{\"field\":\"fill_color\"},\"left\":{\"field\":\"left\"},\"line_color\":{\"value\":\"gray\"},\"line_width\":{\"value\":2},\"right\":{\"field\":\"right\"},\"top\":{\"field\":\"top\"}},\"id\":\"3514\",\"type\":\"Quad\"},{\"attributes\":{},\"id\":\"3931\",\"type\":\"ResetTool\"},{\"attributes\":{},\"id\":\"4764\",\"type\":\"BasicTickFormatter\"},{\"attributes\":{\"end\":5},\"id\":\"3287\",\"type\":\"Range1d\"},{\"attributes\":{\"data\":{\"bottom\":[0,0,0,0,0,1,1,1,1,1,2,2,2,2,2],\"fill_color\":[\"white\",\"white\",\"white\",\"black\",\"white\",\"white\",\"white\",\"white\",\"black\",\"black\",\"white\",\"white\",\"white\",\"white\",\"white\"],\"left\":[0,1,2,3,4,0,1,2,3,4,0,1,2,3,4],\"right\":[1,2,3,4,5,1,2,3,4,5,1,2,3,4,5],\"top\":[1,1,1,1,1,2,2,2,2,2,3,3,3,3,3]},\"selected\":{\"id\":\"4536\"},\"selection_policy\":{\"id\":\"4535\"}},\"id\":\"3513\",\"type\":\"ColumnDataSource\"},{\"attributes\":{},\"id\":\"3930\",\"type\":\"SaveTool\"},{\"attributes\":{},\"id\":\"4766\",\"type\":\"BasicTickFormatter\"},{\"attributes\":{\"bottom_units\":\"screen\",\"fill_alpha\":0.5,\"fill_color\":\"lightgrey\",\"left_units\":\"screen\",\"level\":\"overlay\",\"line_alpha\":1.0,\"line_color\":\"black\",\"line_dash\":[4,4],\"line_width\":2,\"right_units\":\"screen\",\"top_units\":\"screen\"},\"id\":\"3270\",\"type\":\"BoxAnnotation\"},{\"attributes\":{},\"id\":\"3498\",\"type\":\"PanTool\"},{\"attributes\":{\"bottom_units\":\"screen\",\"fill_alpha\":0.5,\"fill_color\":\"lightgrey\",\"left_units\":\"screen\",\"level\":\"overlay\",\"line_alpha\":1.0,\"line_color\":\"black\",\"line_dash\":[4,4],\"line_width\":2,\"right_units\":\"screen\",\"top_units\":\"screen\"},\"id\":\"3894\",\"type\":\"BoxAnnotation\"},{\"attributes\":{},\"id\":\"4769\",\"type\":\"UnionRenderers\"},{\"attributes\":{},\"id\":\"3499\",\"type\":\"WheelZoomTool\"},{\"attributes\":{},\"id\":\"4770\",\"type\":\"Selection\"},{\"attributes\":{\"bottom\":{\"field\":\"bottom\"},\"fill_color\":{\"field\":\"fill_color\"},\"left\":{\"field\":\"left\"},\"line_color\":{\"value\":\"gray\"},\"line_width\":{\"value\":2},\"right\":{\"field\":\"right\"},\"top\":{\"field\":\"top\"}},\"id\":\"3280\",\"type\":\"Quad\"},{\"attributes\":{\"background_fill_color\":null,\"below\":[{\"id\":\"3295\"}],\"border_fill_color\":null,\"center\":[{\"id\":\"3298\"},{\"id\":\"3302\"}],\"left\":[{\"id\":\"3299\"}],\"outline_line_color\":null,\"plot_height\":90,\"plot_width\":150,\"renderers\":[{\"id\":\"3321\"}],\"title\":{\"id\":\"3285\"},\"toolbar\":{\"id\":\"3310\"},\"toolbar_location\":null,\"x_range\":{\"id\":\"3287\"},\"x_scale\":{\"id\":\"3291\"},\"y_range\":{\"id\":\"3289\"},\"y_scale\":{\"id\":\"3293\"}},\"id\":\"3284\",\"subtype\":\"Figure\",\"type\":\"Plot\"},{\"attributes\":{\"overlay\":{\"id\":\"3504\"}},\"id\":\"3500\",\"type\":\"BoxZoomTool\"},{\"attributes\":{\"bottom\":{\"field\":\"bottom\"},\"fill_color\":{\"field\":\"fill_color\"},\"left\":{\"field\":\"left\"},\"line_color\":{\"value\":\"gray\"},\"line_width\":{\"value\":2},\"right\":{\"field\":\"right\"},\"top\":{\"field\":\"top\"}},\"id\":\"3904\",\"type\":\"Quad\"},{\"attributes\":{},\"id\":\"4773\",\"type\":\"BasicTickFormatter\"},{\"attributes\":{\"background_fill_color\":null,\"below\":[{\"id\":\"3919\"}],\"border_fill_color\":null,\"center\":[{\"id\":\"3922\"},{\"id\":\"3926\"}],\"left\":[{\"id\":\"3923\"}],\"outline_line_color\":null,\"plot_height\":90,\"plot_width\":150,\"renderers\":[{\"id\":\"3945\"}],\"title\":{\"id\":\"3909\"},\"toolbar\":{\"id\":\"3934\"},\"toolbar_location\":null,\"x_range\":{\"id\":\"3911\"},\"x_scale\":{\"id\":\"3915\"},\"y_range\":{\"id\":\"3913\"},\"y_scale\":{\"id\":\"3917\"}},\"id\":\"3908\",\"subtype\":\"Figure\",\"type\":\"Plot\"},{\"attributes\":{\"source\":{\"id\":\"3279\"}},\"id\":\"3283\",\"type\":\"CDSView\"},{\"attributes\":{},\"id\":\"3501\",\"type\":\"SaveTool\"},{\"attributes\":{\"source\":{\"id\":\"3903\"}},\"id\":\"3907\",\"type\":\"CDSView\"},{\"attributes\":{},\"id\":\"4775\",\"type\":\"BasicTickFormatter\"},{\"attributes\":{},\"id\":\"4535\",\"type\":\"UnionRenderers\"},{\"attributes\":{},\"id\":\"4431\",\"type\":\"BasicTickFormatter\"},{\"attributes\":{},\"id\":\"4536\",\"type\":\"Selection\"},{\"attributes\":{},\"id\":\"4433\",\"type\":\"BasicTickFormatter\"},{\"attributes\":{},\"id\":\"4539\",\"type\":\"BasicTickFormatter\"},{\"attributes\":{},\"id\":\"4436\",\"type\":\"UnionRenderers\"},{\"attributes\":{},\"id\":\"4541\",\"type\":\"BasicTickFormatter\"},{\"attributes\":{},\"id\":\"4437\",\"type\":\"Selection\"},{\"attributes\":{},\"id\":\"4544\",\"type\":\"UnionRenderers\"},{\"attributes\":{},\"id\":\"4440\",\"type\":\"BasicTickFormatter\"},{\"attributes\":{},\"id\":\"4545\",\"type\":\"Selection\"},{\"attributes\":{},\"id\":\"4442\",\"type\":\"BasicTickFormatter\"},{\"attributes\":{},\"id\":\"4548\",\"type\":\"BasicTickFormatter\"},{\"attributes\":{},\"id\":\"2862\",\"type\":\"LinearScale\"},{\"attributes\":{},\"id\":\"4445\",\"type\":\"UnionRenderers\"},{\"attributes\":{},\"id\":\"4550\",\"type\":\"BasicTickFormatter\"},{\"attributes\":{},\"id\":\"4446\",\"type\":\"Selection\"},{\"attributes\":{},\"id\":\"4553\",\"type\":\"UnionRenderers\"},{\"attributes\":{},\"id\":\"4449\",\"type\":\"BasicTickFormatter\"},{\"attributes\":{},\"id\":\"4554\",\"type\":\"Selection\"},{\"attributes\":{},\"id\":\"4451\",\"type\":\"BasicTickFormatter\"},{\"attributes\":{},\"id\":\"4557\",\"type\":\"BasicTickFormatter\"},{\"attributes\":{},\"id\":\"4454\",\"type\":\"UnionRenderers\"},{\"attributes\":{},\"id\":\"4559\",\"type\":\"BasicTickFormatter\"},{\"attributes\":{},\"id\":\"4455\",\"type\":\"Selection\"},{\"attributes\":{},\"id\":\"4562\",\"type\":\"UnionRenderers\"},{\"attributes\":{},\"id\":\"4458\",\"type\":\"BasicTickFormatter\"},{\"attributes\":{},\"id\":\"3659\",\"type\":\"HelpTool\"},{\"attributes\":{},\"id\":\"4563\",\"type\":\"Selection\"},{\"attributes\":{},\"id\":\"4460\",\"type\":\"BasicTickFormatter\"},{\"attributes\":{},\"id\":\"4566\",\"type\":\"BasicTickFormatter\"},{\"attributes\":{},\"id\":\"4463\",\"type\":\"UnionRenderers\"},{\"attributes\":{},\"id\":\"4568\",\"type\":\"BasicTickFormatter\"},{\"attributes\":{},\"id\":\"4490\",\"type\":\"UnionRenderers\"},{\"attributes\":{},\"id\":\"4571\",\"type\":\"UnionRenderers\"},{\"attributes\":{},\"id\":\"4491\",\"type\":\"Selection\"},{\"attributes\":{},\"id\":\"4572\",\"type\":\"Selection\"},{\"attributes\":{},\"id\":\"4494\",\"type\":\"BasicTickFormatter\"},{\"attributes\":{},\"id\":\"4575\",\"type\":\"BasicTickFormatter\"},{\"attributes\":{},\"id\":\"4496\",\"type\":\"BasicTickFormatter\"},{\"attributes\":{},\"id\":\"4577\",\"type\":\"BasicTickFormatter\"},{\"attributes\":{},\"id\":\"4499\",\"type\":\"UnionRenderers\"},{\"attributes\":{},\"id\":\"4580\",\"type\":\"UnionRenderers\"},{\"attributes\":{},\"id\":\"4500\",\"type\":\"Selection\"},{\"attributes\":{},\"id\":\"4581\",\"type\":\"Selection\"},{\"attributes\":{},\"id\":\"4503\",\"type\":\"BasicTickFormatter\"},{\"attributes\":{},\"id\":\"4584\",\"type\":\"BasicTickFormatter\"},{\"attributes\":{},\"id\":\"4505\",\"type\":\"BasicTickFormatter\"},{\"attributes\":{},\"id\":\"4586\",\"type\":\"BasicTickFormatter\"},{\"attributes\":{},\"id\":\"4508\",\"type\":\"UnionRenderers\"},{\"attributes\":{},\"id\":\"4589\",\"type\":\"UnionRenderers\"},{\"attributes\":{},\"id\":\"4509\",\"type\":\"Selection\"},{\"attributes\":{},\"id\":\"4590\",\"type\":\"Selection\"},{\"attributes\":{},\"id\":\"4512\",\"type\":\"BasicTickFormatter\"},{\"attributes\":{},\"id\":\"4593\",\"type\":\"BasicTickFormatter\"},{\"attributes\":{},\"id\":\"4514\",\"type\":\"BasicTickFormatter\"},{\"attributes\":{},\"id\":\"4595\",\"type\":\"BasicTickFormatter\"},{\"attributes\":{},\"id\":\"3658\",\"type\":\"ResetTool\"},{\"attributes\":{},\"id\":\"4517\",\"type\":\"UnionRenderers\"},{\"attributes\":{},\"id\":\"4598\",\"type\":\"UnionRenderers\"},{\"attributes\":{},\"id\":\"4518\",\"type\":\"Selection\"},{\"attributes\":{},\"id\":\"4599\",\"type\":\"Selection\"},{\"attributes\":{},\"id\":\"4521\",\"type\":\"BasicTickFormatter\"},{\"attributes\":{},\"id\":\"4602\",\"type\":\"BasicTickFormatter\"},{\"attributes\":{},\"id\":\"4523\",\"type\":\"BasicTickFormatter\"},{\"attributes\":{},\"id\":\"4604\",\"type\":\"BasicTickFormatter\"},{\"attributes\":{},\"id\":\"4526\",\"type\":\"UnionRenderers\"},{\"attributes\":{},\"id\":\"4607\",\"type\":\"UnionRenderers\"},{\"attributes\":{},\"id\":\"4527\",\"type\":\"Selection\"},{\"attributes\":{},\"id\":\"4608\",\"type\":\"Selection\"},{\"attributes\":{},\"id\":\"4530\",\"type\":\"BasicTickFormatter\"},{\"attributes\":{},\"id\":\"4611\",\"type\":\"BasicTickFormatter\"},{\"attributes\":{},\"id\":\"4532\",\"type\":\"BasicTickFormatter\"},{\"attributes\":{},\"id\":\"4613\",\"type\":\"BasicTickFormatter\"},{\"attributes\":{\"text\":\"\"},\"id\":\"3402\",\"type\":\"Title\"},{\"attributes\":{\"end\":5},\"id\":\"2702\",\"type\":\"Range1d\"},{\"attributes\":{},\"id\":\"3135\",\"type\":\"LinearScale\"},{\"attributes\":{},\"id\":\"2800\",\"type\":\"ResetTool\"},{\"attributes\":{},\"id\":\"3073\",\"type\":\"ResetTool\"},{\"attributes\":{\"end\":5},\"id\":\"3404\",\"type\":\"Range1d\"},{\"attributes\":{\"end\":3},\"id\":\"2704\",\"type\":\"Range1d\"},{\"attributes\":{},\"id\":\"3137\",\"type\":\"LinearScale\"},{\"attributes\":{\"end\":5},\"id\":\"3209\",\"type\":\"Range1d\"},{\"attributes\":{},\"id\":\"3074\",\"type\":\"HelpTool\"},{\"attributes\":{},\"id\":\"2801\",\"type\":\"HelpTool\"},{\"attributes\":{\"background_fill_color\":null,\"below\":[{\"id\":\"2944\"}],\"border_fill_color\":null,\"center\":[{\"id\":\"2947\"},{\"id\":\"2951\"}],\"left\":[{\"id\":\"2948\"}],\"outline_line_color\":null,\"plot_height\":90,\"plot_width\":150,\"renderers\":[{\"id\":\"2970\"}],\"title\":{\"id\":\"2934\"},\"toolbar\":{\"id\":\"2959\"},\"toolbar_location\":null,\"x_range\":{\"id\":\"2936\"},\"x_scale\":{\"id\":\"2940\"},\"y_range\":{\"id\":\"2938\"},\"y_scale\":{\"id\":\"2942\"}},\"id\":\"2933\",\"subtype\":\"Figure\",\"type\":\"Plot\"},{\"attributes\":{\"end\":3},\"id\":\"3406\",\"type\":\"Range1d\"},{\"attributes\":{},\"id\":\"2706\",\"type\":\"LinearScale\"},{\"attributes\":{\"formatter\":{\"id\":\"4566\"},\"ticker\":{\"id\":\"3140\"},\"visible\":false},\"id\":\"3139\",\"type\":\"LinearAxis\"},{\"attributes\":{\"active_drag\":\"auto\",\"active_inspect\":\"auto\",\"active_multi\":null,\"active_scroll\":\"auto\",\"active_tap\":\"auto\",\"logo\":null,\"tools\":[{\"id\":\"2796\"},{\"id\":\"2797\"},{\"id\":\"2798\"},{\"id\":\"2799\"},{\"id\":\"2800\"},{\"id\":\"2801\"}]},\"id\":\"2803\",\"type\":\"Toolbar\"},{\"attributes\":{\"text\":\"\"},\"id\":\"3207\",\"type\":\"Title\"},{\"attributes\":{},\"id\":\"3408\",\"type\":\"LinearScale\"},{\"attributes\":{\"active_drag\":\"auto\",\"active_inspect\":\"auto\",\"active_multi\":null,\"active_scroll\":\"auto\",\"active_tap\":\"auto\",\"logo\":null,\"tools\":[{\"id\":\"3069\"},{\"id\":\"3070\"},{\"id\":\"3071\"},{\"id\":\"3072\"},{\"id\":\"3073\"},{\"id\":\"3074\"}]},\"id\":\"3076\",\"type\":\"Toolbar\"},{\"attributes\":{},\"id\":\"2708\",\"type\":\"LinearScale\"},{\"attributes\":{},\"id\":\"3140\",\"type\":\"BasicTicker\"},{\"attributes\":{},\"id\":\"2754\",\"type\":\"BasicTicker\"},{\"attributes\":{},\"id\":\"3186\",\"type\":\"PanTool\"},{\"attributes\":{\"background_fill_color\":null,\"below\":[{\"id\":\"3217\"}],\"border_fill_color\":null,\"center\":[{\"id\":\"3220\"},{\"id\":\"3224\"}],\"left\":[{\"id\":\"3221\"}],\"outline_line_color\":null,\"plot_height\":90,\"plot_width\":150,\"renderers\":[{\"id\":\"3243\"}],\"title\":{\"id\":\"3207\"},\"toolbar\":{\"id\":\"3232\"},\"toolbar_location\":null,\"x_range\":{\"id\":\"3209\"},\"x_scale\":{\"id\":\"3213\"},\"y_range\":{\"id\":\"3211\"},\"y_scale\":{\"id\":\"3215\"}},\"id\":\"3206\",\"subtype\":\"Figure\",\"type\":\"Plot\"},{\"attributes\":{},\"id\":\"3410\",\"type\":\"LinearScale\"},{\"attributes\":{\"formatter\":{\"id\":\"4512\"},\"ticker\":{\"id\":\"2711\"},\"visible\":false},\"id\":\"2710\",\"type\":\"LinearAxis\"},{\"attributes\":{\"axis\":{\"id\":\"3139\"},\"grid_line_color\":null,\"ticker\":null},\"id\":\"3142\",\"type\":\"Grid\"},{\"attributes\":{\"data_source\":{\"id\":\"3201\"},\"glyph\":{\"id\":\"3202\"},\"hover_glyph\":null,\"muted_glyph\":null,\"nonselection_glyph\":{\"id\":\"3203\"},\"selection_glyph\":null,\"view\":{\"id\":\"3205\"}},\"id\":\"3204\",\"type\":\"GlyphRenderer\"},{\"attributes\":{\"active_drag\":\"auto\",\"active_inspect\":\"auto\",\"active_multi\":null,\"active_scroll\":\"auto\",\"active_tap\":\"auto\",\"logo\":null,\"tools\":[{\"id\":\"2835\"},{\"id\":\"2836\"},{\"id\":\"2837\"},{\"id\":\"2838\"},{\"id\":\"2839\"},{\"id\":\"2840\"}]},\"id\":\"2842\",\"type\":\"Toolbar\"},{\"attributes\":{},\"id\":\"3187\",\"type\":\"WheelZoomTool\"},{\"attributes\":{\"formatter\":{\"id\":\"4440\"},\"ticker\":{\"id\":\"3413\"},\"visible\":false},\"id\":\"3412\",\"type\":\"LinearAxis\"},{\"attributes\":{\"formatter\":{\"id\":\"4568\"},\"ticker\":{\"id\":\"3144\"},\"visible\":false},\"id\":\"3143\",\"type\":\"LinearAxis\"},{\"attributes\":{},\"id\":\"2711\",\"type\":\"BasicTicker\"},{\"attributes\":{\"overlay\":{\"id\":\"3192\"}},\"id\":\"3188\",\"type\":\"BoxZoomTool\"},{\"attributes\":{\"active_drag\":\"auto\",\"active_inspect\":\"auto\",\"active_multi\":null,\"active_scroll\":\"auto\",\"active_tap\":\"auto\",\"logo\":null,\"tools\":[{\"id\":\"3108\"},{\"id\":\"3109\"},{\"id\":\"3110\"},{\"id\":\"3111\"},{\"id\":\"3112\"},{\"id\":\"3113\"}]},\"id\":\"3115\",\"type\":\"Toolbar\"},{\"attributes\":{\"data_source\":{\"id\":\"2928\"},\"glyph\":{\"id\":\"2929\"},\"hover_glyph\":null,\"muted_glyph\":null,\"nonselection_glyph\":{\"id\":\"2930\"},\"selection_glyph\":null,\"view\":{\"id\":\"2932\"}},\"id\":\"2931\",\"type\":\"GlyphRenderer\"},{\"attributes\":{\"data\":{\"bottom\":[0,0,0,0,0,1,1,1,1,1,2,2,2,2,2],\"fill_color\":[\"white\",\"white\",\"white\",\"white\",\"white\",\"white\",\"black\",\"black\",\"white\",\"white\",\"white\",\"white\",\"black\",\"white\",\"white\"],\"left\":[0,1,2,3,4,0,1,2,3,4,0,1,2,3,4],\"right\":[1,2,3,4,5,1,2,3,4,5,1,2,3,4,5],\"top\":[1,1,1,1,1,2,2,2,2,2,3,3,3,3,3]},\"selected\":{\"id\":\"4761\"},\"selection_policy\":{\"id\":\"4760\"}},\"id\":\"2967\",\"type\":\"ColumnDataSource\"},{\"attributes\":{\"axis\":{\"id\":\"2710\"},\"grid_line_color\":null,\"ticker\":null},\"id\":\"2713\",\"type\":\"Grid\"},{\"attributes\":{},\"id\":\"3413\",\"type\":\"BasicTicker\"},{\"attributes\":{},\"id\":\"3144\",\"type\":\"BasicTicker\"},{\"attributes\":{},\"id\":\"3189\",\"type\":\"SaveTool\"},{\"attributes\":{\"bottom_units\":\"screen\",\"fill_alpha\":0.5,\"fill_color\":\"lightgrey\",\"left_units\":\"screen\",\"level\":\"overlay\",\"line_alpha\":1.0,\"line_color\":\"black\",\"line_dash\":[4,4],\"line_width\":2,\"right_units\":\"screen\",\"top_units\":\"screen\"},\"id\":\"3075\",\"type\":\"BoxAnnotation\"},{\"attributes\":{\"bottom_units\":\"screen\",\"fill_alpha\":0.5,\"fill_color\":\"lightgrey\",\"left_units\":\"screen\",\"level\":\"overlay\",\"line_alpha\":1.0,\"line_color\":\"black\",\"line_dash\":[4,4],\"line_width\":2,\"right_units\":\"screen\",\"top_units\":\"screen\"},\"id\":\"2802\",\"type\":\"BoxAnnotation\"},{\"attributes\":{\"axis\":{\"id\":\"3412\"},\"grid_line_color\":null,\"ticker\":null},\"id\":\"3415\",\"type\":\"Grid\"},{\"attributes\":{\"formatter\":{\"id\":\"4514\"},\"ticker\":{\"id\":\"2715\"},\"visible\":false},\"id\":\"2714\",\"type\":\"LinearAxis\"},{\"attributes\":{\"axis\":{\"id\":\"3143\"},\"dimension\":1,\"grid_line_color\":null,\"ticker\":null},\"id\":\"3146\",\"type\":\"Grid\"},{\"attributes\":{},\"id\":\"3190\",\"type\":\"ResetTool\"},{\"attributes\":{\"data_source\":{\"id\":\"3084\"},\"glyph\":{\"id\":\"3085\"},\"hover_glyph\":null,\"muted_glyph\":null,\"nonselection_glyph\":{\"id\":\"3086\"},\"selection_glyph\":null,\"view\":{\"id\":\"3088\"}},\"id\":\"3087\",\"type\":\"GlyphRenderer\"},{\"attributes\":{\"background_fill_color\":null,\"below\":[{\"id\":\"3100\"}],\"border_fill_color\":null,\"center\":[{\"id\":\"3103\"},{\"id\":\"3107\"}],\"left\":[{\"id\":\"3104\"}],\"outline_line_color\":null,\"plot_height\":90,\"plot_width\":150,\"renderers\":[{\"id\":\"3126\"}],\"title\":{\"id\":\"3090\"},\"toolbar\":{\"id\":\"3115\"},\"toolbar_location\":null,\"x_range\":{\"id\":\"3092\"},\"x_scale\":{\"id\":\"3096\"},\"y_range\":{\"id\":\"3094\"},\"y_scale\":{\"id\":\"3098\"}},\"id\":\"3089\",\"subtype\":\"Figure\",\"type\":\"Plot\"},{\"attributes\":{\"background_fill_color\":null,\"below\":[{\"id\":\"2827\"}],\"border_fill_color\":null,\"center\":[{\"id\":\"2830\"},{\"id\":\"2834\"}],\"left\":[{\"id\":\"2831\"}],\"outline_line_color\":null,\"plot_height\":90,\"plot_width\":150,\"renderers\":[{\"id\":\"2853\"}],\"title\":{\"id\":\"2817\"},\"toolbar\":{\"id\":\"2842\"},\"toolbar_location\":null,\"x_range\":{\"id\":\"2819\"},\"x_scale\":{\"id\":\"2823\"},\"y_range\":{\"id\":\"2821\"},\"y_scale\":{\"id\":\"2825\"}},\"id\":\"2816\",\"subtype\":\"Figure\",\"type\":\"Plot\"},{\"attributes\":{\"formatter\":{\"id\":\"4442\"},\"ticker\":{\"id\":\"3417\"},\"visible\":false},\"id\":\"3416\",\"type\":\"LinearAxis\"},{\"attributes\":{},\"id\":\"2715\",\"type\":\"BasicTicker\"},{\"attributes\":{\"data_source\":{\"id\":\"3162\"},\"glyph\":{\"id\":\"3163\"},\"hover_glyph\":null,\"muted_glyph\":null,\"nonselection_glyph\":{\"id\":\"3164\"},\"selection_glyph\":null,\"view\":{\"id\":\"3166\"}},\"id\":\"3165\",\"type\":\"GlyphRenderer\"},{\"attributes\":{\"bottom\":{\"field\":\"bottom\"},\"fill_alpha\":{\"value\":0.1},\"fill_color\":{\"field\":\"fill_color\"},\"left\":{\"field\":\"left\"},\"line_alpha\":{\"value\":0.1},\"line_color\":{\"value\":\"gray\"},\"line_width\":{\"value\":2},\"right\":{\"field\":\"right\"},\"top\":{\"field\":\"top\"}},\"id\":\"3164\",\"type\":\"Quad\"},{\"attributes\":{},\"id\":\"3191\",\"type\":\"HelpTool\"},{\"attributes\":{\"axis\":{\"id\":\"2714\"},\"dimension\":1,\"grid_line_color\":null,\"ticker\":null},\"id\":\"2717\",\"type\":\"Grid\"},{\"attributes\":{\"data_source\":{\"id\":\"2811\"},\"glyph\":{\"id\":\"2812\"},\"hover_glyph\":null,\"muted_glyph\":null,\"nonselection_glyph\":{\"id\":\"2813\"},\"selection_glyph\":null,\"view\":{\"id\":\"2815\"}},\"id\":\"2814\",\"type\":\"GlyphRenderer\"},{\"attributes\":{},\"id\":\"3417\",\"type\":\"BasicTicker\"},{\"attributes\":{\"source\":{\"id\":\"3084\"}},\"id\":\"3088\",\"type\":\"CDSView\"},{\"attributes\":{\"end\":3},\"id\":\"3211\",\"type\":\"Range1d\"},{\"attributes\":{\"source\":{\"id\":\"2811\"}},\"id\":\"2815\",\"type\":\"CDSView\"},{\"attributes\":{},\"id\":\"3577\",\"type\":\"WheelZoomTool\"},{\"attributes\":{\"axis\":{\"id\":\"3416\"},\"dimension\":1,\"grid_line_color\":null,\"ticker\":null},\"id\":\"3419\",\"type\":\"Grid\"},{\"attributes\":{\"bottom\":{\"field\":\"bottom\"},\"fill_color\":{\"field\":\"fill_color\"},\"left\":{\"field\":\"left\"},\"line_color\":{\"value\":\"gray\"},\"line_width\":{\"value\":2},\"right\":{\"field\":\"right\"},\"top\":{\"field\":\"top\"}},\"id\":\"3202\",\"type\":\"Quad\"},{\"attributes\":{\"bottom\":{\"field\":\"bottom\"},\"fill_alpha\":{\"value\":0.1},\"fill_color\":{\"field\":\"fill_color\"},\"left\":{\"field\":\"left\"},\"line_alpha\":{\"value\":0.1},\"line_color\":{\"value\":\"gray\"},\"line_width\":{\"value\":2},\"right\":{\"field\":\"right\"},\"top\":{\"field\":\"top\"}},\"id\":\"2735\",\"type\":\"Quad\"},{\"attributes\":{},\"id\":\"3147\",\"type\":\"PanTool\"},{\"attributes\":{\"bottom\":{\"field\":\"bottom\"},\"fill_alpha\":{\"value\":0.1},\"fill_color\":{\"field\":\"fill_color\"},\"left\":{\"field\":\"left\"},\"line_alpha\":{\"value\":0.1},\"line_color\":{\"value\":\"gray\"},\"line_width\":{\"value\":2},\"right\":{\"field\":\"right\"},\"top\":{\"field\":\"top\"}},\"id\":\"2852\",\"type\":\"Quad\"},{\"attributes\":{\"data_source\":{\"id\":\"2733\"},\"glyph\":{\"id\":\"2734\"},\"hover_glyph\":null,\"muted_glyph\":null,\"nonselection_glyph\":{\"id\":\"2735\"},\"selection_glyph\":null,\"view\":{\"id\":\"2737\"}},\"id\":\"2736\",\"type\":\"GlyphRenderer\"},{\"attributes\":{\"text\":\"\"},\"id\":\"2817\",\"type\":\"Title\"},{\"attributes\":{\"bottom\":{\"field\":\"bottom\"},\"fill_alpha\":{\"value\":0.1},\"fill_color\":{\"field\":\"fill_color\"},\"left\":{\"field\":\"left\"},\"line_alpha\":{\"value\":0.1},\"line_color\":{\"value\":\"gray\"},\"line_width\":{\"value\":2},\"right\":{\"field\":\"right\"},\"top\":{\"field\":\"top\"}},\"id\":\"3437\",\"type\":\"Quad\"},{\"attributes\":{\"bottom\":{\"field\":\"bottom\"},\"fill_alpha\":{\"value\":0.1},\"fill_color\":{\"field\":\"fill_color\"},\"left\":{\"field\":\"left\"},\"line_alpha\":{\"value\":0.1},\"line_color\":{\"value\":\"gray\"},\"line_width\":{\"value\":2},\"right\":{\"field\":\"right\"},\"top\":{\"field\":\"top\"}},\"id\":\"3125\",\"type\":\"Quad\"},{\"attributes\":{\"data_source\":{\"id\":\"3435\"},\"glyph\":{\"id\":\"3436\"},\"hover_glyph\":null,\"muted_glyph\":null,\"nonselection_glyph\":{\"id\":\"3437\"},\"selection_glyph\":null,\"view\":{\"id\":\"3439\"}},\"id\":\"3438\",\"type\":\"GlyphRenderer\"},{\"attributes\":{\"text\":\"\"},\"id\":\"3090\",\"type\":\"Title\"},{\"attributes\":{},\"id\":\"3148\",\"type\":\"WheelZoomTool\"},{\"attributes\":{\"end\":5},\"id\":\"2819\",\"type\":\"Range1d\"},{\"attributes\":{\"data\":{\"bottom\":[0,0,0,0,0,1,1,1,1,1,2,2,2,2,2],\"fill_color\":[\"white\",\"white\",\"white\",\"white\",\"white\",\"white\",\"white\",\"white\",\"white\",\"white\",\"white\",\"black\",\"black\",\"black\",\"white\"],\"left\":[0,1,2,3,4,0,1,2,3,4,0,1,2,3,4],\"right\":[1,2,3,4,5,1,2,3,4,5,1,2,3,4,5],\"top\":[1,1,1,1,1,2,2,2,2,2,3,3,3,3,3]},\"selected\":{\"id\":\"4626\"},\"selection_policy\":{\"id\":\"4625\"}},\"id\":\"3591\",\"type\":\"ColumnDataSource\"},{\"attributes\":{\"end\":5},\"id\":\"3092\",\"type\":\"Range1d\"},{\"attributes\":{},\"id\":\"2718\",\"type\":\"PanTool\"},{\"attributes\":{\"overlay\":{\"id\":\"3153\"}},\"id\":\"3149\",\"type\":\"BoxZoomTool\"},{\"attributes\":{\"end\":3},\"id\":\"2821\",\"type\":\"Range1d\"},{\"attributes\":{\"bottom\":{\"field\":\"bottom\"},\"fill_color\":{\"field\":\"fill_color\"},\"left\":{\"field\":\"left\"},\"line_color\":{\"value\":\"gray\"},\"line_width\":{\"value\":2},\"right\":{\"field\":\"right\"},\"top\":{\"field\":\"top\"}},\"id\":\"3475\",\"type\":\"Quad\"},{\"attributes\":{\"end\":3},\"id\":\"3094\",\"type\":\"Range1d\"},{\"attributes\":{},\"id\":\"3420\",\"type\":\"PanTool\"},{\"attributes\":{},\"id\":\"2719\",\"type\":\"WheelZoomTool\"},{\"attributes\":{},\"id\":\"2823\",\"type\":\"LinearScale\"},{\"attributes\":{},\"id\":\"3150\",\"type\":\"SaveTool\"},{\"attributes\":{},\"id\":\"3096\",\"type\":\"LinearScale\"},{\"attributes\":{},\"id\":\"3421\",\"type\":\"WheelZoomTool\"},{\"attributes\":{\"overlay\":{\"id\":\"2724\"}},\"id\":\"2720\",\"type\":\"BoxZoomTool\"},{\"attributes\":{},\"id\":\"2825\",\"type\":\"LinearScale\"},{\"attributes\":{},\"id\":\"3151\",\"type\":\"ResetTool\"},{\"attributes\":{},\"id\":\"3098\",\"type\":\"LinearScale\"},{\"attributes\":{\"overlay\":{\"id\":\"3426\"}},\"id\":\"3422\",\"type\":\"BoxZoomTool\"},{\"attributes\":{},\"id\":\"2721\",\"type\":\"SaveTool\"},{\"attributes\":{\"formatter\":{\"id\":\"4647\"},\"ticker\":{\"id\":\"2828\"},\"visible\":false},\"id\":\"2827\",\"type\":\"LinearAxis\"},{\"attributes\":{},\"id\":\"3152\",\"type\":\"HelpTool\"},{\"attributes\":{},\"id\":\"3576\",\"type\":\"PanTool\"},{\"attributes\":{\"formatter\":{\"id\":\"4521\"},\"ticker\":{\"id\":\"3101\"},\"visible\":false},\"id\":\"3100\",\"type\":\"LinearAxis\"},{\"attributes\":{},\"id\":\"3423\",\"type\":\"SaveTool\"},{\"attributes\":{},\"id\":\"2722\",\"type\":\"ResetTool\"},{\"attributes\":{\"active_drag\":\"auto\",\"active_inspect\":\"auto\",\"active_multi\":null,\"active_scroll\":\"auto\",\"active_tap\":\"auto\",\"logo\":null,\"tools\":[{\"id\":\"3147\"},{\"id\":\"3148\"},{\"id\":\"3149\"},{\"id\":\"3150\"},{\"id\":\"3151\"},{\"id\":\"3152\"}]},\"id\":\"3154\",\"type\":\"Toolbar\"},{\"attributes\":{\"bottom\":{\"field\":\"bottom\"},\"fill_color\":{\"field\":\"fill_color\"},\"left\":{\"field\":\"left\"},\"line_color\":{\"value\":\"gray\"},\"line_width\":{\"value\":2},\"right\":{\"field\":\"right\"},\"top\":{\"field\":\"top\"}},\"id\":\"3592\",\"type\":\"Quad\"},{\"attributes\":{},\"id\":\"2828\",\"type\":\"BasicTicker\"},{\"attributes\":{},\"id\":\"3424\",\"type\":\"ResetTool\"},{\"attributes\":{},\"id\":\"2723\",\"type\":\"HelpTool\"},{\"attributes\":{},\"id\":\"3101\",\"type\":\"BasicTicker\"},{\"attributes\":{\"axis\":{\"id\":\"2827\"},\"grid_line_color\":null,\"ticker\":null},\"id\":\"2830\",\"type\":\"Grid\"},{\"attributes\":{\"bottom_units\":\"screen\",\"fill_alpha\":0.5,\"fill_color\":\"lightgrey\",\"left_units\":\"screen\",\"level\":\"overlay\",\"line_alpha\":1.0,\"line_color\":\"black\",\"line_dash\":[4,4],\"line_width\":2,\"right_units\":\"screen\",\"top_units\":\"screen\"},\"id\":\"3192\",\"type\":\"BoxAnnotation\"},{\"attributes\":{\"axis\":{\"id\":\"3100\"},\"grid_line_color\":null,\"ticker\":null},\"id\":\"3103\",\"type\":\"Grid\"},{\"attributes\":{},\"id\":\"3213\",\"type\":\"LinearScale\"},{\"attributes\":{},\"id\":\"3425\",\"type\":\"HelpTool\"},{\"attributes\":{\"active_drag\":\"auto\",\"active_inspect\":\"auto\",\"active_multi\":null,\"active_scroll\":\"auto\",\"active_tap\":\"auto\",\"logo\":null,\"tools\":[{\"id\":\"2718\"},{\"id\":\"2719\"},{\"id\":\"2720\"},{\"id\":\"2721\"},{\"id\":\"2722\"},{\"id\":\"2723\"}]},\"id\":\"2725\",\"type\":\"Toolbar\"},{\"attributes\":{\"active_drag\":\"auto\",\"active_inspect\":\"auto\",\"active_multi\":null,\"active_scroll\":\"auto\",\"active_tap\":\"auto\",\"logo\":null,\"tools\":[{\"id\":\"3186\"},{\"id\":\"3187\"},{\"id\":\"3188\"},{\"id\":\"3189\"},{\"id\":\"3190\"},{\"id\":\"3191\"}]},\"id\":\"3193\",\"type\":\"Toolbar\"},{\"attributes\":{\"formatter\":{\"id\":\"4649\"},\"ticker\":{\"id\":\"2832\"},\"visible\":false},\"id\":\"2831\",\"type\":\"LinearAxis\"},{\"attributes\":{\"formatter\":{\"id\":\"4523\"},\"ticker\":{\"id\":\"3105\"},\"visible\":false},\"id\":\"3104\",\"type\":\"LinearAxis\"},{\"attributes\":{},\"id\":\"3215\",\"type\":\"LinearScale\"},{\"attributes\":{\"active_drag\":\"auto\",\"active_inspect\":\"auto\",\"active_multi\":null,\"active_scroll\":\"auto\",\"active_tap\":\"auto\",\"logo\":null,\"tools\":[{\"id\":\"3420\"},{\"id\":\"3421\"},{\"id\":\"3422\"},{\"id\":\"3423\"},{\"id\":\"3424\"},{\"id\":\"3425\"}]},\"id\":\"3427\",\"type\":\"Toolbar\"},{\"attributes\":{\"bottom\":{\"field\":\"bottom\"},\"fill_alpha\":{\"value\":0.1},\"fill_color\":{\"field\":\"fill_color\"},\"left\":{\"field\":\"left\"},\"line_alpha\":{\"value\":0.1},\"line_color\":{\"value\":\"gray\"},\"line_width\":{\"value\":2},\"right\":{\"field\":\"right\"},\"top\":{\"field\":\"top\"}},\"id\":\"3203\",\"type\":\"Quad\"},{\"attributes\":{},\"id\":\"2832\",\"type\":\"BasicTicker\"},{\"attributes\":{\"formatter\":{\"id\":\"4656\"},\"ticker\":{\"id\":\"3218\"},\"visible\":false},\"id\":\"3217\",\"type\":\"LinearAxis\"},{\"attributes\":{},\"id\":\"3105\",\"type\":\"BasicTicker\"},{\"attributes\":{\"bottom_units\":\"screen\",\"fill_alpha\":0.5,\"fill_color\":\"lightgrey\",\"left_units\":\"screen\",\"level\":\"overlay\",\"line_alpha\":1.0,\"line_color\":\"black\",\"line_dash\":[4,4],\"line_width\":2,\"right_units\":\"screen\",\"top_units\":\"screen\"},\"id\":\"3153\",\"type\":\"BoxAnnotation\"},{\"attributes\":{\"axis\":{\"id\":\"2831\"},\"dimension\":1,\"grid_line_color\":null,\"ticker\":null},\"id\":\"2834\",\"type\":\"Grid\"},{\"attributes\":{\"axis\":{\"id\":\"3104\"},\"dimension\":1,\"grid_line_color\":null,\"ticker\":null},\"id\":\"3107\",\"type\":\"Grid\"},{\"attributes\":{},\"id\":\"2747\",\"type\":\"LinearScale\"},{\"attributes\":{},\"id\":\"3218\",\"type\":\"BasicTicker\"},{\"attributes\":{\"active_drag\":\"auto\",\"active_inspect\":\"auto\",\"active_multi\":null,\"active_scroll\":\"auto\",\"active_tap\":\"auto\",\"logo\":null,\"tools\":[{\"id\":\"3459\"},{\"id\":\"3460\"},{\"id\":\"3461\"},{\"id\":\"3462\"},{\"id\":\"3463\"},{\"id\":\"3464\"}]},\"id\":\"3466\",\"type\":\"Toolbar\"},{\"attributes\":{\"data_source\":{\"id\":\"2850\"},\"glyph\":{\"id\":\"2851\"},\"hover_glyph\":null,\"muted_glyph\":null,\"nonselection_glyph\":{\"id\":\"2852\"},\"selection_glyph\":null,\"view\":{\"id\":\"2854\"}},\"id\":\"2853\",\"type\":\"GlyphRenderer\"},{\"attributes\":{\"data_source\":{\"id\":\"3123\"},\"glyph\":{\"id\":\"3124\"},\"hover_glyph\":null,\"muted_glyph\":null,\"nonselection_glyph\":{\"id\":\"3125\"},\"selection_glyph\":null,\"view\":{\"id\":\"3127\"}},\"id\":\"3126\",\"type\":\"GlyphRenderer\"},{\"attributes\":{\"axis\":{\"id\":\"3217\"},\"grid_line_color\":null,\"ticker\":null},\"id\":\"3220\",\"type\":\"Grid\"},{\"attributes\":{\"bottom\":{\"field\":\"bottom\"},\"fill_color\":{\"field\":\"fill_color\"},\"left\":{\"field\":\"left\"},\"line_color\":{\"value\":\"gray\"},\"line_width\":{\"value\":2},\"right\":{\"field\":\"right\"},\"top\":{\"field\":\"top\"}},\"id\":\"3163\",\"type\":\"Quad\"},{\"attributes\":{\"background_fill_color\":null,\"below\":[{\"id\":\"3178\"}],\"border_fill_color\":null,\"center\":[{\"id\":\"3181\"},{\"id\":\"3185\"}],\"left\":[{\"id\":\"3182\"}],\"outline_line_color\":null,\"plot_height\":90,\"plot_width\":150,\"renderers\":[{\"id\":\"3204\"}],\"title\":{\"id\":\"3168\"},\"toolbar\":{\"id\":\"3193\"},\"toolbar_location\":null,\"x_range\":{\"id\":\"3170\"},\"x_scale\":{\"id\":\"3174\"},\"y_range\":{\"id\":\"3172\"},\"y_scale\":{\"id\":\"3176\"}},\"id\":\"3167\",\"subtype\":\"Figure\",\"type\":\"Plot\"},{\"attributes\":{\"bottom\":{\"field\":\"bottom\"},\"fill_alpha\":{\"value\":0.1},\"fill_color\":{\"field\":\"fill_color\"},\"left\":{\"field\":\"left\"},\"line_alpha\":{\"value\":0.1},\"line_color\":{\"value\":\"gray\"},\"line_width\":{\"value\":2},\"right\":{\"field\":\"right\"},\"top\":{\"field\":\"top\"}},\"id\":\"3476\",\"type\":\"Quad\"},{\"attributes\":{\"formatter\":{\"id\":\"4658\"},\"ticker\":{\"id\":\"3222\"},\"visible\":false},\"id\":\"3221\",\"type\":\"LinearAxis\"},{\"attributes\":{\"source\":{\"id\":\"3162\"}},\"id\":\"3166\",\"type\":\"CDSView\"},{\"attributes\":{\"data\":{\"bottom\":[0,0,0,0,0,1,1,1,1,1,2,2,2,2,2],\"fill_color\":[\"white\",\"white\",\"white\",\"black\",\"white\",\"white\",\"white\",\"black\",\"black\",\"white\",\"white\",\"white\",\"white\",\"white\",\"white\"],\"left\":[0,1,2,3,4,0,1,2,3,4,0,1,2,3,4],\"right\":[1,2,3,4,5,1,2,3,4,5,1,2,3,4,5],\"top\":[1,1,1,1,1,2,2,2,2,2,3,3,3,3,3]},\"selected\":{\"id\":\"4653\"},\"selection_policy\":{\"id\":\"4652\"}},\"id\":\"2850\",\"type\":\"ColumnDataSource\"},{\"attributes\":{\"data\":{\"bottom\":[0,0,0,0,0,1,1,1,1,1,2,2,2,2,2],\"fill_color\":[\"white\",\"black\",\"black\",\"white\",\"white\",\"white\",\"white\",\"black\",\"white\",\"white\",\"white\",\"white\",\"white\",\"white\",\"white\"],\"left\":[0,1,2,3,4,0,1,2,3,4,0,1,2,3,4],\"right\":[1,2,3,4,5,1,2,3,4,5,1,2,3,4,5],\"top\":[1,1,1,1,1,2,2,2,2,2,3,3,3,3,3]},\"selected\":{\"id\":\"4527\"},\"selection_policy\":{\"id\":\"4526\"}},\"id\":\"3123\",\"type\":\"ColumnDataSource\"},{\"attributes\":{\"source\":{\"id\":\"2928\"}},\"id\":\"2932\",\"type\":\"CDSView\"},{\"attributes\":{\"bottom_units\":\"screen\",\"fill_alpha\":0.5,\"fill_color\":\"lightgrey\",\"left_units\":\"screen\",\"level\":\"overlay\",\"line_alpha\":1.0,\"line_color\":\"black\",\"line_dash\":[4,4],\"line_width\":2,\"right_units\":\"screen\",\"top_units\":\"screen\"},\"id\":\"3426\",\"type\":\"BoxAnnotation\"},{\"attributes\":{\"source\":{\"id\":\"3201\"}},\"id\":\"3205\",\"type\":\"CDSView\"},{\"attributes\":{},\"id\":\"2835\",\"type\":\"PanTool\"},{\"attributes\":{},\"id\":\"3222\",\"type\":\"BasicTicker\"},{\"attributes\":{},\"id\":\"3108\",\"type\":\"PanTool\"},{\"attributes\":{\"data\":{\"bottom\":[0,0,0,0,0,1,1,1,1,1,2,2,2,2,2],\"fill_color\":[\"white\",\"white\",\"white\",\"black\",\"black\",\"white\",\"white\",\"white\",\"white\",\"black\",\"white\",\"white\",\"white\",\"white\",\"white\"],\"left\":[0,1,2,3,4,0,1,2,3,4,0,1,2,3,4],\"right\":[1,2,3,4,5,1,2,3,4,5,1,2,3,4,5],\"top\":[1,1,1,1,1,2,2,2,2,2,3,3,3,3,3]},\"selected\":{\"id\":\"4617\"},\"selection_policy\":{\"id\":\"4616\"}},\"id\":\"3201\",\"type\":\"ColumnDataSource\"},{\"attributes\":{\"text\":\"\"},\"id\":\"3168\",\"type\":\"Title\"},{\"attributes\":{\"axis\":{\"id\":\"3221\"},\"dimension\":1,\"grid_line_color\":null,\"ticker\":null},\"id\":\"3224\",\"type\":\"Grid\"},{\"attributes\":{\"bottom\":{\"field\":\"bottom\"},\"fill_color\":{\"field\":\"fill_color\"},\"left\":{\"field\":\"left\"},\"line_color\":{\"value\":\"gray\"},\"line_width\":{\"value\":2},\"right\":{\"field\":\"right\"},\"top\":{\"field\":\"top\"}},\"id\":\"3436\",\"type\":\"Quad\"},{\"attributes\":{\"background_fill_color\":null,\"below\":[{\"id\":\"3451\"}],\"border_fill_color\":null,\"center\":[{\"id\":\"3454\"},{\"id\":\"3458\"}],\"left\":[{\"id\":\"3455\"}],\"outline_line_color\":null,\"plot_height\":90,\"plot_width\":150,\"renderers\":[{\"id\":\"3477\"}],\"title\":{\"id\":\"3441\"},\"toolbar\":{\"id\":\"3466\"},\"toolbar_location\":null,\"x_range\":{\"id\":\"3443\"},\"x_scale\":{\"id\":\"3447\"},\"y_range\":{\"id\":\"3445\"},\"y_scale\":{\"id\":\"3449\"}},\"id\":\"3440\",\"subtype\":\"Figure\",\"type\":\"Plot\"},{\"attributes\":{},\"id\":\"3109\",\"type\":\"WheelZoomTool\"},{\"attributes\":{},\"id\":\"2836\",\"type\":\"WheelZoomTool\"},{\"attributes\":{\"end\":5},\"id\":\"3170\",\"type\":\"Range1d\"},{\"attributes\":{\"source\":{\"id\":\"3435\"}},\"id\":\"3439\",\"type\":\"CDSView\"},{\"attributes\":{\"bottom\":{\"field\":\"bottom\"},\"fill_alpha\":{\"value\":0.1},\"fill_color\":{\"field\":\"fill_color\"},\"left\":{\"field\":\"left\"},\"line_alpha\":{\"value\":0.1},\"line_color\":{\"value\":\"gray\"},\"line_width\":{\"value\":2},\"right\":{\"field\":\"right\"},\"top\":{\"field\":\"top\"}},\"id\":\"3242\",\"type\":\"Quad\"},{\"attributes\":{},\"id\":\"2745\",\"type\":\"LinearScale\"},{\"attributes\":{\"data\":{\"bottom\":[0,0,0,0,0,1,1,1,1,1,2,2,2,2,2],\"fill_color\":[\"white\",\"white\",\"white\",\"white\",\"white\",\"black\",\"white\",\"white\",\"white\",\"white\",\"black\",\"black\",\"white\",\"white\",\"white\"],\"left\":[0,1,2,3,4,0,1,2,3,4,0,1,2,3,4],\"right\":[1,2,3,4,5,1,2,3,4,5,1,2,3,4,5],\"top\":[1,1,1,1,1,2,2,2,2,2,3,3,3,3,3]},\"selected\":{\"id\":\"4662\"},\"selection_policy\":{\"id\":\"4661\"}},\"id\":\"3240\",\"type\":\"ColumnDataSource\"},{\"attributes\":{\"end\":3},\"id\":\"3172\",\"type\":\"Range1d\"},{\"attributes\":{\"bottom\":{\"field\":\"bottom\"},\"fill_color\":{\"field\":\"fill_color\"},\"left\":{\"field\":\"left\"},\"line_color\":{\"value\":\"gray\"},\"line_width\":{\"value\":2},\"right\":{\"field\":\"right\"},\"top\":{\"field\":\"top\"}},\"id\":\"3241\",\"type\":\"Quad\"},{\"attributes\":{\"bottom_units\":\"screen\",\"fill_alpha\":0.5,\"fill_color\":\"lightgrey\",\"left_units\":\"screen\",\"level\":\"overlay\",\"line_alpha\":1.0,\"line_color\":\"black\",\"line_dash\":[4,4],\"line_width\":2,\"right_units\":\"screen\",\"top_units\":\"screen\"},\"id\":\"2841\",\"type\":\"BoxAnnotation\"},{\"attributes\":{\"formatter\":{\"id\":\"4557\"},\"ticker\":{\"id\":\"2750\"},\"visible\":false},\"id\":\"2749\",\"type\":\"LinearAxis\"},{\"attributes\":{\"data\":{\"bottom\":[0,0,0,0,0,1,1,1,1,1,2,2,2,2,2],\"fill_color\":[\"white\",\"white\",\"black\",\"white\",\"white\",\"white\",\"white\",\"black\",\"black\",\"white\",\"white\",\"white\",\"white\",\"white\",\"white\"],\"left\":[0,1,2,3,4,0,1,2,3,4,0,1,2,3,4],\"right\":[1,2,3,4,5,1,2,3,4,5,1,2,3,4,5],\"top\":[1,1,1,1,1,2,2,2,2,2,3,3,3,3,3]},\"selected\":{\"id\":\"4491\"},\"selection_policy\":{\"id\":\"4490\"}},\"id\":\"3474\",\"type\":\"ColumnDataSource\"},{\"attributes\":{\"bottom_units\":\"screen\",\"fill_alpha\":0.5,\"fill_color\":\"lightgrey\",\"left_units\":\"screen\",\"level\":\"overlay\",\"line_alpha\":1.0,\"line_color\":\"black\",\"line_dash\":[4,4],\"line_width\":2,\"right_units\":\"screen\",\"top_units\":\"screen\"},\"id\":\"3114\",\"type\":\"BoxAnnotation\"},{\"attributes\":{\"text\":\"\"},\"id\":\"3441\",\"type\":\"Title\"},{\"attributes\":{},\"id\":\"3174\",\"type\":\"LinearScale\"},{\"attributes\":{\"axis\":{\"id\":\"3295\"},\"grid_line_color\":null,\"ticker\":null},\"id\":\"3298\",\"type\":\"Grid\"},{\"attributes\":{},\"id\":\"3225\",\"type\":\"PanTool\"},{\"attributes\":{\"bottom_units\":\"screen\",\"fill_alpha\":0.5,\"fill_color\":\"lightgrey\",\"left_units\":\"screen\",\"level\":\"overlay\",\"line_alpha\":1.0,\"line_color\":\"black\",\"line_dash\":[4,4],\"line_width\":2,\"right_units\":\"screen\",\"top_units\":\"screen\"},\"id\":\"2724\",\"type\":\"BoxAnnotation\"},{\"attributes\":{\"end\":5},\"id\":\"3443\",\"type\":\"Range1d\"},{\"attributes\":{},\"id\":\"3176\",\"type\":\"LinearScale\"},{\"attributes\":{\"bottom\":{\"field\":\"bottom\"},\"fill_color\":{\"field\":\"fill_color\"},\"left\":{\"field\":\"left\"},\"line_color\":{\"value\":\"gray\"},\"line_width\":{\"value\":2},\"right\":{\"field\":\"right\"},\"top\":{\"field\":\"top\"}},\"id\":\"2734\",\"type\":\"Quad\"},{\"attributes\":{\"background_fill_color\":null,\"below\":[{\"id\":\"2866\"}],\"border_fill_color\":null,\"center\":[{\"id\":\"2869\"},{\"id\":\"2873\"}],\"left\":[{\"id\":\"2870\"}],\"outline_line_color\":null,\"plot_height\":90,\"plot_width\":150,\"renderers\":[{\"id\":\"2892\"}],\"title\":{\"id\":\"2856\"},\"toolbar\":{\"id\":\"2881\"},\"toolbar_location\":null,\"x_range\":{\"id\":\"2858\"},\"x_scale\":{\"id\":\"2862\"},\"y_range\":{\"id\":\"2860\"},\"y_scale\":{\"id\":\"2864\"}},\"id\":\"2855\",\"subtype\":\"Figure\",\"type\":\"Plot\"},{\"attributes\":{\"bottom\":{\"field\":\"bottom\"},\"fill_color\":{\"field\":\"fill_color\"},\"left\":{\"field\":\"left\"},\"line_color\":{\"value\":\"gray\"},\"line_width\":{\"value\":2},\"right\":{\"field\":\"right\"},\"top\":{\"field\":\"top\"}},\"id\":\"3124\",\"type\":\"Quad\"},{\"attributes\":{\"bottom\":{\"field\":\"bottom\"},\"fill_color\":{\"field\":\"fill_color\"},\"left\":{\"field\":\"left\"},\"line_color\":{\"value\":\"gray\"},\"line_width\":{\"value\":2},\"right\":{\"field\":\"right\"},\"top\":{\"field\":\"top\"}},\"id\":\"2851\",\"type\":\"Quad\"},{\"attributes\":{},\"id\":\"3226\",\"type\":\"WheelZoomTool\"},{\"attributes\":{\"background_fill_color\":null,\"below\":[{\"id\":\"3139\"}],\"border_fill_color\":null,\"center\":[{\"id\":\"3142\"},{\"id\":\"3146\"}],\"left\":[{\"id\":\"3143\"}],\"outline_line_color\":null,\"plot_height\":90,\"plot_width\":150,\"renderers\":[{\"id\":\"3165\"}],\"title\":{\"id\":\"3129\"},\"toolbar\":{\"id\":\"3154\"},\"toolbar_location\":null,\"x_range\":{\"id\":\"3131\"},\"x_scale\":{\"id\":\"3135\"},\"y_range\":{\"id\":\"3133\"},\"y_scale\":{\"id\":\"3137\"}},\"id\":\"3128\",\"subtype\":\"Figure\",\"type\":\"Plot\"},{\"attributes\":{\"end\":3},\"id\":\"3445\",\"type\":\"Range1d\"},{\"attributes\":{\"end\":3},\"id\":\"2743\",\"type\":\"Range1d\"},{\"attributes\":{\"formatter\":{\"id\":\"4611\"},\"ticker\":{\"id\":\"3179\"},\"visible\":false},\"id\":\"3178\",\"type\":\"LinearAxis\"},{\"attributes\":{\"source\":{\"id\":\"2733\"}},\"id\":\"2737\",\"type\":\"CDSView\"},{\"attributes\":{\"source\":{\"id\":\"3123\"}},\"id\":\"3127\",\"type\":\"CDSView\"},{\"attributes\":{\"source\":{\"id\":\"2850\"}},\"id\":\"2854\",\"type\":\"CDSView\"},{\"attributes\":{},\"id\":\"3447\",\"type\":\"LinearScale\"},{\"attributes\":{},\"id\":\"3179\",\"type\":\"BasicTicker\"},{\"attributes\":{\"overlay\":{\"id\":\"3231\"}},\"id\":\"3227\",\"type\":\"BoxZoomTool\"},{\"attributes\":{},\"id\":\"2750\",\"type\":\"BasicTicker\"},{\"attributes\":{},\"id\":\"3228\",\"type\":\"SaveTool\"},{\"attributes\":{\"data\":{\"bottom\":[0,0,0,0,0,1,1,1,1,1,2,2,2,2,2],\"fill_color\":[\"white\",\"white\",\"white\",\"white\",\"black\",\"white\",\"white\",\"white\",\"black\",\"black\",\"white\",\"white\",\"white\",\"white\",\"white\"],\"left\":[0,1,2,3,4,0,1,2,3,4,0,1,2,3,4],\"right\":[1,2,3,4,5,1,2,3,4,5,1,2,3,4,5],\"top\":[1,1,1,1,1,2,2,2,2,2,3,3,3,3,3]},\"selected\":{\"id\":\"4689\"},\"selection_policy\":{\"id\":\"4688\"}},\"id\":\"2889\",\"type\":\"ColumnDataSource\"},{\"attributes\":{},\"id\":\"3449\",\"type\":\"LinearScale\"},{\"attributes\":{\"axis\":{\"id\":\"3178\"},\"grid_line_color\":null,\"ticker\":null},\"id\":\"3181\",\"type\":\"Grid\"},{\"attributes\":{\"text\":\"\"},\"id\":\"2856\",\"type\":\"Title\"},{\"attributes\":{\"axis\":{\"id\":\"2749\"},\"grid_line_color\":null,\"ticker\":null},\"id\":\"2752\",\"type\":\"Grid\"},{\"attributes\":{\"text\":\"\"},\"id\":\"3129\",\"type\":\"Title\"},{\"attributes\":{\"data\":{\"bottom\":[0,0,0,0,0,1,1,1,1,1,2,2,2,2,2],\"fill_color\":[\"white\",\"white\",\"black\",\"black\",\"white\",\"white\",\"white\",\"white\",\"black\",\"white\",\"white\",\"white\",\"white\",\"white\",\"white\"],\"left\":[0,1,2,3,4,0,1,2,3,4,0,1,2,3,4],\"right\":[1,2,3,4,5,1,2,3,4,5,1,2,3,4,5],\"top\":[1,1,1,1,1,2,2,2,2,2,3,3,3,3,3]},\"selected\":{\"id\":\"4572\"},\"selection_policy\":{\"id\":\"4571\"}},\"id\":\"3162\",\"type\":\"ColumnDataSource\"},{\"attributes\":{},\"id\":\"3229\",\"type\":\"ResetTool\"},{\"attributes\":{\"formatter\":{\"id\":\"4485\"},\"ticker\":{\"id\":\"3452\"},\"visible\":false},\"id\":\"3451\",\"type\":\"LinearAxis\"},{\"attributes\":{\"formatter\":{\"id\":\"4613\"},\"ticker\":{\"id\":\"3183\"},\"visible\":false},\"id\":\"3182\",\"type\":\"LinearAxis\"},{\"attributes\":{\"end\":5},\"id\":\"2858\",\"type\":\"Range1d\"},{\"attributes\":{\"formatter\":{\"id\":\"4559\"},\"ticker\":{\"id\":\"2754\"},\"visible\":false},\"id\":\"2753\",\"type\":\"LinearAxis\"},{\"attributes\":{\"end\":5},\"id\":\"3131\",\"type\":\"Range1d\"},{\"attributes\":{},\"id\":\"3230\",\"type\":\"HelpTool\"},{\"attributes\":{\"end\":3},\"id\":\"2860\",\"type\":\"Range1d\"},{\"attributes\":{},\"id\":\"3452\",\"type\":\"BasicTicker\"},{\"attributes\":{},\"id\":\"3183\",\"type\":\"BasicTicker\"},{\"attributes\":{\"end\":3},\"id\":\"3133\",\"type\":\"Range1d\"},{\"attributes\":{\"axis\":{\"id\":\"3451\"},\"grid_line_color\":null,\"ticker\":null},\"id\":\"3454\",\"type\":\"Grid\"}],\"root_ids\":[\"4790\"]},\"title\":\"Bokeh Application\",\"version\":\"2.2.3\"}};\n",
       "  var render_items = [{\"docid\":\"e44765c1-bbfb-4867-a54a-d1846f39a112\",\"root_ids\":[\"4790\"],\"roots\":{\"4790\":\"4d2f8fc8-9e86-42e8-bed9-f18678a56877\"}}];\n",
       "  root.Bokeh.embed.embed_items_notebook(docs_json, render_items);\n",
       "\n",
       "  }\n",
       "  if (root.Bokeh !== undefined) {\n",
       "    embed_document(root);\n",
       "  } else {\n",
       "    var attempts = 0;\n",
       "    var timer = setInterval(function(root) {\n",
       "      if (root.Bokeh !== undefined) {\n",
       "        clearInterval(timer);\n",
       "        embed_document(root);\n",
       "      } else {\n",
       "        attempts++;\n",
       "        if (attempts > 100) {\n",
       "          clearInterval(timer);\n",
       "          console.log(\"Bokeh: ERROR: Unable to run BokehJS code because BokehJS library is missing\");\n",
       "        }\n",
       "      }\n",
       "    }, 10, root)\n",
       "  }\n",
       "})(window);"
      ],
      "application/vnd.bokehjs_exec.v0+json": ""
     },
     "metadata": {
      "application/vnd.bokehjs_exec.v0+json": {
       "id": "4790"
      }
     },
     "output_type": "display_data"
    }
   ],
   "source": [
    "plot_feasible_districts(3,5,3)"
   ]
  },
  {
   "cell_type": "code",
   "execution_count": 10,
   "metadata": {
    "scrolled": false
   },
   "outputs": [],
   "source": [
    "district_df = create_districts_df(8,5,8,large_example)\n",
    "A = grid_district_matrix(8,5,8)"
   ]
  },
  {
   "cell_type": "code",
   "execution_count": 20,
   "metadata": {},
   "outputs": [
    {
     "name": "stdout",
     "output_type": "stream",
     "text": [
      "Gurobi solver parameters set successfully.\n",
      "Optimal solution found.\n",
      "Objective value = 0.5\n"
     ]
    },
    {
     "data": {
      "text/plain": [
       "[8698, 10628, 10784, 13813, 24078]"
      ]
     },
     "execution_count": 20,
     "metadata": {},
     "output_type": "execute_result"
    }
   ],
   "source": [
    "m,x = redistrict(5, A, district_df['efficiency_gap'], integer=True, opt_type='abs_val', solver='gurobi')\n",
    "solve(m, solver='gurobi')\n",
    "sol = [i for i, v in x.items() if v.solution_value() > .5]\n",
    "sol"
   ]
  },
  {
   "cell_type": "code",
   "execution_count": 21,
   "metadata": {},
   "outputs": [],
   "source": [
    "def plot_grid_districts(n, m, partisanship, district_df, districts):\n",
    "    \"\"\"Plot the grid with the given chosen districts.\"\"\"\n",
    "    plt = grid_plot(n,m,partisanship)\n",
    "    for d in districts:\n",
    "        y,x = zip(*district_df.loc[d]['tract_coord'])\n",
    "        y = (np.array(y)+0.5) - 2*((np.array(y)+0.5) - (n/2))\n",
    "        x = np.array(x)+0.5\n",
    "        plt.line(x,y, line_width=4, line_color='white')\n",
    "    return plt"
   ]
  },
  {
   "cell_type": "code",
   "execution_count": 22,
   "metadata": {},
   "outputs": [
    {
     "data": {
      "text/html": [
       "\n",
       "\n",
       "\n",
       "\n",
       "\n",
       "\n",
       "  <div class=\"bk-root\" id=\"40b8cd6f-5713-4874-8753-9f63b9eae979\" data-root-id=\"2304\"></div>\n"
      ]
     },
     "metadata": {},
     "output_type": "display_data"
    },
    {
     "data": {
      "application/javascript": [
       "(function(root) {\n",
       "  function embed_document(root) {\n",
       "    \n",
       "  var docs_json = {\"23cb4c95-4b63-4f05-9462-be07ac6ff02e\":{\"roots\":{\"references\":[{\"attributes\":{\"background_fill_color\":null,\"below\":[{\"id\":\"2315\"}],\"border_fill_color\":null,\"center\":[{\"id\":\"2318\"},{\"id\":\"2322\"}],\"left\":[{\"id\":\"2319\"}],\"outline_line_color\":null,\"plot_height\":240,\"plot_width\":150,\"renderers\":[{\"id\":\"2341\"},{\"id\":\"2346\"},{\"id\":\"2351\"},{\"id\":\"2356\"},{\"id\":\"2361\"},{\"id\":\"2366\"}],\"title\":{\"id\":\"2305\"},\"toolbar\":{\"id\":\"2330\"},\"toolbar_location\":null,\"x_range\":{\"id\":\"2307\"},\"x_scale\":{\"id\":\"2311\"},\"y_range\":{\"id\":\"2309\"},\"y_scale\":{\"id\":\"2313\"}},\"id\":\"2304\",\"subtype\":\"Figure\",\"type\":\"Plot\"},{\"attributes\":{},\"id\":\"2313\",\"type\":\"LinearScale\"},{\"attributes\":{\"line_color\":\"white\",\"line_width\":4,\"x\":{\"field\":\"x\"},\"y\":{\"field\":\"y\"}},\"id\":\"2359\",\"type\":\"Line\"},{\"attributes\":{\"data\":{\"x\":{\"__ndarray__\":\"AAAAAAAA+D8AAAAAAAAMQAAAAAAAAAxAAAAAAAAADEAAAAAAAAAEQAAAAAAAAARAAAAAAAAAEkAAAAAAAADgPw==\",\"dtype\":\"float64\",\"order\":\"little\",\"shape\":[8]},\"y\":{\"__ndarray__\":\"AAAAAAAA4D8AAAAAAADgPwAAAAAAAARAAAAAAAAA+D8AAAAAAAAEQAAAAAAAAOA/AAAAAAAA4D8AAAAAAADgPw==\",\"dtype\":\"float64\",\"order\":\"little\",\"shape\":[8]}},\"selected\":{\"id\":\"2489\"},\"selection_policy\":{\"id\":\"2488\"}},\"id\":\"2358\",\"type\":\"ColumnDataSource\"},{\"attributes\":{\"axis\":{\"id\":\"2319\"},\"dimension\":1,\"grid_line_color\":null,\"ticker\":null},\"id\":\"2322\",\"type\":\"Grid\"},{\"attributes\":{\"source\":{\"id\":\"2338\"}},\"id\":\"2342\",\"type\":\"CDSView\"},{\"attributes\":{\"bottom\":{\"field\":\"bottom\"},\"fill_color\":{\"field\":\"fill_color\"},\"left\":{\"field\":\"left\"},\"line_color\":{\"value\":\"white\"},\"line_width\":{\"value\":2},\"right\":{\"field\":\"right\"},\"top\":{\"field\":\"top\"}},\"id\":\"2339\",\"type\":\"Quad\"},{\"attributes\":{\"formatter\":{\"id\":\"2477\"},\"ticker\":{\"id\":\"2320\"},\"visible\":false},\"id\":\"2319\",\"type\":\"LinearAxis\"},{\"attributes\":{\"source\":{\"id\":\"2353\"}},\"id\":\"2357\",\"type\":\"CDSView\"},{\"attributes\":{\"text\":\"\"},\"id\":\"2305\",\"type\":\"Title\"},{\"attributes\":{\"data_source\":{\"id\":\"2353\"},\"glyph\":{\"id\":\"2354\"},\"hover_glyph\":null,\"muted_glyph\":null,\"nonselection_glyph\":{\"id\":\"2355\"},\"selection_glyph\":null,\"view\":{\"id\":\"2357\"}},\"id\":\"2356\",\"type\":\"GlyphRenderer\"},{\"attributes\":{},\"id\":\"2485\",\"type\":\"Selection\"},{\"attributes\":{},\"id\":\"2480\",\"type\":\"UnionRenderers\"},{\"attributes\":{\"end\":5},\"id\":\"2307\",\"type\":\"Range1d\"},{\"attributes\":{\"line_alpha\":0.1,\"line_color\":\"white\",\"line_width\":4,\"x\":{\"field\":\"x\"},\"y\":{\"field\":\"y\"}},\"id\":\"2355\",\"type\":\"Line\"},{\"attributes\":{\"line_color\":\"white\",\"line_width\":4,\"x\":{\"field\":\"x\"},\"y\":{\"field\":\"y\"}},\"id\":\"2354\",\"type\":\"Line\"},{\"attributes\":{},\"id\":\"2487\",\"type\":\"Selection\"},{\"attributes\":{},\"id\":\"2489\",\"type\":\"Selection\"},{\"attributes\":{},\"id\":\"2311\",\"type\":\"LinearScale\"},{\"attributes\":{},\"id\":\"2475\",\"type\":\"BasicTickFormatter\"},{\"attributes\":{\"data\":{\"x\":{\"__ndarray__\":\"AAAAAAAADEAAAAAAAADgPwAAAAAAAAxAAAAAAAAADEAAAAAAAAAMQAAAAAAAAARAAAAAAAAABEAAAAAAAAD4Pw==\",\"dtype\":\"float64\",\"order\":\"little\",\"shape\":[8]},\"y\":{\"__ndarray__\":\"AAAAAAAAFkAAAAAAAAAeQAAAAAAAABJAAAAAAAAAHkAAAAAAAAAaQAAAAAAAABpAAAAAAAAAHkAAAAAAAAAeQA==\",\"dtype\":\"float64\",\"order\":\"little\",\"shape\":[8]}},\"selected\":{\"id\":\"2487\"},\"selection_policy\":{\"id\":\"2486\"}},\"id\":\"2353\",\"type\":\"ColumnDataSource\"},{\"attributes\":{\"axis\":{\"id\":\"2315\"},\"grid_line_color\":null,\"ticker\":null},\"id\":\"2318\",\"type\":\"Grid\"},{\"attributes\":{\"bottom_units\":\"screen\",\"fill_alpha\":0.5,\"fill_color\":\"lightgrey\",\"left_units\":\"screen\",\"level\":\"overlay\",\"line_alpha\":1.0,\"line_color\":\"black\",\"line_dash\":[4,4],\"line_width\":2,\"right_units\":\"screen\",\"top_units\":\"screen\"},\"id\":\"2329\",\"type\":\"BoxAnnotation\"},{\"attributes\":{\"source\":{\"id\":\"2348\"}},\"id\":\"2352\",\"type\":\"CDSView\"},{\"attributes\":{},\"id\":\"2486\",\"type\":\"UnionRenderers\"},{\"attributes\":{},\"id\":\"2490\",\"type\":\"UnionRenderers\"},{\"attributes\":{},\"id\":\"2481\",\"type\":\"Selection\"},{\"attributes\":{\"data_source\":{\"id\":\"2348\"},\"glyph\":{\"id\":\"2349\"},\"hover_glyph\":null,\"muted_glyph\":null,\"nonselection_glyph\":{\"id\":\"2350\"},\"selection_glyph\":null,\"view\":{\"id\":\"2352\"}},\"id\":\"2351\",\"type\":\"GlyphRenderer\"},{\"attributes\":{},\"id\":\"2484\",\"type\":\"UnionRenderers\"},{\"attributes\":{},\"id\":\"2477\",\"type\":\"BasicTickFormatter\"},{\"attributes\":{},\"id\":\"2483\",\"type\":\"Selection\"},{\"attributes\":{\"line_alpha\":0.1,\"line_color\":\"white\",\"line_width\":4,\"x\":{\"field\":\"x\"},\"y\":{\"field\":\"y\"}},\"id\":\"2350\",\"type\":\"Line\"},{\"attributes\":{\"line_color\":\"white\",\"line_width\":4,\"x\":{\"field\":\"x\"},\"y\":{\"field\":\"y\"}},\"id\":\"2349\",\"type\":\"Line\"},{\"attributes\":{\"active_drag\":\"auto\",\"active_inspect\":\"auto\",\"active_multi\":null,\"active_scroll\":\"auto\",\"active_tap\":\"auto\",\"logo\":null,\"tools\":[{\"id\":\"2323\"},{\"id\":\"2324\"},{\"id\":\"2325\"},{\"id\":\"2326\"},{\"id\":\"2327\"},{\"id\":\"2328\"}]},\"id\":\"2330\",\"type\":\"Toolbar\"},{\"attributes\":{\"data_source\":{\"id\":\"2363\"},\"glyph\":{\"id\":\"2364\"},\"hover_glyph\":null,\"muted_glyph\":null,\"nonselection_glyph\":{\"id\":\"2365\"},\"selection_glyph\":null,\"view\":{\"id\":\"2367\"}},\"id\":\"2366\",\"type\":\"GlyphRenderer\"},{\"attributes\":{},\"id\":\"2482\",\"type\":\"UnionRenderers\"},{\"attributes\":{},\"id\":\"2488\",\"type\":\"UnionRenderers\"},{\"attributes\":{\"data\":{\"x\":{\"__ndarray__\":\"AAAAAAAA+D8AAAAAAADgPwAAAAAAAPg/AAAAAAAABEAAAAAAAAAEQAAAAAAAAARAAAAAAAAA+D8AAAAAAAD4Pw==\",\"dtype\":\"float64\",\"order\":\"little\",\"shape\":[8]},\"y\":{\"__ndarray__\":\"AAAAAAAAEkAAAAAAAAAaQAAAAAAAAAxAAAAAAAAAFkAAAAAAAAAMQAAAAAAAABJAAAAAAAAAGkAAAAAAAAAWQA==\",\"dtype\":\"float64\",\"order\":\"little\",\"shape\":[8]}},\"selected\":{\"id\":\"2485\"},\"selection_policy\":{\"id\":\"2484\"}},\"id\":\"2348\",\"type\":\"ColumnDataSource\"},{\"attributes\":{},\"id\":\"2328\",\"type\":\"HelpTool\"},{\"attributes\":{},\"id\":\"2323\",\"type\":\"PanTool\"},{\"attributes\":{\"source\":{\"id\":\"2363\"}},\"id\":\"2367\",\"type\":\"CDSView\"},{\"attributes\":{\"bottom\":{\"field\":\"bottom\"},\"fill_alpha\":{\"value\":0.1},\"fill_color\":{\"field\":\"fill_color\"},\"left\":{\"field\":\"left\"},\"line_alpha\":{\"value\":0.1},\"line_color\":{\"value\":\"white\"},\"line_width\":{\"value\":2},\"right\":{\"field\":\"right\"},\"top\":{\"field\":\"top\"}},\"id\":\"2340\",\"type\":\"Quad\"},{\"attributes\":{\"line_alpha\":0.1,\"line_color\":\"white\",\"line_width\":4,\"x\":{\"field\":\"x\"},\"y\":{\"field\":\"y\"}},\"id\":\"2365\",\"type\":\"Line\"},{\"attributes\":{\"source\":{\"id\":\"2343\"}},\"id\":\"2347\",\"type\":\"CDSView\"},{\"attributes\":{},\"id\":\"2320\",\"type\":\"BasicTicker\"},{\"attributes\":{\"data_source\":{\"id\":\"2358\"},\"glyph\":{\"id\":\"2359\"},\"hover_glyph\":null,\"muted_glyph\":null,\"nonselection_glyph\":{\"id\":\"2360\"},\"selection_glyph\":null,\"view\":{\"id\":\"2362\"}},\"id\":\"2361\",\"type\":\"GlyphRenderer\"},{\"attributes\":{},\"id\":\"2324\",\"type\":\"WheelZoomTool\"},{\"attributes\":{\"data\":{\"bottom\":[0,0,0,0,0,1,1,1,1,1,2,2,2,2,2,3,3,3,3,3,4,4,4,4,4,5,5,5,5,5,6,6,6,6,6,7,7,7,7,7],\"fill_color\":[\"#195495\",\"#195495\",\"#DC0000\",\"#DC0000\",\"#DC0000\",\"#195495\",\"#195495\",\"#DC0000\",\"#DC0000\",\"#DC0000\",\"#195495\",\"#195495\",\"#DC0000\",\"#DC0000\",\"#DC0000\",\"#195495\",\"#195495\",\"#DC0000\",\"#DC0000\",\"#DC0000\",\"#195495\",\"#195495\",\"#DC0000\",\"#DC0000\",\"#DC0000\",\"#195495\",\"#195495\",\"#DC0000\",\"#DC0000\",\"#DC0000\",\"#195495\",\"#195495\",\"#DC0000\",\"#DC0000\",\"#DC0000\",\"#195495\",\"#195495\",\"#DC0000\",\"#DC0000\",\"#DC0000\"],\"left\":[0,1,2,3,4,0,1,2,3,4,0,1,2,3,4,0,1,2,3,4,0,1,2,3,4,0,1,2,3,4,0,1,2,3,4,0,1,2,3,4],\"right\":[1,2,3,4,5,1,2,3,4,5,1,2,3,4,5,1,2,3,4,5,1,2,3,4,5,1,2,3,4,5,1,2,3,4,5,1,2,3,4,5],\"top\":[1,1,1,1,1,2,2,2,2,2,3,3,3,3,3,4,4,4,4,4,5,5,5,5,5,6,6,6,6,6,7,7,7,7,7,8,8,8,8,8]},\"selected\":{\"id\":\"2481\"},\"selection_policy\":{\"id\":\"2480\"}},\"id\":\"2338\",\"type\":\"ColumnDataSource\"},{\"attributes\":{\"data_source\":{\"id\":\"2343\"},\"glyph\":{\"id\":\"2344\"},\"hover_glyph\":null,\"muted_glyph\":null,\"nonselection_glyph\":{\"id\":\"2345\"},\"selection_glyph\":null,\"view\":{\"id\":\"2347\"}},\"id\":\"2346\",\"type\":\"GlyphRenderer\"},{\"attributes\":{\"source\":{\"id\":\"2358\"}},\"id\":\"2362\",\"type\":\"CDSView\"},{\"attributes\":{\"data\":{\"x\":{\"__ndarray__\":\"AAAAAAAAEkAAAAAAAAASQAAAAAAAABJAAAAAAAAAEkAAAAAAAAASQAAAAAAAAAxAAAAAAAAAEkAAAAAAAAASQA==\",\"dtype\":\"float64\",\"order\":\"little\",\"shape\":[8]},\"y\":{\"__ndarray__\":\"AAAAAAAAFkAAAAAAAAASQAAAAAAAAAxAAAAAAAAABEAAAAAAAAD4PwAAAAAAAAxAAAAAAAAAHkAAAAAAAAAaQA==\",\"dtype\":\"float64\",\"order\":\"little\",\"shape\":[8]}},\"selected\":{\"id\":\"2491\"},\"selection_policy\":{\"id\":\"2490\"}},\"id\":\"2363\",\"type\":\"ColumnDataSource\"},{\"attributes\":{\"formatter\":{\"id\":\"2475\"},\"ticker\":{\"id\":\"2316\"},\"visible\":false},\"id\":\"2315\",\"type\":\"LinearAxis\"},{\"attributes\":{},\"id\":\"2327\",\"type\":\"ResetTool\"},{\"attributes\":{\"line_color\":\"white\",\"line_width\":4,\"x\":{\"field\":\"x\"},\"y\":{\"field\":\"y\"}},\"id\":\"2364\",\"type\":\"Line\"},{\"attributes\":{\"line_alpha\":0.1,\"line_color\":\"white\",\"line_width\":4,\"x\":{\"field\":\"x\"},\"y\":{\"field\":\"y\"}},\"id\":\"2345\",\"type\":\"Line\"},{\"attributes\":{},\"id\":\"2316\",\"type\":\"BasicTicker\"},{\"attributes\":{\"overlay\":{\"id\":\"2329\"}},\"id\":\"2325\",\"type\":\"BoxZoomTool\"},{\"attributes\":{},\"id\":\"2491\",\"type\":\"Selection\"},{\"attributes\":{\"line_color\":\"white\",\"line_width\":4,\"x\":{\"field\":\"x\"},\"y\":{\"field\":\"y\"}},\"id\":\"2344\",\"type\":\"Line\"},{\"attributes\":{\"data_source\":{\"id\":\"2338\"},\"glyph\":{\"id\":\"2339\"},\"hover_glyph\":null,\"muted_glyph\":null,\"nonselection_glyph\":{\"id\":\"2340\"},\"selection_glyph\":null,\"view\":{\"id\":\"2342\"}},\"id\":\"2341\",\"type\":\"GlyphRenderer\"},{\"attributes\":{\"line_alpha\":0.1,\"line_color\":\"white\",\"line_width\":4,\"x\":{\"field\":\"x\"},\"y\":{\"field\":\"y\"}},\"id\":\"2360\",\"type\":\"Line\"},{\"attributes\":{},\"id\":\"2326\",\"type\":\"SaveTool\"},{\"attributes\":{\"data\":{\"x\":{\"__ndarray__\":\"AAAAAAAA4D8AAAAAAADgPwAAAAAAAPg/AAAAAAAA4D8AAAAAAAD4PwAAAAAAAOA/AAAAAAAA4D8AAAAAAAAEQA==\",\"dtype\":\"float64\",\"order\":\"little\",\"shape\":[8]},\"y\":{\"__ndarray__\":\"AAAAAAAAEkAAAAAAAAAWQAAAAAAAAARAAAAAAAAADEAAAAAAAAD4PwAAAAAAAPg/AAAAAAAABEAAAAAAAAD4Pw==\",\"dtype\":\"float64\",\"order\":\"little\",\"shape\":[8]}},\"selected\":{\"id\":\"2483\"},\"selection_policy\":{\"id\":\"2482\"}},\"id\":\"2343\",\"type\":\"ColumnDataSource\"},{\"attributes\":{\"end\":8},\"id\":\"2309\",\"type\":\"Range1d\"}],\"root_ids\":[\"2304\"]},\"title\":\"Bokeh Application\",\"version\":\"2.2.3\"}};\n",
       "  var render_items = [{\"docid\":\"23cb4c95-4b63-4f05-9462-be07ac6ff02e\",\"root_ids\":[\"2304\"],\"roots\":{\"2304\":\"40b8cd6f-5713-4874-8753-9f63b9eae979\"}}];\n",
       "  root.Bokeh.embed.embed_items_notebook(docs_json, render_items);\n",
       "\n",
       "  }\n",
       "  if (root.Bokeh !== undefined) {\n",
       "    embed_document(root);\n",
       "  } else {\n",
       "    var attempts = 0;\n",
       "    var timer = setInterval(function(root) {\n",
       "      if (root.Bokeh !== undefined) {\n",
       "        clearInterval(timer);\n",
       "        embed_document(root);\n",
       "      } else {\n",
       "        attempts++;\n",
       "        if (attempts > 100) {\n",
       "          clearInterval(timer);\n",
       "          console.log(\"Bokeh: ERROR: Unable to run BokehJS code because BokehJS library is missing\");\n",
       "        }\n",
       "      }\n",
       "    }, 10, root)\n",
       "  }\n",
       "})(window);"
      ],
      "application/vnd.bokehjs_exec.v0+json": ""
     },
     "metadata": {
      "application/vnd.bokehjs_exec.v0+json": {
       "id": "2304"
      }
     },
     "output_type": "display_data"
    }
   ],
   "source": [
    "show(plot_grid_districts(8,5,large_example,district_df,sol))"
   ]
  },
  {
   "cell_type": "markdown",
   "metadata": {},
   "source": [
    "# Part I: Redistricting, Gerrymandering, and the Efficiency Gap"
   ]
  },
  {
   "cell_type": "markdown",
   "metadata": {},
   "source": [
    "Every 10 years in the US, following the census, the process of *reapportionment* determines how the 435 representatives in the House of Representatives will be distributed among the 50 states. Depending on population shifts, a state may lose or gain a representative. Each state is divided in to electoral districts; one for each representative. Hence, after reapportionment, states *redistrict* to redraw the electoral district boundaries. These boundaries are drawn subject to a few federal constraints:\n",
    "\n",
    "- Districts must have roughly the same population (total state population / number of representatives).\n",
    "- They must be compact and contiguous.\n",
    "- You can not divide minorities across multiple districts (cracking) or have a district in which they are the majority (packing).\n",
    "\n",
    "You may have noticed that there is no restriction on packing or cracking political parties. These two strategies are common in a phenomenon known as *gerrymandering*. Gerrymandering is the process of redrawing these electoral district boundaries to give one political party an advantage over another. In the diagram below, you can see an example of both cracking in packing. "
   ]
  },
  {
   "cell_type": "markdown",
   "metadata": {},
   "source": [
    "<img src=\"images/gerrymandering.png\" width=600 height=300 />\n",
    "\n",
    "*Taken from [The Washington Post](https://www.washingtonpost.com/news/wonk/wp/2015/03/01/this-is-the-best-explanation-of-gerrymandering-you-will-ever-see/)*"
   ]
  },
  {
   "cell_type": "markdown",
   "metadata": {},
   "source": [
    "Each district shoud have 10 squares. On the right, the two U-shaped districts are packed with blue squares (9/10). The remaining blue squares are then cracked by splitting them among the remaining districts. Even though red is the minority, gerrymandering allow them to have a majority of the districts.\n",
    "\n",
    "To address this, some states have introduced restrictings aganist this. However, it is hard to police. How can you prove that someone gerrymandered or not? We will look at one fairness metric that has received a lot of attention called the *efficiency gap*. Essentially, the efficiency gap tracks to types of \"wasted\" votes: lost votes for the losing canidate and excess votes (above 50%) for the winning canidate. "
   ]
  },
  {
   "cell_type": "markdown",
   "metadata": {},
   "source": [
    "**Q1:** Consider each square in diagram (3) above a vote. How many wasted votes does blue have? How many are lost votes and how many are excess votes? How does this compare to red?\n",
    "\n",
    "**A:** <font color='blue'> There are 4 lost votes in each of the 3 red-winning districts and 4 excess votes in each of the 2 blue-winning districts for a total of 20 wasted votes. Conversely, red has 2 lost votes and 3 excess votes for a total of 5 wasted votes. There are many more wasted blue votes. </font>"
   ]
  },
  {
   "cell_type": "markdown",
   "metadata": {},
   "source": [
    "Now that we know the total wasted votes for each party, we can compute the efficiency gap as follows:\n",
    "\n",
    "$$\\text{Efficiency Gap} = \\frac{\\text{Total Wasted Blue Votes} - \\text{Total Wasted Red Votes}}{\\text{Total Votes}}$$"
   ]
  },
  {
   "cell_type": "markdown",
   "metadata": {},
   "source": [
    "**Q2:** Continuing with our example, what is the efficiency gap?\n",
    "\n",
    "**A:** <font color='blue'> The efficiency gap is $(20 - 5) / 50 = 0.30$.</font>"
   ]
  },
  {
   "cell_type": "markdown",
   "metadata": {},
   "source": [
    "You should have found the efficiency gap to be $0.30$. This has the following interpretation: the red party won $30\\%$ more seats than they should have. $30\\%$ of $5$ is $1.5$. They should have won 2 seats but they managed to win an additional seat. If everything were perfectly fair, the efficiency gap would be 0. However, perfect equality is impossible. The authors of the efficiency gap, Stephanopoulos and McGhee, propose $\\pm2\\%$ for congressional redistricting."
   ]
  },
  {
   "cell_type": "markdown",
   "metadata": {},
   "source": [
    "## Part II: Fairmandering: How to Redistrict Fairly"
   ]
  },
  {
   "cell_type": "markdown",
   "metadata": {},
   "source": [
    "<font color='red'> Do census tracts have to reside in one district or was this just your approach?</font>\n",
    "\n",
    "Each state is divided in to census tracts with a population of approximatly 4,000 for the purpose of taking the census. Given a number of representatives $k$, redistricting consists of assigning each of these census tracts to a district subject to compactness and continuity. Subject to these constraints, we could optimize by minimizing the absolute value of the efficiency gap. However, the scale prevents us from formulating a single IP to tackle this whole problem. Below, we load the census tracts for Georgia."
   ]
  },
  {
   "cell_type": "code",
   "execution_count": null,
   "metadata": {},
   "outputs": [],
   "source": [
    "tracts = load_tract_shapes()\n",
    "tracts.plot(figsize=(10, 10), color='none', edgecolor='black', lw=.25);\n",
    "print('There are %d census tracts in Georgia' % (len(tracts)))"
   ]
  },
  {
   "cell_type": "markdown",
   "metadata": {},
   "source": [
    "To keep track of continuity, we can create an adjacency graph where there is a node for each census tract and an edge between two nodes if and only if those census tracts are geographically adjacent."
   ]
  },
  {
   "cell_type": "code",
   "execution_count": null,
   "metadata": {},
   "outputs": [],
   "source": [
    "adjacency_graph = load_graph()\n",
    "draw_adjacency_graph(tracts, adjacency_graph, figsize=(10, 10));\n",
    "print('The adjacency graph has %d nodes and %d edges.' % (len(adjacency_graph.nodes), len(adjacency_graph.edges)))"
   ]
  },
  {
   "cell_type": "markdown",
   "metadata": {},
   "source": [
    "Using this adjacency graph, we can generate a list of all feasible districts. We now have a set of census tracts $i \\in T$ and a set of feasible districts $j \\in D$. Furthermore, we have a matrix $A$ where $a_{ij} = 1$ if and only if census tract $i$ is contained within district $j$. We can compute the efficiency gap $c_j$ for each feasible district $j \\in D$. The following formulation then chooses a final set of $k$ districts:\n",
    "\n",
    "$$\\begin{align*}\n",
    "\\min \\quad & \\left| \\enspace \\sum_{j \\in D} c_jx_j \\enspace \\right| \\\\\n",
    "\\text{s.t.} \\quad &  \\sum_{j \\in D} a_{ij}x_j = 1 \\quad \\forall i \\in T & (1)\\\\\n",
    "\\quad &  \\sum_{j \\in D}  x_j = k & (2)\\\\\n",
    "\\quad & x_j \\in \\{0,1\\} \\quad \\forall j \\in D & (3)\\\\\n",
    "\\end{align*}$$"
   ]
  },
  {
   "cell_type": "markdown",
   "metadata": {},
   "source": [
    "**Q3:** What are the decision variables? What does their value represent?\n",
    "\n",
    "**A:** <font color='blue'> The decision variables are $x_j$ for every district $j \\in D$. The value of $x_j$ is 1 when district $j$ is chosen to be used.</font>"
   ]
  },
  {
   "cell_type": "markdown",
   "metadata": {},
   "source": [
    "**Q4:** What does constraint (1) enforce?\n",
    "\n",
    "**A:** <font color='blue'> Constraint (1) enforces that each census tract $i$ is in exactly one of the selected districts.</font>"
   ]
  },
  {
   "cell_type": "markdown",
   "metadata": {},
   "source": [
    "**Q5:** What does constraint (2) enforce?\n",
    "\n",
    "**A:** <font color='blue'> Constraint (2) enforces that exactly $k$ districts are selected.</font>"
   ]
  },
  {
   "cell_type": "markdown",
   "metadata": {},
   "source": [
    "**Q6:** Is this formulation an integer linear program? Why or why not?\n",
    "\n",
    "**A:** <font color='blue'>No, the objective function is not linear because it has an absolute value.</font>"
   ]
  },
  {
   "cell_type": "markdown",
   "metadata": {},
   "source": [
    "It turns out there is a special trick for encoding an absolute value in a linear program. Consider the simpler example of maximizing $x$. We can introduce a new variable $w$ and enforce the constraints $x \\leq w$ and $x \\geq -w$. Now, we can just minimize $w$ as our objective function. Do you see why this works? After introducing this trick into our formulation, we get the following integer linear program (ILP):\n",
    "\n",
    "$$\\begin{align*}\n",
    "\\min \\quad & w \\\\\n",
    "\\text{s.t.} \\quad &  \\sum_{j \\in D} a_{ij}x_j = 1 \\quad \\forall i \\in T & (1)\\\\\n",
    "\\quad &  \\sum_{j \\in D}  x_j = k & (2)\\\\\n",
    "\\quad & \\sum_{j \\in D} c_jx_j \\leq w & (3) \\\\\n",
    "\\quad & \\sum_{j \\in D} c_jx_j \\geq -w & (4) \\\\\n",
    "\\quad & x_j \\in \\{0,1\\} \\quad \\forall j \\in D & (5)\\\\\n",
    "\\end{align*}$$"
   ]
  },
  {
   "cell_type": "markdown",
   "metadata": {},
   "source": [
    "**Q7:** How many variables does this ILP have? Do you think this ILP is reasonable as is for a state with nearly 2000 census tracts? (Hint: How many feaisble districts do you think that would generate?)\n",
    "\n",
    "**A:** <font color='blue'> The number of feasible districts plus one. This is not reasonable as is because there would be way too many variables!</font>"
   ]
  },
  {
   "cell_type": "markdown",
   "metadata": {},
   "source": [
    "The paper by Wes Gurnee and David Shmoys addressee this very issue! They formualated a structured way of generating a large number of compatible feasible districts (though small relative to the total number possible). We won't go in to detail about this process but here is a breif overview.\n",
    "\n",
    "Esssentially, the state is divided into some number of smaller regions (partitioned) some number of times (385 in the case of this Georgia example). For each of these partitions, this process is repeated until the size of the regions is appropriate for the size of a district. Here is a small section of sample tree: "
   ]
  },
  {
   "cell_type": "markdown",
   "metadata": {},
   "source": [
    "<img src=\"images/sample_tree.png\" width=650 height=300 />\n",
    "\n",
    "*Taken from [fairmandering.org](https://www.fairmandering.org/algorithm.html)*"
   ]
  },
  {
   "cell_type": "markdown",
   "metadata": {},
   "source": [
    "The root of this tree is the entire state. In the first layer of the tree, you have the first partitions (which we call root partitions). In the last layer of the tree (also called the leaf nodes), the partions represent the feasible districts. Just one more piece of vocabulary! If you can follow a path directly down from one node $a$ to another $b$, we say that $a$ is a ancestor of $b$. For example, the middle root partition is an ancestor of every shown leaf. The right and left root partitions are **not** ancestors of any shown leaf."
   ]
  },
  {
   "cell_type": "markdown",
   "metadata": {},
   "source": [
    "**Q8:** Can two districts who have different root partition ancestors be used in the same plan together? Why or why not?\n",
    "\n",
    "**A:** <font color='blue'> No, the \"puzzle pieces\" would not fit!</font>"
   ]
  },
  {
   "cell_type": "markdown",
   "metadata": {},
   "source": [
    "In **Q8**, you should have argued that they would not be compatible. Hence, we solve this optimization problem for each of the root partitions. Each root partition is the ancestor of some subset of the leafs which represent feasible districts. For each root partition, we can use these feasible districts as the input to the ILP we described! Let's try it out!"
   ]
  },
  {
   "cell_type": "markdown",
   "metadata": {},
   "source": [
    "## Part III: Redistricting Georgia"
   ]
  },
  {
   "cell_type": "markdown",
   "metadata": {},
   "source": [
    "First, let's look at some of the data we have. The dataframes below give us some statistics and past election results for each census tract."
   ]
  },
  {
   "cell_type": "code",
   "execution_count": null,
   "metadata": {},
   "outputs": [],
   "source": [
    "tract_stats = load_state_df()\n",
    "display(tract_stats.head())\n",
    "tract_results = load_election_df()\n",
    "display(tract_results.head())"
   ]
  },
  {
   "cell_type": "code",
   "execution_count": null,
   "metadata": {},
   "outputs": [],
   "source": [
    "# Plot 2016 presidential election results\n",
    "tracts['2016_pres'] = tract_results.apply(lambda x: x.R_pres_2016 / (x.R_pres_2016 + x.D_pres_2016), axis=1)\n",
    "tracts.plot(column='2016_pres', cmap='seismic', vmin=0, vmax=1, figsize=(15, 10));"
   ]
  },
  {
   "cell_type": "markdown",
   "metadata": {},
   "source": [
    "We skipped a lot of complexity involved in generating a sample tree. For the sake of this lab, this data has been given to us."
   ]
  },
  {
   "cell_type": "code",
   "execution_count": null,
   "metadata": {},
   "outputs": [],
   "source": [
    "leaf_nodes = pickle.load(open('data/leaf_nodes.p', 'rb'))\n",
    "internal_nodes = pickle.load(open('data/internal_nodes.p', 'rb'))\n",
    "print('There are %d root partitions and %d feasible districts.' % (len(internal_nodes[0]['children_ids']), \n",
    "                                                                   len(leaf_nodes)))"
   ]
  },
  {
   "cell_type": "code",
   "execution_count": null,
   "metadata": {},
   "outputs": [],
   "source": [
    "# change i (0..215784) to highlight different feasible districts corresponding to the leaf nodes\n",
    "i = 0\n",
    "ax = tracts.plot(figsize=(10, 10), color='none', edgecolor='black', lw=.25) \n",
    "tracts.iloc[leaf_nodes[i]['area']].plot(ax=ax, color='green', alpha=.3);"
   ]
  },
  {
   "cell_type": "markdown",
   "metadata": {},
   "source": [
    "For each feasible district, we can aggregate over the census tract statistics contained within it to get statistics for each feasible district. In addition to the aggregate statistics, we have also computed some measures of compactness: `roeck`, `edge_ratio`, and `cut_edges` (which we will discuss later) and the efficiency gap for each district."
   ]
  },
  {
   "cell_type": "code",
   "execution_count": null,
   "metadata": {},
   "outputs": [],
   "source": [
    "district_df = pd.read_csv(os.path.join('data', 'ga_district_df.csv'))\n",
    "district_df['efficiency_gap'] = efficiency_gap_coefficients(district_df, .53)\n",
    "display(district_df.head())"
   ]
  },
  {
   "cell_type": "markdown",
   "metadata": {},
   "source": [
    "**Q9:** Complete the model below by implementing the $k$ total districts constraint."
   ]
  },
  {
   "cell_type": "code",
   "execution_count": null,
   "metadata": {},
   "outputs": [],
   "source": [
    "def redistrict(k, tract_district_matrix, cost, integer=False, opt_type='abs_val', solver='CBC'):\n",
    "    \"\"\"A model for solving a congressional redistricting problem.\n",
    "    \n",
    "    Args:\n",
    "        k (int): number of districts in a plan\n",
    "        tract_district_matrix (np.ndarray): binary matrix a_ij = 1 if tract i is in district j\n",
    "        costs (np.ndarray): cost coefficients of districts\n",
    "        opt_type (str): {\"minimize\", \"maximize\", \"abs_val\"}\n",
    "        solver (str) : {\"CBC\", \"gurobi\"}\n",
    "    \"\"\"\n",
    "    n_tracts, n_columns = tract_district_matrix.shape\n",
    "    TRACTS = range(n_tracts)\n",
    "    DISTRICTS = range(n_columns)\n",
    "    \n",
    "    # define the model\n",
    "    if solver=='CBC':\n",
    "        m = OR.Solver('redistrict', OR.Solver.CBC_MIXED_INTEGER_PROGRAMMING)        \n",
    "    elif solver=='gurobi':\n",
    "        m = OR.Solver('redistrict', OR.Solver.GUROBI_MIXED_INTEGER_PROGRAMMING)\n",
    "    else:\n",
    "        raise ValueError('Invalid solver')\n",
    "\n",
    "    # decision variables\n",
    "    x = {} # x_i is 1 if district i is used, 0 otherwise\n",
    "    for d in DISTRICTS:\n",
    "        if integer:\n",
    "            x[d] = m.IntVar(0, 1, name=\"x(%s)\" % d)\n",
    "        else:\n",
    "            x[d] = m.NumVar(0, 1, name=\"x(%s)\" % d)\n",
    "\n",
    "    # objective function\n",
    "    if opt_type == 'min':\n",
    "        m.Minimize(sum(cost[d] * x[d] for d in DISTRICTS))\n",
    "    elif opt_type == 'max':\n",
    "        m.Maximize(sum(cost[d] * x[d] for d in DISTRICTS))\n",
    "    elif opt_type == 'abs_val':\n",
    "        w = m.NumVar(-k, k, name=\"w\")\n",
    "        m.Add(sum(cost[d] * x[d] for d in DISTRICTS) <= w, name='absval_pos')\n",
    "        m.Add(sum(cost[d] * x[d] for d in DISTRICTS) >= -w, name='absval_neg')\n",
    "        m.Minimize(w)\n",
    "    else:\n",
    "        raise ValueError('Invalid optimization type')\n",
    "\n",
    "    # subject to: each census tract appears in exactly one district\n",
    "    for t in TRACTS:    \n",
    "        m.Add(sum(x[d] * tract_district_matrix[t,d] for d in DISTRICTS) == 1)\n",
    "\n",
    "    # subject to: k total districts\n",
    "    # TODO: Implement this constraint\n",
    "    \n",
    "    ### BEGIN SOLUTION\n",
    "    m.Add(sum(x[d] for d in DISTRICTS) == k)\n",
    "    ### END SOLUTION\n",
    "\n",
    "    return m,x"
   ]
  },
  {
   "cell_type": "code",
   "execution_count": null,
   "metadata": {},
   "outputs": [],
   "source": [
    "# You do not need to pay attention to this cell but make sure you run it!\n",
    "def solve(m, solver='CBC'):\n",
    "    \"\"\"Solve the model and specify some solver parameters.\"\"\"\n",
    "    if solver=='CBC':\n",
    "        m.SetTimeLimit(int(len(leaf_nodes) / 10))\n",
    "        params = OR.MPSolverParameters()\n",
    "        params.SetDoubleParam(params.RELATIVE_MIP_GAP, 1e-4)\n",
    "        status = m.Solve(params)\n",
    "    elif solver=='gurobi':\n",
    "        params_set = m.SetSolverSpecificParametersAsString(\n",
    "                     '''TimeLimit %d\n",
    "                        MIPGapAbs %d''' % ((len(leaf_nodes) / 10), 1e-4))\n",
    "        if params_set:\n",
    "            print('Gurobi solver parameters set successfully.')\n",
    "        status = m.Solve()\n",
    "    if status == OR.Solver.OPTIMAL:\n",
    "        print('Optimal solution found.')\n",
    "        print('Objective value =', m.Objective().Value())\n",
    "    else:\n",
    "        print('Optimal solution was not found - %s' % (status))"
   ]
  },
  {
   "cell_type": "markdown",
   "metadata": {},
   "source": [
    "Before running our model, we first need to format our data to fit the models input. We want to split Georgia into 14 districts. The matrix $A$ is equivalent to `tract_district_matrix`. Lastly, we get a map from root partitions to the relevant leaf nodes; each representing a problem instance."
   ]
  },
  {
   "cell_type": "code",
   "execution_count": null,
   "metadata": {},
   "outputs": [],
   "source": [
    "n_districts = 14\n",
    "tract_district_matrix = make_tdm(leaf_nodes, len(tracts))\n",
    "partition_map = list(make_root_partition_to_leaf_map(leaf_nodes, internal_nodes).items())"
   ]
  },
  {
   "cell_type": "markdown",
   "metadata": {},
   "source": [
    "Unfortunately, this problem is still large enough that the open-source solver we use in this class (CBC) would take a little over an hour to solve all 385 root partitions. For that reason, we will solve a small subset of these root partitions. The function below solves some subset of the root partitions for given cost coefficents and an optimization type."
   ]
  },
  {
   "cell_type": "code",
   "execution_count": null,
   "metadata": {},
   "outputs": [],
   "source": [
    "def solve_root_partitions(cost, opt_type, index_subset):\n",
    "    '''Solve a subset of the root partitions and return a list of each solution.'''\n",
    "    solutions = []\n",
    "    for i in index_subset:\n",
    "        partition_ix, leaf_slice = partition_map[i]\n",
    "        m,x = redistrict(k=n_districts,\n",
    "                         tract_district_matrix=tract_district_matrix[:, leaf_slice],\n",
    "                         cost=np.array(cost)[leaf_slice],\n",
    "                         integer=True,\n",
    "                         opt_type=opt_type,\n",
    "                         solver='CBC')\n",
    "        solve(m, solver='CBC')\n",
    "        opt_cols = [j for j, v in x.items() if v.solution_value() > .5]\n",
    "        solutions.append({'n_leaves': len(leaf_slice),\n",
    "                          'solution_ixs': leaf_slice[opt_cols],\n",
    "                          'optimal_objective': np.array(cost)[leaf_slice][opt_cols]})\n",
    "    return solutions"
   ]
  },
  {
   "cell_type": "markdown",
   "metadata": {},
   "source": [
    "We want to minimize the absolute value of the efficency gap!"
   ]
  },
  {
   "cell_type": "code",
   "execution_count": null,
   "metadata": {},
   "outputs": [],
   "source": [
    "solutions = solve_root_partitions(district_df['efficiency_gap'], 'abs_val', [4,5,6])"
   ]
  },
  {
   "cell_type": "markdown",
   "metadata": {},
   "source": [
    "Now that we have some solutions, we need to pick one of them. The simplest thing to do is pick the one with the smallest efficiency gap."
   ]
  },
  {
   "cell_type": "code",
   "execution_count": null,
   "metadata": {},
   "outputs": [],
   "source": [
    "for sol in solutions:\n",
    "    e_gap = round(district_df.loc[sol['solution_ixs']]['efficiency_gap'].mean(),5)\n",
    "    print(e_gap)"
   ]
  },
  {
   "cell_type": "markdown",
   "metadata": {},
   "source": [
    "**Q10:** Just by looking at the efficiency gap for each of these solutions, which of these is the most fair? \n",
    "\n",
    "**A:** <font color='blue'> The first solution is the most fair because the efficiency gap is almost 0.</font>"
   ]
  },
  {
   "cell_type": "markdown",
   "metadata": {},
   "source": [
    "**Q11:** In the third solution, the efficiency gap is nearly $0.04$. For which party is this an advantage?\n",
    "\n",
    "**A:** <font color='blue'> This favors the The Republican Party. </font>"
   ]
  },
  {
   "cell_type": "markdown",
   "metadata": {},
   "source": [
    "Let's look at each solution graphically since there are only 3!"
   ]
  },
  {
   "cell_type": "code",
   "execution_count": null,
   "metadata": {
    "scrolled": false
   },
   "outputs": [],
   "source": [
    "for sol in solutions:\n",
    "    politics_map(tracts, district_df, leaf_nodes, sol, figsize=(6,6));"
   ]
  },
  {
   "cell_type": "markdown",
   "metadata": {},
   "source": [
    "**Q12:** Do these solutions reflect what you would expect from the efficiency gaps?\n",
    "\n",
    "**A:** <font color='blue'> Yes, both the second and third solution have higher positive efficiency gaps which means more democratic votes were wasted. We can see more evidence of packing in these solutions.</font>"
   ]
  },
  {
   "cell_type": "markdown",
   "metadata": {},
   "source": [
    "## Part IV: Redistricting Georgia (Different Objectives)"
   ]
  },
  {
   "cell_type": "markdown",
   "metadata": {},
   "source": [
    "In **Part III** we minimized the absolute value of the efficiency gap to make things fair. Alternatively, we could use this same tool to gerrymander. For example, if we wanted to gerrymander to favor The Republican Party, we would want to maximize the efficiency gap. Let's do this for the same root partitions we optimized to be fair."
   ]
  },
  {
   "cell_type": "code",
   "execution_count": null,
   "metadata": {},
   "outputs": [],
   "source": [
    "solutions = solve_root_partitions(district_df['efficiency_gap'], 'max', [4,5,6])"
   ]
  },
  {
   "cell_type": "code",
   "execution_count": null,
   "metadata": {},
   "outputs": [],
   "source": [
    "for sol in solutions:\n",
    "    politics_map(tracts, district_df, leaf_nodes, sol, figsize=(6,6));\n",
    "    e_gap = round(district_df.loc[sol['solution_ixs']]['efficiency_gap'].mean(),5)\n",
    "    print(e_gap)"
   ]
  },
  {
   "cell_type": "markdown",
   "metadata": {},
   "source": [
    "**Q13:** How effective was the gerrymandering? How did the most fair solution (6 D, 8 R seats) compare to solution with the highest efficiency gap here? Based on the interpretation of the efficiency gap, does this make sense?\n",
    "\n",
    "**A:** <font color='blue'> There are 11 R seats and only 3 D seats. The efficiency gap was ~$20\\%$ so we would expect the The Republican Party to get $0.20(14) = ~2.8$ more seats and they got 3 more!</font>"
   ]
  },
  {
   "cell_type": "markdown",
   "metadata": {},
   "source": [
    "**Q14:** How was the Democratic vote supressed so heavily?\n",
    "\n",
    "**A:** <font color='blue'> All of the democratic votes were packed into 3 urban districts.</font>"
   ]
  },
  {
   "cell_type": "markdown",
   "metadata": {},
   "source": [
    "**Q15:** Choose the correct cost coefficents and optimization type to gerrymander for The Democratic Party \n",
    "\n",
    "**Note**: We look at a different 3 root partitions here because the previous 3 are hard to gerrymander in the The Democratic Party's favor."
   ]
  },
  {
   "cell_type": "code",
   "execution_count": null,
   "metadata": {},
   "outputs": [],
   "source": [
    "# TODO: Uncomment, and gerrymander for The Democratic Party\n",
    "# solutions = solve_root_partitions(, , [4,110,216])\n",
    "\n",
    "### BEGIN SOLUTION\n",
    "solutions = solve_root_partitions(district_df['efficiency_gap'], 'min', [4,110,216])\n",
    "### END SOLUTION"
   ]
  },
  {
   "cell_type": "code",
   "execution_count": null,
   "metadata": {},
   "outputs": [],
   "source": [
    "for sol in solutions:\n",
    "    politics_map(tracts, district_df, leaf_nodes, sol, figsize=(6,6));\n",
    "    e_gap = round(district_df.loc[sol['solution_ixs']]['efficiency_gap'].mean(),5)\n",
    "    print(e_gap)"
   ]
  },
  {
   "cell_type": "markdown",
   "metadata": {},
   "source": [
    "**Q16:** How effective was the gerrymandering? How did the most fair solution (6 D, 8 R seats) compare to solution with the highest efficiency gap here? Based on the interpretation of the efficiency gap, does this make sense?\n",
    "\n",
    "**A:** <font color='blue'> There are 7 R seats and 7 D seats. The efficiency gap was ~$0.03\\%$ so we would expect the The Republican Party to get $0.03(14) = ~0.42$ more seats and they got 1 more!</font>"
   ]
  },
  {
   "cell_type": "markdown",
   "metadata": {},
   "source": [
    "**Q17:** How was the Republican vote supressed so heavily?\n",
    "\n",
    "**A:** <font color='blue'> The republican votes were heavily packed allowing for the democrats to spread their majority across multiple districts coming into the urban center. </font>"
   ]
  },
  {
   "cell_type": "markdown",
   "metadata": {},
   "source": [
    "Up to this point, we have focused on optimizing around partisanship. However, we could also optimize around other measures like compactness. In  order to do this, we need to decide how to measure compactness. One possible measure is called the Roeck test. First, the smallest circle enclosing the district is found. Then, the area of the district is divded by the area of that circle. More compact districts will have a measure closer to 1. Let's look at some examples."
   ]
  },
  {
   "cell_type": "code",
   "execution_count": null,
   "metadata": {
    "scrolled": false
   },
   "outputs": [],
   "source": [
    "for i in [40339, 215783, 107817]:\n",
    "    ax = tracts.plot(figsize=(6, 6), color='none', edgecolor='black', lw=.25) \n",
    "    tracts.iloc[leaf_nodes[i]['area']].plot(ax=ax, color='green', alpha=.3);\n",
    "    print('Roeck measure: %f' % (district_df.loc[i]['roeck']))"
   ]
  },
  {
   "cell_type": "markdown",
   "metadata": {},
   "source": [
    "**Q18:** Choose the correct cost coefficents and optimization type to maximize the compactness of the districts using the Roeck test. (Hint: the column `roeck` gives the Roeck measure for each district)"
   ]
  },
  {
   "cell_type": "code",
   "execution_count": null,
   "metadata": {},
   "outputs": [],
   "source": [
    "# TODO: Uncomment, and maximize the compactness of the districts\n",
    "# solutions = solve_root_partitions(, , [4,5,6])\n",
    "\n",
    "### BEGIN SOLUTION\n",
    "solutions = solve_root_partitions(district_df['roeck'], 'max', [4,5,6])\n",
    "### END SOLUTION"
   ]
  },
  {
   "cell_type": "code",
   "execution_count": null,
   "metadata": {},
   "outputs": [],
   "source": [
    "for sol in solutions:\n",
    "    politics_map(tracts, district_df, leaf_nodes, sol, figsize=(6,6));\n",
    "    roeck = round(district_df.loc[sol['solution_ixs']]['roeck'].mean(),5)\n",
    "    print(roeck)"
   ]
  },
  {
   "cell_type": "markdown",
   "metadata": {},
   "source": [
    "**Q19:** Which party does maximizing compactness benefit? Why?\n",
    "\n",
    "**A:** <font color='blue'> This benefits The Republican Party because compact districts pack the Democratic majority which is in dense in small urban areas.</font>"
   ]
  },
  {
   "cell_type": "markdown",
   "metadata": {},
   "source": [
    "Another measure of compactness one could use is the number of cut edges. Think back to the adjacency graph. The number of cut edges is the number of edges one would have to remove to make the district a separate component from the rest of the graph. The more cut edges, the less compact the distict is."
   ]
  },
  {
   "cell_type": "markdown",
   "metadata": {},
   "source": [
    "**Q20:** Choose the correct cost coefficents and optimization type to minimize the compactness of the districts using cut edges. (Hint: the column `cut_edges` gives the number of cut edges for each district)"
   ]
  },
  {
   "cell_type": "code",
   "execution_count": null,
   "metadata": {},
   "outputs": [],
   "source": [
    "# TODO: Uncomment, and maximize the compactness of the districts\n",
    "# solutions = solve_root_partitions(, , [4,5,6])\n",
    "\n",
    "### BEGIN SOLUTION\n",
    "solutions = solve_root_partitions(district_df['cut_edges'], 'max', [4,5,6])\n",
    "### END SOLUTION"
   ]
  },
  {
   "cell_type": "code",
   "execution_count": null,
   "metadata": {},
   "outputs": [],
   "source": [
    "for sol in solutions:\n",
    "    politics_map(tracts, district_df, leaf_nodes, sol, figsize=(6,6));\n",
    "    cut_edges = round(district_df.loc[sol['solution_ixs']]['cut_edges'].mean(),5)\n",
    "    print(cut_edges)"
   ]
  }
 ],
 "metadata": {
  "kernelspec": {
   "display_name": "venv",
   "language": "python",
   "name": "venv"
  },
  "language_info": {
   "codemirror_mode": {
    "name": "ipython",
    "version": 3
   },
   "file_extension": ".py",
   "mimetype": "text/x-python",
   "name": "python",
   "nbconvert_exporter": "python",
   "pygments_lexer": "ipython3",
   "version": "3.6.10"
  }
 },
 "nbformat": 4,
 "nbformat_minor": 4
}
