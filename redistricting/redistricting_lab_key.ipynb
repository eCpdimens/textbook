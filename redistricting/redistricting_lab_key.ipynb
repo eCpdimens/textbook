{
 "cells": [
  {
   "cell_type": "markdown",
   "metadata": {},
   "source": [
    "# Redistricting Lab\n",
    "\n",
    "**Objectives**\n",
    " - Introduce students to congressional redistricting and gerrymandering\n",
    " - Introduce students to a new integer programming formulation\n",
    " - Expose students to measures of compactness and the efficiency gap\n",
    " - Give students experience creating congressional districts for differet objectives\n",
    "\n",
    "**Reading:** This lab is based on real congressional redistricting research done by Wes Gurnee and David Shmoys. More information about this research can be found at [fairmandering.org](https://www.fairmandering.org). A more complete description of the algorithm can be found [here](https://www.fairmandering.org/algorithm.html).\n",
    "\n",
    "**Brief description:** In this lab, we will consider a section of a new paper on congressional redistricting. After summarizing the problem of congressional redistricting, we will give a breif overview of the the paper leading up to the relevant section. Lastly, we will explore possible districts for the state of Georgia subject to various objectives.\n",
    "\n",
    "<font color='blue'> <b>Solutions are shown blue.</b> </font> <br>\n",
    "<font color='red'> <b>Instuctor comments are shown in red.</b> </font>"
   ]
  },
  {
   "cell_type": "code",
   "execution_count": 26,
   "metadata": {
    "scrolled": false
   },
   "outputs": [
    {
     "data": {
      "text/html": [
       "\n",
       "    <div class=\"bk-root\">\n",
       "        <a href=\"https://bokeh.org\" target=\"_blank\" class=\"bk-logo bk-logo-small bk-logo-notebook\"></a>\n",
       "        <span id=\"12874\">Loading BokehJS ...</span>\n",
       "    </div>"
      ]
     },
     "metadata": {},
     "output_type": "display_data"
    },
    {
     "data": {
      "application/javascript": [
       "\n",
       "(function(root) {\n",
       "  function now() {\n",
       "    return new Date();\n",
       "  }\n",
       "\n",
       "  var force = true;\n",
       "\n",
       "  if (typeof root._bokeh_onload_callbacks === \"undefined\" || force === true) {\n",
       "    root._bokeh_onload_callbacks = [];\n",
       "    root._bokeh_is_loading = undefined;\n",
       "  }\n",
       "\n",
       "  var JS_MIME_TYPE = 'application/javascript';\n",
       "  var HTML_MIME_TYPE = 'text/html';\n",
       "  var EXEC_MIME_TYPE = 'application/vnd.bokehjs_exec.v0+json';\n",
       "  var CLASS_NAME = 'output_bokeh rendered_html';\n",
       "\n",
       "  /**\n",
       "   * Render data to the DOM node\n",
       "   */\n",
       "  function render(props, node) {\n",
       "    var script = document.createElement(\"script\");\n",
       "    node.appendChild(script);\n",
       "  }\n",
       "\n",
       "  /**\n",
       "   * Handle when an output is cleared or removed\n",
       "   */\n",
       "  function handleClearOutput(event, handle) {\n",
       "    var cell = handle.cell;\n",
       "\n",
       "    var id = cell.output_area._bokeh_element_id;\n",
       "    var server_id = cell.output_area._bokeh_server_id;\n",
       "    // Clean up Bokeh references\n",
       "    if (id != null && id in Bokeh.index) {\n",
       "      Bokeh.index[id].model.document.clear();\n",
       "      delete Bokeh.index[id];\n",
       "    }\n",
       "\n",
       "    if (server_id !== undefined) {\n",
       "      // Clean up Bokeh references\n",
       "      var cmd = \"from bokeh.io.state import curstate; print(curstate().uuid_to_server['\" + server_id + \"'].get_sessions()[0].document.roots[0]._id)\";\n",
       "      cell.notebook.kernel.execute(cmd, {\n",
       "        iopub: {\n",
       "          output: function(msg) {\n",
       "            var id = msg.content.text.trim();\n",
       "            if (id in Bokeh.index) {\n",
       "              Bokeh.index[id].model.document.clear();\n",
       "              delete Bokeh.index[id];\n",
       "            }\n",
       "          }\n",
       "        }\n",
       "      });\n",
       "      // Destroy server and session\n",
       "      var cmd = \"import bokeh.io.notebook as ion; ion.destroy_server('\" + server_id + \"')\";\n",
       "      cell.notebook.kernel.execute(cmd);\n",
       "    }\n",
       "  }\n",
       "\n",
       "  /**\n",
       "   * Handle when a new output is added\n",
       "   */\n",
       "  function handleAddOutput(event, handle) {\n",
       "    var output_area = handle.output_area;\n",
       "    var output = handle.output;\n",
       "\n",
       "    // limit handleAddOutput to display_data with EXEC_MIME_TYPE content only\n",
       "    if ((output.output_type != \"display_data\") || (!output.data.hasOwnProperty(EXEC_MIME_TYPE))) {\n",
       "      return\n",
       "    }\n",
       "\n",
       "    var toinsert = output_area.element.find(\".\" + CLASS_NAME.split(' ')[0]);\n",
       "\n",
       "    if (output.metadata[EXEC_MIME_TYPE][\"id\"] !== undefined) {\n",
       "      toinsert[toinsert.length - 1].firstChild.textContent = output.data[JS_MIME_TYPE];\n",
       "      // store reference to embed id on output_area\n",
       "      output_area._bokeh_element_id = output.metadata[EXEC_MIME_TYPE][\"id\"];\n",
       "    }\n",
       "    if (output.metadata[EXEC_MIME_TYPE][\"server_id\"] !== undefined) {\n",
       "      var bk_div = document.createElement(\"div\");\n",
       "      bk_div.innerHTML = output.data[HTML_MIME_TYPE];\n",
       "      var script_attrs = bk_div.children[0].attributes;\n",
       "      for (var i = 0; i < script_attrs.length; i++) {\n",
       "        toinsert[toinsert.length - 1].firstChild.setAttribute(script_attrs[i].name, script_attrs[i].value);\n",
       "        toinsert[toinsert.length - 1].firstChild.textContent = bk_div.children[0].textContent\n",
       "      }\n",
       "      // store reference to server id on output_area\n",
       "      output_area._bokeh_server_id = output.metadata[EXEC_MIME_TYPE][\"server_id\"];\n",
       "    }\n",
       "  }\n",
       "\n",
       "  function register_renderer(events, OutputArea) {\n",
       "\n",
       "    function append_mime(data, metadata, element) {\n",
       "      // create a DOM node to render to\n",
       "      var toinsert = this.create_output_subarea(\n",
       "        metadata,\n",
       "        CLASS_NAME,\n",
       "        EXEC_MIME_TYPE\n",
       "      );\n",
       "      this.keyboard_manager.register_events(toinsert);\n",
       "      // Render to node\n",
       "      var props = {data: data, metadata: metadata[EXEC_MIME_TYPE]};\n",
       "      render(props, toinsert[toinsert.length - 1]);\n",
       "      element.append(toinsert);\n",
       "      return toinsert\n",
       "    }\n",
       "\n",
       "    /* Handle when an output is cleared or removed */\n",
       "    events.on('clear_output.CodeCell', handleClearOutput);\n",
       "    events.on('delete.Cell', handleClearOutput);\n",
       "\n",
       "    /* Handle when a new output is added */\n",
       "    events.on('output_added.OutputArea', handleAddOutput);\n",
       "\n",
       "    /**\n",
       "     * Register the mime type and append_mime function with output_area\n",
       "     */\n",
       "    OutputArea.prototype.register_mime_type(EXEC_MIME_TYPE, append_mime, {\n",
       "      /* Is output safe? */\n",
       "      safe: true,\n",
       "      /* Index of renderer in `output_area.display_order` */\n",
       "      index: 0\n",
       "    });\n",
       "  }\n",
       "\n",
       "  // register the mime type if in Jupyter Notebook environment and previously unregistered\n",
       "  if (root.Jupyter !== undefined) {\n",
       "    var events = require('base/js/events');\n",
       "    var OutputArea = require('notebook/js/outputarea').OutputArea;\n",
       "\n",
       "    if (OutputArea.prototype.mime_types().indexOf(EXEC_MIME_TYPE) == -1) {\n",
       "      register_renderer(events, OutputArea);\n",
       "    }\n",
       "  }\n",
       "\n",
       "  \n",
       "  if (typeof (root._bokeh_timeout) === \"undefined\" || force === true) {\n",
       "    root._bokeh_timeout = Date.now() + 5000;\n",
       "    root._bokeh_failed_load = false;\n",
       "  }\n",
       "\n",
       "  var NB_LOAD_WARNING = {'data': {'text/html':\n",
       "     \"<div style='background-color: #fdd'>\\n\"+\n",
       "     \"<p>\\n\"+\n",
       "     \"BokehJS does not appear to have successfully loaded. If loading BokehJS from CDN, this \\n\"+\n",
       "     \"may be due to a slow or bad network connection. Possible fixes:\\n\"+\n",
       "     \"</p>\\n\"+\n",
       "     \"<ul>\\n\"+\n",
       "     \"<li>re-rerun `output_notebook()` to attempt to load from CDN again, or</li>\\n\"+\n",
       "     \"<li>use INLINE resources instead, as so:</li>\\n\"+\n",
       "     \"</ul>\\n\"+\n",
       "     \"<code>\\n\"+\n",
       "     \"from bokeh.resources import INLINE\\n\"+\n",
       "     \"output_notebook(resources=INLINE)\\n\"+\n",
       "     \"</code>\\n\"+\n",
       "     \"</div>\"}};\n",
       "\n",
       "  function display_loaded() {\n",
       "    var el = document.getElementById(\"12874\");\n",
       "    if (el != null) {\n",
       "      el.textContent = \"BokehJS is loading...\";\n",
       "    }\n",
       "    if (root.Bokeh !== undefined) {\n",
       "      if (el != null) {\n",
       "        el.textContent = \"BokehJS \" + root.Bokeh.version + \" successfully loaded.\";\n",
       "      }\n",
       "    } else if (Date.now() < root._bokeh_timeout) {\n",
       "      setTimeout(display_loaded, 100)\n",
       "    }\n",
       "  }\n",
       "\n",
       "\n",
       "  function run_callbacks() {\n",
       "    try {\n",
       "      root._bokeh_onload_callbacks.forEach(function(callback) {\n",
       "        if (callback != null)\n",
       "          callback();\n",
       "      });\n",
       "    } finally {\n",
       "      delete root._bokeh_onload_callbacks\n",
       "    }\n",
       "    console.debug(\"Bokeh: all callbacks have finished\");\n",
       "  }\n",
       "\n",
       "  function load_libs(css_urls, js_urls, callback) {\n",
       "    if (css_urls == null) css_urls = [];\n",
       "    if (js_urls == null) js_urls = [];\n",
       "\n",
       "    root._bokeh_onload_callbacks.push(callback);\n",
       "    if (root._bokeh_is_loading > 0) {\n",
       "      console.debug(\"Bokeh: BokehJS is being loaded, scheduling callback at\", now());\n",
       "      return null;\n",
       "    }\n",
       "    if (js_urls == null || js_urls.length === 0) {\n",
       "      run_callbacks();\n",
       "      return null;\n",
       "    }\n",
       "    console.debug(\"Bokeh: BokehJS not loaded, scheduling load and callback at\", now());\n",
       "    root._bokeh_is_loading = css_urls.length + js_urls.length;\n",
       "\n",
       "    function on_load() {\n",
       "      root._bokeh_is_loading--;\n",
       "      if (root._bokeh_is_loading === 0) {\n",
       "        console.debug(\"Bokeh: all BokehJS libraries/stylesheets loaded\");\n",
       "        run_callbacks()\n",
       "      }\n",
       "    }\n",
       "\n",
       "    function on_error() {\n",
       "      console.error(\"failed to load \" + url);\n",
       "    }\n",
       "\n",
       "    for (var i = 0; i < css_urls.length; i++) {\n",
       "      var url = css_urls[i];\n",
       "      const element = document.createElement(\"link\");\n",
       "      element.onload = on_load;\n",
       "      element.onerror = on_error;\n",
       "      element.rel = \"stylesheet\";\n",
       "      element.type = \"text/css\";\n",
       "      element.href = url;\n",
       "      console.debug(\"Bokeh: injecting link tag for BokehJS stylesheet: \", url);\n",
       "      document.body.appendChild(element);\n",
       "    }\n",
       "\n",
       "    const hashes = {\"https://cdn.bokeh.org/bokeh/release/bokeh-2.2.3.min.js\": \"T2yuo9Oe71Cz/I4X9Ac5+gpEa5a8PpJCDlqKYO0CfAuEszu1JrXLl8YugMqYe3sM\", \"https://cdn.bokeh.org/bokeh/release/bokeh-widgets-2.2.3.min.js\": \"98GDGJ0kOMCUMUePhksaQ/GYgB3+NH9h996V88sh3aOiUNX3N+fLXAtry6xctSZ6\", \"https://cdn.bokeh.org/bokeh/release/bokeh-tables-2.2.3.min.js\": \"89bArO+nlbP3sgakeHjCo1JYxYR5wufVgA3IbUvDY+K7w4zyxJqssu7wVnfeKCq8\"};\n",
       "\n",
       "    for (var i = 0; i < js_urls.length; i++) {\n",
       "      var url = js_urls[i];\n",
       "      var element = document.createElement('script');\n",
       "      element.onload = on_load;\n",
       "      element.onerror = on_error;\n",
       "      element.async = false;\n",
       "      element.src = url;\n",
       "      if (url in hashes) {\n",
       "        element.crossOrigin = \"anonymous\";\n",
       "        element.integrity = \"sha384-\" + hashes[url];\n",
       "      }\n",
       "      console.debug(\"Bokeh: injecting script tag for BokehJS library: \", url);\n",
       "      document.head.appendChild(element);\n",
       "    }\n",
       "  };\n",
       "\n",
       "  function inject_raw_css(css) {\n",
       "    const element = document.createElement(\"style\");\n",
       "    element.appendChild(document.createTextNode(css));\n",
       "    document.body.appendChild(element);\n",
       "  }\n",
       "\n",
       "  \n",
       "  var js_urls = [\"https://cdn.bokeh.org/bokeh/release/bokeh-2.2.3.min.js\", \"https://cdn.bokeh.org/bokeh/release/bokeh-widgets-2.2.3.min.js\", \"https://cdn.bokeh.org/bokeh/release/bokeh-tables-2.2.3.min.js\"];\n",
       "  var css_urls = [];\n",
       "  \n",
       "\n",
       "  var inline_js = [\n",
       "    function(Bokeh) {\n",
       "      Bokeh.set_log_level(\"info\");\n",
       "    },\n",
       "    function(Bokeh) {\n",
       "    \n",
       "    \n",
       "    }\n",
       "  ];\n",
       "\n",
       "  function run_inline_js() {\n",
       "    \n",
       "    if (root.Bokeh !== undefined || force === true) {\n",
       "      \n",
       "    for (var i = 0; i < inline_js.length; i++) {\n",
       "      inline_js[i].call(root, root.Bokeh);\n",
       "    }\n",
       "    if (force === true) {\n",
       "        display_loaded();\n",
       "      }} else if (Date.now() < root._bokeh_timeout) {\n",
       "      setTimeout(run_inline_js, 100);\n",
       "    } else if (!root._bokeh_failed_load) {\n",
       "      console.log(\"Bokeh: BokehJS failed to load within specified timeout.\");\n",
       "      root._bokeh_failed_load = true;\n",
       "    } else if (force !== true) {\n",
       "      var cell = $(document.getElementById(\"12874\")).parents('.cell').data().cell;\n",
       "      cell.output_area.append_execute_result(NB_LOAD_WARNING)\n",
       "    }\n",
       "\n",
       "  }\n",
       "\n",
       "  if (root._bokeh_is_loading === 0) {\n",
       "    console.debug(\"Bokeh: BokehJS loaded, going straight to plotting\");\n",
       "    run_inline_js();\n",
       "  } else {\n",
       "    load_libs(css_urls, js_urls, function() {\n",
       "      console.debug(\"Bokeh: BokehJS plotting callback run at\", now());\n",
       "      run_inline_js();\n",
       "    });\n",
       "  }\n",
       "}(window));"
      ],
      "application/vnd.bokehjs_load.v0+json": "\n(function(root) {\n  function now() {\n    return new Date();\n  }\n\n  var force = true;\n\n  if (typeof root._bokeh_onload_callbacks === \"undefined\" || force === true) {\n    root._bokeh_onload_callbacks = [];\n    root._bokeh_is_loading = undefined;\n  }\n\n  \n\n  \n  if (typeof (root._bokeh_timeout) === \"undefined\" || force === true) {\n    root._bokeh_timeout = Date.now() + 5000;\n    root._bokeh_failed_load = false;\n  }\n\n  var NB_LOAD_WARNING = {'data': {'text/html':\n     \"<div style='background-color: #fdd'>\\n\"+\n     \"<p>\\n\"+\n     \"BokehJS does not appear to have successfully loaded. If loading BokehJS from CDN, this \\n\"+\n     \"may be due to a slow or bad network connection. Possible fixes:\\n\"+\n     \"</p>\\n\"+\n     \"<ul>\\n\"+\n     \"<li>re-rerun `output_notebook()` to attempt to load from CDN again, or</li>\\n\"+\n     \"<li>use INLINE resources instead, as so:</li>\\n\"+\n     \"</ul>\\n\"+\n     \"<code>\\n\"+\n     \"from bokeh.resources import INLINE\\n\"+\n     \"output_notebook(resources=INLINE)\\n\"+\n     \"</code>\\n\"+\n     \"</div>\"}};\n\n  function display_loaded() {\n    var el = document.getElementById(\"12874\");\n    if (el != null) {\n      el.textContent = \"BokehJS is loading...\";\n    }\n    if (root.Bokeh !== undefined) {\n      if (el != null) {\n        el.textContent = \"BokehJS \" + root.Bokeh.version + \" successfully loaded.\";\n      }\n    } else if (Date.now() < root._bokeh_timeout) {\n      setTimeout(display_loaded, 100)\n    }\n  }\n\n\n  function run_callbacks() {\n    try {\n      root._bokeh_onload_callbacks.forEach(function(callback) {\n        if (callback != null)\n          callback();\n      });\n    } finally {\n      delete root._bokeh_onload_callbacks\n    }\n    console.debug(\"Bokeh: all callbacks have finished\");\n  }\n\n  function load_libs(css_urls, js_urls, callback) {\n    if (css_urls == null) css_urls = [];\n    if (js_urls == null) js_urls = [];\n\n    root._bokeh_onload_callbacks.push(callback);\n    if (root._bokeh_is_loading > 0) {\n      console.debug(\"Bokeh: BokehJS is being loaded, scheduling callback at\", now());\n      return null;\n    }\n    if (js_urls == null || js_urls.length === 0) {\n      run_callbacks();\n      return null;\n    }\n    console.debug(\"Bokeh: BokehJS not loaded, scheduling load and callback at\", now());\n    root._bokeh_is_loading = css_urls.length + js_urls.length;\n\n    function on_load() {\n      root._bokeh_is_loading--;\n      if (root._bokeh_is_loading === 0) {\n        console.debug(\"Bokeh: all BokehJS libraries/stylesheets loaded\");\n        run_callbacks()\n      }\n    }\n\n    function on_error() {\n      console.error(\"failed to load \" + url);\n    }\n\n    for (var i = 0; i < css_urls.length; i++) {\n      var url = css_urls[i];\n      const element = document.createElement(\"link\");\n      element.onload = on_load;\n      element.onerror = on_error;\n      element.rel = \"stylesheet\";\n      element.type = \"text/css\";\n      element.href = url;\n      console.debug(\"Bokeh: injecting link tag for BokehJS stylesheet: \", url);\n      document.body.appendChild(element);\n    }\n\n    const hashes = {\"https://cdn.bokeh.org/bokeh/release/bokeh-2.2.3.min.js\": \"T2yuo9Oe71Cz/I4X9Ac5+gpEa5a8PpJCDlqKYO0CfAuEszu1JrXLl8YugMqYe3sM\", \"https://cdn.bokeh.org/bokeh/release/bokeh-widgets-2.2.3.min.js\": \"98GDGJ0kOMCUMUePhksaQ/GYgB3+NH9h996V88sh3aOiUNX3N+fLXAtry6xctSZ6\", \"https://cdn.bokeh.org/bokeh/release/bokeh-tables-2.2.3.min.js\": \"89bArO+nlbP3sgakeHjCo1JYxYR5wufVgA3IbUvDY+K7w4zyxJqssu7wVnfeKCq8\"};\n\n    for (var i = 0; i < js_urls.length; i++) {\n      var url = js_urls[i];\n      var element = document.createElement('script');\n      element.onload = on_load;\n      element.onerror = on_error;\n      element.async = false;\n      element.src = url;\n      if (url in hashes) {\n        element.crossOrigin = \"anonymous\";\n        element.integrity = \"sha384-\" + hashes[url];\n      }\n      console.debug(\"Bokeh: injecting script tag for BokehJS library: \", url);\n      document.head.appendChild(element);\n    }\n  };\n\n  function inject_raw_css(css) {\n    const element = document.createElement(\"style\");\n    element.appendChild(document.createTextNode(css));\n    document.body.appendChild(element);\n  }\n\n  \n  var js_urls = [\"https://cdn.bokeh.org/bokeh/release/bokeh-2.2.3.min.js\", \"https://cdn.bokeh.org/bokeh/release/bokeh-widgets-2.2.3.min.js\", \"https://cdn.bokeh.org/bokeh/release/bokeh-tables-2.2.3.min.js\"];\n  var css_urls = [];\n  \n\n  var inline_js = [\n    function(Bokeh) {\n      Bokeh.set_log_level(\"info\");\n    },\n    function(Bokeh) {\n    \n    \n    }\n  ];\n\n  function run_inline_js() {\n    \n    if (root.Bokeh !== undefined || force === true) {\n      \n    for (var i = 0; i < inline_js.length; i++) {\n      inline_js[i].call(root, root.Bokeh);\n    }\n    if (force === true) {\n        display_loaded();\n      }} else if (Date.now() < root._bokeh_timeout) {\n      setTimeout(run_inline_js, 100);\n    } else if (!root._bokeh_failed_load) {\n      console.log(\"Bokeh: BokehJS failed to load within specified timeout.\");\n      root._bokeh_failed_load = true;\n    } else if (force !== true) {\n      var cell = $(document.getElementById(\"12874\")).parents('.cell').data().cell;\n      cell.output_area.append_execute_result(NB_LOAD_WARNING)\n    }\n\n  }\n\n  if (root._bokeh_is_loading === 0) {\n    console.debug(\"Bokeh: BokehJS loaded, going straight to plotting\");\n    run_inline_js();\n  } else {\n    load_libs(css_urls, js_urls, function() {\n      console.debug(\"Bokeh: BokehJS plotting callback run at\", now());\n      run_inline_js();\n    });\n  }\n}(window));"
     },
     "metadata": {},
     "output_type": "display_data"
    }
   ],
   "source": [
    "# imports -- don't forget to run this cell!\n",
    "from redistricting import *\n",
    "import networkx as nx\n",
    "from ortools.linear_solver import pywraplp as OR\n",
    "from bokeh.io import output_notebook, show\n",
    "output_notebook()"
   ]
  },
  {
   "cell_type": "markdown",
   "metadata": {},
   "source": [
    "# Part I: Redistricting, Gerrymandering, and the Efficiency Gap"
   ]
  },
  {
   "cell_type": "markdown",
   "metadata": {},
   "source": [
    "Every 10 years in the US, following the census, the process of *reapportionment* determines how the 435 representatives in the House of Representatives will be distributed among the 50 states. Depending on population shifts, a state may lose or gain a representative. Each state is divided in to electoral districts; one for each representative. Hence, after reapportionment, states *redistrict* to redraw the electoral district boundaries. These boundaries are drawn subject to a few federal constraints:\n",
    "\n",
    "- Districts must have roughly the same population (total state population / number of representatives).\n",
    "- They must be compact and contiguous.\n",
    "- You can not divide minorities across multiple districts (cracking) or have a district in which they are the majority (packing).\n",
    "\n",
    "You may have noticed that there is no restriction on packing or cracking political parties. These two strategies are common in a phenomenon known as *gerrymandering*. Gerrymandering is the process of redrawing these electoral district boundaries to give one political party an advantage over another. In the diagram below, you can see an example of both cracking in packing. "
   ]
  },
  {
   "cell_type": "markdown",
   "metadata": {},
   "source": [
    "<img src=\"images/gerrymandering.png\" width=600 height=300 />\n",
    "\n",
    "*Taken from [The Washington Post](https://www.washingtonpost.com/news/wonk/wp/2015/03/01/this-is-the-best-explanation-of-gerrymandering-you-will-ever-see/)*"
   ]
  },
  {
   "cell_type": "markdown",
   "metadata": {},
   "source": [
    "Each district shoud have 10 squares. On the right, the two U-shaped districts are packed with blue squares (9/10). The remaining blue squares are then cracked by splitting them among the remaining districts. Even though red is the minority, gerrymandering allow them to have a majority of the districts.\n",
    "\n",
    "To address this, some states have introduced restrictings aganist this. However, it is hard to police. How can you prove that someone gerrymandered or not? We will look at one fairness metric that has received a lot of attention called the *efficiency gap*. Essentially, the efficiency gap tracks to types of \"wasted\" votes: lost votes for the losing canidate and excess votes (above 50%) for the winning canidate. "
   ]
  },
  {
   "cell_type": "markdown",
   "metadata": {},
   "source": [
    "**Q1:** Consider each square in diagram (3) above a vote. How many wasted votes does blue have? How many are lost votes and how many are excess votes? How does this compare to red?\n",
    "\n",
    "**A:** <font color='blue'> There are 4 lost votes in each of the 3 red-winning districts and 4 excess votes in each of the 2 blue-winning districts for a total of 20 wasted votes. Conversely, red has 2 lost votes and 3 excess votes for a total of 5 wasted votes. There are many more wasted blue votes. </font>"
   ]
  },
  {
   "cell_type": "markdown",
   "metadata": {},
   "source": [
    "Now that we know the total wasted votes for each party, we can compute the efficiency gap as follows:\n",
    "\n",
    "$$\\text{Efficiency Gap} = \\frac{\\text{Total Wasted Blue Votes} - \\text{Total Wasted Red Votes}}{\\text{Total Votes}}$$"
   ]
  },
  {
   "cell_type": "markdown",
   "metadata": {},
   "source": [
    "**Q2:** Continuing with our example, what is the efficiency gap?\n",
    "\n",
    "**A:** <font color='blue'> The efficiency gap is $(20 - 5) / 50 = 0.30$.</font>"
   ]
  },
  {
   "cell_type": "markdown",
   "metadata": {},
   "source": [
    "You should have found the efficiency gap to be $0.30$. This has the following interpretation: the red party won $30\\%$ more seats than they should have. $30\\%$ of $5$ is $1.5$. They should have won 2 seats but they managed to win an additional seat. If everything were perfectly fair, the efficiency gap would be 0. However, perfect equality is impossible. The authors of the efficiency gap, Stephanopoulos and McGhee, propose $\\pm2\\%$ for congressional redistricting."
   ]
  },
  {
   "cell_type": "markdown",
   "metadata": {},
   "source": [
    "## Part II: Fairmandering: How to Redistrict Fairly"
   ]
  },
  {
   "cell_type": "code",
   "execution_count": 44,
   "metadata": {},
   "outputs": [],
   "source": [
    "# show(grid_plot(small_example))\n",
    "# show(grid_plot(large_example))\n",
    "# plot_feasible_districts(small_example,3)\n",
    "\n",
    "# district_df = create_districts_df(large_example, 7)\n",
    "# A = grid_district_matrix(large_example, 7)\n",
    "\n",
    "# plot_grid_districts(large_example, district_df, [983])\n",
    "\n",
    "# m,x = redistrict(6, A, district_df['efficiency_gap'], integer=True, opt_type='min', solver='CBC')\n",
    "# solve(m, solver='CBC')\n",
    "# sol = [i for i, v in x.items() if v.solution_value() > .5]\n",
    "\n",
    "# plot_grid_districts(large_example, district_df, sol)"
   ]
  },
  {
   "cell_type": "markdown",
   "metadata": {},
   "source": [
    "<font color='red'> Do census tracts have to reside in one district or was this just your approach?</font>\n",
    "\n",
    "Each state is divided in to census tracts with a population of approximatly 4,000 for the purpose of taking the census. Given a number of representatives $k$, redistricting consists of assigning each of these census tracts to a district subject to compactness and continuity. Subject to these constraints, we could optimize by minimizing the absolute value of the efficiency gap. However, the scale prevents us from formulating a single IP to tackle this whole problem. Below, we load the census tracts for Georgia."
   ]
  },
  {
   "cell_type": "code",
   "execution_count": null,
   "metadata": {},
   "outputs": [],
   "source": [
    "tracts = load_tract_shapes()\n",
    "tracts.plot(figsize=(10, 10), color='none', edgecolor='black', lw=.25);\n",
    "print('There are %d census tracts in Georgia' % (len(tracts)))"
   ]
  },
  {
   "cell_type": "markdown",
   "metadata": {},
   "source": [
    "To keep track of continuity, we can create an adjacency graph where there is a node for each census tract and an edge between two nodes if and only if those census tracts are geographically adjacent."
   ]
  },
  {
   "cell_type": "code",
   "execution_count": null,
   "metadata": {},
   "outputs": [],
   "source": [
    "adjacency_graph = load_graph()\n",
    "draw_adjacency_graph(tracts, adjacency_graph, figsize=(10, 10));\n",
    "print('The adjacency graph has %d nodes and %d edges.' % (len(adjacency_graph.nodes), len(adjacency_graph.edges)))"
   ]
  },
  {
   "cell_type": "markdown",
   "metadata": {},
   "source": [
    "Using this adjacency graph, we can generate a list of all feasible districts. We now have a set of census tracts $i \\in T$ and a set of feasible districts $j \\in D$. Furthermore, we have a matrix $A$ where $a_{ij} = 1$ if and only if census tract $i$ is contained within district $j$. We can compute the efficiency gap $c_j$ for each feasible district $j \\in D$. The following formulation then chooses a final set of $k$ districts:\n",
    "\n",
    "$$\\begin{align*}\n",
    "\\min \\quad & \\left| \\enspace \\sum_{j \\in D} c_jx_j \\enspace \\right| \\\\\n",
    "\\text{s.t.} \\quad &  \\sum_{j \\in D} a_{ij}x_j = 1 \\quad \\forall i \\in T & (1)\\\\\n",
    "\\quad &  \\sum_{j \\in D}  x_j = k & (2)\\\\\n",
    "\\quad & x_j \\in \\{0,1\\} \\quad \\forall j \\in D & (3)\\\\\n",
    "\\end{align*}$$"
   ]
  },
  {
   "cell_type": "markdown",
   "metadata": {},
   "source": [
    "**Q3:** What are the decision variables? What does their value represent?\n",
    "\n",
    "**A:** <font color='blue'> The decision variables are $x_j$ for every district $j \\in D$. The value of $x_j$ is 1 when district $j$ is chosen to be used.</font>"
   ]
  },
  {
   "cell_type": "markdown",
   "metadata": {},
   "source": [
    "**Q4:** What does constraint (1) enforce?\n",
    "\n",
    "**A:** <font color='blue'> Constraint (1) enforces that each census tract $i$ is in exactly one of the selected districts.</font>"
   ]
  },
  {
   "cell_type": "markdown",
   "metadata": {},
   "source": [
    "**Q5:** What does constraint (2) enforce?\n",
    "\n",
    "**A:** <font color='blue'> Constraint (2) enforces that exactly $k$ districts are selected.</font>"
   ]
  },
  {
   "cell_type": "markdown",
   "metadata": {},
   "source": [
    "**Q6:** Is this formulation an integer linear program? Why or why not?\n",
    "\n",
    "**A:** <font color='blue'>No, the objective function is not linear because it has an absolute value.</font>"
   ]
  },
  {
   "cell_type": "markdown",
   "metadata": {},
   "source": [
    "It turns out there is a special trick for encoding an absolute value in a linear program. Consider the simpler example of maximizing $x$. We can introduce a new variable $w$ and enforce the constraints $x \\leq w$ and $x \\geq -w$. Now, we can just minimize $w$ as our objective function. Do you see why this works? After introducing this trick into our formulation, we get the following integer linear program (ILP):\n",
    "\n",
    "$$\\begin{align*}\n",
    "\\min \\quad & w \\\\\n",
    "\\text{s.t.} \\quad &  \\sum_{j \\in D} a_{ij}x_j = 1 \\quad \\forall i \\in T & (1)\\\\\n",
    "\\quad &  \\sum_{j \\in D}  x_j = k & (2)\\\\\n",
    "\\quad & \\sum_{j \\in D} c_jx_j \\leq w & (3) \\\\\n",
    "\\quad & \\sum_{j \\in D} c_jx_j \\geq -w & (4) \\\\\n",
    "\\quad & x_j \\in \\{0,1\\} \\quad \\forall j \\in D & (5)\\\\\n",
    "\\end{align*}$$"
   ]
  },
  {
   "cell_type": "markdown",
   "metadata": {},
   "source": [
    "**Q7:** How many variables does this ILP have? Do you think this ILP is reasonable as is for a state with nearly 2000 census tracts? (Hint: How many feaisble districts do you think that would generate?)\n",
    "\n",
    "**A:** <font color='blue'> The number of feasible districts plus one. This is not reasonable as is because there would be way too many variables!</font>"
   ]
  },
  {
   "cell_type": "markdown",
   "metadata": {},
   "source": [
    "The paper by Wes Gurnee and David Shmoys addressee this very issue! They formualated a structured way of generating a large number of compatible feasible districts (though small relative to the total number possible). We won't go in to detail about this process but here is a breif overview.\n",
    "\n",
    "Esssentially, the state is divided into some number of smaller regions (partitioned) some number of times (385 in the case of this Georgia example). For each of these partitions, this process is repeated until the size of the regions is appropriate for the size of a district. Here is a small section of sample tree: "
   ]
  },
  {
   "cell_type": "markdown",
   "metadata": {},
   "source": [
    "<img src=\"images/sample_tree.png\" width=650 height=300 />\n",
    "\n",
    "*Taken from [fairmandering.org](https://www.fairmandering.org/algorithm.html)*"
   ]
  },
  {
   "cell_type": "markdown",
   "metadata": {},
   "source": [
    "The root of this tree is the entire state. In the first layer of the tree, you have the first partitions (which we call root partitions). In the last layer of the tree (also called the leaf nodes), the partions represent the feasible districts. Just one more piece of vocabulary! If you can follow a path directly down from one node $a$ to another $b$, we say that $a$ is a ancestor of $b$. For example, the middle root partition is an ancestor of every shown leaf. The right and left root partitions are **not** ancestors of any shown leaf."
   ]
  },
  {
   "cell_type": "markdown",
   "metadata": {},
   "source": [
    "**Q8:** Can two districts who have different root partition ancestors be used in the same plan together? Why or why not?\n",
    "\n",
    "**A:** <font color='blue'> No, the \"puzzle pieces\" would not fit!</font>"
   ]
  },
  {
   "cell_type": "markdown",
   "metadata": {},
   "source": [
    "In **Q8**, you should have argued that they would not be compatible. Hence, we solve this optimization problem for each of the root partitions. Each root partition is the ancestor of some subset of the leafs which represent feasible districts. For each root partition, we can use these feasible districts as the input to the ILP we described! Let's try it out!"
   ]
  },
  {
   "cell_type": "markdown",
   "metadata": {},
   "source": [
    "## Part III: Redistricting Georgia"
   ]
  },
  {
   "cell_type": "markdown",
   "metadata": {},
   "source": [
    "First, let's look at some of the data we have. The dataframes below give us some statistics and past election results for each census tract."
   ]
  },
  {
   "cell_type": "code",
   "execution_count": null,
   "metadata": {},
   "outputs": [],
   "source": [
    "tract_stats = load_state_df()\n",
    "display(tract_stats.head())\n",
    "tract_results = load_election_df()\n",
    "display(tract_results.head())"
   ]
  },
  {
   "cell_type": "code",
   "execution_count": null,
   "metadata": {},
   "outputs": [],
   "source": [
    "# Plot 2016 presidential election results\n",
    "tracts['2016_pres'] = tract_results.apply(lambda x: x.R_pres_2016 / (x.R_pres_2016 + x.D_pres_2016), axis=1)\n",
    "tracts.plot(column='2016_pres', cmap='seismic', vmin=0, vmax=1, figsize=(15, 10));"
   ]
  },
  {
   "cell_type": "markdown",
   "metadata": {},
   "source": [
    "We skipped a lot of complexity involved in generating a sample tree. For the sake of this lab, this data has been given to us."
   ]
  },
  {
   "cell_type": "code",
   "execution_count": null,
   "metadata": {},
   "outputs": [],
   "source": [
    "leaf_nodes = pickle.load(open('data/leaf_nodes.p', 'rb'))\n",
    "internal_nodes = pickle.load(open('data/internal_nodes.p', 'rb'))\n",
    "print('There are %d root partitions and %d feasible districts.' % (len(internal_nodes[0]['children_ids']), \n",
    "                                                                   len(leaf_nodes)))"
   ]
  },
  {
   "cell_type": "code",
   "execution_count": null,
   "metadata": {},
   "outputs": [],
   "source": [
    "# change i (0..215784) to highlight different feasible districts corresponding to the leaf nodes\n",
    "i = 0\n",
    "ax = tracts.plot(figsize=(10, 10), color='none', edgecolor='black', lw=.25) \n",
    "tracts.iloc[leaf_nodes[i]['area']].plot(ax=ax, color='green', alpha=.3);"
   ]
  },
  {
   "cell_type": "markdown",
   "metadata": {},
   "source": [
    "For each feasible district, we can aggregate over the census tract statistics contained within it to get statistics for each feasible district. In addition to the aggregate statistics, we have also computed some measures of compactness: `roeck`, `edge_ratio`, and `cut_edges` (which we will discuss later) and the efficiency gap for each district."
   ]
  },
  {
   "cell_type": "code",
   "execution_count": null,
   "metadata": {},
   "outputs": [],
   "source": [
    "district_df = pd.read_csv(os.path.join('data', 'ga_district_df.csv'))\n",
    "district_df['efficiency_gap'] = efficiency_gap_coefficients(district_df, .53)\n",
    "display(district_df.head())"
   ]
  },
  {
   "cell_type": "markdown",
   "metadata": {},
   "source": [
    "**Q9:** Complete the model below by implementing the $k$ total districts constraint."
   ]
  },
  {
   "cell_type": "code",
   "execution_count": null,
   "metadata": {},
   "outputs": [],
   "source": [
    "def redistrict(k, tract_district_matrix, cost, integer=False, opt_type='abs_val', solver='CBC'):\n",
    "    \"\"\"A model for solving a congressional redistricting problem.\n",
    "    \n",
    "    Args:\n",
    "        k (int): number of districts in a plan\n",
    "        tract_district_matrix (np.ndarray): binary matrix a_ij = 1 if tract i is in district j\n",
    "        costs (np.ndarray): cost coefficients of districts\n",
    "        opt_type (str): {\"minimize\", \"maximize\", \"abs_val\"}\n",
    "        solver (str) : {\"CBC\", \"gurobi\"}\n",
    "    \"\"\"\n",
    "    n_tracts, n_columns = tract_district_matrix.shape\n",
    "    TRACTS = range(n_tracts)\n",
    "    DISTRICTS = range(n_columns)\n",
    "    \n",
    "    # define the model\n",
    "    if solver=='CBC':\n",
    "        m = OR.Solver('redistrict', OR.Solver.CBC_MIXED_INTEGER_PROGRAMMING)        \n",
    "    elif solver=='gurobi':\n",
    "        m = OR.Solver('redistrict', OR.Solver.GUROBI_MIXED_INTEGER_PROGRAMMING)\n",
    "    else:\n",
    "        raise ValueError('Invalid solver')\n",
    "\n",
    "    # decision variables\n",
    "    x = {} # x_i is 1 if district i is used, 0 otherwise\n",
    "    for d in DISTRICTS:\n",
    "        if integer:\n",
    "            x[d] = m.IntVar(0, 1, name=\"x(%s)\" % d)\n",
    "        else:\n",
    "            x[d] = m.NumVar(0, 1, name=\"x(%s)\" % d)\n",
    "\n",
    "    # objective function\n",
    "    if opt_type == 'min':\n",
    "        m.Minimize(sum(cost[d] * x[d] for d in DISTRICTS))\n",
    "    elif opt_type == 'max':\n",
    "        m.Maximize(sum(cost[d] * x[d] for d in DISTRICTS))\n",
    "    elif opt_type == 'abs_val':\n",
    "        w = m.NumVar(-k, k, name=\"w\")\n",
    "        m.Add(sum(cost[d] * x[d] for d in DISTRICTS) <= w, name='absval_pos')\n",
    "        m.Add(sum(cost[d] * x[d] for d in DISTRICTS) >= -w, name='absval_neg')\n",
    "        m.Minimize(w)\n",
    "    else:\n",
    "        raise ValueError('Invalid optimization type')\n",
    "\n",
    "    # subject to: each census tract appears in exactly one district\n",
    "    for t in TRACTS:    \n",
    "        m.Add(sum(x[d] * tract_district_matrix[t,d] for d in DISTRICTS) == 1)\n",
    "\n",
    "    # subject to: k total districts\n",
    "    # TODO: Implement this constraint\n",
    "    \n",
    "    ### BEGIN SOLUTION\n",
    "    m.Add(sum(x[d] for d in DISTRICTS) == k)\n",
    "    ### END SOLUTION\n",
    "\n",
    "    return m,x"
   ]
  },
  {
   "cell_type": "code",
   "execution_count": null,
   "metadata": {},
   "outputs": [],
   "source": [
    "# You do not need to pay attention to this cell but make sure you run it!\n",
    "def solve(m, solver='CBC'):\n",
    "    \"\"\"Solve the model and specify some solver parameters.\"\"\"\n",
    "    if solver=='CBC':\n",
    "        m.SetTimeLimit(int(len(leaf_nodes) / 10))\n",
    "        params = OR.MPSolverParameters()\n",
    "        params.SetDoubleParam(params.RELATIVE_MIP_GAP, 1e-4)\n",
    "        status = m.Solve(params)\n",
    "    elif solver=='gurobi':\n",
    "        params_set = m.SetSolverSpecificParametersAsString(\n",
    "                     '''TimeLimit %d\n",
    "                        MIPGapAbs %d''' % ((len(leaf_nodes) / 10), 1e-4))\n",
    "        if params_set:\n",
    "            print('Gurobi solver parameters set successfully.')\n",
    "        status = m.Solve()\n",
    "    if status == OR.Solver.OPTIMAL:\n",
    "        print('Optimal solution found.')\n",
    "        print('Objective value =', m.Objective().Value())\n",
    "    else:\n",
    "        print('Optimal solution was not found - %s' % (status))"
   ]
  },
  {
   "cell_type": "markdown",
   "metadata": {},
   "source": [
    "Before running our model, we first need to format our data to fit the models input. We want to split Georgia into 14 districts. The matrix $A$ is equivalent to `tract_district_matrix`. Lastly, we get a map from root partitions to the relevant leaf nodes; each representing a problem instance."
   ]
  },
  {
   "cell_type": "code",
   "execution_count": null,
   "metadata": {},
   "outputs": [],
   "source": [
    "n_districts = 14\n",
    "tract_district_matrix = make_tdm(leaf_nodes, len(tracts))\n",
    "partition_map = list(make_root_partition_to_leaf_map(leaf_nodes, internal_nodes).items())"
   ]
  },
  {
   "cell_type": "markdown",
   "metadata": {},
   "source": [
    "Unfortunately, this problem is still large enough that the open-source solver we use in this class (CBC) would take a little over an hour to solve all 385 root partitions. For that reason, we will solve a small subset of these root partitions. The function below solves some subset of the root partitions for given cost coefficents and an optimization type."
   ]
  },
  {
   "cell_type": "code",
   "execution_count": null,
   "metadata": {},
   "outputs": [],
   "source": [
    "def solve_root_partitions(cost, opt_type, index_subset):\n",
    "    '''Solve a subset of the root partitions and return a list of each solution.'''\n",
    "    solutions = []\n",
    "    for i in index_subset:\n",
    "        partition_ix, leaf_slice = partition_map[i]\n",
    "        m,x = redistrict(k=n_districts,\n",
    "                         tract_district_matrix=tract_district_matrix[:, leaf_slice],\n",
    "                         cost=np.array(cost)[leaf_slice],\n",
    "                         integer=True,\n",
    "                         opt_type=opt_type,\n",
    "                         solver='CBC')\n",
    "        solve(m, solver='CBC')\n",
    "        opt_cols = [j for j, v in x.items() if v.solution_value() > .5]\n",
    "        solutions.append({'n_leaves': len(leaf_slice),\n",
    "                          'solution_ixs': leaf_slice[opt_cols],\n",
    "                          'optimal_objective': np.array(cost)[leaf_slice][opt_cols]})\n",
    "    return solutions"
   ]
  },
  {
   "cell_type": "markdown",
   "metadata": {},
   "source": [
    "We want to minimize the absolute value of the efficency gap!"
   ]
  },
  {
   "cell_type": "code",
   "execution_count": null,
   "metadata": {},
   "outputs": [],
   "source": [
    "solutions = solve_root_partitions(district_df['efficiency_gap'], 'abs_val', [4,5,6])"
   ]
  },
  {
   "cell_type": "markdown",
   "metadata": {},
   "source": [
    "Now that we have some solutions, we need to pick one of them. The simplest thing to do is pick the one with the smallest efficiency gap."
   ]
  },
  {
   "cell_type": "code",
   "execution_count": null,
   "metadata": {},
   "outputs": [],
   "source": [
    "for sol in solutions:\n",
    "    e_gap = round(district_df.loc[sol['solution_ixs']]['efficiency_gap'].mean(),5)\n",
    "    print(e_gap)"
   ]
  },
  {
   "cell_type": "markdown",
   "metadata": {},
   "source": [
    "**Q10:** Just by looking at the efficiency gap for each of these solutions, which of these is the most fair? \n",
    "\n",
    "**A:** <font color='blue'> The first solution is the most fair because the efficiency gap is almost 0.</font>"
   ]
  },
  {
   "cell_type": "markdown",
   "metadata": {},
   "source": [
    "**Q11:** In the third solution, the efficiency gap is nearly $0.04$. For which party is this an advantage?\n",
    "\n",
    "**A:** <font color='blue'> This favors the The Republican Party. </font>"
   ]
  },
  {
   "cell_type": "markdown",
   "metadata": {},
   "source": [
    "Let's look at each solution graphically since there are only 3!"
   ]
  },
  {
   "cell_type": "code",
   "execution_count": null,
   "metadata": {
    "scrolled": false
   },
   "outputs": [],
   "source": [
    "for sol in solutions:\n",
    "    politics_map(tracts, district_df, leaf_nodes, sol, figsize=(6,6));"
   ]
  },
  {
   "cell_type": "markdown",
   "metadata": {},
   "source": [
    "**Q12:** Do these solutions reflect what you would expect from the efficiency gaps?\n",
    "\n",
    "**A:** <font color='blue'> Yes, both the second and third solution have higher positive efficiency gaps which means more democratic votes were wasted. We can see more evidence of packing in these solutions.</font>"
   ]
  },
  {
   "cell_type": "markdown",
   "metadata": {},
   "source": [
    "## Part IV: Redistricting Georgia (Different Objectives)"
   ]
  },
  {
   "cell_type": "markdown",
   "metadata": {},
   "source": [
    "In **Part III** we minimized the absolute value of the efficiency gap to make things fair. Alternatively, we could use this same tool to gerrymander. For example, if we wanted to gerrymander to favor The Republican Party, we would want to maximize the efficiency gap. Let's do this for the same root partitions we optimized to be fair."
   ]
  },
  {
   "cell_type": "code",
   "execution_count": null,
   "metadata": {},
   "outputs": [],
   "source": [
    "solutions = solve_root_partitions(district_df['efficiency_gap'], 'max', [4,5,6])"
   ]
  },
  {
   "cell_type": "code",
   "execution_count": null,
   "metadata": {},
   "outputs": [],
   "source": [
    "for sol in solutions:\n",
    "    politics_map(tracts, district_df, leaf_nodes, sol, figsize=(6,6));\n",
    "    e_gap = round(district_df.loc[sol['solution_ixs']]['efficiency_gap'].mean(),5)\n",
    "    print(e_gap)"
   ]
  },
  {
   "cell_type": "markdown",
   "metadata": {},
   "source": [
    "**Q13:** How effective was the gerrymandering? How did the most fair solution (6 D, 8 R seats) compare to solution with the highest efficiency gap here? Based on the interpretation of the efficiency gap, does this make sense?\n",
    "\n",
    "**A:** <font color='blue'> There are 11 R seats and only 3 D seats. The efficiency gap was ~$20\\%$ so we would expect the The Republican Party to get $0.20(14) = ~2.8$ more seats and they got 3 more!</font>"
   ]
  },
  {
   "cell_type": "markdown",
   "metadata": {},
   "source": [
    "**Q14:** How was the Democratic vote supressed so heavily?\n",
    "\n",
    "**A:** <font color='blue'> All of the democratic votes were packed into 3 urban districts.</font>"
   ]
  },
  {
   "cell_type": "markdown",
   "metadata": {},
   "source": [
    "**Q15:** Choose the correct cost coefficents and optimization type to gerrymander for The Democratic Party \n",
    "\n",
    "**Note**: We look at a different 3 root partitions here because the previous 3 are hard to gerrymander in the The Democratic Party's favor."
   ]
  },
  {
   "cell_type": "code",
   "execution_count": null,
   "metadata": {},
   "outputs": [],
   "source": [
    "# TODO: Uncomment, and gerrymander for The Democratic Party\n",
    "# solutions = solve_root_partitions(, , [4,110,216])\n",
    "\n",
    "### BEGIN SOLUTION\n",
    "solutions = solve_root_partitions(district_df['efficiency_gap'], 'min', [4,110,216])\n",
    "### END SOLUTION"
   ]
  },
  {
   "cell_type": "code",
   "execution_count": null,
   "metadata": {},
   "outputs": [],
   "source": [
    "for sol in solutions:\n",
    "    politics_map(tracts, district_df, leaf_nodes, sol, figsize=(6,6));\n",
    "    e_gap = round(district_df.loc[sol['solution_ixs']]['efficiency_gap'].mean(),5)\n",
    "    print(e_gap)"
   ]
  },
  {
   "cell_type": "markdown",
   "metadata": {},
   "source": [
    "**Q16:** How effective was the gerrymandering? How did the most fair solution (6 D, 8 R seats) compare to solution with the highest efficiency gap here? Based on the interpretation of the efficiency gap, does this make sense?\n",
    "\n",
    "**A:** <font color='blue'> There are 7 R seats and 7 D seats. The efficiency gap was ~$0.03\\%$ so we would expect the The Republican Party to get $0.03(14) = ~0.42$ more seats and they got 1 more!</font>"
   ]
  },
  {
   "cell_type": "markdown",
   "metadata": {},
   "source": [
    "**Q17:** How was the Republican vote supressed so heavily?\n",
    "\n",
    "**A:** <font color='blue'> The republican votes were heavily packed allowing for the democrats to spread their majority across multiple districts coming into the urban center. </font>"
   ]
  },
  {
   "cell_type": "markdown",
   "metadata": {},
   "source": [
    "Up to this point, we have focused on optimizing around partisanship. However, we could also optimize around other measures like compactness. In  order to do this, we need to decide how to measure compactness. One possible measure is called the Roeck test. First, the smallest circle enclosing the district is found. Then, the area of the district is divded by the area of that circle. More compact districts will have a measure closer to 1. Let's look at some examples."
   ]
  },
  {
   "cell_type": "code",
   "execution_count": null,
   "metadata": {
    "scrolled": false
   },
   "outputs": [],
   "source": [
    "for i in [40339, 215783, 107817]:\n",
    "    ax = tracts.plot(figsize=(6, 6), color='none', edgecolor='black', lw=.25) \n",
    "    tracts.iloc[leaf_nodes[i]['area']].plot(ax=ax, color='green', alpha=.3);\n",
    "    print('Roeck measure: %f' % (district_df.loc[i]['roeck']))"
   ]
  },
  {
   "cell_type": "markdown",
   "metadata": {},
   "source": [
    "**Q18:** Choose the correct cost coefficents and optimization type to maximize the compactness of the districts using the Roeck test. (Hint: the column `roeck` gives the Roeck measure for each district)"
   ]
  },
  {
   "cell_type": "code",
   "execution_count": null,
   "metadata": {},
   "outputs": [],
   "source": [
    "# TODO: Uncomment, and maximize the compactness of the districts\n",
    "# solutions = solve_root_partitions(, , [4,5,6])\n",
    "\n",
    "### BEGIN SOLUTION\n",
    "solutions = solve_root_partitions(district_df['roeck'], 'max', [4,5,6])\n",
    "### END SOLUTION"
   ]
  },
  {
   "cell_type": "code",
   "execution_count": null,
   "metadata": {},
   "outputs": [],
   "source": [
    "for sol in solutions:\n",
    "    politics_map(tracts, district_df, leaf_nodes, sol, figsize=(6,6));\n",
    "    roeck = round(district_df.loc[sol['solution_ixs']]['roeck'].mean(),5)\n",
    "    print(roeck)"
   ]
  },
  {
   "cell_type": "markdown",
   "metadata": {},
   "source": [
    "**Q19:** Which party does maximizing compactness benefit? Why?\n",
    "\n",
    "**A:** <font color='blue'> This benefits The Republican Party because compact districts pack the Democratic majority which is in dense in small urban areas.</font>"
   ]
  },
  {
   "cell_type": "markdown",
   "metadata": {},
   "source": [
    "Another measure of compactness one could use is the number of cut edges. Think back to the adjacency graph. The number of cut edges is the number of edges one would have to remove to make the district a separate component from the rest of the graph. The more cut edges, the less compact the distict is."
   ]
  },
  {
   "cell_type": "markdown",
   "metadata": {},
   "source": [
    "**Q20:** Choose the correct cost coefficents and optimization type to minimize the compactness of the districts using cut edges. (Hint: the column `cut_edges` gives the number of cut edges for each district)"
   ]
  },
  {
   "cell_type": "code",
   "execution_count": null,
   "metadata": {},
   "outputs": [],
   "source": [
    "# TODO: Uncomment, and maximize the compactness of the districts\n",
    "# solutions = solve_root_partitions(, , [4,5,6])\n",
    "\n",
    "### BEGIN SOLUTION\n",
    "solutions = solve_root_partitions(district_df['cut_edges'], 'max', [4,5,6])\n",
    "### END SOLUTION"
   ]
  },
  {
   "cell_type": "code",
   "execution_count": null,
   "metadata": {},
   "outputs": [],
   "source": [
    "for sol in solutions:\n",
    "    politics_map(tracts, district_df, leaf_nodes, sol, figsize=(6,6));\n",
    "    cut_edges = round(district_df.loc[sol['solution_ixs']]['cut_edges'].mean(),5)\n",
    "    print(cut_edges)"
   ]
  }
 ],
 "metadata": {
  "kernelspec": {
   "display_name": "venv",
   "language": "python",
   "name": "venv"
  },
  "language_info": {
   "codemirror_mode": {
    "name": "ipython",
    "version": 3
   },
   "file_extension": ".py",
   "mimetype": "text/x-python",
   "name": "python",
   "nbconvert_exporter": "python",
   "pygments_lexer": "ipython3",
   "version": "3.6.10"
  }
 },
 "nbformat": 4,
 "nbformat_minor": 4
}
