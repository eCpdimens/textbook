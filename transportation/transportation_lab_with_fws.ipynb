{
 "cells": [
  {
   "cell_type": "markdown",
   "metadata": {},
   "source": [
    "# The Transportation Problem\n",
    "\n",
    "**Key Ideas**\n",
    "- supply point and supply constraint\n",
    "- demand point and demand constraint\n",
    "- balanced transportation problem\n",
    "- bipartite graph\n",
    "- integrality properties\n",
    "- sensitivity analysis\n",
    "\n",
    "**Reading Assignment**\n",
    "- Read the first part of Handout 7 on the transportation problem (first 4 pages)\n",
    "\n",
    "**Brief description:** We will explore examples of the transportation problem including some unexpected ones. We will also learn how to use Python and OR-Tools to represent and solve mathematical programming problems.\n",
    "\n",
    "### Import the following"
   ]
  },
  {
   "cell_type": "code",
   "execution_count": 1,
   "metadata": {},
   "outputs": [],
   "source": [
    "import pandas as pd\n",
    "import math, itertools\n",
    "import matplotlib.pyplot as plt\n",
    "import networkx as nx\n",
    "from networkx.algorithms import bipartite\n",
    "from ortools.linear_solver import pywraplp as OR\n",
    "from IPython.display import Image"
   ]
  },
  {
   "cell_type": "markdown",
   "metadata": {},
   "source": [
    "### Part 1: The Caterer's Problem\n",
    "\n",
    "(From Winston, page 390) The Carter Caterer Company must have the following number of clean napkins available\n",
    "at the beginning of each of the next four days: day 1, 15; day 2, 12; day 3, 18; day 4, 6. After being used, a napkin\n",
    "can be cleaned by one of two methods: fast service or slow service. Fast service costs 10 cents per napkin, and\n",
    "a napkin cleaned via fast service is available for use the day after it is last used. Slow service costs 6 cents per\n",
    "napkin, and these napkins can be reused two days after they are last used. New napkins can be purchased for a\n",
    "cost of 20 cents per napkin. The catering company currently has no napkins, whatsoever. We wish to meet the\n",
    "demand for the next four days as cheaply as possible.\n",
    "\n",
    "The following questions will lead you to formulate this optimization problem as a balanced transportation problem."
   ]
  },
  {
   "cell_type": "markdown",
   "metadata": {},
   "source": [
    "**Q1:** First think about the demand points. What do you think is being demanded? What is the demand for each of them? <font color='grey'>(Hint: There are four demand points.) </font>"
   ]
  },
  {
   "cell_type": "markdown",
   "metadata": {},
   "source": [
    "*Answer:*"
   ]
  },
  {
   "cell_type": "markdown",
   "metadata": {},
   "source": [
    "**Q2:** Now think about the supply points. One supply point is the store where napkins are purchased. What are all the supply points? What is the supply for each of them? <font color='grey'>(Hint: Napkins used on day $i$ can come from those used on day $i-1$ given fast service or day $i-2$ given slow service.) </font>"
   ]
  },
  {
   "cell_type": "markdown",
   "metadata": {},
   "source": [
    "*Answer:*"
   ]
  },
  {
   "cell_type": "markdown",
   "metadata": {},
   "source": [
    "**Q3:** What is the per-unit shipping cost between each supply point and each demand point?"
   ]
  },
  {
   "cell_type": "markdown",
   "metadata": {},
   "source": [
    "*Answer:*"
   ]
  },
  {
   "cell_type": "markdown",
   "metadata": {},
   "source": [
    "**Q4:** Create a graphical representation of this input (combine your answers from Q1-Q3), and upload as an image into the next cell by entering the image name if it is in the same folder as this lab. Make sure that it displays properly within the notebook."
   ]
  },
  {
   "cell_type": "code",
   "execution_count": null,
   "metadata": {},
   "outputs": [],
   "source": [
    "Image(\"image address\")"
   ]
  },
  {
   "cell_type": "markdown",
   "metadata": {},
   "source": [
    "We came up with the following formulation for the Caterer’s Problem where the demand points are the four days (1, 2, 3, 4) and the supply points are the store ($s$) and the ends of the first three days (1’, 2’, 3’). The supply/demand amounts and costs are summarized in the table below. Did you get a similar formulation?\n",
    "\n",
    "|         | 1  | 2  | 3  | 4  | supplies |\n",
    "|---------|----|----|----|----|----------|\n",
    "| $s$     | 20 | 20 | 20 | 20 | $\\infty$ |\n",
    "| 1'      | -  | 10 | 6  | -  | 15       |\n",
    "| 2'      | -  | -  | 10 | 6  | 12       |\n",
    "| 3'      | -  | -  | -  | 10 | 18       |\n",
    "| demands | 15 | 12 | 18 | 6  |          |"
   ]
  },
  {
   "cell_type": "markdown",
   "metadata": {},
   "source": [
    "**Q5:** Since we do not usually deal with infinity, what is a large enough value that can be the amount of supply at $s$? <font color='grey'>(Hint: Buy new napkins every day.)</font>"
   ]
  },
  {
   "cell_type": "markdown",
   "metadata": {},
   "source": [
    "*Answer:*"
   ]
  },
  {
   "cell_type": "markdown",
   "metadata": {},
   "source": [
    "**Q6:** Is this formulation balanced? If not, how can you convert it into a balanced transportation problem?"
   ]
  },
  {
   "cell_type": "markdown",
   "metadata": {},
   "source": [
    "*Answer:*"
   ]
  },
  {
   "cell_type": "markdown",
   "metadata": {},
   "source": [
    "**Q7:** What is the purpose of a dummy demand point in terms of napkins? For instance, what napkins come here, and what happens to them?"
   ]
  },
  {
   "cell_type": "markdown",
   "metadata": {},
   "source": [
    "*Answer:*"
   ]
  },
  {
   "cell_type": "markdown",
   "metadata": {},
   "source": [
    "**Q8:** Fill out the missing values (XXX) in the table below. We substituted the dashes with a big enough number like 1000.\n",
    "\n",
    "|         | 1    | 2    | 3    | 4    | dummy | supplies |\n",
    "|---------|------|------|------|------|-------|----------|\n",
    "| $s$     | 20   | 20   | 20   | 20   | XXX   | XXX      |\n",
    "| 1'      | 1000 | 10   | 6    | 1000 | XXX   | 15       |\n",
    "| 2'      | 1000 | 1000 | 10   | 6    | XXX   | 12       |\n",
    "| 3'      | 1000 | 1000 | 1000 | 10   | XXX   | 18       |\n",
    "| demands | 15   | 12   | 18   | 6    | XXX   |          |"
   ]
  },
  {
   "cell_type": "markdown",
   "metadata": {},
   "source": [
    "### Part 2: Solving Using a Computer\n",
    "\n",
    "The next cell contains our model. Later in the course, you will practice writing your own models, but for now, read through the code and run it.\n",
    "- 'supply' is a dictionary of the form *origin node : supply at node*\n",
    "- 'demand' is a dictionary of the form *destination node : demand at node*\n",
    "- 'cost' is a dictionary of the form *(origin node, destination node) : cost to ship on this path*"
   ]
  },
  {
   "cell_type": "code",
   "execution_count": 2,
   "metadata": {},
   "outputs": [],
   "source": [
    "# a transportation model\n",
    "def Transp(supply,demand,cost,solver):\n",
    "    ORIG = list(supply.keys())    # origins\n",
    "    DEST = list(demand.keys())    # destinations\n",
    "    ARCS = list(cost.keys())      # arcs\n",
    "    \n",
    "    # define model\n",
    "    m = OR.Solver('transportation', solver)\n",
    "    \n",
    "    # parameters\n",
    "    for i in ORIG:\n",
    "        m.Add(supply[i] >= 0)\n",
    "    for i in DEST:\n",
    "        m.Add(demand[i] >= 0)\n",
    "    for i,j in ARCS:\n",
    "        m.Add(cost[i,j] >= 0)\n",
    "    m.Add(sum(supply[i] for i in ORIG) == sum(demand[j] for j in DEST))\n",
    "    \n",
    "    # decision variables\n",
    "    Trans = {}    # units to be shipped\n",
    "    for i,j in ARCS:\n",
    "        Trans[i,j] = m.NumVar(0, m.infinity(), ('(%s, %s)' % (i,j))) \n",
    "        \n",
    "    # objective function\n",
    "    m.Minimize(sum(cost[i,j]*Trans[i,j] for i,j in ARCS))\n",
    "        \n",
    "    # subject to: equals supply\n",
    "    for i in ORIG:\n",
    "        m.Add(sum(Trans[i,j] for j in DEST) == supply[i])\n",
    "        \n",
    "    # subject to: equals demand\n",
    "    for j in DEST:\n",
    "        m.Add(sum(Trans[i,j] for i in ORIG) == demand[j])\n",
    "    \n",
    "    m.Solve()\n",
    "    \n",
    "    print('Solution:')\n",
    "    print('Objective value =', m.Objective().Value())\n",
    "    for i,j in ARCS:\n",
    "        print(Trans[i,j].name(), ':', Trans[i,j].solution_value())"
   ]
  },
  {
   "cell_type": "markdown",
   "metadata": {},
   "source": [
    "Here is an example set of data you can solve using the model.\n",
    "\n",
    "| Steel Mills | Tons Supplied |\n",
    "|-------------|---------------|\n",
    "| GARY        | 1400          |\n",
    "| CLEV        | 2600          |\n",
    "| PITT        | 2900          |\n",
    "\n",
    "The steel is sold to car manufacturers.\n",
    "\n",
    "| Car Manufacturers | Tons Demanded |\n",
    "|-------------------|---------------|\n",
    "| FRA               | 900           |\n",
    "| DET               | 1200          |\n",
    "| LAN               | 600           |\n",
    "| WIN               | 400           |\n",
    "| STL               | 1700          |\n",
    "| FRE               | 1100          |\n",
    "| LAF               | 1000          |\n",
    "\n",
    "This table contains shipping costs per ton:\n",
    "\n",
    "|     | GARY | CLEV | PITT |\n",
    "|-----|------|------|------|\n",
    "| FRA | 39   | 27   | 24   |\n",
    "| DET | 14   | 9    | 14   |\n",
    "| LAN | 11   | 12   | 17   |\n",
    "| WIN | 14   | 9    | 13   |\n",
    "| STL | 16   | 26   | 28   |\n",
    "| FRE | 82   | 95   | 99   |\n",
    "| LAF | 8    | 17   | 20   |"
   ]
  },
  {
   "cell_type": "code",
   "execution_count": 3,
   "metadata": {},
   "outputs": [
    {
     "name": "stdout",
     "output_type": "stream",
     "text": [
      "Solution:\n",
      "Objective value = 196200.0\n",
      "(GARY, FRA) : 0.0\n",
      "(CLEV, FRA) : 0.0\n",
      "(PITT, FRA) : 900.0\n",
      "(GARY, DET) : 0.0\n",
      "(CLEV, DET) : 1200.0\n",
      "(PITT, DET) : 0.0\n",
      "(GARY, LAN) : 0.0\n",
      "(CLEV, LAN) : 600.0\n",
      "(PITT, LAN) : 0.0\n",
      "(GARY, WIN) : 0.0\n",
      "(CLEV, WIN) : 400.0\n",
      "(PITT, WIN) : 0.0\n",
      "(GARY, STL) : 300.0\n",
      "(CLEV, STL) : 0.0\n",
      "(PITT, STL) : 1400.0\n",
      "(GARY, FRE) : 1100.0\n",
      "(CLEV, FRE) : 0.0\n",
      "(PITT, FRE) : 0.0\n",
      "(GARY, LAF) : 0.0\n",
      "(CLEV, LAF) : 400.0\n",
      "(PITT, LAF) : 600.0\n"
     ]
    }
   ],
   "source": [
    "# run me!\n",
    "ex_supply = {'GARY':1400, 'CLEV':2600, 'PITT':2900}\n",
    "ex_demand = {'FRA':900, 'DET':1200, 'LAN':600, 'WIN':400, 'STL':1700, 'FRE':1100, 'LAF':1000}\n",
    "ex_cost = {('GARY','FRA'):39, ('CLEV','FRA'):27, ('PITT','FRA'):24,\n",
    "           ('GARY','DET'):14, ('CLEV','DET'):9, ('PITT','DET'):14,\n",
    "           ('GARY','LAN'):11, ('CLEV','LAN'):12, ('PITT','LAN'):17,\n",
    "           ('GARY','WIN'):14, ('CLEV','WIN'):9, ('PITT','WIN'):13,\n",
    "           ('GARY','STL'):16, ('CLEV','STL'):26, ('PITT','STL'):28,\n",
    "           ('GARY','FRE'):82, ('CLEV','FRE'):95, ('PITT','FRE'):99,\n",
    "           ('GARY','LAF'):8, ('CLEV','LAF'):17, ('PITT','LAF'):20}\n",
    "\n",
    "Transp(ex_supply,ex_demand,ex_cost,OR.Solver.GLOP_LINEAR_PROGRAMMING)"
   ]
  },
  {
   "cell_type": "markdown",
   "metadata": {},
   "source": [
    "**Q9:** Format the data for the Caterer's Problem similar to above so that it can be solved by our model. (Note: Strings need to be in quotes.)"
   ]
  },
  {
   "cell_type": "code",
   "execution_count": 4,
   "metadata": {},
   "outputs": [
    {
     "name": "stdout",
     "output_type": "stream",
     "text": [
      "Solution:\n",
      "Objective value = 666.0\n",
      "(s, 1) : 15.0\n",
      "(s, 2) : 3.0\n",
      "(s, 3) : 0.0\n",
      "(s, 4) : 0.0\n",
      "(s, d) : 33.0\n",
      "(1', 1) : 0.0\n",
      "(1', 2) : 9.0\n",
      "(1', 3) : 6.0\n",
      "(1', 4) : 0.0\n",
      "(1', d) : 0.0\n",
      "(2', 1) : 0.0\n",
      "(2', 2) : 0.0\n",
      "(2', 3) : 12.0\n",
      "(2', 4) : 0.0\n",
      "(2', d) : 0.0\n",
      "(3', 1) : 0.0\n",
      "(3', 2) : 0.0\n",
      "(3', 3) : 0.0\n",
      "(3', 4) : 6.0\n",
      "(3', d) : 12.0\n"
     ]
    }
   ],
   "source": [
    "c_supply = {'s':51, \"1'\":15, \"2'\":12, \"3'\":18}\n",
    "c_demand = {1:15, 2:12, 3:18, 4:6, 'd':45}\n",
    "c_cost = {('s',1):20, ('s',2):20, ('s',3):20, ('s',4):20, ('s','d'):0,\n",
    "          (\"1'\",1):1000, (\"1'\",2):10, (\"1'\",3):6, (\"1'\",4):1000, (\"1'\",'d'):0,\n",
    "          (\"2'\",1):1000, (\"2'\",2):1000, (\"2'\",3):10, (\"2'\",4):6, (\"2'\",'d'):0,\n",
    "          (\"3'\",1):1000, (\"3'\",2):1000, (\"3'\",3):1000, (\"3'\",4):10, (\"3'\",'d'):0}\n",
    "\n",
    "Transp(c_supply,c_demand,c_cost,OR.Solver.GLOP_LINEAR_PROGRAMMING)"
   ]
  },
  {
   "cell_type": "markdown",
   "metadata": {},
   "source": [
    "**Q10:** Reinterpret the solution in words including how we get napkins for each day."
   ]
  },
  {
   "cell_type": "markdown",
   "metadata": {},
   "source": [
    "*Answer:*"
   ]
  },
  {
   "cell_type": "markdown",
   "metadata": {},
   "source": [
    "### Part 3: Exploring the Optimal Solution\n",
    "\n",
    "We will start by solving a new problem. An oil company imports crude from three sources and refines it at five refineries. Sources 1, 2, 3 can ship 20, 50, 20 units of crude respectively each week. Refineries 1 to 5 need 10, 24, 6, 20, 30 units of crude respectively each week. The table below contains the unit shipping costs from the sources to the refineries. The entry in the $i$th row and $j$th column gives the cost to ship from source $i$ to refinery $j$.\n",
    "\n",
    "|    |    |    |    |    |\n",
    "|----|----|----|----|----|\n",
    "| 30 | 30 | 10 | 27 | 15 |\n",
    "| 15 | 15 | 8  | 13 | 5  |\n",
    "| 25 | 21 | 5  | 15 | 21 |\n",
    "\n",
    "**Q11:** Solve the oil problem using our Python model."
   ]
  },
  {
   "cell_type": "code",
   "execution_count": 5,
   "metadata": {},
   "outputs": [
    {
     "name": "stdout",
     "output_type": "stream",
     "text": [
      "Solution:\n",
      "Objective value = 1160.0\n",
      "(S1, R1) : 0.0\n",
      "(S1, R2) : 0.0\n",
      "(S1, R3) : 6.000000000000003\n",
      "(S1, R4) : 0.0\n",
      "(S1, R5) : 13.999999999999998\n",
      "(S2, R1) : 10.0\n",
      "(S2, R2) : 24.0\n",
      "(S2, R3) : 0.0\n",
      "(S2, R4) : 0.0\n",
      "(S2, R5) : 16.0\n",
      "(S3, R1) : 0.0\n",
      "(S3, R2) : 0.0\n",
      "(S3, R3) : 0.0\n",
      "(S3, R4) : 20.000000000000004\n",
      "(S3, R5) : 0.0\n"
     ]
    }
   ],
   "source": [
    "o_supply = {'S1':20, 'S2':50, 'S3':20}\n",
    "o_demand = {'R1':10, 'R2':24, 'R3':6, 'R4':20, 'R5':30}\n",
    "o_cost = {('S1','R1'):30, ('S1','R2'):30, ('S1','R3'):10, ('S1','R4'):27, ('S1','R5'):15,\n",
    "          ('S2','R1'):15, ('S2','R2'):15, ('S2','R3'):8, ('S2','R4'):13, ('S2','R5'):5,\n",
    "          ('S3','R1'):25, ('S3','R2'):21, ('S3','R3'):5, ('S3','R4'):15, ('S3','R5'):21}\n",
    "\n",
    "Transp(o_supply,o_demand,o_cost,OR.Solver.GLOP_LINEAR_PROGRAMMING)"
   ]
  },
  {
   "cell_type": "markdown",
   "metadata": {},
   "source": [
    "Now consider the values $u(1) = 25$, $u(2) = 15$, $u(3) = 17$, $v(1) = 0$, $v(2) = 0$, $v(3) = -15$, $v(4) = -2$, and $v(5) = -10$.  \n",
    "\n",
    "**Q12:** Write down the modified cost matrix, where as shown in class, we subtract $u(i)$ from all the entries in row $i$, and similarly we subtract $v(j)$ from each entry of column $j$. Argue why the solution computed above is indeed optimal for the original input."
   ]
  },
  {
   "cell_type": "markdown",
   "metadata": {},
   "source": [
    "*Answer:*\n",
    "\n",
    "|    |    |    |    |    |\n",
    "|----|----|----|----|----|\n",
    "| 30 | 30 | 10 | 27 | 15 |\n",
    "| 15 | 15 | 8  | 13 | 5  |\n",
    "| 25 | 21 | 5  | 15 | 21 |"
   ]
  },
  {
   "cell_type": "markdown",
   "metadata": {},
   "source": [
    "Now suppose that we anticipate the cost of shipping from source 1 to refinery 1 (currently equal 30) to go down. Observe that in the current optimal solution, we do not ship anything from source 1 to refinery 1. An interesting question is \"By how much should $c(1,1)$ decrease before we will consider shipping some positive amount along that path?\"\n",
    "\n",
    "**Q13:** Try the following values for $c(1,1)$: 28, 26, 25, 24. (Note: Use the same names from Q11 for the nodes.) Record the optimal solutions in the table. Also include the value $\\overline{c}(1,1)$ from the matrix of modified costs (recall $\\overline{c}(1,1) = c(1,1) - u(1) - v(1)$). What can you conclude?"
   ]
  },
  {
   "cell_type": "code",
   "execution_count": null,
   "metadata": {},
   "outputs": [],
   "source": [
    "o_cost['S1','R1'] = 28\n",
    "Transp(o_supply,o_demand,o_cost,OR.Solver.GLOP_LINEAR_PROGRAMMING)"
   ]
  },
  {
   "cell_type": "markdown",
   "metadata": {},
   "source": [
    "*Answer:*\n",
    "\n",
    "|                     | 28 | 26 | 25 | 24 |\n",
    "|---------------------|----|----|----|----|\n",
    "| x(1,1)              |    |    |    |    |\n",
    "|                     |    |    |    |    |\n",
    "|                     |    |    |    |    |\n",
    "|                     |    |    |    |    |\n",
    "|                     |    |    |    |    |\n",
    "|                     |    |    |    |    |\n",
    "|                     |    |    |    |    |\n",
    "| $\\overline{c}$(1,1) |    |    |    |    |"
   ]
  },
  {
   "cell_type": "markdown",
   "metadata": {},
   "source": [
    "Now consider the original model with $c(1,1) = 30$. \n",
    "\n",
    "**Q14:** Could you use the modified cost matrix to answer the same kind of question raised above for changes in any $c(i,j)$ parameter? Try to use your observations to figure out by how much the value of $c(2,3)$ needs to be reduced so that we will consider shipping from source 2 to refinery 3. Check your answer using our Python model."
   ]
  },
  {
   "cell_type": "markdown",
   "metadata": {},
   "source": [
    "*Answer:*"
   ]
  },
  {
   "cell_type": "markdown",
   "metadata": {},
   "source": [
    "Once again start with the original model and data. Because of a trade agreement, the amount that is shipped from source 2 to refinery 5 cannot exceed the amount that is shipped to refinery 5 from sources 1 and 3 combined by more than 1. Add a constraint like the following to the model function to represent this trade agreement: `m.Add(Trans['S2','R5'] <= Trans['S1','R5'] + Trans['S3','R5'] + 1)`\n",
    "\n",
    "**Q15:** Rerun the model cell and re-solve to find the new optimal solution and objective value."
   ]
  },
  {
   "cell_type": "markdown",
   "metadata": {},
   "source": [
    "*Answer:*\n",
    "\n",
    "|          | Refinery 1 | 2 | 3 | 4 | 5 |\n",
    "|----------|------------|---|---|---|---|\n",
    "| Source 1 |            |   |   |   |   |\n",
    "| 2        |            |   |   |   |   |\n",
    "| 3        |            |   |   |   |   |"
   ]
  },
  {
   "cell_type": "markdown",
   "metadata": {},
   "source": [
    "**Q16:** What is different from your previous solutions? What property does not hold anymore now that we have added the trade agreement constraint?"
   ]
  },
  {
   "cell_type": "markdown",
   "metadata": {},
   "source": [
    "*Answer:*"
   ]
  },
  {
   "cell_type": "markdown",
   "metadata": {},
   "source": [
    "Since the shipping is done in barrels, we want the optimal solution to have only integer flow values. Change the declaration of the *Trans* variables by replacing `m.NumVar` with `m.IntVar`. GLOP does not know how to deal with integer variables, so the solver should also change to `OR.Solver.CBC_MIXED_INTEGER_PROGRAMMING`.\n",
    "\n",
    "**Q17:** Re-solve."
   ]
  },
  {
   "cell_type": "markdown",
   "metadata": {},
   "source": [
    "*Answer:*\n",
    "\n",
    "|          | Refinery 1 | 2 | 3 | 4 | 5 |\n",
    "|----------|------------|---|---|---|---|\n",
    "| Source 1 |            |   |   |   |   |\n",
    "| 2        |            |   |   |   |   |\n",
    "| 3        |            |   |   |   |   |"
   ]
  },
  {
   "cell_type": "markdown",
   "metadata": {},
   "source": [
    "**Q18:** Note that the optimal objective function value is higher than it was before we added the integrality constraint. Can you explain why it could never be lower than it was before we added the constraint that all *Trans* values had to be integer?"
   ]
  },
  {
   "cell_type": "markdown",
   "metadata": {},
   "source": [
    "*Answer:*"
   ]
  },
  {
   "cell_type": "markdown",
   "metadata": {},
   "source": [
    "### Part 4: Application for First-Year Writing Seminars?\n",
    "\n",
    "**Introduction:** If you recall pre-enroll, there was a separate ballot you completed by listing your top 5 picks for FWS that semester. You were then later notified which class you got placed into, probably hoping it was your first choice. By now, this should not seem like magic; problems like these often enlist help from Operations Research especially as the scale increases. Disclaimer: the following model is not actually used by Cornell.\n",
    "\n",
    "**Questions:**\n",
    "- How can FWS sections be assigned so that the most number of students get one of their top 5 picks?\n",
    "- How can we improve the assignments?\n",
    "\n",
    "We want to *assign* a class to each student. This sounds like an assignment problem, which is a special case of the *transportation problem*.  \n",
    "\n",
    "**Mini Example 1**  \n",
    "The following table gives an instance with 7 students (1-7) and 4 classes (A-D). Each class has a capacity of 2 students. \n",
    "\n",
    "| Student | First | Second |\n",
    "|:-------:|:-----:|:------:|\n",
    "|    1    |   A   |    B   |\n",
    "|    2    |   D   |    C   |\n",
    "|    3    |   A   |    C   |\n",
    "|    4    |   B   |    D   |\n",
    "|    5    |   C   |    B   |\n",
    "|    6    |   A   |    B   |\n",
    "|    7    |   B   |    A   |"
   ]
  },
  {
   "cell_type": "markdown",
   "metadata": {},
   "source": [
    "**Q:** What are the supply nodes?  \n",
    "**A:** <font color='blue'>Students</font>  \n",
    "\n",
    "**Q:** What are the supply values of the supply nodes? <font color='grey'>(Hint: How many units can be transferred?)</font>  \n",
    "**A:** <font color='blue'>1</font>  \n",
    "\n",
    "**Q:** What are the demand nodes?  \n",
    "**A:** <font color='blue'>Classes</font>  \n",
    "\n",
    "**Q:** What are the demand values of the demand nodes? <font color='grey'>(Hint: How many units can be received?)</font>  \n",
    "**A:** <font color='blue'>Capacity which in this case is 2</font>  \n",
    "\n",
    "**Q:** What does a directed edge from a supply node to a demand node mean?  \n",
    "**A:** <font color='blue'>The student is assigned to that class</font>  \n",
    "\n",
    "**Q:** What are the edge costs?  \n",
    "**A:** <font color='blue'>1 for student to first and 2 for student to second (minimize cost)</font>"
   ]
  },
  {
   "cell_type": "markdown",
   "metadata": {},
   "source": [
    "Visualize your graph by adding the missing data into the dictionaries S, D, and C in a similar format as before. If you use letters as node names, make sure to put quotes around them."
   ]
  },
  {
   "cell_type": "code",
   "execution_count": 6,
   "metadata": {},
   "outputs": [
    {
     "data": {
      "image/png": "[encoded data removed]",
      "text/plain": [
       "<Figure size 432x288 with 1 Axes>"
      ]
     },
     "metadata": {},
     "output_type": "display_data"
    }
   ],
   "source": [
    "from fws import ex1\n",
    "\n",
    "S = {1:1, 2:1, 3:1, 4:1, 5:1, 6:1, 7:1}\n",
    "D = {'A':2, 'B':2, 'C':2, 'D':2}\n",
    "C = {(1,'A'):1, (1,'B'):2, (2,'D'):1, (2,'C'):2, (3,'A'):1, (3,'C'):2, (4,'B'):1, (4,'D'):2, \n",
    "     (5,'C'):1, (5,'B'):2, (6,'A'):1, (6,'B'):2, (7,'B'):1, (7,'A'):2}\n",
    "\n",
    "ex1(S, D, C)"
   ]
  },
  {
   "cell_type": "markdown",
   "metadata": {},
   "source": [
    "To complete the simple model, we need to answer one more question.  \n",
    "\n",
    "**Q:** The total demand is 8, but the current total supply is only 7. How can we make sure that demand is satisfied for there to be a feasible solution?  \n",
    "**A:** <font color='blue'>Add a dummy node and edges going from it to every class node with cost 3</font>  \n",
    "\n",
    "\n",
    "Update the dictionaries below as see fit."
   ]
  },
  {
   "cell_type": "code",
   "execution_count": 7,
   "metadata": {},
   "outputs": [
    {
     "data": {
      "image/png": "[encoded data removed]",
      "text/plain": [
       "<Figure size 432x288 with 1 Axes>"
      ]
     },
     "metadata": {},
     "output_type": "display_data"
    }
   ],
   "source": [
    "S = {1:1, 2:1, 3:1, 4:1, 5:1, 6:1, 7:1, 0:1}\n",
    "C = {(1,'A'):1, (1,'B'):2, (2,'D'):1, (2,'C'):2, (3,'A'):1, (3,'C'):2, (4,'B'):1, (4,'D'):2, \n",
    "     (5,'C'):1, (5,'B'):2, (6,'A'):1, (6,'B'):2, (7,'B'):1, (7,'A'):2, (0,'A'):3, (0,'B'):3, (0,'C'):3, (0,'D'):3}\n",
    "\n",
    "ex1(S, D, C)"
   ]
  },
  {
   "cell_type": "markdown",
   "metadata": {},
   "source": [
    "Now we can use our computers to solve. The previous *Transp* model has been slightly modified into *Assign* for convenience."
   ]
  },
  {
   "cell_type": "code",
   "execution_count": 8,
   "metadata": {},
   "outputs": [],
   "source": [
    "# a modified transportation model for fws\n",
    "def Assign(supply,demand,cost,dcost,solver):\n",
    "    ORIG = list(supply.keys())    # origins\n",
    "    DEST = list(demand.keys())    # destinations\n",
    "    for x in DEST:\n",
    "        cost.update({(0,str(x)):dcost})\n",
    "    ARCS = list(cost.keys())      # arcs\n",
    "    \n",
    "    # define model\n",
    "    m = OR.Solver('assignFWS', solver)\n",
    "    \n",
    "    # parameters\n",
    "    for i in ORIG:\n",
    "        m.Add(supply[i] >= 0)\n",
    "    for i in DEST:\n",
    "        m.Add(demand[i] >= 0)\n",
    "    for i,j in ARCS:\n",
    "        m.Add(cost[i,j] >= 0)\n",
    "    \n",
    "    # decision variables\n",
    "    Trans = {}    # units to be shipped\n",
    "    for i,j in ARCS:\n",
    "        Trans[i,j] = m.IntVar(0, m.infinity(), ('(%s, %s)' % (i,j))) \n",
    "        \n",
    "    # objective function\n",
    "    m.Minimize(sum(cost[i,j]*Trans[i,j] for i,j in ARCS))\n",
    "        \n",
    "    # subject to: does not exceed supply\n",
    "    for k in ORIG:\n",
    "        m.Add(sum(Trans[i,j] for i,j in ARCS if i==k) <= supply[k])\n",
    "        \n",
    "    # subject to: equals demand\n",
    "    for k in DEST:\n",
    "        m.Add(sum(Trans[i,j] for i,j in ARCS if j==k) == demand[k])\n",
    "    \n",
    "    m.Solve()\n",
    "    \n",
    "    print('Solution:')\n",
    "    print('Objective value =', m.Objective().Value())\n",
    "    unmatched = []\n",
    "    for k in ORIG:\n",
    "        if (sum(Trans[i,j].solution_value() for i,j in ARCS if i==k) == 0) and (k!=0):\n",
    "            unmatched.append(k)\n",
    "    print(\"Unmatched students:\", len(unmatched))\n",
    "    \n",
    "    matched = {}\n",
    "    for i,j in ARCS:\n",
    "        if Trans[i,j].solution_value() == 1:\n",
    "            if cost[i,j] in matched:\n",
    "                matched[cost[i,j]] += 1\n",
    "            else:\n",
    "                matched.update({cost[i,j] : 1})\n",
    "    dcost = cost[(0,str(DEST[0]))]\n",
    "    if dcost in matched.keys():\n",
    "        del matched[dcost]\n",
    "    print(matched)\n",
    "    \n",
    "    return matched"
   ]
  },
  {
   "cell_type": "markdown",
   "metadata": {},
   "source": [
    "Main changes include removing the balanced requirement, adding dummy node and edges inside the function, and printing different values at the end.  \n",
    "**Q:** Explain why or give an example where it might not be necessary for this to be a balanced transportation problem?  \n",
    "**A:** "
   ]
  },
  {
   "cell_type": "markdown",
   "metadata": {},
   "source": [
    "**Q:** What is the solution to Mini Example 1?  \n",
    "**A:**"
   ]
  },
  {
   "cell_type": "code",
   "execution_count": 9,
   "metadata": {},
   "outputs": [
    {
     "name": "stdout",
     "output_type": "stream",
     "text": [
      "Solution:\n",
      "Objective value = 11.0\n",
      "Unmatched students: 0\n",
      "{1: 6, 2: 1}\n"
     ]
    }
   ],
   "source": [
    "sol1 = Assign(S, D, C, 3, OR.Solver.CBC_MIXED_INTEGER_PROGRAMMING)"
   ]
  },
  {
   "cell_type": "markdown",
   "metadata": {},
   "source": [
    "**Q:** Why can't all the students be assigned their first choice? Or do you think the answer you got could be better?  \n",
    "**A:** <font color='blue'>Limited capacity of classes</font> "
   ]
  },
  {
   "cell_type": "markdown",
   "metadata": {},
   "source": [
    "**Mini Example 2**  \n",
    "In this new instance with 8 students (1-8) and 4 classes (A-D), more students prefer A and B than C and D:  \n",
    "\n",
    "| Student | First | Second |\n",
    "|:-------:|:-----:|:------:|\n",
    "|    1    |   A   |    B   |\n",
    "|    2    |   B   |    A   |\n",
    "|    3    |   C   |    D   |\n",
    "|    4    |   A   |    B   |\n",
    "|    5    |   B   |    A   |\n",
    "|    6    |   A   |    C   |\n",
    "|    7    |   C   |    D   |\n",
    "|    8    |   A   |    D   |"
   ]
  },
  {
   "cell_type": "code",
   "execution_count": 10,
   "metadata": {},
   "outputs": [
    {
     "data": {
      "image/png": "[encoded data removed]",
      "text/plain": [
       "<Figure size 432x288 with 1 Axes>"
      ]
     },
     "metadata": {},
     "output_type": "display_data"
    }
   ],
   "source": [
    "from fws import ex2\n",
    "\n",
    "S2 = {1:1, 2:1, 3:1, 4:1, 5:1, 6:1, 7:1, 8:1, 0:len(D)*2}\n",
    "D2 = D\n",
    "C2 = {(1,'A'):1, (1,'B'):2, (2,'B'):1, (2,'A'):2, (3,'C'):1, (3,'D'):2, (4,'A'):1, (4,'B'):2, \n",
    "      (5,'B'):1, (5,'A'):2, (6,'A'):1, (6,'C'):2, (7,'C'):1, (7,'D'):2, (8,'A'):1, (8,'D'):2,\n",
    "      (0,'A'):3, (0,'B'):3, (0,'C'):3, (0,'D'):3}\n",
    "\n",
    "ex2(S2, D2, C2)"
   ]
  },
  {
   "cell_type": "markdown",
   "metadata": {},
   "source": [
    "**Q:** What is the solution to Mini Example 2?  \n",
    "**A:**"
   ]
  },
  {
   "cell_type": "code",
   "execution_count": 11,
   "metadata": {},
   "outputs": [
    {
     "name": "stdout",
     "output_type": "stream",
     "text": [
      "Solution:\n",
      "Objective value = 10.5\n",
      "Unmatched students: 1\n",
      "{1: 6, 2: 1}\n"
     ]
    }
   ],
   "source": [
    "sol2 = Assign(S2, D2, C2, 2.5, OR.Solver.CBC_MIXED_INTEGER_PROGRAMMING)"
   ]
  },
  {
   "cell_type": "markdown",
   "metadata": {},
   "source": [
    "**Q:** Why can't all the students be assigned one of their top 2 choices? Or do you think the answer you got could be better?  \n",
    "**A:** <font color='blue'>Can find a 0 unmatched assignment</font>  \n",
    "\n",
    "**Q:** Re-solve using 3 as the cost.  \n",
    "**A:**"
   ]
  },
  {
   "cell_type": "code",
   "execution_count": 12,
   "metadata": {},
   "outputs": [
    {
     "name": "stdout",
     "output_type": "stream",
     "text": [
      "Solution:\n",
      "Objective value = 11.0\n",
      "Unmatched students: 0\n",
      "{1: 5, 2: 3}\n"
     ]
    }
   ],
   "source": [
    "sol3 = Assign(S2, D2, C2, 3, OR.Solver.CBC_MIXED_INTEGER_PROGRAMMING)"
   ]
  },
  {
   "cell_type": "markdown",
   "metadata": {},
   "source": [
    "**Q:** 2.5 and 3 are both greater than 1 and 2 and prioritized last. What then is causing the different solutions?  \n",
    "**A:** <font color='blue'>The combined cost of a first pick edge and a dummy edge versus two second pick edges: $1+2.5 < 2+2$ while $1+3 = 2+2$ </font>  \n",
    "\n",
    "When solving the actual data, you will see that other subtle reasons might lead to unmatched students."
   ]
  },
  {
   "cell_type": "markdown",
   "metadata": {},
   "source": [
    "### Part 5: Actual FWS Data\n",
    "\n",
    "There are 2886 students and 183 class sections. Assume each class can have at most 16 students. As we already know, each student picks their top 5 classes."
   ]
  },
  {
   "cell_type": "code",
   "execution_count": 13,
   "metadata": {},
   "outputs": [
    {
     "data": {
      "text/html": [
       "<div>\n",
       "<style scoped>\n",
       "    .dataframe tbody tr th:only-of-type {\n",
       "        vertical-align: middle;\n",
       "    }\n",
       "\n",
       "    .dataframe tbody tr th {\n",
       "        vertical-align: top;\n",
       "    }\n",
       "\n",
       "    .dataframe thead th {\n",
       "        text-align: right;\n",
       "    }\n",
       "</style>\n",
       "<table border=\"1\" class=\"dataframe\">\n",
       "  <thead>\n",
       "    <tr style=\"text-align: right;\">\n",
       "      <th></th>\n",
       "      <th>STUDENTS</th>\n",
       "      <th>1</th>\n",
       "      <th>2</th>\n",
       "      <th>3</th>\n",
       "      <th>4</th>\n",
       "      <th>5</th>\n",
       "    </tr>\n",
       "  </thead>\n",
       "  <tbody>\n",
       "    <tr>\n",
       "      <th>0</th>\n",
       "      <td>1</td>\n",
       "      <td>145</td>\n",
       "      <td>142</td>\n",
       "      <td>125</td>\n",
       "      <td>143</td>\n",
       "      <td>80</td>\n",
       "    </tr>\n",
       "    <tr>\n",
       "      <th>1</th>\n",
       "      <td>2</td>\n",
       "      <td>72</td>\n",
       "      <td>12</td>\n",
       "      <td>149</td>\n",
       "      <td>171</td>\n",
       "      <td>8</td>\n",
       "    </tr>\n",
       "    <tr>\n",
       "      <th>2</th>\n",
       "      <td>3</td>\n",
       "      <td>79</td>\n",
       "      <td>87</td>\n",
       "      <td>37</td>\n",
       "      <td>120</td>\n",
       "      <td>97</td>\n",
       "    </tr>\n",
       "    <tr>\n",
       "      <th>3</th>\n",
       "      <td>4</td>\n",
       "      <td>104</td>\n",
       "      <td>101</td>\n",
       "      <td>103</td>\n",
       "      <td>100</td>\n",
       "      <td>99</td>\n",
       "    </tr>\n",
       "    <tr>\n",
       "      <th>4</th>\n",
       "      <td>5</td>\n",
       "      <td>26</td>\n",
       "      <td>154</td>\n",
       "      <td>149</td>\n",
       "      <td>101</td>\n",
       "      <td>28</td>\n",
       "    </tr>\n",
       "  </tbody>\n",
       "</table>\n",
       "</div>"
      ],
      "text/plain": [
       "   STUDENTS    1    2    3    4   5\n",
       "0         1  145  142  125  143  80\n",
       "1         2   72   12  149  171   8\n",
       "2         3   79   87   37  120  97\n",
       "3         4  104  101  103  100  99\n",
       "4         5   26  154  149  101  28"
      ]
     },
     "execution_count": 13,
     "metadata": {},
     "output_type": "execute_result"
    }
   ],
   "source": [
    "# read in the dataset\n",
    "data = pd.read_csv('Fall2009Ballots.csv')\n",
    "data.head()    # preview"
   ]
  },
  {
   "cell_type": "markdown",
   "metadata": {},
   "source": [
    "There are 6 columns with the first being student # and the other 5 being first, second, third, fourth, and fifth choice. Each row is a student, and class # indicates the class picked as the choice belonging to the column.  \n",
    "\n",
    "The dataset has been transformed behind the scenes from what you see above into the correct formats for the inputs. Nothing has changed about the model except the edge costs are equal to the choice rank (1-5) and the edges from the dummy node have a cost of 6.\n",
    "\n",
    "**Q:** Solve."
   ]
  },
  {
   "cell_type": "code",
   "execution_count": 14,
   "metadata": {},
   "outputs": [
    {
     "name": "stdout",
     "output_type": "stream",
     "text": [
      "Solution:\n",
      "Objective value = 5500.0\n",
      "Unmatched students: 79\n",
      "{1: 1623, 4: 152, 2: 643, 3: 344, 5: 45}\n"
     ]
    }
   ],
   "source": [
    "from fws import inputData\n",
    "d_supply,d_demand,d_cost = inputData('Fall2009Ballots.csv')\n",
    "\n",
    "data_sol = Assign(d_supply, d_demand, d_cost, 6, OR.Solver.CBC_MIXED_INTEGER_PROGRAMMING)"
   ]
  },
  {
   "cell_type": "markdown",
   "metadata": {},
   "source": [
    "We got an answer! Unfortunately, there are 79 students who did not get any of their top 5 picks. Let's try to make our model better, so that no students are unmatched.  \n",
    "\n",
    "The objective function is actually a weighted function. The coefficients, which in this case are the costs, dictate how much you want the solver to select the corresponding edges. An edge with a small cost has a higher likelihood (weight) of being in the solution while an edge with a large cost will potentially be avoided. This being said, we can try setting the cost of edges from the dummy node to an arbitrarily large number like 100,000. This should create greater incentive to fill classes with actual students than our fake filler 'students' as we witnessed in the second small example.\n",
    "\n",
    "**Q:** Solve."
   ]
  },
  {
   "cell_type": "code",
   "execution_count": 15,
   "metadata": {},
   "outputs": [
    {
     "name": "stdout",
     "output_type": "stream",
     "text": [
      "Solution:\n",
      "Objective value = 4205307.0\n",
      "Unmatched students: 0\n",
      "{1: 1524, 4: 210, 2: 681, 3: 387, 5: 84}\n"
     ]
    }
   ],
   "source": [
    "data_sol2 = Assign(d_supply, d_demand, d_cost, 100000, OR.Solver.CBC_MIXED_INTEGER_PROGRAMMING)"
   ]
  },
  {
   "cell_type": "markdown",
   "metadata": {},
   "source": [
    "Yay! We just improved our model. As a bonus, we can look at the distribution of preferences received by students in the form of a histogram and see how our solution did in percentages."
   ]
  },
  {
   "cell_type": "code",
   "execution_count": 16,
   "metadata": {},
   "outputs": [
    {
     "data": {
      "image/png": "[encoded data removed]",
      "text/plain": [
       "<Figure size 432x288 with 1 Axes>"
      ]
     },
     "metadata": {},
     "output_type": "display_data"
    },
    {
     "name": "stdout",
     "output_type": "stream",
     "text": [
      "1 : 52.81 %\n",
      "4 : 7.28 %\n",
      "2 : 23.6 %\n",
      "3 : 13.41 %\n",
      "5 : 2.91 %\n"
     ]
    }
   ],
   "source": [
    "from fws import Histo\n",
    "Histo(data_sol2, 15)\n",
    "\n",
    "for pref in data_sol2.keys():\n",
    "    print(pref, \":\", round(100*data_sol2[pref]/2886, 2), \"%\")"
   ]
  },
  {
   "cell_type": "markdown",
   "metadata": {},
   "source": [
    "### Part 6: Challenges\n",
    "\n",
    "We do not want to waste time trying different cost combinations if there is no solution where every student gets one of their top 5 picks. How can we check whether there exists a feasible solution with 0 unmatched students?"
   ]
  },
  {
   "cell_type": "markdown",
   "metadata": {},
   "source": [
    "**Q:** What is the cost of edges representing students' preferences?  \n",
    "**A:** <font color='blue'>0</font>  \n",
    "\n",
    "**Q:** What is the cost of dummy edges?  \n",
    "**A:** <font color='blue'>1</font>  \n",
    "\n",
    "**Q:** What is the desired solution?  \n",
    "**A:** <font color='blue'>Zero cost assignment</font>  \n",
    "\n",
    "-- OR --  \n",
    "**Q:** Describe another way that might use a different model.  \n",
    "**A:** <font color='blue'>e.g. max flow</font>  "
   ]
  },
  {
   "cell_type": "markdown",
   "metadata": {},
   "source": [
    "There are many ways to improve a model even if the type of problem does not change. Previously, we decided it was important for an assignment to guarantee that everyone got at least one of their top 5 picks. How can you make a better yet model? <font color='grey'>(Your answer will depend on what you think makes the best assignment. Some things to consider: reducing the number of students getting their lesser-preferred choices, adding a lower bound on class size, choosing for two students to both have their 3rd choice instead of one 1st and the other 5th, using recursion...)</font>"
   ]
  },
  {
   "cell_type": "markdown",
   "metadata": {},
   "source": [
    "**A:**"
   ]
  }
 ],
 "metadata": {
  "kernelspec": {
   "display_name": "Python 3",
   "language": "python",
   "name": "python3"
  },
  "language_info": {
   "codemirror_mode": {
    "name": "ipython",
    "version": 3
   },
   "file_extension": ".py",
   "mimetype": "text/x-python",
   "name": "python",
   "nbconvert_exporter": "python",
   "pygments_lexer": "ipython3",
   "version": "3.6.5"
  }
 },
 "nbformat": 4,
 "nbformat_minor": 2
}
