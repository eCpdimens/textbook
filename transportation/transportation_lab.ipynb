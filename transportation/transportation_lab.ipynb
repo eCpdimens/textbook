{
 "cells": [
  {
   "cell_type": "markdown",
   "metadata": {},
   "source": [
    "# The Transportation Problem\n",
    "\n",
    "**Key Ideas**\n",
    "- supply point and supply constraint\n",
    "- demand point and demand constraint\n",
    "- balanced transportation problem\n",
    "- bipartite graph\n",
    "- integrality properties\n",
    "- sensitivity analysis\n",
    "\n",
    "**Reading Assignment**\n",
    "- Read the first part of Handout 7 on the transportation problem (first 4 pages)\n",
    "\n",
    "**Brief description:** We will explore examples of the transportation problem including some unexpected ones. We will also learn how to use Python and OR-Tools to represent and solve mathematical programming problems.\n",
    "\n",
    "### Import the following"
   ]
  },
  {
   "cell_type": "code",
   "execution_count": null,
   "metadata": {},
   "outputs": [],
   "source": [
    "import pandas as pd\n",
    "import math, itertools\n",
    "import matplotlib.pyplot as plt\n",
    "import networkx as nx\n",
    "from networkx.algorithms import bipartite\n",
    "from ortools.linear_solver import pywraplp as OR\n",
    "from IPython.display import Image"
   ]
  },
  {
   "cell_type": "markdown",
   "metadata": {},
   "source": [
    "### Part 1: The Caterer's Problem\n",
    "\n",
    "(From Winston, page 390) The Carter Caterer Company must have the following number of clean napkins available\n",
    "at the beginning of each of the next four days: day 1, 15; day 2, 12; day 3, 18; day 4, 6. After being used, a napkin\n",
    "can be cleaned by one of two methods: fast service or slow service. Fast service costs 10 cents per napkin, and\n",
    "a napkin cleaned via fast service is available for use the day after it is last used. Slow service costs 6 cents per\n",
    "napkin, and these napkins can be reused two days after they are last used. New napkins can be purchased for a\n",
    "cost of 20 cents per napkin. The catering company currently has no napkins, whatsoever. We wish to meet the\n",
    "demand for the next four days as cheaply as possible.\n",
    "\n",
    "The following questions will lead you to formulate this optimization problem as a balanced transportation problem."
   ]
  },
  {
   "cell_type": "markdown",
   "metadata": {},
   "source": [
    "**Q1:** First think about the demand points. What do you think is being demanded? What is the demand for each of them? <font color='grey'>(Hint: There are four demand points.) </font>"
   ]
  },
  {
   "cell_type": "markdown",
   "metadata": {},
   "source": [
    "*Answer:*"
   ]
  },
  {
   "cell_type": "markdown",
   "metadata": {},
   "source": [
    "**Q2:** Now think about the supply points. One supply point is the store where napkins are purchased. What are all the supply points? What is the supply for each of them? <font color='grey'>(Hint: Napkins used on day $i$ can come from those used on day $i-1$ given fast service or day $i-2$ given slow service.) </font>"
   ]
  },
  {
   "cell_type": "markdown",
   "metadata": {},
   "source": [
    "*Answer:*"
   ]
  },
  {
   "cell_type": "markdown",
   "metadata": {},
   "source": [
    "**Q3:** What is the per-unit shipping cost between each supply point and each demand point?"
   ]
  },
  {
   "cell_type": "markdown",
   "metadata": {},
   "source": [
    "*Answer:*"
   ]
  },
  {
   "cell_type": "markdown",
   "metadata": {},
   "source": [
    "**Q4:** Create a graphical representation of this input (combine your answers from Q1-Q3), and upload as an image into the next cell by entering the image name if it is in the same folder as this lab. Make sure that it displays properly within the notebook."
   ]
  },
  {
   "cell_type": "code",
   "execution_count": null,
   "metadata": {
    "scrolled": true
   },
   "outputs": [],
   "source": [
    "Image('your_directory_here')"
   ]
  },
  {
   "cell_type": "markdown",
   "metadata": {},
   "source": [
    "We came up with the following formulation for the Caterer’s Problem where the demand points are the four days (1, 2, 3, 4) and the supply points are the store ($s$) and the ends of the first three days (1’, 2’, 3’). The supply/demand amounts and costs are summarized in the table below. Did you get a similar formulation?\n",
    "\n",
    "|         | 1  | 2  | 3  | 4  | supplies |\n",
    "|---------|----|----|----|----|----------|\n",
    "| $s$     | 20 | 20 | 20 | 20 | $\\infty$ |\n",
    "| 1'      | -  | 10 | 6  | -  | 15       |\n",
    "| 2'      | -  | -  | 10 | 6  | 12       |\n",
    "| 3'      | -  | -  | -  | 10 | 18       |\n",
    "| demands | 15 | 12 | 18 | 6  |          |"
   ]
  },
  {
   "cell_type": "markdown",
   "metadata": {},
   "source": [
    "**Q5:** Since we do not usually deal with infinity, what is a large enough value that can be the amount of supply at $s$? <font color='grey'>(Hint: Buy new napkins every day.)</font>"
   ]
  },
  {
   "cell_type": "markdown",
   "metadata": {},
   "source": [
    "*Answer:* "
   ]
  },
  {
   "cell_type": "markdown",
   "metadata": {},
   "source": [
    "**Q6:** Is this formulation balanced? If not, how can you convert it into a balanced transportation problem?"
   ]
  },
  {
   "cell_type": "markdown",
   "metadata": {},
   "source": [
    "*Answer:* "
   ]
  },
  {
   "cell_type": "markdown",
   "metadata": {},
   "source": [
    "**Q7:** What is the purpose of a dummy demand point in terms of napkins? For instance, what napkins come here, and what happens to them?"
   ]
  },
  {
   "cell_type": "markdown",
   "metadata": {},
   "source": [
    "*Answer:* "
   ]
  },
  {
   "cell_type": "markdown",
   "metadata": {},
   "source": [
    "**Q8:** Fill out the missing values (XXX) in the table below. We substituted the dashes with a big enough number like 1000.\n",
    "\n",
    "|         | 1    | 2    | 3    | 4    | dummy | supplies |\n",
    "|---------|------|------|------|------|-------|----------|\n",
    "| $s$     | 20   | 20   | 20   | 20   | XXX   | XXX      |\n",
    "| 1'      | 1000 | 10   | 6    | 1000 | XXX   | 15       |\n",
    "| 2'      | 1000 | 1000 | 10   | 6    | XXX   | 12       |\n",
    "| 3'      | 1000 | 1000 | 1000 | 10   | XXX   | 18       |\n",
    "| demands | 15   | 12   | 18   | 6    | XXX   |          |"
   ]
  },
  {
   "cell_type": "markdown",
   "metadata": {},
   "source": [
    "### Part 2: Solving Using a Computer\n",
    "\n",
    "The next cell contains our model. In later labs, you will practice writing your own models, but for now, read through the code and run it.\n",
    "- 'supply' is a dictionary of the form *origin node : supply at node*\n",
    "- 'demand' is a dictionary of the form *destination node : demand at node*\n",
    "- 'cost' is a dictionary of the form *(origin node, destination node) : cost to ship on this path*"
   ]
  },
  {
   "cell_type": "code",
   "execution_count": null,
   "metadata": {},
   "outputs": [],
   "source": [
    "# a transportation model\n",
    "def Transp(supply, demand, cost, solver):\n",
    "    ORIG = list(supply.keys())    # origins\n",
    "    DEST = list(demand.keys())    # destinations\n",
    "    ARCS = list(cost.keys())      # arcs\n",
    "    \n",
    "    # define model\n",
    "    m = OR.Solver('transportation', solver)\n",
    "    \n",
    "    # parameters\n",
    "    for i in ORIG:\n",
    "        m.Add(supply[i] >= 0)\n",
    "    for i in DEST:\n",
    "        m.Add(demand[i] >= 0)\n",
    "    for i,j in ARCS:\n",
    "        m.Add(cost[i,j] >= 0)\n",
    "    m.Add(sum(supply[i] for i in ORIG) == sum(demand[j] for j in DEST))\n",
    "    \n",
    "    # decision variables\n",
    "    Trans = {}    # units to be shipped\n",
    "    for i,j in ARCS:\n",
    "        Trans[i,j] = m.NumVar(0, m.infinity(), ('(%s, %s)' % (i,j)))\n",
    "        \n",
    "    # objective function\n",
    "    m.Minimize(sum(cost[i,j]*Trans[i,j] for i,j in ARCS))\n",
    "        \n",
    "    # subject to: equals supply\n",
    "    for i in ORIG:\n",
    "        m.Add(sum(Trans[i,j] for j in DEST) == supply[i])\n",
    "        \n",
    "    # subject to: equals demand\n",
    "    for j in DEST:\n",
    "        m.Add(sum(Trans[i,j] for i in ORIG) == demand[j])\n",
    "        \n",
    "    m.Solve()\n",
    "    \n",
    "    print('Solution:')\n",
    "    print('Objective value =', m.Objective().Value())\n",
    "    for i,j in ARCS:\n",
    "        print(Trans[i,j].name(), ':', Trans[i,j].solution_value())"
   ]
  },
  {
   "cell_type": "markdown",
   "metadata": {},
   "source": [
    "Here is an example set of data you can solve using the model.\n",
    "\n",
    "| Steel Mills | Tons Supplied |\n",
    "|-------------|---------------|\n",
    "| GARY        | 1400          |\n",
    "| CLEV        | 2600          |\n",
    "| PITT        | 2900          |\n",
    "\n",
    "The steel is sold to car manufacturers.\n",
    "\n",
    "| Car Manufacturers | Tons Demanded |\n",
    "|-------------------|---------------|\n",
    "| FRA               | 900           |\n",
    "| DET               | 1200          |\n",
    "| LAN               | 600           |\n",
    "| WIN               | 400           |\n",
    "| STL               | 1700          |\n",
    "| FRE               | 1100          |\n",
    "| LAF               | 1000          |\n",
    "\n",
    "This table contains shipping costs per ton:\n",
    "\n",
    "|     | GARY | CLEV | PITT |\n",
    "|-----|------|------|------|\n",
    "| FRA | 39   | 27   | 24   |\n",
    "| DET | 14   | 9    | 14   |\n",
    "| LAN | 11   | 12   | 17   |\n",
    "| WIN | 14   | 9    | 13   |\n",
    "| STL | 16   | 26   | 28   |\n",
    "| FRE | 82   | 95   | 99   |\n",
    "| LAF | 8    | 17   | 20   |"
   ]
  },
  {
   "cell_type": "code",
   "execution_count": null,
   "metadata": {},
   "outputs": [],
   "source": [
    "# run me!\n",
    "ex_supply = {'GARY':1400, 'CLEV':2600, 'PITT':2900}\n",
    "ex_demand = {'FRA':900, 'DET':1200, 'LAN':600, 'WIN':400, 'STL':1700, 'FRE':1100, 'LAF':1000}\n",
    "ex_cost = {('GARY','FRA'):39, ('CLEV','FRA'):27, ('PITT','FRA'):24,\n",
    "           ('GARY','DET'):14, ('CLEV','DET'):9, ('PITT','DET'):14,\n",
    "           ('GARY','LAN'):11, ('CLEV','LAN'):12, ('PITT','LAN'):17,\n",
    "           ('GARY','WIN'):14, ('CLEV','WIN'):9, ('PITT','WIN'):13,\n",
    "           ('GARY','STL'):16, ('CLEV','STL'):26, ('PITT','STL'):28,\n",
    "           ('GARY','FRE'):82, ('CLEV','FRE'):95, ('PITT','FRE'):99,\n",
    "           ('GARY','LAF'):8, ('CLEV','LAF'):17, ('PITT','LAF'):20}\n",
    "\n",
    "Transp(ex_supply,ex_demand,ex_cost,OR.Solver.GLOP_LINEAR_PROGRAMMING)"
   ]
  },
  {
   "cell_type": "markdown",
   "metadata": {},
   "source": [
    "**Q9:** Complete the input for the Caterer's Problem."
   ]
  },
  {
   "cell_type": "code",
   "execution_count": null,
   "metadata": {},
   "outputs": [],
   "source": [
    "c_supply = {'s': XX, \n",
    "            \"1'\": XX, \n",
    "            \"2'\": XX,\n",
    "            \"3'\": XX}\n",
    "c_demand = {1: XX, \n",
    "            2: XX, \n",
    "            3: XX, \n",
    "            4: XX, \n",
    "            'd': XX}\n",
    "c_cost = {('s',1):  XX,   ('s',2):  XX,   ('s',3):  XX,   ('s',4):  XX,   ('s','d'):  XX,\n",
    "          (\"1'\",1): XX, (\"1'\",2): XX,   (\"1'\",3): XX,    (\"1'\",4): XX, (\"1'\",'d'): XX,\n",
    "          (\"2'\",1): XX, (\"2'\",2): XX, (\"2'\",3): XX,   (\"2'\",4): XX,    (\"2'\",'d'): XX,\n",
    "          (\"3'\",1): XX, (\"3'\",2): XX, (\"3'\",3): XX, (\"3'\",4): XX,   (\"3'\",'d'): XX}\n",
    "Transp(c_supply,c_demand,c_cost,OR.Solver.GLOP_LINEAR_PROGRAMMING)"
   ]
  },
  {
   "cell_type": "markdown",
   "metadata": {},
   "source": [
    "**Q10:** Reinterpret the solution in words including how we get napkins for each day."
   ]
  },
  {
   "cell_type": "markdown",
   "metadata": {},
   "source": [
    "*Answer:*"
   ]
  },
  {
   "cell_type": "markdown",
   "metadata": {},
   "source": [
    "### Part 3: Exploring the Optimal Solution\n",
    "\n",
    "We will start by solving a new problem. An oil company imports crude from three sources and refines it at five refineries. Sources 1, 2, 3 can ship 20, 50, 20 units of crude respectively each week. Refineries 1 to 5 need 10, 24, 6, 20, 30 units of crude respectively each week. The table below contains the unit shipping costs from the sources to the refineries. The entry in the $i$th row and $j$th column gives the cost to ship from source $i$ to refinery $j$.\n",
    "\n",
    "|    |    |    |    |    |\n",
    "|----|----|----|----|----|\n",
    "| 30 | 30 | 10 | 27 | 15 |\n",
    "| 15 | 15 | 8  | 13 | 5  |\n",
    "| 25 | 21 | 5  | 15 | 21 |\n",
    "\n",
    "**Q11:** Solve the oil problem using our Python model. Define the input to the model like the example and run the cell."
   ]
  },
  {
   "cell_type": "code",
   "execution_count": null,
   "metadata": {},
   "outputs": [],
   "source": [
    "o_supply = \n",
    "o_demand = \n",
    "o_cost = \n",
    "Transp(o_supply,o_demand,o_cost,OR.Solver.GLOP_LINEAR_PROGRAMMING)"
   ]
  },
  {
   "cell_type": "markdown",
   "metadata": {},
   "source": [
    "Now consider the values $u(1) = 25$, $u(2) = 15$, $u(3) = 17$, $v(1) = 0$, $v(2) = 0$, $v(3) = -15$, $v(4) = -2$, and $v(5) = -10$.  \n",
    "\n",
    "**Q12:** Write down the modified cost matrix, where as shown in class, we subtract $u(i)$ from all the entries in row $i$, and similarly we subtract $v(j)$ from each entry of column $j$. Argue why the solution computed above is indeed optimal for the original input."
   ]
  },
  {
   "cell_type": "markdown",
   "metadata": {},
   "source": [
    "*Answer:*\n",
    "\n",
    "|    |    |    |    |    |\n",
    "|----|----|----|----|----|\n",
    "|    |    |    |    |    |\n",
    "|    |    |    |    |    |\n",
    "|    |    |    |    |    |\n"
   ]
  },
  {
   "cell_type": "markdown",
   "metadata": {},
   "source": [
    "<font color='red'> This differs from the answer key that Frans made. Get a second set of eyes on this.</font>"
   ]
  },
  {
   "cell_type": "markdown",
   "metadata": {},
   "source": [
    "Now suppose that we anticipate the cost of shipping from source 1 to refinery 1 (currently equal 30) to go down. Observe that in the current optimal solution, we do not ship anything from source 1 to refinery 1. An interesting question is \"By how much should $c(1,1)$ decrease before we will consider shipping some positive amount along that path?\"\n",
    "\n",
    "**Q13:** Try the following values for $c(1,1)$: 28, 26, 25, 24. (Note: Use the same names from Q11 for the nodes.) Record the optimal solutions in the table. Also include the value $\\overline{c}(1,1)$ from the matrix of modified costs (recall $\\overline{c}(1,1) = c(1,1) - u(1) - v(1)$). What can you conclude?"
   ]
  },
  {
   "cell_type": "code",
   "execution_count": null,
   "metadata": {},
   "outputs": [],
   "source": [
    "o_cost[XX, XX] = 28\n",
    "Transp(o_supply,o_demand,o_cost,OR.Solver.GLOP_LINEAR_PROGRAMMING)"
   ]
  },
  {
   "cell_type": "markdown",
   "metadata": {},
   "source": [
    "*Answer:* \n",
    "\n",
    "|                     | 28          | 26          | 25         | 24 |\n",
    "|---------------------|-------------|-------------|------------|----|\n",
    "|                     | x(1,3) = XX |             |            |    |   \n",
    "|                     |             |             |            |    | \n",
    "|                     |             |             |            |    |  \n",
    "|                     |             |             |            |    |  \n",
    "|                     |             |             |            |    |  \n",
    "| $\\overline{c}$(1,1) |             |             |            |    |\n"
   ]
  },
  {
   "cell_type": "markdown",
   "metadata": {},
   "source": [
    "Now consider the original model with $c(1,1) = 30$. \n",
    "\n",
    "**Q14:** Could you use the modified cost matrix to answer the same kind of question raised above for changes in any $c(i,j)$ parameter? Try to use your observations to figure out by how much the value of $c(2,3)$ needs to be reduced so that we will consider shipping from source 2 to refinery 3. Check your answer using our Python model."
   ]
  },
  {
   "cell_type": "markdown",
   "metadata": {},
   "source": [
    "*Answer:*"
   ]
  },
  {
   "cell_type": "markdown",
   "metadata": {},
   "source": [
    "<font color='red'> This differs from the answer key that Frans made. Get a second set of eyes on this.</font>"
   ]
  },
  {
   "cell_type": "markdown",
   "metadata": {},
   "source": [
    "Once again start with the original model and data. Because of a trade agreement, the amount that is shipped from source 2 to refinery 5 cannot exceed the amount that is shipped to refinery 5 from sources 1 and 3 combined by more than 1. Add a constraint like the following to the model function to represent this trade agreement: `m.Add(Trans['S2','R5'] <= Trans['S1','R5'] + Trans['S3','R5'] + 1)`. Make sure to re-run the cell defining the model to add this change.\n",
    "\n",
    "**Q15:** Rerun the model cell and re-solve to find the new optimal solution and objective value."
   ]
  },
  {
   "cell_type": "code",
   "execution_count": null,
   "metadata": {},
   "outputs": [],
   "source": [
    "o_supply = {'S1':20, \n",
    "            'S2':50, \n",
    "            'S3':20}\n",
    "o_demand = {'R1':10, \n",
    "            'R2':24, \n",
    "            'R3':6, \n",
    "            'R4':20, \n",
    "            'R5':30}\n",
    "o_cost = {('S1','R1'):30, ('S1','R2'):30, ('S1','R3'):10, ('S1','R4'):27, ('S1','R5'):15,\n",
    "          ('S2','R1'):15, ('S2','R2'):15, ('S2','R3'):8, ('S2','R4'):13, ('S2','R5'):5,\n",
    "          ('S3','R1'):25, ('S3','R2'):21, ('S3','R3'):5, ('S3','R4'):15, ('S3','R5'):21}\n",
    "Transp(o_supply,o_demand,o_cost,OR.Solver.GLOP_LINEAR_PROGRAMMING)"
   ]
  },
  {
   "cell_type": "markdown",
   "metadata": {},
   "source": [
    "*Answer:* \n",
    "\n",
    "|          | Refinery 1 | 2 | 3 | 4 | 5 |\n",
    "|----------|------------|---|---|---|---|\n",
    "| Source 1 |            |   |   |   |   |\n",
    "| 2        |            |   |   |   |   |\n",
    "| 3        |            |   |   |   |   |"
   ]
  },
  {
   "cell_type": "markdown",
   "metadata": {},
   "source": [
    "**Q16:** What is different from your previous solutions? What property does not hold anymore now that we have added the trade agreement constraint?"
   ]
  },
  {
   "cell_type": "markdown",
   "metadata": {},
   "source": [
    "*Answer:* "
   ]
  },
  {
   "cell_type": "markdown",
   "metadata": {},
   "source": [
    "Since the shipping is done in barrels, we want the optimal solution to have only integer flow values. Change the declaration of the *Trans* variables by replacing `m.NumVar` with `m.IntVar`. GLOP does not know how to deal with integer variables, so the solver should also change to `OR.Solver.CBC_MIXED_INTEGER_PROGRAMMING`."
   ]
  },
  {
   "cell_type": "code",
   "execution_count": null,
   "metadata": {},
   "outputs": [],
   "source": [
    "Transp(o_supply,o_demand,o_cost,OR.Solver.CBC_MIXED_INTEGER_PROGRAMMING)"
   ]
  },
  {
   "cell_type": "markdown",
   "metadata": {},
   "source": [
    "**Q17:** Re-solve.\n",
    "\n",
    "*Answer:* \n",
    "\n",
    "|          | Refinery 1 | 2 | 3 | 4 | 5 |\n",
    "|----------|------------|---|---|---|---|\n",
    "| Source 1 |            |   |   |   |   |\n",
    "| 2        |            |   |   |   |   |\n",
    "| 3        |            |   |   |   |   |"
   ]
  },
  {
   "cell_type": "markdown",
   "metadata": {},
   "source": [
    "**Q18:** Note that the optimal objective function value is higher than it was before we added the integrality constraint. Can you explain why it could never be lower than it was before we added the constraint that all *Trans* values had to be integer?"
   ]
  },
  {
   "cell_type": "markdown",
   "metadata": {},
   "source": [
    "*Answer:* "
   ]
  }
 ],
 "metadata": {
  "kernelspec": {
   "display_name": "Python 3",
   "language": "python",
   "name": "python3"
  },
  "language_info": {
   "codemirror_mode": {
    "name": "ipython",
    "version": 3
   },
   "file_extension": ".py",
   "mimetype": "text/x-python",
   "name": "python",
   "nbconvert_exporter": "python",
   "pygments_lexer": "ipython3",
   "version": "3.7.7"
  }
 },
 "nbformat": 4,
 "nbformat_minor": 2
}
