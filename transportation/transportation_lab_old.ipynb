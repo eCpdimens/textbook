{
 "cells": [
  {
   "cell_type": "markdown",
   "metadata": {},
   "source": [
    "# The Transportation Problem\n",
    "\n",
    "**Key Ideas**\n",
    "- Supply point and supply constraints\n",
    "- Demand point and demand constraints\n",
    "- Balanced transportation problem\n",
    "- Bipartite graph\n",
    "- Integrality properties\n",
    "- Sensitivity analysis\n",
    "\n",
    "**Reading Assignment**\n",
    "- Read the first part of Handout 7 on the transportation problem (first 4 pages)\n",
    "\n",
    "**Brief description:** We will explore examples of the transportation problem including some unexpected ones. We will also learn how to use Python and OR-Tools to represent and solve mathematical programming problems.\n"
   ]
  },
  {
   "cell_type": "code",
   "execution_count": 1,
   "metadata": {},
   "outputs": [],
   "source": [
    "# imports\n",
    "import pandas as pd\n",
    "import math, itertools\n",
    "import matplotlib.pyplot as plt\n",
    "import networkx as nx\n",
    "from networkx.algorithms import bipartite\n",
    "from ortools.linear_solver import pywraplp as OR"
   ]
  },
  {
   "cell_type": "markdown",
   "metadata": {},
   "source": [
    "## Part 1: The Caterer's Problem\n",
    "\n",
    "(From Winston, page 390) The Carter Caterer Company must have the following number of clean napkins available\n",
    "at the beginning of each of the next four days:\n",
    "\n",
    "|day | napkins |\n",
    "|----|---------|\n",
    "| 1  |    15   |\n",
    "| 2  |    12   |\n",
    "| 3  |    18   |\n",
    "| 4  |     6   |\n",
    "\n",
    "After being used, a napkin can be cleaned by one of two methods: fast service or slow service. Fast service costs 10 cents per napkin, and a napkin cleaned via fast service is available for use the day after it is last used. Slow service costs 6 cents per napkin, and these napkins can be reused two days after they are last used. New napkins can be purchased for a cost of 20 cents per napkin. The catering company currently has no napkins, whatsoever. We wish to meet the demand for the next four days as cheaply as possible.\n",
    "\n",
    "The following questions will lead you to formulate this optimization problem as a balanced transportation problem."
   ]
  },
  {
   "cell_type": "markdown",
   "metadata": {},
   "source": [
    "**Q1:** First think about the demand points. What do you think is being demanded? What is the demand for each of them? (Hint: There are four demand points)\n",
    "\n",
    "**A:** <font color='blue'> There are four demand points; 1 for each of the next four days. They have demand 15,12,18, and 6 respectivley.</font>"
   ]
  },
  {
   "cell_type": "markdown",
   "metadata": {},
   "source": [
    "**Q2:** Now think about the supply points. One supply point is the store where napkins are purchased. What are all the supply points? What is the supply for each of them? (Hint: Napkins used on day $i$ can come from those used on day $i-1$ given fast service or day $i-2$ given slow service)\n",
    "\n",
    "**A:** <font color='blue'> The other supply points are the ends of the first three days. Their supplies are 15, 12, and 18 respectively. The supply of the first supply node is infinity.</font>  "
   ]
  },
  {
   "cell_type": "markdown",
   "metadata": {},
   "source": [
    "**Q3:** What is the per-unit shipping cost between each supply point and each demand point?\n",
    "\n",
    "**A:** <font color='blue'> The per-unit shipping cost between the store supply node and every demand node is 20. The per-unit shipping cost between the supply node representing the supply at the end of the day $i$ and day $i+1$ is 10 and 6 for day $i+2$. </font>"
   ]
  },
  {
   "cell_type": "markdown",
   "metadata": {},
   "source": [
    "**Q4:** Create a graphical representation of this input (combine your answers from Q1-Q3). Upload it as an image into the next cell by entering the image name if it is in the same folder as this lab. Make sure that it displays properly within the notebook."
   ]
  },
  {
   "cell_type": "markdown",
   "metadata": {
    "scrolled": false
   },
   "source": [
    "![title](images-key/q4_graph.png)"
   ]
  },
  {
   "cell_type": "markdown",
   "metadata": {},
   "source": [
    "We came up with the following formulation for the Caterer’s Problem where the demand points are the four days $(1, 2, 3, 4)$ and the supply points are the store ($s$) and the ends of the first three days $(1’, 2’, 3’)$. The supplies/demands and costs are summarized in the table below. Did you get a similar formulation?\n",
    "\n",
    "|         | 1  | 2  | 3  | 4  | supplies |\n",
    "|---------|----|----|----|----|----------|\n",
    "| $s$     | 20 | 20 | 20 | 20 | $\\infty$ |\n",
    "| $1'$      | -  | 10 | 6  | -  | 15       |\n",
    "| $2'$      | -  | -  | 10 | 6  | 12       |\n",
    "| $3'$      | -  | -  | -  | 10 | 18       |\n",
    "| demands | 15 | 12 | 18 | 6  |          |"
   ]
  },
  {
   "cell_type": "markdown",
   "metadata": {},
   "source": [
    "**Q5:** Since we do not usually deal with infinity, what is a large enough value that can be the amount of supply at $s$? (Hint: Buy new napkins every day)\n",
    "\n",
    "**A:** <font color='blue'> If we buy new napkins every day then we need $15+12+18+6 = 51$ napkins from the store.</font>"
   ]
  },
  {
   "cell_type": "markdown",
   "metadata": {},
   "source": [
    "**Q6:** Is this formulation balanced? If not, how can you convert it into a balanced transportation problem?\n",
    "\n",
    "**A:** <font color='blue'> This formulation is not balanced because the total supply is 96 while the total demand is only 51. We can add a dummy demand node to make the formulation balanced. </font>"
   ]
  },
  {
   "cell_type": "markdown",
   "metadata": {},
   "source": [
    "**Q7:** What is the purpose of a dummy demand point in terms of napkins? For instance, what napkins come here, and what happens to them?\n",
    "\n",
    "**A:** <font color='blue'> Napkins that come to the dummy demand node are just thown away. They are neither laundered nor used. We assume it costs nothing to dispose of the napkins. </font>"
   ]
  },
  {
   "cell_type": "markdown",
   "metadata": {},
   "source": [
    "**Q8:** Fill out the missing values (XXX) in the table below. We substituted the dashes with a big enough number like 1000.\n",
    "\n",
    "|         | 1    | 2    | 3    | 4    | dummy | supplies |\n",
    "|---------|------|------|------|------|-------|----------|\n",
    "| $s$     | 20   | 20   | 20   | 20   | XXX   | 51      |\n",
    "| 1'      | 1000 | 10   | 6    | 1000 | XXX   | 15       |\n",
    "| 2'      | 1000 | 1000 | 10   | 6    | XXX   | 12       |\n",
    "| 3'      | 1000 | 1000 | 1000 | 10   | XXX   | 18       |\n",
    "| demands | 15   | 12   | 18   | 6    | XXX   |          |\n",
    "\n",
    " <font color='blue'>\n",
    "\n",
    "|         | 1    | 2    | 3    | 4    | dummy | supplies |\n",
    "|---------|------|------|------|------|-------|----------|\n",
    "| $s$     | 20   | 20   | 20   | 20   | 0   | 51      |\n",
    "| 1'      | 1000 | 10   | 6    | 1000 | 0   | 15       |\n",
    "| 2'      | 1000 | 1000 | 10   | 6    | 0   | 12       |\n",
    "| 3'      | 1000 | 1000 | 1000 | 10   | 0   | 18       |\n",
    "| demands | 15   | 12   | 18   | 6    | 45   |          |\n",
    "    \n",
    "</font>"
   ]
  },
  {
   "cell_type": "markdown",
   "metadata": {},
   "source": [
    "### Part 2: Solving Using a Computer\n",
    "\n",
    "The next cell contains our model. In later labs, you will practice writing your own models, but for now, read through the code and run it."
   ]
  },
  {
   "cell_type": "code",
   "execution_count": 2,
   "metadata": {},
   "outputs": [],
   "source": [
    "def transportation(data, integer=False):\n",
    "    \"\"\"A model for solving the transportation problem.\n",
    "    \n",
    "    Args:\n",
    "        data (pd.DataFrame): Dataframe with demand, supplies, and cost matrix.\n",
    "    \"\"\"\n",
    "    ORIG = list(data.index)[:-1]                                # origins\n",
    "    DEST = list(data.columns)[:-1]                              # destinations\n",
    "    supply = data['supply'][:-1].to_dict()                      # supply\n",
    "    demand = data.transpose()['demand'][:-1].to_dict()          # demand\n",
    "    cost = data.iloc[:-1,:-1].transpose().to_dict()\n",
    "    cost = {(i,j) : cost[i][j] for i in cost for j in cost[i]}  # cost\n",
    "    ARCS = list(cost)                                           # arcs\n",
    "    \n",
    "    # define model\n",
    "    m = OR.Solver('transportation', OR.Solver.CBC_MIXED_INTEGER_PROGRAMMING)\n",
    "    \n",
    "    # decision variables\n",
    "    x = {}  # units to be shipped on each edge\n",
    "    for i,j in ARCS:\n",
    "        if integer:\n",
    "            x[i,j] = m.IntVar(0, m.infinity(), ('(%s, %s)' % (i,j))) \n",
    "        else:\n",
    "            x[i,j] = m.NumVar(0, m.infinity(), ('(%s, %s)' % (i,j)))\n",
    "        \n",
    "    # objective function\n",
    "    m.Minimize(sum(cost[i,j]*x[i,j] for i,j in ARCS))\n",
    "        \n",
    "    # subject to: all supply delivered at each origin node\n",
    "    for i in ORIG:\n",
    "        m.Add(sum(x[i,j] for j in DEST) == supply[i])\n",
    "        \n",
    "    # subject to: demand met at each demand node\n",
    "    for j in DEST:\n",
    "        m.Add(sum(x[i,j] for i in ORIG) == demand[j])\n",
    "    \n",
    "    return m, x"
   ]
  },
  {
   "cell_type": "code",
   "execution_count": 3,
   "metadata": {},
   "outputs": [],
   "source": [
    "def solve(m):\n",
    "    m.Solve()\n",
    "    print('Solution:')\n",
    "    print('Objective value =', m.Objective().Value())\n",
    "    for var in m.variables():\n",
    "        print(var.name(), ':',  var.solution_value())"
   ]
  },
  {
   "cell_type": "code",
   "execution_count": 4,
   "metadata": {},
   "outputs": [],
   "source": [
    "steel_data = pd.read_csv('data/transportation_steel.csv', index_col=0)"
   ]
  },
  {
   "cell_type": "markdown",
   "metadata": {},
   "source": [
    "Here is an example set of data you can solve using this model. The `supply` column gives the tons of steel produced by three different steel mills. The `demand` row gives the tons of steel requested by each car manufacturer. The remaining portion of the dataframe gives the shipping cost per ton from each steel mill to each car manufacturer."
   ]
  },
  {
   "cell_type": "code",
   "execution_count": 5,
   "metadata": {},
   "outputs": [
    {
     "data": {
      "text/html": [
       "<div>\n",
       "<style scoped>\n",
       "    .dataframe tbody tr th:only-of-type {\n",
       "        vertical-align: middle;\n",
       "    }\n",
       "\n",
       "    .dataframe tbody tr th {\n",
       "        vertical-align: top;\n",
       "    }\n",
       "\n",
       "    .dataframe thead th {\n",
       "        text-align: right;\n",
       "    }\n",
       "</style>\n",
       "<table border=\"1\" class=\"dataframe\">\n",
       "  <thead>\n",
       "    <tr style=\"text-align: right;\">\n",
       "      <th></th>\n",
       "      <th>FRA</th>\n",
       "      <th>DET</th>\n",
       "      <th>LAN</th>\n",
       "      <th>WIN</th>\n",
       "      <th>STL</th>\n",
       "      <th>FRE</th>\n",
       "      <th>LAF</th>\n",
       "      <th>supply</th>\n",
       "    </tr>\n",
       "  </thead>\n",
       "  <tbody>\n",
       "    <tr>\n",
       "      <th>GARY</th>\n",
       "      <td>39</td>\n",
       "      <td>14</td>\n",
       "      <td>11</td>\n",
       "      <td>14</td>\n",
       "      <td>16</td>\n",
       "      <td>82</td>\n",
       "      <td>8</td>\n",
       "      <td>1400</td>\n",
       "    </tr>\n",
       "    <tr>\n",
       "      <th>CLEV</th>\n",
       "      <td>27</td>\n",
       "      <td>9</td>\n",
       "      <td>12</td>\n",
       "      <td>9</td>\n",
       "      <td>26</td>\n",
       "      <td>95</td>\n",
       "      <td>17</td>\n",
       "      <td>2600</td>\n",
       "    </tr>\n",
       "    <tr>\n",
       "      <th>PITT</th>\n",
       "      <td>24</td>\n",
       "      <td>14</td>\n",
       "      <td>17</td>\n",
       "      <td>13</td>\n",
       "      <td>28</td>\n",
       "      <td>99</td>\n",
       "      <td>20</td>\n",
       "      <td>2900</td>\n",
       "    </tr>\n",
       "    <tr>\n",
       "      <th>demand</th>\n",
       "      <td>900</td>\n",
       "      <td>1200</td>\n",
       "      <td>600</td>\n",
       "      <td>400</td>\n",
       "      <td>1700</td>\n",
       "      <td>1100</td>\n",
       "      <td>1000</td>\n",
       "      <td>6900</td>\n",
       "    </tr>\n",
       "  </tbody>\n",
       "</table>\n",
       "</div>"
      ],
      "text/plain": [
       "        FRA   DET  LAN  WIN   STL   FRE   LAF  supply\n",
       "GARY     39    14   11   14    16    82     8    1400\n",
       "CLEV     27     9   12    9    26    95    17    2600\n",
       "PITT     24    14   17   13    28    99    20    2900\n",
       "demand  900  1200  600  400  1700  1100  1000    6900"
      ]
     },
     "metadata": {},
     "output_type": "display_data"
    }
   ],
   "source": [
    "display(steel_data)"
   ]
  },
  {
   "cell_type": "markdown",
   "metadata": {},
   "source": [
    "Run the next cell to create a model to solve this transportation problem and then solve it!"
   ]
  },
  {
   "cell_type": "code",
   "execution_count": 6,
   "metadata": {},
   "outputs": [
    {
     "name": "stdout",
     "output_type": "stream",
     "text": [
      "Solution:\n",
      "Objective value = 196200.0\n",
      "(GARY, FRA) : 0.0\n",
      "(GARY, DET) : 0.0\n",
      "(GARY, LAN) : 0.0\n",
      "(GARY, WIN) : 0.0\n",
      "(GARY, STL) : 300.0\n",
      "(GARY, FRE) : 1100.0\n",
      "(GARY, LAF) : 0.0\n",
      "(CLEV, FRA) : 0.0\n",
      "(CLEV, DET) : 1200.0\n",
      "(CLEV, LAN) : 600.0\n",
      "(CLEV, WIN) : 400.0\n",
      "(CLEV, STL) : 0.0\n",
      "(CLEV, FRE) : 0.0\n",
      "(CLEV, LAF) : 400.0\n",
      "(PITT, FRA) : 900.0\n",
      "(PITT, DET) : 0.0\n",
      "(PITT, LAN) : 0.0\n",
      "(PITT, WIN) : 0.0\n",
      "(PITT, STL) : 1400.0\n",
      "(PITT, FRE) : 0.0\n",
      "(PITT, LAF) : 600.0\n"
     ]
    }
   ],
   "source": [
    "m, x = transportation(steel_data)\n",
    "solve(m)"
   ]
  },
  {
   "cell_type": "markdown",
   "metadata": {},
   "source": [
    "Now, let's use this model to solve the caterer's problem! (Hint: the dummy node is labeled `d`)"
   ]
  },
  {
   "cell_type": "code",
   "execution_count": 7,
   "metadata": {},
   "outputs": [
    {
     "data": {
      "text/html": [
       "<div>\n",
       "<style scoped>\n",
       "    .dataframe tbody tr th:only-of-type {\n",
       "        vertical-align: middle;\n",
       "    }\n",
       "\n",
       "    .dataframe tbody tr th {\n",
       "        vertical-align: top;\n",
       "    }\n",
       "\n",
       "    .dataframe thead th {\n",
       "        text-align: right;\n",
       "    }\n",
       "</style>\n",
       "<table border=\"1\" class=\"dataframe\">\n",
       "  <thead>\n",
       "    <tr style=\"text-align: right;\">\n",
       "      <th></th>\n",
       "      <th>1</th>\n",
       "      <th>2</th>\n",
       "      <th>3</th>\n",
       "      <th>4</th>\n",
       "      <th>d</th>\n",
       "      <th>supply</th>\n",
       "    </tr>\n",
       "  </thead>\n",
       "  <tbody>\n",
       "    <tr>\n",
       "      <th>s</th>\n",
       "      <td>20</td>\n",
       "      <td>20</td>\n",
       "      <td>20</td>\n",
       "      <td>20</td>\n",
       "      <td>0</td>\n",
       "      <td>51</td>\n",
       "    </tr>\n",
       "    <tr>\n",
       "      <th>1'</th>\n",
       "      <td>1000</td>\n",
       "      <td>10</td>\n",
       "      <td>6</td>\n",
       "      <td>1000</td>\n",
       "      <td>0</td>\n",
       "      <td>15</td>\n",
       "    </tr>\n",
       "    <tr>\n",
       "      <th>2'</th>\n",
       "      <td>1000</td>\n",
       "      <td>1000</td>\n",
       "      <td>10</td>\n",
       "      <td>6</td>\n",
       "      <td>0</td>\n",
       "      <td>12</td>\n",
       "    </tr>\n",
       "    <tr>\n",
       "      <th>3'</th>\n",
       "      <td>1000</td>\n",
       "      <td>1000</td>\n",
       "      <td>1000</td>\n",
       "      <td>10</td>\n",
       "      <td>0</td>\n",
       "      <td>18</td>\n",
       "    </tr>\n",
       "    <tr>\n",
       "      <th>demand</th>\n",
       "      <td>15</td>\n",
       "      <td>12</td>\n",
       "      <td>18</td>\n",
       "      <td>6</td>\n",
       "      <td>45</td>\n",
       "      <td>96</td>\n",
       "    </tr>\n",
       "  </tbody>\n",
       "</table>\n",
       "</div>"
      ],
      "text/plain": [
       "           1     2     3     4   d  supply\n",
       "s         20    20    20    20   0      51\n",
       "1'      1000    10     6  1000   0      15\n",
       "2'      1000  1000    10     6   0      12\n",
       "3'      1000  1000  1000    10   0      18\n",
       "demand    15    12    18     6  45      96"
      ]
     },
     "metadata": {},
     "output_type": "display_data"
    }
   ],
   "source": [
    "caterer_data = pd.read_csv('data/transportation_caterer.csv', index_col=0)\n",
    "display(caterer_data)"
   ]
  },
  {
   "cell_type": "markdown",
   "metadata": {},
   "source": [
    "**Q9:** Does the table above match what you found in **Q8?** What did you get wrong?\n",
    "\n",
    "**A:** <font color='blue'> Depends. </font>"
   ]
  },
  {
   "cell_type": "markdown",
   "metadata": {},
   "source": [
    "Run the cell below to create the transportation model and solve it."
   ]
  },
  {
   "cell_type": "code",
   "execution_count": 8,
   "metadata": {},
   "outputs": [
    {
     "name": "stdout",
     "output_type": "stream",
     "text": [
      "Solution:\n",
      "Objective value = 666.0\n",
      "(s, 1) : 15.0\n",
      "(s, 2) : 3.0\n",
      "(s, 3) : 0.0\n",
      "(s, 4) : 0.0\n",
      "(s, d) : 33.0\n",
      "(1', 1) : 0.0\n",
      "(1', 2) : 9.0\n",
      "(1', 3) : 6.0\n",
      "(1', 4) : 0.0\n",
      "(1', d) : 0.0\n",
      "(2', 1) : 0.0\n",
      "(2', 2) : 0.0\n",
      "(2', 3) : 12.0\n",
      "(2', 4) : 0.0\n",
      "(2', d) : 0.0\n",
      "(3', 1) : 0.0\n",
      "(3', 2) : 0.0\n",
      "(3', 3) : 0.0\n",
      "(3', 4) : 6.0\n",
      "(3', d) : 12.0\n"
     ]
    }
   ],
   "source": [
    "m, x = transportation(caterer_data)\n",
    "solve(m)"
   ]
  },
  {
   "cell_type": "markdown",
   "metadata": {},
   "source": [
    "**Q10:** Reinterpret the solution in words including how we get napkins for each day.\n",
    "\n",
    "**A:** <font color='blue'> The first day, we just have to buy all of our napkins (15). We then get 9 cleaned using the fast service and 6 cleaned using the slow service. The 9 in addition to 3 new napkins satisfy the demand for the second day. After which, all 12 are cleaned using the fast service. These, along with 6 from day 1 satisfy the demand for the third day. Lastly, 6 napkins are cleaned using the fast system to be ready for the final day. </font>"
   ]
  },
  {
   "cell_type": "markdown",
   "metadata": {},
   "source": [
    "### Part 3: Exploring the Optimal Solution\n",
    "\n",
    "We will start by solving a new problem. An oil company imports crude oil from three sources and refines it at five refineries. Sources 1, 2, 3 can ship 20, 50, 20 units of crude respectively each week. Refineries 1 to 5 need 10, 24, 6, 20, 30 units of crude respectively each week. The table below contains the unit shipping costs from the sources to the refineries. The entry in the $i$th row and $j$th column gives the cost to ship from source $i$ to refinery $j$.\n",
    "\n",
    "|    |    |    |    |    |\n",
    "|----|----|----|----|----|\n",
    "| 30 | 30 | 10 | 27 | 15 |\n",
    "| 15 | 15 | 8  | 13 | 5  |\n",
    "| 25 | 21 | 5  | 15 | 21 |"
   ]
  },
  {
   "cell_type": "code",
   "execution_count": 9,
   "metadata": {},
   "outputs": [
    {
     "data": {
      "text/html": [
       "<div>\n",
       "<style scoped>\n",
       "    .dataframe tbody tr th:only-of-type {\n",
       "        vertical-align: middle;\n",
       "    }\n",
       "\n",
       "    .dataframe tbody tr th {\n",
       "        vertical-align: top;\n",
       "    }\n",
       "\n",
       "    .dataframe thead th {\n",
       "        text-align: right;\n",
       "    }\n",
       "</style>\n",
       "<table border=\"1\" class=\"dataframe\">\n",
       "  <thead>\n",
       "    <tr style=\"text-align: right;\">\n",
       "      <th></th>\n",
       "      <th>R1</th>\n",
       "      <th>R2</th>\n",
       "      <th>R3</th>\n",
       "      <th>R4</th>\n",
       "      <th>R5</th>\n",
       "      <th>supply</th>\n",
       "    </tr>\n",
       "  </thead>\n",
       "  <tbody>\n",
       "    <tr>\n",
       "      <th>S1</th>\n",
       "      <td>30</td>\n",
       "      <td>30</td>\n",
       "      <td>10</td>\n",
       "      <td>27</td>\n",
       "      <td>15</td>\n",
       "      <td>20</td>\n",
       "    </tr>\n",
       "    <tr>\n",
       "      <th>S2</th>\n",
       "      <td>15</td>\n",
       "      <td>15</td>\n",
       "      <td>8</td>\n",
       "      <td>13</td>\n",
       "      <td>5</td>\n",
       "      <td>50</td>\n",
       "    </tr>\n",
       "    <tr>\n",
       "      <th>S3</th>\n",
       "      <td>25</td>\n",
       "      <td>21</td>\n",
       "      <td>5</td>\n",
       "      <td>15</td>\n",
       "      <td>21</td>\n",
       "      <td>20</td>\n",
       "    </tr>\n",
       "    <tr>\n",
       "      <th>demand</th>\n",
       "      <td>10</td>\n",
       "      <td>24</td>\n",
       "      <td>6</td>\n",
       "      <td>20</td>\n",
       "      <td>30</td>\n",
       "      <td>90</td>\n",
       "    </tr>\n",
       "  </tbody>\n",
       "</table>\n",
       "</div>"
      ],
      "text/plain": [
       "        R1  R2  R3  R4  R5  supply\n",
       "S1      30  30  10  27  15      20\n",
       "S2      15  15   8  13   5      50\n",
       "S3      25  21   5  15  21      20\n",
       "demand  10  24   6  20  30      90"
      ]
     },
     "metadata": {},
     "output_type": "display_data"
    }
   ],
   "source": [
    "oil_data = pd.read_csv('data/transportation_oil.csv', index_col=0)\n",
    "display(oil_data)"
   ]
  },
  {
   "cell_type": "code",
   "execution_count": 10,
   "metadata": {},
   "outputs": [
    {
     "name": "stdout",
     "output_type": "stream",
     "text": [
      "Solution:\n",
      "Objective value = 1160.0\n",
      "(S1, R1) : 0.0\n",
      "(S1, R2) : 0.0\n",
      "(S1, R3) : 6.0\n",
      "(S1, R4) : 0.0\n",
      "(S1, R5) : 14.0\n",
      "(S2, R1) : 10.0\n",
      "(S2, R2) : 24.0\n",
      "(S2, R3) : 0.0\n",
      "(S2, R4) : 0.0\n",
      "(S2, R5) : 16.0\n",
      "(S3, R1) : 0.0\n",
      "(S3, R2) : 0.0\n",
      "(S3, R3) : 0.0\n",
      "(S3, R4) : 20.0\n",
      "(S3, R5) : 0.0\n"
     ]
    }
   ],
   "source": [
    "m, x = transportation(oil_data)\n",
    "solve(m)"
   ]
  },
  {
   "cell_type": "markdown",
   "metadata": {},
   "source": [
    "Now consider the values $u(1) = 25$, $u(2) = 15$, $u(3) = 17$, $v(1) = 0$, $v(2) = 0$, $v(3) = -15$, $v(4) = -2$, and $v(5) = -10$.  "
   ]
  },
  {
   "cell_type": "markdown",
   "metadata": {},
   "source": [
    "**Q11:** Write down the modified cost matrix, where as shown in class, we subtract $u(i)$ from all the entries in row $i$, and similarly we subtract $v(j)$ from each entry of column $j$. Argue why the solution computed above is indeed optimal for the original input.\n",
    "\n",
    "**A:**\n",
    "\n",
    "|    |    |    |    |    |\n",
    "|----|----|----|----|----|\n",
    "|   |  |  |  |  |\n",
    "|   |  |  |  |   |\n",
    "|   |  |  |  |  |\n",
    "\n",
    "<font color='blue'> \n",
    "    \n",
    "|    |    |    |    |    |\n",
    "|----|----|----|----|----|\n",
    "| 5 | 5 | 0 | 4 | 0 |\n",
    "| 0 | 0 |8  | 0 | 0  |\n",
    "| 8 | 4 | 3  | 0 | 14 |\n",
    "\n",
    "In the solution above, all non-zero $x_{ij}$ have modified cost equal to zero. Hence, the solution must be optimal. </font>"
   ]
  },
  {
   "cell_type": "markdown",
   "metadata": {},
   "source": [
    "Now suppose that we anticipate the cost of shipping from source 1 to refinery 1 (currently equal 30) to go down. Observe that in the current optimal solution, we do not ship anything from source 1 to refinery 1. An interesting question is \"By how much should $c(1,1)$ decrease before we will consider shipping some positive amount along that path?\"\n",
    "\n",
    "**Q12:** Try the following values for $c(1,1)$: 28, 26, 25, 24. Record the optimal solutions in the table. Also include the value $\\overline{c}(1,1)$ from the matrix of modified costs (recall $\\overline{c}(1,1) = c(1,1) - u(1) - v(1)$). What can you conclude?"
   ]
  },
  {
   "cell_type": "code",
   "execution_count": 11,
   "metadata": {},
   "outputs": [
    {
     "name": "stdout",
     "output_type": "stream",
     "text": [
      "Solution:\n",
      "Objective value = 1160.0\n",
      "(S1, R1) : 0.0\n",
      "(S1, R2) : 0.0\n",
      "(S1, R3) : 6.0\n",
      "(S1, R4) : 0.0\n",
      "(S1, R5) : 14.0\n",
      "(S2, R1) : 10.0\n",
      "(S2, R2) : 24.0\n",
      "(S2, R3) : 0.0\n",
      "(S2, R4) : 0.0\n",
      "(S2, R5) : 16.0\n",
      "(S3, R1) : 0.0\n",
      "(S3, R2) : 0.0\n",
      "(S3, R3) : 0.0\n",
      "(S3, R4) : 20.0\n",
      "(S3, R5) : 0.0\n"
     ]
    }
   ],
   "source": [
    "oil_data.loc['S1','R1'] = 30\n",
    "m, x = transportation(oil_data)\n",
    "solve(m)"
   ]
  },
  {
   "cell_type": "markdown",
   "metadata": {},
   "source": [
    "**A:** \n",
    "\n",
    "|                     | 28          | 26          | 25         | 24 |\n",
    "|---------------------|-------------|-------------|------------|----|\n",
    "|                     | x(1,3) = XXX  | XXX | XXX | x(1,1) = XXX |   \n",
    "|                     | x(1,5) = XXX |             |            | x(1,3) = XXX  |\n",
    "|                     | x(2,1) = XXX |             |            | x(1,5) = XXX   |\n",
    "|                     | x(2,2) = XXX |             |            | x(2,2) = XXX   |\n",
    "|                     | x(2,5) = XXX |             |            | x(2,5) = XXX   |\n",
    "|                     | x(3,4) = XXX |             |            | x(3,4) = XXX   |\n",
    "| $\\overline{c}$(1,1) |  XXX          |  XXX          |    XXX    | XXX |\n",
    "\n",
    "<font color='blue'>\n",
    "\n",
    "|                     | 28          | 26          | 25         | 24 |\n",
    "|---------------------|-------------|-------------|------------|----|\n",
    "|                     | x(1,3) = 6  | same as 28  | same as 28 | x(1,1) = 10 |   \n",
    "|                     | x(1,5) = 14 |             |            | x(1,3) = 6  |\n",
    "|                     | x(2,1) = 10 |             |            | x(1,5) = 4   |\n",
    "|                     | x(2,2) = 24 |             |            | x(2,2) = 24   |\n",
    "|                     | x(2,5) = 16 |             |            | x(2,5) = 26   |\n",
    "|                     | x(3,4) = 20 |             |            | x(3,4) = 20   |\n",
    "| $\\overline{c}$(1,1) |  3          |  1          |      0     | -1 |\n",
    "\n",
    " Once the modified cost becomes negative, the edge will enter the solution. It could enter when the modified cost is zero though.</font>"
   ]
  },
  {
   "cell_type": "markdown",
   "metadata": {},
   "source": [
    "Now consider the original model with $c(1,1) = 30$. Make sure to run the cell below to reset the value."
   ]
  },
  {
   "cell_type": "code",
   "execution_count": 12,
   "metadata": {},
   "outputs": [],
   "source": [
    "oil_data.loc['S1','R1'] = 30"
   ]
  },
  {
   "cell_type": "markdown",
   "metadata": {},
   "source": [
    "**Q13:** Could you use the modified cost matrix to answer the same kind of question raised above for changes in any $c(i,j)$ parameter? Try to use your observations to figure out by how much the value of $c(2,3)$ needs to be reduced so that we will consider shipping from source 2 to refinery 3. Check your answer using our Python model.\n",
    "\n",
    "**A:** <font color='blue'> The value of $c(2,3)$ needs to be decreased by at least 8 for the edge to enter the solution. </font>"
   ]
  },
  {
   "cell_type": "markdown",
   "metadata": {},
   "source": [
    "Once again start with the original model and data. Because of a trade agreement, the amount that is shipped from source 2 to refinery 5 cannot exceed the amount that is shipped to refinery 5 from sources 1 and 3 combined by more than 1. The following cell adds this aditional constraint to the model befoe solving.\n",
    "\n",
    "**Q14:** Rerun the model cell and re-solve to find the new optimal solution and objective value."
   ]
  },
  {
   "cell_type": "code",
   "execution_count": 13,
   "metadata": {},
   "outputs": [
    {
     "name": "stdout",
     "output_type": "stream",
     "text": [
      "Solution:\n",
      "Objective value = 1161.5\n",
      "(S1, R1) : 0.0\n",
      "(S1, R2) : 0.0\n",
      "(S1, R3) : 5.5\n",
      "(S1, R4) : 0.0\n",
      "(S1, R5) : 14.5\n",
      "(S2, R1) : 10.0\n",
      "(S2, R2) : 24.0\n",
      "(S2, R3) : 0.0\n",
      "(S2, R4) : 0.5\n",
      "(S2, R5) : 15.5\n",
      "(S3, R1) : 0.0\n",
      "(S3, R2) : 0.0\n",
      "(S3, R3) : 0.5\n",
      "(S3, R4) : 19.5\n",
      "(S3, R5) : 0.0\n"
     ]
    }
   ],
   "source": [
    "m, x = transportation(oil_data)\n",
    "m.Add(x['S2','R5'] <= x['S1','R5'] + x['S3','R5'] + 1)\n",
    "solve(m)"
   ]
  },
  {
   "cell_type": "markdown",
   "metadata": {},
   "source": [
    "**A:** <font color='blue'> The objective value is 1161.5.\n",
    "\n",
    "|          | Refinery 1 | 2 | 3 | 4 | 5 |\n",
    "|----------|------------|---|---|---|---|\n",
    "| Source 1 |      0      | 0  |  5 |  0 | 14.5  |\n",
    "| 2        |      10      | 24  | 0  | 0.5  | 15.5  |\n",
    "| 3        |      0      |  0 | 0.5  | 19.5  | 0  |</font>"
   ]
  },
  {
   "cell_type": "markdown",
   "metadata": {},
   "source": [
    "**Q15:** What is different from your previous solutions? What property does not hold anymore now that we have added the trade agreement constraint?"
   ]
  },
  {
   "cell_type": "markdown",
   "metadata": {},
   "source": [
    "**A:** <font color='blue'> The objective value is higher (worse) and the integrality property no longer holds.</font>"
   ]
  },
  {
   "cell_type": "markdown",
   "metadata": {},
   "source": [
    "Since the shipping is done in barrels, we want the optimal solution to have only integer flow values. In the next cell, we set the parameter `integer` to true to enforce this. Again, we include our new constraint before solving."
   ]
  },
  {
   "cell_type": "code",
   "execution_count": 14,
   "metadata": {
    "scrolled": true
   },
   "outputs": [
    {
     "name": "stdout",
     "output_type": "stream",
     "text": [
      "Solution:\n",
      "Objective value = 1163.0\n",
      "(S1, R1) : 0.0\n",
      "(S1, R2) : 0.0\n",
      "(S1, R3) : 5.0\n",
      "(S1, R4) : 0.0\n",
      "(S1, R5) : 15.0\n",
      "(S2, R1) : 10.0\n",
      "(S2, R2) : 24.0\n",
      "(S2, R3) : 0.0\n",
      "(S2, R4) : 1.0\n",
      "(S2, R5) : 15.0\n",
      "(S3, R1) : 0.0\n",
      "(S3, R2) : 0.0\n",
      "(S3, R3) : 1.0\n",
      "(S3, R4) : 19.0\n",
      "(S3, R5) : 0.0\n"
     ]
    }
   ],
   "source": [
    "m, x = transportation(oil_data, integer=True)\n",
    "m.Add(x['S2','R5'] <= x['S1','R5'] + x['S3','R5'] + 1)\n",
    "solve(m)"
   ]
  },
  {
   "cell_type": "markdown",
   "metadata": {},
   "source": [
    "**Q16:** Re-solve. Give the optimal solution and objective.\n",
    "\n",
    "**A:** <font color='blue'> The objective value is 1163 \n",
    "\n",
    "|          | Refinery 1 | 2 | 3 | 4 | 5 |\n",
    "|----------|------------|---|---|---|---|\n",
    "| Source 1 |    0        | 0  | 5  | 0 | 15 |\n",
    "| 2        |     10       | 24  | 0  |  1 | 15  |\n",
    "| 3        |      0      |  0 | 1  | 19  |  0 |</font>"
   ]
  },
  {
   "cell_type": "markdown",
   "metadata": {},
   "source": [
    "**Q17:** Note that the optimal objective function value is higher than it was before we added the integrality constraint. Can you explain why it could never be lower than it was before we added the constraint that all *Trans* values had to be integer?"
   ]
  },
  {
   "cell_type": "markdown",
   "metadata": {},
   "source": [
    "**A:** <font color='blue'> By adding a integer constraint, we decrease thre feasible region of our problem. We have tightened our acceptable number of solutions, so our solution can only be greater or equal to the original problem's solution.</font>"
   ]
  }
 ],
 "metadata": {
  "kernelspec": {
   "display_name": "Python 3",
   "language": "python",
   "name": "python3"
  },
  "language_info": {
   "codemirror_mode": {
    "name": "ipython",
    "version": 3
   },
   "file_extension": ".py",
   "mimetype": "text/x-python",
   "name": "python",
   "nbconvert_exporter": "python",
   "pygments_lexer": "ipython3",
   "version": "3.6.10"
  }
 },
 "nbformat": 4,
 "nbformat_minor": 2
}
