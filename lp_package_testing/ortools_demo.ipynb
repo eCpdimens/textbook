{
 "cells": [
  {
   "cell_type": "code",
   "execution_count": null,
   "metadata": {},
   "outputs": [],
   "source": [
    "#imports\n",
    "from ortools.linear_solver import pywraplp as OR\n",
    "import pandas as pd\n",
    "import math, itertools\n",
    "import time\n",
    "import random as rand"
   ]
  },
  {
   "cell_type": "markdown",
   "metadata": {},
   "source": [
    "### Cereal Diet Problem (Lab 8)"
   ]
  },
  {
   "cell_type": "markdown",
   "metadata": {},
   "source": [
    "$\n",
    "\\begin{align}\n",
    "\\min &\\quad 3.8K + 4.2C \\\\\n",
    "\\text{subject to} &\\quad 0.1K + 0.25C &\\geq 1 \\\\\n",
    "&\\quad 1K + 0.25C &\\geq 5 \\\\\n",
    "&\\quad 110K + 120C &\\geq 400 \\\\\n",
    "&\\quad 0 \\leq K, C\n",
    "\\end{align}\n",
    "$"
   ]
  },
  {
   "cell_type": "code",
   "execution_count": null,
   "metadata": {},
   "outputs": [],
   "source": [
    "# define the model\n",
    "diet = OR.Solver('diet', OR.Solver.GLOP_LINEAR_PROGRAMMING);"
   ]
  },
  {
   "cell_type": "code",
   "execution_count": null,
   "metadata": {},
   "outputs": [],
   "source": [
    "# decision variables\n",
    "K = diet.NumVar(0, diet.infinity(), 'K');\n",
    "C = diet.NumVar(0, diet.infinity(), 'C');"
   ]
  },
  {
   "cell_type": "code",
   "execution_count": null,
   "metadata": {},
   "outputs": [],
   "source": [
    "# objective function\n",
    "diet.Minimize(3.8*K + 4.2*C);"
   ]
  },
  {
   "cell_type": "code",
   "execution_count": null,
   "metadata": {},
   "outputs": [],
   "source": [
    "# constraints\n",
    "diet.Add(0.1*K + 0.25*C >= 1);\n",
    "diet.Add(1*K + 0.25*C >= 5);\n",
    "diet.Add(110*K + 120*C >= 400);"
   ]
  },
  {
   "cell_type": "code",
   "execution_count": null,
   "metadata": {},
   "outputs": [],
   "source": [
    "# solve and print solution\n",
    "diet.Solve()\n",
    "print('Objective =', diet.Objective().Value())\n",
    "print('Solution:')\n",
    "for v in diet.variables():\n",
    "    print(v.name(),':', v.solution_value())"
   ]
  },
  {
   "cell_type": "markdown",
   "metadata": {},
   "source": [
    "### Stigler's Diet"
   ]
  },
  {
   "cell_type": "markdown",
   "metadata": {},
   "source": [
    "*Based on CSV from http://excelcalculations.blogspot.com/2011/05/diet-problem-linear-programming.html*"
   ]
  },
  {
   "cell_type": "code",
   "execution_count": null,
   "metadata": {},
   "outputs": [],
   "source": [
    "nutrients = pd.read_csv('data/nutrients.csv')\n",
    "display(nutrients)\n",
    "NUTRIENTS = []\n",
    "bound = {}\n",
    "for index, row in nutrients.iterrows():\n",
    "    nutr = row['Nutrient']\n",
    "    NUTRIENTS.append(nutr)\n",
    "    bound.update({nutr : row['Bound']})"
   ]
  },
  {
   "cell_type": "code",
   "execution_count": null,
   "metadata": {},
   "outputs": [],
   "source": [
    "foods = pd.read_csv('data/foods.csv')\n",
    "display(foods)\n",
    "FOODS = []\n",
    "cost = {}\n",
    "amt = {}\n",
    "for index, row in foods.iterrows():\n",
    "    food = row['Food']\n",
    "    FOODS.append(food)\n",
    "    cost.update({food : row['Cost']})\n",
    "    for nutr in NUTRIENTS:\n",
    "        amt.update({(food, nutr) : row[nutr]})"
   ]
  },
  {
   "cell_type": "code",
   "execution_count": null,
   "metadata": {},
   "outputs": [],
   "source": [
    "# define model\n",
    "m = OR.Solver('diet', OR.Solver.GLOP_LINEAR_PROGRAMMING)"
   ]
  },
  {
   "cell_type": "code",
   "execution_count": null,
   "metadata": {},
   "outputs": [],
   "source": [
    "# decision variables\n",
    "x = {}\n",
    "for i in FOODS:\n",
    "    x[i] = m.NumVar(0, m.infinity(), ('%s' % (i)))"
   ]
  },
  {
   "cell_type": "code",
   "execution_count": null,
   "metadata": {},
   "outputs": [],
   "source": [
    "# objective function\n",
    "m.Minimize(sum(x[i]*cost[i] for i in FOODS))"
   ]
  },
  {
   "cell_type": "code",
   "execution_count": null,
   "metadata": {},
   "outputs": [],
   "source": [
    "# subject to: edge capacities \n",
    "for j in NUTRIENTS:\n",
    "    m.Add(sum(x[i]*amt[i,j] for i in FOODS) >= bound[j])"
   ]
  },
  {
   "cell_type": "code",
   "execution_count": null,
   "metadata": {},
   "outputs": [],
   "source": [
    "m.Solve()\n",
    "print('Objective value =', m.Objective().Value())\n",
    "print('Solution:')\n",
    "for v in m.variables():\n",
    "    print(v.name(),':', v.solution_value())"
   ]
  },
  {
   "cell_type": "markdown",
   "metadata": {},
   "source": [
    "### Max Flow Implementation"
   ]
  },
  {
   "cell_type": "code",
   "execution_count": null,
   "metadata": {},
   "outputs": [],
   "source": [
    "def MaxFlow(NODES,EDGES,capacity,source,sink):\n",
    "    \"\"\"Max flow model.\"\"\"\n",
    "    \n",
    "    # define model\n",
    "    m = OR.Solver('maxFlow', OR.Solver.GLOP_LINEAR_PROGRAMMING)\n",
    "        \n",
    "    # decision variables\n",
    "    f = {}\n",
    "    for i,j in EDGES:\n",
    "        f[i,j] = m.NumVar(0, m.infinity(), ('(%s, %s)' % (i,j)))\n",
    "            \n",
    "    # objective function\n",
    "    m.Maximize(sum(f[i,j] for i,j in EDGES if j == sink))\n",
    "            \n",
    "    # subject to: edge capacities \n",
    "    for i,j in EDGES:\n",
    "        m.Add(f[i,j] <= capacity[i,j])\n",
    "            \n",
    "    # subject to: flow conservation \n",
    "    for k in NODES:\n",
    "        if k != source and k != sink:\n",
    "            flowIn = sum(f[i,j] for i,j in EDGES if j == k)\n",
    "            flowOut = sum(f[i,j] for i,j in EDGES if i == k)\n",
    "            m.Add(flowIn == flowOut)\n",
    "            \n",
    "    return m"
   ]
  },
  {
   "cell_type": "code",
   "execution_count": null,
   "metadata": {},
   "outputs": [],
   "source": [
    "# EX: store max flow instance in two CSV files. Source and sink set manually.\n",
    "nodes = pd.read_csv('data/nodes.csv') \n",
    "display(nodes)\n",
    "edges = pd.read_csv('data/edges.csv') \n",
    "display(edges)"
   ]
  },
  {
   "cell_type": "code",
   "execution_count": null,
   "metadata": {},
   "outputs": [],
   "source": [
    "# create node set\n",
    "NODES = []\n",
    "for index, row in nodes.iterrows():\n",
    "    NODES.append(row['nodes'])\n",
    "# set source and sink\n",
    "source= 1\n",
    "sink = 7\n",
    "\n",
    "# create edge set\n",
    "EDGES = []\n",
    "capacity = {}\n",
    "for index, row in edges.iterrows():\n",
    "    edge = (row['tail'],row['head'])\n",
    "    EDGES.append(edge)\n",
    "    capacity.update({edge : row['capacity']})"
   ]
  },
  {
   "cell_type": "code",
   "execution_count": null,
   "metadata": {},
   "outputs": [],
   "source": [
    "# create a model from abstract MaxFlow model \n",
    "mod= MaxFlow(NODES,EDGES,capacity,source,sink)\n",
    "# solve model and print results\n",
    "mod.Solve()\n",
    "print('Objective value =', mod.Objective().Value())\n",
    "print('Solution:')\n",
    "for v in mod.variables():\n",
    "    print(v.name(),':', v.solution_value())"
   ]
  },
  {
   "cell_type": "markdown",
   "metadata": {},
   "source": [
    "### Branch and Bound (Incomplete)"
   ]
  },
  {
   "cell_type": "markdown",
   "metadata": {},
   "source": [
    "$\n",
    "\\begin{align}\n",
    "\\max &\\quad 5x_1 + 8x_2 \\\\\n",
    "\\text{subject to} &\\quad x_1 + x_2 &\\leq 6 \\\\\n",
    "&\\quad 5x_1 + 9x_2 &\\leq 45 \\\\\n",
    "&\\quad x_1, x_2 &\\leq 0 \\\\\n",
    "&\\quad x_1, x_2 &\\text{integer} \n",
    "\\end{align}\n",
    "$"
   ]
  },
  {
   "cell_type": "code",
   "execution_count": null,
   "metadata": {},
   "outputs": [],
   "source": [
    "# define the model\n",
    "lp = OR.Solver('lp', OR.Solver.GLOP_LINEAR_PROGRAMMING);\n",
    "# decision variables\n",
    "x1 = lp.NumVar(0, diet.infinity(), 'x1');\n",
    "x2 = lp.NumVar(0, diet.infinity(), 'x2');\n",
    "# objective function\n",
    "lp.Maximize(5*x1 + 8*x2);\n",
    "# constraints\n",
    "lp.Add(x1 + x2 <= 6);\n",
    "lp.Add(5*x1 + 9*x2 <= 45);"
   ]
  },
  {
   "cell_type": "code",
   "execution_count": null,
   "metadata": {},
   "outputs": [],
   "source": [
    "class Node:\n",
    "    def __init__(self, lp, sol, z):\n",
    "        self.lp = lp\n",
    "        self.sol = sol\n",
    "        self.z = z\n",
    "    def lp(self):\n",
    "        return lp\n",
    "    def sol(self):\n",
    "        return sol\n",
    "    def z(self):\n",
    "        return z "
   ]
  },
  {
   "cell_type": "code",
   "execution_count": null,
   "metadata": {},
   "outputs": [],
   "source": [
    "# returns a dictionary of variables to values\n",
    "def Solution(lp):\n",
    "    vals = {}\n",
    "    for v in lp.variables():\n",
    "        vals.update({v : v.solution_value()})\n",
    "    return vals"
   ]
  },
  {
   "cell_type": "code",
   "execution_count": null,
   "metadata": {},
   "outputs": [],
   "source": [
    "# branch on the given LP\n",
    "def Branch(node):\n",
    "    sol = node.sol\n",
    "    for x in sol:\n",
    "        val = sol[x]\n",
    "        if not round(val,9).is_integer():\n",
    "            branch = []\n",
    "            leftLP = node.lp # not independent duplicate\n",
    "            leftLP.Add(x <= math.floor(val)) \n",
    "            leftLP.Solve()\n",
    "            if leftLP.FEASIBLE:\n",
    "                zLeft = leftLP.Objective().Value()\n",
    "                solLeft = Solution(leftLP)\n",
    "                leftNode = Node(leftLP,solLeft,zLeft)\n",
    "                branch.append(leftNode)                \n",
    "            rightLP = node.lp\n",
    "            rightLP.Add(x <= math.floor(val)) \n",
    "            rightLP.Solve()\n",
    "            if rightLP.FEASIBLE:\n",
    "                zRight = rightLP.Objective().Value()\n",
    "                solRight = Solution(rightLP)\n",
    "                rightNode = Node(rightLP,solRight,zRight)   \n",
    "                branch.append(rightNode)\n",
    "            return branch\n",
    "    # solution is integral\n",
    "    return node    "
   ]
  },
  {
   "cell_type": "code",
   "execution_count": null,
   "metadata": {},
   "outputs": [],
   "source": [
    "# takes the LP relaxation and returns optimal integral solution\n",
    "def BranchAndBound(lp):\n",
    "    \n",
    "    lp.Solve()\n",
    "    z = lp.Objective().Value()\n",
    "    sol = Solution(lp)\n",
    "    root= Node(lp,sol,z)\n",
    "    \n",
    "    firstIncumbent = True\n",
    "    incumbent = None\n",
    "    active = [root]\n",
    "    \n",
    "    while len(active) > 0:\n",
    "        # get an active subproblem\n",
    "        subproblem = active.pop()\n",
    "        \n",
    "        if firstIncumbent == False and subproblem.z < incumbent.z:\n",
    "            continue\n",
    "        \n",
    "        # branch\n",
    "        branch = Branch(subproblem)\n",
    "        if branch == subproblem:\n",
    "            # must be integral\n",
    "            # see if incumbent should be updated\n",
    "            if firstIncumbent or subproblem.z > incumbent.z:\n",
    "                firstIncumbent = False\n",
    "                incumbent = subproblem\n",
    "        else:\n",
    "            for n in branch:  \n",
    "                active.append(n)\n",
    "    \n",
    "    return incumbent"
   ]
  },
  {
   "cell_type": "code",
   "execution_count": null,
   "metadata": {},
   "outputs": [],
   "source": [
    "opt = BranchAndBound(lp)\n",
    "print('Objective: ', opt.z)\n",
    "print('Solution:')\n",
    "for x in opt.sol:\n",
    "    print(x.name(), ':', opt.sol[x])"
   ]
  },
  {
   "cell_type": "markdown",
   "metadata": {},
   "source": [
    "### Hotel Room Assignment (2019)"
   ]
  },
  {
   "cell_type": "markdown",
   "metadata": {},
   "source": [
    "*Based on research by Henry Robbins and Sam Gutekunst*"
   ]
  },
  {
   "cell_type": "code",
   "execution_count": null,
   "metadata": {},
   "outputs": [],
   "source": [
    "hotel = pd.read_csv('data/hotel.csv')\n",
    "display(hotel.head())\n",
    "ROOMS = []\n",
    "rType = {}\n",
    "for index, row in hotel.iterrows():\n",
    "    room = row['number'].astype(int)\n",
    "    ROOMS.append(room)\n",
    "    rType.update({room : row['type']})"
   ]
  },
  {
   "cell_type": "code",
   "execution_count": null,
   "metadata": {},
   "outputs": [],
   "source": [
    "arrivals = pd.read_csv('data/arrivals.csv')\n",
    "display(arrivals.head())\n",
    "GUESTS = []\n",
    "gType = {}\n",
    "for index, row in arrivals.iterrows():\n",
    "    guest = row['id']\n",
    "    GUESTS.append(guest)\n",
    "    gType.update({guest : row['type']})"
   ]
  },
  {
   "cell_type": "code",
   "execution_count": null,
   "metadata": {},
   "outputs": [],
   "source": [
    "weights = pd.read_csv('data/weights.csv')\n",
    "display(weights.head())\n",
    "weight = {}\n",
    "for index, row in weights.iterrows():\n",
    "    for r in ROOMS:\n",
    "        weight.update({(row['guest'].astype(int),r): row[r]})"
   ]
  },
  {
   "cell_type": "code",
   "execution_count": null,
   "metadata": {},
   "outputs": [],
   "source": [
    "PAIRS = list(itertools.product(GUESTS, ROOMS))"
   ]
  },
  {
   "cell_type": "code",
   "execution_count": null,
   "metadata": {},
   "outputs": [],
   "source": [
    "# solver\n",
    "m = OR.Solver('lp', OR.Solver.CBC_MIXED_INTEGER_PROGRAMMING);"
   ]
  },
  {
   "cell_type": "code",
   "execution_count": null,
   "metadata": {},
   "outputs": [],
   "source": [
    "# decision variables\n",
    "x = {}\n",
    "for g,r in PAIRS:\n",
    "    x[g,r] = m.IntVar(0,1,('(%s, %s)' % (g,r)))"
   ]
  },
  {
   "cell_type": "code",
   "execution_count": null,
   "metadata": {},
   "outputs": [],
   "source": [
    "# objective function\n",
    "m.Maximize(sum(x[g,r]*weight[g,r] for g,r in PAIRS)/len(GUESTS)) # set objective"
   ]
  },
  {
   "cell_type": "code",
   "execution_count": null,
   "metadata": {},
   "outputs": [],
   "source": [
    "# subject to: every guest assigned one room\n",
    "for g in GUESTS:\n",
    "    m.Add(sum(x[g,r] for r in ROOMS) == 1)"
   ]
  },
  {
   "cell_type": "code",
   "execution_count": null,
   "metadata": {},
   "outputs": [],
   "source": [
    "# subject to: every room assigned at most one guest\n",
    "for r in ROOMS:\n",
    "    m.Add(sum(x[g,r] for g in GUESTS) <= 1)"
   ]
  },
  {
   "cell_type": "code",
   "execution_count": null,
   "metadata": {},
   "outputs": [],
   "source": [
    "# subject to: every guest assigned a room of appropriate type\n",
    "for g in GUESTS:\n",
    "    m.Add(sum(x[g,r]*rType[r] for r in ROOMS) >= gType[g])"
   ]
  },
  {
   "cell_type": "code",
   "execution_count": null,
   "metadata": {},
   "outputs": [],
   "source": [
    "m.Solve()\n",
    "print('Objective value =', m.Objective().Value())\n",
    "print('Solution:')\n",
    "for g,r in PAIRS:\n",
    "    val = x[g,r].solution_value()\n",
    "    if val == 1:\n",
    "        print(x[g,r].name(),':',weight[g,r])\n",
    "m.Objective().BestBound()"
   ]
  }
 ],
 "metadata": {
  "language_info": {
   "name": "python"
  }
 },
 "nbformat": 4,
 "nbformat_minor": 4
}
