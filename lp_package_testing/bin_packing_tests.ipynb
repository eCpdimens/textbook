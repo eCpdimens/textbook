{
 "cells": [
  {
   "cell_type": "markdown",
   "metadata": {},
   "source": [
    "### Imports"
   ]
  },
  {
   "cell_type": "code",
   "execution_count": null,
   "metadata": {},
   "outputs": [],
   "source": [
    "import numpy as np\n",
    "import scipy.stats as ss\n",
    "import math, itertools\n",
    "import random\n",
    "import time\n",
    "from mpl_toolkits import mplot3d\n",
    "import matplotlib.pyplot as plt\n",
    "from ortools.linear_solver import pywraplp as OR\n",
    "from gurobipy import *"
   ]
  },
  {
   "cell_type": "markdown",
   "metadata": {},
   "source": [
    "### Generation Methods"
   ]
  },
  {
   "cell_type": "code",
   "execution_count": null,
   "metadata": {},
   "outputs": [],
   "source": [
    "def discrete_beta_rand(mean):\n",
    "    \"\"\"Sample from a discretized gaussian distribution truncated to [lb,ub].\"\"\"\n",
    "    a = 2.5\n",
    "    b = 10\n",
    "    m = a/(a+b)\n",
    "    lb=1\n",
    "    ub=(round(mean/m))+1\n",
    "    x = np.arange(lb,ub+1)\n",
    "    xU, xL = x + 0.5, x - 0.5 \n",
    "    prob = ss.beta.cdf(xU, a,b,0,ub-lb) - ss.beta.cdf(xL, a,b,0,ub-lb)\n",
    "    prob = prob / prob.sum() #normalize the probabilities so their sum is 1\n",
    "    return np.random.choice(x, p = prob)"
   ]
  },
  {
   "cell_type": "code",
   "execution_count": null,
   "metadata": {},
   "outputs": [],
   "source": [
    "def perfect_bin_packing(mean,binCount,capacity):\n",
    "    \"\"\"Create a perfect bin packing input. Output problem instance and solution.\"\"\"\n",
    "    TYPES = []  # set of item types (volumes)\n",
    "    count = {}  # count of each item type\n",
    "    BINS = range(binCount) # set of bins\n",
    "    pack = {}  # encodes optimal solution\n",
    "    for b in BINS:\n",
    "        pack.update({b:[]})\n",
    "    for b in BINS:\n",
    "        PPB = discrete_beta_rand(mean)  # pieces in this bin\n",
    "        pos = list(range(1,capacity))  # list of positions\n",
    "        split = random.sample(pos,PPB-1)  # split up capacity \n",
    "        split = sorted(split) # sort\n",
    "        split.append(capacity)\n",
    "        lastPos = 0\n",
    "        for i in split:\n",
    "            item = i - lastPos\n",
    "            if item in TYPES:\n",
    "                count[item] += 1\n",
    "            else:\n",
    "                TYPES.append(item)\n",
    "                count.update({item : 1})\n",
    "            pack[b].append(item)\n",
    "            lastPos = i       \n",
    "    return TYPES, count, pack"
   ]
  },
  {
   "cell_type": "markdown",
   "metadata": {},
   "source": [
    "### Model"
   ]
  },
  {
   "cell_type": "code",
   "execution_count": null,
   "metadata": {},
   "outputs": [],
   "source": [
    "def bin_packing(TYPES,count,capacity,solver,timeLimit=None,relativeGap=None,integer=True):\n",
    "    \"\"\"Model for a bin packing problem.\"\"\"\n",
    "    \n",
    "    BINS = list(range(sum(count.values()))) # upper bound for bins\n",
    "    PAIRS = list(itertools.product(TYPES, BINS))\n",
    "     \n",
    "    # define model\n",
    "    m = OR.Solver('packBins', solver)\n",
    "    param = OR.MPSolverParameters()\n",
    "    if timeLimit is not None:\n",
    "        print(m.SetSolverSpecificParametersAsString('''TimeLimit %d \\n \n",
    "                                                       NodeLimit 100 \\n\n",
    "                                                       MIPGap 0.05''' % timeLimit))\n",
    "    if relativeGap is not None:\n",
    "        param.SetDoubleParam(param.RELATIVE_MIP_GAP, relativeGap)\n",
    "    \n",
    "    ## CHANGE TO IntVar() FOR IP AND NumVar() FOR LP RELAXATION\n",
    "    \n",
    "    # decision variables\n",
    "    x = {} # number of item type i placed in bin j\n",
    "    for i,j in PAIRS:\n",
    "        if integer:\n",
    "            x[i,j] = m.IntVar(0, m.infinity(), ('(%s, %s)' % (i,j)))\n",
    "        else:\n",
    "            x[i,j] = m.NumVar(0, m.infinity(), ('(%s, %s)' % (i,j)))\n",
    "    y = {} # 1 if bin i is used; 0 otherwise\n",
    "    for i in BINS:\n",
    "        if integer:\n",
    "            y[i] = m.IntVar(0, 1, ('%s' % (i)))\n",
    "        else:\n",
    "            y[i] = m.NumVar(0, 1, ('%s' % (i)))\n",
    "        \n",
    "        \n",
    "    # objective function\n",
    "    m.Minimize(sum(y[i] for i in BINS)) # set objective\n",
    "    \n",
    "    # subject to: bin capacity\n",
    "    for j in BINS:\n",
    "        m.Add(sum(x[i,j]*i for i in TYPES) <= capacity)\n",
    "        \n",
    "    # subject to: all items packed\n",
    "    for i in TYPES:\n",
    "        m.Add(sum(x[i,j] for j in BINS) == count[i])\n",
    "        \n",
    "    # subject to: bin used or not\n",
    "    for j in BINS:\n",
    "        M = capacity\n",
    "        m.Add(sum(x[i,j]*i for i in TYPES) <= M*y[j])\n",
    "    \n",
    "    m.Solve(param)\n",
    "    \n",
    "    # abs(best_bound - incumbent) / abs(incumbent) [Gurobi]\n",
    "    incumbent = m.Objective().Value()\n",
    "    best_bound = m.Objective().BestBound()\n",
    "    if not incumbent == 0:\n",
    "        gap = abs(best_bound - incumbent) / abs(incumbent)\n",
    "    else:\n",
    "        gap = -1\n",
    "    return m.Objective().Value(), m.NumVariables(), m.NumConstraints()"
   ]
  },
  {
   "cell_type": "markdown",
   "metadata": {},
   "source": [
    "### Tests Methods"
   ]
  },
  {
   "cell_type": "code",
   "execution_count": null,
   "metadata": {},
   "outputs": [],
   "source": [
    "def single_test(mean,binCount,capacity,solver,integer=True):\n",
    "    s = time.time()\n",
    "    TYPES, count, pack = perfect_bin_packing(mean,binCount,capacity)\n",
    "    opt, var, con = bin_packing(TYPES,count,capacity,solver,integer=integer)\n",
    "    f = time.time()\n",
    "    return f-s, opt, var, con"
   ]
  },
  {
   "cell_type": "code",
   "execution_count": null,
   "metadata": {},
   "outputs": [],
   "source": [
    "def full_test(mean, bin_counts, capacities, solver, integer=True):\n",
    "    results = {}\n",
    "    for binCount in bin_counts:\n",
    "        for capacity in capacities:\n",
    "            t, opt, var, con= single_test(mean,binCount,capacity,solver,integer=integer)\n",
    "            assert round(opt) == binCount\n",
    "            results[(binCount,capacity,var,con)] = t\n",
    "    return results"
   ]
  },
  {
   "cell_type": "markdown",
   "metadata": {},
   "source": [
    "### Plotting Methods"
   ]
  },
  {
   "cell_type": "code",
   "execution_count": null,
   "metadata": {},
   "outputs": [],
   "source": [
    "def ppb_histo(pack):\n",
    "    \"\"\"show histogram of PPB (Pieces Per Bin).\"\"\"\n",
    "    PPB = [] \n",
    "    for b in pack.keys():\n",
    "        PPB.append(len(pack[b]))\n",
    "    plt.hist(PPB,\n",
    "         bins=max(PPB)-min(PPB),\n",
    "         density=False,\n",
    "         histtype='bar',\n",
    "         color='b',\n",
    "         edgecolor='k',\n",
    "         alpha=0.5)\n",
    "    plt.xlabel('Pieces Per Bin')\n",
    "    plt.ylabel('Number of Bins')\n",
    "    plt.title('Histogram of Pieces Per Bin')\n",
    "    plt.show()"
   ]
  },
  {
   "cell_type": "code",
   "execution_count": null,
   "metadata": {},
   "outputs": [],
   "source": [
    "def volume_histo(ITEMS):\n",
    "    \"\"\"show histogram of item volumes.\"\"\"\n",
    "    plt.hist(ITEMS,\n",
    "         bins=max(ITEMS)-min(ITEMS),\n",
    "         density=False,\n",
    "         histtype='bar',\n",
    "         color='b',\n",
    "         edgecolor='k',\n",
    "         alpha=0.5)\n",
    "    plt.xlabel('Item Volume')\n",
    "    plt.ylabel('Number of Items')\n",
    "    plt.title('Histogram of Item Volumes')\n",
    "    plt.show()"
   ]
  },
  {
   "cell_type": "code",
   "execution_count": null,
   "metadata": {},
   "outputs": [],
   "source": [
    "def plot_results(results,x,y):    \n",
    "    fig = plt.figure(figsize=(10, 6))\n",
    "    ax = plt.axes(projection='3d')\n",
    "    xdata = []\n",
    "    ydata = []\n",
    "    zdata = []\n",
    "    for i in results.keys():\n",
    "        xdata.append(i[x])\n",
    "        ydata.append(i[y])\n",
    "        zdata.append(results[i])\n",
    "    ax.scatter3D(xdata, ydata, zdata, cmap='Greens');\n",
    "    \n",
    "    lbl = {0:'# of Bins',\n",
    "           1:'Bin Capacity',\n",
    "           2:'# of Variables',\n",
    "           3:'# of Constraints'}\n",
    "    \n",
    "    ax.set_xlabel(lbl[x])\n",
    "    ax.set_ylabel(lbl[y])\n",
    "    ax.set_zlabel('Run time (s)')\n",
    "    ax.view_init(20, -80)"
   ]
  },
  {
   "cell_type": "markdown",
   "metadata": {},
   "source": [
    "### Run Tests"
   ]
  },
  {
   "cell_type": "code",
   "execution_count": null,
   "metadata": {},
   "outputs": [],
   "source": [
    "# -------------------------------------------\n",
    "# Historical Run:\n",
    "# [5,10,15,20,25,30,40,50,75,100,125,150,200]\n",
    "# [100,150,200,250,300]\n",
    "# -------------------------------------------\n",
    "\n",
    "# -------------------------------\n",
    "# UNCOMMENT BELOW TO ROTATE PLOTS \n",
    "# %matplotlib notebook \n",
    "# -------------------------------"
   ]
  },
  {
   "cell_type": "code",
   "execution_count": null,
   "metadata": {},
   "outputs": [],
   "source": [
    "# SOLVERS\n",
    "GUROBI = OR.Solver.GUROBI_MIXED_INTEGER_PROGRAMMING\n",
    "CBC = OR.Solver.CBC_MIXED_INTEGER_PROGRAMMING"
   ]
  },
  {
   "cell_type": "code",
   "execution_count": null,
   "metadata": {},
   "outputs": [],
   "source": [
    "# GUROBI LP-RELAXATION\n",
    "results = full_test(20, [5,10,15,20,25], [100,125,150], GUROBI, integer=False)\n",
    "plot_results(results,0,1)\n",
    "plot_results(results,2,3)"
   ]
  },
  {
   "cell_type": "code",
   "execution_count": null,
   "metadata": {},
   "outputs": [],
   "source": [
    "# CBC LP-RELAXATION\n",
    "results = full_test(20, [5,10,15,20,25], [100,125,150], CBC, integer=False)\n",
    "plot_results(results,0,1)\n",
    "plot_results(results,2,3)"
   ]
  },
  {
   "cell_type": "code",
   "execution_count": null,
   "metadata": {},
   "outputs": [],
   "source": [
    "# GUROBI\n",
    "results = full_test(20, [5,10,15,20,25], [100,125,150], GUROBI, integer=True)\n",
    "plot_results(results,0,1)\n",
    "plot_results(results,2,3)"
   ]
  },
  {
   "cell_type": "code",
   "execution_count": null,
   "metadata": {},
   "outputs": [],
   "source": [
    "# CBC\n",
    "results = full_test(20, [5,10,15,20,25], [100,125,150], CBC, integer=True)\n",
    "plot_results(results,0,1)\n",
    "plot_results(results,2,3)"
   ]
  }
 ],
 "metadata": {
  "language_info": {
   "name": "python"
  }
 },
 "nbformat": 4,
 "nbformat_minor": 4
}
