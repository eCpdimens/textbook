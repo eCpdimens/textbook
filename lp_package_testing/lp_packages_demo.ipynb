{
 "cells": [
  {
   "cell_type": "markdown",
   "metadata": {},
   "source": [
    "*Based on the report by George Frentzel*"
   ]
  },
  {
   "cell_type": "markdown",
   "metadata": {},
   "source": [
    "## Max Flow Implementation\n",
    "### PuLP"
   ]
  },
  {
   "cell_type": "code",
   "execution_count": 1,
   "metadata": {},
   "outputs": [],
   "source": [
    "from pulp import *"
   ]
  },
  {
   "cell_type": "code",
   "execution_count": 2,
   "metadata": {},
   "outputs": [],
   "source": [
    "VERTICES = ['S',2,3,4,5,6,'T']\n",
    "EDGES = [('S',2), ('S',3), (2,3), (2,4), (2,5), (3,5),\n",
    "(3,6), (4,'T'), (5,4), (5,6), (5,'T'),(6,'T')]"
   ]
  },
  {
   "cell_type": "code",
   "execution_count": 3,
   "metadata": {},
   "outputs": [],
   "source": [
    "#Use a dictionary to associate capacities of each edge\n",
    "capacity = {('S',2):1, ('S',3):7, (2,3):5, (2,4):6, (2,5):2,\n",
    "            (3,5):2, (3,6):4, (4,'T'):5, (5,4):1, (5,6):4, (5,'T'):4, \n",
    "            (6,'T'):3}"
   ]
  },
  {
   "cell_type": "code",
   "execution_count": 4,
   "metadata": {},
   "outputs": [],
   "source": [
    "#Create variables for each edge\n",
    "vars = LpVariable.dicts(\"Edges\",EDGES,None,None,LpInteger)"
   ]
  },
  {
   "cell_type": "code",
   "execution_count": 5,
   "metadata": {},
   "outputs": [],
   "source": [
    "#Sets capacity of each edge to be at least 0, at most its capacity\n",
    "for a in EDGES: vars[a].bounds(0,capacity[a])"
   ]
  },
  {
   "cell_type": "code",
   "execution_count": 6,
   "metadata": {},
   "outputs": [],
   "source": [
    "#Creates an LpProblem object, given as maximization and a title\n",
    "prob = LpProblem(\"Max␣flow␣Problem\", LpMaximize)"
   ]
  },
  {
   "cell_type": "code",
   "execution_count": 7,
   "metadata": {},
   "outputs": [],
   "source": [
    "#Defines objective function\n",
    "prob += lpSum([vars[(i,j)] for (i,j) in EDGES if j=='T'])"
   ]
  },
  {
   "cell_type": "code",
   "execution_count": 8,
   "metadata": {},
   "outputs": [],
   "source": [
    "# Creates all problem constraints\n",
    "for n in VERTICES:\n",
    "    if (n!='S' and n!='T'):\n",
    "        prob += (lpSum([vars[(i,j)] for (i,j) in EDGES if j == n]) ==\n",
    "        lpSum([vars[(i,j)] for (i,j) in EDGES if i == n]))"
   ]
  },
  {
   "cell_type": "code",
   "execution_count": 9,
   "metadata": {},
   "outputs": [
    {
     "name": "stdout",
     "output_type": "stream",
     "text": [
      "Max Flow = 6.0\n",
      "('S', 2) 1.0\n",
      "('S', 3) 5.0\n",
      "(2, 3) 0.0\n",
      "(2, 4) 0.0\n",
      "(2, 5) 1.0\n",
      "(3, 5) 2.0\n",
      "(3, 6) 3.0\n",
      "(4, 'T') 0.0\n",
      "(5, 4) 0.0\n",
      "(5, 6) 0.0\n",
      "(5, 'T') 3.0\n",
      "(6, 'T') 3.0\n"
     ]
    }
   ],
   "source": [
    "prob.writeLP(\"maxflowlp.lp\")\n",
    "prob.solve()\n",
    "print('Max Flow =', value(prob.objective)) \n",
    "for (i,j) in EDGES: print((i,j), value(vars[(i,j)]))"
   ]
  },
  {
   "cell_type": "markdown",
   "metadata": {},
   "source": [
    "### GurobiPy"
   ]
  },
  {
   "cell_type": "code",
   "execution_count": 10,
   "metadata": {},
   "outputs": [],
   "source": [
    "from gurobipy import *"
   ]
  },
  {
   "cell_type": "code",
   "execution_count": 11,
   "metadata": {},
   "outputs": [],
   "source": [
    "VERTICES = ['S',2,3,4,5,6,'T']\n",
    "EDGES = tuplelist([('S',2), ('S',3), (2,3), (2,4), (2,5), (3,5),\n",
    "(3,6), (4,'T'), (5,4), (5,6), (5,'T'),(6,'T')])\n",
    "source = 'S'\n",
    "sink = 'T'"
   ]
  },
  {
   "cell_type": "code",
   "execution_count": 12,
   "metadata": {},
   "outputs": [],
   "source": [
    "#Use a dictionary to associate capacities of each edge\n",
    "capacity = {('S',2):1, ('S',3):7, (2,3):5, (2,4):6, (2,5):2,\n",
    "            (3,5):2, (3,6):4, (4,'T'):5, (5,4):1, (5,6):4, (5,'T'):4, \n",
    "            (6,'T'):3}"
   ]
  },
  {
   "cell_type": "code",
   "execution_count": 13,
   "metadata": {},
   "outputs": [
    {
     "name": "stdout",
     "output_type": "stream",
     "text": [
      "Restricted license - for non-production use only - expires 2022-01-13\n"
     ]
    }
   ],
   "source": [
    "# Create optimization model\n",
    "m = Model('maxflow')"
   ]
  },
  {
   "cell_type": "code",
   "execution_count": 14,
   "metadata": {},
   "outputs": [],
   "source": [
    "# create model variables\n",
    "flowvar = {}\n",
    "for i,j in EDGES:\n",
    "    flowvar[i,j] = m.addVar()"
   ]
  },
  {
   "cell_type": "code",
   "execution_count": 15,
   "metadata": {},
   "outputs": [],
   "source": [
    "#Need to update model after defining variables\n",
    "m.update()\n",
    "# define objective function\n",
    "obfun = quicksum(flowvar[i,j] for i,j in EDGES.select(source,'*')) \n",
    "m.setObjective(obfun, GRB.MAXIMIZE)"
   ]
  },
  {
   "cell_type": "code",
   "execution_count": 16,
   "metadata": {},
   "outputs": [],
   "source": [
    "#add capacity constraints and flow conservations constraints\n",
    "for i,j in EDGES: \n",
    "    m.addConstr(flowvar[i,j]<=capacity[i,j])"
   ]
  },
  {
   "cell_type": "code",
   "execution_count": 17,
   "metadata": {},
   "outputs": [],
   "source": [
    "for j in VERTICES:\n",
    "    if j!=source and j!=sink:\n",
    "        m.addConstr( quicksum(flowvar[i,j] for i,j in EDGES.select('*',j))\n",
    "        == quicksum(flowvar[j,k] for j,k in EDGES.select(j,'*')))"
   ]
  },
  {
   "cell_type": "code",
   "execution_count": 20,
   "metadata": {
    "scrolled": false
   },
   "outputs": [
    {
     "name": "stdout",
     "output_type": "stream",
     "text": [
      "Gurobi Optimizer version 9.1.2 build v9.1.2rc0 (mac64)\n",
      "Thread count: 6 physical cores, 12 logical processors, using up to 12 threads\n",
      "Optimize a model with 17 rows, 12 columns and 31 nonzeros\n",
      "Coefficient statistics:\n",
      "  Matrix range     [1e+00, 1e+00]\n",
      "  Objective range  [1e+00, 1e+00]\n",
      "  Bounds range     [0e+00, 0e+00]\n",
      "  RHS range        [1e+00, 7e+00]\n",
      "\n",
      "Solved in 0 iterations and 0.01 seconds\n",
      "Optimal objective  6.000000000e+00\n",
      "\n",
      "Optimal␣flows:\n",
      "S -> 2: 1\n",
      "S -> 3: 5\n",
      "2 -> 3: 0\n",
      "2 -> 4: 1\n",
      "2 -> 5: 0\n",
      "3 -> 5: 2\n",
      "3 -> 6: 3\n",
      "4 -> T: 1\n",
      "5 -> 4: 0\n",
      "5 -> 6: 0\n",
      "5 -> T: 2\n",
      "6 -> T: 3\n"
     ]
    }
   ],
   "source": [
    "# Compute optimal solution\n",
    "m.optimize()\n",
    "# Print solution\n",
    "if m.status == GRB.Status.OPTIMAL: \n",
    "    solution = m.getAttr('x', flowvar) \n",
    "    print('\\nOptimal␣flows:')\n",
    "    for i,j in EDGES:\n",
    "         print('%s -> %s: %g' % (i, j, solution[i,j]))"
   ]
  },
  {
   "cell_type": "markdown",
   "metadata": {},
   "source": [
    "### PySCIPOpt"
   ]
  },
  {
   "cell_type": "code",
   "execution_count": 19,
   "metadata": {},
   "outputs": [
    {
     "ename": "ModuleNotFoundError",
     "evalue": "No module named 'pyscipopt'",
     "output_type": "error",
     "traceback": [
      "\u001b[0;31m---------------------------------------------------------------------------\u001b[0m",
      "\u001b[0;31mModuleNotFoundError\u001b[0m                       Traceback (most recent call last)",
      "\u001b[0;32m<ipython-input-19-cd2a5acc5554>\u001b[0m in \u001b[0;36m<module>\u001b[0;34m\u001b[0m\n\u001b[1;32m      1\u001b[0m \u001b[0;31m# imports\u001b[0m\u001b[0;34m\u001b[0m\u001b[0;34m\u001b[0m\u001b[0;34m\u001b[0m\u001b[0m\n\u001b[0;32m----> 2\u001b[0;31m \u001b[0;32mfrom\u001b[0m \u001b[0mpyscipopt\u001b[0m \u001b[0;32mimport\u001b[0m \u001b[0;34m*\u001b[0m\u001b[0;34m\u001b[0m\u001b[0;34m\u001b[0m\u001b[0m\n\u001b[0m",
      "\u001b[0;31mModuleNotFoundError\u001b[0m: No module named 'pyscipopt'"
     ]
    }
   ],
   "source": [
    "# imports\n",
    "from pyscipopt import *"
   ]
  },
  {
   "cell_type": "code",
   "execution_count": null,
   "metadata": {},
   "outputs": [],
   "source": [
    "VERTICES = ['S',2,3,4,5,6,'T']\n",
    "EDGES = [('S',2), ('S',3), (2,3), (2,4), (2,5), (3,5),\n",
    "        (3,6), (4,'T'), (5,4), (5,6), (5,'T'),(6,'T')]\n",
    "source = 'S'\n",
    "sink = 'T'\n",
    "capacity = {('S',2):1, ('S',3):7, (2,3):5, (2,4):6, (2,5):2, (3,5):2, \n",
    "            (3,6):4, (4,'T'):5, (5,4):1, (5,6):4, (5,'T'):4, (6,'T'):3}"
   ]
  },
  {
   "cell_type": "code",
   "execution_count": null,
   "metadata": {},
   "outputs": [],
   "source": [
    "m = Model(\"maxFlow\") # create model"
   ]
  },
  {
   "cell_type": "code",
   "execution_count": null,
   "metadata": {},
   "outputs": [],
   "source": [
    "f = {}\n",
    "for i,j in EDGES:\n",
    "    f[i,j] = m.addVar()"
   ]
  },
  {
   "cell_type": "code",
   "execution_count": null,
   "metadata": {},
   "outputs": [],
   "source": [
    "obfun = quicksum(f[i,j] for i,j in EDGES if j == 'T') # objective function\n",
    "m.setObjective(obfun, \"maximize\") # set objective"
   ]
  },
  {
   "cell_type": "code",
   "execution_count": null,
   "metadata": {},
   "outputs": [],
   "source": [
    "# subject to edge capacities\n",
    "for i,j in EDGES: \n",
    "    m.addCons(f[i,j]<=capacity[i,j])"
   ]
  },
  {
   "cell_type": "code",
   "execution_count": null,
   "metadata": {},
   "outputs": [],
   "source": [
    "# subject to flow conservation\n",
    "for k in VERTICES:\n",
    "    if k!=source and k!=sink:\n",
    "        m.addCons( quicksum(f[i,j] for i,j in EDGES if j == k)\n",
    "                == quicksum(f[i,j] for i,j in EDGES if i == k))"
   ]
  },
  {
   "cell_type": "code",
   "execution_count": null,
   "metadata": {},
   "outputs": [],
   "source": [
    "m.optimize() # optimize\n",
    "# print optimal solution (if found)\n",
    "if m.getStatus() == \"optimal\":\n",
    "    print(\"Optimal value:\", m.getObjVal())\n",
    "    print(\"Solution:\") \n",
    "    for i,j in EDGES:\n",
    "        print('%s -> %s: %g' % (i, j, m.getVal(f[i,j])))\n",
    "else: \n",
    "    print(\"Problem could not be solved to optimality\")"
   ]
  },
  {
   "cell_type": "markdown",
   "metadata": {},
   "source": [
    "### Pyomo"
   ]
  },
  {
   "cell_type": "code",
   "execution_count": null,
   "metadata": {},
   "outputs": [],
   "source": [
    "# imports\n",
    "from pyomo.environ import *\n",
    "from pyomo.opt import SolverFactory"
   ]
  },
  {
   "cell_type": "code",
   "execution_count": null,
   "metadata": {},
   "outputs": [],
   "source": [
    "# select gurobi as the solver\n",
    "opt = SolverFactory('gurobi')"
   ]
  },
  {
   "cell_type": "code",
   "execution_count": null,
   "metadata": {},
   "outputs": [],
   "source": [
    "# initialize the model \n",
    "model = AbstractModel()\n",
    "model.NODES = Set() # set of nodes \n",
    "model.EDGES = Set(within=model.NODES * model.NODES) # set of edges\n",
    "model.s = Param(within=model.NODES) # source node\n",
    "model.t = Param(within=model.NODES) # sink node\n",
    "model.u = Param(model.EDGES) # edge capacities \n",
    "model.f = Var(model.EDGES, within=NonNegativeReals)"
   ]
  },
  {
   "cell_type": "code",
   "execution_count": null,
   "metadata": {
    "scrolled": true
   },
   "outputs": [],
   "source": [
    "# objective: maximize the flow in to the sink \n",
    "def NetFlow(model):   \n",
    "    return sum(model.f[i, j] for (i, j) in model.EDGES if j == model.t)\n",
    "model.maxFlow = Objective(rule=NetFlow , sense=maximize)"
   ]
  },
  {
   "cell_type": "code",
   "execution_count": null,
   "metadata": {},
   "outputs": [],
   "source": [
    "# subject to: flow across every edge is less than the capacity \n",
    "def CapacityConstraint(model, i,j):\n",
    "    return (model.f[i,j] <= model.u[i,j])\n",
    "model.loadOnArc = Constraint(model.EDGES, rule=CapacityConstraint)"
   ]
  },
  {
   "cell_type": "code",
   "execution_count": null,
   "metadata": {},
   "outputs": [],
   "source": [
    "# subject to: flow in to a node (aside from the source/sink) is equal to the flow out\n",
    "def FlowConservation(model, k):\n",
    "    if (k == model.s or k == model.t): return Constraint.Skip\n",
    "    inFlow = sum(model.f[i, j] for (i, j) in model.EDGES if j == k) \n",
    "    outFlow = sum(model.f[i, j] for (i, j) in model.EDGES if i == k) \n",
    "    return (inFlow == outFlow)\n",
    "model.flow = Constraint((model.NODES), rule=FlowConservation)"
   ]
  },
  {
   "cell_type": "code",
   "execution_count": null,
   "metadata": {
    "scrolled": false
   },
   "outputs": [],
   "source": [
    "instance = model.create_instance('data/maxflow.dat') \n",
    "results = opt.solve(instance)\n",
    "instance.display()"
   ]
  },
  {
   "cell_type": "markdown",
   "metadata": {},
   "source": [
    "### Google OR-Tools (Glop for LP and COIN-OR for LP and MIP)"
   ]
  },
  {
   "cell_type": "code",
   "execution_count": null,
   "metadata": {},
   "outputs": [],
   "source": [
    "#imports\n",
    "from ortools.linear_solver import pywraplp as OR"
   ]
  },
  {
   "cell_type": "code",
   "execution_count": null,
   "metadata": {},
   "outputs": [],
   "source": [
    "VERTICES = ['S',2,3,4,5,6,'T']\n",
    "EDGES = [('S',2), ('S',3), (2,3), (2,4), (2,5), (3,5),\n",
    "        (3,6), (4,'T'), (5,4), (5,6), (5,'T'),(6,'T')]\n",
    "source = 'S'\n",
    "sink = 'T'\n",
    "capacity = {('S',2):1, ('S',3):7, (2,3):5, (2,4):6, (2,5):2, (3,5):2, \n",
    "            (3,6):4, (4,'T'):5, (5,4):1, (5,6):4, (5,'T'):4, (6,'T'):3}\n",
    "\n",
    "m = OR.Solver('maxFlow', OR.Solver.GLOP_LINEAR_PROGRAMMING) # define model\n",
    "\n",
    "# define decision variables\n",
    "f = {}\n",
    "for i,j in EDGES:\n",
    "    # NumVar creates continuous variable with ub, lb, and name \n",
    "    f[i,j] = m.NumVar(0, m.infinity(), ('(%s, %s)' % (i,j)))\n",
    "    \n",
    "# define objective function\n",
    "m.Maximize(sum(f[i,j] for i,j in EDGES if j == sink)) # set objective\n",
    "\n",
    "# subject to: flow across every edge is less than the capacity \n",
    "for i,j in EDGES:\n",
    "    m.Add(f[i,j] <= capacity[i,j])\n",
    "\n",
    "# subject to: flow in to a node (aside from the source/sink) is equal to the flow out\n",
    "for k in VERTICES:\n",
    "    if k != sink and k != source:\n",
    "        flowIn = sum(f[i,j] for i,j in EDGES if j == k)\n",
    "        flowOut = sum(f[i,j] for i,j in EDGES if i == k)\n",
    "        m.Add(flowIn == flowOut)\n",
    "\n",
    "m.Solve()\n",
    "print('Solution:')\n",
    "print('Objective value =', m.Objective().Value())\n",
    "for i,j in EDGES:\n",
    "    print(f[i,j].name(),':', f[i,j].solution_value())"
   ]
  },
  {
   "cell_type": "markdown",
   "metadata": {},
   "source": [
    "## Dynamic Programming"
   ]
  },
  {
   "cell_type": "code",
   "execution_count": null,
   "metadata": {},
   "outputs": [],
   "source": [
    "# input data\n",
    "teams =32 \n",
    "seeds =16 \n",
    "pennies =100\n",
    "\n",
    "seedcostdict = {1:25, 2:21, 3:18, 4:15, 5:12, 6:10, 7:8, 8:6, 9:5, \n",
    "                10:4 ,11:3 , 12:2 , 13:1 , 14:1 , 15:1 , 16:1}\n",
    "tupledict= {1:('Michigan St',4,1), 2:('Fresno St',1,9), \n",
    "            3:('Gonzaga',2,12), 4:('Indiana St',1,13),\n",
    "5:('Temple',3,11), 6:('Florida',1,3), 7:('Penn St',2,7), \n",
    "8:('North Carolina',1,2), 9:('Illinois',3,1), 10:('Charlotte',1,9), \n",
    "11:('Syracuse',2,5), 12:('Kansas',2,4), 13:('Notre Dame',1,6), \n",
    "14:('Missisippi',2,3), 15:('Butler',1,10), 16:('Arizona',5,2),\n",
    "17:('Duke',6,1), 18:('Missouri',2,9), 19:('Utah St',1,12), \n",
    "20:('UCLA',2,4), 21:('USC',3,6), 22:('Boston College',2,3), \n",
    "23:('Iowa',1,7), 24:('Kentucky',2,2), 25:('Stanford',3,1), \n",
    "26:('St Josephs',1,9), 27:('Cincinatti',2,5), 28:('Kent St',1,13), \n",
    "29:('Georgia St',1,11), 30:('Maryland',4,3), \n",
    "31: ('Georgetown', 2, 10),  32: ('Hampton', 1, 15)}\n",
    "\n",
    "# helpful functions\n",
    "def name(team): return tupledict[team][0] # name of team\n",
    "def wins(team): return tupledict[team][1] # number of wins of team \n",
    "def seed(team): return tupledict[team][2] # seed of team\n",
    "def seedcost(seed): return seedcostdict[seed] # cost of seed\n",
    "def cost(team): return seedcost(seed(team)) # cost of team"
   ]
  },
  {
   "cell_type": "code",
   "execution_count": null,
   "metadata": {},
   "outputs": [],
   "source": [
    "# dynamic programming algorithm\n",
    "def pack2(team,pennies):\n",
    "    Table= [[0 for x in range(pennies+1)] for x in range(team+1)] \n",
    "    for i in range(team + 1):\n",
    "        for w in range(pennies + 1): \n",
    "            if i == 0 or w == 0:\n",
    "                Table[i][w] = 0 \n",
    "            elif cost(i) <= w:\n",
    "                Table[i][w]= max(wins(i)+Table[i-1][w-cost(i)],\n",
    "                Table[i-1][w])\n",
    "            else:\n",
    "                Table[i][w] = Table[i - 1][w] \n",
    "    return Table[team][pennies]\n",
    "\n",
    "def rectab(team,pennies):\n",
    "    Table= [[0 for x in range(pennies+1)] for x in range(team+1)] \n",
    "    for i in range(team + 1):\n",
    "        for w in range(pennies + 1): \n",
    "            if i == 0 or w == 0:\n",
    "                Table[i][w] = 0\n",
    "            elif cost(i) <= w:\n",
    "                Table[i][w]= max(wins(i)+Table[i-1][w-cost(i)],\n",
    "                Table[i-1][w]) \n",
    "            else:\n",
    "                Table[i][w] = Table[i - 1][w]\n",
    "    return Table\n",
    "\n",
    "result = pack2 (32 ,100)\n",
    "table=rectab(32,100) \n",
    "print(result)\n",
    "i=32\n",
    "pen =100\n",
    "\n",
    "while i>0 and pen-cost(i)>=0:\n",
    "    if table[i][pen] == table[i-1][pen-cost(i)] + wins(i):\n",
    "        print(name(i))\n",
    "        i=i-1 \n",
    "        pen=pen-cost(i)\n",
    "    else: i=i-1"
   ]
  },
  {
   "cell_type": "code",
   "execution_count": null,
   "metadata": {},
   "outputs": [],
   "source": []
  }
 ],
 "metadata": {
  "kernelspec": {
   "display_name": "Python 3",
   "language": "python",
   "name": "python3"
  },
  "language_info": {
   "codemirror_mode": {
    "name": "ipython",
    "version": 3
   },
   "file_extension": ".py",
   "mimetype": "text/x-python",
   "name": "python",
   "nbconvert_exporter": "python",
   "pygments_lexer": "ipython3",
   "version": "3.6.13"
  }
 },
 "nbformat": 4,
 "nbformat_minor": 4
}
