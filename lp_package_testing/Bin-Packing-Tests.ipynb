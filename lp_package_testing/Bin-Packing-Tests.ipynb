{
 "cells": [
  {
   "cell_type": "markdown",
   "metadata": {},
   "source": [
    "## IMPORTS"
   ]
  },
  {
   "cell_type": "code",
   "execution_count": 1,
   "metadata": {},
   "outputs": [],
   "source": [
    "import numpy as np\n",
    "import scipy.stats as ss\n",
    "import math, itertools\n",
    "import random\n",
    "import time\n",
    "from mpl_toolkits import mplot3d\n",
    "import matplotlib.pyplot as plt\n",
    "from ortools.linear_solver import pywraplp as OR\n",
    "from gurobipy import *"
   ]
  },
  {
   "cell_type": "markdown",
   "metadata": {},
   "source": [
    "### METHODS FOR GENERATION"
   ]
  },
  {
   "cell_type": "code",
   "execution_count": null,
   "metadata": {},
   "outputs": [],
   "source": [
    "# sample from a discretized gaussian distribution truncated to [lb,ub] \n",
    "def DiscreteBetaRand(mean):\n",
    "    a = 2.5\n",
    "    b = 10\n",
    "    m = a/(a+b)\n",
    "    lb=1\n",
    "    ub=(round(mean/m))+1\n",
    "    x = np.arange(lb,ub+1)\n",
    "    xU, xL = x + 0.5, x - 0.5 \n",
    "    prob = ss.beta.cdf(xU, a,b,0,ub-lb) - ss.beta.cdf(xL, a,b,0,ub-lb)\n",
    "    prob = prob / prob.sum() #normalize the probabilities so their sum is 1\n",
    "    return np.random.choice(x, p = prob)"
   ]
  },
  {
   "cell_type": "code",
   "execution_count": null,
   "metadata": {},
   "outputs": [],
   "source": [
    "# create a perfect bin packing input. Output problem instance and solution\n",
    "def PerfectBinPacking(mean,binCount,capacity):\n",
    "    TYPES = [] # set of item types (volumes)\n",
    "    count = {} # count of each item type\n",
    "    BINS = range(binCount) # set of bins\n",
    "    pack = {} # encodes optimal solution\n",
    "    for b in BINS:\n",
    "        pack.update({b:[]})\n",
    "    for b in BINS:\n",
    "        PPB = DiscreteBetaRand(mean) # pieces in this bin\n",
    "        pos = list(range(1,capacity)) # list of positions\n",
    "        split = random.sample(pos,PPB-1) # split up capacity \n",
    "        split = sorted(split) # sort\n",
    "        split.append(capacity)\n",
    "        lastPos = 0\n",
    "        for i in split:\n",
    "            item = i - lastPos\n",
    "            if item in TYPES:\n",
    "                count[item] += 1\n",
    "            else:\n",
    "                TYPES.append(item)\n",
    "                count.update({item : 1})\n",
    "            pack[b].append(item)\n",
    "            lastPos = i       \n",
    "    return TYPES, count, pack"
   ]
  },
  {
   "cell_type": "code",
   "execution_count": null,
   "metadata": {},
   "outputs": [],
   "source": [
    "# show histogram of PPB (Pieces Per Bin)\n",
    "def HistoPPB(pack):\n",
    "    PPB = [] \n",
    "    for b in pack.keys():\n",
    "        PPB.append(len(pack[b]))\n",
    "    plt.hist(PPB,\n",
    "         bins=max(PPB)-min(PPB),\n",
    "         density=False,\n",
    "         histtype='bar',\n",
    "         color='b',\n",
    "         edgecolor='k',\n",
    "         alpha=0.5)\n",
    "    plt.xlabel('Pieces Per Bin')\n",
    "    plt.ylabel('Number of Bins')\n",
    "    plt.title('Histogram of Pieces Per Bin')\n",
    "    plt.show()"
   ]
  },
  {
   "cell_type": "code",
   "execution_count": null,
   "metadata": {},
   "outputs": [],
   "source": [
    "# show histogram of item volumes\n",
    "def HistoVol(ITEMS):\n",
    "    plt.hist(ITEMS,\n",
    "         bins=max(ITEMS)-min(ITEMS),\n",
    "         density=False,\n",
    "         histtype='bar',\n",
    "         color='b',\n",
    "         edgecolor='k',\n",
    "         alpha=0.5)\n",
    "    plt.xlabel('Item Volume')\n",
    "    plt.ylabel('Number of Items')\n",
    "    plt.title('Histogram of Item Volumes')\n",
    "    plt.show()"
   ]
  },
  {
   "cell_type": "markdown",
   "metadata": {},
   "source": [
    "### BIN PACKING ABSTRACT"
   ]
  },
  {
   "cell_type": "code",
   "execution_count": null,
   "metadata": {},
   "outputs": [],
   "source": [
    "# a model for a bin packing problem\n",
    "def PackBins(TYPES,count,capacity,solver,timeLimit=None,relativeGap=None):\n",
    "    \n",
    "    BINS = list(range(sum(count.values()))) # upper bound for bins\n",
    "    PAIRS = list(itertools.product(TYPES, BINS))\n",
    "     \n",
    "    # define model\n",
    "    m = OR.Solver('packBins', solver)\n",
    "    param = OR.MPSolverParameters()\n",
    "    if timeLimit is not None:\n",
    "        print(m.SetSolverSpecificParametersAsString('''TimeLimit 3000 \\n \n",
    "                                                       NodeLimit 100 \\n\n",
    "                                                       MIPGap 0.05\n",
    "                                                     '''))\n",
    "        #m.SetTimeLimit(timeLimit*1000)\n",
    "    if relativeGap is not None:\n",
    "        param.SetDoubleParam(param.RELATIVE_MIP_GAP, relativeGap)\n",
    "    #m.EnableOutput()\n",
    "    \n",
    "    ## CHANGE TO IntVar() FOR IP AND NumVar() FOR LP RELAXATION\n",
    "    \n",
    "    # decision variables\n",
    "    x = {} # number of item type i placed in bin j\n",
    "    for i,j in PAIRS:\n",
    "        x[i,j] = m.IntVar(0, m.infinity(), ('(%s, %s)' % (i,j)))\n",
    "    y = {} # 1 if bin i is used; 0 otherwise\n",
    "    for i in BINS:\n",
    "        y[i] = m.IntVar(0, 1, ('%s' % (i)))\n",
    "        \n",
    "    # set hint\n",
    "    init = {}\n",
    "    for i,j in PAIRS:\n",
    "        init.update({x[i,j] : 0})\n",
    "    for i in BINS:\n",
    "        init.update({y[i] : 0}) \n",
    "    j = 0\n",
    "    for i in TYPES:\n",
    "        for n in range(count[i]):\n",
    "            init.update({x[i,j] : 1})\n",
    "            init.update({y[j] : 1})\n",
    "            j += 1 \n",
    "    m.SetHint(init.keys(),init.values())\n",
    "        \n",
    "    # objective function\n",
    "    m.Minimize(sum(y[i] for i in BINS)) # set objective\n",
    "    \n",
    "    # subject to: bin capacity\n",
    "    for j in BINS:\n",
    "        m.Add(sum(x[i,j]*i for i in TYPES) <= capacity)\n",
    "        \n",
    "    # subject to: all items packed\n",
    "    for i in TYPES:\n",
    "        m.Add(sum(x[i,j] for j in BINS) == count[i])\n",
    "        \n",
    "    # subject to: bin used or not\n",
    "    for j in BINS:\n",
    "        M = capacity\n",
    "        m.Add(sum(x[i,j]*i for i in TYPES) <= M*y[j])\n",
    "    \n",
    "    m.Solve(param)\n",
    "    \n",
    "    # abs(best_bound - incumbent) / abs(incumbent) [Gurobi]\n",
    "    incumbent = m.Objective().Value()\n",
    "    best_bound = m.Objective().BestBound()\n",
    "    if not incumbent == 0:\n",
    "        gap = abs(best_bound - incumbent) / abs(incumbent)\n",
    "    else:\n",
    "        gap = -1\n",
    "    print(m.nodes())\n",
    "    return m.Objective().Value(), gap, m.NumVariables(), m.NumConstraints()"
   ]
  },
  {
   "cell_type": "markdown",
   "metadata": {},
   "source": [
    "### TESTS"
   ]
  },
  {
   "cell_type": "code",
   "execution_count": null,
   "metadata": {},
   "outputs": [],
   "source": [
    "def Test(mean,binCount,capacity,solver):\n",
    "    s = time.time()\n",
    "    TYPES, count, pack = PerfectBinPacking(mean,binCount,capacity)\n",
    "    opt, var, con = PackBins(TYPES,count,capacity,solver)\n",
    "    chk = (round(opt) == binCount)\n",
    "    f = time.time()\n",
    "    return f-s, chk, var, con"
   ]
  },
  {
   "cell_type": "code",
   "execution_count": null,
   "metadata": {
    "scrolled": false
   },
   "outputs": [],
   "source": [
    "# testing different solver's solve time\n",
    "times = {}\n",
    "truth = []\n",
    "for binCount in [5,10,15,20,25,30,40,50,75,100,125,150,200]:\n",
    "    for capacity in [100,150,200,250,300]:\n",
    "        t, chk, var, con= Test(20,binCount,capacity,OR.Solver.GUROBI_MIXED_INTEGER_PROGRAMMING)\n",
    "        print('('+str(binCount)+', '+str(capacity)+', '+str(t)+', '+str(chk)+', '+str(var)+', '+str(con)+')')\n",
    "        truth.append(chk)\n",
    "        times.update({(binCount, capacity, var, con) : (t)})"
   ]
  },
  {
   "cell_type": "code",
   "execution_count": null,
   "metadata": {
    "scrolled": true
   },
   "outputs": [],
   "source": [
    "# testing optimality gap\n",
    "times = {}\n",
    "for binCount in [5,10,15,20,25,30,40,50,75,100,125,150,200]:\n",
    "    for capacity in [100,150,200,250,300]:\n",
    "        TYPES, count, pack = PerfectBinPacking(20,binCount,capacity) # generate random problem\n",
    "        s = time.time() # start clock\n",
    "        #optG, gapG, varG, conG = PackBins(TYPES,count,capacity,OR.Solver.GUROBI_MIXED_INTEGER_PROGRAMMING)\n",
    "        #t = round((f-s)*20) # give CBC 20 times time Gurobi took\n",
    "        optCBC, gapCBC, varCBC, conCBC = PackBins(TYPES,count,capacity,OR.Solver.GUROBI_MIXED_INTEGER_PROGRAMMING,relativeGap=0.05,timeLimit=1)\n",
    "        f = time.time() # stop clock\n",
    "        t = f - s\n",
    "        #print('('+str(binCount)+', '+str(capacity)+', '+str(varCBC)+', '+str(conCBC)+', '+str(gapCBC)+', '+str(t)+')')\n",
    "        times.update({(binCount, capacity, varCBC, conCBC, gapCBC) : (t)})     "
   ]
  },
  {
   "cell_type": "code",
   "execution_count": null,
   "metadata": {},
   "outputs": [],
   "source": [
    "times = {}\n",
    "a = [(5, 100, 1936, 257, 0.0, 0.4729311466217041),\n",
    "(5, 150, 2990, 282, 0.0, 0.649367094039917),\n",
    "(5, 200, 2176, 167, 0.0, 0.15649724006652832),\n",
    "(5, 250, 3296, 237, 0.0, 0.6368992328643799),\n",
    "(5, 300, 3094, 215, 0.0, 0.7364311218261719),\n",
    "(10, 100, 4598, 439, 0.0, 1.8920080661773682),\n",
    "(10, 150, 7364, 553, 0.0, 4.207428216934204),\n",
    "(10, 200, 6510, 406, 0.0, 3.02231764793396),\n",
    "(10, 250, 9424, 533, 0.0, 8.665142059326172),\n",
    "(10, 300, 7436, 337, 0.0, 6.516972064971924),\n",
    "(15, 100, 7101, 552, 0.0, 5.730154991149902),\n",
    "(15, 150, 8547, 498, 0.0, 4.4572741985321045),\n",
    "(15, 200, 11046, 567, 0.0, 11.472437143325806),\n",
    "(15, 250, 15141, 666, 0.0, 21.198025941848755),\n",
    "(15, 300, 16043, 586, 0.0, 19.105751752853394),\n",
    "(20, 100, 11100, 769, 0.04761904761904745, 0.980297327041626),\n",
    "(20, 150, 16776, 967, 0.04761904761904779, 2.4003589153289795),\n",
    "(20, 200, 17650, 755, 0.047619047619047616, 21.70271110534668),\n",
    "(20, 250, 20760, 751, 0.04761904761904745, 2.1917920112609863),\n",
    "(20, 300, 20995, 710, 0.04761904761904745, 2.540472984313965),\n",
    "(25, 100, 15496, 1217, 0.0, 12.693669080734253),\n",
    "(25, 150, 22116, 1201, 0.038461538461538464, 21.359671115875244),\n",
    "(25, 200, 23691, 946, 0.038461538461538325, 22.203800201416016),\n",
    "(25, 250, 29526, 1092, 0.038461538461538596, 51.9524929523468),\n",
    "(25, 300, 27150, 798, 0.038461538461538325, 43.7290301322937),\n",
    "(30, 100, 21747, 1350, 0.0, 25.304680109024048),\n",
    "(30, 150, 24288, 1147, 0.03225806451612903, 68.24879884719849),\n",
    "(30, 200, 33060, 1197, 0.03225806451612903, 53.24610900878906),\n",
    "(30, 250, 38709, 1190, 0.03225806451612926, 65.31072497367859),\n",
    "(30, 300, 39463, 1244, 0.03225806451612892, 59.65176701545715),\n",
    "(40, 100, 25513, 1676, 0.0243902439024392, 53.21937894821167),\n",
    "(40, 150, 40446, 1967, 0.04761904761904745, 81.67897009849548),\n",
    "(40, 200, 43470, 1442, 0.024390243902438852, 90.34693884849548),\n",
    "(40, 250, 52722, 1875, 0.024390243902439372, 233.7646291255951),\n",
    "(40, 300, 57532, 1589, 0.047619047619047616, 173.83054327964783),\n",
    "(50, 100, 37152, 1770, 0.0196078431372549, 104.80491781234741),\n",
    "(50, 150, 44370, 1790, 0.019607843137254763, 93.35976600646973),\n",
    "(50, 200, 53352, 2103, 0.019607843137254763, 137.70000004768372),\n",
    "(50, 250, 67050, 1862, 0.0196078431372549, 194.7685990333557),\n",
    "(50, 300, 86436, 2141, 0.038461538461538325, 989.3735358715057),\n",
    "(75, 100, 61828, 3056, 0.038461538461538644, 294.2641839981079),\n",
    "(75, 150, 91908, 3457, 0.025974025974025976, 694.4024710655212),\n",
    "(75, 200, 100295, 3150, 0.038461538461538276, 422.27971291542053),\n",
    "(75, 250, 115412, 2769, 0.038461538461538464, 404.5775480270386),\n",
    "(75, 300, 139400, 3364, 0.038461538461538464, 1209.6577620506287),\n",
    "(100, 100, 89720, 4525, 0.02912621359223301, 22.25978922843933),\n",
    "(100, 150, 130181, 3952, 0.0, 328.60379791259766),\n",
    "(100, 200, 141474, 3948, 0.01960784313725504, 966.167060136795),\n",
    "(100, 250, 189464, 4393, 0.00990099009900976, 3673.9212460517883),\n",
    "(100, 300, 201590, 4338, 0.019607843137254763, 1381.0980608463287),\n",
    "(125, 100, 112150, 4535, 0.007936507936507936, 1569.5884470939636),\n",
    "(125, 150, 154569, 4680, 0.007936507936507936, 523.422080039978),\n",
    "(125, 200, 190950, 5166, 0.023437500000000333, 4488.701567173004),\n",
    "(125, 250, 236808, 5239, 0.031007751937984607, 4525.383026838303),\n",
    "(125, 300, 257300, 5245, 0.031007751937984496, 1660.6960179805756),\n",
    "(150, 100, 141350, 5703, 0.038461538461538464, 34.727739095687866),\n",
    "(150, 150, 202020, 6280, 0.013157894736842105, 1608.0012121200562),\n",
    "(150, 200, 221040, 5605, 0.0196078431372549, 1603.6933529376984),\n",
    "(150, 250, 313403, 6306, 0.013157894736841919, 1482.9248020648956),\n",
    "(150, 300, 342042, 6384, 0.01960784313725509, 2934.4970400333405)]\n",
    "for i in a:\n",
    "    binCount, capacity, varCBC, conCBC, gapCBC, t = i\n",
    "    times.update({(binCount, capacity, varCBC, conCBC, gapCBC) : (t)}) "
   ]
  },
  {
   "cell_type": "code",
   "execution_count": null,
   "metadata": {},
   "outputs": [],
   "source": [
    "%matplotlib notebook\n",
    "fig = plt.figure(figsize=(10, 6))\n",
    "ax = plt.axes(projection='3d')\n",
    "xdata = []\n",
    "ydata = []\n",
    "zdata = []\n",
    "for i in times.keys():\n",
    "    xdata.append(i[0])\n",
    "    ydata.append(i[1])\n",
    "    zdata.append(times[i])\n",
    "ax.scatter3D(xdata, ydata, zdata, cmap='Greens');\n",
    "ax.set_xlabel('# of Bins')\n",
    "ax.set_ylabel('Bin Capacity')\n",
    "ax.set_zlabel('Run time (s)')\n",
    "ax.view_init(20, -80)"
   ]
  },
  {
   "cell_type": "code",
   "execution_count": null,
   "metadata": {},
   "outputs": [],
   "source": [
    "%matplotlib notebook\n",
    "fig = plt.figure(figsize=(10, 6))\n",
    "ax = plt.axes(projection='3d')\n",
    "xdata = []\n",
    "ydata = []\n",
    "zdata = []\n",
    "for i in times.keys():\n",
    "    xdata.append(i[2])\n",
    "    ydata.append(i[3])\n",
    "    zdata.append(times[i])\n",
    "ax.scatter3D(xdata, ydata, zdata, cmap='Greens');\n",
    "ax.set_xlabel('# of Variables')\n",
    "ax.set_ylabel('# of Constraints')\n",
    "ax.set_zlabel('Run time (s)')\n",
    "ax.view_init(0, 45)"
   ]
  },
  {
   "cell_type": "markdown",
   "metadata": {},
   "source": [
    "### Early Termination"
   ]
  },
  {
   "cell_type": "code",
   "execution_count": null,
   "metadata": {},
   "outputs": [],
   "source": [
    "def Test(mean,std,size,volume,solver,t):\n",
    "    val = PackBins(PerfectBinPacking(mean,std,size,volume),volume,solver,t)\n",
    "    dif = val - size\n",
    "    return val, dif"
   ]
  },
  {
   "cell_type": "code",
   "execution_count": null,
   "metadata": {},
   "outputs": [],
   "source": [
    "results = {}\n",
    "for volume in [100,150,200,250,300]:\n",
    "    for t in [1,2,3,4,5,10,15,20,25,30,60]:\n",
    "        val, dif = Test(50,15,20,volume,OR.Solver.CBC_MIXED_INTEGER_PROGRAMMING,t)\n",
    "        print(val, dif)\n",
    "        results.update({(volume,t) : (val, dif)})"
   ]
  },
  {
   "cell_type": "code",
   "execution_count": null,
   "metadata": {},
   "outputs": [],
   "source": [
    "fig = plt.figure(figsize=(10, 6))\n",
    "ax = plt.axes(projection='3d')\n",
    "xdata = []\n",
    "ydata = []\n",
    "zdata = []\n",
    "for i in results.keys():\n",
    "    xdata.append(i[0])\n",
    "    ydata.append(i[1])\n",
    "    zdata.append(results[i][1])\n",
    "ax.scatter3D(xdata, ydata, zdata, cmap='Greens');\n",
    "ax.set_xlabel('Volume')\n",
    "ax.set_ylabel('Time Limit (s)')\n",
    "ax.set_zlabel('Diff. from Opt')"
   ]
  },
  {
   "cell_type": "markdown",
   "metadata": {},
   "source": [
    "### TEST"
   ]
  },
  {
   "cell_type": "code",
   "execution_count": null,
   "metadata": {},
   "outputs": [],
   "source": [
    "bin1 = [8, 4, 14, 3, 5, 6, 2, 1, 1, 7, 3, 6, 8, 13, 2, 15, 2]\n",
    "bin2 = [2, 2, 20, 10, 1, 2, 18, 1, 6, 19, 19]\n",
    "bin3 = [1, 1, 1, 4, 1, 4, 1, 1, 1, 2, 1, 2, 4, 1, 2, 1, 2, 2, 4, 1, 1, 1, 2, 1, 2, 1, 1, 1, 1, 1, 3, 1, 2, 1, 5, 6, 1, 2, 1, 1, 1, 1, 2, 2, 3, 2, 1, 4, 1, 1, 1, 1, 3, 2, 3]\n",
    "bin4 = [2, 1, 1, 6, 5, 7, 2, 3, 1, 8, 1, 3, 1, 4, 6, 5, 3, 4, 3, 11, 4, 2, 12, 1, 2, 2]\n",
    "bin5 = [3, 14, 7, 11, 1, 5, 1, 3, 6, 1, 1, 10, 1, 5, 3, 1, 8, 3, 3, 1, 2, 7, 3]\n",
    "[3, 14, 7, 11, 1, 5, 1, 3, 6, 1, 1, 10, 1, 5, 3, 1, 8, 3, 3, 1, 2, 7, 3]\n",
    "pack = {}\n",
    "ITEMS = []\n",
    "i = 0\n",
    "for bin in [bin1,bin2,bin3,bin4,bin5]:\n",
    "    pack.update({i : bin})\n",
    "    i += 1\n",
    "    for item in bin:\n",
    "        ITEMS.append(item)\n",
    "VOLUMES = []\n",
    "amt = {}\n",
    "for i in ITEMS:\n",
    "    if i in VOLUMES:\n",
    "        amt[i] += 1\n",
    "    else:\n",
    "        VOLUMES.append(i)\n",
    "        amt.update({i:1})\n",
    "PackBins(VOLUMES,amt,100,'GUROBI')"
   ]
  }
 ],
 "metadata": {
  "kernelspec": {
   "display_name": "Python 3",
   "language": "python",
   "name": "python3"
  },
  "language_info": {
   "codemirror_mode": {
    "name": "ipython",
    "version": 3
   },
   "file_extension": ".py",
   "mimetype": "text/x-python",
   "name": "python",
   "nbconvert_exporter": "python",
   "pygments_lexer": "ipython3",
   "version": "3.6.10"
  }
 },
 "nbformat": 4,
 "nbformat_minor": 4
}
