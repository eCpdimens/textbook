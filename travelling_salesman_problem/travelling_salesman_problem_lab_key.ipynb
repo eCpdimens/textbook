{
 "cells": [
  {
   "cell_type": "markdown",
   "metadata": {},
   "source": [
    "# Traveling Salesman Problem (TSP)"
   ]
  },
  {
   "cell_type": "markdown",
   "metadata": {},
   "source": [
    "**Objectives**\n",
    "\n",
    "- Introduce students to a real world problem solved by OR practitioners\n",
    "- Demonstrate the use of heuristics to obtain good solutions to optimization problems\n",
    "- Give students an appreciation of the difficulty of solving optimization problems exactly\n",
    "\n",
    "**Reading:** Read Handout 2 on the traveling salesman problem.\n",
    "\n",
    "**Brief description:** Finding an optimal solution to a Traveling Salesman Problem, and proving that it is, in fact, an optimal solution, is a difficult task. In practice, when a feasible solution to a difficult problem needs to be provided quickly, one often resorts to using heuristics, i.e., procedures for generating feasible solutions, or improving existing ones, that can be executed quickly and, hopefully, produce a pretty good result. In this lab we will consider several such heuristic procedures for the TSP.\n",
    "\n",
    "*TSP VLSI instances adapted from [TSPLIB](http://comopt.ifi.uni-heidelberg.de/software/TSPLIB95/) and [Bonn Institute](http://www.math.uwaterloo.ca/tsp/vlsi/index.html)*\n",
    "\n",
    "<font color='blue'> <b>Solutions are shown blue.</b> </font> <br>\n",
    "<font color='red'> <b>Instuctor comments are shown in red.</b> </font>"
   ]
  },
  {
   "cell_type": "markdown",
   "metadata": {},
   "source": [
    "<font color='red'>A tool we might want to use: [TSP DIY](https://www.math.uwaterloo.ca/tsp/app/diy.html)  </font>"
   ]
  },
  {
   "cell_type": "markdown",
   "metadata": {},
   "source": [
    "<font color='red'> Some explanation of what imports are here.</font>"
   ]
  },
  {
   "cell_type": "code",
   "execution_count": 1,
   "metadata": {},
   "outputs": [
    {
     "data": {
      "text/html": [
       "\n",
       "    <div class=\"bk-root\">\n",
       "        <a href=\"https://bokeh.org\" target=\"_blank\" class=\"bk-logo bk-logo-small bk-logo-notebook\"></a>\n",
       "        <span id=\"1001\">Loading BokehJS ...</span>\n",
       "    </div>"
      ]
     },
     "metadata": {},
     "output_type": "display_data"
    },
    {
     "data": {
      "application/javascript": [
       "\n",
       "(function(root) {\n",
       "  function now() {\n",
       "    return new Date();\n",
       "  }\n",
       "\n",
       "  var force = true;\n",
       "\n",
       "  if (typeof root._bokeh_onload_callbacks === \"undefined\" || force === true) {\n",
       "    root._bokeh_onload_callbacks = [];\n",
       "    root._bokeh_is_loading = undefined;\n",
       "  }\n",
       "\n",
       "  var JS_MIME_TYPE = 'application/javascript';\n",
       "  var HTML_MIME_TYPE = 'text/html';\n",
       "  var EXEC_MIME_TYPE = 'application/vnd.bokehjs_exec.v0+json';\n",
       "  var CLASS_NAME = 'output_bokeh rendered_html';\n",
       "\n",
       "  /**\n",
       "   * Render data to the DOM node\n",
       "   */\n",
       "  function render(props, node) {\n",
       "    var script = document.createElement(\"script\");\n",
       "    node.appendChild(script);\n",
       "  }\n",
       "\n",
       "  /**\n",
       "   * Handle when an output is cleared or removed\n",
       "   */\n",
       "  function handleClearOutput(event, handle) {\n",
       "    var cell = handle.cell;\n",
       "\n",
       "    var id = cell.output_area._bokeh_element_id;\n",
       "    var server_id = cell.output_area._bokeh_server_id;\n",
       "    // Clean up Bokeh references\n",
       "    if (id != null && id in Bokeh.index) {\n",
       "      Bokeh.index[id].model.document.clear();\n",
       "      delete Bokeh.index[id];\n",
       "    }\n",
       "\n",
       "    if (server_id !== undefined) {\n",
       "      // Clean up Bokeh references\n",
       "      var cmd = \"from bokeh.io.state import curstate; print(curstate().uuid_to_server['\" + server_id + \"'].get_sessions()[0].document.roots[0]._id)\";\n",
       "      cell.notebook.kernel.execute(cmd, {\n",
       "        iopub: {\n",
       "          output: function(msg) {\n",
       "            var id = msg.content.text.trim();\n",
       "            if (id in Bokeh.index) {\n",
       "              Bokeh.index[id].model.document.clear();\n",
       "              delete Bokeh.index[id];\n",
       "            }\n",
       "          }\n",
       "        }\n",
       "      });\n",
       "      // Destroy server and session\n",
       "      var cmd = \"import bokeh.io.notebook as ion; ion.destroy_server('\" + server_id + \"')\";\n",
       "      cell.notebook.kernel.execute(cmd);\n",
       "    }\n",
       "  }\n",
       "\n",
       "  /**\n",
       "   * Handle when a new output is added\n",
       "   */\n",
       "  function handleAddOutput(event, handle) {\n",
       "    var output_area = handle.output_area;\n",
       "    var output = handle.output;\n",
       "\n",
       "    // limit handleAddOutput to display_data with EXEC_MIME_TYPE content only\n",
       "    if ((output.output_type != \"display_data\") || (!output.data.hasOwnProperty(EXEC_MIME_TYPE))) {\n",
       "      return\n",
       "    }\n",
       "\n",
       "    var toinsert = output_area.element.find(\".\" + CLASS_NAME.split(' ')[0]);\n",
       "\n",
       "    if (output.metadata[EXEC_MIME_TYPE][\"id\"] !== undefined) {\n",
       "      toinsert[toinsert.length - 1].firstChild.textContent = output.data[JS_MIME_TYPE];\n",
       "      // store reference to embed id on output_area\n",
       "      output_area._bokeh_element_id = output.metadata[EXEC_MIME_TYPE][\"id\"];\n",
       "    }\n",
       "    if (output.metadata[EXEC_MIME_TYPE][\"server_id\"] !== undefined) {\n",
       "      var bk_div = document.createElement(\"div\");\n",
       "      bk_div.innerHTML = output.data[HTML_MIME_TYPE];\n",
       "      var script_attrs = bk_div.children[0].attributes;\n",
       "      for (var i = 0; i < script_attrs.length; i++) {\n",
       "        toinsert[toinsert.length - 1].firstChild.setAttribute(script_attrs[i].name, script_attrs[i].value);\n",
       "        toinsert[toinsert.length - 1].firstChild.textContent = bk_div.children[0].textContent\n",
       "      }\n",
       "      // store reference to server id on output_area\n",
       "      output_area._bokeh_server_id = output.metadata[EXEC_MIME_TYPE][\"server_id\"];\n",
       "    }\n",
       "  }\n",
       "\n",
       "  function register_renderer(events, OutputArea) {\n",
       "\n",
       "    function append_mime(data, metadata, element) {\n",
       "      // create a DOM node to render to\n",
       "      var toinsert = this.create_output_subarea(\n",
       "        metadata,\n",
       "        CLASS_NAME,\n",
       "        EXEC_MIME_TYPE\n",
       "      );\n",
       "      this.keyboard_manager.register_events(toinsert);\n",
       "      // Render to node\n",
       "      var props = {data: data, metadata: metadata[EXEC_MIME_TYPE]};\n",
       "      render(props, toinsert[toinsert.length - 1]);\n",
       "      element.append(toinsert);\n",
       "      return toinsert\n",
       "    }\n",
       "\n",
       "    /* Handle when an output is cleared or removed */\n",
       "    events.on('clear_output.CodeCell', handleClearOutput);\n",
       "    events.on('delete.Cell', handleClearOutput);\n",
       "\n",
       "    /* Handle when a new output is added */\n",
       "    events.on('output_added.OutputArea', handleAddOutput);\n",
       "\n",
       "    /**\n",
       "     * Register the mime type and append_mime function with output_area\n",
       "     */\n",
       "    OutputArea.prototype.register_mime_type(EXEC_MIME_TYPE, append_mime, {\n",
       "      /* Is output safe? */\n",
       "      safe: true,\n",
       "      /* Index of renderer in `output_area.display_order` */\n",
       "      index: 0\n",
       "    });\n",
       "  }\n",
       "\n",
       "  // register the mime type if in Jupyter Notebook environment and previously unregistered\n",
       "  if (root.Jupyter !== undefined) {\n",
       "    var events = require('base/js/events');\n",
       "    var OutputArea = require('notebook/js/outputarea').OutputArea;\n",
       "\n",
       "    if (OutputArea.prototype.mime_types().indexOf(EXEC_MIME_TYPE) == -1) {\n",
       "      register_renderer(events, OutputArea);\n",
       "    }\n",
       "  }\n",
       "\n",
       "  \n",
       "  if (typeof (root._bokeh_timeout) === \"undefined\" || force === true) {\n",
       "    root._bokeh_timeout = Date.now() + 5000;\n",
       "    root._bokeh_failed_load = false;\n",
       "  }\n",
       "\n",
       "  var NB_LOAD_WARNING = {'data': {'text/html':\n",
       "     \"<div style='background-color: #fdd'>\\n\"+\n",
       "     \"<p>\\n\"+\n",
       "     \"BokehJS does not appear to have successfully loaded. If loading BokehJS from CDN, this \\n\"+\n",
       "     \"may be due to a slow or bad network connection. Possible fixes:\\n\"+\n",
       "     \"</p>\\n\"+\n",
       "     \"<ul>\\n\"+\n",
       "     \"<li>re-rerun `output_notebook()` to attempt to load from CDN again, or</li>\\n\"+\n",
       "     \"<li>use INLINE resources instead, as so:</li>\\n\"+\n",
       "     \"</ul>\\n\"+\n",
       "     \"<code>\\n\"+\n",
       "     \"from bokeh.resources import INLINE\\n\"+\n",
       "     \"output_notebook(resources=INLINE)\\n\"+\n",
       "     \"</code>\\n\"+\n",
       "     \"</div>\"}};\n",
       "\n",
       "  function display_loaded() {\n",
       "    var el = document.getElementById(\"1001\");\n",
       "    if (el != null) {\n",
       "      el.textContent = \"BokehJS is loading...\";\n",
       "    }\n",
       "    if (root.Bokeh !== undefined) {\n",
       "      if (el != null) {\n",
       "        el.textContent = \"BokehJS \" + root.Bokeh.version + \" successfully loaded.\";\n",
       "      }\n",
       "    } else if (Date.now() < root._bokeh_timeout) {\n",
       "      setTimeout(display_loaded, 100)\n",
       "    }\n",
       "  }\n",
       "\n",
       "\n",
       "  function run_callbacks() {\n",
       "    try {\n",
       "      root._bokeh_onload_callbacks.forEach(function(callback) {\n",
       "        if (callback != null)\n",
       "          callback();\n",
       "      });\n",
       "    } finally {\n",
       "      delete root._bokeh_onload_callbacks\n",
       "    }\n",
       "    console.debug(\"Bokeh: all callbacks have finished\");\n",
       "  }\n",
       "\n",
       "  function load_libs(css_urls, js_urls, callback) {\n",
       "    if (css_urls == null) css_urls = [];\n",
       "    if (js_urls == null) js_urls = [];\n",
       "\n",
       "    root._bokeh_onload_callbacks.push(callback);\n",
       "    if (root._bokeh_is_loading > 0) {\n",
       "      console.debug(\"Bokeh: BokehJS is being loaded, scheduling callback at\", now());\n",
       "      return null;\n",
       "    }\n",
       "    if (js_urls == null || js_urls.length === 0) {\n",
       "      run_callbacks();\n",
       "      return null;\n",
       "    }\n",
       "    console.debug(\"Bokeh: BokehJS not loaded, scheduling load and callback at\", now());\n",
       "    root._bokeh_is_loading = css_urls.length + js_urls.length;\n",
       "\n",
       "    function on_load() {\n",
       "      root._bokeh_is_loading--;\n",
       "      if (root._bokeh_is_loading === 0) {\n",
       "        console.debug(\"Bokeh: all BokehJS libraries/stylesheets loaded\");\n",
       "        run_callbacks()\n",
       "      }\n",
       "    }\n",
       "\n",
       "    function on_error() {\n",
       "      console.error(\"failed to load \" + url);\n",
       "    }\n",
       "\n",
       "    for (var i = 0; i < css_urls.length; i++) {\n",
       "      var url = css_urls[i];\n",
       "      const element = document.createElement(\"link\");\n",
       "      element.onload = on_load;\n",
       "      element.onerror = on_error;\n",
       "      element.rel = \"stylesheet\";\n",
       "      element.type = \"text/css\";\n",
       "      element.href = url;\n",
       "      console.debug(\"Bokeh: injecting link tag for BokehJS stylesheet: \", url);\n",
       "      document.body.appendChild(element);\n",
       "    }\n",
       "\n",
       "    const hashes = {\"https://cdn.bokeh.org/bokeh/release/bokeh-2.1.0.min.js\": \"YobFyzPeVUsFQydHkJGsJL1kyfHnWxOlPc3EwaV22TmBaeGoXHLWx5aRRVPS9xlE\", \"https://cdn.bokeh.org/bokeh/release/bokeh-widgets-2.1.0.min.js\": \"NuAg9+TcTQQqvQCTtkCneRrpkTiMhhfiq0KHiBzx8ECiKiLWXHN6i6ia3q7b3eHu\", \"https://cdn.bokeh.org/bokeh/release/bokeh-tables-2.1.0.min.js\": \"uMVqQc8JqHitD67bXTn9a06Mrk3EiHRaZ18EJENQenAKJ/KL71SakdXYomZQpGRr\", \"https://cdn.bokeh.org/bokeh/release/bokeh-gl-2.1.0.min.js\": \"u+eGuEXC8aw0VSCm2mH+b/tQEAitUOYiR1H6SuIVEdUmXsf4vN8m/SmXpmjb7U/X\"};\n",
       "\n",
       "    for (var i = 0; i < js_urls.length; i++) {\n",
       "      var url = js_urls[i];\n",
       "      var element = document.createElement('script');\n",
       "      element.onload = on_load;\n",
       "      element.onerror = on_error;\n",
       "      element.async = false;\n",
       "      element.src = url;\n",
       "      if (url in hashes) {\n",
       "        element.crossOrigin = \"anonymous\";\n",
       "        element.integrity = \"sha384-\" + hashes[url];\n",
       "      }\n",
       "      console.debug(\"Bokeh: injecting script tag for BokehJS library: \", url);\n",
       "      document.head.appendChild(element);\n",
       "    }\n",
       "  };\n",
       "\n",
       "  function inject_raw_css(css) {\n",
       "    const element = document.createElement(\"style\");\n",
       "    element.appendChild(document.createTextNode(css));\n",
       "    document.body.appendChild(element);\n",
       "  }\n",
       "\n",
       "  \n",
       "  var js_urls = [\"https://cdn.bokeh.org/bokeh/release/bokeh-2.1.0.min.js\", \"https://cdn.bokeh.org/bokeh/release/bokeh-widgets-2.1.0.min.js\", \"https://cdn.bokeh.org/bokeh/release/bokeh-tables-2.1.0.min.js\", \"https://cdn.bokeh.org/bokeh/release/bokeh-gl-2.1.0.min.js\"];\n",
       "  var css_urls = [];\n",
       "  \n",
       "\n",
       "  var inline_js = [\n",
       "    function(Bokeh) {\n",
       "      Bokeh.set_log_level(\"info\");\n",
       "    },\n",
       "    function(Bokeh) {\n",
       "    \n",
       "    \n",
       "    }\n",
       "  ];\n",
       "\n",
       "  function run_inline_js() {\n",
       "    \n",
       "    if (root.Bokeh !== undefined || force === true) {\n",
       "      \n",
       "    for (var i = 0; i < inline_js.length; i++) {\n",
       "      inline_js[i].call(root, root.Bokeh);\n",
       "    }\n",
       "    if (force === true) {\n",
       "        display_loaded();\n",
       "      }} else if (Date.now() < root._bokeh_timeout) {\n",
       "      setTimeout(run_inline_js, 100);\n",
       "    } else if (!root._bokeh_failed_load) {\n",
       "      console.log(\"Bokeh: BokehJS failed to load within specified timeout.\");\n",
       "      root._bokeh_failed_load = true;\n",
       "    } else if (force !== true) {\n",
       "      var cell = $(document.getElementById(\"1001\")).parents('.cell').data().cell;\n",
       "      cell.output_area.append_execute_result(NB_LOAD_WARNING)\n",
       "    }\n",
       "\n",
       "  }\n",
       "\n",
       "  if (root._bokeh_is_loading === 0) {\n",
       "    console.debug(\"Bokeh: BokehJS loaded, going straight to plotting\");\n",
       "    run_inline_js();\n",
       "  } else {\n",
       "    load_libs(css_urls, js_urls, function() {\n",
       "      console.debug(\"Bokeh: BokehJS plotting callback run at\", now());\n",
       "      run_inline_js();\n",
       "    });\n",
       "  }\n",
       "}(window));"
      ],
      "application/vnd.bokehjs_load.v0+json": "\n(function(root) {\n  function now() {\n    return new Date();\n  }\n\n  var force = true;\n\n  if (typeof root._bokeh_onload_callbacks === \"undefined\" || force === true) {\n    root._bokeh_onload_callbacks = [];\n    root._bokeh_is_loading = undefined;\n  }\n\n  \n\n  \n  if (typeof (root._bokeh_timeout) === \"undefined\" || force === true) {\n    root._bokeh_timeout = Date.now() + 5000;\n    root._bokeh_failed_load = false;\n  }\n\n  var NB_LOAD_WARNING = {'data': {'text/html':\n     \"<div style='background-color: #fdd'>\\n\"+\n     \"<p>\\n\"+\n     \"BokehJS does not appear to have successfully loaded. If loading BokehJS from CDN, this \\n\"+\n     \"may be due to a slow or bad network connection. Possible fixes:\\n\"+\n     \"</p>\\n\"+\n     \"<ul>\\n\"+\n     \"<li>re-rerun `output_notebook()` to attempt to load from CDN again, or</li>\\n\"+\n     \"<li>use INLINE resources instead, as so:</li>\\n\"+\n     \"</ul>\\n\"+\n     \"<code>\\n\"+\n     \"from bokeh.resources import INLINE\\n\"+\n     \"output_notebook(resources=INLINE)\\n\"+\n     \"</code>\\n\"+\n     \"</div>\"}};\n\n  function display_loaded() {\n    var el = document.getElementById(\"1001\");\n    if (el != null) {\n      el.textContent = \"BokehJS is loading...\";\n    }\n    if (root.Bokeh !== undefined) {\n      if (el != null) {\n        el.textContent = \"BokehJS \" + root.Bokeh.version + \" successfully loaded.\";\n      }\n    } else if (Date.now() < root._bokeh_timeout) {\n      setTimeout(display_loaded, 100)\n    }\n  }\n\n\n  function run_callbacks() {\n    try {\n      root._bokeh_onload_callbacks.forEach(function(callback) {\n        if (callback != null)\n          callback();\n      });\n    } finally {\n      delete root._bokeh_onload_callbacks\n    }\n    console.debug(\"Bokeh: all callbacks have finished\");\n  }\n\n  function load_libs(css_urls, js_urls, callback) {\n    if (css_urls == null) css_urls = [];\n    if (js_urls == null) js_urls = [];\n\n    root._bokeh_onload_callbacks.push(callback);\n    if (root._bokeh_is_loading > 0) {\n      console.debug(\"Bokeh: BokehJS is being loaded, scheduling callback at\", now());\n      return null;\n    }\n    if (js_urls == null || js_urls.length === 0) {\n      run_callbacks();\n      return null;\n    }\n    console.debug(\"Bokeh: BokehJS not loaded, scheduling load and callback at\", now());\n    root._bokeh_is_loading = css_urls.length + js_urls.length;\n\n    function on_load() {\n      root._bokeh_is_loading--;\n      if (root._bokeh_is_loading === 0) {\n        console.debug(\"Bokeh: all BokehJS libraries/stylesheets loaded\");\n        run_callbacks()\n      }\n    }\n\n    function on_error() {\n      console.error(\"failed to load \" + url);\n    }\n\n    for (var i = 0; i < css_urls.length; i++) {\n      var url = css_urls[i];\n      const element = document.createElement(\"link\");\n      element.onload = on_load;\n      element.onerror = on_error;\n      element.rel = \"stylesheet\";\n      element.type = \"text/css\";\n      element.href = url;\n      console.debug(\"Bokeh: injecting link tag for BokehJS stylesheet: \", url);\n      document.body.appendChild(element);\n    }\n\n    const hashes = {\"https://cdn.bokeh.org/bokeh/release/bokeh-2.1.0.min.js\": \"YobFyzPeVUsFQydHkJGsJL1kyfHnWxOlPc3EwaV22TmBaeGoXHLWx5aRRVPS9xlE\", \"https://cdn.bokeh.org/bokeh/release/bokeh-widgets-2.1.0.min.js\": \"NuAg9+TcTQQqvQCTtkCneRrpkTiMhhfiq0KHiBzx8ECiKiLWXHN6i6ia3q7b3eHu\", \"https://cdn.bokeh.org/bokeh/release/bokeh-tables-2.1.0.min.js\": \"uMVqQc8JqHitD67bXTn9a06Mrk3EiHRaZ18EJENQenAKJ/KL71SakdXYomZQpGRr\", \"https://cdn.bokeh.org/bokeh/release/bokeh-gl-2.1.0.min.js\": \"u+eGuEXC8aw0VSCm2mH+b/tQEAitUOYiR1H6SuIVEdUmXsf4vN8m/SmXpmjb7U/X\"};\n\n    for (var i = 0; i < js_urls.length; i++) {\n      var url = js_urls[i];\n      var element = document.createElement('script');\n      element.onload = on_load;\n      element.onerror = on_error;\n      element.async = false;\n      element.src = url;\n      if (url in hashes) {\n        element.crossOrigin = \"anonymous\";\n        element.integrity = \"sha384-\" + hashes[url];\n      }\n      console.debug(\"Bokeh: injecting script tag for BokehJS library: \", url);\n      document.head.appendChild(element);\n    }\n  };\n\n  function inject_raw_css(css) {\n    const element = document.createElement(\"style\");\n    element.appendChild(document.createTextNode(css));\n    document.body.appendChild(element);\n  }\n\n  \n  var js_urls = [\"https://cdn.bokeh.org/bokeh/release/bokeh-2.1.0.min.js\", \"https://cdn.bokeh.org/bokeh/release/bokeh-widgets-2.1.0.min.js\", \"https://cdn.bokeh.org/bokeh/release/bokeh-tables-2.1.0.min.js\", \"https://cdn.bokeh.org/bokeh/release/bokeh-gl-2.1.0.min.js\"];\n  var css_urls = [];\n  \n\n  var inline_js = [\n    function(Bokeh) {\n      Bokeh.set_log_level(\"info\");\n    },\n    function(Bokeh) {\n    \n    \n    }\n  ];\n\n  function run_inline_js() {\n    \n    if (root.Bokeh !== undefined || force === true) {\n      \n    for (var i = 0; i < inline_js.length; i++) {\n      inline_js[i].call(root, root.Bokeh);\n    }\n    if (force === true) {\n        display_loaded();\n      }} else if (Date.now() < root._bokeh_timeout) {\n      setTimeout(run_inline_js, 100);\n    } else if (!root._bokeh_failed_load) {\n      console.log(\"Bokeh: BokehJS failed to load within specified timeout.\");\n      root._bokeh_failed_load = true;\n    } else if (force !== true) {\n      var cell = $(document.getElementById(\"1001\")).parents('.cell').data().cell;\n      cell.output_area.append_execute_result(NB_LOAD_WARNING)\n    }\n\n  }\n\n  if (root._bokeh_is_loading === 0) {\n    console.debug(\"Bokeh: BokehJS loaded, going straight to plotting\");\n    run_inline_js();\n  } else {\n    load_libs(css_urls, js_urls, function() {\n      console.debug(\"Bokeh: BokehJS plotting callback run at\", now());\n      run_inline_js();\n    });\n  }\n}(window));"
     },
     "metadata": {},
     "output_type": "display_data"
    }
   ],
   "source": [
    "# imports -- don't forget to run this cell\n",
    "from tsp import *\n",
    "from bokeh.io import output_notebook\n",
    "from random import randrange\n",
    "output_notebook()"
   ]
  },
  {
   "cell_type": "code",
   "execution_count": 2,
   "metadata": {},
   "outputs": [
    {
     "data": {
      "text/html": [
       "\n",
       "\n",
       "\n",
       "\n",
       "\n",
       "\n",
       "  <div class=\"bk-root\" id=\"b4f1949e-b468-4f54-8647-b7ac50dbe958\" data-root-id=\"1058\"></div>\n"
      ]
     },
     "metadata": {},
     "output_type": "display_data"
    },
    {
     "data": {
      "application/javascript": [
       "(function(root) {\n",
       "  function embed_document(root) {\n",
       "    \n",
       "  var docs_json = {\"bd1e0e5d-3b07-41e6-aba3-effeb58932cc\":{\"roots\":{\"references\":[{\"attributes\":{\"children\":[[{\"id\":\"1002\"},0,0],[{\"id\":\"1036\"},1,0]]},\"id\":\"1058\",\"type\":\"GridBox\"},{\"attributes\":{\"background_fill_color\":null,\"below\":[{\"id\":\"1013\"}],\"border_fill_color\":null,\"center\":[{\"id\":\"1016\"},{\"id\":\"1020\"}],\"left\":[{\"id\":\"1017\"}],\"outline_line_color\":null,\"plot_height\":400,\"plot_width\":400,\"renderers\":[{\"id\":\"1040\"},{\"id\":\"1045\"}],\"title\":{\"id\":\"1003\"},\"toolbar\":{\"id\":\"1028\"},\"toolbar_location\":null,\"x_range\":{\"id\":\"1005\"},\"x_scale\":{\"id\":\"1009\"},\"y_range\":{\"id\":\"1007\"},\"y_scale\":{\"id\":\"1011\"}},\"id\":\"1002\",\"subtype\":\"Figure\",\"type\":\"Plot\"},{\"attributes\":{\"line_width\":4,\"x\":{\"field\":\"x\"},\"y\":{\"field\":\"y\"}},\"id\":\"1038\",\"type\":\"Line\"},{\"attributes\":{\"data\":{\"x\":[0.0,1.0,2.0,3.0,4.0,4.0,5.0,5.0,6.0,6.0,7.0,8.0,8.0,8.0,9.0,9.0,8.0,7.0,7.0,6.0,6.0,6.0,7.0,7.0,6.0,5.0,5.0,5.0,4.0,4.0,3.0,3.0,2.0,2.0,3.0,4.0,4.0,3.0,3.0,2.0,2.0,1.0,0.0,0.0,1.0,1.0,1.0,1.0,1.0,1.0,0.0,0.0,1.0,2.0,2.0,3.0,4.0,5.0,6.0,7.0,7.0,7.0,8.0,8.0,8.0,9.0,10.0,11.0,12.0,12.0,11.0,11.0,12.0,13.0,14.0,14.0,14.0,13.0,13.0,13.0,12.0,12.0,13.0,13.0,13.0,14.0,14.0,14.0,14.0,12.0,11.0,11.0,10.0,10.0,10.0,9.0,9.0,9.0,9.0,8.0,8.0,8.0,8.0,8.0,8.0,8.0,9.0,9.0,9.0,10.0,10.0,10.0,10.0,10.0,10.0,10.0,10.0,9.0,8.0,7.0,9.0,9.0,11.0,11.0,11.0,12.0,13.0,13.0,13.0,13.0,12.0,12.0,13.0,14.0,14.0,14.0,14.0,14.0,14.0,14.0,13.0,12.0,12.0,13.0,13.0,14.0,12.0,11.0,11.0,12.0,11.0,11.0,12.0,12.0,11.0,11.0,7.0,7.0,7.0,6.0,6.0,7.0,5.0,5.0,4.0,4.0,5.0,6.0,6.0,5.0,4.0,3.0,2.0,2.0,2.0,3.0,3.0,3.0,4.0,4.0,4.0,5.0,6.0,6.0,5.0,3.0,3.0,2.0,1.0,0.0,0.0,0.0,1.0,1.0,2.0,2.0,3.0,4.0,5.0,5.0,4.0,3.0,2.0,1.0,0.0,0.0,1.0,0.0,0.0,0.0,0.0,2.0,5.0,1.0,0.0,6.0,6.0,7.0,7.0,9.0,10.0,10.0,10.0,11.0,9.0,0.0],\"y\":[0.0,0.0,0.0,0.0,0.0,1.0,1.0,0.0,0.0,1.0,1.0,1.0,2.0,3.0,3.0,4.0,4.0,4.0,5.0,5.0,4.0,3.0,3.0,2.0,2.0,2.0,3.0,4.0,4.0,5.0,5.0,4.0,4.0,3.0,3.0,3.0,2.0,2.0,1.0,1.0,2.0,2.0,2.0,3.0,3.0,4.0,5.0,6.0,7.0,8.0,8.0,9.0,9.0,9.0,10.0,10.0,10.0,10.0,10.0,10.0,11.0,12.0,12.0,13.0,14.0,14.0,14.0,14.0,14.0,13.0,13.0,12.0,12.0,12.0,12.0,13.0,14.0,14.0,13.0,11.0,11.0,10.0,10.0,9.0,8.0,8.0,9.0,10.0,11.0,9.0,9.0,10.0,10.0,9.0,8.0,8.0,9.0,10.0,11.0,11.0,10.0,9.0,8.0,7.0,6.0,5.0,5.0,6.0,7.0,7.0,6.0,5.0,4.0,3.0,2.0,1.0,0.0,0.0,0.0,0.0,1.0,2.0,2.0,3.0,4.0,4.0,4.0,3.0,2.0,1.0,1.0,0.0,0.0,0.0,1.0,2.0,3.0,4.0,5.0,6.0,6.0,6.0,5.0,5.0,7.0,7.0,7.0,7.0,8.0,8.0,6.0,5.0,3.0,2.0,1.0,0.0,6.0,7.0,8.0,8.0,9.0,9.0,9.0,8.0,8.0,7.0,7.0,7.0,6.0,6.0,6.0,6.0,6.0,7.0,8.0,8.0,7.0,9.0,9.0,11.0,12.0,12.0,12.0,11.0,11.0,11.0,12.0,12.0,12.0,12.0,13.0,14.0,14.0,13.0,13.0,14.0,14.0,14.0,14.0,13.0,13.0,13.0,11.0,11.0,11.0,10.0,10.0,7.0,6.0,5.0,4.0,5.0,5.0,1.0,1.0,13.0,14.0,14.0,13.0,13.0,13.0,12.0,11.0,11.0,12.0,0.0]},\"selected\":{\"id\":\"1052\"},\"selection_policy\":{\"id\":\"1053\"}},\"id\":\"1037\",\"type\":\"ColumnDataSource\"},{\"attributes\":{\"data\":{\"x\":[0.0,0.0,0.0,0.0,0.0,0.0,0.0,0.0,0.0,0.0,0.0,0.0,0.0,0.0,0.0,1.0,1.0,1.0,1.0,1.0,1.0,1.0,1.0,1.0,1.0,1.0,1.0,1.0,1.0,1.0,2.0,2.0,2.0,2.0,2.0,2.0,2.0,2.0,2.0,2.0,2.0,2.0,2.0,2.0,2.0,3.0,3.0,3.0,3.0,3.0,3.0,3.0,3.0,3.0,3.0,3.0,3.0,3.0,3.0,3.0,4.0,4.0,4.0,4.0,4.0,4.0,4.0,4.0,4.0,4.0,4.0,4.0,4.0,4.0,4.0,5.0,5.0,5.0,5.0,5.0,5.0,5.0,5.0,5.0,5.0,5.0,5.0,5.0,5.0,5.0,6.0,6.0,6.0,6.0,6.0,6.0,6.0,6.0,6.0,6.0,6.0,6.0,6.0,6.0,6.0,7.0,7.0,7.0,7.0,7.0,7.0,7.0,7.0,7.0,7.0,7.0,7.0,7.0,7.0,7.0,8.0,8.0,8.0,8.0,8.0,8.0,8.0,8.0,8.0,8.0,8.0,8.0,8.0,8.0,8.0,9.0,9.0,9.0,9.0,9.0,9.0,9.0,9.0,9.0,9.0,9.0,9.0,9.0,9.0,9.0,10.0,10.0,10.0,10.0,10.0,10.0,10.0,10.0,10.0,10.0,10.0,10.0,10.0,10.0,10.0,11.0,11.0,11.0,11.0,11.0,11.0,11.0,11.0,11.0,11.0,11.0,11.0,11.0,11.0,11.0,12.0,12.0,12.0,12.0,12.0,12.0,12.0,12.0,12.0,12.0,12.0,12.0,12.0,12.0,12.0,13.0,13.0,13.0,13.0,13.0,13.0,13.0,13.0,13.0,13.0,13.0,13.0,13.0,13.0,13.0,14.0,14.0,14.0,14.0,14.0,14.0,14.0,14.0,14.0,14.0,14.0,14.0,14.0,14.0,14.0],\"y\":[0.0,1.0,2.0,3.0,4.0,5.0,6.0,7.0,8.0,9.0,10.0,11.0,12.0,13.0,14.0,0.0,1.0,2.0,3.0,4.0,5.0,6.0,7.0,8.0,9.0,10.0,11.0,12.0,13.0,14.0,0.0,1.0,2.0,3.0,4.0,5.0,6.0,7.0,8.0,9.0,10.0,11.0,12.0,13.0,14.0,0.0,1.0,2.0,3.0,4.0,5.0,6.0,7.0,8.0,9.0,10.0,11.0,12.0,13.0,14.0,0.0,1.0,2.0,3.0,4.0,5.0,6.0,7.0,8.0,9.0,10.0,11.0,12.0,13.0,14.0,0.0,1.0,2.0,3.0,4.0,5.0,6.0,7.0,8.0,9.0,10.0,11.0,12.0,13.0,14.0,0.0,1.0,2.0,3.0,4.0,5.0,6.0,7.0,8.0,9.0,10.0,11.0,12.0,13.0,14.0,0.0,1.0,2.0,3.0,4.0,5.0,6.0,7.0,8.0,9.0,10.0,11.0,12.0,13.0,14.0,0.0,1.0,2.0,3.0,4.0,5.0,6.0,7.0,8.0,9.0,10.0,11.0,12.0,13.0,14.0,0.0,1.0,2.0,3.0,4.0,5.0,6.0,7.0,8.0,9.0,10.0,11.0,12.0,13.0,14.0,0.0,1.0,2.0,3.0,4.0,5.0,6.0,7.0,8.0,9.0,10.0,11.0,12.0,13.0,14.0,0.0,1.0,2.0,3.0,4.0,5.0,6.0,7.0,8.0,9.0,10.0,11.0,12.0,13.0,14.0,0.0,1.0,2.0,3.0,4.0,5.0,6.0,7.0,8.0,9.0,10.0,11.0,12.0,13.0,14.0,0.0,1.0,2.0,3.0,4.0,5.0,6.0,7.0,8.0,9.0,10.0,11.0,12.0,13.0,14.0,0.0,1.0,2.0,3.0,4.0,5.0,6.0,7.0,8.0,9.0,10.0,11.0,12.0,13.0,14.0]},\"selected\":{\"id\":\"1054\"},\"selection_policy\":{\"id\":\"1055\"}},\"id\":\"1042\",\"type\":\"ColumnDataSource\"},{\"attributes\":{\"align\":\"center\",\"text\":\"285.106\",\"width\":400},\"id\":\"1036\",\"type\":\"Div\"},{\"attributes\":{\"fill_color\":{\"value\":\"steelblue\"},\"line_color\":{\"value\":\"steelblue\"},\"size\":{\"units\":\"screen\",\"value\":8},\"x\":{\"field\":\"x\"},\"y\":{\"field\":\"y\"}},\"id\":\"1043\",\"type\":\"Circle\"},{\"attributes\":{\"fill_alpha\":{\"value\":0.1},\"fill_color\":{\"value\":\"steelblue\"},\"line_alpha\":{\"value\":0.1},\"line_color\":{\"value\":\"steelblue\"},\"size\":{\"units\":\"screen\",\"value\":8},\"x\":{\"field\":\"x\"},\"y\":{\"field\":\"y\"}},\"id\":\"1044\",\"type\":\"Circle\"},{\"attributes\":{},\"id\":\"1021\",\"type\":\"PanTool\"},{\"attributes\":{\"data_source\":{\"id\":\"1042\"},\"glyph\":{\"id\":\"1043\"},\"hover_glyph\":null,\"muted_glyph\":null,\"nonselection_glyph\":{\"id\":\"1044\"},\"selection_glyph\":null,\"view\":{\"id\":\"1046\"}},\"id\":\"1045\",\"type\":\"GlyphRenderer\"},{\"attributes\":{\"source\":{\"id\":\"1042\"}},\"id\":\"1046\",\"type\":\"CDSView\"},{\"attributes\":{},\"id\":\"1022\",\"type\":\"WheelZoomTool\"},{\"attributes\":{\"formatter\":{\"id\":\"1049\"},\"ticker\":{\"id\":\"1014\"},\"visible\":false},\"id\":\"1013\",\"type\":\"LinearAxis\"},{\"attributes\":{\"overlay\":{\"id\":\"1027\"}},\"id\":\"1023\",\"type\":\"BoxZoomTool\"},{\"attributes\":{},\"id\":\"1052\",\"type\":\"Selection\"},{\"attributes\":{\"text\":\"\"},\"id\":\"1003\",\"type\":\"Title\"},{\"attributes\":{},\"id\":\"1024\",\"type\":\"SaveTool\"},{\"attributes\":{},\"id\":\"1053\",\"type\":\"UnionRenderers\"},{\"attributes\":{},\"id\":\"1025\",\"type\":\"ResetTool\"},{\"attributes\":{\"end\":14.7,\"start\":-0.7000000000000001},\"id\":\"1007\",\"type\":\"Range1d\"},{\"attributes\":{},\"id\":\"1054\",\"type\":\"Selection\"},{\"attributes\":{},\"id\":\"1026\",\"type\":\"HelpTool\"},{\"attributes\":{\"end\":14.7,\"start\":-0.7000000000000001},\"id\":\"1005\",\"type\":\"Range1d\"},{\"attributes\":{},\"id\":\"1055\",\"type\":\"UnionRenderers\"},{\"attributes\":{\"active_drag\":\"auto\",\"active_inspect\":\"auto\",\"active_multi\":null,\"active_scroll\":\"auto\",\"active_tap\":\"auto\",\"logo\":null,\"tools\":[{\"id\":\"1021\"},{\"id\":\"1022\"},{\"id\":\"1023\"},{\"id\":\"1024\"},{\"id\":\"1025\"},{\"id\":\"1026\"}]},\"id\":\"1028\",\"type\":\"Toolbar\"},{\"attributes\":{},\"id\":\"1011\",\"type\":\"LinearScale\"},{\"attributes\":{},\"id\":\"1014\",\"type\":\"BasicTicker\"},{\"attributes\":{},\"id\":\"1049\",\"type\":\"BasicTickFormatter\"},{\"attributes\":{},\"id\":\"1009\",\"type\":\"LinearScale\"},{\"attributes\":{},\"id\":\"1051\",\"type\":\"BasicTickFormatter\"},{\"attributes\":{\"bottom_units\":\"screen\",\"fill_alpha\":0.5,\"fill_color\":\"lightgrey\",\"left_units\":\"screen\",\"level\":\"overlay\",\"line_alpha\":1.0,\"line_color\":\"black\",\"line_dash\":[4,4],\"line_width\":2,\"right_units\":\"screen\",\"top_units\":\"screen\"},\"id\":\"1027\",\"type\":\"BoxAnnotation\"},{\"attributes\":{\"axis\":{\"id\":\"1013\"},\"grid_line_color\":null,\"ticker\":null},\"id\":\"1016\",\"type\":\"Grid\"},{\"attributes\":{\"formatter\":{\"id\":\"1051\"},\"ticker\":{\"id\":\"1018\"},\"visible\":false},\"id\":\"1017\",\"type\":\"LinearAxis\"},{\"attributes\":{\"line_alpha\":0.1,\"line_width\":4,\"x\":{\"field\":\"x\"},\"y\":{\"field\":\"y\"}},\"id\":\"1039\",\"type\":\"Line\"},{\"attributes\":{\"source\":{\"id\":\"1037\"}},\"id\":\"1041\",\"type\":\"CDSView\"},{\"attributes\":{},\"id\":\"1018\",\"type\":\"BasicTicker\"},{\"attributes\":{\"data_source\":{\"id\":\"1037\"},\"glyph\":{\"id\":\"1038\"},\"hover_glyph\":null,\"muted_glyph\":null,\"nonselection_glyph\":{\"id\":\"1039\"},\"selection_glyph\":null,\"view\":{\"id\":\"1041\"}},\"id\":\"1040\",\"type\":\"GlyphRenderer\"},{\"attributes\":{\"axis\":{\"id\":\"1017\"},\"dimension\":1,\"grid_line_color\":null,\"ticker\":null},\"id\":\"1020\",\"type\":\"Grid\"}],\"root_ids\":[\"1058\"]},\"title\":\"Bokeh Application\",\"version\":\"2.1.0\"}};\n",
       "  var render_items = [{\"docid\":\"bd1e0e5d-3b07-41e6-aba3-effeb58932cc\",\"root_ids\":[\"1058\"],\"roots\":{\"1058\":\"b4f1949e-b468-4f54-8647-b7ac50dbe958\"}}];\n",
       "  root.Bokeh.embed.embed_items_notebook(docs_json, render_items);\n",
       "\n",
       "  }\n",
       "  if (root.Bokeh !== undefined) {\n",
       "    embed_document(root);\n",
       "  } else {\n",
       "    var attempts = 0;\n",
       "    var timer = setInterval(function(root) {\n",
       "      if (root.Bokeh !== undefined) {\n",
       "        clearInterval(timer);\n",
       "        embed_document(root);\n",
       "      } else {\n",
       "        attempts++;\n",
       "        if (attempts > 100) {\n",
       "          clearInterval(timer);\n",
       "          console.log(\"Bokeh: ERROR: Unable to run BokehJS code because BokehJS library is missing\");\n",
       "        }\n",
       "      }\n",
       "    }, 10, root)\n",
       "  }\n",
       "})(window);"
      ],
      "application/vnd.bokehjs_exec.v0+json": ""
     },
     "metadata": {
      "application/vnd.bokehjs_exec.v0+json": {
       "id": "1058"
      }
     },
     "output_type": "display_data"
    },
    {
     "data": {
      "text/html": [
       "\n",
       "\n",
       "\n",
       "\n",
       "\n",
       "\n",
       "  <div class=\"bk-root\" id=\"93986ea4-5f0c-44f3-81a8-4240f91a1efb\" data-root-id=\"1185\"></div>\n"
      ]
     },
     "metadata": {},
     "output_type": "display_data"
    },
    {
     "data": {
      "application/javascript": [
       "(function(root) {\n",
       "  function embed_document(root) {\n",
       "    \n",
       "  var docs_json = {\"e13245d3-0224-454d-b630-0dd0adfb3f09\":{\"roots\":{\"references\":[{\"attributes\":{\"children\":[[{\"id\":\"1129\"},0,0],[{\"id\":\"1163\"},1,0]]},\"id\":\"1185\",\"type\":\"GridBox\"},{\"attributes\":{\"bottom_units\":\"screen\",\"fill_alpha\":0.5,\"fill_color\":\"lightgrey\",\"left_units\":\"screen\",\"level\":\"overlay\",\"line_alpha\":1.0,\"line_color\":\"black\",\"line_dash\":[4,4],\"line_width\":2,\"right_units\":\"screen\",\"top_units\":\"screen\"},\"id\":\"1154\",\"type\":\"BoxAnnotation\"},{\"attributes\":{\"formatter\":{\"id\":\"1176\"},\"ticker\":{\"id\":\"1141\"},\"visible\":false},\"id\":\"1140\",\"type\":\"LinearAxis\"},{\"attributes\":{},\"id\":\"1180\",\"type\":\"UnionRenderers\"},{\"attributes\":{},\"id\":\"1141\",\"type\":\"BasicTicker\"},{\"attributes\":{},\"id\":\"1181\",\"type\":\"Selection\"},{\"attributes\":{},\"id\":\"1182\",\"type\":\"UnionRenderers\"},{\"attributes\":{\"formatter\":{\"id\":\"1178\"},\"ticker\":{\"id\":\"1145\"},\"visible\":false},\"id\":\"1144\",\"type\":\"LinearAxis\"},{\"attributes\":{\"data_source\":{\"id\":\"1164\"},\"glyph\":{\"id\":\"1165\"},\"hover_glyph\":null,\"muted_glyph\":null,\"nonselection_glyph\":{\"id\":\"1166\"},\"selection_glyph\":null,\"view\":{\"id\":\"1168\"}},\"id\":\"1167\",\"type\":\"GlyphRenderer\"},{\"attributes\":{\"axis\":{\"id\":\"1140\"},\"grid_line_color\":null,\"ticker\":null},\"id\":\"1143\",\"type\":\"Grid\"},{\"attributes\":{},\"id\":\"1145\",\"type\":\"BasicTicker\"},{\"attributes\":{},\"id\":\"1136\",\"type\":\"LinearScale\"},{\"attributes\":{\"data\":{\"x\":[0.0,0.0,0.0,0.0,0.0,0.0,0.0,0.0,0.0,0.0,0.0,0.0,0.0,0.0,0.0,1.0,1.0,1.0,1.0,1.0,1.0,1.0,1.0,1.0,1.0,1.0,1.0,1.0,1.0,1.0,2.0,2.0,2.0,2.0,2.0,2.0,2.0,2.0,2.0,2.0,2.0,2.0,2.0,2.0,2.0,3.0,3.0,3.0,3.0,3.0,3.0,3.0,3.0,3.0,3.0,3.0,3.0,3.0,3.0,3.0,4.0,4.0,4.0,4.0,4.0,4.0,4.0,4.0,4.0,4.0,4.0,4.0,4.0,4.0,4.0,5.0,5.0,5.0,5.0,5.0,5.0,5.0,5.0,5.0,5.0,5.0,5.0,5.0,5.0,5.0,6.0,6.0,6.0,6.0,6.0,6.0,6.0,6.0,6.0,6.0,6.0,6.0,6.0,6.0,6.0,7.0,7.0,7.0,7.0,7.0,7.0,7.0,7.0,7.0,7.0,7.0,7.0,7.0,7.0,7.0,8.0,8.0,8.0,8.0,8.0,8.0,8.0,8.0,8.0,8.0,8.0,8.0,8.0,8.0,8.0,9.0,9.0,9.0,9.0,9.0,9.0,9.0,9.0,9.0,9.0,9.0,9.0,9.0,9.0,9.0,10.0,10.0,10.0,10.0,10.0,10.0,10.0,10.0,10.0,10.0,10.0,10.0,10.0,10.0,10.0,11.0,11.0,11.0,11.0,11.0,11.0,11.0,11.0,11.0,11.0,11.0,11.0,11.0,11.0,11.0,12.0,12.0,12.0,12.0,12.0,12.0,12.0,12.0,12.0,12.0,12.0,12.0,12.0,12.0,12.0,13.0,13.0,13.0,13.0,13.0,13.0,13.0,13.0,13.0,13.0,13.0,13.0,13.0,13.0,13.0,14.0,14.0,14.0,14.0,14.0,14.0,14.0,14.0,14.0,14.0,14.0,14.0,14.0,14.0,14.0],\"y\":[0.0,1.0,2.0,3.0,4.0,5.0,6.0,7.0,8.0,9.0,10.0,11.0,12.0,13.0,14.0,0.0,1.0,2.0,3.0,4.0,5.0,6.0,7.0,8.0,9.0,10.0,11.0,12.0,13.0,14.0,0.0,1.0,2.0,3.0,4.0,5.0,6.0,7.0,8.0,9.0,10.0,11.0,12.0,13.0,14.0,0.0,1.0,2.0,3.0,4.0,5.0,6.0,7.0,8.0,9.0,10.0,11.0,12.0,13.0,14.0,0.0,1.0,2.0,3.0,4.0,5.0,6.0,7.0,8.0,9.0,10.0,11.0,12.0,13.0,14.0,0.0,1.0,2.0,3.0,4.0,5.0,6.0,7.0,8.0,9.0,10.0,11.0,12.0,13.0,14.0,0.0,1.0,2.0,3.0,4.0,5.0,6.0,7.0,8.0,9.0,10.0,11.0,12.0,13.0,14.0,0.0,1.0,2.0,3.0,4.0,5.0,6.0,7.0,8.0,9.0,10.0,11.0,12.0,13.0,14.0,0.0,1.0,2.0,3.0,4.0,5.0,6.0,7.0,8.0,9.0,10.0,11.0,12.0,13.0,14.0,0.0,1.0,2.0,3.0,4.0,5.0,6.0,7.0,8.0,9.0,10.0,11.0,12.0,13.0,14.0,0.0,1.0,2.0,3.0,4.0,5.0,6.0,7.0,8.0,9.0,10.0,11.0,12.0,13.0,14.0,0.0,1.0,2.0,3.0,4.0,5.0,6.0,7.0,8.0,9.0,10.0,11.0,12.0,13.0,14.0,0.0,1.0,2.0,3.0,4.0,5.0,6.0,7.0,8.0,9.0,10.0,11.0,12.0,13.0,14.0,0.0,1.0,2.0,3.0,4.0,5.0,6.0,7.0,8.0,9.0,10.0,11.0,12.0,13.0,14.0,0.0,1.0,2.0,3.0,4.0,5.0,6.0,7.0,8.0,9.0,10.0,11.0,12.0,13.0,14.0]},\"selected\":{\"id\":\"1181\"},\"selection_policy\":{\"id\":\"1182\"}},\"id\":\"1169\",\"type\":\"ColumnDataSource\"},{\"attributes\":{\"fill_alpha\":{\"value\":0.1},\"fill_color\":{\"value\":\"steelblue\"},\"line_alpha\":{\"value\":0.1},\"line_color\":{\"value\":\"steelblue\"},\"size\":{\"units\":\"screen\",\"value\":8},\"x\":{\"field\":\"x\"},\"y\":{\"field\":\"y\"}},\"id\":\"1171\",\"type\":\"Circle\"},{\"attributes\":{\"axis\":{\"id\":\"1144\"},\"dimension\":1,\"grid_line_color\":null,\"ticker\":null},\"id\":\"1147\",\"type\":\"Grid\"},{\"attributes\":{\"background_fill_color\":null,\"below\":[{\"id\":\"1140\"}],\"border_fill_color\":null,\"center\":[{\"id\":\"1143\"},{\"id\":\"1147\"}],\"left\":[{\"id\":\"1144\"}],\"outline_line_color\":null,\"plot_height\":400,\"plot_width\":400,\"renderers\":[{\"id\":\"1167\"},{\"id\":\"1172\"}],\"title\":{\"id\":\"1130\"},\"toolbar\":{\"id\":\"1155\"},\"toolbar_location\":null,\"x_range\":{\"id\":\"1132\"},\"x_scale\":{\"id\":\"1136\"},\"y_range\":{\"id\":\"1134\"},\"y_scale\":{\"id\":\"1138\"}},\"id\":\"1129\",\"subtype\":\"Figure\",\"type\":\"Plot\"},{\"attributes\":{\"fill_color\":{\"value\":\"steelblue\"},\"line_color\":{\"value\":\"steelblue\"},\"size\":{\"units\":\"screen\",\"value\":8},\"x\":{\"field\":\"x\"},\"y\":{\"field\":\"y\"}},\"id\":\"1170\",\"type\":\"Circle\"},{\"attributes\":{\"source\":{\"id\":\"1169\"}},\"id\":\"1173\",\"type\":\"CDSView\"},{\"attributes\":{},\"id\":\"1152\",\"type\":\"ResetTool\"},{\"attributes\":{\"data_source\":{\"id\":\"1169\"},\"glyph\":{\"id\":\"1170\"},\"hover_glyph\":null,\"muted_glyph\":null,\"nonselection_glyph\":{\"id\":\"1171\"},\"selection_glyph\":null,\"view\":{\"id\":\"1173\"}},\"id\":\"1172\",\"type\":\"GlyphRenderer\"},{\"attributes\":{},\"id\":\"1151\",\"type\":\"SaveTool\"},{\"attributes\":{},\"id\":\"1176\",\"type\":\"BasicTickFormatter\"},{\"attributes\":{\"overlay\":{\"id\":\"1154\"}},\"id\":\"1150\",\"type\":\"BoxZoomTool\"},{\"attributes\":{\"align\":\"center\",\"text\":\"240.326\",\"width\":400},\"id\":\"1163\",\"type\":\"Div\"},{\"attributes\":{},\"id\":\"1148\",\"type\":\"PanTool\"},{\"attributes\":{},\"id\":\"1178\",\"type\":\"BasicTickFormatter\"},{\"attributes\":{},\"id\":\"1149\",\"type\":\"WheelZoomTool\"},{\"attributes\":{},\"id\":\"1138\",\"type\":\"LinearScale\"},{\"attributes\":{\"data\":{\"x\":[0.0,0.0,1.0,0.0,0.0,1.0,2.0,2.0,3.0,3.0,3.0,4.0,3.0,2.0,1.0,2.0,1.0,0.0,0.0,0.0,0.0,1.0,1.0,2.0,2.0,3.0,3.0,3.0,4.0,4.0,5.0,5.0,5.0,4.0,4.0,5.0,6.0,7.0,6.0,5.0,5.0,4.0,4.0,5.0,6.0,6.0,7.0,7.0,7.0,8.0,9.0,8.0,7.0,8.0,8.0,8.0,9.0,9.0,10.0,11.0,10.0,9.0,9.0,8.0,8.0,7.0,7.0,7.0,6.0,6.0,6.0,6.0,7.0,7.0,6.0,6.0,5.0,5.0,5.0,4.0,3.0,4.0,3.0,3.0,2.0,1.0,2.0,2.0,1.0,0.0,0.0,0.0,0.0,1.0,2.0,1.0,1.0,0.0,0.0,1.0,0.0,1.0,2.0,2.0,3.0,4.0,3.0,2.0,3.0,4.0,4.0,5.0,6.0,5.0,6.0,7.0,7.0,8.0,8.0,8.0,7.0,8.0,9.0,8.0,9.0,10.0,10.0,10.0,10.0,9.0,9.0,9.0,10.0,11.0,12.0,11.0,11.0,12.0,12.0,13.0,13.0,14.0,14.0,14.0,13.0,13.0,14.0,14.0,13.0,12.0,12.0,11.0,11.0,10.0,11.0,12.0,12.0,13.0,13.0,14.0,14.0,14.0,13.0,13.0,14.0,14.0,13.0,12.0,12.0,12.0,11.0,11.0,11.0,10.0,10.0,9.0,9.0,10.0,10.0,11.0,11.0,12.0,12.0,11.0,12.0,13.0,13.0,13.0,13.0,14.0,14.0,14.0,14.0,14.0,13.0,12.0,12.0,11.0,11.0,10.0,10.0,9.0,8.0,9.0,10.0,9.0,8.0,8.0,7.0,7.0,6.0,5.0,4.0,5.0,6.0,6.0,5.0,4.0,4.0,3.0,3.0,2.0,2.0,1.0,1.0,0.0],\"y\":[0.0,1.0,2.0,2.0,3.0,3.0,3.0,2.0,2.0,3.0,4.0,5.0,5.0,5.0,5.0,4.0,4.0,4.0,5.0,6.0,7.0,7.0,6.0,6.0,7.0,6.0,7.0,8.0,8.0,9.0,9.0,8.0,7.0,7.0,6.0,6.0,6.0,6.0,5.0,5.0,4.0,4.0,3.0,3.0,3.0,4.0,4.0,3.0,2.0,3.0,3.0,4.0,5.0,5.0,6.0,7.0,6.0,7.0,7.0,8.0,8.0,8.0,9.0,8.0,9.0,9.0,8.0,7.0,7.0,8.0,9.0,10.0,10.0,11.0,11.0,12.0,12.0,11.0,10.0,11.0,11.0,10.0,10.0,9.0,10.0,9.0,9.0,8.0,8.0,8.0,9.0,10.0,11.0,10.0,11.0,11.0,12.0,12.0,13.0,13.0,14.0,14.0,14.0,13.0,14.0,14.0,13.0,12.0,12.0,12.0,13.0,14.0,14.0,13.0,13.0,13.0,14.0,14.0,13.0,12.0,12.0,11.0,11.0,10.0,10.0,10.0,11.0,12.0,13.0,12.0,13.0,14.0,14.0,14.0,14.0,13.0,12.0,12.0,13.0,13.0,14.0,14.0,13.0,12.0,12.0,11.0,11.0,10.0,10.0,10.0,11.0,11.0,10.0,9.0,9.0,9.0,8.0,8.0,9.0,9.0,8.0,7.0,7.0,6.0,6.0,5.0,5.0,5.0,6.0,7.0,7.0,6.0,5.0,5.0,6.0,5.0,4.0,3.0,4.0,4.0,3.0,4.0,3.0,2.0,2.0,1.0,2.0,3.0,4.0,4.0,3.0,2.0,1.0,0.0,0.0,0.0,1.0,1.0,0.0,0.0,1.0,0.0,0.0,1.0,2.0,2.0,2.0,1.0,1.0,0.0,0.0,0.0,0.0,1.0,1.0,2.0,2.0,2.0,1.0,1.0,0.0,0.0,1.0,1.0,0.0,0.0]},\"selected\":{\"id\":\"1179\"},\"selection_policy\":{\"id\":\"1180\"}},\"id\":\"1164\",\"type\":\"ColumnDataSource\"},{\"attributes\":{\"end\":14.7,\"start\":-0.7000000000000001},\"id\":\"1134\",\"type\":\"Range1d\"},{\"attributes\":{},\"id\":\"1153\",\"type\":\"HelpTool\"},{\"attributes\":{\"active_drag\":\"auto\",\"active_inspect\":\"auto\",\"active_multi\":null,\"active_scroll\":\"auto\",\"active_tap\":\"auto\",\"logo\":null,\"tools\":[{\"id\":\"1148\"},{\"id\":\"1149\"},{\"id\":\"1150\"},{\"id\":\"1151\"},{\"id\":\"1152\"},{\"id\":\"1153\"}]},\"id\":\"1155\",\"type\":\"Toolbar\"},{\"attributes\":{\"text\":\"\"},\"id\":\"1130\",\"type\":\"Title\"},{\"attributes\":{\"source\":{\"id\":\"1164\"}},\"id\":\"1168\",\"type\":\"CDSView\"},{\"attributes\":{\"end\":14.7,\"start\":-0.7000000000000001},\"id\":\"1132\",\"type\":\"Range1d\"},{\"attributes\":{\"line_alpha\":0.1,\"line_width\":4,\"x\":{\"field\":\"x\"},\"y\":{\"field\":\"y\"}},\"id\":\"1166\",\"type\":\"Line\"},{\"attributes\":{\"line_width\":4,\"x\":{\"field\":\"x\"},\"y\":{\"field\":\"y\"}},\"id\":\"1165\",\"type\":\"Line\"},{\"attributes\":{},\"id\":\"1179\",\"type\":\"Selection\"}],\"root_ids\":[\"1185\"]},\"title\":\"Bokeh Application\",\"version\":\"2.1.0\"}};\n",
       "  var render_items = [{\"docid\":\"e13245d3-0224-454d-b630-0dd0adfb3f09\",\"root_ids\":[\"1185\"],\"roots\":{\"1185\":\"93986ea4-5f0c-44f3-81a8-4240f91a1efb\"}}];\n",
       "  root.Bokeh.embed.embed_items_notebook(docs_json, render_items);\n",
       "\n",
       "  }\n",
       "  if (root.Bokeh !== undefined) {\n",
       "    embed_document(root);\n",
       "  } else {\n",
       "    var attempts = 0;\n",
       "    var timer = setInterval(function(root) {\n",
       "      if (root.Bokeh !== undefined) {\n",
       "        clearInterval(timer);\n",
       "        embed_document(root);\n",
       "      } else {\n",
       "        attempts++;\n",
       "        if (attempts > 100) {\n",
       "          clearInterval(timer);\n",
       "          console.log(\"Bokeh: ERROR: Unable to run BokehJS code because BokehJS library is missing\");\n",
       "        }\n",
       "      }\n",
       "    }, 10, root)\n",
       "  }\n",
       "})(window);"
      ],
      "application/vnd.bokehjs_exec.v0+json": ""
     },
     "metadata": {
      "application/vnd.bokehjs_exec.v0+json": {
       "id": "1185"
      }
     },
     "output_type": "display_data"
    },
    {
     "data": {
      "text/html": [
       "\n",
       "\n",
       "\n",
       "\n",
       "\n",
       "\n",
       "  <div class=\"bk-root\" id=\"9362d00d-4d99-45d2-84ba-d4987e22f8e0\" data-root-id=\"1322\"></div>\n"
      ]
     },
     "metadata": {},
     "output_type": "display_data"
    },
    {
     "data": {
      "application/javascript": [
       "(function(root) {\n",
       "  function embed_document(root) {\n",
       "    \n",
       "  var docs_json = {\"528c0219-58b9-4433-ae60-adad3645e536\":{\"roots\":{\"references\":[{\"attributes\":{\"children\":[[{\"id\":\"1266\"},0,0],[{\"id\":\"1300\"},1,0]]},\"id\":\"1322\",\"type\":\"GridBox\"},{\"attributes\":{\"formatter\":{\"id\":\"1315\"},\"ticker\":{\"id\":\"1282\"},\"visible\":false},\"id\":\"1281\",\"type\":\"LinearAxis\"},{\"attributes\":{},\"id\":\"1285\",\"type\":\"PanTool\"},{\"attributes\":{\"data\":{\"x\":[0.0,0.0,0.0,0.0,0.0,0.0,0.0,0.0,0.0,0.0,0.0,0.0,0.0,0.0,0.0,1.0,1.0,1.0,1.0,1.0,1.0,1.0,1.0,1.0,1.0,1.0,1.0,1.0,1.0,1.0,2.0,2.0,2.0,2.0,2.0,2.0,2.0,2.0,2.0,2.0,2.0,2.0,2.0,2.0,2.0,3.0,3.0,3.0,3.0,3.0,3.0,3.0,3.0,3.0,3.0,3.0,3.0,3.0,3.0,3.0,4.0,4.0,4.0,4.0,4.0,4.0,4.0,4.0,4.0,4.0,4.0,4.0,4.0,4.0,4.0,5.0,5.0,5.0,5.0,5.0,5.0,5.0,5.0,5.0,5.0,5.0,5.0,5.0,5.0,5.0,6.0,6.0,6.0,6.0,6.0,6.0,6.0,6.0,6.0,6.0,6.0,6.0,6.0,6.0,6.0,7.0,7.0,7.0,7.0,7.0,7.0,7.0,7.0,7.0,7.0,7.0,7.0,7.0,7.0,7.0,8.0,8.0,8.0,8.0,8.0,8.0,8.0,8.0,8.0,8.0,8.0,8.0,8.0,8.0,8.0,9.0,9.0,9.0,9.0,9.0,9.0,9.0,9.0,9.0,9.0,9.0,9.0,9.0,9.0,9.0,10.0,10.0,10.0,10.0,10.0,10.0,10.0,10.0,10.0,10.0,10.0,10.0,10.0,10.0,10.0,11.0,11.0,11.0,11.0,11.0,11.0,11.0,11.0,11.0,11.0,11.0,11.0,11.0,11.0,11.0,12.0,12.0,12.0,12.0,12.0,12.0,12.0,12.0,12.0,12.0,12.0,12.0,12.0,12.0,12.0,13.0,13.0,13.0,13.0,13.0,13.0,13.0,13.0,13.0,13.0,13.0,13.0,13.0,13.0,13.0,14.0,14.0,14.0,14.0,14.0,14.0,14.0,14.0,14.0,14.0,14.0,14.0,14.0,14.0,14.0],\"y\":[0.0,1.0,2.0,3.0,4.0,5.0,6.0,7.0,8.0,9.0,10.0,11.0,12.0,13.0,14.0,0.0,1.0,2.0,3.0,4.0,5.0,6.0,7.0,8.0,9.0,10.0,11.0,12.0,13.0,14.0,0.0,1.0,2.0,3.0,4.0,5.0,6.0,7.0,8.0,9.0,10.0,11.0,12.0,13.0,14.0,0.0,1.0,2.0,3.0,4.0,5.0,6.0,7.0,8.0,9.0,10.0,11.0,12.0,13.0,14.0,0.0,1.0,2.0,3.0,4.0,5.0,6.0,7.0,8.0,9.0,10.0,11.0,12.0,13.0,14.0,0.0,1.0,2.0,3.0,4.0,5.0,6.0,7.0,8.0,9.0,10.0,11.0,12.0,13.0,14.0,0.0,1.0,2.0,3.0,4.0,5.0,6.0,7.0,8.0,9.0,10.0,11.0,12.0,13.0,14.0,0.0,1.0,2.0,3.0,4.0,5.0,6.0,7.0,8.0,9.0,10.0,11.0,12.0,13.0,14.0,0.0,1.0,2.0,3.0,4.0,5.0,6.0,7.0,8.0,9.0,10.0,11.0,12.0,13.0,14.0,0.0,1.0,2.0,3.0,4.0,5.0,6.0,7.0,8.0,9.0,10.0,11.0,12.0,13.0,14.0,0.0,1.0,2.0,3.0,4.0,5.0,6.0,7.0,8.0,9.0,10.0,11.0,12.0,13.0,14.0,0.0,1.0,2.0,3.0,4.0,5.0,6.0,7.0,8.0,9.0,10.0,11.0,12.0,13.0,14.0,0.0,1.0,2.0,3.0,4.0,5.0,6.0,7.0,8.0,9.0,10.0,11.0,12.0,13.0,14.0,0.0,1.0,2.0,3.0,4.0,5.0,6.0,7.0,8.0,9.0,10.0,11.0,12.0,13.0,14.0,0.0,1.0,2.0,3.0,4.0,5.0,6.0,7.0,8.0,9.0,10.0,11.0,12.0,13.0,14.0]},\"selected\":{\"id\":\"1318\"},\"selection_policy\":{\"id\":\"1319\"}},\"id\":\"1306\",\"type\":\"ColumnDataSource\"},{\"attributes\":{\"source\":{\"id\":\"1301\"}},\"id\":\"1305\",\"type\":\"CDSView\"},{\"attributes\":{\"axis\":{\"id\":\"1281\"},\"dimension\":1,\"grid_line_color\":null,\"ticker\":null},\"id\":\"1284\",\"type\":\"Grid\"},{\"attributes\":{\"fill_color\":{\"value\":\"steelblue\"},\"line_color\":{\"value\":\"steelblue\"},\"size\":{\"units\":\"screen\",\"value\":8},\"x\":{\"field\":\"x\"},\"y\":{\"field\":\"y\"}},\"id\":\"1307\",\"type\":\"Circle\"},{\"attributes\":{},\"id\":\"1282\",\"type\":\"BasicTicker\"},{\"attributes\":{\"fill_alpha\":{\"value\":0.1},\"fill_color\":{\"value\":\"steelblue\"},\"line_alpha\":{\"value\":0.1},\"line_color\":{\"value\":\"steelblue\"},\"size\":{\"units\":\"screen\",\"value\":8},\"x\":{\"field\":\"x\"},\"y\":{\"field\":\"y\"}},\"id\":\"1308\",\"type\":\"Circle\"},{\"attributes\":{\"line_width\":4,\"x\":{\"field\":\"x\"},\"y\":{\"field\":\"y\"}},\"id\":\"1302\",\"type\":\"Line\"},{\"attributes\":{\"data_source\":{\"id\":\"1306\"},\"glyph\":{\"id\":\"1307\"},\"hover_glyph\":null,\"muted_glyph\":null,\"nonselection_glyph\":{\"id\":\"1308\"},\"selection_glyph\":null,\"view\":{\"id\":\"1310\"}},\"id\":\"1309\",\"type\":\"GlyphRenderer\"},{\"attributes\":{\"align\":\"center\",\"text\":\"226.243\",\"width\":400},\"id\":\"1300\",\"type\":\"Div\"},{\"attributes\":{\"source\":{\"id\":\"1306\"}},\"id\":\"1310\",\"type\":\"CDSView\"},{\"attributes\":{\"data\":{\"x\":[0.0,1.0,2.0,3.0,4.0,5.0,6.0,7.0,8.0,9.0,10.0,11.0,12.0,13.0,14.0,14.0,14.0,14.0,14.0,14.0,14.0,14.0,14.0,14.0,14.0,14.0,14.0,14.0,14.0,13.0,13.0,13.0,13.0,13.0,13.0,13.0,13.0,13.0,13.0,13.0,13.0,13.0,13.0,12.0,12.0,12.0,12.0,12.0,12.0,12.0,12.0,12.0,12.0,12.0,12.0,12.0,12.0,11.0,11.0,11.0,11.0,11.0,11.0,11.0,11.0,11.0,11.0,11.0,11.0,11.0,11.0,10.0,10.0,10.0,10.0,10.0,10.0,10.0,10.0,10.0,10.0,10.0,10.0,10.0,10.0,9.0,9.0,9.0,9.0,9.0,9.0,9.0,9.0,9.0,9.0,9.0,9.0,9.0,9.0,8.0,8.0,8.0,8.0,8.0,8.0,8.0,8.0,8.0,8.0,8.0,8.0,8.0,8.0,7.0,7.0,7.0,7.0,7.0,7.0,7.0,7.0,7.0,7.0,7.0,7.0,7.0,7.0,6.0,6.0,6.0,6.0,6.0,6.0,6.0,6.0,6.0,6.0,6.0,6.0,6.0,6.0,5.0,5.0,5.0,5.0,5.0,5.0,5.0,5.0,5.0,5.0,5.0,5.0,5.0,5.0,4.0,4.0,4.0,4.0,4.0,4.0,4.0,4.0,4.0,4.0,4.0,4.0,4.0,4.0,3.0,3.0,3.0,3.0,2.0,1.0,1.0,2.0,2.0,1.0,0.0,0.0,0.0,0.0,0.0,0.0,1.0,1.0,2.0,2.0,3.0,3.0,3.0,3.0,3.0,3.0,3.0,3.0,3.0,3.0,2.0,2.0,2.0,2.0,2.0,2.0,2.0,2.0,2.0,1.0,1.0,0.0,0.0,1.0,1.0,0.0,0.0,1.0,1.0,0.0,0.0,1.0,1.0,0.0,0.0,1.0,0.0],\"y\":[0.0,0.0,0.0,0.0,0.0,0.0,0.0,0.0,0.0,0.0,0.0,0.0,0.0,0.0,0.0,1.0,2.0,3.0,4.0,5.0,6.0,7.0,8.0,9.0,10.0,11.0,12.0,13.0,14.0,14.0,13.0,12.0,11.0,10.0,9.0,8.0,7.0,6.0,5.0,4.0,3.0,2.0,1.0,1.0,2.0,3.0,4.0,5.0,6.0,7.0,8.0,9.0,10.0,11.0,12.0,13.0,14.0,14.0,13.0,12.0,11.0,10.0,9.0,8.0,7.0,6.0,5.0,4.0,3.0,2.0,1.0,1.0,2.0,3.0,4.0,5.0,6.0,7.0,8.0,9.0,10.0,11.0,12.0,13.0,14.0,14.0,13.0,12.0,11.0,10.0,9.0,8.0,7.0,6.0,5.0,4.0,3.0,2.0,1.0,1.0,2.0,3.0,4.0,5.0,6.0,7.0,8.0,9.0,10.0,11.0,12.0,13.0,14.0,14.0,13.0,12.0,11.0,10.0,9.0,8.0,7.0,6.0,5.0,4.0,3.0,2.0,1.0,1.0,2.0,3.0,4.0,5.0,6.0,7.0,8.0,9.0,10.0,11.0,12.0,13.0,14.0,14.0,13.0,12.0,11.0,10.0,9.0,8.0,7.0,6.0,5.0,4.0,3.0,2.0,1.0,1.0,2.0,3.0,4.0,5.0,6.0,7.0,8.0,9.0,10.0,11.0,12.0,13.0,14.0,14.0,13.0,12.0,11.0,12.0,12.0,13.0,13.0,14.0,14.0,14.0,13.0,12.0,11.0,10.0,9.0,10.0,11.0,11.0,10.0,10.0,9.0,8.0,7.0,6.0,5.0,4.0,3.0,2.0,1.0,1.0,2.0,3.0,4.0,5.0,6.0,7.0,8.0,9.0,9.0,8.0,8.0,7.0,7.0,6.0,6.0,5.0,5.0,4.0,4.0,3.0,3.0,2.0,2.0,1.0,1.0,0.0]},\"selected\":{\"id\":\"1316\"},\"selection_policy\":{\"id\":\"1317\"}},\"id\":\"1301\",\"type\":\"ColumnDataSource\"},{\"attributes\":{\"text\":\"\"},\"id\":\"1267\",\"type\":\"Title\"},{\"attributes\":{\"overlay\":{\"id\":\"1291\"}},\"id\":\"1287\",\"type\":\"BoxZoomTool\"},{\"attributes\":{},\"id\":\"1286\",\"type\":\"WheelZoomTool\"},{\"attributes\":{},\"id\":\"1313\",\"type\":\"BasicTickFormatter\"},{\"attributes\":{},\"id\":\"1288\",\"type\":\"SaveTool\"},{\"attributes\":{},\"id\":\"1315\",\"type\":\"BasicTickFormatter\"},{\"attributes\":{},\"id\":\"1290\",\"type\":\"HelpTool\"},{\"attributes\":{\"end\":14.7,\"start\":-0.7000000000000001},\"id\":\"1269\",\"type\":\"Range1d\"},{\"attributes\":{},\"id\":\"1316\",\"type\":\"Selection\"},{\"attributes\":{\"data_source\":{\"id\":\"1301\"},\"glyph\":{\"id\":\"1302\"},\"hover_glyph\":null,\"muted_glyph\":null,\"nonselection_glyph\":{\"id\":\"1303\"},\"selection_glyph\":null,\"view\":{\"id\":\"1305\"}},\"id\":\"1304\",\"type\":\"GlyphRenderer\"},{\"attributes\":{},\"id\":\"1289\",\"type\":\"ResetTool\"},{\"attributes\":{},\"id\":\"1317\",\"type\":\"UnionRenderers\"},{\"attributes\":{},\"id\":\"1275\",\"type\":\"LinearScale\"},{\"attributes\":{},\"id\":\"1318\",\"type\":\"Selection\"},{\"attributes\":{},\"id\":\"1273\",\"type\":\"LinearScale\"},{\"attributes\":{\"end\":14.7,\"start\":-0.7000000000000001},\"id\":\"1271\",\"type\":\"Range1d\"},{\"attributes\":{\"active_drag\":\"auto\",\"active_inspect\":\"auto\",\"active_multi\":null,\"active_scroll\":\"auto\",\"active_tap\":\"auto\",\"logo\":null,\"tools\":[{\"id\":\"1285\"},{\"id\":\"1286\"},{\"id\":\"1287\"},{\"id\":\"1288\"},{\"id\":\"1289\"},{\"id\":\"1290\"}]},\"id\":\"1292\",\"type\":\"Toolbar\"},{\"attributes\":{},\"id\":\"1319\",\"type\":\"UnionRenderers\"},{\"attributes\":{\"axis\":{\"id\":\"1277\"},\"grid_line_color\":null,\"ticker\":null},\"id\":\"1280\",\"type\":\"Grid\"},{\"attributes\":{\"background_fill_color\":null,\"below\":[{\"id\":\"1277\"}],\"border_fill_color\":null,\"center\":[{\"id\":\"1280\"},{\"id\":\"1284\"}],\"left\":[{\"id\":\"1281\"}],\"outline_line_color\":null,\"plot_height\":400,\"plot_width\":400,\"renderers\":[{\"id\":\"1304\"},{\"id\":\"1309\"}],\"title\":{\"id\":\"1267\"},\"toolbar\":{\"id\":\"1292\"},\"toolbar_location\":null,\"x_range\":{\"id\":\"1269\"},\"x_scale\":{\"id\":\"1273\"},\"y_range\":{\"id\":\"1271\"},\"y_scale\":{\"id\":\"1275\"}},\"id\":\"1266\",\"subtype\":\"Figure\",\"type\":\"Plot\"},{\"attributes\":{\"line_alpha\":0.1,\"line_width\":4,\"x\":{\"field\":\"x\"},\"y\":{\"field\":\"y\"}},\"id\":\"1303\",\"type\":\"Line\"},{\"attributes\":{},\"id\":\"1278\",\"type\":\"BasicTicker\"},{\"attributes\":{\"formatter\":{\"id\":\"1313\"},\"ticker\":{\"id\":\"1278\"},\"visible\":false},\"id\":\"1277\",\"type\":\"LinearAxis\"},{\"attributes\":{\"bottom_units\":\"screen\",\"fill_alpha\":0.5,\"fill_color\":\"lightgrey\",\"left_units\":\"screen\",\"level\":\"overlay\",\"line_alpha\":1.0,\"line_color\":\"black\",\"line_dash\":[4,4],\"line_width\":2,\"right_units\":\"screen\",\"top_units\":\"screen\"},\"id\":\"1291\",\"type\":\"BoxAnnotation\"}],\"root_ids\":[\"1322\"]},\"title\":\"Bokeh Application\",\"version\":\"2.1.0\"}};\n",
       "  var render_items = [{\"docid\":\"528c0219-58b9-4433-ae60-adad3645e536\",\"root_ids\":[\"1322\"],\"roots\":{\"1322\":\"9362d00d-4d99-45d2-84ba-d4987e22f8e0\"}}];\n",
       "  root.Bokeh.embed.embed_items_notebook(docs_json, render_items);\n",
       "\n",
       "  }\n",
       "  if (root.Bokeh !== undefined) {\n",
       "    embed_document(root);\n",
       "  } else {\n",
       "    var attempts = 0;\n",
       "    var timer = setInterval(function(root) {\n",
       "      if (root.Bokeh !== undefined) {\n",
       "        clearInterval(timer);\n",
       "        embed_document(root);\n",
       "      } else {\n",
       "        attempts++;\n",
       "        if (attempts > 100) {\n",
       "          clearInterval(timer);\n",
       "          console.log(\"Bokeh: ERROR: Unable to run BokehJS code because BokehJS library is missing\");\n",
       "        }\n",
       "      }\n",
       "    }, 10, root)\n",
       "  }\n",
       "})(window);"
      ],
      "application/vnd.bokehjs_exec.v0+json": ""
     },
     "metadata": {
      "application/vnd.bokehjs_exec.v0+json": {
       "id": "1322"
      }
     },
     "output_type": "display_data"
    }
   ],
   "source": [
    "nodes, G = tsp_grid_instance(15,15,manhattan=False)\n",
    "plot_tour(nodes, G, nearest_neighbor(G))\n",
    "plot_tour(nodes, G, furthest_insertion(G))\n",
    "plot_tour(nodes, G, solve_tsp(G))"
   ]
  },
  {
   "cell_type": "code",
   "execution_count": 3,
   "metadata": {
    "scrolled": false
   },
   "outputs": [
    {
     "data": {
      "text/html": [
       "\n",
       "\n",
       "\n",
       "\n",
       "\n",
       "\n",
       "  <div class=\"bk-root\" id=\"516f576d-368c-43bf-bded-f3f26044f347\" data-root-id=\"1483\"></div>\n"
      ]
     },
     "metadata": {},
     "output_type": "display_data"
    },
    {
     "data": {
      "application/javascript": [
       "(function(root) {\n",
       "  function embed_document(root) {\n",
       "    \n",
       "  var docs_json = {\"b414a311-d7f8-4c75-9e54-77d580c4694d\":{\"roots\":{\"references\":[{\"attributes\":{\"children\":[[{\"id\":\"1413\"},0,0],[{\"id\":\"1466\"},1,0],[{\"id\":\"1467\"},2,0]]},\"id\":\"1483\",\"type\":\"GridBox\"},{\"attributes\":{},\"id\":\"1436\",\"type\":\"ResetTool\"},{\"attributes\":{\"children\":[{\"id\":\"1464\"},{\"id\":\"1462\"}],\"max_width\":400,\"sizing_mode\":\"stretch_both\"},\"id\":\"1466\",\"type\":\"Row\"},{\"attributes\":{\"formatter\":{\"id\":\"1470\"},\"ticker\":{\"id\":\"1425\"},\"visible\":false},\"id\":\"1424\",\"type\":\"LinearAxis\"},{\"attributes\":{\"children\":[{\"id\":\"1447\"},{\"id\":\"1448\"}]},\"id\":\"1467\",\"type\":\"Row\"},{\"attributes\":{\"args\":{\"cost\":{\"id\":\"1447\"},\"done\":{\"id\":\"1448\"},\"n\":{\"id\":\"1449\"},\"source\":{\"id\":\"1450\"},\"tour\":{\"id\":\"1451\"}},\"code\":\"\\n    if ((parseInt(n.text) - 1) >= 0) {\\n        n.text = (parseInt(n.text) - 1).toString()\\n    }\\n    var iteration = parseInt(n.text)\\n    \\n    if (iteration == source.data['edges_y'].length - 2) {\\n        iteration = iteration - 1\\n    }\\n    \\n    cost.text = source.data['costs'][iteration].toFixed(3)\\n    \\n    if (iteration == source.data['edges_y'].length - 1) {\\n        done.text = \\\"done.\\\"\\n    } else {\\n        done.text = \\\"\\\"\\n    }\\n\\n    tour.data['edges_x'] = source.data['edges_x'][iteration]\\n    tour.data['edges_y'] = source.data['edges_y'][iteration]\\n    tour.change.emit()\\n    \"},\"id\":\"1465\",\"type\":\"CustomJS\"},{\"attributes\":{},\"id\":\"1432\",\"type\":\"PanTool\"},{\"attributes\":{\"button_type\":\"success\",\"icon\":null,\"js_event_callbacks\":{\"button_click\":[{\"id\":\"1465\"}]},\"label\":\"Previous\",\"sizing_mode\":\"scale_width\",\"width_policy\":\"fit\"},\"id\":\"1464\",\"type\":\"Button\"},{\"attributes\":{},\"id\":\"1474\",\"type\":\"UnionRenderers\"},{\"attributes\":{},\"id\":\"1475\",\"type\":\"Selection\"},{\"attributes\":{\"end\":4.2,\"start\":-0.2},\"id\":\"1416\",\"type\":\"Range1d\"},{\"attributes\":{\"args\":{\"cost\":{\"id\":\"1447\"},\"done\":{\"id\":\"1448\"},\"n\":{\"id\":\"1449\"},\"source\":{\"id\":\"1450\"},\"tour\":{\"id\":\"1451\"}},\"code\":\"\\n    if ((parseInt(n.text) + 1) < source.data['edges_y'].length) {\\n        n.text = (parseInt(n.text) + 1).toString()\\n    }\\n    var iteration = parseInt(n.text)\\n    \\n    if (iteration == source.data['edges_y'].length - 2) {\\n        iteration = iteration + 1\\n    }\\n    \\n    cost.text = source.data['costs'][iteration].toFixed(3)\\n    \\n    if (iteration == source.data['edges_y'].length - 1) {\\n        done.text = \\\"done.\\\"\\n    } else {\\n        done.text = \\\"\\\"\\n    }\\n\\n    tour.data['edges_x'] = source.data['edges_x'][iteration]\\n    tour.data['edges_y'] = source.data['edges_y'][iteration]\\n    tour.change.emit()\\n    \"},\"id\":\"1463\",\"type\":\"CustomJS\"},{\"attributes\":{\"end\":4.2,\"start\":-0.2},\"id\":\"1418\",\"type\":\"Range1d\"},{\"attributes\":{\"button_type\":\"success\",\"icon\":null,\"js_event_callbacks\":{\"button_click\":[{\"id\":\"1463\"}]},\"label\":\"Next\",\"sizing_mode\":\"scale_width\",\"width_policy\":\"fit\"},\"id\":\"1462\",\"type\":\"Button\"},{\"attributes\":{\"bottom_units\":\"screen\",\"fill_alpha\":0.5,\"fill_color\":\"lightgrey\",\"left_units\":\"screen\",\"level\":\"overlay\",\"line_alpha\":1.0,\"line_color\":\"black\",\"line_dash\":[4,4],\"line_width\":2,\"right_units\":\"screen\",\"top_units\":\"screen\"},\"id\":\"1438\",\"type\":\"BoxAnnotation\"},{\"attributes\":{\"text\":\"\"},\"id\":\"1414\",\"type\":\"Title\"},{\"attributes\":{},\"id\":\"1472\",\"type\":\"BasicTickFormatter\"},{\"attributes\":{\"source\":{\"id\":\"1457\"}},\"id\":\"1461\",\"type\":\"CDSView\"},{\"attributes\":{},\"id\":\"1437\",\"type\":\"HelpTool\"},{\"attributes\":{\"data_source\":{\"id\":\"1457\"},\"glyph\":{\"id\":\"1458\"},\"hover_glyph\":null,\"muted_glyph\":null,\"nonselection_glyph\":{\"id\":\"1459\"},\"selection_glyph\":null,\"view\":{\"id\":\"1461\"}},\"id\":\"1460\",\"type\":\"GlyphRenderer\"},{\"attributes\":{},\"id\":\"1435\",\"type\":\"SaveTool\"},{\"attributes\":{\"fill_alpha\":{\"value\":0.1},\"fill_color\":{\"value\":\"steelblue\"},\"line_alpha\":{\"value\":0.1},\"line_color\":{\"value\":\"steelblue\"},\"size\":{\"units\":\"screen\",\"value\":8},\"x\":{\"field\":\"x\"},\"y\":{\"field\":\"y\"}},\"id\":\"1459\",\"type\":\"Circle\"},{\"attributes\":{},\"id\":\"1433\",\"type\":\"WheelZoomTool\"},{\"attributes\":{},\"id\":\"1476\",\"type\":\"UnionRenderers\"},{\"attributes\":{\"fill_color\":{\"value\":\"steelblue\"},\"line_color\":{\"value\":\"steelblue\"},\"size\":{\"units\":\"screen\",\"value\":8},\"x\":{\"field\":\"x\"},\"y\":{\"field\":\"y\"}},\"id\":\"1458\",\"type\":\"Circle\"},{\"attributes\":{\"formatter\":{\"id\":\"1472\"},\"ticker\":{\"id\":\"1429\"},\"visible\":false},\"id\":\"1428\",\"type\":\"LinearAxis\"},{\"attributes\":{\"data\":{\"x\":[0.0,0.0,0.0,0.0,0.0,1.0,1.0,1.0,1.0,1.0,2.0,2.0,2.0,2.0,2.0,3.0,3.0,3.0,3.0,3.0,4.0,4.0,4.0,4.0,4.0],\"y\":[0.0,1.0,2.0,3.0,4.0,0.0,1.0,2.0,3.0,4.0,0.0,1.0,2.0,3.0,4.0,0.0,1.0,2.0,3.0,4.0,0.0,1.0,2.0,3.0,4.0]},\"selected\":{\"id\":\"1475\"},\"selection_policy\":{\"id\":\"1476\"}},\"id\":\"1457\",\"type\":\"ColumnDataSource\"},{\"attributes\":{},\"id\":\"1429\",\"type\":\"BasicTicker\"},{\"attributes\":{},\"id\":\"1420\",\"type\":\"LinearScale\"},{\"attributes\":{\"overlay\":{\"id\":\"1438\"}},\"id\":\"1434\",\"type\":\"BoxZoomTool\"},{\"attributes\":{\"align\":\"center\",\"width\":300},\"id\":\"1448\",\"type\":\"Div\"},{\"attributes\":{\"data_source\":{\"id\":\"1451\"},\"glyph\":{\"id\":\"1453\"},\"hover_glyph\":null,\"muted_glyph\":null,\"nonselection_glyph\":{\"id\":\"1454\"},\"selection_glyph\":null,\"view\":{\"id\":\"1456\"}},\"id\":\"1455\",\"type\":\"GlyphRenderer\"},{\"attributes\":{\"align\":\"center\",\"text\":\"0\",\"width\":350},\"id\":\"1447\",\"type\":\"Div\"},{\"attributes\":{\"line_alpha\":0.1,\"line_width\":4,\"x\":{\"field\":\"edges_x\"},\"y\":{\"field\":\"edges_y\"}},\"id\":\"1454\",\"type\":\"Line\"},{\"attributes\":{\"source\":{\"id\":\"1451\"}},\"id\":\"1456\",\"type\":\"CDSView\"},{\"attributes\":{},\"id\":\"1482\",\"type\":\"UnionRenderers\"},{\"attributes\":{\"line_width\":4,\"x\":{\"field\":\"edges_x\"},\"y\":{\"field\":\"edges_y\"}},\"id\":\"1453\",\"type\":\"Line\"},{\"attributes\":{\"axis\":{\"id\":\"1428\"},\"dimension\":1,\"grid_line_color\":null,\"ticker\":null},\"id\":\"1431\",\"type\":\"Grid\"},{\"attributes\":{},\"id\":\"1481\",\"type\":\"Selection\"},{\"attributes\":{},\"id\":\"1473\",\"type\":\"Selection\"},{\"attributes\":{},\"id\":\"1422\",\"type\":\"LinearScale\"},{\"attributes\":{\"data\":{\"edges_x\":[0.0],\"edges_y\":[0.0]},\"selected\":{\"id\":\"1473\"},\"selection_policy\":{\"id\":\"1474\"}},\"id\":\"1451\",\"type\":\"ColumnDataSource\"},{\"attributes\":{},\"id\":\"1470\",\"type\":\"BasicTickFormatter\"},{\"attributes\":{\"data\":{\"costs\":[0,1.0,2.0,3.0,4.0,5.0,6.0,7.0,8.0,9.0,10.0,11.0,12.0,13.0,14.0,15.0,16.0,18.23606797749979,21.398345637668168,22.398345637668168,23.398345637668168,24.398345637668168,25.398345637668168,26.398345637668168,27.812559200041264,32.28469515504084],\"edges_x\":[[0.0],[0.0,0.0],[0.0,0.0,1.0],[0.0,0.0,1.0,2.0],[0.0,0.0,1.0,2.0,2.0],[0.0,0.0,1.0,2.0,2.0,3.0],[0.0,0.0,1.0,2.0,2.0,3.0,4.0],[0.0,0.0,1.0,2.0,2.0,3.0,4.0,4.0],[0.0,0.0,1.0,2.0,2.0,3.0,4.0,4.0,3.0],[0.0,0.0,1.0,2.0,2.0,3.0,4.0,4.0,3.0,3.0],[0.0,0.0,1.0,2.0,2.0,3.0,4.0,4.0,3.0,3.0,2.0],[0.0,0.0,1.0,2.0,2.0,3.0,4.0,4.0,3.0,3.0,2.0,1.0],[0.0,0.0,1.0,2.0,2.0,3.0,4.0,4.0,3.0,3.0,2.0,1.0,1.0],[0.0,0.0,1.0,2.0,2.0,3.0,4.0,4.0,3.0,3.0,2.0,1.0,1.0,1.0],[0.0,0.0,1.0,2.0,2.0,3.0,4.0,4.0,3.0,3.0,2.0,1.0,1.0,1.0,0.0],[0.0,0.0,1.0,2.0,2.0,3.0,4.0,4.0,3.0,3.0,2.0,1.0,1.0,1.0,0.0,0.0],[0.0,0.0,1.0,2.0,2.0,3.0,4.0,4.0,3.0,3.0,2.0,1.0,1.0,1.0,0.0,0.0,0.0],[0.0,0.0,1.0,2.0,2.0,3.0,4.0,4.0,3.0,3.0,2.0,1.0,1.0,1.0,0.0,0.0,0.0,1.0],[0.0,0.0,1.0,2.0,2.0,3.0,4.0,4.0,3.0,3.0,2.0,1.0,1.0,1.0,0.0,0.0,0.0,1.0,2.0],[0.0,0.0,1.0,2.0,2.0,3.0,4.0,4.0,3.0,3.0,2.0,1.0,1.0,1.0,0.0,0.0,0.0,1.0,2.0,2.0],[0.0,0.0,1.0,2.0,2.0,3.0,4.0,4.0,3.0,3.0,2.0,1.0,1.0,1.0,0.0,0.0,0.0,1.0,2.0,2.0,3.0],[0.0,0.0,1.0,2.0,2.0,3.0,4.0,4.0,3.0,3.0,2.0,1.0,1.0,1.0,0.0,0.0,0.0,1.0,2.0,2.0,3.0,4.0],[0.0,0.0,1.0,2.0,2.0,3.0,4.0,4.0,3.0,3.0,2.0,1.0,1.0,1.0,0.0,0.0,0.0,1.0,2.0,2.0,3.0,4.0,4.0],[0.0,0.0,1.0,2.0,2.0,3.0,4.0,4.0,3.0,3.0,2.0,1.0,1.0,1.0,0.0,0.0,0.0,1.0,2.0,2.0,3.0,4.0,4.0,3.0],[0.0,0.0,1.0,2.0,2.0,3.0,4.0,4.0,3.0,3.0,2.0,1.0,1.0,1.0,0.0,0.0,0.0,1.0,2.0,2.0,3.0,4.0,4.0,3.0,4.0],[0.0,0.0,1.0,2.0,2.0,3.0,4.0,4.0,3.0,3.0,2.0,1.0,1.0,1.0,0.0,0.0,0.0,1.0,2.0,2.0,3.0,4.0,4.0,3.0,4.0,0.0]],\"edges_y\":[[0.0],[0.0,1.0],[0.0,1.0,1.0],[0.0,1.0,1.0,1.0],[0.0,1.0,1.0,1.0,0.0],[0.0,1.0,1.0,1.0,0.0,0.0],[0.0,1.0,1.0,1.0,0.0,0.0,0.0],[0.0,1.0,1.0,1.0,0.0,0.0,0.0,1.0],[0.0,1.0,1.0,1.0,0.0,0.0,0.0,1.0,1.0],[0.0,1.0,1.0,1.0,0.0,0.0,0.0,1.0,1.0,2.0],[0.0,1.0,1.0,1.0,0.0,0.0,0.0,1.0,1.0,2.0,2.0],[0.0,1.0,1.0,1.0,0.0,0.0,0.0,1.0,1.0,2.0,2.0,2.0],[0.0,1.0,1.0,1.0,0.0,0.0,0.0,1.0,1.0,2.0,2.0,2.0,3.0],[0.0,1.0,1.0,1.0,0.0,0.0,0.0,1.0,1.0,2.0,2.0,2.0,3.0,4.0],[0.0,1.0,1.0,1.0,0.0,0.0,0.0,1.0,1.0,2.0,2.0,2.0,3.0,4.0,4.0],[0.0,1.0,1.0,1.0,0.0,0.0,0.0,1.0,1.0,2.0,2.0,2.0,3.0,4.0,4.0,3.0],[0.0,1.0,1.0,1.0,0.0,0.0,0.0,1.0,1.0,2.0,2.0,2.0,3.0,4.0,4.0,3.0,2.0],[0.0,1.0,1.0,1.0,0.0,0.0,0.0,1.0,1.0,2.0,2.0,2.0,3.0,4.0,4.0,3.0,2.0,0.0],[0.0,1.0,1.0,1.0,0.0,0.0,0.0,1.0,1.0,2.0,2.0,2.0,3.0,4.0,4.0,3.0,2.0,0.0,3.0],[0.0,1.0,1.0,1.0,0.0,0.0,0.0,1.0,1.0,2.0,2.0,2.0,3.0,4.0,4.0,3.0,2.0,0.0,3.0,4.0],[0.0,1.0,1.0,1.0,0.0,0.0,0.0,1.0,1.0,2.0,2.0,2.0,3.0,4.0,4.0,3.0,2.0,0.0,3.0,4.0,4.0],[0.0,1.0,1.0,1.0,0.0,0.0,0.0,1.0,1.0,2.0,2.0,2.0,3.0,4.0,4.0,3.0,2.0,0.0,3.0,4.0,4.0,4.0],[0.0,1.0,1.0,1.0,0.0,0.0,0.0,1.0,1.0,2.0,2.0,2.0,3.0,4.0,4.0,3.0,2.0,0.0,3.0,4.0,4.0,4.0,3.0],[0.0,1.0,1.0,1.0,0.0,0.0,0.0,1.0,1.0,2.0,2.0,2.0,3.0,4.0,4.0,3.0,2.0,0.0,3.0,4.0,4.0,4.0,3.0,3.0],[0.0,1.0,1.0,1.0,0.0,0.0,0.0,1.0,1.0,2.0,2.0,2.0,3.0,4.0,4.0,3.0,2.0,0.0,3.0,4.0,4.0,4.0,3.0,3.0,2.0],[0.0,1.0,1.0,1.0,0.0,0.0,0.0,1.0,1.0,2.0,2.0,2.0,3.0,4.0,4.0,3.0,2.0,0.0,3.0,4.0,4.0,4.0,3.0,3.0,2.0,0.0]]},\"selected\":{\"id\":\"1481\"},\"selection_policy\":{\"id\":\"1482\"}},\"id\":\"1450\",\"type\":\"ColumnDataSource\"},{\"attributes\":{\"align\":\"center\",\"text\":\"0\",\"width\":400},\"id\":\"1449\",\"type\":\"Div\"},{\"attributes\":{\"axis\":{\"id\":\"1424\"},\"grid_line_color\":null,\"ticker\":null},\"id\":\"1427\",\"type\":\"Grid\"},{\"attributes\":{},\"id\":\"1425\",\"type\":\"BasicTicker\"},{\"attributes\":{\"active_drag\":\"auto\",\"active_inspect\":\"auto\",\"active_multi\":null,\"active_scroll\":\"auto\",\"active_tap\":\"auto\",\"logo\":null,\"tools\":[{\"id\":\"1432\"},{\"id\":\"1433\"},{\"id\":\"1434\"},{\"id\":\"1435\"},{\"id\":\"1436\"},{\"id\":\"1437\"}]},\"id\":\"1439\",\"type\":\"Toolbar\"},{\"attributes\":{\"background_fill_color\":null,\"below\":[{\"id\":\"1424\"}],\"border_fill_color\":null,\"center\":[{\"id\":\"1427\"},{\"id\":\"1431\"}],\"left\":[{\"id\":\"1428\"}],\"outline_line_color\":null,\"plot_height\":400,\"plot_width\":400,\"renderers\":[{\"id\":\"1455\"},{\"id\":\"1460\"}],\"title\":{\"id\":\"1414\"},\"toolbar\":{\"id\":\"1439\"},\"toolbar_location\":null,\"x_range\":{\"id\":\"1416\"},\"x_scale\":{\"id\":\"1420\"},\"y_range\":{\"id\":\"1418\"},\"y_scale\":{\"id\":\"1422\"}},\"id\":\"1413\",\"subtype\":\"Figure\",\"type\":\"Plot\"}],\"root_ids\":[\"1483\"]},\"title\":\"Bokeh Application\",\"version\":\"2.1.0\"}};\n",
       "  var render_items = [{\"docid\":\"b414a311-d7f8-4c75-9e54-77d580c4694d\",\"root_ids\":[\"1483\"],\"roots\":{\"1483\":\"516f576d-368c-43bf-bded-f3f26044f347\"}}];\n",
       "  root.Bokeh.embed.embed_items_notebook(docs_json, render_items);\n",
       "\n",
       "  }\n",
       "  if (root.Bokeh !== undefined) {\n",
       "    embed_document(root);\n",
       "  } else {\n",
       "    var attempts = 0;\n",
       "    var timer = setInterval(function(root) {\n",
       "      if (root.Bokeh !== undefined) {\n",
       "        clearInterval(timer);\n",
       "        embed_document(root);\n",
       "      } else {\n",
       "        attempts++;\n",
       "        if (attempts > 100) {\n",
       "          clearInterval(timer);\n",
       "          console.log(\"Bokeh: ERROR: Unable to run BokehJS code because BokehJS library is missing\");\n",
       "        }\n",
       "      }\n",
       "    }, 10, root)\n",
       "  }\n",
       "})(window);"
      ],
      "application/vnd.bokehjs_exec.v0+json": ""
     },
     "metadata": {
      "application/vnd.bokehjs_exec.v0+json": {
       "id": "1483"
      }
     },
     "output_type": "display_data"
    }
   ],
   "source": [
    "nodes, G = tsp_grid_instance(5,5,manhattan=False)\n",
    "plot_tsp_heuristic(nodes, G, heuristic='nearest_neighbor', initial=0)"
   ]
  },
  {
   "cell_type": "code",
   "execution_count": 4,
   "metadata": {},
   "outputs": [
    {
     "name": "stdout",
     "output_type": "stream",
     "text": [
      "Heuristic Averages:\n",
      "Random Neighbor: 225.0\n",
      "Nearest Neighbor: 61.2\n",
      "Nearest Insertion: 60.0\n",
      "Furthest Insertion: 56.6\n"
     ]
    }
   ],
   "source": [
    "n = 10\n",
    "random_neighbor_total = 0\n",
    "nearest_neighbor_total = 0\n",
    "nearest_insertion_total = 0\n",
    "furthest_insertion_total = 0\n",
    "for i in range(n):\n",
    "    nodes, G = tsp_grid_instance(6,8,True)\n",
    "    random_neighbor_total += tour_cost(G, random_neighbor(G))\n",
    "    nearest_neighbor_total += tour_cost(G, nearest_neighbor(G))\n",
    "    nearest_insertion_total += tour_cost(G, nearest_insertion(G))\n",
    "    furthest_insertion_total += tour_cost(G, furthest_insertion(G))\n",
    "print(\"Heuristic Averages:\")\n",
    "print(\"Random Neighbor: %s\" % (random_neighbor_total / n))\n",
    "print(\"Nearest Neighbor: %s\" % (nearest_neighbor_total / n))\n",
    "print(\"Nearest Insertion: %s\" % (nearest_insertion_total / n))\n",
    "print(\"Furthest Insertion: %s\" % (furthest_insertion_total / n))"
   ]
  },
  {
   "cell_type": "code",
   "execution_count": 11,
   "metadata": {},
   "outputs": [
    {
     "name": "stdout",
     "output_type": "stream",
     "text": [
      "Heuristic Averages:\n",
      "Nearest Insertion - Close: 104.8\n",
      "Nearest Insertion - Far: 98.0\n",
      "Furthest Insertion- Close: 103.0\n",
      "Furthest Insertion - Far: 101.8\n"
     ]
    }
   ],
   "source": [
    "n = 10\n",
    "nearest_insertion_close_total = 0\n",
    "nearest_insertion_far_total = 0\n",
    "furthest_insertion_close_total = 0\n",
    "furthest_insertion_far_total = 0\n",
    "for i in range(n):\n",
    "    nodes, G = tsp_grid_instance(9,9,True)\n",
    "    nearest_insertion_close_total += tour_cost(G, nearest_insertion(G))\n",
    "    nearest_insertion_far_total += tour_cost(G, nearest_insertion(G, initial=[0,len(G)-1,0]))\n",
    "    furthest_insertion_close_total += tour_cost(G, nearest_insertion(G, initial=[0,1,0]))\n",
    "    furthest_insertion_far_total += tour_cost(G, nearest_insertion(G))\n",
    "print(\"Heuristic Averages:\")\n",
    "print(\"Nearest Insertion - Close: %s\" % (nearest_insertion_close_total / n))\n",
    "print(\"Nearest Insertion - Far: %s\" % (nearest_insertion_far_total / n))\n",
    "print(\"Furthest Insertion- Close: %s\" % (furthest_insertion_close_total / n))\n",
    "print(\"Furthest Insertion - Far: %s\" % (furthest_insertion_far_total / n))"
   ]
  },
  {
   "cell_type": "code",
   "execution_count": 5,
   "metadata": {},
   "outputs": [
    {
     "data": {
      "text/html": [
       "\n",
       "\n",
       "\n",
       "\n",
       "\n",
       "\n",
       "  <div class=\"bk-root\" id=\"38cd10f0-d63f-44d5-967a-6c1b0435f6d2\" data-root-id=\"1652\"></div>\n"
      ]
     },
     "metadata": {},
     "output_type": "display_data"
    },
    {
     "data": {
      "application/javascript": [
       "(function(root) {\n",
       "  function embed_document(root) {\n",
       "    \n",
       "  var docs_json = {\"dd2a6cc4-7422-4cf9-a7b5-bcadc6823578\":{\"roots\":{\"references\":[{\"attributes\":{\"children\":[[{\"id\":\"1596\"},0,0],[{\"id\":\"1630\"},1,0]]},\"id\":\"1652\",\"type\":\"GridBox\"},{\"attributes\":{\"data\":{\"x\":[0.0,5.0,2.0,2.0,0.0,5.0,5.0,5.0,2.0,0.0,0.0,5.0,12.0,15.0,25.0,34.0,41.0,48.0,57.0,63.0,61.0,61.0,57.0,57.0,61.0,74.0,74.0,80.0,80.0,74.0,71.0,71.0,64.0,74.0,74.0,74.0,80.0,80.0,84.0,84.0,84.0,97.0,97.0,97.0,94.0,103.0,103.0,110.0,117.0,117.0,120.0,120.0,117.0,120.0,126.0,130.0,132.0,130.0,130.0,126.0,126.0,130.0,130.0,130.0,130.0,130.0,130.0,130.0,127.0,127.0,126.0,120.0,120.0,120.0,120.0,120.0,123.0,120.0,120.0,124.0,125.0,124.0,125.0,124.0,120.0,120.0,103.0,109.0,109.0,109.0,107.0,107.0,107.0,103.0,103.0,103.0,107.0,107.0,109.0,104.0,103.0,102.0,97.0,97.0,94.0,94.0,86.0,87.0,87.0,84.0,87.0,87.0,87.0,84.0,87.0,87.0,94.0,94.0,97.0,97.0,97.0,94.0,94.0,94.0,87.0,87.0,87.0,87.0,87.0,84.0,84.0,87.0,87.0,87.0,87.0,87.0,87.0,87.0,84.0,84.0,74.0,74.0,74.0,74.0,78.0,79.0,80.0,81.0,73.0,72.0,71.0,61.0,58.0,61.0,61.0,61.0,57.0,56.0,55.0,51.0,51.0,55.0,56.0,55.0,51.0,51.0,51.0,57.0,57.0,56.0,57.0,55.0,54.0,51.0,48.0,34.0,32.0,33.0,34.0,34.0,33.0,32.0,28.0,28.0,25.0,25.0,25.0,25.0,28.0,28.0,35.0,34.0,38.0,48.0,48.0,51.0,51.0,51.0,48.0,40.0,38.0,38.0,38.0,34.0,34.0,28.0,28.0,28.0,25.0,11.0,10.0,11.0,11.0,18.0,25.0,25.0,28.0,28.0,25.0,25.0,25.0,17.0,15.0,11.0,15.0,18.0,18.0,18.0,18.0,15.0,12.0,12.0,11.0,10.0,9.0,5.0,5.0,0.0],\"y\":[15.0,18.0,21.0,28.0,33.0,33.0,36.0,40.0,44.0,51.0,60.0,64.0,61.0,64.0,61.0,51.0,61.0,61.0,51.0,45.0,42.0,40.0,39.0,36.0,37.0,37.0,43.0,47.0,50.0,49.0,54.0,56.0,61.0,64.0,62.0,59.0,61.0,58.0,59.0,62.0,64.0,64.0,60.0,57.0,52.0,58.0,55.0,52.0,50.0,52.0,55.0,58.0,63.0,60.0,57.0,60.0,63.0,58.0,55.0,54.0,46.0,43.0,39.0,34.0,29.0,25.0,19.0,15.0,16.0,12.0,5.0,7.0,11.0,15.0,19.0,25.0,26.0,29.0,34.0,37.0,38.0,40.0,42.0,44.0,44.0,40.0,42.0,36.0,35.0,34.0,30.0,28.0,25.0,27.0,24.0,16.0,15.0,11.0,6.0,12.0,10.0,10.0,15.0,11.0,10.0,6.0,6.0,11.0,13.0,13.0,15.0,17.0,19.0,19.0,21.0,23.0,20.0,22.0,25.0,28.0,30.0,34.0,35.0,36.0,39.0,41.0,42.0,44.0,45.0,43.0,37.0,37.0,35.0,33.0,31.0,29.0,27.0,25.0,25.0,31.0,31.0,25.0,19.0,13.0,10.0,10.0,10.0,10.0,0.0,0.0,6.0,11.0,15.0,18.0,21.0,25.0,28.0,24.0,26.0,26.0,22.0,22.0,20.0,19.0,18.0,14.0,11.0,12.0,10.0,10.0,5.0,0.0,0.0,7.0,10.0,5.0,10.0,10.0,10.0,13.0,13.0,13.0,12.0,7.0,10.0,12.0,14.0,16.0,15.0,19.0,24.0,28.0,27.0,32.0,34.0,37.0,40.0,42.0,45.0,45.0,42.0,40.0,37.0,36.0,39.0,37.0,40.0,42.0,45.0,42.0,42.0,34.0,31.0,28.0,34.0,32.0,27.0,23.0,23.0,20.0,18.0,21.0,18.0,17.0,13.0,15.0,14.0,13.0,11.0,8.0,5.0,10.0,10.0,10.0,10.0,8.0,13.0,15.0]},\"selected\":{\"id\":\"1646\"},\"selection_policy\":{\"id\":\"1647\"}},\"id\":\"1631\",\"type\":\"ColumnDataSource\"},{\"attributes\":{},\"id\":\"1645\",\"type\":\"BasicTickFormatter\"},{\"attributes\":{\"active_drag\":\"auto\",\"active_inspect\":\"auto\",\"active_multi\":null,\"active_scroll\":\"auto\",\"active_tap\":\"auto\",\"logo\":null,\"tools\":[{\"id\":\"1615\"},{\"id\":\"1616\"},{\"id\":\"1617\"},{\"id\":\"1618\"},{\"id\":\"1619\"},{\"id\":\"1620\"}]},\"id\":\"1622\",\"type\":\"Toolbar\"},{\"attributes\":{},\"id\":\"1616\",\"type\":\"WheelZoomTool\"},{\"attributes\":{},\"id\":\"1612\",\"type\":\"BasicTicker\"},{\"attributes\":{\"line_width\":4,\"x\":{\"field\":\"x\"},\"y\":{\"field\":\"y\"}},\"id\":\"1632\",\"type\":\"Line\"},{\"attributes\":{\"formatter\":{\"id\":\"1645\"},\"ticker\":{\"id\":\"1612\"},\"visible\":false},\"id\":\"1611\",\"type\":\"LinearAxis\"},{\"attributes\":{},\"id\":\"1615\",\"type\":\"PanTool\"},{\"attributes\":{},\"id\":\"1646\",\"type\":\"Selection\"},{\"attributes\":{\"data\":{\"x\":[0.0,0.0,0.0,0.0,2.0,2.0,2.0,5.0,5.0,5.0,5.0,5.0,5.0,5.0,9.0,10.0,10.0,11.0,11.0,11.0,11.0,11.0,12.0,12.0,12.0,15.0,15.0,15.0,15.0,17.0,18.0,18.0,18.0,18.0,18.0,25.0,25.0,25.0,25.0,25.0,25.0,25.0,25.0,25.0,25.0,25.0,28.0,28.0,28.0,28.0,28.0,28.0,28.0,28.0,28.0,32.0,32.0,33.0,33.0,34.0,34.0,34.0,34.0,34.0,34.0,34.0,35.0,38.0,38.0,38.0,38.0,40.0,41.0,48.0,48.0,48.0,48.0,48.0,51.0,51.0,51.0,51.0,51.0,51.0,51.0,51.0,51.0,54.0,55.0,55.0,55.0,55.0,56.0,56.0,56.0,57.0,57.0,57.0,57.0,57.0,57.0,57.0,58.0,61.0,61.0,61.0,61.0,61.0,61.0,61.0,63.0,64.0,71.0,71.0,71.0,72.0,73.0,74.0,74.0,74.0,74.0,74.0,74.0,74.0,74.0,74.0,74.0,78.0,79.0,80.0,80.0,80.0,80.0,80.0,81.0,84.0,84.0,84.0,84.0,84.0,84.0,84.0,84.0,84.0,86.0,87.0,87.0,87.0,87.0,87.0,87.0,87.0,87.0,87.0,87.0,87.0,87.0,87.0,87.0,87.0,87.0,87.0,87.0,87.0,94.0,94.0,94.0,94.0,94.0,94.0,94.0,94.0,97.0,97.0,97.0,97.0,97.0,97.0,97.0,97.0,102.0,103.0,103.0,103.0,103.0,103.0,103.0,103.0,104.0,107.0,107.0,107.0,107.0,107.0,109.0,109.0,109.0,109.0,110.0,117.0,117.0,117.0,120.0,120.0,120.0,120.0,120.0,120.0,120.0,120.0,120.0,120.0,120.0,120.0,123.0,124.0,124.0,124.0,125.0,125.0,126.0,126.0,126.0,126.0,127.0,127.0,130.0,130.0,130.0,130.0,130.0,130.0,130.0,130.0,130.0,130.0,132.0],\"y\":[15.0,33.0,51.0,60.0,21.0,28.0,44.0,13.0,18.0,33.0,36.0,40.0,64.0,8.0,10.0,10.0,42.0,10.0,17.0,31.0,34.0,42.0,10.0,5.0,61.0,13.0,18.0,64.0,8.0,21.0,11.0,13.0,14.0,15.0,28.0,10.0,12.0,14.0,16.0,18.0,20.0,23.0,32.0,34.0,45.0,61.0,12.0,15.0,19.0,23.0,27.0,37.0,40.0,42.0,7.0,10.0,13.0,10.0,13.0,10.0,13.0,28.0,36.0,39.0,5.0,51.0,24.0,27.0,37.0,40.0,42.0,45.0,61.0,10.0,32.0,34.0,45.0,61.0,11.0,14.0,18.0,22.0,26.0,37.0,40.0,42.0,7.0,0.0,0.0,19.0,22.0,26.0,10.0,20.0,24.0,10.0,12.0,28.0,36.0,39.0,5.0,51.0,15.0,11.0,18.0,21.0,25.0,37.0,40.0,42.0,45.0,61.0,54.0,56.0,6.0,0.0,0.0,13.0,19.0,25.0,31.0,37.0,43.0,49.0,59.0,62.0,64.0,10.0,10.0,10.0,47.0,50.0,58.0,61.0,10.0,13.0,19.0,25.0,31.0,37.0,43.0,59.0,62.0,64.0,6.0,11.0,13.0,15.0,17.0,19.0,21.0,23.0,25.0,27.0,29.0,31.0,33.0,35.0,37.0,39.0,41.0,42.0,44.0,45.0,10.0,20.0,22.0,34.0,35.0,36.0,52.0,6.0,11.0,15.0,25.0,28.0,30.0,57.0,60.0,64.0,10.0,10.0,16.0,24.0,27.0,42.0,55.0,58.0,12.0,11.0,15.0,25.0,28.0,30.0,34.0,35.0,36.0,6.0,52.0,50.0,52.0,63.0,11.0,15.0,19.0,25.0,29.0,34.0,40.0,44.0,55.0,58.0,60.0,7.0,26.0,37.0,40.0,44.0,38.0,42.0,46.0,5.0,54.0,57.0,12.0,16.0,15.0,19.0,25.0,29.0,34.0,39.0,43.0,55.0,58.0,60.0,63.0]},\"selected\":{\"id\":\"1648\"},\"selection_policy\":{\"id\":\"1649\"}},\"id\":\"1636\",\"type\":\"ColumnDataSource\"},{\"attributes\":{\"data_source\":{\"id\":\"1631\"},\"glyph\":{\"id\":\"1632\"},\"hover_glyph\":null,\"muted_glyph\":null,\"nonselection_glyph\":{\"id\":\"1633\"},\"selection_glyph\":null,\"view\":{\"id\":\"1635\"}},\"id\":\"1634\",\"type\":\"GlyphRenderer\"},{\"attributes\":{\"background_fill_color\":null,\"below\":[{\"id\":\"1607\"}],\"border_fill_color\":null,\"center\":[{\"id\":\"1610\"},{\"id\":\"1614\"}],\"left\":[{\"id\":\"1611\"}],\"outline_line_color\":null,\"plot_height\":400,\"plot_width\":400,\"renderers\":[{\"id\":\"1634\"},{\"id\":\"1639\"}],\"title\":{\"id\":\"1597\"},\"toolbar\":{\"id\":\"1622\"},\"toolbar_location\":null,\"x_range\":{\"id\":\"1599\"},\"x_scale\":{\"id\":\"1603\"},\"y_range\":{\"id\":\"1601\"},\"y_scale\":{\"id\":\"1605\"}},\"id\":\"1596\",\"subtype\":\"Figure\",\"type\":\"Plot\"},{\"attributes\":{\"data_source\":{\"id\":\"1636\"},\"glyph\":{\"id\":\"1637\"},\"hover_glyph\":null,\"muted_glyph\":null,\"nonselection_glyph\":{\"id\":\"1638\"},\"selection_glyph\":null,\"view\":{\"id\":\"1640\"}},\"id\":\"1639\",\"type\":\"GlyphRenderer\"},{\"attributes\":{\"fill_alpha\":{\"value\":0.1},\"fill_color\":{\"value\":\"steelblue\"},\"line_alpha\":{\"value\":0.1},\"line_color\":{\"value\":\"steelblue\"},\"size\":{\"units\":\"screen\",\"value\":8},\"x\":{\"field\":\"x\"},\"y\":{\"field\":\"y\"}},\"id\":\"1638\",\"type\":\"Circle\"},{\"attributes\":{\"align\":\"center\",\"text\":\"1073.381\",\"width\":400},\"id\":\"1630\",\"type\":\"Div\"},{\"attributes\":{\"fill_color\":{\"value\":\"steelblue\"},\"line_color\":{\"value\":\"steelblue\"},\"size\":{\"units\":\"screen\",\"value\":8},\"x\":{\"field\":\"x\"},\"y\":{\"field\":\"y\"}},\"id\":\"1637\",\"type\":\"Circle\"},{\"attributes\":{\"formatter\":{\"id\":\"1643\"},\"ticker\":{\"id\":\"1608\"},\"visible\":false},\"id\":\"1607\",\"type\":\"LinearAxis\"},{\"attributes\":{},\"id\":\"1648\",\"type\":\"Selection\"},{\"attributes\":{\"end\":67.2,\"start\":-3.2},\"id\":\"1601\",\"type\":\"Range1d\"},{\"attributes\":{\"line_alpha\":0.1,\"line_width\":4,\"x\":{\"field\":\"x\"},\"y\":{\"field\":\"y\"}},\"id\":\"1633\",\"type\":\"Line\"},{\"attributes\":{\"source\":{\"id\":\"1636\"}},\"id\":\"1640\",\"type\":\"CDSView\"},{\"attributes\":{},\"id\":\"1608\",\"type\":\"BasicTicker\"},{\"attributes\":{\"axis\":{\"id\":\"1611\"},\"dimension\":1,\"grid_line_color\":null,\"ticker\":null},\"id\":\"1614\",\"type\":\"Grid\"},{\"attributes\":{},\"id\":\"1643\",\"type\":\"BasicTickFormatter\"},{\"attributes\":{},\"id\":\"1618\",\"type\":\"SaveTool\"},{\"attributes\":{},\"id\":\"1619\",\"type\":\"ResetTool\"},{\"attributes\":{\"overlay\":{\"id\":\"1621\"}},\"id\":\"1617\",\"type\":\"BoxZoomTool\"},{\"attributes\":{},\"id\":\"1620\",\"type\":\"HelpTool\"},{\"attributes\":{},\"id\":\"1605\",\"type\":\"LinearScale\"},{\"attributes\":{\"bottom_units\":\"screen\",\"fill_alpha\":0.5,\"fill_color\":\"lightgrey\",\"left_units\":\"screen\",\"level\":\"overlay\",\"line_alpha\":1.0,\"line_color\":\"black\",\"line_dash\":[4,4],\"line_width\":2,\"right_units\":\"screen\",\"top_units\":\"screen\"},\"id\":\"1621\",\"type\":\"BoxAnnotation\"},{\"attributes\":{\"end\":138.6,\"start\":-6.6000000000000005},\"id\":\"1599\",\"type\":\"Range1d\"},{\"attributes\":{\"axis\":{\"id\":\"1607\"},\"grid_line_color\":null,\"ticker\":null},\"id\":\"1610\",\"type\":\"Grid\"},{\"attributes\":{},\"id\":\"1649\",\"type\":\"UnionRenderers\"},{\"attributes\":{\"text\":\"\"},\"id\":\"1597\",\"type\":\"Title\"},{\"attributes\":{},\"id\":\"1647\",\"type\":\"UnionRenderers\"},{\"attributes\":{\"source\":{\"id\":\"1631\"}},\"id\":\"1635\",\"type\":\"CDSView\"},{\"attributes\":{},\"id\":\"1603\",\"type\":\"LinearScale\"}],\"root_ids\":[\"1652\"]},\"title\":\"Bokeh Application\",\"version\":\"2.1.0\"}};\n",
       "  var render_items = [{\"docid\":\"dd2a6cc4-7422-4cf9-a7b5-bcadc6823578\",\"root_ids\":[\"1652\"],\"roots\":{\"1652\":\"38cd10f0-d63f-44d5-967a-6c1b0435f6d2\"}}];\n",
       "  root.Bokeh.embed.embed_items_notebook(docs_json, render_items);\n",
       "\n",
       "  }\n",
       "  if (root.Bokeh !== undefined) {\n",
       "    embed_document(root);\n",
       "  } else {\n",
       "    var attempts = 0;\n",
       "    var timer = setInterval(function(root) {\n",
       "      if (root.Bokeh !== undefined) {\n",
       "        clearInterval(timer);\n",
       "        embed_document(root);\n",
       "      } else {\n",
       "        attempts++;\n",
       "        if (attempts > 100) {\n",
       "          clearInterval(timer);\n",
       "          console.log(\"Bokeh: ERROR: Unable to run BokehJS code because BokehJS library is missing\");\n",
       "        }\n",
       "      }\n",
       "    }, 10, root)\n",
       "  }\n",
       "})(window);"
      ],
      "application/vnd.bokehjs_exec.v0+json": ""
     },
     "metadata": {
      "application/vnd.bokehjs_exec.v0+json": {
       "id": "1652"
      }
     },
     "output_type": "display_data"
    }
   ],
   "source": [
    "nodes = pd.read_csv('data/xqg237.csv', index_col=0)\n",
    "G = create_G(nodes, manhattan=False)\n",
    "plot_tour(nodes, G, solve_tsp(G))"
   ]
  },
  {
   "cell_type": "code",
   "execution_count": 8,
   "metadata": {
    "scrolled": false
   },
   "outputs": [
    {
     "data": {
      "text/html": [
       "\n",
       "\n",
       "\n",
       "\n",
       "\n",
       "\n",
       "  <div class=\"bk-root\" id=\"f46adbae-0aa6-4522-a7ad-bf15d21e086b\" data-root-id=\"3027\"></div>\n"
      ]
     },
     "metadata": {},
     "output_type": "display_data"
    },
    {
     "data": {
      "application/javascript": [
       "(function(root) {\n",
       "  function embed_document(root) {\n",
       "    \n",
       "  var docs_json = {\"8f31c500-f879-40f2-a65c-3297a6882820\":{\"roots\":{\"references\":[{\"attributes\":{\"children\":[[{\"id\":\"2956\"},0,0],[{\"id\":\"2990\"},1,0]]},\"id\":\"3027\",\"type\":\"GridBox\"},{\"attributes\":{\"line_dash\":[6],\"line_width\":2,\"x\":{\"field\":\"x\"},\"y\":{\"field\":\"y\"}},\"id\":\"2997\",\"type\":\"Line\"},{\"attributes\":{},\"id\":\"2968\",\"type\":\"BasicTicker\"},{\"attributes\":{\"data\":{\"xs\":[[3.0,3.0],[3.0,1.0],[3.0,6.0],[3.0,3.0],[5.0,5.0],[8.0,6.0],[8.0,12.0],[8.0,4.0],[8.0,12.0],[8.0,6.0],[8.0,12.0],[8.0,6.0],[11.0,11.0],[12.0,12.0],[13.0,13.0],[14.0,14.0],[15.0,15.0],[15.0,19.0],[18.0,18.0],[18.0,18.0],[18.0,14.0],[18.0,18.0],[18.0,14.0],[18.0,18.0],[18.0,21.0],[13.0,17.0],[21.0,23.0],[21.0,18.0],[21.0,23.0],[21.0,23.0],[21.0,23.0],[21.0,19.0],[21.0,19.0],[21.0,24.0],[21.0,24.0],[21.0,24.0],[21.0,25.0],[21.0,23.0],[21.0,23.0],[21.0,25.0],[21.0,18.0],[21.0,25.0],[21.0,17.0],[21.0,25.0],[28.0,30.0],[28.0,32.0],[28.0,26.0],[28.0,26.0],[28.0,32.0],[28.0,26.0],[28.0,26.0],[28.0,30.0],[28.0,25.0],[31.0,27.0],[31.0,27.0],[31.0,34.0],[31.0,27.0],[31.0,29.0],[31.0,28.0],[31.0,28.0],[31.0,33.0],[35.0,35.0],[35.0,32.0],[36.0,36.0],[36.0,36.0],[36.0,33.0],[36.0,36.0],[37.0,37.0],[37.0,42.0],[37.0,40.0],[37.0,37.0],[37.0,34.0],[37.0,39.0],[37.0,33.0],[38.0,36.0],[38.0,38.0],[41.0,38.0],[41.0,43.0],[41.0,39.0],[41.0,41.0],[43.0,45.0],[44.0,47.0],[44.0,47.0],[44.0,42.0],[44.0,47.0],[44.0,46.0],[51.0,51.0],[51.0,53.0],[51.0,51.0],[54.0,51.0],[54.0,58.0],[59.0,59.0],[60.0,62.0],[60.0,60.0],[60.0,60.0],[64.0,62.0],[64.0,68.0],[66.0,62.0],[67.0,67.0],[74.0,70.0],[74.0,72.0],[74.0,70.0],[74.0,71.0],[74.0,78.0],[77.0,74.0],[77.0,82.0],[77.0,80.0],[77.0,81.0],[77.0,79.0],[77.0,73.0],[77.0,74.0],[77.0,73.0],[80.0,76.0],[81.0,81.0],[81.0,78.0],[81.0,79.0],[81.0,78.0],[82.0,82.0],[82.0,85.0],[82.0,80.0],[83.0,85.0],[83.0,83.0],[83.0,81.0],[84.0,84.0],[87.0,87.0],[87.0,90.0],[87.0,89.0],[87.0,87.0],[87.0,91.0],[87.0,87.0],[110.0,110.0],[3.0,3.0],[0.0,0.0]],\"ys\":[[16.0,13.0],[29.0,29.0],[30.0,30.0],[42.0,39.0],[3.0,1.0],[16.0,16.0],[22.0,22.0],[28.0,28.0],[34.0,34.0],[40.0,40.0],[46.0,46.0],[11.0,11.0],[3.0,7.0],[13.0,10.0],[13.0,15.0],[13.0,16.0],[13.0,16.0],[8.0,8.0],[16.0,13.0],[22.0,24.0],[28.0,28.0],[34.0,31.0],[40.0,40.0],[48.0,50.0],[11.0,11.0],[20.0,20.0],[16.0,16.0],[18.0,18.0],[20.0,20.0],[22.0,22.0],[24.0,24.0],[26.0,26.0],[28.0,28.0],[30.0,30.0],[32.0,32.0],[34.0,34.0],[36.0,36.0],[38.0,38.0],[40.0,40.0],[42.0,42.0],[44.0,44.0],[45.0,45.0],[47.0,47.0],[48.0,48.0],[14.0,14.0],[18.0,18.0],[25.0,25.0],[26.0,26.0],[27.0,27.0],[29.0,29.0],[31.0,31.0],[32.0,32.0],[12.0,12.0],[19.0,19.0],[23.0,23.0],[31.0,31.0],[33.0,33.0],[37.0,37.0],[43.0,43.0],[46.0,46.0],[50.0,50.0],[29.0,27.0],[34.0,34.0],[18.0,16.0],[29.0,31.0],[32.0,32.0],[34.0,37.0],[18.0,13.0],[29.0,29.0],[32.0,32.0],[34.0,38.0],[41.0,41.0],[44.0,44.0],[8.0,8.0],[20.0,20.0],[34.0,36.0],[19.0,19.0],[23.0,23.0],[33.0,33.0],[37.0,41.0],[25.0,25.0],[26.0,26.0],[35.0,35.0],[37.0,37.0],[38.0,38.0],[39.0,39.0],[25.0,27.0],[30.0,30.0],[9.0,13.0],[48.0,48.0],[50.0,50.0],[28.0,24.0],[15.0,15.0],[28.0,30.0],[47.0,43.0],[48.0,48.0],[50.0,50.0],[9.0,9.0],[25.0,28.0],[14.0,14.0],[16.0,16.0],[19.0,19.0],[48.0,48.0],[50.0,50.0],[15.0,15.0],[19.0,19.0],[23.0,23.0],[27.0,27.0],[32.0,32.0],[38.0,38.0],[42.0,42.0],[9.0,9.0],[24.0,24.0],[13.0,9.0],[35.0,35.0],[38.0,38.0],[42.0,42.0],[13.0,17.0],[36.0,36.0],[40.0,40.0],[13.0,13.0],[44.0,40.0],[8.0,8.0],[20.0,22.0],[23.0,25.0],[27.0,27.0],[32.0,32.0],[37.0,40.0],[41.0,41.0],[9.0,13.0],[30.0,32.0],[3.0,3.0],[0.0,0.0]]},\"selected\":{\"id\":\"3017\"},\"selection_policy\":{\"id\":\"3018\"}},\"id\":\"2991\",\"type\":\"ColumnDataSource\"},{\"attributes\":{\"source\":{\"id\":\"2996\"}},\"id\":\"3000\",\"type\":\"CDSView\"},{\"attributes\":{},\"id\":\"3017\",\"type\":\"Selection\"},{\"attributes\":{\"formatter\":{\"id\":\"3016\"},\"ticker\":{\"id\":\"2972\"},\"visible\":false},\"id\":\"2971\",\"type\":\"LinearAxis\"},{\"attributes\":{\"line_alpha\":0.1,\"line_dash\":[6],\"line_width\":2,\"x\":{\"field\":\"x\"},\"y\":{\"field\":\"y\"}},\"id\":\"2998\",\"type\":\"Line\"},{\"attributes\":{\"align\":\"center\",\"text\":\"0\",\"width\":800},\"id\":\"2990\",\"type\":\"Div\"},{\"attributes\":{\"data_source\":{\"id\":\"2996\"},\"glyph\":{\"id\":\"2997\"},\"hover_glyph\":null,\"muted_glyph\":null,\"nonselection_glyph\":{\"id\":\"2998\"},\"selection_glyph\":null,\"view\":{\"id\":\"3000\"}},\"id\":\"2999\",\"type\":\"GlyphRenderer\"},{\"attributes\":{},\"id\":\"3018\",\"type\":\"UnionRenderers\"},{\"attributes\":{\"axis\":{\"id\":\"2967\"},\"grid_line_color\":null,\"ticker\":null},\"id\":\"2970\",\"type\":\"Grid\"},{\"attributes\":{\"axis\":{\"id\":\"2971\"},\"dimension\":1,\"grid_line_color\":null,\"ticker\":null},\"id\":\"2974\",\"type\":\"Grid\"},{\"attributes\":{},\"id\":\"2975\",\"type\":\"PanTool\"},{\"attributes\":{},\"id\":\"3019\",\"type\":\"Selection\"},{\"attributes\":{},\"id\":\"2976\",\"type\":\"WheelZoomTool\"},{\"attributes\":{},\"id\":\"3020\",\"type\":\"UnionRenderers\"},{\"attributes\":{\"data\":{\"x\":[3.0,3.0,3.0,3.0,5.0,8.0,8.0,8.0,8.0,8.0,8.0,8.0,11.0,12.0,13.0,14.0,15.0,15.0,18.0,18.0,18.0,18.0,18.0,18.0,18.0,13.0,21.0,21.0,21.0,21.0,21.0,21.0,21.0,21.0,21.0,21.0,21.0,21.0,21.0,21.0,21.0,21.0,21.0,21.0,28.0,28.0,28.0,28.0,28.0,28.0,28.0,28.0,28.0,31.0,31.0,31.0,31.0,31.0,31.0,31.0,31.0,35.0,35.0,36.0,36.0,36.0,36.0,37.0,37.0,37.0,37.0,37.0,37.0,37.0,38.0,38.0,41.0,41.0,41.0,41.0,43.0,44.0,44.0,44.0,44.0,44.0,51.0,51.0,51.0,54.0,54.0,59.0,60.0,60.0,60.0,64.0,64.0,66.0,67.0,74.0,74.0,74.0,74.0,74.0,77.0,77.0,77.0,77.0,77.0,77.0,77.0,77.0,80.0,81.0,81.0,81.0,81.0,82.0,82.0,82.0,83.0,83.0,83.0,84.0,87.0,87.0,87.0,87.0,87.0,87.0,110.0,3.0,0.0],\"y\":[16.0,29.0,30.0,42.0,3.0,16.0,22.0,28.0,34.0,40.0,46.0,11.0,3.0,13.0,13.0,13.0,13.0,8.0,16.0,22.0,28.0,34.0,40.0,48.0,11.0,20.0,16.0,18.0,20.0,22.0,24.0,26.0,28.0,30.0,32.0,34.0,36.0,38.0,40.0,42.0,44.0,45.0,47.0,48.0,14.0,18.0,25.0,26.0,27.0,29.0,31.0,32.0,12.0,19.0,23.0,31.0,33.0,37.0,43.0,46.0,50.0,29.0,34.0,18.0,29.0,32.0,34.0,18.0,29.0,32.0,34.0,41.0,44.0,8.0,20.0,34.0,19.0,23.0,33.0,37.0,25.0,26.0,35.0,37.0,38.0,39.0,25.0,30.0,9.0,48.0,50.0,28.0,15.0,28.0,47.0,48.0,50.0,9.0,25.0,14.0,16.0,19.0,48.0,50.0,15.0,19.0,23.0,27.0,32.0,38.0,42.0,9.0,24.0,13.0,35.0,38.0,42.0,13.0,36.0,40.0,13.0,44.0,8.0,20.0,23.0,27.0,32.0,37.0,41.0,9.0,30.0,3.0,0.0]},\"selected\":{\"id\":\"3021\"},\"selection_policy\":{\"id\":\"3022\"}},\"id\":\"3001\",\"type\":\"ColumnDataSource\"},{\"attributes\":{\"overlay\":{\"id\":\"2981\"}},\"id\":\"2977\",\"type\":\"BoxZoomTool\"},{\"attributes\":{\"text\":\"\"},\"id\":\"2957\",\"type\":\"Title\"},{\"attributes\":{},\"id\":\"3021\",\"type\":\"Selection\"},{\"attributes\":{\"fill_color\":{\"value\":\"steelblue\"},\"line_color\":{\"value\":\"steelblue\"},\"size\":{\"units\":\"screen\",\"value\":5},\"x\":{\"field\":\"x\"},\"y\":{\"field\":\"y\"}},\"id\":\"3002\",\"type\":\"Circle\"},{\"attributes\":{},\"id\":\"2978\",\"type\":\"SaveTool\"},{\"attributes\":{\"fill_alpha\":{\"value\":0.1},\"fill_color\":{\"value\":\"steelblue\"},\"line_alpha\":{\"value\":0.1},\"line_color\":{\"value\":\"steelblue\"},\"size\":{\"units\":\"screen\",\"value\":5},\"x\":{\"field\":\"x\"},\"y\":{\"field\":\"y\"}},\"id\":\"3003\",\"type\":\"Circle\"},{\"attributes\":{},\"id\":\"3022\",\"type\":\"UnionRenderers\"},{\"attributes\":{\"data_source\":{\"id\":\"3001\"},\"glyph\":{\"id\":\"3002\"},\"hover_glyph\":null,\"muted_glyph\":null,\"nonselection_glyph\":{\"id\":\"3003\"},\"selection_glyph\":null,\"view\":{\"id\":\"3005\"}},\"id\":\"3004\",\"type\":\"GlyphRenderer\"},{\"attributes\":{\"end\":52.5,\"start\":-2.5},\"id\":\"2961\",\"type\":\"Range1d\"},{\"attributes\":{},\"id\":\"2979\",\"type\":\"ResetTool\"},{\"attributes\":{\"source\":{\"id\":\"3001\"}},\"id\":\"3005\",\"type\":\"CDSView\"},{\"attributes\":{},\"id\":\"3023\",\"type\":\"Selection\"},{\"attributes\":{},\"id\":\"2980\",\"type\":\"HelpTool\"},{\"attributes\":{\"active_drag\":\"auto\",\"active_inspect\":\"auto\",\"active_multi\":null,\"active_scroll\":\"auto\",\"active_tap\":\"auto\",\"logo\":null,\"tools\":[{\"id\":\"2975\"},{\"id\":\"2976\"},{\"id\":\"2977\"},{\"id\":\"2978\"},{\"id\":\"2979\"},{\"id\":\"2980\"}]},\"id\":\"2982\",\"type\":\"Toolbar\"},{\"attributes\":{\"data\":{\"x\":[3,1,6,3,5,6,12,4,12,6,12,6,11,12,13,14,15,19,18,18,14,18,14,18,21,17,23,18,23,23,23,19,19,24,24,24,25,23,23,25,18,25,17,25,30,32,26,26,32,26,26,30,25,27,27,34,27,29,28,28,33,35,32,36,36,33,36,37,42,40,37,34,39,33,36,38,38,43,39,41,45,47,47,42,47,46,51,53,51,51,58,59,62,60,60,62,68,62,67,70,72,70,71,78,74,82,80,81,79,73,74,73,76,81,78,79,78,82,85,80,85,83,81,84,87,90,89,87,91,87,110,3,0],\"y\":[13,29,30,39,1,16,22,28,34,40,46,11,7,10,15,16,16,8,13,24,28,31,40,50,11,20,16,18,20,22,24,26,28,30,32,34,36,38,40,42,44,45,47,48,14,18,25,26,27,29,31,32,12,19,23,31,33,37,43,46,50,27,34,16,31,32,37,13,29,32,38,41,44,8,20,36,19,23,33,41,25,26,35,37,38,39,27,30,13,48,50,24,15,30,43,48,50,9,28,14,16,19,48,50,15,19,23,27,32,38,42,9,24,9,35,38,42,17,36,40,13,40,8,22,25,27,32,40,41,13,32,3,0]},\"selected\":{\"id\":\"3023\"},\"selection_policy\":{\"id\":\"3024\"}},\"id\":\"3006\",\"type\":\"ColumnDataSource\"},{\"attributes\":{\"fill_color\":{\"value\":\"#DC0000\"},\"line_color\":{\"value\":\"#DC0000\"},\"size\":{\"units\":\"screen\",\"value\":5},\"x\":{\"field\":\"x\"},\"y\":{\"field\":\"y\"}},\"id\":\"3007\",\"type\":\"Circle\"},{\"attributes\":{\"fill_alpha\":{\"value\":0.1},\"fill_color\":{\"value\":\"#DC0000\"},\"line_alpha\":{\"value\":0.1},\"line_color\":{\"value\":\"#DC0000\"},\"size\":{\"units\":\"screen\",\"value\":5},\"x\":{\"field\":\"x\"},\"y\":{\"field\":\"y\"}},\"id\":\"3008\",\"type\":\"Circle\"},{\"attributes\":{\"data_source\":{\"id\":\"3006\"},\"glyph\":{\"id\":\"3007\"},\"hover_glyph\":null,\"muted_glyph\":null,\"nonselection_glyph\":{\"id\":\"3008\"},\"selection_glyph\":null,\"view\":{\"id\":\"3010\"}},\"id\":\"3009\",\"type\":\"GlyphRenderer\"},{\"attributes\":{},\"id\":\"3024\",\"type\":\"UnionRenderers\"},{\"attributes\":{\"source\":{\"id\":\"3006\"}},\"id\":\"3010\",\"type\":\"CDSView\"},{\"attributes\":{},\"id\":\"2972\",\"type\":\"BasicTicker\"},{\"attributes\":{\"bottom_units\":\"screen\",\"fill_alpha\":0.5,\"fill_color\":\"lightgrey\",\"left_units\":\"screen\",\"level\":\"overlay\",\"line_alpha\":1.0,\"line_color\":\"black\",\"line_dash\":[4,4],\"line_width\":2,\"right_units\":\"screen\",\"top_units\":\"screen\"},\"id\":\"2981\",\"type\":\"BoxAnnotation\"},{\"attributes\":{\"line_width\":{\"value\":2},\"xs\":{\"field\":\"xs\"},\"ys\":{\"field\":\"ys\"}},\"id\":\"2992\",\"type\":\"MultiLine\"},{\"attributes\":{\"background_fill_color\":null,\"below\":[{\"id\":\"2967\"}],\"border_fill_color\":null,\"center\":[{\"id\":\"2970\"},{\"id\":\"2974\"}],\"left\":[{\"id\":\"2971\"}],\"outline_line_color\":null,\"plot_height\":400,\"plot_width\":800,\"renderers\":[{\"id\":\"2994\"},{\"id\":\"2999\"},{\"id\":\"3004\"},{\"id\":\"3009\"}],\"title\":{\"id\":\"2957\"},\"toolbar\":{\"id\":\"2982\"},\"toolbar_location\":null,\"x_range\":{\"id\":\"2959\"},\"x_scale\":{\"id\":\"2963\"},\"y_range\":{\"id\":\"2961\"},\"y_scale\":{\"id\":\"2965\"}},\"id\":\"2956\",\"subtype\":\"Figure\",\"type\":\"Plot\"},{\"attributes\":{},\"id\":\"2965\",\"type\":\"LinearScale\"},{\"attributes\":{\"line_alpha\":{\"value\":0.1},\"line_width\":{\"value\":2},\"xs\":{\"field\":\"xs\"},\"ys\":{\"field\":\"ys\"}},\"id\":\"2993\",\"type\":\"MultiLine\"},{\"attributes\":{\"source\":{\"id\":\"2991\"}},\"id\":\"2995\",\"type\":\"CDSView\"},{\"attributes\":{\"data_source\":{\"id\":\"2991\"},\"glyph\":{\"id\":\"2992\"},\"hover_glyph\":null,\"muted_glyph\":null,\"nonselection_glyph\":{\"id\":\"2993\"},\"selection_glyph\":null,\"view\":{\"id\":\"2995\"}},\"id\":\"2994\",\"type\":\"GlyphRenderer\"},{\"attributes\":{\"end\":115.5,\"start\":-5.5},\"id\":\"2959\",\"type\":\"Range1d\"},{\"attributes\":{},\"id\":\"3016\",\"type\":\"BasicTickFormatter\"},{\"attributes\":{},\"id\":\"3014\",\"type\":\"BasicTickFormatter\"},{\"attributes\":{\"formatter\":{\"id\":\"3014\"},\"ticker\":{\"id\":\"2968\"},\"visible\":false},\"id\":\"2967\",\"type\":\"LinearAxis\"},{\"attributes\":{},\"id\":\"2963\",\"type\":\"LinearScale\"},{\"attributes\":{\"data\":{\"x\":[],\"y\":[]},\"selected\":{\"id\":\"3019\"},\"selection_policy\":{\"id\":\"3020\"}},\"id\":\"2996\",\"type\":\"ColumnDataSource\"}],\"root_ids\":[\"3027\"]},\"title\":\"Bokeh Application\",\"version\":\"2.1.0\"}};\n",
       "  var render_items = [{\"docid\":\"8f31c500-f879-40f2-a65c-3297a6882820\",\"root_ids\":[\"3027\"],\"roots\":{\"3027\":\"f46adbae-0aa6-4522-a7ad-bf15d21e086b\"}}];\n",
       "  root.Bokeh.embed.embed_items_notebook(docs_json, render_items);\n",
       "\n",
       "  }\n",
       "  if (root.Bokeh !== undefined) {\n",
       "    embed_document(root);\n",
       "  } else {\n",
       "    var attempts = 0;\n",
       "    var timer = setInterval(function(root) {\n",
       "      if (root.Bokeh !== undefined) {\n",
       "        clearInterval(timer);\n",
       "        embed_document(root);\n",
       "      } else {\n",
       "        attempts++;\n",
       "        if (attempts > 100) {\n",
       "          clearInterval(timer);\n",
       "          console.log(\"Bokeh: ERROR: Unable to run BokehJS code because BokehJS library is missing\");\n",
       "        }\n",
       "      }\n",
       "    }, 10, root)\n",
       "  }\n",
       "})(window);"
      ],
      "application/vnd.bokehjs_exec.v0+json": ""
     },
     "metadata": {
      "application/vnd.bokehjs_exec.v0+json": {
       "id": "3027"
      }
     },
     "output_type": "display_data"
    },
    {
     "data": {
      "text/html": [
       "\n",
       "\n",
       "\n",
       "\n",
       "\n",
       "\n",
       "  <div class=\"bk-root\" id=\"18566639-22cb-47e7-8a9f-b8275c4b66be\" data-root-id=\"3315\"></div>\n"
      ]
     },
     "metadata": {},
     "output_type": "display_data"
    },
    {
     "data": {
      "application/javascript": [
       "(function(root) {\n",
       "  function embed_document(root) {\n",
       "    \n",
       "  var docs_json = {\"cc6ba59e-c4c9-4a41-8f25-fd31748d95f9\":{\"roots\":{\"references\":[{\"attributes\":{\"children\":[[{\"id\":\"3244\"},0,0],[{\"id\":\"3278\"},1,0]]},\"id\":\"3315\",\"type\":\"GridBox\"},{\"attributes\":{\"axis\":{\"id\":\"3259\"},\"dimension\":1,\"grid_line_color\":null,\"ticker\":null},\"id\":\"3262\",\"type\":\"Grid\"},{\"attributes\":{},\"id\":\"3309\",\"type\":\"Selection\"},{\"attributes\":{\"data\":{\"x\":[3.0,3.0,3.0,3.0,5.0,8.0,8.0,8.0,8.0,8.0,8.0,8.0,11.0,12.0,13.0,14.0,15.0,15.0,18.0,18.0,18.0,18.0,18.0,18.0,18.0,13.0,21.0,21.0,21.0,21.0,21.0,21.0,21.0,21.0,21.0,21.0,21.0,21.0,21.0,21.0,21.0,21.0,21.0,21.0,28.0,28.0,28.0,28.0,28.0,28.0,28.0,28.0,28.0,31.0,31.0,31.0,31.0,31.0,31.0,31.0,31.0,35.0,35.0,36.0,36.0,36.0,36.0,37.0,37.0,37.0,37.0,37.0,37.0,37.0,38.0,38.0,41.0,41.0,41.0,41.0,43.0,44.0,44.0,44.0,44.0,44.0,51.0,51.0,51.0,54.0,54.0,59.0,60.0,60.0,60.0,64.0,64.0,66.0,67.0,74.0,74.0,74.0,74.0,74.0,77.0,77.0,77.0,77.0,77.0,77.0,77.0,77.0,80.0,81.0,81.0,81.0,81.0,82.0,82.0,82.0,83.0,83.0,83.0,84.0,87.0,87.0,87.0,87.0,87.0,87.0,110.0,3.0,0.0],\"y\":[16.0,29.0,30.0,42.0,3.0,16.0,22.0,28.0,34.0,40.0,46.0,11.0,3.0,13.0,13.0,13.0,13.0,8.0,16.0,22.0,28.0,34.0,40.0,48.0,11.0,20.0,16.0,18.0,20.0,22.0,24.0,26.0,28.0,30.0,32.0,34.0,36.0,38.0,40.0,42.0,44.0,45.0,47.0,48.0,14.0,18.0,25.0,26.0,27.0,29.0,31.0,32.0,12.0,19.0,23.0,31.0,33.0,37.0,43.0,46.0,50.0,29.0,34.0,18.0,29.0,32.0,34.0,18.0,29.0,32.0,34.0,41.0,44.0,8.0,20.0,34.0,19.0,23.0,33.0,37.0,25.0,26.0,35.0,37.0,38.0,39.0,25.0,30.0,9.0,48.0,50.0,28.0,15.0,28.0,47.0,48.0,50.0,9.0,25.0,14.0,16.0,19.0,48.0,50.0,15.0,19.0,23.0,27.0,32.0,38.0,42.0,9.0,24.0,13.0,35.0,38.0,42.0,13.0,36.0,40.0,13.0,44.0,8.0,20.0,23.0,27.0,32.0,37.0,41.0,9.0,30.0,3.0,0.0]},\"selected\":{\"id\":\"3309\"},\"selection_policy\":{\"id\":\"3310\"}},\"id\":\"3289\",\"type\":\"ColumnDataSource\"},{\"attributes\":{},\"id\":\"3260\",\"type\":\"BasicTicker\"},{\"attributes\":{},\"id\":\"3310\",\"type\":\"UnionRenderers\"},{\"attributes\":{\"fill_color\":{\"value\":\"steelblue\"},\"line_color\":{\"value\":\"steelblue\"},\"size\":{\"units\":\"screen\",\"value\":5},\"x\":{\"field\":\"x\"},\"y\":{\"field\":\"y\"}},\"id\":\"3290\",\"type\":\"Circle\"},{\"attributes\":{\"align\":\"center\",\"text\":\"819.245\",\"width\":800},\"id\":\"3278\",\"type\":\"Div\"},{\"attributes\":{\"fill_alpha\":{\"value\":0.1},\"fill_color\":{\"value\":\"steelblue\"},\"line_alpha\":{\"value\":0.1},\"line_color\":{\"value\":\"steelblue\"},\"size\":{\"units\":\"screen\",\"value\":5},\"x\":{\"field\":\"x\"},\"y\":{\"field\":\"y\"}},\"id\":\"3291\",\"type\":\"Circle\"},{\"attributes\":{},\"id\":\"3311\",\"type\":\"Selection\"},{\"attributes\":{\"data_source\":{\"id\":\"3289\"},\"glyph\":{\"id\":\"3290\"},\"hover_glyph\":null,\"muted_glyph\":null,\"nonselection_glyph\":{\"id\":\"3291\"},\"selection_glyph\":null,\"view\":{\"id\":\"3293\"}},\"id\":\"3292\",\"type\":\"GlyphRenderer\"},{\"attributes\":{\"data\":{\"xs\":[[3.0,3.0],[3.0,1.0],[3.0,6.0],[3.0,3.0],[5.0,5.0],[8.0,6.0],[8.0,12.0],[8.0,4.0],[8.0,12.0],[8.0,6.0],[8.0,12.0],[8.0,6.0],[11.0,11.0],[12.0,12.0],[13.0,13.0],[14.0,14.0],[15.0,15.0],[15.0,19.0],[18.0,18.0],[18.0,18.0],[18.0,14.0],[18.0,18.0],[18.0,14.0],[18.0,18.0],[18.0,21.0],[13.0,17.0],[21.0,23.0],[21.0,18.0],[21.0,23.0],[21.0,23.0],[21.0,23.0],[21.0,19.0],[21.0,19.0],[21.0,24.0],[21.0,24.0],[21.0,24.0],[21.0,25.0],[21.0,23.0],[21.0,23.0],[21.0,25.0],[21.0,18.0],[21.0,25.0],[21.0,17.0],[21.0,25.0],[28.0,30.0],[28.0,32.0],[28.0,26.0],[28.0,26.0],[28.0,32.0],[28.0,26.0],[28.0,26.0],[28.0,30.0],[28.0,25.0],[31.0,27.0],[31.0,27.0],[31.0,34.0],[31.0,27.0],[31.0,29.0],[31.0,28.0],[31.0,28.0],[31.0,33.0],[35.0,35.0],[35.0,32.0],[36.0,36.0],[36.0,36.0],[36.0,33.0],[36.0,36.0],[37.0,37.0],[37.0,42.0],[37.0,40.0],[37.0,37.0],[37.0,34.0],[37.0,39.0],[37.0,33.0],[38.0,36.0],[38.0,38.0],[41.0,38.0],[41.0,43.0],[41.0,39.0],[41.0,41.0],[43.0,45.0],[44.0,47.0],[44.0,47.0],[44.0,42.0],[44.0,47.0],[44.0,46.0],[51.0,51.0],[51.0,53.0],[51.0,51.0],[54.0,51.0],[54.0,58.0],[59.0,59.0],[60.0,62.0],[60.0,60.0],[60.0,60.0],[64.0,62.0],[64.0,68.0],[66.0,62.0],[67.0,67.0],[74.0,70.0],[74.0,72.0],[74.0,70.0],[74.0,71.0],[74.0,78.0],[77.0,74.0],[77.0,82.0],[77.0,80.0],[77.0,81.0],[77.0,79.0],[77.0,73.0],[77.0,74.0],[77.0,73.0],[80.0,76.0],[81.0,81.0],[81.0,78.0],[81.0,79.0],[81.0,78.0],[82.0,82.0],[82.0,85.0],[82.0,80.0],[83.0,85.0],[83.0,83.0],[83.0,81.0],[84.0,84.0],[87.0,87.0],[87.0,90.0],[87.0,89.0],[87.0,87.0],[87.0,91.0],[87.0,87.0],[110.0,110.0],[3.0,3.0],[0.0,0.0]],\"ys\":[[16.0,13.0],[29.0,29.0],[30.0,30.0],[42.0,39.0],[3.0,1.0],[16.0,16.0],[22.0,22.0],[28.0,28.0],[34.0,34.0],[40.0,40.0],[46.0,46.0],[11.0,11.0],[3.0,7.0],[13.0,10.0],[13.0,15.0],[13.0,16.0],[13.0,16.0],[8.0,8.0],[16.0,13.0],[22.0,24.0],[28.0,28.0],[34.0,31.0],[40.0,40.0],[48.0,50.0],[11.0,11.0],[20.0,20.0],[16.0,16.0],[18.0,18.0],[20.0,20.0],[22.0,22.0],[24.0,24.0],[26.0,26.0],[28.0,28.0],[30.0,30.0],[32.0,32.0],[34.0,34.0],[36.0,36.0],[38.0,38.0],[40.0,40.0],[42.0,42.0],[44.0,44.0],[45.0,45.0],[47.0,47.0],[48.0,48.0],[14.0,14.0],[18.0,18.0],[25.0,25.0],[26.0,26.0],[27.0,27.0],[29.0,29.0],[31.0,31.0],[32.0,32.0],[12.0,12.0],[19.0,19.0],[23.0,23.0],[31.0,31.0],[33.0,33.0],[37.0,37.0],[43.0,43.0],[46.0,46.0],[50.0,50.0],[29.0,27.0],[34.0,34.0],[18.0,16.0],[29.0,31.0],[32.0,32.0],[34.0,37.0],[18.0,13.0],[29.0,29.0],[32.0,32.0],[34.0,38.0],[41.0,41.0],[44.0,44.0],[8.0,8.0],[20.0,20.0],[34.0,36.0],[19.0,19.0],[23.0,23.0],[33.0,33.0],[37.0,41.0],[25.0,25.0],[26.0,26.0],[35.0,35.0],[37.0,37.0],[38.0,38.0],[39.0,39.0],[25.0,27.0],[30.0,30.0],[9.0,13.0],[48.0,48.0],[50.0,50.0],[28.0,24.0],[15.0,15.0],[28.0,30.0],[47.0,43.0],[48.0,48.0],[50.0,50.0],[9.0,9.0],[25.0,28.0],[14.0,14.0],[16.0,16.0],[19.0,19.0],[48.0,48.0],[50.0,50.0],[15.0,15.0],[19.0,19.0],[23.0,23.0],[27.0,27.0],[32.0,32.0],[38.0,38.0],[42.0,42.0],[9.0,9.0],[24.0,24.0],[13.0,9.0],[35.0,35.0],[38.0,38.0],[42.0,42.0],[13.0,17.0],[36.0,36.0],[40.0,40.0],[13.0,13.0],[44.0,40.0],[8.0,8.0],[20.0,22.0],[23.0,25.0],[27.0,27.0],[32.0,32.0],[37.0,40.0],[41.0,41.0],[9.0,13.0],[30.0,32.0],[3.0,3.0],[0.0,0.0]]},\"selected\":{\"id\":\"3305\"},\"selection_policy\":{\"id\":\"3306\"}},\"id\":\"3279\",\"type\":\"ColumnDataSource\"},{\"attributes\":{\"source\":{\"id\":\"3289\"}},\"id\":\"3293\",\"type\":\"CDSView\"},{\"attributes\":{},\"id\":\"3312\",\"type\":\"UnionRenderers\"},{\"attributes\":{\"data_source\":{\"id\":\"3284\"},\"glyph\":{\"id\":\"3285\"},\"hover_glyph\":null,\"muted_glyph\":null,\"nonselection_glyph\":{\"id\":\"3286\"},\"selection_glyph\":null,\"view\":{\"id\":\"3288\"}},\"id\":\"3287\",\"type\":\"GlyphRenderer\"},{\"attributes\":{},\"id\":\"3263\",\"type\":\"PanTool\"},{\"attributes\":{\"source\":{\"id\":\"3284\"}},\"id\":\"3288\",\"type\":\"CDSView\"},{\"attributes\":{\"data\":{\"x\":[3,1,6,3,5,6,12,4,12,6,12,6,11,12,13,14,15,19,18,18,14,18,14,18,21,17,23,18,23,23,23,19,19,24,24,24,25,23,23,25,18,25,17,25,30,32,26,26,32,26,26,30,25,27,27,34,27,29,28,28,33,35,32,36,36,33,36,37,42,40,37,34,39,33,36,38,38,43,39,41,45,47,47,42,47,46,51,53,51,51,58,59,62,60,60,62,68,62,67,70,72,70,71,78,74,82,80,81,79,73,74,73,76,81,78,79,78,82,85,80,85,83,81,84,87,90,89,87,91,87,110,3,0],\"y\":[13,29,30,39,1,16,22,28,34,40,46,11,7,10,15,16,16,8,13,24,28,31,40,50,11,20,16,18,20,22,24,26,28,30,32,34,36,38,40,42,44,45,47,48,14,18,25,26,27,29,31,32,12,19,23,31,33,37,43,46,50,27,34,16,31,32,37,13,29,32,38,41,44,8,20,36,19,23,33,41,25,26,35,37,38,39,27,30,13,48,50,24,15,30,43,48,50,9,28,14,16,19,48,50,15,19,23,27,32,38,42,9,24,9,35,38,42,17,36,40,13,40,8,22,25,27,32,40,41,13,32,3,0]},\"selected\":{\"id\":\"3311\"},\"selection_policy\":{\"id\":\"3312\"}},\"id\":\"3294\",\"type\":\"ColumnDataSource\"},{\"attributes\":{},\"id\":\"3266\",\"type\":\"SaveTool\"},{\"attributes\":{\"fill_color\":{\"value\":\"#DC0000\"},\"line_color\":{\"value\":\"#DC0000\"},\"size\":{\"units\":\"screen\",\"value\":5},\"x\":{\"field\":\"x\"},\"y\":{\"field\":\"y\"}},\"id\":\"3295\",\"type\":\"Circle\"},{\"attributes\":{\"fill_alpha\":{\"value\":0.1},\"fill_color\":{\"value\":\"#DC0000\"},\"line_alpha\":{\"value\":0.1},\"line_color\":{\"value\":\"#DC0000\"},\"size\":{\"units\":\"screen\",\"value\":5},\"x\":{\"field\":\"x\"},\"y\":{\"field\":\"y\"}},\"id\":\"3296\",\"type\":\"Circle\"},{\"attributes\":{\"overlay\":{\"id\":\"3269\"}},\"id\":\"3265\",\"type\":\"BoxZoomTool\"},{\"attributes\":{\"data_source\":{\"id\":\"3294\"},\"glyph\":{\"id\":\"3295\"},\"hover_glyph\":null,\"muted_glyph\":null,\"nonselection_glyph\":{\"id\":\"3296\"},\"selection_glyph\":null,\"view\":{\"id\":\"3298\"}},\"id\":\"3297\",\"type\":\"GlyphRenderer\"},{\"attributes\":{\"source\":{\"id\":\"3294\"}},\"id\":\"3298\",\"type\":\"CDSView\"},{\"attributes\":{},\"id\":\"3264\",\"type\":\"WheelZoomTool\"},{\"attributes\":{\"active_drag\":\"auto\",\"active_inspect\":\"auto\",\"active_multi\":null,\"active_scroll\":\"auto\",\"active_tap\":\"auto\",\"logo\":null,\"tools\":[{\"id\":\"3263\"},{\"id\":\"3264\"},{\"id\":\"3265\"},{\"id\":\"3266\"},{\"id\":\"3267\"},{\"id\":\"3268\"}]},\"id\":\"3270\",\"type\":\"Toolbar\"},{\"attributes\":{},\"id\":\"3251\",\"type\":\"LinearScale\"},{\"attributes\":{\"line_alpha\":0.1,\"line_dash\":[6],\"line_width\":2,\"x\":{\"field\":\"x\"},\"y\":{\"field\":\"y\"}},\"id\":\"3286\",\"type\":\"Line\"},{\"attributes\":{\"line_alpha\":{\"value\":0.1},\"line_width\":{\"value\":2},\"xs\":{\"field\":\"xs\"},\"ys\":{\"field\":\"ys\"}},\"id\":\"3281\",\"type\":\"MultiLine\"},{\"attributes\":{},\"id\":\"3268\",\"type\":\"HelpTool\"},{\"attributes\":{\"end\":115.5,\"start\":-5.5},\"id\":\"3247\",\"type\":\"Range1d\"},{\"attributes\":{\"line_dash\":[6],\"line_width\":2,\"x\":{\"field\":\"x\"},\"y\":{\"field\":\"y\"}},\"id\":\"3285\",\"type\":\"Line\"},{\"attributes\":{},\"id\":\"3267\",\"type\":\"ResetTool\"},{\"attributes\":{},\"id\":\"3253\",\"type\":\"LinearScale\"},{\"attributes\":{\"background_fill_color\":null,\"below\":[{\"id\":\"3255\"}],\"border_fill_color\":null,\"center\":[{\"id\":\"3258\"},{\"id\":\"3262\"}],\"left\":[{\"id\":\"3259\"}],\"outline_line_color\":null,\"plot_height\":400,\"plot_width\":800,\"renderers\":[{\"id\":\"3282\"},{\"id\":\"3287\"},{\"id\":\"3292\"},{\"id\":\"3297\"}],\"title\":{\"id\":\"3245\"},\"toolbar\":{\"id\":\"3270\"},\"toolbar_location\":null,\"x_range\":{\"id\":\"3247\"},\"x_scale\":{\"id\":\"3251\"},\"y_range\":{\"id\":\"3249\"},\"y_scale\":{\"id\":\"3253\"}},\"id\":\"3244\",\"subtype\":\"Figure\",\"type\":\"Plot\"},{\"attributes\":{\"end\":52.5,\"start\":-2.5},\"id\":\"3249\",\"type\":\"Range1d\"},{\"attributes\":{},\"id\":\"3302\",\"type\":\"BasicTickFormatter\"},{\"attributes\":{\"text\":\"\"},\"id\":\"3245\",\"type\":\"Title\"},{\"attributes\":{},\"id\":\"3304\",\"type\":\"BasicTickFormatter\"},{\"attributes\":{\"source\":{\"id\":\"3279\"}},\"id\":\"3283\",\"type\":\"CDSView\"},{\"attributes\":{},\"id\":\"3305\",\"type\":\"Selection\"},{\"attributes\":{\"data\":{\"x\":[3.0,3.0,8.0,6.0,8.0,6.0,8.0,12.0,13.0,17.0,18.0,18.0,21.0,23.0,21.0,23.0,21.0,23.0,21.0,18.0,18.0,18.0,18.0,21.0,21.0,23.0,28.0,32.0,31.0,27.0,28.0,30.0,28.0,25.0,15.0,15.0,14.0,14.0,13.0,13.0,12.0,12.0,15.0,19.0,11.0,11.0,5.0,5.0,3.0,3.0,0.0,0.0,8.0,4.0,3.0,1.0,3.0,6.0,8.0,12.0,18.0,18.0,18.0,14.0,21.0,19.0,21.0,24.0,21.0,24.0,21.0,24.0,21.0,25.0,21.0,23.0,21.0,23.0,21.0,25.0,21.0,18.0,21.0,25.0,21.0,17.0,18.0,18.0,21.0,25.0,31.0,28.0,31.0,28.0,31.0,29.0,31.0,27.0,28.0,30.0,31.0,34.0,36.0,33.0,35.0,32.0,36.0,36.0,37.0,37.0,37.0,34.0,37.0,39.0,44.0,46.0,44.0,47.0,44.0,42.0,41.0,41.0,44.0,47.0,41.0,39.0,38.0,38.0,37.0,40.0,37.0,42.0,44.0,47.0,43.0,45.0,41.0,43.0,41.0,38.0,38.0,36.0,36.0,36.0,37.0,37.0,37.0,33.0,31.0,27.0,28.0,26.0,28.0,26.0,28.0,32.0,35.0,35.0,36.0,36.0,28.0,26.0,28.0,26.0,21.0,19.0,18.0,14.0,8.0,6.0,3.0,3.0,8.0,12.0,31.0,33.0,54.0,58.0,60.0,60.0,64.0,62.0,64.0,68.0,74.0,78.0,74.0,71.0,77.0,74.0,77.0,73.0,77.0,79.0,81.0,78.0,82.0,85.0,87.0,87.0,87.0,91.0,83.0,83.0,82.0,80.0,81.0,78.0,81.0,79.0,87.0,89.0,87.0,90.0,87.0,87.0,84.0,84.0,80.0,76.0,77.0,80.0,77.0,81.0,77.0,82.0,82.0,82.0,83.0,85.0,81.0,81.0,83.0,81.0,77.0,73.0,74.0,70.0,74.0,72.0,74.0,70.0,67.0,67.0,60.0,60.0,59.0,59.0,51.0,51.0,51.0,53.0,60.0,62.0,66.0,62.0,51.0,51.0,77.0,74.0,87.0,87.0,110.0,110.0,54.0,51.0,3.0,3.0],\"y\":[16.0,13.0,11.0,11.0,16.0,16.0,22.0,22.0,20.0,20.0,22.0,24.0,24.0,24.0,22.0,22.0,20.0,20.0,18.0,18.0,16.0,13.0,11.0,11.0,16.0,16.0,18.0,18.0,19.0,19.0,14.0,14.0,12.0,12.0,13.0,16.0,13.0,16.0,13.0,15.0,13.0,10.0,8.0,8.0,3.0,7.0,3.0,1.0,3.0,3.0,0.0,0.0,28.0,28.0,29.0,29.0,30.0,30.0,34.0,34.0,34.0,31.0,28.0,28.0,28.0,28.0,30.0,30.0,32.0,32.0,34.0,34.0,36.0,36.0,38.0,38.0,40.0,40.0,42.0,42.0,44.0,44.0,45.0,45.0,47.0,47.0,48.0,50.0,48.0,48.0,46.0,46.0,43.0,43.0,37.0,37.0,33.0,33.0,32.0,32.0,31.0,31.0,32.0,32.0,34.0,34.0,34.0,37.0,34.0,38.0,41.0,41.0,44.0,44.0,39.0,39.0,38.0,38.0,37.0,37.0,37.0,41.0,35.0,35.0,33.0,33.0,34.0,36.0,32.0,32.0,29.0,29.0,26.0,26.0,25.0,25.0,23.0,23.0,19.0,19.0,20.0,20.0,18.0,16.0,18.0,13.0,8.0,8.0,23.0,23.0,25.0,25.0,26.0,26.0,27.0,27.0,29.0,27.0,29.0,31.0,31.0,31.0,29.0,29.0,26.0,26.0,40.0,40.0,40.0,40.0,42.0,39.0,46.0,46.0,50.0,50.0,50.0,50.0,47.0,43.0,48.0,48.0,50.0,50.0,50.0,50.0,48.0,48.0,42.0,42.0,38.0,38.0,32.0,32.0,35.0,35.0,36.0,36.0,37.0,40.0,41.0,41.0,44.0,40.0,40.0,40.0,42.0,42.0,38.0,38.0,32.0,32.0,27.0,27.0,23.0,25.0,20.0,22.0,24.0,24.0,23.0,23.0,27.0,27.0,19.0,19.0,13.0,17.0,13.0,13.0,13.0,9.0,8.0,8.0,9.0,9.0,14.0,14.0,16.0,16.0,19.0,19.0,25.0,28.0,28.0,30.0,28.0,24.0,25.0,27.0,30.0,30.0,15.0,15.0,9.0,9.0,9.0,13.0,15.0,15.0,9.0,13.0,30.0,32.0,48.0,48.0,16.0,13.0]},\"selected\":{\"id\":\"3307\"},\"selection_policy\":{\"id\":\"3308\"}},\"id\":\"3284\",\"type\":\"ColumnDataSource\"},{\"attributes\":{\"formatter\":{\"id\":\"3304\"},\"ticker\":{\"id\":\"3260\"},\"visible\":false},\"id\":\"3259\",\"type\":\"LinearAxis\"},{\"attributes\":{\"axis\":{\"id\":\"3255\"},\"grid_line_color\":null,\"ticker\":null},\"id\":\"3258\",\"type\":\"Grid\"},{\"attributes\":{},\"id\":\"3306\",\"type\":\"UnionRenderers\"},{\"attributes\":{\"bottom_units\":\"screen\",\"fill_alpha\":0.5,\"fill_color\":\"lightgrey\",\"left_units\":\"screen\",\"level\":\"overlay\",\"line_alpha\":1.0,\"line_color\":\"black\",\"line_dash\":[4,4],\"line_width\":2,\"right_units\":\"screen\",\"top_units\":\"screen\"},\"id\":\"3269\",\"type\":\"BoxAnnotation\"},{\"attributes\":{},\"id\":\"3256\",\"type\":\"BasicTicker\"},{\"attributes\":{},\"id\":\"3307\",\"type\":\"Selection\"},{\"attributes\":{\"data_source\":{\"id\":\"3279\"},\"glyph\":{\"id\":\"3280\"},\"hover_glyph\":null,\"muted_glyph\":null,\"nonselection_glyph\":{\"id\":\"3281\"},\"selection_glyph\":null,\"view\":{\"id\":\"3283\"}},\"id\":\"3282\",\"type\":\"GlyphRenderer\"},{\"attributes\":{\"line_width\":{\"value\":2},\"xs\":{\"field\":\"xs\"},\"ys\":{\"field\":\"ys\"}},\"id\":\"3280\",\"type\":\"MultiLine\"},{\"attributes\":{},\"id\":\"3308\",\"type\":\"UnionRenderers\"},{\"attributes\":{\"formatter\":{\"id\":\"3302\"},\"ticker\":{\"id\":\"3256\"},\"visible\":false},\"id\":\"3255\",\"type\":\"LinearAxis\"}],\"root_ids\":[\"3315\"]},\"title\":\"Bokeh Application\",\"version\":\"2.1.0\"}};\n",
       "  var render_items = [{\"docid\":\"cc6ba59e-c4c9-4a41-8f25-fd31748d95f9\",\"root_ids\":[\"3315\"],\"roots\":{\"3315\":\"18566639-22cb-47e7-8a9f-b8275c4b66be\"}}];\n",
       "  root.Bokeh.embed.embed_items_notebook(docs_json, render_items);\n",
       "\n",
       "  }\n",
       "  if (root.Bokeh !== undefined) {\n",
       "    embed_document(root);\n",
       "  } else {\n",
       "    var attempts = 0;\n",
       "    var timer = setInterval(function(root) {\n",
       "      if (root.Bokeh !== undefined) {\n",
       "        clearInterval(timer);\n",
       "        embed_document(root);\n",
       "      } else {\n",
       "        attempts++;\n",
       "        if (attempts > 100) {\n",
       "          clearInterval(timer);\n",
       "          console.log(\"Bokeh: ERROR: Unable to run BokehJS code because BokehJS library is missing\");\n",
       "        }\n",
       "      }\n",
       "    }, 10, root)\n",
       "  }\n",
       "})(window);"
      ],
      "application/vnd.bokehjs_exec.v0+json": ""
     },
     "metadata": {
      "application/vnd.bokehjs_exec.v0+json": {
       "id": "3315"
      }
     },
     "output_type": "display_data"
    },
    {
     "data": {
      "text/html": [
       "\n",
       "\n",
       "\n",
       "\n",
       "\n",
       "\n",
       "  <div class=\"bk-root\" id=\"3f581076-cefb-4949-ae0a-1fac69a0fb05\" data-root-id=\"3617\"></div>\n"
      ]
     },
     "metadata": {},
     "output_type": "display_data"
    },
    {
     "data": {
      "application/javascript": [
       "(function(root) {\n",
       "  function embed_document(root) {\n",
       "    \n",
       "  var docs_json = {\"b45ed418-28d5-4993-abc0-b6c413746da6\":{\"roots\":{\"references\":[{\"attributes\":{\"children\":[[{\"id\":\"3546\"},0,0],[{\"id\":\"3580\"},1,0]]},\"id\":\"3617\",\"type\":\"GridBox\"},{\"attributes\":{\"line_dash\":[6],\"line_width\":2,\"x\":{\"field\":\"x\"},\"y\":{\"field\":\"y\"}},\"id\":\"3587\",\"type\":\"Line\"},{\"attributes\":{\"source\":{\"id\":\"3586\"}},\"id\":\"3590\",\"type\":\"CDSView\"},{\"attributes\":{\"data\":{\"xs\":[[3.0,3.0],[3.0,1.0],[3.0,6.0],[3.0,3.0],[5.0,5.0],[8.0,6.0],[8.0,12.0],[8.0,4.0],[8.0,12.0],[8.0,6.0],[8.0,12.0],[8.0,6.0],[11.0,11.0],[12.0,12.0],[13.0,13.0],[14.0,14.0],[15.0,15.0],[15.0,19.0],[18.0,18.0],[18.0,18.0],[18.0,14.0],[18.0,18.0],[18.0,14.0],[18.0,18.0],[18.0,21.0],[13.0,17.0],[21.0,23.0],[21.0,18.0],[21.0,23.0],[21.0,23.0],[21.0,23.0],[21.0,19.0],[21.0,19.0],[21.0,24.0],[21.0,24.0],[21.0,24.0],[21.0,25.0],[21.0,23.0],[21.0,23.0],[21.0,25.0],[21.0,18.0],[21.0,25.0],[21.0,17.0],[21.0,25.0],[28.0,30.0],[28.0,32.0],[28.0,26.0],[28.0,26.0],[28.0,32.0],[28.0,26.0],[28.0,26.0],[28.0,30.0],[28.0,25.0],[31.0,27.0],[31.0,27.0],[31.0,34.0],[31.0,27.0],[31.0,29.0],[31.0,28.0],[31.0,28.0],[31.0,33.0],[35.0,35.0],[35.0,32.0],[36.0,36.0],[36.0,36.0],[36.0,33.0],[36.0,36.0],[37.0,37.0],[37.0,42.0],[37.0,40.0],[37.0,37.0],[37.0,34.0],[37.0,39.0],[37.0,33.0],[38.0,36.0],[38.0,38.0],[41.0,38.0],[41.0,43.0],[41.0,39.0],[41.0,41.0],[43.0,45.0],[44.0,47.0],[44.0,47.0],[44.0,42.0],[44.0,47.0],[44.0,46.0],[51.0,51.0],[51.0,53.0],[51.0,51.0],[54.0,51.0],[54.0,58.0],[59.0,59.0],[60.0,62.0],[60.0,60.0],[60.0,60.0],[64.0,62.0],[64.0,68.0],[66.0,62.0],[67.0,67.0],[74.0,70.0],[74.0,72.0],[74.0,70.0],[74.0,71.0],[74.0,78.0],[77.0,74.0],[77.0,82.0],[77.0,80.0],[77.0,81.0],[77.0,79.0],[77.0,73.0],[77.0,74.0],[77.0,73.0],[80.0,76.0],[81.0,81.0],[81.0,78.0],[81.0,79.0],[81.0,78.0],[82.0,82.0],[82.0,85.0],[82.0,80.0],[83.0,85.0],[83.0,83.0],[83.0,81.0],[84.0,84.0],[87.0,87.0],[87.0,90.0],[87.0,89.0],[87.0,87.0],[87.0,91.0],[87.0,87.0],[110.0,110.0],[3.0,3.0],[0.0,0.0]],\"ys\":[[16.0,13.0],[29.0,29.0],[30.0,30.0],[42.0,39.0],[3.0,1.0],[16.0,16.0],[22.0,22.0],[28.0,28.0],[34.0,34.0],[40.0,40.0],[46.0,46.0],[11.0,11.0],[3.0,7.0],[13.0,10.0],[13.0,15.0],[13.0,16.0],[13.0,16.0],[8.0,8.0],[16.0,13.0],[22.0,24.0],[28.0,28.0],[34.0,31.0],[40.0,40.0],[48.0,50.0],[11.0,11.0],[20.0,20.0],[16.0,16.0],[18.0,18.0],[20.0,20.0],[22.0,22.0],[24.0,24.0],[26.0,26.0],[28.0,28.0],[30.0,30.0],[32.0,32.0],[34.0,34.0],[36.0,36.0],[38.0,38.0],[40.0,40.0],[42.0,42.0],[44.0,44.0],[45.0,45.0],[47.0,47.0],[48.0,48.0],[14.0,14.0],[18.0,18.0],[25.0,25.0],[26.0,26.0],[27.0,27.0],[29.0,29.0],[31.0,31.0],[32.0,32.0],[12.0,12.0],[19.0,19.0],[23.0,23.0],[31.0,31.0],[33.0,33.0],[37.0,37.0],[43.0,43.0],[46.0,46.0],[50.0,50.0],[29.0,27.0],[34.0,34.0],[18.0,16.0],[29.0,31.0],[32.0,32.0],[34.0,37.0],[18.0,13.0],[29.0,29.0],[32.0,32.0],[34.0,38.0],[41.0,41.0],[44.0,44.0],[8.0,8.0],[20.0,20.0],[34.0,36.0],[19.0,19.0],[23.0,23.0],[33.0,33.0],[37.0,41.0],[25.0,25.0],[26.0,26.0],[35.0,35.0],[37.0,37.0],[38.0,38.0],[39.0,39.0],[25.0,27.0],[30.0,30.0],[9.0,13.0],[48.0,48.0],[50.0,50.0],[28.0,24.0],[15.0,15.0],[28.0,30.0],[47.0,43.0],[48.0,48.0],[50.0,50.0],[9.0,9.0],[25.0,28.0],[14.0,14.0],[16.0,16.0],[19.0,19.0],[48.0,48.0],[50.0,50.0],[15.0,15.0],[19.0,19.0],[23.0,23.0],[27.0,27.0],[32.0,32.0],[38.0,38.0],[42.0,42.0],[9.0,9.0],[24.0,24.0],[13.0,9.0],[35.0,35.0],[38.0,38.0],[42.0,42.0],[13.0,17.0],[36.0,36.0],[40.0,40.0],[13.0,13.0],[44.0,40.0],[8.0,8.0],[20.0,22.0],[23.0,25.0],[27.0,27.0],[32.0,32.0],[37.0,40.0],[41.0,41.0],[9.0,13.0],[30.0,32.0],[3.0,3.0],[0.0,0.0]]},\"selected\":{\"id\":\"3607\"},\"selection_policy\":{\"id\":\"3608\"}},\"id\":\"3581\",\"type\":\"ColumnDataSource\"},{\"attributes\":{\"line_alpha\":0.1,\"line_dash\":[6],\"line_width\":2,\"x\":{\"field\":\"x\"},\"y\":{\"field\":\"y\"}},\"id\":\"3588\",\"type\":\"Line\"},{\"attributes\":{},\"id\":\"3611\",\"type\":\"Selection\"},{\"attributes\":{\"data_source\":{\"id\":\"3586\"},\"glyph\":{\"id\":\"3587\"},\"hover_glyph\":null,\"muted_glyph\":null,\"nonselection_glyph\":{\"id\":\"3588\"},\"selection_glyph\":null,\"view\":{\"id\":\"3590\"}},\"id\":\"3589\",\"type\":\"GlyphRenderer\"},{\"attributes\":{},\"id\":\"3612\",\"type\":\"UnionRenderers\"},{\"attributes\":{},\"id\":\"3565\",\"type\":\"PanTool\"},{\"attributes\":{},\"id\":\"3613\",\"type\":\"Selection\"},{\"attributes\":{},\"id\":\"3566\",\"type\":\"WheelZoomTool\"},{\"attributes\":{},\"id\":\"3614\",\"type\":\"UnionRenderers\"},{\"attributes\":{\"data\":{\"x\":[3.0,3.0,3.0,3.0,5.0,8.0,8.0,8.0,8.0,8.0,8.0,8.0,11.0,12.0,13.0,14.0,15.0,15.0,18.0,18.0,18.0,18.0,18.0,18.0,18.0,13.0,21.0,21.0,21.0,21.0,21.0,21.0,21.0,21.0,21.0,21.0,21.0,21.0,21.0,21.0,21.0,21.0,21.0,21.0,28.0,28.0,28.0,28.0,28.0,28.0,28.0,28.0,28.0,31.0,31.0,31.0,31.0,31.0,31.0,31.0,31.0,35.0,35.0,36.0,36.0,36.0,36.0,37.0,37.0,37.0,37.0,37.0,37.0,37.0,38.0,38.0,41.0,41.0,41.0,41.0,43.0,44.0,44.0,44.0,44.0,44.0,51.0,51.0,51.0,54.0,54.0,59.0,60.0,60.0,60.0,64.0,64.0,66.0,67.0,74.0,74.0,74.0,74.0,74.0,77.0,77.0,77.0,77.0,77.0,77.0,77.0,77.0,80.0,81.0,81.0,81.0,81.0,82.0,82.0,82.0,83.0,83.0,83.0,84.0,87.0,87.0,87.0,87.0,87.0,87.0,110.0,3.0,0.0],\"y\":[16.0,29.0,30.0,42.0,3.0,16.0,22.0,28.0,34.0,40.0,46.0,11.0,3.0,13.0,13.0,13.0,13.0,8.0,16.0,22.0,28.0,34.0,40.0,48.0,11.0,20.0,16.0,18.0,20.0,22.0,24.0,26.0,28.0,30.0,32.0,34.0,36.0,38.0,40.0,42.0,44.0,45.0,47.0,48.0,14.0,18.0,25.0,26.0,27.0,29.0,31.0,32.0,12.0,19.0,23.0,31.0,33.0,37.0,43.0,46.0,50.0,29.0,34.0,18.0,29.0,32.0,34.0,18.0,29.0,32.0,34.0,41.0,44.0,8.0,20.0,34.0,19.0,23.0,33.0,37.0,25.0,26.0,35.0,37.0,38.0,39.0,25.0,30.0,9.0,48.0,50.0,28.0,15.0,28.0,47.0,48.0,50.0,9.0,25.0,14.0,16.0,19.0,48.0,50.0,15.0,19.0,23.0,27.0,32.0,38.0,42.0,9.0,24.0,13.0,35.0,38.0,42.0,13.0,36.0,40.0,13.0,44.0,8.0,20.0,23.0,27.0,32.0,37.0,41.0,9.0,30.0,3.0,0.0]},\"selected\":{\"id\":\"3611\"},\"selection_policy\":{\"id\":\"3612\"}},\"id\":\"3591\",\"type\":\"ColumnDataSource\"},{\"attributes\":{\"overlay\":{\"id\":\"3571\"}},\"id\":\"3567\",\"type\":\"BoxZoomTool\"},{\"attributes\":{\"fill_color\":{\"value\":\"steelblue\"},\"line_color\":{\"value\":\"steelblue\"},\"size\":{\"units\":\"screen\",\"value\":5},\"x\":{\"field\":\"x\"},\"y\":{\"field\":\"y\"}},\"id\":\"3592\",\"type\":\"Circle\"},{\"attributes\":{},\"id\":\"3568\",\"type\":\"SaveTool\"},{\"attributes\":{\"axis\":{\"id\":\"3561\"},\"dimension\":1,\"grid_line_color\":null,\"ticker\":null},\"id\":\"3564\",\"type\":\"Grid\"},{\"attributes\":{\"fill_alpha\":{\"value\":0.1},\"fill_color\":{\"value\":\"steelblue\"},\"line_alpha\":{\"value\":0.1},\"line_color\":{\"value\":\"steelblue\"},\"size\":{\"units\":\"screen\",\"value\":5},\"x\":{\"field\":\"x\"},\"y\":{\"field\":\"y\"}},\"id\":\"3593\",\"type\":\"Circle\"},{\"attributes\":{\"axis\":{\"id\":\"3557\"},\"grid_line_color\":null,\"ticker\":null},\"id\":\"3560\",\"type\":\"Grid\"},{\"attributes\":{\"data_source\":{\"id\":\"3591\"},\"glyph\":{\"id\":\"3592\"},\"hover_glyph\":null,\"muted_glyph\":null,\"nonselection_glyph\":{\"id\":\"3593\"},\"selection_glyph\":null,\"view\":{\"id\":\"3595\"}},\"id\":\"3594\",\"type\":\"GlyphRenderer\"},{\"attributes\":{},\"id\":\"3569\",\"type\":\"ResetTool\"},{\"attributes\":{\"source\":{\"id\":\"3591\"}},\"id\":\"3595\",\"type\":\"CDSView\"},{\"attributes\":{},\"id\":\"3570\",\"type\":\"HelpTool\"},{\"attributes\":{\"background_fill_color\":null,\"below\":[{\"id\":\"3557\"}],\"border_fill_color\":null,\"center\":[{\"id\":\"3560\"},{\"id\":\"3564\"}],\"left\":[{\"id\":\"3561\"}],\"outline_line_color\":null,\"plot_height\":400,\"plot_width\":800,\"renderers\":[{\"id\":\"3584\"},{\"id\":\"3589\"},{\"id\":\"3594\"},{\"id\":\"3599\"}],\"title\":{\"id\":\"3547\"},\"toolbar\":{\"id\":\"3572\"},\"toolbar_location\":null,\"x_range\":{\"id\":\"3549\"},\"x_scale\":{\"id\":\"3553\"},\"y_range\":{\"id\":\"3551\"},\"y_scale\":{\"id\":\"3555\"}},\"id\":\"3546\",\"subtype\":\"Figure\",\"type\":\"Plot\"},{\"attributes\":{\"align\":\"center\",\"text\":\"706.757\",\"width\":800},\"id\":\"3580\",\"type\":\"Div\"},{\"attributes\":{\"active_drag\":\"auto\",\"active_inspect\":\"auto\",\"active_multi\":null,\"active_scroll\":\"auto\",\"active_tap\":\"auto\",\"logo\":null,\"tools\":[{\"id\":\"3565\"},{\"id\":\"3566\"},{\"id\":\"3567\"},{\"id\":\"3568\"},{\"id\":\"3569\"},{\"id\":\"3570\"}]},\"id\":\"3572\",\"type\":\"Toolbar\"},{\"attributes\":{\"end\":115.5,\"start\":-5.5},\"id\":\"3549\",\"type\":\"Range1d\"},{\"attributes\":{\"data\":{\"x\":[3,1,6,3,5,6,12,4,12,6,12,6,11,12,13,14,15,19,18,18,14,18,14,18,21,17,23,18,23,23,23,19,19,24,24,24,25,23,23,25,18,25,17,25,30,32,26,26,32,26,26,30,25,27,27,34,27,29,28,28,33,35,32,36,36,33,36,37,42,40,37,34,39,33,36,38,38,43,39,41,45,47,47,42,47,46,51,53,51,51,58,59,62,60,60,62,68,62,67,70,72,70,71,78,74,82,80,81,79,73,74,73,76,81,78,79,78,82,85,80,85,83,81,84,87,90,89,87,91,87,110,3,0],\"y\":[13,29,30,39,1,16,22,28,34,40,46,11,7,10,15,16,16,8,13,24,28,31,40,50,11,20,16,18,20,22,24,26,28,30,32,34,36,38,40,42,44,45,47,48,14,18,25,26,27,29,31,32,12,19,23,31,33,37,43,46,50,27,34,16,31,32,37,13,29,32,38,41,44,8,20,36,19,23,33,41,25,26,35,37,38,39,27,30,13,48,50,24,15,30,43,48,50,9,28,14,16,19,48,50,15,19,23,27,32,38,42,9,24,9,35,38,42,17,36,40,13,40,8,22,25,27,32,40,41,13,32,3,0]},\"selected\":{\"id\":\"3613\"},\"selection_policy\":{\"id\":\"3614\"}},\"id\":\"3596\",\"type\":\"ColumnDataSource\"},{\"attributes\":{},\"id\":\"3607\",\"type\":\"Selection\"},{\"attributes\":{\"fill_color\":{\"value\":\"#DC0000\"},\"line_color\":{\"value\":\"#DC0000\"},\"size\":{\"units\":\"screen\",\"value\":5},\"x\":{\"field\":\"x\"},\"y\":{\"field\":\"y\"}},\"id\":\"3597\",\"type\":\"Circle\"},{\"attributes\":{\"fill_alpha\":{\"value\":0.1},\"fill_color\":{\"value\":\"#DC0000\"},\"line_alpha\":{\"value\":0.1},\"line_color\":{\"value\":\"#DC0000\"},\"size\":{\"units\":\"screen\",\"value\":5},\"x\":{\"field\":\"x\"},\"y\":{\"field\":\"y\"}},\"id\":\"3598\",\"type\":\"Circle\"},{\"attributes\":{},\"id\":\"3606\",\"type\":\"BasicTickFormatter\"},{\"attributes\":{\"data_source\":{\"id\":\"3596\"},\"glyph\":{\"id\":\"3597\"},\"hover_glyph\":null,\"muted_glyph\":null,\"nonselection_glyph\":{\"id\":\"3598\"},\"selection_glyph\":null,\"view\":{\"id\":\"3600\"}},\"id\":\"3599\",\"type\":\"GlyphRenderer\"},{\"attributes\":{},\"id\":\"3610\",\"type\":\"UnionRenderers\"},{\"attributes\":{},\"id\":\"3553\",\"type\":\"LinearScale\"},{\"attributes\":{\"source\":{\"id\":\"3596\"}},\"id\":\"3600\",\"type\":\"CDSView\"},{\"attributes\":{},\"id\":\"3608\",\"type\":\"UnionRenderers\"},{\"attributes\":{\"text\":\"\"},\"id\":\"3547\",\"type\":\"Title\"},{\"attributes\":{\"bottom_units\":\"screen\",\"fill_alpha\":0.5,\"fill_color\":\"lightgrey\",\"left_units\":\"screen\",\"level\":\"overlay\",\"line_alpha\":1.0,\"line_color\":\"black\",\"line_dash\":[4,4],\"line_width\":2,\"right_units\":\"screen\",\"top_units\":\"screen\"},\"id\":\"3571\",\"type\":\"BoxAnnotation\"},{\"attributes\":{\"end\":52.5,\"start\":-2.5},\"id\":\"3551\",\"type\":\"Range1d\"},{\"attributes\":{\"line_width\":{\"value\":2},\"xs\":{\"field\":\"xs\"},\"ys\":{\"field\":\"ys\"}},\"id\":\"3582\",\"type\":\"MultiLine\"},{\"attributes\":{},\"id\":\"3558\",\"type\":\"BasicTicker\"},{\"attributes\":{\"line_alpha\":{\"value\":0.1},\"line_width\":{\"value\":2},\"xs\":{\"field\":\"xs\"},\"ys\":{\"field\":\"ys\"}},\"id\":\"3583\",\"type\":\"MultiLine\"},{\"attributes\":{\"source\":{\"id\":\"3581\"}},\"id\":\"3585\",\"type\":\"CDSView\"},{\"attributes\":{},\"id\":\"3555\",\"type\":\"LinearScale\"},{\"attributes\":{\"data_source\":{\"id\":\"3581\"},\"glyph\":{\"id\":\"3582\"},\"hover_glyph\":null,\"muted_glyph\":null,\"nonselection_glyph\":{\"id\":\"3583\"},\"selection_glyph\":null,\"view\":{\"id\":\"3585\"}},\"id\":\"3584\",\"type\":\"GlyphRenderer\"},{\"attributes\":{\"formatter\":{\"id\":\"3604\"},\"ticker\":{\"id\":\"3558\"},\"visible\":false},\"id\":\"3557\",\"type\":\"LinearAxis\"},{\"attributes\":{},\"id\":\"3604\",\"type\":\"BasicTickFormatter\"},{\"attributes\":{\"formatter\":{\"id\":\"3606\"},\"ticker\":{\"id\":\"3562\"},\"visible\":false},\"id\":\"3561\",\"type\":\"LinearAxis\"},{\"attributes\":{},\"id\":\"3609\",\"type\":\"Selection\"},{\"attributes\":{\"data\":{\"x\":[3.0,3.0,8.0,6.0,12.0,12.0,13.0,13.0,15.0,15.0,13.0,17.0,21.0,23.0,21.0,23.0,21.0,23.0,21.0,19.0,18.0,14.0,18.0,18.0,21.0,24.0,21.0,23.0,21.0,18.0,21.0,17.0,18.0,14.0,8.0,6.0,3.0,3.0,8.0,12.0,18.0,18.0,21.0,25.0,21.0,25.0,31.0,33.0,31.0,28.0,31.0,28.0,21.0,25.0,21.0,23.0,21.0,25.0,21.0,24.0,21.0,24.0,28.0,30.0,31.0,34.0,35.0,35.0,37.0,42.0,36.0,36.0,37.0,40.0,41.0,39.0,38.0,38.0,37.0,37.0,37.0,34.0,37.0,39.0,41.0,41.0,44.0,46.0,44.0,47.0,44.0,47.0,44.0,42.0,36.0,33.0,36.0,36.0,35.0,32.0,31.0,29.0,31.0,27.0,28.0,26.0,28.0,26.0,28.0,26.0,28.0,32.0,41.0,43.0,43.0,45.0,44.0,47.0,51.0,51.0,51.0,53.0,60.0,60.0,77.0,79.0,82.0,85.0,87.0,89.0,110.0,110.0,87.0,87.0,87.0,91.0,81.0,78.0,77.0,74.0,74.0,71.0,64.0,62.0,60.0,60.0,54.0,51.0,54.0,58.0,64.0,68.0,74.0,78.0,83.0,83.0,82.0,80.0,81.0,79.0,81.0,78.0,77.0,73.0,77.0,81.0,77.0,80.0,84.0,84.0,87.0,87.0,87.0,90.0,80.0,76.0,77.0,74.0,77.0,82.0,83.0,85.0,87.0,87.0,82.0,82.0,81.0,81.0,83.0,81.0,77.0,73.0,74.0,70.0,74.0,72.0,74.0,70.0,67.0,67.0,59.0,59.0,60.0,62.0,66.0,62.0,51.0,51.0,41.0,38.0,38.0,36.0,36.0,36.0,37.0,37.0,37.0,33.0,31.0,27.0,28.0,30.0,28.0,25.0,28.0,32.0,31.0,27.0,28.0,26.0,21.0,19.0,18.0,18.0,21.0,23.0,21.0,18.0,18.0,18.0,18.0,21.0,15.0,19.0,3.0,3.0,0.0,0.0,5.0,5.0,11.0,11.0,14.0,14.0,8.0,6.0,8.0,12.0,8.0,4.0,3.0,1.0,3.0,6.0,8.0,12.0,3.0,3.0],\"y\":[16.0,13.0,11.0,11.0,13.0,10.0,13.0,15.0,13.0,16.0,20.0,20.0,16.0,16.0,20.0,20.0,24.0,24.0,28.0,28.0,28.0,28.0,34.0,31.0,34.0,34.0,40.0,40.0,44.0,44.0,47.0,47.0,40.0,40.0,40.0,40.0,42.0,39.0,46.0,46.0,48.0,50.0,48.0,48.0,45.0,45.0,50.0,50.0,46.0,46.0,43.0,43.0,42.0,42.0,38.0,38.0,36.0,36.0,32.0,32.0,30.0,30.0,32.0,32.0,31.0,31.0,29.0,27.0,29.0,29.0,29.0,31.0,32.0,32.0,33.0,33.0,34.0,36.0,34.0,38.0,41.0,41.0,44.0,44.0,37.0,41.0,39.0,39.0,38.0,38.0,35.0,35.0,37.0,37.0,32.0,32.0,34.0,37.0,34.0,34.0,37.0,37.0,33.0,33.0,31.0,31.0,29.0,29.0,26.0,26.0,27.0,27.0,23.0,23.0,25.0,25.0,26.0,26.0,25.0,27.0,30.0,30.0,28.0,30.0,32.0,32.0,36.0,36.0,32.0,32.0,30.0,32.0,37.0,40.0,41.0,41.0,42.0,42.0,42.0,42.0,48.0,48.0,48.0,48.0,47.0,43.0,48.0,48.0,50.0,50.0,50.0,50.0,50.0,50.0,44.0,40.0,40.0,40.0,38.0,38.0,35.0,35.0,38.0,38.0,27.0,27.0,23.0,23.0,20.0,22.0,23.0,25.0,27.0,27.0,24.0,24.0,15.0,15.0,19.0,19.0,13.0,13.0,9.0,13.0,13.0,17.0,13.0,9.0,8.0,8.0,9.0,9.0,14.0,14.0,16.0,16.0,19.0,19.0,25.0,28.0,28.0,24.0,15.0,15.0,9.0,9.0,9.0,13.0,19.0,19.0,20.0,20.0,18.0,16.0,18.0,13.0,8.0,8.0,19.0,19.0,14.0,14.0,12.0,12.0,18.0,18.0,23.0,23.0,25.0,25.0,26.0,26.0,22.0,24.0,22.0,22.0,18.0,18.0,16.0,13.0,11.0,11.0,8.0,8.0,3.0,3.0,0.0,0.0,3.0,1.0,3.0,7.0,13.0,16.0,16.0,16.0,22.0,22.0,28.0,28.0,29.0,29.0,30.0,30.0,34.0,34.0,16.0,13.0]},\"selected\":{\"id\":\"3609\"},\"selection_policy\":{\"id\":\"3610\"}},\"id\":\"3586\",\"type\":\"ColumnDataSource\"},{\"attributes\":{},\"id\":\"3562\",\"type\":\"BasicTicker\"}],\"root_ids\":[\"3617\"]},\"title\":\"Bokeh Application\",\"version\":\"2.1.0\"}};\n",
       "  var render_items = [{\"docid\":\"b45ed418-28d5-4993-abc0-b6c413746da6\",\"root_ids\":[\"3617\"],\"roots\":{\"3617\":\"3f581076-cefb-4949-ae0a-1fac69a0fb05\"}}];\n",
       "  root.Bokeh.embed.embed_items_notebook(docs_json, render_items);\n",
       "\n",
       "  }\n",
       "  if (root.Bokeh !== undefined) {\n",
       "    embed_document(root);\n",
       "  } else {\n",
       "    var attempts = 0;\n",
       "    var timer = setInterval(function(root) {\n",
       "      if (root.Bokeh !== undefined) {\n",
       "        clearInterval(timer);\n",
       "        embed_document(root);\n",
       "      } else {\n",
       "        attempts++;\n",
       "        if (attempts > 100) {\n",
       "          clearInterval(timer);\n",
       "          console.log(\"Bokeh: ERROR: Unable to run BokehJS code because BokehJS library is missing\");\n",
       "        }\n",
       "      }\n",
       "    }, 10, root)\n",
       "  }\n",
       "})(window);"
      ],
      "application/vnd.bokehjs_exec.v0+json": ""
     },
     "metadata": {
      "application/vnd.bokehjs_exec.v0+json": {
       "id": "3617"
      }
     },
     "output_type": "display_data"
    },
    {
     "data": {
      "text/html": [
       "\n",
       "\n",
       "\n",
       "\n",
       "\n",
       "\n",
       "  <div class=\"bk-root\" id=\"35a53648-9604-48ae-a56a-b17c11b5e937\" data-root-id=\"3933\"></div>\n"
      ]
     },
     "metadata": {},
     "output_type": "display_data"
    },
    {
     "data": {
      "application/javascript": [
       "(function(root) {\n",
       "  function embed_document(root) {\n",
       "    \n",
       "  var docs_json = {\"dabcb974-a313-4639-b436-0c0d8496705d\":{\"roots\":{\"references\":[{\"attributes\":{\"children\":[[{\"id\":\"3862\"},0,0],[{\"id\":\"3896\"},1,0]]},\"id\":\"3933\",\"type\":\"GridBox\"},{\"attributes\":{},\"id\":\"3871\",\"type\":\"LinearScale\"},{\"attributes\":{},\"id\":\"3926\",\"type\":\"UnionRenderers\"},{\"attributes\":{\"line_dash\":[6],\"line_width\":2,\"x\":{\"field\":\"x\"},\"y\":{\"field\":\"y\"}},\"id\":\"3903\",\"type\":\"Line\"},{\"attributes\":{},\"id\":\"3927\",\"type\":\"Selection\"},{\"attributes\":{\"source\":{\"id\":\"3902\"}},\"id\":\"3906\",\"type\":\"CDSView\"},{\"attributes\":{},\"id\":\"3925\",\"type\":\"Selection\"},{\"attributes\":{\"data\":{\"xs\":[[3.0,3.0],[3.0,1.0],[3.0,6.0],[3.0,3.0],[5.0,5.0],[8.0,6.0],[8.0,12.0],[8.0,4.0],[8.0,12.0],[8.0,6.0],[8.0,12.0],[8.0,6.0],[11.0,11.0],[12.0,12.0],[13.0,13.0],[14.0,14.0],[15.0,15.0],[15.0,19.0],[18.0,18.0],[18.0,18.0],[18.0,14.0],[18.0,18.0],[18.0,14.0],[18.0,18.0],[18.0,21.0],[13.0,17.0],[21.0,23.0],[21.0,18.0],[21.0,23.0],[21.0,23.0],[21.0,23.0],[21.0,19.0],[21.0,19.0],[21.0,24.0],[21.0,24.0],[21.0,24.0],[21.0,25.0],[21.0,23.0],[21.0,23.0],[21.0,25.0],[21.0,18.0],[21.0,25.0],[21.0,17.0],[21.0,25.0],[28.0,30.0],[28.0,32.0],[28.0,26.0],[28.0,26.0],[28.0,32.0],[28.0,26.0],[28.0,26.0],[28.0,30.0],[28.0,25.0],[31.0,27.0],[31.0,27.0],[31.0,34.0],[31.0,27.0],[31.0,29.0],[31.0,28.0],[31.0,28.0],[31.0,33.0],[35.0,35.0],[35.0,32.0],[36.0,36.0],[36.0,36.0],[36.0,33.0],[36.0,36.0],[37.0,37.0],[37.0,42.0],[37.0,40.0],[37.0,37.0],[37.0,34.0],[37.0,39.0],[37.0,33.0],[38.0,36.0],[38.0,38.0],[41.0,38.0],[41.0,43.0],[41.0,39.0],[41.0,41.0],[43.0,45.0],[44.0,47.0],[44.0,47.0],[44.0,42.0],[44.0,47.0],[44.0,46.0],[51.0,51.0],[51.0,53.0],[51.0,51.0],[54.0,51.0],[54.0,58.0],[59.0,59.0],[60.0,62.0],[60.0,60.0],[60.0,60.0],[64.0,62.0],[64.0,68.0],[66.0,62.0],[67.0,67.0],[74.0,70.0],[74.0,72.0],[74.0,70.0],[74.0,71.0],[74.0,78.0],[77.0,74.0],[77.0,82.0],[77.0,80.0],[77.0,81.0],[77.0,79.0],[77.0,73.0],[77.0,74.0],[77.0,73.0],[80.0,76.0],[81.0,81.0],[81.0,78.0],[81.0,79.0],[81.0,78.0],[82.0,82.0],[82.0,85.0],[82.0,80.0],[83.0,85.0],[83.0,83.0],[83.0,81.0],[84.0,84.0],[87.0,87.0],[87.0,90.0],[87.0,89.0],[87.0,87.0],[87.0,91.0],[87.0,87.0],[110.0,110.0],[3.0,3.0],[0.0,0.0]],\"ys\":[[16.0,13.0],[29.0,29.0],[30.0,30.0],[42.0,39.0],[3.0,1.0],[16.0,16.0],[22.0,22.0],[28.0,28.0],[34.0,34.0],[40.0,40.0],[46.0,46.0],[11.0,11.0],[3.0,7.0],[13.0,10.0],[13.0,15.0],[13.0,16.0],[13.0,16.0],[8.0,8.0],[16.0,13.0],[22.0,24.0],[28.0,28.0],[34.0,31.0],[40.0,40.0],[48.0,50.0],[11.0,11.0],[20.0,20.0],[16.0,16.0],[18.0,18.0],[20.0,20.0],[22.0,22.0],[24.0,24.0],[26.0,26.0],[28.0,28.0],[30.0,30.0],[32.0,32.0],[34.0,34.0],[36.0,36.0],[38.0,38.0],[40.0,40.0],[42.0,42.0],[44.0,44.0],[45.0,45.0],[47.0,47.0],[48.0,48.0],[14.0,14.0],[18.0,18.0],[25.0,25.0],[26.0,26.0],[27.0,27.0],[29.0,29.0],[31.0,31.0],[32.0,32.0],[12.0,12.0],[19.0,19.0],[23.0,23.0],[31.0,31.0],[33.0,33.0],[37.0,37.0],[43.0,43.0],[46.0,46.0],[50.0,50.0],[29.0,27.0],[34.0,34.0],[18.0,16.0],[29.0,31.0],[32.0,32.0],[34.0,37.0],[18.0,13.0],[29.0,29.0],[32.0,32.0],[34.0,38.0],[41.0,41.0],[44.0,44.0],[8.0,8.0],[20.0,20.0],[34.0,36.0],[19.0,19.0],[23.0,23.0],[33.0,33.0],[37.0,41.0],[25.0,25.0],[26.0,26.0],[35.0,35.0],[37.0,37.0],[38.0,38.0],[39.0,39.0],[25.0,27.0],[30.0,30.0],[9.0,13.0],[48.0,48.0],[50.0,50.0],[28.0,24.0],[15.0,15.0],[28.0,30.0],[47.0,43.0],[48.0,48.0],[50.0,50.0],[9.0,9.0],[25.0,28.0],[14.0,14.0],[16.0,16.0],[19.0,19.0],[48.0,48.0],[50.0,50.0],[15.0,15.0],[19.0,19.0],[23.0,23.0],[27.0,27.0],[32.0,32.0],[38.0,38.0],[42.0,42.0],[9.0,9.0],[24.0,24.0],[13.0,9.0],[35.0,35.0],[38.0,38.0],[42.0,42.0],[13.0,17.0],[36.0,36.0],[40.0,40.0],[13.0,13.0],[44.0,40.0],[8.0,8.0],[20.0,22.0],[23.0,25.0],[27.0,27.0],[32.0,32.0],[37.0,40.0],[41.0,41.0],[9.0,13.0],[30.0,32.0],[3.0,3.0],[0.0,0.0]]},\"selected\":{\"id\":\"3923\"},\"selection_policy\":{\"id\":\"3924\"}},\"id\":\"3897\",\"type\":\"ColumnDataSource\"},{\"attributes\":{\"line_alpha\":0.1,\"line_dash\":[6],\"line_width\":2,\"x\":{\"field\":\"x\"},\"y\":{\"field\":\"y\"}},\"id\":\"3904\",\"type\":\"Line\"},{\"attributes\":{},\"id\":\"3928\",\"type\":\"UnionRenderers\"},{\"attributes\":{\"data_source\":{\"id\":\"3902\"},\"glyph\":{\"id\":\"3903\"},\"hover_glyph\":null,\"muted_glyph\":null,\"nonselection_glyph\":{\"id\":\"3904\"},\"selection_glyph\":null,\"view\":{\"id\":\"3906\"}},\"id\":\"3905\",\"type\":\"GlyphRenderer\"},{\"attributes\":{},\"id\":\"3878\",\"type\":\"BasicTicker\"},{\"attributes\":{},\"id\":\"3929\",\"type\":\"Selection\"},{\"attributes\":{\"axis\":{\"id\":\"3877\"},\"dimension\":1,\"grid_line_color\":null,\"ticker\":null},\"id\":\"3880\",\"type\":\"Grid\"},{\"attributes\":{\"data\":{\"x\":[3.0,3.0,8.0,12.0,13.0,17.0,18.0,18.0,21.0,19.0,18.0,18.0,21.0,24.0,21.0,24.0,21.0,25.0,31.0,27.0,28.0,30.0,31.0,34.0,36.0,36.0,36.0,33.0,35.0,35.0,31.0,27.0,28.0,26.0,28.0,26.0,28.0,32.0,28.0,26.0,28.0,26.0,21.0,24.0,21.0,23.0,21.0,23.0,21.0,18.0,14.0,14.0,12.0,12.0,8.0,6.0,3.0,3.0,0.0,0.0,5.0,5.0,11.0,11.0,15.0,19.0,18.0,21.0,21.0,23.0,21.0,23.0,21.0,19.0,18.0,14.0,8.0,4.0,3.0,1.0,3.0,6.0,8.0,12.0,8.0,6.0,3.0,3.0,8.0,12.0,18.0,14.0,21.0,23.0,21.0,23.0,21.0,25.0,21.0,18.0,21.0,25.0,21.0,17.0,18.0,18.0,21.0,25.0,31.0,33.0,31.0,28.0,31.0,28.0,31.0,29.0,35.0,32.0,36.0,36.0,38.0,38.0,37.0,37.0,37.0,34.0,37.0,39.0,41.0,41.0,44.0,42.0,41.0,39.0,37.0,40.0,37.0,42.0,44.0,47.0,51.0,51.0,51.0,53.0,59.0,59.0,60.0,60.0,77.0,81.0,80.0,76.0,77.0,80.0,77.0,82.0,84.0,84.0,87.0,87.0,87.0,90.0,87.0,89.0,87.0,87.0,83.0,83.0,82.0,80.0,81.0,79.0,82.0,85.0,87.0,91.0,110.0,110.0,87.0,87.0,83.0,85.0,82.0,82.0,81.0,81.0,83.0,81.0,77.0,73.0,77.0,74.0,74.0,72.0,74.0,70.0,74.0,70.0,66.0,62.0,51.0,51.0,60.0,62.0,67.0,67.0,77.0,79.0,81.0,78.0,77.0,73.0,81.0,78.0,77.0,74.0,74.0,78.0,74.0,71.0,64.0,68.0,64.0,62.0,60.0,60.0,54.0,58.0,54.0,51.0,44.0,46.0,44.0,47.0,44.0,47.0,43.0,45.0,41.0,43.0,41.0,38.0,38.0,36.0,36.0,36.0,37.0,37.0,37.0,33.0,28.0,25.0,28.0,30.0,28.0,32.0,31.0,27.0,18.0,18.0,15.0,15.0,13.0,13.0,8.0,6.0,3.0,3.0],\"y\":[16.0,13.0,22.0,22.0,20.0,20.0,22.0,24.0,28.0,28.0,34.0,31.0,32.0,32.0,34.0,34.0,36.0,36.0,33.0,33.0,32.0,32.0,31.0,31.0,29.0,31.0,32.0,32.0,29.0,27.0,23.0,23.0,25.0,25.0,26.0,26.0,27.0,27.0,29.0,29.0,31.0,31.0,30.0,30.0,24.0,24.0,20.0,20.0,18.0,18.0,13.0,16.0,13.0,10.0,11.0,11.0,3.0,3.0,0.0,0.0,3.0,1.0,3.0,7.0,8.0,8.0,11.0,11.0,16.0,16.0,22.0,22.0,26.0,26.0,28.0,28.0,28.0,28.0,29.0,29.0,30.0,30.0,34.0,34.0,40.0,40.0,42.0,39.0,46.0,46.0,40.0,40.0,38.0,38.0,40.0,40.0,42.0,42.0,44.0,44.0,45.0,45.0,47.0,47.0,48.0,50.0,48.0,48.0,50.0,50.0,46.0,46.0,43.0,43.0,37.0,37.0,34.0,34.0,34.0,37.0,34.0,36.0,34.0,38.0,41.0,41.0,44.0,44.0,37.0,41.0,37.0,37.0,33.0,33.0,32.0,32.0,29.0,29.0,26.0,26.0,25.0,27.0,30.0,30.0,28.0,24.0,28.0,30.0,27.0,27.0,24.0,24.0,23.0,23.0,19.0,19.0,20.0,22.0,23.0,25.0,27.0,27.0,32.0,32.0,37.0,40.0,44.0,40.0,40.0,40.0,38.0,38.0,36.0,36.0,41.0,41.0,30.0,32.0,9.0,13.0,13.0,13.0,13.0,17.0,13.0,9.0,8.0,8.0,9.0,9.0,15.0,15.0,16.0,16.0,19.0,19.0,14.0,14.0,9.0,9.0,9.0,13.0,15.0,15.0,25.0,28.0,32.0,32.0,35.0,35.0,38.0,38.0,42.0,42.0,42.0,42.0,50.0,50.0,48.0,48.0,50.0,50.0,48.0,48.0,47.0,43.0,50.0,50.0,48.0,48.0,39.0,39.0,38.0,38.0,35.0,35.0,25.0,25.0,23.0,23.0,19.0,19.0,20.0,20.0,18.0,16.0,18.0,13.0,8.0,8.0,12.0,12.0,14.0,14.0,18.0,18.0,19.0,19.0,16.0,13.0,13.0,16.0,13.0,15.0,16.0,16.0,16.0,13.0]},\"selected\":{\"id\":\"3925\"},\"selection_policy\":{\"id\":\"3926\"}},\"id\":\"3902\",\"type\":\"ColumnDataSource\"},{\"attributes\":{},\"id\":\"3930\",\"type\":\"UnionRenderers\"},{\"attributes\":{\"line_width\":{\"value\":2},\"xs\":{\"field\":\"xs\"},\"ys\":{\"field\":\"ys\"}},\"id\":\"3898\",\"type\":\"MultiLine\"},{\"attributes\":{\"data\":{\"x\":[3.0,3.0,3.0,3.0,5.0,8.0,8.0,8.0,8.0,8.0,8.0,8.0,11.0,12.0,13.0,14.0,15.0,15.0,18.0,18.0,18.0,18.0,18.0,18.0,18.0,13.0,21.0,21.0,21.0,21.0,21.0,21.0,21.0,21.0,21.0,21.0,21.0,21.0,21.0,21.0,21.0,21.0,21.0,21.0,28.0,28.0,28.0,28.0,28.0,28.0,28.0,28.0,28.0,31.0,31.0,31.0,31.0,31.0,31.0,31.0,31.0,35.0,35.0,36.0,36.0,36.0,36.0,37.0,37.0,37.0,37.0,37.0,37.0,37.0,38.0,38.0,41.0,41.0,41.0,41.0,43.0,44.0,44.0,44.0,44.0,44.0,51.0,51.0,51.0,54.0,54.0,59.0,60.0,60.0,60.0,64.0,64.0,66.0,67.0,74.0,74.0,74.0,74.0,74.0,77.0,77.0,77.0,77.0,77.0,77.0,77.0,77.0,80.0,81.0,81.0,81.0,81.0,82.0,82.0,82.0,83.0,83.0,83.0,84.0,87.0,87.0,87.0,87.0,87.0,87.0,110.0,3.0,0.0],\"y\":[16.0,29.0,30.0,42.0,3.0,16.0,22.0,28.0,34.0,40.0,46.0,11.0,3.0,13.0,13.0,13.0,13.0,8.0,16.0,22.0,28.0,34.0,40.0,48.0,11.0,20.0,16.0,18.0,20.0,22.0,24.0,26.0,28.0,30.0,32.0,34.0,36.0,38.0,40.0,42.0,44.0,45.0,47.0,48.0,14.0,18.0,25.0,26.0,27.0,29.0,31.0,32.0,12.0,19.0,23.0,31.0,33.0,37.0,43.0,46.0,50.0,29.0,34.0,18.0,29.0,32.0,34.0,18.0,29.0,32.0,34.0,41.0,44.0,8.0,20.0,34.0,19.0,23.0,33.0,37.0,25.0,26.0,35.0,37.0,38.0,39.0,25.0,30.0,9.0,48.0,50.0,28.0,15.0,28.0,47.0,48.0,50.0,9.0,25.0,14.0,16.0,19.0,48.0,50.0,15.0,19.0,23.0,27.0,32.0,38.0,42.0,9.0,24.0,13.0,35.0,38.0,42.0,13.0,36.0,40.0,13.0,44.0,8.0,20.0,23.0,27.0,32.0,37.0,41.0,9.0,30.0,3.0,0.0]},\"selected\":{\"id\":\"3927\"},\"selection_policy\":{\"id\":\"3928\"}},\"id\":\"3907\",\"type\":\"ColumnDataSource\"},{\"attributes\":{\"align\":\"center\",\"text\":\"664.924\",\"width\":800},\"id\":\"3896\",\"type\":\"Div\"},{\"attributes\":{\"fill_color\":{\"value\":\"steelblue\"},\"line_color\":{\"value\":\"steelblue\"},\"size\":{\"units\":\"screen\",\"value\":5},\"x\":{\"field\":\"x\"},\"y\":{\"field\":\"y\"}},\"id\":\"3908\",\"type\":\"Circle\"},{\"attributes\":{},\"id\":\"3923\",\"type\":\"Selection\"},{\"attributes\":{\"fill_alpha\":{\"value\":0.1},\"fill_color\":{\"value\":\"steelblue\"},\"line_alpha\":{\"value\":0.1},\"line_color\":{\"value\":\"steelblue\"},\"size\":{\"units\":\"screen\",\"value\":5},\"x\":{\"field\":\"x\"},\"y\":{\"field\":\"y\"}},\"id\":\"3909\",\"type\":\"Circle\"},{\"attributes\":{\"background_fill_color\":null,\"below\":[{\"id\":\"3873\"}],\"border_fill_color\":null,\"center\":[{\"id\":\"3876\"},{\"id\":\"3880\"}],\"left\":[{\"id\":\"3877\"}],\"outline_line_color\":null,\"plot_height\":400,\"plot_width\":800,\"renderers\":[{\"id\":\"3900\"},{\"id\":\"3905\"},{\"id\":\"3910\"},{\"id\":\"3915\"}],\"title\":{\"id\":\"3863\"},\"toolbar\":{\"id\":\"3888\"},\"toolbar_location\":null,\"x_range\":{\"id\":\"3865\"},\"x_scale\":{\"id\":\"3869\"},\"y_range\":{\"id\":\"3867\"},\"y_scale\":{\"id\":\"3871\"}},\"id\":\"3862\",\"subtype\":\"Figure\",\"type\":\"Plot\"},{\"attributes\":{\"data_source\":{\"id\":\"3907\"},\"glyph\":{\"id\":\"3908\"},\"hover_glyph\":null,\"muted_glyph\":null,\"nonselection_glyph\":{\"id\":\"3909\"},\"selection_glyph\":null,\"view\":{\"id\":\"3911\"}},\"id\":\"3910\",\"type\":\"GlyphRenderer\"},{\"attributes\":{},\"id\":\"3881\",\"type\":\"PanTool\"},{\"attributes\":{\"source\":{\"id\":\"3907\"}},\"id\":\"3911\",\"type\":\"CDSView\"},{\"attributes\":{\"source\":{\"id\":\"3897\"}},\"id\":\"3901\",\"type\":\"CDSView\"},{\"attributes\":{},\"id\":\"3882\",\"type\":\"WheelZoomTool\"},{\"attributes\":{\"data_source\":{\"id\":\"3897\"},\"glyph\":{\"id\":\"3898\"},\"hover_glyph\":null,\"muted_glyph\":null,\"nonselection_glyph\":{\"id\":\"3899\"},\"selection_glyph\":null,\"view\":{\"id\":\"3901\"}},\"id\":\"3900\",\"type\":\"GlyphRenderer\"},{\"attributes\":{\"overlay\":{\"id\":\"3887\"}},\"id\":\"3883\",\"type\":\"BoxZoomTool\"},{\"attributes\":{\"text\":\"\"},\"id\":\"3863\",\"type\":\"Title\"},{\"attributes\":{\"data\":{\"x\":[3,1,6,3,5,6,12,4,12,6,12,6,11,12,13,14,15,19,18,18,14,18,14,18,21,17,23,18,23,23,23,19,19,24,24,24,25,23,23,25,18,25,17,25,30,32,26,26,32,26,26,30,25,27,27,34,27,29,28,28,33,35,32,36,36,33,36,37,42,40,37,34,39,33,36,38,38,43,39,41,45,47,47,42,47,46,51,53,51,51,58,59,62,60,60,62,68,62,67,70,72,70,71,78,74,82,80,81,79,73,74,73,76,81,78,79,78,82,85,80,85,83,81,84,87,90,89,87,91,87,110,3,0],\"y\":[13,29,30,39,1,16,22,28,34,40,46,11,7,10,15,16,16,8,13,24,28,31,40,50,11,20,16,18,20,22,24,26,28,30,32,34,36,38,40,42,44,45,47,48,14,18,25,26,27,29,31,32,12,19,23,31,33,37,43,46,50,27,34,16,31,32,37,13,29,32,38,41,44,8,20,36,19,23,33,41,25,26,35,37,38,39,27,30,13,48,50,24,15,30,43,48,50,9,28,14,16,19,48,50,15,19,23,27,32,38,42,9,24,9,35,38,42,17,36,40,13,40,8,22,25,27,32,40,41,13,32,3,0]},\"selected\":{\"id\":\"3929\"},\"selection_policy\":{\"id\":\"3930\"}},\"id\":\"3912\",\"type\":\"ColumnDataSource\"},{\"attributes\":{},\"id\":\"3885\",\"type\":\"ResetTool\"},{\"attributes\":{\"end\":115.5,\"start\":-5.5},\"id\":\"3865\",\"type\":\"Range1d\"},{\"attributes\":{\"fill_color\":{\"value\":\"#DC0000\"},\"line_color\":{\"value\":\"#DC0000\"},\"size\":{\"units\":\"screen\",\"value\":5},\"x\":{\"field\":\"x\"},\"y\":{\"field\":\"y\"}},\"id\":\"3913\",\"type\":\"Circle\"},{\"attributes\":{},\"id\":\"3884\",\"type\":\"SaveTool\"},{\"attributes\":{\"fill_alpha\":{\"value\":0.1},\"fill_color\":{\"value\":\"#DC0000\"},\"line_alpha\":{\"value\":0.1},\"line_color\":{\"value\":\"#DC0000\"},\"size\":{\"units\":\"screen\",\"value\":5},\"x\":{\"field\":\"x\"},\"y\":{\"field\":\"y\"}},\"id\":\"3914\",\"type\":\"Circle\"},{\"attributes\":{\"data_source\":{\"id\":\"3912\"},\"glyph\":{\"id\":\"3913\"},\"hover_glyph\":null,\"muted_glyph\":null,\"nonselection_glyph\":{\"id\":\"3914\"},\"selection_glyph\":null,\"view\":{\"id\":\"3916\"}},\"id\":\"3915\",\"type\":\"GlyphRenderer\"},{\"attributes\":{\"source\":{\"id\":\"3912\"}},\"id\":\"3916\",\"type\":\"CDSView\"},{\"attributes\":{\"active_drag\":\"auto\",\"active_inspect\":\"auto\",\"active_multi\":null,\"active_scroll\":\"auto\",\"active_tap\":\"auto\",\"logo\":null,\"tools\":[{\"id\":\"3881\"},{\"id\":\"3882\"},{\"id\":\"3883\"},{\"id\":\"3884\"},{\"id\":\"3885\"},{\"id\":\"3886\"}]},\"id\":\"3888\",\"type\":\"Toolbar\"},{\"attributes\":{},\"id\":\"3924\",\"type\":\"UnionRenderers\"},{\"attributes\":{},\"id\":\"3869\",\"type\":\"LinearScale\"},{\"attributes\":{},\"id\":\"3886\",\"type\":\"HelpTool\"},{\"attributes\":{\"axis\":{\"id\":\"3873\"},\"grid_line_color\":null,\"ticker\":null},\"id\":\"3876\",\"type\":\"Grid\"},{\"attributes\":{\"end\":52.5,\"start\":-2.5},\"id\":\"3867\",\"type\":\"Range1d\"},{\"attributes\":{\"bottom_units\":\"screen\",\"fill_alpha\":0.5,\"fill_color\":\"lightgrey\",\"left_units\":\"screen\",\"level\":\"overlay\",\"line_alpha\":1.0,\"line_color\":\"black\",\"line_dash\":[4,4],\"line_width\":2,\"right_units\":\"screen\",\"top_units\":\"screen\"},\"id\":\"3887\",\"type\":\"BoxAnnotation\"},{\"attributes\":{},\"id\":\"3874\",\"type\":\"BasicTicker\"},{\"attributes\":{},\"id\":\"3920\",\"type\":\"BasicTickFormatter\"},{\"attributes\":{},\"id\":\"3922\",\"type\":\"BasicTickFormatter\"},{\"attributes\":{\"formatter\":{\"id\":\"3920\"},\"ticker\":{\"id\":\"3874\"},\"visible\":false},\"id\":\"3873\",\"type\":\"LinearAxis\"},{\"attributes\":{\"line_alpha\":{\"value\":0.1},\"line_width\":{\"value\":2},\"xs\":{\"field\":\"xs\"},\"ys\":{\"field\":\"ys\"}},\"id\":\"3899\",\"type\":\"MultiLine\"},{\"attributes\":{\"formatter\":{\"id\":\"3922\"},\"ticker\":{\"id\":\"3878\"},\"visible\":false},\"id\":\"3877\",\"type\":\"LinearAxis\"}],\"root_ids\":[\"3933\"]},\"title\":\"Bokeh Application\",\"version\":\"2.1.0\"}};\n",
       "  var render_items = [{\"docid\":\"dabcb974-a313-4639-b436-0c0d8496705d\",\"root_ids\":[\"3933\"],\"roots\":{\"3933\":\"35a53648-9604-48ae-a56a-b17c11b5e937\"}}];\n",
       "  root.Bokeh.embed.embed_items_notebook(docs_json, render_items);\n",
       "\n",
       "  }\n",
       "  if (root.Bokeh !== undefined) {\n",
       "    embed_document(root);\n",
       "  } else {\n",
       "    var attempts = 0;\n",
       "    var timer = setInterval(function(root) {\n",
       "      if (root.Bokeh !== undefined) {\n",
       "        clearInterval(timer);\n",
       "        embed_document(root);\n",
       "      } else {\n",
       "        attempts++;\n",
       "        if (attempts > 100) {\n",
       "          clearInterval(timer);\n",
       "          console.log(\"Bokeh: ERROR: Unable to run BokehJS code because BokehJS library is missing\");\n",
       "        }\n",
       "      }\n",
       "    }, 10, root)\n",
       "  }\n",
       "})(window);"
      ],
      "application/vnd.bokehjs_exec.v0+json": ""
     },
     "metadata": {
      "application/vnd.bokehjs_exec.v0+json": {
       "id": "3933"
      }
     },
     "output_type": "display_data"
    }
   ],
   "source": [
    "nodes = pd.read_csv('data/xqf131_etching.csv', index_col=0)\n",
    "G = create_vlsi_G(nodes, manhattan=False)\n",
    "plot_vlsi_tour(nodes,G, [], labels=False)\n",
    "plot_vlsi_tour(nodes,G, nearest_neighbor(G), labels=False)\n",
    "plot_vlsi_tour(nodes,G, nearest_insertion(G), labels=False)\n",
    "plot_vlsi_tour(nodes,G, solve_tsp(G), labels=False)"
   ]
  }
 ],
 "metadata": {
  "kernelspec": {
   "display_name": "Python 3",
   "language": "python",
   "name": "python3"
  },
  "language_info": {
   "codemirror_mode": {
    "name": "ipython",
    "version": 3
   },
   "file_extension": ".py",
   "mimetype": "text/x-python",
   "name": "python",
   "nbconvert_exporter": "python",
   "pygments_lexer": "ipython3",
   "version": "3.6.10"
  }
 },
 "nbformat": 4,
 "nbformat_minor": 4
}
