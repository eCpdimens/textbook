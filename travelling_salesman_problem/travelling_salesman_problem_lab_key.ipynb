{
 "cells": [
  {
   "cell_type": "markdown",
   "metadata": {},
   "source": [
    "# Traveling Salesman Problem (TSP)"
   ]
  },
  {
   "cell_type": "markdown",
   "metadata": {},
   "source": [
    "**Objectives**\n",
    "\n",
    "- Introduce students to a real world problem solved by OR practitioners\n",
    "- Demonstrate the use of heuristics to obtain good solutions to optimization problems\n",
    "- Give students an appreciation of the difficulty of solving optimization problems exactly\n",
    "\n",
    "**Reading:** Read Handout 2 on the traveling salesman problem.\n",
    "\n",
    "**Brief description:** Finding an optimal solution to a Traveling Salesman Problem, and proving that it is, in fact, an optimal solution, is a difficult task. In practice, when a feasible solution to a difficult problem needs to be provided quickly, one often resorts to using heuristics, i.e., procedures for generating feasible solutions, or improving existing ones, that can be executed quickly and, hopefully, produce a pretty good result. In this lab we will consider several such heuristic procedures for the TSP.\n",
    "\n",
    "*TSP VLSI instances adapted from [TSPLIB](http://comopt.ifi.uni-heidelberg.de/software/TSPLIB95/) and [Bonn Institute](http://www.math.uwaterloo.ca/tsp/vlsi/index.html)*\n",
    "\n",
    "<font color='blue'> <b>Solutions are shown blue.</b> </font> <br>\n",
    "<font color='red'> <b>Instuctor comments are shown in red.</b> </font>"
   ]
  },
  {
   "cell_type": "markdown",
   "metadata": {},
   "source": [
    "<font color='red'>A tool we might want to use: [TSP DIY](https://www.math.uwaterloo.ca/tsp/app/diy.html)  </font>"
   ]
  },
  {
   "cell_type": "markdown",
   "metadata": {},
   "source": [
    "<font color='red'> Some explanation of what imports are here.</font>"
   ]
  },
  {
   "cell_type": "code",
   "execution_count": 1,
   "metadata": {},
   "outputs": [
    {
     "data": {
      "text/html": [
       "\n",
       "    <div class=\"bk-root\">\n",
       "        <a href=\"https://bokeh.org\" target=\"_blank\" class=\"bk-logo bk-logo-small bk-logo-notebook\"></a>\n",
       "        <span id=\"1001\">Loading BokehJS ...</span>\n",
       "    </div>"
      ]
     },
     "metadata": {},
     "output_type": "display_data"
    },
    {
     "data": {
      "application/javascript": [
       "\n",
       "(function(root) {\n",
       "  function now() {\n",
       "    return new Date();\n",
       "  }\n",
       "\n",
       "  var force = true;\n",
       "\n",
       "  if (typeof root._bokeh_onload_callbacks === \"undefined\" || force === true) {\n",
       "    root._bokeh_onload_callbacks = [];\n",
       "    root._bokeh_is_loading = undefined;\n",
       "  }\n",
       "\n",
       "  var JS_MIME_TYPE = 'application/javascript';\n",
       "  var HTML_MIME_TYPE = 'text/html';\n",
       "  var EXEC_MIME_TYPE = 'application/vnd.bokehjs_exec.v0+json';\n",
       "  var CLASS_NAME = 'output_bokeh rendered_html';\n",
       "\n",
       "  /**\n",
       "   * Render data to the DOM node\n",
       "   */\n",
       "  function render(props, node) {\n",
       "    var script = document.createElement(\"script\");\n",
       "    node.appendChild(script);\n",
       "  }\n",
       "\n",
       "  /**\n",
       "   * Handle when an output is cleared or removed\n",
       "   */\n",
       "  function handleClearOutput(event, handle) {\n",
       "    var cell = handle.cell;\n",
       "\n",
       "    var id = cell.output_area._bokeh_element_id;\n",
       "    var server_id = cell.output_area._bokeh_server_id;\n",
       "    // Clean up Bokeh references\n",
       "    if (id != null && id in Bokeh.index) {\n",
       "      Bokeh.index[id].model.document.clear();\n",
       "      delete Bokeh.index[id];\n",
       "    }\n",
       "\n",
       "    if (server_id !== undefined) {\n",
       "      // Clean up Bokeh references\n",
       "      var cmd = \"from bokeh.io.state import curstate; print(curstate().uuid_to_server['\" + server_id + \"'].get_sessions()[0].document.roots[0]._id)\";\n",
       "      cell.notebook.kernel.execute(cmd, {\n",
       "        iopub: {\n",
       "          output: function(msg) {\n",
       "            var id = msg.content.text.trim();\n",
       "            if (id in Bokeh.index) {\n",
       "              Bokeh.index[id].model.document.clear();\n",
       "              delete Bokeh.index[id];\n",
       "            }\n",
       "          }\n",
       "        }\n",
       "      });\n",
       "      // Destroy server and session\n",
       "      var cmd = \"import bokeh.io.notebook as ion; ion.destroy_server('\" + server_id + \"')\";\n",
       "      cell.notebook.kernel.execute(cmd);\n",
       "    }\n",
       "  }\n",
       "\n",
       "  /**\n",
       "   * Handle when a new output is added\n",
       "   */\n",
       "  function handleAddOutput(event, handle) {\n",
       "    var output_area = handle.output_area;\n",
       "    var output = handle.output;\n",
       "\n",
       "    // limit handleAddOutput to display_data with EXEC_MIME_TYPE content only\n",
       "    if ((output.output_type != \"display_data\") || (!output.data.hasOwnProperty(EXEC_MIME_TYPE))) {\n",
       "      return\n",
       "    }\n",
       "\n",
       "    var toinsert = output_area.element.find(\".\" + CLASS_NAME.split(' ')[0]);\n",
       "\n",
       "    if (output.metadata[EXEC_MIME_TYPE][\"id\"] !== undefined) {\n",
       "      toinsert[toinsert.length - 1].firstChild.textContent = output.data[JS_MIME_TYPE];\n",
       "      // store reference to embed id on output_area\n",
       "      output_area._bokeh_element_id = output.metadata[EXEC_MIME_TYPE][\"id\"];\n",
       "    }\n",
       "    if (output.metadata[EXEC_MIME_TYPE][\"server_id\"] !== undefined) {\n",
       "      var bk_div = document.createElement(\"div\");\n",
       "      bk_div.innerHTML = output.data[HTML_MIME_TYPE];\n",
       "      var script_attrs = bk_div.children[0].attributes;\n",
       "      for (var i = 0; i < script_attrs.length; i++) {\n",
       "        toinsert[toinsert.length - 1].firstChild.setAttribute(script_attrs[i].name, script_attrs[i].value);\n",
       "        toinsert[toinsert.length - 1].firstChild.textContent = bk_div.children[0].textContent\n",
       "      }\n",
       "      // store reference to server id on output_area\n",
       "      output_area._bokeh_server_id = output.metadata[EXEC_MIME_TYPE][\"server_id\"];\n",
       "    }\n",
       "  }\n",
       "\n",
       "  function register_renderer(events, OutputArea) {\n",
       "\n",
       "    function append_mime(data, metadata, element) {\n",
       "      // create a DOM node to render to\n",
       "      var toinsert = this.create_output_subarea(\n",
       "        metadata,\n",
       "        CLASS_NAME,\n",
       "        EXEC_MIME_TYPE\n",
       "      );\n",
       "      this.keyboard_manager.register_events(toinsert);\n",
       "      // Render to node\n",
       "      var props = {data: data, metadata: metadata[EXEC_MIME_TYPE]};\n",
       "      render(props, toinsert[toinsert.length - 1]);\n",
       "      element.append(toinsert);\n",
       "      return toinsert\n",
       "    }\n",
       "\n",
       "    /* Handle when an output is cleared or removed */\n",
       "    events.on('clear_output.CodeCell', handleClearOutput);\n",
       "    events.on('delete.Cell', handleClearOutput);\n",
       "\n",
       "    /* Handle when a new output is added */\n",
       "    events.on('output_added.OutputArea', handleAddOutput);\n",
       "\n",
       "    /**\n",
       "     * Register the mime type and append_mime function with output_area\n",
       "     */\n",
       "    OutputArea.prototype.register_mime_type(EXEC_MIME_TYPE, append_mime, {\n",
       "      /* Is output safe? */\n",
       "      safe: true,\n",
       "      /* Index of renderer in `output_area.display_order` */\n",
       "      index: 0\n",
       "    });\n",
       "  }\n",
       "\n",
       "  // register the mime type if in Jupyter Notebook environment and previously unregistered\n",
       "  if (root.Jupyter !== undefined) {\n",
       "    var events = require('base/js/events');\n",
       "    var OutputArea = require('notebook/js/outputarea').OutputArea;\n",
       "\n",
       "    if (OutputArea.prototype.mime_types().indexOf(EXEC_MIME_TYPE) == -1) {\n",
       "      register_renderer(events, OutputArea);\n",
       "    }\n",
       "  }\n",
       "\n",
       "  \n",
       "  if (typeof (root._bokeh_timeout) === \"undefined\" || force === true) {\n",
       "    root._bokeh_timeout = Date.now() + 5000;\n",
       "    root._bokeh_failed_load = false;\n",
       "  }\n",
       "\n",
       "  var NB_LOAD_WARNING = {'data': {'text/html':\n",
       "     \"<div style='background-color: #fdd'>\\n\"+\n",
       "     \"<p>\\n\"+\n",
       "     \"BokehJS does not appear to have successfully loaded. If loading BokehJS from CDN, this \\n\"+\n",
       "     \"may be due to a slow or bad network connection. Possible fixes:\\n\"+\n",
       "     \"</p>\\n\"+\n",
       "     \"<ul>\\n\"+\n",
       "     \"<li>re-rerun `output_notebook()` to attempt to load from CDN again, or</li>\\n\"+\n",
       "     \"<li>use INLINE resources instead, as so:</li>\\n\"+\n",
       "     \"</ul>\\n\"+\n",
       "     \"<code>\\n\"+\n",
       "     \"from bokeh.resources import INLINE\\n\"+\n",
       "     \"output_notebook(resources=INLINE)\\n\"+\n",
       "     \"</code>\\n\"+\n",
       "     \"</div>\"}};\n",
       "\n",
       "  function display_loaded() {\n",
       "    var el = document.getElementById(\"1001\");\n",
       "    if (el != null) {\n",
       "      el.textContent = \"BokehJS is loading...\";\n",
       "    }\n",
       "    if (root.Bokeh !== undefined) {\n",
       "      if (el != null) {\n",
       "        el.textContent = \"BokehJS \" + root.Bokeh.version + \" successfully loaded.\";\n",
       "      }\n",
       "    } else if (Date.now() < root._bokeh_timeout) {\n",
       "      setTimeout(display_loaded, 100)\n",
       "    }\n",
       "  }\n",
       "\n",
       "\n",
       "  function run_callbacks() {\n",
       "    try {\n",
       "      root._bokeh_onload_callbacks.forEach(function(callback) {\n",
       "        if (callback != null)\n",
       "          callback();\n",
       "      });\n",
       "    } finally {\n",
       "      delete root._bokeh_onload_callbacks\n",
       "    }\n",
       "    console.debug(\"Bokeh: all callbacks have finished\");\n",
       "  }\n",
       "\n",
       "  function load_libs(css_urls, js_urls, callback) {\n",
       "    if (css_urls == null) css_urls = [];\n",
       "    if (js_urls == null) js_urls = [];\n",
       "\n",
       "    root._bokeh_onload_callbacks.push(callback);\n",
       "    if (root._bokeh_is_loading > 0) {\n",
       "      console.debug(\"Bokeh: BokehJS is being loaded, scheduling callback at\", now());\n",
       "      return null;\n",
       "    }\n",
       "    if (js_urls == null || js_urls.length === 0) {\n",
       "      run_callbacks();\n",
       "      return null;\n",
       "    }\n",
       "    console.debug(\"Bokeh: BokehJS not loaded, scheduling load and callback at\", now());\n",
       "    root._bokeh_is_loading = css_urls.length + js_urls.length;\n",
       "\n",
       "    function on_load() {\n",
       "      root._bokeh_is_loading--;\n",
       "      if (root._bokeh_is_loading === 0) {\n",
       "        console.debug(\"Bokeh: all BokehJS libraries/stylesheets loaded\");\n",
       "        run_callbacks()\n",
       "      }\n",
       "    }\n",
       "\n",
       "    function on_error() {\n",
       "      console.error(\"failed to load \" + url);\n",
       "    }\n",
       "\n",
       "    for (var i = 0; i < css_urls.length; i++) {\n",
       "      var url = css_urls[i];\n",
       "      const element = document.createElement(\"link\");\n",
       "      element.onload = on_load;\n",
       "      element.onerror = on_error;\n",
       "      element.rel = \"stylesheet\";\n",
       "      element.type = \"text/css\";\n",
       "      element.href = url;\n",
       "      console.debug(\"Bokeh: injecting link tag for BokehJS stylesheet: \", url);\n",
       "      document.body.appendChild(element);\n",
       "    }\n",
       "\n",
       "    const hashes = {\"https://cdn.bokeh.org/bokeh/release/bokeh-2.1.0.min.js\": \"YobFyzPeVUsFQydHkJGsJL1kyfHnWxOlPc3EwaV22TmBaeGoXHLWx5aRRVPS9xlE\", \"https://cdn.bokeh.org/bokeh/release/bokeh-widgets-2.1.0.min.js\": \"NuAg9+TcTQQqvQCTtkCneRrpkTiMhhfiq0KHiBzx8ECiKiLWXHN6i6ia3q7b3eHu\", \"https://cdn.bokeh.org/bokeh/release/bokeh-tables-2.1.0.min.js\": \"uMVqQc8JqHitD67bXTn9a06Mrk3EiHRaZ18EJENQenAKJ/KL71SakdXYomZQpGRr\", \"https://cdn.bokeh.org/bokeh/release/bokeh-gl-2.1.0.min.js\": \"u+eGuEXC8aw0VSCm2mH+b/tQEAitUOYiR1H6SuIVEdUmXsf4vN8m/SmXpmjb7U/X\"};\n",
       "\n",
       "    for (var i = 0; i < js_urls.length; i++) {\n",
       "      var url = js_urls[i];\n",
       "      var element = document.createElement('script');\n",
       "      element.onload = on_load;\n",
       "      element.onerror = on_error;\n",
       "      element.async = false;\n",
       "      element.src = url;\n",
       "      if (url in hashes) {\n",
       "        element.crossOrigin = \"anonymous\";\n",
       "        element.integrity = \"sha384-\" + hashes[url];\n",
       "      }\n",
       "      console.debug(\"Bokeh: injecting script tag for BokehJS library: \", url);\n",
       "      document.head.appendChild(element);\n",
       "    }\n",
       "  };\n",
       "\n",
       "  function inject_raw_css(css) {\n",
       "    const element = document.createElement(\"style\");\n",
       "    element.appendChild(document.createTextNode(css));\n",
       "    document.body.appendChild(element);\n",
       "  }\n",
       "\n",
       "  \n",
       "  var js_urls = [\"https://cdn.bokeh.org/bokeh/release/bokeh-2.1.0.min.js\", \"https://cdn.bokeh.org/bokeh/release/bokeh-widgets-2.1.0.min.js\", \"https://cdn.bokeh.org/bokeh/release/bokeh-tables-2.1.0.min.js\", \"https://cdn.bokeh.org/bokeh/release/bokeh-gl-2.1.0.min.js\"];\n",
       "  var css_urls = [];\n",
       "  \n",
       "\n",
       "  var inline_js = [\n",
       "    function(Bokeh) {\n",
       "      Bokeh.set_log_level(\"info\");\n",
       "    },\n",
       "    function(Bokeh) {\n",
       "    \n",
       "    \n",
       "    }\n",
       "  ];\n",
       "\n",
       "  function run_inline_js() {\n",
       "    \n",
       "    if (root.Bokeh !== undefined || force === true) {\n",
       "      \n",
       "    for (var i = 0; i < inline_js.length; i++) {\n",
       "      inline_js[i].call(root, root.Bokeh);\n",
       "    }\n",
       "    if (force === true) {\n",
       "        display_loaded();\n",
       "      }} else if (Date.now() < root._bokeh_timeout) {\n",
       "      setTimeout(run_inline_js, 100);\n",
       "    } else if (!root._bokeh_failed_load) {\n",
       "      console.log(\"Bokeh: BokehJS failed to load within specified timeout.\");\n",
       "      root._bokeh_failed_load = true;\n",
       "    } else if (force !== true) {\n",
       "      var cell = $(document.getElementById(\"1001\")).parents('.cell').data().cell;\n",
       "      cell.output_area.append_execute_result(NB_LOAD_WARNING)\n",
       "    }\n",
       "\n",
       "  }\n",
       "\n",
       "  if (root._bokeh_is_loading === 0) {\n",
       "    console.debug(\"Bokeh: BokehJS loaded, going straight to plotting\");\n",
       "    run_inline_js();\n",
       "  } else {\n",
       "    load_libs(css_urls, js_urls, function() {\n",
       "      console.debug(\"Bokeh: BokehJS plotting callback run at\", now());\n",
       "      run_inline_js();\n",
       "    });\n",
       "  }\n",
       "}(window));"
      ],
      "application/vnd.bokehjs_load.v0+json": "\n(function(root) {\n  function now() {\n    return new Date();\n  }\n\n  var force = true;\n\n  if (typeof root._bokeh_onload_callbacks === \"undefined\" || force === true) {\n    root._bokeh_onload_callbacks = [];\n    root._bokeh_is_loading = undefined;\n  }\n\n  \n\n  \n  if (typeof (root._bokeh_timeout) === \"undefined\" || force === true) {\n    root._bokeh_timeout = Date.now() + 5000;\n    root._bokeh_failed_load = false;\n  }\n\n  var NB_LOAD_WARNING = {'data': {'text/html':\n     \"<div style='background-color: #fdd'>\\n\"+\n     \"<p>\\n\"+\n     \"BokehJS does not appear to have successfully loaded. If loading BokehJS from CDN, this \\n\"+\n     \"may be due to a slow or bad network connection. Possible fixes:\\n\"+\n     \"</p>\\n\"+\n     \"<ul>\\n\"+\n     \"<li>re-rerun `output_notebook()` to attempt to load from CDN again, or</li>\\n\"+\n     \"<li>use INLINE resources instead, as so:</li>\\n\"+\n     \"</ul>\\n\"+\n     \"<code>\\n\"+\n     \"from bokeh.resources import INLINE\\n\"+\n     \"output_notebook(resources=INLINE)\\n\"+\n     \"</code>\\n\"+\n     \"</div>\"}};\n\n  function display_loaded() {\n    var el = document.getElementById(\"1001\");\n    if (el != null) {\n      el.textContent = \"BokehJS is loading...\";\n    }\n    if (root.Bokeh !== undefined) {\n      if (el != null) {\n        el.textContent = \"BokehJS \" + root.Bokeh.version + \" successfully loaded.\";\n      }\n    } else if (Date.now() < root._bokeh_timeout) {\n      setTimeout(display_loaded, 100)\n    }\n  }\n\n\n  function run_callbacks() {\n    try {\n      root._bokeh_onload_callbacks.forEach(function(callback) {\n        if (callback != null)\n          callback();\n      });\n    } finally {\n      delete root._bokeh_onload_callbacks\n    }\n    console.debug(\"Bokeh: all callbacks have finished\");\n  }\n\n  function load_libs(css_urls, js_urls, callback) {\n    if (css_urls == null) css_urls = [];\n    if (js_urls == null) js_urls = [];\n\n    root._bokeh_onload_callbacks.push(callback);\n    if (root._bokeh_is_loading > 0) {\n      console.debug(\"Bokeh: BokehJS is being loaded, scheduling callback at\", now());\n      return null;\n    }\n    if (js_urls == null || js_urls.length === 0) {\n      run_callbacks();\n      return null;\n    }\n    console.debug(\"Bokeh: BokehJS not loaded, scheduling load and callback at\", now());\n    root._bokeh_is_loading = css_urls.length + js_urls.length;\n\n    function on_load() {\n      root._bokeh_is_loading--;\n      if (root._bokeh_is_loading === 0) {\n        console.debug(\"Bokeh: all BokehJS libraries/stylesheets loaded\");\n        run_callbacks()\n      }\n    }\n\n    function on_error() {\n      console.error(\"failed to load \" + url);\n    }\n\n    for (var i = 0; i < css_urls.length; i++) {\n      var url = css_urls[i];\n      const element = document.createElement(\"link\");\n      element.onload = on_load;\n      element.onerror = on_error;\n      element.rel = \"stylesheet\";\n      element.type = \"text/css\";\n      element.href = url;\n      console.debug(\"Bokeh: injecting link tag for BokehJS stylesheet: \", url);\n      document.body.appendChild(element);\n    }\n\n    const hashes = {\"https://cdn.bokeh.org/bokeh/release/bokeh-2.1.0.min.js\": \"YobFyzPeVUsFQydHkJGsJL1kyfHnWxOlPc3EwaV22TmBaeGoXHLWx5aRRVPS9xlE\", \"https://cdn.bokeh.org/bokeh/release/bokeh-widgets-2.1.0.min.js\": \"NuAg9+TcTQQqvQCTtkCneRrpkTiMhhfiq0KHiBzx8ECiKiLWXHN6i6ia3q7b3eHu\", \"https://cdn.bokeh.org/bokeh/release/bokeh-tables-2.1.0.min.js\": \"uMVqQc8JqHitD67bXTn9a06Mrk3EiHRaZ18EJENQenAKJ/KL71SakdXYomZQpGRr\", \"https://cdn.bokeh.org/bokeh/release/bokeh-gl-2.1.0.min.js\": \"u+eGuEXC8aw0VSCm2mH+b/tQEAitUOYiR1H6SuIVEdUmXsf4vN8m/SmXpmjb7U/X\"};\n\n    for (var i = 0; i < js_urls.length; i++) {\n      var url = js_urls[i];\n      var element = document.createElement('script');\n      element.onload = on_load;\n      element.onerror = on_error;\n      element.async = false;\n      element.src = url;\n      if (url in hashes) {\n        element.crossOrigin = \"anonymous\";\n        element.integrity = \"sha384-\" + hashes[url];\n      }\n      console.debug(\"Bokeh: injecting script tag for BokehJS library: \", url);\n      document.head.appendChild(element);\n    }\n  };\n\n  function inject_raw_css(css) {\n    const element = document.createElement(\"style\");\n    element.appendChild(document.createTextNode(css));\n    document.body.appendChild(element);\n  }\n\n  \n  var js_urls = [\"https://cdn.bokeh.org/bokeh/release/bokeh-2.1.0.min.js\", \"https://cdn.bokeh.org/bokeh/release/bokeh-widgets-2.1.0.min.js\", \"https://cdn.bokeh.org/bokeh/release/bokeh-tables-2.1.0.min.js\", \"https://cdn.bokeh.org/bokeh/release/bokeh-gl-2.1.0.min.js\"];\n  var css_urls = [];\n  \n\n  var inline_js = [\n    function(Bokeh) {\n      Bokeh.set_log_level(\"info\");\n    },\n    function(Bokeh) {\n    \n    \n    }\n  ];\n\n  function run_inline_js() {\n    \n    if (root.Bokeh !== undefined || force === true) {\n      \n    for (var i = 0; i < inline_js.length; i++) {\n      inline_js[i].call(root, root.Bokeh);\n    }\n    if (force === true) {\n        display_loaded();\n      }} else if (Date.now() < root._bokeh_timeout) {\n      setTimeout(run_inline_js, 100);\n    } else if (!root._bokeh_failed_load) {\n      console.log(\"Bokeh: BokehJS failed to load within specified timeout.\");\n      root._bokeh_failed_load = true;\n    } else if (force !== true) {\n      var cell = $(document.getElementById(\"1001\")).parents('.cell').data().cell;\n      cell.output_area.append_execute_result(NB_LOAD_WARNING)\n    }\n\n  }\n\n  if (root._bokeh_is_loading === 0) {\n    console.debug(\"Bokeh: BokehJS loaded, going straight to plotting\");\n    run_inline_js();\n  } else {\n    load_libs(css_urls, js_urls, function() {\n      console.debug(\"Bokeh: BokehJS plotting callback run at\", now());\n      run_inline_js();\n    });\n  }\n}(window));"
     },
     "metadata": {},
     "output_type": "display_data"
    }
   ],
   "source": [
    "# imports -- don't forget to run this cell\n",
    "from tsp import *\n",
    "from bokeh.io import output_notebook\n",
    "output_notebook()"
   ]
  },
  {
   "cell_type": "code",
   "execution_count": 2,
   "metadata": {},
   "outputs": [
    {
     "data": {
      "text/html": [
       "\n",
       "\n",
       "\n",
       "\n",
       "\n",
       "\n",
       "  <div class=\"bk-root\" id=\"ddfc737c-ff96-4ea4-8c3f-bdc4b30b24a5\" data-root-id=\"1058\"></div>\n"
      ]
     },
     "metadata": {},
     "output_type": "display_data"
    },
    {
     "data": {
      "application/javascript": [
       "(function(root) {\n",
       "  function embed_document(root) {\n",
       "    \n",
       "  var docs_json = {\"37badb85-09a3-43ad-b1d6-ec3aa4009217\":{\"roots\":{\"references\":[{\"attributes\":{\"children\":[[{\"id\":\"1002\"},0,0],[{\"id\":\"1036\"},1,0]]},\"id\":\"1058\",\"type\":\"GridBox\"},{\"attributes\":{},\"id\":\"1025\",\"type\":\"ResetTool\"},{\"attributes\":{\"end\":14.7,\"start\":-0.7000000000000001},\"id\":\"1005\",\"type\":\"Range1d\"},{\"attributes\":{},\"id\":\"1026\",\"type\":\"HelpTool\"},{\"attributes\":{},\"id\":\"1055\",\"type\":\"Selection\"},{\"attributes\":{},\"id\":\"1011\",\"type\":\"LinearScale\"},{\"attributes\":{},\"id\":\"1054\",\"type\":\"UnionRenderers\"},{\"attributes\":{\"formatter\":{\"id\":\"1048\"},\"ticker\":{\"id\":\"1014\"},\"visible\":false},\"id\":\"1013\",\"type\":\"LinearAxis\"},{\"attributes\":{},\"id\":\"1056\",\"type\":\"UnionRenderers\"},{\"attributes\":{\"active_drag\":\"auto\",\"active_inspect\":\"auto\",\"active_multi\":null,\"active_scroll\":\"auto\",\"active_tap\":\"auto\",\"logo\":null,\"tools\":[{\"id\":\"1021\"},{\"id\":\"1022\"},{\"id\":\"1023\"},{\"id\":\"1024\"},{\"id\":\"1025\"},{\"id\":\"1026\"}]},\"id\":\"1028\",\"type\":\"Toolbar\"},{\"attributes\":{\"background_fill_color\":null,\"below\":[{\"id\":\"1013\"}],\"border_fill_color\":null,\"center\":[{\"id\":\"1016\"},{\"id\":\"1020\"}],\"left\":[{\"id\":\"1017\"}],\"outline_line_color\":null,\"plot_height\":400,\"plot_width\":400,\"renderers\":[{\"id\":\"1040\"},{\"id\":\"1045\"}],\"title\":{\"id\":\"1003\"},\"toolbar\":{\"id\":\"1028\"},\"toolbar_location\":null,\"x_range\":{\"id\":\"1005\"},\"x_scale\":{\"id\":\"1009\"},\"y_range\":{\"id\":\"1007\"},\"y_scale\":{\"id\":\"1011\"}},\"id\":\"1002\",\"subtype\":\"Figure\",\"type\":\"Plot\"},{\"attributes\":{\"end\":14.7,\"start\":-0.7000000000000001},\"id\":\"1007\",\"type\":\"Range1d\"},{\"attributes\":{},\"id\":\"1050\",\"type\":\"BasicTickFormatter\"},{\"attributes\":{\"text\":\"\"},\"id\":\"1003\",\"type\":\"Title\"},{\"attributes\":{},\"id\":\"1053\",\"type\":\"Selection\"},{\"attributes\":{},\"id\":\"1009\",\"type\":\"LinearScale\"},{\"attributes\":{},\"id\":\"1048\",\"type\":\"BasicTickFormatter\"},{\"attributes\":{},\"id\":\"1014\",\"type\":\"BasicTicker\"},{\"attributes\":{\"bottom_units\":\"screen\",\"fill_alpha\":0.5,\"fill_color\":\"lightgrey\",\"left_units\":\"screen\",\"level\":\"overlay\",\"line_alpha\":1.0,\"line_color\":\"black\",\"line_dash\":[4,4],\"line_width\":2,\"right_units\":\"screen\",\"top_units\":\"screen\"},\"id\":\"1027\",\"type\":\"BoxAnnotation\"},{\"attributes\":{\"axis\":{\"id\":\"1013\"},\"grid_line_color\":null,\"ticker\":null},\"id\":\"1016\",\"type\":\"Grid\"},{\"attributes\":{\"formatter\":{\"id\":\"1050\"},\"ticker\":{\"id\":\"1018\"},\"visible\":false},\"id\":\"1017\",\"type\":\"LinearAxis\"},{\"attributes\":{},\"id\":\"1018\",\"type\":\"BasicTicker\"},{\"attributes\":{\"source\":{\"id\":\"1037\"}},\"id\":\"1041\",\"type\":\"CDSView\"},{\"attributes\":{\"data_source\":{\"id\":\"1037\"},\"glyph\":{\"id\":\"1038\"},\"hover_glyph\":null,\"muted_glyph\":null,\"nonselection_glyph\":{\"id\":\"1039\"},\"selection_glyph\":null,\"view\":{\"id\":\"1041\"}},\"id\":\"1040\",\"type\":\"GlyphRenderer\"},{\"attributes\":{\"axis\":{\"id\":\"1017\"},\"dimension\":1,\"grid_line_color\":null,\"ticker\":null},\"id\":\"1020\",\"type\":\"Grid\"},{\"attributes\":{\"line_alpha\":0.1,\"line_width\":4,\"x\":{\"field\":\"x\"},\"y\":{\"field\":\"y\"}},\"id\":\"1039\",\"type\":\"Line\"},{\"attributes\":{\"line_width\":4,\"x\":{\"field\":\"x\"},\"y\":{\"field\":\"y\"}},\"id\":\"1038\",\"type\":\"Line\"},{\"attributes\":{\"data\":{\"x\":[0.0,0.0,1.0,2.0,2.0,1.0,0.0,0.0,1.0,2.0,3.0,3.0,2.0,2.0,1.0,1.0,2.0,2.0,2.0,3.0,3.0,2.0,2.0,1.0,1.0,1.0,1.0,1.0,2.0,3.0,3.0,2.0,2.0,2.0,3.0,4.0,5.0,6.0,6.0,6.0,5.0,5.0,4.0,4.0,4.0,5.0,6.0,6.0,7.0,8.0,8.0,7.0,6.0,5.0,4.0,4.0,5.0,5.0,6.0,7.0,7.0,8.0,8.0,9.0,9.0,9.0,8.0,7.0,7.0,6.0,5.0,5.0,5.0,6.0,6.0,7.0,8.0,10.0,10.0,11.0,11.0,12.0,13.0,13.0,14.0,14.0,13.0,12.0,12.0,11.0,10.0,9.0,9.0,9.0,10.0,10.0,9.0,9.0,9.0,8.0,8.0,8.0,8.0,8.0,8.0,8.0,7.0,7.0,6.0,5.0,5.0,4.0,4.0,4.0,5.0,6.0,7.0,7.0,7.0,7.0,7.0,5.0,4.0,3.0,3.0,3.0,4.0,4.0,4.0,3.0,3.0,4.0,4.0,3.0,2.0,1.0,5.0,6.0,10.0,11.0,12.0,13.0,14.0,14.0,14.0,14.0,14.0,13.0,13.0,12.0,11.0,11.0,12.0,13.0,12.0,11.0,11.0,10.0,10.0,10.0,10.0,11.0,11.0,10.0,9.0,9.0,10.0,10.0,9.0,9.0,10.0,11.0,12.0,12.0,11.0,11.0,12.0,13.0,13.0,13.0,14.0,14.0,13.0,12.0,12.0,12.0,14.0,14.0,14.0,13.0,13.0,14.0,11.0,11.0,12.0,12.0,13.0,13.0,14.0,14.0,10.0,8.0,8.0,7.0,6.0,9.0,9.0,6.0,3.0,3.0,1.0,1.0,0.0,0.0,0.0,0.0,0.0,0.0,0.0,0.0,1.0,0.0,0.0,0.0,1.0,0.0],\"y\":[0.0,1.0,1.0,1.0,2.0,2.0,2.0,3.0,3.0,3.0,3.0,4.0,4.0,5.0,5.0,6.0,6.0,7.0,8.0,8.0,9.0,9.0,10.0,10.0,11.0,12.0,13.0,14.0,14.0,14.0,13.0,13.0,12.0,11.0,11.0,11.0,11.0,11.0,10.0,9.0,9.0,10.0,10.0,9.0,8.0,8.0,8.0,7.0,7.0,7.0,6.0,6.0,6.0,6.0,6.0,5.0,5.0,4.0,4.0,4.0,3.0,3.0,2.0,2.0,1.0,0.0,0.0,0.0,1.0,1.0,1.0,2.0,3.0,3.0,2.0,2.0,1.0,1.0,2.0,2.0,1.0,1.0,1.0,2.0,2.0,3.0,3.0,3.0,2.0,3.0,3.0,3.0,4.0,5.0,5.0,6.0,6.0,7.0,8.0,8.0,9.0,10.0,11.0,12.0,13.0,14.0,14.0,13.0,13.0,13.0,14.0,14.0,13.0,12.0,12.0,12.0,12.0,11.0,10.0,9.0,8.0,7.0,7.0,7.0,6.0,5.0,4.0,3.0,2.0,2.0,1.0,1.0,0.0,0.0,0.0,0.0,0.0,0.0,0.0,0.0,0.0,0.0,0.0,1.0,4.0,5.0,6.0,6.0,5.0,5.0,5.0,4.0,4.0,4.0,6.0,6.0,7.0,7.0,8.0,9.0,10.0,10.0,11.0,11.0,11.0,12.0,12.0,13.0,13.0,14.0,14.0,14.0,14.0,13.0,13.0,12.0,12.0,12.0,11.0,10.0,10.0,9.0,9.0,9.0,10.0,11.0,11.0,12.0,13.0,13.0,14.0,14.0,9.0,8.0,8.0,7.0,7.0,8.0,8.0,7.0,4.0,4.0,5.0,5.0,5.0,9.0,10.0,14.0,12.0,10.0,9.0,8.0,8.0,9.0,10.0,11.0,12.0,13.0,14.0,7.0,7.0,6.0,5.0,4.0,4.0,0.0]},\"selected\":{\"id\":\"1053\"},\"selection_policy\":{\"id\":\"1054\"}},\"id\":\"1037\",\"type\":\"ColumnDataSource\"},{\"attributes\":{\"data\":{\"x\":[0.0,0.0,0.0,0.0,0.0,0.0,0.0,0.0,0.0,0.0,0.0,0.0,0.0,0.0,0.0,1.0,1.0,1.0,1.0,1.0,1.0,1.0,1.0,1.0,1.0,1.0,1.0,1.0,1.0,1.0,2.0,2.0,2.0,2.0,2.0,2.0,2.0,2.0,2.0,2.0,2.0,2.0,2.0,2.0,2.0,3.0,3.0,3.0,3.0,3.0,3.0,3.0,3.0,3.0,3.0,3.0,3.0,3.0,3.0,3.0,4.0,4.0,4.0,4.0,4.0,4.0,4.0,4.0,4.0,4.0,4.0,4.0,4.0,4.0,4.0,5.0,5.0,5.0,5.0,5.0,5.0,5.0,5.0,5.0,5.0,5.0,5.0,5.0,5.0,5.0,6.0,6.0,6.0,6.0,6.0,6.0,6.0,6.0,6.0,6.0,6.0,6.0,6.0,6.0,6.0,7.0,7.0,7.0,7.0,7.0,7.0,7.0,7.0,7.0,7.0,7.0,7.0,7.0,7.0,7.0,8.0,8.0,8.0,8.0,8.0,8.0,8.0,8.0,8.0,8.0,8.0,8.0,8.0,8.0,8.0,9.0,9.0,9.0,9.0,9.0,9.0,9.0,9.0,9.0,9.0,9.0,9.0,9.0,9.0,9.0,10.0,10.0,10.0,10.0,10.0,10.0,10.0,10.0,10.0,10.0,10.0,10.0,10.0,10.0,10.0,11.0,11.0,11.0,11.0,11.0,11.0,11.0,11.0,11.0,11.0,11.0,11.0,11.0,11.0,11.0,12.0,12.0,12.0,12.0,12.0,12.0,12.0,12.0,12.0,12.0,12.0,12.0,12.0,12.0,12.0,13.0,13.0,13.0,13.0,13.0,13.0,13.0,13.0,13.0,13.0,13.0,13.0,13.0,13.0,13.0,14.0,14.0,14.0,14.0,14.0,14.0,14.0,14.0,14.0,14.0,14.0,14.0,14.0,14.0,14.0],\"y\":[0.0,1.0,2.0,3.0,4.0,5.0,6.0,7.0,8.0,9.0,10.0,11.0,12.0,13.0,14.0,0.0,1.0,2.0,3.0,4.0,5.0,6.0,7.0,8.0,9.0,10.0,11.0,12.0,13.0,14.0,0.0,1.0,2.0,3.0,4.0,5.0,6.0,7.0,8.0,9.0,10.0,11.0,12.0,13.0,14.0,0.0,1.0,2.0,3.0,4.0,5.0,6.0,7.0,8.0,9.0,10.0,11.0,12.0,13.0,14.0,0.0,1.0,2.0,3.0,4.0,5.0,6.0,7.0,8.0,9.0,10.0,11.0,12.0,13.0,14.0,0.0,1.0,2.0,3.0,4.0,5.0,6.0,7.0,8.0,9.0,10.0,11.0,12.0,13.0,14.0,0.0,1.0,2.0,3.0,4.0,5.0,6.0,7.0,8.0,9.0,10.0,11.0,12.0,13.0,14.0,0.0,1.0,2.0,3.0,4.0,5.0,6.0,7.0,8.0,9.0,10.0,11.0,12.0,13.0,14.0,0.0,1.0,2.0,3.0,4.0,5.0,6.0,7.0,8.0,9.0,10.0,11.0,12.0,13.0,14.0,0.0,1.0,2.0,3.0,4.0,5.0,6.0,7.0,8.0,9.0,10.0,11.0,12.0,13.0,14.0,0.0,1.0,2.0,3.0,4.0,5.0,6.0,7.0,8.0,9.0,10.0,11.0,12.0,13.0,14.0,0.0,1.0,2.0,3.0,4.0,5.0,6.0,7.0,8.0,9.0,10.0,11.0,12.0,13.0,14.0,0.0,1.0,2.0,3.0,4.0,5.0,6.0,7.0,8.0,9.0,10.0,11.0,12.0,13.0,14.0,0.0,1.0,2.0,3.0,4.0,5.0,6.0,7.0,8.0,9.0,10.0,11.0,12.0,13.0,14.0,0.0,1.0,2.0,3.0,4.0,5.0,6.0,7.0,8.0,9.0,10.0,11.0,12.0,13.0,14.0]},\"selected\":{\"id\":\"1055\"},\"selection_policy\":{\"id\":\"1056\"}},\"id\":\"1042\",\"type\":\"ColumnDataSource\"},{\"attributes\":{\"align\":\"center\",\"text\":\"270.925\",\"width\":400},\"id\":\"1036\",\"type\":\"Div\"},{\"attributes\":{\"source\":{\"id\":\"1042\"}},\"id\":\"1046\",\"type\":\"CDSView\"},{\"attributes\":{},\"id\":\"1021\",\"type\":\"PanTool\"},{\"attributes\":{},\"id\":\"1022\",\"type\":\"WheelZoomTool\"},{\"attributes\":{\"data_source\":{\"id\":\"1042\"},\"glyph\":{\"id\":\"1043\"},\"hover_glyph\":null,\"muted_glyph\":null,\"nonselection_glyph\":{\"id\":\"1044\"},\"selection_glyph\":null,\"view\":{\"id\":\"1046\"}},\"id\":\"1045\",\"type\":\"GlyphRenderer\"},{\"attributes\":{\"fill_color\":{\"value\":\"steelblue\"},\"line_color\":{\"value\":\"steelblue\"},\"size\":{\"units\":\"screen\",\"value\":8},\"x\":{\"field\":\"x\"},\"y\":{\"field\":\"y\"}},\"id\":\"1043\",\"type\":\"Circle\"},{\"attributes\":{\"overlay\":{\"id\":\"1027\"}},\"id\":\"1023\",\"type\":\"BoxZoomTool\"},{\"attributes\":{},\"id\":\"1024\",\"type\":\"SaveTool\"},{\"attributes\":{\"fill_alpha\":{\"value\":0.1},\"fill_color\":{\"value\":\"steelblue\"},\"line_alpha\":{\"value\":0.1},\"line_color\":{\"value\":\"steelblue\"},\"size\":{\"units\":\"screen\",\"value\":8},\"x\":{\"field\":\"x\"},\"y\":{\"field\":\"y\"}},\"id\":\"1044\",\"type\":\"Circle\"}],\"root_ids\":[\"1058\"]},\"title\":\"Bokeh Application\",\"version\":\"2.1.0\"}};\n",
       "  var render_items = [{\"docid\":\"37badb85-09a3-43ad-b1d6-ec3aa4009217\",\"root_ids\":[\"1058\"],\"roots\":{\"1058\":\"ddfc737c-ff96-4ea4-8c3f-bdc4b30b24a5\"}}];\n",
       "  root.Bokeh.embed.embed_items_notebook(docs_json, render_items);\n",
       "\n",
       "  }\n",
       "  if (root.Bokeh !== undefined) {\n",
       "    embed_document(root);\n",
       "  } else {\n",
       "    var attempts = 0;\n",
       "    var timer = setInterval(function(root) {\n",
       "      if (root.Bokeh !== undefined) {\n",
       "        clearInterval(timer);\n",
       "        embed_document(root);\n",
       "      } else {\n",
       "        attempts++;\n",
       "        if (attempts > 100) {\n",
       "          clearInterval(timer);\n",
       "          console.log(\"Bokeh: ERROR: Unable to run BokehJS code because BokehJS library is missing\");\n",
       "        }\n",
       "      }\n",
       "    }, 10, root)\n",
       "  }\n",
       "})(window);"
      ],
      "application/vnd.bokehjs_exec.v0+json": ""
     },
     "metadata": {
      "application/vnd.bokehjs_exec.v0+json": {
       "id": "1058"
      }
     },
     "output_type": "display_data"
    },
    {
     "data": {
      "text/html": [
       "\n",
       "\n",
       "\n",
       "\n",
       "\n",
       "\n",
       "  <div class=\"bk-root\" id=\"1eb980a6-4f36-44ea-8526-0e53c26ec6bc\" data-root-id=\"1185\"></div>\n"
      ]
     },
     "metadata": {},
     "output_type": "display_data"
    },
    {
     "data": {
      "application/javascript": [
       "(function(root) {\n",
       "  function embed_document(root) {\n",
       "    \n",
       "  var docs_json = {\"11a432ae-e4d0-48d4-8ed3-aa265214a4d6\":{\"roots\":{\"references\":[{\"attributes\":{\"children\":[[{\"id\":\"1129\"},0,0],[{\"id\":\"1163\"},1,0]]},\"id\":\"1185\",\"type\":\"GridBox\"},{\"attributes\":{\"fill_alpha\":{\"value\":0.1},\"fill_color\":{\"value\":\"steelblue\"},\"line_alpha\":{\"value\":0.1},\"line_color\":{\"value\":\"steelblue\"},\"size\":{\"units\":\"screen\",\"value\":8},\"x\":{\"field\":\"x\"},\"y\":{\"field\":\"y\"}},\"id\":\"1171\",\"type\":\"Circle\"},{\"attributes\":{},\"id\":\"1182\",\"type\":\"Selection\"},{\"attributes\":{\"source\":{\"id\":\"1169\"}},\"id\":\"1173\",\"type\":\"CDSView\"},{\"attributes\":{},\"id\":\"1145\",\"type\":\"BasicTicker\"},{\"attributes\":{\"data_source\":{\"id\":\"1169\"},\"glyph\":{\"id\":\"1170\"},\"hover_glyph\":null,\"muted_glyph\":null,\"nonselection_glyph\":{\"id\":\"1171\"},\"selection_glyph\":null,\"view\":{\"id\":\"1173\"}},\"id\":\"1172\",\"type\":\"GlyphRenderer\"},{\"attributes\":{\"overlay\":{\"id\":\"1154\"}},\"id\":\"1150\",\"type\":\"BoxZoomTool\"},{\"attributes\":{},\"id\":\"1149\",\"type\":\"WheelZoomTool\"},{\"attributes\":{},\"id\":\"1175\",\"type\":\"BasicTickFormatter\"},{\"attributes\":{\"fill_color\":{\"value\":\"steelblue\"},\"line_color\":{\"value\":\"steelblue\"},\"size\":{\"units\":\"screen\",\"value\":8},\"x\":{\"field\":\"x\"},\"y\":{\"field\":\"y\"}},\"id\":\"1170\",\"type\":\"Circle\"},{\"attributes\":{},\"id\":\"1148\",\"type\":\"PanTool\"},{\"attributes\":{\"data\":{\"x\":[0.0,0.0,0.0,0.0,1.0,1.0,2.0,3.0,4.0,3.0,3.0,3.0,2.0,2.0,1.0,2.0,3.0,3.0,2.0,2.0,1.0,0.0,0.0,0.0,1.0,1.0,1.0,0.0,0.0,0.0,1.0,2.0,3.0,2.0,3.0,4.0,3.0,4.0,4.0,4.0,5.0,5.0,5.0,5.0,6.0,6.0,7.0,7.0,8.0,8.0,9.0,9.0,8.0,9.0,10.0,9.0,9.0,8.0,8.0,7.0,7.0,7.0,6.0,5.0,6.0,5.0,5.0,6.0,7.0,6.0,5.0,4.0,4.0,3.0,3.0,4.0,4.0,3.0,3.0,2.0,1.0,2.0,2.0,1.0,0.0,0.0,0.0,1.0,1.0,0.0,0.0,1.0,2.0,2.0,3.0,4.0,5.0,4.0,5.0,6.0,6.0,7.0,8.0,8.0,7.0,8.0,9.0,9.0,9.0,10.0,11.0,10.0,11.0,11.0,10.0,10.0,10.0,11.0,11.0,12.0,12.0,13.0,13.0,12.0,12.0,13.0,14.0,14.0,14.0,14.0,13.0,13.0,14.0,14.0,14.0,13.0,12.0,12.0,11.0,11.0,11.0,10.0,10.0,10.0,11.0,12.0,13.0,13.0,12.0,12.0,13.0,14.0,14.0,14.0,14.0,13.0,12.0,13.0,12.0,11.0,11.0,10.0,10.0,10.0,11.0,11.0,12.0,12.0,13.0,13.0,14.0,14.0,14.0,14.0,13.0,13.0,12.0,11.0,12.0,11.0,10.0,10.0,10.0,9.0,8.0,8.0,9.0,9.0,8.0,7.0,6.0,6.0,7.0,6.0,7.0,7.0,7.0,8.0,9.0,9.0,8.0,8.0,9.0,9.0,8.0,7.0,7.0,6.0,6.0,6.0,6.0,5.0,5.0,4.0,4.0,4.0,5.0,5.0,5.0,4.0,3.0,2.0,2.0,1.0,1.0,0.0],\"y\":[0.0,1.0,2.0,3.0,3.0,2.0,2.0,1.0,1.0,2.0,3.0,4.0,3.0,4.0,4.0,5.0,5.0,6.0,7.0,6.0,5.0,4.0,5.0,6.0,6.0,7.0,8.0,7.0,8.0,9.0,9.0,9.0,9.0,8.0,8.0,8.0,7.0,7.0,6.0,5.0,5.0,6.0,7.0,8.0,7.0,8.0,8.0,7.0,7.0,8.0,7.0,8.0,9.0,9.0,9.0,10.0,11.0,11.0,10.0,10.0,11.0,12.0,12.0,12.0,11.0,11.0,10.0,10.0,9.0,9.0,9.0,9.0,10.0,10.0,11.0,11.0,12.0,13.0,12.0,12.0,11.0,11.0,10.0,10.0,10.0,11.0,12.0,12.0,13.0,13.0,14.0,14.0,13.0,14.0,14.0,14.0,14.0,13.0,13.0,13.0,14.0,14.0,14.0,13.0,13.0,12.0,12.0,13.0,14.0,14.0,14.0,13.0,13.0,12.0,12.0,11.0,10.0,10.0,11.0,11.0,12.0,12.0,13.0,13.0,14.0,14.0,14.0,13.0,12.0,11.0,11.0,10.0,10.0,9.0,8.0,9.0,9.0,10.0,9.0,8.0,7.0,8.0,7.0,6.0,6.0,6.0,7.0,8.0,8.0,7.0,6.0,7.0,6.0,5.0,4.0,4.0,4.0,5.0,5.0,4.0,5.0,5.0,4.0,3.0,2.0,3.0,3.0,2.0,2.0,3.0,3.0,2.0,1.0,0.0,0.0,1.0,1.0,1.0,0.0,0.0,0.0,1.0,2.0,2.0,2.0,1.0,1.0,0.0,0.0,0.0,0.0,1.0,1.0,2.0,2.0,3.0,4.0,3.0,3.0,4.0,4.0,5.0,5.0,6.0,6.0,5.0,6.0,6.0,5.0,4.0,3.0,3.0,4.0,4.0,3.0,2.0,2.0,1.0,0.0,0.0,0.0,0.0,1.0,1.0,0.0,0.0]},\"selected\":{\"id\":\"1180\"},\"selection_policy\":{\"id\":\"1181\"}},\"id\":\"1164\",\"type\":\"ColumnDataSource\"},{\"attributes\":{},\"id\":\"1180\",\"type\":\"Selection\"},{\"attributes\":{\"align\":\"center\",\"text\":\"239.497\",\"width\":400},\"id\":\"1163\",\"type\":\"Div\"},{\"attributes\":{},\"id\":\"1177\",\"type\":\"BasicTickFormatter\"},{\"attributes\":{\"source\":{\"id\":\"1164\"}},\"id\":\"1168\",\"type\":\"CDSView\"},{\"attributes\":{},\"id\":\"1151\",\"type\":\"SaveTool\"},{\"attributes\":{\"data\":{\"x\":[0.0,0.0,0.0,0.0,0.0,0.0,0.0,0.0,0.0,0.0,0.0,0.0,0.0,0.0,0.0,1.0,1.0,1.0,1.0,1.0,1.0,1.0,1.0,1.0,1.0,1.0,1.0,1.0,1.0,1.0,2.0,2.0,2.0,2.0,2.0,2.0,2.0,2.0,2.0,2.0,2.0,2.0,2.0,2.0,2.0,3.0,3.0,3.0,3.0,3.0,3.0,3.0,3.0,3.0,3.0,3.0,3.0,3.0,3.0,3.0,4.0,4.0,4.0,4.0,4.0,4.0,4.0,4.0,4.0,4.0,4.0,4.0,4.0,4.0,4.0,5.0,5.0,5.0,5.0,5.0,5.0,5.0,5.0,5.0,5.0,5.0,5.0,5.0,5.0,5.0,6.0,6.0,6.0,6.0,6.0,6.0,6.0,6.0,6.0,6.0,6.0,6.0,6.0,6.0,6.0,7.0,7.0,7.0,7.0,7.0,7.0,7.0,7.0,7.0,7.0,7.0,7.0,7.0,7.0,7.0,8.0,8.0,8.0,8.0,8.0,8.0,8.0,8.0,8.0,8.0,8.0,8.0,8.0,8.0,8.0,9.0,9.0,9.0,9.0,9.0,9.0,9.0,9.0,9.0,9.0,9.0,9.0,9.0,9.0,9.0,10.0,10.0,10.0,10.0,10.0,10.0,10.0,10.0,10.0,10.0,10.0,10.0,10.0,10.0,10.0,11.0,11.0,11.0,11.0,11.0,11.0,11.0,11.0,11.0,11.0,11.0,11.0,11.0,11.0,11.0,12.0,12.0,12.0,12.0,12.0,12.0,12.0,12.0,12.0,12.0,12.0,12.0,12.0,12.0,12.0,13.0,13.0,13.0,13.0,13.0,13.0,13.0,13.0,13.0,13.0,13.0,13.0,13.0,13.0,13.0,14.0,14.0,14.0,14.0,14.0,14.0,14.0,14.0,14.0,14.0,14.0,14.0,14.0,14.0,14.0],\"y\":[0.0,1.0,2.0,3.0,4.0,5.0,6.0,7.0,8.0,9.0,10.0,11.0,12.0,13.0,14.0,0.0,1.0,2.0,3.0,4.0,5.0,6.0,7.0,8.0,9.0,10.0,11.0,12.0,13.0,14.0,0.0,1.0,2.0,3.0,4.0,5.0,6.0,7.0,8.0,9.0,10.0,11.0,12.0,13.0,14.0,0.0,1.0,2.0,3.0,4.0,5.0,6.0,7.0,8.0,9.0,10.0,11.0,12.0,13.0,14.0,0.0,1.0,2.0,3.0,4.0,5.0,6.0,7.0,8.0,9.0,10.0,11.0,12.0,13.0,14.0,0.0,1.0,2.0,3.0,4.0,5.0,6.0,7.0,8.0,9.0,10.0,11.0,12.0,13.0,14.0,0.0,1.0,2.0,3.0,4.0,5.0,6.0,7.0,8.0,9.0,10.0,11.0,12.0,13.0,14.0,0.0,1.0,2.0,3.0,4.0,5.0,6.0,7.0,8.0,9.0,10.0,11.0,12.0,13.0,14.0,0.0,1.0,2.0,3.0,4.0,5.0,6.0,7.0,8.0,9.0,10.0,11.0,12.0,13.0,14.0,0.0,1.0,2.0,3.0,4.0,5.0,6.0,7.0,8.0,9.0,10.0,11.0,12.0,13.0,14.0,0.0,1.0,2.0,3.0,4.0,5.0,6.0,7.0,8.0,9.0,10.0,11.0,12.0,13.0,14.0,0.0,1.0,2.0,3.0,4.0,5.0,6.0,7.0,8.0,9.0,10.0,11.0,12.0,13.0,14.0,0.0,1.0,2.0,3.0,4.0,5.0,6.0,7.0,8.0,9.0,10.0,11.0,12.0,13.0,14.0,0.0,1.0,2.0,3.0,4.0,5.0,6.0,7.0,8.0,9.0,10.0,11.0,12.0,13.0,14.0,0.0,1.0,2.0,3.0,4.0,5.0,6.0,7.0,8.0,9.0,10.0,11.0,12.0,13.0,14.0]},\"selected\":{\"id\":\"1182\"},\"selection_policy\":{\"id\":\"1183\"}},\"id\":\"1169\",\"type\":\"ColumnDataSource\"},{\"attributes\":{\"line_width\":4,\"x\":{\"field\":\"x\"},\"y\":{\"field\":\"y\"}},\"id\":\"1165\",\"type\":\"Line\"},{\"attributes\":{\"axis\":{\"id\":\"1144\"},\"dimension\":1,\"grid_line_color\":null,\"ticker\":null},\"id\":\"1147\",\"type\":\"Grid\"},{\"attributes\":{},\"id\":\"1181\",\"type\":\"UnionRenderers\"},{\"attributes\":{},\"id\":\"1152\",\"type\":\"ResetTool\"},{\"attributes\":{\"line_alpha\":0.1,\"line_width\":4,\"x\":{\"field\":\"x\"},\"y\":{\"field\":\"y\"}},\"id\":\"1166\",\"type\":\"Line\"},{\"attributes\":{},\"id\":\"1136\",\"type\":\"LinearScale\"},{\"attributes\":{\"data_source\":{\"id\":\"1164\"},\"glyph\":{\"id\":\"1165\"},\"hover_glyph\":null,\"muted_glyph\":null,\"nonselection_glyph\":{\"id\":\"1166\"},\"selection_glyph\":null,\"view\":{\"id\":\"1168\"}},\"id\":\"1167\",\"type\":\"GlyphRenderer\"},{\"attributes\":{\"end\":14.7,\"start\":-0.7000000000000001},\"id\":\"1132\",\"type\":\"Range1d\"},{\"attributes\":{\"end\":14.7,\"start\":-0.7000000000000001},\"id\":\"1134\",\"type\":\"Range1d\"},{\"attributes\":{\"bottom_units\":\"screen\",\"fill_alpha\":0.5,\"fill_color\":\"lightgrey\",\"left_units\":\"screen\",\"level\":\"overlay\",\"line_alpha\":1.0,\"line_color\":\"black\",\"line_dash\":[4,4],\"line_width\":2,\"right_units\":\"screen\",\"top_units\":\"screen\"},\"id\":\"1154\",\"type\":\"BoxAnnotation\"},{\"attributes\":{\"text\":\"\"},\"id\":\"1130\",\"type\":\"Title\"},{\"attributes\":{},\"id\":\"1138\",\"type\":\"LinearScale\"},{\"attributes\":{\"background_fill_color\":null,\"below\":[{\"id\":\"1140\"}],\"border_fill_color\":null,\"center\":[{\"id\":\"1143\"},{\"id\":\"1147\"}],\"left\":[{\"id\":\"1144\"}],\"outline_line_color\":null,\"plot_height\":400,\"plot_width\":400,\"renderers\":[{\"id\":\"1167\"},{\"id\":\"1172\"}],\"title\":{\"id\":\"1130\"},\"toolbar\":{\"id\":\"1155\"},\"toolbar_location\":null,\"x_range\":{\"id\":\"1132\"},\"x_scale\":{\"id\":\"1136\"},\"y_range\":{\"id\":\"1134\"},\"y_scale\":{\"id\":\"1138\"}},\"id\":\"1129\",\"subtype\":\"Figure\",\"type\":\"Plot\"},{\"attributes\":{},\"id\":\"1153\",\"type\":\"HelpTool\"},{\"attributes\":{\"formatter\":{\"id\":\"1175\"},\"ticker\":{\"id\":\"1141\"},\"visible\":false},\"id\":\"1140\",\"type\":\"LinearAxis\"},{\"attributes\":{},\"id\":\"1141\",\"type\":\"BasicTicker\"},{\"attributes\":{},\"id\":\"1183\",\"type\":\"UnionRenderers\"},{\"attributes\":{\"axis\":{\"id\":\"1140\"},\"grid_line_color\":null,\"ticker\":null},\"id\":\"1143\",\"type\":\"Grid\"},{\"attributes\":{\"active_drag\":\"auto\",\"active_inspect\":\"auto\",\"active_multi\":null,\"active_scroll\":\"auto\",\"active_tap\":\"auto\",\"logo\":null,\"tools\":[{\"id\":\"1148\"},{\"id\":\"1149\"},{\"id\":\"1150\"},{\"id\":\"1151\"},{\"id\":\"1152\"},{\"id\":\"1153\"}]},\"id\":\"1155\",\"type\":\"Toolbar\"},{\"attributes\":{\"formatter\":{\"id\":\"1177\"},\"ticker\":{\"id\":\"1145\"},\"visible\":false},\"id\":\"1144\",\"type\":\"LinearAxis\"}],\"root_ids\":[\"1185\"]},\"title\":\"Bokeh Application\",\"version\":\"2.1.0\"}};\n",
       "  var render_items = [{\"docid\":\"11a432ae-e4d0-48d4-8ed3-aa265214a4d6\",\"root_ids\":[\"1185\"],\"roots\":{\"1185\":\"1eb980a6-4f36-44ea-8526-0e53c26ec6bc\"}}];\n",
       "  root.Bokeh.embed.embed_items_notebook(docs_json, render_items);\n",
       "\n",
       "  }\n",
       "  if (root.Bokeh !== undefined) {\n",
       "    embed_document(root);\n",
       "  } else {\n",
       "    var attempts = 0;\n",
       "    var timer = setInterval(function(root) {\n",
       "      if (root.Bokeh !== undefined) {\n",
       "        clearInterval(timer);\n",
       "        embed_document(root);\n",
       "      } else {\n",
       "        attempts++;\n",
       "        if (attempts > 100) {\n",
       "          clearInterval(timer);\n",
       "          console.log(\"Bokeh: ERROR: Unable to run BokehJS code because BokehJS library is missing\");\n",
       "        }\n",
       "      }\n",
       "    }, 10, root)\n",
       "  }\n",
       "})(window);"
      ],
      "application/vnd.bokehjs_exec.v0+json": ""
     },
     "metadata": {
      "application/vnd.bokehjs_exec.v0+json": {
       "id": "1185"
      }
     },
     "output_type": "display_data"
    },
    {
     "data": {
      "text/html": [
       "\n",
       "\n",
       "\n",
       "\n",
       "\n",
       "\n",
       "  <div class=\"bk-root\" id=\"63d44c81-574f-436e-a971-a50b9d1df082\" data-root-id=\"1322\"></div>\n"
      ]
     },
     "metadata": {},
     "output_type": "display_data"
    },
    {
     "data": {
      "application/javascript": [
       "(function(root) {\n",
       "  function embed_document(root) {\n",
       "    \n",
       "  var docs_json = {\"76a3fd99-0bf7-4976-be10-b4e0463fdfb4\":{\"roots\":{\"references\":[{\"attributes\":{\"children\":[[{\"id\":\"1266\"},0,0],[{\"id\":\"1300\"},1,0]]},\"id\":\"1322\",\"type\":\"GridBox\"},{\"attributes\":{},\"id\":\"1318\",\"type\":\"UnionRenderers\"},{\"attributes\":{},\"id\":\"1290\",\"type\":\"HelpTool\"},{\"attributes\":{},\"id\":\"1319\",\"type\":\"Selection\"},{\"attributes\":{\"active_drag\":\"auto\",\"active_inspect\":\"auto\",\"active_multi\":null,\"active_scroll\":\"auto\",\"active_tap\":\"auto\",\"logo\":null,\"tools\":[{\"id\":\"1285\"},{\"id\":\"1286\"},{\"id\":\"1287\"},{\"id\":\"1288\"},{\"id\":\"1289\"},{\"id\":\"1290\"}]},\"id\":\"1292\",\"type\":\"Toolbar\"},{\"attributes\":{},\"id\":\"1320\",\"type\":\"UnionRenderers\"},{\"attributes\":{},\"id\":\"1288\",\"type\":\"SaveTool\"},{\"attributes\":{},\"id\":\"1273\",\"type\":\"LinearScale\"},{\"attributes\":{\"source\":{\"id\":\"1301\"}},\"id\":\"1305\",\"type\":\"CDSView\"},{\"attributes\":{\"overlay\":{\"id\":\"1291\"}},\"id\":\"1287\",\"type\":\"BoxZoomTool\"},{\"attributes\":{\"end\":14.7,\"start\":-0.7000000000000001},\"id\":\"1269\",\"type\":\"Range1d\"},{\"attributes\":{},\"id\":\"1275\",\"type\":\"LinearScale\"},{\"attributes\":{\"data\":{\"x\":[0.0,0.0,0.0,0.0,0.0,0.0,0.0,0.0,0.0,0.0,0.0,0.0,0.0,0.0,0.0,1.0,1.0,1.0,1.0,1.0,1.0,1.0,1.0,1.0,1.0,1.0,1.0,1.0,1.0,1.0,2.0,2.0,2.0,2.0,2.0,2.0,2.0,2.0,2.0,2.0,2.0,2.0,2.0,2.0,2.0,3.0,3.0,3.0,3.0,3.0,3.0,3.0,3.0,3.0,3.0,3.0,3.0,3.0,3.0,3.0,4.0,4.0,4.0,4.0,4.0,4.0,4.0,4.0,4.0,4.0,4.0,4.0,4.0,4.0,4.0,5.0,5.0,5.0,5.0,5.0,5.0,5.0,5.0,5.0,5.0,5.0,5.0,5.0,5.0,5.0,6.0,6.0,6.0,6.0,6.0,6.0,6.0,6.0,6.0,6.0,6.0,6.0,6.0,6.0,6.0,7.0,7.0,7.0,7.0,7.0,7.0,7.0,7.0,7.0,7.0,7.0,7.0,7.0,7.0,7.0,8.0,8.0,8.0,8.0,8.0,8.0,8.0,8.0,8.0,8.0,8.0,8.0,8.0,8.0,8.0,9.0,9.0,9.0,9.0,9.0,9.0,9.0,9.0,9.0,9.0,9.0,9.0,9.0,9.0,9.0,10.0,10.0,10.0,10.0,10.0,10.0,10.0,10.0,10.0,10.0,10.0,10.0,10.0,10.0,10.0,11.0,11.0,11.0,11.0,11.0,11.0,11.0,11.0,11.0,11.0,11.0,11.0,11.0,11.0,11.0,12.0,12.0,12.0,12.0,12.0,12.0,12.0,12.0,12.0,12.0,12.0,12.0,12.0,12.0,12.0,13.0,13.0,13.0,13.0,13.0,13.0,13.0,13.0,13.0,13.0,13.0,13.0,13.0,13.0,13.0,14.0,14.0,14.0,14.0,14.0,14.0,14.0,14.0,14.0,14.0,14.0,14.0,14.0,14.0,14.0],\"y\":[0.0,1.0,2.0,3.0,4.0,5.0,6.0,7.0,8.0,9.0,10.0,11.0,12.0,13.0,14.0,0.0,1.0,2.0,3.0,4.0,5.0,6.0,7.0,8.0,9.0,10.0,11.0,12.0,13.0,14.0,0.0,1.0,2.0,3.0,4.0,5.0,6.0,7.0,8.0,9.0,10.0,11.0,12.0,13.0,14.0,0.0,1.0,2.0,3.0,4.0,5.0,6.0,7.0,8.0,9.0,10.0,11.0,12.0,13.0,14.0,0.0,1.0,2.0,3.0,4.0,5.0,6.0,7.0,8.0,9.0,10.0,11.0,12.0,13.0,14.0,0.0,1.0,2.0,3.0,4.0,5.0,6.0,7.0,8.0,9.0,10.0,11.0,12.0,13.0,14.0,0.0,1.0,2.0,3.0,4.0,5.0,6.0,7.0,8.0,9.0,10.0,11.0,12.0,13.0,14.0,0.0,1.0,2.0,3.0,4.0,5.0,6.0,7.0,8.0,9.0,10.0,11.0,12.0,13.0,14.0,0.0,1.0,2.0,3.0,4.0,5.0,6.0,7.0,8.0,9.0,10.0,11.0,12.0,13.0,14.0,0.0,1.0,2.0,3.0,4.0,5.0,6.0,7.0,8.0,9.0,10.0,11.0,12.0,13.0,14.0,0.0,1.0,2.0,3.0,4.0,5.0,6.0,7.0,8.0,9.0,10.0,11.0,12.0,13.0,14.0,0.0,1.0,2.0,3.0,4.0,5.0,6.0,7.0,8.0,9.0,10.0,11.0,12.0,13.0,14.0,0.0,1.0,2.0,3.0,4.0,5.0,6.0,7.0,8.0,9.0,10.0,11.0,12.0,13.0,14.0,0.0,1.0,2.0,3.0,4.0,5.0,6.0,7.0,8.0,9.0,10.0,11.0,12.0,13.0,14.0,0.0,1.0,2.0,3.0,4.0,5.0,6.0,7.0,8.0,9.0,10.0,11.0,12.0,13.0,14.0]},\"selected\":{\"id\":\"1319\"},\"selection_policy\":{\"id\":\"1320\"}},\"id\":\"1306\",\"type\":\"ColumnDataSource\"},{\"attributes\":{\"data_source\":{\"id\":\"1301\"},\"glyph\":{\"id\":\"1302\"},\"hover_glyph\":null,\"muted_glyph\":null,\"nonselection_glyph\":{\"id\":\"1303\"},\"selection_glyph\":null,\"view\":{\"id\":\"1305\"}},\"id\":\"1304\",\"type\":\"GlyphRenderer\"},{\"attributes\":{\"end\":14.7,\"start\":-0.7000000000000001},\"id\":\"1271\",\"type\":\"Range1d\"},{\"attributes\":{\"text\":\"\"},\"id\":\"1267\",\"type\":\"Title\"},{\"attributes\":{},\"id\":\"1285\",\"type\":\"PanTool\"},{\"attributes\":{\"bottom_units\":\"screen\",\"fill_alpha\":0.5,\"fill_color\":\"lightgrey\",\"left_units\":\"screen\",\"level\":\"overlay\",\"line_alpha\":1.0,\"line_color\":\"black\",\"line_dash\":[4,4],\"line_width\":2,\"right_units\":\"screen\",\"top_units\":\"screen\"},\"id\":\"1291\",\"type\":\"BoxAnnotation\"},{\"attributes\":{\"line_alpha\":0.1,\"line_width\":4,\"x\":{\"field\":\"x\"},\"y\":{\"field\":\"y\"}},\"id\":\"1303\",\"type\":\"Line\"},{\"attributes\":{},\"id\":\"1278\",\"type\":\"BasicTicker\"},{\"attributes\":{},\"id\":\"1286\",\"type\":\"WheelZoomTool\"},{\"attributes\":{\"data\":{\"x\":[0.0,1.0,2.0,3.0,4.0,5.0,6.0,7.0,8.0,9.0,10.0,11.0,12.0,13.0,14.0,14.0,14.0,14.0,14.0,14.0,14.0,14.0,14.0,14.0,14.0,14.0,14.0,14.0,14.0,13.0,13.0,13.0,13.0,13.0,13.0,13.0,13.0,13.0,13.0,13.0,13.0,13.0,13.0,12.0,12.0,12.0,12.0,12.0,12.0,12.0,12.0,12.0,12.0,12.0,12.0,12.0,12.0,11.0,11.0,11.0,11.0,11.0,11.0,11.0,11.0,11.0,11.0,11.0,11.0,11.0,11.0,10.0,10.0,10.0,10.0,10.0,10.0,10.0,10.0,10.0,10.0,10.0,10.0,10.0,10.0,9.0,9.0,9.0,9.0,9.0,9.0,9.0,9.0,9.0,9.0,9.0,9.0,9.0,9.0,8.0,8.0,8.0,8.0,8.0,8.0,8.0,8.0,8.0,8.0,8.0,8.0,8.0,8.0,7.0,7.0,7.0,7.0,7.0,7.0,7.0,7.0,7.0,7.0,7.0,7.0,7.0,7.0,6.0,6.0,6.0,6.0,6.0,6.0,6.0,6.0,6.0,6.0,6.0,6.0,6.0,6.0,5.0,5.0,5.0,5.0,5.0,5.0,5.0,5.0,5.0,5.0,5.0,5.0,5.0,5.0,4.0,4.0,4.0,4.0,4.0,4.0,4.0,4.0,4.0,4.0,4.0,4.0,4.0,4.0,3.0,3.0,3.0,3.0,2.0,1.0,1.0,2.0,2.0,1.0,0.0,0.0,0.0,0.0,0.0,0.0,1.0,1.0,2.0,2.0,3.0,3.0,3.0,3.0,3.0,3.0,3.0,3.0,3.0,3.0,2.0,2.0,2.0,2.0,2.0,2.0,2.0,2.0,2.0,1.0,1.0,0.0,0.0,1.0,1.0,0.0,0.0,1.0,1.0,0.0,0.0,1.0,1.0,0.0,0.0,1.0,0.0],\"y\":[0.0,0.0,0.0,0.0,0.0,0.0,0.0,0.0,0.0,0.0,0.0,0.0,0.0,0.0,0.0,1.0,2.0,3.0,4.0,5.0,6.0,7.0,8.0,9.0,10.0,11.0,12.0,13.0,14.0,14.0,13.0,12.0,11.0,10.0,9.0,8.0,7.0,6.0,5.0,4.0,3.0,2.0,1.0,1.0,2.0,3.0,4.0,5.0,6.0,7.0,8.0,9.0,10.0,11.0,12.0,13.0,14.0,14.0,13.0,12.0,11.0,10.0,9.0,8.0,7.0,6.0,5.0,4.0,3.0,2.0,1.0,1.0,2.0,3.0,4.0,5.0,6.0,7.0,8.0,9.0,10.0,11.0,12.0,13.0,14.0,14.0,13.0,12.0,11.0,10.0,9.0,8.0,7.0,6.0,5.0,4.0,3.0,2.0,1.0,1.0,2.0,3.0,4.0,5.0,6.0,7.0,8.0,9.0,10.0,11.0,12.0,13.0,14.0,14.0,13.0,12.0,11.0,10.0,9.0,8.0,7.0,6.0,5.0,4.0,3.0,2.0,1.0,1.0,2.0,3.0,4.0,5.0,6.0,7.0,8.0,9.0,10.0,11.0,12.0,13.0,14.0,14.0,13.0,12.0,11.0,10.0,9.0,8.0,7.0,6.0,5.0,4.0,3.0,2.0,1.0,1.0,2.0,3.0,4.0,5.0,6.0,7.0,8.0,9.0,10.0,11.0,12.0,13.0,14.0,14.0,13.0,12.0,11.0,12.0,12.0,13.0,13.0,14.0,14.0,14.0,13.0,12.0,11.0,10.0,9.0,10.0,11.0,11.0,10.0,10.0,9.0,8.0,7.0,6.0,5.0,4.0,3.0,2.0,1.0,1.0,2.0,3.0,4.0,5.0,6.0,7.0,8.0,9.0,9.0,8.0,8.0,7.0,7.0,6.0,6.0,5.0,5.0,4.0,4.0,3.0,3.0,2.0,2.0,1.0,1.0,0.0]},\"selected\":{\"id\":\"1317\"},\"selection_policy\":{\"id\":\"1318\"}},\"id\":\"1301\",\"type\":\"ColumnDataSource\"},{\"attributes\":{\"axis\":{\"id\":\"1277\"},\"grid_line_color\":null,\"ticker\":null},\"id\":\"1280\",\"type\":\"Grid\"},{\"attributes\":{\"fill_alpha\":{\"value\":0.1},\"fill_color\":{\"value\":\"steelblue\"},\"line_alpha\":{\"value\":0.1},\"line_color\":{\"value\":\"steelblue\"},\"size\":{\"units\":\"screen\",\"value\":8},\"x\":{\"field\":\"x\"},\"y\":{\"field\":\"y\"}},\"id\":\"1308\",\"type\":\"Circle\"},{\"attributes\":{\"data_source\":{\"id\":\"1306\"},\"glyph\":{\"id\":\"1307\"},\"hover_glyph\":null,\"muted_glyph\":null,\"nonselection_glyph\":{\"id\":\"1308\"},\"selection_glyph\":null,\"view\":{\"id\":\"1310\"}},\"id\":\"1309\",\"type\":\"GlyphRenderer\"},{\"attributes\":{\"formatter\":{\"id\":\"1312\"},\"ticker\":{\"id\":\"1278\"},\"visible\":false},\"id\":\"1277\",\"type\":\"LinearAxis\"},{\"attributes\":{},\"id\":\"1282\",\"type\":\"BasicTicker\"},{\"attributes\":{\"source\":{\"id\":\"1306\"}},\"id\":\"1310\",\"type\":\"CDSView\"},{\"attributes\":{},\"id\":\"1289\",\"type\":\"ResetTool\"},{\"attributes\":{\"align\":\"center\",\"text\":\"226.243\",\"width\":400},\"id\":\"1300\",\"type\":\"Div\"},{\"attributes\":{\"background_fill_color\":null,\"below\":[{\"id\":\"1277\"}],\"border_fill_color\":null,\"center\":[{\"id\":\"1280\"},{\"id\":\"1284\"}],\"left\":[{\"id\":\"1281\"}],\"outline_line_color\":null,\"plot_height\":400,\"plot_width\":400,\"renderers\":[{\"id\":\"1304\"},{\"id\":\"1309\"}],\"title\":{\"id\":\"1267\"},\"toolbar\":{\"id\":\"1292\"},\"toolbar_location\":null,\"x_range\":{\"id\":\"1269\"},\"x_scale\":{\"id\":\"1273\"},\"y_range\":{\"id\":\"1271\"},\"y_scale\":{\"id\":\"1275\"}},\"id\":\"1266\",\"subtype\":\"Figure\",\"type\":\"Plot\"},{\"attributes\":{\"fill_color\":{\"value\":\"steelblue\"},\"line_color\":{\"value\":\"steelblue\"},\"size\":{\"units\":\"screen\",\"value\":8},\"x\":{\"field\":\"x\"},\"y\":{\"field\":\"y\"}},\"id\":\"1307\",\"type\":\"Circle\"},{\"attributes\":{\"line_width\":4,\"x\":{\"field\":\"x\"},\"y\":{\"field\":\"y\"}},\"id\":\"1302\",\"type\":\"Line\"},{\"attributes\":{},\"id\":\"1312\",\"type\":\"BasicTickFormatter\"},{\"attributes\":{\"axis\":{\"id\":\"1281\"},\"dimension\":1,\"grid_line_color\":null,\"ticker\":null},\"id\":\"1284\",\"type\":\"Grid\"},{\"attributes\":{},\"id\":\"1314\",\"type\":\"BasicTickFormatter\"},{\"attributes\":{},\"id\":\"1317\",\"type\":\"Selection\"},{\"attributes\":{\"formatter\":{\"id\":\"1314\"},\"ticker\":{\"id\":\"1282\"},\"visible\":false},\"id\":\"1281\",\"type\":\"LinearAxis\"}],\"root_ids\":[\"1322\"]},\"title\":\"Bokeh Application\",\"version\":\"2.1.0\"}};\n",
       "  var render_items = [{\"docid\":\"76a3fd99-0bf7-4976-be10-b4e0463fdfb4\",\"root_ids\":[\"1322\"],\"roots\":{\"1322\":\"63d44c81-574f-436e-a971-a50b9d1df082\"}}];\n",
       "  root.Bokeh.embed.embed_items_notebook(docs_json, render_items);\n",
       "\n",
       "  }\n",
       "  if (root.Bokeh !== undefined) {\n",
       "    embed_document(root);\n",
       "  } else {\n",
       "    var attempts = 0;\n",
       "    var timer = setInterval(function(root) {\n",
       "      if (root.Bokeh !== undefined) {\n",
       "        clearInterval(timer);\n",
       "        embed_document(root);\n",
       "      } else {\n",
       "        attempts++;\n",
       "        if (attempts > 100) {\n",
       "          clearInterval(timer);\n",
       "          console.log(\"Bokeh: ERROR: Unable to run BokehJS code because BokehJS library is missing\");\n",
       "        }\n",
       "      }\n",
       "    }, 10, root)\n",
       "  }\n",
       "})(window);"
      ],
      "application/vnd.bokehjs_exec.v0+json": ""
     },
     "metadata": {
      "application/vnd.bokehjs_exec.v0+json": {
       "id": "1322"
      }
     },
     "output_type": "display_data"
    }
   ],
   "source": [
    "# solve grid TSP\n",
    "nodes, G = tsp_grid_instance(15,15,manhattan=False)\n",
    "plot_tour(nodes, G, nearest_neighbor(G))\n",
    "plot_tour(nodes, G, furthest_insertion(G))\n",
    "plot_tour(nodes, G, solve_tsp(G))"
   ]
  },
  {
   "cell_type": "code",
   "execution_count": 3,
   "metadata": {
    "scrolled": false
   },
   "outputs": [
    {
     "data": {
      "text/html": [
       "\n",
       "\n",
       "\n",
       "\n",
       "\n",
       "\n",
       "  <div class=\"bk-root\" id=\"50c3e9ad-141b-43dc-af59-cff94034165b\" data-root-id=\"1483\"></div>\n"
      ]
     },
     "metadata": {},
     "output_type": "display_data"
    },
    {
     "data": {
      "application/javascript": [
       "(function(root) {\n",
       "  function embed_document(root) {\n",
       "    \n",
       "  var docs_json = {\"c82ab8ab-c627-40d1-add2-0a389bf6aecd\":{\"roots\":{\"references\":[{\"attributes\":{\"children\":[[{\"id\":\"1413\"},0,0],[{\"id\":\"1466\"},1,0],[{\"id\":\"1467\"},2,0]]},\"id\":\"1483\",\"type\":\"GridBox\"},{\"attributes\":{\"active_drag\":\"auto\",\"active_inspect\":\"auto\",\"active_multi\":null,\"active_scroll\":\"auto\",\"active_tap\":\"auto\",\"logo\":null,\"tools\":[{\"id\":\"1432\"},{\"id\":\"1433\"},{\"id\":\"1434\"},{\"id\":\"1435\"},{\"id\":\"1436\"},{\"id\":\"1437\"}]},\"id\":\"1439\",\"type\":\"Toolbar\"},{\"attributes\":{\"args\":{\"cost\":{\"id\":\"1447\"},\"done\":{\"id\":\"1448\"},\"n\":{\"id\":\"1449\"},\"source\":{\"id\":\"1450\"},\"tour\":{\"id\":\"1451\"}},\"code\":\"\\nif ((parseInt(n.text) - 1) >= 0) {\\n    n.text = (parseInt(n.text) - 1).toString()\\n}\\nvar iteration = parseInt(n.text)\\n\\nif (iteration == source.data['edges_y'].length - 2) {\\n    iteration = iteration - 1\\n}\\n\\n    cost.text = source.data['costs'][iteration].toFixed(3)\\n    \\n    if (iteration == source.data['edges_y'].length - 1) {\\n        done.text = \\\"done.\\\"\\n    } else {\\n        done.text = \\\"\\\"\\n    }\\n\\n    tour.data['edges_x'] = source.data['edges_x'][iteration]\\n    tour.data['edges_y'] = source.data['edges_y'][iteration]\\n    tour.change.emit()\\n    \"},\"id\":\"1465\",\"type\":\"CustomJS\"},{\"attributes\":{\"line_width\":4,\"x\":{\"field\":\"edges_x\"},\"y\":{\"field\":\"edges_y\"}},\"id\":\"1453\",\"type\":\"Line\"},{\"attributes\":{\"data_source\":{\"id\":\"1457\"},\"glyph\":{\"id\":\"1458\"},\"hover_glyph\":null,\"muted_glyph\":null,\"nonselection_glyph\":{\"id\":\"1459\"},\"selection_glyph\":null,\"view\":{\"id\":\"1461\"}},\"id\":\"1460\",\"type\":\"GlyphRenderer\"},{\"attributes\":{\"data_source\":{\"id\":\"1451\"},\"glyph\":{\"id\":\"1453\"},\"hover_glyph\":null,\"muted_glyph\":null,\"nonselection_glyph\":{\"id\":\"1454\"},\"selection_glyph\":null,\"view\":{\"id\":\"1456\"}},\"id\":\"1455\",\"type\":\"GlyphRenderer\"},{\"attributes\":{},\"id\":\"1433\",\"type\":\"WheelZoomTool\"},{\"attributes\":{},\"id\":\"1435\",\"type\":\"SaveTool\"},{\"attributes\":{\"align\":\"center\",\"text\":\"0\",\"width\":350},\"id\":\"1447\",\"type\":\"Div\"},{\"attributes\":{\"align\":\"center\",\"width\":300},\"id\":\"1448\",\"type\":\"Div\"},{\"attributes\":{},\"id\":\"1425\",\"type\":\"BasicTicker\"},{\"attributes\":{},\"id\":\"1437\",\"type\":\"HelpTool\"},{\"attributes\":{\"overlay\":{\"id\":\"1438\"}},\"id\":\"1434\",\"type\":\"BoxZoomTool\"},{\"attributes\":{\"data\":{\"x\":[0.0,0.0,0.0,0.0,0.0,1.0,1.0,1.0,1.0,1.0,2.0,2.0,2.0,2.0,2.0,3.0,3.0,3.0,3.0,3.0,4.0,4.0,4.0,4.0,4.0],\"y\":[0.0,1.0,2.0,3.0,4.0,0.0,1.0,2.0,3.0,4.0,0.0,1.0,2.0,3.0,4.0,0.0,1.0,2.0,3.0,4.0,0.0,1.0,2.0,3.0,4.0]},\"selected\":{\"id\":\"1476\"},\"selection_policy\":{\"id\":\"1477\"}},\"id\":\"1457\",\"type\":\"ColumnDataSource\"},{\"attributes\":{\"button_type\":\"success\",\"icon\":null,\"js_event_callbacks\":{\"button_click\":[{\"id\":\"1465\"}]},\"label\":\"Previous\",\"sizing_mode\":\"scale_width\",\"width_policy\":\"fit\"},\"id\":\"1464\",\"type\":\"Button\"},{\"attributes\":{\"source\":{\"id\":\"1451\"}},\"id\":\"1456\",\"type\":\"CDSView\"},{\"attributes\":{\"source\":{\"id\":\"1457\"}},\"id\":\"1461\",\"type\":\"CDSView\"},{\"attributes\":{\"end\":4.2,\"start\":-0.2},\"id\":\"1418\",\"type\":\"Range1d\"},{\"attributes\":{},\"id\":\"1477\",\"type\":\"UnionRenderers\"},{\"attributes\":{\"line_alpha\":0.1,\"line_width\":4,\"x\":{\"field\":\"edges_x\"},\"y\":{\"field\":\"edges_y\"}},\"id\":\"1454\",\"type\":\"Line\"},{\"attributes\":{\"axis\":{\"id\":\"1424\"},\"grid_line_color\":null,\"ticker\":null},\"id\":\"1427\",\"type\":\"Grid\"},{\"attributes\":{},\"id\":\"1436\",\"type\":\"ResetTool\"},{\"attributes\":{},\"id\":\"1432\",\"type\":\"PanTool\"},{\"attributes\":{\"fill_color\":{\"value\":\"steelblue\"},\"line_color\":{\"value\":\"steelblue\"},\"size\":{\"units\":\"screen\",\"value\":8},\"x\":{\"field\":\"x\"},\"y\":{\"field\":\"y\"}},\"id\":\"1458\",\"type\":\"Circle\"},{\"attributes\":{},\"id\":\"1429\",\"type\":\"BasicTicker\"},{\"attributes\":{\"axis\":{\"id\":\"1428\"},\"dimension\":1,\"grid_line_color\":null,\"ticker\":null},\"id\":\"1431\",\"type\":\"Grid\"},{\"attributes\":{},\"id\":\"1474\",\"type\":\"Selection\"},{\"attributes\":{\"button_type\":\"success\",\"icon\":null,\"js_event_callbacks\":{\"button_click\":[{\"id\":\"1463\"}]},\"label\":\"Next\",\"sizing_mode\":\"scale_width\",\"width_policy\":\"fit\"},\"id\":\"1462\",\"type\":\"Button\"},{\"attributes\":{\"formatter\":{\"id\":\"1471\"},\"ticker\":{\"id\":\"1429\"},\"visible\":false},\"id\":\"1428\",\"type\":\"LinearAxis\"},{\"attributes\":{\"data\":{\"edges_x\":[0.0],\"edges_y\":[0.0]},\"selected\":{\"id\":\"1474\"},\"selection_policy\":{\"id\":\"1475\"}},\"id\":\"1451\",\"type\":\"ColumnDataSource\"},{\"attributes\":{},\"id\":\"1469\",\"type\":\"BasicTickFormatter\"},{\"attributes\":{\"end\":4.2,\"start\":-0.2},\"id\":\"1416\",\"type\":\"Range1d\"},{\"attributes\":{\"text\":\"\"},\"id\":\"1414\",\"type\":\"Title\"},{\"attributes\":{},\"id\":\"1482\",\"type\":\"UnionRenderers\"},{\"attributes\":{\"data\":{\"costs\":[0,1.0,2.0,3.0,4.0,5.0,6.0,7.0,8.0,9.0,10.0,11.0,12.0,13.0,14.0,15.0,16.0,17.0,18.0,19.0,20.0,23.0,24.0,26.0,28.23606797749979,29.23606797749979],\"edges_x\":[[0.0],[0.0,1.0],[0.0,1.0,1.0],[0.0,1.0,1.0,2.0],[0.0,1.0,1.0,2.0,2.0],[0.0,1.0,1.0,2.0,2.0,2.0],[0.0,1.0,1.0,2.0,2.0,2.0,1.0],[0.0,1.0,1.0,2.0,2.0,2.0,1.0,1.0],[0.0,1.0,1.0,2.0,2.0,2.0,1.0,1.0,0.0],[0.0,1.0,1.0,2.0,2.0,2.0,1.0,1.0,0.0,0.0],[0.0,1.0,1.0,2.0,2.0,2.0,1.0,1.0,0.0,0.0,0.0],[0.0,1.0,1.0,2.0,2.0,2.0,1.0,1.0,0.0,0.0,0.0,1.0],[0.0,1.0,1.0,2.0,2.0,2.0,1.0,1.0,0.0,0.0,0.0,1.0,2.0],[0.0,1.0,1.0,2.0,2.0,2.0,1.0,1.0,0.0,0.0,0.0,1.0,2.0,3.0],[0.0,1.0,1.0,2.0,2.0,2.0,1.0,1.0,0.0,0.0,0.0,1.0,2.0,3.0,4.0],[0.0,1.0,1.0,2.0,2.0,2.0,1.0,1.0,0.0,0.0,0.0,1.0,2.0,3.0,4.0,4.0],[0.0,1.0,1.0,2.0,2.0,2.0,1.0,1.0,0.0,0.0,0.0,1.0,2.0,3.0,4.0,4.0,4.0],[0.0,1.0,1.0,2.0,2.0,2.0,1.0,1.0,0.0,0.0,0.0,1.0,2.0,3.0,4.0,4.0,4.0,4.0],[0.0,1.0,1.0,2.0,2.0,2.0,1.0,1.0,0.0,0.0,0.0,1.0,2.0,3.0,4.0,4.0,4.0,4.0,3.0],[0.0,1.0,1.0,2.0,2.0,2.0,1.0,1.0,0.0,0.0,0.0,1.0,2.0,3.0,4.0,4.0,4.0,4.0,3.0,3.0],[0.0,1.0,1.0,2.0,2.0,2.0,1.0,1.0,0.0,0.0,0.0,1.0,2.0,3.0,4.0,4.0,4.0,4.0,3.0,3.0,3.0],[0.0,1.0,1.0,2.0,2.0,2.0,1.0,1.0,0.0,0.0,0.0,1.0,2.0,3.0,4.0,4.0,4.0,4.0,3.0,3.0,3.0,3.0],[0.0,1.0,1.0,2.0,2.0,2.0,1.0,1.0,0.0,0.0,0.0,1.0,2.0,3.0,4.0,4.0,4.0,4.0,3.0,3.0,3.0,3.0,4.0],[0.0,1.0,1.0,2.0,2.0,2.0,1.0,1.0,0.0,0.0,0.0,1.0,2.0,3.0,4.0,4.0,4.0,4.0,3.0,3.0,3.0,3.0,4.0,2.0],[0.0,1.0,1.0,2.0,2.0,2.0,1.0,1.0,0.0,0.0,0.0,1.0,2.0,3.0,4.0,4.0,4.0,4.0,3.0,3.0,3.0,3.0,4.0,2.0,0.0],[0.0,1.0,1.0,2.0,2.0,2.0,1.0,1.0,0.0,0.0,0.0,1.0,2.0,3.0,4.0,4.0,4.0,4.0,3.0,3.0,3.0,3.0,4.0,2.0,0.0,0.0]],\"edges_y\":[[0.0],[0.0,0.0],[0.0,0.0,1.0],[0.0,0.0,1.0,1.0],[0.0,0.0,1.0,1.0,2.0],[0.0,0.0,1.0,1.0,2.0,3.0],[0.0,0.0,1.0,1.0,2.0,3.0,3.0],[0.0,0.0,1.0,1.0,2.0,3.0,3.0,2.0],[0.0,0.0,1.0,1.0,2.0,3.0,3.0,2.0,2.0],[0.0,0.0,1.0,1.0,2.0,3.0,3.0,2.0,2.0,3.0],[0.0,0.0,1.0,1.0,2.0,3.0,3.0,2.0,2.0,3.0,4.0],[0.0,0.0,1.0,1.0,2.0,3.0,3.0,2.0,2.0,3.0,4.0,4.0],[0.0,0.0,1.0,1.0,2.0,3.0,3.0,2.0,2.0,3.0,4.0,4.0,4.0],[0.0,0.0,1.0,1.0,2.0,3.0,3.0,2.0,2.0,3.0,4.0,4.0,4.0,4.0],[0.0,0.0,1.0,1.0,2.0,3.0,3.0,2.0,2.0,3.0,4.0,4.0,4.0,4.0,4.0],[0.0,0.0,1.0,1.0,2.0,3.0,3.0,2.0,2.0,3.0,4.0,4.0,4.0,4.0,4.0,3.0],[0.0,0.0,1.0,1.0,2.0,3.0,3.0,2.0,2.0,3.0,4.0,4.0,4.0,4.0,4.0,3.0,2.0],[0.0,0.0,1.0,1.0,2.0,3.0,3.0,2.0,2.0,3.0,4.0,4.0,4.0,4.0,4.0,3.0,2.0,1.0],[0.0,0.0,1.0,1.0,2.0,3.0,3.0,2.0,2.0,3.0,4.0,4.0,4.0,4.0,4.0,3.0,2.0,1.0,1.0],[0.0,0.0,1.0,1.0,2.0,3.0,3.0,2.0,2.0,3.0,4.0,4.0,4.0,4.0,4.0,3.0,2.0,1.0,1.0,2.0],[0.0,0.0,1.0,1.0,2.0,3.0,3.0,2.0,2.0,3.0,4.0,4.0,4.0,4.0,4.0,3.0,2.0,1.0,1.0,2.0,3.0],[0.0,0.0,1.0,1.0,2.0,3.0,3.0,2.0,2.0,3.0,4.0,4.0,4.0,4.0,4.0,3.0,2.0,1.0,1.0,2.0,3.0,0.0],[0.0,0.0,1.0,1.0,2.0,3.0,3.0,2.0,2.0,3.0,4.0,4.0,4.0,4.0,4.0,3.0,2.0,1.0,1.0,2.0,3.0,0.0,0.0],[0.0,0.0,1.0,1.0,2.0,3.0,3.0,2.0,2.0,3.0,4.0,4.0,4.0,4.0,4.0,3.0,2.0,1.0,1.0,2.0,3.0,0.0,0.0,0.0],[0.0,0.0,1.0,1.0,2.0,3.0,3.0,2.0,2.0,3.0,4.0,4.0,4.0,4.0,4.0,3.0,2.0,1.0,1.0,2.0,3.0,0.0,0.0,0.0,1.0],[0.0,0.0,1.0,1.0,2.0,3.0,3.0,2.0,2.0,3.0,4.0,4.0,4.0,4.0,4.0,3.0,2.0,1.0,1.0,2.0,3.0,0.0,0.0,0.0,1.0,0.0]]},\"selected\":{\"id\":\"1481\"},\"selection_policy\":{\"id\":\"1482\"}},\"id\":\"1450\",\"type\":\"ColumnDataSource\"},{\"attributes\":{\"children\":[{\"id\":\"1447\"},{\"id\":\"1448\"}]},\"id\":\"1467\",\"type\":\"Row\"},{\"attributes\":{\"align\":\"center\",\"text\":\"0\",\"width\":400},\"id\":\"1449\",\"type\":\"Div\"},{\"attributes\":{},\"id\":\"1420\",\"type\":\"LinearScale\"},{\"attributes\":{},\"id\":\"1422\",\"type\":\"LinearScale\"},{\"attributes\":{},\"id\":\"1471\",\"type\":\"BasicTickFormatter\"},{\"attributes\":{\"children\":[{\"id\":\"1464\"},{\"id\":\"1462\"}],\"max_width\":400,\"sizing_mode\":\"stretch_both\"},\"id\":\"1466\",\"type\":\"Row\"},{\"attributes\":{\"bottom_units\":\"screen\",\"fill_alpha\":0.5,\"fill_color\":\"lightgrey\",\"left_units\":\"screen\",\"level\":\"overlay\",\"line_alpha\":1.0,\"line_color\":\"black\",\"line_dash\":[4,4],\"line_width\":2,\"right_units\":\"screen\",\"top_units\":\"screen\"},\"id\":\"1438\",\"type\":\"BoxAnnotation\"},{\"attributes\":{\"formatter\":{\"id\":\"1469\"},\"ticker\":{\"id\":\"1425\"},\"visible\":false},\"id\":\"1424\",\"type\":\"LinearAxis\"},{\"attributes\":{},\"id\":\"1481\",\"type\":\"Selection\"},{\"attributes\":{\"fill_alpha\":{\"value\":0.1},\"fill_color\":{\"value\":\"steelblue\"},\"line_alpha\":{\"value\":0.1},\"line_color\":{\"value\":\"steelblue\"},\"size\":{\"units\":\"screen\",\"value\":8},\"x\":{\"field\":\"x\"},\"y\":{\"field\":\"y\"}},\"id\":\"1459\",\"type\":\"Circle\"},{\"attributes\":{},\"id\":\"1475\",\"type\":\"UnionRenderers\"},{\"attributes\":{\"background_fill_color\":null,\"below\":[{\"id\":\"1424\"}],\"border_fill_color\":null,\"center\":[{\"id\":\"1427\"},{\"id\":\"1431\"}],\"left\":[{\"id\":\"1428\"}],\"outline_line_color\":null,\"plot_height\":400,\"plot_width\":400,\"renderers\":[{\"id\":\"1455\"},{\"id\":\"1460\"}],\"title\":{\"id\":\"1414\"},\"toolbar\":{\"id\":\"1439\"},\"toolbar_location\":null,\"x_range\":{\"id\":\"1416\"},\"x_scale\":{\"id\":\"1420\"},\"y_range\":{\"id\":\"1418\"},\"y_scale\":{\"id\":\"1422\"}},\"id\":\"1413\",\"subtype\":\"Figure\",\"type\":\"Plot\"},{\"attributes\":{},\"id\":\"1476\",\"type\":\"Selection\"},{\"attributes\":{\"args\":{\"cost\":{\"id\":\"1447\"},\"done\":{\"id\":\"1448\"},\"n\":{\"id\":\"1449\"},\"source\":{\"id\":\"1450\"},\"tour\":{\"id\":\"1451\"}},\"code\":\"\\nif ((parseInt(n.text) + 1) < source.data['edges_y'].length) {\\n    n.text = (parseInt(n.text) + 1).toString()\\n}\\nvar iteration = parseInt(n.text)\\n\\nif (iteration == source.data['edges_y'].length - 2) {\\n    iteration = iteration + 1\\n}\\n\\n    cost.text = source.data['costs'][iteration].toFixed(3)\\n    \\n    if (iteration == source.data['edges_y'].length - 1) {\\n        done.text = \\\"done.\\\"\\n    } else {\\n        done.text = \\\"\\\"\\n    }\\n\\n    tour.data['edges_x'] = source.data['edges_x'][iteration]\\n    tour.data['edges_y'] = source.data['edges_y'][iteration]\\n    tour.change.emit()\\n    \"},\"id\":\"1463\",\"type\":\"CustomJS\"}],\"root_ids\":[\"1483\"]},\"title\":\"Bokeh Application\",\"version\":\"2.1.0\"}};\n",
       "  var render_items = [{\"docid\":\"c82ab8ab-c627-40d1-add2-0a389bf6aecd\",\"root_ids\":[\"1483\"],\"roots\":{\"1483\":\"50c3e9ad-141b-43dc-af59-cff94034165b\"}}];\n",
       "  root.Bokeh.embed.embed_items_notebook(docs_json, render_items);\n",
       "\n",
       "  }\n",
       "  if (root.Bokeh !== undefined) {\n",
       "    embed_document(root);\n",
       "  } else {\n",
       "    var attempts = 0;\n",
       "    var timer = setInterval(function(root) {\n",
       "      if (root.Bokeh !== undefined) {\n",
       "        clearInterval(timer);\n",
       "        embed_document(root);\n",
       "      } else {\n",
       "        attempts++;\n",
       "        if (attempts > 100) {\n",
       "          clearInterval(timer);\n",
       "          console.log(\"Bokeh: ERROR: Unable to run BokehJS code because BokehJS library is missing\");\n",
       "        }\n",
       "      }\n",
       "    }, 10, root)\n",
       "  }\n",
       "})(window);"
      ],
      "application/vnd.bokehjs_exec.v0+json": ""
     },
     "metadata": {
      "application/vnd.bokehjs_exec.v0+json": {
       "id": "1483"
      }
     },
     "output_type": "display_data"
    }
   ],
   "source": [
    "# explore heuristic\n",
    "nodes, G = tsp_grid_instance(5,5,manhattan=False)\n",
    "tour = plot_tsp_heuristic(nodes, G, heuristic='nearest_neighbor', initial=0)"
   ]
  },
  {
   "cell_type": "code",
   "execution_count": 4,
   "metadata": {},
   "outputs": [
    {
     "name": "stdout",
     "output_type": "stream",
     "text": [
      "Heuristic Averages:\n",
      "Random Neighbor: 221.0\n",
      "Nearest Neighbor: 65.4\n",
      "Nearest Insertion: 58.0\n",
      "Furthest Insertion: 58.2\n"
     ]
    }
   ],
   "source": [
    "# compare\n",
    "n = 10\n",
    "random_neighbor_total = 0\n",
    "nearest_neighbor_total = 0\n",
    "nearest_insertion_total = 0\n",
    "furthest_insertion_total = 0\n",
    "for i in range(n):\n",
    "    nodes, G = tsp_grid_instance(6,8,True)\n",
    "    random_neighbor_total += tour_cost(G, random_neighbor(G))\n",
    "    nearest_neighbor_total += tour_cost(G, nearest_neighbor(G))\n",
    "    nearest_insertion_total += tour_cost(G, nearest_insertion(G))\n",
    "    furthest_insertion_total += tour_cost(G, furthest_insertion(G))\n",
    "print(\"Heuristic Averages:\")\n",
    "print(\"Random Neighbor: %s\" % (random_neighbor_total / n))\n",
    "print(\"Nearest Neighbor: %s\" % (nearest_neighbor_total / n))\n",
    "print(\"Nearest Insertion: %s\" % (nearest_insertion_total / n))\n",
    "print(\"Furthest Insertion: %s\" % (furthest_insertion_total / n))"
   ]
  },
  {
   "cell_type": "code",
   "execution_count": 5,
   "metadata": {},
   "outputs": [],
   "source": [
    "# VLSI drilling\n",
    "nodes = pd.read_csv('data/xqg237.csv', index_col=0)\n",
    "# G = distance_matrix(nodes, manhattan=False)\n",
    "# plot_tour(nodes, G, solve_tsp(G))"
   ]
  },
  {
   "cell_type": "code",
   "execution_count": 6,
   "metadata": {
    "scrolled": false
   },
   "outputs": [
    {
     "data": {
      "text/html": [
       "\n",
       "\n",
       "\n",
       "\n",
       "\n",
       "\n",
       "  <div class=\"bk-root\" id=\"feb543b9-e94b-4d74-9407-06178fdf0775\" data-root-id=\"1666\"></div>\n"
      ]
     },
     "metadata": {},
     "output_type": "display_data"
    },
    {
     "data": {
      "application/javascript": [
       "(function(root) {\n",
       "  function embed_document(root) {\n",
       "    \n",
       "  var docs_json = {\"a1cd70e1-f0f7-43cc-a9d2-f6ff391f33ec\":{\"roots\":{\"references\":[{\"attributes\":{\"children\":[[{\"id\":\"1596\"},0,0],[{\"id\":\"1630\"},1,0]]},\"id\":\"1666\",\"type\":\"GridBox\"},{\"attributes\":{},\"id\":\"1615\",\"type\":\"PanTool\"},{\"attributes\":{},\"id\":\"1660\",\"type\":\"UnionRenderers\"},{\"attributes\":{\"fill_alpha\":{\"value\":0.1},\"fill_color\":{\"value\":\"steelblue\"},\"line_alpha\":{\"value\":0.1},\"line_color\":{\"value\":\"steelblue\"},\"size\":{\"units\":\"screen\",\"value\":5},\"x\":{\"field\":\"x\"},\"y\":{\"field\":\"y\"}},\"id\":\"1643\",\"type\":\"Circle\"},{\"attributes\":{\"data_source\":{\"id\":\"1641\"},\"glyph\":{\"id\":\"1642\"},\"hover_glyph\":null,\"muted_glyph\":null,\"nonselection_glyph\":{\"id\":\"1643\"},\"selection_glyph\":null,\"view\":{\"id\":\"1645\"}},\"id\":\"1644\",\"type\":\"GlyphRenderer\"},{\"attributes\":{\"axis\":{\"id\":\"1611\"},\"dimension\":1,\"grid_line_color\":null,\"ticker\":null},\"id\":\"1614\",\"type\":\"Grid\"},{\"attributes\":{},\"id\":\"1603\",\"type\":\"LinearScale\"},{\"attributes\":{\"source\":{\"id\":\"1641\"}},\"id\":\"1645\",\"type\":\"CDSView\"},{\"attributes\":{\"formatter\":{\"id\":\"1654\"},\"ticker\":{\"id\":\"1612\"},\"visible\":false},\"id\":\"1611\",\"type\":\"LinearAxis\"},{\"attributes\":{\"data\":{\"x\":[3,1,6,3,5,6,12,4,12,6,12,6,11,12,13,14,15,19,18,18,14,18,14,18,21,17,23,18,23,23,23,19,19,24,24,24,25,23,23,25,18,25,17,25,30,32,26,26,32,26,26,30,25,27,27,34,27,29,28,28,33,35,32,36,36,33,36,37,42,40,37,34,39,33,36,38,38,43,39,41,45,47,47,42,47,46,51,53,51,51,58,59,62,60,60,62,68,62,67,70,72,70,71,78,74,82,80,81,79,73,74,73,76,81,78,79,78,82,85,80,85,83,81,84,87,90,89,87,91,87,110,3,0],\"y\":[13,29,30,39,1,16,22,28,34,40,46,11,7,10,15,16,16,8,13,24,28,31,40,50,11,20,16,18,20,22,24,26,28,30,32,34,36,38,40,42,44,45,47,48,14,18,25,26,27,29,31,32,12,19,23,31,33,37,43,46,50,27,34,16,31,32,37,13,29,32,38,41,44,8,20,36,19,23,33,41,25,26,35,37,38,39,27,30,13,48,50,24,15,30,43,48,50,9,28,14,16,19,48,50,15,19,23,27,32,38,42,9,24,9,35,38,42,17,36,40,13,40,8,22,25,27,32,40,41,13,32,3,0]},\"selected\":{\"id\":\"1663\"},\"selection_policy\":{\"id\":\"1664\"}},\"id\":\"1646\",\"type\":\"ColumnDataSource\"},{\"attributes\":{\"fill_color\":{\"value\":\"steelblue\"},\"line_color\":{\"value\":\"steelblue\"},\"size\":{\"units\":\"screen\",\"value\":5},\"x\":{\"field\":\"x\"},\"y\":{\"field\":\"y\"}},\"id\":\"1642\",\"type\":\"Circle\"},{\"attributes\":{},\"id\":\"1612\",\"type\":\"BasicTicker\"},{\"attributes\":{},\"id\":\"1616\",\"type\":\"WheelZoomTool\"},{\"attributes\":{},\"id\":\"1620\",\"type\":\"HelpTool\"},{\"attributes\":{\"align\":\"center\",\"text\":\"681.194\",\"width\":800},\"id\":\"1630\",\"type\":\"Div\"},{\"attributes\":{},\"id\":\"1659\",\"type\":\"Selection\"},{\"attributes\":{\"data\":{\"xs\":[[3.0,3.0],[3.0,1.0],[3.0,6.0],[3.0,3.0],[5.0,5.0],[8.0,6.0],[8.0,12.0],[8.0,4.0],[8.0,12.0],[8.0,6.0],[8.0,12.0],[8.0,6.0],[11.0,11.0],[12.0,12.0],[13.0,13.0],[14.0,14.0],[15.0,15.0],[15.0,19.0],[18.0,18.0],[18.0,18.0],[18.0,14.0],[18.0,18.0],[18.0,14.0],[18.0,18.0],[18.0,21.0],[13.0,17.0],[21.0,23.0],[21.0,18.0],[21.0,23.0],[21.0,23.0],[21.0,23.0],[21.0,19.0],[21.0,19.0],[21.0,24.0],[21.0,24.0],[21.0,24.0],[21.0,25.0],[21.0,23.0],[21.0,23.0],[21.0,25.0],[21.0,18.0],[21.0,25.0],[21.0,17.0],[21.0,25.0],[28.0,30.0],[28.0,32.0],[28.0,26.0],[28.0,26.0],[28.0,32.0],[28.0,26.0],[28.0,26.0],[28.0,30.0],[28.0,25.0],[31.0,27.0],[31.0,27.0],[31.0,34.0],[31.0,27.0],[31.0,29.0],[31.0,28.0],[31.0,28.0],[31.0,33.0],[35.0,35.0],[35.0,32.0],[36.0,36.0],[36.0,36.0],[36.0,33.0],[36.0,36.0],[37.0,37.0],[37.0,42.0],[37.0,40.0],[37.0,37.0],[37.0,34.0],[37.0,39.0],[37.0,33.0],[38.0,36.0],[38.0,38.0],[41.0,38.0],[41.0,43.0],[41.0,39.0],[41.0,41.0],[43.0,45.0],[44.0,47.0],[44.0,47.0],[44.0,42.0],[44.0,47.0],[44.0,46.0],[51.0,51.0],[51.0,53.0],[51.0,51.0],[54.0,51.0],[54.0,58.0],[59.0,59.0],[60.0,62.0],[60.0,60.0],[60.0,60.0],[64.0,62.0],[64.0,68.0],[66.0,62.0],[67.0,67.0],[74.0,70.0],[74.0,72.0],[74.0,70.0],[74.0,71.0],[74.0,78.0],[77.0,74.0],[77.0,82.0],[77.0,80.0],[77.0,81.0],[77.0,79.0],[77.0,73.0],[77.0,74.0],[77.0,73.0],[80.0,76.0],[81.0,81.0],[81.0,78.0],[81.0,79.0],[81.0,78.0],[82.0,82.0],[82.0,85.0],[82.0,80.0],[83.0,85.0],[83.0,83.0],[83.0,81.0],[84.0,84.0],[87.0,87.0],[87.0,90.0],[87.0,89.0],[87.0,87.0],[87.0,91.0],[87.0,87.0],[110.0,110.0],[3.0,3.0],[0.0,0.0]],\"ys\":[[16.0,13.0],[29.0,29.0],[30.0,30.0],[42.0,39.0],[3.0,1.0],[16.0,16.0],[22.0,22.0],[28.0,28.0],[34.0,34.0],[40.0,40.0],[46.0,46.0],[11.0,11.0],[3.0,7.0],[13.0,10.0],[13.0,15.0],[13.0,16.0],[13.0,16.0],[8.0,8.0],[16.0,13.0],[22.0,24.0],[28.0,28.0],[34.0,31.0],[40.0,40.0],[48.0,50.0],[11.0,11.0],[20.0,20.0],[16.0,16.0],[18.0,18.0],[20.0,20.0],[22.0,22.0],[24.0,24.0],[26.0,26.0],[28.0,28.0],[30.0,30.0],[32.0,32.0],[34.0,34.0],[36.0,36.0],[38.0,38.0],[40.0,40.0],[42.0,42.0],[44.0,44.0],[45.0,45.0],[47.0,47.0],[48.0,48.0],[14.0,14.0],[18.0,18.0],[25.0,25.0],[26.0,26.0],[27.0,27.0],[29.0,29.0],[31.0,31.0],[32.0,32.0],[12.0,12.0],[19.0,19.0],[23.0,23.0],[31.0,31.0],[33.0,33.0],[37.0,37.0],[43.0,43.0],[46.0,46.0],[50.0,50.0],[29.0,27.0],[34.0,34.0],[18.0,16.0],[29.0,31.0],[32.0,32.0],[34.0,37.0],[18.0,13.0],[29.0,29.0],[32.0,32.0],[34.0,38.0],[41.0,41.0],[44.0,44.0],[8.0,8.0],[20.0,20.0],[34.0,36.0],[19.0,19.0],[23.0,23.0],[33.0,33.0],[37.0,41.0],[25.0,25.0],[26.0,26.0],[35.0,35.0],[37.0,37.0],[38.0,38.0],[39.0,39.0],[25.0,27.0],[30.0,30.0],[9.0,13.0],[48.0,48.0],[50.0,50.0],[28.0,24.0],[15.0,15.0],[28.0,30.0],[47.0,43.0],[48.0,48.0],[50.0,50.0],[9.0,9.0],[25.0,28.0],[14.0,14.0],[16.0,16.0],[19.0,19.0],[48.0,48.0],[50.0,50.0],[15.0,15.0],[19.0,19.0],[23.0,23.0],[27.0,27.0],[32.0,32.0],[38.0,38.0],[42.0,42.0],[9.0,9.0],[24.0,24.0],[13.0,9.0],[35.0,35.0],[38.0,38.0],[42.0,42.0],[13.0,17.0],[36.0,36.0],[40.0,40.0],[13.0,13.0],[44.0,40.0],[8.0,8.0],[20.0,22.0],[23.0,25.0],[27.0,27.0],[32.0,32.0],[37.0,40.0],[41.0,41.0],[9.0,13.0],[30.0,32.0],[3.0,3.0],[0.0,0.0]]},\"selected\":{\"id\":\"1657\"},\"selection_policy\":{\"id\":\"1658\"}},\"id\":\"1631\",\"type\":\"ColumnDataSource\"},{\"attributes\":{},\"id\":\"1661\",\"type\":\"Selection\"},{\"attributes\":{\"fill_alpha\":{\"value\":0.1},\"fill_color\":{\"value\":\"#DC0000\"},\"line_alpha\":{\"value\":0.1},\"line_color\":{\"value\":\"#DC0000\"},\"size\":{\"units\":\"screen\",\"value\":5},\"x\":{\"field\":\"x\"},\"y\":{\"field\":\"y\"}},\"id\":\"1648\",\"type\":\"Circle\"},{\"attributes\":{\"bottom_units\":\"screen\",\"fill_alpha\":0.5,\"fill_color\":\"lightgrey\",\"left_units\":\"screen\",\"level\":\"overlay\",\"line_alpha\":1.0,\"line_color\":\"black\",\"line_dash\":[4,4],\"line_width\":2,\"right_units\":\"screen\",\"top_units\":\"screen\"},\"id\":\"1621\",\"type\":\"BoxAnnotation\"},{\"attributes\":{\"data_source\":{\"id\":\"1646\"},\"glyph\":{\"id\":\"1647\"},\"hover_glyph\":null,\"muted_glyph\":null,\"nonselection_glyph\":{\"id\":\"1648\"},\"selection_glyph\":null,\"view\":{\"id\":\"1650\"}},\"id\":\"1649\",\"type\":\"GlyphRenderer\"},{\"attributes\":{\"active_drag\":\"auto\",\"active_inspect\":\"auto\",\"active_multi\":null,\"active_scroll\":\"auto\",\"active_tap\":\"auto\",\"logo\":null,\"tools\":[{\"id\":\"1615\"},{\"id\":\"1616\"},{\"id\":\"1617\"},{\"id\":\"1618\"},{\"id\":\"1619\"},{\"id\":\"1620\"}]},\"id\":\"1622\",\"type\":\"Toolbar\"},{\"attributes\":{\"source\":{\"id\":\"1646\"}},\"id\":\"1650\",\"type\":\"CDSView\"},{\"attributes\":{\"overlay\":{\"id\":\"1621\"}},\"id\":\"1617\",\"type\":\"BoxZoomTool\"},{\"attributes\":{\"fill_color\":{\"value\":\"#DC0000\"},\"line_color\":{\"value\":\"#DC0000\"},\"size\":{\"units\":\"screen\",\"value\":5},\"x\":{\"field\":\"x\"},\"y\":{\"field\":\"y\"}},\"id\":\"1647\",\"type\":\"Circle\"},{\"attributes\":{\"line_alpha\":{\"value\":0.1},\"line_width\":{\"value\":2},\"xs\":{\"field\":\"xs\"},\"ys\":{\"field\":\"ys\"}},\"id\":\"1633\",\"type\":\"MultiLine\"},{\"attributes\":{},\"id\":\"1605\",\"type\":\"LinearScale\"},{\"attributes\":{\"line_width\":{\"value\":2},\"xs\":{\"field\":\"xs\"},\"ys\":{\"field\":\"ys\"}},\"id\":\"1632\",\"type\":\"MultiLine\"},{\"attributes\":{\"data_source\":{\"id\":\"1631\"},\"glyph\":{\"id\":\"1632\"},\"hover_glyph\":null,\"muted_glyph\":null,\"nonselection_glyph\":{\"id\":\"1633\"},\"selection_glyph\":null,\"view\":{\"id\":\"1635\"}},\"id\":\"1634\",\"type\":\"GlyphRenderer\"},{\"attributes\":{},\"id\":\"1652\",\"type\":\"BasicTickFormatter\"},{\"attributes\":{},\"id\":\"1619\",\"type\":\"ResetTool\"},{\"attributes\":{},\"id\":\"1608\",\"type\":\"BasicTicker\"},{\"attributes\":{\"source\":{\"id\":\"1631\"}},\"id\":\"1635\",\"type\":\"CDSView\"},{\"attributes\":{\"end\":52.5,\"start\":-2.5},\"id\":\"1601\",\"type\":\"Range1d\"},{\"attributes\":{\"end\":115.5,\"start\":-5.5},\"id\":\"1599\",\"type\":\"Range1d\"},{\"attributes\":{},\"id\":\"1654\",\"type\":\"BasicTickFormatter\"},{\"attributes\":{},\"id\":\"1657\",\"type\":\"Selection\"},{\"attributes\":{\"data\":{\"x\":[3.0,3.0,8.0,6.0,13.0,13.0,15.0,15.0,18.0,18.0,21.0,18.0,21.0,23.0,28.0,26.0,28.0,26.0,28.0,26.0,28.0,30.0,31.0,27.0,36.0,33.0,36.0,36.0,35.0,35.0,28.0,32.0,28.0,26.0,31.0,27.0,28.0,32.0,28.0,30.0,28.0,25.0,37.0,33.0,37.0,37.0,38.0,36.0,41.0,43.0,37.0,40.0,41.0,39.0,44.0,42.0,44.0,47.0,44.0,47.0,44.0,46.0,41.0,41.0,37.0,37.0,38.0,38.0,36.0,36.0,31.0,29.0,21.0,25.0,21.0,23.0,21.0,23.0,21.0,25.0,21.0,18.0,21.0,25.0,21.0,17.0,21.0,25.0,18.0,18.0,8.0,12.0,3.0,3.0,8.0,6.0,18.0,14.0,8.0,12.0,3.0,6.0,3.0,1.0,8.0,4.0,18.0,14.0,18.0,18.0,13.0,17.0,8.0,12.0,8.0,6.0,3.0,3.0,0.0,0.0,5.0,5.0,11.0,11.0,15.0,19.0,18.0,21.0,21.0,23.0,31.0,27.0,36.0,36.0,41.0,38.0,51.0,51.0,66.0,62.0,77.0,73.0,83.0,81.0,81.0,81.0,82.0,82.0,83.0,85.0,87.0,87.0,110.0,110.0,87.0,89.0,87.0,90.0,87.0,87.0,84.0,84.0,77.0,82.0,77.0,80.0,67.0,67.0,59.0,59.0,60.0,60.0,60.0,62.0,74.0,70.0,77.0,74.0,74.0,72.0,74.0,70.0,80.0,76.0,77.0,81.0,77.0,79.0,81.0,78.0,81.0,79.0,82.0,80.0,83.0,83.0,87.0,91.0,87.0,87.0,82.0,85.0,77.0,73.0,77.0,74.0,81.0,78.0,74.0,78.0,74.0,71.0,64.0,68.0,64.0,62.0,60.0,60.0,54.0,58.0,54.0,51.0,51.0,53.0,51.0,51.0,44.0,47.0,43.0,45.0,37.0,42.0,31.0,34.0,35.0,32.0,37.0,34.0,37.0,39.0,31.0,33.0,31.0,28.0,31.0,28.0,21.0,24.0,21.0,24.0,21.0,24.0,18.0,18.0,21.0,19.0,21.0,19.0,21.0,23.0,21.0,23.0,14.0,14.0,12.0,12.0,3.0,3.0],\"y\":[16.0,13.0,16.0,16.0,13.0,15.0,13.0,16.0,16.0,13.0,18.0,18.0,20.0,20.0,26.0,26.0,29.0,29.0,31.0,31.0,32.0,32.0,33.0,33.0,32.0,32.0,29.0,31.0,29.0,27.0,27.0,27.0,25.0,25.0,23.0,23.0,18.0,18.0,14.0,14.0,12.0,12.0,8.0,8.0,18.0,13.0,20.0,20.0,23.0,23.0,32.0,32.0,33.0,33.0,37.0,37.0,35.0,35.0,38.0,38.0,39.0,39.0,37.0,41.0,34.0,38.0,34.0,36.0,34.0,37.0,37.0,37.0,36.0,36.0,38.0,38.0,40.0,40.0,42.0,42.0,44.0,44.0,45.0,45.0,47.0,47.0,48.0,48.0,48.0,50.0,46.0,46.0,42.0,39.0,40.0,40.0,40.0,40.0,34.0,34.0,30.0,30.0,29.0,29.0,28.0,28.0,28.0,28.0,22.0,24.0,20.0,20.0,22.0,22.0,11.0,11.0,3.0,3.0,0.0,0.0,3.0,1.0,3.0,7.0,8.0,8.0,11.0,11.0,16.0,16.0,19.0,19.0,18.0,16.0,19.0,19.0,9.0,13.0,9.0,9.0,9.0,9.0,8.0,8.0,13.0,9.0,13.0,17.0,13.0,13.0,9.0,13.0,30.0,32.0,32.0,32.0,27.0,27.0,23.0,25.0,20.0,22.0,19.0,19.0,23.0,23.0,25.0,28.0,28.0,24.0,28.0,30.0,15.0,15.0,14.0,14.0,15.0,15.0,16.0,16.0,19.0,19.0,24.0,24.0,27.0,27.0,32.0,32.0,35.0,35.0,38.0,38.0,40.0,40.0,44.0,40.0,41.0,41.0,37.0,40.0,36.0,36.0,38.0,38.0,42.0,42.0,42.0,42.0,50.0,50.0,48.0,48.0,50.0,50.0,48.0,48.0,47.0,43.0,50.0,50.0,48.0,48.0,30.0,30.0,25.0,27.0,26.0,26.0,25.0,25.0,29.0,29.0,31.0,31.0,34.0,34.0,41.0,41.0,44.0,44.0,50.0,50.0,46.0,46.0,43.0,43.0,34.0,34.0,32.0,32.0,30.0,30.0,34.0,31.0,28.0,28.0,26.0,26.0,24.0,24.0,22.0,22.0,13.0,16.0,13.0,10.0,16.0,13.0]},\"selected\":{\"id\":\"1659\"},\"selection_policy\":{\"id\":\"1660\"}},\"id\":\"1636\",\"type\":\"ColumnDataSource\"},{\"attributes\":{\"text\":\"\"},\"id\":\"1597\",\"type\":\"Title\"},{\"attributes\":{},\"id\":\"1658\",\"type\":\"UnionRenderers\"},{\"attributes\":{\"formatter\":{\"id\":\"1652\"},\"ticker\":{\"id\":\"1608\"},\"visible\":false},\"id\":\"1607\",\"type\":\"LinearAxis\"},{\"attributes\":{},\"id\":\"1662\",\"type\":\"UnionRenderers\"},{\"attributes\":{\"axis\":{\"id\":\"1607\"},\"grid_line_color\":null,\"ticker\":null},\"id\":\"1610\",\"type\":\"Grid\"},{\"attributes\":{},\"id\":\"1663\",\"type\":\"Selection\"},{\"attributes\":{\"background_fill_color\":null,\"below\":[{\"id\":\"1607\"}],\"border_fill_color\":null,\"center\":[{\"id\":\"1610\"},{\"id\":\"1614\"}],\"left\":[{\"id\":\"1611\"}],\"outline_line_color\":null,\"plot_height\":400,\"plot_width\":800,\"renderers\":[{\"id\":\"1634\"},{\"id\":\"1639\"},{\"id\":\"1644\"},{\"id\":\"1649\"}],\"title\":{\"id\":\"1597\"},\"toolbar\":{\"id\":\"1622\"},\"toolbar_location\":null,\"x_range\":{\"id\":\"1599\"},\"x_scale\":{\"id\":\"1603\"},\"y_range\":{\"id\":\"1601\"},\"y_scale\":{\"id\":\"1605\"}},\"id\":\"1596\",\"subtype\":\"Figure\",\"type\":\"Plot\"},{\"attributes\":{\"source\":{\"id\":\"1636\"}},\"id\":\"1640\",\"type\":\"CDSView\"},{\"attributes\":{},\"id\":\"1664\",\"type\":\"UnionRenderers\"},{\"attributes\":{\"data_source\":{\"id\":\"1636\"},\"glyph\":{\"id\":\"1637\"},\"hover_glyph\":null,\"muted_glyph\":null,\"nonselection_glyph\":{\"id\":\"1638\"},\"selection_glyph\":null,\"view\":{\"id\":\"1640\"}},\"id\":\"1639\",\"type\":\"GlyphRenderer\"},{\"attributes\":{\"line_alpha\":0.1,\"line_dash\":[6],\"line_width\":2,\"x\":{\"field\":\"x\"},\"y\":{\"field\":\"y\"}},\"id\":\"1638\",\"type\":\"Line\"},{\"attributes\":{\"line_dash\":[6],\"line_width\":2,\"x\":{\"field\":\"x\"},\"y\":{\"field\":\"y\"}},\"id\":\"1637\",\"type\":\"Line\"},{\"attributes\":{\"data\":{\"x\":[3.0,3.0,3.0,3.0,5.0,8.0,8.0,8.0,8.0,8.0,8.0,8.0,11.0,12.0,13.0,14.0,15.0,15.0,18.0,18.0,18.0,18.0,18.0,18.0,18.0,13.0,21.0,21.0,21.0,21.0,21.0,21.0,21.0,21.0,21.0,21.0,21.0,21.0,21.0,21.0,21.0,21.0,21.0,21.0,28.0,28.0,28.0,28.0,28.0,28.0,28.0,28.0,28.0,31.0,31.0,31.0,31.0,31.0,31.0,31.0,31.0,35.0,35.0,36.0,36.0,36.0,36.0,37.0,37.0,37.0,37.0,37.0,37.0,37.0,38.0,38.0,41.0,41.0,41.0,41.0,43.0,44.0,44.0,44.0,44.0,44.0,51.0,51.0,51.0,54.0,54.0,59.0,60.0,60.0,60.0,64.0,64.0,66.0,67.0,74.0,74.0,74.0,74.0,74.0,77.0,77.0,77.0,77.0,77.0,77.0,77.0,77.0,80.0,81.0,81.0,81.0,81.0,82.0,82.0,82.0,83.0,83.0,83.0,84.0,87.0,87.0,87.0,87.0,87.0,87.0,110.0,3.0,0.0],\"y\":[16.0,29.0,30.0,42.0,3.0,16.0,22.0,28.0,34.0,40.0,46.0,11.0,3.0,13.0,13.0,13.0,13.0,8.0,16.0,22.0,28.0,34.0,40.0,48.0,11.0,20.0,16.0,18.0,20.0,22.0,24.0,26.0,28.0,30.0,32.0,34.0,36.0,38.0,40.0,42.0,44.0,45.0,47.0,48.0,14.0,18.0,25.0,26.0,27.0,29.0,31.0,32.0,12.0,19.0,23.0,31.0,33.0,37.0,43.0,46.0,50.0,29.0,34.0,18.0,29.0,32.0,34.0,18.0,29.0,32.0,34.0,41.0,44.0,8.0,20.0,34.0,19.0,23.0,33.0,37.0,25.0,26.0,35.0,37.0,38.0,39.0,25.0,30.0,9.0,48.0,50.0,28.0,15.0,28.0,47.0,48.0,50.0,9.0,25.0,14.0,16.0,19.0,48.0,50.0,15.0,19.0,23.0,27.0,32.0,38.0,42.0,9.0,24.0,13.0,35.0,38.0,42.0,13.0,36.0,40.0,13.0,44.0,8.0,20.0,23.0,27.0,32.0,37.0,41.0,9.0,30.0,3.0,0.0]},\"selected\":{\"id\":\"1661\"},\"selection_policy\":{\"id\":\"1662\"}},\"id\":\"1641\",\"type\":\"ColumnDataSource\"},{\"attributes\":{},\"id\":\"1618\",\"type\":\"SaveTool\"}],\"root_ids\":[\"1666\"]},\"title\":\"Bokeh Application\",\"version\":\"2.1.0\"}};\n",
       "  var render_items = [{\"docid\":\"a1cd70e1-f0f7-43cc-a9d2-f6ff391f33ec\",\"root_ids\":[\"1666\"],\"roots\":{\"1666\":\"feb543b9-e94b-4d74-9407-06178fdf0775\"}}];\n",
       "  root.Bokeh.embed.embed_items_notebook(docs_json, render_items);\n",
       "\n",
       "  }\n",
       "  if (root.Bokeh !== undefined) {\n",
       "    embed_document(root);\n",
       "  } else {\n",
       "    var attempts = 0;\n",
       "    var timer = setInterval(function(root) {\n",
       "      if (root.Bokeh !== undefined) {\n",
       "        clearInterval(timer);\n",
       "        embed_document(root);\n",
       "      } else {\n",
       "        attempts++;\n",
       "        if (attempts > 100) {\n",
       "          clearInterval(timer);\n",
       "          console.log(\"Bokeh: ERROR: Unable to run BokehJS code because BokehJS library is missing\");\n",
       "        }\n",
       "      }\n",
       "    }, 10, root)\n",
       "  }\n",
       "})(window);"
      ],
      "application/vnd.bokehjs_exec.v0+json": ""
     },
     "metadata": {
      "application/vnd.bokehjs_exec.v0+json": {
       "id": "1666"
      }
     },
     "output_type": "display_data"
    }
   ],
   "source": [
    "# VLSI etching\n",
    "nodes = pd.read_csv('data/xqf131_etching.csv', index_col=0)\n",
    "G = distance_matrix(nodes, manhattan=False, vlsi=True)\n",
    "plot_vlsi_tour(nodes,G, solve_tsp(G))"
   ]
  },
  {
   "cell_type": "code",
   "execution_count": 7,
   "metadata": {},
   "outputs": [
    {
     "data": {
      "text/html": [
       "\n",
       "\n",
       "\n",
       "\n",
       "\n",
       "\n",
       "  <div class=\"bk-root\" id=\"d903ce4a-8929-4260-85f6-1b95d031d201\" data-root-id=\"1877\"></div>\n"
      ]
     },
     "metadata": {},
     "output_type": "display_data"
    },
    {
     "data": {
      "application/javascript": [
       "(function(root) {\n",
       "  function embed_document(root) {\n",
       "    \n",
       "  var docs_json = {\"a5c07a36-c242-4da6-b5dc-5a725095d7e1\":{\"roots\":{\"references\":[{\"attributes\":{\"children\":[[{\"id\":\"1807\"},0,0],[{\"id\":\"1860\"},1,0],[{\"id\":\"1861\"},2,0]]},\"id\":\"1877\",\"type\":\"GridBox\"},{\"attributes\":{},\"id\":\"1816\",\"type\":\"LinearScale\"},{\"attributes\":{},\"id\":\"1823\",\"type\":\"BasicTicker\"},{\"attributes\":{},\"id\":\"1871\",\"type\":\"UnionRenderers\"},{\"attributes\":{\"axis\":{\"id\":\"1822\"},\"dimension\":1,\"grid_line_color\":null,\"ticker\":null},\"id\":\"1825\",\"type\":\"Grid\"},{\"attributes\":{},\"id\":\"1875\",\"type\":\"Selection\"},{\"attributes\":{},\"id\":\"1876\",\"type\":\"UnionRenderers\"},{\"attributes\":{\"align\":\"center\",\"width\":300},\"id\":\"1842\",\"type\":\"Div\"},{\"attributes\":{},\"id\":\"1814\",\"type\":\"LinearScale\"},{\"attributes\":{\"source\":{\"id\":\"1845\"}},\"id\":\"1850\",\"type\":\"CDSView\"},{\"attributes\":{\"align\":\"center\",\"text\":\"0\",\"width\":350},\"id\":\"1841\",\"type\":\"Div\"},{\"attributes\":{\"data_source\":{\"id\":\"1845\"},\"glyph\":{\"id\":\"1847\"},\"hover_glyph\":null,\"muted_glyph\":null,\"nonselection_glyph\":{\"id\":\"1848\"},\"selection_glyph\":null,\"view\":{\"id\":\"1850\"}},\"id\":\"1849\",\"type\":\"GlyphRenderer\"},{\"attributes\":{\"source\":{\"id\":\"1851\"}},\"id\":\"1855\",\"type\":\"CDSView\"},{\"attributes\":{\"line_alpha\":0.1,\"line_width\":4,\"x\":{\"field\":\"edges_x\"},\"y\":{\"field\":\"edges_y\"}},\"id\":\"1848\",\"type\":\"Line\"},{\"attributes\":{\"axis\":{\"id\":\"1818\"},\"grid_line_color\":null,\"ticker\":null},\"id\":\"1821\",\"type\":\"Grid\"},{\"attributes\":{},\"id\":\"1826\",\"type\":\"PanTool\"},{\"attributes\":{\"line_width\":4,\"x\":{\"field\":\"edges_x\"},\"y\":{\"field\":\"edges_y\"}},\"id\":\"1847\",\"type\":\"Line\"},{\"attributes\":{\"data\":{\"x\":[0.0,0.0,0.0,0.0,0.0,0.0,0.0,1.0,1.0,1.0,1.0,1.0,1.0,1.0,2.0,2.0,2.0,2.0,2.0,2.0,2.0,3.0,3.0,3.0,3.0,3.0,3.0,3.0,4.0,4.0,4.0,4.0,4.0,4.0,4.0,5.0,5.0,5.0,5.0,5.0,5.0,5.0,6.0,6.0,6.0,6.0,6.0,6.0,6.0],\"y\":[0.0,1.0,2.0,3.0,4.0,5.0,6.0,0.0,1.0,2.0,3.0,4.0,5.0,6.0,0.0,1.0,2.0,3.0,4.0,5.0,6.0,0.0,1.0,2.0,3.0,4.0,5.0,6.0,0.0,1.0,2.0,3.0,4.0,5.0,6.0,0.0,1.0,2.0,3.0,4.0,5.0,6.0,0.0,1.0,2.0,3.0,4.0,5.0,6.0]},\"selected\":{\"id\":\"1870\"},\"selection_policy\":{\"id\":\"1871\"}},\"id\":\"1851\",\"type\":\"ColumnDataSource\"},{\"attributes\":{},\"id\":\"1827\",\"type\":\"WheelZoomTool\"},{\"attributes\":{\"end\":6.3,\"start\":-0.30000000000000004},\"id\":\"1810\",\"type\":\"Range1d\"},{\"attributes\":{\"overlay\":{\"id\":\"1832\"}},\"id\":\"1828\",\"type\":\"BoxZoomTool\"},{\"attributes\":{\"args\":{\"cost\":{\"id\":\"1841\"},\"done\":{\"id\":\"1842\"},\"n\":{\"id\":\"1843\"},\"source\":{\"id\":\"1844\"},\"tour\":{\"id\":\"1845\"}},\"code\":\"\\nif ((parseInt(n.text) + 1) < source.data['edges_y'].length) {\\n    n.text = (parseInt(n.text) + 1).toString()\\n}\\nvar iteration = parseInt(n.text)\\n\\nif (iteration == source.data['edges_y'].length - 2) {\\n    iteration = iteration + 1\\n}\\n\\n    cost.text = source.data['costs'][iteration].toFixed(3)\\n    \\n    if (iteration == source.data['edges_y'].length - 1) {\\n        done.text = \\\"done.\\\"\\n    } else {\\n        done.text = \\\"\\\"\\n    }\\n\\n    tour.data['edges_x'] = source.data['edges_x'][iteration]\\n    tour.data['edges_y'] = source.data['edges_y'][iteration]\\n    tour.change.emit()\\n    \"},\"id\":\"1857\",\"type\":\"CustomJS\"},{\"attributes\":{},\"id\":\"1829\",\"type\":\"SaveTool\"},{\"attributes\":{\"button_type\":\"success\",\"icon\":null,\"js_event_callbacks\":{\"button_click\":[{\"id\":\"1859\"}]},\"label\":\"Previous\",\"sizing_mode\":\"scale_width\",\"width_policy\":\"fit\"},\"id\":\"1858\",\"type\":\"Button\"},{\"attributes\":{},\"id\":\"1830\",\"type\":\"ResetTool\"},{\"attributes\":{\"args\":{\"cost\":{\"id\":\"1841\"},\"done\":{\"id\":\"1842\"},\"n\":{\"id\":\"1843\"},\"source\":{\"id\":\"1844\"},\"tour\":{\"id\":\"1845\"}},\"code\":\"\\nif ((parseInt(n.text) - 1) >= 0) {\\n    n.text = (parseInt(n.text) - 1).toString()\\n}\\nvar iteration = parseInt(n.text)\\n\\nif (iteration == source.data['edges_y'].length - 2) {\\n    iteration = iteration - 1\\n}\\n\\n    cost.text = source.data['costs'][iteration].toFixed(3)\\n    \\n    if (iteration == source.data['edges_y'].length - 1) {\\n        done.text = \\\"done.\\\"\\n    } else {\\n        done.text = \\\"\\\"\\n    }\\n\\n    tour.data['edges_x'] = source.data['edges_x'][iteration]\\n    tour.data['edges_y'] = source.data['edges_y'][iteration]\\n    tour.change.emit()\\n    \"},\"id\":\"1859\",\"type\":\"CustomJS\"},{\"attributes\":{\"background_fill_color\":null,\"below\":[{\"id\":\"1818\"}],\"border_fill_color\":null,\"center\":[{\"id\":\"1821\"},{\"id\":\"1825\"}],\"left\":[{\"id\":\"1822\"}],\"outline_line_color\":null,\"plot_height\":400,\"plot_width\":400,\"renderers\":[{\"id\":\"1849\"},{\"id\":\"1854\"}],\"title\":{\"id\":\"1808\"},\"toolbar\":{\"id\":\"1833\"},\"toolbar_location\":null,\"x_range\":{\"id\":\"1810\"},\"x_scale\":{\"id\":\"1814\"},\"y_range\":{\"id\":\"1812\"},\"y_scale\":{\"id\":\"1816\"}},\"id\":\"1807\",\"subtype\":\"Figure\",\"type\":\"Plot\"},{\"attributes\":{},\"id\":\"1831\",\"type\":\"HelpTool\"},{\"attributes\":{\"children\":[{\"id\":\"1858\"},{\"id\":\"1856\"}],\"max_width\":400,\"sizing_mode\":\"stretch_both\"},\"id\":\"1860\",\"type\":\"Row\"},{\"attributes\":{\"fill_color\":{\"value\":\"steelblue\"},\"line_color\":{\"value\":\"steelblue\"},\"size\":{\"units\":\"screen\",\"value\":8},\"x\":{\"field\":\"x\"},\"y\":{\"field\":\"y\"}},\"id\":\"1852\",\"type\":\"Circle\"},{\"attributes\":{\"children\":[{\"id\":\"1841\"},{\"id\":\"1842\"}]},\"id\":\"1861\",\"type\":\"Row\"},{\"attributes\":{\"active_drag\":\"auto\",\"active_inspect\":\"auto\",\"active_multi\":null,\"active_scroll\":\"auto\",\"active_tap\":\"auto\",\"logo\":null,\"tools\":[{\"id\":\"1826\"},{\"id\":\"1827\"},{\"id\":\"1828\"},{\"id\":\"1829\"},{\"id\":\"1830\"},{\"id\":\"1831\"}]},\"id\":\"1833\",\"type\":\"Toolbar\"},{\"attributes\":{\"end\":6.3,\"start\":-0.30000000000000004},\"id\":\"1812\",\"type\":\"Range1d\"},{\"attributes\":{\"data_source\":{\"id\":\"1851\"},\"glyph\":{\"id\":\"1852\"},\"hover_glyph\":null,\"muted_glyph\":null,\"nonselection_glyph\":{\"id\":\"1853\"},\"selection_glyph\":null,\"view\":{\"id\":\"1855\"}},\"id\":\"1854\",\"type\":\"GlyphRenderer\"},{\"attributes\":{},\"id\":\"1863\",\"type\":\"BasicTickFormatter\"},{\"attributes\":{\"fill_alpha\":{\"value\":0.1},\"fill_color\":{\"value\":\"steelblue\"},\"line_alpha\":{\"value\":0.1},\"line_color\":{\"value\":\"steelblue\"},\"size\":{\"units\":\"screen\",\"value\":8},\"x\":{\"field\":\"x\"},\"y\":{\"field\":\"y\"}},\"id\":\"1853\",\"type\":\"Circle\"},{\"attributes\":{},\"id\":\"1865\",\"type\":\"BasicTickFormatter\"},{\"attributes\":{\"button_type\":\"success\",\"icon\":null,\"js_event_callbacks\":{\"button_click\":[{\"id\":\"1857\"}]},\"label\":\"Next\",\"sizing_mode\":\"scale_width\",\"width_policy\":\"fit\"},\"id\":\"1856\",\"type\":\"Button\"},{\"attributes\":{\"formatter\":{\"id\":\"1865\"},\"ticker\":{\"id\":\"1823\"},\"visible\":false},\"id\":\"1822\",\"type\":\"LinearAxis\"},{\"attributes\":{\"bottom_units\":\"screen\",\"fill_alpha\":0.5,\"fill_color\":\"lightgrey\",\"left_units\":\"screen\",\"level\":\"overlay\",\"line_alpha\":1.0,\"line_color\":\"black\",\"line_dash\":[4,4],\"line_width\":2,\"right_units\":\"screen\",\"top_units\":\"screen\"},\"id\":\"1832\",\"type\":\"BoxAnnotation\"},{\"attributes\":{},\"id\":\"1868\",\"type\":\"Selection\"},{\"attributes\":{\"align\":\"center\",\"text\":\"0\",\"width\":400},\"id\":\"1843\",\"type\":\"Div\"},{\"attributes\":{\"formatter\":{\"id\":\"1863\"},\"ticker\":{\"id\":\"1819\"},\"visible\":false},\"id\":\"1818\",\"type\":\"LinearAxis\"},{\"attributes\":{\"text\":\"\"},\"id\":\"1808\",\"type\":\"Title\"},{\"attributes\":{},\"id\":\"1819\",\"type\":\"BasicTicker\"},{\"attributes\":{},\"id\":\"1869\",\"type\":\"UnionRenderers\"},{\"attributes\":{\"data\":{\"costs\":[0,1.0,2.0,3.0,4.0,5.0,6.0,7.0,8.0,9.0,10.0,11.0,12.0,13.0,14.0,15.0,16.0,17.0,18.0,19.0,21.82842712474619,22.82842712474619,23.82842712474619,24.82842712474619,25.82842712474619,26.82842712474619,27.82842712474619,28.82842712474619,29.82842712474619,31.82842712474619,32.82842712474619,33.82842712474619,34.82842712474619,35.82842712474619,36.82842712474619,37.82842712474619,38.82842712474619,39.82842712474619,40.82842712474619,41.82842712474619,42.82842712474619,43.82842712474619,44.82842712474619,47.82842712474619,48.82842712474619,50.82842712474619,55.071067811865476,56.071067811865476,57.071067811865476,62.17008732545826],\"edges_x\":[[0.0],[0.0,1.0],[0.0,1.0,2.0],[0.0,1.0,2.0,3.0],[0.0,1.0,2.0,3.0,4.0],[0.0,1.0,2.0,3.0,4.0,5.0],[0.0,1.0,2.0,3.0,4.0,5.0,6.0],[0.0,1.0,2.0,3.0,4.0,5.0,6.0,6.0],[0.0,1.0,2.0,3.0,4.0,5.0,6.0,6.0,6.0],[0.0,1.0,2.0,3.0,4.0,5.0,6.0,6.0,6.0,5.0],[0.0,1.0,2.0,3.0,4.0,5.0,6.0,6.0,6.0,5.0,4.0],[0.0,1.0,2.0,3.0,4.0,5.0,6.0,6.0,6.0,5.0,4.0,3.0],[0.0,1.0,2.0,3.0,4.0,5.0,6.0,6.0,6.0,5.0,4.0,3.0,2.0],[0.0,1.0,2.0,3.0,4.0,5.0,6.0,6.0,6.0,5.0,4.0,3.0,2.0,2.0],[0.0,1.0,2.0,3.0,4.0,5.0,6.0,6.0,6.0,5.0,4.0,3.0,2.0,2.0,1.0],[0.0,1.0,2.0,3.0,4.0,5.0,6.0,6.0,6.0,5.0,4.0,3.0,2.0,2.0,1.0,1.0],[0.0,1.0,2.0,3.0,4.0,5.0,6.0,6.0,6.0,5.0,4.0,3.0,2.0,2.0,1.0,1.0,1.0],[0.0,1.0,2.0,3.0,4.0,5.0,6.0,6.0,6.0,5.0,4.0,3.0,2.0,2.0,1.0,1.0,1.0,0.0],[0.0,1.0,2.0,3.0,4.0,5.0,6.0,6.0,6.0,5.0,4.0,3.0,2.0,2.0,1.0,1.0,1.0,0.0,0.0],[0.0,1.0,2.0,3.0,4.0,5.0,6.0,6.0,6.0,5.0,4.0,3.0,2.0,2.0,1.0,1.0,1.0,0.0,0.0,0.0],[0.0,1.0,2.0,3.0,4.0,5.0,6.0,6.0,6.0,5.0,4.0,3.0,2.0,2.0,1.0,1.0,1.0,0.0,0.0,0.0,2.0],[0.0,1.0,2.0,3.0,4.0,5.0,6.0,6.0,6.0,5.0,4.0,3.0,2.0,2.0,1.0,1.0,1.0,0.0,0.0,0.0,2.0,3.0],[0.0,1.0,2.0,3.0,4.0,5.0,6.0,6.0,6.0,5.0,4.0,3.0,2.0,2.0,1.0,1.0,1.0,0.0,0.0,0.0,2.0,3.0,3.0],[0.0,1.0,2.0,3.0,4.0,5.0,6.0,6.0,6.0,5.0,4.0,3.0,2.0,2.0,1.0,1.0,1.0,0.0,0.0,0.0,2.0,3.0,3.0,4.0],[0.0,1.0,2.0,3.0,4.0,5.0,6.0,6.0,6.0,5.0,4.0,3.0,2.0,2.0,1.0,1.0,1.0,0.0,0.0,0.0,2.0,3.0,3.0,4.0,4.0],[0.0,1.0,2.0,3.0,4.0,5.0,6.0,6.0,6.0,5.0,4.0,3.0,2.0,2.0,1.0,1.0,1.0,0.0,0.0,0.0,2.0,3.0,3.0,4.0,4.0,5.0],[0.0,1.0,2.0,3.0,4.0,5.0,6.0,6.0,6.0,5.0,4.0,3.0,2.0,2.0,1.0,1.0,1.0,0.0,0.0,0.0,2.0,3.0,3.0,4.0,4.0,5.0,5.0],[0.0,1.0,2.0,3.0,4.0,5.0,6.0,6.0,6.0,5.0,4.0,3.0,2.0,2.0,1.0,1.0,1.0,0.0,0.0,0.0,2.0,3.0,3.0,4.0,4.0,5.0,5.0,5.0],[0.0,1.0,2.0,3.0,4.0,5.0,6.0,6.0,6.0,5.0,4.0,3.0,2.0,2.0,1.0,1.0,1.0,0.0,0.0,0.0,2.0,3.0,3.0,4.0,4.0,5.0,5.0,5.0,4.0],[0.0,1.0,2.0,3.0,4.0,5.0,6.0,6.0,6.0,5.0,4.0,3.0,2.0,2.0,1.0,1.0,1.0,0.0,0.0,0.0,2.0,3.0,3.0,4.0,4.0,5.0,5.0,5.0,4.0,6.0],[0.0,1.0,2.0,3.0,4.0,5.0,6.0,6.0,6.0,5.0,4.0,3.0,2.0,2.0,1.0,1.0,1.0,0.0,0.0,0.0,2.0,3.0,3.0,4.0,4.0,5.0,5.0,5.0,4.0,6.0,6.0],[0.0,1.0,2.0,3.0,4.0,5.0,6.0,6.0,6.0,5.0,4.0,3.0,2.0,2.0,1.0,1.0,1.0,0.0,0.0,0.0,2.0,3.0,3.0,4.0,4.0,5.0,5.0,5.0,4.0,6.0,6.0,6.0],[0.0,1.0,2.0,3.0,4.0,5.0,6.0,6.0,6.0,5.0,4.0,3.0,2.0,2.0,1.0,1.0,1.0,0.0,0.0,0.0,2.0,3.0,3.0,4.0,4.0,5.0,5.0,5.0,4.0,6.0,6.0,6.0,6.0],[0.0,1.0,2.0,3.0,4.0,5.0,6.0,6.0,6.0,5.0,4.0,3.0,2.0,2.0,1.0,1.0,1.0,0.0,0.0,0.0,2.0,3.0,3.0,4.0,4.0,5.0,5.0,5.0,4.0,6.0,6.0,6.0,6.0,5.0],[0.0,1.0,2.0,3.0,4.0,5.0,6.0,6.0,6.0,5.0,4.0,3.0,2.0,2.0,1.0,1.0,1.0,0.0,0.0,0.0,2.0,3.0,3.0,4.0,4.0,5.0,5.0,5.0,4.0,6.0,6.0,6.0,6.0,5.0,4.0],[0.0,1.0,2.0,3.0,4.0,5.0,6.0,6.0,6.0,5.0,4.0,3.0,2.0,2.0,1.0,1.0,1.0,0.0,0.0,0.0,2.0,3.0,3.0,4.0,4.0,5.0,5.0,5.0,4.0,6.0,6.0,6.0,6.0,5.0,4.0,3.0],[0.0,1.0,2.0,3.0,4.0,5.0,6.0,6.0,6.0,5.0,4.0,3.0,2.0,2.0,1.0,1.0,1.0,0.0,0.0,0.0,2.0,3.0,3.0,4.0,4.0,5.0,5.0,5.0,4.0,6.0,6.0,6.0,6.0,5.0,4.0,3.0,2.0],[0.0,1.0,2.0,3.0,4.0,5.0,6.0,6.0,6.0,5.0,4.0,3.0,2.0,2.0,1.0,1.0,1.0,0.0,0.0,0.0,2.0,3.0,3.0,4.0,4.0,5.0,5.0,5.0,4.0,6.0,6.0,6.0,6.0,5.0,4.0,3.0,2.0,1.0],[0.0,1.0,2.0,3.0,4.0,5.0,6.0,6.0,6.0,5.0,4.0,3.0,2.0,2.0,1.0,1.0,1.0,0.0,0.0,0.0,2.0,3.0,3.0,4.0,4.0,5.0,5.0,5.0,4.0,6.0,6.0,6.0,6.0,5.0,4.0,3.0,2.0,1.0,1.0],[0.0,1.0,2.0,3.0,4.0,5.0,6.0,6.0,6.0,5.0,4.0,3.0,2.0,2.0,1.0,1.0,1.0,0.0,0.0,0.0,2.0,3.0,3.0,4.0,4.0,5.0,5.0,5.0,4.0,6.0,6.0,6.0,6.0,5.0,4.0,3.0,2.0,1.0,1.0,1.0],[0.0,1.0,2.0,3.0,4.0,5.0,6.0,6.0,6.0,5.0,4.0,3.0,2.0,2.0,1.0,1.0,1.0,0.0,0.0,0.0,2.0,3.0,3.0,4.0,4.0,5.0,5.0,5.0,4.0,6.0,6.0,6.0,6.0,5.0,4.0,3.0,2.0,1.0,1.0,1.0,2.0],[0.0,1.0,2.0,3.0,4.0,5.0,6.0,6.0,6.0,5.0,4.0,3.0,2.0,2.0,1.0,1.0,1.0,0.0,0.0,0.0,2.0,3.0,3.0,4.0,4.0,5.0,5.0,5.0,4.0,6.0,6.0,6.0,6.0,5.0,4.0,3.0,2.0,1.0,1.0,1.0,2.0,2.0],[0.0,1.0,2.0,3.0,4.0,5.0,6.0,6.0,6.0,5.0,4.0,3.0,2.0,2.0,1.0,1.0,1.0,0.0,0.0,0.0,2.0,3.0,3.0,4.0,4.0,5.0,5.0,5.0,4.0,6.0,6.0,6.0,6.0,5.0,4.0,3.0,2.0,1.0,1.0,1.0,2.0,2.0,3.0],[0.0,1.0,2.0,3.0,4.0,5.0,6.0,6.0,6.0,5.0,4.0,3.0,2.0,2.0,1.0,1.0,1.0,0.0,0.0,0.0,2.0,3.0,3.0,4.0,4.0,5.0,5.0,5.0,4.0,6.0,6.0,6.0,6.0,5.0,4.0,3.0,2.0,1.0,1.0,1.0,2.0,2.0,3.0,0.0],[0.0,1.0,2.0,3.0,4.0,5.0,6.0,6.0,6.0,5.0,4.0,3.0,2.0,2.0,1.0,1.0,1.0,0.0,0.0,0.0,2.0,3.0,3.0,4.0,4.0,5.0,5.0,5.0,4.0,6.0,6.0,6.0,6.0,5.0,4.0,3.0,2.0,1.0,1.0,1.0,2.0,2.0,3.0,0.0,0.0],[0.0,1.0,2.0,3.0,4.0,5.0,6.0,6.0,6.0,5.0,4.0,3.0,2.0,2.0,1.0,1.0,1.0,0.0,0.0,0.0,2.0,3.0,3.0,4.0,4.0,5.0,5.0,5.0,4.0,6.0,6.0,6.0,6.0,5.0,4.0,3.0,2.0,1.0,1.0,1.0,2.0,2.0,3.0,0.0,0.0,0.0],[0.0,1.0,2.0,3.0,4.0,5.0,6.0,6.0,6.0,5.0,4.0,3.0,2.0,2.0,1.0,1.0,1.0,0.0,0.0,0.0,2.0,3.0,3.0,4.0,4.0,5.0,5.0,5.0,4.0,6.0,6.0,6.0,6.0,5.0,4.0,3.0,2.0,1.0,1.0,1.0,2.0,2.0,3.0,0.0,0.0,0.0,3.0],[0.0,1.0,2.0,3.0,4.0,5.0,6.0,6.0,6.0,5.0,4.0,3.0,2.0,2.0,1.0,1.0,1.0,0.0,0.0,0.0,2.0,3.0,3.0,4.0,4.0,5.0,5.0,5.0,4.0,6.0,6.0,6.0,6.0,5.0,4.0,3.0,2.0,1.0,1.0,1.0,2.0,2.0,3.0,0.0,0.0,0.0,3.0,4.0],[0.0,1.0,2.0,3.0,4.0,5.0,6.0,6.0,6.0,5.0,4.0,3.0,2.0,2.0,1.0,1.0,1.0,0.0,0.0,0.0,2.0,3.0,3.0,4.0,4.0,5.0,5.0,5.0,4.0,6.0,6.0,6.0,6.0,5.0,4.0,3.0,2.0,1.0,1.0,1.0,2.0,2.0,3.0,0.0,0.0,0.0,3.0,4.0,5.0],[0.0,1.0,2.0,3.0,4.0,5.0,6.0,6.0,6.0,5.0,4.0,3.0,2.0,2.0,1.0,1.0,1.0,0.0,0.0,0.0,2.0,3.0,3.0,4.0,4.0,5.0,5.0,5.0,4.0,6.0,6.0,6.0,6.0,5.0,4.0,3.0,2.0,1.0,1.0,1.0,2.0,2.0,3.0,0.0,0.0,0.0,3.0,4.0,5.0,0.0]],\"edges_y\":[[0.0],[0.0,0.0],[0.0,0.0,0.0],[0.0,0.0,0.0,0.0],[0.0,0.0,0.0,0.0,0.0],[0.0,0.0,0.0,0.0,0.0,0.0],[0.0,0.0,0.0,0.0,0.0,0.0,0.0],[0.0,0.0,0.0,0.0,0.0,0.0,0.0,1.0],[0.0,0.0,0.0,0.0,0.0,0.0,0.0,1.0,2.0],[0.0,0.0,0.0,0.0,0.0,0.0,0.0,1.0,2.0,2.0],[0.0,0.0,0.0,0.0,0.0,0.0,0.0,1.0,2.0,2.0,2.0],[0.0,0.0,0.0,0.0,0.0,0.0,0.0,1.0,2.0,2.0,2.0,2.0],[0.0,0.0,0.0,0.0,0.0,0.0,0.0,1.0,2.0,2.0,2.0,2.0,2.0],[0.0,0.0,0.0,0.0,0.0,0.0,0.0,1.0,2.0,2.0,2.0,2.0,2.0,1.0],[0.0,0.0,0.0,0.0,0.0,0.0,0.0,1.0,2.0,2.0,2.0,2.0,2.0,1.0,1.0],[0.0,0.0,0.0,0.0,0.0,0.0,0.0,1.0,2.0,2.0,2.0,2.0,2.0,1.0,1.0,2.0],[0.0,0.0,0.0,0.0,0.0,0.0,0.0,1.0,2.0,2.0,2.0,2.0,2.0,1.0,1.0,2.0,3.0],[0.0,0.0,0.0,0.0,0.0,0.0,0.0,1.0,2.0,2.0,2.0,2.0,2.0,1.0,1.0,2.0,3.0,3.0],[0.0,0.0,0.0,0.0,0.0,0.0,0.0,1.0,2.0,2.0,2.0,2.0,2.0,1.0,1.0,2.0,3.0,3.0,2.0],[0.0,0.0,0.0,0.0,0.0,0.0,0.0,1.0,2.0,2.0,2.0,2.0,2.0,1.0,1.0,2.0,3.0,3.0,2.0,1.0],[0.0,0.0,0.0,0.0,0.0,0.0,0.0,1.0,2.0,2.0,2.0,2.0,2.0,1.0,1.0,2.0,3.0,3.0,2.0,1.0,3.0],[0.0,0.0,0.0,0.0,0.0,0.0,0.0,1.0,2.0,2.0,2.0,2.0,2.0,1.0,1.0,2.0,3.0,3.0,2.0,1.0,3.0,3.0],[0.0,0.0,0.0,0.0,0.0,0.0,0.0,1.0,2.0,2.0,2.0,2.0,2.0,1.0,1.0,2.0,3.0,3.0,2.0,1.0,3.0,3.0,4.0],[0.0,0.0,0.0,0.0,0.0,0.0,0.0,1.0,2.0,2.0,2.0,2.0,2.0,1.0,1.0,2.0,3.0,3.0,2.0,1.0,3.0,3.0,4.0,4.0],[0.0,0.0,0.0,0.0,0.0,0.0,0.0,1.0,2.0,2.0,2.0,2.0,2.0,1.0,1.0,2.0,3.0,3.0,2.0,1.0,3.0,3.0,4.0,4.0,5.0],[0.0,0.0,0.0,0.0,0.0,0.0,0.0,1.0,2.0,2.0,2.0,2.0,2.0,1.0,1.0,2.0,3.0,3.0,2.0,1.0,3.0,3.0,4.0,4.0,5.0,5.0],[0.0,0.0,0.0,0.0,0.0,0.0,0.0,1.0,2.0,2.0,2.0,2.0,2.0,1.0,1.0,2.0,3.0,3.0,2.0,1.0,3.0,3.0,4.0,4.0,5.0,5.0,4.0],[0.0,0.0,0.0,0.0,0.0,0.0,0.0,1.0,2.0,2.0,2.0,2.0,2.0,1.0,1.0,2.0,3.0,3.0,2.0,1.0,3.0,3.0,4.0,4.0,5.0,5.0,4.0,3.0],[0.0,0.0,0.0,0.0,0.0,0.0,0.0,1.0,2.0,2.0,2.0,2.0,2.0,1.0,1.0,2.0,3.0,3.0,2.0,1.0,3.0,3.0,4.0,4.0,5.0,5.0,4.0,3.0,3.0],[0.0,0.0,0.0,0.0,0.0,0.0,0.0,1.0,2.0,2.0,2.0,2.0,2.0,1.0,1.0,2.0,3.0,3.0,2.0,1.0,3.0,3.0,4.0,4.0,5.0,5.0,4.0,3.0,3.0,3.0],[0.0,0.0,0.0,0.0,0.0,0.0,0.0,1.0,2.0,2.0,2.0,2.0,2.0,1.0,1.0,2.0,3.0,3.0,2.0,1.0,3.0,3.0,4.0,4.0,5.0,5.0,4.0,3.0,3.0,3.0,4.0],[0.0,0.0,0.0,0.0,0.0,0.0,0.0,1.0,2.0,2.0,2.0,2.0,2.0,1.0,1.0,2.0,3.0,3.0,2.0,1.0,3.0,3.0,4.0,4.0,5.0,5.0,4.0,3.0,3.0,3.0,4.0,5.0],[0.0,0.0,0.0,0.0,0.0,0.0,0.0,1.0,2.0,2.0,2.0,2.0,2.0,1.0,1.0,2.0,3.0,3.0,2.0,1.0,3.0,3.0,4.0,4.0,5.0,5.0,4.0,3.0,3.0,3.0,4.0,5.0,6.0],[0.0,0.0,0.0,0.0,0.0,0.0,0.0,1.0,2.0,2.0,2.0,2.0,2.0,1.0,1.0,2.0,3.0,3.0,2.0,1.0,3.0,3.0,4.0,4.0,5.0,5.0,4.0,3.0,3.0,3.0,4.0,5.0,6.0,6.0],[0.0,0.0,0.0,0.0,0.0,0.0,0.0,1.0,2.0,2.0,2.0,2.0,2.0,1.0,1.0,2.0,3.0,3.0,2.0,1.0,3.0,3.0,4.0,4.0,5.0,5.0,4.0,3.0,3.0,3.0,4.0,5.0,6.0,6.0,6.0],[0.0,0.0,0.0,0.0,0.0,0.0,0.0,1.0,2.0,2.0,2.0,2.0,2.0,1.0,1.0,2.0,3.0,3.0,2.0,1.0,3.0,3.0,4.0,4.0,5.0,5.0,4.0,3.0,3.0,3.0,4.0,5.0,6.0,6.0,6.0,6.0],[0.0,0.0,0.0,0.0,0.0,0.0,0.0,1.0,2.0,2.0,2.0,2.0,2.0,1.0,1.0,2.0,3.0,3.0,2.0,1.0,3.0,3.0,4.0,4.0,5.0,5.0,4.0,3.0,3.0,3.0,4.0,5.0,6.0,6.0,6.0,6.0,6.0],[0.0,0.0,0.0,0.0,0.0,0.0,0.0,1.0,2.0,2.0,2.0,2.0,2.0,1.0,1.0,2.0,3.0,3.0,2.0,1.0,3.0,3.0,4.0,4.0,5.0,5.0,4.0,3.0,3.0,3.0,4.0,5.0,6.0,6.0,6.0,6.0,6.0,6.0],[0.0,0.0,0.0,0.0,0.0,0.0,0.0,1.0,2.0,2.0,2.0,2.0,2.0,1.0,1.0,2.0,3.0,3.0,2.0,1.0,3.0,3.0,4.0,4.0,5.0,5.0,4.0,3.0,3.0,3.0,4.0,5.0,6.0,6.0,6.0,6.0,6.0,6.0,5.0],[0.0,0.0,0.0,0.0,0.0,0.0,0.0,1.0,2.0,2.0,2.0,2.0,2.0,1.0,1.0,2.0,3.0,3.0,2.0,1.0,3.0,3.0,4.0,4.0,5.0,5.0,4.0,3.0,3.0,3.0,4.0,5.0,6.0,6.0,6.0,6.0,6.0,6.0,5.0,4.0],[0.0,0.0,0.0,0.0,0.0,0.0,0.0,1.0,2.0,2.0,2.0,2.0,2.0,1.0,1.0,2.0,3.0,3.0,2.0,1.0,3.0,3.0,4.0,4.0,5.0,5.0,4.0,3.0,3.0,3.0,4.0,5.0,6.0,6.0,6.0,6.0,6.0,6.0,5.0,4.0,4.0],[0.0,0.0,0.0,0.0,0.0,0.0,0.0,1.0,2.0,2.0,2.0,2.0,2.0,1.0,1.0,2.0,3.0,3.0,2.0,1.0,3.0,3.0,4.0,4.0,5.0,5.0,4.0,3.0,3.0,3.0,4.0,5.0,6.0,6.0,6.0,6.0,6.0,6.0,5.0,4.0,4.0,5.0],[0.0,0.0,0.0,0.0,0.0,0.0,0.0,1.0,2.0,2.0,2.0,2.0,2.0,1.0,1.0,2.0,3.0,3.0,2.0,1.0,3.0,3.0,4.0,4.0,5.0,5.0,4.0,3.0,3.0,3.0,4.0,5.0,6.0,6.0,6.0,6.0,6.0,6.0,5.0,4.0,4.0,5.0,5.0],[0.0,0.0,0.0,0.0,0.0,0.0,0.0,1.0,2.0,2.0,2.0,2.0,2.0,1.0,1.0,2.0,3.0,3.0,2.0,1.0,3.0,3.0,4.0,4.0,5.0,5.0,4.0,3.0,3.0,3.0,4.0,5.0,6.0,6.0,6.0,6.0,6.0,6.0,5.0,4.0,4.0,5.0,5.0,5.0],[0.0,0.0,0.0,0.0,0.0,0.0,0.0,1.0,2.0,2.0,2.0,2.0,2.0,1.0,1.0,2.0,3.0,3.0,2.0,1.0,3.0,3.0,4.0,4.0,5.0,5.0,4.0,3.0,3.0,3.0,4.0,5.0,6.0,6.0,6.0,6.0,6.0,6.0,5.0,4.0,4.0,5.0,5.0,5.0,6.0],[0.0,0.0,0.0,0.0,0.0,0.0,0.0,1.0,2.0,2.0,2.0,2.0,2.0,1.0,1.0,2.0,3.0,3.0,2.0,1.0,3.0,3.0,4.0,4.0,5.0,5.0,4.0,3.0,3.0,3.0,4.0,5.0,6.0,6.0,6.0,6.0,6.0,6.0,5.0,4.0,4.0,5.0,5.0,5.0,6.0,4.0],[0.0,0.0,0.0,0.0,0.0,0.0,0.0,1.0,2.0,2.0,2.0,2.0,2.0,1.0,1.0,2.0,3.0,3.0,2.0,1.0,3.0,3.0,4.0,4.0,5.0,5.0,4.0,3.0,3.0,3.0,4.0,5.0,6.0,6.0,6.0,6.0,6.0,6.0,5.0,4.0,4.0,5.0,5.0,5.0,6.0,4.0,1.0],[0.0,0.0,0.0,0.0,0.0,0.0,0.0,1.0,2.0,2.0,2.0,2.0,2.0,1.0,1.0,2.0,3.0,3.0,2.0,1.0,3.0,3.0,4.0,4.0,5.0,5.0,4.0,3.0,3.0,3.0,4.0,5.0,6.0,6.0,6.0,6.0,6.0,6.0,5.0,4.0,4.0,5.0,5.0,5.0,6.0,4.0,1.0,1.0],[0.0,0.0,0.0,0.0,0.0,0.0,0.0,1.0,2.0,2.0,2.0,2.0,2.0,1.0,1.0,2.0,3.0,3.0,2.0,1.0,3.0,3.0,4.0,4.0,5.0,5.0,4.0,3.0,3.0,3.0,4.0,5.0,6.0,6.0,6.0,6.0,6.0,6.0,5.0,4.0,4.0,5.0,5.0,5.0,6.0,4.0,1.0,1.0,1.0],[0.0,0.0,0.0,0.0,0.0,0.0,0.0,1.0,2.0,2.0,2.0,2.0,2.0,1.0,1.0,2.0,3.0,3.0,2.0,1.0,3.0,3.0,4.0,4.0,5.0,5.0,4.0,3.0,3.0,3.0,4.0,5.0,6.0,6.0,6.0,6.0,6.0,6.0,5.0,4.0,4.0,5.0,5.0,5.0,6.0,4.0,1.0,1.0,1.0,0.0]]},\"selected\":{\"id\":\"1875\"},\"selection_policy\":{\"id\":\"1876\"}},\"id\":\"1844\",\"type\":\"ColumnDataSource\"},{\"attributes\":{},\"id\":\"1870\",\"type\":\"Selection\"},{\"attributes\":{\"data\":{\"edges_x\":[0.0],\"edges_y\":[0.0]},\"selected\":{\"id\":\"1868\"},\"selection_policy\":{\"id\":\"1869\"}},\"id\":\"1845\",\"type\":\"ColumnDataSource\"}],\"root_ids\":[\"1877\"]},\"title\":\"Bokeh Application\",\"version\":\"2.1.0\"}};\n",
       "  var render_items = [{\"docid\":\"a5c07a36-c242-4da6-b5dc-5a725095d7e1\",\"root_ids\":[\"1877\"],\"roots\":{\"1877\":\"d903ce4a-8929-4260-85f6-1b95d031d201\"}}];\n",
       "  root.Bokeh.embed.embed_items_notebook(docs_json, render_items);\n",
       "\n",
       "  }\n",
       "  if (root.Bokeh !== undefined) {\n",
       "    embed_document(root);\n",
       "  } else {\n",
       "    var attempts = 0;\n",
       "    var timer = setInterval(function(root) {\n",
       "      if (root.Bokeh !== undefined) {\n",
       "        clearInterval(timer);\n",
       "        embed_document(root);\n",
       "      } else {\n",
       "        attempts++;\n",
       "        if (attempts > 100) {\n",
       "          clearInterval(timer);\n",
       "          console.log(\"Bokeh: ERROR: Unable to run BokehJS code because BokehJS library is missing\");\n",
       "        }\n",
       "      }\n",
       "    }, 10, root)\n",
       "  }\n",
       "})(window);"
      ],
      "application/vnd.bokehjs_exec.v0+json": ""
     },
     "metadata": {
      "application/vnd.bokehjs_exec.v0+json": {
       "id": "1877"
      }
     },
     "output_type": "display_data"
    },
    {
     "data": {
      "text/html": [
       "\n",
       "\n",
       "\n",
       "\n",
       "\n",
       "\n",
       "  <div class=\"bk-root\" id=\"dfc18b72-d696-45c5-b718-5eef8551f75d\" data-root-id=\"2104\"></div>\n"
      ]
     },
     "metadata": {},
     "output_type": "display_data"
    },
    {
     "data": {
      "application/javascript": [
       "(function(root) {\n",
       "  function embed_document(root) {\n",
       "    \n",
       "  var docs_json = {\"09401101-566b-4788-a05a-a7db123148be\":{\"roots\":{\"references\":[{\"attributes\":{\"children\":[[{\"id\":\"2016\"},0,0],[{\"id\":\"2081\"},1,0],[{\"id\":\"2082\"},2,0]]},\"id\":\"2104\",\"type\":\"GridBox\"},{\"attributes\":{},\"id\":\"2094\",\"type\":\"UnionRenderers\"},{\"attributes\":{},\"id\":\"2036\",\"type\":\"WheelZoomTool\"},{\"attributes\":{},\"id\":\"2098\",\"type\":\"Selection\"},{\"attributes\":{\"button_type\":\"success\",\"icon\":null,\"js_event_callbacks\":{\"button_click\":[{\"id\":\"2078\"}]},\"label\":\"Next\",\"sizing_mode\":\"scale_width\",\"width_policy\":\"fit\"},\"id\":\"2077\",\"type\":\"Button\"},{\"attributes\":{\"overlay\":{\"id\":\"2041\"}},\"id\":\"2037\",\"type\":\"BoxZoomTool\"},{\"attributes\":{},\"id\":\"2099\",\"type\":\"UnionRenderers\"},{\"attributes\":{\"args\":{\"cost\":{\"id\":\"2050\"},\"done\":{\"id\":\"2051\"},\"n\":{\"id\":\"2052\"},\"source\":{\"id\":\"2053\"},\"swaps\":{\"id\":\"2056\"},\"swaps_source\":{\"id\":\"2055\"},\"tour\":{\"id\":\"2054\"}},\"code\":\"\\nif ((parseInt(n.text) + 1) < source.data['edges_y'].length) {\\n    n.text = (parseInt(n.text) + 1).toString()\\n}\\nvar iteration = parseInt(n.text)\\n\\n    cost.text = source.data['costs'][iteration].toFixed(3)\\n    \\n    if (iteration == source.data['edges_y'].length - 1) {\\n        done.text = \\\"done.\\\"\\n        swaps.data['swaps_before_x'] = [[]]\\n        swaps.data['swaps_before_y'] = [[]]\\n        swaps.data['swaps_after_x'] = [[]]\\n        swaps.data['swaps_after_y'] = [[]]\\n    } else {\\n        done.text = \\\"\\\"\\n        swaps.data['swaps_before_x'] = swaps_source.data['swaps_before_x'][iteration]\\n        swaps.data['swaps_before_y'] = swaps_source.data['swaps_before_y'][iteration]\\n        swaps.data['swaps_after_x'] = swaps_source.data['swaps_after_x'][iteration]\\n        swaps.data['swaps_after_y'] = swaps_source.data['swaps_after_y'][iteration]\\n    }\\n\\n    tour.data['edges_x'] = source.data['edges_x'][iteration]\\n    tour.data['edges_y'] = source.data['edges_y'][iteration]\\n    tour.change.emit()\\n    swaps.change.emit()\\n    \"},\"id\":\"2078\",\"type\":\"CustomJS\"},{\"attributes\":{},\"id\":\"2038\",\"type\":\"SaveTool\"},{\"attributes\":{},\"id\":\"2100\",\"type\":\"Selection\"},{\"attributes\":{},\"id\":\"2039\",\"type\":\"ResetTool\"},{\"attributes\":{},\"id\":\"2101\",\"type\":\"UnionRenderers\"},{\"attributes\":{\"data_source\":{\"id\":\"2056\"},\"glyph\":{\"id\":\"2068\"},\"hover_glyph\":null,\"muted_glyph\":null,\"nonselection_glyph\":{\"id\":\"2069\"},\"selection_glyph\":null,\"view\":{\"id\":\"2071\"}},\"id\":\"2070\",\"type\":\"GlyphRenderer\"},{\"attributes\":{},\"id\":\"2040\",\"type\":\"HelpTool\"},{\"attributes\":{\"line_alpha\":{\"value\":0.1},\"line_color\":{\"value\":\"#90D7F6\"},\"line_width\":{\"value\":4},\"xs\":{\"field\":\"swaps_after_x\"},\"ys\":{\"field\":\"swaps_after_y\"}},\"id\":\"2069\",\"type\":\"MultiLine\"},{\"attributes\":{\"end\":6.3,\"start\":-0.30000000000000004},\"id\":\"2019\",\"type\":\"Range1d\"},{\"attributes\":{\"line_color\":{\"value\":\"#90D7F6\"},\"line_width\":{\"value\":4},\"xs\":{\"field\":\"swaps_after_x\"},\"ys\":{\"field\":\"swaps_after_y\"}},\"id\":\"2068\",\"type\":\"MultiLine\"},{\"attributes\":{\"source\":{\"id\":\"2072\"}},\"id\":\"2076\",\"type\":\"CDSView\"},{\"attributes\":{\"source\":{\"id\":\"2054\"}},\"id\":\"2061\",\"type\":\"CDSView\"},{\"attributes\":{\"active_drag\":\"auto\",\"active_inspect\":\"auto\",\"active_multi\":null,\"active_scroll\":\"auto\",\"active_tap\":\"auto\",\"logo\":null,\"tools\":[{\"id\":\"2035\"},{\"id\":\"2036\"},{\"id\":\"2037\"},{\"id\":\"2038\"},{\"id\":\"2039\"},{\"id\":\"2040\"}]},\"id\":\"2042\",\"type\":\"Toolbar\"},{\"attributes\":{\"end\":6.3,\"start\":-0.30000000000000004},\"id\":\"2021\",\"type\":\"Range1d\"},{\"attributes\":{},\"id\":\"2023\",\"type\":\"LinearScale\"},{\"attributes\":{\"line_color\":{\"value\":\"red\"},\"line_width\":{\"value\":4},\"xs\":{\"field\":\"swaps_before_x\"},\"ys\":{\"field\":\"swaps_before_y\"}},\"id\":\"2063\",\"type\":\"MultiLine\"},{\"attributes\":{\"fill_alpha\":{\"value\":0.1},\"fill_color\":{\"value\":\"steelblue\"},\"line_alpha\":{\"value\":0.1},\"line_color\":{\"value\":\"steelblue\"},\"size\":{\"units\":\"screen\",\"value\":8},\"x\":{\"field\":\"x\"},\"y\":{\"field\":\"y\"}},\"id\":\"2074\",\"type\":\"Circle\"},{\"attributes\":{},\"id\":\"2025\",\"type\":\"LinearScale\"},{\"attributes\":{\"children\":[{\"id\":\"2077\"}],\"max_width\":400,\"sizing_mode\":\"stretch_both\"},\"id\":\"2081\",\"type\":\"Row\"},{\"attributes\":{\"line_alpha\":0.1,\"line_width\":4,\"x\":{\"field\":\"edges_x\"},\"y\":{\"field\":\"edges_y\"}},\"id\":\"2059\",\"type\":\"Line\"},{\"attributes\":{\"fill_color\":{\"value\":\"steelblue\"},\"line_color\":{\"value\":\"steelblue\"},\"size\":{\"units\":\"screen\",\"value\":8},\"x\":{\"field\":\"x\"},\"y\":{\"field\":\"y\"}},\"id\":\"2073\",\"type\":\"Circle\"},{\"attributes\":{\"children\":[{\"id\":\"2050\"},{\"id\":\"2051\"}]},\"id\":\"2082\",\"type\":\"Row\"},{\"attributes\":{\"formatter\":{\"id\":\"2084\"},\"ticker\":{\"id\":\"2028\"},\"visible\":false},\"id\":\"2027\",\"type\":\"LinearAxis\"},{\"attributes\":{\"bottom_units\":\"screen\",\"fill_alpha\":0.5,\"fill_color\":\"lightgrey\",\"left_units\":\"screen\",\"level\":\"overlay\",\"line_alpha\":1.0,\"line_color\":\"black\",\"line_dash\":[4,4],\"line_width\":2,\"right_units\":\"screen\",\"top_units\":\"screen\"},\"id\":\"2041\",\"type\":\"BoxAnnotation\"},{\"attributes\":{\"data_source\":{\"id\":\"2054\"},\"glyph\":{\"id\":\"2058\"},\"hover_glyph\":null,\"muted_glyph\":null,\"nonselection_glyph\":{\"id\":\"2059\"},\"selection_glyph\":null,\"view\":{\"id\":\"2061\"}},\"id\":\"2060\",\"type\":\"GlyphRenderer\"},{\"attributes\":{},\"id\":\"2028\",\"type\":\"BasicTicker\"},{\"attributes\":{\"axis\":{\"id\":\"2027\"},\"grid_line_color\":null,\"ticker\":null},\"id\":\"2030\",\"type\":\"Grid\"},{\"attributes\":{\"line_width\":4,\"x\":{\"field\":\"edges_x\"},\"y\":{\"field\":\"edges_y\"}},\"id\":\"2058\",\"type\":\"Line\"},{\"attributes\":{},\"id\":\"2084\",\"type\":\"BasicTickFormatter\"},{\"attributes\":{},\"id\":\"2093\",\"type\":\"Selection\"},{\"attributes\":{\"background_fill_color\":null,\"below\":[{\"id\":\"2027\"}],\"border_fill_color\":null,\"center\":[{\"id\":\"2030\"},{\"id\":\"2034\"}],\"left\":[{\"id\":\"2031\"}],\"outline_line_color\":null,\"plot_height\":400,\"plot_width\":400,\"renderers\":[{\"id\":\"2060\"},{\"id\":\"2065\"},{\"id\":\"2070\"},{\"id\":\"2075\"}],\"title\":{\"id\":\"2017\"},\"toolbar\":{\"id\":\"2042\"},\"toolbar_location\":null,\"x_range\":{\"id\":\"2019\"},\"x_scale\":{\"id\":\"2023\"},\"y_range\":{\"id\":\"2021\"},\"y_scale\":{\"id\":\"2025\"}},\"id\":\"2016\",\"subtype\":\"Figure\",\"type\":\"Plot\"},{\"attributes\":{\"data\":{\"edges_x\":[0.0,1.0,2.0,3.0,4.0,5.0,6.0,6.0,6.0,5.0,4.0,3.0,2.0,2.0,1.0,1.0,1.0,0.0,0.0,0.0,2.0,3.0,3.0,4.0,4.0,5.0,5.0,5.0,4.0,6.0,6.0,6.0,6.0,5.0,4.0,3.0,2.0,1.0,1.0,1.0,2.0,2.0,3.0,0.0,0.0,0.0,3.0,4.0,5.0,0.0],\"edges_y\":[0.0,0.0,0.0,0.0,0.0,0.0,0.0,1.0,2.0,2.0,2.0,2.0,2.0,1.0,1.0,2.0,3.0,3.0,2.0,1.0,3.0,3.0,4.0,4.0,5.0,5.0,4.0,3.0,3.0,3.0,4.0,5.0,6.0,6.0,6.0,6.0,6.0,6.0,5.0,4.0,4.0,5.0,5.0,5.0,6.0,4.0,1.0,1.0,1.0,0.0]},\"selected\":{\"id\":\"2089\"},\"selection_policy\":{\"id\":\"2090\"}},\"id\":\"2054\",\"type\":\"ColumnDataSource\"},{\"attributes\":{\"data\":{\"costs\":[62.17008732545826,61.543203766865055,60.95741732923815,60.19348530673794,59.78584445398434,58.37163089161125,58.128990204491956,57.36505818199175,56.128990204491956,54.819131909660754,54.640986324787455,53.22677276241435,52.71477664211885,51.47870866461906,50.24264068711928],\"edges_x\":[[0.0,1.0,2.0,3.0,4.0,5.0,6.0,6.0,6.0,5.0,4.0,3.0,2.0,2.0,1.0,1.0,1.0,0.0,0.0,0.0,2.0,3.0,3.0,4.0,4.0,5.0,5.0,5.0,4.0,6.0,6.0,6.0,6.0,5.0,4.0,3.0,2.0,1.0,1.0,1.0,2.0,2.0,3.0,0.0,0.0,0.0,3.0,4.0,5.0,0.0],[0.0,1.0,2.0,3.0,4.0,5.0,6.0,6.0,6.0,5.0,5.0,4.0,3.0,0.0,0.0,0.0,3.0,2.0,2.0,1.0,1.0,1.0,2.0,3.0,4.0,5.0,6.0,6.0,6.0,6.0,4.0,5.0,5.0,5.0,4.0,4.0,3.0,3.0,2.0,0.0,0.0,0.0,1.0,1.0,1.0,2.0,2.0,3.0,4.0,0.0],[0.0,1.0,2.0,3.0,4.0,5.0,6.0,6.0,6.0,6.0,6.0,6.0,6.0,5.0,4.0,3.0,2.0,1.0,1.0,1.0,2.0,2.0,3.0,0.0,0.0,0.0,3.0,4.0,5.0,5.0,4.0,5.0,5.0,5.0,4.0,4.0,3.0,3.0,2.0,0.0,0.0,0.0,1.0,1.0,1.0,2.0,2.0,3.0,4.0,0.0],[0.0,1.0,2.0,3.0,4.0,5.0,6.0,6.0,6.0,6.0,6.0,6.0,6.0,5.0,4.0,3.0,3.0,2.0,2.0,1.0,1.0,1.0,2.0,0.0,0.0,0.0,3.0,4.0,5.0,5.0,4.0,5.0,5.0,5.0,4.0,4.0,3.0,3.0,2.0,0.0,0.0,0.0,1.0,1.0,1.0,2.0,2.0,3.0,4.0,0.0],[0.0,1.0,2.0,3.0,4.0,5.0,6.0,6.0,6.0,6.0,6.0,6.0,6.0,5.0,4.0,3.0,3.0,2.0,2.0,1.0,1.0,2.0,1.0,0.0,0.0,0.0,3.0,4.0,5.0,5.0,4.0,5.0,5.0,5.0,4.0,4.0,3.0,3.0,2.0,0.0,0.0,0.0,1.0,1.0,1.0,2.0,2.0,3.0,4.0,0.0],[0.0,1.0,2.0,3.0,4.0,5.0,6.0,6.0,6.0,6.0,6.0,6.0,6.0,5.0,4.0,3.0,3.0,2.0,2.0,1.0,1.0,2.0,1.0,0.0,0.0,0.0,3.0,4.0,5.0,5.0,4.0,5.0,5.0,5.0,4.0,4.0,3.0,3.0,2.0,0.0,0.0,0.0,1.0,1.0,1.0,2.0,2.0,3.0,4.0,0.0],[0.0,1.0,2.0,3.0,4.0,5.0,6.0,6.0,6.0,6.0,6.0,6.0,6.0,5.0,4.0,3.0,3.0,2.0,2.0,1.0,1.0,2.0,1.0,0.0,0.0,0.0,3.0,4.0,4.0,5.0,5.0,5.0,4.0,5.0,5.0,4.0,3.0,3.0,2.0,0.0,0.0,0.0,1.0,1.0,1.0,2.0,2.0,3.0,4.0,0.0],[0.0,1.0,2.0,3.0,4.0,5.0,6.0,6.0,6.0,6.0,6.0,6.0,6.0,5.0,4.0,3.0,3.0,2.0,0.0,0.0,0.0,1.0,2.0,1.0,1.0,2.0,3.0,4.0,4.0,5.0,5.0,5.0,4.0,5.0,5.0,4.0,3.0,3.0,2.0,0.0,0.0,0.0,1.0,1.0,1.0,2.0,2.0,3.0,4.0,0.0],[0.0,1.0,2.0,3.0,4.0,5.0,6.0,6.0,6.0,6.0,6.0,6.0,6.0,5.0,4.0,3.0,3.0,2.0,2.0,1.0,0.0,0.0,0.0,1.0,1.0,2.0,3.0,4.0,4.0,5.0,5.0,5.0,4.0,5.0,5.0,4.0,3.0,3.0,2.0,0.0,0.0,0.0,1.0,1.0,1.0,2.0,2.0,3.0,4.0,0.0],[0.0,1.0,2.0,3.0,4.0,5.0,6.0,6.0,6.0,6.0,6.0,6.0,6.0,5.0,4.0,3.0,3.0,2.0,2.0,1.0,0.0,0.0,0.0,1.0,1.0,2.0,3.0,4.0,4.0,5.0,5.0,5.0,4.0,5.0,5.0,4.0,4.0,3.0,2.0,2.0,1.0,1.0,1.0,0.0,0.0,0.0,2.0,3.0,3.0,0.0],[0.0,1.0,2.0,3.0,4.0,5.0,6.0,6.0,6.0,6.0,6.0,6.0,6.0,5.0,4.0,3.0,3.0,2.0,2.0,1.0,0.0,0.0,0.0,1.0,1.0,2.0,3.0,4.0,4.0,5.0,5.0,5.0,4.0,3.0,2.0,0.0,0.0,0.0,1.0,1.0,1.0,2.0,2.0,3.0,4.0,4.0,5.0,5.0,3.0,0.0],[0.0,1.0,2.0,3.0,4.0,5.0,6.0,6.0,6.0,6.0,6.0,6.0,6.0,5.0,4.0,3.0,3.0,2.0,2.0,1.0,0.0,0.0,0.0,1.0,1.0,2.0,3.0,4.0,4.0,5.0,5.0,5.0,4.0,3.0,2.0,1.0,0.0,0.0,0.0,1.0,1.0,2.0,2.0,3.0,4.0,4.0,5.0,5.0,3.0,0.0],[0.0,1.0,2.0,3.0,4.0,5.0,6.0,6.0,6.0,6.0,6.0,6.0,6.0,5.0,4.0,3.0,3.0,2.0,2.0,1.0,0.0,0.0,0.0,1.0,1.0,2.0,3.0,4.0,4.0,5.0,5.0,5.0,4.0,3.0,2.0,1.0,0.0,0.0,0.0,1.0,3.0,5.0,5.0,4.0,4.0,3.0,2.0,2.0,1.0,0.0],[0.0,1.0,2.0,3.0,4.0,5.0,6.0,6.0,6.0,6.0,6.0,6.0,6.0,5.0,4.0,3.0,3.0,2.0,2.0,1.0,0.0,0.0,0.0,1.0,1.0,2.0,3.0,4.0,4.0,5.0,5.0,5.0,4.0,3.0,2.0,1.0,0.0,0.0,0.0,1.0,2.0,3.0,4.0,4.0,5.0,5.0,3.0,2.0,1.0,0.0],[0.0,1.0,2.0,3.0,4.0,5.0,6.0,6.0,6.0,6.0,6.0,6.0,6.0,5.0,4.0,3.0,3.0,2.0,2.0,1.0,0.0,0.0,0.0,1.0,1.0,2.0,3.0,4.0,4.0,5.0,5.0,5.0,4.0,3.0,2.0,1.0,0.0,0.0,0.0,1.0,2.0,3.0,4.0,5.0,5.0,4.0,3.0,2.0,1.0,0.0]],\"edges_y\":[[0.0,0.0,0.0,0.0,0.0,0.0,0.0,1.0,2.0,2.0,2.0,2.0,2.0,1.0,1.0,2.0,3.0,3.0,2.0,1.0,3.0,3.0,4.0,4.0,5.0,5.0,4.0,3.0,3.0,3.0,4.0,5.0,6.0,6.0,6.0,6.0,6.0,6.0,5.0,4.0,4.0,5.0,5.0,5.0,6.0,4.0,1.0,1.0,1.0,0.0],[0.0,0.0,0.0,0.0,0.0,0.0,0.0,1.0,2.0,2.0,1.0,1.0,1.0,4.0,6.0,5.0,5.0,5.0,4.0,4.0,5.0,6.0,6.0,6.0,6.0,6.0,6.0,5.0,4.0,3.0,3.0,3.0,4.0,5.0,5.0,4.0,4.0,3.0,3.0,1.0,2.0,3.0,3.0,2.0,1.0,1.0,2.0,2.0,2.0,0.0],[0.0,0.0,0.0,0.0,0.0,0.0,0.0,1.0,2.0,3.0,4.0,5.0,6.0,6.0,6.0,6.0,6.0,6.0,5.0,4.0,4.0,5.0,5.0,5.0,6.0,4.0,1.0,1.0,1.0,2.0,3.0,3.0,4.0,5.0,5.0,4.0,4.0,3.0,3.0,1.0,2.0,3.0,3.0,2.0,1.0,1.0,2.0,2.0,2.0,0.0],[0.0,0.0,0.0,0.0,0.0,0.0,0.0,1.0,2.0,3.0,4.0,5.0,6.0,6.0,6.0,6.0,5.0,5.0,4.0,4.0,5.0,6.0,6.0,5.0,6.0,4.0,1.0,1.0,1.0,2.0,3.0,3.0,4.0,5.0,5.0,4.0,4.0,3.0,3.0,1.0,2.0,3.0,3.0,2.0,1.0,1.0,2.0,2.0,2.0,0.0],[0.0,0.0,0.0,0.0,0.0,0.0,0.0,1.0,2.0,3.0,4.0,5.0,6.0,6.0,6.0,6.0,5.0,5.0,4.0,4.0,5.0,6.0,6.0,5.0,6.0,4.0,1.0,1.0,1.0,2.0,3.0,3.0,4.0,5.0,5.0,4.0,4.0,3.0,3.0,1.0,2.0,3.0,3.0,2.0,1.0,1.0,2.0,2.0,2.0,0.0],[0.0,0.0,0.0,0.0,0.0,0.0,0.0,1.0,2.0,3.0,4.0,5.0,6.0,6.0,6.0,6.0,5.0,5.0,4.0,4.0,5.0,6.0,6.0,6.0,5.0,4.0,1.0,1.0,1.0,2.0,3.0,3.0,4.0,5.0,5.0,4.0,4.0,3.0,3.0,1.0,2.0,3.0,3.0,2.0,1.0,1.0,2.0,2.0,2.0,0.0],[0.0,0.0,0.0,0.0,0.0,0.0,0.0,1.0,2.0,3.0,4.0,5.0,6.0,6.0,6.0,6.0,5.0,5.0,4.0,4.0,5.0,6.0,6.0,6.0,5.0,4.0,4.0,4.0,5.0,5.0,4.0,3.0,3.0,2.0,1.0,1.0,1.0,3.0,3.0,1.0,2.0,3.0,3.0,2.0,1.0,1.0,2.0,2.0,2.0,0.0],[0.0,0.0,0.0,0.0,0.0,0.0,0.0,1.0,2.0,3.0,4.0,5.0,6.0,6.0,6.0,6.0,5.0,5.0,4.0,5.0,6.0,6.0,6.0,5.0,4.0,4.0,4.0,4.0,5.0,5.0,4.0,3.0,3.0,2.0,1.0,1.0,1.0,3.0,3.0,1.0,2.0,3.0,3.0,2.0,1.0,1.0,2.0,2.0,2.0,0.0],[0.0,0.0,0.0,0.0,0.0,0.0,0.0,1.0,2.0,3.0,4.0,5.0,6.0,6.0,6.0,6.0,5.0,5.0,6.0,6.0,6.0,5.0,4.0,5.0,4.0,4.0,4.0,4.0,5.0,5.0,4.0,3.0,3.0,2.0,1.0,1.0,1.0,3.0,3.0,1.0,2.0,3.0,3.0,2.0,1.0,1.0,2.0,2.0,2.0,0.0],[0.0,0.0,0.0,0.0,0.0,0.0,0.0,1.0,2.0,3.0,4.0,5.0,6.0,6.0,6.0,6.0,5.0,5.0,6.0,6.0,6.0,5.0,4.0,5.0,4.0,4.0,4.0,4.0,5.0,5.0,4.0,3.0,3.0,2.0,1.0,1.0,2.0,2.0,2.0,1.0,1.0,2.0,3.0,3.0,2.0,1.0,3.0,3.0,1.0,0.0],[0.0,0.0,0.0,0.0,0.0,0.0,0.0,1.0,2.0,3.0,4.0,5.0,6.0,6.0,6.0,6.0,5.0,5.0,6.0,6.0,6.0,5.0,4.0,5.0,4.0,4.0,4.0,4.0,5.0,5.0,4.0,3.0,3.0,3.0,3.0,1.0,2.0,3.0,3.0,2.0,1.0,1.0,2.0,2.0,2.0,1.0,1.0,2.0,1.0,0.0],[0.0,0.0,0.0,0.0,0.0,0.0,0.0,1.0,2.0,3.0,4.0,5.0,6.0,6.0,6.0,6.0,5.0,5.0,6.0,6.0,6.0,5.0,4.0,5.0,4.0,4.0,4.0,4.0,5.0,5.0,4.0,3.0,3.0,3.0,3.0,3.0,3.0,2.0,1.0,2.0,1.0,1.0,2.0,2.0,2.0,1.0,1.0,2.0,1.0,0.0],[0.0,0.0,0.0,0.0,0.0,0.0,0.0,1.0,2.0,3.0,4.0,5.0,6.0,6.0,6.0,6.0,5.0,5.0,6.0,6.0,6.0,5.0,4.0,5.0,4.0,4.0,4.0,4.0,5.0,5.0,4.0,3.0,3.0,3.0,3.0,3.0,3.0,2.0,1.0,2.0,1.0,2.0,1.0,1.0,2.0,2.0,2.0,1.0,1.0,0.0],[0.0,0.0,0.0,0.0,0.0,0.0,0.0,1.0,2.0,3.0,4.0,5.0,6.0,6.0,6.0,6.0,5.0,5.0,6.0,6.0,6.0,5.0,4.0,5.0,4.0,4.0,4.0,4.0,5.0,5.0,4.0,3.0,3.0,3.0,3.0,3.0,3.0,2.0,1.0,2.0,2.0,2.0,2.0,1.0,1.0,2.0,1.0,1.0,1.0,0.0],[0.0,0.0,0.0,0.0,0.0,0.0,0.0,1.0,2.0,3.0,4.0,5.0,6.0,6.0,6.0,6.0,5.0,5.0,6.0,6.0,6.0,5.0,4.0,5.0,4.0,4.0,4.0,4.0,5.0,5.0,4.0,3.0,3.0,3.0,3.0,3.0,3.0,2.0,1.0,2.0,2.0,2.0,2.0,2.0,1.0,1.0,1.0,1.0,1.0,0.0]]},\"selected\":{\"id\":\"2098\"},\"selection_policy\":{\"id\":\"2099\"}},\"id\":\"2053\",\"type\":\"ColumnDataSource\"},{\"attributes\":{\"formatter\":{\"id\":\"2086\"},\"ticker\":{\"id\":\"2032\"},\"visible\":false},\"id\":\"2031\",\"type\":\"LinearAxis\"},{\"attributes\":{\"source\":{\"id\":\"2056\"}},\"id\":\"2071\",\"type\":\"CDSView\"},{\"attributes\":{},\"id\":\"2086\",\"type\":\"BasicTickFormatter\"},{\"attributes\":{\"align\":\"center\",\"text\":\"62.17008732545826\",\"width\":350},\"id\":\"2050\",\"type\":\"Div\"},{\"attributes\":{\"data\":{\"swaps_after_x\":[[[5.0,5.0],[4.0,0.0]],[[6.0,6.0],[5.0,4.0]],[[3.0,3.0],[2.0,0.0]],[[1.0,2.0],[1.0,0.0]],[[1.0,0.0],[0.0,0.0]],[[0.0,3.0],[3.0,3.0]],[[2.0,0.0],[2.0,3.0]],[[2.0,2.0],[0.0,1.0]],[[4.0,4.0],[3.0,0.0]],[[4.0,3.0],[5.0,3.0]],[[2.0,1.0],[0.0,1.0]],[[1.0,3.0],[1.0,0.0]],[[1.0,2.0],[3.0,2.0]],[[4.0,5.0],[4.0,3.0]]],\"swaps_after_y\":[[[2.0,1.0],[2.0,0.0]],[[2.0,3.0],[2.0,3.0]],[[6.0,5.0],[6.0,5.0]],[[5.0,6.0],[6.0,5.0]],[[6.0,6.0],[5.0,4.0]],[[4.0,4.0],[1.0,3.0]],[[5.0,4.0],[4.0,4.0]],[[5.0,6.0],[4.0,5.0]],[[1.0,2.0],[1.0,0.0]],[[3.0,3.0],[2.0,1.0]],[[3.0,3.0],[1.0,2.0]],[[2.0,1.0],[1.0,0.0]],[[2.0,2.0],[1.0,1.0]],[[2.0,2.0],[1.0,1.0]]],\"swaps_before_x\":[[[5.0,4.0],[5.0,0.0]],[[6.0,5.0],[6.0,4.0]],[[3.0,2.0],[3.0,0.0]],[[1.0,1.0],[2.0,0.0]],[[1.0,0.0],[0.0,0.0]],[[0.0,3.0],[3.0,3.0]],[[2.0,2.0],[0.0,3.0]],[[2.0,0.0],[2.0,1.0]],[[4.0,3.0],[4.0,0.0]],[[4.0,5.0],[3.0,3.0]],[[2.0,0.0],[1.0,1.0]],[[1.0,1.0],[3.0,0.0]],[[1.0,3.0],[2.0,2.0]],[[4.0,4.0],[5.0,3.0]]],\"swaps_before_y\":[[[2.0,2.0],[1.0,0.0]],[[2.0,2.0],[3.0,3.0]],[[6.0,6.0],[5.0,5.0]],[[5.0,6.0],[6.0,5.0]],[[6.0,5.0],[6.0,4.0]],[[4.0,1.0],[4.0,3.0]],[[5.0,4.0],[4.0,4.0]],[[5.0,4.0],[6.0,5.0]],[[1.0,1.0],[2.0,0.0]],[[3.0,2.0],[3.0,1.0]],[[3.0,1.0],[3.0,2.0]],[[2.0,1.0],[1.0,0.0]],[[2.0,1.0],[2.0,1.0]],[[2.0,1.0],[2.0,1.0]]]},\"selected\":{\"id\":\"2100\"},\"selection_policy\":{\"id\":\"2101\"}},\"id\":\"2055\",\"type\":\"ColumnDataSource\"},{\"attributes\":{\"data\":{\"x\":[0.0,0.0,0.0,0.0,0.0,0.0,0.0,1.0,1.0,1.0,1.0,1.0,1.0,1.0,2.0,2.0,2.0,2.0,2.0,2.0,2.0,3.0,3.0,3.0,3.0,3.0,3.0,3.0,4.0,4.0,4.0,4.0,4.0,4.0,4.0,5.0,5.0,5.0,5.0,5.0,5.0,5.0,6.0,6.0,6.0,6.0,6.0,6.0,6.0],\"y\":[0.0,1.0,2.0,3.0,4.0,5.0,6.0,0.0,1.0,2.0,3.0,4.0,5.0,6.0,0.0,1.0,2.0,3.0,4.0,5.0,6.0,0.0,1.0,2.0,3.0,4.0,5.0,6.0,0.0,1.0,2.0,3.0,4.0,5.0,6.0,0.0,1.0,2.0,3.0,4.0,5.0,6.0,0.0,1.0,2.0,3.0,4.0,5.0,6.0]},\"selected\":{\"id\":\"2093\"},\"selection_policy\":{\"id\":\"2094\"}},\"id\":\"2072\",\"type\":\"ColumnDataSource\"},{\"attributes\":{},\"id\":\"2032\",\"type\":\"BasicTicker\"},{\"attributes\":{},\"id\":\"2089\",\"type\":\"Selection\"},{\"attributes\":{\"axis\":{\"id\":\"2031\"},\"dimension\":1,\"grid_line_color\":null,\"ticker\":null},\"id\":\"2034\",\"type\":\"Grid\"},{\"attributes\":{\"text\":\"\"},\"id\":\"2017\",\"type\":\"Title\"},{\"attributes\":{\"data\":{\"swaps_after_x\":[[5.0,5.0],[4.0,0.0]],\"swaps_after_y\":[[2.0,1.0],[2.0,0.0]],\"swaps_before_x\":[[5.0,4.0],[5.0,0.0]],\"swaps_before_y\":[[2.0,2.0],[1.0,0.0]]},\"selected\":{\"id\":\"2091\"},\"selection_policy\":{\"id\":\"2092\"}},\"id\":\"2056\",\"type\":\"ColumnDataSource\"},{\"attributes\":{},\"id\":\"2090\",\"type\":\"UnionRenderers\"},{\"attributes\":{},\"id\":\"2091\",\"type\":\"Selection\"},{\"attributes\":{\"align\":\"center\",\"text\":\"0\",\"width\":400},\"id\":\"2052\",\"type\":\"Div\"},{\"attributes\":{\"line_alpha\":{\"value\":0.1},\"line_color\":{\"value\":\"red\"},\"line_width\":{\"value\":4},\"xs\":{\"field\":\"swaps_before_x\"},\"ys\":{\"field\":\"swaps_before_y\"}},\"id\":\"2064\",\"type\":\"MultiLine\"},{\"attributes\":{\"align\":\"center\",\"width\":300},\"id\":\"2051\",\"type\":\"Div\"},{\"attributes\":{},\"id\":\"2092\",\"type\":\"UnionRenderers\"},{\"attributes\":{\"data_source\":{\"id\":\"2056\"},\"glyph\":{\"id\":\"2063\"},\"hover_glyph\":null,\"muted_glyph\":null,\"nonselection_glyph\":{\"id\":\"2064\"},\"selection_glyph\":null,\"view\":{\"id\":\"2066\"}},\"id\":\"2065\",\"type\":\"GlyphRenderer\"},{\"attributes\":{\"data_source\":{\"id\":\"2072\"},\"glyph\":{\"id\":\"2073\"},\"hover_glyph\":null,\"muted_glyph\":null,\"nonselection_glyph\":{\"id\":\"2074\"},\"selection_glyph\":null,\"view\":{\"id\":\"2076\"}},\"id\":\"2075\",\"type\":\"GlyphRenderer\"},{\"attributes\":{\"source\":{\"id\":\"2056\"}},\"id\":\"2066\",\"type\":\"CDSView\"},{\"attributes\":{},\"id\":\"2035\",\"type\":\"PanTool\"}],\"root_ids\":[\"2104\"]},\"title\":\"Bokeh Application\",\"version\":\"2.1.0\"}};\n",
       "  var render_items = [{\"docid\":\"09401101-566b-4788-a05a-a7db123148be\",\"root_ids\":[\"2104\"],\"roots\":{\"2104\":\"dfc18b72-d696-45c5-b718-5eef8551f75d\"}}];\n",
       "  root.Bokeh.embed.embed_items_notebook(docs_json, render_items);\n",
       "\n",
       "  }\n",
       "  if (root.Bokeh !== undefined) {\n",
       "    embed_document(root);\n",
       "  } else {\n",
       "    var attempts = 0;\n",
       "    var timer = setInterval(function(root) {\n",
       "      if (root.Bokeh !== undefined) {\n",
       "        clearInterval(timer);\n",
       "        embed_document(root);\n",
       "      } else {\n",
       "        attempts++;\n",
       "        if (attempts > 100) {\n",
       "          clearInterval(timer);\n",
       "          console.log(\"Bokeh: ERROR: Unable to run BokehJS code because BokehJS library is missing\");\n",
       "        }\n",
       "      }\n",
       "    }, 10, root)\n",
       "  }\n",
       "})(window);"
      ],
      "application/vnd.bokehjs_exec.v0+json": ""
     },
     "metadata": {
      "application/vnd.bokehjs_exec.v0+json": {
       "id": "2104"
      }
     },
     "output_type": "display_data"
    }
   ],
   "source": [
    "# 2-OPT\n",
    "nodes, G = tsp_grid_instance(7,7,manhattan=False)\n",
    "tour = plot_tsp_heuristic(nodes, G, heuristic='nearest_neighbor', initial=0)\n",
    "tour = plot_two_opt(nodes, G, tour)"
   ]
  }
 ],
 "metadata": {
  "kernelspec": {
   "display_name": "Python 3",
   "language": "python",
   "name": "python3"
  },
  "language_info": {
   "codemirror_mode": {
    "name": "ipython",
    "version": 3
   },
   "file_extension": ".py",
   "mimetype": "text/x-python",
   "name": "python",
   "nbconvert_exporter": "python",
   "pygments_lexer": "ipython3",
   "version": "3.6.10"
  }
 },
 "nbformat": 4,
 "nbformat_minor": 4
}
