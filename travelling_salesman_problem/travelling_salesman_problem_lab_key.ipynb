{
 "cells": [
  {
   "cell_type": "markdown",
   "metadata": {},
   "source": [
    "# Traveling Salesman Problem (TSP)"
   ]
  },
  {
   "cell_type": "markdown",
   "metadata": {},
   "source": [
    "**Objectives**\n",
    "\n",
    "- Introduce students to a real world problem solved by OR practitioners\n",
    "- Demonstrate the use of heuristics to obtain good solutions to optimization problems\n",
    "- Give students an appreciation of the difficulty of solving optimization problems exactly\n",
    "\n",
    "**Reading:** Read Handout 2 on the traveling salesman problem.\n",
    "\n",
    "**Brief description:** Finding an optimal solution to a Traveling Salesman Problem, and proving that it is, in fact, an optimal solution, is a difficult task. In practice, when a feasible solution to a difficult problem needs to be provided quickly, one often resorts to using heuristics, i.e., procedures for generating feasible solutions, or improving existing ones, that can be executed quickly and, hopefully, produce a pretty good result. In this lab we will consider several such heuristic procedures for the TSP.\n",
    "\n",
    "*TSP VLSI instances adapted from [TSPLIB](http://comopt.ifi.uni-heidelberg.de/software/TSPLIB95/) and [Bonn Institute](http://www.math.uwaterloo.ca/tsp/vlsi/index.html)*\n",
    "\n",
    "<font color='blue'> <b>Solutions are shown blue.</b> </font> <br>\n",
    "<font color='red'> <b>Instuctor comments are shown in red.</b> </font>"
   ]
  },
  {
   "cell_type": "markdown",
   "metadata": {},
   "source": [
    "<font color='red'>A tool we might want to use: [TSP DIY](https://www.math.uwaterloo.ca/tsp/app/diy.html)  </font>"
   ]
  },
  {
   "cell_type": "markdown",
   "metadata": {},
   "source": [
    "## Jupyter Notebook Introduction"
   ]
  },
  {
   "cell_type": "markdown",
   "metadata": {},
   "source": [
    "The labs for this course will be done through Jupyter Notebooks. Each lab will be distributed to you via a `.zip` file that contains a Jupyter Notebook (which has file extension `.ipynb`) and any other files necessary to run that lab. This may include supplementary python code, images, or data.\n",
    "\n",
    "In this first lab, we will begin with a breif introduction to Jupyter Notebooks. The notebook consists of cells of two main types: text (Markdown) and Code. This notebook is comprised only of text cells up until this point. The text is written in a lightweight markup language called Markdown. It allows you to do things like make tables and mathematical equations. Right now, you are seeing the Markdown text after it is already compiled. Double-click the text `CLICK HERE` to see the Markdown before it is compiled."
   ]
  },
  {
   "cell_type": "markdown",
   "metadata": {},
   "source": [
    "`CLICK HERE` Now that you have double-clicked, you should be able to type in this cell. Try it out:\n",
    "\n",
    "\n",
    "\n",
    "To compile this text, press either CTRL+Enter to compile or Shift+Enter to compile and move to the next cell."
   ]
  },
  {
   "cell_type": "markdown",
   "metadata": {},
   "source": [
    "Here are some other cool things you can do in Markdown!\n",
    "\n",
    "- **Bold** and *italics*\n",
    "- Equations: \n",
    "    - $3x_1 + 4x_2 = 10$ \n",
    "    - $\\frac{2}{3} + \\frac{2}{3} = \\frac{4}{3}$\n",
    "    - $2^x = 4$\n",
    "- Tables:\n",
    "\n",
    "|   | 1 | 2 | 3 | 4 |\n",
    "|---|---|---|---|---|\n",
    "| a |   |   |   |   | \n",
    "| b |   |   |   |   | "
   ]
  },
  {
   "cell_type": "markdown",
   "metadata": {},
   "source": [
    "And now to the most important cell of a Jupyter Notebook: the Code cell! We can use a code cell to write and run Python code. Let's look at an example. Like compiling the Markdown cell, to run the code in a Code cell we can use either CTRL+Enter to compile or Shift+Enter to compile and move to the next cell. "
   ]
  },
  {
   "cell_type": "code",
   "execution_count": 1,
   "metadata": {},
   "outputs": [],
   "source": [
    "# This is a code cell\n",
    "# We use # to make a comment in a code cell\n",
    "a = 7"
   ]
  },
  {
   "cell_type": "markdown",
   "metadata": {},
   "source": [
    "The cell  above creates a variable called `a` and sets its value to 7. This variable and its value carries over to the other cells of the notebook. To the left of a code cell, we can see a number in brackets if the cell has been run. If it has not been run, there is no number. The number indicates the order in which the cells are run. If a variable is on the last line of code cell, its value will be output under the cell."
   ]
  },
  {
   "cell_type": "code",
   "execution_count": 2,
   "metadata": {},
   "outputs": [
    {
     "data": {
      "text/plain": [
       "7"
      ]
     },
     "execution_count": 2,
     "metadata": {},
     "output_type": "execute_result"
    }
   ],
   "source": [
    "a"
   ]
  },
  {
   "cell_type": "markdown",
   "metadata": {},
   "source": [
    "Here are a few examples of some different operations in python."
   ]
  },
  {
   "cell_type": "code",
   "execution_count": 3,
   "metadata": {},
   "outputs": [
    {
     "name": "stdout",
     "output_type": "stream",
     "text": [
      "10\n",
      "21\n",
      "2\n"
     ]
    },
    {
     "data": {
      "text/plain": [
       "[1, 2, 3]"
      ]
     },
     "execution_count": 3,
     "metadata": {},
     "output_type": "execute_result"
    }
   ],
   "source": [
    "# addition and multiplication\n",
    "b = 3\n",
    "c = a + b\n",
    "print(c)\n",
    "d = a * b\n",
    "print(d)\n",
    "\n",
    "# lists\n",
    "array = [1,2,3]\n",
    "print(array[1])\n",
    "\n",
    "array # recall, since this is on the last line, its value will be printed"
   ]
  },
  {
   "cell_type": "markdown",
   "metadata": {},
   "source": [
    "As we do more and more in Jupyter Notebooks throughout the rest of these labs, we will introduce new tools and functionality. **NOTE:** It is important to mention that this course does not require any previous programming experience nor is it a programming course. The programming in this course will be limited to small changes to code and writing mathematical models. \n",
    "\n",
    "On to the lab!"
   ]
  },
  {
   "cell_type": "markdown",
   "metadata": {},
   "source": [
    "## Part I: Solving TSP Manually"
   ]
  },
  {
   "cell_type": "code",
   "execution_count": 4,
   "metadata": {},
   "outputs": [
    {
     "data": {
      "text/html": [
       "\n",
       "    <div class=\"bk-root\">\n",
       "        <a href=\"https://bokeh.org\" target=\"_blank\" class=\"bk-logo bk-logo-small bk-logo-notebook\"></a>\n",
       "        <span id=\"1001\">Loading BokehJS ...</span>\n",
       "    </div>"
      ]
     },
     "metadata": {},
     "output_type": "display_data"
    },
    {
     "data": {
      "application/javascript": [
       "\n",
       "(function(root) {\n",
       "  function now() {\n",
       "    return new Date();\n",
       "  }\n",
       "\n",
       "  var force = true;\n",
       "\n",
       "  if (typeof root._bokeh_onload_callbacks === \"undefined\" || force === true) {\n",
       "    root._bokeh_onload_callbacks = [];\n",
       "    root._bokeh_is_loading = undefined;\n",
       "  }\n",
       "\n",
       "  var JS_MIME_TYPE = 'application/javascript';\n",
       "  var HTML_MIME_TYPE = 'text/html';\n",
       "  var EXEC_MIME_TYPE = 'application/vnd.bokehjs_exec.v0+json';\n",
       "  var CLASS_NAME = 'output_bokeh rendered_html';\n",
       "\n",
       "  /**\n",
       "   * Render data to the DOM node\n",
       "   */\n",
       "  function render(props, node) {\n",
       "    var script = document.createElement(\"script\");\n",
       "    node.appendChild(script);\n",
       "  }\n",
       "\n",
       "  /**\n",
       "   * Handle when an output is cleared or removed\n",
       "   */\n",
       "  function handleClearOutput(event, handle) {\n",
       "    var cell = handle.cell;\n",
       "\n",
       "    var id = cell.output_area._bokeh_element_id;\n",
       "    var server_id = cell.output_area._bokeh_server_id;\n",
       "    // Clean up Bokeh references\n",
       "    if (id != null && id in Bokeh.index) {\n",
       "      Bokeh.index[id].model.document.clear();\n",
       "      delete Bokeh.index[id];\n",
       "    }\n",
       "\n",
       "    if (server_id !== undefined) {\n",
       "      // Clean up Bokeh references\n",
       "      var cmd = \"from bokeh.io.state import curstate; print(curstate().uuid_to_server['\" + server_id + \"'].get_sessions()[0].document.roots[0]._id)\";\n",
       "      cell.notebook.kernel.execute(cmd, {\n",
       "        iopub: {\n",
       "          output: function(msg) {\n",
       "            var id = msg.content.text.trim();\n",
       "            if (id in Bokeh.index) {\n",
       "              Bokeh.index[id].model.document.clear();\n",
       "              delete Bokeh.index[id];\n",
       "            }\n",
       "          }\n",
       "        }\n",
       "      });\n",
       "      // Destroy server and session\n",
       "      var cmd = \"import bokeh.io.notebook as ion; ion.destroy_server('\" + server_id + \"')\";\n",
       "      cell.notebook.kernel.execute(cmd);\n",
       "    }\n",
       "  }\n",
       "\n",
       "  /**\n",
       "   * Handle when a new output is added\n",
       "   */\n",
       "  function handleAddOutput(event, handle) {\n",
       "    var output_area = handle.output_area;\n",
       "    var output = handle.output;\n",
       "\n",
       "    // limit handleAddOutput to display_data with EXEC_MIME_TYPE content only\n",
       "    if ((output.output_type != \"display_data\") || (!output.data.hasOwnProperty(EXEC_MIME_TYPE))) {\n",
       "      return\n",
       "    }\n",
       "\n",
       "    var toinsert = output_area.element.find(\".\" + CLASS_NAME.split(' ')[0]);\n",
       "\n",
       "    if (output.metadata[EXEC_MIME_TYPE][\"id\"] !== undefined) {\n",
       "      toinsert[toinsert.length - 1].firstChild.textContent = output.data[JS_MIME_TYPE];\n",
       "      // store reference to embed id on output_area\n",
       "      output_area._bokeh_element_id = output.metadata[EXEC_MIME_TYPE][\"id\"];\n",
       "    }\n",
       "    if (output.metadata[EXEC_MIME_TYPE][\"server_id\"] !== undefined) {\n",
       "      var bk_div = document.createElement(\"div\");\n",
       "      bk_div.innerHTML = output.data[HTML_MIME_TYPE];\n",
       "      var script_attrs = bk_div.children[0].attributes;\n",
       "      for (var i = 0; i < script_attrs.length; i++) {\n",
       "        toinsert[toinsert.length - 1].firstChild.setAttribute(script_attrs[i].name, script_attrs[i].value);\n",
       "        toinsert[toinsert.length - 1].firstChild.textContent = bk_div.children[0].textContent\n",
       "      }\n",
       "      // store reference to server id on output_area\n",
       "      output_area._bokeh_server_id = output.metadata[EXEC_MIME_TYPE][\"server_id\"];\n",
       "    }\n",
       "  }\n",
       "\n",
       "  function register_renderer(events, OutputArea) {\n",
       "\n",
       "    function append_mime(data, metadata, element) {\n",
       "      // create a DOM node to render to\n",
       "      var toinsert = this.create_output_subarea(\n",
       "        metadata,\n",
       "        CLASS_NAME,\n",
       "        EXEC_MIME_TYPE\n",
       "      );\n",
       "      this.keyboard_manager.register_events(toinsert);\n",
       "      // Render to node\n",
       "      var props = {data: data, metadata: metadata[EXEC_MIME_TYPE]};\n",
       "      render(props, toinsert[toinsert.length - 1]);\n",
       "      element.append(toinsert);\n",
       "      return toinsert\n",
       "    }\n",
       "\n",
       "    /* Handle when an output is cleared or removed */\n",
       "    events.on('clear_output.CodeCell', handleClearOutput);\n",
       "    events.on('delete.Cell', handleClearOutput);\n",
       "\n",
       "    /* Handle when a new output is added */\n",
       "    events.on('output_added.OutputArea', handleAddOutput);\n",
       "\n",
       "    /**\n",
       "     * Register the mime type and append_mime function with output_area\n",
       "     */\n",
       "    OutputArea.prototype.register_mime_type(EXEC_MIME_TYPE, append_mime, {\n",
       "      /* Is output safe? */\n",
       "      safe: true,\n",
       "      /* Index of renderer in `output_area.display_order` */\n",
       "      index: 0\n",
       "    });\n",
       "  }\n",
       "\n",
       "  // register the mime type if in Jupyter Notebook environment and previously unregistered\n",
       "  if (root.Jupyter !== undefined) {\n",
       "    var events = require('base/js/events');\n",
       "    var OutputArea = require('notebook/js/outputarea').OutputArea;\n",
       "\n",
       "    if (OutputArea.prototype.mime_types().indexOf(EXEC_MIME_TYPE) == -1) {\n",
       "      register_renderer(events, OutputArea);\n",
       "    }\n",
       "  }\n",
       "\n",
       "  \n",
       "  if (typeof (root._bokeh_timeout) === \"undefined\" || force === true) {\n",
       "    root._bokeh_timeout = Date.now() + 5000;\n",
       "    root._bokeh_failed_load = false;\n",
       "  }\n",
       "\n",
       "  var NB_LOAD_WARNING = {'data': {'text/html':\n",
       "     \"<div style='background-color: #fdd'>\\n\"+\n",
       "     \"<p>\\n\"+\n",
       "     \"BokehJS does not appear to have successfully loaded. If loading BokehJS from CDN, this \\n\"+\n",
       "     \"may be due to a slow or bad network connection. Possible fixes:\\n\"+\n",
       "     \"</p>\\n\"+\n",
       "     \"<ul>\\n\"+\n",
       "     \"<li>re-rerun `output_notebook()` to attempt to load from CDN again, or</li>\\n\"+\n",
       "     \"<li>use INLINE resources instead, as so:</li>\\n\"+\n",
       "     \"</ul>\\n\"+\n",
       "     \"<code>\\n\"+\n",
       "     \"from bokeh.resources import INLINE\\n\"+\n",
       "     \"output_notebook(resources=INLINE)\\n\"+\n",
       "     \"</code>\\n\"+\n",
       "     \"</div>\"}};\n",
       "\n",
       "  function display_loaded() {\n",
       "    var el = document.getElementById(\"1001\");\n",
       "    if (el != null) {\n",
       "      el.textContent = \"BokehJS is loading...\";\n",
       "    }\n",
       "    if (root.Bokeh !== undefined) {\n",
       "      if (el != null) {\n",
       "        el.textContent = \"BokehJS \" + root.Bokeh.version + \" successfully loaded.\";\n",
       "      }\n",
       "    } else if (Date.now() < root._bokeh_timeout) {\n",
       "      setTimeout(display_loaded, 100)\n",
       "    }\n",
       "  }\n",
       "\n",
       "\n",
       "  function run_callbacks() {\n",
       "    try {\n",
       "      root._bokeh_onload_callbacks.forEach(function(callback) {\n",
       "        if (callback != null)\n",
       "          callback();\n",
       "      });\n",
       "    } finally {\n",
       "      delete root._bokeh_onload_callbacks\n",
       "    }\n",
       "    console.debug(\"Bokeh: all callbacks have finished\");\n",
       "  }\n",
       "\n",
       "  function load_libs(css_urls, js_urls, callback) {\n",
       "    if (css_urls == null) css_urls = [];\n",
       "    if (js_urls == null) js_urls = [];\n",
       "\n",
       "    root._bokeh_onload_callbacks.push(callback);\n",
       "    if (root._bokeh_is_loading > 0) {\n",
       "      console.debug(\"Bokeh: BokehJS is being loaded, scheduling callback at\", now());\n",
       "      return null;\n",
       "    }\n",
       "    if (js_urls == null || js_urls.length === 0) {\n",
       "      run_callbacks();\n",
       "      return null;\n",
       "    }\n",
       "    console.debug(\"Bokeh: BokehJS not loaded, scheduling load and callback at\", now());\n",
       "    root._bokeh_is_loading = css_urls.length + js_urls.length;\n",
       "\n",
       "    function on_load() {\n",
       "      root._bokeh_is_loading--;\n",
       "      if (root._bokeh_is_loading === 0) {\n",
       "        console.debug(\"Bokeh: all BokehJS libraries/stylesheets loaded\");\n",
       "        run_callbacks()\n",
       "      }\n",
       "    }\n",
       "\n",
       "    function on_error() {\n",
       "      console.error(\"failed to load \" + url);\n",
       "    }\n",
       "\n",
       "    for (var i = 0; i < css_urls.length; i++) {\n",
       "      var url = css_urls[i];\n",
       "      const element = document.createElement(\"link\");\n",
       "      element.onload = on_load;\n",
       "      element.onerror = on_error;\n",
       "      element.rel = \"stylesheet\";\n",
       "      element.type = \"text/css\";\n",
       "      element.href = url;\n",
       "      console.debug(\"Bokeh: injecting link tag for BokehJS stylesheet: \", url);\n",
       "      document.body.appendChild(element);\n",
       "    }\n",
       "\n",
       "    const hashes = {\"https://cdn.bokeh.org/bokeh/release/bokeh-2.2.3.min.js\": \"T2yuo9Oe71Cz/I4X9Ac5+gpEa5a8PpJCDlqKYO0CfAuEszu1JrXLl8YugMqYe3sM\", \"https://cdn.bokeh.org/bokeh/release/bokeh-widgets-2.2.3.min.js\": \"98GDGJ0kOMCUMUePhksaQ/GYgB3+NH9h996V88sh3aOiUNX3N+fLXAtry6xctSZ6\", \"https://cdn.bokeh.org/bokeh/release/bokeh-tables-2.2.3.min.js\": \"89bArO+nlbP3sgakeHjCo1JYxYR5wufVgA3IbUvDY+K7w4zyxJqssu7wVnfeKCq8\"};\n",
       "\n",
       "    for (var i = 0; i < js_urls.length; i++) {\n",
       "      var url = js_urls[i];\n",
       "      var element = document.createElement('script');\n",
       "      element.onload = on_load;\n",
       "      element.onerror = on_error;\n",
       "      element.async = false;\n",
       "      element.src = url;\n",
       "      if (url in hashes) {\n",
       "        element.crossOrigin = \"anonymous\";\n",
       "        element.integrity = \"sha384-\" + hashes[url];\n",
       "      }\n",
       "      console.debug(\"Bokeh: injecting script tag for BokehJS library: \", url);\n",
       "      document.head.appendChild(element);\n",
       "    }\n",
       "  };\n",
       "\n",
       "  function inject_raw_css(css) {\n",
       "    const element = document.createElement(\"style\");\n",
       "    element.appendChild(document.createTextNode(css));\n",
       "    document.body.appendChild(element);\n",
       "  }\n",
       "\n",
       "  \n",
       "  var js_urls = [\"https://cdn.bokeh.org/bokeh/release/bokeh-2.2.3.min.js\", \"https://cdn.bokeh.org/bokeh/release/bokeh-widgets-2.2.3.min.js\", \"https://cdn.bokeh.org/bokeh/release/bokeh-tables-2.2.3.min.js\"];\n",
       "  var css_urls = [];\n",
       "  \n",
       "\n",
       "  var inline_js = [\n",
       "    function(Bokeh) {\n",
       "      Bokeh.set_log_level(\"info\");\n",
       "    },\n",
       "    function(Bokeh) {\n",
       "    \n",
       "    \n",
       "    }\n",
       "  ];\n",
       "\n",
       "  function run_inline_js() {\n",
       "    \n",
       "    if (root.Bokeh !== undefined || force === true) {\n",
       "      \n",
       "    for (var i = 0; i < inline_js.length; i++) {\n",
       "      inline_js[i].call(root, root.Bokeh);\n",
       "    }\n",
       "    if (force === true) {\n",
       "        display_loaded();\n",
       "      }} else if (Date.now() < root._bokeh_timeout) {\n",
       "      setTimeout(run_inline_js, 100);\n",
       "    } else if (!root._bokeh_failed_load) {\n",
       "      console.log(\"Bokeh: BokehJS failed to load within specified timeout.\");\n",
       "      root._bokeh_failed_load = true;\n",
       "    } else if (force !== true) {\n",
       "      var cell = $(document.getElementById(\"1001\")).parents('.cell').data().cell;\n",
       "      cell.output_area.append_execute_result(NB_LOAD_WARNING)\n",
       "    }\n",
       "\n",
       "  }\n",
       "\n",
       "  if (root._bokeh_is_loading === 0) {\n",
       "    console.debug(\"Bokeh: BokehJS loaded, going straight to plotting\");\n",
       "    run_inline_js();\n",
       "  } else {\n",
       "    load_libs(css_urls, js_urls, function() {\n",
       "      console.debug(\"Bokeh: BokehJS plotting callback run at\", now());\n",
       "      run_inline_js();\n",
       "    });\n",
       "  }\n",
       "}(window));"
      ],
      "application/vnd.bokehjs_load.v0+json": "\n(function(root) {\n  function now() {\n    return new Date();\n  }\n\n  var force = true;\n\n  if (typeof root._bokeh_onload_callbacks === \"undefined\" || force === true) {\n    root._bokeh_onload_callbacks = [];\n    root._bokeh_is_loading = undefined;\n  }\n\n  \n\n  \n  if (typeof (root._bokeh_timeout) === \"undefined\" || force === true) {\n    root._bokeh_timeout = Date.now() + 5000;\n    root._bokeh_failed_load = false;\n  }\n\n  var NB_LOAD_WARNING = {'data': {'text/html':\n     \"<div style='background-color: #fdd'>\\n\"+\n     \"<p>\\n\"+\n     \"BokehJS does not appear to have successfully loaded. If loading BokehJS from CDN, this \\n\"+\n     \"may be due to a slow or bad network connection. Possible fixes:\\n\"+\n     \"</p>\\n\"+\n     \"<ul>\\n\"+\n     \"<li>re-rerun `output_notebook()` to attempt to load from CDN again, or</li>\\n\"+\n     \"<li>use INLINE resources instead, as so:</li>\\n\"+\n     \"</ul>\\n\"+\n     \"<code>\\n\"+\n     \"from bokeh.resources import INLINE\\n\"+\n     \"output_notebook(resources=INLINE)\\n\"+\n     \"</code>\\n\"+\n     \"</div>\"}};\n\n  function display_loaded() {\n    var el = document.getElementById(\"1001\");\n    if (el != null) {\n      el.textContent = \"BokehJS is loading...\";\n    }\n    if (root.Bokeh !== undefined) {\n      if (el != null) {\n        el.textContent = \"BokehJS \" + root.Bokeh.version + \" successfully loaded.\";\n      }\n    } else if (Date.now() < root._bokeh_timeout) {\n      setTimeout(display_loaded, 100)\n    }\n  }\n\n\n  function run_callbacks() {\n    try {\n      root._bokeh_onload_callbacks.forEach(function(callback) {\n        if (callback != null)\n          callback();\n      });\n    } finally {\n      delete root._bokeh_onload_callbacks\n    }\n    console.debug(\"Bokeh: all callbacks have finished\");\n  }\n\n  function load_libs(css_urls, js_urls, callback) {\n    if (css_urls == null) css_urls = [];\n    if (js_urls == null) js_urls = [];\n\n    root._bokeh_onload_callbacks.push(callback);\n    if (root._bokeh_is_loading > 0) {\n      console.debug(\"Bokeh: BokehJS is being loaded, scheduling callback at\", now());\n      return null;\n    }\n    if (js_urls == null || js_urls.length === 0) {\n      run_callbacks();\n      return null;\n    }\n    console.debug(\"Bokeh: BokehJS not loaded, scheduling load and callback at\", now());\n    root._bokeh_is_loading = css_urls.length + js_urls.length;\n\n    function on_load() {\n      root._bokeh_is_loading--;\n      if (root._bokeh_is_loading === 0) {\n        console.debug(\"Bokeh: all BokehJS libraries/stylesheets loaded\");\n        run_callbacks()\n      }\n    }\n\n    function on_error() {\n      console.error(\"failed to load \" + url);\n    }\n\n    for (var i = 0; i < css_urls.length; i++) {\n      var url = css_urls[i];\n      const element = document.createElement(\"link\");\n      element.onload = on_load;\n      element.onerror = on_error;\n      element.rel = \"stylesheet\";\n      element.type = \"text/css\";\n      element.href = url;\n      console.debug(\"Bokeh: injecting link tag for BokehJS stylesheet: \", url);\n      document.body.appendChild(element);\n    }\n\n    const hashes = {\"https://cdn.bokeh.org/bokeh/release/bokeh-2.2.3.min.js\": \"T2yuo9Oe71Cz/I4X9Ac5+gpEa5a8PpJCDlqKYO0CfAuEszu1JrXLl8YugMqYe3sM\", \"https://cdn.bokeh.org/bokeh/release/bokeh-widgets-2.2.3.min.js\": \"98GDGJ0kOMCUMUePhksaQ/GYgB3+NH9h996V88sh3aOiUNX3N+fLXAtry6xctSZ6\", \"https://cdn.bokeh.org/bokeh/release/bokeh-tables-2.2.3.min.js\": \"89bArO+nlbP3sgakeHjCo1JYxYR5wufVgA3IbUvDY+K7w4zyxJqssu7wVnfeKCq8\"};\n\n    for (var i = 0; i < js_urls.length; i++) {\n      var url = js_urls[i];\n      var element = document.createElement('script');\n      element.onload = on_load;\n      element.onerror = on_error;\n      element.async = false;\n      element.src = url;\n      if (url in hashes) {\n        element.crossOrigin = \"anonymous\";\n        element.integrity = \"sha384-\" + hashes[url];\n      }\n      console.debug(\"Bokeh: injecting script tag for BokehJS library: \", url);\n      document.head.appendChild(element);\n    }\n  };\n\n  function inject_raw_css(css) {\n    const element = document.createElement(\"style\");\n    element.appendChild(document.createTextNode(css));\n    document.body.appendChild(element);\n  }\n\n  \n  var js_urls = [\"https://cdn.bokeh.org/bokeh/release/bokeh-2.2.3.min.js\", \"https://cdn.bokeh.org/bokeh/release/bokeh-widgets-2.2.3.min.js\", \"https://cdn.bokeh.org/bokeh/release/bokeh-tables-2.2.3.min.js\"];\n  var css_urls = [];\n  \n\n  var inline_js = [\n    function(Bokeh) {\n      Bokeh.set_log_level(\"info\");\n    },\n    function(Bokeh) {\n    \n    \n    }\n  ];\n\n  function run_inline_js() {\n    \n    if (root.Bokeh !== undefined || force === true) {\n      \n    for (var i = 0; i < inline_js.length; i++) {\n      inline_js[i].call(root, root.Bokeh);\n    }\n    if (force === true) {\n        display_loaded();\n      }} else if (Date.now() < root._bokeh_timeout) {\n      setTimeout(run_inline_js, 100);\n    } else if (!root._bokeh_failed_load) {\n      console.log(\"Bokeh: BokehJS failed to load within specified timeout.\");\n      root._bokeh_failed_load = true;\n    } else if (force !== true) {\n      var cell = $(document.getElementById(\"1001\")).parents('.cell').data().cell;\n      cell.output_area.append_execute_result(NB_LOAD_WARNING)\n    }\n\n  }\n\n  if (root._bokeh_is_loading === 0) {\n    console.debug(\"Bokeh: BokehJS loaded, going straight to plotting\");\n    run_inline_js();\n  } else {\n    load_libs(css_urls, js_urls, function() {\n      console.debug(\"Bokeh: BokehJS plotting callback run at\", now());\n      run_inline_js();\n    });\n  }\n}(window));"
     },
     "metadata": {},
     "output_type": "display_data"
    }
   ],
   "source": [
    "# Imports -- make sure you run this cell!\n",
    "# This cell contains multiple import statements. Each import statement gives the notebook access to pre-bundled\n",
    "# python code that serves some functionality. The first import statement imports all of the python code in the\n",
    "# file tsp.py. You can open this file and examine it if you so choose!\n",
    "\n",
    "from tsp import *\n",
    "from bokeh.io import output_notebook\n",
    "output_notebook()"
   ]
  },
  {
   "cell_type": "markdown",
   "metadata": {},
   "source": [
    "In lectute, you learned about the traveling salesman problem (TSP). The input to this problem is a set of cities along with the distances between them. Our goal is to find a path that visits every city starting and ending at the same city that minimizes the distance traveled. We call a path like this a tour. \n",
    "\n",
    "Consider the following TSP problem consisting of 23 US cities. Fun fact: this instance comes from the Beyoncé *On the Run II Tour*."
   ]
  },
  {
   "cell_type": "code",
   "execution_count": 5,
   "metadata": {},
   "outputs": [
    {
     "data": {
      "text/html": [
       "<div>\n",
       "<style scoped>\n",
       "    .dataframe tbody tr th:only-of-type {\n",
       "        vertical-align: middle;\n",
       "    }\n",
       "\n",
       "    .dataframe tbody tr th {\n",
       "        vertical-align: top;\n",
       "    }\n",
       "\n",
       "    .dataframe thead th {\n",
       "        text-align: right;\n",
       "    }\n",
       "</style>\n",
       "<table border=\"1\" class=\"dataframe\">\n",
       "  <thead>\n",
       "    <tr style=\"text-align: right;\">\n",
       "      <th></th>\n",
       "      <th>name</th>\n",
       "      <th>x</th>\n",
       "      <th>y</th>\n",
       "    </tr>\n",
       "  </thead>\n",
       "  <tbody>\n",
       "    <tr>\n",
       "      <th>0</th>\n",
       "      <td>0.0</td>\n",
       "      <td>751.5</td>\n",
       "      <td>1235.8</td>\n",
       "    </tr>\n",
       "    <tr>\n",
       "      <th>1</th>\n",
       "      <td>1.0</td>\n",
       "      <td>634.6</td>\n",
       "      <td>200.4</td>\n",
       "    </tr>\n",
       "    <tr>\n",
       "      <th>2</th>\n",
       "      <td>2.0</td>\n",
       "      <td>701.4</td>\n",
       "      <td>-100.2</td>\n",
       "    </tr>\n",
       "    <tr>\n",
       "      <th>3</th>\n",
       "      <td>3.0</td>\n",
       "      <td>784.9</td>\n",
       "      <td>-267.2</td>\n",
       "    </tr>\n",
       "    <tr>\n",
       "      <th>4</th>\n",
       "      <td>4.0</td>\n",
       "      <td>985.3</td>\n",
       "      <td>-367.4</td>\n",
       "    </tr>\n",
       "    <tr>\n",
       "      <th>5</th>\n",
       "      <td>5.0</td>\n",
       "      <td>1753.5</td>\n",
       "      <td>768.2</td>\n",
       "    </tr>\n",
       "    <tr>\n",
       "      <th>6</th>\n",
       "      <td>6.0</td>\n",
       "      <td>1920.5</td>\n",
       "      <td>-801.6</td>\n",
       "    </tr>\n",
       "    <tr>\n",
       "      <th>7</th>\n",
       "      <td>7.0</td>\n",
       "      <td>2338.0</td>\n",
       "      <td>-868.4</td>\n",
       "    </tr>\n",
       "    <tr>\n",
       "      <th>8</th>\n",
       "      <td>8.0</td>\n",
       "      <td>2404.8</td>\n",
       "      <td>-1102.2</td>\n",
       "    </tr>\n",
       "    <tr>\n",
       "      <th>9</th>\n",
       "      <td>9.0</td>\n",
       "      <td>2187.7</td>\n",
       "      <td>-400.8</td>\n",
       "    </tr>\n",
       "    <tr>\n",
       "      <th>10</th>\n",
       "      <td>10.0</td>\n",
       "      <td>2321.3</td>\n",
       "      <td>-300.6</td>\n",
       "    </tr>\n",
       "    <tr>\n",
       "      <th>11</th>\n",
       "      <td>11.0</td>\n",
       "      <td>2471.6</td>\n",
       "      <td>334.0</td>\n",
       "    </tr>\n",
       "    <tr>\n",
       "      <th>12</th>\n",
       "      <td>12.0</td>\n",
       "      <td>2505.0</td>\n",
       "      <td>467.6</td>\n",
       "    </tr>\n",
       "    <tr>\n",
       "      <th>13</th>\n",
       "      <td>13.0</td>\n",
       "      <td>2605.2</td>\n",
       "      <td>668.0</td>\n",
       "    </tr>\n",
       "    <tr>\n",
       "      <th>14</th>\n",
       "      <td>14.0</td>\n",
       "      <td>1987.3</td>\n",
       "      <td>400.8</td>\n",
       "    </tr>\n",
       "    <tr>\n",
       "      <th>15</th>\n",
       "      <td>15.0</td>\n",
       "      <td>2070.8</td>\n",
       "      <td>-133.6</td>\n",
       "    </tr>\n",
       "    <tr>\n",
       "      <th>16</th>\n",
       "      <td>16.0</td>\n",
       "      <td>2421.5</td>\n",
       "      <td>233.8</td>\n",
       "    </tr>\n",
       "    <tr>\n",
       "      <th>17</th>\n",
       "      <td>17.0</td>\n",
       "      <td>2321.3</td>\n",
       "      <td>668.0</td>\n",
       "    </tr>\n",
       "    <tr>\n",
       "      <th>18</th>\n",
       "      <td>18.0</td>\n",
       "      <td>2187.7</td>\n",
       "      <td>267.2</td>\n",
       "    </tr>\n",
       "    <tr>\n",
       "      <th>19</th>\n",
       "      <td>19.0</td>\n",
       "      <td>2237.8</td>\n",
       "      <td>434.2</td>\n",
       "    </tr>\n",
       "    <tr>\n",
       "      <th>20</th>\n",
       "      <td>20.0</td>\n",
       "      <td>2154.3</td>\n",
       "      <td>534.4</td>\n",
       "    </tr>\n",
       "    <tr>\n",
       "      <th>21</th>\n",
       "      <td>21.0</td>\n",
       "      <td>1619.9</td>\n",
       "      <td>-501.0</td>\n",
       "    </tr>\n",
       "    <tr>\n",
       "      <th>22</th>\n",
       "      <td>22.0</td>\n",
       "      <td>1670.0</td>\n",
       "      <td>-868.4</td>\n",
       "    </tr>\n",
       "  </tbody>\n",
       "</table>\n",
       "</div>"
      ],
      "text/plain": [
       "    name       x       y\n",
       "0    0.0   751.5  1235.8\n",
       "1    1.0   634.6   200.4\n",
       "2    2.0   701.4  -100.2\n",
       "3    3.0   784.9  -267.2\n",
       "4    4.0   985.3  -367.4\n",
       "5    5.0  1753.5   768.2\n",
       "6    6.0  1920.5  -801.6\n",
       "7    7.0  2338.0  -868.4\n",
       "8    8.0  2404.8 -1102.2\n",
       "9    9.0  2187.7  -400.8\n",
       "10  10.0  2321.3  -300.6\n",
       "11  11.0  2471.6   334.0\n",
       "12  12.0  2505.0   467.6\n",
       "13  13.0  2605.2   668.0\n",
       "14  14.0  1987.3   400.8\n",
       "15  15.0  2070.8  -133.6\n",
       "16  16.0  2421.5   233.8\n",
       "17  17.0  2321.3   668.0\n",
       "18  18.0  2187.7   267.2\n",
       "19  19.0  2237.8   434.2\n",
       "20  20.0  2154.3   534.4\n",
       "21  21.0  1619.9  -501.0\n",
       "22  22.0  1670.0  -868.4"
      ]
     },
     "metadata": {},
     "output_type": "display_data"
    }
   ],
   "source": [
    "# This cell imports a CSV file called us_cities_23.csv. We will often import CSV files.\n",
    "# The data from the CSV file is put in the variable nodes.\n",
    "# Using display(), we can see the contents of this file: each city (node) and its (x,y) position.\n",
    "nodes = pd.read_csv('data/us_cities_23.csv', index_col=0)\n",
    "display(nodes)"
   ]
  },
  {
   "cell_type": "markdown",
   "metadata": {},
   "source": [
    "Before we try to solve the TSP instance, we need to generate the distances between each of the 23 cities. The function `distance_matrix` (described in `tsp.py`) does just this! The entry $(i,j)$ in the distance matrix gives the distance from city $i$ to city $j$.\n",
    "\n",
    "**NOTE:** The function `distance_matrix` takes a parameter called manhattan. If manhattan is true, the manhatten distance is computed. Otherwise, the euclidean distance is computed. For a city located at $(a,b)$ and a city at $(c,d)$, the manhattan distance is $|c-a| + |d-b|$ (horizontal distance plus the vertical distance). The euclidean distance is $\\sqrt{(c-a)^2 + (d-b)^2}$ (striaght-line distance)."
   ]
  },
  {
   "cell_type": "code",
   "execution_count": 6,
   "metadata": {},
   "outputs": [
    {
     "data": {
      "text/html": [
       "<div>\n",
       "<style scoped>\n",
       "    .dataframe tbody tr th:only-of-type {\n",
       "        vertical-align: middle;\n",
       "    }\n",
       "\n",
       "    .dataframe tbody tr th {\n",
       "        vertical-align: top;\n",
       "    }\n",
       "\n",
       "    .dataframe thead th {\n",
       "        text-align: right;\n",
       "    }\n",
       "</style>\n",
       "<table border=\"1\" class=\"dataframe\">\n",
       "  <thead>\n",
       "    <tr style=\"text-align: right;\">\n",
       "      <th></th>\n",
       "      <th>0</th>\n",
       "      <th>1</th>\n",
       "      <th>2</th>\n",
       "      <th>3</th>\n",
       "      <th>4</th>\n",
       "      <th>5</th>\n",
       "      <th>6</th>\n",
       "      <th>7</th>\n",
       "      <th>8</th>\n",
       "      <th>9</th>\n",
       "      <th>...</th>\n",
       "      <th>13</th>\n",
       "      <th>14</th>\n",
       "      <th>15</th>\n",
       "      <th>16</th>\n",
       "      <th>17</th>\n",
       "      <th>18</th>\n",
       "      <th>19</th>\n",
       "      <th>20</th>\n",
       "      <th>21</th>\n",
       "      <th>22</th>\n",
       "    </tr>\n",
       "  </thead>\n",
       "  <tbody>\n",
       "    <tr>\n",
       "      <th>0</th>\n",
       "      <td>0.000000</td>\n",
       "      <td>1041.978296</td>\n",
       "      <td>1336.939045</td>\n",
       "      <td>1503.371065</td>\n",
       "      <td>1620.158227</td>\n",
       "      <td>1105.736750</td>\n",
       "      <td>2348.948650</td>\n",
       "      <td>2635.268466</td>\n",
       "      <td>2863.502207</td>\n",
       "      <td>2177.413603</td>\n",
       "      <td>...</td>\n",
       "      <td>1938.711049</td>\n",
       "      <td>1491.451186</td>\n",
       "      <td>1901.528030</td>\n",
       "      <td>1947.537933</td>\n",
       "      <td>1669.331866</td>\n",
       "      <td>1732.298011</td>\n",
       "      <td>1688.682993</td>\n",
       "      <td>1568.378079</td>\n",
       "      <td>1941.801432</td>\n",
       "      <td>2295.931160</td>\n",
       "    </tr>\n",
       "    <tr>\n",
       "      <th>1</th>\n",
       "      <td>1041.978296</td>\n",
       "      <td>0.000011</td>\n",
       "      <td>307.932785</td>\n",
       "      <td>491.161735</td>\n",
       "      <td>667.373456</td>\n",
       "      <td>1254.724691</td>\n",
       "      <td>1630.197169</td>\n",
       "      <td>2010.946295</td>\n",
       "      <td>2197.811366</td>\n",
       "      <td>1665.401168</td>\n",
       "      <td>...</td>\n",
       "      <td>2025.318276</td>\n",
       "      <td>1367.463875</td>\n",
       "      <td>1474.525836</td>\n",
       "      <td>1787.212122</td>\n",
       "      <td>1750.316157</td>\n",
       "      <td>1554.535895</td>\n",
       "      <td>1620.158227</td>\n",
       "      <td>1555.970466</td>\n",
       "      <td>1209.453616</td>\n",
       "      <td>1488.081517</td>\n",
       "    </tr>\n",
       "    <tr>\n",
       "      <th>2</th>\n",
       "      <td>1336.939045</td>\n",
       "      <td>307.932785</td>\n",
       "      <td>0.000000</td>\n",
       "      <td>186.711676</td>\n",
       "      <td>389.865425</td>\n",
       "      <td>1364.196822</td>\n",
       "      <td>1406.473167</td>\n",
       "      <td>1807.924445</td>\n",
       "      <td>1976.252909</td>\n",
       "      <td>1516.393105</td>\n",
       "      <td>...</td>\n",
       "      <td>2052.945611</td>\n",
       "      <td>1380.050655</td>\n",
       "      <td>1369.807257</td>\n",
       "      <td>1752.227157</td>\n",
       "      <td>1792.821031</td>\n",
       "      <td>1531.035744</td>\n",
       "      <td>1626.686300</td>\n",
       "      <td>1585.444912</td>\n",
       "      <td>1002.139157</td>\n",
       "      <td>1236.251269</td>\n",
       "    </tr>\n",
       "    <tr>\n",
       "      <th>3</th>\n",
       "      <td>1503.371065</td>\n",
       "      <td>491.161735</td>\n",
       "      <td>186.711676</td>\n",
       "      <td>0.000000</td>\n",
       "      <td>224.054011</td>\n",
       "      <td>1417.829016</td>\n",
       "      <td>1255.058054</td>\n",
       "      <td>1665.401168</td>\n",
       "      <td>1822.443692</td>\n",
       "      <td>1409.147544</td>\n",
       "      <td>...</td>\n",
       "      <td>2046.482624</td>\n",
       "      <td>1375.496187</td>\n",
       "      <td>1292.821631</td>\n",
       "      <td>1711.566698</td>\n",
       "      <td>1798.645046</td>\n",
       "      <td>1501.143298</td>\n",
       "      <td>1613.344467</td>\n",
       "      <td>1586.763662</td>\n",
       "      <td>867.114433</td>\n",
       "      <td>1069.973574</td>\n",
       "    </tr>\n",
       "    <tr>\n",
       "      <th>4</th>\n",
       "      <td>1620.158227</td>\n",
       "      <td>667.373456</td>\n",
       "      <td>389.865425</td>\n",
       "      <td>224.054011</td>\n",
       "      <td>0.000000</td>\n",
       "      <td>1371.028300</td>\n",
       "      <td>1031.081316</td>\n",
       "      <td>1442.497241</td>\n",
       "      <td>1598.408987</td>\n",
       "      <td>1202.863799</td>\n",
       "      <td>...</td>\n",
       "      <td>1922.531969</td>\n",
       "      <td>1262.590686</td>\n",
       "      <td>1110.393034</td>\n",
       "      <td>1556.955966</td>\n",
       "      <td>1690.251212</td>\n",
       "      <td>1359.589247</td>\n",
       "      <td>1487.050372</td>\n",
       "      <td>1476.416012</td>\n",
       "      <td>648.510694</td>\n",
       "      <td>848.419171</td>\n",
       "    </tr>\n",
       "    <tr>\n",
       "      <th>5</th>\n",
       "      <td>1105.736750</td>\n",
       "      <td>1254.724691</td>\n",
       "      <td>1364.196822</td>\n",
       "      <td>1417.829016</td>\n",
       "      <td>1371.028300</td>\n",
       "      <td>0.000000</td>\n",
       "      <td>1578.657987</td>\n",
       "      <td>1737.843437</td>\n",
       "      <td>1980.552410</td>\n",
       "      <td>1247.032734</td>\n",
       "      <td>...</td>\n",
       "      <td>857.573863</td>\n",
       "      <td>435.482721</td>\n",
       "      <td>955.992955</td>\n",
       "      <td>855.457398</td>\n",
       "      <td>576.573395</td>\n",
       "      <td>662.971070</td>\n",
       "      <td>588.304759</td>\n",
       "      <td>464.007629</td>\n",
       "      <td>1276.212208</td>\n",
       "      <td>1638.728718</td>\n",
       "    </tr>\n",
       "    <tr>\n",
       "      <th>6</th>\n",
       "      <td>2348.948650</td>\n",
       "      <td>1630.197169</td>\n",
       "      <td>1406.473167</td>\n",
       "      <td>1255.058054</td>\n",
       "      <td>1031.081316</td>\n",
       "      <td>1578.657987</td>\n",
       "      <td>0.000000</td>\n",
       "      <td>422.810229</td>\n",
       "      <td>570.006009</td>\n",
       "      <td>481.701650</td>\n",
       "      <td>...</td>\n",
       "      <td>1621.276735</td>\n",
       "      <td>1204.254126</td>\n",
       "      <td>684.700000</td>\n",
       "      <td>1150.240914</td>\n",
       "      <td>1523.274368</td>\n",
       "      <td>1101.693823</td>\n",
       "      <td>1275.884372</td>\n",
       "      <td>1356.303226</td>\n",
       "      <td>425.112597</td>\n",
       "      <td>259.253717</td>\n",
       "    </tr>\n",
       "    <tr>\n",
       "      <th>7</th>\n",
       "      <td>2635.268466</td>\n",
       "      <td>2010.946295</td>\n",
       "      <td>1807.924445</td>\n",
       "      <td>1665.401168</td>\n",
       "      <td>1442.497241</td>\n",
       "      <td>1737.843437</td>\n",
       "      <td>422.810229</td>\n",
       "      <td>0.000000</td>\n",
       "      <td>243.155670</td>\n",
       "      <td>491.161735</td>\n",
       "      <td>...</td>\n",
       "      <td>1559.461702</td>\n",
       "      <td>1316.760848</td>\n",
       "      <td>781.873954</td>\n",
       "      <td>1105.358354</td>\n",
       "      <td>1536.490758</td>\n",
       "      <td>1145.503143</td>\n",
       "      <td>1306.448162</td>\n",
       "      <td>1414.776848</td>\n",
       "      <td>806.629016</td>\n",
       "      <td>668.000000</td>\n",
       "    </tr>\n",
       "    <tr>\n",
       "      <th>8</th>\n",
       "      <td>2863.502207</td>\n",
       "      <td>2197.811366</td>\n",
       "      <td>1976.252909</td>\n",
       "      <td>1822.443692</td>\n",
       "      <td>1598.408987</td>\n",
       "      <td>1980.552410</td>\n",
       "      <td>570.006009</td>\n",
       "      <td>243.155670</td>\n",
       "      <td>0.000000</td>\n",
       "      <td>734.230461</td>\n",
       "      <td>...</td>\n",
       "      <td>1781.507283</td>\n",
       "      <td>1559.908731</td>\n",
       "      <td>1024.569158</td>\n",
       "      <td>1336.104371</td>\n",
       "      <td>1772.168245</td>\n",
       "      <td>1386.502351</td>\n",
       "      <td>1545.449436</td>\n",
       "      <td>1655.659932</td>\n",
       "      <td>988.690776</td>\n",
       "      <td>771.098878</td>\n",
       "    </tr>\n",
       "    <tr>\n",
       "      <th>9</th>\n",
       "      <td>2177.413603</td>\n",
       "      <td>1665.401168</td>\n",
       "      <td>1516.393105</td>\n",
       "      <td>1409.147544</td>\n",
       "      <td>1202.863799</td>\n",
       "      <td>1247.032734</td>\n",
       "      <td>481.701650</td>\n",
       "      <td>491.161735</td>\n",
       "      <td>734.230461</td>\n",
       "      <td>0.000000</td>\n",
       "      <td>...</td>\n",
       "      <td>1147.449210</td>\n",
       "      <td>826.270367</td>\n",
       "      <td>291.652962</td>\n",
       "      <td>676.298455</td>\n",
       "      <td>1077.117635</td>\n",
       "      <td>668.000000</td>\n",
       "      <td>836.501650</td>\n",
       "      <td>935.796239</td>\n",
       "      <td>576.573395</td>\n",
       "      <td>697.612392</td>\n",
       "    </tr>\n",
       "    <tr>\n",
       "      <th>10</th>\n",
       "      <td>2196.542055</td>\n",
       "      <td>1759.533430</td>\n",
       "      <td>1632.248808</td>\n",
       "      <td>1536.763001</td>\n",
       "      <td>1337.668958</td>\n",
       "      <td>1210.260418</td>\n",
       "      <td>641.593049</td>\n",
       "      <td>568.045535</td>\n",
       "      <td>805.937225</td>\n",
       "      <td>167.000000</td>\n",
       "      <td>...</td>\n",
       "      <td>1009.348884</td>\n",
       "      <td>776.864184</td>\n",
       "      <td>301.063532</td>\n",
       "      <td>543.712608</td>\n",
       "      <td>968.600000</td>\n",
       "      <td>583.305923</td>\n",
       "      <td>739.529100</td>\n",
       "      <td>851.536259</td>\n",
       "      <td>729.467011</td>\n",
       "      <td>864.053546</td>\n",
       "    </tr>\n",
       "    <tr>\n",
       "      <th>11</th>\n",
       "      <td>1942.160459</td>\n",
       "      <td>1841.851775</td>\n",
       "      <td>1822.673224</td>\n",
       "      <td>1790.641877</td>\n",
       "      <td>1643.487040</td>\n",
       "      <td>839.164614</td>\n",
       "      <td>1262.259312</td>\n",
       "      <td>1209.799454</td>\n",
       "      <td>1437.752649</td>\n",
       "      <td>787.737425</td>\n",
       "      <td>...</td>\n",
       "      <td>359.729009</td>\n",
       "      <td>488.885191</td>\n",
       "      <td>615.865570</td>\n",
       "      <td>112.027006</td>\n",
       "      <td>366.259594</td>\n",
       "      <td>291.652962</td>\n",
       "      <td>254.366822</td>\n",
       "      <td>375.285824</td>\n",
       "      <td>1192.735465</td>\n",
       "      <td>1445.104951</td>\n",
       "    </tr>\n",
       "    <tr>\n",
       "      <th>12</th>\n",
       "      <td>1914.391154</td>\n",
       "      <td>1889.389319</td>\n",
       "      <td>1890.864829</td>\n",
       "      <td>1870.474552</td>\n",
       "      <td>1733.987627</td>\n",
       "      <td>809.390271</td>\n",
       "      <td>1397.322042</td>\n",
       "      <td>1346.397044</td>\n",
       "      <td>1572.994622</td>\n",
       "      <td>924.552784</td>\n",
       "      <td>...</td>\n",
       "      <td>224.054011</td>\n",
       "      <td>521.991887</td>\n",
       "      <td>741.600351</td>\n",
       "      <td>248.263348</td>\n",
       "      <td>271.856304</td>\n",
       "      <td>375.285824</td>\n",
       "      <td>269.279409</td>\n",
       "      <td>357.005224</td>\n",
       "      <td>1312.092973</td>\n",
       "      <td>1575.474849</td>\n",
       "    </tr>\n",
       "    <tr>\n",
       "      <th>13</th>\n",
       "      <td>1938.711049</td>\n",
       "      <td>2025.318276</td>\n",
       "      <td>2052.945611</td>\n",
       "      <td>2046.482624</td>\n",
       "      <td>1922.531969</td>\n",
       "      <td>857.573863</td>\n",
       "      <td>1621.276735</td>\n",
       "      <td>1559.461702</td>\n",
       "      <td>1781.507283</td>\n",
       "      <td>1147.449210</td>\n",
       "      <td>...</td>\n",
       "      <td>0.000000</td>\n",
       "      <td>673.198522</td>\n",
       "      <td>963.403301</td>\n",
       "      <td>471.460847</td>\n",
       "      <td>283.900000</td>\n",
       "      <td>578.745963</td>\n",
       "      <td>435.482721</td>\n",
       "      <td>470.276270</td>\n",
       "      <td>1528.848289</td>\n",
       "      <td>1798.645046</td>\n",
       "    </tr>\n",
       "    <tr>\n",
       "      <th>14</th>\n",
       "      <td>1491.451186</td>\n",
       "      <td>1367.463875</td>\n",
       "      <td>1380.050655</td>\n",
       "      <td>1375.496187</td>\n",
       "      <td>1262.590686</td>\n",
       "      <td>435.482721</td>\n",
       "      <td>1204.254126</td>\n",
       "      <td>1316.760848</td>\n",
       "      <td>1559.908731</td>\n",
       "      <td>826.270367</td>\n",
       "      <td>...</td>\n",
       "      <td>673.198522</td>\n",
       "      <td>0.000000</td>\n",
       "      <td>540.884100</td>\n",
       "      <td>465.208168</td>\n",
       "      <td>427.728699</td>\n",
       "      <td>240.850825</td>\n",
       "      <td>252.716857</td>\n",
       "      <td>213.864350</td>\n",
       "      <td>973.768966</td>\n",
       "      <td>1308.261415</td>\n",
       "    </tr>\n",
       "    <tr>\n",
       "      <th>15</th>\n",
       "      <td>1901.528030</td>\n",
       "      <td>1474.525836</td>\n",
       "      <td>1369.807257</td>\n",
       "      <td>1292.821631</td>\n",
       "      <td>1110.393034</td>\n",
       "      <td>955.992955</td>\n",
       "      <td>684.700000</td>\n",
       "      <td>781.873954</td>\n",
       "      <td>1024.569158</td>\n",
       "      <td>291.652962</td>\n",
       "      <td>...</td>\n",
       "      <td>963.403301</td>\n",
       "      <td>540.884100</td>\n",
       "      <td>0.000000</td>\n",
       "      <td>507.910671</td>\n",
       "      <td>839.829036</td>\n",
       "      <td>417.500000</td>\n",
       "      <td>591.849508</td>\n",
       "      <td>673.198522</td>\n",
       "      <td>581.630097</td>\n",
       "      <td>837.001601</td>\n",
       "    </tr>\n",
       "    <tr>\n",
       "      <th>16</th>\n",
       "      <td>1947.537933</td>\n",
       "      <td>1787.212122</td>\n",
       "      <td>1752.227157</td>\n",
       "      <td>1711.566698</td>\n",
       "      <td>1556.955966</td>\n",
       "      <td>855.457398</td>\n",
       "      <td>1150.240914</td>\n",
       "      <td>1105.358354</td>\n",
       "      <td>1336.104371</td>\n",
       "      <td>676.298455</td>\n",
       "      <td>...</td>\n",
       "      <td>471.460847</td>\n",
       "      <td>465.208168</td>\n",
       "      <td>507.910671</td>\n",
       "      <td>0.000000</td>\n",
       "      <td>445.611580</td>\n",
       "      <td>236.173665</td>\n",
       "      <td>271.856304</td>\n",
       "      <td>402.189259</td>\n",
       "      <td>1087.425216</td>\n",
       "      <td>1334.015401</td>\n",
       "    </tr>\n",
       "    <tr>\n",
       "      <th>17</th>\n",
       "      <td>1669.331866</td>\n",
       "      <td>1750.316157</td>\n",
       "      <td>1792.821031</td>\n",
       "      <td>1798.645046</td>\n",
       "      <td>1690.251212</td>\n",
       "      <td>576.573395</td>\n",
       "      <td>1523.274368</td>\n",
       "      <td>1536.490758</td>\n",
       "      <td>1772.168245</td>\n",
       "      <td>1077.117635</td>\n",
       "      <td>...</td>\n",
       "      <td>283.900000</td>\n",
       "      <td>427.728699</td>\n",
       "      <td>839.829036</td>\n",
       "      <td>445.611580</td>\n",
       "      <td>0.000000</td>\n",
       "      <td>422.480295</td>\n",
       "      <td>248.263348</td>\n",
       "      <td>213.864350</td>\n",
       "      <td>1363.276553</td>\n",
       "      <td>1668.747030</td>\n",
       "    </tr>\n",
       "    <tr>\n",
       "      <th>18</th>\n",
       "      <td>1732.298011</td>\n",
       "      <td>1554.535895</td>\n",
       "      <td>1531.035744</td>\n",
       "      <td>1501.143298</td>\n",
       "      <td>1359.589247</td>\n",
       "      <td>662.971070</td>\n",
       "      <td>1101.693823</td>\n",
       "      <td>1145.503143</td>\n",
       "      <td>1386.502351</td>\n",
       "      <td>668.000000</td>\n",
       "      <td>...</td>\n",
       "      <td>578.745963</td>\n",
       "      <td>240.850825</td>\n",
       "      <td>417.500000</td>\n",
       "      <td>236.173665</td>\n",
       "      <td>422.480295</td>\n",
       "      <td>0.000000</td>\n",
       "      <td>174.353119</td>\n",
       "      <td>269.279409</td>\n",
       "      <td>955.263356</td>\n",
       "      <td>1248.038721</td>\n",
       "    </tr>\n",
       "    <tr>\n",
       "      <th>19</th>\n",
       "      <td>1688.682993</td>\n",
       "      <td>1620.158227</td>\n",
       "      <td>1626.686300</td>\n",
       "      <td>1613.344467</td>\n",
       "      <td>1487.050372</td>\n",
       "      <td>588.304759</td>\n",
       "      <td>1275.884372</td>\n",
       "      <td>1306.448162</td>\n",
       "      <td>1545.449436</td>\n",
       "      <td>836.501650</td>\n",
       "      <td>...</td>\n",
       "      <td>435.482721</td>\n",
       "      <td>252.716857</td>\n",
       "      <td>591.849508</td>\n",
       "      <td>271.856304</td>\n",
       "      <td>248.263348</td>\n",
       "      <td>174.353119</td>\n",
       "      <td>0.000000</td>\n",
       "      <td>130.431170</td>\n",
       "      <td>1120.892256</td>\n",
       "      <td>1420.972765</td>\n",
       "    </tr>\n",
       "    <tr>\n",
       "      <th>20</th>\n",
       "      <td>1568.378079</td>\n",
       "      <td>1555.970466</td>\n",
       "      <td>1585.444912</td>\n",
       "      <td>1586.763662</td>\n",
       "      <td>1476.416012</td>\n",
       "      <td>464.007629</td>\n",
       "      <td>1356.303226</td>\n",
       "      <td>1414.776848</td>\n",
       "      <td>1655.659932</td>\n",
       "      <td>935.796239</td>\n",
       "      <td>...</td>\n",
       "      <td>470.276270</td>\n",
       "      <td>213.864350</td>\n",
       "      <td>673.198522</td>\n",
       "      <td>402.189259</td>\n",
       "      <td>213.864350</td>\n",
       "      <td>269.279409</td>\n",
       "      <td>130.431170</td>\n",
       "      <td>0.000000</td>\n",
       "      <td>1165.176605</td>\n",
       "      <td>1484.046606</td>\n",
       "    </tr>\n",
       "    <tr>\n",
       "      <th>21</th>\n",
       "      <td>1941.801432</td>\n",
       "      <td>1209.453616</td>\n",
       "      <td>1002.139157</td>\n",
       "      <td>867.114433</td>\n",
       "      <td>648.510694</td>\n",
       "      <td>1276.212208</td>\n",
       "      <td>425.112597</td>\n",
       "      <td>806.629016</td>\n",
       "      <td>988.690776</td>\n",
       "      <td>576.573395</td>\n",
       "      <td>...</td>\n",
       "      <td>1528.848289</td>\n",
       "      <td>973.768966</td>\n",
       "      <td>581.630097</td>\n",
       "      <td>1087.425216</td>\n",
       "      <td>1363.276553</td>\n",
       "      <td>955.263356</td>\n",
       "      <td>1120.892256</td>\n",
       "      <td>1165.176605</td>\n",
       "      <td>0.000000</td>\n",
       "      <td>370.800175</td>\n",
       "    </tr>\n",
       "    <tr>\n",
       "      <th>22</th>\n",
       "      <td>2295.931160</td>\n",
       "      <td>1488.081517</td>\n",
       "      <td>1236.251269</td>\n",
       "      <td>1069.973574</td>\n",
       "      <td>848.419171</td>\n",
       "      <td>1638.728718</td>\n",
       "      <td>259.253717</td>\n",
       "      <td>668.000000</td>\n",
       "      <td>771.098878</td>\n",
       "      <td>697.612392</td>\n",
       "      <td>...</td>\n",
       "      <td>1798.645046</td>\n",
       "      <td>1308.261415</td>\n",
       "      <td>837.001601</td>\n",
       "      <td>1334.015401</td>\n",
       "      <td>1668.747030</td>\n",
       "      <td>1248.038721</td>\n",
       "      <td>1420.972765</td>\n",
       "      <td>1484.046606</td>\n",
       "      <td>370.800175</td>\n",
       "      <td>0.000000</td>\n",
       "    </tr>\n",
       "  </tbody>\n",
       "</table>\n",
       "<p>23 rows × 23 columns</p>\n",
       "</div>"
      ],
      "text/plain": [
       "             0            1            2            3            4   \\\n",
       "0      0.000000  1041.978296  1336.939045  1503.371065  1620.158227   \n",
       "1   1041.978296     0.000011   307.932785   491.161735   667.373456   \n",
       "2   1336.939045   307.932785     0.000000   186.711676   389.865425   \n",
       "3   1503.371065   491.161735   186.711676     0.000000   224.054011   \n",
       "4   1620.158227   667.373456   389.865425   224.054011     0.000000   \n",
       "5   1105.736750  1254.724691  1364.196822  1417.829016  1371.028300   \n",
       "6   2348.948650  1630.197169  1406.473167  1255.058054  1031.081316   \n",
       "7   2635.268466  2010.946295  1807.924445  1665.401168  1442.497241   \n",
       "8   2863.502207  2197.811366  1976.252909  1822.443692  1598.408987   \n",
       "9   2177.413603  1665.401168  1516.393105  1409.147544  1202.863799   \n",
       "10  2196.542055  1759.533430  1632.248808  1536.763001  1337.668958   \n",
       "11  1942.160459  1841.851775  1822.673224  1790.641877  1643.487040   \n",
       "12  1914.391154  1889.389319  1890.864829  1870.474552  1733.987627   \n",
       "13  1938.711049  2025.318276  2052.945611  2046.482624  1922.531969   \n",
       "14  1491.451186  1367.463875  1380.050655  1375.496187  1262.590686   \n",
       "15  1901.528030  1474.525836  1369.807257  1292.821631  1110.393034   \n",
       "16  1947.537933  1787.212122  1752.227157  1711.566698  1556.955966   \n",
       "17  1669.331866  1750.316157  1792.821031  1798.645046  1690.251212   \n",
       "18  1732.298011  1554.535895  1531.035744  1501.143298  1359.589247   \n",
       "19  1688.682993  1620.158227  1626.686300  1613.344467  1487.050372   \n",
       "20  1568.378079  1555.970466  1585.444912  1586.763662  1476.416012   \n",
       "21  1941.801432  1209.453616  1002.139157   867.114433   648.510694   \n",
       "22  2295.931160  1488.081517  1236.251269  1069.973574   848.419171   \n",
       "\n",
       "             5            6            7            8            9   ...  \\\n",
       "0   1105.736750  2348.948650  2635.268466  2863.502207  2177.413603  ...   \n",
       "1   1254.724691  1630.197169  2010.946295  2197.811366  1665.401168  ...   \n",
       "2   1364.196822  1406.473167  1807.924445  1976.252909  1516.393105  ...   \n",
       "3   1417.829016  1255.058054  1665.401168  1822.443692  1409.147544  ...   \n",
       "4   1371.028300  1031.081316  1442.497241  1598.408987  1202.863799  ...   \n",
       "5      0.000000  1578.657987  1737.843437  1980.552410  1247.032734  ...   \n",
       "6   1578.657987     0.000000   422.810229   570.006009   481.701650  ...   \n",
       "7   1737.843437   422.810229     0.000000   243.155670   491.161735  ...   \n",
       "8   1980.552410   570.006009   243.155670     0.000000   734.230461  ...   \n",
       "9   1247.032734   481.701650   491.161735   734.230461     0.000000  ...   \n",
       "10  1210.260418   641.593049   568.045535   805.937225   167.000000  ...   \n",
       "11   839.164614  1262.259312  1209.799454  1437.752649   787.737425  ...   \n",
       "12   809.390271  1397.322042  1346.397044  1572.994622   924.552784  ...   \n",
       "13   857.573863  1621.276735  1559.461702  1781.507283  1147.449210  ...   \n",
       "14   435.482721  1204.254126  1316.760848  1559.908731   826.270367  ...   \n",
       "15   955.992955   684.700000   781.873954  1024.569158   291.652962  ...   \n",
       "16   855.457398  1150.240914  1105.358354  1336.104371   676.298455  ...   \n",
       "17   576.573395  1523.274368  1536.490758  1772.168245  1077.117635  ...   \n",
       "18   662.971070  1101.693823  1145.503143  1386.502351   668.000000  ...   \n",
       "19   588.304759  1275.884372  1306.448162  1545.449436   836.501650  ...   \n",
       "20   464.007629  1356.303226  1414.776848  1655.659932   935.796239  ...   \n",
       "21  1276.212208   425.112597   806.629016   988.690776   576.573395  ...   \n",
       "22  1638.728718   259.253717   668.000000   771.098878   697.612392  ...   \n",
       "\n",
       "             13           14           15           16           17  \\\n",
       "0   1938.711049  1491.451186  1901.528030  1947.537933  1669.331866   \n",
       "1   2025.318276  1367.463875  1474.525836  1787.212122  1750.316157   \n",
       "2   2052.945611  1380.050655  1369.807257  1752.227157  1792.821031   \n",
       "3   2046.482624  1375.496187  1292.821631  1711.566698  1798.645046   \n",
       "4   1922.531969  1262.590686  1110.393034  1556.955966  1690.251212   \n",
       "5    857.573863   435.482721   955.992955   855.457398   576.573395   \n",
       "6   1621.276735  1204.254126   684.700000  1150.240914  1523.274368   \n",
       "7   1559.461702  1316.760848   781.873954  1105.358354  1536.490758   \n",
       "8   1781.507283  1559.908731  1024.569158  1336.104371  1772.168245   \n",
       "9   1147.449210   826.270367   291.652962   676.298455  1077.117635   \n",
       "10  1009.348884   776.864184   301.063532   543.712608   968.600000   \n",
       "11   359.729009   488.885191   615.865570   112.027006   366.259594   \n",
       "12   224.054011   521.991887   741.600351   248.263348   271.856304   \n",
       "13     0.000000   673.198522   963.403301   471.460847   283.900000   \n",
       "14   673.198522     0.000000   540.884100   465.208168   427.728699   \n",
       "15   963.403301   540.884100     0.000000   507.910671   839.829036   \n",
       "16   471.460847   465.208168   507.910671     0.000000   445.611580   \n",
       "17   283.900000   427.728699   839.829036   445.611580     0.000000   \n",
       "18   578.745963   240.850825   417.500000   236.173665   422.480295   \n",
       "19   435.482721   252.716857   591.849508   271.856304   248.263348   \n",
       "20   470.276270   213.864350   673.198522   402.189259   213.864350   \n",
       "21  1528.848289   973.768966   581.630097  1087.425216  1363.276553   \n",
       "22  1798.645046  1308.261415   837.001601  1334.015401  1668.747030   \n",
       "\n",
       "             18           19           20           21           22  \n",
       "0   1732.298011  1688.682993  1568.378079  1941.801432  2295.931160  \n",
       "1   1554.535895  1620.158227  1555.970466  1209.453616  1488.081517  \n",
       "2   1531.035744  1626.686300  1585.444912  1002.139157  1236.251269  \n",
       "3   1501.143298  1613.344467  1586.763662   867.114433  1069.973574  \n",
       "4   1359.589247  1487.050372  1476.416012   648.510694   848.419171  \n",
       "5    662.971070   588.304759   464.007629  1276.212208  1638.728718  \n",
       "6   1101.693823  1275.884372  1356.303226   425.112597   259.253717  \n",
       "7   1145.503143  1306.448162  1414.776848   806.629016   668.000000  \n",
       "8   1386.502351  1545.449436  1655.659932   988.690776   771.098878  \n",
       "9    668.000000   836.501650   935.796239   576.573395   697.612392  \n",
       "10   583.305923   739.529100   851.536259   729.467011   864.053546  \n",
       "11   291.652962   254.366822   375.285824  1192.735465  1445.104951  \n",
       "12   375.285824   269.279409   357.005224  1312.092973  1575.474849  \n",
       "13   578.745963   435.482721   470.276270  1528.848289  1798.645046  \n",
       "14   240.850825   252.716857   213.864350   973.768966  1308.261415  \n",
       "15   417.500000   591.849508   673.198522   581.630097   837.001601  \n",
       "16   236.173665   271.856304   402.189259  1087.425216  1334.015401  \n",
       "17   422.480295   248.263348   213.864350  1363.276553  1668.747030  \n",
       "18     0.000000   174.353119   269.279409   955.263356  1248.038721  \n",
       "19   174.353119     0.000000   130.431170  1120.892256  1420.972765  \n",
       "20   269.279409   130.431170     0.000000  1165.176605  1484.046606  \n",
       "21   955.263356  1120.892256  1165.176605     0.000000   370.800175  \n",
       "22  1248.038721  1420.972765  1484.046606   370.800175     0.000000  \n",
       "\n",
       "[23 rows x 23 columns]"
      ]
     },
     "metadata": {},
     "output_type": "display_data"
    }
   ],
   "source": [
    "G = distance_matrix(nodes, manhattan=False)\n",
    "display(pd.DataFrame(G))"
   ]
  },
  {
   "cell_type": "markdown",
   "metadata": {},
   "source": [
    "Now we can find a tour manually. Running the cell below will generate a visual of the 23 cities. Click on the cities one at a time to create a tour. Clicking on the last node will automatically complete the tour. In the lower-left, you will see the cost of the tour update as you create it. In the lower-right, you will see the tour."
   ]
  },
  {
   "cell_type": "code",
   "execution_count": 7,
   "metadata": {},
   "outputs": [
    {
     "data": {
      "text/html": [
       "\n",
       "\n",
       "\n",
       "\n",
       "\n",
       "\n",
       "  <div class=\"bk-root\" id=\"b61f0d9f-6dba-4cf9-af19-8e747f61e802\" data-root-id=\"1077\"></div>\n"
      ]
     },
     "metadata": {},
     "output_type": "display_data"
    },
    {
     "data": {
      "application/javascript": [
       "(function(root) {\n",
       "  function embed_document(root) {\n",
       "    \n",
       "  var docs_json = {\"ba530d31-dc74-44d3-8af6-196a84bf04bf\":{\"roots\":{\"references\":[{\"attributes\":{\"children\":[[{\"id\":\"1002\"},0,0],[{\"id\":\"1061\"},1,0]]},\"id\":\"1077\",\"type\":\"GridBox\"},{\"attributes\":{},\"id\":\"1069\",\"type\":\"UnionRenderers\"},{\"attributes\":{\"data_source\":{\"id\":\"1044\"},\"glyph\":{\"id\":\"1046\"},\"hover_glyph\":null,\"muted_glyph\":null,\"nonselection_glyph\":{\"id\":\"1047\"},\"selection_glyph\":null,\"view\":{\"id\":\"1049\"}},\"id\":\"1048\",\"type\":\"GlyphRenderer\"},{\"attributes\":{},\"id\":\"1022\",\"type\":\"WheelZoomTool\"},{\"attributes\":{},\"id\":\"1070\",\"type\":\"Selection\"},{\"attributes\":{\"global_alpha\":0.1,\"h\":{\"units\":\"data\",\"value\":2735.46},\"url\":{\"field\":\"url\"},\"w\":{\"units\":\"data\",\"value\":2305.602},\"x\":{\"value\":447.09900000000005},\"y\":{\"value\":1439.53}},\"id\":\"1038\",\"type\":\"ImageURL\"},{\"attributes\":{\"source\":{\"id\":\"1044\"}},\"id\":\"1049\",\"type\":\"CDSView\"},{\"attributes\":{},\"id\":\"1021\",\"type\":\"PanTool\"},{\"attributes\":{},\"id\":\"1071\",\"type\":\"UnionRenderers\"},{\"attributes\":{\"h\":{\"units\":\"data\",\"value\":2735.46},\"url\":{\"field\":\"url\"},\"w\":{\"units\":\"data\",\"value\":2305.602},\"x\":{\"value\":447.09900000000005},\"y\":{\"value\":1439.53}},\"id\":\"1037\",\"type\":\"ImageURL\"},{\"attributes\":{\"line_alpha\":0.1,\"line_width\":4,\"x\":{\"field\":\"edges_x\"},\"y\":{\"field\":\"edges_y\"}},\"id\":\"1047\",\"type\":\"Line\"},{\"attributes\":{},\"id\":\"1072\",\"type\":\"Selection\"},{\"attributes\":{\"text\":\"\"},\"id\":\"1003\",\"type\":\"Title\"},{\"attributes\":{\"formatter\":{\"id\":\"1063\"},\"ticker\":{\"id\":\"1014\"},\"visible\":false},\"id\":\"1013\",\"type\":\"LinearAxis\"},{\"attributes\":{\"end\":1434.53,\"start\":-1300.93},\"id\":\"1007\",\"type\":\"Range1d\"},{\"attributes\":{\"data\":{\"x\":[751.5,634.6,701.4,784.9,985.3,1753.5,1920.5,2338.0,2404.8,2187.7,2321.3,2471.6,2505.0,2605.2,1987.3,2070.8,2421.5,2321.3,2187.7,2237.8,2154.3,1619.9,1670.0],\"y\":[1235.8,200.4,-100.2,-267.2,-367.4,768.1999999999998,-801.5999999999998,-868.4,-1102.2,-400.8,-300.6,334.0,467.6,668.0,400.8,-133.6,233.8,668.0,267.2,434.2,534.4,-501.0,-868.4]},\"selected\":{\"id\":\"1072\"},\"selection_policy\":{\"id\":\"1071\"}},\"id\":\"1050\",\"type\":\"ColumnDataSource\"},{\"attributes\":{},\"id\":\"1074\",\"type\":\"UnionRenderers\"},{\"attributes\":{\"line_width\":4,\"x\":{\"field\":\"edges_x\"},\"y\":{\"field\":\"edges_y\"}},\"id\":\"1046\",\"type\":\"Line\"},{\"attributes\":{\"background_fill_color\":null,\"below\":[{\"id\":\"1013\"}],\"border_fill_color\":null,\"center\":[{\"id\":\"1016\"},{\"id\":\"1020\"}],\"left\":[{\"id\":\"1017\"}],\"outline_line_color\":null,\"plot_height\":375,\"renderers\":[{\"id\":\"1039\"},{\"id\":\"1048\"},{\"id\":\"1053\"}],\"title\":{\"id\":\"1003\"},\"toolbar\":{\"id\":\"1028\"},\"toolbar_location\":null,\"x_range\":{\"id\":\"1005\"},\"x_scale\":{\"id\":\"1009\"},\"y_range\":{\"id\":\"1007\"},\"y_scale\":{\"id\":\"1011\"}},\"id\":\"1002\",\"subtype\":\"Figure\",\"type\":\"Plot\"},{\"attributes\":{\"data_source\":{\"id\":\"1050\"},\"glyph\":{\"id\":\"1051\"},\"hover_glyph\":null,\"muted_glyph\":null,\"nonselection_glyph\":{\"id\":\"1052\"},\"selection_glyph\":null,\"view\":{\"id\":\"1054\"}},\"id\":\"1053\",\"type\":\"GlyphRenderer\"},{\"attributes\":{},\"id\":\"1075\",\"type\":\"Selection\"},{\"attributes\":{\"data\":{\"edges_x\":[],\"edges_y\":[],\"indices\":[]},\"selected\":{\"id\":\"1070\"},\"selection_policy\":{\"id\":\"1069\"}},\"id\":\"1044\",\"type\":\"ColumnDataSource\"},{\"attributes\":{\"overlay\":{\"id\":\"1027\"}},\"id\":\"1023\",\"type\":\"BoxZoomTool\"},{\"attributes\":{\"args\":{\"source\":{\"id\":\"1043\"}},\"code\":\"\\n    source.data['last_index'] = cb_data.index.indices[0]   \\n    \"},\"id\":\"1055\",\"type\":\"CustomJS\"},{\"attributes\":{},\"id\":\"1014\",\"type\":\"BasicTicker\"},{\"attributes\":{\"fill_color\":{\"value\":\"steelblue\"},\"line_alpha\":{\"value\":0.1},\"line_color\":{\"value\":\"steelblue\"},\"size\":{\"units\":\"screen\",\"value\":10},\"x\":{\"field\":\"x\"},\"y\":{\"field\":\"y\"}},\"id\":\"1052\",\"type\":\"Circle\"},{\"attributes\":{\"data\":{\"url\":[\"images/us.png\"]},\"selected\":{\"id\":\"1068\"},\"selection_policy\":{\"id\":\"1067\"}},\"id\":\"1036\",\"type\":\"ColumnDataSource\"},{\"attributes\":{\"source\":{\"id\":\"1050\"}},\"id\":\"1054\",\"type\":\"CDSView\"},{\"attributes\":{\"data\":{\"G\":[[0.0,1041.978296319074,1336.9390449829789,1503.3710653062335,1620.158226840823,1105.73674986409,2348.9486499283034,2635.268466399581,2863.502207088376,2177.4136033376844,2196.5420551403063,1942.160459385372,1914.391153865897,1938.711048609359,1491.4511859259762,1901.5280302956355,1947.5379328783304,1669.3318663465332,1732.2980113132955,1688.682992749083,1568.3780794183526,1941.8014316608173,2295.931159682276],[1041.978296319074,1.0789593218788873e-05,307.9327848735826,491.16173507308156,667.3734561697819,1254.7246909182904,1630.197169056553,2010.9462946583133,2197.811365881977,1665.4011678871848,1759.5334296341177,1841.8517747093547,1889.389319330455,2025.318276222283,1367.4638752084093,1474.525835650227,1787.212122273123,1750.3161571556152,1554.5358953719915,1620.1582268408233,1555.970465658009,1209.4536163077937,1488.081516584357],[1336.9390449829789,307.9327848735826,0.0,186.71167612123244,389.86542549962036,1364.1968223097426,1406.4731671809454,1807.9244453239742,1976.2529089162654,1516.3931053654917,1632.2488076270727,1822.673223592205,1890.8648285903464,2052.9456105800755,1380.0506548674218,1369.80725651458,1752.2271570775295,1792.8210312242547,1531.0357441941057,1626.6863004279592,1585.4449123195675,1002.1391570036569,1236.2512689578928],[1503.3710653062335,491.16173507308156,186.71167612123244,0.0,224.0540113454783,1417.829016489647,1255.0580544341362,1665.4011678871848,1822.443691859916,1409.147543729896,1536.7630005957328,1790.6418765347803,1870.4745520856463,2046.4826239184147,1375.4961868358632,1292.8216311618553,1711.566697502613,1798.6450455829242,1501.1432976235144,1613.3444672480828,1586.7636623013525,867.1144330479111,1069.973574440042],[1620.158226840823,667.3734561697819,389.86542549962036,224.0540113454783,0.0,1371.0283002184892,1031.081315900933,1442.497240898574,1598.4089870868472,1202.863799438656,1337.6689575526525,1643.4870398028697,1733.9876268301339,1922.531968524841,1262.5906858519115,1110.3930340199367,1556.9559659797708,1690.2512120983672,1359.5892467947808,1487.0503723815143,1476.4160118340633,648.5106938208503,848.4191711648201],[1105.73674986409,1254.7246909182904,1364.1968223097426,1417.829016489647,1371.0283002184892,0.0,1578.6579870256883,1737.8434365615328,1980.5524103138498,1247.03273413331,1210.2604182571617,839.1646143635943,809.3902705123156,857.5738627080477,435.48272066753714,955.9929549949619,855.4573981210283,576.5733951545102,662.9710702587253,588.3047594572054,464.00762924762455,1276.2122080594586,1638.728717634496],[2348.9486499283034,1630.197169056553,1406.4731671809454,1255.0580544341362,1031.081315900933,1578.6579870256883,0.0,422.8102292991505,570.0060087402601,481.7016504019875,641.5930485907704,1262.2593117105534,1397.322042336698,1621.276734552124,1204.2541260049725,684.6999999999999,1150.2409138958674,1523.274367932448,1101.693823165038,1275.884371720258,1356.3032256836962,425.1125968493521,259.253717427541],[2635.268466399581,2010.9462946583133,1807.9244453239742,1665.4011678871848,1442.497240898574,1737.8434365615328,422.8102292991505,0.0,243.15567030196868,491.1617350730812,568.0455351466101,1209.7994544551584,1346.3970439658578,1559.461701998481,1316.7608476864737,781.8739540360702,1105.3583536573105,1536.4907581889322,1145.5031427281199,1306.4481620026104,1414.776848128354,806.6290163389854,668.0],[2863.502207088376,2197.811365881977,1976.2529089162654,1822.443691859916,1598.4089870868472,1980.5524103138498,570.0060087402601,243.15567030196868,0.0,734.2304610951518,805.9372246025113,1437.7526491020628,1572.9946217327001,1781.5072831734367,1559.9087313044952,1024.5691582318877,1336.1043709231703,1772.1682453988383,1386.5023512421462,1545.4494362482394,1655.6599318700687,988.6907757231273,771.0988782250954],[2177.4136033376844,1665.4011678871848,1516.3931053654917,1409.147543729896,1202.863799438656,1247.03273413331,481.7016504019875,491.1617350730812,734.2304610951518,0.0,167.0,787.7374245267264,924.5527837825149,1147.4492102049664,826.270367373779,291.6529615827675,676.2984548259737,1077.1176351726865,668.0,836.5016497293963,935.7962385049427,576.573395154511,697.6123923784603],[2196.5420551403063,1759.5334296341177,1632.2488076270727,1536.7630005957328,1337.6689575526525,1210.2604182571617,641.5930485907704,568.0455351466101,805.9372246025113,167.0,0.0,652.1558479382056,789.8588038377491,1009.3488841822732,776.8641837541495,301.0635315012431,543.7126079097322,968.6000000000005,583.3059231655382,739.5291001711827,851.536258769995,729.4670109059074,864.0535457944723],[1942.160459385372,1841.8517747093547,1822.673223592205,1790.6418765347803,1643.4870398028697,839.1646143635943,1262.2593117105534,1209.7994544551584,1437.7526491020628,787.7374245267264,652.1558479382056,0.0,137.71172789562823,359.72900911658354,488.885191021369,615.8655697471652,112.02700567274279,366.25959373100363,291.6529615827675,254.36682173585174,375.28582440588013,1192.735465222696,1445.1049512059667],[1914.391153865897,1889.389319330455,1890.8648285903464,1870.4745520856463,1733.9876268301339,809.3902705123156,1397.322042336698,1346.3970439658578,1572.9946217327001,924.5527837825149,789.8588038377491,137.71172789562823,0.0,224.05401134547728,521.9918869101314,741.6003505932289,248.26334808021798,271.8563039548644,375.2858244058777,269.27940879317225,357.0052240514142,1312.0929730777464,1575.4748490534528],[1938.711048609359,2025.318276222283,2052.9456105800755,2046.4826239184147,1922.531968524841,857.5738627080477,1621.276734552124,1559.461701998481,1781.5072831734367,1147.4492102049664,1009.3488841822732,359.72900911658354,224.05401134547728,0.0,673.1985219829276,963.4033008039779,471.46084673066974,283.90000000000157,578.74596326886,435.48272066753606,470.2762698669789,1528.8482887454857,1798.6450455829242],[1491.4511859259762,1367.4638752084093,1380.0506548674218,1375.4961868358632,1262.5906858519115,435.48272066753714,1204.2541260049725,1316.7608476864737,1559.9087313044952,826.270367373779,776.8641837541495,488.885191021369,521.9918869101314,673.1985219829276,0.0,540.8841003394353,465.20816845795025,427.72869906051415,240.85082520099277,252.71685737203734,213.86434953025923,973.7689664391652,1308.261415008484],[1901.5280302956355,1474.525835650227,1369.80725651458,1292.8216311618553,1110.3930340199367,955.9929549949619,684.6999999999999,781.8739540360702,1024.5691582318877,291.6529615827675,301.0635315012431,615.8655697471652,741.6003505932289,963.4033008039779,540.8841003394353,0.0,507.91067127990135,839.8290361734337,417.5,591.8495078987562,673.1985219829303,581.6300972267514,837.0016009542627],[1947.5379328783304,1787.212122273123,1752.2271570775295,1711.566697502613,1556.9559659797708,855.4573981210283,1150.2409138958674,1105.3583536573105,1336.1043709231703,676.2984548259737,543.7126079097322,112.02700567274279,248.26334808021798,471.46084673066974,465.20816845795025,507.91067127990135,0.0,445.6115797418192,236.17366491630688,271.8563039548678,402.18925893166636,1087.4252158194606,1334.0154009605735],[1669.3318663465332,1750.3161571556152,1792.8210312242547,1798.6450455829242,1690.2512120983672,576.5733951545102,1523.274367932448,1536.4907581889322,1772.1682453988383,1077.1176351726865,968.6000000000005,366.25959373100363,271.8563039548644,283.90000000000157,427.72869906051415,839.8290361734337,445.6115797418192,0.0,422.4802953984972,248.26334808022173,213.86434953025923,1363.2765530148313,1668.7470299599036],[1732.2980113132955,1554.5358953719915,1531.0357441941057,1501.1432976235144,1359.5892467947808,662.9710702587253,1101.693823165038,1145.5031427281199,1386.5023512421462,668.0,583.3059231655382,291.6529615827675,375.2858244058777,578.74596326886,240.85082520099277,417.5,236.17366491630688,422.4802953984972,0.0,174.35311869880556,269.27940879317225,955.2633563578157,1248.03872135443],[1688.682992749083,1620.1582268408233,1626.6863004279592,1613.3444672480828,1487.0503723815143,588.3047594572054,1275.884371720258,1306.4481620026104,1545.4494362482394,836.5016497293963,739.5291001711827,254.36682173585174,269.27940879317225,435.48272066753606,252.71685737203734,591.8495078987562,271.8563039548678,248.26334808022173,174.35311869880556,0.0,130.4311695876377,1120.8922561959287,1420.9727653970008],[1568.3780794183526,1555.970465658009,1585.4449123195675,1586.7636623013525,1476.4160118340633,464.00762924762455,1356.3032256836962,1414.776848128354,1655.6599318700687,935.7962385049427,851.536258769995,375.28582440588013,357.0052240514142,470.2762698669789,213.86434953025923,673.1985219829303,402.18925893166636,213.86434953025923,269.27940879317225,130.4311695876377,0.0,1165.176604639829,1484.0466064109985],[1941.8014316608173,1209.4536163077937,1002.1391570036569,867.1144330479111,648.5106938208503,1276.2122080594586,425.1125968493521,806.6290163389854,988.6907757231273,576.573395154511,729.4670109059074,1192.735465222696,1312.0929730777464,1528.8482887454857,973.7689664391652,581.6300972267514,1087.4252158194606,1363.2765530148313,955.2633563578157,1120.8922561959287,1165.176604639829,0.0,370.8001752966151],[2295.931159682276,1488.081516584357,1236.2512689578928,1069.973574440042,848.4191711648201,1638.728717634496,259.253717427541,668.0,771.0988782250954,697.6123923784603,864.0535457944723,1445.1049512059667,1575.4748490534528,1798.6450455829242,1308.261415008484,837.0016009542627,1334.0154009605735,1668.7470299599036,1248.03872135443,1420.9727653970008,1484.0466064109985,370.8001752966151,0.0]]},\"selected\":{\"id\":\"1075\"},\"selection_policy\":{\"id\":\"1074\"}},\"id\":\"1043\",\"type\":\"ColumnDataSource\"},{\"attributes\":{},\"id\":\"1009\",\"type\":\"LinearScale\"},{\"attributes\":{\"fill_color\":{\"value\":\"steelblue\"},\"line_color\":{\"value\":\"steelblue\"},\"size\":{\"units\":\"screen\",\"value\":10},\"x\":{\"field\":\"x\"},\"y\":{\"field\":\"y\"}},\"id\":\"1051\",\"type\":\"Circle\"},{\"attributes\":{},\"id\":\"1024\",\"type\":\"SaveTool\"},{\"attributes\":{},\"id\":\"1011\",\"type\":\"LinearScale\"},{\"attributes\":{\"callback\":{\"id\":\"1055\"},\"renderers\":[{\"id\":\"1053\"}],\"tooltips\":null},\"id\":\"1056\",\"type\":\"HoverTool\"},{\"attributes\":{},\"id\":\"1025\",\"type\":\"ResetTool\"},{\"attributes\":{\"args\":{\"cost\":{\"id\":\"1041\"},\"done\":{\"id\":\"1042\"},\"pts\":{\"id\":\"1050\"},\"source\":{\"id\":\"1043\"},\"tour\":{\"id\":\"1044\"}},\"code\":\"\\n    var node = source.data['last_index']\\n    \\n    if (node.toString() != -1) {\\n        if (!(tour.data['indices'].includes(node))) {\\n            if (tour.data['indices'].length > 0) { \\n                var prev = tour.data['indices'][tour.data['indices'].length - 1]\\n            } else {\\n                var prev = -1\\n            }\\n\\n            var tmp_edges_x = tour.data['edges_x']\\n            var tmp_edges_y = tour.data['edges_y']\\n            var tmp_indices = tour.data['indices']\\n\\n            tmp_edges_x.push(pts.data['x'][node])\\n            tmp_edges_y.push(pts.data['y'][node])\\n            tmp_indices.push(node)\\n\\n            tour.data['edges_x'] = tmp_edges_x\\n            tour.data['edges_y'] = tmp_edges_y\\n            tour.data['indices'] = tmp_indices\\n\\n            if (prev == -1) {\\n                cost.text = '0.0'\\n            } else {\\n                var before = parseFloat(cost.text)\\n                var increase = source.data['G'][prev][node]\\n                cost.text = (before + increase).toFixed(1)   \\n            }\\n            \\n            if (tour.data['indices'].length == source.data['G'].length) {\\n                var tmp_edges_x = tour.data['edges_x']\\n                var tmp_edges_y = tour.data['edges_y']\\n                var tmp_indices = tour.data['indices']\\n\\n                tmp_edges_x.push(tmp_edges_x[0])\\n                tmp_edges_y.push(tmp_edges_y[0])\\n                tmp_indices.push(tmp_indices[0])\\n\\n                tour.data['edges_x'] = tmp_edges_x\\n                tour.data['edges_y'] = tmp_edges_y\\n                tour.data['indices'] = tmp_indices\\n\\n                var before = parseFloat(cost.text)\\n                var increase = source.data['G'][node][tmp_indices[0]]\\n                cost.text = (before + increase).toFixed(1) \\n            }    \\n        }\\n    }\\n    done.text = '['.concat(tour.data['indices'].join(',')).concat(']')\\n    tour.change.emit()\\n    \"},\"id\":\"1057\",\"type\":\"CustomJS\"},{\"attributes\":{},\"id\":\"1026\",\"type\":\"HelpTool\"},{\"attributes\":{\"axis\":{\"id\":\"1013\"},\"grid_line_color\":null,\"ticker\":null},\"id\":\"1016\",\"type\":\"Grid\"},{\"attributes\":{\"callback\":{\"id\":\"1057\"},\"renderers\":[{\"id\":\"1053\"}]},\"id\":\"1058\",\"type\":\"TapTool\"},{\"attributes\":{\"formatter\":{\"id\":\"1065\"},\"ticker\":{\"id\":\"1018\"},\"visible\":false},\"id\":\"1017\",\"type\":\"LinearAxis\"},{\"attributes\":{\"children\":[{\"id\":\"1041\"},{\"id\":\"1042\"}]},\"id\":\"1061\",\"type\":\"Row\"},{\"attributes\":{\"align\":\"center\",\"text\":\"0.0\",\"width\":300},\"id\":\"1041\",\"type\":\"Div\"},{\"attributes\":{\"axis\":{\"id\":\"1017\"},\"dimension\":1,\"grid_line_color\":null,\"ticker\":null},\"id\":\"1020\",\"type\":\"Grid\"},{\"attributes\":{\"end\":2772.701,\"start\":467.09900000000005},\"id\":\"1005\",\"type\":\"Range1d\"},{\"attributes\":{\"data_source\":{\"id\":\"1036\"},\"glyph\":{\"id\":\"1037\"},\"hover_glyph\":null,\"muted_glyph\":null,\"nonselection_glyph\":{\"id\":\"1038\"},\"selection_glyph\":null,\"view\":{\"id\":\"1040\"}},\"id\":\"1039\",\"type\":\"GlyphRenderer\"},{\"attributes\":{},\"id\":\"1063\",\"type\":\"BasicTickFormatter\"},{\"attributes\":{},\"id\":\"1018\",\"type\":\"BasicTicker\"},{\"attributes\":{\"source\":{\"id\":\"1036\"}},\"id\":\"1040\",\"type\":\"CDSView\"},{\"attributes\":{},\"id\":\"1065\",\"type\":\"BasicTickFormatter\"},{\"attributes\":{\"align\":\"center\",\"width\":300},\"id\":\"1042\",\"type\":\"Div\"},{\"attributes\":{\"bottom_units\":\"screen\",\"fill_alpha\":0.5,\"fill_color\":\"lightgrey\",\"left_units\":\"screen\",\"level\":\"overlay\",\"line_alpha\":1.0,\"line_color\":\"black\",\"line_dash\":[4,4],\"line_width\":2,\"right_units\":\"screen\",\"top_units\":\"screen\"},\"id\":\"1027\",\"type\":\"BoxAnnotation\"},{\"attributes\":{},\"id\":\"1067\",\"type\":\"UnionRenderers\"},{\"attributes\":{\"active_drag\":\"auto\",\"active_inspect\":\"auto\",\"active_multi\":null,\"active_scroll\":\"auto\",\"active_tap\":\"auto\",\"logo\":null,\"tools\":[{\"id\":\"1021\"},{\"id\":\"1022\"},{\"id\":\"1023\"},{\"id\":\"1024\"},{\"id\":\"1025\"},{\"id\":\"1026\"},{\"id\":\"1056\"},{\"id\":\"1058\"}]},\"id\":\"1028\",\"type\":\"Toolbar\"},{\"attributes\":{},\"id\":\"1068\",\"type\":\"Selection\"}],\"root_ids\":[\"1077\"]},\"title\":\"Bokeh Application\",\"version\":\"2.2.3\"}};\n",
       "  var render_items = [{\"docid\":\"ba530d31-dc74-44d3-8af6-196a84bf04bf\",\"root_ids\":[\"1077\"],\"roots\":{\"1077\":\"b61f0d9f-6dba-4cf9-af19-8e747f61e802\"}}];\n",
       "  root.Bokeh.embed.embed_items_notebook(docs_json, render_items);\n",
       "\n",
       "  }\n",
       "  if (root.Bokeh !== undefined) {\n",
       "    embed_document(root);\n",
       "  } else {\n",
       "    var attempts = 0;\n",
       "    var timer = setInterval(function(root) {\n",
       "      if (root.Bokeh !== undefined) {\n",
       "        clearInterval(timer);\n",
       "        embed_document(root);\n",
       "      } else {\n",
       "        attempts++;\n",
       "        if (attempts > 100) {\n",
       "          clearInterval(timer);\n",
       "          console.log(\"Bokeh: ERROR: Unable to run BokehJS code because BokehJS library is missing\");\n",
       "        }\n",
       "      }\n",
       "    }, 10, root)\n",
       "  }\n",
       "})(window);"
      ],
      "application/vnd.bokehjs_exec.v0+json": ""
     },
     "metadata": {
      "application/vnd.bokehjs_exec.v0+json": {
       "id": "1077"
      }
     },
     "output_type": "display_data"
    }
   ],
   "source": [
    "# Reminder: Click this cell and press either CTRL+Enter or Shift+Enter to run the cell\n",
    "plot_create_tour(nodes, G, width=600, height=375, show_us=True)"
   ]
  },
  {
   "cell_type": "markdown",
   "metadata": {},
   "source": [
    "**Q1:** What was the smallest tour cost you found?\n",
    "\n",
    "**A:** <font color='blue'> No less than 8356.8</font>"
   ]
  },
  {
   "cell_type": "markdown",
   "metadata": {},
   "source": [
    "## Part II: TSP Heuristics"
   ]
  },
  {
   "cell_type": "markdown",
   "metadata": {},
   "source": [
    "In this part of the lab, we will consider 4 different TSP heuristics. A heuristic aims to find a good feasible solution to a problem although it is not guaranteed to be optimal. Before we move on, we will abstract the TSP to finding an optimal tour on a set of *nodes* rather than cities. These nodes could represent anything. \n",
    "\n",
    "- **Random Neighbor:** Start at some node. Randomly select one of the nodes which has not been visited to visit next. Continue doing so until all nodes have been visited. Return to the start.\n",
    "- **Nearest Neighbor:** Start at some node. Visit the closest unvisited node next (if there are multiple closest nodes, choose one randomly). Continue doing so until all nodes have been visited. Return to the start.\n",
    "- **Nearest Insertion:** Start with a “tour” on two of the nodes (e.g., the closest pair of nodes). Find the closest unvisited node to any node currently in tour. Insert the node into the tour at the best place (if there are multiple closest nodes, choose one to add randomly).\n",
    "- **Furthest Insertion:** Start with a “tour” on two of the nodes (e.g., the closest pair of nodes). Find the node whose smallest distance to a node already in the tour is maximized. Insert the node into the tour at the best place (if there are multiple furthest nodes, choose one to add randomly)."
   ]
  },
  {
   "cell_type": "markdown",
   "metadata": {},
   "source": [
    "**Q2:** Which heuristic to you expect to perform the best? Which do you expect to perform the worst?\n",
    "\n",
    "**A:** <font color='blue'> Will vary. Maybe random neighbor worst and nearest insertion best.</font>"
   ]
  },
  {
   "cell_type": "markdown",
   "metadata": {},
   "source": [
    "To compare the heuristics, we will use a simple 6x8 grid of nodes. The cell below creates this instance. Note that we will initally use the manhattan distance."
   ]
  },
  {
   "cell_type": "code",
   "execution_count": 8,
   "metadata": {},
   "outputs": [],
   "source": [
    "# nodes is the list of nodes and their position and G is the distance matrix\n",
    "nodes, G = tsp_grid_instance(6,8,manhattan=True)"
   ]
  },
  {
   "cell_type": "markdown",
   "metadata": {},
   "source": [
    "Let's use random neighbor (a terrible heuristic) to get a baseline for the length of a tour. We will use a function called `plot_tsp_heuristic` to see the mechanics of the algorithm. Run the cell and use the `Previous` and `Next` buttons to move through the iterations of the algorithm. The tour cost will update in the bottom-left. `done.` will appear in the bottom-right when the heuristic has finished.  "
   ]
  },
  {
   "cell_type": "code",
   "execution_count": 9,
   "metadata": {},
   "outputs": [
    {
     "data": {
      "text/html": [
       "\n",
       "\n",
       "\n",
       "\n",
       "\n",
       "\n",
       "  <div class=\"bk-root\" id=\"9674b72e-c785-4939-b9e1-96cd6e34735e\" data-root-id=\"1232\"></div>\n"
      ]
     },
     "metadata": {},
     "output_type": "display_data"
    },
    {
     "data": {
      "application/javascript": [
       "(function(root) {\n",
       "  function embed_document(root) {\n",
       "    \n",
       "  var docs_json = {\"05e5d41e-35f2-4d9a-a77c-2769f91e6170\":{\"roots\":{\"references\":[{\"attributes\":{\"children\":[[{\"id\":\"1162\"},0,0],[{\"id\":\"1215\"},1,0],[{\"id\":\"1216\"},2,0]]},\"id\":\"1232\",\"type\":\"GridBox\"},{\"attributes\":{},\"id\":\"1181\",\"type\":\"PanTool\"},{\"attributes\":{},\"id\":\"1174\",\"type\":\"BasicTicker\"},{\"attributes\":{\"formatter\":{\"id\":\"1218\"},\"ticker\":{\"id\":\"1174\"},\"visible\":false},\"id\":\"1173\",\"type\":\"LinearAxis\"},{\"attributes\":{},\"id\":\"1185\",\"type\":\"ResetTool\"},{\"attributes\":{},\"id\":\"1171\",\"type\":\"LinearScale\"},{\"attributes\":{\"formatter\":{\"id\":\"1220\"},\"ticker\":{\"id\":\"1178\"},\"visible\":false},\"id\":\"1177\",\"type\":\"LinearAxis\"},{\"attributes\":{\"button_type\":\"success\",\"icon\":null,\"js_event_callbacks\":{\"button_click\":[{\"id\":\"1212\"}]},\"label\":\"Next\",\"sizing_mode\":\"scale_width\",\"width_policy\":\"fit\"},\"id\":\"1211\",\"type\":\"Button\"},{\"attributes\":{},\"id\":\"1186\",\"type\":\"HelpTool\"},{\"attributes\":{\"fill_alpha\":{\"value\":0.1},\"fill_color\":{\"value\":\"steelblue\"},\"line_alpha\":{\"value\":0.1},\"line_color\":{\"value\":\"steelblue\"},\"size\":{\"units\":\"screen\",\"value\":8},\"x\":{\"field\":\"x\"},\"y\":{\"field\":\"y\"}},\"id\":\"1208\",\"type\":\"Circle\"},{\"attributes\":{\"source\":{\"id\":\"1206\"}},\"id\":\"1210\",\"type\":\"CDSView\"},{\"attributes\":{\"active_drag\":\"auto\",\"active_inspect\":\"auto\",\"active_multi\":null,\"active_scroll\":\"auto\",\"active_tap\":\"auto\",\"logo\":null,\"tools\":[{\"id\":\"1181\"},{\"id\":\"1182\"},{\"id\":\"1183\"},{\"id\":\"1184\"},{\"id\":\"1185\"},{\"id\":\"1186\"}]},\"id\":\"1188\",\"type\":\"Toolbar\"},{\"attributes\":{\"text\":\"\"},\"id\":\"1163\",\"type\":\"Title\"},{\"attributes\":{\"fill_color\":{\"value\":\"steelblue\"},\"line_color\":{\"value\":\"steelblue\"},\"size\":{\"units\":\"screen\",\"value\":8},\"x\":{\"field\":\"x\"},\"y\":{\"field\":\"y\"}},\"id\":\"1207\",\"type\":\"Circle\"},{\"attributes\":{},\"id\":\"1169\",\"type\":\"LinearScale\"},{\"attributes\":{\"args\":{\"cost\":{\"id\":\"1196\"},\"done\":{\"id\":\"1197\"},\"n\":{\"id\":\"1198\"},\"source\":{\"id\":\"1199\"},\"tour\":{\"id\":\"1200\"}},\"code\":\"\\nif ((parseInt(n.text) + 1) < source.data['edges_y'].length) {\\n    n.text = (parseInt(n.text) + 1).toString()\\n}\\nvar iteration = parseInt(n.text)\\n\\nif (iteration == source.data['edges_y'].length - 2) {\\n    iteration = iteration + 1\\n}\\n\\n    cost.text = source.data['costs'][iteration].toFixed(1)\\n    \\n    if (iteration == source.data['edges_y'].length - 1) {\\n        done.text = \\\"done.\\\"\\n    } else {\\n        done.text = \\\"\\\"\\n    }\\n\\n    tour.data['edges_x'] = source.data['edges_x'][iteration]\\n    tour.data['edges_y'] = source.data['edges_y'][iteration]\\n    tour.change.emit()\\n    \"},\"id\":\"1212\",\"type\":\"CustomJS\"},{\"attributes\":{\"button_type\":\"success\",\"icon\":null,\"js_event_callbacks\":{\"button_click\":[{\"id\":\"1214\"}]},\"label\":\"Previous\",\"sizing_mode\":\"scale_width\",\"width_policy\":\"fit\"},\"id\":\"1213\",\"type\":\"Button\"},{\"attributes\":{\"args\":{\"cost\":{\"id\":\"1196\"},\"done\":{\"id\":\"1197\"},\"n\":{\"id\":\"1198\"},\"source\":{\"id\":\"1199\"},\"tour\":{\"id\":\"1200\"}},\"code\":\"\\nif ((parseInt(n.text) - 1) >= 0) {\\n    n.text = (parseInt(n.text) - 1).toString()\\n}\\nvar iteration = parseInt(n.text)\\n\\nif (iteration == source.data['edges_y'].length - 2) {\\n    iteration = iteration - 1\\n}\\n\\n    cost.text = source.data['costs'][iteration].toFixed(1)\\n    \\n    if (iteration == source.data['edges_y'].length - 1) {\\n        done.text = \\\"done.\\\"\\n    } else {\\n        done.text = \\\"\\\"\\n    }\\n\\n    tour.data['edges_x'] = source.data['edges_x'][iteration]\\n    tour.data['edges_y'] = source.data['edges_y'][iteration]\\n    tour.change.emit()\\n    \"},\"id\":\"1214\",\"type\":\"CustomJS\"},{\"attributes\":{\"children\":[{\"id\":\"1213\"},{\"id\":\"1211\"}],\"max_width\":400,\"sizing_mode\":\"stretch_both\"},\"id\":\"1215\",\"type\":\"Row\"},{\"attributes\":{},\"id\":\"1184\",\"type\":\"SaveTool\"},{\"attributes\":{\"bottom_units\":\"screen\",\"fill_alpha\":0.5,\"fill_color\":\"lightgrey\",\"left_units\":\"screen\",\"level\":\"overlay\",\"line_alpha\":1.0,\"line_color\":\"black\",\"line_dash\":[4,4],\"line_width\":2,\"right_units\":\"screen\",\"top_units\":\"screen\"},\"id\":\"1187\",\"type\":\"BoxAnnotation\"},{\"attributes\":{\"children\":[{\"id\":\"1196\"},{\"id\":\"1197\"}]},\"id\":\"1216\",\"type\":\"Row\"},{\"attributes\":{\"align\":\"center\",\"text\":\"0\",\"width\":400},\"id\":\"1198\",\"type\":\"Div\"},{\"attributes\":{\"data\":{\"costs\":[0,5.0,7.0,11.0,13.0,16.0,19.0,23.0,27.0,33.0,34.0,37.0,41.0,46.0,50.0,54.0,64.0,70.0,73.0,75.0,81.0,88.0,94.0,96.0,100.0,105.0,108.0,111.0,112.0,114.0,120.0,124.0,128.0,130.0,136.0,138.0,141.0,144.0,148.0,151.0,159.0,161.0,166.0,171.0,177.0,183.0,193.0,197.0,202.0],\"edges_x\":[[0.0],[0.0,4.0],[0.0,4.0,2.0],[0.0,4.0,2.0,1.0],[0.0,4.0,2.0,1.0,2.0],[0.0,4.0,2.0,1.0,2.0,3.0],[0.0,4.0,2.0,1.0,2.0,3.0,4.0],[0.0,4.0,2.0,1.0,2.0,3.0,4.0,2.0],[0.0,4.0,2.0,1.0,2.0,3.0,4.0,2.0,0.0],[0.0,4.0,2.0,1.0,2.0,3.0,4.0,2.0,0.0,4.0],[0.0,4.0,2.0,1.0,2.0,3.0,4.0,2.0,0.0,4.0,4.0],[0.0,4.0,2.0,1.0,2.0,3.0,4.0,2.0,0.0,4.0,4.0,1.0],[0.0,4.0,2.0,1.0,2.0,3.0,4.0,2.0,0.0,4.0,4.0,1.0,3.0],[0.0,4.0,2.0,1.0,2.0,3.0,4.0,2.0,0.0,4.0,4.0,1.0,3.0,2.0],[0.0,4.0,2.0,1.0,2.0,3.0,4.0,2.0,0.0,4.0,4.0,1.0,3.0,2.0,0.0],[0.0,4.0,2.0,1.0,2.0,3.0,4.0,2.0,0.0,4.0,4.0,1.0,3.0,2.0,0.0,0.0],[0.0,4.0,2.0,1.0,2.0,3.0,4.0,2.0,0.0,4.0,4.0,1.0,3.0,2.0,0.0,0.0,5.0],[0.0,4.0,2.0,1.0,2.0,3.0,4.0,2.0,0.0,4.0,4.0,1.0,3.0,2.0,0.0,0.0,5.0,2.0],[0.0,4.0,2.0,1.0,2.0,3.0,4.0,2.0,0.0,4.0,4.0,1.0,3.0,2.0,0.0,0.0,5.0,2.0,2.0],[0.0,4.0,2.0,1.0,2.0,3.0,4.0,2.0,0.0,4.0,4.0,1.0,3.0,2.0,0.0,0.0,5.0,2.0,2.0,1.0],[0.0,4.0,2.0,1.0,2.0,3.0,4.0,2.0,0.0,4.0,4.0,1.0,3.0,2.0,0.0,0.0,5.0,2.0,2.0,1.0,0.0],[0.0,4.0,2.0,1.0,2.0,3.0,4.0,2.0,0.0,4.0,4.0,1.0,3.0,2.0,0.0,0.0,5.0,2.0,2.0,1.0,0.0,1.0],[0.0,4.0,2.0,1.0,2.0,3.0,4.0,2.0,0.0,4.0,4.0,1.0,3.0,2.0,0.0,0.0,5.0,2.0,2.0,1.0,0.0,1.0,1.0],[0.0,4.0,2.0,1.0,2.0,3.0,4.0,2.0,0.0,4.0,4.0,1.0,3.0,2.0,0.0,0.0,5.0,2.0,2.0,1.0,0.0,1.0,1.0,2.0],[0.0,4.0,2.0,1.0,2.0,3.0,4.0,2.0,0.0,4.0,4.0,1.0,3.0,2.0,0.0,0.0,5.0,2.0,2.0,1.0,0.0,1.0,1.0,2.0,4.0],[0.0,4.0,2.0,1.0,2.0,3.0,4.0,2.0,0.0,4.0,4.0,1.0,3.0,2.0,0.0,0.0,5.0,2.0,2.0,1.0,0.0,1.0,1.0,2.0,4.0,5.0],[0.0,4.0,2.0,1.0,2.0,3.0,4.0,2.0,0.0,4.0,4.0,1.0,3.0,2.0,0.0,0.0,5.0,2.0,2.0,1.0,0.0,1.0,1.0,2.0,4.0,5.0,3.0],[0.0,4.0,2.0,1.0,2.0,3.0,4.0,2.0,0.0,4.0,4.0,1.0,3.0,2.0,0.0,0.0,5.0,2.0,2.0,1.0,0.0,1.0,1.0,2.0,4.0,5.0,3.0,5.0],[0.0,4.0,2.0,1.0,2.0,3.0,4.0,2.0,0.0,4.0,4.0,1.0,3.0,2.0,0.0,0.0,5.0,2.0,2.0,1.0,0.0,1.0,1.0,2.0,4.0,5.0,3.0,5.0,4.0],[0.0,4.0,2.0,1.0,2.0,3.0,4.0,2.0,0.0,4.0,4.0,1.0,3.0,2.0,0.0,0.0,5.0,2.0,2.0,1.0,0.0,1.0,1.0,2.0,4.0,5.0,3.0,5.0,4.0,2.0],[0.0,4.0,2.0,1.0,2.0,3.0,4.0,2.0,0.0,4.0,4.0,1.0,3.0,2.0,0.0,0.0,5.0,2.0,2.0,1.0,0.0,1.0,1.0,2.0,4.0,5.0,3.0,5.0,4.0,2.0,3.0],[0.0,4.0,2.0,1.0,2.0,3.0,4.0,2.0,0.0,4.0,4.0,1.0,3.0,2.0,0.0,0.0,5.0,2.0,2.0,1.0,0.0,1.0,1.0,2.0,4.0,5.0,3.0,5.0,4.0,2.0,3.0,4.0],[0.0,4.0,2.0,1.0,2.0,3.0,4.0,2.0,0.0,4.0,4.0,1.0,3.0,2.0,0.0,0.0,5.0,2.0,2.0,1.0,0.0,1.0,1.0,2.0,4.0,5.0,3.0,5.0,4.0,2.0,3.0,4.0,1.0],[0.0,4.0,2.0,1.0,2.0,3.0,4.0,2.0,0.0,4.0,4.0,1.0,3.0,2.0,0.0,0.0,5.0,2.0,2.0,1.0,0.0,1.0,1.0,2.0,4.0,5.0,3.0,5.0,4.0,2.0,3.0,4.0,1.0,1.0],[0.0,4.0,2.0,1.0,2.0,3.0,4.0,2.0,0.0,4.0,4.0,1.0,3.0,2.0,0.0,0.0,5.0,2.0,2.0,1.0,0.0,1.0,1.0,2.0,4.0,5.0,3.0,5.0,4.0,2.0,3.0,4.0,1.0,1.0,5.0],[0.0,4.0,2.0,1.0,2.0,3.0,4.0,2.0,0.0,4.0,4.0,1.0,3.0,2.0,0.0,0.0,5.0,2.0,2.0,1.0,0.0,1.0,1.0,2.0,4.0,5.0,3.0,5.0,4.0,2.0,3.0,4.0,1.0,1.0,5.0,5.0],[0.0,4.0,2.0,1.0,2.0,3.0,4.0,2.0,0.0,4.0,4.0,1.0,3.0,2.0,0.0,0.0,5.0,2.0,2.0,1.0,0.0,1.0,1.0,2.0,4.0,5.0,3.0,5.0,4.0,2.0,3.0,4.0,1.0,1.0,5.0,5.0,3.0],[0.0,4.0,2.0,1.0,2.0,3.0,4.0,2.0,0.0,4.0,4.0,1.0,3.0,2.0,0.0,0.0,5.0,2.0,2.0,1.0,0.0,1.0,1.0,2.0,4.0,5.0,3.0,5.0,4.0,2.0,3.0,4.0,1.0,1.0,5.0,5.0,3.0,3.0],[0.0,4.0,2.0,1.0,2.0,3.0,4.0,2.0,0.0,4.0,4.0,1.0,3.0,2.0,0.0,0.0,5.0,2.0,2.0,1.0,0.0,1.0,1.0,2.0,4.0,5.0,3.0,5.0,4.0,2.0,3.0,4.0,1.0,1.0,5.0,5.0,3.0,3.0,0.0],[0.0,4.0,2.0,1.0,2.0,3.0,4.0,2.0,0.0,4.0,4.0,1.0,3.0,2.0,0.0,0.0,5.0,2.0,2.0,1.0,0.0,1.0,1.0,2.0,4.0,5.0,3.0,5.0,4.0,2.0,3.0,4.0,1.0,1.0,5.0,5.0,3.0,3.0,0.0,0.0],[0.0,4.0,2.0,1.0,2.0,3.0,4.0,2.0,0.0,4.0,4.0,1.0,3.0,2.0,0.0,0.0,5.0,2.0,2.0,1.0,0.0,1.0,1.0,2.0,4.0,5.0,3.0,5.0,4.0,2.0,3.0,4.0,1.0,1.0,5.0,5.0,3.0,3.0,0.0,0.0,3.0],[0.0,4.0,2.0,1.0,2.0,3.0,4.0,2.0,0.0,4.0,4.0,1.0,3.0,2.0,0.0,0.0,5.0,2.0,2.0,1.0,0.0,1.0,1.0,2.0,4.0,5.0,3.0,5.0,4.0,2.0,3.0,4.0,1.0,1.0,5.0,5.0,3.0,3.0,0.0,0.0,3.0,3.0],[0.0,4.0,2.0,1.0,2.0,3.0,4.0,2.0,0.0,4.0,4.0,1.0,3.0,2.0,0.0,0.0,5.0,2.0,2.0,1.0,0.0,1.0,1.0,2.0,4.0,5.0,3.0,5.0,4.0,2.0,3.0,4.0,1.0,1.0,5.0,5.0,3.0,3.0,0.0,0.0,3.0,3.0,5.0],[0.0,4.0,2.0,1.0,2.0,3.0,4.0,2.0,0.0,4.0,4.0,1.0,3.0,2.0,0.0,0.0,5.0,2.0,2.0,1.0,0.0,1.0,1.0,2.0,4.0,5.0,3.0,5.0,4.0,2.0,3.0,4.0,1.0,1.0,5.0,5.0,3.0,3.0,0.0,0.0,3.0,3.0,5.0,0.0],[0.0,4.0,2.0,1.0,2.0,3.0,4.0,2.0,0.0,4.0,4.0,1.0,3.0,2.0,0.0,0.0,5.0,2.0,2.0,1.0,0.0,1.0,1.0,2.0,4.0,5.0,3.0,5.0,4.0,2.0,3.0,4.0,1.0,1.0,5.0,5.0,3.0,3.0,0.0,0.0,3.0,3.0,5.0,0.0,5.0],[0.0,4.0,2.0,1.0,2.0,3.0,4.0,2.0,0.0,4.0,4.0,1.0,3.0,2.0,0.0,0.0,5.0,2.0,2.0,1.0,0.0,1.0,1.0,2.0,4.0,5.0,3.0,5.0,4.0,2.0,3.0,4.0,1.0,1.0,5.0,5.0,3.0,3.0,0.0,0.0,3.0,3.0,5.0,0.0,5.0,4.0],[0.0,4.0,2.0,1.0,2.0,3.0,4.0,2.0,0.0,4.0,4.0,1.0,3.0,2.0,0.0,0.0,5.0,2.0,2.0,1.0,0.0,1.0,1.0,2.0,4.0,5.0,3.0,5.0,4.0,2.0,3.0,4.0,1.0,1.0,5.0,5.0,3.0,3.0,0.0,0.0,3.0,3.0,5.0,0.0,5.0,4.0,1.0],[0.0,4.0,2.0,1.0,2.0,3.0,4.0,2.0,0.0,4.0,4.0,1.0,3.0,2.0,0.0,0.0,5.0,2.0,2.0,1.0,0.0,1.0,1.0,2.0,4.0,5.0,3.0,5.0,4.0,2.0,3.0,4.0,1.0,1.0,5.0,5.0,3.0,3.0,0.0,0.0,3.0,3.0,5.0,0.0,5.0,4.0,1.0,5.0],[0.0,4.0,2.0,1.0,2.0,3.0,4.0,2.0,0.0,4.0,4.0,1.0,3.0,2.0,0.0,0.0,5.0,2.0,2.0,1.0,0.0,1.0,1.0,2.0,4.0,5.0,3.0,5.0,4.0,2.0,3.0,4.0,1.0,1.0,5.0,5.0,3.0,3.0,0.0,0.0,3.0,3.0,5.0,0.0,5.0,4.0,1.0,5.0,0.0]],\"edges_y\":[[0.0],[0.0,1.0],[0.0,1.0,1.0],[0.0,1.0,1.0,4.0],[0.0,1.0,1.0,4.0,5.0],[0.0,1.0,1.0,4.0,5.0,7.0],[0.0,1.0,1.0,4.0,5.0,7.0,5.0],[0.0,1.0,1.0,4.0,5.0,7.0,5.0,3.0],[0.0,1.0,1.0,4.0,5.0,7.0,5.0,3.0,5.0],[0.0,1.0,1.0,4.0,5.0,7.0,5.0,3.0,5.0,3.0],[0.0,1.0,1.0,4.0,5.0,7.0,5.0,3.0,5.0,3.0,2.0],[0.0,1.0,1.0,4.0,5.0,7.0,5.0,3.0,5.0,3.0,2.0,2.0],[0.0,1.0,1.0,4.0,5.0,7.0,5.0,3.0,5.0,3.0,2.0,2.0,4.0],[0.0,1.0,1.0,4.0,5.0,7.0,5.0,3.0,5.0,3.0,2.0,2.0,4.0,0.0],[0.0,1.0,1.0,4.0,5.0,7.0,5.0,3.0,5.0,3.0,2.0,2.0,4.0,0.0,2.0],[0.0,1.0,1.0,4.0,5.0,7.0,5.0,3.0,5.0,3.0,2.0,2.0,4.0,0.0,2.0,6.0],[0.0,1.0,1.0,4.0,5.0,7.0,5.0,3.0,5.0,3.0,2.0,2.0,4.0,0.0,2.0,6.0,1.0],[0.0,1.0,1.0,4.0,5.0,7.0,5.0,3.0,5.0,3.0,2.0,2.0,4.0,0.0,2.0,6.0,1.0,4.0],[0.0,1.0,1.0,4.0,5.0,7.0,5.0,3.0,5.0,3.0,2.0,2.0,4.0,0.0,2.0,6.0,1.0,4.0,7.0],[0.0,1.0,1.0,4.0,5.0,7.0,5.0,3.0,5.0,3.0,2.0,2.0,4.0,0.0,2.0,6.0,1.0,4.0,7.0,6.0],[0.0,1.0,1.0,4.0,5.0,7.0,5.0,3.0,5.0,3.0,2.0,2.0,4.0,0.0,2.0,6.0,1.0,4.0,7.0,6.0,1.0],[0.0,1.0,1.0,4.0,5.0,7.0,5.0,3.0,5.0,3.0,2.0,2.0,4.0,0.0,2.0,6.0,1.0,4.0,7.0,6.0,1.0,7.0],[0.0,1.0,1.0,4.0,5.0,7.0,5.0,3.0,5.0,3.0,2.0,2.0,4.0,0.0,2.0,6.0,1.0,4.0,7.0,6.0,1.0,7.0,1.0],[0.0,1.0,1.0,4.0,5.0,7.0,5.0,3.0,5.0,3.0,2.0,2.0,4.0,0.0,2.0,6.0,1.0,4.0,7.0,6.0,1.0,7.0,1.0,2.0],[0.0,1.0,1.0,4.0,5.0,7.0,5.0,3.0,5.0,3.0,2.0,2.0,4.0,0.0,2.0,6.0,1.0,4.0,7.0,6.0,1.0,7.0,1.0,2.0,0.0],[0.0,1.0,1.0,4.0,5.0,7.0,5.0,3.0,5.0,3.0,2.0,2.0,4.0,0.0,2.0,6.0,1.0,4.0,7.0,6.0,1.0,7.0,1.0,2.0,0.0,4.0],[0.0,1.0,1.0,4.0,5.0,7.0,5.0,3.0,5.0,3.0,2.0,2.0,4.0,0.0,2.0,6.0,1.0,4.0,7.0,6.0,1.0,7.0,1.0,2.0,0.0,4.0,5.0],[0.0,1.0,1.0,4.0,5.0,7.0,5.0,3.0,5.0,3.0,2.0,2.0,4.0,0.0,2.0,6.0,1.0,4.0,7.0,6.0,1.0,7.0,1.0,2.0,0.0,4.0,5.0,6.0],[0.0,1.0,1.0,4.0,5.0,7.0,5.0,3.0,5.0,3.0,2.0,2.0,4.0,0.0,2.0,6.0,1.0,4.0,7.0,6.0,1.0,7.0,1.0,2.0,0.0,4.0,5.0,6.0,6.0],[0.0,1.0,1.0,4.0,5.0,7.0,5.0,3.0,5.0,3.0,2.0,2.0,4.0,0.0,2.0,6.0,1.0,4.0,7.0,6.0,1.0,7.0,1.0,2.0,0.0,4.0,5.0,6.0,6.0,6.0],[0.0,1.0,1.0,4.0,5.0,7.0,5.0,3.0,5.0,3.0,2.0,2.0,4.0,0.0,2.0,6.0,1.0,4.0,7.0,6.0,1.0,7.0,1.0,2.0,0.0,4.0,5.0,6.0,6.0,6.0,1.0],[0.0,1.0,1.0,4.0,5.0,7.0,5.0,3.0,5.0,3.0,2.0,2.0,4.0,0.0,2.0,6.0,1.0,4.0,7.0,6.0,1.0,7.0,1.0,2.0,0.0,4.0,5.0,6.0,6.0,6.0,1.0,4.0],[0.0,1.0,1.0,4.0,5.0,7.0,5.0,3.0,5.0,3.0,2.0,2.0,4.0,0.0,2.0,6.0,1.0,4.0,7.0,6.0,1.0,7.0,1.0,2.0,0.0,4.0,5.0,6.0,6.0,6.0,1.0,4.0,3.0],[0.0,1.0,1.0,4.0,5.0,7.0,5.0,3.0,5.0,3.0,2.0,2.0,4.0,0.0,2.0,6.0,1.0,4.0,7.0,6.0,1.0,7.0,1.0,2.0,0.0,4.0,5.0,6.0,6.0,6.0,1.0,4.0,3.0,5.0],[0.0,1.0,1.0,4.0,5.0,7.0,5.0,3.0,5.0,3.0,2.0,2.0,4.0,0.0,2.0,6.0,1.0,4.0,7.0,6.0,1.0,7.0,1.0,2.0,0.0,4.0,5.0,6.0,6.0,6.0,1.0,4.0,3.0,5.0,7.0],[0.0,1.0,1.0,4.0,5.0,7.0,5.0,3.0,5.0,3.0,2.0,2.0,4.0,0.0,2.0,6.0,1.0,4.0,7.0,6.0,1.0,7.0,1.0,2.0,0.0,4.0,5.0,6.0,6.0,6.0,1.0,4.0,3.0,5.0,7.0,5.0],[0.0,1.0,1.0,4.0,5.0,7.0,5.0,3.0,5.0,3.0,2.0,2.0,4.0,0.0,2.0,6.0,1.0,4.0,7.0,6.0,1.0,7.0,1.0,2.0,0.0,4.0,5.0,6.0,6.0,6.0,1.0,4.0,3.0,5.0,7.0,5.0,6.0],[0.0,1.0,1.0,4.0,5.0,7.0,5.0,3.0,5.0,3.0,2.0,2.0,4.0,0.0,2.0,6.0,1.0,4.0,7.0,6.0,1.0,7.0,1.0,2.0,0.0,4.0,5.0,6.0,6.0,6.0,1.0,4.0,3.0,5.0,7.0,5.0,6.0,3.0],[0.0,1.0,1.0,4.0,5.0,7.0,5.0,3.0,5.0,3.0,2.0,2.0,4.0,0.0,2.0,6.0,1.0,4.0,7.0,6.0,1.0,7.0,1.0,2.0,0.0,4.0,5.0,6.0,6.0,6.0,1.0,4.0,3.0,5.0,7.0,5.0,6.0,3.0,4.0],[0.0,1.0,1.0,4.0,5.0,7.0,5.0,3.0,5.0,3.0,2.0,2.0,4.0,0.0,2.0,6.0,1.0,4.0,7.0,6.0,1.0,7.0,1.0,2.0,0.0,4.0,5.0,6.0,6.0,6.0,1.0,4.0,3.0,5.0,7.0,5.0,6.0,3.0,4.0,7.0],[0.0,1.0,1.0,4.0,5.0,7.0,5.0,3.0,5.0,3.0,2.0,2.0,4.0,0.0,2.0,6.0,1.0,4.0,7.0,6.0,1.0,7.0,1.0,2.0,0.0,4.0,5.0,6.0,6.0,6.0,1.0,4.0,3.0,5.0,7.0,5.0,6.0,3.0,4.0,7.0,2.0],[0.0,1.0,1.0,4.0,5.0,7.0,5.0,3.0,5.0,3.0,2.0,2.0,4.0,0.0,2.0,6.0,1.0,4.0,7.0,6.0,1.0,7.0,1.0,2.0,0.0,4.0,5.0,6.0,6.0,6.0,1.0,4.0,3.0,5.0,7.0,5.0,6.0,3.0,4.0,7.0,2.0,0.0],[0.0,1.0,1.0,4.0,5.0,7.0,5.0,3.0,5.0,3.0,2.0,2.0,4.0,0.0,2.0,6.0,1.0,4.0,7.0,6.0,1.0,7.0,1.0,2.0,0.0,4.0,5.0,6.0,6.0,6.0,1.0,4.0,3.0,5.0,7.0,5.0,6.0,3.0,4.0,7.0,2.0,0.0,3.0],[0.0,1.0,1.0,4.0,5.0,7.0,5.0,3.0,5.0,3.0,2.0,2.0,4.0,0.0,2.0,6.0,1.0,4.0,7.0,6.0,1.0,7.0,1.0,2.0,0.0,4.0,5.0,6.0,6.0,6.0,1.0,4.0,3.0,5.0,7.0,5.0,6.0,3.0,4.0,7.0,2.0,0.0,3.0,3.0],[0.0,1.0,1.0,4.0,5.0,7.0,5.0,3.0,5.0,3.0,2.0,2.0,4.0,0.0,2.0,6.0,1.0,4.0,7.0,6.0,1.0,7.0,1.0,2.0,0.0,4.0,5.0,6.0,6.0,6.0,1.0,4.0,3.0,5.0,7.0,5.0,6.0,3.0,4.0,7.0,2.0,0.0,3.0,3.0,2.0],[0.0,1.0,1.0,4.0,5.0,7.0,5.0,3.0,5.0,3.0,2.0,2.0,4.0,0.0,2.0,6.0,1.0,4.0,7.0,6.0,1.0,7.0,1.0,2.0,0.0,4.0,5.0,6.0,6.0,6.0,1.0,4.0,3.0,5.0,7.0,5.0,6.0,3.0,4.0,7.0,2.0,0.0,3.0,3.0,2.0,7.0],[0.0,1.0,1.0,4.0,5.0,7.0,5.0,3.0,5.0,3.0,2.0,2.0,4.0,0.0,2.0,6.0,1.0,4.0,7.0,6.0,1.0,7.0,1.0,2.0,0.0,4.0,5.0,6.0,6.0,6.0,1.0,4.0,3.0,5.0,7.0,5.0,6.0,3.0,4.0,7.0,2.0,0.0,3.0,3.0,2.0,7.0,0.0],[0.0,1.0,1.0,4.0,5.0,7.0,5.0,3.0,5.0,3.0,2.0,2.0,4.0,0.0,2.0,6.0,1.0,4.0,7.0,6.0,1.0,7.0,1.0,2.0,0.0,4.0,5.0,6.0,6.0,6.0,1.0,4.0,3.0,5.0,7.0,5.0,6.0,3.0,4.0,7.0,2.0,0.0,3.0,3.0,2.0,7.0,0.0,0.0],[0.0,1.0,1.0,4.0,5.0,7.0,5.0,3.0,5.0,3.0,2.0,2.0,4.0,0.0,2.0,6.0,1.0,4.0,7.0,6.0,1.0,7.0,1.0,2.0,0.0,4.0,5.0,6.0,6.0,6.0,1.0,4.0,3.0,5.0,7.0,5.0,6.0,3.0,4.0,7.0,2.0,0.0,3.0,3.0,2.0,7.0,0.0,0.0,0.0]]},\"selected\":{\"id\":\"1231\"},\"selection_policy\":{\"id\":\"1230\"}},\"id\":\"1199\",\"type\":\"ColumnDataSource\"},{\"attributes\":{\"end\":7.595,\"start\":-0.5950000000000001},\"id\":\"1167\",\"type\":\"Range1d\"},{\"attributes\":{\"align\":\"center\",\"text\":\"0\",\"width\":200},\"id\":\"1196\",\"type\":\"Div\"},{\"attributes\":{},\"id\":\"1218\",\"type\":\"BasicTickFormatter\"},{\"attributes\":{\"data\":{\"edges_x\":[0.0],\"edges_y\":[0.0]},\"selected\":{\"id\":\"1223\"},\"selection_policy\":{\"id\":\"1222\"}},\"id\":\"1200\",\"type\":\"ColumnDataSource\"},{\"attributes\":{},\"id\":\"1182\",\"type\":\"WheelZoomTool\"},{\"attributes\":{},\"id\":\"1220\",\"type\":\"BasicTickFormatter\"},{\"attributes\":{},\"id\":\"1231\",\"type\":\"Selection\"},{\"attributes\":{\"align\":\"center\",\"width\":200},\"id\":\"1197\",\"type\":\"Div\"},{\"attributes\":{},\"id\":\"1222\",\"type\":\"UnionRenderers\"},{\"attributes\":{\"overlay\":{\"id\":\"1187\"}},\"id\":\"1183\",\"type\":\"BoxZoomTool\"},{\"attributes\":{\"data_source\":{\"id\":\"1200\"},\"glyph\":{\"id\":\"1202\"},\"hover_glyph\":null,\"muted_glyph\":null,\"nonselection_glyph\":{\"id\":\"1203\"},\"selection_glyph\":null,\"view\":{\"id\":\"1205\"}},\"id\":\"1204\",\"type\":\"GlyphRenderer\"},{\"attributes\":{\"axis\":{\"id\":\"1177\"},\"dimension\":1,\"grid_line_color\":null,\"ticker\":null},\"id\":\"1180\",\"type\":\"Grid\"},{\"attributes\":{},\"id\":\"1223\",\"type\":\"Selection\"},{\"attributes\":{\"line_width\":4,\"x\":{\"field\":\"edges_x\"},\"y\":{\"field\":\"edges_y\"}},\"id\":\"1202\",\"type\":\"Line\"},{\"attributes\":{\"end\":5.425,\"start\":-0.42500000000000004},\"id\":\"1165\",\"type\":\"Range1d\"},{\"attributes\":{},\"id\":\"1224\",\"type\":\"UnionRenderers\"},{\"attributes\":{},\"id\":\"1225\",\"type\":\"Selection\"},{\"attributes\":{\"line_alpha\":0.1,\"line_width\":4,\"x\":{\"field\":\"edges_x\"},\"y\":{\"field\":\"edges_y\"}},\"id\":\"1203\",\"type\":\"Line\"},{\"attributes\":{\"source\":{\"id\":\"1200\"}},\"id\":\"1205\",\"type\":\"CDSView\"},{\"attributes\":{},\"id\":\"1230\",\"type\":\"UnionRenderers\"},{\"attributes\":{\"data\":{\"x\":[0.0,0.0,0.0,0.0,0.0,0.0,0.0,0.0,1.0,1.0,1.0,1.0,1.0,1.0,1.0,1.0,2.0,2.0,2.0,2.0,2.0,2.0,2.0,2.0,3.0,3.0,3.0,3.0,3.0,3.0,3.0,3.0,4.0,4.0,4.0,4.0,4.0,4.0,4.0,4.0,5.0,5.0,5.0,5.0,5.0,5.0,5.0,5.0],\"y\":[0.0,1.0,2.0,3.0,4.0,5.0,6.0,7.0,0.0,1.0,2.0,3.0,4.0,5.0,6.0,7.0,0.0,1.0,2.0,3.0,4.0,5.0,6.0,7.0,0.0,1.0,2.0,3.0,4.0,5.0,6.0,7.0,0.0,1.0,2.0,3.0,4.0,5.0,6.0,7.0,0.0,1.0,2.0,3.0,4.0,5.0,6.0,7.0]},\"selected\":{\"id\":\"1225\"},\"selection_policy\":{\"id\":\"1224\"}},\"id\":\"1206\",\"type\":\"ColumnDataSource\"},{\"attributes\":{\"axis\":{\"id\":\"1173\"},\"grid_line_color\":null,\"ticker\":null},\"id\":\"1176\",\"type\":\"Grid\"},{\"attributes\":{},\"id\":\"1178\",\"type\":\"BasicTicker\"},{\"attributes\":{\"background_fill_color\":null,\"below\":[{\"id\":\"1173\"}],\"border_fill_color\":null,\"center\":[{\"id\":\"1176\"},{\"id\":\"1180\"}],\"left\":[{\"id\":\"1177\"}],\"outline_line_color\":null,\"plot_height\":400,\"plot_width\":400,\"renderers\":[{\"id\":\"1204\"},{\"id\":\"1209\"}],\"title\":{\"id\":\"1163\"},\"toolbar\":{\"id\":\"1188\"},\"toolbar_location\":null,\"x_range\":{\"id\":\"1165\"},\"x_scale\":{\"id\":\"1169\"},\"y_range\":{\"id\":\"1167\"},\"y_scale\":{\"id\":\"1171\"}},\"id\":\"1162\",\"subtype\":\"Figure\",\"type\":\"Plot\"},{\"attributes\":{\"data_source\":{\"id\":\"1206\"},\"glyph\":{\"id\":\"1207\"},\"hover_glyph\":null,\"muted_glyph\":null,\"nonselection_glyph\":{\"id\":\"1208\"},\"selection_glyph\":null,\"view\":{\"id\":\"1210\"}},\"id\":\"1209\",\"type\":\"GlyphRenderer\"}],\"root_ids\":[\"1232\"]},\"title\":\"Bokeh Application\",\"version\":\"2.2.3\"}};\n",
       "  var render_items = [{\"docid\":\"05e5d41e-35f2-4d9a-a77c-2769f91e6170\",\"root_ids\":[\"1232\"],\"roots\":{\"1232\":\"9674b72e-c785-4939-b9e1-96cd6e34735e\"}}];\n",
       "  root.Bokeh.embed.embed_items_notebook(docs_json, render_items);\n",
       "\n",
       "  }\n",
       "  if (root.Bokeh !== undefined) {\n",
       "    embed_document(root);\n",
       "  } else {\n",
       "    var attempts = 0;\n",
       "    var timer = setInterval(function(root) {\n",
       "      if (root.Bokeh !== undefined) {\n",
       "        clearInterval(timer);\n",
       "        embed_document(root);\n",
       "      } else {\n",
       "        attempts++;\n",
       "        if (attempts > 100) {\n",
       "          clearInterval(timer);\n",
       "          console.log(\"Bokeh: ERROR: Unable to run BokehJS code because BokehJS library is missing\");\n",
       "        }\n",
       "      }\n",
       "    }, 10, root)\n",
       "  }\n",
       "})(window);"
      ],
      "application/vnd.bokehjs_exec.v0+json": ""
     },
     "metadata": {
      "application/vnd.bokehjs_exec.v0+json": {
       "id": "1232"
      }
     },
     "output_type": "display_data"
    }
   ],
   "source": [
    "plot_tsp_heuristic(nodes, G, heuristic='random_neighbor', initial=0);"
   ]
  },
  {
   "cell_type": "markdown",
   "metadata": {},
   "source": [
    "To view the complete tour right away, we can use the function `random_neighbor` to run the random neighbor heuristic and the function `plot_tour` to plot the tour and its cost in the lower-left."
   ]
  },
  {
   "cell_type": "code",
   "execution_count": 10,
   "metadata": {},
   "outputs": [
    {
     "name": "stdout",
     "output_type": "stream",
     "text": [
      "[0, 45, 4, 24, 22, 8, 43, 3, 28, 30, 32, 47, 27, 21, 44, 15, 19, 11, 20, 12, 16, 14, 39, 29, 17, 36, 23, 9, 38, 2, 35, 41, 7, 25, 37, 1, 42, 33, 40, 46, 6, 31, 5, 18, 26, 10, 13, 34, 0]\n"
     ]
    },
    {
     "data": {
      "text/html": [
       "\n",
       "\n",
       "\n",
       "\n",
       "\n",
       "\n",
       "  <div class=\"bk-root\" id=\"8728285c-3c06-42d8-9df6-34c72ea736ef\" data-root-id=\"1375\"></div>\n"
      ]
     },
     "metadata": {},
     "output_type": "display_data"
    },
    {
     "data": {
      "application/javascript": [
       "(function(root) {\n",
       "  function embed_document(root) {\n",
       "    \n",
       "  var docs_json = {\"96580b52-bc58-47c6-943e-07111e3713d2\":{\"roots\":{\"references\":[{\"attributes\":{\"children\":[[{\"id\":\"1319\"},0,0],[{\"id\":\"1353\"},1,0]]},\"id\":\"1375\",\"type\":\"GridBox\"},{\"attributes\":{},\"id\":\"1338\",\"type\":\"PanTool\"},{\"attributes\":{\"source\":{\"id\":\"1354\"}},\"id\":\"1358\",\"type\":\"CDSView\"},{\"attributes\":{\"background_fill_color\":null,\"below\":[{\"id\":\"1330\"}],\"border_fill_color\":null,\"center\":[{\"id\":\"1333\"},{\"id\":\"1337\"}],\"left\":[{\"id\":\"1334\"}],\"outline_line_color\":null,\"plot_height\":400,\"plot_width\":400,\"renderers\":[{\"id\":\"1357\"},{\"id\":\"1362\"}],\"title\":{\"id\":\"1320\"},\"toolbar\":{\"id\":\"1345\"},\"toolbar_location\":null,\"x_range\":{\"id\":\"1322\"},\"x_scale\":{\"id\":\"1326\"},\"y_range\":{\"id\":\"1324\"},\"y_scale\":{\"id\":\"1328\"}},\"id\":\"1319\",\"subtype\":\"Figure\",\"type\":\"Plot\"},{\"attributes\":{},\"id\":\"1339\",\"type\":\"WheelZoomTool\"},{\"attributes\":{\"data\":{\"x\":[0.0,0.0,0.0,0.0,0.0,0.0,0.0,0.0,1.0,1.0,1.0,1.0,1.0,1.0,1.0,1.0,2.0,2.0,2.0,2.0,2.0,2.0,2.0,2.0,3.0,3.0,3.0,3.0,3.0,3.0,3.0,3.0,4.0,4.0,4.0,4.0,4.0,4.0,4.0,4.0,5.0,5.0,5.0,5.0,5.0,5.0,5.0,5.0],\"y\":[0.0,1.0,2.0,3.0,4.0,5.0,6.0,7.0,0.0,1.0,2.0,3.0,4.0,5.0,6.0,7.0,0.0,1.0,2.0,3.0,4.0,5.0,6.0,7.0,0.0,1.0,2.0,3.0,4.0,5.0,6.0,7.0,0.0,1.0,2.0,3.0,4.0,5.0,6.0,7.0,0.0,1.0,2.0,3.0,4.0,5.0,6.0,7.0]},\"selected\":{\"id\":\"1372\"},\"selection_policy\":{\"id\":\"1371\"}},\"id\":\"1359\",\"type\":\"ColumnDataSource\"},{\"attributes\":{\"overlay\":{\"id\":\"1344\"}},\"id\":\"1340\",\"type\":\"BoxZoomTool\"},{\"attributes\":{\"data_source\":{\"id\":\"1359\"},\"glyph\":{\"id\":\"1360\"},\"hover_glyph\":null,\"muted_glyph\":null,\"nonselection_glyph\":{\"id\":\"1361\"},\"selection_glyph\":null,\"view\":{\"id\":\"1363\"}},\"id\":\"1362\",\"type\":\"GlyphRenderer\"},{\"attributes\":{},\"id\":\"1341\",\"type\":\"SaveTool\"},{\"attributes\":{},\"id\":\"1342\",\"type\":\"ResetTool\"},{\"attributes\":{\"text\":\"\"},\"id\":\"1320\",\"type\":\"Title\"},{\"attributes\":{},\"id\":\"1343\",\"type\":\"HelpTool\"},{\"attributes\":{\"fill_alpha\":{\"value\":0.1},\"fill_color\":{\"value\":\"steelblue\"},\"line_alpha\":{\"value\":0.1},\"line_color\":{\"value\":\"steelblue\"},\"size\":{\"units\":\"screen\",\"value\":8},\"x\":{\"field\":\"x\"},\"y\":{\"field\":\"y\"}},\"id\":\"1361\",\"type\":\"Circle\"},{\"attributes\":{\"end\":5.425,\"start\":-0.42500000000000004},\"id\":\"1322\",\"type\":\"Range1d\"},{\"attributes\":{\"source\":{\"id\":\"1359\"}},\"id\":\"1363\",\"type\":\"CDSView\"},{\"attributes\":{\"active_drag\":\"auto\",\"active_inspect\":\"auto\",\"active_multi\":null,\"active_scroll\":\"auto\",\"active_tap\":\"auto\",\"logo\":null,\"tools\":[{\"id\":\"1338\"},{\"id\":\"1339\"},{\"id\":\"1340\"},{\"id\":\"1341\"},{\"id\":\"1342\"},{\"id\":\"1343\"}]},\"id\":\"1345\",\"type\":\"Toolbar\"},{\"attributes\":{\"end\":7.595,\"start\":-0.5950000000000001},\"id\":\"1324\",\"type\":\"Range1d\"},{\"attributes\":{\"fill_color\":{\"value\":\"steelblue\"},\"line_color\":{\"value\":\"steelblue\"},\"size\":{\"units\":\"screen\",\"value\":8},\"x\":{\"field\":\"x\"},\"y\":{\"field\":\"y\"}},\"id\":\"1360\",\"type\":\"Circle\"},{\"attributes\":{},\"id\":\"1365\",\"type\":\"BasicTickFormatter\"},{\"attributes\":{},\"id\":\"1326\",\"type\":\"LinearScale\"},{\"attributes\":{},\"id\":\"1367\",\"type\":\"BasicTickFormatter\"},{\"attributes\":{},\"id\":\"1328\",\"type\":\"LinearScale\"},{\"attributes\":{},\"id\":\"1369\",\"type\":\"UnionRenderers\"},{\"attributes\":{\"formatter\":{\"id\":\"1365\"},\"ticker\":{\"id\":\"1331\"},\"visible\":false},\"id\":\"1330\",\"type\":\"LinearAxis\"},{\"attributes\":{},\"id\":\"1370\",\"type\":\"Selection\"},{\"attributes\":{},\"id\":\"1331\",\"type\":\"BasicTicker\"},{\"attributes\":{},\"id\":\"1371\",\"type\":\"UnionRenderers\"},{\"attributes\":{\"axis\":{\"id\":\"1330\"},\"grid_line_color\":null,\"ticker\":null},\"id\":\"1333\",\"type\":\"Grid\"},{\"attributes\":{},\"id\":\"1372\",\"type\":\"Selection\"},{\"attributes\":{\"formatter\":{\"id\":\"1367\"},\"ticker\":{\"id\":\"1335\"},\"visible\":false},\"id\":\"1334\",\"type\":\"LinearAxis\"},{\"attributes\":{},\"id\":\"1335\",\"type\":\"BasicTicker\"},{\"attributes\":{\"bottom_units\":\"screen\",\"fill_alpha\":0.5,\"fill_color\":\"lightgrey\",\"left_units\":\"screen\",\"level\":\"overlay\",\"line_alpha\":1.0,\"line_color\":\"black\",\"line_dash\":[4,4],\"line_width\":2,\"right_units\":\"screen\",\"top_units\":\"screen\"},\"id\":\"1344\",\"type\":\"BoxAnnotation\"},{\"attributes\":{\"axis\":{\"id\":\"1334\"},\"dimension\":1,\"grid_line_color\":null,\"ticker\":null},\"id\":\"1337\",\"type\":\"Grid\"},{\"attributes\":{\"line_alpha\":0.1,\"line_width\":4,\"x\":{\"field\":\"x\"},\"y\":{\"field\":\"y\"}},\"id\":\"1356\",\"type\":\"Line\"},{\"attributes\":{\"data\":{\"x\":[0.0,5.0,0.0,3.0,2.0,1.0,5.0,0.0,3.0,3.0,4.0,5.0,3.0,2.0,5.0,1.0,2.0,1.0,2.0,1.0,2.0,1.0,4.0,3.0,2.0,4.0,2.0,1.0,4.0,0.0,4.0,5.0,0.0,3.0,4.0,0.0,5.0,4.0,5.0,5.0,0.0,3.0,0.0,2.0,3.0,1.0,1.0,4.0,0.0],\"y\":[0.0,5.0,4.0,0.0,6.0,0.0,3.0,3.0,4.0,6.0,0.0,7.0,3.0,5.0,4.0,7.0,3.0,3.0,4.0,4.0,0.0,6.0,7.0,5.0,1.0,4.0,7.0,1.0,6.0,2.0,3.0,1.0,7.0,1.0,5.0,1.0,2.0,1.0,0.0,6.0,6.0,7.0,5.0,2.0,2.0,2.0,5.0,2.0,0.0]},\"selected\":{\"id\":\"1370\"},\"selection_policy\":{\"id\":\"1369\"}},\"id\":\"1354\",\"type\":\"ColumnDataSource\"},{\"attributes\":{\"line_width\":4,\"x\":{\"field\":\"x\"},\"y\":{\"field\":\"y\"}},\"id\":\"1355\",\"type\":\"Line\"},{\"attributes\":{\"data_source\":{\"id\":\"1354\"},\"glyph\":{\"id\":\"1355\"},\"hover_glyph\":null,\"muted_glyph\":null,\"nonselection_glyph\":{\"id\":\"1356\"},\"selection_glyph\":null,\"view\":{\"id\":\"1358\"}},\"id\":\"1357\",\"type\":\"GlyphRenderer\"},{\"attributes\":{\"align\":\"center\",\"text\":\"250.0\",\"width\":400},\"id\":\"1353\",\"type\":\"Div\"}],\"root_ids\":[\"1375\"]},\"title\":\"Bokeh Application\",\"version\":\"2.2.3\"}};\n",
       "  var render_items = [{\"docid\":\"96580b52-bc58-47c6-943e-07111e3713d2\",\"root_ids\":[\"1375\"],\"roots\":{\"1375\":\"8728285c-3c06-42d8-9df6-34c72ea736ef\"}}];\n",
       "  root.Bokeh.embed.embed_items_notebook(docs_json, render_items);\n",
       "\n",
       "  }\n",
       "  if (root.Bokeh !== undefined) {\n",
       "    embed_document(root);\n",
       "  } else {\n",
       "    var attempts = 0;\n",
       "    var timer = setInterval(function(root) {\n",
       "      if (root.Bokeh !== undefined) {\n",
       "        clearInterval(timer);\n",
       "        embed_document(root);\n",
       "      } else {\n",
       "        attempts++;\n",
       "        if (attempts > 100) {\n",
       "          clearInterval(timer);\n",
       "          console.log(\"Bokeh: ERROR: Unable to run BokehJS code because BokehJS library is missing\");\n",
       "        }\n",
       "      }\n",
       "    }, 10, root)\n",
       "  }\n",
       "})(window);"
      ],
      "application/vnd.bokehjs_exec.v0+json": ""
     },
     "metadata": {
      "application/vnd.bokehjs_exec.v0+json": {
       "id": "1375"
      }
     },
     "output_type": "display_data"
    }
   ],
   "source": [
    "tour = random_neighbor(G)\n",
    "# tour is an ordered list of the nodes starting and ending at the same node\n",
    "print(tour)\n",
    "plot_tour(nodes, G, tour)"
   ]
  },
  {
   "cell_type": "markdown",
   "metadata": {},
   "source": [
    "**Q3:** Does this look like a good tour to you? Run it a few times and see what the average tour cost is.\n",
    "\n",
    "**A:** <font color='blue'>No. Average around 230.</font>"
   ]
  },
  {
   "cell_type": "markdown",
   "metadata": {},
   "source": [
    "Now, let's look at the nearest neighbor heuristic."
   ]
  },
  {
   "cell_type": "code",
   "execution_count": 11,
   "metadata": {},
   "outputs": [
    {
     "data": {
      "text/html": [
       "\n",
       "\n",
       "\n",
       "\n",
       "\n",
       "\n",
       "  <div class=\"bk-root\" id=\"b29635b1-325d-4e03-af23-9c85b739c11d\" data-root-id=\"1532\"></div>\n"
      ]
     },
     "metadata": {},
     "output_type": "display_data"
    },
    {
     "data": {
      "application/javascript": [
       "(function(root) {\n",
       "  function embed_document(root) {\n",
       "    \n",
       "  var docs_json = {\"e8963b15-cac8-4f4f-89f3-002d29f46a4f\":{\"roots\":{\"references\":[{\"attributes\":{\"children\":[[{\"id\":\"1462\"},0,0],[{\"id\":\"1515\"},1,0],[{\"id\":\"1516\"},2,0]]},\"id\":\"1532\",\"type\":\"GridBox\"},{\"attributes\":{\"button_type\":\"success\",\"icon\":null,\"js_event_callbacks\":{\"button_click\":[{\"id\":\"1514\"}]},\"label\":\"Previous\",\"sizing_mode\":\"scale_width\",\"width_policy\":\"fit\"},\"id\":\"1513\",\"type\":\"Button\"},{\"attributes\":{},\"id\":\"1525\",\"type\":\"Selection\"},{\"attributes\":{\"args\":{\"cost\":{\"id\":\"1496\"},\"done\":{\"id\":\"1497\"},\"n\":{\"id\":\"1498\"},\"source\":{\"id\":\"1499\"},\"tour\":{\"id\":\"1500\"}},\"code\":\"\\nif ((parseInt(n.text) - 1) >= 0) {\\n    n.text = (parseInt(n.text) - 1).toString()\\n}\\nvar iteration = parseInt(n.text)\\n\\nif (iteration == source.data['edges_y'].length - 2) {\\n    iteration = iteration - 1\\n}\\n\\n    cost.text = source.data['costs'][iteration].toFixed(1)\\n    \\n    if (iteration == source.data['edges_y'].length - 1) {\\n        done.text = \\\"done.\\\"\\n    } else {\\n        done.text = \\\"\\\"\\n    }\\n\\n    tour.data['edges_x'] = source.data['edges_x'][iteration]\\n    tour.data['edges_y'] = source.data['edges_y'][iteration]\\n    tour.change.emit()\\n    \"},\"id\":\"1514\",\"type\":\"CustomJS\"},{\"attributes\":{},\"id\":\"1524\",\"type\":\"UnionRenderers\"},{\"attributes\":{},\"id\":\"1484\",\"type\":\"SaveTool\"},{\"attributes\":{},\"id\":\"1530\",\"type\":\"UnionRenderers\"},{\"attributes\":{\"children\":[{\"id\":\"1513\"},{\"id\":\"1511\"}],\"max_width\":400,\"sizing_mode\":\"stretch_both\"},\"id\":\"1515\",\"type\":\"Row\"},{\"attributes\":{\"bottom_units\":\"screen\",\"fill_alpha\":0.5,\"fill_color\":\"lightgrey\",\"left_units\":\"screen\",\"level\":\"overlay\",\"line_alpha\":1.0,\"line_color\":\"black\",\"line_dash\":[4,4],\"line_width\":2,\"right_units\":\"screen\",\"top_units\":\"screen\"},\"id\":\"1487\",\"type\":\"BoxAnnotation\"},{\"attributes\":{\"align\":\"center\",\"text\":\"0\",\"width\":200},\"id\":\"1496\",\"type\":\"Div\"},{\"attributes\":{\"align\":\"center\",\"width\":200},\"id\":\"1497\",\"type\":\"Div\"},{\"attributes\":{\"children\":[{\"id\":\"1496\"},{\"id\":\"1497\"}]},\"id\":\"1516\",\"type\":\"Row\"},{\"attributes\":{},\"id\":\"1486\",\"type\":\"HelpTool\"},{\"attributes\":{\"data\":{\"costs\":[0,1.0,2.0,3.0,4.0,5.0,6.0,7.0,8.0,9.0,10.0,11.0,12.0,13.0,14.0,15.0,16.0,17.0,18.0,19.0,20.0,21.0,22.0,23.0,24.0,25.0,27.0,28.0,29.0,30.0,31.0,32.0,33.0,34.0,38.0,39.0,40.0,41.0,42.0,43.0,44.0,45.0,46.0,47.0,48.0,49.0,50.0,59.0,64.0],\"edges_x\":[[0.0],[0.0,0.0],[0.0,0.0,0.0],[0.0,0.0,0.0,0.0],[0.0,0.0,0.0,0.0,1.0],[0.0,0.0,0.0,0.0,1.0,1.0],[0.0,0.0,0.0,0.0,1.0,1.0,2.0],[0.0,0.0,0.0,0.0,1.0,1.0,2.0,2.0],[0.0,0.0,0.0,0.0,1.0,1.0,2.0,2.0,3.0],[0.0,0.0,0.0,0.0,1.0,1.0,2.0,2.0,3.0,3.0],[0.0,0.0,0.0,0.0,1.0,1.0,2.0,2.0,3.0,3.0,3.0],[0.0,0.0,0.0,0.0,1.0,1.0,2.0,2.0,3.0,3.0,3.0,3.0],[0.0,0.0,0.0,0.0,1.0,1.0,2.0,2.0,3.0,3.0,3.0,3.0,4.0],[0.0,0.0,0.0,0.0,1.0,1.0,2.0,2.0,3.0,3.0,3.0,3.0,4.0,4.0],[0.0,0.0,0.0,0.0,1.0,1.0,2.0,2.0,3.0,3.0,3.0,3.0,4.0,4.0,3.0],[0.0,0.0,0.0,0.0,1.0,1.0,2.0,2.0,3.0,3.0,3.0,3.0,4.0,4.0,3.0,2.0],[0.0,0.0,0.0,0.0,1.0,1.0,2.0,2.0,3.0,3.0,3.0,3.0,4.0,4.0,3.0,2.0,1.0],[0.0,0.0,0.0,0.0,1.0,1.0,2.0,2.0,3.0,3.0,3.0,3.0,4.0,4.0,3.0,2.0,1.0,1.0],[0.0,0.0,0.0,0.0,1.0,1.0,2.0,2.0,3.0,3.0,3.0,3.0,4.0,4.0,3.0,2.0,1.0,1.0,1.0],[0.0,0.0,0.0,0.0,1.0,1.0,2.0,2.0,3.0,3.0,3.0,3.0,4.0,4.0,3.0,2.0,1.0,1.0,1.0,0.0],[0.0,0.0,0.0,0.0,1.0,1.0,2.0,2.0,3.0,3.0,3.0,3.0,4.0,4.0,3.0,2.0,1.0,1.0,1.0,0.0,0.0],[0.0,0.0,0.0,0.0,1.0,1.0,2.0,2.0,3.0,3.0,3.0,3.0,4.0,4.0,3.0,2.0,1.0,1.0,1.0,0.0,0.0,0.0],[0.0,0.0,0.0,0.0,1.0,1.0,2.0,2.0,3.0,3.0,3.0,3.0,4.0,4.0,3.0,2.0,1.0,1.0,1.0,0.0,0.0,0.0,0.0],[0.0,0.0,0.0,0.0,1.0,1.0,2.0,2.0,3.0,3.0,3.0,3.0,4.0,4.0,3.0,2.0,1.0,1.0,1.0,0.0,0.0,0.0,0.0,1.0],[0.0,0.0,0.0,0.0,1.0,1.0,2.0,2.0,3.0,3.0,3.0,3.0,4.0,4.0,3.0,2.0,1.0,1.0,1.0,0.0,0.0,0.0,0.0,1.0,2.0],[0.0,0.0,0.0,0.0,1.0,1.0,2.0,2.0,3.0,3.0,3.0,3.0,4.0,4.0,3.0,2.0,1.0,1.0,1.0,0.0,0.0,0.0,0.0,1.0,2.0,2.0],[0.0,0.0,0.0,0.0,1.0,1.0,2.0,2.0,3.0,3.0,3.0,3.0,4.0,4.0,3.0,2.0,1.0,1.0,1.0,0.0,0.0,0.0,0.0,1.0,2.0,2.0,4.0],[0.0,0.0,0.0,0.0,1.0,1.0,2.0,2.0,3.0,3.0,3.0,3.0,4.0,4.0,3.0,2.0,1.0,1.0,1.0,0.0,0.0,0.0,0.0,1.0,2.0,2.0,4.0,4.0],[0.0,0.0,0.0,0.0,1.0,1.0,2.0,2.0,3.0,3.0,3.0,3.0,4.0,4.0,3.0,2.0,1.0,1.0,1.0,0.0,0.0,0.0,0.0,1.0,2.0,2.0,4.0,4.0,4.0],[0.0,0.0,0.0,0.0,1.0,1.0,2.0,2.0,3.0,3.0,3.0,3.0,4.0,4.0,3.0,2.0,1.0,1.0,1.0,0.0,0.0,0.0,0.0,1.0,2.0,2.0,4.0,4.0,4.0,4.0],[0.0,0.0,0.0,0.0,1.0,1.0,2.0,2.0,3.0,3.0,3.0,3.0,4.0,4.0,3.0,2.0,1.0,1.0,1.0,0.0,0.0,0.0,0.0,1.0,2.0,2.0,4.0,4.0,4.0,4.0,3.0],[0.0,0.0,0.0,0.0,1.0,1.0,2.0,2.0,3.0,3.0,3.0,3.0,4.0,4.0,3.0,2.0,1.0,1.0,1.0,0.0,0.0,0.0,0.0,1.0,2.0,2.0,4.0,4.0,4.0,4.0,3.0,2.0],[0.0,0.0,0.0,0.0,1.0,1.0,2.0,2.0,3.0,3.0,3.0,3.0,4.0,4.0,3.0,2.0,1.0,1.0,1.0,0.0,0.0,0.0,0.0,1.0,2.0,2.0,4.0,4.0,4.0,4.0,3.0,2.0,1.0],[0.0,0.0,0.0,0.0,1.0,1.0,2.0,2.0,3.0,3.0,3.0,3.0,4.0,4.0,3.0,2.0,1.0,1.0,1.0,0.0,0.0,0.0,0.0,1.0,2.0,2.0,4.0,4.0,4.0,4.0,3.0,2.0,1.0,1.0],[0.0,0.0,0.0,0.0,1.0,1.0,2.0,2.0,3.0,3.0,3.0,3.0,4.0,4.0,3.0,2.0,1.0,1.0,1.0,0.0,0.0,0.0,0.0,1.0,2.0,2.0,4.0,4.0,4.0,4.0,3.0,2.0,1.0,1.0,5.0],[0.0,0.0,0.0,0.0,1.0,1.0,2.0,2.0,3.0,3.0,3.0,3.0,4.0,4.0,3.0,2.0,1.0,1.0,1.0,0.0,0.0,0.0,0.0,1.0,2.0,2.0,4.0,4.0,4.0,4.0,3.0,2.0,1.0,1.0,5.0,5.0],[0.0,0.0,0.0,0.0,1.0,1.0,2.0,2.0,3.0,3.0,3.0,3.0,4.0,4.0,3.0,2.0,1.0,1.0,1.0,0.0,0.0,0.0,0.0,1.0,2.0,2.0,4.0,4.0,4.0,4.0,3.0,2.0,1.0,1.0,5.0,5.0,5.0],[0.0,0.0,0.0,0.0,1.0,1.0,2.0,2.0,3.0,3.0,3.0,3.0,4.0,4.0,3.0,2.0,1.0,1.0,1.0,0.0,0.0,0.0,0.0,1.0,2.0,2.0,4.0,4.0,4.0,4.0,3.0,2.0,1.0,1.0,5.0,5.0,5.0,5.0],[0.0,0.0,0.0,0.0,1.0,1.0,2.0,2.0,3.0,3.0,3.0,3.0,4.0,4.0,3.0,2.0,1.0,1.0,1.0,0.0,0.0,0.0,0.0,1.0,2.0,2.0,4.0,4.0,4.0,4.0,3.0,2.0,1.0,1.0,5.0,5.0,5.0,5.0,5.0],[0.0,0.0,0.0,0.0,1.0,1.0,2.0,2.0,3.0,3.0,3.0,3.0,4.0,4.0,3.0,2.0,1.0,1.0,1.0,0.0,0.0,0.0,0.0,1.0,2.0,2.0,4.0,4.0,4.0,4.0,3.0,2.0,1.0,1.0,5.0,5.0,5.0,5.0,5.0,5.0],[0.0,0.0,0.0,0.0,1.0,1.0,2.0,2.0,3.0,3.0,3.0,3.0,4.0,4.0,3.0,2.0,1.0,1.0,1.0,0.0,0.0,0.0,0.0,1.0,2.0,2.0,4.0,4.0,4.0,4.0,3.0,2.0,1.0,1.0,5.0,5.0,5.0,5.0,5.0,5.0,5.0],[0.0,0.0,0.0,0.0,1.0,1.0,2.0,2.0,3.0,3.0,3.0,3.0,4.0,4.0,3.0,2.0,1.0,1.0,1.0,0.0,0.0,0.0,0.0,1.0,2.0,2.0,4.0,4.0,4.0,4.0,3.0,2.0,1.0,1.0,5.0,5.0,5.0,5.0,5.0,5.0,5.0,4.0],[0.0,0.0,0.0,0.0,1.0,1.0,2.0,2.0,3.0,3.0,3.0,3.0,4.0,4.0,3.0,2.0,1.0,1.0,1.0,0.0,0.0,0.0,0.0,1.0,2.0,2.0,4.0,4.0,4.0,4.0,3.0,2.0,1.0,1.0,5.0,5.0,5.0,5.0,5.0,5.0,5.0,4.0,4.0],[0.0,0.0,0.0,0.0,1.0,1.0,2.0,2.0,3.0,3.0,3.0,3.0,4.0,4.0,3.0,2.0,1.0,1.0,1.0,0.0,0.0,0.0,0.0,1.0,2.0,2.0,4.0,4.0,4.0,4.0,3.0,2.0,1.0,1.0,5.0,5.0,5.0,5.0,5.0,5.0,5.0,4.0,4.0,3.0],[0.0,0.0,0.0,0.0,1.0,1.0,2.0,2.0,3.0,3.0,3.0,3.0,4.0,4.0,3.0,2.0,1.0,1.0,1.0,0.0,0.0,0.0,0.0,1.0,2.0,2.0,4.0,4.0,4.0,4.0,3.0,2.0,1.0,1.0,5.0,5.0,5.0,5.0,5.0,5.0,5.0,4.0,4.0,3.0,2.0],[0.0,0.0,0.0,0.0,1.0,1.0,2.0,2.0,3.0,3.0,3.0,3.0,4.0,4.0,3.0,2.0,1.0,1.0,1.0,0.0,0.0,0.0,0.0,1.0,2.0,2.0,4.0,4.0,4.0,4.0,3.0,2.0,1.0,1.0,5.0,5.0,5.0,5.0,5.0,5.0,5.0,4.0,4.0,3.0,2.0,2.0],[0.0,0.0,0.0,0.0,1.0,1.0,2.0,2.0,3.0,3.0,3.0,3.0,4.0,4.0,3.0,2.0,1.0,1.0,1.0,0.0,0.0,0.0,0.0,1.0,2.0,2.0,4.0,4.0,4.0,4.0,3.0,2.0,1.0,1.0,5.0,5.0,5.0,5.0,5.0,5.0,5.0,4.0,4.0,3.0,2.0,2.0,3.0],[0.0,0.0,0.0,0.0,1.0,1.0,2.0,2.0,3.0,3.0,3.0,3.0,4.0,4.0,3.0,2.0,1.0,1.0,1.0,0.0,0.0,0.0,0.0,1.0,2.0,2.0,4.0,4.0,4.0,4.0,3.0,2.0,1.0,1.0,5.0,5.0,5.0,5.0,5.0,5.0,5.0,4.0,4.0,3.0,2.0,2.0,3.0,5.0],[0.0,0.0,0.0,0.0,1.0,1.0,2.0,2.0,3.0,3.0,3.0,3.0,4.0,4.0,3.0,2.0,1.0,1.0,1.0,0.0,0.0,0.0,0.0,1.0,2.0,2.0,4.0,4.0,4.0,4.0,3.0,2.0,1.0,1.0,5.0,5.0,5.0,5.0,5.0,5.0,5.0,4.0,4.0,3.0,2.0,2.0,3.0,5.0,0.0]],\"edges_y\":[[0.0],[0.0,1.0],[0.0,1.0,2.0],[0.0,1.0,2.0,3.0],[0.0,1.0,2.0,3.0,3.0],[0.0,1.0,2.0,3.0,3.0,2.0],[0.0,1.0,2.0,3.0,3.0,2.0,2.0],[0.0,1.0,2.0,3.0,3.0,2.0,2.0,1.0],[0.0,1.0,2.0,3.0,3.0,2.0,2.0,1.0,1.0],[0.0,1.0,2.0,3.0,3.0,2.0,2.0,1.0,1.0,2.0],[0.0,1.0,2.0,3.0,3.0,2.0,2.0,1.0,1.0,2.0,3.0],[0.0,1.0,2.0,3.0,3.0,2.0,2.0,1.0,1.0,2.0,3.0,4.0],[0.0,1.0,2.0,3.0,3.0,2.0,2.0,1.0,1.0,2.0,3.0,4.0,4.0],[0.0,1.0,2.0,3.0,3.0,2.0,2.0,1.0,1.0,2.0,3.0,4.0,4.0,5.0],[0.0,1.0,2.0,3.0,3.0,2.0,2.0,1.0,1.0,2.0,3.0,4.0,4.0,5.0,5.0],[0.0,1.0,2.0,3.0,3.0,2.0,2.0,1.0,1.0,2.0,3.0,4.0,4.0,5.0,5.0,5.0],[0.0,1.0,2.0,3.0,3.0,2.0,2.0,1.0,1.0,2.0,3.0,4.0,4.0,5.0,5.0,5.0,5.0],[0.0,1.0,2.0,3.0,3.0,2.0,2.0,1.0,1.0,2.0,3.0,4.0,4.0,5.0,5.0,5.0,5.0,6.0],[0.0,1.0,2.0,3.0,3.0,2.0,2.0,1.0,1.0,2.0,3.0,4.0,4.0,5.0,5.0,5.0,5.0,6.0,7.0],[0.0,1.0,2.0,3.0,3.0,2.0,2.0,1.0,1.0,2.0,3.0,4.0,4.0,5.0,5.0,5.0,5.0,6.0,7.0,7.0],[0.0,1.0,2.0,3.0,3.0,2.0,2.0,1.0,1.0,2.0,3.0,4.0,4.0,5.0,5.0,5.0,5.0,6.0,7.0,7.0,6.0],[0.0,1.0,2.0,3.0,3.0,2.0,2.0,1.0,1.0,2.0,3.0,4.0,4.0,5.0,5.0,5.0,5.0,6.0,7.0,7.0,6.0,5.0],[0.0,1.0,2.0,3.0,3.0,2.0,2.0,1.0,1.0,2.0,3.0,4.0,4.0,5.0,5.0,5.0,5.0,6.0,7.0,7.0,6.0,5.0,4.0],[0.0,1.0,2.0,3.0,3.0,2.0,2.0,1.0,1.0,2.0,3.0,4.0,4.0,5.0,5.0,5.0,5.0,6.0,7.0,7.0,6.0,5.0,4.0,4.0],[0.0,1.0,2.0,3.0,3.0,2.0,2.0,1.0,1.0,2.0,3.0,4.0,4.0,5.0,5.0,5.0,5.0,6.0,7.0,7.0,6.0,5.0,4.0,4.0,4.0],[0.0,1.0,2.0,3.0,3.0,2.0,2.0,1.0,1.0,2.0,3.0,4.0,4.0,5.0,5.0,5.0,5.0,6.0,7.0,7.0,6.0,5.0,4.0,4.0,4.0,3.0],[0.0,1.0,2.0,3.0,3.0,2.0,2.0,1.0,1.0,2.0,3.0,4.0,4.0,5.0,5.0,5.0,5.0,6.0,7.0,7.0,6.0,5.0,4.0,4.0,4.0,3.0,3.0],[0.0,1.0,2.0,3.0,3.0,2.0,2.0,1.0,1.0,2.0,3.0,4.0,4.0,5.0,5.0,5.0,5.0,6.0,7.0,7.0,6.0,5.0,4.0,4.0,4.0,3.0,3.0,2.0],[0.0,1.0,2.0,3.0,3.0,2.0,2.0,1.0,1.0,2.0,3.0,4.0,4.0,5.0,5.0,5.0,5.0,6.0,7.0,7.0,6.0,5.0,4.0,4.0,4.0,3.0,3.0,2.0,1.0],[0.0,1.0,2.0,3.0,3.0,2.0,2.0,1.0,1.0,2.0,3.0,4.0,4.0,5.0,5.0,5.0,5.0,6.0,7.0,7.0,6.0,5.0,4.0,4.0,4.0,3.0,3.0,2.0,1.0,0.0],[0.0,1.0,2.0,3.0,3.0,2.0,2.0,1.0,1.0,2.0,3.0,4.0,4.0,5.0,5.0,5.0,5.0,6.0,7.0,7.0,6.0,5.0,4.0,4.0,4.0,3.0,3.0,2.0,1.0,0.0,0.0],[0.0,1.0,2.0,3.0,3.0,2.0,2.0,1.0,1.0,2.0,3.0,4.0,4.0,5.0,5.0,5.0,5.0,6.0,7.0,7.0,6.0,5.0,4.0,4.0,4.0,3.0,3.0,2.0,1.0,0.0,0.0,0.0],[0.0,1.0,2.0,3.0,3.0,2.0,2.0,1.0,1.0,2.0,3.0,4.0,4.0,5.0,5.0,5.0,5.0,6.0,7.0,7.0,6.0,5.0,4.0,4.0,4.0,3.0,3.0,2.0,1.0,0.0,0.0,0.0,0.0],[0.0,1.0,2.0,3.0,3.0,2.0,2.0,1.0,1.0,2.0,3.0,4.0,4.0,5.0,5.0,5.0,5.0,6.0,7.0,7.0,6.0,5.0,4.0,4.0,4.0,3.0,3.0,2.0,1.0,0.0,0.0,0.0,0.0,1.0],[0.0,1.0,2.0,3.0,3.0,2.0,2.0,1.0,1.0,2.0,3.0,4.0,4.0,5.0,5.0,5.0,5.0,6.0,7.0,7.0,6.0,5.0,4.0,4.0,4.0,3.0,3.0,2.0,1.0,0.0,0.0,0.0,0.0,1.0,1.0],[0.0,1.0,2.0,3.0,3.0,2.0,2.0,1.0,1.0,2.0,3.0,4.0,4.0,5.0,5.0,5.0,5.0,6.0,7.0,7.0,6.0,5.0,4.0,4.0,4.0,3.0,3.0,2.0,1.0,0.0,0.0,0.0,0.0,1.0,1.0,2.0],[0.0,1.0,2.0,3.0,3.0,2.0,2.0,1.0,1.0,2.0,3.0,4.0,4.0,5.0,5.0,5.0,5.0,6.0,7.0,7.0,6.0,5.0,4.0,4.0,4.0,3.0,3.0,2.0,1.0,0.0,0.0,0.0,0.0,1.0,1.0,2.0,3.0],[0.0,1.0,2.0,3.0,3.0,2.0,2.0,1.0,1.0,2.0,3.0,4.0,4.0,5.0,5.0,5.0,5.0,6.0,7.0,7.0,6.0,5.0,4.0,4.0,4.0,3.0,3.0,2.0,1.0,0.0,0.0,0.0,0.0,1.0,1.0,2.0,3.0,4.0],[0.0,1.0,2.0,3.0,3.0,2.0,2.0,1.0,1.0,2.0,3.0,4.0,4.0,5.0,5.0,5.0,5.0,6.0,7.0,7.0,6.0,5.0,4.0,4.0,4.0,3.0,3.0,2.0,1.0,0.0,0.0,0.0,0.0,1.0,1.0,2.0,3.0,4.0,5.0],[0.0,1.0,2.0,3.0,3.0,2.0,2.0,1.0,1.0,2.0,3.0,4.0,4.0,5.0,5.0,5.0,5.0,6.0,7.0,7.0,6.0,5.0,4.0,4.0,4.0,3.0,3.0,2.0,1.0,0.0,0.0,0.0,0.0,1.0,1.0,2.0,3.0,4.0,5.0,6.0],[0.0,1.0,2.0,3.0,3.0,2.0,2.0,1.0,1.0,2.0,3.0,4.0,4.0,5.0,5.0,5.0,5.0,6.0,7.0,7.0,6.0,5.0,4.0,4.0,4.0,3.0,3.0,2.0,1.0,0.0,0.0,0.0,0.0,1.0,1.0,2.0,3.0,4.0,5.0,6.0,7.0],[0.0,1.0,2.0,3.0,3.0,2.0,2.0,1.0,1.0,2.0,3.0,4.0,4.0,5.0,5.0,5.0,5.0,6.0,7.0,7.0,6.0,5.0,4.0,4.0,4.0,3.0,3.0,2.0,1.0,0.0,0.0,0.0,0.0,1.0,1.0,2.0,3.0,4.0,5.0,6.0,7.0,7.0],[0.0,1.0,2.0,3.0,3.0,2.0,2.0,1.0,1.0,2.0,3.0,4.0,4.0,5.0,5.0,5.0,5.0,6.0,7.0,7.0,6.0,5.0,4.0,4.0,4.0,3.0,3.0,2.0,1.0,0.0,0.0,0.0,0.0,1.0,1.0,2.0,3.0,4.0,5.0,6.0,7.0,7.0,6.0],[0.0,1.0,2.0,3.0,3.0,2.0,2.0,1.0,1.0,2.0,3.0,4.0,4.0,5.0,5.0,5.0,5.0,6.0,7.0,7.0,6.0,5.0,4.0,4.0,4.0,3.0,3.0,2.0,1.0,0.0,0.0,0.0,0.0,1.0,1.0,2.0,3.0,4.0,5.0,6.0,7.0,7.0,6.0,6.0],[0.0,1.0,2.0,3.0,3.0,2.0,2.0,1.0,1.0,2.0,3.0,4.0,4.0,5.0,5.0,5.0,5.0,6.0,7.0,7.0,6.0,5.0,4.0,4.0,4.0,3.0,3.0,2.0,1.0,0.0,0.0,0.0,0.0,1.0,1.0,2.0,3.0,4.0,5.0,6.0,7.0,7.0,6.0,6.0,6.0],[0.0,1.0,2.0,3.0,3.0,2.0,2.0,1.0,1.0,2.0,3.0,4.0,4.0,5.0,5.0,5.0,5.0,6.0,7.0,7.0,6.0,5.0,4.0,4.0,4.0,3.0,3.0,2.0,1.0,0.0,0.0,0.0,0.0,1.0,1.0,2.0,3.0,4.0,5.0,6.0,7.0,7.0,6.0,6.0,6.0,7.0],[0.0,1.0,2.0,3.0,3.0,2.0,2.0,1.0,1.0,2.0,3.0,4.0,4.0,5.0,5.0,5.0,5.0,6.0,7.0,7.0,6.0,5.0,4.0,4.0,4.0,3.0,3.0,2.0,1.0,0.0,0.0,0.0,0.0,1.0,1.0,2.0,3.0,4.0,5.0,6.0,7.0,7.0,6.0,6.0,6.0,7.0,7.0],[0.0,1.0,2.0,3.0,3.0,2.0,2.0,1.0,1.0,2.0,3.0,4.0,4.0,5.0,5.0,5.0,5.0,6.0,7.0,7.0,6.0,5.0,4.0,4.0,4.0,3.0,3.0,2.0,1.0,0.0,0.0,0.0,0.0,1.0,1.0,2.0,3.0,4.0,5.0,6.0,7.0,7.0,6.0,6.0,6.0,7.0,7.0,0.0],[0.0,1.0,2.0,3.0,3.0,2.0,2.0,1.0,1.0,2.0,3.0,4.0,4.0,5.0,5.0,5.0,5.0,6.0,7.0,7.0,6.0,5.0,4.0,4.0,4.0,3.0,3.0,2.0,1.0,0.0,0.0,0.0,0.0,1.0,1.0,2.0,3.0,4.0,5.0,6.0,7.0,7.0,6.0,6.0,6.0,7.0,7.0,0.0,0.0]]},\"selected\":{\"id\":\"1531\"},\"selection_policy\":{\"id\":\"1530\"}},\"id\":\"1499\",\"type\":\"ColumnDataSource\"},{\"attributes\":{\"axis\":{\"id\":\"1477\"},\"dimension\":1,\"grid_line_color\":null,\"ticker\":null},\"id\":\"1480\",\"type\":\"Grid\"},{\"attributes\":{},\"id\":\"1485\",\"type\":\"ResetTool\"},{\"attributes\":{\"axis\":{\"id\":\"1473\"},\"grid_line_color\":null,\"ticker\":null},\"id\":\"1476\",\"type\":\"Grid\"},{\"attributes\":{},\"id\":\"1522\",\"type\":\"UnionRenderers\"},{\"attributes\":{\"data\":{\"edges_x\":[0.0],\"edges_y\":[0.0]},\"selected\":{\"id\":\"1523\"},\"selection_policy\":{\"id\":\"1522\"}},\"id\":\"1500\",\"type\":\"ColumnDataSource\"},{\"attributes\":{},\"id\":\"1478\",\"type\":\"BasicTicker\"},{\"attributes\":{},\"id\":\"1523\",\"type\":\"Selection\"},{\"attributes\":{},\"id\":\"1531\",\"type\":\"Selection\"},{\"attributes\":{\"formatter\":{\"id\":\"1520\"},\"ticker\":{\"id\":\"1478\"},\"visible\":false},\"id\":\"1477\",\"type\":\"LinearAxis\"},{\"attributes\":{},\"id\":\"1520\",\"type\":\"BasicTickFormatter\"},{\"attributes\":{\"data_source\":{\"id\":\"1500\"},\"glyph\":{\"id\":\"1502\"},\"hover_glyph\":null,\"muted_glyph\":null,\"nonselection_glyph\":{\"id\":\"1503\"},\"selection_glyph\":null,\"view\":{\"id\":\"1505\"}},\"id\":\"1504\",\"type\":\"GlyphRenderer\"},{\"attributes\":{\"line_width\":4,\"x\":{\"field\":\"edges_x\"},\"y\":{\"field\":\"edges_y\"}},\"id\":\"1502\",\"type\":\"Line\"},{\"attributes\":{},\"id\":\"1474\",\"type\":\"BasicTicker\"},{\"attributes\":{\"formatter\":{\"id\":\"1518\"},\"ticker\":{\"id\":\"1474\"},\"visible\":false},\"id\":\"1473\",\"type\":\"LinearAxis\"},{\"attributes\":{\"line_alpha\":0.1,\"line_width\":4,\"x\":{\"field\":\"edges_x\"},\"y\":{\"field\":\"edges_y\"}},\"id\":\"1503\",\"type\":\"Line\"},{\"attributes\":{\"args\":{\"cost\":{\"id\":\"1496\"},\"done\":{\"id\":\"1497\"},\"n\":{\"id\":\"1498\"},\"source\":{\"id\":\"1499\"},\"tour\":{\"id\":\"1500\"}},\"code\":\"\\nif ((parseInt(n.text) + 1) < source.data['edges_y'].length) {\\n    n.text = (parseInt(n.text) + 1).toString()\\n}\\nvar iteration = parseInt(n.text)\\n\\nif (iteration == source.data['edges_y'].length - 2) {\\n    iteration = iteration + 1\\n}\\n\\n    cost.text = source.data['costs'][iteration].toFixed(1)\\n    \\n    if (iteration == source.data['edges_y'].length - 1) {\\n        done.text = \\\"done.\\\"\\n    } else {\\n        done.text = \\\"\\\"\\n    }\\n\\n    tour.data['edges_x'] = source.data['edges_x'][iteration]\\n    tour.data['edges_y'] = source.data['edges_y'][iteration]\\n    tour.change.emit()\\n    \"},\"id\":\"1512\",\"type\":\"CustomJS\"},{\"attributes\":{\"source\":{\"id\":\"1500\"}},\"id\":\"1505\",\"type\":\"CDSView\"},{\"attributes\":{},\"id\":\"1471\",\"type\":\"LinearScale\"},{\"attributes\":{\"data\":{\"x\":[0.0,0.0,0.0,0.0,0.0,0.0,0.0,0.0,1.0,1.0,1.0,1.0,1.0,1.0,1.0,1.0,2.0,2.0,2.0,2.0,2.0,2.0,2.0,2.0,3.0,3.0,3.0,3.0,3.0,3.0,3.0,3.0,4.0,4.0,4.0,4.0,4.0,4.0,4.0,4.0,5.0,5.0,5.0,5.0,5.0,5.0,5.0,5.0],\"y\":[0.0,1.0,2.0,3.0,4.0,5.0,6.0,7.0,0.0,1.0,2.0,3.0,4.0,5.0,6.0,7.0,0.0,1.0,2.0,3.0,4.0,5.0,6.0,7.0,0.0,1.0,2.0,3.0,4.0,5.0,6.0,7.0,0.0,1.0,2.0,3.0,4.0,5.0,6.0,7.0,0.0,1.0,2.0,3.0,4.0,5.0,6.0,7.0]},\"selected\":{\"id\":\"1525\"},\"selection_policy\":{\"id\":\"1524\"}},\"id\":\"1506\",\"type\":\"ColumnDataSource\"},{\"attributes\":{\"align\":\"center\",\"text\":\"0\",\"width\":400},\"id\":\"1498\",\"type\":\"Div\"},{\"attributes\":{\"active_drag\":\"auto\",\"active_inspect\":\"auto\",\"active_multi\":null,\"active_scroll\":\"auto\",\"active_tap\":\"auto\",\"logo\":null,\"tools\":[{\"id\":\"1481\"},{\"id\":\"1482\"},{\"id\":\"1483\"},{\"id\":\"1484\"},{\"id\":\"1485\"},{\"id\":\"1486\"}]},\"id\":\"1488\",\"type\":\"Toolbar\"},{\"attributes\":{},\"id\":\"1469\",\"type\":\"LinearScale\"},{\"attributes\":{\"overlay\":{\"id\":\"1487\"}},\"id\":\"1483\",\"type\":\"BoxZoomTool\"},{\"attributes\":{\"data_source\":{\"id\":\"1506\"},\"glyph\":{\"id\":\"1507\"},\"hover_glyph\":null,\"muted_glyph\":null,\"nonselection_glyph\":{\"id\":\"1508\"},\"selection_glyph\":null,\"view\":{\"id\":\"1510\"}},\"id\":\"1509\",\"type\":\"GlyphRenderer\"},{\"attributes\":{\"end\":7.595,\"start\":-0.5950000000000001},\"id\":\"1467\",\"type\":\"Range1d\"},{\"attributes\":{},\"id\":\"1518\",\"type\":\"BasicTickFormatter\"},{\"attributes\":{\"text\":\"\"},\"id\":\"1463\",\"type\":\"Title\"},{\"attributes\":{\"button_type\":\"success\",\"icon\":null,\"js_event_callbacks\":{\"button_click\":[{\"id\":\"1512\"}]},\"label\":\"Next\",\"sizing_mode\":\"scale_width\",\"width_policy\":\"fit\"},\"id\":\"1511\",\"type\":\"Button\"},{\"attributes\":{\"fill_alpha\":{\"value\":0.1},\"fill_color\":{\"value\":\"steelblue\"},\"line_alpha\":{\"value\":0.1},\"line_color\":{\"value\":\"steelblue\"},\"size\":{\"units\":\"screen\",\"value\":8},\"x\":{\"field\":\"x\"},\"y\":{\"field\":\"y\"}},\"id\":\"1508\",\"type\":\"Circle\"},{\"attributes\":{},\"id\":\"1482\",\"type\":\"WheelZoomTool\"},{\"attributes\":{\"source\":{\"id\":\"1506\"}},\"id\":\"1510\",\"type\":\"CDSView\"},{\"attributes\":{},\"id\":\"1481\",\"type\":\"PanTool\"},{\"attributes\":{\"fill_color\":{\"value\":\"steelblue\"},\"line_color\":{\"value\":\"steelblue\"},\"size\":{\"units\":\"screen\",\"value\":8},\"x\":{\"field\":\"x\"},\"y\":{\"field\":\"y\"}},\"id\":\"1507\",\"type\":\"Circle\"},{\"attributes\":{\"background_fill_color\":null,\"below\":[{\"id\":\"1473\"}],\"border_fill_color\":null,\"center\":[{\"id\":\"1476\"},{\"id\":\"1480\"}],\"left\":[{\"id\":\"1477\"}],\"outline_line_color\":null,\"plot_height\":400,\"plot_width\":400,\"renderers\":[{\"id\":\"1504\"},{\"id\":\"1509\"}],\"title\":{\"id\":\"1463\"},\"toolbar\":{\"id\":\"1488\"},\"toolbar_location\":null,\"x_range\":{\"id\":\"1465\"},\"x_scale\":{\"id\":\"1469\"},\"y_range\":{\"id\":\"1467\"},\"y_scale\":{\"id\":\"1471\"}},\"id\":\"1462\",\"subtype\":\"Figure\",\"type\":\"Plot\"},{\"attributes\":{\"end\":5.425,\"start\":-0.42500000000000004},\"id\":\"1465\",\"type\":\"Range1d\"}],\"root_ids\":[\"1532\"]},\"title\":\"Bokeh Application\",\"version\":\"2.2.3\"}};\n",
       "  var render_items = [{\"docid\":\"e8963b15-cac8-4f4f-89f3-002d29f46a4f\",\"root_ids\":[\"1532\"],\"roots\":{\"1532\":\"b29635b1-325d-4e03-af23-9c85b739c11d\"}}];\n",
       "  root.Bokeh.embed.embed_items_notebook(docs_json, render_items);\n",
       "\n",
       "  }\n",
       "  if (root.Bokeh !== undefined) {\n",
       "    embed_document(root);\n",
       "  } else {\n",
       "    var attempts = 0;\n",
       "    var timer = setInterval(function(root) {\n",
       "      if (root.Bokeh !== undefined) {\n",
       "        clearInterval(timer);\n",
       "        embed_document(root);\n",
       "      } else {\n",
       "        attempts++;\n",
       "        if (attempts > 100) {\n",
       "          clearInterval(timer);\n",
       "          console.log(\"Bokeh: ERROR: Unable to run BokehJS code because BokehJS library is missing\");\n",
       "        }\n",
       "      }\n",
       "    }, 10, root)\n",
       "  }\n",
       "})(window);"
      ],
      "application/vnd.bokehjs_exec.v0+json": ""
     },
     "metadata": {
      "application/vnd.bokehjs_exec.v0+json": {
       "id": "1532"
      }
     },
     "output_type": "display_data"
    }
   ],
   "source": [
    "tour = plot_tsp_heuristic(nodes, G, heuristic='nearest_neighbor', initial=0)"
   ]
  },
  {
   "cell_type": "markdown",
   "metadata": {},
   "source": [
    "**Q4:** As you iterate through, examine the \"choices\" made by the algorithm at each step. What does it do well? What does it do poorly?\n",
    "\n",
    "**A:** <font color='blue'>It does better than random neighbor because it often moves to a node close to the one it is currently on. However, it can essentially box itself out of certain regions of the graph. In the end, it often has to make lengthy jumps to get nodes it missed along the way. </font>"
   ]
  },
  {
   "cell_type": "markdown",
   "metadata": {},
   "source": [
    "**Q5:** Run this a few times. Do you get the same tour every time? Why or why not?\n",
    "\n",
    "**A:** <font color='blue'>No, because if there are multiple choices for the closest node, one is chosen randomly.</font>"
   ]
  },
  {
   "cell_type": "markdown",
   "metadata": {},
   "source": [
    "Now, let's look at the nearest insertion heuristic."
   ]
  },
  {
   "cell_type": "code",
   "execution_count": 12,
   "metadata": {
    "scrolled": false
   },
   "outputs": [
    {
     "data": {
      "text/html": [
       "\n",
       "\n",
       "\n",
       "\n",
       "\n",
       "\n",
       "  <div class=\"bk-root\" id=\"95f5d63c-3c1d-475d-acd4-75fe3d37506b\" data-root-id=\"1711\"></div>\n"
      ]
     },
     "metadata": {},
     "output_type": "display_data"
    },
    {
     "data": {
      "application/javascript": [
       "(function(root) {\n",
       "  function embed_document(root) {\n",
       "    \n",
       "  var docs_json = {\"d0ac4d91-a62b-427c-95c1-01e8f1d4889e\":{\"roots\":{\"references\":[{\"attributes\":{\"children\":[[{\"id\":\"1641\"},0,0],[{\"id\":\"1694\"},1,0],[{\"id\":\"1695\"},2,0]]},\"id\":\"1711\",\"type\":\"GridBox\"},{\"attributes\":{\"data\":{\"costs\":[2.0,4.0,6.0,8.0,10.0,12.0,14.0,16.0,16.0,16.0,18.0,20.0,20.0,22.0,24.0,26.0,26.0,28.0,30.0,30.0,30.0,32.0,32.0,34.0,36.0,38.0,38.0,38.0,38.0,38.0,40.0,42.0,42.0,42.0,44.0,44.0,46.0,48.0,50.0,50.0,52.0,52.0,54.0,54.0,56.0,58.0,58.0,58.0],\"edges_x\":[[0.0,0.0,0.0],[0.0,0.0,0.0,0.0],[0.0,1.0,0.0,0.0,0.0],[0.0,0.0,1.0,0.0,0.0,0.0],[0.0,1.0,0.0,1.0,0.0,0.0,0.0],[0.0,1.0,0.0,0.0,1.0,0.0,0.0,0.0],[0.0,2.0,1.0,0.0,0.0,1.0,0.0,0.0,0.0],[0.0,2.0,1.0,2.0,0.0,0.0,1.0,0.0,0.0,0.0],[0.0,2.0,1.0,2.0,1.0,0.0,0.0,1.0,0.0,0.0,0.0],[0.0,2.0,1.0,2.0,2.0,1.0,0.0,0.0,1.0,0.0,0.0,0.0],[0.0,2.0,1.0,3.0,2.0,2.0,1.0,0.0,0.0,1.0,0.0,0.0,0.0],[0.0,2.0,1.0,4.0,3.0,2.0,2.0,1.0,0.0,0.0,1.0,0.0,0.0,0.0],[0.0,2.0,1.0,3.0,4.0,3.0,2.0,2.0,1.0,0.0,0.0,1.0,0.0,0.0,0.0],[0.0,2.0,1.0,3.0,5.0,4.0,3.0,2.0,2.0,1.0,0.0,0.0,1.0,0.0,0.0,0.0],[0.0,2.0,1.0,3.0,5.0,5.0,4.0,3.0,2.0,2.0,1.0,0.0,0.0,1.0,0.0,0.0,0.0],[0.0,2.0,1.0,3.0,5.0,5.0,4.0,3.0,2.0,2.0,1.0,0.0,0.0,0.0,1.0,0.0,0.0,0.0],[0.0,2.0,1.0,3.0,5.0,5.0,5.0,4.0,3.0,2.0,2.0,1.0,0.0,0.0,0.0,1.0,0.0,0.0,0.0],[0.0,2.0,1.0,3.0,5.0,5.0,5.0,4.0,3.0,3.0,2.0,2.0,1.0,0.0,0.0,0.0,1.0,0.0,0.0,0.0],[0.0,2.0,1.0,3.0,5.0,5.0,5.0,4.0,3.0,3.0,2.0,2.0,1.0,0.0,0.0,0.0,0.0,1.0,0.0,0.0,0.0],[0.0,2.0,1.0,3.0,5.0,5.0,5.0,4.0,3.0,3.0,2.0,2.0,1.0,1.0,0.0,0.0,0.0,0.0,1.0,0.0,0.0,0.0],[0.0,2.0,1.0,3.0,5.0,5.0,5.0,4.0,3.0,3.0,2.0,2.0,1.0,1.0,1.0,0.0,0.0,0.0,0.0,1.0,0.0,0.0,0.0],[0.0,2.0,1.0,3.0,5.0,5.0,5.0,4.0,3.0,3.0,2.0,2.0,1.0,2.0,1.0,1.0,0.0,0.0,0.0,0.0,1.0,0.0,0.0,0.0],[0.0,2.0,1.0,3.0,5.0,5.0,5.0,4.0,3.0,3.0,2.0,2.0,2.0,1.0,2.0,1.0,1.0,0.0,0.0,0.0,0.0,1.0,0.0,0.0,0.0],[0.0,2.0,1.0,3.0,5.0,5.0,5.0,4.0,3.0,3.0,2.0,2.0,2.0,1.0,2.0,2.0,1.0,1.0,0.0,0.0,0.0,0.0,1.0,0.0,0.0,0.0],[0.0,2.0,1.0,3.0,5.0,5.0,5.0,4.0,3.0,3.0,2.0,2.0,2.0,1.0,2.0,2.0,2.0,1.0,1.0,0.0,0.0,0.0,0.0,1.0,0.0,0.0,0.0],[0.0,2.0,1.0,3.0,5.0,5.0,5.0,4.0,3.0,3.0,2.0,2.0,2.0,1.0,3.0,2.0,2.0,2.0,1.0,1.0,0.0,0.0,0.0,0.0,1.0,0.0,0.0,0.0],[0.0,2.0,1.0,3.0,5.0,5.0,5.0,4.0,3.0,3.0,2.0,2.0,2.0,1.0,3.0,3.0,2.0,2.0,2.0,1.0,1.0,0.0,0.0,0.0,0.0,1.0,0.0,0.0,0.0],[0.0,2.0,1.0,3.0,5.0,5.0,5.0,4.0,4.0,3.0,3.0,2.0,2.0,2.0,1.0,3.0,3.0,2.0,2.0,2.0,1.0,1.0,0.0,0.0,0.0,0.0,1.0,0.0,0.0,0.0],[0.0,2.0,1.0,3.0,5.0,5.0,5.0,4.0,4.0,3.0,3.0,2.0,2.0,2.0,1.0,2.0,3.0,3.0,2.0,2.0,2.0,1.0,1.0,0.0,0.0,0.0,0.0,1.0,0.0,0.0,0.0],[0.0,2.0,1.0,3.0,5.0,5.0,5.0,4.0,4.0,3.0,3.0,2.0,2.0,2.0,1.0,2.0,3.0,3.0,3.0,2.0,2.0,2.0,1.0,1.0,0.0,0.0,0.0,0.0,1.0,0.0,0.0,0.0],[0.0,2.0,1.0,3.0,5.0,5.0,5.0,4.0,4.0,3.0,3.0,2.0,2.0,2.0,1.0,2.0,3.0,3.0,4.0,3.0,2.0,2.0,2.0,1.0,1.0,0.0,0.0,0.0,0.0,1.0,0.0,0.0,0.0],[0.0,2.0,1.0,3.0,5.0,5.0,5.0,4.0,4.0,3.0,3.0,2.0,2.0,2.0,1.0,2.0,3.0,3.0,5.0,4.0,3.0,2.0,2.0,2.0,1.0,1.0,0.0,0.0,0.0,0.0,1.0,0.0,0.0,0.0],[0.0,2.0,1.0,3.0,4.0,5.0,5.0,5.0,4.0,4.0,3.0,3.0,2.0,2.0,2.0,1.0,2.0,3.0,3.0,5.0,4.0,3.0,2.0,2.0,2.0,1.0,1.0,0.0,0.0,0.0,0.0,1.0,0.0,0.0,0.0],[0.0,2.0,1.0,3.0,4.0,5.0,5.0,5.0,4.0,4.0,3.0,3.0,2.0,2.0,2.0,1.0,1.0,2.0,3.0,3.0,5.0,4.0,3.0,2.0,2.0,2.0,1.0,1.0,0.0,0.0,0.0,0.0,1.0,0.0,0.0,0.0],[0.0,1.0,2.0,1.0,3.0,4.0,5.0,5.0,5.0,4.0,4.0,3.0,3.0,2.0,2.0,2.0,1.0,1.0,2.0,3.0,3.0,5.0,4.0,3.0,2.0,2.0,2.0,1.0,1.0,0.0,0.0,0.0,0.0,1.0,0.0,0.0,0.0],[0.0,1.0,2.0,1.0,3.0,4.0,5.0,5.0,5.0,4.0,4.0,3.0,3.0,2.0,2.0,2.0,1.0,1.0,2.0,3.0,3.0,5.0,5.0,4.0,3.0,2.0,2.0,2.0,1.0,1.0,0.0,0.0,0.0,0.0,1.0,0.0,0.0,0.0],[0.0,1.0,2.0,1.0,3.0,4.0,5.0,5.0,5.0,5.0,4.0,4.0,3.0,3.0,2.0,2.0,2.0,1.0,1.0,2.0,3.0,3.0,5.0,5.0,4.0,3.0,2.0,2.0,2.0,1.0,1.0,0.0,0.0,0.0,0.0,1.0,0.0,0.0,0.0],[0.0,1.0,2.0,1.0,3.0,4.0,5.0,5.0,5.0,5.0,4.0,4.0,3.0,3.0,3.0,2.0,2.0,2.0,1.0,1.0,2.0,3.0,3.0,5.0,5.0,4.0,3.0,2.0,2.0,2.0,1.0,1.0,0.0,0.0,0.0,0.0,1.0,0.0,0.0,0.0],[0.0,1.0,2.0,1.0,3.0,4.0,5.0,5.0,5.0,5.0,4.0,4.0,3.0,3.0,3.0,2.0,2.0,2.0,1.0,1.0,2.0,3.0,3.0,5.0,5.0,4.0,4.0,3.0,2.0,2.0,2.0,1.0,1.0,0.0,0.0,0.0,0.0,1.0,0.0,0.0,0.0],[0.0,1.0,2.0,1.0,3.0,4.0,5.0,5.0,5.0,5.0,4.0,4.0,3.0,3.0,3.0,2.0,2.0,2.0,1.0,1.0,2.0,3.0,3.0,4.0,5.0,5.0,4.0,4.0,3.0,2.0,2.0,2.0,1.0,1.0,0.0,0.0,0.0,0.0,1.0,0.0,0.0,0.0],[0.0,1.0,2.0,1.0,3.0,4.0,5.0,5.0,5.0,5.0,5.0,4.0,4.0,3.0,3.0,3.0,2.0,2.0,2.0,1.0,1.0,2.0,3.0,3.0,4.0,5.0,5.0,4.0,4.0,3.0,2.0,2.0,2.0,1.0,1.0,0.0,0.0,0.0,0.0,1.0,0.0,0.0,0.0],[0.0,1.0,2.0,1.0,3.0,4.0,5.0,5.0,5.0,5.0,5.0,4.0,4.0,3.0,3.0,3.0,2.0,2.0,2.0,1.0,1.0,2.0,3.0,3.0,4.0,5.0,5.0,5.0,4.0,4.0,3.0,2.0,2.0,2.0,1.0,1.0,0.0,0.0,0.0,0.0,1.0,0.0,0.0,0.0],[0.0,1.0,2.0,1.0,3.0,4.0,5.0,5.0,5.0,5.0,5.0,4.0,4.0,3.0,3.0,3.0,2.0,2.0,2.0,1.0,1.0,2.0,3.0,3.0,4.0,5.0,5.0,5.0,4.0,4.0,3.0,1.0,2.0,2.0,2.0,1.0,1.0,0.0,0.0,0.0,0.0,1.0,0.0,0.0,0.0],[0.0,1.0,2.0,1.0,3.0,4.0,5.0,5.0,5.0,5.0,5.0,4.0,4.0,3.0,3.0,3.0,2.0,2.0,2.0,1.0,1.0,2.0,3.0,3.0,4.0,5.0,5.0,5.0,4.0,4.0,3.0,3.0,1.0,2.0,2.0,2.0,1.0,1.0,0.0,0.0,0.0,0.0,1.0,0.0,0.0,0.0],[0.0,1.0,2.0,1.0,3.0,4.0,5.0,4.0,5.0,5.0,5.0,5.0,4.0,4.0,3.0,3.0,3.0,2.0,2.0,2.0,1.0,1.0,2.0,3.0,3.0,4.0,5.0,5.0,5.0,4.0,4.0,3.0,3.0,1.0,2.0,2.0,2.0,1.0,1.0,0.0,0.0,0.0,0.0,1.0,0.0,0.0,0.0],[0.0,1.0,2.0,1.0,3.0,4.0,5.0,4.0,5.0,5.0,5.0,5.0,4.0,4.0,3.0,3.0,3.0,2.0,2.0,2.0,1.0,1.0,2.0,3.0,3.0,4.0,5.0,5.0,5.0,4.0,4.0,3.0,3.0,0.0,1.0,2.0,2.0,2.0,1.0,1.0,0.0,0.0,0.0,0.0,1.0,0.0,0.0,0.0],[0.0,1.0,2.0,1.0,3.0,4.0,5.0,4.0,4.0,5.0,5.0,5.0,5.0,4.0,4.0,3.0,3.0,3.0,2.0,2.0,2.0,1.0,1.0,2.0,3.0,3.0,4.0,5.0,5.0,5.0,4.0,4.0,3.0,3.0,0.0,1.0,2.0,2.0,2.0,1.0,1.0,0.0,0.0,0.0,0.0,1.0,0.0,0.0,0.0],[0.0,1.0,2.0,1.0,3.0,4.0,5.0,4.0,4.0,5.0,5.0,5.0,5.0,4.0,4.0,3.0,3.0,3.0,2.0,2.0,2.0,1.0,1.0,2.0,3.0,3.0,4.0,5.0,5.0,5.0,4.0,4.0,3.0,3.0,0.0,1.0,2.0,2.0,2.0,1.0,1.0,0.0,0.0,0.0,0.0,1.0,0.0,0.0,0.0]],\"edges_y\":[[0.0,1.0,0.0],[0.0,2.0,1.0,0.0],[0.0,2.0,2.0,1.0,0.0],[0.0,3.0,2.0,2.0,1.0,0.0],[0.0,0.0,3.0,2.0,2.0,1.0,0.0],[0.0,0.0,4.0,3.0,2.0,2.0,1.0,0.0],[0.0,0.0,0.0,4.0,3.0,2.0,2.0,1.0,0.0],[0.0,0.0,0.0,2.0,4.0,3.0,2.0,2.0,1.0,0.0],[0.0,0.0,0.0,2.0,3.0,4.0,3.0,2.0,2.0,1.0,0.0],[0.0,0.0,0.0,1.0,2.0,3.0,4.0,3.0,2.0,2.0,1.0,0.0],[0.0,0.0,0.0,1.0,1.0,2.0,3.0,4.0,3.0,2.0,2.0,1.0,0.0],[0.0,0.0,0.0,1.0,1.0,1.0,2.0,3.0,4.0,3.0,2.0,2.0,1.0,0.0],[0.0,0.0,0.0,0.0,1.0,1.0,1.0,2.0,3.0,4.0,3.0,2.0,2.0,1.0,0.0],[0.0,0.0,0.0,0.0,1.0,1.0,1.0,1.0,2.0,3.0,4.0,3.0,2.0,2.0,1.0,0.0],[0.0,0.0,0.0,0.0,2.0,1.0,1.0,1.0,1.0,2.0,3.0,4.0,3.0,2.0,2.0,1.0,0.0],[0.0,0.0,0.0,0.0,2.0,1.0,1.0,1.0,1.0,2.0,3.0,5.0,4.0,3.0,2.0,2.0,1.0,0.0],[0.0,0.0,0.0,0.0,0.0,2.0,1.0,1.0,1.0,1.0,2.0,3.0,5.0,4.0,3.0,2.0,2.0,1.0,0.0],[0.0,0.0,0.0,0.0,0.0,2.0,1.0,1.0,2.0,1.0,1.0,2.0,3.0,5.0,4.0,3.0,2.0,2.0,1.0,0.0],[0.0,0.0,0.0,0.0,0.0,2.0,1.0,1.0,2.0,1.0,1.0,2.0,3.0,6.0,5.0,4.0,3.0,2.0,2.0,1.0,0.0],[0.0,0.0,0.0,0.0,0.0,2.0,1.0,1.0,2.0,1.0,1.0,2.0,3.0,5.0,6.0,5.0,4.0,3.0,2.0,2.0,1.0,0.0],[0.0,0.0,0.0,0.0,0.0,2.0,1.0,1.0,2.0,1.0,1.0,2.0,3.0,5.0,6.0,6.0,5.0,4.0,3.0,2.0,2.0,1.0,0.0],[0.0,0.0,0.0,0.0,0.0,2.0,1.0,1.0,2.0,1.0,1.0,2.0,3.0,5.0,5.0,6.0,6.0,5.0,4.0,3.0,2.0,2.0,1.0,0.0],[0.0,0.0,0.0,0.0,0.0,2.0,1.0,1.0,2.0,1.0,1.0,2.0,3.0,3.0,5.0,5.0,6.0,6.0,5.0,4.0,3.0,2.0,2.0,1.0,0.0],[0.0,0.0,0.0,0.0,0.0,2.0,1.0,1.0,2.0,1.0,1.0,2.0,3.0,3.0,6.0,5.0,5.0,6.0,6.0,5.0,4.0,3.0,2.0,2.0,1.0,0.0],[0.0,0.0,0.0,0.0,0.0,2.0,1.0,1.0,2.0,1.0,1.0,2.0,3.0,3.0,7.0,6.0,5.0,5.0,6.0,6.0,5.0,4.0,3.0,2.0,2.0,1.0,0.0],[0.0,0.0,0.0,0.0,0.0,2.0,1.0,1.0,2.0,1.0,1.0,2.0,3.0,3.0,5.0,7.0,6.0,5.0,5.0,6.0,6.0,5.0,4.0,3.0,2.0,2.0,1.0,0.0],[0.0,0.0,0.0,0.0,0.0,2.0,1.0,1.0,2.0,1.0,1.0,2.0,3.0,3.0,5.0,6.0,7.0,6.0,5.0,5.0,6.0,6.0,5.0,4.0,3.0,2.0,2.0,1.0,0.0],[0.0,0.0,0.0,0.0,0.0,2.0,1.0,1.0,2.0,2.0,1.0,1.0,2.0,3.0,3.0,5.0,6.0,7.0,6.0,5.0,5.0,6.0,6.0,5.0,4.0,3.0,2.0,2.0,1.0,0.0],[0.0,0.0,0.0,0.0,0.0,2.0,1.0,1.0,2.0,2.0,1.0,1.0,2.0,3.0,3.0,4.0,5.0,6.0,7.0,6.0,5.0,5.0,6.0,6.0,5.0,4.0,3.0,2.0,2.0,1.0,0.0],[0.0,0.0,0.0,0.0,0.0,2.0,1.0,1.0,2.0,2.0,1.0,1.0,2.0,3.0,3.0,4.0,4.0,5.0,6.0,7.0,6.0,5.0,5.0,6.0,6.0,5.0,4.0,3.0,2.0,2.0,1.0,0.0],[0.0,0.0,0.0,0.0,0.0,2.0,1.0,1.0,2.0,2.0,1.0,1.0,2.0,3.0,3.0,4.0,4.0,5.0,6.0,6.0,7.0,6.0,5.0,5.0,6.0,6.0,5.0,4.0,3.0,2.0,2.0,1.0,0.0],[0.0,0.0,0.0,0.0,0.0,2.0,1.0,1.0,2.0,2.0,1.0,1.0,2.0,3.0,3.0,4.0,4.0,5.0,6.0,6.0,6.0,7.0,6.0,5.0,5.0,6.0,6.0,5.0,4.0,3.0,2.0,2.0,1.0,0.0],[0.0,0.0,0.0,0.0,0.0,0.0,2.0,1.0,1.0,2.0,2.0,1.0,1.0,2.0,3.0,3.0,4.0,4.0,5.0,6.0,6.0,6.0,7.0,6.0,5.0,5.0,6.0,6.0,5.0,4.0,3.0,2.0,2.0,1.0,0.0],[0.0,0.0,0.0,0.0,0.0,0.0,2.0,1.0,1.0,2.0,2.0,1.0,1.0,2.0,3.0,3.0,4.0,4.0,4.0,5.0,6.0,6.0,6.0,7.0,6.0,5.0,5.0,6.0,6.0,5.0,4.0,3.0,2.0,2.0,1.0,0.0],[0.0,1.0,0.0,0.0,0.0,0.0,0.0,2.0,1.0,1.0,2.0,2.0,1.0,1.0,2.0,3.0,3.0,4.0,4.0,4.0,5.0,6.0,6.0,6.0,7.0,6.0,5.0,5.0,6.0,6.0,5.0,4.0,3.0,2.0,2.0,1.0,0.0],[0.0,1.0,0.0,0.0,0.0,0.0,0.0,2.0,1.0,1.0,2.0,2.0,1.0,1.0,2.0,3.0,3.0,4.0,4.0,4.0,5.0,5.0,6.0,6.0,6.0,7.0,6.0,5.0,5.0,6.0,6.0,5.0,4.0,3.0,2.0,2.0,1.0,0.0],[0.0,1.0,0.0,0.0,0.0,0.0,0.0,3.0,2.0,1.0,1.0,2.0,2.0,1.0,1.0,2.0,3.0,3.0,4.0,4.0,4.0,5.0,5.0,6.0,6.0,6.0,7.0,6.0,5.0,5.0,6.0,6.0,5.0,4.0,3.0,2.0,2.0,1.0,0.0],[0.0,1.0,0.0,0.0,0.0,0.0,0.0,3.0,2.0,1.0,1.0,2.0,3.0,2.0,1.0,1.0,2.0,3.0,3.0,4.0,4.0,4.0,5.0,5.0,6.0,6.0,6.0,7.0,6.0,5.0,5.0,6.0,6.0,5.0,4.0,3.0,2.0,2.0,1.0,0.0],[0.0,1.0,0.0,0.0,0.0,0.0,0.0,3.0,2.0,1.0,1.0,2.0,3.0,2.0,1.0,1.0,2.0,3.0,3.0,4.0,4.0,4.0,5.0,5.0,6.0,7.0,6.0,6.0,7.0,6.0,5.0,5.0,6.0,6.0,5.0,4.0,3.0,2.0,2.0,1.0,0.0],[0.0,1.0,0.0,0.0,0.0,0.0,0.0,3.0,2.0,1.0,1.0,2.0,3.0,2.0,1.0,1.0,2.0,3.0,3.0,4.0,4.0,4.0,5.0,5.0,5.0,6.0,7.0,6.0,6.0,7.0,6.0,5.0,5.0,6.0,6.0,5.0,4.0,3.0,2.0,2.0,1.0,0.0],[0.0,1.0,0.0,0.0,0.0,0.0,0.0,4.0,3.0,2.0,1.0,1.0,2.0,3.0,2.0,1.0,1.0,2.0,3.0,3.0,4.0,4.0,4.0,5.0,5.0,5.0,6.0,7.0,6.0,6.0,7.0,6.0,5.0,5.0,6.0,6.0,5.0,4.0,3.0,2.0,2.0,1.0,0.0],[0.0,1.0,0.0,0.0,0.0,0.0,0.0,4.0,3.0,2.0,1.0,1.0,2.0,3.0,2.0,1.0,1.0,2.0,3.0,3.0,4.0,4.0,4.0,5.0,5.0,5.0,6.0,7.0,7.0,6.0,6.0,7.0,6.0,5.0,5.0,6.0,6.0,5.0,4.0,3.0,2.0,2.0,1.0,0.0],[0.0,1.0,0.0,0.0,0.0,0.0,0.0,4.0,3.0,2.0,1.0,1.0,2.0,3.0,2.0,1.0,1.0,2.0,3.0,3.0,4.0,4.0,4.0,5.0,5.0,5.0,6.0,7.0,7.0,6.0,6.0,7.0,7.0,6.0,5.0,5.0,6.0,6.0,5.0,4.0,3.0,2.0,2.0,1.0,0.0],[0.0,1.0,0.0,0.0,0.0,0.0,0.0,4.0,3.0,2.0,1.0,1.0,2.0,3.0,2.0,1.0,1.0,2.0,3.0,3.0,4.0,4.0,4.0,5.0,5.0,5.0,6.0,7.0,7.0,6.0,6.0,7.0,7.0,7.0,6.0,5.0,5.0,6.0,6.0,5.0,4.0,3.0,2.0,2.0,1.0,0.0],[0.0,1.0,0.0,0.0,0.0,0.0,0.0,4.0,4.0,3.0,2.0,1.0,1.0,2.0,3.0,2.0,1.0,1.0,2.0,3.0,3.0,4.0,4.0,4.0,5.0,5.0,5.0,6.0,7.0,7.0,6.0,6.0,7.0,7.0,7.0,6.0,5.0,5.0,6.0,6.0,5.0,4.0,3.0,2.0,2.0,1.0,0.0],[0.0,1.0,0.0,0.0,0.0,0.0,0.0,4.0,4.0,3.0,2.0,1.0,1.0,2.0,3.0,2.0,1.0,1.0,2.0,3.0,3.0,4.0,4.0,4.0,5.0,5.0,5.0,6.0,7.0,7.0,6.0,6.0,7.0,7.0,7.0,7.0,6.0,5.0,5.0,6.0,6.0,5.0,4.0,3.0,2.0,2.0,1.0,0.0],[0.0,1.0,0.0,0.0,0.0,0.0,0.0,3.0,4.0,4.0,3.0,2.0,1.0,1.0,2.0,3.0,2.0,1.0,1.0,2.0,3.0,3.0,4.0,4.0,4.0,5.0,5.0,5.0,6.0,7.0,7.0,6.0,6.0,7.0,7.0,7.0,7.0,6.0,5.0,5.0,6.0,6.0,5.0,4.0,3.0,2.0,2.0,1.0,0.0],[0.0,1.0,0.0,0.0,0.0,0.0,0.0,3.0,4.0,4.0,3.0,2.0,1.0,1.0,2.0,3.0,2.0,1.0,1.0,2.0,3.0,3.0,4.0,4.0,4.0,5.0,5.0,5.0,6.0,7.0,7.0,6.0,6.0,7.0,7.0,7.0,7.0,6.0,5.0,5.0,6.0,6.0,5.0,4.0,3.0,2.0,2.0,1.0,0.0]]},\"selected\":{\"id\":\"1710\"},\"selection_policy\":{\"id\":\"1709\"}},\"id\":\"1678\",\"type\":\"ColumnDataSource\"},{\"attributes\":{},\"id\":\"1648\",\"type\":\"LinearScale\"},{\"attributes\":{\"source\":{\"id\":\"1685\"}},\"id\":\"1689\",\"type\":\"CDSView\"},{\"attributes\":{},\"id\":\"1650\",\"type\":\"LinearScale\"},{\"attributes\":{\"button_type\":\"success\",\"icon\":null,\"js_event_callbacks\":{\"button_click\":[{\"id\":\"1691\"}]},\"label\":\"Next\",\"sizing_mode\":\"scale_width\",\"width_policy\":\"fit\"},\"id\":\"1690\",\"type\":\"Button\"},{\"attributes\":{\"formatter\":{\"id\":\"1697\"},\"ticker\":{\"id\":\"1653\"},\"visible\":false},\"id\":\"1652\",\"type\":\"LinearAxis\"},{\"attributes\":{\"args\":{\"cost\":{\"id\":\"1675\"},\"done\":{\"id\":\"1676\"},\"n\":{\"id\":\"1677\"},\"source\":{\"id\":\"1678\"},\"tour\":{\"id\":\"1679\"}},\"code\":\"\\nif ((parseInt(n.text) + 1) < source.data['edges_y'].length) {\\n    n.text = (parseInt(n.text) + 1).toString()\\n}\\nvar iteration = parseInt(n.text)\\n\\nif (iteration == source.data['edges_y'].length - 2) {\\n    iteration = iteration + 1\\n}\\n\\n    cost.text = source.data['costs'][iteration].toFixed(1)\\n    \\n    if (iteration == source.data['edges_y'].length - 1) {\\n        done.text = \\\"done.\\\"\\n    } else {\\n        done.text = \\\"\\\"\\n    }\\n\\n    tour.data['edges_x'] = source.data['edges_x'][iteration]\\n    tour.data['edges_y'] = source.data['edges_y'][iteration]\\n    tour.change.emit()\\n    \"},\"id\":\"1691\",\"type\":\"CustomJS\"},{\"attributes\":{\"button_type\":\"success\",\"icon\":null,\"js_event_callbacks\":{\"button_click\":[{\"id\":\"1693\"}]},\"label\":\"Previous\",\"sizing_mode\":\"scale_width\",\"width_policy\":\"fit\"},\"id\":\"1692\",\"type\":\"Button\"},{\"attributes\":{},\"id\":\"1653\",\"type\":\"BasicTicker\"},{\"attributes\":{\"axis\":{\"id\":\"1652\"},\"grid_line_color\":null,\"ticker\":null},\"id\":\"1655\",\"type\":\"Grid\"},{\"attributes\":{\"args\":{\"cost\":{\"id\":\"1675\"},\"done\":{\"id\":\"1676\"},\"n\":{\"id\":\"1677\"},\"source\":{\"id\":\"1678\"},\"tour\":{\"id\":\"1679\"}},\"code\":\"\\nif ((parseInt(n.text) - 1) >= 0) {\\n    n.text = (parseInt(n.text) - 1).toString()\\n}\\nvar iteration = parseInt(n.text)\\n\\nif (iteration == source.data['edges_y'].length - 2) {\\n    iteration = iteration - 1\\n}\\n\\n    cost.text = source.data['costs'][iteration].toFixed(1)\\n    \\n    if (iteration == source.data['edges_y'].length - 1) {\\n        done.text = \\\"done.\\\"\\n    } else {\\n        done.text = \\\"\\\"\\n    }\\n\\n    tour.data['edges_x'] = source.data['edges_x'][iteration]\\n    tour.data['edges_y'] = source.data['edges_y'][iteration]\\n    tour.change.emit()\\n    \"},\"id\":\"1693\",\"type\":\"CustomJS\"},{\"attributes\":{\"children\":[{\"id\":\"1692\"},{\"id\":\"1690\"}],\"max_width\":400,\"sizing_mode\":\"stretch_both\"},\"id\":\"1694\",\"type\":\"Row\"},{\"attributes\":{\"formatter\":{\"id\":\"1699\"},\"ticker\":{\"id\":\"1657\"},\"visible\":false},\"id\":\"1656\",\"type\":\"LinearAxis\"},{\"attributes\":{\"bottom_units\":\"screen\",\"fill_alpha\":0.5,\"fill_color\":\"lightgrey\",\"left_units\":\"screen\",\"level\":\"overlay\",\"line_alpha\":1.0,\"line_color\":\"black\",\"line_dash\":[4,4],\"line_width\":2,\"right_units\":\"screen\",\"top_units\":\"screen\"},\"id\":\"1666\",\"type\":\"BoxAnnotation\"},{\"attributes\":{\"children\":[{\"id\":\"1675\"},{\"id\":\"1676\"}]},\"id\":\"1695\",\"type\":\"Row\"},{\"attributes\":{},\"id\":\"1657\",\"type\":\"BasicTicker\"},{\"attributes\":{\"axis\":{\"id\":\"1656\"},\"dimension\":1,\"grid_line_color\":null,\"ticker\":null},\"id\":\"1659\",\"type\":\"Grid\"},{\"attributes\":{\"align\":\"center\",\"text\":\"2.0\",\"width\":200},\"id\":\"1675\",\"type\":\"Div\"},{\"attributes\":{\"data\":{\"edges_x\":[0.0,0.0,0.0],\"edges_y\":[0.0,1.0,0.0]},\"selected\":{\"id\":\"1702\"},\"selection_policy\":{\"id\":\"1701\"}},\"id\":\"1679\",\"type\":\"ColumnDataSource\"},{\"attributes\":{},\"id\":\"1697\",\"type\":\"BasicTickFormatter\"},{\"attributes\":{\"active_drag\":\"auto\",\"active_inspect\":\"auto\",\"active_multi\":null,\"active_scroll\":\"auto\",\"active_tap\":\"auto\",\"logo\":null,\"tools\":[{\"id\":\"1660\"},{\"id\":\"1661\"},{\"id\":\"1662\"},{\"id\":\"1663\"},{\"id\":\"1664\"},{\"id\":\"1665\"}]},\"id\":\"1667\",\"type\":\"Toolbar\"},{\"attributes\":{\"align\":\"center\",\"text\":\"0\",\"width\":400},\"id\":\"1677\",\"type\":\"Div\"},{\"attributes\":{\"align\":\"center\",\"width\":200},\"id\":\"1676\",\"type\":\"Div\"},{\"attributes\":{\"end\":5.425,\"start\":-0.42500000000000004},\"id\":\"1644\",\"type\":\"Range1d\"},{\"attributes\":{},\"id\":\"1699\",\"type\":\"BasicTickFormatter\"},{\"attributes\":{},\"id\":\"1701\",\"type\":\"UnionRenderers\"},{\"attributes\":{\"data_source\":{\"id\":\"1679\"},\"glyph\":{\"id\":\"1681\"},\"hover_glyph\":null,\"muted_glyph\":null,\"nonselection_glyph\":{\"id\":\"1682\"},\"selection_glyph\":null,\"view\":{\"id\":\"1684\"}},\"id\":\"1683\",\"type\":\"GlyphRenderer\"},{\"attributes\":{},\"id\":\"1660\",\"type\":\"PanTool\"},{\"attributes\":{\"line_width\":4,\"x\":{\"field\":\"edges_x\"},\"y\":{\"field\":\"edges_y\"}},\"id\":\"1681\",\"type\":\"Line\"},{\"attributes\":{},\"id\":\"1702\",\"type\":\"Selection\"},{\"attributes\":{},\"id\":\"1661\",\"type\":\"WheelZoomTool\"},{\"attributes\":{},\"id\":\"1703\",\"type\":\"UnionRenderers\"},{\"attributes\":{\"end\":7.595,\"start\":-0.5950000000000001},\"id\":\"1646\",\"type\":\"Range1d\"},{\"attributes\":{\"overlay\":{\"id\":\"1666\"}},\"id\":\"1662\",\"type\":\"BoxZoomTool\"},{\"attributes\":{\"background_fill_color\":null,\"below\":[{\"id\":\"1652\"}],\"border_fill_color\":null,\"center\":[{\"id\":\"1655\"},{\"id\":\"1659\"}],\"left\":[{\"id\":\"1656\"}],\"outline_line_color\":null,\"plot_height\":400,\"plot_width\":400,\"renderers\":[{\"id\":\"1683\"},{\"id\":\"1688\"}],\"title\":{\"id\":\"1642\"},\"toolbar\":{\"id\":\"1667\"},\"toolbar_location\":null,\"x_range\":{\"id\":\"1644\"},\"x_scale\":{\"id\":\"1648\"},\"y_range\":{\"id\":\"1646\"},\"y_scale\":{\"id\":\"1650\"}},\"id\":\"1641\",\"subtype\":\"Figure\",\"type\":\"Plot\"},{\"attributes\":{\"line_alpha\":0.1,\"line_width\":4,\"x\":{\"field\":\"edges_x\"},\"y\":{\"field\":\"edges_y\"}},\"id\":\"1682\",\"type\":\"Line\"},{\"attributes\":{},\"id\":\"1704\",\"type\":\"Selection\"},{\"attributes\":{\"source\":{\"id\":\"1679\"}},\"id\":\"1684\",\"type\":\"CDSView\"},{\"attributes\":{},\"id\":\"1663\",\"type\":\"SaveTool\"},{\"attributes\":{\"text\":\"\"},\"id\":\"1642\",\"type\":\"Title\"},{\"attributes\":{\"data\":{\"x\":[0.0,0.0,0.0,0.0,0.0,0.0,0.0,0.0,1.0,1.0,1.0,1.0,1.0,1.0,1.0,1.0,2.0,2.0,2.0,2.0,2.0,2.0,2.0,2.0,3.0,3.0,3.0,3.0,3.0,3.0,3.0,3.0,4.0,4.0,4.0,4.0,4.0,4.0,4.0,4.0,5.0,5.0,5.0,5.0,5.0,5.0,5.0,5.0],\"y\":[0.0,1.0,2.0,3.0,4.0,5.0,6.0,7.0,0.0,1.0,2.0,3.0,4.0,5.0,6.0,7.0,0.0,1.0,2.0,3.0,4.0,5.0,6.0,7.0,0.0,1.0,2.0,3.0,4.0,5.0,6.0,7.0,0.0,1.0,2.0,3.0,4.0,5.0,6.0,7.0,0.0,1.0,2.0,3.0,4.0,5.0,6.0,7.0]},\"selected\":{\"id\":\"1704\"},\"selection_policy\":{\"id\":\"1703\"}},\"id\":\"1685\",\"type\":\"ColumnDataSource\"},{\"attributes\":{},\"id\":\"1709\",\"type\":\"UnionRenderers\"},{\"attributes\":{},\"id\":\"1664\",\"type\":\"ResetTool\"},{\"attributes\":{},\"id\":\"1710\",\"type\":\"Selection\"},{\"attributes\":{\"fill_color\":{\"value\":\"steelblue\"},\"line_color\":{\"value\":\"steelblue\"},\"size\":{\"units\":\"screen\",\"value\":8},\"x\":{\"field\":\"x\"},\"y\":{\"field\":\"y\"}},\"id\":\"1686\",\"type\":\"Circle\"},{\"attributes\":{},\"id\":\"1665\",\"type\":\"HelpTool\"},{\"attributes\":{\"fill_alpha\":{\"value\":0.1},\"fill_color\":{\"value\":\"steelblue\"},\"line_alpha\":{\"value\":0.1},\"line_color\":{\"value\":\"steelblue\"},\"size\":{\"units\":\"screen\",\"value\":8},\"x\":{\"field\":\"x\"},\"y\":{\"field\":\"y\"}},\"id\":\"1687\",\"type\":\"Circle\"},{\"attributes\":{\"data_source\":{\"id\":\"1685\"},\"glyph\":{\"id\":\"1686\"},\"hover_glyph\":null,\"muted_glyph\":null,\"nonselection_glyph\":{\"id\":\"1687\"},\"selection_glyph\":null,\"view\":{\"id\":\"1689\"}},\"id\":\"1688\",\"type\":\"GlyphRenderer\"}],\"root_ids\":[\"1711\"]},\"title\":\"Bokeh Application\",\"version\":\"2.2.3\"}};\n",
       "  var render_items = [{\"docid\":\"d0ac4d91-a62b-427c-95c1-01e8f1d4889e\",\"root_ids\":[\"1711\"],\"roots\":{\"1711\":\"95f5d63c-3c1d-475d-acd4-75fe3d37506b\"}}];\n",
       "  root.Bokeh.embed.embed_items_notebook(docs_json, render_items);\n",
       "\n",
       "  }\n",
       "  if (root.Bokeh !== undefined) {\n",
       "    embed_document(root);\n",
       "  } else {\n",
       "    var attempts = 0;\n",
       "    var timer = setInterval(function(root) {\n",
       "      if (root.Bokeh !== undefined) {\n",
       "        clearInterval(timer);\n",
       "        embed_document(root);\n",
       "      } else {\n",
       "        attempts++;\n",
       "        if (attempts > 100) {\n",
       "          clearInterval(timer);\n",
       "          console.log(\"Bokeh: ERROR: Unable to run BokehJS code because BokehJS library is missing\");\n",
       "        }\n",
       "      }\n",
       "    }, 10, root)\n",
       "  }\n",
       "})(window);"
      ],
      "application/vnd.bokehjs_exec.v0+json": ""
     },
     "metadata": {
      "application/vnd.bokehjs_exec.v0+json": {
       "id": "1711"
      }
     },
     "output_type": "display_data"
    }
   ],
   "source": [
    "tour = plot_tsp_heuristic(nodes, G, heuristic='nearest_insertion', initial=[0,1,0])"
   ]
  },
  {
   "cell_type": "markdown",
   "metadata": {},
   "source": [
    "**Q6:** Run this a few times. How does is compare to the previous heuristics?\n",
    "\n",
    "**A:** <font color='blue'> This is the best heuristic yet. By starting with a small tour and expanding it, the boxing out issue nearest neighbor experienced is reduced. </font>"
   ]
  },
  {
   "cell_type": "markdown",
   "metadata": {},
   "source": [
    "Now, let's look at the furthest insertion heuristic."
   ]
  },
  {
   "cell_type": "code",
   "execution_count": 13,
   "metadata": {
    "scrolled": false
   },
   "outputs": [
    {
     "data": {
      "text/html": [
       "\n",
       "\n",
       "\n",
       "\n",
       "\n",
       "\n",
       "  <div class=\"bk-root\" id=\"316a45d6-dd4c-4439-a94a-f694babf1216\" data-root-id=\"1902\"></div>\n"
      ]
     },
     "metadata": {},
     "output_type": "display_data"
    },
    {
     "data": {
      "application/javascript": [
       "(function(root) {\n",
       "  function embed_document(root) {\n",
       "    \n",
       "  var docs_json = {\"c24fe428-ca98-43fe-b4d5-944ba69edf80\":{\"roots\":{\"references\":[{\"attributes\":{\"children\":[[{\"id\":\"1832\"},0,0],[{\"id\":\"1885\"},1,0],[{\"id\":\"1886\"},2,0]]},\"id\":\"1902\",\"type\":\"GridBox\"},{\"attributes\":{\"axis\":{\"id\":\"1843\"},\"grid_line_color\":null,\"ticker\":null},\"id\":\"1846\",\"type\":\"Grid\"},{\"attributes\":{\"args\":{\"cost\":{\"id\":\"1866\"},\"done\":{\"id\":\"1867\"},\"n\":{\"id\":\"1868\"},\"source\":{\"id\":\"1869\"},\"tour\":{\"id\":\"1870\"}},\"code\":\"\\nif ((parseInt(n.text) - 1) >= 0) {\\n    n.text = (parseInt(n.text) - 1).toString()\\n}\\nvar iteration = parseInt(n.text)\\n\\nif (iteration == source.data['edges_y'].length - 2) {\\n    iteration = iteration - 1\\n}\\n\\n    cost.text = source.data['costs'][iteration].toFixed(1)\\n    \\n    if (iteration == source.data['edges_y'].length - 1) {\\n        done.text = \\\"done.\\\"\\n    } else {\\n        done.text = \\\"\\\"\\n    }\\n\\n    tour.data['edges_x'] = source.data['edges_x'][iteration]\\n    tour.data['edges_y'] = source.data['edges_y'][iteration]\\n    tour.change.emit()\\n    \"},\"id\":\"1884\",\"type\":\"CustomJS\"},{\"attributes\":{\"end\":7.595,\"start\":-0.5950000000000001},\"id\":\"1837\",\"type\":\"Range1d\"},{\"attributes\":{\"bottom_units\":\"screen\",\"fill_alpha\":0.5,\"fill_color\":\"lightgrey\",\"left_units\":\"screen\",\"level\":\"overlay\",\"line_alpha\":1.0,\"line_color\":\"black\",\"line_dash\":[4,4],\"line_width\":2,\"right_units\":\"screen\",\"top_units\":\"screen\"},\"id\":\"1857\",\"type\":\"BoxAnnotation\"},{\"attributes\":{\"children\":[{\"id\":\"1883\"},{\"id\":\"1881\"}],\"max_width\":400,\"sizing_mode\":\"stretch_both\"},\"id\":\"1885\",\"type\":\"Row\"},{\"attributes\":{\"formatter\":{\"id\":\"1890\"},\"ticker\":{\"id\":\"1848\"},\"visible\":false},\"id\":\"1847\",\"type\":\"LinearAxis\"},{\"attributes\":{\"align\":\"center\",\"text\":\"0\",\"width\":400},\"id\":\"1868\",\"type\":\"Div\"},{\"attributes\":{},\"id\":\"1848\",\"type\":\"BasicTicker\"},{\"attributes\":{\"data\":{\"costs\":[24.0,24.0,24.0,26.0,28.0,28.0,34.0,34.0,36.0,38.0,38.0,40.0,40.0,40.0,42.0,44.0,44.0,44.0,44.0,44.0,46.0,46.0,46.0,46.0,46.0,46.0,46.0,46.0,48.0,48.0,48.0,48.0,48.0,48.0,48.0,50.0,52.0,52.0,54.0,54.0,54.0,54.0,54.0,56.0,58.0,60.0,62.0,62.0],\"edges_x\":[[0.0,5.0,0.0],[0.0,1.0,5.0,0.0],[0.0,1.0,5.0,5.0,0.0],[0.0,2.0,1.0,5.0,5.0,0.0],[0.0,2.0,1.0,4.0,5.0,5.0,0.0],[0.0,2.0,1.0,4.0,5.0,5.0,3.0,0.0],[0.0,2.0,0.0,1.0,4.0,5.0,5.0,3.0,0.0],[0.0,2.0,0.0,0.0,1.0,4.0,5.0,5.0,3.0,0.0],[0.0,2.0,0.0,0.0,1.0,3.0,4.0,5.0,5.0,3.0,0.0],[0.0,2.0,0.0,0.0,1.0,3.0,4.0,5.0,4.0,5.0,3.0,0.0],[0.0,2.0,0.0,0.0,1.0,3.0,4.0,5.0,5.0,4.0,5.0,3.0,0.0],[0.0,2.0,3.0,0.0,0.0,1.0,3.0,4.0,5.0,5.0,4.0,5.0,3.0,0.0],[0.0,2.0,3.0,0.0,0.0,1.0,3.0,4.0,5.0,5.0,5.0,4.0,5.0,3.0,0.0],[0.0,1.0,2.0,3.0,0.0,0.0,1.0,3.0,4.0,5.0,5.0,5.0,4.0,5.0,3.0,0.0],[0.0,1.0,2.0,3.0,0.0,0.0,2.0,1.0,3.0,4.0,5.0,5.0,5.0,4.0,5.0,3.0,0.0],[0.0,1.0,2.0,2.0,3.0,0.0,0.0,2.0,1.0,3.0,4.0,5.0,5.0,5.0,4.0,5.0,3.0,0.0],[0.0,1.0,2.0,2.0,3.0,0.0,0.0,2.0,2.0,1.0,3.0,4.0,5.0,5.0,5.0,4.0,5.0,3.0,0.0],[0.0,1.0,2.0,2.0,3.0,0.0,0.0,2.0,2.0,1.0,3.0,4.0,5.0,5.0,5.0,4.0,5.0,3.0,2.0,0.0],[0.0,1.0,2.0,2.0,3.0,0.0,0.0,2.0,2.0,2.0,1.0,3.0,4.0,5.0,5.0,5.0,4.0,5.0,3.0,2.0,0.0],[0.0,1.0,1.0,2.0,2.0,3.0,0.0,0.0,2.0,2.0,2.0,1.0,3.0,4.0,5.0,5.0,5.0,4.0,5.0,3.0,2.0,0.0],[0.0,0.0,1.0,1.0,2.0,2.0,3.0,0.0,0.0,2.0,2.0,2.0,1.0,3.0,4.0,5.0,5.0,5.0,4.0,5.0,3.0,2.0,0.0],[0.0,0.0,1.0,1.0,2.0,2.0,3.0,0.0,0.0,2.0,2.0,2.0,1.0,3.0,4.0,4.0,5.0,5.0,5.0,4.0,5.0,3.0,2.0,0.0],[0.0,0.0,1.0,1.0,2.0,2.0,3.0,0.0,0.0,0.0,2.0,2.0,2.0,1.0,3.0,4.0,4.0,5.0,5.0,5.0,4.0,5.0,3.0,2.0,0.0],[0.0,0.0,1.0,1.0,2.0,2.0,3.0,1.0,0.0,0.0,0.0,2.0,2.0,2.0,1.0,3.0,4.0,4.0,5.0,5.0,5.0,4.0,5.0,3.0,2.0,0.0],[0.0,0.0,1.0,1.0,2.0,2.0,3.0,1.0,0.0,0.0,0.0,2.0,2.0,2.0,1.0,3.0,3.0,4.0,4.0,5.0,5.0,5.0,4.0,5.0,3.0,2.0,0.0],[0.0,0.0,1.0,1.0,2.0,2.0,3.0,1.0,0.0,0.0,0.0,2.0,2.0,2.0,1.0,3.0,3.0,4.0,4.0,4.0,5.0,5.0,5.0,4.0,5.0,3.0,2.0,0.0],[0.0,0.0,1.0,1.0,2.0,2.0,3.0,1.0,0.0,0.0,0.0,2.0,2.0,2.0,1.0,3.0,3.0,4.0,4.0,4.0,5.0,5.0,5.0,4.0,5.0,4.0,3.0,2.0,0.0],[0.0,0.0,1.0,1.0,2.0,2.0,3.0,1.0,0.0,0.0,0.0,2.0,2.0,2.0,1.0,3.0,3.0,4.0,4.0,4.0,5.0,5.0,5.0,5.0,4.0,5.0,4.0,3.0,2.0,0.0],[0.0,0.0,1.0,1.0,3.0,2.0,2.0,3.0,1.0,0.0,0.0,0.0,2.0,2.0,2.0,1.0,3.0,3.0,4.0,4.0,4.0,5.0,5.0,5.0,5.0,4.0,5.0,4.0,3.0,2.0,0.0],[0.0,0.0,0.0,1.0,1.0,3.0,2.0,2.0,3.0,1.0,0.0,0.0,0.0,2.0,2.0,2.0,1.0,3.0,3.0,4.0,4.0,4.0,5.0,5.0,5.0,5.0,4.0,5.0,4.0,3.0,2.0,0.0],[0.0,0.0,0.0,1.0,1.0,3.0,2.0,2.0,3.0,1.0,0.0,0.0,0.0,0.0,2.0,2.0,2.0,1.0,3.0,3.0,4.0,4.0,4.0,5.0,5.0,5.0,5.0,4.0,5.0,4.0,3.0,2.0,0.0],[0.0,0.0,0.0,1.0,1.0,3.0,2.0,2.0,3.0,3.0,1.0,0.0,0.0,0.0,0.0,2.0,2.0,2.0,1.0,3.0,3.0,4.0,4.0,4.0,5.0,5.0,5.0,5.0,4.0,5.0,4.0,3.0,2.0,0.0],[0.0,0.0,0.0,1.0,1.0,3.0,2.0,2.0,3.0,3.0,1.0,0.0,0.0,0.0,0.0,2.0,2.0,2.0,1.0,3.0,3.0,4.0,4.0,4.0,5.0,5.0,5.0,5.0,5.0,4.0,5.0,4.0,3.0,2.0,0.0],[0.0,0.0,0.0,1.0,1.0,3.0,2.0,2.0,3.0,3.0,1.0,0.0,0.0,0.0,0.0,0.0,2.0,2.0,2.0,1.0,3.0,3.0,4.0,4.0,4.0,5.0,5.0,5.0,5.0,5.0,4.0,5.0,4.0,3.0,2.0,0.0],[0.0,0.0,0.0,1.0,1.0,3.0,2.0,2.0,3.0,3.0,1.0,0.0,0.0,0.0,0.0,0.0,2.0,2.0,2.0,1.0,3.0,3.0,4.0,4.0,4.0,5.0,5.0,5.0,5.0,5.0,5.0,4.0,5.0,4.0,3.0,2.0,0.0],[0.0,0.0,0.0,1.0,1.0,3.0,2.0,2.0,3.0,3.0,1.0,0.0,0.0,0.0,0.0,0.0,3.0,2.0,2.0,2.0,1.0,3.0,3.0,4.0,4.0,4.0,5.0,5.0,5.0,5.0,5.0,5.0,4.0,5.0,4.0,3.0,2.0,0.0],[0.0,0.0,0.0,1.0,1.0,3.0,2.0,2.0,3.0,4.0,3.0,1.0,0.0,0.0,0.0,0.0,0.0,3.0,2.0,2.0,2.0,1.0,3.0,3.0,4.0,4.0,4.0,5.0,5.0,5.0,5.0,5.0,5.0,4.0,5.0,4.0,3.0,2.0,0.0],[0.0,0.0,0.0,1.0,1.0,3.0,2.0,2.0,3.0,4.0,3.0,1.0,0.0,0.0,0.0,0.0,0.0,3.0,2.0,2.0,2.0,1.0,3.0,3.0,4.0,4.0,4.0,5.0,5.0,5.0,5.0,5.0,5.0,4.0,5.0,5.0,4.0,3.0,2.0,0.0],[0.0,0.0,0.0,2.0,1.0,1.0,3.0,2.0,2.0,3.0,4.0,3.0,1.0,0.0,0.0,0.0,0.0,0.0,3.0,2.0,2.0,2.0,1.0,3.0,3.0,4.0,4.0,4.0,5.0,5.0,5.0,5.0,5.0,5.0,4.0,5.0,5.0,4.0,3.0,2.0,0.0],[0.0,0.0,0.0,2.0,1.0,1.0,3.0,2.0,2.0,3.0,4.0,3.0,1.0,0.0,0.0,0.0,0.0,0.0,1.0,3.0,2.0,2.0,2.0,1.0,3.0,3.0,4.0,4.0,4.0,5.0,5.0,5.0,5.0,5.0,5.0,4.0,5.0,5.0,4.0,3.0,2.0,0.0],[0.0,0.0,0.0,2.0,1.0,1.0,3.0,2.0,2.0,3.0,4.0,3.0,1.0,0.0,0.0,0.0,0.0,0.0,1.0,3.0,2.0,2.0,2.0,1.0,3.0,3.0,4.0,4.0,4.0,5.0,5.0,5.0,5.0,5.0,5.0,4.0,5.0,5.0,4.0,3.0,2.0,1.0,0.0],[0.0,0.0,0.0,2.0,1.0,1.0,3.0,2.0,2.0,2.0,3.0,4.0,3.0,1.0,0.0,0.0,0.0,0.0,0.0,1.0,3.0,2.0,2.0,2.0,1.0,3.0,3.0,4.0,4.0,4.0,5.0,5.0,5.0,5.0,5.0,5.0,4.0,5.0,5.0,4.0,3.0,2.0,1.0,0.0],[0.0,0.0,0.0,2.0,1.0,1.0,3.0,2.0,2.0,2.0,3.0,4.0,3.0,1.0,0.0,0.0,0.0,0.0,0.0,1.0,3.0,2.0,2.0,2.0,1.0,3.0,3.0,4.0,4.0,4.0,5.0,5.0,5.0,5.0,5.0,5.0,4.0,4.0,5.0,5.0,4.0,3.0,2.0,1.0,0.0],[0.0,0.0,0.0,2.0,1.0,1.0,3.0,2.0,2.0,2.0,3.0,4.0,3.0,1.0,0.0,0.0,0.0,0.0,0.0,1.0,4.0,3.0,2.0,2.0,2.0,1.0,3.0,3.0,4.0,4.0,4.0,5.0,5.0,5.0,5.0,5.0,5.0,4.0,4.0,5.0,5.0,4.0,3.0,2.0,1.0,0.0],[0.0,0.0,0.0,3.0,2.0,1.0,1.0,3.0,2.0,2.0,2.0,3.0,4.0,3.0,1.0,0.0,0.0,0.0,0.0,0.0,1.0,4.0,3.0,2.0,2.0,2.0,1.0,3.0,3.0,4.0,4.0,4.0,5.0,5.0,5.0,5.0,5.0,5.0,4.0,4.0,5.0,5.0,4.0,3.0,2.0,1.0,0.0],[0.0,0.0,0.0,3.0,2.0,1.0,1.0,3.0,2.0,2.0,1.0,2.0,3.0,4.0,3.0,1.0,0.0,0.0,0.0,0.0,0.0,1.0,4.0,3.0,2.0,2.0,2.0,1.0,3.0,3.0,4.0,4.0,4.0,5.0,5.0,5.0,5.0,5.0,5.0,4.0,4.0,5.0,5.0,4.0,3.0,2.0,1.0,0.0],[0.0,0.0,0.0,3.0,2.0,1.0,1.0,3.0,2.0,2.0,1.0,2.0,3.0,4.0,3.0,1.0,0.0,0.0,0.0,1.0,0.0,0.0,1.0,4.0,3.0,2.0,2.0,2.0,1.0,3.0,3.0,4.0,4.0,4.0,5.0,5.0,5.0,5.0,5.0,5.0,4.0,4.0,5.0,5.0,4.0,3.0,2.0,1.0,0.0],[0.0,0.0,0.0,3.0,2.0,1.0,1.0,3.0,2.0,2.0,1.0,2.0,3.0,4.0,3.0,1.0,0.0,0.0,0.0,1.0,0.0,0.0,1.0,4.0,3.0,2.0,2.0,2.0,1.0,3.0,3.0,4.0,4.0,4.0,5.0,5.0,5.0,5.0,5.0,5.0,4.0,4.0,5.0,5.0,4.0,3.0,2.0,1.0,0.0]],\"edges_y\":[[0.0,7.0,0.0],[0.0,5.0,7.0,0.0],[0.0,5.0,7.0,1.0,0.0],[0.0,2.0,5.0,7.0,1.0,0.0],[0.0,2.0,5.0,4.0,7.0,1.0,0.0],[0.0,2.0,5.0,4.0,7.0,1.0,0.0,0.0],[0.0,2.0,7.0,5.0,4.0,7.0,1.0,0.0,0.0],[0.0,2.0,3.0,7.0,5.0,4.0,7.0,1.0,0.0,0.0],[0.0,2.0,3.0,7.0,5.0,6.0,4.0,7.0,1.0,0.0,0.0],[0.0,2.0,3.0,7.0,5.0,6.0,4.0,7.0,2.0,1.0,0.0,0.0],[0.0,2.0,3.0,7.0,5.0,6.0,4.0,5.0,7.0,2.0,1.0,0.0,0.0],[0.0,2.0,3.0,3.0,7.0,5.0,6.0,4.0,5.0,7.0,2.0,1.0,0.0,0.0],[0.0,2.0,3.0,3.0,7.0,5.0,6.0,4.0,5.0,7.0,3.0,2.0,1.0,0.0,0.0],[0.0,1.0,2.0,3.0,3.0,7.0,5.0,6.0,4.0,5.0,7.0,3.0,2.0,1.0,0.0,0.0],[0.0,1.0,2.0,3.0,3.0,7.0,7.0,5.0,6.0,4.0,5.0,7.0,3.0,2.0,1.0,0.0,0.0],[0.0,1.0,2.0,4.0,3.0,3.0,7.0,7.0,5.0,6.0,4.0,5.0,7.0,3.0,2.0,1.0,0.0,0.0],[0.0,1.0,2.0,4.0,3.0,3.0,7.0,7.0,6.0,5.0,6.0,4.0,5.0,7.0,3.0,2.0,1.0,0.0,0.0],[0.0,1.0,2.0,4.0,3.0,3.0,7.0,7.0,6.0,5.0,6.0,4.0,5.0,7.0,3.0,2.0,1.0,0.0,0.0,0.0],[0.0,1.0,2.0,4.0,3.0,3.0,7.0,7.0,6.0,5.0,5.0,6.0,4.0,5.0,7.0,3.0,2.0,1.0,0.0,0.0,0.0],[0.0,1.0,2.0,2.0,4.0,3.0,3.0,7.0,7.0,6.0,5.0,5.0,6.0,4.0,5.0,7.0,3.0,2.0,1.0,0.0,0.0,0.0],[0.0,2.0,1.0,2.0,2.0,4.0,3.0,3.0,7.0,7.0,6.0,5.0,5.0,6.0,4.0,5.0,7.0,3.0,2.0,1.0,0.0,0.0,0.0],[0.0,2.0,1.0,2.0,2.0,4.0,3.0,3.0,7.0,7.0,6.0,5.0,5.0,6.0,6.0,4.0,5.0,7.0,3.0,2.0,1.0,0.0,0.0,0.0],[0.0,2.0,1.0,2.0,2.0,4.0,3.0,3.0,5.0,7.0,7.0,6.0,5.0,5.0,6.0,6.0,4.0,5.0,7.0,3.0,2.0,1.0,0.0,0.0,0.0],[0.0,2.0,1.0,2.0,2.0,4.0,3.0,3.0,3.0,5.0,7.0,7.0,6.0,5.0,5.0,6.0,6.0,4.0,5.0,7.0,3.0,2.0,1.0,0.0,0.0,0.0],[0.0,2.0,1.0,2.0,2.0,4.0,3.0,3.0,3.0,5.0,7.0,7.0,6.0,5.0,5.0,5.0,6.0,6.0,4.0,5.0,7.0,3.0,2.0,1.0,0.0,0.0,0.0],[0.0,2.0,1.0,2.0,2.0,4.0,3.0,3.0,3.0,5.0,7.0,7.0,6.0,5.0,5.0,5.0,6.0,6.0,5.0,4.0,5.0,7.0,3.0,2.0,1.0,0.0,0.0,0.0],[0.0,2.0,1.0,2.0,2.0,4.0,3.0,3.0,3.0,5.0,7.0,7.0,6.0,5.0,5.0,5.0,6.0,6.0,5.0,4.0,5.0,7.0,3.0,2.0,1.0,0.0,0.0,0.0,0.0],[0.0,2.0,1.0,2.0,2.0,4.0,3.0,3.0,3.0,5.0,7.0,7.0,6.0,5.0,5.0,5.0,6.0,6.0,5.0,4.0,4.0,5.0,7.0,3.0,2.0,1.0,0.0,0.0,0.0,0.0],[0.0,2.0,1.0,2.0,2.0,2.0,4.0,3.0,3.0,3.0,5.0,7.0,7.0,6.0,5.0,5.0,5.0,6.0,6.0,5.0,4.0,4.0,5.0,7.0,3.0,2.0,1.0,0.0,0.0,0.0,0.0],[0.0,1.0,2.0,1.0,2.0,2.0,2.0,4.0,3.0,3.0,3.0,5.0,7.0,7.0,6.0,5.0,5.0,5.0,6.0,6.0,5.0,4.0,4.0,5.0,7.0,3.0,2.0,1.0,0.0,0.0,0.0,0.0],[0.0,1.0,2.0,1.0,2.0,2.0,2.0,4.0,3.0,3.0,3.0,4.0,5.0,7.0,7.0,6.0,5.0,5.0,5.0,6.0,6.0,5.0,4.0,4.0,5.0,7.0,3.0,2.0,1.0,0.0,0.0,0.0,0.0],[0.0,1.0,2.0,1.0,2.0,2.0,2.0,4.0,4.0,3.0,3.0,3.0,4.0,5.0,7.0,7.0,6.0,5.0,5.0,5.0,6.0,6.0,5.0,4.0,4.0,5.0,7.0,3.0,2.0,1.0,0.0,0.0,0.0,0.0],[0.0,1.0,2.0,1.0,2.0,2.0,2.0,4.0,4.0,3.0,3.0,3.0,4.0,5.0,7.0,7.0,6.0,5.0,5.0,5.0,6.0,6.0,5.0,4.0,4.0,5.0,6.0,7.0,3.0,2.0,1.0,0.0,0.0,0.0,0.0],[0.0,1.0,2.0,1.0,2.0,2.0,2.0,4.0,4.0,3.0,3.0,3.0,4.0,5.0,6.0,7.0,7.0,6.0,5.0,5.0,5.0,6.0,6.0,5.0,4.0,4.0,5.0,6.0,7.0,3.0,2.0,1.0,0.0,0.0,0.0,0.0],[0.0,1.0,2.0,1.0,2.0,2.0,2.0,4.0,4.0,3.0,3.0,3.0,4.0,5.0,6.0,7.0,7.0,6.0,5.0,5.0,5.0,6.0,6.0,5.0,4.0,4.0,5.0,6.0,7.0,3.0,2.0,2.0,1.0,0.0,0.0,0.0,0.0],[0.0,1.0,2.0,1.0,2.0,2.0,2.0,4.0,4.0,3.0,3.0,3.0,4.0,5.0,6.0,7.0,7.0,7.0,6.0,5.0,5.0,5.0,6.0,6.0,5.0,4.0,4.0,5.0,6.0,7.0,3.0,2.0,2.0,1.0,0.0,0.0,0.0,0.0],[0.0,1.0,2.0,1.0,2.0,2.0,2.0,4.0,4.0,3.0,3.0,3.0,3.0,4.0,5.0,6.0,7.0,7.0,7.0,6.0,5.0,5.0,5.0,6.0,6.0,5.0,4.0,4.0,5.0,6.0,7.0,3.0,2.0,2.0,1.0,0.0,0.0,0.0,0.0],[0.0,1.0,2.0,1.0,2.0,2.0,2.0,4.0,4.0,3.0,3.0,3.0,3.0,4.0,5.0,6.0,7.0,7.0,7.0,6.0,5.0,5.0,5.0,6.0,6.0,5.0,4.0,4.0,5.0,6.0,7.0,3.0,2.0,2.0,1.0,0.0,0.0,0.0,0.0,0.0],[0.0,1.0,2.0,1.0,1.0,2.0,2.0,2.0,4.0,4.0,3.0,3.0,3.0,3.0,4.0,5.0,6.0,7.0,7.0,7.0,6.0,5.0,5.0,5.0,6.0,6.0,5.0,4.0,4.0,5.0,6.0,7.0,3.0,2.0,2.0,1.0,0.0,0.0,0.0,0.0,0.0],[0.0,1.0,2.0,1.0,1.0,2.0,2.0,2.0,4.0,4.0,3.0,3.0,3.0,3.0,4.0,5.0,6.0,7.0,7.0,7.0,7.0,6.0,5.0,5.0,5.0,6.0,6.0,5.0,4.0,4.0,5.0,6.0,7.0,3.0,2.0,2.0,1.0,0.0,0.0,0.0,0.0,0.0],[0.0,1.0,2.0,1.0,1.0,2.0,2.0,2.0,4.0,4.0,3.0,3.0,3.0,3.0,4.0,5.0,6.0,7.0,7.0,7.0,7.0,6.0,5.0,5.0,5.0,6.0,6.0,5.0,4.0,4.0,5.0,6.0,7.0,3.0,2.0,2.0,1.0,0.0,0.0,0.0,0.0,0.0,0.0],[0.0,1.0,2.0,1.0,1.0,2.0,2.0,2.0,3.0,4.0,4.0,3.0,3.0,3.0,3.0,4.0,5.0,6.0,7.0,7.0,7.0,7.0,6.0,5.0,5.0,5.0,6.0,6.0,5.0,4.0,4.0,5.0,6.0,7.0,3.0,2.0,2.0,1.0,0.0,0.0,0.0,0.0,0.0,0.0],[0.0,1.0,2.0,1.0,1.0,2.0,2.0,2.0,3.0,4.0,4.0,3.0,3.0,3.0,3.0,4.0,5.0,6.0,7.0,7.0,7.0,7.0,6.0,5.0,5.0,5.0,6.0,6.0,5.0,4.0,4.0,5.0,6.0,7.0,3.0,2.0,2.0,1.0,1.0,0.0,0.0,0.0,0.0,0.0,0.0],[0.0,1.0,2.0,1.0,1.0,2.0,2.0,2.0,3.0,4.0,4.0,3.0,3.0,3.0,3.0,4.0,5.0,6.0,7.0,7.0,7.0,7.0,7.0,6.0,5.0,5.0,5.0,6.0,6.0,5.0,4.0,4.0,5.0,6.0,7.0,3.0,2.0,2.0,1.0,1.0,0.0,0.0,0.0,0.0,0.0,0.0],[0.0,1.0,2.0,1.0,1.0,1.0,2.0,2.0,2.0,3.0,4.0,4.0,3.0,3.0,3.0,3.0,4.0,5.0,6.0,7.0,7.0,7.0,7.0,7.0,6.0,5.0,5.0,5.0,6.0,6.0,5.0,4.0,4.0,5.0,6.0,7.0,3.0,2.0,2.0,1.0,1.0,0.0,0.0,0.0,0.0,0.0,0.0],[0.0,1.0,2.0,1.0,1.0,1.0,2.0,2.0,2.0,3.0,4.0,4.0,4.0,3.0,3.0,3.0,3.0,4.0,5.0,6.0,7.0,7.0,7.0,7.0,7.0,6.0,5.0,5.0,5.0,6.0,6.0,5.0,4.0,4.0,5.0,6.0,7.0,3.0,2.0,2.0,1.0,1.0,0.0,0.0,0.0,0.0,0.0,0.0],[0.0,1.0,2.0,1.0,1.0,1.0,2.0,2.0,2.0,3.0,4.0,4.0,4.0,3.0,3.0,3.0,3.0,4.0,5.0,6.0,6.0,7.0,7.0,7.0,7.0,7.0,6.0,5.0,5.0,5.0,6.0,6.0,5.0,4.0,4.0,5.0,6.0,7.0,3.0,2.0,2.0,1.0,1.0,0.0,0.0,0.0,0.0,0.0,0.0],[0.0,1.0,2.0,1.0,1.0,1.0,2.0,2.0,2.0,3.0,4.0,4.0,4.0,3.0,3.0,3.0,3.0,4.0,5.0,6.0,6.0,7.0,7.0,7.0,7.0,7.0,6.0,5.0,5.0,5.0,6.0,6.0,5.0,4.0,4.0,5.0,6.0,7.0,3.0,2.0,2.0,1.0,1.0,0.0,0.0,0.0,0.0,0.0,0.0]]},\"selected\":{\"id\":\"1901\"},\"selection_policy\":{\"id\":\"1900\"}},\"id\":\"1869\",\"type\":\"ColumnDataSource\"},{\"attributes\":{},\"id\":\"1893\",\"type\":\"Selection\"},{\"attributes\":{\"axis\":{\"id\":\"1847\"},\"dimension\":1,\"grid_line_color\":null,\"ticker\":null},\"id\":\"1850\",\"type\":\"Grid\"},{\"attributes\":{},\"id\":\"1894\",\"type\":\"UnionRenderers\"},{\"attributes\":{\"data\":{\"edges_x\":[0.0,5.0,0.0],\"edges_y\":[0.0,7.0,0.0]},\"selected\":{\"id\":\"1893\"},\"selection_policy\":{\"id\":\"1892\"}},\"id\":\"1870\",\"type\":\"ColumnDataSource\"},{\"attributes\":{\"align\":\"center\",\"width\":200},\"id\":\"1867\",\"type\":\"Div\"},{\"attributes\":{\"children\":[{\"id\":\"1866\"},{\"id\":\"1867\"}]},\"id\":\"1886\",\"type\":\"Row\"},{\"attributes\":{},\"id\":\"1895\",\"type\":\"Selection\"},{\"attributes\":{\"align\":\"center\",\"text\":\"24.0\",\"width\":200},\"id\":\"1866\",\"type\":\"Div\"},{\"attributes\":{},\"id\":\"1900\",\"type\":\"UnionRenderers\"},{\"attributes\":{\"data_source\":{\"id\":\"1870\"},\"glyph\":{\"id\":\"1872\"},\"hover_glyph\":null,\"muted_glyph\":null,\"nonselection_glyph\":{\"id\":\"1873\"},\"selection_glyph\":null,\"view\":{\"id\":\"1875\"}},\"id\":\"1874\",\"type\":\"GlyphRenderer\"},{\"attributes\":{},\"id\":\"1851\",\"type\":\"PanTool\"},{\"attributes\":{\"line_width\":4,\"x\":{\"field\":\"edges_x\"},\"y\":{\"field\":\"edges_y\"}},\"id\":\"1872\",\"type\":\"Line\"},{\"attributes\":{},\"id\":\"1901\",\"type\":\"Selection\"},{\"attributes\":{},\"id\":\"1852\",\"type\":\"WheelZoomTool\"},{\"attributes\":{\"overlay\":{\"id\":\"1857\"}},\"id\":\"1853\",\"type\":\"BoxZoomTool\"},{\"attributes\":{\"line_alpha\":0.1,\"line_width\":4,\"x\":{\"field\":\"edges_x\"},\"y\":{\"field\":\"edges_y\"}},\"id\":\"1873\",\"type\":\"Line\"},{\"attributes\":{\"source\":{\"id\":\"1870\"}},\"id\":\"1875\",\"type\":\"CDSView\"},{\"attributes\":{},\"id\":\"1854\",\"type\":\"SaveTool\"},{\"attributes\":{\"data\":{\"x\":[0.0,0.0,0.0,0.0,0.0,0.0,0.0,0.0,1.0,1.0,1.0,1.0,1.0,1.0,1.0,1.0,2.0,2.0,2.0,2.0,2.0,2.0,2.0,2.0,3.0,3.0,3.0,3.0,3.0,3.0,3.0,3.0,4.0,4.0,4.0,4.0,4.0,4.0,4.0,4.0,5.0,5.0,5.0,5.0,5.0,5.0,5.0,5.0],\"y\":[0.0,1.0,2.0,3.0,4.0,5.0,6.0,7.0,0.0,1.0,2.0,3.0,4.0,5.0,6.0,7.0,0.0,1.0,2.0,3.0,4.0,5.0,6.0,7.0,0.0,1.0,2.0,3.0,4.0,5.0,6.0,7.0,0.0,1.0,2.0,3.0,4.0,5.0,6.0,7.0,0.0,1.0,2.0,3.0,4.0,5.0,6.0,7.0]},\"selected\":{\"id\":\"1895\"},\"selection_policy\":{\"id\":\"1894\"}},\"id\":\"1876\",\"type\":\"ColumnDataSource\"},{\"attributes\":{\"formatter\":{\"id\":\"1888\"},\"ticker\":{\"id\":\"1844\"},\"visible\":false},\"id\":\"1843\",\"type\":\"LinearAxis\"},{\"attributes\":{\"text\":\"\"},\"id\":\"1833\",\"type\":\"Title\"},{\"attributes\":{},\"id\":\"1855\",\"type\":\"ResetTool\"},{\"attributes\":{},\"id\":\"1841\",\"type\":\"LinearScale\"},{\"attributes\":{\"data_source\":{\"id\":\"1876\"},\"glyph\":{\"id\":\"1877\"},\"hover_glyph\":null,\"muted_glyph\":null,\"nonselection_glyph\":{\"id\":\"1878\"},\"selection_glyph\":null,\"view\":{\"id\":\"1880\"}},\"id\":\"1879\",\"type\":\"GlyphRenderer\"},{\"attributes\":{},\"id\":\"1856\",\"type\":\"HelpTool\"},{\"attributes\":{},\"id\":\"1892\",\"type\":\"UnionRenderers\"},{\"attributes\":{\"active_drag\":\"auto\",\"active_inspect\":\"auto\",\"active_multi\":null,\"active_scroll\":\"auto\",\"active_tap\":\"auto\",\"logo\":null,\"tools\":[{\"id\":\"1851\"},{\"id\":\"1852\"},{\"id\":\"1853\"},{\"id\":\"1854\"},{\"id\":\"1855\"},{\"id\":\"1856\"}]},\"id\":\"1858\",\"type\":\"Toolbar\"},{\"attributes\":{\"button_type\":\"success\",\"icon\":null,\"js_event_callbacks\":{\"button_click\":[{\"id\":\"1882\"}]},\"label\":\"Next\",\"sizing_mode\":\"scale_width\",\"width_policy\":\"fit\"},\"id\":\"1881\",\"type\":\"Button\"},{\"attributes\":{\"fill_alpha\":{\"value\":0.1},\"fill_color\":{\"value\":\"steelblue\"},\"line_alpha\":{\"value\":0.1},\"line_color\":{\"value\":\"steelblue\"},\"size\":{\"units\":\"screen\",\"value\":8},\"x\":{\"field\":\"x\"},\"y\":{\"field\":\"y\"}},\"id\":\"1878\",\"type\":\"Circle\"},{\"attributes\":{\"source\":{\"id\":\"1876\"}},\"id\":\"1880\",\"type\":\"CDSView\"},{\"attributes\":{},\"id\":\"1888\",\"type\":\"BasicTickFormatter\"},{\"attributes\":{},\"id\":\"1844\",\"type\":\"BasicTicker\"},{\"attributes\":{},\"id\":\"1839\",\"type\":\"LinearScale\"},{\"attributes\":{\"fill_color\":{\"value\":\"steelblue\"},\"line_color\":{\"value\":\"steelblue\"},\"size\":{\"units\":\"screen\",\"value\":8},\"x\":{\"field\":\"x\"},\"y\":{\"field\":\"y\"}},\"id\":\"1877\",\"type\":\"Circle\"},{\"attributes\":{\"args\":{\"cost\":{\"id\":\"1866\"},\"done\":{\"id\":\"1867\"},\"n\":{\"id\":\"1868\"},\"source\":{\"id\":\"1869\"},\"tour\":{\"id\":\"1870\"}},\"code\":\"\\nif ((parseInt(n.text) + 1) < source.data['edges_y'].length) {\\n    n.text = (parseInt(n.text) + 1).toString()\\n}\\nvar iteration = parseInt(n.text)\\n\\nif (iteration == source.data['edges_y'].length - 2) {\\n    iteration = iteration + 1\\n}\\n\\n    cost.text = source.data['costs'][iteration].toFixed(1)\\n    \\n    if (iteration == source.data['edges_y'].length - 1) {\\n        done.text = \\\"done.\\\"\\n    } else {\\n        done.text = \\\"\\\"\\n    }\\n\\n    tour.data['edges_x'] = source.data['edges_x'][iteration]\\n    tour.data['edges_y'] = source.data['edges_y'][iteration]\\n    tour.change.emit()\\n    \"},\"id\":\"1882\",\"type\":\"CustomJS\"},{\"attributes\":{\"background_fill_color\":null,\"below\":[{\"id\":\"1843\"}],\"border_fill_color\":null,\"center\":[{\"id\":\"1846\"},{\"id\":\"1850\"}],\"left\":[{\"id\":\"1847\"}],\"outline_line_color\":null,\"plot_height\":400,\"plot_width\":400,\"renderers\":[{\"id\":\"1874\"},{\"id\":\"1879\"}],\"title\":{\"id\":\"1833\"},\"toolbar\":{\"id\":\"1858\"},\"toolbar_location\":null,\"x_range\":{\"id\":\"1835\"},\"x_scale\":{\"id\":\"1839\"},\"y_range\":{\"id\":\"1837\"},\"y_scale\":{\"id\":\"1841\"}},\"id\":\"1832\",\"subtype\":\"Figure\",\"type\":\"Plot\"},{\"attributes\":{\"button_type\":\"success\",\"icon\":null,\"js_event_callbacks\":{\"button_click\":[{\"id\":\"1884\"}]},\"label\":\"Previous\",\"sizing_mode\":\"scale_width\",\"width_policy\":\"fit\"},\"id\":\"1883\",\"type\":\"Button\"},{\"attributes\":{},\"id\":\"1890\",\"type\":\"BasicTickFormatter\"},{\"attributes\":{\"end\":5.425,\"start\":-0.42500000000000004},\"id\":\"1835\",\"type\":\"Range1d\"}],\"root_ids\":[\"1902\"]},\"title\":\"Bokeh Application\",\"version\":\"2.2.3\"}};\n",
       "  var render_items = [{\"docid\":\"c24fe428-ca98-43fe-b4d5-944ba69edf80\",\"root_ids\":[\"1902\"],\"roots\":{\"1902\":\"316a45d6-dd4c-4439-a94a-f694babf1216\"}}];\n",
       "  root.Bokeh.embed.embed_items_notebook(docs_json, render_items);\n",
       "\n",
       "  }\n",
       "  if (root.Bokeh !== undefined) {\n",
       "    embed_document(root);\n",
       "  } else {\n",
       "    var attempts = 0;\n",
       "    var timer = setInterval(function(root) {\n",
       "      if (root.Bokeh !== undefined) {\n",
       "        clearInterval(timer);\n",
       "        embed_document(root);\n",
       "      } else {\n",
       "        attempts++;\n",
       "        if (attempts > 100) {\n",
       "          clearInterval(timer);\n",
       "          console.log(\"Bokeh: ERROR: Unable to run BokehJS code because BokehJS library is missing\");\n",
       "        }\n",
       "      }\n",
       "    }, 10, root)\n",
       "  }\n",
       "})(window);"
      ],
      "application/vnd.bokehjs_exec.v0+json": ""
     },
     "metadata": {
      "application/vnd.bokehjs_exec.v0+json": {
       "id": "1902"
      }
     },
     "output_type": "display_data"
    }
   ],
   "source": [
    "tour = plot_tsp_heuristic(nodes, G, heuristic='furthest_insertion', initial=[0,len(G)-1,0])"
   ]
  },
  {
   "cell_type": "markdown",
   "metadata": {},
   "source": [
    "**Q7:** Run this a few times. How does is compare to the previous heuristics?\n",
    "\n",
    "**A:** <font color='blue'> This heuristic is comparable to nearest insertion although there may be certain circumstanes where one would be more likely to outperform the other. </font>"
   ]
  },
  {
   "cell_type": "markdown",
   "metadata": {},
   "source": [
    "To compare the heuristics further, lets run each on the 6x8 grid say, 250 times."
   ]
  },
  {
   "cell_type": "markdown",
   "metadata": {},
   "source": [
    "**Q8:** Now that you have seen each heuristic, which do you think will do the best and which will do the worst?\n",
    "\n",
    "**A:** <font color='blue'> Random neighbor will do the worst and either nearest or furthest insertion will do the best. </font>"
   ]
  },
  {
   "cell_type": "code",
   "execution_count": 14,
   "metadata": {},
   "outputs": [
    {
     "name": "stdout",
     "output_type": "stream",
     "text": [
      "Heuristic Averages:\n",
      "Random Neighbor: 223.4\n",
      "Nearest Neighbor: 63.16\n",
      "Nearest Insertion: 60.568\n",
      "Furthest Insertion: 57.744\n"
     ]
    }
   ],
   "source": [
    "n = 250\n",
    "random_neighbor_total = 0\n",
    "nearest_neighbor_total = 0\n",
    "nearest_insertion_total = 0\n",
    "furthest_insertion_total = 0\n",
    "for i in range(n):\n",
    "    random_neighbor_total += tour_cost(G, random_neighbor(G))\n",
    "    nearest_neighbor_total += tour_cost(G, nearest_neighbor(G))\n",
    "    nearest_insertion_total += tour_cost(G, nearest_insertion(G))\n",
    "    furthest_insertion_total += tour_cost(G, furthest_insertion(G))\n",
    "print(\"Heuristic Averages:\")\n",
    "print(\"Random Neighbor: %s\" % (random_neighbor_total / n))\n",
    "print(\"Nearest Neighbor: %s\" % (nearest_neighbor_total / n))\n",
    "print(\"Nearest Insertion: %s\" % (nearest_insertion_total / n))\n",
    "print(\"Furthest Insertion: %s\" % (furthest_insertion_total / n))"
   ]
  },
  {
   "cell_type": "markdown",
   "metadata": {},
   "source": [
    "**Q9:** What were the results? Was this what you expected?\n",
    "\n",
    "**A:** <font color='blue'> Random neighbor did significantly worse. Furthest insertion did the best with nearest insertion and nearest neighbor not to much worse. This was what I expected. </font>"
   ]
  },
  {
   "cell_type": "markdown",
   "metadata": {},
   "source": [
    "Let's look at 9x9 grid using the euclidian distance now. Run each of the cells below to see each heuristic executed on the new instance."
   ]
  },
  {
   "cell_type": "code",
   "execution_count": 15,
   "metadata": {},
   "outputs": [],
   "source": [
    "nodes, G = tsp_grid_instance(9,9,manhattan=False)"
   ]
  },
  {
   "cell_type": "code",
   "execution_count": 16,
   "metadata": {},
   "outputs": [
    {
     "data": {
      "text/html": [
       "\n",
       "\n",
       "\n",
       "\n",
       "\n",
       "\n",
       "  <div class=\"bk-root\" id=\"83e03f98-bb9c-424c-9ac4-05a44b6c4fc6\" data-root-id=\"2091\"></div>\n"
      ]
     },
     "metadata": {},
     "output_type": "display_data"
    },
    {
     "data": {
      "application/javascript": [
       "(function(root) {\n",
       "  function embed_document(root) {\n",
       "    \n",
       "  var docs_json = {\"42db91fe-e9f6-4a6e-9add-353a4871ed9d\":{\"roots\":{\"references\":[{\"attributes\":{\"children\":[[{\"id\":\"2035\"},0,0],[{\"id\":\"2069\"},1,0]]},\"id\":\"2091\",\"type\":\"GridBox\"},{\"attributes\":{\"line_width\":4,\"x\":{\"field\":\"x\"},\"y\":{\"field\":\"y\"}},\"id\":\"2071\",\"type\":\"Line\"},{\"attributes\":{},\"id\":\"2057\",\"type\":\"SaveTool\"},{\"attributes\":{},\"id\":\"2081\",\"type\":\"BasicTickFormatter\"},{\"attributes\":{\"data_source\":{\"id\":\"2070\"},\"glyph\":{\"id\":\"2071\"},\"hover_glyph\":null,\"muted_glyph\":null,\"nonselection_glyph\":{\"id\":\"2072\"},\"selection_glyph\":null,\"view\":{\"id\":\"2074\"}},\"id\":\"2073\",\"type\":\"GlyphRenderer\"},{\"attributes\":{\"overlay\":{\"id\":\"2060\"}},\"id\":\"2056\",\"type\":\"BoxZoomTool\"},{\"attributes\":{},\"id\":\"2083\",\"type\":\"BasicTickFormatter\"},{\"attributes\":{},\"id\":\"2087\",\"type\":\"UnionRenderers\"},{\"attributes\":{},\"id\":\"2058\",\"type\":\"ResetTool\"},{\"attributes\":{},\"id\":\"2086\",\"type\":\"Selection\"},{\"attributes\":{},\"id\":\"2059\",\"type\":\"HelpTool\"},{\"attributes\":{},\"id\":\"2055\",\"type\":\"WheelZoomTool\"},{\"attributes\":{},\"id\":\"2088\",\"type\":\"Selection\"},{\"attributes\":{},\"id\":\"2054\",\"type\":\"PanTool\"},{\"attributes\":{\"active_drag\":\"auto\",\"active_inspect\":\"auto\",\"active_multi\":null,\"active_scroll\":\"auto\",\"active_tap\":\"auto\",\"logo\":null,\"tools\":[{\"id\":\"2054\"},{\"id\":\"2055\"},{\"id\":\"2056\"},{\"id\":\"2057\"},{\"id\":\"2058\"},{\"id\":\"2059\"}]},\"id\":\"2061\",\"type\":\"Toolbar\"},{\"attributes\":{\"bottom_units\":\"screen\",\"fill_alpha\":0.5,\"fill_color\":\"lightgrey\",\"left_units\":\"screen\",\"level\":\"overlay\",\"line_alpha\":1.0,\"line_color\":\"black\",\"line_dash\":[4,4],\"line_width\":2,\"right_units\":\"screen\",\"top_units\":\"screen\"},\"id\":\"2060\",\"type\":\"BoxAnnotation\"},{\"attributes\":{\"axis\":{\"id\":\"2046\"},\"grid_line_color\":null,\"ticker\":null},\"id\":\"2049\",\"type\":\"Grid\"},{\"attributes\":{},\"id\":\"2044\",\"type\":\"LinearScale\"},{\"attributes\":{\"align\":\"center\",\"text\":\"368.1\",\"width\":400},\"id\":\"2069\",\"type\":\"Div\"},{\"attributes\":{\"formatter\":{\"id\":\"2081\"},\"ticker\":{\"id\":\"2047\"},\"visible\":false},\"id\":\"2046\",\"type\":\"LinearAxis\"},{\"attributes\":{},\"id\":\"2051\",\"type\":\"BasicTicker\"},{\"attributes\":{\"line_alpha\":0.1,\"line_width\":4,\"x\":{\"field\":\"x\"},\"y\":{\"field\":\"y\"}},\"id\":\"2072\",\"type\":\"Line\"},{\"attributes\":{},\"id\":\"2042\",\"type\":\"LinearScale\"},{\"attributes\":{\"source\":{\"id\":\"2070\"}},\"id\":\"2074\",\"type\":\"CDSView\"},{\"attributes\":{\"axis\":{\"id\":\"2050\"},\"dimension\":1,\"grid_line_color\":null,\"ticker\":null},\"id\":\"2053\",\"type\":\"Grid\"},{\"attributes\":{\"background_fill_color\":null,\"below\":[{\"id\":\"2046\"}],\"border_fill_color\":null,\"center\":[{\"id\":\"2049\"},{\"id\":\"2053\"}],\"left\":[{\"id\":\"2050\"}],\"outline_line_color\":null,\"plot_height\":400,\"plot_width\":400,\"renderers\":[{\"id\":\"2073\"},{\"id\":\"2078\"}],\"title\":{\"id\":\"2036\"},\"toolbar\":{\"id\":\"2061\"},\"toolbar_location\":null,\"x_range\":{\"id\":\"2038\"},\"x_scale\":{\"id\":\"2042\"},\"y_range\":{\"id\":\"2040\"},\"y_scale\":{\"id\":\"2044\"}},\"id\":\"2035\",\"subtype\":\"Figure\",\"type\":\"Plot\"},{\"attributes\":{\"data\":{\"x\":[0.0,0.0,0.0,0.0,0.0,0.0,0.0,0.0,0.0,1.0,1.0,1.0,1.0,1.0,1.0,1.0,1.0,1.0,2.0,2.0,2.0,2.0,2.0,2.0,2.0,2.0,2.0,3.0,3.0,3.0,3.0,3.0,3.0,3.0,3.0,3.0,4.0,4.0,4.0,4.0,4.0,4.0,4.0,4.0,4.0,5.0,5.0,5.0,5.0,5.0,5.0,5.0,5.0,5.0,6.0,6.0,6.0,6.0,6.0,6.0,6.0,6.0,6.0,7.0,7.0,7.0,7.0,7.0,7.0,7.0,7.0,7.0,8.0,8.0,8.0,8.0,8.0,8.0,8.0,8.0,8.0],\"y\":[0.0,1.0,2.0,3.0,4.0,5.0,6.0,7.0,8.0,0.0,1.0,2.0,3.0,4.0,5.0,6.0,7.0,8.0,0.0,1.0,2.0,3.0,4.0,5.0,6.0,7.0,8.0,0.0,1.0,2.0,3.0,4.0,5.0,6.0,7.0,8.0,0.0,1.0,2.0,3.0,4.0,5.0,6.0,7.0,8.0,0.0,1.0,2.0,3.0,4.0,5.0,6.0,7.0,8.0,0.0,1.0,2.0,3.0,4.0,5.0,6.0,7.0,8.0,0.0,1.0,2.0,3.0,4.0,5.0,6.0,7.0,8.0,0.0,1.0,2.0,3.0,4.0,5.0,6.0,7.0,8.0]},\"selected\":{\"id\":\"2088\"},\"selection_policy\":{\"id\":\"2087\"}},\"id\":\"2075\",\"type\":\"ColumnDataSource\"},{\"attributes\":{\"end\":8.68,\"start\":-0.68},\"id\":\"2038\",\"type\":\"Range1d\"},{\"attributes\":{\"end\":8.68,\"start\":-0.68},\"id\":\"2040\",\"type\":\"Range1d\"},{\"attributes\":{\"data\":{\"x\":[0.0,7.0,4.0,6.0,4.0,1.0,4.0,4.0,4.0,0.0,3.0,3.0,4.0,1.0,5.0,6.0,8.0,8.0,6.0,7.0,4.0,7.0,2.0,3.0,5.0,6.0,3.0,2.0,0.0,1.0,0.0,7.0,3.0,5.0,6.0,2.0,8.0,1.0,6.0,7.0,5.0,4.0,6.0,7.0,8.0,0.0,3.0,2.0,7.0,5.0,2.0,2.0,5.0,3.0,5.0,6.0,5.0,6.0,0.0,1.0,8.0,2.0,1.0,8.0,3.0,2.0,5.0,8.0,2.0,1.0,3.0,0.0,8.0,7.0,0.0,1.0,4.0,7.0,0.0,8.0,1.0,0.0],\"y\":[0.0,8.0,2.0,4.0,1.0,2.0,0.0,8.0,4.0,2.0,5.0,2.0,7.0,6.0,0.0,0.0,4.0,2.0,8.0,3.0,5.0,5.0,4.0,8.0,1.0,2.0,4.0,0.0,3.0,3.0,8.0,2.0,0.0,6.0,5.0,6.0,7.0,8.0,3.0,0.0,8.0,6.0,6.0,4.0,3.0,7.0,7.0,3.0,6.0,4.0,1.0,5.0,5.0,3.0,2.0,1.0,7.0,7.0,4.0,5.0,1.0,2.0,7.0,8.0,6.0,7.0,3.0,5.0,8.0,4.0,1.0,5.0,0.0,1.0,1.0,0.0,3.0,7.0,6.0,6.0,1.0,0.0]},\"selected\":{\"id\":\"2086\"},\"selection_policy\":{\"id\":\"2085\"}},\"id\":\"2070\",\"type\":\"ColumnDataSource\"},{\"attributes\":{},\"id\":\"2047\",\"type\":\"BasicTicker\"},{\"attributes\":{\"fill_alpha\":{\"value\":0.1},\"fill_color\":{\"value\":\"steelblue\"},\"line_alpha\":{\"value\":0.1},\"line_color\":{\"value\":\"steelblue\"},\"size\":{\"units\":\"screen\",\"value\":8},\"x\":{\"field\":\"x\"},\"y\":{\"field\":\"y\"}},\"id\":\"2077\",\"type\":\"Circle\"},{\"attributes\":{\"data_source\":{\"id\":\"2075\"},\"glyph\":{\"id\":\"2076\"},\"hover_glyph\":null,\"muted_glyph\":null,\"nonselection_glyph\":{\"id\":\"2077\"},\"selection_glyph\":null,\"view\":{\"id\":\"2079\"}},\"id\":\"2078\",\"type\":\"GlyphRenderer\"},{\"attributes\":{\"fill_color\":{\"value\":\"steelblue\"},\"line_color\":{\"value\":\"steelblue\"},\"size\":{\"units\":\"screen\",\"value\":8},\"x\":{\"field\":\"x\"},\"y\":{\"field\":\"y\"}},\"id\":\"2076\",\"type\":\"Circle\"},{\"attributes\":{\"formatter\":{\"id\":\"2083\"},\"ticker\":{\"id\":\"2051\"},\"visible\":false},\"id\":\"2050\",\"type\":\"LinearAxis\"},{\"attributes\":{},\"id\":\"2085\",\"type\":\"UnionRenderers\"},{\"attributes\":{\"source\":{\"id\":\"2075\"}},\"id\":\"2079\",\"type\":\"CDSView\"},{\"attributes\":{\"text\":\"\"},\"id\":\"2036\",\"type\":\"Title\"}],\"root_ids\":[\"2091\"]},\"title\":\"Bokeh Application\",\"version\":\"2.2.3\"}};\n",
       "  var render_items = [{\"docid\":\"42db91fe-e9f6-4a6e-9add-353a4871ed9d\",\"root_ids\":[\"2091\"],\"roots\":{\"2091\":\"83e03f98-bb9c-424c-9ac4-05a44b6c4fc6\"}}];\n",
       "  root.Bokeh.embed.embed_items_notebook(docs_json, render_items);\n",
       "\n",
       "  }\n",
       "  if (root.Bokeh !== undefined) {\n",
       "    embed_document(root);\n",
       "  } else {\n",
       "    var attempts = 0;\n",
       "    var timer = setInterval(function(root) {\n",
       "      if (root.Bokeh !== undefined) {\n",
       "        clearInterval(timer);\n",
       "        embed_document(root);\n",
       "      } else {\n",
       "        attempts++;\n",
       "        if (attempts > 100) {\n",
       "          clearInterval(timer);\n",
       "          console.log(\"Bokeh: ERROR: Unable to run BokehJS code because BokehJS library is missing\");\n",
       "        }\n",
       "      }\n",
       "    }, 10, root)\n",
       "  }\n",
       "})(window);"
      ],
      "application/vnd.bokehjs_exec.v0+json": ""
     },
     "metadata": {
      "application/vnd.bokehjs_exec.v0+json": {
       "id": "2091"
      }
     },
     "output_type": "display_data"
    }
   ],
   "source": [
    "plot_tour(nodes, G, random_neighbor(G))"
   ]
  },
  {
   "cell_type": "code",
   "execution_count": 17,
   "metadata": {},
   "outputs": [
    {
     "data": {
      "text/html": [
       "\n",
       "\n",
       "\n",
       "\n",
       "\n",
       "\n",
       "  <div class=\"bk-root\" id=\"6b6d2367-d528-4936-82d4-8ccf287f8f1c\" data-root-id=\"2294\"></div>\n"
      ]
     },
     "metadata": {},
     "output_type": "display_data"
    },
    {
     "data": {
      "application/javascript": [
       "(function(root) {\n",
       "  function embed_document(root) {\n",
       "    \n",
       "  var docs_json = {\"737e1ac8-5ded-49ad-93a4-c3b4036b454e\":{\"roots\":{\"references\":[{\"attributes\":{\"children\":[[{\"id\":\"2224\"},0,0],[{\"id\":\"2277\"},1,0],[{\"id\":\"2278\"},2,0]]},\"id\":\"2294\",\"type\":\"GridBox\"},{\"attributes\":{},\"id\":\"2243\",\"type\":\"PanTool\"},{\"attributes\":{},\"id\":\"2244\",\"type\":\"WheelZoomTool\"},{\"attributes\":{\"data\":{\"x\":[0.0,0.0,0.0,0.0,0.0,0.0,0.0,0.0,0.0,1.0,1.0,1.0,1.0,1.0,1.0,1.0,1.0,1.0,2.0,2.0,2.0,2.0,2.0,2.0,2.0,2.0,2.0,3.0,3.0,3.0,3.0,3.0,3.0,3.0,3.0,3.0,4.0,4.0,4.0,4.0,4.0,4.0,4.0,4.0,4.0,5.0,5.0,5.0,5.0,5.0,5.0,5.0,5.0,5.0,6.0,6.0,6.0,6.0,6.0,6.0,6.0,6.0,6.0,7.0,7.0,7.0,7.0,7.0,7.0,7.0,7.0,7.0,8.0,8.0,8.0,8.0,8.0,8.0,8.0,8.0,8.0],\"y\":[0.0,1.0,2.0,3.0,4.0,5.0,6.0,7.0,8.0,0.0,1.0,2.0,3.0,4.0,5.0,6.0,7.0,8.0,0.0,1.0,2.0,3.0,4.0,5.0,6.0,7.0,8.0,0.0,1.0,2.0,3.0,4.0,5.0,6.0,7.0,8.0,0.0,1.0,2.0,3.0,4.0,5.0,6.0,7.0,8.0,0.0,1.0,2.0,3.0,4.0,5.0,6.0,7.0,8.0,0.0,1.0,2.0,3.0,4.0,5.0,6.0,7.0,8.0,0.0,1.0,2.0,3.0,4.0,5.0,6.0,7.0,8.0,0.0,1.0,2.0,3.0,4.0,5.0,6.0,7.0,8.0]},\"selected\":{\"id\":\"2287\"},\"selection_policy\":{\"id\":\"2286\"}},\"id\":\"2268\",\"type\":\"ColumnDataSource\"},{\"attributes\":{},\"id\":\"2280\",\"type\":\"BasicTickFormatter\"},{\"attributes\":{},\"id\":\"2247\",\"type\":\"ResetTool\"},{\"attributes\":{\"args\":{\"cost\":{\"id\":\"2258\"},\"done\":{\"id\":\"2259\"},\"n\":{\"id\":\"2260\"},\"source\":{\"id\":\"2261\"},\"tour\":{\"id\":\"2262\"}},\"code\":\"\\nif ((parseInt(n.text) + 1) < source.data['edges_y'].length) {\\n    n.text = (parseInt(n.text) + 1).toString()\\n}\\nvar iteration = parseInt(n.text)\\n\\nif (iteration == source.data['edges_y'].length - 2) {\\n    iteration = iteration + 1\\n}\\n\\n    cost.text = source.data['costs'][iteration].toFixed(1)\\n    \\n    if (iteration == source.data['edges_y'].length - 1) {\\n        done.text = \\\"done.\\\"\\n    } else {\\n        done.text = \\\"\\\"\\n    }\\n\\n    tour.data['edges_x'] = source.data['edges_x'][iteration]\\n    tour.data['edges_y'] = source.data['edges_y'][iteration]\\n    tour.change.emit()\\n    \"},\"id\":\"2274\",\"type\":\"CustomJS\"},{\"attributes\":{},\"id\":\"2282\",\"type\":\"BasicTickFormatter\"},{\"attributes\":{\"args\":{\"cost\":{\"id\":\"2258\"},\"done\":{\"id\":\"2259\"},\"n\":{\"id\":\"2260\"},\"source\":{\"id\":\"2261\"},\"tour\":{\"id\":\"2262\"}},\"code\":\"\\nif ((parseInt(n.text) - 1) >= 0) {\\n    n.text = (parseInt(n.text) - 1).toString()\\n}\\nvar iteration = parseInt(n.text)\\n\\nif (iteration == source.data['edges_y'].length - 2) {\\n    iteration = iteration - 1\\n}\\n\\n    cost.text = source.data['costs'][iteration].toFixed(1)\\n    \\n    if (iteration == source.data['edges_y'].length - 1) {\\n        done.text = \\\"done.\\\"\\n    } else {\\n        done.text = \\\"\\\"\\n    }\\n\\n    tour.data['edges_x'] = source.data['edges_x'][iteration]\\n    tour.data['edges_y'] = source.data['edges_y'][iteration]\\n    tour.change.emit()\\n    \"},\"id\":\"2276\",\"type\":\"CustomJS\"},{\"attributes\":{},\"id\":\"2233\",\"type\":\"LinearScale\"},{\"attributes\":{\"end\":8.68,\"start\":-0.68},\"id\":\"2227\",\"type\":\"Range1d\"},{\"attributes\":{},\"id\":\"2284\",\"type\":\"UnionRenderers\"},{\"attributes\":{\"line_alpha\":0.1,\"line_width\":4,\"x\":{\"field\":\"edges_x\"},\"y\":{\"field\":\"edges_y\"}},\"id\":\"2265\",\"type\":\"Line\"},{\"attributes\":{\"active_drag\":\"auto\",\"active_inspect\":\"auto\",\"active_multi\":null,\"active_scroll\":\"auto\",\"active_tap\":\"auto\",\"logo\":null,\"tools\":[{\"id\":\"2243\"},{\"id\":\"2244\"},{\"id\":\"2245\"},{\"id\":\"2246\"},{\"id\":\"2247\"},{\"id\":\"2248\"}]},\"id\":\"2250\",\"type\":\"Toolbar\"},{\"attributes\":{\"fill_color\":{\"value\":\"steelblue\"},\"line_color\":{\"value\":\"steelblue\"},\"size\":{\"units\":\"screen\",\"value\":8},\"x\":{\"field\":\"x\"},\"y\":{\"field\":\"y\"}},\"id\":\"2269\",\"type\":\"Circle\"},{\"attributes\":{\"line_width\":4,\"x\":{\"field\":\"edges_x\"},\"y\":{\"field\":\"edges_y\"}},\"id\":\"2264\",\"type\":\"Line\"},{\"attributes\":{},\"id\":\"2285\",\"type\":\"Selection\"},{\"attributes\":{},\"id\":\"2286\",\"type\":\"UnionRenderers\"},{\"attributes\":{\"background_fill_color\":null,\"below\":[{\"id\":\"2235\"}],\"border_fill_color\":null,\"center\":[{\"id\":\"2238\"},{\"id\":\"2242\"}],\"left\":[{\"id\":\"2239\"}],\"outline_line_color\":null,\"plot_height\":400,\"plot_width\":400,\"renderers\":[{\"id\":\"2266\"},{\"id\":\"2271\"}],\"title\":{\"id\":\"2225\"},\"toolbar\":{\"id\":\"2250\"},\"toolbar_location\":null,\"x_range\":{\"id\":\"2227\"},\"x_scale\":{\"id\":\"2231\"},\"y_range\":{\"id\":\"2229\"},\"y_scale\":{\"id\":\"2233\"}},\"id\":\"2224\",\"subtype\":\"Figure\",\"type\":\"Plot\"},{\"attributes\":{\"text\":\"\"},\"id\":\"2225\",\"type\":\"Title\"},{\"attributes\":{},\"id\":\"2248\",\"type\":\"HelpTool\"},{\"attributes\":{\"end\":8.68,\"start\":-0.68},\"id\":\"2229\",\"type\":\"Range1d\"},{\"attributes\":{},\"id\":\"2246\",\"type\":\"SaveTool\"},{\"attributes\":{},\"id\":\"2287\",\"type\":\"Selection\"},{\"attributes\":{\"children\":[{\"id\":\"2258\"},{\"id\":\"2259\"}]},\"id\":\"2278\",\"type\":\"Row\"},{\"attributes\":{},\"id\":\"2292\",\"type\":\"UnionRenderers\"},{\"attributes\":{\"data\":{\"costs\":[0,1.0,2.0,3.0,4.0,5.0,6.0,7.0,8.0,9.0,10.0,11.0,12.0,13.0,14.0,15.0,16.0,17.0,18.0,19.0,20.0,22.23606797749979,23.23606797749979,24.23606797749979,25.23606797749979,28.23606797749979,29.23606797749979,30.23606797749979,31.23606797749979,32.236067977499786,33.236067977499786,34.236067977499786,35.236067977499786,36.236067977499786,37.236067977499786,38.236067977499786,39.236067977499786,40.236067977499786,41.236067977499786,42.236067977499786,43.236067977499786,44.236067977499786,45.236067977499786,47.236067977499786,48.236067977499786,49.236067977499786,50.236067977499786,51.236067977499786,52.236067977499786,53.236067977499786,54.236067977499786,55.236067977499786,56.236067977499786,57.236067977499786,58.236067977499786,59.236067977499786,60.236067977499786,61.236067977499786,62.65028153987288,63.65028153987288,64.65028153987288,65.65028153987288,66.65028153987288,67.65028153987288,70.81255920004126,71.81255920004126,72.81255920004126,73.81255920004126,78.81255920004126,79.81255920004126,80.81255920004126,83.04862717754105,84.04862717754105,85.04862717754105,86.04862717754105,87.04862717754105,88.04862717754105,89.04862717754105,90.04862717754105,92.04862717754105,93.04862717754105,103.04862717754105],\"edges_x\":[[0.0],[0.0,1.0],[0.0,1.0,2.0],[0.0,1.0,2.0,3.0],[0.0,1.0,2.0,3.0,4.0],[0.0,1.0,2.0,3.0,4.0,5.0],[0.0,1.0,2.0,3.0,4.0,5.0,6.0],[0.0,1.0,2.0,3.0,4.0,5.0,6.0,7.0],[0.0,1.0,2.0,3.0,4.0,5.0,6.0,7.0,7.0],[0.0,1.0,2.0,3.0,4.0,5.0,6.0,7.0,7.0,6.0],[0.0,1.0,2.0,3.0,4.0,5.0,6.0,7.0,7.0,6.0,6.0],[0.0,1.0,2.0,3.0,4.0,5.0,6.0,7.0,7.0,6.0,6.0,5.0],[0.0,1.0,2.0,3.0,4.0,5.0,6.0,7.0,7.0,6.0,6.0,5.0,5.0],[0.0,1.0,2.0,3.0,4.0,5.0,6.0,7.0,7.0,6.0,6.0,5.0,5.0,4.0],[0.0,1.0,2.0,3.0,4.0,5.0,6.0,7.0,7.0,6.0,6.0,5.0,5.0,4.0,4.0],[0.0,1.0,2.0,3.0,4.0,5.0,6.0,7.0,7.0,6.0,6.0,5.0,5.0,4.0,4.0,3.0],[0.0,1.0,2.0,3.0,4.0,5.0,6.0,7.0,7.0,6.0,6.0,5.0,5.0,4.0,4.0,3.0,2.0],[0.0,1.0,2.0,3.0,4.0,5.0,6.0,7.0,7.0,6.0,6.0,5.0,5.0,4.0,4.0,3.0,2.0,2.0],[0.0,1.0,2.0,3.0,4.0,5.0,6.0,7.0,7.0,6.0,6.0,5.0,5.0,4.0,4.0,3.0,2.0,2.0,3.0],[0.0,1.0,2.0,3.0,4.0,5.0,6.0,7.0,7.0,6.0,6.0,5.0,5.0,4.0,4.0,3.0,2.0,2.0,3.0,4.0],[0.0,1.0,2.0,3.0,4.0,5.0,6.0,7.0,7.0,6.0,6.0,5.0,5.0,4.0,4.0,3.0,2.0,2.0,3.0,4.0,5.0],[0.0,1.0,2.0,3.0,4.0,5.0,6.0,7.0,7.0,6.0,6.0,5.0,5.0,4.0,4.0,3.0,2.0,2.0,3.0,4.0,5.0,7.0],[0.0,1.0,2.0,3.0,4.0,5.0,6.0,7.0,7.0,6.0,6.0,5.0,5.0,4.0,4.0,3.0,2.0,2.0,3.0,4.0,5.0,7.0,8.0],[0.0,1.0,2.0,3.0,4.0,5.0,6.0,7.0,7.0,6.0,6.0,5.0,5.0,4.0,4.0,3.0,2.0,2.0,3.0,4.0,5.0,7.0,8.0,8.0],[0.0,1.0,2.0,3.0,4.0,5.0,6.0,7.0,7.0,6.0,6.0,5.0,5.0,4.0,4.0,3.0,2.0,2.0,3.0,4.0,5.0,7.0,8.0,8.0,8.0],[0.0,1.0,2.0,3.0,4.0,5.0,6.0,7.0,7.0,6.0,6.0,5.0,5.0,4.0,4.0,3.0,2.0,2.0,3.0,4.0,5.0,7.0,8.0,8.0,8.0,8.0],[0.0,1.0,2.0,3.0,4.0,5.0,6.0,7.0,7.0,6.0,6.0,5.0,5.0,4.0,4.0,3.0,2.0,2.0,3.0,4.0,5.0,7.0,8.0,8.0,8.0,8.0,7.0],[0.0,1.0,2.0,3.0,4.0,5.0,6.0,7.0,7.0,6.0,6.0,5.0,5.0,4.0,4.0,3.0,2.0,2.0,3.0,4.0,5.0,7.0,8.0,8.0,8.0,8.0,7.0,7.0],[0.0,1.0,2.0,3.0,4.0,5.0,6.0,7.0,7.0,6.0,6.0,5.0,5.0,4.0,4.0,3.0,2.0,2.0,3.0,4.0,5.0,7.0,8.0,8.0,8.0,8.0,7.0,7.0,7.0],[0.0,1.0,2.0,3.0,4.0,5.0,6.0,7.0,7.0,6.0,6.0,5.0,5.0,4.0,4.0,3.0,2.0,2.0,3.0,4.0,5.0,7.0,8.0,8.0,8.0,8.0,7.0,7.0,7.0,6.0],[0.0,1.0,2.0,3.0,4.0,5.0,6.0,7.0,7.0,6.0,6.0,5.0,5.0,4.0,4.0,3.0,2.0,2.0,3.0,4.0,5.0,7.0,8.0,8.0,8.0,8.0,7.0,7.0,7.0,6.0,6.0],[0.0,1.0,2.0,3.0,4.0,5.0,6.0,7.0,7.0,6.0,6.0,5.0,5.0,4.0,4.0,3.0,2.0,2.0,3.0,4.0,5.0,7.0,8.0,8.0,8.0,8.0,7.0,7.0,7.0,6.0,6.0,5.0],[0.0,1.0,2.0,3.0,4.0,5.0,6.0,7.0,7.0,6.0,6.0,5.0,5.0,4.0,4.0,3.0,2.0,2.0,3.0,4.0,5.0,7.0,8.0,8.0,8.0,8.0,7.0,7.0,7.0,6.0,6.0,5.0,5.0],[0.0,1.0,2.0,3.0,4.0,5.0,6.0,7.0,7.0,6.0,6.0,5.0,5.0,4.0,4.0,3.0,2.0,2.0,3.0,4.0,5.0,7.0,8.0,8.0,8.0,8.0,7.0,7.0,7.0,6.0,6.0,5.0,5.0,4.0],[0.0,1.0,2.0,3.0,4.0,5.0,6.0,7.0,7.0,6.0,6.0,5.0,5.0,4.0,4.0,3.0,2.0,2.0,3.0,4.0,5.0,7.0,8.0,8.0,8.0,8.0,7.0,7.0,7.0,6.0,6.0,5.0,5.0,4.0,4.0],[0.0,1.0,2.0,3.0,4.0,5.0,6.0,7.0,7.0,6.0,6.0,5.0,5.0,4.0,4.0,3.0,2.0,2.0,3.0,4.0,5.0,7.0,8.0,8.0,8.0,8.0,7.0,7.0,7.0,6.0,6.0,5.0,5.0,4.0,4.0,3.0],[0.0,1.0,2.0,3.0,4.0,5.0,6.0,7.0,7.0,6.0,6.0,5.0,5.0,4.0,4.0,3.0,2.0,2.0,3.0,4.0,5.0,7.0,8.0,8.0,8.0,8.0,7.0,7.0,7.0,6.0,6.0,5.0,5.0,4.0,4.0,3.0,2.0],[0.0,1.0,2.0,3.0,4.0,5.0,6.0,7.0,7.0,6.0,6.0,5.0,5.0,4.0,4.0,3.0,2.0,2.0,3.0,4.0,5.0,7.0,8.0,8.0,8.0,8.0,7.0,7.0,7.0,6.0,6.0,5.0,5.0,4.0,4.0,3.0,2.0,1.0],[0.0,1.0,2.0,3.0,4.0,5.0,6.0,7.0,7.0,6.0,6.0,5.0,5.0,4.0,4.0,3.0,2.0,2.0,3.0,4.0,5.0,7.0,8.0,8.0,8.0,8.0,7.0,7.0,7.0,6.0,6.0,5.0,5.0,4.0,4.0,3.0,2.0,1.0,0.0],[0.0,1.0,2.0,3.0,4.0,5.0,6.0,7.0,7.0,6.0,6.0,5.0,5.0,4.0,4.0,3.0,2.0,2.0,3.0,4.0,5.0,7.0,8.0,8.0,8.0,8.0,7.0,7.0,7.0,6.0,6.0,5.0,5.0,4.0,4.0,3.0,2.0,1.0,0.0,0.0],[0.0,1.0,2.0,3.0,4.0,5.0,6.0,7.0,7.0,6.0,6.0,5.0,5.0,4.0,4.0,3.0,2.0,2.0,3.0,4.0,5.0,7.0,8.0,8.0,8.0,8.0,7.0,7.0,7.0,6.0,6.0,5.0,5.0,4.0,4.0,3.0,2.0,1.0,0.0,0.0,1.0],[0.0,1.0,2.0,3.0,4.0,5.0,6.0,7.0,7.0,6.0,6.0,5.0,5.0,4.0,4.0,3.0,2.0,2.0,3.0,4.0,5.0,7.0,8.0,8.0,8.0,8.0,7.0,7.0,7.0,6.0,6.0,5.0,5.0,4.0,4.0,3.0,2.0,1.0,0.0,0.0,1.0,2.0],[0.0,1.0,2.0,3.0,4.0,5.0,6.0,7.0,7.0,6.0,6.0,5.0,5.0,4.0,4.0,3.0,2.0,2.0,3.0,4.0,5.0,7.0,8.0,8.0,8.0,8.0,7.0,7.0,7.0,6.0,6.0,5.0,5.0,4.0,4.0,3.0,2.0,1.0,0.0,0.0,1.0,2.0,3.0],[0.0,1.0,2.0,3.0,4.0,5.0,6.0,7.0,7.0,6.0,6.0,5.0,5.0,4.0,4.0,3.0,2.0,2.0,3.0,4.0,5.0,7.0,8.0,8.0,8.0,8.0,7.0,7.0,7.0,6.0,6.0,5.0,5.0,4.0,4.0,3.0,2.0,1.0,0.0,0.0,1.0,2.0,3.0,3.0],[0.0,1.0,2.0,3.0,4.0,5.0,6.0,7.0,7.0,6.0,6.0,5.0,5.0,4.0,4.0,3.0,2.0,2.0,3.0,4.0,5.0,7.0,8.0,8.0,8.0,8.0,7.0,7.0,7.0,6.0,6.0,5.0,5.0,4.0,4.0,3.0,2.0,1.0,0.0,0.0,1.0,2.0,3.0,3.0,3.0],[0.0,1.0,2.0,3.0,4.0,5.0,6.0,7.0,7.0,6.0,6.0,5.0,5.0,4.0,4.0,3.0,2.0,2.0,3.0,4.0,5.0,7.0,8.0,8.0,8.0,8.0,7.0,7.0,7.0,6.0,6.0,5.0,5.0,4.0,4.0,3.0,2.0,1.0,0.0,0.0,1.0,2.0,3.0,3.0,3.0,4.0],[0.0,1.0,2.0,3.0,4.0,5.0,6.0,7.0,7.0,6.0,6.0,5.0,5.0,4.0,4.0,3.0,2.0,2.0,3.0,4.0,5.0,7.0,8.0,8.0,8.0,8.0,7.0,7.0,7.0,6.0,6.0,5.0,5.0,4.0,4.0,3.0,2.0,1.0,0.0,0.0,1.0,2.0,3.0,3.0,3.0,4.0,4.0],[0.0,1.0,2.0,3.0,4.0,5.0,6.0,7.0,7.0,6.0,6.0,5.0,5.0,4.0,4.0,3.0,2.0,2.0,3.0,4.0,5.0,7.0,8.0,8.0,8.0,8.0,7.0,7.0,7.0,6.0,6.0,5.0,5.0,4.0,4.0,3.0,2.0,1.0,0.0,0.0,1.0,2.0,3.0,3.0,3.0,4.0,4.0,5.0],[0.0,1.0,2.0,3.0,4.0,5.0,6.0,7.0,7.0,6.0,6.0,5.0,5.0,4.0,4.0,3.0,2.0,2.0,3.0,4.0,5.0,7.0,8.0,8.0,8.0,8.0,7.0,7.0,7.0,6.0,6.0,5.0,5.0,4.0,4.0,3.0,2.0,1.0,0.0,0.0,1.0,2.0,3.0,3.0,3.0,4.0,4.0,5.0,5.0],[0.0,1.0,2.0,3.0,4.0,5.0,6.0,7.0,7.0,6.0,6.0,5.0,5.0,4.0,4.0,3.0,2.0,2.0,3.0,4.0,5.0,7.0,8.0,8.0,8.0,8.0,7.0,7.0,7.0,6.0,6.0,5.0,5.0,4.0,4.0,3.0,2.0,1.0,0.0,0.0,1.0,2.0,3.0,3.0,3.0,4.0,4.0,5.0,5.0,4.0],[0.0,1.0,2.0,3.0,4.0,5.0,6.0,7.0,7.0,6.0,6.0,5.0,5.0,4.0,4.0,3.0,2.0,2.0,3.0,4.0,5.0,7.0,8.0,8.0,8.0,8.0,7.0,7.0,7.0,6.0,6.0,5.0,5.0,4.0,4.0,3.0,2.0,1.0,0.0,0.0,1.0,2.0,3.0,3.0,3.0,4.0,4.0,5.0,5.0,4.0,3.0],[0.0,1.0,2.0,3.0,4.0,5.0,6.0,7.0,7.0,6.0,6.0,5.0,5.0,4.0,4.0,3.0,2.0,2.0,3.0,4.0,5.0,7.0,8.0,8.0,8.0,8.0,7.0,7.0,7.0,6.0,6.0,5.0,5.0,4.0,4.0,3.0,2.0,1.0,0.0,0.0,1.0,2.0,3.0,3.0,3.0,4.0,4.0,5.0,5.0,4.0,3.0,2.0],[0.0,1.0,2.0,3.0,4.0,5.0,6.0,7.0,7.0,6.0,6.0,5.0,5.0,4.0,4.0,3.0,2.0,2.0,3.0,4.0,5.0,7.0,8.0,8.0,8.0,8.0,7.0,7.0,7.0,6.0,6.0,5.0,5.0,4.0,4.0,3.0,2.0,1.0,0.0,0.0,1.0,2.0,3.0,3.0,3.0,4.0,4.0,5.0,5.0,4.0,3.0,2.0,1.0],[0.0,1.0,2.0,3.0,4.0,5.0,6.0,7.0,7.0,6.0,6.0,5.0,5.0,4.0,4.0,3.0,2.0,2.0,3.0,4.0,5.0,7.0,8.0,8.0,8.0,8.0,7.0,7.0,7.0,6.0,6.0,5.0,5.0,4.0,4.0,3.0,2.0,1.0,0.0,0.0,1.0,2.0,3.0,3.0,3.0,4.0,4.0,5.0,5.0,4.0,3.0,2.0,1.0,0.0],[0.0,1.0,2.0,3.0,4.0,5.0,6.0,7.0,7.0,6.0,6.0,5.0,5.0,4.0,4.0,3.0,2.0,2.0,3.0,4.0,5.0,7.0,8.0,8.0,8.0,8.0,7.0,7.0,7.0,6.0,6.0,5.0,5.0,4.0,4.0,3.0,2.0,1.0,0.0,0.0,1.0,2.0,3.0,3.0,3.0,4.0,4.0,5.0,5.0,4.0,3.0,2.0,1.0,0.0,0.0],[0.0,1.0,2.0,3.0,4.0,5.0,6.0,7.0,7.0,6.0,6.0,5.0,5.0,4.0,4.0,3.0,2.0,2.0,3.0,4.0,5.0,7.0,8.0,8.0,8.0,8.0,7.0,7.0,7.0,6.0,6.0,5.0,5.0,4.0,4.0,3.0,2.0,1.0,0.0,0.0,1.0,2.0,3.0,3.0,3.0,4.0,4.0,5.0,5.0,4.0,3.0,2.0,1.0,0.0,0.0,1.0],[0.0,1.0,2.0,3.0,4.0,5.0,6.0,7.0,7.0,6.0,6.0,5.0,5.0,4.0,4.0,3.0,2.0,2.0,3.0,4.0,5.0,7.0,8.0,8.0,8.0,8.0,7.0,7.0,7.0,6.0,6.0,5.0,5.0,4.0,4.0,3.0,2.0,1.0,0.0,0.0,1.0,2.0,3.0,3.0,3.0,4.0,4.0,5.0,5.0,4.0,3.0,2.0,1.0,0.0,0.0,1.0,2.0],[0.0,1.0,2.0,3.0,4.0,5.0,6.0,7.0,7.0,6.0,6.0,5.0,5.0,4.0,4.0,3.0,2.0,2.0,3.0,4.0,5.0,7.0,8.0,8.0,8.0,8.0,7.0,7.0,7.0,6.0,6.0,5.0,5.0,4.0,4.0,3.0,2.0,1.0,0.0,0.0,1.0,2.0,3.0,3.0,3.0,4.0,4.0,5.0,5.0,4.0,3.0,2.0,1.0,0.0,0.0,1.0,2.0,3.0],[0.0,1.0,2.0,3.0,4.0,5.0,6.0,7.0,7.0,6.0,6.0,5.0,5.0,4.0,4.0,3.0,2.0,2.0,3.0,4.0,5.0,7.0,8.0,8.0,8.0,8.0,7.0,7.0,7.0,6.0,6.0,5.0,5.0,4.0,4.0,3.0,2.0,1.0,0.0,0.0,1.0,2.0,3.0,3.0,3.0,4.0,4.0,5.0,5.0,4.0,3.0,2.0,1.0,0.0,0.0,1.0,2.0,3.0,2.0],[0.0,1.0,2.0,3.0,4.0,5.0,6.0,7.0,7.0,6.0,6.0,5.0,5.0,4.0,4.0,3.0,2.0,2.0,3.0,4.0,5.0,7.0,8.0,8.0,8.0,8.0,7.0,7.0,7.0,6.0,6.0,5.0,5.0,4.0,4.0,3.0,2.0,1.0,0.0,0.0,1.0,2.0,3.0,3.0,3.0,4.0,4.0,5.0,5.0,4.0,3.0,2.0,1.0,0.0,0.0,1.0,2.0,3.0,2.0,1.0],[0.0,1.0,2.0,3.0,4.0,5.0,6.0,7.0,7.0,6.0,6.0,5.0,5.0,4.0,4.0,3.0,2.0,2.0,3.0,4.0,5.0,7.0,8.0,8.0,8.0,8.0,7.0,7.0,7.0,6.0,6.0,5.0,5.0,4.0,4.0,3.0,2.0,1.0,0.0,0.0,1.0,2.0,3.0,3.0,3.0,4.0,4.0,5.0,5.0,4.0,3.0,2.0,1.0,0.0,0.0,1.0,2.0,3.0,2.0,1.0,0.0],[0.0,1.0,2.0,3.0,4.0,5.0,6.0,7.0,7.0,6.0,6.0,5.0,5.0,4.0,4.0,3.0,2.0,2.0,3.0,4.0,5.0,7.0,8.0,8.0,8.0,8.0,7.0,7.0,7.0,6.0,6.0,5.0,5.0,4.0,4.0,3.0,2.0,1.0,0.0,0.0,1.0,2.0,3.0,3.0,3.0,4.0,4.0,5.0,5.0,4.0,3.0,2.0,1.0,0.0,0.0,1.0,2.0,3.0,2.0,1.0,0.0,0.0],[0.0,1.0,2.0,3.0,4.0,5.0,6.0,7.0,7.0,6.0,6.0,5.0,5.0,4.0,4.0,3.0,2.0,2.0,3.0,4.0,5.0,7.0,8.0,8.0,8.0,8.0,7.0,7.0,7.0,6.0,6.0,5.0,5.0,4.0,4.0,3.0,2.0,1.0,0.0,0.0,1.0,2.0,3.0,3.0,3.0,4.0,4.0,5.0,5.0,4.0,3.0,2.0,1.0,0.0,0.0,1.0,2.0,3.0,2.0,1.0,0.0,0.0,1.0],[0.0,1.0,2.0,3.0,4.0,5.0,6.0,7.0,7.0,6.0,6.0,5.0,5.0,4.0,4.0,3.0,2.0,2.0,3.0,4.0,5.0,7.0,8.0,8.0,8.0,8.0,7.0,7.0,7.0,6.0,6.0,5.0,5.0,4.0,4.0,3.0,2.0,1.0,0.0,0.0,1.0,2.0,3.0,3.0,3.0,4.0,4.0,5.0,5.0,4.0,3.0,2.0,1.0,0.0,0.0,1.0,2.0,3.0,2.0,1.0,0.0,0.0,1.0,2.0],[0.0,1.0,2.0,3.0,4.0,5.0,6.0,7.0,7.0,6.0,6.0,5.0,5.0,4.0,4.0,3.0,2.0,2.0,3.0,4.0,5.0,7.0,8.0,8.0,8.0,8.0,7.0,7.0,7.0,6.0,6.0,5.0,5.0,4.0,4.0,3.0,2.0,1.0,0.0,0.0,1.0,2.0,3.0,3.0,3.0,4.0,4.0,5.0,5.0,4.0,3.0,2.0,1.0,0.0,0.0,1.0,2.0,3.0,2.0,1.0,0.0,0.0,1.0,2.0,1.0],[0.0,1.0,2.0,3.0,4.0,5.0,6.0,7.0,7.0,6.0,6.0,5.0,5.0,4.0,4.0,3.0,2.0,2.0,3.0,4.0,5.0,7.0,8.0,8.0,8.0,8.0,7.0,7.0,7.0,6.0,6.0,5.0,5.0,4.0,4.0,3.0,2.0,1.0,0.0,0.0,1.0,2.0,3.0,3.0,3.0,4.0,4.0,5.0,5.0,4.0,3.0,2.0,1.0,0.0,0.0,1.0,2.0,3.0,2.0,1.0,0.0,0.0,1.0,2.0,1.0,0.0],[0.0,1.0,2.0,3.0,4.0,5.0,6.0,7.0,7.0,6.0,6.0,5.0,5.0,4.0,4.0,3.0,2.0,2.0,3.0,4.0,5.0,7.0,8.0,8.0,8.0,8.0,7.0,7.0,7.0,6.0,6.0,5.0,5.0,4.0,4.0,3.0,2.0,1.0,0.0,0.0,1.0,2.0,3.0,3.0,3.0,4.0,4.0,5.0,5.0,4.0,3.0,2.0,1.0,0.0,0.0,1.0,2.0,3.0,2.0,1.0,0.0,0.0,1.0,2.0,1.0,0.0,0.0],[0.0,1.0,2.0,3.0,4.0,5.0,6.0,7.0,7.0,6.0,6.0,5.0,5.0,4.0,4.0,3.0,2.0,2.0,3.0,4.0,5.0,7.0,8.0,8.0,8.0,8.0,7.0,7.0,7.0,6.0,6.0,5.0,5.0,4.0,4.0,3.0,2.0,1.0,0.0,0.0,1.0,2.0,3.0,3.0,3.0,4.0,4.0,5.0,5.0,4.0,3.0,2.0,1.0,0.0,0.0,1.0,2.0,3.0,2.0,1.0,0.0,0.0,1.0,2.0,1.0,0.0,0.0,1.0],[0.0,1.0,2.0,3.0,4.0,5.0,6.0,7.0,7.0,6.0,6.0,5.0,5.0,4.0,4.0,3.0,2.0,2.0,3.0,4.0,5.0,7.0,8.0,8.0,8.0,8.0,7.0,7.0,7.0,6.0,6.0,5.0,5.0,4.0,4.0,3.0,2.0,1.0,0.0,0.0,1.0,2.0,3.0,3.0,3.0,4.0,4.0,5.0,5.0,4.0,3.0,2.0,1.0,0.0,0.0,1.0,2.0,3.0,2.0,1.0,0.0,0.0,1.0,2.0,1.0,0.0,0.0,1.0,5.0],[0.0,1.0,2.0,3.0,4.0,5.0,6.0,7.0,7.0,6.0,6.0,5.0,5.0,4.0,4.0,3.0,2.0,2.0,3.0,4.0,5.0,7.0,8.0,8.0,8.0,8.0,7.0,7.0,7.0,6.0,6.0,5.0,5.0,4.0,4.0,3.0,2.0,1.0,0.0,0.0,1.0,2.0,3.0,3.0,3.0,4.0,4.0,5.0,5.0,4.0,3.0,2.0,1.0,0.0,0.0,1.0,2.0,3.0,2.0,1.0,0.0,0.0,1.0,2.0,1.0,0.0,0.0,1.0,5.0,6.0],[0.0,1.0,2.0,3.0,4.0,5.0,6.0,7.0,7.0,6.0,6.0,5.0,5.0,4.0,4.0,3.0,2.0,2.0,3.0,4.0,5.0,7.0,8.0,8.0,8.0,8.0,7.0,7.0,7.0,6.0,6.0,5.0,5.0,4.0,4.0,3.0,2.0,1.0,0.0,0.0,1.0,2.0,3.0,3.0,3.0,4.0,4.0,5.0,5.0,4.0,3.0,2.0,1.0,0.0,0.0,1.0,2.0,3.0,2.0,1.0,0.0,0.0,1.0,2.0,1.0,0.0,0.0,1.0,5.0,6.0,6.0],[0.0,1.0,2.0,3.0,4.0,5.0,6.0,7.0,7.0,6.0,6.0,5.0,5.0,4.0,4.0,3.0,2.0,2.0,3.0,4.0,5.0,7.0,8.0,8.0,8.0,8.0,7.0,7.0,7.0,6.0,6.0,5.0,5.0,4.0,4.0,3.0,2.0,1.0,0.0,0.0,1.0,2.0,3.0,3.0,3.0,4.0,4.0,5.0,5.0,4.0,3.0,2.0,1.0,0.0,0.0,1.0,2.0,3.0,2.0,1.0,0.0,0.0,1.0,2.0,1.0,0.0,0.0,1.0,5.0,6.0,6.0,8.0],[0.0,1.0,2.0,3.0,4.0,5.0,6.0,7.0,7.0,6.0,6.0,5.0,5.0,4.0,4.0,3.0,2.0,2.0,3.0,4.0,5.0,7.0,8.0,8.0,8.0,8.0,7.0,7.0,7.0,6.0,6.0,5.0,5.0,4.0,4.0,3.0,2.0,1.0,0.0,0.0,1.0,2.0,3.0,3.0,3.0,4.0,4.0,5.0,5.0,4.0,3.0,2.0,1.0,0.0,0.0,1.0,2.0,3.0,2.0,1.0,0.0,0.0,1.0,2.0,1.0,0.0,0.0,1.0,5.0,6.0,6.0,8.0,8.0],[0.0,1.0,2.0,3.0,4.0,5.0,6.0,7.0,7.0,6.0,6.0,5.0,5.0,4.0,4.0,3.0,2.0,2.0,3.0,4.0,5.0,7.0,8.0,8.0,8.0,8.0,7.0,7.0,7.0,6.0,6.0,5.0,5.0,4.0,4.0,3.0,2.0,1.0,0.0,0.0,1.0,2.0,3.0,3.0,3.0,4.0,4.0,5.0,5.0,4.0,3.0,2.0,1.0,0.0,0.0,1.0,2.0,3.0,2.0,1.0,0.0,0.0,1.0,2.0,1.0,0.0,0.0,1.0,5.0,6.0,6.0,8.0,8.0,8.0],[0.0,1.0,2.0,3.0,4.0,5.0,6.0,7.0,7.0,6.0,6.0,5.0,5.0,4.0,4.0,3.0,2.0,2.0,3.0,4.0,5.0,7.0,8.0,8.0,8.0,8.0,7.0,7.0,7.0,6.0,6.0,5.0,5.0,4.0,4.0,3.0,2.0,1.0,0.0,0.0,1.0,2.0,3.0,3.0,3.0,4.0,4.0,5.0,5.0,4.0,3.0,2.0,1.0,0.0,0.0,1.0,2.0,3.0,2.0,1.0,0.0,0.0,1.0,2.0,1.0,0.0,0.0,1.0,5.0,6.0,6.0,8.0,8.0,8.0,7.0],[0.0,1.0,2.0,3.0,4.0,5.0,6.0,7.0,7.0,6.0,6.0,5.0,5.0,4.0,4.0,3.0,2.0,2.0,3.0,4.0,5.0,7.0,8.0,8.0,8.0,8.0,7.0,7.0,7.0,6.0,6.0,5.0,5.0,4.0,4.0,3.0,2.0,1.0,0.0,0.0,1.0,2.0,3.0,3.0,3.0,4.0,4.0,5.0,5.0,4.0,3.0,2.0,1.0,0.0,0.0,1.0,2.0,3.0,2.0,1.0,0.0,0.0,1.0,2.0,1.0,0.0,0.0,1.0,5.0,6.0,6.0,8.0,8.0,8.0,7.0,7.0],[0.0,1.0,2.0,3.0,4.0,5.0,6.0,7.0,7.0,6.0,6.0,5.0,5.0,4.0,4.0,3.0,2.0,2.0,3.0,4.0,5.0,7.0,8.0,8.0,8.0,8.0,7.0,7.0,7.0,6.0,6.0,5.0,5.0,4.0,4.0,3.0,2.0,1.0,0.0,0.0,1.0,2.0,3.0,3.0,3.0,4.0,4.0,5.0,5.0,4.0,3.0,2.0,1.0,0.0,0.0,1.0,2.0,3.0,2.0,1.0,0.0,0.0,1.0,2.0,1.0,0.0,0.0,1.0,5.0,6.0,6.0,8.0,8.0,8.0,7.0,7.0,7.0],[0.0,1.0,2.0,3.0,4.0,5.0,6.0,7.0,7.0,6.0,6.0,5.0,5.0,4.0,4.0,3.0,2.0,2.0,3.0,4.0,5.0,7.0,8.0,8.0,8.0,8.0,7.0,7.0,7.0,6.0,6.0,5.0,5.0,4.0,4.0,3.0,2.0,1.0,0.0,0.0,1.0,2.0,3.0,3.0,3.0,4.0,4.0,5.0,5.0,4.0,3.0,2.0,1.0,0.0,0.0,1.0,2.0,3.0,2.0,1.0,0.0,0.0,1.0,2.0,1.0,0.0,0.0,1.0,5.0,6.0,6.0,8.0,8.0,8.0,7.0,7.0,7.0,8.0],[0.0,1.0,2.0,3.0,4.0,5.0,6.0,7.0,7.0,6.0,6.0,5.0,5.0,4.0,4.0,3.0,2.0,2.0,3.0,4.0,5.0,7.0,8.0,8.0,8.0,8.0,7.0,7.0,7.0,6.0,6.0,5.0,5.0,4.0,4.0,3.0,2.0,1.0,0.0,0.0,1.0,2.0,3.0,3.0,3.0,4.0,4.0,5.0,5.0,4.0,3.0,2.0,1.0,0.0,0.0,1.0,2.0,3.0,2.0,1.0,0.0,0.0,1.0,2.0,1.0,0.0,0.0,1.0,5.0,6.0,6.0,8.0,8.0,8.0,7.0,7.0,7.0,8.0,8.0],[0.0,1.0,2.0,3.0,4.0,5.0,6.0,7.0,7.0,6.0,6.0,5.0,5.0,4.0,4.0,3.0,2.0,2.0,3.0,4.0,5.0,7.0,8.0,8.0,8.0,8.0,7.0,7.0,7.0,6.0,6.0,5.0,5.0,4.0,4.0,3.0,2.0,1.0,0.0,0.0,1.0,2.0,3.0,3.0,3.0,4.0,4.0,5.0,5.0,4.0,3.0,2.0,1.0,0.0,0.0,1.0,2.0,3.0,2.0,1.0,0.0,0.0,1.0,2.0,1.0,0.0,0.0,1.0,5.0,6.0,6.0,8.0,8.0,8.0,7.0,7.0,7.0,8.0,8.0,6.0],[0.0,1.0,2.0,3.0,4.0,5.0,6.0,7.0,7.0,6.0,6.0,5.0,5.0,4.0,4.0,3.0,2.0,2.0,3.0,4.0,5.0,7.0,8.0,8.0,8.0,8.0,7.0,7.0,7.0,6.0,6.0,5.0,5.0,4.0,4.0,3.0,2.0,1.0,0.0,0.0,1.0,2.0,3.0,3.0,3.0,4.0,4.0,5.0,5.0,4.0,3.0,2.0,1.0,0.0,0.0,1.0,2.0,3.0,2.0,1.0,0.0,0.0,1.0,2.0,1.0,0.0,0.0,1.0,5.0,6.0,6.0,8.0,8.0,8.0,7.0,7.0,7.0,8.0,8.0,6.0,6.0],[0.0,1.0,2.0,3.0,4.0,5.0,6.0,7.0,7.0,6.0,6.0,5.0,5.0,4.0,4.0,3.0,2.0,2.0,3.0,4.0,5.0,7.0,8.0,8.0,8.0,8.0,7.0,7.0,7.0,6.0,6.0,5.0,5.0,4.0,4.0,3.0,2.0,1.0,0.0,0.0,1.0,2.0,3.0,3.0,3.0,4.0,4.0,5.0,5.0,4.0,3.0,2.0,1.0,0.0,0.0,1.0,2.0,3.0,2.0,1.0,0.0,0.0,1.0,2.0,1.0,0.0,0.0,1.0,5.0,6.0,6.0,8.0,8.0,8.0,7.0,7.0,7.0,8.0,8.0,6.0,6.0,0.0]],\"edges_y\":[[0.0],[0.0,0.0],[0.0,0.0,0.0],[0.0,0.0,0.0,0.0],[0.0,0.0,0.0,0.0,0.0],[0.0,0.0,0.0,0.0,0.0,0.0],[0.0,0.0,0.0,0.0,0.0,0.0,0.0],[0.0,0.0,0.0,0.0,0.0,0.0,0.0,0.0],[0.0,0.0,0.0,0.0,0.0,0.0,0.0,0.0,1.0],[0.0,0.0,0.0,0.0,0.0,0.0,0.0,0.0,1.0,1.0],[0.0,0.0,0.0,0.0,0.0,0.0,0.0,0.0,1.0,1.0,2.0],[0.0,0.0,0.0,0.0,0.0,0.0,0.0,0.0,1.0,1.0,2.0,2.0],[0.0,0.0,0.0,0.0,0.0,0.0,0.0,0.0,1.0,1.0,2.0,2.0,3.0],[0.0,0.0,0.0,0.0,0.0,0.0,0.0,0.0,1.0,1.0,2.0,2.0,3.0,3.0],[0.0,0.0,0.0,0.0,0.0,0.0,0.0,0.0,1.0,1.0,2.0,2.0,3.0,3.0,2.0],[0.0,0.0,0.0,0.0,0.0,0.0,0.0,0.0,1.0,1.0,2.0,2.0,3.0,3.0,2.0,2.0],[0.0,0.0,0.0,0.0,0.0,0.0,0.0,0.0,1.0,1.0,2.0,2.0,3.0,3.0,2.0,2.0,2.0],[0.0,0.0,0.0,0.0,0.0,0.0,0.0,0.0,1.0,1.0,2.0,2.0,3.0,3.0,2.0,2.0,2.0,1.0],[0.0,0.0,0.0,0.0,0.0,0.0,0.0,0.0,1.0,1.0,2.0,2.0,3.0,3.0,2.0,2.0,2.0,1.0,1.0],[0.0,0.0,0.0,0.0,0.0,0.0,0.0,0.0,1.0,1.0,2.0,2.0,3.0,3.0,2.0,2.0,2.0,1.0,1.0,1.0],[0.0,0.0,0.0,0.0,0.0,0.0,0.0,0.0,1.0,1.0,2.0,2.0,3.0,3.0,2.0,2.0,2.0,1.0,1.0,1.0,1.0],[0.0,0.0,0.0,0.0,0.0,0.0,0.0,0.0,1.0,1.0,2.0,2.0,3.0,3.0,2.0,2.0,2.0,1.0,1.0,1.0,1.0,2.0],[0.0,0.0,0.0,0.0,0.0,0.0,0.0,0.0,1.0,1.0,2.0,2.0,3.0,3.0,2.0,2.0,2.0,1.0,1.0,1.0,1.0,2.0,2.0],[0.0,0.0,0.0,0.0,0.0,0.0,0.0,0.0,1.0,1.0,2.0,2.0,3.0,3.0,2.0,2.0,2.0,1.0,1.0,1.0,1.0,2.0,2.0,1.0],[0.0,0.0,0.0,0.0,0.0,0.0,0.0,0.0,1.0,1.0,2.0,2.0,3.0,3.0,2.0,2.0,2.0,1.0,1.0,1.0,1.0,2.0,2.0,1.0,0.0],[0.0,0.0,0.0,0.0,0.0,0.0,0.0,0.0,1.0,1.0,2.0,2.0,3.0,3.0,2.0,2.0,2.0,1.0,1.0,1.0,1.0,2.0,2.0,1.0,0.0,3.0],[0.0,0.0,0.0,0.0,0.0,0.0,0.0,0.0,1.0,1.0,2.0,2.0,3.0,3.0,2.0,2.0,2.0,1.0,1.0,1.0,1.0,2.0,2.0,1.0,0.0,3.0,3.0],[0.0,0.0,0.0,0.0,0.0,0.0,0.0,0.0,1.0,1.0,2.0,2.0,3.0,3.0,2.0,2.0,2.0,1.0,1.0,1.0,1.0,2.0,2.0,1.0,0.0,3.0,3.0,4.0],[0.0,0.0,0.0,0.0,0.0,0.0,0.0,0.0,1.0,1.0,2.0,2.0,3.0,3.0,2.0,2.0,2.0,1.0,1.0,1.0,1.0,2.0,2.0,1.0,0.0,3.0,3.0,4.0,5.0],[0.0,0.0,0.0,0.0,0.0,0.0,0.0,0.0,1.0,1.0,2.0,2.0,3.0,3.0,2.0,2.0,2.0,1.0,1.0,1.0,1.0,2.0,2.0,1.0,0.0,3.0,3.0,4.0,5.0,5.0],[0.0,0.0,0.0,0.0,0.0,0.0,0.0,0.0,1.0,1.0,2.0,2.0,3.0,3.0,2.0,2.0,2.0,1.0,1.0,1.0,1.0,2.0,2.0,1.0,0.0,3.0,3.0,4.0,5.0,5.0,6.0],[0.0,0.0,0.0,0.0,0.0,0.0,0.0,0.0,1.0,1.0,2.0,2.0,3.0,3.0,2.0,2.0,2.0,1.0,1.0,1.0,1.0,2.0,2.0,1.0,0.0,3.0,3.0,4.0,5.0,5.0,6.0,6.0],[0.0,0.0,0.0,0.0,0.0,0.0,0.0,0.0,1.0,1.0,2.0,2.0,3.0,3.0,2.0,2.0,2.0,1.0,1.0,1.0,1.0,2.0,2.0,1.0,0.0,3.0,3.0,4.0,5.0,5.0,6.0,6.0,5.0],[0.0,0.0,0.0,0.0,0.0,0.0,0.0,0.0,1.0,1.0,2.0,2.0,3.0,3.0,2.0,2.0,2.0,1.0,1.0,1.0,1.0,2.0,2.0,1.0,0.0,3.0,3.0,4.0,5.0,5.0,6.0,6.0,5.0,5.0],[0.0,0.0,0.0,0.0,0.0,0.0,0.0,0.0,1.0,1.0,2.0,2.0,3.0,3.0,2.0,2.0,2.0,1.0,1.0,1.0,1.0,2.0,2.0,1.0,0.0,3.0,3.0,4.0,5.0,5.0,6.0,6.0,5.0,5.0,4.0],[0.0,0.0,0.0,0.0,0.0,0.0,0.0,0.0,1.0,1.0,2.0,2.0,3.0,3.0,2.0,2.0,2.0,1.0,1.0,1.0,1.0,2.0,2.0,1.0,0.0,3.0,3.0,4.0,5.0,5.0,6.0,6.0,5.0,5.0,4.0,4.0],[0.0,0.0,0.0,0.0,0.0,0.0,0.0,0.0,1.0,1.0,2.0,2.0,3.0,3.0,2.0,2.0,2.0,1.0,1.0,1.0,1.0,2.0,2.0,1.0,0.0,3.0,3.0,4.0,5.0,5.0,6.0,6.0,5.0,5.0,4.0,4.0,4.0],[0.0,0.0,0.0,0.0,0.0,0.0,0.0,0.0,1.0,1.0,2.0,2.0,3.0,3.0,2.0,2.0,2.0,1.0,1.0,1.0,1.0,2.0,2.0,1.0,0.0,3.0,3.0,4.0,5.0,5.0,6.0,6.0,5.0,5.0,4.0,4.0,4.0,4.0],[0.0,0.0,0.0,0.0,0.0,0.0,0.0,0.0,1.0,1.0,2.0,2.0,3.0,3.0,2.0,2.0,2.0,1.0,1.0,1.0,1.0,2.0,2.0,1.0,0.0,3.0,3.0,4.0,5.0,5.0,6.0,6.0,5.0,5.0,4.0,4.0,4.0,4.0,4.0],[0.0,0.0,0.0,0.0,0.0,0.0,0.0,0.0,1.0,1.0,2.0,2.0,3.0,3.0,2.0,2.0,2.0,1.0,1.0,1.0,1.0,2.0,2.0,1.0,0.0,3.0,3.0,4.0,5.0,5.0,6.0,6.0,5.0,5.0,4.0,4.0,4.0,4.0,4.0,3.0],[0.0,0.0,0.0,0.0,0.0,0.0,0.0,0.0,1.0,1.0,2.0,2.0,3.0,3.0,2.0,2.0,2.0,1.0,1.0,1.0,1.0,2.0,2.0,1.0,0.0,3.0,3.0,4.0,5.0,5.0,6.0,6.0,5.0,5.0,4.0,4.0,4.0,4.0,4.0,3.0,3.0],[0.0,0.0,0.0,0.0,0.0,0.0,0.0,0.0,1.0,1.0,2.0,2.0,3.0,3.0,2.0,2.0,2.0,1.0,1.0,1.0,1.0,2.0,2.0,1.0,0.0,3.0,3.0,4.0,5.0,5.0,6.0,6.0,5.0,5.0,4.0,4.0,4.0,4.0,4.0,3.0,3.0,3.0],[0.0,0.0,0.0,0.0,0.0,0.0,0.0,0.0,1.0,1.0,2.0,2.0,3.0,3.0,2.0,2.0,2.0,1.0,1.0,1.0,1.0,2.0,2.0,1.0,0.0,3.0,3.0,4.0,5.0,5.0,6.0,6.0,5.0,5.0,4.0,4.0,4.0,4.0,4.0,3.0,3.0,3.0,3.0],[0.0,0.0,0.0,0.0,0.0,0.0,0.0,0.0,1.0,1.0,2.0,2.0,3.0,3.0,2.0,2.0,2.0,1.0,1.0,1.0,1.0,2.0,2.0,1.0,0.0,3.0,3.0,4.0,5.0,5.0,6.0,6.0,5.0,5.0,4.0,4.0,4.0,4.0,4.0,3.0,3.0,3.0,3.0,5.0],[0.0,0.0,0.0,0.0,0.0,0.0,0.0,0.0,1.0,1.0,2.0,2.0,3.0,3.0,2.0,2.0,2.0,1.0,1.0,1.0,1.0,2.0,2.0,1.0,0.0,3.0,3.0,4.0,5.0,5.0,6.0,6.0,5.0,5.0,4.0,4.0,4.0,4.0,4.0,3.0,3.0,3.0,3.0,5.0,6.0],[0.0,0.0,0.0,0.0,0.0,0.0,0.0,0.0,1.0,1.0,2.0,2.0,3.0,3.0,2.0,2.0,2.0,1.0,1.0,1.0,1.0,2.0,2.0,1.0,0.0,3.0,3.0,4.0,5.0,5.0,6.0,6.0,5.0,5.0,4.0,4.0,4.0,4.0,4.0,3.0,3.0,3.0,3.0,5.0,6.0,6.0],[0.0,0.0,0.0,0.0,0.0,0.0,0.0,0.0,1.0,1.0,2.0,2.0,3.0,3.0,2.0,2.0,2.0,1.0,1.0,1.0,1.0,2.0,2.0,1.0,0.0,3.0,3.0,4.0,5.0,5.0,6.0,6.0,5.0,5.0,4.0,4.0,4.0,4.0,4.0,3.0,3.0,3.0,3.0,5.0,6.0,6.0,7.0],[0.0,0.0,0.0,0.0,0.0,0.0,0.0,0.0,1.0,1.0,2.0,2.0,3.0,3.0,2.0,2.0,2.0,1.0,1.0,1.0,1.0,2.0,2.0,1.0,0.0,3.0,3.0,4.0,5.0,5.0,6.0,6.0,5.0,5.0,4.0,4.0,4.0,4.0,4.0,3.0,3.0,3.0,3.0,5.0,6.0,6.0,7.0,7.0],[0.0,0.0,0.0,0.0,0.0,0.0,0.0,0.0,1.0,1.0,2.0,2.0,3.0,3.0,2.0,2.0,2.0,1.0,1.0,1.0,1.0,2.0,2.0,1.0,0.0,3.0,3.0,4.0,5.0,5.0,6.0,6.0,5.0,5.0,4.0,4.0,4.0,4.0,4.0,3.0,3.0,3.0,3.0,5.0,6.0,6.0,7.0,7.0,8.0],[0.0,0.0,0.0,0.0,0.0,0.0,0.0,0.0,1.0,1.0,2.0,2.0,3.0,3.0,2.0,2.0,2.0,1.0,1.0,1.0,1.0,2.0,2.0,1.0,0.0,3.0,3.0,4.0,5.0,5.0,6.0,6.0,5.0,5.0,4.0,4.0,4.0,4.0,4.0,3.0,3.0,3.0,3.0,5.0,6.0,6.0,7.0,7.0,8.0,8.0],[0.0,0.0,0.0,0.0,0.0,0.0,0.0,0.0,1.0,1.0,2.0,2.0,3.0,3.0,2.0,2.0,2.0,1.0,1.0,1.0,1.0,2.0,2.0,1.0,0.0,3.0,3.0,4.0,5.0,5.0,6.0,6.0,5.0,5.0,4.0,4.0,4.0,4.0,4.0,3.0,3.0,3.0,3.0,5.0,6.0,6.0,7.0,7.0,8.0,8.0,8.0],[0.0,0.0,0.0,0.0,0.0,0.0,0.0,0.0,1.0,1.0,2.0,2.0,3.0,3.0,2.0,2.0,2.0,1.0,1.0,1.0,1.0,2.0,2.0,1.0,0.0,3.0,3.0,4.0,5.0,5.0,6.0,6.0,5.0,5.0,4.0,4.0,4.0,4.0,4.0,3.0,3.0,3.0,3.0,5.0,6.0,6.0,7.0,7.0,8.0,8.0,8.0,8.0],[0.0,0.0,0.0,0.0,0.0,0.0,0.0,0.0,1.0,1.0,2.0,2.0,3.0,3.0,2.0,2.0,2.0,1.0,1.0,1.0,1.0,2.0,2.0,1.0,0.0,3.0,3.0,4.0,5.0,5.0,6.0,6.0,5.0,5.0,4.0,4.0,4.0,4.0,4.0,3.0,3.0,3.0,3.0,5.0,6.0,6.0,7.0,7.0,8.0,8.0,8.0,8.0,8.0],[0.0,0.0,0.0,0.0,0.0,0.0,0.0,0.0,1.0,1.0,2.0,2.0,3.0,3.0,2.0,2.0,2.0,1.0,1.0,1.0,1.0,2.0,2.0,1.0,0.0,3.0,3.0,4.0,5.0,5.0,6.0,6.0,5.0,5.0,4.0,4.0,4.0,4.0,4.0,3.0,3.0,3.0,3.0,5.0,6.0,6.0,7.0,7.0,8.0,8.0,8.0,8.0,8.0,8.0],[0.0,0.0,0.0,0.0,0.0,0.0,0.0,0.0,1.0,1.0,2.0,2.0,3.0,3.0,2.0,2.0,2.0,1.0,1.0,1.0,1.0,2.0,2.0,1.0,0.0,3.0,3.0,4.0,5.0,5.0,6.0,6.0,5.0,5.0,4.0,4.0,4.0,4.0,4.0,3.0,3.0,3.0,3.0,5.0,6.0,6.0,7.0,7.0,8.0,8.0,8.0,8.0,8.0,8.0,7.0],[0.0,0.0,0.0,0.0,0.0,0.0,0.0,0.0,1.0,1.0,2.0,2.0,3.0,3.0,2.0,2.0,2.0,1.0,1.0,1.0,1.0,2.0,2.0,1.0,0.0,3.0,3.0,4.0,5.0,5.0,6.0,6.0,5.0,5.0,4.0,4.0,4.0,4.0,4.0,3.0,3.0,3.0,3.0,5.0,6.0,6.0,7.0,7.0,8.0,8.0,8.0,8.0,8.0,8.0,7.0,7.0],[0.0,0.0,0.0,0.0,0.0,0.0,0.0,0.0,1.0,1.0,2.0,2.0,3.0,3.0,2.0,2.0,2.0,1.0,1.0,1.0,1.0,2.0,2.0,1.0,0.0,3.0,3.0,4.0,5.0,5.0,6.0,6.0,5.0,5.0,4.0,4.0,4.0,4.0,4.0,3.0,3.0,3.0,3.0,5.0,6.0,6.0,7.0,7.0,8.0,8.0,8.0,8.0,8.0,8.0,7.0,7.0,7.0],[0.0,0.0,0.0,0.0,0.0,0.0,0.0,0.0,1.0,1.0,2.0,2.0,3.0,3.0,2.0,2.0,2.0,1.0,1.0,1.0,1.0,2.0,2.0,1.0,0.0,3.0,3.0,4.0,5.0,5.0,6.0,6.0,5.0,5.0,4.0,4.0,4.0,4.0,4.0,3.0,3.0,3.0,3.0,5.0,6.0,6.0,7.0,7.0,8.0,8.0,8.0,8.0,8.0,8.0,7.0,7.0,7.0,7.0],[0.0,0.0,0.0,0.0,0.0,0.0,0.0,0.0,1.0,1.0,2.0,2.0,3.0,3.0,2.0,2.0,2.0,1.0,1.0,1.0,1.0,2.0,2.0,1.0,0.0,3.0,3.0,4.0,5.0,5.0,6.0,6.0,5.0,5.0,4.0,4.0,4.0,4.0,4.0,3.0,3.0,3.0,3.0,5.0,6.0,6.0,7.0,7.0,8.0,8.0,8.0,8.0,8.0,8.0,7.0,7.0,7.0,7.0,6.0],[0.0,0.0,0.0,0.0,0.0,0.0,0.0,0.0,1.0,1.0,2.0,2.0,3.0,3.0,2.0,2.0,2.0,1.0,1.0,1.0,1.0,2.0,2.0,1.0,0.0,3.0,3.0,4.0,5.0,5.0,6.0,6.0,5.0,5.0,4.0,4.0,4.0,4.0,4.0,3.0,3.0,3.0,3.0,5.0,6.0,6.0,7.0,7.0,8.0,8.0,8.0,8.0,8.0,8.0,7.0,7.0,7.0,7.0,6.0,6.0],[0.0,0.0,0.0,0.0,0.0,0.0,0.0,0.0,1.0,1.0,2.0,2.0,3.0,3.0,2.0,2.0,2.0,1.0,1.0,1.0,1.0,2.0,2.0,1.0,0.0,3.0,3.0,4.0,5.0,5.0,6.0,6.0,5.0,5.0,4.0,4.0,4.0,4.0,4.0,3.0,3.0,3.0,3.0,5.0,6.0,6.0,7.0,7.0,8.0,8.0,8.0,8.0,8.0,8.0,7.0,7.0,7.0,7.0,6.0,6.0,6.0],[0.0,0.0,0.0,0.0,0.0,0.0,0.0,0.0,1.0,1.0,2.0,2.0,3.0,3.0,2.0,2.0,2.0,1.0,1.0,1.0,1.0,2.0,2.0,1.0,0.0,3.0,3.0,4.0,5.0,5.0,6.0,6.0,5.0,5.0,4.0,4.0,4.0,4.0,4.0,3.0,3.0,3.0,3.0,5.0,6.0,6.0,7.0,7.0,8.0,8.0,8.0,8.0,8.0,8.0,7.0,7.0,7.0,7.0,6.0,6.0,6.0,5.0],[0.0,0.0,0.0,0.0,0.0,0.0,0.0,0.0,1.0,1.0,2.0,2.0,3.0,3.0,2.0,2.0,2.0,1.0,1.0,1.0,1.0,2.0,2.0,1.0,0.0,3.0,3.0,4.0,5.0,5.0,6.0,6.0,5.0,5.0,4.0,4.0,4.0,4.0,4.0,3.0,3.0,3.0,3.0,5.0,6.0,6.0,7.0,7.0,8.0,8.0,8.0,8.0,8.0,8.0,7.0,7.0,7.0,7.0,6.0,6.0,6.0,5.0,5.0],[0.0,0.0,0.0,0.0,0.0,0.0,0.0,0.0,1.0,1.0,2.0,2.0,3.0,3.0,2.0,2.0,2.0,1.0,1.0,1.0,1.0,2.0,2.0,1.0,0.0,3.0,3.0,4.0,5.0,5.0,6.0,6.0,5.0,5.0,4.0,4.0,4.0,4.0,4.0,3.0,3.0,3.0,3.0,5.0,6.0,6.0,7.0,7.0,8.0,8.0,8.0,8.0,8.0,8.0,7.0,7.0,7.0,7.0,6.0,6.0,6.0,5.0,5.0,5.0],[0.0,0.0,0.0,0.0,0.0,0.0,0.0,0.0,1.0,1.0,2.0,2.0,3.0,3.0,2.0,2.0,2.0,1.0,1.0,1.0,1.0,2.0,2.0,1.0,0.0,3.0,3.0,4.0,5.0,5.0,6.0,6.0,5.0,5.0,4.0,4.0,4.0,4.0,4.0,3.0,3.0,3.0,3.0,5.0,6.0,6.0,7.0,7.0,8.0,8.0,8.0,8.0,8.0,8.0,7.0,7.0,7.0,7.0,6.0,6.0,6.0,5.0,5.0,5.0,2.0],[0.0,0.0,0.0,0.0,0.0,0.0,0.0,0.0,1.0,1.0,2.0,2.0,3.0,3.0,2.0,2.0,2.0,1.0,1.0,1.0,1.0,2.0,2.0,1.0,0.0,3.0,3.0,4.0,5.0,5.0,6.0,6.0,5.0,5.0,4.0,4.0,4.0,4.0,4.0,3.0,3.0,3.0,3.0,5.0,6.0,6.0,7.0,7.0,8.0,8.0,8.0,8.0,8.0,8.0,7.0,7.0,7.0,7.0,6.0,6.0,6.0,5.0,5.0,5.0,2.0,2.0],[0.0,0.0,0.0,0.0,0.0,0.0,0.0,0.0,1.0,1.0,2.0,2.0,3.0,3.0,2.0,2.0,2.0,1.0,1.0,1.0,1.0,2.0,2.0,1.0,0.0,3.0,3.0,4.0,5.0,5.0,6.0,6.0,5.0,5.0,4.0,4.0,4.0,4.0,4.0,3.0,3.0,3.0,3.0,5.0,6.0,6.0,7.0,7.0,8.0,8.0,8.0,8.0,8.0,8.0,7.0,7.0,7.0,7.0,6.0,6.0,6.0,5.0,5.0,5.0,2.0,2.0,1.0],[0.0,0.0,0.0,0.0,0.0,0.0,0.0,0.0,1.0,1.0,2.0,2.0,3.0,3.0,2.0,2.0,2.0,1.0,1.0,1.0,1.0,2.0,2.0,1.0,0.0,3.0,3.0,4.0,5.0,5.0,6.0,6.0,5.0,5.0,4.0,4.0,4.0,4.0,4.0,3.0,3.0,3.0,3.0,5.0,6.0,6.0,7.0,7.0,8.0,8.0,8.0,8.0,8.0,8.0,7.0,7.0,7.0,7.0,6.0,6.0,6.0,5.0,5.0,5.0,2.0,2.0,1.0,1.0],[0.0,0.0,0.0,0.0,0.0,0.0,0.0,0.0,1.0,1.0,2.0,2.0,3.0,3.0,2.0,2.0,2.0,1.0,1.0,1.0,1.0,2.0,2.0,1.0,0.0,3.0,3.0,4.0,5.0,5.0,6.0,6.0,5.0,5.0,4.0,4.0,4.0,4.0,4.0,3.0,3.0,3.0,3.0,5.0,6.0,6.0,7.0,7.0,8.0,8.0,8.0,8.0,8.0,8.0,7.0,7.0,7.0,7.0,6.0,6.0,6.0,5.0,5.0,5.0,2.0,2.0,1.0,1.0,4.0],[0.0,0.0,0.0,0.0,0.0,0.0,0.0,0.0,1.0,1.0,2.0,2.0,3.0,3.0,2.0,2.0,2.0,1.0,1.0,1.0,1.0,2.0,2.0,1.0,0.0,3.0,3.0,4.0,5.0,5.0,6.0,6.0,5.0,5.0,4.0,4.0,4.0,4.0,4.0,3.0,3.0,3.0,3.0,5.0,6.0,6.0,7.0,7.0,8.0,8.0,8.0,8.0,8.0,8.0,7.0,7.0,7.0,7.0,6.0,6.0,6.0,5.0,5.0,5.0,2.0,2.0,1.0,1.0,4.0,4.0],[0.0,0.0,0.0,0.0,0.0,0.0,0.0,0.0,1.0,1.0,2.0,2.0,3.0,3.0,2.0,2.0,2.0,1.0,1.0,1.0,1.0,2.0,2.0,1.0,0.0,3.0,3.0,4.0,5.0,5.0,6.0,6.0,5.0,5.0,4.0,4.0,4.0,4.0,4.0,3.0,3.0,3.0,3.0,5.0,6.0,6.0,7.0,7.0,8.0,8.0,8.0,8.0,8.0,8.0,7.0,7.0,7.0,7.0,6.0,6.0,6.0,5.0,5.0,5.0,2.0,2.0,1.0,1.0,4.0,4.0,3.0],[0.0,0.0,0.0,0.0,0.0,0.0,0.0,0.0,1.0,1.0,2.0,2.0,3.0,3.0,2.0,2.0,2.0,1.0,1.0,1.0,1.0,2.0,2.0,1.0,0.0,3.0,3.0,4.0,5.0,5.0,6.0,6.0,5.0,5.0,4.0,4.0,4.0,4.0,4.0,3.0,3.0,3.0,3.0,5.0,6.0,6.0,7.0,7.0,8.0,8.0,8.0,8.0,8.0,8.0,7.0,7.0,7.0,7.0,6.0,6.0,6.0,5.0,5.0,5.0,2.0,2.0,1.0,1.0,4.0,4.0,3.0,4.0],[0.0,0.0,0.0,0.0,0.0,0.0,0.0,0.0,1.0,1.0,2.0,2.0,3.0,3.0,2.0,2.0,2.0,1.0,1.0,1.0,1.0,2.0,2.0,1.0,0.0,3.0,3.0,4.0,5.0,5.0,6.0,6.0,5.0,5.0,4.0,4.0,4.0,4.0,4.0,3.0,3.0,3.0,3.0,5.0,6.0,6.0,7.0,7.0,8.0,8.0,8.0,8.0,8.0,8.0,7.0,7.0,7.0,7.0,6.0,6.0,6.0,5.0,5.0,5.0,2.0,2.0,1.0,1.0,4.0,4.0,3.0,4.0,5.0],[0.0,0.0,0.0,0.0,0.0,0.0,0.0,0.0,1.0,1.0,2.0,2.0,3.0,3.0,2.0,2.0,2.0,1.0,1.0,1.0,1.0,2.0,2.0,1.0,0.0,3.0,3.0,4.0,5.0,5.0,6.0,6.0,5.0,5.0,4.0,4.0,4.0,4.0,4.0,3.0,3.0,3.0,3.0,5.0,6.0,6.0,7.0,7.0,8.0,8.0,8.0,8.0,8.0,8.0,7.0,7.0,7.0,7.0,6.0,6.0,6.0,5.0,5.0,5.0,2.0,2.0,1.0,1.0,4.0,4.0,3.0,4.0,5.0,6.0],[0.0,0.0,0.0,0.0,0.0,0.0,0.0,0.0,1.0,1.0,2.0,2.0,3.0,3.0,2.0,2.0,2.0,1.0,1.0,1.0,1.0,2.0,2.0,1.0,0.0,3.0,3.0,4.0,5.0,5.0,6.0,6.0,5.0,5.0,4.0,4.0,4.0,4.0,4.0,3.0,3.0,3.0,3.0,5.0,6.0,6.0,7.0,7.0,8.0,8.0,8.0,8.0,8.0,8.0,7.0,7.0,7.0,7.0,6.0,6.0,6.0,5.0,5.0,5.0,2.0,2.0,1.0,1.0,4.0,4.0,3.0,4.0,5.0,6.0,6.0],[0.0,0.0,0.0,0.0,0.0,0.0,0.0,0.0,1.0,1.0,2.0,2.0,3.0,3.0,2.0,2.0,2.0,1.0,1.0,1.0,1.0,2.0,2.0,1.0,0.0,3.0,3.0,4.0,5.0,5.0,6.0,6.0,5.0,5.0,4.0,4.0,4.0,4.0,4.0,3.0,3.0,3.0,3.0,5.0,6.0,6.0,7.0,7.0,8.0,8.0,8.0,8.0,8.0,8.0,7.0,7.0,7.0,7.0,6.0,6.0,6.0,5.0,5.0,5.0,2.0,2.0,1.0,1.0,4.0,4.0,3.0,4.0,5.0,6.0,6.0,7.0],[0.0,0.0,0.0,0.0,0.0,0.0,0.0,0.0,1.0,1.0,2.0,2.0,3.0,3.0,2.0,2.0,2.0,1.0,1.0,1.0,1.0,2.0,2.0,1.0,0.0,3.0,3.0,4.0,5.0,5.0,6.0,6.0,5.0,5.0,4.0,4.0,4.0,4.0,4.0,3.0,3.0,3.0,3.0,5.0,6.0,6.0,7.0,7.0,8.0,8.0,8.0,8.0,8.0,8.0,7.0,7.0,7.0,7.0,6.0,6.0,6.0,5.0,5.0,5.0,2.0,2.0,1.0,1.0,4.0,4.0,3.0,4.0,5.0,6.0,6.0,7.0,8.0],[0.0,0.0,0.0,0.0,0.0,0.0,0.0,0.0,1.0,1.0,2.0,2.0,3.0,3.0,2.0,2.0,2.0,1.0,1.0,1.0,1.0,2.0,2.0,1.0,0.0,3.0,3.0,4.0,5.0,5.0,6.0,6.0,5.0,5.0,4.0,4.0,4.0,4.0,4.0,3.0,3.0,3.0,3.0,5.0,6.0,6.0,7.0,7.0,8.0,8.0,8.0,8.0,8.0,8.0,7.0,7.0,7.0,7.0,6.0,6.0,6.0,5.0,5.0,5.0,2.0,2.0,1.0,1.0,4.0,4.0,3.0,4.0,5.0,6.0,6.0,7.0,8.0,8.0],[0.0,0.0,0.0,0.0,0.0,0.0,0.0,0.0,1.0,1.0,2.0,2.0,3.0,3.0,2.0,2.0,2.0,1.0,1.0,1.0,1.0,2.0,2.0,1.0,0.0,3.0,3.0,4.0,5.0,5.0,6.0,6.0,5.0,5.0,4.0,4.0,4.0,4.0,4.0,3.0,3.0,3.0,3.0,5.0,6.0,6.0,7.0,7.0,8.0,8.0,8.0,8.0,8.0,8.0,7.0,7.0,7.0,7.0,6.0,6.0,6.0,5.0,5.0,5.0,2.0,2.0,1.0,1.0,4.0,4.0,3.0,4.0,5.0,6.0,6.0,7.0,8.0,8.0,7.0],[0.0,0.0,0.0,0.0,0.0,0.0,0.0,0.0,1.0,1.0,2.0,2.0,3.0,3.0,2.0,2.0,2.0,1.0,1.0,1.0,1.0,2.0,2.0,1.0,0.0,3.0,3.0,4.0,5.0,5.0,6.0,6.0,5.0,5.0,4.0,4.0,4.0,4.0,4.0,3.0,3.0,3.0,3.0,5.0,6.0,6.0,7.0,7.0,8.0,8.0,8.0,8.0,8.0,8.0,7.0,7.0,7.0,7.0,6.0,6.0,6.0,5.0,5.0,5.0,2.0,2.0,1.0,1.0,4.0,4.0,3.0,4.0,5.0,6.0,6.0,7.0,8.0,8.0,7.0,7.0],[0.0,0.0,0.0,0.0,0.0,0.0,0.0,0.0,1.0,1.0,2.0,2.0,3.0,3.0,2.0,2.0,2.0,1.0,1.0,1.0,1.0,2.0,2.0,1.0,0.0,3.0,3.0,4.0,5.0,5.0,6.0,6.0,5.0,5.0,4.0,4.0,4.0,4.0,4.0,3.0,3.0,3.0,3.0,5.0,6.0,6.0,7.0,7.0,8.0,8.0,8.0,8.0,8.0,8.0,7.0,7.0,7.0,7.0,6.0,6.0,6.0,5.0,5.0,5.0,2.0,2.0,1.0,1.0,4.0,4.0,3.0,4.0,5.0,6.0,6.0,7.0,8.0,8.0,7.0,7.0,8.0],[0.0,0.0,0.0,0.0,0.0,0.0,0.0,0.0,1.0,1.0,2.0,2.0,3.0,3.0,2.0,2.0,2.0,1.0,1.0,1.0,1.0,2.0,2.0,1.0,0.0,3.0,3.0,4.0,5.0,5.0,6.0,6.0,5.0,5.0,4.0,4.0,4.0,4.0,4.0,3.0,3.0,3.0,3.0,5.0,6.0,6.0,7.0,7.0,8.0,8.0,8.0,8.0,8.0,8.0,7.0,7.0,7.0,7.0,6.0,6.0,6.0,5.0,5.0,5.0,2.0,2.0,1.0,1.0,4.0,4.0,3.0,4.0,5.0,6.0,6.0,7.0,8.0,8.0,7.0,7.0,8.0,0.0]]},\"selected\":{\"id\":\"2293\"},\"selection_policy\":{\"id\":\"2292\"}},\"id\":\"2261\",\"type\":\"ColumnDataSource\"},{\"attributes\":{},\"id\":\"2293\",\"type\":\"Selection\"},{\"attributes\":{\"overlay\":{\"id\":\"2249\"}},\"id\":\"2245\",\"type\":\"BoxZoomTool\"},{\"attributes\":{},\"id\":\"2231\",\"type\":\"LinearScale\"},{\"attributes\":{\"button_type\":\"success\",\"icon\":null,\"js_event_callbacks\":{\"button_click\":[{\"id\":\"2276\"}]},\"label\":\"Previous\",\"sizing_mode\":\"scale_width\",\"width_policy\":\"fit\"},\"id\":\"2275\",\"type\":\"Button\"},{\"attributes\":{\"align\":\"center\",\"text\":\"0\",\"width\":400},\"id\":\"2260\",\"type\":\"Div\"},{\"attributes\":{\"formatter\":{\"id\":\"2280\"},\"ticker\":{\"id\":\"2236\"},\"visible\":false},\"id\":\"2235\",\"type\":\"LinearAxis\"},{\"attributes\":{\"source\":{\"id\":\"2268\"}},\"id\":\"2272\",\"type\":\"CDSView\"},{\"attributes\":{\"bottom_units\":\"screen\",\"fill_alpha\":0.5,\"fill_color\":\"lightgrey\",\"left_units\":\"screen\",\"level\":\"overlay\",\"line_alpha\":1.0,\"line_color\":\"black\",\"line_dash\":[4,4],\"line_width\":2,\"right_units\":\"screen\",\"top_units\":\"screen\"},\"id\":\"2249\",\"type\":\"BoxAnnotation\"},{\"attributes\":{\"button_type\":\"success\",\"icon\":null,\"js_event_callbacks\":{\"button_click\":[{\"id\":\"2274\"}]},\"label\":\"Next\",\"sizing_mode\":\"scale_width\",\"width_policy\":\"fit\"},\"id\":\"2273\",\"type\":\"Button\"},{\"attributes\":{\"formatter\":{\"id\":\"2282\"},\"ticker\":{\"id\":\"2240\"},\"visible\":false},\"id\":\"2239\",\"type\":\"LinearAxis\"},{\"attributes\":{},\"id\":\"2236\",\"type\":\"BasicTicker\"},{\"attributes\":{\"axis\":{\"id\":\"2235\"},\"grid_line_color\":null,\"ticker\":null},\"id\":\"2238\",\"type\":\"Grid\"},{\"attributes\":{\"fill_alpha\":{\"value\":0.1},\"fill_color\":{\"value\":\"steelblue\"},\"line_alpha\":{\"value\":0.1},\"line_color\":{\"value\":\"steelblue\"},\"size\":{\"units\":\"screen\",\"value\":8},\"x\":{\"field\":\"x\"},\"y\":{\"field\":\"y\"}},\"id\":\"2270\",\"type\":\"Circle\"},{\"attributes\":{\"data_source\":{\"id\":\"2268\"},\"glyph\":{\"id\":\"2269\"},\"hover_glyph\":null,\"muted_glyph\":null,\"nonselection_glyph\":{\"id\":\"2270\"},\"selection_glyph\":null,\"view\":{\"id\":\"2272\"}},\"id\":\"2271\",\"type\":\"GlyphRenderer\"},{\"attributes\":{},\"id\":\"2240\",\"type\":\"BasicTicker\"},{\"attributes\":{\"data\":{\"edges_x\":[0.0],\"edges_y\":[0.0]},\"selected\":{\"id\":\"2285\"},\"selection_policy\":{\"id\":\"2284\"}},\"id\":\"2262\",\"type\":\"ColumnDataSource\"},{\"attributes\":{\"axis\":{\"id\":\"2239\"},\"dimension\":1,\"grid_line_color\":null,\"ticker\":null},\"id\":\"2242\",\"type\":\"Grid\"},{\"attributes\":{\"source\":{\"id\":\"2262\"}},\"id\":\"2267\",\"type\":\"CDSView\"},{\"attributes\":{\"children\":[{\"id\":\"2275\"},{\"id\":\"2273\"}],\"max_width\":400,\"sizing_mode\":\"stretch_both\"},\"id\":\"2277\",\"type\":\"Row\"},{\"attributes\":{\"align\":\"center\",\"width\":200},\"id\":\"2259\",\"type\":\"Div\"},{\"attributes\":{\"data_source\":{\"id\":\"2262\"},\"glyph\":{\"id\":\"2264\"},\"hover_glyph\":null,\"muted_glyph\":null,\"nonselection_glyph\":{\"id\":\"2265\"},\"selection_glyph\":null,\"view\":{\"id\":\"2267\"}},\"id\":\"2266\",\"type\":\"GlyphRenderer\"},{\"attributes\":{\"align\":\"center\",\"text\":\"0\",\"width\":200},\"id\":\"2258\",\"type\":\"Div\"}],\"root_ids\":[\"2294\"]},\"title\":\"Bokeh Application\",\"version\":\"2.2.3\"}};\n",
       "  var render_items = [{\"docid\":\"737e1ac8-5ded-49ad-93a4-c3b4036b454e\",\"root_ids\":[\"2294\"],\"roots\":{\"2294\":\"6b6d2367-d528-4936-82d4-8ccf287f8f1c\"}}];\n",
       "  root.Bokeh.embed.embed_items_notebook(docs_json, render_items);\n",
       "\n",
       "  }\n",
       "  if (root.Bokeh !== undefined) {\n",
       "    embed_document(root);\n",
       "  } else {\n",
       "    var attempts = 0;\n",
       "    var timer = setInterval(function(root) {\n",
       "      if (root.Bokeh !== undefined) {\n",
       "        clearInterval(timer);\n",
       "        embed_document(root);\n",
       "      } else {\n",
       "        attempts++;\n",
       "        if (attempts > 100) {\n",
       "          clearInterval(timer);\n",
       "          console.log(\"Bokeh: ERROR: Unable to run BokehJS code because BokehJS library is missing\");\n",
       "        }\n",
       "      }\n",
       "    }, 10, root)\n",
       "  }\n",
       "})(window);"
      ],
      "application/vnd.bokehjs_exec.v0+json": ""
     },
     "metadata": {
      "application/vnd.bokehjs_exec.v0+json": {
       "id": "2294"
      }
     },
     "output_type": "display_data"
    }
   ],
   "source": [
    "tour = plot_tsp_heuristic(nodes, G, heuristic='nearest_neighbor', initial=0)"
   ]
  },
  {
   "cell_type": "code",
   "execution_count": 18,
   "metadata": {},
   "outputs": [
    {
     "data": {
      "text/html": [
       "\n",
       "\n",
       "\n",
       "\n",
       "\n",
       "\n",
       "  <div class=\"bk-root\" id=\"63a9cbb2-e457-4c35-ac51-e50ded3479d6\" data-root-id=\"2519\"></div>\n"
      ]
     },
     "metadata": {},
     "output_type": "display_data"
    },
    {
     "data": {
      "application/javascript": [
       "(function(root) {\n",
       "  function embed_document(root) {\n",
       "    \n",
       "  var docs_json = {\"3ebf1186-0bd3-4af1-ac43-a8f143d88f54\":{\"roots\":{\"references\":[{\"attributes\":{\"children\":[[{\"id\":\"2449\"},0,0],[{\"id\":\"2502\"},1,0],[{\"id\":\"2503\"},2,0]]},\"id\":\"2519\",\"type\":\"GridBox\"},{\"attributes\":{\"axis\":{\"id\":\"2464\"},\"dimension\":1,\"grid_line_color\":null,\"ticker\":null},\"id\":\"2467\",\"type\":\"Grid\"},{\"attributes\":{},\"id\":\"2517\",\"type\":\"UnionRenderers\"},{\"attributes\":{\"active_drag\":\"auto\",\"active_inspect\":\"auto\",\"active_multi\":null,\"active_scroll\":\"auto\",\"active_tap\":\"auto\",\"logo\":null,\"tools\":[{\"id\":\"2468\"},{\"id\":\"2469\"},{\"id\":\"2470\"},{\"id\":\"2471\"},{\"id\":\"2472\"},{\"id\":\"2473\"}]},\"id\":\"2475\",\"type\":\"Toolbar\"},{\"attributes\":{},\"id\":\"2465\",\"type\":\"BasicTicker\"},{\"attributes\":{\"args\":{\"cost\":{\"id\":\"2483\"},\"done\":{\"id\":\"2484\"},\"n\":{\"id\":\"2485\"},\"source\":{\"id\":\"2486\"},\"tour\":{\"id\":\"2487\"}},\"code\":\"\\nif ((parseInt(n.text) + 1) < source.data['edges_y'].length) {\\n    n.text = (parseInt(n.text) + 1).toString()\\n}\\nvar iteration = parseInt(n.text)\\n\\nif (iteration == source.data['edges_y'].length - 2) {\\n    iteration = iteration + 1\\n}\\n\\n    cost.text = source.data['costs'][iteration].toFixed(1)\\n    \\n    if (iteration == source.data['edges_y'].length - 1) {\\n        done.text = \\\"done.\\\"\\n    } else {\\n        done.text = \\\"\\\"\\n    }\\n\\n    tour.data['edges_x'] = source.data['edges_x'][iteration]\\n    tour.data['edges_y'] = source.data['edges_y'][iteration]\\n    tour.change.emit()\\n    \"},\"id\":\"2499\",\"type\":\"CustomJS\"},{\"attributes\":{},\"id\":\"2456\",\"type\":\"LinearScale\"},{\"attributes\":{},\"id\":\"2518\",\"type\":\"Selection\"},{\"attributes\":{\"data_source\":{\"id\":\"2487\"},\"glyph\":{\"id\":\"2489\"},\"hover_glyph\":null,\"muted_glyph\":null,\"nonselection_glyph\":{\"id\":\"2490\"},\"selection_glyph\":null,\"view\":{\"id\":\"2492\"}},\"id\":\"2491\",\"type\":\"GlyphRenderer\"},{\"attributes\":{\"align\":\"center\",\"text\":\"0\",\"width\":400},\"id\":\"2485\",\"type\":\"Div\"},{\"attributes\":{\"line_width\":4,\"x\":{\"field\":\"edges_x\"},\"y\":{\"field\":\"edges_y\"}},\"id\":\"2489\",\"type\":\"Line\"},{\"attributes\":{\"formatter\":{\"id\":\"2507\"},\"ticker\":{\"id\":\"2465\"},\"visible\":false},\"id\":\"2464\",\"type\":\"LinearAxis\"},{\"attributes\":{\"axis\":{\"id\":\"2460\"},\"grid_line_color\":null,\"ticker\":null},\"id\":\"2463\",\"type\":\"Grid\"},{\"attributes\":{\"line_alpha\":0.1,\"line_width\":4,\"x\":{\"field\":\"edges_x\"},\"y\":{\"field\":\"edges_y\"}},\"id\":\"2490\",\"type\":\"Line\"},{\"attributes\":{},\"id\":\"2461\",\"type\":\"BasicTicker\"},{\"attributes\":{\"source\":{\"id\":\"2487\"}},\"id\":\"2492\",\"type\":\"CDSView\"},{\"attributes\":{\"data\":{\"x\":[0.0,0.0,0.0,0.0,0.0,0.0,0.0,0.0,0.0,1.0,1.0,1.0,1.0,1.0,1.0,1.0,1.0,1.0,2.0,2.0,2.0,2.0,2.0,2.0,2.0,2.0,2.0,3.0,3.0,3.0,3.0,3.0,3.0,3.0,3.0,3.0,4.0,4.0,4.0,4.0,4.0,4.0,4.0,4.0,4.0,5.0,5.0,5.0,5.0,5.0,5.0,5.0,5.0,5.0,6.0,6.0,6.0,6.0,6.0,6.0,6.0,6.0,6.0,7.0,7.0,7.0,7.0,7.0,7.0,7.0,7.0,7.0,8.0,8.0,8.0,8.0,8.0,8.0,8.0,8.0,8.0],\"y\":[0.0,1.0,2.0,3.0,4.0,5.0,6.0,7.0,8.0,0.0,1.0,2.0,3.0,4.0,5.0,6.0,7.0,8.0,0.0,1.0,2.0,3.0,4.0,5.0,6.0,7.0,8.0,0.0,1.0,2.0,3.0,4.0,5.0,6.0,7.0,8.0,0.0,1.0,2.0,3.0,4.0,5.0,6.0,7.0,8.0,0.0,1.0,2.0,3.0,4.0,5.0,6.0,7.0,8.0,0.0,1.0,2.0,3.0,4.0,5.0,6.0,7.0,8.0,0.0,1.0,2.0,3.0,4.0,5.0,6.0,7.0,8.0,0.0,1.0,2.0,3.0,4.0,5.0,6.0,7.0,8.0]},\"selected\":{\"id\":\"2512\"},\"selection_policy\":{\"id\":\"2511\"}},\"id\":\"2493\",\"type\":\"ColumnDataSource\"},{\"attributes\":{\"formatter\":{\"id\":\"2505\"},\"ticker\":{\"id\":\"2461\"},\"visible\":false},\"id\":\"2460\",\"type\":\"LinearAxis\"},{\"attributes\":{\"align\":\"center\",\"width\":200},\"id\":\"2484\",\"type\":\"Div\"},{\"attributes\":{\"data\":{\"costs\":[2.0,3.414213562373095,5.23606797749979,6.82842712474619,8.60555127546399,8.650281539872886,8.82842712474619,10.650281539872886,11.414213562373096,12.242640687119286,12.82842712474619,14.242640687119286,15.656854249492381,16.242640687119287,17.656854249492383,18.242640687119287,20.06449510224598,20.650281539872886,22.06449510224598,23.886349517372675,24.47213595499958,25.886349517372675,27.30056307974577,28.714776642118867,30.12899020449196,30.714776642118867,32.12899020449196,33.543203766865055,34.957417329238154,36.77927174436485,38.601126159491535,40.015339721864635,40.60112615949154,42.015339721864635,43.60769886911104,45.429553284237734,47.35576296690632,47.60769886911104,49.02191243148413,49.021912431484125,50.84376684661082,52.25798040898391,54.079834824110605,55.4940483864837,56.2579804089839,56.843766846610805,57.60769886911102,58.37163089161123,59.60769886911102,61.02191243148411,61.02191243148411,61.60769886911102,63.02191243148411,64.4361259938572,65.67219397135699,67.08640753373008,67.8503395562303,68.4361259938572,69.67219397135699,71.2645531186034,71.26455311860339,72.67876668097648,73.26455311860339,74.67876668097648,74.85691226584979,75.4426987034767,76.85691226584979,77.4426987034767,78.85691226584979,80.27112582822288,81.68533939059597,83.09955295296906,84.92140736809576,85.50719380572266,86.09298024334957,86.85691226584979,88.27112582822288,88.85691226584979,88.85691226584979,89.4426987034767,89.4426987034767],\"edges_x\":[[0.0,0.0,0.0],[0.0,1.0,0.0,0.0],[0.0,1.0,2.0,0.0,0.0],[0.0,1.0,2.0,0.0,0.0,0.0],[0.0,1.0,2.0,3.0,0.0,0.0,0.0],[0.0,1.0,2.0,3.0,1.0,0.0,0.0,0.0],[0.0,1.0,2.0,3.0,2.0,1.0,0.0,0.0,0.0],[0.0,1.0,2.0,3.0,2.0,1.0,0.0,0.0,0.0,0.0],[0.0,1.0,2.0,3.0,2.0,1.0,1.0,0.0,0.0,0.0,0.0],[0.0,1.0,2.0,3.0,2.0,1.0,2.0,1.0,0.0,0.0,0.0,0.0],[0.0,1.0,2.0,3.0,3.0,2.0,1.0,2.0,1.0,0.0,0.0,0.0,0.0],[0.0,1.0,2.0,3.0,3.0,2.0,1.0,2.0,1.0,1.0,0.0,0.0,0.0,0.0],[0.0,1.0,2.0,3.0,3.0,3.0,2.0,1.0,2.0,1.0,1.0,0.0,0.0,0.0,0.0],[0.0,1.0,2.0,3.0,3.0,3.0,2.0,1.0,1.0,2.0,1.0,1.0,0.0,0.0,0.0,0.0],[0.0,1.0,2.0,3.0,3.0,3.0,2.0,1.0,1.0,2.0,1.0,2.0,1.0,0.0,0.0,0.0,0.0],[0.0,1.0,2.0,3.0,3.0,3.0,2.0,1.0,1.0,2.0,1.0,2.0,1.0,0.0,0.0,0.0,0.0,0.0],[0.0,1.0,2.0,3.0,3.0,3.0,3.0,2.0,1.0,1.0,2.0,1.0,2.0,1.0,0.0,0.0,0.0,0.0,0.0],[0.0,1.0,2.0,3.0,3.0,3.0,3.0,2.0,1.0,1.0,2.0,2.0,1.0,2.0,1.0,0.0,0.0,0.0,0.0,0.0],[0.0,1.0,2.0,3.0,3.0,4.0,3.0,3.0,2.0,1.0,1.0,2.0,2.0,1.0,2.0,1.0,0.0,0.0,0.0,0.0,0.0],[0.0,1.0,2.0,3.0,3.0,4.0,3.0,3.0,2.0,1.0,1.0,2.0,2.0,1.0,3.0,2.0,1.0,0.0,0.0,0.0,0.0,0.0],[0.0,1.0,2.0,3.0,3.0,4.0,4.0,3.0,3.0,2.0,1.0,1.0,2.0,2.0,1.0,3.0,2.0,1.0,0.0,0.0,0.0,0.0,0.0],[0.0,1.0,2.0,3.0,3.0,4.0,4.0,4.0,3.0,3.0,2.0,1.0,1.0,2.0,2.0,1.0,3.0,2.0,1.0,0.0,0.0,0.0,0.0,0.0],[0.0,1.0,2.0,3.0,4.0,3.0,4.0,4.0,4.0,3.0,3.0,2.0,1.0,1.0,2.0,2.0,1.0,3.0,2.0,1.0,0.0,0.0,0.0,0.0,0.0],[0.0,1.0,2.0,3.0,4.0,3.0,4.0,5.0,4.0,4.0,3.0,3.0,2.0,1.0,1.0,2.0,2.0,1.0,3.0,2.0,1.0,0.0,0.0,0.0,0.0,0.0],[0.0,1.0,2.0,3.0,4.0,3.0,4.0,5.0,5.0,4.0,4.0,3.0,3.0,2.0,1.0,1.0,2.0,2.0,1.0,3.0,2.0,1.0,0.0,0.0,0.0,0.0,0.0],[0.0,1.0,2.0,3.0,4.0,3.0,4.0,5.0,5.0,5.0,4.0,4.0,3.0,3.0,2.0,1.0,1.0,2.0,2.0,1.0,3.0,2.0,1.0,0.0,0.0,0.0,0.0,0.0],[0.0,1.0,2.0,3.0,4.0,3.0,4.0,5.0,5.0,5.0,4.0,4.0,3.0,3.0,2.0,1.0,1.0,2.0,2.0,1.0,2.0,3.0,2.0,1.0,0.0,0.0,0.0,0.0,0.0],[0.0,1.0,2.0,3.0,4.0,3.0,4.0,5.0,5.0,6.0,5.0,4.0,4.0,3.0,3.0,2.0,1.0,1.0,2.0,2.0,1.0,2.0,3.0,2.0,1.0,0.0,0.0,0.0,0.0,0.0],[0.0,1.0,2.0,3.0,4.0,3.0,4.0,5.0,5.0,6.0,5.0,4.0,4.0,3.0,3.0,2.0,1.0,1.0,2.0,2.0,1.0,2.0,3.0,2.0,1.0,0.0,0.0,0.0,0.0,0.0,0.0],[0.0,1.0,2.0,3.0,4.0,3.0,4.0,5.0,5.0,7.0,6.0,5.0,4.0,4.0,3.0,3.0,2.0,1.0,1.0,2.0,2.0,1.0,2.0,3.0,2.0,1.0,0.0,0.0,0.0,0.0,0.0,0.0],[0.0,1.0,2.0,3.0,4.0,3.0,4.0,5.0,5.0,7.0,6.0,5.0,4.0,4.0,3.0,3.0,2.0,1.0,1.0,2.0,2.0,1.0,2.0,2.0,3.0,2.0,1.0,0.0,0.0,0.0,0.0,0.0,0.0],[0.0,1.0,2.0,3.0,4.0,3.0,4.0,5.0,6.0,5.0,7.0,6.0,5.0,4.0,4.0,3.0,3.0,2.0,1.0,1.0,2.0,2.0,1.0,2.0,2.0,3.0,2.0,1.0,0.0,0.0,0.0,0.0,0.0,0.0],[0.0,1.0,2.0,3.0,4.0,3.0,4.0,5.0,6.0,5.0,7.0,6.0,5.0,4.0,4.0,3.0,3.0,2.0,1.0,1.0,2.0,2.0,1.0,2.0,2.0,3.0,2.0,1.0,1.0,0.0,0.0,0.0,0.0,0.0,0.0],[0.0,1.0,2.0,3.0,4.0,3.0,4.0,5.0,6.0,5.0,7.0,6.0,5.0,4.0,4.0,3.0,3.0,2.0,1.0,1.0,2.0,2.0,1.0,2.0,1.0,2.0,3.0,2.0,1.0,1.0,0.0,0.0,0.0,0.0,0.0,0.0],[0.0,1.0,2.0,3.0,4.0,3.0,4.0,5.0,6.0,5.0,7.0,6.0,5.0,4.0,4.0,3.0,3.0,2.0,1.0,1.0,2.0,2.0,1.0,2.0,1.0,2.0,4.0,3.0,2.0,1.0,1.0,0.0,0.0,0.0,0.0,0.0,0.0],[0.0,1.0,2.0,3.0,4.0,3.0,4.0,5.0,6.0,7.0,5.0,7.0,6.0,5.0,4.0,4.0,3.0,3.0,2.0,1.0,1.0,2.0,2.0,1.0,2.0,1.0,2.0,4.0,3.0,2.0,1.0,1.0,0.0,0.0,0.0,0.0,0.0,0.0],[0.0,1.0,2.0,3.0,4.0,3.0,4.0,5.0,6.0,7.0,8.0,5.0,7.0,6.0,5.0,4.0,4.0,3.0,3.0,2.0,1.0,1.0,2.0,2.0,1.0,2.0,1.0,2.0,4.0,3.0,2.0,1.0,1.0,0.0,0.0,0.0,0.0,0.0,0.0],[0.0,1.0,2.0,3.0,4.0,3.0,4.0,5.0,6.0,7.0,8.0,7.0,5.0,7.0,6.0,5.0,4.0,4.0,3.0,3.0,2.0,1.0,1.0,2.0,2.0,1.0,2.0,1.0,2.0,4.0,3.0,2.0,1.0,1.0,0.0,0.0,0.0,0.0,0.0,0.0],[0.0,1.0,2.0,3.0,4.0,3.0,4.0,5.0,6.0,7.0,8.0,7.0,5.0,6.0,7.0,6.0,5.0,4.0,4.0,3.0,3.0,2.0,1.0,1.0,2.0,2.0,1.0,2.0,1.0,2.0,4.0,3.0,2.0,1.0,1.0,0.0,0.0,0.0,0.0,0.0,0.0],[0.0,1.0,2.0,3.0,4.0,3.0,4.0,5.0,6.0,7.0,8.0,7.0,5.0,6.0,7.0,6.0,5.0,4.0,4.0,3.0,3.0,2.0,1.0,1.0,2.0,2.0,1.0,2.0,1.0,2.0,3.0,4.0,3.0,2.0,1.0,1.0,0.0,0.0,0.0,0.0,0.0,0.0],[0.0,1.0,2.0,3.0,4.0,3.0,4.0,5.0,6.0,7.0,8.0,7.0,5.0,6.0,8.0,7.0,6.0,5.0,4.0,4.0,3.0,3.0,2.0,1.0,1.0,2.0,2.0,1.0,2.0,1.0,2.0,3.0,4.0,3.0,2.0,1.0,1.0,0.0,0.0,0.0,0.0,0.0,0.0],[0.0,1.0,2.0,3.0,4.0,3.0,4.0,5.0,6.0,7.0,8.0,7.0,5.0,6.0,8.0,7.0,6.0,5.0,4.0,4.0,3.0,3.0,2.0,1.0,1.0,2.0,2.0,1.0,2.0,1.0,2.0,3.0,4.0,3.0,2.0,1.0,1.0,0.0,0.0,0.0,0.0,0.0,0.0,0.0],[0.0,1.0,2.0,3.0,4.0,3.0,4.0,5.0,6.0,7.0,8.0,7.0,5.0,6.0,8.0,7.0,6.0,5.0,4.0,4.0,3.0,3.0,2.0,1.0,1.0,2.0,2.0,1.0,2.0,1.0,2.0,3.0,5.0,4.0,3.0,2.0,1.0,1.0,0.0,0.0,0.0,0.0,0.0,0.0,0.0],[0.0,1.0,2.0,3.0,4.0,3.0,4.0,5.0,6.0,7.0,8.0,7.0,5.0,6.0,8.0,7.0,6.0,5.0,4.0,4.0,3.0,3.0,2.0,1.0,1.0,2.0,2.0,1.0,2.0,1.0,2.0,2.0,3.0,5.0,4.0,3.0,2.0,1.0,1.0,0.0,0.0,0.0,0.0,0.0,0.0,0.0],[0.0,1.0,2.0,3.0,4.0,3.0,4.0,5.0,6.0,7.0,8.0,7.0,5.0,5.0,6.0,8.0,7.0,6.0,5.0,4.0,4.0,3.0,3.0,2.0,1.0,1.0,2.0,2.0,1.0,2.0,1.0,2.0,2.0,3.0,5.0,4.0,3.0,2.0,1.0,1.0,0.0,0.0,0.0,0.0,0.0,0.0,0.0],[0.0,1.0,2.0,3.0,4.0,3.0,4.0,5.0,6.0,7.0,8.0,7.0,5.0,5.0,6.0,8.0,7.0,6.0,5.0,4.0,4.0,3.0,3.0,2.0,1.0,1.0,2.0,2.0,1.0,2.0,1.0,1.0,2.0,2.0,3.0,5.0,4.0,3.0,2.0,1.0,1.0,0.0,0.0,0.0,0.0,0.0,0.0,0.0],[0.0,1.0,2.0,3.0,4.0,3.0,4.0,5.0,6.0,7.0,8.0,7.0,5.0,5.0,6.0,8.0,7.0,6.0,5.0,4.0,4.0,3.0,3.0,2.0,1.0,1.0,2.0,2.0,1.0,2.0,1.0,1.0,2.0,2.0,3.0,5.0,5.0,4.0,3.0,2.0,1.0,1.0,0.0,0.0,0.0,0.0,0.0,0.0,0.0],[0.0,1.0,2.0,3.0,4.0,3.0,4.0,5.0,6.0,7.0,8.0,7.0,5.0,5.0,6.0,8.0,8.0,7.0,6.0,5.0,4.0,4.0,3.0,3.0,2.0,1.0,1.0,2.0,2.0,1.0,2.0,1.0,1.0,2.0,2.0,3.0,5.0,5.0,4.0,3.0,2.0,1.0,1.0,0.0,0.0,0.0,0.0,0.0,0.0,0.0],[0.0,1.0,2.0,3.0,4.0,3.0,4.0,5.0,6.0,7.0,8.0,7.0,5.0,5.0,6.0,8.0,8.0,8.0,7.0,6.0,5.0,4.0,4.0,3.0,3.0,2.0,1.0,1.0,2.0,2.0,1.0,2.0,1.0,1.0,2.0,2.0,3.0,5.0,5.0,4.0,3.0,2.0,1.0,1.0,0.0,0.0,0.0,0.0,0.0,0.0,0.0],[0.0,1.0,2.0,3.0,4.0,3.0,4.0,5.0,6.0,7.0,8.0,7.0,5.0,5.0,6.0,8.0,8.0,8.0,7.0,6.0,5.0,4.0,4.0,3.0,3.0,2.0,1.0,1.0,2.0,2.0,1.0,2.0,1.0,0.0,1.0,2.0,2.0,3.0,5.0,5.0,4.0,3.0,2.0,1.0,1.0,0.0,0.0,0.0,0.0,0.0,0.0,0.0],[0.0,1.0,2.0,3.0,4.0,3.0,4.0,5.0,6.0,7.0,8.0,7.0,6.0,5.0,5.0,6.0,8.0,8.0,8.0,7.0,6.0,5.0,4.0,4.0,3.0,3.0,2.0,1.0,1.0,2.0,2.0,1.0,2.0,1.0,0.0,1.0,2.0,2.0,3.0,5.0,5.0,4.0,3.0,2.0,1.0,1.0,0.0,0.0,0.0,0.0,0.0,0.0,0.0],[0.0,1.0,2.0,3.0,4.0,3.0,4.0,5.0,6.0,7.0,8.0,8.0,7.0,6.0,5.0,5.0,6.0,8.0,8.0,8.0,7.0,6.0,5.0,4.0,4.0,3.0,3.0,2.0,1.0,1.0,2.0,2.0,1.0,2.0,1.0,0.0,1.0,2.0,2.0,3.0,5.0,5.0,4.0,3.0,2.0,1.0,1.0,0.0,0.0,0.0,0.0,0.0,0.0,0.0],[0.0,1.0,2.0,3.0,4.0,3.0,4.0,5.0,6.0,7.0,8.0,8.0,7.0,6.0,5.0,5.0,6.0,8.0,8.0,8.0,7.0,6.0,5.0,4.0,4.0,3.0,3.0,2.0,1.0,1.0,2.0,2.0,1.0,2.0,1.0,0.0,1.0,2.0,3.0,2.0,3.0,5.0,5.0,4.0,3.0,2.0,1.0,1.0,0.0,0.0,0.0,0.0,0.0,0.0,0.0],[0.0,1.0,2.0,3.0,4.0,3.0,4.0,5.0,6.0,7.0,8.0,8.0,7.0,6.0,5.0,5.0,6.0,8.0,8.0,8.0,7.0,6.0,5.0,4.0,4.0,3.0,3.0,2.0,1.0,1.0,2.0,2.0,1.0,2.0,1.0,0.0,1.0,1.0,2.0,3.0,2.0,3.0,5.0,5.0,4.0,3.0,2.0,1.0,1.0,0.0,0.0,0.0,0.0,0.0,0.0,0.0],[0.0,1.0,2.0,3.0,4.0,3.0,4.0,5.0,6.0,7.0,8.0,8.0,7.0,6.0,5.0,5.0,6.0,8.0,8.0,8.0,7.0,6.0,5.0,4.0,4.0,3.0,3.0,2.0,1.0,1.0,2.0,2.0,1.0,2.0,1.0,0.0,1.0,1.0,2.0,3.0,2.0,3.0,5.0,5.0,5.0,4.0,3.0,2.0,1.0,1.0,0.0,0.0,0.0,0.0,0.0,0.0,0.0],[0.0,1.0,2.0,3.0,4.0,3.0,4.0,5.0,6.0,7.0,8.0,8.0,7.0,6.0,5.0,5.0,6.0,8.0,8.0,8.0,7.0,6.0,5.0,4.0,4.0,3.0,3.0,2.0,1.0,1.0,2.0,2.0,1.0,2.0,1.0,0.0,1.0,2.0,1.0,2.0,3.0,2.0,3.0,5.0,5.0,5.0,4.0,3.0,2.0,1.0,1.0,0.0,0.0,0.0,0.0,0.0,0.0,0.0],[0.0,1.0,2.0,3.0,4.0,3.0,4.0,5.0,6.0,7.0,8.0,8.0,7.0,6.0,5.0,5.0,6.0,6.0,8.0,8.0,8.0,7.0,6.0,5.0,4.0,4.0,3.0,3.0,2.0,1.0,1.0,2.0,2.0,1.0,2.0,1.0,0.0,1.0,2.0,1.0,2.0,3.0,2.0,3.0,5.0,5.0,5.0,4.0,3.0,2.0,1.0,1.0,0.0,0.0,0.0,0.0,0.0,0.0,0.0],[0.0,1.0,2.0,3.0,4.0,3.0,4.0,5.0,6.0,7.0,8.0,8.0,7.0,6.0,5.0,5.0,6.0,6.0,8.0,8.0,8.0,7.0,6.0,5.0,4.0,4.0,3.0,3.0,2.0,1.0,1.0,2.0,2.0,1.0,2.0,1.0,0.0,1.0,2.0,1.0,2.0,3.0,3.0,2.0,3.0,5.0,5.0,5.0,4.0,3.0,2.0,1.0,1.0,0.0,0.0,0.0,0.0,0.0,0.0,0.0],[0.0,1.0,2.0,3.0,4.0,3.0,4.0,5.0,6.0,7.0,8.0,8.0,7.0,6.0,5.0,5.0,6.0,6.0,8.0,8.0,8.0,8.0,7.0,6.0,5.0,4.0,4.0,3.0,3.0,2.0,1.0,1.0,2.0,2.0,1.0,2.0,1.0,0.0,1.0,2.0,1.0,2.0,3.0,3.0,2.0,3.0,5.0,5.0,5.0,4.0,3.0,2.0,1.0,1.0,0.0,0.0,0.0,0.0,0.0,0.0,0.0],[0.0,1.0,2.0,3.0,4.0,3.0,4.0,5.0,6.0,7.0,8.0,8.0,7.0,6.0,5.0,5.0,6.0,6.0,8.0,8.0,8.0,8.0,7.0,6.0,5.0,4.0,4.0,3.0,3.0,2.0,1.0,1.0,2.0,2.0,1.0,2.0,1.0,0.0,1.0,2.0,1.0,2.0,3.0,3.0,2.0,3.0,5.0,5.0,5.0,5.0,4.0,3.0,2.0,1.0,1.0,0.0,0.0,0.0,0.0,0.0,0.0,0.0],[0.0,1.0,2.0,3.0,4.0,3.0,4.0,5.0,6.0,7.0,8.0,8.0,7.0,6.0,5.0,5.0,6.0,6.0,8.0,8.0,8.0,8.0,7.0,6.0,5.0,4.0,4.0,3.0,3.0,2.0,1.0,1.0,2.0,2.0,1.0,2.0,1.0,0.0,1.0,2.0,1.0,2.0,3.0,3.0,2.0,3.0,4.0,5.0,5.0,5.0,5.0,4.0,3.0,2.0,1.0,1.0,0.0,0.0,0.0,0.0,0.0,0.0,0.0],[0.0,1.0,2.0,3.0,4.0,3.0,4.0,5.0,6.0,7.0,8.0,8.0,7.0,6.0,5.0,5.0,6.0,6.0,8.0,8.0,8.0,8.0,7.0,6.0,5.0,4.0,4.0,3.0,3.0,2.0,1.0,1.0,2.0,2.0,1.0,2.0,1.0,0.0,1.0,2.0,1.0,2.0,3.0,3.0,3.0,2.0,3.0,4.0,5.0,5.0,5.0,5.0,4.0,3.0,2.0,1.0,1.0,0.0,0.0,0.0,0.0,0.0,0.0,0.0],[0.0,1.0,2.0,3.0,4.0,3.0,4.0,5.0,6.0,7.0,8.0,8.0,7.0,6.0,5.0,5.0,6.0,6.0,8.0,8.0,8.0,8.0,7.0,6.0,5.0,4.0,4.0,3.0,3.0,2.0,1.0,1.0,2.0,2.0,1.0,2.0,1.0,0.0,1.0,2.0,1.0,2.0,3.0,3.0,3.0,2.0,3.0,4.0,4.0,5.0,5.0,5.0,5.0,4.0,3.0,2.0,1.0,1.0,0.0,0.0,0.0,0.0,0.0,0.0,0.0],[0.0,1.0,2.0,3.0,4.0,3.0,4.0,5.0,6.0,7.0,8.0,8.0,7.0,6.0,5.0,5.0,6.0,6.0,8.0,8.0,8.0,8.0,7.0,6.0,5.0,4.0,4.0,3.0,3.0,2.0,1.0,1.0,2.0,2.0,1.0,2.0,1.0,0.0,1.0,2.0,1.0,2.0,3.0,3.0,3.0,2.0,3.0,4.0,4.0,5.0,6.0,5.0,5.0,5.0,4.0,3.0,2.0,1.0,1.0,0.0,0.0,0.0,0.0,0.0,0.0,0.0],[0.0,1.0,2.0,3.0,4.0,3.0,4.0,5.0,6.0,7.0,8.0,8.0,7.0,6.0,5.0,5.0,6.0,6.0,7.0,8.0,8.0,8.0,8.0,7.0,6.0,5.0,4.0,4.0,3.0,3.0,2.0,1.0,1.0,2.0,2.0,1.0,2.0,1.0,0.0,1.0,2.0,1.0,2.0,3.0,3.0,3.0,2.0,3.0,4.0,4.0,5.0,6.0,5.0,5.0,5.0,4.0,3.0,2.0,1.0,1.0,0.0,0.0,0.0,0.0,0.0,0.0,0.0],[0.0,1.0,2.0,3.0,4.0,3.0,4.0,5.0,6.0,7.0,8.0,8.0,7.0,6.0,5.0,5.0,6.0,6.0,7.0,8.0,8.0,8.0,8.0,7.0,6.0,5.0,4.0,4.0,3.0,3.0,2.0,1.0,1.0,2.0,2.0,1.0,2.0,1.0,0.0,0.0,1.0,2.0,1.0,2.0,3.0,3.0,3.0,2.0,3.0,4.0,4.0,5.0,6.0,5.0,5.0,5.0,4.0,3.0,2.0,1.0,1.0,0.0,0.0,0.0,0.0,0.0,0.0,0.0],[0.0,1.0,2.0,3.0,4.0,3.0,4.0,5.0,6.0,7.0,8.0,8.0,7.0,6.0,5.0,5.0,6.0,6.0,7.0,8.0,8.0,8.0,8.0,7.0,6.0,5.0,4.0,4.0,3.0,3.0,2.0,1.0,1.0,2.0,2.0,1.0,2.0,1.0,0.0,0.0,1.0,2.0,1.0,2.0,3.0,4.0,3.0,3.0,2.0,3.0,4.0,4.0,5.0,6.0,5.0,5.0,5.0,4.0,3.0,2.0,1.0,1.0,0.0,0.0,0.0,0.0,0.0,0.0,0.0],[0.0,1.0,2.0,3.0,4.0,3.0,4.0,5.0,6.0,7.0,8.0,8.0,7.0,6.0,5.0,5.0,6.0,6.0,7.0,7.0,8.0,8.0,8.0,8.0,7.0,6.0,5.0,4.0,4.0,3.0,3.0,2.0,1.0,1.0,2.0,2.0,1.0,2.0,1.0,0.0,0.0,1.0,2.0,1.0,2.0,3.0,4.0,3.0,3.0,2.0,3.0,4.0,4.0,5.0,6.0,5.0,5.0,5.0,4.0,3.0,2.0,1.0,1.0,0.0,0.0,0.0,0.0,0.0,0.0,0.0],[0.0,1.0,2.0,3.0,4.0,3.0,4.0,5.0,6.0,7.0,8.0,8.0,7.0,6.0,5.0,5.0,6.0,6.0,7.0,7.0,7.0,8.0,8.0,8.0,8.0,7.0,6.0,5.0,4.0,4.0,3.0,3.0,2.0,1.0,1.0,2.0,2.0,1.0,2.0,1.0,0.0,0.0,1.0,2.0,1.0,2.0,3.0,4.0,3.0,3.0,2.0,3.0,4.0,4.0,5.0,6.0,5.0,5.0,5.0,4.0,3.0,2.0,1.0,1.0,0.0,0.0,0.0,0.0,0.0,0.0,0.0],[0.0,1.0,2.0,3.0,4.0,3.0,4.0,5.0,6.0,7.0,8.0,8.0,7.0,6.0,5.0,5.0,6.0,6.0,6.0,7.0,7.0,7.0,8.0,8.0,8.0,8.0,7.0,6.0,5.0,4.0,4.0,3.0,3.0,2.0,1.0,1.0,2.0,2.0,1.0,2.0,1.0,0.0,0.0,1.0,2.0,1.0,2.0,3.0,4.0,3.0,3.0,2.0,3.0,4.0,4.0,5.0,6.0,5.0,5.0,5.0,4.0,3.0,2.0,1.0,1.0,0.0,0.0,0.0,0.0,0.0,0.0,0.0],[0.0,1.0,2.0,3.0,4.0,3.0,4.0,5.0,6.0,7.0,8.0,8.0,7.0,6.0,5.0,5.0,6.0,7.0,6.0,6.0,7.0,7.0,7.0,8.0,8.0,8.0,8.0,7.0,6.0,5.0,4.0,4.0,3.0,3.0,2.0,1.0,1.0,2.0,2.0,1.0,2.0,1.0,0.0,0.0,1.0,2.0,1.0,2.0,3.0,4.0,3.0,3.0,2.0,3.0,4.0,4.0,5.0,6.0,5.0,5.0,5.0,4.0,3.0,2.0,1.0,1.0,0.0,0.0,0.0,0.0,0.0,0.0,0.0],[0.0,1.0,2.0,3.0,4.0,3.0,4.0,5.0,6.0,7.0,8.0,8.0,7.0,6.0,5.0,5.0,6.0,7.0,6.0,6.0,7.0,7.0,7.0,8.0,8.0,8.0,8.0,7.0,6.0,5.0,4.0,4.0,3.0,3.0,2.0,1.0,1.0,2.0,2.0,1.0,2.0,1.0,0.0,0.0,1.0,2.0,1.0,2.0,3.0,4.0,3.0,3.0,2.0,3.0,4.0,4.0,5.0,5.0,6.0,5.0,5.0,5.0,4.0,3.0,2.0,1.0,1.0,0.0,0.0,0.0,0.0,0.0,0.0,0.0],[0.0,1.0,2.0,3.0,4.0,3.0,4.0,5.0,6.0,7.0,8.0,8.0,7.0,6.0,5.0,5.0,6.0,7.0,6.0,6.0,7.0,7.0,7.0,7.0,8.0,8.0,8.0,8.0,7.0,6.0,5.0,4.0,4.0,3.0,3.0,2.0,1.0,1.0,2.0,2.0,1.0,2.0,1.0,0.0,0.0,1.0,2.0,1.0,2.0,3.0,4.0,3.0,3.0,2.0,3.0,4.0,4.0,5.0,5.0,6.0,5.0,5.0,5.0,4.0,3.0,2.0,1.0,1.0,0.0,0.0,0.0,0.0,0.0,0.0,0.0],[0.0,1.0,2.0,3.0,4.0,3.0,4.0,5.0,6.0,7.0,8.0,8.0,7.0,6.0,5.0,5.0,6.0,7.0,6.0,6.0,7.0,7.0,7.0,7.0,8.0,8.0,8.0,8.0,7.0,6.0,5.0,4.0,4.0,3.0,3.0,2.0,1.0,1.0,2.0,2.0,1.0,2.0,1.0,0.0,0.0,1.0,2.0,1.0,2.0,3.0,4.0,3.0,3.0,2.0,3.0,4.0,4.0,5.0,5.0,6.0,6.0,5.0,5.0,5.0,4.0,3.0,2.0,1.0,1.0,0.0,0.0,0.0,0.0,0.0,0.0,0.0],[0.0,1.0,2.0,3.0,4.0,3.0,4.0,5.0,6.0,7.0,8.0,8.0,7.0,6.0,5.0,5.0,6.0,7.0,6.0,6.0,7.0,7.0,7.0,7.0,8.0,8.0,8.0,8.0,7.0,6.0,5.0,4.0,4.0,3.0,3.0,2.0,1.0,1.0,2.0,2.0,1.0,2.0,1.0,0.0,0.0,1.0,2.0,1.0,2.0,3.0,4.0,3.0,3.0,2.0,3.0,4.0,4.0,5.0,5.0,6.0,6.0,6.0,5.0,5.0,5.0,4.0,3.0,2.0,1.0,1.0,0.0,0.0,0.0,0.0,0.0,0.0,0.0],[0.0,1.0,2.0,3.0,4.0,3.0,4.0,5.0,6.0,7.0,8.0,8.0,7.0,6.0,5.0,5.0,6.0,7.0,6.0,6.0,7.0,7.0,7.0,7.0,8.0,8.0,8.0,8.0,8.0,7.0,6.0,5.0,4.0,4.0,3.0,3.0,2.0,1.0,1.0,2.0,2.0,1.0,2.0,1.0,0.0,0.0,1.0,2.0,1.0,2.0,3.0,4.0,3.0,3.0,2.0,3.0,4.0,4.0,5.0,5.0,6.0,6.0,6.0,5.0,5.0,5.0,4.0,3.0,2.0,1.0,1.0,0.0,0.0,0.0,0.0,0.0,0.0,0.0],[0.0,1.0,2.0,3.0,4.0,3.0,4.0,5.0,6.0,7.0,8.0,8.0,7.0,6.0,5.0,5.0,6.0,7.0,6.0,6.0,7.0,7.0,7.0,7.0,8.0,8.0,8.0,8.0,8.0,8.0,7.0,6.0,5.0,4.0,4.0,3.0,3.0,2.0,1.0,1.0,2.0,2.0,1.0,2.0,1.0,0.0,0.0,1.0,2.0,1.0,2.0,3.0,4.0,3.0,3.0,2.0,3.0,4.0,4.0,5.0,5.0,6.0,6.0,6.0,5.0,5.0,5.0,4.0,3.0,2.0,1.0,1.0,0.0,0.0,0.0,0.0,0.0,0.0,0.0],[0.0,1.0,2.0,3.0,4.0,3.0,4.0,5.0,6.0,7.0,8.0,8.0,7.0,6.0,5.0,5.0,6.0,7.0,6.0,6.0,7.0,7.0,7.0,7.0,8.0,8.0,8.0,8.0,8.0,8.0,7.0,6.0,5.0,4.0,4.0,3.0,3.0,2.0,1.0,1.0,2.0,2.0,1.0,2.0,1.0,0.0,0.0,1.0,2.0,1.0,2.0,3.0,4.0,4.0,3.0,3.0,2.0,3.0,4.0,4.0,5.0,5.0,6.0,6.0,6.0,5.0,5.0,5.0,4.0,3.0,2.0,1.0,1.0,0.0,0.0,0.0,0.0,0.0,0.0,0.0],[0.0,1.0,2.0,3.0,4.0,3.0,4.0,5.0,6.0,7.0,8.0,8.0,7.0,6.0,5.0,5.0,6.0,7.0,6.0,6.0,7.0,7.0,7.0,7.0,8.0,8.0,8.0,8.0,8.0,8.0,8.0,7.0,6.0,5.0,4.0,4.0,3.0,3.0,2.0,1.0,1.0,2.0,2.0,1.0,2.0,1.0,0.0,0.0,1.0,2.0,1.0,2.0,3.0,4.0,4.0,3.0,3.0,2.0,3.0,4.0,4.0,5.0,5.0,6.0,6.0,6.0,5.0,5.0,5.0,4.0,3.0,2.0,1.0,1.0,0.0,0.0,0.0,0.0,0.0,0.0,0.0],[0.0,1.0,2.0,3.0,4.0,3.0,4.0,5.0,6.0,7.0,8.0,8.0,7.0,6.0,5.0,5.0,6.0,7.0,6.0,6.0,7.0,7.0,7.0,7.0,7.0,8.0,8.0,8.0,8.0,8.0,8.0,8.0,7.0,6.0,5.0,4.0,4.0,3.0,3.0,2.0,1.0,1.0,2.0,2.0,1.0,2.0,1.0,0.0,0.0,1.0,2.0,1.0,2.0,3.0,4.0,4.0,3.0,3.0,2.0,3.0,4.0,4.0,5.0,5.0,6.0,6.0,6.0,5.0,5.0,5.0,4.0,3.0,2.0,1.0,1.0,0.0,0.0,0.0,0.0,0.0,0.0,0.0],[0.0,1.0,2.0,3.0,4.0,3.0,4.0,5.0,6.0,7.0,8.0,8.0,7.0,6.0,5.0,5.0,6.0,7.0,6.0,6.0,7.0,7.0,7.0,7.0,7.0,8.0,8.0,8.0,8.0,8.0,8.0,8.0,7.0,6.0,5.0,4.0,4.0,3.0,3.0,2.0,1.0,1.0,2.0,2.0,1.0,2.0,1.0,0.0,0.0,1.0,2.0,1.0,2.0,3.0,4.0,4.0,3.0,3.0,2.0,3.0,4.0,4.0,5.0,5.0,6.0,6.0,6.0,5.0,5.0,5.0,4.0,3.0,2.0,1.0,1.0,0.0,0.0,0.0,0.0,0.0,0.0,0.0]],\"edges_y\":[[0.0,1.0,0.0],[0.0,0.0,1.0,0.0],[0.0,0.0,0.0,1.0,0.0],[0.0,0.0,0.0,2.0,1.0,0.0],[0.0,0.0,0.0,0.0,2.0,1.0,0.0],[0.0,0.0,0.0,0.0,1.0,2.0,1.0,0.0],[0.0,0.0,0.0,0.0,1.0,1.0,2.0,1.0,0.0],[0.0,0.0,0.0,0.0,1.0,1.0,3.0,2.0,1.0,0.0],[0.0,0.0,0.0,0.0,1.0,1.0,3.0,3.0,2.0,1.0,0.0],[0.0,0.0,0.0,0.0,1.0,1.0,2.0,3.0,3.0,2.0,1.0,0.0],[0.0,0.0,0.0,0.0,1.0,1.0,1.0,2.0,3.0,3.0,2.0,1.0,0.0],[0.0,0.0,0.0,0.0,1.0,1.0,1.0,2.0,3.0,4.0,3.0,2.0,1.0,0.0],[0.0,0.0,0.0,0.0,1.0,2.0,1.0,1.0,2.0,3.0,4.0,3.0,2.0,1.0,0.0],[0.0,0.0,0.0,0.0,1.0,2.0,1.0,1.0,2.0,2.0,3.0,4.0,3.0,2.0,1.0,0.0],[0.0,0.0,0.0,0.0,1.0,2.0,1.0,1.0,2.0,2.0,3.0,4.0,4.0,3.0,2.0,1.0,0.0],[0.0,0.0,0.0,0.0,1.0,2.0,1.0,1.0,2.0,2.0,3.0,4.0,4.0,4.0,3.0,2.0,1.0,0.0],[0.0,0.0,0.0,0.0,1.0,2.0,3.0,1.0,1.0,2.0,2.0,3.0,4.0,4.0,4.0,3.0,2.0,1.0,0.0],[0.0,0.0,0.0,0.0,1.0,2.0,3.0,1.0,1.0,2.0,2.0,3.0,3.0,4.0,4.0,4.0,3.0,2.0,1.0,0.0],[0.0,0.0,0.0,0.0,1.0,2.0,2.0,3.0,1.0,1.0,2.0,2.0,3.0,3.0,4.0,4.0,4.0,3.0,2.0,1.0,0.0],[0.0,0.0,0.0,0.0,1.0,2.0,2.0,3.0,1.0,1.0,2.0,2.0,3.0,3.0,4.0,4.0,4.0,4.0,3.0,2.0,1.0,0.0],[0.0,0.0,0.0,0.0,1.0,1.0,2.0,2.0,3.0,1.0,1.0,2.0,2.0,3.0,3.0,4.0,4.0,4.0,4.0,3.0,2.0,1.0,0.0],[0.0,0.0,0.0,0.0,1.0,1.0,2.0,3.0,2.0,3.0,1.0,1.0,2.0,2.0,3.0,3.0,4.0,4.0,4.0,4.0,3.0,2.0,1.0,0.0],[0.0,0.0,0.0,0.0,0.0,1.0,1.0,2.0,3.0,2.0,3.0,1.0,1.0,2.0,2.0,3.0,3.0,4.0,4.0,4.0,4.0,3.0,2.0,1.0,0.0],[0.0,0.0,0.0,0.0,0.0,1.0,1.0,1.0,2.0,3.0,2.0,3.0,1.0,1.0,2.0,2.0,3.0,3.0,4.0,4.0,4.0,4.0,3.0,2.0,1.0,0.0],[0.0,0.0,0.0,0.0,0.0,1.0,1.0,0.0,1.0,2.0,3.0,2.0,3.0,1.0,1.0,2.0,2.0,3.0,3.0,4.0,4.0,4.0,4.0,3.0,2.0,1.0,0.0],[0.0,0.0,0.0,0.0,0.0,1.0,1.0,0.0,1.0,2.0,2.0,3.0,2.0,3.0,1.0,1.0,2.0,2.0,3.0,3.0,4.0,4.0,4.0,4.0,3.0,2.0,1.0,0.0],[0.0,0.0,0.0,0.0,0.0,1.0,1.0,0.0,1.0,2.0,2.0,3.0,2.0,3.0,1.0,1.0,2.0,2.0,3.0,3.0,5.0,4.0,4.0,4.0,4.0,3.0,2.0,1.0,0.0],[0.0,0.0,0.0,0.0,0.0,1.0,1.0,0.0,1.0,2.0,2.0,2.0,3.0,2.0,3.0,1.0,1.0,2.0,2.0,3.0,3.0,5.0,4.0,4.0,4.0,4.0,3.0,2.0,1.0,0.0],[0.0,0.0,0.0,0.0,0.0,1.0,1.0,0.0,1.0,2.0,2.0,2.0,3.0,2.0,3.0,1.0,1.0,2.0,2.0,3.0,3.0,5.0,4.0,4.0,4.0,5.0,4.0,3.0,2.0,1.0,0.0],[0.0,0.0,0.0,0.0,0.0,1.0,1.0,0.0,1.0,2.0,2.0,2.0,2.0,3.0,2.0,3.0,1.0,1.0,2.0,2.0,3.0,3.0,5.0,4.0,4.0,4.0,5.0,4.0,3.0,2.0,1.0,0.0],[0.0,0.0,0.0,0.0,0.0,1.0,1.0,0.0,1.0,2.0,2.0,2.0,2.0,3.0,2.0,3.0,1.0,1.0,2.0,2.0,3.0,3.0,5.0,6.0,4.0,4.0,4.0,5.0,4.0,3.0,2.0,1.0,0.0],[0.0,0.0,0.0,0.0,0.0,1.0,1.0,0.0,0.0,1.0,2.0,2.0,2.0,2.0,3.0,2.0,3.0,1.0,1.0,2.0,2.0,3.0,3.0,5.0,6.0,4.0,4.0,4.0,5.0,4.0,3.0,2.0,1.0,0.0],[0.0,0.0,0.0,0.0,0.0,1.0,1.0,0.0,0.0,1.0,2.0,2.0,2.0,2.0,3.0,2.0,3.0,1.0,1.0,2.0,2.0,3.0,3.0,5.0,6.0,4.0,4.0,4.0,5.0,5.0,4.0,3.0,2.0,1.0,0.0],[0.0,0.0,0.0,0.0,0.0,1.0,1.0,0.0,0.0,1.0,2.0,2.0,2.0,2.0,3.0,2.0,3.0,1.0,1.0,2.0,2.0,3.0,3.0,5.0,6.0,6.0,4.0,4.0,4.0,5.0,5.0,4.0,3.0,2.0,1.0,0.0],[0.0,0.0,0.0,0.0,0.0,1.0,1.0,0.0,0.0,1.0,2.0,2.0,2.0,2.0,3.0,2.0,3.0,1.0,1.0,2.0,2.0,3.0,3.0,5.0,6.0,6.0,4.0,4.0,4.0,4.0,5.0,5.0,4.0,3.0,2.0,1.0,0.0],[0.0,0.0,0.0,0.0,0.0,1.0,1.0,0.0,0.0,0.0,1.0,2.0,2.0,2.0,2.0,3.0,2.0,3.0,1.0,1.0,2.0,2.0,3.0,3.0,5.0,6.0,6.0,4.0,4.0,4.0,4.0,5.0,5.0,4.0,3.0,2.0,1.0,0.0],[0.0,0.0,0.0,0.0,0.0,1.0,1.0,0.0,0.0,0.0,0.0,1.0,2.0,2.0,2.0,2.0,3.0,2.0,3.0,1.0,1.0,2.0,2.0,3.0,3.0,5.0,6.0,6.0,4.0,4.0,4.0,4.0,5.0,5.0,4.0,3.0,2.0,1.0,0.0],[0.0,0.0,0.0,0.0,0.0,1.0,1.0,0.0,0.0,0.0,0.0,1.0,1.0,2.0,2.0,2.0,2.0,3.0,2.0,3.0,1.0,1.0,2.0,2.0,3.0,3.0,5.0,6.0,6.0,4.0,4.0,4.0,4.0,5.0,5.0,4.0,3.0,2.0,1.0,0.0],[0.0,0.0,0.0,0.0,0.0,1.0,1.0,0.0,0.0,0.0,0.0,1.0,1.0,3.0,2.0,2.0,2.0,2.0,3.0,2.0,3.0,1.0,1.0,2.0,2.0,3.0,3.0,5.0,6.0,6.0,4.0,4.0,4.0,4.0,5.0,5.0,4.0,3.0,2.0,1.0,0.0],[0.0,0.0,0.0,0.0,0.0,1.0,1.0,0.0,0.0,0.0,0.0,1.0,1.0,3.0,2.0,2.0,2.0,2.0,3.0,2.0,3.0,1.0,1.0,2.0,2.0,3.0,3.0,5.0,6.0,6.0,5.0,4.0,4.0,4.0,4.0,5.0,5.0,4.0,3.0,2.0,1.0,0.0],[0.0,0.0,0.0,0.0,0.0,1.0,1.0,0.0,0.0,0.0,0.0,1.0,1.0,3.0,2.0,2.0,2.0,2.0,2.0,3.0,2.0,3.0,1.0,1.0,2.0,2.0,3.0,3.0,5.0,6.0,6.0,5.0,4.0,4.0,4.0,4.0,5.0,5.0,4.0,3.0,2.0,1.0,0.0],[0.0,0.0,0.0,0.0,0.0,1.0,1.0,0.0,0.0,0.0,0.0,1.0,1.0,3.0,2.0,2.0,2.0,2.0,2.0,3.0,2.0,3.0,1.0,1.0,2.0,2.0,3.0,3.0,5.0,6.0,6.0,5.0,4.0,4.0,4.0,4.0,5.0,6.0,5.0,4.0,3.0,2.0,1.0,0.0],[0.0,0.0,0.0,0.0,0.0,1.0,1.0,0.0,0.0,0.0,0.0,1.0,1.0,3.0,2.0,2.0,2.0,2.0,2.0,3.0,2.0,3.0,1.0,1.0,2.0,2.0,3.0,3.0,5.0,6.0,6.0,5.0,4.0,4.0,4.0,4.0,4.0,5.0,6.0,5.0,4.0,3.0,2.0,1.0,0.0],[0.0,0.0,0.0,0.0,0.0,1.0,1.0,0.0,0.0,0.0,0.0,1.0,1.0,3.0,2.0,2.0,2.0,2.0,2.0,3.0,2.0,3.0,1.0,1.0,2.0,2.0,3.0,3.0,5.0,6.0,7.0,6.0,5.0,4.0,4.0,4.0,4.0,4.0,5.0,6.0,5.0,4.0,3.0,2.0,1.0,0.0],[0.0,0.0,0.0,0.0,0.0,1.0,1.0,0.0,0.0,0.0,0.0,1.0,1.0,3.0,3.0,2.0,2.0,2.0,2.0,2.0,3.0,2.0,3.0,1.0,1.0,2.0,2.0,3.0,3.0,5.0,6.0,7.0,6.0,5.0,4.0,4.0,4.0,4.0,4.0,5.0,6.0,5.0,4.0,3.0,2.0,1.0,0.0],[0.0,0.0,0.0,0.0,0.0,1.0,1.0,0.0,0.0,0.0,0.0,1.0,1.0,3.0,3.0,2.0,2.0,2.0,2.0,2.0,3.0,2.0,3.0,1.0,1.0,2.0,2.0,3.0,3.0,5.0,6.0,7.0,7.0,6.0,5.0,4.0,4.0,4.0,4.0,4.0,5.0,6.0,5.0,4.0,3.0,2.0,1.0,0.0],[0.0,0.0,0.0,0.0,0.0,1.0,1.0,0.0,0.0,0.0,0.0,1.0,1.0,3.0,3.0,2.0,2.0,2.0,2.0,2.0,3.0,2.0,3.0,1.0,1.0,2.0,2.0,3.0,3.0,5.0,6.0,7.0,7.0,6.0,5.0,5.0,4.0,4.0,4.0,4.0,4.0,5.0,6.0,5.0,4.0,3.0,2.0,1.0,0.0],[0.0,0.0,0.0,0.0,0.0,1.0,1.0,0.0,0.0,0.0,0.0,1.0,1.0,3.0,3.0,3.0,2.0,2.0,2.0,2.0,2.0,3.0,2.0,3.0,1.0,1.0,2.0,2.0,3.0,3.0,5.0,6.0,7.0,7.0,6.0,5.0,5.0,4.0,4.0,4.0,4.0,4.0,5.0,6.0,5.0,4.0,3.0,2.0,1.0,0.0],[0.0,0.0,0.0,0.0,0.0,1.0,1.0,0.0,0.0,0.0,0.0,1.0,1.0,3.0,3.0,4.0,3.0,2.0,2.0,2.0,2.0,2.0,3.0,2.0,3.0,1.0,1.0,2.0,2.0,3.0,3.0,5.0,6.0,7.0,7.0,6.0,5.0,5.0,4.0,4.0,4.0,4.0,4.0,5.0,6.0,5.0,4.0,3.0,2.0,1.0,0.0],[0.0,0.0,0.0,0.0,0.0,1.0,1.0,0.0,0.0,0.0,0.0,1.0,1.0,3.0,3.0,4.0,3.0,2.0,2.0,2.0,2.0,2.0,3.0,2.0,3.0,1.0,1.0,2.0,2.0,3.0,3.0,5.0,6.0,7.0,7.0,7.0,6.0,5.0,5.0,4.0,4.0,4.0,4.0,4.0,5.0,6.0,5.0,4.0,3.0,2.0,1.0,0.0],[0.0,0.0,0.0,0.0,0.0,1.0,1.0,0.0,0.0,0.0,0.0,1.0,1.0,1.0,3.0,3.0,4.0,3.0,2.0,2.0,2.0,2.0,2.0,3.0,2.0,3.0,1.0,1.0,2.0,2.0,3.0,3.0,5.0,6.0,7.0,7.0,7.0,6.0,5.0,5.0,4.0,4.0,4.0,4.0,4.0,5.0,6.0,5.0,4.0,3.0,2.0,1.0,0.0],[0.0,0.0,0.0,0.0,0.0,1.0,1.0,0.0,0.0,0.0,0.0,1.0,1.0,1.0,1.0,3.0,3.0,4.0,3.0,2.0,2.0,2.0,2.0,2.0,3.0,2.0,3.0,1.0,1.0,2.0,2.0,3.0,3.0,5.0,6.0,7.0,7.0,7.0,6.0,5.0,5.0,4.0,4.0,4.0,4.0,4.0,5.0,6.0,5.0,4.0,3.0,2.0,1.0,0.0],[0.0,0.0,0.0,0.0,0.0,1.0,1.0,0.0,0.0,0.0,0.0,1.0,1.0,1.0,1.0,3.0,3.0,4.0,3.0,2.0,2.0,2.0,2.0,2.0,3.0,2.0,3.0,1.0,1.0,2.0,2.0,3.0,3.0,5.0,6.0,7.0,7.0,7.0,7.0,6.0,5.0,5.0,4.0,4.0,4.0,4.0,4.0,5.0,6.0,5.0,4.0,3.0,2.0,1.0,0.0],[0.0,0.0,0.0,0.0,0.0,1.0,1.0,0.0,0.0,0.0,0.0,1.0,1.0,1.0,1.0,3.0,3.0,4.0,3.0,2.0,2.0,2.0,2.0,2.0,3.0,2.0,3.0,1.0,1.0,2.0,2.0,3.0,3.0,5.0,6.0,7.0,8.0,7.0,7.0,7.0,6.0,5.0,5.0,4.0,4.0,4.0,4.0,4.0,5.0,6.0,5.0,4.0,3.0,2.0,1.0,0.0],[0.0,0.0,0.0,0.0,0.0,1.0,1.0,0.0,0.0,0.0,0.0,1.0,1.0,1.0,1.0,3.0,3.0,4.0,3.0,2.0,2.0,2.0,2.0,2.0,3.0,2.0,3.0,1.0,1.0,2.0,2.0,3.0,3.0,5.0,6.0,7.0,8.0,7.0,7.0,7.0,6.0,5.0,6.0,5.0,4.0,4.0,4.0,4.0,4.0,5.0,6.0,5.0,4.0,3.0,2.0,1.0,0.0],[0.0,0.0,0.0,0.0,0.0,1.0,1.0,0.0,0.0,0.0,0.0,1.0,1.0,1.0,1.0,3.0,3.0,4.0,3.0,2.0,2.0,2.0,2.0,2.0,3.0,2.0,3.0,1.0,1.0,2.0,2.0,3.0,3.0,5.0,6.0,7.0,8.0,8.0,7.0,7.0,7.0,6.0,5.0,6.0,5.0,4.0,4.0,4.0,4.0,4.0,5.0,6.0,5.0,4.0,3.0,2.0,1.0,0.0],[0.0,0.0,0.0,0.0,0.0,1.0,1.0,0.0,0.0,0.0,0.0,1.0,1.0,1.0,1.0,3.0,3.0,4.0,4.0,3.0,2.0,2.0,2.0,2.0,2.0,3.0,2.0,3.0,1.0,1.0,2.0,2.0,3.0,3.0,5.0,6.0,7.0,8.0,8.0,7.0,7.0,7.0,6.0,5.0,6.0,5.0,4.0,4.0,4.0,4.0,4.0,5.0,6.0,5.0,4.0,3.0,2.0,1.0,0.0],[0.0,0.0,0.0,0.0,0.0,1.0,1.0,0.0,0.0,0.0,0.0,1.0,1.0,1.0,1.0,3.0,3.0,4.0,4.0,3.0,2.0,2.0,2.0,2.0,2.0,3.0,2.0,3.0,1.0,1.0,2.0,2.0,3.0,3.0,5.0,6.0,7.0,8.0,8.0,7.0,7.0,7.0,6.0,6.0,5.0,6.0,5.0,4.0,4.0,4.0,4.0,4.0,5.0,6.0,5.0,4.0,3.0,2.0,1.0,0.0],[0.0,0.0,0.0,0.0,0.0,1.0,1.0,0.0,0.0,0.0,0.0,1.0,1.0,1.0,1.0,3.0,3.0,4.0,5.0,4.0,3.0,2.0,2.0,2.0,2.0,2.0,3.0,2.0,3.0,1.0,1.0,2.0,2.0,3.0,3.0,5.0,6.0,7.0,8.0,8.0,7.0,7.0,7.0,6.0,6.0,5.0,6.0,5.0,4.0,4.0,4.0,4.0,4.0,5.0,6.0,5.0,4.0,3.0,2.0,1.0,0.0],[0.0,0.0,0.0,0.0,0.0,1.0,1.0,0.0,0.0,0.0,0.0,1.0,1.0,1.0,1.0,3.0,3.0,4.0,5.0,4.0,3.0,2.0,2.0,2.0,2.0,2.0,3.0,2.0,3.0,1.0,1.0,2.0,2.0,3.0,3.0,5.0,6.0,7.0,8.0,8.0,7.0,7.0,7.0,6.0,6.0,5.0,7.0,6.0,5.0,4.0,4.0,4.0,4.0,4.0,5.0,6.0,5.0,4.0,3.0,2.0,1.0,0.0],[0.0,0.0,0.0,0.0,0.0,1.0,1.0,0.0,0.0,0.0,0.0,1.0,1.0,1.0,1.0,3.0,3.0,4.0,5.0,4.0,3.0,2.0,2.0,2.0,2.0,2.0,3.0,2.0,3.0,1.0,1.0,2.0,2.0,3.0,3.0,5.0,6.0,7.0,8.0,8.0,7.0,7.0,7.0,6.0,6.0,5.0,6.0,7.0,6.0,5.0,4.0,4.0,4.0,4.0,4.0,5.0,6.0,5.0,4.0,3.0,2.0,1.0,0.0],[0.0,0.0,0.0,0.0,0.0,1.0,1.0,0.0,0.0,0.0,0.0,1.0,1.0,1.0,1.0,3.0,3.0,4.0,5.0,4.0,3.0,2.0,2.0,2.0,2.0,2.0,3.0,2.0,3.0,1.0,1.0,2.0,2.0,3.0,3.0,5.0,6.0,7.0,8.0,8.0,7.0,7.0,8.0,7.0,6.0,6.0,5.0,6.0,7.0,6.0,5.0,4.0,4.0,4.0,4.0,4.0,5.0,6.0,5.0,4.0,3.0,2.0,1.0,0.0],[0.0,0.0,0.0,0.0,0.0,1.0,1.0,0.0,0.0,0.0,0.0,1.0,1.0,1.0,1.0,3.0,3.0,4.0,5.0,4.0,3.0,2.0,2.0,2.0,2.0,2.0,3.0,2.0,3.0,1.0,1.0,2.0,2.0,3.0,3.0,5.0,6.0,7.0,8.0,8.0,7.0,7.0,8.0,7.0,6.0,6.0,5.0,5.0,6.0,7.0,6.0,5.0,4.0,4.0,4.0,4.0,4.0,5.0,6.0,5.0,4.0,3.0,2.0,1.0,0.0],[0.0,0.0,0.0,0.0,0.0,1.0,1.0,0.0,0.0,0.0,0.0,1.0,1.0,1.0,1.0,3.0,3.0,4.0,5.0,4.0,3.0,2.0,2.0,2.0,2.0,2.0,3.0,2.0,3.0,1.0,1.0,2.0,2.0,3.0,3.0,5.0,6.0,7.0,8.0,8.0,7.0,7.0,8.0,7.0,6.0,6.0,5.0,5.0,6.0,7.0,7.0,6.0,5.0,4.0,4.0,4.0,4.0,4.0,5.0,6.0,5.0,4.0,3.0,2.0,1.0,0.0],[0.0,0.0,0.0,0.0,0.0,1.0,1.0,0.0,0.0,0.0,0.0,1.0,1.0,1.0,1.0,3.0,3.0,4.0,4.0,5.0,4.0,3.0,2.0,2.0,2.0,2.0,2.0,3.0,2.0,3.0,1.0,1.0,2.0,2.0,3.0,3.0,5.0,6.0,7.0,8.0,8.0,7.0,7.0,8.0,7.0,6.0,6.0,5.0,5.0,6.0,7.0,7.0,6.0,5.0,4.0,4.0,4.0,4.0,4.0,5.0,6.0,5.0,4.0,3.0,2.0,1.0,0.0],[0.0,0.0,0.0,0.0,0.0,1.0,1.0,0.0,0.0,0.0,0.0,1.0,1.0,1.0,1.0,3.0,3.0,4.0,4.0,5.0,4.0,3.0,2.0,2.0,2.0,2.0,2.0,3.0,2.0,3.0,1.0,1.0,2.0,2.0,3.0,3.0,5.0,6.0,7.0,8.0,8.0,8.0,7.0,7.0,8.0,7.0,6.0,6.0,5.0,5.0,6.0,7.0,7.0,6.0,5.0,4.0,4.0,4.0,4.0,4.0,5.0,6.0,5.0,4.0,3.0,2.0,1.0,0.0],[0.0,0.0,0.0,0.0,0.0,1.0,1.0,0.0,0.0,0.0,0.0,1.0,1.0,1.0,1.0,3.0,3.0,4.0,4.0,5.0,4.0,3.0,2.0,2.0,2.0,2.0,2.0,3.0,2.0,3.0,1.0,1.0,2.0,2.0,3.0,3.0,5.0,6.0,7.0,8.0,8.0,8.0,7.0,7.0,8.0,8.0,7.0,6.0,6.0,5.0,5.0,6.0,7.0,7.0,6.0,5.0,4.0,4.0,4.0,4.0,4.0,5.0,6.0,5.0,4.0,3.0,2.0,1.0,0.0],[0.0,0.0,0.0,0.0,0.0,1.0,1.0,0.0,0.0,0.0,0.0,1.0,1.0,1.0,1.0,3.0,3.0,4.0,4.0,5.0,5.0,4.0,3.0,2.0,2.0,2.0,2.0,2.0,3.0,2.0,3.0,1.0,1.0,2.0,2.0,3.0,3.0,5.0,6.0,7.0,8.0,8.0,8.0,7.0,7.0,8.0,8.0,7.0,6.0,6.0,5.0,5.0,6.0,7.0,7.0,6.0,5.0,4.0,4.0,4.0,4.0,4.0,5.0,6.0,5.0,4.0,3.0,2.0,1.0,0.0],[0.0,0.0,0.0,0.0,0.0,1.0,1.0,0.0,0.0,0.0,0.0,1.0,1.0,1.0,1.0,3.0,3.0,4.0,4.0,5.0,6.0,5.0,4.0,3.0,2.0,2.0,2.0,2.0,2.0,3.0,2.0,3.0,1.0,1.0,2.0,2.0,3.0,3.0,5.0,6.0,7.0,8.0,8.0,8.0,7.0,7.0,8.0,8.0,7.0,6.0,6.0,5.0,5.0,6.0,7.0,7.0,6.0,5.0,4.0,4.0,4.0,4.0,4.0,5.0,6.0,5.0,4.0,3.0,2.0,1.0,0.0],[0.0,0.0,0.0,0.0,0.0,1.0,1.0,0.0,0.0,0.0,0.0,1.0,1.0,1.0,1.0,3.0,3.0,4.0,5.0,4.0,5.0,6.0,5.0,4.0,3.0,2.0,2.0,2.0,2.0,2.0,3.0,2.0,3.0,1.0,1.0,2.0,2.0,3.0,3.0,5.0,6.0,7.0,8.0,8.0,8.0,7.0,7.0,8.0,8.0,7.0,6.0,6.0,5.0,5.0,6.0,7.0,7.0,6.0,5.0,4.0,4.0,4.0,4.0,4.0,5.0,6.0,5.0,4.0,3.0,2.0,1.0,0.0],[0.0,0.0,0.0,0.0,0.0,1.0,1.0,0.0,0.0,0.0,0.0,1.0,1.0,1.0,1.0,3.0,3.0,3.0,4.0,5.0,4.0,5.0,6.0,5.0,4.0,3.0,2.0,2.0,2.0,2.0,2.0,3.0,2.0,3.0,1.0,1.0,2.0,2.0,3.0,3.0,5.0,6.0,7.0,8.0,8.0,8.0,7.0,7.0,8.0,8.0,7.0,6.0,6.0,5.0,5.0,6.0,7.0,7.0,6.0,5.0,4.0,4.0,4.0,4.0,4.0,5.0,6.0,5.0,4.0,3.0,2.0,1.0,0.0],[0.0,0.0,0.0,0.0,0.0,1.0,1.0,0.0,0.0,0.0,0.0,1.0,1.0,1.0,1.0,3.0,3.0,3.0,4.0,5.0,4.0,5.0,6.0,5.0,4.0,3.0,2.0,2.0,2.0,2.0,2.0,3.0,2.0,3.0,1.0,1.0,2.0,2.0,3.0,3.0,5.0,6.0,7.0,8.0,8.0,8.0,7.0,7.0,8.0,8.0,7.0,6.0,6.0,5.0,5.0,6.0,7.0,8.0,7.0,6.0,5.0,4.0,4.0,4.0,4.0,4.0,5.0,6.0,5.0,4.0,3.0,2.0,1.0,0.0],[0.0,0.0,0.0,0.0,0.0,1.0,1.0,0.0,0.0,0.0,0.0,1.0,1.0,1.0,1.0,3.0,3.0,3.0,4.0,5.0,4.0,5.0,6.0,7.0,5.0,4.0,3.0,2.0,2.0,2.0,2.0,2.0,3.0,2.0,3.0,1.0,1.0,2.0,2.0,3.0,3.0,5.0,6.0,7.0,8.0,8.0,8.0,7.0,7.0,8.0,8.0,7.0,6.0,6.0,5.0,5.0,6.0,7.0,8.0,7.0,6.0,5.0,4.0,4.0,4.0,4.0,4.0,5.0,6.0,5.0,4.0,3.0,2.0,1.0,0.0],[0.0,0.0,0.0,0.0,0.0,1.0,1.0,0.0,0.0,0.0,0.0,1.0,1.0,1.0,1.0,3.0,3.0,3.0,4.0,5.0,4.0,5.0,6.0,7.0,5.0,4.0,3.0,2.0,2.0,2.0,2.0,2.0,3.0,2.0,3.0,1.0,1.0,2.0,2.0,3.0,3.0,5.0,6.0,7.0,8.0,8.0,8.0,7.0,7.0,8.0,8.0,7.0,6.0,6.0,5.0,5.0,6.0,7.0,8.0,8.0,7.0,6.0,5.0,4.0,4.0,4.0,4.0,4.0,5.0,6.0,5.0,4.0,3.0,2.0,1.0,0.0],[0.0,0.0,0.0,0.0,0.0,1.0,1.0,0.0,0.0,0.0,0.0,1.0,1.0,1.0,1.0,3.0,3.0,3.0,4.0,5.0,4.0,5.0,6.0,7.0,5.0,4.0,3.0,2.0,2.0,2.0,2.0,2.0,3.0,2.0,3.0,1.0,1.0,2.0,2.0,3.0,3.0,5.0,6.0,7.0,8.0,8.0,8.0,7.0,7.0,8.0,8.0,7.0,6.0,6.0,5.0,5.0,6.0,7.0,8.0,8.0,7.0,6.0,6.0,5.0,4.0,4.0,4.0,4.0,4.0,5.0,6.0,5.0,4.0,3.0,2.0,1.0,0.0],[0.0,0.0,0.0,0.0,0.0,1.0,1.0,0.0,0.0,0.0,0.0,1.0,1.0,1.0,1.0,3.0,3.0,3.0,4.0,5.0,4.0,5.0,6.0,7.0,7.0,5.0,4.0,3.0,2.0,2.0,2.0,2.0,2.0,3.0,2.0,3.0,1.0,1.0,2.0,2.0,3.0,3.0,5.0,6.0,7.0,8.0,8.0,8.0,7.0,7.0,8.0,8.0,7.0,6.0,6.0,5.0,5.0,6.0,7.0,8.0,8.0,7.0,6.0,6.0,5.0,4.0,4.0,4.0,4.0,4.0,5.0,6.0,5.0,4.0,3.0,2.0,1.0,0.0],[0.0,0.0,0.0,0.0,0.0,1.0,1.0,0.0,0.0,0.0,0.0,1.0,1.0,1.0,1.0,3.0,3.0,3.0,4.0,5.0,4.0,5.0,6.0,7.0,8.0,7.0,5.0,4.0,3.0,2.0,2.0,2.0,2.0,2.0,3.0,2.0,3.0,1.0,1.0,2.0,2.0,3.0,3.0,5.0,6.0,7.0,8.0,8.0,8.0,7.0,7.0,8.0,8.0,7.0,6.0,6.0,5.0,5.0,6.0,7.0,8.0,8.0,7.0,6.0,6.0,5.0,4.0,4.0,4.0,4.0,4.0,5.0,6.0,5.0,4.0,3.0,2.0,1.0,0.0],[0.0,0.0,0.0,0.0,0.0,1.0,1.0,0.0,0.0,0.0,0.0,1.0,1.0,1.0,1.0,3.0,3.0,3.0,4.0,5.0,4.0,5.0,6.0,7.0,8.0,7.0,5.0,4.0,3.0,2.0,2.0,2.0,2.0,2.0,3.0,2.0,3.0,1.0,1.0,2.0,2.0,3.0,3.0,5.0,6.0,7.0,8.0,8.0,8.0,7.0,7.0,8.0,8.0,7.0,7.0,6.0,6.0,5.0,5.0,6.0,7.0,8.0,8.0,7.0,6.0,6.0,5.0,4.0,4.0,4.0,4.0,4.0,5.0,6.0,5.0,4.0,3.0,2.0,1.0,0.0],[0.0,0.0,0.0,0.0,0.0,1.0,1.0,0.0,0.0,0.0,0.0,1.0,1.0,1.0,1.0,3.0,3.0,3.0,4.0,5.0,4.0,5.0,6.0,7.0,8.0,7.0,6.0,5.0,4.0,3.0,2.0,2.0,2.0,2.0,2.0,3.0,2.0,3.0,1.0,1.0,2.0,2.0,3.0,3.0,5.0,6.0,7.0,8.0,8.0,8.0,7.0,7.0,8.0,8.0,7.0,7.0,6.0,6.0,5.0,5.0,6.0,7.0,8.0,8.0,7.0,6.0,6.0,5.0,4.0,4.0,4.0,4.0,4.0,5.0,6.0,5.0,4.0,3.0,2.0,1.0,0.0],[0.0,0.0,0.0,0.0,0.0,1.0,1.0,0.0,0.0,0.0,0.0,1.0,1.0,1.0,1.0,3.0,3.0,3.0,4.0,5.0,4.0,5.0,6.0,7.0,8.0,8.0,7.0,6.0,5.0,4.0,3.0,2.0,2.0,2.0,2.0,2.0,3.0,2.0,3.0,1.0,1.0,2.0,2.0,3.0,3.0,5.0,6.0,7.0,8.0,8.0,8.0,7.0,7.0,8.0,8.0,7.0,7.0,6.0,6.0,5.0,5.0,6.0,7.0,8.0,8.0,7.0,6.0,6.0,5.0,4.0,4.0,4.0,4.0,4.0,5.0,6.0,5.0,4.0,3.0,2.0,1.0,0.0],[0.0,0.0,0.0,0.0,0.0,1.0,1.0,0.0,0.0,0.0,0.0,1.0,1.0,1.0,1.0,3.0,3.0,3.0,4.0,5.0,4.0,5.0,6.0,7.0,8.0,8.0,7.0,6.0,5.0,4.0,3.0,2.0,2.0,2.0,2.0,2.0,3.0,2.0,3.0,1.0,1.0,2.0,2.0,3.0,3.0,5.0,6.0,7.0,8.0,8.0,8.0,7.0,7.0,8.0,8.0,7.0,7.0,6.0,6.0,5.0,5.0,6.0,7.0,8.0,8.0,7.0,6.0,6.0,5.0,4.0,4.0,4.0,4.0,4.0,5.0,6.0,5.0,4.0,3.0,2.0,1.0,0.0]]},\"selected\":{\"id\":\"2518\"},\"selection_policy\":{\"id\":\"2517\"}},\"id\":\"2486\",\"type\":\"ColumnDataSource\"},{\"attributes\":{\"button_type\":\"success\",\"icon\":null,\"js_event_callbacks\":{\"button_click\":[{\"id\":\"2501\"}]},\"label\":\"Previous\",\"sizing_mode\":\"scale_width\",\"width_policy\":\"fit\"},\"id\":\"2500\",\"type\":\"Button\"},{\"attributes\":{},\"id\":\"2468\",\"type\":\"PanTool\"},{\"attributes\":{\"args\":{\"cost\":{\"id\":\"2483\"},\"done\":{\"id\":\"2484\"},\"n\":{\"id\":\"2485\"},\"source\":{\"id\":\"2486\"},\"tour\":{\"id\":\"2487\"}},\"code\":\"\\nif ((parseInt(n.text) - 1) >= 0) {\\n    n.text = (parseInt(n.text) - 1).toString()\\n}\\nvar iteration = parseInt(n.text)\\n\\nif (iteration == source.data['edges_y'].length - 2) {\\n    iteration = iteration - 1\\n}\\n\\n    cost.text = source.data['costs'][iteration].toFixed(1)\\n    \\n    if (iteration == source.data['edges_y'].length - 1) {\\n        done.text = \\\"done.\\\"\\n    } else {\\n        done.text = \\\"\\\"\\n    }\\n\\n    tour.data['edges_x'] = source.data['edges_x'][iteration]\\n    tour.data['edges_y'] = source.data['edges_y'][iteration]\\n    tour.change.emit()\\n    \"},\"id\":\"2501\",\"type\":\"CustomJS\"},{\"attributes\":{\"align\":\"center\",\"text\":\"2.0\",\"width\":200},\"id\":\"2483\",\"type\":\"Div\"},{\"attributes\":{\"children\":[{\"id\":\"2500\"},{\"id\":\"2498\"}],\"max_width\":400,\"sizing_mode\":\"stretch_both\"},\"id\":\"2502\",\"type\":\"Row\"},{\"attributes\":{},\"id\":\"2469\",\"type\":\"WheelZoomTool\"},{\"attributes\":{\"children\":[{\"id\":\"2483\"},{\"id\":\"2484\"}]},\"id\":\"2503\",\"type\":\"Row\"},{\"attributes\":{},\"id\":\"2471\",\"type\":\"SaveTool\"},{\"attributes\":{\"background_fill_color\":null,\"below\":[{\"id\":\"2460\"}],\"border_fill_color\":null,\"center\":[{\"id\":\"2463\"},{\"id\":\"2467\"}],\"left\":[{\"id\":\"2464\"}],\"outline_line_color\":null,\"plot_height\":400,\"plot_width\":400,\"renderers\":[{\"id\":\"2491\"},{\"id\":\"2496\"}],\"title\":{\"id\":\"2450\"},\"toolbar\":{\"id\":\"2475\"},\"toolbar_location\":null,\"x_range\":{\"id\":\"2452\"},\"x_scale\":{\"id\":\"2456\"},\"y_range\":{\"id\":\"2454\"},\"y_scale\":{\"id\":\"2458\"}},\"id\":\"2449\",\"subtype\":\"Figure\",\"type\":\"Plot\"},{\"attributes\":{\"overlay\":{\"id\":\"2474\"}},\"id\":\"2470\",\"type\":\"BoxZoomTool\"},{\"attributes\":{\"text\":\"\"},\"id\":\"2450\",\"type\":\"Title\"},{\"attributes\":{},\"id\":\"2505\",\"type\":\"BasicTickFormatter\"},{\"attributes\":{\"button_type\":\"success\",\"icon\":null,\"js_event_callbacks\":{\"button_click\":[{\"id\":\"2499\"}]},\"label\":\"Next\",\"sizing_mode\":\"scale_width\",\"width_policy\":\"fit\"},\"id\":\"2498\",\"type\":\"Button\"},{\"attributes\":{\"data\":{\"edges_x\":[0.0,0.0,0.0],\"edges_y\":[0.0,1.0,0.0]},\"selected\":{\"id\":\"2510\"},\"selection_policy\":{\"id\":\"2509\"}},\"id\":\"2487\",\"type\":\"ColumnDataSource\"},{\"attributes\":{},\"id\":\"2507\",\"type\":\"BasicTickFormatter\"},{\"attributes\":{},\"id\":\"2473\",\"type\":\"HelpTool\"},{\"attributes\":{\"end\":8.68,\"start\":-0.68},\"id\":\"2452\",\"type\":\"Range1d\"},{\"attributes\":{},\"id\":\"2509\",\"type\":\"UnionRenderers\"},{\"attributes\":{},\"id\":\"2472\",\"type\":\"ResetTool\"},{\"attributes\":{},\"id\":\"2510\",\"type\":\"Selection\"},{\"attributes\":{\"bottom_units\":\"screen\",\"fill_alpha\":0.5,\"fill_color\":\"lightgrey\",\"left_units\":\"screen\",\"level\":\"overlay\",\"line_alpha\":1.0,\"line_color\":\"black\",\"line_dash\":[4,4],\"line_width\":2,\"right_units\":\"screen\",\"top_units\":\"screen\"},\"id\":\"2474\",\"type\":\"BoxAnnotation\"},{\"attributes\":{\"fill_color\":{\"value\":\"steelblue\"},\"line_color\":{\"value\":\"steelblue\"},\"size\":{\"units\":\"screen\",\"value\":8},\"x\":{\"field\":\"x\"},\"y\":{\"field\":\"y\"}},\"id\":\"2494\",\"type\":\"Circle\"},{\"attributes\":{\"end\":8.68,\"start\":-0.68},\"id\":\"2454\",\"type\":\"Range1d\"},{\"attributes\":{},\"id\":\"2511\",\"type\":\"UnionRenderers\"},{\"attributes\":{\"source\":{\"id\":\"2493\"}},\"id\":\"2497\",\"type\":\"CDSView\"},{\"attributes\":{},\"id\":\"2458\",\"type\":\"LinearScale\"},{\"attributes\":{\"data_source\":{\"id\":\"2493\"},\"glyph\":{\"id\":\"2494\"},\"hover_glyph\":null,\"muted_glyph\":null,\"nonselection_glyph\":{\"id\":\"2495\"},\"selection_glyph\":null,\"view\":{\"id\":\"2497\"}},\"id\":\"2496\",\"type\":\"GlyphRenderer\"},{\"attributes\":{},\"id\":\"2512\",\"type\":\"Selection\"},{\"attributes\":{\"fill_alpha\":{\"value\":0.1},\"fill_color\":{\"value\":\"steelblue\"},\"line_alpha\":{\"value\":0.1},\"line_color\":{\"value\":\"steelblue\"},\"size\":{\"units\":\"screen\",\"value\":8},\"x\":{\"field\":\"x\"},\"y\":{\"field\":\"y\"}},\"id\":\"2495\",\"type\":\"Circle\"}],\"root_ids\":[\"2519\"]},\"title\":\"Bokeh Application\",\"version\":\"2.2.3\"}};\n",
       "  var render_items = [{\"docid\":\"3ebf1186-0bd3-4af1-ac43-a8f143d88f54\",\"root_ids\":[\"2519\"],\"roots\":{\"2519\":\"63a9cbb2-e457-4c35-ac51-e50ded3479d6\"}}];\n",
       "  root.Bokeh.embed.embed_items_notebook(docs_json, render_items);\n",
       "\n",
       "  }\n",
       "  if (root.Bokeh !== undefined) {\n",
       "    embed_document(root);\n",
       "  } else {\n",
       "    var attempts = 0;\n",
       "    var timer = setInterval(function(root) {\n",
       "      if (root.Bokeh !== undefined) {\n",
       "        clearInterval(timer);\n",
       "        embed_document(root);\n",
       "      } else {\n",
       "        attempts++;\n",
       "        if (attempts > 100) {\n",
       "          clearInterval(timer);\n",
       "          console.log(\"Bokeh: ERROR: Unable to run BokehJS code because BokehJS library is missing\");\n",
       "        }\n",
       "      }\n",
       "    }, 10, root)\n",
       "  }\n",
       "})(window);"
      ],
      "application/vnd.bokehjs_exec.v0+json": ""
     },
     "metadata": {
      "application/vnd.bokehjs_exec.v0+json": {
       "id": "2519"
      }
     },
     "output_type": "display_data"
    }
   ],
   "source": [
    "tour = plot_tsp_heuristic(nodes, G, heuristic='nearest_insertion', initial=[0,1,0])"
   ]
  },
  {
   "cell_type": "code",
   "execution_count": 19,
   "metadata": {},
   "outputs": [
    {
     "data": {
      "text/html": [
       "\n",
       "\n",
       "\n",
       "\n",
       "\n",
       "\n",
       "  <div class=\"bk-root\" id=\"717a7828-3b9c-46a3-b6d5-195f555fd1d5\" data-root-id=\"2756\"></div>\n"
      ]
     },
     "metadata": {},
     "output_type": "display_data"
    },
    {
     "data": {
      "application/javascript": [
       "(function(root) {\n",
       "  function embed_document(root) {\n",
       "    \n",
       "  var docs_json = {\"ca7f10b3-ccf7-4622-91bb-2d927b8fb7ec\":{\"roots\":{\"references\":[{\"attributes\":{\"children\":[[{\"id\":\"2686\"},0,0],[{\"id\":\"2739\"},1,0],[{\"id\":\"2740\"},2,0]]},\"id\":\"2756\",\"type\":\"GridBox\"},{\"attributes\":{\"data_source\":{\"id\":\"2730\"},\"glyph\":{\"id\":\"2731\"},\"hover_glyph\":null,\"muted_glyph\":null,\"nonselection_glyph\":{\"id\":\"2732\"},\"selection_glyph\":null,\"view\":{\"id\":\"2734\"}},\"id\":\"2733\",\"type\":\"GlyphRenderer\"},{\"attributes\":{\"axis\":{\"id\":\"2701\"},\"dimension\":1,\"grid_line_color\":null,\"ticker\":null},\"id\":\"2704\",\"type\":\"Grid\"},{\"attributes\":{},\"id\":\"2754\",\"type\":\"UnionRenderers\"},{\"attributes\":{\"data_source\":{\"id\":\"2724\"},\"glyph\":{\"id\":\"2726\"},\"hover_glyph\":null,\"muted_glyph\":null,\"nonselection_glyph\":{\"id\":\"2727\"},\"selection_glyph\":null,\"view\":{\"id\":\"2729\"}},\"id\":\"2728\",\"type\":\"GlyphRenderer\"},{\"attributes\":{},\"id\":\"2755\",\"type\":\"Selection\"},{\"attributes\":{\"background_fill_color\":null,\"below\":[{\"id\":\"2697\"}],\"border_fill_color\":null,\"center\":[{\"id\":\"2700\"},{\"id\":\"2704\"}],\"left\":[{\"id\":\"2701\"}],\"outline_line_color\":null,\"plot_height\":400,\"plot_width\":400,\"renderers\":[{\"id\":\"2728\"},{\"id\":\"2733\"}],\"title\":{\"id\":\"2687\"},\"toolbar\":{\"id\":\"2712\"},\"toolbar_location\":null,\"x_range\":{\"id\":\"2689\"},\"x_scale\":{\"id\":\"2693\"},\"y_range\":{\"id\":\"2691\"},\"y_scale\":{\"id\":\"2695\"}},\"id\":\"2686\",\"subtype\":\"Figure\",\"type\":\"Plot\"},{\"attributes\":{\"line_width\":4,\"x\":{\"field\":\"edges_x\"},\"y\":{\"field\":\"edges_y\"}},\"id\":\"2726\",\"type\":\"Line\"},{\"attributes\":{\"align\":\"center\",\"width\":200},\"id\":\"2721\",\"type\":\"Div\"},{\"attributes\":{\"axis\":{\"id\":\"2697\"},\"grid_line_color\":null,\"ticker\":null},\"id\":\"2700\",\"type\":\"Grid\"},{\"attributes\":{\"align\":\"center\",\"text\":\"22.6\",\"width\":200},\"id\":\"2720\",\"type\":\"Div\"},{\"attributes\":{\"source\":{\"id\":\"2730\"}},\"id\":\"2734\",\"type\":\"CDSView\"},{\"attributes\":{\"formatter\":{\"id\":\"2742\"},\"ticker\":{\"id\":\"2698\"},\"visible\":false},\"id\":\"2697\",\"type\":\"LinearAxis\"},{\"attributes\":{\"line_alpha\":0.1,\"line_width\":4,\"x\":{\"field\":\"edges_x\"},\"y\":{\"field\":\"edges_y\"}},\"id\":\"2727\",\"type\":\"Line\"},{\"attributes\":{},\"id\":\"2705\",\"type\":\"PanTool\"},{\"attributes\":{\"source\":{\"id\":\"2724\"}},\"id\":\"2729\",\"type\":\"CDSView\"},{\"attributes\":{\"data\":{\"x\":[0.0,0.0,0.0,0.0,0.0,0.0,0.0,0.0,0.0,1.0,1.0,1.0,1.0,1.0,1.0,1.0,1.0,1.0,2.0,2.0,2.0,2.0,2.0,2.0,2.0,2.0,2.0,3.0,3.0,3.0,3.0,3.0,3.0,3.0,3.0,3.0,4.0,4.0,4.0,4.0,4.0,4.0,4.0,4.0,4.0,5.0,5.0,5.0,5.0,5.0,5.0,5.0,5.0,5.0,6.0,6.0,6.0,6.0,6.0,6.0,6.0,6.0,6.0,7.0,7.0,7.0,7.0,7.0,7.0,7.0,7.0,7.0,8.0,8.0,8.0,8.0,8.0,8.0,8.0,8.0,8.0],\"y\":[0.0,1.0,2.0,3.0,4.0,5.0,6.0,7.0,8.0,0.0,1.0,2.0,3.0,4.0,5.0,6.0,7.0,8.0,0.0,1.0,2.0,3.0,4.0,5.0,6.0,7.0,8.0,0.0,1.0,2.0,3.0,4.0,5.0,6.0,7.0,8.0,0.0,1.0,2.0,3.0,4.0,5.0,6.0,7.0,8.0,0.0,1.0,2.0,3.0,4.0,5.0,6.0,7.0,8.0,0.0,1.0,2.0,3.0,4.0,5.0,6.0,7.0,8.0,0.0,1.0,2.0,3.0,4.0,5.0,6.0,7.0,8.0,0.0,1.0,2.0,3.0,4.0,5.0,6.0,7.0,8.0]},\"selected\":{\"id\":\"2749\"},\"selection_policy\":{\"id\":\"2748\"}},\"id\":\"2730\",\"type\":\"ColumnDataSource\"},{\"attributes\":{},\"id\":\"2706\",\"type\":\"WheelZoomTool\"},{\"attributes\":{\"formatter\":{\"id\":\"2744\"},\"ticker\":{\"id\":\"2702\"},\"visible\":false},\"id\":\"2701\",\"type\":\"LinearAxis\"},{\"attributes\":{\"overlay\":{\"id\":\"2711\"}},\"id\":\"2707\",\"type\":\"BoxZoomTool\"},{\"attributes\":{\"args\":{\"cost\":{\"id\":\"2720\"},\"done\":{\"id\":\"2721\"},\"n\":{\"id\":\"2722\"},\"source\":{\"id\":\"2723\"},\"tour\":{\"id\":\"2724\"}},\"code\":\"\\nif ((parseInt(n.text) + 1) < source.data['edges_y'].length) {\\n    n.text = (parseInt(n.text) + 1).toString()\\n}\\nvar iteration = parseInt(n.text)\\n\\nif (iteration == source.data['edges_y'].length - 2) {\\n    iteration = iteration + 1\\n}\\n\\n    cost.text = source.data['costs'][iteration].toFixed(1)\\n    \\n    if (iteration == source.data['edges_y'].length - 1) {\\n        done.text = \\\"done.\\\"\\n    } else {\\n        done.text = \\\"\\\"\\n    }\\n\\n    tour.data['edges_x'] = source.data['edges_x'][iteration]\\n    tour.data['edges_y'] = source.data['edges_y'][iteration]\\n    tour.change.emit()\\n    \"},\"id\":\"2736\",\"type\":\"CustomJS\"},{\"attributes\":{},\"id\":\"2708\",\"type\":\"SaveTool\"},{\"attributes\":{\"button_type\":\"success\",\"icon\":null,\"js_event_callbacks\":{\"button_click\":[{\"id\":\"2738\"}]},\"label\":\"Previous\",\"sizing_mode\":\"scale_width\",\"width_policy\":\"fit\"},\"id\":\"2737\",\"type\":\"Button\"},{\"attributes\":{},\"id\":\"2709\",\"type\":\"ResetTool\"},{\"attributes\":{\"args\":{\"cost\":{\"id\":\"2720\"},\"done\":{\"id\":\"2721\"},\"n\":{\"id\":\"2722\"},\"source\":{\"id\":\"2723\"},\"tour\":{\"id\":\"2724\"}},\"code\":\"\\nif ((parseInt(n.text) - 1) >= 0) {\\n    n.text = (parseInt(n.text) - 1).toString()\\n}\\nvar iteration = parseInt(n.text)\\n\\nif (iteration == source.data['edges_y'].length - 2) {\\n    iteration = iteration - 1\\n}\\n\\n    cost.text = source.data['costs'][iteration].toFixed(1)\\n    \\n    if (iteration == source.data['edges_y'].length - 1) {\\n        done.text = \\\"done.\\\"\\n    } else {\\n        done.text = \\\"\\\"\\n    }\\n\\n    tour.data['edges_x'] = source.data['edges_x'][iteration]\\n    tour.data['edges_y'] = source.data['edges_y'][iteration]\\n    tour.change.emit()\\n    \"},\"id\":\"2738\",\"type\":\"CustomJS\"},{\"attributes\":{},\"id\":\"2710\",\"type\":\"HelpTool\"},{\"attributes\":{\"children\":[{\"id\":\"2737\"},{\"id\":\"2735\"}],\"max_width\":400,\"sizing_mode\":\"stretch_both\"},\"id\":\"2739\",\"type\":\"Row\"},{\"attributes\":{},\"id\":\"2698\",\"type\":\"BasicTicker\"},{\"attributes\":{\"fill_color\":{\"value\":\"steelblue\"},\"line_color\":{\"value\":\"steelblue\"},\"size\":{\"units\":\"screen\",\"value\":8},\"x\":{\"field\":\"x\"},\"y\":{\"field\":\"y\"}},\"id\":\"2731\",\"type\":\"Circle\"},{\"attributes\":{\"children\":[{\"id\":\"2720\"},{\"id\":\"2721\"}]},\"id\":\"2740\",\"type\":\"Row\"},{\"attributes\":{\"active_drag\":\"auto\",\"active_inspect\":\"auto\",\"active_multi\":null,\"active_scroll\":\"auto\",\"active_tap\":\"auto\",\"logo\":null,\"tools\":[{\"id\":\"2705\"},{\"id\":\"2706\"},{\"id\":\"2707\"},{\"id\":\"2708\"},{\"id\":\"2709\"},{\"id\":\"2710\"}]},\"id\":\"2712\",\"type\":\"Toolbar\"},{\"attributes\":{\"fill_alpha\":{\"value\":0.1},\"fill_color\":{\"value\":\"steelblue\"},\"line_alpha\":{\"value\":0.1},\"line_color\":{\"value\":\"steelblue\"},\"size\":{\"units\":\"screen\",\"value\":8},\"x\":{\"field\":\"x\"},\"y\":{\"field\":\"y\"}},\"id\":\"2732\",\"type\":\"Circle\"},{\"attributes\":{},\"id\":\"2702\",\"type\":\"BasicTicker\"},{\"attributes\":{\"button_type\":\"success\",\"icon\":null,\"js_event_callbacks\":{\"button_click\":[{\"id\":\"2736\"}]},\"label\":\"Next\",\"sizing_mode\":\"scale_width\",\"width_policy\":\"fit\"},\"id\":\"2735\",\"type\":\"Button\"},{\"attributes\":{},\"id\":\"2742\",\"type\":\"BasicTickFormatter\"},{\"attributes\":{},\"id\":\"2695\",\"type\":\"LinearScale\"},{\"attributes\":{},\"id\":\"2744\",\"type\":\"BasicTickFormatter\"},{\"attributes\":{},\"id\":\"2693\",\"type\":\"LinearScale\"},{\"attributes\":{\"bottom_units\":\"screen\",\"fill_alpha\":0.5,\"fill_color\":\"lightgrey\",\"left_units\":\"screen\",\"level\":\"overlay\",\"line_alpha\":1.0,\"line_color\":\"black\",\"line_dash\":[4,4],\"line_width\":2,\"right_units\":\"screen\",\"top_units\":\"screen\"},\"id\":\"2711\",\"type\":\"BoxAnnotation\"},{\"attributes\":{},\"id\":\"2746\",\"type\":\"UnionRenderers\"},{\"attributes\":{\"align\":\"center\",\"text\":\"0\",\"width\":400},\"id\":\"2722\",\"type\":\"Div\"},{\"attributes\":{\"end\":8.68,\"start\":-0.68},\"id\":\"2691\",\"type\":\"Range1d\"},{\"attributes\":{},\"id\":\"2747\",\"type\":\"Selection\"},{\"attributes\":{\"data\":{\"costs\":[22.627416997969522,27.31370849898476,32.0,35.31370849898476,35.31370849898476,35.31370849898476,37.65685424949238,37.65685424949238,37.65685424949238,39.31370849898476,40.97056274847714,42.627416997969526,42.627416997969526,43.798989873223334,44.97056274847714,46.14213562373096,46.14213562373096,48.61427157873054,49.78584445398434,50.14213562373095,50.14213562373095,51.31370849898477,54.14213562373095,54.14213562373095,54.97056274847714,55.798989873223334,56.62741699796952,57.45584412271571,58.28427124746191,58.28427124746191,59.112698372208094,59.941125496954285,59.94112549695428,59.94112549695427,59.941125496954264,59.941125496954264,60.769552621700456,61.59797974644664,62.42640687119283,63.254833995939016,63.84062043356592,64.42640687119282,65.01219330881972,65.59797974644663,66.18376618407353,66.18376618407353,66.76955262170043,66.76955262170043,67.35533905932735,67.94112549695424,68.52691193458116,69.11269837220807,69.69848480983498,69.69848480983498,69.69848480983498,70.28427124746189,70.28427124746189,70.8700576850888,71.45584412271569,71.45584412271569,72.0416305603426,72.6274169979695,73.21320343559641,73.79898987322332,74.38477631085023,74.97056274847714,74.97056274847714,75.55634918610403,76.97056274847714,78.38477631085021,79.62084428835001,80.20663072597691,80.79241716360383,81.37820360123072,81.96399003885763,82.14213562373094,82.72792206135784,83.31370849898475,83.31370849898475,83.89949493661166,83.89949493661166],\"edges_x\":[[0.0,8.0,0.0],[0.0,8.0,8.0,0.0],[0.0,8.0,8.0,0.0,0.0],[0.0,4.0,8.0,8.0,0.0,0.0],[0.0,4.0,8.0,8.0,4.0,0.0,0.0],[0.0,4.0,8.0,8.0,8.0,4.0,0.0,0.0],[0.0,4.0,4.0,8.0,8.0,8.0,4.0,0.0,0.0],[0.0,4.0,4.0,8.0,8.0,8.0,4.0,0.0,0.0,0.0],[0.0,4.0,4.0,6.0,8.0,8.0,8.0,4.0,0.0,0.0,0.0],[0.0,2.0,4.0,4.0,6.0,8.0,8.0,8.0,4.0,0.0,0.0,0.0],[0.0,2.0,4.0,4.0,6.0,8.0,8.0,8.0,4.0,2.0,0.0,0.0,0.0],[0.0,2.0,4.0,4.0,6.0,8.0,8.0,6.0,8.0,4.0,2.0,0.0,0.0,0.0],[0.0,2.0,4.0,4.0,4.0,6.0,8.0,8.0,6.0,8.0,4.0,2.0,0.0,0.0,0.0],[0.0,2.0,2.0,4.0,4.0,4.0,6.0,8.0,8.0,6.0,8.0,4.0,2.0,0.0,0.0,0.0],[0.0,2.0,2.0,4.0,4.0,4.0,6.0,8.0,8.0,6.0,8.0,4.0,2.0,2.0,0.0,0.0,0.0],[0.0,2.0,2.0,4.0,4.0,4.0,6.0,6.0,8.0,8.0,6.0,8.0,4.0,2.0,2.0,0.0,0.0,0.0],[0.0,2.0,2.0,4.0,4.0,4.0,6.0,6.0,8.0,8.0,6.0,8.0,4.0,2.0,2.0,0.0,0.0,0.0,0.0],[0.0,2.0,2.0,4.0,4.0,4.0,6.0,6.0,8.0,8.0,6.0,8.0,4.0,2.0,2.0,0.0,2.0,0.0,0.0,0.0],[0.0,2.0,2.0,4.0,4.0,4.0,6.0,6.0,8.0,8.0,8.0,6.0,8.0,4.0,2.0,2.0,0.0,2.0,0.0,0.0,0.0],[0.0,2.0,2.0,4.0,4.0,4.0,6.0,6.0,8.0,8.0,8.0,6.0,8.0,4.0,2.0,2.0,0.0,0.0,2.0,0.0,0.0,0.0],[0.0,2.0,2.0,4.0,4.0,4.0,6.0,6.0,8.0,8.0,8.0,6.0,8.0,6.0,4.0,2.0,2.0,0.0,0.0,2.0,0.0,0.0,0.0],[0.0,2.0,2.0,4.0,4.0,4.0,6.0,6.0,6.0,8.0,8.0,8.0,6.0,8.0,6.0,4.0,2.0,2.0,0.0,0.0,2.0,0.0,0.0,0.0],[0.0,2.0,2.0,4.0,4.0,4.0,4.0,6.0,6.0,6.0,8.0,8.0,8.0,6.0,8.0,6.0,4.0,2.0,2.0,0.0,0.0,2.0,0.0,0.0,0.0],[0.0,2.0,2.0,4.0,4.0,4.0,4.0,6.0,6.0,6.0,8.0,8.0,8.0,8.0,6.0,8.0,6.0,4.0,2.0,2.0,0.0,0.0,2.0,0.0,0.0,0.0],[0.0,2.0,2.0,4.0,4.0,3.0,4.0,4.0,6.0,6.0,6.0,8.0,8.0,8.0,8.0,6.0,8.0,6.0,4.0,2.0,2.0,0.0,0.0,2.0,0.0,0.0,0.0],[0.0,1.0,2.0,2.0,4.0,4.0,3.0,4.0,4.0,6.0,6.0,6.0,8.0,8.0,8.0,8.0,6.0,8.0,6.0,4.0,2.0,2.0,0.0,0.0,2.0,0.0,0.0,0.0],[0.0,1.0,2.0,2.0,4.0,4.0,3.0,4.0,4.0,6.0,6.0,6.0,8.0,8.0,8.0,8.0,6.0,8.0,6.0,4.0,2.0,2.0,0.0,0.0,2.0,1.0,0.0,0.0,0.0],[0.0,1.0,2.0,2.0,4.0,4.0,3.0,4.0,3.0,4.0,6.0,6.0,6.0,8.0,8.0,8.0,8.0,6.0,8.0,6.0,4.0,2.0,2.0,0.0,0.0,2.0,1.0,0.0,0.0,0.0],[0.0,1.0,2.0,2.0,4.0,4.0,3.0,4.0,3.0,4.0,6.0,6.0,6.0,8.0,8.0,8.0,7.0,8.0,6.0,8.0,6.0,4.0,2.0,2.0,0.0,0.0,2.0,1.0,0.0,0.0,0.0],[0.0,1.0,2.0,2.0,4.0,4.0,3.0,4.0,3.0,4.0,5.0,6.0,6.0,6.0,8.0,8.0,8.0,7.0,8.0,6.0,8.0,6.0,4.0,2.0,2.0,0.0,0.0,2.0,1.0,0.0,0.0,0.0],[0.0,1.0,2.0,2.0,4.0,4.0,3.0,4.0,3.0,4.0,5.0,6.0,6.0,7.0,6.0,8.0,8.0,8.0,7.0,8.0,6.0,8.0,6.0,4.0,2.0,2.0,0.0,0.0,2.0,1.0,0.0,0.0,0.0],[0.0,1.0,2.0,2.0,4.0,4.0,3.0,4.0,3.0,4.0,5.0,6.0,5.0,6.0,7.0,6.0,8.0,8.0,8.0,7.0,8.0,6.0,8.0,6.0,4.0,2.0,2.0,0.0,0.0,2.0,1.0,0.0,0.0,0.0],[0.0,1.0,2.0,2.0,4.0,4.0,3.0,4.0,3.0,4.0,5.0,6.0,5.0,6.0,7.0,6.0,8.0,8.0,8.0,7.0,8.0,6.0,7.0,8.0,6.0,4.0,2.0,2.0,0.0,0.0,2.0,1.0,0.0,0.0,0.0],[0.0,1.0,2.0,2.0,4.0,4.0,3.0,4.0,3.0,4.0,5.0,6.0,5.0,6.0,7.0,6.0,8.0,8.0,8.0,7.0,8.0,6.0,7.0,8.0,6.0,4.0,2.0,2.0,1.0,0.0,0.0,2.0,1.0,0.0,0.0,0.0],[0.0,1.0,2.0,2.0,4.0,4.0,3.0,4.0,3.0,4.0,5.0,6.0,5.0,6.0,7.0,6.0,8.0,8.0,8.0,7.0,8.0,6.0,7.0,8.0,6.0,4.0,2.0,2.0,1.0,0.0,0.0,1.0,2.0,1.0,0.0,0.0,0.0],[0.0,1.0,2.0,2.0,3.0,4.0,4.0,3.0,4.0,3.0,4.0,5.0,6.0,5.0,6.0,7.0,6.0,8.0,8.0,8.0,7.0,8.0,6.0,7.0,8.0,6.0,4.0,2.0,2.0,1.0,0.0,0.0,1.0,2.0,1.0,0.0,0.0,0.0],[0.0,1.0,2.0,2.0,3.0,4.0,5.0,4.0,3.0,4.0,3.0,4.0,5.0,6.0,5.0,6.0,7.0,6.0,8.0,8.0,8.0,7.0,8.0,6.0,7.0,8.0,6.0,4.0,2.0,2.0,1.0,0.0,0.0,1.0,2.0,1.0,0.0,0.0,0.0],[0.0,1.0,2.0,2.0,3.0,4.0,5.0,4.0,3.0,4.0,3.0,4.0,5.0,6.0,5.0,6.0,7.0,6.0,8.0,8.0,8.0,7.0,8.0,6.0,7.0,8.0,6.0,5.0,4.0,2.0,2.0,1.0,0.0,0.0,1.0,2.0,1.0,0.0,0.0,0.0],[0.0,1.0,2.0,2.0,3.0,4.0,5.0,4.0,3.0,4.0,3.0,4.0,5.0,6.0,5.0,6.0,7.0,6.0,8.0,8.0,7.0,8.0,7.0,8.0,6.0,7.0,8.0,6.0,5.0,4.0,2.0,2.0,1.0,0.0,0.0,1.0,2.0,1.0,0.0,0.0,0.0],[0.0,1.0,2.0,2.0,3.0,4.0,5.0,4.0,3.0,4.0,3.0,4.0,5.0,6.0,5.0,6.0,7.0,6.0,8.0,8.0,7.0,8.0,7.0,8.0,6.0,7.0,8.0,6.0,5.0,4.0,3.0,2.0,2.0,1.0,0.0,0.0,1.0,2.0,1.0,0.0,0.0,0.0],[0.0,1.0,2.0,2.0,3.0,4.0,5.0,4.0,4.0,3.0,4.0,3.0,4.0,5.0,6.0,5.0,6.0,7.0,6.0,8.0,8.0,7.0,8.0,7.0,8.0,6.0,7.0,8.0,6.0,5.0,4.0,3.0,2.0,2.0,1.0,0.0,0.0,1.0,2.0,1.0,0.0,0.0,0.0],[0.0,1.0,1.0,2.0,2.0,3.0,4.0,5.0,4.0,4.0,3.0,4.0,3.0,4.0,5.0,6.0,5.0,6.0,7.0,6.0,8.0,8.0,7.0,8.0,7.0,8.0,6.0,7.0,8.0,6.0,5.0,4.0,3.0,2.0,2.0,1.0,0.0,0.0,1.0,2.0,1.0,0.0,0.0,0.0],[0.0,1.0,1.0,2.0,2.0,3.0,4.0,5.0,4.0,4.0,3.0,4.0,4.0,3.0,4.0,5.0,6.0,5.0,6.0,7.0,6.0,8.0,8.0,7.0,8.0,7.0,8.0,6.0,7.0,8.0,6.0,5.0,4.0,3.0,2.0,2.0,1.0,0.0,0.0,1.0,2.0,1.0,0.0,0.0,0.0],[0.0,1.0,1.0,2.0,2.0,3.0,4.0,5.0,4.0,4.0,3.0,3.0,4.0,4.0,3.0,4.0,5.0,6.0,5.0,6.0,7.0,6.0,8.0,8.0,7.0,8.0,7.0,8.0,6.0,7.0,8.0,6.0,5.0,4.0,3.0,2.0,2.0,1.0,0.0,0.0,1.0,2.0,1.0,0.0,0.0,0.0],[0.0,1.0,1.0,2.0,2.0,3.0,4.0,5.0,4.0,4.0,3.0,3.0,4.0,4.0,3.0,4.0,5.0,5.0,6.0,5.0,6.0,7.0,6.0,8.0,8.0,7.0,8.0,7.0,8.0,6.0,7.0,8.0,6.0,5.0,4.0,3.0,2.0,2.0,1.0,0.0,0.0,1.0,2.0,1.0,0.0,0.0,0.0],[0.0,1.0,1.0,2.0,2.0,3.0,4.0,5.0,4.0,4.0,3.0,3.0,4.0,4.0,3.0,4.0,5.0,5.0,6.0,5.0,6.0,7.0,6.0,8.0,8.0,7.0,8.0,7.0,8.0,6.0,7.0,8.0,7.0,6.0,5.0,4.0,3.0,2.0,2.0,1.0,0.0,0.0,1.0,2.0,1.0,0.0,0.0,0.0],[0.0,1.0,1.0,2.0,2.0,3.0,4.0,5.0,4.0,4.0,3.0,3.0,4.0,4.0,3.0,4.0,5.0,5.0,6.0,5.0,6.0,7.0,6.0,8.0,8.0,8.0,7.0,8.0,7.0,8.0,6.0,7.0,8.0,7.0,6.0,5.0,4.0,3.0,2.0,2.0,1.0,0.0,0.0,1.0,2.0,1.0,0.0,0.0,0.0],[0.0,1.0,1.0,2.0,2.0,3.0,4.0,5.0,4.0,4.0,3.0,3.0,4.0,4.0,3.0,4.0,5.0,5.0,6.0,5.0,6.0,7.0,6.0,8.0,8.0,8.0,7.0,8.0,7.0,8.0,7.0,6.0,7.0,8.0,7.0,6.0,5.0,4.0,3.0,2.0,2.0,1.0,0.0,0.0,1.0,2.0,1.0,0.0,0.0,0.0],[0.0,1.0,1.0,2.0,2.0,3.0,4.0,5.0,4.0,4.0,3.0,3.0,4.0,4.0,3.0,4.0,5.0,5.0,6.0,5.0,6.0,7.0,6.0,8.0,8.0,8.0,7.0,8.0,7.0,8.0,7.0,6.0,7.0,8.0,7.0,6.0,5.0,4.0,4.0,3.0,2.0,2.0,1.0,0.0,0.0,1.0,2.0,1.0,0.0,0.0,0.0],[0.0,1.0,1.0,2.0,2.0,3.0,4.0,5.0,4.0,4.0,3.0,3.0,4.0,4.0,3.0,4.0,5.0,5.0,6.0,5.0,6.0,7.0,6.0,8.0,8.0,8.0,7.0,8.0,7.0,8.0,7.0,6.0,7.0,8.0,7.0,6.0,5.0,4.0,4.0,3.0,2.0,2.0,1.0,0.0,0.0,0.0,1.0,2.0,1.0,0.0,0.0,0.0],[0.0,1.0,1.0,2.0,2.0,3.0,4.0,5.0,4.0,4.0,3.0,3.0,4.0,4.0,3.0,4.0,5.0,5.0,6.0,5.0,6.0,7.0,6.0,8.0,8.0,8.0,7.0,7.0,8.0,7.0,8.0,7.0,6.0,7.0,8.0,7.0,6.0,5.0,4.0,4.0,3.0,2.0,2.0,1.0,0.0,0.0,0.0,1.0,2.0,1.0,0.0,0.0,0.0],[0.0,1.0,1.0,2.0,2.0,3.0,4.0,5.0,4.0,4.0,3.0,3.0,4.0,4.0,3.0,4.0,5.0,5.0,6.0,5.0,6.0,7.0,6.0,8.0,8.0,8.0,7.0,7.0,8.0,8.0,7.0,8.0,7.0,6.0,7.0,8.0,7.0,6.0,5.0,4.0,4.0,3.0,2.0,2.0,1.0,0.0,0.0,0.0,1.0,2.0,1.0,0.0,0.0,0.0],[0.0,1.0,1.0,2.0,2.0,3.0,4.0,5.0,4.0,4.0,3.0,3.0,4.0,4.0,3.0,4.0,5.0,5.0,6.0,5.0,6.0,7.0,6.0,8.0,8.0,8.0,7.0,7.0,8.0,8.0,7.0,8.0,7.0,6.0,7.0,8.0,7.0,6.0,5.0,4.0,4.0,3.0,2.0,2.0,1.0,1.0,0.0,0.0,0.0,1.0,2.0,1.0,0.0,0.0,0.0],[0.0,1.0,1.0,2.0,2.0,3.0,4.0,5.0,4.0,4.0,3.0,3.0,4.0,4.0,3.0,4.0,5.0,5.0,6.0,5.0,6.0,7.0,6.0,8.0,8.0,8.0,7.0,7.0,8.0,8.0,7.0,8.0,7.0,6.0,7.0,8.0,7.0,6.0,5.0,4.0,4.0,3.0,2.0,2.0,1.0,1.0,0.0,0.0,0.0,0.0,1.0,2.0,1.0,0.0,0.0,0.0],[0.0,1.0,1.0,2.0,2.0,3.0,4.0,5.0,4.0,4.0,3.0,3.0,4.0,4.0,3.0,4.0,5.0,5.0,6.0,5.0,6.0,7.0,6.0,8.0,8.0,8.0,7.0,7.0,8.0,8.0,7.0,8.0,7.0,6.0,7.0,8.0,7.0,6.0,5.0,4.0,4.0,3.0,2.0,2.0,1.0,1.0,0.0,0.0,0.0,0.0,1.0,2.0,1.0,0.0,0.0,0.0,0.0],[0.0,1.0,1.0,2.0,2.0,3.0,4.0,5.0,4.0,4.0,3.0,3.0,4.0,4.0,3.0,4.0,5.0,5.0,6.0,5.0,6.0,7.0,6.0,8.0,8.0,8.0,7.0,7.0,8.0,8.0,7.0,8.0,7.0,6.0,7.0,8.0,8.0,7.0,6.0,5.0,4.0,4.0,3.0,2.0,2.0,1.0,1.0,0.0,0.0,0.0,0.0,1.0,2.0,1.0,0.0,0.0,0.0,0.0],[0.0,1.0,1.0,2.0,2.0,3.0,4.0,5.0,4.0,4.0,3.0,3.0,4.0,4.0,3.0,4.0,5.0,5.0,6.0,5.0,6.0,7.0,6.0,7.0,8.0,8.0,8.0,7.0,7.0,8.0,8.0,7.0,8.0,7.0,6.0,7.0,8.0,8.0,7.0,6.0,5.0,4.0,4.0,3.0,2.0,2.0,1.0,1.0,0.0,0.0,0.0,0.0,1.0,2.0,1.0,0.0,0.0,0.0,0.0],[0.0,1.0,1.0,2.0,2.0,3.0,4.0,5.0,4.0,4.0,3.0,3.0,4.0,4.0,3.0,4.0,5.0,5.0,6.0,5.0,6.0,7.0,6.0,7.0,8.0,8.0,8.0,7.0,7.0,8.0,8.0,7.0,8.0,7.0,6.0,7.0,8.0,8.0,7.0,6.0,5.0,4.0,4.0,3.0,2.0,2.0,1.0,1.0,0.0,0.0,0.0,0.0,1.0,1.0,2.0,1.0,0.0,0.0,0.0,0.0],[0.0,1.0,1.0,2.0,2.0,3.0,4.0,5.0,4.0,4.0,3.0,3.0,4.0,4.0,3.0,4.0,5.0,5.0,6.0,5.0,6.0,7.0,7.0,6.0,7.0,8.0,8.0,8.0,7.0,7.0,8.0,8.0,7.0,8.0,7.0,6.0,7.0,8.0,8.0,7.0,6.0,5.0,4.0,4.0,3.0,2.0,2.0,1.0,1.0,0.0,0.0,0.0,0.0,1.0,1.0,2.0,1.0,0.0,0.0,0.0,0.0],[0.0,1.0,1.0,2.0,2.0,3.0,4.0,5.0,4.0,4.0,3.0,3.0,4.0,4.0,3.0,4.0,5.0,5.0,6.0,5.0,6.0,7.0,7.0,6.0,7.0,8.0,8.0,8.0,8.0,7.0,7.0,8.0,8.0,7.0,8.0,7.0,6.0,7.0,8.0,8.0,7.0,6.0,5.0,4.0,4.0,3.0,2.0,2.0,1.0,1.0,0.0,0.0,0.0,0.0,1.0,1.0,2.0,1.0,0.0,0.0,0.0,0.0],[0.0,1.0,1.0,2.0,2.0,3.0,3.0,4.0,5.0,4.0,4.0,3.0,3.0,4.0,4.0,3.0,4.0,5.0,5.0,6.0,5.0,6.0,7.0,7.0,6.0,7.0,8.0,8.0,8.0,8.0,7.0,7.0,8.0,8.0,7.0,8.0,7.0,6.0,7.0,8.0,8.0,7.0,6.0,5.0,4.0,4.0,3.0,2.0,2.0,1.0,1.0,0.0,0.0,0.0,0.0,1.0,1.0,2.0,1.0,0.0,0.0,0.0,0.0],[0.0,1.0,1.0,2.0,2.0,3.0,3.0,4.0,5.0,4.0,4.0,3.0,3.0,4.0,4.0,3.0,4.0,5.0,5.0,6.0,5.0,6.0,7.0,7.0,6.0,7.0,8.0,8.0,8.0,8.0,7.0,7.0,8.0,8.0,7.0,8.0,7.0,6.0,7.0,8.0,8.0,7.0,6.0,5.0,4.0,4.0,3.0,3.0,2.0,2.0,1.0,1.0,0.0,0.0,0.0,0.0,1.0,1.0,2.0,1.0,0.0,0.0,0.0,0.0],[0.0,1.0,1.0,2.0,2.0,3.0,3.0,3.0,4.0,5.0,4.0,4.0,3.0,3.0,4.0,4.0,3.0,4.0,5.0,5.0,6.0,5.0,6.0,7.0,7.0,6.0,7.0,8.0,8.0,8.0,8.0,7.0,7.0,8.0,8.0,7.0,8.0,7.0,6.0,7.0,8.0,8.0,7.0,6.0,5.0,4.0,4.0,3.0,3.0,2.0,2.0,1.0,1.0,0.0,0.0,0.0,0.0,1.0,1.0,2.0,1.0,0.0,0.0,0.0,0.0],[0.0,1.0,1.0,2.0,2.0,3.0,3.0,3.0,4.0,5.0,4.0,4.0,3.0,3.0,4.0,4.0,3.0,4.0,5.0,5.0,6.0,5.0,6.0,7.0,7.0,6.0,7.0,8.0,8.0,8.0,8.0,7.0,7.0,8.0,8.0,7.0,8.0,7.0,6.0,7.0,8.0,8.0,7.0,6.0,5.0,4.0,4.0,3.0,3.0,2.0,2.0,1.0,1.0,1.0,0.0,0.0,0.0,0.0,1.0,1.0,2.0,1.0,0.0,0.0,0.0,0.0],[0.0,1.0,1.0,2.0,2.0,3.0,3.0,3.0,4.0,5.0,4.0,4.0,3.0,3.0,4.0,4.0,3.0,4.0,5.0,5.0,6.0,6.0,5.0,6.0,7.0,7.0,6.0,7.0,8.0,8.0,8.0,8.0,7.0,7.0,8.0,8.0,7.0,8.0,7.0,6.0,7.0,8.0,8.0,7.0,6.0,5.0,4.0,4.0,3.0,3.0,2.0,2.0,1.0,1.0,1.0,0.0,0.0,0.0,0.0,1.0,1.0,2.0,1.0,0.0,0.0,0.0,0.0],[0.0,1.0,1.0,2.0,2.0,3.0,3.0,3.0,4.0,5.0,4.0,4.0,3.0,3.0,4.0,4.0,3.0,3.0,4.0,5.0,5.0,6.0,6.0,5.0,6.0,7.0,7.0,6.0,7.0,8.0,8.0,8.0,8.0,7.0,7.0,8.0,8.0,7.0,8.0,7.0,6.0,7.0,8.0,8.0,7.0,6.0,5.0,4.0,4.0,3.0,3.0,2.0,2.0,1.0,1.0,1.0,0.0,0.0,0.0,0.0,1.0,1.0,2.0,1.0,0.0,0.0,0.0,0.0],[0.0,1.0,1.0,2.0,2.0,3.0,3.0,3.0,4.0,5.0,4.0,4.0,3.0,3.0,4.0,4.0,3.0,3.0,4.0,5.0,5.0,6.0,6.0,5.0,6.0,7.0,7.0,6.0,7.0,8.0,8.0,8.0,8.0,7.0,7.0,8.0,8.0,7.0,8.0,7.0,6.0,7.0,8.0,8.0,7.0,6.0,5.0,4.0,4.0,3.0,3.0,2.0,2.0,2.0,1.0,1.0,1.0,0.0,0.0,0.0,0.0,1.0,1.0,2.0,1.0,0.0,0.0,0.0,0.0],[0.0,1.0,1.0,2.0,2.0,3.0,3.0,3.0,4.0,4.0,5.0,4.0,4.0,3.0,3.0,4.0,4.0,3.0,3.0,4.0,5.0,5.0,6.0,6.0,5.0,6.0,7.0,7.0,6.0,7.0,8.0,8.0,8.0,8.0,7.0,7.0,8.0,8.0,7.0,8.0,7.0,6.0,7.0,8.0,8.0,7.0,6.0,5.0,4.0,4.0,3.0,3.0,2.0,2.0,2.0,1.0,1.0,1.0,0.0,0.0,0.0,0.0,1.0,1.0,2.0,1.0,0.0,0.0,0.0,0.0],[0.0,1.0,1.0,2.0,2.0,3.0,3.0,3.0,4.0,5.0,4.0,5.0,4.0,4.0,3.0,3.0,4.0,4.0,3.0,3.0,4.0,5.0,5.0,6.0,6.0,5.0,6.0,7.0,7.0,6.0,7.0,8.0,8.0,8.0,8.0,7.0,7.0,8.0,8.0,7.0,8.0,7.0,6.0,7.0,8.0,8.0,7.0,6.0,5.0,4.0,4.0,3.0,3.0,2.0,2.0,2.0,1.0,1.0,1.0,0.0,0.0,0.0,0.0,1.0,1.0,2.0,1.0,0.0,0.0,0.0,0.0],[0.0,1.0,1.0,2.0,2.0,3.0,3.0,3.0,4.0,5.0,4.0,5.0,4.0,4.0,3.0,3.0,4.0,4.0,3.0,2.0,3.0,4.0,5.0,5.0,6.0,6.0,5.0,6.0,7.0,7.0,6.0,7.0,8.0,8.0,8.0,8.0,7.0,7.0,8.0,8.0,7.0,8.0,7.0,6.0,7.0,8.0,8.0,7.0,6.0,5.0,4.0,4.0,3.0,3.0,2.0,2.0,2.0,1.0,1.0,1.0,0.0,0.0,0.0,0.0,1.0,1.0,2.0,1.0,0.0,0.0,0.0,0.0],[0.0,1.0,1.0,2.0,1.0,2.0,3.0,3.0,3.0,4.0,5.0,4.0,5.0,4.0,4.0,3.0,3.0,4.0,4.0,3.0,2.0,3.0,4.0,5.0,5.0,6.0,6.0,5.0,6.0,7.0,7.0,6.0,7.0,8.0,8.0,8.0,8.0,7.0,7.0,8.0,8.0,7.0,8.0,7.0,6.0,7.0,8.0,8.0,7.0,6.0,5.0,4.0,4.0,3.0,3.0,2.0,2.0,2.0,1.0,1.0,1.0,0.0,0.0,0.0,0.0,1.0,1.0,2.0,1.0,0.0,0.0,0.0,0.0],[0.0,1.0,1.0,2.0,1.0,2.0,3.0,3.0,3.0,4.0,5.0,4.0,5.0,4.0,4.0,3.0,3.0,4.0,4.0,3.0,2.0,3.0,4.0,5.0,5.0,6.0,6.0,5.0,5.0,6.0,7.0,7.0,6.0,7.0,8.0,8.0,8.0,8.0,7.0,7.0,8.0,8.0,7.0,8.0,7.0,6.0,7.0,8.0,8.0,7.0,6.0,5.0,4.0,4.0,3.0,3.0,2.0,2.0,2.0,1.0,1.0,1.0,0.0,0.0,0.0,0.0,1.0,1.0,2.0,1.0,0.0,0.0,0.0,0.0],[0.0,1.0,1.0,2.0,1.0,2.0,3.0,3.0,3.0,4.0,5.0,4.0,5.0,4.0,4.0,3.0,3.0,4.0,4.0,3.0,2.0,3.0,4.0,5.0,5.0,6.0,6.0,5.0,5.0,6.0,7.0,7.0,6.0,6.0,7.0,8.0,8.0,8.0,8.0,7.0,7.0,8.0,8.0,7.0,8.0,7.0,6.0,7.0,8.0,8.0,7.0,6.0,5.0,4.0,4.0,3.0,3.0,2.0,2.0,2.0,1.0,1.0,1.0,0.0,0.0,0.0,0.0,1.0,1.0,2.0,1.0,0.0,0.0,0.0,0.0],[0.0,1.0,1.0,2.0,1.0,2.0,3.0,3.0,3.0,4.0,5.0,4.0,5.0,4.0,4.0,3.0,3.0,4.0,4.0,3.0,2.0,3.0,4.0,5.0,5.0,6.0,6.0,5.0,5.0,6.0,7.0,7.0,6.0,6.0,7.0,8.0,8.0,8.0,8.0,7.0,7.0,8.0,8.0,7.0,8.0,7.0,6.0,6.0,7.0,8.0,8.0,7.0,6.0,5.0,4.0,4.0,3.0,3.0,2.0,2.0,2.0,1.0,1.0,1.0,0.0,0.0,0.0,0.0,1.0,1.0,2.0,1.0,0.0,0.0,0.0,0.0],[0.0,1.0,1.0,2.0,1.0,2.0,3.0,3.0,3.0,4.0,5.0,4.0,5.0,5.0,4.0,4.0,3.0,3.0,4.0,4.0,3.0,2.0,3.0,4.0,5.0,5.0,6.0,6.0,5.0,5.0,6.0,7.0,7.0,6.0,6.0,7.0,8.0,8.0,8.0,8.0,7.0,7.0,8.0,8.0,7.0,8.0,7.0,6.0,6.0,7.0,8.0,8.0,7.0,6.0,5.0,4.0,4.0,3.0,3.0,2.0,2.0,2.0,1.0,1.0,1.0,0.0,0.0,0.0,0.0,1.0,1.0,2.0,1.0,0.0,0.0,0.0,0.0],[0.0,1.0,1.0,2.0,2.0,1.0,2.0,3.0,3.0,3.0,4.0,5.0,4.0,5.0,5.0,4.0,4.0,3.0,3.0,4.0,4.0,3.0,2.0,3.0,4.0,5.0,5.0,6.0,6.0,5.0,5.0,6.0,7.0,7.0,6.0,6.0,7.0,8.0,8.0,8.0,8.0,7.0,7.0,8.0,8.0,7.0,8.0,7.0,6.0,6.0,7.0,8.0,8.0,7.0,6.0,5.0,4.0,4.0,3.0,3.0,2.0,2.0,2.0,1.0,1.0,1.0,0.0,0.0,0.0,0.0,1.0,1.0,2.0,1.0,0.0,0.0,0.0,0.0],[0.0,1.0,1.0,2.0,2.0,1.0,2.0,3.0,3.0,3.0,4.0,5.0,4.0,5.0,5.0,4.0,4.0,3.0,3.0,4.0,4.0,3.0,2.0,3.0,4.0,5.0,5.0,6.0,6.0,5.0,5.0,6.0,6.0,7.0,7.0,6.0,6.0,7.0,8.0,8.0,8.0,8.0,7.0,7.0,8.0,8.0,7.0,8.0,7.0,6.0,6.0,7.0,8.0,8.0,7.0,6.0,5.0,4.0,4.0,3.0,3.0,2.0,2.0,2.0,1.0,1.0,1.0,0.0,0.0,0.0,0.0,1.0,1.0,2.0,1.0,0.0,0.0,0.0,0.0],[0.0,1.0,1.0,2.0,2.0,1.0,2.0,3.0,3.0,3.0,4.0,5.0,4.0,5.0,5.0,4.0,4.0,3.0,3.0,4.0,4.0,3.0,2.0,3.0,4.0,5.0,5.0,6.0,6.0,5.0,5.0,6.0,6.0,7.0,7.0,6.0,6.0,7.0,8.0,8.0,8.0,8.0,7.0,7.0,8.0,8.0,7.0,8.0,7.0,6.0,6.0,7.0,8.0,8.0,7.0,6.0,5.0,5.0,4.0,4.0,3.0,3.0,2.0,2.0,2.0,1.0,1.0,1.0,0.0,0.0,0.0,0.0,1.0,1.0,2.0,1.0,0.0,0.0,0.0,0.0],[0.0,1.0,1.0,2.0,2.0,1.0,2.0,3.0,3.0,3.0,4.0,5.0,4.0,5.0,5.0,4.0,4.0,3.0,3.0,4.0,4.0,3.0,2.0,3.0,4.0,5.0,5.0,6.0,6.0,5.0,5.0,6.0,6.0,7.0,7.0,6.0,6.0,7.0,8.0,8.0,8.0,8.0,7.0,7.0,8.0,8.0,7.0,8.0,7.0,6.0,6.0,7.0,8.0,8.0,7.0,6.0,5.0,5.0,4.0,4.0,3.0,3.0,2.0,2.0,2.0,1.0,1.0,1.0,0.0,0.0,0.0,0.0,1.0,1.0,2.0,1.0,0.0,0.0,0.0,0.0,0.0],[0.0,1.0,1.0,2.0,2.0,1.0,2.0,3.0,3.0,3.0,4.0,5.0,4.0,5.0,5.0,4.0,4.0,3.0,3.0,4.0,4.0,3.0,2.0,3.0,4.0,5.0,5.0,6.0,6.0,5.0,5.0,6.0,6.0,7.0,7.0,6.0,6.0,7.0,8.0,8.0,8.0,8.0,7.0,7.0,8.0,8.0,7.0,8.0,7.0,6.0,6.0,7.0,8.0,8.0,7.0,6.0,5.0,5.0,4.0,4.0,3.0,3.0,2.0,2.0,2.0,1.0,1.0,1.0,0.0,0.0,0.0,0.0,1.0,1.0,2.0,2.0,1.0,0.0,0.0,0.0,0.0,0.0],[0.0,1.0,1.0,2.0,2.0,1.0,2.0,3.0,3.0,3.0,4.0,5.0,4.0,5.0,5.0,4.0,4.0,3.0,3.0,4.0,4.0,3.0,2.0,3.0,4.0,5.0,5.0,6.0,6.0,5.0,5.0,6.0,6.0,7.0,7.0,6.0,6.0,7.0,8.0,8.0,8.0,8.0,7.0,7.0,8.0,8.0,7.0,8.0,7.0,6.0,6.0,7.0,8.0,8.0,7.0,6.0,5.0,5.0,4.0,4.0,3.0,3.0,2.0,2.0,2.0,1.0,1.0,1.0,0.0,0.0,0.0,0.0,1.0,1.0,2.0,2.0,1.0,0.0,0.0,0.0,0.0,0.0]],\"edges_y\":[[0.0,8.0,0.0],[0.0,0.0,8.0,0.0],[0.0,0.0,8.0,8.0,0.0],[0.0,4.0,0.0,8.0,8.0,0.0],[0.0,4.0,0.0,8.0,8.0,8.0,0.0],[0.0,4.0,0.0,4.0,8.0,8.0,8.0,0.0],[0.0,0.0,4.0,0.0,4.0,8.0,8.0,8.0,0.0],[0.0,0.0,4.0,0.0,4.0,8.0,8.0,8.0,4.0,0.0],[0.0,0.0,4.0,2.0,0.0,4.0,8.0,8.0,8.0,4.0,0.0],[0.0,2.0,0.0,4.0,2.0,0.0,4.0,8.0,8.0,8.0,4.0,0.0],[0.0,2.0,0.0,4.0,2.0,0.0,4.0,8.0,8.0,6.0,8.0,4.0,0.0],[0.0,2.0,0.0,4.0,2.0,0.0,4.0,6.0,8.0,8.0,6.0,8.0,4.0,0.0],[0.0,2.0,0.0,2.0,4.0,2.0,0.0,4.0,6.0,8.0,8.0,6.0,8.0,4.0,0.0],[0.0,0.0,2.0,0.0,2.0,4.0,2.0,0.0,4.0,6.0,8.0,8.0,6.0,8.0,4.0,0.0],[0.0,0.0,2.0,0.0,2.0,4.0,2.0,0.0,4.0,6.0,8.0,8.0,8.0,6.0,8.0,4.0,0.0],[0.0,0.0,2.0,0.0,2.0,4.0,2.0,0.0,0.0,4.0,6.0,8.0,8.0,8.0,6.0,8.0,4.0,0.0],[0.0,0.0,2.0,0.0,2.0,4.0,2.0,0.0,0.0,4.0,6.0,8.0,8.0,8.0,6.0,8.0,4.0,2.0,0.0],[0.0,0.0,2.0,0.0,2.0,4.0,2.0,0.0,0.0,4.0,6.0,8.0,8.0,8.0,6.0,8.0,4.0,4.0,2.0,0.0],[0.0,0.0,2.0,0.0,2.0,4.0,2.0,0.0,0.0,4.0,6.0,6.0,8.0,8.0,8.0,6.0,8.0,4.0,4.0,2.0,0.0],[0.0,0.0,2.0,0.0,2.0,4.0,2.0,0.0,0.0,4.0,6.0,6.0,8.0,8.0,8.0,6.0,8.0,6.0,4.0,4.0,2.0,0.0],[0.0,0.0,2.0,0.0,2.0,4.0,2.0,0.0,0.0,4.0,6.0,6.0,8.0,8.0,8.0,8.0,6.0,8.0,6.0,4.0,4.0,2.0,0.0],[0.0,0.0,2.0,0.0,2.0,4.0,4.0,2.0,0.0,0.0,4.0,6.0,6.0,8.0,8.0,8.0,8.0,6.0,8.0,6.0,4.0,4.0,2.0,0.0],[0.0,0.0,2.0,0.0,2.0,4.0,6.0,4.0,2.0,0.0,0.0,4.0,6.0,6.0,8.0,8.0,8.0,8.0,6.0,8.0,6.0,4.0,4.0,2.0,0.0],[0.0,0.0,2.0,0.0,2.0,4.0,6.0,4.0,2.0,0.0,0.0,2.0,4.0,6.0,6.0,8.0,8.0,8.0,8.0,6.0,8.0,6.0,4.0,4.0,2.0,0.0],[0.0,0.0,2.0,0.0,2.0,3.0,4.0,6.0,4.0,2.0,0.0,0.0,2.0,4.0,6.0,6.0,8.0,8.0,8.0,8.0,6.0,8.0,6.0,4.0,4.0,2.0,0.0],[0.0,1.0,0.0,2.0,0.0,2.0,3.0,4.0,6.0,4.0,2.0,0.0,0.0,2.0,4.0,6.0,6.0,8.0,8.0,8.0,8.0,6.0,8.0,6.0,4.0,4.0,2.0,0.0],[0.0,1.0,0.0,2.0,0.0,2.0,3.0,4.0,6.0,4.0,2.0,0.0,0.0,2.0,4.0,6.0,6.0,8.0,8.0,8.0,8.0,6.0,8.0,6.0,4.0,3.0,4.0,2.0,0.0],[0.0,1.0,0.0,2.0,0.0,2.0,3.0,4.0,5.0,6.0,4.0,2.0,0.0,0.0,2.0,4.0,6.0,6.0,8.0,8.0,8.0,8.0,6.0,8.0,6.0,4.0,3.0,4.0,2.0,0.0],[0.0,1.0,0.0,2.0,0.0,2.0,3.0,4.0,5.0,6.0,4.0,2.0,0.0,0.0,2.0,4.0,5.0,6.0,6.0,8.0,8.0,8.0,8.0,6.0,8.0,6.0,4.0,3.0,4.0,2.0,0.0],[0.0,1.0,0.0,2.0,0.0,2.0,3.0,4.0,5.0,6.0,5.0,4.0,2.0,0.0,0.0,2.0,4.0,5.0,6.0,6.0,8.0,8.0,8.0,8.0,6.0,8.0,6.0,4.0,3.0,4.0,2.0,0.0],[0.0,1.0,0.0,2.0,0.0,2.0,3.0,4.0,5.0,6.0,5.0,4.0,2.0,1.0,0.0,0.0,2.0,4.0,5.0,6.0,6.0,8.0,8.0,8.0,8.0,6.0,8.0,6.0,4.0,3.0,4.0,2.0,0.0],[0.0,1.0,0.0,2.0,0.0,2.0,3.0,4.0,5.0,6.0,5.0,4.0,3.0,2.0,1.0,0.0,0.0,2.0,4.0,5.0,6.0,6.0,8.0,8.0,8.0,8.0,6.0,8.0,6.0,4.0,3.0,4.0,2.0,0.0],[0.0,1.0,0.0,2.0,0.0,2.0,3.0,4.0,5.0,6.0,5.0,4.0,3.0,2.0,1.0,0.0,0.0,2.0,4.0,5.0,6.0,6.0,7.0,8.0,8.0,8.0,8.0,6.0,8.0,6.0,4.0,3.0,4.0,2.0,0.0],[0.0,1.0,0.0,2.0,0.0,2.0,3.0,4.0,5.0,6.0,5.0,4.0,3.0,2.0,1.0,0.0,0.0,2.0,4.0,5.0,6.0,6.0,7.0,8.0,8.0,8.0,8.0,6.0,7.0,8.0,6.0,4.0,3.0,4.0,2.0,0.0],[0.0,1.0,0.0,2.0,0.0,2.0,3.0,4.0,5.0,6.0,5.0,4.0,3.0,2.0,1.0,0.0,0.0,2.0,4.0,5.0,6.0,6.0,7.0,8.0,8.0,8.0,8.0,6.0,7.0,8.0,6.0,5.0,4.0,3.0,4.0,2.0,0.0],[0.0,1.0,0.0,2.0,1.0,0.0,2.0,3.0,4.0,5.0,6.0,5.0,4.0,3.0,2.0,1.0,0.0,0.0,2.0,4.0,5.0,6.0,6.0,7.0,8.0,8.0,8.0,8.0,6.0,7.0,8.0,6.0,5.0,4.0,3.0,4.0,2.0,0.0],[0.0,1.0,0.0,2.0,1.0,0.0,1.0,2.0,3.0,4.0,5.0,6.0,5.0,4.0,3.0,2.0,1.0,0.0,0.0,2.0,4.0,5.0,6.0,6.0,7.0,8.0,8.0,8.0,8.0,6.0,7.0,8.0,6.0,5.0,4.0,3.0,4.0,2.0,0.0],[0.0,1.0,0.0,2.0,1.0,0.0,1.0,2.0,3.0,4.0,5.0,6.0,5.0,4.0,3.0,2.0,1.0,0.0,0.0,2.0,4.0,5.0,6.0,6.0,7.0,8.0,8.0,7.0,8.0,8.0,6.0,7.0,8.0,6.0,5.0,4.0,3.0,4.0,2.0,0.0],[0.0,1.0,0.0,2.0,1.0,0.0,1.0,2.0,3.0,4.0,5.0,6.0,5.0,4.0,3.0,2.0,1.0,0.0,0.0,2.0,3.0,4.0,5.0,6.0,6.0,7.0,8.0,8.0,7.0,8.0,8.0,6.0,7.0,8.0,6.0,5.0,4.0,3.0,4.0,2.0,0.0],[0.0,1.0,0.0,2.0,1.0,0.0,1.0,2.0,3.0,4.0,5.0,6.0,5.0,4.0,3.0,2.0,1.0,0.0,0.0,2.0,3.0,4.0,5.0,6.0,6.0,7.0,8.0,8.0,7.0,8.0,7.0,8.0,6.0,7.0,8.0,6.0,5.0,4.0,3.0,4.0,2.0,0.0],[0.0,1.0,0.0,2.0,1.0,0.0,1.0,2.0,3.0,3.0,4.0,5.0,6.0,5.0,4.0,3.0,2.0,1.0,0.0,0.0,2.0,3.0,4.0,5.0,6.0,6.0,7.0,8.0,8.0,7.0,8.0,7.0,8.0,6.0,7.0,8.0,6.0,5.0,4.0,3.0,4.0,2.0,0.0],[0.0,0.0,1.0,0.0,2.0,1.0,0.0,1.0,2.0,3.0,3.0,4.0,5.0,6.0,5.0,4.0,3.0,2.0,1.0,0.0,0.0,2.0,3.0,4.0,5.0,6.0,6.0,7.0,8.0,8.0,7.0,8.0,7.0,8.0,6.0,7.0,8.0,6.0,5.0,4.0,3.0,4.0,2.0,0.0],[0.0,0.0,1.0,0.0,2.0,1.0,0.0,1.0,2.0,3.0,3.0,4.0,5.0,5.0,6.0,5.0,4.0,3.0,2.0,1.0,0.0,0.0,2.0,3.0,4.0,5.0,6.0,6.0,7.0,8.0,8.0,7.0,8.0,7.0,8.0,6.0,7.0,8.0,6.0,5.0,4.0,3.0,4.0,2.0,0.0],[0.0,0.0,1.0,0.0,2.0,1.0,0.0,1.0,2.0,3.0,3.0,4.0,4.0,5.0,5.0,6.0,5.0,4.0,3.0,2.0,1.0,0.0,0.0,2.0,3.0,4.0,5.0,6.0,6.0,7.0,8.0,8.0,7.0,8.0,7.0,8.0,6.0,7.0,8.0,6.0,5.0,4.0,3.0,4.0,2.0,0.0],[0.0,0.0,1.0,0.0,2.0,1.0,0.0,1.0,2.0,3.0,3.0,4.0,4.0,5.0,5.0,6.0,6.0,5.0,4.0,3.0,2.0,1.0,0.0,0.0,2.0,3.0,4.0,5.0,6.0,6.0,7.0,8.0,8.0,7.0,8.0,7.0,8.0,6.0,7.0,8.0,6.0,5.0,4.0,3.0,4.0,2.0,0.0],[0.0,0.0,1.0,0.0,2.0,1.0,0.0,1.0,2.0,3.0,3.0,4.0,4.0,5.0,5.0,6.0,6.0,5.0,4.0,3.0,2.0,1.0,0.0,0.0,2.0,3.0,4.0,5.0,6.0,6.0,7.0,8.0,8.0,8.0,7.0,8.0,7.0,8.0,6.0,7.0,8.0,6.0,5.0,4.0,3.0,4.0,2.0,0.0],[0.0,0.0,1.0,0.0,2.0,1.0,0.0,1.0,2.0,3.0,3.0,4.0,4.0,5.0,5.0,6.0,6.0,5.0,4.0,3.0,2.0,1.0,0.0,0.0,2.0,3.0,3.0,4.0,5.0,6.0,6.0,7.0,8.0,8.0,8.0,7.0,8.0,7.0,8.0,6.0,7.0,8.0,6.0,5.0,4.0,3.0,4.0,2.0,0.0],[0.0,0.0,1.0,0.0,2.0,1.0,0.0,1.0,2.0,3.0,3.0,4.0,4.0,5.0,5.0,6.0,6.0,5.0,4.0,3.0,2.0,1.0,0.0,0.0,2.0,3.0,3.0,4.0,5.0,6.0,6.0,6.0,7.0,8.0,8.0,8.0,7.0,8.0,7.0,8.0,6.0,7.0,8.0,6.0,5.0,4.0,3.0,4.0,2.0,0.0],[0.0,0.0,1.0,0.0,2.0,1.0,0.0,1.0,2.0,3.0,3.0,4.0,4.0,5.0,5.0,6.0,6.0,5.0,4.0,3.0,2.0,1.0,0.0,0.0,2.0,3.0,3.0,4.0,5.0,6.0,6.0,6.0,7.0,8.0,8.0,8.0,7.0,7.0,8.0,7.0,8.0,6.0,7.0,8.0,6.0,5.0,4.0,3.0,4.0,2.0,0.0],[0.0,0.0,1.0,0.0,2.0,1.0,0.0,1.0,2.0,3.0,3.0,4.0,4.0,5.0,5.0,6.0,6.0,5.0,4.0,3.0,2.0,1.0,0.0,0.0,2.0,3.0,3.0,4.0,5.0,6.0,6.0,6.0,7.0,8.0,8.0,8.0,7.0,7.0,8.0,7.0,8.0,6.0,7.0,8.0,6.0,5.0,5.0,4.0,3.0,4.0,2.0,0.0],[0.0,0.0,1.0,0.0,2.0,1.0,0.0,1.0,2.0,3.0,3.0,4.0,4.0,5.0,5.0,6.0,6.0,5.0,4.0,3.0,2.0,1.0,0.0,0.0,2.0,3.0,3.0,4.0,4.0,5.0,6.0,6.0,6.0,7.0,8.0,8.0,8.0,7.0,7.0,8.0,7.0,8.0,6.0,7.0,8.0,6.0,5.0,5.0,4.0,3.0,4.0,2.0,0.0],[0.0,0.0,1.0,0.0,2.0,1.0,0.0,1.0,2.0,3.0,3.0,4.0,4.0,5.0,5.0,6.0,6.0,5.0,4.0,3.0,2.0,1.0,0.0,0.0,2.0,3.0,3.0,4.0,4.0,5.0,5.0,6.0,6.0,6.0,7.0,8.0,8.0,8.0,7.0,7.0,8.0,7.0,8.0,6.0,7.0,8.0,6.0,5.0,5.0,4.0,3.0,4.0,2.0,0.0],[0.0,0.0,1.0,0.0,2.0,1.0,0.0,1.0,2.0,3.0,3.0,4.0,4.0,5.0,5.0,6.0,6.0,5.0,4.0,3.0,2.0,1.0,0.0,0.0,2.0,3.0,3.0,4.0,4.0,5.0,5.0,6.0,6.0,6.0,7.0,8.0,8.0,8.0,7.0,7.0,8.0,7.0,8.0,6.0,7.0,8.0,8.0,6.0,5.0,5.0,4.0,3.0,4.0,2.0,0.0],[0.0,0.0,1.0,0.0,2.0,1.0,0.0,1.0,2.0,3.0,3.0,4.0,4.0,5.0,5.0,6.0,6.0,5.0,4.0,3.0,2.0,1.0,0.0,0.0,2.0,3.0,3.0,4.0,4.0,5.0,5.0,6.0,6.0,6.0,7.0,8.0,8.0,8.0,7.0,7.0,8.0,7.0,8.0,6.0,7.0,8.0,8.0,7.0,6.0,5.0,5.0,4.0,3.0,4.0,2.0,0.0],[0.0,0.0,1.0,0.0,2.0,1.0,0.0,1.0,2.0,3.0,3.0,4.0,4.0,5.0,5.0,6.0,6.0,5.0,4.0,3.0,2.0,1.0,0.0,0.0,2.0,3.0,3.0,4.0,4.0,5.0,5.0,6.0,6.0,6.0,7.0,8.0,8.0,8.0,7.0,7.0,8.0,7.0,8.0,6.0,7.0,8.0,8.0,7.0,6.0,5.0,5.0,4.0,3.0,4.0,3.0,2.0,0.0],[0.0,0.0,1.0,0.0,2.0,1.0,0.0,1.0,2.0,3.0,3.0,4.0,4.0,5.0,5.0,6.0,6.0,5.0,4.0,3.0,2.0,1.0,0.0,0.0,2.0,3.0,3.0,4.0,4.0,5.0,5.0,6.0,6.0,6.0,7.0,7.0,8.0,8.0,8.0,7.0,7.0,8.0,7.0,8.0,6.0,7.0,8.0,8.0,7.0,6.0,5.0,5.0,4.0,3.0,4.0,3.0,2.0,0.0],[0.0,0.0,1.0,0.0,2.0,1.0,0.0,1.0,2.0,3.0,3.0,4.0,4.0,5.0,5.0,6.0,6.0,5.0,4.0,3.0,2.0,1.0,0.0,0.0,0.0,2.0,3.0,3.0,4.0,4.0,5.0,5.0,6.0,6.0,6.0,7.0,7.0,8.0,8.0,8.0,7.0,7.0,8.0,7.0,8.0,6.0,7.0,8.0,8.0,7.0,6.0,5.0,5.0,4.0,3.0,4.0,3.0,2.0,0.0],[0.0,0.0,1.0,0.0,2.0,1.0,0.0,1.0,2.0,3.0,3.0,4.0,4.0,5.0,5.0,6.0,6.0,5.0,4.0,3.0,2.0,1.0,0.0,0.0,0.0,2.0,3.0,3.0,4.0,4.0,5.0,5.0,6.0,6.0,6.0,7.0,7.0,8.0,8.0,8.0,7.0,7.0,8.0,7.0,8.0,6.0,7.0,8.0,8.0,7.0,6.0,5.0,5.0,4.0,4.0,3.0,4.0,3.0,2.0,0.0],[0.0,0.0,1.0,0.0,2.0,1.0,0.0,1.0,2.0,3.0,3.0,4.0,4.0,5.0,5.0,6.0,6.0,5.0,4.0,3.0,2.0,2.0,1.0,0.0,0.0,0.0,2.0,3.0,3.0,4.0,4.0,5.0,5.0,6.0,6.0,6.0,7.0,7.0,8.0,8.0,8.0,7.0,7.0,8.0,7.0,8.0,6.0,7.0,8.0,8.0,7.0,6.0,5.0,5.0,4.0,4.0,3.0,4.0,3.0,2.0,0.0],[0.0,0.0,1.0,0.0,2.0,1.0,0.0,1.0,2.0,3.0,3.0,4.0,4.0,5.0,5.0,6.0,6.0,5.0,4.0,3.0,2.0,2.0,1.0,0.0,0.0,0.0,1.0,2.0,3.0,3.0,4.0,4.0,5.0,5.0,6.0,6.0,6.0,7.0,7.0,8.0,8.0,8.0,7.0,7.0,8.0,7.0,8.0,6.0,7.0,8.0,8.0,7.0,6.0,5.0,5.0,4.0,4.0,3.0,4.0,3.0,2.0,0.0],[0.0,0.0,1.0,0.0,2.0,1.0,0.0,0.0,1.0,2.0,3.0,3.0,4.0,4.0,5.0,5.0,6.0,6.0,5.0,4.0,3.0,2.0,2.0,1.0,0.0,0.0,0.0,1.0,2.0,3.0,3.0,4.0,4.0,5.0,5.0,6.0,6.0,6.0,7.0,7.0,8.0,8.0,8.0,7.0,7.0,8.0,7.0,8.0,6.0,7.0,8.0,8.0,7.0,6.0,5.0,5.0,4.0,4.0,3.0,4.0,3.0,2.0,0.0],[0.0,0.0,1.0,0.0,2.0,1.0,0.0,0.0,1.0,2.0,3.0,3.0,4.0,4.0,5.0,5.0,6.0,6.0,5.0,4.0,3.0,2.0,2.0,1.0,0.0,0.0,0.0,1.0,2.0,3.0,3.0,4.0,4.0,5.0,5.0,6.0,6.0,6.0,7.0,7.0,8.0,8.0,8.0,7.0,7.0,8.0,8.0,7.0,8.0,6.0,7.0,8.0,8.0,7.0,6.0,5.0,5.0,4.0,4.0,3.0,4.0,3.0,2.0,0.0],[0.0,0.0,1.0,0.0,2.0,2.0,1.0,0.0,0.0,1.0,2.0,3.0,3.0,4.0,4.0,5.0,5.0,6.0,6.0,5.0,4.0,3.0,2.0,2.0,1.0,0.0,0.0,0.0,1.0,2.0,3.0,3.0,4.0,4.0,5.0,5.0,6.0,6.0,6.0,7.0,7.0,8.0,8.0,8.0,7.0,7.0,8.0,8.0,7.0,8.0,6.0,7.0,8.0,8.0,7.0,6.0,5.0,5.0,4.0,4.0,3.0,4.0,3.0,2.0,0.0],[0.0,0.0,1.0,0.0,2.0,2.0,1.0,0.0,0.0,1.0,2.0,3.0,3.0,4.0,4.0,5.0,5.0,6.0,6.0,5.0,4.0,3.0,2.0,2.0,1.0,0.0,0.0,0.0,1.0,2.0,3.0,3.0,4.0,4.0,5.0,5.0,6.0,6.0,6.0,7.0,7.0,8.0,8.0,8.0,7.0,7.0,8.0,8.0,7.0,8.0,6.0,6.0,7.0,8.0,8.0,7.0,6.0,5.0,5.0,4.0,4.0,3.0,4.0,3.0,2.0,0.0],[0.0,0.0,1.0,0.0,2.0,2.0,1.0,0.0,0.0,1.0,2.0,3.0,3.0,4.0,4.0,5.0,5.0,6.0,6.0,5.0,5.0,4.0,3.0,2.0,2.0,1.0,0.0,0.0,0.0,1.0,2.0,3.0,3.0,4.0,4.0,5.0,5.0,6.0,6.0,6.0,7.0,7.0,8.0,8.0,8.0,7.0,7.0,8.0,8.0,7.0,8.0,6.0,6.0,7.0,8.0,8.0,7.0,6.0,5.0,5.0,4.0,4.0,3.0,4.0,3.0,2.0,0.0],[0.0,0.0,1.0,0.0,2.0,2.0,1.0,0.0,0.0,1.0,2.0,3.0,3.0,4.0,4.0,5.0,5.0,6.0,6.0,6.0,5.0,5.0,4.0,3.0,2.0,2.0,1.0,0.0,0.0,0.0,1.0,2.0,3.0,3.0,4.0,4.0,5.0,5.0,6.0,6.0,6.0,7.0,7.0,8.0,8.0,8.0,7.0,7.0,8.0,8.0,7.0,8.0,6.0,6.0,7.0,8.0,8.0,7.0,6.0,5.0,5.0,4.0,4.0,3.0,4.0,3.0,2.0,0.0],[0.0,0.0,1.0,0.0,2.0,2.0,1.0,0.0,0.0,1.0,2.0,3.0,3.0,4.0,4.0,5.0,5.0,6.0,6.0,6.0,5.0,5.0,4.0,3.0,2.0,2.0,1.0,0.0,0.0,0.0,1.0,2.0,3.0,3.0,4.0,4.0,5.0,5.0,6.0,6.0,6.0,7.0,7.0,8.0,8.0,8.0,7.0,7.0,8.0,8.0,7.0,8.0,7.0,6.0,6.0,7.0,8.0,8.0,7.0,6.0,5.0,5.0,4.0,4.0,3.0,4.0,3.0,2.0,0.0],[0.0,0.0,1.0,0.0,2.0,2.0,1.0,0.0,0.0,1.0,1.0,2.0,3.0,3.0,4.0,4.0,5.0,5.0,6.0,6.0,6.0,5.0,5.0,4.0,3.0,2.0,2.0,1.0,0.0,0.0,0.0,1.0,2.0,3.0,3.0,4.0,4.0,5.0,5.0,6.0,6.0,6.0,7.0,7.0,8.0,8.0,8.0,7.0,7.0,8.0,8.0,7.0,8.0,7.0,6.0,6.0,7.0,8.0,8.0,7.0,6.0,5.0,5.0,4.0,4.0,3.0,4.0,3.0,2.0,0.0],[0.0,0.0,1.0,0.0,2.0,2.0,1.0,0.0,0.0,0.0,1.0,1.0,2.0,3.0,3.0,4.0,4.0,5.0,5.0,6.0,6.0,6.0,5.0,5.0,4.0,3.0,2.0,2.0,1.0,0.0,0.0,0.0,1.0,2.0,3.0,3.0,4.0,4.0,5.0,5.0,6.0,6.0,6.0,7.0,7.0,8.0,8.0,8.0,7.0,7.0,8.0,8.0,7.0,8.0,7.0,6.0,6.0,7.0,8.0,8.0,7.0,6.0,5.0,5.0,4.0,4.0,3.0,4.0,3.0,2.0,0.0],[0.0,0.0,1.0,0.0,2.0,2.0,1.0,0.0,0.0,0.0,1.0,1.0,2.0,3.0,3.0,4.0,4.0,5.0,5.0,5.0,6.0,6.0,6.0,5.0,5.0,4.0,3.0,2.0,2.0,1.0,0.0,0.0,0.0,1.0,2.0,3.0,3.0,4.0,4.0,5.0,5.0,6.0,6.0,6.0,7.0,7.0,8.0,8.0,8.0,7.0,7.0,8.0,8.0,7.0,8.0,7.0,6.0,6.0,7.0,8.0,8.0,7.0,6.0,5.0,5.0,4.0,4.0,3.0,4.0,3.0,2.0,0.0],[0.0,0.0,1.0,0.0,2.0,2.0,2.0,1.0,0.0,0.0,0.0,1.0,1.0,2.0,3.0,3.0,4.0,4.0,5.0,5.0,5.0,6.0,6.0,6.0,5.0,5.0,4.0,3.0,2.0,2.0,1.0,0.0,0.0,0.0,1.0,2.0,3.0,3.0,4.0,4.0,5.0,5.0,6.0,6.0,6.0,7.0,7.0,8.0,8.0,8.0,7.0,7.0,8.0,8.0,7.0,8.0,7.0,6.0,6.0,7.0,8.0,8.0,7.0,6.0,5.0,5.0,4.0,4.0,3.0,4.0,3.0,2.0,0.0],[0.0,0.0,1.0,0.0,2.0,2.0,2.0,1.0,0.0,0.0,0.0,1.0,1.0,2.0,3.0,3.0,4.0,4.0,5.0,5.0,5.0,6.0,6.0,6.0,5.0,5.0,4.0,4.0,3.0,2.0,2.0,1.0,0.0,0.0,0.0,1.0,2.0,3.0,3.0,4.0,4.0,5.0,5.0,6.0,6.0,6.0,7.0,7.0,8.0,8.0,8.0,7.0,7.0,8.0,8.0,7.0,8.0,7.0,6.0,6.0,7.0,8.0,8.0,7.0,6.0,5.0,5.0,4.0,4.0,3.0,4.0,3.0,2.0,0.0],[0.0,0.0,1.0,0.0,2.0,2.0,2.0,1.0,0.0,0.0,0.0,1.0,1.0,2.0,3.0,3.0,4.0,4.0,5.0,5.0,5.0,6.0,6.0,6.0,5.0,5.0,4.0,4.0,3.0,2.0,2.0,1.0,1.0,0.0,0.0,0.0,1.0,2.0,3.0,3.0,4.0,4.0,5.0,5.0,6.0,6.0,6.0,7.0,7.0,8.0,8.0,8.0,7.0,7.0,8.0,8.0,7.0,8.0,7.0,6.0,6.0,7.0,8.0,8.0,7.0,6.0,5.0,5.0,4.0,4.0,3.0,4.0,3.0,2.0,0.0],[0.0,0.0,1.0,0.0,2.0,2.0,2.0,1.0,0.0,0.0,0.0,1.0,1.0,2.0,3.0,3.0,4.0,4.0,5.0,5.0,5.0,6.0,6.0,6.0,5.0,5.0,4.0,4.0,3.0,2.0,2.0,1.0,1.0,0.0,0.0,0.0,1.0,2.0,3.0,3.0,4.0,4.0,5.0,5.0,6.0,6.0,6.0,7.0,7.0,7.0,8.0,8.0,8.0,7.0,7.0,8.0,8.0,7.0,8.0,7.0,6.0,6.0,7.0,8.0,8.0,7.0,6.0,5.0,5.0,4.0,4.0,3.0,4.0,3.0,2.0,0.0],[0.0,0.0,1.0,0.0,2.0,2.0,2.0,1.0,0.0,0.0,0.0,1.0,1.0,2.0,2.0,3.0,3.0,4.0,4.0,5.0,5.0,5.0,6.0,6.0,6.0,5.0,5.0,4.0,4.0,3.0,2.0,2.0,1.0,1.0,0.0,0.0,0.0,1.0,2.0,3.0,3.0,4.0,4.0,5.0,5.0,6.0,6.0,6.0,7.0,7.0,7.0,8.0,8.0,8.0,7.0,7.0,8.0,8.0,7.0,8.0,7.0,6.0,6.0,7.0,8.0,8.0,7.0,6.0,5.0,5.0,4.0,4.0,3.0,4.0,3.0,2.0,0.0],[0.0,0.0,1.0,0.0,1.0,2.0,2.0,2.0,1.0,0.0,0.0,0.0,1.0,1.0,2.0,2.0,3.0,3.0,4.0,4.0,5.0,5.0,5.0,6.0,6.0,6.0,5.0,5.0,4.0,4.0,3.0,2.0,2.0,1.0,1.0,0.0,0.0,0.0,1.0,2.0,3.0,3.0,4.0,4.0,5.0,5.0,6.0,6.0,6.0,7.0,7.0,7.0,8.0,8.0,8.0,7.0,7.0,8.0,8.0,7.0,8.0,7.0,6.0,6.0,7.0,8.0,8.0,7.0,6.0,5.0,5.0,4.0,4.0,3.0,4.0,3.0,2.0,0.0],[0.0,0.0,1.0,0.0,1.0,2.0,2.0,2.0,1.0,0.0,0.0,0.0,1.0,1.0,2.0,2.0,3.0,3.0,4.0,4.0,5.0,5.0,5.0,6.0,6.0,6.0,5.0,5.0,4.0,4.0,3.0,3.0,2.0,2.0,1.0,1.0,0.0,0.0,0.0,1.0,2.0,3.0,3.0,4.0,4.0,5.0,5.0,6.0,6.0,6.0,7.0,7.0,7.0,8.0,8.0,8.0,7.0,7.0,8.0,8.0,7.0,8.0,7.0,6.0,6.0,7.0,8.0,8.0,7.0,6.0,5.0,5.0,4.0,4.0,3.0,4.0,3.0,2.0,0.0],[0.0,0.0,1.0,0.0,1.0,2.0,2.0,2.0,1.0,0.0,0.0,0.0,1.0,1.0,2.0,2.0,3.0,3.0,4.0,4.0,5.0,5.0,5.0,6.0,6.0,6.0,5.0,5.0,4.0,4.0,3.0,3.0,2.0,2.0,1.0,1.0,0.0,0.0,0.0,1.0,2.0,3.0,3.0,4.0,4.0,5.0,5.0,6.0,6.0,6.0,7.0,7.0,7.0,8.0,8.0,8.0,8.0,7.0,7.0,8.0,8.0,7.0,8.0,7.0,6.0,6.0,7.0,8.0,8.0,7.0,6.0,5.0,5.0,4.0,4.0,3.0,4.0,3.0,2.0,0.0],[0.0,0.0,1.0,0.0,1.0,2.0,2.0,2.0,1.0,0.0,0.0,0.0,1.0,1.0,2.0,2.0,3.0,3.0,4.0,4.0,5.0,5.0,5.0,6.0,6.0,6.0,5.0,5.0,4.0,4.0,3.0,3.0,2.0,2.0,1.0,1.0,0.0,0.0,0.0,1.0,2.0,3.0,3.0,4.0,4.0,5.0,5.0,6.0,6.0,6.0,7.0,7.0,7.0,8.0,8.0,8.0,8.0,7.0,7.0,8.0,8.0,7.0,8.0,7.0,6.0,6.0,7.0,8.0,8.0,7.0,6.0,5.0,5.0,4.0,4.0,3.0,4.0,3.0,2.0,1.0,0.0],[0.0,0.0,1.0,0.0,1.0,2.0,2.0,2.0,1.0,0.0,0.0,0.0,1.0,1.0,2.0,2.0,3.0,3.0,4.0,4.0,5.0,5.0,5.0,6.0,6.0,6.0,5.0,5.0,4.0,4.0,3.0,3.0,2.0,2.0,1.0,1.0,0.0,0.0,0.0,1.0,2.0,3.0,3.0,4.0,4.0,5.0,5.0,6.0,6.0,6.0,7.0,7.0,7.0,8.0,8.0,8.0,8.0,7.0,7.0,8.0,8.0,7.0,8.0,7.0,6.0,6.0,7.0,8.0,8.0,7.0,6.0,5.0,5.0,4.0,4.0,3.0,3.0,4.0,3.0,2.0,1.0,0.0],[0.0,0.0,1.0,0.0,1.0,2.0,2.0,2.0,1.0,0.0,0.0,0.0,1.0,1.0,2.0,2.0,3.0,3.0,4.0,4.0,5.0,5.0,5.0,6.0,6.0,6.0,5.0,5.0,4.0,4.0,3.0,3.0,2.0,2.0,1.0,1.0,0.0,0.0,0.0,1.0,2.0,3.0,3.0,4.0,4.0,5.0,5.0,6.0,6.0,6.0,7.0,7.0,7.0,8.0,8.0,8.0,8.0,7.0,7.0,8.0,8.0,7.0,8.0,7.0,6.0,6.0,7.0,8.0,8.0,7.0,6.0,5.0,5.0,4.0,4.0,3.0,3.0,4.0,3.0,2.0,1.0,0.0]]},\"selected\":{\"id\":\"2755\"},\"selection_policy\":{\"id\":\"2754\"}},\"id\":\"2723\",\"type\":\"ColumnDataSource\"},{\"attributes\":{\"text\":\"\"},\"id\":\"2687\",\"type\":\"Title\"},{\"attributes\":{},\"id\":\"2748\",\"type\":\"UnionRenderers\"},{\"attributes\":{\"end\":8.68,\"start\":-0.68},\"id\":\"2689\",\"type\":\"Range1d\"},{\"attributes\":{\"data\":{\"edges_x\":[0.0,8.0,0.0],\"edges_y\":[0.0,8.0,0.0]},\"selected\":{\"id\":\"2747\"},\"selection_policy\":{\"id\":\"2746\"}},\"id\":\"2724\",\"type\":\"ColumnDataSource\"},{\"attributes\":{},\"id\":\"2749\",\"type\":\"Selection\"}],\"root_ids\":[\"2756\"]},\"title\":\"Bokeh Application\",\"version\":\"2.2.3\"}};\n",
       "  var render_items = [{\"docid\":\"ca7f10b3-ccf7-4622-91bb-2d927b8fb7ec\",\"root_ids\":[\"2756\"],\"roots\":{\"2756\":\"717a7828-3b9c-46a3-b6d5-195f555fd1d5\"}}];\n",
       "  root.Bokeh.embed.embed_items_notebook(docs_json, render_items);\n",
       "\n",
       "  }\n",
       "  if (root.Bokeh !== undefined) {\n",
       "    embed_document(root);\n",
       "  } else {\n",
       "    var attempts = 0;\n",
       "    var timer = setInterval(function(root) {\n",
       "      if (root.Bokeh !== undefined) {\n",
       "        clearInterval(timer);\n",
       "        embed_document(root);\n",
       "      } else {\n",
       "        attempts++;\n",
       "        if (attempts > 100) {\n",
       "          clearInterval(timer);\n",
       "          console.log(\"Bokeh: ERROR: Unable to run BokehJS code because BokehJS library is missing\");\n",
       "        }\n",
       "      }\n",
       "    }, 10, root)\n",
       "  }\n",
       "})(window);"
      ],
      "application/vnd.bokehjs_exec.v0+json": ""
     },
     "metadata": {
      "application/vnd.bokehjs_exec.v0+json": {
       "id": "2756"
      }
     },
     "output_type": "display_data"
    }
   ],
   "source": [
    "tour = plot_tsp_heuristic(nodes, G, heuristic='furthest_insertion', initial=[0,len(G)-1,0])"
   ]
  },
  {
   "cell_type": "markdown",
   "metadata": {},
   "source": [
    "**Q10:** How did the results compare to the 6x8 grid using manhattan distances?\n",
    "\n",
    "**A:** <font color='blue'> Similar. </font>"
   ]
  },
  {
   "cell_type": "markdown",
   "metadata": {},
   "source": [
    "Again, let's run each heuristic numerous times and see how they compare."
   ]
  },
  {
   "cell_type": "code",
   "execution_count": 20,
   "metadata": {},
   "outputs": [
    {
     "name": "stdout",
     "output_type": "stream",
     "text": [
      "Heuristic Averages:\n",
      "Random Neighbor: 382.8912603470337\n",
      "Nearest Neighbor: 100.64333890545473\n",
      "Nearest Insertion: 87.82832634923157\n",
      "Furthest Insertion: 84.82898331798378\n"
     ]
    }
   ],
   "source": [
    "n = 100\n",
    "random_neighbor_total = 0\n",
    "nearest_neighbor_total = 0\n",
    "nearest_insertion_total = 0\n",
    "furthest_insertion_total = 0\n",
    "for i in range(n):\n",
    "    random_neighbor_total += tour_cost(G, random_neighbor(G))\n",
    "    nearest_neighbor_total += tour_cost(G, nearest_neighbor(G))\n",
    "    nearest_insertion_total += tour_cost(G, nearest_insertion(G))\n",
    "    furthest_insertion_total += tour_cost(G, furthest_insertion(G))\n",
    "print(\"Heuristic Averages:\")\n",
    "print(\"Random Neighbor: %s\" % (random_neighbor_total / n))\n",
    "print(\"Nearest Neighbor: %s\" % (nearest_neighbor_total / n))\n",
    "print(\"Nearest Insertion: %s\" % (nearest_insertion_total / n))\n",
    "print(\"Furthest Insertion: %s\" % (furthest_insertion_total / n))"
   ]
  },
  {
   "cell_type": "markdown",
   "metadata": {},
   "source": [
    "**Q11:** How did the results compare to the 6x8 grid using manhattan distances?\n",
    "\n",
    "**A:** <font color='blue'> Similar. </font>"
   ]
  },
  {
   "cell_type": "markdown",
   "metadata": {},
   "source": [
    "## Part III: Improving Tours: 2-OPT"
   ]
  },
  {
   "cell_type": "markdown",
   "metadata": {},
   "source": [
    "In **Part II**, we used heuristics to create TSP tours. However, we can also use heuristics to try and improve tours we have already found. First, let's think about how we may try improving a tour.|"
   ]
  },
  {
   "cell_type": "code",
   "execution_count": 21,
   "metadata": {},
   "outputs": [
    {
     "data": {
      "text/html": [
       "\n",
       "\n",
       "\n",
       "\n",
       "\n",
       "\n",
       "  <div class=\"bk-root\" id=\"fdcb3f2c-9c7a-461d-9692-e428ed43bcfb\" data-root-id=\"2991\"></div>\n"
      ]
     },
     "metadata": {},
     "output_type": "display_data"
    },
    {
     "data": {
      "application/javascript": [
       "(function(root) {\n",
       "  function embed_document(root) {\n",
       "    \n",
       "  var docs_json = {\"ddb9a46e-17d5-4257-8065-6ecf92a676ec\":{\"roots\":{\"references\":[{\"attributes\":{\"children\":[[{\"id\":\"2935\"},0,0],[{\"id\":\"2969\"},1,0]]},\"id\":\"2991\",\"type\":\"GridBox\"},{\"attributes\":{},\"id\":\"2959\",\"type\":\"HelpTool\"},{\"attributes\":{},\"id\":\"2986\",\"type\":\"Selection\"},{\"attributes\":{\"align\":\"center\",\"text\":\"16.8\",\"width\":300},\"id\":\"2969\",\"type\":\"Div\"},{\"attributes\":{},\"id\":\"2951\",\"type\":\"BasicTicker\"},{\"attributes\":{},\"id\":\"2954\",\"type\":\"PanTool\"},{\"attributes\":{},\"id\":\"2988\",\"type\":\"Selection\"},{\"attributes\":{},\"id\":\"2985\",\"type\":\"UnionRenderers\"},{\"attributes\":{},\"id\":\"2947\",\"type\":\"BasicTicker\"},{\"attributes\":{\"fill_color\":{\"value\":\"steelblue\"},\"line_color\":{\"value\":\"steelblue\"},\"size\":{\"units\":\"screen\",\"value\":8},\"x\":{\"field\":\"x\"},\"y\":{\"field\":\"y\"}},\"id\":\"2976\",\"type\":\"Circle\"},{\"attributes\":{},\"id\":\"2942\",\"type\":\"LinearScale\"},{\"attributes\":{},\"id\":\"2983\",\"type\":\"BasicTickFormatter\"},{\"attributes\":{\"data\":{\"x\":[0.0,0.0,0.0,0.0,1.0,1.0,1.0,1.0,2.0,2.0,2.0,2.0,3.0,3.0,3.0,3.0],\"y\":[0.0,1.0,2.0,3.0,0.0,1.0,2.0,3.0,0.0,1.0,2.0,3.0,0.0,1.0,2.0,3.0]},\"selected\":{\"id\":\"2988\"},\"selection_policy\":{\"id\":\"2987\"}},\"id\":\"2975\",\"type\":\"ColumnDataSource\"},{\"attributes\":{},\"id\":\"2987\",\"type\":\"UnionRenderers\"},{\"attributes\":{\"axis\":{\"id\":\"2950\"},\"dimension\":1,\"grid_line_color\":null,\"ticker\":null},\"id\":\"2953\",\"type\":\"Grid\"},{\"attributes\":{\"line_width\":4,\"x\":{\"field\":\"x\"},\"y\":{\"field\":\"y\"}},\"id\":\"2971\",\"type\":\"Line\"},{\"attributes\":{\"source\":{\"id\":\"2975\"}},\"id\":\"2979\",\"type\":\"CDSView\"},{\"attributes\":{},\"id\":\"2955\",\"type\":\"WheelZoomTool\"},{\"attributes\":{\"bottom_units\":\"screen\",\"fill_alpha\":0.5,\"fill_color\":\"lightgrey\",\"left_units\":\"screen\",\"level\":\"overlay\",\"line_alpha\":1.0,\"line_color\":\"black\",\"line_dash\":[4,4],\"line_width\":2,\"right_units\":\"screen\",\"top_units\":\"screen\"},\"id\":\"2960\",\"type\":\"BoxAnnotation\"},{\"attributes\":{\"end\":3.255,\"start\":-0.255},\"id\":\"2938\",\"type\":\"Range1d\"},{\"attributes\":{\"overlay\":{\"id\":\"2960\"}},\"id\":\"2956\",\"type\":\"BoxZoomTool\"},{\"attributes\":{\"end\":3.255,\"start\":-0.255},\"id\":\"2940\",\"type\":\"Range1d\"},{\"attributes\":{\"data_source\":{\"id\":\"2970\"},\"glyph\":{\"id\":\"2971\"},\"hover_glyph\":null,\"muted_glyph\":null,\"nonselection_glyph\":{\"id\":\"2972\"},\"selection_glyph\":null,\"view\":{\"id\":\"2974\"}},\"id\":\"2973\",\"type\":\"GlyphRenderer\"},{\"attributes\":{},\"id\":\"2981\",\"type\":\"BasicTickFormatter\"},{\"attributes\":{\"formatter\":{\"id\":\"2981\"},\"ticker\":{\"id\":\"2947\"},\"visible\":false},\"id\":\"2946\",\"type\":\"LinearAxis\"},{\"attributes\":{\"source\":{\"id\":\"2970\"}},\"id\":\"2974\",\"type\":\"CDSView\"},{\"attributes\":{\"axis\":{\"id\":\"2946\"},\"grid_line_color\":null,\"ticker\":null},\"id\":\"2949\",\"type\":\"Grid\"},{\"attributes\":{\"data\":{\"x\":[1.0,2.0,2.0,3.0,3.0,3.0,3.0,2.0,2.0,1.0,1.0,0.0,0.0,0.0,0.0,1.0,1.0],\"y\":[2.0,1.0,0.0,0.0,1.0,2.0,3.0,3.0,2.0,1.0,0.0,0.0,1.0,2.0,3.0,3.0,2.0]},\"selected\":{\"id\":\"2986\"},\"selection_policy\":{\"id\":\"2985\"}},\"id\":\"2970\",\"type\":\"ColumnDataSource\"},{\"attributes\":{},\"id\":\"2957\",\"type\":\"SaveTool\"},{\"attributes\":{\"formatter\":{\"id\":\"2983\"},\"ticker\":{\"id\":\"2951\"},\"visible\":false},\"id\":\"2950\",\"type\":\"LinearAxis\"},{\"attributes\":{\"background_fill_color\":null,\"below\":[{\"id\":\"2946\"}],\"border_fill_color\":null,\"center\":[{\"id\":\"2949\"},{\"id\":\"2953\"}],\"left\":[{\"id\":\"2950\"}],\"outline_line_color\":null,\"plot_height\":300,\"plot_width\":300,\"renderers\":[{\"id\":\"2973\"},{\"id\":\"2978\"}],\"title\":{\"id\":\"2936\"},\"toolbar\":{\"id\":\"2961\"},\"toolbar_location\":null,\"x_range\":{\"id\":\"2938\"},\"x_scale\":{\"id\":\"2942\"},\"y_range\":{\"id\":\"2940\"},\"y_scale\":{\"id\":\"2944\"}},\"id\":\"2935\",\"subtype\":\"Figure\",\"type\":\"Plot\"},{\"attributes\":{\"data_source\":{\"id\":\"2975\"},\"glyph\":{\"id\":\"2976\"},\"hover_glyph\":null,\"muted_glyph\":null,\"nonselection_glyph\":{\"id\":\"2977\"},\"selection_glyph\":null,\"view\":{\"id\":\"2979\"}},\"id\":\"2978\",\"type\":\"GlyphRenderer\"},{\"attributes\":{\"line_alpha\":0.1,\"line_width\":4,\"x\":{\"field\":\"x\"},\"y\":{\"field\":\"y\"}},\"id\":\"2972\",\"type\":\"Line\"},{\"attributes\":{\"text\":\"\"},\"id\":\"2936\",\"type\":\"Title\"},{\"attributes\":{},\"id\":\"2944\",\"type\":\"LinearScale\"},{\"attributes\":{\"active_drag\":\"auto\",\"active_inspect\":\"auto\",\"active_multi\":null,\"active_scroll\":\"auto\",\"active_tap\":\"auto\",\"logo\":null,\"tools\":[{\"id\":\"2954\"},{\"id\":\"2955\"},{\"id\":\"2956\"},{\"id\":\"2957\"},{\"id\":\"2958\"},{\"id\":\"2959\"}]},\"id\":\"2961\",\"type\":\"Toolbar\"},{\"attributes\":{\"fill_alpha\":{\"value\":0.1},\"fill_color\":{\"value\":\"steelblue\"},\"line_alpha\":{\"value\":0.1},\"line_color\":{\"value\":\"steelblue\"},\"size\":{\"units\":\"screen\",\"value\":8},\"x\":{\"field\":\"x\"},\"y\":{\"field\":\"y\"}},\"id\":\"2977\",\"type\":\"Circle\"},{\"attributes\":{},\"id\":\"2958\",\"type\":\"ResetTool\"}],\"root_ids\":[\"2991\"]},\"title\":\"Bokeh Application\",\"version\":\"2.2.3\"}};\n",
       "  var render_items = [{\"docid\":\"ddb9a46e-17d5-4257-8065-6ecf92a676ec\",\"root_ids\":[\"2991\"],\"roots\":{\"2991\":\"fdcb3f2c-9c7a-461d-9692-e428ed43bcfb\"}}];\n",
       "  root.Bokeh.embed.embed_items_notebook(docs_json, render_items);\n",
       "\n",
       "  }\n",
       "  if (root.Bokeh !== undefined) {\n",
       "    embed_document(root);\n",
       "  } else {\n",
       "    var attempts = 0;\n",
       "    var timer = setInterval(function(root) {\n",
       "      if (root.Bokeh !== undefined) {\n",
       "        clearInterval(timer);\n",
       "        embed_document(root);\n",
       "      } else {\n",
       "        attempts++;\n",
       "        if (attempts > 100) {\n",
       "          clearInterval(timer);\n",
       "          console.log(\"Bokeh: ERROR: Unable to run BokehJS code because BokehJS library is missing\");\n",
       "        }\n",
       "      }\n",
       "    }, 10, root)\n",
       "  }\n",
       "})(window);"
      ],
      "application/vnd.bokehjs_exec.v0+json": ""
     },
     "metadata": {
      "application/vnd.bokehjs_exec.v0+json": {
       "id": "2991"
      }
     },
     "output_type": "display_data"
    }
   ],
   "source": [
    "nodes, G = tsp_grid_instance(4,4, manhattan=False)\n",
    "tour = [6,9,8,12,13,14,15,11,10,5,4,0,1,2,3,7,6]\n",
    "plot_tour(nodes, G, tour, width=300, height=300)"
   ]
  },
  {
   "cell_type": "markdown",
   "metadata": {},
   "source": [
    "**Q12:** Look at the tour above. How might you improve this tour? How could you generalize this strategy?\n",
    "\n",
    "**A:** <font color='blue'> There are two edges that cross and we could switch them around! We can generalize this by finding edges that could improve by a switch and making switches until there are no more switches. </font>"
   ]
  },
  {
   "cell_type": "markdown",
   "metadata": {},
   "source": [
    "We will examine a tour improvement heuristic called 2-OPT in this part. 2-OPT looks for pairs of edges which can be reconnected to strictly improve the tour cost. (Note: there is only one way to reconnect a pair of edges). It continues in this fashion until no more improvements can be made. Let's run 2-OPT on our example from **Q12**! We will use `plot_two_opt` to  generate a visualization of 2-OPT. In each iteration, 2 edges will be highlighted red and 2 will be highlighted blue. The red edges indicate the current position and the blue indicate the positon they will be reconnected in."
   ]
  },
  {
   "cell_type": "code",
   "execution_count": 22,
   "metadata": {},
   "outputs": [
    {
     "data": {
      "text/html": [
       "\n",
       "\n",
       "\n",
       "\n",
       "\n",
       "\n",
       "  <div class=\"bk-root\" id=\"6a6ce2b0-24c9-4684-914f-3ffc3b13dce3\" data-root-id=\"3258\"></div>\n"
      ]
     },
     "metadata": {},
     "output_type": "display_data"
    },
    {
     "data": {
      "application/javascript": [
       "(function(root) {\n",
       "  function embed_document(root) {\n",
       "    \n",
       "  var docs_json = {\"92b7fc05-b9a3-4f8d-9479-f61b82ccf04d\":{\"roots\":{\"references\":[{\"attributes\":{\"children\":[[{\"id\":\"3170\"},0,0],[{\"id\":\"3235\"},1,0],[{\"id\":\"3236\"},2,0]]},\"id\":\"3258\",\"type\":\"GridBox\"},{\"attributes\":{},\"id\":\"3242\",\"type\":\"UnionRenderers\"},{\"attributes\":{},\"id\":\"3255\",\"type\":\"Selection\"},{\"attributes\":{\"axis\":{\"id\":\"3181\"},\"grid_line_color\":null,\"ticker\":null},\"id\":\"3184\",\"type\":\"Grid\"},{\"attributes\":{\"data_source\":{\"id\":\"3210\"},\"glyph\":{\"id\":\"3222\"},\"hover_glyph\":null,\"muted_glyph\":null,\"nonselection_glyph\":{\"id\":\"3223\"},\"selection_glyph\":null,\"view\":{\"id\":\"3225\"}},\"id\":\"3224\",\"type\":\"GlyphRenderer\"},{\"attributes\":{},\"id\":\"3243\",\"type\":\"Selection\"},{\"attributes\":{\"axis\":{\"id\":\"3185\"},\"dimension\":1,\"grid_line_color\":null,\"ticker\":null},\"id\":\"3188\",\"type\":\"Grid\"},{\"attributes\":{\"line_color\":{\"value\":\"#90D7F6\"},\"line_width\":{\"value\":4},\"xs\":{\"field\":\"swaps_after_x\"},\"ys\":{\"field\":\"swaps_after_y\"}},\"id\":\"3222\",\"type\":\"MultiLine\"},{\"attributes\":{\"bottom_units\":\"screen\",\"fill_alpha\":0.5,\"fill_color\":\"lightgrey\",\"left_units\":\"screen\",\"level\":\"overlay\",\"line_alpha\":1.0,\"line_color\":\"black\",\"line_dash\":[4,4],\"line_width\":2,\"right_units\":\"screen\",\"top_units\":\"screen\"},\"id\":\"3195\",\"type\":\"BoxAnnotation\"},{\"attributes\":{},\"id\":\"3244\",\"type\":\"UnionRenderers\"},{\"attributes\":{\"align\":\"center\",\"text\":\"0\",\"width\":300},\"id\":\"3206\",\"type\":\"Div\"},{\"attributes\":{\"data\":{\"costs\":[16.82842712474619,16.0],\"edges_x\":[[1.0,2.0,2.0,3.0,3.0,3.0,3.0,2.0,2.0,1.0,1.0,0.0,0.0,0.0,0.0,1.0,1.0],[1.0,2.0,2.0,3.0,3.0,3.0,3.0,2.0,2.0,1.0,1.0,0.0,0.0,0.0,0.0,1.0,1.0]],\"edges_y\":[[2.0,1.0,0.0,0.0,1.0,2.0,3.0,3.0,2.0,1.0,0.0,0.0,1.0,2.0,3.0,3.0,2.0],[2.0,2.0,3.0,3.0,2.0,1.0,0.0,0.0,1.0,1.0,0.0,0.0,1.0,2.0,3.0,3.0,2.0]]},\"selected\":{\"id\":\"3253\"},\"selection_policy\":{\"id\":\"3252\"}},\"id\":\"3207\",\"type\":\"ColumnDataSource\"},{\"attributes\":{},\"id\":\"3245\",\"type\":\"Selection\"},{\"attributes\":{\"line_alpha\":{\"value\":0.1},\"line_color\":{\"value\":\"#90D7F6\"},\"line_width\":{\"value\":4},\"xs\":{\"field\":\"swaps_after_x\"},\"ys\":{\"field\":\"swaps_after_y\"}},\"id\":\"3223\",\"type\":\"MultiLine\"},{\"attributes\":{\"source\":{\"id\":\"3210\"}},\"id\":\"3225\",\"type\":\"CDSView\"},{\"attributes\":{\"data\":{\"edges_x\":[1.0,2.0,2.0,3.0,3.0,3.0,3.0,2.0,2.0,1.0,1.0,0.0,0.0,0.0,0.0,1.0,1.0],\"edges_y\":[2.0,1.0,0.0,0.0,1.0,2.0,3.0,3.0,2.0,1.0,0.0,0.0,1.0,2.0,3.0,3.0,2.0]},\"selected\":{\"id\":\"3243\"},\"selection_policy\":{\"id\":\"3242\"}},\"id\":\"3208\",\"type\":\"ColumnDataSource\"},{\"attributes\":{},\"id\":\"3186\",\"type\":\"BasicTicker\"},{\"attributes\":{\"data\":{\"x\":[0.0,0.0,0.0,0.0,1.0,1.0,1.0,1.0,2.0,2.0,2.0,2.0,3.0,3.0,3.0,3.0],\"y\":[0.0,1.0,2.0,3.0,0.0,1.0,2.0,3.0,0.0,1.0,2.0,3.0,0.0,1.0,2.0,3.0]},\"selected\":{\"id\":\"3247\"},\"selection_policy\":{\"id\":\"3246\"}},\"id\":\"3226\",\"type\":\"ColumnDataSource\"},{\"attributes\":{},\"id\":\"3182\",\"type\":\"BasicTicker\"},{\"attributes\":{\"data\":{\"swaps_after_x\":[[[1.0,2.0],[2.0,1.0]]],\"swaps_after_y\":[[[2.0,2.0],[1.0,1.0]]],\"swaps_before_x\":[[[1.0,2.0],[2.0,1.0]]],\"swaps_before_y\":[[[2.0,1.0],[2.0,1.0]]]},\"selected\":{\"id\":\"3255\"},\"selection_policy\":{\"id\":\"3254\"}},\"id\":\"3209\",\"type\":\"ColumnDataSource\"},{\"attributes\":{\"data_source\":{\"id\":\"3226\"},\"glyph\":{\"id\":\"3227\"},\"hover_glyph\":null,\"muted_glyph\":null,\"nonselection_glyph\":{\"id\":\"3228\"},\"selection_glyph\":null,\"view\":{\"id\":\"3230\"}},\"id\":\"3229\",\"type\":\"GlyphRenderer\"},{\"attributes\":{\"background_fill_color\":null,\"below\":[{\"id\":\"3181\"}],\"border_fill_color\":null,\"center\":[{\"id\":\"3184\"},{\"id\":\"3188\"}],\"left\":[{\"id\":\"3185\"}],\"outline_line_color\":null,\"plot_height\":300,\"plot_width\":300,\"renderers\":[{\"id\":\"3214\"},{\"id\":\"3219\"},{\"id\":\"3224\"},{\"id\":\"3229\"}],\"title\":{\"id\":\"3171\"},\"toolbar\":{\"id\":\"3196\"},\"toolbar_location\":null,\"x_range\":{\"id\":\"3173\"},\"x_scale\":{\"id\":\"3177\"},\"y_range\":{\"id\":\"3175\"},\"y_scale\":{\"id\":\"3179\"}},\"id\":\"3170\",\"subtype\":\"Figure\",\"type\":\"Plot\"},{\"attributes\":{\"end\":3.255,\"start\":-0.255},\"id\":\"3173\",\"type\":\"Range1d\"},{\"attributes\":{\"align\":\"center\",\"width\":150},\"id\":\"3205\",\"type\":\"Div\"},{\"attributes\":{\"data\":{\"swaps_after_x\":[[1.0,2.0],[2.0,1.0]],\"swaps_after_y\":[[2.0,2.0],[1.0,1.0]],\"swaps_before_x\":[[1.0,2.0],[2.0,1.0]],\"swaps_before_y\":[[2.0,1.0],[2.0,1.0]]},\"selected\":{\"id\":\"3245\"},\"selection_policy\":{\"id\":\"3244\"}},\"id\":\"3210\",\"type\":\"ColumnDataSource\"},{\"attributes\":{},\"id\":\"3252\",\"type\":\"UnionRenderers\"},{\"attributes\":{\"button_type\":\"success\",\"icon\":null,\"js_event_callbacks\":{\"button_click\":[{\"id\":\"3232\"}]},\"label\":\"Next\",\"sizing_mode\":\"scale_width\",\"width_policy\":\"fit\"},\"id\":\"3231\",\"type\":\"Button\"},{\"attributes\":{\"fill_alpha\":{\"value\":0.1},\"fill_color\":{\"value\":\"steelblue\"},\"line_alpha\":{\"value\":0.1},\"line_color\":{\"value\":\"steelblue\"},\"size\":{\"units\":\"screen\",\"value\":8},\"x\":{\"field\":\"x\"},\"y\":{\"field\":\"y\"}},\"id\":\"3228\",\"type\":\"Circle\"},{\"attributes\":{\"data_source\":{\"id\":\"3208\"},\"glyph\":{\"id\":\"3212\"},\"hover_glyph\":null,\"muted_glyph\":null,\"nonselection_glyph\":{\"id\":\"3213\"},\"selection_glyph\":null,\"view\":{\"id\":\"3215\"}},\"id\":\"3214\",\"type\":\"GlyphRenderer\"},{\"attributes\":{\"source\":{\"id\":\"3226\"}},\"id\":\"3230\",\"type\":\"CDSView\"},{\"attributes\":{\"line_width\":4,\"x\":{\"field\":\"edges_x\"},\"y\":{\"field\":\"edges_y\"}},\"id\":\"3212\",\"type\":\"Line\"},{\"attributes\":{\"align\":\"center\",\"text\":\"16.8\",\"width\":150},\"id\":\"3204\",\"type\":\"Div\"},{\"attributes\":{\"fill_color\":{\"value\":\"steelblue\"},\"line_color\":{\"value\":\"steelblue\"},\"size\":{\"units\":\"screen\",\"value\":8},\"x\":{\"field\":\"x\"},\"y\":{\"field\":\"y\"}},\"id\":\"3227\",\"type\":\"Circle\"},{\"attributes\":{\"args\":{\"cost\":{\"id\":\"3204\"},\"done\":{\"id\":\"3205\"},\"n\":{\"id\":\"3206\"},\"source\":{\"id\":\"3207\"},\"swaps\":{\"id\":\"3210\"},\"swaps_source\":{\"id\":\"3209\"},\"tour\":{\"id\":\"3208\"}},\"code\":\"\\nif ((parseInt(n.text) + 1) < source.data['edges_y'].length) {\\n    n.text = (parseInt(n.text) + 1).toString()\\n}\\nvar iteration = parseInt(n.text)\\n\\n    cost.text = source.data['costs'][iteration].toFixed(1)\\n    \\n    if (iteration == source.data['edges_y'].length - 1) {\\n        done.text = \\\"done.\\\"\\n        swaps.data['swaps_before_x'] = [[]]\\n        swaps.data['swaps_before_y'] = [[]]\\n        swaps.data['swaps_after_x'] = [[]]\\n        swaps.data['swaps_after_y'] = [[]]\\n    } else {\\n        done.text = \\\"\\\"\\n        swaps.data['swaps_before_x'] = swaps_source.data['swaps_before_x'][iteration]\\n        swaps.data['swaps_before_y'] = swaps_source.data['swaps_before_y'][iteration]\\n        swaps.data['swaps_after_x'] = swaps_source.data['swaps_after_x'][iteration]\\n        swaps.data['swaps_after_y'] = swaps_source.data['swaps_after_y'][iteration]\\n    }\\n\\n    tour.data['edges_x'] = source.data['edges_x'][iteration]\\n    tour.data['edges_y'] = source.data['edges_y'][iteration]\\n    tour.change.emit()\\n    swaps.change.emit()\\n    \"},\"id\":\"3232\",\"type\":\"CustomJS\"},{\"attributes\":{},\"id\":\"3246\",\"type\":\"UnionRenderers\"},{\"attributes\":{\"formatter\":{\"id\":\"3240\"},\"ticker\":{\"id\":\"3186\"},\"visible\":false},\"id\":\"3185\",\"type\":\"LinearAxis\"},{\"attributes\":{\"line_alpha\":0.1,\"line_width\":4,\"x\":{\"field\":\"edges_x\"},\"y\":{\"field\":\"edges_y\"}},\"id\":\"3213\",\"type\":\"Line\"},{\"attributes\":{\"button_type\":\"success\",\"icon\":null,\"js_event_callbacks\":{\"button_click\":[{\"id\":\"3234\"}]},\"label\":\"Previous\",\"sizing_mode\":\"scale_width\",\"width_policy\":\"fit\"},\"id\":\"3233\",\"type\":\"Button\"},{\"attributes\":{},\"id\":\"3192\",\"type\":\"SaveTool\"},{\"attributes\":{\"source\":{\"id\":\"3208\"}},\"id\":\"3215\",\"type\":\"CDSView\"},{\"attributes\":{},\"id\":\"3189\",\"type\":\"PanTool\"},{\"attributes\":{},\"id\":\"3247\",\"type\":\"Selection\"},{\"attributes\":{},\"id\":\"3190\",\"type\":\"WheelZoomTool\"},{\"attributes\":{\"args\":{\"cost\":{\"id\":\"3204\"},\"done\":{\"id\":\"3205\"},\"n\":{\"id\":\"3206\"},\"source\":{\"id\":\"3207\"},\"swaps\":{\"id\":\"3210\"},\"swaps_source\":{\"id\":\"3209\"},\"tour\":{\"id\":\"3208\"}},\"code\":\"\\nif ((parseInt(n.text) - 1) >= 0) {\\n    n.text = (parseInt(n.text) - 1).toString()\\n}\\nvar iteration = parseInt(n.text)\\n\\n    cost.text = source.data['costs'][iteration].toFixed(1)\\n    \\n    if (iteration == source.data['edges_y'].length - 1) {\\n        done.text = \\\"done.\\\"\\n        swaps.data['swaps_before_x'] = [[]]\\n        swaps.data['swaps_before_y'] = [[]]\\n        swaps.data['swaps_after_x'] = [[]]\\n        swaps.data['swaps_after_y'] = [[]]\\n    } else {\\n        done.text = \\\"\\\"\\n        swaps.data['swaps_before_x'] = swaps_source.data['swaps_before_x'][iteration]\\n        swaps.data['swaps_before_y'] = swaps_source.data['swaps_before_y'][iteration]\\n        swaps.data['swaps_after_x'] = swaps_source.data['swaps_after_x'][iteration]\\n        swaps.data['swaps_after_y'] = swaps_source.data['swaps_after_y'][iteration]\\n    }\\n\\n    tour.data['edges_x'] = source.data['edges_x'][iteration]\\n    tour.data['edges_y'] = source.data['edges_y'][iteration]\\n    tour.change.emit()\\n    swaps.change.emit()\\n    \"},\"id\":\"3234\",\"type\":\"CustomJS\"},{\"attributes\":{\"overlay\":{\"id\":\"3195\"}},\"id\":\"3191\",\"type\":\"BoxZoomTool\"},{\"attributes\":{\"children\":[{\"id\":\"3233\"},{\"id\":\"3231\"}],\"max_width\":300,\"sizing_mode\":\"stretch_both\"},\"id\":\"3235\",\"type\":\"Row\"},{\"attributes\":{},\"id\":\"3193\",\"type\":\"ResetTool\"},{\"attributes\":{\"data_source\":{\"id\":\"3210\"},\"glyph\":{\"id\":\"3217\"},\"hover_glyph\":null,\"muted_glyph\":null,\"nonselection_glyph\":{\"id\":\"3218\"},\"selection_glyph\":null,\"view\":{\"id\":\"3220\"}},\"id\":\"3219\",\"type\":\"GlyphRenderer\"},{\"attributes\":{\"end\":3.255,\"start\":-0.255},\"id\":\"3175\",\"type\":\"Range1d\"},{\"attributes\":{\"line_color\":{\"value\":\"red\"},\"line_width\":{\"value\":4},\"xs\":{\"field\":\"swaps_before_x\"},\"ys\":{\"field\":\"swaps_before_y\"}},\"id\":\"3217\",\"type\":\"MultiLine\"},{\"attributes\":{\"children\":[{\"id\":\"3204\"},{\"id\":\"3205\"}]},\"id\":\"3236\",\"type\":\"Row\"},{\"attributes\":{},\"id\":\"3194\",\"type\":\"HelpTool\"},{\"attributes\":{\"text\":\"\"},\"id\":\"3171\",\"type\":\"Title\"},{\"attributes\":{\"formatter\":{\"id\":\"3238\"},\"ticker\":{\"id\":\"3182\"},\"visible\":false},\"id\":\"3181\",\"type\":\"LinearAxis\"},{\"attributes\":{\"active_drag\":\"auto\",\"active_inspect\":\"auto\",\"active_multi\":null,\"active_scroll\":\"auto\",\"active_tap\":\"auto\",\"logo\":null,\"tools\":[{\"id\":\"3189\"},{\"id\":\"3190\"},{\"id\":\"3191\"},{\"id\":\"3192\"},{\"id\":\"3193\"},{\"id\":\"3194\"}]},\"id\":\"3196\",\"type\":\"Toolbar\"},{\"attributes\":{\"line_alpha\":{\"value\":0.1},\"line_color\":{\"value\":\"red\"},\"line_width\":{\"value\":4},\"xs\":{\"field\":\"swaps_before_x\"},\"ys\":{\"field\":\"swaps_before_y\"}},\"id\":\"3218\",\"type\":\"MultiLine\"},{\"attributes\":{},\"id\":\"3238\",\"type\":\"BasicTickFormatter\"},{\"attributes\":{\"source\":{\"id\":\"3210\"}},\"id\":\"3220\",\"type\":\"CDSView\"},{\"attributes\":{},\"id\":\"3254\",\"type\":\"UnionRenderers\"},{\"attributes\":{},\"id\":\"3179\",\"type\":\"LinearScale\"},{\"attributes\":{},\"id\":\"3240\",\"type\":\"BasicTickFormatter\"},{\"attributes\":{},\"id\":\"3177\",\"type\":\"LinearScale\"},{\"attributes\":{},\"id\":\"3253\",\"type\":\"Selection\"}],\"root_ids\":[\"3258\"]},\"title\":\"Bokeh Application\",\"version\":\"2.2.3\"}};\n",
       "  var render_items = [{\"docid\":\"92b7fc05-b9a3-4f8d-9479-f61b82ccf04d\",\"root_ids\":[\"3258\"],\"roots\":{\"3258\":\"6a6ce2b0-24c9-4684-914f-3ffc3b13dce3\"}}];\n",
       "  root.Bokeh.embed.embed_items_notebook(docs_json, render_items);\n",
       "\n",
       "  }\n",
       "  if (root.Bokeh !== undefined) {\n",
       "    embed_document(root);\n",
       "  } else {\n",
       "    var attempts = 0;\n",
       "    var timer = setInterval(function(root) {\n",
       "      if (root.Bokeh !== undefined) {\n",
       "        clearInterval(timer);\n",
       "        embed_document(root);\n",
       "      } else {\n",
       "        attempts++;\n",
       "        if (attempts > 100) {\n",
       "          clearInterval(timer);\n",
       "          console.log(\"Bokeh: ERROR: Unable to run BokehJS code because BokehJS library is missing\");\n",
       "        }\n",
       "      }\n",
       "    }, 10, root)\n",
       "  }\n",
       "})(window);"
      ],
      "application/vnd.bokehjs_exec.v0+json": ""
     },
     "metadata": {
      "application/vnd.bokehjs_exec.v0+json": {
       "id": "3258"
      }
     },
     "output_type": "display_data"
    }
   ],
   "source": [
    "nodes, G = tsp_grid_instance(4,4, manhattan=False)\n",
    "tour = [6,9,8,12,13,14,15,11,10,5,4,0,1,2,3,7,6]\n",
    "plot_two_opt(nodes, G, list(tour), width=300, height=300);"
   ]
  },
  {
   "cell_type": "markdown",
   "metadata": {},
   "source": [
    "Now, we will run 2-OPT after the nearest neighbor heuristic on a 5x5 (euclidian distance) example."
   ]
  },
  {
   "cell_type": "code",
   "execution_count": 23,
   "metadata": {},
   "outputs": [
    {
     "data": {
      "text/html": [
       "\n",
       "\n",
       "\n",
       "\n",
       "\n",
       "\n",
       "  <div class=\"bk-root\" id=\"a33ca83a-25e1-4816-9316-1231ad560117\" data-root-id=\"3539\"></div>\n"
      ]
     },
     "metadata": {},
     "output_type": "display_data"
    },
    {
     "data": {
      "application/javascript": [
       "(function(root) {\n",
       "  function embed_document(root) {\n",
       "    \n",
       "  var docs_json = {\"d6476b57-58af-4a02-936b-1d753cd16a09\":{\"roots\":{\"references\":[{\"attributes\":{\"children\":[[{\"id\":\"3483\"},0,0],[{\"id\":\"3517\"},1,0]]},\"id\":\"3539\",\"type\":\"GridBox\"},{\"attributes\":{},\"id\":\"3531\",\"type\":\"BasicTickFormatter\"},{\"attributes\":{},\"id\":\"3506\",\"type\":\"ResetTool\"},{\"attributes\":{\"text\":\"\"},\"id\":\"3484\",\"type\":\"Title\"},{\"attributes\":{},\"id\":\"3533\",\"type\":\"UnionRenderers\"},{\"attributes\":{\"axis\":{\"id\":\"3494\"},\"grid_line_color\":null,\"ticker\":null},\"id\":\"3497\",\"type\":\"Grid\"},{\"attributes\":{},\"id\":\"3505\",\"type\":\"SaveTool\"},{\"attributes\":{\"end\":4.34,\"start\":-0.34},\"id\":\"3486\",\"type\":\"Range1d\"},{\"attributes\":{},\"id\":\"3534\",\"type\":\"Selection\"},{\"attributes\":{\"end\":4.34,\"start\":-0.34},\"id\":\"3488\",\"type\":\"Range1d\"},{\"attributes\":{},\"id\":\"3492\",\"type\":\"LinearScale\"},{\"attributes\":{\"active_drag\":\"auto\",\"active_inspect\":\"auto\",\"active_multi\":null,\"active_scroll\":\"auto\",\"active_tap\":\"auto\",\"logo\":null,\"tools\":[{\"id\":\"3502\"},{\"id\":\"3503\"},{\"id\":\"3504\"},{\"id\":\"3505\"},{\"id\":\"3506\"},{\"id\":\"3507\"}]},\"id\":\"3509\",\"type\":\"Toolbar\"},{\"attributes\":{},\"id\":\"3535\",\"type\":\"UnionRenderers\"},{\"attributes\":{},\"id\":\"3507\",\"type\":\"HelpTool\"},{\"attributes\":{},\"id\":\"3536\",\"type\":\"Selection\"},{\"attributes\":{},\"id\":\"3499\",\"type\":\"BasicTicker\"},{\"attributes\":{\"overlay\":{\"id\":\"3508\"}},\"id\":\"3504\",\"type\":\"BoxZoomTool\"},{\"attributes\":{\"axis\":{\"id\":\"3498\"},\"dimension\":1,\"grid_line_color\":null,\"ticker\":null},\"id\":\"3501\",\"type\":\"Grid\"},{\"attributes\":{\"formatter\":{\"id\":\"3529\"},\"ticker\":{\"id\":\"3495\"},\"visible\":false},\"id\":\"3494\",\"type\":\"LinearAxis\"},{\"attributes\":{},\"id\":\"3502\",\"type\":\"PanTool\"},{\"attributes\":{\"bottom_units\":\"screen\",\"fill_alpha\":0.5,\"fill_color\":\"lightgrey\",\"left_units\":\"screen\",\"level\":\"overlay\",\"line_alpha\":1.0,\"line_color\":\"black\",\"line_dash\":[4,4],\"line_width\":2,\"right_units\":\"screen\",\"top_units\":\"screen\"},\"id\":\"3508\",\"type\":\"BoxAnnotation\"},{\"attributes\":{\"formatter\":{\"id\":\"3531\"},\"ticker\":{\"id\":\"3499\"},\"visible\":false},\"id\":\"3498\",\"type\":\"LinearAxis\"},{\"attributes\":{\"line_width\":4,\"x\":{\"field\":\"x\"},\"y\":{\"field\":\"y\"}},\"id\":\"3519\",\"type\":\"Line\"},{\"attributes\":{\"data_source\":{\"id\":\"3518\"},\"glyph\":{\"id\":\"3519\"},\"hover_glyph\":null,\"muted_glyph\":null,\"nonselection_glyph\":{\"id\":\"3520\"},\"selection_glyph\":null,\"view\":{\"id\":\"3522\"}},\"id\":\"3521\",\"type\":\"GlyphRenderer\"},{\"attributes\":{},\"id\":\"3495\",\"type\":\"BasicTicker\"},{\"attributes\":{\"line_alpha\":0.1,\"line_width\":4,\"x\":{\"field\":\"x\"},\"y\":{\"field\":\"y\"}},\"id\":\"3520\",\"type\":\"Line\"},{\"attributes\":{\"source\":{\"id\":\"3518\"}},\"id\":\"3522\",\"type\":\"CDSView\"},{\"attributes\":{\"data\":{\"x\":[0.0,0.0,0.0,0.0,1.0,1.0,1.0,2.0,2.0,3.0,4.0,4.0,3.0,3.0,3.0,4.0,4.0,3.0,2.0,2.0,2.0,4.0,1.0,0.0,1.0,0.0],\"y\":[0.0,1.0,2.0,3.0,3.0,2.0,1.0,1.0,0.0,0.0,0.0,1.0,1.0,2.0,3.0,3.0,4.0,4.0,4.0,3.0,2.0,2.0,4.0,4.0,0.0,0.0]},\"selected\":{\"id\":\"3534\"},\"selection_policy\":{\"id\":\"3533\"}},\"id\":\"3518\",\"type\":\"ColumnDataSource\"},{\"attributes\":{\"data\":{\"x\":[0.0,0.0,0.0,0.0,0.0,1.0,1.0,1.0,1.0,1.0,2.0,2.0,2.0,2.0,2.0,3.0,3.0,3.0,3.0,3.0,4.0,4.0,4.0,4.0,4.0],\"y\":[0.0,1.0,2.0,3.0,4.0,0.0,1.0,2.0,3.0,4.0,0.0,1.0,2.0,3.0,4.0,0.0,1.0,2.0,3.0,4.0,0.0,1.0,2.0,3.0,4.0]},\"selected\":{\"id\":\"3536\"},\"selection_policy\":{\"id\":\"3535\"}},\"id\":\"3523\",\"type\":\"ColumnDataSource\"},{\"attributes\":{},\"id\":\"3503\",\"type\":\"WheelZoomTool\"},{\"attributes\":{\"background_fill_color\":null,\"below\":[{\"id\":\"3494\"}],\"border_fill_color\":null,\"center\":[{\"id\":\"3497\"},{\"id\":\"3501\"}],\"left\":[{\"id\":\"3498\"}],\"outline_line_color\":null,\"plot_height\":400,\"plot_width\":400,\"renderers\":[{\"id\":\"3521\"},{\"id\":\"3526\"}],\"title\":{\"id\":\"3484\"},\"toolbar\":{\"id\":\"3509\"},\"toolbar_location\":null,\"x_range\":{\"id\":\"3486\"},\"x_scale\":{\"id\":\"3490\"},\"y_range\":{\"id\":\"3488\"},\"y_scale\":{\"id\":\"3492\"}},\"id\":\"3483\",\"subtype\":\"Figure\",\"type\":\"Plot\"},{\"attributes\":{\"data_source\":{\"id\":\"3523\"},\"glyph\":{\"id\":\"3524\"},\"hover_glyph\":null,\"muted_glyph\":null,\"nonselection_glyph\":{\"id\":\"3525\"},\"selection_glyph\":null,\"view\":{\"id\":\"3527\"}},\"id\":\"3526\",\"type\":\"GlyphRenderer\"},{\"attributes\":{},\"id\":\"3490\",\"type\":\"LinearScale\"},{\"attributes\":{\"align\":\"center\",\"text\":\"31.7\",\"width\":400},\"id\":\"3517\",\"type\":\"Div\"},{\"attributes\":{\"fill_alpha\":{\"value\":0.1},\"fill_color\":{\"value\":\"steelblue\"},\"line_alpha\":{\"value\":0.1},\"line_color\":{\"value\":\"steelblue\"},\"size\":{\"units\":\"screen\",\"value\":8},\"x\":{\"field\":\"x\"},\"y\":{\"field\":\"y\"}},\"id\":\"3525\",\"type\":\"Circle\"},{\"attributes\":{\"source\":{\"id\":\"3523\"}},\"id\":\"3527\",\"type\":\"CDSView\"},{\"attributes\":{\"fill_color\":{\"value\":\"steelblue\"},\"line_color\":{\"value\":\"steelblue\"},\"size\":{\"units\":\"screen\",\"value\":8},\"x\":{\"field\":\"x\"},\"y\":{\"field\":\"y\"}},\"id\":\"3524\",\"type\":\"Circle\"},{\"attributes\":{},\"id\":\"3529\",\"type\":\"BasicTickFormatter\"}],\"root_ids\":[\"3539\"]},\"title\":\"Bokeh Application\",\"version\":\"2.2.3\"}};\n",
       "  var render_items = [{\"docid\":\"d6476b57-58af-4a02-936b-1d753cd16a09\",\"root_ids\":[\"3539\"],\"roots\":{\"3539\":\"a33ca83a-25e1-4816-9316-1231ad560117\"}}];\n",
       "  root.Bokeh.embed.embed_items_notebook(docs_json, render_items);\n",
       "\n",
       "  }\n",
       "  if (root.Bokeh !== undefined) {\n",
       "    embed_document(root);\n",
       "  } else {\n",
       "    var attempts = 0;\n",
       "    var timer = setInterval(function(root) {\n",
       "      if (root.Bokeh !== undefined) {\n",
       "        clearInterval(timer);\n",
       "        embed_document(root);\n",
       "      } else {\n",
       "        attempts++;\n",
       "        if (attempts > 100) {\n",
       "          clearInterval(timer);\n",
       "          console.log(\"Bokeh: ERROR: Unable to run BokehJS code because BokehJS library is missing\");\n",
       "        }\n",
       "      }\n",
       "    }, 10, root)\n",
       "  }\n",
       "})(window);"
      ],
      "application/vnd.bokehjs_exec.v0+json": ""
     },
     "metadata": {
      "application/vnd.bokehjs_exec.v0+json": {
       "id": "3539"
      }
     },
     "output_type": "display_data"
    }
   ],
   "source": [
    "# First, we run the nearest neighbor heuristic to get an initial tour\n",
    "nodes, G = tsp_grid_instance(5,5,manhattan=False)\n",
    "tour = nearest_neighbor(G)\n",
    "plot_tour(nodes, G, tour)"
   ]
  },
  {
   "cell_type": "code",
   "execution_count": 24,
   "metadata": {},
   "outputs": [
    {
     "data": {
      "text/html": [
       "\n",
       "\n",
       "\n",
       "\n",
       "\n",
       "\n",
       "  <div class=\"bk-root\" id=\"aabb7210-70e3-4d05-b939-6b771b6c1c57\" data-root-id=\"3832\"></div>\n"
      ]
     },
     "metadata": {},
     "output_type": "display_data"
    },
    {
     "data": {
      "application/javascript": [
       "(function(root) {\n",
       "  function embed_document(root) {\n",
       "    \n",
       "  var docs_json = {\"ee40d04a-134c-438d-aa1f-a6af38886d17\":{\"roots\":{\"references\":[{\"attributes\":{\"children\":[[{\"id\":\"3744\"},0,0],[{\"id\":\"3809\"},1,0],[{\"id\":\"3810\"},2,0]]},\"id\":\"3832\",\"type\":\"GridBox\"},{\"attributes\":{\"active_drag\":\"auto\",\"active_inspect\":\"auto\",\"active_multi\":null,\"active_scroll\":\"auto\",\"active_tap\":\"auto\",\"logo\":null,\"tools\":[{\"id\":\"3763\"},{\"id\":\"3764\"},{\"id\":\"3765\"},{\"id\":\"3766\"},{\"id\":\"3767\"},{\"id\":\"3768\"}]},\"id\":\"3770\",\"type\":\"Toolbar\"},{\"attributes\":{\"line_width\":4,\"x\":{\"field\":\"edges_x\"},\"y\":{\"field\":\"edges_y\"}},\"id\":\"3786\",\"type\":\"Line\"},{\"attributes\":{},\"id\":\"3821\",\"type\":\"Selection\"},{\"attributes\":{\"data\":{\"costs\":[31.72865690108165,30.605551275463988,30.47213595499958,28.47213595499958,27.23606797749979,26.650281539872886,25.414213562373096],\"edges_x\":[[0.0,0.0,0.0,0.0,1.0,1.0,1.0,2.0,2.0,3.0,4.0,4.0,3.0,3.0,3.0,4.0,4.0,3.0,2.0,2.0,2.0,4.0,1.0,0.0,1.0,0.0],[0.0,0.0,0.0,0.0,0.0,1.0,4.0,2.0,2.0,2.0,3.0,4.0,4.0,3.0,3.0,3.0,4.0,4.0,3.0,2.0,2.0,1.0,1.0,1.0,1.0,0.0],[0.0,0.0,0.0,0.0,0.0,1.0,2.0,4.0,2.0,2.0,3.0,4.0,4.0,3.0,3.0,3.0,4.0,4.0,3.0,2.0,2.0,1.0,1.0,1.0,1.0,0.0],[0.0,0.0,0.0,0.0,0.0,1.0,1.0,1.0,1.0,2.0,2.0,3.0,4.0,4.0,3.0,3.0,3.0,4.0,4.0,3.0,2.0,2.0,4.0,2.0,1.0,0.0],[0.0,0.0,0.0,0.0,0.0,1.0,1.0,1.0,2.0,4.0,2.0,2.0,3.0,4.0,4.0,3.0,3.0,3.0,4.0,4.0,3.0,2.0,2.0,1.0,1.0,0.0],[0.0,0.0,0.0,0.0,0.0,1.0,1.0,1.0,2.0,3.0,4.0,4.0,3.0,2.0,2.0,4.0,3.0,3.0,4.0,4.0,3.0,2.0,2.0,1.0,1.0,0.0],[0.0,0.0,0.0,0.0,0.0,1.0,1.0,1.0,2.0,2.0,2.0,3.0,4.0,4.0,3.0,4.0,3.0,3.0,4.0,4.0,3.0,2.0,2.0,1.0,1.0,0.0]],\"edges_y\":[[0.0,1.0,2.0,3.0,3.0,2.0,1.0,1.0,0.0,0.0,0.0,1.0,1.0,2.0,3.0,3.0,4.0,4.0,4.0,3.0,2.0,2.0,4.0,4.0,0.0,0.0],[0.0,1.0,2.0,3.0,4.0,4.0,2.0,2.0,3.0,4.0,4.0,4.0,3.0,3.0,2.0,1.0,1.0,0.0,0.0,0.0,1.0,1.0,2.0,3.0,0.0,0.0],[0.0,1.0,2.0,3.0,4.0,4.0,2.0,2.0,3.0,4.0,4.0,4.0,3.0,3.0,2.0,1.0,1.0,0.0,0.0,0.0,1.0,1.0,2.0,3.0,0.0,0.0],[0.0,1.0,2.0,3.0,4.0,4.0,3.0,2.0,1.0,1.0,0.0,0.0,0.0,1.0,1.0,2.0,3.0,3.0,4.0,4.0,4.0,3.0,2.0,2.0,0.0,0.0],[0.0,1.0,2.0,3.0,4.0,4.0,3.0,2.0,2.0,2.0,3.0,4.0,4.0,4.0,3.0,3.0,2.0,1.0,1.0,0.0,0.0,0.0,1.0,1.0,0.0,0.0],[0.0,1.0,2.0,3.0,4.0,4.0,3.0,2.0,2.0,3.0,3.0,4.0,4.0,4.0,3.0,2.0,2.0,1.0,1.0,0.0,0.0,0.0,1.0,1.0,0.0,0.0],[0.0,1.0,2.0,3.0,4.0,4.0,3.0,2.0,2.0,3.0,4.0,4.0,4.0,3.0,3.0,2.0,2.0,1.0,1.0,0.0,0.0,0.0,1.0,1.0,0.0,0.0]]},\"selected\":{\"id\":\"3827\"},\"selection_policy\":{\"id\":\"3826\"}},\"id\":\"3781\",\"type\":\"ColumnDataSource\"},{\"attributes\":{\"data_source\":{\"id\":\"3800\"},\"glyph\":{\"id\":\"3801\"},\"hover_glyph\":null,\"muted_glyph\":null,\"nonselection_glyph\":{\"id\":\"3802\"},\"selection_glyph\":null,\"view\":{\"id\":\"3804\"}},\"id\":\"3803\",\"type\":\"GlyphRenderer\"},{\"attributes\":{\"end\":4.34,\"start\":-0.34},\"id\":\"3747\",\"type\":\"Range1d\"},{\"attributes\":{\"line_alpha\":0.1,\"line_width\":4,\"x\":{\"field\":\"edges_x\"},\"y\":{\"field\":\"edges_y\"}},\"id\":\"3787\",\"type\":\"Line\"},{\"attributes\":{\"data\":{\"edges_x\":[0.0,0.0,0.0,0.0,1.0,1.0,1.0,2.0,2.0,3.0,4.0,4.0,3.0,3.0,3.0,4.0,4.0,3.0,2.0,2.0,2.0,4.0,1.0,0.0,1.0,0.0],\"edges_y\":[0.0,1.0,2.0,3.0,3.0,2.0,1.0,1.0,0.0,0.0,0.0,1.0,1.0,2.0,3.0,3.0,4.0,4.0,4.0,3.0,2.0,2.0,4.0,4.0,0.0,0.0]},\"selected\":{\"id\":\"3817\"},\"selection_policy\":{\"id\":\"3816\"}},\"id\":\"3782\",\"type\":\"ColumnDataSource\"},{\"attributes\":{\"end\":4.34,\"start\":-0.34},\"id\":\"3749\",\"type\":\"Range1d\"},{\"attributes\":{},\"id\":\"3763\",\"type\":\"PanTool\"},{\"attributes\":{\"overlay\":{\"id\":\"3769\"}},\"id\":\"3765\",\"type\":\"BoxZoomTool\"},{\"attributes\":{\"button_type\":\"success\",\"icon\":null,\"js_event_callbacks\":{\"button_click\":[{\"id\":\"3806\"}]},\"label\":\"Next\",\"sizing_mode\":\"scale_width\",\"width_policy\":\"fit\"},\"id\":\"3805\",\"type\":\"Button\"},{\"attributes\":{\"data\":{\"swaps_after_x\":[[[0.0,0.0],[1.0,1.0]],[[1.0,2.0],[4.0,2.0]],[[1.0,1.0],[2.0,1.0]],[[1.0,2.0],[1.0,1.0]],[[2.0,3.0],[4.0,3.0]],[[2.0,2.0],[3.0,4.0]]],\"swaps_after_y\":[[[3.0,4.0],[3.0,0.0]],[[4.0,2.0],[2.0,3.0]],[[4.0,3.0],[2.0,0.0]],[[2.0,2.0],[1.0,0.0]],[[2.0,3.0],[2.0,2.0]],[[2.0,3.0],[3.0,2.0]]],\"swaps_before_x\":[[[0.0,1.0],[0.0,1.0]],[[1.0,4.0],[2.0,2.0]],[[1.0,2.0],[1.0,1.0]],[[1.0,1.0],[2.0,1.0]],[[2.0,4.0],[3.0,3.0]],[[2.0,3.0],[2.0,4.0]]],\"swaps_before_y\":[[[3.0,3.0],[4.0,0.0]],[[4.0,2.0],[2.0,3.0]],[[4.0,2.0],[3.0,0.0]],[[2.0,1.0],[2.0,0.0]],[[2.0,2.0],[3.0,2.0]],[[2.0,3.0],[3.0,2.0]]]},\"selected\":{\"id\":\"3829\"},\"selection_policy\":{\"id\":\"3828\"}},\"id\":\"3783\",\"type\":\"ColumnDataSource\"},{\"attributes\":{},\"id\":\"3751\",\"type\":\"LinearScale\"},{\"attributes\":{\"fill_alpha\":{\"value\":0.1},\"fill_color\":{\"value\":\"steelblue\"},\"line_alpha\":{\"value\":0.1},\"line_color\":{\"value\":\"steelblue\"},\"size\":{\"units\":\"screen\",\"value\":8},\"x\":{\"field\":\"x\"},\"y\":{\"field\":\"y\"}},\"id\":\"3802\",\"type\":\"Circle\"},{\"attributes\":{},\"id\":\"3764\",\"type\":\"WheelZoomTool\"},{\"attributes\":{\"source\":{\"id\":\"3800\"}},\"id\":\"3804\",\"type\":\"CDSView\"},{\"attributes\":{\"data\":{\"swaps_after_x\":[[0.0,0.0],[1.0,1.0]],\"swaps_after_y\":[[3.0,4.0],[3.0,0.0]],\"swaps_before_x\":[[0.0,1.0],[0.0,1.0]],\"swaps_before_y\":[[3.0,3.0],[4.0,0.0]]},\"selected\":{\"id\":\"3819\"},\"selection_policy\":{\"id\":\"3818\"}},\"id\":\"3784\",\"type\":\"ColumnDataSource\"},{\"attributes\":{},\"id\":\"3753\",\"type\":\"LinearScale\"},{\"attributes\":{\"data_source\":{\"id\":\"3782\"},\"glyph\":{\"id\":\"3786\"},\"hover_glyph\":null,\"muted_glyph\":null,\"nonselection_glyph\":{\"id\":\"3787\"},\"selection_glyph\":null,\"view\":{\"id\":\"3789\"}},\"id\":\"3788\",\"type\":\"GlyphRenderer\"},{\"attributes\":{\"align\":\"center\",\"text\":\"31.7\",\"width\":200},\"id\":\"3778\",\"type\":\"Div\"},{\"attributes\":{\"fill_color\":{\"value\":\"steelblue\"},\"line_color\":{\"value\":\"steelblue\"},\"size\":{\"units\":\"screen\",\"value\":8},\"x\":{\"field\":\"x\"},\"y\":{\"field\":\"y\"}},\"id\":\"3801\",\"type\":\"Circle\"},{\"attributes\":{\"formatter\":{\"id\":\"3812\"},\"ticker\":{\"id\":\"3756\"},\"visible\":false},\"id\":\"3755\",\"type\":\"LinearAxis\"},{\"attributes\":{\"axis\":{\"id\":\"3759\"},\"dimension\":1,\"grid_line_color\":null,\"ticker\":null},\"id\":\"3762\",\"type\":\"Grid\"},{\"attributes\":{\"align\":\"center\",\"width\":200},\"id\":\"3779\",\"type\":\"Div\"},{\"attributes\":{\"args\":{\"cost\":{\"id\":\"3778\"},\"done\":{\"id\":\"3779\"},\"n\":{\"id\":\"3780\"},\"source\":{\"id\":\"3781\"},\"swaps\":{\"id\":\"3784\"},\"swaps_source\":{\"id\":\"3783\"},\"tour\":{\"id\":\"3782\"}},\"code\":\"\\nif ((parseInt(n.text) + 1) < source.data['edges_y'].length) {\\n    n.text = (parseInt(n.text) + 1).toString()\\n}\\nvar iteration = parseInt(n.text)\\n\\n    cost.text = source.data['costs'][iteration].toFixed(1)\\n    \\n    if (iteration == source.data['edges_y'].length - 1) {\\n        done.text = \\\"done.\\\"\\n        swaps.data['swaps_before_x'] = [[]]\\n        swaps.data['swaps_before_y'] = [[]]\\n        swaps.data['swaps_after_x'] = [[]]\\n        swaps.data['swaps_after_y'] = [[]]\\n    } else {\\n        done.text = \\\"\\\"\\n        swaps.data['swaps_before_x'] = swaps_source.data['swaps_before_x'][iteration]\\n        swaps.data['swaps_before_y'] = swaps_source.data['swaps_before_y'][iteration]\\n        swaps.data['swaps_after_x'] = swaps_source.data['swaps_after_x'][iteration]\\n        swaps.data['swaps_after_y'] = swaps_source.data['swaps_after_y'][iteration]\\n    }\\n\\n    tour.data['edges_x'] = source.data['edges_x'][iteration]\\n    tour.data['edges_y'] = source.data['edges_y'][iteration]\\n    tour.change.emit()\\n    swaps.change.emit()\\n    \"},\"id\":\"3806\",\"type\":\"CustomJS\"},{\"attributes\":{\"align\":\"center\",\"text\":\"0\",\"width\":400},\"id\":\"3780\",\"type\":\"Div\"},{\"attributes\":{\"source\":{\"id\":\"3782\"}},\"id\":\"3789\",\"type\":\"CDSView\"},{\"attributes\":{},\"id\":\"3829\",\"type\":\"Selection\"},{\"attributes\":{\"button_type\":\"success\",\"icon\":null,\"js_event_callbacks\":{\"button_click\":[{\"id\":\"3808\"}]},\"label\":\"Previous\",\"sizing_mode\":\"scale_width\",\"width_policy\":\"fit\"},\"id\":\"3807\",\"type\":\"Button\"},{\"attributes\":{},\"id\":\"3756\",\"type\":\"BasicTicker\"},{\"attributes\":{\"background_fill_color\":null,\"below\":[{\"id\":\"3755\"}],\"border_fill_color\":null,\"center\":[{\"id\":\"3758\"},{\"id\":\"3762\"}],\"left\":[{\"id\":\"3759\"}],\"outline_line_color\":null,\"plot_height\":400,\"plot_width\":400,\"renderers\":[{\"id\":\"3788\"},{\"id\":\"3793\"},{\"id\":\"3798\"},{\"id\":\"3803\"}],\"title\":{\"id\":\"3745\"},\"toolbar\":{\"id\":\"3770\"},\"toolbar_location\":null,\"x_range\":{\"id\":\"3747\"},\"x_scale\":{\"id\":\"3751\"},\"y_range\":{\"id\":\"3749\"},\"y_scale\":{\"id\":\"3753\"}},\"id\":\"3744\",\"subtype\":\"Figure\",\"type\":\"Plot\"},{\"attributes\":{\"axis\":{\"id\":\"3755\"},\"grid_line_color\":null,\"ticker\":null},\"id\":\"3758\",\"type\":\"Grid\"},{\"attributes\":{\"args\":{\"cost\":{\"id\":\"3778\"},\"done\":{\"id\":\"3779\"},\"n\":{\"id\":\"3780\"},\"source\":{\"id\":\"3781\"},\"swaps\":{\"id\":\"3784\"},\"swaps_source\":{\"id\":\"3783\"},\"tour\":{\"id\":\"3782\"}},\"code\":\"\\nif ((parseInt(n.text) - 1) >= 0) {\\n    n.text = (parseInt(n.text) - 1).toString()\\n}\\nvar iteration = parseInt(n.text)\\n\\n    cost.text = source.data['costs'][iteration].toFixed(1)\\n    \\n    if (iteration == source.data['edges_y'].length - 1) {\\n        done.text = \\\"done.\\\"\\n        swaps.data['swaps_before_x'] = [[]]\\n        swaps.data['swaps_before_y'] = [[]]\\n        swaps.data['swaps_after_x'] = [[]]\\n        swaps.data['swaps_after_y'] = [[]]\\n    } else {\\n        done.text = \\\"\\\"\\n        swaps.data['swaps_before_x'] = swaps_source.data['swaps_before_x'][iteration]\\n        swaps.data['swaps_before_y'] = swaps_source.data['swaps_before_y'][iteration]\\n        swaps.data['swaps_after_x'] = swaps_source.data['swaps_after_x'][iteration]\\n        swaps.data['swaps_after_y'] = swaps_source.data['swaps_after_y'][iteration]\\n    }\\n\\n    tour.data['edges_x'] = source.data['edges_x'][iteration]\\n    tour.data['edges_y'] = source.data['edges_y'][iteration]\\n    tour.change.emit()\\n    swaps.change.emit()\\n    \"},\"id\":\"3808\",\"type\":\"CustomJS\"},{\"attributes\":{\"children\":[{\"id\":\"3807\"},{\"id\":\"3805\"}],\"max_width\":400,\"sizing_mode\":\"stretch_both\"},\"id\":\"3809\",\"type\":\"Row\"},{\"attributes\":{\"formatter\":{\"id\":\"3814\"},\"ticker\":{\"id\":\"3760\"},\"visible\":false},\"id\":\"3759\",\"type\":\"LinearAxis\"},{\"attributes\":{\"data_source\":{\"id\":\"3784\"},\"glyph\":{\"id\":\"3791\"},\"hover_glyph\":null,\"muted_glyph\":null,\"nonselection_glyph\":{\"id\":\"3792\"},\"selection_glyph\":null,\"view\":{\"id\":\"3794\"}},\"id\":\"3793\",\"type\":\"GlyphRenderer\"},{\"attributes\":{\"line_color\":{\"value\":\"red\"},\"line_width\":{\"value\":4},\"xs\":{\"field\":\"swaps_before_x\"},\"ys\":{\"field\":\"swaps_before_y\"}},\"id\":\"3791\",\"type\":\"MultiLine\"},{\"attributes\":{\"children\":[{\"id\":\"3778\"},{\"id\":\"3779\"}]},\"id\":\"3810\",\"type\":\"Row\"},{\"attributes\":{},\"id\":\"3760\",\"type\":\"BasicTicker\"},{\"attributes\":{},\"id\":\"3766\",\"type\":\"SaveTool\"},{\"attributes\":{},\"id\":\"3827\",\"type\":\"Selection\"},{\"attributes\":{\"line_alpha\":{\"value\":0.1},\"line_color\":{\"value\":\"red\"},\"line_width\":{\"value\":4},\"xs\":{\"field\":\"swaps_before_x\"},\"ys\":{\"field\":\"swaps_before_y\"}},\"id\":\"3792\",\"type\":\"MultiLine\"},{\"attributes\":{},\"id\":\"3812\",\"type\":\"BasicTickFormatter\"},{\"attributes\":{\"source\":{\"id\":\"3784\"}},\"id\":\"3794\",\"type\":\"CDSView\"},{\"attributes\":{},\"id\":\"3767\",\"type\":\"ResetTool\"},{\"attributes\":{},\"id\":\"3826\",\"type\":\"UnionRenderers\"},{\"attributes\":{\"text\":\"\"},\"id\":\"3745\",\"type\":\"Title\"},{\"attributes\":{},\"id\":\"3828\",\"type\":\"UnionRenderers\"},{\"attributes\":{},\"id\":\"3814\",\"type\":\"BasicTickFormatter\"},{\"attributes\":{},\"id\":\"3768\",\"type\":\"HelpTool\"},{\"attributes\":{},\"id\":\"3816\",\"type\":\"UnionRenderers\"},{\"attributes\":{\"data_source\":{\"id\":\"3784\"},\"glyph\":{\"id\":\"3796\"},\"hover_glyph\":null,\"muted_glyph\":null,\"nonselection_glyph\":{\"id\":\"3797\"},\"selection_glyph\":null,\"view\":{\"id\":\"3799\"}},\"id\":\"3798\",\"type\":\"GlyphRenderer\"},{\"attributes\":{\"line_color\":{\"value\":\"#90D7F6\"},\"line_width\":{\"value\":4},\"xs\":{\"field\":\"swaps_after_x\"},\"ys\":{\"field\":\"swaps_after_y\"}},\"id\":\"3796\",\"type\":\"MultiLine\"},{\"attributes\":{},\"id\":\"3817\",\"type\":\"Selection\"},{\"attributes\":{\"bottom_units\":\"screen\",\"fill_alpha\":0.5,\"fill_color\":\"lightgrey\",\"left_units\":\"screen\",\"level\":\"overlay\",\"line_alpha\":1.0,\"line_color\":\"black\",\"line_dash\":[4,4],\"line_width\":2,\"right_units\":\"screen\",\"top_units\":\"screen\"},\"id\":\"3769\",\"type\":\"BoxAnnotation\"},{\"attributes\":{},\"id\":\"3818\",\"type\":\"UnionRenderers\"},{\"attributes\":{\"line_alpha\":{\"value\":0.1},\"line_color\":{\"value\":\"#90D7F6\"},\"line_width\":{\"value\":4},\"xs\":{\"field\":\"swaps_after_x\"},\"ys\":{\"field\":\"swaps_after_y\"}},\"id\":\"3797\",\"type\":\"MultiLine\"},{\"attributes\":{},\"id\":\"3819\",\"type\":\"Selection\"},{\"attributes\":{\"source\":{\"id\":\"3784\"}},\"id\":\"3799\",\"type\":\"CDSView\"},{\"attributes\":{\"data\":{\"x\":[0.0,0.0,0.0,0.0,0.0,1.0,1.0,1.0,1.0,1.0,2.0,2.0,2.0,2.0,2.0,3.0,3.0,3.0,3.0,3.0,4.0,4.0,4.0,4.0,4.0],\"y\":[0.0,1.0,2.0,3.0,4.0,0.0,1.0,2.0,3.0,4.0,0.0,1.0,2.0,3.0,4.0,0.0,1.0,2.0,3.0,4.0,0.0,1.0,2.0,3.0,4.0]},\"selected\":{\"id\":\"3821\"},\"selection_policy\":{\"id\":\"3820\"}},\"id\":\"3800\",\"type\":\"ColumnDataSource\"},{\"attributes\":{},\"id\":\"3820\",\"type\":\"UnionRenderers\"}],\"root_ids\":[\"3832\"]},\"title\":\"Bokeh Application\",\"version\":\"2.2.3\"}};\n",
       "  var render_items = [{\"docid\":\"ee40d04a-134c-438d-aa1f-a6af38886d17\",\"root_ids\":[\"3832\"],\"roots\":{\"3832\":\"aabb7210-70e3-4d05-b939-6b771b6c1c57\"}}];\n",
       "  root.Bokeh.embed.embed_items_notebook(docs_json, render_items);\n",
       "\n",
       "  }\n",
       "  if (root.Bokeh !== undefined) {\n",
       "    embed_document(root);\n",
       "  } else {\n",
       "    var attempts = 0;\n",
       "    var timer = setInterval(function(root) {\n",
       "      if (root.Bokeh !== undefined) {\n",
       "        clearInterval(timer);\n",
       "        embed_document(root);\n",
       "      } else {\n",
       "        attempts++;\n",
       "        if (attempts > 100) {\n",
       "          clearInterval(timer);\n",
       "          console.log(\"Bokeh: ERROR: Unable to run BokehJS code because BokehJS library is missing\");\n",
       "        }\n",
       "      }\n",
       "    }, 10, root)\n",
       "  }\n",
       "})(window);"
      ],
      "application/vnd.bokehjs_exec.v0+json": ""
     },
     "metadata": {
      "application/vnd.bokehjs_exec.v0+json": {
       "id": "3832"
      }
     },
     "output_type": "display_data"
    }
   ],
   "source": [
    "plot_two_opt(nodes, G, list(tour));"
   ]
  },
  {
   "cell_type": "markdown",
   "metadata": {},
   "source": [
    "**Q13:** Run 2-OPT a few times. Do you get the same result every time? Why or why not?\n",
    "\n",
    "**A:** <font color='blue'> Yes. There is no randomness in this algorithm.</font>"
   ]
  },
  {
   "cell_type": "markdown",
   "metadata": {},
   "source": [
    "Let's run 2-OPT a few times on a slightly larger grid."
   ]
  },
  {
   "cell_type": "code",
   "execution_count": 25,
   "metadata": {},
   "outputs": [
    {
     "data": {
      "text/html": [
       "\n",
       "\n",
       "\n",
       "\n",
       "\n",
       "\n",
       "  <div class=\"bk-root\" id=\"f3c7bec0-f4a4-4ed1-9539-fa249cf10af2\" data-root-id=\"4171\"></div>\n"
      ]
     },
     "metadata": {},
     "output_type": "display_data"
    },
    {
     "data": {
      "application/javascript": [
       "(function(root) {\n",
       "  function embed_document(root) {\n",
       "    \n",
       "  var docs_json = {\"a7d9d844-4e20-43ad-8cd4-3319a2506b18\":{\"roots\":{\"references\":[{\"attributes\":{\"children\":[[{\"id\":\"4083\"},0,0],[{\"id\":\"4148\"},1,0],[{\"id\":\"4149\"},2,0]]},\"id\":\"4171\",\"type\":\"GridBox\"},{\"attributes\":{},\"id\":\"4151\",\"type\":\"BasicTickFormatter\"},{\"attributes\":{\"data\":{\"costs\":[103.85033955623031,102.97344518184796,102.42683077877179,101.9148346584763,101.16832216694758,99.93225418944779,99.60769886911103,99.3159028016104,99.24211248427899,98.83447163152539,97.4940483864837,97.27117253720151,97.08640753373012,96.90826194885679,96.5006210961032,95.67219397135702,94.25798040898391,93.85033955623031,93.02191243148413,91.78584445398434,91.37820360123074,90.79241716360383,90.02848514110362,88.79241716360383,88.54977647648454,87.78584445398432,86.54977647648454,85.96399003885763],\"edges_x\":[[0.0,1.0,2.0,3.0,4.0,4.0,4.0,5.0,5.0,5.0,5.0,6.0,6.0,6.0,7.0,7.0,7.0,8.0,8.0,8.0,8.0,8.0,7.0,7.0,6.0,6.0,5.0,5.0,6.0,7.0,8.0,4.0,4.0,3.0,3.0,3.0,3.0,2.0,2.0,2.0,1.0,0.0,0.0,1.0,1.0,0.0,0.0,1.0,2.0,2.0,1.0,1.0,0.0,0.0,0.0,0.0,1.0,2.0,2.0,2.0,3.0,3.0,4.0,4.0,4.0,3.0,5.0,6.0,6.0,7.0,8.0,8.0,7.0,6.0,5.0,4.0,3.0,5.0,7.0,8.0,1.0,0.0],[0.0,1.0,2.0,3.0,4.0,4.0,8.0,7.0,6.0,5.0,5.0,6.0,6.0,7.0,7.0,8.0,8.0,8.0,8.0,8.0,7.0,7.0,7.0,6.0,6.0,6.0,5.0,5.0,5.0,5.0,4.0,4.0,4.0,3.0,3.0,3.0,3.0,2.0,2.0,2.0,1.0,0.0,0.0,1.0,1.0,0.0,0.0,1.0,2.0,2.0,1.0,1.0,0.0,0.0,0.0,0.0,1.0,2.0,2.0,2.0,3.0,3.0,4.0,4.0,4.0,3.0,5.0,6.0,6.0,7.0,8.0,8.0,7.0,6.0,5.0,4.0,3.0,5.0,7.0,8.0,1.0,0.0],[0.0,1.0,2.0,3.0,4.0,4.0,5.0,6.0,7.0,8.0,5.0,6.0,6.0,7.0,7.0,8.0,8.0,8.0,8.0,8.0,7.0,7.0,7.0,6.0,6.0,6.0,5.0,5.0,5.0,5.0,4.0,4.0,4.0,3.0,3.0,3.0,3.0,2.0,2.0,2.0,1.0,0.0,0.0,1.0,1.0,0.0,0.0,1.0,2.0,2.0,1.0,1.0,0.0,0.0,0.0,0.0,1.0,2.0,2.0,2.0,3.0,3.0,4.0,4.0,4.0,3.0,5.0,6.0,6.0,7.0,8.0,8.0,7.0,6.0,5.0,4.0,3.0,5.0,7.0,8.0,1.0,0.0],[0.0,1.0,2.0,3.0,4.0,4.0,5.0,6.0,7.0,8.0,6.0,5.0,6.0,7.0,7.0,8.0,8.0,8.0,8.0,8.0,7.0,7.0,7.0,6.0,6.0,6.0,5.0,5.0,5.0,5.0,4.0,4.0,4.0,3.0,3.0,3.0,3.0,2.0,2.0,2.0,1.0,0.0,0.0,1.0,1.0,0.0,0.0,1.0,2.0,2.0,1.0,1.0,0.0,0.0,0.0,0.0,1.0,2.0,2.0,2.0,3.0,3.0,4.0,4.0,4.0,3.0,5.0,6.0,6.0,7.0,8.0,8.0,7.0,6.0,5.0,4.0,3.0,5.0,7.0,8.0,1.0,0.0],[0.0,1.0,2.0,3.0,4.0,4.0,5.0,6.0,7.0,8.0,6.0,5.0,6.0,7.0,7.0,8.0,8.0,8.0,8.0,8.0,8.0,7.0,5.0,3.0,4.0,5.0,6.0,7.0,8.0,8.0,7.0,6.0,6.0,5.0,3.0,4.0,4.0,4.0,3.0,3.0,2.0,2.0,2.0,1.0,0.0,0.0,0.0,0.0,1.0,1.0,2.0,2.0,1.0,0.0,0.0,1.0,1.0,0.0,0.0,1.0,2.0,2.0,2.0,3.0,3.0,3.0,3.0,4.0,4.0,4.0,5.0,5.0,5.0,5.0,6.0,6.0,6.0,7.0,7.0,7.0,1.0,0.0],[0.0,1.0,2.0,3.0,4.0,4.0,5.0,6.0,7.0,8.0,6.0,5.0,6.0,7.0,7.0,8.0,8.0,8.0,8.0,8.0,8.0,7.0,7.0,8.0,8.0,7.0,6.0,5.0,4.0,3.0,5.0,6.0,6.0,5.0,3.0,4.0,4.0,4.0,3.0,3.0,2.0,2.0,2.0,1.0,0.0,0.0,0.0,0.0,1.0,1.0,2.0,2.0,1.0,0.0,0.0,1.0,1.0,0.0,0.0,1.0,2.0,2.0,2.0,3.0,3.0,3.0,3.0,4.0,4.0,4.0,5.0,5.0,5.0,5.0,6.0,6.0,6.0,7.0,7.0,7.0,1.0,0.0],[0.0,1.0,2.0,3.0,4.0,4.0,5.0,6.0,7.0,8.0,6.0,5.0,6.0,7.0,7.0,8.0,8.0,8.0,8.0,8.0,8.0,7.0,7.0,7.0,7.0,6.0,6.0,6.0,5.0,5.0,5.0,5.0,4.0,4.0,4.0,3.0,3.0,3.0,3.0,2.0,2.0,2.0,1.0,0.0,0.0,1.0,1.0,0.0,0.0,1.0,2.0,2.0,1.0,1.0,0.0,0.0,0.0,0.0,1.0,2.0,2.0,2.0,3.0,3.0,4.0,4.0,4.0,3.0,5.0,6.0,6.0,5.0,3.0,4.0,5.0,6.0,7.0,8.0,8.0,7.0,1.0,0.0],[0.0,1.0,2.0,3.0,4.0,4.0,5.0,6.0,7.0,8.0,6.0,5.0,6.0,7.0,7.0,8.0,8.0,8.0,8.0,8.0,8.0,7.0,7.0,7.0,7.0,6.0,6.0,6.0,7.0,8.0,8.0,7.0,6.0,5.0,4.0,3.0,5.0,6.0,6.0,5.0,3.0,4.0,4.0,4.0,3.0,3.0,2.0,2.0,2.0,1.0,0.0,0.0,0.0,0.0,1.0,1.0,2.0,2.0,1.0,0.0,0.0,1.0,1.0,0.0,0.0,1.0,2.0,2.0,2.0,3.0,3.0,3.0,3.0,4.0,4.0,4.0,5.0,5.0,5.0,5.0,1.0,0.0],[0.0,1.0,2.0,3.0,4.0,4.0,5.0,6.0,7.0,8.0,6.0,5.0,6.0,7.0,7.0,8.0,8.0,8.0,8.0,8.0,8.0,7.0,7.0,7.0,7.0,6.0,6.0,6.0,7.0,8.0,8.0,7.0,6.0,5.0,4.0,5.0,5.0,5.0,5.0,4.0,4.0,4.0,3.0,3.0,3.0,3.0,2.0,2.0,2.0,1.0,0.0,0.0,1.0,1.0,0.0,0.0,1.0,2.0,2.0,1.0,1.0,0.0,0.0,0.0,0.0,1.0,2.0,2.0,2.0,3.0,3.0,4.0,4.0,4.0,3.0,5.0,6.0,6.0,5.0,3.0,1.0,0.0],[0.0,1.0,2.0,3.0,4.0,4.0,5.0,6.0,7.0,8.0,6.0,5.0,6.0,7.0,7.0,8.0,8.0,8.0,8.0,8.0,8.0,7.0,7.0,7.0,7.0,6.0,6.0,6.0,5.0,3.0,4.0,4.0,4.0,3.0,3.0,2.0,2.0,2.0,1.0,0.0,0.0,0.0,0.0,1.0,1.0,2.0,2.0,1.0,0.0,0.0,1.0,1.0,0.0,0.0,1.0,2.0,2.0,2.0,3.0,3.0,3.0,3.0,4.0,4.0,4.0,5.0,5.0,5.0,5.0,4.0,5.0,6.0,7.0,8.0,8.0,7.0,6.0,6.0,5.0,3.0,1.0,0.0],[0.0,1.0,2.0,3.0,4.0,4.0,5.0,6.0,7.0,8.0,6.0,5.0,6.0,7.0,7.0,8.0,8.0,8.0,8.0,8.0,8.0,7.0,7.0,7.0,7.0,6.0,6.0,6.0,5.0,5.0,5.0,5.0,4.0,4.0,4.0,3.0,3.0,3.0,3.0,2.0,2.0,2.0,1.0,0.0,0.0,1.0,1.0,0.0,0.0,1.0,2.0,2.0,1.0,1.0,0.0,0.0,0.0,0.0,1.0,2.0,2.0,2.0,3.0,3.0,4.0,4.0,4.0,3.0,5.0,4.0,5.0,6.0,7.0,8.0,8.0,7.0,6.0,6.0,5.0,3.0,1.0,0.0],[0.0,1.0,2.0,3.0,4.0,4.0,5.0,6.0,7.0,8.0,6.0,5.0,6.0,7.0,7.0,8.0,8.0,8.0,8.0,8.0,8.0,7.0,7.0,7.0,7.0,6.0,6.0,6.0,5.0,5.0,5.0,5.0,4.0,4.0,4.0,3.0,1.0,3.0,5.0,6.0,6.0,7.0,8.0,8.0,7.0,6.0,5.0,4.0,5.0,3.0,4.0,4.0,4.0,3.0,3.0,2.0,2.0,2.0,1.0,0.0,0.0,0.0,0.0,1.0,1.0,2.0,2.0,1.0,0.0,0.0,1.0,1.0,0.0,0.0,1.0,2.0,2.0,2.0,3.0,3.0,3.0,0.0],[0.0,1.0,2.0,3.0,4.0,4.0,5.0,6.0,7.0,8.0,6.0,5.0,6.0,7.0,7.0,8.0,8.0,8.0,8.0,8.0,8.0,7.0,7.0,7.0,7.0,6.0,6.0,6.0,5.0,5.0,5.0,5.0,4.0,4.0,4.0,3.0,5.0,4.0,5.0,6.0,7.0,8.0,8.0,7.0,6.0,6.0,5.0,3.0,1.0,3.0,4.0,4.0,4.0,3.0,3.0,2.0,2.0,2.0,1.0,0.0,0.0,0.0,0.0,1.0,1.0,2.0,2.0,1.0,0.0,0.0,1.0,1.0,0.0,0.0,1.0,2.0,2.0,2.0,3.0,3.0,3.0,0.0],[0.0,1.0,2.0,3.0,4.0,4.0,5.0,6.0,7.0,8.0,6.0,5.0,6.0,7.0,7.0,8.0,8.0,8.0,8.0,8.0,8.0,7.0,7.0,7.0,7.0,6.0,6.0,6.0,5.0,5.0,5.0,5.0,4.0,4.0,3.0,4.0,5.0,4.0,5.0,6.0,7.0,8.0,8.0,7.0,6.0,6.0,5.0,3.0,1.0,3.0,4.0,4.0,4.0,3.0,3.0,2.0,2.0,2.0,1.0,0.0,0.0,0.0,0.0,1.0,1.0,2.0,2.0,1.0,0.0,0.0,1.0,1.0,0.0,0.0,1.0,2.0,2.0,2.0,3.0,3.0,3.0,0.0],[0.0,1.0,2.0,3.0,4.0,4.0,5.0,6.0,7.0,8.0,6.0,5.0,6.0,7.0,7.0,8.0,8.0,8.0,8.0,8.0,8.0,7.0,7.0,7.0,7.0,6.0,6.0,6.0,5.0,5.0,5.0,5.0,4.0,4.0,3.0,4.0,3.0,1.0,3.0,5.0,6.0,6.0,7.0,8.0,8.0,7.0,6.0,5.0,4.0,5.0,4.0,4.0,4.0,3.0,3.0,2.0,2.0,2.0,1.0,0.0,0.0,0.0,0.0,1.0,1.0,2.0,2.0,1.0,0.0,0.0,1.0,1.0,0.0,0.0,1.0,2.0,2.0,2.0,3.0,3.0,3.0,0.0],[0.0,1.0,2.0,3.0,4.0,4.0,5.0,6.0,7.0,8.0,6.0,5.0,6.0,7.0,7.0,8.0,8.0,8.0,8.0,8.0,8.0,7.0,7.0,7.0,7.0,6.0,6.0,6.0,5.0,5.0,5.0,5.0,4.0,4.0,4.0,3.0,3.0,1.0,3.0,5.0,6.0,6.0,7.0,8.0,8.0,7.0,6.0,5.0,4.0,5.0,4.0,4.0,4.0,3.0,3.0,2.0,2.0,2.0,1.0,0.0,0.0,0.0,0.0,1.0,1.0,2.0,2.0,1.0,0.0,0.0,1.0,1.0,0.0,0.0,1.0,2.0,2.0,2.0,3.0,3.0,3.0,0.0],[0.0,1.0,2.0,3.0,4.0,4.0,5.0,6.0,7.0,8.0,6.0,5.0,6.0,7.0,7.0,8.0,8.0,8.0,8.0,8.0,8.0,7.0,7.0,7.0,7.0,6.0,6.0,6.0,5.0,5.0,5.0,5.0,4.0,4.0,4.0,3.0,3.0,3.0,3.0,4.0,4.0,4.0,5.0,4.0,5.0,6.0,7.0,8.0,8.0,7.0,6.0,6.0,5.0,3.0,1.0,2.0,2.0,2.0,1.0,0.0,0.0,0.0,0.0,1.0,1.0,2.0,2.0,1.0,0.0,0.0,1.0,1.0,0.0,0.0,1.0,2.0,2.0,2.0,3.0,3.0,3.0,0.0],[0.0,1.0,2.0,3.0,4.0,4.0,5.0,6.0,7.0,8.0,6.0,5.0,6.0,7.0,7.0,8.0,8.0,8.0,8.0,8.0,8.0,7.0,7.0,7.0,7.0,6.0,6.0,6.0,5.0,5.0,5.0,5.0,4.0,4.0,4.0,3.0,3.0,3.0,3.0,4.0,4.0,4.0,5.0,6.0,6.0,7.0,8.0,8.0,7.0,6.0,5.0,4.0,5.0,3.0,1.0,2.0,2.0,2.0,1.0,0.0,0.0,0.0,0.0,1.0,1.0,2.0,2.0,1.0,0.0,0.0,1.0,1.0,0.0,0.0,1.0,2.0,2.0,2.0,3.0,3.0,3.0,0.0],[0.0,1.0,2.0,3.0,4.0,4.0,5.0,6.0,7.0,8.0,6.0,5.0,6.0,7.0,7.0,8.0,8.0,8.0,8.0,8.0,8.0,7.0,7.0,7.0,7.0,6.0,6.0,6.0,5.0,5.0,5.0,5.0,4.0,4.0,4.0,3.0,3.0,3.0,3.0,4.0,4.0,4.0,5.0,6.0,6.0,7.0,8.0,8.0,7.0,6.0,5.0,4.0,5.0,3.0,1.0,2.0,2.0,2.0,1.0,0.0,0.0,0.0,0.0,1.0,1.0,2.0,2.0,1.0,0.0,0.0,1.0,1.0,0.0,0.0,1.0,2.0,2.0,2.0,3.0,3.0,3.0,0.0],[0.0,1.0,2.0,3.0,4.0,4.0,5.0,6.0,7.0,8.0,6.0,5.0,6.0,7.0,7.0,8.0,8.0,8.0,8.0,8.0,8.0,7.0,7.0,7.0,7.0,6.0,6.0,6.0,5.0,5.0,5.0,5.0,4.0,4.0,4.0,3.0,3.0,3.0,3.0,4.0,4.0,4.0,5.0,6.0,6.0,7.0,8.0,8.0,7.0,6.0,5.0,5.0,4.0,3.0,1.0,2.0,2.0,2.0,1.0,0.0,0.0,0.0,0.0,1.0,1.0,2.0,2.0,1.0,0.0,0.0,1.0,1.0,0.0,0.0,1.0,2.0,2.0,2.0,3.0,3.0,3.0,0.0],[0.0,1.0,2.0,3.0,4.0,4.0,5.0,6.0,7.0,8.0,6.0,5.0,6.0,7.0,7.0,8.0,8.0,8.0,8.0,8.0,8.0,7.0,7.0,7.0,7.0,6.0,6.0,6.0,5.0,5.0,5.0,5.0,4.0,4.0,4.0,3.0,3.0,3.0,3.0,4.0,4.0,4.0,5.0,6.0,6.0,7.0,8.0,8.0,7.0,6.0,5.0,5.0,4.0,3.0,2.0,2.0,1.0,2.0,1.0,0.0,0.0,0.0,0.0,1.0,1.0,2.0,2.0,1.0,0.0,0.0,1.0,1.0,0.0,0.0,1.0,2.0,2.0,2.0,3.0,3.0,3.0,0.0],[0.0,1.0,2.0,3.0,4.0,4.0,5.0,6.0,7.0,8.0,6.0,5.0,6.0,7.0,7.0,8.0,8.0,8.0,8.0,8.0,8.0,7.0,7.0,7.0,7.0,6.0,6.0,6.0,5.0,5.0,5.0,5.0,4.0,4.0,4.0,3.0,3.0,3.0,3.0,4.0,4.0,4.0,5.0,6.0,6.0,7.0,8.0,8.0,7.0,6.0,5.0,5.0,4.0,3.0,2.0,2.0,1.0,2.0,1.0,0.0,0.0,0.0,0.0,1.0,1.0,2.0,2.0,1.0,0.0,0.0,1.0,1.0,0.0,0.0,1.0,2.0,2.0,2.0,3.0,3.0,3.0,0.0],[0.0,1.0,2.0,3.0,4.0,4.0,5.0,6.0,7.0,8.0,6.0,5.0,6.0,7.0,7.0,8.0,8.0,8.0,8.0,8.0,8.0,7.0,7.0,7.0,7.0,6.0,6.0,6.0,5.0,5.0,5.0,5.0,4.0,4.0,4.0,3.0,3.0,3.0,3.0,4.0,4.0,4.0,5.0,6.0,6.0,7.0,8.0,8.0,7.0,6.0,5.0,5.0,4.0,3.0,2.0,2.0,1.0,2.0,1.0,0.0,0.0,0.0,0.0,1.0,1.0,2.0,2.0,1.0,0.0,1.0,1.0,0.0,0.0,0.0,1.0,2.0,2.0,2.0,3.0,3.0,3.0,0.0],[0.0,1.0,2.0,3.0,4.0,4.0,5.0,6.0,7.0,8.0,6.0,5.0,6.0,7.0,7.0,8.0,8.0,8.0,8.0,8.0,8.0,7.0,7.0,7.0,7.0,6.0,6.0,6.0,5.0,5.0,5.0,5.0,4.0,4.0,4.0,3.0,3.0,3.0,3.0,4.0,4.0,4.0,5.0,6.0,6.0,7.0,8.0,8.0,7.0,6.0,5.0,5.0,4.0,3.0,2.0,2.0,1.0,2.0,1.0,0.0,0.0,0.0,0.0,1.0,1.0,2.0,2.0,1.0,0.0,0.0,0.0,0.0,1.0,1.0,1.0,2.0,2.0,2.0,3.0,3.0,3.0,0.0],[0.0,1.0,2.0,3.0,4.0,4.0,5.0,6.0,7.0,8.0,6.0,5.0,6.0,7.0,7.0,8.0,8.0,8.0,8.0,8.0,8.0,7.0,7.0,7.0,7.0,6.0,6.0,6.0,5.0,5.0,5.0,5.0,4.0,4.0,4.0,3.0,3.0,3.0,3.0,4.0,4.0,4.0,5.0,6.0,6.0,7.0,8.0,8.0,7.0,6.0,5.0,5.0,4.0,3.0,2.0,2.0,1.0,2.0,1.0,0.0,0.0,0.0,0.0,1.0,1.0,2.0,2.0,1.0,0.0,0.0,3.0,3.0,3.0,2.0,2.0,2.0,1.0,1.0,1.0,0.0,0.0,0.0],[0.0,1.0,2.0,3.0,4.0,4.0,5.0,6.0,7.0,8.0,6.0,5.0,6.0,7.0,7.0,8.0,8.0,8.0,8.0,8.0,8.0,7.0,7.0,7.0,7.0,6.0,6.0,6.0,5.0,5.0,5.0,5.0,4.0,4.0,4.0,3.0,3.0,3.0,3.0,4.0,4.0,4.0,5.0,6.0,6.0,7.0,8.0,8.0,7.0,6.0,5.0,5.0,4.0,3.0,2.0,2.0,1.0,2.0,1.0,0.0,0.0,0.0,0.0,1.0,1.0,2.0,2.0,1.0,0.0,0.0,2.0,2.0,3.0,3.0,3.0,2.0,1.0,1.0,1.0,0.0,0.0,0.0],[0.0,1.0,2.0,3.0,4.0,4.0,5.0,6.0,7.0,8.0,6.0,5.0,6.0,7.0,7.0,8.0,8.0,8.0,8.0,8.0,8.0,7.0,7.0,7.0,7.0,6.0,6.0,6.0,5.0,5.0,5.0,5.0,4.0,4.0,4.0,3.0,3.0,3.0,3.0,4.0,4.0,4.0,5.0,6.0,6.0,7.0,8.0,8.0,7.0,6.0,5.0,5.0,4.0,3.0,2.0,2.0,1.0,2.0,1.0,0.0,0.0,0.0,0.0,1.0,1.0,2.0,2.0,1.0,0.0,0.0,1.0,2.0,3.0,3.0,3.0,2.0,2.0,1.0,1.0,0.0,0.0,0.0],[0.0,1.0,2.0,3.0,4.0,4.0,5.0,6.0,7.0,8.0,6.0,5.0,6.0,7.0,7.0,8.0,8.0,8.0,8.0,8.0,8.0,7.0,7.0,7.0,7.0,6.0,6.0,6.0,5.0,5.0,5.0,5.0,4.0,4.0,4.0,3.0,3.0,3.0,3.0,4.0,4.0,4.0,5.0,6.0,6.0,7.0,8.0,8.0,7.0,6.0,5.0,5.0,4.0,3.0,2.0,2.0,1.0,2.0,1.0,0.0,0.0,0.0,0.0,1.0,1.0,2.0,2.0,1.0,0.0,0.0,1.0,2.0,3.0,3.0,3.0,2.0,2.0,1.0,0.0,0.0,1.0,0.0]],\"edges_y\":[[0.0,0.0,0.0,0.0,0.0,1.0,2.0,2.0,3.0,4.0,5.0,5.0,4.0,3.0,3.0,4.0,5.0,5.0,4.0,3.0,2.0,1.0,1.0,2.0,2.0,1.0,1.0,0.0,0.0,0.0,0.0,3.0,4.0,4.0,3.0,2.0,1.0,1.0,2.0,3.0,3.0,3.0,2.0,2.0,1.0,1.0,4.0,4.0,4.0,5.0,5.0,6.0,6.0,5.0,7.0,8.0,8.0,8.0,7.0,6.0,6.0,7.0,7.0,6.0,5.0,5.0,6.0,6.0,7.0,7.0,7.0,8.0,8.0,8.0,8.0,8.0,8.0,7.0,6.0,6.0,7.0,0.0],[0.0,0.0,0.0,0.0,0.0,1.0,0.0,0.0,0.0,0.0,1.0,1.0,2.0,2.0,1.0,1.0,2.0,3.0,4.0,5.0,5.0,4.0,3.0,3.0,4.0,5.0,5.0,4.0,3.0,2.0,2.0,3.0,4.0,4.0,3.0,2.0,1.0,1.0,2.0,3.0,3.0,3.0,2.0,2.0,1.0,1.0,4.0,4.0,4.0,5.0,5.0,6.0,6.0,5.0,7.0,8.0,8.0,8.0,7.0,6.0,6.0,7.0,7.0,6.0,5.0,5.0,6.0,6.0,7.0,7.0,7.0,8.0,8.0,8.0,8.0,8.0,8.0,7.0,6.0,6.0,7.0,0.0],[0.0,0.0,0.0,0.0,0.0,1.0,0.0,0.0,0.0,0.0,1.0,1.0,2.0,2.0,1.0,1.0,2.0,3.0,4.0,5.0,5.0,4.0,3.0,3.0,4.0,5.0,5.0,4.0,3.0,2.0,2.0,3.0,4.0,4.0,3.0,2.0,1.0,1.0,2.0,3.0,3.0,3.0,2.0,2.0,1.0,1.0,4.0,4.0,4.0,5.0,5.0,6.0,6.0,5.0,7.0,8.0,8.0,8.0,7.0,6.0,6.0,7.0,7.0,6.0,5.0,5.0,6.0,6.0,7.0,7.0,7.0,8.0,8.0,8.0,8.0,8.0,8.0,7.0,6.0,6.0,7.0,0.0],[0.0,0.0,0.0,0.0,0.0,1.0,0.0,0.0,0.0,0.0,1.0,1.0,2.0,2.0,1.0,1.0,2.0,3.0,4.0,5.0,5.0,4.0,3.0,3.0,4.0,5.0,5.0,4.0,3.0,2.0,2.0,3.0,4.0,4.0,3.0,2.0,1.0,1.0,2.0,3.0,3.0,3.0,2.0,2.0,1.0,1.0,4.0,4.0,4.0,5.0,5.0,6.0,6.0,5.0,7.0,8.0,8.0,8.0,7.0,6.0,6.0,7.0,7.0,6.0,5.0,5.0,6.0,6.0,7.0,7.0,7.0,8.0,8.0,8.0,8.0,8.0,8.0,7.0,6.0,6.0,7.0,0.0],[0.0,0.0,0.0,0.0,0.0,1.0,0.0,0.0,0.0,0.0,1.0,1.0,2.0,2.0,1.0,1.0,2.0,3.0,4.0,5.0,6.0,6.0,7.0,8.0,8.0,8.0,8.0,8.0,8.0,7.0,7.0,7.0,6.0,6.0,5.0,5.0,6.0,7.0,7.0,6.0,6.0,7.0,8.0,8.0,8.0,7.0,5.0,6.0,6.0,5.0,5.0,4.0,4.0,4.0,1.0,1.0,2.0,2.0,3.0,3.0,3.0,2.0,1.0,1.0,2.0,3.0,4.0,4.0,3.0,2.0,2.0,3.0,4.0,5.0,5.0,4.0,3.0,3.0,4.0,5.0,7.0,0.0],[0.0,0.0,0.0,0.0,0.0,1.0,0.0,0.0,0.0,0.0,1.0,1.0,2.0,2.0,1.0,1.0,2.0,3.0,4.0,5.0,6.0,6.0,7.0,7.0,8.0,8.0,8.0,8.0,8.0,8.0,7.0,7.0,6.0,6.0,5.0,5.0,6.0,7.0,7.0,6.0,6.0,7.0,8.0,8.0,8.0,7.0,5.0,6.0,6.0,5.0,5.0,4.0,4.0,4.0,1.0,1.0,2.0,2.0,3.0,3.0,3.0,2.0,1.0,1.0,2.0,3.0,4.0,4.0,3.0,2.0,2.0,3.0,4.0,5.0,5.0,4.0,3.0,3.0,4.0,5.0,7.0,0.0],[0.0,0.0,0.0,0.0,0.0,1.0,0.0,0.0,0.0,0.0,1.0,1.0,2.0,2.0,1.0,1.0,2.0,3.0,4.0,5.0,6.0,6.0,5.0,4.0,3.0,3.0,4.0,5.0,5.0,4.0,3.0,2.0,2.0,3.0,4.0,4.0,3.0,2.0,1.0,1.0,2.0,3.0,3.0,3.0,2.0,2.0,1.0,1.0,4.0,4.0,4.0,5.0,5.0,6.0,6.0,5.0,7.0,8.0,8.0,8.0,7.0,6.0,6.0,7.0,7.0,6.0,5.0,5.0,6.0,6.0,7.0,7.0,8.0,8.0,8.0,8.0,8.0,8.0,7.0,7.0,7.0,0.0],[0.0,0.0,0.0,0.0,0.0,1.0,0.0,0.0,0.0,0.0,1.0,1.0,2.0,2.0,1.0,1.0,2.0,3.0,4.0,5.0,6.0,6.0,5.0,4.0,3.0,3.0,4.0,5.0,7.0,7.0,8.0,8.0,8.0,8.0,8.0,8.0,7.0,7.0,6.0,6.0,5.0,5.0,6.0,7.0,7.0,6.0,6.0,7.0,8.0,8.0,8.0,7.0,5.0,6.0,6.0,5.0,5.0,4.0,4.0,4.0,1.0,1.0,2.0,2.0,3.0,3.0,3.0,2.0,1.0,1.0,2.0,3.0,4.0,4.0,3.0,2.0,2.0,3.0,4.0,5.0,7.0,0.0],[0.0,0.0,0.0,0.0,0.0,1.0,0.0,0.0,0.0,0.0,1.0,1.0,2.0,2.0,1.0,1.0,2.0,3.0,4.0,5.0,6.0,6.0,5.0,4.0,3.0,3.0,4.0,5.0,7.0,7.0,8.0,8.0,8.0,8.0,8.0,5.0,4.0,3.0,2.0,2.0,3.0,4.0,4.0,3.0,2.0,1.0,1.0,2.0,3.0,3.0,3.0,2.0,2.0,1.0,1.0,4.0,4.0,4.0,5.0,5.0,6.0,6.0,5.0,7.0,8.0,8.0,8.0,7.0,6.0,6.0,7.0,7.0,6.0,5.0,5.0,6.0,6.0,7.0,7.0,8.0,7.0,0.0],[0.0,0.0,0.0,0.0,0.0,1.0,0.0,0.0,0.0,0.0,1.0,1.0,2.0,2.0,1.0,1.0,2.0,3.0,4.0,5.0,6.0,6.0,5.0,4.0,3.0,3.0,4.0,5.0,6.0,5.0,5.0,6.0,7.0,7.0,6.0,6.0,7.0,8.0,8.0,8.0,7.0,5.0,6.0,6.0,5.0,5.0,4.0,4.0,4.0,1.0,1.0,2.0,2.0,3.0,3.0,3.0,2.0,1.0,1.0,2.0,3.0,4.0,4.0,3.0,2.0,2.0,3.0,4.0,5.0,8.0,8.0,8.0,8.0,8.0,7.0,7.0,6.0,7.0,7.0,8.0,7.0,0.0],[0.0,0.0,0.0,0.0,0.0,1.0,0.0,0.0,0.0,0.0,1.0,1.0,2.0,2.0,1.0,1.0,2.0,3.0,4.0,5.0,6.0,6.0,5.0,4.0,3.0,3.0,4.0,5.0,5.0,4.0,3.0,2.0,2.0,3.0,4.0,4.0,3.0,2.0,1.0,1.0,2.0,3.0,3.0,3.0,2.0,2.0,1.0,1.0,4.0,4.0,4.0,5.0,5.0,6.0,6.0,5.0,7.0,8.0,8.0,8.0,7.0,6.0,6.0,7.0,7.0,6.0,5.0,5.0,6.0,8.0,8.0,8.0,8.0,8.0,7.0,7.0,6.0,7.0,7.0,8.0,7.0,0.0],[0.0,0.0,0.0,0.0,0.0,1.0,0.0,0.0,0.0,0.0,1.0,1.0,2.0,2.0,1.0,1.0,2.0,3.0,4.0,5.0,6.0,6.0,5.0,4.0,3.0,3.0,4.0,5.0,5.0,4.0,3.0,2.0,2.0,3.0,4.0,4.0,7.0,8.0,7.0,7.0,6.0,7.0,7.0,8.0,8.0,8.0,8.0,8.0,6.0,5.0,5.0,6.0,7.0,7.0,6.0,6.0,7.0,8.0,8.0,8.0,7.0,5.0,6.0,6.0,5.0,5.0,4.0,4.0,4.0,1.0,1.0,2.0,2.0,3.0,3.0,3.0,2.0,1.0,1.0,2.0,3.0,0.0],[0.0,0.0,0.0,0.0,0.0,1.0,0.0,0.0,0.0,0.0,1.0,1.0,2.0,2.0,1.0,1.0,2.0,3.0,4.0,5.0,6.0,6.0,5.0,4.0,3.0,3.0,4.0,5.0,5.0,4.0,3.0,2.0,2.0,3.0,4.0,4.0,6.0,8.0,8.0,8.0,8.0,8.0,7.0,7.0,6.0,7.0,7.0,8.0,7.0,5.0,5.0,6.0,7.0,7.0,6.0,6.0,7.0,8.0,8.0,8.0,7.0,5.0,6.0,6.0,5.0,5.0,4.0,4.0,4.0,1.0,1.0,2.0,2.0,3.0,3.0,3.0,2.0,1.0,1.0,2.0,3.0,0.0],[0.0,0.0,0.0,0.0,0.0,1.0,0.0,0.0,0.0,0.0,1.0,1.0,2.0,2.0,1.0,1.0,2.0,3.0,4.0,5.0,6.0,6.0,5.0,4.0,3.0,3.0,4.0,5.0,5.0,4.0,3.0,2.0,2.0,3.0,4.0,4.0,6.0,8.0,8.0,8.0,8.0,8.0,7.0,7.0,6.0,7.0,7.0,8.0,7.0,5.0,5.0,6.0,7.0,7.0,6.0,6.0,7.0,8.0,8.0,8.0,7.0,5.0,6.0,6.0,5.0,5.0,4.0,4.0,4.0,1.0,1.0,2.0,2.0,3.0,3.0,3.0,2.0,1.0,1.0,2.0,3.0,0.0],[0.0,0.0,0.0,0.0,0.0,1.0,0.0,0.0,0.0,0.0,1.0,1.0,2.0,2.0,1.0,1.0,2.0,3.0,4.0,5.0,6.0,6.0,5.0,4.0,3.0,3.0,4.0,5.0,5.0,4.0,3.0,2.0,2.0,3.0,4.0,4.0,5.0,7.0,8.0,7.0,7.0,6.0,7.0,7.0,8.0,8.0,8.0,8.0,8.0,6.0,5.0,6.0,7.0,7.0,6.0,6.0,7.0,8.0,8.0,8.0,7.0,5.0,6.0,6.0,5.0,5.0,4.0,4.0,4.0,1.0,1.0,2.0,2.0,3.0,3.0,3.0,2.0,1.0,1.0,2.0,3.0,0.0],[0.0,0.0,0.0,0.0,0.0,1.0,0.0,0.0,0.0,0.0,1.0,1.0,2.0,2.0,1.0,1.0,2.0,3.0,4.0,5.0,6.0,6.0,5.0,4.0,3.0,3.0,4.0,5.0,5.0,4.0,3.0,2.0,2.0,3.0,4.0,4.0,5.0,7.0,8.0,7.0,7.0,6.0,7.0,7.0,8.0,8.0,8.0,8.0,8.0,6.0,5.0,6.0,7.0,7.0,6.0,6.0,7.0,8.0,8.0,8.0,7.0,5.0,6.0,6.0,5.0,5.0,4.0,4.0,4.0,1.0,1.0,2.0,2.0,3.0,3.0,3.0,2.0,1.0,1.0,2.0,3.0,0.0],[0.0,0.0,0.0,0.0,0.0,1.0,0.0,0.0,0.0,0.0,1.0,1.0,2.0,2.0,1.0,1.0,2.0,3.0,4.0,5.0,6.0,6.0,5.0,4.0,3.0,3.0,4.0,5.0,5.0,4.0,3.0,2.0,2.0,3.0,4.0,4.0,5.0,6.0,7.0,7.0,6.0,5.0,6.0,8.0,8.0,8.0,8.0,8.0,7.0,7.0,6.0,7.0,7.0,8.0,7.0,6.0,7.0,8.0,8.0,8.0,7.0,5.0,6.0,6.0,5.0,5.0,4.0,4.0,4.0,1.0,1.0,2.0,2.0,3.0,3.0,3.0,2.0,1.0,1.0,2.0,3.0,0.0],[0.0,0.0,0.0,0.0,0.0,1.0,0.0,0.0,0.0,0.0,1.0,1.0,2.0,2.0,1.0,1.0,2.0,3.0,4.0,5.0,6.0,6.0,5.0,4.0,3.0,3.0,4.0,5.0,5.0,4.0,3.0,2.0,2.0,3.0,4.0,4.0,5.0,6.0,7.0,7.0,6.0,5.0,6.0,7.0,6.0,7.0,7.0,8.0,8.0,8.0,8.0,8.0,7.0,8.0,7.0,6.0,7.0,8.0,8.0,8.0,7.0,5.0,6.0,6.0,5.0,5.0,4.0,4.0,4.0,1.0,1.0,2.0,2.0,3.0,3.0,3.0,2.0,1.0,1.0,2.0,3.0,0.0],[0.0,0.0,0.0,0.0,0.0,1.0,0.0,0.0,0.0,0.0,1.0,1.0,2.0,2.0,1.0,1.0,2.0,3.0,4.0,5.0,6.0,6.0,5.0,4.0,3.0,3.0,4.0,5.0,5.0,4.0,3.0,2.0,2.0,3.0,4.0,4.0,5.0,6.0,7.0,7.0,6.0,5.0,6.0,6.0,7.0,7.0,7.0,8.0,8.0,8.0,8.0,8.0,7.0,8.0,7.0,6.0,7.0,8.0,8.0,8.0,7.0,5.0,6.0,6.0,5.0,5.0,4.0,4.0,4.0,1.0,1.0,2.0,2.0,3.0,3.0,3.0,2.0,1.0,1.0,2.0,3.0,0.0],[0.0,0.0,0.0,0.0,0.0,1.0,0.0,0.0,0.0,0.0,1.0,1.0,2.0,2.0,1.0,1.0,2.0,3.0,4.0,5.0,6.0,6.0,5.0,4.0,3.0,3.0,4.0,5.0,5.0,4.0,3.0,2.0,2.0,3.0,4.0,4.0,5.0,6.0,7.0,7.0,6.0,5.0,6.0,6.0,7.0,7.0,7.0,8.0,8.0,8.0,8.0,7.0,8.0,8.0,7.0,6.0,7.0,8.0,8.0,8.0,7.0,5.0,6.0,6.0,5.0,5.0,4.0,4.0,4.0,1.0,1.0,2.0,2.0,3.0,3.0,3.0,2.0,1.0,1.0,2.0,3.0,0.0],[0.0,0.0,0.0,0.0,0.0,1.0,0.0,0.0,0.0,0.0,1.0,1.0,2.0,2.0,1.0,1.0,2.0,3.0,4.0,5.0,6.0,6.0,5.0,4.0,3.0,3.0,4.0,5.0,5.0,4.0,3.0,2.0,2.0,3.0,4.0,4.0,5.0,6.0,7.0,7.0,6.0,5.0,6.0,6.0,7.0,7.0,7.0,8.0,8.0,8.0,8.0,7.0,8.0,8.0,7.0,6.0,7.0,8.0,8.0,8.0,7.0,5.0,6.0,6.0,5.0,5.0,4.0,4.0,4.0,1.0,1.0,2.0,2.0,3.0,3.0,3.0,2.0,1.0,1.0,2.0,3.0,0.0],[0.0,0.0,0.0,0.0,0.0,1.0,0.0,0.0,0.0,0.0,1.0,1.0,2.0,2.0,1.0,1.0,2.0,3.0,4.0,5.0,6.0,6.0,5.0,4.0,3.0,3.0,4.0,5.0,5.0,4.0,3.0,2.0,2.0,3.0,4.0,4.0,5.0,6.0,7.0,7.0,6.0,5.0,6.0,6.0,7.0,7.0,7.0,8.0,8.0,8.0,8.0,7.0,8.0,8.0,7.0,6.0,7.0,8.0,8.0,8.0,7.0,6.0,5.0,6.0,5.0,5.0,4.0,4.0,4.0,1.0,1.0,2.0,2.0,3.0,3.0,3.0,2.0,1.0,1.0,2.0,3.0,0.0],[0.0,0.0,0.0,0.0,0.0,1.0,0.0,0.0,0.0,0.0,1.0,1.0,2.0,2.0,1.0,1.0,2.0,3.0,4.0,5.0,6.0,6.0,5.0,4.0,3.0,3.0,4.0,5.0,5.0,4.0,3.0,2.0,2.0,3.0,4.0,4.0,5.0,6.0,7.0,7.0,6.0,5.0,6.0,6.0,7.0,7.0,7.0,8.0,8.0,8.0,8.0,7.0,8.0,8.0,7.0,6.0,7.0,8.0,8.0,8.0,7.0,6.0,5.0,6.0,5.0,5.0,4.0,4.0,4.0,2.0,1.0,1.0,2.0,3.0,3.0,3.0,2.0,1.0,1.0,2.0,3.0,0.0],[0.0,0.0,0.0,0.0,0.0,1.0,0.0,0.0,0.0,0.0,1.0,1.0,2.0,2.0,1.0,1.0,2.0,3.0,4.0,5.0,6.0,6.0,5.0,4.0,3.0,3.0,4.0,5.0,5.0,4.0,3.0,2.0,2.0,3.0,4.0,4.0,5.0,6.0,7.0,7.0,6.0,5.0,6.0,6.0,7.0,7.0,7.0,8.0,8.0,8.0,8.0,7.0,8.0,8.0,7.0,6.0,7.0,8.0,8.0,8.0,7.0,6.0,5.0,6.0,5.0,5.0,4.0,4.0,4.0,3.0,2.0,1.0,1.0,2.0,3.0,3.0,2.0,1.0,1.0,2.0,3.0,0.0],[0.0,0.0,0.0,0.0,0.0,1.0,0.0,0.0,0.0,0.0,1.0,1.0,2.0,2.0,1.0,1.0,2.0,3.0,4.0,5.0,6.0,6.0,5.0,4.0,3.0,3.0,4.0,5.0,5.0,4.0,3.0,2.0,2.0,3.0,4.0,4.0,5.0,6.0,7.0,7.0,6.0,5.0,6.0,6.0,7.0,7.0,7.0,8.0,8.0,8.0,8.0,7.0,8.0,8.0,7.0,6.0,7.0,8.0,8.0,8.0,7.0,6.0,5.0,6.0,5.0,5.0,4.0,4.0,4.0,3.0,3.0,2.0,1.0,1.0,2.0,3.0,3.0,2.0,1.0,1.0,2.0,0.0],[0.0,0.0,0.0,0.0,0.0,1.0,0.0,0.0,0.0,0.0,1.0,1.0,2.0,2.0,1.0,1.0,2.0,3.0,4.0,5.0,6.0,6.0,5.0,4.0,3.0,3.0,4.0,5.0,5.0,4.0,3.0,2.0,2.0,3.0,4.0,4.0,5.0,6.0,7.0,7.0,6.0,5.0,6.0,6.0,7.0,7.0,7.0,8.0,8.0,8.0,8.0,7.0,8.0,8.0,7.0,6.0,7.0,8.0,8.0,8.0,7.0,6.0,5.0,6.0,5.0,5.0,4.0,4.0,4.0,3.0,2.0,1.0,1.0,2.0,3.0,3.0,3.0,2.0,1.0,1.0,2.0,0.0],[0.0,0.0,0.0,0.0,0.0,1.0,0.0,0.0,0.0,0.0,1.0,1.0,2.0,2.0,1.0,1.0,2.0,3.0,4.0,5.0,6.0,6.0,5.0,4.0,3.0,3.0,4.0,5.0,5.0,4.0,3.0,2.0,2.0,3.0,4.0,4.0,5.0,6.0,7.0,7.0,6.0,5.0,6.0,6.0,7.0,7.0,7.0,8.0,8.0,8.0,8.0,7.0,8.0,8.0,7.0,6.0,7.0,8.0,8.0,8.0,7.0,6.0,5.0,6.0,5.0,5.0,4.0,4.0,4.0,3.0,3.0,3.0,3.0,2.0,1.0,1.0,2.0,2.0,1.0,1.0,2.0,0.0],[0.0,0.0,0.0,0.0,0.0,1.0,0.0,0.0,0.0,0.0,1.0,1.0,2.0,2.0,1.0,1.0,2.0,3.0,4.0,5.0,6.0,6.0,5.0,4.0,3.0,3.0,4.0,5.0,5.0,4.0,3.0,2.0,2.0,3.0,4.0,4.0,5.0,6.0,7.0,7.0,6.0,5.0,6.0,6.0,7.0,7.0,7.0,8.0,8.0,8.0,8.0,7.0,8.0,8.0,7.0,6.0,7.0,8.0,8.0,8.0,7.0,6.0,5.0,6.0,5.0,5.0,4.0,4.0,4.0,3.0,3.0,3.0,3.0,2.0,1.0,1.0,2.0,2.0,2.0,1.0,1.0,0.0]]},\"selected\":{\"id\":\"4166\"},\"selection_policy\":{\"id\":\"4165\"}},\"id\":\"4120\",\"type\":\"ColumnDataSource\"},{\"attributes\":{\"formatter\":{\"id\":\"4153\"},\"ticker\":{\"id\":\"4099\"},\"visible\":false},\"id\":\"4098\",\"type\":\"LinearAxis\"},{\"attributes\":{},\"id\":\"4153\",\"type\":\"BasicTickFormatter\"},{\"attributes\":{\"data\":{\"edges_x\":[0.0,1.0,2.0,3.0,4.0,4.0,4.0,5.0,5.0,5.0,5.0,6.0,6.0,6.0,7.0,7.0,7.0,8.0,8.0,8.0,8.0,8.0,7.0,7.0,6.0,6.0,5.0,5.0,6.0,7.0,8.0,4.0,4.0,3.0,3.0,3.0,3.0,2.0,2.0,2.0,1.0,0.0,0.0,1.0,1.0,0.0,0.0,1.0,2.0,2.0,1.0,1.0,0.0,0.0,0.0,0.0,1.0,2.0,2.0,2.0,3.0,3.0,4.0,4.0,4.0,3.0,5.0,6.0,6.0,7.0,8.0,8.0,7.0,6.0,5.0,4.0,3.0,5.0,7.0,8.0,1.0,0.0],\"edges_y\":[0.0,0.0,0.0,0.0,0.0,1.0,2.0,2.0,3.0,4.0,5.0,5.0,4.0,3.0,3.0,4.0,5.0,5.0,4.0,3.0,2.0,1.0,1.0,2.0,2.0,1.0,1.0,0.0,0.0,0.0,0.0,3.0,4.0,4.0,3.0,2.0,1.0,1.0,2.0,3.0,3.0,3.0,2.0,2.0,1.0,1.0,4.0,4.0,4.0,5.0,5.0,6.0,6.0,5.0,7.0,8.0,8.0,8.0,7.0,6.0,6.0,7.0,7.0,6.0,5.0,5.0,6.0,6.0,7.0,7.0,7.0,8.0,8.0,8.0,8.0,8.0,8.0,7.0,6.0,6.0,7.0,0.0]},\"selected\":{\"id\":\"4156\"},\"selection_policy\":{\"id\":\"4155\"}},\"id\":\"4121\",\"type\":\"ColumnDataSource\"},{\"attributes\":{},\"id\":\"4099\",\"type\":\"BasicTicker\"},{\"attributes\":{},\"id\":\"4155\",\"type\":\"UnionRenderers\"},{\"attributes\":{\"data\":{\"swaps_after_x\":[[[4.0,8.0],[4.0,4.0]],[[4.0,5.0],[8.0,5.0]],[[8.0,6.0],[5.0,6.0]],[[8.0,8.0],[7.0,1.0]],[[7.0,7.0],[5.0,6.0]],[[7.0,7.0],[7.0,1.0]],[[6.0,7.0],[5.0,1.0]],[[4.0,5.0],[3.0,1.0]],[[6.0,5.0],[7.0,6.0]],[[6.0,5.0],[5.0,4.0]],[[3.0,1.0],[3.0,0.0]],[[3.0,5.0],[1.0,3.0]],[[4.0,3.0],[4.0,5.0]],[[4.0,3.0],[5.0,4.0]],[[4.0,4.0],[3.0,3.0]],[[3.0,3.0],[1.0,2.0]],[[5.0,6.0],[4.0,5.0]],[[5.0,6.0],[6.0,7.0]],[[5.0,5.0],[4.0,3.0]],[[3.0,2.0],[1.0,2.0]],[[0.0,0.0],[0.0,1.0]],[[0.0,1.0],[0.0,0.0]],[[0.0,0.0],[1.0,1.0]],[[0.0,3.0],[0.0,0.0]],[[0.0,2.0],[3.0,2.0]],[[0.0,1.0],[2.0,1.0]],[[1.0,0.0],[1.0,0.0]]],\"swaps_after_y\":[[[1.0,0.0],[2.0,3.0]],[[1.0,0.0],[0.0,1.0]],[[0.0,1.0],[1.0,2.0]],[[5.0,6.0],[5.0,7.0]],[[6.0,7.0],[7.0,7.0]],[[6.0,5.0],[7.0,7.0]],[[5.0,7.0],[5.0,7.0]],[[8.0,5.0],[8.0,7.0]],[[5.0,6.0],[7.0,6.0]],[[5.0,5.0],[6.0,8.0]],[[4.0,7.0],[3.0,0.0]],[[4.0,6.0],[7.0,5.0]],[[3.0,4.0],[4.0,6.0]],[[4.0,5.0],[6.0,5.0]],[[3.0,4.0],[4.0,5.0]],[[5.0,6.0],[7.0,6.0]],[[6.0,7.0],[8.0,7.0]],[[6.0,6.0],[7.0,7.0]],[[8.0,7.0],[8.0,8.0]],[[8.0,7.0],[7.0,8.0]],[[7.0,6.0],[5.0,6.0]],[[4.0,2.0],[1.0,2.0]],[[4.0,3.0],[2.0,3.0]],[[3.0,3.0],[2.0,0.0]],[[3.0,2.0],[3.0,3.0]],[[3.0,3.0],[2.0,2.0]],[[2.0,2.0],[1.0,0.0]]],\"swaps_before_x\":[[[4.0,4.0],[8.0,4.0]],[[4.0,8.0],[5.0,5.0]],[[8.0,5.0],[6.0,6.0]],[[8.0,7.0],[8.0,1.0]],[[7.0,5.0],[7.0,6.0]],[[7.0,7.0],[7.0,1.0]],[[6.0,5.0],[7.0,1.0]],[[4.0,3.0],[5.0,1.0]],[[6.0,7.0],[5.0,6.0]],[[6.0,5.0],[5.0,4.0]],[[3.0,3.0],[1.0,0.0]],[[3.0,1.0],[5.0,3.0]],[[4.0,4.0],[3.0,5.0]],[[4.0,5.0],[3.0,4.0]],[[4.0,3.0],[4.0,3.0]],[[3.0,1.0],[3.0,2.0]],[[5.0,4.0],[6.0,5.0]],[[5.0,6.0],[6.0,7.0]],[[5.0,4.0],[5.0,3.0]],[[3.0,1.0],[2.0,2.0]],[[0.0,0.0],[0.0,1.0]],[[0.0,0.0],[1.0,0.0]],[[0.0,1.0],[0.0,1.0]],[[0.0,0.0],[3.0,0.0]],[[0.0,3.0],[2.0,2.0]],[[0.0,2.0],[1.0,1.0]],[[1.0,1.0],[0.0,0.0]]],\"swaps_before_y\":[[[1.0,2.0],[0.0,3.0]],[[1.0,0.0],[0.0,1.0]],[[0.0,1.0],[1.0,2.0]],[[5.0,5.0],[6.0,7.0]],[[6.0,7.0],[7.0,7.0]],[[6.0,7.0],[5.0,7.0]],[[5.0,5.0],[7.0,7.0]],[[8.0,8.0],[5.0,7.0]],[[5.0,7.0],[6.0,6.0]],[[5.0,6.0],[5.0,8.0]],[[4.0,3.0],[7.0,0.0]],[[4.0,7.0],[6.0,5.0]],[[3.0,4.0],[4.0,6.0]],[[4.0,6.0],[5.0,5.0]],[[3.0,4.0],[4.0,5.0]],[[5.0,7.0],[6.0,6.0]],[[6.0,8.0],[7.0,7.0]],[[6.0,7.0],[6.0,7.0]],[[8.0,8.0],[7.0,8.0]],[[8.0,7.0],[7.0,8.0]],[[7.0,5.0],[6.0,6.0]],[[4.0,1.0],[2.0,2.0]],[[4.0,2.0],[3.0,3.0]],[[3.0,2.0],[3.0,0.0]],[[3.0,3.0],[2.0,3.0]],[[3.0,2.0],[3.0,2.0]],[[2.0,1.0],[2.0,0.0]]]},\"selected\":{\"id\":\"4168\"},\"selection_policy\":{\"id\":\"4167\"}},\"id\":\"4122\",\"type\":\"ColumnDataSource\"},{\"attributes\":{\"axis\":{\"id\":\"4098\"},\"dimension\":1,\"grid_line_color\":null,\"ticker\":null},\"id\":\"4101\",\"type\":\"Grid\"},{\"attributes\":{},\"id\":\"4156\",\"type\":\"Selection\"},{\"attributes\":{\"data\":{\"swaps_after_x\":[[4.0,8.0],[4.0,4.0]],\"swaps_after_y\":[[1.0,0.0],[2.0,3.0]],\"swaps_before_x\":[[4.0,4.0],[8.0,4.0]],\"swaps_before_y\":[[1.0,2.0],[0.0,3.0]]},\"selected\":{\"id\":\"4158\"},\"selection_policy\":{\"id\":\"4157\"}},\"id\":\"4123\",\"type\":\"ColumnDataSource\"},{\"attributes\":{\"align\":\"center\",\"width\":200},\"id\":\"4118\",\"type\":\"Div\"},{\"attributes\":{},\"id\":\"4157\",\"type\":\"UnionRenderers\"},{\"attributes\":{\"data_source\":{\"id\":\"4123\"},\"glyph\":{\"id\":\"4135\"},\"hover_glyph\":null,\"muted_glyph\":null,\"nonselection_glyph\":{\"id\":\"4136\"},\"selection_glyph\":null,\"view\":{\"id\":\"4138\"}},\"id\":\"4137\",\"type\":\"GlyphRenderer\"},{\"attributes\":{\"align\":\"center\",\"text\":\"103.9\",\"width\":200},\"id\":\"4117\",\"type\":\"Div\"},{\"attributes\":{},\"id\":\"4158\",\"type\":\"Selection\"},{\"attributes\":{\"source\":{\"id\":\"4123\"}},\"id\":\"4138\",\"type\":\"CDSView\"},{\"attributes\":{},\"id\":\"4102\",\"type\":\"PanTool\"},{\"attributes\":{},\"id\":\"4159\",\"type\":\"UnionRenderers\"},{\"attributes\":{\"data\":{\"x\":[0.0,0.0,0.0,0.0,0.0,0.0,0.0,0.0,0.0,1.0,1.0,1.0,1.0,1.0,1.0,1.0,1.0,1.0,2.0,2.0,2.0,2.0,2.0,2.0,2.0,2.0,2.0,3.0,3.0,3.0,3.0,3.0,3.0,3.0,3.0,3.0,4.0,4.0,4.0,4.0,4.0,4.0,4.0,4.0,4.0,5.0,5.0,5.0,5.0,5.0,5.0,5.0,5.0,5.0,6.0,6.0,6.0,6.0,6.0,6.0,6.0,6.0,6.0,7.0,7.0,7.0,7.0,7.0,7.0,7.0,7.0,7.0,8.0,8.0,8.0,8.0,8.0,8.0,8.0,8.0,8.0],\"y\":[0.0,1.0,2.0,3.0,4.0,5.0,6.0,7.0,8.0,0.0,1.0,2.0,3.0,4.0,5.0,6.0,7.0,8.0,0.0,1.0,2.0,3.0,4.0,5.0,6.0,7.0,8.0,0.0,1.0,2.0,3.0,4.0,5.0,6.0,7.0,8.0,0.0,1.0,2.0,3.0,4.0,5.0,6.0,7.0,8.0,0.0,1.0,2.0,3.0,4.0,5.0,6.0,7.0,8.0,0.0,1.0,2.0,3.0,4.0,5.0,6.0,7.0,8.0,0.0,1.0,2.0,3.0,4.0,5.0,6.0,7.0,8.0,0.0,1.0,2.0,3.0,4.0,5.0,6.0,7.0,8.0]},\"selected\":{\"id\":\"4160\"},\"selection_policy\":{\"id\":\"4159\"}},\"id\":\"4139\",\"type\":\"ColumnDataSource\"},{\"attributes\":{\"data_source\":{\"id\":\"4123\"},\"glyph\":{\"id\":\"4130\"},\"hover_glyph\":null,\"muted_glyph\":null,\"nonselection_glyph\":{\"id\":\"4131\"},\"selection_glyph\":null,\"view\":{\"id\":\"4133\"}},\"id\":\"4132\",\"type\":\"GlyphRenderer\"},{\"attributes\":{},\"id\":\"4103\",\"type\":\"WheelZoomTool\"},{\"attributes\":{},\"id\":\"4160\",\"type\":\"Selection\"},{\"attributes\":{\"data_source\":{\"id\":\"4139\"},\"glyph\":{\"id\":\"4140\"},\"hover_glyph\":null,\"muted_glyph\":null,\"nonselection_glyph\":{\"id\":\"4141\"},\"selection_glyph\":null,\"view\":{\"id\":\"4143\"}},\"id\":\"4142\",\"type\":\"GlyphRenderer\"},{\"attributes\":{\"overlay\":{\"id\":\"4108\"}},\"id\":\"4104\",\"type\":\"BoxZoomTool\"},{\"attributes\":{},\"id\":\"4105\",\"type\":\"SaveTool\"},{\"attributes\":{\"data_source\":{\"id\":\"4121\"},\"glyph\":{\"id\":\"4125\"},\"hover_glyph\":null,\"muted_glyph\":null,\"nonselection_glyph\":{\"id\":\"4126\"},\"selection_glyph\":null,\"view\":{\"id\":\"4128\"}},\"id\":\"4127\",\"type\":\"GlyphRenderer\"},{\"attributes\":{\"button_type\":\"success\",\"icon\":null,\"js_event_callbacks\":{\"button_click\":[{\"id\":\"4145\"}]},\"label\":\"Next\",\"sizing_mode\":\"scale_width\",\"width_policy\":\"fit\"},\"id\":\"4144\",\"type\":\"Button\"},{\"attributes\":{},\"id\":\"4106\",\"type\":\"ResetTool\"},{\"attributes\":{},\"id\":\"4165\",\"type\":\"UnionRenderers\"},{\"attributes\":{\"fill_alpha\":{\"value\":0.1},\"fill_color\":{\"value\":\"steelblue\"},\"line_alpha\":{\"value\":0.1},\"line_color\":{\"value\":\"steelblue\"},\"size\":{\"units\":\"screen\",\"value\":8},\"x\":{\"field\":\"x\"},\"y\":{\"field\":\"y\"}},\"id\":\"4141\",\"type\":\"Circle\"},{\"attributes\":{\"source\":{\"id\":\"4139\"}},\"id\":\"4143\",\"type\":\"CDSView\"},{\"attributes\":{},\"id\":\"4107\",\"type\":\"HelpTool\"},{\"attributes\":{},\"id\":\"4167\",\"type\":\"UnionRenderers\"},{\"attributes\":{\"end\":8.68,\"start\":-0.68},\"id\":\"4086\",\"type\":\"Range1d\"},{\"attributes\":{\"line_width\":4,\"x\":{\"field\":\"edges_x\"},\"y\":{\"field\":\"edges_y\"}},\"id\":\"4125\",\"type\":\"Line\"},{\"attributes\":{\"source\":{\"id\":\"4123\"}},\"id\":\"4133\",\"type\":\"CDSView\"},{\"attributes\":{\"fill_color\":{\"value\":\"steelblue\"},\"line_color\":{\"value\":\"steelblue\"},\"size\":{\"units\":\"screen\",\"value\":8},\"x\":{\"field\":\"x\"},\"y\":{\"field\":\"y\"}},\"id\":\"4140\",\"type\":\"Circle\"},{\"attributes\":{\"args\":{\"cost\":{\"id\":\"4117\"},\"done\":{\"id\":\"4118\"},\"n\":{\"id\":\"4119\"},\"source\":{\"id\":\"4120\"},\"swaps\":{\"id\":\"4123\"},\"swaps_source\":{\"id\":\"4122\"},\"tour\":{\"id\":\"4121\"}},\"code\":\"\\nif ((parseInt(n.text) + 1) < source.data['edges_y'].length) {\\n    n.text = (parseInt(n.text) + 1).toString()\\n}\\nvar iteration = parseInt(n.text)\\n\\n    cost.text = source.data['costs'][iteration].toFixed(1)\\n    \\n    if (iteration == source.data['edges_y'].length - 1) {\\n        done.text = \\\"done.\\\"\\n        swaps.data['swaps_before_x'] = [[]]\\n        swaps.data['swaps_before_y'] = [[]]\\n        swaps.data['swaps_after_x'] = [[]]\\n        swaps.data['swaps_after_y'] = [[]]\\n    } else {\\n        done.text = \\\"\\\"\\n        swaps.data['swaps_before_x'] = swaps_source.data['swaps_before_x'][iteration]\\n        swaps.data['swaps_before_y'] = swaps_source.data['swaps_before_y'][iteration]\\n        swaps.data['swaps_after_x'] = swaps_source.data['swaps_after_x'][iteration]\\n        swaps.data['swaps_after_y'] = swaps_source.data['swaps_after_y'][iteration]\\n    }\\n\\n    tour.data['edges_x'] = source.data['edges_x'][iteration]\\n    tour.data['edges_y'] = source.data['edges_y'][iteration]\\n    tour.change.emit()\\n    swaps.change.emit()\\n    \"},\"id\":\"4145\",\"type\":\"CustomJS\"},{\"attributes\":{\"active_drag\":\"auto\",\"active_inspect\":\"auto\",\"active_multi\":null,\"active_scroll\":\"auto\",\"active_tap\":\"auto\",\"logo\":null,\"tools\":[{\"id\":\"4102\"},{\"id\":\"4103\"},{\"id\":\"4104\"},{\"id\":\"4105\"},{\"id\":\"4106\"},{\"id\":\"4107\"}]},\"id\":\"4109\",\"type\":\"Toolbar\"},{\"attributes\":{\"line_alpha\":0.1,\"line_width\":4,\"x\":{\"field\":\"edges_x\"},\"y\":{\"field\":\"edges_y\"}},\"id\":\"4126\",\"type\":\"Line\"},{\"attributes\":{\"end\":8.68,\"start\":-0.68},\"id\":\"4088\",\"type\":\"Range1d\"},{\"attributes\":{\"background_fill_color\":null,\"below\":[{\"id\":\"4094\"}],\"border_fill_color\":null,\"center\":[{\"id\":\"4097\"},{\"id\":\"4101\"}],\"left\":[{\"id\":\"4098\"}],\"outline_line_color\":null,\"plot_height\":400,\"plot_width\":400,\"renderers\":[{\"id\":\"4127\"},{\"id\":\"4132\"},{\"id\":\"4137\"},{\"id\":\"4142\"}],\"title\":{\"id\":\"4084\"},\"toolbar\":{\"id\":\"4109\"},\"toolbar_location\":null,\"x_range\":{\"id\":\"4086\"},\"x_scale\":{\"id\":\"4090\"},\"y_range\":{\"id\":\"4088\"},\"y_scale\":{\"id\":\"4092\"}},\"id\":\"4083\",\"subtype\":\"Figure\",\"type\":\"Plot\"},{\"attributes\":{\"line_color\":{\"value\":\"red\"},\"line_width\":{\"value\":4},\"xs\":{\"field\":\"swaps_before_x\"},\"ys\":{\"field\":\"swaps_before_y\"}},\"id\":\"4130\",\"type\":\"MultiLine\"},{\"attributes\":{\"button_type\":\"success\",\"icon\":null,\"js_event_callbacks\":{\"button_click\":[{\"id\":\"4147\"}]},\"label\":\"Previous\",\"sizing_mode\":\"scale_width\",\"width_policy\":\"fit\"},\"id\":\"4146\",\"type\":\"Button\"},{\"attributes\":{\"text\":\"\"},\"id\":\"4084\",\"type\":\"Title\"},{\"attributes\":{\"source\":{\"id\":\"4121\"}},\"id\":\"4128\",\"type\":\"CDSView\"},{\"attributes\":{},\"id\":\"4090\",\"type\":\"LinearScale\"},{\"attributes\":{\"args\":{\"cost\":{\"id\":\"4117\"},\"done\":{\"id\":\"4118\"},\"n\":{\"id\":\"4119\"},\"source\":{\"id\":\"4120\"},\"swaps\":{\"id\":\"4123\"},\"swaps_source\":{\"id\":\"4122\"},\"tour\":{\"id\":\"4121\"}},\"code\":\"\\nif ((parseInt(n.text) - 1) >= 0) {\\n    n.text = (parseInt(n.text) - 1).toString()\\n}\\nvar iteration = parseInt(n.text)\\n\\n    cost.text = source.data['costs'][iteration].toFixed(1)\\n    \\n    if (iteration == source.data['edges_y'].length - 1) {\\n        done.text = \\\"done.\\\"\\n        swaps.data['swaps_before_x'] = [[]]\\n        swaps.data['swaps_before_y'] = [[]]\\n        swaps.data['swaps_after_x'] = [[]]\\n        swaps.data['swaps_after_y'] = [[]]\\n    } else {\\n        done.text = \\\"\\\"\\n        swaps.data['swaps_before_x'] = swaps_source.data['swaps_before_x'][iteration]\\n        swaps.data['swaps_before_y'] = swaps_source.data['swaps_before_y'][iteration]\\n        swaps.data['swaps_after_x'] = swaps_source.data['swaps_after_x'][iteration]\\n        swaps.data['swaps_after_y'] = swaps_source.data['swaps_after_y'][iteration]\\n    }\\n\\n    tour.data['edges_x'] = source.data['edges_x'][iteration]\\n    tour.data['edges_y'] = source.data['edges_y'][iteration]\\n    tour.change.emit()\\n    swaps.change.emit()\\n    \"},\"id\":\"4147\",\"type\":\"CustomJS\"},{\"attributes\":{},\"id\":\"4092\",\"type\":\"LinearScale\"},{\"attributes\":{\"line_alpha\":{\"value\":0.1},\"line_color\":{\"value\":\"#90D7F6\"},\"line_width\":{\"value\":4},\"xs\":{\"field\":\"swaps_after_x\"},\"ys\":{\"field\":\"swaps_after_y\"}},\"id\":\"4136\",\"type\":\"MultiLine\"},{\"attributes\":{},\"id\":\"4168\",\"type\":\"Selection\"},{\"attributes\":{\"children\":[{\"id\":\"4146\"},{\"id\":\"4144\"}],\"max_width\":400,\"sizing_mode\":\"stretch_both\"},\"id\":\"4148\",\"type\":\"Row\"},{\"attributes\":{\"formatter\":{\"id\":\"4151\"},\"ticker\":{\"id\":\"4095\"},\"visible\":false},\"id\":\"4094\",\"type\":\"LinearAxis\"},{\"attributes\":{\"bottom_units\":\"screen\",\"fill_alpha\":0.5,\"fill_color\":\"lightgrey\",\"left_units\":\"screen\",\"level\":\"overlay\",\"line_alpha\":1.0,\"line_color\":\"black\",\"line_dash\":[4,4],\"line_width\":2,\"right_units\":\"screen\",\"top_units\":\"screen\"},\"id\":\"4108\",\"type\":\"BoxAnnotation\"},{\"attributes\":{\"children\":[{\"id\":\"4117\"},{\"id\":\"4118\"}]},\"id\":\"4149\",\"type\":\"Row\"},{\"attributes\":{\"line_alpha\":{\"value\":0.1},\"line_color\":{\"value\":\"red\"},\"line_width\":{\"value\":4},\"xs\":{\"field\":\"swaps_before_x\"},\"ys\":{\"field\":\"swaps_before_y\"}},\"id\":\"4131\",\"type\":\"MultiLine\"},{\"attributes\":{},\"id\":\"4095\",\"type\":\"BasicTicker\"},{\"attributes\":{\"line_color\":{\"value\":\"#90D7F6\"},\"line_width\":{\"value\":4},\"xs\":{\"field\":\"swaps_after_x\"},\"ys\":{\"field\":\"swaps_after_y\"}},\"id\":\"4135\",\"type\":\"MultiLine\"},{\"attributes\":{},\"id\":\"4166\",\"type\":\"Selection\"},{\"attributes\":{\"align\":\"center\",\"text\":\"0\",\"width\":400},\"id\":\"4119\",\"type\":\"Div\"},{\"attributes\":{\"axis\":{\"id\":\"4094\"},\"grid_line_color\":null,\"ticker\":null},\"id\":\"4097\",\"type\":\"Grid\"}],\"root_ids\":[\"4171\"]},\"title\":\"Bokeh Application\",\"version\":\"2.2.3\"}};\n",
       "  var render_items = [{\"docid\":\"a7d9d844-4e20-43ad-8cd4-3319a2506b18\",\"root_ids\":[\"4171\"],\"roots\":{\"4171\":\"f3c7bec0-f4a4-4ed1-9539-fa249cf10af2\"}}];\n",
       "  root.Bokeh.embed.embed_items_notebook(docs_json, render_items);\n",
       "\n",
       "  }\n",
       "  if (root.Bokeh !== undefined) {\n",
       "    embed_document(root);\n",
       "  } else {\n",
       "    var attempts = 0;\n",
       "    var timer = setInterval(function(root) {\n",
       "      if (root.Bokeh !== undefined) {\n",
       "        clearInterval(timer);\n",
       "        embed_document(root);\n",
       "      } else {\n",
       "        attempts++;\n",
       "        if (attempts > 100) {\n",
       "          clearInterval(timer);\n",
       "          console.log(\"Bokeh: ERROR: Unable to run BokehJS code because BokehJS library is missing\");\n",
       "        }\n",
       "      }\n",
       "    }, 10, root)\n",
       "  }\n",
       "})(window);"
      ],
      "application/vnd.bokehjs_exec.v0+json": ""
     },
     "metadata": {
      "application/vnd.bokehjs_exec.v0+json": {
       "id": "4171"
      }
     },
     "output_type": "display_data"
    }
   ],
   "source": [
    "nodes, G = tsp_grid_instance(9,9,manhattan=False)\n",
    "tour = nearest_neighbor(G)\n",
    "tour = plot_two_opt(nodes, G, tour)"
   ]
  },
  {
   "cell_type": "markdown",
   "metadata": {},
   "source": [
    "**Q14:** After running 2-OPT, do you ever get a tour which crosses itself? When using euclidian distances, is this even possible? Explain why or why not.\n",
    "\n",
    "**A:** <font color='blue'> No. This is not possible. Assume you have a tour that crosses itself. Consider the two edges that cross. You can always reconnect them to be cheaper. Hence, 2-OPT has not been run to completion. It follows that 2-OPT always terminates with a tour with no crosses. </font>"
   ]
  },
  {
   "cell_type": "markdown",
   "metadata": {},
   "source": [
    "Let's compare the heuristics with and without executing 2-OPT. While we are at it, let's compare to the optimal solution which has already been computed."
   ]
  },
  {
   "cell_type": "code",
   "execution_count": 26,
   "metadata": {},
   "outputs": [
    {
     "data": {
      "text/html": [
       "\n",
       "\n",
       "\n",
       "\n",
       "\n",
       "\n",
       "  <div class=\"bk-root\" id=\"434b04e1-43e8-4dbd-8754-d080118f21a8\" data-root-id=\"4494\"></div>\n"
      ]
     },
     "metadata": {},
     "output_type": "display_data"
    },
    {
     "data": {
      "application/javascript": [
       "(function(root) {\n",
       "  function embed_document(root) {\n",
       "    \n",
       "  var docs_json = {\"aee50a1f-0962-4a52-92c4-8a3434fdd80c\":{\"roots\":{\"references\":[{\"attributes\":{\"children\":[[{\"id\":\"4438\"},0,0],[{\"id\":\"4472\"},1,0]]},\"id\":\"4494\",\"type\":\"GridBox\"},{\"attributes\":{},\"id\":\"4486\",\"type\":\"BasicTickFormatter\"},{\"attributes\":{\"data_source\":{\"id\":\"4473\"},\"glyph\":{\"id\":\"4474\"},\"hover_glyph\":null,\"muted_glyph\":null,\"nonselection_glyph\":{\"id\":\"4475\"},\"selection_glyph\":null,\"view\":{\"id\":\"4477\"}},\"id\":\"4476\",\"type\":\"GlyphRenderer\"},{\"attributes\":{\"line_alpha\":0.1,\"line_width\":4,\"x\":{\"field\":\"x\"},\"y\":{\"field\":\"y\"}},\"id\":\"4475\",\"type\":\"Line\"},{\"attributes\":{\"source\":{\"id\":\"4478\"}},\"id\":\"4482\",\"type\":\"CDSView\"},{\"attributes\":{},\"id\":\"4488\",\"type\":\"UnionRenderers\"},{\"attributes\":{},\"id\":\"4491\",\"type\":\"Selection\"},{\"attributes\":{\"fill_alpha\":{\"value\":0.1},\"fill_color\":{\"value\":\"steelblue\"},\"line_alpha\":{\"value\":0.1},\"line_color\":{\"value\":\"steelblue\"},\"size\":{\"units\":\"screen\",\"value\":8},\"x\":{\"field\":\"x\"},\"y\":{\"field\":\"y\"}},\"id\":\"4480\",\"type\":\"Circle\"},{\"attributes\":{\"axis\":{\"id\":\"4449\"},\"grid_line_color\":null,\"ticker\":null},\"id\":\"4452\",\"type\":\"Grid\"},{\"attributes\":{\"background_fill_color\":null,\"below\":[{\"id\":\"4449\"}],\"border_fill_color\":null,\"center\":[{\"id\":\"4452\"},{\"id\":\"4456\"}],\"left\":[{\"id\":\"4453\"}],\"outline_line_color\":null,\"plot_height\":400,\"plot_width\":400,\"renderers\":[{\"id\":\"4476\"},{\"id\":\"4481\"}],\"title\":{\"id\":\"4439\"},\"toolbar\":{\"id\":\"4464\"},\"toolbar_location\":null,\"x_range\":{\"id\":\"4441\"},\"x_scale\":{\"id\":\"4445\"},\"y_range\":{\"id\":\"4443\"},\"y_scale\":{\"id\":\"4447\"}},\"id\":\"4438\",\"subtype\":\"Figure\",\"type\":\"Plot\"},{\"attributes\":{\"fill_color\":{\"value\":\"steelblue\"},\"line_color\":{\"value\":\"steelblue\"},\"size\":{\"units\":\"screen\",\"value\":8},\"x\":{\"field\":\"x\"},\"y\":{\"field\":\"y\"}},\"id\":\"4479\",\"type\":\"Circle\"},{\"attributes\":{},\"id\":\"4457\",\"type\":\"PanTool\"},{\"attributes\":{\"active_drag\":\"auto\",\"active_inspect\":\"auto\",\"active_multi\":null,\"active_scroll\":\"auto\",\"active_tap\":\"auto\",\"logo\":null,\"tools\":[{\"id\":\"4457\"},{\"id\":\"4458\"},{\"id\":\"4459\"},{\"id\":\"4460\"},{\"id\":\"4461\"},{\"id\":\"4462\"}]},\"id\":\"4464\",\"type\":\"Toolbar\"},{\"attributes\":{\"formatter\":{\"id\":\"4484\"},\"ticker\":{\"id\":\"4450\"},\"visible\":false},\"id\":\"4449\",\"type\":\"LinearAxis\"},{\"attributes\":{},\"id\":\"4458\",\"type\":\"WheelZoomTool\"},{\"attributes\":{},\"id\":\"4460\",\"type\":\"SaveTool\"},{\"attributes\":{},\"id\":\"4490\",\"type\":\"UnionRenderers\"},{\"attributes\":{\"overlay\":{\"id\":\"4463\"}},\"id\":\"4459\",\"type\":\"BoxZoomTool\"},{\"attributes\":{},\"id\":\"4489\",\"type\":\"Selection\"},{\"attributes\":{\"align\":\"center\",\"text\":\"36.0\",\"width\":400},\"id\":\"4472\",\"type\":\"Div\"},{\"attributes\":{\"data_source\":{\"id\":\"4478\"},\"glyph\":{\"id\":\"4479\"},\"hover_glyph\":null,\"muted_glyph\":null,\"nonselection_glyph\":{\"id\":\"4480\"},\"selection_glyph\":null,\"view\":{\"id\":\"4482\"}},\"id\":\"4481\",\"type\":\"GlyphRenderer\"},{\"attributes\":{},\"id\":\"4484\",\"type\":\"BasicTickFormatter\"},{\"attributes\":{},\"id\":\"4462\",\"type\":\"HelpTool\"},{\"attributes\":{},\"id\":\"4450\",\"type\":\"BasicTicker\"},{\"attributes\":{},\"id\":\"4454\",\"type\":\"BasicTicker\"},{\"attributes\":{},\"id\":\"4461\",\"type\":\"ResetTool\"},{\"attributes\":{\"text\":\"\"},\"id\":\"4439\",\"type\":\"Title\"},{\"attributes\":{\"end\":5.425,\"start\":-0.42500000000000004},\"id\":\"4443\",\"type\":\"Range1d\"},{\"attributes\":{\"data\":{\"x\":[0.0,1.0,1.0,1.0,1.0,1.0,2.0,2.0,2.0,3.0,3.0,3.0,4.0,4.0,4.0,4.0,3.0,2.0,2.0,3.0,4.0,5.0,5.0,5.0,5.0,5.0,5.0,4.0,3.0,2.0,1.0,0.0,0.0,0.0,0.0,0.0,0.0],\"y\":[0.0,0.0,1.0,2.0,3.0,4.0,4.0,3.0,2.0,2.0,3.0,4.0,4.0,3.0,2.0,1.0,1.0,1.0,0.0,0.0,0.0,0.0,1.0,2.0,3.0,4.0,5.0,5.0,5.0,5.0,5.0,5.0,4.0,3.0,2.0,1.0,0.0]},\"selected\":{\"id\":\"4489\"},\"selection_policy\":{\"id\":\"4488\"}},\"id\":\"4473\",\"type\":\"ColumnDataSource\"},{\"attributes\":{\"line_width\":4,\"x\":{\"field\":\"x\"},\"y\":{\"field\":\"y\"}},\"id\":\"4474\",\"type\":\"Line\"},{\"attributes\":{\"end\":5.425,\"start\":-0.42500000000000004},\"id\":\"4441\",\"type\":\"Range1d\"},{\"attributes\":{\"bottom_units\":\"screen\",\"fill_alpha\":0.5,\"fill_color\":\"lightgrey\",\"left_units\":\"screen\",\"level\":\"overlay\",\"line_alpha\":1.0,\"line_color\":\"black\",\"line_dash\":[4,4],\"line_width\":2,\"right_units\":\"screen\",\"top_units\":\"screen\"},\"id\":\"4463\",\"type\":\"BoxAnnotation\"},{\"attributes\":{\"formatter\":{\"id\":\"4486\"},\"ticker\":{\"id\":\"4454\"},\"visible\":false},\"id\":\"4453\",\"type\":\"LinearAxis\"},{\"attributes\":{\"source\":{\"id\":\"4473\"}},\"id\":\"4477\",\"type\":\"CDSView\"},{\"attributes\":{},\"id\":\"4445\",\"type\":\"LinearScale\"},{\"attributes\":{\"axis\":{\"id\":\"4453\"},\"dimension\":1,\"grid_line_color\":null,\"ticker\":null},\"id\":\"4456\",\"type\":\"Grid\"},{\"attributes\":{},\"id\":\"4447\",\"type\":\"LinearScale\"},{\"attributes\":{\"data\":{\"x\":[0.0,0.0,0.0,0.0,0.0,0.0,1.0,1.0,1.0,1.0,1.0,1.0,2.0,2.0,2.0,2.0,2.0,2.0,3.0,3.0,3.0,3.0,3.0,3.0,4.0,4.0,4.0,4.0,4.0,4.0,5.0,5.0,5.0,5.0,5.0,5.0],\"y\":[0.0,1.0,2.0,3.0,4.0,5.0,0.0,1.0,2.0,3.0,4.0,5.0,0.0,1.0,2.0,3.0,4.0,5.0,0.0,1.0,2.0,3.0,4.0,5.0,0.0,1.0,2.0,3.0,4.0,5.0,0.0,1.0,2.0,3.0,4.0,5.0]},\"selected\":{\"id\":\"4491\"},\"selection_policy\":{\"id\":\"4490\"}},\"id\":\"4478\",\"type\":\"ColumnDataSource\"}],\"root_ids\":[\"4494\"]},\"title\":\"Bokeh Application\",\"version\":\"2.2.3\"}};\n",
       "  var render_items = [{\"docid\":\"aee50a1f-0962-4a52-92c4-8a3434fdd80c\",\"root_ids\":[\"4494\"],\"roots\":{\"4494\":\"434b04e1-43e8-4dbd-8754-d080118f21a8\"}}];\n",
       "  root.Bokeh.embed.embed_items_notebook(docs_json, render_items);\n",
       "\n",
       "  }\n",
       "  if (root.Bokeh !== undefined) {\n",
       "    embed_document(root);\n",
       "  } else {\n",
       "    var attempts = 0;\n",
       "    var timer = setInterval(function(root) {\n",
       "      if (root.Bokeh !== undefined) {\n",
       "        clearInterval(timer);\n",
       "        embed_document(root);\n",
       "      } else {\n",
       "        attempts++;\n",
       "        if (attempts > 100) {\n",
       "          clearInterval(timer);\n",
       "          console.log(\"Bokeh: ERROR: Unable to run BokehJS code because BokehJS library is missing\");\n",
       "        }\n",
       "      }\n",
       "    }, 10, root)\n",
       "  }\n",
       "})(window);"
      ],
      "application/vnd.bokehjs_exec.v0+json": ""
     },
     "metadata": {
      "application/vnd.bokehjs_exec.v0+json": {
       "id": "4494"
      }
     },
     "output_type": "display_data"
    }
   ],
   "source": [
    "nodes, G = tsp_grid_instance(6,6,manhattan=False)\n",
    "tour = optimal_tour('6x6_grid')\n",
    "optimal_cost = tour_cost(G, tour)\n",
    "plot_tour(nodes, G, tour)"
   ]
  },
  {
   "cell_type": "code",
   "execution_count": 27,
   "metadata": {},
   "outputs": [
    {
     "name": "stdout",
     "output_type": "stream",
     "text": [
      "Nearest Neighbor: 45.23381612149633\n",
      "Nearest Neighbor + 2-OPT: 37.447775655419996\n",
      "Nearest Insertion: 38.46267981075074\n",
      "Nearest Insertion + 2-OPT: 38.00347909996189\n",
      "Furthest Insertion: 37.49090591615838\n",
      "Furthest Insertion + 2-OPT: 37.656854249492405\n",
      "Optimal: 36.0\n"
     ]
    }
   ],
   "source": [
    "n = 50\n",
    "nearest_neighbor_total = 0\n",
    "nearest_insertion_total = 0\n",
    "furthest_insertion_total = 0\n",
    "nearest_neighbor_2_total = 0\n",
    "nearest_insertion_2_total = 0\n",
    "furthest_insertion_2_total = 0\n",
    "optimal_total = 0\n",
    "for i in range(n):\n",
    "    nearest_neighbor_total += tour_cost(G, nearest_neighbor(G))\n",
    "    nearest_insertion_total += tour_cost(G, nearest_insertion(G))\n",
    "    furthest_insertion_total += tour_cost(G, furthest_insertion(G))\n",
    "    nearest_neighbor_2_total += tour_cost(G, two_opt(G, nearest_neighbor(G)))\n",
    "    nearest_insertion_2_total += tour_cost(G, two_opt(G, nearest_insertion(G)))\n",
    "    furthest_insertion_2_total += tour_cost(G, two_opt(G, furthest_insertion(G)))\n",
    "print(\"Nearest Neighbor: %s\" % (nearest_neighbor_total / n))\n",
    "print(\"Nearest Neighbor + 2-OPT: %s\" % (nearest_neighbor_2_total / n))\n",
    "print(\"Nearest Insertion: %s\" % (nearest_insertion_total / n))\n",
    "print(\"Nearest Insertion + 2-OPT: %s\" % (nearest_insertion_2_total / n))\n",
    "print(\"Furthest Insertion: %s\" % (furthest_insertion_total / n))\n",
    "print(\"Furthest Insertion + 2-OPT: %s\" % (furthest_insertion_2_total / n))\n",
    "print(\"Optimal: %s\" % (optimal_cost))"
   ]
  },
  {
   "cell_type": "markdown",
   "metadata": {},
   "source": [
    "**Q15:** Compare the heuristics to their before and after 2-OPT performance. Compare them to the optimal.\n",
    "\n",
    "**A:** <font color='blue'> The nearest neighbor heuristic improved the most from 2-OPT. Both nearest and furthest insertion were often not improved by 2-OPT and came very close to the optimal. After running 2-OPT, the nearest neighbor heuristic was *near* optimal as well. </font>"
   ]
  },
  {
   "cell_type": "markdown",
   "metadata": {},
   "source": [
    "For fun, let's go back to the 23 US city example. Let's run 2-OPT on the tour you created in **Part I** (or a new one if you would like). To do this, you will need to define the tour as follows:"
   ]
  },
  {
   "cell_type": "code",
   "execution_count": 28,
   "metadata": {},
   "outputs": [
    {
     "data": {
      "text/html": [
       "\n",
       "\n",
       "\n",
       "\n",
       "\n",
       "\n",
       "  <div class=\"bk-root\" id=\"8128f67c-68a4-49c5-9e8a-c3aa8fdb38bd\" data-root-id=\"4816\"></div>\n"
      ]
     },
     "metadata": {},
     "output_type": "display_data"
    },
    {
     "data": {
      "application/javascript": [
       "(function(root) {\n",
       "  function embed_document(root) {\n",
       "    \n",
       "  var docs_json = {\"1ad861ad-03f0-45bc-ac3d-6af02dc4130c\":{\"roots\":{\"references\":[{\"attributes\":{\"children\":[[{\"id\":\"4741\"},0,0],[{\"id\":\"4800\"},1,0]]},\"id\":\"4816\",\"type\":\"GridBox\"},{\"attributes\":{},\"id\":\"4757\",\"type\":\"BasicTicker\"},{\"attributes\":{},\"id\":\"4765\",\"type\":\"HelpTool\"},{\"attributes\":{\"h\":{\"units\":\"data\",\"value\":2735.46},\"url\":{\"field\":\"url\"},\"w\":{\"units\":\"data\",\"value\":2305.602},\"x\":{\"value\":447.09900000000005},\"y\":{\"value\":1439.53}},\"id\":\"4776\",\"type\":\"ImageURL\"},{\"attributes\":{\"data\":{\"x\":[751.5,634.6,701.4,784.9,985.3,1753.5,1920.5,2338.0,2404.8,2187.7,2321.3,2471.6,2505.0,2605.2,1987.3,2070.8,2421.5,2321.3,2187.7,2237.8,2154.3,1619.9,1670.0],\"y\":[1235.8,200.4,-100.2,-267.2,-367.4,768.1999999999998,-801.5999999999998,-868.4,-1102.2,-400.8,-300.6,334.0,467.6,668.0,400.8,-133.6,233.8,668.0,267.2,434.2,534.4,-501.0,-868.4]},\"selected\":{\"id\":\"4811\"},\"selection_policy\":{\"id\":\"4810\"}},\"id\":\"4789\",\"type\":\"ColumnDataSource\"},{\"attributes\":{\"formatter\":{\"id\":\"4804\"},\"ticker\":{\"id\":\"4757\"},\"visible\":false},\"id\":\"4756\",\"type\":\"LinearAxis\"},{\"attributes\":{\"data_source\":{\"id\":\"4783\"},\"glyph\":{\"id\":\"4785\"},\"hover_glyph\":null,\"muted_glyph\":null,\"nonselection_glyph\":{\"id\":\"4786\"},\"selection_glyph\":null,\"view\":{\"id\":\"4788\"}},\"id\":\"4787\",\"type\":\"GlyphRenderer\"},{\"attributes\":{\"formatter\":{\"id\":\"4802\"},\"ticker\":{\"id\":\"4753\"},\"visible\":false},\"id\":\"4752\",\"type\":\"LinearAxis\"},{\"attributes\":{\"data_source\":{\"id\":\"4789\"},\"glyph\":{\"id\":\"4790\"},\"hover_glyph\":null,\"muted_glyph\":null,\"nonselection_glyph\":{\"id\":\"4791\"},\"selection_glyph\":null,\"view\":{\"id\":\"4793\"}},\"id\":\"4792\",\"type\":\"GlyphRenderer\"},{\"attributes\":{},\"id\":\"4807\",\"type\":\"Selection\"},{\"attributes\":{\"line_alpha\":0.1,\"line_width\":4,\"x\":{\"field\":\"edges_x\"},\"y\":{\"field\":\"edges_y\"}},\"id\":\"4786\",\"type\":\"Line\"},{\"attributes\":{},\"id\":\"4753\",\"type\":\"BasicTicker\"},{\"attributes\":{\"global_alpha\":0.1,\"h\":{\"units\":\"data\",\"value\":2735.46},\"url\":{\"field\":\"url\"},\"w\":{\"units\":\"data\",\"value\":2305.602},\"x\":{\"value\":447.09900000000005},\"y\":{\"value\":1439.53}},\"id\":\"4777\",\"type\":\"ImageURL\"},{\"attributes\":{},\"id\":\"4764\",\"type\":\"ResetTool\"},{\"attributes\":{},\"id\":\"4763\",\"type\":\"SaveTool\"},{\"attributes\":{\"args\":{\"source\":{\"id\":\"4782\"}},\"code\":\"\\n    source.data['last_index'] = cb_data.index.indices[0]   \\n    \"},\"id\":\"4794\",\"type\":\"CustomJS\"},{\"attributes\":{\"background_fill_color\":null,\"below\":[{\"id\":\"4752\"}],\"border_fill_color\":null,\"center\":[{\"id\":\"4755\"},{\"id\":\"4759\"}],\"left\":[{\"id\":\"4756\"}],\"outline_line_color\":null,\"plot_height\":375,\"renderers\":[{\"id\":\"4778\"},{\"id\":\"4787\"},{\"id\":\"4792\"}],\"title\":{\"id\":\"4742\"},\"toolbar\":{\"id\":\"4767\"},\"toolbar_location\":null,\"x_range\":{\"id\":\"4744\"},\"x_scale\":{\"id\":\"4748\"},\"y_range\":{\"id\":\"4746\"},\"y_scale\":{\"id\":\"4750\"}},\"id\":\"4741\",\"subtype\":\"Figure\",\"type\":\"Plot\"},{\"attributes\":{\"fill_color\":{\"value\":\"steelblue\"},\"line_alpha\":{\"value\":0.1},\"line_color\":{\"value\":\"steelblue\"},\"size\":{\"units\":\"screen\",\"value\":10},\"x\":{\"field\":\"x\"},\"y\":{\"field\":\"y\"}},\"id\":\"4791\",\"type\":\"Circle\"},{\"attributes\":{\"source\":{\"id\":\"4789\"}},\"id\":\"4793\",\"type\":\"CDSView\"},{\"attributes\":{\"data\":{\"edges_x\":[],\"edges_y\":[],\"indices\":[]},\"selected\":{\"id\":\"4809\"},\"selection_policy\":{\"id\":\"4808\"}},\"id\":\"4783\",\"type\":\"ColumnDataSource\"},{\"attributes\":{\"fill_color\":{\"value\":\"steelblue\"},\"line_color\":{\"value\":\"steelblue\"},\"size\":{\"units\":\"screen\",\"value\":10},\"x\":{\"field\":\"x\"},\"y\":{\"field\":\"y\"}},\"id\":\"4790\",\"type\":\"Circle\"},{\"attributes\":{},\"id\":\"4748\",\"type\":\"LinearScale\"},{\"attributes\":{},\"id\":\"4760\",\"type\":\"PanTool\"},{\"attributes\":{},\"id\":\"4808\",\"type\":\"UnionRenderers\"},{\"attributes\":{\"callback\":{\"id\":\"4794\"},\"renderers\":[{\"id\":\"4792\"}],\"tooltips\":null},\"id\":\"4795\",\"type\":\"HoverTool\"},{\"attributes\":{\"axis\":{\"id\":\"4756\"},\"dimension\":1,\"grid_line_color\":null,\"ticker\":null},\"id\":\"4759\",\"type\":\"Grid\"},{\"attributes\":{\"args\":{\"cost\":{\"id\":\"4780\"},\"done\":{\"id\":\"4781\"},\"pts\":{\"id\":\"4789\"},\"source\":{\"id\":\"4782\"},\"tour\":{\"id\":\"4783\"}},\"code\":\"\\n    var node = source.data['last_index']\\n    \\n    if (node.toString() != -1) {\\n        if (!(tour.data['indices'].includes(node))) {\\n            if (tour.data['indices'].length > 0) { \\n                var prev = tour.data['indices'][tour.data['indices'].length - 1]\\n            } else {\\n                var prev = -1\\n            }\\n\\n            var tmp_edges_x = tour.data['edges_x']\\n            var tmp_edges_y = tour.data['edges_y']\\n            var tmp_indices = tour.data['indices']\\n\\n            tmp_edges_x.push(pts.data['x'][node])\\n            tmp_edges_y.push(pts.data['y'][node])\\n            tmp_indices.push(node)\\n\\n            tour.data['edges_x'] = tmp_edges_x\\n            tour.data['edges_y'] = tmp_edges_y\\n            tour.data['indices'] = tmp_indices\\n\\n            if (prev == -1) {\\n                cost.text = '0.0'\\n            } else {\\n                var before = parseFloat(cost.text)\\n                var increase = source.data['G'][prev][node]\\n                cost.text = (before + increase).toFixed(1)   \\n            }\\n            \\n            if (tour.data['indices'].length == source.data['G'].length) {\\n                var tmp_edges_x = tour.data['edges_x']\\n                var tmp_edges_y = tour.data['edges_y']\\n                var tmp_indices = tour.data['indices']\\n\\n                tmp_edges_x.push(tmp_edges_x[0])\\n                tmp_edges_y.push(tmp_edges_y[0])\\n                tmp_indices.push(tmp_indices[0])\\n\\n                tour.data['edges_x'] = tmp_edges_x\\n                tour.data['edges_y'] = tmp_edges_y\\n                tour.data['indices'] = tmp_indices\\n\\n                var before = parseFloat(cost.text)\\n                var increase = source.data['G'][node][tmp_indices[0]]\\n                cost.text = (before + increase).toFixed(1) \\n            }    \\n        }\\n    }\\n    done.text = '['.concat(tour.data['indices'].join(',')).concat(']')\\n    tour.change.emit()\\n    \"},\"id\":\"4796\",\"type\":\"CustomJS\"},{\"attributes\":{\"overlay\":{\"id\":\"4766\"}},\"id\":\"4762\",\"type\":\"BoxZoomTool\"},{\"attributes\":{\"align\":\"center\",\"text\":\"0.0\",\"width\":300},\"id\":\"4780\",\"type\":\"Div\"},{\"attributes\":{\"callback\":{\"id\":\"4796\"},\"renderers\":[{\"id\":\"4792\"}]},\"id\":\"4797\",\"type\":\"TapTool\"},{\"attributes\":{\"data\":{\"url\":[\"images/us.png\"]},\"selected\":{\"id\":\"4807\"},\"selection_policy\":{\"id\":\"4806\"}},\"id\":\"4775\",\"type\":\"ColumnDataSource\"},{\"attributes\":{\"text\":\"\"},\"id\":\"4742\",\"type\":\"Title\"},{\"attributes\":{},\"id\":\"4806\",\"type\":\"UnionRenderers\"},{\"attributes\":{\"children\":[{\"id\":\"4780\"},{\"id\":\"4781\"}]},\"id\":\"4800\",\"type\":\"Row\"},{\"attributes\":{},\"id\":\"4761\",\"type\":\"WheelZoomTool\"},{\"attributes\":{\"axis\":{\"id\":\"4752\"},\"grid_line_color\":null,\"ticker\":null},\"id\":\"4755\",\"type\":\"Grid\"},{\"attributes\":{},\"id\":\"4802\",\"type\":\"BasicTickFormatter\"},{\"attributes\":{},\"id\":\"4804\",\"type\":\"BasicTickFormatter\"},{\"attributes\":{},\"id\":\"4809\",\"type\":\"Selection\"},{\"attributes\":{},\"id\":\"4811\",\"type\":\"Selection\"},{\"attributes\":{},\"id\":\"4750\",\"type\":\"LinearScale\"},{\"attributes\":{\"align\":\"center\",\"width\":300},\"id\":\"4781\",\"type\":\"Div\"},{\"attributes\":{},\"id\":\"4813\",\"type\":\"UnionRenderers\"},{\"attributes\":{\"data_source\":{\"id\":\"4775\"},\"glyph\":{\"id\":\"4776\"},\"hover_glyph\":null,\"muted_glyph\":null,\"nonselection_glyph\":{\"id\":\"4777\"},\"selection_glyph\":null,\"view\":{\"id\":\"4779\"}},\"id\":\"4778\",\"type\":\"GlyphRenderer\"},{\"attributes\":{\"end\":2772.701,\"start\":467.09900000000005},\"id\":\"4744\",\"type\":\"Range1d\"},{\"attributes\":{\"end\":1434.53,\"start\":-1300.93},\"id\":\"4746\",\"type\":\"Range1d\"},{\"attributes\":{},\"id\":\"4814\",\"type\":\"Selection\"},{\"attributes\":{\"source\":{\"id\":\"4775\"}},\"id\":\"4779\",\"type\":\"CDSView\"},{\"attributes\":{},\"id\":\"4810\",\"type\":\"UnionRenderers\"},{\"attributes\":{\"source\":{\"id\":\"4783\"}},\"id\":\"4788\",\"type\":\"CDSView\"},{\"attributes\":{\"line_width\":4,\"x\":{\"field\":\"edges_x\"},\"y\":{\"field\":\"edges_y\"}},\"id\":\"4785\",\"type\":\"Line\"},{\"attributes\":{\"bottom_units\":\"screen\",\"fill_alpha\":0.5,\"fill_color\":\"lightgrey\",\"left_units\":\"screen\",\"level\":\"overlay\",\"line_alpha\":1.0,\"line_color\":\"black\",\"line_dash\":[4,4],\"line_width\":2,\"right_units\":\"screen\",\"top_units\":\"screen\"},\"id\":\"4766\",\"type\":\"BoxAnnotation\"},{\"attributes\":{\"data\":{\"G\":[[0.0,1041.978296319074,1336.9390449829789,1503.3710653062335,1620.158226840823,1105.73674986409,2348.9486499283034,2635.268466399581,2863.502207088376,2177.4136033376844,2196.5420551403063,1942.160459385372,1914.391153865897,1938.711048609359,1491.4511859259762,1901.5280302956355,1947.5379328783304,1669.3318663465332,1732.2980113132955,1688.682992749083,1568.3780794183526,1941.8014316608173,2295.931159682276],[1041.978296319074,1.0789593218788873e-05,307.9327848735826,491.16173507308156,667.3734561697819,1254.7246909182904,1630.197169056553,2010.9462946583133,2197.811365881977,1665.4011678871848,1759.5334296341177,1841.8517747093547,1889.389319330455,2025.318276222283,1367.4638752084093,1474.525835650227,1787.212122273123,1750.3161571556152,1554.5358953719915,1620.1582268408233,1555.970465658009,1209.4536163077937,1488.081516584357],[1336.9390449829789,307.9327848735826,0.0,186.71167612123244,389.86542549962036,1364.1968223097426,1406.4731671809454,1807.9244453239742,1976.2529089162654,1516.3931053654917,1632.2488076270727,1822.673223592205,1890.8648285903464,2052.9456105800755,1380.0506548674218,1369.80725651458,1752.2271570775295,1792.8210312242547,1531.0357441941057,1626.6863004279592,1585.4449123195675,1002.1391570036569,1236.2512689578928],[1503.3710653062335,491.16173507308156,186.71167612123244,0.0,224.0540113454783,1417.829016489647,1255.0580544341362,1665.4011678871848,1822.443691859916,1409.147543729896,1536.7630005957328,1790.6418765347803,1870.4745520856463,2046.4826239184147,1375.4961868358632,1292.8216311618553,1711.566697502613,1798.6450455829242,1501.1432976235144,1613.3444672480828,1586.7636623013525,867.1144330479111,1069.973574440042],[1620.158226840823,667.3734561697819,389.86542549962036,224.0540113454783,0.0,1371.0283002184892,1031.081315900933,1442.497240898574,1598.4089870868472,1202.863799438656,1337.6689575526525,1643.4870398028697,1733.9876268301339,1922.531968524841,1262.5906858519115,1110.3930340199367,1556.9559659797708,1690.2512120983672,1359.5892467947808,1487.0503723815143,1476.4160118340633,648.5106938208503,848.4191711648201],[1105.73674986409,1254.7246909182904,1364.1968223097426,1417.829016489647,1371.0283002184892,0.0,1578.6579870256883,1737.8434365615328,1980.5524103138498,1247.03273413331,1210.2604182571617,839.1646143635943,809.3902705123156,857.5738627080477,435.48272066753714,955.9929549949619,855.4573981210283,576.5733951545102,662.9710702587253,588.3047594572054,464.00762924762455,1276.2122080594586,1638.728717634496],[2348.9486499283034,1630.197169056553,1406.4731671809454,1255.0580544341362,1031.081315900933,1578.6579870256883,0.0,422.8102292991505,570.0060087402601,481.7016504019875,641.5930485907704,1262.2593117105534,1397.322042336698,1621.276734552124,1204.2541260049725,684.6999999999999,1150.2409138958674,1523.274367932448,1101.693823165038,1275.884371720258,1356.3032256836962,425.1125968493521,259.253717427541],[2635.268466399581,2010.9462946583133,1807.9244453239742,1665.4011678871848,1442.497240898574,1737.8434365615328,422.8102292991505,0.0,243.15567030196868,491.1617350730812,568.0455351466101,1209.7994544551584,1346.3970439658578,1559.461701998481,1316.7608476864737,781.8739540360702,1105.3583536573105,1536.4907581889322,1145.5031427281199,1306.4481620026104,1414.776848128354,806.6290163389854,668.0],[2863.502207088376,2197.811365881977,1976.2529089162654,1822.443691859916,1598.4089870868472,1980.5524103138498,570.0060087402601,243.15567030196868,0.0,734.2304610951518,805.9372246025113,1437.7526491020628,1572.9946217327001,1781.5072831734367,1559.9087313044952,1024.5691582318877,1336.1043709231703,1772.1682453988383,1386.5023512421462,1545.4494362482394,1655.6599318700687,988.6907757231273,771.0988782250954],[2177.4136033376844,1665.4011678871848,1516.3931053654917,1409.147543729896,1202.863799438656,1247.03273413331,481.7016504019875,491.1617350730812,734.2304610951518,0.0,167.0,787.7374245267264,924.5527837825149,1147.4492102049664,826.270367373779,291.6529615827675,676.2984548259737,1077.1176351726865,668.0,836.5016497293963,935.7962385049427,576.573395154511,697.6123923784603],[2196.5420551403063,1759.5334296341177,1632.2488076270727,1536.7630005957328,1337.6689575526525,1210.2604182571617,641.5930485907704,568.0455351466101,805.9372246025113,167.0,0.0,652.1558479382056,789.8588038377491,1009.3488841822732,776.8641837541495,301.0635315012431,543.7126079097322,968.6000000000005,583.3059231655382,739.5291001711827,851.536258769995,729.4670109059074,864.0535457944723],[1942.160459385372,1841.8517747093547,1822.673223592205,1790.6418765347803,1643.4870398028697,839.1646143635943,1262.2593117105534,1209.7994544551584,1437.7526491020628,787.7374245267264,652.1558479382056,0.0,137.71172789562823,359.72900911658354,488.885191021369,615.8655697471652,112.02700567274279,366.25959373100363,291.6529615827675,254.36682173585174,375.28582440588013,1192.735465222696,1445.1049512059667],[1914.391153865897,1889.389319330455,1890.8648285903464,1870.4745520856463,1733.9876268301339,809.3902705123156,1397.322042336698,1346.3970439658578,1572.9946217327001,924.5527837825149,789.8588038377491,137.71172789562823,0.0,224.05401134547728,521.9918869101314,741.6003505932289,248.26334808021798,271.8563039548644,375.2858244058777,269.27940879317225,357.0052240514142,1312.0929730777464,1575.4748490534528],[1938.711048609359,2025.318276222283,2052.9456105800755,2046.4826239184147,1922.531968524841,857.5738627080477,1621.276734552124,1559.461701998481,1781.5072831734367,1147.4492102049664,1009.3488841822732,359.72900911658354,224.05401134547728,0.0,673.1985219829276,963.4033008039779,471.46084673066974,283.90000000000157,578.74596326886,435.48272066753606,470.2762698669789,1528.8482887454857,1798.6450455829242],[1491.4511859259762,1367.4638752084093,1380.0506548674218,1375.4961868358632,1262.5906858519115,435.48272066753714,1204.2541260049725,1316.7608476864737,1559.9087313044952,826.270367373779,776.8641837541495,488.885191021369,521.9918869101314,673.1985219829276,0.0,540.8841003394353,465.20816845795025,427.72869906051415,240.85082520099277,252.71685737203734,213.86434953025923,973.7689664391652,1308.261415008484],[1901.5280302956355,1474.525835650227,1369.80725651458,1292.8216311618553,1110.3930340199367,955.9929549949619,684.6999999999999,781.8739540360702,1024.5691582318877,291.6529615827675,301.0635315012431,615.8655697471652,741.6003505932289,963.4033008039779,540.8841003394353,0.0,507.91067127990135,839.8290361734337,417.5,591.8495078987562,673.1985219829303,581.6300972267514,837.0016009542627],[1947.5379328783304,1787.212122273123,1752.2271570775295,1711.566697502613,1556.9559659797708,855.4573981210283,1150.2409138958674,1105.3583536573105,1336.1043709231703,676.2984548259737,543.7126079097322,112.02700567274279,248.26334808021798,471.46084673066974,465.20816845795025,507.91067127990135,0.0,445.6115797418192,236.17366491630688,271.8563039548678,402.18925893166636,1087.4252158194606,1334.0154009605735],[1669.3318663465332,1750.3161571556152,1792.8210312242547,1798.6450455829242,1690.2512120983672,576.5733951545102,1523.274367932448,1536.4907581889322,1772.1682453988383,1077.1176351726865,968.6000000000005,366.25959373100363,271.8563039548644,283.90000000000157,427.72869906051415,839.8290361734337,445.6115797418192,0.0,422.4802953984972,248.26334808022173,213.86434953025923,1363.2765530148313,1668.7470299599036],[1732.2980113132955,1554.5358953719915,1531.0357441941057,1501.1432976235144,1359.5892467947808,662.9710702587253,1101.693823165038,1145.5031427281199,1386.5023512421462,668.0,583.3059231655382,291.6529615827675,375.2858244058777,578.74596326886,240.85082520099277,417.5,236.17366491630688,422.4802953984972,0.0,174.35311869880556,269.27940879317225,955.2633563578157,1248.03872135443],[1688.682992749083,1620.1582268408233,1626.6863004279592,1613.3444672480828,1487.0503723815143,588.3047594572054,1275.884371720258,1306.4481620026104,1545.4494362482394,836.5016497293963,739.5291001711827,254.36682173585174,269.27940879317225,435.48272066753606,252.71685737203734,591.8495078987562,271.8563039548678,248.26334808022173,174.35311869880556,0.0,130.4311695876377,1120.8922561959287,1420.9727653970008],[1568.3780794183526,1555.970465658009,1585.4449123195675,1586.7636623013525,1476.4160118340633,464.00762924762455,1356.3032256836962,1414.776848128354,1655.6599318700687,935.7962385049427,851.536258769995,375.28582440588013,357.0052240514142,470.2762698669789,213.86434953025923,673.1985219829303,402.18925893166636,213.86434953025923,269.27940879317225,130.4311695876377,0.0,1165.176604639829,1484.0466064109985],[1941.8014316608173,1209.4536163077937,1002.1391570036569,867.1144330479111,648.5106938208503,1276.2122080594586,425.1125968493521,806.6290163389854,988.6907757231273,576.573395154511,729.4670109059074,1192.735465222696,1312.0929730777464,1528.8482887454857,973.7689664391652,581.6300972267514,1087.4252158194606,1363.2765530148313,955.2633563578157,1120.8922561959287,1165.176604639829,0.0,370.8001752966151],[2295.931159682276,1488.081516584357,1236.2512689578928,1069.973574440042,848.4191711648201,1638.728717634496,259.253717427541,668.0,771.0988782250954,697.6123923784603,864.0535457944723,1445.1049512059667,1575.4748490534528,1798.6450455829242,1308.261415008484,837.0016009542627,1334.0154009605735,1668.7470299599036,1248.03872135443,1420.9727653970008,1484.0466064109985,370.8001752966151,0.0]]},\"selected\":{\"id\":\"4814\"},\"selection_policy\":{\"id\":\"4813\"}},\"id\":\"4782\",\"type\":\"ColumnDataSource\"},{\"attributes\":{\"active_drag\":\"auto\",\"active_inspect\":\"auto\",\"active_multi\":null,\"active_scroll\":\"auto\",\"active_tap\":\"auto\",\"logo\":null,\"tools\":[{\"id\":\"4760\"},{\"id\":\"4761\"},{\"id\":\"4762\"},{\"id\":\"4763\"},{\"id\":\"4764\"},{\"id\":\"4765\"},{\"id\":\"4795\"},{\"id\":\"4797\"}]},\"id\":\"4767\",\"type\":\"Toolbar\"}],\"root_ids\":[\"4816\"]},\"title\":\"Bokeh Application\",\"version\":\"2.2.3\"}};\n",
       "  var render_items = [{\"docid\":\"1ad861ad-03f0-45bc-ac3d-6af02dc4130c\",\"root_ids\":[\"4816\"],\"roots\":{\"4816\":\"8128f67c-68a4-49c5-9e8a-c3aa8fdb38bd\"}}];\n",
       "  root.Bokeh.embed.embed_items_notebook(docs_json, render_items);\n",
       "\n",
       "  }\n",
       "  if (root.Bokeh !== undefined) {\n",
       "    embed_document(root);\n",
       "  } else {\n",
       "    var attempts = 0;\n",
       "    var timer = setInterval(function(root) {\n",
       "      if (root.Bokeh !== undefined) {\n",
       "        clearInterval(timer);\n",
       "        embed_document(root);\n",
       "      } else {\n",
       "        attempts++;\n",
       "        if (attempts > 100) {\n",
       "          clearInterval(timer);\n",
       "          console.log(\"Bokeh: ERROR: Unable to run BokehJS code because BokehJS library is missing\");\n",
       "        }\n",
       "      }\n",
       "    }, 10, root)\n",
       "  }\n",
       "})(window);"
      ],
      "application/vnd.bokehjs_exec.v0+json": ""
     },
     "metadata": {
      "application/vnd.bokehjs_exec.v0+json": {
       "id": "4816"
      }
     },
     "output_type": "display_data"
    }
   ],
   "source": [
    "nodes = pd.read_csv('data/us_cities_23.csv', index_col=0)\n",
    "G = distance_matrix(nodes, manhattan=False)\n",
    "plot_create_tour(nodes, G, width=600, height=375, show_us=True)"
   ]
  },
  {
   "cell_type": "markdown",
   "metadata": {},
   "source": [
    "**Q16:** Set the `tour` variable to be the tour you manually created."
   ]
  },
  {
   "cell_type": "code",
   "execution_count": 29,
   "metadata": {},
   "outputs": [],
   "source": [
    "# We can define a tour like this:\n",
    "tour = [0,2,1,3,4,22,21,6,8,7,9,10,15,16,18,11,12,13,17,19,20,14,5,0]\n",
    "\n",
    "# After manually creating a tour, you can copy the list associated with that tour from the bottom-right\n",
    "\n",
    "# TODO: Define your tour.\n",
    "\n",
    "### BEGIN SOLUTION\n",
    "tour = [0,2,1,3,4,22,21,6,8,7,9,10,15,16,18,11,12,13,17,19,20,14,5,0]\n",
    "### END SOLUTION"
   ]
  },
  {
   "cell_type": "markdown",
   "metadata": {},
   "source": [
    "Run 2-OPT!"
   ]
  },
  {
   "cell_type": "code",
   "execution_count": 30,
   "metadata": {},
   "outputs": [
    {
     "data": {
      "text/html": [
       "\n",
       "\n",
       "\n",
       "\n",
       "\n",
       "\n",
       "  <div class=\"bk-root\" id=\"206b0d12-5c7e-4088-9835-b4f1d5d0cf4b\" data-root-id=\"5192\"></div>\n"
      ]
     },
     "metadata": {},
     "output_type": "display_data"
    },
    {
     "data": {
      "application/javascript": [
       "(function(root) {\n",
       "  function embed_document(root) {\n",
       "    \n",
       "  var docs_json = {\"e3278d81-f7d7-40cd-9f8b-c1b87e7411e3\":{\"roots\":{\"references\":[{\"attributes\":{\"children\":[[{\"id\":\"5097\"},0,0],[{\"id\":\"5167\"},1,0],[{\"id\":\"5168\"},2,0]]},\"id\":\"5192\",\"type\":\"GridBox\"},{\"attributes\":{\"args\":{\"cost\":{\"id\":\"5136\"},\"done\":{\"id\":\"5137\"},\"n\":{\"id\":\"5138\"},\"source\":{\"id\":\"5139\"},\"swaps\":{\"id\":\"5142\"},\"swaps_source\":{\"id\":\"5141\"},\"tour\":{\"id\":\"5140\"}},\"code\":\"\\nif ((parseInt(n.text) + 1) < source.data['edges_y'].length) {\\n    n.text = (parseInt(n.text) + 1).toString()\\n}\\nvar iteration = parseInt(n.text)\\n\\n    cost.text = source.data['costs'][iteration].toFixed(1)\\n    \\n    if (iteration == source.data['edges_y'].length - 1) {\\n        done.text = \\\"done.\\\"\\n        swaps.data['swaps_before_x'] = [[]]\\n        swaps.data['swaps_before_y'] = [[]]\\n        swaps.data['swaps_after_x'] = [[]]\\n        swaps.data['swaps_after_y'] = [[]]\\n    } else {\\n        done.text = \\\"\\\"\\n        swaps.data['swaps_before_x'] = swaps_source.data['swaps_before_x'][iteration]\\n        swaps.data['swaps_before_y'] = swaps_source.data['swaps_before_y'][iteration]\\n        swaps.data['swaps_after_x'] = swaps_source.data['swaps_after_x'][iteration]\\n        swaps.data['swaps_after_y'] = swaps_source.data['swaps_after_y'][iteration]\\n    }\\n\\n    tour.data['edges_x'] = source.data['edges_x'][iteration]\\n    tour.data['edges_y'] = source.data['edges_y'][iteration]\\n    tour.change.emit()\\n    swaps.change.emit()\\n    \"},\"id\":\"5164\",\"type\":\"CustomJS\"},{\"attributes\":{},\"id\":\"5117\",\"type\":\"WheelZoomTool\"},{\"attributes\":{\"line_alpha\":0.1,\"line_width\":4,\"x\":{\"field\":\"edges_x\"},\"y\":{\"field\":\"edges_y\"}},\"id\":\"5145\",\"type\":\"Line\"},{\"attributes\":{\"button_type\":\"success\",\"icon\":null,\"js_event_callbacks\":{\"button_click\":[{\"id\":\"5166\"}]},\"label\":\"Previous\",\"sizing_mode\":\"scale_width\",\"width_policy\":\"fit\"},\"id\":\"5165\",\"type\":\"Button\"},{\"attributes\":{\"source\":{\"id\":\"5140\"}},\"id\":\"5147\",\"type\":\"CDSView\"},{\"attributes\":{\"overlay\":{\"id\":\"5122\"}},\"id\":\"5118\",\"type\":\"BoxZoomTool\"},{\"attributes\":{\"args\":{\"cost\":{\"id\":\"5136\"},\"done\":{\"id\":\"5137\"},\"n\":{\"id\":\"5138\"},\"source\":{\"id\":\"5139\"},\"swaps\":{\"id\":\"5142\"},\"swaps_source\":{\"id\":\"5141\"},\"tour\":{\"id\":\"5140\"}},\"code\":\"\\nif ((parseInt(n.text) - 1) >= 0) {\\n    n.text = (parseInt(n.text) - 1).toString()\\n}\\nvar iteration = parseInt(n.text)\\n\\n    cost.text = source.data['costs'][iteration].toFixed(1)\\n    \\n    if (iteration == source.data['edges_y'].length - 1) {\\n        done.text = \\\"done.\\\"\\n        swaps.data['swaps_before_x'] = [[]]\\n        swaps.data['swaps_before_y'] = [[]]\\n        swaps.data['swaps_after_x'] = [[]]\\n        swaps.data['swaps_after_y'] = [[]]\\n    } else {\\n        done.text = \\\"\\\"\\n        swaps.data['swaps_before_x'] = swaps_source.data['swaps_before_x'][iteration]\\n        swaps.data['swaps_before_y'] = swaps_source.data['swaps_before_y'][iteration]\\n        swaps.data['swaps_after_x'] = swaps_source.data['swaps_after_x'][iteration]\\n        swaps.data['swaps_after_y'] = swaps_source.data['swaps_after_y'][iteration]\\n    }\\n\\n    tour.data['edges_x'] = source.data['edges_x'][iteration]\\n    tour.data['edges_y'] = source.data['edges_y'][iteration]\\n    tour.change.emit()\\n    swaps.change.emit()\\n    \"},\"id\":\"5166\",\"type\":\"CustomJS\"},{\"attributes\":{},\"id\":\"5188\",\"type\":\"UnionRenderers\"},{\"attributes\":{},\"id\":\"5119\",\"type\":\"SaveTool\"},{\"attributes\":{\"children\":[{\"id\":\"5165\"},{\"id\":\"5163\"}],\"max_width\":600,\"sizing_mode\":\"stretch_both\"},\"id\":\"5167\",\"type\":\"Row\"},{\"attributes\":{\"data_source\":{\"id\":\"5142\"},\"glyph\":{\"id\":\"5149\"},\"hover_glyph\":null,\"muted_glyph\":null,\"nonselection_glyph\":{\"id\":\"5150\"},\"selection_glyph\":null,\"view\":{\"id\":\"5152\"}},\"id\":\"5151\",\"type\":\"GlyphRenderer\"},{\"attributes\":{\"h\":{\"units\":\"data\",\"value\":2735.46},\"url\":{\"field\":\"url\"},\"w\":{\"units\":\"data\",\"value\":2305.602},\"x\":{\"value\":447.09900000000005},\"y\":{\"value\":1439.53}},\"id\":\"5132\",\"type\":\"ImageURL\"},{\"attributes\":{},\"id\":\"5120\",\"type\":\"ResetTool\"},{\"attributes\":{\"text\":\"\"},\"id\":\"5098\",\"type\":\"Title\"},{\"attributes\":{\"line_color\":{\"value\":\"red\"},\"line_width\":{\"value\":4},\"xs\":{\"field\":\"swaps_before_x\"},\"ys\":{\"field\":\"swaps_before_y\"}},\"id\":\"5149\",\"type\":\"MultiLine\"},{\"attributes\":{\"children\":[{\"id\":\"5136\"},{\"id\":\"5137\"}]},\"id\":\"5168\",\"type\":\"Row\"},{\"attributes\":{},\"id\":\"5121\",\"type\":\"HelpTool\"},{\"attributes\":{\"background_fill_color\":null,\"below\":[{\"id\":\"5108\"}],\"border_fill_color\":null,\"center\":[{\"id\":\"5111\"},{\"id\":\"5115\"}],\"left\":[{\"id\":\"5112\"}],\"outline_line_color\":null,\"plot_height\":375,\"renderers\":[{\"id\":\"5134\"},{\"id\":\"5146\"},{\"id\":\"5151\"},{\"id\":\"5156\"},{\"id\":\"5161\"}],\"title\":{\"id\":\"5098\"},\"toolbar\":{\"id\":\"5123\"},\"toolbar_location\":null,\"x_range\":{\"id\":\"5100\"},\"x_scale\":{\"id\":\"5104\"},\"y_range\":{\"id\":\"5102\"},\"y_scale\":{\"id\":\"5106\"}},\"id\":\"5097\",\"subtype\":\"Figure\",\"type\":\"Plot\"},{\"attributes\":{\"source\":{\"id\":\"5131\"}},\"id\":\"5135\",\"type\":\"CDSView\"},{\"attributes\":{\"line_alpha\":{\"value\":0.1},\"line_color\":{\"value\":\"red\"},\"line_width\":{\"value\":4},\"xs\":{\"field\":\"swaps_before_x\"},\"ys\":{\"field\":\"swaps_before_y\"}},\"id\":\"5150\",\"type\":\"MultiLine\"},{\"attributes\":{\"active_drag\":\"auto\",\"active_inspect\":\"auto\",\"active_multi\":null,\"active_scroll\":\"auto\",\"active_tap\":\"auto\",\"logo\":null,\"tools\":[{\"id\":\"5116\"},{\"id\":\"5117\"},{\"id\":\"5118\"},{\"id\":\"5119\"},{\"id\":\"5120\"},{\"id\":\"5121\"}]},\"id\":\"5123\",\"type\":\"Toolbar\"},{\"attributes\":{},\"id\":\"5170\",\"type\":\"BasicTickFormatter\"},{\"attributes\":{\"source\":{\"id\":\"5142\"}},\"id\":\"5152\",\"type\":\"CDSView\"},{\"attributes\":{},\"id\":\"5172\",\"type\":\"BasicTickFormatter\"},{\"attributes\":{},\"id\":\"5187\",\"type\":\"Selection\"},{\"attributes\":{\"align\":\"center\",\"width\":300},\"id\":\"5137\",\"type\":\"Div\"},{\"attributes\":{},\"id\":\"5174\",\"type\":\"UnionRenderers\"},{\"attributes\":{\"end\":1434.53,\"start\":-1300.93},\"id\":\"5102\",\"type\":\"Range1d\"},{\"attributes\":{\"data_source\":{\"id\":\"5142\"},\"glyph\":{\"id\":\"5154\"},\"hover_glyph\":null,\"muted_glyph\":null,\"nonselection_glyph\":{\"id\":\"5155\"},\"selection_glyph\":null,\"view\":{\"id\":\"5157\"}},\"id\":\"5156\",\"type\":\"GlyphRenderer\"},{\"attributes\":{\"align\":\"center\",\"text\":\"9592.0\",\"width\":300},\"id\":\"5136\",\"type\":\"Div\"},{\"attributes\":{\"line_color\":{\"value\":\"#90D7F6\"},\"line_width\":{\"value\":4},\"xs\":{\"field\":\"swaps_after_x\"},\"ys\":{\"field\":\"swaps_after_y\"}},\"id\":\"5154\",\"type\":\"MultiLine\"},{\"attributes\":{},\"id\":\"5175\",\"type\":\"Selection\"},{\"attributes\":{\"align\":\"center\",\"text\":\"0\",\"width\":600},\"id\":\"5138\",\"type\":\"Div\"},{\"attributes\":{\"end\":2772.701,\"start\":467.09900000000005},\"id\":\"5100\",\"type\":\"Range1d\"},{\"attributes\":{\"bottom_units\":\"screen\",\"fill_alpha\":0.5,\"fill_color\":\"lightgrey\",\"left_units\":\"screen\",\"level\":\"overlay\",\"line_alpha\":1.0,\"line_color\":\"black\",\"line_dash\":[4,4],\"line_width\":2,\"right_units\":\"screen\",\"top_units\":\"screen\"},\"id\":\"5122\",\"type\":\"BoxAnnotation\"},{\"attributes\":{},\"id\":\"5176\",\"type\":\"UnionRenderers\"},{\"attributes\":{\"line_width\":4,\"x\":{\"field\":\"edges_x\"},\"y\":{\"field\":\"edges_y\"}},\"id\":\"5144\",\"type\":\"Line\"},{\"attributes\":{\"formatter\":{\"id\":\"5170\"},\"ticker\":{\"id\":\"5109\"},\"visible\":false},\"id\":\"5108\",\"type\":\"LinearAxis\"},{\"attributes\":{\"line_alpha\":{\"value\":0.1},\"line_color\":{\"value\":\"#90D7F6\"},\"line_width\":{\"value\":4},\"xs\":{\"field\":\"swaps_after_x\"},\"ys\":{\"field\":\"swaps_after_y\"}},\"id\":\"5155\",\"type\":\"MultiLine\"},{\"attributes\":{},\"id\":\"5177\",\"type\":\"Selection\"},{\"attributes\":{\"source\":{\"id\":\"5142\"}},\"id\":\"5157\",\"type\":\"CDSView\"},{\"attributes\":{},\"id\":\"5106\",\"type\":\"LinearScale\"},{\"attributes\":{\"data\":{\"x\":[751.5,634.6,701.4,784.9,985.3,1753.5,1920.5,2338.0,2404.8,2187.7,2321.3,2471.6,2505.0,2605.2,1987.3,2070.8,2421.5,2321.3,2187.7,2237.8,2154.3,1619.9,1670.0],\"y\":[1235.8,200.4,-100.2,-267.2,-367.4,768.1999999999998,-801.5999999999998,-868.4,-1102.2,-400.8,-300.6,334.0,467.6,668.0,400.8,-133.6,233.8,668.0,267.2,434.2,534.4,-501.0,-868.4]},\"selected\":{\"id\":\"5181\"},\"selection_policy\":{\"id\":\"5180\"}},\"id\":\"5158\",\"type\":\"ColumnDataSource\"},{\"attributes\":{},\"id\":\"5178\",\"type\":\"UnionRenderers\"},{\"attributes\":{\"fill_color\":{\"value\":\"steelblue\"},\"line_color\":{\"value\":\"steelblue\"},\"size\":{\"units\":\"screen\",\"value\":8},\"x\":{\"field\":\"x\"},\"y\":{\"field\":\"y\"}},\"id\":\"5159\",\"type\":\"Circle\"},{\"attributes\":{},\"id\":\"5113\",\"type\":\"BasicTicker\"},{\"attributes\":{\"data\":{\"costs\":[9591.98783995229,8992.577032336536,8626.809675570756,8356.77304838083],\"edges_x\":[[751.5,701.4,634.6,784.9,985.3,1670.0,1619.9,1920.5,2404.8,2338.0,2187.7,2321.3,2070.8,2421.5,2187.7,2471.6,2505.0,2605.2,2321.3,2237.8,2154.3,1987.3,1753.5,751.5],[751.5,634.6,701.4,784.9,985.3,1670.0,1619.9,1920.5,2404.8,2338.0,2187.7,2321.3,2070.8,2421.5,2187.7,2471.6,2505.0,2605.2,2321.3,2237.8,2154.3,1987.3,1753.5,751.5],[751.5,634.6,701.4,784.9,985.3,1619.9,1670.0,1920.5,2404.8,2338.0,2187.7,2321.3,2070.8,2421.5,2187.7,2471.6,2505.0,2605.2,2321.3,2237.8,2154.3,1987.3,1753.5,751.5],[751.5,634.6,701.4,784.9,985.3,1619.9,1670.0,1920.5,2404.8,2338.0,2187.7,2321.3,2070.8,2187.7,2421.5,2471.6,2505.0,2605.2,2321.3,2237.8,2154.3,1987.3,1753.5,751.5]],\"edges_y\":[[1235.8,-100.2,200.4,-267.2,-367.4,-868.4,-501.0,-801.5999999999998,-1102.2,-868.4,-400.8,-300.6,-133.6,233.8,267.2,334.0,467.6,668.0,668.0,434.2,534.4,400.8,768.1999999999998,1235.8],[1235.8,200.4,-100.2,-267.2,-367.4,-868.4,-501.0,-801.5999999999998,-1102.2,-868.4,-400.8,-300.6,-133.6,233.8,267.2,334.0,467.6,668.0,668.0,434.2,534.4,400.8,768.1999999999998,1235.8],[1235.8,200.4,-100.2,-267.2,-367.4,-501.0,-868.4,-801.5999999999998,-1102.2,-868.4,-400.8,-300.6,-133.6,233.8,267.2,334.0,467.6,668.0,668.0,434.2,534.4,400.8,768.1999999999998,1235.8],[1235.8,200.4,-100.2,-267.2,-367.4,-501.0,-868.4,-801.5999999999998,-1102.2,-868.4,-400.8,-300.6,-133.6,267.2,233.8,334.0,467.6,668.0,668.0,434.2,534.4,400.8,768.1999999999998,1235.8]]},\"selected\":{\"id\":\"5187\"},\"selection_policy\":{\"id\":\"5186\"}},\"id\":\"5139\",\"type\":\"ColumnDataSource\"},{\"attributes\":{},\"id\":\"5104\",\"type\":\"LinearScale\"},{\"attributes\":{\"data\":{\"edges_x\":[751.5,701.4,634.6,784.9,985.3,1670.0,1619.9,1920.5,2404.8,2338.0,2187.7,2321.3,2070.8,2421.5,2187.7,2471.6,2505.0,2605.2,2321.3,2237.8,2154.3,1987.3,1753.5,751.5],\"edges_y\":[1235.8,-100.2,200.4,-267.2,-367.4,-868.4,-501.0,-801.5999999999998,-1102.2,-868.4,-400.8,-300.6,-133.6,233.8,267.2,334.0,467.6,668.0,668.0,434.2,534.4,400.8,768.1999999999998,1235.8]},\"selected\":{\"id\":\"5177\"},\"selection_policy\":{\"id\":\"5176\"}},\"id\":\"5140\",\"type\":\"ColumnDataSource\"},{\"attributes\":{},\"id\":\"5179\",\"type\":\"Selection\"},{\"attributes\":{\"formatter\":{\"id\":\"5172\"},\"ticker\":{\"id\":\"5113\"},\"visible\":false},\"id\":\"5112\",\"type\":\"LinearAxis\"},{\"attributes\":{\"data_source\":{\"id\":\"5158\"},\"glyph\":{\"id\":\"5159\"},\"hover_glyph\":null,\"muted_glyph\":null,\"nonselection_glyph\":{\"id\":\"5160\"},\"selection_glyph\":null,\"view\":{\"id\":\"5162\"}},\"id\":\"5161\",\"type\":\"GlyphRenderer\"},{\"attributes\":{\"button_type\":\"success\",\"icon\":null,\"js_event_callbacks\":{\"button_click\":[{\"id\":\"5164\"}]},\"label\":\"Next\",\"sizing_mode\":\"scale_width\",\"width_policy\":\"fit\"},\"id\":\"5163\",\"type\":\"Button\"},{\"attributes\":{},\"id\":\"5109\",\"type\":\"BasicTicker\"},{\"attributes\":{},\"id\":\"5180\",\"type\":\"UnionRenderers\"},{\"attributes\":{\"data\":{\"swaps_after_x\":[[[751.5,634.6],[701.4,784.9]],[[985.3,1619.9],[1670.0,1920.5]],[[2070.8,2187.7],[2421.5,2471.6]]],\"swaps_after_y\":[[[1235.8,200.4],[-100.2,-267.2]],[[-367.4,-501.0],[-868.4,-801.5999999999998]],[[-133.6,267.2],[233.8,334.0]]],\"swaps_before_x\":[[[751.5,701.4],[634.6,784.9]],[[985.3,1670.0],[1619.9,1920.5]],[[2070.8,2421.5],[2187.7,2471.6]]],\"swaps_before_y\":[[[1235.8,-100.2],[200.4,-267.2]],[[-367.4,-868.4],[-501.0,-801.5999999999998]],[[-133.6,233.8],[267.2,334.0]]]},\"selected\":{\"id\":\"5189\"},\"selection_policy\":{\"id\":\"5188\"}},\"id\":\"5141\",\"type\":\"ColumnDataSource\"},{\"attributes\":{\"axis\":{\"id\":\"5108\"},\"grid_line_color\":null,\"ticker\":null},\"id\":\"5111\",\"type\":\"Grid\"},{\"attributes\":{},\"id\":\"5181\",\"type\":\"Selection\"},{\"attributes\":{\"data\":{\"swaps_after_x\":[[751.5,634.6],[701.4,784.9]],\"swaps_after_y\":[[1235.8,200.4],[-100.2,-267.2]],\"swaps_before_x\":[[751.5,701.4],[634.6,784.9]],\"swaps_before_y\":[[1235.8,-100.2],[200.4,-267.2]]},\"selected\":{\"id\":\"5179\"},\"selection_policy\":{\"id\":\"5178\"}},\"id\":\"5142\",\"type\":\"ColumnDataSource\"},{\"attributes\":{\"fill_alpha\":{\"value\":0.1},\"fill_color\":{\"value\":\"steelblue\"},\"line_alpha\":{\"value\":0.1},\"line_color\":{\"value\":\"steelblue\"},\"size\":{\"units\":\"screen\",\"value\":8},\"x\":{\"field\":\"x\"},\"y\":{\"field\":\"y\"}},\"id\":\"5160\",\"type\":\"Circle\"},{\"attributes\":{},\"id\":\"5116\",\"type\":\"PanTool\"},{\"attributes\":{\"data_source\":{\"id\":\"5140\"},\"glyph\":{\"id\":\"5144\"},\"hover_glyph\":null,\"muted_glyph\":null,\"nonselection_glyph\":{\"id\":\"5145\"},\"selection_glyph\":null,\"view\":{\"id\":\"5147\"}},\"id\":\"5146\",\"type\":\"GlyphRenderer\"},{\"attributes\":{},\"id\":\"5186\",\"type\":\"UnionRenderers\"},{\"attributes\":{\"source\":{\"id\":\"5158\"}},\"id\":\"5162\",\"type\":\"CDSView\"},{\"attributes\":{},\"id\":\"5189\",\"type\":\"Selection\"},{\"attributes\":{\"data\":{\"url\":[\"images/us.png\"]},\"selected\":{\"id\":\"5175\"},\"selection_policy\":{\"id\":\"5174\"}},\"id\":\"5131\",\"type\":\"ColumnDataSource\"},{\"attributes\":{\"data_source\":{\"id\":\"5131\"},\"glyph\":{\"id\":\"5132\"},\"hover_glyph\":null,\"muted_glyph\":null,\"nonselection_glyph\":{\"id\":\"5133\"},\"selection_glyph\":null,\"view\":{\"id\":\"5135\"}},\"id\":\"5134\",\"type\":\"GlyphRenderer\"},{\"attributes\":{\"axis\":{\"id\":\"5112\"},\"dimension\":1,\"grid_line_color\":null,\"ticker\":null},\"id\":\"5115\",\"type\":\"Grid\"},{\"attributes\":{\"global_alpha\":0.1,\"h\":{\"units\":\"data\",\"value\":2735.46},\"url\":{\"field\":\"url\"},\"w\":{\"units\":\"data\",\"value\":2305.602},\"x\":{\"value\":447.09900000000005},\"y\":{\"value\":1439.53}},\"id\":\"5133\",\"type\":\"ImageURL\"}],\"root_ids\":[\"5192\"]},\"title\":\"Bokeh Application\",\"version\":\"2.2.3\"}};\n",
       "  var render_items = [{\"docid\":\"e3278d81-f7d7-40cd-9f8b-c1b87e7411e3\",\"root_ids\":[\"5192\"],\"roots\":{\"5192\":\"206b0d12-5c7e-4088-9835-b4f1d5d0cf4b\"}}];\n",
       "  root.Bokeh.embed.embed_items_notebook(docs_json, render_items);\n",
       "\n",
       "  }\n",
       "  if (root.Bokeh !== undefined) {\n",
       "    embed_document(root);\n",
       "  } else {\n",
       "    var attempts = 0;\n",
       "    var timer = setInterval(function(root) {\n",
       "      if (root.Bokeh !== undefined) {\n",
       "        clearInterval(timer);\n",
       "        embed_document(root);\n",
       "      } else {\n",
       "        attempts++;\n",
       "        if (attempts > 100) {\n",
       "          clearInterval(timer);\n",
       "          console.log(\"Bokeh: ERROR: Unable to run BokehJS code because BokehJS library is missing\");\n",
       "        }\n",
       "      }\n",
       "    }, 10, root)\n",
       "  }\n",
       "})(window);"
      ],
      "application/vnd.bokehjs_exec.v0+json": ""
     },
     "metadata": {
      "application/vnd.bokehjs_exec.v0+json": {
       "id": "5192"
      }
     },
     "output_type": "display_data"
    }
   ],
   "source": [
    "plot_two_opt(nodes, G, list(tour), width=600, height=375, show_us=True);"
   ]
  },
  {
   "cell_type": "markdown",
   "metadata": {},
   "source": [
    "**Q17:** Did 2-OPT improve your tour? By how much?\n",
    "\n",
    "**A:** <font color='blue'> (Based on example tour) Yes. It went from 9592.0 to 8356.8. </font>"
   ]
  },
  {
   "cell_type": "markdown",
   "metadata": {},
   "source": [
    "Now, let's look at an optimal solution!"
   ]
  },
  {
   "cell_type": "code",
   "execution_count": 31,
   "metadata": {},
   "outputs": [
    {
     "data": {
      "text/html": [
       "\n",
       "\n",
       "\n",
       "\n",
       "\n",
       "\n",
       "  <div class=\"bk-root\" id=\"f7e5736b-b419-4fbd-bce0-41ec16a05662\" data-root-id=\"5574\"></div>\n"
      ]
     },
     "metadata": {},
     "output_type": "display_data"
    },
    {
     "data": {
      "application/javascript": [
       "(function(root) {\n",
       "  function embed_document(root) {\n",
       "    \n",
       "  var docs_json = {\"98604a70-3736-4ad9-b16a-767e05c1710e\":{\"roots\":{\"references\":[{\"attributes\":{\"children\":[[{\"id\":\"5511\"},0,0],[{\"id\":\"5550\"},1,0]]},\"id\":\"5574\",\"type\":\"GridBox\"},{\"attributes\":{},\"id\":\"5530\",\"type\":\"PanTool\"},{\"attributes\":{\"line_alpha\":0.1,\"line_width\":4,\"x\":{\"field\":\"x\"},\"y\":{\"field\":\"y\"}},\"id\":\"5553\",\"type\":\"Line\"},{\"attributes\":{},\"id\":\"5531\",\"type\":\"WheelZoomTool\"},{\"attributes\":{\"axis\":{\"id\":\"5522\"},\"grid_line_color\":null,\"ticker\":null},\"id\":\"5525\",\"type\":\"Grid\"},{\"attributes\":{\"source\":{\"id\":\"5551\"}},\"id\":\"5555\",\"type\":\"CDSView\"},{\"attributes\":{\"data\":{\"x\":[751.5,634.6,701.4,784.9,985.3,1753.5,1920.5,2338.0,2404.8,2187.7,2321.3,2471.6,2505.0,2605.2,1987.3,2070.8,2421.5,2321.3,2187.7,2237.8,2154.3,1619.9,1670.0],\"y\":[1235.8,200.4,-100.2,-267.2,-367.4,768.1999999999998,-801.5999999999998,-868.4,-1102.2,-400.8,-300.6,334.0,467.6,668.0,400.8,-133.6,233.8,668.0,267.2,434.2,534.4,-501.0,-868.4]},\"selected\":{\"id\":\"5571\"},\"selection_policy\":{\"id\":\"5570\"}},\"id\":\"5556\",\"type\":\"ColumnDataSource\"},{\"attributes\":{\"overlay\":{\"id\":\"5536\"}},\"id\":\"5532\",\"type\":\"BoxZoomTool\"},{\"attributes\":{\"formatter\":{\"id\":\"5562\"},\"ticker\":{\"id\":\"5523\"},\"visible\":false},\"id\":\"5522\",\"type\":\"LinearAxis\"},{\"attributes\":{\"h\":{\"units\":\"data\",\"value\":2735.46},\"url\":{\"field\":\"url\"},\"w\":{\"units\":\"data\",\"value\":2305.602},\"x\":{\"value\":447.09900000000005},\"y\":{\"value\":1439.53}},\"id\":\"5546\",\"type\":\"ImageURL\"},{\"attributes\":{},\"id\":\"5533\",\"type\":\"SaveTool\"},{\"attributes\":{\"data_source\":{\"id\":\"5556\"},\"glyph\":{\"id\":\"5557\"},\"hover_glyph\":null,\"muted_glyph\":null,\"nonselection_glyph\":{\"id\":\"5558\"},\"selection_glyph\":null,\"view\":{\"id\":\"5560\"}},\"id\":\"5559\",\"type\":\"GlyphRenderer\"},{\"attributes\":{\"formatter\":{\"id\":\"5564\"},\"ticker\":{\"id\":\"5527\"},\"visible\":false},\"id\":\"5526\",\"type\":\"LinearAxis\"},{\"attributes\":{},\"id\":\"5534\",\"type\":\"ResetTool\"},{\"attributes\":{},\"id\":\"5535\",\"type\":\"HelpTool\"},{\"attributes\":{\"end\":2772.701,\"start\":467.09900000000005},\"id\":\"5514\",\"type\":\"Range1d\"},{\"attributes\":{\"data\":{\"url\":[\"images/us.png\"]},\"selected\":{\"id\":\"5567\"},\"selection_policy\":{\"id\":\"5566\"}},\"id\":\"5545\",\"type\":\"ColumnDataSource\"},{\"attributes\":{\"fill_alpha\":{\"value\":0.1},\"fill_color\":{\"value\":\"steelblue\"},\"line_alpha\":{\"value\":0.1},\"line_color\":{\"value\":\"steelblue\"},\"size\":{\"units\":\"screen\",\"value\":8},\"x\":{\"field\":\"x\"},\"y\":{\"field\":\"y\"}},\"id\":\"5558\",\"type\":\"Circle\"},{\"attributes\":{\"source\":{\"id\":\"5556\"}},\"id\":\"5560\",\"type\":\"CDSView\"},{\"attributes\":{\"active_drag\":\"auto\",\"active_inspect\":\"auto\",\"active_multi\":null,\"active_scroll\":\"auto\",\"active_tap\":\"auto\",\"logo\":null,\"tools\":[{\"id\":\"5530\"},{\"id\":\"5531\"},{\"id\":\"5532\"},{\"id\":\"5533\"},{\"id\":\"5534\"},{\"id\":\"5535\"}]},\"id\":\"5537\",\"type\":\"Toolbar\"},{\"attributes\":{\"fill_color\":{\"value\":\"steelblue\"},\"line_color\":{\"value\":\"steelblue\"},\"size\":{\"units\":\"screen\",\"value\":8},\"x\":{\"field\":\"x\"},\"y\":{\"field\":\"y\"}},\"id\":\"5557\",\"type\":\"Circle\"},{\"attributes\":{},\"id\":\"5562\",\"type\":\"BasicTickFormatter\"},{\"attributes\":{\"global_alpha\":0.1,\"h\":{\"units\":\"data\",\"value\":2735.46},\"url\":{\"field\":\"url\"},\"w\":{\"units\":\"data\",\"value\":2305.602},\"x\":{\"value\":447.09900000000005},\"y\":{\"value\":1439.53}},\"id\":\"5547\",\"type\":\"ImageURL\"},{\"attributes\":{},\"id\":\"5571\",\"type\":\"Selection\"},{\"attributes\":{\"text\":\"\"},\"id\":\"5512\",\"type\":\"Title\"},{\"attributes\":{},\"id\":\"5564\",\"type\":\"BasicTickFormatter\"},{\"attributes\":{},\"id\":\"5569\",\"type\":\"Selection\"},{\"attributes\":{},\"id\":\"5570\",\"type\":\"UnionRenderers\"},{\"attributes\":{},\"id\":\"5566\",\"type\":\"UnionRenderers\"},{\"attributes\":{\"bottom_units\":\"screen\",\"fill_alpha\":0.5,\"fill_color\":\"lightgrey\",\"left_units\":\"screen\",\"level\":\"overlay\",\"line_alpha\":1.0,\"line_color\":\"black\",\"line_dash\":[4,4],\"line_width\":2,\"right_units\":\"screen\",\"top_units\":\"screen\"},\"id\":\"5536\",\"type\":\"BoxAnnotation\"},{\"attributes\":{},\"id\":\"5523\",\"type\":\"BasicTicker\"},{\"attributes\":{\"data_source\":{\"id\":\"5545\"},\"glyph\":{\"id\":\"5546\"},\"hover_glyph\":null,\"muted_glyph\":null,\"nonselection_glyph\":{\"id\":\"5547\"},\"selection_glyph\":null,\"view\":{\"id\":\"5549\"}},\"id\":\"5548\",\"type\":\"GlyphRenderer\"},{\"attributes\":{\"source\":{\"id\":\"5545\"}},\"id\":\"5549\",\"type\":\"CDSView\"},{\"attributes\":{\"align\":\"center\",\"text\":\"8356.8\",\"width\":600},\"id\":\"5550\",\"type\":\"Div\"},{\"attributes\":{},\"id\":\"5527\",\"type\":\"BasicTicker\"},{\"attributes\":{\"data\":{\"x\":[751.5,634.6,701.4,784.9,985.3,1619.9,1670.0,1920.5,2404.8,2338.0,2187.7,2321.3,2070.8,2187.7,2421.5,2471.6,2505.0,2605.2,2321.3,2237.8,2154.3,1987.3,1753.5,751.5],\"y\":[1235.8,200.4,-100.2,-267.2,-367.4,-501.0,-868.4,-801.5999999999998,-1102.2,-868.4,-400.8,-300.6,-133.6,267.2,233.8,334.0,467.6,668.0,668.0,434.2,534.4,400.8,768.1999999999998,1235.8]},\"selected\":{\"id\":\"5569\"},\"selection_policy\":{\"id\":\"5568\"}},\"id\":\"5551\",\"type\":\"ColumnDataSource\"},{\"attributes\":{\"background_fill_color\":null,\"below\":[{\"id\":\"5522\"}],\"border_fill_color\":null,\"center\":[{\"id\":\"5525\"},{\"id\":\"5529\"}],\"left\":[{\"id\":\"5526\"}],\"outline_line_color\":null,\"plot_height\":375,\"renderers\":[{\"id\":\"5548\"},{\"id\":\"5554\"},{\"id\":\"5559\"}],\"title\":{\"id\":\"5512\"},\"toolbar\":{\"id\":\"5537\"},\"toolbar_location\":null,\"x_range\":{\"id\":\"5514\"},\"x_scale\":{\"id\":\"5518\"},\"y_range\":{\"id\":\"5516\"},\"y_scale\":{\"id\":\"5520\"}},\"id\":\"5511\",\"subtype\":\"Figure\",\"type\":\"Plot\"},{\"attributes\":{},\"id\":\"5568\",\"type\":\"UnionRenderers\"},{\"attributes\":{\"axis\":{\"id\":\"5526\"},\"dimension\":1,\"grid_line_color\":null,\"ticker\":null},\"id\":\"5529\",\"type\":\"Grid\"},{\"attributes\":{\"end\":1434.53,\"start\":-1300.93},\"id\":\"5516\",\"type\":\"Range1d\"},{\"attributes\":{},\"id\":\"5520\",\"type\":\"LinearScale\"},{\"attributes\":{\"data_source\":{\"id\":\"5551\"},\"glyph\":{\"id\":\"5552\"},\"hover_glyph\":null,\"muted_glyph\":null,\"nonselection_glyph\":{\"id\":\"5553\"},\"selection_glyph\":null,\"view\":{\"id\":\"5555\"}},\"id\":\"5554\",\"type\":\"GlyphRenderer\"},{\"attributes\":{},\"id\":\"5518\",\"type\":\"LinearScale\"},{\"attributes\":{\"line_width\":4,\"x\":{\"field\":\"x\"},\"y\":{\"field\":\"y\"}},\"id\":\"5552\",\"type\":\"Line\"},{\"attributes\":{},\"id\":\"5567\",\"type\":\"Selection\"}],\"root_ids\":[\"5574\"]},\"title\":\"Bokeh Application\",\"version\":\"2.2.3\"}};\n",
       "  var render_items = [{\"docid\":\"98604a70-3736-4ad9-b16a-767e05c1710e\",\"root_ids\":[\"5574\"],\"roots\":{\"5574\":\"f7e5736b-b419-4fbd-bce0-41ec16a05662\"}}];\n",
       "  root.Bokeh.embed.embed_items_notebook(docs_json, render_items);\n",
       "\n",
       "  }\n",
       "  if (root.Bokeh !== undefined) {\n",
       "    embed_document(root);\n",
       "  } else {\n",
       "    var attempts = 0;\n",
       "    var timer = setInterval(function(root) {\n",
       "      if (root.Bokeh !== undefined) {\n",
       "        clearInterval(timer);\n",
       "        embed_document(root);\n",
       "      } else {\n",
       "        attempts++;\n",
       "        if (attempts > 100) {\n",
       "          clearInterval(timer);\n",
       "          console.log(\"Bokeh: ERROR: Unable to run BokehJS code because BokehJS library is missing\");\n",
       "        }\n",
       "      }\n",
       "    }, 10, root)\n",
       "  }\n",
       "})(window);"
      ],
      "application/vnd.bokehjs_exec.v0+json": ""
     },
     "metadata": {
      "application/vnd.bokehjs_exec.v0+json": {
       "id": "5574"
      }
     },
     "output_type": "display_data"
    }
   ],
   "source": [
    "plot_tour(nodes, G, optimal_tour('us_cities_23'), width=600, height=375, show_us=True);"
   ]
  },
  {
   "cell_type": "markdown",
   "metadata": {},
   "source": [
    "**Q18:** Was your tour optimal before or after 2-OPT?\n",
    "\n",
    "**A:** <font color='blue'> (Based on example tour) It was not optimal before 2-OPT but it become optimal afterwards! </font>"
   ]
  },
  {
   "cell_type": "markdown",
   "metadata": {},
   "source": [
    "## Part IV: TSP Application: PCB Drilling"
   ]
  },
  {
   "cell_type": "markdown",
   "metadata": {},
   "source": [
    "In the previous parts of this lab, we have considered the original application of the TSP to touring a set of cities. We also considered an arbitrary grid of nodes. In this part, we will consider a new problem to which the TSP can be applied."
   ]
  },
  {
   "cell_type": "markdown",
   "metadata": {},
   "source": [
    "Consider the manufacturing of printed circuit boards (PCBs). PCBs are used to mount integrated cicuits and combine them with other hardware. Here is a picture of a PCB after the hardware has been mounted.\n",
    "\n",
    "<img src=\"images/pcb.jpg\" width=\"500\" height=\"380\" />\n",
    "\n",
    "*Taken from [Wikipedia](https://en.wikipedia.org/wiki/Printed_circuit_board)*\n",
    "\n",
    "Before the hardware can be mounted, a large number of small holes must be drilled in the board. The hardware is the mounted by placing the pins of the component in these holes. Below, you can see the small holes before the hardware is mounted.\n",
    "\n",
    "<img src=\"images/pcb_holes.jpg\" width=\"444\" height=\"250\" />\n",
    "\n",
    "*Taken from [AiPCBA](https://www.aipcba.com/pcb/pcb-boards.html)*\n",
    "\n",
    "We are now left with an optimization problem! We have a set of holes that must be drilled in a PCB. We must specify an order to drill these holes to our drilling machine. Our goal is to choose an order that minimizes the total distance the drill travels. This problem is analogous to the TSP!"
   ]
  },
  {
   "cell_type": "markdown",
   "metadata": {},
   "source": [
    "**Q19:** What are the \"nodes\" in the PCB dilling problem?\n",
    "\n",
    "**A:** <font color='blue'> The holes that must be drilled.</font>"
   ]
  },
  {
   "cell_type": "markdown",
   "metadata": {},
   "source": [
    "**Q20:** What is the distance between two \"nodes\" in the PCB dilling problem? (Assume the drill can travel in a straight line from one hole to the next).\n",
    "\n",
    "**A:** <font color='blue'> The euclidian distance between the two holes.</font>"
   ]
  },
  {
   "cell_type": "markdown",
   "metadata": {},
   "source": [
    "**Q21:** In answering **Q18** and **Q19**, you have fully described an input to the TSP. Assume we have a way of solving the TSP. How would you interpret the solution to the TSP (a tour of the nodes) as a solution to the PCB drilling problem?\n",
    "\n",
    "**A:** <font color='blue'>The tour of nodes is equivalent to an ordered list of holes to drill.</font>"
   ]
  },
  {
   "cell_type": "markdown",
   "metadata": {},
   "source": [
    "**Q22:** Why is the optimal TSP tour correspond to an optimal PCB drilling solution?\n",
    "\n",
    "**A:** <font color='blue'>The optimal TSP tour minimizes the distance traveled between the nodes which is equivalent to the distance traveled between the holes to be drilled. This is exactly what we wish to minimize in the PCB drilling problem.</font>"
   ]
  },
  {
   "cell_type": "markdown",
   "metadata": {},
   "source": [
    "Let's start by looking at a small PCB drilling instance: `xqf131`."
   ]
  },
  {
   "cell_type": "code",
   "execution_count": 32,
   "metadata": {},
   "outputs": [
    {
     "data": {
      "text/html": [
       "<div>\n",
       "<style scoped>\n",
       "    .dataframe tbody tr th:only-of-type {\n",
       "        vertical-align: middle;\n",
       "    }\n",
       "\n",
       "    .dataframe tbody tr th {\n",
       "        vertical-align: top;\n",
       "    }\n",
       "\n",
       "    .dataframe thead th {\n",
       "        text-align: right;\n",
       "    }\n",
       "</style>\n",
       "<table border=\"1\" class=\"dataframe\">\n",
       "  <thead>\n",
       "    <tr style=\"text-align: right;\">\n",
       "      <th></th>\n",
       "      <th>name</th>\n",
       "      <th>x</th>\n",
       "      <th>y</th>\n",
       "    </tr>\n",
       "  </thead>\n",
       "  <tbody>\n",
       "    <tr>\n",
       "      <th>0</th>\n",
       "      <td>1</td>\n",
       "      <td>0.0</td>\n",
       "      <td>13.0</td>\n",
       "    </tr>\n",
       "    <tr>\n",
       "      <th>1</th>\n",
       "      <td>2</td>\n",
       "      <td>0.0</td>\n",
       "      <td>26.0</td>\n",
       "    </tr>\n",
       "    <tr>\n",
       "      <th>2</th>\n",
       "      <td>3</td>\n",
       "      <td>0.0</td>\n",
       "      <td>27.0</td>\n",
       "    </tr>\n",
       "    <tr>\n",
       "      <th>3</th>\n",
       "      <td>4</td>\n",
       "      <td>0.0</td>\n",
       "      <td>39.0</td>\n",
       "    </tr>\n",
       "    <tr>\n",
       "      <th>4</th>\n",
       "      <td>5</td>\n",
       "      <td>2.0</td>\n",
       "      <td>0.0</td>\n",
       "    </tr>\n",
       "  </tbody>\n",
       "</table>\n",
       "</div>"
      ],
      "text/plain": [
       "   name    x     y\n",
       "0     1  0.0  13.0\n",
       "1     2  0.0  26.0\n",
       "2     3  0.0  27.0\n",
       "3     4  0.0  39.0\n",
       "4     5  2.0   0.0"
      ]
     },
     "execution_count": 32,
     "metadata": {},
     "output_type": "execute_result"
    }
   ],
   "source": [
    "nodes = pd.read_csv('data/xqf131.csv', index_col=0)\n",
    "nodes.head() # .head() restricts the display to just show the first 5 rows."
   ]
  },
  {
   "cell_type": "code",
   "execution_count": 33,
   "metadata": {},
   "outputs": [],
   "source": [
    "# Like before, we also need to construct a distance matrix (using the euclidian distance)\n",
    "G = distance_matrix(nodes, manhattan=False)"
   ]
  },
  {
   "cell_type": "markdown",
   "metadata": {},
   "source": [
    "Let's apply some of our TSP heuristics and 2-OPT to get some good feasible solutions to this problem!"
   ]
  },
  {
   "cell_type": "code",
   "execution_count": 34,
   "metadata": {},
   "outputs": [
    {
     "data": {
      "text/html": [
       "\n",
       "\n",
       "\n",
       "\n",
       "\n",
       "\n",
       "  <div class=\"bk-root\" id=\"7dc1c13f-ddf8-440e-9dee-012876ae9b0c\" data-root-id=\"5931\"></div>\n"
      ]
     },
     "metadata": {},
     "output_type": "display_data"
    },
    {
     "data": {
      "application/javascript": [
       "(function(root) {\n",
       "  function embed_document(root) {\n",
       "    \n",
       "  var docs_json = {\"494800a6-0677-4aed-a502-ff8fa443f959\":{\"roots\":{\"references\":[{\"attributes\":{\"children\":[[{\"id\":\"5875\"},0,0],[{\"id\":\"5909\"},1,0]]},\"id\":\"5931\",\"type\":\"GridBox\"},{\"attributes\":{},\"id\":\"5897\",\"type\":\"SaveTool\"},{\"attributes\":{},\"id\":\"5899\",\"type\":\"HelpTool\"},{\"attributes\":{},\"id\":\"5928\",\"type\":\"Selection\"},{\"attributes\":{\"active_drag\":\"auto\",\"active_inspect\":\"auto\",\"active_multi\":null,\"active_scroll\":\"auto\",\"active_tap\":\"auto\",\"logo\":null,\"tools\":[{\"id\":\"5894\"},{\"id\":\"5895\"},{\"id\":\"5896\"},{\"id\":\"5897\"},{\"id\":\"5898\"},{\"id\":\"5899\"}]},\"id\":\"5901\",\"type\":\"Toolbar\"},{\"attributes\":{\"formatter\":{\"id\":\"5921\"},\"ticker\":{\"id\":\"5887\"},\"visible\":false},\"id\":\"5886\",\"type\":\"LinearAxis\"},{\"attributes\":{},\"id\":\"5926\",\"type\":\"Selection\"},{\"attributes\":{\"background_fill_color\":null,\"below\":[{\"id\":\"5886\"}],\"border_fill_color\":null,\"center\":[{\"id\":\"5889\"},{\"id\":\"5893\"}],\"left\":[{\"id\":\"5890\"}],\"outline_line_color\":null,\"plot_height\":400,\"plot_width\":400,\"renderers\":[{\"id\":\"5913\"},{\"id\":\"5918\"}],\"title\":{\"id\":\"5876\"},\"toolbar\":{\"id\":\"5901\"},\"toolbar_location\":null,\"x_range\":{\"id\":\"5878\"},\"x_scale\":{\"id\":\"5882\"},\"y_range\":{\"id\":\"5880\"},\"y_scale\":{\"id\":\"5884\"}},\"id\":\"5875\",\"subtype\":\"Figure\",\"type\":\"Plot\"},{\"attributes\":{},\"id\":\"5882\",\"type\":\"LinearScale\"},{\"attributes\":{},\"id\":\"5925\",\"type\":\"UnionRenderers\"},{\"attributes\":{\"end\":50.995,\"start\":-3.995},\"id\":\"5880\",\"type\":\"Range1d\"},{\"attributes\":{\"bottom_units\":\"screen\",\"fill_alpha\":0.5,\"fill_color\":\"lightgrey\",\"left_units\":\"screen\",\"level\":\"overlay\",\"line_alpha\":1.0,\"line_color\":\"black\",\"line_dash\":[4,4],\"line_width\":2,\"right_units\":\"screen\",\"top_units\":\"screen\"},\"id\":\"5900\",\"type\":\"BoxAnnotation\"},{\"attributes\":{\"data\":{\"x\":[0.0,5.0,9.0,10.0,11.0,12.0,15.0,12.0,8.0,2.0,5.0,5.0,5.0,0.0,0.0,5.0,5.0,0.0,5.0,15.0,18.0,18.0,18.0,18.0,18.0,18.0,18.0,18.0,18.0,18.0,18.0,18.0,18.0,18.0,18.0,18.0,18.0,18.0,18.0,15.0,15.0,15.0,15.0,15.0,25.0,25.0,25.0,25.0,25.0,25.0,28.0,28.0,25.0,25.0,25.0,34.0,34.0,33.0,35.0,38.0,38.0,40.0,41.0,48.0,48.0,56.0,57.0,64.0,71.0,74.0,74.0,77.0,74.0,74.0,78.0,79.0,78.0,79.0,78.0,80.0,84.0,84.0,84.0,84.0,84.0,81.0,80.0,79.0,78.0,74.0,71.0,71.0,74.0,80.0,84.0,63.0,57.0,48.0,34.0,33.0,32.0,33.0,34.0,34.0,33.0,32.0,35.0,38.0,41.0,41.0,41.0,41.0,38.0,34.0,34.0,28.0,28.0,28.0,28.0,28.0,28.0,51.0,51.0,57.0,61.0,61.0,71.0,71.0,74.0,74.0,107.0,0.0],\"y\":[13.0,13.0,10.0,10.0,10.0,10.0,8.0,5.0,0.0,0.0,8.0,19.0,25.0,26.0,27.0,31.0,37.0,39.0,43.0,43.0,44.0,45.0,42.0,41.0,39.0,37.0,35.0,33.0,31.0,29.0,27.0,25.0,23.0,21.0,19.0,17.0,15.0,13.0,11.0,13.0,19.0,25.0,31.0,37.0,29.0,28.0,26.0,24.0,23.0,22.0,20.0,16.0,15.0,11.0,9.0,5.0,15.0,15.0,17.0,16.0,20.0,22.0,23.0,22.0,27.0,25.0,25.0,22.0,16.0,16.0,20.0,21.0,24.0,29.0,32.0,33.0,35.0,37.0,39.0,41.0,38.0,34.0,29.0,24.0,20.0,17.0,10.0,10.0,10.0,12.0,11.0,13.0,6.0,5.0,6.0,6.0,12.0,6.0,26.0,26.0,26.0,29.0,29.0,31.0,31.0,31.0,31.0,30.0,32.0,34.0,35.0,36.0,34.0,38.0,41.0,40.0,43.0,47.0,34.0,30.0,28.0,45.0,47.0,44.0,45.0,47.0,47.0,45.0,39.0,35.0,27.0,13.0]},\"selected\":{\"id\":\"5926\"},\"selection_policy\":{\"id\":\"5925\"}},\"id\":\"5910\",\"type\":\"ColumnDataSource\"},{\"attributes\":{\"text\":\"\"},\"id\":\"5876\",\"type\":\"Title\"},{\"attributes\":{\"line_width\":4,\"x\":{\"field\":\"x\"},\"y\":{\"field\":\"y\"}},\"id\":\"5911\",\"type\":\"Line\"},{\"attributes\":{},\"id\":\"5887\",\"type\":\"BasicTicker\"},{\"attributes\":{\"data_source\":{\"id\":\"5910\"},\"glyph\":{\"id\":\"5911\"},\"hover_glyph\":null,\"muted_glyph\":null,\"nonselection_glyph\":{\"id\":\"5912\"},\"selection_glyph\":null,\"view\":{\"id\":\"5914\"}},\"id\":\"5913\",\"type\":\"GlyphRenderer\"},{\"attributes\":{\"end\":116.095,\"start\":-9.095},\"id\":\"5878\",\"type\":\"Range1d\"},{\"attributes\":{},\"id\":\"5884\",\"type\":\"LinearScale\"},{\"attributes\":{\"line_alpha\":0.1,\"line_width\":4,\"x\":{\"field\":\"x\"},\"y\":{\"field\":\"y\"}},\"id\":\"5912\",\"type\":\"Line\"},{\"attributes\":{\"axis\":{\"id\":\"5886\"},\"grid_line_color\":null,\"ticker\":null},\"id\":\"5889\",\"type\":\"Grid\"},{\"attributes\":{\"source\":{\"id\":\"5910\"}},\"id\":\"5914\",\"type\":\"CDSView\"},{\"attributes\":{\"data\":{\"x\":[0.0,0.0,0.0,0.0,2.0,5.0,5.0,5.0,5.0,5.0,5.0,5.0,8.0,9.0,10.0,11.0,12.0,12.0,15.0,15.0,15.0,15.0,15.0,15.0,15.0,18.0,18.0,18.0,18.0,18.0,18.0,18.0,18.0,18.0,18.0,18.0,18.0,18.0,18.0,18.0,18.0,18.0,18.0,18.0,25.0,25.0,25.0,25.0,25.0,25.0,25.0,25.0,25.0,28.0,28.0,28.0,28.0,28.0,28.0,28.0,28.0,32.0,32.0,33.0,33.0,33.0,33.0,34.0,34.0,34.0,34.0,34.0,34.0,34.0,35.0,35.0,38.0,38.0,38.0,38.0,40.0,41.0,41.0,41.0,41.0,41.0,48.0,48.0,48.0,51.0,51.0,56.0,57.0,57.0,57.0,61.0,61.0,63.0,64.0,71.0,71.0,71.0,71.0,71.0,74.0,74.0,74.0,74.0,74.0,74.0,74.0,74.0,77.0,78.0,78.0,78.0,78.0,79.0,79.0,79.0,80.0,80.0,80.0,81.0,84.0,84.0,84.0,84.0,84.0,84.0,107.0],\"y\":[13.0,26.0,27.0,39.0,0.0,13.0,19.0,25.0,31.0,37.0,43.0,8.0,0.0,10.0,10.0,10.0,10.0,5.0,13.0,19.0,25.0,31.0,37.0,43.0,8.0,11.0,13.0,15.0,17.0,19.0,21.0,23.0,25.0,27.0,29.0,31.0,33.0,35.0,37.0,39.0,41.0,42.0,44.0,45.0,11.0,15.0,22.0,23.0,24.0,26.0,28.0,29.0,9.0,16.0,20.0,28.0,30.0,34.0,40.0,43.0,47.0,26.0,31.0,15.0,26.0,29.0,31.0,15.0,26.0,29.0,31.0,38.0,41.0,5.0,17.0,31.0,16.0,20.0,30.0,34.0,22.0,23.0,32.0,34.0,35.0,36.0,22.0,27.0,6.0,45.0,47.0,25.0,12.0,25.0,44.0,45.0,47.0,6.0,22.0,11.0,13.0,16.0,45.0,47.0,12.0,16.0,20.0,24.0,29.0,35.0,39.0,6.0,21.0,10.0,32.0,35.0,39.0,10.0,33.0,37.0,10.0,41.0,5.0,17.0,20.0,24.0,29.0,34.0,38.0,6.0,27.0]},\"selected\":{\"id\":\"5928\"},\"selection_policy\":{\"id\":\"5927\"}},\"id\":\"5915\",\"type\":\"ColumnDataSource\"},{\"attributes\":{},\"id\":\"5898\",\"type\":\"ResetTool\"},{\"attributes\":{\"formatter\":{\"id\":\"5923\"},\"ticker\":{\"id\":\"5891\"},\"visible\":false},\"id\":\"5890\",\"type\":\"LinearAxis\"},{\"attributes\":{\"axis\":{\"id\":\"5890\"},\"dimension\":1,\"grid_line_color\":null,\"ticker\":null},\"id\":\"5893\",\"type\":\"Grid\"},{\"attributes\":{\"data_source\":{\"id\":\"5915\"},\"glyph\":{\"id\":\"5916\"},\"hover_glyph\":null,\"muted_glyph\":null,\"nonselection_glyph\":{\"id\":\"5917\"},\"selection_glyph\":null,\"view\":{\"id\":\"5919\"}},\"id\":\"5918\",\"type\":\"GlyphRenderer\"},{\"attributes\":{\"align\":\"center\",\"text\":\"714.8\",\"width\":400},\"id\":\"5909\",\"type\":\"Div\"},{\"attributes\":{},\"id\":\"5927\",\"type\":\"UnionRenderers\"},{\"attributes\":{},\"id\":\"5891\",\"type\":\"BasicTicker\"},{\"attributes\":{\"fill_alpha\":{\"value\":0.1},\"fill_color\":{\"value\":\"steelblue\"},\"line_alpha\":{\"value\":0.1},\"line_color\":{\"value\":\"steelblue\"},\"size\":{\"units\":\"screen\",\"value\":8},\"x\":{\"field\":\"x\"},\"y\":{\"field\":\"y\"}},\"id\":\"5917\",\"type\":\"Circle\"},{\"attributes\":{\"source\":{\"id\":\"5915\"}},\"id\":\"5919\",\"type\":\"CDSView\"},{\"attributes\":{},\"id\":\"5895\",\"type\":\"WheelZoomTool\"},{\"attributes\":{\"fill_color\":{\"value\":\"steelblue\"},\"line_color\":{\"value\":\"steelblue\"},\"size\":{\"units\":\"screen\",\"value\":8},\"x\":{\"field\":\"x\"},\"y\":{\"field\":\"y\"}},\"id\":\"5916\",\"type\":\"Circle\"},{\"attributes\":{\"overlay\":{\"id\":\"5900\"}},\"id\":\"5896\",\"type\":\"BoxZoomTool\"},{\"attributes\":{},\"id\":\"5921\",\"type\":\"BasicTickFormatter\"},{\"attributes\":{},\"id\":\"5923\",\"type\":\"BasicTickFormatter\"},{\"attributes\":{},\"id\":\"5894\",\"type\":\"PanTool\"}],\"root_ids\":[\"5931\"]},\"title\":\"Bokeh Application\",\"version\":\"2.2.3\"}};\n",
       "  var render_items = [{\"docid\":\"494800a6-0677-4aed-a502-ff8fa443f959\",\"root_ids\":[\"5931\"],\"roots\":{\"5931\":\"7dc1c13f-ddf8-440e-9dee-012876ae9b0c\"}}];\n",
       "  root.Bokeh.embed.embed_items_notebook(docs_json, render_items);\n",
       "\n",
       "  }\n",
       "  if (root.Bokeh !== undefined) {\n",
       "    embed_document(root);\n",
       "  } else {\n",
       "    var attempts = 0;\n",
       "    var timer = setInterval(function(root) {\n",
       "      if (root.Bokeh !== undefined) {\n",
       "        clearInterval(timer);\n",
       "        embed_document(root);\n",
       "      } else {\n",
       "        attempts++;\n",
       "        if (attempts > 100) {\n",
       "          clearInterval(timer);\n",
       "          console.log(\"Bokeh: ERROR: Unable to run BokehJS code because BokehJS library is missing\");\n",
       "        }\n",
       "      }\n",
       "    }, 10, root)\n",
       "  }\n",
       "})(window);"
      ],
      "application/vnd.bokehjs_exec.v0+json": ""
     },
     "metadata": {
      "application/vnd.bokehjs_exec.v0+json": {
       "id": "5931"
      }
     },
     "output_type": "display_data"
    }
   ],
   "source": [
    "# Nearest neighbor\n",
    "tour = nearest_neighbor(G)\n",
    "plot_tour(nodes, G,tour)"
   ]
  },
  {
   "cell_type": "code",
   "execution_count": 35,
   "metadata": {
    "scrolled": false
   },
   "outputs": [
    {
     "data": {
      "text/html": [
       "\n",
       "\n",
       "\n",
       "\n",
       "\n",
       "\n",
       "  <div class=\"bk-root\" id=\"66771e5d-7f76-437f-8a91-ea9b610d12c4\" data-root-id=\"6320\"></div>\n"
      ]
     },
     "metadata": {},
     "output_type": "display_data"
    },
    {
     "data": {
      "application/javascript": [
       "(function(root) {\n",
       "  function embed_document(root) {\n",
       "    \n",
       "  var docs_json = {\"34fd9cb1-655c-4f67-a55d-7670bdc4e912\":{\"roots\":{\"references\":[{\"attributes\":{\"children\":[[{\"id\":\"6232\"},0,0],[{\"id\":\"6297\"},1,0],[{\"id\":\"6298\"},2,0]]},\"id\":\"6320\",\"type\":\"GridBox\"},{\"attributes\":{},\"id\":\"6304\",\"type\":\"UnionRenderers\"},{\"attributes\":{\"overlay\":{\"id\":\"6257\"}},\"id\":\"6253\",\"type\":\"BoxZoomTool\"},{\"attributes\":{\"button_type\":\"success\",\"icon\":null,\"js_event_callbacks\":{\"button_click\":[{\"id\":\"6296\"}]},\"label\":\"Previous\",\"sizing_mode\":\"scale_width\",\"width_policy\":\"fit\"},\"id\":\"6295\",\"type\":\"Button\"},{\"attributes\":{},\"id\":\"6305\",\"type\":\"Selection\"},{\"attributes\":{},\"id\":\"6254\",\"type\":\"SaveTool\"},{\"attributes\":{\"fill_color\":{\"value\":\"steelblue\"},\"line_color\":{\"value\":\"steelblue\"},\"size\":{\"units\":\"screen\",\"value\":8},\"x\":{\"field\":\"x\"},\"y\":{\"field\":\"y\"}},\"id\":\"6289\",\"type\":\"Circle\"},{\"attributes\":{},\"id\":\"6306\",\"type\":\"UnionRenderers\"},{\"attributes\":{},\"id\":\"6255\",\"type\":\"ResetTool\"},{\"attributes\":{\"args\":{\"cost\":{\"id\":\"6266\"},\"done\":{\"id\":\"6267\"},\"n\":{\"id\":\"6268\"},\"source\":{\"id\":\"6269\"},\"swaps\":{\"id\":\"6272\"},\"swaps_source\":{\"id\":\"6271\"},\"tour\":{\"id\":\"6270\"}},\"code\":\"\\nif ((parseInt(n.text) + 1) < source.data['edges_y'].length) {\\n    n.text = (parseInt(n.text) + 1).toString()\\n}\\nvar iteration = parseInt(n.text)\\n\\n    cost.text = source.data['costs'][iteration].toFixed(1)\\n    \\n    if (iteration == source.data['edges_y'].length - 1) {\\n        done.text = \\\"done.\\\"\\n        swaps.data['swaps_before_x'] = [[]]\\n        swaps.data['swaps_before_y'] = [[]]\\n        swaps.data['swaps_after_x'] = [[]]\\n        swaps.data['swaps_after_y'] = [[]]\\n    } else {\\n        done.text = \\\"\\\"\\n        swaps.data['swaps_before_x'] = swaps_source.data['swaps_before_x'][iteration]\\n        swaps.data['swaps_before_y'] = swaps_source.data['swaps_before_y'][iteration]\\n        swaps.data['swaps_after_x'] = swaps_source.data['swaps_after_x'][iteration]\\n        swaps.data['swaps_after_y'] = swaps_source.data['swaps_after_y'][iteration]\\n    }\\n\\n    tour.data['edges_x'] = source.data['edges_x'][iteration]\\n    tour.data['edges_y'] = source.data['edges_y'][iteration]\\n    tour.change.emit()\\n    swaps.change.emit()\\n    \"},\"id\":\"6294\",\"type\":\"CustomJS\"},{\"attributes\":{},\"id\":\"6307\",\"type\":\"Selection\"},{\"attributes\":{},\"id\":\"6256\",\"type\":\"HelpTool\"},{\"attributes\":{\"source\":{\"id\":\"6288\"}},\"id\":\"6292\",\"type\":\"CDSView\"},{\"attributes\":{\"end\":116.095,\"start\":-9.095},\"id\":\"6235\",\"type\":\"Range1d\"},{\"attributes\":{\"button_type\":\"success\",\"icon\":null,\"js_event_callbacks\":{\"button_click\":[{\"id\":\"6294\"}]},\"label\":\"Next\",\"sizing_mode\":\"scale_width\",\"width_policy\":\"fit\"},\"id\":\"6293\",\"type\":\"Button\"},{\"attributes\":{},\"id\":\"6308\",\"type\":\"UnionRenderers\"},{\"attributes\":{\"end\":50.995,\"start\":-3.995},\"id\":\"6237\",\"type\":\"Range1d\"},{\"attributes\":{\"fill_alpha\":{\"value\":0.1},\"fill_color\":{\"value\":\"steelblue\"},\"line_alpha\":{\"value\":0.1},\"line_color\":{\"value\":\"steelblue\"},\"size\":{\"units\":\"screen\",\"value\":8},\"x\":{\"field\":\"x\"},\"y\":{\"field\":\"y\"}},\"id\":\"6290\",\"type\":\"Circle\"},{\"attributes\":{\"active_drag\":\"auto\",\"active_inspect\":\"auto\",\"active_multi\":null,\"active_scroll\":\"auto\",\"active_tap\":\"auto\",\"logo\":null,\"tools\":[{\"id\":\"6251\"},{\"id\":\"6252\"},{\"id\":\"6253\"},{\"id\":\"6254\"},{\"id\":\"6255\"},{\"id\":\"6256\"}]},\"id\":\"6258\",\"type\":\"Toolbar\"},{\"attributes\":{},\"id\":\"6309\",\"type\":\"Selection\"},{\"attributes\":{},\"id\":\"6239\",\"type\":\"LinearScale\"},{\"attributes\":{\"source\":{\"id\":\"6272\"}},\"id\":\"6287\",\"type\":\"CDSView\"},{\"attributes\":{\"data_source\":{\"id\":\"6270\"},\"glyph\":{\"id\":\"6274\"},\"hover_glyph\":null,\"muted_glyph\":null,\"nonselection_glyph\":{\"id\":\"6275\"},\"selection_glyph\":null,\"view\":{\"id\":\"6277\"}},\"id\":\"6276\",\"type\":\"GlyphRenderer\"},{\"attributes\":{\"line_alpha\":{\"value\":0.1},\"line_color\":{\"value\":\"#90D7F6\"},\"line_width\":{\"value\":4},\"xs\":{\"field\":\"swaps_after_x\"},\"ys\":{\"field\":\"swaps_after_y\"}},\"id\":\"6285\",\"type\":\"MultiLine\"},{\"attributes\":{},\"id\":\"6314\",\"type\":\"UnionRenderers\"},{\"attributes\":{},\"id\":\"6241\",\"type\":\"LinearScale\"},{\"attributes\":{\"data_source\":{\"id\":\"6288\"},\"glyph\":{\"id\":\"6289\"},\"hover_glyph\":null,\"muted_glyph\":null,\"nonselection_glyph\":{\"id\":\"6290\"},\"selection_glyph\":null,\"view\":{\"id\":\"6292\"}},\"id\":\"6291\",\"type\":\"GlyphRenderer\"},{\"attributes\":{},\"id\":\"6315\",\"type\":\"Selection\"},{\"attributes\":{\"formatter\":{\"id\":\"6300\"},\"ticker\":{\"id\":\"6244\"},\"visible\":false},\"id\":\"6243\",\"type\":\"LinearAxis\"},{\"attributes\":{\"line_color\":{\"value\":\"red\"},\"line_width\":{\"value\":4},\"xs\":{\"field\":\"swaps_before_x\"},\"ys\":{\"field\":\"swaps_before_y\"}},\"id\":\"6279\",\"type\":\"MultiLine\"},{\"attributes\":{\"data\":{\"x\":[0.0,0.0,0.0,0.0,2.0,5.0,5.0,5.0,5.0,5.0,5.0,5.0,8.0,9.0,10.0,11.0,12.0,12.0,15.0,15.0,15.0,15.0,15.0,15.0,15.0,18.0,18.0,18.0,18.0,18.0,18.0,18.0,18.0,18.0,18.0,18.0,18.0,18.0,18.0,18.0,18.0,18.0,18.0,18.0,25.0,25.0,25.0,25.0,25.0,25.0,25.0,25.0,25.0,28.0,28.0,28.0,28.0,28.0,28.0,28.0,28.0,32.0,32.0,33.0,33.0,33.0,33.0,34.0,34.0,34.0,34.0,34.0,34.0,34.0,35.0,35.0,38.0,38.0,38.0,38.0,40.0,41.0,41.0,41.0,41.0,41.0,48.0,48.0,48.0,51.0,51.0,56.0,57.0,57.0,57.0,61.0,61.0,63.0,64.0,71.0,71.0,71.0,71.0,71.0,74.0,74.0,74.0,74.0,74.0,74.0,74.0,74.0,77.0,78.0,78.0,78.0,78.0,79.0,79.0,79.0,80.0,80.0,80.0,81.0,84.0,84.0,84.0,84.0,84.0,84.0,107.0],\"y\":[13.0,26.0,27.0,39.0,0.0,13.0,19.0,25.0,31.0,37.0,43.0,8.0,0.0,10.0,10.0,10.0,10.0,5.0,13.0,19.0,25.0,31.0,37.0,43.0,8.0,11.0,13.0,15.0,17.0,19.0,21.0,23.0,25.0,27.0,29.0,31.0,33.0,35.0,37.0,39.0,41.0,42.0,44.0,45.0,11.0,15.0,22.0,23.0,24.0,26.0,28.0,29.0,9.0,16.0,20.0,28.0,30.0,34.0,40.0,43.0,47.0,26.0,31.0,15.0,26.0,29.0,31.0,15.0,26.0,29.0,31.0,38.0,41.0,5.0,17.0,31.0,16.0,20.0,30.0,34.0,22.0,23.0,32.0,34.0,35.0,36.0,22.0,27.0,6.0,45.0,47.0,25.0,12.0,25.0,44.0,45.0,47.0,6.0,22.0,11.0,13.0,16.0,45.0,47.0,12.0,16.0,20.0,24.0,29.0,35.0,39.0,6.0,21.0,10.0,32.0,35.0,39.0,10.0,33.0,37.0,10.0,41.0,5.0,17.0,20.0,24.0,29.0,34.0,38.0,6.0,27.0]},\"selected\":{\"id\":\"6309\"},\"selection_policy\":{\"id\":\"6308\"}},\"id\":\"6288\",\"type\":\"ColumnDataSource\"},{\"attributes\":{},\"id\":\"6316\",\"type\":\"UnionRenderers\"},{\"attributes\":{\"data_source\":{\"id\":\"6272\"},\"glyph\":{\"id\":\"6279\"},\"hover_glyph\":null,\"muted_glyph\":null,\"nonselection_glyph\":{\"id\":\"6280\"},\"selection_glyph\":null,\"view\":{\"id\":\"6282\"}},\"id\":\"6281\",\"type\":\"GlyphRenderer\"},{\"attributes\":{},\"id\":\"6244\",\"type\":\"BasicTicker\"},{\"attributes\":{\"bottom_units\":\"screen\",\"fill_alpha\":0.5,\"fill_color\":\"lightgrey\",\"left_units\":\"screen\",\"level\":\"overlay\",\"line_alpha\":1.0,\"line_color\":\"black\",\"line_dash\":[4,4],\"line_width\":2,\"right_units\":\"screen\",\"top_units\":\"screen\"},\"id\":\"6257\",\"type\":\"BoxAnnotation\"},{\"attributes\":{},\"id\":\"6317\",\"type\":\"Selection\"},{\"attributes\":{\"align\":\"center\",\"text\":\"0\",\"width\":400},\"id\":\"6268\",\"type\":\"Div\"},{\"attributes\":{\"axis\":{\"id\":\"6243\"},\"grid_line_color\":null,\"ticker\":null},\"id\":\"6246\",\"type\":\"Grid\"},{\"attributes\":{\"data\":{\"costs\":[714.7863740747543,711.8574418866199,706.6506774421368,706.389859306178,705.8331329214736,705.2625815348066,701.8304747492575,700.5180968868165,697.9237967914584,697.1348993423865,696.2492381776419,696.1147200827377,694.7201971636712,694.6597704812682,693.7513265418031,691.843989592516,691.610644120482,689.0919519052641,687.3880619614638,679.6565780524454,675.7196842310025,670.0735502517082,669.3613160882767,667.4309825401914,638.4110106242623,637.2394377490084,637.0903522170577,636.7673443490795,635.8720411660132,635.486928111843,634.3806423113651,631.1695397604371,628.7356080692056,625.9995282600803,625.4366573815048,624.8054300165105,624.6167522608813,623.7699487100251,622.1020051355924,621.1815490239151,621.108847957608,620.5716200470827,618.421699469845,614.440936698548,612.6561154875294,609.729180638599,609.1866971124734,608.7594132411047,607.9705157920326,605.6567605840693,600.5675535964969,600.3753527680798],\"edges_x\":[[0.0,5.0,9.0,10.0,11.0,12.0,15.0,12.0,8.0,2.0,5.0,5.0,5.0,0.0,0.0,5.0,5.0,0.0,5.0,15.0,18.0,18.0,18.0,18.0,18.0,18.0,18.0,18.0,18.0,18.0,18.0,18.0,18.0,18.0,18.0,18.0,18.0,18.0,18.0,15.0,15.0,15.0,15.0,15.0,25.0,25.0,25.0,25.0,25.0,25.0,28.0,28.0,25.0,25.0,25.0,34.0,34.0,33.0,35.0,38.0,38.0,40.0,41.0,48.0,48.0,56.0,57.0,64.0,71.0,74.0,74.0,77.0,74.0,74.0,78.0,79.0,78.0,79.0,78.0,80.0,84.0,84.0,84.0,84.0,84.0,81.0,80.0,79.0,78.0,74.0,71.0,71.0,74.0,80.0,84.0,63.0,57.0,48.0,34.0,33.0,32.0,33.0,34.0,34.0,33.0,32.0,35.0,38.0,41.0,41.0,41.0,41.0,38.0,34.0,34.0,28.0,28.0,28.0,28.0,28.0,28.0,51.0,51.0,57.0,61.0,61.0,71.0,71.0,74.0,74.0,107.0,0.0],[0.0,5.0,2.0,8.0,12.0,15.0,12.0,11.0,10.0,9.0,5.0,5.0,5.0,0.0,0.0,5.0,5.0,0.0,5.0,15.0,18.0,18.0,18.0,18.0,18.0,18.0,18.0,18.0,18.0,18.0,18.0,18.0,18.0,18.0,18.0,18.0,18.0,18.0,18.0,15.0,15.0,15.0,15.0,15.0,25.0,25.0,25.0,25.0,25.0,25.0,28.0,28.0,25.0,25.0,25.0,34.0,34.0,33.0,35.0,38.0,38.0,40.0,41.0,48.0,48.0,56.0,57.0,64.0,71.0,74.0,74.0,77.0,74.0,74.0,78.0,79.0,78.0,79.0,78.0,80.0,84.0,84.0,84.0,84.0,84.0,81.0,80.0,79.0,78.0,74.0,71.0,71.0,74.0,80.0,84.0,63.0,57.0,48.0,34.0,33.0,32.0,33.0,34.0,34.0,33.0,32.0,35.0,38.0,41.0,41.0,41.0,41.0,38.0,34.0,34.0,28.0,28.0,28.0,28.0,28.0,28.0,51.0,51.0,57.0,61.0,61.0,71.0,71.0,74.0,74.0,107.0,0.0],[0.0,5.0,2.0,8.0,12.0,15.0,107.0,74.0,74.0,71.0,71.0,61.0,61.0,57.0,51.0,51.0,28.0,28.0,28.0,28.0,28.0,28.0,34.0,34.0,38.0,41.0,41.0,41.0,41.0,38.0,35.0,32.0,33.0,34.0,34.0,33.0,32.0,33.0,34.0,48.0,57.0,63.0,84.0,80.0,74.0,71.0,71.0,74.0,78.0,79.0,80.0,81.0,84.0,84.0,84.0,84.0,84.0,80.0,78.0,79.0,78.0,79.0,78.0,74.0,74.0,77.0,74.0,74.0,71.0,64.0,57.0,56.0,48.0,48.0,41.0,40.0,38.0,38.0,35.0,33.0,34.0,34.0,25.0,25.0,25.0,28.0,28.0,25.0,25.0,25.0,25.0,25.0,25.0,15.0,15.0,15.0,15.0,15.0,18.0,18.0,18.0,18.0,18.0,18.0,18.0,18.0,18.0,18.0,18.0,18.0,18.0,18.0,18.0,18.0,18.0,18.0,18.0,15.0,5.0,0.0,5.0,5.0,0.0,0.0,5.0,5.0,5.0,9.0,10.0,11.0,12.0,0.0],[0.0,5.0,5.0,0.0,0.0,5.0,5.0,0.0,5.0,15.0,18.0,18.0,18.0,18.0,18.0,18.0,18.0,18.0,18.0,18.0,18.0,18.0,18.0,18.0,18.0,18.0,18.0,18.0,18.0,15.0,15.0,15.0,15.0,15.0,25.0,25.0,25.0,25.0,25.0,25.0,28.0,28.0,25.0,25.0,25.0,34.0,34.0,33.0,35.0,38.0,38.0,40.0,41.0,48.0,48.0,56.0,57.0,64.0,71.0,74.0,74.0,77.0,74.0,74.0,78.0,79.0,78.0,79.0,78.0,80.0,84.0,84.0,84.0,84.0,84.0,81.0,80.0,79.0,78.0,74.0,71.0,71.0,74.0,80.0,84.0,63.0,57.0,48.0,34.0,33.0,32.0,33.0,34.0,34.0,33.0,32.0,35.0,38.0,41.0,41.0,41.0,41.0,38.0,34.0,34.0,28.0,28.0,28.0,28.0,28.0,28.0,51.0,51.0,57.0,61.0,61.0,71.0,71.0,74.0,74.0,107.0,15.0,12.0,8.0,2.0,5.0,5.0,9.0,10.0,11.0,12.0,0.0],[0.0,5.0,5.0,0.0,0.0,5.0,5.0,0.0,5.0,15.0,18.0,18.0,18.0,18.0,18.0,18.0,18.0,18.0,18.0,18.0,18.0,18.0,18.0,18.0,18.0,18.0,18.0,18.0,18.0,15.0,15.0,15.0,15.0,15.0,25.0,25.0,25.0,25.0,25.0,25.0,28.0,28.0,25.0,25.0,25.0,34.0,34.0,33.0,35.0,38.0,38.0,40.0,41.0,48.0,48.0,56.0,57.0,64.0,71.0,74.0,74.0,77.0,74.0,74.0,78.0,79.0,78.0,79.0,78.0,80.0,84.0,84.0,84.0,84.0,84.0,81.0,80.0,79.0,78.0,74.0,71.0,71.0,74.0,80.0,84.0,63.0,57.0,48.0,34.0,33.0,32.0,33.0,34.0,34.0,33.0,32.0,35.0,38.0,41.0,41.0,41.0,41.0,38.0,34.0,34.0,28.0,28.0,28.0,28.0,28.0,28.0,51.0,51.0,57.0,61.0,61.0,71.0,71.0,74.0,74.0,107.0,15.0,12.0,8.0,2.0,5.0,5.0,9.0,10.0,11.0,12.0,0.0],[0.0,5.0,5.0,0.0,0.0,5.0,5.0,0.0,5.0,15.0,18.0,18.0,18.0,18.0,18.0,15.0,15.0,15.0,15.0,15.0,18.0,18.0,18.0,18.0,18.0,18.0,18.0,18.0,18.0,18.0,18.0,18.0,18.0,18.0,25.0,25.0,25.0,25.0,25.0,25.0,28.0,28.0,25.0,25.0,25.0,34.0,34.0,33.0,35.0,38.0,38.0,40.0,41.0,48.0,48.0,56.0,57.0,64.0,71.0,74.0,74.0,77.0,74.0,74.0,78.0,79.0,78.0,79.0,78.0,80.0,84.0,84.0,84.0,84.0,84.0,81.0,80.0,79.0,78.0,74.0,71.0,71.0,74.0,80.0,84.0,63.0,57.0,48.0,34.0,33.0,32.0,33.0,34.0,34.0,33.0,32.0,35.0,38.0,41.0,41.0,41.0,41.0,38.0,34.0,34.0,28.0,28.0,28.0,28.0,28.0,28.0,51.0,51.0,57.0,61.0,61.0,71.0,71.0,74.0,74.0,107.0,15.0,12.0,8.0,2.0,5.0,5.0,9.0,10.0,11.0,12.0,0.0],[0.0,5.0,5.0,0.0,0.0,5.0,5.0,0.0,5.0,15.0,18.0,18.0,18.0,18.0,18.0,15.0,18.0,18.0,18.0,18.0,18.0,18.0,18.0,18.0,18.0,18.0,18.0,18.0,18.0,18.0,15.0,15.0,15.0,15.0,25.0,25.0,25.0,25.0,25.0,25.0,28.0,28.0,25.0,25.0,25.0,34.0,34.0,33.0,35.0,38.0,38.0,40.0,41.0,48.0,48.0,56.0,57.0,64.0,71.0,74.0,74.0,77.0,74.0,74.0,78.0,79.0,78.0,79.0,78.0,80.0,84.0,84.0,84.0,84.0,84.0,81.0,80.0,79.0,78.0,74.0,71.0,71.0,74.0,80.0,84.0,63.0,57.0,48.0,34.0,33.0,32.0,33.0,34.0,34.0,33.0,32.0,35.0,38.0,41.0,41.0,41.0,41.0,38.0,34.0,34.0,28.0,28.0,28.0,28.0,28.0,28.0,51.0,51.0,57.0,61.0,61.0,71.0,71.0,74.0,74.0,107.0,15.0,12.0,8.0,2.0,5.0,5.0,9.0,10.0,11.0,12.0,0.0],[0.0,5.0,5.0,0.0,0.0,5.0,5.0,0.0,5.0,15.0,18.0,18.0,18.0,18.0,18.0,15.0,18.0,18.0,18.0,15.0,15.0,15.0,15.0,18.0,18.0,18.0,18.0,18.0,18.0,18.0,18.0,18.0,18.0,18.0,25.0,25.0,25.0,25.0,25.0,25.0,28.0,28.0,25.0,25.0,25.0,34.0,34.0,33.0,35.0,38.0,38.0,40.0,41.0,48.0,48.0,56.0,57.0,64.0,71.0,74.0,74.0,77.0,74.0,74.0,78.0,79.0,78.0,79.0,78.0,80.0,84.0,84.0,84.0,84.0,84.0,81.0,80.0,79.0,78.0,74.0,71.0,71.0,74.0,80.0,84.0,63.0,57.0,48.0,34.0,33.0,32.0,33.0,34.0,34.0,33.0,32.0,35.0,38.0,41.0,41.0,41.0,41.0,38.0,34.0,34.0,28.0,28.0,28.0,28.0,28.0,28.0,51.0,51.0,57.0,61.0,61.0,71.0,71.0,74.0,74.0,107.0,15.0,12.0,8.0,2.0,5.0,5.0,9.0,10.0,11.0,12.0,0.0],[0.0,5.0,5.0,0.0,0.0,5.0,5.0,0.0,5.0,15.0,18.0,18.0,18.0,18.0,18.0,15.0,18.0,18.0,18.0,15.0,15.0,15.0,107.0,74.0,74.0,71.0,71.0,61.0,61.0,57.0,51.0,51.0,28.0,28.0,28.0,28.0,28.0,28.0,34.0,34.0,38.0,41.0,41.0,41.0,41.0,38.0,35.0,32.0,33.0,34.0,34.0,33.0,32.0,33.0,34.0,48.0,57.0,63.0,84.0,80.0,74.0,71.0,71.0,74.0,78.0,79.0,80.0,81.0,84.0,84.0,84.0,84.0,84.0,80.0,78.0,79.0,78.0,79.0,78.0,74.0,74.0,77.0,74.0,74.0,71.0,64.0,57.0,56.0,48.0,48.0,41.0,40.0,38.0,38.0,35.0,33.0,34.0,34.0,25.0,25.0,25.0,28.0,28.0,25.0,25.0,25.0,25.0,25.0,25.0,18.0,18.0,18.0,18.0,18.0,18.0,18.0,18.0,18.0,18.0,18.0,15.0,15.0,12.0,8.0,2.0,5.0,5.0,9.0,10.0,11.0,12.0,0.0],[0.0,5.0,5.0,0.0,0.0,5.0,5.0,0.0,5.0,15.0,18.0,18.0,18.0,18.0,18.0,15.0,18.0,18.0,18.0,15.0,18.0,18.0,25.0,25.0,25.0,25.0,25.0,25.0,28.0,28.0,25.0,25.0,25.0,34.0,34.0,33.0,35.0,38.0,38.0,40.0,41.0,48.0,48.0,56.0,57.0,64.0,71.0,74.0,74.0,77.0,74.0,74.0,78.0,79.0,78.0,79.0,78.0,80.0,84.0,84.0,84.0,84.0,84.0,81.0,80.0,79.0,78.0,74.0,71.0,71.0,74.0,80.0,84.0,63.0,57.0,48.0,34.0,33.0,32.0,33.0,34.0,34.0,33.0,32.0,35.0,38.0,41.0,41.0,41.0,41.0,38.0,34.0,34.0,28.0,28.0,28.0,28.0,28.0,28.0,51.0,51.0,57.0,61.0,61.0,71.0,71.0,74.0,74.0,107.0,15.0,15.0,18.0,18.0,18.0,18.0,18.0,18.0,18.0,18.0,18.0,15.0,15.0,12.0,8.0,2.0,5.0,5.0,9.0,10.0,11.0,12.0,0.0],[0.0,5.0,5.0,0.0,0.0,5.0,5.0,0.0,5.0,15.0,18.0,18.0,18.0,18.0,18.0,15.0,18.0,18.0,18.0,15.0,18.0,18.0,25.0,25.0,25.0,25.0,25.0,25.0,28.0,28.0,25.0,25.0,25.0,34.0,34.0,33.0,35.0,38.0,38.0,40.0,41.0,48.0,48.0,56.0,57.0,64.0,71.0,74.0,74.0,77.0,74.0,74.0,78.0,79.0,78.0,79.0,78.0,80.0,84.0,84.0,84.0,84.0,84.0,81.0,80.0,79.0,78.0,74.0,71.0,71.0,74.0,80.0,84.0,63.0,57.0,48.0,34.0,33.0,32.0,33.0,34.0,34.0,33.0,32.0,35.0,38.0,41.0,41.0,41.0,41.0,38.0,34.0,34.0,28.0,28.0,28.0,28.0,28.0,28.0,51.0,51.0,57.0,61.0,61.0,71.0,71.0,74.0,74.0,107.0,15.0,15.0,18.0,18.0,18.0,18.0,18.0,18.0,18.0,18.0,18.0,15.0,15.0,12.0,8.0,2.0,5.0,5.0,9.0,10.0,11.0,12.0,0.0],[0.0,5.0,5.0,0.0,0.0,5.0,5.0,0.0,5.0,15.0,18.0,18.0,18.0,18.0,18.0,15.0,18.0,18.0,18.0,15.0,18.0,18.0,25.0,25.0,107.0,74.0,74.0,71.0,71.0,61.0,61.0,57.0,51.0,51.0,28.0,28.0,28.0,28.0,28.0,28.0,34.0,34.0,38.0,41.0,41.0,41.0,41.0,38.0,35.0,32.0,33.0,34.0,34.0,33.0,32.0,33.0,34.0,48.0,57.0,63.0,84.0,80.0,74.0,71.0,71.0,74.0,78.0,79.0,80.0,81.0,84.0,84.0,84.0,84.0,84.0,80.0,78.0,79.0,78.0,79.0,78.0,74.0,74.0,77.0,74.0,74.0,71.0,64.0,57.0,56.0,48.0,48.0,41.0,40.0,38.0,38.0,35.0,33.0,34.0,34.0,25.0,25.0,25.0,28.0,28.0,25.0,25.0,25.0,25.0,15.0,15.0,18.0,18.0,18.0,18.0,18.0,18.0,18.0,18.0,18.0,15.0,15.0,12.0,8.0,2.0,5.0,5.0,9.0,10.0,11.0,12.0,0.0],[0.0,5.0,5.0,0.0,0.0,5.0,5.0,0.0,5.0,15.0,18.0,18.0,18.0,18.0,18.0,15.0,18.0,18.0,18.0,15.0,18.0,18.0,25.0,25.0,74.0,107.0,74.0,71.0,71.0,61.0,61.0,57.0,51.0,51.0,28.0,28.0,28.0,28.0,28.0,28.0,34.0,34.0,38.0,41.0,41.0,41.0,41.0,38.0,35.0,32.0,33.0,34.0,34.0,33.0,32.0,33.0,34.0,48.0,57.0,63.0,84.0,80.0,74.0,71.0,71.0,74.0,78.0,79.0,80.0,81.0,84.0,84.0,84.0,84.0,84.0,80.0,78.0,79.0,78.0,79.0,78.0,74.0,74.0,77.0,74.0,74.0,71.0,64.0,57.0,56.0,48.0,48.0,41.0,40.0,38.0,38.0,35.0,33.0,34.0,34.0,25.0,25.0,25.0,28.0,28.0,25.0,25.0,25.0,25.0,15.0,15.0,18.0,18.0,18.0,18.0,18.0,18.0,18.0,18.0,18.0,15.0,15.0,12.0,8.0,2.0,5.0,5.0,9.0,10.0,11.0,12.0,0.0],[0.0,5.0,5.0,0.0,0.0,5.0,5.0,0.0,5.0,15.0,18.0,18.0,18.0,18.0,18.0,15.0,18.0,18.0,18.0,15.0,18.0,18.0,25.0,25.0,74.0,107.0,74.0,71.0,71.0,61.0,61.0,57.0,51.0,51.0,28.0,28.0,28.0,28.0,28.0,28.0,34.0,34.0,38.0,41.0,41.0,41.0,41.0,38.0,35.0,32.0,33.0,34.0,34.0,33.0,32.0,33.0,34.0,48.0,57.0,63.0,84.0,80.0,74.0,71.0,71.0,74.0,78.0,79.0,80.0,81.0,84.0,84.0,84.0,84.0,84.0,80.0,78.0,79.0,78.0,79.0,78.0,74.0,74.0,77.0,74.0,74.0,71.0,64.0,57.0,56.0,48.0,48.0,41.0,40.0,38.0,38.0,35.0,33.0,34.0,34.0,25.0,25.0,25.0,28.0,28.0,25.0,25.0,25.0,25.0,15.0,15.0,18.0,18.0,18.0,18.0,18.0,18.0,18.0,18.0,18.0,15.0,15.0,12.0,8.0,2.0,5.0,5.0,9.0,10.0,11.0,12.0,0.0],[0.0,5.0,5.0,0.0,0.0,5.0,5.0,0.0,5.0,15.0,18.0,18.0,18.0,18.0,18.0,15.0,18.0,18.0,18.0,15.0,18.0,18.0,25.0,25.0,51.0,51.0,57.0,61.0,61.0,71.0,71.0,74.0,107.0,74.0,28.0,28.0,28.0,28.0,28.0,28.0,34.0,34.0,38.0,41.0,41.0,41.0,41.0,38.0,35.0,32.0,33.0,34.0,34.0,33.0,32.0,33.0,34.0,48.0,57.0,63.0,84.0,80.0,74.0,71.0,71.0,74.0,78.0,79.0,80.0,81.0,84.0,84.0,84.0,84.0,84.0,80.0,78.0,79.0,78.0,79.0,78.0,74.0,74.0,77.0,74.0,74.0,71.0,64.0,57.0,56.0,48.0,48.0,41.0,40.0,38.0,38.0,35.0,33.0,34.0,34.0,25.0,25.0,25.0,28.0,28.0,25.0,25.0,25.0,25.0,15.0,15.0,18.0,18.0,18.0,18.0,18.0,18.0,18.0,18.0,18.0,15.0,15.0,12.0,8.0,2.0,5.0,5.0,9.0,10.0,11.0,12.0,0.0],[0.0,5.0,5.0,0.0,0.0,5.0,5.0,0.0,5.0,15.0,18.0,18.0,18.0,18.0,18.0,15.0,18.0,18.0,18.0,15.0,18.0,18.0,25.0,25.0,28.0,74.0,107.0,74.0,71.0,71.0,61.0,61.0,57.0,51.0,51.0,28.0,28.0,28.0,28.0,28.0,34.0,34.0,38.0,41.0,41.0,41.0,41.0,38.0,35.0,32.0,33.0,34.0,34.0,33.0,32.0,33.0,34.0,48.0,57.0,63.0,84.0,80.0,74.0,71.0,71.0,74.0,78.0,79.0,80.0,81.0,84.0,84.0,84.0,84.0,84.0,80.0,78.0,79.0,78.0,79.0,78.0,74.0,74.0,77.0,74.0,74.0,71.0,64.0,57.0,56.0,48.0,48.0,41.0,40.0,38.0,38.0,35.0,33.0,34.0,34.0,25.0,25.0,25.0,28.0,28.0,25.0,25.0,25.0,25.0,15.0,15.0,18.0,18.0,18.0,18.0,18.0,18.0,18.0,18.0,18.0,15.0,15.0,12.0,8.0,2.0,5.0,5.0,9.0,10.0,11.0,12.0,0.0],[0.0,5.0,5.0,0.0,0.0,5.0,5.0,0.0,5.0,15.0,18.0,18.0,18.0,18.0,18.0,15.0,18.0,18.0,18.0,15.0,18.0,18.0,25.0,25.0,28.0,74.0,107.0,74.0,71.0,71.0,61.0,61.0,57.0,51.0,51.0,28.0,28.0,28.0,28.0,28.0,34.0,34.0,38.0,41.0,41.0,41.0,41.0,38.0,35.0,32.0,33.0,34.0,34.0,33.0,32.0,33.0,34.0,48.0,57.0,63.0,84.0,80.0,74.0,71.0,71.0,74.0,78.0,79.0,80.0,81.0,84.0,84.0,84.0,84.0,84.0,80.0,78.0,79.0,78.0,79.0,78.0,74.0,74.0,77.0,74.0,74.0,71.0,64.0,57.0,56.0,48.0,48.0,41.0,40.0,38.0,38.0,35.0,33.0,34.0,34.0,25.0,25.0,25.0,28.0,28.0,25.0,25.0,25.0,25.0,15.0,15.0,18.0,18.0,18.0,18.0,18.0,18.0,18.0,18.0,18.0,15.0,15.0,12.0,8.0,2.0,5.0,5.0,9.0,10.0,11.0,12.0,0.0],[0.0,5.0,5.0,0.0,0.0,5.0,5.0,0.0,5.0,15.0,18.0,18.0,18.0,18.0,18.0,15.0,18.0,18.0,18.0,15.0,18.0,18.0,25.0,25.0,28.0,28.0,51.0,51.0,57.0,61.0,61.0,71.0,71.0,74.0,107.0,74.0,28.0,28.0,28.0,28.0,34.0,34.0,38.0,41.0,41.0,41.0,41.0,38.0,35.0,32.0,33.0,34.0,34.0,33.0,32.0,33.0,34.0,48.0,57.0,63.0,84.0,80.0,74.0,71.0,71.0,74.0,78.0,79.0,80.0,81.0,84.0,84.0,84.0,84.0,84.0,80.0,78.0,79.0,78.0,79.0,78.0,74.0,74.0,77.0,74.0,74.0,71.0,64.0,57.0,56.0,48.0,48.0,41.0,40.0,38.0,38.0,35.0,33.0,34.0,34.0,25.0,25.0,25.0,28.0,28.0,25.0,25.0,25.0,25.0,15.0,15.0,18.0,18.0,18.0,18.0,18.0,18.0,18.0,18.0,18.0,15.0,15.0,12.0,8.0,2.0,5.0,5.0,9.0,10.0,11.0,12.0,0.0],[0.0,5.0,5.0,0.0,0.0,5.0,5.0,0.0,5.0,15.0,18.0,18.0,18.0,18.0,18.0,15.0,18.0,18.0,18.0,15.0,18.0,18.0,25.0,25.0,28.0,28.0,74.0,107.0,74.0,71.0,71.0,61.0,61.0,57.0,51.0,51.0,28.0,28.0,28.0,28.0,34.0,34.0,38.0,41.0,41.0,41.0,41.0,38.0,35.0,32.0,33.0,34.0,34.0,33.0,32.0,33.0,34.0,48.0,57.0,63.0,84.0,80.0,74.0,71.0,71.0,74.0,78.0,79.0,80.0,81.0,84.0,84.0,84.0,84.0,84.0,80.0,78.0,79.0,78.0,79.0,78.0,74.0,74.0,77.0,74.0,74.0,71.0,64.0,57.0,56.0,48.0,48.0,41.0,40.0,38.0,38.0,35.0,33.0,34.0,34.0,25.0,25.0,25.0,28.0,28.0,25.0,25.0,25.0,25.0,15.0,15.0,18.0,18.0,18.0,18.0,18.0,18.0,18.0,18.0,18.0,15.0,15.0,12.0,8.0,2.0,5.0,5.0,9.0,10.0,11.0,12.0,0.0],[0.0,5.0,5.0,0.0,0.0,5.0,5.0,0.0,5.0,15.0,18.0,18.0,18.0,18.0,18.0,15.0,18.0,18.0,18.0,15.0,18.0,18.0,25.0,25.0,28.0,28.0,28.0,51.0,51.0,57.0,61.0,61.0,71.0,71.0,74.0,107.0,74.0,28.0,28.0,28.0,34.0,34.0,38.0,41.0,41.0,41.0,41.0,38.0,35.0,32.0,33.0,34.0,34.0,33.0,32.0,33.0,34.0,48.0,57.0,63.0,84.0,80.0,74.0,71.0,71.0,74.0,78.0,79.0,80.0,81.0,84.0,84.0,84.0,84.0,84.0,80.0,78.0,79.0,78.0,79.0,78.0,74.0,74.0,77.0,74.0,74.0,71.0,64.0,57.0,56.0,48.0,48.0,41.0,40.0,38.0,38.0,35.0,33.0,34.0,34.0,25.0,25.0,25.0,28.0,28.0,25.0,25.0,25.0,25.0,15.0,15.0,18.0,18.0,18.0,18.0,18.0,18.0,18.0,18.0,18.0,15.0,15.0,12.0,8.0,2.0,5.0,5.0,9.0,10.0,11.0,12.0,0.0],[0.0,5.0,5.0,0.0,0.0,5.0,5.0,0.0,5.0,15.0,18.0,18.0,18.0,18.0,18.0,15.0,18.0,18.0,18.0,15.0,18.0,18.0,25.0,25.0,28.0,28.0,28.0,74.0,107.0,74.0,71.0,71.0,61.0,61.0,57.0,51.0,51.0,28.0,28.0,28.0,34.0,34.0,38.0,41.0,41.0,41.0,41.0,38.0,35.0,32.0,33.0,34.0,34.0,33.0,32.0,33.0,34.0,48.0,57.0,63.0,84.0,80.0,74.0,71.0,71.0,74.0,78.0,79.0,80.0,81.0,84.0,84.0,84.0,84.0,84.0,80.0,78.0,79.0,78.0,79.0,78.0,74.0,74.0,77.0,74.0,74.0,71.0,64.0,57.0,56.0,48.0,48.0,41.0,40.0,38.0,38.0,35.0,33.0,34.0,34.0,25.0,25.0,25.0,28.0,28.0,25.0,25.0,25.0,25.0,15.0,15.0,18.0,18.0,18.0,18.0,18.0,18.0,18.0,18.0,18.0,15.0,15.0,12.0,8.0,2.0,5.0,5.0,9.0,10.0,11.0,12.0,0.0],[0.0,5.0,5.0,0.0,0.0,5.0,5.0,0.0,5.0,15.0,18.0,18.0,18.0,18.0,18.0,15.0,18.0,18.0,18.0,15.0,18.0,18.0,25.0,25.0,28.0,28.0,28.0,28.0,28.0,28.0,51.0,51.0,57.0,61.0,61.0,71.0,71.0,74.0,107.0,74.0,34.0,34.0,38.0,41.0,41.0,41.0,41.0,38.0,35.0,32.0,33.0,34.0,34.0,33.0,32.0,33.0,34.0,48.0,57.0,63.0,84.0,80.0,74.0,71.0,71.0,74.0,78.0,79.0,80.0,81.0,84.0,84.0,84.0,84.0,84.0,80.0,78.0,79.0,78.0,79.0,78.0,74.0,74.0,77.0,74.0,74.0,71.0,64.0,57.0,56.0,48.0,48.0,41.0,40.0,38.0,38.0,35.0,33.0,34.0,34.0,25.0,25.0,25.0,28.0,28.0,25.0,25.0,25.0,25.0,15.0,15.0,18.0,18.0,18.0,18.0,18.0,18.0,18.0,18.0,18.0,15.0,15.0,12.0,8.0,2.0,5.0,5.0,9.0,10.0,11.0,12.0,0.0],[0.0,5.0,5.0,0.0,0.0,5.0,5.0,0.0,5.0,15.0,18.0,18.0,18.0,18.0,18.0,15.0,18.0,18.0,18.0,15.0,18.0,18.0,25.0,25.0,28.0,28.0,28.0,28.0,28.0,28.0,51.0,51.0,57.0,61.0,61.0,71.0,71.0,74.0,107.0,74.0,34.0,34.0,38.0,41.0,41.0,41.0,41.0,38.0,35.0,32.0,33.0,34.0,34.0,33.0,32.0,33.0,34.0,48.0,57.0,63.0,84.0,80.0,74.0,71.0,71.0,74.0,78.0,79.0,80.0,81.0,84.0,84.0,84.0,84.0,84.0,80.0,78.0,79.0,78.0,79.0,78.0,74.0,74.0,77.0,74.0,74.0,71.0,64.0,57.0,56.0,48.0,48.0,41.0,40.0,38.0,38.0,35.0,33.0,34.0,34.0,25.0,25.0,25.0,28.0,28.0,25.0,25.0,25.0,25.0,15.0,15.0,18.0,18.0,18.0,18.0,18.0,18.0,18.0,18.0,18.0,15.0,15.0,12.0,8.0,2.0,5.0,5.0,9.0,10.0,11.0,12.0,0.0],[0.0,5.0,5.0,0.0,0.0,5.0,5.0,0.0,5.0,15.0,18.0,18.0,18.0,18.0,18.0,15.0,18.0,18.0,18.0,15.0,18.0,18.0,25.0,25.0,28.0,28.0,28.0,28.0,28.0,28.0,51.0,51.0,57.0,61.0,61.0,71.0,71.0,74.0,84.0,84.0,84.0,81.0,80.0,79.0,78.0,74.0,71.0,71.0,74.0,80.0,84.0,63.0,57.0,48.0,34.0,33.0,32.0,33.0,34.0,34.0,33.0,32.0,35.0,38.0,41.0,41.0,41.0,41.0,38.0,34.0,34.0,74.0,107.0,84.0,84.0,80.0,78.0,79.0,78.0,79.0,78.0,74.0,74.0,77.0,74.0,74.0,71.0,64.0,57.0,56.0,48.0,48.0,41.0,40.0,38.0,38.0,35.0,33.0,34.0,34.0,25.0,25.0,25.0,28.0,28.0,25.0,25.0,25.0,25.0,15.0,15.0,18.0,18.0,18.0,18.0,18.0,18.0,18.0,18.0,18.0,15.0,15.0,12.0,8.0,2.0,5.0,5.0,9.0,10.0,11.0,12.0,0.0],[0.0,5.0,5.0,0.0,0.0,5.0,5.0,0.0,5.0,15.0,18.0,18.0,18.0,18.0,18.0,15.0,18.0,18.0,18.0,15.0,18.0,18.0,25.0,25.0,28.0,28.0,28.0,28.0,28.0,28.0,34.0,34.0,38.0,41.0,41.0,41.0,41.0,38.0,35.0,32.0,33.0,34.0,34.0,33.0,32.0,33.0,34.0,48.0,57.0,63.0,84.0,80.0,74.0,71.0,71.0,74.0,78.0,79.0,80.0,81.0,84.0,84.0,84.0,74.0,71.0,71.0,61.0,61.0,57.0,51.0,51.0,74.0,107.0,84.0,84.0,80.0,78.0,79.0,78.0,79.0,78.0,74.0,74.0,77.0,74.0,74.0,71.0,64.0,57.0,56.0,48.0,48.0,41.0,40.0,38.0,38.0,35.0,33.0,34.0,34.0,25.0,25.0,25.0,28.0,28.0,25.0,25.0,25.0,25.0,15.0,15.0,18.0,18.0,18.0,18.0,18.0,18.0,18.0,18.0,18.0,15.0,15.0,12.0,8.0,2.0,5.0,5.0,9.0,10.0,11.0,12.0,0.0],[0.0,5.0,5.0,0.0,0.0,5.0,5.0,0.0,5.0,15.0,18.0,18.0,18.0,18.0,18.0,15.0,18.0,18.0,18.0,15.0,18.0,18.0,25.0,25.0,28.0,28.0,28.0,28.0,28.0,28.0,34.0,34.0,38.0,41.0,41.0,41.0,41.0,38.0,35.0,34.0,33.0,32.0,34.0,33.0,32.0,33.0,34.0,48.0,57.0,63.0,84.0,80.0,74.0,71.0,71.0,74.0,78.0,79.0,80.0,81.0,84.0,84.0,84.0,74.0,71.0,71.0,61.0,61.0,57.0,51.0,51.0,74.0,107.0,84.0,84.0,80.0,78.0,79.0,78.0,79.0,78.0,74.0,74.0,77.0,74.0,74.0,71.0,64.0,57.0,56.0,48.0,48.0,41.0,40.0,38.0,38.0,35.0,33.0,34.0,34.0,25.0,25.0,25.0,28.0,28.0,25.0,25.0,25.0,25.0,15.0,15.0,18.0,18.0,18.0,18.0,18.0,18.0,18.0,18.0,18.0,15.0,15.0,12.0,8.0,2.0,5.0,5.0,9.0,10.0,11.0,12.0,0.0],[0.0,5.0,5.0,0.0,0.0,5.0,5.0,0.0,5.0,15.0,18.0,18.0,18.0,18.0,18.0,15.0,18.0,18.0,18.0,15.0,18.0,18.0,25.0,25.0,28.0,28.0,28.0,28.0,28.0,28.0,34.0,34.0,38.0,41.0,41.0,41.0,41.0,38.0,35.0,34.0,33.0,32.0,33.0,34.0,32.0,33.0,34.0,48.0,57.0,63.0,84.0,80.0,74.0,71.0,71.0,74.0,78.0,79.0,80.0,81.0,84.0,84.0,84.0,74.0,71.0,71.0,61.0,61.0,57.0,51.0,51.0,74.0,107.0,84.0,84.0,80.0,78.0,79.0,78.0,79.0,78.0,74.0,74.0,77.0,74.0,74.0,71.0,64.0,57.0,56.0,48.0,48.0,41.0,40.0,38.0,38.0,35.0,33.0,34.0,34.0,25.0,25.0,25.0,28.0,28.0,25.0,25.0,25.0,25.0,15.0,15.0,18.0,18.0,18.0,18.0,18.0,18.0,18.0,18.0,18.0,15.0,15.0,12.0,8.0,2.0,5.0,5.0,9.0,10.0,11.0,12.0,0.0],[0.0,5.0,5.0,0.0,0.0,5.0,5.0,0.0,5.0,15.0,18.0,18.0,18.0,18.0,18.0,15.0,18.0,18.0,18.0,15.0,18.0,18.0,25.0,25.0,28.0,28.0,28.0,28.0,28.0,28.0,34.0,34.0,38.0,41.0,41.0,41.0,41.0,38.0,35.0,34.0,33.0,32.0,33.0,34.0,32.0,33.0,34.0,41.0,48.0,48.0,56.0,57.0,64.0,71.0,74.0,74.0,77.0,74.0,74.0,78.0,79.0,78.0,79.0,78.0,80.0,84.0,84.0,107.0,74.0,51.0,51.0,57.0,61.0,61.0,71.0,71.0,74.0,84.0,84.0,84.0,81.0,80.0,79.0,78.0,74.0,71.0,71.0,74.0,80.0,84.0,63.0,57.0,48.0,40.0,38.0,38.0,35.0,33.0,34.0,34.0,25.0,25.0,25.0,28.0,28.0,25.0,25.0,25.0,25.0,15.0,15.0,18.0,18.0,18.0,18.0,18.0,18.0,18.0,18.0,18.0,15.0,15.0,12.0,8.0,2.0,5.0,5.0,9.0,10.0,11.0,12.0,0.0],[0.0,5.0,5.0,0.0,0.0,5.0,5.0,0.0,5.0,15.0,18.0,18.0,18.0,18.0,18.0,15.0,18.0,18.0,18.0,15.0,18.0,18.0,25.0,25.0,28.0,28.0,28.0,28.0,28.0,28.0,34.0,34.0,38.0,41.0,41.0,41.0,41.0,38.0,35.0,34.0,33.0,32.0,33.0,34.0,32.0,33.0,34.0,41.0,48.0,48.0,56.0,57.0,64.0,71.0,74.0,74.0,77.0,74.0,74.0,107.0,84.0,84.0,80.0,78.0,79.0,78.0,79.0,78.0,74.0,51.0,51.0,57.0,61.0,61.0,71.0,71.0,74.0,84.0,84.0,84.0,81.0,80.0,79.0,78.0,74.0,71.0,71.0,74.0,80.0,84.0,63.0,57.0,48.0,40.0,38.0,38.0,35.0,33.0,34.0,34.0,25.0,25.0,25.0,28.0,28.0,25.0,25.0,25.0,25.0,15.0,15.0,18.0,18.0,18.0,18.0,18.0,18.0,18.0,18.0,18.0,15.0,15.0,12.0,8.0,2.0,5.0,5.0,9.0,10.0,11.0,12.0,0.0],[0.0,5.0,5.0,0.0,0.0,5.0,5.0,0.0,5.0,15.0,18.0,18.0,18.0,18.0,18.0,15.0,18.0,18.0,18.0,15.0,18.0,18.0,25.0,25.0,28.0,28.0,28.0,28.0,28.0,28.0,34.0,34.0,38.0,41.0,41.0,41.0,41.0,38.0,35.0,34.0,33.0,32.0,33.0,34.0,32.0,33.0,34.0,41.0,48.0,48.0,56.0,57.0,64.0,71.0,74.0,74.0,77.0,74.0,74.0,84.0,107.0,84.0,80.0,78.0,79.0,78.0,79.0,78.0,74.0,51.0,51.0,57.0,61.0,61.0,71.0,71.0,74.0,84.0,84.0,84.0,81.0,80.0,79.0,78.0,74.0,71.0,71.0,74.0,80.0,84.0,63.0,57.0,48.0,40.0,38.0,38.0,35.0,33.0,34.0,34.0,25.0,25.0,25.0,28.0,28.0,25.0,25.0,25.0,25.0,15.0,15.0,18.0,18.0,18.0,18.0,18.0,18.0,18.0,18.0,18.0,15.0,15.0,12.0,8.0,2.0,5.0,5.0,9.0,10.0,11.0,12.0,0.0],[0.0,5.0,5.0,0.0,0.0,5.0,5.0,0.0,5.0,15.0,18.0,18.0,18.0,18.0,18.0,15.0,18.0,18.0,18.0,15.0,18.0,18.0,25.0,25.0,28.0,28.0,28.0,28.0,28.0,28.0,34.0,34.0,38.0,41.0,41.0,41.0,41.0,38.0,35.0,34.0,33.0,32.0,33.0,34.0,32.0,33.0,34.0,41.0,48.0,48.0,56.0,57.0,64.0,71.0,74.0,74.0,77.0,74.0,74.0,78.0,79.0,78.0,80.0,84.0,107.0,84.0,79.0,78.0,74.0,51.0,51.0,57.0,61.0,61.0,71.0,71.0,74.0,84.0,84.0,84.0,81.0,80.0,79.0,78.0,74.0,71.0,71.0,74.0,80.0,84.0,63.0,57.0,48.0,40.0,38.0,38.0,35.0,33.0,34.0,34.0,25.0,25.0,25.0,28.0,28.0,25.0,25.0,25.0,25.0,15.0,15.0,18.0,18.0,18.0,18.0,18.0,18.0,18.0,18.0,18.0,15.0,15.0,12.0,8.0,2.0,5.0,5.0,9.0,10.0,11.0,12.0,0.0],[0.0,5.0,5.0,0.0,0.0,5.0,5.0,0.0,5.0,15.0,18.0,18.0,18.0,18.0,18.0,15.0,18.0,18.0,18.0,15.0,18.0,18.0,25.0,25.0,28.0,28.0,28.0,28.0,28.0,28.0,34.0,34.0,38.0,41.0,41.0,41.0,41.0,38.0,35.0,34.0,33.0,32.0,33.0,34.0,32.0,33.0,34.0,41.0,48.0,48.0,56.0,57.0,64.0,71.0,74.0,74.0,77.0,74.0,74.0,78.0,79.0,84.0,107.0,84.0,80.0,78.0,79.0,78.0,74.0,51.0,51.0,57.0,61.0,61.0,71.0,71.0,74.0,84.0,84.0,84.0,81.0,80.0,79.0,78.0,74.0,71.0,71.0,74.0,80.0,84.0,63.0,57.0,48.0,40.0,38.0,38.0,35.0,33.0,34.0,34.0,25.0,25.0,25.0,28.0,28.0,25.0,25.0,25.0,25.0,15.0,15.0,18.0,18.0,18.0,18.0,18.0,18.0,18.0,18.0,18.0,15.0,15.0,12.0,8.0,2.0,5.0,5.0,9.0,10.0,11.0,12.0,0.0],[0.0,5.0,5.0,0.0,0.0,5.0,5.0,0.0,5.0,15.0,18.0,18.0,18.0,18.0,18.0,15.0,18.0,18.0,18.0,15.0,18.0,18.0,25.0,25.0,28.0,28.0,28.0,28.0,28.0,28.0,34.0,34.0,38.0,41.0,41.0,41.0,41.0,38.0,35.0,34.0,33.0,32.0,33.0,34.0,32.0,33.0,34.0,41.0,48.0,48.0,56.0,57.0,64.0,71.0,74.0,74.0,77.0,74.0,74.0,74.0,71.0,71.0,61.0,61.0,57.0,51.0,51.0,74.0,78.0,79.0,78.0,80.0,84.0,107.0,84.0,79.0,78.0,84.0,84.0,84.0,81.0,80.0,79.0,78.0,74.0,71.0,71.0,74.0,80.0,84.0,63.0,57.0,48.0,40.0,38.0,38.0,35.0,33.0,34.0,34.0,25.0,25.0,25.0,28.0,28.0,25.0,25.0,25.0,25.0,15.0,15.0,18.0,18.0,18.0,18.0,18.0,18.0,18.0,18.0,18.0,15.0,15.0,12.0,8.0,2.0,5.0,5.0,9.0,10.0,11.0,12.0,0.0],[0.0,5.0,5.0,0.0,0.0,5.0,5.0,0.0,5.0,15.0,18.0,18.0,18.0,18.0,18.0,15.0,18.0,18.0,18.0,15.0,18.0,18.0,25.0,25.0,28.0,28.0,28.0,28.0,28.0,28.0,34.0,34.0,38.0,41.0,41.0,41.0,41.0,38.0,35.0,34.0,33.0,32.0,33.0,34.0,32.0,33.0,34.0,41.0,48.0,48.0,56.0,57.0,64.0,71.0,74.0,74.0,77.0,74.0,74.0,51.0,51.0,57.0,61.0,61.0,71.0,71.0,74.0,74.0,78.0,79.0,78.0,80.0,84.0,107.0,84.0,79.0,78.0,84.0,84.0,84.0,81.0,80.0,79.0,78.0,74.0,71.0,71.0,74.0,80.0,84.0,63.0,57.0,48.0,40.0,38.0,38.0,35.0,33.0,34.0,34.0,25.0,25.0,25.0,28.0,28.0,25.0,25.0,25.0,25.0,15.0,15.0,18.0,18.0,18.0,18.0,18.0,18.0,18.0,18.0,18.0,15.0,15.0,12.0,8.0,2.0,5.0,5.0,9.0,10.0,11.0,12.0,0.0],[0.0,5.0,5.0,0.0,0.0,5.0,5.0,0.0,5.0,15.0,18.0,18.0,18.0,18.0,18.0,15.0,18.0,18.0,18.0,15.0,18.0,18.0,25.0,25.0,28.0,28.0,28.0,28.0,28.0,28.0,34.0,34.0,38.0,41.0,41.0,41.0,41.0,38.0,35.0,34.0,33.0,32.0,33.0,34.0,32.0,33.0,34.0,41.0,48.0,48.0,56.0,57.0,64.0,71.0,74.0,74.0,77.0,74.0,74.0,51.0,51.0,57.0,61.0,61.0,71.0,71.0,74.0,74.0,78.0,79.0,78.0,80.0,84.0,107.0,84.0,79.0,78.0,84.0,84.0,84.0,81.0,80.0,79.0,78.0,74.0,71.0,71.0,74.0,80.0,84.0,63.0,57.0,48.0,40.0,38.0,38.0,35.0,33.0,34.0,34.0,25.0,25.0,25.0,28.0,28.0,25.0,25.0,25.0,25.0,15.0,15.0,18.0,18.0,18.0,18.0,18.0,18.0,18.0,18.0,18.0,15.0,15.0,12.0,8.0,2.0,5.0,5.0,9.0,10.0,11.0,12.0,0.0],[0.0,5.0,5.0,0.0,0.0,5.0,5.0,0.0,5.0,15.0,18.0,18.0,18.0,18.0,18.0,15.0,18.0,18.0,18.0,15.0,18.0,18.0,25.0,25.0,28.0,28.0,28.0,28.0,28.0,28.0,34.0,34.0,38.0,41.0,41.0,41.0,41.0,38.0,35.0,34.0,33.0,32.0,33.0,34.0,32.0,33.0,34.0,41.0,48.0,48.0,56.0,57.0,64.0,71.0,74.0,74.0,77.0,74.0,74.0,51.0,51.0,57.0,61.0,61.0,71.0,71.0,74.0,74.0,78.0,79.0,78.0,80.0,84.0,78.0,79.0,84.0,107.0,84.0,84.0,84.0,81.0,80.0,79.0,78.0,74.0,71.0,71.0,74.0,80.0,84.0,63.0,57.0,48.0,40.0,38.0,38.0,35.0,33.0,34.0,34.0,25.0,25.0,25.0,28.0,28.0,25.0,25.0,25.0,25.0,15.0,15.0,18.0,18.0,18.0,18.0,18.0,18.0,18.0,18.0,18.0,15.0,15.0,12.0,8.0,2.0,5.0,5.0,9.0,10.0,11.0,12.0,0.0],[0.0,5.0,5.0,0.0,0.0,5.0,5.0,0.0,5.0,15.0,18.0,18.0,18.0,18.0,18.0,15.0,18.0,18.0,18.0,15.0,18.0,18.0,25.0,25.0,28.0,28.0,28.0,28.0,28.0,28.0,34.0,34.0,38.0,41.0,41.0,41.0,41.0,38.0,35.0,34.0,33.0,32.0,33.0,34.0,32.0,33.0,34.0,41.0,48.0,48.0,56.0,57.0,64.0,71.0,74.0,74.0,77.0,74.0,74.0,51.0,51.0,57.0,61.0,61.0,71.0,71.0,74.0,74.0,78.0,79.0,78.0,80.0,84.0,79.0,78.0,84.0,107.0,84.0,84.0,84.0,81.0,80.0,79.0,78.0,74.0,71.0,71.0,74.0,80.0,84.0,63.0,57.0,48.0,40.0,38.0,38.0,35.0,33.0,34.0,34.0,25.0,25.0,25.0,28.0,28.0,25.0,25.0,25.0,25.0,15.0,15.0,18.0,18.0,18.0,18.0,18.0,18.0,18.0,18.0,18.0,15.0,15.0,12.0,8.0,2.0,5.0,5.0,9.0,10.0,11.0,12.0,0.0],[0.0,5.0,5.0,0.0,0.0,5.0,5.0,0.0,5.0,15.0,18.0,18.0,18.0,18.0,18.0,15.0,18.0,18.0,18.0,15.0,18.0,18.0,25.0,25.0,28.0,28.0,28.0,28.0,28.0,28.0,34.0,34.0,38.0,41.0,41.0,41.0,41.0,38.0,35.0,34.0,33.0,32.0,33.0,34.0,32.0,33.0,34.0,41.0,48.0,48.0,56.0,57.0,64.0,71.0,74.0,74.0,77.0,74.0,74.0,51.0,51.0,57.0,61.0,61.0,71.0,71.0,74.0,74.0,78.0,79.0,78.0,80.0,84.0,79.0,78.0,84.0,84.0,107.0,84.0,84.0,81.0,80.0,79.0,78.0,74.0,71.0,71.0,74.0,80.0,84.0,63.0,57.0,48.0,40.0,38.0,38.0,35.0,33.0,34.0,34.0,25.0,25.0,25.0,28.0,28.0,25.0,25.0,25.0,25.0,15.0,15.0,18.0,18.0,18.0,18.0,18.0,18.0,18.0,18.0,18.0,15.0,15.0,12.0,8.0,2.0,5.0,5.0,9.0,10.0,11.0,12.0,0.0],[0.0,5.0,5.0,0.0,0.0,5.0,5.0,0.0,5.0,15.0,18.0,18.0,18.0,18.0,18.0,15.0,18.0,18.0,18.0,15.0,18.0,18.0,25.0,25.0,28.0,28.0,28.0,28.0,28.0,28.0,34.0,34.0,38.0,41.0,41.0,41.0,41.0,38.0,35.0,34.0,33.0,32.0,33.0,34.0,32.0,33.0,34.0,41.0,48.0,48.0,56.0,57.0,64.0,71.0,74.0,74.0,77.0,74.0,74.0,51.0,51.0,57.0,61.0,61.0,71.0,71.0,74.0,74.0,78.0,79.0,78.0,80.0,84.0,84.0,78.0,79.0,84.0,107.0,84.0,84.0,81.0,80.0,79.0,78.0,74.0,71.0,71.0,74.0,80.0,84.0,63.0,57.0,48.0,40.0,38.0,38.0,35.0,33.0,34.0,34.0,25.0,25.0,25.0,28.0,28.0,25.0,25.0,25.0,25.0,15.0,15.0,18.0,18.0,18.0,18.0,18.0,18.0,18.0,18.0,18.0,15.0,15.0,12.0,8.0,2.0,5.0,5.0,9.0,10.0,11.0,12.0,0.0],[0.0,5.0,5.0,0.0,0.0,5.0,5.0,0.0,5.0,15.0,18.0,18.0,18.0,18.0,18.0,15.0,18.0,18.0,18.0,15.0,18.0,18.0,25.0,25.0,28.0,28.0,28.0,28.0,28.0,28.0,34.0,34.0,38.0,41.0,41.0,41.0,41.0,38.0,35.0,34.0,33.0,32.0,33.0,34.0,32.0,33.0,34.0,41.0,48.0,48.0,56.0,57.0,64.0,71.0,74.0,74.0,77.0,74.0,74.0,51.0,51.0,57.0,61.0,61.0,71.0,71.0,74.0,74.0,78.0,79.0,78.0,80.0,84.0,84.0,79.0,78.0,84.0,107.0,84.0,84.0,81.0,80.0,79.0,78.0,74.0,71.0,71.0,74.0,80.0,84.0,63.0,57.0,48.0,40.0,38.0,38.0,35.0,33.0,34.0,34.0,25.0,25.0,25.0,28.0,28.0,25.0,25.0,25.0,25.0,15.0,15.0,18.0,18.0,18.0,18.0,18.0,18.0,18.0,18.0,18.0,15.0,15.0,12.0,8.0,2.0,5.0,5.0,9.0,10.0,11.0,12.0,0.0],[0.0,5.0,5.0,0.0,0.0,5.0,5.0,0.0,5.0,15.0,18.0,18.0,18.0,18.0,18.0,15.0,18.0,18.0,18.0,15.0,18.0,18.0,25.0,25.0,28.0,28.0,28.0,28.0,28.0,28.0,34.0,34.0,38.0,41.0,41.0,41.0,41.0,38.0,35.0,34.0,33.0,32.0,33.0,34.0,32.0,33.0,34.0,41.0,48.0,48.0,56.0,57.0,64.0,71.0,74.0,74.0,77.0,74.0,74.0,51.0,51.0,57.0,61.0,61.0,71.0,71.0,74.0,74.0,78.0,79.0,78.0,80.0,84.0,84.0,79.0,78.0,84.0,107.0,84.0,84.0,81.0,80.0,79.0,84.0,80.0,74.0,71.0,71.0,74.0,78.0,63.0,57.0,48.0,40.0,38.0,38.0,35.0,33.0,34.0,34.0,25.0,25.0,25.0,28.0,28.0,25.0,25.0,25.0,25.0,15.0,15.0,18.0,18.0,18.0,18.0,18.0,18.0,18.0,18.0,18.0,15.0,15.0,12.0,8.0,2.0,5.0,5.0,9.0,10.0,11.0,12.0,0.0],[0.0,5.0,5.0,0.0,0.0,5.0,5.0,0.0,5.0,15.0,18.0,18.0,18.0,18.0,18.0,15.0,18.0,18.0,18.0,15.0,18.0,18.0,25.0,25.0,28.0,28.0,28.0,28.0,28.0,28.0,34.0,34.0,38.0,41.0,41.0,41.0,41.0,38.0,35.0,34.0,33.0,32.0,33.0,34.0,32.0,33.0,34.0,41.0,48.0,48.0,56.0,57.0,64.0,71.0,74.0,74.0,77.0,74.0,74.0,51.0,51.0,57.0,61.0,61.0,71.0,71.0,74.0,74.0,78.0,79.0,78.0,80.0,84.0,84.0,79.0,78.0,84.0,107.0,84.0,84.0,81.0,79.0,80.0,84.0,80.0,74.0,71.0,71.0,74.0,78.0,63.0,57.0,48.0,40.0,38.0,38.0,35.0,33.0,34.0,34.0,25.0,25.0,25.0,28.0,28.0,25.0,25.0,25.0,25.0,15.0,15.0,18.0,18.0,18.0,18.0,18.0,18.0,18.0,18.0,18.0,15.0,15.0,12.0,8.0,2.0,5.0,5.0,9.0,10.0,11.0,12.0,0.0],[0.0,5.0,5.0,0.0,0.0,5.0,5.0,0.0,5.0,15.0,18.0,18.0,18.0,18.0,18.0,15.0,18.0,18.0,18.0,15.0,18.0,18.0,25.0,25.0,28.0,28.0,28.0,28.0,28.0,28.0,34.0,34.0,38.0,41.0,41.0,41.0,41.0,38.0,35.0,34.0,33.0,32.0,33.0,34.0,32.0,33.0,34.0,41.0,48.0,48.0,56.0,57.0,64.0,71.0,74.0,74.0,77.0,74.0,74.0,51.0,51.0,57.0,61.0,61.0,71.0,71.0,74.0,74.0,78.0,79.0,78.0,80.0,84.0,84.0,79.0,78.0,84.0,107.0,84.0,84.0,81.0,74.0,71.0,71.0,74.0,80.0,84.0,80.0,79.0,78.0,63.0,57.0,48.0,40.0,38.0,38.0,35.0,33.0,34.0,34.0,25.0,25.0,25.0,28.0,28.0,25.0,25.0,25.0,25.0,15.0,15.0,18.0,18.0,18.0,18.0,18.0,18.0,18.0,18.0,18.0,15.0,15.0,12.0,8.0,2.0,5.0,5.0,9.0,10.0,11.0,12.0,0.0],[0.0,5.0,5.0,0.0,0.0,5.0,5.0,0.0,5.0,15.0,18.0,18.0,18.0,18.0,18.0,15.0,18.0,18.0,18.0,15.0,18.0,18.0,25.0,25.0,28.0,28.0,28.0,28.0,28.0,28.0,34.0,34.0,38.0,41.0,41.0,41.0,41.0,38.0,35.0,34.0,33.0,32.0,33.0,34.0,32.0,33.0,34.0,41.0,48.0,48.0,56.0,57.0,64.0,71.0,74.0,74.0,77.0,74.0,74.0,51.0,51.0,57.0,61.0,61.0,71.0,71.0,74.0,74.0,78.0,79.0,78.0,80.0,84.0,84.0,79.0,78.0,84.0,107.0,84.0,84.0,81.0,78.0,79.0,80.0,84.0,80.0,74.0,71.0,71.0,74.0,63.0,57.0,48.0,40.0,38.0,38.0,35.0,33.0,34.0,34.0,25.0,25.0,25.0,28.0,28.0,25.0,25.0,25.0,25.0,15.0,15.0,18.0,18.0,18.0,18.0,18.0,18.0,18.0,18.0,18.0,15.0,15.0,12.0,8.0,2.0,5.0,5.0,9.0,10.0,11.0,12.0,0.0],[0.0,5.0,5.0,0.0,0.0,5.0,5.0,0.0,5.0,15.0,18.0,18.0,18.0,18.0,18.0,15.0,18.0,18.0,18.0,15.0,18.0,18.0,25.0,25.0,28.0,28.0,28.0,28.0,28.0,28.0,34.0,34.0,38.0,41.0,41.0,41.0,41.0,38.0,35.0,34.0,33.0,32.0,33.0,34.0,32.0,33.0,34.0,41.0,48.0,48.0,56.0,57.0,64.0,71.0,74.0,74.0,77.0,74.0,74.0,51.0,51.0,57.0,61.0,61.0,71.0,71.0,74.0,74.0,78.0,79.0,78.0,80.0,84.0,84.0,79.0,78.0,84.0,107.0,84.0,84.0,81.0,78.0,79.0,80.0,84.0,80.0,74.0,71.0,71.0,74.0,63.0,57.0,48.0,40.0,38.0,38.0,35.0,33.0,34.0,34.0,25.0,25.0,25.0,28.0,28.0,25.0,25.0,25.0,25.0,15.0,15.0,18.0,18.0,18.0,18.0,18.0,18.0,18.0,18.0,18.0,15.0,15.0,12.0,8.0,2.0,5.0,5.0,9.0,10.0,11.0,12.0,0.0],[0.0,5.0,5.0,0.0,0.0,5.0,5.0,0.0,5.0,15.0,18.0,18.0,18.0,18.0,18.0,15.0,18.0,18.0,18.0,15.0,18.0,18.0,25.0,25.0,28.0,28.0,28.0,28.0,28.0,28.0,34.0,34.0,38.0,41.0,41.0,41.0,41.0,38.0,35.0,34.0,33.0,32.0,33.0,34.0,32.0,33.0,34.0,41.0,48.0,48.0,56.0,57.0,64.0,71.0,74.0,74.0,77.0,74.0,74.0,51.0,51.0,57.0,61.0,61.0,71.0,71.0,74.0,74.0,78.0,79.0,78.0,80.0,84.0,84.0,79.0,78.0,84.0,107.0,84.0,84.0,81.0,78.0,79.0,80.0,84.0,80.0,74.0,74.0,71.0,71.0,63.0,57.0,48.0,40.0,38.0,38.0,35.0,33.0,34.0,34.0,25.0,25.0,25.0,28.0,28.0,25.0,25.0,25.0,25.0,15.0,15.0,18.0,18.0,18.0,18.0,18.0,18.0,18.0,18.0,18.0,15.0,15.0,12.0,8.0,2.0,5.0,5.0,9.0,10.0,11.0,12.0,0.0],[0.0,5.0,5.0,0.0,0.0,5.0,5.0,0.0,5.0,15.0,18.0,18.0,18.0,18.0,18.0,15.0,18.0,18.0,18.0,15.0,18.0,18.0,25.0,25.0,28.0,28.0,28.0,28.0,28.0,28.0,34.0,34.0,38.0,41.0,41.0,41.0,41.0,38.0,35.0,34.0,33.0,32.0,33.0,34.0,32.0,33.0,34.0,41.0,48.0,48.0,56.0,57.0,64.0,71.0,74.0,74.0,77.0,74.0,74.0,51.0,51.0,57.0,61.0,61.0,71.0,71.0,74.0,74.0,78.0,79.0,78.0,80.0,84.0,84.0,79.0,78.0,84.0,107.0,84.0,84.0,81.0,78.0,79.0,80.0,84.0,80.0,74.0,74.0,71.0,71.0,63.0,57.0,48.0,40.0,38.0,38.0,35.0,34.0,33.0,34.0,25.0,25.0,25.0,28.0,28.0,25.0,25.0,25.0,25.0,15.0,15.0,18.0,18.0,18.0,18.0,18.0,18.0,18.0,18.0,18.0,15.0,15.0,12.0,8.0,2.0,5.0,5.0,9.0,10.0,11.0,12.0,0.0],[0.0,5.0,5.0,0.0,0.0,5.0,5.0,0.0,5.0,15.0,18.0,18.0,18.0,18.0,18.0,15.0,18.0,18.0,18.0,15.0,18.0,18.0,25.0,25.0,28.0,28.0,28.0,28.0,28.0,28.0,34.0,34.0,38.0,41.0,41.0,41.0,41.0,38.0,35.0,34.0,33.0,32.0,33.0,34.0,32.0,33.0,34.0,41.0,48.0,48.0,56.0,57.0,64.0,71.0,74.0,74.0,77.0,74.0,74.0,51.0,51.0,57.0,61.0,61.0,71.0,71.0,74.0,74.0,78.0,79.0,78.0,80.0,84.0,84.0,79.0,78.0,84.0,107.0,84.0,84.0,81.0,78.0,79.0,80.0,84.0,80.0,74.0,74.0,71.0,71.0,63.0,57.0,48.0,40.0,38.0,38.0,35.0,34.0,33.0,34.0,25.0,25.0,25.0,28.0,28.0,25.0,25.0,25.0,25.0,18.0,15.0,15.0,18.0,18.0,18.0,18.0,18.0,18.0,18.0,18.0,15.0,15.0,12.0,8.0,2.0,5.0,5.0,9.0,10.0,11.0,12.0,0.0],[0.0,5.0,5.0,0.0,0.0,5.0,5.0,0.0,5.0,15.0,18.0,18.0,18.0,18.0,18.0,15.0,18.0,18.0,18.0,15.0,18.0,18.0,25.0,25.0,28.0,28.0,28.0,28.0,28.0,28.0,34.0,34.0,38.0,41.0,41.0,41.0,41.0,38.0,35.0,34.0,33.0,32.0,33.0,34.0,32.0,33.0,34.0,41.0,48.0,48.0,56.0,57.0,64.0,71.0,74.0,74.0,77.0,74.0,74.0,51.0,51.0,57.0,61.0,61.0,71.0,71.0,74.0,74.0,78.0,79.0,78.0,80.0,84.0,84.0,79.0,78.0,84.0,107.0,84.0,84.0,81.0,78.0,79.0,80.0,84.0,80.0,74.0,74.0,71.0,71.0,63.0,57.0,48.0,40.0,38.0,38.0,35.0,34.0,33.0,34.0,25.0,25.0,25.0,28.0,28.0,25.0,25.0,25.0,25.0,18.0,15.0,18.0,18.0,15.0,18.0,18.0,18.0,18.0,18.0,18.0,15.0,15.0,12.0,8.0,2.0,5.0,5.0,9.0,10.0,11.0,12.0,0.0],[0.0,5.0,5.0,0.0,0.0,5.0,5.0,0.0,5.0,15.0,18.0,18.0,18.0,18.0,18.0,15.0,18.0,18.0,18.0,15.0,18.0,18.0,25.0,25.0,28.0,28.0,28.0,28.0,28.0,28.0,34.0,34.0,38.0,41.0,41.0,41.0,41.0,38.0,35.0,34.0,33.0,32.0,33.0,34.0,32.0,33.0,34.0,41.0,48.0,48.0,56.0,57.0,64.0,71.0,74.0,74.0,77.0,74.0,74.0,51.0,51.0,57.0,61.0,61.0,71.0,71.0,74.0,74.0,78.0,79.0,78.0,80.0,84.0,84.0,79.0,78.0,84.0,107.0,84.0,84.0,81.0,78.0,79.0,80.0,84.0,80.0,74.0,74.0,71.0,71.0,63.0,57.0,48.0,40.0,38.0,38.0,35.0,34.0,33.0,34.0,25.0,25.0,25.0,28.0,28.0,25.0,25.0,25.0,25.0,18.0,18.0,18.0,15.0,15.0,18.0,18.0,18.0,18.0,18.0,18.0,15.0,15.0,12.0,8.0,2.0,5.0,5.0,9.0,10.0,11.0,12.0,0.0],[0.0,5.0,5.0,0.0,0.0,5.0,5.0,0.0,5.0,15.0,18.0,18.0,18.0,18.0,18.0,15.0,18.0,18.0,18.0,15.0,18.0,18.0,25.0,25.0,28.0,28.0,28.0,28.0,28.0,28.0,34.0,34.0,38.0,41.0,41.0,41.0,41.0,38.0,35.0,34.0,33.0,32.0,33.0,34.0,32.0,33.0,34.0,41.0,48.0,48.0,56.0,57.0,64.0,71.0,74.0,74.0,77.0,74.0,74.0,51.0,51.0,57.0,61.0,61.0,71.0,71.0,74.0,74.0,78.0,79.0,78.0,80.0,84.0,84.0,79.0,78.0,84.0,107.0,84.0,84.0,81.0,78.0,79.0,80.0,84.0,80.0,74.0,74.0,71.0,71.0,63.0,57.0,48.0,40.0,38.0,38.0,35.0,34.0,33.0,34.0,25.0,25.0,25.0,28.0,28.0,25.0,25.0,25.0,25.0,18.0,18.0,18.0,15.0,15.0,18.0,18.0,18.0,18.0,18.0,18.0,15.0,15.0,12.0,8.0,2.0,5.0,12.0,11.0,10.0,9.0,5.0,0.0],[0.0,5.0,5.0,0.0,0.0,5.0,5.0,0.0,5.0,15.0,18.0,18.0,18.0,18.0,18.0,15.0,18.0,18.0,18.0,15.0,18.0,18.0,25.0,25.0,28.0,28.0,28.0,28.0,28.0,28.0,34.0,34.0,38.0,41.0,41.0,41.0,41.0,38.0,35.0,34.0,33.0,32.0,33.0,34.0,32.0,33.0,34.0,41.0,48.0,48.0,56.0,57.0,64.0,71.0,74.0,74.0,77.0,74.0,74.0,51.0,51.0,57.0,61.0,61.0,71.0,71.0,74.0,74.0,78.0,79.0,78.0,80.0,84.0,84.0,79.0,78.0,84.0,107.0,84.0,84.0,81.0,78.0,79.0,80.0,84.0,80.0,74.0,74.0,71.0,71.0,63.0,57.0,48.0,40.0,38.0,38.0,35.0,34.0,33.0,34.0,25.0,25.0,25.0,28.0,28.0,25.0,25.0,25.0,25.0,18.0,18.0,18.0,15.0,15.0,18.0,18.0,18.0,18.0,18.0,18.0,15.0,15.0,12.0,8.0,2.0,5.0,9.0,10.0,11.0,12.0,5.0,0.0]],\"edges_y\":[[13.0,13.0,10.0,10.0,10.0,10.0,8.0,5.0,0.0,0.0,8.0,19.0,25.0,26.0,27.0,31.0,37.0,39.0,43.0,43.0,44.0,45.0,42.0,41.0,39.0,37.0,35.0,33.0,31.0,29.0,27.0,25.0,23.0,21.0,19.0,17.0,15.0,13.0,11.0,13.0,19.0,25.0,31.0,37.0,29.0,28.0,26.0,24.0,23.0,22.0,20.0,16.0,15.0,11.0,9.0,5.0,15.0,15.0,17.0,16.0,20.0,22.0,23.0,22.0,27.0,25.0,25.0,22.0,16.0,16.0,20.0,21.0,24.0,29.0,32.0,33.0,35.0,37.0,39.0,41.0,38.0,34.0,29.0,24.0,20.0,17.0,10.0,10.0,10.0,12.0,11.0,13.0,6.0,5.0,6.0,6.0,12.0,6.0,26.0,26.0,26.0,29.0,29.0,31.0,31.0,31.0,31.0,30.0,32.0,34.0,35.0,36.0,34.0,38.0,41.0,40.0,43.0,47.0,34.0,30.0,28.0,45.0,47.0,44.0,45.0,47.0,47.0,45.0,39.0,35.0,27.0,13.0],[13.0,8.0,0.0,0.0,5.0,8.0,10.0,10.0,10.0,10.0,13.0,19.0,25.0,26.0,27.0,31.0,37.0,39.0,43.0,43.0,44.0,45.0,42.0,41.0,39.0,37.0,35.0,33.0,31.0,29.0,27.0,25.0,23.0,21.0,19.0,17.0,15.0,13.0,11.0,13.0,19.0,25.0,31.0,37.0,29.0,28.0,26.0,24.0,23.0,22.0,20.0,16.0,15.0,11.0,9.0,5.0,15.0,15.0,17.0,16.0,20.0,22.0,23.0,22.0,27.0,25.0,25.0,22.0,16.0,16.0,20.0,21.0,24.0,29.0,32.0,33.0,35.0,37.0,39.0,41.0,38.0,34.0,29.0,24.0,20.0,17.0,10.0,10.0,10.0,12.0,11.0,13.0,6.0,5.0,6.0,6.0,12.0,6.0,26.0,26.0,26.0,29.0,29.0,31.0,31.0,31.0,31.0,30.0,32.0,34.0,35.0,36.0,34.0,38.0,41.0,40.0,43.0,47.0,34.0,30.0,28.0,45.0,47.0,44.0,45.0,47.0,47.0,45.0,39.0,35.0,27.0,13.0],[13.0,8.0,0.0,0.0,5.0,8.0,27.0,35.0,39.0,45.0,47.0,47.0,45.0,44.0,47.0,45.0,28.0,30.0,34.0,47.0,43.0,40.0,41.0,38.0,34.0,36.0,35.0,34.0,32.0,30.0,31.0,31.0,31.0,31.0,29.0,29.0,26.0,26.0,26.0,6.0,12.0,6.0,6.0,5.0,6.0,13.0,11.0,12.0,10.0,10.0,10.0,17.0,20.0,24.0,29.0,34.0,38.0,41.0,39.0,37.0,35.0,33.0,32.0,29.0,24.0,21.0,20.0,16.0,16.0,22.0,25.0,25.0,27.0,22.0,23.0,22.0,20.0,16.0,17.0,15.0,15.0,5.0,9.0,11.0,15.0,16.0,20.0,22.0,23.0,24.0,26.0,28.0,29.0,37.0,31.0,25.0,19.0,13.0,11.0,13.0,15.0,17.0,19.0,21.0,23.0,25.0,27.0,29.0,31.0,33.0,35.0,37.0,39.0,41.0,42.0,45.0,44.0,43.0,43.0,39.0,37.0,31.0,27.0,26.0,25.0,19.0,13.0,10.0,10.0,10.0,10.0,13.0],[13.0,19.0,25.0,26.0,27.0,31.0,37.0,39.0,43.0,43.0,44.0,45.0,42.0,41.0,39.0,37.0,35.0,33.0,31.0,29.0,27.0,25.0,23.0,21.0,19.0,17.0,15.0,13.0,11.0,13.0,19.0,25.0,31.0,37.0,29.0,28.0,26.0,24.0,23.0,22.0,20.0,16.0,15.0,11.0,9.0,5.0,15.0,15.0,17.0,16.0,20.0,22.0,23.0,22.0,27.0,25.0,25.0,22.0,16.0,16.0,20.0,21.0,24.0,29.0,32.0,33.0,35.0,37.0,39.0,41.0,38.0,34.0,29.0,24.0,20.0,17.0,10.0,10.0,10.0,12.0,11.0,13.0,6.0,5.0,6.0,6.0,12.0,6.0,26.0,26.0,26.0,29.0,29.0,31.0,31.0,31.0,31.0,30.0,32.0,34.0,35.0,36.0,34.0,38.0,41.0,40.0,43.0,47.0,34.0,30.0,28.0,45.0,47.0,44.0,45.0,47.0,47.0,45.0,39.0,35.0,27.0,8.0,5.0,0.0,0.0,8.0,13.0,10.0,10.0,10.0,10.0,13.0],[13.0,19.0,25.0,26.0,27.0,31.0,37.0,39.0,43.0,43.0,45.0,44.0,42.0,41.0,39.0,37.0,35.0,33.0,31.0,29.0,27.0,25.0,23.0,21.0,19.0,17.0,15.0,13.0,11.0,13.0,19.0,25.0,31.0,37.0,29.0,28.0,26.0,24.0,23.0,22.0,20.0,16.0,15.0,11.0,9.0,5.0,15.0,15.0,17.0,16.0,20.0,22.0,23.0,22.0,27.0,25.0,25.0,22.0,16.0,16.0,20.0,21.0,24.0,29.0,32.0,33.0,35.0,37.0,39.0,41.0,38.0,34.0,29.0,24.0,20.0,17.0,10.0,10.0,10.0,12.0,11.0,13.0,6.0,5.0,6.0,6.0,12.0,6.0,26.0,26.0,26.0,29.0,29.0,31.0,31.0,31.0,31.0,30.0,32.0,34.0,35.0,36.0,34.0,38.0,41.0,40.0,43.0,47.0,34.0,30.0,28.0,45.0,47.0,44.0,45.0,47.0,47.0,45.0,39.0,35.0,27.0,8.0,5.0,0.0,0.0,8.0,13.0,10.0,10.0,10.0,10.0,13.0],[13.0,19.0,25.0,26.0,27.0,31.0,37.0,39.0,43.0,43.0,45.0,44.0,42.0,41.0,39.0,37.0,31.0,25.0,19.0,13.0,11.0,13.0,15.0,17.0,19.0,21.0,23.0,25.0,27.0,29.0,31.0,33.0,35.0,37.0,29.0,28.0,26.0,24.0,23.0,22.0,20.0,16.0,15.0,11.0,9.0,5.0,15.0,15.0,17.0,16.0,20.0,22.0,23.0,22.0,27.0,25.0,25.0,22.0,16.0,16.0,20.0,21.0,24.0,29.0,32.0,33.0,35.0,37.0,39.0,41.0,38.0,34.0,29.0,24.0,20.0,17.0,10.0,10.0,10.0,12.0,11.0,13.0,6.0,5.0,6.0,6.0,12.0,6.0,26.0,26.0,26.0,29.0,29.0,31.0,31.0,31.0,31.0,30.0,32.0,34.0,35.0,36.0,34.0,38.0,41.0,40.0,43.0,47.0,34.0,30.0,28.0,45.0,47.0,44.0,45.0,47.0,47.0,45.0,39.0,35.0,27.0,8.0,5.0,0.0,0.0,8.0,13.0,10.0,10.0,10.0,10.0,13.0],[13.0,19.0,25.0,26.0,27.0,31.0,37.0,39.0,43.0,43.0,45.0,44.0,42.0,41.0,39.0,37.0,37.0,35.0,33.0,31.0,29.0,27.0,25.0,23.0,21.0,19.0,17.0,15.0,13.0,11.0,13.0,19.0,25.0,31.0,29.0,28.0,26.0,24.0,23.0,22.0,20.0,16.0,15.0,11.0,9.0,5.0,15.0,15.0,17.0,16.0,20.0,22.0,23.0,22.0,27.0,25.0,25.0,22.0,16.0,16.0,20.0,21.0,24.0,29.0,32.0,33.0,35.0,37.0,39.0,41.0,38.0,34.0,29.0,24.0,20.0,17.0,10.0,10.0,10.0,12.0,11.0,13.0,6.0,5.0,6.0,6.0,12.0,6.0,26.0,26.0,26.0,29.0,29.0,31.0,31.0,31.0,31.0,30.0,32.0,34.0,35.0,36.0,34.0,38.0,41.0,40.0,43.0,47.0,34.0,30.0,28.0,45.0,47.0,44.0,45.0,47.0,47.0,45.0,39.0,35.0,27.0,8.0,5.0,0.0,0.0,8.0,13.0,10.0,10.0,10.0,10.0,13.0],[13.0,19.0,25.0,26.0,27.0,31.0,37.0,39.0,43.0,43.0,45.0,44.0,42.0,41.0,39.0,37.0,37.0,35.0,33.0,31.0,25.0,19.0,13.0,11.0,13.0,15.0,17.0,19.0,21.0,23.0,25.0,27.0,29.0,31.0,29.0,28.0,26.0,24.0,23.0,22.0,20.0,16.0,15.0,11.0,9.0,5.0,15.0,15.0,17.0,16.0,20.0,22.0,23.0,22.0,27.0,25.0,25.0,22.0,16.0,16.0,20.0,21.0,24.0,29.0,32.0,33.0,35.0,37.0,39.0,41.0,38.0,34.0,29.0,24.0,20.0,17.0,10.0,10.0,10.0,12.0,11.0,13.0,6.0,5.0,6.0,6.0,12.0,6.0,26.0,26.0,26.0,29.0,29.0,31.0,31.0,31.0,31.0,30.0,32.0,34.0,35.0,36.0,34.0,38.0,41.0,40.0,43.0,47.0,34.0,30.0,28.0,45.0,47.0,44.0,45.0,47.0,47.0,45.0,39.0,35.0,27.0,8.0,5.0,0.0,0.0,8.0,13.0,10.0,10.0,10.0,10.0,13.0],[13.0,19.0,25.0,26.0,27.0,31.0,37.0,39.0,43.0,43.0,45.0,44.0,42.0,41.0,39.0,37.0,37.0,35.0,33.0,31.0,25.0,19.0,27.0,35.0,39.0,45.0,47.0,47.0,45.0,44.0,47.0,45.0,28.0,30.0,34.0,47.0,43.0,40.0,41.0,38.0,34.0,36.0,35.0,34.0,32.0,30.0,31.0,31.0,31.0,31.0,29.0,29.0,26.0,26.0,26.0,6.0,12.0,6.0,6.0,5.0,6.0,13.0,11.0,12.0,10.0,10.0,10.0,17.0,20.0,24.0,29.0,34.0,38.0,41.0,39.0,37.0,35.0,33.0,32.0,29.0,24.0,21.0,20.0,16.0,16.0,22.0,25.0,25.0,27.0,22.0,23.0,22.0,20.0,16.0,17.0,15.0,15.0,5.0,9.0,11.0,15.0,16.0,20.0,22.0,23.0,24.0,26.0,28.0,29.0,31.0,29.0,27.0,25.0,23.0,21.0,19.0,17.0,15.0,13.0,11.0,13.0,8.0,5.0,0.0,0.0,8.0,13.0,10.0,10.0,10.0,10.0,13.0],[13.0,19.0,25.0,26.0,27.0,31.0,37.0,39.0,43.0,43.0,45.0,44.0,42.0,41.0,39.0,37.0,37.0,35.0,33.0,31.0,29.0,31.0,29.0,28.0,26.0,24.0,23.0,22.0,20.0,16.0,15.0,11.0,9.0,5.0,15.0,15.0,17.0,16.0,20.0,22.0,23.0,22.0,27.0,25.0,25.0,22.0,16.0,16.0,20.0,21.0,24.0,29.0,32.0,33.0,35.0,37.0,39.0,41.0,38.0,34.0,29.0,24.0,20.0,17.0,10.0,10.0,10.0,12.0,11.0,13.0,6.0,5.0,6.0,6.0,12.0,6.0,26.0,26.0,26.0,29.0,29.0,31.0,31.0,31.0,31.0,30.0,32.0,34.0,35.0,36.0,34.0,38.0,41.0,40.0,43.0,47.0,34.0,30.0,28.0,45.0,47.0,44.0,45.0,47.0,47.0,45.0,39.0,35.0,27.0,19.0,25.0,27.0,25.0,23.0,21.0,19.0,17.0,15.0,13.0,11.0,13.0,8.0,5.0,0.0,0.0,8.0,13.0,10.0,10.0,10.0,10.0,13.0],[13.0,19.0,25.0,26.0,27.0,31.0,37.0,39.0,43.0,43.0,45.0,44.0,42.0,41.0,39.0,37.0,37.0,35.0,33.0,31.0,31.0,29.0,29.0,28.0,26.0,24.0,23.0,22.0,20.0,16.0,15.0,11.0,9.0,5.0,15.0,15.0,17.0,16.0,20.0,22.0,23.0,22.0,27.0,25.0,25.0,22.0,16.0,16.0,20.0,21.0,24.0,29.0,32.0,33.0,35.0,37.0,39.0,41.0,38.0,34.0,29.0,24.0,20.0,17.0,10.0,10.0,10.0,12.0,11.0,13.0,6.0,5.0,6.0,6.0,12.0,6.0,26.0,26.0,26.0,29.0,29.0,31.0,31.0,31.0,31.0,30.0,32.0,34.0,35.0,36.0,34.0,38.0,41.0,40.0,43.0,47.0,34.0,30.0,28.0,45.0,47.0,44.0,45.0,47.0,47.0,45.0,39.0,35.0,27.0,19.0,25.0,27.0,25.0,23.0,21.0,19.0,17.0,15.0,13.0,11.0,13.0,8.0,5.0,0.0,0.0,8.0,13.0,10.0,10.0,10.0,10.0,13.0],[13.0,19.0,25.0,26.0,27.0,31.0,37.0,39.0,43.0,43.0,45.0,44.0,42.0,41.0,39.0,37.0,37.0,35.0,33.0,31.0,31.0,29.0,29.0,28.0,27.0,35.0,39.0,45.0,47.0,47.0,45.0,44.0,47.0,45.0,28.0,30.0,34.0,47.0,43.0,40.0,41.0,38.0,34.0,36.0,35.0,34.0,32.0,30.0,31.0,31.0,31.0,31.0,29.0,29.0,26.0,26.0,26.0,6.0,12.0,6.0,6.0,5.0,6.0,13.0,11.0,12.0,10.0,10.0,10.0,17.0,20.0,24.0,29.0,34.0,38.0,41.0,39.0,37.0,35.0,33.0,32.0,29.0,24.0,21.0,20.0,16.0,16.0,22.0,25.0,25.0,27.0,22.0,23.0,22.0,20.0,16.0,17.0,15.0,15.0,5.0,9.0,11.0,15.0,16.0,20.0,22.0,23.0,24.0,26.0,19.0,25.0,27.0,25.0,23.0,21.0,19.0,17.0,15.0,13.0,11.0,13.0,8.0,5.0,0.0,0.0,8.0,13.0,10.0,10.0,10.0,10.0,13.0],[13.0,19.0,25.0,26.0,27.0,31.0,37.0,39.0,43.0,43.0,45.0,44.0,42.0,41.0,39.0,37.0,37.0,35.0,33.0,31.0,31.0,29.0,29.0,28.0,35.0,27.0,39.0,45.0,47.0,47.0,45.0,44.0,47.0,45.0,28.0,30.0,34.0,47.0,43.0,40.0,41.0,38.0,34.0,36.0,35.0,34.0,32.0,30.0,31.0,31.0,31.0,31.0,29.0,29.0,26.0,26.0,26.0,6.0,12.0,6.0,6.0,5.0,6.0,13.0,11.0,12.0,10.0,10.0,10.0,17.0,20.0,24.0,29.0,34.0,38.0,41.0,39.0,37.0,35.0,33.0,32.0,29.0,24.0,21.0,20.0,16.0,16.0,22.0,25.0,25.0,27.0,22.0,23.0,22.0,20.0,16.0,17.0,15.0,15.0,5.0,9.0,11.0,15.0,16.0,20.0,22.0,23.0,24.0,26.0,19.0,25.0,27.0,25.0,23.0,21.0,19.0,17.0,15.0,13.0,11.0,13.0,8.0,5.0,0.0,0.0,8.0,13.0,10.0,10.0,10.0,10.0,13.0],[13.0,19.0,25.0,26.0,27.0,31.0,37.0,39.0,43.0,43.0,45.0,44.0,42.0,41.0,39.0,37.0,37.0,35.0,33.0,31.0,31.0,29.0,28.0,29.0,35.0,27.0,39.0,45.0,47.0,47.0,45.0,44.0,47.0,45.0,28.0,30.0,34.0,47.0,43.0,40.0,41.0,38.0,34.0,36.0,35.0,34.0,32.0,30.0,31.0,31.0,31.0,31.0,29.0,29.0,26.0,26.0,26.0,6.0,12.0,6.0,6.0,5.0,6.0,13.0,11.0,12.0,10.0,10.0,10.0,17.0,20.0,24.0,29.0,34.0,38.0,41.0,39.0,37.0,35.0,33.0,32.0,29.0,24.0,21.0,20.0,16.0,16.0,22.0,25.0,25.0,27.0,22.0,23.0,22.0,20.0,16.0,17.0,15.0,15.0,5.0,9.0,11.0,15.0,16.0,20.0,22.0,23.0,24.0,26.0,19.0,25.0,27.0,25.0,23.0,21.0,19.0,17.0,15.0,13.0,11.0,13.0,8.0,5.0,0.0,0.0,8.0,13.0,10.0,10.0,10.0,10.0,13.0],[13.0,19.0,25.0,26.0,27.0,31.0,37.0,39.0,43.0,43.0,45.0,44.0,42.0,41.0,39.0,37.0,37.0,35.0,33.0,31.0,31.0,29.0,28.0,29.0,45.0,47.0,44.0,45.0,47.0,47.0,45.0,39.0,27.0,35.0,28.0,30.0,34.0,47.0,43.0,40.0,41.0,38.0,34.0,36.0,35.0,34.0,32.0,30.0,31.0,31.0,31.0,31.0,29.0,29.0,26.0,26.0,26.0,6.0,12.0,6.0,6.0,5.0,6.0,13.0,11.0,12.0,10.0,10.0,10.0,17.0,20.0,24.0,29.0,34.0,38.0,41.0,39.0,37.0,35.0,33.0,32.0,29.0,24.0,21.0,20.0,16.0,16.0,22.0,25.0,25.0,27.0,22.0,23.0,22.0,20.0,16.0,17.0,15.0,15.0,5.0,9.0,11.0,15.0,16.0,20.0,22.0,23.0,24.0,26.0,19.0,25.0,27.0,25.0,23.0,21.0,19.0,17.0,15.0,13.0,11.0,13.0,8.0,5.0,0.0,0.0,8.0,13.0,10.0,10.0,10.0,10.0,13.0],[13.0,19.0,25.0,26.0,27.0,31.0,37.0,39.0,43.0,43.0,45.0,44.0,42.0,41.0,39.0,37.0,37.0,35.0,33.0,31.0,31.0,29.0,28.0,29.0,28.0,35.0,27.0,39.0,45.0,47.0,47.0,45.0,44.0,47.0,45.0,30.0,34.0,47.0,43.0,40.0,41.0,38.0,34.0,36.0,35.0,34.0,32.0,30.0,31.0,31.0,31.0,31.0,29.0,29.0,26.0,26.0,26.0,6.0,12.0,6.0,6.0,5.0,6.0,13.0,11.0,12.0,10.0,10.0,10.0,17.0,20.0,24.0,29.0,34.0,38.0,41.0,39.0,37.0,35.0,33.0,32.0,29.0,24.0,21.0,20.0,16.0,16.0,22.0,25.0,25.0,27.0,22.0,23.0,22.0,20.0,16.0,17.0,15.0,15.0,5.0,9.0,11.0,15.0,16.0,20.0,22.0,23.0,24.0,26.0,19.0,25.0,27.0,25.0,23.0,21.0,19.0,17.0,15.0,13.0,11.0,13.0,8.0,5.0,0.0,0.0,8.0,13.0,10.0,10.0,10.0,10.0,13.0],[13.0,19.0,25.0,26.0,27.0,31.0,37.0,39.0,43.0,43.0,45.0,44.0,42.0,41.0,39.0,37.0,37.0,35.0,33.0,31.0,31.0,29.0,29.0,28.0,28.0,35.0,27.0,39.0,45.0,47.0,47.0,45.0,44.0,47.0,45.0,30.0,34.0,47.0,43.0,40.0,41.0,38.0,34.0,36.0,35.0,34.0,32.0,30.0,31.0,31.0,31.0,31.0,29.0,29.0,26.0,26.0,26.0,6.0,12.0,6.0,6.0,5.0,6.0,13.0,11.0,12.0,10.0,10.0,10.0,17.0,20.0,24.0,29.0,34.0,38.0,41.0,39.0,37.0,35.0,33.0,32.0,29.0,24.0,21.0,20.0,16.0,16.0,22.0,25.0,25.0,27.0,22.0,23.0,22.0,20.0,16.0,17.0,15.0,15.0,5.0,9.0,11.0,15.0,16.0,20.0,22.0,23.0,24.0,26.0,19.0,25.0,27.0,25.0,23.0,21.0,19.0,17.0,15.0,13.0,11.0,13.0,8.0,5.0,0.0,0.0,8.0,13.0,10.0,10.0,10.0,10.0,13.0],[13.0,19.0,25.0,26.0,27.0,31.0,37.0,39.0,43.0,43.0,45.0,44.0,42.0,41.0,39.0,37.0,37.0,35.0,33.0,31.0,31.0,29.0,29.0,28.0,28.0,30.0,45.0,47.0,44.0,45.0,47.0,47.0,45.0,39.0,27.0,35.0,34.0,47.0,43.0,40.0,41.0,38.0,34.0,36.0,35.0,34.0,32.0,30.0,31.0,31.0,31.0,31.0,29.0,29.0,26.0,26.0,26.0,6.0,12.0,6.0,6.0,5.0,6.0,13.0,11.0,12.0,10.0,10.0,10.0,17.0,20.0,24.0,29.0,34.0,38.0,41.0,39.0,37.0,35.0,33.0,32.0,29.0,24.0,21.0,20.0,16.0,16.0,22.0,25.0,25.0,27.0,22.0,23.0,22.0,20.0,16.0,17.0,15.0,15.0,5.0,9.0,11.0,15.0,16.0,20.0,22.0,23.0,24.0,26.0,19.0,25.0,27.0,25.0,23.0,21.0,19.0,17.0,15.0,13.0,11.0,13.0,8.0,5.0,0.0,0.0,8.0,13.0,10.0,10.0,10.0,10.0,13.0],[13.0,19.0,25.0,26.0,27.0,31.0,37.0,39.0,43.0,43.0,45.0,44.0,42.0,41.0,39.0,37.0,37.0,35.0,33.0,31.0,31.0,29.0,29.0,28.0,28.0,30.0,35.0,27.0,39.0,45.0,47.0,47.0,45.0,44.0,47.0,45.0,34.0,47.0,43.0,40.0,41.0,38.0,34.0,36.0,35.0,34.0,32.0,30.0,31.0,31.0,31.0,31.0,29.0,29.0,26.0,26.0,26.0,6.0,12.0,6.0,6.0,5.0,6.0,13.0,11.0,12.0,10.0,10.0,10.0,17.0,20.0,24.0,29.0,34.0,38.0,41.0,39.0,37.0,35.0,33.0,32.0,29.0,24.0,21.0,20.0,16.0,16.0,22.0,25.0,25.0,27.0,22.0,23.0,22.0,20.0,16.0,17.0,15.0,15.0,5.0,9.0,11.0,15.0,16.0,20.0,22.0,23.0,24.0,26.0,19.0,25.0,27.0,25.0,23.0,21.0,19.0,17.0,15.0,13.0,11.0,13.0,8.0,5.0,0.0,0.0,8.0,13.0,10.0,10.0,10.0,10.0,13.0],[13.0,19.0,25.0,26.0,27.0,31.0,37.0,39.0,43.0,43.0,45.0,44.0,42.0,41.0,39.0,37.0,37.0,35.0,33.0,31.0,31.0,29.0,29.0,28.0,28.0,30.0,34.0,45.0,47.0,44.0,45.0,47.0,47.0,45.0,39.0,27.0,35.0,47.0,43.0,40.0,41.0,38.0,34.0,36.0,35.0,34.0,32.0,30.0,31.0,31.0,31.0,31.0,29.0,29.0,26.0,26.0,26.0,6.0,12.0,6.0,6.0,5.0,6.0,13.0,11.0,12.0,10.0,10.0,10.0,17.0,20.0,24.0,29.0,34.0,38.0,41.0,39.0,37.0,35.0,33.0,32.0,29.0,24.0,21.0,20.0,16.0,16.0,22.0,25.0,25.0,27.0,22.0,23.0,22.0,20.0,16.0,17.0,15.0,15.0,5.0,9.0,11.0,15.0,16.0,20.0,22.0,23.0,24.0,26.0,19.0,25.0,27.0,25.0,23.0,21.0,19.0,17.0,15.0,13.0,11.0,13.0,8.0,5.0,0.0,0.0,8.0,13.0,10.0,10.0,10.0,10.0,13.0],[13.0,19.0,25.0,26.0,27.0,31.0,37.0,39.0,43.0,43.0,45.0,44.0,42.0,41.0,39.0,37.0,37.0,35.0,33.0,31.0,31.0,29.0,29.0,28.0,28.0,30.0,34.0,35.0,27.0,39.0,45.0,47.0,47.0,45.0,44.0,47.0,45.0,47.0,43.0,40.0,41.0,38.0,34.0,36.0,35.0,34.0,32.0,30.0,31.0,31.0,31.0,31.0,29.0,29.0,26.0,26.0,26.0,6.0,12.0,6.0,6.0,5.0,6.0,13.0,11.0,12.0,10.0,10.0,10.0,17.0,20.0,24.0,29.0,34.0,38.0,41.0,39.0,37.0,35.0,33.0,32.0,29.0,24.0,21.0,20.0,16.0,16.0,22.0,25.0,25.0,27.0,22.0,23.0,22.0,20.0,16.0,17.0,15.0,15.0,5.0,9.0,11.0,15.0,16.0,20.0,22.0,23.0,24.0,26.0,19.0,25.0,27.0,25.0,23.0,21.0,19.0,17.0,15.0,13.0,11.0,13.0,8.0,5.0,0.0,0.0,8.0,13.0,10.0,10.0,10.0,10.0,13.0],[13.0,19.0,25.0,26.0,27.0,31.0,37.0,39.0,43.0,43.0,45.0,44.0,42.0,41.0,39.0,37.0,37.0,35.0,33.0,31.0,31.0,29.0,29.0,28.0,28.0,30.0,34.0,40.0,43.0,47.0,45.0,47.0,44.0,45.0,47.0,47.0,45.0,39.0,27.0,35.0,41.0,38.0,34.0,36.0,35.0,34.0,32.0,30.0,31.0,31.0,31.0,31.0,29.0,29.0,26.0,26.0,26.0,6.0,12.0,6.0,6.0,5.0,6.0,13.0,11.0,12.0,10.0,10.0,10.0,17.0,20.0,24.0,29.0,34.0,38.0,41.0,39.0,37.0,35.0,33.0,32.0,29.0,24.0,21.0,20.0,16.0,16.0,22.0,25.0,25.0,27.0,22.0,23.0,22.0,20.0,16.0,17.0,15.0,15.0,5.0,9.0,11.0,15.0,16.0,20.0,22.0,23.0,24.0,26.0,19.0,25.0,27.0,25.0,23.0,21.0,19.0,17.0,15.0,13.0,11.0,13.0,8.0,5.0,0.0,0.0,8.0,13.0,10.0,10.0,10.0,10.0,13.0],[13.0,19.0,25.0,26.0,27.0,31.0,37.0,39.0,43.0,43.0,45.0,44.0,42.0,41.0,39.0,37.0,37.0,35.0,33.0,31.0,31.0,29.0,29.0,28.0,28.0,30.0,34.0,40.0,43.0,47.0,47.0,45.0,44.0,45.0,47.0,47.0,45.0,39.0,27.0,35.0,41.0,38.0,34.0,36.0,35.0,34.0,32.0,30.0,31.0,31.0,31.0,31.0,29.0,29.0,26.0,26.0,26.0,6.0,12.0,6.0,6.0,5.0,6.0,13.0,11.0,12.0,10.0,10.0,10.0,17.0,20.0,24.0,29.0,34.0,38.0,41.0,39.0,37.0,35.0,33.0,32.0,29.0,24.0,21.0,20.0,16.0,16.0,22.0,25.0,25.0,27.0,22.0,23.0,22.0,20.0,16.0,17.0,15.0,15.0,5.0,9.0,11.0,15.0,16.0,20.0,22.0,23.0,24.0,26.0,19.0,25.0,27.0,25.0,23.0,21.0,19.0,17.0,15.0,13.0,11.0,13.0,8.0,5.0,0.0,0.0,8.0,13.0,10.0,10.0,10.0,10.0,13.0],[13.0,19.0,25.0,26.0,27.0,31.0,37.0,39.0,43.0,43.0,45.0,44.0,42.0,41.0,39.0,37.0,37.0,35.0,33.0,31.0,31.0,29.0,29.0,28.0,28.0,30.0,34.0,40.0,43.0,47.0,47.0,45.0,44.0,45.0,47.0,47.0,45.0,39.0,29.0,24.0,20.0,17.0,10.0,10.0,10.0,12.0,11.0,13.0,6.0,5.0,6.0,6.0,12.0,6.0,26.0,26.0,26.0,29.0,29.0,31.0,31.0,31.0,31.0,30.0,32.0,34.0,35.0,36.0,34.0,38.0,41.0,35.0,27.0,34.0,38.0,41.0,39.0,37.0,35.0,33.0,32.0,29.0,24.0,21.0,20.0,16.0,16.0,22.0,25.0,25.0,27.0,22.0,23.0,22.0,20.0,16.0,17.0,15.0,15.0,5.0,9.0,11.0,15.0,16.0,20.0,22.0,23.0,24.0,26.0,19.0,25.0,27.0,25.0,23.0,21.0,19.0,17.0,15.0,13.0,11.0,13.0,8.0,5.0,0.0,0.0,8.0,13.0,10.0,10.0,10.0,10.0,13.0],[13.0,19.0,25.0,26.0,27.0,31.0,37.0,39.0,43.0,43.0,45.0,44.0,42.0,41.0,39.0,37.0,37.0,35.0,33.0,31.0,31.0,29.0,29.0,28.0,28.0,30.0,34.0,40.0,43.0,47.0,41.0,38.0,34.0,36.0,35.0,34.0,32.0,30.0,31.0,31.0,31.0,31.0,29.0,29.0,26.0,26.0,26.0,6.0,12.0,6.0,6.0,5.0,6.0,13.0,11.0,12.0,10.0,10.0,10.0,17.0,20.0,24.0,29.0,39.0,45.0,47.0,47.0,45.0,44.0,45.0,47.0,35.0,27.0,34.0,38.0,41.0,39.0,37.0,35.0,33.0,32.0,29.0,24.0,21.0,20.0,16.0,16.0,22.0,25.0,25.0,27.0,22.0,23.0,22.0,20.0,16.0,17.0,15.0,15.0,5.0,9.0,11.0,15.0,16.0,20.0,22.0,23.0,24.0,26.0,19.0,25.0,27.0,25.0,23.0,21.0,19.0,17.0,15.0,13.0,11.0,13.0,8.0,5.0,0.0,0.0,8.0,13.0,10.0,10.0,10.0,10.0,13.0],[13.0,19.0,25.0,26.0,27.0,31.0,37.0,39.0,43.0,43.0,45.0,44.0,42.0,41.0,39.0,37.0,37.0,35.0,33.0,31.0,31.0,29.0,29.0,28.0,28.0,30.0,34.0,40.0,43.0,47.0,41.0,38.0,34.0,36.0,35.0,34.0,32.0,30.0,31.0,31.0,31.0,31.0,29.0,29.0,26.0,26.0,26.0,6.0,12.0,6.0,6.0,5.0,6.0,13.0,11.0,12.0,10.0,10.0,10.0,17.0,20.0,24.0,29.0,39.0,45.0,47.0,47.0,45.0,44.0,45.0,47.0,35.0,27.0,34.0,38.0,41.0,39.0,37.0,35.0,33.0,32.0,29.0,24.0,21.0,20.0,16.0,16.0,22.0,25.0,25.0,27.0,22.0,23.0,22.0,20.0,16.0,17.0,15.0,15.0,5.0,9.0,11.0,15.0,16.0,20.0,22.0,23.0,24.0,26.0,19.0,25.0,27.0,25.0,23.0,21.0,19.0,17.0,15.0,13.0,11.0,13.0,8.0,5.0,0.0,0.0,8.0,13.0,10.0,10.0,10.0,10.0,13.0],[13.0,19.0,25.0,26.0,27.0,31.0,37.0,39.0,43.0,43.0,45.0,44.0,42.0,41.0,39.0,37.0,37.0,35.0,33.0,31.0,31.0,29.0,29.0,28.0,28.0,30.0,34.0,40.0,43.0,47.0,41.0,38.0,34.0,36.0,35.0,34.0,32.0,30.0,31.0,31.0,31.0,31.0,29.0,29.0,26.0,26.0,26.0,6.0,12.0,6.0,6.0,5.0,6.0,13.0,11.0,12.0,10.0,10.0,10.0,17.0,20.0,24.0,29.0,39.0,45.0,47.0,47.0,45.0,44.0,45.0,47.0,35.0,27.0,34.0,38.0,41.0,39.0,37.0,35.0,33.0,32.0,29.0,24.0,21.0,20.0,16.0,16.0,22.0,25.0,25.0,27.0,22.0,23.0,22.0,20.0,16.0,17.0,15.0,15.0,5.0,9.0,11.0,15.0,16.0,20.0,22.0,23.0,24.0,26.0,19.0,25.0,27.0,25.0,23.0,21.0,19.0,17.0,15.0,13.0,11.0,13.0,8.0,5.0,0.0,0.0,8.0,13.0,10.0,10.0,10.0,10.0,13.0],[13.0,19.0,25.0,26.0,27.0,31.0,37.0,39.0,43.0,43.0,45.0,44.0,42.0,41.0,39.0,37.0,37.0,35.0,33.0,31.0,31.0,29.0,29.0,28.0,28.0,30.0,34.0,40.0,43.0,47.0,41.0,38.0,34.0,36.0,35.0,34.0,32.0,30.0,31.0,31.0,31.0,31.0,29.0,29.0,26.0,26.0,26.0,23.0,22.0,27.0,25.0,25.0,22.0,16.0,16.0,20.0,21.0,24.0,29.0,32.0,33.0,35.0,37.0,39.0,41.0,38.0,34.0,27.0,35.0,47.0,45.0,44.0,45.0,47.0,47.0,45.0,39.0,29.0,24.0,20.0,17.0,10.0,10.0,10.0,12.0,11.0,13.0,6.0,5.0,6.0,6.0,12.0,6.0,22.0,20.0,16.0,17.0,15.0,15.0,5.0,9.0,11.0,15.0,16.0,20.0,22.0,23.0,24.0,26.0,19.0,25.0,27.0,25.0,23.0,21.0,19.0,17.0,15.0,13.0,11.0,13.0,8.0,5.0,0.0,0.0,8.0,13.0,10.0,10.0,10.0,10.0,13.0],[13.0,19.0,25.0,26.0,27.0,31.0,37.0,39.0,43.0,43.0,45.0,44.0,42.0,41.0,39.0,37.0,37.0,35.0,33.0,31.0,31.0,29.0,29.0,28.0,28.0,30.0,34.0,40.0,43.0,47.0,41.0,38.0,34.0,36.0,35.0,34.0,32.0,30.0,31.0,31.0,31.0,31.0,29.0,29.0,26.0,26.0,26.0,23.0,22.0,27.0,25.0,25.0,22.0,16.0,16.0,20.0,21.0,24.0,29.0,27.0,34.0,38.0,41.0,39.0,37.0,35.0,33.0,32.0,35.0,47.0,45.0,44.0,45.0,47.0,47.0,45.0,39.0,29.0,24.0,20.0,17.0,10.0,10.0,10.0,12.0,11.0,13.0,6.0,5.0,6.0,6.0,12.0,6.0,22.0,20.0,16.0,17.0,15.0,15.0,5.0,9.0,11.0,15.0,16.0,20.0,22.0,23.0,24.0,26.0,19.0,25.0,27.0,25.0,23.0,21.0,19.0,17.0,15.0,13.0,11.0,13.0,8.0,5.0,0.0,0.0,8.0,13.0,10.0,10.0,10.0,10.0,13.0],[13.0,19.0,25.0,26.0,27.0,31.0,37.0,39.0,43.0,43.0,45.0,44.0,42.0,41.0,39.0,37.0,37.0,35.0,33.0,31.0,31.0,29.0,29.0,28.0,28.0,30.0,34.0,40.0,43.0,47.0,41.0,38.0,34.0,36.0,35.0,34.0,32.0,30.0,31.0,31.0,31.0,31.0,29.0,29.0,26.0,26.0,26.0,23.0,22.0,27.0,25.0,25.0,22.0,16.0,16.0,20.0,21.0,24.0,29.0,34.0,27.0,38.0,41.0,39.0,37.0,35.0,33.0,32.0,35.0,47.0,45.0,44.0,45.0,47.0,47.0,45.0,39.0,29.0,24.0,20.0,17.0,10.0,10.0,10.0,12.0,11.0,13.0,6.0,5.0,6.0,6.0,12.0,6.0,22.0,20.0,16.0,17.0,15.0,15.0,5.0,9.0,11.0,15.0,16.0,20.0,22.0,23.0,24.0,26.0,19.0,25.0,27.0,25.0,23.0,21.0,19.0,17.0,15.0,13.0,11.0,13.0,8.0,5.0,0.0,0.0,8.0,13.0,10.0,10.0,10.0,10.0,13.0],[13.0,19.0,25.0,26.0,27.0,31.0,37.0,39.0,43.0,43.0,45.0,44.0,42.0,41.0,39.0,37.0,37.0,35.0,33.0,31.0,31.0,29.0,29.0,28.0,28.0,30.0,34.0,40.0,43.0,47.0,41.0,38.0,34.0,36.0,35.0,34.0,32.0,30.0,31.0,31.0,31.0,31.0,29.0,29.0,26.0,26.0,26.0,23.0,22.0,27.0,25.0,25.0,22.0,16.0,16.0,20.0,21.0,24.0,29.0,35.0,37.0,39.0,41.0,38.0,27.0,34.0,33.0,32.0,35.0,47.0,45.0,44.0,45.0,47.0,47.0,45.0,39.0,29.0,24.0,20.0,17.0,10.0,10.0,10.0,12.0,11.0,13.0,6.0,5.0,6.0,6.0,12.0,6.0,22.0,20.0,16.0,17.0,15.0,15.0,5.0,9.0,11.0,15.0,16.0,20.0,22.0,23.0,24.0,26.0,19.0,25.0,27.0,25.0,23.0,21.0,19.0,17.0,15.0,13.0,11.0,13.0,8.0,5.0,0.0,0.0,8.0,13.0,10.0,10.0,10.0,10.0,13.0],[13.0,19.0,25.0,26.0,27.0,31.0,37.0,39.0,43.0,43.0,45.0,44.0,42.0,41.0,39.0,37.0,37.0,35.0,33.0,31.0,31.0,29.0,29.0,28.0,28.0,30.0,34.0,40.0,43.0,47.0,41.0,38.0,34.0,36.0,35.0,34.0,32.0,30.0,31.0,31.0,31.0,31.0,29.0,29.0,26.0,26.0,26.0,23.0,22.0,27.0,25.0,25.0,22.0,16.0,16.0,20.0,21.0,24.0,29.0,32.0,33.0,34.0,27.0,38.0,41.0,39.0,37.0,35.0,35.0,47.0,45.0,44.0,45.0,47.0,47.0,45.0,39.0,29.0,24.0,20.0,17.0,10.0,10.0,10.0,12.0,11.0,13.0,6.0,5.0,6.0,6.0,12.0,6.0,22.0,20.0,16.0,17.0,15.0,15.0,5.0,9.0,11.0,15.0,16.0,20.0,22.0,23.0,24.0,26.0,19.0,25.0,27.0,25.0,23.0,21.0,19.0,17.0,15.0,13.0,11.0,13.0,8.0,5.0,0.0,0.0,8.0,13.0,10.0,10.0,10.0,10.0,13.0],[13.0,19.0,25.0,26.0,27.0,31.0,37.0,39.0,43.0,43.0,45.0,44.0,42.0,41.0,39.0,37.0,37.0,35.0,33.0,31.0,31.0,29.0,29.0,28.0,28.0,30.0,34.0,40.0,43.0,47.0,41.0,38.0,34.0,36.0,35.0,34.0,32.0,30.0,31.0,31.0,31.0,31.0,29.0,29.0,26.0,26.0,26.0,23.0,22.0,27.0,25.0,25.0,22.0,16.0,16.0,20.0,21.0,24.0,29.0,39.0,45.0,47.0,47.0,45.0,44.0,45.0,47.0,35.0,35.0,37.0,39.0,41.0,38.0,27.0,34.0,33.0,32.0,29.0,24.0,20.0,17.0,10.0,10.0,10.0,12.0,11.0,13.0,6.0,5.0,6.0,6.0,12.0,6.0,22.0,20.0,16.0,17.0,15.0,15.0,5.0,9.0,11.0,15.0,16.0,20.0,22.0,23.0,24.0,26.0,19.0,25.0,27.0,25.0,23.0,21.0,19.0,17.0,15.0,13.0,11.0,13.0,8.0,5.0,0.0,0.0,8.0,13.0,10.0,10.0,10.0,10.0,13.0],[13.0,19.0,25.0,26.0,27.0,31.0,37.0,39.0,43.0,43.0,45.0,44.0,42.0,41.0,39.0,37.0,37.0,35.0,33.0,31.0,31.0,29.0,29.0,28.0,28.0,30.0,34.0,40.0,43.0,47.0,41.0,38.0,34.0,36.0,35.0,34.0,32.0,30.0,31.0,31.0,31.0,31.0,29.0,29.0,26.0,26.0,26.0,23.0,22.0,27.0,25.0,25.0,22.0,16.0,16.0,20.0,21.0,24.0,29.0,47.0,45.0,44.0,45.0,47.0,47.0,45.0,39.0,35.0,35.0,37.0,39.0,41.0,38.0,27.0,34.0,33.0,32.0,29.0,24.0,20.0,17.0,10.0,10.0,10.0,12.0,11.0,13.0,6.0,5.0,6.0,6.0,12.0,6.0,22.0,20.0,16.0,17.0,15.0,15.0,5.0,9.0,11.0,15.0,16.0,20.0,22.0,23.0,24.0,26.0,19.0,25.0,27.0,25.0,23.0,21.0,19.0,17.0,15.0,13.0,11.0,13.0,8.0,5.0,0.0,0.0,8.0,13.0,10.0,10.0,10.0,10.0,13.0],[13.0,19.0,25.0,26.0,27.0,31.0,37.0,39.0,43.0,43.0,45.0,44.0,42.0,41.0,39.0,37.0,37.0,35.0,33.0,31.0,31.0,29.0,29.0,28.0,28.0,30.0,34.0,40.0,43.0,47.0,41.0,38.0,34.0,36.0,35.0,34.0,32.0,30.0,31.0,31.0,31.0,31.0,29.0,29.0,26.0,26.0,26.0,23.0,22.0,27.0,25.0,25.0,22.0,16.0,16.0,20.0,21.0,24.0,29.0,45.0,47.0,44.0,45.0,47.0,47.0,45.0,39.0,35.0,35.0,37.0,39.0,41.0,38.0,27.0,34.0,33.0,32.0,29.0,24.0,20.0,17.0,10.0,10.0,10.0,12.0,11.0,13.0,6.0,5.0,6.0,6.0,12.0,6.0,22.0,20.0,16.0,17.0,15.0,15.0,5.0,9.0,11.0,15.0,16.0,20.0,22.0,23.0,24.0,26.0,19.0,25.0,27.0,25.0,23.0,21.0,19.0,17.0,15.0,13.0,11.0,13.0,8.0,5.0,0.0,0.0,8.0,13.0,10.0,10.0,10.0,10.0,13.0],[13.0,19.0,25.0,26.0,27.0,31.0,37.0,39.0,43.0,43.0,45.0,44.0,42.0,41.0,39.0,37.0,37.0,35.0,33.0,31.0,31.0,29.0,29.0,28.0,28.0,30.0,34.0,40.0,43.0,47.0,41.0,38.0,34.0,36.0,35.0,34.0,32.0,30.0,31.0,31.0,31.0,31.0,29.0,29.0,26.0,26.0,26.0,23.0,22.0,27.0,25.0,25.0,22.0,16.0,16.0,20.0,21.0,24.0,29.0,45.0,47.0,44.0,45.0,47.0,47.0,45.0,39.0,35.0,35.0,37.0,39.0,41.0,38.0,32.0,33.0,34.0,27.0,29.0,24.0,20.0,17.0,10.0,10.0,10.0,12.0,11.0,13.0,6.0,5.0,6.0,6.0,12.0,6.0,22.0,20.0,16.0,17.0,15.0,15.0,5.0,9.0,11.0,15.0,16.0,20.0,22.0,23.0,24.0,26.0,19.0,25.0,27.0,25.0,23.0,21.0,19.0,17.0,15.0,13.0,11.0,13.0,8.0,5.0,0.0,0.0,8.0,13.0,10.0,10.0,10.0,10.0,13.0],[13.0,19.0,25.0,26.0,27.0,31.0,37.0,39.0,43.0,43.0,45.0,44.0,42.0,41.0,39.0,37.0,37.0,35.0,33.0,31.0,31.0,29.0,29.0,28.0,28.0,30.0,34.0,40.0,43.0,47.0,41.0,38.0,34.0,36.0,35.0,34.0,32.0,30.0,31.0,31.0,31.0,31.0,29.0,29.0,26.0,26.0,26.0,23.0,22.0,27.0,25.0,25.0,22.0,16.0,16.0,20.0,21.0,24.0,29.0,45.0,47.0,44.0,45.0,47.0,47.0,45.0,39.0,35.0,35.0,37.0,39.0,41.0,38.0,33.0,32.0,34.0,27.0,29.0,24.0,20.0,17.0,10.0,10.0,10.0,12.0,11.0,13.0,6.0,5.0,6.0,6.0,12.0,6.0,22.0,20.0,16.0,17.0,15.0,15.0,5.0,9.0,11.0,15.0,16.0,20.0,22.0,23.0,24.0,26.0,19.0,25.0,27.0,25.0,23.0,21.0,19.0,17.0,15.0,13.0,11.0,13.0,8.0,5.0,0.0,0.0,8.0,13.0,10.0,10.0,10.0,10.0,13.0],[13.0,19.0,25.0,26.0,27.0,31.0,37.0,39.0,43.0,43.0,45.0,44.0,42.0,41.0,39.0,37.0,37.0,35.0,33.0,31.0,31.0,29.0,29.0,28.0,28.0,30.0,34.0,40.0,43.0,47.0,41.0,38.0,34.0,36.0,35.0,34.0,32.0,30.0,31.0,31.0,31.0,31.0,29.0,29.0,26.0,26.0,26.0,23.0,22.0,27.0,25.0,25.0,22.0,16.0,16.0,20.0,21.0,24.0,29.0,45.0,47.0,44.0,45.0,47.0,47.0,45.0,39.0,35.0,35.0,37.0,39.0,41.0,38.0,33.0,32.0,34.0,29.0,27.0,24.0,20.0,17.0,10.0,10.0,10.0,12.0,11.0,13.0,6.0,5.0,6.0,6.0,12.0,6.0,22.0,20.0,16.0,17.0,15.0,15.0,5.0,9.0,11.0,15.0,16.0,20.0,22.0,23.0,24.0,26.0,19.0,25.0,27.0,25.0,23.0,21.0,19.0,17.0,15.0,13.0,11.0,13.0,8.0,5.0,0.0,0.0,8.0,13.0,10.0,10.0,10.0,10.0,13.0],[13.0,19.0,25.0,26.0,27.0,31.0,37.0,39.0,43.0,43.0,45.0,44.0,42.0,41.0,39.0,37.0,37.0,35.0,33.0,31.0,31.0,29.0,29.0,28.0,28.0,30.0,34.0,40.0,43.0,47.0,41.0,38.0,34.0,36.0,35.0,34.0,32.0,30.0,31.0,31.0,31.0,31.0,29.0,29.0,26.0,26.0,26.0,23.0,22.0,27.0,25.0,25.0,22.0,16.0,16.0,20.0,21.0,24.0,29.0,45.0,47.0,44.0,45.0,47.0,47.0,45.0,39.0,35.0,35.0,37.0,39.0,41.0,38.0,34.0,32.0,33.0,29.0,27.0,24.0,20.0,17.0,10.0,10.0,10.0,12.0,11.0,13.0,6.0,5.0,6.0,6.0,12.0,6.0,22.0,20.0,16.0,17.0,15.0,15.0,5.0,9.0,11.0,15.0,16.0,20.0,22.0,23.0,24.0,26.0,19.0,25.0,27.0,25.0,23.0,21.0,19.0,17.0,15.0,13.0,11.0,13.0,8.0,5.0,0.0,0.0,8.0,13.0,10.0,10.0,10.0,10.0,13.0],[13.0,19.0,25.0,26.0,27.0,31.0,37.0,39.0,43.0,43.0,45.0,44.0,42.0,41.0,39.0,37.0,37.0,35.0,33.0,31.0,31.0,29.0,29.0,28.0,28.0,30.0,34.0,40.0,43.0,47.0,41.0,38.0,34.0,36.0,35.0,34.0,32.0,30.0,31.0,31.0,31.0,31.0,29.0,29.0,26.0,26.0,26.0,23.0,22.0,27.0,25.0,25.0,22.0,16.0,16.0,20.0,21.0,24.0,29.0,45.0,47.0,44.0,45.0,47.0,47.0,45.0,39.0,35.0,35.0,37.0,39.0,41.0,38.0,34.0,33.0,32.0,29.0,27.0,24.0,20.0,17.0,10.0,10.0,10.0,12.0,11.0,13.0,6.0,5.0,6.0,6.0,12.0,6.0,22.0,20.0,16.0,17.0,15.0,15.0,5.0,9.0,11.0,15.0,16.0,20.0,22.0,23.0,24.0,26.0,19.0,25.0,27.0,25.0,23.0,21.0,19.0,17.0,15.0,13.0,11.0,13.0,8.0,5.0,0.0,0.0,8.0,13.0,10.0,10.0,10.0,10.0,13.0],[13.0,19.0,25.0,26.0,27.0,31.0,37.0,39.0,43.0,43.0,45.0,44.0,42.0,41.0,39.0,37.0,37.0,35.0,33.0,31.0,31.0,29.0,29.0,28.0,28.0,30.0,34.0,40.0,43.0,47.0,41.0,38.0,34.0,36.0,35.0,34.0,32.0,30.0,31.0,31.0,31.0,31.0,29.0,29.0,26.0,26.0,26.0,23.0,22.0,27.0,25.0,25.0,22.0,16.0,16.0,20.0,21.0,24.0,29.0,45.0,47.0,44.0,45.0,47.0,47.0,45.0,39.0,35.0,35.0,37.0,39.0,41.0,38.0,34.0,33.0,32.0,29.0,27.0,24.0,20.0,17.0,10.0,10.0,6.0,5.0,6.0,13.0,11.0,12.0,10.0,6.0,12.0,6.0,22.0,20.0,16.0,17.0,15.0,15.0,5.0,9.0,11.0,15.0,16.0,20.0,22.0,23.0,24.0,26.0,19.0,25.0,27.0,25.0,23.0,21.0,19.0,17.0,15.0,13.0,11.0,13.0,8.0,5.0,0.0,0.0,8.0,13.0,10.0,10.0,10.0,10.0,13.0],[13.0,19.0,25.0,26.0,27.0,31.0,37.0,39.0,43.0,43.0,45.0,44.0,42.0,41.0,39.0,37.0,37.0,35.0,33.0,31.0,31.0,29.0,29.0,28.0,28.0,30.0,34.0,40.0,43.0,47.0,41.0,38.0,34.0,36.0,35.0,34.0,32.0,30.0,31.0,31.0,31.0,31.0,29.0,29.0,26.0,26.0,26.0,23.0,22.0,27.0,25.0,25.0,22.0,16.0,16.0,20.0,21.0,24.0,29.0,45.0,47.0,44.0,45.0,47.0,47.0,45.0,39.0,35.0,35.0,37.0,39.0,41.0,38.0,34.0,33.0,32.0,29.0,27.0,24.0,20.0,17.0,10.0,10.0,6.0,5.0,6.0,13.0,11.0,12.0,10.0,6.0,12.0,6.0,22.0,20.0,16.0,17.0,15.0,15.0,5.0,9.0,11.0,15.0,16.0,20.0,22.0,23.0,24.0,26.0,19.0,25.0,27.0,25.0,23.0,21.0,19.0,17.0,15.0,13.0,11.0,13.0,8.0,5.0,0.0,0.0,8.0,13.0,10.0,10.0,10.0,10.0,13.0],[13.0,19.0,25.0,26.0,27.0,31.0,37.0,39.0,43.0,43.0,45.0,44.0,42.0,41.0,39.0,37.0,37.0,35.0,33.0,31.0,31.0,29.0,29.0,28.0,28.0,30.0,34.0,40.0,43.0,47.0,41.0,38.0,34.0,36.0,35.0,34.0,32.0,30.0,31.0,31.0,31.0,31.0,29.0,29.0,26.0,26.0,26.0,23.0,22.0,27.0,25.0,25.0,22.0,16.0,16.0,20.0,21.0,24.0,29.0,45.0,47.0,44.0,45.0,47.0,47.0,45.0,39.0,35.0,35.0,37.0,39.0,41.0,38.0,34.0,33.0,32.0,29.0,27.0,24.0,20.0,17.0,12.0,11.0,13.0,6.0,5.0,6.0,10.0,10.0,10.0,6.0,12.0,6.0,22.0,20.0,16.0,17.0,15.0,15.0,5.0,9.0,11.0,15.0,16.0,20.0,22.0,23.0,24.0,26.0,19.0,25.0,27.0,25.0,23.0,21.0,19.0,17.0,15.0,13.0,11.0,13.0,8.0,5.0,0.0,0.0,8.0,13.0,10.0,10.0,10.0,10.0,13.0],[13.0,19.0,25.0,26.0,27.0,31.0,37.0,39.0,43.0,43.0,45.0,44.0,42.0,41.0,39.0,37.0,37.0,35.0,33.0,31.0,31.0,29.0,29.0,28.0,28.0,30.0,34.0,40.0,43.0,47.0,41.0,38.0,34.0,36.0,35.0,34.0,32.0,30.0,31.0,31.0,31.0,31.0,29.0,29.0,26.0,26.0,26.0,23.0,22.0,27.0,25.0,25.0,22.0,16.0,16.0,20.0,21.0,24.0,29.0,45.0,47.0,44.0,45.0,47.0,47.0,45.0,39.0,35.0,35.0,37.0,39.0,41.0,38.0,34.0,33.0,32.0,29.0,27.0,24.0,20.0,17.0,10.0,10.0,10.0,6.0,5.0,6.0,13.0,11.0,12.0,6.0,12.0,6.0,22.0,20.0,16.0,17.0,15.0,15.0,5.0,9.0,11.0,15.0,16.0,20.0,22.0,23.0,24.0,26.0,19.0,25.0,27.0,25.0,23.0,21.0,19.0,17.0,15.0,13.0,11.0,13.0,8.0,5.0,0.0,0.0,8.0,13.0,10.0,10.0,10.0,10.0,13.0],[13.0,19.0,25.0,26.0,27.0,31.0,37.0,39.0,43.0,43.0,45.0,44.0,42.0,41.0,39.0,37.0,37.0,35.0,33.0,31.0,31.0,29.0,29.0,28.0,28.0,30.0,34.0,40.0,43.0,47.0,41.0,38.0,34.0,36.0,35.0,34.0,32.0,30.0,31.0,31.0,31.0,31.0,29.0,29.0,26.0,26.0,26.0,23.0,22.0,27.0,25.0,25.0,22.0,16.0,16.0,20.0,21.0,24.0,29.0,45.0,47.0,44.0,45.0,47.0,47.0,45.0,39.0,35.0,35.0,37.0,39.0,41.0,38.0,34.0,33.0,32.0,29.0,27.0,24.0,20.0,17.0,10.0,10.0,10.0,6.0,5.0,6.0,11.0,13.0,12.0,6.0,12.0,6.0,22.0,20.0,16.0,17.0,15.0,15.0,5.0,9.0,11.0,15.0,16.0,20.0,22.0,23.0,24.0,26.0,19.0,25.0,27.0,25.0,23.0,21.0,19.0,17.0,15.0,13.0,11.0,13.0,8.0,5.0,0.0,0.0,8.0,13.0,10.0,10.0,10.0,10.0,13.0],[13.0,19.0,25.0,26.0,27.0,31.0,37.0,39.0,43.0,43.0,45.0,44.0,42.0,41.0,39.0,37.0,37.0,35.0,33.0,31.0,31.0,29.0,29.0,28.0,28.0,30.0,34.0,40.0,43.0,47.0,41.0,38.0,34.0,36.0,35.0,34.0,32.0,30.0,31.0,31.0,31.0,31.0,29.0,29.0,26.0,26.0,26.0,23.0,22.0,27.0,25.0,25.0,22.0,16.0,16.0,20.0,21.0,24.0,29.0,45.0,47.0,44.0,45.0,47.0,47.0,45.0,39.0,35.0,35.0,37.0,39.0,41.0,38.0,34.0,33.0,32.0,29.0,27.0,24.0,20.0,17.0,10.0,10.0,10.0,6.0,5.0,6.0,12.0,13.0,11.0,6.0,12.0,6.0,22.0,20.0,16.0,17.0,15.0,15.0,5.0,9.0,11.0,15.0,16.0,20.0,22.0,23.0,24.0,26.0,19.0,25.0,27.0,25.0,23.0,21.0,19.0,17.0,15.0,13.0,11.0,13.0,8.0,5.0,0.0,0.0,8.0,13.0,10.0,10.0,10.0,10.0,13.0],[13.0,19.0,25.0,26.0,27.0,31.0,37.0,39.0,43.0,43.0,45.0,44.0,42.0,41.0,39.0,37.0,37.0,35.0,33.0,31.0,31.0,29.0,29.0,28.0,28.0,30.0,34.0,40.0,43.0,47.0,41.0,38.0,34.0,36.0,35.0,34.0,32.0,30.0,31.0,31.0,31.0,31.0,29.0,29.0,26.0,26.0,26.0,23.0,22.0,27.0,25.0,25.0,22.0,16.0,16.0,20.0,21.0,24.0,29.0,45.0,47.0,44.0,45.0,47.0,47.0,45.0,39.0,35.0,35.0,37.0,39.0,41.0,38.0,34.0,33.0,32.0,29.0,27.0,24.0,20.0,17.0,10.0,10.0,10.0,6.0,5.0,6.0,12.0,13.0,11.0,6.0,12.0,6.0,22.0,20.0,16.0,17.0,15.0,15.0,5.0,9.0,11.0,15.0,16.0,20.0,22.0,23.0,24.0,26.0,19.0,25.0,27.0,25.0,23.0,21.0,19.0,17.0,15.0,13.0,11.0,13.0,8.0,5.0,0.0,0.0,8.0,13.0,10.0,10.0,10.0,10.0,13.0],[13.0,19.0,25.0,26.0,27.0,31.0,37.0,39.0,43.0,43.0,45.0,44.0,42.0,41.0,39.0,37.0,37.0,35.0,33.0,31.0,31.0,29.0,29.0,28.0,28.0,30.0,34.0,40.0,43.0,47.0,41.0,38.0,34.0,36.0,35.0,34.0,32.0,30.0,31.0,31.0,31.0,31.0,29.0,29.0,26.0,26.0,26.0,23.0,22.0,27.0,25.0,25.0,22.0,16.0,16.0,20.0,21.0,24.0,29.0,45.0,47.0,44.0,45.0,47.0,47.0,45.0,39.0,35.0,35.0,37.0,39.0,41.0,38.0,34.0,33.0,32.0,29.0,27.0,24.0,20.0,17.0,10.0,10.0,10.0,6.0,5.0,6.0,12.0,13.0,11.0,6.0,12.0,6.0,22.0,20.0,16.0,17.0,15.0,15.0,5.0,9.0,11.0,15.0,16.0,20.0,22.0,23.0,24.0,26.0,27.0,25.0,19.0,25.0,23.0,21.0,19.0,17.0,15.0,13.0,11.0,13.0,8.0,5.0,0.0,0.0,8.0,13.0,10.0,10.0,10.0,10.0,13.0],[13.0,19.0,25.0,26.0,27.0,31.0,37.0,39.0,43.0,43.0,45.0,44.0,42.0,41.0,39.0,37.0,37.0,35.0,33.0,31.0,31.0,29.0,29.0,28.0,28.0,30.0,34.0,40.0,43.0,47.0,41.0,38.0,34.0,36.0,35.0,34.0,32.0,30.0,31.0,31.0,31.0,31.0,29.0,29.0,26.0,26.0,26.0,23.0,22.0,27.0,25.0,25.0,22.0,16.0,16.0,20.0,21.0,24.0,29.0,45.0,47.0,44.0,45.0,47.0,47.0,45.0,39.0,35.0,35.0,37.0,39.0,41.0,38.0,34.0,33.0,32.0,29.0,27.0,24.0,20.0,17.0,10.0,10.0,10.0,6.0,5.0,6.0,12.0,13.0,11.0,6.0,12.0,6.0,22.0,20.0,16.0,17.0,15.0,15.0,5.0,9.0,11.0,15.0,16.0,20.0,22.0,23.0,24.0,26.0,27.0,25.0,23.0,25.0,19.0,21.0,19.0,17.0,15.0,13.0,11.0,13.0,8.0,5.0,0.0,0.0,8.0,13.0,10.0,10.0,10.0,10.0,13.0],[13.0,19.0,25.0,26.0,27.0,31.0,37.0,39.0,43.0,43.0,45.0,44.0,42.0,41.0,39.0,37.0,37.0,35.0,33.0,31.0,31.0,29.0,29.0,28.0,28.0,30.0,34.0,40.0,43.0,47.0,41.0,38.0,34.0,36.0,35.0,34.0,32.0,30.0,31.0,31.0,31.0,31.0,29.0,29.0,26.0,26.0,26.0,23.0,22.0,27.0,25.0,25.0,22.0,16.0,16.0,20.0,21.0,24.0,29.0,45.0,47.0,44.0,45.0,47.0,47.0,45.0,39.0,35.0,35.0,37.0,39.0,41.0,38.0,34.0,33.0,32.0,29.0,27.0,24.0,20.0,17.0,10.0,10.0,10.0,6.0,5.0,6.0,12.0,13.0,11.0,6.0,12.0,6.0,22.0,20.0,16.0,17.0,15.0,15.0,5.0,9.0,11.0,15.0,16.0,20.0,22.0,23.0,24.0,26.0,27.0,25.0,23.0,25.0,19.0,21.0,19.0,17.0,15.0,13.0,11.0,13.0,8.0,5.0,0.0,0.0,8.0,13.0,10.0,10.0,10.0,10.0,13.0],[13.0,19.0,25.0,26.0,27.0,31.0,37.0,39.0,43.0,43.0,45.0,44.0,42.0,41.0,39.0,37.0,37.0,35.0,33.0,31.0,31.0,29.0,29.0,28.0,28.0,30.0,34.0,40.0,43.0,47.0,41.0,38.0,34.0,36.0,35.0,34.0,32.0,30.0,31.0,31.0,31.0,31.0,29.0,29.0,26.0,26.0,26.0,23.0,22.0,27.0,25.0,25.0,22.0,16.0,16.0,20.0,21.0,24.0,29.0,45.0,47.0,44.0,45.0,47.0,47.0,45.0,39.0,35.0,35.0,37.0,39.0,41.0,38.0,34.0,33.0,32.0,29.0,27.0,24.0,20.0,17.0,10.0,10.0,10.0,6.0,5.0,6.0,12.0,13.0,11.0,6.0,12.0,6.0,22.0,20.0,16.0,17.0,15.0,15.0,5.0,9.0,11.0,15.0,16.0,20.0,22.0,23.0,24.0,26.0,27.0,25.0,23.0,25.0,19.0,21.0,19.0,17.0,15.0,13.0,11.0,13.0,8.0,5.0,0.0,0.0,8.0,10.0,10.0,10.0,10.0,13.0,13.0],[13.0,19.0,25.0,26.0,27.0,31.0,37.0,39.0,43.0,43.0,45.0,44.0,42.0,41.0,39.0,37.0,37.0,35.0,33.0,31.0,31.0,29.0,29.0,28.0,28.0,30.0,34.0,40.0,43.0,47.0,41.0,38.0,34.0,36.0,35.0,34.0,32.0,30.0,31.0,31.0,31.0,31.0,29.0,29.0,26.0,26.0,26.0,23.0,22.0,27.0,25.0,25.0,22.0,16.0,16.0,20.0,21.0,24.0,29.0,45.0,47.0,44.0,45.0,47.0,47.0,45.0,39.0,35.0,35.0,37.0,39.0,41.0,38.0,34.0,33.0,32.0,29.0,27.0,24.0,20.0,17.0,10.0,10.0,10.0,6.0,5.0,6.0,12.0,13.0,11.0,6.0,12.0,6.0,22.0,20.0,16.0,17.0,15.0,15.0,5.0,9.0,11.0,15.0,16.0,20.0,22.0,23.0,24.0,26.0,27.0,25.0,23.0,25.0,19.0,21.0,19.0,17.0,15.0,13.0,11.0,13.0,8.0,5.0,0.0,0.0,8.0,10.0,10.0,10.0,10.0,13.0,13.0]]},\"selected\":{\"id\":\"6315\"},\"selection_policy\":{\"id\":\"6314\"}},\"id\":\"6269\",\"type\":\"ColumnDataSource\"},{\"attributes\":{\"line_color\":{\"value\":\"#90D7F6\"},\"line_width\":{\"value\":4},\"xs\":{\"field\":\"swaps_after_x\"},\"ys\":{\"field\":\"swaps_after_y\"}},\"id\":\"6284\",\"type\":\"MultiLine\"},{\"attributes\":{\"line_width\":4,\"x\":{\"field\":\"edges_x\"},\"y\":{\"field\":\"edges_y\"}},\"id\":\"6274\",\"type\":\"Line\"},{\"attributes\":{\"formatter\":{\"id\":\"6302\"},\"ticker\":{\"id\":\"6248\"},\"visible\":false},\"id\":\"6247\",\"type\":\"LinearAxis\"},{\"attributes\":{\"text\":\"\"},\"id\":\"6233\",\"type\":\"Title\"},{\"attributes\":{\"data_source\":{\"id\":\"6272\"},\"glyph\":{\"id\":\"6284\"},\"hover_glyph\":null,\"muted_glyph\":null,\"nonselection_glyph\":{\"id\":\"6285\"},\"selection_glyph\":null,\"view\":{\"id\":\"6287\"}},\"id\":\"6286\",\"type\":\"GlyphRenderer\"},{\"attributes\":{\"data\":{\"edges_x\":[0.0,5.0,9.0,10.0,11.0,12.0,15.0,12.0,8.0,2.0,5.0,5.0,5.0,0.0,0.0,5.0,5.0,0.0,5.0,15.0,18.0,18.0,18.0,18.0,18.0,18.0,18.0,18.0,18.0,18.0,18.0,18.0,18.0,18.0,18.0,18.0,18.0,18.0,18.0,15.0,15.0,15.0,15.0,15.0,25.0,25.0,25.0,25.0,25.0,25.0,28.0,28.0,25.0,25.0,25.0,34.0,34.0,33.0,35.0,38.0,38.0,40.0,41.0,48.0,48.0,56.0,57.0,64.0,71.0,74.0,74.0,77.0,74.0,74.0,78.0,79.0,78.0,79.0,78.0,80.0,84.0,84.0,84.0,84.0,84.0,81.0,80.0,79.0,78.0,74.0,71.0,71.0,74.0,80.0,84.0,63.0,57.0,48.0,34.0,33.0,32.0,33.0,34.0,34.0,33.0,32.0,35.0,38.0,41.0,41.0,41.0,41.0,38.0,34.0,34.0,28.0,28.0,28.0,28.0,28.0,28.0,51.0,51.0,57.0,61.0,61.0,71.0,71.0,74.0,74.0,107.0,0.0],\"edges_y\":[13.0,13.0,10.0,10.0,10.0,10.0,8.0,5.0,0.0,0.0,8.0,19.0,25.0,26.0,27.0,31.0,37.0,39.0,43.0,43.0,44.0,45.0,42.0,41.0,39.0,37.0,35.0,33.0,31.0,29.0,27.0,25.0,23.0,21.0,19.0,17.0,15.0,13.0,11.0,13.0,19.0,25.0,31.0,37.0,29.0,28.0,26.0,24.0,23.0,22.0,20.0,16.0,15.0,11.0,9.0,5.0,15.0,15.0,17.0,16.0,20.0,22.0,23.0,22.0,27.0,25.0,25.0,22.0,16.0,16.0,20.0,21.0,24.0,29.0,32.0,33.0,35.0,37.0,39.0,41.0,38.0,34.0,29.0,24.0,20.0,17.0,10.0,10.0,10.0,12.0,11.0,13.0,6.0,5.0,6.0,6.0,12.0,6.0,26.0,26.0,26.0,29.0,29.0,31.0,31.0,31.0,31.0,30.0,32.0,34.0,35.0,36.0,34.0,38.0,41.0,40.0,43.0,47.0,34.0,30.0,28.0,45.0,47.0,44.0,45.0,47.0,47.0,45.0,39.0,35.0,27.0,13.0]},\"selected\":{\"id\":\"6305\"},\"selection_policy\":{\"id\":\"6304\"}},\"id\":\"6270\",\"type\":\"ColumnDataSource\"},{\"attributes\":{\"children\":[{\"id\":\"6295\"},{\"id\":\"6293\"}],\"max_width\":400,\"sizing_mode\":\"stretch_both\"},\"id\":\"6297\",\"type\":\"Row\"},{\"attributes\":{},\"id\":\"6248\",\"type\":\"BasicTicker\"},{\"attributes\":{\"line_alpha\":0.1,\"line_width\":4,\"x\":{\"field\":\"edges_x\"},\"y\":{\"field\":\"edges_y\"}},\"id\":\"6275\",\"type\":\"Line\"},{\"attributes\":{\"axis\":{\"id\":\"6247\"},\"dimension\":1,\"grid_line_color\":null,\"ticker\":null},\"id\":\"6250\",\"type\":\"Grid\"},{\"attributes\":{\"args\":{\"cost\":{\"id\":\"6266\"},\"done\":{\"id\":\"6267\"},\"n\":{\"id\":\"6268\"},\"source\":{\"id\":\"6269\"},\"swaps\":{\"id\":\"6272\"},\"swaps_source\":{\"id\":\"6271\"},\"tour\":{\"id\":\"6270\"}},\"code\":\"\\nif ((parseInt(n.text) - 1) >= 0) {\\n    n.text = (parseInt(n.text) - 1).toString()\\n}\\nvar iteration = parseInt(n.text)\\n\\n    cost.text = source.data['costs'][iteration].toFixed(1)\\n    \\n    if (iteration == source.data['edges_y'].length - 1) {\\n        done.text = \\\"done.\\\"\\n        swaps.data['swaps_before_x'] = [[]]\\n        swaps.data['swaps_before_y'] = [[]]\\n        swaps.data['swaps_after_x'] = [[]]\\n        swaps.data['swaps_after_y'] = [[]]\\n    } else {\\n        done.text = \\\"\\\"\\n        swaps.data['swaps_before_x'] = swaps_source.data['swaps_before_x'][iteration]\\n        swaps.data['swaps_before_y'] = swaps_source.data['swaps_before_y'][iteration]\\n        swaps.data['swaps_after_x'] = swaps_source.data['swaps_after_x'][iteration]\\n        swaps.data['swaps_after_y'] = swaps_source.data['swaps_after_y'][iteration]\\n    }\\n\\n    tour.data['edges_x'] = source.data['edges_x'][iteration]\\n    tour.data['edges_y'] = source.data['edges_y'][iteration]\\n    tour.change.emit()\\n    swaps.change.emit()\\n    \"},\"id\":\"6296\",\"type\":\"CustomJS\"},{\"attributes\":{\"source\":{\"id\":\"6270\"}},\"id\":\"6277\",\"type\":\"CDSView\"},{\"attributes\":{\"data\":{\"swaps_after_x\":[[[0.0,5.0],[5.0,5.0]],[[15.0,107.0],[12.0,0.0]],[[0.0,5.0],[5.0,5.0]],[[15.0,18.0],[18.0,18.0]],[[18.0,15.0],[18.0,25.0]],[[15.0,18.0],[15.0,25.0]],[[18.0,15.0],[18.0,25.0]],[[15.0,107.0],[15.0,15.0]],[[15.0,18.0],[15.0,18.0]],[[15.0,18.0],[18.0,25.0]],[[25.0,107.0],[25.0,15.0]],[[25.0,74.0],[107.0,74.0]],[[18.0,25.0],[25.0,74.0]],[[25.0,51.0],[74.0,28.0]],[[25.0,28.0],[51.0,28.0]],[[18.0,25.0],[25.0,28.0]],[[28.0,28.0],[74.0,28.0]],[[28.0,74.0],[51.0,28.0]],[[28.0,28.0],[74.0,28.0]],[[28.0,74.0],[51.0,28.0]],[[28.0,28.0],[74.0,34.0]],[[28.0,51.0],[51.0,57.0]],[[74.0,84.0],[107.0,84.0]],[[28.0,34.0],[51.0,74.0]],[[35.0,34.0],[32.0,34.0]],[[32.0,33.0],[34.0,32.0]],[[34.0,41.0],[48.0,40.0]],[[74.0,107.0],[78.0,74.0]],[[74.0,84.0],[107.0,84.0]],[[74.0,78.0],[84.0,79.0]],[[74.0,78.0],[78.0,74.0]],[[74.0,74.0],[78.0,84.0]],[[74.0,51.0],[74.0,74.0]],[[74.0,51.0],[51.0,57.0]],[[84.0,78.0],[107.0,84.0]],[[84.0,79.0],[78.0,84.0]],[[84.0,84.0],[107.0,84.0]],[[84.0,84.0],[79.0,84.0]],[[84.0,79.0],[78.0,84.0]],[[79.0,84.0],[78.0,63.0]],[[81.0,79.0],[80.0,84.0]],[[81.0,74.0],[79.0,78.0]],[[81.0,78.0],[74.0,63.0]],[[74.0,71.0],[71.0,74.0]],[[74.0,74.0],[71.0,63.0]],[[35.0,34.0],[33.0,34.0]],[[25.0,18.0],[15.0,18.0]],[[15.0,18.0],[15.0,18.0]],[[18.0,18.0],[15.0,15.0]],[[5.0,12.0],[5.0,0.0]],[[5.0,9.0],[12.0,5.0]]],\"swaps_after_y\":[[[13.0,8.0],[13.0,19.0]],[[8.0,27.0],[10.0,13.0]],[[13.0,19.0],[8.0,13.0]],[[43.0,45.0],[44.0,42.0]],[[39.0,37.0],[37.0,29.0]],[[37.0,37.0],[31.0,29.0]],[[33.0,31.0],[31.0,29.0]],[[19.0,27.0],[13.0,8.0]],[[31.0,29.0],[25.0,27.0]],[[31.0,31.0],[29.0,29.0]],[[28.0,27.0],[26.0,19.0]],[[28.0,35.0],[27.0,39.0]],[[29.0,28.0],[29.0,35.0]],[[29.0,45.0],[35.0,28.0]],[[29.0,28.0],[45.0,30.0]],[[29.0,29.0],[28.0,28.0]],[[28.0,30.0],[35.0,34.0]],[[30.0,35.0],[45.0,34.0]],[[30.0,34.0],[35.0,47.0]],[[34.0,35.0],[45.0,47.0]],[[34.0,40.0],[35.0,41.0]],[[47.0,47.0],[45.0,44.0]],[[39.0,29.0],[27.0,34.0]],[[47.0,41.0],[47.0,35.0]],[[31.0,31.0],[31.0,29.0]],[[31.0,29.0],[29.0,26.0]],[[26.0,23.0],[6.0,22.0]],[[29.0,27.0],[32.0,35.0]],[[29.0,34.0],[27.0,38.0]],[[29.0,35.0],[34.0,33.0]],[[29.0,32.0],[35.0,35.0]],[[29.0,39.0],[32.0,29.0]],[[29.0,47.0],[39.0,35.0]],[[29.0,45.0],[47.0,44.0]],[[38.0,32.0],[27.0,29.0]],[[38.0,33.0],[32.0,34.0]],[[34.0,29.0],[27.0,24.0]],[[38.0,34.0],[33.0,29.0]],[[34.0,33.0],[32.0,29.0]],[[10.0,6.0],[10.0,6.0]],[[17.0,10.0],[10.0,6.0]],[[17.0,12.0],[10.0,10.0]],[[17.0,10.0],[12.0,6.0]],[[6.0,11.0],[13.0,12.0]],[[6.0,12.0],[11.0,6.0]],[[17.0,15.0],[15.0,5.0]],[[26.0,27.0],[19.0,25.0]],[[25.0,23.0],[19.0,21.0]],[[27.0,25.0],[25.0,19.0]],[[8.0,10.0],[13.0,13.0]],[[8.0,10.0],[10.0,13.0]]],\"swaps_before_x\":[[[0.0,5.0],[5.0,5.0]],[[15.0,12.0],[107.0,0.0]],[[0.0,5.0],[5.0,5.0]],[[15.0,18.0],[18.0,18.0]],[[18.0,18.0],[15.0,25.0]],[[15.0,15.0],[18.0,25.0]],[[18.0,18.0],[15.0,25.0]],[[15.0,15.0],[107.0,15.0]],[[15.0,15.0],[18.0,18.0]],[[15.0,18.0],[18.0,25.0]],[[25.0,25.0],[107.0,15.0]],[[25.0,107.0],[74.0,74.0]],[[18.0,25.0],[25.0,74.0]],[[25.0,74.0],[51.0,28.0]],[[25.0,51.0],[28.0,28.0]],[[18.0,25.0],[25.0,28.0]],[[28.0,74.0],[28.0,28.0]],[[28.0,51.0],[74.0,28.0]],[[28.0,74.0],[28.0,28.0]],[[28.0,51.0],[74.0,28.0]],[[28.0,74.0],[28.0,34.0]],[[28.0,51.0],[51.0,57.0]],[[74.0,107.0],[84.0,84.0]],[[28.0,51.0],[34.0,74.0]],[[35.0,32.0],[34.0,34.0]],[[32.0,34.0],[33.0,32.0]],[[34.0,48.0],[41.0,40.0]],[[74.0,78.0],[107.0,74.0]],[[74.0,107.0],[84.0,84.0]],[[74.0,84.0],[78.0,79.0]],[[74.0,78.0],[78.0,74.0]],[[74.0,78.0],[74.0,84.0]],[[74.0,74.0],[51.0,74.0]],[[74.0,51.0],[51.0,57.0]],[[84.0,107.0],[78.0,84.0]],[[84.0,78.0],[79.0,84.0]],[[84.0,107.0],[84.0,84.0]],[[84.0,79.0],[84.0,84.0]],[[84.0,78.0],[79.0,84.0]],[[79.0,78.0],[84.0,63.0]],[[81.0,80.0],[79.0,84.0]],[[81.0,79.0],[74.0,78.0]],[[81.0,74.0],[78.0,63.0]],[[74.0,71.0],[71.0,74.0]],[[74.0,71.0],[74.0,63.0]],[[35.0,33.0],[34.0,34.0]],[[25.0,15.0],[18.0,18.0]],[[15.0,15.0],[18.0,18.0]],[[18.0,15.0],[18.0,15.0]],[[5.0,5.0],[12.0,0.0]],[[5.0,12.0],[9.0,5.0]]],\"swaps_before_y\":[[[13.0,13.0],[8.0,19.0]],[[8.0,10.0],[27.0,13.0]],[[13.0,8.0],[19.0,13.0]],[[43.0,44.0],[45.0,42.0]],[[39.0,37.0],[37.0,29.0]],[[37.0,31.0],[37.0,29.0]],[[33.0,31.0],[31.0,29.0]],[[19.0,13.0],[27.0,8.0]],[[31.0,25.0],[29.0,27.0]],[[31.0,29.0],[31.0,29.0]],[[28.0,26.0],[27.0,19.0]],[[28.0,27.0],[35.0,39.0]],[[29.0,29.0],[28.0,35.0]],[[29.0,35.0],[45.0,28.0]],[[29.0,45.0],[28.0,30.0]],[[29.0,28.0],[29.0,28.0]],[[28.0,35.0],[30.0,34.0]],[[30.0,45.0],[35.0,34.0]],[[30.0,35.0],[34.0,47.0]],[[34.0,45.0],[35.0,47.0]],[[34.0,35.0],[40.0,41.0]],[[47.0,45.0],[47.0,44.0]],[[39.0,27.0],[29.0,34.0]],[[47.0,47.0],[41.0,35.0]],[[31.0,31.0],[31.0,29.0]],[[31.0,29.0],[29.0,26.0]],[[26.0,6.0],[23.0,22.0]],[[29.0,32.0],[27.0,35.0]],[[29.0,27.0],[34.0,38.0]],[[29.0,34.0],[35.0,33.0]],[[29.0,35.0],[32.0,35.0]],[[29.0,32.0],[39.0,29.0]],[[29.0,39.0],[47.0,35.0]],[[29.0,47.0],[45.0,44.0]],[[38.0,27.0],[32.0,29.0]],[[38.0,32.0],[33.0,34.0]],[[34.0,27.0],[29.0,24.0]],[[38.0,33.0],[34.0,29.0]],[[34.0,32.0],[33.0,29.0]],[[10.0,10.0],[6.0,6.0]],[[17.0,10.0],[10.0,6.0]],[[17.0,10.0],[12.0,10.0]],[[17.0,12.0],[10.0,6.0]],[[6.0,13.0],[11.0,12.0]],[[6.0,11.0],[12.0,6.0]],[[17.0,15.0],[15.0,5.0]],[[26.0,19.0],[27.0,25.0]],[[25.0,19.0],[23.0,21.0]],[[27.0,25.0],[25.0,19.0]],[[8.0,13.0],[10.0,13.0]],[[8.0,10.0],[10.0,13.0]]]},\"selected\":{\"id\":\"6317\"},\"selection_policy\":{\"id\":\"6316\"}},\"id\":\"6271\",\"type\":\"ColumnDataSource\"},{\"attributes\":{\"background_fill_color\":null,\"below\":[{\"id\":\"6243\"}],\"border_fill_color\":null,\"center\":[{\"id\":\"6246\"},{\"id\":\"6250\"}],\"left\":[{\"id\":\"6247\"}],\"outline_line_color\":null,\"plot_height\":400,\"plot_width\":400,\"renderers\":[{\"id\":\"6276\"},{\"id\":\"6281\"},{\"id\":\"6286\"},{\"id\":\"6291\"}],\"title\":{\"id\":\"6233\"},\"toolbar\":{\"id\":\"6258\"},\"toolbar_location\":null,\"x_range\":{\"id\":\"6235\"},\"x_scale\":{\"id\":\"6239\"},\"y_range\":{\"id\":\"6237\"},\"y_scale\":{\"id\":\"6241\"}},\"id\":\"6232\",\"subtype\":\"Figure\",\"type\":\"Plot\"},{\"attributes\":{\"align\":\"center\",\"width\":200},\"id\":\"6267\",\"type\":\"Div\"},{\"attributes\":{\"line_alpha\":{\"value\":0.1},\"line_color\":{\"value\":\"red\"},\"line_width\":{\"value\":4},\"xs\":{\"field\":\"swaps_before_x\"},\"ys\":{\"field\":\"swaps_before_y\"}},\"id\":\"6280\",\"type\":\"MultiLine\"},{\"attributes\":{\"data\":{\"swaps_after_x\":[[0.0,5.0],[5.0,5.0]],\"swaps_after_y\":[[13.0,8.0],[13.0,19.0]],\"swaps_before_x\":[[0.0,5.0],[5.0,5.0]],\"swaps_before_y\":[[13.0,13.0],[8.0,19.0]]},\"selected\":{\"id\":\"6307\"},\"selection_policy\":{\"id\":\"6306\"}},\"id\":\"6272\",\"type\":\"ColumnDataSource\"},{\"attributes\":{\"align\":\"center\",\"text\":\"714.8\",\"width\":200},\"id\":\"6266\",\"type\":\"Div\"},{\"attributes\":{\"children\":[{\"id\":\"6266\"},{\"id\":\"6267\"}]},\"id\":\"6298\",\"type\":\"Row\"},{\"attributes\":{\"source\":{\"id\":\"6272\"}},\"id\":\"6282\",\"type\":\"CDSView\"},{\"attributes\":{},\"id\":\"6251\",\"type\":\"PanTool\"},{\"attributes\":{},\"id\":\"6300\",\"type\":\"BasicTickFormatter\"},{\"attributes\":{},\"id\":\"6252\",\"type\":\"WheelZoomTool\"},{\"attributes\":{},\"id\":\"6302\",\"type\":\"BasicTickFormatter\"}],\"root_ids\":[\"6320\"]},\"title\":\"Bokeh Application\",\"version\":\"2.2.3\"}};\n",
       "  var render_items = [{\"docid\":\"34fd9cb1-655c-4f67-a55d-7670bdc4e912\",\"root_ids\":[\"6320\"],\"roots\":{\"6320\":\"66771e5d-7f76-437f-8a91-ea9b610d12c4\"}}];\n",
       "  root.Bokeh.embed.embed_items_notebook(docs_json, render_items);\n",
       "\n",
       "  }\n",
       "  if (root.Bokeh !== undefined) {\n",
       "    embed_document(root);\n",
       "  } else {\n",
       "    var attempts = 0;\n",
       "    var timer = setInterval(function(root) {\n",
       "      if (root.Bokeh !== undefined) {\n",
       "        clearInterval(timer);\n",
       "        embed_document(root);\n",
       "      } else {\n",
       "        attempts++;\n",
       "        if (attempts > 100) {\n",
       "          clearInterval(timer);\n",
       "          console.log(\"Bokeh: ERROR: Unable to run BokehJS code because BokehJS library is missing\");\n",
       "        }\n",
       "      }\n",
       "    }, 10, root)\n",
       "  }\n",
       "})(window);"
      ],
      "application/vnd.bokehjs_exec.v0+json": ""
     },
     "metadata": {
      "application/vnd.bokehjs_exec.v0+json": {
       "id": "6320"
      }
     },
     "output_type": "display_data"
    }
   ],
   "source": [
    "# Improve with 2-OPT\n",
    "plot_two_opt(nodes, G, list(tour));"
   ]
  },
  {
   "cell_type": "code",
   "execution_count": 36,
   "metadata": {},
   "outputs": [
    {
     "data": {
      "text/html": [
       "\n",
       "\n",
       "\n",
       "\n",
       "\n",
       "\n",
       "  <div class=\"bk-root\" id=\"ece3c04c-6fff-4e43-beb6-911535d1e15e\" data-root-id=\"6723\"></div>\n"
      ]
     },
     "metadata": {},
     "output_type": "display_data"
    },
    {
     "data": {
      "application/javascript": [
       "(function(root) {\n",
       "  function embed_document(root) {\n",
       "    \n",
       "  var docs_json = {\"2c787c75-c491-48bd-81b4-65c7c2d8c711\":{\"roots\":{\"references\":[{\"attributes\":{\"children\":[[{\"id\":\"6667\"},0,0],[{\"id\":\"6701\"},1,0]]},\"id\":\"6723\",\"type\":\"GridBox\"},{\"attributes\":{\"axis\":{\"id\":\"6682\"},\"dimension\":1,\"grid_line_color\":null,\"ticker\":null},\"id\":\"6685\",\"type\":\"Grid\"},{\"attributes\":{\"data\":{\"x\":[0.0,0.0,0.0,0.0,2.0,5.0,5.0,5.0,5.0,5.0,5.0,5.0,8.0,9.0,10.0,11.0,12.0,12.0,15.0,15.0,15.0,15.0,15.0,15.0,15.0,18.0,18.0,18.0,18.0,18.0,18.0,18.0,18.0,18.0,18.0,18.0,18.0,18.0,18.0,18.0,18.0,18.0,18.0,18.0,25.0,25.0,25.0,25.0,25.0,25.0,25.0,25.0,25.0,28.0,28.0,28.0,28.0,28.0,28.0,28.0,28.0,32.0,32.0,33.0,33.0,33.0,33.0,34.0,34.0,34.0,34.0,34.0,34.0,34.0,35.0,35.0,38.0,38.0,38.0,38.0,40.0,41.0,41.0,41.0,41.0,41.0,48.0,48.0,48.0,51.0,51.0,56.0,57.0,57.0,57.0,61.0,61.0,63.0,64.0,71.0,71.0,71.0,71.0,71.0,74.0,74.0,74.0,74.0,74.0,74.0,74.0,74.0,77.0,78.0,78.0,78.0,78.0,79.0,79.0,79.0,80.0,80.0,80.0,81.0,84.0,84.0,84.0,84.0,84.0,84.0,107.0],\"y\":[13.0,26.0,27.0,39.0,0.0,13.0,19.0,25.0,31.0,37.0,43.0,8.0,0.0,10.0,10.0,10.0,10.0,5.0,13.0,19.0,25.0,31.0,37.0,43.0,8.0,11.0,13.0,15.0,17.0,19.0,21.0,23.0,25.0,27.0,29.0,31.0,33.0,35.0,37.0,39.0,41.0,42.0,44.0,45.0,11.0,15.0,22.0,23.0,24.0,26.0,28.0,29.0,9.0,16.0,20.0,28.0,30.0,34.0,40.0,43.0,47.0,26.0,31.0,15.0,26.0,29.0,31.0,15.0,26.0,29.0,31.0,38.0,41.0,5.0,17.0,31.0,16.0,20.0,30.0,34.0,22.0,23.0,32.0,34.0,35.0,36.0,22.0,27.0,6.0,45.0,47.0,25.0,12.0,25.0,44.0,45.0,47.0,6.0,22.0,11.0,13.0,16.0,45.0,47.0,12.0,16.0,20.0,24.0,29.0,35.0,39.0,6.0,21.0,10.0,32.0,35.0,39.0,10.0,33.0,37.0,10.0,41.0,5.0,17.0,20.0,24.0,29.0,34.0,38.0,6.0,27.0]},\"selected\":{\"id\":\"6720\"},\"selection_policy\":{\"id\":\"6719\"}},\"id\":\"6707\",\"type\":\"ColumnDataSource\"},{\"attributes\":{\"data\":{\"x\":[0.0,5.0,5.0,9.0,10.0,11.0,12.0,2.0,8.0,12.0,15.0,15.0,18.0,18.0,18.0,18.0,15.0,18.0,18.0,18.0,15.0,18.0,18.0,25.0,25.0,25.0,25.0,34.0,34.0,38.0,48.0,48.0,57.0,63.0,71.0,78.0,79.0,80.0,84.0,80.0,74.0,74.0,71.0,71.0,74.0,77.0,74.0,74.0,74.0,71.0,71.0,61.0,51.0,51.0,57.0,61.0,74.0,78.0,78.0,80.0,84.0,84.0,84.0,84.0,84.0,81.0,107.0,79.0,79.0,78.0,74.0,64.0,57.0,56.0,48.0,41.0,40.0,38.0,35.0,33.0,28.0,28.0,25.0,25.0,25.0,28.0,28.0,32.0,33.0,34.0,35.0,34.0,28.0,28.0,28.0,34.0,38.0,41.0,41.0,41.0,41.0,38.0,34.0,34.0,33.0,32.0,33.0,28.0,25.0,25.0,18.0,18.0,18.0,18.0,18.0,18.0,18.0,18.0,18.0,18.0,15.0,15.0,15.0,5.0,5.0,0.0,5.0,5.0,0.0,0.0,5.0,0.0],\"y\":[13.0,13.0,8.0,10.0,10.0,10.0,10.0,0.0,0.0,5.0,8.0,13.0,11.0,13.0,15.0,17.0,19.0,19.0,21.0,23.0,25.0,25.0,27.0,22.0,15.0,11.0,9.0,5.0,15.0,16.0,22.0,6.0,12.0,6.0,11.0,10.0,10.0,10.0,6.0,5.0,6.0,12.0,13.0,16.0,16.0,21.0,20.0,24.0,35.0,45.0,47.0,47.0,47.0,45.0,44.0,45.0,39.0,35.0,39.0,41.0,38.0,34.0,29.0,24.0,20.0,17.0,27.0,37.0,33.0,32.0,29.0,22.0,25.0,25.0,27.0,23.0,22.0,20.0,17.0,15.0,16.0,20.0,23.0,24.0,26.0,28.0,30.0,31.0,31.0,31.0,31.0,38.0,40.0,43.0,47.0,41.0,34.0,36.0,35.0,34.0,32.0,30.0,29.0,26.0,26.0,26.0,29.0,34.0,28.0,29.0,29.0,31.0,33.0,35.0,37.0,39.0,41.0,42.0,44.0,45.0,43.0,37.0,31.0,37.0,43.0,39.0,31.0,25.0,27.0,26.0,19.0,13.0]},\"selected\":{\"id\":\"6718\"},\"selection_policy\":{\"id\":\"6717\"}},\"id\":\"6702\",\"type\":\"ColumnDataSource\"},{\"attributes\":{\"align\":\"center\",\"text\":\"668.5\",\"width\":400},\"id\":\"6701\",\"type\":\"Div\"},{\"attributes\":{\"data_source\":{\"id\":\"6707\"},\"glyph\":{\"id\":\"6708\"},\"hover_glyph\":null,\"muted_glyph\":null,\"nonselection_glyph\":{\"id\":\"6709\"},\"selection_glyph\":null,\"view\":{\"id\":\"6711\"}},\"id\":\"6710\",\"type\":\"GlyphRenderer\"},{\"attributes\":{},\"id\":\"6686\",\"type\":\"PanTool\"},{\"attributes\":{},\"id\":\"6687\",\"type\":\"WheelZoomTool\"},{\"attributes\":{\"fill_alpha\":{\"value\":0.1},\"fill_color\":{\"value\":\"steelblue\"},\"line_alpha\":{\"value\":0.1},\"line_color\":{\"value\":\"steelblue\"},\"size\":{\"units\":\"screen\",\"value\":8},\"x\":{\"field\":\"x\"},\"y\":{\"field\":\"y\"}},\"id\":\"6709\",\"type\":\"Circle\"},{\"attributes\":{\"source\":{\"id\":\"6707\"}},\"id\":\"6711\",\"type\":\"CDSView\"},{\"attributes\":{\"overlay\":{\"id\":\"6692\"}},\"id\":\"6688\",\"type\":\"BoxZoomTool\"},{\"attributes\":{\"background_fill_color\":null,\"below\":[{\"id\":\"6678\"}],\"border_fill_color\":null,\"center\":[{\"id\":\"6681\"},{\"id\":\"6685\"}],\"left\":[{\"id\":\"6682\"}],\"outline_line_color\":null,\"plot_height\":400,\"plot_width\":400,\"renderers\":[{\"id\":\"6705\"},{\"id\":\"6710\"}],\"title\":{\"id\":\"6668\"},\"toolbar\":{\"id\":\"6693\"},\"toolbar_location\":null,\"x_range\":{\"id\":\"6670\"},\"x_scale\":{\"id\":\"6674\"},\"y_range\":{\"id\":\"6672\"},\"y_scale\":{\"id\":\"6676\"}},\"id\":\"6667\",\"subtype\":\"Figure\",\"type\":\"Plot\"},{\"attributes\":{\"fill_color\":{\"value\":\"steelblue\"},\"line_color\":{\"value\":\"steelblue\"},\"size\":{\"units\":\"screen\",\"value\":8},\"x\":{\"field\":\"x\"},\"y\":{\"field\":\"y\"}},\"id\":\"6708\",\"type\":\"Circle\"},{\"attributes\":{},\"id\":\"6689\",\"type\":\"SaveTool\"},{\"attributes\":{},\"id\":\"6713\",\"type\":\"BasicTickFormatter\"},{\"attributes\":{},\"id\":\"6690\",\"type\":\"ResetTool\"},{\"attributes\":{},\"id\":\"6715\",\"type\":\"BasicTickFormatter\"},{\"attributes\":{\"text\":\"\"},\"id\":\"6668\",\"type\":\"Title\"},{\"attributes\":{},\"id\":\"6691\",\"type\":\"HelpTool\"},{\"attributes\":{},\"id\":\"6717\",\"type\":\"UnionRenderers\"},{\"attributes\":{\"end\":116.095,\"start\":-9.095},\"id\":\"6670\",\"type\":\"Range1d\"},{\"attributes\":{},\"id\":\"6718\",\"type\":\"Selection\"},{\"attributes\":{\"active_drag\":\"auto\",\"active_inspect\":\"auto\",\"active_multi\":null,\"active_scroll\":\"auto\",\"active_tap\":\"auto\",\"logo\":null,\"tools\":[{\"id\":\"6686\"},{\"id\":\"6687\"},{\"id\":\"6688\"},{\"id\":\"6689\"},{\"id\":\"6690\"},{\"id\":\"6691\"}]},\"id\":\"6693\",\"type\":\"Toolbar\"},{\"attributes\":{\"end\":50.995,\"start\":-3.995},\"id\":\"6672\",\"type\":\"Range1d\"},{\"attributes\":{},\"id\":\"6674\",\"type\":\"LinearScale\"},{\"attributes\":{},\"id\":\"6720\",\"type\":\"Selection\"},{\"attributes\":{},\"id\":\"6676\",\"type\":\"LinearScale\"},{\"attributes\":{},\"id\":\"6719\",\"type\":\"UnionRenderers\"},{\"attributes\":{\"formatter\":{\"id\":\"6713\"},\"ticker\":{\"id\":\"6679\"},\"visible\":false},\"id\":\"6678\",\"type\":\"LinearAxis\"},{\"attributes\":{\"bottom_units\":\"screen\",\"fill_alpha\":0.5,\"fill_color\":\"lightgrey\",\"left_units\":\"screen\",\"level\":\"overlay\",\"line_alpha\":1.0,\"line_color\":\"black\",\"line_dash\":[4,4],\"line_width\":2,\"right_units\":\"screen\",\"top_units\":\"screen\"},\"id\":\"6692\",\"type\":\"BoxAnnotation\"},{\"attributes\":{},\"id\":\"6679\",\"type\":\"BasicTicker\"},{\"attributes\":{\"line_width\":4,\"x\":{\"field\":\"x\"},\"y\":{\"field\":\"y\"}},\"id\":\"6703\",\"type\":\"Line\"},{\"attributes\":{\"axis\":{\"id\":\"6678\"},\"grid_line_color\":null,\"ticker\":null},\"id\":\"6681\",\"type\":\"Grid\"},{\"attributes\":{\"line_alpha\":0.1,\"line_width\":4,\"x\":{\"field\":\"x\"},\"y\":{\"field\":\"y\"}},\"id\":\"6704\",\"type\":\"Line\"},{\"attributes\":{\"formatter\":{\"id\":\"6715\"},\"ticker\":{\"id\":\"6683\"},\"visible\":false},\"id\":\"6682\",\"type\":\"LinearAxis\"},{\"attributes\":{\"data_source\":{\"id\":\"6702\"},\"glyph\":{\"id\":\"6703\"},\"hover_glyph\":null,\"muted_glyph\":null,\"nonselection_glyph\":{\"id\":\"6704\"},\"selection_glyph\":null,\"view\":{\"id\":\"6706\"}},\"id\":\"6705\",\"type\":\"GlyphRenderer\"},{\"attributes\":{},\"id\":\"6683\",\"type\":\"BasicTicker\"},{\"attributes\":{\"source\":{\"id\":\"6702\"}},\"id\":\"6706\",\"type\":\"CDSView\"}],\"root_ids\":[\"6723\"]},\"title\":\"Bokeh Application\",\"version\":\"2.2.3\"}};\n",
       "  var render_items = [{\"docid\":\"2c787c75-c491-48bd-81b4-65c7c2d8c711\",\"root_ids\":[\"6723\"],\"roots\":{\"6723\":\"ece3c04c-6fff-4e43-beb6-911535d1e15e\"}}];\n",
       "  root.Bokeh.embed.embed_items_notebook(docs_json, render_items);\n",
       "\n",
       "  }\n",
       "  if (root.Bokeh !== undefined) {\n",
       "    embed_document(root);\n",
       "  } else {\n",
       "    var attempts = 0;\n",
       "    var timer = setInterval(function(root) {\n",
       "      if (root.Bokeh !== undefined) {\n",
       "        clearInterval(timer);\n",
       "        embed_document(root);\n",
       "      } else {\n",
       "        attempts++;\n",
       "        if (attempts > 100) {\n",
       "          clearInterval(timer);\n",
       "          console.log(\"Bokeh: ERROR: Unable to run BokehJS code because BokehJS library is missing\");\n",
       "        }\n",
       "      }\n",
       "    }, 10, root)\n",
       "  }\n",
       "})(window);"
      ],
      "application/vnd.bokehjs_exec.v0+json": ""
     },
     "metadata": {
      "application/vnd.bokehjs_exec.v0+json": {
       "id": "6723"
      }
     },
     "output_type": "display_data"
    }
   ],
   "source": [
    "# Nearest insertion\n",
    "tour = nearest_insertion(G)\n",
    "plot_tour(nodes, G,tour)"
   ]
  },
  {
   "cell_type": "code",
   "execution_count": 37,
   "metadata": {
    "scrolled": false
   },
   "outputs": [
    {
     "data": {
      "text/html": [
       "\n",
       "\n",
       "\n",
       "\n",
       "\n",
       "\n",
       "  <div class=\"bk-root\" id=\"a070281e-3134-4001-b64e-c0f27ecc24b2\" data-root-id=\"7106\"></div>\n"
      ]
     },
     "metadata": {},
     "output_type": "display_data"
    },
    {
     "data": {
      "application/javascript": [
       "(function(root) {\n",
       "  function embed_document(root) {\n",
       "    \n",
       "  var docs_json = {\"8e43eecc-546b-47bf-b181-b69b567e67d8\":{\"roots\":{\"references\":[{\"attributes\":{\"children\":[[{\"id\":\"7050\"},0,0],[{\"id\":\"7084\"},1,0]]},\"id\":\"7106\",\"type\":\"GridBox\"},{\"attributes\":{\"bottom_units\":\"screen\",\"fill_alpha\":0.5,\"fill_color\":\"lightgrey\",\"left_units\":\"screen\",\"level\":\"overlay\",\"line_alpha\":1.0,\"line_color\":\"black\",\"line_dash\":[4,4],\"line_width\":2,\"right_units\":\"screen\",\"top_units\":\"screen\"},\"id\":\"7075\",\"type\":\"BoxAnnotation\"},{\"attributes\":{},\"id\":\"7057\",\"type\":\"LinearScale\"},{\"attributes\":{\"formatter\":{\"id\":\"7096\"},\"ticker\":{\"id\":\"7062\"},\"visible\":false},\"id\":\"7061\",\"type\":\"LinearAxis\"},{\"attributes\":{\"end\":50.995,\"start\":-3.995},\"id\":\"7055\",\"type\":\"Range1d\"},{\"attributes\":{\"line_alpha\":0.1,\"line_width\":4,\"x\":{\"field\":\"x\"},\"y\":{\"field\":\"y\"}},\"id\":\"7087\",\"type\":\"Line\"},{\"attributes\":{},\"id\":\"7059\",\"type\":\"LinearScale\"},{\"attributes\":{\"formatter\":{\"id\":\"7098\"},\"ticker\":{\"id\":\"7066\"},\"visible\":false},\"id\":\"7065\",\"type\":\"LinearAxis\"},{\"attributes\":{},\"id\":\"7073\",\"type\":\"ResetTool\"},{\"attributes\":{\"source\":{\"id\":\"7085\"}},\"id\":\"7089\",\"type\":\"CDSView\"},{\"attributes\":{\"background_fill_color\":null,\"below\":[{\"id\":\"7061\"}],\"border_fill_color\":null,\"center\":[{\"id\":\"7064\"},{\"id\":\"7068\"}],\"left\":[{\"id\":\"7065\"}],\"outline_line_color\":null,\"plot_height\":400,\"plot_width\":400,\"renderers\":[{\"id\":\"7088\"},{\"id\":\"7093\"}],\"title\":{\"id\":\"7051\"},\"toolbar\":{\"id\":\"7076\"},\"toolbar_location\":null,\"x_range\":{\"id\":\"7053\"},\"x_scale\":{\"id\":\"7057\"},\"y_range\":{\"id\":\"7055\"},\"y_scale\":{\"id\":\"7059\"}},\"id\":\"7050\",\"subtype\":\"Figure\",\"type\":\"Plot\"},{\"attributes\":{\"data_source\":{\"id\":\"7085\"},\"glyph\":{\"id\":\"7086\"},\"hover_glyph\":null,\"muted_glyph\":null,\"nonselection_glyph\":{\"id\":\"7087\"},\"selection_glyph\":null,\"view\":{\"id\":\"7089\"}},\"id\":\"7088\",\"type\":\"GlyphRenderer\"},{\"attributes\":{\"active_drag\":\"auto\",\"active_inspect\":\"auto\",\"active_multi\":null,\"active_scroll\":\"auto\",\"active_tap\":\"auto\",\"logo\":null,\"tools\":[{\"id\":\"7069\"},{\"id\":\"7070\"},{\"id\":\"7071\"},{\"id\":\"7072\"},{\"id\":\"7073\"},{\"id\":\"7074\"}]},\"id\":\"7076\",\"type\":\"Toolbar\"},{\"attributes\":{\"data\":{\"x\":[0.0,0.0,0.0,0.0,2.0,5.0,5.0,5.0,5.0,5.0,5.0,5.0,8.0,9.0,10.0,11.0,12.0,12.0,15.0,15.0,15.0,15.0,15.0,15.0,15.0,18.0,18.0,18.0,18.0,18.0,18.0,18.0,18.0,18.0,18.0,18.0,18.0,18.0,18.0,18.0,18.0,18.0,18.0,18.0,25.0,25.0,25.0,25.0,25.0,25.0,25.0,25.0,25.0,28.0,28.0,28.0,28.0,28.0,28.0,28.0,28.0,32.0,32.0,33.0,33.0,33.0,33.0,34.0,34.0,34.0,34.0,34.0,34.0,34.0,35.0,35.0,38.0,38.0,38.0,38.0,40.0,41.0,41.0,41.0,41.0,41.0,48.0,48.0,48.0,51.0,51.0,56.0,57.0,57.0,57.0,61.0,61.0,63.0,64.0,71.0,71.0,71.0,71.0,71.0,74.0,74.0,74.0,74.0,74.0,74.0,74.0,74.0,77.0,78.0,78.0,78.0,78.0,79.0,79.0,79.0,80.0,80.0,80.0,81.0,84.0,84.0,84.0,84.0,84.0,84.0,107.0],\"y\":[13.0,26.0,27.0,39.0,0.0,13.0,19.0,25.0,31.0,37.0,43.0,8.0,0.0,10.0,10.0,10.0,10.0,5.0,13.0,19.0,25.0,31.0,37.0,43.0,8.0,11.0,13.0,15.0,17.0,19.0,21.0,23.0,25.0,27.0,29.0,31.0,33.0,35.0,37.0,39.0,41.0,42.0,44.0,45.0,11.0,15.0,22.0,23.0,24.0,26.0,28.0,29.0,9.0,16.0,20.0,28.0,30.0,34.0,40.0,43.0,47.0,26.0,31.0,15.0,26.0,29.0,31.0,15.0,26.0,29.0,31.0,38.0,41.0,5.0,17.0,31.0,16.0,20.0,30.0,34.0,22.0,23.0,32.0,34.0,35.0,36.0,22.0,27.0,6.0,45.0,47.0,25.0,12.0,25.0,44.0,45.0,47.0,6.0,22.0,11.0,13.0,16.0,45.0,47.0,12.0,16.0,20.0,24.0,29.0,35.0,39.0,6.0,21.0,10.0,32.0,35.0,39.0,10.0,33.0,37.0,10.0,41.0,5.0,17.0,20.0,24.0,29.0,34.0,38.0,6.0,27.0]},\"selected\":{\"id\":\"7103\"},\"selection_policy\":{\"id\":\"7102\"}},\"id\":\"7090\",\"type\":\"ColumnDataSource\"},{\"attributes\":{\"axis\":{\"id\":\"7061\"},\"grid_line_color\":null,\"ticker\":null},\"id\":\"7064\",\"type\":\"Grid\"},{\"attributes\":{},\"id\":\"7062\",\"type\":\"BasicTicker\"},{\"attributes\":{\"data_source\":{\"id\":\"7090\"},\"glyph\":{\"id\":\"7091\"},\"hover_glyph\":null,\"muted_glyph\":null,\"nonselection_glyph\":{\"id\":\"7092\"},\"selection_glyph\":null,\"view\":{\"id\":\"7094\"}},\"id\":\"7093\",\"type\":\"GlyphRenderer\"},{\"attributes\":{\"align\":\"center\",\"text\":\"566.4\",\"width\":400},\"id\":\"7084\",\"type\":\"Div\"},{\"attributes\":{\"data\":{\"x\":[0.0,5.0,5.0,0.0,0.0,5.0,5.0,0.0,5.0,15.0,18.0,18.0,18.0,18.0,18.0,18.0,15.0,18.0,18.0,15.0,18.0,18.0,18.0,15.0,18.0,18.0,18.0,15.0,18.0,18.0,18.0,25.0,28.0,28.0,25.0,25.0,25.0,25.0,25.0,25.0,28.0,28.0,32.0,33.0,34.0,33.0,34.0,35.0,34.0,33.0,32.0,28.0,28.0,28.0,28.0,34.0,34.0,38.0,38.0,41.0,41.0,41.0,41.0,51.0,51.0,57.0,61.0,61.0,71.0,71.0,74.0,74.0,74.0,78.0,79.0,78.0,79.0,78.0,80.0,84.0,84.0,84.0,107.0,84.0,84.0,81.0,77.0,74.0,74.0,74.0,71.0,71.0,71.0,74.0,78.0,79.0,80.0,84.0,80.0,74.0,63.0,48.0,57.0,64.0,57.0,56.0,48.0,48.0,41.0,40.0,38.0,38.0,35.0,34.0,33.0,34.0,25.0,25.0,18.0,18.0,15.0,15.0,12.0,11.0,10.0,9.0,12.0,8.0,2.0,5.0,5.0,0.0],\"y\":[13.0,19.0,25.0,26.0,27.0,31.0,37.0,39.0,43.0,43.0,45.0,44.0,42.0,41.0,39.0,37.0,37.0,35.0,33.0,31.0,31.0,29.0,27.0,25.0,25.0,23.0,21.0,19.0,19.0,17.0,15.0,15.0,16.0,20.0,22.0,23.0,24.0,26.0,28.0,29.0,30.0,28.0,26.0,26.0,26.0,29.0,29.0,31.0,31.0,31.0,31.0,34.0,40.0,43.0,47.0,41.0,38.0,34.0,30.0,32.0,34.0,35.0,36.0,45.0,47.0,44.0,45.0,47.0,47.0,45.0,39.0,35.0,29.0,32.0,33.0,35.0,37.0,39.0,41.0,38.0,34.0,29.0,27.0,24.0,20.0,17.0,21.0,24.0,20.0,16.0,16.0,13.0,11.0,12.0,10.0,10.0,10.0,6.0,5.0,6.0,6.0,6.0,12.0,22.0,25.0,25.0,27.0,22.0,23.0,22.0,20.0,16.0,17.0,15.0,15.0,5.0,9.0,11.0,11.0,13.0,13.0,8.0,10.0,10.0,10.0,10.0,5.0,0.0,0.0,8.0,13.0,13.0]},\"selected\":{\"id\":\"7101\"},\"selection_policy\":{\"id\":\"7100\"}},\"id\":\"7085\",\"type\":\"ColumnDataSource\"},{\"attributes\":{\"fill_alpha\":{\"value\":0.1},\"fill_color\":{\"value\":\"steelblue\"},\"line_alpha\":{\"value\":0.1},\"line_color\":{\"value\":\"steelblue\"},\"size\":{\"units\":\"screen\",\"value\":8},\"x\":{\"field\":\"x\"},\"y\":{\"field\":\"y\"}},\"id\":\"7092\",\"type\":\"Circle\"},{\"attributes\":{\"axis\":{\"id\":\"7065\"},\"dimension\":1,\"grid_line_color\":null,\"ticker\":null},\"id\":\"7068\",\"type\":\"Grid\"},{\"attributes\":{\"source\":{\"id\":\"7090\"}},\"id\":\"7094\",\"type\":\"CDSView\"},{\"attributes\":{},\"id\":\"7102\",\"type\":\"UnionRenderers\"},{\"attributes\":{},\"id\":\"7103\",\"type\":\"Selection\"},{\"attributes\":{},\"id\":\"7066\",\"type\":\"BasicTicker\"},{\"attributes\":{\"fill_color\":{\"value\":\"steelblue\"},\"line_color\":{\"value\":\"steelblue\"},\"size\":{\"units\":\"screen\",\"value\":8},\"x\":{\"field\":\"x\"},\"y\":{\"field\":\"y\"}},\"id\":\"7091\",\"type\":\"Circle\"},{\"attributes\":{},\"id\":\"7096\",\"type\":\"BasicTickFormatter\"},{\"attributes\":{},\"id\":\"7069\",\"type\":\"PanTool\"},{\"attributes\":{\"line_width\":4,\"x\":{\"field\":\"x\"},\"y\":{\"field\":\"y\"}},\"id\":\"7086\",\"type\":\"Line\"},{\"attributes\":{},\"id\":\"7098\",\"type\":\"BasicTickFormatter\"},{\"attributes\":{\"overlay\":{\"id\":\"7075\"}},\"id\":\"7071\",\"type\":\"BoxZoomTool\"},{\"attributes\":{\"text\":\"\"},\"id\":\"7051\",\"type\":\"Title\"},{\"attributes\":{},\"id\":\"7072\",\"type\":\"SaveTool\"},{\"attributes\":{},\"id\":\"7100\",\"type\":\"UnionRenderers\"},{\"attributes\":{},\"id\":\"7101\",\"type\":\"Selection\"},{\"attributes\":{},\"id\":\"7070\",\"type\":\"WheelZoomTool\"},{\"attributes\":{},\"id\":\"7074\",\"type\":\"HelpTool\"},{\"attributes\":{\"end\":116.095,\"start\":-9.095},\"id\":\"7053\",\"type\":\"Range1d\"}],\"root_ids\":[\"7106\"]},\"title\":\"Bokeh Application\",\"version\":\"2.2.3\"}};\n",
       "  var render_items = [{\"docid\":\"8e43eecc-546b-47bf-b181-b69b567e67d8\",\"root_ids\":[\"7106\"],\"roots\":{\"7106\":\"a070281e-3134-4001-b64e-c0f27ecc24b2\"}}];\n",
       "  root.Bokeh.embed.embed_items_notebook(docs_json, render_items);\n",
       "\n",
       "  }\n",
       "  if (root.Bokeh !== undefined) {\n",
       "    embed_document(root);\n",
       "  } else {\n",
       "    var attempts = 0;\n",
       "    var timer = setInterval(function(root) {\n",
       "      if (root.Bokeh !== undefined) {\n",
       "        clearInterval(timer);\n",
       "        embed_document(root);\n",
       "      } else {\n",
       "        attempts++;\n",
       "        if (attempts > 100) {\n",
       "          clearInterval(timer);\n",
       "          console.log(\"Bokeh: ERROR: Unable to run BokehJS code because BokehJS library is missing\");\n",
       "        }\n",
       "      }\n",
       "    }, 10, root)\n",
       "  }\n",
       "})(window);"
      ],
      "application/vnd.bokehjs_exec.v0+json": ""
     },
     "metadata": {
      "application/vnd.bokehjs_exec.v0+json": {
       "id": "7106"
      }
     },
     "output_type": "display_data"
    }
   ],
   "source": [
    "# Optimal\n",
    "plot_tour(nodes, G, optimal_tour('xqf131'))"
   ]
  },
  {
   "cell_type": "markdown",
   "metadata": {},
   "source": [
    "**Q23:** What were the following tour costs: nearest neighbor, nearest neighbor + 2-OPT, nearest insertion, and optimal? Which heuristic was closest to the optimal?\n",
    "\n",
    "**A:** <font color='blue'>Will vary. I had 713.9, 608.3, 661.2, and 567.1. Nearest neighbor + 2-OPT  was the closest to optimal. </font>"
   ]
  },
  {
   "cell_type": "markdown",
   "metadata": {},
   "source": [
    "Lastly, let's look at a well cited PCB instance in TSP literature: `pcb442`."
   ]
  },
  {
   "cell_type": "code",
   "execution_count": 38,
   "metadata": {},
   "outputs": [],
   "source": [
    "nodes = pd.read_csv('data/pcb442.csv', index_col=0)\n",
    "G = distance_matrix(nodes, manhattan=False)"
   ]
  },
  {
   "cell_type": "code",
   "execution_count": 39,
   "metadata": {},
   "outputs": [
    {
     "data": {
      "text/html": [
       "\n",
       "\n",
       "\n",
       "\n",
       "\n",
       "\n",
       "  <div class=\"bk-root\" id=\"e82fd0aa-77f1-4b2c-b17f-7c902741240f\" data-root-id=\"7499\"></div>\n"
      ]
     },
     "metadata": {},
     "output_type": "display_data"
    },
    {
     "data": {
      "application/javascript": [
       "(function(root) {\n",
       "  function embed_document(root) {\n",
       "    \n",
       "  var docs_json = {\"f948fbaa-355d-4650-8aa3-608fcf4bb46e\":{\"roots\":{\"references\":[{\"attributes\":{\"children\":[[{\"id\":\"7443\"},0,0],[{\"id\":\"7477\"},1,0]]},\"id\":\"7499\",\"type\":\"GridBox\"},{\"attributes\":{\"formatter\":{\"id\":\"7491\"},\"ticker\":{\"id\":\"7459\"},\"visible\":false},\"id\":\"7458\",\"type\":\"LinearAxis\"},{\"attributes\":{\"end\":4123.0,\"start\":-323.0},\"id\":\"7448\",\"type\":\"Range1d\"},{\"attributes\":{\"data_source\":{\"id\":\"7483\"},\"glyph\":{\"id\":\"7484\"},\"hover_glyph\":null,\"muted_glyph\":null,\"nonselection_glyph\":{\"id\":\"7485\"},\"selection_glyph\":null,\"view\":{\"id\":\"7487\"}},\"id\":\"7486\",\"type\":\"GlyphRenderer\"},{\"attributes\":{\"data\":{\"x\":[200.0,200.0,300.0,300.0,400.0,400.0,400.0,400.0,300.0,300.0,200.0,200.0,200.0,200.0,300.0,400.0,400.0,300.0,300.0,400.0,400.0,300.0,200.0,200.0,200.0,200.0,300.0,300.0,400.0,400.0,400.0,500.0,400.0,300.0,300.0,200.0,200.0,200.0,300.0,400.0,400.0,300.0,200.0,200.0,200.0,300.0,300.0,300.0,200.0,200.0,300.0,300.0,200.0,200.0,200.0,300.0,300.0,400.0,400.0,540.0,400.0,530.0,400.0,400.0,400.0,400.0,500.0,700.0,800.0,900.0,700.0,700.0,800.0,900.0,1000.0,1000.0,1100.0,1150.0,1200.0,1300.0,1400.0,1500.0,1350.0,1400.0,1500.0,1550.0,1500.0,1400.0,1300.0,1200.0,1200.0,1100.0,1000.0,1100.0,1000.0,900.0,800.0,700.0,950.0,850.0,800.0,900.0,1000.0,1100.0,1200.0,1300.0,1170.0,1220.0,1200.0,1300.0,1300.0,1350.0,1400.0,1500.0,1600.0,1400.0,1400.0,1500.0,1600.0,1690.0,1600.0,1500.0,1400.0,1300.0,1400.0,1400.0,1500.0,1500.0,1600.0,1500.0,1400.0,1300.0,1200.0,1100.0,1000.0,900.0,1200.0,1100.0,1000.0,1000.0,910.0,900.0,800.0,700.0,800.0,750.0,700.0,540.0,469.0,400.0,400.0,300.0,200.0,200.0,300.0,400.0,300.0,200.0,200.0,300.0,400.0,400.0,400.0,300.0,300.0,200.0,200.0,300.0,200.0,200.0,300.0,300.0,200.0,200.0,200.0,150.0,150.0,200.0,300.0,300.0,400.0,400.0,469.0,400.0,469.0,400.0,400.0,400.0,520.0,500.0,700.0,800.0,700.0,800.0,900.0,700.0,620.0,620.0,800.0,900.0,1000.0,1100.0,1200.0,1000.0,1100.0,1200.0,1300.0,1400.0,1300.0,1400.0,1500.0,1600.0,1700.0,1500.0,1600.0,1720.0,1790.0,1829.0,1900.0,2000.0,2050.0,2100.0,2150.0,2200.0,2320.0,2280.0,2300.0,2300.0,2600.0,2700.0,2700.0,2700.0,2700.0,2620.0,2700.0,2700.0,3000.0,3000.0,3000.0,3000.0,3000.0,2850.0,3000.0,3000.0,3000.0,3000.0,3000.0,3000.0,3000.0,3000.0,2850.0,2900.0,2700.0,2600.0,2700.0,2700.0,2700.0,2600.0,2600.0,2600.0,2700.0,2700.0,2600.0,2220.0,2120.0,2000.0,2000.0,2000.0,2000.0,2000.0,1900.0,1829.0,1829.0,1790.0,1720.0,1700.0,1800.0,2000.0,2000.0,2000.0,2000.0,2000.0,2000.0,2000.0,1800.0,1700.0,1800.0,1700.0,1600.0,1600.0,1700.0,1800.0,2000.0,2000.0,2000.0,2060.0,2000.0,2000.0,2000.0,2170.0,2110.0,2400.0,2600.0,2600.0,2700.0,2700.0,2700.0,2600.0,2600.0,2700.0,2700.0,2600.0,2600.0,2600.0,2600.0,2600.0,2700.0,2700.0,2700.0,2760.0,2900.0,3000.0,3000.0,3000.0,2850.0,3000.0,2950.0,3000.0,3000.0,3000.0,2950.0,3000.0,3000.0,3000.0,2700.0,2600.0,2600.0,2700.0,2700.0,2700.0,2600.0,2600.0,2320.0,2290.0,2390.0,2600.0,2600.0,2600.0,2600.0,2700.0,2700.0,2800.0,2700.0,2700.0,2900.0,3000.0,3000.0,3000.0,3000.0,2930.0,3000.0,3000.0,3000.0,2800.0,2700.0,2600.0,2600.0,2700.0,2700.0,2900.0,2900.0,2750.0,2600.0,2600.0,2500.0,2400.0,2300.0,2200.0,2100.0,2000.0,1900.0,2000.0,2200.0,2300.0,2400.0,2450.0,2550.0,2500.0,2200.0,2100.0,2000.0,1900.0,2000.0,2000.0,2000.0,2000.0,2000.0,2000.0,1800.0,1700.0,1600.0,1650.0,1600.0,1300.0,1400.0,1350.0,1450.0,1750.0,1800.0,1710.0,1550.0,1800.0,1710.0,1550.0,1400.0,1300.0,1200.0,1100.0,1000.0,900.0,800.0,850.0,1000.0,1100.0,1200.0,1300.0,1400.0,1300.0,1100.0,1100.0,1050.0,1000.0,800.0,939.0,850.0,900.0,800.0,700.0,750.0,600.0,700.0,0.0,200.0],\"y\":[400.0,500.0,400.0,500.0,400.0,500.0,600.0,700.0,700.0,600.0,600.0,700.0,800.0,900.0,800.0,800.0,900.0,900.0,1000.0,1000.0,1100.0,1100.0,1000.0,1100.0,1200.0,1300.0,1300.0,1200.0,1200.0,1300.0,1400.0,1500.0,1500.0,1500.0,1400.0,1400.0,1500.0,1600.0,1600.0,1600.0,1700.0,1700.0,1700.0,1800.0,1900.0,1800.0,1900.0,2000.0,2000.0,2100.0,2100.0,2200.0,2200.0,2300.0,2400.0,2300.0,2400.0,2400.0,2300.0,2330.0,2200.0,2100.0,2100.0,2000.0,1900.0,1800.0,1829.0,1800.0,1800.0,1800.0,1600.0,1500.0,1500.0,1500.0,1629.0,1500.0,1500.0,1350.0,1500.0,1500.0,1500.0,1500.0,1700.0,1800.0,1800.0,1850.0,1900.0,2000.0,1800.0,1800.0,1700.0,1800.0,1800.0,2100.0,2100.0,2100.0,2100.0,2100.0,2220.0,2280.0,2400.0,2400.0,2400.0,2400.0,2400.0,2400.0,2280.0,2210.0,2100.0,2100.0,2200.0,2140.0,2100.0,2100.0,2100.0,2400.0,2500.0,2400.0,2400.0,2680.0,2700.0,2700.0,2700.0,2700.0,2820.0,2900.0,2800.0,2860.0,3000.0,3000.0,3000.0,3000.0,3000.0,3000.0,3000.0,3000.0,2700.0,2700.0,2700.0,2600.0,2600.0,2700.0,2700.0,2700.0,2600.0,2550.0,2400.0,2430.0,2550.0,2500.0,2600.0,2500.0,2500.0,2600.0,2600.0,2700.0,2700.0,2700.0,2800.0,2800.0,2800.0,2900.0,3000.0,3000.0,2900.0,2900.0,3000.0,3100.0,3100.0,3200.0,3200.0,3300.0,3300.0,3400.0,3500.0,3500.0,3550.0,3600.0,3500.0,3400.0,3500.0,3600.0,3450.0,3400.0,3350.0,3300.0,3200.0,3100.0,3200.0,3100.0,3000.0,3000.0,3300.0,3300.0,3300.0,3600.0,3650.0,3709.0,3600.0,3600.0,3600.0,3600.0,3600.0,3300.0,3300.0,3300.0,3300.0,3300.0,3600.0,3600.0,3600.0,3600.0,3600.0,3300.0,3300.0,3409.0,3330.0,3450.0,3520.0,3500.0,3150.0,3200.0,3250.0,3200.0,3150.0,3250.0,3400.0,3500.0,3400.0,3300.0,3400.0,3500.0,3600.0,3650.0,3700.0,3800.0,3800.0,3700.0,3600.0,3500.0,3400.0,3350.0,3300.0,3200.0,3100.0,3000.0,2900.0,2800.0,2700.0,2600.0,2700.0,3000.0,3200.0,3100.0,3100.0,3000.0,2900.0,3000.0,2900.0,2800.0,2800.0,2700.0,2700.0,2820.0,2750.0,2700.0,2800.0,2900.0,3000.0,3100.0,3000.0,2800.0,2700.0,2580.0,2610.0,2400.0,2400.0,2600.0,2500.0,2400.0,2300.0,2200.0,2100.0,2000.0,2100.0,2100.0,1800.0,1800.0,1800.0,1500.0,1500.0,1500.0,1400.0,1500.0,1600.0,1650.0,1700.0,1800.0,1900.0,1900.0,2000.0,2100.0,1900.0,1800.0,1800.0,1900.0,2000.0,2000.0,2100.0,2100.0,2200.0,2200.0,2300.0,2400.0,2500.0,2600.0,2600.0,2500.0,2300.0,2360.0,2400.0,2500.0,2300.0,2200.0,2200.0,2100.0,2050.0,2000.0,1900.0,1800.0,1750.0,1700.0,1600.0,1500.0,1700.0,1700.0,1600.0,1600.0,1500.0,1400.0,1400.0,1500.0,1500.0,1400.0,1300.0,1300.0,1200.0,1100.0,1000.0,1000.0,1100.0,1130.0,1200.0,1300.0,1400.0,1300.0,1200.0,1100.0,1000.0,950.0,900.0,800.0,700.0,900.0,900.0,900.0,800.0,800.0,700.0,500.0,400.0,520.0,500.0,400.0,300.0,300.0,300.0,300.0,300.0,300.0,300.0,370.0,469.0,600.0,600.0,710.0,710.0,800.0,600.0,600.0,600.0,600.0,800.0,900.0,1000.0,1100.0,1200.0,1300.0,1230.0,1200.0,1300.0,1050.0,1100.0,1130.0,930.0,750.0,770.0,750.0,600.0,510.0,500.0,300.0,310.0,300.0,300.0,300.0,300.0,300.0,300.0,300.0,300.0,520.0,600.0,600.0,600.0,600.0,600.0,700.0,700.0,900.0,1050.0,1100.0,1030.0,740.0,700.0,600.0,600.0,600.0,490.0,400.0,300.0,0.0,400.0]},\"selected\":{\"id\":\"7494\"},\"selection_policy\":{\"id\":\"7493\"}},\"id\":\"7478\",\"type\":\"ColumnDataSource\"},{\"attributes\":{},\"id\":\"7455\",\"type\":\"BasicTicker\"},{\"attributes\":{},\"id\":\"7462\",\"type\":\"PanTool\"},{\"attributes\":{\"formatter\":{\"id\":\"7489\"},\"ticker\":{\"id\":\"7455\"},\"visible\":false},\"id\":\"7454\",\"type\":\"LinearAxis\"},{\"attributes\":{\"fill_alpha\":{\"value\":0.1},\"fill_color\":{\"value\":\"steelblue\"},\"line_alpha\":{\"value\":0.1},\"line_color\":{\"value\":\"steelblue\"},\"size\":{\"units\":\"screen\",\"value\":8},\"x\":{\"field\":\"x\"},\"y\":{\"field\":\"y\"}},\"id\":\"7485\",\"type\":\"Circle\"},{\"attributes\":{},\"id\":\"7463\",\"type\":\"WheelZoomTool\"},{\"attributes\":{},\"id\":\"7459\",\"type\":\"BasicTicker\"},{\"attributes\":{\"source\":{\"id\":\"7483\"}},\"id\":\"7487\",\"type\":\"CDSView\"},{\"attributes\":{\"axis\":{\"id\":\"7454\"},\"grid_line_color\":null,\"ticker\":null},\"id\":\"7457\",\"type\":\"Grid\"},{\"attributes\":{\"overlay\":{\"id\":\"7468\"}},\"id\":\"7464\",\"type\":\"BoxZoomTool\"},{\"attributes\":{\"align\":\"center\",\"text\":\"57502.9\",\"width\":400},\"id\":\"7477\",\"type\":\"Div\"},{\"attributes\":{\"fill_color\":{\"value\":\"steelblue\"},\"line_color\":{\"value\":\"steelblue\"},\"size\":{\"units\":\"screen\",\"value\":8},\"x\":{\"field\":\"x\"},\"y\":{\"field\":\"y\"}},\"id\":\"7484\",\"type\":\"Circle\"},{\"attributes\":{},\"id\":\"7465\",\"type\":\"SaveTool\"},{\"attributes\":{},\"id\":\"7467\",\"type\":\"HelpTool\"},{\"attributes\":{},\"id\":\"7489\",\"type\":\"BasicTickFormatter\"},{\"attributes\":{},\"id\":\"7491\",\"type\":\"BasicTickFormatter\"},{\"attributes\":{},\"id\":\"7466\",\"type\":\"ResetTool\"},{\"attributes\":{\"axis\":{\"id\":\"7458\"},\"dimension\":1,\"grid_line_color\":null,\"ticker\":null},\"id\":\"7461\",\"type\":\"Grid\"},{\"attributes\":{},\"id\":\"7493\",\"type\":\"UnionRenderers\"},{\"attributes\":{\"active_drag\":\"auto\",\"active_inspect\":\"auto\",\"active_multi\":null,\"active_scroll\":\"auto\",\"active_tap\":\"auto\",\"logo\":null,\"tools\":[{\"id\":\"7462\"},{\"id\":\"7463\"},{\"id\":\"7464\"},{\"id\":\"7465\"},{\"id\":\"7466\"},{\"id\":\"7467\"}]},\"id\":\"7469\",\"type\":\"Toolbar\"},{\"attributes\":{},\"id\":\"7494\",\"type\":\"Selection\"},{\"attributes\":{},\"id\":\"7495\",\"type\":\"UnionRenderers\"},{\"attributes\":{\"line_alpha\":0.1,\"line_width\":4,\"x\":{\"field\":\"x\"},\"y\":{\"field\":\"y\"}},\"id\":\"7480\",\"type\":\"Line\"},{\"attributes\":{},\"id\":\"7496\",\"type\":\"Selection\"},{\"attributes\":{\"background_fill_color\":null,\"below\":[{\"id\":\"7454\"}],\"border_fill_color\":null,\"center\":[{\"id\":\"7457\"},{\"id\":\"7461\"}],\"left\":[{\"id\":\"7458\"}],\"outline_line_color\":null,\"plot_height\":400,\"plot_width\":400,\"renderers\":[{\"id\":\"7481\"},{\"id\":\"7486\"}],\"title\":{\"id\":\"7444\"},\"toolbar\":{\"id\":\"7469\"},\"toolbar_location\":null,\"x_range\":{\"id\":\"7446\"},\"x_scale\":{\"id\":\"7450\"},\"y_range\":{\"id\":\"7448\"},\"y_scale\":{\"id\":\"7452\"}},\"id\":\"7443\",\"subtype\":\"Figure\",\"type\":\"Plot\"},{\"attributes\":{\"data_source\":{\"id\":\"7478\"},\"glyph\":{\"id\":\"7479\"},\"hover_glyph\":null,\"muted_glyph\":null,\"nonselection_glyph\":{\"id\":\"7480\"},\"selection_glyph\":null,\"view\":{\"id\":\"7482\"}},\"id\":\"7481\",\"type\":\"GlyphRenderer\"},{\"attributes\":{\"text\":\"\"},\"id\":\"7444\",\"type\":\"Title\"},{\"attributes\":{\"bottom_units\":\"screen\",\"fill_alpha\":0.5,\"fill_color\":\"lightgrey\",\"left_units\":\"screen\",\"level\":\"overlay\",\"line_alpha\":1.0,\"line_color\":\"black\",\"line_dash\":[4,4],\"line_width\":2,\"right_units\":\"screen\",\"top_units\":\"screen\"},\"id\":\"7468\",\"type\":\"BoxAnnotation\"},{\"attributes\":{},\"id\":\"7452\",\"type\":\"LinearScale\"},{\"attributes\":{\"line_width\":4,\"x\":{\"field\":\"x\"},\"y\":{\"field\":\"y\"}},\"id\":\"7479\",\"type\":\"Line\"},{\"attributes\":{\"end\":3255.0,\"start\":-255.00000000000003},\"id\":\"7446\",\"type\":\"Range1d\"},{\"attributes\":{\"source\":{\"id\":\"7478\"}},\"id\":\"7482\",\"type\":\"CDSView\"},{\"attributes\":{\"data\":{\"x\":[200.0,200.0,200.0,200.0,200.0,200.0,200.0,200.0,200.0,200.0,200.0,200.0,200.0,200.0,200.0,200.0,200.0,200.0,200.0,200.0,200.0,200.0,200.0,200.0,200.0,200.0,200.0,200.0,200.0,200.0,200.0,200.0,200.0,300.0,300.0,300.0,300.0,300.0,300.0,300.0,300.0,300.0,300.0,300.0,300.0,300.0,300.0,300.0,300.0,300.0,300.0,300.0,300.0,300.0,300.0,300.0,300.0,300.0,300.0,300.0,300.0,300.0,300.0,300.0,300.0,400.0,400.0,400.0,400.0,400.0,400.0,400.0,400.0,400.0,400.0,400.0,400.0,400.0,400.0,400.0,400.0,400.0,400.0,400.0,400.0,400.0,400.0,400.0,400.0,400.0,400.0,400.0,400.0,400.0,400.0,400.0,400.0,400.0,500.0,500.0,500.0,600.0,700.0,700.0,700.0,700.0,700.0,700.0,700.0,700.0,700.0,700.0,700.0,800.0,800.0,800.0,800.0,800.0,800.0,800.0,800.0,800.0,800.0,800.0,800.0,900.0,900.0,900.0,900.0,900.0,900.0,900.0,900.0,900.0,900.0,1000.0,1000.0,1000.0,1000.0,1000.0,1000.0,1000.0,1000.0,1000.0,1000.0,1000.0,1000.0,1000.0,1100.0,1100.0,1100.0,1100.0,1100.0,1100.0,1100.0,1100.0,1100.0,1100.0,1100.0,1100.0,1200.0,1200.0,1200.0,1200.0,1200.0,1200.0,1200.0,1200.0,1200.0,1200.0,1200.0,1300.0,1300.0,1300.0,1300.0,1300.0,1300.0,1300.0,1300.0,1300.0,1300.0,1300.0,1300.0,1300.0,1400.0,1400.0,1400.0,1400.0,1400.0,1400.0,1400.0,1400.0,1400.0,1400.0,1400.0,1400.0,1400.0,1400.0,1400.0,1500.0,1500.0,1500.0,1500.0,1500.0,1500.0,1500.0,1500.0,1500.0,1500.0,1500.0,1600.0,1600.0,1600.0,1600.0,1600.0,1600.0,1600.0,1600.0,1600.0,1600.0,1700.0,1700.0,1700.0,1700.0,1700.0,1700.0,1800.0,1800.0,1800.0,1800.0,1800.0,1800.0,1800.0,1900.0,1900.0,1900.0,1900.0,2000.0,2000.0,2000.0,2000.0,2000.0,2000.0,2000.0,2000.0,2000.0,2000.0,2000.0,2000.0,2000.0,2000.0,2000.0,2000.0,2000.0,2000.0,2000.0,2000.0,2000.0,2000.0,2000.0,2000.0,2000.0,2000.0,2000.0,2000.0,2100.0,2100.0,2100.0,2200.0,2200.0,2200.0,2200.0,2300.0,2300.0,2300.0,2400.0,2400.0,2400.0,2500.0,2500.0,2600.0,2600.0,2600.0,2600.0,2600.0,2600.0,2600.0,2600.0,2600.0,2600.0,2600.0,2600.0,2600.0,2600.0,2600.0,2600.0,2600.0,2600.0,2600.0,2600.0,2600.0,2600.0,2600.0,2600.0,2600.0,2600.0,2600.0,2700.0,2700.0,2700.0,2700.0,2700.0,2700.0,2700.0,2700.0,2700.0,2700.0,2700.0,2700.0,2700.0,2700.0,2700.0,2700.0,2700.0,2700.0,2700.0,2700.0,2700.0,2700.0,2700.0,2700.0,2700.0,2700.0,2700.0,2700.0,2700.0,2700.0,2700.0,2800.0,2800.0,2900.0,2900.0,2900.0,2900.0,2900.0,3000.0,3000.0,3000.0,3000.0,3000.0,3000.0,3000.0,3000.0,3000.0,3000.0,3000.0,3000.0,3000.0,3000.0,3000.0,3000.0,3000.0,3000.0,3000.0,3000.0,3000.0,3000.0,3000.0,3000.0,3000.0,3000.0,3000.0,3000.0,3000.0,3000.0,150.0,150.0,469.0,469.0,469.0,540.0,540.0,620.0,620.0,750.0,850.0,850.0,850.0,939.0,950.0,910.0,1050.0,1150.0,1170.0,1220.0,1350.0,1350.0,1350.0,1450.0,1550.0,1550.0,1550.0,1650.0,1690.0,1710.0,1710.0,1750.0,1790.0,1720.0,1790.0,1720.0,1829.0,1829.0,1829.0,2060.0,2050.0,2170.0,2110.0,2120.0,2150.0,2290.0,2220.0,2280.0,2390.0,2320.0,2450.0,2620.0,2750.0,2760.0,2850.0,2850.0,2850.0,2930.0,2950.0,2950.0,520.0,2300.0,2320.0,530.0,2550.0,750.0,0.0],\"y\":[400.0,500.0,600.0,700.0,800.0,900.0,1000.0,1100.0,1200.0,1300.0,1400.0,1500.0,1600.0,1700.0,1800.0,1900.0,2000.0,2100.0,2200.0,2300.0,2400.0,2500.0,2600.0,2700.0,2800.0,2900.0,3000.0,3100.0,3200.0,3300.0,3400.0,3500.0,3600.0,400.0,500.0,600.0,700.0,800.0,900.0,1000.0,1100.0,1200.0,1300.0,1400.0,1500.0,1600.0,1700.0,1800.0,1900.0,2000.0,2100.0,2200.0,2300.0,2400.0,2500.0,2600.0,2700.0,2800.0,2900.0,3000.0,3100.0,3200.0,3300.0,3400.0,3500.0,400.0,500.0,600.0,700.0,800.0,900.0,1000.0,1100.0,1200.0,1300.0,1400.0,1500.0,1600.0,1700.0,1800.0,1900.0,2000.0,2100.0,2200.0,2300.0,2400.0,2500.0,2600.0,2700.0,2800.0,2900.0,3000.0,3100.0,3200.0,3300.0,3400.0,3500.0,3600.0,1500.0,1829.0,3100.0,400.0,300.0,600.0,1500.0,1600.0,1800.0,2100.0,2400.0,2700.0,3000.0,3300.0,3600.0,300.0,600.0,1030.0,1500.0,1800.0,2100.0,2400.0,2600.0,2700.0,3000.0,3300.0,3600.0,300.0,600.0,1500.0,1800.0,2100.0,2400.0,2700.0,3000.0,3300.0,3600.0,300.0,600.0,1100.0,1500.0,1629.0,1800.0,2100.0,2400.0,2600.0,2700.0,3000.0,3300.0,3600.0,300.0,600.0,700.0,900.0,1500.0,1800.0,2100.0,2400.0,2700.0,3000.0,3300.0,3600.0,300.0,600.0,1500.0,1700.0,1800.0,2100.0,2400.0,2700.0,3000.0,3300.0,3600.0,300.0,600.0,700.0,1130.0,1500.0,1800.0,2100.0,2200.0,2400.0,2700.0,3000.0,3300.0,3600.0,300.0,600.0,930.0,1500.0,1800.0,2000.0,2100.0,2400.0,2500.0,2700.0,2820.0,2900.0,3000.0,3300.0,3600.0,1500.0,1800.0,1900.0,2100.0,2400.0,2700.0,2800.0,2860.0,3000.0,3300.0,3600.0,1100.0,1300.0,1500.0,1800.0,2100.0,2400.0,2700.0,3000.0,3300.0,3600.0,1200.0,1500.0,1800.0,2100.0,2400.0,3600.0,300.0,600.0,1230.0,1500.0,1800.0,2100.0,2400.0,300.0,600.0,3000.0,3520.0,300.0,370.0,600.0,800.0,900.0,1000.0,1100.0,1200.0,1300.0,1400.0,1500.0,1600.0,1700.0,1800.0,1900.0,2000.0,2100.0,2200.0,2300.0,2400.0,2500.0,2600.0,2700.0,2800.0,2900.0,3000.0,3100.0,3500.0,300.0,600.0,3200.0,300.0,469.0,600.0,3200.0,300.0,600.0,3400.0,300.0,600.0,2100.0,300.0,800.0,400.0,500.0,800.0,900.0,1000.0,1100.0,1200.0,1300.0,1400.0,1500.0,1600.0,1700.0,1800.0,1900.0,2000.0,2100.0,2200.0,2300.0,2400.0,2500.0,2600.0,2700.0,2800.0,2900.0,3000.0,3100.0,3400.0,700.0,800.0,900.0,1000.0,1100.0,1200.0,1300.0,1400.0,1500.0,1600.0,1700.0,1800.0,1900.0,2000.0,2100.0,2200.0,2300.0,2500.0,2600.0,2700.0,2800.0,2900.0,3000.0,3100.0,3200.0,3300.0,3400.0,3500.0,3600.0,3700.0,3800.0,900.0,1130.0,400.0,500.0,1400.0,2400.0,3000.0,700.0,800.0,900.0,1000.0,1100.0,1200.0,1300.0,1500.0,1600.0,1700.0,1800.0,1900.0,2000.0,2100.0,2200.0,2300.0,2500.0,2600.0,2700.0,2800.0,2900.0,3000.0,3100.0,3200.0,3300.0,3400.0,3500.0,3600.0,3700.0,3800.0,3500.0,3550.0,2550.0,3350.0,3450.0,2330.0,2430.0,3650.0,3709.0,2550.0,520.0,700.0,2280.0,740.0,2220.0,2600.0,1050.0,1350.0,2280.0,2210.0,750.0,1700.0,2140.0,770.0,300.0,500.0,1850.0,1050.0,2680.0,310.0,510.0,750.0,2580.0,2610.0,3330.0,3409.0,2700.0,2800.0,3450.0,1650.0,3150.0,1900.0,2000.0,2750.0,3250.0,1400.0,2820.0,3250.0,1300.0,1500.0,710.0,3650.0,520.0,2360.0,2200.0,2700.0,3350.0,950.0,1750.0,2050.0,3200.0,3500.0,3150.0,2100.0,710.0,490.0,0.0]},\"selected\":{\"id\":\"7496\"},\"selection_policy\":{\"id\":\"7495\"}},\"id\":\"7483\",\"type\":\"ColumnDataSource\"},{\"attributes\":{},\"id\":\"7450\",\"type\":\"LinearScale\"}],\"root_ids\":[\"7499\"]},\"title\":\"Bokeh Application\",\"version\":\"2.2.3\"}};\n",
       "  var render_items = [{\"docid\":\"f948fbaa-355d-4650-8aa3-608fcf4bb46e\",\"root_ids\":[\"7499\"],\"roots\":{\"7499\":\"e82fd0aa-77f1-4b2c-b17f-7c902741240f\"}}];\n",
       "  root.Bokeh.embed.embed_items_notebook(docs_json, render_items);\n",
       "\n",
       "  }\n",
       "  if (root.Bokeh !== undefined) {\n",
       "    embed_document(root);\n",
       "  } else {\n",
       "    var attempts = 0;\n",
       "    var timer = setInterval(function(root) {\n",
       "      if (root.Bokeh !== undefined) {\n",
       "        clearInterval(timer);\n",
       "        embed_document(root);\n",
       "      } else {\n",
       "        attempts++;\n",
       "        if (attempts > 100) {\n",
       "          clearInterval(timer);\n",
       "          console.log(\"Bokeh: ERROR: Unable to run BokehJS code because BokehJS library is missing\");\n",
       "        }\n",
       "      }\n",
       "    }, 10, root)\n",
       "  }\n",
       "})(window);"
      ],
      "application/vnd.bokehjs_exec.v0+json": ""
     },
     "metadata": {
      "application/vnd.bokehjs_exec.v0+json": {
       "id": "7499"
      }
     },
     "output_type": "display_data"
    }
   ],
   "source": [
    "# Furthest insertion\n",
    "tour = furthest_insertion(G, initial=[0,374,0])\n",
    "plot_tour(nodes, G, tour)"
   ]
  },
  {
   "cell_type": "code",
   "execution_count": 40,
   "metadata": {},
   "outputs": [
    {
     "data": {
      "text/html": [
       "\n",
       "\n",
       "\n",
       "\n",
       "\n",
       "\n",
       "  <div class=\"bk-root\" id=\"a78fd92a-f825-42b9-97c8-e5f80d5190cb\" data-root-id=\"7902\"></div>\n"
      ]
     },
     "metadata": {},
     "output_type": "display_data"
    },
    {
     "data": {
      "application/javascript": [
       "(function(root) {\n",
       "  function embed_document(root) {\n",
       "    \n",
       "  var docs_json = {\"34093a80-624c-4ae3-986c-e9fa0b9a7b58\":{\"roots\":{\"references\":[{\"attributes\":{\"children\":[[{\"id\":\"7846\"},0,0],[{\"id\":\"7880\"},1,0]]},\"id\":\"7902\",\"type\":\"GridBox\"},{\"attributes\":{\"data\":{\"x\":[200.0,0.0,300.0,400.0,400.0,300.0,300.0,400.0,400.0,400.0,400.0,300.0,300.0,400.0,400.0,400.0,400.0,300.0,300.0,400.0,400.0,500.0,400.0,400.0,400.0,500.0,400.0,300.0,300.0,300.0,300.0,300.0,300.0,400.0,540.0,540.0,400.0,400.0,400.0,400.0,530.0,700.0,800.0,900.0,950.0,1000.0,1100.0,1200.0,1170.0,1220.0,1300.0,1300.0,1350.0,1400.0,1400.0,1500.0,1600.0,1700.0,1800.0,1800.0,1700.0,1600.0,1550.0,1500.0,1500.0,1400.0,1300.0,1350.0,1200.0,1200.0,1100.0,1000.0,900.0,800.0,700.0,700.0,700.0,800.0,900.0,1000.0,1000.0,1100.0,1150.0,1200.0,1300.0,1400.0,1500.0,1600.0,1700.0,1800.0,1600.0,1800.0,1700.0,1650.0,1600.0,1300.0,1400.0,1450.0,1350.0,1300.0,1400.0,1300.0,1200.0,1100.0,1000.0,1100.0,1100.0,1050.0,1000.0,800.0,939.0,850.0,900.0,850.0,800.0,700.0,750.0,600.0,700.0,800.0,900.0,1000.0,1100.0,1200.0,1300.0,1400.0,1550.0,1550.0,1710.0,1710.0,1800.0,1900.0,2000.0,2000.0,2100.0,2200.0,2300.0,2400.0,2500.0,2600.0,2600.0,2750.0,2900.0,2900.0,3000.0,3000.0,3000.0,2930.0,3000.0,3000.0,3000.0,3000.0,2900.0,3000.0,3000.0,3000.0,2950.0,3000.0,3000.0,3000.0,2950.0,3000.0,3000.0,3000.0,2900.0,3000.0,3000.0,2850.0,3000.0,3000.0,3000.0,2900.0,3000.0,3000.0,3000.0,3000.0,2850.0,3000.0,3000.0,3000.0,3000.0,3000.0,2700.0,2700.0,2620.0,2700.0,2700.0,2700.0,2600.0,2700.0,2700.0,2700.0,2600.0,2600.0,2700.0,2700.0,2600.0,2600.0,2700.0,2700.0,2600.0,2600.0,2700.0,2700.0,2600.0,2600.0,2600.0,2700.0,2760.0,2850.0,2700.0,2600.0,2400.0,2600.0,2700.0,2700.0,2600.0,2600.0,2700.0,2700.0,2600.0,2600.0,2700.0,2700.0,2600.0,2600.0,2700.0,2700.0,2600.0,2320.0,2290.0,2390.0,2600.0,2600.0,2700.0,2700.0,2800.0,2700.0,2600.0,2600.0,2700.0,2800.0,2700.0,2600.0,2600.0,2700.0,2700.0,2550.0,2500.0,2450.0,2400.0,2300.0,2200.0,2200.0,2100.0,2000.0,1900.0,1800.0,1750.0,2000.0,2000.0,2000.0,2000.0,2000.0,2000.0,2000.0,2000.0,2000.0,2060.0,2000.0,2000.0,2000.0,2170.0,2110.0,2000.0,2000.0,2000.0,2000.0,2000.0,2000.0,2000.0,2000.0,2120.0,2220.0,2000.0,2000.0,1900.0,2000.0,2000.0,2050.0,2100.0,2150.0,2200.0,2320.0,2280.0,2300.0,2300.0,2000.0,1900.0,1829.0,1790.0,1720.0,1700.0,1600.0,1500.0,1400.0,1300.0,1200.0,1100.0,1000.0,900.0,800.0,700.0,620.0,620.0,400.0,400.0,469.0,400.0,469.0,400.0,400.0,520.0,700.0,800.0,900.0,1000.0,1100.0,1200.0,1300.0,1400.0,1500.0,1600.0,1600.0,1500.0,1500.0,1500.0,1500.0,1600.0,1690.0,1829.0,1829.0,1720.0,1790.0,1800.0,1700.0,1600.0,1500.0,1400.0,1400.0,1300.0,1200.0,1100.0,1000.0,900.0,850.0,800.0,700.0,750.0,800.0,700.0,800.0,900.0,910.0,1000.0,1000.0,1100.0,1200.0,1300.0,1400.0,1400.0,1400.0,1400.0,1300.0,1200.0,1100.0,1000.0,900.0,800.0,700.0,500.0,400.0,300.0,300.0,300.0,300.0,300.0,200.0,150.0,150.0,200.0,200.0,200.0,200.0,200.0,200.0,300.0,400.0,400.0,400.0,300.0,300.0,200.0,200.0,200.0,300.0,400.0,400.0,469.0,400.0,300.0,300.0,200.0,200.0,200.0,200.0,200.0,200.0,200.0,200.0,200.0,300.0,300.0,200.0,200.0,300.0,300.0,200.0,200.0,200.0,200.0,300.0,300.0,200.0,200.0,200.0,200.0,300.0,300.0,200.0,200.0,200.0,200.0],\"y\":[400.0,0.0,400.0,400.0,500.0,500.0,600.0,600.0,700.0,800.0,900.0,900.0,1000.0,1000.0,1100.0,1200.0,1300.0,1300.0,1400.0,1400.0,1500.0,1500.0,1600.0,1700.0,1800.0,1829.0,1900.0,1900.0,2000.0,2100.0,2200.0,2300.0,2400.0,2400.0,2430.0,2330.0,2300.0,2200.0,2100.0,2000.0,2100.0,2100.0,2100.0,2100.0,2220.0,2100.0,2100.0,2100.0,2280.0,2210.0,2200.0,2100.0,2140.0,2100.0,2000.0,2100.0,2100.0,2100.0,2100.0,1800.0,1800.0,1800.0,1850.0,1900.0,1800.0,1800.0,1800.0,1700.0,1700.0,1800.0,1800.0,1800.0,1800.0,1800.0,1800.0,1600.0,1500.0,1500.0,1500.0,1500.0,1629.0,1500.0,1350.0,1500.0,1500.0,1500.0,1500.0,1500.0,1500.0,1500.0,1300.0,1230.0,1200.0,1050.0,1100.0,1130.0,930.0,770.0,750.0,700.0,600.0,600.0,600.0,600.0,600.0,700.0,900.0,1050.0,1100.0,1030.0,740.0,700.0,600.0,520.0,600.0,600.0,490.0,400.0,300.0,300.0,300.0,300.0,300.0,300.0,300.0,300.0,300.0,500.0,510.0,310.0,300.0,300.0,300.0,370.0,300.0,300.0,300.0,300.0,300.0,400.0,500.0,520.0,400.0,500.0,700.0,800.0,900.0,950.0,1000.0,1100.0,1200.0,1300.0,1400.0,1500.0,1600.0,1700.0,1750.0,1800.0,1900.0,2000.0,2050.0,2100.0,2200.0,2300.0,2400.0,2500.0,2600.0,2700.0,2700.0,2800.0,2900.0,3000.0,3000.0,3100.0,3200.0,3300.0,3350.0,3400.0,3500.0,3600.0,3700.0,3800.0,3800.0,3700.0,3650.0,3600.0,3500.0,3400.0,3400.0,3300.0,3200.0,3100.0,3100.0,3000.0,3000.0,2900.0,2900.0,2800.0,2800.0,2700.0,2700.0,2600.0,2600.0,2500.0,2500.0,2400.0,2300.0,2300.0,2360.0,2200.0,2200.0,2200.0,2100.0,2100.0,2100.0,2000.0,2000.0,1900.0,1900.0,1800.0,1800.0,1700.0,1700.0,1600.0,1600.0,1500.0,1500.0,1400.0,1400.0,1500.0,1400.0,1300.0,1200.0,1300.0,1300.0,1200.0,1130.0,1100.0,1100.0,1000.0,1000.0,900.0,900.0,900.0,800.0,800.0,700.0,710.0,800.0,710.0,600.0,600.0,600.0,469.0,600.0,600.0,600.0,600.0,750.0,800.0,900.0,1000.0,1100.0,1200.0,1300.0,1400.0,1500.0,1600.0,1650.0,1700.0,1800.0,1900.0,1900.0,2000.0,2000.0,2100.0,2200.0,2300.0,2400.0,2500.0,2600.0,2700.0,2750.0,2820.0,2800.0,2900.0,3000.0,3000.0,3100.0,3150.0,3200.0,3250.0,3200.0,3150.0,3250.0,3400.0,3500.0,3500.0,3520.0,3450.0,3330.0,3409.0,3600.0,3600.0,3600.0,3600.0,3600.0,3600.0,3600.0,3600.0,3600.0,3600.0,3600.0,3650.0,3709.0,3600.0,3500.0,3450.0,3400.0,3350.0,3300.0,3200.0,3200.0,3300.0,3300.0,3300.0,3300.0,3300.0,3300.0,3300.0,3300.0,3300.0,3300.0,3000.0,3000.0,2860.0,2800.0,2700.0,2700.0,2680.0,2800.0,2700.0,2610.0,2580.0,2400.0,2400.0,2400.0,2400.0,2400.0,2500.0,2400.0,2400.0,2400.0,2400.0,2400.0,2280.0,2400.0,2400.0,2550.0,2600.0,2700.0,2700.0,2700.0,2600.0,2600.0,2700.0,2700.0,2700.0,2700.0,2700.0,2820.0,2900.0,3000.0,3000.0,3000.0,3000.0,3000.0,3000.0,3000.0,3000.0,3100.0,3100.0,3100.0,3200.0,3300.0,3400.0,3500.0,3600.0,3550.0,3500.0,3500.0,3400.0,3300.0,3200.0,3100.0,3000.0,3000.0,3000.0,2900.0,2800.0,2800.0,2900.0,2900.0,2800.0,2700.0,2700.0,2700.0,2600.0,2550.0,2500.0,2500.0,2600.0,2600.0,2500.0,2400.0,2300.0,2200.0,2100.0,2000.0,1900.0,1800.0,1800.0,1700.0,1700.0,1600.0,1600.0,1500.0,1500.0,1400.0,1300.0,1200.0,1200.0,1100.0,1100.0,1000.0,900.0,800.0,800.0,700.0,700.0,600.0,500.0,400.0]},\"selected\":{\"id\":\"7897\"},\"selection_policy\":{\"id\":\"7896\"}},\"id\":\"7881\",\"type\":\"ColumnDataSource\"},{\"attributes\":{\"data_source\":{\"id\":\"7886\"},\"glyph\":{\"id\":\"7887\"},\"hover_glyph\":null,\"muted_glyph\":null,\"nonselection_glyph\":{\"id\":\"7888\"},\"selection_glyph\":null,\"view\":{\"id\":\"7890\"}},\"id\":\"7889\",\"type\":\"GlyphRenderer\"},{\"attributes\":{},\"id\":\"7896\",\"type\":\"UnionRenderers\"},{\"attributes\":{\"align\":\"center\",\"text\":\"50783.5\",\"width\":400},\"id\":\"7880\",\"type\":\"Div\"},{\"attributes\":{},\"id\":\"7865\",\"type\":\"PanTool\"},{\"attributes\":{\"fill_alpha\":{\"value\":0.1},\"fill_color\":{\"value\":\"steelblue\"},\"line_alpha\":{\"value\":0.1},\"line_color\":{\"value\":\"steelblue\"},\"size\":{\"units\":\"screen\",\"value\":8},\"x\":{\"field\":\"x\"},\"y\":{\"field\":\"y\"}},\"id\":\"7888\",\"type\":\"Circle\"},{\"attributes\":{},\"id\":\"7866\",\"type\":\"WheelZoomTool\"},{\"attributes\":{},\"id\":\"7855\",\"type\":\"LinearScale\"},{\"attributes\":{\"source\":{\"id\":\"7886\"}},\"id\":\"7890\",\"type\":\"CDSView\"},{\"attributes\":{\"overlay\":{\"id\":\"7871\"}},\"id\":\"7867\",\"type\":\"BoxZoomTool\"},{\"attributes\":{\"fill_color\":{\"value\":\"steelblue\"},\"line_color\":{\"value\":\"steelblue\"},\"size\":{\"units\":\"screen\",\"value\":8},\"x\":{\"field\":\"x\"},\"y\":{\"field\":\"y\"}},\"id\":\"7887\",\"type\":\"Circle\"},{\"attributes\":{},\"id\":\"7892\",\"type\":\"BasicTickFormatter\"},{\"attributes\":{},\"id\":\"7868\",\"type\":\"SaveTool\"},{\"attributes\":{},\"id\":\"7894\",\"type\":\"BasicTickFormatter\"},{\"attributes\":{},\"id\":\"7869\",\"type\":\"ResetTool\"},{\"attributes\":{},\"id\":\"7897\",\"type\":\"Selection\"},{\"attributes\":{\"end\":3255.0,\"start\":-255.00000000000003},\"id\":\"7849\",\"type\":\"Range1d\"},{\"attributes\":{},\"id\":\"7870\",\"type\":\"HelpTool\"},{\"attributes\":{\"background_fill_color\":null,\"below\":[{\"id\":\"7857\"}],\"border_fill_color\":null,\"center\":[{\"id\":\"7860\"},{\"id\":\"7864\"}],\"left\":[{\"id\":\"7861\"}],\"outline_line_color\":null,\"plot_height\":400,\"plot_width\":400,\"renderers\":[{\"id\":\"7884\"},{\"id\":\"7889\"}],\"title\":{\"id\":\"7847\"},\"toolbar\":{\"id\":\"7872\"},\"toolbar_location\":null,\"x_range\":{\"id\":\"7849\"},\"x_scale\":{\"id\":\"7853\"},\"y_range\":{\"id\":\"7851\"},\"y_scale\":{\"id\":\"7855\"}},\"id\":\"7846\",\"subtype\":\"Figure\",\"type\":\"Plot\"},{\"attributes\":{\"axis\":{\"id\":\"7857\"},\"grid_line_color\":null,\"ticker\":null},\"id\":\"7860\",\"type\":\"Grid\"},{\"attributes\":{\"active_drag\":\"auto\",\"active_inspect\":\"auto\",\"active_multi\":null,\"active_scroll\":\"auto\",\"active_tap\":\"auto\",\"logo\":null,\"tools\":[{\"id\":\"7865\"},{\"id\":\"7866\"},{\"id\":\"7867\"},{\"id\":\"7868\"},{\"id\":\"7869\"},{\"id\":\"7870\"}]},\"id\":\"7872\",\"type\":\"Toolbar\"},{\"attributes\":{},\"id\":\"7899\",\"type\":\"Selection\"},{\"attributes\":{},\"id\":\"7898\",\"type\":\"UnionRenderers\"},{\"attributes\":{},\"id\":\"7858\",\"type\":\"BasicTicker\"},{\"attributes\":{\"end\":4123.0,\"start\":-323.0},\"id\":\"7851\",\"type\":\"Range1d\"},{\"attributes\":{\"bottom_units\":\"screen\",\"fill_alpha\":0.5,\"fill_color\":\"lightgrey\",\"left_units\":\"screen\",\"level\":\"overlay\",\"line_alpha\":1.0,\"line_color\":\"black\",\"line_dash\":[4,4],\"line_width\":2,\"right_units\":\"screen\",\"top_units\":\"screen\"},\"id\":\"7871\",\"type\":\"BoxAnnotation\"},{\"attributes\":{\"text\":\"\"},\"id\":\"7847\",\"type\":\"Title\"},{\"attributes\":{\"axis\":{\"id\":\"7861\"},\"dimension\":1,\"grid_line_color\":null,\"ticker\":null},\"id\":\"7864\",\"type\":\"Grid\"},{\"attributes\":{},\"id\":\"7853\",\"type\":\"LinearScale\"},{\"attributes\":{\"line_width\":4,\"x\":{\"field\":\"x\"},\"y\":{\"field\":\"y\"}},\"id\":\"7882\",\"type\":\"Line\"},{\"attributes\":{\"data_source\":{\"id\":\"7881\"},\"glyph\":{\"id\":\"7882\"},\"hover_glyph\":null,\"muted_glyph\":null,\"nonselection_glyph\":{\"id\":\"7883\"},\"selection_glyph\":null,\"view\":{\"id\":\"7885\"}},\"id\":\"7884\",\"type\":\"GlyphRenderer\"},{\"attributes\":{},\"id\":\"7862\",\"type\":\"BasicTicker\"},{\"attributes\":{\"formatter\":{\"id\":\"7894\"},\"ticker\":{\"id\":\"7862\"},\"visible\":false},\"id\":\"7861\",\"type\":\"LinearAxis\"},{\"attributes\":{\"line_alpha\":0.1,\"line_width\":4,\"x\":{\"field\":\"x\"},\"y\":{\"field\":\"y\"}},\"id\":\"7883\",\"type\":\"Line\"},{\"attributes\":{\"source\":{\"id\":\"7881\"}},\"id\":\"7885\",\"type\":\"CDSView\"},{\"attributes\":{\"formatter\":{\"id\":\"7892\"},\"ticker\":{\"id\":\"7858\"},\"visible\":false},\"id\":\"7857\",\"type\":\"LinearAxis\"},{\"attributes\":{\"data\":{\"x\":[200.0,200.0,200.0,200.0,200.0,200.0,200.0,200.0,200.0,200.0,200.0,200.0,200.0,200.0,200.0,200.0,200.0,200.0,200.0,200.0,200.0,200.0,200.0,200.0,200.0,200.0,200.0,200.0,200.0,200.0,200.0,200.0,200.0,300.0,300.0,300.0,300.0,300.0,300.0,300.0,300.0,300.0,300.0,300.0,300.0,300.0,300.0,300.0,300.0,300.0,300.0,300.0,300.0,300.0,300.0,300.0,300.0,300.0,300.0,300.0,300.0,300.0,300.0,300.0,300.0,400.0,400.0,400.0,400.0,400.0,400.0,400.0,400.0,400.0,400.0,400.0,400.0,400.0,400.0,400.0,400.0,400.0,400.0,400.0,400.0,400.0,400.0,400.0,400.0,400.0,400.0,400.0,400.0,400.0,400.0,400.0,400.0,400.0,500.0,500.0,500.0,600.0,700.0,700.0,700.0,700.0,700.0,700.0,700.0,700.0,700.0,700.0,700.0,800.0,800.0,800.0,800.0,800.0,800.0,800.0,800.0,800.0,800.0,800.0,800.0,900.0,900.0,900.0,900.0,900.0,900.0,900.0,900.0,900.0,900.0,1000.0,1000.0,1000.0,1000.0,1000.0,1000.0,1000.0,1000.0,1000.0,1000.0,1000.0,1000.0,1000.0,1100.0,1100.0,1100.0,1100.0,1100.0,1100.0,1100.0,1100.0,1100.0,1100.0,1100.0,1100.0,1200.0,1200.0,1200.0,1200.0,1200.0,1200.0,1200.0,1200.0,1200.0,1200.0,1200.0,1300.0,1300.0,1300.0,1300.0,1300.0,1300.0,1300.0,1300.0,1300.0,1300.0,1300.0,1300.0,1300.0,1400.0,1400.0,1400.0,1400.0,1400.0,1400.0,1400.0,1400.0,1400.0,1400.0,1400.0,1400.0,1400.0,1400.0,1400.0,1500.0,1500.0,1500.0,1500.0,1500.0,1500.0,1500.0,1500.0,1500.0,1500.0,1500.0,1600.0,1600.0,1600.0,1600.0,1600.0,1600.0,1600.0,1600.0,1600.0,1600.0,1700.0,1700.0,1700.0,1700.0,1700.0,1700.0,1800.0,1800.0,1800.0,1800.0,1800.0,1800.0,1800.0,1900.0,1900.0,1900.0,1900.0,2000.0,2000.0,2000.0,2000.0,2000.0,2000.0,2000.0,2000.0,2000.0,2000.0,2000.0,2000.0,2000.0,2000.0,2000.0,2000.0,2000.0,2000.0,2000.0,2000.0,2000.0,2000.0,2000.0,2000.0,2000.0,2000.0,2000.0,2000.0,2100.0,2100.0,2100.0,2200.0,2200.0,2200.0,2200.0,2300.0,2300.0,2300.0,2400.0,2400.0,2400.0,2500.0,2500.0,2600.0,2600.0,2600.0,2600.0,2600.0,2600.0,2600.0,2600.0,2600.0,2600.0,2600.0,2600.0,2600.0,2600.0,2600.0,2600.0,2600.0,2600.0,2600.0,2600.0,2600.0,2600.0,2600.0,2600.0,2600.0,2600.0,2600.0,2700.0,2700.0,2700.0,2700.0,2700.0,2700.0,2700.0,2700.0,2700.0,2700.0,2700.0,2700.0,2700.0,2700.0,2700.0,2700.0,2700.0,2700.0,2700.0,2700.0,2700.0,2700.0,2700.0,2700.0,2700.0,2700.0,2700.0,2700.0,2700.0,2700.0,2700.0,2800.0,2800.0,2900.0,2900.0,2900.0,2900.0,2900.0,3000.0,3000.0,3000.0,3000.0,3000.0,3000.0,3000.0,3000.0,3000.0,3000.0,3000.0,3000.0,3000.0,3000.0,3000.0,3000.0,3000.0,3000.0,3000.0,3000.0,3000.0,3000.0,3000.0,3000.0,3000.0,3000.0,3000.0,3000.0,3000.0,3000.0,150.0,150.0,469.0,469.0,469.0,540.0,540.0,620.0,620.0,750.0,850.0,850.0,850.0,939.0,950.0,910.0,1050.0,1150.0,1170.0,1220.0,1350.0,1350.0,1350.0,1450.0,1550.0,1550.0,1550.0,1650.0,1690.0,1710.0,1710.0,1750.0,1790.0,1720.0,1790.0,1720.0,1829.0,1829.0,1829.0,2060.0,2050.0,2170.0,2110.0,2120.0,2150.0,2290.0,2220.0,2280.0,2390.0,2320.0,2450.0,2620.0,2750.0,2760.0,2850.0,2850.0,2850.0,2930.0,2950.0,2950.0,520.0,2300.0,2320.0,530.0,2550.0,750.0,0.0],\"y\":[400.0,500.0,600.0,700.0,800.0,900.0,1000.0,1100.0,1200.0,1300.0,1400.0,1500.0,1600.0,1700.0,1800.0,1900.0,2000.0,2100.0,2200.0,2300.0,2400.0,2500.0,2600.0,2700.0,2800.0,2900.0,3000.0,3100.0,3200.0,3300.0,3400.0,3500.0,3600.0,400.0,500.0,600.0,700.0,800.0,900.0,1000.0,1100.0,1200.0,1300.0,1400.0,1500.0,1600.0,1700.0,1800.0,1900.0,2000.0,2100.0,2200.0,2300.0,2400.0,2500.0,2600.0,2700.0,2800.0,2900.0,3000.0,3100.0,3200.0,3300.0,3400.0,3500.0,400.0,500.0,600.0,700.0,800.0,900.0,1000.0,1100.0,1200.0,1300.0,1400.0,1500.0,1600.0,1700.0,1800.0,1900.0,2000.0,2100.0,2200.0,2300.0,2400.0,2500.0,2600.0,2700.0,2800.0,2900.0,3000.0,3100.0,3200.0,3300.0,3400.0,3500.0,3600.0,1500.0,1829.0,3100.0,400.0,300.0,600.0,1500.0,1600.0,1800.0,2100.0,2400.0,2700.0,3000.0,3300.0,3600.0,300.0,600.0,1030.0,1500.0,1800.0,2100.0,2400.0,2600.0,2700.0,3000.0,3300.0,3600.0,300.0,600.0,1500.0,1800.0,2100.0,2400.0,2700.0,3000.0,3300.0,3600.0,300.0,600.0,1100.0,1500.0,1629.0,1800.0,2100.0,2400.0,2600.0,2700.0,3000.0,3300.0,3600.0,300.0,600.0,700.0,900.0,1500.0,1800.0,2100.0,2400.0,2700.0,3000.0,3300.0,3600.0,300.0,600.0,1500.0,1700.0,1800.0,2100.0,2400.0,2700.0,3000.0,3300.0,3600.0,300.0,600.0,700.0,1130.0,1500.0,1800.0,2100.0,2200.0,2400.0,2700.0,3000.0,3300.0,3600.0,300.0,600.0,930.0,1500.0,1800.0,2000.0,2100.0,2400.0,2500.0,2700.0,2820.0,2900.0,3000.0,3300.0,3600.0,1500.0,1800.0,1900.0,2100.0,2400.0,2700.0,2800.0,2860.0,3000.0,3300.0,3600.0,1100.0,1300.0,1500.0,1800.0,2100.0,2400.0,2700.0,3000.0,3300.0,3600.0,1200.0,1500.0,1800.0,2100.0,2400.0,3600.0,300.0,600.0,1230.0,1500.0,1800.0,2100.0,2400.0,300.0,600.0,3000.0,3520.0,300.0,370.0,600.0,800.0,900.0,1000.0,1100.0,1200.0,1300.0,1400.0,1500.0,1600.0,1700.0,1800.0,1900.0,2000.0,2100.0,2200.0,2300.0,2400.0,2500.0,2600.0,2700.0,2800.0,2900.0,3000.0,3100.0,3500.0,300.0,600.0,3200.0,300.0,469.0,600.0,3200.0,300.0,600.0,3400.0,300.0,600.0,2100.0,300.0,800.0,400.0,500.0,800.0,900.0,1000.0,1100.0,1200.0,1300.0,1400.0,1500.0,1600.0,1700.0,1800.0,1900.0,2000.0,2100.0,2200.0,2300.0,2400.0,2500.0,2600.0,2700.0,2800.0,2900.0,3000.0,3100.0,3400.0,700.0,800.0,900.0,1000.0,1100.0,1200.0,1300.0,1400.0,1500.0,1600.0,1700.0,1800.0,1900.0,2000.0,2100.0,2200.0,2300.0,2500.0,2600.0,2700.0,2800.0,2900.0,3000.0,3100.0,3200.0,3300.0,3400.0,3500.0,3600.0,3700.0,3800.0,900.0,1130.0,400.0,500.0,1400.0,2400.0,3000.0,700.0,800.0,900.0,1000.0,1100.0,1200.0,1300.0,1500.0,1600.0,1700.0,1800.0,1900.0,2000.0,2100.0,2200.0,2300.0,2500.0,2600.0,2700.0,2800.0,2900.0,3000.0,3100.0,3200.0,3300.0,3400.0,3500.0,3600.0,3700.0,3800.0,3500.0,3550.0,2550.0,3350.0,3450.0,2330.0,2430.0,3650.0,3709.0,2550.0,520.0,700.0,2280.0,740.0,2220.0,2600.0,1050.0,1350.0,2280.0,2210.0,750.0,1700.0,2140.0,770.0,300.0,500.0,1850.0,1050.0,2680.0,310.0,510.0,750.0,2580.0,2610.0,3330.0,3409.0,2700.0,2800.0,3450.0,1650.0,3150.0,1900.0,2000.0,2750.0,3250.0,1400.0,2820.0,3250.0,1300.0,1500.0,710.0,3650.0,520.0,2360.0,2200.0,2700.0,3350.0,950.0,1750.0,2050.0,3200.0,3500.0,3150.0,2100.0,710.0,490.0,0.0]},\"selected\":{\"id\":\"7899\"},\"selection_policy\":{\"id\":\"7898\"}},\"id\":\"7886\",\"type\":\"ColumnDataSource\"}],\"root_ids\":[\"7902\"]},\"title\":\"Bokeh Application\",\"version\":\"2.2.3\"}};\n",
       "  var render_items = [{\"docid\":\"34093a80-624c-4ae3-986c-e9fa0b9a7b58\",\"root_ids\":[\"7902\"],\"roots\":{\"7902\":\"a78fd92a-f825-42b9-97c8-e5f80d5190cb\"}}];\n",
       "  root.Bokeh.embed.embed_items_notebook(docs_json, render_items);\n",
       "\n",
       "  }\n",
       "  if (root.Bokeh !== undefined) {\n",
       "    embed_document(root);\n",
       "  } else {\n",
       "    var attempts = 0;\n",
       "    var timer = setInterval(function(root) {\n",
       "      if (root.Bokeh !== undefined) {\n",
       "        clearInterval(timer);\n",
       "        embed_document(root);\n",
       "      } else {\n",
       "        attempts++;\n",
       "        if (attempts > 100) {\n",
       "          clearInterval(timer);\n",
       "          console.log(\"Bokeh: ERROR: Unable to run BokehJS code because BokehJS library is missing\");\n",
       "        }\n",
       "      }\n",
       "    }, 10, root)\n",
       "  }\n",
       "})(window);"
      ],
      "application/vnd.bokehjs_exec.v0+json": ""
     },
     "metadata": {
      "application/vnd.bokehjs_exec.v0+json": {
       "id": "7902"
      }
     },
     "output_type": "display_data"
    }
   ],
   "source": [
    "# Optimal\n",
    "plot_tour(nodes, G, optimal_tour('pcb442'))"
   ]
  },
  {
   "cell_type": "markdown",
   "metadata": {},
   "source": [
    "## Part V: TSP Application: PCB Etching"
   ]
  },
  {
   "cell_type": "markdown",
   "metadata": {},
   "source": [
    "In this final part, we will continue to think about TSP applications arising in PCB manufacturing. We will introduce two added complications. \n",
    "\n",
    "First, in **Part IV**, we ignored a crucial part of the problem: where does the drill bit start? The drill bit must start and end in the same location. It is not good enough to just provide a tour of the holes to be drilled."
   ]
  },
  {
   "cell_type": "markdown",
   "metadata": {},
   "source": [
    "**Q24:** If we just consider a tour of the holes, we miss two distances that must be travelled. What are they?\n",
    "\n",
    "**A:** <font color='blue'>The distance from the start position to the first hole drilled and the distance from the last hole drilled back to the start position.</font>"
   ]
  },
  {
   "cell_type": "markdown",
   "metadata": {},
   "source": [
    "Let's assume the start position of the drill is in the bottom left at $(0,0)$ and all of the holes to be drilled are at positions $(x,y)$ for $x,y > 0$"
   ]
  },
  {
   "cell_type": "markdown",
   "metadata": {},
   "source": [
    "**Q25:** How can we adjust our TSP input to account for this? (Hint: how do the set of nodes change and what are the distances between them?)\n",
    "\n",
    "**A:** <font color='blue'>We introduce an additional node for the start position. The distances between the start position and holes is still just the euclidian distance.</font>"
   ]
  },
  {
   "cell_type": "markdown",
   "metadata": {},
   "source": [
    "If you look back at `pcb442`, you can see that the bottom left node actually represents the drill start location not a hole that needs to be drilled!"
   ]
  },
  {
   "cell_type": "markdown",
   "metadata": {},
   "source": [
    "Let's add the final complication. Suppose, instead of drilling holes, we need to make a series of etchings in the boards. Each etching has a starting location and an ending location. Hence, once the etching machine arrives at a starting location, it must make the etching and go to the corresponding ending location immediately. Below, we have an example of an etching instance. The bottom-left node represents the starting location for the etching machine. Each etching segment has a blue start location and a red end location."
   ]
  },
  {
   "cell_type": "code",
   "execution_count": 41,
   "metadata": {},
   "outputs": [
    {
     "data": {
      "text/html": [
       "\n",
       "\n",
       "\n",
       "\n",
       "\n",
       "\n",
       "  <div class=\"bk-root\" id=\"b1887787-743c-4130-a689-292820b2617a\" data-root-id=\"8329\"></div>\n"
      ]
     },
     "metadata": {},
     "output_type": "display_data"
    },
    {
     "data": {
      "application/javascript": [
       "(function(root) {\n",
       "  function embed_document(root) {\n",
       "    \n",
       "  var docs_json = {\"298cf71f-1256-475e-a28d-5ad830410378\":{\"roots\":{\"references\":[{\"attributes\":{\"children\":[[{\"id\":\"8259\"},0,0],[{\"id\":\"8293\"},1,0]]},\"id\":\"8329\",\"type\":\"GridBox\"},{\"attributes\":{\"background_fill_color\":null,\"below\":[{\"id\":\"8270\"}],\"border_fill_color\":null,\"center\":[{\"id\":\"8273\"},{\"id\":\"8277\"}],\"left\":[{\"id\":\"8274\"}],\"outline_line_color\":null,\"plot_height\":400,\"plot_width\":800,\"renderers\":[{\"id\":\"8297\"},{\"id\":\"8302\"},{\"id\":\"8307\"},{\"id\":\"8312\"}],\"title\":{\"id\":\"8260\"},\"toolbar\":{\"id\":\"8285\"},\"toolbar_location\":null,\"x_range\":{\"id\":\"8262\"},\"x_scale\":{\"id\":\"8266\"},\"y_range\":{\"id\":\"8264\"},\"y_scale\":{\"id\":\"8268\"}},\"id\":\"8259\",\"subtype\":\"Figure\",\"type\":\"Plot\"},{\"attributes\":{\"text\":\"\"},\"id\":\"8260\",\"type\":\"Title\"},{\"attributes\":{\"source\":{\"id\":\"8299\"}},\"id\":\"8303\",\"type\":\"CDSView\"},{\"attributes\":{},\"id\":\"8278\",\"type\":\"PanTool\"},{\"attributes\":{},\"id\":\"8323\",\"type\":\"UnionRenderers\"},{\"attributes\":{},\"id\":\"8279\",\"type\":\"WheelZoomTool\"},{\"attributes\":{},\"id\":\"8324\",\"type\":\"Selection\"},{\"attributes\":{\"data\":{\"x\":[3.0,3.0,3.0,3.0,5.0,8.0,8.0,8.0,8.0,8.0,8.0,8.0,11.0,12.0,13.0,14.0,15.0,15.0,18.0,18.0,18.0,18.0,18.0,18.0,18.0,13.0,21.0,21.0,21.0,21.0,21.0,21.0,21.0,21.0,21.0,21.0,21.0,21.0,21.0,21.0,21.0,21.0,21.0,21.0,28.0,28.0,28.0,28.0,28.0,28.0,28.0,28.0,28.0,31.0,31.0,31.0,31.0,31.0,31.0,31.0,31.0,35.0,35.0,36.0,36.0,36.0,36.0,37.0,37.0,37.0,37.0,37.0,37.0,37.0,38.0,38.0,41.0,41.0,41.0,41.0,43.0,44.0,44.0,44.0,44.0,44.0,51.0,51.0,51.0,54.0,54.0,59.0,60.0,60.0,60.0,64.0,64.0,66.0,67.0,74.0,74.0,74.0,74.0,74.0,77.0,77.0,77.0,77.0,77.0,77.0,77.0,77.0,80.0,81.0,81.0,81.0,81.0,82.0,82.0,82.0,83.0,83.0,83.0,84.0,87.0,87.0,87.0,87.0,87.0,87.0,110.0,3.0,0.0],\"y\":[16.0,29.0,30.0,42.0,3.0,16.0,22.0,28.0,34.0,40.0,46.0,11.0,3.0,13.0,13.0,13.0,13.0,8.0,16.0,22.0,28.0,34.0,40.0,48.0,11.0,20.0,16.0,18.0,20.0,22.0,24.0,26.0,28.0,30.0,32.0,34.0,36.0,38.0,40.0,42.0,44.0,45.0,47.0,48.0,14.0,18.0,25.0,26.0,27.0,29.0,31.0,32.0,12.0,19.0,23.0,31.0,33.0,37.0,43.0,46.0,50.0,29.0,34.0,18.0,29.0,32.0,34.0,18.0,29.0,32.0,34.0,41.0,44.0,8.0,20.0,34.0,19.0,23.0,33.0,37.0,25.0,26.0,35.0,37.0,38.0,39.0,25.0,30.0,9.0,48.0,50.0,28.0,15.0,28.0,47.0,48.0,50.0,9.0,25.0,14.0,16.0,19.0,48.0,50.0,15.0,19.0,23.0,27.0,32.0,38.0,42.0,9.0,24.0,13.0,35.0,38.0,42.0,13.0,36.0,40.0,13.0,44.0,8.0,20.0,23.0,27.0,32.0,37.0,41.0,9.0,30.0,3.0,0.0]},\"selected\":{\"id\":\"8324\"},\"selection_policy\":{\"id\":\"8323\"}},\"id\":\"8304\",\"type\":\"ColumnDataSource\"},{\"attributes\":{\"overlay\":{\"id\":\"8284\"}},\"id\":\"8280\",\"type\":\"BoxZoomTool\"},{\"attributes\":{},\"id\":\"8325\",\"type\":\"UnionRenderers\"},{\"attributes\":{\"data_source\":{\"id\":\"8304\"},\"glyph\":{\"id\":\"8305\"},\"hover_glyph\":null,\"muted_glyph\":null,\"nonselection_glyph\":{\"id\":\"8306\"},\"selection_glyph\":null,\"view\":{\"id\":\"8308\"}},\"id\":\"8307\",\"type\":\"GlyphRenderer\"},{\"attributes\":{},\"id\":\"8281\",\"type\":\"SaveTool\"},{\"attributes\":{},\"id\":\"8326\",\"type\":\"Selection\"},{\"attributes\":{},\"id\":\"8282\",\"type\":\"ResetTool\"},{\"attributes\":{\"end\":119.35,\"start\":-9.350000000000001},\"id\":\"8262\",\"type\":\"Range1d\"},{\"attributes\":{\"data\":{\"x\":[3,1,6,3,5,6,12,4,12,6,12,6,11,12,13,14,15,19,18,18,14,18,14,18,21,17,23,18,23,23,23,19,19,24,24,24,25,23,23,25,18,25,17,25,30,32,26,26,32,26,26,30,25,27,27,34,27,29,28,28,33,35,32,36,36,33,36,37,42,40,37,34,39,33,36,38,38,43,39,41,45,47,47,42,47,46,51,53,51,51,58,59,62,60,60,62,68,62,67,70,72,70,71,78,74,82,80,81,79,73,74,73,76,81,78,79,78,82,85,80,85,83,81,84,87,90,89,87,91,87,110,3,0],\"y\":[13,29,30,39,1,16,22,28,34,40,46,11,7,10,15,16,16,8,13,24,28,31,40,50,11,20,16,18,20,22,24,26,28,30,32,34,36,38,40,42,44,45,47,48,14,18,25,26,27,29,31,32,12,19,23,31,33,37,43,46,50,27,34,16,31,32,37,13,29,32,38,41,44,8,20,36,19,23,33,41,25,26,35,37,38,39,27,30,13,48,50,24,15,30,43,48,50,9,28,14,16,19,48,50,15,19,23,27,32,38,42,9,24,9,35,38,42,17,36,40,13,40,8,22,25,27,32,40,41,13,32,3,0]},\"selected\":{\"id\":\"8326\"},\"selection_policy\":{\"id\":\"8325\"}},\"id\":\"8309\",\"type\":\"ColumnDataSource\"},{\"attributes\":{},\"id\":\"8283\",\"type\":\"HelpTool\"},{\"attributes\":{\"fill_alpha\":{\"value\":0.1},\"fill_color\":{\"value\":\"steelblue\"},\"line_alpha\":{\"value\":0.1},\"line_color\":{\"value\":\"steelblue\"},\"size\":{\"units\":\"screen\",\"value\":5},\"x\":{\"field\":\"x\"},\"y\":{\"field\":\"y\"}},\"id\":\"8306\",\"type\":\"Circle\"},{\"attributes\":{\"source\":{\"id\":\"8304\"}},\"id\":\"8308\",\"type\":\"CDSView\"},{\"attributes\":{\"end\":54.25,\"start\":-4.25},\"id\":\"8264\",\"type\":\"Range1d\"},{\"attributes\":{\"active_drag\":\"auto\",\"active_inspect\":\"auto\",\"active_multi\":null,\"active_scroll\":\"auto\",\"active_tap\":\"auto\",\"logo\":null,\"tools\":[{\"id\":\"8278\"},{\"id\":\"8279\"},{\"id\":\"8280\"},{\"id\":\"8281\"},{\"id\":\"8282\"},{\"id\":\"8283\"}]},\"id\":\"8285\",\"type\":\"Toolbar\"},{\"attributes\":{\"fill_color\":{\"value\":\"steelblue\"},\"line_color\":{\"value\":\"steelblue\"},\"size\":{\"units\":\"screen\",\"value\":5},\"x\":{\"field\":\"x\"},\"y\":{\"field\":\"y\"}},\"id\":\"8305\",\"type\":\"Circle\"},{\"attributes\":{\"data_source\":{\"id\":\"8309\"},\"glyph\":{\"id\":\"8310\"},\"hover_glyph\":null,\"muted_glyph\":null,\"nonselection_glyph\":{\"id\":\"8311\"},\"selection_glyph\":null,\"view\":{\"id\":\"8313\"}},\"id\":\"8312\",\"type\":\"GlyphRenderer\"},{\"attributes\":{},\"id\":\"8266\",\"type\":\"LinearScale\"},{\"attributes\":{},\"id\":\"8268\",\"type\":\"LinearScale\"},{\"attributes\":{\"bottom_units\":\"screen\",\"fill_alpha\":0.5,\"fill_color\":\"lightgrey\",\"left_units\":\"screen\",\"level\":\"overlay\",\"line_alpha\":1.0,\"line_color\":\"black\",\"line_dash\":[4,4],\"line_width\":2,\"right_units\":\"screen\",\"top_units\":\"screen\"},\"id\":\"8284\",\"type\":\"BoxAnnotation\"},{\"attributes\":{\"formatter\":{\"id\":\"8315\"},\"ticker\":{\"id\":\"8271\"},\"visible\":false},\"id\":\"8270\",\"type\":\"LinearAxis\"},{\"attributes\":{\"fill_alpha\":{\"value\":0.1},\"fill_color\":{\"value\":\"#DC0000\"},\"line_alpha\":{\"value\":0.1},\"line_color\":{\"value\":\"#DC0000\"},\"size\":{\"units\":\"screen\",\"value\":5},\"x\":{\"field\":\"x\"},\"y\":{\"field\":\"y\"}},\"id\":\"8311\",\"type\":\"Circle\"},{\"attributes\":{\"line_width\":{\"value\":2},\"xs\":{\"field\":\"xs\"},\"ys\":{\"field\":\"ys\"}},\"id\":\"8295\",\"type\":\"MultiLine\"},{\"attributes\":{},\"id\":\"8271\",\"type\":\"BasicTicker\"},{\"attributes\":{\"data_source\":{\"id\":\"8294\"},\"glyph\":{\"id\":\"8295\"},\"hover_glyph\":null,\"muted_glyph\":null,\"nonselection_glyph\":{\"id\":\"8296\"},\"selection_glyph\":null,\"view\":{\"id\":\"8298\"}},\"id\":\"8297\",\"type\":\"GlyphRenderer\"},{\"attributes\":{\"source\":{\"id\":\"8309\"}},\"id\":\"8313\",\"type\":\"CDSView\"},{\"attributes\":{\"axis\":{\"id\":\"8270\"},\"grid_line_color\":null,\"ticker\":null},\"id\":\"8273\",\"type\":\"Grid\"},{\"attributes\":{\"fill_color\":{\"value\":\"#DC0000\"},\"line_color\":{\"value\":\"#DC0000\"},\"size\":{\"units\":\"screen\",\"value\":5},\"x\":{\"field\":\"x\"},\"y\":{\"field\":\"y\"}},\"id\":\"8310\",\"type\":\"Circle\"},{\"attributes\":{},\"id\":\"8315\",\"type\":\"BasicTickFormatter\"},{\"attributes\":{\"formatter\":{\"id\":\"8317\"},\"ticker\":{\"id\":\"8275\"},\"visible\":false},\"id\":\"8274\",\"type\":\"LinearAxis\"},{\"attributes\":{\"line_alpha\":{\"value\":0.1},\"line_width\":{\"value\":2},\"xs\":{\"field\":\"xs\"},\"ys\":{\"field\":\"ys\"}},\"id\":\"8296\",\"type\":\"MultiLine\"},{\"attributes\":{},\"id\":\"8317\",\"type\":\"BasicTickFormatter\"},{\"attributes\":{\"source\":{\"id\":\"8294\"}},\"id\":\"8298\",\"type\":\"CDSView\"},{\"attributes\":{},\"id\":\"8275\",\"type\":\"BasicTicker\"},{\"attributes\":{\"data\":{\"x\":[],\"y\":[]},\"selected\":{\"id\":\"8322\"},\"selection_policy\":{\"id\":\"8321\"}},\"id\":\"8299\",\"type\":\"ColumnDataSource\"},{\"attributes\":{},\"id\":\"8319\",\"type\":\"UnionRenderers\"},{\"attributes\":{\"axis\":{\"id\":\"8274\"},\"dimension\":1,\"grid_line_color\":null,\"ticker\":null},\"id\":\"8277\",\"type\":\"Grid\"},{\"attributes\":{},\"id\":\"8320\",\"type\":\"Selection\"},{\"attributes\":{\"line_dash\":[6],\"line_width\":2,\"x\":{\"field\":\"x\"},\"y\":{\"field\":\"y\"}},\"id\":\"8300\",\"type\":\"Line\"},{\"attributes\":{\"line_alpha\":0.1,\"line_dash\":[6],\"line_width\":2,\"x\":{\"field\":\"x\"},\"y\":{\"field\":\"y\"}},\"id\":\"8301\",\"type\":\"Line\"},{\"attributes\":{},\"id\":\"8322\",\"type\":\"Selection\"},{\"attributes\":{\"data\":{\"xs\":[[3.0,3.0],[3.0,1.0],[3.0,6.0],[3.0,3.0],[5.0,5.0],[8.0,6.0],[8.0,12.0],[8.0,4.0],[8.0,12.0],[8.0,6.0],[8.0,12.0],[8.0,6.0],[11.0,11.0],[12.0,12.0],[13.0,13.0],[14.0,14.0],[15.0,15.0],[15.0,19.0],[18.0,18.0],[18.0,18.0],[18.0,14.0],[18.0,18.0],[18.0,14.0],[18.0,18.0],[18.0,21.0],[13.0,17.0],[21.0,23.0],[21.0,18.0],[21.0,23.0],[21.0,23.0],[21.0,23.0],[21.0,19.0],[21.0,19.0],[21.0,24.0],[21.0,24.0],[21.0,24.0],[21.0,25.0],[21.0,23.0],[21.0,23.0],[21.0,25.0],[21.0,18.0],[21.0,25.0],[21.0,17.0],[21.0,25.0],[28.0,30.0],[28.0,32.0],[28.0,26.0],[28.0,26.0],[28.0,32.0],[28.0,26.0],[28.0,26.0],[28.0,30.0],[28.0,25.0],[31.0,27.0],[31.0,27.0],[31.0,34.0],[31.0,27.0],[31.0,29.0],[31.0,28.0],[31.0,28.0],[31.0,33.0],[35.0,35.0],[35.0,32.0],[36.0,36.0],[36.0,36.0],[36.0,33.0],[36.0,36.0],[37.0,37.0],[37.0,42.0],[37.0,40.0],[37.0,37.0],[37.0,34.0],[37.0,39.0],[37.0,33.0],[38.0,36.0],[38.0,38.0],[41.0,38.0],[41.0,43.0],[41.0,39.0],[41.0,41.0],[43.0,45.0],[44.0,47.0],[44.0,47.0],[44.0,42.0],[44.0,47.0],[44.0,46.0],[51.0,51.0],[51.0,53.0],[51.0,51.0],[54.0,51.0],[54.0,58.0],[59.0,59.0],[60.0,62.0],[60.0,60.0],[60.0,60.0],[64.0,62.0],[64.0,68.0],[66.0,62.0],[67.0,67.0],[74.0,70.0],[74.0,72.0],[74.0,70.0],[74.0,71.0],[74.0,78.0],[77.0,74.0],[77.0,82.0],[77.0,80.0],[77.0,81.0],[77.0,79.0],[77.0,73.0],[77.0,74.0],[77.0,73.0],[80.0,76.0],[81.0,81.0],[81.0,78.0],[81.0,79.0],[81.0,78.0],[82.0,82.0],[82.0,85.0],[82.0,80.0],[83.0,85.0],[83.0,83.0],[83.0,81.0],[84.0,84.0],[87.0,87.0],[87.0,90.0],[87.0,89.0],[87.0,87.0],[87.0,91.0],[87.0,87.0],[110.0,110.0],[3.0,3.0],[0.0,0.0]],\"ys\":[[16.0,13.0],[29.0,29.0],[30.0,30.0],[42.0,39.0],[3.0,1.0],[16.0,16.0],[22.0,22.0],[28.0,28.0],[34.0,34.0],[40.0,40.0],[46.0,46.0],[11.0,11.0],[3.0,7.0],[13.0,10.0],[13.0,15.0],[13.0,16.0],[13.0,16.0],[8.0,8.0],[16.0,13.0],[22.0,24.0],[28.0,28.0],[34.0,31.0],[40.0,40.0],[48.0,50.0],[11.0,11.0],[20.0,20.0],[16.0,16.0],[18.0,18.0],[20.0,20.0],[22.0,22.0],[24.0,24.0],[26.0,26.0],[28.0,28.0],[30.0,30.0],[32.0,32.0],[34.0,34.0],[36.0,36.0],[38.0,38.0],[40.0,40.0],[42.0,42.0],[44.0,44.0],[45.0,45.0],[47.0,47.0],[48.0,48.0],[14.0,14.0],[18.0,18.0],[25.0,25.0],[26.0,26.0],[27.0,27.0],[29.0,29.0],[31.0,31.0],[32.0,32.0],[12.0,12.0],[19.0,19.0],[23.0,23.0],[31.0,31.0],[33.0,33.0],[37.0,37.0],[43.0,43.0],[46.0,46.0],[50.0,50.0],[29.0,27.0],[34.0,34.0],[18.0,16.0],[29.0,31.0],[32.0,32.0],[34.0,37.0],[18.0,13.0],[29.0,29.0],[32.0,32.0],[34.0,38.0],[41.0,41.0],[44.0,44.0],[8.0,8.0],[20.0,20.0],[34.0,36.0],[19.0,19.0],[23.0,23.0],[33.0,33.0],[37.0,41.0],[25.0,25.0],[26.0,26.0],[35.0,35.0],[37.0,37.0],[38.0,38.0],[39.0,39.0],[25.0,27.0],[30.0,30.0],[9.0,13.0],[48.0,48.0],[50.0,50.0],[28.0,24.0],[15.0,15.0],[28.0,30.0],[47.0,43.0],[48.0,48.0],[50.0,50.0],[9.0,9.0],[25.0,28.0],[14.0,14.0],[16.0,16.0],[19.0,19.0],[48.0,48.0],[50.0,50.0],[15.0,15.0],[19.0,19.0],[23.0,23.0],[27.0,27.0],[32.0,32.0],[38.0,38.0],[42.0,42.0],[9.0,9.0],[24.0,24.0],[13.0,9.0],[35.0,35.0],[38.0,38.0],[42.0,42.0],[13.0,17.0],[36.0,36.0],[40.0,40.0],[13.0,13.0],[44.0,40.0],[8.0,8.0],[20.0,22.0],[23.0,25.0],[27.0,27.0],[32.0,32.0],[37.0,40.0],[41.0,41.0],[9.0,13.0],[30.0,32.0],[3.0,3.0],[0.0,0.0]]},\"selected\":{\"id\":\"8320\"},\"selection_policy\":{\"id\":\"8319\"}},\"id\":\"8294\",\"type\":\"ColumnDataSource\"},{\"attributes\":{},\"id\":\"8321\",\"type\":\"UnionRenderers\"},{\"attributes\":{\"data_source\":{\"id\":\"8299\"},\"glyph\":{\"id\":\"8300\"},\"hover_glyph\":null,\"muted_glyph\":null,\"nonselection_glyph\":{\"id\":\"8301\"},\"selection_glyph\":null,\"view\":{\"id\":\"8303\"}},\"id\":\"8302\",\"type\":\"GlyphRenderer\"},{\"attributes\":{\"align\":\"center\",\"text\":\"0\",\"width\":800},\"id\":\"8293\",\"type\":\"Div\"}],\"root_ids\":[\"8329\"]},\"title\":\"Bokeh Application\",\"version\":\"2.2.3\"}};\n",
       "  var render_items = [{\"docid\":\"298cf71f-1256-475e-a28d-5ad830410378\",\"root_ids\":[\"8329\"],\"roots\":{\"8329\":\"b1887787-743c-4130-a689-292820b2617a\"}}];\n",
       "  root.Bokeh.embed.embed_items_notebook(docs_json, render_items);\n",
       "\n",
       "  }\n",
       "  if (root.Bokeh !== undefined) {\n",
       "    embed_document(root);\n",
       "  } else {\n",
       "    var attempts = 0;\n",
       "    var timer = setInterval(function(root) {\n",
       "      if (root.Bokeh !== undefined) {\n",
       "        clearInterval(timer);\n",
       "        embed_document(root);\n",
       "      } else {\n",
       "        attempts++;\n",
       "        if (attempts > 100) {\n",
       "          clearInterval(timer);\n",
       "          console.log(\"Bokeh: ERROR: Unable to run BokehJS code because BokehJS library is missing\");\n",
       "        }\n",
       "      }\n",
       "    }, 10, root)\n",
       "  }\n",
       "})(window);"
      ],
      "application/vnd.bokehjs_exec.v0+json": ""
     },
     "metadata": {
      "application/vnd.bokehjs_exec.v0+json": {
       "id": "8329"
      }
     },
     "output_type": "display_data"
    }
   ],
   "source": [
    "nodes = pd.read_csv('data/xqf131_etching.csv', index_col=0)\n",
    "G = distance_matrix(nodes, manhattan=False, etching=True)\n",
    "plot_etching_tour(nodes,G, [])"
   ]
  },
  {
   "cell_type": "markdown",
   "metadata": {},
   "source": [
    "**Q26:** What are the \"nodes\" in the PCB etching problem? (Hint: Don't forget about the starting location of the etching machine.)\n",
    "\n",
    "**A:** <font color='blue'> Each etching (a combination of a starting and ending location) is a node. The final node is an etching with the same starting and ending location.</font>"
   ]
  },
  {
   "cell_type": "markdown",
   "metadata": {},
   "source": [
    "*Ask a TA if you are struggling with **Q25**. Once you get that, the next questions will become clearer!*"
   ]
  },
  {
   "cell_type": "markdown",
   "metadata": {},
   "source": [
    "**Q27:** What is the distance between two \"nodes\" in the PCB etching problem? (Assume the drill can travel in a straight line between two locations).\n",
    "\n",
    "**A:** <font color='blue'> The distance between node $i$ and node $j$ is the distance from the ending location of node $i$ to the starting location of node $j$.</font>"
   ]
  },
  {
   "cell_type": "markdown",
   "metadata": {},
   "source": [
    "**Q28:** Our past TSP examples have been *symmetric* in that the distance from node $i$ to node $j$ was the same as the distance from node $j$ to node $i$. Is the TSP input for a PCB etching problem symmetric? Why or why not?\n",
    "\n",
    "**A:** <font color='blue'> No. The distance from the end of $i$ to the start of $j$ may be different than the distance from the end of $j$ to the start of $i$</font>"
   ]
  },
  {
   "cell_type": "markdown",
   "metadata": {},
   "source": [
    "Again, we find we can still use the TSP to solve this new problem! Let's start by applying some of our TSP heuristics. When printing the solution, the dashed lines indicate when the etching machine is moving between etchings. "
   ]
  },
  {
   "cell_type": "code",
   "execution_count": 42,
   "metadata": {},
   "outputs": [
    {
     "data": {
      "text/html": [
       "\n",
       "\n",
       "\n",
       "\n",
       "\n",
       "\n",
       "  <div class=\"bk-root\" id=\"6ce70683-dc00-468e-8170-32eb28f05a38\" data-root-id=\"8790\"></div>\n"
      ]
     },
     "metadata": {},
     "output_type": "display_data"
    },
    {
     "data": {
      "application/javascript": [
       "(function(root) {\n",
       "  function embed_document(root) {\n",
       "    \n",
       "  var docs_json = {\"e7f83335-8063-4bac-b3d9-8758fc9aee40\":{\"roots\":{\"references\":[{\"attributes\":{\"children\":[[{\"id\":\"8720\"},0,0],[{\"id\":\"8754\"},1,0]]},\"id\":\"8790\",\"type\":\"GridBox\"},{\"attributes\":{},\"id\":\"8780\",\"type\":\"UnionRenderers\"},{\"attributes\":{\"line_alpha\":{\"value\":0.1},\"line_width\":{\"value\":2},\"xs\":{\"field\":\"xs\"},\"ys\":{\"field\":\"ys\"}},\"id\":\"8757\",\"type\":\"MultiLine\"},{\"attributes\":{},\"id\":\"8781\",\"type\":\"Selection\"},{\"attributes\":{},\"id\":\"8782\",\"type\":\"UnionRenderers\"},{\"attributes\":{\"source\":{\"id\":\"8755\"}},\"id\":\"8759\",\"type\":\"CDSView\"},{\"attributes\":{},\"id\":\"8783\",\"type\":\"Selection\"},{\"attributes\":{\"data_source\":{\"id\":\"8755\"},\"glyph\":{\"id\":\"8756\"},\"hover_glyph\":null,\"muted_glyph\":null,\"nonselection_glyph\":{\"id\":\"8757\"},\"selection_glyph\":null,\"view\":{\"id\":\"8759\"}},\"id\":\"8758\",\"type\":\"GlyphRenderer\"},{\"attributes\":{\"data\":{\"x\":[3.0,3.0,8.0,6.0,13.0,13.0,12.0,12.0,14.0,14.0,15.0,15.0,18.0,18.0,21.0,18.0,21.0,23.0,21.0,23.0,21.0,23.0,21.0,19.0,21.0,19.0,21.0,24.0,18.0,18.0,8.0,12.0,3.0,6.0,8.0,4.0,18.0,14.0,18.0,18.0,13.0,17.0,8.0,12.0,3.0,1.0,3.0,3.0,8.0,6.0,18.0,14.0,21.0,18.0,21.0,25.0,21.0,17.0,21.0,25.0,18.0,18.0,8.0,12.0,21.0,23.0,21.0,23.0,21.0,25.0,21.0,24.0,21.0,24.0,28.0,26.0,28.0,30.0,31.0,27.0,35.0,32.0,36.0,33.0,36.0,36.0,35.0,35.0,31.0,34.0,28.0,32.0,28.0,26.0,28.0,26.0,31.0,27.0,28.0,32.0,31.0,27.0,38.0,36.0,41.0,38.0,41.0,43.0,43.0,45.0,37.0,42.0,37.0,40.0,41.0,39.0,44.0,42.0,44.0,46.0,44.0,47.0,41.0,41.0,38.0,38.0,36.0,36.0,37.0,37.0,37.0,34.0,37.0,39.0,31.0,33.0,31.0,28.0,31.0,28.0,21.0,25.0,31.0,29.0,28.0,26.0,21.0,23.0,18.0,21.0,15.0,19.0,11.0,11.0,5.0,5.0,3.0,3.0,0.0,0.0,8.0,6.0,28.0,25.0,28.0,30.0,37.0,33.0,37.0,37.0,36.0,36.0,44.0,47.0,51.0,51.0,51.0,53.0,44.0,47.0,54.0,51.0,54.0,58.0,64.0,62.0,64.0,68.0,74.0,71.0,74.0,78.0,77.0,74.0,81.0,78.0,82.0,80.0,83.0,83.0,87.0,87.0,82.0,85.0,81.0,79.0,81.0,78.0,77.0,79.0,77.0,81.0,80.0,76.0,77.0,80.0,77.0,82.0,77.0,74.0,74.0,72.0,74.0,70.0,77.0,73.0,81.0,81.0,83.0,85.0,87.0,87.0,83.0,81.0,82.0,82.0,84.0,84.0,87.0,87.0,87.0,90.0,87.0,89.0,87.0,91.0,77.0,73.0,67.0,67.0,74.0,70.0,60.0,62.0,66.0,62.0,51.0,51.0,59.0,59.0,60.0,60.0,60.0,60.0,110.0,110.0,3.0,3.0],\"y\":[16.0,13.0,16.0,16.0,13.0,15.0,13.0,10.0,13.0,16.0,13.0,16.0,16.0,13.0,18.0,18.0,20.0,20.0,22.0,22.0,24.0,24.0,26.0,26.0,28.0,28.0,30.0,30.0,34.0,31.0,34.0,34.0,30.0,30.0,28.0,28.0,28.0,28.0,22.0,24.0,20.0,20.0,22.0,22.0,29.0,29.0,42.0,39.0,40.0,40.0,40.0,40.0,44.0,44.0,45.0,45.0,47.0,47.0,48.0,48.0,48.0,50.0,46.0,46.0,40.0,40.0,38.0,38.0,36.0,36.0,34.0,34.0,32.0,32.0,31.0,31.0,32.0,32.0,33.0,33.0,34.0,34.0,32.0,32.0,29.0,31.0,29.0,27.0,31.0,31.0,27.0,27.0,26.0,26.0,25.0,25.0,23.0,23.0,18.0,18.0,19.0,19.0,20.0,20.0,19.0,19.0,23.0,23.0,25.0,25.0,29.0,29.0,32.0,32.0,33.0,33.0,37.0,37.0,39.0,39.0,38.0,38.0,37.0,41.0,34.0,36.0,34.0,37.0,34.0,38.0,41.0,41.0,44.0,44.0,50.0,50.0,46.0,46.0,43.0,43.0,42.0,42.0,37.0,37.0,29.0,29.0,16.0,16.0,11.0,11.0,8.0,8.0,3.0,7.0,3.0,1.0,3.0,3.0,0.0,0.0,11.0,11.0,12.0,12.0,14.0,14.0,8.0,8.0,18.0,13.0,18.0,16.0,26.0,26.0,25.0,27.0,30.0,30.0,35.0,35.0,48.0,48.0,50.0,50.0,48.0,48.0,50.0,50.0,48.0,48.0,50.0,50.0,42.0,42.0,42.0,42.0,40.0,40.0,44.0,40.0,37.0,40.0,36.0,36.0,38.0,38.0,35.0,35.0,32.0,32.0,27.0,27.0,24.0,24.0,23.0,23.0,19.0,19.0,15.0,15.0,16.0,16.0,14.0,14.0,9.0,9.0,13.0,9.0,13.0,13.0,9.0,13.0,8.0,8.0,13.0,17.0,20.0,22.0,23.0,25.0,27.0,27.0,32.0,32.0,41.0,41.0,38.0,38.0,25.0,28.0,19.0,19.0,15.0,15.0,9.0,9.0,9.0,13.0,28.0,24.0,28.0,30.0,47.0,43.0,30.0,32.0,16.0,13.0]},\"selected\":{\"id\":\"8783\"},\"selection_policy\":{\"id\":\"8782\"}},\"id\":\"8760\",\"type\":\"ColumnDataSource\"},{\"attributes\":{},\"id\":\"8784\",\"type\":\"UnionRenderers\"},{\"attributes\":{},\"id\":\"8785\",\"type\":\"Selection\"},{\"attributes\":{\"data_source\":{\"id\":\"8760\"},\"glyph\":{\"id\":\"8761\"},\"hover_glyph\":null,\"muted_glyph\":null,\"nonselection_glyph\":{\"id\":\"8762\"},\"selection_glyph\":null,\"view\":{\"id\":\"8764\"}},\"id\":\"8763\",\"type\":\"GlyphRenderer\"},{\"attributes\":{\"axis\":{\"id\":\"8735\"},\"dimension\":1,\"grid_line_color\":null,\"ticker\":null},\"id\":\"8738\",\"type\":\"Grid\"},{\"attributes\":{\"line_dash\":[6],\"line_width\":2,\"x\":{\"field\":\"x\"},\"y\":{\"field\":\"y\"}},\"id\":\"8761\",\"type\":\"Line\"},{\"attributes\":{\"data_source\":{\"id\":\"8765\"},\"glyph\":{\"id\":\"8766\"},\"hover_glyph\":null,\"muted_glyph\":null,\"nonselection_glyph\":{\"id\":\"8767\"},\"selection_glyph\":null,\"view\":{\"id\":\"8769\"}},\"id\":\"8768\",\"type\":\"GlyphRenderer\"},{\"attributes\":{},\"id\":\"8736\",\"type\":\"BasicTicker\"},{\"attributes\":{},\"id\":\"8786\",\"type\":\"UnionRenderers\"},{\"attributes\":{},\"id\":\"8787\",\"type\":\"Selection\"},{\"attributes\":{\"formatter\":{\"id\":\"8778\"},\"ticker\":{\"id\":\"8736\"},\"visible\":false},\"id\":\"8735\",\"type\":\"LinearAxis\"},{\"attributes\":{\"line_alpha\":0.1,\"line_dash\":[6],\"line_width\":2,\"x\":{\"field\":\"x\"},\"y\":{\"field\":\"y\"}},\"id\":\"8762\",\"type\":\"Line\"},{\"attributes\":{},\"id\":\"8732\",\"type\":\"BasicTicker\"},{\"attributes\":{\"data\":{\"xs\":[[3.0,3.0],[3.0,1.0],[3.0,6.0],[3.0,3.0],[5.0,5.0],[8.0,6.0],[8.0,12.0],[8.0,4.0],[8.0,12.0],[8.0,6.0],[8.0,12.0],[8.0,6.0],[11.0,11.0],[12.0,12.0],[13.0,13.0],[14.0,14.0],[15.0,15.0],[15.0,19.0],[18.0,18.0],[18.0,18.0],[18.0,14.0],[18.0,18.0],[18.0,14.0],[18.0,18.0],[18.0,21.0],[13.0,17.0],[21.0,23.0],[21.0,18.0],[21.0,23.0],[21.0,23.0],[21.0,23.0],[21.0,19.0],[21.0,19.0],[21.0,24.0],[21.0,24.0],[21.0,24.0],[21.0,25.0],[21.0,23.0],[21.0,23.0],[21.0,25.0],[21.0,18.0],[21.0,25.0],[21.0,17.0],[21.0,25.0],[28.0,30.0],[28.0,32.0],[28.0,26.0],[28.0,26.0],[28.0,32.0],[28.0,26.0],[28.0,26.0],[28.0,30.0],[28.0,25.0],[31.0,27.0],[31.0,27.0],[31.0,34.0],[31.0,27.0],[31.0,29.0],[31.0,28.0],[31.0,28.0],[31.0,33.0],[35.0,35.0],[35.0,32.0],[36.0,36.0],[36.0,36.0],[36.0,33.0],[36.0,36.0],[37.0,37.0],[37.0,42.0],[37.0,40.0],[37.0,37.0],[37.0,34.0],[37.0,39.0],[37.0,33.0],[38.0,36.0],[38.0,38.0],[41.0,38.0],[41.0,43.0],[41.0,39.0],[41.0,41.0],[43.0,45.0],[44.0,47.0],[44.0,47.0],[44.0,42.0],[44.0,47.0],[44.0,46.0],[51.0,51.0],[51.0,53.0],[51.0,51.0],[54.0,51.0],[54.0,58.0],[59.0,59.0],[60.0,62.0],[60.0,60.0],[60.0,60.0],[64.0,62.0],[64.0,68.0],[66.0,62.0],[67.0,67.0],[74.0,70.0],[74.0,72.0],[74.0,70.0],[74.0,71.0],[74.0,78.0],[77.0,74.0],[77.0,82.0],[77.0,80.0],[77.0,81.0],[77.0,79.0],[77.0,73.0],[77.0,74.0],[77.0,73.0],[80.0,76.0],[81.0,81.0],[81.0,78.0],[81.0,79.0],[81.0,78.0],[82.0,82.0],[82.0,85.0],[82.0,80.0],[83.0,85.0],[83.0,83.0],[83.0,81.0],[84.0,84.0],[87.0,87.0],[87.0,90.0],[87.0,89.0],[87.0,87.0],[87.0,91.0],[87.0,87.0],[110.0,110.0],[3.0,3.0],[0.0,0.0]],\"ys\":[[16.0,13.0],[29.0,29.0],[30.0,30.0],[42.0,39.0],[3.0,1.0],[16.0,16.0],[22.0,22.0],[28.0,28.0],[34.0,34.0],[40.0,40.0],[46.0,46.0],[11.0,11.0],[3.0,7.0],[13.0,10.0],[13.0,15.0],[13.0,16.0],[13.0,16.0],[8.0,8.0],[16.0,13.0],[22.0,24.0],[28.0,28.0],[34.0,31.0],[40.0,40.0],[48.0,50.0],[11.0,11.0],[20.0,20.0],[16.0,16.0],[18.0,18.0],[20.0,20.0],[22.0,22.0],[24.0,24.0],[26.0,26.0],[28.0,28.0],[30.0,30.0],[32.0,32.0],[34.0,34.0],[36.0,36.0],[38.0,38.0],[40.0,40.0],[42.0,42.0],[44.0,44.0],[45.0,45.0],[47.0,47.0],[48.0,48.0],[14.0,14.0],[18.0,18.0],[25.0,25.0],[26.0,26.0],[27.0,27.0],[29.0,29.0],[31.0,31.0],[32.0,32.0],[12.0,12.0],[19.0,19.0],[23.0,23.0],[31.0,31.0],[33.0,33.0],[37.0,37.0],[43.0,43.0],[46.0,46.0],[50.0,50.0],[29.0,27.0],[34.0,34.0],[18.0,16.0],[29.0,31.0],[32.0,32.0],[34.0,37.0],[18.0,13.0],[29.0,29.0],[32.0,32.0],[34.0,38.0],[41.0,41.0],[44.0,44.0],[8.0,8.0],[20.0,20.0],[34.0,36.0],[19.0,19.0],[23.0,23.0],[33.0,33.0],[37.0,41.0],[25.0,25.0],[26.0,26.0],[35.0,35.0],[37.0,37.0],[38.0,38.0],[39.0,39.0],[25.0,27.0],[30.0,30.0],[9.0,13.0],[48.0,48.0],[50.0,50.0],[28.0,24.0],[15.0,15.0],[28.0,30.0],[47.0,43.0],[48.0,48.0],[50.0,50.0],[9.0,9.0],[25.0,28.0],[14.0,14.0],[16.0,16.0],[19.0,19.0],[48.0,48.0],[50.0,50.0],[15.0,15.0],[19.0,19.0],[23.0,23.0],[27.0,27.0],[32.0,32.0],[38.0,38.0],[42.0,42.0],[9.0,9.0],[24.0,24.0],[13.0,9.0],[35.0,35.0],[38.0,38.0],[42.0,42.0],[13.0,17.0],[36.0,36.0],[40.0,40.0],[13.0,13.0],[44.0,40.0],[8.0,8.0],[20.0,22.0],[23.0,25.0],[27.0,27.0],[32.0,32.0],[37.0,40.0],[41.0,41.0],[9.0,13.0],[30.0,32.0],[3.0,3.0],[0.0,0.0]]},\"selected\":{\"id\":\"8781\"},\"selection_policy\":{\"id\":\"8780\"}},\"id\":\"8755\",\"type\":\"ColumnDataSource\"},{\"attributes\":{\"source\":{\"id\":\"8760\"}},\"id\":\"8764\",\"type\":\"CDSView\"},{\"attributes\":{\"data\":{\"x\":[3.0,3.0,3.0,3.0,5.0,8.0,8.0,8.0,8.0,8.0,8.0,8.0,11.0,12.0,13.0,14.0,15.0,15.0,18.0,18.0,18.0,18.0,18.0,18.0,18.0,13.0,21.0,21.0,21.0,21.0,21.0,21.0,21.0,21.0,21.0,21.0,21.0,21.0,21.0,21.0,21.0,21.0,21.0,21.0,28.0,28.0,28.0,28.0,28.0,28.0,28.0,28.0,28.0,31.0,31.0,31.0,31.0,31.0,31.0,31.0,31.0,35.0,35.0,36.0,36.0,36.0,36.0,37.0,37.0,37.0,37.0,37.0,37.0,37.0,38.0,38.0,41.0,41.0,41.0,41.0,43.0,44.0,44.0,44.0,44.0,44.0,51.0,51.0,51.0,54.0,54.0,59.0,60.0,60.0,60.0,64.0,64.0,66.0,67.0,74.0,74.0,74.0,74.0,74.0,77.0,77.0,77.0,77.0,77.0,77.0,77.0,77.0,80.0,81.0,81.0,81.0,81.0,82.0,82.0,82.0,83.0,83.0,83.0,84.0,87.0,87.0,87.0,87.0,87.0,87.0,110.0,3.0,0.0],\"y\":[16.0,29.0,30.0,42.0,3.0,16.0,22.0,28.0,34.0,40.0,46.0,11.0,3.0,13.0,13.0,13.0,13.0,8.0,16.0,22.0,28.0,34.0,40.0,48.0,11.0,20.0,16.0,18.0,20.0,22.0,24.0,26.0,28.0,30.0,32.0,34.0,36.0,38.0,40.0,42.0,44.0,45.0,47.0,48.0,14.0,18.0,25.0,26.0,27.0,29.0,31.0,32.0,12.0,19.0,23.0,31.0,33.0,37.0,43.0,46.0,50.0,29.0,34.0,18.0,29.0,32.0,34.0,18.0,29.0,32.0,34.0,41.0,44.0,8.0,20.0,34.0,19.0,23.0,33.0,37.0,25.0,26.0,35.0,37.0,38.0,39.0,25.0,30.0,9.0,48.0,50.0,28.0,15.0,28.0,47.0,48.0,50.0,9.0,25.0,14.0,16.0,19.0,48.0,50.0,15.0,19.0,23.0,27.0,32.0,38.0,42.0,9.0,24.0,13.0,35.0,38.0,42.0,13.0,36.0,40.0,13.0,44.0,8.0,20.0,23.0,27.0,32.0,37.0,41.0,9.0,30.0,3.0,0.0]},\"selected\":{\"id\":\"8785\"},\"selection_policy\":{\"id\":\"8784\"}},\"id\":\"8765\",\"type\":\"ColumnDataSource\"},{\"attributes\":{\"axis\":{\"id\":\"8731\"},\"grid_line_color\":null,\"ticker\":null},\"id\":\"8734\",\"type\":\"Grid\"},{\"attributes\":{\"bottom_units\":\"screen\",\"fill_alpha\":0.5,\"fill_color\":\"lightgrey\",\"left_units\":\"screen\",\"level\":\"overlay\",\"line_alpha\":1.0,\"line_color\":\"black\",\"line_dash\":[4,4],\"line_width\":2,\"right_units\":\"screen\",\"top_units\":\"screen\"},\"id\":\"8745\",\"type\":\"BoxAnnotation\"},{\"attributes\":{\"fill_alpha\":{\"value\":0.1},\"fill_color\":{\"value\":\"#DC0000\"},\"line_alpha\":{\"value\":0.1},\"line_color\":{\"value\":\"#DC0000\"},\"size\":{\"units\":\"screen\",\"value\":5},\"x\":{\"field\":\"x\"},\"y\":{\"field\":\"y\"}},\"id\":\"8772\",\"type\":\"Circle\"},{\"attributes\":{\"active_drag\":\"auto\",\"active_inspect\":\"auto\",\"active_multi\":null,\"active_scroll\":\"auto\",\"active_tap\":\"auto\",\"logo\":null,\"tools\":[{\"id\":\"8739\"},{\"id\":\"8740\"},{\"id\":\"8741\"},{\"id\":\"8742\"},{\"id\":\"8743\"},{\"id\":\"8744\"}]},\"id\":\"8746\",\"type\":\"Toolbar\"},{\"attributes\":{\"formatter\":{\"id\":\"8776\"},\"ticker\":{\"id\":\"8732\"},\"visible\":false},\"id\":\"8731\",\"type\":\"LinearAxis\"},{\"attributes\":{},\"id\":\"8729\",\"type\":\"LinearScale\"},{\"attributes\":{\"fill_color\":{\"value\":\"#DC0000\"},\"line_color\":{\"value\":\"#DC0000\"},\"size\":{\"units\":\"screen\",\"value\":5},\"x\":{\"field\":\"x\"},\"y\":{\"field\":\"y\"}},\"id\":\"8771\",\"type\":\"Circle\"},{\"attributes\":{\"line_width\":{\"value\":2},\"xs\":{\"field\":\"xs\"},\"ys\":{\"field\":\"ys\"}},\"id\":\"8756\",\"type\":\"MultiLine\"},{\"attributes\":{},\"id\":\"8742\",\"type\":\"SaveTool\"},{\"attributes\":{\"fill_alpha\":{\"value\":0.1},\"fill_color\":{\"value\":\"steelblue\"},\"line_alpha\":{\"value\":0.1},\"line_color\":{\"value\":\"steelblue\"},\"size\":{\"units\":\"screen\",\"value\":5},\"x\":{\"field\":\"x\"},\"y\":{\"field\":\"y\"}},\"id\":\"8767\",\"type\":\"Circle\"},{\"attributes\":{},\"id\":\"8744\",\"type\":\"HelpTool\"},{\"attributes\":{},\"id\":\"8727\",\"type\":\"LinearScale\"},{\"attributes\":{\"data_source\":{\"id\":\"8770\"},\"glyph\":{\"id\":\"8771\"},\"hover_glyph\":null,\"muted_glyph\":null,\"nonselection_glyph\":{\"id\":\"8772\"},\"selection_glyph\":null,\"view\":{\"id\":\"8774\"}},\"id\":\"8773\",\"type\":\"GlyphRenderer\"},{\"attributes\":{\"background_fill_color\":null,\"below\":[{\"id\":\"8731\"}],\"border_fill_color\":null,\"center\":[{\"id\":\"8734\"},{\"id\":\"8738\"}],\"left\":[{\"id\":\"8735\"}],\"outline_line_color\":null,\"plot_height\":400,\"plot_width\":800,\"renderers\":[{\"id\":\"8758\"},{\"id\":\"8763\"},{\"id\":\"8768\"},{\"id\":\"8773\"}],\"title\":{\"id\":\"8721\"},\"toolbar\":{\"id\":\"8746\"},\"toolbar_location\":null,\"x_range\":{\"id\":\"8723\"},\"x_scale\":{\"id\":\"8727\"},\"y_range\":{\"id\":\"8725\"},\"y_scale\":{\"id\":\"8729\"}},\"id\":\"8720\",\"subtype\":\"Figure\",\"type\":\"Plot\"},{\"attributes\":{},\"id\":\"8740\",\"type\":\"WheelZoomTool\"},{\"attributes\":{\"fill_color\":{\"value\":\"steelblue\"},\"line_color\":{\"value\":\"steelblue\"},\"size\":{\"units\":\"screen\",\"value\":5},\"x\":{\"field\":\"x\"},\"y\":{\"field\":\"y\"}},\"id\":\"8766\",\"type\":\"Circle\"},{\"attributes\":{\"end\":54.25,\"start\":-4.25},\"id\":\"8725\",\"type\":\"Range1d\"},{\"attributes\":{},\"id\":\"8743\",\"type\":\"ResetTool\"},{\"attributes\":{\"source\":{\"id\":\"8770\"}},\"id\":\"8774\",\"type\":\"CDSView\"},{\"attributes\":{},\"id\":\"8739\",\"type\":\"PanTool\"},{\"attributes\":{\"overlay\":{\"id\":\"8745\"}},\"id\":\"8741\",\"type\":\"BoxZoomTool\"},{\"attributes\":{\"end\":119.35,\"start\":-9.350000000000001},\"id\":\"8723\",\"type\":\"Range1d\"},{\"attributes\":{\"source\":{\"id\":\"8765\"}},\"id\":\"8769\",\"type\":\"CDSView\"},{\"attributes\":{\"text\":\"\"},\"id\":\"8721\",\"type\":\"Title\"},{\"attributes\":{},\"id\":\"8776\",\"type\":\"BasicTickFormatter\"},{\"attributes\":{\"data\":{\"x\":[3,1,6,3,5,6,12,4,12,6,12,6,11,12,13,14,15,19,18,18,14,18,14,18,21,17,23,18,23,23,23,19,19,24,24,24,25,23,23,25,18,25,17,25,30,32,26,26,32,26,26,30,25,27,27,34,27,29,28,28,33,35,32,36,36,33,36,37,42,40,37,34,39,33,36,38,38,43,39,41,45,47,47,42,47,46,51,53,51,51,58,59,62,60,60,62,68,62,67,70,72,70,71,78,74,82,80,81,79,73,74,73,76,81,78,79,78,82,85,80,85,83,81,84,87,90,89,87,91,87,110,3,0],\"y\":[13,29,30,39,1,16,22,28,34,40,46,11,7,10,15,16,16,8,13,24,28,31,40,50,11,20,16,18,20,22,24,26,28,30,32,34,36,38,40,42,44,45,47,48,14,18,25,26,27,29,31,32,12,19,23,31,33,37,43,46,50,27,34,16,31,32,37,13,29,32,38,41,44,8,20,36,19,23,33,41,25,26,35,37,38,39,27,30,13,48,50,24,15,30,43,48,50,9,28,14,16,19,48,50,15,19,23,27,32,38,42,9,24,9,35,38,42,17,36,40,13,40,8,22,25,27,32,40,41,13,32,3,0]},\"selected\":{\"id\":\"8787\"},\"selection_policy\":{\"id\":\"8786\"}},\"id\":\"8770\",\"type\":\"ColumnDataSource\"},{\"attributes\":{},\"id\":\"8778\",\"type\":\"BasicTickFormatter\"},{\"attributes\":{\"align\":\"center\",\"text\":\"854.7\",\"width\":800},\"id\":\"8754\",\"type\":\"Div\"}],\"root_ids\":[\"8790\"]},\"title\":\"Bokeh Application\",\"version\":\"2.2.3\"}};\n",
       "  var render_items = [{\"docid\":\"e7f83335-8063-4bac-b3d9-8758fc9aee40\",\"root_ids\":[\"8790\"],\"roots\":{\"8790\":\"6ce70683-dc00-468e-8170-32eb28f05a38\"}}];\n",
       "  root.Bokeh.embed.embed_items_notebook(docs_json, render_items);\n",
       "\n",
       "  }\n",
       "  if (root.Bokeh !== undefined) {\n",
       "    embed_document(root);\n",
       "  } else {\n",
       "    var attempts = 0;\n",
       "    var timer = setInterval(function(root) {\n",
       "      if (root.Bokeh !== undefined) {\n",
       "        clearInterval(timer);\n",
       "        embed_document(root);\n",
       "      } else {\n",
       "        attempts++;\n",
       "        if (attempts > 100) {\n",
       "          clearInterval(timer);\n",
       "          console.log(\"Bokeh: ERROR: Unable to run BokehJS code because BokehJS library is missing\");\n",
       "        }\n",
       "      }\n",
       "    }, 10, root)\n",
       "  }\n",
       "})(window);"
      ],
      "application/vnd.bokehjs_exec.v0+json": ""
     },
     "metadata": {
      "application/vnd.bokehjs_exec.v0+json": {
       "id": "8790"
      }
     },
     "output_type": "display_data"
    }
   ],
   "source": [
    "# Nearest neighbor\n",
    "plot_etching_tour(nodes, G, nearest_neighbor(G))"
   ]
  },
  {
   "cell_type": "code",
   "execution_count": 43,
   "metadata": {},
   "outputs": [
    {
     "data": {
      "text/html": [
       "\n",
       "\n",
       "\n",
       "\n",
       "\n",
       "\n",
       "  <div class=\"bk-root\" id=\"27a53a72-769b-4f04-a772-6d52fc16e247\" data-root-id=\"9265\"></div>\n"
      ]
     },
     "metadata": {},
     "output_type": "display_data"
    },
    {
     "data": {
      "application/javascript": [
       "(function(root) {\n",
       "  function embed_document(root) {\n",
       "    \n",
       "  var docs_json = {\"8ff02075-0e48-4615-ae85-b1eec7bbc2e9\":{\"roots\":{\"references\":[{\"attributes\":{\"children\":[[{\"id\":\"9195\"},0,0],[{\"id\":\"9229\"},1,0]]},\"id\":\"9265\",\"type\":\"GridBox\"},{\"attributes\":{},\"id\":\"9253\",\"type\":\"BasicTickFormatter\"},{\"attributes\":{\"active_drag\":\"auto\",\"active_inspect\":\"auto\",\"active_multi\":null,\"active_scroll\":\"auto\",\"active_tap\":\"auto\",\"logo\":null,\"tools\":[{\"id\":\"9214\"},{\"id\":\"9215\"},{\"id\":\"9216\"},{\"id\":\"9217\"},{\"id\":\"9218\"},{\"id\":\"9219\"}]},\"id\":\"9221\",\"type\":\"Toolbar\"},{\"attributes\":{},\"id\":\"9207\",\"type\":\"BasicTicker\"},{\"attributes\":{\"line_width\":{\"value\":2},\"xs\":{\"field\":\"xs\"},\"ys\":{\"field\":\"ys\"}},\"id\":\"9231\",\"type\":\"MultiLine\"},{\"attributes\":{},\"id\":\"9255\",\"type\":\"UnionRenderers\"},{\"attributes\":{\"data_source\":{\"id\":\"9230\"},\"glyph\":{\"id\":\"9231\"},\"hover_glyph\":null,\"muted_glyph\":null,\"nonselection_glyph\":{\"id\":\"9232\"},\"selection_glyph\":null,\"view\":{\"id\":\"9234\"}},\"id\":\"9233\",\"type\":\"GlyphRenderer\"},{\"attributes\":{\"axis\":{\"id\":\"9206\"},\"grid_line_color\":null,\"ticker\":null},\"id\":\"9209\",\"type\":\"Grid\"},{\"attributes\":{},\"id\":\"9256\",\"type\":\"Selection\"},{\"attributes\":{\"formatter\":{\"id\":\"9253\"},\"ticker\":{\"id\":\"9211\"},\"visible\":false},\"id\":\"9210\",\"type\":\"LinearAxis\"},{\"attributes\":{},\"id\":\"9257\",\"type\":\"UnionRenderers\"},{\"attributes\":{\"line_alpha\":{\"value\":0.1},\"line_width\":{\"value\":2},\"xs\":{\"field\":\"xs\"},\"ys\":{\"field\":\"ys\"}},\"id\":\"9232\",\"type\":\"MultiLine\"},{\"attributes\":{},\"id\":\"9211\",\"type\":\"BasicTicker\"},{\"attributes\":{\"formatter\":{\"id\":\"9251\"},\"ticker\":{\"id\":\"9207\"},\"visible\":false},\"id\":\"9206\",\"type\":\"LinearAxis\"},{\"attributes\":{\"source\":{\"id\":\"9230\"}},\"id\":\"9234\",\"type\":\"CDSView\"},{\"attributes\":{},\"id\":\"9258\",\"type\":\"Selection\"},{\"attributes\":{\"data\":{\"x\":[3.0,3.0,8.0,4.0,18.0,14.0,21.0,19.0,18.0,18.0,21.0,23.0,21.0,23.0,13.0,17.0,14.0,14.0,11.0,11.0,5.0,5.0,0.0,0.0,3.0,3.0,12.0,12.0,13.0,13.0,15.0,15.0,15.0,19.0,18.0,21.0,18.0,18.0,21.0,18.0,21.0,23.0,21.0,23.0,21.0,19.0,21.0,24.0,21.0,24.0,28.0,26.0,31.0,27.0,28.0,32.0,28.0,26.0,28.0,26.0,28.0,26.0,31.0,27.0,35.0,32.0,36.0,33.0,36.0,36.0,31.0,29.0,31.0,28.0,31.0,33.0,31.0,28.0,37.0,34.0,37.0,39.0,41.0,41.0,44.0,42.0,44.0,47.0,44.0,47.0,44.0,46.0,37.0,37.0,38.0,38.0,41.0,39.0,37.0,40.0,36.0,36.0,51.0,51.0,66.0,62.0,60.0,62.0,59.0,59.0,67.0,67.0,74.0,70.0,74.0,70.0,74.0,72.0,77.0,74.0,80.0,76.0,77.0,79.0,81.0,78.0,77.0,73.0,81.0,79.0,74.0,78.0,64.0,68.0,54.0,58.0,54.0,51.0,60.0,60.0,64.0,62.0,74.0,71.0,77.0,74.0,81.0,78.0,82.0,80.0,83.0,83.0,87.0,91.0,87.0,87.0,82.0,85.0,87.0,89.0,110.0,110.0,87.0,90.0,87.0,87.0,84.0,84.0,82.0,82.0,87.0,87.0,83.0,85.0,77.0,73.0,83.0,81.0,81.0,81.0,77.0,82.0,77.0,80.0,77.0,81.0,60.0,60.0,51.0,53.0,51.0,51.0,44.0,47.0,43.0,45.0,41.0,43.0,28.0,32.0,31.0,27.0,28.0,30.0,28.0,25.0,37.0,33.0,37.0,37.0,36.0,36.0,38.0,36.0,41.0,38.0,37.0,42.0,35.0,35.0,31.0,34.0,28.0,30.0,21.0,25.0,18.0,14.0,21.0,25.0,21.0,25.0,21.0,25.0,18.0,18.0,21.0,17.0,21.0,18.0,21.0,23.0,21.0,23.0,21.0,24.0,18.0,18.0,8.0,12.0,3.0,3.0,8.0,12.0,8.0,6.0,3.0,6.0,3.0,1.0,8.0,12.0,8.0,6.0,8.0,6.0,3.0,3.0],\"y\":[16.0,13.0,28.0,28.0,28.0,28.0,26.0,26.0,22.0,24.0,22.0,22.0,16.0,16.0,20.0,20.0,13.0,16.0,3.0,7.0,3.0,1.0,0.0,0.0,3.0,3.0,13.0,10.0,13.0,15.0,13.0,16.0,8.0,8.0,11.0,11.0,16.0,13.0,18.0,18.0,20.0,20.0,24.0,24.0,28.0,28.0,30.0,30.0,32.0,32.0,29.0,29.0,23.0,23.0,27.0,27.0,25.0,25.0,26.0,26.0,31.0,31.0,33.0,33.0,34.0,34.0,32.0,32.0,34.0,37.0,37.0,37.0,43.0,43.0,50.0,50.0,46.0,46.0,41.0,41.0,44.0,44.0,37.0,41.0,37.0,37.0,35.0,35.0,38.0,38.0,39.0,39.0,34.0,38.0,34.0,36.0,33.0,33.0,32.0,32.0,29.0,31.0,9.0,13.0,9.0,9.0,15.0,15.0,28.0,24.0,25.0,28.0,19.0,19.0,14.0,14.0,16.0,16.0,15.0,15.0,24.0,24.0,32.0,32.0,35.0,35.0,38.0,38.0,38.0,38.0,50.0,50.0,50.0,50.0,50.0,50.0,48.0,48.0,47.0,43.0,48.0,48.0,48.0,48.0,42.0,42.0,42.0,42.0,40.0,40.0,44.0,40.0,41.0,41.0,37.0,40.0,36.0,36.0,32.0,32.0,30.0,32.0,27.0,27.0,23.0,25.0,20.0,22.0,13.0,17.0,9.0,13.0,13.0,13.0,9.0,9.0,8.0,8.0,13.0,9.0,19.0,19.0,23.0,23.0,27.0,27.0,28.0,30.0,30.0,30.0,25.0,27.0,26.0,26.0,25.0,25.0,23.0,23.0,18.0,18.0,19.0,19.0,14.0,14.0,12.0,12.0,8.0,8.0,18.0,13.0,18.0,16.0,20.0,20.0,19.0,19.0,29.0,29.0,29.0,27.0,31.0,31.0,32.0,32.0,36.0,36.0,40.0,40.0,42.0,42.0,45.0,45.0,48.0,48.0,48.0,50.0,47.0,47.0,44.0,44.0,40.0,40.0,38.0,38.0,34.0,34.0,34.0,31.0,34.0,34.0,42.0,39.0,46.0,46.0,40.0,40.0,30.0,30.0,29.0,29.0,22.0,22.0,16.0,16.0,11.0,11.0,16.0,13.0]},\"selected\":{\"id\":\"9258\"},\"selection_policy\":{\"id\":\"9257\"}},\"id\":\"9235\",\"type\":\"ColumnDataSource\"},{\"attributes\":{\"axis\":{\"id\":\"9210\"},\"dimension\":1,\"grid_line_color\":null,\"ticker\":null},\"id\":\"9213\",\"type\":\"Grid\"},{\"attributes\":{},\"id\":\"9259\",\"type\":\"UnionRenderers\"},{\"attributes\":{\"data_source\":{\"id\":\"9235\"},\"glyph\":{\"id\":\"9236\"},\"hover_glyph\":null,\"muted_glyph\":null,\"nonselection_glyph\":{\"id\":\"9237\"},\"selection_glyph\":null,\"view\":{\"id\":\"9239\"}},\"id\":\"9238\",\"type\":\"GlyphRenderer\"},{\"attributes\":{},\"id\":\"9260\",\"type\":\"Selection\"},{\"attributes\":{\"line_dash\":[6],\"line_width\":2,\"x\":{\"field\":\"x\"},\"y\":{\"field\":\"y\"}},\"id\":\"9236\",\"type\":\"Line\"},{\"attributes\":{\"data\":{\"xs\":[[3.0,3.0],[3.0,1.0],[3.0,6.0],[3.0,3.0],[5.0,5.0],[8.0,6.0],[8.0,12.0],[8.0,4.0],[8.0,12.0],[8.0,6.0],[8.0,12.0],[8.0,6.0],[11.0,11.0],[12.0,12.0],[13.0,13.0],[14.0,14.0],[15.0,15.0],[15.0,19.0],[18.0,18.0],[18.0,18.0],[18.0,14.0],[18.0,18.0],[18.0,14.0],[18.0,18.0],[18.0,21.0],[13.0,17.0],[21.0,23.0],[21.0,18.0],[21.0,23.0],[21.0,23.0],[21.0,23.0],[21.0,19.0],[21.0,19.0],[21.0,24.0],[21.0,24.0],[21.0,24.0],[21.0,25.0],[21.0,23.0],[21.0,23.0],[21.0,25.0],[21.0,18.0],[21.0,25.0],[21.0,17.0],[21.0,25.0],[28.0,30.0],[28.0,32.0],[28.0,26.0],[28.0,26.0],[28.0,32.0],[28.0,26.0],[28.0,26.0],[28.0,30.0],[28.0,25.0],[31.0,27.0],[31.0,27.0],[31.0,34.0],[31.0,27.0],[31.0,29.0],[31.0,28.0],[31.0,28.0],[31.0,33.0],[35.0,35.0],[35.0,32.0],[36.0,36.0],[36.0,36.0],[36.0,33.0],[36.0,36.0],[37.0,37.0],[37.0,42.0],[37.0,40.0],[37.0,37.0],[37.0,34.0],[37.0,39.0],[37.0,33.0],[38.0,36.0],[38.0,38.0],[41.0,38.0],[41.0,43.0],[41.0,39.0],[41.0,41.0],[43.0,45.0],[44.0,47.0],[44.0,47.0],[44.0,42.0],[44.0,47.0],[44.0,46.0],[51.0,51.0],[51.0,53.0],[51.0,51.0],[54.0,51.0],[54.0,58.0],[59.0,59.0],[60.0,62.0],[60.0,60.0],[60.0,60.0],[64.0,62.0],[64.0,68.0],[66.0,62.0],[67.0,67.0],[74.0,70.0],[74.0,72.0],[74.0,70.0],[74.0,71.0],[74.0,78.0],[77.0,74.0],[77.0,82.0],[77.0,80.0],[77.0,81.0],[77.0,79.0],[77.0,73.0],[77.0,74.0],[77.0,73.0],[80.0,76.0],[81.0,81.0],[81.0,78.0],[81.0,79.0],[81.0,78.0],[82.0,82.0],[82.0,85.0],[82.0,80.0],[83.0,85.0],[83.0,83.0],[83.0,81.0],[84.0,84.0],[87.0,87.0],[87.0,90.0],[87.0,89.0],[87.0,87.0],[87.0,91.0],[87.0,87.0],[110.0,110.0],[3.0,3.0],[0.0,0.0]],\"ys\":[[16.0,13.0],[29.0,29.0],[30.0,30.0],[42.0,39.0],[3.0,1.0],[16.0,16.0],[22.0,22.0],[28.0,28.0],[34.0,34.0],[40.0,40.0],[46.0,46.0],[11.0,11.0],[3.0,7.0],[13.0,10.0],[13.0,15.0],[13.0,16.0],[13.0,16.0],[8.0,8.0],[16.0,13.0],[22.0,24.0],[28.0,28.0],[34.0,31.0],[40.0,40.0],[48.0,50.0],[11.0,11.0],[20.0,20.0],[16.0,16.0],[18.0,18.0],[20.0,20.0],[22.0,22.0],[24.0,24.0],[26.0,26.0],[28.0,28.0],[30.0,30.0],[32.0,32.0],[34.0,34.0],[36.0,36.0],[38.0,38.0],[40.0,40.0],[42.0,42.0],[44.0,44.0],[45.0,45.0],[47.0,47.0],[48.0,48.0],[14.0,14.0],[18.0,18.0],[25.0,25.0],[26.0,26.0],[27.0,27.0],[29.0,29.0],[31.0,31.0],[32.0,32.0],[12.0,12.0],[19.0,19.0],[23.0,23.0],[31.0,31.0],[33.0,33.0],[37.0,37.0],[43.0,43.0],[46.0,46.0],[50.0,50.0],[29.0,27.0],[34.0,34.0],[18.0,16.0],[29.0,31.0],[32.0,32.0],[34.0,37.0],[18.0,13.0],[29.0,29.0],[32.0,32.0],[34.0,38.0],[41.0,41.0],[44.0,44.0],[8.0,8.0],[20.0,20.0],[34.0,36.0],[19.0,19.0],[23.0,23.0],[33.0,33.0],[37.0,41.0],[25.0,25.0],[26.0,26.0],[35.0,35.0],[37.0,37.0],[38.0,38.0],[39.0,39.0],[25.0,27.0],[30.0,30.0],[9.0,13.0],[48.0,48.0],[50.0,50.0],[28.0,24.0],[15.0,15.0],[28.0,30.0],[47.0,43.0],[48.0,48.0],[50.0,50.0],[9.0,9.0],[25.0,28.0],[14.0,14.0],[16.0,16.0],[19.0,19.0],[48.0,48.0],[50.0,50.0],[15.0,15.0],[19.0,19.0],[23.0,23.0],[27.0,27.0],[32.0,32.0],[38.0,38.0],[42.0,42.0],[9.0,9.0],[24.0,24.0],[13.0,9.0],[35.0,35.0],[38.0,38.0],[42.0,42.0],[13.0,17.0],[36.0,36.0],[40.0,40.0],[13.0,13.0],[44.0,40.0],[8.0,8.0],[20.0,22.0],[23.0,25.0],[27.0,27.0],[32.0,32.0],[37.0,40.0],[41.0,41.0],[9.0,13.0],[30.0,32.0],[3.0,3.0],[0.0,0.0]]},\"selected\":{\"id\":\"9256\"},\"selection_policy\":{\"id\":\"9255\"}},\"id\":\"9230\",\"type\":\"ColumnDataSource\"},{\"attributes\":{},\"id\":\"9261\",\"type\":\"UnionRenderers\"},{\"attributes\":{},\"id\":\"9214\",\"type\":\"PanTool\"},{\"attributes\":{},\"id\":\"9262\",\"type\":\"Selection\"},{\"attributes\":{\"line_alpha\":0.1,\"line_dash\":[6],\"line_width\":2,\"x\":{\"field\":\"x\"},\"y\":{\"field\":\"y\"}},\"id\":\"9237\",\"type\":\"Line\"},{\"attributes\":{\"source\":{\"id\":\"9235\"}},\"id\":\"9239\",\"type\":\"CDSView\"},{\"attributes\":{},\"id\":\"9215\",\"type\":\"WheelZoomTool\"},{\"attributes\":{},\"id\":\"9202\",\"type\":\"LinearScale\"},{\"attributes\":{\"data\":{\"x\":[3.0,3.0,3.0,3.0,5.0,8.0,8.0,8.0,8.0,8.0,8.0,8.0,11.0,12.0,13.0,14.0,15.0,15.0,18.0,18.0,18.0,18.0,18.0,18.0,18.0,13.0,21.0,21.0,21.0,21.0,21.0,21.0,21.0,21.0,21.0,21.0,21.0,21.0,21.0,21.0,21.0,21.0,21.0,21.0,28.0,28.0,28.0,28.0,28.0,28.0,28.0,28.0,28.0,31.0,31.0,31.0,31.0,31.0,31.0,31.0,31.0,35.0,35.0,36.0,36.0,36.0,36.0,37.0,37.0,37.0,37.0,37.0,37.0,37.0,38.0,38.0,41.0,41.0,41.0,41.0,43.0,44.0,44.0,44.0,44.0,44.0,51.0,51.0,51.0,54.0,54.0,59.0,60.0,60.0,60.0,64.0,64.0,66.0,67.0,74.0,74.0,74.0,74.0,74.0,77.0,77.0,77.0,77.0,77.0,77.0,77.0,77.0,80.0,81.0,81.0,81.0,81.0,82.0,82.0,82.0,83.0,83.0,83.0,84.0,87.0,87.0,87.0,87.0,87.0,87.0,110.0,3.0,0.0],\"y\":[16.0,29.0,30.0,42.0,3.0,16.0,22.0,28.0,34.0,40.0,46.0,11.0,3.0,13.0,13.0,13.0,13.0,8.0,16.0,22.0,28.0,34.0,40.0,48.0,11.0,20.0,16.0,18.0,20.0,22.0,24.0,26.0,28.0,30.0,32.0,34.0,36.0,38.0,40.0,42.0,44.0,45.0,47.0,48.0,14.0,18.0,25.0,26.0,27.0,29.0,31.0,32.0,12.0,19.0,23.0,31.0,33.0,37.0,43.0,46.0,50.0,29.0,34.0,18.0,29.0,32.0,34.0,18.0,29.0,32.0,34.0,41.0,44.0,8.0,20.0,34.0,19.0,23.0,33.0,37.0,25.0,26.0,35.0,37.0,38.0,39.0,25.0,30.0,9.0,48.0,50.0,28.0,15.0,28.0,47.0,48.0,50.0,9.0,25.0,14.0,16.0,19.0,48.0,50.0,15.0,19.0,23.0,27.0,32.0,38.0,42.0,9.0,24.0,13.0,35.0,38.0,42.0,13.0,36.0,40.0,13.0,44.0,8.0,20.0,23.0,27.0,32.0,37.0,41.0,9.0,30.0,3.0,0.0]},\"selected\":{\"id\":\"9260\"},\"selection_policy\":{\"id\":\"9259\"}},\"id\":\"9240\",\"type\":\"ColumnDataSource\"},{\"attributes\":{\"overlay\":{\"id\":\"9220\"}},\"id\":\"9216\",\"type\":\"BoxZoomTool\"},{\"attributes\":{\"end\":54.25,\"start\":-4.25},\"id\":\"9200\",\"type\":\"Range1d\"},{\"attributes\":{\"data_source\":{\"id\":\"9240\"},\"glyph\":{\"id\":\"9241\"},\"hover_glyph\":null,\"muted_glyph\":null,\"nonselection_glyph\":{\"id\":\"9242\"},\"selection_glyph\":null,\"view\":{\"id\":\"9244\"}},\"id\":\"9243\",\"type\":\"GlyphRenderer\"},{\"attributes\":{},\"id\":\"9217\",\"type\":\"SaveTool\"},{\"attributes\":{\"fill_alpha\":{\"value\":0.1},\"fill_color\":{\"value\":\"#DC0000\"},\"line_alpha\":{\"value\":0.1},\"line_color\":{\"value\":\"#DC0000\"},\"size\":{\"units\":\"screen\",\"value\":5},\"x\":{\"field\":\"x\"},\"y\":{\"field\":\"y\"}},\"id\":\"9247\",\"type\":\"Circle\"},{\"attributes\":{\"align\":\"center\",\"text\":\"715.5\",\"width\":800},\"id\":\"9229\",\"type\":\"Div\"},{\"attributes\":{\"text\":\"\"},\"id\":\"9196\",\"type\":\"Title\"},{\"attributes\":{},\"id\":\"9218\",\"type\":\"ResetTool\"},{\"attributes\":{\"background_fill_color\":null,\"below\":[{\"id\":\"9206\"}],\"border_fill_color\":null,\"center\":[{\"id\":\"9209\"},{\"id\":\"9213\"}],\"left\":[{\"id\":\"9210\"}],\"outline_line_color\":null,\"plot_height\":400,\"plot_width\":800,\"renderers\":[{\"id\":\"9233\"},{\"id\":\"9238\"},{\"id\":\"9243\"},{\"id\":\"9248\"}],\"title\":{\"id\":\"9196\"},\"toolbar\":{\"id\":\"9221\"},\"toolbar_location\":null,\"x_range\":{\"id\":\"9198\"},\"x_scale\":{\"id\":\"9202\"},\"y_range\":{\"id\":\"9200\"},\"y_scale\":{\"id\":\"9204\"}},\"id\":\"9195\",\"subtype\":\"Figure\",\"type\":\"Plot\"},{\"attributes\":{},\"id\":\"9219\",\"type\":\"HelpTool\"},{\"attributes\":{\"fill_alpha\":{\"value\":0.1},\"fill_color\":{\"value\":\"steelblue\"},\"line_alpha\":{\"value\":0.1},\"line_color\":{\"value\":\"steelblue\"},\"size\":{\"units\":\"screen\",\"value\":5},\"x\":{\"field\":\"x\"},\"y\":{\"field\":\"y\"}},\"id\":\"9242\",\"type\":\"Circle\"},{\"attributes\":{\"fill_color\":{\"value\":\"steelblue\"},\"line_color\":{\"value\":\"steelblue\"},\"size\":{\"units\":\"screen\",\"value\":5},\"x\":{\"field\":\"x\"},\"y\":{\"field\":\"y\"}},\"id\":\"9241\",\"type\":\"Circle\"},{\"attributes\":{},\"id\":\"9204\",\"type\":\"LinearScale\"},{\"attributes\":{\"bottom_units\":\"screen\",\"fill_alpha\":0.5,\"fill_color\":\"lightgrey\",\"left_units\":\"screen\",\"level\":\"overlay\",\"line_alpha\":1.0,\"line_color\":\"black\",\"line_dash\":[4,4],\"line_width\":2,\"right_units\":\"screen\",\"top_units\":\"screen\"},\"id\":\"9220\",\"type\":\"BoxAnnotation\"},{\"attributes\":{\"source\":{\"id\":\"9245\"}},\"id\":\"9249\",\"type\":\"CDSView\"},{\"attributes\":{\"end\":119.35,\"start\":-9.350000000000001},\"id\":\"9198\",\"type\":\"Range1d\"},{\"attributes\":{\"data\":{\"x\":[3,1,6,3,5,6,12,4,12,6,12,6,11,12,13,14,15,19,18,18,14,18,14,18,21,17,23,18,23,23,23,19,19,24,24,24,25,23,23,25,18,25,17,25,30,32,26,26,32,26,26,30,25,27,27,34,27,29,28,28,33,35,32,36,36,33,36,37,42,40,37,34,39,33,36,38,38,43,39,41,45,47,47,42,47,46,51,53,51,51,58,59,62,60,60,62,68,62,67,70,72,70,71,78,74,82,80,81,79,73,74,73,76,81,78,79,78,82,85,80,85,83,81,84,87,90,89,87,91,87,110,3,0],\"y\":[13,29,30,39,1,16,22,28,34,40,46,11,7,10,15,16,16,8,13,24,28,31,40,50,11,20,16,18,20,22,24,26,28,30,32,34,36,38,40,42,44,45,47,48,14,18,25,26,27,29,31,32,12,19,23,31,33,37,43,46,50,27,34,16,31,32,37,13,29,32,38,41,44,8,20,36,19,23,33,41,25,26,35,37,38,39,27,30,13,48,50,24,15,30,43,48,50,9,28,14,16,19,48,50,15,19,23,27,32,38,42,9,24,9,35,38,42,17,36,40,13,40,8,22,25,27,32,40,41,13,32,3,0]},\"selected\":{\"id\":\"9262\"},\"selection_policy\":{\"id\":\"9261\"}},\"id\":\"9245\",\"type\":\"ColumnDataSource\"},{\"attributes\":{\"fill_color\":{\"value\":\"#DC0000\"},\"line_color\":{\"value\":\"#DC0000\"},\"size\":{\"units\":\"screen\",\"value\":5},\"x\":{\"field\":\"x\"},\"y\":{\"field\":\"y\"}},\"id\":\"9246\",\"type\":\"Circle\"},{\"attributes\":{},\"id\":\"9251\",\"type\":\"BasicTickFormatter\"},{\"attributes\":{\"source\":{\"id\":\"9240\"}},\"id\":\"9244\",\"type\":\"CDSView\"},{\"attributes\":{\"data_source\":{\"id\":\"9245\"},\"glyph\":{\"id\":\"9246\"},\"hover_glyph\":null,\"muted_glyph\":null,\"nonselection_glyph\":{\"id\":\"9247\"},\"selection_glyph\":null,\"view\":{\"id\":\"9249\"}},\"id\":\"9248\",\"type\":\"GlyphRenderer\"}],\"root_ids\":[\"9265\"]},\"title\":\"Bokeh Application\",\"version\":\"2.2.3\"}};\n",
       "  var render_items = [{\"docid\":\"8ff02075-0e48-4615-ae85-b1eec7bbc2e9\",\"root_ids\":[\"9265\"],\"roots\":{\"9265\":\"27a53a72-769b-4f04-a772-6d52fc16e247\"}}];\n",
       "  root.Bokeh.embed.embed_items_notebook(docs_json, render_items);\n",
       "\n",
       "  }\n",
       "  if (root.Bokeh !== undefined) {\n",
       "    embed_document(root);\n",
       "  } else {\n",
       "    var attempts = 0;\n",
       "    var timer = setInterval(function(root) {\n",
       "      if (root.Bokeh !== undefined) {\n",
       "        clearInterval(timer);\n",
       "        embed_document(root);\n",
       "      } else {\n",
       "        attempts++;\n",
       "        if (attempts > 100) {\n",
       "          clearInterval(timer);\n",
       "          console.log(\"Bokeh: ERROR: Unable to run BokehJS code because BokehJS library is missing\");\n",
       "        }\n",
       "      }\n",
       "    }, 10, root)\n",
       "  }\n",
       "})(window);"
      ],
      "application/vnd.bokehjs_exec.v0+json": ""
     },
     "metadata": {
      "application/vnd.bokehjs_exec.v0+json": {
       "id": "9265"
      }
     },
     "output_type": "display_data"
    }
   ],
   "source": [
    "# Nearest insertion\n",
    "plot_etching_tour(nodes, G, nearest_insertion(G))"
   ]
  },
  {
   "cell_type": "code",
   "execution_count": 44,
   "metadata": {},
   "outputs": [
    {
     "data": {
      "text/html": [
       "\n",
       "\n",
       "\n",
       "\n",
       "\n",
       "\n",
       "  <div class=\"bk-root\" id=\"0414d348-cf13-4028-a445-794bcc84f907\" data-root-id=\"9754\"></div>\n"
      ]
     },
     "metadata": {},
     "output_type": "display_data"
    },
    {
     "data": {
      "application/javascript": [
       "(function(root) {\n",
       "  function embed_document(root) {\n",
       "    \n",
       "  var docs_json = {\"9dc8b67e-8633-4b58-ac2a-2677bcbff6da\":{\"roots\":{\"references\":[{\"attributes\":{\"children\":[[{\"id\":\"9684\"},0,0],[{\"id\":\"9718\"},1,0]]},\"id\":\"9754\",\"type\":\"GridBox\"},{\"attributes\":{\"active_drag\":\"auto\",\"active_inspect\":\"auto\",\"active_multi\":null,\"active_scroll\":\"auto\",\"active_tap\":\"auto\",\"logo\":null,\"tools\":[{\"id\":\"9703\"},{\"id\":\"9704\"},{\"id\":\"9705\"},{\"id\":\"9706\"},{\"id\":\"9707\"},{\"id\":\"9708\"}]},\"id\":\"9710\",\"type\":\"Toolbar\"},{\"attributes\":{\"background_fill_color\":null,\"below\":[{\"id\":\"9695\"}],\"border_fill_color\":null,\"center\":[{\"id\":\"9698\"},{\"id\":\"9702\"}],\"left\":[{\"id\":\"9699\"}],\"outline_line_color\":null,\"plot_height\":400,\"plot_width\":800,\"renderers\":[{\"id\":\"9722\"},{\"id\":\"9727\"},{\"id\":\"9732\"},{\"id\":\"9737\"}],\"title\":{\"id\":\"9685\"},\"toolbar\":{\"id\":\"9710\"},\"toolbar_location\":null,\"x_range\":{\"id\":\"9687\"},\"x_scale\":{\"id\":\"9691\"},\"y_range\":{\"id\":\"9689\"},\"y_scale\":{\"id\":\"9693\"}},\"id\":\"9684\",\"subtype\":\"Figure\",\"type\":\"Plot\"},{\"attributes\":{\"fill_color\":{\"value\":\"steelblue\"},\"line_color\":{\"value\":\"steelblue\"},\"size\":{\"units\":\"screen\",\"value\":5},\"x\":{\"field\":\"x\"},\"y\":{\"field\":\"y\"}},\"id\":\"9730\",\"type\":\"Circle\"},{\"attributes\":{\"source\":{\"id\":\"9734\"}},\"id\":\"9738\",\"type\":\"CDSView\"},{\"attributes\":{\"data\":{\"x\":[3,1,6,3,5,6,12,4,12,6,12,6,11,12,13,14,15,19,18,18,14,18,14,18,21,17,23,18,23,23,23,19,19,24,24,24,25,23,23,25,18,25,17,25,30,32,26,26,32,26,26,30,25,27,27,34,27,29,28,28,33,35,32,36,36,33,36,37,42,40,37,34,39,33,36,38,38,43,39,41,45,47,47,42,47,46,51,53,51,51,58,59,62,60,60,62,68,62,67,70,72,70,71,78,74,82,80,81,79,73,74,73,76,81,78,79,78,82,85,80,85,83,81,84,87,90,89,87,91,87,110,3,0],\"y\":[13,29,30,39,1,16,22,28,34,40,46,11,7,10,15,16,16,8,13,24,28,31,40,50,11,20,16,18,20,22,24,26,28,30,32,34,36,38,40,42,44,45,47,48,14,18,25,26,27,29,31,32,12,19,23,31,33,37,43,46,50,27,34,16,31,32,37,13,29,32,38,41,44,8,20,36,19,23,33,41,25,26,35,37,38,39,27,30,13,48,50,24,15,30,43,48,50,9,28,14,16,19,48,50,15,19,23,27,32,38,42,9,24,9,35,38,42,17,36,40,13,40,8,22,25,27,32,40,41,13,32,3,0]},\"selected\":{\"id\":\"9751\"},\"selection_policy\":{\"id\":\"9750\"}},\"id\":\"9734\",\"type\":\"ColumnDataSource\"},{\"attributes\":{\"axis\":{\"id\":\"9695\"},\"grid_line_color\":null,\"ticker\":null},\"id\":\"9698\",\"type\":\"Grid\"},{\"attributes\":{\"fill_color\":{\"value\":\"#DC0000\"},\"line_color\":{\"value\":\"#DC0000\"},\"size\":{\"units\":\"screen\",\"value\":5},\"x\":{\"field\":\"x\"},\"y\":{\"field\":\"y\"}},\"id\":\"9735\",\"type\":\"Circle\"},{\"attributes\":{\"source\":{\"id\":\"9729\"}},\"id\":\"9733\",\"type\":\"CDSView\"},{\"attributes\":{},\"id\":\"9740\",\"type\":\"BasicTickFormatter\"},{\"attributes\":{\"bottom_units\":\"screen\",\"fill_alpha\":0.5,\"fill_color\":\"lightgrey\",\"left_units\":\"screen\",\"level\":\"overlay\",\"line_alpha\":1.0,\"line_color\":\"black\",\"line_dash\":[4,4],\"line_width\":2,\"right_units\":\"screen\",\"top_units\":\"screen\"},\"id\":\"9709\",\"type\":\"BoxAnnotation\"},{\"attributes\":{},\"id\":\"9742\",\"type\":\"BasicTickFormatter\"},{\"attributes\":{},\"id\":\"9744\",\"type\":\"UnionRenderers\"},{\"attributes\":{\"line_width\":{\"value\":2},\"xs\":{\"field\":\"xs\"},\"ys\":{\"field\":\"ys\"}},\"id\":\"9720\",\"type\":\"MultiLine\"},{\"attributes\":{\"data_source\":{\"id\":\"9719\"},\"glyph\":{\"id\":\"9720\"},\"hover_glyph\":null,\"muted_glyph\":null,\"nonselection_glyph\":{\"id\":\"9721\"},\"selection_glyph\":null,\"view\":{\"id\":\"9723\"}},\"id\":\"9722\",\"type\":\"GlyphRenderer\"},{\"attributes\":{},\"id\":\"9696\",\"type\":\"BasicTicker\"},{\"attributes\":{},\"id\":\"9745\",\"type\":\"Selection\"},{\"attributes\":{\"end\":119.35,\"start\":-9.350000000000001},\"id\":\"9687\",\"type\":\"Range1d\"},{\"attributes\":{},\"id\":\"9746\",\"type\":\"UnionRenderers\"},{\"attributes\":{},\"id\":\"9693\",\"type\":\"LinearScale\"},{\"attributes\":{\"line_alpha\":{\"value\":0.1},\"line_width\":{\"value\":2},\"xs\":{\"field\":\"xs\"},\"ys\":{\"field\":\"ys\"}},\"id\":\"9721\",\"type\":\"MultiLine\"},{\"attributes\":{},\"id\":\"9708\",\"type\":\"HelpTool\"},{\"attributes\":{},\"id\":\"9747\",\"type\":\"Selection\"},{\"attributes\":{\"source\":{\"id\":\"9719\"}},\"id\":\"9723\",\"type\":\"CDSView\"},{\"attributes\":{\"data\":{\"x\":[3.0,3.0,8.0,6.0,3.0,3.0,0.0,0.0,5.0,5.0,11.0,11.0,15.0,19.0,12.0,12.0,13.0,13.0,14.0,14.0,15.0,15.0,18.0,21.0,18.0,18.0,21.0,18.0,28.0,25.0,37.0,33.0,37.0,37.0,28.0,30.0,21.0,23.0,21.0,23.0,21.0,23.0,21.0,23.0,21.0,19.0,21.0,19.0,21.0,24.0,18.0,18.0,21.0,25.0,21.0,24.0,21.0,24.0,28.0,26.0,28.0,26.0,28.0,30.0,31.0,27.0,28.0,32.0,28.0,26.0,28.0,26.0,31.0,27.0,28.0,32.0,31.0,27.0,36.0,36.0,38.0,36.0,41.0,38.0,41.0,43.0,43.0,45.0,44.0,47.0,51.0,53.0,51.0,51.0,59.0,59.0,60.0,60.0,67.0,67.0,60.0,62.0,51.0,51.0,66.0,62.0,74.0,70.0,77.0,73.0,83.0,81.0,81.0,81.0,77.0,82.0,74.0,72.0,77.0,74.0,74.0,70.0,77.0,80.0,80.0,76.0,77.0,81.0,87.0,90.0,87.0,87.0,84.0,84.0,82.0,82.0,83.0,85.0,87.0,87.0,110.0,110.0,87.0,91.0,87.0,87.0,87.0,89.0,82.0,85.0,81.0,79.0,81.0,78.0,77.0,79.0,77.0,73.0,77.0,74.0,81.0,78.0,82.0,80.0,83.0,83.0,74.0,78.0,74.0,71.0,64.0,68.0,64.0,62.0,60.0,60.0,54.0,58.0,54.0,51.0,44.0,47.0,44.0,46.0,41.0,41.0,44.0,42.0,44.0,47.0,37.0,42.0,41.0,39.0,37.0,40.0,38.0,38.0,37.0,37.0,36.0,36.0,36.0,33.0,36.0,36.0,35.0,35.0,31.0,34.0,35.0,32.0,31.0,29.0,31.0,28.0,31.0,28.0,37.0,34.0,37.0,39.0,31.0,33.0,21.0,25.0,18.0,18.0,21.0,17.0,21.0,25.0,21.0,18.0,21.0,25.0,21.0,23.0,21.0,23.0,18.0,14.0,8.0,12.0,3.0,3.0,8.0,6.0,8.0,12.0,18.0,14.0,18.0,18.0,13.0,17.0,8.0,12.0,3.0,6.0,3.0,1.0,8.0,4.0,8.0,6.0,3.0,3.0],\"y\":[16.0,13.0,11.0,11.0,3.0,3.0,0.0,0.0,3.0,1.0,3.0,7.0,8.0,8.0,13.0,10.0,13.0,15.0,13.0,16.0,13.0,16.0,11.0,11.0,16.0,13.0,18.0,18.0,12.0,12.0,8.0,8.0,18.0,13.0,14.0,14.0,16.0,16.0,20.0,20.0,22.0,22.0,24.0,24.0,26.0,26.0,28.0,28.0,30.0,30.0,34.0,31.0,36.0,36.0,34.0,34.0,32.0,32.0,29.0,29.0,31.0,31.0,32.0,32.0,33.0,33.0,27.0,27.0,26.0,26.0,25.0,25.0,23.0,23.0,18.0,18.0,19.0,19.0,18.0,16.0,20.0,20.0,19.0,19.0,23.0,23.0,25.0,25.0,26.0,26.0,30.0,30.0,25.0,27.0,28.0,24.0,28.0,30.0,25.0,28.0,15.0,15.0,9.0,13.0,9.0,9.0,14.0,14.0,9.0,9.0,8.0,8.0,13.0,9.0,19.0,19.0,16.0,16.0,15.0,15.0,19.0,19.0,23.0,23.0,24.0,24.0,27.0,27.0,27.0,27.0,23.0,25.0,20.0,22.0,13.0,17.0,13.0,13.0,9.0,13.0,30.0,32.0,41.0,41.0,37.0,40.0,32.0,32.0,36.0,36.0,38.0,38.0,35.0,35.0,32.0,32.0,38.0,38.0,42.0,42.0,42.0,42.0,40.0,40.0,44.0,40.0,50.0,50.0,48.0,48.0,50.0,50.0,48.0,48.0,47.0,43.0,50.0,50.0,48.0,48.0,38.0,38.0,39.0,39.0,37.0,41.0,37.0,37.0,35.0,35.0,29.0,29.0,33.0,33.0,32.0,32.0,34.0,36.0,34.0,38.0,34.0,37.0,32.0,32.0,29.0,31.0,29.0,27.0,31.0,31.0,34.0,34.0,37.0,37.0,43.0,43.0,46.0,46.0,41.0,41.0,44.0,44.0,50.0,50.0,48.0,48.0,48.0,50.0,47.0,47.0,45.0,45.0,44.0,44.0,42.0,42.0,40.0,40.0,38.0,38.0,40.0,40.0,46.0,46.0,42.0,39.0,40.0,40.0,34.0,34.0,28.0,28.0,22.0,24.0,20.0,20.0,22.0,22.0,30.0,30.0,29.0,29.0,28.0,28.0,16.0,16.0,16.0,13.0]},\"selected\":{\"id\":\"9747\"},\"selection_policy\":{\"id\":\"9746\"}},\"id\":\"9724\",\"type\":\"ColumnDataSource\"},{\"attributes\":{},\"id\":\"9691\",\"type\":\"LinearScale\"},{\"attributes\":{},\"id\":\"9748\",\"type\":\"UnionRenderers\"},{\"attributes\":{\"end\":54.25,\"start\":-4.25},\"id\":\"9689\",\"type\":\"Range1d\"},{\"attributes\":{},\"id\":\"9749\",\"type\":\"Selection\"},{\"attributes\":{\"data_source\":{\"id\":\"9724\"},\"glyph\":{\"id\":\"9725\"},\"hover_glyph\":null,\"muted_glyph\":null,\"nonselection_glyph\":{\"id\":\"9726\"},\"selection_glyph\":null,\"view\":{\"id\":\"9728\"}},\"id\":\"9727\",\"type\":\"GlyphRenderer\"},{\"attributes\":{\"formatter\":{\"id\":\"9740\"},\"ticker\":{\"id\":\"9696\"},\"visible\":false},\"id\":\"9695\",\"type\":\"LinearAxis\"},{\"attributes\":{\"line_dash\":[6],\"line_width\":2,\"x\":{\"field\":\"x\"},\"y\":{\"field\":\"y\"}},\"id\":\"9725\",\"type\":\"Line\"},{\"attributes\":{\"overlay\":{\"id\":\"9709\"}},\"id\":\"9705\",\"type\":\"BoxZoomTool\"},{\"attributes\":{},\"id\":\"9750\",\"type\":\"UnionRenderers\"},{\"attributes\":{},\"id\":\"9704\",\"type\":\"WheelZoomTool\"},{\"attributes\":{\"formatter\":{\"id\":\"9742\"},\"ticker\":{\"id\":\"9700\"},\"visible\":false},\"id\":\"9699\",\"type\":\"LinearAxis\"},{\"attributes\":{},\"id\":\"9706\",\"type\":\"SaveTool\"},{\"attributes\":{},\"id\":\"9751\",\"type\":\"Selection\"},{\"attributes\":{\"line_alpha\":0.1,\"line_dash\":[6],\"line_width\":2,\"x\":{\"field\":\"x\"},\"y\":{\"field\":\"y\"}},\"id\":\"9726\",\"type\":\"Line\"},{\"attributes\":{\"data\":{\"xs\":[[3.0,3.0],[3.0,1.0],[3.0,6.0],[3.0,3.0],[5.0,5.0],[8.0,6.0],[8.0,12.0],[8.0,4.0],[8.0,12.0],[8.0,6.0],[8.0,12.0],[8.0,6.0],[11.0,11.0],[12.0,12.0],[13.0,13.0],[14.0,14.0],[15.0,15.0],[15.0,19.0],[18.0,18.0],[18.0,18.0],[18.0,14.0],[18.0,18.0],[18.0,14.0],[18.0,18.0],[18.0,21.0],[13.0,17.0],[21.0,23.0],[21.0,18.0],[21.0,23.0],[21.0,23.0],[21.0,23.0],[21.0,19.0],[21.0,19.0],[21.0,24.0],[21.0,24.0],[21.0,24.0],[21.0,25.0],[21.0,23.0],[21.0,23.0],[21.0,25.0],[21.0,18.0],[21.0,25.0],[21.0,17.0],[21.0,25.0],[28.0,30.0],[28.0,32.0],[28.0,26.0],[28.0,26.0],[28.0,32.0],[28.0,26.0],[28.0,26.0],[28.0,30.0],[28.0,25.0],[31.0,27.0],[31.0,27.0],[31.0,34.0],[31.0,27.0],[31.0,29.0],[31.0,28.0],[31.0,28.0],[31.0,33.0],[35.0,35.0],[35.0,32.0],[36.0,36.0],[36.0,36.0],[36.0,33.0],[36.0,36.0],[37.0,37.0],[37.0,42.0],[37.0,40.0],[37.0,37.0],[37.0,34.0],[37.0,39.0],[37.0,33.0],[38.0,36.0],[38.0,38.0],[41.0,38.0],[41.0,43.0],[41.0,39.0],[41.0,41.0],[43.0,45.0],[44.0,47.0],[44.0,47.0],[44.0,42.0],[44.0,47.0],[44.0,46.0],[51.0,51.0],[51.0,53.0],[51.0,51.0],[54.0,51.0],[54.0,58.0],[59.0,59.0],[60.0,62.0],[60.0,60.0],[60.0,60.0],[64.0,62.0],[64.0,68.0],[66.0,62.0],[67.0,67.0],[74.0,70.0],[74.0,72.0],[74.0,70.0],[74.0,71.0],[74.0,78.0],[77.0,74.0],[77.0,82.0],[77.0,80.0],[77.0,81.0],[77.0,79.0],[77.0,73.0],[77.0,74.0],[77.0,73.0],[80.0,76.0],[81.0,81.0],[81.0,78.0],[81.0,79.0],[81.0,78.0],[82.0,82.0],[82.0,85.0],[82.0,80.0],[83.0,85.0],[83.0,83.0],[83.0,81.0],[84.0,84.0],[87.0,87.0],[87.0,90.0],[87.0,89.0],[87.0,87.0],[87.0,91.0],[87.0,87.0],[110.0,110.0],[3.0,3.0],[0.0,0.0]],\"ys\":[[16.0,13.0],[29.0,29.0],[30.0,30.0],[42.0,39.0],[3.0,1.0],[16.0,16.0],[22.0,22.0],[28.0,28.0],[34.0,34.0],[40.0,40.0],[46.0,46.0],[11.0,11.0],[3.0,7.0],[13.0,10.0],[13.0,15.0],[13.0,16.0],[13.0,16.0],[8.0,8.0],[16.0,13.0],[22.0,24.0],[28.0,28.0],[34.0,31.0],[40.0,40.0],[48.0,50.0],[11.0,11.0],[20.0,20.0],[16.0,16.0],[18.0,18.0],[20.0,20.0],[22.0,22.0],[24.0,24.0],[26.0,26.0],[28.0,28.0],[30.0,30.0],[32.0,32.0],[34.0,34.0],[36.0,36.0],[38.0,38.0],[40.0,40.0],[42.0,42.0],[44.0,44.0],[45.0,45.0],[47.0,47.0],[48.0,48.0],[14.0,14.0],[18.0,18.0],[25.0,25.0],[26.0,26.0],[27.0,27.0],[29.0,29.0],[31.0,31.0],[32.0,32.0],[12.0,12.0],[19.0,19.0],[23.0,23.0],[31.0,31.0],[33.0,33.0],[37.0,37.0],[43.0,43.0],[46.0,46.0],[50.0,50.0],[29.0,27.0],[34.0,34.0],[18.0,16.0],[29.0,31.0],[32.0,32.0],[34.0,37.0],[18.0,13.0],[29.0,29.0],[32.0,32.0],[34.0,38.0],[41.0,41.0],[44.0,44.0],[8.0,8.0],[20.0,20.0],[34.0,36.0],[19.0,19.0],[23.0,23.0],[33.0,33.0],[37.0,41.0],[25.0,25.0],[26.0,26.0],[35.0,35.0],[37.0,37.0],[38.0,38.0],[39.0,39.0],[25.0,27.0],[30.0,30.0],[9.0,13.0],[48.0,48.0],[50.0,50.0],[28.0,24.0],[15.0,15.0],[28.0,30.0],[47.0,43.0],[48.0,48.0],[50.0,50.0],[9.0,9.0],[25.0,28.0],[14.0,14.0],[16.0,16.0],[19.0,19.0],[48.0,48.0],[50.0,50.0],[15.0,15.0],[19.0,19.0],[23.0,23.0],[27.0,27.0],[32.0,32.0],[38.0,38.0],[42.0,42.0],[9.0,9.0],[24.0,24.0],[13.0,9.0],[35.0,35.0],[38.0,38.0],[42.0,42.0],[13.0,17.0],[36.0,36.0],[40.0,40.0],[13.0,13.0],[44.0,40.0],[8.0,8.0],[20.0,22.0],[23.0,25.0],[27.0,27.0],[32.0,32.0],[37.0,40.0],[41.0,41.0],[9.0,13.0],[30.0,32.0],[3.0,3.0],[0.0,0.0]]},\"selected\":{\"id\":\"9745\"},\"selection_policy\":{\"id\":\"9744\"}},\"id\":\"9719\",\"type\":\"ColumnDataSource\"},{\"attributes\":{\"text\":\"\"},\"id\":\"9685\",\"type\":\"Title\"},{\"attributes\":{\"source\":{\"id\":\"9724\"}},\"id\":\"9728\",\"type\":\"CDSView\"},{\"attributes\":{\"data\":{\"x\":[3.0,3.0,3.0,3.0,5.0,8.0,8.0,8.0,8.0,8.0,8.0,8.0,11.0,12.0,13.0,14.0,15.0,15.0,18.0,18.0,18.0,18.0,18.0,18.0,18.0,13.0,21.0,21.0,21.0,21.0,21.0,21.0,21.0,21.0,21.0,21.0,21.0,21.0,21.0,21.0,21.0,21.0,21.0,21.0,28.0,28.0,28.0,28.0,28.0,28.0,28.0,28.0,28.0,31.0,31.0,31.0,31.0,31.0,31.0,31.0,31.0,35.0,35.0,36.0,36.0,36.0,36.0,37.0,37.0,37.0,37.0,37.0,37.0,37.0,38.0,38.0,41.0,41.0,41.0,41.0,43.0,44.0,44.0,44.0,44.0,44.0,51.0,51.0,51.0,54.0,54.0,59.0,60.0,60.0,60.0,64.0,64.0,66.0,67.0,74.0,74.0,74.0,74.0,74.0,77.0,77.0,77.0,77.0,77.0,77.0,77.0,77.0,80.0,81.0,81.0,81.0,81.0,82.0,82.0,82.0,83.0,83.0,83.0,84.0,87.0,87.0,87.0,87.0,87.0,87.0,110.0,3.0,0.0],\"y\":[16.0,29.0,30.0,42.0,3.0,16.0,22.0,28.0,34.0,40.0,46.0,11.0,3.0,13.0,13.0,13.0,13.0,8.0,16.0,22.0,28.0,34.0,40.0,48.0,11.0,20.0,16.0,18.0,20.0,22.0,24.0,26.0,28.0,30.0,32.0,34.0,36.0,38.0,40.0,42.0,44.0,45.0,47.0,48.0,14.0,18.0,25.0,26.0,27.0,29.0,31.0,32.0,12.0,19.0,23.0,31.0,33.0,37.0,43.0,46.0,50.0,29.0,34.0,18.0,29.0,32.0,34.0,18.0,29.0,32.0,34.0,41.0,44.0,8.0,20.0,34.0,19.0,23.0,33.0,37.0,25.0,26.0,35.0,37.0,38.0,39.0,25.0,30.0,9.0,48.0,50.0,28.0,15.0,28.0,47.0,48.0,50.0,9.0,25.0,14.0,16.0,19.0,48.0,50.0,15.0,19.0,23.0,27.0,32.0,38.0,42.0,9.0,24.0,13.0,35.0,38.0,42.0,13.0,36.0,40.0,13.0,44.0,8.0,20.0,23.0,27.0,32.0,37.0,41.0,9.0,30.0,3.0,0.0]},\"selected\":{\"id\":\"9749\"},\"selection_policy\":{\"id\":\"9748\"}},\"id\":\"9729\",\"type\":\"ColumnDataSource\"},{\"attributes\":{},\"id\":\"9707\",\"type\":\"ResetTool\"},{\"attributes\":{},\"id\":\"9700\",\"type\":\"BasicTicker\"},{\"attributes\":{\"axis\":{\"id\":\"9699\"},\"dimension\":1,\"grid_line_color\":null,\"ticker\":null},\"id\":\"9702\",\"type\":\"Grid\"},{\"attributes\":{\"data_source\":{\"id\":\"9734\"},\"glyph\":{\"id\":\"9735\"},\"hover_glyph\":null,\"muted_glyph\":null,\"nonselection_glyph\":{\"id\":\"9736\"},\"selection_glyph\":null,\"view\":{\"id\":\"9738\"}},\"id\":\"9737\",\"type\":\"GlyphRenderer\"},{\"attributes\":{\"fill_alpha\":{\"value\":0.1},\"fill_color\":{\"value\":\"#DC0000\"},\"line_alpha\":{\"value\":0.1},\"line_color\":{\"value\":\"#DC0000\"},\"size\":{\"units\":\"screen\",\"value\":5},\"x\":{\"field\":\"x\"},\"y\":{\"field\":\"y\"}},\"id\":\"9736\",\"type\":\"Circle\"},{\"attributes\":{\"fill_alpha\":{\"value\":0.1},\"fill_color\":{\"value\":\"steelblue\"},\"line_alpha\":{\"value\":0.1},\"line_color\":{\"value\":\"steelblue\"},\"size\":{\"units\":\"screen\",\"value\":5},\"x\":{\"field\":\"x\"},\"y\":{\"field\":\"y\"}},\"id\":\"9731\",\"type\":\"Circle\"},{\"attributes\":{},\"id\":\"9703\",\"type\":\"PanTool\"},{\"attributes\":{\"align\":\"center\",\"text\":\"658.7\",\"width\":800},\"id\":\"9718\",\"type\":\"Div\"},{\"attributes\":{\"data_source\":{\"id\":\"9729\"},\"glyph\":{\"id\":\"9730\"},\"hover_glyph\":null,\"muted_glyph\":null,\"nonselection_glyph\":{\"id\":\"9731\"},\"selection_glyph\":null,\"view\":{\"id\":\"9733\"}},\"id\":\"9732\",\"type\":\"GlyphRenderer\"}],\"root_ids\":[\"9754\"]},\"title\":\"Bokeh Application\",\"version\":\"2.2.3\"}};\n",
       "  var render_items = [{\"docid\":\"9dc8b67e-8633-4b58-ac2a-2677bcbff6da\",\"root_ids\":[\"9754\"],\"roots\":{\"9754\":\"0414d348-cf13-4028-a445-794bcc84f907\"}}];\n",
       "  root.Bokeh.embed.embed_items_notebook(docs_json, render_items);\n",
       "\n",
       "  }\n",
       "  if (root.Bokeh !== undefined) {\n",
       "    embed_document(root);\n",
       "  } else {\n",
       "    var attempts = 0;\n",
       "    var timer = setInterval(function(root) {\n",
       "      if (root.Bokeh !== undefined) {\n",
       "        clearInterval(timer);\n",
       "        embed_document(root);\n",
       "      } else {\n",
       "        attempts++;\n",
       "        if (attempts > 100) {\n",
       "          clearInterval(timer);\n",
       "          console.log(\"Bokeh: ERROR: Unable to run BokehJS code because BokehJS library is missing\");\n",
       "        }\n",
       "      }\n",
       "    }, 10, root)\n",
       "  }\n",
       "})(window);"
      ],
      "application/vnd.bokehjs_exec.v0+json": ""
     },
     "metadata": {
      "application/vnd.bokehjs_exec.v0+json": {
       "id": "9754"
      }
     },
     "output_type": "display_data"
    }
   ],
   "source": [
    "# Furthest insertion\n",
    "plot_etching_tour(nodes, G, furthest_insertion(G, initial=[0,70,0]))"
   ]
  },
  {
   "cell_type": "markdown",
   "metadata": {},
   "source": [
    "<font color='red'>Don't have a known optimal solution to this instance. Should get one.</font>"
   ]
  },
  {
   "cell_type": "markdown",
   "metadata": {},
   "source": [
    "Unfortunately, we do not have a known optimal solution to this problem but OR-Tools offers us more advanced techniques for finding a good feasible solution. Let's see if it does better than our heuristics!"
   ]
  },
  {
   "cell_type": "code",
   "execution_count": 45,
   "metadata": {},
   "outputs": [
    {
     "data": {
      "text/html": [
       "\n",
       "\n",
       "\n",
       "\n",
       "\n",
       "\n",
       "  <div class=\"bk-root\" id=\"aca6ff02-6752-47e4-a9c2-26cfc64b0ade\" data-root-id=\"10257\"></div>\n"
      ]
     },
     "metadata": {},
     "output_type": "display_data"
    },
    {
     "data": {
      "application/javascript": [
       "(function(root) {\n",
       "  function embed_document(root) {\n",
       "    \n",
       "  var docs_json = {\"6ede5d6c-f3e4-41d5-b57c-c7076c6d207e\":{\"roots\":{\"references\":[{\"attributes\":{\"children\":[[{\"id\":\"10187\"},0,0],[{\"id\":\"10221\"},1,0]]},\"id\":\"10257\",\"type\":\"GridBox\"},{\"attributes\":{},\"id\":\"10194\",\"type\":\"LinearScale\"},{\"attributes\":{\"source\":{\"id\":\"10237\"}},\"id\":\"10241\",\"type\":\"CDSView\"},{\"attributes\":{\"line_dash\":[6],\"line_width\":2,\"x\":{\"field\":\"x\"},\"y\":{\"field\":\"y\"}},\"id\":\"10228\",\"type\":\"Line\"},{\"attributes\":{\"fill_alpha\":{\"value\":0.1},\"fill_color\":{\"value\":\"#DC0000\"},\"line_alpha\":{\"value\":0.1},\"line_color\":{\"value\":\"#DC0000\"},\"size\":{\"units\":\"screen\",\"value\":5},\"x\":{\"field\":\"x\"},\"y\":{\"field\":\"y\"}},\"id\":\"10239\",\"type\":\"Circle\"},{\"attributes\":{},\"id\":\"10196\",\"type\":\"LinearScale\"},{\"attributes\":{\"data_source\":{\"id\":\"10227\"},\"glyph\":{\"id\":\"10228\"},\"hover_glyph\":null,\"muted_glyph\":null,\"nonselection_glyph\":{\"id\":\"10229\"},\"selection_glyph\":null,\"view\":{\"id\":\"10231\"}},\"id\":\"10230\",\"type\":\"GlyphRenderer\"},{\"attributes\":{\"line_alpha\":0.1,\"line_dash\":[6],\"line_width\":2,\"x\":{\"field\":\"x\"},\"y\":{\"field\":\"y\"}},\"id\":\"10229\",\"type\":\"Line\"},{\"attributes\":{\"formatter\":{\"id\":\"10243\"},\"ticker\":{\"id\":\"10199\"},\"visible\":false},\"id\":\"10198\",\"type\":\"LinearAxis\"},{\"attributes\":{},\"id\":\"10243\",\"type\":\"BasicTickFormatter\"},{\"attributes\":{\"bottom_units\":\"screen\",\"fill_alpha\":0.5,\"fill_color\":\"lightgrey\",\"left_units\":\"screen\",\"level\":\"overlay\",\"line_alpha\":1.0,\"line_color\":\"black\",\"line_dash\":[4,4],\"line_width\":2,\"right_units\":\"screen\",\"top_units\":\"screen\"},\"id\":\"10212\",\"type\":\"BoxAnnotation\"},{\"attributes\":{},\"id\":\"10245\",\"type\":\"BasicTickFormatter\"},{\"attributes\":{},\"id\":\"10199\",\"type\":\"BasicTicker\"},{\"attributes\":{\"background_fill_color\":null,\"below\":[{\"id\":\"10198\"}],\"border_fill_color\":null,\"center\":[{\"id\":\"10201\"},{\"id\":\"10205\"}],\"left\":[{\"id\":\"10202\"}],\"outline_line_color\":null,\"plot_height\":400,\"plot_width\":800,\"renderers\":[{\"id\":\"10225\"},{\"id\":\"10230\"},{\"id\":\"10235\"},{\"id\":\"10240\"}],\"title\":{\"id\":\"10188\"},\"toolbar\":{\"id\":\"10213\"},\"toolbar_location\":null,\"x_range\":{\"id\":\"10190\"},\"x_scale\":{\"id\":\"10194\"},\"y_range\":{\"id\":\"10192\"},\"y_scale\":{\"id\":\"10196\"}},\"id\":\"10187\",\"subtype\":\"Figure\",\"type\":\"Plot\"},{\"attributes\":{\"line_width\":{\"value\":2},\"xs\":{\"field\":\"xs\"},\"ys\":{\"field\":\"ys\"}},\"id\":\"10223\",\"type\":\"MultiLine\"},{\"attributes\":{\"axis\":{\"id\":\"10198\"},\"grid_line_color\":null,\"ticker\":null},\"id\":\"10201\",\"type\":\"Grid\"},{\"attributes\":{\"data_source\":{\"id\":\"10222\"},\"glyph\":{\"id\":\"10223\"},\"hover_glyph\":null,\"muted_glyph\":null,\"nonselection_glyph\":{\"id\":\"10224\"},\"selection_glyph\":null,\"view\":{\"id\":\"10226\"}},\"id\":\"10225\",\"type\":\"GlyphRenderer\"},{\"attributes\":{},\"id\":\"10247\",\"type\":\"UnionRenderers\"},{\"attributes\":{\"formatter\":{\"id\":\"10245\"},\"ticker\":{\"id\":\"10203\"},\"visible\":false},\"id\":\"10202\",\"type\":\"LinearAxis\"},{\"attributes\":{},\"id\":\"10248\",\"type\":\"Selection\"},{\"attributes\":{},\"id\":\"10203\",\"type\":\"BasicTicker\"},{\"attributes\":{\"line_alpha\":{\"value\":0.1},\"line_width\":{\"value\":2},\"xs\":{\"field\":\"xs\"},\"ys\":{\"field\":\"ys\"}},\"id\":\"10224\",\"type\":\"MultiLine\"},{\"attributes\":{},\"id\":\"10249\",\"type\":\"UnionRenderers\"},{\"attributes\":{\"source\":{\"id\":\"10222\"}},\"id\":\"10226\",\"type\":\"CDSView\"},{\"attributes\":{\"axis\":{\"id\":\"10202\"},\"dimension\":1,\"grid_line_color\":null,\"ticker\":null},\"id\":\"10205\",\"type\":\"Grid\"},{\"attributes\":{\"text\":\"\"},\"id\":\"10188\",\"type\":\"Title\"},{\"attributes\":{\"data\":{\"x\":[3.0,3.0,8.0,6.0,13.0,13.0,15.0,15.0,18.0,18.0,21.0,18.0,21.0,23.0,28.0,26.0,28.0,26.0,28.0,26.0,28.0,30.0,31.0,27.0,36.0,33.0,36.0,36.0,35.0,35.0,28.0,32.0,28.0,26.0,31.0,27.0,28.0,32.0,28.0,30.0,28.0,25.0,37.0,33.0,37.0,37.0,38.0,36.0,41.0,43.0,37.0,40.0,41.0,39.0,44.0,42.0,44.0,47.0,44.0,47.0,44.0,46.0,41.0,41.0,37.0,37.0,38.0,38.0,36.0,36.0,31.0,29.0,21.0,25.0,21.0,23.0,21.0,23.0,21.0,25.0,21.0,18.0,21.0,25.0,21.0,17.0,21.0,25.0,18.0,18.0,8.0,12.0,3.0,3.0,8.0,6.0,18.0,14.0,8.0,12.0,3.0,6.0,3.0,1.0,8.0,4.0,18.0,14.0,18.0,18.0,13.0,17.0,8.0,12.0,8.0,6.0,3.0,3.0,0.0,0.0,5.0,5.0,11.0,11.0,15.0,19.0,18.0,21.0,21.0,23.0,31.0,27.0,36.0,36.0,41.0,38.0,51.0,51.0,66.0,62.0,77.0,73.0,83.0,81.0,81.0,81.0,82.0,82.0,83.0,85.0,87.0,87.0,110.0,110.0,87.0,89.0,87.0,90.0,87.0,87.0,84.0,84.0,77.0,82.0,77.0,80.0,67.0,67.0,59.0,59.0,60.0,60.0,60.0,62.0,74.0,70.0,77.0,74.0,74.0,72.0,74.0,70.0,80.0,76.0,77.0,81.0,77.0,79.0,81.0,78.0,81.0,79.0,82.0,80.0,83.0,83.0,87.0,91.0,87.0,87.0,82.0,85.0,77.0,73.0,77.0,74.0,81.0,78.0,74.0,78.0,74.0,71.0,64.0,68.0,64.0,62.0,60.0,60.0,54.0,58.0,54.0,51.0,51.0,53.0,51.0,51.0,44.0,47.0,43.0,45.0,37.0,42.0,31.0,34.0,35.0,32.0,37.0,34.0,37.0,39.0,31.0,33.0,31.0,28.0,31.0,28.0,21.0,24.0,21.0,24.0,21.0,24.0,18.0,18.0,21.0,19.0,21.0,19.0,21.0,23.0,21.0,23.0,14.0,14.0,12.0,12.0,3.0,3.0],\"y\":[16.0,13.0,16.0,16.0,13.0,15.0,13.0,16.0,16.0,13.0,18.0,18.0,20.0,20.0,26.0,26.0,29.0,29.0,31.0,31.0,32.0,32.0,33.0,33.0,32.0,32.0,29.0,31.0,29.0,27.0,27.0,27.0,25.0,25.0,23.0,23.0,18.0,18.0,14.0,14.0,12.0,12.0,8.0,8.0,18.0,13.0,20.0,20.0,23.0,23.0,32.0,32.0,33.0,33.0,37.0,37.0,35.0,35.0,38.0,38.0,39.0,39.0,37.0,41.0,34.0,38.0,34.0,36.0,34.0,37.0,37.0,37.0,36.0,36.0,38.0,38.0,40.0,40.0,42.0,42.0,44.0,44.0,45.0,45.0,47.0,47.0,48.0,48.0,48.0,50.0,46.0,46.0,42.0,39.0,40.0,40.0,40.0,40.0,34.0,34.0,30.0,30.0,29.0,29.0,28.0,28.0,28.0,28.0,22.0,24.0,20.0,20.0,22.0,22.0,11.0,11.0,3.0,3.0,0.0,0.0,3.0,1.0,3.0,7.0,8.0,8.0,11.0,11.0,16.0,16.0,19.0,19.0,18.0,16.0,19.0,19.0,9.0,13.0,9.0,9.0,9.0,9.0,8.0,8.0,13.0,9.0,13.0,17.0,13.0,13.0,9.0,13.0,30.0,32.0,32.0,32.0,27.0,27.0,23.0,25.0,20.0,22.0,19.0,19.0,23.0,23.0,25.0,28.0,28.0,24.0,28.0,30.0,15.0,15.0,14.0,14.0,15.0,15.0,16.0,16.0,19.0,19.0,24.0,24.0,27.0,27.0,32.0,32.0,35.0,35.0,38.0,38.0,40.0,40.0,44.0,40.0,41.0,41.0,37.0,40.0,36.0,36.0,38.0,38.0,42.0,42.0,42.0,42.0,50.0,50.0,48.0,48.0,50.0,50.0,48.0,48.0,47.0,43.0,50.0,50.0,48.0,48.0,30.0,30.0,25.0,27.0,26.0,26.0,25.0,25.0,29.0,29.0,31.0,31.0,34.0,34.0,41.0,41.0,44.0,44.0,50.0,50.0,46.0,46.0,43.0,43.0,34.0,34.0,32.0,32.0,30.0,30.0,34.0,31.0,28.0,28.0,26.0,26.0,24.0,24.0,22.0,22.0,13.0,16.0,13.0,10.0,16.0,13.0]},\"selected\":{\"id\":\"10250\"},\"selection_policy\":{\"id\":\"10249\"}},\"id\":\"10227\",\"type\":\"ColumnDataSource\"},{\"attributes\":{},\"id\":\"10250\",\"type\":\"Selection\"},{\"attributes\":{},\"id\":\"10251\",\"type\":\"UnionRenderers\"},{\"attributes\":{\"data\":{\"xs\":[[3.0,3.0],[3.0,1.0],[3.0,6.0],[3.0,3.0],[5.0,5.0],[8.0,6.0],[8.0,12.0],[8.0,4.0],[8.0,12.0],[8.0,6.0],[8.0,12.0],[8.0,6.0],[11.0,11.0],[12.0,12.0],[13.0,13.0],[14.0,14.0],[15.0,15.0],[15.0,19.0],[18.0,18.0],[18.0,18.0],[18.0,14.0],[18.0,18.0],[18.0,14.0],[18.0,18.0],[18.0,21.0],[13.0,17.0],[21.0,23.0],[21.0,18.0],[21.0,23.0],[21.0,23.0],[21.0,23.0],[21.0,19.0],[21.0,19.0],[21.0,24.0],[21.0,24.0],[21.0,24.0],[21.0,25.0],[21.0,23.0],[21.0,23.0],[21.0,25.0],[21.0,18.0],[21.0,25.0],[21.0,17.0],[21.0,25.0],[28.0,30.0],[28.0,32.0],[28.0,26.0],[28.0,26.0],[28.0,32.0],[28.0,26.0],[28.0,26.0],[28.0,30.0],[28.0,25.0],[31.0,27.0],[31.0,27.0],[31.0,34.0],[31.0,27.0],[31.0,29.0],[31.0,28.0],[31.0,28.0],[31.0,33.0],[35.0,35.0],[35.0,32.0],[36.0,36.0],[36.0,36.0],[36.0,33.0],[36.0,36.0],[37.0,37.0],[37.0,42.0],[37.0,40.0],[37.0,37.0],[37.0,34.0],[37.0,39.0],[37.0,33.0],[38.0,36.0],[38.0,38.0],[41.0,38.0],[41.0,43.0],[41.0,39.0],[41.0,41.0],[43.0,45.0],[44.0,47.0],[44.0,47.0],[44.0,42.0],[44.0,47.0],[44.0,46.0],[51.0,51.0],[51.0,53.0],[51.0,51.0],[54.0,51.0],[54.0,58.0],[59.0,59.0],[60.0,62.0],[60.0,60.0],[60.0,60.0],[64.0,62.0],[64.0,68.0],[66.0,62.0],[67.0,67.0],[74.0,70.0],[74.0,72.0],[74.0,70.0],[74.0,71.0],[74.0,78.0],[77.0,74.0],[77.0,82.0],[77.0,80.0],[77.0,81.0],[77.0,79.0],[77.0,73.0],[77.0,74.0],[77.0,73.0],[80.0,76.0],[81.0,81.0],[81.0,78.0],[81.0,79.0],[81.0,78.0],[82.0,82.0],[82.0,85.0],[82.0,80.0],[83.0,85.0],[83.0,83.0],[83.0,81.0],[84.0,84.0],[87.0,87.0],[87.0,90.0],[87.0,89.0],[87.0,87.0],[87.0,91.0],[87.0,87.0],[110.0,110.0],[3.0,3.0],[0.0,0.0]],\"ys\":[[16.0,13.0],[29.0,29.0],[30.0,30.0],[42.0,39.0],[3.0,1.0],[16.0,16.0],[22.0,22.0],[28.0,28.0],[34.0,34.0],[40.0,40.0],[46.0,46.0],[11.0,11.0],[3.0,7.0],[13.0,10.0],[13.0,15.0],[13.0,16.0],[13.0,16.0],[8.0,8.0],[16.0,13.0],[22.0,24.0],[28.0,28.0],[34.0,31.0],[40.0,40.0],[48.0,50.0],[11.0,11.0],[20.0,20.0],[16.0,16.0],[18.0,18.0],[20.0,20.0],[22.0,22.0],[24.0,24.0],[26.0,26.0],[28.0,28.0],[30.0,30.0],[32.0,32.0],[34.0,34.0],[36.0,36.0],[38.0,38.0],[40.0,40.0],[42.0,42.0],[44.0,44.0],[45.0,45.0],[47.0,47.0],[48.0,48.0],[14.0,14.0],[18.0,18.0],[25.0,25.0],[26.0,26.0],[27.0,27.0],[29.0,29.0],[31.0,31.0],[32.0,32.0],[12.0,12.0],[19.0,19.0],[23.0,23.0],[31.0,31.0],[33.0,33.0],[37.0,37.0],[43.0,43.0],[46.0,46.0],[50.0,50.0],[29.0,27.0],[34.0,34.0],[18.0,16.0],[29.0,31.0],[32.0,32.0],[34.0,37.0],[18.0,13.0],[29.0,29.0],[32.0,32.0],[34.0,38.0],[41.0,41.0],[44.0,44.0],[8.0,8.0],[20.0,20.0],[34.0,36.0],[19.0,19.0],[23.0,23.0],[33.0,33.0],[37.0,41.0],[25.0,25.0],[26.0,26.0],[35.0,35.0],[37.0,37.0],[38.0,38.0],[39.0,39.0],[25.0,27.0],[30.0,30.0],[9.0,13.0],[48.0,48.0],[50.0,50.0],[28.0,24.0],[15.0,15.0],[28.0,30.0],[47.0,43.0],[48.0,48.0],[50.0,50.0],[9.0,9.0],[25.0,28.0],[14.0,14.0],[16.0,16.0],[19.0,19.0],[48.0,48.0],[50.0,50.0],[15.0,15.0],[19.0,19.0],[23.0,23.0],[27.0,27.0],[32.0,32.0],[38.0,38.0],[42.0,42.0],[9.0,9.0],[24.0,24.0],[13.0,9.0],[35.0,35.0],[38.0,38.0],[42.0,42.0],[13.0,17.0],[36.0,36.0],[40.0,40.0],[13.0,13.0],[44.0,40.0],[8.0,8.0],[20.0,22.0],[23.0,25.0],[27.0,27.0],[32.0,32.0],[37.0,40.0],[41.0,41.0],[9.0,13.0],[30.0,32.0],[3.0,3.0],[0.0,0.0]]},\"selected\":{\"id\":\"10248\"},\"selection_policy\":{\"id\":\"10247\"}},\"id\":\"10222\",\"type\":\"ColumnDataSource\"},{\"attributes\":{\"data\":{\"x\":[3.0,3.0,3.0,3.0,5.0,8.0,8.0,8.0,8.0,8.0,8.0,8.0,11.0,12.0,13.0,14.0,15.0,15.0,18.0,18.0,18.0,18.0,18.0,18.0,18.0,13.0,21.0,21.0,21.0,21.0,21.0,21.0,21.0,21.0,21.0,21.0,21.0,21.0,21.0,21.0,21.0,21.0,21.0,21.0,28.0,28.0,28.0,28.0,28.0,28.0,28.0,28.0,28.0,31.0,31.0,31.0,31.0,31.0,31.0,31.0,31.0,35.0,35.0,36.0,36.0,36.0,36.0,37.0,37.0,37.0,37.0,37.0,37.0,37.0,38.0,38.0,41.0,41.0,41.0,41.0,43.0,44.0,44.0,44.0,44.0,44.0,51.0,51.0,51.0,54.0,54.0,59.0,60.0,60.0,60.0,64.0,64.0,66.0,67.0,74.0,74.0,74.0,74.0,74.0,77.0,77.0,77.0,77.0,77.0,77.0,77.0,77.0,80.0,81.0,81.0,81.0,81.0,82.0,82.0,82.0,83.0,83.0,83.0,84.0,87.0,87.0,87.0,87.0,87.0,87.0,110.0,3.0,0.0],\"y\":[16.0,29.0,30.0,42.0,3.0,16.0,22.0,28.0,34.0,40.0,46.0,11.0,3.0,13.0,13.0,13.0,13.0,8.0,16.0,22.0,28.0,34.0,40.0,48.0,11.0,20.0,16.0,18.0,20.0,22.0,24.0,26.0,28.0,30.0,32.0,34.0,36.0,38.0,40.0,42.0,44.0,45.0,47.0,48.0,14.0,18.0,25.0,26.0,27.0,29.0,31.0,32.0,12.0,19.0,23.0,31.0,33.0,37.0,43.0,46.0,50.0,29.0,34.0,18.0,29.0,32.0,34.0,18.0,29.0,32.0,34.0,41.0,44.0,8.0,20.0,34.0,19.0,23.0,33.0,37.0,25.0,26.0,35.0,37.0,38.0,39.0,25.0,30.0,9.0,48.0,50.0,28.0,15.0,28.0,47.0,48.0,50.0,9.0,25.0,14.0,16.0,19.0,48.0,50.0,15.0,19.0,23.0,27.0,32.0,38.0,42.0,9.0,24.0,13.0,35.0,38.0,42.0,13.0,36.0,40.0,13.0,44.0,8.0,20.0,23.0,27.0,32.0,37.0,41.0,9.0,30.0,3.0,0.0]},\"selected\":{\"id\":\"10252\"},\"selection_policy\":{\"id\":\"10251\"}},\"id\":\"10232\",\"type\":\"ColumnDataSource\"},{\"attributes\":{},\"id\":\"10252\",\"type\":\"Selection\"},{\"attributes\":{\"align\":\"center\",\"text\":\"681.2\",\"width\":800},\"id\":\"10221\",\"type\":\"Div\"},{\"attributes\":{},\"id\":\"10253\",\"type\":\"UnionRenderers\"},{\"attributes\":{\"data_source\":{\"id\":\"10232\"},\"glyph\":{\"id\":\"10233\"},\"hover_glyph\":null,\"muted_glyph\":null,\"nonselection_glyph\":{\"id\":\"10234\"},\"selection_glyph\":null,\"view\":{\"id\":\"10236\"}},\"id\":\"10235\",\"type\":\"GlyphRenderer\"},{\"attributes\":{},\"id\":\"10206\",\"type\":\"PanTool\"},{\"attributes\":{},\"id\":\"10254\",\"type\":\"Selection\"},{\"attributes\":{},\"id\":\"10207\",\"type\":\"WheelZoomTool\"},{\"attributes\":{\"data\":{\"x\":[3,1,6,3,5,6,12,4,12,6,12,6,11,12,13,14,15,19,18,18,14,18,14,18,21,17,23,18,23,23,23,19,19,24,24,24,25,23,23,25,18,25,17,25,30,32,26,26,32,26,26,30,25,27,27,34,27,29,28,28,33,35,32,36,36,33,36,37,42,40,37,34,39,33,36,38,38,43,39,41,45,47,47,42,47,46,51,53,51,51,58,59,62,60,60,62,68,62,67,70,72,70,71,78,74,82,80,81,79,73,74,73,76,81,78,79,78,82,85,80,85,83,81,84,87,90,89,87,91,87,110,3,0],\"y\":[13,29,30,39,1,16,22,28,34,40,46,11,7,10,15,16,16,8,13,24,28,31,40,50,11,20,16,18,20,22,24,26,28,30,32,34,36,38,40,42,44,45,47,48,14,18,25,26,27,29,31,32,12,19,23,31,33,37,43,46,50,27,34,16,31,32,37,13,29,32,38,41,44,8,20,36,19,23,33,41,25,26,35,37,38,39,27,30,13,48,50,24,15,30,43,48,50,9,28,14,16,19,48,50,15,19,23,27,32,38,42,9,24,9,35,38,42,17,36,40,13,40,8,22,25,27,32,40,41,13,32,3,0]},\"selected\":{\"id\":\"10254\"},\"selection_policy\":{\"id\":\"10253\"}},\"id\":\"10237\",\"type\":\"ColumnDataSource\"},{\"attributes\":{\"overlay\":{\"id\":\"10212\"}},\"id\":\"10208\",\"type\":\"BoxZoomTool\"},{\"attributes\":{\"fill_alpha\":{\"value\":0.1},\"fill_color\":{\"value\":\"steelblue\"},\"line_alpha\":{\"value\":0.1},\"line_color\":{\"value\":\"steelblue\"},\"size\":{\"units\":\"screen\",\"value\":5},\"x\":{\"field\":\"x\"},\"y\":{\"field\":\"y\"}},\"id\":\"10234\",\"type\":\"Circle\"},{\"attributes\":{\"source\":{\"id\":\"10232\"}},\"id\":\"10236\",\"type\":\"CDSView\"},{\"attributes\":{},\"id\":\"10209\",\"type\":\"SaveTool\"},{\"attributes\":{\"fill_color\":{\"value\":\"steelblue\"},\"line_color\":{\"value\":\"steelblue\"},\"size\":{\"units\":\"screen\",\"value\":5},\"x\":{\"field\":\"x\"},\"y\":{\"field\":\"y\"}},\"id\":\"10233\",\"type\":\"Circle\"},{\"attributes\":{},\"id\":\"10210\",\"type\":\"ResetTool\"},{\"attributes\":{\"end\":119.35,\"start\":-9.350000000000001},\"id\":\"10190\",\"type\":\"Range1d\"},{\"attributes\":{\"fill_color\":{\"value\":\"#DC0000\"},\"line_color\":{\"value\":\"#DC0000\"},\"size\":{\"units\":\"screen\",\"value\":5},\"x\":{\"field\":\"x\"},\"y\":{\"field\":\"y\"}},\"id\":\"10238\",\"type\":\"Circle\"},{\"attributes\":{},\"id\":\"10211\",\"type\":\"HelpTool\"},{\"attributes\":{\"end\":54.25,\"start\":-4.25},\"id\":\"10192\",\"type\":\"Range1d\"},{\"attributes\":{\"source\":{\"id\":\"10227\"}},\"id\":\"10231\",\"type\":\"CDSView\"},{\"attributes\":{\"data_source\":{\"id\":\"10237\"},\"glyph\":{\"id\":\"10238\"},\"hover_glyph\":null,\"muted_glyph\":null,\"nonselection_glyph\":{\"id\":\"10239\"},\"selection_glyph\":null,\"view\":{\"id\":\"10241\"}},\"id\":\"10240\",\"type\":\"GlyphRenderer\"},{\"attributes\":{\"active_drag\":\"auto\",\"active_inspect\":\"auto\",\"active_multi\":null,\"active_scroll\":\"auto\",\"active_tap\":\"auto\",\"logo\":null,\"tools\":[{\"id\":\"10206\"},{\"id\":\"10207\"},{\"id\":\"10208\"},{\"id\":\"10209\"},{\"id\":\"10210\"},{\"id\":\"10211\"}]},\"id\":\"10213\",\"type\":\"Toolbar\"}],\"root_ids\":[\"10257\"]},\"title\":\"Bokeh Application\",\"version\":\"2.2.3\"}};\n",
       "  var render_items = [{\"docid\":\"6ede5d6c-f3e4-41d5-b57c-c7076c6d207e\",\"root_ids\":[\"10257\"],\"roots\":{\"10257\":\"aca6ff02-6752-47e4-a9c2-26cfc64b0ade\"}}];\n",
       "  root.Bokeh.embed.embed_items_notebook(docs_json, render_items);\n",
       "\n",
       "  }\n",
       "  if (root.Bokeh !== undefined) {\n",
       "    embed_document(root);\n",
       "  } else {\n",
       "    var attempts = 0;\n",
       "    var timer = setInterval(function(root) {\n",
       "      if (root.Bokeh !== undefined) {\n",
       "        clearInterval(timer);\n",
       "        embed_document(root);\n",
       "      } else {\n",
       "        attempts++;\n",
       "        if (attempts > 100) {\n",
       "          clearInterval(timer);\n",
       "          console.log(\"Bokeh: ERROR: Unable to run BokehJS code because BokehJS library is missing\");\n",
       "        }\n",
       "      }\n",
       "    }, 10, root)\n",
       "  }\n",
       "})(window);"
      ],
      "application/vnd.bokehjs_exec.v0+json": ""
     },
     "metadata": {
      "application/vnd.bokehjs_exec.v0+json": {
       "id": "10257"
      }
     },
     "output_type": "display_data"
    }
   ],
   "source": [
    "# OR-Tools\n",
    "plot_etching_tour(nodes, G, solve_tsp(G))"
   ]
  },
  {
   "cell_type": "markdown",
   "metadata": {},
   "source": [
    "**Q29:** Compare the heuristics performance. How did they compare to OR-Tool's TSP solver?\n",
    "\n",
    "**A:** <font color='blue'>Will vary. Nearest neighbor did 866.0, nearest insertion did 715.5, furthest insertion did 662.1, and OR-Tools did 681.2. Furthest insertion beat OR-Tools!</font> "
   ]
  },
  {
   "cell_type": "markdown",
   "metadata": {},
   "source": [
    "You may have noticed that we did not use 2-OPT to try and improve the tours. In fact, 2-OPT only applies when the distances are symmetric. In **Q27**, you should have found that is not the case for the PCB drilling problem."
   ]
  },
  {
   "cell_type": "markdown",
   "metadata": {},
   "source": [
    "**Bonus:** Why does 2-OPT only apply when the distances are symmetric?\n",
    "\n",
    "**A:** <font color='blue'> When we reconnect the edges, a section of the tour is now traversed in the opposite direction. When the distances are symmetric, this does not have any affect on the objective value. However, with asymmetric distances, this *does* affect the objective value!</font>"
   ]
  }
 ],
 "metadata": {
  "kernelspec": {
   "display_name": "Python 3",
   "language": "python",
   "name": "python3"
  },
  "language_info": {
   "codemirror_mode": {
    "name": "ipython",
    "version": 3
   },
   "file_extension": ".py",
   "mimetype": "text/x-python",
   "name": "python",
   "nbconvert_exporter": "python",
   "pygments_lexer": "ipython3",
   "version": "3.6.10"
  }
 },
 "nbformat": 4,
 "nbformat_minor": 4
}
