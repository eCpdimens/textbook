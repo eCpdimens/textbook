{
 "cells": [
  {
   "cell_type": "markdown",
   "metadata": {},
   "source": [
    "# Traveling Salesman Problem (TSP)"
   ]
  },
  {
   "cell_type": "markdown",
   "metadata": {},
   "source": [
    "**Objectives**\n",
    "\n",
    "- Introduce students to a real world problem solved by OR practitioners\n",
    "- Demonstrate the use of heuristics to obtain good solutions to optimization problems\n",
    "- Give students an appreciation of the difficulty of solving optimization problems exactly\n",
    "\n",
    "**Reading:** Read Handout 2 on the traveling salesman problem.\n",
    "\n",
    "**Brief description:** Finding an optimal solution to a Traveling Salesman Problem, and proving that it is, in fact, an optimal solution, is a difficult task. In practice, when a feasible solution to a difficult problem needs to be provided quickly, one often resorts to using heuristics, i.e., procedures for generating feasible solutions, or improving existing ones, that can be executed quickly and, hopefully, produce a pretty good result. In this lab we will consider several such heuristic procedures for the TSP.\n",
    "\n",
    "<font color='blue'> <b>Solutions are shown blue.</b> </font> <br>\n",
    "<font color='red'> <b>Instuctor comments are shown in red.</b> </font>"
   ]
  },
  {
   "cell_type": "markdown",
   "metadata": {},
   "source": [
    "<font color='red'>A tool we might want to use: [TSP DIY](https://www.math.uwaterloo.ca/tsp/app/diy.html)  </font>"
   ]
  },
  {
   "cell_type": "markdown",
   "metadata": {},
   "source": [
    "<font color='red'> Some explanation of what imports are here.</font>"
   ]
  },
  {
   "cell_type": "code",
   "execution_count": 1,
   "metadata": {},
   "outputs": [
    {
     "data": {
      "text/html": [
       "\n",
       "    <div class=\"bk-root\">\n",
       "        <a href=\"https://bokeh.org\" target=\"_blank\" class=\"bk-logo bk-logo-small bk-logo-notebook\"></a>\n",
       "        <span id=\"1001\">Loading BokehJS ...</span>\n",
       "    </div>"
      ]
     },
     "metadata": {},
     "output_type": "display_data"
    },
    {
     "data": {
      "application/javascript": [
       "\n",
       "(function(root) {\n",
       "  function now() {\n",
       "    return new Date();\n",
       "  }\n",
       "\n",
       "  var force = true;\n",
       "\n",
       "  if (typeof root._bokeh_onload_callbacks === \"undefined\" || force === true) {\n",
       "    root._bokeh_onload_callbacks = [];\n",
       "    root._bokeh_is_loading = undefined;\n",
       "  }\n",
       "\n",
       "  var JS_MIME_TYPE = 'application/javascript';\n",
       "  var HTML_MIME_TYPE = 'text/html';\n",
       "  var EXEC_MIME_TYPE = 'application/vnd.bokehjs_exec.v0+json';\n",
       "  var CLASS_NAME = 'output_bokeh rendered_html';\n",
       "\n",
       "  /**\n",
       "   * Render data to the DOM node\n",
       "   */\n",
       "  function render(props, node) {\n",
       "    var script = document.createElement(\"script\");\n",
       "    node.appendChild(script);\n",
       "  }\n",
       "\n",
       "  /**\n",
       "   * Handle when an output is cleared or removed\n",
       "   */\n",
       "  function handleClearOutput(event, handle) {\n",
       "    var cell = handle.cell;\n",
       "\n",
       "    var id = cell.output_area._bokeh_element_id;\n",
       "    var server_id = cell.output_area._bokeh_server_id;\n",
       "    // Clean up Bokeh references\n",
       "    if (id != null && id in Bokeh.index) {\n",
       "      Bokeh.index[id].model.document.clear();\n",
       "      delete Bokeh.index[id];\n",
       "    }\n",
       "\n",
       "    if (server_id !== undefined) {\n",
       "      // Clean up Bokeh references\n",
       "      var cmd = \"from bokeh.io.state import curstate; print(curstate().uuid_to_server['\" + server_id + \"'].get_sessions()[0].document.roots[0]._id)\";\n",
       "      cell.notebook.kernel.execute(cmd, {\n",
       "        iopub: {\n",
       "          output: function(msg) {\n",
       "            var id = msg.content.text.trim();\n",
       "            if (id in Bokeh.index) {\n",
       "              Bokeh.index[id].model.document.clear();\n",
       "              delete Bokeh.index[id];\n",
       "            }\n",
       "          }\n",
       "        }\n",
       "      });\n",
       "      // Destroy server and session\n",
       "      var cmd = \"import bokeh.io.notebook as ion; ion.destroy_server('\" + server_id + \"')\";\n",
       "      cell.notebook.kernel.execute(cmd);\n",
       "    }\n",
       "  }\n",
       "\n",
       "  /**\n",
       "   * Handle when a new output is added\n",
       "   */\n",
       "  function handleAddOutput(event, handle) {\n",
       "    var output_area = handle.output_area;\n",
       "    var output = handle.output;\n",
       "\n",
       "    // limit handleAddOutput to display_data with EXEC_MIME_TYPE content only\n",
       "    if ((output.output_type != \"display_data\") || (!output.data.hasOwnProperty(EXEC_MIME_TYPE))) {\n",
       "      return\n",
       "    }\n",
       "\n",
       "    var toinsert = output_area.element.find(\".\" + CLASS_NAME.split(' ')[0]);\n",
       "\n",
       "    if (output.metadata[EXEC_MIME_TYPE][\"id\"] !== undefined) {\n",
       "      toinsert[toinsert.length - 1].firstChild.textContent = output.data[JS_MIME_TYPE];\n",
       "      // store reference to embed id on output_area\n",
       "      output_area._bokeh_element_id = output.metadata[EXEC_MIME_TYPE][\"id\"];\n",
       "    }\n",
       "    if (output.metadata[EXEC_MIME_TYPE][\"server_id\"] !== undefined) {\n",
       "      var bk_div = document.createElement(\"div\");\n",
       "      bk_div.innerHTML = output.data[HTML_MIME_TYPE];\n",
       "      var script_attrs = bk_div.children[0].attributes;\n",
       "      for (var i = 0; i < script_attrs.length; i++) {\n",
       "        toinsert[toinsert.length - 1].firstChild.setAttribute(script_attrs[i].name, script_attrs[i].value);\n",
       "        toinsert[toinsert.length - 1].firstChild.textContent = bk_div.children[0].textContent\n",
       "      }\n",
       "      // store reference to server id on output_area\n",
       "      output_area._bokeh_server_id = output.metadata[EXEC_MIME_TYPE][\"server_id\"];\n",
       "    }\n",
       "  }\n",
       "\n",
       "  function register_renderer(events, OutputArea) {\n",
       "\n",
       "    function append_mime(data, metadata, element) {\n",
       "      // create a DOM node to render to\n",
       "      var toinsert = this.create_output_subarea(\n",
       "        metadata,\n",
       "        CLASS_NAME,\n",
       "        EXEC_MIME_TYPE\n",
       "      );\n",
       "      this.keyboard_manager.register_events(toinsert);\n",
       "      // Render to node\n",
       "      var props = {data: data, metadata: metadata[EXEC_MIME_TYPE]};\n",
       "      render(props, toinsert[toinsert.length - 1]);\n",
       "      element.append(toinsert);\n",
       "      return toinsert\n",
       "    }\n",
       "\n",
       "    /* Handle when an output is cleared or removed */\n",
       "    events.on('clear_output.CodeCell', handleClearOutput);\n",
       "    events.on('delete.Cell', handleClearOutput);\n",
       "\n",
       "    /* Handle when a new output is added */\n",
       "    events.on('output_added.OutputArea', handleAddOutput);\n",
       "\n",
       "    /**\n",
       "     * Register the mime type and append_mime function with output_area\n",
       "     */\n",
       "    OutputArea.prototype.register_mime_type(EXEC_MIME_TYPE, append_mime, {\n",
       "      /* Is output safe? */\n",
       "      safe: true,\n",
       "      /* Index of renderer in `output_area.display_order` */\n",
       "      index: 0\n",
       "    });\n",
       "  }\n",
       "\n",
       "  // register the mime type if in Jupyter Notebook environment and previously unregistered\n",
       "  if (root.Jupyter !== undefined) {\n",
       "    var events = require('base/js/events');\n",
       "    var OutputArea = require('notebook/js/outputarea').OutputArea;\n",
       "\n",
       "    if (OutputArea.prototype.mime_types().indexOf(EXEC_MIME_TYPE) == -1) {\n",
       "      register_renderer(events, OutputArea);\n",
       "    }\n",
       "  }\n",
       "\n",
       "  \n",
       "  if (typeof (root._bokeh_timeout) === \"undefined\" || force === true) {\n",
       "    root._bokeh_timeout = Date.now() + 5000;\n",
       "    root._bokeh_failed_load = false;\n",
       "  }\n",
       "\n",
       "  var NB_LOAD_WARNING = {'data': {'text/html':\n",
       "     \"<div style='background-color: #fdd'>\\n\"+\n",
       "     \"<p>\\n\"+\n",
       "     \"BokehJS does not appear to have successfully loaded. If loading BokehJS from CDN, this \\n\"+\n",
       "     \"may be due to a slow or bad network connection. Possible fixes:\\n\"+\n",
       "     \"</p>\\n\"+\n",
       "     \"<ul>\\n\"+\n",
       "     \"<li>re-rerun `output_notebook()` to attempt to load from CDN again, or</li>\\n\"+\n",
       "     \"<li>use INLINE resources instead, as so:</li>\\n\"+\n",
       "     \"</ul>\\n\"+\n",
       "     \"<code>\\n\"+\n",
       "     \"from bokeh.resources import INLINE\\n\"+\n",
       "     \"output_notebook(resources=INLINE)\\n\"+\n",
       "     \"</code>\\n\"+\n",
       "     \"</div>\"}};\n",
       "\n",
       "  function display_loaded() {\n",
       "    var el = document.getElementById(\"1001\");\n",
       "    if (el != null) {\n",
       "      el.textContent = \"BokehJS is loading...\";\n",
       "    }\n",
       "    if (root.Bokeh !== undefined) {\n",
       "      if (el != null) {\n",
       "        el.textContent = \"BokehJS \" + root.Bokeh.version + \" successfully loaded.\";\n",
       "      }\n",
       "    } else if (Date.now() < root._bokeh_timeout) {\n",
       "      setTimeout(display_loaded, 100)\n",
       "    }\n",
       "  }\n",
       "\n",
       "\n",
       "  function run_callbacks() {\n",
       "    try {\n",
       "      root._bokeh_onload_callbacks.forEach(function(callback) {\n",
       "        if (callback != null)\n",
       "          callback();\n",
       "      });\n",
       "    } finally {\n",
       "      delete root._bokeh_onload_callbacks\n",
       "    }\n",
       "    console.debug(\"Bokeh: all callbacks have finished\");\n",
       "  }\n",
       "\n",
       "  function load_libs(css_urls, js_urls, callback) {\n",
       "    if (css_urls == null) css_urls = [];\n",
       "    if (js_urls == null) js_urls = [];\n",
       "\n",
       "    root._bokeh_onload_callbacks.push(callback);\n",
       "    if (root._bokeh_is_loading > 0) {\n",
       "      console.debug(\"Bokeh: BokehJS is being loaded, scheduling callback at\", now());\n",
       "      return null;\n",
       "    }\n",
       "    if (js_urls == null || js_urls.length === 0) {\n",
       "      run_callbacks();\n",
       "      return null;\n",
       "    }\n",
       "    console.debug(\"Bokeh: BokehJS not loaded, scheduling load and callback at\", now());\n",
       "    root._bokeh_is_loading = css_urls.length + js_urls.length;\n",
       "\n",
       "    function on_load() {\n",
       "      root._bokeh_is_loading--;\n",
       "      if (root._bokeh_is_loading === 0) {\n",
       "        console.debug(\"Bokeh: all BokehJS libraries/stylesheets loaded\");\n",
       "        run_callbacks()\n",
       "      }\n",
       "    }\n",
       "\n",
       "    function on_error() {\n",
       "      console.error(\"failed to load \" + url);\n",
       "    }\n",
       "\n",
       "    for (var i = 0; i < css_urls.length; i++) {\n",
       "      var url = css_urls[i];\n",
       "      const element = document.createElement(\"link\");\n",
       "      element.onload = on_load;\n",
       "      element.onerror = on_error;\n",
       "      element.rel = \"stylesheet\";\n",
       "      element.type = \"text/css\";\n",
       "      element.href = url;\n",
       "      console.debug(\"Bokeh: injecting link tag for BokehJS stylesheet: \", url);\n",
       "      document.body.appendChild(element);\n",
       "    }\n",
       "\n",
       "    const hashes = {\"https://cdn.bokeh.org/bokeh/release/bokeh-2.1.0.min.js\": \"YobFyzPeVUsFQydHkJGsJL1kyfHnWxOlPc3EwaV22TmBaeGoXHLWx5aRRVPS9xlE\", \"https://cdn.bokeh.org/bokeh/release/bokeh-widgets-2.1.0.min.js\": \"NuAg9+TcTQQqvQCTtkCneRrpkTiMhhfiq0KHiBzx8ECiKiLWXHN6i6ia3q7b3eHu\", \"https://cdn.bokeh.org/bokeh/release/bokeh-tables-2.1.0.min.js\": \"uMVqQc8JqHitD67bXTn9a06Mrk3EiHRaZ18EJENQenAKJ/KL71SakdXYomZQpGRr\", \"https://cdn.bokeh.org/bokeh/release/bokeh-gl-2.1.0.min.js\": \"u+eGuEXC8aw0VSCm2mH+b/tQEAitUOYiR1H6SuIVEdUmXsf4vN8m/SmXpmjb7U/X\"};\n",
       "\n",
       "    for (var i = 0; i < js_urls.length; i++) {\n",
       "      var url = js_urls[i];\n",
       "      var element = document.createElement('script');\n",
       "      element.onload = on_load;\n",
       "      element.onerror = on_error;\n",
       "      element.async = false;\n",
       "      element.src = url;\n",
       "      if (url in hashes) {\n",
       "        element.crossOrigin = \"anonymous\";\n",
       "        element.integrity = \"sha384-\" + hashes[url];\n",
       "      }\n",
       "      console.debug(\"Bokeh: injecting script tag for BokehJS library: \", url);\n",
       "      document.head.appendChild(element);\n",
       "    }\n",
       "  };\n",
       "\n",
       "  function inject_raw_css(css) {\n",
       "    const element = document.createElement(\"style\");\n",
       "    element.appendChild(document.createTextNode(css));\n",
       "    document.body.appendChild(element);\n",
       "  }\n",
       "\n",
       "  \n",
       "  var js_urls = [\"https://cdn.bokeh.org/bokeh/release/bokeh-2.1.0.min.js\", \"https://cdn.bokeh.org/bokeh/release/bokeh-widgets-2.1.0.min.js\", \"https://cdn.bokeh.org/bokeh/release/bokeh-tables-2.1.0.min.js\", \"https://cdn.bokeh.org/bokeh/release/bokeh-gl-2.1.0.min.js\"];\n",
       "  var css_urls = [];\n",
       "  \n",
       "\n",
       "  var inline_js = [\n",
       "    function(Bokeh) {\n",
       "      Bokeh.set_log_level(\"info\");\n",
       "    },\n",
       "    function(Bokeh) {\n",
       "    \n",
       "    \n",
       "    }\n",
       "  ];\n",
       "\n",
       "  function run_inline_js() {\n",
       "    \n",
       "    if (root.Bokeh !== undefined || force === true) {\n",
       "      \n",
       "    for (var i = 0; i < inline_js.length; i++) {\n",
       "      inline_js[i].call(root, root.Bokeh);\n",
       "    }\n",
       "    if (force === true) {\n",
       "        display_loaded();\n",
       "      }} else if (Date.now() < root._bokeh_timeout) {\n",
       "      setTimeout(run_inline_js, 100);\n",
       "    } else if (!root._bokeh_failed_load) {\n",
       "      console.log(\"Bokeh: BokehJS failed to load within specified timeout.\");\n",
       "      root._bokeh_failed_load = true;\n",
       "    } else if (force !== true) {\n",
       "      var cell = $(document.getElementById(\"1001\")).parents('.cell').data().cell;\n",
       "      cell.output_area.append_execute_result(NB_LOAD_WARNING)\n",
       "    }\n",
       "\n",
       "  }\n",
       "\n",
       "  if (root._bokeh_is_loading === 0) {\n",
       "    console.debug(\"Bokeh: BokehJS loaded, going straight to plotting\");\n",
       "    run_inline_js();\n",
       "  } else {\n",
       "    load_libs(css_urls, js_urls, function() {\n",
       "      console.debug(\"Bokeh: BokehJS plotting callback run at\", now());\n",
       "      run_inline_js();\n",
       "    });\n",
       "  }\n",
       "}(window));"
      ],
      "application/vnd.bokehjs_load.v0+json": "\n(function(root) {\n  function now() {\n    return new Date();\n  }\n\n  var force = true;\n\n  if (typeof root._bokeh_onload_callbacks === \"undefined\" || force === true) {\n    root._bokeh_onload_callbacks = [];\n    root._bokeh_is_loading = undefined;\n  }\n\n  \n\n  \n  if (typeof (root._bokeh_timeout) === \"undefined\" || force === true) {\n    root._bokeh_timeout = Date.now() + 5000;\n    root._bokeh_failed_load = false;\n  }\n\n  var NB_LOAD_WARNING = {'data': {'text/html':\n     \"<div style='background-color: #fdd'>\\n\"+\n     \"<p>\\n\"+\n     \"BokehJS does not appear to have successfully loaded. If loading BokehJS from CDN, this \\n\"+\n     \"may be due to a slow or bad network connection. Possible fixes:\\n\"+\n     \"</p>\\n\"+\n     \"<ul>\\n\"+\n     \"<li>re-rerun `output_notebook()` to attempt to load from CDN again, or</li>\\n\"+\n     \"<li>use INLINE resources instead, as so:</li>\\n\"+\n     \"</ul>\\n\"+\n     \"<code>\\n\"+\n     \"from bokeh.resources import INLINE\\n\"+\n     \"output_notebook(resources=INLINE)\\n\"+\n     \"</code>\\n\"+\n     \"</div>\"}};\n\n  function display_loaded() {\n    var el = document.getElementById(\"1001\");\n    if (el != null) {\n      el.textContent = \"BokehJS is loading...\";\n    }\n    if (root.Bokeh !== undefined) {\n      if (el != null) {\n        el.textContent = \"BokehJS \" + root.Bokeh.version + \" successfully loaded.\";\n      }\n    } else if (Date.now() < root._bokeh_timeout) {\n      setTimeout(display_loaded, 100)\n    }\n  }\n\n\n  function run_callbacks() {\n    try {\n      root._bokeh_onload_callbacks.forEach(function(callback) {\n        if (callback != null)\n          callback();\n      });\n    } finally {\n      delete root._bokeh_onload_callbacks\n    }\n    console.debug(\"Bokeh: all callbacks have finished\");\n  }\n\n  function load_libs(css_urls, js_urls, callback) {\n    if (css_urls == null) css_urls = [];\n    if (js_urls == null) js_urls = [];\n\n    root._bokeh_onload_callbacks.push(callback);\n    if (root._bokeh_is_loading > 0) {\n      console.debug(\"Bokeh: BokehJS is being loaded, scheduling callback at\", now());\n      return null;\n    }\n    if (js_urls == null || js_urls.length === 0) {\n      run_callbacks();\n      return null;\n    }\n    console.debug(\"Bokeh: BokehJS not loaded, scheduling load and callback at\", now());\n    root._bokeh_is_loading = css_urls.length + js_urls.length;\n\n    function on_load() {\n      root._bokeh_is_loading--;\n      if (root._bokeh_is_loading === 0) {\n        console.debug(\"Bokeh: all BokehJS libraries/stylesheets loaded\");\n        run_callbacks()\n      }\n    }\n\n    function on_error() {\n      console.error(\"failed to load \" + url);\n    }\n\n    for (var i = 0; i < css_urls.length; i++) {\n      var url = css_urls[i];\n      const element = document.createElement(\"link\");\n      element.onload = on_load;\n      element.onerror = on_error;\n      element.rel = \"stylesheet\";\n      element.type = \"text/css\";\n      element.href = url;\n      console.debug(\"Bokeh: injecting link tag for BokehJS stylesheet: \", url);\n      document.body.appendChild(element);\n    }\n\n    const hashes = {\"https://cdn.bokeh.org/bokeh/release/bokeh-2.1.0.min.js\": \"YobFyzPeVUsFQydHkJGsJL1kyfHnWxOlPc3EwaV22TmBaeGoXHLWx5aRRVPS9xlE\", \"https://cdn.bokeh.org/bokeh/release/bokeh-widgets-2.1.0.min.js\": \"NuAg9+TcTQQqvQCTtkCneRrpkTiMhhfiq0KHiBzx8ECiKiLWXHN6i6ia3q7b3eHu\", \"https://cdn.bokeh.org/bokeh/release/bokeh-tables-2.1.0.min.js\": \"uMVqQc8JqHitD67bXTn9a06Mrk3EiHRaZ18EJENQenAKJ/KL71SakdXYomZQpGRr\", \"https://cdn.bokeh.org/bokeh/release/bokeh-gl-2.1.0.min.js\": \"u+eGuEXC8aw0VSCm2mH+b/tQEAitUOYiR1H6SuIVEdUmXsf4vN8m/SmXpmjb7U/X\"};\n\n    for (var i = 0; i < js_urls.length; i++) {\n      var url = js_urls[i];\n      var element = document.createElement('script');\n      element.onload = on_load;\n      element.onerror = on_error;\n      element.async = false;\n      element.src = url;\n      if (url in hashes) {\n        element.crossOrigin = \"anonymous\";\n        element.integrity = \"sha384-\" + hashes[url];\n      }\n      console.debug(\"Bokeh: injecting script tag for BokehJS library: \", url);\n      document.head.appendChild(element);\n    }\n  };\n\n  function inject_raw_css(css) {\n    const element = document.createElement(\"style\");\n    element.appendChild(document.createTextNode(css));\n    document.body.appendChild(element);\n  }\n\n  \n  var js_urls = [\"https://cdn.bokeh.org/bokeh/release/bokeh-2.1.0.min.js\", \"https://cdn.bokeh.org/bokeh/release/bokeh-widgets-2.1.0.min.js\", \"https://cdn.bokeh.org/bokeh/release/bokeh-tables-2.1.0.min.js\", \"https://cdn.bokeh.org/bokeh/release/bokeh-gl-2.1.0.min.js\"];\n  var css_urls = [];\n  \n\n  var inline_js = [\n    function(Bokeh) {\n      Bokeh.set_log_level(\"info\");\n    },\n    function(Bokeh) {\n    \n    \n    }\n  ];\n\n  function run_inline_js() {\n    \n    if (root.Bokeh !== undefined || force === true) {\n      \n    for (var i = 0; i < inline_js.length; i++) {\n      inline_js[i].call(root, root.Bokeh);\n    }\n    if (force === true) {\n        display_loaded();\n      }} else if (Date.now() < root._bokeh_timeout) {\n      setTimeout(run_inline_js, 100);\n    } else if (!root._bokeh_failed_load) {\n      console.log(\"Bokeh: BokehJS failed to load within specified timeout.\");\n      root._bokeh_failed_load = true;\n    } else if (force !== true) {\n      var cell = $(document.getElementById(\"1001\")).parents('.cell').data().cell;\n      cell.output_area.append_execute_result(NB_LOAD_WARNING)\n    }\n\n  }\n\n  if (root._bokeh_is_loading === 0) {\n    console.debug(\"Bokeh: BokehJS loaded, going straight to plotting\");\n    run_inline_js();\n  } else {\n    load_libs(css_urls, js_urls, function() {\n      console.debug(\"Bokeh: BokehJS plotting callback run at\", now());\n      run_inline_js();\n    });\n  }\n}(window));"
     },
     "metadata": {},
     "output_type": "display_data"
    }
   ],
   "source": [
    "# imports -- don't forget to run this cell\n",
    "from tsp import *\n",
    "from bokeh.io import output_notebook\n",
    "output_notebook()"
   ]
  },
  {
   "cell_type": "code",
   "execution_count": 7,
   "metadata": {},
   "outputs": [
    {
     "data": {
      "text/html": [
       "\n",
       "\n",
       "\n",
       "\n",
       "\n",
       "\n",
       "  <div class=\"bk-root\" id=\"1ac8cac3-ebe6-49f4-8f24-c1bdbf0c1405\" data-root-id=\"2420\"></div>\n"
      ]
     },
     "metadata": {},
     "output_type": "display_data"
    },
    {
     "data": {
      "application/javascript": [
       "(function(root) {\n",
       "  function embed_document(root) {\n",
       "    \n",
       "  var docs_json = {\"9e4d4bd9-00c5-49d7-99a2-abeff6c8482a\":{\"roots\":{\"references\":[{\"attributes\":{\"children\":[[{\"id\":\"2364\"},0,0],[{\"id\":\"2398\"},1,0]]},\"id\":\"2420\",\"type\":\"GridBox\"},{\"attributes\":{\"data_source\":{\"id\":\"2404\"},\"glyph\":{\"id\":\"2405\"},\"hover_glyph\":null,\"muted_glyph\":null,\"nonselection_glyph\":{\"id\":\"2406\"},\"selection_glyph\":null,\"view\":{\"id\":\"2408\"}},\"id\":\"2407\",\"type\":\"GlyphRenderer\"},{\"attributes\":{\"background_fill_color\":null,\"below\":[{\"id\":\"2375\"}],\"border_fill_color\":null,\"center\":[{\"id\":\"2378\"},{\"id\":\"2382\"}],\"left\":[{\"id\":\"2379\"}],\"outline_line_color\":null,\"plot_height\":400,\"plot_width\":400,\"renderers\":[{\"id\":\"2402\"},{\"id\":\"2407\"}],\"title\":{\"id\":\"2365\"},\"toolbar\":{\"id\":\"2390\"},\"toolbar_location\":null,\"x_range\":{\"id\":\"2367\"},\"x_scale\":{\"id\":\"2371\"},\"y_range\":{\"id\":\"2369\"},\"y_scale\":{\"id\":\"2373\"}},\"id\":\"2364\",\"subtype\":\"Figure\",\"type\":\"Plot\"},{\"attributes\":{\"fill_color\":{\"value\":\"steelblue\"},\"line_color\":{\"value\":\"steelblue\"},\"size\":{\"units\":\"screen\",\"value\":8},\"x\":{\"field\":\"x\"},\"y\":{\"field\":\"y\"}},\"id\":\"2405\",\"type\":\"Circle\"},{\"attributes\":{\"formatter\":{\"id\":\"2410\"},\"ticker\":{\"id\":\"2380\"},\"visible\":false},\"id\":\"2379\",\"type\":\"LinearAxis\"},{\"attributes\":{\"source\":{\"id\":\"2404\"}},\"id\":\"2408\",\"type\":\"CDSView\"},{\"attributes\":{\"end\":15.0,\"start\":-1.0},\"id\":\"2367\",\"type\":\"Range1d\"},{\"attributes\":{},\"id\":\"2380\",\"type\":\"BasicTicker\"},{\"attributes\":{\"data\":{\"x\":[0.0,0.0,0.0,0.0,0.0,0.0,0.0,0.0,0.0,0.0,0.0,0.0,0.0,0.0,0.0,1.0,1.0,1.0,1.0,1.0,1.0,1.0,1.0,1.0,1.0,1.0,1.0,1.0,1.0,1.0,2.0,2.0,2.0,2.0,2.0,2.0,2.0,2.0,2.0,2.0,2.0,2.0,2.0,2.0,2.0,3.0,3.0,3.0,3.0,3.0,3.0,3.0,3.0,3.0,3.0,3.0,3.0,3.0,3.0,3.0,4.0,4.0,4.0,4.0,4.0,4.0,4.0,4.0,4.0,4.0,4.0,4.0,4.0,4.0,4.0,5.0,5.0,5.0,5.0,5.0,5.0,5.0,5.0,5.0,5.0,5.0,5.0,5.0,5.0,5.0,6.0,6.0,6.0,6.0,6.0,6.0,6.0,6.0,6.0,6.0,6.0,6.0,6.0,6.0,6.0,7.0,7.0,7.0,7.0,7.0,7.0,7.0,7.0,7.0,7.0,7.0,7.0,7.0,7.0,7.0,8.0,8.0,8.0,8.0,8.0,8.0,8.0,8.0,8.0,8.0,8.0,8.0,8.0,8.0,8.0,9.0,9.0,9.0,9.0,9.0,9.0,9.0,9.0,9.0,9.0,9.0,9.0,9.0,9.0,9.0,10.0,10.0,10.0,10.0,10.0,10.0,10.0,10.0,10.0,10.0,10.0,10.0,10.0,10.0,10.0,11.0,11.0,11.0,11.0,11.0,11.0,11.0,11.0,11.0,11.0,11.0,11.0,11.0,11.0,11.0,12.0,12.0,12.0,12.0,12.0,12.0,12.0,12.0,12.0,12.0,12.0,12.0,12.0,12.0,12.0,13.0,13.0,13.0,13.0,13.0,13.0,13.0,13.0,13.0,13.0,13.0,13.0,13.0,13.0,13.0,14.0,14.0,14.0,14.0,14.0,14.0,14.0,14.0,14.0,14.0,14.0,14.0,14.0,14.0,14.0],\"y\":[0.0,1.0,2.0,3.0,4.0,5.0,6.0,7.0,8.0,9.0,10.0,11.0,12.0,13.0,14.0,0.0,1.0,2.0,3.0,4.0,5.0,6.0,7.0,8.0,9.0,10.0,11.0,12.0,13.0,14.0,0.0,1.0,2.0,3.0,4.0,5.0,6.0,7.0,8.0,9.0,10.0,11.0,12.0,13.0,14.0,0.0,1.0,2.0,3.0,4.0,5.0,6.0,7.0,8.0,9.0,10.0,11.0,12.0,13.0,14.0,0.0,1.0,2.0,3.0,4.0,5.0,6.0,7.0,8.0,9.0,10.0,11.0,12.0,13.0,14.0,0.0,1.0,2.0,3.0,4.0,5.0,6.0,7.0,8.0,9.0,10.0,11.0,12.0,13.0,14.0,0.0,1.0,2.0,3.0,4.0,5.0,6.0,7.0,8.0,9.0,10.0,11.0,12.0,13.0,14.0,0.0,1.0,2.0,3.0,4.0,5.0,6.0,7.0,8.0,9.0,10.0,11.0,12.0,13.0,14.0,0.0,1.0,2.0,3.0,4.0,5.0,6.0,7.0,8.0,9.0,10.0,11.0,12.0,13.0,14.0,0.0,1.0,2.0,3.0,4.0,5.0,6.0,7.0,8.0,9.0,10.0,11.0,12.0,13.0,14.0,0.0,1.0,2.0,3.0,4.0,5.0,6.0,7.0,8.0,9.0,10.0,11.0,12.0,13.0,14.0,0.0,1.0,2.0,3.0,4.0,5.0,6.0,7.0,8.0,9.0,10.0,11.0,12.0,13.0,14.0,0.0,1.0,2.0,3.0,4.0,5.0,6.0,7.0,8.0,9.0,10.0,11.0,12.0,13.0,14.0,0.0,1.0,2.0,3.0,4.0,5.0,6.0,7.0,8.0,9.0,10.0,11.0,12.0,13.0,14.0,0.0,1.0,2.0,3.0,4.0,5.0,6.0,7.0,8.0,9.0,10.0,11.0,12.0,13.0,14.0]},\"selected\":{\"id\":\"2418\"},\"selection_policy\":{\"id\":\"2417\"}},\"id\":\"2404\",\"type\":\"ColumnDataSource\"},{\"attributes\":{},\"id\":\"2373\",\"type\":\"LinearScale\"},{\"attributes\":{\"source\":{\"id\":\"2399\"}},\"id\":\"2403\",\"type\":\"CDSView\"},{\"attributes\":{\"line_width\":4,\"x\":{\"field\":\"x\"},\"y\":{\"field\":\"y\"}},\"id\":\"2400\",\"type\":\"Line\"},{\"attributes\":{\"formatter\":{\"id\":\"2412\"},\"ticker\":{\"id\":\"2376\"},\"visible\":false},\"id\":\"2375\",\"type\":\"LinearAxis\"},{\"attributes\":{},\"id\":\"2386\",\"type\":\"SaveTool\"},{\"attributes\":{\"data_source\":{\"id\":\"2399\"},\"glyph\":{\"id\":\"2400\"},\"hover_glyph\":null,\"muted_glyph\":null,\"nonselection_glyph\":{\"id\":\"2401\"},\"selection_glyph\":null,\"view\":{\"id\":\"2403\"}},\"id\":\"2402\",\"type\":\"GlyphRenderer\"},{\"attributes\":{},\"id\":\"2376\",\"type\":\"BasicTicker\"},{\"attributes\":{\"align\":\"center\",\"text\":\"278.896\",\"width\":400},\"id\":\"2398\",\"type\":\"Div\"},{\"attributes\":{\"line_alpha\":0.1,\"line_width\":4,\"x\":{\"field\":\"x\"},\"y\":{\"field\":\"y\"}},\"id\":\"2401\",\"type\":\"Line\"},{\"attributes\":{},\"id\":\"2371\",\"type\":\"LinearScale\"},{\"attributes\":{\"bottom_units\":\"screen\",\"fill_alpha\":0.5,\"fill_color\":\"lightgrey\",\"left_units\":\"screen\",\"level\":\"overlay\",\"line_alpha\":1.0,\"line_color\":\"black\",\"line_dash\":[4,4],\"line_width\":2,\"right_units\":\"screen\",\"top_units\":\"screen\"},\"id\":\"2389\",\"type\":\"BoxAnnotation\"},{\"attributes\":{\"axis\":{\"id\":\"2375\"},\"grid_line_color\":null,\"ticker\":null},\"id\":\"2378\",\"type\":\"Grid\"},{\"attributes\":{},\"id\":\"2383\",\"type\":\"PanTool\"},{\"attributes\":{\"data\":{\"x\":[0.0,0.0,0.0,0.0,0.0,0.0,0.0,0.0,1.0,2.0,2.0,3.0,3.0,3.0,2.0,2.0,3.0,3.0,3.0,3.0,4.0,5.0,5.0,6.0,7.0,7.0,6.0,8.0,9.0,9.0,8.0,8.0,7.0,7.0,8.0,8.0,7.0,7.0,8.0,9.0,9.0,9.0,10.0,10.0,11.0,12.0,13.0,14.0,14.0,13.0,12.0,11.0,10.0,10.0,9.0,9.0,10.0,11.0,12.0,13.0,13.0,12.0,12.0,13.0,14.0,14.0,14.0,14.0,13.0,12.0,11.0,11.0,10.0,9.0,8.0,7.0,7.0,7.0,7.0,7.0,6.0,6.0,6.0,7.0,8.0,8.0,8.0,8.0,8.0,8.0,9.0,10.0,11.0,11.0,10.0,10.0,10.0,9.0,9.0,9.0,11.0,12.0,12.0,13.0,14.0,14.0,14.0,13.0,13.0,12.0,12.0,12.0,13.0,13.0,14.0,14.0,11.0,11.0,11.0,10.0,10.0,9.0,9.0,7.0,5.0,5.0,4.0,3.0,3.0,2.0,2.0,2.0,2.0,1.0,1.0,1.0,0.0,0.0,0.0,1.0,1.0,2.0,2.0,3.0,3.0,4.0,5.0,5.0,5.0,5.0,5.0,5.0,6.0,6.0,6.0,5.0,4.0,4.0,5.0,6.0,5.0,4.0,4.0,4.0,4.0,3.0,3.0,4.0,4.0,6.0,6.0,6.0,7.0,8.0,8.0,7.0,6.0,6.0,6.0,5.0,4.0,4.0,3.0,3.0,4.0,5.0,0.0,0.0,0.0,1.0,1.0,2.0,0.0,1.0,1.0,1.0,1.0,1.0,1.0,2.0,2.0,1.0,2.0,4.0,2.0,9.0,10.0,10.0,11.0,12.0,12.0,12.0,11.0,11.0,13.0,13.0,14.0,14.0,13.0,12.0,11.0,10.0,13.0,14.0,14.0,0.0],\"y\":[0.0,1.0,2.0,3.0,4.0,5.0,6.0,7.0,7.0,7.0,6.0,6.0,5.0,4.0,4.0,3.0,3.0,2.0,1.0,0.0,0.0,0.0,1.0,1.0,1.0,0.0,0.0,0.0,0.0,1.0,1.0,2.0,2.0,3.0,3.0,4.0,4.0,5.0,5.0,5.0,4.0,3.0,3.0,4.0,4.0,4.0,4.0,4.0,5.0,5.0,5.0,5.0,5.0,6.0,6.0,7.0,7.0,7.0,7.0,7.0,8.0,8.0,9.0,9.0,9.0,8.0,7.0,6.0,6.0,6.0,6.0,8.0,8.0,8.0,8.0,8.0,9.0,10.0,11.0,12.0,12.0,13.0,14.0,14.0,14.0,13.0,12.0,11.0,10.0,9.0,9.0,9.0,9.0,10.0,10.0,11.0,12.0,12.0,11.0,10.0,11.0,11.0,10.0,10.0,10.0,11.0,12.0,12.0,11.0,12.0,13.0,14.0,14.0,13.0,13.0,14.0,14.0,13.0,12.0,13.0,14.0,14.0,13.0,13.0,13.0,12.0,12.0,12.0,11.0,11.0,12.0,13.0,14.0,14.0,13.0,12.0,12.0,11.0,10.0,10.0,11.0,10.0,9.0,9.0,10.0,10.0,10.0,9.0,8.0,7.0,6.0,5.0,5.0,4.0,3.0,3.0,3.0,2.0,2.0,2.0,4.0,4.0,5.0,6.0,7.0,7.0,8.0,8.0,9.0,9.0,8.0,7.0,7.0,7.0,6.0,6.0,6.0,10.0,11.0,11.0,11.0,13.0,13.0,14.0,14.0,14.0,14.0,13.0,9.0,9.0,8.0,8.0,8.0,6.0,5.0,4.0,3.0,2.0,1.0,1.0,0.0,0.0,2.0,1.0,5.0,2.0,2.0,1.0,1.0,1.0,2.0,3.0,3.0,2.0,2.0,1.0,1.0,0.0,0.0,0.0,0.0,0.0,3.0,3.0,2.0,0.0]},\"selected\":{\"id\":\"2416\"},\"selection_policy\":{\"id\":\"2415\"}},\"id\":\"2399\",\"type\":\"ColumnDataSource\"},{\"attributes\":{\"text\":\"\"},\"id\":\"2365\",\"type\":\"Title\"},{\"attributes\":{},\"id\":\"2384\",\"type\":\"WheelZoomTool\"},{\"attributes\":{\"axis\":{\"id\":\"2379\"},\"dimension\":1,\"grid_line_color\":null,\"ticker\":null},\"id\":\"2382\",\"type\":\"Grid\"},{\"attributes\":{},\"id\":\"2418\",\"type\":\"Selection\"},{\"attributes\":{\"active_drag\":\"auto\",\"active_inspect\":\"auto\",\"active_multi\":null,\"active_scroll\":\"auto\",\"active_tap\":\"auto\",\"logo\":null,\"tools\":[{\"id\":\"2383\"},{\"id\":\"2384\"},{\"id\":\"2385\"},{\"id\":\"2386\"},{\"id\":\"2387\"},{\"id\":\"2388\"}]},\"id\":\"2390\",\"type\":\"Toolbar\"},{\"attributes\":{},\"id\":\"2417\",\"type\":\"UnionRenderers\"},{\"attributes\":{},\"id\":\"2416\",\"type\":\"Selection\"},{\"attributes\":{},\"id\":\"2388\",\"type\":\"HelpTool\"},{\"attributes\":{\"end\":15.0,\"start\":-1.0},\"id\":\"2369\",\"type\":\"Range1d\"},{\"attributes\":{},\"id\":\"2415\",\"type\":\"UnionRenderers\"},{\"attributes\":{},\"id\":\"2387\",\"type\":\"ResetTool\"},{\"attributes\":{},\"id\":\"2412\",\"type\":\"BasicTickFormatter\"},{\"attributes\":{\"overlay\":{\"id\":\"2389\"}},\"id\":\"2385\",\"type\":\"BoxZoomTool\"},{\"attributes\":{},\"id\":\"2410\",\"type\":\"BasicTickFormatter\"},{\"attributes\":{\"fill_alpha\":{\"value\":0.1},\"fill_color\":{\"value\":\"steelblue\"},\"line_alpha\":{\"value\":0.1},\"line_color\":{\"value\":\"steelblue\"},\"size\":{\"units\":\"screen\",\"value\":8},\"x\":{\"field\":\"x\"},\"y\":{\"field\":\"y\"}},\"id\":\"2406\",\"type\":\"Circle\"}],\"root_ids\":[\"2420\"]},\"title\":\"Bokeh Application\",\"version\":\"2.1.0\"}};\n",
       "  var render_items = [{\"docid\":\"9e4d4bd9-00c5-49d7-99a2-abeff6c8482a\",\"root_ids\":[\"2420\"],\"roots\":{\"2420\":\"1ac8cac3-ebe6-49f4-8f24-c1bdbf0c1405\"}}];\n",
       "  root.Bokeh.embed.embed_items_notebook(docs_json, render_items);\n",
       "\n",
       "  }\n",
       "  if (root.Bokeh !== undefined) {\n",
       "    embed_document(root);\n",
       "  } else {\n",
       "    var attempts = 0;\n",
       "    var timer = setInterval(function(root) {\n",
       "      if (root.Bokeh !== undefined) {\n",
       "        clearInterval(timer);\n",
       "        embed_document(root);\n",
       "      } else {\n",
       "        attempts++;\n",
       "        if (attempts > 100) {\n",
       "          clearInterval(timer);\n",
       "          console.log(\"Bokeh: ERROR: Unable to run BokehJS code because BokehJS library is missing\");\n",
       "        }\n",
       "      }\n",
       "    }, 10, root)\n",
       "  }\n",
       "})(window);"
      ],
      "application/vnd.bokehjs_exec.v0+json": ""
     },
     "metadata": {
      "application/vnd.bokehjs_exec.v0+json": {
       "id": "2420"
      }
     },
     "output_type": "display_data"
    },
    {
     "data": {
      "text/html": [
       "\n",
       "\n",
       "\n",
       "\n",
       "\n",
       "\n",
       "  <div class=\"bk-root\" id=\"df1c099f-3ad4-489d-812f-291b0d32d637\" data-root-id=\"2631\"></div>\n"
      ]
     },
     "metadata": {},
     "output_type": "display_data"
    },
    {
     "data": {
      "application/javascript": [
       "(function(root) {\n",
       "  function embed_document(root) {\n",
       "    \n",
       "  var docs_json = {\"d9672481-51e7-4bc4-a489-7369f0ed3da1\":{\"roots\":{\"references\":[{\"attributes\":{\"children\":[[{\"id\":\"2575\"},0,0],[{\"id\":\"2609\"},1,0]]},\"id\":\"2631\",\"type\":\"GridBox\"},{\"attributes\":{},\"id\":\"2627\",\"type\":\"Selection\"},{\"attributes\":{},\"id\":\"2626\",\"type\":\"UnionRenderers\"},{\"attributes\":{},\"id\":\"2623\",\"type\":\"BasicTickFormatter\"},{\"attributes\":{},\"id\":\"2584\",\"type\":\"LinearScale\"},{\"attributes\":{},\"id\":\"2598\",\"type\":\"ResetTool\"},{\"attributes\":{\"data_source\":{\"id\":\"2615\"},\"glyph\":{\"id\":\"2616\"},\"hover_glyph\":null,\"muted_glyph\":null,\"nonselection_glyph\":{\"id\":\"2617\"},\"selection_glyph\":null,\"view\":{\"id\":\"2619\"}},\"id\":\"2618\",\"type\":\"GlyphRenderer\"},{\"attributes\":{\"text\":\"\"},\"id\":\"2576\",\"type\":\"Title\"},{\"attributes\":{\"end\":15.0,\"start\":-1.0},\"id\":\"2580\",\"type\":\"Range1d\"},{\"attributes\":{},\"id\":\"2629\",\"type\":\"Selection\"},{\"attributes\":{\"active_drag\":\"auto\",\"active_inspect\":\"auto\",\"active_multi\":null,\"active_scroll\":\"auto\",\"active_tap\":\"auto\",\"logo\":null,\"tools\":[{\"id\":\"2594\"},{\"id\":\"2595\"},{\"id\":\"2596\"},{\"id\":\"2597\"},{\"id\":\"2598\"},{\"id\":\"2599\"}]},\"id\":\"2601\",\"type\":\"Toolbar\"},{\"attributes\":{\"axis\":{\"id\":\"2586\"},\"grid_line_color\":null,\"ticker\":null},\"id\":\"2589\",\"type\":\"Grid\"},{\"attributes\":{},\"id\":\"2599\",\"type\":\"HelpTool\"},{\"attributes\":{\"bottom_units\":\"screen\",\"fill_alpha\":0.5,\"fill_color\":\"lightgrey\",\"left_units\":\"screen\",\"level\":\"overlay\",\"line_alpha\":1.0,\"line_color\":\"black\",\"line_dash\":[4,4],\"line_width\":2,\"right_units\":\"screen\",\"top_units\":\"screen\"},\"id\":\"2600\",\"type\":\"BoxAnnotation\"},{\"attributes\":{},\"id\":\"2628\",\"type\":\"UnionRenderers\"},{\"attributes\":{\"line_alpha\":0.1,\"line_width\":4,\"x\":{\"field\":\"x\"},\"y\":{\"field\":\"y\"}},\"id\":\"2612\",\"type\":\"Line\"},{\"attributes\":{\"align\":\"center\",\"text\":\"236.184\",\"width\":400},\"id\":\"2609\",\"type\":\"Div\"},{\"attributes\":{\"line_width\":4,\"x\":{\"field\":\"x\"},\"y\":{\"field\":\"y\"}},\"id\":\"2611\",\"type\":\"Line\"},{\"attributes\":{\"data_source\":{\"id\":\"2610\"},\"glyph\":{\"id\":\"2611\"},\"hover_glyph\":null,\"muted_glyph\":null,\"nonselection_glyph\":{\"id\":\"2612\"},\"selection_glyph\":null,\"view\":{\"id\":\"2614\"}},\"id\":\"2613\",\"type\":\"GlyphRenderer\"},{\"attributes\":{\"formatter\":{\"id\":\"2621\"},\"ticker\":{\"id\":\"2591\"},\"visible\":false},\"id\":\"2590\",\"type\":\"LinearAxis\"},{\"attributes\":{},\"id\":\"2597\",\"type\":\"SaveTool\"},{\"attributes\":{\"source\":{\"id\":\"2610\"}},\"id\":\"2614\",\"type\":\"CDSView\"},{\"attributes\":{\"data\":{\"x\":[0.0,1.0,1.0,2.0,2.0,3.0,3.0,3.0,4.0,4.0,5.0,5.0,4.0,4.0,5.0,6.0,6.0,7.0,8.0,8.0,7.0,7.0,8.0,9.0,9.0,9.0,8.0,7.0,6.0,6.0,5.0,5.0,6.0,7.0,8.0,8.0,7.0,6.0,5.0,4.0,4.0,4.0,5.0,5.0,4.0,4.0,5.0,6.0,6.0,6.0,7.0,8.0,7.0,7.0,8.0,9.0,10.0,9.0,10.0,9.0,8.0,9.0,10.0,11.0,10.0,11.0,12.0,11.0,12.0,12.0,13.0,12.0,11.0,11.0,10.0,10.0,10.0,11.0,11.0,10.0,9.0,9.0,10.0,11.0,12.0,12.0,13.0,13.0,14.0,14.0,14.0,13.0,12.0,12.0,13.0,14.0,14.0,14.0,14.0,13.0,13.0,13.0,14.0,14.0,13.0,14.0,14.0,13.0,12.0,12.0,11.0,11.0,10.0,9.0,9.0,8.0,9.0,10.0,10.0,11.0,11.0,12.0,12.0,13.0,14.0,13.0,13.0,13.0,14.0,14.0,14.0,13.0,12.0,12.0,12.0,11.0,11.0,11.0,10.0,9.0,9.0,10.0,10.0,9.0,8.0,8.0,8.0,7.0,7.0,6.0,6.0,6.0,7.0,7.0,7.0,8.0,8.0,7.0,6.0,6.0,6.0,5.0,5.0,5.0,4.0,4.0,3.0,2.0,3.0,4.0,4.0,5.0,5.0,4.0,5.0,4.0,3.0,2.0,3.0,3.0,2.0,2.0,1.0,1.0,0.0,0.0,0.0,1.0,1.0,0.0,0.0,0.0,0.0,1.0,1.0,1.0,2.0,2.0,3.0,2.0,3.0,3.0,3.0,2.0,2.0,1.0,1.0,0.0,0.0,0.0,1.0,0.0,0.0,1.0,1.0,2.0,2.0,3.0,3.0,3.0,2.0,2.0,1.0,0.0,0.0,0.0],\"y\":[0.0,0.0,1.0,1.0,0.0,0.0,1.0,2.0,2.0,3.0,2.0,1.0,1.0,0.0,0.0,0.0,1.0,0.0,0.0,1.0,1.0,2.0,2.0,2.0,3.0,4.0,3.0,3.0,2.0,3.0,3.0,4.0,4.0,4.0,4.0,5.0,5.0,5.0,5.0,4.0,5.0,6.0,6.0,7.0,7.0,8.0,8.0,8.0,7.0,6.0,6.0,7.0,7.0,8.0,8.0,8.0,8.0,7.0,7.0,6.0,6.0,5.0,5.0,5.0,6.0,7.0,7.0,6.0,6.0,5.0,4.0,4.0,4.0,3.0,4.0,3.0,2.0,2.0,1.0,1.0,1.0,0.0,0.0,0.0,0.0,1.0,1.0,0.0,0.0,1.0,2.0,2.0,2.0,3.0,3.0,3.0,4.0,5.0,6.0,5.0,6.0,7.0,7.0,8.0,8.0,9.0,10.0,9.0,9.0,8.0,8.0,9.0,9.0,9.0,10.0,11.0,11.0,11.0,10.0,10.0,11.0,11.0,10.0,10.0,11.0,11.0,12.0,13.0,12.0,13.0,14.0,14.0,14.0,13.0,12.0,12.0,13.0,14.0,14.0,14.0,13.0,13.0,12.0,12.0,12.0,13.0,14.0,13.0,14.0,14.0,13.0,12.0,12.0,11.0,10.0,10.0,9.0,9.0,9.0,10.0,11.0,11.0,10.0,9.0,9.0,10.0,10.0,11.0,11.0,11.0,12.0,12.0,13.0,13.0,14.0,14.0,14.0,14.0,13.0,12.0,12.0,13.0,13.0,14.0,14.0,13.0,12.0,12.0,11.0,11.0,10.0,9.0,8.0,8.0,9.0,10.0,10.0,9.0,9.0,8.0,8.0,7.0,6.0,7.0,6.0,6.0,7.0,7.0,6.0,5.0,5.0,4.0,3.0,3.0,4.0,4.0,5.0,5.0,4.0,3.0,3.0,2.0,2.0,2.0,1.0,0.0]},\"selected\":{\"id\":\"2627\"},\"selection_policy\":{\"id\":\"2626\"}},\"id\":\"2610\",\"type\":\"ColumnDataSource\"},{\"attributes\":{\"data\":{\"x\":[0.0,0.0,0.0,0.0,0.0,0.0,0.0,0.0,0.0,0.0,0.0,0.0,0.0,0.0,0.0,1.0,1.0,1.0,1.0,1.0,1.0,1.0,1.0,1.0,1.0,1.0,1.0,1.0,1.0,1.0,2.0,2.0,2.0,2.0,2.0,2.0,2.0,2.0,2.0,2.0,2.0,2.0,2.0,2.0,2.0,3.0,3.0,3.0,3.0,3.0,3.0,3.0,3.0,3.0,3.0,3.0,3.0,3.0,3.0,3.0,4.0,4.0,4.0,4.0,4.0,4.0,4.0,4.0,4.0,4.0,4.0,4.0,4.0,4.0,4.0,5.0,5.0,5.0,5.0,5.0,5.0,5.0,5.0,5.0,5.0,5.0,5.0,5.0,5.0,5.0,6.0,6.0,6.0,6.0,6.0,6.0,6.0,6.0,6.0,6.0,6.0,6.0,6.0,6.0,6.0,7.0,7.0,7.0,7.0,7.0,7.0,7.0,7.0,7.0,7.0,7.0,7.0,7.0,7.0,7.0,8.0,8.0,8.0,8.0,8.0,8.0,8.0,8.0,8.0,8.0,8.0,8.0,8.0,8.0,8.0,9.0,9.0,9.0,9.0,9.0,9.0,9.0,9.0,9.0,9.0,9.0,9.0,9.0,9.0,9.0,10.0,10.0,10.0,10.0,10.0,10.0,10.0,10.0,10.0,10.0,10.0,10.0,10.0,10.0,10.0,11.0,11.0,11.0,11.0,11.0,11.0,11.0,11.0,11.0,11.0,11.0,11.0,11.0,11.0,11.0,12.0,12.0,12.0,12.0,12.0,12.0,12.0,12.0,12.0,12.0,12.0,12.0,12.0,12.0,12.0,13.0,13.0,13.0,13.0,13.0,13.0,13.0,13.0,13.0,13.0,13.0,13.0,13.0,13.0,13.0,14.0,14.0,14.0,14.0,14.0,14.0,14.0,14.0,14.0,14.0,14.0,14.0,14.0,14.0,14.0],\"y\":[0.0,1.0,2.0,3.0,4.0,5.0,6.0,7.0,8.0,9.0,10.0,11.0,12.0,13.0,14.0,0.0,1.0,2.0,3.0,4.0,5.0,6.0,7.0,8.0,9.0,10.0,11.0,12.0,13.0,14.0,0.0,1.0,2.0,3.0,4.0,5.0,6.0,7.0,8.0,9.0,10.0,11.0,12.0,13.0,14.0,0.0,1.0,2.0,3.0,4.0,5.0,6.0,7.0,8.0,9.0,10.0,11.0,12.0,13.0,14.0,0.0,1.0,2.0,3.0,4.0,5.0,6.0,7.0,8.0,9.0,10.0,11.0,12.0,13.0,14.0,0.0,1.0,2.0,3.0,4.0,5.0,6.0,7.0,8.0,9.0,10.0,11.0,12.0,13.0,14.0,0.0,1.0,2.0,3.0,4.0,5.0,6.0,7.0,8.0,9.0,10.0,11.0,12.0,13.0,14.0,0.0,1.0,2.0,3.0,4.0,5.0,6.0,7.0,8.0,9.0,10.0,11.0,12.0,13.0,14.0,0.0,1.0,2.0,3.0,4.0,5.0,6.0,7.0,8.0,9.0,10.0,11.0,12.0,13.0,14.0,0.0,1.0,2.0,3.0,4.0,5.0,6.0,7.0,8.0,9.0,10.0,11.0,12.0,13.0,14.0,0.0,1.0,2.0,3.0,4.0,5.0,6.0,7.0,8.0,9.0,10.0,11.0,12.0,13.0,14.0,0.0,1.0,2.0,3.0,4.0,5.0,6.0,7.0,8.0,9.0,10.0,11.0,12.0,13.0,14.0,0.0,1.0,2.0,3.0,4.0,5.0,6.0,7.0,8.0,9.0,10.0,11.0,12.0,13.0,14.0,0.0,1.0,2.0,3.0,4.0,5.0,6.0,7.0,8.0,9.0,10.0,11.0,12.0,13.0,14.0,0.0,1.0,2.0,3.0,4.0,5.0,6.0,7.0,8.0,9.0,10.0,11.0,12.0,13.0,14.0]},\"selected\":{\"id\":\"2629\"},\"selection_policy\":{\"id\":\"2628\"}},\"id\":\"2615\",\"type\":\"ColumnDataSource\"},{\"attributes\":{\"formatter\":{\"id\":\"2623\"},\"ticker\":{\"id\":\"2587\"},\"visible\":false},\"id\":\"2586\",\"type\":\"LinearAxis\"},{\"attributes\":{},\"id\":\"2595\",\"type\":\"WheelZoomTool\"},{\"attributes\":{},\"id\":\"2594\",\"type\":\"PanTool\"},{\"attributes\":{\"end\":15.0,\"start\":-1.0},\"id\":\"2578\",\"type\":\"Range1d\"},{\"attributes\":{\"fill_color\":{\"value\":\"steelblue\"},\"line_color\":{\"value\":\"steelblue\"},\"size\":{\"units\":\"screen\",\"value\":8},\"x\":{\"field\":\"x\"},\"y\":{\"field\":\"y\"}},\"id\":\"2616\",\"type\":\"Circle\"},{\"attributes\":{\"overlay\":{\"id\":\"2600\"}},\"id\":\"2596\",\"type\":\"BoxZoomTool\"},{\"attributes\":{},\"id\":\"2591\",\"type\":\"BasicTicker\"},{\"attributes\":{\"source\":{\"id\":\"2615\"}},\"id\":\"2619\",\"type\":\"CDSView\"},{\"attributes\":{},\"id\":\"2582\",\"type\":\"LinearScale\"},{\"attributes\":{\"background_fill_color\":null,\"below\":[{\"id\":\"2586\"}],\"border_fill_color\":null,\"center\":[{\"id\":\"2589\"},{\"id\":\"2593\"}],\"left\":[{\"id\":\"2590\"}],\"outline_line_color\":null,\"plot_height\":400,\"plot_width\":400,\"renderers\":[{\"id\":\"2613\"},{\"id\":\"2618\"}],\"title\":{\"id\":\"2576\"},\"toolbar\":{\"id\":\"2601\"},\"toolbar_location\":null,\"x_range\":{\"id\":\"2578\"},\"x_scale\":{\"id\":\"2582\"},\"y_range\":{\"id\":\"2580\"},\"y_scale\":{\"id\":\"2584\"}},\"id\":\"2575\",\"subtype\":\"Figure\",\"type\":\"Plot\"},{\"attributes\":{},\"id\":\"2621\",\"type\":\"BasicTickFormatter\"},{\"attributes\":{\"axis\":{\"id\":\"2590\"},\"dimension\":1,\"grid_line_color\":null,\"ticker\":null},\"id\":\"2593\",\"type\":\"Grid\"},{\"attributes\":{\"fill_alpha\":{\"value\":0.1},\"fill_color\":{\"value\":\"steelblue\"},\"line_alpha\":{\"value\":0.1},\"line_color\":{\"value\":\"steelblue\"},\"size\":{\"units\":\"screen\",\"value\":8},\"x\":{\"field\":\"x\"},\"y\":{\"field\":\"y\"}},\"id\":\"2617\",\"type\":\"Circle\"},{\"attributes\":{},\"id\":\"2587\",\"type\":\"BasicTicker\"}],\"root_ids\":[\"2631\"]},\"title\":\"Bokeh Application\",\"version\":\"2.1.0\"}};\n",
       "  var render_items = [{\"docid\":\"d9672481-51e7-4bc4-a489-7369f0ed3da1\",\"root_ids\":[\"2631\"],\"roots\":{\"2631\":\"df1c099f-3ad4-489d-812f-291b0d32d637\"}}];\n",
       "  root.Bokeh.embed.embed_items_notebook(docs_json, render_items);\n",
       "\n",
       "  }\n",
       "  if (root.Bokeh !== undefined) {\n",
       "    embed_document(root);\n",
       "  } else {\n",
       "    var attempts = 0;\n",
       "    var timer = setInterval(function(root) {\n",
       "      if (root.Bokeh !== undefined) {\n",
       "        clearInterval(timer);\n",
       "        embed_document(root);\n",
       "      } else {\n",
       "        attempts++;\n",
       "        if (attempts > 100) {\n",
       "          clearInterval(timer);\n",
       "          console.log(\"Bokeh: ERROR: Unable to run BokehJS code because BokehJS library is missing\");\n",
       "        }\n",
       "      }\n",
       "    }, 10, root)\n",
       "  }\n",
       "})(window);"
      ],
      "application/vnd.bokehjs_exec.v0+json": ""
     },
     "metadata": {
      "application/vnd.bokehjs_exec.v0+json": {
       "id": "2631"
      }
     },
     "output_type": "display_data"
    },
    {
     "data": {
      "text/html": [
       "\n",
       "\n",
       "\n",
       "\n",
       "\n",
       "\n",
       "  <div class=\"bk-root\" id=\"93a59ae9-0456-497e-9d36-0a09313786e7\" data-root-id=\"2852\"></div>\n"
      ]
     },
     "metadata": {},
     "output_type": "display_data"
    },
    {
     "data": {
      "application/javascript": [
       "(function(root) {\n",
       "  function embed_document(root) {\n",
       "    \n",
       "  var docs_json = {\"8aaf0385-da4a-4eb7-bf3e-059971db93fe\":{\"roots\":{\"references\":[{\"attributes\":{\"children\":[[{\"id\":\"2796\"},0,0],[{\"id\":\"2830\"},1,0]]},\"id\":\"2852\",\"type\":\"GridBox\"},{\"attributes\":{\"formatter\":{\"id\":\"2842\"},\"ticker\":{\"id\":\"2812\"},\"visible\":false},\"id\":\"2811\",\"type\":\"LinearAxis\"},{\"attributes\":{\"data\":{\"x\":[0.0,1.0,2.0,3.0,4.0,5.0,6.0,7.0,8.0,9.0,10.0,11.0,12.0,13.0,14.0,14.0,14.0,14.0,14.0,14.0,14.0,14.0,14.0,14.0,14.0,14.0,14.0,14.0,14.0,13.0,13.0,13.0,13.0,13.0,13.0,13.0,13.0,13.0,13.0,13.0,13.0,13.0,13.0,12.0,12.0,12.0,12.0,12.0,12.0,12.0,12.0,12.0,12.0,12.0,12.0,12.0,12.0,11.0,11.0,11.0,11.0,11.0,11.0,11.0,11.0,11.0,11.0,11.0,11.0,11.0,11.0,10.0,10.0,10.0,10.0,10.0,10.0,10.0,10.0,10.0,10.0,10.0,10.0,10.0,10.0,9.0,9.0,9.0,9.0,9.0,9.0,9.0,9.0,9.0,9.0,9.0,9.0,9.0,9.0,8.0,8.0,8.0,8.0,8.0,8.0,8.0,8.0,8.0,8.0,8.0,8.0,8.0,8.0,7.0,7.0,7.0,7.0,7.0,7.0,7.0,7.0,7.0,7.0,7.0,7.0,7.0,7.0,6.0,6.0,6.0,6.0,6.0,6.0,6.0,6.0,6.0,6.0,6.0,6.0,6.0,6.0,5.0,5.0,5.0,5.0,5.0,5.0,5.0,5.0,5.0,5.0,5.0,5.0,5.0,5.0,4.0,4.0,4.0,4.0,4.0,4.0,4.0,4.0,4.0,4.0,4.0,4.0,4.0,4.0,3.0,3.0,3.0,3.0,2.0,1.0,1.0,2.0,2.0,1.0,0.0,0.0,0.0,0.0,0.0,0.0,1.0,1.0,2.0,2.0,3.0,3.0,3.0,3.0,3.0,3.0,3.0,3.0,3.0,3.0,2.0,2.0,2.0,2.0,2.0,2.0,2.0,2.0,2.0,1.0,1.0,0.0,0.0,1.0,1.0,0.0,0.0,1.0,1.0,0.0,0.0,1.0,1.0,0.0,0.0,1.0,0.0],\"y\":[0.0,0.0,0.0,0.0,0.0,0.0,0.0,0.0,0.0,0.0,0.0,0.0,0.0,0.0,0.0,1.0,2.0,3.0,4.0,5.0,6.0,7.0,8.0,9.0,10.0,11.0,12.0,13.0,14.0,14.0,13.0,12.0,11.0,10.0,9.0,8.0,7.0,6.0,5.0,4.0,3.0,2.0,1.0,1.0,2.0,3.0,4.0,5.0,6.0,7.0,8.0,9.0,10.0,11.0,12.0,13.0,14.0,14.0,13.0,12.0,11.0,10.0,9.0,8.0,7.0,6.0,5.0,4.0,3.0,2.0,1.0,1.0,2.0,3.0,4.0,5.0,6.0,7.0,8.0,9.0,10.0,11.0,12.0,13.0,14.0,14.0,13.0,12.0,11.0,10.0,9.0,8.0,7.0,6.0,5.0,4.0,3.0,2.0,1.0,1.0,2.0,3.0,4.0,5.0,6.0,7.0,8.0,9.0,10.0,11.0,12.0,13.0,14.0,14.0,13.0,12.0,11.0,10.0,9.0,8.0,7.0,6.0,5.0,4.0,3.0,2.0,1.0,1.0,2.0,3.0,4.0,5.0,6.0,7.0,8.0,9.0,10.0,11.0,12.0,13.0,14.0,14.0,13.0,12.0,11.0,10.0,9.0,8.0,7.0,6.0,5.0,4.0,3.0,2.0,1.0,1.0,2.0,3.0,4.0,5.0,6.0,7.0,8.0,9.0,10.0,11.0,12.0,13.0,14.0,14.0,13.0,12.0,11.0,12.0,12.0,13.0,13.0,14.0,14.0,14.0,13.0,12.0,11.0,10.0,9.0,10.0,11.0,11.0,10.0,10.0,9.0,8.0,7.0,6.0,5.0,4.0,3.0,2.0,1.0,1.0,2.0,3.0,4.0,5.0,6.0,7.0,8.0,9.0,9.0,8.0,8.0,7.0,7.0,6.0,6.0,5.0,5.0,4.0,4.0,3.0,3.0,2.0,2.0,1.0,1.0,0.0]},\"selected\":{\"id\":\"2848\"},\"selection_policy\":{\"id\":\"2847\"}},\"id\":\"2831\",\"type\":\"ColumnDataSource\"},{\"attributes\":{\"bottom_units\":\"screen\",\"fill_alpha\":0.5,\"fill_color\":\"lightgrey\",\"left_units\":\"screen\",\"level\":\"overlay\",\"line_alpha\":1.0,\"line_color\":\"black\",\"line_dash\":[4,4],\"line_width\":2,\"right_units\":\"screen\",\"top_units\":\"screen\"},\"id\":\"2821\",\"type\":\"BoxAnnotation\"},{\"attributes\":{\"end\":15.0,\"start\":-1.0},\"id\":\"2799\",\"type\":\"Range1d\"},{\"attributes\":{\"data_source\":{\"id\":\"2831\"},\"glyph\":{\"id\":\"2832\"},\"hover_glyph\":null,\"muted_glyph\":null,\"nonselection_glyph\":{\"id\":\"2833\"},\"selection_glyph\":null,\"view\":{\"id\":\"2835\"}},\"id\":\"2834\",\"type\":\"GlyphRenderer\"},{\"attributes\":{\"active_drag\":\"auto\",\"active_inspect\":\"auto\",\"active_multi\":null,\"active_scroll\":\"auto\",\"active_tap\":\"auto\",\"logo\":null,\"tools\":[{\"id\":\"2815\"},{\"id\":\"2816\"},{\"id\":\"2817\"},{\"id\":\"2818\"},{\"id\":\"2819\"},{\"id\":\"2820\"}]},\"id\":\"2822\",\"type\":\"Toolbar\"},{\"attributes\":{\"source\":{\"id\":\"2831\"}},\"id\":\"2835\",\"type\":\"CDSView\"},{\"attributes\":{\"line_alpha\":0.1,\"line_width\":4,\"x\":{\"field\":\"x\"},\"y\":{\"field\":\"y\"}},\"id\":\"2833\",\"type\":\"Line\"},{\"attributes\":{\"data\":{\"x\":[0.0,0.0,0.0,0.0,0.0,0.0,0.0,0.0,0.0,0.0,0.0,0.0,0.0,0.0,0.0,1.0,1.0,1.0,1.0,1.0,1.0,1.0,1.0,1.0,1.0,1.0,1.0,1.0,1.0,1.0,2.0,2.0,2.0,2.0,2.0,2.0,2.0,2.0,2.0,2.0,2.0,2.0,2.0,2.0,2.0,3.0,3.0,3.0,3.0,3.0,3.0,3.0,3.0,3.0,3.0,3.0,3.0,3.0,3.0,3.0,4.0,4.0,4.0,4.0,4.0,4.0,4.0,4.0,4.0,4.0,4.0,4.0,4.0,4.0,4.0,5.0,5.0,5.0,5.0,5.0,5.0,5.0,5.0,5.0,5.0,5.0,5.0,5.0,5.0,5.0,6.0,6.0,6.0,6.0,6.0,6.0,6.0,6.0,6.0,6.0,6.0,6.0,6.0,6.0,6.0,7.0,7.0,7.0,7.0,7.0,7.0,7.0,7.0,7.0,7.0,7.0,7.0,7.0,7.0,7.0,8.0,8.0,8.0,8.0,8.0,8.0,8.0,8.0,8.0,8.0,8.0,8.0,8.0,8.0,8.0,9.0,9.0,9.0,9.0,9.0,9.0,9.0,9.0,9.0,9.0,9.0,9.0,9.0,9.0,9.0,10.0,10.0,10.0,10.0,10.0,10.0,10.0,10.0,10.0,10.0,10.0,10.0,10.0,10.0,10.0,11.0,11.0,11.0,11.0,11.0,11.0,11.0,11.0,11.0,11.0,11.0,11.0,11.0,11.0,11.0,12.0,12.0,12.0,12.0,12.0,12.0,12.0,12.0,12.0,12.0,12.0,12.0,12.0,12.0,12.0,13.0,13.0,13.0,13.0,13.0,13.0,13.0,13.0,13.0,13.0,13.0,13.0,13.0,13.0,13.0,14.0,14.0,14.0,14.0,14.0,14.0,14.0,14.0,14.0,14.0,14.0,14.0,14.0,14.0,14.0],\"y\":[0.0,1.0,2.0,3.0,4.0,5.0,6.0,7.0,8.0,9.0,10.0,11.0,12.0,13.0,14.0,0.0,1.0,2.0,3.0,4.0,5.0,6.0,7.0,8.0,9.0,10.0,11.0,12.0,13.0,14.0,0.0,1.0,2.0,3.0,4.0,5.0,6.0,7.0,8.0,9.0,10.0,11.0,12.0,13.0,14.0,0.0,1.0,2.0,3.0,4.0,5.0,6.0,7.0,8.0,9.0,10.0,11.0,12.0,13.0,14.0,0.0,1.0,2.0,3.0,4.0,5.0,6.0,7.0,8.0,9.0,10.0,11.0,12.0,13.0,14.0,0.0,1.0,2.0,3.0,4.0,5.0,6.0,7.0,8.0,9.0,10.0,11.0,12.0,13.0,14.0,0.0,1.0,2.0,3.0,4.0,5.0,6.0,7.0,8.0,9.0,10.0,11.0,12.0,13.0,14.0,0.0,1.0,2.0,3.0,4.0,5.0,6.0,7.0,8.0,9.0,10.0,11.0,12.0,13.0,14.0,0.0,1.0,2.0,3.0,4.0,5.0,6.0,7.0,8.0,9.0,10.0,11.0,12.0,13.0,14.0,0.0,1.0,2.0,3.0,4.0,5.0,6.0,7.0,8.0,9.0,10.0,11.0,12.0,13.0,14.0,0.0,1.0,2.0,3.0,4.0,5.0,6.0,7.0,8.0,9.0,10.0,11.0,12.0,13.0,14.0,0.0,1.0,2.0,3.0,4.0,5.0,6.0,7.0,8.0,9.0,10.0,11.0,12.0,13.0,14.0,0.0,1.0,2.0,3.0,4.0,5.0,6.0,7.0,8.0,9.0,10.0,11.0,12.0,13.0,14.0,0.0,1.0,2.0,3.0,4.0,5.0,6.0,7.0,8.0,9.0,10.0,11.0,12.0,13.0,14.0,0.0,1.0,2.0,3.0,4.0,5.0,6.0,7.0,8.0,9.0,10.0,11.0,12.0,13.0,14.0]},\"selected\":{\"id\":\"2850\"},\"selection_policy\":{\"id\":\"2849\"}},\"id\":\"2836\",\"type\":\"ColumnDataSource\"},{\"attributes\":{},\"id\":\"2803\",\"type\":\"LinearScale\"},{\"attributes\":{},\"id\":\"2820\",\"type\":\"HelpTool\"},{\"attributes\":{\"end\":15.0,\"start\":-1.0},\"id\":\"2801\",\"type\":\"Range1d\"},{\"attributes\":{},\"id\":\"2819\",\"type\":\"ResetTool\"},{\"attributes\":{\"text\":\"\"},\"id\":\"2797\",\"type\":\"Title\"},{\"attributes\":{\"line_width\":4,\"x\":{\"field\":\"x\"},\"y\":{\"field\":\"y\"}},\"id\":\"2832\",\"type\":\"Line\"},{\"attributes\":{\"formatter\":{\"id\":\"2844\"},\"ticker\":{\"id\":\"2808\"},\"visible\":false},\"id\":\"2807\",\"type\":\"LinearAxis\"},{\"attributes\":{},\"id\":\"2808\",\"type\":\"BasicTicker\"},{\"attributes\":{\"source\":{\"id\":\"2836\"}},\"id\":\"2840\",\"type\":\"CDSView\"},{\"attributes\":{\"axis\":{\"id\":\"2811\"},\"dimension\":1,\"grid_line_color\":null,\"ticker\":null},\"id\":\"2814\",\"type\":\"Grid\"},{\"attributes\":{\"fill_color\":{\"value\":\"steelblue\"},\"line_color\":{\"value\":\"steelblue\"},\"size\":{\"units\":\"screen\",\"value\":8},\"x\":{\"field\":\"x\"},\"y\":{\"field\":\"y\"}},\"id\":\"2837\",\"type\":\"Circle\"},{\"attributes\":{},\"id\":\"2812\",\"type\":\"BasicTicker\"},{\"attributes\":{\"data_source\":{\"id\":\"2836\"},\"glyph\":{\"id\":\"2837\"},\"hover_glyph\":null,\"muted_glyph\":null,\"nonselection_glyph\":{\"id\":\"2838\"},\"selection_glyph\":null,\"view\":{\"id\":\"2840\"}},\"id\":\"2839\",\"type\":\"GlyphRenderer\"},{\"attributes\":{},\"id\":\"2805\",\"type\":\"LinearScale\"},{\"attributes\":{\"axis\":{\"id\":\"2807\"},\"grid_line_color\":null,\"ticker\":null},\"id\":\"2810\",\"type\":\"Grid\"},{\"attributes\":{\"fill_alpha\":{\"value\":0.1},\"fill_color\":{\"value\":\"steelblue\"},\"line_alpha\":{\"value\":0.1},\"line_color\":{\"value\":\"steelblue\"},\"size\":{\"units\":\"screen\",\"value\":8},\"x\":{\"field\":\"x\"},\"y\":{\"field\":\"y\"}},\"id\":\"2838\",\"type\":\"Circle\"},{\"attributes\":{\"align\":\"center\",\"text\":\"226.243\",\"width\":400},\"id\":\"2830\",\"type\":\"Div\"},{\"attributes\":{},\"id\":\"2842\",\"type\":\"BasicTickFormatter\"},{\"attributes\":{\"background_fill_color\":null,\"below\":[{\"id\":\"2807\"}],\"border_fill_color\":null,\"center\":[{\"id\":\"2810\"},{\"id\":\"2814\"}],\"left\":[{\"id\":\"2811\"}],\"outline_line_color\":null,\"plot_height\":400,\"plot_width\":400,\"renderers\":[{\"id\":\"2834\"},{\"id\":\"2839\"}],\"title\":{\"id\":\"2797\"},\"toolbar\":{\"id\":\"2822\"},\"toolbar_location\":null,\"x_range\":{\"id\":\"2799\"},\"x_scale\":{\"id\":\"2803\"},\"y_range\":{\"id\":\"2801\"},\"y_scale\":{\"id\":\"2805\"}},\"id\":\"2796\",\"subtype\":\"Figure\",\"type\":\"Plot\"},{\"attributes\":{\"overlay\":{\"id\":\"2821\"}},\"id\":\"2817\",\"type\":\"BoxZoomTool\"},{\"attributes\":{},\"id\":\"2844\",\"type\":\"BasicTickFormatter\"},{\"attributes\":{},\"id\":\"2818\",\"type\":\"SaveTool\"},{\"attributes\":{},\"id\":\"2815\",\"type\":\"PanTool\"},{\"attributes\":{},\"id\":\"2847\",\"type\":\"UnionRenderers\"},{\"attributes\":{},\"id\":\"2848\",\"type\":\"Selection\"},{\"attributes\":{},\"id\":\"2816\",\"type\":\"WheelZoomTool\"},{\"attributes\":{},\"id\":\"2849\",\"type\":\"UnionRenderers\"},{\"attributes\":{},\"id\":\"2850\",\"type\":\"Selection\"}],\"root_ids\":[\"2852\"]},\"title\":\"Bokeh Application\",\"version\":\"2.1.0\"}};\n",
       "  var render_items = [{\"docid\":\"8aaf0385-da4a-4eb7-bf3e-059971db93fe\",\"root_ids\":[\"2852\"],\"roots\":{\"2852\":\"93a59ae9-0456-497e-9d36-0a09313786e7\"}}];\n",
       "  root.Bokeh.embed.embed_items_notebook(docs_json, render_items);\n",
       "\n",
       "  }\n",
       "  if (root.Bokeh !== undefined) {\n",
       "    embed_document(root);\n",
       "  } else {\n",
       "    var attempts = 0;\n",
       "    var timer = setInterval(function(root) {\n",
       "      if (root.Bokeh !== undefined) {\n",
       "        clearInterval(timer);\n",
       "        embed_document(root);\n",
       "      } else {\n",
       "        attempts++;\n",
       "        if (attempts > 100) {\n",
       "          clearInterval(timer);\n",
       "          console.log(\"Bokeh: ERROR: Unable to run BokehJS code because BokehJS library is missing\");\n",
       "        }\n",
       "      }\n",
       "    }, 10, root)\n",
       "  }\n",
       "})(window);"
      ],
      "application/vnd.bokehjs_exec.v0+json": ""
     },
     "metadata": {
      "application/vnd.bokehjs_exec.v0+json": {
       "id": "2852"
      }
     },
     "output_type": "display_data"
    }
   ],
   "source": [
    "nodes, G = tsp_grid_instance(15,15,manhattan=False)\n",
    "plot_tour(nodes, G, nearest_neighbor(G))\n",
    "plot_tour(nodes, G, furthest_insertion(G))\n",
    "plot_tour(nodes, G, solve_tsp(G))"
   ]
  },
  {
   "cell_type": "code",
   "execution_count": 5,
   "metadata": {
    "scrolled": false
   },
   "outputs": [
    {
     "data": {
      "text/html": [
       "\n",
       "\n",
       "\n",
       "\n",
       "\n",
       "\n",
       "  <div class=\"bk-root\" id=\"2d0f9ee6-f74f-4789-a54d-3cbd37330066\" data-root-id=\"1666\"></div>\n"
      ]
     },
     "metadata": {},
     "output_type": "display_data"
    },
    {
     "data": {
      "application/javascript": [
       "(function(root) {\n",
       "  function embed_document(root) {\n",
       "    \n",
       "  var docs_json = {\"8211a1a2-a9ee-4bc5-b63c-59a249a49320\":{\"roots\":{\"references\":[{\"attributes\":{\"children\":[[{\"id\":\"1596\"},0,0],[{\"id\":\"1649\"},1,0],[{\"id\":\"1650\"},2,0]]},\"id\":\"1666\",\"type\":\"GridBox\"},{\"attributes\":{\"active_drag\":\"auto\",\"active_inspect\":\"auto\",\"active_multi\":null,\"active_scroll\":\"auto\",\"active_tap\":\"auto\",\"logo\":null,\"tools\":[{\"id\":\"1615\"},{\"id\":\"1616\"},{\"id\":\"1617\"},{\"id\":\"1618\"},{\"id\":\"1619\"},{\"id\":\"1620\"}]},\"id\":\"1622\",\"type\":\"Toolbar\"},{\"attributes\":{},\"id\":\"1620\",\"type\":\"HelpTool\"},{\"attributes\":{\"children\":[{\"id\":\"1630\"},{\"id\":\"1631\"}]},\"id\":\"1650\",\"type\":\"Row\"},{\"attributes\":{\"axis\":{\"id\":\"1607\"},\"grid_line_color\":null,\"ticker\":null},\"id\":\"1610\",\"type\":\"Grid\"},{\"attributes\":{\"align\":\"center\",\"text\":\"0\",\"width\":400},\"id\":\"1632\",\"type\":\"Div\"},{\"attributes\":{\"overlay\":{\"id\":\"1621\"}},\"id\":\"1617\",\"type\":\"BoxZoomTool\"},{\"attributes\":{\"line_alpha\":0.1,\"line_width\":4,\"x\":{\"field\":\"edges_x\"},\"y\":{\"field\":\"edges_y\"}},\"id\":\"1637\",\"type\":\"Line\"},{\"attributes\":{},\"id\":\"1652\",\"type\":\"BasicTickFormatter\"},{\"attributes\":{},\"id\":\"1605\",\"type\":\"LinearScale\"},{\"attributes\":{\"line_width\":4,\"x\":{\"field\":\"edges_x\"},\"y\":{\"field\":\"edges_y\"}},\"id\":\"1636\",\"type\":\"Line\"},{\"attributes\":{},\"id\":\"1654\",\"type\":\"BasicTickFormatter\"},{\"attributes\":{\"bottom_units\":\"screen\",\"fill_alpha\":0.5,\"fill_color\":\"lightgrey\",\"left_units\":\"screen\",\"level\":\"overlay\",\"line_alpha\":1.0,\"line_color\":\"black\",\"line_dash\":[4,4],\"line_width\":2,\"right_units\":\"screen\",\"top_units\":\"screen\"},\"id\":\"1621\",\"type\":\"BoxAnnotation\"},{\"attributes\":{},\"id\":\"1657\",\"type\":\"UnionRenderers\"},{\"attributes\":{\"align\":\"center\",\"text\":\"0\",\"width\":350},\"id\":\"1630\",\"type\":\"Div\"},{\"attributes\":{\"axis\":{\"id\":\"1611\"},\"dimension\":1,\"grid_line_color\":null,\"ticker\":null},\"id\":\"1614\",\"type\":\"Grid\"},{\"attributes\":{\"data_source\":{\"id\":\"1634\"},\"glyph\":{\"id\":\"1636\"},\"hover_glyph\":null,\"muted_glyph\":null,\"nonselection_glyph\":{\"id\":\"1637\"},\"selection_glyph\":null,\"view\":{\"id\":\"1639\"}},\"id\":\"1638\",\"type\":\"GlyphRenderer\"},{\"attributes\":{\"data\":{\"edges_x\":[0.0],\"edges_y\":[0.0]},\"selected\":{\"id\":\"1658\"},\"selection_policy\":{\"id\":\"1657\"}},\"id\":\"1634\",\"type\":\"ColumnDataSource\"},{\"attributes\":{},\"id\":\"1658\",\"type\":\"Selection\"},{\"attributes\":{},\"id\":\"1616\",\"type\":\"WheelZoomTool\"},{\"attributes\":{},\"id\":\"1659\",\"type\":\"UnionRenderers\"},{\"attributes\":{\"data\":{\"costs\":[0,1.0,2.0,3.0,4.0,5.0,7.0,8.0,9.0,10.0,11.0,12.0,13.0,14.0,15.0,16.0,17.0,18.0,19.0,22.0,24.0,25.0,26.0,27.0,29.23606797749979,31.23606797749979],\"edges_x\":[[0.0],[0.0,1.0],[0.0,1.0,1.0],[0.0,1.0,1.0,1.0],[0.0,1.0,1.0,1.0,0.0],[0.0,1.0,1.0,1.0,0.0,0.0],[0.0,1.0,1.0,1.0,0.0,0.0,2.0],[0.0,1.0,1.0,1.0,0.0,0.0,2.0,2.0],[0.0,1.0,1.0,1.0,0.0,0.0,2.0,2.0,3.0],[0.0,1.0,1.0,1.0,0.0,0.0,2.0,2.0,3.0,4.0],[0.0,1.0,1.0,1.0,0.0,0.0,2.0,2.0,3.0,4.0,4.0],[0.0,1.0,1.0,1.0,0.0,0.0,2.0,2.0,3.0,4.0,4.0,4.0],[0.0,1.0,1.0,1.0,0.0,0.0,2.0,2.0,3.0,4.0,4.0,4.0,3.0],[0.0,1.0,1.0,1.0,0.0,0.0,2.0,2.0,3.0,4.0,4.0,4.0,3.0,2.0],[0.0,1.0,1.0,1.0,0.0,0.0,2.0,2.0,3.0,4.0,4.0,4.0,3.0,2.0,2.0],[0.0,1.0,1.0,1.0,0.0,0.0,2.0,2.0,3.0,4.0,4.0,4.0,3.0,2.0,2.0,1.0],[0.0,1.0,1.0,1.0,0.0,0.0,2.0,2.0,3.0,4.0,4.0,4.0,3.0,2.0,2.0,1.0,1.0],[0.0,1.0,1.0,1.0,0.0,0.0,2.0,2.0,3.0,4.0,4.0,4.0,3.0,2.0,2.0,1.0,1.0,0.0],[0.0,1.0,1.0,1.0,0.0,0.0,2.0,2.0,3.0,4.0,4.0,4.0,3.0,2.0,2.0,1.0,1.0,0.0,0.0],[0.0,1.0,1.0,1.0,0.0,0.0,2.0,2.0,3.0,4.0,4.0,4.0,3.0,2.0,2.0,1.0,1.0,0.0,0.0,3.0],[0.0,1.0,1.0,1.0,0.0,0.0,2.0,2.0,3.0,4.0,4.0,4.0,3.0,2.0,2.0,1.0,1.0,0.0,0.0,3.0,3.0],[0.0,1.0,1.0,1.0,0.0,0.0,2.0,2.0,3.0,4.0,4.0,4.0,3.0,2.0,2.0,1.0,1.0,0.0,0.0,3.0,3.0,3.0],[0.0,1.0,1.0,1.0,0.0,0.0,2.0,2.0,3.0,4.0,4.0,4.0,3.0,2.0,2.0,1.0,1.0,0.0,0.0,3.0,3.0,3.0,4.0],[0.0,1.0,1.0,1.0,0.0,0.0,2.0,2.0,3.0,4.0,4.0,4.0,3.0,2.0,2.0,1.0,1.0,0.0,0.0,3.0,3.0,3.0,4.0,4.0],[0.0,1.0,1.0,1.0,0.0,0.0,2.0,2.0,3.0,4.0,4.0,4.0,3.0,2.0,2.0,1.0,1.0,0.0,0.0,3.0,3.0,3.0,4.0,4.0,2.0],[0.0,1.0,1.0,1.0,0.0,0.0,2.0,2.0,3.0,4.0,4.0,4.0,3.0,2.0,2.0,1.0,1.0,0.0,0.0,3.0,3.0,3.0,4.0,4.0,2.0,0.0]],\"edges_y\":[[0.0],[0.0,0.0],[0.0,0.0,1.0],[0.0,0.0,1.0,2.0],[0.0,0.0,1.0,2.0,2.0],[0.0,0.0,1.0,2.0,2.0,1.0],[0.0,0.0,1.0,2.0,2.0,1.0,1.0],[0.0,0.0,1.0,2.0,2.0,1.0,1.0,2.0],[0.0,0.0,1.0,2.0,2.0,1.0,1.0,2.0,2.0],[0.0,0.0,1.0,2.0,2.0,1.0,1.0,2.0,2.0,2.0],[0.0,0.0,1.0,2.0,2.0,1.0,1.0,2.0,2.0,2.0,3.0],[0.0,0.0,1.0,2.0,2.0,1.0,1.0,2.0,2.0,2.0,3.0,4.0],[0.0,0.0,1.0,2.0,2.0,1.0,1.0,2.0,2.0,2.0,3.0,4.0,4.0],[0.0,0.0,1.0,2.0,2.0,1.0,1.0,2.0,2.0,2.0,3.0,4.0,4.0,4.0],[0.0,0.0,1.0,2.0,2.0,1.0,1.0,2.0,2.0,2.0,3.0,4.0,4.0,4.0,3.0],[0.0,0.0,1.0,2.0,2.0,1.0,1.0,2.0,2.0,2.0,3.0,4.0,4.0,4.0,3.0,3.0],[0.0,0.0,1.0,2.0,2.0,1.0,1.0,2.0,2.0,2.0,3.0,4.0,4.0,4.0,3.0,3.0,4.0],[0.0,0.0,1.0,2.0,2.0,1.0,1.0,2.0,2.0,2.0,3.0,4.0,4.0,4.0,3.0,3.0,4.0,4.0],[0.0,0.0,1.0,2.0,2.0,1.0,1.0,2.0,2.0,2.0,3.0,4.0,4.0,4.0,3.0,3.0,4.0,4.0,3.0],[0.0,0.0,1.0,2.0,2.0,1.0,1.0,2.0,2.0,2.0,3.0,4.0,4.0,4.0,3.0,3.0,4.0,4.0,3.0,3.0],[0.0,0.0,1.0,2.0,2.0,1.0,1.0,2.0,2.0,2.0,3.0,4.0,4.0,4.0,3.0,3.0,4.0,4.0,3.0,3.0,1.0],[0.0,0.0,1.0,2.0,2.0,1.0,1.0,2.0,2.0,2.0,3.0,4.0,4.0,4.0,3.0,3.0,4.0,4.0,3.0,3.0,1.0,0.0],[0.0,0.0,1.0,2.0,2.0,1.0,1.0,2.0,2.0,2.0,3.0,4.0,4.0,4.0,3.0,3.0,4.0,4.0,3.0,3.0,1.0,0.0,0.0],[0.0,0.0,1.0,2.0,2.0,1.0,1.0,2.0,2.0,2.0,3.0,4.0,4.0,4.0,3.0,3.0,4.0,4.0,3.0,3.0,1.0,0.0,0.0,1.0],[0.0,0.0,1.0,2.0,2.0,1.0,1.0,2.0,2.0,2.0,3.0,4.0,4.0,4.0,3.0,3.0,4.0,4.0,3.0,3.0,1.0,0.0,0.0,1.0,0.0],[0.0,0.0,1.0,2.0,2.0,1.0,1.0,2.0,2.0,2.0,3.0,4.0,4.0,4.0,3.0,3.0,4.0,4.0,3.0,3.0,1.0,0.0,0.0,1.0,0.0,0.0]]},\"selected\":{\"id\":\"1665\"},\"selection_policy\":{\"id\":\"1664\"}},\"id\":\"1633\",\"type\":\"ColumnDataSource\"},{\"attributes\":{},\"id\":\"1660\",\"type\":\"Selection\"},{\"attributes\":{\"source\":{\"id\":\"1634\"}},\"id\":\"1639\",\"type\":\"CDSView\"},{\"attributes\":{\"data\":{\"x\":[0.0,0.0,0.0,0.0,0.0,1.0,1.0,1.0,1.0,1.0,2.0,2.0,2.0,2.0,2.0,3.0,3.0,3.0,3.0,3.0,4.0,4.0,4.0,4.0,4.0],\"y\":[0.0,1.0,2.0,3.0,4.0,0.0,1.0,2.0,3.0,4.0,0.0,1.0,2.0,3.0,4.0,0.0,1.0,2.0,3.0,4.0,0.0,1.0,2.0,3.0,4.0]},\"selected\":{\"id\":\"1660\"},\"selection_policy\":{\"id\":\"1659\"}},\"id\":\"1640\",\"type\":\"ColumnDataSource\"},{\"attributes\":{},\"id\":\"1664\",\"type\":\"UnionRenderers\"},{\"attributes\":{\"background_fill_color\":null,\"below\":[{\"id\":\"1607\"}],\"border_fill_color\":null,\"center\":[{\"id\":\"1610\"},{\"id\":\"1614\"}],\"left\":[{\"id\":\"1611\"}],\"outline_line_color\":null,\"plot_height\":400,\"plot_width\":400,\"renderers\":[{\"id\":\"1638\"},{\"id\":\"1643\"}],\"title\":{\"id\":\"1597\"},\"toolbar\":{\"id\":\"1622\"},\"toolbar_location\":null,\"x_range\":{\"id\":\"1599\"},\"x_scale\":{\"id\":\"1603\"},\"y_range\":{\"id\":\"1601\"},\"y_scale\":{\"id\":\"1605\"}},\"id\":\"1596\",\"subtype\":\"Figure\",\"type\":\"Plot\"},{\"attributes\":{\"formatter\":{\"id\":\"1652\"},\"ticker\":{\"id\":\"1612\"},\"visible\":false},\"id\":\"1611\",\"type\":\"LinearAxis\"},{\"attributes\":{},\"id\":\"1618\",\"type\":\"SaveTool\"},{\"attributes\":{\"end\":5.0,\"start\":-1.0},\"id\":\"1601\",\"type\":\"Range1d\"},{\"attributes\":{},\"id\":\"1665\",\"type\":\"Selection\"},{\"attributes\":{},\"id\":\"1619\",\"type\":\"ResetTool\"},{\"attributes\":{},\"id\":\"1603\",\"type\":\"LinearScale\"},{\"attributes\":{},\"id\":\"1615\",\"type\":\"PanTool\"},{\"attributes\":{\"end\":5.0,\"start\":-1.0},\"id\":\"1599\",\"type\":\"Range1d\"},{\"attributes\":{},\"id\":\"1612\",\"type\":\"BasicTicker\"},{\"attributes\":{\"source\":{\"id\":\"1640\"}},\"id\":\"1644\",\"type\":\"CDSView\"},{\"attributes\":{\"fill_color\":{\"value\":\"steelblue\"},\"line_color\":{\"value\":\"steelblue\"},\"size\":{\"units\":\"screen\",\"value\":8},\"x\":{\"field\":\"x\"},\"y\":{\"field\":\"y\"}},\"id\":\"1641\",\"type\":\"Circle\"},{\"attributes\":{\"formatter\":{\"id\":\"1654\"},\"ticker\":{\"id\":\"1608\"},\"visible\":false},\"id\":\"1607\",\"type\":\"LinearAxis\"},{\"attributes\":{\"button_type\":\"success\",\"icon\":null,\"js_event_callbacks\":{\"button_click\":[{\"id\":\"1648\"}]},\"label\":\"Previous\",\"sizing_mode\":\"scale_width\",\"width_policy\":\"fit\"},\"id\":\"1647\",\"type\":\"Button\"},{\"attributes\":{\"button_type\":\"success\",\"icon\":null,\"js_event_callbacks\":{\"button_click\":[{\"id\":\"1646\"}]},\"label\":\"Next\",\"sizing_mode\":\"scale_width\",\"width_policy\":\"fit\"},\"id\":\"1645\",\"type\":\"Button\"},{\"attributes\":{\"data_source\":{\"id\":\"1640\"},\"glyph\":{\"id\":\"1641\"},\"hover_glyph\":null,\"muted_glyph\":null,\"nonselection_glyph\":{\"id\":\"1642\"},\"selection_glyph\":null,\"view\":{\"id\":\"1644\"}},\"id\":\"1643\",\"type\":\"GlyphRenderer\"},{\"attributes\":{\"args\":{\"cost\":{\"id\":\"1630\"},\"done\":{\"id\":\"1631\"},\"n\":{\"id\":\"1632\"},\"source\":{\"id\":\"1633\"},\"tour\":{\"id\":\"1634\"}},\"code\":\"\\n    if ((parseInt(n.text) + 1) < source.data['edges_y'].length) {\\n        n.text = (parseInt(n.text) + 1).toString()\\n    }\\n    var iteration = parseInt(n.text)\\n    \\n    if (iteration == source.data['edges_y'].length - 2) {\\n        iteration = iteration + 1\\n    }\\n    \\n    cost.text = source.data['costs'][iteration].toFixed(3)\\n    \\n    if (iteration == source.data['edges_y'].length - 1) {\\n        done.text = \\\"done.\\\"\\n    } else {\\n        done.text = \\\"\\\"\\n    }\\n\\n    tour.data['edges_x'] = source.data['edges_x'][iteration]\\n    tour.data['edges_y'] = source.data['edges_y'][iteration]\\n    tour.change.emit()\\n    \"},\"id\":\"1646\",\"type\":\"CustomJS\"},{\"attributes\":{\"fill_alpha\":{\"value\":0.1},\"fill_color\":{\"value\":\"steelblue\"},\"line_alpha\":{\"value\":0.1},\"line_color\":{\"value\":\"steelblue\"},\"size\":{\"units\":\"screen\",\"value\":8},\"x\":{\"field\":\"x\"},\"y\":{\"field\":\"y\"}},\"id\":\"1642\",\"type\":\"Circle\"},{\"attributes\":{\"text\":\"\"},\"id\":\"1597\",\"type\":\"Title\"},{\"attributes\":{\"children\":[{\"id\":\"1647\"},{\"id\":\"1645\"}],\"max_width\":400,\"sizing_mode\":\"stretch_both\"},\"id\":\"1649\",\"type\":\"Row\"},{\"attributes\":{},\"id\":\"1608\",\"type\":\"BasicTicker\"},{\"attributes\":{\"args\":{\"cost\":{\"id\":\"1630\"},\"done\":{\"id\":\"1631\"},\"n\":{\"id\":\"1632\"},\"source\":{\"id\":\"1633\"},\"tour\":{\"id\":\"1634\"}},\"code\":\"\\n    if ((parseInt(n.text) - 1) >= 0) {\\n        n.text = (parseInt(n.text) - 1).toString()\\n    }\\n    var iteration = parseInt(n.text)\\n    \\n    if (iteration == source.data['edges_y'].length - 2) {\\n        iteration = iteration - 1\\n    }\\n    \\n    cost.text = source.data['costs'][iteration].toFixed(3)\\n    \\n    if (iteration == source.data['edges_y'].length - 1) {\\n        done.text = \\\"done.\\\"\\n    } else {\\n        done.text = \\\"\\\"\\n    }\\n\\n    tour.data['edges_x'] = source.data['edges_x'][iteration]\\n    tour.data['edges_y'] = source.data['edges_y'][iteration]\\n    tour.change.emit()\\n    \"},\"id\":\"1648\",\"type\":\"CustomJS\"},{\"attributes\":{\"align\":\"center\",\"width\":300},\"id\":\"1631\",\"type\":\"Div\"}],\"root_ids\":[\"1666\"]},\"title\":\"Bokeh Application\",\"version\":\"2.1.0\"}};\n",
       "  var render_items = [{\"docid\":\"8211a1a2-a9ee-4bc5-b63c-59a249a49320\",\"root_ids\":[\"1666\"],\"roots\":{\"1666\":\"2d0f9ee6-f74f-4789-a54d-3cbd37330066\"}}];\n",
       "  root.Bokeh.embed.embed_items_notebook(docs_json, render_items);\n",
       "\n",
       "  }\n",
       "  if (root.Bokeh !== undefined) {\n",
       "    embed_document(root);\n",
       "  } else {\n",
       "    var attempts = 0;\n",
       "    var timer = setInterval(function(root) {\n",
       "      if (root.Bokeh !== undefined) {\n",
       "        clearInterval(timer);\n",
       "        embed_document(root);\n",
       "      } else {\n",
       "        attempts++;\n",
       "        if (attempts > 100) {\n",
       "          clearInterval(timer);\n",
       "          console.log(\"Bokeh: ERROR: Unable to run BokehJS code because BokehJS library is missing\");\n",
       "        }\n",
       "      }\n",
       "    }, 10, root)\n",
       "  }\n",
       "})(window);"
      ],
      "application/vnd.bokehjs_exec.v0+json": ""
     },
     "metadata": {
      "application/vnd.bokehjs_exec.v0+json": {
       "id": "1666"
      }
     },
     "output_type": "display_data"
    }
   ],
   "source": [
    "nodes, G = tsp_grid_instance(5,5,manhattan=False)\n",
    "plot_tsp_heuristic(nodes, G, heuristic='nearest_neighbor', initial=0)"
   ]
  },
  {
   "cell_type": "code",
   "execution_count": 4,
   "metadata": {},
   "outputs": [
    {
     "name": "stdout",
     "output_type": "stream",
     "text": [
      "Heuristic Averages:\n",
      "Random Neighbor: 215.4\n",
      "Nearest Neighbor: 63.8\n",
      "Nearest Insertion: 61.6\n",
      "Furthest Insertion: 57.8\n"
     ]
    }
   ],
   "source": [
    "n = 10\n",
    "random_neighbor_total = 0\n",
    "nearest_neighbor_total = 0\n",
    "nearest_insertion_total = 0\n",
    "furthest_insertion_total = 0\n",
    "for i in range(n):\n",
    "    nodes, G = tsp_grid_instance(6,8,True)\n",
    "    random_neighbor_total += tour_cost(G, random_neighbor(G))\n",
    "    nearest_neighbor_total += tour_cost(G, nearest_neighbor(G))\n",
    "    nearest_insertion_total += tour_cost(G, nearest_insertion(G))\n",
    "    furthest_insertion_total += tour_cost(G, furthest_insertion(G))\n",
    "print(\"Heuristic Averages:\")\n",
    "print(\"Random Neighbor: %s\" % (random_neighbor_total / n))\n",
    "print(\"Nearest Neighbor: %s\" % (nearest_neighbor_total / n))\n",
    "print(\"Nearest Insertion: %s\" % (nearest_insertion_total / n))\n",
    "print(\"Furthest Insertion: %s\" % (furthest_insertion_total / n))"
   ]
  }
 ],
 "metadata": {
  "kernelspec": {
   "display_name": "Python 3",
   "language": "python",
   "name": "python3"
  },
  "language_info": {
   "codemirror_mode": {
    "name": "ipython",
    "version": 3
   },
   "file_extension": ".py",
   "mimetype": "text/x-python",
   "name": "python",
   "nbconvert_exporter": "python",
   "pygments_lexer": "ipython3",
   "version": "3.6.10"
  }
 },
 "nbformat": 4,
 "nbformat_minor": 4
}
