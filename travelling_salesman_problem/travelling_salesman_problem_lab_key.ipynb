{
 "cells": [
  {
   "cell_type": "markdown",
   "metadata": {},
   "source": [
    "# Traveling Salesman Problem (TSP)"
   ]
  },
  {
   "cell_type": "markdown",
   "metadata": {},
   "source": [
    "**Objectives**\n",
    "\n",
    "- Introduce students to a real world problem solved by OR practitioners\n",
    "- Demonstrate the use of heuristics to obtain good solutions to optimization problems\n",
    "- Give students an appreciation of the difficulty of solving optimization problems exactly\n",
    "\n",
    "**Reading:** Read Handout 2 on the traveling salesman problem.\n",
    "\n",
    "**Brief description:** Finding an optimal solution to a Traveling Salesman Problem, and proving that it is, in fact, an optimal solution, is a difficult task. In practice, when a feasible solution to a difficult problem needs to be provided quickly, one often resorts to using heuristics, i.e., procedures for generating feasible solutions, or improving existing ones, that can be executed quickly and, hopefully, produce a pretty good result. In this lab we will consider several such heuristic procedures for the TSP.\n",
    "\n",
    "*TSP VLSI instances adapted from [TSPLIB](http://comopt.ifi.uni-heidelberg.de/software/TSPLIB95/) and [Bonn Institute](http://www.math.uwaterloo.ca/tsp/vlsi/index.html)*\n",
    "\n",
    "<font color='blue'> <b>Solutions are shown blue.</b> </font> <br>\n",
    "<font color='red'> <b>Instuctor comments are shown in red.</b> </font>"
   ]
  },
  {
   "cell_type": "markdown",
   "metadata": {},
   "source": [
    "<font color='red'>A tool we might want to use: [TSP DIY](https://www.math.uwaterloo.ca/tsp/app/diy.html)  </font>"
   ]
  },
  {
   "cell_type": "markdown",
   "metadata": {},
   "source": [
    "<font color='red'> Some explanation of what imports are here.</font>"
   ]
  },
  {
   "cell_type": "code",
   "execution_count": 1,
   "metadata": {},
   "outputs": [
    {
     "data": {
      "text/html": [
       "\n",
       "    <div class=\"bk-root\">\n",
       "        <a href=\"https://bokeh.org\" target=\"_blank\" class=\"bk-logo bk-logo-small bk-logo-notebook\"></a>\n",
       "        <span id=\"1001\">Loading BokehJS ...</span>\n",
       "    </div>"
      ]
     },
     "metadata": {},
     "output_type": "display_data"
    },
    {
     "data": {
      "application/javascript": [
       "\n",
       "(function(root) {\n",
       "  function now() {\n",
       "    return new Date();\n",
       "  }\n",
       "\n",
       "  var force = true;\n",
       "\n",
       "  if (typeof root._bokeh_onload_callbacks === \"undefined\" || force === true) {\n",
       "    root._bokeh_onload_callbacks = [];\n",
       "    root._bokeh_is_loading = undefined;\n",
       "  }\n",
       "\n",
       "  var JS_MIME_TYPE = 'application/javascript';\n",
       "  var HTML_MIME_TYPE = 'text/html';\n",
       "  var EXEC_MIME_TYPE = 'application/vnd.bokehjs_exec.v0+json';\n",
       "  var CLASS_NAME = 'output_bokeh rendered_html';\n",
       "\n",
       "  /**\n",
       "   * Render data to the DOM node\n",
       "   */\n",
       "  function render(props, node) {\n",
       "    var script = document.createElement(\"script\");\n",
       "    node.appendChild(script);\n",
       "  }\n",
       "\n",
       "  /**\n",
       "   * Handle when an output is cleared or removed\n",
       "   */\n",
       "  function handleClearOutput(event, handle) {\n",
       "    var cell = handle.cell;\n",
       "\n",
       "    var id = cell.output_area._bokeh_element_id;\n",
       "    var server_id = cell.output_area._bokeh_server_id;\n",
       "    // Clean up Bokeh references\n",
       "    if (id != null && id in Bokeh.index) {\n",
       "      Bokeh.index[id].model.document.clear();\n",
       "      delete Bokeh.index[id];\n",
       "    }\n",
       "\n",
       "    if (server_id !== undefined) {\n",
       "      // Clean up Bokeh references\n",
       "      var cmd = \"from bokeh.io.state import curstate; print(curstate().uuid_to_server['\" + server_id + \"'].get_sessions()[0].document.roots[0]._id)\";\n",
       "      cell.notebook.kernel.execute(cmd, {\n",
       "        iopub: {\n",
       "          output: function(msg) {\n",
       "            var id = msg.content.text.trim();\n",
       "            if (id in Bokeh.index) {\n",
       "              Bokeh.index[id].model.document.clear();\n",
       "              delete Bokeh.index[id];\n",
       "            }\n",
       "          }\n",
       "        }\n",
       "      });\n",
       "      // Destroy server and session\n",
       "      var cmd = \"import bokeh.io.notebook as ion; ion.destroy_server('\" + server_id + \"')\";\n",
       "      cell.notebook.kernel.execute(cmd);\n",
       "    }\n",
       "  }\n",
       "\n",
       "  /**\n",
       "   * Handle when a new output is added\n",
       "   */\n",
       "  function handleAddOutput(event, handle) {\n",
       "    var output_area = handle.output_area;\n",
       "    var output = handle.output;\n",
       "\n",
       "    // limit handleAddOutput to display_data with EXEC_MIME_TYPE content only\n",
       "    if ((output.output_type != \"display_data\") || (!output.data.hasOwnProperty(EXEC_MIME_TYPE))) {\n",
       "      return\n",
       "    }\n",
       "\n",
       "    var toinsert = output_area.element.find(\".\" + CLASS_NAME.split(' ')[0]);\n",
       "\n",
       "    if (output.metadata[EXEC_MIME_TYPE][\"id\"] !== undefined) {\n",
       "      toinsert[toinsert.length - 1].firstChild.textContent = output.data[JS_MIME_TYPE];\n",
       "      // store reference to embed id on output_area\n",
       "      output_area._bokeh_element_id = output.metadata[EXEC_MIME_TYPE][\"id\"];\n",
       "    }\n",
       "    if (output.metadata[EXEC_MIME_TYPE][\"server_id\"] !== undefined) {\n",
       "      var bk_div = document.createElement(\"div\");\n",
       "      bk_div.innerHTML = output.data[HTML_MIME_TYPE];\n",
       "      var script_attrs = bk_div.children[0].attributes;\n",
       "      for (var i = 0; i < script_attrs.length; i++) {\n",
       "        toinsert[toinsert.length - 1].firstChild.setAttribute(script_attrs[i].name, script_attrs[i].value);\n",
       "        toinsert[toinsert.length - 1].firstChild.textContent = bk_div.children[0].textContent\n",
       "      }\n",
       "      // store reference to server id on output_area\n",
       "      output_area._bokeh_server_id = output.metadata[EXEC_MIME_TYPE][\"server_id\"];\n",
       "    }\n",
       "  }\n",
       "\n",
       "  function register_renderer(events, OutputArea) {\n",
       "\n",
       "    function append_mime(data, metadata, element) {\n",
       "      // create a DOM node to render to\n",
       "      var toinsert = this.create_output_subarea(\n",
       "        metadata,\n",
       "        CLASS_NAME,\n",
       "        EXEC_MIME_TYPE\n",
       "      );\n",
       "      this.keyboard_manager.register_events(toinsert);\n",
       "      // Render to node\n",
       "      var props = {data: data, metadata: metadata[EXEC_MIME_TYPE]};\n",
       "      render(props, toinsert[toinsert.length - 1]);\n",
       "      element.append(toinsert);\n",
       "      return toinsert\n",
       "    }\n",
       "\n",
       "    /* Handle when an output is cleared or removed */\n",
       "    events.on('clear_output.CodeCell', handleClearOutput);\n",
       "    events.on('delete.Cell', handleClearOutput);\n",
       "\n",
       "    /* Handle when a new output is added */\n",
       "    events.on('output_added.OutputArea', handleAddOutput);\n",
       "\n",
       "    /**\n",
       "     * Register the mime type and append_mime function with output_area\n",
       "     */\n",
       "    OutputArea.prototype.register_mime_type(EXEC_MIME_TYPE, append_mime, {\n",
       "      /* Is output safe? */\n",
       "      safe: true,\n",
       "      /* Index of renderer in `output_area.display_order` */\n",
       "      index: 0\n",
       "    });\n",
       "  }\n",
       "\n",
       "  // register the mime type if in Jupyter Notebook environment and previously unregistered\n",
       "  if (root.Jupyter !== undefined) {\n",
       "    var events = require('base/js/events');\n",
       "    var OutputArea = require('notebook/js/outputarea').OutputArea;\n",
       "\n",
       "    if (OutputArea.prototype.mime_types().indexOf(EXEC_MIME_TYPE) == -1) {\n",
       "      register_renderer(events, OutputArea);\n",
       "    }\n",
       "  }\n",
       "\n",
       "  \n",
       "  if (typeof (root._bokeh_timeout) === \"undefined\" || force === true) {\n",
       "    root._bokeh_timeout = Date.now() + 5000;\n",
       "    root._bokeh_failed_load = false;\n",
       "  }\n",
       "\n",
       "  var NB_LOAD_WARNING = {'data': {'text/html':\n",
       "     \"<div style='background-color: #fdd'>\\n\"+\n",
       "     \"<p>\\n\"+\n",
       "     \"BokehJS does not appear to have successfully loaded. If loading BokehJS from CDN, this \\n\"+\n",
       "     \"may be due to a slow or bad network connection. Possible fixes:\\n\"+\n",
       "     \"</p>\\n\"+\n",
       "     \"<ul>\\n\"+\n",
       "     \"<li>re-rerun `output_notebook()` to attempt to load from CDN again, or</li>\\n\"+\n",
       "     \"<li>use INLINE resources instead, as so:</li>\\n\"+\n",
       "     \"</ul>\\n\"+\n",
       "     \"<code>\\n\"+\n",
       "     \"from bokeh.resources import INLINE\\n\"+\n",
       "     \"output_notebook(resources=INLINE)\\n\"+\n",
       "     \"</code>\\n\"+\n",
       "     \"</div>\"}};\n",
       "\n",
       "  function display_loaded() {\n",
       "    var el = document.getElementById(\"1001\");\n",
       "    if (el != null) {\n",
       "      el.textContent = \"BokehJS is loading...\";\n",
       "    }\n",
       "    if (root.Bokeh !== undefined) {\n",
       "      if (el != null) {\n",
       "        el.textContent = \"BokehJS \" + root.Bokeh.version + \" successfully loaded.\";\n",
       "      }\n",
       "    } else if (Date.now() < root._bokeh_timeout) {\n",
       "      setTimeout(display_loaded, 100)\n",
       "    }\n",
       "  }\n",
       "\n",
       "\n",
       "  function run_callbacks() {\n",
       "    try {\n",
       "      root._bokeh_onload_callbacks.forEach(function(callback) {\n",
       "        if (callback != null)\n",
       "          callback();\n",
       "      });\n",
       "    } finally {\n",
       "      delete root._bokeh_onload_callbacks\n",
       "    }\n",
       "    console.debug(\"Bokeh: all callbacks have finished\");\n",
       "  }\n",
       "\n",
       "  function load_libs(css_urls, js_urls, callback) {\n",
       "    if (css_urls == null) css_urls = [];\n",
       "    if (js_urls == null) js_urls = [];\n",
       "\n",
       "    root._bokeh_onload_callbacks.push(callback);\n",
       "    if (root._bokeh_is_loading > 0) {\n",
       "      console.debug(\"Bokeh: BokehJS is being loaded, scheduling callback at\", now());\n",
       "      return null;\n",
       "    }\n",
       "    if (js_urls == null || js_urls.length === 0) {\n",
       "      run_callbacks();\n",
       "      return null;\n",
       "    }\n",
       "    console.debug(\"Bokeh: BokehJS not loaded, scheduling load and callback at\", now());\n",
       "    root._bokeh_is_loading = css_urls.length + js_urls.length;\n",
       "\n",
       "    function on_load() {\n",
       "      root._bokeh_is_loading--;\n",
       "      if (root._bokeh_is_loading === 0) {\n",
       "        console.debug(\"Bokeh: all BokehJS libraries/stylesheets loaded\");\n",
       "        run_callbacks()\n",
       "      }\n",
       "    }\n",
       "\n",
       "    function on_error() {\n",
       "      console.error(\"failed to load \" + url);\n",
       "    }\n",
       "\n",
       "    for (var i = 0; i < css_urls.length; i++) {\n",
       "      var url = css_urls[i];\n",
       "      const element = document.createElement(\"link\");\n",
       "      element.onload = on_load;\n",
       "      element.onerror = on_error;\n",
       "      element.rel = \"stylesheet\";\n",
       "      element.type = \"text/css\";\n",
       "      element.href = url;\n",
       "      console.debug(\"Bokeh: injecting link tag for BokehJS stylesheet: \", url);\n",
       "      document.body.appendChild(element);\n",
       "    }\n",
       "\n",
       "    const hashes = {\"https://cdn.bokeh.org/bokeh/release/bokeh-2.1.0.min.js\": \"YobFyzPeVUsFQydHkJGsJL1kyfHnWxOlPc3EwaV22TmBaeGoXHLWx5aRRVPS9xlE\", \"https://cdn.bokeh.org/bokeh/release/bokeh-widgets-2.1.0.min.js\": \"NuAg9+TcTQQqvQCTtkCneRrpkTiMhhfiq0KHiBzx8ECiKiLWXHN6i6ia3q7b3eHu\", \"https://cdn.bokeh.org/bokeh/release/bokeh-tables-2.1.0.min.js\": \"uMVqQc8JqHitD67bXTn9a06Mrk3EiHRaZ18EJENQenAKJ/KL71SakdXYomZQpGRr\", \"https://cdn.bokeh.org/bokeh/release/bokeh-gl-2.1.0.min.js\": \"u+eGuEXC8aw0VSCm2mH+b/tQEAitUOYiR1H6SuIVEdUmXsf4vN8m/SmXpmjb7U/X\"};\n",
       "\n",
       "    for (var i = 0; i < js_urls.length; i++) {\n",
       "      var url = js_urls[i];\n",
       "      var element = document.createElement('script');\n",
       "      element.onload = on_load;\n",
       "      element.onerror = on_error;\n",
       "      element.async = false;\n",
       "      element.src = url;\n",
       "      if (url in hashes) {\n",
       "        element.crossOrigin = \"anonymous\";\n",
       "        element.integrity = \"sha384-\" + hashes[url];\n",
       "      }\n",
       "      console.debug(\"Bokeh: injecting script tag for BokehJS library: \", url);\n",
       "      document.head.appendChild(element);\n",
       "    }\n",
       "  };\n",
       "\n",
       "  function inject_raw_css(css) {\n",
       "    const element = document.createElement(\"style\");\n",
       "    element.appendChild(document.createTextNode(css));\n",
       "    document.body.appendChild(element);\n",
       "  }\n",
       "\n",
       "  \n",
       "  var js_urls = [\"https://cdn.bokeh.org/bokeh/release/bokeh-2.1.0.min.js\", \"https://cdn.bokeh.org/bokeh/release/bokeh-widgets-2.1.0.min.js\", \"https://cdn.bokeh.org/bokeh/release/bokeh-tables-2.1.0.min.js\", \"https://cdn.bokeh.org/bokeh/release/bokeh-gl-2.1.0.min.js\"];\n",
       "  var css_urls = [];\n",
       "  \n",
       "\n",
       "  var inline_js = [\n",
       "    function(Bokeh) {\n",
       "      Bokeh.set_log_level(\"info\");\n",
       "    },\n",
       "    function(Bokeh) {\n",
       "    \n",
       "    \n",
       "    }\n",
       "  ];\n",
       "\n",
       "  function run_inline_js() {\n",
       "    \n",
       "    if (root.Bokeh !== undefined || force === true) {\n",
       "      \n",
       "    for (var i = 0; i < inline_js.length; i++) {\n",
       "      inline_js[i].call(root, root.Bokeh);\n",
       "    }\n",
       "    if (force === true) {\n",
       "        display_loaded();\n",
       "      }} else if (Date.now() < root._bokeh_timeout) {\n",
       "      setTimeout(run_inline_js, 100);\n",
       "    } else if (!root._bokeh_failed_load) {\n",
       "      console.log(\"Bokeh: BokehJS failed to load within specified timeout.\");\n",
       "      root._bokeh_failed_load = true;\n",
       "    } else if (force !== true) {\n",
       "      var cell = $(document.getElementById(\"1001\")).parents('.cell').data().cell;\n",
       "      cell.output_area.append_execute_result(NB_LOAD_WARNING)\n",
       "    }\n",
       "\n",
       "  }\n",
       "\n",
       "  if (root._bokeh_is_loading === 0) {\n",
       "    console.debug(\"Bokeh: BokehJS loaded, going straight to plotting\");\n",
       "    run_inline_js();\n",
       "  } else {\n",
       "    load_libs(css_urls, js_urls, function() {\n",
       "      console.debug(\"Bokeh: BokehJS plotting callback run at\", now());\n",
       "      run_inline_js();\n",
       "    });\n",
       "  }\n",
       "}(window));"
      ],
      "application/vnd.bokehjs_load.v0+json": "\n(function(root) {\n  function now() {\n    return new Date();\n  }\n\n  var force = true;\n\n  if (typeof root._bokeh_onload_callbacks === \"undefined\" || force === true) {\n    root._bokeh_onload_callbacks = [];\n    root._bokeh_is_loading = undefined;\n  }\n\n  \n\n  \n  if (typeof (root._bokeh_timeout) === \"undefined\" || force === true) {\n    root._bokeh_timeout = Date.now() + 5000;\n    root._bokeh_failed_load = false;\n  }\n\n  var NB_LOAD_WARNING = {'data': {'text/html':\n     \"<div style='background-color: #fdd'>\\n\"+\n     \"<p>\\n\"+\n     \"BokehJS does not appear to have successfully loaded. If loading BokehJS from CDN, this \\n\"+\n     \"may be due to a slow or bad network connection. Possible fixes:\\n\"+\n     \"</p>\\n\"+\n     \"<ul>\\n\"+\n     \"<li>re-rerun `output_notebook()` to attempt to load from CDN again, or</li>\\n\"+\n     \"<li>use INLINE resources instead, as so:</li>\\n\"+\n     \"</ul>\\n\"+\n     \"<code>\\n\"+\n     \"from bokeh.resources import INLINE\\n\"+\n     \"output_notebook(resources=INLINE)\\n\"+\n     \"</code>\\n\"+\n     \"</div>\"}};\n\n  function display_loaded() {\n    var el = document.getElementById(\"1001\");\n    if (el != null) {\n      el.textContent = \"BokehJS is loading...\";\n    }\n    if (root.Bokeh !== undefined) {\n      if (el != null) {\n        el.textContent = \"BokehJS \" + root.Bokeh.version + \" successfully loaded.\";\n      }\n    } else if (Date.now() < root._bokeh_timeout) {\n      setTimeout(display_loaded, 100)\n    }\n  }\n\n\n  function run_callbacks() {\n    try {\n      root._bokeh_onload_callbacks.forEach(function(callback) {\n        if (callback != null)\n          callback();\n      });\n    } finally {\n      delete root._bokeh_onload_callbacks\n    }\n    console.debug(\"Bokeh: all callbacks have finished\");\n  }\n\n  function load_libs(css_urls, js_urls, callback) {\n    if (css_urls == null) css_urls = [];\n    if (js_urls == null) js_urls = [];\n\n    root._bokeh_onload_callbacks.push(callback);\n    if (root._bokeh_is_loading > 0) {\n      console.debug(\"Bokeh: BokehJS is being loaded, scheduling callback at\", now());\n      return null;\n    }\n    if (js_urls == null || js_urls.length === 0) {\n      run_callbacks();\n      return null;\n    }\n    console.debug(\"Bokeh: BokehJS not loaded, scheduling load and callback at\", now());\n    root._bokeh_is_loading = css_urls.length + js_urls.length;\n\n    function on_load() {\n      root._bokeh_is_loading--;\n      if (root._bokeh_is_loading === 0) {\n        console.debug(\"Bokeh: all BokehJS libraries/stylesheets loaded\");\n        run_callbacks()\n      }\n    }\n\n    function on_error() {\n      console.error(\"failed to load \" + url);\n    }\n\n    for (var i = 0; i < css_urls.length; i++) {\n      var url = css_urls[i];\n      const element = document.createElement(\"link\");\n      element.onload = on_load;\n      element.onerror = on_error;\n      element.rel = \"stylesheet\";\n      element.type = \"text/css\";\n      element.href = url;\n      console.debug(\"Bokeh: injecting link tag for BokehJS stylesheet: \", url);\n      document.body.appendChild(element);\n    }\n\n    const hashes = {\"https://cdn.bokeh.org/bokeh/release/bokeh-2.1.0.min.js\": \"YobFyzPeVUsFQydHkJGsJL1kyfHnWxOlPc3EwaV22TmBaeGoXHLWx5aRRVPS9xlE\", \"https://cdn.bokeh.org/bokeh/release/bokeh-widgets-2.1.0.min.js\": \"NuAg9+TcTQQqvQCTtkCneRrpkTiMhhfiq0KHiBzx8ECiKiLWXHN6i6ia3q7b3eHu\", \"https://cdn.bokeh.org/bokeh/release/bokeh-tables-2.1.0.min.js\": \"uMVqQc8JqHitD67bXTn9a06Mrk3EiHRaZ18EJENQenAKJ/KL71SakdXYomZQpGRr\", \"https://cdn.bokeh.org/bokeh/release/bokeh-gl-2.1.0.min.js\": \"u+eGuEXC8aw0VSCm2mH+b/tQEAitUOYiR1H6SuIVEdUmXsf4vN8m/SmXpmjb7U/X\"};\n\n    for (var i = 0; i < js_urls.length; i++) {\n      var url = js_urls[i];\n      var element = document.createElement('script');\n      element.onload = on_load;\n      element.onerror = on_error;\n      element.async = false;\n      element.src = url;\n      if (url in hashes) {\n        element.crossOrigin = \"anonymous\";\n        element.integrity = \"sha384-\" + hashes[url];\n      }\n      console.debug(\"Bokeh: injecting script tag for BokehJS library: \", url);\n      document.head.appendChild(element);\n    }\n  };\n\n  function inject_raw_css(css) {\n    const element = document.createElement(\"style\");\n    element.appendChild(document.createTextNode(css));\n    document.body.appendChild(element);\n  }\n\n  \n  var js_urls = [\"https://cdn.bokeh.org/bokeh/release/bokeh-2.1.0.min.js\", \"https://cdn.bokeh.org/bokeh/release/bokeh-widgets-2.1.0.min.js\", \"https://cdn.bokeh.org/bokeh/release/bokeh-tables-2.1.0.min.js\", \"https://cdn.bokeh.org/bokeh/release/bokeh-gl-2.1.0.min.js\"];\n  var css_urls = [];\n  \n\n  var inline_js = [\n    function(Bokeh) {\n      Bokeh.set_log_level(\"info\");\n    },\n    function(Bokeh) {\n    \n    \n    }\n  ];\n\n  function run_inline_js() {\n    \n    if (root.Bokeh !== undefined || force === true) {\n      \n    for (var i = 0; i < inline_js.length; i++) {\n      inline_js[i].call(root, root.Bokeh);\n    }\n    if (force === true) {\n        display_loaded();\n      }} else if (Date.now() < root._bokeh_timeout) {\n      setTimeout(run_inline_js, 100);\n    } else if (!root._bokeh_failed_load) {\n      console.log(\"Bokeh: BokehJS failed to load within specified timeout.\");\n      root._bokeh_failed_load = true;\n    } else if (force !== true) {\n      var cell = $(document.getElementById(\"1001\")).parents('.cell').data().cell;\n      cell.output_area.append_execute_result(NB_LOAD_WARNING)\n    }\n\n  }\n\n  if (root._bokeh_is_loading === 0) {\n    console.debug(\"Bokeh: BokehJS loaded, going straight to plotting\");\n    run_inline_js();\n  } else {\n    load_libs(css_urls, js_urls, function() {\n      console.debug(\"Bokeh: BokehJS plotting callback run at\", now());\n      run_inline_js();\n    });\n  }\n}(window));"
     },
     "metadata": {},
     "output_type": "display_data"
    }
   ],
   "source": [
    "# imports -- don't forget to run this cell\n",
    "from tsp import *\n",
    "from bokeh.io import output_notebook\n",
    "output_notebook()"
   ]
  },
  {
   "cell_type": "code",
   "execution_count": 2,
   "metadata": {},
   "outputs": [
    {
     "data": {
      "text/html": [
       "\n",
       "\n",
       "\n",
       "\n",
       "\n",
       "\n",
       "  <div class=\"bk-root\" id=\"417e4a02-94db-43bd-be9e-ec6b8c8da5fc\" data-root-id=\"1058\"></div>\n"
      ]
     },
     "metadata": {},
     "output_type": "display_data"
    },
    {
     "data": {
      "application/javascript": [
       "(function(root) {\n",
       "  function embed_document(root) {\n",
       "    \n",
       "  var docs_json = {\"2b68dbdb-dac8-4d1a-85e6-0e70de50bce7\":{\"roots\":{\"references\":[{\"attributes\":{\"children\":[[{\"id\":\"1002\"},0,0],[{\"id\":\"1036\"},1,0]]},\"id\":\"1058\",\"type\":\"GridBox\"},{\"attributes\":{},\"id\":\"1021\",\"type\":\"PanTool\"},{\"attributes\":{\"end\":15.19,\"start\":-1.1900000000000002},\"id\":\"1005\",\"type\":\"Range1d\"},{\"attributes\":{\"data_source\":{\"id\":\"1042\"},\"glyph\":{\"id\":\"1043\"},\"hover_glyph\":null,\"muted_glyph\":null,\"nonselection_glyph\":{\"id\":\"1044\"},\"selection_glyph\":null,\"view\":{\"id\":\"1046\"}},\"id\":\"1045\",\"type\":\"GlyphRenderer\"},{\"attributes\":{},\"id\":\"1022\",\"type\":\"WheelZoomTool\"},{\"attributes\":{\"overlay\":{\"id\":\"1027\"}},\"id\":\"1023\",\"type\":\"BoxZoomTool\"},{\"attributes\":{\"fill_alpha\":{\"value\":0.1},\"fill_color\":{\"value\":\"steelblue\"},\"line_alpha\":{\"value\":0.1},\"line_color\":{\"value\":\"steelblue\"},\"size\":{\"units\":\"screen\",\"value\":8},\"x\":{\"field\":\"x\"},\"y\":{\"field\":\"y\"}},\"id\":\"1044\",\"type\":\"Circle\"},{\"attributes\":{},\"id\":\"1009\",\"type\":\"LinearScale\"},{\"attributes\":{},\"id\":\"1024\",\"type\":\"SaveTool\"},{\"attributes\":{},\"id\":\"1011\",\"type\":\"LinearScale\"},{\"attributes\":{\"source\":{\"id\":\"1042\"}},\"id\":\"1046\",\"type\":\"CDSView\"},{\"attributes\":{},\"id\":\"1025\",\"type\":\"ResetTool\"},{\"attributes\":{},\"id\":\"1014\",\"type\":\"BasicTicker\"},{\"attributes\":{},\"id\":\"1026\",\"type\":\"HelpTool\"},{\"attributes\":{\"text\":\"\"},\"id\":\"1003\",\"type\":\"Title\"},{\"attributes\":{},\"id\":\"1055\",\"type\":\"UnionRenderers\"},{\"attributes\":{},\"id\":\"1054\",\"type\":\"Selection\"},{\"attributes\":{},\"id\":\"1056\",\"type\":\"Selection\"},{\"attributes\":{\"active_drag\":\"auto\",\"active_inspect\":\"auto\",\"active_multi\":null,\"active_scroll\":\"auto\",\"active_tap\":\"auto\",\"logo\":null,\"tools\":[{\"id\":\"1021\"},{\"id\":\"1022\"},{\"id\":\"1023\"},{\"id\":\"1024\"},{\"id\":\"1025\"},{\"id\":\"1026\"}]},\"id\":\"1028\",\"type\":\"Toolbar\"},{\"attributes\":{\"background_fill_color\":null,\"below\":[{\"id\":\"1013\"}],\"border_fill_color\":null,\"center\":[{\"id\":\"1016\"},{\"id\":\"1020\"}],\"left\":[{\"id\":\"1017\"}],\"outline_line_color\":null,\"plot_height\":400,\"plot_width\":400,\"renderers\":[{\"id\":\"1040\"},{\"id\":\"1045\"}],\"title\":{\"id\":\"1003\"},\"toolbar\":{\"id\":\"1028\"},\"toolbar_location\":null,\"x_range\":{\"id\":\"1005\"},\"x_scale\":{\"id\":\"1009\"},\"y_range\":{\"id\":\"1007\"},\"y_scale\":{\"id\":\"1011\"}},\"id\":\"1002\",\"subtype\":\"Figure\",\"type\":\"Plot\"},{\"attributes\":{\"formatter\":{\"id\":\"1049\"},\"ticker\":{\"id\":\"1014\"},\"visible\":false},\"id\":\"1013\",\"type\":\"LinearAxis\"},{\"attributes\":{},\"id\":\"1051\",\"type\":\"BasicTickFormatter\"},{\"attributes\":{},\"id\":\"1053\",\"type\":\"UnionRenderers\"},{\"attributes\":{\"end\":15.19,\"start\":-1.1900000000000002},\"id\":\"1007\",\"type\":\"Range1d\"},{\"attributes\":{},\"id\":\"1049\",\"type\":\"BasicTickFormatter\"},{\"attributes\":{\"bottom_units\":\"screen\",\"fill_alpha\":0.5,\"fill_color\":\"lightgrey\",\"left_units\":\"screen\",\"level\":\"overlay\",\"line_alpha\":1.0,\"line_color\":\"black\",\"line_dash\":[4,4],\"line_width\":2,\"right_units\":\"screen\",\"top_units\":\"screen\"},\"id\":\"1027\",\"type\":\"BoxAnnotation\"},{\"attributes\":{\"data\":{\"x\":[0.0,0.0,0.0,0.0,0.0,0.0,0.0,0.0,0.0,0.0,0.0,0.0,0.0,0.0,0.0,1.0,1.0,1.0,1.0,1.0,1.0,1.0,1.0,1.0,1.0,1.0,1.0,1.0,1.0,1.0,2.0,2.0,2.0,2.0,2.0,2.0,2.0,2.0,2.0,2.0,2.0,2.0,2.0,2.0,2.0,3.0,3.0,3.0,3.0,3.0,3.0,3.0,3.0,3.0,3.0,3.0,3.0,3.0,3.0,3.0,4.0,4.0,4.0,4.0,4.0,4.0,4.0,4.0,4.0,4.0,4.0,4.0,4.0,4.0,4.0,5.0,5.0,5.0,5.0,5.0,5.0,5.0,5.0,5.0,5.0,5.0,5.0,5.0,5.0,5.0,6.0,6.0,6.0,6.0,6.0,6.0,6.0,6.0,6.0,6.0,6.0,6.0,6.0,6.0,6.0,7.0,7.0,7.0,7.0,7.0,7.0,7.0,7.0,7.0,7.0,7.0,7.0,7.0,7.0,7.0,8.0,8.0,8.0,8.0,8.0,8.0,8.0,8.0,8.0,8.0,8.0,8.0,8.0,8.0,8.0,9.0,9.0,9.0,9.0,9.0,9.0,9.0,9.0,9.0,9.0,9.0,9.0,9.0,9.0,9.0,10.0,10.0,10.0,10.0,10.0,10.0,10.0,10.0,10.0,10.0,10.0,10.0,10.0,10.0,10.0,11.0,11.0,11.0,11.0,11.0,11.0,11.0,11.0,11.0,11.0,11.0,11.0,11.0,11.0,11.0,12.0,12.0,12.0,12.0,12.0,12.0,12.0,12.0,12.0,12.0,12.0,12.0,12.0,12.0,12.0,13.0,13.0,13.0,13.0,13.0,13.0,13.0,13.0,13.0,13.0,13.0,13.0,13.0,13.0,13.0,14.0,14.0,14.0,14.0,14.0,14.0,14.0,14.0,14.0,14.0,14.0,14.0,14.0,14.0,14.0],\"y\":[0.0,1.0,2.0,3.0,4.0,5.0,6.0,7.0,8.0,9.0,10.0,11.0,12.0,13.0,14.0,0.0,1.0,2.0,3.0,4.0,5.0,6.0,7.0,8.0,9.0,10.0,11.0,12.0,13.0,14.0,0.0,1.0,2.0,3.0,4.0,5.0,6.0,7.0,8.0,9.0,10.0,11.0,12.0,13.0,14.0,0.0,1.0,2.0,3.0,4.0,5.0,6.0,7.0,8.0,9.0,10.0,11.0,12.0,13.0,14.0,0.0,1.0,2.0,3.0,4.0,5.0,6.0,7.0,8.0,9.0,10.0,11.0,12.0,13.0,14.0,0.0,1.0,2.0,3.0,4.0,5.0,6.0,7.0,8.0,9.0,10.0,11.0,12.0,13.0,14.0,0.0,1.0,2.0,3.0,4.0,5.0,6.0,7.0,8.0,9.0,10.0,11.0,12.0,13.0,14.0,0.0,1.0,2.0,3.0,4.0,5.0,6.0,7.0,8.0,9.0,10.0,11.0,12.0,13.0,14.0,0.0,1.0,2.0,3.0,4.0,5.0,6.0,7.0,8.0,9.0,10.0,11.0,12.0,13.0,14.0,0.0,1.0,2.0,3.0,4.0,5.0,6.0,7.0,8.0,9.0,10.0,11.0,12.0,13.0,14.0,0.0,1.0,2.0,3.0,4.0,5.0,6.0,7.0,8.0,9.0,10.0,11.0,12.0,13.0,14.0,0.0,1.0,2.0,3.0,4.0,5.0,6.0,7.0,8.0,9.0,10.0,11.0,12.0,13.0,14.0,0.0,1.0,2.0,3.0,4.0,5.0,6.0,7.0,8.0,9.0,10.0,11.0,12.0,13.0,14.0,0.0,1.0,2.0,3.0,4.0,5.0,6.0,7.0,8.0,9.0,10.0,11.0,12.0,13.0,14.0,0.0,1.0,2.0,3.0,4.0,5.0,6.0,7.0,8.0,9.0,10.0,11.0,12.0,13.0,14.0]},\"selected\":{\"id\":\"1056\"},\"selection_policy\":{\"id\":\"1055\"}},\"id\":\"1042\",\"type\":\"ColumnDataSource\"},{\"attributes\":{\"axis\":{\"id\":\"1013\"},\"grid_line_color\":null,\"ticker\":null},\"id\":\"1016\",\"type\":\"Grid\"},{\"attributes\":{\"line_alpha\":0.1,\"line_width\":4,\"x\":{\"field\":\"x\"},\"y\":{\"field\":\"y\"}},\"id\":\"1039\",\"type\":\"Line\"},{\"attributes\":{\"formatter\":{\"id\":\"1051\"},\"ticker\":{\"id\":\"1018\"},\"visible\":false},\"id\":\"1017\",\"type\":\"LinearAxis\"},{\"attributes\":{\"line_width\":4,\"x\":{\"field\":\"x\"},\"y\":{\"field\":\"y\"}},\"id\":\"1038\",\"type\":\"Line\"},{\"attributes\":{},\"id\":\"1018\",\"type\":\"BasicTicker\"},{\"attributes\":{\"data_source\":{\"id\":\"1037\"},\"glyph\":{\"id\":\"1038\"},\"hover_glyph\":null,\"muted_glyph\":null,\"nonselection_glyph\":{\"id\":\"1039\"},\"selection_glyph\":null,\"view\":{\"id\":\"1041\"}},\"id\":\"1040\",\"type\":\"GlyphRenderer\"},{\"attributes\":{\"axis\":{\"id\":\"1017\"},\"dimension\":1,\"grid_line_color\":null,\"ticker\":null},\"id\":\"1020\",\"type\":\"Grid\"},{\"attributes\":{\"source\":{\"id\":\"1037\"}},\"id\":\"1041\",\"type\":\"CDSView\"},{\"attributes\":{\"data\":{\"x\":[0.0,1.0,1.0,2.0,3.0,3.0,2.0,4.0,5.0,6.0,7.0,8.0,8.0,9.0,9.0,10.0,10.0,10.0,11.0,12.0,12.0,11.0,11.0,12.0,12.0,13.0,14.0,14.0,13.0,13.0,13.0,14.0,14.0,14.0,13.0,12.0,12.0,11.0,11.0,10.0,10.0,9.0,9.0,10.0,10.0,10.0,9.0,8.0,8.0,8.0,9.0,10.0,11.0,11.0,10.0,9.0,7.0,6.0,6.0,7.0,7.0,8.0,8.0,9.0,9.0,9.0,10.0,11.0,12.0,12.0,12.0,11.0,10.0,10.0,9.0,11.0,12.0,13.0,13.0,12.0,12.0,13.0,13.0,13.0,14.0,14.0,14.0,13.0,13.0,12.0,12.0,12.0,11.0,11.0,11.0,9.0,8.0,8.0,7.0,7.0,6.0,6.0,6.0,5.0,4.0,3.0,3.0,4.0,5.0,6.0,7.0,7.0,8.0,8.0,9.0,10.0,11.0,9.0,8.0,8.0,7.0,5.0,5.0,5.0,5.0,5.0,6.0,6.0,6.0,7.0,7.0,5.0,5.0,5.0,5.0,4.0,4.0,5.0,5.0,4.0,3.0,3.0,2.0,2.0,1.0,0.0,0.0,0.0,1.0,2.0,1.0,1.0,1.0,0.0,0.0,1.0,2.0,2.0,1.0,1.0,0.0,0.0,0.0,0.0,1.0,1.0,0.0,0.0,0.0,1.0,2.0,2.0,2.0,2.0,2.0,2.0,3.0,4.0,4.0,4.0,3.0,3.0,3.0,4.0,4.0,3.0,3.0,4.0,4.0,3.0,2.0,2.0,0.0,3.0,6.0,6.0,7.0,7.0,6.0,6.0,7.0,8.0,8.0,10.0,11.0,13.0,14.0,14.0,13.0,13.0,14.0,14.0,14.0,14.0,14.0,9.0,7.0,6.0,5.0,4.0,4.0,3.0,1.0,0.0,1.0,0.0],\"y\":[0.0,0.0,1.0,1.0,1.0,0.0,0.0,0.0,0.0,0.0,0.0,0.0,1.0,1.0,2.0,2.0,1.0,0.0,0.0,0.0,1.0,1.0,2.0,2.0,3.0,3.0,3.0,2.0,2.0,1.0,0.0,0.0,1.0,4.0,4.0,4.0,5.0,5.0,4.0,4.0,5.0,5.0,6.0,6.0,7.0,8.0,8.0,8.0,9.0,10.0,10.0,10.0,10.0,9.0,9.0,9.0,9.0,9.0,10.0,10.0,11.0,11.0,12.0,12.0,13.0,14.0,14.0,14.0,14.0,13.0,12.0,12.0,12.0,11.0,11.0,11.0,11.0,11.0,10.0,10.0,9.0,9.0,8.0,7.0,7.0,6.0,5.0,5.0,6.0,6.0,7.0,8.0,8.0,7.0,6.0,7.0,7.0,6.0,6.0,5.0,5.0,4.0,3.0,3.0,3.0,3.0,2.0,2.0,2.0,2.0,2.0,3.0,3.0,2.0,3.0,3.0,3.0,4.0,4.0,5.0,4.0,4.0,5.0,6.0,7.0,8.0,8.0,7.0,6.0,7.0,8.0,9.0,10.0,11.0,12.0,12.0,13.0,13.0,14.0,14.0,14.0,13.0,13.0,12.0,12.0,12.0,13.0,14.0,14.0,14.0,13.0,11.0,10.0,10.0,9.0,9.0,9.0,8.0,8.0,7.0,7.0,8.0,6.0,5.0,5.0,4.0,4.0,3.0,2.0,2.0,2.0,3.0,4.0,5.0,6.0,7.0,7.0,7.0,6.0,5.0,5.0,6.0,8.0,8.0,9.0,9.0,10.0,10.0,11.0,11.0,11.0,10.0,11.0,12.0,12.0,11.0,12.0,13.0,13.0,14.0,14.0,14.0,13.0,13.0,13.0,13.0,13.0,14.0,14.0,12.0,12.0,11.0,10.0,9.0,8.0,0.0,1.0,1.0,1.0,1.0,4.0,4.0,3.0,1.0,6.0,0.0]},\"selected\":{\"id\":\"1054\"},\"selection_policy\":{\"id\":\"1053\"}},\"id\":\"1037\",\"type\":\"ColumnDataSource\"},{\"attributes\":{\"align\":\"center\",\"text\":\"271.5\",\"width\":400},\"id\":\"1036\",\"type\":\"Div\"},{\"attributes\":{\"fill_color\":{\"value\":\"steelblue\"},\"line_color\":{\"value\":\"steelblue\"},\"size\":{\"units\":\"screen\",\"value\":8},\"x\":{\"field\":\"x\"},\"y\":{\"field\":\"y\"}},\"id\":\"1043\",\"type\":\"Circle\"}],\"root_ids\":[\"1058\"]},\"title\":\"Bokeh Application\",\"version\":\"2.1.0\"}};\n",
       "  var render_items = [{\"docid\":\"2b68dbdb-dac8-4d1a-85e6-0e70de50bce7\",\"root_ids\":[\"1058\"],\"roots\":{\"1058\":\"417e4a02-94db-43bd-be9e-ec6b8c8da5fc\"}}];\n",
       "  root.Bokeh.embed.embed_items_notebook(docs_json, render_items);\n",
       "\n",
       "  }\n",
       "  if (root.Bokeh !== undefined) {\n",
       "    embed_document(root);\n",
       "  } else {\n",
       "    var attempts = 0;\n",
       "    var timer = setInterval(function(root) {\n",
       "      if (root.Bokeh !== undefined) {\n",
       "        clearInterval(timer);\n",
       "        embed_document(root);\n",
       "      } else {\n",
       "        attempts++;\n",
       "        if (attempts > 100) {\n",
       "          clearInterval(timer);\n",
       "          console.log(\"Bokeh: ERROR: Unable to run BokehJS code because BokehJS library is missing\");\n",
       "        }\n",
       "      }\n",
       "    }, 10, root)\n",
       "  }\n",
       "})(window);"
      ],
      "application/vnd.bokehjs_exec.v0+json": ""
     },
     "metadata": {
      "application/vnd.bokehjs_exec.v0+json": {
       "id": "1058"
      }
     },
     "output_type": "display_data"
    },
    {
     "data": {
      "text/html": [
       "\n",
       "\n",
       "\n",
       "\n",
       "\n",
       "\n",
       "  <div class=\"bk-root\" id=\"c340cf95-94b2-45c0-8068-d390fe994e72\" data-root-id=\"1185\"></div>\n"
      ]
     },
     "metadata": {},
     "output_type": "display_data"
    },
    {
     "data": {
      "application/javascript": [
       "(function(root) {\n",
       "  function embed_document(root) {\n",
       "    \n",
       "  var docs_json = {\"fd954ef9-f2e8-4b0e-9c50-e7601e5b052c\":{\"roots\":{\"references\":[{\"attributes\":{\"children\":[[{\"id\":\"1129\"},0,0],[{\"id\":\"1163\"},1,0]]},\"id\":\"1185\",\"type\":\"GridBox\"},{\"attributes\":{\"axis\":{\"id\":\"1140\"},\"grid_line_color\":null,\"ticker\":null},\"id\":\"1143\",\"type\":\"Grid\"},{\"attributes\":{\"data_source\":{\"id\":\"1164\"},\"glyph\":{\"id\":\"1165\"},\"hover_glyph\":null,\"muted_glyph\":null,\"nonselection_glyph\":{\"id\":\"1166\"},\"selection_glyph\":null,\"view\":{\"id\":\"1168\"}},\"id\":\"1167\",\"type\":\"GlyphRenderer\"},{\"attributes\":{},\"id\":\"1141\",\"type\":\"BasicTicker\"},{\"attributes\":{},\"id\":\"1183\",\"type\":\"Selection\"},{\"attributes\":{\"source\":{\"id\":\"1164\"}},\"id\":\"1168\",\"type\":\"CDSView\"},{\"attributes\":{},\"id\":\"1138\",\"type\":\"LinearScale\"},{\"attributes\":{\"data\":{\"x\":[0.0,0.0,0.0,0.0,0.0,0.0,0.0,0.0,0.0,0.0,0.0,0.0,0.0,0.0,0.0,1.0,1.0,1.0,1.0,1.0,1.0,1.0,1.0,1.0,1.0,1.0,1.0,1.0,1.0,1.0,2.0,2.0,2.0,2.0,2.0,2.0,2.0,2.0,2.0,2.0,2.0,2.0,2.0,2.0,2.0,3.0,3.0,3.0,3.0,3.0,3.0,3.0,3.0,3.0,3.0,3.0,3.0,3.0,3.0,3.0,4.0,4.0,4.0,4.0,4.0,4.0,4.0,4.0,4.0,4.0,4.0,4.0,4.0,4.0,4.0,5.0,5.0,5.0,5.0,5.0,5.0,5.0,5.0,5.0,5.0,5.0,5.0,5.0,5.0,5.0,6.0,6.0,6.0,6.0,6.0,6.0,6.0,6.0,6.0,6.0,6.0,6.0,6.0,6.0,6.0,7.0,7.0,7.0,7.0,7.0,7.0,7.0,7.0,7.0,7.0,7.0,7.0,7.0,7.0,7.0,8.0,8.0,8.0,8.0,8.0,8.0,8.0,8.0,8.0,8.0,8.0,8.0,8.0,8.0,8.0,9.0,9.0,9.0,9.0,9.0,9.0,9.0,9.0,9.0,9.0,9.0,9.0,9.0,9.0,9.0,10.0,10.0,10.0,10.0,10.0,10.0,10.0,10.0,10.0,10.0,10.0,10.0,10.0,10.0,10.0,11.0,11.0,11.0,11.0,11.0,11.0,11.0,11.0,11.0,11.0,11.0,11.0,11.0,11.0,11.0,12.0,12.0,12.0,12.0,12.0,12.0,12.0,12.0,12.0,12.0,12.0,12.0,12.0,12.0,12.0,13.0,13.0,13.0,13.0,13.0,13.0,13.0,13.0,13.0,13.0,13.0,13.0,13.0,13.0,13.0,14.0,14.0,14.0,14.0,14.0,14.0,14.0,14.0,14.0,14.0,14.0,14.0,14.0,14.0,14.0],\"y\":[0.0,1.0,2.0,3.0,4.0,5.0,6.0,7.0,8.0,9.0,10.0,11.0,12.0,13.0,14.0,0.0,1.0,2.0,3.0,4.0,5.0,6.0,7.0,8.0,9.0,10.0,11.0,12.0,13.0,14.0,0.0,1.0,2.0,3.0,4.0,5.0,6.0,7.0,8.0,9.0,10.0,11.0,12.0,13.0,14.0,0.0,1.0,2.0,3.0,4.0,5.0,6.0,7.0,8.0,9.0,10.0,11.0,12.0,13.0,14.0,0.0,1.0,2.0,3.0,4.0,5.0,6.0,7.0,8.0,9.0,10.0,11.0,12.0,13.0,14.0,0.0,1.0,2.0,3.0,4.0,5.0,6.0,7.0,8.0,9.0,10.0,11.0,12.0,13.0,14.0,0.0,1.0,2.0,3.0,4.0,5.0,6.0,7.0,8.0,9.0,10.0,11.0,12.0,13.0,14.0,0.0,1.0,2.0,3.0,4.0,5.0,6.0,7.0,8.0,9.0,10.0,11.0,12.0,13.0,14.0,0.0,1.0,2.0,3.0,4.0,5.0,6.0,7.0,8.0,9.0,10.0,11.0,12.0,13.0,14.0,0.0,1.0,2.0,3.0,4.0,5.0,6.0,7.0,8.0,9.0,10.0,11.0,12.0,13.0,14.0,0.0,1.0,2.0,3.0,4.0,5.0,6.0,7.0,8.0,9.0,10.0,11.0,12.0,13.0,14.0,0.0,1.0,2.0,3.0,4.0,5.0,6.0,7.0,8.0,9.0,10.0,11.0,12.0,13.0,14.0,0.0,1.0,2.0,3.0,4.0,5.0,6.0,7.0,8.0,9.0,10.0,11.0,12.0,13.0,14.0,0.0,1.0,2.0,3.0,4.0,5.0,6.0,7.0,8.0,9.0,10.0,11.0,12.0,13.0,14.0,0.0,1.0,2.0,3.0,4.0,5.0,6.0,7.0,8.0,9.0,10.0,11.0,12.0,13.0,14.0]},\"selected\":{\"id\":\"1183\"},\"selection_policy\":{\"id\":\"1182\"}},\"id\":\"1169\",\"type\":\"ColumnDataSource\"},{\"attributes\":{\"fill_color\":{\"value\":\"steelblue\"},\"line_color\":{\"value\":\"steelblue\"},\"size\":{\"units\":\"screen\",\"value\":8},\"x\":{\"field\":\"x\"},\"y\":{\"field\":\"y\"}},\"id\":\"1170\",\"type\":\"Circle\"},{\"attributes\":{\"formatter\":{\"id\":\"1176\"},\"ticker\":{\"id\":\"1141\"},\"visible\":false},\"id\":\"1140\",\"type\":\"LinearAxis\"},{\"attributes\":{},\"id\":\"1181\",\"type\":\"Selection\"},{\"attributes\":{},\"id\":\"1182\",\"type\":\"UnionRenderers\"},{\"attributes\":{\"fill_alpha\":{\"value\":0.1},\"fill_color\":{\"value\":\"steelblue\"},\"line_alpha\":{\"value\":0.1},\"line_color\":{\"value\":\"steelblue\"},\"size\":{\"units\":\"screen\",\"value\":8},\"x\":{\"field\":\"x\"},\"y\":{\"field\":\"y\"}},\"id\":\"1171\",\"type\":\"Circle\"},{\"attributes\":{},\"id\":\"1145\",\"type\":\"BasicTicker\"},{\"attributes\":{\"data_source\":{\"id\":\"1169\"},\"glyph\":{\"id\":\"1170\"},\"hover_glyph\":null,\"muted_glyph\":null,\"nonselection_glyph\":{\"id\":\"1171\"},\"selection_glyph\":null,\"view\":{\"id\":\"1173\"}},\"id\":\"1172\",\"type\":\"GlyphRenderer\"},{\"attributes\":{\"background_fill_color\":null,\"below\":[{\"id\":\"1140\"}],\"border_fill_color\":null,\"center\":[{\"id\":\"1143\"},{\"id\":\"1147\"}],\"left\":[{\"id\":\"1144\"}],\"outline_line_color\":null,\"plot_height\":400,\"plot_width\":400,\"renderers\":[{\"id\":\"1167\"},{\"id\":\"1172\"}],\"title\":{\"id\":\"1130\"},\"toolbar\":{\"id\":\"1155\"},\"toolbar_location\":null,\"x_range\":{\"id\":\"1132\"},\"x_scale\":{\"id\":\"1136\"},\"y_range\":{\"id\":\"1134\"},\"y_scale\":{\"id\":\"1138\"}},\"id\":\"1129\",\"subtype\":\"Figure\",\"type\":\"Plot\"},{\"attributes\":{},\"id\":\"1148\",\"type\":\"PanTool\"},{\"attributes\":{},\"id\":\"1176\",\"type\":\"BasicTickFormatter\"},{\"attributes\":{\"formatter\":{\"id\":\"1178\"},\"ticker\":{\"id\":\"1145\"},\"visible\":false},\"id\":\"1144\",\"type\":\"LinearAxis\"},{\"attributes\":{\"axis\":{\"id\":\"1144\"},\"dimension\":1,\"grid_line_color\":null,\"ticker\":null},\"id\":\"1147\",\"type\":\"Grid\"},{\"attributes\":{\"line_alpha\":0.1,\"line_width\":4,\"x\":{\"field\":\"x\"},\"y\":{\"field\":\"y\"}},\"id\":\"1166\",\"type\":\"Line\"},{\"attributes\":{\"align\":\"center\",\"text\":\"237.8\",\"width\":400},\"id\":\"1163\",\"type\":\"Div\"},{\"attributes\":{\"source\":{\"id\":\"1169\"}},\"id\":\"1173\",\"type\":\"CDSView\"},{\"attributes\":{},\"id\":\"1180\",\"type\":\"UnionRenderers\"},{\"attributes\":{\"data\":{\"x\":[0.0,1.0,2.0,3.0,3.0,2.0,2.0,3.0,4.0,4.0,5.0,5.0,5.0,4.0,4.0,5.0,5.0,6.0,6.0,7.0,7.0,8.0,9.0,9.0,8.0,8.0,8.0,7.0,7.0,6.0,6.0,6.0,7.0,8.0,9.0,8.0,8.0,8.0,7.0,7.0,6.0,6.0,5.0,6.0,7.0,7.0,7.0,7.0,8.0,8.0,9.0,9.0,10.0,10.0,11.0,12.0,11.0,11.0,10.0,9.0,9.0,10.0,10.0,11.0,12.0,12.0,11.0,10.0,10.0,9.0,9.0,9.0,10.0,10.0,10.0,11.0,11.0,11.0,11.0,12.0,13.0,12.0,12.0,12.0,13.0,14.0,14.0,13.0,13.0,14.0,14.0,14.0,14.0,13.0,13.0,12.0,13.0,13.0,14.0,14.0,14.0,14.0,13.0,13.0,12.0,12.0,11.0,11.0,11.0,12.0,13.0,12.0,13.0,14.0,14.0,14.0,13.0,13.0,14.0,14.0,13.0,12.0,11.0,12.0,12.0,11.0,11.0,10.0,10.0,10.0,9.0,9.0,8.0,7.0,7.0,7.0,8.0,8.0,9.0,9.0,10.0,10.0,9.0,8.0,8.0,7.0,6.0,5.0,6.0,6.0,6.0,5.0,5.0,4.0,4.0,3.0,3.0,4.0,5.0,4.0,4.0,5.0,5.0,6.0,6.0,6.0,5.0,4.0,3.0,2.0,3.0,3.0,2.0,1.0,2.0,1.0,1.0,0.0,0.0,0.0,0.0,0.0,1.0,2.0,2.0,2.0,1.0,1.0,0.0,0.0,1.0,0.0,0.0,1.0,1.0,2.0,2.0,3.0,3.0,2.0,2.0,3.0,3.0,4.0,4.0,4.0,5.0,5.0,4.0,4.0,3.0,3.0,3.0,2.0,2.0,1.0,1.0,0.0,0.0,0.0,0.0,1.0,1.0,1.0,0.0,0.0],\"y\":[0.0,0.0,0.0,0.0,1.0,1.0,2.0,2.0,2.0,3.0,4.0,3.0,2.0,1.0,0.0,0.0,1.0,0.0,1.0,1.0,0.0,0.0,0.0,1.0,1.0,2.0,3.0,3.0,2.0,2.0,3.0,4.0,4.0,4.0,5.0,5.0,6.0,7.0,6.0,5.0,5.0,6.0,7.0,7.0,7.0,8.0,9.0,10.0,9.0,8.0,8.0,9.0,9.0,8.0,8.0,7.0,7.0,6.0,7.0,7.0,6.0,6.0,5.0,5.0,5.0,4.0,4.0,3.0,4.0,4.0,3.0,2.0,2.0,1.0,0.0,0.0,1.0,2.0,3.0,3.0,3.0,2.0,1.0,0.0,0.0,0.0,1.0,1.0,2.0,2.0,3.0,4.0,5.0,4.0,5.0,6.0,7.0,6.0,6.0,7.0,8.0,9.0,9.0,8.0,8.0,9.0,9.0,10.0,11.0,11.0,11.0,10.0,10.0,10.0,11.0,12.0,12.0,13.0,13.0,14.0,14.0,14.0,14.0,13.0,12.0,12.0,13.0,12.0,13.0,14.0,14.0,13.0,14.0,14.0,13.0,12.0,13.0,12.0,12.0,11.0,11.0,10.0,10.0,10.0,11.0,11.0,11.0,10.0,10.0,9.0,8.0,8.0,9.0,9.0,10.0,10.0,11.0,11.0,11.0,12.0,13.0,13.0,12.0,12.0,13.0,14.0,14.0,14.0,14.0,14.0,13.0,12.0,12.0,12.0,13.0,13.0,14.0,14.0,13.0,12.0,11.0,10.0,11.0,11.0,10.0,9.0,10.0,9.0,9.0,8.0,8.0,7.0,6.0,6.0,7.0,6.0,5.0,6.0,7.0,7.0,8.0,8.0,9.0,8.0,7.0,6.0,6.0,5.0,5.0,4.0,5.0,4.0,3.0,3.0,4.0,4.0,5.0,5.0,4.0,3.0,2.0,3.0,2.0,1.0,1.0,0.0]},\"selected\":{\"id\":\"1181\"},\"selection_policy\":{\"id\":\"1180\"}},\"id\":\"1164\",\"type\":\"ColumnDataSource\"},{\"attributes\":{},\"id\":\"1178\",\"type\":\"BasicTickFormatter\"},{\"attributes\":{\"bottom_units\":\"screen\",\"fill_alpha\":0.5,\"fill_color\":\"lightgrey\",\"left_units\":\"screen\",\"level\":\"overlay\",\"line_alpha\":1.0,\"line_color\":\"black\",\"line_dash\":[4,4],\"line_width\":2,\"right_units\":\"screen\",\"top_units\":\"screen\"},\"id\":\"1154\",\"type\":\"BoxAnnotation\"},{\"attributes\":{\"overlay\":{\"id\":\"1154\"}},\"id\":\"1150\",\"type\":\"BoxZoomTool\"},{\"attributes\":{},\"id\":\"1149\",\"type\":\"WheelZoomTool\"},{\"attributes\":{},\"id\":\"1152\",\"type\":\"ResetTool\"},{\"attributes\":{},\"id\":\"1136\",\"type\":\"LinearScale\"},{\"attributes\":{\"text\":\"\"},\"id\":\"1130\",\"type\":\"Title\"},{\"attributes\":{},\"id\":\"1151\",\"type\":\"SaveTool\"},{\"attributes\":{\"end\":15.19,\"start\":-1.1900000000000002},\"id\":\"1132\",\"type\":\"Range1d\"},{\"attributes\":{},\"id\":\"1153\",\"type\":\"HelpTool\"},{\"attributes\":{\"end\":15.19,\"start\":-1.1900000000000002},\"id\":\"1134\",\"type\":\"Range1d\"},{\"attributes\":{\"active_drag\":\"auto\",\"active_inspect\":\"auto\",\"active_multi\":null,\"active_scroll\":\"auto\",\"active_tap\":\"auto\",\"logo\":null,\"tools\":[{\"id\":\"1148\"},{\"id\":\"1149\"},{\"id\":\"1150\"},{\"id\":\"1151\"},{\"id\":\"1152\"},{\"id\":\"1153\"}]},\"id\":\"1155\",\"type\":\"Toolbar\"},{\"attributes\":{\"line_width\":4,\"x\":{\"field\":\"x\"},\"y\":{\"field\":\"y\"}},\"id\":\"1165\",\"type\":\"Line\"}],\"root_ids\":[\"1185\"]},\"title\":\"Bokeh Application\",\"version\":\"2.1.0\"}};\n",
       "  var render_items = [{\"docid\":\"fd954ef9-f2e8-4b0e-9c50-e7601e5b052c\",\"root_ids\":[\"1185\"],\"roots\":{\"1185\":\"c340cf95-94b2-45c0-8068-d390fe994e72\"}}];\n",
       "  root.Bokeh.embed.embed_items_notebook(docs_json, render_items);\n",
       "\n",
       "  }\n",
       "  if (root.Bokeh !== undefined) {\n",
       "    embed_document(root);\n",
       "  } else {\n",
       "    var attempts = 0;\n",
       "    var timer = setInterval(function(root) {\n",
       "      if (root.Bokeh !== undefined) {\n",
       "        clearInterval(timer);\n",
       "        embed_document(root);\n",
       "      } else {\n",
       "        attempts++;\n",
       "        if (attempts > 100) {\n",
       "          clearInterval(timer);\n",
       "          console.log(\"Bokeh: ERROR: Unable to run BokehJS code because BokehJS library is missing\");\n",
       "        }\n",
       "      }\n",
       "    }, 10, root)\n",
       "  }\n",
       "})(window);"
      ],
      "application/vnd.bokehjs_exec.v0+json": ""
     },
     "metadata": {
      "application/vnd.bokehjs_exec.v0+json": {
       "id": "1185"
      }
     },
     "output_type": "display_data"
    },
    {
     "data": {
      "text/html": [
       "\n",
       "\n",
       "\n",
       "\n",
       "\n",
       "\n",
       "  <div class=\"bk-root\" id=\"b850bf42-d3a6-4fb7-8430-8e3bfe4f7835\" data-root-id=\"1322\"></div>\n"
      ]
     },
     "metadata": {},
     "output_type": "display_data"
    },
    {
     "data": {
      "application/javascript": [
       "(function(root) {\n",
       "  function embed_document(root) {\n",
       "    \n",
       "  var docs_json = {\"d32992e0-d683-4af1-9043-cef8b8e860f0\":{\"roots\":{\"references\":[{\"attributes\":{\"children\":[[{\"id\":\"1266\"},0,0],[{\"id\":\"1300\"},1,0]]},\"id\":\"1322\",\"type\":\"GridBox\"},{\"attributes\":{},\"id\":\"1285\",\"type\":\"PanTool\"},{\"attributes\":{\"align\":\"center\",\"text\":\"226.2\",\"width\":400},\"id\":\"1300\",\"type\":\"Div\"},{\"attributes\":{},\"id\":\"1286\",\"type\":\"WheelZoomTool\"},{\"attributes\":{},\"id\":\"1313\",\"type\":\"BasicTickFormatter\"},{\"attributes\":{\"overlay\":{\"id\":\"1291\"}},\"id\":\"1287\",\"type\":\"BoxZoomTool\"},{\"attributes\":{},\"id\":\"1315\",\"type\":\"BasicTickFormatter\"},{\"attributes\":{\"line_width\":4,\"x\":{\"field\":\"x\"},\"y\":{\"field\":\"y\"}},\"id\":\"1302\",\"type\":\"Line\"},{\"attributes\":{},\"id\":\"1288\",\"type\":\"SaveTool\"},{\"attributes\":{},\"id\":\"1317\",\"type\":\"UnionRenderers\"},{\"attributes\":{},\"id\":\"1289\",\"type\":\"ResetTool\"},{\"attributes\":{},\"id\":\"1318\",\"type\":\"Selection\"},{\"attributes\":{},\"id\":\"1290\",\"type\":\"HelpTool\"},{\"attributes\":{},\"id\":\"1319\",\"type\":\"UnionRenderers\"},{\"attributes\":{\"fill_color\":{\"value\":\"steelblue\"},\"line_color\":{\"value\":\"steelblue\"},\"size\":{\"units\":\"screen\",\"value\":8},\"x\":{\"field\":\"x\"},\"y\":{\"field\":\"y\"}},\"id\":\"1307\",\"type\":\"Circle\"},{\"attributes\":{},\"id\":\"1320\",\"type\":\"Selection\"},{\"attributes\":{\"active_drag\":\"auto\",\"active_inspect\":\"auto\",\"active_multi\":null,\"active_scroll\":\"auto\",\"active_tap\":\"auto\",\"logo\":null,\"tools\":[{\"id\":\"1285\"},{\"id\":\"1286\"},{\"id\":\"1287\"},{\"id\":\"1288\"},{\"id\":\"1289\"},{\"id\":\"1290\"}]},\"id\":\"1292\",\"type\":\"Toolbar\"},{\"attributes\":{\"background_fill_color\":null,\"below\":[{\"id\":\"1277\"}],\"border_fill_color\":null,\"center\":[{\"id\":\"1280\"},{\"id\":\"1284\"}],\"left\":[{\"id\":\"1281\"}],\"outline_line_color\":null,\"plot_height\":400,\"plot_width\":400,\"renderers\":[{\"id\":\"1304\"},{\"id\":\"1309\"}],\"title\":{\"id\":\"1267\"},\"toolbar\":{\"id\":\"1292\"},\"toolbar_location\":null,\"x_range\":{\"id\":\"1269\"},\"x_scale\":{\"id\":\"1273\"},\"y_range\":{\"id\":\"1271\"},\"y_scale\":{\"id\":\"1275\"}},\"id\":\"1266\",\"subtype\":\"Figure\",\"type\":\"Plot\"},{\"attributes\":{\"source\":{\"id\":\"1301\"}},\"id\":\"1305\",\"type\":\"CDSView\"},{\"attributes\":{\"text\":\"\"},\"id\":\"1267\",\"type\":\"Title\"},{\"attributes\":{\"end\":15.19,\"start\":-1.1900000000000002},\"id\":\"1271\",\"type\":\"Range1d\"},{\"attributes\":{\"axis\":{\"id\":\"1277\"},\"grid_line_color\":null,\"ticker\":null},\"id\":\"1280\",\"type\":\"Grid\"},{\"attributes\":{\"data\":{\"x\":[0.0,0.0,0.0,0.0,0.0,0.0,0.0,0.0,0.0,0.0,0.0,0.0,0.0,0.0,0.0,1.0,1.0,1.0,1.0,1.0,1.0,1.0,1.0,1.0,1.0,1.0,1.0,1.0,1.0,1.0,2.0,2.0,2.0,2.0,2.0,2.0,2.0,2.0,2.0,2.0,2.0,2.0,2.0,2.0,2.0,3.0,3.0,3.0,3.0,3.0,3.0,3.0,3.0,3.0,3.0,3.0,3.0,3.0,3.0,3.0,4.0,4.0,4.0,4.0,4.0,4.0,4.0,4.0,4.0,4.0,4.0,4.0,4.0,4.0,4.0,5.0,5.0,5.0,5.0,5.0,5.0,5.0,5.0,5.0,5.0,5.0,5.0,5.0,5.0,5.0,6.0,6.0,6.0,6.0,6.0,6.0,6.0,6.0,6.0,6.0,6.0,6.0,6.0,6.0,6.0,7.0,7.0,7.0,7.0,7.0,7.0,7.0,7.0,7.0,7.0,7.0,7.0,7.0,7.0,7.0,8.0,8.0,8.0,8.0,8.0,8.0,8.0,8.0,8.0,8.0,8.0,8.0,8.0,8.0,8.0,9.0,9.0,9.0,9.0,9.0,9.0,9.0,9.0,9.0,9.0,9.0,9.0,9.0,9.0,9.0,10.0,10.0,10.0,10.0,10.0,10.0,10.0,10.0,10.0,10.0,10.0,10.0,10.0,10.0,10.0,11.0,11.0,11.0,11.0,11.0,11.0,11.0,11.0,11.0,11.0,11.0,11.0,11.0,11.0,11.0,12.0,12.0,12.0,12.0,12.0,12.0,12.0,12.0,12.0,12.0,12.0,12.0,12.0,12.0,12.0,13.0,13.0,13.0,13.0,13.0,13.0,13.0,13.0,13.0,13.0,13.0,13.0,13.0,13.0,13.0,14.0,14.0,14.0,14.0,14.0,14.0,14.0,14.0,14.0,14.0,14.0,14.0,14.0,14.0,14.0],\"y\":[0.0,1.0,2.0,3.0,4.0,5.0,6.0,7.0,8.0,9.0,10.0,11.0,12.0,13.0,14.0,0.0,1.0,2.0,3.0,4.0,5.0,6.0,7.0,8.0,9.0,10.0,11.0,12.0,13.0,14.0,0.0,1.0,2.0,3.0,4.0,5.0,6.0,7.0,8.0,9.0,10.0,11.0,12.0,13.0,14.0,0.0,1.0,2.0,3.0,4.0,5.0,6.0,7.0,8.0,9.0,10.0,11.0,12.0,13.0,14.0,0.0,1.0,2.0,3.0,4.0,5.0,6.0,7.0,8.0,9.0,10.0,11.0,12.0,13.0,14.0,0.0,1.0,2.0,3.0,4.0,5.0,6.0,7.0,8.0,9.0,10.0,11.0,12.0,13.0,14.0,0.0,1.0,2.0,3.0,4.0,5.0,6.0,7.0,8.0,9.0,10.0,11.0,12.0,13.0,14.0,0.0,1.0,2.0,3.0,4.0,5.0,6.0,7.0,8.0,9.0,10.0,11.0,12.0,13.0,14.0,0.0,1.0,2.0,3.0,4.0,5.0,6.0,7.0,8.0,9.0,10.0,11.0,12.0,13.0,14.0,0.0,1.0,2.0,3.0,4.0,5.0,6.0,7.0,8.0,9.0,10.0,11.0,12.0,13.0,14.0,0.0,1.0,2.0,3.0,4.0,5.0,6.0,7.0,8.0,9.0,10.0,11.0,12.0,13.0,14.0,0.0,1.0,2.0,3.0,4.0,5.0,6.0,7.0,8.0,9.0,10.0,11.0,12.0,13.0,14.0,0.0,1.0,2.0,3.0,4.0,5.0,6.0,7.0,8.0,9.0,10.0,11.0,12.0,13.0,14.0,0.0,1.0,2.0,3.0,4.0,5.0,6.0,7.0,8.0,9.0,10.0,11.0,12.0,13.0,14.0,0.0,1.0,2.0,3.0,4.0,5.0,6.0,7.0,8.0,9.0,10.0,11.0,12.0,13.0,14.0]},\"selected\":{\"id\":\"1320\"},\"selection_policy\":{\"id\":\"1319\"}},\"id\":\"1306\",\"type\":\"ColumnDataSource\"},{\"attributes\":{\"formatter\":{\"id\":\"1313\"},\"ticker\":{\"id\":\"1278\"},\"visible\":false},\"id\":\"1277\",\"type\":\"LinearAxis\"},{\"attributes\":{\"axis\":{\"id\":\"1281\"},\"dimension\":1,\"grid_line_color\":null,\"ticker\":null},\"id\":\"1284\",\"type\":\"Grid\"},{\"attributes\":{\"end\":15.19,\"start\":-1.1900000000000002},\"id\":\"1269\",\"type\":\"Range1d\"},{\"attributes\":{\"bottom_units\":\"screen\",\"fill_alpha\":0.5,\"fill_color\":\"lightgrey\",\"left_units\":\"screen\",\"level\":\"overlay\",\"line_alpha\":1.0,\"line_color\":\"black\",\"line_dash\":[4,4],\"line_width\":2,\"right_units\":\"screen\",\"top_units\":\"screen\"},\"id\":\"1291\",\"type\":\"BoxAnnotation\"},{\"attributes\":{},\"id\":\"1273\",\"type\":\"LinearScale\"},{\"attributes\":{},\"id\":\"1275\",\"type\":\"LinearScale\"},{\"attributes\":{\"data_source\":{\"id\":\"1301\"},\"glyph\":{\"id\":\"1302\"},\"hover_glyph\":null,\"muted_glyph\":null,\"nonselection_glyph\":{\"id\":\"1303\"},\"selection_glyph\":null,\"view\":{\"id\":\"1305\"}},\"id\":\"1304\",\"type\":\"GlyphRenderer\"},{\"attributes\":{\"data\":{\"x\":[0.0,1.0,2.0,3.0,4.0,5.0,6.0,7.0,8.0,9.0,10.0,11.0,12.0,13.0,14.0,14.0,14.0,14.0,14.0,14.0,14.0,14.0,14.0,14.0,14.0,14.0,14.0,14.0,14.0,13.0,13.0,13.0,13.0,13.0,13.0,13.0,13.0,13.0,13.0,13.0,13.0,13.0,13.0,12.0,12.0,12.0,12.0,12.0,12.0,12.0,12.0,12.0,12.0,12.0,12.0,12.0,12.0,11.0,11.0,11.0,11.0,11.0,11.0,11.0,11.0,11.0,11.0,11.0,11.0,11.0,11.0,10.0,10.0,10.0,10.0,10.0,10.0,10.0,10.0,10.0,10.0,10.0,10.0,10.0,10.0,9.0,9.0,9.0,9.0,9.0,9.0,9.0,9.0,9.0,9.0,9.0,9.0,9.0,9.0,8.0,8.0,8.0,8.0,8.0,8.0,8.0,8.0,8.0,8.0,8.0,8.0,8.0,8.0,7.0,7.0,7.0,7.0,7.0,7.0,7.0,7.0,7.0,7.0,7.0,7.0,7.0,7.0,6.0,6.0,6.0,6.0,6.0,6.0,6.0,6.0,6.0,6.0,6.0,6.0,6.0,6.0,5.0,5.0,5.0,5.0,5.0,5.0,5.0,5.0,5.0,5.0,5.0,5.0,5.0,5.0,4.0,4.0,4.0,4.0,4.0,4.0,4.0,4.0,4.0,4.0,4.0,4.0,4.0,4.0,3.0,3.0,3.0,3.0,2.0,1.0,1.0,2.0,2.0,1.0,0.0,0.0,0.0,0.0,0.0,0.0,1.0,1.0,2.0,2.0,3.0,3.0,3.0,3.0,3.0,3.0,3.0,3.0,3.0,3.0,2.0,2.0,2.0,2.0,2.0,2.0,2.0,2.0,2.0,1.0,1.0,0.0,0.0,1.0,1.0,0.0,0.0,1.0,1.0,0.0,0.0,1.0,1.0,0.0,0.0,1.0,0.0],\"y\":[0.0,0.0,0.0,0.0,0.0,0.0,0.0,0.0,0.0,0.0,0.0,0.0,0.0,0.0,0.0,1.0,2.0,3.0,4.0,5.0,6.0,7.0,8.0,9.0,10.0,11.0,12.0,13.0,14.0,14.0,13.0,12.0,11.0,10.0,9.0,8.0,7.0,6.0,5.0,4.0,3.0,2.0,1.0,1.0,2.0,3.0,4.0,5.0,6.0,7.0,8.0,9.0,10.0,11.0,12.0,13.0,14.0,14.0,13.0,12.0,11.0,10.0,9.0,8.0,7.0,6.0,5.0,4.0,3.0,2.0,1.0,1.0,2.0,3.0,4.0,5.0,6.0,7.0,8.0,9.0,10.0,11.0,12.0,13.0,14.0,14.0,13.0,12.0,11.0,10.0,9.0,8.0,7.0,6.0,5.0,4.0,3.0,2.0,1.0,1.0,2.0,3.0,4.0,5.0,6.0,7.0,8.0,9.0,10.0,11.0,12.0,13.0,14.0,14.0,13.0,12.0,11.0,10.0,9.0,8.0,7.0,6.0,5.0,4.0,3.0,2.0,1.0,1.0,2.0,3.0,4.0,5.0,6.0,7.0,8.0,9.0,10.0,11.0,12.0,13.0,14.0,14.0,13.0,12.0,11.0,10.0,9.0,8.0,7.0,6.0,5.0,4.0,3.0,2.0,1.0,1.0,2.0,3.0,4.0,5.0,6.0,7.0,8.0,9.0,10.0,11.0,12.0,13.0,14.0,14.0,13.0,12.0,11.0,12.0,12.0,13.0,13.0,14.0,14.0,14.0,13.0,12.0,11.0,10.0,9.0,10.0,11.0,11.0,10.0,10.0,9.0,8.0,7.0,6.0,5.0,4.0,3.0,2.0,1.0,1.0,2.0,3.0,4.0,5.0,6.0,7.0,8.0,9.0,9.0,8.0,8.0,7.0,7.0,6.0,6.0,5.0,5.0,4.0,4.0,3.0,3.0,2.0,2.0,1.0,1.0,0.0]},\"selected\":{\"id\":\"1318\"},\"selection_policy\":{\"id\":\"1317\"}},\"id\":\"1301\",\"type\":\"ColumnDataSource\"},{\"attributes\":{},\"id\":\"1282\",\"type\":\"BasicTicker\"},{\"attributes\":{\"line_alpha\":0.1,\"line_width\":4,\"x\":{\"field\":\"x\"},\"y\":{\"field\":\"y\"}},\"id\":\"1303\",\"type\":\"Line\"},{\"attributes\":{\"data_source\":{\"id\":\"1306\"},\"glyph\":{\"id\":\"1307\"},\"hover_glyph\":null,\"muted_glyph\":null,\"nonselection_glyph\":{\"id\":\"1308\"},\"selection_glyph\":null,\"view\":{\"id\":\"1310\"}},\"id\":\"1309\",\"type\":\"GlyphRenderer\"},{\"attributes\":{},\"id\":\"1278\",\"type\":\"BasicTicker\"},{\"attributes\":{\"fill_alpha\":{\"value\":0.1},\"fill_color\":{\"value\":\"steelblue\"},\"line_alpha\":{\"value\":0.1},\"line_color\":{\"value\":\"steelblue\"},\"size\":{\"units\":\"screen\",\"value\":8},\"x\":{\"field\":\"x\"},\"y\":{\"field\":\"y\"}},\"id\":\"1308\",\"type\":\"Circle\"},{\"attributes\":{\"formatter\":{\"id\":\"1315\"},\"ticker\":{\"id\":\"1282\"},\"visible\":false},\"id\":\"1281\",\"type\":\"LinearAxis\"},{\"attributes\":{\"source\":{\"id\":\"1306\"}},\"id\":\"1310\",\"type\":\"CDSView\"}],\"root_ids\":[\"1322\"]},\"title\":\"Bokeh Application\",\"version\":\"2.1.0\"}};\n",
       "  var render_items = [{\"docid\":\"d32992e0-d683-4af1-9043-cef8b8e860f0\",\"root_ids\":[\"1322\"],\"roots\":{\"1322\":\"b850bf42-d3a6-4fb7-8430-8e3bfe4f7835\"}}];\n",
       "  root.Bokeh.embed.embed_items_notebook(docs_json, render_items);\n",
       "\n",
       "  }\n",
       "  if (root.Bokeh !== undefined) {\n",
       "    embed_document(root);\n",
       "  } else {\n",
       "    var attempts = 0;\n",
       "    var timer = setInterval(function(root) {\n",
       "      if (root.Bokeh !== undefined) {\n",
       "        clearInterval(timer);\n",
       "        embed_document(root);\n",
       "      } else {\n",
       "        attempts++;\n",
       "        if (attempts > 100) {\n",
       "          clearInterval(timer);\n",
       "          console.log(\"Bokeh: ERROR: Unable to run BokehJS code because BokehJS library is missing\");\n",
       "        }\n",
       "      }\n",
       "    }, 10, root)\n",
       "  }\n",
       "})(window);"
      ],
      "application/vnd.bokehjs_exec.v0+json": ""
     },
     "metadata": {
      "application/vnd.bokehjs_exec.v0+json": {
       "id": "1322"
      }
     },
     "output_type": "display_data"
    }
   ],
   "source": [
    "# solve grid TSP\n",
    "nodes, G = tsp_grid_instance(15,15,manhattan=False)\n",
    "plot_tour(nodes, G, nearest_neighbor(G))\n",
    "plot_tour(nodes, G, furthest_insertion(G))\n",
    "plot_tour(nodes, G, solve_tsp(G))"
   ]
  },
  {
   "cell_type": "code",
   "execution_count": 3,
   "metadata": {
    "scrolled": false
   },
   "outputs": [
    {
     "data": {
      "text/html": [
       "\n",
       "\n",
       "\n",
       "\n",
       "\n",
       "\n",
       "  <div class=\"bk-root\" id=\"8e64abaa-83cc-46f3-b937-e5edf6b1b37c\" data-root-id=\"1483\"></div>\n"
      ]
     },
     "metadata": {},
     "output_type": "display_data"
    },
    {
     "data": {
      "application/javascript": [
       "(function(root) {\n",
       "  function embed_document(root) {\n",
       "    \n",
       "  var docs_json = {\"76d65297-28b3-474a-bd98-2f4872e14086\":{\"roots\":{\"references\":[{\"attributes\":{\"children\":[[{\"id\":\"1413\"},0,0],[{\"id\":\"1466\"},1,0],[{\"id\":\"1467\"},2,0]]},\"id\":\"1483\",\"type\":\"GridBox\"},{\"attributes\":{\"data\":{\"edges_x\":[0.0],\"edges_y\":[0.0]},\"selected\":{\"id\":\"1475\"},\"selection_policy\":{\"id\":\"1474\"}},\"id\":\"1451\",\"type\":\"ColumnDataSource\"},{\"attributes\":{\"align\":\"center\",\"text\":\"0\",\"width\":200},\"id\":\"1447\",\"type\":\"Div\"},{\"attributes\":{\"source\":{\"id\":\"1451\"}},\"id\":\"1456\",\"type\":\"CDSView\"},{\"attributes\":{\"formatter\":{\"id\":\"1472\"},\"ticker\":{\"id\":\"1429\"},\"visible\":false},\"id\":\"1428\",\"type\":\"LinearAxis\"},{\"attributes\":{\"text\":\"\"},\"id\":\"1414\",\"type\":\"Title\"},{\"attributes\":{},\"id\":\"1425\",\"type\":\"BasicTicker\"},{\"attributes\":{\"data\":{\"x\":[0.0,0.0,0.0,0.0,0.0,1.0,1.0,1.0,1.0,1.0,2.0,2.0,2.0,2.0,2.0,3.0,3.0,3.0,3.0,3.0,4.0,4.0,4.0,4.0,4.0],\"y\":[0.0,1.0,2.0,3.0,4.0,0.0,1.0,2.0,3.0,4.0,0.0,1.0,2.0,3.0,4.0,0.0,1.0,2.0,3.0,4.0,0.0,1.0,2.0,3.0,4.0]},\"selected\":{\"id\":\"1477\"},\"selection_policy\":{\"id\":\"1476\"}},\"id\":\"1457\",\"type\":\"ColumnDataSource\"},{\"attributes\":{\"axis\":{\"id\":\"1428\"},\"dimension\":1,\"grid_line_color\":null,\"ticker\":null},\"id\":\"1431\",\"type\":\"Grid\"},{\"attributes\":{},\"id\":\"1422\",\"type\":\"LinearScale\"},{\"attributes\":{\"data\":{\"costs\":[0,1.0,2.0,3.0,4.0,5.0,6.0,7.0,8.0,9.0,10.0,11.0,12.0,13.0,15.23606797749979,16.23606797749979,17.23606797749979,18.23606797749979,19.23606797749979,20.23606797749979,22.47213595499958,23.47213595499958,24.47213595499958,29.47213595499958,30.47213595499958,34.47213595499958],\"edges_x\":[[0.0],[0.0,0.0],[0.0,0.0,1.0],[0.0,0.0,1.0,1.0],[0.0,0.0,1.0,1.0,1.0],[0.0,0.0,1.0,1.0,1.0,1.0],[0.0,0.0,1.0,1.0,1.0,1.0,2.0],[0.0,0.0,1.0,1.0,1.0,1.0,2.0,2.0],[0.0,0.0,1.0,1.0,1.0,1.0,2.0,2.0,3.0],[0.0,0.0,1.0,1.0,1.0,1.0,2.0,2.0,3.0,3.0],[0.0,0.0,1.0,1.0,1.0,1.0,2.0,2.0,3.0,3.0,4.0],[0.0,0.0,1.0,1.0,1.0,1.0,2.0,2.0,3.0,3.0,4.0,4.0],[0.0,0.0,1.0,1.0,1.0,1.0,2.0,2.0,3.0,3.0,4.0,4.0,4.0],[0.0,0.0,1.0,1.0,1.0,1.0,2.0,2.0,3.0,3.0,4.0,4.0,4.0,3.0],[0.0,0.0,1.0,1.0,1.0,1.0,2.0,2.0,3.0,3.0,4.0,4.0,4.0,3.0,2.0],[0.0,0.0,1.0,1.0,1.0,1.0,2.0,2.0,3.0,3.0,4.0,4.0,4.0,3.0,2.0,2.0],[0.0,0.0,1.0,1.0,1.0,1.0,2.0,2.0,3.0,3.0,4.0,4.0,4.0,3.0,2.0,2.0,3.0],[0.0,0.0,1.0,1.0,1.0,1.0,2.0,2.0,3.0,3.0,4.0,4.0,4.0,3.0,2.0,2.0,3.0,3.0],[0.0,0.0,1.0,1.0,1.0,1.0,2.0,2.0,3.0,3.0,4.0,4.0,4.0,3.0,2.0,2.0,3.0,3.0,2.0],[0.0,0.0,1.0,1.0,1.0,1.0,2.0,2.0,3.0,3.0,4.0,4.0,4.0,3.0,2.0,2.0,3.0,3.0,2.0,1.0],[0.0,0.0,1.0,1.0,1.0,1.0,2.0,2.0,3.0,3.0,4.0,4.0,4.0,3.0,2.0,2.0,3.0,3.0,2.0,1.0,0.0],[0.0,0.0,1.0,1.0,1.0,1.0,2.0,2.0,3.0,3.0,4.0,4.0,4.0,3.0,2.0,2.0,3.0,3.0,2.0,1.0,0.0,0.0],[0.0,0.0,1.0,1.0,1.0,1.0,2.0,2.0,3.0,3.0,4.0,4.0,4.0,3.0,2.0,2.0,3.0,3.0,2.0,1.0,0.0,0.0,0.0],[0.0,0.0,1.0,1.0,1.0,1.0,2.0,2.0,3.0,3.0,4.0,4.0,4.0,3.0,2.0,2.0,3.0,3.0,2.0,1.0,0.0,0.0,0.0,4.0],[0.0,0.0,1.0,1.0,1.0,1.0,2.0,2.0,3.0,3.0,4.0,4.0,4.0,3.0,2.0,2.0,3.0,3.0,2.0,1.0,0.0,0.0,0.0,4.0,4.0],[0.0,0.0,1.0,1.0,1.0,1.0,2.0,2.0,3.0,3.0,4.0,4.0,4.0,3.0,2.0,2.0,3.0,3.0,2.0,1.0,0.0,0.0,0.0,4.0,4.0,0.0]],\"edges_y\":[[0.0],[0.0,1.0],[0.0,1.0,1.0],[0.0,1.0,1.0,2.0],[0.0,1.0,1.0,2.0,3.0],[0.0,1.0,1.0,2.0,3.0,4.0],[0.0,1.0,1.0,2.0,3.0,4.0,4.0],[0.0,1.0,1.0,2.0,3.0,4.0,4.0,3.0],[0.0,1.0,1.0,2.0,3.0,4.0,4.0,3.0,3.0],[0.0,1.0,1.0,2.0,3.0,4.0,4.0,3.0,3.0,2.0],[0.0,1.0,1.0,2.0,3.0,4.0,4.0,3.0,3.0,2.0,2.0],[0.0,1.0,1.0,2.0,3.0,4.0,4.0,3.0,3.0,2.0,2.0,3.0],[0.0,1.0,1.0,2.0,3.0,4.0,4.0,3.0,3.0,2.0,2.0,3.0,4.0],[0.0,1.0,1.0,2.0,3.0,4.0,4.0,3.0,3.0,2.0,2.0,3.0,4.0,4.0],[0.0,1.0,1.0,2.0,3.0,4.0,4.0,3.0,3.0,2.0,2.0,3.0,4.0,4.0,2.0],[0.0,1.0,1.0,2.0,3.0,4.0,4.0,3.0,3.0,2.0,2.0,3.0,4.0,4.0,2.0,1.0],[0.0,1.0,1.0,2.0,3.0,4.0,4.0,3.0,3.0,2.0,2.0,3.0,4.0,4.0,2.0,1.0,1.0],[0.0,1.0,1.0,2.0,3.0,4.0,4.0,3.0,3.0,2.0,2.0,3.0,4.0,4.0,2.0,1.0,1.0,0.0],[0.0,1.0,1.0,2.0,3.0,4.0,4.0,3.0,3.0,2.0,2.0,3.0,4.0,4.0,2.0,1.0,1.0,0.0,0.0],[0.0,1.0,1.0,2.0,3.0,4.0,4.0,3.0,3.0,2.0,2.0,3.0,4.0,4.0,2.0,1.0,1.0,0.0,0.0,0.0],[0.0,1.0,1.0,2.0,3.0,4.0,4.0,3.0,3.0,2.0,2.0,3.0,4.0,4.0,2.0,1.0,1.0,0.0,0.0,0.0,2.0],[0.0,1.0,1.0,2.0,3.0,4.0,4.0,3.0,3.0,2.0,2.0,3.0,4.0,4.0,2.0,1.0,1.0,0.0,0.0,0.0,2.0,3.0],[0.0,1.0,1.0,2.0,3.0,4.0,4.0,3.0,3.0,2.0,2.0,3.0,4.0,4.0,2.0,1.0,1.0,0.0,0.0,0.0,2.0,3.0,4.0],[0.0,1.0,1.0,2.0,3.0,4.0,4.0,3.0,3.0,2.0,2.0,3.0,4.0,4.0,2.0,1.0,1.0,0.0,0.0,0.0,2.0,3.0,4.0,1.0],[0.0,1.0,1.0,2.0,3.0,4.0,4.0,3.0,3.0,2.0,2.0,3.0,4.0,4.0,2.0,1.0,1.0,0.0,0.0,0.0,2.0,3.0,4.0,1.0,0.0],[0.0,1.0,1.0,2.0,3.0,4.0,4.0,3.0,3.0,2.0,2.0,3.0,4.0,4.0,2.0,1.0,1.0,0.0,0.0,0.0,2.0,3.0,4.0,1.0,0.0,0.0]]},\"selected\":{\"id\":\"1482\"},\"selection_policy\":{\"id\":\"1481\"}},\"id\":\"1450\",\"type\":\"ColumnDataSource\"},{\"attributes\":{\"fill_color\":{\"value\":\"steelblue\"},\"line_color\":{\"value\":\"steelblue\"},\"size\":{\"units\":\"screen\",\"value\":8},\"x\":{\"field\":\"x\"},\"y\":{\"field\":\"y\"}},\"id\":\"1458\",\"type\":\"Circle\"},{\"attributes\":{\"formatter\":{\"id\":\"1470\"},\"ticker\":{\"id\":\"1425\"},\"visible\":false},\"id\":\"1424\",\"type\":\"LinearAxis\"},{\"attributes\":{\"data_source\":{\"id\":\"1457\"},\"glyph\":{\"id\":\"1458\"},\"hover_glyph\":null,\"muted_glyph\":null,\"nonselection_glyph\":{\"id\":\"1459\"},\"selection_glyph\":null,\"view\":{\"id\":\"1461\"}},\"id\":\"1460\",\"type\":\"GlyphRenderer\"},{\"attributes\":{},\"id\":\"1477\",\"type\":\"Selection\"},{\"attributes\":{\"fill_alpha\":{\"value\":0.1},\"fill_color\":{\"value\":\"steelblue\"},\"line_alpha\":{\"value\":0.1},\"line_color\":{\"value\":\"steelblue\"},\"size\":{\"units\":\"screen\",\"value\":8},\"x\":{\"field\":\"x\"},\"y\":{\"field\":\"y\"}},\"id\":\"1459\",\"type\":\"Circle\"},{\"attributes\":{\"source\":{\"id\":\"1457\"}},\"id\":\"1461\",\"type\":\"CDSView\"},{\"attributes\":{},\"id\":\"1481\",\"type\":\"UnionRenderers\"},{\"attributes\":{\"end\":4.34,\"start\":-0.34},\"id\":\"1416\",\"type\":\"Range1d\"},{\"attributes\":{},\"id\":\"1476\",\"type\":\"UnionRenderers\"},{\"attributes\":{\"button_type\":\"success\",\"icon\":null,\"js_event_callbacks\":{\"button_click\":[{\"id\":\"1463\"}]},\"label\":\"Next\",\"sizing_mode\":\"scale_width\",\"width_policy\":\"fit\"},\"id\":\"1462\",\"type\":\"Button\"},{\"attributes\":{\"align\":\"center\",\"text\":\"0\",\"width\":400},\"id\":\"1449\",\"type\":\"Div\"},{\"attributes\":{\"bottom_units\":\"screen\",\"fill_alpha\":0.5,\"fill_color\":\"lightgrey\",\"left_units\":\"screen\",\"level\":\"overlay\",\"line_alpha\":1.0,\"line_color\":\"black\",\"line_dash\":[4,4],\"line_width\":2,\"right_units\":\"screen\",\"top_units\":\"screen\"},\"id\":\"1438\",\"type\":\"BoxAnnotation\"},{\"attributes\":{\"args\":{\"cost\":{\"id\":\"1447\"},\"done\":{\"id\":\"1448\"},\"n\":{\"id\":\"1449\"},\"source\":{\"id\":\"1450\"},\"tour\":{\"id\":\"1451\"}},\"code\":\"\\nif ((parseInt(n.text) + 1) < source.data['edges_y'].length) {\\n    n.text = (parseInt(n.text) + 1).toString()\\n}\\nvar iteration = parseInt(n.text)\\n\\nif (iteration == source.data['edges_y'].length - 2) {\\n    iteration = iteration + 1\\n}\\n\\n    cost.text = source.data['costs'][iteration].toFixed(1)\\n    \\n    if (iteration == source.data['edges_y'].length - 1) {\\n        done.text = \\\"done.\\\"\\n    } else {\\n        done.text = \\\"\\\"\\n    }\\n\\n    tour.data['edges_x'] = source.data['edges_x'][iteration]\\n    tour.data['edges_y'] = source.data['edges_y'][iteration]\\n    tour.change.emit()\\n    \"},\"id\":\"1463\",\"type\":\"CustomJS\"},{\"attributes\":{\"line_alpha\":0.1,\"line_width\":4,\"x\":{\"field\":\"edges_x\"},\"y\":{\"field\":\"edges_y\"}},\"id\":\"1454\",\"type\":\"Line\"},{\"attributes\":{\"active_drag\":\"auto\",\"active_inspect\":\"auto\",\"active_multi\":null,\"active_scroll\":\"auto\",\"active_tap\":\"auto\",\"logo\":null,\"tools\":[{\"id\":\"1432\"},{\"id\":\"1433\"},{\"id\":\"1434\"},{\"id\":\"1435\"},{\"id\":\"1436\"},{\"id\":\"1437\"}]},\"id\":\"1439\",\"type\":\"Toolbar\"},{\"attributes\":{\"button_type\":\"success\",\"icon\":null,\"js_event_callbacks\":{\"button_click\":[{\"id\":\"1465\"}]},\"label\":\"Previous\",\"sizing_mode\":\"scale_width\",\"width_policy\":\"fit\"},\"id\":\"1464\",\"type\":\"Button\"},{\"attributes\":{\"background_fill_color\":null,\"below\":[{\"id\":\"1424\"}],\"border_fill_color\":null,\"center\":[{\"id\":\"1427\"},{\"id\":\"1431\"}],\"left\":[{\"id\":\"1428\"}],\"outline_line_color\":null,\"plot_height\":400,\"plot_width\":400,\"renderers\":[{\"id\":\"1455\"},{\"id\":\"1460\"}],\"title\":{\"id\":\"1414\"},\"toolbar\":{\"id\":\"1439\"},\"toolbar_location\":null,\"x_range\":{\"id\":\"1416\"},\"x_scale\":{\"id\":\"1420\"},\"y_range\":{\"id\":\"1418\"},\"y_scale\":{\"id\":\"1422\"}},\"id\":\"1413\",\"subtype\":\"Figure\",\"type\":\"Plot\"},{\"attributes\":{},\"id\":\"1420\",\"type\":\"LinearScale\"},{\"attributes\":{},\"id\":\"1437\",\"type\":\"HelpTool\"},{\"attributes\":{\"args\":{\"cost\":{\"id\":\"1447\"},\"done\":{\"id\":\"1448\"},\"n\":{\"id\":\"1449\"},\"source\":{\"id\":\"1450\"},\"tour\":{\"id\":\"1451\"}},\"code\":\"\\nif ((parseInt(n.text) - 1) >= 0) {\\n    n.text = (parseInt(n.text) - 1).toString()\\n}\\nvar iteration = parseInt(n.text)\\n\\nif (iteration == source.data['edges_y'].length - 2) {\\n    iteration = iteration - 1\\n}\\n\\n    cost.text = source.data['costs'][iteration].toFixed(1)\\n    \\n    if (iteration == source.data['edges_y'].length - 1) {\\n        done.text = \\\"done.\\\"\\n    } else {\\n        done.text = \\\"\\\"\\n    }\\n\\n    tour.data['edges_x'] = source.data['edges_x'][iteration]\\n    tour.data['edges_y'] = source.data['edges_y'][iteration]\\n    tour.change.emit()\\n    \"},\"id\":\"1465\",\"type\":\"CustomJS\"},{\"attributes\":{\"line_width\":4,\"x\":{\"field\":\"edges_x\"},\"y\":{\"field\":\"edges_y\"}},\"id\":\"1453\",\"type\":\"Line\"},{\"attributes\":{\"children\":[{\"id\":\"1464\"},{\"id\":\"1462\"}],\"max_width\":400,\"sizing_mode\":\"stretch_both\"},\"id\":\"1466\",\"type\":\"Row\"},{\"attributes\":{},\"id\":\"1436\",\"type\":\"ResetTool\"},{\"attributes\":{},\"id\":\"1475\",\"type\":\"Selection\"},{\"attributes\":{\"children\":[{\"id\":\"1447\"},{\"id\":\"1448\"}]},\"id\":\"1467\",\"type\":\"Row\"},{\"attributes\":{},\"id\":\"1435\",\"type\":\"SaveTool\"},{\"attributes\":{},\"id\":\"1482\",\"type\":\"Selection\"},{\"attributes\":{\"data_source\":{\"id\":\"1451\"},\"glyph\":{\"id\":\"1453\"},\"hover_glyph\":null,\"muted_glyph\":null,\"nonselection_glyph\":{\"id\":\"1454\"},\"selection_glyph\":null,\"view\":{\"id\":\"1456\"}},\"id\":\"1455\",\"type\":\"GlyphRenderer\"},{\"attributes\":{},\"id\":\"1470\",\"type\":\"BasicTickFormatter\"},{\"attributes\":{},\"id\":\"1433\",\"type\":\"WheelZoomTool\"},{\"attributes\":{},\"id\":\"1472\",\"type\":\"BasicTickFormatter\"},{\"attributes\":{},\"id\":\"1432\",\"type\":\"PanTool\"},{\"attributes\":{\"overlay\":{\"id\":\"1438\"}},\"id\":\"1434\",\"type\":\"BoxZoomTool\"},{\"attributes\":{\"axis\":{\"id\":\"1424\"},\"grid_line_color\":null,\"ticker\":null},\"id\":\"1427\",\"type\":\"Grid\"},{\"attributes\":{\"end\":4.34,\"start\":-0.34},\"id\":\"1418\",\"type\":\"Range1d\"},{\"attributes\":{},\"id\":\"1474\",\"type\":\"UnionRenderers\"},{\"attributes\":{\"align\":\"center\",\"width\":200},\"id\":\"1448\",\"type\":\"Div\"},{\"attributes\":{},\"id\":\"1429\",\"type\":\"BasicTicker\"}],\"root_ids\":[\"1483\"]},\"title\":\"Bokeh Application\",\"version\":\"2.1.0\"}};\n",
       "  var render_items = [{\"docid\":\"76d65297-28b3-474a-bd98-2f4872e14086\",\"root_ids\":[\"1483\"],\"roots\":{\"1483\":\"8e64abaa-83cc-46f3-b937-e5edf6b1b37c\"}}];\n",
       "  root.Bokeh.embed.embed_items_notebook(docs_json, render_items);\n",
       "\n",
       "  }\n",
       "  if (root.Bokeh !== undefined) {\n",
       "    embed_document(root);\n",
       "  } else {\n",
       "    var attempts = 0;\n",
       "    var timer = setInterval(function(root) {\n",
       "      if (root.Bokeh !== undefined) {\n",
       "        clearInterval(timer);\n",
       "        embed_document(root);\n",
       "      } else {\n",
       "        attempts++;\n",
       "        if (attempts > 100) {\n",
       "          clearInterval(timer);\n",
       "          console.log(\"Bokeh: ERROR: Unable to run BokehJS code because BokehJS library is missing\");\n",
       "        }\n",
       "      }\n",
       "    }, 10, root)\n",
       "  }\n",
       "})(window);"
      ],
      "application/vnd.bokehjs_exec.v0+json": ""
     },
     "metadata": {
      "application/vnd.bokehjs_exec.v0+json": {
       "id": "1483"
      }
     },
     "output_type": "display_data"
    }
   ],
   "source": [
    "# explore heuristic\n",
    "nodes, G = tsp_grid_instance(5,5,manhattan=False)\n",
    "tour = plot_tsp_heuristic(nodes, G, heuristic='nearest_neighbor', initial=0)"
   ]
  },
  {
   "cell_type": "code",
   "execution_count": 4,
   "metadata": {},
   "outputs": [
    {
     "name": "stdout",
     "output_type": "stream",
     "text": [
      "Heuristic Averages:\n",
      "Random Neighbor: 225.8\n",
      "Nearest Neighbor: 66.4\n",
      "Nearest Insertion: 59.4\n",
      "Furthest Insertion: 57.6\n"
     ]
    }
   ],
   "source": [
    "# compare\n",
    "n = 10\n",
    "random_neighbor_total = 0\n",
    "nearest_neighbor_total = 0\n",
    "nearest_insertion_total = 0\n",
    "furthest_insertion_total = 0\n",
    "for i in range(n):\n",
    "    nodes, G = tsp_grid_instance(6,8,True)\n",
    "    random_neighbor_total += tour_cost(G, random_neighbor(G))\n",
    "    nearest_neighbor_total += tour_cost(G, nearest_neighbor(G))\n",
    "    nearest_insertion_total += tour_cost(G, nearest_insertion(G))\n",
    "    furthest_insertion_total += tour_cost(G, furthest_insertion(G))\n",
    "print(\"Heuristic Averages:\")\n",
    "print(\"Random Neighbor: %s\" % (random_neighbor_total / n))\n",
    "print(\"Nearest Neighbor: %s\" % (nearest_neighbor_total / n))\n",
    "print(\"Nearest Insertion: %s\" % (nearest_insertion_total / n))\n",
    "print(\"Furthest Insertion: %s\" % (furthest_insertion_total / n))"
   ]
  },
  {
   "cell_type": "code",
   "execution_count": 5,
   "metadata": {},
   "outputs": [
    {
     "data": {
      "text/html": [
       "\n",
       "\n",
       "\n",
       "\n",
       "\n",
       "\n",
       "  <div class=\"bk-root\" id=\"a367177d-8097-4ebe-9e88-268297428a62\" data-root-id=\"1652\"></div>\n"
      ]
     },
     "metadata": {},
     "output_type": "display_data"
    },
    {
     "data": {
      "application/javascript": [
       "(function(root) {\n",
       "  function embed_document(root) {\n",
       "    \n",
       "  var docs_json = {\"d5b72d3e-553a-4fc0-9d7e-89fca45740aa\":{\"roots\":{\"references\":[{\"attributes\":{\"children\":[[{\"id\":\"1596\"},0,0],[{\"id\":\"1630\"},1,0]]},\"id\":\"1652\",\"type\":\"GridBox\"},{\"attributes\":{},\"id\":\"1615\",\"type\":\"PanTool\"},{\"attributes\":{\"bottom_units\":\"screen\",\"fill_alpha\":0.5,\"fill_color\":\"lightgrey\",\"left_units\":\"screen\",\"level\":\"overlay\",\"line_alpha\":1.0,\"line_color\":\"black\",\"line_dash\":[4,4],\"line_width\":2,\"right_units\":\"screen\",\"top_units\":\"screen\"},\"id\":\"1621\",\"type\":\"BoxAnnotation\"},{\"attributes\":{\"active_drag\":\"auto\",\"active_inspect\":\"auto\",\"active_multi\":null,\"active_scroll\":\"auto\",\"active_tap\":\"auto\",\"logo\":null,\"tools\":[{\"id\":\"1615\"},{\"id\":\"1616\"},{\"id\":\"1617\"},{\"id\":\"1618\"},{\"id\":\"1619\"},{\"id\":\"1620\"}]},\"id\":\"1622\",\"type\":\"Toolbar\"},{\"attributes\":{},\"id\":\"1616\",\"type\":\"WheelZoomTool\"},{\"attributes\":{\"data\":{\"x\":[0.0,5.0,2.0,2.0,0.0,5.0,5.0,5.0,2.0,0.0,0.0,5.0,12.0,15.0,25.0,34.0,41.0,48.0,57.0,63.0,61.0,61.0,57.0,57.0,61.0,74.0,74.0,80.0,80.0,74.0,71.0,71.0,64.0,74.0,74.0,74.0,80.0,80.0,84.0,84.0,84.0,97.0,97.0,97.0,94.0,103.0,103.0,110.0,117.0,117.0,120.0,120.0,117.0,120.0,126.0,130.0,132.0,130.0,130.0,126.0,126.0,130.0,130.0,130.0,130.0,130.0,130.0,130.0,127.0,127.0,126.0,120.0,120.0,120.0,120.0,120.0,123.0,120.0,120.0,124.0,125.0,124.0,125.0,124.0,120.0,120.0,103.0,109.0,109.0,109.0,107.0,107.0,107.0,103.0,103.0,103.0,107.0,107.0,109.0,104.0,103.0,102.0,97.0,97.0,94.0,94.0,86.0,87.0,87.0,84.0,87.0,87.0,87.0,84.0,87.0,87.0,94.0,94.0,97.0,97.0,97.0,94.0,94.0,94.0,87.0,87.0,87.0,87.0,87.0,84.0,84.0,87.0,87.0,87.0,87.0,87.0,87.0,87.0,84.0,84.0,74.0,74.0,74.0,74.0,78.0,79.0,80.0,81.0,73.0,72.0,71.0,61.0,58.0,61.0,61.0,61.0,57.0,56.0,55.0,51.0,51.0,55.0,56.0,55.0,51.0,51.0,51.0,57.0,57.0,56.0,57.0,55.0,54.0,51.0,48.0,34.0,32.0,33.0,34.0,34.0,33.0,32.0,28.0,28.0,25.0,25.0,25.0,25.0,28.0,28.0,35.0,34.0,38.0,48.0,48.0,51.0,51.0,51.0,48.0,40.0,38.0,38.0,38.0,34.0,34.0,28.0,28.0,28.0,25.0,11.0,10.0,11.0,11.0,18.0,25.0,25.0,28.0,28.0,25.0,25.0,25.0,17.0,15.0,11.0,15.0,18.0,18.0,18.0,18.0,15.0,12.0,12.0,11.0,10.0,9.0,5.0,5.0,0.0],\"y\":[15.0,18.0,21.0,28.0,33.0,33.0,36.0,40.0,44.0,51.0,60.0,64.0,61.0,64.0,61.0,51.0,61.0,61.0,51.0,45.0,42.0,40.0,39.0,36.0,37.0,37.0,43.0,47.0,50.0,49.0,54.0,56.0,61.0,64.0,62.0,59.0,61.0,58.0,59.0,62.0,64.0,64.0,60.0,57.0,52.0,58.0,55.0,52.0,50.0,52.0,55.0,58.0,63.0,60.0,57.0,60.0,63.0,58.0,55.0,54.0,46.0,43.0,39.0,34.0,29.0,25.0,19.0,15.0,16.0,12.0,5.0,7.0,11.0,15.0,19.0,25.0,26.0,29.0,34.0,37.0,38.0,40.0,42.0,44.0,44.0,40.0,42.0,36.0,35.0,34.0,30.0,28.0,25.0,27.0,24.0,16.0,15.0,11.0,6.0,12.0,10.0,10.0,15.0,11.0,10.0,6.0,6.0,11.0,13.0,13.0,15.0,17.0,19.0,19.0,21.0,23.0,20.0,22.0,25.0,28.0,30.0,34.0,35.0,36.0,39.0,41.0,42.0,44.0,45.0,43.0,37.0,37.0,35.0,33.0,31.0,29.0,27.0,25.0,25.0,31.0,31.0,25.0,19.0,13.0,10.0,10.0,10.0,10.0,0.0,0.0,6.0,11.0,15.0,18.0,21.0,25.0,28.0,24.0,26.0,26.0,22.0,22.0,20.0,19.0,18.0,14.0,11.0,12.0,10.0,10.0,5.0,0.0,0.0,7.0,10.0,5.0,10.0,10.0,10.0,13.0,13.0,13.0,12.0,7.0,10.0,12.0,14.0,16.0,15.0,19.0,24.0,28.0,27.0,32.0,34.0,37.0,40.0,42.0,45.0,45.0,42.0,40.0,37.0,36.0,39.0,37.0,40.0,42.0,45.0,42.0,42.0,34.0,31.0,28.0,34.0,32.0,27.0,23.0,23.0,20.0,18.0,21.0,18.0,17.0,13.0,15.0,14.0,13.0,11.0,8.0,5.0,10.0,10.0,10.0,10.0,8.0,13.0,15.0]},\"selected\":{\"id\":\"1648\"},\"selection_policy\":{\"id\":\"1647\"}},\"id\":\"1631\",\"type\":\"ColumnDataSource\"},{\"attributes\":{\"source\":{\"id\":\"1631\"}},\"id\":\"1635\",\"type\":\"CDSView\"},{\"attributes\":{\"line_width\":4,\"x\":{\"field\":\"x\"},\"y\":{\"field\":\"y\"}},\"id\":\"1632\",\"type\":\"Line\"},{\"attributes\":{},\"id\":\"1619\",\"type\":\"ResetTool\"},{\"attributes\":{\"text\":\"\"},\"id\":\"1597\",\"type\":\"Title\"},{\"attributes\":{\"data_source\":{\"id\":\"1631\"},\"glyph\":{\"id\":\"1632\"},\"hover_glyph\":null,\"muted_glyph\":null,\"nonselection_glyph\":{\"id\":\"1633\"},\"selection_glyph\":null,\"view\":{\"id\":\"1635\"}},\"id\":\"1634\",\"type\":\"GlyphRenderer\"},{\"attributes\":{\"background_fill_color\":null,\"below\":[{\"id\":\"1607\"}],\"border_fill_color\":null,\"center\":[{\"id\":\"1610\"},{\"id\":\"1614\"}],\"left\":[{\"id\":\"1611\"}],\"outline_line_color\":null,\"plot_height\":400,\"plot_width\":400,\"renderers\":[{\"id\":\"1634\"},{\"id\":\"1639\"}],\"title\":{\"id\":\"1597\"},\"toolbar\":{\"id\":\"1622\"},\"toolbar_location\":null,\"x_range\":{\"id\":\"1599\"},\"x_scale\":{\"id\":\"1603\"},\"y_range\":{\"id\":\"1601\"},\"y_scale\":{\"id\":\"1605\"}},\"id\":\"1596\",\"subtype\":\"Figure\",\"type\":\"Plot\"},{\"attributes\":{},\"id\":\"1618\",\"type\":\"SaveTool\"},{\"attributes\":{\"data\":{\"x\":[0.0,0.0,0.0,0.0,2.0,2.0,2.0,5.0,5.0,5.0,5.0,5.0,5.0,5.0,9.0,10.0,10.0,11.0,11.0,11.0,11.0,11.0,12.0,12.0,12.0,15.0,15.0,15.0,15.0,17.0,18.0,18.0,18.0,18.0,18.0,25.0,25.0,25.0,25.0,25.0,25.0,25.0,25.0,25.0,25.0,25.0,28.0,28.0,28.0,28.0,28.0,28.0,28.0,28.0,28.0,32.0,32.0,33.0,33.0,34.0,34.0,34.0,34.0,34.0,34.0,34.0,35.0,38.0,38.0,38.0,38.0,40.0,41.0,48.0,48.0,48.0,48.0,48.0,51.0,51.0,51.0,51.0,51.0,51.0,51.0,51.0,51.0,54.0,55.0,55.0,55.0,55.0,56.0,56.0,56.0,57.0,57.0,57.0,57.0,57.0,57.0,57.0,58.0,61.0,61.0,61.0,61.0,61.0,61.0,61.0,63.0,64.0,71.0,71.0,71.0,72.0,73.0,74.0,74.0,74.0,74.0,74.0,74.0,74.0,74.0,74.0,74.0,78.0,79.0,80.0,80.0,80.0,80.0,80.0,81.0,84.0,84.0,84.0,84.0,84.0,84.0,84.0,84.0,84.0,86.0,87.0,87.0,87.0,87.0,87.0,87.0,87.0,87.0,87.0,87.0,87.0,87.0,87.0,87.0,87.0,87.0,87.0,87.0,87.0,94.0,94.0,94.0,94.0,94.0,94.0,94.0,94.0,97.0,97.0,97.0,97.0,97.0,97.0,97.0,97.0,102.0,103.0,103.0,103.0,103.0,103.0,103.0,103.0,104.0,107.0,107.0,107.0,107.0,107.0,109.0,109.0,109.0,109.0,110.0,117.0,117.0,117.0,120.0,120.0,120.0,120.0,120.0,120.0,120.0,120.0,120.0,120.0,120.0,120.0,123.0,124.0,124.0,124.0,125.0,125.0,126.0,126.0,126.0,126.0,127.0,127.0,130.0,130.0,130.0,130.0,130.0,130.0,130.0,130.0,130.0,130.0,132.0],\"y\":[15.0,33.0,51.0,60.0,21.0,28.0,44.0,13.0,18.0,33.0,36.0,40.0,64.0,8.0,10.0,10.0,42.0,10.0,17.0,31.0,34.0,42.0,10.0,5.0,61.0,13.0,18.0,64.0,8.0,21.0,11.0,13.0,14.0,15.0,28.0,10.0,12.0,14.0,16.0,18.0,20.0,23.0,32.0,34.0,45.0,61.0,12.0,15.0,19.0,23.0,27.0,37.0,40.0,42.0,7.0,10.0,13.0,10.0,13.0,10.0,13.0,28.0,36.0,39.0,5.0,51.0,24.0,27.0,37.0,40.0,42.0,45.0,61.0,10.0,32.0,34.0,45.0,61.0,11.0,14.0,18.0,22.0,26.0,37.0,40.0,42.0,7.0,0.0,0.0,19.0,22.0,26.0,10.0,20.0,24.0,10.0,12.0,28.0,36.0,39.0,5.0,51.0,15.0,11.0,18.0,21.0,25.0,37.0,40.0,42.0,45.0,61.0,54.0,56.0,6.0,0.0,0.0,13.0,19.0,25.0,31.0,37.0,43.0,49.0,59.0,62.0,64.0,10.0,10.0,10.0,47.0,50.0,58.0,61.0,10.0,13.0,19.0,25.0,31.0,37.0,43.0,59.0,62.0,64.0,6.0,11.0,13.0,15.0,17.0,19.0,21.0,23.0,25.0,27.0,29.0,31.0,33.0,35.0,37.0,39.0,41.0,42.0,44.0,45.0,10.0,20.0,22.0,34.0,35.0,36.0,52.0,6.0,11.0,15.0,25.0,28.0,30.0,57.0,60.0,64.0,10.0,10.0,16.0,24.0,27.0,42.0,55.0,58.0,12.0,11.0,15.0,25.0,28.0,30.0,34.0,35.0,36.0,6.0,52.0,50.0,52.0,63.0,11.0,15.0,19.0,25.0,29.0,34.0,40.0,44.0,55.0,58.0,60.0,7.0,26.0,37.0,40.0,44.0,38.0,42.0,46.0,5.0,54.0,57.0,12.0,16.0,15.0,19.0,25.0,29.0,34.0,39.0,43.0,55.0,58.0,60.0,63.0]},\"selected\":{\"id\":\"1650\"},\"selection_policy\":{\"id\":\"1649\"}},\"id\":\"1636\",\"type\":\"ColumnDataSource\"},{\"attributes\":{\"line_alpha\":0.1,\"line_width\":4,\"x\":{\"field\":\"x\"},\"y\":{\"field\":\"y\"}},\"id\":\"1633\",\"type\":\"Line\"},{\"attributes\":{\"fill_color\":{\"value\":\"steelblue\"},\"line_color\":{\"value\":\"steelblue\"},\"size\":{\"units\":\"screen\",\"value\":8},\"x\":{\"field\":\"x\"},\"y\":{\"field\":\"y\"}},\"id\":\"1637\",\"type\":\"Circle\"},{\"attributes\":{},\"id\":\"1620\",\"type\":\"HelpTool\"},{\"attributes\":{\"data_source\":{\"id\":\"1636\"},\"glyph\":{\"id\":\"1637\"},\"hover_glyph\":null,\"muted_glyph\":null,\"nonselection_glyph\":{\"id\":\"1638\"},\"selection_glyph\":null,\"view\":{\"id\":\"1640\"}},\"id\":\"1639\",\"type\":\"GlyphRenderer\"},{\"attributes\":{\"end\":69.44,\"start\":-5.44},\"id\":\"1601\",\"type\":\"Range1d\"},{\"attributes\":{\"formatter\":{\"id\":\"1645\"},\"ticker\":{\"id\":\"1612\"},\"visible\":false},\"id\":\"1611\",\"type\":\"LinearAxis\"},{\"attributes\":{},\"id\":\"1643\",\"type\":\"BasicTickFormatter\"},{\"attributes\":{\"overlay\":{\"id\":\"1621\"}},\"id\":\"1617\",\"type\":\"BoxZoomTool\"},{\"attributes\":{\"fill_alpha\":{\"value\":0.1},\"fill_color\":{\"value\":\"steelblue\"},\"line_alpha\":{\"value\":0.1},\"line_color\":{\"value\":\"steelblue\"},\"size\":{\"units\":\"screen\",\"value\":8},\"x\":{\"field\":\"x\"},\"y\":{\"field\":\"y\"}},\"id\":\"1638\",\"type\":\"Circle\"},{\"attributes\":{\"align\":\"center\",\"text\":\"1073.4\",\"width\":400},\"id\":\"1630\",\"type\":\"Div\"},{\"attributes\":{\"source\":{\"id\":\"1636\"}},\"id\":\"1640\",\"type\":\"CDSView\"},{\"attributes\":{},\"id\":\"1605\",\"type\":\"LinearScale\"},{\"attributes\":{\"end\":143.22,\"start\":-11.22},\"id\":\"1599\",\"type\":\"Range1d\"},{\"attributes\":{},\"id\":\"1603\",\"type\":\"LinearScale\"},{\"attributes\":{},\"id\":\"1645\",\"type\":\"BasicTickFormatter\"},{\"attributes\":{},\"id\":\"1649\",\"type\":\"UnionRenderers\"},{\"attributes\":{\"axis\":{\"id\":\"1611\"},\"dimension\":1,\"grid_line_color\":null,\"ticker\":null},\"id\":\"1614\",\"type\":\"Grid\"},{\"attributes\":{},\"id\":\"1647\",\"type\":\"UnionRenderers\"},{\"attributes\":{},\"id\":\"1612\",\"type\":\"BasicTicker\"},{\"attributes\":{},\"id\":\"1648\",\"type\":\"Selection\"},{\"attributes\":{\"axis\":{\"id\":\"1607\"},\"grid_line_color\":null,\"ticker\":null},\"id\":\"1610\",\"type\":\"Grid\"},{\"attributes\":{\"formatter\":{\"id\":\"1643\"},\"ticker\":{\"id\":\"1608\"},\"visible\":false},\"id\":\"1607\",\"type\":\"LinearAxis\"},{\"attributes\":{},\"id\":\"1650\",\"type\":\"Selection\"},{\"attributes\":{},\"id\":\"1608\",\"type\":\"BasicTicker\"}],\"root_ids\":[\"1652\"]},\"title\":\"Bokeh Application\",\"version\":\"2.1.0\"}};\n",
       "  var render_items = [{\"docid\":\"d5b72d3e-553a-4fc0-9d7e-89fca45740aa\",\"root_ids\":[\"1652\"],\"roots\":{\"1652\":\"a367177d-8097-4ebe-9e88-268297428a62\"}}];\n",
       "  root.Bokeh.embed.embed_items_notebook(docs_json, render_items);\n",
       "\n",
       "  }\n",
       "  if (root.Bokeh !== undefined) {\n",
       "    embed_document(root);\n",
       "  } else {\n",
       "    var attempts = 0;\n",
       "    var timer = setInterval(function(root) {\n",
       "      if (root.Bokeh !== undefined) {\n",
       "        clearInterval(timer);\n",
       "        embed_document(root);\n",
       "      } else {\n",
       "        attempts++;\n",
       "        if (attempts > 100) {\n",
       "          clearInterval(timer);\n",
       "          console.log(\"Bokeh: ERROR: Unable to run BokehJS code because BokehJS library is missing\");\n",
       "        }\n",
       "      }\n",
       "    }, 10, root)\n",
       "  }\n",
       "})(window);"
      ],
      "application/vnd.bokehjs_exec.v0+json": ""
     },
     "metadata": {
      "application/vnd.bokehjs_exec.v0+json": {
       "id": "1652"
      }
     },
     "output_type": "display_data"
    }
   ],
   "source": [
    "# VLSI drilling\n",
    "nodes = pd.read_csv('data/xqg237.csv', index_col=0)\n",
    "G = distance_matrix(nodes, manhattan=False)\n",
    "plot_tour(nodes, G, solve_tsp(G))"
   ]
  },
  {
   "cell_type": "code",
   "execution_count": 6,
   "metadata": {
    "scrolled": false
   },
   "outputs": [
    {
     "data": {
      "text/html": [
       "\n",
       "\n",
       "\n",
       "\n",
       "\n",
       "\n",
       "  <div class=\"bk-root\" id=\"2d079fd4-b95d-4ab8-8103-626dc71bf755\" data-root-id=\"1835\"></div>\n"
      ]
     },
     "metadata": {},
     "output_type": "display_data"
    },
    {
     "data": {
      "application/javascript": [
       "(function(root) {\n",
       "  function embed_document(root) {\n",
       "    \n",
       "  var docs_json = {\"3ee7d5de-8f4b-462f-b4fe-e719c03fb012\":{\"roots\":{\"references\":[{\"attributes\":{\"children\":[[{\"id\":\"1765\"},0,0],[{\"id\":\"1799\"},1,0]]},\"id\":\"1835\",\"type\":\"GridBox\"},{\"attributes\":{},\"id\":\"1774\",\"type\":\"LinearScale\"},{\"attributes\":{\"fill_color\":{\"value\":\"steelblue\"},\"line_color\":{\"value\":\"steelblue\"},\"size\":{\"units\":\"screen\",\"value\":5},\"x\":{\"field\":\"x\"},\"y\":{\"field\":\"y\"}},\"id\":\"1811\",\"type\":\"Circle\"},{\"attributes\":{},\"id\":\"1830\",\"type\":\"UnionRenderers\"},{\"attributes\":{\"data_source\":{\"id\":\"1810\"},\"glyph\":{\"id\":\"1811\"},\"hover_glyph\":null,\"muted_glyph\":null,\"nonselection_glyph\":{\"id\":\"1812\"},\"selection_glyph\":null,\"view\":{\"id\":\"1814\"}},\"id\":\"1813\",\"type\":\"GlyphRenderer\"},{\"attributes\":{\"formatter\":{\"id\":\"1822\"},\"ticker\":{\"id\":\"1777\"},\"visible\":false},\"id\":\"1776\",\"type\":\"LinearAxis\"},{\"attributes\":{\"fill_alpha\":{\"value\":0.1},\"fill_color\":{\"value\":\"steelblue\"},\"line_alpha\":{\"value\":0.1},\"line_color\":{\"value\":\"steelblue\"},\"size\":{\"units\":\"screen\",\"value\":5},\"x\":{\"field\":\"x\"},\"y\":{\"field\":\"y\"}},\"id\":\"1812\",\"type\":\"Circle\"},{\"attributes\":{\"source\":{\"id\":\"1810\"}},\"id\":\"1814\",\"type\":\"CDSView\"},{\"attributes\":{},\"id\":\"1777\",\"type\":\"BasicTicker\"},{\"attributes\":{\"data\":{\"x\":[3,1,6,3,5,6,12,4,12,6,12,6,11,12,13,14,15,19,18,18,14,18,14,18,21,17,23,18,23,23,23,19,19,24,24,24,25,23,23,25,18,25,17,25,30,32,26,26,32,26,26,30,25,27,27,34,27,29,28,28,33,35,32,36,36,33,36,37,42,40,37,34,39,33,36,38,38,43,39,41,45,47,47,42,47,46,51,53,51,51,58,59,62,60,60,62,68,62,67,70,72,70,71,78,74,82,80,81,79,73,74,73,76,81,78,79,78,82,85,80,85,83,81,84,87,90,89,87,91,87,110,3,0],\"y\":[13,29,30,39,1,16,22,28,34,40,46,11,7,10,15,16,16,8,13,24,28,31,40,50,11,20,16,18,20,22,24,26,28,30,32,34,36,38,40,42,44,45,47,48,14,18,25,26,27,29,31,32,12,19,23,31,33,37,43,46,50,27,34,16,31,32,37,13,29,32,38,41,44,8,20,36,19,23,33,41,25,26,35,37,38,39,27,30,13,48,50,24,15,30,43,48,50,9,28,14,16,19,48,50,15,19,23,27,32,38,42,9,24,9,35,38,42,17,36,40,13,40,8,22,25,27,32,40,41,13,32,3,0]},\"selected\":{\"id\":\"1833\"},\"selection_policy\":{\"id\":\"1832\"}},\"id\":\"1815\",\"type\":\"ColumnDataSource\"},{\"attributes\":{\"axis\":{\"id\":\"1776\"},\"grid_line_color\":null,\"ticker\":null},\"id\":\"1779\",\"type\":\"Grid\"},{\"attributes\":{},\"id\":\"1831\",\"type\":\"Selection\"},{\"attributes\":{\"formatter\":{\"id\":\"1824\"},\"ticker\":{\"id\":\"1781\"},\"visible\":false},\"id\":\"1780\",\"type\":\"LinearAxis\"},{\"attributes\":{\"fill_color\":{\"value\":\"#DC0000\"},\"line_color\":{\"value\":\"#DC0000\"},\"size\":{\"units\":\"screen\",\"value\":5},\"x\":{\"field\":\"x\"},\"y\":{\"field\":\"y\"}},\"id\":\"1816\",\"type\":\"Circle\"},{\"attributes\":{\"end\":119.35,\"start\":-9.350000000000001},\"id\":\"1768\",\"type\":\"Range1d\"},{\"attributes\":{},\"id\":\"1829\",\"type\":\"Selection\"},{\"attributes\":{},\"id\":\"1781\",\"type\":\"BasicTicker\"},{\"attributes\":{\"background_fill_color\":null,\"below\":[{\"id\":\"1776\"}],\"border_fill_color\":null,\"center\":[{\"id\":\"1779\"},{\"id\":\"1783\"}],\"left\":[{\"id\":\"1780\"}],\"outline_line_color\":null,\"plot_height\":400,\"plot_width\":800,\"renderers\":[{\"id\":\"1803\"},{\"id\":\"1808\"},{\"id\":\"1813\"},{\"id\":\"1818\"}],\"title\":{\"id\":\"1766\"},\"toolbar\":{\"id\":\"1791\"},\"toolbar_location\":null,\"x_range\":{\"id\":\"1768\"},\"x_scale\":{\"id\":\"1772\"},\"y_range\":{\"id\":\"1770\"},\"y_scale\":{\"id\":\"1774\"}},\"id\":\"1765\",\"subtype\":\"Figure\",\"type\":\"Plot\"},{\"attributes\":{\"data_source\":{\"id\":\"1815\"},\"glyph\":{\"id\":\"1816\"},\"hover_glyph\":null,\"muted_glyph\":null,\"nonselection_glyph\":{\"id\":\"1817\"},\"selection_glyph\":null,\"view\":{\"id\":\"1819\"}},\"id\":\"1818\",\"type\":\"GlyphRenderer\"},{\"attributes\":{\"bottom_units\":\"screen\",\"fill_alpha\":0.5,\"fill_color\":\"lightgrey\",\"left_units\":\"screen\",\"level\":\"overlay\",\"line_alpha\":1.0,\"line_color\":\"black\",\"line_dash\":[4,4],\"line_width\":2,\"right_units\":\"screen\",\"top_units\":\"screen\"},\"id\":\"1790\",\"type\":\"BoxAnnotation\"},{\"attributes\":{\"axis\":{\"id\":\"1780\"},\"dimension\":1,\"grid_line_color\":null,\"ticker\":null},\"id\":\"1783\",\"type\":\"Grid\"},{\"attributes\":{\"fill_alpha\":{\"value\":0.1},\"fill_color\":{\"value\":\"#DC0000\"},\"line_alpha\":{\"value\":0.1},\"line_color\":{\"value\":\"#DC0000\"},\"size\":{\"units\":\"screen\",\"value\":5},\"x\":{\"field\":\"x\"},\"y\":{\"field\":\"y\"}},\"id\":\"1817\",\"type\":\"Circle\"},{\"attributes\":{\"source\":{\"id\":\"1815\"}},\"id\":\"1819\",\"type\":\"CDSView\"},{\"attributes\":{\"line_alpha\":{\"value\":0.1},\"line_width\":{\"value\":2},\"xs\":{\"field\":\"xs\"},\"ys\":{\"field\":\"ys\"}},\"id\":\"1802\",\"type\":\"MultiLine\"},{\"attributes\":{\"source\":{\"id\":\"1800\"}},\"id\":\"1804\",\"type\":\"CDSView\"},{\"attributes\":{\"text\":\"\"},\"id\":\"1766\",\"type\":\"Title\"},{\"attributes\":{\"line_width\":{\"value\":2},\"xs\":{\"field\":\"xs\"},\"ys\":{\"field\":\"ys\"}},\"id\":\"1801\",\"type\":\"MultiLine\"},{\"attributes\":{\"end\":54.25,\"start\":-4.25},\"id\":\"1770\",\"type\":\"Range1d\"},{\"attributes\":{\"data\":{\"xs\":[[3.0,3.0],[3.0,1.0],[3.0,6.0],[3.0,3.0],[5.0,5.0],[8.0,6.0],[8.0,12.0],[8.0,4.0],[8.0,12.0],[8.0,6.0],[8.0,12.0],[8.0,6.0],[11.0,11.0],[12.0,12.0],[13.0,13.0],[14.0,14.0],[15.0,15.0],[15.0,19.0],[18.0,18.0],[18.0,18.0],[18.0,14.0],[18.0,18.0],[18.0,14.0],[18.0,18.0],[18.0,21.0],[13.0,17.0],[21.0,23.0],[21.0,18.0],[21.0,23.0],[21.0,23.0],[21.0,23.0],[21.0,19.0],[21.0,19.0],[21.0,24.0],[21.0,24.0],[21.0,24.0],[21.0,25.0],[21.0,23.0],[21.0,23.0],[21.0,25.0],[21.0,18.0],[21.0,25.0],[21.0,17.0],[21.0,25.0],[28.0,30.0],[28.0,32.0],[28.0,26.0],[28.0,26.0],[28.0,32.0],[28.0,26.0],[28.0,26.0],[28.0,30.0],[28.0,25.0],[31.0,27.0],[31.0,27.0],[31.0,34.0],[31.0,27.0],[31.0,29.0],[31.0,28.0],[31.0,28.0],[31.0,33.0],[35.0,35.0],[35.0,32.0],[36.0,36.0],[36.0,36.0],[36.0,33.0],[36.0,36.0],[37.0,37.0],[37.0,42.0],[37.0,40.0],[37.0,37.0],[37.0,34.0],[37.0,39.0],[37.0,33.0],[38.0,36.0],[38.0,38.0],[41.0,38.0],[41.0,43.0],[41.0,39.0],[41.0,41.0],[43.0,45.0],[44.0,47.0],[44.0,47.0],[44.0,42.0],[44.0,47.0],[44.0,46.0],[51.0,51.0],[51.0,53.0],[51.0,51.0],[54.0,51.0],[54.0,58.0],[59.0,59.0],[60.0,62.0],[60.0,60.0],[60.0,60.0],[64.0,62.0],[64.0,68.0],[66.0,62.0],[67.0,67.0],[74.0,70.0],[74.0,72.0],[74.0,70.0],[74.0,71.0],[74.0,78.0],[77.0,74.0],[77.0,82.0],[77.0,80.0],[77.0,81.0],[77.0,79.0],[77.0,73.0],[77.0,74.0],[77.0,73.0],[80.0,76.0],[81.0,81.0],[81.0,78.0],[81.0,79.0],[81.0,78.0],[82.0,82.0],[82.0,85.0],[82.0,80.0],[83.0,85.0],[83.0,83.0],[83.0,81.0],[84.0,84.0],[87.0,87.0],[87.0,90.0],[87.0,89.0],[87.0,87.0],[87.0,91.0],[87.0,87.0],[110.0,110.0],[3.0,3.0],[0.0,0.0]],\"ys\":[[16.0,13.0],[29.0,29.0],[30.0,30.0],[42.0,39.0],[3.0,1.0],[16.0,16.0],[22.0,22.0],[28.0,28.0],[34.0,34.0],[40.0,40.0],[46.0,46.0],[11.0,11.0],[3.0,7.0],[13.0,10.0],[13.0,15.0],[13.0,16.0],[13.0,16.0],[8.0,8.0],[16.0,13.0],[22.0,24.0],[28.0,28.0],[34.0,31.0],[40.0,40.0],[48.0,50.0],[11.0,11.0],[20.0,20.0],[16.0,16.0],[18.0,18.0],[20.0,20.0],[22.0,22.0],[24.0,24.0],[26.0,26.0],[28.0,28.0],[30.0,30.0],[32.0,32.0],[34.0,34.0],[36.0,36.0],[38.0,38.0],[40.0,40.0],[42.0,42.0],[44.0,44.0],[45.0,45.0],[47.0,47.0],[48.0,48.0],[14.0,14.0],[18.0,18.0],[25.0,25.0],[26.0,26.0],[27.0,27.0],[29.0,29.0],[31.0,31.0],[32.0,32.0],[12.0,12.0],[19.0,19.0],[23.0,23.0],[31.0,31.0],[33.0,33.0],[37.0,37.0],[43.0,43.0],[46.0,46.0],[50.0,50.0],[29.0,27.0],[34.0,34.0],[18.0,16.0],[29.0,31.0],[32.0,32.0],[34.0,37.0],[18.0,13.0],[29.0,29.0],[32.0,32.0],[34.0,38.0],[41.0,41.0],[44.0,44.0],[8.0,8.0],[20.0,20.0],[34.0,36.0],[19.0,19.0],[23.0,23.0],[33.0,33.0],[37.0,41.0],[25.0,25.0],[26.0,26.0],[35.0,35.0],[37.0,37.0],[38.0,38.0],[39.0,39.0],[25.0,27.0],[30.0,30.0],[9.0,13.0],[48.0,48.0],[50.0,50.0],[28.0,24.0],[15.0,15.0],[28.0,30.0],[47.0,43.0],[48.0,48.0],[50.0,50.0],[9.0,9.0],[25.0,28.0],[14.0,14.0],[16.0,16.0],[19.0,19.0],[48.0,48.0],[50.0,50.0],[15.0,15.0],[19.0,19.0],[23.0,23.0],[27.0,27.0],[32.0,32.0],[38.0,38.0],[42.0,42.0],[9.0,9.0],[24.0,24.0],[13.0,9.0],[35.0,35.0],[38.0,38.0],[42.0,42.0],[13.0,17.0],[36.0,36.0],[40.0,40.0],[13.0,13.0],[44.0,40.0],[8.0,8.0],[20.0,22.0],[23.0,25.0],[27.0,27.0],[32.0,32.0],[37.0,40.0],[41.0,41.0],[9.0,13.0],[30.0,32.0],[3.0,3.0],[0.0,0.0]]},\"selected\":{\"id\":\"1827\"},\"selection_policy\":{\"id\":\"1826\"}},\"id\":\"1800\",\"type\":\"ColumnDataSource\"},{\"attributes\":{\"data_source\":{\"id\":\"1800\"},\"glyph\":{\"id\":\"1801\"},\"hover_glyph\":null,\"muted_glyph\":null,\"nonselection_glyph\":{\"id\":\"1802\"},\"selection_glyph\":null,\"view\":{\"id\":\"1804\"}},\"id\":\"1803\",\"type\":\"GlyphRenderer\"},{\"attributes\":{},\"id\":\"1822\",\"type\":\"BasicTickFormatter\"},{\"attributes\":{},\"id\":\"1784\",\"type\":\"PanTool\"},{\"attributes\":{},\"id\":\"1824\",\"type\":\"BasicTickFormatter\"},{\"attributes\":{\"data\":{\"x\":[3.0,3.0,8.0,6.0,13.0,13.0,15.0,15.0,18.0,18.0,21.0,18.0,21.0,23.0,28.0,26.0,28.0,26.0,28.0,26.0,28.0,30.0,31.0,27.0,36.0,33.0,36.0,36.0,35.0,35.0,28.0,32.0,28.0,26.0,31.0,27.0,28.0,32.0,28.0,30.0,28.0,25.0,37.0,33.0,37.0,37.0,38.0,36.0,41.0,43.0,37.0,40.0,41.0,39.0,44.0,42.0,44.0,47.0,44.0,47.0,44.0,46.0,41.0,41.0,37.0,37.0,38.0,38.0,36.0,36.0,31.0,29.0,21.0,25.0,21.0,23.0,21.0,23.0,21.0,25.0,21.0,18.0,21.0,25.0,21.0,17.0,21.0,25.0,18.0,18.0,8.0,12.0,3.0,3.0,8.0,6.0,18.0,14.0,8.0,12.0,3.0,6.0,3.0,1.0,8.0,4.0,18.0,14.0,18.0,18.0,13.0,17.0,8.0,12.0,8.0,6.0,3.0,3.0,0.0,0.0,5.0,5.0,11.0,11.0,15.0,19.0,18.0,21.0,21.0,23.0,31.0,27.0,36.0,36.0,41.0,38.0,51.0,51.0,66.0,62.0,77.0,73.0,83.0,81.0,81.0,81.0,82.0,82.0,83.0,85.0,87.0,87.0,110.0,110.0,87.0,89.0,87.0,90.0,87.0,87.0,84.0,84.0,77.0,82.0,77.0,80.0,67.0,67.0,59.0,59.0,60.0,60.0,60.0,62.0,74.0,70.0,77.0,74.0,74.0,72.0,74.0,70.0,80.0,76.0,77.0,81.0,77.0,79.0,81.0,78.0,81.0,79.0,82.0,80.0,83.0,83.0,87.0,91.0,87.0,87.0,82.0,85.0,77.0,73.0,77.0,74.0,81.0,78.0,74.0,78.0,74.0,71.0,64.0,68.0,64.0,62.0,60.0,60.0,54.0,58.0,54.0,51.0,51.0,53.0,51.0,51.0,44.0,47.0,43.0,45.0,37.0,42.0,31.0,34.0,35.0,32.0,37.0,34.0,37.0,39.0,31.0,33.0,31.0,28.0,31.0,28.0,21.0,24.0,21.0,24.0,21.0,24.0,18.0,18.0,21.0,19.0,21.0,19.0,21.0,23.0,21.0,23.0,14.0,14.0,12.0,12.0,3.0,3.0],\"y\":[16.0,13.0,16.0,16.0,13.0,15.0,13.0,16.0,16.0,13.0,18.0,18.0,20.0,20.0,26.0,26.0,29.0,29.0,31.0,31.0,32.0,32.0,33.0,33.0,32.0,32.0,29.0,31.0,29.0,27.0,27.0,27.0,25.0,25.0,23.0,23.0,18.0,18.0,14.0,14.0,12.0,12.0,8.0,8.0,18.0,13.0,20.0,20.0,23.0,23.0,32.0,32.0,33.0,33.0,37.0,37.0,35.0,35.0,38.0,38.0,39.0,39.0,37.0,41.0,34.0,38.0,34.0,36.0,34.0,37.0,37.0,37.0,36.0,36.0,38.0,38.0,40.0,40.0,42.0,42.0,44.0,44.0,45.0,45.0,47.0,47.0,48.0,48.0,48.0,50.0,46.0,46.0,42.0,39.0,40.0,40.0,40.0,40.0,34.0,34.0,30.0,30.0,29.0,29.0,28.0,28.0,28.0,28.0,22.0,24.0,20.0,20.0,22.0,22.0,11.0,11.0,3.0,3.0,0.0,0.0,3.0,1.0,3.0,7.0,8.0,8.0,11.0,11.0,16.0,16.0,19.0,19.0,18.0,16.0,19.0,19.0,9.0,13.0,9.0,9.0,9.0,9.0,8.0,8.0,13.0,9.0,13.0,17.0,13.0,13.0,9.0,13.0,30.0,32.0,32.0,32.0,27.0,27.0,23.0,25.0,20.0,22.0,19.0,19.0,23.0,23.0,25.0,28.0,28.0,24.0,28.0,30.0,15.0,15.0,14.0,14.0,15.0,15.0,16.0,16.0,19.0,19.0,24.0,24.0,27.0,27.0,32.0,32.0,35.0,35.0,38.0,38.0,40.0,40.0,44.0,40.0,41.0,41.0,37.0,40.0,36.0,36.0,38.0,38.0,42.0,42.0,42.0,42.0,50.0,50.0,48.0,48.0,50.0,50.0,48.0,48.0,47.0,43.0,50.0,50.0,48.0,48.0,30.0,30.0,25.0,27.0,26.0,26.0,25.0,25.0,29.0,29.0,31.0,31.0,34.0,34.0,41.0,41.0,44.0,44.0,50.0,50.0,46.0,46.0,43.0,43.0,34.0,34.0,32.0,32.0,30.0,30.0,34.0,31.0,28.0,28.0,26.0,26.0,24.0,24.0,22.0,22.0,13.0,16.0,13.0,10.0,16.0,13.0]},\"selected\":{\"id\":\"1829\"},\"selection_policy\":{\"id\":\"1828\"}},\"id\":\"1805\",\"type\":\"ColumnDataSource\"},{\"attributes\":{},\"id\":\"1785\",\"type\":\"WheelZoomTool\"},{\"attributes\":{},\"id\":\"1826\",\"type\":\"UnionRenderers\"},{\"attributes\":{\"source\":{\"id\":\"1805\"}},\"id\":\"1809\",\"type\":\"CDSView\"},{\"attributes\":{\"overlay\":{\"id\":\"1790\"}},\"id\":\"1786\",\"type\":\"BoxZoomTool\"},{\"attributes\":{},\"id\":\"1827\",\"type\":\"Selection\"},{\"attributes\":{\"line_dash\":[6],\"line_width\":2,\"x\":{\"field\":\"x\"},\"y\":{\"field\":\"y\"}},\"id\":\"1806\",\"type\":\"Line\"},{\"attributes\":{\"line_alpha\":0.1,\"line_dash\":[6],\"line_width\":2,\"x\":{\"field\":\"x\"},\"y\":{\"field\":\"y\"}},\"id\":\"1807\",\"type\":\"Line\"},{\"attributes\":{},\"id\":\"1787\",\"type\":\"SaveTool\"},{\"attributes\":{},\"id\":\"1828\",\"type\":\"UnionRenderers\"},{\"attributes\":{},\"id\":\"1772\",\"type\":\"LinearScale\"},{\"attributes\":{\"data_source\":{\"id\":\"1805\"},\"glyph\":{\"id\":\"1806\"},\"hover_glyph\":null,\"muted_glyph\":null,\"nonselection_glyph\":{\"id\":\"1807\"},\"selection_glyph\":null,\"view\":{\"id\":\"1809\"}},\"id\":\"1808\",\"type\":\"GlyphRenderer\"},{\"attributes\":{},\"id\":\"1788\",\"type\":\"ResetTool\"},{\"attributes\":{},\"id\":\"1833\",\"type\":\"Selection\"},{\"attributes\":{},\"id\":\"1789\",\"type\":\"HelpTool\"},{\"attributes\":{\"align\":\"center\",\"text\":\"681.2\",\"width\":800},\"id\":\"1799\",\"type\":\"Div\"},{\"attributes\":{\"data\":{\"x\":[3.0,3.0,3.0,3.0,5.0,8.0,8.0,8.0,8.0,8.0,8.0,8.0,11.0,12.0,13.0,14.0,15.0,15.0,18.0,18.0,18.0,18.0,18.0,18.0,18.0,13.0,21.0,21.0,21.0,21.0,21.0,21.0,21.0,21.0,21.0,21.0,21.0,21.0,21.0,21.0,21.0,21.0,21.0,21.0,28.0,28.0,28.0,28.0,28.0,28.0,28.0,28.0,28.0,31.0,31.0,31.0,31.0,31.0,31.0,31.0,31.0,35.0,35.0,36.0,36.0,36.0,36.0,37.0,37.0,37.0,37.0,37.0,37.0,37.0,38.0,38.0,41.0,41.0,41.0,41.0,43.0,44.0,44.0,44.0,44.0,44.0,51.0,51.0,51.0,54.0,54.0,59.0,60.0,60.0,60.0,64.0,64.0,66.0,67.0,74.0,74.0,74.0,74.0,74.0,77.0,77.0,77.0,77.0,77.0,77.0,77.0,77.0,80.0,81.0,81.0,81.0,81.0,82.0,82.0,82.0,83.0,83.0,83.0,84.0,87.0,87.0,87.0,87.0,87.0,87.0,110.0,3.0,0.0],\"y\":[16.0,29.0,30.0,42.0,3.0,16.0,22.0,28.0,34.0,40.0,46.0,11.0,3.0,13.0,13.0,13.0,13.0,8.0,16.0,22.0,28.0,34.0,40.0,48.0,11.0,20.0,16.0,18.0,20.0,22.0,24.0,26.0,28.0,30.0,32.0,34.0,36.0,38.0,40.0,42.0,44.0,45.0,47.0,48.0,14.0,18.0,25.0,26.0,27.0,29.0,31.0,32.0,12.0,19.0,23.0,31.0,33.0,37.0,43.0,46.0,50.0,29.0,34.0,18.0,29.0,32.0,34.0,18.0,29.0,32.0,34.0,41.0,44.0,8.0,20.0,34.0,19.0,23.0,33.0,37.0,25.0,26.0,35.0,37.0,38.0,39.0,25.0,30.0,9.0,48.0,50.0,28.0,15.0,28.0,47.0,48.0,50.0,9.0,25.0,14.0,16.0,19.0,48.0,50.0,15.0,19.0,23.0,27.0,32.0,38.0,42.0,9.0,24.0,13.0,35.0,38.0,42.0,13.0,36.0,40.0,13.0,44.0,8.0,20.0,23.0,27.0,32.0,37.0,41.0,9.0,30.0,3.0,0.0]},\"selected\":{\"id\":\"1831\"},\"selection_policy\":{\"id\":\"1830\"}},\"id\":\"1810\",\"type\":\"ColumnDataSource\"},{\"attributes\":{},\"id\":\"1832\",\"type\":\"UnionRenderers\"},{\"attributes\":{\"active_drag\":\"auto\",\"active_inspect\":\"auto\",\"active_multi\":null,\"active_scroll\":\"auto\",\"active_tap\":\"auto\",\"logo\":null,\"tools\":[{\"id\":\"1784\"},{\"id\":\"1785\"},{\"id\":\"1786\"},{\"id\":\"1787\"},{\"id\":\"1788\"},{\"id\":\"1789\"}]},\"id\":\"1791\",\"type\":\"Toolbar\"}],\"root_ids\":[\"1835\"]},\"title\":\"Bokeh Application\",\"version\":\"2.1.0\"}};\n",
       "  var render_items = [{\"docid\":\"3ee7d5de-8f4b-462f-b4fe-e719c03fb012\",\"root_ids\":[\"1835\"],\"roots\":{\"1835\":\"2d079fd4-b95d-4ab8-8103-626dc71bf755\"}}];\n",
       "  root.Bokeh.embed.embed_items_notebook(docs_json, render_items);\n",
       "\n",
       "  }\n",
       "  if (root.Bokeh !== undefined) {\n",
       "    embed_document(root);\n",
       "  } else {\n",
       "    var attempts = 0;\n",
       "    var timer = setInterval(function(root) {\n",
       "      if (root.Bokeh !== undefined) {\n",
       "        clearInterval(timer);\n",
       "        embed_document(root);\n",
       "      } else {\n",
       "        attempts++;\n",
       "        if (attempts > 100) {\n",
       "          clearInterval(timer);\n",
       "          console.log(\"Bokeh: ERROR: Unable to run BokehJS code because BokehJS library is missing\");\n",
       "        }\n",
       "      }\n",
       "    }, 10, root)\n",
       "  }\n",
       "})(window);"
      ],
      "application/vnd.bokehjs_exec.v0+json": ""
     },
     "metadata": {
      "application/vnd.bokehjs_exec.v0+json": {
       "id": "1835"
      }
     },
     "output_type": "display_data"
    }
   ],
   "source": [
    "# VLSI etching\n",
    "nodes = pd.read_csv('data/xqf131_etching.csv', index_col=0)\n",
    "G = distance_matrix(nodes, manhattan=False, vlsi=True)\n",
    "plot_vlsi_tour(nodes,G, solve_tsp(G))"
   ]
  },
  {
   "cell_type": "code",
   "execution_count": 7,
   "metadata": {},
   "outputs": [
    {
     "data": {
      "text/html": [
       "\n",
       "\n",
       "\n",
       "\n",
       "\n",
       "\n",
       "  <div class=\"bk-root\" id=\"4bcec579-fd5e-459f-be22-3d046255b1ed\" data-root-id=\"2056\"></div>\n"
      ]
     },
     "metadata": {},
     "output_type": "display_data"
    },
    {
     "data": {
      "application/javascript": [
       "(function(root) {\n",
       "  function embed_document(root) {\n",
       "    \n",
       "  var docs_json = {\"929e4d85-6051-40d9-b0f9-f0054f12a86d\":{\"roots\":{\"references\":[{\"attributes\":{\"children\":[[{\"id\":\"1986\"},0,0],[{\"id\":\"2039\"},1,0],[{\"id\":\"2040\"},2,0]]},\"id\":\"2056\",\"type\":\"GridBox\"},{\"attributes\":{},\"id\":\"2048\",\"type\":\"Selection\"},{\"attributes\":{},\"id\":\"1998\",\"type\":\"BasicTicker\"},{\"attributes\":{\"line_alpha\":0.1,\"line_width\":4,\"x\":{\"field\":\"edges_x\"},\"y\":{\"field\":\"edges_y\"}},\"id\":\"2027\",\"type\":\"Line\"},{\"attributes\":{\"align\":\"center\",\"width\":200},\"id\":\"2021\",\"type\":\"Div\"},{\"attributes\":{},\"id\":\"2049\",\"type\":\"UnionRenderers\"},{\"attributes\":{\"data_source\":{\"id\":\"2024\"},\"glyph\":{\"id\":\"2026\"},\"hover_glyph\":null,\"muted_glyph\":null,\"nonselection_glyph\":{\"id\":\"2027\"},\"selection_glyph\":null,\"view\":{\"id\":\"2029\"}},\"id\":\"2028\",\"type\":\"GlyphRenderer\"},{\"attributes\":{},\"id\":\"2002\",\"type\":\"BasicTicker\"},{\"attributes\":{\"axis\":{\"id\":\"2001\"},\"dimension\":1,\"grid_line_color\":null,\"ticker\":null},\"id\":\"2004\",\"type\":\"Grid\"},{\"attributes\":{},\"id\":\"2050\",\"type\":\"Selection\"},{\"attributes\":{\"source\":{\"id\":\"2024\"}},\"id\":\"2029\",\"type\":\"CDSView\"},{\"attributes\":{\"align\":\"center\",\"text\":\"0\",\"width\":400},\"id\":\"2022\",\"type\":\"Div\"},{\"attributes\":{\"formatter\":{\"id\":\"2045\"},\"ticker\":{\"id\":\"2002\"},\"visible\":false},\"id\":\"2001\",\"type\":\"LinearAxis\"},{\"attributes\":{\"end\":6.51,\"start\":-0.51},\"id\":\"1989\",\"type\":\"Range1d\"},{\"attributes\":{\"data\":{\"x\":[0.0,0.0,0.0,0.0,0.0,0.0,0.0,1.0,1.0,1.0,1.0,1.0,1.0,1.0,2.0,2.0,2.0,2.0,2.0,2.0,2.0,3.0,3.0,3.0,3.0,3.0,3.0,3.0,4.0,4.0,4.0,4.0,4.0,4.0,4.0,5.0,5.0,5.0,5.0,5.0,5.0,5.0,6.0,6.0,6.0,6.0,6.0,6.0,6.0],\"y\":[0.0,1.0,2.0,3.0,4.0,5.0,6.0,0.0,1.0,2.0,3.0,4.0,5.0,6.0,0.0,1.0,2.0,3.0,4.0,5.0,6.0,0.0,1.0,2.0,3.0,4.0,5.0,6.0,0.0,1.0,2.0,3.0,4.0,5.0,6.0,0.0,1.0,2.0,3.0,4.0,5.0,6.0,0.0,1.0,2.0,3.0,4.0,5.0,6.0]},\"selected\":{\"id\":\"2050\"},\"selection_policy\":{\"id\":\"2049\"}},\"id\":\"2030\",\"type\":\"ColumnDataSource\"},{\"attributes\":{},\"id\":\"2054\",\"type\":\"UnionRenderers\"},{\"attributes\":{\"axis\":{\"id\":\"1997\"},\"grid_line_color\":null,\"ticker\":null},\"id\":\"2000\",\"type\":\"Grid\"},{\"attributes\":{},\"id\":\"1995\",\"type\":\"LinearScale\"},{\"attributes\":{},\"id\":\"2055\",\"type\":\"Selection\"},{\"attributes\":{\"formatter\":{\"id\":\"2043\"},\"ticker\":{\"id\":\"1998\"},\"visible\":false},\"id\":\"1997\",\"type\":\"LinearAxis\"},{\"attributes\":{\"fill_color\":{\"value\":\"steelblue\"},\"line_color\":{\"value\":\"steelblue\"},\"size\":{\"units\":\"screen\",\"value\":8},\"x\":{\"field\":\"x\"},\"y\":{\"field\":\"y\"}},\"id\":\"2031\",\"type\":\"Circle\"},{\"attributes\":{\"background_fill_color\":null,\"below\":[{\"id\":\"1997\"}],\"border_fill_color\":null,\"center\":[{\"id\":\"2000\"},{\"id\":\"2004\"}],\"left\":[{\"id\":\"2001\"}],\"outline_line_color\":null,\"plot_height\":400,\"plot_width\":400,\"renderers\":[{\"id\":\"2028\"},{\"id\":\"2033\"}],\"title\":{\"id\":\"1987\"},\"toolbar\":{\"id\":\"2012\"},\"toolbar_location\":null,\"x_range\":{\"id\":\"1989\"},\"x_scale\":{\"id\":\"1993\"},\"y_range\":{\"id\":\"1991\"},\"y_scale\":{\"id\":\"1995\"}},\"id\":\"1986\",\"subtype\":\"Figure\",\"type\":\"Plot\"},{\"attributes\":{},\"id\":\"1993\",\"type\":\"LinearScale\"},{\"attributes\":{},\"id\":\"2005\",\"type\":\"PanTool\"},{\"attributes\":{\"data_source\":{\"id\":\"2030\"},\"glyph\":{\"id\":\"2031\"},\"hover_glyph\":null,\"muted_glyph\":null,\"nonselection_glyph\":{\"id\":\"2032\"},\"selection_glyph\":null,\"view\":{\"id\":\"2034\"}},\"id\":\"2033\",\"type\":\"GlyphRenderer\"},{\"attributes\":{\"fill_alpha\":{\"value\":0.1},\"fill_color\":{\"value\":\"steelblue\"},\"line_alpha\":{\"value\":0.1},\"line_color\":{\"value\":\"steelblue\"},\"size\":{\"units\":\"screen\",\"value\":8},\"x\":{\"field\":\"x\"},\"y\":{\"field\":\"y\"}},\"id\":\"2032\",\"type\":\"Circle\"},{\"attributes\":{\"end\":6.51,\"start\":-0.51},\"id\":\"1991\",\"type\":\"Range1d\"},{\"attributes\":{},\"id\":\"2006\",\"type\":\"WheelZoomTool\"},{\"attributes\":{\"source\":{\"id\":\"2030\"}},\"id\":\"2034\",\"type\":\"CDSView\"},{\"attributes\":{\"align\":\"center\",\"text\":\"0\",\"width\":200},\"id\":\"2020\",\"type\":\"Div\"},{\"attributes\":{\"overlay\":{\"id\":\"2011\"}},\"id\":\"2007\",\"type\":\"BoxZoomTool\"},{\"attributes\":{\"button_type\":\"success\",\"icon\":null,\"js_event_callbacks\":{\"button_click\":[{\"id\":\"2036\"}]},\"label\":\"Next\",\"sizing_mode\":\"scale_width\",\"width_policy\":\"fit\"},\"id\":\"2035\",\"type\":\"Button\"},{\"attributes\":{},\"id\":\"2008\",\"type\":\"SaveTool\"},{\"attributes\":{\"args\":{\"cost\":{\"id\":\"2020\"},\"done\":{\"id\":\"2021\"},\"n\":{\"id\":\"2022\"},\"source\":{\"id\":\"2023\"},\"tour\":{\"id\":\"2024\"}},\"code\":\"\\nif ((parseInt(n.text) + 1) < source.data['edges_y'].length) {\\n    n.text = (parseInt(n.text) + 1).toString()\\n}\\nvar iteration = parseInt(n.text)\\n\\nif (iteration == source.data['edges_y'].length - 2) {\\n    iteration = iteration + 1\\n}\\n\\n    cost.text = source.data['costs'][iteration].toFixed(1)\\n    \\n    if (iteration == source.data['edges_y'].length - 1) {\\n        done.text = \\\"done.\\\"\\n    } else {\\n        done.text = \\\"\\\"\\n    }\\n\\n    tour.data['edges_x'] = source.data['edges_x'][iteration]\\n    tour.data['edges_y'] = source.data['edges_y'][iteration]\\n    tour.change.emit()\\n    \"},\"id\":\"2036\",\"type\":\"CustomJS\"},{\"attributes\":{},\"id\":\"2009\",\"type\":\"ResetTool\"},{\"attributes\":{\"button_type\":\"success\",\"icon\":null,\"js_event_callbacks\":{\"button_click\":[{\"id\":\"2038\"}]},\"label\":\"Previous\",\"sizing_mode\":\"scale_width\",\"width_policy\":\"fit\"},\"id\":\"2037\",\"type\":\"Button\"},{\"attributes\":{},\"id\":\"2010\",\"type\":\"HelpTool\"},{\"attributes\":{\"args\":{\"cost\":{\"id\":\"2020\"},\"done\":{\"id\":\"2021\"},\"n\":{\"id\":\"2022\"},\"source\":{\"id\":\"2023\"},\"tour\":{\"id\":\"2024\"}},\"code\":\"\\nif ((parseInt(n.text) - 1) >= 0) {\\n    n.text = (parseInt(n.text) - 1).toString()\\n}\\nvar iteration = parseInt(n.text)\\n\\nif (iteration == source.data['edges_y'].length - 2) {\\n    iteration = iteration - 1\\n}\\n\\n    cost.text = source.data['costs'][iteration].toFixed(1)\\n    \\n    if (iteration == source.data['edges_y'].length - 1) {\\n        done.text = \\\"done.\\\"\\n    } else {\\n        done.text = \\\"\\\"\\n    }\\n\\n    tour.data['edges_x'] = source.data['edges_x'][iteration]\\n    tour.data['edges_y'] = source.data['edges_y'][iteration]\\n    tour.change.emit()\\n    \"},\"id\":\"2038\",\"type\":\"CustomJS\"},{\"attributes\":{\"line_width\":4,\"x\":{\"field\":\"edges_x\"},\"y\":{\"field\":\"edges_y\"}},\"id\":\"2026\",\"type\":\"Line\"},{\"attributes\":{\"children\":[{\"id\":\"2037\"},{\"id\":\"2035\"}],\"max_width\":400,\"sizing_mode\":\"stretch_both\"},\"id\":\"2039\",\"type\":\"Row\"},{\"attributes\":{\"active_drag\":\"auto\",\"active_inspect\":\"auto\",\"active_multi\":null,\"active_scroll\":\"auto\",\"active_tap\":\"auto\",\"logo\":null,\"tools\":[{\"id\":\"2005\"},{\"id\":\"2006\"},{\"id\":\"2007\"},{\"id\":\"2008\"},{\"id\":\"2009\"},{\"id\":\"2010\"}]},\"id\":\"2012\",\"type\":\"Toolbar\"},{\"attributes\":{\"text\":\"\"},\"id\":\"1987\",\"type\":\"Title\"},{\"attributes\":{\"children\":[{\"id\":\"2020\"},{\"id\":\"2021\"}]},\"id\":\"2040\",\"type\":\"Row\"},{\"attributes\":{\"data\":{\"edges_x\":[0.0],\"edges_y\":[0.0]},\"selected\":{\"id\":\"2048\"},\"selection_policy\":{\"id\":\"2047\"}},\"id\":\"2024\",\"type\":\"ColumnDataSource\"},{\"attributes\":{},\"id\":\"2043\",\"type\":\"BasicTickFormatter\"},{\"attributes\":{\"bottom_units\":\"screen\",\"fill_alpha\":0.5,\"fill_color\":\"lightgrey\",\"left_units\":\"screen\",\"level\":\"overlay\",\"line_alpha\":1.0,\"line_color\":\"black\",\"line_dash\":[4,4],\"line_width\":2,\"right_units\":\"screen\",\"top_units\":\"screen\"},\"id\":\"2011\",\"type\":\"BoxAnnotation\"},{\"attributes\":{},\"id\":\"2045\",\"type\":\"BasicTickFormatter\"},{\"attributes\":{\"data\":{\"costs\":[0,1.0,2.0,3.0,4.0,5.0,6.0,7.0,8.0,9.0,10.0,11.0,12.0,13.0,14.0,15.0,16.0,17.0,18.0,21.0,22.0,23.0,24.0,25.0,26.0,27.0,28.0,29.0,30.0,31.0,32.0,33.0,34.0,35.0,37.0,38.0,39.0,40.0,41.0,42.0,44.0,45.0,46.0,47.0,48.0,49.0,50.0,51.0,57.08276253029822,61.08276253029822],\"edges_x\":[[0.0],[0.0,0.0],[0.0,0.0,1.0],[0.0,0.0,1.0,2.0],[0.0,0.0,1.0,2.0,2.0],[0.0,0.0,1.0,2.0,2.0,3.0],[0.0,0.0,1.0,2.0,2.0,3.0,3.0],[0.0,0.0,1.0,2.0,2.0,3.0,3.0,2.0],[0.0,0.0,1.0,2.0,2.0,3.0,3.0,2.0,2.0],[0.0,0.0,1.0,2.0,2.0,3.0,3.0,2.0,2.0,3.0],[0.0,0.0,1.0,2.0,2.0,3.0,3.0,2.0,2.0,3.0,4.0],[0.0,0.0,1.0,2.0,2.0,3.0,3.0,2.0,2.0,3.0,4.0,4.0],[0.0,0.0,1.0,2.0,2.0,3.0,3.0,2.0,2.0,3.0,4.0,4.0,4.0],[0.0,0.0,1.0,2.0,2.0,3.0,3.0,2.0,2.0,3.0,4.0,4.0,4.0,5.0],[0.0,0.0,1.0,2.0,2.0,3.0,3.0,2.0,2.0,3.0,4.0,4.0,4.0,5.0,5.0],[0.0,0.0,1.0,2.0,2.0,3.0,3.0,2.0,2.0,3.0,4.0,4.0,4.0,5.0,5.0,5.0],[0.0,0.0,1.0,2.0,2.0,3.0,3.0,2.0,2.0,3.0,4.0,4.0,4.0,5.0,5.0,5.0,6.0],[0.0,0.0,1.0,2.0,2.0,3.0,3.0,2.0,2.0,3.0,4.0,4.0,4.0,5.0,5.0,5.0,6.0,6.0],[0.0,0.0,1.0,2.0,2.0,3.0,3.0,2.0,2.0,3.0,4.0,4.0,4.0,5.0,5.0,5.0,6.0,6.0,6.0],[0.0,0.0,1.0,2.0,2.0,3.0,3.0,2.0,2.0,3.0,4.0,4.0,4.0,5.0,5.0,5.0,6.0,6.0,6.0,6.0],[0.0,0.0,1.0,2.0,2.0,3.0,3.0,2.0,2.0,3.0,4.0,4.0,4.0,5.0,5.0,5.0,6.0,6.0,6.0,6.0,5.0],[0.0,0.0,1.0,2.0,2.0,3.0,3.0,2.0,2.0,3.0,4.0,4.0,4.0,5.0,5.0,5.0,6.0,6.0,6.0,6.0,5.0,4.0],[0.0,0.0,1.0,2.0,2.0,3.0,3.0,2.0,2.0,3.0,4.0,4.0,4.0,5.0,5.0,5.0,6.0,6.0,6.0,6.0,5.0,4.0,4.0],[0.0,0.0,1.0,2.0,2.0,3.0,3.0,2.0,2.0,3.0,4.0,4.0,4.0,5.0,5.0,5.0,6.0,6.0,6.0,6.0,5.0,4.0,4.0,5.0],[0.0,0.0,1.0,2.0,2.0,3.0,3.0,2.0,2.0,3.0,4.0,4.0,4.0,5.0,5.0,5.0,6.0,6.0,6.0,6.0,5.0,4.0,4.0,5.0,6.0],[0.0,0.0,1.0,2.0,2.0,3.0,3.0,2.0,2.0,3.0,4.0,4.0,4.0,5.0,5.0,5.0,6.0,6.0,6.0,6.0,5.0,4.0,4.0,5.0,6.0,6.0],[0.0,0.0,1.0,2.0,2.0,3.0,3.0,2.0,2.0,3.0,4.0,4.0,4.0,5.0,5.0,5.0,6.0,6.0,6.0,6.0,5.0,4.0,4.0,5.0,6.0,6.0,6.0],[0.0,0.0,1.0,2.0,2.0,3.0,3.0,2.0,2.0,3.0,4.0,4.0,4.0,5.0,5.0,5.0,6.0,6.0,6.0,6.0,5.0,4.0,4.0,5.0,6.0,6.0,6.0,5.0],[0.0,0.0,1.0,2.0,2.0,3.0,3.0,2.0,2.0,3.0,4.0,4.0,4.0,5.0,5.0,5.0,6.0,6.0,6.0,6.0,5.0,4.0,4.0,5.0,6.0,6.0,6.0,5.0,5.0],[0.0,0.0,1.0,2.0,2.0,3.0,3.0,2.0,2.0,3.0,4.0,4.0,4.0,5.0,5.0,5.0,6.0,6.0,6.0,6.0,5.0,4.0,4.0,5.0,6.0,6.0,6.0,5.0,5.0,4.0],[0.0,0.0,1.0,2.0,2.0,3.0,3.0,2.0,2.0,3.0,4.0,4.0,4.0,5.0,5.0,5.0,6.0,6.0,6.0,6.0,5.0,4.0,4.0,5.0,6.0,6.0,6.0,5.0,5.0,4.0,3.0],[0.0,0.0,1.0,2.0,2.0,3.0,3.0,2.0,2.0,3.0,4.0,4.0,4.0,5.0,5.0,5.0,6.0,6.0,6.0,6.0,5.0,4.0,4.0,5.0,6.0,6.0,6.0,5.0,5.0,4.0,3.0,3.0],[0.0,0.0,1.0,2.0,2.0,3.0,3.0,2.0,2.0,3.0,4.0,4.0,4.0,5.0,5.0,5.0,6.0,6.0,6.0,6.0,5.0,4.0,4.0,5.0,6.0,6.0,6.0,5.0,5.0,4.0,3.0,3.0,2.0],[0.0,0.0,1.0,2.0,2.0,3.0,3.0,2.0,2.0,3.0,4.0,4.0,4.0,5.0,5.0,5.0,6.0,6.0,6.0,6.0,5.0,4.0,4.0,5.0,6.0,6.0,6.0,5.0,5.0,4.0,3.0,3.0,2.0,1.0],[0.0,0.0,1.0,2.0,2.0,3.0,3.0,2.0,2.0,3.0,4.0,4.0,4.0,5.0,5.0,5.0,6.0,6.0,6.0,6.0,5.0,4.0,4.0,5.0,6.0,6.0,6.0,5.0,5.0,4.0,3.0,3.0,2.0,1.0,1.0],[0.0,0.0,1.0,2.0,2.0,3.0,3.0,2.0,2.0,3.0,4.0,4.0,4.0,5.0,5.0,5.0,6.0,6.0,6.0,6.0,5.0,4.0,4.0,5.0,6.0,6.0,6.0,5.0,5.0,4.0,3.0,3.0,2.0,1.0,1.0,0.0],[0.0,0.0,1.0,2.0,2.0,3.0,3.0,2.0,2.0,3.0,4.0,4.0,4.0,5.0,5.0,5.0,6.0,6.0,6.0,6.0,5.0,4.0,4.0,5.0,6.0,6.0,6.0,5.0,5.0,4.0,3.0,3.0,2.0,1.0,1.0,0.0,0.0],[0.0,0.0,1.0,2.0,2.0,3.0,3.0,2.0,2.0,3.0,4.0,4.0,4.0,5.0,5.0,5.0,6.0,6.0,6.0,6.0,5.0,4.0,4.0,5.0,6.0,6.0,6.0,5.0,5.0,4.0,3.0,3.0,2.0,1.0,1.0,0.0,0.0,0.0],[0.0,0.0,1.0,2.0,2.0,3.0,3.0,2.0,2.0,3.0,4.0,4.0,4.0,5.0,5.0,5.0,6.0,6.0,6.0,6.0,5.0,4.0,4.0,5.0,6.0,6.0,6.0,5.0,5.0,4.0,3.0,3.0,2.0,1.0,1.0,0.0,0.0,0.0,1.0],[0.0,0.0,1.0,2.0,2.0,3.0,3.0,2.0,2.0,3.0,4.0,4.0,4.0,5.0,5.0,5.0,6.0,6.0,6.0,6.0,5.0,4.0,4.0,5.0,6.0,6.0,6.0,5.0,5.0,4.0,3.0,3.0,2.0,1.0,1.0,0.0,0.0,0.0,1.0,1.0],[0.0,0.0,1.0,2.0,2.0,3.0,3.0,2.0,2.0,3.0,4.0,4.0,4.0,5.0,5.0,5.0,6.0,6.0,6.0,6.0,5.0,4.0,4.0,5.0,6.0,6.0,6.0,5.0,5.0,4.0,3.0,3.0,2.0,1.0,1.0,0.0,0.0,0.0,1.0,1.0,1.0],[0.0,0.0,1.0,2.0,2.0,3.0,3.0,2.0,2.0,3.0,4.0,4.0,4.0,5.0,5.0,5.0,6.0,6.0,6.0,6.0,5.0,4.0,4.0,5.0,6.0,6.0,6.0,5.0,5.0,4.0,3.0,3.0,2.0,1.0,1.0,0.0,0.0,0.0,1.0,1.0,1.0,0.0],[0.0,0.0,1.0,2.0,2.0,3.0,3.0,2.0,2.0,3.0,4.0,4.0,4.0,5.0,5.0,5.0,6.0,6.0,6.0,6.0,5.0,4.0,4.0,5.0,6.0,6.0,6.0,5.0,5.0,4.0,3.0,3.0,2.0,1.0,1.0,0.0,0.0,0.0,1.0,1.0,1.0,0.0,0.0],[0.0,0.0,1.0,2.0,2.0,3.0,3.0,2.0,2.0,3.0,4.0,4.0,4.0,5.0,5.0,5.0,6.0,6.0,6.0,6.0,5.0,4.0,4.0,5.0,6.0,6.0,6.0,5.0,5.0,4.0,3.0,3.0,2.0,1.0,1.0,0.0,0.0,0.0,1.0,1.0,1.0,0.0,0.0,1.0],[0.0,0.0,1.0,2.0,2.0,3.0,3.0,2.0,2.0,3.0,4.0,4.0,4.0,5.0,5.0,5.0,6.0,6.0,6.0,6.0,5.0,4.0,4.0,5.0,6.0,6.0,6.0,5.0,5.0,4.0,3.0,3.0,2.0,1.0,1.0,0.0,0.0,0.0,1.0,1.0,1.0,0.0,0.0,1.0,2.0],[0.0,0.0,1.0,2.0,2.0,3.0,3.0,2.0,2.0,3.0,4.0,4.0,4.0,5.0,5.0,5.0,6.0,6.0,6.0,6.0,5.0,4.0,4.0,5.0,6.0,6.0,6.0,5.0,5.0,4.0,3.0,3.0,2.0,1.0,1.0,0.0,0.0,0.0,1.0,1.0,1.0,0.0,0.0,1.0,2.0,2.0],[0.0,0.0,1.0,2.0,2.0,3.0,3.0,2.0,2.0,3.0,4.0,4.0,4.0,5.0,5.0,5.0,6.0,6.0,6.0,6.0,5.0,4.0,4.0,5.0,6.0,6.0,6.0,5.0,5.0,4.0,3.0,3.0,2.0,1.0,1.0,0.0,0.0,0.0,1.0,1.0,1.0,0.0,0.0,1.0,2.0,2.0,3.0],[0.0,0.0,1.0,2.0,2.0,3.0,3.0,2.0,2.0,3.0,4.0,4.0,4.0,5.0,5.0,5.0,6.0,6.0,6.0,6.0,5.0,4.0,4.0,5.0,6.0,6.0,6.0,5.0,5.0,4.0,3.0,3.0,2.0,1.0,1.0,0.0,0.0,0.0,1.0,1.0,1.0,0.0,0.0,1.0,2.0,2.0,3.0,3.0],[0.0,0.0,1.0,2.0,2.0,3.0,3.0,2.0,2.0,3.0,4.0,4.0,4.0,5.0,5.0,5.0,6.0,6.0,6.0,6.0,5.0,4.0,4.0,5.0,6.0,6.0,6.0,5.0,5.0,4.0,3.0,3.0,2.0,1.0,1.0,0.0,0.0,0.0,1.0,1.0,1.0,0.0,0.0,1.0,2.0,2.0,3.0,3.0,4.0],[0.0,0.0,1.0,2.0,2.0,3.0,3.0,2.0,2.0,3.0,4.0,4.0,4.0,5.0,5.0,5.0,6.0,6.0,6.0,6.0,5.0,4.0,4.0,5.0,6.0,6.0,6.0,5.0,5.0,4.0,3.0,3.0,2.0,1.0,1.0,0.0,0.0,0.0,1.0,1.0,1.0,0.0,0.0,1.0,2.0,2.0,3.0,3.0,4.0,0.0]],\"edges_y\":[[0.0],[0.0,1.0],[0.0,1.0,1.0],[0.0,1.0,1.0,1.0],[0.0,1.0,1.0,1.0,2.0],[0.0,1.0,1.0,1.0,2.0,2.0],[0.0,1.0,1.0,1.0,2.0,2.0,3.0],[0.0,1.0,1.0,1.0,2.0,2.0,3.0,3.0],[0.0,1.0,1.0,1.0,2.0,2.0,3.0,3.0,4.0],[0.0,1.0,1.0,1.0,2.0,2.0,3.0,3.0,4.0,4.0],[0.0,1.0,1.0,1.0,2.0,2.0,3.0,3.0,4.0,4.0,4.0],[0.0,1.0,1.0,1.0,2.0,2.0,3.0,3.0,4.0,4.0,4.0,5.0],[0.0,1.0,1.0,1.0,2.0,2.0,3.0,3.0,4.0,4.0,4.0,5.0,6.0],[0.0,1.0,1.0,1.0,2.0,2.0,3.0,3.0,4.0,4.0,4.0,5.0,6.0,6.0],[0.0,1.0,1.0,1.0,2.0,2.0,3.0,3.0,4.0,4.0,4.0,5.0,6.0,6.0,5.0],[0.0,1.0,1.0,1.0,2.0,2.0,3.0,3.0,4.0,4.0,4.0,5.0,6.0,6.0,5.0,4.0],[0.0,1.0,1.0,1.0,2.0,2.0,3.0,3.0,4.0,4.0,4.0,5.0,6.0,6.0,5.0,4.0,4.0],[0.0,1.0,1.0,1.0,2.0,2.0,3.0,3.0,4.0,4.0,4.0,5.0,6.0,6.0,5.0,4.0,4.0,5.0],[0.0,1.0,1.0,1.0,2.0,2.0,3.0,3.0,4.0,4.0,4.0,5.0,6.0,6.0,5.0,4.0,4.0,5.0,6.0],[0.0,1.0,1.0,1.0,2.0,2.0,3.0,3.0,4.0,4.0,4.0,5.0,6.0,6.0,5.0,4.0,4.0,5.0,6.0,3.0],[0.0,1.0,1.0,1.0,2.0,2.0,3.0,3.0,4.0,4.0,4.0,5.0,6.0,6.0,5.0,4.0,4.0,5.0,6.0,3.0,3.0],[0.0,1.0,1.0,1.0,2.0,2.0,3.0,3.0,4.0,4.0,4.0,5.0,6.0,6.0,5.0,4.0,4.0,5.0,6.0,3.0,3.0,3.0],[0.0,1.0,1.0,1.0,2.0,2.0,3.0,3.0,4.0,4.0,4.0,5.0,6.0,6.0,5.0,4.0,4.0,5.0,6.0,3.0,3.0,3.0,2.0],[0.0,1.0,1.0,1.0,2.0,2.0,3.0,3.0,4.0,4.0,4.0,5.0,6.0,6.0,5.0,4.0,4.0,5.0,6.0,3.0,3.0,3.0,2.0,2.0],[0.0,1.0,1.0,1.0,2.0,2.0,3.0,3.0,4.0,4.0,4.0,5.0,6.0,6.0,5.0,4.0,4.0,5.0,6.0,3.0,3.0,3.0,2.0,2.0,2.0],[0.0,1.0,1.0,1.0,2.0,2.0,3.0,3.0,4.0,4.0,4.0,5.0,6.0,6.0,5.0,4.0,4.0,5.0,6.0,3.0,3.0,3.0,2.0,2.0,2.0,1.0],[0.0,1.0,1.0,1.0,2.0,2.0,3.0,3.0,4.0,4.0,4.0,5.0,6.0,6.0,5.0,4.0,4.0,5.0,6.0,3.0,3.0,3.0,2.0,2.0,2.0,1.0,0.0],[0.0,1.0,1.0,1.0,2.0,2.0,3.0,3.0,4.0,4.0,4.0,5.0,6.0,6.0,5.0,4.0,4.0,5.0,6.0,3.0,3.0,3.0,2.0,2.0,2.0,1.0,0.0,0.0],[0.0,1.0,1.0,1.0,2.0,2.0,3.0,3.0,4.0,4.0,4.0,5.0,6.0,6.0,5.0,4.0,4.0,5.0,6.0,3.0,3.0,3.0,2.0,2.0,2.0,1.0,0.0,0.0,1.0],[0.0,1.0,1.0,1.0,2.0,2.0,3.0,3.0,4.0,4.0,4.0,5.0,6.0,6.0,5.0,4.0,4.0,5.0,6.0,3.0,3.0,3.0,2.0,2.0,2.0,1.0,0.0,0.0,1.0,1.0],[0.0,1.0,1.0,1.0,2.0,2.0,3.0,3.0,4.0,4.0,4.0,5.0,6.0,6.0,5.0,4.0,4.0,5.0,6.0,3.0,3.0,3.0,2.0,2.0,2.0,1.0,0.0,0.0,1.0,1.0,1.0],[0.0,1.0,1.0,1.0,2.0,2.0,3.0,3.0,4.0,4.0,4.0,5.0,6.0,6.0,5.0,4.0,4.0,5.0,6.0,3.0,3.0,3.0,2.0,2.0,2.0,1.0,0.0,0.0,1.0,1.0,1.0,0.0],[0.0,1.0,1.0,1.0,2.0,2.0,3.0,3.0,4.0,4.0,4.0,5.0,6.0,6.0,5.0,4.0,4.0,5.0,6.0,3.0,3.0,3.0,2.0,2.0,2.0,1.0,0.0,0.0,1.0,1.0,1.0,0.0,0.0],[0.0,1.0,1.0,1.0,2.0,2.0,3.0,3.0,4.0,4.0,4.0,5.0,6.0,6.0,5.0,4.0,4.0,5.0,6.0,3.0,3.0,3.0,2.0,2.0,2.0,1.0,0.0,0.0,1.0,1.0,1.0,0.0,0.0,0.0],[0.0,1.0,1.0,1.0,2.0,2.0,3.0,3.0,4.0,4.0,4.0,5.0,6.0,6.0,5.0,4.0,4.0,5.0,6.0,3.0,3.0,3.0,2.0,2.0,2.0,1.0,0.0,0.0,1.0,1.0,1.0,0.0,0.0,0.0,2.0],[0.0,1.0,1.0,1.0,2.0,2.0,3.0,3.0,4.0,4.0,4.0,5.0,6.0,6.0,5.0,4.0,4.0,5.0,6.0,3.0,3.0,3.0,2.0,2.0,2.0,1.0,0.0,0.0,1.0,1.0,1.0,0.0,0.0,0.0,2.0,2.0],[0.0,1.0,1.0,1.0,2.0,2.0,3.0,3.0,4.0,4.0,4.0,5.0,6.0,6.0,5.0,4.0,4.0,5.0,6.0,3.0,3.0,3.0,2.0,2.0,2.0,1.0,0.0,0.0,1.0,1.0,1.0,0.0,0.0,0.0,2.0,2.0,3.0],[0.0,1.0,1.0,1.0,2.0,2.0,3.0,3.0,4.0,4.0,4.0,5.0,6.0,6.0,5.0,4.0,4.0,5.0,6.0,3.0,3.0,3.0,2.0,2.0,2.0,1.0,0.0,0.0,1.0,1.0,1.0,0.0,0.0,0.0,2.0,2.0,3.0,4.0],[0.0,1.0,1.0,1.0,2.0,2.0,3.0,3.0,4.0,4.0,4.0,5.0,6.0,6.0,5.0,4.0,4.0,5.0,6.0,3.0,3.0,3.0,2.0,2.0,2.0,1.0,0.0,0.0,1.0,1.0,1.0,0.0,0.0,0.0,2.0,2.0,3.0,4.0,4.0],[0.0,1.0,1.0,1.0,2.0,2.0,3.0,3.0,4.0,4.0,4.0,5.0,6.0,6.0,5.0,4.0,4.0,5.0,6.0,3.0,3.0,3.0,2.0,2.0,2.0,1.0,0.0,0.0,1.0,1.0,1.0,0.0,0.0,0.0,2.0,2.0,3.0,4.0,4.0,3.0],[0.0,1.0,1.0,1.0,2.0,2.0,3.0,3.0,4.0,4.0,4.0,5.0,6.0,6.0,5.0,4.0,4.0,5.0,6.0,3.0,3.0,3.0,2.0,2.0,2.0,1.0,0.0,0.0,1.0,1.0,1.0,0.0,0.0,0.0,2.0,2.0,3.0,4.0,4.0,3.0,5.0],[0.0,1.0,1.0,1.0,2.0,2.0,3.0,3.0,4.0,4.0,4.0,5.0,6.0,6.0,5.0,4.0,4.0,5.0,6.0,3.0,3.0,3.0,2.0,2.0,2.0,1.0,0.0,0.0,1.0,1.0,1.0,0.0,0.0,0.0,2.0,2.0,3.0,4.0,4.0,3.0,5.0,5.0],[0.0,1.0,1.0,1.0,2.0,2.0,3.0,3.0,4.0,4.0,4.0,5.0,6.0,6.0,5.0,4.0,4.0,5.0,6.0,3.0,3.0,3.0,2.0,2.0,2.0,1.0,0.0,0.0,1.0,1.0,1.0,0.0,0.0,0.0,2.0,2.0,3.0,4.0,4.0,3.0,5.0,5.0,6.0],[0.0,1.0,1.0,1.0,2.0,2.0,3.0,3.0,4.0,4.0,4.0,5.0,6.0,6.0,5.0,4.0,4.0,5.0,6.0,3.0,3.0,3.0,2.0,2.0,2.0,1.0,0.0,0.0,1.0,1.0,1.0,0.0,0.0,0.0,2.0,2.0,3.0,4.0,4.0,3.0,5.0,5.0,6.0,6.0],[0.0,1.0,1.0,1.0,2.0,2.0,3.0,3.0,4.0,4.0,4.0,5.0,6.0,6.0,5.0,4.0,4.0,5.0,6.0,3.0,3.0,3.0,2.0,2.0,2.0,1.0,0.0,0.0,1.0,1.0,1.0,0.0,0.0,0.0,2.0,2.0,3.0,4.0,4.0,3.0,5.0,5.0,6.0,6.0,6.0],[0.0,1.0,1.0,1.0,2.0,2.0,3.0,3.0,4.0,4.0,4.0,5.0,6.0,6.0,5.0,4.0,4.0,5.0,6.0,3.0,3.0,3.0,2.0,2.0,2.0,1.0,0.0,0.0,1.0,1.0,1.0,0.0,0.0,0.0,2.0,2.0,3.0,4.0,4.0,3.0,5.0,5.0,6.0,6.0,6.0,5.0],[0.0,1.0,1.0,1.0,2.0,2.0,3.0,3.0,4.0,4.0,4.0,5.0,6.0,6.0,5.0,4.0,4.0,5.0,6.0,3.0,3.0,3.0,2.0,2.0,2.0,1.0,0.0,0.0,1.0,1.0,1.0,0.0,0.0,0.0,2.0,2.0,3.0,4.0,4.0,3.0,5.0,5.0,6.0,6.0,6.0,5.0,5.0],[0.0,1.0,1.0,1.0,2.0,2.0,3.0,3.0,4.0,4.0,4.0,5.0,6.0,6.0,5.0,4.0,4.0,5.0,6.0,3.0,3.0,3.0,2.0,2.0,2.0,1.0,0.0,0.0,1.0,1.0,1.0,0.0,0.0,0.0,2.0,2.0,3.0,4.0,4.0,3.0,5.0,5.0,6.0,6.0,6.0,5.0,5.0,6.0],[0.0,1.0,1.0,1.0,2.0,2.0,3.0,3.0,4.0,4.0,4.0,5.0,6.0,6.0,5.0,4.0,4.0,5.0,6.0,3.0,3.0,3.0,2.0,2.0,2.0,1.0,0.0,0.0,1.0,1.0,1.0,0.0,0.0,0.0,2.0,2.0,3.0,4.0,4.0,3.0,5.0,5.0,6.0,6.0,6.0,5.0,5.0,6.0,0.0],[0.0,1.0,1.0,1.0,2.0,2.0,3.0,3.0,4.0,4.0,4.0,5.0,6.0,6.0,5.0,4.0,4.0,5.0,6.0,3.0,3.0,3.0,2.0,2.0,2.0,1.0,0.0,0.0,1.0,1.0,1.0,0.0,0.0,0.0,2.0,2.0,3.0,4.0,4.0,3.0,5.0,5.0,6.0,6.0,6.0,5.0,5.0,6.0,0.0,0.0]]},\"selected\":{\"id\":\"2055\"},\"selection_policy\":{\"id\":\"2054\"}},\"id\":\"2023\",\"type\":\"ColumnDataSource\"},{\"attributes\":{},\"id\":\"2047\",\"type\":\"UnionRenderers\"}],\"root_ids\":[\"2056\"]},\"title\":\"Bokeh Application\",\"version\":\"2.1.0\"}};\n",
       "  var render_items = [{\"docid\":\"929e4d85-6051-40d9-b0f9-f0054f12a86d\",\"root_ids\":[\"2056\"],\"roots\":{\"2056\":\"4bcec579-fd5e-459f-be22-3d046255b1ed\"}}];\n",
       "  root.Bokeh.embed.embed_items_notebook(docs_json, render_items);\n",
       "\n",
       "  }\n",
       "  if (root.Bokeh !== undefined) {\n",
       "    embed_document(root);\n",
       "  } else {\n",
       "    var attempts = 0;\n",
       "    var timer = setInterval(function(root) {\n",
       "      if (root.Bokeh !== undefined) {\n",
       "        clearInterval(timer);\n",
       "        embed_document(root);\n",
       "      } else {\n",
       "        attempts++;\n",
       "        if (attempts > 100) {\n",
       "          clearInterval(timer);\n",
       "          console.log(\"Bokeh: ERROR: Unable to run BokehJS code because BokehJS library is missing\");\n",
       "        }\n",
       "      }\n",
       "    }, 10, root)\n",
       "  }\n",
       "})(window);"
      ],
      "application/vnd.bokehjs_exec.v0+json": ""
     },
     "metadata": {
      "application/vnd.bokehjs_exec.v0+json": {
       "id": "2056"
      }
     },
     "output_type": "display_data"
    },
    {
     "data": {
      "text/html": [
       "\n",
       "\n",
       "\n",
       "\n",
       "\n",
       "\n",
       "  <div class=\"bk-root\" id=\"0e044b10-a469-4a7c-b735-b369fd43044a\" data-root-id=\"2293\"></div>\n"
      ]
     },
     "metadata": {},
     "output_type": "display_data"
    },
    {
     "data": {
      "application/javascript": [
       "(function(root) {\n",
       "  function embed_document(root) {\n",
       "    \n",
       "  var docs_json = {\"6f574e77-d86d-4a55-9311-734a2d50a3fb\":{\"roots\":{\"references\":[{\"attributes\":{\"children\":[[{\"id\":\"2205\"},0,0],[{\"id\":\"2270\"},1,0],[{\"id\":\"2271\"},2,0]]},\"id\":\"2293\",\"type\":\"GridBox\"},{\"attributes\":{\"align\":\"center\",\"text\":\"0\",\"width\":400},\"id\":\"2241\",\"type\":\"Div\"},{\"attributes\":{\"fill_alpha\":{\"value\":0.1},\"fill_color\":{\"value\":\"steelblue\"},\"line_alpha\":{\"value\":0.1},\"line_color\":{\"value\":\"steelblue\"},\"size\":{\"units\":\"screen\",\"value\":8},\"x\":{\"field\":\"x\"},\"y\":{\"field\":\"y\"}},\"id\":\"2263\",\"type\":\"Circle\"},{\"attributes\":{\"line_alpha\":{\"value\":0.1},\"line_color\":{\"value\":\"red\"},\"line_width\":{\"value\":4},\"xs\":{\"field\":\"swaps_before_x\"},\"ys\":{\"field\":\"swaps_before_y\"}},\"id\":\"2253\",\"type\":\"MultiLine\"},{\"attributes\":{},\"id\":\"2282\",\"type\":\"UnionRenderers\"},{\"attributes\":{},\"id\":\"2224\",\"type\":\"PanTool\"},{\"attributes\":{\"align\":\"center\",\"width\":200},\"id\":\"2240\",\"type\":\"Div\"},{\"attributes\":{},\"id\":\"2283\",\"type\":\"Selection\"},{\"attributes\":{},\"id\":\"2225\",\"type\":\"WheelZoomTool\"},{\"attributes\":{},\"id\":\"2287\",\"type\":\"UnionRenderers\"},{\"attributes\":{\"overlay\":{\"id\":\"2230\"}},\"id\":\"2226\",\"type\":\"BoxZoomTool\"},{\"attributes\":{\"line_color\":{\"value\":\"#90D7F6\"},\"line_width\":{\"value\":4},\"xs\":{\"field\":\"swaps_after_x\"},\"ys\":{\"field\":\"swaps_after_y\"}},\"id\":\"2257\",\"type\":\"MultiLine\"},{\"attributes\":{},\"id\":\"2288\",\"type\":\"Selection\"},{\"attributes\":{\"line_alpha\":{\"value\":0.1},\"line_color\":{\"value\":\"#90D7F6\"},\"line_width\":{\"value\":4},\"xs\":{\"field\":\"swaps_after_x\"},\"ys\":{\"field\":\"swaps_after_y\"}},\"id\":\"2258\",\"type\":\"MultiLine\"},{\"attributes\":{},\"id\":\"2227\",\"type\":\"SaveTool\"},{\"attributes\":{\"args\":{\"cost\":{\"id\":\"2239\"},\"done\":{\"id\":\"2240\"},\"n\":{\"id\":\"2241\"},\"source\":{\"id\":\"2242\"},\"swaps\":{\"id\":\"2245\"},\"swaps_source\":{\"id\":\"2244\"},\"tour\":{\"id\":\"2243\"}},\"code\":\"\\nif ((parseInt(n.text) + 1) < source.data['edges_y'].length) {\\n    n.text = (parseInt(n.text) + 1).toString()\\n}\\nvar iteration = parseInt(n.text)\\n\\n    cost.text = source.data['costs'][iteration].toFixed(1)\\n    \\n    if (iteration == source.data['edges_y'].length - 1) {\\n        done.text = \\\"done.\\\"\\n        swaps.data['swaps_before_x'] = [[]]\\n        swaps.data['swaps_before_y'] = [[]]\\n        swaps.data['swaps_after_x'] = [[]]\\n        swaps.data['swaps_after_y'] = [[]]\\n    } else {\\n        done.text = \\\"\\\"\\n        swaps.data['swaps_before_x'] = swaps_source.data['swaps_before_x'][iteration]\\n        swaps.data['swaps_before_y'] = swaps_source.data['swaps_before_y'][iteration]\\n        swaps.data['swaps_after_x'] = swaps_source.data['swaps_after_x'][iteration]\\n        swaps.data['swaps_after_y'] = swaps_source.data['swaps_after_y'][iteration]\\n    }\\n\\n    tour.data['edges_x'] = source.data['edges_x'][iteration]\\n    tour.data['edges_y'] = source.data['edges_y'][iteration]\\n    tour.change.emit()\\n    swaps.change.emit()\\n    \"},\"id\":\"2267\",\"type\":\"CustomJS\"},{\"attributes\":{},\"id\":\"2289\",\"type\":\"UnionRenderers\"},{\"attributes\":{\"data\":{\"x\":[0.0,0.0,0.0,0.0,0.0,0.0,0.0,1.0,1.0,1.0,1.0,1.0,1.0,1.0,2.0,2.0,2.0,2.0,2.0,2.0,2.0,3.0,3.0,3.0,3.0,3.0,3.0,3.0,4.0,4.0,4.0,4.0,4.0,4.0,4.0,5.0,5.0,5.0,5.0,5.0,5.0,5.0,6.0,6.0,6.0,6.0,6.0,6.0,6.0],\"y\":[0.0,1.0,2.0,3.0,4.0,5.0,6.0,0.0,1.0,2.0,3.0,4.0,5.0,6.0,0.0,1.0,2.0,3.0,4.0,5.0,6.0,0.0,1.0,2.0,3.0,4.0,5.0,6.0,0.0,1.0,2.0,3.0,4.0,5.0,6.0,0.0,1.0,2.0,3.0,4.0,5.0,6.0,0.0,1.0,2.0,3.0,4.0,5.0,6.0]},\"selected\":{\"id\":\"2283\"},\"selection_policy\":{\"id\":\"2282\"}},\"id\":\"2261\",\"type\":\"ColumnDataSource\"},{\"attributes\":{},\"id\":\"2228\",\"type\":\"ResetTool\"},{\"attributes\":{\"source\":{\"id\":\"2245\"}},\"id\":\"2260\",\"type\":\"CDSView\"},{\"attributes\":{\"button_type\":\"success\",\"icon\":null,\"js_event_callbacks\":{\"button_click\":[{\"id\":\"2267\"}]},\"label\":\"Next\",\"sizing_mode\":\"scale_width\",\"width_policy\":\"fit\"},\"id\":\"2266\",\"type\":\"Button\"},{\"attributes\":{\"line_width\":4,\"x\":{\"field\":\"edges_x\"},\"y\":{\"field\":\"edges_y\"}},\"id\":\"2247\",\"type\":\"Line\"},{\"attributes\":{},\"id\":\"2290\",\"type\":\"Selection\"},{\"attributes\":{},\"id\":\"2229\",\"type\":\"HelpTool\"},{\"attributes\":{\"end\":6.51,\"start\":-0.51},\"id\":\"2208\",\"type\":\"Range1d\"},{\"attributes\":{\"button_type\":\"success\",\"icon\":null,\"js_event_callbacks\":{\"button_click\":[{\"id\":\"2269\"}]},\"label\":\"Previous\",\"sizing_mode\":\"scale_width\",\"width_policy\":\"fit\"},\"id\":\"2268\",\"type\":\"Button\"},{\"attributes\":{\"end\":6.51,\"start\":-0.51},\"id\":\"2210\",\"type\":\"Range1d\"},{\"attributes\":{\"active_drag\":\"auto\",\"active_inspect\":\"auto\",\"active_multi\":null,\"active_scroll\":\"auto\",\"active_tap\":\"auto\",\"logo\":null,\"tools\":[{\"id\":\"2224\"},{\"id\":\"2225\"},{\"id\":\"2226\"},{\"id\":\"2227\"},{\"id\":\"2228\"},{\"id\":\"2229\"}]},\"id\":\"2231\",\"type\":\"Toolbar\"},{\"attributes\":{},\"id\":\"2212\",\"type\":\"LinearScale\"},{\"attributes\":{\"source\":{\"id\":\"2243\"}},\"id\":\"2250\",\"type\":\"CDSView\"},{\"attributes\":{\"data_source\":{\"id\":\"2261\"},\"glyph\":{\"id\":\"2262\"},\"hover_glyph\":null,\"muted_glyph\":null,\"nonselection_glyph\":{\"id\":\"2263\"},\"selection_glyph\":null,\"view\":{\"id\":\"2265\"}},\"id\":\"2264\",\"type\":\"GlyphRenderer\"},{\"attributes\":{\"args\":{\"cost\":{\"id\":\"2239\"},\"done\":{\"id\":\"2240\"},\"n\":{\"id\":\"2241\"},\"source\":{\"id\":\"2242\"},\"swaps\":{\"id\":\"2245\"},\"swaps_source\":{\"id\":\"2244\"},\"tour\":{\"id\":\"2243\"}},\"code\":\"\\nif ((parseInt(n.text) - 1) >= 0) {\\n    n.text = (parseInt(n.text) - 1).toString()\\n}\\nvar iteration = parseInt(n.text)\\n\\n    cost.text = source.data['costs'][iteration].toFixed(1)\\n    \\n    if (iteration == source.data['edges_y'].length - 1) {\\n        done.text = \\\"done.\\\"\\n        swaps.data['swaps_before_x'] = [[]]\\n        swaps.data['swaps_before_y'] = [[]]\\n        swaps.data['swaps_after_x'] = [[]]\\n        swaps.data['swaps_after_y'] = [[]]\\n    } else {\\n        done.text = \\\"\\\"\\n        swaps.data['swaps_before_x'] = swaps_source.data['swaps_before_x'][iteration]\\n        swaps.data['swaps_before_y'] = swaps_source.data['swaps_before_y'][iteration]\\n        swaps.data['swaps_after_x'] = swaps_source.data['swaps_after_x'][iteration]\\n        swaps.data['swaps_after_y'] = swaps_source.data['swaps_after_y'][iteration]\\n    }\\n\\n    tour.data['edges_x'] = source.data['edges_x'][iteration]\\n    tour.data['edges_y'] = source.data['edges_y'][iteration]\\n    tour.change.emit()\\n    swaps.change.emit()\\n    \"},\"id\":\"2269\",\"type\":\"CustomJS\"},{\"attributes\":{\"children\":[{\"id\":\"2268\"},{\"id\":\"2266\"}],\"max_width\":400,\"sizing_mode\":\"stretch_both\"},\"id\":\"2270\",\"type\":\"Row\"},{\"attributes\":{},\"id\":\"2214\",\"type\":\"LinearScale\"},{\"attributes\":{\"data_source\":{\"id\":\"2245\"},\"glyph\":{\"id\":\"2257\"},\"hover_glyph\":null,\"muted_glyph\":null,\"nonselection_glyph\":{\"id\":\"2258\"},\"selection_glyph\":null,\"view\":{\"id\":\"2260\"}},\"id\":\"2259\",\"type\":\"GlyphRenderer\"},{\"attributes\":{\"data_source\":{\"id\":\"2243\"},\"glyph\":{\"id\":\"2247\"},\"hover_glyph\":null,\"muted_glyph\":null,\"nonselection_glyph\":{\"id\":\"2248\"},\"selection_glyph\":null,\"view\":{\"id\":\"2250\"}},\"id\":\"2249\",\"type\":\"GlyphRenderer\"},{\"attributes\":{\"fill_color\":{\"value\":\"steelblue\"},\"line_color\":{\"value\":\"steelblue\"},\"size\":{\"units\":\"screen\",\"value\":8},\"x\":{\"field\":\"x\"},\"y\":{\"field\":\"y\"}},\"id\":\"2262\",\"type\":\"Circle\"},{\"attributes\":{\"children\":[{\"id\":\"2239\"},{\"id\":\"2240\"}]},\"id\":\"2271\",\"type\":\"Row\"},{\"attributes\":{\"formatter\":{\"id\":\"2274\"},\"ticker\":{\"id\":\"2217\"},\"visible\":false},\"id\":\"2216\",\"type\":\"LinearAxis\"},{\"attributes\":{\"source\":{\"id\":\"2261\"}},\"id\":\"2265\",\"type\":\"CDSView\"},{\"attributes\":{\"bottom_units\":\"screen\",\"fill_alpha\":0.5,\"fill_color\":\"lightgrey\",\"left_units\":\"screen\",\"level\":\"overlay\",\"line_alpha\":1.0,\"line_color\":\"black\",\"line_dash\":[4,4],\"line_width\":2,\"right_units\":\"screen\",\"top_units\":\"screen\"},\"id\":\"2230\",\"type\":\"BoxAnnotation\"},{\"attributes\":{},\"id\":\"2217\",\"type\":\"BasicTicker\"},{\"attributes\":{\"line_alpha\":0.1,\"line_width\":4,\"x\":{\"field\":\"edges_x\"},\"y\":{\"field\":\"edges_y\"}},\"id\":\"2248\",\"type\":\"Line\"},{\"attributes\":{\"data\":{\"costs\":[61.08276253029822,60.49697609267131,59.659253752839696,59.089724298507356,58.389050422582734,57.15298244508294,56.389050422582734,56.05519988716055,55.87705430228724,55.46941344953364,54.64098632478745,54.30713578936526,54.128990204491956,53.54320376686505,52.30713578936526],\"edges_x\":[[0.0,0.0,1.0,2.0,2.0,3.0,3.0,2.0,2.0,3.0,4.0,4.0,4.0,5.0,5.0,5.0,6.0,6.0,6.0,6.0,5.0,4.0,4.0,5.0,6.0,6.0,6.0,5.0,5.0,4.0,3.0,3.0,2.0,1.0,1.0,0.0,0.0,0.0,1.0,1.0,1.0,0.0,0.0,1.0,2.0,2.0,3.0,3.0,4.0,0.0],[0.0,1.0,2.0,3.0,3.0,4.0,5.0,5.0,6.0,6.0,6.0,5.0,4.0,4.0,5.0,6.0,6.0,6.0,6.0,5.0,5.0,5.0,4.0,4.0,4.0,3.0,2.0,2.0,3.0,3.0,2.0,2.0,1.0,0.0,1.0,0.0,0.0,0.0,1.0,1.0,1.0,0.0,0.0,1.0,2.0,2.0,3.0,3.0,4.0,0.0],[0.0,1.0,2.0,3.0,4.0,3.0,3.0,2.0,2.0,1.0,0.0,0.0,1.0,1.0,1.0,0.0,0.0,0.0,1.0,0.0,1.0,2.0,2.0,3.0,3.0,2.0,2.0,3.0,4.0,4.0,4.0,5.0,5.0,5.0,6.0,6.0,6.0,6.0,5.0,4.0,4.0,5.0,6.0,6.0,6.0,5.0,5.0,4.0,3.0,0.0],[0.0,1.0,2.0,3.0,4.0,3.0,3.0,2.0,2.0,1.0,0.0,0.0,1.0,1.0,1.0,0.0,0.0,0.0,1.0,0.0,1.0,2.0,2.0,3.0,3.0,2.0,2.0,3.0,4.0,4.0,4.0,5.0,5.0,5.0,6.0,6.0,6.0,6.0,5.0,4.0,4.0,5.0,6.0,6.0,6.0,5.0,5.0,4.0,3.0,0.0],[0.0,1.0,2.0,3.0,4.0,2.0,1.0,0.0,1.0,0.0,0.0,0.0,1.0,1.0,1.0,0.0,0.0,1.0,2.0,2.0,3.0,3.0,2.0,3.0,3.0,2.0,2.0,3.0,4.0,4.0,4.0,5.0,5.0,5.0,6.0,6.0,6.0,6.0,5.0,4.0,4.0,5.0,6.0,6.0,6.0,5.0,5.0,4.0,3.0,0.0],[0.0,1.0,2.0,3.0,4.0,4.0,5.0,5.0,6.0,6.0,6.0,5.0,4.0,4.0,5.0,6.0,6.0,6.0,6.0,5.0,5.0,5.0,4.0,4.0,4.0,3.0,2.0,2.0,3.0,3.0,2.0,3.0,3.0,2.0,2.0,1.0,0.0,0.0,1.0,1.0,1.0,0.0,0.0,0.0,1.0,0.0,1.0,2.0,3.0,0.0],[0.0,1.0,2.0,3.0,4.0,4.0,5.0,5.0,6.0,6.0,6.0,5.0,4.0,4.0,5.0,6.0,6.0,6.0,6.0,5.0,5.0,5.0,4.0,4.0,4.0,3.0,2.0,2.0,3.0,3.0,2.0,3.0,3.0,2.0,2.0,1.0,0.0,0.0,1.0,1.0,1.0,0.0,0.0,0.0,1.0,0.0,1.0,2.0,3.0,0.0],[0.0,1.0,2.0,3.0,4.0,4.0,5.0,5.0,6.0,6.0,6.0,5.0,4.0,4.0,5.0,6.0,6.0,6.0,6.0,5.0,5.0,5.0,4.0,4.0,4.0,2.0,3.0,3.0,2.0,2.0,3.0,3.0,3.0,2.0,2.0,1.0,0.0,0.0,1.0,1.0,1.0,0.0,0.0,0.0,1.0,0.0,1.0,2.0,3.0,0.0],[0.0,1.0,2.0,3.0,4.0,4.0,5.0,5.0,6.0,6.0,6.0,5.0,4.0,4.0,5.0,6.0,6.0,6.0,6.0,5.0,5.0,5.0,4.0,4.0,4.0,3.0,2.0,3.0,2.0,2.0,3.0,3.0,3.0,2.0,2.0,1.0,0.0,0.0,1.0,1.0,1.0,0.0,0.0,0.0,1.0,0.0,1.0,2.0,3.0,0.0],[0.0,1.0,2.0,3.0,4.0,4.0,5.0,5.0,6.0,6.0,6.0,5.0,4.0,4.0,5.0,6.0,6.0,6.0,6.0,5.0,5.0,5.0,4.0,4.0,4.0,3.0,2.0,3.0,2.0,2.0,3.0,3.0,3.0,2.0,2.0,1.0,0.0,0.0,1.0,1.0,1.0,0.0,0.0,0.0,1.0,0.0,1.0,2.0,3.0,0.0],[0.0,1.0,2.0,3.0,4.0,4.0,5.0,5.0,6.0,6.0,6.0,5.0,4.0,4.0,5.0,6.0,6.0,6.0,6.0,5.0,5.0,5.0,4.0,4.0,4.0,3.0,3.0,2.0,2.0,2.0,3.0,3.0,3.0,2.0,2.0,1.0,0.0,0.0,1.0,1.0,1.0,0.0,0.0,0.0,1.0,0.0,1.0,2.0,3.0,0.0],[0.0,1.0,2.0,3.0,4.0,4.0,5.0,5.0,6.0,6.0,6.0,5.0,4.0,4.0,5.0,6.0,6.0,6.0,6.0,5.0,5.0,5.0,4.0,4.0,4.0,3.0,3.0,3.0,2.0,1.0,0.0,1.0,0.0,0.0,0.0,1.0,1.0,1.0,0.0,0.0,1.0,2.0,2.0,3.0,3.0,3.0,2.0,2.0,2.0,0.0],[0.0,1.0,2.0,3.0,4.0,4.0,5.0,5.0,6.0,6.0,6.0,5.0,4.0,4.0,5.0,6.0,6.0,6.0,6.0,5.0,5.0,5.0,4.0,4.0,4.0,3.0,3.0,3.0,2.0,2.0,2.0,3.0,3.0,3.0,2.0,2.0,1.0,0.0,0.0,1.0,1.0,1.0,0.0,0.0,0.0,1.0,0.0,1.0,2.0,0.0],[0.0,1.0,2.0,3.0,4.0,4.0,5.0,5.0,6.0,6.0,6.0,5.0,4.0,4.0,5.0,6.0,6.0,6.0,6.0,5.0,5.0,5.0,4.0,4.0,4.0,3.0,3.0,3.0,2.0,2.0,2.0,3.0,3.0,3.0,2.0,2.0,1.0,0.0,0.0,1.0,1.0,1.0,0.0,0.0,0.0,1.0,0.0,1.0,2.0,0.0],[0.0,1.0,2.0,3.0,4.0,4.0,5.0,5.0,6.0,6.0,6.0,5.0,4.0,4.0,5.0,6.0,6.0,6.0,6.0,5.0,5.0,5.0,4.0,4.0,4.0,3.0,3.0,3.0,2.0,2.0,2.0,3.0,3.0,3.0,2.0,2.0,1.0,0.0,0.0,1.0,1.0,1.0,0.0,0.0,0.0,1.0,2.0,1.0,0.0,0.0]],\"edges_y\":[[0.0,1.0,1.0,1.0,2.0,2.0,3.0,3.0,4.0,4.0,4.0,5.0,6.0,6.0,5.0,4.0,4.0,5.0,6.0,3.0,3.0,3.0,2.0,2.0,2.0,1.0,0.0,0.0,1.0,1.0,1.0,0.0,0.0,0.0,2.0,2.0,3.0,4.0,4.0,3.0,5.0,5.0,6.0,6.0,6.0,5.0,5.0,6.0,0.0,0.0],[0.0,0.0,0.0,0.0,1.0,1.0,1.0,0.0,0.0,1.0,2.0,2.0,2.0,3.0,3.0,3.0,6.0,5.0,4.0,4.0,5.0,6.0,6.0,5.0,4.0,4.0,4.0,3.0,3.0,2.0,2.0,1.0,1.0,1.0,2.0,2.0,3.0,4.0,4.0,3.0,5.0,5.0,6.0,6.0,6.0,5.0,5.0,6.0,0.0,0.0],[0.0,0.0,0.0,0.0,0.0,6.0,5.0,5.0,6.0,6.0,6.0,5.0,5.0,3.0,4.0,4.0,3.0,2.0,2.0,1.0,1.0,1.0,2.0,2.0,3.0,3.0,4.0,4.0,4.0,5.0,6.0,6.0,5.0,4.0,4.0,5.0,6.0,3.0,3.0,3.0,2.0,2.0,2.0,1.0,0.0,0.0,1.0,1.0,1.0,0.0],[0.0,0.0,0.0,0.0,0.0,5.0,6.0,5.0,6.0,6.0,6.0,5.0,5.0,3.0,4.0,4.0,3.0,2.0,2.0,1.0,1.0,1.0,2.0,2.0,3.0,3.0,4.0,4.0,4.0,5.0,6.0,6.0,5.0,4.0,4.0,5.0,6.0,3.0,3.0,3.0,2.0,2.0,2.0,1.0,0.0,0.0,1.0,1.0,1.0,0.0],[0.0,0.0,0.0,0.0,0.0,1.0,1.0,1.0,2.0,2.0,3.0,4.0,4.0,3.0,5.0,5.0,6.0,6.0,6.0,5.0,6.0,5.0,2.0,2.0,3.0,3.0,4.0,4.0,4.0,5.0,6.0,6.0,5.0,4.0,4.0,5.0,6.0,3.0,3.0,3.0,2.0,2.0,2.0,1.0,0.0,0.0,1.0,1.0,1.0,0.0],[0.0,0.0,0.0,0.0,0.0,1.0,1.0,0.0,0.0,1.0,2.0,2.0,2.0,3.0,3.0,3.0,6.0,5.0,4.0,4.0,5.0,6.0,6.0,5.0,4.0,4.0,4.0,3.0,3.0,2.0,2.0,5.0,6.0,5.0,6.0,6.0,6.0,5.0,5.0,3.0,4.0,4.0,3.0,2.0,2.0,1.0,1.0,1.0,1.0,0.0],[0.0,0.0,0.0,0.0,0.0,1.0,1.0,0.0,0.0,1.0,2.0,2.0,2.0,3.0,3.0,3.0,4.0,5.0,6.0,4.0,5.0,6.0,6.0,5.0,4.0,4.0,4.0,3.0,3.0,2.0,2.0,5.0,6.0,5.0,6.0,6.0,6.0,5.0,5.0,3.0,4.0,4.0,3.0,2.0,2.0,1.0,1.0,1.0,1.0,0.0],[0.0,0.0,0.0,0.0,0.0,1.0,1.0,0.0,0.0,1.0,2.0,2.0,2.0,3.0,3.0,3.0,4.0,5.0,6.0,4.0,5.0,6.0,6.0,5.0,4.0,2.0,2.0,3.0,3.0,4.0,4.0,5.0,6.0,5.0,6.0,6.0,6.0,5.0,5.0,3.0,4.0,4.0,3.0,2.0,2.0,1.0,1.0,1.0,1.0,0.0],[0.0,0.0,0.0,0.0,0.0,1.0,1.0,0.0,0.0,1.0,2.0,2.0,2.0,3.0,3.0,3.0,4.0,5.0,6.0,4.0,5.0,6.0,6.0,5.0,4.0,2.0,2.0,3.0,3.0,4.0,4.0,5.0,6.0,5.0,6.0,6.0,6.0,5.0,5.0,3.0,4.0,4.0,3.0,2.0,2.0,1.0,1.0,1.0,1.0,0.0],[0.0,0.0,0.0,0.0,0.0,1.0,1.0,0.0,0.0,1.0,2.0,2.0,2.0,3.0,3.0,3.0,4.0,5.0,6.0,4.0,5.0,6.0,6.0,5.0,4.0,3.0,2.0,2.0,3.0,4.0,4.0,5.0,6.0,5.0,6.0,6.0,6.0,5.0,5.0,3.0,4.0,4.0,3.0,2.0,2.0,1.0,1.0,1.0,1.0,0.0],[0.0,0.0,0.0,0.0,0.0,1.0,1.0,0.0,0.0,1.0,2.0,2.0,2.0,3.0,3.0,3.0,4.0,5.0,6.0,4.0,5.0,6.0,6.0,5.0,4.0,3.0,2.0,2.0,3.0,4.0,4.0,5.0,6.0,5.0,6.0,6.0,6.0,5.0,5.0,3.0,4.0,4.0,3.0,2.0,2.0,1.0,1.0,1.0,1.0,0.0],[0.0,0.0,0.0,0.0,0.0,1.0,1.0,0.0,0.0,1.0,2.0,2.0,2.0,3.0,3.0,3.0,4.0,5.0,6.0,4.0,5.0,6.0,6.0,5.0,4.0,3.0,2.0,1.0,1.0,1.0,1.0,2.0,2.0,3.0,4.0,4.0,3.0,5.0,5.0,6.0,6.0,6.0,5.0,6.0,5.0,4.0,4.0,3.0,2.0,0.0],[0.0,0.0,0.0,0.0,0.0,1.0,1.0,0.0,0.0,1.0,2.0,2.0,2.0,3.0,3.0,3.0,4.0,5.0,6.0,4.0,5.0,6.0,6.0,5.0,4.0,3.0,2.0,1.0,2.0,3.0,4.0,4.0,5.0,6.0,5.0,6.0,6.0,6.0,5.0,5.0,3.0,4.0,4.0,3.0,2.0,2.0,1.0,1.0,1.0,0.0],[0.0,0.0,0.0,0.0,0.0,1.0,1.0,0.0,0.0,1.0,2.0,2.0,2.0,3.0,3.0,3.0,4.0,5.0,6.0,4.0,5.0,6.0,6.0,5.0,4.0,3.0,2.0,1.0,2.0,3.0,4.0,4.0,5.0,6.0,5.0,6.0,6.0,6.0,5.0,5.0,4.0,3.0,4.0,3.0,2.0,2.0,1.0,1.0,1.0,0.0],[0.0,0.0,0.0,0.0,0.0,1.0,1.0,0.0,0.0,1.0,2.0,2.0,2.0,3.0,3.0,3.0,4.0,5.0,6.0,4.0,5.0,6.0,6.0,5.0,4.0,3.0,2.0,1.0,2.0,3.0,4.0,4.0,5.0,6.0,5.0,6.0,6.0,6.0,5.0,5.0,4.0,3.0,4.0,3.0,2.0,2.0,1.0,1.0,1.0,0.0]]},\"selected\":{\"id\":\"2288\"},\"selection_policy\":{\"id\":\"2287\"}},\"id\":\"2242\",\"type\":\"ColumnDataSource\"},{\"attributes\":{\"axis\":{\"id\":\"2216\"},\"grid_line_color\":null,\"ticker\":null},\"id\":\"2219\",\"type\":\"Grid\"},{\"attributes\":{\"background_fill_color\":null,\"below\":[{\"id\":\"2216\"}],\"border_fill_color\":null,\"center\":[{\"id\":\"2219\"},{\"id\":\"2223\"}],\"left\":[{\"id\":\"2220\"}],\"outline_line_color\":null,\"plot_height\":400,\"plot_width\":400,\"renderers\":[{\"id\":\"2249\"},{\"id\":\"2254\"},{\"id\":\"2259\"},{\"id\":\"2264\"}],\"title\":{\"id\":\"2206\"},\"toolbar\":{\"id\":\"2231\"},\"toolbar_location\":null,\"x_range\":{\"id\":\"2208\"},\"x_scale\":{\"id\":\"2212\"},\"y_range\":{\"id\":\"2210\"},\"y_scale\":{\"id\":\"2214\"}},\"id\":\"2205\",\"subtype\":\"Figure\",\"type\":\"Plot\"},{\"attributes\":{},\"id\":\"2274\",\"type\":\"BasicTickFormatter\"},{\"attributes\":{\"formatter\":{\"id\":\"2276\"},\"ticker\":{\"id\":\"2221\"},\"visible\":false},\"id\":\"2220\",\"type\":\"LinearAxis\"},{\"attributes\":{},\"id\":\"2276\",\"type\":\"BasicTickFormatter\"},{\"attributes\":{\"data\":{\"edges_x\":[0.0,0.0,1.0,2.0,2.0,3.0,3.0,2.0,2.0,3.0,4.0,4.0,4.0,5.0,5.0,5.0,6.0,6.0,6.0,6.0,5.0,4.0,4.0,5.0,6.0,6.0,6.0,5.0,5.0,4.0,3.0,3.0,2.0,1.0,1.0,0.0,0.0,0.0,1.0,1.0,1.0,0.0,0.0,1.0,2.0,2.0,3.0,3.0,4.0,0.0],\"edges_y\":[0.0,1.0,1.0,1.0,2.0,2.0,3.0,3.0,4.0,4.0,4.0,5.0,6.0,6.0,5.0,4.0,4.0,5.0,6.0,3.0,3.0,3.0,2.0,2.0,2.0,1.0,0.0,0.0,1.0,1.0,1.0,0.0,0.0,0.0,2.0,2.0,3.0,4.0,4.0,3.0,5.0,5.0,6.0,6.0,6.0,5.0,5.0,6.0,0.0,0.0]},\"selected\":{\"id\":\"2279\"},\"selection_policy\":{\"id\":\"2278\"}},\"id\":\"2243\",\"type\":\"ColumnDataSource\"},{\"attributes\":{\"line_color\":{\"value\":\"red\"},\"line_width\":{\"value\":4},\"xs\":{\"field\":\"swaps_before_x\"},\"ys\":{\"field\":\"swaps_before_y\"}},\"id\":\"2252\",\"type\":\"MultiLine\"},{\"attributes\":{},\"id\":\"2221\",\"type\":\"BasicTicker\"},{\"attributes\":{},\"id\":\"2278\",\"type\":\"UnionRenderers\"},{\"attributes\":{\"data\":{\"swaps_after_x\":[[[0.0,1.0],[0.0,1.0]],[[3.0,4.0],[3.0,0.0]],[[4.0,3.0],[3.0,2.0]],[[4.0,2.0],[3.0,2.0]],[[4.0,4.0],[2.0,3.0]],[[6.0,6.0],[6.0,5.0]],[[4.0,2.0],[3.0,3.0]],[[4.0,3.0],[2.0,3.0]],[[4.0,3.0],[3.0,2.0]],[[3.0,3.0],[2.0,2.0]],[[3.0,3.0],[2.0,0.0]],[[3.0,2.0],[2.0,0.0]],[[1.0,1.0],[1.0,0.0]],[[1.0,2.0],[0.0,0.0]]],\"swaps_after_y\":[[[0.0,0.0],[1.0,2.0]],[[0.0,0.0],[1.0,0.0]],[[0.0,5.0],[6.0,5.0]],[[0.0,1.0],[5.0,2.0]],[[0.0,1.0],[1.0,1.0]],[[3.0,4.0],[6.0,4.0]],[[4.0,2.0],[4.0,5.0]],[[4.0,2.0],[2.0,3.0]],[[4.0,3.0],[2.0,3.0]],[[3.0,2.0],[2.0,3.0]],[[2.0,1.0],[2.0,0.0]],[[1.0,2.0],[1.0,0.0]],[[5.0,4.0],[3.0,4.0]],[[2.0,1.0],[1.0,0.0]]],\"swaps_before_x\":[[[0.0,0.0],[1.0,1.0]],[[3.0,3.0],[4.0,0.0]],[[4.0,3.0],[3.0,2.0]],[[4.0,3.0],[2.0,2.0]],[[4.0,2.0],[4.0,3.0]],[[6.0,6.0],[6.0,5.0]],[[4.0,3.0],[2.0,3.0]],[[4.0,2.0],[3.0,3.0]],[[4.0,3.0],[3.0,2.0]],[[3.0,2.0],[3.0,2.0]],[[3.0,2.0],[3.0,0.0]],[[3.0,2.0],[2.0,0.0]],[[1.0,1.0],[1.0,0.0]],[[1.0,0.0],[2.0,0.0]]],\"swaps_before_y\":[[[0.0,1.0],[0.0,2.0]],[[0.0,1.0],[0.0,0.0]],[[0.0,6.0],[5.0,5.0]],[[0.0,5.0],[1.0,2.0]],[[0.0,1.0],[1.0,1.0]],[[3.0,6.0],[4.0,4.0]],[[4.0,4.0],[2.0,5.0]],[[4.0,2.0],[2.0,3.0]],[[4.0,2.0],[3.0,3.0]],[[3.0,2.0],[2.0,3.0]],[[2.0,2.0],[1.0,0.0]],[[1.0,1.0],[2.0,0.0]],[[5.0,3.0],[4.0,4.0]],[[2.0,1.0],[1.0,0.0]]]},\"selected\":{\"id\":\"2290\"},\"selection_policy\":{\"id\":\"2289\"}},\"id\":\"2244\",\"type\":\"ColumnDataSource\"},{\"attributes\":{\"axis\":{\"id\":\"2220\"},\"dimension\":1,\"grid_line_color\":null,\"ticker\":null},\"id\":\"2223\",\"type\":\"Grid\"},{\"attributes\":{},\"id\":\"2279\",\"type\":\"Selection\"},{\"attributes\":{\"data\":{\"swaps_after_x\":[[0.0,1.0],[0.0,1.0]],\"swaps_after_y\":[[0.0,0.0],[1.0,2.0]],\"swaps_before_x\":[[0.0,0.0],[1.0,1.0]],\"swaps_before_y\":[[0.0,1.0],[0.0,2.0]]},\"selected\":{\"id\":\"2281\"},\"selection_policy\":{\"id\":\"2280\"}},\"id\":\"2245\",\"type\":\"ColumnDataSource\"},{\"attributes\":{\"text\":\"\"},\"id\":\"2206\",\"type\":\"Title\"},{\"attributes\":{},\"id\":\"2280\",\"type\":\"UnionRenderers\"},{\"attributes\":{\"source\":{\"id\":\"2245\"}},\"id\":\"2255\",\"type\":\"CDSView\"},{\"attributes\":{\"align\":\"center\",\"text\":\"61.1\",\"width\":200},\"id\":\"2239\",\"type\":\"Div\"},{\"attributes\":{},\"id\":\"2281\",\"type\":\"Selection\"},{\"attributes\":{\"data_source\":{\"id\":\"2245\"},\"glyph\":{\"id\":\"2252\"},\"hover_glyph\":null,\"muted_glyph\":null,\"nonselection_glyph\":{\"id\":\"2253\"},\"selection_glyph\":null,\"view\":{\"id\":\"2255\"}},\"id\":\"2254\",\"type\":\"GlyphRenderer\"}],\"root_ids\":[\"2293\"]},\"title\":\"Bokeh Application\",\"version\":\"2.1.0\"}};\n",
       "  var render_items = [{\"docid\":\"6f574e77-d86d-4a55-9311-734a2d50a3fb\",\"root_ids\":[\"2293\"],\"roots\":{\"2293\":\"0e044b10-a469-4a7c-b735-b369fd43044a\"}}];\n",
       "  root.Bokeh.embed.embed_items_notebook(docs_json, render_items);\n",
       "\n",
       "  }\n",
       "  if (root.Bokeh !== undefined) {\n",
       "    embed_document(root);\n",
       "  } else {\n",
       "    var attempts = 0;\n",
       "    var timer = setInterval(function(root) {\n",
       "      if (root.Bokeh !== undefined) {\n",
       "        clearInterval(timer);\n",
       "        embed_document(root);\n",
       "      } else {\n",
       "        attempts++;\n",
       "        if (attempts > 100) {\n",
       "          clearInterval(timer);\n",
       "          console.log(\"Bokeh: ERROR: Unable to run BokehJS code because BokehJS library is missing\");\n",
       "        }\n",
       "      }\n",
       "    }, 10, root)\n",
       "  }\n",
       "})(window);"
      ],
      "application/vnd.bokehjs_exec.v0+json": ""
     },
     "metadata": {
      "application/vnd.bokehjs_exec.v0+json": {
       "id": "2293"
      }
     },
     "output_type": "display_data"
    }
   ],
   "source": [
    "# 2-OPT\n",
    "nodes, G = tsp_grid_instance(7,7,manhattan=False)\n",
    "tour = plot_tsp_heuristic(nodes, G, heuristic='nearest_neighbor', initial=0)\n",
    "tour = plot_two_opt(nodes, G, tour)"
   ]
  },
  {
   "cell_type": "code",
   "execution_count": 8,
   "metadata": {},
   "outputs": [
    {
     "data": {
      "text/html": [
       "\n",
       "\n",
       "\n",
       "\n",
       "\n",
       "\n",
       "  <div class=\"bk-root\" id=\"fc88aec9-2ad4-4e22-a247-5bd3d63b0dd7\" data-root-id=\"2552\"></div>\n"
      ]
     },
     "metadata": {},
     "output_type": "display_data"
    },
    {
     "data": {
      "application/javascript": [
       "(function(root) {\n",
       "  function embed_document(root) {\n",
       "    \n",
       "  var docs_json = {\"4d3bd7f3-83c2-4d4d-a9fb-fe6258dc8aa7\":{\"roots\":{\"references\":[{\"attributes\":{\"children\":[[{\"id\":\"2480\"},0,0],[{\"id\":\"2536\"},1,0]]},\"id\":\"2552\",\"type\":\"GridBox\"},{\"attributes\":{\"h\":{\"units\":\"data\",\"value\":2735.46},\"url\":{\"field\":\"url\"},\"w\":{\"units\":\"data\",\"value\":2305.602},\"x\":{\"value\":447.09900000000005},\"y\":{\"value\":1439.53}},\"id\":\"2515\",\"type\":\"ImageURL\"},{\"attributes\":{\"data_source\":{\"id\":\"2522\"},\"glyph\":{\"id\":\"2524\"},\"hover_glyph\":null,\"muted_glyph\":null,\"nonselection_glyph\":{\"id\":\"2525\"},\"selection_glyph\":null,\"view\":{\"id\":\"2527\"}},\"id\":\"2526\",\"type\":\"GlyphRenderer\"},{\"attributes\":{\"formatter\":{\"id\":\"2539\"},\"ticker\":{\"id\":\"2492\"},\"visible\":false},\"id\":\"2491\",\"type\":\"LinearAxis\"},{\"attributes\":{},\"id\":\"2496\",\"type\":\"BasicTicker\"},{\"attributes\":{\"source\":{\"id\":\"2522\"}},\"id\":\"2527\",\"type\":\"CDSView\"},{\"attributes\":{\"active_drag\":\"auto\",\"active_inspect\":\"auto\",\"active_multi\":null,\"active_scroll\":\"auto\",\"active_tap\":\"auto\",\"logo\":null,\"tools\":[{\"id\":\"2499\"},{\"id\":\"2500\"},{\"id\":\"2501\"},{\"id\":\"2502\"},{\"id\":\"2503\"},{\"id\":\"2504\"},{\"id\":\"2534\"}]},\"id\":\"2506\",\"type\":\"Toolbar\"},{\"attributes\":{\"data\":{\"x\":[751.5,634.6,701.4,784.9,985.3,1753.5,1920.5,2338.0,2404.8,2187.7,2321.3,2471.6,2505.0,2605.2,1987.3,2070.8,2421.5,2321.3,2187.7,2237.8,2154.3,1619.9,1670.0],\"y\":[1235.8,200.4,-100.2,-267.2,-367.4,768.1999999999998,-801.5999999999998,-868.4,-1102.2,-400.8,-300.6,334.0,467.6,668.0,400.8,-133.6,233.8,668.0,267.2,434.2,534.4,-501.0,-868.4]},\"selected\":{\"id\":\"2548\"},\"selection_policy\":{\"id\":\"2547\"}},\"id\":\"2528\",\"type\":\"ColumnDataSource\"},{\"attributes\":{},\"id\":\"2545\",\"type\":\"UnionRenderers\"},{\"attributes\":{},\"id\":\"2541\",\"type\":\"BasicTickFormatter\"},{\"attributes\":{},\"id\":\"2539\",\"type\":\"BasicTickFormatter\"},{\"attributes\":{\"fill_color\":{\"value\":\"steelblue\"},\"line_color\":{\"value\":\"steelblue\"},\"size\":{\"units\":\"screen\",\"value\":8},\"x\":{\"field\":\"x\"},\"y\":{\"field\":\"y\"}},\"id\":\"2529\",\"type\":\"Circle\"},{\"attributes\":{\"source\":{\"id\":\"2514\"}},\"id\":\"2518\",\"type\":\"CDSView\"},{\"attributes\":{\"global_alpha\":0.1,\"h\":{\"units\":\"data\",\"value\":2735.46},\"url\":{\"field\":\"url\"},\"w\":{\"units\":\"data\",\"value\":2305.602},\"x\":{\"value\":447.09900000000005},\"y\":{\"value\":1439.53}},\"id\":\"2516\",\"type\":\"ImageURL\"},{\"attributes\":{\"line_alpha\":0.1,\"line_width\":4,\"x\":{\"field\":\"edges_x\"},\"y\":{\"field\":\"edges_y\"}},\"id\":\"2525\",\"type\":\"Line\"},{\"attributes\":{\"data_source\":{\"id\":\"2528\"},\"glyph\":{\"id\":\"2529\"},\"hover_glyph\":null,\"muted_glyph\":null,\"nonselection_glyph\":{\"id\":\"2530\"},\"selection_glyph\":null,\"view\":{\"id\":\"2532\"}},\"id\":\"2531\",\"type\":\"GlyphRenderer\"},{\"attributes\":{\"end\":2772.701,\"start\":467.09900000000005},\"id\":\"2483\",\"type\":\"Range1d\"},{\"attributes\":{},\"id\":\"2544\",\"type\":\"Selection\"},{\"attributes\":{\"axis\":{\"id\":\"2495\"},\"dimension\":1,\"grid_line_color\":null,\"ticker\":null},\"id\":\"2498\",\"type\":\"Grid\"},{\"attributes\":{\"fill_color\":{\"value\":\"steelblue\"},\"line_alpha\":{\"value\":0.1},\"line_color\":{\"value\":\"steelblue\"},\"size\":{\"units\":\"screen\",\"value\":8},\"x\":{\"field\":\"x\"},\"y\":{\"field\":\"y\"}},\"id\":\"2530\",\"type\":\"Circle\"},{\"attributes\":{},\"id\":\"2489\",\"type\":\"LinearScale\"},{\"attributes\":{\"source\":{\"id\":\"2528\"}},\"id\":\"2532\",\"type\":\"CDSView\"},{\"attributes\":{\"text\":\"\"},\"id\":\"2481\",\"type\":\"Title\"},{\"attributes\":{\"args\":{\"cost\":{\"id\":\"2519\"},\"done\":{\"id\":\"2520\"},\"pts\":{\"id\":\"2528\"},\"source\":{\"id\":\"2521\"},\"tour\":{\"id\":\"2522\"}},\"code\":\"\\n    var node = cb_data.index.indices[0]\\n    \\n    if (node.toString() != '') {\\n        if (!(tour.data['indices'].includes(node))) {\\n            if (tour.data['indices'].length > 0) { \\n                var prev = tour.data['indices'][tour.data['indices'].length - 1]\\n            } else {\\n                var prev = -1\\n            }\\n\\n            var tmp_edges_x = tour.data['edges_x']\\n            var tmp_edges_y = tour.data['edges_y']\\n            var tmp_indices = tour.data['indices']\\n\\n            tmp_edges_x.push(pts.data['x'][node])\\n            tmp_edges_y.push(pts.data['y'][node])\\n            tmp_indices.push(node)\\n\\n            tour.data['edges_x'] = tmp_edges_x\\n            tour.data['edges_y'] = tmp_edges_y\\n            tour.data['indices'] = tmp_indices\\n\\n            if (prev == -1) {\\n                cost.text = '0.0'\\n            } else {\\n                var before = parseFloat(cost.text)\\n                var increase = source.data['G'][prev][node]\\n                cost.text = (before + increase).toFixed(1)   \\n            }\\n            \\n            if (tour.data['indices'].length == source.data['G'].length) {\\n                var tmp_edges_x = tour.data['edges_x']\\n                var tmp_edges_y = tour.data['edges_y']\\n                var tmp_indices = tour.data['indices']\\n\\n                tmp_edges_x.push(tmp_edges_x[0])\\n                tmp_edges_y.push(tmp_edges_y[0])\\n                tmp_indices.push(tmp_indices[0])\\n\\n                tour.data['edges_x'] = tmp_edges_x\\n                tour.data['edges_y'] = tmp_edges_y\\n                tour.data['indices'] = tmp_indices\\n\\n                var before = parseFloat(cost.text)\\n                var increase = source.data['G'][node][tmp_indices[0]]\\n                cost.text = (before + increase).toFixed(1) \\n            }    \\n        }\\n    }\\n    done.text = '['.concat(tour.data['indices'].join(',')).concat(']')\\n    tour.change.emit()\\n    \"},\"id\":\"2533\",\"type\":\"CustomJS\"},{\"attributes\":{\"callback\":{\"id\":\"2533\"},\"renderers\":[{\"id\":\"2531\"}],\"tooltips\":null},\"id\":\"2534\",\"type\":\"HoverTool\"},{\"attributes\":{\"end\":1434.53,\"start\":-1300.93},\"id\":\"2485\",\"type\":\"Range1d\"},{\"attributes\":{\"bottom_units\":\"screen\",\"fill_alpha\":0.5,\"fill_color\":\"lightgrey\",\"left_units\":\"screen\",\"level\":\"overlay\",\"line_alpha\":1.0,\"line_color\":\"black\",\"line_dash\":[4,4],\"line_width\":2,\"right_units\":\"screen\",\"top_units\":\"screen\"},\"id\":\"2505\",\"type\":\"BoxAnnotation\"},{\"attributes\":{\"data_source\":{\"id\":\"2514\"},\"glyph\":{\"id\":\"2515\"},\"hover_glyph\":null,\"muted_glyph\":null,\"nonselection_glyph\":{\"id\":\"2516\"},\"selection_glyph\":null,\"view\":{\"id\":\"2518\"}},\"id\":\"2517\",\"type\":\"GlyphRenderer\"},{\"attributes\":{\"children\":[{\"id\":\"2519\"},{\"id\":\"2520\"}]},\"id\":\"2536\",\"type\":\"Row\"},{\"attributes\":{\"line_width\":4,\"x\":{\"field\":\"edges_x\"},\"y\":{\"field\":\"edges_y\"}},\"id\":\"2524\",\"type\":\"Line\"},{\"attributes\":{},\"id\":\"2543\",\"type\":\"UnionRenderers\"},{\"attributes\":{},\"id\":\"2504\",\"type\":\"HelpTool\"},{\"attributes\":{},\"id\":\"2503\",\"type\":\"ResetTool\"},{\"attributes\":{},\"id\":\"2546\",\"type\":\"Selection\"},{\"attributes\":{},\"id\":\"2492\",\"type\":\"BasicTicker\"},{\"attributes\":{},\"id\":\"2502\",\"type\":\"SaveTool\"},{\"attributes\":{},\"id\":\"2487\",\"type\":\"LinearScale\"},{\"attributes\":{},\"id\":\"2547\",\"type\":\"UnionRenderers\"},{\"attributes\":{\"axis\":{\"id\":\"2491\"},\"grid_line_color\":null,\"ticker\":null},\"id\":\"2494\",\"type\":\"Grid\"},{\"attributes\":{\"overlay\":{\"id\":\"2505\"}},\"id\":\"2501\",\"type\":\"BoxZoomTool\"},{\"attributes\":{\"align\":\"center\",\"text\":\"0.0\",\"width\":300},\"id\":\"2519\",\"type\":\"Div\"},{\"attributes\":{},\"id\":\"2548\",\"type\":\"Selection\"},{\"attributes\":{\"formatter\":{\"id\":\"2541\"},\"ticker\":{\"id\":\"2496\"},\"visible\":false},\"id\":\"2495\",\"type\":\"LinearAxis\"},{\"attributes\":{},\"id\":\"2500\",\"type\":\"WheelZoomTool\"},{\"attributes\":{\"data\":{\"edges_x\":[],\"edges_y\":[],\"indices\":[]},\"selected\":{\"id\":\"2546\"},\"selection_policy\":{\"id\":\"2545\"}},\"id\":\"2522\",\"type\":\"ColumnDataSource\"},{\"attributes\":{},\"id\":\"2549\",\"type\":\"UnionRenderers\"},{\"attributes\":{\"background_fill_color\":null,\"below\":[{\"id\":\"2491\"}],\"border_fill_color\":null,\"center\":[{\"id\":\"2494\"},{\"id\":\"2498\"}],\"left\":[{\"id\":\"2495\"}],\"outline_line_color\":null,\"plot_height\":375,\"renderers\":[{\"id\":\"2517\"},{\"id\":\"2526\"},{\"id\":\"2531\"}],\"title\":{\"id\":\"2481\"},\"toolbar\":{\"id\":\"2506\"},\"toolbar_location\":null,\"x_range\":{\"id\":\"2483\"},\"x_scale\":{\"id\":\"2487\"},\"y_range\":{\"id\":\"2485\"},\"y_scale\":{\"id\":\"2489\"}},\"id\":\"2480\",\"subtype\":\"Figure\",\"type\":\"Plot\"},{\"attributes\":{},\"id\":\"2499\",\"type\":\"PanTool\"},{\"attributes\":{\"data\":{\"G\":[[0.0,1041.978296319074,1336.9390449829789,1503.3710653062335,1620.158226840823,1105.73674986409,2348.9486499283034,2635.268466399581,2863.502207088376,2177.4136033376844,2196.5420551403063,1942.160459385372,1914.391153865897,1938.711048609359,1491.4511859259762,1901.5280302956355,1947.5379328783304,1669.3318663465332,1732.2980113132955,1688.682992749083,1568.3780794183526,1941.8014316608173,2295.931159682276],[1041.978296319074,1.0789593218788873e-05,307.9327848735826,491.16173507308156,667.3734561697819,1254.7246909182904,1630.197169056553,2010.9462946583133,2197.811365881977,1665.4011678871848,1759.5334296341177,1841.8517747093547,1889.389319330455,2025.318276222283,1367.4638752084093,1474.525835650227,1787.212122273123,1750.3161571556152,1554.5358953719915,1620.1582268408233,1555.970465658009,1209.4536163077937,1488.081516584357],[1336.9390449829789,307.9327848735826,0.0,186.71167612123244,389.86542549962036,1364.1968223097426,1406.4731671809454,1807.9244453239742,1976.2529089162654,1516.3931053654917,1632.2488076270727,1822.673223592205,1890.8648285903464,2052.9456105800755,1380.0506548674218,1369.80725651458,1752.2271570775295,1792.8210312242547,1531.0357441941057,1626.6863004279592,1585.4449123195675,1002.1391570036569,1236.2512689578928],[1503.3710653062335,491.16173507308156,186.71167612123244,0.0,224.0540113454783,1417.829016489647,1255.0580544341362,1665.4011678871848,1822.443691859916,1409.147543729896,1536.7630005957328,1790.6418765347803,1870.4745520856463,2046.4826239184147,1375.4961868358632,1292.8216311618553,1711.566697502613,1798.6450455829242,1501.1432976235144,1613.3444672480828,1586.7636623013525,867.1144330479111,1069.973574440042],[1620.158226840823,667.3734561697819,389.86542549962036,224.0540113454783,0.0,1371.0283002184892,1031.081315900933,1442.497240898574,1598.4089870868472,1202.863799438656,1337.6689575526525,1643.4870398028697,1733.9876268301339,1922.531968524841,1262.5906858519115,1110.3930340199367,1556.9559659797708,1690.2512120983672,1359.5892467947808,1487.0503723815143,1476.4160118340633,648.5106938208503,848.4191711648201],[1105.73674986409,1254.7246909182904,1364.1968223097426,1417.829016489647,1371.0283002184892,0.0,1578.6579870256883,1737.8434365615328,1980.5524103138498,1247.03273413331,1210.2604182571617,839.1646143635943,809.3902705123156,857.5738627080477,435.48272066753714,955.9929549949619,855.4573981210283,576.5733951545102,662.9710702587253,588.3047594572054,464.00762924762455,1276.2122080594586,1638.728717634496],[2348.9486499283034,1630.197169056553,1406.4731671809454,1255.0580544341362,1031.081315900933,1578.6579870256883,0.0,422.8102292991505,570.0060087402601,481.7016504019875,641.5930485907704,1262.2593117105534,1397.322042336698,1621.276734552124,1204.2541260049725,684.6999999999999,1150.2409138958674,1523.274367932448,1101.693823165038,1275.884371720258,1356.3032256836962,425.1125968493521,259.253717427541],[2635.268466399581,2010.9462946583133,1807.9244453239742,1665.4011678871848,1442.497240898574,1737.8434365615328,422.8102292991505,0.0,243.15567030196868,491.1617350730812,568.0455351466101,1209.7994544551584,1346.3970439658578,1559.461701998481,1316.7608476864737,781.8739540360702,1105.3583536573105,1536.4907581889322,1145.5031427281199,1306.4481620026104,1414.776848128354,806.6290163389854,668.0],[2863.502207088376,2197.811365881977,1976.2529089162654,1822.443691859916,1598.4089870868472,1980.5524103138498,570.0060087402601,243.15567030196868,0.0,734.2304610951518,805.9372246025113,1437.7526491020628,1572.9946217327001,1781.5072831734367,1559.9087313044952,1024.5691582318877,1336.1043709231703,1772.1682453988383,1386.5023512421462,1545.4494362482394,1655.6599318700687,988.6907757231273,771.0988782250954],[2177.4136033376844,1665.4011678871848,1516.3931053654917,1409.147543729896,1202.863799438656,1247.03273413331,481.7016504019875,491.1617350730812,734.2304610951518,0.0,167.0,787.7374245267264,924.5527837825149,1147.4492102049664,826.270367373779,291.6529615827675,676.2984548259737,1077.1176351726865,668.0,836.5016497293963,935.7962385049427,576.573395154511,697.6123923784603],[2196.5420551403063,1759.5334296341177,1632.2488076270727,1536.7630005957328,1337.6689575526525,1210.2604182571617,641.5930485907704,568.0455351466101,805.9372246025113,167.0,0.0,652.1558479382056,789.8588038377491,1009.3488841822732,776.8641837541495,301.0635315012431,543.7126079097322,968.6000000000005,583.3059231655382,739.5291001711827,851.536258769995,729.4670109059074,864.0535457944723],[1942.160459385372,1841.8517747093547,1822.673223592205,1790.6418765347803,1643.4870398028697,839.1646143635943,1262.2593117105534,1209.7994544551584,1437.7526491020628,787.7374245267264,652.1558479382056,0.0,137.71172789562823,359.72900911658354,488.885191021369,615.8655697471652,112.02700567274279,366.25959373100363,291.6529615827675,254.36682173585174,375.28582440588013,1192.735465222696,1445.1049512059667],[1914.391153865897,1889.389319330455,1890.8648285903464,1870.4745520856463,1733.9876268301339,809.3902705123156,1397.322042336698,1346.3970439658578,1572.9946217327001,924.5527837825149,789.8588038377491,137.71172789562823,0.0,224.05401134547728,521.9918869101314,741.6003505932289,248.26334808021798,271.8563039548644,375.2858244058777,269.27940879317225,357.0052240514142,1312.0929730777464,1575.4748490534528],[1938.711048609359,2025.318276222283,2052.9456105800755,2046.4826239184147,1922.531968524841,857.5738627080477,1621.276734552124,1559.461701998481,1781.5072831734367,1147.4492102049664,1009.3488841822732,359.72900911658354,224.05401134547728,0.0,673.1985219829276,963.4033008039779,471.46084673066974,283.90000000000157,578.74596326886,435.48272066753606,470.2762698669789,1528.8482887454857,1798.6450455829242],[1491.4511859259762,1367.4638752084093,1380.0506548674218,1375.4961868358632,1262.5906858519115,435.48272066753714,1204.2541260049725,1316.7608476864737,1559.9087313044952,826.270367373779,776.8641837541495,488.885191021369,521.9918869101314,673.1985219829276,0.0,540.8841003394353,465.20816845795025,427.72869906051415,240.85082520099277,252.71685737203734,213.86434953025923,973.7689664391652,1308.261415008484],[1901.5280302956355,1474.525835650227,1369.80725651458,1292.8216311618553,1110.3930340199367,955.9929549949619,684.6999999999999,781.8739540360702,1024.5691582318877,291.6529615827675,301.0635315012431,615.8655697471652,741.6003505932289,963.4033008039779,540.8841003394353,0.0,507.91067127990135,839.8290361734337,417.5,591.8495078987562,673.1985219829303,581.6300972267514,837.0016009542627],[1947.5379328783304,1787.212122273123,1752.2271570775295,1711.566697502613,1556.9559659797708,855.4573981210283,1150.2409138958674,1105.3583536573105,1336.1043709231703,676.2984548259737,543.7126079097322,112.02700567274279,248.26334808021798,471.46084673066974,465.20816845795025,507.91067127990135,0.0,445.6115797418192,236.17366491630688,271.8563039548678,402.18925893166636,1087.4252158194606,1334.0154009605735],[1669.3318663465332,1750.3161571556152,1792.8210312242547,1798.6450455829242,1690.2512120983672,576.5733951545102,1523.274367932448,1536.4907581889322,1772.1682453988383,1077.1176351726865,968.6000000000005,366.25959373100363,271.8563039548644,283.90000000000157,427.72869906051415,839.8290361734337,445.6115797418192,0.0,422.4802953984972,248.26334808022173,213.86434953025923,1363.2765530148313,1668.7470299599036],[1732.2980113132955,1554.5358953719915,1531.0357441941057,1501.1432976235144,1359.5892467947808,662.9710702587253,1101.693823165038,1145.5031427281199,1386.5023512421462,668.0,583.3059231655382,291.6529615827675,375.2858244058777,578.74596326886,240.85082520099277,417.5,236.17366491630688,422.4802953984972,0.0,174.35311869880556,269.27940879317225,955.2633563578157,1248.03872135443],[1688.682992749083,1620.1582268408233,1626.6863004279592,1613.3444672480828,1487.0503723815143,588.3047594572054,1275.884371720258,1306.4481620026104,1545.4494362482394,836.5016497293963,739.5291001711827,254.36682173585174,269.27940879317225,435.48272066753606,252.71685737203734,591.8495078987562,271.8563039548678,248.26334808022173,174.35311869880556,0.0,130.4311695876377,1120.8922561959287,1420.9727653970008],[1568.3780794183526,1555.970465658009,1585.4449123195675,1586.7636623013525,1476.4160118340633,464.00762924762455,1356.3032256836962,1414.776848128354,1655.6599318700687,935.7962385049427,851.536258769995,375.28582440588013,357.0052240514142,470.2762698669789,213.86434953025923,673.1985219829303,402.18925893166636,213.86434953025923,269.27940879317225,130.4311695876377,0.0,1165.176604639829,1484.0466064109985],[1941.8014316608173,1209.4536163077937,1002.1391570036569,867.1144330479111,648.5106938208503,1276.2122080594586,425.1125968493521,806.6290163389854,988.6907757231273,576.573395154511,729.4670109059074,1192.735465222696,1312.0929730777464,1528.8482887454857,973.7689664391652,581.6300972267514,1087.4252158194606,1363.2765530148313,955.2633563578157,1120.8922561959287,1165.176604639829,0.0,370.8001752966151],[2295.931159682276,1488.081516584357,1236.2512689578928,1069.973574440042,848.4191711648201,1638.728717634496,259.253717427541,668.0,771.0988782250954,697.6123923784603,864.0535457944723,1445.1049512059667,1575.4748490534528,1798.6450455829242,1308.261415008484,837.0016009542627,1334.0154009605735,1668.7470299599036,1248.03872135443,1420.9727653970008,1484.0466064109985,370.8001752966151,0.0]]},\"selected\":{\"id\":\"2550\"},\"selection_policy\":{\"id\":\"2549\"}},\"id\":\"2521\",\"type\":\"ColumnDataSource\"},{\"attributes\":{},\"id\":\"2550\",\"type\":\"Selection\"},{\"attributes\":{\"data\":{\"url\":[\"images/us.png\"]},\"selected\":{\"id\":\"2544\"},\"selection_policy\":{\"id\":\"2543\"}},\"id\":\"2514\",\"type\":\"ColumnDataSource\"},{\"attributes\":{\"align\":\"center\",\"width\":300},\"id\":\"2520\",\"type\":\"Div\"}],\"root_ids\":[\"2552\"]},\"title\":\"Bokeh Application\",\"version\":\"2.1.0\"}};\n",
       "  var render_items = [{\"docid\":\"4d3bd7f3-83c2-4d4d-a9fb-fe6258dc8aa7\",\"root_ids\":[\"2552\"],\"roots\":{\"2552\":\"fc88aec9-2ad4-4e22-a247-5bd3d63b0dd7\"}}];\n",
       "  root.Bokeh.embed.embed_items_notebook(docs_json, render_items);\n",
       "\n",
       "  }\n",
       "  if (root.Bokeh !== undefined) {\n",
       "    embed_document(root);\n",
       "  } else {\n",
       "    var attempts = 0;\n",
       "    var timer = setInterval(function(root) {\n",
       "      if (root.Bokeh !== undefined) {\n",
       "        clearInterval(timer);\n",
       "        embed_document(root);\n",
       "      } else {\n",
       "        attempts++;\n",
       "        if (attempts > 100) {\n",
       "          clearInterval(timer);\n",
       "          console.log(\"Bokeh: ERROR: Unable to run BokehJS code because BokehJS library is missing\");\n",
       "        }\n",
       "      }\n",
       "    }, 10, root)\n",
       "  }\n",
       "})(window);"
      ],
      "application/vnd.bokehjs_exec.v0+json": ""
     },
     "metadata": {
      "application/vnd.bokehjs_exec.v0+json": {
       "id": "2552"
      }
     },
     "output_type": "display_data"
    },
    {
     "data": {
      "text/html": [
       "\n",
       "\n",
       "\n",
       "\n",
       "\n",
       "\n",
       "  <div class=\"bk-root\" id=\"a2bb864d-2e12-465c-a95b-40caec2a3285\" data-root-id=\"2840\"></div>\n"
      ]
     },
     "metadata": {},
     "output_type": "display_data"
    },
    {
     "data": {
      "application/javascript": [
       "(function(root) {\n",
       "  function embed_document(root) {\n",
       "    \n",
       "  var docs_json = {\"6b5e9b78-25f4-4fc1-9e0e-268064463d2d\":{\"roots\":{\"references\":[{\"attributes\":{\"children\":[[{\"id\":\"2745\"},0,0],[{\"id\":\"2815\"},1,0],[{\"id\":\"2816\"},2,0]]},\"id\":\"2840\",\"type\":\"GridBox\"},{\"attributes\":{\"source\":{\"id\":\"2788\"}},\"id\":\"2795\",\"type\":\"CDSView\"},{\"attributes\":{},\"id\":\"2769\",\"type\":\"HelpTool\"},{\"attributes\":{\"axis\":{\"id\":\"2760\"},\"dimension\":1,\"grid_line_color\":null,\"ticker\":null},\"id\":\"2763\",\"type\":\"Grid\"},{\"attributes\":{\"args\":{\"cost\":{\"id\":\"2784\"},\"done\":{\"id\":\"2785\"},\"n\":{\"id\":\"2786\"},\"source\":{\"id\":\"2787\"},\"swaps\":{\"id\":\"2790\"},\"swaps_source\":{\"id\":\"2789\"},\"tour\":{\"id\":\"2788\"}},\"code\":\"\\nif ((parseInt(n.text) + 1) < source.data['edges_y'].length) {\\n    n.text = (parseInt(n.text) + 1).toString()\\n}\\nvar iteration = parseInt(n.text)\\n\\n    cost.text = source.data['costs'][iteration].toFixed(1)\\n    \\n    if (iteration == source.data['edges_y'].length - 1) {\\n        done.text = \\\"done.\\\"\\n        swaps.data['swaps_before_x'] = [[]]\\n        swaps.data['swaps_before_y'] = [[]]\\n        swaps.data['swaps_after_x'] = [[]]\\n        swaps.data['swaps_after_y'] = [[]]\\n    } else {\\n        done.text = \\\"\\\"\\n        swaps.data['swaps_before_x'] = swaps_source.data['swaps_before_x'][iteration]\\n        swaps.data['swaps_before_y'] = swaps_source.data['swaps_before_y'][iteration]\\n        swaps.data['swaps_after_x'] = swaps_source.data['swaps_after_x'][iteration]\\n        swaps.data['swaps_after_y'] = swaps_source.data['swaps_after_y'][iteration]\\n    }\\n\\n    tour.data['edges_x'] = source.data['edges_x'][iteration]\\n    tour.data['edges_y'] = source.data['edges_y'][iteration]\\n    tour.change.emit()\\n    swaps.change.emit()\\n    \"},\"id\":\"2812\",\"type\":\"CustomJS\"},{\"attributes\":{},\"id\":\"2768\",\"type\":\"ResetTool\"},{\"attributes\":{\"line_width\":4,\"x\":{\"field\":\"edges_x\"},\"y\":{\"field\":\"edges_y\"}},\"id\":\"2792\",\"type\":\"Line\"},{\"attributes\":{\"button_type\":\"success\",\"icon\":null,\"js_event_callbacks\":{\"button_click\":[{\"id\":\"2814\"}]},\"label\":\"Previous\",\"sizing_mode\":\"scale_width\",\"width_policy\":\"fit\"},\"id\":\"2813\",\"type\":\"Button\"},{\"attributes\":{},\"id\":\"2767\",\"type\":\"SaveTool\"},{\"attributes\":{\"line_alpha\":0.1,\"line_width\":4,\"x\":{\"field\":\"edges_x\"},\"y\":{\"field\":\"edges_y\"}},\"id\":\"2793\",\"type\":\"Line\"},{\"attributes\":{\"args\":{\"cost\":{\"id\":\"2784\"},\"done\":{\"id\":\"2785\"},\"n\":{\"id\":\"2786\"},\"source\":{\"id\":\"2787\"},\"swaps\":{\"id\":\"2790\"},\"swaps_source\":{\"id\":\"2789\"},\"tour\":{\"id\":\"2788\"}},\"code\":\"\\nif ((parseInt(n.text) - 1) >= 0) {\\n    n.text = (parseInt(n.text) - 1).toString()\\n}\\nvar iteration = parseInt(n.text)\\n\\n    cost.text = source.data['costs'][iteration].toFixed(1)\\n    \\n    if (iteration == source.data['edges_y'].length - 1) {\\n        done.text = \\\"done.\\\"\\n        swaps.data['swaps_before_x'] = [[]]\\n        swaps.data['swaps_before_y'] = [[]]\\n        swaps.data['swaps_after_x'] = [[]]\\n        swaps.data['swaps_after_y'] = [[]]\\n    } else {\\n        done.text = \\\"\\\"\\n        swaps.data['swaps_before_x'] = swaps_source.data['swaps_before_x'][iteration]\\n        swaps.data['swaps_before_y'] = swaps_source.data['swaps_before_y'][iteration]\\n        swaps.data['swaps_after_x'] = swaps_source.data['swaps_after_x'][iteration]\\n        swaps.data['swaps_after_y'] = swaps_source.data['swaps_after_y'][iteration]\\n    }\\n\\n    tour.data['edges_x'] = source.data['edges_x'][iteration]\\n    tour.data['edges_y'] = source.data['edges_y'][iteration]\\n    tour.change.emit()\\n    swaps.change.emit()\\n    \"},\"id\":\"2814\",\"type\":\"CustomJS\"},{\"attributes\":{\"text\":\"\"},\"id\":\"2746\",\"type\":\"Title\"},{\"attributes\":{\"overlay\":{\"id\":\"2770\"}},\"id\":\"2766\",\"type\":\"BoxZoomTool\"},{\"attributes\":{\"data_source\":{\"id\":\"2788\"},\"glyph\":{\"id\":\"2792\"},\"hover_glyph\":null,\"muted_glyph\":null,\"nonselection_glyph\":{\"id\":\"2793\"},\"selection_glyph\":null,\"view\":{\"id\":\"2795\"}},\"id\":\"2794\",\"type\":\"GlyphRenderer\"},{\"attributes\":{\"background_fill_color\":null,\"below\":[{\"id\":\"2756\"}],\"border_fill_color\":null,\"center\":[{\"id\":\"2759\"},{\"id\":\"2763\"}],\"left\":[{\"id\":\"2760\"}],\"outline_line_color\":null,\"plot_height\":375,\"renderers\":[{\"id\":\"2782\"},{\"id\":\"2794\"},{\"id\":\"2799\"},{\"id\":\"2804\"},{\"id\":\"2809\"}],\"title\":{\"id\":\"2746\"},\"toolbar\":{\"id\":\"2771\"},\"toolbar_location\":null,\"x_range\":{\"id\":\"2748\"},\"x_scale\":{\"id\":\"2752\"},\"y_range\":{\"id\":\"2750\"},\"y_scale\":{\"id\":\"2754\"}},\"id\":\"2745\",\"subtype\":\"Figure\",\"type\":\"Plot\"},{\"attributes\":{\"children\":[{\"id\":\"2813\"},{\"id\":\"2811\"}],\"max_width\":600,\"sizing_mode\":\"stretch_both\"},\"id\":\"2815\",\"type\":\"Row\"},{\"attributes\":{},\"id\":\"2836\",\"type\":\"UnionRenderers\"},{\"attributes\":{\"children\":[{\"id\":\"2784\"},{\"id\":\"2785\"}]},\"id\":\"2816\",\"type\":\"Row\"},{\"attributes\":{\"active_drag\":\"auto\",\"active_inspect\":\"auto\",\"active_multi\":null,\"active_scroll\":\"auto\",\"active_tap\":\"auto\",\"logo\":null,\"tools\":[{\"id\":\"2764\"},{\"id\":\"2765\"},{\"id\":\"2766\"},{\"id\":\"2767\"},{\"id\":\"2768\"},{\"id\":\"2769\"}]},\"id\":\"2771\",\"type\":\"Toolbar\"},{\"attributes\":{\"align\":\"center\",\"text\":\"8599.0\",\"width\":300},\"id\":\"2784\",\"type\":\"Div\"},{\"attributes\":{\"source\":{\"id\":\"2790\"}},\"id\":\"2800\",\"type\":\"CDSView\"},{\"attributes\":{\"align\":\"center\",\"width\":300},\"id\":\"2785\",\"type\":\"Div\"},{\"attributes\":{},\"id\":\"2819\",\"type\":\"BasicTickFormatter\"},{\"attributes\":{\"line_color\":{\"value\":\"red\"},\"line_width\":{\"value\":4},\"xs\":{\"field\":\"swaps_before_x\"},\"ys\":{\"field\":\"swaps_before_y\"}},\"id\":\"2797\",\"type\":\"MultiLine\"},{\"attributes\":{},\"id\":\"2837\",\"type\":\"Selection\"},{\"attributes\":{\"line_alpha\":{\"value\":0.1},\"line_color\":{\"value\":\"red\"},\"line_width\":{\"value\":4},\"xs\":{\"field\":\"swaps_before_x\"},\"ys\":{\"field\":\"swaps_before_y\"}},\"id\":\"2798\",\"type\":\"MultiLine\"},{\"attributes\":{},\"id\":\"2821\",\"type\":\"BasicTickFormatter\"},{\"attributes\":{},\"id\":\"2752\",\"type\":\"LinearScale\"},{\"attributes\":{\"data_source\":{\"id\":\"2790\"},\"glyph\":{\"id\":\"2797\"},\"hover_glyph\":null,\"muted_glyph\":null,\"nonselection_glyph\":{\"id\":\"2798\"},\"selection_glyph\":null,\"view\":{\"id\":\"2800\"}},\"id\":\"2799\",\"type\":\"GlyphRenderer\"},{\"attributes\":{},\"id\":\"2823\",\"type\":\"UnionRenderers\"},{\"attributes\":{\"source\":{\"id\":\"2779\"}},\"id\":\"2783\",\"type\":\"CDSView\"},{\"attributes\":{},\"id\":\"2835\",\"type\":\"Selection\"},{\"attributes\":{\"bottom_units\":\"screen\",\"fill_alpha\":0.5,\"fill_color\":\"lightgrey\",\"left_units\":\"screen\",\"level\":\"overlay\",\"line_alpha\":1.0,\"line_color\":\"black\",\"line_dash\":[4,4],\"line_width\":2,\"right_units\":\"screen\",\"top_units\":\"screen\"},\"id\":\"2770\",\"type\":\"BoxAnnotation\"},{\"attributes\":{},\"id\":\"2754\",\"type\":\"LinearScale\"},{\"attributes\":{},\"id\":\"2824\",\"type\":\"Selection\"},{\"attributes\":{},\"id\":\"2765\",\"type\":\"WheelZoomTool\"},{\"attributes\":{\"end\":2772.701,\"start\":467.09900000000005},\"id\":\"2748\",\"type\":\"Range1d\"},{\"attributes\":{\"source\":{\"id\":\"2790\"}},\"id\":\"2805\",\"type\":\"CDSView\"},{\"attributes\":{},\"id\":\"2825\",\"type\":\"UnionRenderers\"},{\"attributes\":{\"fill_color\":{\"value\":\"steelblue\"},\"line_color\":{\"value\":\"steelblue\"},\"size\":{\"units\":\"screen\",\"value\":8},\"x\":{\"field\":\"x\"},\"y\":{\"field\":\"y\"}},\"id\":\"2807\",\"type\":\"Circle\"},{\"attributes\":{\"end\":1434.53,\"start\":-1300.93},\"id\":\"2750\",\"type\":\"Range1d\"},{\"attributes\":{\"data_source\":{\"id\":\"2779\"},\"glyph\":{\"id\":\"2780\"},\"hover_glyph\":null,\"muted_glyph\":null,\"nonselection_glyph\":{\"id\":\"2781\"},\"selection_glyph\":null,\"view\":{\"id\":\"2783\"}},\"id\":\"2782\",\"type\":\"GlyphRenderer\"},{\"attributes\":{\"button_type\":\"success\",\"icon\":null,\"js_event_callbacks\":{\"button_click\":[{\"id\":\"2812\"}]},\"label\":\"Next\",\"sizing_mode\":\"scale_width\",\"width_policy\":\"fit\"},\"id\":\"2811\",\"type\":\"Button\"},{\"attributes\":{},\"id\":\"2826\",\"type\":\"Selection\"},{\"attributes\":{\"data\":{\"edges_x\":[751.5,634.6,701.4,784.9,985.3,1619.9,1670.0,1920.5,2404.8,2338.0,2187.7,2321.3,2070.8,2421.5,2187.7,2237.8,2471.6,2505.0,2605.2,2321.3,2154.3,1987.3,1753.5,751.5],\"edges_y\":[1235.8,200.4,-100.2,-267.2,-367.4,-501.0,-868.4,-801.5999999999998,-1102.2,-868.4,-400.8,-300.6,-133.6,233.8,267.2,434.2,334.0,467.6,668.0,668.0,534.4,400.8,768.1999999999998,1235.8]},\"selected\":{\"id\":\"2826\"},\"selection_policy\":{\"id\":\"2825\"}},\"id\":\"2788\",\"type\":\"ColumnDataSource\"},{\"attributes\":{\"axis\":{\"id\":\"2756\"},\"grid_line_color\":null,\"ticker\":null},\"id\":\"2759\",\"type\":\"Grid\"},{\"attributes\":{\"line_color\":{\"value\":\"#90D7F6\"},\"line_width\":{\"value\":4},\"xs\":{\"field\":\"swaps_after_x\"},\"ys\":{\"field\":\"swaps_after_y\"}},\"id\":\"2802\",\"type\":\"MultiLine\"},{\"attributes\":{\"fill_alpha\":{\"value\":0.1},\"fill_color\":{\"value\":\"steelblue\"},\"line_alpha\":{\"value\":0.1},\"line_color\":{\"value\":\"steelblue\"},\"size\":{\"units\":\"screen\",\"value\":8},\"x\":{\"field\":\"x\"},\"y\":{\"field\":\"y\"}},\"id\":\"2808\",\"type\":\"Circle\"},{\"attributes\":{\"line_alpha\":{\"value\":0.1},\"line_color\":{\"value\":\"#90D7F6\"},\"line_width\":{\"value\":4},\"xs\":{\"field\":\"swaps_after_x\"},\"ys\":{\"field\":\"swaps_after_y\"}},\"id\":\"2803\",\"type\":\"MultiLine\"},{\"attributes\":{},\"id\":\"2827\",\"type\":\"UnionRenderers\"},{\"attributes\":{\"source\":{\"id\":\"2806\"}},\"id\":\"2810\",\"type\":\"CDSView\"},{\"attributes\":{},\"id\":\"2757\",\"type\":\"BasicTicker\"},{\"attributes\":{\"data\":{\"swaps_after_x\":[[2070.8,2237.8],[2421.5,2471.6]],\"swaps_after_y\":[[-133.6,434.2],[233.8,334.0]],\"swaps_before_x\":[[2070.8,2421.5],[2237.8,2471.6]],\"swaps_before_y\":[[-133.6,233.8],[434.2,334.0]]},\"selected\":{\"id\":\"2828\"},\"selection_policy\":{\"id\":\"2827\"}},\"id\":\"2790\",\"type\":\"ColumnDataSource\"},{\"attributes\":{\"data_source\":{\"id\":\"2790\"},\"glyph\":{\"id\":\"2802\"},\"hover_glyph\":null,\"muted_glyph\":null,\"nonselection_glyph\":{\"id\":\"2803\"},\"selection_glyph\":null,\"view\":{\"id\":\"2805\"}},\"id\":\"2804\",\"type\":\"GlyphRenderer\"},{\"attributes\":{},\"id\":\"2828\",\"type\":\"Selection\"},{\"attributes\":{\"data\":{\"costs\":[8599.046486285046,8540.645506840792,8401.978637980597],\"edges_x\":[[751.5,634.6,701.4,784.9,985.3,1619.9,1670.0,1920.5,2404.8,2338.0,2187.7,2321.3,2070.8,2421.5,2187.7,2237.8,2471.6,2505.0,2605.2,2321.3,2154.3,1987.3,1753.5,751.5],[751.5,634.6,701.4,784.9,985.3,1619.9,1670.0,1920.5,2404.8,2338.0,2187.7,2321.3,2070.8,2237.8,2187.7,2421.5,2471.6,2505.0,2605.2,2321.3,2154.3,1987.3,1753.5,751.5],[751.5,634.6,701.4,784.9,985.3,1619.9,1670.0,1920.5,2404.8,2338.0,2187.7,2321.3,2070.8,2187.7,2237.8,2421.5,2471.6,2505.0,2605.2,2321.3,2154.3,1987.3,1753.5,751.5]],\"edges_y\":[[1235.8,200.4,-100.2,-267.2,-367.4,-501.0,-868.4,-801.5999999999998,-1102.2,-868.4,-400.8,-300.6,-133.6,233.8,267.2,434.2,334.0,467.6,668.0,668.0,534.4,400.8,768.1999999999998,1235.8],[1235.8,200.4,-100.2,-267.2,-367.4,-501.0,-868.4,-801.5999999999998,-1102.2,-868.4,-400.8,-300.6,-133.6,434.2,267.2,233.8,334.0,467.6,668.0,668.0,534.4,400.8,768.1999999999998,1235.8],[1235.8,200.4,-100.2,-267.2,-367.4,-501.0,-868.4,-801.5999999999998,-1102.2,-868.4,-400.8,-300.6,-133.6,267.2,434.2,233.8,334.0,467.6,668.0,668.0,534.4,400.8,768.1999999999998,1235.8]]},\"selected\":{\"id\":\"2835\"},\"selection_policy\":{\"id\":\"2834\"}},\"id\":\"2787\",\"type\":\"ColumnDataSource\"},{\"attributes\":{\"formatter\":{\"id\":\"2819\"},\"ticker\":{\"id\":\"2757\"},\"visible\":false},\"id\":\"2756\",\"type\":\"LinearAxis\"},{\"attributes\":{},\"id\":\"2829\",\"type\":\"UnionRenderers\"},{\"attributes\":{\"formatter\":{\"id\":\"2821\"},\"ticker\":{\"id\":\"2761\"},\"visible\":false},\"id\":\"2760\",\"type\":\"LinearAxis\"},{\"attributes\":{\"align\":\"center\",\"text\":\"0\",\"width\":600},\"id\":\"2786\",\"type\":\"Div\"},{\"attributes\":{},\"id\":\"2764\",\"type\":\"PanTool\"},{\"attributes\":{\"data\":{\"x\":[751.5,634.6,701.4,784.9,985.3,1753.5,1920.5,2338.0,2404.8,2187.7,2321.3,2471.6,2505.0,2605.2,1987.3,2070.8,2421.5,2321.3,2187.7,2237.8,2154.3,1619.9,1670.0],\"y\":[1235.8,200.4,-100.2,-267.2,-367.4,768.1999999999998,-801.5999999999998,-868.4,-1102.2,-400.8,-300.6,334.0,467.6,668.0,400.8,-133.6,233.8,668.0,267.2,434.2,534.4,-501.0,-868.4]},\"selected\":{\"id\":\"2830\"},\"selection_policy\":{\"id\":\"2829\"}},\"id\":\"2806\",\"type\":\"ColumnDataSource\"},{\"attributes\":{},\"id\":\"2830\",\"type\":\"Selection\"},{\"attributes\":{},\"id\":\"2761\",\"type\":\"BasicTicker\"},{\"attributes\":{\"data\":{\"swaps_after_x\":[[[2070.8,2237.8],[2421.5,2471.6]],[[2070.8,2187.7],[2237.8,2421.5]]],\"swaps_after_y\":[[[-133.6,434.2],[233.8,334.0]],[[-133.6,267.2],[434.2,233.8]]],\"swaps_before_x\":[[[2070.8,2421.5],[2237.8,2471.6]],[[2070.8,2237.8],[2187.7,2421.5]]],\"swaps_before_y\":[[[-133.6,233.8],[434.2,334.0]],[[-133.6,434.2],[267.2,233.8]]]},\"selected\":{\"id\":\"2837\"},\"selection_policy\":{\"id\":\"2836\"}},\"id\":\"2789\",\"type\":\"ColumnDataSource\"},{\"attributes\":{\"data\":{\"url\":[\"images/us.png\"]},\"selected\":{\"id\":\"2824\"},\"selection_policy\":{\"id\":\"2823\"}},\"id\":\"2779\",\"type\":\"ColumnDataSource\"},{\"attributes\":{},\"id\":\"2834\",\"type\":\"UnionRenderers\"},{\"attributes\":{\"h\":{\"units\":\"data\",\"value\":2735.46},\"url\":{\"field\":\"url\"},\"w\":{\"units\":\"data\",\"value\":2305.602},\"x\":{\"value\":447.09900000000005},\"y\":{\"value\":1439.53}},\"id\":\"2780\",\"type\":\"ImageURL\"},{\"attributes\":{\"data_source\":{\"id\":\"2806\"},\"glyph\":{\"id\":\"2807\"},\"hover_glyph\":null,\"muted_glyph\":null,\"nonselection_glyph\":{\"id\":\"2808\"},\"selection_glyph\":null,\"view\":{\"id\":\"2810\"}},\"id\":\"2809\",\"type\":\"GlyphRenderer\"},{\"attributes\":{\"global_alpha\":0.1,\"h\":{\"units\":\"data\",\"value\":2735.46},\"url\":{\"field\":\"url\"},\"w\":{\"units\":\"data\",\"value\":2305.602},\"x\":{\"value\":447.09900000000005},\"y\":{\"value\":1439.53}},\"id\":\"2781\",\"type\":\"ImageURL\"}],\"root_ids\":[\"2840\"]},\"title\":\"Bokeh Application\",\"version\":\"2.1.0\"}};\n",
       "  var render_items = [{\"docid\":\"6b5e9b78-25f4-4fc1-9e0e-268064463d2d\",\"root_ids\":[\"2840\"],\"roots\":{\"2840\":\"a2bb864d-2e12-465c-a95b-40caec2a3285\"}}];\n",
       "  root.Bokeh.embed.embed_items_notebook(docs_json, render_items);\n",
       "\n",
       "  }\n",
       "  if (root.Bokeh !== undefined) {\n",
       "    embed_document(root);\n",
       "  } else {\n",
       "    var attempts = 0;\n",
       "    var timer = setInterval(function(root) {\n",
       "      if (root.Bokeh !== undefined) {\n",
       "        clearInterval(timer);\n",
       "        embed_document(root);\n",
       "      } else {\n",
       "        attempts++;\n",
       "        if (attempts > 100) {\n",
       "          clearInterval(timer);\n",
       "          console.log(\"Bokeh: ERROR: Unable to run BokehJS code because BokehJS library is missing\");\n",
       "        }\n",
       "      }\n",
       "    }, 10, root)\n",
       "  }\n",
       "})(window);"
      ],
      "application/vnd.bokehjs_exec.v0+json": ""
     },
     "metadata": {
      "application/vnd.bokehjs_exec.v0+json": {
       "id": "2840"
      }
     },
     "output_type": "display_data"
    }
   ],
   "source": [
    "# US City Tour\n",
    "nodes = pd.read_csv('data/us_cities_23.csv', index_col=0)\n",
    "G = distance_matrix(nodes, manhattan=False)\n",
    "plot_create_tour(nodes, G, width=600, height=375, show_us=True)\n",
    "tour = [0,1,2,3,4,21,22,6,8,7,9,10,15,16,18,19,11,12,13,17,20,14,5,0]\n",
    "tour = plot_two_opt(nodes, G, tour, width=600, height=375, show_us=True)"
   ]
  }
 ],
 "metadata": {
  "kernelspec": {
   "display_name": "Python 3",
   "language": "python",
   "name": "python3"
  },
  "language_info": {
   "codemirror_mode": {
    "name": "ipython",
    "version": 3
   },
   "file_extension": ".py",
   "mimetype": "text/x-python",
   "name": "python",
   "nbconvert_exporter": "python",
   "pygments_lexer": "ipython3",
   "version": "3.6.10"
  }
 },
 "nbformat": 4,
 "nbformat_minor": 4
}
