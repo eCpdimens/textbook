{
 "cells": [
  {
   "cell_type": "markdown",
   "metadata": {},
   "source": [
    "# Traveling Salesman Problem (TSP)"
   ]
  },
  {
   "cell_type": "markdown",
   "metadata": {},
   "source": [
    "**Objectives**\n",
    "\n",
    "- Introduce students to a real world problem solved by OR practitioners\n",
    "- Demonstrate the use of heuristics to obtain good solutions to optimization problems\n",
    "- Give students an appreciation of the difficulty of solving optimization problems exactly\n",
    "\n",
    "**Reading:** Read Handout 2 on the traveling salesman problem.\n",
    "\n",
    "**Brief description:** Finding an optimal solution to a Traveling Salesman Problem, and proving that it is, in fact, an optimal solution, is a difficult task. In practice, when a feasible solution to a difficult problem needs to be provided quickly, one often resorts to using heuristics, i.e., procedures for generating feasible solutions, or improving existing ones, that can be executed quickly and, hopefully, produce a pretty good result. In this lab we will consider several such heuristic procedures for the TSP.\n",
    "\n",
    "*TSP VLSI instances adapted from [TSPLIB](http://comopt.ifi.uni-heidelberg.de/software/TSPLIB95/) and [Bonn Institute](http://www.math.uwaterloo.ca/tsp/vlsi/index.html)*\n",
    "\n",
    "<font color='blue'> <b>Solutions are shown blue.</b> </font> <br>\n",
    "<font color='red'> <b>Instuctor comments are shown in red.</b> </font>"
   ]
  },
  {
   "cell_type": "markdown",
   "metadata": {},
   "source": [
    "<font color='red'>A tool we might want to use: [TSP DIY](https://www.math.uwaterloo.ca/tsp/app/diy.html)  </font>"
   ]
  },
  {
   "cell_type": "markdown",
   "metadata": {},
   "source": [
    "<font color='red'> Some explanation of what imports are here.</font>"
   ]
  },
  {
   "cell_type": "code",
   "execution_count": 1,
   "metadata": {},
   "outputs": [
    {
     "data": {
      "text/html": [
       "\n",
       "    <div class=\"bk-root\">\n",
       "        <a href=\"https://bokeh.org\" target=\"_blank\" class=\"bk-logo bk-logo-small bk-logo-notebook\"></a>\n",
       "        <span id=\"1001\">Loading BokehJS ...</span>\n",
       "    </div>"
      ]
     },
     "metadata": {},
     "output_type": "display_data"
    },
    {
     "data": {
      "application/javascript": [
       "\n",
       "(function(root) {\n",
       "  function now() {\n",
       "    return new Date();\n",
       "  }\n",
       "\n",
       "  var force = true;\n",
       "\n",
       "  if (typeof root._bokeh_onload_callbacks === \"undefined\" || force === true) {\n",
       "    root._bokeh_onload_callbacks = [];\n",
       "    root._bokeh_is_loading = undefined;\n",
       "  }\n",
       "\n",
       "  var JS_MIME_TYPE = 'application/javascript';\n",
       "  var HTML_MIME_TYPE = 'text/html';\n",
       "  var EXEC_MIME_TYPE = 'application/vnd.bokehjs_exec.v0+json';\n",
       "  var CLASS_NAME = 'output_bokeh rendered_html';\n",
       "\n",
       "  /**\n",
       "   * Render data to the DOM node\n",
       "   */\n",
       "  function render(props, node) {\n",
       "    var script = document.createElement(\"script\");\n",
       "    node.appendChild(script);\n",
       "  }\n",
       "\n",
       "  /**\n",
       "   * Handle when an output is cleared or removed\n",
       "   */\n",
       "  function handleClearOutput(event, handle) {\n",
       "    var cell = handle.cell;\n",
       "\n",
       "    var id = cell.output_area._bokeh_element_id;\n",
       "    var server_id = cell.output_area._bokeh_server_id;\n",
       "    // Clean up Bokeh references\n",
       "    if (id != null && id in Bokeh.index) {\n",
       "      Bokeh.index[id].model.document.clear();\n",
       "      delete Bokeh.index[id];\n",
       "    }\n",
       "\n",
       "    if (server_id !== undefined) {\n",
       "      // Clean up Bokeh references\n",
       "      var cmd = \"from bokeh.io.state import curstate; print(curstate().uuid_to_server['\" + server_id + \"'].get_sessions()[0].document.roots[0]._id)\";\n",
       "      cell.notebook.kernel.execute(cmd, {\n",
       "        iopub: {\n",
       "          output: function(msg) {\n",
       "            var id = msg.content.text.trim();\n",
       "            if (id in Bokeh.index) {\n",
       "              Bokeh.index[id].model.document.clear();\n",
       "              delete Bokeh.index[id];\n",
       "            }\n",
       "          }\n",
       "        }\n",
       "      });\n",
       "      // Destroy server and session\n",
       "      var cmd = \"import bokeh.io.notebook as ion; ion.destroy_server('\" + server_id + \"')\";\n",
       "      cell.notebook.kernel.execute(cmd);\n",
       "    }\n",
       "  }\n",
       "\n",
       "  /**\n",
       "   * Handle when a new output is added\n",
       "   */\n",
       "  function handleAddOutput(event, handle) {\n",
       "    var output_area = handle.output_area;\n",
       "    var output = handle.output;\n",
       "\n",
       "    // limit handleAddOutput to display_data with EXEC_MIME_TYPE content only\n",
       "    if ((output.output_type != \"display_data\") || (!output.data.hasOwnProperty(EXEC_MIME_TYPE))) {\n",
       "      return\n",
       "    }\n",
       "\n",
       "    var toinsert = output_area.element.find(\".\" + CLASS_NAME.split(' ')[0]);\n",
       "\n",
       "    if (output.metadata[EXEC_MIME_TYPE][\"id\"] !== undefined) {\n",
       "      toinsert[toinsert.length - 1].firstChild.textContent = output.data[JS_MIME_TYPE];\n",
       "      // store reference to embed id on output_area\n",
       "      output_area._bokeh_element_id = output.metadata[EXEC_MIME_TYPE][\"id\"];\n",
       "    }\n",
       "    if (output.metadata[EXEC_MIME_TYPE][\"server_id\"] !== undefined) {\n",
       "      var bk_div = document.createElement(\"div\");\n",
       "      bk_div.innerHTML = output.data[HTML_MIME_TYPE];\n",
       "      var script_attrs = bk_div.children[0].attributes;\n",
       "      for (var i = 0; i < script_attrs.length; i++) {\n",
       "        toinsert[toinsert.length - 1].firstChild.setAttribute(script_attrs[i].name, script_attrs[i].value);\n",
       "        toinsert[toinsert.length - 1].firstChild.textContent = bk_div.children[0].textContent\n",
       "      }\n",
       "      // store reference to server id on output_area\n",
       "      output_area._bokeh_server_id = output.metadata[EXEC_MIME_TYPE][\"server_id\"];\n",
       "    }\n",
       "  }\n",
       "\n",
       "  function register_renderer(events, OutputArea) {\n",
       "\n",
       "    function append_mime(data, metadata, element) {\n",
       "      // create a DOM node to render to\n",
       "      var toinsert = this.create_output_subarea(\n",
       "        metadata,\n",
       "        CLASS_NAME,\n",
       "        EXEC_MIME_TYPE\n",
       "      );\n",
       "      this.keyboard_manager.register_events(toinsert);\n",
       "      // Render to node\n",
       "      var props = {data: data, metadata: metadata[EXEC_MIME_TYPE]};\n",
       "      render(props, toinsert[toinsert.length - 1]);\n",
       "      element.append(toinsert);\n",
       "      return toinsert\n",
       "    }\n",
       "\n",
       "    /* Handle when an output is cleared or removed */\n",
       "    events.on('clear_output.CodeCell', handleClearOutput);\n",
       "    events.on('delete.Cell', handleClearOutput);\n",
       "\n",
       "    /* Handle when a new output is added */\n",
       "    events.on('output_added.OutputArea', handleAddOutput);\n",
       "\n",
       "    /**\n",
       "     * Register the mime type and append_mime function with output_area\n",
       "     */\n",
       "    OutputArea.prototype.register_mime_type(EXEC_MIME_TYPE, append_mime, {\n",
       "      /* Is output safe? */\n",
       "      safe: true,\n",
       "      /* Index of renderer in `output_area.display_order` */\n",
       "      index: 0\n",
       "    });\n",
       "  }\n",
       "\n",
       "  // register the mime type if in Jupyter Notebook environment and previously unregistered\n",
       "  if (root.Jupyter !== undefined) {\n",
       "    var events = require('base/js/events');\n",
       "    var OutputArea = require('notebook/js/outputarea').OutputArea;\n",
       "\n",
       "    if (OutputArea.prototype.mime_types().indexOf(EXEC_MIME_TYPE) == -1) {\n",
       "      register_renderer(events, OutputArea);\n",
       "    }\n",
       "  }\n",
       "\n",
       "  \n",
       "  if (typeof (root._bokeh_timeout) === \"undefined\" || force === true) {\n",
       "    root._bokeh_timeout = Date.now() + 5000;\n",
       "    root._bokeh_failed_load = false;\n",
       "  }\n",
       "\n",
       "  var NB_LOAD_WARNING = {'data': {'text/html':\n",
       "     \"<div style='background-color: #fdd'>\\n\"+\n",
       "     \"<p>\\n\"+\n",
       "     \"BokehJS does not appear to have successfully loaded. If loading BokehJS from CDN, this \\n\"+\n",
       "     \"may be due to a slow or bad network connection. Possible fixes:\\n\"+\n",
       "     \"</p>\\n\"+\n",
       "     \"<ul>\\n\"+\n",
       "     \"<li>re-rerun `output_notebook()` to attempt to load from CDN again, or</li>\\n\"+\n",
       "     \"<li>use INLINE resources instead, as so:</li>\\n\"+\n",
       "     \"</ul>\\n\"+\n",
       "     \"<code>\\n\"+\n",
       "     \"from bokeh.resources import INLINE\\n\"+\n",
       "     \"output_notebook(resources=INLINE)\\n\"+\n",
       "     \"</code>\\n\"+\n",
       "     \"</div>\"}};\n",
       "\n",
       "  function display_loaded() {\n",
       "    var el = document.getElementById(\"1001\");\n",
       "    if (el != null) {\n",
       "      el.textContent = \"BokehJS is loading...\";\n",
       "    }\n",
       "    if (root.Bokeh !== undefined) {\n",
       "      if (el != null) {\n",
       "        el.textContent = \"BokehJS \" + root.Bokeh.version + \" successfully loaded.\";\n",
       "      }\n",
       "    } else if (Date.now() < root._bokeh_timeout) {\n",
       "      setTimeout(display_loaded, 100)\n",
       "    }\n",
       "  }\n",
       "\n",
       "\n",
       "  function run_callbacks() {\n",
       "    try {\n",
       "      root._bokeh_onload_callbacks.forEach(function(callback) {\n",
       "        if (callback != null)\n",
       "          callback();\n",
       "      });\n",
       "    } finally {\n",
       "      delete root._bokeh_onload_callbacks\n",
       "    }\n",
       "    console.debug(\"Bokeh: all callbacks have finished\");\n",
       "  }\n",
       "\n",
       "  function load_libs(css_urls, js_urls, callback) {\n",
       "    if (css_urls == null) css_urls = [];\n",
       "    if (js_urls == null) js_urls = [];\n",
       "\n",
       "    root._bokeh_onload_callbacks.push(callback);\n",
       "    if (root._bokeh_is_loading > 0) {\n",
       "      console.debug(\"Bokeh: BokehJS is being loaded, scheduling callback at\", now());\n",
       "      return null;\n",
       "    }\n",
       "    if (js_urls == null || js_urls.length === 0) {\n",
       "      run_callbacks();\n",
       "      return null;\n",
       "    }\n",
       "    console.debug(\"Bokeh: BokehJS not loaded, scheduling load and callback at\", now());\n",
       "    root._bokeh_is_loading = css_urls.length + js_urls.length;\n",
       "\n",
       "    function on_load() {\n",
       "      root._bokeh_is_loading--;\n",
       "      if (root._bokeh_is_loading === 0) {\n",
       "        console.debug(\"Bokeh: all BokehJS libraries/stylesheets loaded\");\n",
       "        run_callbacks()\n",
       "      }\n",
       "    }\n",
       "\n",
       "    function on_error() {\n",
       "      console.error(\"failed to load \" + url);\n",
       "    }\n",
       "\n",
       "    for (var i = 0; i < css_urls.length; i++) {\n",
       "      var url = css_urls[i];\n",
       "      const element = document.createElement(\"link\");\n",
       "      element.onload = on_load;\n",
       "      element.onerror = on_error;\n",
       "      element.rel = \"stylesheet\";\n",
       "      element.type = \"text/css\";\n",
       "      element.href = url;\n",
       "      console.debug(\"Bokeh: injecting link tag for BokehJS stylesheet: \", url);\n",
       "      document.body.appendChild(element);\n",
       "    }\n",
       "\n",
       "    const hashes = {\"https://cdn.bokeh.org/bokeh/release/bokeh-2.1.0.min.js\": \"YobFyzPeVUsFQydHkJGsJL1kyfHnWxOlPc3EwaV22TmBaeGoXHLWx5aRRVPS9xlE\", \"https://cdn.bokeh.org/bokeh/release/bokeh-widgets-2.1.0.min.js\": \"NuAg9+TcTQQqvQCTtkCneRrpkTiMhhfiq0KHiBzx8ECiKiLWXHN6i6ia3q7b3eHu\", \"https://cdn.bokeh.org/bokeh/release/bokeh-tables-2.1.0.min.js\": \"uMVqQc8JqHitD67bXTn9a06Mrk3EiHRaZ18EJENQenAKJ/KL71SakdXYomZQpGRr\", \"https://cdn.bokeh.org/bokeh/release/bokeh-gl-2.1.0.min.js\": \"u+eGuEXC8aw0VSCm2mH+b/tQEAitUOYiR1H6SuIVEdUmXsf4vN8m/SmXpmjb7U/X\"};\n",
       "\n",
       "    for (var i = 0; i < js_urls.length; i++) {\n",
       "      var url = js_urls[i];\n",
       "      var element = document.createElement('script');\n",
       "      element.onload = on_load;\n",
       "      element.onerror = on_error;\n",
       "      element.async = false;\n",
       "      element.src = url;\n",
       "      if (url in hashes) {\n",
       "        element.crossOrigin = \"anonymous\";\n",
       "        element.integrity = \"sha384-\" + hashes[url];\n",
       "      }\n",
       "      console.debug(\"Bokeh: injecting script tag for BokehJS library: \", url);\n",
       "      document.head.appendChild(element);\n",
       "    }\n",
       "  };\n",
       "\n",
       "  function inject_raw_css(css) {\n",
       "    const element = document.createElement(\"style\");\n",
       "    element.appendChild(document.createTextNode(css));\n",
       "    document.body.appendChild(element);\n",
       "  }\n",
       "\n",
       "  \n",
       "  var js_urls = [\"https://cdn.bokeh.org/bokeh/release/bokeh-2.1.0.min.js\", \"https://cdn.bokeh.org/bokeh/release/bokeh-widgets-2.1.0.min.js\", \"https://cdn.bokeh.org/bokeh/release/bokeh-tables-2.1.0.min.js\", \"https://cdn.bokeh.org/bokeh/release/bokeh-gl-2.1.0.min.js\"];\n",
       "  var css_urls = [];\n",
       "  \n",
       "\n",
       "  var inline_js = [\n",
       "    function(Bokeh) {\n",
       "      Bokeh.set_log_level(\"info\");\n",
       "    },\n",
       "    function(Bokeh) {\n",
       "    \n",
       "    \n",
       "    }\n",
       "  ];\n",
       "\n",
       "  function run_inline_js() {\n",
       "    \n",
       "    if (root.Bokeh !== undefined || force === true) {\n",
       "      \n",
       "    for (var i = 0; i < inline_js.length; i++) {\n",
       "      inline_js[i].call(root, root.Bokeh);\n",
       "    }\n",
       "    if (force === true) {\n",
       "        display_loaded();\n",
       "      }} else if (Date.now() < root._bokeh_timeout) {\n",
       "      setTimeout(run_inline_js, 100);\n",
       "    } else if (!root._bokeh_failed_load) {\n",
       "      console.log(\"Bokeh: BokehJS failed to load within specified timeout.\");\n",
       "      root._bokeh_failed_load = true;\n",
       "    } else if (force !== true) {\n",
       "      var cell = $(document.getElementById(\"1001\")).parents('.cell').data().cell;\n",
       "      cell.output_area.append_execute_result(NB_LOAD_WARNING)\n",
       "    }\n",
       "\n",
       "  }\n",
       "\n",
       "  if (root._bokeh_is_loading === 0) {\n",
       "    console.debug(\"Bokeh: BokehJS loaded, going straight to plotting\");\n",
       "    run_inline_js();\n",
       "  } else {\n",
       "    load_libs(css_urls, js_urls, function() {\n",
       "      console.debug(\"Bokeh: BokehJS plotting callback run at\", now());\n",
       "      run_inline_js();\n",
       "    });\n",
       "  }\n",
       "}(window));"
      ],
      "application/vnd.bokehjs_load.v0+json": "\n(function(root) {\n  function now() {\n    return new Date();\n  }\n\n  var force = true;\n\n  if (typeof root._bokeh_onload_callbacks === \"undefined\" || force === true) {\n    root._bokeh_onload_callbacks = [];\n    root._bokeh_is_loading = undefined;\n  }\n\n  \n\n  \n  if (typeof (root._bokeh_timeout) === \"undefined\" || force === true) {\n    root._bokeh_timeout = Date.now() + 5000;\n    root._bokeh_failed_load = false;\n  }\n\n  var NB_LOAD_WARNING = {'data': {'text/html':\n     \"<div style='background-color: #fdd'>\\n\"+\n     \"<p>\\n\"+\n     \"BokehJS does not appear to have successfully loaded. If loading BokehJS from CDN, this \\n\"+\n     \"may be due to a slow or bad network connection. Possible fixes:\\n\"+\n     \"</p>\\n\"+\n     \"<ul>\\n\"+\n     \"<li>re-rerun `output_notebook()` to attempt to load from CDN again, or</li>\\n\"+\n     \"<li>use INLINE resources instead, as so:</li>\\n\"+\n     \"</ul>\\n\"+\n     \"<code>\\n\"+\n     \"from bokeh.resources import INLINE\\n\"+\n     \"output_notebook(resources=INLINE)\\n\"+\n     \"</code>\\n\"+\n     \"</div>\"}};\n\n  function display_loaded() {\n    var el = document.getElementById(\"1001\");\n    if (el != null) {\n      el.textContent = \"BokehJS is loading...\";\n    }\n    if (root.Bokeh !== undefined) {\n      if (el != null) {\n        el.textContent = \"BokehJS \" + root.Bokeh.version + \" successfully loaded.\";\n      }\n    } else if (Date.now() < root._bokeh_timeout) {\n      setTimeout(display_loaded, 100)\n    }\n  }\n\n\n  function run_callbacks() {\n    try {\n      root._bokeh_onload_callbacks.forEach(function(callback) {\n        if (callback != null)\n          callback();\n      });\n    } finally {\n      delete root._bokeh_onload_callbacks\n    }\n    console.debug(\"Bokeh: all callbacks have finished\");\n  }\n\n  function load_libs(css_urls, js_urls, callback) {\n    if (css_urls == null) css_urls = [];\n    if (js_urls == null) js_urls = [];\n\n    root._bokeh_onload_callbacks.push(callback);\n    if (root._bokeh_is_loading > 0) {\n      console.debug(\"Bokeh: BokehJS is being loaded, scheduling callback at\", now());\n      return null;\n    }\n    if (js_urls == null || js_urls.length === 0) {\n      run_callbacks();\n      return null;\n    }\n    console.debug(\"Bokeh: BokehJS not loaded, scheduling load and callback at\", now());\n    root._bokeh_is_loading = css_urls.length + js_urls.length;\n\n    function on_load() {\n      root._bokeh_is_loading--;\n      if (root._bokeh_is_loading === 0) {\n        console.debug(\"Bokeh: all BokehJS libraries/stylesheets loaded\");\n        run_callbacks()\n      }\n    }\n\n    function on_error() {\n      console.error(\"failed to load \" + url);\n    }\n\n    for (var i = 0; i < css_urls.length; i++) {\n      var url = css_urls[i];\n      const element = document.createElement(\"link\");\n      element.onload = on_load;\n      element.onerror = on_error;\n      element.rel = \"stylesheet\";\n      element.type = \"text/css\";\n      element.href = url;\n      console.debug(\"Bokeh: injecting link tag for BokehJS stylesheet: \", url);\n      document.body.appendChild(element);\n    }\n\n    const hashes = {\"https://cdn.bokeh.org/bokeh/release/bokeh-2.1.0.min.js\": \"YobFyzPeVUsFQydHkJGsJL1kyfHnWxOlPc3EwaV22TmBaeGoXHLWx5aRRVPS9xlE\", \"https://cdn.bokeh.org/bokeh/release/bokeh-widgets-2.1.0.min.js\": \"NuAg9+TcTQQqvQCTtkCneRrpkTiMhhfiq0KHiBzx8ECiKiLWXHN6i6ia3q7b3eHu\", \"https://cdn.bokeh.org/bokeh/release/bokeh-tables-2.1.0.min.js\": \"uMVqQc8JqHitD67bXTn9a06Mrk3EiHRaZ18EJENQenAKJ/KL71SakdXYomZQpGRr\", \"https://cdn.bokeh.org/bokeh/release/bokeh-gl-2.1.0.min.js\": \"u+eGuEXC8aw0VSCm2mH+b/tQEAitUOYiR1H6SuIVEdUmXsf4vN8m/SmXpmjb7U/X\"};\n\n    for (var i = 0; i < js_urls.length; i++) {\n      var url = js_urls[i];\n      var element = document.createElement('script');\n      element.onload = on_load;\n      element.onerror = on_error;\n      element.async = false;\n      element.src = url;\n      if (url in hashes) {\n        element.crossOrigin = \"anonymous\";\n        element.integrity = \"sha384-\" + hashes[url];\n      }\n      console.debug(\"Bokeh: injecting script tag for BokehJS library: \", url);\n      document.head.appendChild(element);\n    }\n  };\n\n  function inject_raw_css(css) {\n    const element = document.createElement(\"style\");\n    element.appendChild(document.createTextNode(css));\n    document.body.appendChild(element);\n  }\n\n  \n  var js_urls = [\"https://cdn.bokeh.org/bokeh/release/bokeh-2.1.0.min.js\", \"https://cdn.bokeh.org/bokeh/release/bokeh-widgets-2.1.0.min.js\", \"https://cdn.bokeh.org/bokeh/release/bokeh-tables-2.1.0.min.js\", \"https://cdn.bokeh.org/bokeh/release/bokeh-gl-2.1.0.min.js\"];\n  var css_urls = [];\n  \n\n  var inline_js = [\n    function(Bokeh) {\n      Bokeh.set_log_level(\"info\");\n    },\n    function(Bokeh) {\n    \n    \n    }\n  ];\n\n  function run_inline_js() {\n    \n    if (root.Bokeh !== undefined || force === true) {\n      \n    for (var i = 0; i < inline_js.length; i++) {\n      inline_js[i].call(root, root.Bokeh);\n    }\n    if (force === true) {\n        display_loaded();\n      }} else if (Date.now() < root._bokeh_timeout) {\n      setTimeout(run_inline_js, 100);\n    } else if (!root._bokeh_failed_load) {\n      console.log(\"Bokeh: BokehJS failed to load within specified timeout.\");\n      root._bokeh_failed_load = true;\n    } else if (force !== true) {\n      var cell = $(document.getElementById(\"1001\")).parents('.cell').data().cell;\n      cell.output_area.append_execute_result(NB_LOAD_WARNING)\n    }\n\n  }\n\n  if (root._bokeh_is_loading === 0) {\n    console.debug(\"Bokeh: BokehJS loaded, going straight to plotting\");\n    run_inline_js();\n  } else {\n    load_libs(css_urls, js_urls, function() {\n      console.debug(\"Bokeh: BokehJS plotting callback run at\", now());\n      run_inline_js();\n    });\n  }\n}(window));"
     },
     "metadata": {},
     "output_type": "display_data"
    }
   ],
   "source": [
    "# imports -- don't forget to run this cell\n",
    "from tsp import *\n",
    "from bokeh.io import output_notebook\n",
    "from random import randrange\n",
    "output_notebook()"
   ]
  },
  {
   "cell_type": "code",
   "execution_count": 2,
   "metadata": {},
   "outputs": [
    {
     "data": {
      "text/html": [
       "\n",
       "\n",
       "\n",
       "\n",
       "\n",
       "\n",
       "  <div class=\"bk-root\" id=\"f486b26e-88d7-4c2c-87bc-ccaa061d513d\" data-root-id=\"1058\"></div>\n"
      ]
     },
     "metadata": {},
     "output_type": "display_data"
    },
    {
     "data": {
      "application/javascript": [
       "(function(root) {\n",
       "  function embed_document(root) {\n",
       "    \n",
       "  var docs_json = {\"747562cf-ab55-43c9-97b9-8ff469c675b3\":{\"roots\":{\"references\":[{\"attributes\":{\"children\":[[{\"id\":\"1002\"},0,0],[{\"id\":\"1036\"},1,0]]},\"id\":\"1058\",\"type\":\"GridBox\"},{\"attributes\":{\"background_fill_color\":null,\"below\":[{\"id\":\"1013\"}],\"border_fill_color\":null,\"center\":[{\"id\":\"1016\"},{\"id\":\"1020\"}],\"left\":[{\"id\":\"1017\"}],\"outline_line_color\":null,\"plot_height\":400,\"plot_width\":400,\"renderers\":[{\"id\":\"1040\"},{\"id\":\"1045\"}],\"title\":{\"id\":\"1003\"},\"toolbar\":{\"id\":\"1028\"},\"toolbar_location\":null,\"x_range\":{\"id\":\"1005\"},\"x_scale\":{\"id\":\"1009\"},\"y_range\":{\"id\":\"1007\"},\"y_scale\":{\"id\":\"1011\"}},\"id\":\"1002\",\"subtype\":\"Figure\",\"type\":\"Plot\"},{\"attributes\":{},\"id\":\"1021\",\"type\":\"PanTool\"},{\"attributes\":{\"fill_alpha\":{\"value\":0.1},\"fill_color\":{\"value\":\"steelblue\"},\"line_alpha\":{\"value\":0.1},\"line_color\":{\"value\":\"steelblue\"},\"size\":{\"units\":\"screen\",\"value\":8},\"x\":{\"field\":\"x\"},\"y\":{\"field\":\"y\"}},\"id\":\"1044\",\"type\":\"Circle\"},{\"attributes\":{},\"id\":\"1053\",\"type\":\"Selection\"},{\"attributes\":{},\"id\":\"1022\",\"type\":\"WheelZoomTool\"},{\"attributes\":{\"data_source\":{\"id\":\"1042\"},\"glyph\":{\"id\":\"1043\"},\"hover_glyph\":null,\"muted_glyph\":null,\"nonselection_glyph\":{\"id\":\"1044\"},\"selection_glyph\":null,\"view\":{\"id\":\"1046\"}},\"id\":\"1045\",\"type\":\"GlyphRenderer\"},{\"attributes\":{\"fill_color\":{\"value\":\"steelblue\"},\"line_color\":{\"value\":\"steelblue\"},\"size\":{\"units\":\"screen\",\"value\":8},\"x\":{\"field\":\"x\"},\"y\":{\"field\":\"y\"}},\"id\":\"1043\",\"type\":\"Circle\"},{\"attributes\":{\"overlay\":{\"id\":\"1027\"}},\"id\":\"1023\",\"type\":\"BoxZoomTool\"},{\"attributes\":{\"source\":{\"id\":\"1042\"}},\"id\":\"1046\",\"type\":\"CDSView\"},{\"attributes\":{\"axis\":{\"id\":\"1013\"},\"grid_line_color\":null,\"ticker\":null},\"id\":\"1016\",\"type\":\"Grid\"},{\"attributes\":{},\"id\":\"1024\",\"type\":\"SaveTool\"},{\"attributes\":{},\"id\":\"1054\",\"type\":\"UnionRenderers\"},{\"attributes\":{},\"id\":\"1025\",\"type\":\"ResetTool\"},{\"attributes\":{},\"id\":\"1009\",\"type\":\"LinearScale\"},{\"attributes\":{},\"id\":\"1055\",\"type\":\"Selection\"},{\"attributes\":{},\"id\":\"1026\",\"type\":\"HelpTool\"},{\"attributes\":{},\"id\":\"1014\",\"type\":\"BasicTicker\"},{\"attributes\":{},\"id\":\"1056\",\"type\":\"UnionRenderers\"},{\"attributes\":{\"active_drag\":\"auto\",\"active_inspect\":\"auto\",\"active_multi\":null,\"active_scroll\":\"auto\",\"active_tap\":\"auto\",\"logo\":null,\"tools\":[{\"id\":\"1021\"},{\"id\":\"1022\"},{\"id\":\"1023\"},{\"id\":\"1024\"},{\"id\":\"1025\"},{\"id\":\"1026\"}]},\"id\":\"1028\",\"type\":\"Toolbar\"},{\"attributes\":{},\"id\":\"1049\",\"type\":\"BasicTickFormatter\"},{\"attributes\":{\"formatter\":{\"id\":\"1051\"},\"ticker\":{\"id\":\"1014\"},\"visible\":false},\"id\":\"1013\",\"type\":\"LinearAxis\"},{\"attributes\":{\"data\":{\"x\":[0.0,0.0,1.0,1.0,2.0,2.0,2.0,1.0,0.0,0.0,0.0,1.0,2.0,2.0,1.0,3.0,3.0,3.0,3.0,3.0,4.0,4.0,4.0,4.0,5.0,6.0,6.0,5.0,5.0,5.0,5.0,6.0,6.0,5.0,4.0,4.0,3.0,2.0,2.0,2.0,2.0,2.0,2.0,3.0,4.0,4.0,5.0,5.0,5.0,4.0,3.0,3.0,4.0,5.0,5.0,6.0,7.0,8.0,9.0,10.0,10.0,9.0,9.0,8.0,8.0,7.0,7.0,7.0,6.0,6.0,7.0,7.0,8.0,9.0,9.0,10.0,11.0,11.0,10.0,10.0,10.0,10.0,11.0,11.0,12.0,12.0,11.0,12.0,12.0,13.0,14.0,14.0,13.0,13.0,14.0,14.0,13.0,13.0,13.0,13.0,14.0,14.0,14.0,12.0,12.0,12.0,11.0,11.0,11.0,11.0,11.0,10.0,10.0,10.0,9.0,8.0,8.0,9.0,10.0,11.0,12.0,12.0,12.0,12.0,11.0,11.0,10.0,9.0,8.0,8.0,7.0,7.0,7.0,6.0,6.0,7.0,8.0,8.0,9.0,10.0,10.0,9.0,11.0,11.0,12.0,12.0,13.0,14.0,14.0,13.0,13.0,14.0,14.0,13.0,12.0,10.0,9.0,6.0,6.0,4.0,3.0,3.0,1.0,0.0,0.0,1.0,1.0,1.0,0.0,0.0,0.0,0.0,1.0,1.0,2.0,3.0,1.0,0.0,0.0,1.0,1.0,1.0,0.0,0.0,2.0,2.0,2.0,4.0,5.0,5.0,5.0,4.0,4.0,3.0,3.0,3.0,4.0,5.0,6.0,7.0,7.0,6.0,6.0,6.0,7.0,8.0,8.0,8.0,9.0,9.0,9.0,8.0,7.0,7.0,8.0,9.0,12.0,13.0,13.0,13.0,13.0,14.0,14.0,14.0,14.0,0.0],\"y\":[0.0,1.0,1.0,0.0,0.0,1.0,2.0,2.0,2.0,3.0,4.0,4.0,4.0,3.0,3.0,3.0,4.0,5.0,6.0,7.0,7.0,6.0,5.0,4.0,4.0,4.0,5.0,5.0,6.0,7.0,8.0,8.0,9.0,9.0,9.0,8.0,8.0,8.0,9.0,10.0,11.0,12.0,13.0,13.0,13.0,14.0,14.0,13.0,12.0,12.0,12.0,11.0,11.0,11.0,10.0,10.0,10.0,10.0,10.0,10.0,9.0,9.0,8.0,8.0,9.0,9.0,8.0,7.0,7.0,6.0,6.0,5.0,5.0,5.0,4.0,4.0,4.0,3.0,3.0,2.0,1.0,0.0,0.0,1.0,1.0,2.0,2.0,3.0,4.0,4.0,4.0,5.0,5.0,6.0,6.0,7.0,7.0,8.0,9.0,10.0,10.0,9.0,8.0,8.0,9.0,10.0,10.0,9.0,8.0,7.0,6.0,6.0,7.0,8.0,7.0,7.0,6.0,6.0,5.0,5.0,5.0,6.0,7.0,11.0,11.0,12.0,12.0,12.0,12.0,11.0,11.0,12.0,13.0,13.0,14.0,14.0,14.0,13.0,13.0,13.0,14.0,14.0,14.0,13.0,13.0,14.0,14.0,14.0,13.0,13.0,12.0,12.0,11.0,11.0,12.0,11.0,11.0,11.0,12.0,10.0,10.0,9.0,9.0,9.0,10.0,10.0,11.0,12.0,12.0,11.0,13.0,14.0,14.0,13.0,14.0,14.0,8.0,8.0,7.0,7.0,6.0,5.0,5.0,6.0,6.0,7.0,5.0,3.0,3.0,2.0,1.0,1.0,2.0,2.0,1.0,0.0,0.0,0.0,0.0,0.0,1.0,1.0,2.0,3.0,3.0,3.0,2.0,1.0,1.0,2.0,3.0,4.0,4.0,2.0,0.0,0.0,0.0,0.0,1.0,2.0,3.0,3.0,2.0,1.0,0.0,0.0]},\"selected\":{\"id\":\"1053\"},\"selection_policy\":{\"id\":\"1054\"}},\"id\":\"1037\",\"type\":\"ColumnDataSource\"},{\"attributes\":{\"text\":\"\"},\"id\":\"1003\",\"type\":\"Title\"},{\"attributes\":{},\"id\":\"1011\",\"type\":\"LinearScale\"},{\"attributes\":{},\"id\":\"1051\",\"type\":\"BasicTickFormatter\"},{\"attributes\":{\"end\":14.7,\"start\":-0.7000000000000001},\"id\":\"1005\",\"type\":\"Range1d\"},{\"attributes\":{\"bottom_units\":\"screen\",\"fill_alpha\":0.5,\"fill_color\":\"lightgrey\",\"left_units\":\"screen\",\"level\":\"overlay\",\"line_alpha\":1.0,\"line_color\":\"black\",\"line_dash\":[4,4],\"line_width\":2,\"right_units\":\"screen\",\"top_units\":\"screen\"},\"id\":\"1027\",\"type\":\"BoxAnnotation\"},{\"attributes\":{\"end\":14.7,\"start\":-0.7000000000000001},\"id\":\"1007\",\"type\":\"Range1d\"},{\"attributes\":{\"line_width\":4,\"x\":{\"field\":\"x\"},\"y\":{\"field\":\"y\"}},\"id\":\"1038\",\"type\":\"Line\"},{\"attributes\":{\"formatter\":{\"id\":\"1049\"},\"ticker\":{\"id\":\"1018\"},\"visible\":false},\"id\":\"1017\",\"type\":\"LinearAxis\"},{\"attributes\":{\"line_alpha\":0.1,\"line_width\":4,\"x\":{\"field\":\"x\"},\"y\":{\"field\":\"y\"}},\"id\":\"1039\",\"type\":\"Line\"},{\"attributes\":{\"source\":{\"id\":\"1037\"}},\"id\":\"1041\",\"type\":\"CDSView\"},{\"attributes\":{},\"id\":\"1018\",\"type\":\"BasicTicker\"},{\"attributes\":{\"axis\":{\"id\":\"1017\"},\"dimension\":1,\"grid_line_color\":null,\"ticker\":null},\"id\":\"1020\",\"type\":\"Grid\"},{\"attributes\":{\"data\":{\"x\":[0.0,0.0,0.0,0.0,0.0,0.0,0.0,0.0,0.0,0.0,0.0,0.0,0.0,0.0,0.0,1.0,1.0,1.0,1.0,1.0,1.0,1.0,1.0,1.0,1.0,1.0,1.0,1.0,1.0,1.0,2.0,2.0,2.0,2.0,2.0,2.0,2.0,2.0,2.0,2.0,2.0,2.0,2.0,2.0,2.0,3.0,3.0,3.0,3.0,3.0,3.0,3.0,3.0,3.0,3.0,3.0,3.0,3.0,3.0,3.0,4.0,4.0,4.0,4.0,4.0,4.0,4.0,4.0,4.0,4.0,4.0,4.0,4.0,4.0,4.0,5.0,5.0,5.0,5.0,5.0,5.0,5.0,5.0,5.0,5.0,5.0,5.0,5.0,5.0,5.0,6.0,6.0,6.0,6.0,6.0,6.0,6.0,6.0,6.0,6.0,6.0,6.0,6.0,6.0,6.0,7.0,7.0,7.0,7.0,7.0,7.0,7.0,7.0,7.0,7.0,7.0,7.0,7.0,7.0,7.0,8.0,8.0,8.0,8.0,8.0,8.0,8.0,8.0,8.0,8.0,8.0,8.0,8.0,8.0,8.0,9.0,9.0,9.0,9.0,9.0,9.0,9.0,9.0,9.0,9.0,9.0,9.0,9.0,9.0,9.0,10.0,10.0,10.0,10.0,10.0,10.0,10.0,10.0,10.0,10.0,10.0,10.0,10.0,10.0,10.0,11.0,11.0,11.0,11.0,11.0,11.0,11.0,11.0,11.0,11.0,11.0,11.0,11.0,11.0,11.0,12.0,12.0,12.0,12.0,12.0,12.0,12.0,12.0,12.0,12.0,12.0,12.0,12.0,12.0,12.0,13.0,13.0,13.0,13.0,13.0,13.0,13.0,13.0,13.0,13.0,13.0,13.0,13.0,13.0,13.0,14.0,14.0,14.0,14.0,14.0,14.0,14.0,14.0,14.0,14.0,14.0,14.0,14.0,14.0,14.0],\"y\":[0.0,1.0,2.0,3.0,4.0,5.0,6.0,7.0,8.0,9.0,10.0,11.0,12.0,13.0,14.0,0.0,1.0,2.0,3.0,4.0,5.0,6.0,7.0,8.0,9.0,10.0,11.0,12.0,13.0,14.0,0.0,1.0,2.0,3.0,4.0,5.0,6.0,7.0,8.0,9.0,10.0,11.0,12.0,13.0,14.0,0.0,1.0,2.0,3.0,4.0,5.0,6.0,7.0,8.0,9.0,10.0,11.0,12.0,13.0,14.0,0.0,1.0,2.0,3.0,4.0,5.0,6.0,7.0,8.0,9.0,10.0,11.0,12.0,13.0,14.0,0.0,1.0,2.0,3.0,4.0,5.0,6.0,7.0,8.0,9.0,10.0,11.0,12.0,13.0,14.0,0.0,1.0,2.0,3.0,4.0,5.0,6.0,7.0,8.0,9.0,10.0,11.0,12.0,13.0,14.0,0.0,1.0,2.0,3.0,4.0,5.0,6.0,7.0,8.0,9.0,10.0,11.0,12.0,13.0,14.0,0.0,1.0,2.0,3.0,4.0,5.0,6.0,7.0,8.0,9.0,10.0,11.0,12.0,13.0,14.0,0.0,1.0,2.0,3.0,4.0,5.0,6.0,7.0,8.0,9.0,10.0,11.0,12.0,13.0,14.0,0.0,1.0,2.0,3.0,4.0,5.0,6.0,7.0,8.0,9.0,10.0,11.0,12.0,13.0,14.0,0.0,1.0,2.0,3.0,4.0,5.0,6.0,7.0,8.0,9.0,10.0,11.0,12.0,13.0,14.0,0.0,1.0,2.0,3.0,4.0,5.0,6.0,7.0,8.0,9.0,10.0,11.0,12.0,13.0,14.0,0.0,1.0,2.0,3.0,4.0,5.0,6.0,7.0,8.0,9.0,10.0,11.0,12.0,13.0,14.0,0.0,1.0,2.0,3.0,4.0,5.0,6.0,7.0,8.0,9.0,10.0,11.0,12.0,13.0,14.0]},\"selected\":{\"id\":\"1055\"},\"selection_policy\":{\"id\":\"1056\"}},\"id\":\"1042\",\"type\":\"ColumnDataSource\"},{\"attributes\":{\"align\":\"center\",\"text\":\"266.939\",\"width\":400},\"id\":\"1036\",\"type\":\"Div\"},{\"attributes\":{\"data_source\":{\"id\":\"1037\"},\"glyph\":{\"id\":\"1038\"},\"hover_glyph\":null,\"muted_glyph\":null,\"nonselection_glyph\":{\"id\":\"1039\"},\"selection_glyph\":null,\"view\":{\"id\":\"1041\"}},\"id\":\"1040\",\"type\":\"GlyphRenderer\"}],\"root_ids\":[\"1058\"]},\"title\":\"Bokeh Application\",\"version\":\"2.1.0\"}};\n",
       "  var render_items = [{\"docid\":\"747562cf-ab55-43c9-97b9-8ff469c675b3\",\"root_ids\":[\"1058\"],\"roots\":{\"1058\":\"f486b26e-88d7-4c2c-87bc-ccaa061d513d\"}}];\n",
       "  root.Bokeh.embed.embed_items_notebook(docs_json, render_items);\n",
       "\n",
       "  }\n",
       "  if (root.Bokeh !== undefined) {\n",
       "    embed_document(root);\n",
       "  } else {\n",
       "    var attempts = 0;\n",
       "    var timer = setInterval(function(root) {\n",
       "      if (root.Bokeh !== undefined) {\n",
       "        clearInterval(timer);\n",
       "        embed_document(root);\n",
       "      } else {\n",
       "        attempts++;\n",
       "        if (attempts > 100) {\n",
       "          clearInterval(timer);\n",
       "          console.log(\"Bokeh: ERROR: Unable to run BokehJS code because BokehJS library is missing\");\n",
       "        }\n",
       "      }\n",
       "    }, 10, root)\n",
       "  }\n",
       "})(window);"
      ],
      "application/vnd.bokehjs_exec.v0+json": ""
     },
     "metadata": {
      "application/vnd.bokehjs_exec.v0+json": {
       "id": "1058"
      }
     },
     "output_type": "display_data"
    },
    {
     "data": {
      "text/html": [
       "\n",
       "\n",
       "\n",
       "\n",
       "\n",
       "\n",
       "  <div class=\"bk-root\" id=\"3d7ac996-9656-4b3c-a872-75f60cf7a3bf\" data-root-id=\"1185\"></div>\n"
      ]
     },
     "metadata": {},
     "output_type": "display_data"
    },
    {
     "data": {
      "application/javascript": [
       "(function(root) {\n",
       "  function embed_document(root) {\n",
       "    \n",
       "  var docs_json = {\"73928d52-b6d2-4cf3-b2bb-10c0dd2ecfbb\":{\"roots\":{\"references\":[{\"attributes\":{\"children\":[[{\"id\":\"1129\"},0,0],[{\"id\":\"1163\"},1,0]]},\"id\":\"1185\",\"type\":\"GridBox\"},{\"attributes\":{\"source\":{\"id\":\"1164\"}},\"id\":\"1168\",\"type\":\"CDSView\"},{\"attributes\":{\"axis\":{\"id\":\"1140\"},\"grid_line_color\":null,\"ticker\":null},\"id\":\"1143\",\"type\":\"Grid\"},{\"attributes\":{},\"id\":\"1182\",\"type\":\"Selection\"},{\"attributes\":{\"line_alpha\":0.1,\"line_width\":4,\"x\":{\"field\":\"x\"},\"y\":{\"field\":\"y\"}},\"id\":\"1166\",\"type\":\"Line\"},{\"attributes\":{},\"id\":\"1141\",\"type\":\"BasicTicker\"},{\"attributes\":{},\"id\":\"1183\",\"type\":\"UnionRenderers\"},{\"attributes\":{\"line_width\":4,\"x\":{\"field\":\"x\"},\"y\":{\"field\":\"y\"}},\"id\":\"1165\",\"type\":\"Line\"},{\"attributes\":{},\"id\":\"1145\",\"type\":\"BasicTicker\"},{\"attributes\":{\"overlay\":{\"id\":\"1154\"}},\"id\":\"1150\",\"type\":\"BoxZoomTool\"},{\"attributes\":{\"data_source\":{\"id\":\"1164\"},\"glyph\":{\"id\":\"1165\"},\"hover_glyph\":null,\"muted_glyph\":null,\"nonselection_glyph\":{\"id\":\"1166\"},\"selection_glyph\":null,\"view\":{\"id\":\"1168\"}},\"id\":\"1167\",\"type\":\"GlyphRenderer\"},{\"attributes\":{\"data\":{\"x\":[0.0,0.0,1.0,1.0,0.0,0.0,0.0,0.0,1.0,1.0,2.0,2.0,3.0,3.0,4.0,4.0,3.0,2.0,2.0,1.0,1.0,0.0,0.0,0.0,1.0,1.0,2.0,3.0,2.0,3.0,3.0,2.0,3.0,4.0,4.0,4.0,5.0,5.0,5.0,6.0,5.0,5.0,6.0,7.0,7.0,8.0,8.0,9.0,9.0,10.0,10.0,9.0,9.0,8.0,8.0,7.0,7.0,6.0,6.0,6.0,7.0,8.0,8.0,9.0,9.0,10.0,10.0,9.0,8.0,9.0,8.0,9.0,9.0,8.0,8.0,7.0,6.0,6.0,6.0,7.0,7.0,6.0,7.0,7.0,6.0,5.0,4.0,4.0,4.0,5.0,5.0,5.0,4.0,3.0,2.0,3.0,3.0,2.0,1.0,0.0,1.0,0.0,0.0,1.0,0.0,1.0,2.0,2.0,2.0,1.0,0.0,0.0,1.0,2.0,3.0,4.0,4.0,3.0,3.0,4.0,5.0,5.0,5.0,6.0,6.0,7.0,8.0,7.0,8.0,9.0,9.0,10.0,10.0,11.0,11.0,12.0,12.0,13.0,14.0,14.0,14.0,13.0,13.0,12.0,12.0,11.0,11.0,10.0,10.0,10.0,11.0,11.0,12.0,13.0,13.0,12.0,13.0,14.0,14.0,14.0,14.0,14.0,14.0,14.0,13.0,13.0,12.0,13.0,13.0,12.0,11.0,11.0,10.0,10.0,11.0,12.0,12.0,11.0,11.0,10.0,11.0,12.0,12.0,11.0,12.0,13.0,14.0,14.0,13.0,14.0,13.0,13.0,14.0,14.0,13.0,12.0,12.0,11.0,11.0,10.0,10.0,9.0,8.0,9.0,10.0,9.0,8.0,8.0,7.0,7.0,6.0,6.0,7.0,6.0,5.0,5.0,4.0,4.0,5.0,4.0,3.0,3.0,2.0,2.0,1.0,0.0],\"y\":[0.0,1.0,1.0,2.0,2.0,3.0,4.0,5.0,4.0,3.0,3.0,2.0,2.0,3.0,3.0,4.0,4.0,4.0,5.0,5.0,6.0,6.0,7.0,8.0,7.0,8.0,8.0,8.0,7.0,7.0,6.0,6.0,5.0,5.0,6.0,7.0,7.0,6.0,5.0,4.0,4.0,3.0,3.0,3.0,4.0,4.0,3.0,3.0,4.0,4.0,5.0,6.0,5.0,5.0,6.0,6.0,5.0,5.0,6.0,7.0,7.0,8.0,7.0,7.0,8.0,8.0,9.0,9.0,9.0,10.0,10.0,11.0,12.0,11.0,12.0,12.0,12.0,11.0,10.0,11.0,10.0,9.0,9.0,8.0,8.0,8.0,8.0,9.0,10.0,9.0,10.0,11.0,11.0,11.0,10.0,10.0,9.0,9.0,9.0,9.0,10.0,10.0,11.0,11.0,12.0,12.0,11.0,12.0,13.0,13.0,13.0,14.0,14.0,14.0,14.0,14.0,13.0,13.0,12.0,12.0,12.0,13.0,14.0,14.0,13.0,14.0,14.0,13.0,13.0,13.0,14.0,14.0,13.0,14.0,13.0,13.0,14.0,14.0,14.0,13.0,12.0,13.0,12.0,12.0,11.0,11.0,12.0,12.0,11.0,10.0,10.0,9.0,9.0,9.0,10.0,10.0,11.0,11.0,10.0,9.0,8.0,7.0,6.0,5.0,5.0,6.0,7.0,7.0,8.0,8.0,8.0,7.0,7.0,6.0,6.0,6.0,5.0,5.0,4.0,3.0,2.0,2.0,3.0,3.0,4.0,4.0,4.0,3.0,3.0,2.0,2.0,1.0,1.0,0.0,0.0,0.0,1.0,1.0,0.0,0.0,1.0,0.0,0.0,1.0,2.0,2.0,2.0,1.0,1.0,0.0,0.0,1.0,2.0,2.0,2.0,1.0,2.0,1.0,0.0,0.0,0.0,1.0,0.0,1.0,0.0,0.0]},\"selected\":{\"id\":\"1180\"},\"selection_policy\":{\"id\":\"1181\"}},\"id\":\"1164\",\"type\":\"ColumnDataSource\"},{\"attributes\":{},\"id\":\"1180\",\"type\":\"Selection\"},{\"attributes\":{\"fill_alpha\":{\"value\":0.1},\"fill_color\":{\"value\":\"steelblue\"},\"line_alpha\":{\"value\":0.1},\"line_color\":{\"value\":\"steelblue\"},\"size\":{\"units\":\"screen\",\"value\":8},\"x\":{\"field\":\"x\"},\"y\":{\"field\":\"y\"}},\"id\":\"1171\",\"type\":\"Circle\"},{\"attributes\":{\"formatter\":{\"id\":\"1176\"},\"ticker\":{\"id\":\"1145\"},\"visible\":false},\"id\":\"1144\",\"type\":\"LinearAxis\"},{\"attributes\":{\"background_fill_color\":null,\"below\":[{\"id\":\"1140\"}],\"border_fill_color\":null,\"center\":[{\"id\":\"1143\"},{\"id\":\"1147\"}],\"left\":[{\"id\":\"1144\"}],\"outline_line_color\":null,\"plot_height\":400,\"plot_width\":400,\"renderers\":[{\"id\":\"1167\"},{\"id\":\"1172\"}],\"title\":{\"id\":\"1130\"},\"toolbar\":{\"id\":\"1155\"},\"toolbar_location\":null,\"x_range\":{\"id\":\"1132\"},\"x_scale\":{\"id\":\"1136\"},\"y_range\":{\"id\":\"1134\"},\"y_scale\":{\"id\":\"1138\"}},\"id\":\"1129\",\"subtype\":\"Figure\",\"type\":\"Plot\"},{\"attributes\":{},\"id\":\"1138\",\"type\":\"LinearScale\"},{\"attributes\":{\"axis\":{\"id\":\"1144\"},\"dimension\":1,\"grid_line_color\":null,\"ticker\":null},\"id\":\"1147\",\"type\":\"Grid\"},{\"attributes\":{\"source\":{\"id\":\"1169\"}},\"id\":\"1173\",\"type\":\"CDSView\"},{\"attributes\":{},\"id\":\"1148\",\"type\":\"PanTool\"},{\"attributes\":{\"fill_color\":{\"value\":\"steelblue\"},\"line_color\":{\"value\":\"steelblue\"},\"size\":{\"units\":\"screen\",\"value\":8},\"x\":{\"field\":\"x\"},\"y\":{\"field\":\"y\"}},\"id\":\"1170\",\"type\":\"Circle\"},{\"attributes\":{\"align\":\"center\",\"text\":\"239.497\",\"width\":400},\"id\":\"1163\",\"type\":\"Div\"},{\"attributes\":{\"data_source\":{\"id\":\"1169\"},\"glyph\":{\"id\":\"1170\"},\"hover_glyph\":null,\"muted_glyph\":null,\"nonselection_glyph\":{\"id\":\"1171\"},\"selection_glyph\":null,\"view\":{\"id\":\"1173\"}},\"id\":\"1172\",\"type\":\"GlyphRenderer\"},{\"attributes\":{},\"id\":\"1178\",\"type\":\"BasicTickFormatter\"},{\"attributes\":{},\"id\":\"1149\",\"type\":\"WheelZoomTool\"},{\"attributes\":{},\"id\":\"1176\",\"type\":\"BasicTickFormatter\"},{\"attributes\":{},\"id\":\"1153\",\"type\":\"HelpTool\"},{\"attributes\":{\"active_drag\":\"auto\",\"active_inspect\":\"auto\",\"active_multi\":null,\"active_scroll\":\"auto\",\"active_tap\":\"auto\",\"logo\":null,\"tools\":[{\"id\":\"1148\"},{\"id\":\"1149\"},{\"id\":\"1150\"},{\"id\":\"1151\"},{\"id\":\"1152\"},{\"id\":\"1153\"}]},\"id\":\"1155\",\"type\":\"Toolbar\"},{\"attributes\":{\"formatter\":{\"id\":\"1178\"},\"ticker\":{\"id\":\"1141\"},\"visible\":false},\"id\":\"1140\",\"type\":\"LinearAxis\"},{\"attributes\":{},\"id\":\"1151\",\"type\":\"SaveTool\"},{\"attributes\":{\"end\":14.7,\"start\":-0.7000000000000001},\"id\":\"1134\",\"type\":\"Range1d\"},{\"attributes\":{},\"id\":\"1152\",\"type\":\"ResetTool\"},{\"attributes\":{\"text\":\"\"},\"id\":\"1130\",\"type\":\"Title\"},{\"attributes\":{},\"id\":\"1181\",\"type\":\"UnionRenderers\"},{\"attributes\":{\"end\":14.7,\"start\":-0.7000000000000001},\"id\":\"1132\",\"type\":\"Range1d\"},{\"attributes\":{\"bottom_units\":\"screen\",\"fill_alpha\":0.5,\"fill_color\":\"lightgrey\",\"left_units\":\"screen\",\"level\":\"overlay\",\"line_alpha\":1.0,\"line_color\":\"black\",\"line_dash\":[4,4],\"line_width\":2,\"right_units\":\"screen\",\"top_units\":\"screen\"},\"id\":\"1154\",\"type\":\"BoxAnnotation\"},{\"attributes\":{},\"id\":\"1136\",\"type\":\"LinearScale\"},{\"attributes\":{\"data\":{\"x\":[0.0,0.0,0.0,0.0,0.0,0.0,0.0,0.0,0.0,0.0,0.0,0.0,0.0,0.0,0.0,1.0,1.0,1.0,1.0,1.0,1.0,1.0,1.0,1.0,1.0,1.0,1.0,1.0,1.0,1.0,2.0,2.0,2.0,2.0,2.0,2.0,2.0,2.0,2.0,2.0,2.0,2.0,2.0,2.0,2.0,3.0,3.0,3.0,3.0,3.0,3.0,3.0,3.0,3.0,3.0,3.0,3.0,3.0,3.0,3.0,4.0,4.0,4.0,4.0,4.0,4.0,4.0,4.0,4.0,4.0,4.0,4.0,4.0,4.0,4.0,5.0,5.0,5.0,5.0,5.0,5.0,5.0,5.0,5.0,5.0,5.0,5.0,5.0,5.0,5.0,6.0,6.0,6.0,6.0,6.0,6.0,6.0,6.0,6.0,6.0,6.0,6.0,6.0,6.0,6.0,7.0,7.0,7.0,7.0,7.0,7.0,7.0,7.0,7.0,7.0,7.0,7.0,7.0,7.0,7.0,8.0,8.0,8.0,8.0,8.0,8.0,8.0,8.0,8.0,8.0,8.0,8.0,8.0,8.0,8.0,9.0,9.0,9.0,9.0,9.0,9.0,9.0,9.0,9.0,9.0,9.0,9.0,9.0,9.0,9.0,10.0,10.0,10.0,10.0,10.0,10.0,10.0,10.0,10.0,10.0,10.0,10.0,10.0,10.0,10.0,11.0,11.0,11.0,11.0,11.0,11.0,11.0,11.0,11.0,11.0,11.0,11.0,11.0,11.0,11.0,12.0,12.0,12.0,12.0,12.0,12.0,12.0,12.0,12.0,12.0,12.0,12.0,12.0,12.0,12.0,13.0,13.0,13.0,13.0,13.0,13.0,13.0,13.0,13.0,13.0,13.0,13.0,13.0,13.0,13.0,14.0,14.0,14.0,14.0,14.0,14.0,14.0,14.0,14.0,14.0,14.0,14.0,14.0,14.0,14.0],\"y\":[0.0,1.0,2.0,3.0,4.0,5.0,6.0,7.0,8.0,9.0,10.0,11.0,12.0,13.0,14.0,0.0,1.0,2.0,3.0,4.0,5.0,6.0,7.0,8.0,9.0,10.0,11.0,12.0,13.0,14.0,0.0,1.0,2.0,3.0,4.0,5.0,6.0,7.0,8.0,9.0,10.0,11.0,12.0,13.0,14.0,0.0,1.0,2.0,3.0,4.0,5.0,6.0,7.0,8.0,9.0,10.0,11.0,12.0,13.0,14.0,0.0,1.0,2.0,3.0,4.0,5.0,6.0,7.0,8.0,9.0,10.0,11.0,12.0,13.0,14.0,0.0,1.0,2.0,3.0,4.0,5.0,6.0,7.0,8.0,9.0,10.0,11.0,12.0,13.0,14.0,0.0,1.0,2.0,3.0,4.0,5.0,6.0,7.0,8.0,9.0,10.0,11.0,12.0,13.0,14.0,0.0,1.0,2.0,3.0,4.0,5.0,6.0,7.0,8.0,9.0,10.0,11.0,12.0,13.0,14.0,0.0,1.0,2.0,3.0,4.0,5.0,6.0,7.0,8.0,9.0,10.0,11.0,12.0,13.0,14.0,0.0,1.0,2.0,3.0,4.0,5.0,6.0,7.0,8.0,9.0,10.0,11.0,12.0,13.0,14.0,0.0,1.0,2.0,3.0,4.0,5.0,6.0,7.0,8.0,9.0,10.0,11.0,12.0,13.0,14.0,0.0,1.0,2.0,3.0,4.0,5.0,6.0,7.0,8.0,9.0,10.0,11.0,12.0,13.0,14.0,0.0,1.0,2.0,3.0,4.0,5.0,6.0,7.0,8.0,9.0,10.0,11.0,12.0,13.0,14.0,0.0,1.0,2.0,3.0,4.0,5.0,6.0,7.0,8.0,9.0,10.0,11.0,12.0,13.0,14.0,0.0,1.0,2.0,3.0,4.0,5.0,6.0,7.0,8.0,9.0,10.0,11.0,12.0,13.0,14.0]},\"selected\":{\"id\":\"1182\"},\"selection_policy\":{\"id\":\"1183\"}},\"id\":\"1169\",\"type\":\"ColumnDataSource\"}],\"root_ids\":[\"1185\"]},\"title\":\"Bokeh Application\",\"version\":\"2.1.0\"}};\n",
       "  var render_items = [{\"docid\":\"73928d52-b6d2-4cf3-b2bb-10c0dd2ecfbb\",\"root_ids\":[\"1185\"],\"roots\":{\"1185\":\"3d7ac996-9656-4b3c-a872-75f60cf7a3bf\"}}];\n",
       "  root.Bokeh.embed.embed_items_notebook(docs_json, render_items);\n",
       "\n",
       "  }\n",
       "  if (root.Bokeh !== undefined) {\n",
       "    embed_document(root);\n",
       "  } else {\n",
       "    var attempts = 0;\n",
       "    var timer = setInterval(function(root) {\n",
       "      if (root.Bokeh !== undefined) {\n",
       "        clearInterval(timer);\n",
       "        embed_document(root);\n",
       "      } else {\n",
       "        attempts++;\n",
       "        if (attempts > 100) {\n",
       "          clearInterval(timer);\n",
       "          console.log(\"Bokeh: ERROR: Unable to run BokehJS code because BokehJS library is missing\");\n",
       "        }\n",
       "      }\n",
       "    }, 10, root)\n",
       "  }\n",
       "})(window);"
      ],
      "application/vnd.bokehjs_exec.v0+json": ""
     },
     "metadata": {
      "application/vnd.bokehjs_exec.v0+json": {
       "id": "1185"
      }
     },
     "output_type": "display_data"
    },
    {
     "data": {
      "text/html": [
       "\n",
       "\n",
       "\n",
       "\n",
       "\n",
       "\n",
       "  <div class=\"bk-root\" id=\"7791a387-0ff2-451d-aff2-43d871c11881\" data-root-id=\"1322\"></div>\n"
      ]
     },
     "metadata": {},
     "output_type": "display_data"
    },
    {
     "data": {
      "application/javascript": [
       "(function(root) {\n",
       "  function embed_document(root) {\n",
       "    \n",
       "  var docs_json = {\"7cc4201c-5cc1-4211-aca6-69e75d43756d\":{\"roots\":{\"references\":[{\"attributes\":{\"children\":[[{\"id\":\"1266\"},0,0],[{\"id\":\"1300\"},1,0]]},\"id\":\"1322\",\"type\":\"GridBox\"},{\"attributes\":{\"data\":{\"x\":[0.0,1.0,2.0,3.0,4.0,5.0,6.0,7.0,8.0,9.0,10.0,11.0,12.0,13.0,14.0,14.0,14.0,14.0,14.0,14.0,14.0,14.0,14.0,14.0,14.0,14.0,14.0,14.0,14.0,13.0,13.0,13.0,13.0,13.0,13.0,13.0,13.0,13.0,13.0,13.0,13.0,13.0,13.0,12.0,12.0,12.0,12.0,12.0,12.0,12.0,12.0,12.0,12.0,12.0,12.0,12.0,12.0,11.0,11.0,11.0,11.0,11.0,11.0,11.0,11.0,11.0,11.0,11.0,11.0,11.0,11.0,10.0,10.0,10.0,10.0,10.0,10.0,10.0,10.0,10.0,10.0,10.0,10.0,10.0,10.0,9.0,9.0,9.0,9.0,9.0,9.0,9.0,9.0,9.0,9.0,9.0,9.0,9.0,9.0,8.0,8.0,8.0,8.0,8.0,8.0,8.0,8.0,8.0,8.0,8.0,8.0,8.0,8.0,7.0,7.0,7.0,7.0,7.0,7.0,7.0,7.0,7.0,7.0,7.0,7.0,7.0,7.0,6.0,6.0,6.0,6.0,6.0,6.0,6.0,6.0,6.0,6.0,6.0,6.0,6.0,6.0,5.0,5.0,5.0,5.0,5.0,5.0,5.0,5.0,5.0,5.0,5.0,5.0,5.0,5.0,4.0,4.0,4.0,4.0,4.0,4.0,4.0,4.0,4.0,4.0,4.0,4.0,4.0,4.0,3.0,3.0,3.0,3.0,2.0,1.0,1.0,2.0,2.0,1.0,0.0,0.0,0.0,0.0,0.0,0.0,1.0,1.0,2.0,2.0,3.0,3.0,3.0,3.0,3.0,3.0,3.0,3.0,3.0,3.0,2.0,2.0,2.0,2.0,2.0,2.0,2.0,2.0,2.0,1.0,1.0,0.0,0.0,1.0,1.0,0.0,0.0,1.0,1.0,0.0,0.0,1.0,1.0,0.0,0.0,1.0,0.0],\"y\":[0.0,0.0,0.0,0.0,0.0,0.0,0.0,0.0,0.0,0.0,0.0,0.0,0.0,0.0,0.0,1.0,2.0,3.0,4.0,5.0,6.0,7.0,8.0,9.0,10.0,11.0,12.0,13.0,14.0,14.0,13.0,12.0,11.0,10.0,9.0,8.0,7.0,6.0,5.0,4.0,3.0,2.0,1.0,1.0,2.0,3.0,4.0,5.0,6.0,7.0,8.0,9.0,10.0,11.0,12.0,13.0,14.0,14.0,13.0,12.0,11.0,10.0,9.0,8.0,7.0,6.0,5.0,4.0,3.0,2.0,1.0,1.0,2.0,3.0,4.0,5.0,6.0,7.0,8.0,9.0,10.0,11.0,12.0,13.0,14.0,14.0,13.0,12.0,11.0,10.0,9.0,8.0,7.0,6.0,5.0,4.0,3.0,2.0,1.0,1.0,2.0,3.0,4.0,5.0,6.0,7.0,8.0,9.0,10.0,11.0,12.0,13.0,14.0,14.0,13.0,12.0,11.0,10.0,9.0,8.0,7.0,6.0,5.0,4.0,3.0,2.0,1.0,1.0,2.0,3.0,4.0,5.0,6.0,7.0,8.0,9.0,10.0,11.0,12.0,13.0,14.0,14.0,13.0,12.0,11.0,10.0,9.0,8.0,7.0,6.0,5.0,4.0,3.0,2.0,1.0,1.0,2.0,3.0,4.0,5.0,6.0,7.0,8.0,9.0,10.0,11.0,12.0,13.0,14.0,14.0,13.0,12.0,11.0,12.0,12.0,13.0,13.0,14.0,14.0,14.0,13.0,12.0,11.0,10.0,9.0,10.0,11.0,11.0,10.0,10.0,9.0,8.0,7.0,6.0,5.0,4.0,3.0,2.0,1.0,1.0,2.0,3.0,4.0,5.0,6.0,7.0,8.0,9.0,9.0,8.0,8.0,7.0,7.0,6.0,6.0,5.0,5.0,4.0,4.0,3.0,3.0,2.0,2.0,1.0,1.0,0.0]},\"selected\":{\"id\":\"1317\"},\"selection_policy\":{\"id\":\"1318\"}},\"id\":\"1301\",\"type\":\"ColumnDataSource\"},{\"attributes\":{\"data\":{\"x\":[0.0,0.0,0.0,0.0,0.0,0.0,0.0,0.0,0.0,0.0,0.0,0.0,0.0,0.0,0.0,1.0,1.0,1.0,1.0,1.0,1.0,1.0,1.0,1.0,1.0,1.0,1.0,1.0,1.0,1.0,2.0,2.0,2.0,2.0,2.0,2.0,2.0,2.0,2.0,2.0,2.0,2.0,2.0,2.0,2.0,3.0,3.0,3.0,3.0,3.0,3.0,3.0,3.0,3.0,3.0,3.0,3.0,3.0,3.0,3.0,4.0,4.0,4.0,4.0,4.0,4.0,4.0,4.0,4.0,4.0,4.0,4.0,4.0,4.0,4.0,5.0,5.0,5.0,5.0,5.0,5.0,5.0,5.0,5.0,5.0,5.0,5.0,5.0,5.0,5.0,6.0,6.0,6.0,6.0,6.0,6.0,6.0,6.0,6.0,6.0,6.0,6.0,6.0,6.0,6.0,7.0,7.0,7.0,7.0,7.0,7.0,7.0,7.0,7.0,7.0,7.0,7.0,7.0,7.0,7.0,8.0,8.0,8.0,8.0,8.0,8.0,8.0,8.0,8.0,8.0,8.0,8.0,8.0,8.0,8.0,9.0,9.0,9.0,9.0,9.0,9.0,9.0,9.0,9.0,9.0,9.0,9.0,9.0,9.0,9.0,10.0,10.0,10.0,10.0,10.0,10.0,10.0,10.0,10.0,10.0,10.0,10.0,10.0,10.0,10.0,11.0,11.0,11.0,11.0,11.0,11.0,11.0,11.0,11.0,11.0,11.0,11.0,11.0,11.0,11.0,12.0,12.0,12.0,12.0,12.0,12.0,12.0,12.0,12.0,12.0,12.0,12.0,12.0,12.0,12.0,13.0,13.0,13.0,13.0,13.0,13.0,13.0,13.0,13.0,13.0,13.0,13.0,13.0,13.0,13.0,14.0,14.0,14.0,14.0,14.0,14.0,14.0,14.0,14.0,14.0,14.0,14.0,14.0,14.0,14.0],\"y\":[0.0,1.0,2.0,3.0,4.0,5.0,6.0,7.0,8.0,9.0,10.0,11.0,12.0,13.0,14.0,0.0,1.0,2.0,3.0,4.0,5.0,6.0,7.0,8.0,9.0,10.0,11.0,12.0,13.0,14.0,0.0,1.0,2.0,3.0,4.0,5.0,6.0,7.0,8.0,9.0,10.0,11.0,12.0,13.0,14.0,0.0,1.0,2.0,3.0,4.0,5.0,6.0,7.0,8.0,9.0,10.0,11.0,12.0,13.0,14.0,0.0,1.0,2.0,3.0,4.0,5.0,6.0,7.0,8.0,9.0,10.0,11.0,12.0,13.0,14.0,0.0,1.0,2.0,3.0,4.0,5.0,6.0,7.0,8.0,9.0,10.0,11.0,12.0,13.0,14.0,0.0,1.0,2.0,3.0,4.0,5.0,6.0,7.0,8.0,9.0,10.0,11.0,12.0,13.0,14.0,0.0,1.0,2.0,3.0,4.0,5.0,6.0,7.0,8.0,9.0,10.0,11.0,12.0,13.0,14.0,0.0,1.0,2.0,3.0,4.0,5.0,6.0,7.0,8.0,9.0,10.0,11.0,12.0,13.0,14.0,0.0,1.0,2.0,3.0,4.0,5.0,6.0,7.0,8.0,9.0,10.0,11.0,12.0,13.0,14.0,0.0,1.0,2.0,3.0,4.0,5.0,6.0,7.0,8.0,9.0,10.0,11.0,12.0,13.0,14.0,0.0,1.0,2.0,3.0,4.0,5.0,6.0,7.0,8.0,9.0,10.0,11.0,12.0,13.0,14.0,0.0,1.0,2.0,3.0,4.0,5.0,6.0,7.0,8.0,9.0,10.0,11.0,12.0,13.0,14.0,0.0,1.0,2.0,3.0,4.0,5.0,6.0,7.0,8.0,9.0,10.0,11.0,12.0,13.0,14.0,0.0,1.0,2.0,3.0,4.0,5.0,6.0,7.0,8.0,9.0,10.0,11.0,12.0,13.0,14.0]},\"selected\":{\"id\":\"1319\"},\"selection_policy\":{\"id\":\"1320\"}},\"id\":\"1306\",\"type\":\"ColumnDataSource\"},{\"attributes\":{\"axis\":{\"id\":\"1281\"},\"dimension\":1,\"grid_line_color\":null,\"ticker\":null},\"id\":\"1284\",\"type\":\"Grid\"},{\"attributes\":{},\"id\":\"1286\",\"type\":\"WheelZoomTool\"},{\"attributes\":{\"fill_alpha\":{\"value\":0.1},\"fill_color\":{\"value\":\"steelblue\"},\"line_alpha\":{\"value\":0.1},\"line_color\":{\"value\":\"steelblue\"},\"size\":{\"units\":\"screen\",\"value\":8},\"x\":{\"field\":\"x\"},\"y\":{\"field\":\"y\"}},\"id\":\"1308\",\"type\":\"Circle\"},{\"attributes\":{},\"id\":\"1285\",\"type\":\"PanTool\"},{\"attributes\":{\"data_source\":{\"id\":\"1306\"},\"glyph\":{\"id\":\"1307\"},\"hover_glyph\":null,\"muted_glyph\":null,\"nonselection_glyph\":{\"id\":\"1308\"},\"selection_glyph\":null,\"view\":{\"id\":\"1310\"}},\"id\":\"1309\",\"type\":\"GlyphRenderer\"},{\"attributes\":{\"align\":\"center\",\"text\":\"226.243\",\"width\":400},\"id\":\"1300\",\"type\":\"Div\"},{\"attributes\":{\"line_width\":4,\"x\":{\"field\":\"x\"},\"y\":{\"field\":\"y\"}},\"id\":\"1302\",\"type\":\"Line\"},{\"attributes\":{\"fill_color\":{\"value\":\"steelblue\"},\"line_color\":{\"value\":\"steelblue\"},\"size\":{\"units\":\"screen\",\"value\":8},\"x\":{\"field\":\"x\"},\"y\":{\"field\":\"y\"}},\"id\":\"1307\",\"type\":\"Circle\"},{\"attributes\":{\"source\":{\"id\":\"1306\"}},\"id\":\"1310\",\"type\":\"CDSView\"},{\"attributes\":{\"overlay\":{\"id\":\"1291\"}},\"id\":\"1287\",\"type\":\"BoxZoomTool\"},{\"attributes\":{},\"id\":\"1288\",\"type\":\"SaveTool\"},{\"attributes\":{},\"id\":\"1313\",\"type\":\"BasicTickFormatter\"},{\"attributes\":{\"text\":\"\"},\"id\":\"1267\",\"type\":\"Title\"},{\"attributes\":{},\"id\":\"1290\",\"type\":\"HelpTool\"},{\"attributes\":{},\"id\":\"1315\",\"type\":\"BasicTickFormatter\"},{\"attributes\":{\"end\":14.7,\"start\":-0.7000000000000001},\"id\":\"1269\",\"type\":\"Range1d\"},{\"attributes\":{\"active_drag\":\"auto\",\"active_inspect\":\"auto\",\"active_multi\":null,\"active_scroll\":\"auto\",\"active_tap\":\"auto\",\"logo\":null,\"tools\":[{\"id\":\"1285\"},{\"id\":\"1286\"},{\"id\":\"1287\"},{\"id\":\"1288\"},{\"id\":\"1289\"},{\"id\":\"1290\"}]},\"id\":\"1292\",\"type\":\"Toolbar\"},{\"attributes\":{\"background_fill_color\":null,\"below\":[{\"id\":\"1277\"}],\"border_fill_color\":null,\"center\":[{\"id\":\"1280\"},{\"id\":\"1284\"}],\"left\":[{\"id\":\"1281\"}],\"outline_line_color\":null,\"plot_height\":400,\"plot_width\":400,\"renderers\":[{\"id\":\"1304\"},{\"id\":\"1309\"}],\"title\":{\"id\":\"1267\"},\"toolbar\":{\"id\":\"1292\"},\"toolbar_location\":null,\"x_range\":{\"id\":\"1269\"},\"x_scale\":{\"id\":\"1273\"},\"y_range\":{\"id\":\"1271\"},\"y_scale\":{\"id\":\"1275\"}},\"id\":\"1266\",\"subtype\":\"Figure\",\"type\":\"Plot\"},{\"attributes\":{},\"id\":\"1317\",\"type\":\"Selection\"},{\"attributes\":{\"end\":14.7,\"start\":-0.7000000000000001},\"id\":\"1271\",\"type\":\"Range1d\"},{\"attributes\":{},\"id\":\"1318\",\"type\":\"UnionRenderers\"},{\"attributes\":{},\"id\":\"1289\",\"type\":\"ResetTool\"},{\"attributes\":{},\"id\":\"1319\",\"type\":\"Selection\"},{\"attributes\":{\"formatter\":{\"id\":\"1315\"},\"ticker\":{\"id\":\"1278\"},\"visible\":false},\"id\":\"1277\",\"type\":\"LinearAxis\"},{\"attributes\":{},\"id\":\"1320\",\"type\":\"UnionRenderers\"},{\"attributes\":{},\"id\":\"1273\",\"type\":\"LinearScale\"},{\"attributes\":{\"line_alpha\":0.1,\"line_width\":4,\"x\":{\"field\":\"x\"},\"y\":{\"field\":\"y\"}},\"id\":\"1303\",\"type\":\"Line\"},{\"attributes\":{},\"id\":\"1275\",\"type\":\"LinearScale\"},{\"attributes\":{\"source\":{\"id\":\"1301\"}},\"id\":\"1305\",\"type\":\"CDSView\"},{\"attributes\":{\"axis\":{\"id\":\"1277\"},\"grid_line_color\":null,\"ticker\":null},\"id\":\"1280\",\"type\":\"Grid\"},{\"attributes\":{\"bottom_units\":\"screen\",\"fill_alpha\":0.5,\"fill_color\":\"lightgrey\",\"left_units\":\"screen\",\"level\":\"overlay\",\"line_alpha\":1.0,\"line_color\":\"black\",\"line_dash\":[4,4],\"line_width\":2,\"right_units\":\"screen\",\"top_units\":\"screen\"},\"id\":\"1291\",\"type\":\"BoxAnnotation\"},{\"attributes\":{\"formatter\":{\"id\":\"1313\"},\"ticker\":{\"id\":\"1282\"},\"visible\":false},\"id\":\"1281\",\"type\":\"LinearAxis\"},{\"attributes\":{},\"id\":\"1282\",\"type\":\"BasicTicker\"},{\"attributes\":{},\"id\":\"1278\",\"type\":\"BasicTicker\"},{\"attributes\":{\"data_source\":{\"id\":\"1301\"},\"glyph\":{\"id\":\"1302\"},\"hover_glyph\":null,\"muted_glyph\":null,\"nonselection_glyph\":{\"id\":\"1303\"},\"selection_glyph\":null,\"view\":{\"id\":\"1305\"}},\"id\":\"1304\",\"type\":\"GlyphRenderer\"}],\"root_ids\":[\"1322\"]},\"title\":\"Bokeh Application\",\"version\":\"2.1.0\"}};\n",
       "  var render_items = [{\"docid\":\"7cc4201c-5cc1-4211-aca6-69e75d43756d\",\"root_ids\":[\"1322\"],\"roots\":{\"1322\":\"7791a387-0ff2-451d-aff2-43d871c11881\"}}];\n",
       "  root.Bokeh.embed.embed_items_notebook(docs_json, render_items);\n",
       "\n",
       "  }\n",
       "  if (root.Bokeh !== undefined) {\n",
       "    embed_document(root);\n",
       "  } else {\n",
       "    var attempts = 0;\n",
       "    var timer = setInterval(function(root) {\n",
       "      if (root.Bokeh !== undefined) {\n",
       "        clearInterval(timer);\n",
       "        embed_document(root);\n",
       "      } else {\n",
       "        attempts++;\n",
       "        if (attempts > 100) {\n",
       "          clearInterval(timer);\n",
       "          console.log(\"Bokeh: ERROR: Unable to run BokehJS code because BokehJS library is missing\");\n",
       "        }\n",
       "      }\n",
       "    }, 10, root)\n",
       "  }\n",
       "})(window);"
      ],
      "application/vnd.bokehjs_exec.v0+json": ""
     },
     "metadata": {
      "application/vnd.bokehjs_exec.v0+json": {
       "id": "1322"
      }
     },
     "output_type": "display_data"
    }
   ],
   "source": [
    "nodes, G = tsp_grid_instance(15,15,manhattan=False)\n",
    "plot_tour(nodes, G, nearest_neighbor(G))\n",
    "plot_tour(nodes, G, furthest_insertion(G))\n",
    "plot_tour(nodes, G, solve_tsp(G))"
   ]
  },
  {
   "cell_type": "code",
   "execution_count": 3,
   "metadata": {
    "scrolled": false
   },
   "outputs": [
    {
     "data": {
      "text/html": [
       "\n",
       "\n",
       "\n",
       "\n",
       "\n",
       "\n",
       "  <div class=\"bk-root\" id=\"fe54edbd-0c94-44ba-b04a-715dc9e92f06\" data-root-id=\"1483\"></div>\n"
      ]
     },
     "metadata": {},
     "output_type": "display_data"
    },
    {
     "data": {
      "application/javascript": [
       "(function(root) {\n",
       "  function embed_document(root) {\n",
       "    \n",
       "  var docs_json = {\"30179827-d675-4011-b84e-af9c488a483a\":{\"roots\":{\"references\":[{\"attributes\":{\"children\":[[{\"id\":\"1413\"},0,0],[{\"id\":\"1466\"},1,0],[{\"id\":\"1467\"},2,0]]},\"id\":\"1483\",\"type\":\"GridBox\"},{\"attributes\":{\"args\":{\"cost\":{\"id\":\"1447\"},\"done\":{\"id\":\"1448\"},\"n\":{\"id\":\"1449\"},\"source\":{\"id\":\"1450\"},\"tour\":{\"id\":\"1451\"}},\"code\":\"\\n    if ((parseInt(n.text) - 1) >= 0) {\\n        n.text = (parseInt(n.text) - 1).toString()\\n    }\\n    var iteration = parseInt(n.text)\\n    \\n    if (iteration == source.data['edges_y'].length - 2) {\\n        iteration = iteration - 1\\n    }\\n    \\n    cost.text = source.data['costs'][iteration].toFixed(3)\\n    \\n    if (iteration == source.data['edges_y'].length - 1) {\\n        done.text = \\\"done.\\\"\\n    } else {\\n        done.text = \\\"\\\"\\n    }\\n\\n    tour.data['edges_x'] = source.data['edges_x'][iteration]\\n    tour.data['edges_y'] = source.data['edges_y'][iteration]\\n    tour.change.emit()\\n    \"},\"id\":\"1465\",\"type\":\"CustomJS\"},{\"attributes\":{\"children\":[{\"id\":\"1464\"},{\"id\":\"1462\"}],\"max_width\":400,\"sizing_mode\":\"stretch_both\"},\"id\":\"1466\",\"type\":\"Row\"},{\"attributes\":{\"button_type\":\"success\",\"icon\":null,\"js_event_callbacks\":{\"button_click\":[{\"id\":\"1465\"}]},\"label\":\"Previous\",\"sizing_mode\":\"scale_width\",\"width_policy\":\"fit\"},\"id\":\"1464\",\"type\":\"Button\"},{\"attributes\":{\"background_fill_color\":null,\"below\":[{\"id\":\"1424\"}],\"border_fill_color\":null,\"center\":[{\"id\":\"1427\"},{\"id\":\"1431\"}],\"left\":[{\"id\":\"1428\"}],\"outline_line_color\":null,\"plot_height\":400,\"plot_width\":400,\"renderers\":[{\"id\":\"1455\"},{\"id\":\"1460\"}],\"title\":{\"id\":\"1414\"},\"toolbar\":{\"id\":\"1439\"},\"toolbar_location\":null,\"x_range\":{\"id\":\"1416\"},\"x_scale\":{\"id\":\"1420\"},\"y_range\":{\"id\":\"1418\"},\"y_scale\":{\"id\":\"1422\"}},\"id\":\"1413\",\"subtype\":\"Figure\",\"type\":\"Plot\"},{\"attributes\":{\"formatter\":{\"id\":\"1470\"},\"ticker\":{\"id\":\"1429\"},\"visible\":false},\"id\":\"1428\",\"type\":\"LinearAxis\"},{\"attributes\":{\"active_drag\":\"auto\",\"active_inspect\":\"auto\",\"active_multi\":null,\"active_scroll\":\"auto\",\"active_tap\":\"auto\",\"logo\":null,\"tools\":[{\"id\":\"1432\"},{\"id\":\"1433\"},{\"id\":\"1434\"},{\"id\":\"1435\"},{\"id\":\"1436\"},{\"id\":\"1437\"}]},\"id\":\"1439\",\"type\":\"Toolbar\"},{\"attributes\":{\"end\":4.2,\"start\":-0.2},\"id\":\"1416\",\"type\":\"Range1d\"},{\"attributes\":{\"args\":{\"cost\":{\"id\":\"1447\"},\"done\":{\"id\":\"1448\"},\"n\":{\"id\":\"1449\"},\"source\":{\"id\":\"1450\"},\"tour\":{\"id\":\"1451\"}},\"code\":\"\\n    if ((parseInt(n.text) + 1) < source.data['edges_y'].length) {\\n        n.text = (parseInt(n.text) + 1).toString()\\n    }\\n    var iteration = parseInt(n.text)\\n    \\n    if (iteration == source.data['edges_y'].length - 2) {\\n        iteration = iteration + 1\\n    }\\n    \\n    cost.text = source.data['costs'][iteration].toFixed(3)\\n    \\n    if (iteration == source.data['edges_y'].length - 1) {\\n        done.text = \\\"done.\\\"\\n    } else {\\n        done.text = \\\"\\\"\\n    }\\n\\n    tour.data['edges_x'] = source.data['edges_x'][iteration]\\n    tour.data['edges_y'] = source.data['edges_y'][iteration]\\n    tour.change.emit()\\n    \"},\"id\":\"1463\",\"type\":\"CustomJS\"},{\"attributes\":{},\"id\":\"1437\",\"type\":\"HelpTool\"},{\"attributes\":{\"end\":4.2,\"start\":-0.2},\"id\":\"1418\",\"type\":\"Range1d\"},{\"attributes\":{},\"id\":\"1474\",\"type\":\"Selection\"},{\"attributes\":{},\"id\":\"1432\",\"type\":\"PanTool\"},{\"attributes\":{},\"id\":\"1435\",\"type\":\"SaveTool\"},{\"attributes\":{},\"id\":\"1481\",\"type\":\"Selection\"},{\"attributes\":{\"text\":\"\"},\"id\":\"1414\",\"type\":\"Title\"},{\"attributes\":{\"source\":{\"id\":\"1457\"}},\"id\":\"1461\",\"type\":\"CDSView\"},{\"attributes\":{},\"id\":\"1420\",\"type\":\"LinearScale\"},{\"attributes\":{\"fill_color\":{\"value\":\"steelblue\"},\"line_color\":{\"value\":\"steelblue\"},\"size\":{\"units\":\"screen\",\"value\":8},\"x\":{\"field\":\"x\"},\"y\":{\"field\":\"y\"}},\"id\":\"1458\",\"type\":\"Circle\"},{\"attributes\":{\"data\":{\"costs\":[0,1.0,2.0,3.0,4.0,5.0,6.0,7.0,9.0,10.0,11.0,12.0,13.0,14.0,15.0,16.0,19.0,20.0,21.0,22.0,23.0,24.0,25.0,26.0,28.0,32.0],\"edges_x\":[[0.0],[0.0,0.0],[0.0,0.0,1.0],[0.0,0.0,1.0,2.0],[0.0,0.0,1.0,2.0,3.0],[0.0,0.0,1.0,2.0,3.0,3.0],[0.0,0.0,1.0,2.0,3.0,3.0,2.0],[0.0,0.0,1.0,2.0,3.0,3.0,2.0,1.0],[0.0,0.0,1.0,2.0,3.0,3.0,2.0,1.0,1.0],[0.0,0.0,1.0,2.0,3.0,3.0,2.0,1.0,1.0,2.0],[0.0,0.0,1.0,2.0,3.0,3.0,2.0,1.0,1.0,2.0,2.0],[0.0,0.0,1.0,2.0,3.0,3.0,2.0,1.0,1.0,2.0,2.0,3.0],[0.0,0.0,1.0,2.0,3.0,3.0,2.0,1.0,1.0,2.0,2.0,3.0,3.0],[0.0,0.0,1.0,2.0,3.0,3.0,2.0,1.0,1.0,2.0,2.0,3.0,3.0,4.0],[0.0,0.0,1.0,2.0,3.0,3.0,2.0,1.0,1.0,2.0,2.0,3.0,3.0,4.0,4.0],[0.0,0.0,1.0,2.0,3.0,3.0,2.0,1.0,1.0,2.0,2.0,3.0,3.0,4.0,4.0,4.0],[0.0,0.0,1.0,2.0,3.0,3.0,2.0,1.0,1.0,2.0,2.0,3.0,3.0,4.0,4.0,4.0,4.0],[0.0,0.0,1.0,2.0,3.0,3.0,2.0,1.0,1.0,2.0,2.0,3.0,3.0,4.0,4.0,4.0,4.0,4.0],[0.0,0.0,1.0,2.0,3.0,3.0,2.0,1.0,1.0,2.0,2.0,3.0,3.0,4.0,4.0,4.0,4.0,4.0,3.0],[0.0,0.0,1.0,2.0,3.0,3.0,2.0,1.0,1.0,2.0,2.0,3.0,3.0,4.0,4.0,4.0,4.0,4.0,3.0,2.0],[0.0,0.0,1.0,2.0,3.0,3.0,2.0,1.0,1.0,2.0,2.0,3.0,3.0,4.0,4.0,4.0,4.0,4.0,3.0,2.0,1.0],[0.0,0.0,1.0,2.0,3.0,3.0,2.0,1.0,1.0,2.0,2.0,3.0,3.0,4.0,4.0,4.0,4.0,4.0,3.0,2.0,1.0,1.0],[0.0,0.0,1.0,2.0,3.0,3.0,2.0,1.0,1.0,2.0,2.0,3.0,3.0,4.0,4.0,4.0,4.0,4.0,3.0,2.0,1.0,1.0,0.0],[0.0,0.0,1.0,2.0,3.0,3.0,2.0,1.0,1.0,2.0,2.0,3.0,3.0,4.0,4.0,4.0,4.0,4.0,3.0,2.0,1.0,1.0,0.0,0.0],[0.0,0.0,1.0,2.0,3.0,3.0,2.0,1.0,1.0,2.0,2.0,3.0,3.0,4.0,4.0,4.0,4.0,4.0,3.0,2.0,1.0,1.0,0.0,0.0,0.0],[0.0,0.0,1.0,2.0,3.0,3.0,2.0,1.0,1.0,2.0,2.0,3.0,3.0,4.0,4.0,4.0,4.0,4.0,3.0,2.0,1.0,1.0,0.0,0.0,0.0,0.0]],\"edges_y\":[[0.0],[0.0,1.0],[0.0,1.0,1.0],[0.0,1.0,1.0,1.0],[0.0,1.0,1.0,1.0,1.0],[0.0,1.0,1.0,1.0,1.0,0.0],[0.0,1.0,1.0,1.0,1.0,0.0,0.0],[0.0,1.0,1.0,1.0,1.0,0.0,0.0,0.0],[0.0,1.0,1.0,1.0,1.0,0.0,0.0,0.0,2.0],[0.0,1.0,1.0,1.0,1.0,0.0,0.0,0.0,2.0,2.0],[0.0,1.0,1.0,1.0,1.0,0.0,0.0,0.0,2.0,2.0,3.0],[0.0,1.0,1.0,1.0,1.0,0.0,0.0,0.0,2.0,2.0,3.0,3.0],[0.0,1.0,1.0,1.0,1.0,0.0,0.0,0.0,2.0,2.0,3.0,3.0,2.0],[0.0,1.0,1.0,1.0,1.0,0.0,0.0,0.0,2.0,2.0,3.0,3.0,2.0,2.0],[0.0,1.0,1.0,1.0,1.0,0.0,0.0,0.0,2.0,2.0,3.0,3.0,2.0,2.0,1.0],[0.0,1.0,1.0,1.0,1.0,0.0,0.0,0.0,2.0,2.0,3.0,3.0,2.0,2.0,1.0,0.0],[0.0,1.0,1.0,1.0,1.0,0.0,0.0,0.0,2.0,2.0,3.0,3.0,2.0,2.0,1.0,0.0,3.0],[0.0,1.0,1.0,1.0,1.0,0.0,0.0,0.0,2.0,2.0,3.0,3.0,2.0,2.0,1.0,0.0,3.0,4.0],[0.0,1.0,1.0,1.0,1.0,0.0,0.0,0.0,2.0,2.0,3.0,3.0,2.0,2.0,1.0,0.0,3.0,4.0,4.0],[0.0,1.0,1.0,1.0,1.0,0.0,0.0,0.0,2.0,2.0,3.0,3.0,2.0,2.0,1.0,0.0,3.0,4.0,4.0,4.0],[0.0,1.0,1.0,1.0,1.0,0.0,0.0,0.0,2.0,2.0,3.0,3.0,2.0,2.0,1.0,0.0,3.0,4.0,4.0,4.0,4.0],[0.0,1.0,1.0,1.0,1.0,0.0,0.0,0.0,2.0,2.0,3.0,3.0,2.0,2.0,1.0,0.0,3.0,4.0,4.0,4.0,4.0,3.0],[0.0,1.0,1.0,1.0,1.0,0.0,0.0,0.0,2.0,2.0,3.0,3.0,2.0,2.0,1.0,0.0,3.0,4.0,4.0,4.0,4.0,3.0,3.0],[0.0,1.0,1.0,1.0,1.0,0.0,0.0,0.0,2.0,2.0,3.0,3.0,2.0,2.0,1.0,0.0,3.0,4.0,4.0,4.0,4.0,3.0,3.0,2.0],[0.0,1.0,1.0,1.0,1.0,0.0,0.0,0.0,2.0,2.0,3.0,3.0,2.0,2.0,1.0,0.0,3.0,4.0,4.0,4.0,4.0,3.0,3.0,2.0,4.0],[0.0,1.0,1.0,1.0,1.0,0.0,0.0,0.0,2.0,2.0,3.0,3.0,2.0,2.0,1.0,0.0,3.0,4.0,4.0,4.0,4.0,3.0,3.0,2.0,4.0,0.0]]},\"selected\":{\"id\":\"1481\"},\"selection_policy\":{\"id\":\"1482\"}},\"id\":\"1450\",\"type\":\"ColumnDataSource\"},{\"attributes\":{},\"id\":\"1476\",\"type\":\"Selection\"},{\"attributes\":{\"data_source\":{\"id\":\"1457\"},\"glyph\":{\"id\":\"1458\"},\"hover_glyph\":null,\"muted_glyph\":null,\"nonselection_glyph\":{\"id\":\"1459\"},\"selection_glyph\":null,\"view\":{\"id\":\"1461\"}},\"id\":\"1460\",\"type\":\"GlyphRenderer\"},{\"attributes\":{\"fill_alpha\":{\"value\":0.1},\"fill_color\":{\"value\":\"steelblue\"},\"line_alpha\":{\"value\":0.1},\"line_color\":{\"value\":\"steelblue\"},\"size\":{\"units\":\"screen\",\"value\":8},\"x\":{\"field\":\"x\"},\"y\":{\"field\":\"y\"}},\"id\":\"1459\",\"type\":\"Circle\"},{\"attributes\":{\"align\":\"center\",\"text\":\"0\",\"width\":400},\"id\":\"1449\",\"type\":\"Div\"},{\"attributes\":{\"button_type\":\"success\",\"icon\":null,\"js_event_callbacks\":{\"button_click\":[{\"id\":\"1463\"}]},\"label\":\"Next\",\"sizing_mode\":\"scale_width\",\"width_policy\":\"fit\"},\"id\":\"1462\",\"type\":\"Button\"},{\"attributes\":{},\"id\":\"1433\",\"type\":\"WheelZoomTool\"},{\"attributes\":{\"data_source\":{\"id\":\"1451\"},\"glyph\":{\"id\":\"1453\"},\"hover_glyph\":null,\"muted_glyph\":null,\"nonselection_glyph\":{\"id\":\"1454\"},\"selection_glyph\":null,\"view\":{\"id\":\"1456\"}},\"id\":\"1455\",\"type\":\"GlyphRenderer\"},{\"attributes\":{},\"id\":\"1429\",\"type\":\"BasicTicker\"},{\"attributes\":{},\"id\":\"1436\",\"type\":\"ResetTool\"},{\"attributes\":{\"overlay\":{\"id\":\"1438\"}},\"id\":\"1434\",\"type\":\"BoxZoomTool\"},{\"attributes\":{},\"id\":\"1477\",\"type\":\"UnionRenderers\"},{\"attributes\":{\"line_width\":4,\"x\":{\"field\":\"edges_x\"},\"y\":{\"field\":\"edges_y\"}},\"id\":\"1453\",\"type\":\"Line\"},{\"attributes\":{\"align\":\"center\",\"width\":300},\"id\":\"1448\",\"type\":\"Div\"},{\"attributes\":{\"align\":\"center\",\"text\":\"0\",\"width\":350},\"id\":\"1447\",\"type\":\"Div\"},{\"attributes\":{\"line_alpha\":0.1,\"line_width\":4,\"x\":{\"field\":\"edges_x\"},\"y\":{\"field\":\"edges_y\"}},\"id\":\"1454\",\"type\":\"Line\"},{\"attributes\":{\"source\":{\"id\":\"1451\"}},\"id\":\"1456\",\"type\":\"CDSView\"},{\"attributes\":{},\"id\":\"1482\",\"type\":\"UnionRenderers\"},{\"attributes\":{\"data\":{\"x\":[0.0,0.0,0.0,0.0,0.0,1.0,1.0,1.0,1.0,1.0,2.0,2.0,2.0,2.0,2.0,3.0,3.0,3.0,3.0,3.0,4.0,4.0,4.0,4.0,4.0],\"y\":[0.0,1.0,2.0,3.0,4.0,0.0,1.0,2.0,3.0,4.0,0.0,1.0,2.0,3.0,4.0,0.0,1.0,2.0,3.0,4.0,0.0,1.0,2.0,3.0,4.0]},\"selected\":{\"id\":\"1476\"},\"selection_policy\":{\"id\":\"1477\"}},\"id\":\"1457\",\"type\":\"ColumnDataSource\"},{\"attributes\":{\"axis\":{\"id\":\"1428\"},\"dimension\":1,\"grid_line_color\":null,\"ticker\":null},\"id\":\"1431\",\"type\":\"Grid\"},{\"attributes\":{},\"id\":\"1475\",\"type\":\"UnionRenderers\"},{\"attributes\":{},\"id\":\"1422\",\"type\":\"LinearScale\"},{\"attributes\":{},\"id\":\"1472\",\"type\":\"BasicTickFormatter\"},{\"attributes\":{\"data\":{\"edges_x\":[0.0],\"edges_y\":[0.0]},\"selected\":{\"id\":\"1474\"},\"selection_policy\":{\"id\":\"1475\"}},\"id\":\"1451\",\"type\":\"ColumnDataSource\"},{\"attributes\":{},\"id\":\"1470\",\"type\":\"BasicTickFormatter\"},{\"attributes\":{},\"id\":\"1425\",\"type\":\"BasicTicker\"},{\"attributes\":{\"axis\":{\"id\":\"1424\"},\"grid_line_color\":null,\"ticker\":null},\"id\":\"1427\",\"type\":\"Grid\"},{\"attributes\":{\"children\":[{\"id\":\"1447\"},{\"id\":\"1448\"}]},\"id\":\"1467\",\"type\":\"Row\"},{\"attributes\":{\"bottom_units\":\"screen\",\"fill_alpha\":0.5,\"fill_color\":\"lightgrey\",\"left_units\":\"screen\",\"level\":\"overlay\",\"line_alpha\":1.0,\"line_color\":\"black\",\"line_dash\":[4,4],\"line_width\":2,\"right_units\":\"screen\",\"top_units\":\"screen\"},\"id\":\"1438\",\"type\":\"BoxAnnotation\"},{\"attributes\":{\"formatter\":{\"id\":\"1472\"},\"ticker\":{\"id\":\"1425\"},\"visible\":false},\"id\":\"1424\",\"type\":\"LinearAxis\"}],\"root_ids\":[\"1483\"]},\"title\":\"Bokeh Application\",\"version\":\"2.1.0\"}};\n",
       "  var render_items = [{\"docid\":\"30179827-d675-4011-b84e-af9c488a483a\",\"root_ids\":[\"1483\"],\"roots\":{\"1483\":\"fe54edbd-0c94-44ba-b04a-715dc9e92f06\"}}];\n",
       "  root.Bokeh.embed.embed_items_notebook(docs_json, render_items);\n",
       "\n",
       "  }\n",
       "  if (root.Bokeh !== undefined) {\n",
       "    embed_document(root);\n",
       "  } else {\n",
       "    var attempts = 0;\n",
       "    var timer = setInterval(function(root) {\n",
       "      if (root.Bokeh !== undefined) {\n",
       "        clearInterval(timer);\n",
       "        embed_document(root);\n",
       "      } else {\n",
       "        attempts++;\n",
       "        if (attempts > 100) {\n",
       "          clearInterval(timer);\n",
       "          console.log(\"Bokeh: ERROR: Unable to run BokehJS code because BokehJS library is missing\");\n",
       "        }\n",
       "      }\n",
       "    }, 10, root)\n",
       "  }\n",
       "})(window);"
      ],
      "application/vnd.bokehjs_exec.v0+json": ""
     },
     "metadata": {
      "application/vnd.bokehjs_exec.v0+json": {
       "id": "1483"
      }
     },
     "output_type": "display_data"
    }
   ],
   "source": [
    "nodes, G = tsp_grid_instance(5,5,manhattan=False)\n",
    "plot_tsp_heuristic(nodes, G, heuristic='nearest_neighbor', initial=0)"
   ]
  },
  {
   "cell_type": "code",
   "execution_count": 4,
   "metadata": {},
   "outputs": [
    {
     "name": "stdout",
     "output_type": "stream",
     "text": [
      "Heuristic Averages:\n",
      "Random Neighbor: 220.8\n",
      "Nearest Neighbor: 62.2\n",
      "Nearest Insertion: 61.8\n",
      "Furthest Insertion: 57.0\n"
     ]
    }
   ],
   "source": [
    "n = 10\n",
    "random_neighbor_total = 0\n",
    "nearest_neighbor_total = 0\n",
    "nearest_insertion_total = 0\n",
    "furthest_insertion_total = 0\n",
    "for i in range(n):\n",
    "    nodes, G = tsp_grid_instance(6,8,True)\n",
    "    random_neighbor_total += tour_cost(G, random_neighbor(G))\n",
    "    nearest_neighbor_total += tour_cost(G, nearest_neighbor(G))\n",
    "    nearest_insertion_total += tour_cost(G, nearest_insertion(G))\n",
    "    furthest_insertion_total += tour_cost(G, furthest_insertion(G))\n",
    "print(\"Heuristic Averages:\")\n",
    "print(\"Random Neighbor: %s\" % (random_neighbor_total / n))\n",
    "print(\"Nearest Neighbor: %s\" % (nearest_neighbor_total / n))\n",
    "print(\"Nearest Insertion: %s\" % (nearest_insertion_total / n))\n",
    "print(\"Furthest Insertion: %s\" % (furthest_insertion_total / n))"
   ]
  },
  {
   "cell_type": "code",
   "execution_count": 5,
   "metadata": {},
   "outputs": [
    {
     "data": {
      "text/html": [
       "\n",
       "\n",
       "\n",
       "\n",
       "\n",
       "\n",
       "  <div class=\"bk-root\" id=\"a2a3b31a-8429-4c4b-873f-c0baab09ad83\" data-root-id=\"1652\"></div>\n"
      ]
     },
     "metadata": {},
     "output_type": "display_data"
    },
    {
     "data": {
      "application/javascript": [
       "(function(root) {\n",
       "  function embed_document(root) {\n",
       "    \n",
       "  var docs_json = {\"45a5c98d-bd1c-4dd7-9a35-9decfc161f26\":{\"roots\":{\"references\":[{\"attributes\":{\"children\":[[{\"id\":\"1596\"},0,0],[{\"id\":\"1630\"},1,0]]},\"id\":\"1652\",\"type\":\"GridBox\"},{\"attributes\":{\"axis\":{\"id\":\"1611\"},\"dimension\":1,\"grid_line_color\":null,\"ticker\":null},\"id\":\"1614\",\"type\":\"Grid\"},{\"attributes\":{\"formatter\":{\"id\":\"1643\"},\"ticker\":{\"id\":\"1612\"},\"visible\":false},\"id\":\"1611\",\"type\":\"LinearAxis\"},{\"attributes\":{\"source\":{\"id\":\"1631\"}},\"id\":\"1635\",\"type\":\"CDSView\"},{\"attributes\":{\"data\":{\"x\":[0.0,0.0,0.0,0.0,2.0,2.0,2.0,5.0,5.0,5.0,5.0,5.0,5.0,5.0,9.0,10.0,10.0,11.0,11.0,11.0,11.0,11.0,12.0,12.0,12.0,15.0,15.0,15.0,15.0,17.0,18.0,18.0,18.0,18.0,18.0,25.0,25.0,25.0,25.0,25.0,25.0,25.0,25.0,25.0,25.0,25.0,28.0,28.0,28.0,28.0,28.0,28.0,28.0,28.0,28.0,32.0,32.0,33.0,33.0,34.0,34.0,34.0,34.0,34.0,34.0,34.0,35.0,38.0,38.0,38.0,38.0,40.0,41.0,48.0,48.0,48.0,48.0,48.0,51.0,51.0,51.0,51.0,51.0,51.0,51.0,51.0,51.0,54.0,55.0,55.0,55.0,55.0,56.0,56.0,56.0,57.0,57.0,57.0,57.0,57.0,57.0,57.0,58.0,61.0,61.0,61.0,61.0,61.0,61.0,61.0,63.0,64.0,71.0,71.0,71.0,72.0,73.0,74.0,74.0,74.0,74.0,74.0,74.0,74.0,74.0,74.0,74.0,78.0,79.0,80.0,80.0,80.0,80.0,80.0,81.0,84.0,84.0,84.0,84.0,84.0,84.0,84.0,84.0,84.0,86.0,87.0,87.0,87.0,87.0,87.0,87.0,87.0,87.0,87.0,87.0,87.0,87.0,87.0,87.0,87.0,87.0,87.0,87.0,87.0,94.0,94.0,94.0,94.0,94.0,94.0,94.0,94.0,97.0,97.0,97.0,97.0,97.0,97.0,97.0,97.0,102.0,103.0,103.0,103.0,103.0,103.0,103.0,103.0,104.0,107.0,107.0,107.0,107.0,107.0,109.0,109.0,109.0,109.0,110.0,117.0,117.0,117.0,120.0,120.0,120.0,120.0,120.0,120.0,120.0,120.0,120.0,120.0,120.0,120.0,123.0,124.0,124.0,124.0,125.0,125.0,126.0,126.0,126.0,126.0,127.0,127.0,130.0,130.0,130.0,130.0,130.0,130.0,130.0,130.0,130.0,130.0,132.0],\"y\":[15.0,33.0,51.0,60.0,21.0,28.0,44.0,13.0,18.0,33.0,36.0,40.0,64.0,8.0,10.0,10.0,42.0,10.0,17.0,31.0,34.0,42.0,10.0,5.0,61.0,13.0,18.0,64.0,8.0,21.0,11.0,13.0,14.0,15.0,28.0,10.0,12.0,14.0,16.0,18.0,20.0,23.0,32.0,34.0,45.0,61.0,12.0,15.0,19.0,23.0,27.0,37.0,40.0,42.0,7.0,10.0,13.0,10.0,13.0,10.0,13.0,28.0,36.0,39.0,5.0,51.0,24.0,27.0,37.0,40.0,42.0,45.0,61.0,10.0,32.0,34.0,45.0,61.0,11.0,14.0,18.0,22.0,26.0,37.0,40.0,42.0,7.0,0.0,0.0,19.0,22.0,26.0,10.0,20.0,24.0,10.0,12.0,28.0,36.0,39.0,5.0,51.0,15.0,11.0,18.0,21.0,25.0,37.0,40.0,42.0,45.0,61.0,54.0,56.0,6.0,0.0,0.0,13.0,19.0,25.0,31.0,37.0,43.0,49.0,59.0,62.0,64.0,10.0,10.0,10.0,47.0,50.0,58.0,61.0,10.0,13.0,19.0,25.0,31.0,37.0,43.0,59.0,62.0,64.0,6.0,11.0,13.0,15.0,17.0,19.0,21.0,23.0,25.0,27.0,29.0,31.0,33.0,35.0,37.0,39.0,41.0,42.0,44.0,45.0,10.0,20.0,22.0,34.0,35.0,36.0,52.0,6.0,11.0,15.0,25.0,28.0,30.0,57.0,60.0,64.0,10.0,10.0,16.0,24.0,27.0,42.0,55.0,58.0,12.0,11.0,15.0,25.0,28.0,30.0,34.0,35.0,36.0,6.0,52.0,50.0,52.0,63.0,11.0,15.0,19.0,25.0,29.0,34.0,40.0,44.0,55.0,58.0,60.0,7.0,26.0,37.0,40.0,44.0,38.0,42.0,46.0,5.0,54.0,57.0,12.0,16.0,15.0,19.0,25.0,29.0,34.0,39.0,43.0,55.0,58.0,60.0,63.0]},\"selected\":{\"id\":\"1649\"},\"selection_policy\":{\"id\":\"1650\"}},\"id\":\"1636\",\"type\":\"ColumnDataSource\"},{\"attributes\":{\"source\":{\"id\":\"1636\"}},\"id\":\"1640\",\"type\":\"CDSView\"},{\"attributes\":{\"background_fill_color\":null,\"below\":[{\"id\":\"1607\"}],\"border_fill_color\":null,\"center\":[{\"id\":\"1610\"},{\"id\":\"1614\"}],\"left\":[{\"id\":\"1611\"}],\"outline_line_color\":null,\"plot_height\":400,\"plot_width\":400,\"renderers\":[{\"id\":\"1634\"},{\"id\":\"1639\"}],\"title\":{\"id\":\"1597\"},\"toolbar\":{\"id\":\"1622\"},\"toolbar_location\":null,\"x_range\":{\"id\":\"1599\"},\"x_scale\":{\"id\":\"1603\"},\"y_range\":{\"id\":\"1601\"},\"y_scale\":{\"id\":\"1605\"}},\"id\":\"1596\",\"subtype\":\"Figure\",\"type\":\"Plot\"},{\"attributes\":{\"data_source\":{\"id\":\"1636\"},\"glyph\":{\"id\":\"1637\"},\"hover_glyph\":null,\"muted_glyph\":null,\"nonselection_glyph\":{\"id\":\"1638\"},\"selection_glyph\":null,\"view\":{\"id\":\"1640\"}},\"id\":\"1639\",\"type\":\"GlyphRenderer\"},{\"attributes\":{},\"id\":\"1616\",\"type\":\"WheelZoomTool\"},{\"attributes\":{\"line_alpha\":0.1,\"line_width\":4,\"x\":{\"field\":\"x\"},\"y\":{\"field\":\"y\"}},\"id\":\"1633\",\"type\":\"Line\"},{\"attributes\":{\"end\":67.2,\"start\":-3.2},\"id\":\"1601\",\"type\":\"Range1d\"},{\"attributes\":{\"line_width\":4,\"x\":{\"field\":\"x\"},\"y\":{\"field\":\"y\"}},\"id\":\"1632\",\"type\":\"Line\"},{\"attributes\":{},\"id\":\"1612\",\"type\":\"BasicTicker\"},{\"attributes\":{\"data_source\":{\"id\":\"1631\"},\"glyph\":{\"id\":\"1632\"},\"hover_glyph\":null,\"muted_glyph\":null,\"nonselection_glyph\":{\"id\":\"1633\"},\"selection_glyph\":null,\"view\":{\"id\":\"1635\"}},\"id\":\"1634\",\"type\":\"GlyphRenderer\"},{\"attributes\":{\"fill_alpha\":{\"value\":0.1},\"fill_color\":{\"value\":\"steelblue\"},\"line_alpha\":{\"value\":0.1},\"line_color\":{\"value\":\"steelblue\"},\"size\":{\"units\":\"screen\",\"value\":8},\"x\":{\"field\":\"x\"},\"y\":{\"field\":\"y\"}},\"id\":\"1638\",\"type\":\"Circle\"},{\"attributes\":{},\"id\":\"1649\",\"type\":\"Selection\"},{\"attributes\":{},\"id\":\"1643\",\"type\":\"BasicTickFormatter\"},{\"attributes\":{\"align\":\"center\",\"text\":\"1073.381\",\"width\":400},\"id\":\"1630\",\"type\":\"Div\"},{\"attributes\":{},\"id\":\"1650\",\"type\":\"UnionRenderers\"},{\"attributes\":{\"data\":{\"x\":[0.0,5.0,2.0,2.0,0.0,5.0,5.0,5.0,2.0,0.0,0.0,5.0,12.0,15.0,25.0,34.0,41.0,48.0,57.0,63.0,61.0,61.0,57.0,57.0,61.0,74.0,74.0,80.0,80.0,74.0,71.0,71.0,64.0,74.0,74.0,74.0,80.0,80.0,84.0,84.0,84.0,97.0,97.0,97.0,94.0,103.0,103.0,110.0,117.0,117.0,120.0,120.0,117.0,120.0,126.0,130.0,132.0,130.0,130.0,126.0,126.0,130.0,130.0,130.0,130.0,130.0,130.0,130.0,127.0,127.0,126.0,120.0,120.0,120.0,120.0,120.0,123.0,120.0,120.0,124.0,125.0,124.0,125.0,124.0,120.0,120.0,103.0,109.0,109.0,109.0,107.0,107.0,107.0,103.0,103.0,103.0,107.0,107.0,109.0,104.0,103.0,102.0,97.0,97.0,94.0,94.0,86.0,87.0,87.0,84.0,87.0,87.0,87.0,84.0,87.0,87.0,94.0,94.0,97.0,97.0,97.0,94.0,94.0,94.0,87.0,87.0,87.0,87.0,87.0,84.0,84.0,87.0,87.0,87.0,87.0,87.0,87.0,87.0,84.0,84.0,74.0,74.0,74.0,74.0,78.0,79.0,80.0,81.0,73.0,72.0,71.0,61.0,58.0,61.0,61.0,61.0,57.0,56.0,55.0,51.0,51.0,55.0,56.0,55.0,51.0,51.0,51.0,57.0,57.0,56.0,57.0,55.0,54.0,51.0,48.0,34.0,32.0,33.0,34.0,34.0,33.0,32.0,28.0,28.0,25.0,25.0,25.0,25.0,28.0,28.0,35.0,34.0,38.0,48.0,48.0,51.0,51.0,51.0,48.0,40.0,38.0,38.0,38.0,34.0,34.0,28.0,28.0,28.0,25.0,11.0,10.0,11.0,11.0,18.0,25.0,25.0,28.0,28.0,25.0,25.0,25.0,17.0,15.0,11.0,15.0,18.0,18.0,18.0,18.0,15.0,12.0,12.0,11.0,10.0,9.0,5.0,5.0,0.0],\"y\":[15.0,18.0,21.0,28.0,33.0,33.0,36.0,40.0,44.0,51.0,60.0,64.0,61.0,64.0,61.0,51.0,61.0,61.0,51.0,45.0,42.0,40.0,39.0,36.0,37.0,37.0,43.0,47.0,50.0,49.0,54.0,56.0,61.0,64.0,62.0,59.0,61.0,58.0,59.0,62.0,64.0,64.0,60.0,57.0,52.0,58.0,55.0,52.0,50.0,52.0,55.0,58.0,63.0,60.0,57.0,60.0,63.0,58.0,55.0,54.0,46.0,43.0,39.0,34.0,29.0,25.0,19.0,15.0,16.0,12.0,5.0,7.0,11.0,15.0,19.0,25.0,26.0,29.0,34.0,37.0,38.0,40.0,42.0,44.0,44.0,40.0,42.0,36.0,35.0,34.0,30.0,28.0,25.0,27.0,24.0,16.0,15.0,11.0,6.0,12.0,10.0,10.0,15.0,11.0,10.0,6.0,6.0,11.0,13.0,13.0,15.0,17.0,19.0,19.0,21.0,23.0,20.0,22.0,25.0,28.0,30.0,34.0,35.0,36.0,39.0,41.0,42.0,44.0,45.0,43.0,37.0,37.0,35.0,33.0,31.0,29.0,27.0,25.0,25.0,31.0,31.0,25.0,19.0,13.0,10.0,10.0,10.0,10.0,0.0,0.0,6.0,11.0,15.0,18.0,21.0,25.0,28.0,24.0,26.0,26.0,22.0,22.0,20.0,19.0,18.0,14.0,11.0,12.0,10.0,10.0,5.0,0.0,0.0,7.0,10.0,5.0,10.0,10.0,10.0,13.0,13.0,13.0,12.0,7.0,10.0,12.0,14.0,16.0,15.0,19.0,24.0,28.0,27.0,32.0,34.0,37.0,40.0,42.0,45.0,45.0,42.0,40.0,37.0,36.0,39.0,37.0,40.0,42.0,45.0,42.0,42.0,34.0,31.0,28.0,34.0,32.0,27.0,23.0,23.0,20.0,18.0,21.0,18.0,17.0,13.0,15.0,14.0,13.0,11.0,8.0,5.0,10.0,10.0,10.0,10.0,8.0,13.0,15.0]},\"selected\":{\"id\":\"1647\"},\"selection_policy\":{\"id\":\"1648\"}},\"id\":\"1631\",\"type\":\"ColumnDataSource\"},{\"attributes\":{\"formatter\":{\"id\":\"1645\"},\"ticker\":{\"id\":\"1608\"},\"visible\":false},\"id\":\"1607\",\"type\":\"LinearAxis\"},{\"attributes\":{\"text\":\"\"},\"id\":\"1597\",\"type\":\"Title\"},{\"attributes\":{},\"id\":\"1615\",\"type\":\"PanTool\"},{\"attributes\":{},\"id\":\"1608\",\"type\":\"BasicTicker\"},{\"attributes\":{\"bottom_units\":\"screen\",\"fill_alpha\":0.5,\"fill_color\":\"lightgrey\",\"left_units\":\"screen\",\"level\":\"overlay\",\"line_alpha\":1.0,\"line_color\":\"black\",\"line_dash\":[4,4],\"line_width\":2,\"right_units\":\"screen\",\"top_units\":\"screen\"},\"id\":\"1621\",\"type\":\"BoxAnnotation\"},{\"attributes\":{},\"id\":\"1645\",\"type\":\"BasicTickFormatter\"},{\"attributes\":{},\"id\":\"1619\",\"type\":\"ResetTool\"},{\"attributes\":{\"overlay\":{\"id\":\"1621\"}},\"id\":\"1617\",\"type\":\"BoxZoomTool\"},{\"attributes\":{},\"id\":\"1620\",\"type\":\"HelpTool\"},{\"attributes\":{},\"id\":\"1618\",\"type\":\"SaveTool\"},{\"attributes\":{},\"id\":\"1648\",\"type\":\"UnionRenderers\"},{\"attributes\":{},\"id\":\"1605\",\"type\":\"LinearScale\"},{\"attributes\":{\"axis\":{\"id\":\"1607\"},\"grid_line_color\":null,\"ticker\":null},\"id\":\"1610\",\"type\":\"Grid\"},{\"attributes\":{},\"id\":\"1603\",\"type\":\"LinearScale\"},{\"attributes\":{\"end\":138.6,\"start\":-6.6000000000000005},\"id\":\"1599\",\"type\":\"Range1d\"},{\"attributes\":{\"active_drag\":\"auto\",\"active_inspect\":\"auto\",\"active_multi\":null,\"active_scroll\":\"auto\",\"active_tap\":\"auto\",\"logo\":null,\"tools\":[{\"id\":\"1615\"},{\"id\":\"1616\"},{\"id\":\"1617\"},{\"id\":\"1618\"},{\"id\":\"1619\"},{\"id\":\"1620\"}]},\"id\":\"1622\",\"type\":\"Toolbar\"},{\"attributes\":{},\"id\":\"1647\",\"type\":\"Selection\"},{\"attributes\":{\"fill_color\":{\"value\":\"steelblue\"},\"line_color\":{\"value\":\"steelblue\"},\"size\":{\"units\":\"screen\",\"value\":8},\"x\":{\"field\":\"x\"},\"y\":{\"field\":\"y\"}},\"id\":\"1637\",\"type\":\"Circle\"}],\"root_ids\":[\"1652\"]},\"title\":\"Bokeh Application\",\"version\":\"2.1.0\"}};\n",
       "  var render_items = [{\"docid\":\"45a5c98d-bd1c-4dd7-9a35-9decfc161f26\",\"root_ids\":[\"1652\"],\"roots\":{\"1652\":\"a2a3b31a-8429-4c4b-873f-c0baab09ad83\"}}];\n",
       "  root.Bokeh.embed.embed_items_notebook(docs_json, render_items);\n",
       "\n",
       "  }\n",
       "  if (root.Bokeh !== undefined) {\n",
       "    embed_document(root);\n",
       "  } else {\n",
       "    var attempts = 0;\n",
       "    var timer = setInterval(function(root) {\n",
       "      if (root.Bokeh !== undefined) {\n",
       "        clearInterval(timer);\n",
       "        embed_document(root);\n",
       "      } else {\n",
       "        attempts++;\n",
       "        if (attempts > 100) {\n",
       "          clearInterval(timer);\n",
       "          console.log(\"Bokeh: ERROR: Unable to run BokehJS code because BokehJS library is missing\");\n",
       "        }\n",
       "      }\n",
       "    }, 10, root)\n",
       "  }\n",
       "})(window);"
      ],
      "application/vnd.bokehjs_exec.v0+json": ""
     },
     "metadata": {
      "application/vnd.bokehjs_exec.v0+json": {
       "id": "1652"
      }
     },
     "output_type": "display_data"
    }
   ],
   "source": [
    "nodes = pd.read_csv('data/xqg237.csv', index_col=0)\n",
    "G = create_G(nodes, manhattan=False)\n",
    "plot_tour(nodes, G, solve_tsp(G))"
   ]
  },
  {
   "cell_type": "code",
   "execution_count": 6,
   "metadata": {},
   "outputs": [],
   "source": [
    "# TODO: Finish generating an etching instance\n",
    "nodes = pd.read_csv('data/xqf131.csv', index_col=0)\n",
    "nodes = nodes.rename(columns={'x':'x_start', 'y':'y_start'})\n",
    "nodes['x_end'] = 0\n",
    "nodes['y_end'] = 0\n",
    "for index, row in nodes.iterrows():\n",
    "    rand = randrange(4)\n",
    "    length = randrange(2,4)\n",
    "    if rand == 0:\n",
    "        nodes.at[index,'x_end'] = row['x_start'] + length\n",
    "        nodes.at[index,'y_end'] = row['y_start']\n",
    "    if rand == 1:\n",
    "        nodes.at[index,'x_end'] = row['x_start']\n",
    "        nodes.at[index,'y_end'] = row['y_start'] + length\n",
    "    if rand == 2:\n",
    "        nodes.at[index,'x_end'] = row['x_start'] - length\n",
    "        nodes.at[index,'y_end'] = row['y_start']\n",
    "    if rand == 3:\n",
    "        nodes.at[index,'x_end'] = row['x_start']\n",
    "        nodes.at[index,'y_end'] = row['y_start'] - length"
   ]
  },
  {
   "cell_type": "code",
   "execution_count": 7,
   "metadata": {},
   "outputs": [
    {
     "data": {
      "text/html": [
       "\n",
       "\n",
       "\n",
       "\n",
       "\n",
       "\n",
       "  <div class=\"bk-root\" id=\"91cadf4f-8b32-487d-adca-34c8fb14ea10\" data-root-id=\"1835\"></div>\n"
      ]
     },
     "metadata": {},
     "output_type": "display_data"
    },
    {
     "data": {
      "application/javascript": [
       "(function(root) {\n",
       "  function embed_document(root) {\n",
       "    \n",
       "  var docs_json = {\"0c6a8fd4-db98-4c2e-a21a-86ae60f9ebe8\":{\"roots\":{\"references\":[{\"attributes\":{\"children\":[[{\"id\":\"1765\"},0,0]]},\"id\":\"1835\",\"type\":\"GridBox\"},{\"attributes\":{\"overlay\":{\"id\":\"1790\"}},\"id\":\"1786\",\"type\":\"BoxZoomTool\"},{\"attributes\":{},\"id\":\"1784\",\"type\":\"PanTool\"},{\"attributes\":{},\"id\":\"1785\",\"type\":\"WheelZoomTool\"},{\"attributes\":{\"line_alpha\":0.1,\"line_dash\":[6],\"line_width\":2,\"x\":{\"field\":\"x\"},\"y\":{\"field\":\"y\"}},\"id\":\"1807\",\"type\":\"Line\"},{\"attributes\":{\"fill_alpha\":{\"value\":0.1},\"fill_color\":{\"value\":\"#DC0000\"},\"line_alpha\":{\"value\":0.1},\"line_color\":{\"value\":\"#DC0000\"},\"size\":{\"units\":\"screen\",\"value\":5},\"x\":{\"field\":\"x\"},\"y\":{\"field\":\"y\"}},\"id\":\"1812\",\"type\":\"Circle\"},{\"attributes\":{},\"id\":\"1787\",\"type\":\"SaveTool\"},{\"attributes\":{},\"id\":\"1829\",\"type\":\"UnionRenderers\"},{\"attributes\":{\"text\":\"\"},\"id\":\"1766\",\"type\":\"Title\"},{\"attributes\":{\"source\":{\"id\":\"1805\"}},\"id\":\"1809\",\"type\":\"CDSView\"},{\"attributes\":{},\"id\":\"1789\",\"type\":\"HelpTool\"},{\"attributes\":{},\"id\":\"1830\",\"type\":\"Selection\"},{\"attributes\":{\"data\":{\"x\":[0,-3,0,3,5,8,8,8,8,7,2,5,10,9,10,11,12,12,15,15,13,15,15,15,15,18,18,15,18,16,18,16,18,18,18,18,16,18,18,18,18,16,16,18,22,25,25,25,22,25,25,25,27,28,28,28,28,28,28,28,30,32,32,33,33,30,36,37,36,34,31,31,34,34,38,37,38,38,38,38,40,44,43,41,41,41,48,46,48,51,53,59,54,57,54,61,58,63,61,71,71,71,73,73,74,74,74,74,77,74,74,72,77,80,78,78,78,82,79,79,80,78,78,81,84,84,87,84,81,84,107],\"y\":[16,26,29,39,0,13,19,25,31,37,43,10,0,8,7,12,7,8,11,22,25,28,35,40,10,14,15,15,15,19,19,23,22,29,26,29,33,37,40,42,43,42,44,47,11,18,24,21,24,24,25,26,9,18,22,26,28,31,37,45,47,23,28,13,23,29,31,15,26,32,31,38,43,2,17,31,19,17,32,32,25,23,32,36,32,38,19,27,3,48,47,25,12,23,44,43,47,3,22,13,10,13,45,47,15,19,22,21,29,33,41,6,19,10,29,33,41,10,35,34,8,41,5,20,23,27,29,32,38,8,24]},\"selected\":{\"id\":\"1832\"},\"selection_policy\":{\"id\":\"1833\"}},\"id\":\"1815\",\"type\":\"ColumnDataSource\"},{\"attributes\":{\"data\":{\"xs\":[[0.0,0.0],[0.0,-3.0],[0.0,0.0],[0.0,3.0],[2.0,5.0],[5.0,8.0],[5.0,8.0],[5.0,8.0],[5.0,8.0],[5.0,7.0],[5.0,2.0],[5.0,5.0],[8.0,10.0],[9.0,9.0],[10.0,10.0],[11.0,11.0],[12.0,12.0],[12.0,12.0],[15.0,15.0],[15.0,15.0],[15.0,13.0],[15.0,15.0],[15.0,15.0],[15.0,15.0],[15.0,15.0],[18.0,18.0],[18.0,18.0],[18.0,15.0],[18.0,18.0],[18.0,16.0],[18.0,18.0],[18.0,16.0],[18.0,18.0],[18.0,18.0],[18.0,18.0],[18.0,18.0],[18.0,16.0],[18.0,18.0],[18.0,18.0],[18.0,18.0],[18.0,18.0],[18.0,16.0],[18.0,16.0],[18.0,18.0],[25.0,22.0],[25.0,25.0],[25.0,25.0],[25.0,25.0],[25.0,22.0],[25.0,25.0],[25.0,25.0],[25.0,25.0],[25.0,27.0],[28.0,28.0],[28.0,28.0],[28.0,28.0],[28.0,28.0],[28.0,28.0],[28.0,28.0],[28.0,28.0],[28.0,30.0],[32.0,32.0],[32.0,32.0],[33.0,33.0],[33.0,33.0],[33.0,30.0],[33.0,36.0],[34.0,37.0],[34.0,36.0],[34.0,34.0],[34.0,31.0],[34.0,31.0],[34.0,34.0],[34.0,34.0],[35.0,38.0],[35.0,37.0],[38.0,38.0],[38.0,38.0],[38.0,38.0],[38.0,38.0],[40.0,40.0],[41.0,44.0],[41.0,43.0],[41.0,41.0],[41.0,41.0],[41.0,41.0],[48.0,48.0],[48.0,46.0],[48.0,48.0],[51.0,51.0],[51.0,53.0],[56.0,59.0],[57.0,54.0],[57.0,57.0],[57.0,54.0],[61.0,61.0],[61.0,58.0],[63.0,63.0],[64.0,61.0],[71.0,71.0],[71.0,71.0],[71.0,71.0],[71.0,73.0],[71.0,73.0],[74.0,74.0],[74.0,74.0],[74.0,74.0],[74.0,74.0],[74.0,77.0],[74.0,74.0],[74.0,74.0],[74.0,72.0],[77.0,77.0],[78.0,80.0],[78.0,78.0],[78.0,78.0],[78.0,78.0],[79.0,82.0],[79.0,79.0],[79.0,79.0],[80.0,80.0],[80.0,78.0],[80.0,78.0],[81.0,81.0],[84.0,84.0],[84.0,84.0],[84.0,87.0],[84.0,84.0],[84.0,81.0],[84.0,84.0],[107.0,107.0]],\"ys\":[[13.0,16.0],[26.0,26.0],[27.0,29.0],[39.0,39.0],[0.0,0.0],[13.0,13.0],[19.0,19.0],[25.0,25.0],[31.0,31.0],[37.0,37.0],[43.0,43.0],[8.0,10.0],[0.0,0.0],[10.0,8.0],[10.0,7.0],[10.0,12.0],[10.0,7.0],[5.0,8.0],[13.0,11.0],[19.0,22.0],[25.0,25.0],[31.0,28.0],[37.0,35.0],[43.0,40.0],[8.0,10.0],[11.0,14.0],[13.0,15.0],[15.0,15.0],[17.0,15.0],[19.0,19.0],[21.0,19.0],[23.0,23.0],[25.0,22.0],[27.0,29.0],[29.0,26.0],[31.0,29.0],[33.0,33.0],[35.0,37.0],[37.0,40.0],[39.0,42.0],[41.0,43.0],[42.0,42.0],[44.0,44.0],[45.0,47.0],[11.0,11.0],[15.0,18.0],[22.0,24.0],[23.0,21.0],[24.0,24.0],[26.0,24.0],[28.0,25.0],[29.0,26.0],[9.0,9.0],[16.0,18.0],[20.0,22.0],[28.0,26.0],[30.0,28.0],[34.0,31.0],[40.0,37.0],[43.0,45.0],[47.0,47.0],[26.0,23.0],[31.0,28.0],[15.0,13.0],[26.0,23.0],[29.0,29.0],[31.0,31.0],[15.0,15.0],[26.0,26.0],[29.0,32.0],[31.0,31.0],[38.0,38.0],[41.0,43.0],[5.0,2.0],[17.0,17.0],[31.0,31.0],[16.0,19.0],[20.0,17.0],[30.0,32.0],[34.0,32.0],[22.0,25.0],[23.0,23.0],[32.0,32.0],[34.0,36.0],[35.0,32.0],[36.0,38.0],[22.0,19.0],[27.0,27.0],[6.0,3.0],[45.0,48.0],[47.0,47.0],[25.0,25.0],[12.0,12.0],[25.0,23.0],[44.0,44.0],[45.0,43.0],[47.0,47.0],[6.0,3.0],[22.0,22.0],[11.0,13.0],[13.0,10.0],[16.0,13.0],[45.0,45.0],[47.0,47.0],[12.0,15.0],[16.0,19.0],[20.0,22.0],[24.0,21.0],[29.0,29.0],[35.0,33.0],[39.0,41.0],[6.0,6.0],[21.0,19.0],[10.0,10.0],[32.0,29.0],[35.0,33.0],[39.0,41.0],[10.0,10.0],[33.0,35.0],[37.0,34.0],[10.0,8.0],[41.0,41.0],[5.0,5.0],[17.0,20.0],[20.0,23.0],[24.0,27.0],[29.0,29.0],[34.0,32.0],[38.0,38.0],[6.0,8.0],[27.0,24.0]]},\"selected\":{\"id\":\"1826\"},\"selection_policy\":{\"id\":\"1827\"}},\"id\":\"1800\",\"type\":\"ColumnDataSource\"},{\"attributes\":{},\"id\":\"1828\",\"type\":\"Selection\"},{\"attributes\":{\"data\":{\"x\":[0.0,0.0,0.0,0.0,2.0,5.0,5.0,5.0,5.0,5.0,5.0,5.0,8.0,9.0,10.0,11.0,12.0,12.0,15.0,15.0,15.0,15.0,15.0,15.0,15.0,18.0,18.0,18.0,18.0,18.0,18.0,18.0,18.0,18.0,18.0,18.0,18.0,18.0,18.0,18.0,18.0,18.0,18.0,18.0,25.0,25.0,25.0,25.0,25.0,25.0,25.0,25.0,25.0,28.0,28.0,28.0,28.0,28.0,28.0,28.0,28.0,32.0,32.0,33.0,33.0,33.0,33.0,34.0,34.0,34.0,34.0,34.0,34.0,34.0,35.0,35.0,38.0,38.0,38.0,38.0,40.0,41.0,41.0,41.0,41.0,41.0,48.0,48.0,48.0,51.0,51.0,56.0,57.0,57.0,57.0,61.0,61.0,63.0,64.0,71.0,71.0,71.0,71.0,71.0,74.0,74.0,74.0,74.0,74.0,74.0,74.0,74.0,77.0,78.0,78.0,78.0,78.0,79.0,79.0,79.0,80.0,80.0,80.0,81.0,84.0,84.0,84.0,84.0,84.0,84.0,107.0],\"y\":[13.0,26.0,27.0,39.0,0.0,13.0,19.0,25.0,31.0,37.0,43.0,8.0,0.0,10.0,10.0,10.0,10.0,5.0,13.0,19.0,25.0,31.0,37.0,43.0,8.0,11.0,13.0,15.0,17.0,19.0,21.0,23.0,25.0,27.0,29.0,31.0,33.0,35.0,37.0,39.0,41.0,42.0,44.0,45.0,11.0,15.0,22.0,23.0,24.0,26.0,28.0,29.0,9.0,16.0,20.0,28.0,30.0,34.0,40.0,43.0,47.0,26.0,31.0,15.0,26.0,29.0,31.0,15.0,26.0,29.0,31.0,38.0,41.0,5.0,17.0,31.0,16.0,20.0,30.0,34.0,22.0,23.0,32.0,34.0,35.0,36.0,22.0,27.0,6.0,45.0,47.0,25.0,12.0,25.0,44.0,45.0,47.0,6.0,22.0,11.0,13.0,16.0,45.0,47.0,12.0,16.0,20.0,24.0,29.0,35.0,39.0,6.0,21.0,10.0,32.0,35.0,39.0,10.0,33.0,37.0,10.0,41.0,5.0,17.0,20.0,24.0,29.0,34.0,38.0,6.0,27.0]},\"selected\":{\"id\":\"1830\"},\"selection_policy\":{\"id\":\"1831\"}},\"id\":\"1810\",\"type\":\"ColumnDataSource\"},{\"attributes\":{\"line_width\":{\"value\":2},\"xs\":{\"field\":\"xs\"},\"ys\":{\"field\":\"ys\"}},\"id\":\"1801\",\"type\":\"MultiLine\"},{\"attributes\":{},\"id\":\"1831\",\"type\":\"UnionRenderers\"},{\"attributes\":{\"data_source\":{\"id\":\"1805\"},\"glyph\":{\"id\":\"1806\"},\"hover_glyph\":null,\"muted_glyph\":null,\"nonselection_glyph\":{\"id\":\"1807\"},\"selection_glyph\":null,\"view\":{\"id\":\"1809\"}},\"id\":\"1808\",\"type\":\"GlyphRenderer\"},{\"attributes\":{\"data_source\":{\"id\":\"1810\"},\"glyph\":{\"id\":\"1811\"},\"hover_glyph\":null,\"muted_glyph\":null,\"nonselection_glyph\":{\"id\":\"1812\"},\"selection_glyph\":null,\"view\":{\"id\":\"1814\"}},\"id\":\"1813\",\"type\":\"GlyphRenderer\"},{\"attributes\":{\"data\":{\"x\":[0.0,0.0,5.0,8.0,15.0,15.0,15.0,13.0,18.0,18.0,18.0,16.0,18.0,18.0,18.0,16.0,18.0,18.0,18.0,15.0,15.0,15.0,18.0,18.0,18.0,18.0,25.0,25.0,25.0,22.0,25.0,27.0,28.0,28.0,28.0,28.0,28.0,28.0,25.0,25.0,25.0,22.0,25.0,25.0,25.0,25.0,25.0,25.0,25.0,25.0,32.0,32.0,33.0,33.0,34.0,36.0,34.0,31.0,32.0,32.0,33.0,30.0,28.0,28.0,28.0,28.0,33.0,36.0,35.0,37.0,38.0,38.0,38.0,38.0,41.0,43.0,41.0,41.0,41.0,41.0,41.0,41.0,41.0,44.0,40.0,40.0,38.0,38.0,38.0,38.0,35.0,38.0,34.0,37.0,33.0,33.0,34.0,34.0,48.0,48.0,63.0,63.0,74.0,72.0,74.0,74.0,74.0,74.0,74.0,74.0,77.0,77.0,81.0,81.0,84.0,84.0,84.0,84.0,84.0,84.0,84.0,81.0,80.0,78.0,78.0,78.0,79.0,79.0,79.0,79.0,78.0,78.0,78.0,78.0,74.0,77.0,74.0,74.0,74.0,74.0,71.0,73.0,71.0,73.0,61.0,61.0,61.0,58.0,57.0,54.0,51.0,51.0,51.0,53.0,56.0,59.0,57.0,57.0,57.0,54.0,71.0,71.0,71.0,71.0,71.0,71.0,78.0,80.0,79.0,82.0,80.0,80.0,80.0,78.0,84.0,84.0,84.0,87.0,107.0,107.0,74.0,74.0,64.0,61.0,48.0,48.0,48.0,46.0,34.0,34.0,34.0,34.0,34.0,31.0,28.0,28.0,28.0,28.0,28.0,30.0,18.0,18.0,18.0,16.0,15.0,15.0,15.0,15.0,18.0,18.0,18.0,18.0,18.0,18.0,18.0,16.0,18.0,18.0,18.0,16.0,15.0,15.0,18.0,18.0,18.0,18.0,18.0,18.0,5.0,8.0,5.0,7.0,5.0,2.0,0.0,3.0,0.0,0.0,0.0,-3.0,5.0,8.0,5.0,8.0,10.0,10.0,12.0,12.0,12.0,12.0,15.0,15.0,11.0,11.0,9.0,9.0,8.0,10.0,2.0,5.0,5.0,5.0,0.0,0.0],\"y\":[13.0,16.0,19.0,19.0,19.0,22.0,25.0,25.0,25.0,22.0,23.0,23.0,21.0,19.0,19.0,19.0,17.0,15.0,15.0,15.0,13.0,11.0,11.0,14.0,13.0,15.0,15.0,18.0,11.0,11.0,9.0,9.0,16.0,18.0,20.0,22.0,28.0,26.0,26.0,24.0,24.0,24.0,23.0,21.0,22.0,24.0,28.0,25.0,29.0,26.0,26.0,23.0,26.0,23.0,26.0,26.0,31.0,31.0,31.0,28.0,29.0,29.0,30.0,28.0,34.0,31.0,31.0,31.0,31.0,31.0,30.0,32.0,34.0,32.0,32.0,32.0,34.0,36.0,36.0,38.0,35.0,32.0,23.0,23.0,22.0,25.0,20.0,17.0,16.0,19.0,17.0,17.0,15.0,15.0,15.0,13.0,5.0,2.0,6.0,3.0,6.0,3.0,6.0,6.0,12.0,15.0,16.0,19.0,20.0,22.0,21.0,19.0,17.0,20.0,20.0,23.0,24.0,27.0,34.0,32.0,38.0,38.0,41.0,41.0,39.0,41.0,37.0,34.0,33.0,35.0,35.0,33.0,32.0,29.0,29.0,29.0,35.0,33.0,39.0,41.0,45.0,45.0,47.0,47.0,45.0,43.0,47.0,47.0,44.0,44.0,45.0,48.0,47.0,47.0,25.0,25.0,25.0,23.0,12.0,12.0,11.0,13.0,16.0,13.0,13.0,10.0,10.0,10.0,10.0,10.0,10.0,8.0,5.0,5.0,6.0,8.0,29.0,29.0,27.0,24.0,24.0,21.0,22.0,22.0,22.0,19.0,27.0,27.0,29.0,32.0,41.0,43.0,38.0,38.0,40.0,37.0,43.0,45.0,47.0,47.0,45.0,47.0,44.0,44.0,43.0,40.0,37.0,35.0,35.0,37.0,37.0,40.0,39.0,42.0,42.0,42.0,41.0,43.0,33.0,33.0,31.0,28.0,29.0,26.0,27.0,29.0,31.0,29.0,31.0,31.0,37.0,37.0,43.0,43.0,39.0,39.0,27.0,29.0,26.0,26.0,25.0,25.0,13.0,13.0,10.0,7.0,5.0,8.0,10.0,7.0,8.0,10.0,10.0,12.0,10.0,8.0,0.0,0.0,0.0,0.0,8.0,10.0,13.0,16.0]},\"selected\":{\"id\":\"1828\"},\"selection_policy\":{\"id\":\"1829\"}},\"id\":\"1805\",\"type\":\"ColumnDataSource\"},{\"attributes\":{},\"id\":\"1832\",\"type\":\"Selection\"},{\"attributes\":{\"source\":{\"id\":\"1815\"}},\"id\":\"1819\",\"type\":\"CDSView\"},{\"attributes\":{\"source\":{\"id\":\"1800\"}},\"id\":\"1804\",\"type\":\"CDSView\"},{\"attributes\":{},\"id\":\"1833\",\"type\":\"UnionRenderers\"},{\"attributes\":{\"background_fill_color\":null,\"below\":[{\"id\":\"1776\"}],\"border_fill_color\":null,\"center\":[{\"id\":\"1779\"},{\"id\":\"1783\"}],\"left\":[{\"id\":\"1780\"}],\"outline_line_color\":null,\"plot_height\":400,\"plot_width\":800,\"renderers\":[{\"id\":\"1803\"},{\"id\":\"1808\"},{\"id\":\"1813\"},{\"id\":\"1818\"}],\"title\":{\"id\":\"1766\"},\"toolbar\":{\"id\":\"1791\"},\"toolbar_location\":null,\"x_range\":{\"id\":\"1768\"},\"x_scale\":{\"id\":\"1772\"},\"y_range\":{\"id\":\"1770\"},\"y_scale\":{\"id\":\"1774\"}},\"id\":\"1765\",\"subtype\":\"Figure\",\"type\":\"Plot\"},{\"attributes\":{\"line_alpha\":{\"value\":0.1},\"line_width\":{\"value\":2},\"xs\":{\"field\":\"xs\"},\"ys\":{\"field\":\"ys\"}},\"id\":\"1802\",\"type\":\"MultiLine\"},{\"attributes\":{\"data_source\":{\"id\":\"1800\"},\"glyph\":{\"id\":\"1801\"},\"hover_glyph\":null,\"muted_glyph\":null,\"nonselection_glyph\":{\"id\":\"1802\"},\"selection_glyph\":null,\"view\":{\"id\":\"1804\"}},\"id\":\"1803\",\"type\":\"GlyphRenderer\"},{\"attributes\":{\"fill_alpha\":{\"value\":0.1},\"fill_color\":{\"value\":\"steelblue\"},\"line_alpha\":{\"value\":0.1},\"line_color\":{\"value\":\"steelblue\"},\"size\":{\"units\":\"screen\",\"value\":5},\"x\":{\"field\":\"x\"},\"y\":{\"field\":\"y\"}},\"id\":\"1817\",\"type\":\"Circle\"},{\"attributes\":{\"axis\":{\"id\":\"1780\"},\"dimension\":1,\"grid_line_color\":null,\"ticker\":null},\"id\":\"1783\",\"type\":\"Grid\"},{\"attributes\":{\"data_source\":{\"id\":\"1815\"},\"glyph\":{\"id\":\"1816\"},\"hover_glyph\":null,\"muted_glyph\":null,\"nonselection_glyph\":{\"id\":\"1817\"},\"selection_glyph\":null,\"view\":{\"id\":\"1819\"}},\"id\":\"1818\",\"type\":\"GlyphRenderer\"},{\"attributes\":{\"end\":112.5,\"start\":-8.5},\"id\":\"1768\",\"type\":\"Range1d\"},{\"attributes\":{},\"id\":\"1781\",\"type\":\"BasicTicker\"},{\"attributes\":{\"fill_color\":{\"value\":\"steelblue\"},\"line_color\":{\"value\":\"steelblue\"},\"size\":{\"units\":\"screen\",\"value\":5},\"x\":{\"field\":\"x\"},\"y\":{\"field\":\"y\"}},\"id\":\"1816\",\"type\":\"Circle\"},{\"attributes\":{},\"id\":\"1774\",\"type\":\"LinearScale\"},{\"attributes\":{\"fill_color\":{\"value\":\"#DC0000\"},\"line_color\":{\"value\":\"#DC0000\"},\"size\":{\"units\":\"screen\",\"value\":5},\"x\":{\"field\":\"x\"},\"y\":{\"field\":\"y\"}},\"id\":\"1811\",\"type\":\"Circle\"},{\"attributes\":{},\"id\":\"1772\",\"type\":\"LinearScale\"},{\"attributes\":{\"end\":50.4,\"start\":-2.4000000000000004},\"id\":\"1770\",\"type\":\"Range1d\"},{\"attributes\":{\"source\":{\"id\":\"1810\"}},\"id\":\"1814\",\"type\":\"CDSView\"},{\"attributes\":{\"line_dash\":[6],\"line_width\":2,\"x\":{\"field\":\"x\"},\"y\":{\"field\":\"y\"}},\"id\":\"1806\",\"type\":\"Line\"},{\"attributes\":{},\"id\":\"1777\",\"type\":\"BasicTicker\"},{\"attributes\":{\"axis\":{\"id\":\"1776\"},\"grid_line_color\":null,\"ticker\":null},\"id\":\"1779\",\"type\":\"Grid\"},{\"attributes\":{},\"id\":\"1788\",\"type\":\"ResetTool\"},{\"attributes\":{},\"id\":\"1824\",\"type\":\"BasicTickFormatter\"},{\"attributes\":{\"bottom_units\":\"screen\",\"fill_alpha\":0.5,\"fill_color\":\"lightgrey\",\"left_units\":\"screen\",\"level\":\"overlay\",\"line_alpha\":1.0,\"line_color\":\"black\",\"line_dash\":[4,4],\"line_width\":2,\"right_units\":\"screen\",\"top_units\":\"screen\"},\"id\":\"1790\",\"type\":\"BoxAnnotation\"},{\"attributes\":{},\"id\":\"1826\",\"type\":\"Selection\"},{\"attributes\":{\"formatter\":{\"id\":\"1824\"},\"ticker\":{\"id\":\"1777\"},\"visible\":false},\"id\":\"1776\",\"type\":\"LinearAxis\"},{\"attributes\":{\"formatter\":{\"id\":\"1822\"},\"ticker\":{\"id\":\"1781\"},\"visible\":false},\"id\":\"1780\",\"type\":\"LinearAxis\"},{\"attributes\":{},\"id\":\"1827\",\"type\":\"UnionRenderers\"},{\"attributes\":{\"active_drag\":\"auto\",\"active_inspect\":\"auto\",\"active_multi\":null,\"active_scroll\":\"auto\",\"active_tap\":\"auto\",\"logo\":null,\"tools\":[{\"id\":\"1784\"},{\"id\":\"1785\"},{\"id\":\"1786\"},{\"id\":\"1787\"},{\"id\":\"1788\"},{\"id\":\"1789\"}]},\"id\":\"1791\",\"type\":\"Toolbar\"},{\"attributes\":{},\"id\":\"1822\",\"type\":\"BasicTickFormatter\"}],\"root_ids\":[\"1835\"]},\"title\":\"Bokeh Application\",\"version\":\"2.1.0\"}};\n",
       "  var render_items = [{\"docid\":\"0c6a8fd4-db98-4c2e-a21a-86ae60f9ebe8\",\"root_ids\":[\"1835\"],\"roots\":{\"1835\":\"91cadf4f-8b32-487d-adca-34c8fb14ea10\"}}];\n",
       "  root.Bokeh.embed.embed_items_notebook(docs_json, render_items);\n",
       "\n",
       "  }\n",
       "  if (root.Bokeh !== undefined) {\n",
       "    embed_document(root);\n",
       "  } else {\n",
       "    var attempts = 0;\n",
       "    var timer = setInterval(function(root) {\n",
       "      if (root.Bokeh !== undefined) {\n",
       "        clearInterval(timer);\n",
       "        embed_document(root);\n",
       "      } else {\n",
       "        attempts++;\n",
       "        if (attempts > 100) {\n",
       "          clearInterval(timer);\n",
       "          console.log(\"Bokeh: ERROR: Unable to run BokehJS code because BokehJS library is missing\");\n",
       "        }\n",
       "      }\n",
       "    }, 10, root)\n",
       "  }\n",
       "})(window);"
      ],
      "application/vnd.bokehjs_exec.v0+json": ""
     },
     "metadata": {
      "application/vnd.bokehjs_exec.v0+json": {
       "id": "1835"
      }
     },
     "output_type": "display_data"
    }
   ],
   "source": [
    "G = create_vlsi_G(nodes)\n",
    "plot_vlsi_tour(nodes,G,solve_tsp(G))"
   ]
  }
 ],
 "metadata": {
  "kernelspec": {
   "display_name": "Python 3",
   "language": "python",
   "name": "python3"
  },
  "language_info": {
   "codemirror_mode": {
    "name": "ipython",
    "version": 3
   },
   "file_extension": ".py",
   "mimetype": "text/x-python",
   "name": "python",
   "nbconvert_exporter": "python",
   "pygments_lexer": "ipython3",
   "version": "3.6.10"
  }
 },
 "nbformat": 4,
 "nbformat_minor": 4
}
