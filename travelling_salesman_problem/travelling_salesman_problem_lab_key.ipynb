{
 "cells": [
  {
   "cell_type": "markdown",
   "metadata": {},
   "source": [
    "# Traveling Salesman Problem (TSP)"
   ]
  },
  {
   "cell_type": "markdown",
   "metadata": {},
   "source": [
    "**Objectives**\n",
    "\n",
    "- Introduce students to a real world problem solved by OR practitioners\n",
    "- Demonstrate the use of heuristics to obtain good solutions to optimization problems\n",
    "- Give students an appreciation of the difficulty of solving optimization problems exactly\n",
    "\n",
    "**Reading:** Read Handout 2 on the traveling salesman problem.\n",
    "\n",
    "**Brief description:** Finding an optimal solution to a Traveling Salesman Problem, and proving that it is, in fact, an optimal solution, is a difficult task. In practice, when a feasible solution to a difficult problem needs to be provided quickly, one often resorts to using heuristics, i.e., procedures for generating feasible solutions, or improving existing ones, that can be executed quickly and, hopefully, produce a pretty good result. In this lab we will consider several such heuristic procedures for the TSP.\n",
    "\n",
    "*TSP VLSI instances adapted from [TSPLIB](http://comopt.ifi.uni-heidelberg.de/software/TSPLIB95/) and [Bonn Institute](http://www.math.uwaterloo.ca/tsp/vlsi/index.html)*\n",
    "\n",
    "<font color='blue'> <b>Solutions are shown blue.</b> </font> <br>\n",
    "<font color='red'> <b>Instuctor comments are shown in red.</b> </font>"
   ]
  },
  {
   "cell_type": "markdown",
   "metadata": {},
   "source": [
    "<font color='red'>A tool we might want to use: [TSP DIY](https://www.math.uwaterloo.ca/tsp/app/diy.html)  </font>"
   ]
  },
  {
   "cell_type": "markdown",
   "metadata": {},
   "source": [
    "## Jupyter Notebook Introduction"
   ]
  },
  {
   "cell_type": "markdown",
   "metadata": {},
   "source": [
    "The labs for this course will be done through Jupyter Notebooks. Each lab will be distributed to you via a `.zip` file that contains a Jupyter Notebook (which has file extension `.ipynb`) and any other files necessary to run that lab. This may include supplementary python code, images, or data.\n",
    "\n",
    "In this first lab, we will begin with a breif introduction to Jupyter Notebooks. The notebook consists of cells of two main types: text (Markdown) and Code. This notebook is comprised only of text cells up until this point. The text is written in a lightweight markup language called Markdown. It allows you to do things like make tables and mathematical equations. Right now, you are seeing the Markdown text after it is already compiled. Double-click the text `CLICK HERE` to see the Markdown before it is compiled."
   ]
  },
  {
   "cell_type": "markdown",
   "metadata": {},
   "source": [
    "`CLICK HERE` Now that you have double-clicked, you should be able to type in this cell. Try it out:\n",
    "\n",
    "\n",
    "\n",
    "To compile this text, press either CTRL+Enter to compile or Shift+Enter to compile and move to the next cell."
   ]
  },
  {
   "cell_type": "markdown",
   "metadata": {},
   "source": [
    "Here are some other cool things you can do in Markdown!\n",
    "\n",
    "- **Bold** and *italics*\n",
    "- Equations: \n",
    "    - $3x_1 + 4x_2 = 10$ \n",
    "    - $\\frac{2}{3} + \\frac{2}{3} = \\frac{4}{3}$\n",
    "    - $2^x = 4$\n",
    "- Tables:\n",
    "\n",
    "|   | 1 | 2 | 3 | 4 |\n",
    "|---|---|---|---|---|\n",
    "| a |   |   |   |   | \n",
    "| b |   |   |   |   | "
   ]
  },
  {
   "cell_type": "markdown",
   "metadata": {},
   "source": [
    "And now to the most important cell of a Jupyter Notebook: the Code cell! We can use a code cell to write and run Python code. Let's look at an example. Like compiling the Markdown cell, to run the code in a Code cell we can use either CTRL+Enter to compile or Shift+Enter to compile and move to the next cell. "
   ]
  },
  {
   "cell_type": "code",
   "execution_count": 1,
   "metadata": {},
   "outputs": [],
   "source": [
    "# This is a code cell\n",
    "# We use # to make a comment in a code cell\n",
    "a = 7"
   ]
  },
  {
   "cell_type": "markdown",
   "metadata": {},
   "source": [
    "The cell  above creates a variable called `a` and sets its value to 7. This variable and its value carries over to the other cells of the notebook. To the left of a code cell, we can see a number in brackets if the cell has been run. If it has not been run, there is no number. The number indicates the order in which the cells are run. If a variable is on the last line of code cell, its value will be output under the cell."
   ]
  },
  {
   "cell_type": "code",
   "execution_count": 2,
   "metadata": {},
   "outputs": [
    {
     "data": {
      "text/plain": [
       "7"
      ]
     },
     "execution_count": 2,
     "metadata": {},
     "output_type": "execute_result"
    }
   ],
   "source": [
    "a"
   ]
  },
  {
   "cell_type": "markdown",
   "metadata": {},
   "source": [
    "Here are a few examples of some different operations in python."
   ]
  },
  {
   "cell_type": "code",
   "execution_count": 3,
   "metadata": {},
   "outputs": [
    {
     "name": "stdout",
     "output_type": "stream",
     "text": [
      "10\n",
      "21\n",
      "2\n"
     ]
    },
    {
     "data": {
      "text/plain": [
       "[1, 2, 3]"
      ]
     },
     "execution_count": 3,
     "metadata": {},
     "output_type": "execute_result"
    }
   ],
   "source": [
    "# addition and multiplication\n",
    "b = 3\n",
    "c = a + b\n",
    "print(c)\n",
    "d = a * b\n",
    "print(d)\n",
    "\n",
    "# lists\n",
    "array = [1,2,3]\n",
    "print(array[1])\n",
    "\n",
    "array # recall, since this is on the last line, its value will be printed"
   ]
  },
  {
   "cell_type": "markdown",
   "metadata": {},
   "source": [
    "As we do more and more in Jupyter Notebooks throughout the rest of these labs, we will introduce new tools and functionality. **NOTE:** It is important to mention that this course does not require any previous programming experience nor is it a programming course. The programming in this course will be limited to small changes to code and writing mathematical models. \n",
    "\n",
    "On to the lab!"
   ]
  },
  {
   "cell_type": "markdown",
   "metadata": {},
   "source": [
    "## Part I: Solving TSP Manually"
   ]
  },
  {
   "cell_type": "code",
   "execution_count": 4,
   "metadata": {},
   "outputs": [
    {
     "data": {
      "text/html": [
       "\n",
       "    <div class=\"bk-root\">\n",
       "        <a href=\"https://bokeh.org\" target=\"_blank\" class=\"bk-logo bk-logo-small bk-logo-notebook\"></a>\n",
       "        <span id=\"1001\">Loading BokehJS ...</span>\n",
       "    </div>"
      ]
     },
     "metadata": {},
     "output_type": "display_data"
    },
    {
     "data": {
      "application/javascript": [
       "\n",
       "(function(root) {\n",
       "  function now() {\n",
       "    return new Date();\n",
       "  }\n",
       "\n",
       "  var force = true;\n",
       "\n",
       "  if (typeof root._bokeh_onload_callbacks === \"undefined\" || force === true) {\n",
       "    root._bokeh_onload_callbacks = [];\n",
       "    root._bokeh_is_loading = undefined;\n",
       "  }\n",
       "\n",
       "  var JS_MIME_TYPE = 'application/javascript';\n",
       "  var HTML_MIME_TYPE = 'text/html';\n",
       "  var EXEC_MIME_TYPE = 'application/vnd.bokehjs_exec.v0+json';\n",
       "  var CLASS_NAME = 'output_bokeh rendered_html';\n",
       "\n",
       "  /**\n",
       "   * Render data to the DOM node\n",
       "   */\n",
       "  function render(props, node) {\n",
       "    var script = document.createElement(\"script\");\n",
       "    node.appendChild(script);\n",
       "  }\n",
       "\n",
       "  /**\n",
       "   * Handle when an output is cleared or removed\n",
       "   */\n",
       "  function handleClearOutput(event, handle) {\n",
       "    var cell = handle.cell;\n",
       "\n",
       "    var id = cell.output_area._bokeh_element_id;\n",
       "    var server_id = cell.output_area._bokeh_server_id;\n",
       "    // Clean up Bokeh references\n",
       "    if (id != null && id in Bokeh.index) {\n",
       "      Bokeh.index[id].model.document.clear();\n",
       "      delete Bokeh.index[id];\n",
       "    }\n",
       "\n",
       "    if (server_id !== undefined) {\n",
       "      // Clean up Bokeh references\n",
       "      var cmd = \"from bokeh.io.state import curstate; print(curstate().uuid_to_server['\" + server_id + \"'].get_sessions()[0].document.roots[0]._id)\";\n",
       "      cell.notebook.kernel.execute(cmd, {\n",
       "        iopub: {\n",
       "          output: function(msg) {\n",
       "            var id = msg.content.text.trim();\n",
       "            if (id in Bokeh.index) {\n",
       "              Bokeh.index[id].model.document.clear();\n",
       "              delete Bokeh.index[id];\n",
       "            }\n",
       "          }\n",
       "        }\n",
       "      });\n",
       "      // Destroy server and session\n",
       "      var cmd = \"import bokeh.io.notebook as ion; ion.destroy_server('\" + server_id + \"')\";\n",
       "      cell.notebook.kernel.execute(cmd);\n",
       "    }\n",
       "  }\n",
       "\n",
       "  /**\n",
       "   * Handle when a new output is added\n",
       "   */\n",
       "  function handleAddOutput(event, handle) {\n",
       "    var output_area = handle.output_area;\n",
       "    var output = handle.output;\n",
       "\n",
       "    // limit handleAddOutput to display_data with EXEC_MIME_TYPE content only\n",
       "    if ((output.output_type != \"display_data\") || (!output.data.hasOwnProperty(EXEC_MIME_TYPE))) {\n",
       "      return\n",
       "    }\n",
       "\n",
       "    var toinsert = output_area.element.find(\".\" + CLASS_NAME.split(' ')[0]);\n",
       "\n",
       "    if (output.metadata[EXEC_MIME_TYPE][\"id\"] !== undefined) {\n",
       "      toinsert[toinsert.length - 1].firstChild.textContent = output.data[JS_MIME_TYPE];\n",
       "      // store reference to embed id on output_area\n",
       "      output_area._bokeh_element_id = output.metadata[EXEC_MIME_TYPE][\"id\"];\n",
       "    }\n",
       "    if (output.metadata[EXEC_MIME_TYPE][\"server_id\"] !== undefined) {\n",
       "      var bk_div = document.createElement(\"div\");\n",
       "      bk_div.innerHTML = output.data[HTML_MIME_TYPE];\n",
       "      var script_attrs = bk_div.children[0].attributes;\n",
       "      for (var i = 0; i < script_attrs.length; i++) {\n",
       "        toinsert[toinsert.length - 1].firstChild.setAttribute(script_attrs[i].name, script_attrs[i].value);\n",
       "        toinsert[toinsert.length - 1].firstChild.textContent = bk_div.children[0].textContent\n",
       "      }\n",
       "      // store reference to server id on output_area\n",
       "      output_area._bokeh_server_id = output.metadata[EXEC_MIME_TYPE][\"server_id\"];\n",
       "    }\n",
       "  }\n",
       "\n",
       "  function register_renderer(events, OutputArea) {\n",
       "\n",
       "    function append_mime(data, metadata, element) {\n",
       "      // create a DOM node to render to\n",
       "      var toinsert = this.create_output_subarea(\n",
       "        metadata,\n",
       "        CLASS_NAME,\n",
       "        EXEC_MIME_TYPE\n",
       "      );\n",
       "      this.keyboard_manager.register_events(toinsert);\n",
       "      // Render to node\n",
       "      var props = {data: data, metadata: metadata[EXEC_MIME_TYPE]};\n",
       "      render(props, toinsert[toinsert.length - 1]);\n",
       "      element.append(toinsert);\n",
       "      return toinsert\n",
       "    }\n",
       "\n",
       "    /* Handle when an output is cleared or removed */\n",
       "    events.on('clear_output.CodeCell', handleClearOutput);\n",
       "    events.on('delete.Cell', handleClearOutput);\n",
       "\n",
       "    /* Handle when a new output is added */\n",
       "    events.on('output_added.OutputArea', handleAddOutput);\n",
       "\n",
       "    /**\n",
       "     * Register the mime type and append_mime function with output_area\n",
       "     */\n",
       "    OutputArea.prototype.register_mime_type(EXEC_MIME_TYPE, append_mime, {\n",
       "      /* Is output safe? */\n",
       "      safe: true,\n",
       "      /* Index of renderer in `output_area.display_order` */\n",
       "      index: 0\n",
       "    });\n",
       "  }\n",
       "\n",
       "  // register the mime type if in Jupyter Notebook environment and previously unregistered\n",
       "  if (root.Jupyter !== undefined) {\n",
       "    var events = require('base/js/events');\n",
       "    var OutputArea = require('notebook/js/outputarea').OutputArea;\n",
       "\n",
       "    if (OutputArea.prototype.mime_types().indexOf(EXEC_MIME_TYPE) == -1) {\n",
       "      register_renderer(events, OutputArea);\n",
       "    }\n",
       "  }\n",
       "\n",
       "  \n",
       "  if (typeof (root._bokeh_timeout) === \"undefined\" || force === true) {\n",
       "    root._bokeh_timeout = Date.now() + 5000;\n",
       "    root._bokeh_failed_load = false;\n",
       "  }\n",
       "\n",
       "  var NB_LOAD_WARNING = {'data': {'text/html':\n",
       "     \"<div style='background-color: #fdd'>\\n\"+\n",
       "     \"<p>\\n\"+\n",
       "     \"BokehJS does not appear to have successfully loaded. If loading BokehJS from CDN, this \\n\"+\n",
       "     \"may be due to a slow or bad network connection. Possible fixes:\\n\"+\n",
       "     \"</p>\\n\"+\n",
       "     \"<ul>\\n\"+\n",
       "     \"<li>re-rerun `output_notebook()` to attempt to load from CDN again, or</li>\\n\"+\n",
       "     \"<li>use INLINE resources instead, as so:</li>\\n\"+\n",
       "     \"</ul>\\n\"+\n",
       "     \"<code>\\n\"+\n",
       "     \"from bokeh.resources import INLINE\\n\"+\n",
       "     \"output_notebook(resources=INLINE)\\n\"+\n",
       "     \"</code>\\n\"+\n",
       "     \"</div>\"}};\n",
       "\n",
       "  function display_loaded() {\n",
       "    var el = document.getElementById(\"1001\");\n",
       "    if (el != null) {\n",
       "      el.textContent = \"BokehJS is loading...\";\n",
       "    }\n",
       "    if (root.Bokeh !== undefined) {\n",
       "      if (el != null) {\n",
       "        el.textContent = \"BokehJS \" + root.Bokeh.version + \" successfully loaded.\";\n",
       "      }\n",
       "    } else if (Date.now() < root._bokeh_timeout) {\n",
       "      setTimeout(display_loaded, 100)\n",
       "    }\n",
       "  }\n",
       "\n",
       "\n",
       "  function run_callbacks() {\n",
       "    try {\n",
       "      root._bokeh_onload_callbacks.forEach(function(callback) {\n",
       "        if (callback != null)\n",
       "          callback();\n",
       "      });\n",
       "    } finally {\n",
       "      delete root._bokeh_onload_callbacks\n",
       "    }\n",
       "    console.debug(\"Bokeh: all callbacks have finished\");\n",
       "  }\n",
       "\n",
       "  function load_libs(css_urls, js_urls, callback) {\n",
       "    if (css_urls == null) css_urls = [];\n",
       "    if (js_urls == null) js_urls = [];\n",
       "\n",
       "    root._bokeh_onload_callbacks.push(callback);\n",
       "    if (root._bokeh_is_loading > 0) {\n",
       "      console.debug(\"Bokeh: BokehJS is being loaded, scheduling callback at\", now());\n",
       "      return null;\n",
       "    }\n",
       "    if (js_urls == null || js_urls.length === 0) {\n",
       "      run_callbacks();\n",
       "      return null;\n",
       "    }\n",
       "    console.debug(\"Bokeh: BokehJS not loaded, scheduling load and callback at\", now());\n",
       "    root._bokeh_is_loading = css_urls.length + js_urls.length;\n",
       "\n",
       "    function on_load() {\n",
       "      root._bokeh_is_loading--;\n",
       "      if (root._bokeh_is_loading === 0) {\n",
       "        console.debug(\"Bokeh: all BokehJS libraries/stylesheets loaded\");\n",
       "        run_callbacks()\n",
       "      }\n",
       "    }\n",
       "\n",
       "    function on_error() {\n",
       "      console.error(\"failed to load \" + url);\n",
       "    }\n",
       "\n",
       "    for (var i = 0; i < css_urls.length; i++) {\n",
       "      var url = css_urls[i];\n",
       "      const element = document.createElement(\"link\");\n",
       "      element.onload = on_load;\n",
       "      element.onerror = on_error;\n",
       "      element.rel = \"stylesheet\";\n",
       "      element.type = \"text/css\";\n",
       "      element.href = url;\n",
       "      console.debug(\"Bokeh: injecting link tag for BokehJS stylesheet: \", url);\n",
       "      document.body.appendChild(element);\n",
       "    }\n",
       "\n",
       "    const hashes = {\"https://cdn.bokeh.org/bokeh/release/bokeh-2.1.0.min.js\": \"YobFyzPeVUsFQydHkJGsJL1kyfHnWxOlPc3EwaV22TmBaeGoXHLWx5aRRVPS9xlE\", \"https://cdn.bokeh.org/bokeh/release/bokeh-widgets-2.1.0.min.js\": \"NuAg9+TcTQQqvQCTtkCneRrpkTiMhhfiq0KHiBzx8ECiKiLWXHN6i6ia3q7b3eHu\", \"https://cdn.bokeh.org/bokeh/release/bokeh-tables-2.1.0.min.js\": \"uMVqQc8JqHitD67bXTn9a06Mrk3EiHRaZ18EJENQenAKJ/KL71SakdXYomZQpGRr\", \"https://cdn.bokeh.org/bokeh/release/bokeh-gl-2.1.0.min.js\": \"u+eGuEXC8aw0VSCm2mH+b/tQEAitUOYiR1H6SuIVEdUmXsf4vN8m/SmXpmjb7U/X\"};\n",
       "\n",
       "    for (var i = 0; i < js_urls.length; i++) {\n",
       "      var url = js_urls[i];\n",
       "      var element = document.createElement('script');\n",
       "      element.onload = on_load;\n",
       "      element.onerror = on_error;\n",
       "      element.async = false;\n",
       "      element.src = url;\n",
       "      if (url in hashes) {\n",
       "        element.crossOrigin = \"anonymous\";\n",
       "        element.integrity = \"sha384-\" + hashes[url];\n",
       "      }\n",
       "      console.debug(\"Bokeh: injecting script tag for BokehJS library: \", url);\n",
       "      document.head.appendChild(element);\n",
       "    }\n",
       "  };\n",
       "\n",
       "  function inject_raw_css(css) {\n",
       "    const element = document.createElement(\"style\");\n",
       "    element.appendChild(document.createTextNode(css));\n",
       "    document.body.appendChild(element);\n",
       "  }\n",
       "\n",
       "  \n",
       "  var js_urls = [\"https://cdn.bokeh.org/bokeh/release/bokeh-2.1.0.min.js\", \"https://cdn.bokeh.org/bokeh/release/bokeh-widgets-2.1.0.min.js\", \"https://cdn.bokeh.org/bokeh/release/bokeh-tables-2.1.0.min.js\", \"https://cdn.bokeh.org/bokeh/release/bokeh-gl-2.1.0.min.js\"];\n",
       "  var css_urls = [];\n",
       "  \n",
       "\n",
       "  var inline_js = [\n",
       "    function(Bokeh) {\n",
       "      Bokeh.set_log_level(\"info\");\n",
       "    },\n",
       "    function(Bokeh) {\n",
       "    \n",
       "    \n",
       "    }\n",
       "  ];\n",
       "\n",
       "  function run_inline_js() {\n",
       "    \n",
       "    if (root.Bokeh !== undefined || force === true) {\n",
       "      \n",
       "    for (var i = 0; i < inline_js.length; i++) {\n",
       "      inline_js[i].call(root, root.Bokeh);\n",
       "    }\n",
       "    if (force === true) {\n",
       "        display_loaded();\n",
       "      }} else if (Date.now() < root._bokeh_timeout) {\n",
       "      setTimeout(run_inline_js, 100);\n",
       "    } else if (!root._bokeh_failed_load) {\n",
       "      console.log(\"Bokeh: BokehJS failed to load within specified timeout.\");\n",
       "      root._bokeh_failed_load = true;\n",
       "    } else if (force !== true) {\n",
       "      var cell = $(document.getElementById(\"1001\")).parents('.cell').data().cell;\n",
       "      cell.output_area.append_execute_result(NB_LOAD_WARNING)\n",
       "    }\n",
       "\n",
       "  }\n",
       "\n",
       "  if (root._bokeh_is_loading === 0) {\n",
       "    console.debug(\"Bokeh: BokehJS loaded, going straight to plotting\");\n",
       "    run_inline_js();\n",
       "  } else {\n",
       "    load_libs(css_urls, js_urls, function() {\n",
       "      console.debug(\"Bokeh: BokehJS plotting callback run at\", now());\n",
       "      run_inline_js();\n",
       "    });\n",
       "  }\n",
       "}(window));"
      ],
      "application/vnd.bokehjs_load.v0+json": "\n(function(root) {\n  function now() {\n    return new Date();\n  }\n\n  var force = true;\n\n  if (typeof root._bokeh_onload_callbacks === \"undefined\" || force === true) {\n    root._bokeh_onload_callbacks = [];\n    root._bokeh_is_loading = undefined;\n  }\n\n  \n\n  \n  if (typeof (root._bokeh_timeout) === \"undefined\" || force === true) {\n    root._bokeh_timeout = Date.now() + 5000;\n    root._bokeh_failed_load = false;\n  }\n\n  var NB_LOAD_WARNING = {'data': {'text/html':\n     \"<div style='background-color: #fdd'>\\n\"+\n     \"<p>\\n\"+\n     \"BokehJS does not appear to have successfully loaded. If loading BokehJS from CDN, this \\n\"+\n     \"may be due to a slow or bad network connection. Possible fixes:\\n\"+\n     \"</p>\\n\"+\n     \"<ul>\\n\"+\n     \"<li>re-rerun `output_notebook()` to attempt to load from CDN again, or</li>\\n\"+\n     \"<li>use INLINE resources instead, as so:</li>\\n\"+\n     \"</ul>\\n\"+\n     \"<code>\\n\"+\n     \"from bokeh.resources import INLINE\\n\"+\n     \"output_notebook(resources=INLINE)\\n\"+\n     \"</code>\\n\"+\n     \"</div>\"}};\n\n  function display_loaded() {\n    var el = document.getElementById(\"1001\");\n    if (el != null) {\n      el.textContent = \"BokehJS is loading...\";\n    }\n    if (root.Bokeh !== undefined) {\n      if (el != null) {\n        el.textContent = \"BokehJS \" + root.Bokeh.version + \" successfully loaded.\";\n      }\n    } else if (Date.now() < root._bokeh_timeout) {\n      setTimeout(display_loaded, 100)\n    }\n  }\n\n\n  function run_callbacks() {\n    try {\n      root._bokeh_onload_callbacks.forEach(function(callback) {\n        if (callback != null)\n          callback();\n      });\n    } finally {\n      delete root._bokeh_onload_callbacks\n    }\n    console.debug(\"Bokeh: all callbacks have finished\");\n  }\n\n  function load_libs(css_urls, js_urls, callback) {\n    if (css_urls == null) css_urls = [];\n    if (js_urls == null) js_urls = [];\n\n    root._bokeh_onload_callbacks.push(callback);\n    if (root._bokeh_is_loading > 0) {\n      console.debug(\"Bokeh: BokehJS is being loaded, scheduling callback at\", now());\n      return null;\n    }\n    if (js_urls == null || js_urls.length === 0) {\n      run_callbacks();\n      return null;\n    }\n    console.debug(\"Bokeh: BokehJS not loaded, scheduling load and callback at\", now());\n    root._bokeh_is_loading = css_urls.length + js_urls.length;\n\n    function on_load() {\n      root._bokeh_is_loading--;\n      if (root._bokeh_is_loading === 0) {\n        console.debug(\"Bokeh: all BokehJS libraries/stylesheets loaded\");\n        run_callbacks()\n      }\n    }\n\n    function on_error() {\n      console.error(\"failed to load \" + url);\n    }\n\n    for (var i = 0; i < css_urls.length; i++) {\n      var url = css_urls[i];\n      const element = document.createElement(\"link\");\n      element.onload = on_load;\n      element.onerror = on_error;\n      element.rel = \"stylesheet\";\n      element.type = \"text/css\";\n      element.href = url;\n      console.debug(\"Bokeh: injecting link tag for BokehJS stylesheet: \", url);\n      document.body.appendChild(element);\n    }\n\n    const hashes = {\"https://cdn.bokeh.org/bokeh/release/bokeh-2.1.0.min.js\": \"YobFyzPeVUsFQydHkJGsJL1kyfHnWxOlPc3EwaV22TmBaeGoXHLWx5aRRVPS9xlE\", \"https://cdn.bokeh.org/bokeh/release/bokeh-widgets-2.1.0.min.js\": \"NuAg9+TcTQQqvQCTtkCneRrpkTiMhhfiq0KHiBzx8ECiKiLWXHN6i6ia3q7b3eHu\", \"https://cdn.bokeh.org/bokeh/release/bokeh-tables-2.1.0.min.js\": \"uMVqQc8JqHitD67bXTn9a06Mrk3EiHRaZ18EJENQenAKJ/KL71SakdXYomZQpGRr\", \"https://cdn.bokeh.org/bokeh/release/bokeh-gl-2.1.0.min.js\": \"u+eGuEXC8aw0VSCm2mH+b/tQEAitUOYiR1H6SuIVEdUmXsf4vN8m/SmXpmjb7U/X\"};\n\n    for (var i = 0; i < js_urls.length; i++) {\n      var url = js_urls[i];\n      var element = document.createElement('script');\n      element.onload = on_load;\n      element.onerror = on_error;\n      element.async = false;\n      element.src = url;\n      if (url in hashes) {\n        element.crossOrigin = \"anonymous\";\n        element.integrity = \"sha384-\" + hashes[url];\n      }\n      console.debug(\"Bokeh: injecting script tag for BokehJS library: \", url);\n      document.head.appendChild(element);\n    }\n  };\n\n  function inject_raw_css(css) {\n    const element = document.createElement(\"style\");\n    element.appendChild(document.createTextNode(css));\n    document.body.appendChild(element);\n  }\n\n  \n  var js_urls = [\"https://cdn.bokeh.org/bokeh/release/bokeh-2.1.0.min.js\", \"https://cdn.bokeh.org/bokeh/release/bokeh-widgets-2.1.0.min.js\", \"https://cdn.bokeh.org/bokeh/release/bokeh-tables-2.1.0.min.js\", \"https://cdn.bokeh.org/bokeh/release/bokeh-gl-2.1.0.min.js\"];\n  var css_urls = [];\n  \n\n  var inline_js = [\n    function(Bokeh) {\n      Bokeh.set_log_level(\"info\");\n    },\n    function(Bokeh) {\n    \n    \n    }\n  ];\n\n  function run_inline_js() {\n    \n    if (root.Bokeh !== undefined || force === true) {\n      \n    for (var i = 0; i < inline_js.length; i++) {\n      inline_js[i].call(root, root.Bokeh);\n    }\n    if (force === true) {\n        display_loaded();\n      }} else if (Date.now() < root._bokeh_timeout) {\n      setTimeout(run_inline_js, 100);\n    } else if (!root._bokeh_failed_load) {\n      console.log(\"Bokeh: BokehJS failed to load within specified timeout.\");\n      root._bokeh_failed_load = true;\n    } else if (force !== true) {\n      var cell = $(document.getElementById(\"1001\")).parents('.cell').data().cell;\n      cell.output_area.append_execute_result(NB_LOAD_WARNING)\n    }\n\n  }\n\n  if (root._bokeh_is_loading === 0) {\n    console.debug(\"Bokeh: BokehJS loaded, going straight to plotting\");\n    run_inline_js();\n  } else {\n    load_libs(css_urls, js_urls, function() {\n      console.debug(\"Bokeh: BokehJS plotting callback run at\", now());\n      run_inline_js();\n    });\n  }\n}(window));"
     },
     "metadata": {},
     "output_type": "display_data"
    }
   ],
   "source": [
    "# Imports -- make sure you run this cell!\n",
    "# This cell contains multiple import statements. Each import statement gives the notebook access to pre-bundled\n",
    "# python code that serves some functionality. The first import statement imports all of the python code in the\n",
    "# file tsp.py. You can open this file and examine it if you so choose!\n",
    "\n",
    "from tsp import *\n",
    "from bokeh.io import output_notebook\n",
    "output_notebook()"
   ]
  },
  {
   "cell_type": "markdown",
   "metadata": {},
   "source": [
    "In lectute, you learned about the traveling salesman problem (TSP). The input to this problem is a set of cities along with the distances between them. Our goal is to find a path that visits every city starting and ending at the same city that minimizes the distance traveled. We call a path like this a tour. \n",
    "\n",
    "Consider the following TSP problem consisting of 23 US cities. Fun fact: this instance comes from the Beyoncé *On the Run II Tour*."
   ]
  },
  {
   "cell_type": "code",
   "execution_count": 5,
   "metadata": {},
   "outputs": [
    {
     "data": {
      "text/html": [
       "<div>\n",
       "<style scoped>\n",
       "    .dataframe tbody tr th:only-of-type {\n",
       "        vertical-align: middle;\n",
       "    }\n",
       "\n",
       "    .dataframe tbody tr th {\n",
       "        vertical-align: top;\n",
       "    }\n",
       "\n",
       "    .dataframe thead th {\n",
       "        text-align: right;\n",
       "    }\n",
       "</style>\n",
       "<table border=\"1\" class=\"dataframe\">\n",
       "  <thead>\n",
       "    <tr style=\"text-align: right;\">\n",
       "      <th></th>\n",
       "      <th>name</th>\n",
       "      <th>x</th>\n",
       "      <th>y</th>\n",
       "    </tr>\n",
       "  </thead>\n",
       "  <tbody>\n",
       "    <tr>\n",
       "      <th>0</th>\n",
       "      <td>0.0</td>\n",
       "      <td>751.5</td>\n",
       "      <td>1235.8</td>\n",
       "    </tr>\n",
       "    <tr>\n",
       "      <th>1</th>\n",
       "      <td>1.0</td>\n",
       "      <td>634.6</td>\n",
       "      <td>200.4</td>\n",
       "    </tr>\n",
       "    <tr>\n",
       "      <th>2</th>\n",
       "      <td>2.0</td>\n",
       "      <td>701.4</td>\n",
       "      <td>-100.2</td>\n",
       "    </tr>\n",
       "    <tr>\n",
       "      <th>3</th>\n",
       "      <td>3.0</td>\n",
       "      <td>784.9</td>\n",
       "      <td>-267.2</td>\n",
       "    </tr>\n",
       "    <tr>\n",
       "      <th>4</th>\n",
       "      <td>4.0</td>\n",
       "      <td>985.3</td>\n",
       "      <td>-367.4</td>\n",
       "    </tr>\n",
       "    <tr>\n",
       "      <th>5</th>\n",
       "      <td>5.0</td>\n",
       "      <td>1753.5</td>\n",
       "      <td>768.2</td>\n",
       "    </tr>\n",
       "    <tr>\n",
       "      <th>6</th>\n",
       "      <td>6.0</td>\n",
       "      <td>1920.5</td>\n",
       "      <td>-801.6</td>\n",
       "    </tr>\n",
       "    <tr>\n",
       "      <th>7</th>\n",
       "      <td>7.0</td>\n",
       "      <td>2338.0</td>\n",
       "      <td>-868.4</td>\n",
       "    </tr>\n",
       "    <tr>\n",
       "      <th>8</th>\n",
       "      <td>8.0</td>\n",
       "      <td>2404.8</td>\n",
       "      <td>-1102.2</td>\n",
       "    </tr>\n",
       "    <tr>\n",
       "      <th>9</th>\n",
       "      <td>9.0</td>\n",
       "      <td>2187.7</td>\n",
       "      <td>-400.8</td>\n",
       "    </tr>\n",
       "    <tr>\n",
       "      <th>10</th>\n",
       "      <td>10.0</td>\n",
       "      <td>2321.3</td>\n",
       "      <td>-300.6</td>\n",
       "    </tr>\n",
       "    <tr>\n",
       "      <th>11</th>\n",
       "      <td>11.0</td>\n",
       "      <td>2471.6</td>\n",
       "      <td>334.0</td>\n",
       "    </tr>\n",
       "    <tr>\n",
       "      <th>12</th>\n",
       "      <td>12.0</td>\n",
       "      <td>2505.0</td>\n",
       "      <td>467.6</td>\n",
       "    </tr>\n",
       "    <tr>\n",
       "      <th>13</th>\n",
       "      <td>13.0</td>\n",
       "      <td>2605.2</td>\n",
       "      <td>668.0</td>\n",
       "    </tr>\n",
       "    <tr>\n",
       "      <th>14</th>\n",
       "      <td>14.0</td>\n",
       "      <td>1987.3</td>\n",
       "      <td>400.8</td>\n",
       "    </tr>\n",
       "    <tr>\n",
       "      <th>15</th>\n",
       "      <td>15.0</td>\n",
       "      <td>2070.8</td>\n",
       "      <td>-133.6</td>\n",
       "    </tr>\n",
       "    <tr>\n",
       "      <th>16</th>\n",
       "      <td>16.0</td>\n",
       "      <td>2421.5</td>\n",
       "      <td>233.8</td>\n",
       "    </tr>\n",
       "    <tr>\n",
       "      <th>17</th>\n",
       "      <td>17.0</td>\n",
       "      <td>2321.3</td>\n",
       "      <td>668.0</td>\n",
       "    </tr>\n",
       "    <tr>\n",
       "      <th>18</th>\n",
       "      <td>18.0</td>\n",
       "      <td>2187.7</td>\n",
       "      <td>267.2</td>\n",
       "    </tr>\n",
       "    <tr>\n",
       "      <th>19</th>\n",
       "      <td>19.0</td>\n",
       "      <td>2237.8</td>\n",
       "      <td>434.2</td>\n",
       "    </tr>\n",
       "    <tr>\n",
       "      <th>20</th>\n",
       "      <td>20.0</td>\n",
       "      <td>2154.3</td>\n",
       "      <td>534.4</td>\n",
       "    </tr>\n",
       "    <tr>\n",
       "      <th>21</th>\n",
       "      <td>21.0</td>\n",
       "      <td>1619.9</td>\n",
       "      <td>-501.0</td>\n",
       "    </tr>\n",
       "    <tr>\n",
       "      <th>22</th>\n",
       "      <td>22.0</td>\n",
       "      <td>1670.0</td>\n",
       "      <td>-868.4</td>\n",
       "    </tr>\n",
       "  </tbody>\n",
       "</table>\n",
       "</div>"
      ],
      "text/plain": [
       "    name       x       y\n",
       "0    0.0   751.5  1235.8\n",
       "1    1.0   634.6   200.4\n",
       "2    2.0   701.4  -100.2\n",
       "3    3.0   784.9  -267.2\n",
       "4    4.0   985.3  -367.4\n",
       "5    5.0  1753.5   768.2\n",
       "6    6.0  1920.5  -801.6\n",
       "7    7.0  2338.0  -868.4\n",
       "8    8.0  2404.8 -1102.2\n",
       "9    9.0  2187.7  -400.8\n",
       "10  10.0  2321.3  -300.6\n",
       "11  11.0  2471.6   334.0\n",
       "12  12.0  2505.0   467.6\n",
       "13  13.0  2605.2   668.0\n",
       "14  14.0  1987.3   400.8\n",
       "15  15.0  2070.8  -133.6\n",
       "16  16.0  2421.5   233.8\n",
       "17  17.0  2321.3   668.0\n",
       "18  18.0  2187.7   267.2\n",
       "19  19.0  2237.8   434.2\n",
       "20  20.0  2154.3   534.4\n",
       "21  21.0  1619.9  -501.0\n",
       "22  22.0  1670.0  -868.4"
      ]
     },
     "metadata": {},
     "output_type": "display_data"
    }
   ],
   "source": [
    "# This cell imports a CSV file called us_cities_23.csv. We will often import CSV files.\n",
    "# The data from the CSV file is put in the variable nodes.\n",
    "# Using display(), we can see the contents of this file: each city (node) and its (x,y) position.\n",
    "nodes = pd.read_csv('data/us_cities_23.csv', index_col=0)\n",
    "display(nodes)"
   ]
  },
  {
   "cell_type": "markdown",
   "metadata": {},
   "source": [
    "Before we try to solve the TSP instance, we need to generate the distances between each of the 23 cities. The function `distance_matrix` (described in `tsp.py`) does just this! The entry $(i,j)$ in the distance matrix gives the distance from city $i$ to city $j$.\n",
    "\n",
    "**NOTE:** The function `distance_matrix` takes a parameter called manhattan. If manhattan is true, the manhatten distance is computed. Otherwise, the euclidean distance is computed. For a city located at $(a,b)$ and a city at $(c,d)$, the manhattan distance is $|c-a| + |d-b|$ (horizontal distance plus the vertical distance). The euclidean distance is $\\sqrt{(c-a)^2 + (d-b)^2}$ (striaght-line distance)."
   ]
  },
  {
   "cell_type": "code",
   "execution_count": 6,
   "metadata": {},
   "outputs": [
    {
     "data": {
      "text/html": [
       "<div>\n",
       "<style scoped>\n",
       "    .dataframe tbody tr th:only-of-type {\n",
       "        vertical-align: middle;\n",
       "    }\n",
       "\n",
       "    .dataframe tbody tr th {\n",
       "        vertical-align: top;\n",
       "    }\n",
       "\n",
       "    .dataframe thead th {\n",
       "        text-align: right;\n",
       "    }\n",
       "</style>\n",
       "<table border=\"1\" class=\"dataframe\">\n",
       "  <thead>\n",
       "    <tr style=\"text-align: right;\">\n",
       "      <th></th>\n",
       "      <th>0</th>\n",
       "      <th>1</th>\n",
       "      <th>2</th>\n",
       "      <th>3</th>\n",
       "      <th>4</th>\n",
       "      <th>5</th>\n",
       "      <th>6</th>\n",
       "      <th>7</th>\n",
       "      <th>8</th>\n",
       "      <th>9</th>\n",
       "      <th>...</th>\n",
       "      <th>13</th>\n",
       "      <th>14</th>\n",
       "      <th>15</th>\n",
       "      <th>16</th>\n",
       "      <th>17</th>\n",
       "      <th>18</th>\n",
       "      <th>19</th>\n",
       "      <th>20</th>\n",
       "      <th>21</th>\n",
       "      <th>22</th>\n",
       "    </tr>\n",
       "  </thead>\n",
       "  <tbody>\n",
       "    <tr>\n",
       "      <th>0</th>\n",
       "      <td>0.000000</td>\n",
       "      <td>1041.978296</td>\n",
       "      <td>1336.939045</td>\n",
       "      <td>1503.371065</td>\n",
       "      <td>1620.158227</td>\n",
       "      <td>1105.736750</td>\n",
       "      <td>2348.948650</td>\n",
       "      <td>2635.268466</td>\n",
       "      <td>2863.502207</td>\n",
       "      <td>2177.413603</td>\n",
       "      <td>...</td>\n",
       "      <td>1938.711049</td>\n",
       "      <td>1491.451186</td>\n",
       "      <td>1901.528030</td>\n",
       "      <td>1947.537933</td>\n",
       "      <td>1669.331866</td>\n",
       "      <td>1732.298011</td>\n",
       "      <td>1688.682993</td>\n",
       "      <td>1568.378079</td>\n",
       "      <td>1941.801432</td>\n",
       "      <td>2295.931160</td>\n",
       "    </tr>\n",
       "    <tr>\n",
       "      <th>1</th>\n",
       "      <td>1041.978296</td>\n",
       "      <td>0.000011</td>\n",
       "      <td>307.932785</td>\n",
       "      <td>491.161735</td>\n",
       "      <td>667.373456</td>\n",
       "      <td>1254.724691</td>\n",
       "      <td>1630.197169</td>\n",
       "      <td>2010.946295</td>\n",
       "      <td>2197.811366</td>\n",
       "      <td>1665.401168</td>\n",
       "      <td>...</td>\n",
       "      <td>2025.318276</td>\n",
       "      <td>1367.463875</td>\n",
       "      <td>1474.525836</td>\n",
       "      <td>1787.212122</td>\n",
       "      <td>1750.316157</td>\n",
       "      <td>1554.535895</td>\n",
       "      <td>1620.158227</td>\n",
       "      <td>1555.970466</td>\n",
       "      <td>1209.453616</td>\n",
       "      <td>1488.081517</td>\n",
       "    </tr>\n",
       "    <tr>\n",
       "      <th>2</th>\n",
       "      <td>1336.939045</td>\n",
       "      <td>307.932785</td>\n",
       "      <td>0.000000</td>\n",
       "      <td>186.711676</td>\n",
       "      <td>389.865425</td>\n",
       "      <td>1364.196822</td>\n",
       "      <td>1406.473167</td>\n",
       "      <td>1807.924445</td>\n",
       "      <td>1976.252909</td>\n",
       "      <td>1516.393105</td>\n",
       "      <td>...</td>\n",
       "      <td>2052.945611</td>\n",
       "      <td>1380.050655</td>\n",
       "      <td>1369.807257</td>\n",
       "      <td>1752.227157</td>\n",
       "      <td>1792.821031</td>\n",
       "      <td>1531.035744</td>\n",
       "      <td>1626.686300</td>\n",
       "      <td>1585.444912</td>\n",
       "      <td>1002.139157</td>\n",
       "      <td>1236.251269</td>\n",
       "    </tr>\n",
       "    <tr>\n",
       "      <th>3</th>\n",
       "      <td>1503.371065</td>\n",
       "      <td>491.161735</td>\n",
       "      <td>186.711676</td>\n",
       "      <td>0.000000</td>\n",
       "      <td>224.054011</td>\n",
       "      <td>1417.829016</td>\n",
       "      <td>1255.058054</td>\n",
       "      <td>1665.401168</td>\n",
       "      <td>1822.443692</td>\n",
       "      <td>1409.147544</td>\n",
       "      <td>...</td>\n",
       "      <td>2046.482624</td>\n",
       "      <td>1375.496187</td>\n",
       "      <td>1292.821631</td>\n",
       "      <td>1711.566698</td>\n",
       "      <td>1798.645046</td>\n",
       "      <td>1501.143298</td>\n",
       "      <td>1613.344467</td>\n",
       "      <td>1586.763662</td>\n",
       "      <td>867.114433</td>\n",
       "      <td>1069.973574</td>\n",
       "    </tr>\n",
       "    <tr>\n",
       "      <th>4</th>\n",
       "      <td>1620.158227</td>\n",
       "      <td>667.373456</td>\n",
       "      <td>389.865425</td>\n",
       "      <td>224.054011</td>\n",
       "      <td>0.000000</td>\n",
       "      <td>1371.028300</td>\n",
       "      <td>1031.081316</td>\n",
       "      <td>1442.497241</td>\n",
       "      <td>1598.408987</td>\n",
       "      <td>1202.863799</td>\n",
       "      <td>...</td>\n",
       "      <td>1922.531969</td>\n",
       "      <td>1262.590686</td>\n",
       "      <td>1110.393034</td>\n",
       "      <td>1556.955966</td>\n",
       "      <td>1690.251212</td>\n",
       "      <td>1359.589247</td>\n",
       "      <td>1487.050372</td>\n",
       "      <td>1476.416012</td>\n",
       "      <td>648.510694</td>\n",
       "      <td>848.419171</td>\n",
       "    </tr>\n",
       "    <tr>\n",
       "      <th>5</th>\n",
       "      <td>1105.736750</td>\n",
       "      <td>1254.724691</td>\n",
       "      <td>1364.196822</td>\n",
       "      <td>1417.829016</td>\n",
       "      <td>1371.028300</td>\n",
       "      <td>0.000000</td>\n",
       "      <td>1578.657987</td>\n",
       "      <td>1737.843437</td>\n",
       "      <td>1980.552410</td>\n",
       "      <td>1247.032734</td>\n",
       "      <td>...</td>\n",
       "      <td>857.573863</td>\n",
       "      <td>435.482721</td>\n",
       "      <td>955.992955</td>\n",
       "      <td>855.457398</td>\n",
       "      <td>576.573395</td>\n",
       "      <td>662.971070</td>\n",
       "      <td>588.304759</td>\n",
       "      <td>464.007629</td>\n",
       "      <td>1276.212208</td>\n",
       "      <td>1638.728718</td>\n",
       "    </tr>\n",
       "    <tr>\n",
       "      <th>6</th>\n",
       "      <td>2348.948650</td>\n",
       "      <td>1630.197169</td>\n",
       "      <td>1406.473167</td>\n",
       "      <td>1255.058054</td>\n",
       "      <td>1031.081316</td>\n",
       "      <td>1578.657987</td>\n",
       "      <td>0.000000</td>\n",
       "      <td>422.810229</td>\n",
       "      <td>570.006009</td>\n",
       "      <td>481.701650</td>\n",
       "      <td>...</td>\n",
       "      <td>1621.276735</td>\n",
       "      <td>1204.254126</td>\n",
       "      <td>684.700000</td>\n",
       "      <td>1150.240914</td>\n",
       "      <td>1523.274368</td>\n",
       "      <td>1101.693823</td>\n",
       "      <td>1275.884372</td>\n",
       "      <td>1356.303226</td>\n",
       "      <td>425.112597</td>\n",
       "      <td>259.253717</td>\n",
       "    </tr>\n",
       "    <tr>\n",
       "      <th>7</th>\n",
       "      <td>2635.268466</td>\n",
       "      <td>2010.946295</td>\n",
       "      <td>1807.924445</td>\n",
       "      <td>1665.401168</td>\n",
       "      <td>1442.497241</td>\n",
       "      <td>1737.843437</td>\n",
       "      <td>422.810229</td>\n",
       "      <td>0.000000</td>\n",
       "      <td>243.155670</td>\n",
       "      <td>491.161735</td>\n",
       "      <td>...</td>\n",
       "      <td>1559.461702</td>\n",
       "      <td>1316.760848</td>\n",
       "      <td>781.873954</td>\n",
       "      <td>1105.358354</td>\n",
       "      <td>1536.490758</td>\n",
       "      <td>1145.503143</td>\n",
       "      <td>1306.448162</td>\n",
       "      <td>1414.776848</td>\n",
       "      <td>806.629016</td>\n",
       "      <td>668.000000</td>\n",
       "    </tr>\n",
       "    <tr>\n",
       "      <th>8</th>\n",
       "      <td>2863.502207</td>\n",
       "      <td>2197.811366</td>\n",
       "      <td>1976.252909</td>\n",
       "      <td>1822.443692</td>\n",
       "      <td>1598.408987</td>\n",
       "      <td>1980.552410</td>\n",
       "      <td>570.006009</td>\n",
       "      <td>243.155670</td>\n",
       "      <td>0.000000</td>\n",
       "      <td>734.230461</td>\n",
       "      <td>...</td>\n",
       "      <td>1781.507283</td>\n",
       "      <td>1559.908731</td>\n",
       "      <td>1024.569158</td>\n",
       "      <td>1336.104371</td>\n",
       "      <td>1772.168245</td>\n",
       "      <td>1386.502351</td>\n",
       "      <td>1545.449436</td>\n",
       "      <td>1655.659932</td>\n",
       "      <td>988.690776</td>\n",
       "      <td>771.098878</td>\n",
       "    </tr>\n",
       "    <tr>\n",
       "      <th>9</th>\n",
       "      <td>2177.413603</td>\n",
       "      <td>1665.401168</td>\n",
       "      <td>1516.393105</td>\n",
       "      <td>1409.147544</td>\n",
       "      <td>1202.863799</td>\n",
       "      <td>1247.032734</td>\n",
       "      <td>481.701650</td>\n",
       "      <td>491.161735</td>\n",
       "      <td>734.230461</td>\n",
       "      <td>0.000000</td>\n",
       "      <td>...</td>\n",
       "      <td>1147.449210</td>\n",
       "      <td>826.270367</td>\n",
       "      <td>291.652962</td>\n",
       "      <td>676.298455</td>\n",
       "      <td>1077.117635</td>\n",
       "      <td>668.000000</td>\n",
       "      <td>836.501650</td>\n",
       "      <td>935.796239</td>\n",
       "      <td>576.573395</td>\n",
       "      <td>697.612392</td>\n",
       "    </tr>\n",
       "    <tr>\n",
       "      <th>10</th>\n",
       "      <td>2196.542055</td>\n",
       "      <td>1759.533430</td>\n",
       "      <td>1632.248808</td>\n",
       "      <td>1536.763001</td>\n",
       "      <td>1337.668958</td>\n",
       "      <td>1210.260418</td>\n",
       "      <td>641.593049</td>\n",
       "      <td>568.045535</td>\n",
       "      <td>805.937225</td>\n",
       "      <td>167.000000</td>\n",
       "      <td>...</td>\n",
       "      <td>1009.348884</td>\n",
       "      <td>776.864184</td>\n",
       "      <td>301.063532</td>\n",
       "      <td>543.712608</td>\n",
       "      <td>968.600000</td>\n",
       "      <td>583.305923</td>\n",
       "      <td>739.529100</td>\n",
       "      <td>851.536259</td>\n",
       "      <td>729.467011</td>\n",
       "      <td>864.053546</td>\n",
       "    </tr>\n",
       "    <tr>\n",
       "      <th>11</th>\n",
       "      <td>1942.160459</td>\n",
       "      <td>1841.851775</td>\n",
       "      <td>1822.673224</td>\n",
       "      <td>1790.641877</td>\n",
       "      <td>1643.487040</td>\n",
       "      <td>839.164614</td>\n",
       "      <td>1262.259312</td>\n",
       "      <td>1209.799454</td>\n",
       "      <td>1437.752649</td>\n",
       "      <td>787.737425</td>\n",
       "      <td>...</td>\n",
       "      <td>359.729009</td>\n",
       "      <td>488.885191</td>\n",
       "      <td>615.865570</td>\n",
       "      <td>112.027006</td>\n",
       "      <td>366.259594</td>\n",
       "      <td>291.652962</td>\n",
       "      <td>254.366822</td>\n",
       "      <td>375.285824</td>\n",
       "      <td>1192.735465</td>\n",
       "      <td>1445.104951</td>\n",
       "    </tr>\n",
       "    <tr>\n",
       "      <th>12</th>\n",
       "      <td>1914.391154</td>\n",
       "      <td>1889.389319</td>\n",
       "      <td>1890.864829</td>\n",
       "      <td>1870.474552</td>\n",
       "      <td>1733.987627</td>\n",
       "      <td>809.390271</td>\n",
       "      <td>1397.322042</td>\n",
       "      <td>1346.397044</td>\n",
       "      <td>1572.994622</td>\n",
       "      <td>924.552784</td>\n",
       "      <td>...</td>\n",
       "      <td>224.054011</td>\n",
       "      <td>521.991887</td>\n",
       "      <td>741.600351</td>\n",
       "      <td>248.263348</td>\n",
       "      <td>271.856304</td>\n",
       "      <td>375.285824</td>\n",
       "      <td>269.279409</td>\n",
       "      <td>357.005224</td>\n",
       "      <td>1312.092973</td>\n",
       "      <td>1575.474849</td>\n",
       "    </tr>\n",
       "    <tr>\n",
       "      <th>13</th>\n",
       "      <td>1938.711049</td>\n",
       "      <td>2025.318276</td>\n",
       "      <td>2052.945611</td>\n",
       "      <td>2046.482624</td>\n",
       "      <td>1922.531969</td>\n",
       "      <td>857.573863</td>\n",
       "      <td>1621.276735</td>\n",
       "      <td>1559.461702</td>\n",
       "      <td>1781.507283</td>\n",
       "      <td>1147.449210</td>\n",
       "      <td>...</td>\n",
       "      <td>0.000000</td>\n",
       "      <td>673.198522</td>\n",
       "      <td>963.403301</td>\n",
       "      <td>471.460847</td>\n",
       "      <td>283.900000</td>\n",
       "      <td>578.745963</td>\n",
       "      <td>435.482721</td>\n",
       "      <td>470.276270</td>\n",
       "      <td>1528.848289</td>\n",
       "      <td>1798.645046</td>\n",
       "    </tr>\n",
       "    <tr>\n",
       "      <th>14</th>\n",
       "      <td>1491.451186</td>\n",
       "      <td>1367.463875</td>\n",
       "      <td>1380.050655</td>\n",
       "      <td>1375.496187</td>\n",
       "      <td>1262.590686</td>\n",
       "      <td>435.482721</td>\n",
       "      <td>1204.254126</td>\n",
       "      <td>1316.760848</td>\n",
       "      <td>1559.908731</td>\n",
       "      <td>826.270367</td>\n",
       "      <td>...</td>\n",
       "      <td>673.198522</td>\n",
       "      <td>0.000000</td>\n",
       "      <td>540.884100</td>\n",
       "      <td>465.208168</td>\n",
       "      <td>427.728699</td>\n",
       "      <td>240.850825</td>\n",
       "      <td>252.716857</td>\n",
       "      <td>213.864350</td>\n",
       "      <td>973.768966</td>\n",
       "      <td>1308.261415</td>\n",
       "    </tr>\n",
       "    <tr>\n",
       "      <th>15</th>\n",
       "      <td>1901.528030</td>\n",
       "      <td>1474.525836</td>\n",
       "      <td>1369.807257</td>\n",
       "      <td>1292.821631</td>\n",
       "      <td>1110.393034</td>\n",
       "      <td>955.992955</td>\n",
       "      <td>684.700000</td>\n",
       "      <td>781.873954</td>\n",
       "      <td>1024.569158</td>\n",
       "      <td>291.652962</td>\n",
       "      <td>...</td>\n",
       "      <td>963.403301</td>\n",
       "      <td>540.884100</td>\n",
       "      <td>0.000000</td>\n",
       "      <td>507.910671</td>\n",
       "      <td>839.829036</td>\n",
       "      <td>417.500000</td>\n",
       "      <td>591.849508</td>\n",
       "      <td>673.198522</td>\n",
       "      <td>581.630097</td>\n",
       "      <td>837.001601</td>\n",
       "    </tr>\n",
       "    <tr>\n",
       "      <th>16</th>\n",
       "      <td>1947.537933</td>\n",
       "      <td>1787.212122</td>\n",
       "      <td>1752.227157</td>\n",
       "      <td>1711.566698</td>\n",
       "      <td>1556.955966</td>\n",
       "      <td>855.457398</td>\n",
       "      <td>1150.240914</td>\n",
       "      <td>1105.358354</td>\n",
       "      <td>1336.104371</td>\n",
       "      <td>676.298455</td>\n",
       "      <td>...</td>\n",
       "      <td>471.460847</td>\n",
       "      <td>465.208168</td>\n",
       "      <td>507.910671</td>\n",
       "      <td>0.000000</td>\n",
       "      <td>445.611580</td>\n",
       "      <td>236.173665</td>\n",
       "      <td>271.856304</td>\n",
       "      <td>402.189259</td>\n",
       "      <td>1087.425216</td>\n",
       "      <td>1334.015401</td>\n",
       "    </tr>\n",
       "    <tr>\n",
       "      <th>17</th>\n",
       "      <td>1669.331866</td>\n",
       "      <td>1750.316157</td>\n",
       "      <td>1792.821031</td>\n",
       "      <td>1798.645046</td>\n",
       "      <td>1690.251212</td>\n",
       "      <td>576.573395</td>\n",
       "      <td>1523.274368</td>\n",
       "      <td>1536.490758</td>\n",
       "      <td>1772.168245</td>\n",
       "      <td>1077.117635</td>\n",
       "      <td>...</td>\n",
       "      <td>283.900000</td>\n",
       "      <td>427.728699</td>\n",
       "      <td>839.829036</td>\n",
       "      <td>445.611580</td>\n",
       "      <td>0.000000</td>\n",
       "      <td>422.480295</td>\n",
       "      <td>248.263348</td>\n",
       "      <td>213.864350</td>\n",
       "      <td>1363.276553</td>\n",
       "      <td>1668.747030</td>\n",
       "    </tr>\n",
       "    <tr>\n",
       "      <th>18</th>\n",
       "      <td>1732.298011</td>\n",
       "      <td>1554.535895</td>\n",
       "      <td>1531.035744</td>\n",
       "      <td>1501.143298</td>\n",
       "      <td>1359.589247</td>\n",
       "      <td>662.971070</td>\n",
       "      <td>1101.693823</td>\n",
       "      <td>1145.503143</td>\n",
       "      <td>1386.502351</td>\n",
       "      <td>668.000000</td>\n",
       "      <td>...</td>\n",
       "      <td>578.745963</td>\n",
       "      <td>240.850825</td>\n",
       "      <td>417.500000</td>\n",
       "      <td>236.173665</td>\n",
       "      <td>422.480295</td>\n",
       "      <td>0.000000</td>\n",
       "      <td>174.353119</td>\n",
       "      <td>269.279409</td>\n",
       "      <td>955.263356</td>\n",
       "      <td>1248.038721</td>\n",
       "    </tr>\n",
       "    <tr>\n",
       "      <th>19</th>\n",
       "      <td>1688.682993</td>\n",
       "      <td>1620.158227</td>\n",
       "      <td>1626.686300</td>\n",
       "      <td>1613.344467</td>\n",
       "      <td>1487.050372</td>\n",
       "      <td>588.304759</td>\n",
       "      <td>1275.884372</td>\n",
       "      <td>1306.448162</td>\n",
       "      <td>1545.449436</td>\n",
       "      <td>836.501650</td>\n",
       "      <td>...</td>\n",
       "      <td>435.482721</td>\n",
       "      <td>252.716857</td>\n",
       "      <td>591.849508</td>\n",
       "      <td>271.856304</td>\n",
       "      <td>248.263348</td>\n",
       "      <td>174.353119</td>\n",
       "      <td>0.000000</td>\n",
       "      <td>130.431170</td>\n",
       "      <td>1120.892256</td>\n",
       "      <td>1420.972765</td>\n",
       "    </tr>\n",
       "    <tr>\n",
       "      <th>20</th>\n",
       "      <td>1568.378079</td>\n",
       "      <td>1555.970466</td>\n",
       "      <td>1585.444912</td>\n",
       "      <td>1586.763662</td>\n",
       "      <td>1476.416012</td>\n",
       "      <td>464.007629</td>\n",
       "      <td>1356.303226</td>\n",
       "      <td>1414.776848</td>\n",
       "      <td>1655.659932</td>\n",
       "      <td>935.796239</td>\n",
       "      <td>...</td>\n",
       "      <td>470.276270</td>\n",
       "      <td>213.864350</td>\n",
       "      <td>673.198522</td>\n",
       "      <td>402.189259</td>\n",
       "      <td>213.864350</td>\n",
       "      <td>269.279409</td>\n",
       "      <td>130.431170</td>\n",
       "      <td>0.000000</td>\n",
       "      <td>1165.176605</td>\n",
       "      <td>1484.046606</td>\n",
       "    </tr>\n",
       "    <tr>\n",
       "      <th>21</th>\n",
       "      <td>1941.801432</td>\n",
       "      <td>1209.453616</td>\n",
       "      <td>1002.139157</td>\n",
       "      <td>867.114433</td>\n",
       "      <td>648.510694</td>\n",
       "      <td>1276.212208</td>\n",
       "      <td>425.112597</td>\n",
       "      <td>806.629016</td>\n",
       "      <td>988.690776</td>\n",
       "      <td>576.573395</td>\n",
       "      <td>...</td>\n",
       "      <td>1528.848289</td>\n",
       "      <td>973.768966</td>\n",
       "      <td>581.630097</td>\n",
       "      <td>1087.425216</td>\n",
       "      <td>1363.276553</td>\n",
       "      <td>955.263356</td>\n",
       "      <td>1120.892256</td>\n",
       "      <td>1165.176605</td>\n",
       "      <td>0.000000</td>\n",
       "      <td>370.800175</td>\n",
       "    </tr>\n",
       "    <tr>\n",
       "      <th>22</th>\n",
       "      <td>2295.931160</td>\n",
       "      <td>1488.081517</td>\n",
       "      <td>1236.251269</td>\n",
       "      <td>1069.973574</td>\n",
       "      <td>848.419171</td>\n",
       "      <td>1638.728718</td>\n",
       "      <td>259.253717</td>\n",
       "      <td>668.000000</td>\n",
       "      <td>771.098878</td>\n",
       "      <td>697.612392</td>\n",
       "      <td>...</td>\n",
       "      <td>1798.645046</td>\n",
       "      <td>1308.261415</td>\n",
       "      <td>837.001601</td>\n",
       "      <td>1334.015401</td>\n",
       "      <td>1668.747030</td>\n",
       "      <td>1248.038721</td>\n",
       "      <td>1420.972765</td>\n",
       "      <td>1484.046606</td>\n",
       "      <td>370.800175</td>\n",
       "      <td>0.000000</td>\n",
       "    </tr>\n",
       "  </tbody>\n",
       "</table>\n",
       "<p>23 rows × 23 columns</p>\n",
       "</div>"
      ],
      "text/plain": [
       "             0            1            2            3            4   \\\n",
       "0      0.000000  1041.978296  1336.939045  1503.371065  1620.158227   \n",
       "1   1041.978296     0.000011   307.932785   491.161735   667.373456   \n",
       "2   1336.939045   307.932785     0.000000   186.711676   389.865425   \n",
       "3   1503.371065   491.161735   186.711676     0.000000   224.054011   \n",
       "4   1620.158227   667.373456   389.865425   224.054011     0.000000   \n",
       "5   1105.736750  1254.724691  1364.196822  1417.829016  1371.028300   \n",
       "6   2348.948650  1630.197169  1406.473167  1255.058054  1031.081316   \n",
       "7   2635.268466  2010.946295  1807.924445  1665.401168  1442.497241   \n",
       "8   2863.502207  2197.811366  1976.252909  1822.443692  1598.408987   \n",
       "9   2177.413603  1665.401168  1516.393105  1409.147544  1202.863799   \n",
       "10  2196.542055  1759.533430  1632.248808  1536.763001  1337.668958   \n",
       "11  1942.160459  1841.851775  1822.673224  1790.641877  1643.487040   \n",
       "12  1914.391154  1889.389319  1890.864829  1870.474552  1733.987627   \n",
       "13  1938.711049  2025.318276  2052.945611  2046.482624  1922.531969   \n",
       "14  1491.451186  1367.463875  1380.050655  1375.496187  1262.590686   \n",
       "15  1901.528030  1474.525836  1369.807257  1292.821631  1110.393034   \n",
       "16  1947.537933  1787.212122  1752.227157  1711.566698  1556.955966   \n",
       "17  1669.331866  1750.316157  1792.821031  1798.645046  1690.251212   \n",
       "18  1732.298011  1554.535895  1531.035744  1501.143298  1359.589247   \n",
       "19  1688.682993  1620.158227  1626.686300  1613.344467  1487.050372   \n",
       "20  1568.378079  1555.970466  1585.444912  1586.763662  1476.416012   \n",
       "21  1941.801432  1209.453616  1002.139157   867.114433   648.510694   \n",
       "22  2295.931160  1488.081517  1236.251269  1069.973574   848.419171   \n",
       "\n",
       "             5            6            7            8            9   ...  \\\n",
       "0   1105.736750  2348.948650  2635.268466  2863.502207  2177.413603  ...   \n",
       "1   1254.724691  1630.197169  2010.946295  2197.811366  1665.401168  ...   \n",
       "2   1364.196822  1406.473167  1807.924445  1976.252909  1516.393105  ...   \n",
       "3   1417.829016  1255.058054  1665.401168  1822.443692  1409.147544  ...   \n",
       "4   1371.028300  1031.081316  1442.497241  1598.408987  1202.863799  ...   \n",
       "5      0.000000  1578.657987  1737.843437  1980.552410  1247.032734  ...   \n",
       "6   1578.657987     0.000000   422.810229   570.006009   481.701650  ...   \n",
       "7   1737.843437   422.810229     0.000000   243.155670   491.161735  ...   \n",
       "8   1980.552410   570.006009   243.155670     0.000000   734.230461  ...   \n",
       "9   1247.032734   481.701650   491.161735   734.230461     0.000000  ...   \n",
       "10  1210.260418   641.593049   568.045535   805.937225   167.000000  ...   \n",
       "11   839.164614  1262.259312  1209.799454  1437.752649   787.737425  ...   \n",
       "12   809.390271  1397.322042  1346.397044  1572.994622   924.552784  ...   \n",
       "13   857.573863  1621.276735  1559.461702  1781.507283  1147.449210  ...   \n",
       "14   435.482721  1204.254126  1316.760848  1559.908731   826.270367  ...   \n",
       "15   955.992955   684.700000   781.873954  1024.569158   291.652962  ...   \n",
       "16   855.457398  1150.240914  1105.358354  1336.104371   676.298455  ...   \n",
       "17   576.573395  1523.274368  1536.490758  1772.168245  1077.117635  ...   \n",
       "18   662.971070  1101.693823  1145.503143  1386.502351   668.000000  ...   \n",
       "19   588.304759  1275.884372  1306.448162  1545.449436   836.501650  ...   \n",
       "20   464.007629  1356.303226  1414.776848  1655.659932   935.796239  ...   \n",
       "21  1276.212208   425.112597   806.629016   988.690776   576.573395  ...   \n",
       "22  1638.728718   259.253717   668.000000   771.098878   697.612392  ...   \n",
       "\n",
       "             13           14           15           16           17  \\\n",
       "0   1938.711049  1491.451186  1901.528030  1947.537933  1669.331866   \n",
       "1   2025.318276  1367.463875  1474.525836  1787.212122  1750.316157   \n",
       "2   2052.945611  1380.050655  1369.807257  1752.227157  1792.821031   \n",
       "3   2046.482624  1375.496187  1292.821631  1711.566698  1798.645046   \n",
       "4   1922.531969  1262.590686  1110.393034  1556.955966  1690.251212   \n",
       "5    857.573863   435.482721   955.992955   855.457398   576.573395   \n",
       "6   1621.276735  1204.254126   684.700000  1150.240914  1523.274368   \n",
       "7   1559.461702  1316.760848   781.873954  1105.358354  1536.490758   \n",
       "8   1781.507283  1559.908731  1024.569158  1336.104371  1772.168245   \n",
       "9   1147.449210   826.270367   291.652962   676.298455  1077.117635   \n",
       "10  1009.348884   776.864184   301.063532   543.712608   968.600000   \n",
       "11   359.729009   488.885191   615.865570   112.027006   366.259594   \n",
       "12   224.054011   521.991887   741.600351   248.263348   271.856304   \n",
       "13     0.000000   673.198522   963.403301   471.460847   283.900000   \n",
       "14   673.198522     0.000000   540.884100   465.208168   427.728699   \n",
       "15   963.403301   540.884100     0.000000   507.910671   839.829036   \n",
       "16   471.460847   465.208168   507.910671     0.000000   445.611580   \n",
       "17   283.900000   427.728699   839.829036   445.611580     0.000000   \n",
       "18   578.745963   240.850825   417.500000   236.173665   422.480295   \n",
       "19   435.482721   252.716857   591.849508   271.856304   248.263348   \n",
       "20   470.276270   213.864350   673.198522   402.189259   213.864350   \n",
       "21  1528.848289   973.768966   581.630097  1087.425216  1363.276553   \n",
       "22  1798.645046  1308.261415   837.001601  1334.015401  1668.747030   \n",
       "\n",
       "             18           19           20           21           22  \n",
       "0   1732.298011  1688.682993  1568.378079  1941.801432  2295.931160  \n",
       "1   1554.535895  1620.158227  1555.970466  1209.453616  1488.081517  \n",
       "2   1531.035744  1626.686300  1585.444912  1002.139157  1236.251269  \n",
       "3   1501.143298  1613.344467  1586.763662   867.114433  1069.973574  \n",
       "4   1359.589247  1487.050372  1476.416012   648.510694   848.419171  \n",
       "5    662.971070   588.304759   464.007629  1276.212208  1638.728718  \n",
       "6   1101.693823  1275.884372  1356.303226   425.112597   259.253717  \n",
       "7   1145.503143  1306.448162  1414.776848   806.629016   668.000000  \n",
       "8   1386.502351  1545.449436  1655.659932   988.690776   771.098878  \n",
       "9    668.000000   836.501650   935.796239   576.573395   697.612392  \n",
       "10   583.305923   739.529100   851.536259   729.467011   864.053546  \n",
       "11   291.652962   254.366822   375.285824  1192.735465  1445.104951  \n",
       "12   375.285824   269.279409   357.005224  1312.092973  1575.474849  \n",
       "13   578.745963   435.482721   470.276270  1528.848289  1798.645046  \n",
       "14   240.850825   252.716857   213.864350   973.768966  1308.261415  \n",
       "15   417.500000   591.849508   673.198522   581.630097   837.001601  \n",
       "16   236.173665   271.856304   402.189259  1087.425216  1334.015401  \n",
       "17   422.480295   248.263348   213.864350  1363.276553  1668.747030  \n",
       "18     0.000000   174.353119   269.279409   955.263356  1248.038721  \n",
       "19   174.353119     0.000000   130.431170  1120.892256  1420.972765  \n",
       "20   269.279409   130.431170     0.000000  1165.176605  1484.046606  \n",
       "21   955.263356  1120.892256  1165.176605     0.000000   370.800175  \n",
       "22  1248.038721  1420.972765  1484.046606   370.800175     0.000000  \n",
       "\n",
       "[23 rows x 23 columns]"
      ]
     },
     "metadata": {},
     "output_type": "display_data"
    }
   ],
   "source": [
    "G = distance_matrix(nodes, manhattan=False)\n",
    "display(pd.DataFrame(G))"
   ]
  },
  {
   "cell_type": "markdown",
   "metadata": {},
   "source": [
    "Now we can find a tour manually. Running the cell below will generate a visual of the 23 cities. Click on the cities one at a time to create a tour. Clicking on the last node will automatically complete the tour. In the lower-left, you will see the cost of the tour update as you create it. In the lower-right, you will see the tour."
   ]
  },
  {
   "cell_type": "code",
   "execution_count": 7,
   "metadata": {},
   "outputs": [
    {
     "data": {
      "text/html": [
       "\n",
       "\n",
       "\n",
       "\n",
       "\n",
       "\n",
       "  <div class=\"bk-root\" id=\"e9ba2a75-0843-41c8-a46a-fa408907d9cd\" data-root-id=\"1077\"></div>\n"
      ]
     },
     "metadata": {},
     "output_type": "display_data"
    },
    {
     "data": {
      "application/javascript": [
       "(function(root) {\n",
       "  function embed_document(root) {\n",
       "    \n",
       "  var docs_json = {\"47694dd4-d91d-4b42-afbb-c17a32cb4b60\":{\"roots\":{\"references\":[{\"attributes\":{\"children\":[[{\"id\":\"1002\"},0,0],[{\"id\":\"1061\"},1,0]]},\"id\":\"1077\",\"type\":\"GridBox\"},{\"attributes\":{\"bottom_units\":\"screen\",\"fill_alpha\":0.5,\"fill_color\":\"lightgrey\",\"left_units\":\"screen\",\"level\":\"overlay\",\"line_alpha\":1.0,\"line_color\":\"black\",\"line_dash\":[4,4],\"line_width\":2,\"right_units\":\"screen\",\"top_units\":\"screen\"},\"id\":\"1027\",\"type\":\"BoxAnnotation\"},{\"attributes\":{},\"id\":\"1014\",\"type\":\"BasicTicker\"},{\"attributes\":{\"source\":{\"id\":\"1036\"}},\"id\":\"1040\",\"type\":\"CDSView\"},{\"attributes\":{},\"id\":\"1063\",\"type\":\"BasicTickFormatter\"},{\"attributes\":{},\"id\":\"1065\",\"type\":\"BasicTickFormatter\"},{\"attributes\":{},\"id\":\"1026\",\"type\":\"HelpTool\"},{\"attributes\":{},\"id\":\"1021\",\"type\":\"PanTool\"},{\"attributes\":{},\"id\":\"1067\",\"type\":\"UnionRenderers\"},{\"attributes\":{\"children\":[{\"id\":\"1041\"},{\"id\":\"1042\"}]},\"id\":\"1061\",\"type\":\"Row\"},{\"attributes\":{\"data_source\":{\"id\":\"1036\"},\"glyph\":{\"id\":\"1037\"},\"hover_glyph\":null,\"muted_glyph\":null,\"nonselection_glyph\":{\"id\":\"1038\"},\"selection_glyph\":null,\"view\":{\"id\":\"1040\"}},\"id\":\"1039\",\"type\":\"GlyphRenderer\"},{\"attributes\":{\"line_alpha\":0.1,\"line_width\":4,\"x\":{\"field\":\"edges_x\"},\"y\":{\"field\":\"edges_y\"}},\"id\":\"1047\",\"type\":\"Line\"},{\"attributes\":{\"overlay\":{\"id\":\"1027\"}},\"id\":\"1023\",\"type\":\"BoxZoomTool\"},{\"attributes\":{},\"id\":\"1068\",\"type\":\"Selection\"},{\"attributes\":{\"fill_color\":{\"value\":\"steelblue\"},\"line_color\":{\"value\":\"steelblue\"},\"size\":{\"units\":\"screen\",\"value\":10},\"x\":{\"field\":\"x\"},\"y\":{\"field\":\"y\"}},\"id\":\"1051\",\"type\":\"Circle\"},{\"attributes\":{},\"id\":\"1069\",\"type\":\"UnionRenderers\"},{\"attributes\":{\"align\":\"center\",\"width\":300},\"id\":\"1042\",\"type\":\"Div\"},{\"attributes\":{\"align\":\"center\",\"text\":\"0.0\",\"width\":300},\"id\":\"1041\",\"type\":\"Div\"},{\"attributes\":{},\"id\":\"1018\",\"type\":\"BasicTicker\"},{\"attributes\":{\"callback\":{\"id\":\"1055\"},\"renderers\":[{\"id\":\"1053\"}],\"tooltips\":null},\"id\":\"1056\",\"type\":\"HoverTool\"},{\"attributes\":{\"end\":1434.53,\"start\":-1300.93},\"id\":\"1007\",\"type\":\"Range1d\"},{\"attributes\":{\"fill_color\":{\"value\":\"steelblue\"},\"line_alpha\":{\"value\":0.1},\"line_color\":{\"value\":\"steelblue\"},\"size\":{\"units\":\"screen\",\"value\":10},\"x\":{\"field\":\"x\"},\"y\":{\"field\":\"y\"}},\"id\":\"1052\",\"type\":\"Circle\"},{\"attributes\":{},\"id\":\"1009\",\"type\":\"LinearScale\"},{\"attributes\":{},\"id\":\"1070\",\"type\":\"Selection\"},{\"attributes\":{\"data_source\":{\"id\":\"1050\"},\"glyph\":{\"id\":\"1051\"},\"hover_glyph\":null,\"muted_glyph\":null,\"nonselection_glyph\":{\"id\":\"1052\"},\"selection_glyph\":null,\"view\":{\"id\":\"1054\"}},\"id\":\"1053\",\"type\":\"GlyphRenderer\"},{\"attributes\":{\"args\":{\"source\":{\"id\":\"1043\"}},\"code\":\"\\n    source.data['last_index'] = cb_data.index.indices[0]   \\n    \"},\"id\":\"1055\",\"type\":\"CustomJS\"},{\"attributes\":{},\"id\":\"1071\",\"type\":\"UnionRenderers\"},{\"attributes\":{\"source\":{\"id\":\"1050\"}},\"id\":\"1054\",\"type\":\"CDSView\"},{\"attributes\":{},\"id\":\"1072\",\"type\":\"Selection\"},{\"attributes\":{\"end\":2772.701,\"start\":467.09900000000005},\"id\":\"1005\",\"type\":\"Range1d\"},{\"attributes\":{\"args\":{\"cost\":{\"id\":\"1041\"},\"done\":{\"id\":\"1042\"},\"pts\":{\"id\":\"1050\"},\"source\":{\"id\":\"1043\"},\"tour\":{\"id\":\"1044\"}},\"code\":\"\\n    var node = source.data['last_index']\\n    \\n    if (node.toString() != -1) {\\n        if (!(tour.data['indices'].includes(node))) {\\n            if (tour.data['indices'].length > 0) { \\n                var prev = tour.data['indices'][tour.data['indices'].length - 1]\\n            } else {\\n                var prev = -1\\n            }\\n\\n            var tmp_edges_x = tour.data['edges_x']\\n            var tmp_edges_y = tour.data['edges_y']\\n            var tmp_indices = tour.data['indices']\\n\\n            tmp_edges_x.push(pts.data['x'][node])\\n            tmp_edges_y.push(pts.data['y'][node])\\n            tmp_indices.push(node)\\n\\n            tour.data['edges_x'] = tmp_edges_x\\n            tour.data['edges_y'] = tmp_edges_y\\n            tour.data['indices'] = tmp_indices\\n\\n            if (prev == -1) {\\n                cost.text = '0.0'\\n            } else {\\n                var before = parseFloat(cost.text)\\n                var increase = source.data['G'][prev][node]\\n                cost.text = (before + increase).toFixed(1)   \\n            }\\n            \\n            if (tour.data['indices'].length == source.data['G'].length) {\\n                var tmp_edges_x = tour.data['edges_x']\\n                var tmp_edges_y = tour.data['edges_y']\\n                var tmp_indices = tour.data['indices']\\n\\n                tmp_edges_x.push(tmp_edges_x[0])\\n                tmp_edges_y.push(tmp_edges_y[0])\\n                tmp_indices.push(tmp_indices[0])\\n\\n                tour.data['edges_x'] = tmp_edges_x\\n                tour.data['edges_y'] = tmp_edges_y\\n                tour.data['indices'] = tmp_indices\\n\\n                var before = parseFloat(cost.text)\\n                var increase = source.data['G'][node][tmp_indices[0]]\\n                cost.text = (before + increase).toFixed(1) \\n            }    \\n        }\\n    }\\n    done.text = '['.concat(tour.data['indices'].join(',')).concat(']')\\n    tour.change.emit()\\n    \"},\"id\":\"1057\",\"type\":\"CustomJS\"},{\"attributes\":{\"text\":\"\"},\"id\":\"1003\",\"type\":\"Title\"},{\"attributes\":{\"formatter\":{\"id\":\"1063\"},\"ticker\":{\"id\":\"1014\"},\"visible\":false},\"id\":\"1013\",\"type\":\"LinearAxis\"},{\"attributes\":{\"h\":{\"units\":\"data\",\"value\":2735.46},\"url\":{\"field\":\"url\"},\"w\":{\"units\":\"data\",\"value\":2305.602},\"x\":{\"value\":447.09900000000005},\"y\":{\"value\":1439.53}},\"id\":\"1037\",\"type\":\"ImageURL\"},{\"attributes\":{\"callback\":{\"id\":\"1057\"},\"renderers\":[{\"id\":\"1053\"}]},\"id\":\"1058\",\"type\":\"TapTool\"},{\"attributes\":{},\"id\":\"1074\",\"type\":\"UnionRenderers\"},{\"attributes\":{\"data\":{\"x\":[751.5,634.6,701.4,784.9,985.3,1753.5,1920.5,2338.0,2404.8,2187.7,2321.3,2471.6,2505.0,2605.2,1987.3,2070.8,2421.5,2321.3,2187.7,2237.8,2154.3,1619.9,1670.0],\"y\":[1235.8,200.4,-100.2,-267.2,-367.4,768.1999999999998,-801.5999999999998,-868.4,-1102.2,-400.8,-300.6,334.0,467.6,668.0,400.8,-133.6,233.8,668.0,267.2,434.2,534.4,-501.0,-868.4]},\"selected\":{\"id\":\"1072\"},\"selection_policy\":{\"id\":\"1071\"}},\"id\":\"1050\",\"type\":\"ColumnDataSource\"},{\"attributes\":{},\"id\":\"1075\",\"type\":\"Selection\"},{\"attributes\":{\"formatter\":{\"id\":\"1065\"},\"ticker\":{\"id\":\"1018\"},\"visible\":false},\"id\":\"1017\",\"type\":\"LinearAxis\"},{\"attributes\":{\"source\":{\"id\":\"1044\"}},\"id\":\"1049\",\"type\":\"CDSView\"},{\"attributes\":{\"background_fill_color\":null,\"below\":[{\"id\":\"1013\"}],\"border_fill_color\":null,\"center\":[{\"id\":\"1016\"},{\"id\":\"1020\"}],\"left\":[{\"id\":\"1017\"}],\"outline_line_color\":null,\"plot_height\":375,\"renderers\":[{\"id\":\"1039\"},{\"id\":\"1048\"},{\"id\":\"1053\"}],\"title\":{\"id\":\"1003\"},\"toolbar\":{\"id\":\"1028\"},\"toolbar_location\":null,\"x_range\":{\"id\":\"1005\"},\"x_scale\":{\"id\":\"1009\"},\"y_range\":{\"id\":\"1007\"},\"y_scale\":{\"id\":\"1011\"}},\"id\":\"1002\",\"subtype\":\"Figure\",\"type\":\"Plot\"},{\"attributes\":{\"line_width\":4,\"x\":{\"field\":\"edges_x\"},\"y\":{\"field\":\"edges_y\"}},\"id\":\"1046\",\"type\":\"Line\"},{\"attributes\":{\"data\":{\"edges_x\":[],\"edges_y\":[],\"indices\":[]},\"selected\":{\"id\":\"1070\"},\"selection_policy\":{\"id\":\"1069\"}},\"id\":\"1044\",\"type\":\"ColumnDataSource\"},{\"attributes\":{\"axis\":{\"id\":\"1017\"},\"dimension\":1,\"grid_line_color\":null,\"ticker\":null},\"id\":\"1020\",\"type\":\"Grid\"},{\"attributes\":{\"data\":{\"G\":[[0.0,1041.978296319074,1336.9390449829789,1503.3710653062335,1620.158226840823,1105.73674986409,2348.9486499283034,2635.268466399581,2863.502207088376,2177.4136033376844,2196.5420551403063,1942.160459385372,1914.391153865897,1938.711048609359,1491.4511859259762,1901.5280302956355,1947.5379328783304,1669.3318663465332,1732.2980113132955,1688.682992749083,1568.3780794183526,1941.8014316608173,2295.931159682276],[1041.978296319074,1.0789593218788873e-05,307.9327848735826,491.16173507308156,667.3734561697819,1254.7246909182904,1630.197169056553,2010.9462946583133,2197.811365881977,1665.4011678871848,1759.5334296341177,1841.8517747093547,1889.389319330455,2025.318276222283,1367.4638752084093,1474.525835650227,1787.212122273123,1750.3161571556152,1554.5358953719915,1620.1582268408233,1555.970465658009,1209.4536163077937,1488.081516584357],[1336.9390449829789,307.9327848735826,0.0,186.71167612123244,389.86542549962036,1364.1968223097426,1406.4731671809454,1807.9244453239742,1976.2529089162654,1516.3931053654917,1632.2488076270727,1822.673223592205,1890.8648285903464,2052.9456105800755,1380.0506548674218,1369.80725651458,1752.2271570775295,1792.8210312242547,1531.0357441941057,1626.6863004279592,1585.4449123195675,1002.1391570036569,1236.2512689578928],[1503.3710653062335,491.16173507308156,186.71167612123244,0.0,224.0540113454783,1417.829016489647,1255.0580544341362,1665.4011678871848,1822.443691859916,1409.147543729896,1536.7630005957328,1790.6418765347803,1870.4745520856463,2046.4826239184147,1375.4961868358632,1292.8216311618553,1711.566697502613,1798.6450455829242,1501.1432976235144,1613.3444672480828,1586.7636623013525,867.1144330479111,1069.973574440042],[1620.158226840823,667.3734561697819,389.86542549962036,224.0540113454783,0.0,1371.0283002184892,1031.081315900933,1442.497240898574,1598.4089870868472,1202.863799438656,1337.6689575526525,1643.4870398028697,1733.9876268301339,1922.531968524841,1262.5906858519115,1110.3930340199367,1556.9559659797708,1690.2512120983672,1359.5892467947808,1487.0503723815143,1476.4160118340633,648.5106938208503,848.4191711648201],[1105.73674986409,1254.7246909182904,1364.1968223097426,1417.829016489647,1371.0283002184892,0.0,1578.6579870256883,1737.8434365615328,1980.5524103138498,1247.03273413331,1210.2604182571617,839.1646143635943,809.3902705123156,857.5738627080477,435.48272066753714,955.9929549949619,855.4573981210283,576.5733951545102,662.9710702587253,588.3047594572054,464.00762924762455,1276.2122080594586,1638.728717634496],[2348.9486499283034,1630.197169056553,1406.4731671809454,1255.0580544341362,1031.081315900933,1578.6579870256883,0.0,422.8102292991505,570.0060087402601,481.7016504019875,641.5930485907704,1262.2593117105534,1397.322042336698,1621.276734552124,1204.2541260049725,684.6999999999999,1150.2409138958674,1523.274367932448,1101.693823165038,1275.884371720258,1356.3032256836962,425.1125968493521,259.253717427541],[2635.268466399581,2010.9462946583133,1807.9244453239742,1665.4011678871848,1442.497240898574,1737.8434365615328,422.8102292991505,0.0,243.15567030196868,491.1617350730812,568.0455351466101,1209.7994544551584,1346.3970439658578,1559.461701998481,1316.7608476864737,781.8739540360702,1105.3583536573105,1536.4907581889322,1145.5031427281199,1306.4481620026104,1414.776848128354,806.6290163389854,668.0],[2863.502207088376,2197.811365881977,1976.2529089162654,1822.443691859916,1598.4089870868472,1980.5524103138498,570.0060087402601,243.15567030196868,0.0,734.2304610951518,805.9372246025113,1437.7526491020628,1572.9946217327001,1781.5072831734367,1559.9087313044952,1024.5691582318877,1336.1043709231703,1772.1682453988383,1386.5023512421462,1545.4494362482394,1655.6599318700687,988.6907757231273,771.0988782250954],[2177.4136033376844,1665.4011678871848,1516.3931053654917,1409.147543729896,1202.863799438656,1247.03273413331,481.7016504019875,491.1617350730812,734.2304610951518,0.0,167.0,787.7374245267264,924.5527837825149,1147.4492102049664,826.270367373779,291.6529615827675,676.2984548259737,1077.1176351726865,668.0,836.5016497293963,935.7962385049427,576.573395154511,697.6123923784603],[2196.5420551403063,1759.5334296341177,1632.2488076270727,1536.7630005957328,1337.6689575526525,1210.2604182571617,641.5930485907704,568.0455351466101,805.9372246025113,167.0,0.0,652.1558479382056,789.8588038377491,1009.3488841822732,776.8641837541495,301.0635315012431,543.7126079097322,968.6000000000005,583.3059231655382,739.5291001711827,851.536258769995,729.4670109059074,864.0535457944723],[1942.160459385372,1841.8517747093547,1822.673223592205,1790.6418765347803,1643.4870398028697,839.1646143635943,1262.2593117105534,1209.7994544551584,1437.7526491020628,787.7374245267264,652.1558479382056,0.0,137.71172789562823,359.72900911658354,488.885191021369,615.8655697471652,112.02700567274279,366.25959373100363,291.6529615827675,254.36682173585174,375.28582440588013,1192.735465222696,1445.1049512059667],[1914.391153865897,1889.389319330455,1890.8648285903464,1870.4745520856463,1733.9876268301339,809.3902705123156,1397.322042336698,1346.3970439658578,1572.9946217327001,924.5527837825149,789.8588038377491,137.71172789562823,0.0,224.05401134547728,521.9918869101314,741.6003505932289,248.26334808021798,271.8563039548644,375.2858244058777,269.27940879317225,357.0052240514142,1312.0929730777464,1575.4748490534528],[1938.711048609359,2025.318276222283,2052.9456105800755,2046.4826239184147,1922.531968524841,857.5738627080477,1621.276734552124,1559.461701998481,1781.5072831734367,1147.4492102049664,1009.3488841822732,359.72900911658354,224.05401134547728,0.0,673.1985219829276,963.4033008039779,471.46084673066974,283.90000000000157,578.74596326886,435.48272066753606,470.2762698669789,1528.8482887454857,1798.6450455829242],[1491.4511859259762,1367.4638752084093,1380.0506548674218,1375.4961868358632,1262.5906858519115,435.48272066753714,1204.2541260049725,1316.7608476864737,1559.9087313044952,826.270367373779,776.8641837541495,488.885191021369,521.9918869101314,673.1985219829276,0.0,540.8841003394353,465.20816845795025,427.72869906051415,240.85082520099277,252.71685737203734,213.86434953025923,973.7689664391652,1308.261415008484],[1901.5280302956355,1474.525835650227,1369.80725651458,1292.8216311618553,1110.3930340199367,955.9929549949619,684.6999999999999,781.8739540360702,1024.5691582318877,291.6529615827675,301.0635315012431,615.8655697471652,741.6003505932289,963.4033008039779,540.8841003394353,0.0,507.91067127990135,839.8290361734337,417.5,591.8495078987562,673.1985219829303,581.6300972267514,837.0016009542627],[1947.5379328783304,1787.212122273123,1752.2271570775295,1711.566697502613,1556.9559659797708,855.4573981210283,1150.2409138958674,1105.3583536573105,1336.1043709231703,676.2984548259737,543.7126079097322,112.02700567274279,248.26334808021798,471.46084673066974,465.20816845795025,507.91067127990135,0.0,445.6115797418192,236.17366491630688,271.8563039548678,402.18925893166636,1087.4252158194606,1334.0154009605735],[1669.3318663465332,1750.3161571556152,1792.8210312242547,1798.6450455829242,1690.2512120983672,576.5733951545102,1523.274367932448,1536.4907581889322,1772.1682453988383,1077.1176351726865,968.6000000000005,366.25959373100363,271.8563039548644,283.90000000000157,427.72869906051415,839.8290361734337,445.6115797418192,0.0,422.4802953984972,248.26334808022173,213.86434953025923,1363.2765530148313,1668.7470299599036],[1732.2980113132955,1554.5358953719915,1531.0357441941057,1501.1432976235144,1359.5892467947808,662.9710702587253,1101.693823165038,1145.5031427281199,1386.5023512421462,668.0,583.3059231655382,291.6529615827675,375.2858244058777,578.74596326886,240.85082520099277,417.5,236.17366491630688,422.4802953984972,0.0,174.35311869880556,269.27940879317225,955.2633563578157,1248.03872135443],[1688.682992749083,1620.1582268408233,1626.6863004279592,1613.3444672480828,1487.0503723815143,588.3047594572054,1275.884371720258,1306.4481620026104,1545.4494362482394,836.5016497293963,739.5291001711827,254.36682173585174,269.27940879317225,435.48272066753606,252.71685737203734,591.8495078987562,271.8563039548678,248.26334808022173,174.35311869880556,0.0,130.4311695876377,1120.8922561959287,1420.9727653970008],[1568.3780794183526,1555.970465658009,1585.4449123195675,1586.7636623013525,1476.4160118340633,464.00762924762455,1356.3032256836962,1414.776848128354,1655.6599318700687,935.7962385049427,851.536258769995,375.28582440588013,357.0052240514142,470.2762698669789,213.86434953025923,673.1985219829303,402.18925893166636,213.86434953025923,269.27940879317225,130.4311695876377,0.0,1165.176604639829,1484.0466064109985],[1941.8014316608173,1209.4536163077937,1002.1391570036569,867.1144330479111,648.5106938208503,1276.2122080594586,425.1125968493521,806.6290163389854,988.6907757231273,576.573395154511,729.4670109059074,1192.735465222696,1312.0929730777464,1528.8482887454857,973.7689664391652,581.6300972267514,1087.4252158194606,1363.2765530148313,955.2633563578157,1120.8922561959287,1165.176604639829,0.0,370.8001752966151],[2295.931159682276,1488.081516584357,1236.2512689578928,1069.973574440042,848.4191711648201,1638.728717634496,259.253717427541,668.0,771.0988782250954,697.6123923784603,864.0535457944723,1445.1049512059667,1575.4748490534528,1798.6450455829242,1308.261415008484,837.0016009542627,1334.0154009605735,1668.7470299599036,1248.03872135443,1420.9727653970008,1484.0466064109985,370.8001752966151,0.0]]},\"selected\":{\"id\":\"1075\"},\"selection_policy\":{\"id\":\"1074\"}},\"id\":\"1043\",\"type\":\"ColumnDataSource\"},{\"attributes\":{},\"id\":\"1011\",\"type\":\"LinearScale\"},{\"attributes\":{},\"id\":\"1022\",\"type\":\"WheelZoomTool\"},{\"attributes\":{\"axis\":{\"id\":\"1013\"},\"grid_line_color\":null,\"ticker\":null},\"id\":\"1016\",\"type\":\"Grid\"},{\"attributes\":{\"active_drag\":\"auto\",\"active_inspect\":\"auto\",\"active_multi\":null,\"active_scroll\":\"auto\",\"active_tap\":\"auto\",\"logo\":null,\"tools\":[{\"id\":\"1021\"},{\"id\":\"1022\"},{\"id\":\"1023\"},{\"id\":\"1024\"},{\"id\":\"1025\"},{\"id\":\"1026\"},{\"id\":\"1056\"},{\"id\":\"1058\"}]},\"id\":\"1028\",\"type\":\"Toolbar\"},{\"attributes\":{\"data\":{\"url\":[\"images/us.png\"]},\"selected\":{\"id\":\"1068\"},\"selection_policy\":{\"id\":\"1067\"}},\"id\":\"1036\",\"type\":\"ColumnDataSource\"},{\"attributes\":{},\"id\":\"1024\",\"type\":\"SaveTool\"},{\"attributes\":{\"data_source\":{\"id\":\"1044\"},\"glyph\":{\"id\":\"1046\"},\"hover_glyph\":null,\"muted_glyph\":null,\"nonselection_glyph\":{\"id\":\"1047\"},\"selection_glyph\":null,\"view\":{\"id\":\"1049\"}},\"id\":\"1048\",\"type\":\"GlyphRenderer\"},{\"attributes\":{},\"id\":\"1025\",\"type\":\"ResetTool\"},{\"attributes\":{\"global_alpha\":0.1,\"h\":{\"units\":\"data\",\"value\":2735.46},\"url\":{\"field\":\"url\"},\"w\":{\"units\":\"data\",\"value\":2305.602},\"x\":{\"value\":447.09900000000005},\"y\":{\"value\":1439.53}},\"id\":\"1038\",\"type\":\"ImageURL\"}],\"root_ids\":[\"1077\"]},\"title\":\"Bokeh Application\",\"version\":\"2.1.0\"}};\n",
       "  var render_items = [{\"docid\":\"47694dd4-d91d-4b42-afbb-c17a32cb4b60\",\"root_ids\":[\"1077\"],\"roots\":{\"1077\":\"e9ba2a75-0843-41c8-a46a-fa408907d9cd\"}}];\n",
       "  root.Bokeh.embed.embed_items_notebook(docs_json, render_items);\n",
       "\n",
       "  }\n",
       "  if (root.Bokeh !== undefined) {\n",
       "    embed_document(root);\n",
       "  } else {\n",
       "    var attempts = 0;\n",
       "    var timer = setInterval(function(root) {\n",
       "      if (root.Bokeh !== undefined) {\n",
       "        clearInterval(timer);\n",
       "        embed_document(root);\n",
       "      } else {\n",
       "        attempts++;\n",
       "        if (attempts > 100) {\n",
       "          clearInterval(timer);\n",
       "          console.log(\"Bokeh: ERROR: Unable to run BokehJS code because BokehJS library is missing\");\n",
       "        }\n",
       "      }\n",
       "    }, 10, root)\n",
       "  }\n",
       "})(window);"
      ],
      "application/vnd.bokehjs_exec.v0+json": ""
     },
     "metadata": {
      "application/vnd.bokehjs_exec.v0+json": {
       "id": "1077"
      }
     },
     "output_type": "display_data"
    }
   ],
   "source": [
    "plot_create_tour(nodes, G, width=600, height=375, show_us=True)"
   ]
  },
  {
   "cell_type": "markdown",
   "metadata": {},
   "source": [
    "**Q1:** What was the smallest tour cost you found?\n",
    "\n",
    "**A:** <font color='blue'> No less than 8356.8</font>"
   ]
  },
  {
   "cell_type": "markdown",
   "metadata": {},
   "source": [
    "## Part II: TSP Heuristics"
   ]
  },
  {
   "cell_type": "markdown",
   "metadata": {},
   "source": [
    "In this part of the lab, we will consider 4 different TSP heuristics. A heuristic aims to find a good feasible solution to a problem although it is not guaranteed to be optimal. Before we move on, we will abstract the TSP to finding an optimal tour on a set of *nodes* rather than cities. These nodes could represent anything. \n",
    "\n",
    "- **Random Neighbor:** Start at some node. Randomly select one of the nodes which has not been visited to visit next. Continue doing so until all nodes have been visited. Return to the start.\n",
    "- **Nearest Neighbor:** Start at some node. Visit the closest unvisited node next (if there are multiple closest nodes, choose one randomly). Continue doing so until all nodes have been visited. Return to the start.\n",
    "- **Nearest Insertion:** Start with a “tour” on two of the nodes (e.g., the closest pair of nodes). Find the closest unvisited node to any node currently in tour. Insert the node into the tour at the best place (if there are multiple closest nodes, choose one to add randomly).\n",
    "- **Furthest Insertion:** Start with a “tour” on two of the nodes (e.g., the closest pair of nodes). Find the node whose smallest distance to a node already in the tour is maximized. Insert the node into the tour at the best place (if there are multiple furthest nodes, choose one to add randomly)."
   ]
  },
  {
   "cell_type": "markdown",
   "metadata": {},
   "source": [
    "**Q2:** Which heuristic to you expect to perform the best? Which do you expect to perform the worst?\n",
    "\n",
    "**A:** <font color='blue'> Will vary. Maybe random neighbor worst and nearest insertion best.</font>"
   ]
  },
  {
   "cell_type": "markdown",
   "metadata": {},
   "source": [
    "To compare the heuristics, we will use a simple 6x8 grid of nodes. The cell below creates this instance. Note that we will initally use the manhattan distance."
   ]
  },
  {
   "cell_type": "code",
   "execution_count": 8,
   "metadata": {},
   "outputs": [],
   "source": [
    "# nodes is the list of nodes and their position and G is the distance matrix\n",
    "nodes, G = tsp_grid_instance(6,8,manhattan=True)"
   ]
  },
  {
   "cell_type": "markdown",
   "metadata": {},
   "source": [
    "Let's use random neighbor (a terrible heuristic) to get a baseline for the length of a tour. The function `random_neighbor` will run the random neighbor heuristic and the function `plot_tour` will plot the tour and its cost in the lower-left."
   ]
  },
  {
   "cell_type": "code",
   "execution_count": 9,
   "metadata": {},
   "outputs": [
    {
     "name": "stdout",
     "output_type": "stream",
     "text": [
      "[0, 18, 35, 25, 4, 13, 36, 41, 45, 11, 21, 2, 47, 26, 40, 30, 16, 19, 38, 5, 29, 3, 15, 46, 14, 20, 17, 10, 32, 22, 39, 8, 42, 23, 12, 44, 37, 34, 28, 24, 9, 31, 6, 43, 1, 27, 33, 7, 0]\n"
     ]
    },
    {
     "data": {
      "text/html": [
       "\n",
       "\n",
       "\n",
       "\n",
       "\n",
       "\n",
       "  <div class=\"bk-root\" id=\"c0f1174d-89a9-4d02-b1d4-447f5fcd6fe2\" data-root-id=\"1232\"></div>\n"
      ]
     },
     "metadata": {},
     "output_type": "display_data"
    },
    {
     "data": {
      "application/javascript": [
       "(function(root) {\n",
       "  function embed_document(root) {\n",
       "    \n",
       "  var docs_json = {\"94742ad4-358f-441f-a603-478dc81640d1\":{\"roots\":{\"references\":[{\"attributes\":{\"children\":[[{\"id\":\"1176\"},0,0],[{\"id\":\"1210\"},1,0]]},\"id\":\"1232\",\"type\":\"GridBox\"},{\"attributes\":{\"bottom_units\":\"screen\",\"fill_alpha\":0.5,\"fill_color\":\"lightgrey\",\"left_units\":\"screen\",\"level\":\"overlay\",\"line_alpha\":1.0,\"line_color\":\"black\",\"line_dash\":[4,4],\"line_width\":2,\"right_units\":\"screen\",\"top_units\":\"screen\"},\"id\":\"1201\",\"type\":\"BoxAnnotation\"},{\"attributes\":{\"axis\":{\"id\":\"1191\"},\"dimension\":1,\"grid_line_color\":null,\"ticker\":null},\"id\":\"1194\",\"type\":\"Grid\"},{\"attributes\":{\"data\":{\"x\":[0.0,2.0,4.0,3.0,0.0,1.0,4.0,5.0,5.0,1.0,2.0,0.0,5.0,3.0,5.0,3.0,2.0,2.0,4.0,0.0,3.0,0.0,1.0,5.0,1.0,2.0,2.0,1.0,4.0,2.0,4.0,1.0,5.0,2.0,1.0,5.0,4.0,4.0,3.0,3.0,1.0,3.0,0.0,5.0,0.0,3.0,4.0,0.0,0.0],\"y\":[0.0,2.0,3.0,1.0,4.0,5.0,4.0,1.0,5.0,3.0,5.0,2.0,7.0,2.0,0.0,6.0,0.0,3.0,6.0,5.0,5.0,3.0,7.0,6.0,6.0,4.0,1.0,2.0,0.0,6.0,7.0,0.0,2.0,7.0,4.0,4.0,5.0,2.0,4.0,0.0,1.0,7.0,6.0,3.0,1.0,3.0,1.0,7.0,0.0]},\"selected\":{\"id\":\"1227\"},\"selection_policy\":{\"id\":\"1226\"}},\"id\":\"1211\",\"type\":\"ColumnDataSource\"},{\"attributes\":{\"data_source\":{\"id\":\"1211\"},\"glyph\":{\"id\":\"1212\"},\"hover_glyph\":null,\"muted_glyph\":null,\"nonselection_glyph\":{\"id\":\"1213\"},\"selection_glyph\":null,\"view\":{\"id\":\"1215\"}},\"id\":\"1214\",\"type\":\"GlyphRenderer\"},{\"attributes\":{},\"id\":\"1188\",\"type\":\"BasicTicker\"},{\"attributes\":{\"background_fill_color\":null,\"below\":[{\"id\":\"1187\"}],\"border_fill_color\":null,\"center\":[{\"id\":\"1190\"},{\"id\":\"1194\"}],\"left\":[{\"id\":\"1191\"}],\"outline_line_color\":null,\"plot_height\":400,\"plot_width\":400,\"renderers\":[{\"id\":\"1214\"},{\"id\":\"1219\"}],\"title\":{\"id\":\"1177\"},\"toolbar\":{\"id\":\"1202\"},\"toolbar_location\":null,\"x_range\":{\"id\":\"1179\"},\"x_scale\":{\"id\":\"1183\"},\"y_range\":{\"id\":\"1181\"},\"y_scale\":{\"id\":\"1185\"}},\"id\":\"1176\",\"subtype\":\"Figure\",\"type\":\"Plot\"},{\"attributes\":{},\"id\":\"1183\",\"type\":\"LinearScale\"},{\"attributes\":{\"source\":{\"id\":\"1211\"}},\"id\":\"1215\",\"type\":\"CDSView\"},{\"attributes\":{\"line_alpha\":0.1,\"line_width\":4,\"x\":{\"field\":\"x\"},\"y\":{\"field\":\"y\"}},\"id\":\"1213\",\"type\":\"Line\"},{\"attributes\":{\"data\":{\"x\":[0.0,0.0,0.0,0.0,0.0,0.0,0.0,0.0,1.0,1.0,1.0,1.0,1.0,1.0,1.0,1.0,2.0,2.0,2.0,2.0,2.0,2.0,2.0,2.0,3.0,3.0,3.0,3.0,3.0,3.0,3.0,3.0,4.0,4.0,4.0,4.0,4.0,4.0,4.0,4.0,5.0,5.0,5.0,5.0,5.0,5.0,5.0,5.0],\"y\":[0.0,1.0,2.0,3.0,4.0,5.0,6.0,7.0,0.0,1.0,2.0,3.0,4.0,5.0,6.0,7.0,0.0,1.0,2.0,3.0,4.0,5.0,6.0,7.0,0.0,1.0,2.0,3.0,4.0,5.0,6.0,7.0,0.0,1.0,2.0,3.0,4.0,5.0,6.0,7.0,0.0,1.0,2.0,3.0,4.0,5.0,6.0,7.0]},\"selected\":{\"id\":\"1229\"},\"selection_policy\":{\"id\":\"1228\"}},\"id\":\"1216\",\"type\":\"ColumnDataSource\"},{\"attributes\":{},\"id\":\"1195\",\"type\":\"PanTool\"},{\"attributes\":{},\"id\":\"1196\",\"type\":\"WheelZoomTool\"},{\"attributes\":{},\"id\":\"1185\",\"type\":\"LinearScale\"},{\"attributes\":{},\"id\":\"1198\",\"type\":\"SaveTool\"},{\"attributes\":{\"end\":7.595,\"start\":-0.5950000000000001},\"id\":\"1181\",\"type\":\"Range1d\"},{\"attributes\":{\"fill_color\":{\"value\":\"steelblue\"},\"line_color\":{\"value\":\"steelblue\"},\"size\":{\"units\":\"screen\",\"value\":8},\"x\":{\"field\":\"x\"},\"y\":{\"field\":\"y\"}},\"id\":\"1217\",\"type\":\"Circle\"},{\"attributes\":{\"fill_alpha\":{\"value\":0.1},\"fill_color\":{\"value\":\"steelblue\"},\"line_alpha\":{\"value\":0.1},\"line_color\":{\"value\":\"steelblue\"},\"size\":{\"units\":\"screen\",\"value\":8},\"x\":{\"field\":\"x\"},\"y\":{\"field\":\"y\"}},\"id\":\"1218\",\"type\":\"Circle\"},{\"attributes\":{\"overlay\":{\"id\":\"1201\"}},\"id\":\"1197\",\"type\":\"BoxZoomTool\"},{\"attributes\":{\"data_source\":{\"id\":\"1216\"},\"glyph\":{\"id\":\"1217\"},\"hover_glyph\":null,\"muted_glyph\":null,\"nonselection_glyph\":{\"id\":\"1218\"},\"selection_glyph\":null,\"view\":{\"id\":\"1220\"}},\"id\":\"1219\",\"type\":\"GlyphRenderer\"},{\"attributes\":{\"end\":5.425,\"start\":-0.42500000000000004},\"id\":\"1179\",\"type\":\"Range1d\"},{\"attributes\":{\"text\":\"\"},\"id\":\"1177\",\"type\":\"Title\"},{\"attributes\":{\"source\":{\"id\":\"1216\"}},\"id\":\"1220\",\"type\":\"CDSView\"},{\"attributes\":{},\"id\":\"1199\",\"type\":\"ResetTool\"},{\"attributes\":{},\"id\":\"1222\",\"type\":\"BasicTickFormatter\"},{\"attributes\":{},\"id\":\"1200\",\"type\":\"HelpTool\"},{\"attributes\":{\"align\":\"center\",\"text\":\"238.0\",\"width\":400},\"id\":\"1210\",\"type\":\"Div\"},{\"attributes\":{},\"id\":\"1228\",\"type\":\"UnionRenderers\"},{\"attributes\":{\"line_width\":4,\"x\":{\"field\":\"x\"},\"y\":{\"field\":\"y\"}},\"id\":\"1212\",\"type\":\"Line\"},{\"attributes\":{},\"id\":\"1224\",\"type\":\"BasicTickFormatter\"},{\"attributes\":{\"active_drag\":\"auto\",\"active_inspect\":\"auto\",\"active_multi\":null,\"active_scroll\":\"auto\",\"active_tap\":\"auto\",\"logo\":null,\"tools\":[{\"id\":\"1195\"},{\"id\":\"1196\"},{\"id\":\"1197\"},{\"id\":\"1198\"},{\"id\":\"1199\"},{\"id\":\"1200\"}]},\"id\":\"1202\",\"type\":\"Toolbar\"},{\"attributes\":{},\"id\":\"1226\",\"type\":\"UnionRenderers\"},{\"attributes\":{},\"id\":\"1192\",\"type\":\"BasicTicker\"},{\"attributes\":{},\"id\":\"1227\",\"type\":\"Selection\"},{\"attributes\":{\"formatter\":{\"id\":\"1222\"},\"ticker\":{\"id\":\"1188\"},\"visible\":false},\"id\":\"1187\",\"type\":\"LinearAxis\"},{\"attributes\":{\"formatter\":{\"id\":\"1224\"},\"ticker\":{\"id\":\"1192\"},\"visible\":false},\"id\":\"1191\",\"type\":\"LinearAxis\"},{\"attributes\":{},\"id\":\"1229\",\"type\":\"Selection\"},{\"attributes\":{\"axis\":{\"id\":\"1187\"},\"grid_line_color\":null,\"ticker\":null},\"id\":\"1190\",\"type\":\"Grid\"}],\"root_ids\":[\"1232\"]},\"title\":\"Bokeh Application\",\"version\":\"2.1.0\"}};\n",
       "  var render_items = [{\"docid\":\"94742ad4-358f-441f-a603-478dc81640d1\",\"root_ids\":[\"1232\"],\"roots\":{\"1232\":\"c0f1174d-89a9-4d02-b1d4-447f5fcd6fe2\"}}];\n",
       "  root.Bokeh.embed.embed_items_notebook(docs_json, render_items);\n",
       "\n",
       "  }\n",
       "  if (root.Bokeh !== undefined) {\n",
       "    embed_document(root);\n",
       "  } else {\n",
       "    var attempts = 0;\n",
       "    var timer = setInterval(function(root) {\n",
       "      if (root.Bokeh !== undefined) {\n",
       "        clearInterval(timer);\n",
       "        embed_document(root);\n",
       "      } else {\n",
       "        attempts++;\n",
       "        if (attempts > 100) {\n",
       "          clearInterval(timer);\n",
       "          console.log(\"Bokeh: ERROR: Unable to run BokehJS code because BokehJS library is missing\");\n",
       "        }\n",
       "      }\n",
       "    }, 10, root)\n",
       "  }\n",
       "})(window);"
      ],
      "application/vnd.bokehjs_exec.v0+json": ""
     },
     "metadata": {
      "application/vnd.bokehjs_exec.v0+json": {
       "id": "1232"
      }
     },
     "output_type": "display_data"
    }
   ],
   "source": [
    "tour = random_neighbor(G)\n",
    "# tour is an ordered list of the nodes starting and ending at the same node\n",
    "print(tour)\n",
    "plot_tour(nodes, G, tour)"
   ]
  },
  {
   "cell_type": "markdown",
   "metadata": {},
   "source": [
    "**Q3:** Does this look like a good tour to you? Run it a few times and see what the average tour cost is.\n",
    "\n",
    "**A:** <font color='blue'>No. Average around 230.</font>"
   ]
  },
  {
   "cell_type": "markdown",
   "metadata": {},
   "source": [
    "Now, let's look at the nearest neighbor heuristic. This time, we will use the function `plot_tsp_heuristic` to see every iteration of the heuristic. We can move through iterations with the `Next` and `Previous` buttons. The tour cost will update in the bottmom-left. `done.` will appear in the bottom-right when the heuristic has finished."
   ]
  },
  {
   "cell_type": "code",
   "execution_count": 10,
   "metadata": {},
   "outputs": [
    {
     "data": {
      "text/html": [
       "\n",
       "\n",
       "\n",
       "\n",
       "\n",
       "\n",
       "  <div class=\"bk-root\" id=\"710bd4c4-3928-4316-a473-3c72904a9f53\" data-root-id=\"1387\"></div>\n"
      ]
     },
     "metadata": {},
     "output_type": "display_data"
    },
    {
     "data": {
      "application/javascript": [
       "(function(root) {\n",
       "  function embed_document(root) {\n",
       "    \n",
       "  var docs_json = {\"8fcaeead-9770-430b-a2bd-994fb20bd4cf\":{\"roots\":{\"references\":[{\"attributes\":{\"children\":[[{\"id\":\"1317\"},0,0],[{\"id\":\"1370\"},1,0],[{\"id\":\"1371\"},2,0]]},\"id\":\"1387\",\"type\":\"GridBox\"},{\"attributes\":{\"fill_color\":{\"value\":\"steelblue\"},\"line_color\":{\"value\":\"steelblue\"},\"size\":{\"units\":\"screen\",\"value\":8},\"x\":{\"field\":\"x\"},\"y\":{\"field\":\"y\"}},\"id\":\"1362\",\"type\":\"Circle\"},{\"attributes\":{},\"id\":\"1337\",\"type\":\"WheelZoomTool\"},{\"attributes\":{},\"id\":\"1341\",\"type\":\"HelpTool\"},{\"attributes\":{\"fill_alpha\":{\"value\":0.1},\"fill_color\":{\"value\":\"steelblue\"},\"line_alpha\":{\"value\":0.1},\"line_color\":{\"value\":\"steelblue\"},\"size\":{\"units\":\"screen\",\"value\":8},\"x\":{\"field\":\"x\"},\"y\":{\"field\":\"y\"}},\"id\":\"1363\",\"type\":\"Circle\"},{\"attributes\":{\"overlay\":{\"id\":\"1342\"}},\"id\":\"1338\",\"type\":\"BoxZoomTool\"},{\"attributes\":{},\"id\":\"1340\",\"type\":\"ResetTool\"},{\"attributes\":{\"data_source\":{\"id\":\"1361\"},\"glyph\":{\"id\":\"1362\"},\"hover_glyph\":null,\"muted_glyph\":null,\"nonselection_glyph\":{\"id\":\"1363\"},\"selection_glyph\":null,\"view\":{\"id\":\"1365\"}},\"id\":\"1364\",\"type\":\"GlyphRenderer\"},{\"attributes\":{},\"id\":\"1380\",\"type\":\"Selection\"},{\"attributes\":{},\"id\":\"1326\",\"type\":\"LinearScale\"},{\"attributes\":{\"source\":{\"id\":\"1361\"}},\"id\":\"1365\",\"type\":\"CDSView\"},{\"attributes\":{\"active_drag\":\"auto\",\"active_inspect\":\"auto\",\"active_multi\":null,\"active_scroll\":\"auto\",\"active_tap\":\"auto\",\"logo\":null,\"tools\":[{\"id\":\"1336\"},{\"id\":\"1337\"},{\"id\":\"1338\"},{\"id\":\"1339\"},{\"id\":\"1340\"},{\"id\":\"1341\"}]},\"id\":\"1343\",\"type\":\"Toolbar\"},{\"attributes\":{\"end\":7.595,\"start\":-0.5950000000000001},\"id\":\"1322\",\"type\":\"Range1d\"},{\"attributes\":{\"args\":{\"cost\":{\"id\":\"1351\"},\"done\":{\"id\":\"1352\"},\"n\":{\"id\":\"1353\"},\"source\":{\"id\":\"1354\"},\"tour\":{\"id\":\"1355\"}},\"code\":\"\\nif ((parseInt(n.text) + 1) < source.data['edges_y'].length) {\\n    n.text = (parseInt(n.text) + 1).toString()\\n}\\nvar iteration = parseInt(n.text)\\n\\nif (iteration == source.data['edges_y'].length - 2) {\\n    iteration = iteration + 1\\n}\\n\\n    cost.text = source.data['costs'][iteration].toFixed(1)\\n    \\n    if (iteration == source.data['edges_y'].length - 1) {\\n        done.text = \\\"done.\\\"\\n    } else {\\n        done.text = \\\"\\\"\\n    }\\n\\n    tour.data['edges_x'] = source.data['edges_x'][iteration]\\n    tour.data['edges_y'] = source.data['edges_y'][iteration]\\n    tour.change.emit()\\n    \"},\"id\":\"1367\",\"type\":\"CustomJS\"},{\"attributes\":{\"button_type\":\"success\",\"icon\":null,\"js_event_callbacks\":{\"button_click\":[{\"id\":\"1367\"}]},\"label\":\"Next\",\"sizing_mode\":\"scale_width\",\"width_policy\":\"fit\"},\"id\":\"1366\",\"type\":\"Button\"},{\"attributes\":{},\"id\":\"1378\",\"type\":\"Selection\"},{\"attributes\":{\"formatter\":{\"id\":\"1373\"},\"ticker\":{\"id\":\"1329\"},\"visible\":false},\"id\":\"1328\",\"type\":\"LinearAxis\"},{\"attributes\":{\"text\":\"\"},\"id\":\"1318\",\"type\":\"Title\"},{\"attributes\":{\"button_type\":\"success\",\"icon\":null,\"js_event_callbacks\":{\"button_click\":[{\"id\":\"1369\"}]},\"label\":\"Previous\",\"sizing_mode\":\"scale_width\",\"width_policy\":\"fit\"},\"id\":\"1368\",\"type\":\"Button\"},{\"attributes\":{},\"id\":\"1379\",\"type\":\"UnionRenderers\"},{\"attributes\":{\"args\":{\"cost\":{\"id\":\"1351\"},\"done\":{\"id\":\"1352\"},\"n\":{\"id\":\"1353\"},\"source\":{\"id\":\"1354\"},\"tour\":{\"id\":\"1355\"}},\"code\":\"\\nif ((parseInt(n.text) - 1) >= 0) {\\n    n.text = (parseInt(n.text) - 1).toString()\\n}\\nvar iteration = parseInt(n.text)\\n\\nif (iteration == source.data['edges_y'].length - 2) {\\n    iteration = iteration - 1\\n}\\n\\n    cost.text = source.data['costs'][iteration].toFixed(1)\\n    \\n    if (iteration == source.data['edges_y'].length - 1) {\\n        done.text = \\\"done.\\\"\\n    } else {\\n        done.text = \\\"\\\"\\n    }\\n\\n    tour.data['edges_x'] = source.data['edges_x'][iteration]\\n    tour.data['edges_y'] = source.data['edges_y'][iteration]\\n    tour.change.emit()\\n    \"},\"id\":\"1369\",\"type\":\"CustomJS\"},{\"attributes\":{},\"id\":\"1377\",\"type\":\"UnionRenderers\"},{\"attributes\":{\"children\":[{\"id\":\"1368\"},{\"id\":\"1366\"}],\"max_width\":400,\"sizing_mode\":\"stretch_both\"},\"id\":\"1370\",\"type\":\"Row\"},{\"attributes\":{},\"id\":\"1324\",\"type\":\"LinearScale\"},{\"attributes\":{\"bottom_units\":\"screen\",\"fill_alpha\":0.5,\"fill_color\":\"lightgrey\",\"left_units\":\"screen\",\"level\":\"overlay\",\"line_alpha\":1.0,\"line_color\":\"black\",\"line_dash\":[4,4],\"line_width\":2,\"right_units\":\"screen\",\"top_units\":\"screen\"},\"id\":\"1342\",\"type\":\"BoxAnnotation\"},{\"attributes\":{\"axis\":{\"id\":\"1332\"},\"dimension\":1,\"grid_line_color\":null,\"ticker\":null},\"id\":\"1335\",\"type\":\"Grid\"},{\"attributes\":{\"children\":[{\"id\":\"1351\"},{\"id\":\"1352\"}]},\"id\":\"1371\",\"type\":\"Row\"},{\"attributes\":{\"align\":\"center\",\"text\":\"0\",\"width\":400},\"id\":\"1353\",\"type\":\"Div\"},{\"attributes\":{\"end\":5.425,\"start\":-0.42500000000000004},\"id\":\"1320\",\"type\":\"Range1d\"},{\"attributes\":{\"data\":{\"costs\":[0,1.0,2.0,3.0,4.0,5.0,6.0,7.0,8.0,9.0,10.0,11.0,12.0,13.0,14.0,15.0,16.0,17.0,18.0,19.0,20.0,21.0,22.0,23.0,24.0,25.0,26.0,27.0,28.0,31.0,32.0,33.0,34.0,35.0,36.0,37.0,40.0,41.0,42.0,43.0,44.0,45.0,46.0,47.0,48.0,50.0,53.0,57.0,62.0],\"edges_x\":[[0.0],[0.0,1.0],[0.0,1.0,2.0],[0.0,1.0,2.0,2.0],[0.0,1.0,2.0,2.0,3.0],[0.0,1.0,2.0,2.0,3.0,3.0],[0.0,1.0,2.0,2.0,3.0,3.0,3.0],[0.0,1.0,2.0,2.0,3.0,3.0,3.0,3.0],[0.0,1.0,2.0,2.0,3.0,3.0,3.0,3.0,3.0],[0.0,1.0,2.0,2.0,3.0,3.0,3.0,3.0,3.0,3.0],[0.0,1.0,2.0,2.0,3.0,3.0,3.0,3.0,3.0,3.0,2.0],[0.0,1.0,2.0,2.0,3.0,3.0,3.0,3.0,3.0,3.0,2.0,2.0],[0.0,1.0,2.0,2.0,3.0,3.0,3.0,3.0,3.0,3.0,2.0,2.0,1.0],[0.0,1.0,2.0,2.0,3.0,3.0,3.0,3.0,3.0,3.0,2.0,2.0,1.0,0.0],[0.0,1.0,2.0,2.0,3.0,3.0,3.0,3.0,3.0,3.0,2.0,2.0,1.0,0.0,0.0],[0.0,1.0,2.0,2.0,3.0,3.0,3.0,3.0,3.0,3.0,2.0,2.0,1.0,0.0,0.0,1.0],[0.0,1.0,2.0,2.0,3.0,3.0,3.0,3.0,3.0,3.0,2.0,2.0,1.0,0.0,0.0,1.0,1.0],[0.0,1.0,2.0,2.0,3.0,3.0,3.0,3.0,3.0,3.0,2.0,2.0,1.0,0.0,0.0,1.0,1.0,2.0],[0.0,1.0,2.0,2.0,3.0,3.0,3.0,3.0,3.0,3.0,2.0,2.0,1.0,0.0,0.0,1.0,1.0,2.0,2.0],[0.0,1.0,2.0,2.0,3.0,3.0,3.0,3.0,3.0,3.0,2.0,2.0,1.0,0.0,0.0,1.0,1.0,2.0,2.0,2.0],[0.0,1.0,2.0,2.0,3.0,3.0,3.0,3.0,3.0,3.0,2.0,2.0,1.0,0.0,0.0,1.0,1.0,2.0,2.0,2.0,2.0],[0.0,1.0,2.0,2.0,3.0,3.0,3.0,3.0,3.0,3.0,2.0,2.0,1.0,0.0,0.0,1.0,1.0,2.0,2.0,2.0,2.0,1.0],[0.0,1.0,2.0,2.0,3.0,3.0,3.0,3.0,3.0,3.0,2.0,2.0,1.0,0.0,0.0,1.0,1.0,2.0,2.0,2.0,2.0,1.0,1.0],[0.0,1.0,2.0,2.0,3.0,3.0,3.0,3.0,3.0,3.0,2.0,2.0,1.0,0.0,0.0,1.0,1.0,2.0,2.0,2.0,2.0,1.0,1.0,1.0],[0.0,1.0,2.0,2.0,3.0,3.0,3.0,3.0,3.0,3.0,2.0,2.0,1.0,0.0,0.0,1.0,1.0,2.0,2.0,2.0,2.0,1.0,1.0,1.0,0.0],[0.0,1.0,2.0,2.0,3.0,3.0,3.0,3.0,3.0,3.0,2.0,2.0,1.0,0.0,0.0,1.0,1.0,2.0,2.0,2.0,2.0,1.0,1.0,1.0,0.0,0.0],[0.0,1.0,2.0,2.0,3.0,3.0,3.0,3.0,3.0,3.0,2.0,2.0,1.0,0.0,0.0,1.0,1.0,2.0,2.0,2.0,2.0,1.0,1.0,1.0,0.0,0.0,0.0],[0.0,1.0,2.0,2.0,3.0,3.0,3.0,3.0,3.0,3.0,2.0,2.0,1.0,0.0,0.0,1.0,1.0,2.0,2.0,2.0,2.0,1.0,1.0,1.0,0.0,0.0,0.0,0.0],[0.0,1.0,2.0,2.0,3.0,3.0,3.0,3.0,3.0,3.0,2.0,2.0,1.0,0.0,0.0,1.0,1.0,2.0,2.0,2.0,2.0,1.0,1.0,1.0,0.0,0.0,0.0,0.0,1.0],[0.0,1.0,2.0,2.0,3.0,3.0,3.0,3.0,3.0,3.0,2.0,2.0,1.0,0.0,0.0,1.0,1.0,2.0,2.0,2.0,2.0,1.0,1.0,1.0,0.0,0.0,0.0,0.0,1.0,3.0],[0.0,1.0,2.0,2.0,3.0,3.0,3.0,3.0,3.0,3.0,2.0,2.0,1.0,0.0,0.0,1.0,1.0,2.0,2.0,2.0,2.0,1.0,1.0,1.0,0.0,0.0,0.0,0.0,1.0,3.0,4.0],[0.0,1.0,2.0,2.0,3.0,3.0,3.0,3.0,3.0,3.0,2.0,2.0,1.0,0.0,0.0,1.0,1.0,2.0,2.0,2.0,2.0,1.0,1.0,1.0,0.0,0.0,0.0,0.0,1.0,3.0,4.0,4.0],[0.0,1.0,2.0,2.0,3.0,3.0,3.0,3.0,3.0,3.0,2.0,2.0,1.0,0.0,0.0,1.0,1.0,2.0,2.0,2.0,2.0,1.0,1.0,1.0,0.0,0.0,0.0,0.0,1.0,3.0,4.0,4.0,4.0],[0.0,1.0,2.0,2.0,3.0,3.0,3.0,3.0,3.0,3.0,2.0,2.0,1.0,0.0,0.0,1.0,1.0,2.0,2.0,2.0,2.0,1.0,1.0,1.0,0.0,0.0,0.0,0.0,1.0,3.0,4.0,4.0,4.0,5.0],[0.0,1.0,2.0,2.0,3.0,3.0,3.0,3.0,3.0,3.0,2.0,2.0,1.0,0.0,0.0,1.0,1.0,2.0,2.0,2.0,2.0,1.0,1.0,1.0,0.0,0.0,0.0,0.0,1.0,3.0,4.0,4.0,4.0,5.0,5.0],[0.0,1.0,2.0,2.0,3.0,3.0,3.0,3.0,3.0,3.0,2.0,2.0,1.0,0.0,0.0,1.0,1.0,2.0,2.0,2.0,2.0,1.0,1.0,1.0,0.0,0.0,0.0,0.0,1.0,3.0,4.0,4.0,4.0,5.0,5.0,5.0],[0.0,1.0,2.0,2.0,3.0,3.0,3.0,3.0,3.0,3.0,2.0,2.0,1.0,0.0,0.0,1.0,1.0,2.0,2.0,2.0,2.0,1.0,1.0,1.0,0.0,0.0,0.0,0.0,1.0,3.0,4.0,4.0,4.0,5.0,5.0,5.0,5.0],[0.0,1.0,2.0,2.0,3.0,3.0,3.0,3.0,3.0,3.0,2.0,2.0,1.0,0.0,0.0,1.0,1.0,2.0,2.0,2.0,2.0,1.0,1.0,1.0,0.0,0.0,0.0,0.0,1.0,3.0,4.0,4.0,4.0,5.0,5.0,5.0,5.0,4.0],[0.0,1.0,2.0,2.0,3.0,3.0,3.0,3.0,3.0,3.0,2.0,2.0,1.0,0.0,0.0,1.0,1.0,2.0,2.0,2.0,2.0,1.0,1.0,1.0,0.0,0.0,0.0,0.0,1.0,3.0,4.0,4.0,4.0,5.0,5.0,5.0,5.0,4.0,4.0],[0.0,1.0,2.0,2.0,3.0,3.0,3.0,3.0,3.0,3.0,2.0,2.0,1.0,0.0,0.0,1.0,1.0,2.0,2.0,2.0,2.0,1.0,1.0,1.0,0.0,0.0,0.0,0.0,1.0,3.0,4.0,4.0,4.0,5.0,5.0,5.0,5.0,4.0,4.0,5.0],[0.0,1.0,2.0,2.0,3.0,3.0,3.0,3.0,3.0,3.0,2.0,2.0,1.0,0.0,0.0,1.0,1.0,2.0,2.0,2.0,2.0,1.0,1.0,1.0,0.0,0.0,0.0,0.0,1.0,3.0,4.0,4.0,4.0,5.0,5.0,5.0,5.0,4.0,4.0,5.0,5.0],[0.0,1.0,2.0,2.0,3.0,3.0,3.0,3.0,3.0,3.0,2.0,2.0,1.0,0.0,0.0,1.0,1.0,2.0,2.0,2.0,2.0,1.0,1.0,1.0,0.0,0.0,0.0,0.0,1.0,3.0,4.0,4.0,4.0,5.0,5.0,5.0,5.0,4.0,4.0,5.0,5.0,5.0],[0.0,1.0,2.0,2.0,3.0,3.0,3.0,3.0,3.0,3.0,2.0,2.0,1.0,0.0,0.0,1.0,1.0,2.0,2.0,2.0,2.0,1.0,1.0,1.0,0.0,0.0,0.0,0.0,1.0,3.0,4.0,4.0,4.0,5.0,5.0,5.0,5.0,4.0,4.0,5.0,5.0,5.0,4.0],[0.0,1.0,2.0,2.0,3.0,3.0,3.0,3.0,3.0,3.0,2.0,2.0,1.0,0.0,0.0,1.0,1.0,2.0,2.0,2.0,2.0,1.0,1.0,1.0,0.0,0.0,0.0,0.0,1.0,3.0,4.0,4.0,4.0,5.0,5.0,5.0,5.0,4.0,4.0,5.0,5.0,5.0,4.0,4.0],[0.0,1.0,2.0,2.0,3.0,3.0,3.0,3.0,3.0,3.0,2.0,2.0,1.0,0.0,0.0,1.0,1.0,2.0,2.0,2.0,2.0,1.0,1.0,1.0,0.0,0.0,0.0,0.0,1.0,3.0,4.0,4.0,4.0,5.0,5.0,5.0,5.0,4.0,4.0,5.0,5.0,5.0,4.0,4.0,5.0],[0.0,1.0,2.0,2.0,3.0,3.0,3.0,3.0,3.0,3.0,2.0,2.0,1.0,0.0,0.0,1.0,1.0,2.0,2.0,2.0,2.0,1.0,1.0,1.0,0.0,0.0,0.0,0.0,1.0,3.0,4.0,4.0,4.0,5.0,5.0,5.0,5.0,4.0,4.0,5.0,5.0,5.0,4.0,4.0,5.0,3.0],[0.0,1.0,2.0,2.0,3.0,3.0,3.0,3.0,3.0,3.0,2.0,2.0,1.0,0.0,0.0,1.0,1.0,2.0,2.0,2.0,2.0,1.0,1.0,1.0,0.0,0.0,0.0,0.0,1.0,3.0,4.0,4.0,4.0,5.0,5.0,5.0,5.0,4.0,4.0,5.0,5.0,5.0,4.0,4.0,5.0,3.0,4.0],[0.0,1.0,2.0,2.0,3.0,3.0,3.0,3.0,3.0,3.0,2.0,2.0,1.0,0.0,0.0,1.0,1.0,2.0,2.0,2.0,2.0,1.0,1.0,1.0,0.0,0.0,0.0,0.0,1.0,3.0,4.0,4.0,4.0,5.0,5.0,5.0,5.0,4.0,4.0,5.0,5.0,5.0,4.0,4.0,5.0,3.0,4.0,0.0],[0.0,1.0,2.0,2.0,3.0,3.0,3.0,3.0,3.0,3.0,2.0,2.0,1.0,0.0,0.0,1.0,1.0,2.0,2.0,2.0,2.0,1.0,1.0,1.0,0.0,0.0,0.0,0.0,1.0,3.0,4.0,4.0,4.0,5.0,5.0,5.0,5.0,4.0,4.0,5.0,5.0,5.0,4.0,4.0,5.0,3.0,4.0,0.0,0.0]],\"edges_y\":[[0.0],[0.0,0.0],[0.0,0.0,0.0],[0.0,0.0,0.0,1.0],[0.0,0.0,0.0,1.0,1.0],[0.0,0.0,0.0,1.0,1.0,2.0],[0.0,0.0,0.0,1.0,1.0,2.0,3.0],[0.0,0.0,0.0,1.0,1.0,2.0,3.0,4.0],[0.0,0.0,0.0,1.0,1.0,2.0,3.0,4.0,5.0],[0.0,0.0,0.0,1.0,1.0,2.0,3.0,4.0,5.0,6.0],[0.0,0.0,0.0,1.0,1.0,2.0,3.0,4.0,5.0,6.0,6.0],[0.0,0.0,0.0,1.0,1.0,2.0,3.0,4.0,5.0,6.0,6.0,7.0],[0.0,0.0,0.0,1.0,1.0,2.0,3.0,4.0,5.0,6.0,6.0,7.0,7.0],[0.0,0.0,0.0,1.0,1.0,2.0,3.0,4.0,5.0,6.0,6.0,7.0,7.0,7.0],[0.0,0.0,0.0,1.0,1.0,2.0,3.0,4.0,5.0,6.0,6.0,7.0,7.0,7.0,6.0],[0.0,0.0,0.0,1.0,1.0,2.0,3.0,4.0,5.0,6.0,6.0,7.0,7.0,7.0,6.0,6.0],[0.0,0.0,0.0,1.0,1.0,2.0,3.0,4.0,5.0,6.0,6.0,7.0,7.0,7.0,6.0,6.0,5.0],[0.0,0.0,0.0,1.0,1.0,2.0,3.0,4.0,5.0,6.0,6.0,7.0,7.0,7.0,6.0,6.0,5.0,5.0],[0.0,0.0,0.0,1.0,1.0,2.0,3.0,4.0,5.0,6.0,6.0,7.0,7.0,7.0,6.0,6.0,5.0,5.0,4.0],[0.0,0.0,0.0,1.0,1.0,2.0,3.0,4.0,5.0,6.0,6.0,7.0,7.0,7.0,6.0,6.0,5.0,5.0,4.0,3.0],[0.0,0.0,0.0,1.0,1.0,2.0,3.0,4.0,5.0,6.0,6.0,7.0,7.0,7.0,6.0,6.0,5.0,5.0,4.0,3.0,2.0],[0.0,0.0,0.0,1.0,1.0,2.0,3.0,4.0,5.0,6.0,6.0,7.0,7.0,7.0,6.0,6.0,5.0,5.0,4.0,3.0,2.0,2.0],[0.0,0.0,0.0,1.0,1.0,2.0,3.0,4.0,5.0,6.0,6.0,7.0,7.0,7.0,6.0,6.0,5.0,5.0,4.0,3.0,2.0,2.0,3.0],[0.0,0.0,0.0,1.0,1.0,2.0,3.0,4.0,5.0,6.0,6.0,7.0,7.0,7.0,6.0,6.0,5.0,5.0,4.0,3.0,2.0,2.0,3.0,4.0],[0.0,0.0,0.0,1.0,1.0,2.0,3.0,4.0,5.0,6.0,6.0,7.0,7.0,7.0,6.0,6.0,5.0,5.0,4.0,3.0,2.0,2.0,3.0,4.0,4.0],[0.0,0.0,0.0,1.0,1.0,2.0,3.0,4.0,5.0,6.0,6.0,7.0,7.0,7.0,6.0,6.0,5.0,5.0,4.0,3.0,2.0,2.0,3.0,4.0,4.0,3.0],[0.0,0.0,0.0,1.0,1.0,2.0,3.0,4.0,5.0,6.0,6.0,7.0,7.0,7.0,6.0,6.0,5.0,5.0,4.0,3.0,2.0,2.0,3.0,4.0,4.0,3.0,2.0],[0.0,0.0,0.0,1.0,1.0,2.0,3.0,4.0,5.0,6.0,6.0,7.0,7.0,7.0,6.0,6.0,5.0,5.0,4.0,3.0,2.0,2.0,3.0,4.0,4.0,3.0,2.0,1.0],[0.0,0.0,0.0,1.0,1.0,2.0,3.0,4.0,5.0,6.0,6.0,7.0,7.0,7.0,6.0,6.0,5.0,5.0,4.0,3.0,2.0,2.0,3.0,4.0,4.0,3.0,2.0,1.0,1.0],[0.0,0.0,0.0,1.0,1.0,2.0,3.0,4.0,5.0,6.0,6.0,7.0,7.0,7.0,6.0,6.0,5.0,5.0,4.0,3.0,2.0,2.0,3.0,4.0,4.0,3.0,2.0,1.0,1.0,0.0],[0.0,0.0,0.0,1.0,1.0,2.0,3.0,4.0,5.0,6.0,6.0,7.0,7.0,7.0,6.0,6.0,5.0,5.0,4.0,3.0,2.0,2.0,3.0,4.0,4.0,3.0,2.0,1.0,1.0,0.0,0.0],[0.0,0.0,0.0,1.0,1.0,2.0,3.0,4.0,5.0,6.0,6.0,7.0,7.0,7.0,6.0,6.0,5.0,5.0,4.0,3.0,2.0,2.0,3.0,4.0,4.0,3.0,2.0,1.0,1.0,0.0,0.0,1.0],[0.0,0.0,0.0,1.0,1.0,2.0,3.0,4.0,5.0,6.0,6.0,7.0,7.0,7.0,6.0,6.0,5.0,5.0,4.0,3.0,2.0,2.0,3.0,4.0,4.0,3.0,2.0,1.0,1.0,0.0,0.0,1.0,2.0],[0.0,0.0,0.0,1.0,1.0,2.0,3.0,4.0,5.0,6.0,6.0,7.0,7.0,7.0,6.0,6.0,5.0,5.0,4.0,3.0,2.0,2.0,3.0,4.0,4.0,3.0,2.0,1.0,1.0,0.0,0.0,1.0,2.0,2.0],[0.0,0.0,0.0,1.0,1.0,2.0,3.0,4.0,5.0,6.0,6.0,7.0,7.0,7.0,6.0,6.0,5.0,5.0,4.0,3.0,2.0,2.0,3.0,4.0,4.0,3.0,2.0,1.0,1.0,0.0,0.0,1.0,2.0,2.0,1.0],[0.0,0.0,0.0,1.0,1.0,2.0,3.0,4.0,5.0,6.0,6.0,7.0,7.0,7.0,6.0,6.0,5.0,5.0,4.0,3.0,2.0,2.0,3.0,4.0,4.0,3.0,2.0,1.0,1.0,0.0,0.0,1.0,2.0,2.0,1.0,0.0],[0.0,0.0,0.0,1.0,1.0,2.0,3.0,4.0,5.0,6.0,6.0,7.0,7.0,7.0,6.0,6.0,5.0,5.0,4.0,3.0,2.0,2.0,3.0,4.0,4.0,3.0,2.0,1.0,1.0,0.0,0.0,1.0,2.0,2.0,1.0,0.0,3.0],[0.0,0.0,0.0,1.0,1.0,2.0,3.0,4.0,5.0,6.0,6.0,7.0,7.0,7.0,6.0,6.0,5.0,5.0,4.0,3.0,2.0,2.0,3.0,4.0,4.0,3.0,2.0,1.0,1.0,0.0,0.0,1.0,2.0,2.0,1.0,0.0,3.0,3.0],[0.0,0.0,0.0,1.0,1.0,2.0,3.0,4.0,5.0,6.0,6.0,7.0,7.0,7.0,6.0,6.0,5.0,5.0,4.0,3.0,2.0,2.0,3.0,4.0,4.0,3.0,2.0,1.0,1.0,0.0,0.0,1.0,2.0,2.0,1.0,0.0,3.0,3.0,4.0],[0.0,0.0,0.0,1.0,1.0,2.0,3.0,4.0,5.0,6.0,6.0,7.0,7.0,7.0,6.0,6.0,5.0,5.0,4.0,3.0,2.0,2.0,3.0,4.0,4.0,3.0,2.0,1.0,1.0,0.0,0.0,1.0,2.0,2.0,1.0,0.0,3.0,3.0,4.0,4.0],[0.0,0.0,0.0,1.0,1.0,2.0,3.0,4.0,5.0,6.0,6.0,7.0,7.0,7.0,6.0,6.0,5.0,5.0,4.0,3.0,2.0,2.0,3.0,4.0,4.0,3.0,2.0,1.0,1.0,0.0,0.0,1.0,2.0,2.0,1.0,0.0,3.0,3.0,4.0,4.0,5.0],[0.0,0.0,0.0,1.0,1.0,2.0,3.0,4.0,5.0,6.0,6.0,7.0,7.0,7.0,6.0,6.0,5.0,5.0,4.0,3.0,2.0,2.0,3.0,4.0,4.0,3.0,2.0,1.0,1.0,0.0,0.0,1.0,2.0,2.0,1.0,0.0,3.0,3.0,4.0,4.0,5.0,6.0],[0.0,0.0,0.0,1.0,1.0,2.0,3.0,4.0,5.0,6.0,6.0,7.0,7.0,7.0,6.0,6.0,5.0,5.0,4.0,3.0,2.0,2.0,3.0,4.0,4.0,3.0,2.0,1.0,1.0,0.0,0.0,1.0,2.0,2.0,1.0,0.0,3.0,3.0,4.0,4.0,5.0,6.0,6.0],[0.0,0.0,0.0,1.0,1.0,2.0,3.0,4.0,5.0,6.0,6.0,7.0,7.0,7.0,6.0,6.0,5.0,5.0,4.0,3.0,2.0,2.0,3.0,4.0,4.0,3.0,2.0,1.0,1.0,0.0,0.0,1.0,2.0,2.0,1.0,0.0,3.0,3.0,4.0,4.0,5.0,6.0,6.0,7.0],[0.0,0.0,0.0,1.0,1.0,2.0,3.0,4.0,5.0,6.0,6.0,7.0,7.0,7.0,6.0,6.0,5.0,5.0,4.0,3.0,2.0,2.0,3.0,4.0,4.0,3.0,2.0,1.0,1.0,0.0,0.0,1.0,2.0,2.0,1.0,0.0,3.0,3.0,4.0,4.0,5.0,6.0,6.0,7.0,7.0],[0.0,0.0,0.0,1.0,1.0,2.0,3.0,4.0,5.0,6.0,6.0,7.0,7.0,7.0,6.0,6.0,5.0,5.0,4.0,3.0,2.0,2.0,3.0,4.0,4.0,3.0,2.0,1.0,1.0,0.0,0.0,1.0,2.0,2.0,1.0,0.0,3.0,3.0,4.0,4.0,5.0,6.0,6.0,7.0,7.0,7.0],[0.0,0.0,0.0,1.0,1.0,2.0,3.0,4.0,5.0,6.0,6.0,7.0,7.0,7.0,6.0,6.0,5.0,5.0,4.0,3.0,2.0,2.0,3.0,4.0,4.0,3.0,2.0,1.0,1.0,0.0,0.0,1.0,2.0,2.0,1.0,0.0,3.0,3.0,4.0,4.0,5.0,6.0,6.0,7.0,7.0,7.0,5.0],[0.0,0.0,0.0,1.0,1.0,2.0,3.0,4.0,5.0,6.0,6.0,7.0,7.0,7.0,6.0,6.0,5.0,5.0,4.0,3.0,2.0,2.0,3.0,4.0,4.0,3.0,2.0,1.0,1.0,0.0,0.0,1.0,2.0,2.0,1.0,0.0,3.0,3.0,4.0,4.0,5.0,6.0,6.0,7.0,7.0,7.0,5.0,5.0],[0.0,0.0,0.0,1.0,1.0,2.0,3.0,4.0,5.0,6.0,6.0,7.0,7.0,7.0,6.0,6.0,5.0,5.0,4.0,3.0,2.0,2.0,3.0,4.0,4.0,3.0,2.0,1.0,1.0,0.0,0.0,1.0,2.0,2.0,1.0,0.0,3.0,3.0,4.0,4.0,5.0,6.0,6.0,7.0,7.0,7.0,5.0,5.0,0.0]]},\"selected\":{\"id\":\"1386\"},\"selection_policy\":{\"id\":\"1385\"}},\"id\":\"1354\",\"type\":\"ColumnDataSource\"},{\"attributes\":{\"formatter\":{\"id\":\"1375\"},\"ticker\":{\"id\":\"1333\"},\"visible\":false},\"id\":\"1332\",\"type\":\"LinearAxis\"},{\"attributes\":{\"axis\":{\"id\":\"1328\"},\"grid_line_color\":null,\"ticker\":null},\"id\":\"1331\",\"type\":\"Grid\"},{\"attributes\":{\"data\":{\"edges_x\":[0.0],\"edges_y\":[0.0]},\"selected\":{\"id\":\"1378\"},\"selection_policy\":{\"id\":\"1377\"}},\"id\":\"1355\",\"type\":\"ColumnDataSource\"},{\"attributes\":{},\"id\":\"1385\",\"type\":\"UnionRenderers\"},{\"attributes\":{},\"id\":\"1329\",\"type\":\"BasicTicker\"},{\"attributes\":{},\"id\":\"1375\",\"type\":\"BasicTickFormatter\"},{\"attributes\":{},\"id\":\"1386\",\"type\":\"Selection\"},{\"attributes\":{},\"id\":\"1333\",\"type\":\"BasicTicker\"},{\"attributes\":{\"align\":\"center\",\"text\":\"0\",\"width\":200},\"id\":\"1351\",\"type\":\"Div\"},{\"attributes\":{\"source\":{\"id\":\"1355\"}},\"id\":\"1360\",\"type\":\"CDSView\"},{\"attributes\":{},\"id\":\"1373\",\"type\":\"BasicTickFormatter\"},{\"attributes\":{\"background_fill_color\":null,\"below\":[{\"id\":\"1328\"}],\"border_fill_color\":null,\"center\":[{\"id\":\"1331\"},{\"id\":\"1335\"}],\"left\":[{\"id\":\"1332\"}],\"outline_line_color\":null,\"plot_height\":400,\"plot_width\":400,\"renderers\":[{\"id\":\"1359\"},{\"id\":\"1364\"}],\"title\":{\"id\":\"1318\"},\"toolbar\":{\"id\":\"1343\"},\"toolbar_location\":null,\"x_range\":{\"id\":\"1320\"},\"x_scale\":{\"id\":\"1324\"},\"y_range\":{\"id\":\"1322\"},\"y_scale\":{\"id\":\"1326\"}},\"id\":\"1317\",\"subtype\":\"Figure\",\"type\":\"Plot\"},{\"attributes\":{\"line_width\":4,\"x\":{\"field\":\"edges_x\"},\"y\":{\"field\":\"edges_y\"}},\"id\":\"1357\",\"type\":\"Line\"},{\"attributes\":{},\"id\":\"1336\",\"type\":\"PanTool\"},{\"attributes\":{\"data\":{\"x\":[0.0,0.0,0.0,0.0,0.0,0.0,0.0,0.0,1.0,1.0,1.0,1.0,1.0,1.0,1.0,1.0,2.0,2.0,2.0,2.0,2.0,2.0,2.0,2.0,3.0,3.0,3.0,3.0,3.0,3.0,3.0,3.0,4.0,4.0,4.0,4.0,4.0,4.0,4.0,4.0,5.0,5.0,5.0,5.0,5.0,5.0,5.0,5.0],\"y\":[0.0,1.0,2.0,3.0,4.0,5.0,6.0,7.0,0.0,1.0,2.0,3.0,4.0,5.0,6.0,7.0,0.0,1.0,2.0,3.0,4.0,5.0,6.0,7.0,0.0,1.0,2.0,3.0,4.0,5.0,6.0,7.0,0.0,1.0,2.0,3.0,4.0,5.0,6.0,7.0,0.0,1.0,2.0,3.0,4.0,5.0,6.0,7.0]},\"selected\":{\"id\":\"1380\"},\"selection_policy\":{\"id\":\"1379\"}},\"id\":\"1361\",\"type\":\"ColumnDataSource\"},{\"attributes\":{\"line_alpha\":0.1,\"line_width\":4,\"x\":{\"field\":\"edges_x\"},\"y\":{\"field\":\"edges_y\"}},\"id\":\"1358\",\"type\":\"Line\"},{\"attributes\":{\"align\":\"center\",\"width\":200},\"id\":\"1352\",\"type\":\"Div\"},{\"attributes\":{\"data_source\":{\"id\":\"1355\"},\"glyph\":{\"id\":\"1357\"},\"hover_glyph\":null,\"muted_glyph\":null,\"nonselection_glyph\":{\"id\":\"1358\"},\"selection_glyph\":null,\"view\":{\"id\":\"1360\"}},\"id\":\"1359\",\"type\":\"GlyphRenderer\"},{\"attributes\":{},\"id\":\"1339\",\"type\":\"SaveTool\"}],\"root_ids\":[\"1387\"]},\"title\":\"Bokeh Application\",\"version\":\"2.1.0\"}};\n",
       "  var render_items = [{\"docid\":\"8fcaeead-9770-430b-a2bd-994fb20bd4cf\",\"root_ids\":[\"1387\"],\"roots\":{\"1387\":\"710bd4c4-3928-4316-a473-3c72904a9f53\"}}];\n",
       "  root.Bokeh.embed.embed_items_notebook(docs_json, render_items);\n",
       "\n",
       "  }\n",
       "  if (root.Bokeh !== undefined) {\n",
       "    embed_document(root);\n",
       "  } else {\n",
       "    var attempts = 0;\n",
       "    var timer = setInterval(function(root) {\n",
       "      if (root.Bokeh !== undefined) {\n",
       "        clearInterval(timer);\n",
       "        embed_document(root);\n",
       "      } else {\n",
       "        attempts++;\n",
       "        if (attempts > 100) {\n",
       "          clearInterval(timer);\n",
       "          console.log(\"Bokeh: ERROR: Unable to run BokehJS code because BokehJS library is missing\");\n",
       "        }\n",
       "      }\n",
       "    }, 10, root)\n",
       "  }\n",
       "})(window);"
      ],
      "application/vnd.bokehjs_exec.v0+json": ""
     },
     "metadata": {
      "application/vnd.bokehjs_exec.v0+json": {
       "id": "1387"
      }
     },
     "output_type": "display_data"
    }
   ],
   "source": [
    "tour = plot_tsp_heuristic(nodes, G, heuristic='nearest_neighbor', initial=0)"
   ]
  },
  {
   "cell_type": "markdown",
   "metadata": {},
   "source": [
    "**Q4:** As you iterate through, examine the \"choices\" made by the algorithm at each step. What does it do well? What does it do poorly?\n",
    "\n",
    "**A:** <font color='blue'>It does better than random neighbor because it often moves to a node close to the one it is currently on. However, it can essentially box itself out of certain regions of the graph. In the end, it often has to make lengthy jumps to get nodes it missed along the way. </font>"
   ]
  },
  {
   "cell_type": "markdown",
   "metadata": {},
   "source": [
    "**Q5:** Run this a few times. Do you get the same tour every time? Why or why not?\n",
    "\n",
    "**A:** <font color='blue'>No, because if there are multiple choices for the closest node, one is chosen randomly.</font>"
   ]
  },
  {
   "cell_type": "markdown",
   "metadata": {},
   "source": [
    "Now, let's look at the nearest insertion heuristic."
   ]
  },
  {
   "cell_type": "code",
   "execution_count": 11,
   "metadata": {
    "scrolled": false
   },
   "outputs": [
    {
     "data": {
      "text/html": [
       "\n",
       "\n",
       "\n",
       "\n",
       "\n",
       "\n",
       "  <div class=\"bk-root\" id=\"e38944fc-3ed0-4e1e-b013-74833e3530fe\" data-root-id=\"1564\"></div>\n"
      ]
     },
     "metadata": {},
     "output_type": "display_data"
    },
    {
     "data": {
      "application/javascript": [
       "(function(root) {\n",
       "  function embed_document(root) {\n",
       "    \n",
       "  var docs_json = {\"52417fb6-8790-4cc7-9001-5795d930a3f4\":{\"roots\":{\"references\":[{\"attributes\":{\"children\":[[{\"id\":\"1494\"},0,0],[{\"id\":\"1547\"},1,0],[{\"id\":\"1548\"},2,0]]},\"id\":\"1564\",\"type\":\"GridBox\"},{\"attributes\":{},\"id\":\"1517\",\"type\":\"ResetTool\"},{\"attributes\":{\"source\":{\"id\":\"1538\"}},\"id\":\"1542\",\"type\":\"CDSView\"},{\"attributes\":{\"text\":\"\"},\"id\":\"1495\",\"type\":\"Title\"},{\"attributes\":{},\"id\":\"1518\",\"type\":\"HelpTool\"},{\"attributes\":{\"button_type\":\"success\",\"icon\":null,\"js_event_callbacks\":{\"button_click\":[{\"id\":\"1544\"}]},\"label\":\"Next\",\"sizing_mode\":\"scale_width\",\"width_policy\":\"fit\"},\"id\":\"1543\",\"type\":\"Button\"},{\"attributes\":{\"end\":5.425,\"start\":-0.42500000000000004},\"id\":\"1497\",\"type\":\"Range1d\"},{\"attributes\":{\"line_width\":4,\"x\":{\"field\":\"edges_x\"},\"y\":{\"field\":\"edges_y\"}},\"id\":\"1534\",\"type\":\"Line\"},{\"attributes\":{\"args\":{\"cost\":{\"id\":\"1528\"},\"done\":{\"id\":\"1529\"},\"n\":{\"id\":\"1530\"},\"source\":{\"id\":\"1531\"},\"tour\":{\"id\":\"1532\"}},\"code\":\"\\nif ((parseInt(n.text) + 1) < source.data['edges_y'].length) {\\n    n.text = (parseInt(n.text) + 1).toString()\\n}\\nvar iteration = parseInt(n.text)\\n\\nif (iteration == source.data['edges_y'].length - 2) {\\n    iteration = iteration + 1\\n}\\n\\n    cost.text = source.data['costs'][iteration].toFixed(1)\\n    \\n    if (iteration == source.data['edges_y'].length - 1) {\\n        done.text = \\\"done.\\\"\\n    } else {\\n        done.text = \\\"\\\"\\n    }\\n\\n    tour.data['edges_x'] = source.data['edges_x'][iteration]\\n    tour.data['edges_y'] = source.data['edges_y'][iteration]\\n    tour.change.emit()\\n    \"},\"id\":\"1544\",\"type\":\"CustomJS\"},{\"attributes\":{\"active_drag\":\"auto\",\"active_inspect\":\"auto\",\"active_multi\":null,\"active_scroll\":\"auto\",\"active_tap\":\"auto\",\"logo\":null,\"tools\":[{\"id\":\"1513\"},{\"id\":\"1514\"},{\"id\":\"1515\"},{\"id\":\"1516\"},{\"id\":\"1517\"},{\"id\":\"1518\"}]},\"id\":\"1520\",\"type\":\"Toolbar\"},{\"attributes\":{\"end\":7.595,\"start\":-0.5950000000000001},\"id\":\"1499\",\"type\":\"Range1d\"},{\"attributes\":{\"button_type\":\"success\",\"icon\":null,\"js_event_callbacks\":{\"button_click\":[{\"id\":\"1546\"}]},\"label\":\"Previous\",\"sizing_mode\":\"scale_width\",\"width_policy\":\"fit\"},\"id\":\"1545\",\"type\":\"Button\"},{\"attributes\":{},\"id\":\"1501\",\"type\":\"LinearScale\"},{\"attributes\":{\"args\":{\"cost\":{\"id\":\"1528\"},\"done\":{\"id\":\"1529\"},\"n\":{\"id\":\"1530\"},\"source\":{\"id\":\"1531\"},\"tour\":{\"id\":\"1532\"}},\"code\":\"\\nif ((parseInt(n.text) - 1) >= 0) {\\n    n.text = (parseInt(n.text) - 1).toString()\\n}\\nvar iteration = parseInt(n.text)\\n\\nif (iteration == source.data['edges_y'].length - 2) {\\n    iteration = iteration - 1\\n}\\n\\n    cost.text = source.data['costs'][iteration].toFixed(1)\\n    \\n    if (iteration == source.data['edges_y'].length - 1) {\\n        done.text = \\\"done.\\\"\\n    } else {\\n        done.text = \\\"\\\"\\n    }\\n\\n    tour.data['edges_x'] = source.data['edges_x'][iteration]\\n    tour.data['edges_y'] = source.data['edges_y'][iteration]\\n    tour.change.emit()\\n    \"},\"id\":\"1546\",\"type\":\"CustomJS\"},{\"attributes\":{},\"id\":\"1503\",\"type\":\"LinearScale\"},{\"attributes\":{\"children\":[{\"id\":\"1545\"},{\"id\":\"1543\"}],\"max_width\":400,\"sizing_mode\":\"stretch_both\"},\"id\":\"1547\",\"type\":\"Row\"},{\"attributes\":{\"formatter\":{\"id\":\"1550\"},\"ticker\":{\"id\":\"1506\"},\"visible\":false},\"id\":\"1505\",\"type\":\"LinearAxis\"},{\"attributes\":{\"children\":[{\"id\":\"1528\"},{\"id\":\"1529\"}]},\"id\":\"1548\",\"type\":\"Row\"},{\"attributes\":{},\"id\":\"1506\",\"type\":\"BasicTicker\"},{\"attributes\":{\"source\":{\"id\":\"1532\"}},\"id\":\"1537\",\"type\":\"CDSView\"},{\"attributes\":{\"axis\":{\"id\":\"1505\"},\"grid_line_color\":null,\"ticker\":null},\"id\":\"1508\",\"type\":\"Grid\"},{\"attributes\":{},\"id\":\"1550\",\"type\":\"BasicTickFormatter\"},{\"attributes\":{\"formatter\":{\"id\":\"1552\"},\"ticker\":{\"id\":\"1510\"},\"visible\":false},\"id\":\"1509\",\"type\":\"LinearAxis\"},{\"attributes\":{\"background_fill_color\":null,\"below\":[{\"id\":\"1505\"}],\"border_fill_color\":null,\"center\":[{\"id\":\"1508\"},{\"id\":\"1512\"}],\"left\":[{\"id\":\"1509\"}],\"outline_line_color\":null,\"plot_height\":400,\"plot_width\":400,\"renderers\":[{\"id\":\"1536\"},{\"id\":\"1541\"}],\"title\":{\"id\":\"1495\"},\"toolbar\":{\"id\":\"1520\"},\"toolbar_location\":null,\"x_range\":{\"id\":\"1497\"},\"x_scale\":{\"id\":\"1501\"},\"y_range\":{\"id\":\"1499\"},\"y_scale\":{\"id\":\"1503\"}},\"id\":\"1494\",\"subtype\":\"Figure\",\"type\":\"Plot\"},{\"attributes\":{},\"id\":\"1552\",\"type\":\"BasicTickFormatter\"},{\"attributes\":{\"bottom_units\":\"screen\",\"fill_alpha\":0.5,\"fill_color\":\"lightgrey\",\"left_units\":\"screen\",\"level\":\"overlay\",\"line_alpha\":1.0,\"line_color\":\"black\",\"line_dash\":[4,4],\"line_width\":2,\"right_units\":\"screen\",\"top_units\":\"screen\"},\"id\":\"1519\",\"type\":\"BoxAnnotation\"},{\"attributes\":{},\"id\":\"1510\",\"type\":\"BasicTicker\"},{\"attributes\":{},\"id\":\"1554\",\"type\":\"UnionRenderers\"},{\"attributes\":{\"data\":{\"costs\":[2.0,4.0,6.0,8.0,8.0,10.0,12.0,14.0,14.0,14.0,16.0,16.0,18.0,20.0,20.0,22.0,22.0,24.0,26.0,26.0,28.0,30.0,32.0,34.0,36.0,38.0,38.0,38.0,38.0,40.0,40.0,42.0,44.0,46.0,48.0,48.0,50.0,50.0,50.0,50.0,50.0,50.0,52.0,54.0,56.0,56.0,58.0,58.0],\"edges_x\":[[0.0,0.0,0.0],[0.0,1.0,0.0,0.0],[0.0,2.0,1.0,0.0,0.0],[0.0,0.0,2.0,1.0,0.0,0.0],[0.0,0.0,2.0,2.0,1.0,0.0,0.0],[0.0,0.0,3.0,2.0,2.0,1.0,0.0,0.0],[0.0,0.0,3.0,3.0,2.0,2.0,1.0,0.0,0.0],[0.0,0.0,2.0,3.0,3.0,2.0,2.0,1.0,0.0,0.0],[0.0,0.0,0.0,2.0,3.0,3.0,2.0,2.0,1.0,0.0,0.0],[0.0,0.0,0.0,1.0,2.0,3.0,3.0,2.0,2.0,1.0,0.0,0.0],[0.0,0.0,0.0,1.0,2.0,4.0,3.0,3.0,2.0,2.0,1.0,0.0,0.0],[0.0,0.0,0.0,1.0,2.0,4.0,4.0,3.0,3.0,2.0,2.0,1.0,0.0,0.0],[0.0,1.0,0.0,0.0,1.0,2.0,4.0,4.0,3.0,3.0,2.0,2.0,1.0,0.0,0.0],[0.0,1.0,0.0,0.0,1.0,1.0,2.0,4.0,4.0,3.0,3.0,2.0,2.0,1.0,0.0,0.0],[0.0,1.0,0.0,0.0,1.0,1.0,2.0,4.0,4.0,4.0,3.0,3.0,2.0,2.0,1.0,0.0,0.0],[0.0,1.0,0.0,0.0,1.0,1.0,2.0,4.0,5.0,4.0,4.0,3.0,3.0,2.0,2.0,1.0,0.0,0.0],[0.0,1.0,0.0,0.0,1.0,1.0,2.0,3.0,4.0,5.0,4.0,4.0,3.0,3.0,2.0,2.0,1.0,0.0,0.0],[0.0,1.0,0.0,0.0,1.0,1.0,2.0,3.0,3.0,4.0,5.0,4.0,4.0,3.0,3.0,2.0,2.0,1.0,0.0,0.0],[0.0,2.0,1.0,0.0,0.0,1.0,1.0,2.0,3.0,3.0,4.0,5.0,4.0,4.0,3.0,3.0,2.0,2.0,1.0,0.0,0.0],[0.0,2.0,1.0,0.0,0.0,1.0,1.0,2.0,3.0,3.0,4.0,5.0,5.0,4.0,4.0,3.0,3.0,2.0,2.0,1.0,0.0,0.0],[0.0,2.0,1.0,0.0,0.0,1.0,1.0,2.0,3.0,3.0,4.0,5.0,5.0,5.0,4.0,4.0,3.0,3.0,2.0,2.0,1.0,0.0,0.0],[0.0,2.0,1.0,0.0,0.0,1.0,1.0,2.0,3.0,3.0,4.0,5.0,5.0,5.0,5.0,4.0,4.0,3.0,3.0,2.0,2.0,1.0,0.0,0.0],[0.0,2.0,1.0,0.0,0.0,1.0,1.0,1.0,2.0,3.0,3.0,4.0,5.0,5.0,5.0,5.0,4.0,4.0,3.0,3.0,2.0,2.0,1.0,0.0,0.0],[0.0,2.0,1.0,0.0,0.0,1.0,1.0,1.0,1.0,2.0,3.0,3.0,4.0,5.0,5.0,5.0,5.0,4.0,4.0,3.0,3.0,2.0,2.0,1.0,0.0,0.0],[0.0,2.0,1.0,0.0,0.0,2.0,1.0,1.0,1.0,1.0,2.0,3.0,3.0,4.0,5.0,5.0,5.0,5.0,4.0,4.0,3.0,3.0,2.0,2.0,1.0,0.0,0.0],[0.0,2.0,1.0,0.0,0.0,2.0,1.0,1.0,1.0,1.0,2.0,3.0,3.0,4.0,5.0,5.0,5.0,5.0,5.0,4.0,4.0,3.0,3.0,2.0,2.0,1.0,0.0,0.0],[0.0,2.0,1.0,0.0,0.0,0.0,2.0,1.0,1.0,1.0,1.0,2.0,3.0,3.0,4.0,5.0,5.0,5.0,5.0,5.0,4.0,4.0,3.0,3.0,2.0,2.0,1.0,0.0,0.0],[0.0,2.0,1.0,0.0,0.0,0.0,0.0,2.0,1.0,1.0,1.0,1.0,2.0,3.0,3.0,4.0,5.0,5.0,5.0,5.0,5.0,4.0,4.0,3.0,3.0,2.0,2.0,1.0,0.0,0.0],[0.0,2.0,1.0,0.0,0.0,0.0,0.0,2.0,1.0,1.0,1.0,1.0,2.0,3.0,3.0,4.0,4.0,5.0,5.0,5.0,5.0,5.0,4.0,4.0,3.0,3.0,2.0,2.0,1.0,0.0,0.0],[0.0,2.0,1.0,0.0,0.0,0.0,0.0,2.0,2.0,1.0,1.0,1.0,1.0,2.0,3.0,3.0,4.0,4.0,5.0,5.0,5.0,5.0,5.0,4.0,4.0,3.0,3.0,2.0,2.0,1.0,0.0,0.0],[0.0,2.0,1.0,0.0,0.0,0.0,0.0,1.0,2.0,2.0,1.0,1.0,1.0,1.0,2.0,3.0,3.0,4.0,4.0,5.0,5.0,5.0,5.0,5.0,4.0,4.0,3.0,3.0,2.0,2.0,1.0,0.0,0.0],[0.0,2.0,1.0,0.0,0.0,0.0,0.0,1.0,2.0,2.0,1.0,1.0,1.0,1.0,2.0,3.0,3.0,4.0,4.0,5.0,5.0,5.0,5.0,5.0,4.0,4.0,4.0,3.0,3.0,2.0,2.0,1.0,0.0,0.0],[0.0,3.0,2.0,1.0,0.0,0.0,0.0,0.0,1.0,2.0,2.0,1.0,1.0,1.0,1.0,2.0,3.0,3.0,4.0,4.0,5.0,5.0,5.0,5.0,5.0,4.0,4.0,4.0,3.0,3.0,2.0,2.0,1.0,0.0,0.0],[0.0,3.0,2.0,1.0,0.0,0.0,0.0,0.0,1.0,2.0,3.0,2.0,1.0,1.0,1.0,1.0,2.0,3.0,3.0,4.0,4.0,5.0,5.0,5.0,5.0,5.0,4.0,4.0,4.0,3.0,3.0,2.0,2.0,1.0,0.0,0.0],[0.0,3.0,2.0,1.0,0.0,0.0,0.0,0.0,1.0,2.0,2.0,3.0,2.0,1.0,1.0,1.0,1.0,2.0,3.0,3.0,4.0,4.0,5.0,5.0,5.0,5.0,5.0,4.0,4.0,4.0,3.0,3.0,2.0,2.0,1.0,0.0,0.0],[0.0,3.0,2.0,1.0,0.0,0.0,0.0,0.0,1.0,2.0,2.0,3.0,2.0,1.0,1.0,1.0,1.0,2.0,2.0,3.0,3.0,4.0,4.0,5.0,5.0,5.0,5.0,5.0,4.0,4.0,4.0,3.0,3.0,2.0,2.0,1.0,0.0,0.0],[0.0,3.0,2.0,1.0,0.0,0.0,0.0,0.0,1.0,2.0,2.0,3.0,2.0,1.0,1.0,1.0,1.0,2.0,2.0,3.0,3.0,4.0,4.0,5.0,5.0,5.0,5.0,5.0,5.0,4.0,4.0,4.0,3.0,3.0,2.0,2.0,1.0,0.0,0.0],[0.0,3.0,2.0,1.0,0.0,0.0,0.0,0.0,0.0,1.0,2.0,2.0,3.0,2.0,1.0,1.0,1.0,1.0,2.0,2.0,3.0,3.0,4.0,4.0,5.0,5.0,5.0,5.0,5.0,5.0,4.0,4.0,4.0,3.0,3.0,2.0,2.0,1.0,0.0,0.0],[0.0,3.0,2.0,1.0,0.0,0.0,0.0,0.0,0.0,1.0,2.0,2.0,3.0,2.0,1.0,1.0,1.0,1.0,2.0,2.0,3.0,3.0,4.0,4.0,4.0,5.0,5.0,5.0,5.0,5.0,5.0,4.0,4.0,4.0,3.0,3.0,2.0,2.0,1.0,0.0,0.0],[0.0,3.0,2.0,1.0,0.0,0.0,0.0,0.0,0.0,1.0,2.0,2.0,3.0,3.0,2.0,1.0,1.0,1.0,1.0,2.0,2.0,3.0,3.0,4.0,4.0,4.0,5.0,5.0,5.0,5.0,5.0,5.0,4.0,4.0,4.0,3.0,3.0,2.0,2.0,1.0,0.0,0.0],[0.0,3.0,2.0,1.0,0.0,0.0,0.0,0.0,0.0,1.0,2.0,2.0,3.0,3.0,2.0,1.0,1.0,1.0,1.0,2.0,2.0,3.0,3.0,4.0,4.0,4.0,4.0,5.0,5.0,5.0,5.0,5.0,5.0,4.0,4.0,4.0,3.0,3.0,2.0,2.0,1.0,0.0,0.0],[0.0,1.0,3.0,2.0,1.0,0.0,0.0,0.0,0.0,0.0,1.0,2.0,2.0,3.0,3.0,2.0,1.0,1.0,1.0,1.0,2.0,2.0,3.0,3.0,4.0,4.0,4.0,4.0,5.0,5.0,5.0,5.0,5.0,5.0,4.0,4.0,4.0,3.0,3.0,2.0,2.0,1.0,0.0,0.0],[0.0,1.0,3.0,2.0,1.0,0.0,0.0,0.0,0.0,0.0,1.0,2.0,2.0,3.0,3.0,2.0,1.0,1.0,1.0,1.0,2.0,2.0,3.0,3.0,4.0,4.0,4.0,4.0,5.0,5.0,5.0,5.0,5.0,5.0,5.0,4.0,4.0,4.0,3.0,3.0,2.0,2.0,1.0,0.0,0.0],[0.0,1.0,3.0,2.0,1.0,0.0,0.0,0.0,0.0,0.0,1.0,3.0,2.0,2.0,3.0,3.0,2.0,1.0,1.0,1.0,1.0,2.0,2.0,3.0,3.0,4.0,4.0,4.0,4.0,5.0,5.0,5.0,5.0,5.0,5.0,5.0,4.0,4.0,4.0,3.0,3.0,2.0,2.0,1.0,0.0,0.0],[0.0,1.0,3.0,2.0,1.0,0.0,0.0,0.0,0.0,0.0,1.0,4.0,3.0,2.0,2.0,3.0,3.0,2.0,1.0,1.0,1.0,1.0,2.0,2.0,3.0,3.0,4.0,4.0,4.0,4.0,5.0,5.0,5.0,5.0,5.0,5.0,5.0,4.0,4.0,4.0,3.0,3.0,2.0,2.0,1.0,0.0,0.0],[0.0,1.0,3.0,2.0,1.0,0.0,0.0,0.0,0.0,0.0,0.0,1.0,4.0,3.0,2.0,2.0,3.0,3.0,2.0,1.0,1.0,1.0,1.0,2.0,2.0,3.0,3.0,4.0,4.0,4.0,4.0,5.0,5.0,5.0,5.0,5.0,5.0,5.0,4.0,4.0,4.0,3.0,3.0,2.0,2.0,1.0,0.0,0.0],[0.0,1.0,3.0,2.0,1.0,0.0,0.0,0.0,0.0,0.0,0.0,1.0,5.0,4.0,3.0,2.0,2.0,3.0,3.0,2.0,1.0,1.0,1.0,1.0,2.0,2.0,3.0,3.0,4.0,4.0,4.0,4.0,5.0,5.0,5.0,5.0,5.0,5.0,5.0,4.0,4.0,4.0,3.0,3.0,2.0,2.0,1.0,0.0,0.0],[0.0,1.0,3.0,2.0,1.0,0.0,0.0,0.0,0.0,0.0,0.0,1.0,5.0,4.0,3.0,2.0,2.0,3.0,3.0,2.0,1.0,1.0,1.0,1.0,2.0,2.0,3.0,3.0,4.0,4.0,4.0,4.0,5.0,5.0,5.0,5.0,5.0,5.0,5.0,4.0,4.0,4.0,3.0,3.0,2.0,2.0,1.0,0.0,0.0]],\"edges_y\":[[0.0,1.0,0.0],[0.0,1.0,1.0,0.0],[0.0,1.0,1.0,1.0,0.0],[0.0,2.0,1.0,1.0,1.0,0.0],[0.0,2.0,2.0,1.0,1.0,1.0,0.0],[0.0,2.0,2.0,2.0,1.0,1.0,1.0,0.0],[0.0,2.0,1.0,2.0,2.0,1.0,1.0,1.0,0.0],[0.0,2.0,3.0,1.0,2.0,2.0,1.0,1.0,1.0,0.0],[0.0,2.0,3.0,3.0,1.0,2.0,2.0,1.0,1.0,1.0,0.0],[0.0,2.0,3.0,3.0,3.0,1.0,2.0,2.0,1.0,1.0,1.0,0.0],[0.0,2.0,3.0,3.0,3.0,2.0,1.0,2.0,2.0,1.0,1.0,1.0,0.0],[0.0,2.0,3.0,3.0,3.0,3.0,2.0,1.0,2.0,2.0,1.0,1.0,1.0,0.0],[0.0,2.0,2.0,3.0,3.0,3.0,3.0,2.0,1.0,2.0,2.0,1.0,1.0,1.0,0.0],[0.0,2.0,2.0,3.0,4.0,3.0,3.0,3.0,2.0,1.0,2.0,2.0,1.0,1.0,1.0,0.0],[0.0,2.0,2.0,3.0,4.0,3.0,3.0,3.0,2.0,1.0,1.0,2.0,2.0,1.0,1.0,1.0,0.0],[0.0,2.0,2.0,3.0,4.0,3.0,3.0,3.0,2.0,2.0,1.0,1.0,2.0,2.0,1.0,1.0,1.0,0.0],[0.0,2.0,2.0,3.0,4.0,3.0,3.0,3.0,3.0,2.0,2.0,1.0,1.0,2.0,2.0,1.0,1.0,1.0,0.0],[0.0,2.0,2.0,3.0,4.0,3.0,3.0,4.0,3.0,3.0,2.0,2.0,1.0,1.0,2.0,2.0,1.0,1.0,1.0,0.0],[0.0,0.0,2.0,2.0,3.0,4.0,3.0,3.0,4.0,3.0,3.0,2.0,2.0,1.0,1.0,2.0,2.0,1.0,1.0,1.0,0.0],[0.0,0.0,2.0,2.0,3.0,4.0,3.0,3.0,4.0,3.0,3.0,3.0,2.0,2.0,1.0,1.0,2.0,2.0,1.0,1.0,1.0,0.0],[0.0,0.0,2.0,2.0,3.0,4.0,3.0,3.0,4.0,3.0,3.0,3.0,1.0,2.0,2.0,1.0,1.0,2.0,2.0,1.0,1.0,1.0,0.0],[0.0,0.0,2.0,2.0,3.0,4.0,3.0,3.0,4.0,3.0,3.0,4.0,3.0,1.0,2.0,2.0,1.0,1.0,2.0,2.0,1.0,1.0,1.0,0.0],[0.0,0.0,2.0,2.0,3.0,5.0,4.0,3.0,3.0,4.0,3.0,3.0,4.0,3.0,1.0,2.0,2.0,1.0,1.0,2.0,2.0,1.0,1.0,1.0,0.0],[0.0,0.0,2.0,2.0,3.0,6.0,5.0,4.0,3.0,3.0,4.0,3.0,3.0,4.0,3.0,1.0,2.0,2.0,1.0,1.0,2.0,2.0,1.0,1.0,1.0,0.0],[0.0,0.0,2.0,2.0,3.0,6.0,6.0,5.0,4.0,3.0,3.0,4.0,3.0,3.0,4.0,3.0,1.0,2.0,2.0,1.0,1.0,2.0,2.0,1.0,1.0,1.0,0.0],[0.0,0.0,2.0,2.0,3.0,6.0,6.0,5.0,4.0,3.0,3.0,4.0,3.0,3.0,5.0,4.0,3.0,1.0,2.0,2.0,1.0,1.0,2.0,2.0,1.0,1.0,1.0,0.0],[0.0,0.0,2.0,2.0,3.0,4.0,6.0,6.0,5.0,4.0,3.0,3.0,4.0,3.0,3.0,5.0,4.0,3.0,1.0,2.0,2.0,1.0,1.0,2.0,2.0,1.0,1.0,1.0,0.0],[0.0,0.0,2.0,2.0,3.0,4.0,6.0,6.0,6.0,5.0,4.0,3.0,3.0,4.0,3.0,3.0,5.0,4.0,3.0,1.0,2.0,2.0,1.0,1.0,2.0,2.0,1.0,1.0,1.0,0.0],[0.0,0.0,2.0,2.0,3.0,4.0,6.0,6.0,6.0,5.0,4.0,3.0,3.0,4.0,3.0,3.0,4.0,5.0,4.0,3.0,1.0,2.0,2.0,1.0,1.0,2.0,2.0,1.0,1.0,1.0,0.0],[0.0,0.0,2.0,2.0,3.0,4.0,6.0,7.0,6.0,6.0,5.0,4.0,3.0,3.0,4.0,3.0,3.0,4.0,5.0,4.0,3.0,1.0,2.0,2.0,1.0,1.0,2.0,2.0,1.0,1.0,1.0,0.0],[0.0,0.0,2.0,2.0,3.0,4.0,6.0,7.0,7.0,6.0,6.0,5.0,4.0,3.0,3.0,4.0,3.0,3.0,4.0,5.0,4.0,3.0,1.0,2.0,2.0,1.0,1.0,2.0,2.0,1.0,1.0,1.0,0.0],[0.0,0.0,2.0,2.0,3.0,4.0,6.0,7.0,7.0,6.0,6.0,5.0,4.0,3.0,3.0,4.0,3.0,3.0,4.0,5.0,4.0,3.0,1.0,2.0,2.0,0.0,1.0,1.0,2.0,2.0,1.0,1.0,1.0,0.0],[0.0,0.0,0.0,2.0,2.0,3.0,4.0,6.0,7.0,7.0,6.0,6.0,5.0,4.0,3.0,3.0,4.0,3.0,3.0,4.0,5.0,4.0,3.0,1.0,2.0,2.0,0.0,1.0,1.0,2.0,2.0,1.0,1.0,1.0,0.0],[0.0,0.0,0.0,2.0,2.0,3.0,4.0,6.0,7.0,7.0,6.0,6.0,6.0,5.0,4.0,3.0,3.0,4.0,3.0,3.0,4.0,5.0,4.0,3.0,1.0,2.0,2.0,0.0,1.0,1.0,2.0,2.0,1.0,1.0,1.0,0.0],[0.0,0.0,0.0,2.0,2.0,3.0,4.0,6.0,7.0,7.0,5.0,6.0,6.0,6.0,5.0,4.0,3.0,3.0,4.0,3.0,3.0,4.0,5.0,4.0,3.0,1.0,2.0,2.0,0.0,1.0,1.0,2.0,2.0,1.0,1.0,1.0,0.0],[0.0,0.0,0.0,2.0,2.0,3.0,4.0,6.0,7.0,7.0,5.0,6.0,6.0,6.0,5.0,4.0,3.0,3.0,4.0,4.0,3.0,3.0,4.0,5.0,4.0,3.0,1.0,2.0,2.0,0.0,1.0,1.0,2.0,2.0,1.0,1.0,1.0,0.0],[0.0,0.0,0.0,2.0,2.0,3.0,4.0,6.0,7.0,7.0,5.0,6.0,6.0,6.0,5.0,4.0,3.0,3.0,4.0,4.0,3.0,3.0,4.0,6.0,5.0,4.0,3.0,1.0,2.0,2.0,0.0,1.0,1.0,2.0,2.0,1.0,1.0,1.0,0.0],[0.0,0.0,0.0,2.0,2.0,3.0,4.0,5.0,6.0,7.0,7.0,5.0,6.0,6.0,6.0,5.0,4.0,3.0,3.0,4.0,4.0,3.0,3.0,4.0,6.0,5.0,4.0,3.0,1.0,2.0,2.0,0.0,1.0,1.0,2.0,2.0,1.0,1.0,1.0,0.0],[0.0,0.0,0.0,2.0,2.0,3.0,4.0,5.0,6.0,7.0,7.0,5.0,6.0,6.0,6.0,5.0,4.0,3.0,3.0,4.0,4.0,3.0,3.0,4.0,5.0,6.0,5.0,4.0,3.0,1.0,2.0,2.0,0.0,1.0,1.0,2.0,2.0,1.0,1.0,1.0,0.0],[0.0,0.0,0.0,2.0,2.0,3.0,4.0,5.0,6.0,7.0,7.0,5.0,5.0,6.0,6.0,6.0,5.0,4.0,3.0,3.0,4.0,4.0,3.0,3.0,4.0,5.0,6.0,5.0,4.0,3.0,1.0,2.0,2.0,0.0,1.0,1.0,2.0,2.0,1.0,1.0,1.0,0.0],[0.0,0.0,0.0,2.0,2.0,3.0,4.0,5.0,6.0,7.0,7.0,5.0,5.0,6.0,6.0,6.0,5.0,4.0,3.0,3.0,4.0,4.0,3.0,3.0,4.0,5.0,6.0,6.0,5.0,4.0,3.0,1.0,2.0,2.0,0.0,1.0,1.0,2.0,2.0,1.0,1.0,1.0,0.0],[0.0,0.0,0.0,0.0,2.0,2.0,3.0,4.0,5.0,6.0,7.0,7.0,5.0,5.0,6.0,6.0,6.0,5.0,4.0,3.0,3.0,4.0,4.0,3.0,3.0,4.0,5.0,6.0,6.0,5.0,4.0,3.0,1.0,2.0,2.0,0.0,1.0,1.0,2.0,2.0,1.0,1.0,1.0,0.0],[0.0,0.0,0.0,0.0,2.0,2.0,3.0,4.0,5.0,6.0,7.0,7.0,5.0,5.0,6.0,6.0,6.0,5.0,4.0,3.0,3.0,4.0,4.0,3.0,3.0,4.0,5.0,6.0,6.0,5.0,4.0,3.0,0.0,1.0,2.0,2.0,0.0,1.0,1.0,2.0,2.0,1.0,1.0,1.0,0.0],[0.0,0.0,0.0,0.0,2.0,2.0,3.0,4.0,5.0,6.0,7.0,7.0,7.0,5.0,5.0,6.0,6.0,6.0,5.0,4.0,3.0,3.0,4.0,4.0,3.0,3.0,4.0,5.0,6.0,6.0,5.0,4.0,3.0,0.0,1.0,2.0,2.0,0.0,1.0,1.0,2.0,2.0,1.0,1.0,1.0,0.0],[0.0,0.0,0.0,0.0,2.0,2.0,3.0,4.0,5.0,6.0,7.0,7.0,7.0,7.0,5.0,5.0,6.0,6.0,6.0,5.0,4.0,3.0,3.0,4.0,4.0,3.0,3.0,4.0,5.0,6.0,6.0,5.0,4.0,3.0,0.0,1.0,2.0,2.0,0.0,1.0,1.0,2.0,2.0,1.0,1.0,1.0,0.0],[0.0,0.0,0.0,0.0,2.0,2.0,3.0,4.0,5.0,6.0,7.0,7.0,7.0,7.0,7.0,5.0,5.0,6.0,6.0,6.0,5.0,4.0,3.0,3.0,4.0,4.0,3.0,3.0,4.0,5.0,6.0,6.0,5.0,4.0,3.0,0.0,1.0,2.0,2.0,0.0,1.0,1.0,2.0,2.0,1.0,1.0,1.0,0.0],[0.0,0.0,0.0,0.0,2.0,2.0,3.0,4.0,5.0,6.0,7.0,7.0,7.0,7.0,7.0,7.0,5.0,5.0,6.0,6.0,6.0,5.0,4.0,3.0,3.0,4.0,4.0,3.0,3.0,4.0,5.0,6.0,6.0,5.0,4.0,3.0,0.0,1.0,2.0,2.0,0.0,1.0,1.0,2.0,2.0,1.0,1.0,1.0,0.0],[0.0,0.0,0.0,0.0,2.0,2.0,3.0,4.0,5.0,6.0,7.0,7.0,7.0,7.0,7.0,7.0,5.0,5.0,6.0,6.0,6.0,5.0,4.0,3.0,3.0,4.0,4.0,3.0,3.0,4.0,5.0,6.0,6.0,5.0,4.0,3.0,0.0,1.0,2.0,2.0,0.0,1.0,1.0,2.0,2.0,1.0,1.0,1.0,0.0]]},\"selected\":{\"id\":\"1563\"},\"selection_policy\":{\"id\":\"1562\"}},\"id\":\"1531\",\"type\":\"ColumnDataSource\"},{\"attributes\":{\"axis\":{\"id\":\"1509\"},\"dimension\":1,\"grid_line_color\":null,\"ticker\":null},\"id\":\"1512\",\"type\":\"Grid\"},{\"attributes\":{},\"id\":\"1555\",\"type\":\"Selection\"},{\"attributes\":{\"data\":{\"edges_x\":[0.0,0.0,0.0],\"edges_y\":[0.0,1.0,0.0]},\"selected\":{\"id\":\"1555\"},\"selection_policy\":{\"id\":\"1554\"}},\"id\":\"1532\",\"type\":\"ColumnDataSource\"},{\"attributes\":{\"data\":{\"x\":[0.0,0.0,0.0,0.0,0.0,0.0,0.0,0.0,1.0,1.0,1.0,1.0,1.0,1.0,1.0,1.0,2.0,2.0,2.0,2.0,2.0,2.0,2.0,2.0,3.0,3.0,3.0,3.0,3.0,3.0,3.0,3.0,4.0,4.0,4.0,4.0,4.0,4.0,4.0,4.0,5.0,5.0,5.0,5.0,5.0,5.0,5.0,5.0],\"y\":[0.0,1.0,2.0,3.0,4.0,5.0,6.0,7.0,0.0,1.0,2.0,3.0,4.0,5.0,6.0,7.0,0.0,1.0,2.0,3.0,4.0,5.0,6.0,7.0,0.0,1.0,2.0,3.0,4.0,5.0,6.0,7.0,0.0,1.0,2.0,3.0,4.0,5.0,6.0,7.0,0.0,1.0,2.0,3.0,4.0,5.0,6.0,7.0]},\"selected\":{\"id\":\"1557\"},\"selection_policy\":{\"id\":\"1556\"}},\"id\":\"1538\",\"type\":\"ColumnDataSource\"},{\"attributes\":{},\"id\":\"1556\",\"type\":\"UnionRenderers\"},{\"attributes\":{\"align\":\"center\",\"text\":\"2.0\",\"width\":200},\"id\":\"1528\",\"type\":\"Div\"},{\"attributes\":{\"line_alpha\":0.1,\"line_width\":4,\"x\":{\"field\":\"edges_x\"},\"y\":{\"field\":\"edges_y\"}},\"id\":\"1535\",\"type\":\"Line\"},{\"attributes\":{\"align\":\"center\",\"text\":\"0\",\"width\":400},\"id\":\"1530\",\"type\":\"Div\"},{\"attributes\":{\"align\":\"center\",\"width\":200},\"id\":\"1529\",\"type\":\"Div\"},{\"attributes\":{},\"id\":\"1557\",\"type\":\"Selection\"},{\"attributes\":{\"data_source\":{\"id\":\"1532\"},\"glyph\":{\"id\":\"1534\"},\"hover_glyph\":null,\"muted_glyph\":null,\"nonselection_glyph\":{\"id\":\"1535\"},\"selection_glyph\":null,\"view\":{\"id\":\"1537\"}},\"id\":\"1536\",\"type\":\"GlyphRenderer\"},{\"attributes\":{},\"id\":\"1513\",\"type\":\"PanTool\"},{\"attributes\":{},\"id\":\"1562\",\"type\":\"UnionRenderers\"},{\"attributes\":{},\"id\":\"1514\",\"type\":\"WheelZoomTool\"},{\"attributes\":{\"fill_color\":{\"value\":\"steelblue\"},\"line_color\":{\"value\":\"steelblue\"},\"size\":{\"units\":\"screen\",\"value\":8},\"x\":{\"field\":\"x\"},\"y\":{\"field\":\"y\"}},\"id\":\"1539\",\"type\":\"Circle\"},{\"attributes\":{},\"id\":\"1563\",\"type\":\"Selection\"},{\"attributes\":{\"overlay\":{\"id\":\"1519\"}},\"id\":\"1515\",\"type\":\"BoxZoomTool\"},{\"attributes\":{\"fill_alpha\":{\"value\":0.1},\"fill_color\":{\"value\":\"steelblue\"},\"line_alpha\":{\"value\":0.1},\"line_color\":{\"value\":\"steelblue\"},\"size\":{\"units\":\"screen\",\"value\":8},\"x\":{\"field\":\"x\"},\"y\":{\"field\":\"y\"}},\"id\":\"1540\",\"type\":\"Circle\"},{\"attributes\":{\"data_source\":{\"id\":\"1538\"},\"glyph\":{\"id\":\"1539\"},\"hover_glyph\":null,\"muted_glyph\":null,\"nonselection_glyph\":{\"id\":\"1540\"},\"selection_glyph\":null,\"view\":{\"id\":\"1542\"}},\"id\":\"1541\",\"type\":\"GlyphRenderer\"},{\"attributes\":{},\"id\":\"1516\",\"type\":\"SaveTool\"}],\"root_ids\":[\"1564\"]},\"title\":\"Bokeh Application\",\"version\":\"2.1.0\"}};\n",
       "  var render_items = [{\"docid\":\"52417fb6-8790-4cc7-9001-5795d930a3f4\",\"root_ids\":[\"1564\"],\"roots\":{\"1564\":\"e38944fc-3ed0-4e1e-b013-74833e3530fe\"}}];\n",
       "  root.Bokeh.embed.embed_items_notebook(docs_json, render_items);\n",
       "\n",
       "  }\n",
       "  if (root.Bokeh !== undefined) {\n",
       "    embed_document(root);\n",
       "  } else {\n",
       "    var attempts = 0;\n",
       "    var timer = setInterval(function(root) {\n",
       "      if (root.Bokeh !== undefined) {\n",
       "        clearInterval(timer);\n",
       "        embed_document(root);\n",
       "      } else {\n",
       "        attempts++;\n",
       "        if (attempts > 100) {\n",
       "          clearInterval(timer);\n",
       "          console.log(\"Bokeh: ERROR: Unable to run BokehJS code because BokehJS library is missing\");\n",
       "        }\n",
       "      }\n",
       "    }, 10, root)\n",
       "  }\n",
       "})(window);"
      ],
      "application/vnd.bokehjs_exec.v0+json": ""
     },
     "metadata": {
      "application/vnd.bokehjs_exec.v0+json": {
       "id": "1564"
      }
     },
     "output_type": "display_data"
    }
   ],
   "source": [
    "tour = plot_tsp_heuristic(nodes, G, heuristic='nearest_insertion', initial=[0,1,0])"
   ]
  },
  {
   "cell_type": "markdown",
   "metadata": {},
   "source": [
    "**Q6:** Run this a few times. How does is compare to the previous heuristics?\n",
    "\n",
    "**A:** <font color='blue'> This is the best heuristic yet. By starting with a small tour and expanding it, the boxing out issue nearest neighbor experienced is reduced. </font>"
   ]
  },
  {
   "cell_type": "markdown",
   "metadata": {},
   "source": [
    "Now, let's look at the furthest insertion heuristic."
   ]
  },
  {
   "cell_type": "code",
   "execution_count": 12,
   "metadata": {
    "scrolled": false
   },
   "outputs": [
    {
     "data": {
      "text/html": [
       "\n",
       "\n",
       "\n",
       "\n",
       "\n",
       "\n",
       "  <div class=\"bk-root\" id=\"9c1d9893-2cda-4c64-a35d-6b2c21b0188e\" data-root-id=\"1753\"></div>\n"
      ]
     },
     "metadata": {},
     "output_type": "display_data"
    },
    {
     "data": {
      "application/javascript": [
       "(function(root) {\n",
       "  function embed_document(root) {\n",
       "    \n",
       "  var docs_json = {\"2c19dcb2-5c4e-40eb-b114-f0eac2fd867a\":{\"roots\":{\"references\":[{\"attributes\":{\"children\":[[{\"id\":\"1683\"},0,0],[{\"id\":\"1736\"},1,0],[{\"id\":\"1737\"},2,0]]},\"id\":\"1753\",\"type\":\"GridBox\"},{\"attributes\":{},\"id\":\"1746\",\"type\":\"Selection\"},{\"attributes\":{},\"id\":\"1739\",\"type\":\"BasicTickFormatter\"},{\"attributes\":{},\"id\":\"1702\",\"type\":\"PanTool\"},{\"attributes\":{\"axis\":{\"id\":\"1694\"},\"grid_line_color\":null,\"ticker\":null},\"id\":\"1697\",\"type\":\"Grid\"},{\"attributes\":{},\"id\":\"1751\",\"type\":\"UnionRenderers\"},{\"attributes\":{\"background_fill_color\":null,\"below\":[{\"id\":\"1694\"}],\"border_fill_color\":null,\"center\":[{\"id\":\"1697\"},{\"id\":\"1701\"}],\"left\":[{\"id\":\"1698\"}],\"outline_line_color\":null,\"plot_height\":400,\"plot_width\":400,\"renderers\":[{\"id\":\"1725\"},{\"id\":\"1730\"}],\"title\":{\"id\":\"1684\"},\"toolbar\":{\"id\":\"1709\"},\"toolbar_location\":null,\"x_range\":{\"id\":\"1686\"},\"x_scale\":{\"id\":\"1690\"},\"y_range\":{\"id\":\"1688\"},\"y_scale\":{\"id\":\"1692\"}},\"id\":\"1683\",\"subtype\":\"Figure\",\"type\":\"Plot\"},{\"attributes\":{},\"id\":\"1703\",\"type\":\"WheelZoomTool\"},{\"attributes\":{\"source\":{\"id\":\"1721\"}},\"id\":\"1726\",\"type\":\"CDSView\"},{\"attributes\":{},\"id\":\"1752\",\"type\":\"Selection\"},{\"attributes\":{\"overlay\":{\"id\":\"1708\"}},\"id\":\"1704\",\"type\":\"BoxZoomTool\"},{\"attributes\":{\"line_width\":4,\"x\":{\"field\":\"edges_x\"},\"y\":{\"field\":\"edges_y\"}},\"id\":\"1723\",\"type\":\"Line\"},{\"attributes\":{\"data\":{\"x\":[0.0,0.0,0.0,0.0,0.0,0.0,0.0,0.0,1.0,1.0,1.0,1.0,1.0,1.0,1.0,1.0,2.0,2.0,2.0,2.0,2.0,2.0,2.0,2.0,3.0,3.0,3.0,3.0,3.0,3.0,3.0,3.0,4.0,4.0,4.0,4.0,4.0,4.0,4.0,4.0,5.0,5.0,5.0,5.0,5.0,5.0,5.0,5.0],\"y\":[0.0,1.0,2.0,3.0,4.0,5.0,6.0,7.0,0.0,1.0,2.0,3.0,4.0,5.0,6.0,7.0,0.0,1.0,2.0,3.0,4.0,5.0,6.0,7.0,0.0,1.0,2.0,3.0,4.0,5.0,6.0,7.0,0.0,1.0,2.0,3.0,4.0,5.0,6.0,7.0,0.0,1.0,2.0,3.0,4.0,5.0,6.0,7.0]},\"selected\":{\"id\":\"1746\"},\"selection_policy\":{\"id\":\"1745\"}},\"id\":\"1727\",\"type\":\"ColumnDataSource\"},{\"attributes\":{},\"id\":\"1705\",\"type\":\"SaveTool\"},{\"attributes\":{\"line_alpha\":0.1,\"line_width\":4,\"x\":{\"field\":\"edges_x\"},\"y\":{\"field\":\"edges_y\"}},\"id\":\"1724\",\"type\":\"Line\"},{\"attributes\":{},\"id\":\"1706\",\"type\":\"ResetTool\"},{\"attributes\":{\"data_source\":{\"id\":\"1721\"},\"glyph\":{\"id\":\"1723\"},\"hover_glyph\":null,\"muted_glyph\":null,\"nonselection_glyph\":{\"id\":\"1724\"},\"selection_glyph\":null,\"view\":{\"id\":\"1726\"}},\"id\":\"1725\",\"type\":\"GlyphRenderer\"},{\"attributes\":{},\"id\":\"1707\",\"type\":\"HelpTool\"},{\"attributes\":{\"align\":\"center\",\"width\":200},\"id\":\"1718\",\"type\":\"Div\"},{\"attributes\":{},\"id\":\"1745\",\"type\":\"UnionRenderers\"},{\"attributes\":{\"active_drag\":\"auto\",\"active_inspect\":\"auto\",\"active_multi\":null,\"active_scroll\":\"auto\",\"active_tap\":\"auto\",\"logo\":null,\"tools\":[{\"id\":\"1702\"},{\"id\":\"1703\"},{\"id\":\"1704\"},{\"id\":\"1705\"},{\"id\":\"1706\"},{\"id\":\"1707\"}]},\"id\":\"1709\",\"type\":\"Toolbar\"},{\"attributes\":{\"fill_color\":{\"value\":\"steelblue\"},\"line_color\":{\"value\":\"steelblue\"},\"size\":{\"units\":\"screen\",\"value\":8},\"x\":{\"field\":\"x\"},\"y\":{\"field\":\"y\"}},\"id\":\"1728\",\"type\":\"Circle\"},{\"attributes\":{\"fill_alpha\":{\"value\":0.1},\"fill_color\":{\"value\":\"steelblue\"},\"line_alpha\":{\"value\":0.1},\"line_color\":{\"value\":\"steelblue\"},\"size\":{\"units\":\"screen\",\"value\":8},\"x\":{\"field\":\"x\"},\"y\":{\"field\":\"y\"}},\"id\":\"1729\",\"type\":\"Circle\"},{\"attributes\":{},\"id\":\"1743\",\"type\":\"UnionRenderers\"},{\"attributes\":{\"data_source\":{\"id\":\"1727\"},\"glyph\":{\"id\":\"1728\"},\"hover_glyph\":null,\"muted_glyph\":null,\"nonselection_glyph\":{\"id\":\"1729\"},\"selection_glyph\":null,\"view\":{\"id\":\"1731\"}},\"id\":\"1730\",\"type\":\"GlyphRenderer\"},{\"attributes\":{\"source\":{\"id\":\"1727\"}},\"id\":\"1731\",\"type\":\"CDSView\"},{\"attributes\":{\"end\":5.425,\"start\":-0.42500000000000004},\"id\":\"1686\",\"type\":\"Range1d\"},{\"attributes\":{\"args\":{\"cost\":{\"id\":\"1717\"},\"done\":{\"id\":\"1718\"},\"n\":{\"id\":\"1719\"},\"source\":{\"id\":\"1720\"},\"tour\":{\"id\":\"1721\"}},\"code\":\"\\nif ((parseInt(n.text) + 1) < source.data['edges_y'].length) {\\n    n.text = (parseInt(n.text) + 1).toString()\\n}\\nvar iteration = parseInt(n.text)\\n\\nif (iteration == source.data['edges_y'].length - 2) {\\n    iteration = iteration + 1\\n}\\n\\n    cost.text = source.data['costs'][iteration].toFixed(1)\\n    \\n    if (iteration == source.data['edges_y'].length - 1) {\\n        done.text = \\\"done.\\\"\\n    } else {\\n        done.text = \\\"\\\"\\n    }\\n\\n    tour.data['edges_x'] = source.data['edges_x'][iteration]\\n    tour.data['edges_y'] = source.data['edges_y'][iteration]\\n    tour.change.emit()\\n    \"},\"id\":\"1733\",\"type\":\"CustomJS\"},{\"attributes\":{\"button_type\":\"success\",\"icon\":null,\"js_event_callbacks\":{\"button_click\":[{\"id\":\"1733\"}]},\"label\":\"Next\",\"sizing_mode\":\"scale_width\",\"width_policy\":\"fit\"},\"id\":\"1732\",\"type\":\"Button\"},{\"attributes\":{\"text\":\"\"},\"id\":\"1684\",\"type\":\"Title\"},{\"attributes\":{\"button_type\":\"success\",\"icon\":null,\"js_event_callbacks\":{\"button_click\":[{\"id\":\"1735\"}]},\"label\":\"Previous\",\"sizing_mode\":\"scale_width\",\"width_policy\":\"fit\"},\"id\":\"1734\",\"type\":\"Button\"},{\"attributes\":{},\"id\":\"1744\",\"type\":\"Selection\"},{\"attributes\":{},\"id\":\"1690\",\"type\":\"LinearScale\"},{\"attributes\":{\"align\":\"center\",\"text\":\"24.0\",\"width\":200},\"id\":\"1717\",\"type\":\"Div\"},{\"attributes\":{\"args\":{\"cost\":{\"id\":\"1717\"},\"done\":{\"id\":\"1718\"},\"n\":{\"id\":\"1719\"},\"source\":{\"id\":\"1720\"},\"tour\":{\"id\":\"1721\"}},\"code\":\"\\nif ((parseInt(n.text) - 1) >= 0) {\\n    n.text = (parseInt(n.text) - 1).toString()\\n}\\nvar iteration = parseInt(n.text)\\n\\nif (iteration == source.data['edges_y'].length - 2) {\\n    iteration = iteration - 1\\n}\\n\\n    cost.text = source.data['costs'][iteration].toFixed(1)\\n    \\n    if (iteration == source.data['edges_y'].length - 1) {\\n        done.text = \\\"done.\\\"\\n    } else {\\n        done.text = \\\"\\\"\\n    }\\n\\n    tour.data['edges_x'] = source.data['edges_x'][iteration]\\n    tour.data['edges_y'] = source.data['edges_y'][iteration]\\n    tour.change.emit()\\n    \"},\"id\":\"1735\",\"type\":\"CustomJS\"},{\"attributes\":{},\"id\":\"1741\",\"type\":\"BasicTickFormatter\"},{\"attributes\":{},\"id\":\"1699\",\"type\":\"BasicTicker\"},{\"attributes\":{\"children\":[{\"id\":\"1734\"},{\"id\":\"1732\"}],\"max_width\":400,\"sizing_mode\":\"stretch_both\"},\"id\":\"1736\",\"type\":\"Row\"},{\"attributes\":{\"bottom_units\":\"screen\",\"fill_alpha\":0.5,\"fill_color\":\"lightgrey\",\"left_units\":\"screen\",\"level\":\"overlay\",\"line_alpha\":1.0,\"line_color\":\"black\",\"line_dash\":[4,4],\"line_width\":2,\"right_units\":\"screen\",\"top_units\":\"screen\"},\"id\":\"1708\",\"type\":\"BoxAnnotation\"},{\"attributes\":{\"end\":7.595,\"start\":-0.5950000000000001},\"id\":\"1688\",\"type\":\"Range1d\"},{\"attributes\":{\"formatter\":{\"id\":\"1741\"},\"ticker\":{\"id\":\"1699\"},\"visible\":false},\"id\":\"1698\",\"type\":\"LinearAxis\"},{\"attributes\":{\"children\":[{\"id\":\"1717\"},{\"id\":\"1718\"}]},\"id\":\"1737\",\"type\":\"Row\"},{\"attributes\":{\"align\":\"center\",\"text\":\"0\",\"width\":400},\"id\":\"1719\",\"type\":\"Div\"},{\"attributes\":{},\"id\":\"1695\",\"type\":\"BasicTicker\"},{\"attributes\":{\"data\":{\"costs\":[24.0,24.0,24.0,26.0,28.0,34.0,34.0,36.0,36.0,36.0,38.0,38.0,40.0,42.0,42.0,42.0,42.0,42.0,42.0,42.0,42.0,42.0,44.0,46.0,46.0,46.0,46.0,46.0,46.0,46.0,46.0,48.0,48.0,48.0,48.0,48.0,48.0,48.0,48.0,50.0,52.0,54.0,54.0,56.0,58.0,58.0,58.0,58.0],\"edges_x\":[[0.0,5.0,0.0],[0.0,4.0,5.0,0.0],[0.0,4.0,5.0,0.0,0.0],[0.0,1.0,4.0,5.0,0.0,0.0],[0.0,1.0,4.0,3.0,5.0,0.0,0.0],[0.0,1.0,5.0,4.0,3.0,5.0,0.0,0.0],[0.0,1.0,2.0,5.0,4.0,3.0,5.0,0.0,0.0],[0.0,1.0,2.0,5.0,4.0,5.0,3.0,5.0,0.0,0.0],[0.0,1.0,2.0,5.0,4.0,5.0,3.0,5.0,2.0,0.0,0.0],[0.0,0.0,1.0,2.0,5.0,4.0,5.0,3.0,5.0,2.0,0.0,0.0],[0.0,0.0,1.0,2.0,2.0,5.0,4.0,5.0,3.0,5.0,2.0,0.0,0.0],[0.0,0.0,1.0,2.0,2.0,3.0,5.0,4.0,5.0,3.0,5.0,2.0,0.0,0.0],[0.0,0.0,1.0,1.0,2.0,2.0,3.0,5.0,4.0,5.0,3.0,5.0,2.0,0.0,0.0],[0.0,0.0,1.0,1.0,2.0,3.0,2.0,3.0,5.0,4.0,5.0,3.0,5.0,2.0,0.0,0.0],[0.0,0.0,1.0,1.0,2.0,3.0,2.0,3.0,5.0,4.0,5.0,3.0,5.0,2.0,0.0,0.0,0.0],[0.0,0.0,1.0,1.0,2.0,3.0,2.0,3.0,5.0,4.0,5.0,3.0,4.0,5.0,2.0,0.0,0.0,0.0],[0.0,0.0,1.0,1.0,2.0,3.0,2.0,3.0,5.0,4.0,5.0,3.0,4.0,5.0,2.0,0.0,0.0,0.0,0.0],[0.0,0.0,1.0,1.0,2.0,3.0,3.0,2.0,3.0,5.0,4.0,5.0,3.0,4.0,5.0,2.0,0.0,0.0,0.0,0.0],[0.0,0.0,1.0,1.0,2.0,3.0,3.0,2.0,3.0,5.0,4.0,5.0,3.0,4.0,4.0,5.0,2.0,0.0,0.0,0.0,0.0],[0.0,0.0,1.0,1.0,2.0,2.0,3.0,3.0,2.0,3.0,5.0,4.0,5.0,3.0,4.0,4.0,5.0,2.0,0.0,0.0,0.0,0.0],[0.0,0.0,1.0,1.0,2.0,2.0,3.0,3.0,2.0,3.0,5.0,4.0,5.0,5.0,3.0,4.0,4.0,5.0,2.0,0.0,0.0,0.0,0.0],[0.0,0.0,1.0,1.0,2.0,2.0,3.0,3.0,2.0,3.0,5.0,4.0,5.0,5.0,5.0,3.0,4.0,4.0,5.0,2.0,0.0,0.0,0.0,0.0],[0.0,0.0,1.0,1.0,2.0,2.0,3.0,3.0,2.0,3.0,5.0,4.0,5.0,5.0,5.0,5.0,3.0,4.0,4.0,5.0,2.0,0.0,0.0,0.0,0.0],[0.0,1.0,0.0,1.0,1.0,2.0,2.0,3.0,3.0,2.0,3.0,5.0,4.0,5.0,5.0,5.0,5.0,3.0,4.0,4.0,5.0,2.0,0.0,0.0,0.0,0.0],[0.0,1.0,0.0,1.0,1.0,2.0,2.0,3.0,3.0,2.0,2.0,3.0,5.0,4.0,5.0,5.0,5.0,5.0,3.0,4.0,4.0,5.0,2.0,0.0,0.0,0.0,0.0],[0.0,1.0,0.0,0.0,1.0,1.0,2.0,2.0,3.0,3.0,2.0,2.0,3.0,5.0,4.0,5.0,5.0,5.0,5.0,3.0,4.0,4.0,5.0,2.0,0.0,0.0,0.0,0.0],[0.0,1.0,1.0,0.0,0.0,1.0,1.0,2.0,2.0,3.0,3.0,2.0,2.0,3.0,5.0,4.0,5.0,5.0,5.0,5.0,3.0,4.0,4.0,5.0,2.0,0.0,0.0,0.0,0.0],[0.0,1.0,1.0,0.0,0.0,1.0,1.0,1.0,2.0,2.0,3.0,3.0,2.0,2.0,3.0,5.0,4.0,5.0,5.0,5.0,5.0,3.0,4.0,4.0,5.0,2.0,0.0,0.0,0.0,0.0],[0.0,1.0,1.0,0.0,0.0,1.0,1.0,1.0,2.0,2.0,3.0,3.0,2.0,2.0,3.0,5.0,4.0,5.0,5.0,5.0,5.0,3.0,4.0,4.0,5.0,2.0,2.0,0.0,0.0,0.0,0.0],[0.0,1.0,1.0,0.0,0.0,1.0,1.0,1.0,2.0,2.0,3.0,3.0,2.0,2.0,3.0,5.0,4.0,5.0,5.0,5.0,5.0,3.0,4.0,4.0,5.0,2.0,2.0,0.0,0.0,0.0,0.0,0.0],[0.0,1.0,1.0,0.0,0.0,1.0,1.0,1.0,2.0,2.0,3.0,3.0,2.0,2.0,3.0,3.0,5.0,4.0,5.0,5.0,5.0,5.0,3.0,4.0,4.0,5.0,2.0,2.0,0.0,0.0,0.0,0.0,0.0],[0.0,1.0,1.0,0.0,0.0,1.0,1.0,1.0,2.0,2.0,3.0,3.0,2.0,2.0,3.0,3.0,5.0,4.0,5.0,5.0,5.0,5.0,3.0,4.0,4.0,5.0,1.0,2.0,2.0,0.0,0.0,0.0,0.0,0.0],[0.0,1.0,1.0,0.0,0.0,1.0,1.0,1.0,2.0,2.0,3.0,3.0,2.0,2.0,3.0,3.0,5.0,5.0,4.0,5.0,5.0,5.0,5.0,3.0,4.0,4.0,5.0,1.0,2.0,2.0,0.0,0.0,0.0,0.0,0.0],[0.0,1.0,1.0,0.0,0.0,1.0,1.0,1.0,2.0,2.0,3.0,3.0,2.0,2.0,3.0,3.0,5.0,5.0,4.0,4.0,5.0,5.0,5.0,5.0,3.0,4.0,4.0,5.0,1.0,2.0,2.0,0.0,0.0,0.0,0.0,0.0],[0.0,1.0,1.0,0.0,0.0,1.0,1.0,1.0,2.0,2.0,3.0,3.0,2.0,2.0,3.0,3.0,5.0,5.0,4.0,4.0,5.0,5.0,5.0,5.0,3.0,4.0,4.0,5.0,1.0,2.0,2.0,1.0,0.0,0.0,0.0,0.0,0.0],[0.0,1.0,1.0,0.0,0.0,1.0,1.0,1.0,2.0,2.0,2.0,3.0,3.0,2.0,2.0,3.0,3.0,5.0,5.0,4.0,4.0,5.0,5.0,5.0,5.0,3.0,4.0,4.0,5.0,1.0,2.0,2.0,1.0,0.0,0.0,0.0,0.0,0.0],[0.0,1.0,1.0,1.0,0.0,0.0,1.0,1.0,1.0,2.0,2.0,2.0,3.0,3.0,2.0,2.0,3.0,3.0,5.0,5.0,4.0,4.0,5.0,5.0,5.0,5.0,3.0,4.0,4.0,5.0,1.0,2.0,2.0,1.0,0.0,0.0,0.0,0.0,0.0],[0.0,1.0,1.0,1.0,0.0,0.0,1.0,1.0,1.0,2.0,2.0,2.0,3.0,3.0,2.0,2.0,3.0,3.0,5.0,5.0,4.0,4.0,4.0,5.0,5.0,5.0,5.0,3.0,4.0,4.0,5.0,1.0,2.0,2.0,1.0,0.0,0.0,0.0,0.0,0.0],[0.0,1.0,1.0,1.0,0.0,0.0,1.0,1.0,1.0,2.0,2.0,2.0,3.0,3.0,2.0,2.0,3.0,3.0,5.0,5.0,4.0,4.0,4.0,5.0,5.0,5.0,5.0,4.0,3.0,4.0,4.0,5.0,1.0,2.0,2.0,1.0,0.0,0.0,0.0,0.0,0.0],[0.0,1.0,1.0,1.0,0.0,0.0,1.0,1.0,1.0,2.0,3.0,2.0,2.0,3.0,3.0,2.0,2.0,3.0,3.0,5.0,5.0,4.0,4.0,4.0,5.0,5.0,5.0,5.0,4.0,3.0,4.0,4.0,5.0,1.0,2.0,2.0,1.0,0.0,0.0,0.0,0.0,0.0],[0.0,2.0,1.0,1.0,1.0,0.0,0.0,1.0,1.0,1.0,2.0,3.0,2.0,2.0,3.0,3.0,2.0,2.0,3.0,3.0,5.0,5.0,4.0,4.0,4.0,5.0,5.0,5.0,5.0,4.0,3.0,4.0,4.0,5.0,1.0,2.0,2.0,1.0,0.0,0.0,0.0,0.0,0.0],[0.0,2.0,1.0,1.0,1.0,0.0,0.0,1.0,1.0,1.0,2.0,4.0,3.0,2.0,2.0,3.0,3.0,2.0,2.0,3.0,3.0,5.0,5.0,4.0,4.0,4.0,5.0,5.0,5.0,5.0,4.0,3.0,4.0,4.0,5.0,1.0,2.0,2.0,1.0,0.0,0.0,0.0,0.0,0.0],[0.0,2.0,1.0,1.0,1.0,0.0,0.0,1.0,1.0,1.0,2.0,4.0,3.0,2.0,2.0,3.0,3.0,2.0,2.0,3.0,3.0,5.0,5.0,4.0,4.0,4.0,5.0,5.0,5.0,5.0,4.0,3.0,4.0,4.0,5.0,3.0,1.0,2.0,2.0,1.0,0.0,0.0,0.0,0.0,0.0],[0.0,2.0,1.0,1.0,1.0,0.0,0.0,1.0,1.0,1.0,2.0,4.0,3.0,2.0,2.0,3.0,3.0,2.0,2.0,3.0,3.0,5.0,5.0,5.0,4.0,4.0,4.0,5.0,5.0,5.0,5.0,4.0,3.0,4.0,4.0,5.0,3.0,1.0,2.0,2.0,1.0,0.0,0.0,0.0,0.0,0.0],[0.0,2.0,1.0,1.0,1.0,0.0,0.0,1.0,1.0,1.0,2.0,4.0,3.0,2.0,2.0,3.0,3.0,2.0,2.0,3.0,3.0,5.0,5.0,5.0,4.0,4.0,4.0,5.0,5.0,5.0,5.0,4.0,3.0,4.0,4.0,5.0,3.0,0.0,1.0,2.0,2.0,1.0,0.0,0.0,0.0,0.0,0.0],[0.0,2.0,1.0,1.0,1.0,0.0,0.0,1.0,1.0,1.0,2.0,4.0,3.0,2.0,2.0,3.0,3.0,2.0,2.0,3.0,3.0,4.0,5.0,5.0,5.0,4.0,4.0,4.0,5.0,5.0,5.0,5.0,4.0,3.0,4.0,4.0,5.0,3.0,0.0,1.0,2.0,2.0,1.0,0.0,0.0,0.0,0.0,0.0],[0.0,2.0,1.0,1.0,1.0,0.0,0.0,1.0,1.0,1.0,2.0,4.0,3.0,2.0,2.0,3.0,3.0,2.0,2.0,3.0,3.0,4.0,5.0,5.0,5.0,4.0,4.0,4.0,5.0,5.0,5.0,5.0,4.0,3.0,3.0,4.0,4.0,5.0,3.0,0.0,1.0,2.0,2.0,1.0,0.0,0.0,0.0,0.0,0.0],[0.0,2.0,1.0,1.0,1.0,0.0,0.0,1.0,1.0,1.0,2.0,4.0,3.0,2.0,2.0,3.0,3.0,2.0,2.0,3.0,3.0,4.0,5.0,5.0,5.0,4.0,4.0,4.0,5.0,5.0,5.0,5.0,4.0,3.0,3.0,4.0,4.0,5.0,3.0,0.0,1.0,2.0,2.0,1.0,0.0,0.0,0.0,0.0,0.0]],\"edges_y\":[[0.0,7.0,0.0],[0.0,2.0,7.0,0.0],[0.0,2.0,7.0,6.0,0.0],[0.0,3.0,2.0,7.0,6.0,0.0],[0.0,3.0,2.0,5.0,7.0,6.0,0.0],[0.0,3.0,0.0,2.0,5.0,7.0,6.0,0.0],[0.0,3.0,1.0,0.0,2.0,5.0,7.0,6.0,0.0],[0.0,3.0,1.0,0.0,2.0,4.0,5.0,7.0,6.0,0.0],[0.0,3.0,1.0,0.0,2.0,4.0,5.0,7.0,7.0,6.0,0.0],[0.0,2.0,3.0,1.0,0.0,2.0,4.0,5.0,7.0,7.0,6.0,0.0],[0.0,2.0,3.0,4.0,1.0,0.0,2.0,4.0,5.0,7.0,7.0,6.0,0.0],[0.0,2.0,3.0,4.0,1.0,0.0,0.0,2.0,4.0,5.0,7.0,7.0,6.0,0.0],[0.0,2.0,3.0,5.0,4.0,1.0,0.0,0.0,2.0,4.0,5.0,7.0,7.0,6.0,0.0],[0.0,2.0,3.0,5.0,4.0,3.0,1.0,0.0,0.0,2.0,4.0,5.0,7.0,7.0,6.0,0.0],[0.0,2.0,3.0,5.0,4.0,3.0,1.0,0.0,0.0,2.0,4.0,5.0,7.0,7.0,6.0,4.0,0.0],[0.0,2.0,3.0,5.0,4.0,3.0,1.0,0.0,0.0,2.0,4.0,5.0,6.0,7.0,7.0,6.0,4.0,0.0],[0.0,2.0,3.0,5.0,4.0,3.0,1.0,0.0,0.0,2.0,4.0,5.0,6.0,7.0,7.0,6.0,5.0,4.0,0.0],[0.0,2.0,3.0,5.0,4.0,3.0,2.0,1.0,0.0,0.0,2.0,4.0,5.0,6.0,7.0,7.0,6.0,5.0,4.0,0.0],[0.0,2.0,3.0,5.0,4.0,3.0,2.0,1.0,0.0,0.0,2.0,4.0,5.0,6.0,7.0,7.0,7.0,6.0,5.0,4.0,0.0],[0.0,2.0,3.0,5.0,5.0,4.0,3.0,2.0,1.0,0.0,0.0,2.0,4.0,5.0,6.0,7.0,7.0,7.0,6.0,5.0,4.0,0.0],[0.0,2.0,3.0,5.0,5.0,4.0,3.0,2.0,1.0,0.0,0.0,2.0,3.0,4.0,5.0,6.0,7.0,7.0,7.0,6.0,5.0,4.0,0.0],[0.0,2.0,3.0,5.0,5.0,4.0,3.0,2.0,1.0,0.0,0.0,2.0,3.0,4.0,5.0,5.0,6.0,7.0,7.0,7.0,6.0,5.0,4.0,0.0],[0.0,2.0,3.0,5.0,5.0,4.0,3.0,2.0,1.0,0.0,0.0,2.0,3.0,4.0,6.0,5.0,5.0,6.0,7.0,7.0,7.0,6.0,5.0,4.0,0.0],[0.0,0.0,2.0,3.0,5.0,5.0,4.0,3.0,2.0,1.0,0.0,0.0,2.0,3.0,4.0,6.0,5.0,5.0,6.0,7.0,7.0,7.0,6.0,5.0,4.0,0.0],[0.0,0.0,2.0,3.0,5.0,5.0,4.0,3.0,2.0,2.0,1.0,0.0,0.0,2.0,3.0,4.0,6.0,5.0,5.0,6.0,7.0,7.0,7.0,6.0,5.0,4.0,0.0],[0.0,0.0,2.0,3.0,3.0,5.0,5.0,4.0,3.0,2.0,2.0,1.0,0.0,0.0,2.0,3.0,4.0,6.0,5.0,5.0,6.0,7.0,7.0,7.0,6.0,5.0,4.0,0.0],[0.0,0.0,2.0,2.0,3.0,3.0,5.0,5.0,4.0,3.0,2.0,2.0,1.0,0.0,0.0,2.0,3.0,4.0,6.0,5.0,5.0,6.0,7.0,7.0,7.0,6.0,5.0,4.0,0.0],[0.0,0.0,2.0,2.0,3.0,3.0,4.0,5.0,5.0,4.0,3.0,2.0,2.0,1.0,0.0,0.0,2.0,3.0,4.0,6.0,5.0,5.0,6.0,7.0,7.0,7.0,6.0,5.0,4.0,0.0],[0.0,0.0,2.0,2.0,3.0,3.0,4.0,5.0,5.0,4.0,3.0,2.0,2.0,1.0,0.0,0.0,2.0,3.0,4.0,6.0,5.0,5.0,6.0,7.0,7.0,7.0,6.0,6.0,5.0,4.0,0.0],[0.0,0.0,2.0,2.0,3.0,3.0,4.0,5.0,5.0,4.0,3.0,2.0,2.0,1.0,0.0,0.0,2.0,3.0,4.0,6.0,5.0,5.0,6.0,7.0,7.0,7.0,6.0,6.0,5.0,4.0,1.0,0.0],[0.0,0.0,2.0,2.0,3.0,3.0,4.0,5.0,5.0,4.0,3.0,2.0,2.0,1.0,1.0,0.0,0.0,2.0,3.0,4.0,6.0,5.0,5.0,6.0,7.0,7.0,7.0,6.0,6.0,5.0,4.0,1.0,0.0],[0.0,0.0,2.0,2.0,3.0,3.0,4.0,5.0,5.0,4.0,3.0,2.0,2.0,1.0,1.0,0.0,0.0,2.0,3.0,4.0,6.0,5.0,5.0,6.0,7.0,7.0,7.0,7.0,6.0,6.0,5.0,4.0,1.0,0.0],[0.0,0.0,2.0,2.0,3.0,3.0,4.0,5.0,5.0,4.0,3.0,2.0,2.0,1.0,1.0,0.0,0.0,1.0,2.0,3.0,4.0,6.0,5.0,5.0,6.0,7.0,7.0,7.0,7.0,6.0,6.0,5.0,4.0,1.0,0.0],[0.0,0.0,2.0,2.0,3.0,3.0,4.0,5.0,5.0,4.0,3.0,2.0,2.0,1.0,1.0,0.0,0.0,1.0,2.0,3.0,3.0,4.0,6.0,5.0,5.0,6.0,7.0,7.0,7.0,7.0,6.0,6.0,5.0,4.0,1.0,0.0],[0.0,0.0,2.0,2.0,3.0,3.0,4.0,5.0,5.0,4.0,3.0,2.0,2.0,1.0,1.0,0.0,0.0,1.0,2.0,3.0,3.0,4.0,6.0,5.0,5.0,6.0,7.0,7.0,7.0,7.0,6.0,6.0,6.0,5.0,4.0,1.0,0.0],[0.0,0.0,2.0,2.0,3.0,3.0,4.0,5.0,5.0,4.0,3.0,3.0,2.0,2.0,1.0,1.0,0.0,0.0,1.0,2.0,3.0,3.0,4.0,6.0,5.0,5.0,6.0,7.0,7.0,7.0,7.0,6.0,6.0,6.0,5.0,4.0,1.0,0.0],[0.0,0.0,1.0,2.0,2.0,3.0,3.0,4.0,5.0,5.0,4.0,3.0,3.0,2.0,2.0,1.0,1.0,0.0,0.0,1.0,2.0,3.0,3.0,4.0,6.0,5.0,5.0,6.0,7.0,7.0,7.0,7.0,6.0,6.0,6.0,5.0,4.0,1.0,0.0],[0.0,0.0,1.0,2.0,2.0,3.0,3.0,4.0,5.0,5.0,4.0,3.0,3.0,2.0,2.0,1.0,1.0,0.0,0.0,1.0,1.0,2.0,3.0,3.0,4.0,6.0,5.0,5.0,6.0,7.0,7.0,7.0,7.0,6.0,6.0,6.0,5.0,4.0,1.0,0.0],[0.0,0.0,1.0,2.0,2.0,3.0,3.0,4.0,5.0,5.0,4.0,3.0,3.0,2.0,2.0,1.0,1.0,0.0,0.0,1.0,1.0,2.0,3.0,3.0,4.0,6.0,5.0,5.0,5.0,6.0,7.0,7.0,7.0,7.0,6.0,6.0,6.0,5.0,4.0,1.0,0.0],[0.0,0.0,1.0,2.0,2.0,3.0,3.0,4.0,5.0,5.0,4.0,4.0,3.0,3.0,2.0,2.0,1.0,1.0,0.0,0.0,1.0,1.0,2.0,3.0,3.0,4.0,6.0,5.0,5.0,5.0,6.0,7.0,7.0,7.0,7.0,6.0,6.0,6.0,5.0,4.0,1.0,0.0],[0.0,0.0,0.0,1.0,2.0,2.0,3.0,3.0,4.0,5.0,5.0,4.0,4.0,3.0,3.0,2.0,2.0,1.0,1.0,0.0,0.0,1.0,1.0,2.0,3.0,3.0,4.0,6.0,5.0,5.0,5.0,6.0,7.0,7.0,7.0,7.0,6.0,6.0,6.0,5.0,4.0,1.0,0.0],[0.0,0.0,0.0,1.0,2.0,2.0,3.0,3.0,4.0,5.0,5.0,4.0,4.0,4.0,3.0,3.0,2.0,2.0,1.0,1.0,0.0,0.0,1.0,1.0,2.0,3.0,3.0,4.0,6.0,5.0,5.0,5.0,6.0,7.0,7.0,7.0,7.0,6.0,6.0,6.0,5.0,4.0,1.0,0.0],[0.0,0.0,0.0,1.0,2.0,2.0,3.0,3.0,4.0,5.0,5.0,4.0,4.0,4.0,3.0,3.0,2.0,2.0,1.0,1.0,0.0,0.0,1.0,1.0,2.0,3.0,3.0,4.0,6.0,5.0,5.0,5.0,6.0,7.0,7.0,7.0,7.0,7.0,6.0,6.0,6.0,5.0,4.0,1.0,0.0],[0.0,0.0,0.0,1.0,2.0,2.0,3.0,3.0,4.0,5.0,5.0,4.0,4.0,4.0,3.0,3.0,2.0,2.0,1.0,1.0,0.0,0.0,2.0,1.0,1.0,2.0,3.0,3.0,4.0,6.0,5.0,5.0,5.0,6.0,7.0,7.0,7.0,7.0,7.0,6.0,6.0,6.0,5.0,4.0,1.0,0.0],[0.0,0.0,0.0,1.0,2.0,2.0,3.0,3.0,4.0,5.0,5.0,4.0,4.0,4.0,3.0,3.0,2.0,2.0,1.0,1.0,0.0,0.0,2.0,1.0,1.0,2.0,3.0,3.0,4.0,6.0,5.0,5.0,5.0,6.0,7.0,7.0,7.0,7.0,7.0,7.0,6.0,6.0,6.0,5.0,4.0,1.0,0.0],[0.0,0.0,0.0,1.0,2.0,2.0,3.0,3.0,4.0,5.0,5.0,4.0,4.0,4.0,3.0,3.0,2.0,2.0,1.0,1.0,0.0,0.0,0.0,2.0,1.0,1.0,2.0,3.0,3.0,4.0,6.0,5.0,5.0,5.0,6.0,7.0,7.0,7.0,7.0,7.0,7.0,6.0,6.0,6.0,5.0,4.0,1.0,0.0],[0.0,0.0,0.0,1.0,2.0,2.0,3.0,3.0,4.0,5.0,5.0,4.0,4.0,4.0,3.0,3.0,2.0,2.0,1.0,1.0,0.0,0.0,0.0,2.0,1.0,1.0,2.0,3.0,3.0,4.0,6.0,5.0,5.0,5.0,6.0,6.0,7.0,7.0,7.0,7.0,7.0,7.0,6.0,6.0,6.0,5.0,4.0,1.0,0.0],[0.0,0.0,0.0,1.0,2.0,2.0,3.0,3.0,4.0,5.0,5.0,4.0,4.0,4.0,3.0,3.0,2.0,2.0,1.0,1.0,0.0,0.0,0.0,2.0,1.0,1.0,2.0,3.0,3.0,4.0,6.0,5.0,5.0,5.0,6.0,6.0,7.0,7.0,7.0,7.0,7.0,7.0,6.0,6.0,6.0,5.0,4.0,1.0,0.0]]},\"selected\":{\"id\":\"1752\"},\"selection_policy\":{\"id\":\"1751\"}},\"id\":\"1720\",\"type\":\"ColumnDataSource\"},{\"attributes\":{\"formatter\":{\"id\":\"1739\"},\"ticker\":{\"id\":\"1695\"},\"visible\":false},\"id\":\"1694\",\"type\":\"LinearAxis\"},{\"attributes\":{\"axis\":{\"id\":\"1698\"},\"dimension\":1,\"grid_line_color\":null,\"ticker\":null},\"id\":\"1701\",\"type\":\"Grid\"},{\"attributes\":{},\"id\":\"1692\",\"type\":\"LinearScale\"},{\"attributes\":{\"data\":{\"edges_x\":[0.0,5.0,0.0],\"edges_y\":[0.0,7.0,0.0]},\"selected\":{\"id\":\"1744\"},\"selection_policy\":{\"id\":\"1743\"}},\"id\":\"1721\",\"type\":\"ColumnDataSource\"}],\"root_ids\":[\"1753\"]},\"title\":\"Bokeh Application\",\"version\":\"2.1.0\"}};\n",
       "  var render_items = [{\"docid\":\"2c19dcb2-5c4e-40eb-b114-f0eac2fd867a\",\"root_ids\":[\"1753\"],\"roots\":{\"1753\":\"9c1d9893-2cda-4c64-a35d-6b2c21b0188e\"}}];\n",
       "  root.Bokeh.embed.embed_items_notebook(docs_json, render_items);\n",
       "\n",
       "  }\n",
       "  if (root.Bokeh !== undefined) {\n",
       "    embed_document(root);\n",
       "  } else {\n",
       "    var attempts = 0;\n",
       "    var timer = setInterval(function(root) {\n",
       "      if (root.Bokeh !== undefined) {\n",
       "        clearInterval(timer);\n",
       "        embed_document(root);\n",
       "      } else {\n",
       "        attempts++;\n",
       "        if (attempts > 100) {\n",
       "          clearInterval(timer);\n",
       "          console.log(\"Bokeh: ERROR: Unable to run BokehJS code because BokehJS library is missing\");\n",
       "        }\n",
       "      }\n",
       "    }, 10, root)\n",
       "  }\n",
       "})(window);"
      ],
      "application/vnd.bokehjs_exec.v0+json": ""
     },
     "metadata": {
      "application/vnd.bokehjs_exec.v0+json": {
       "id": "1753"
      }
     },
     "output_type": "display_data"
    }
   ],
   "source": [
    "tour = plot_tsp_heuristic(nodes, G, heuristic='furthest_insertion', initial=[0,len(G)-1,0])"
   ]
  },
  {
   "cell_type": "markdown",
   "metadata": {},
   "source": [
    "**Q7:** Run this a few times. How does is compare to the previous heuristics?\n",
    "\n",
    "**A:** <font color='blue'> This heuristic is comparable to nearest insertion although there may be certain circumstanes where one would be more likely to outperform the other. </font>"
   ]
  },
  {
   "cell_type": "markdown",
   "metadata": {},
   "source": [
    "To compare the heuristics further, lets run each on the 6x8 grid say, 250 times."
   ]
  },
  {
   "cell_type": "markdown",
   "metadata": {},
   "source": [
    "**Q8:** Now that you have seen each heuristic, which do you think will do the best and which will do the worst?\n",
    "\n",
    "**A:** <font color='blue'> Random neighbor will do the worst and either nearest or furthest insertion will do the best. </font>"
   ]
  },
  {
   "cell_type": "code",
   "execution_count": 13,
   "metadata": {},
   "outputs": [
    {
     "name": "stdout",
     "output_type": "stream",
     "text": [
      "Heuristic Averages:\n",
      "Random Neighbor: 224.688\n",
      "Nearest Neighbor: 63.6\n",
      "Nearest Insertion: 60.632\n",
      "Furthest Insertion: 58.104\n"
     ]
    }
   ],
   "source": [
    "n = 250\n",
    "random_neighbor_total = 0\n",
    "nearest_neighbor_total = 0\n",
    "nearest_insertion_total = 0\n",
    "furthest_insertion_total = 0\n",
    "for i in range(n):\n",
    "    random_neighbor_total += tour_cost(G, random_neighbor(G))\n",
    "    nearest_neighbor_total += tour_cost(G, nearest_neighbor(G))\n",
    "    nearest_insertion_total += tour_cost(G, nearest_insertion(G))\n",
    "    furthest_insertion_total += tour_cost(G, furthest_insertion(G))\n",
    "print(\"Heuristic Averages:\")\n",
    "print(\"Random Neighbor: %s\" % (random_neighbor_total / n))\n",
    "print(\"Nearest Neighbor: %s\" % (nearest_neighbor_total / n))\n",
    "print(\"Nearest Insertion: %s\" % (nearest_insertion_total / n))\n",
    "print(\"Furthest Insertion: %s\" % (furthest_insertion_total / n))"
   ]
  },
  {
   "cell_type": "markdown",
   "metadata": {},
   "source": [
    "**Q9:** What were the results? Was this what you expected?\n",
    "\n",
    "**A:** <font color='blue'> Random neighbor did significantly worse. Furthest insertion did the best with nearest insertion and nearest neighbor not to much worse. This was what I expected. </font>"
   ]
  },
  {
   "cell_type": "markdown",
   "metadata": {},
   "source": [
    "Let's look at 9x9 grid using the euclidian distance now. Run each of the cells below to see each heuristic executed on the new instance."
   ]
  },
  {
   "cell_type": "code",
   "execution_count": 14,
   "metadata": {},
   "outputs": [],
   "source": [
    "nodes, G = tsp_grid_instance(9,9,manhattan=False)"
   ]
  },
  {
   "cell_type": "code",
   "execution_count": 15,
   "metadata": {},
   "outputs": [
    {
     "data": {
      "text/html": [
       "\n",
       "\n",
       "\n",
       "\n",
       "\n",
       "\n",
       "  <div class=\"bk-root\" id=\"ca24c285-1933-435f-9ac8-a8e06072ee6a\" data-root-id=\"1940\"></div>\n"
      ]
     },
     "metadata": {},
     "output_type": "display_data"
    },
    {
     "data": {
      "application/javascript": [
       "(function(root) {\n",
       "  function embed_document(root) {\n",
       "    \n",
       "  var docs_json = {\"f894b97b-38cf-43ab-b4b1-b3159a874db3\":{\"roots\":{\"references\":[{\"attributes\":{\"children\":[[{\"id\":\"1884\"},0,0],[{\"id\":\"1918\"},1,0]]},\"id\":\"1940\",\"type\":\"GridBox\"},{\"attributes\":{\"active_drag\":\"auto\",\"active_inspect\":\"auto\",\"active_multi\":null,\"active_scroll\":\"auto\",\"active_tap\":\"auto\",\"logo\":null,\"tools\":[{\"id\":\"1903\"},{\"id\":\"1904\"},{\"id\":\"1905\"},{\"id\":\"1906\"},{\"id\":\"1907\"},{\"id\":\"1908\"}]},\"id\":\"1910\",\"type\":\"Toolbar\"},{\"attributes\":{},\"id\":\"1935\",\"type\":\"Selection\"},{\"attributes\":{\"axis\":{\"id\":\"1899\"},\"dimension\":1,\"grid_line_color\":null,\"ticker\":null},\"id\":\"1902\",\"type\":\"Grid\"},{\"attributes\":{\"formatter\":{\"id\":\"1932\"},\"ticker\":{\"id\":\"1900\"},\"visible\":false},\"id\":\"1899\",\"type\":\"LinearAxis\"},{\"attributes\":{},\"id\":\"1893\",\"type\":\"LinearScale\"},{\"attributes\":{},\"id\":\"1930\",\"type\":\"BasicTickFormatter\"},{\"attributes\":{},\"id\":\"1900\",\"type\":\"BasicTicker\"},{\"attributes\":{\"formatter\":{\"id\":\"1930\"},\"ticker\":{\"id\":\"1896\"},\"visible\":false},\"id\":\"1895\",\"type\":\"LinearAxis\"},{\"attributes\":{\"fill_alpha\":{\"value\":0.1},\"fill_color\":{\"value\":\"steelblue\"},\"line_alpha\":{\"value\":0.1},\"line_color\":{\"value\":\"steelblue\"},\"size\":{\"units\":\"screen\",\"value\":8},\"x\":{\"field\":\"x\"},\"y\":{\"field\":\"y\"}},\"id\":\"1926\",\"type\":\"Circle\"},{\"attributes\":{\"data_source\":{\"id\":\"1919\"},\"glyph\":{\"id\":\"1920\"},\"hover_glyph\":null,\"muted_glyph\":null,\"nonselection_glyph\":{\"id\":\"1921\"},\"selection_glyph\":null,\"view\":{\"id\":\"1923\"}},\"id\":\"1922\",\"type\":\"GlyphRenderer\"},{\"attributes\":{\"data\":{\"x\":[0.0,6.0,0.0,1.0,4.0,8.0,5.0,7.0,2.0,4.0,2.0,2.0,5.0,1.0,8.0,1.0,7.0,6.0,7.0,3.0,2.0,5.0,6.0,0.0,4.0,4.0,3.0,4.0,0.0,7.0,5.0,7.0,6.0,6.0,8.0,0.0,1.0,8.0,2.0,6.0,5.0,3.0,2.0,8.0,5.0,7.0,2.0,5.0,0.0,7.0,6.0,4.0,3.0,3.0,3.0,2.0,7.0,0.0,4.0,4.0,1.0,8.0,6.0,5.0,1.0,7.0,3.0,8.0,0.0,6.0,3.0,0.0,8.0,2.0,4.0,8.0,3.0,5.0,1.0,1.0,1.0,0.0],\"y\":[0.0,0.0,4.0,7.0,0.0,3.0,8.0,4.0,2.0,5.0,5.0,6.0,0.0,5.0,4.0,8.0,5.0,3.0,8.0,2.0,0.0,5.0,6.0,8.0,8.0,3.0,3.0,1.0,3.0,6.0,6.0,7.0,8.0,7.0,7.0,5.0,6.0,2.0,1.0,5.0,3.0,6.0,7.0,0.0,4.0,0.0,8.0,1.0,6.0,3.0,1.0,6.0,4.0,5.0,8.0,3.0,2.0,2.0,7.0,2.0,4.0,8.0,4.0,7.0,0.0,1.0,0.0,5.0,7.0,2.0,7.0,1.0,6.0,4.0,4.0,1.0,1.0,2.0,1.0,2.0,3.0,0.0]},\"selected\":{\"id\":\"1935\"},\"selection_policy\":{\"id\":\"1934\"}},\"id\":\"1919\",\"type\":\"ColumnDataSource\"},{\"attributes\":{\"end\":8.68,\"start\":-0.68},\"id\":\"1887\",\"type\":\"Range1d\"},{\"attributes\":{},\"id\":\"1906\",\"type\":\"SaveTool\"},{\"attributes\":{\"axis\":{\"id\":\"1895\"},\"grid_line_color\":null,\"ticker\":null},\"id\":\"1898\",\"type\":\"Grid\"},{\"attributes\":{\"data\":{\"x\":[0.0,0.0,0.0,0.0,0.0,0.0,0.0,0.0,0.0,1.0,1.0,1.0,1.0,1.0,1.0,1.0,1.0,1.0,2.0,2.0,2.0,2.0,2.0,2.0,2.0,2.0,2.0,3.0,3.0,3.0,3.0,3.0,3.0,3.0,3.0,3.0,4.0,4.0,4.0,4.0,4.0,4.0,4.0,4.0,4.0,5.0,5.0,5.0,5.0,5.0,5.0,5.0,5.0,5.0,6.0,6.0,6.0,6.0,6.0,6.0,6.0,6.0,6.0,7.0,7.0,7.0,7.0,7.0,7.0,7.0,7.0,7.0,8.0,8.0,8.0,8.0,8.0,8.0,8.0,8.0,8.0],\"y\":[0.0,1.0,2.0,3.0,4.0,5.0,6.0,7.0,8.0,0.0,1.0,2.0,3.0,4.0,5.0,6.0,7.0,8.0,0.0,1.0,2.0,3.0,4.0,5.0,6.0,7.0,8.0,0.0,1.0,2.0,3.0,4.0,5.0,6.0,7.0,8.0,0.0,1.0,2.0,3.0,4.0,5.0,6.0,7.0,8.0,0.0,1.0,2.0,3.0,4.0,5.0,6.0,7.0,8.0,0.0,1.0,2.0,3.0,4.0,5.0,6.0,7.0,8.0,0.0,1.0,2.0,3.0,4.0,5.0,6.0,7.0,8.0,0.0,1.0,2.0,3.0,4.0,5.0,6.0,7.0,8.0]},\"selected\":{\"id\":\"1937\"},\"selection_policy\":{\"id\":\"1936\"}},\"id\":\"1924\",\"type\":\"ColumnDataSource\"},{\"attributes\":{\"align\":\"center\",\"text\":\"391.7\",\"width\":400},\"id\":\"1918\",\"type\":\"Div\"},{\"attributes\":{\"text\":\"\"},\"id\":\"1885\",\"type\":\"Title\"},{\"attributes\":{\"end\":8.68,\"start\":-0.68},\"id\":\"1889\",\"type\":\"Range1d\"},{\"attributes\":{},\"id\":\"1908\",\"type\":\"HelpTool\"},{\"attributes\":{},\"id\":\"1934\",\"type\":\"UnionRenderers\"},{\"attributes\":{\"fill_color\":{\"value\":\"steelblue\"},\"line_color\":{\"value\":\"steelblue\"},\"size\":{\"units\":\"screen\",\"value\":8},\"x\":{\"field\":\"x\"},\"y\":{\"field\":\"y\"}},\"id\":\"1925\",\"type\":\"Circle\"},{\"attributes\":{},\"id\":\"1936\",\"type\":\"UnionRenderers\"},{\"attributes\":{},\"id\":\"1937\",\"type\":\"Selection\"},{\"attributes\":{},\"id\":\"1896\",\"type\":\"BasicTicker\"},{\"attributes\":{},\"id\":\"1932\",\"type\":\"BasicTickFormatter\"},{\"attributes\":{\"bottom_units\":\"screen\",\"fill_alpha\":0.5,\"fill_color\":\"lightgrey\",\"left_units\":\"screen\",\"level\":\"overlay\",\"line_alpha\":1.0,\"line_color\":\"black\",\"line_dash\":[4,4],\"line_width\":2,\"right_units\":\"screen\",\"top_units\":\"screen\"},\"id\":\"1909\",\"type\":\"BoxAnnotation\"},{\"attributes\":{\"line_alpha\":0.1,\"line_width\":4,\"x\":{\"field\":\"x\"},\"y\":{\"field\":\"y\"}},\"id\":\"1921\",\"type\":\"Line\"},{\"attributes\":{\"source\":{\"id\":\"1919\"}},\"id\":\"1923\",\"type\":\"CDSView\"},{\"attributes\":{\"background_fill_color\":null,\"below\":[{\"id\":\"1895\"}],\"border_fill_color\":null,\"center\":[{\"id\":\"1898\"},{\"id\":\"1902\"}],\"left\":[{\"id\":\"1899\"}],\"outline_line_color\":null,\"plot_height\":400,\"plot_width\":400,\"renderers\":[{\"id\":\"1922\"},{\"id\":\"1927\"}],\"title\":{\"id\":\"1885\"},\"toolbar\":{\"id\":\"1910\"},\"toolbar_location\":null,\"x_range\":{\"id\":\"1887\"},\"x_scale\":{\"id\":\"1891\"},\"y_range\":{\"id\":\"1889\"},\"y_scale\":{\"id\":\"1893\"}},\"id\":\"1884\",\"subtype\":\"Figure\",\"type\":\"Plot\"},{\"attributes\":{},\"id\":\"1907\",\"type\":\"ResetTool\"},{\"attributes\":{},\"id\":\"1891\",\"type\":\"LinearScale\"},{\"attributes\":{},\"id\":\"1904\",\"type\":\"WheelZoomTool\"},{\"attributes\":{\"overlay\":{\"id\":\"1909\"}},\"id\":\"1905\",\"type\":\"BoxZoomTool\"},{\"attributes\":{\"line_width\":4,\"x\":{\"field\":\"x\"},\"y\":{\"field\":\"y\"}},\"id\":\"1920\",\"type\":\"Line\"},{\"attributes\":{},\"id\":\"1903\",\"type\":\"PanTool\"},{\"attributes\":{\"data_source\":{\"id\":\"1924\"},\"glyph\":{\"id\":\"1925\"},\"hover_glyph\":null,\"muted_glyph\":null,\"nonselection_glyph\":{\"id\":\"1926\"},\"selection_glyph\":null,\"view\":{\"id\":\"1928\"}},\"id\":\"1927\",\"type\":\"GlyphRenderer\"},{\"attributes\":{\"source\":{\"id\":\"1924\"}},\"id\":\"1928\",\"type\":\"CDSView\"}],\"root_ids\":[\"1940\"]},\"title\":\"Bokeh Application\",\"version\":\"2.1.0\"}};\n",
       "  var render_items = [{\"docid\":\"f894b97b-38cf-43ab-b4b1-b3159a874db3\",\"root_ids\":[\"1940\"],\"roots\":{\"1940\":\"ca24c285-1933-435f-9ac8-a8e06072ee6a\"}}];\n",
       "  root.Bokeh.embed.embed_items_notebook(docs_json, render_items);\n",
       "\n",
       "  }\n",
       "  if (root.Bokeh !== undefined) {\n",
       "    embed_document(root);\n",
       "  } else {\n",
       "    var attempts = 0;\n",
       "    var timer = setInterval(function(root) {\n",
       "      if (root.Bokeh !== undefined) {\n",
       "        clearInterval(timer);\n",
       "        embed_document(root);\n",
       "      } else {\n",
       "        attempts++;\n",
       "        if (attempts > 100) {\n",
       "          clearInterval(timer);\n",
       "          console.log(\"Bokeh: ERROR: Unable to run BokehJS code because BokehJS library is missing\");\n",
       "        }\n",
       "      }\n",
       "    }, 10, root)\n",
       "  }\n",
       "})(window);"
      ],
      "application/vnd.bokehjs_exec.v0+json": ""
     },
     "metadata": {
      "application/vnd.bokehjs_exec.v0+json": {
       "id": "1940"
      }
     },
     "output_type": "display_data"
    }
   ],
   "source": [
    "plot_tour(nodes, G, random_neighbor(G))"
   ]
  },
  {
   "cell_type": "code",
   "execution_count": 16,
   "metadata": {},
   "outputs": [
    {
     "data": {
      "text/html": [
       "\n",
       "\n",
       "\n",
       "\n",
       "\n",
       "\n",
       "  <div class=\"bk-root\" id=\"8196d1f5-74b6-4a53-b0b5-fcf03c21d9d3\" data-root-id=\"2141\"></div>\n"
      ]
     },
     "metadata": {},
     "output_type": "display_data"
    },
    {
     "data": {
      "application/javascript": [
       "(function(root) {\n",
       "  function embed_document(root) {\n",
       "    \n",
       "  var docs_json = {\"f95c94f0-f2fc-402a-b276-28a01b1a58f6\":{\"roots\":{\"references\":[{\"attributes\":{\"children\":[[{\"id\":\"2071\"},0,0],[{\"id\":\"2124\"},1,0],[{\"id\":\"2125\"},2,0]]},\"id\":\"2141\",\"type\":\"GridBox\"},{\"attributes\":{\"formatter\":{\"id\":\"2127\"},\"ticker\":{\"id\":\"2083\"},\"visible\":false},\"id\":\"2082\",\"type\":\"LinearAxis\"},{\"attributes\":{\"bottom_units\":\"screen\",\"fill_alpha\":0.5,\"fill_color\":\"lightgrey\",\"left_units\":\"screen\",\"level\":\"overlay\",\"line_alpha\":1.0,\"line_color\":\"black\",\"line_dash\":[4,4],\"line_width\":2,\"right_units\":\"screen\",\"top_units\":\"screen\"},\"id\":\"2096\",\"type\":\"BoxAnnotation\"},{\"attributes\":{\"children\":[{\"id\":\"2105\"},{\"id\":\"2106\"}]},\"id\":\"2125\",\"type\":\"Row\"},{\"attributes\":{},\"id\":\"2083\",\"type\":\"BasicTicker\"},{\"attributes\":{\"axis\":{\"id\":\"2082\"},\"grid_line_color\":null,\"ticker\":null},\"id\":\"2085\",\"type\":\"Grid\"},{\"attributes\":{\"data\":{\"edges_x\":[0.0],\"edges_y\":[0.0]},\"selected\":{\"id\":\"2132\"},\"selection_policy\":{\"id\":\"2131\"}},\"id\":\"2109\",\"type\":\"ColumnDataSource\"},{\"attributes\":{},\"id\":\"2127\",\"type\":\"BasicTickFormatter\"},{\"attributes\":{\"formatter\":{\"id\":\"2129\"},\"ticker\":{\"id\":\"2087\"},\"visible\":false},\"id\":\"2086\",\"type\":\"LinearAxis\"},{\"attributes\":{},\"id\":\"2080\",\"type\":\"LinearScale\"},{\"attributes\":{},\"id\":\"2129\",\"type\":\"BasicTickFormatter\"},{\"attributes\":{},\"id\":\"2087\",\"type\":\"BasicTicker\"},{\"attributes\":{},\"id\":\"2131\",\"type\":\"UnionRenderers\"},{\"attributes\":{\"source\":{\"id\":\"2109\"}},\"id\":\"2114\",\"type\":\"CDSView\"},{\"attributes\":{\"axis\":{\"id\":\"2086\"},\"dimension\":1,\"grid_line_color\":null,\"ticker\":null},\"id\":\"2089\",\"type\":\"Grid\"},{\"attributes\":{\"text\":\"\"},\"id\":\"2072\",\"type\":\"Title\"},{\"attributes\":{\"line_width\":4,\"x\":{\"field\":\"edges_x\"},\"y\":{\"field\":\"edges_y\"}},\"id\":\"2111\",\"type\":\"Line\"},{\"attributes\":{},\"id\":\"2132\",\"type\":\"Selection\"},{\"attributes\":{\"align\":\"center\",\"text\":\"0\",\"width\":400},\"id\":\"2107\",\"type\":\"Div\"},{\"attributes\":{\"data\":{\"x\":[0.0,0.0,0.0,0.0,0.0,0.0,0.0,0.0,0.0,1.0,1.0,1.0,1.0,1.0,1.0,1.0,1.0,1.0,2.0,2.0,2.0,2.0,2.0,2.0,2.0,2.0,2.0,3.0,3.0,3.0,3.0,3.0,3.0,3.0,3.0,3.0,4.0,4.0,4.0,4.0,4.0,4.0,4.0,4.0,4.0,5.0,5.0,5.0,5.0,5.0,5.0,5.0,5.0,5.0,6.0,6.0,6.0,6.0,6.0,6.0,6.0,6.0,6.0,7.0,7.0,7.0,7.0,7.0,7.0,7.0,7.0,7.0,8.0,8.0,8.0,8.0,8.0,8.0,8.0,8.0,8.0],\"y\":[0.0,1.0,2.0,3.0,4.0,5.0,6.0,7.0,8.0,0.0,1.0,2.0,3.0,4.0,5.0,6.0,7.0,8.0,0.0,1.0,2.0,3.0,4.0,5.0,6.0,7.0,8.0,0.0,1.0,2.0,3.0,4.0,5.0,6.0,7.0,8.0,0.0,1.0,2.0,3.0,4.0,5.0,6.0,7.0,8.0,0.0,1.0,2.0,3.0,4.0,5.0,6.0,7.0,8.0,0.0,1.0,2.0,3.0,4.0,5.0,6.0,7.0,8.0,0.0,1.0,2.0,3.0,4.0,5.0,6.0,7.0,8.0,0.0,1.0,2.0,3.0,4.0,5.0,6.0,7.0,8.0]},\"selected\":{\"id\":\"2134\"},\"selection_policy\":{\"id\":\"2133\"}},\"id\":\"2115\",\"type\":\"ColumnDataSource\"},{\"attributes\":{},\"id\":\"2133\",\"type\":\"UnionRenderers\"},{\"attributes\":{\"line_alpha\":0.1,\"line_width\":4,\"x\":{\"field\":\"edges_x\"},\"y\":{\"field\":\"edges_y\"}},\"id\":\"2112\",\"type\":\"Line\"},{\"attributes\":{\"align\":\"center\",\"width\":200},\"id\":\"2106\",\"type\":\"Div\"},{\"attributes\":{},\"id\":\"2134\",\"type\":\"Selection\"},{\"attributes\":{\"end\":8.68,\"start\":-0.68},\"id\":\"2074\",\"type\":\"Range1d\"},{\"attributes\":{\"align\":\"center\",\"text\":\"0\",\"width\":200},\"id\":\"2105\",\"type\":\"Div\"},{\"attributes\":{\"data_source\":{\"id\":\"2109\"},\"glyph\":{\"id\":\"2111\"},\"hover_glyph\":null,\"muted_glyph\":null,\"nonselection_glyph\":{\"id\":\"2112\"},\"selection_glyph\":null,\"view\":{\"id\":\"2114\"}},\"id\":\"2113\",\"type\":\"GlyphRenderer\"},{\"attributes\":{},\"id\":\"2090\",\"type\":\"PanTool\"},{\"attributes\":{},\"id\":\"2139\",\"type\":\"UnionRenderers\"},{\"attributes\":{\"active_drag\":\"auto\",\"active_inspect\":\"auto\",\"active_multi\":null,\"active_scroll\":\"auto\",\"active_tap\":\"auto\",\"logo\":null,\"tools\":[{\"id\":\"2090\"},{\"id\":\"2091\"},{\"id\":\"2092\"},{\"id\":\"2093\"},{\"id\":\"2094\"},{\"id\":\"2095\"}]},\"id\":\"2097\",\"type\":\"Toolbar\"},{\"attributes\":{\"end\":8.68,\"start\":-0.68},\"id\":\"2076\",\"type\":\"Range1d\"},{\"attributes\":{},\"id\":\"2091\",\"type\":\"WheelZoomTool\"},{\"attributes\":{},\"id\":\"2140\",\"type\":\"Selection\"},{\"attributes\":{},\"id\":\"2078\",\"type\":\"LinearScale\"},{\"attributes\":{\"fill_color\":{\"value\":\"steelblue\"},\"line_color\":{\"value\":\"steelblue\"},\"size\":{\"units\":\"screen\",\"value\":8},\"x\":{\"field\":\"x\"},\"y\":{\"field\":\"y\"}},\"id\":\"2116\",\"type\":\"Circle\"},{\"attributes\":{\"overlay\":{\"id\":\"2096\"}},\"id\":\"2092\",\"type\":\"BoxZoomTool\"},{\"attributes\":{\"fill_alpha\":{\"value\":0.1},\"fill_color\":{\"value\":\"steelblue\"},\"line_alpha\":{\"value\":0.1},\"line_color\":{\"value\":\"steelblue\"},\"size\":{\"units\":\"screen\",\"value\":8},\"x\":{\"field\":\"x\"},\"y\":{\"field\":\"y\"}},\"id\":\"2117\",\"type\":\"Circle\"},{\"attributes\":{},\"id\":\"2093\",\"type\":\"SaveTool\"},{\"attributes\":{\"data_source\":{\"id\":\"2115\"},\"glyph\":{\"id\":\"2116\"},\"hover_glyph\":null,\"muted_glyph\":null,\"nonselection_glyph\":{\"id\":\"2117\"},\"selection_glyph\":null,\"view\":{\"id\":\"2119\"}},\"id\":\"2118\",\"type\":\"GlyphRenderer\"},{\"attributes\":{\"source\":{\"id\":\"2115\"}},\"id\":\"2119\",\"type\":\"CDSView\"},{\"attributes\":{},\"id\":\"2094\",\"type\":\"ResetTool\"},{\"attributes\":{\"args\":{\"cost\":{\"id\":\"2105\"},\"done\":{\"id\":\"2106\"},\"n\":{\"id\":\"2107\"},\"source\":{\"id\":\"2108\"},\"tour\":{\"id\":\"2109\"}},\"code\":\"\\nif ((parseInt(n.text) + 1) < source.data['edges_y'].length) {\\n    n.text = (parseInt(n.text) + 1).toString()\\n}\\nvar iteration = parseInt(n.text)\\n\\nif (iteration == source.data['edges_y'].length - 2) {\\n    iteration = iteration + 1\\n}\\n\\n    cost.text = source.data['costs'][iteration].toFixed(1)\\n    \\n    if (iteration == source.data['edges_y'].length - 1) {\\n        done.text = \\\"done.\\\"\\n    } else {\\n        done.text = \\\"\\\"\\n    }\\n\\n    tour.data['edges_x'] = source.data['edges_x'][iteration]\\n    tour.data['edges_y'] = source.data['edges_y'][iteration]\\n    tour.change.emit()\\n    \"},\"id\":\"2121\",\"type\":\"CustomJS\"},{\"attributes\":{},\"id\":\"2095\",\"type\":\"HelpTool\"},{\"attributes\":{\"button_type\":\"success\",\"icon\":null,\"js_event_callbacks\":{\"button_click\":[{\"id\":\"2121\"}]},\"label\":\"Next\",\"sizing_mode\":\"scale_width\",\"width_policy\":\"fit\"},\"id\":\"2120\",\"type\":\"Button\"},{\"attributes\":{\"data\":{\"costs\":[0,1.0,2.0,3.0,4.0,5.0,6.0,7.0,8.0,10.0,11.0,12.0,13.0,14.0,15.0,16.0,17.0,18.0,19.0,20.0,21.0,22.0,23.0,24.0,25.0,26.0,27.0,28.0,29.0,30.0,31.0,32.0,33.0,34.0,35.0,36.0,37.0,38.0,39.0,40.0,41.0,42.0,43.0,44.0,45.0,46.0,47.0,48.0,49.0,50.0,51.0,52.0,53.0,54.0,55.0,56.0,57.0,58.0,59.0,62.16227766016838,63.16227766016838,69.48683298050514,70.48683298050514,71.48683298050514,73.48683298050514,74.48683298050514,75.48683298050514,76.48683298050514,77.48683298050514,78.48683298050514,80.48683298050514,81.48683298050514,82.48683298050514,83.48683298050514,84.48683298050514,86.48683298050514,90.09238425596914,95.19140376956192,97.4274717470617,107.4274717470617,108.4274717470617,119.74118024604647],\"edges_x\":[[0.0],[0.0,0.0],[0.0,0.0,1.0],[0.0,0.0,1.0,1.0],[0.0,0.0,1.0,1.0,1.0],[0.0,0.0,1.0,1.0,1.0,1.0],[0.0,0.0,1.0,1.0,1.0,1.0,0.0],[0.0,0.0,1.0,1.0,1.0,1.0,0.0,0.0],[0.0,0.0,1.0,1.0,1.0,1.0,0.0,0.0,0.0],[0.0,0.0,1.0,1.0,1.0,1.0,0.0,0.0,0.0,2.0],[0.0,0.0,1.0,1.0,1.0,1.0,0.0,0.0,0.0,2.0,2.0],[0.0,0.0,1.0,1.0,1.0,1.0,0.0,0.0,0.0,2.0,2.0,2.0],[0.0,0.0,1.0,1.0,1.0,1.0,0.0,0.0,0.0,2.0,2.0,2.0,3.0],[0.0,0.0,1.0,1.0,1.0,1.0,0.0,0.0,0.0,2.0,2.0,2.0,3.0,4.0],[0.0,0.0,1.0,1.0,1.0,1.0,0.0,0.0,0.0,2.0,2.0,2.0,3.0,4.0,4.0],[0.0,0.0,1.0,1.0,1.0,1.0,0.0,0.0,0.0,2.0,2.0,2.0,3.0,4.0,4.0,5.0],[0.0,0.0,1.0,1.0,1.0,1.0,0.0,0.0,0.0,2.0,2.0,2.0,3.0,4.0,4.0,5.0,5.0],[0.0,0.0,1.0,1.0,1.0,1.0,0.0,0.0,0.0,2.0,2.0,2.0,3.0,4.0,4.0,5.0,5.0,4.0],[0.0,0.0,1.0,1.0,1.0,1.0,0.0,0.0,0.0,2.0,2.0,2.0,3.0,4.0,4.0,5.0,5.0,4.0,3.0],[0.0,0.0,1.0,1.0,1.0,1.0,0.0,0.0,0.0,2.0,2.0,2.0,3.0,4.0,4.0,5.0,5.0,4.0,3.0,3.0],[0.0,0.0,1.0,1.0,1.0,1.0,0.0,0.0,0.0,2.0,2.0,2.0,3.0,4.0,4.0,5.0,5.0,4.0,3.0,3.0,2.0],[0.0,0.0,1.0,1.0,1.0,1.0,0.0,0.0,0.0,2.0,2.0,2.0,3.0,4.0,4.0,5.0,5.0,4.0,3.0,3.0,2.0,2.0],[0.0,0.0,1.0,1.0,1.0,1.0,0.0,0.0,0.0,2.0,2.0,2.0,3.0,4.0,4.0,5.0,5.0,4.0,3.0,3.0,2.0,2.0,3.0],[0.0,0.0,1.0,1.0,1.0,1.0,0.0,0.0,0.0,2.0,2.0,2.0,3.0,4.0,4.0,5.0,5.0,4.0,3.0,3.0,2.0,2.0,3.0,4.0],[0.0,0.0,1.0,1.0,1.0,1.0,0.0,0.0,0.0,2.0,2.0,2.0,3.0,4.0,4.0,5.0,5.0,4.0,3.0,3.0,2.0,2.0,3.0,4.0,4.0],[0.0,0.0,1.0,1.0,1.0,1.0,0.0,0.0,0.0,2.0,2.0,2.0,3.0,4.0,4.0,5.0,5.0,4.0,3.0,3.0,2.0,2.0,3.0,4.0,4.0,5.0],[0.0,0.0,1.0,1.0,1.0,1.0,0.0,0.0,0.0,2.0,2.0,2.0,3.0,4.0,4.0,5.0,5.0,4.0,3.0,3.0,2.0,2.0,3.0,4.0,4.0,5.0,5.0],[0.0,0.0,1.0,1.0,1.0,1.0,0.0,0.0,0.0,2.0,2.0,2.0,3.0,4.0,4.0,5.0,5.0,4.0,3.0,3.0,2.0,2.0,3.0,4.0,4.0,5.0,5.0,5.0],[0.0,0.0,1.0,1.0,1.0,1.0,0.0,0.0,0.0,2.0,2.0,2.0,3.0,4.0,4.0,5.0,5.0,4.0,3.0,3.0,2.0,2.0,3.0,4.0,4.0,5.0,5.0,5.0,6.0],[0.0,0.0,1.0,1.0,1.0,1.0,0.0,0.0,0.0,2.0,2.0,2.0,3.0,4.0,4.0,5.0,5.0,4.0,3.0,3.0,2.0,2.0,3.0,4.0,4.0,5.0,5.0,5.0,6.0,6.0],[0.0,0.0,1.0,1.0,1.0,1.0,0.0,0.0,0.0,2.0,2.0,2.0,3.0,4.0,4.0,5.0,5.0,4.0,3.0,3.0,2.0,2.0,3.0,4.0,4.0,5.0,5.0,5.0,6.0,6.0,7.0],[0.0,0.0,1.0,1.0,1.0,1.0,0.0,0.0,0.0,2.0,2.0,2.0,3.0,4.0,4.0,5.0,5.0,4.0,3.0,3.0,2.0,2.0,3.0,4.0,4.0,5.0,5.0,5.0,6.0,6.0,7.0,8.0],[0.0,0.0,1.0,1.0,1.0,1.0,0.0,0.0,0.0,2.0,2.0,2.0,3.0,4.0,4.0,5.0,5.0,4.0,3.0,3.0,2.0,2.0,3.0,4.0,4.0,5.0,5.0,5.0,6.0,6.0,7.0,8.0,8.0],[0.0,0.0,1.0,1.0,1.0,1.0,0.0,0.0,0.0,2.0,2.0,2.0,3.0,4.0,4.0,5.0,5.0,4.0,3.0,3.0,2.0,2.0,3.0,4.0,4.0,5.0,5.0,5.0,6.0,6.0,7.0,8.0,8.0,8.0],[0.0,0.0,1.0,1.0,1.0,1.0,0.0,0.0,0.0,2.0,2.0,2.0,3.0,4.0,4.0,5.0,5.0,4.0,3.0,3.0,2.0,2.0,3.0,4.0,4.0,5.0,5.0,5.0,6.0,6.0,7.0,8.0,8.0,8.0,8.0],[0.0,0.0,1.0,1.0,1.0,1.0,0.0,0.0,0.0,2.0,2.0,2.0,3.0,4.0,4.0,5.0,5.0,4.0,3.0,3.0,2.0,2.0,3.0,4.0,4.0,5.0,5.0,5.0,6.0,6.0,7.0,8.0,8.0,8.0,8.0,7.0],[0.0,0.0,1.0,1.0,1.0,1.0,0.0,0.0,0.0,2.0,2.0,2.0,3.0,4.0,4.0,5.0,5.0,4.0,3.0,3.0,2.0,2.0,3.0,4.0,4.0,5.0,5.0,5.0,6.0,6.0,7.0,8.0,8.0,8.0,8.0,7.0,6.0],[0.0,0.0,1.0,1.0,1.0,1.0,0.0,0.0,0.0,2.0,2.0,2.0,3.0,4.0,4.0,5.0,5.0,4.0,3.0,3.0,2.0,2.0,3.0,4.0,4.0,5.0,5.0,5.0,6.0,6.0,7.0,8.0,8.0,8.0,8.0,7.0,6.0,6.0],[0.0,0.0,1.0,1.0,1.0,1.0,0.0,0.0,0.0,2.0,2.0,2.0,3.0,4.0,4.0,5.0,5.0,4.0,3.0,3.0,2.0,2.0,3.0,4.0,4.0,5.0,5.0,5.0,6.0,6.0,7.0,8.0,8.0,8.0,8.0,7.0,6.0,6.0,5.0],[0.0,0.0,1.0,1.0,1.0,1.0,0.0,0.0,0.0,2.0,2.0,2.0,3.0,4.0,4.0,5.0,5.0,4.0,3.0,3.0,2.0,2.0,3.0,4.0,4.0,5.0,5.0,5.0,6.0,6.0,7.0,8.0,8.0,8.0,8.0,7.0,6.0,6.0,5.0,4.0],[0.0,0.0,1.0,1.0,1.0,1.0,0.0,0.0,0.0,2.0,2.0,2.0,3.0,4.0,4.0,5.0,5.0,4.0,3.0,3.0,2.0,2.0,3.0,4.0,4.0,5.0,5.0,5.0,6.0,6.0,7.0,8.0,8.0,8.0,8.0,7.0,6.0,6.0,5.0,4.0,3.0],[0.0,0.0,1.0,1.0,1.0,1.0,0.0,0.0,0.0,2.0,2.0,2.0,3.0,4.0,4.0,5.0,5.0,4.0,3.0,3.0,2.0,2.0,3.0,4.0,4.0,5.0,5.0,5.0,6.0,6.0,7.0,8.0,8.0,8.0,8.0,7.0,6.0,6.0,5.0,4.0,3.0,2.0],[0.0,0.0,1.0,1.0,1.0,1.0,0.0,0.0,0.0,2.0,2.0,2.0,3.0,4.0,4.0,5.0,5.0,4.0,3.0,3.0,2.0,2.0,3.0,4.0,4.0,5.0,5.0,5.0,6.0,6.0,7.0,8.0,8.0,8.0,8.0,7.0,6.0,6.0,5.0,4.0,3.0,2.0,2.0],[0.0,0.0,1.0,1.0,1.0,1.0,0.0,0.0,0.0,2.0,2.0,2.0,3.0,4.0,4.0,5.0,5.0,4.0,3.0,3.0,2.0,2.0,3.0,4.0,4.0,5.0,5.0,5.0,6.0,6.0,7.0,8.0,8.0,8.0,8.0,7.0,6.0,6.0,5.0,4.0,3.0,2.0,2.0,3.0],[0.0,0.0,1.0,1.0,1.0,1.0,0.0,0.0,0.0,2.0,2.0,2.0,3.0,4.0,4.0,5.0,5.0,4.0,3.0,3.0,2.0,2.0,3.0,4.0,4.0,5.0,5.0,5.0,6.0,6.0,7.0,8.0,8.0,8.0,8.0,7.0,6.0,6.0,5.0,4.0,3.0,2.0,2.0,3.0,4.0],[0.0,0.0,1.0,1.0,1.0,1.0,0.0,0.0,0.0,2.0,2.0,2.0,3.0,4.0,4.0,5.0,5.0,4.0,3.0,3.0,2.0,2.0,3.0,4.0,4.0,5.0,5.0,5.0,6.0,6.0,7.0,8.0,8.0,8.0,8.0,7.0,6.0,6.0,5.0,4.0,3.0,2.0,2.0,3.0,4.0,5.0],[0.0,0.0,1.0,1.0,1.0,1.0,0.0,0.0,0.0,2.0,2.0,2.0,3.0,4.0,4.0,5.0,5.0,4.0,3.0,3.0,2.0,2.0,3.0,4.0,4.0,5.0,5.0,5.0,6.0,6.0,7.0,8.0,8.0,8.0,8.0,7.0,6.0,6.0,5.0,4.0,3.0,2.0,2.0,3.0,4.0,5.0,5.0],[0.0,0.0,1.0,1.0,1.0,1.0,0.0,0.0,0.0,2.0,2.0,2.0,3.0,4.0,4.0,5.0,5.0,4.0,3.0,3.0,2.0,2.0,3.0,4.0,4.0,5.0,5.0,5.0,6.0,6.0,7.0,8.0,8.0,8.0,8.0,7.0,6.0,6.0,5.0,4.0,3.0,2.0,2.0,3.0,4.0,5.0,5.0,4.0],[0.0,0.0,1.0,1.0,1.0,1.0,0.0,0.0,0.0,2.0,2.0,2.0,3.0,4.0,4.0,5.0,5.0,4.0,3.0,3.0,2.0,2.0,3.0,4.0,4.0,5.0,5.0,5.0,6.0,6.0,7.0,8.0,8.0,8.0,8.0,7.0,6.0,6.0,5.0,4.0,3.0,2.0,2.0,3.0,4.0,5.0,5.0,4.0,4.0],[0.0,0.0,1.0,1.0,1.0,1.0,0.0,0.0,0.0,2.0,2.0,2.0,3.0,4.0,4.0,5.0,5.0,4.0,3.0,3.0,2.0,2.0,3.0,4.0,4.0,5.0,5.0,5.0,6.0,6.0,7.0,8.0,8.0,8.0,8.0,7.0,6.0,6.0,5.0,4.0,3.0,2.0,2.0,3.0,4.0,5.0,5.0,4.0,4.0,3.0],[0.0,0.0,1.0,1.0,1.0,1.0,0.0,0.0,0.0,2.0,2.0,2.0,3.0,4.0,4.0,5.0,5.0,4.0,3.0,3.0,2.0,2.0,3.0,4.0,4.0,5.0,5.0,5.0,6.0,6.0,7.0,8.0,8.0,8.0,8.0,7.0,6.0,6.0,5.0,4.0,3.0,2.0,2.0,3.0,4.0,5.0,5.0,4.0,4.0,3.0,3.0],[0.0,0.0,1.0,1.0,1.0,1.0,0.0,0.0,0.0,2.0,2.0,2.0,3.0,4.0,4.0,5.0,5.0,4.0,3.0,3.0,2.0,2.0,3.0,4.0,4.0,5.0,5.0,5.0,6.0,6.0,7.0,8.0,8.0,8.0,8.0,7.0,6.0,6.0,5.0,4.0,3.0,2.0,2.0,3.0,4.0,5.0,5.0,4.0,4.0,3.0,3.0,2.0],[0.0,0.0,1.0,1.0,1.0,1.0,0.0,0.0,0.0,2.0,2.0,2.0,3.0,4.0,4.0,5.0,5.0,4.0,3.0,3.0,2.0,2.0,3.0,4.0,4.0,5.0,5.0,5.0,6.0,6.0,7.0,8.0,8.0,8.0,8.0,7.0,6.0,6.0,5.0,4.0,3.0,2.0,2.0,3.0,4.0,5.0,5.0,4.0,4.0,3.0,3.0,2.0,1.0],[0.0,0.0,1.0,1.0,1.0,1.0,0.0,0.0,0.0,2.0,2.0,2.0,3.0,4.0,4.0,5.0,5.0,4.0,3.0,3.0,2.0,2.0,3.0,4.0,4.0,5.0,5.0,5.0,6.0,6.0,7.0,8.0,8.0,8.0,8.0,7.0,6.0,6.0,5.0,4.0,3.0,2.0,2.0,3.0,4.0,5.0,5.0,4.0,4.0,3.0,3.0,2.0,1.0,1.0],[0.0,0.0,1.0,1.0,1.0,1.0,0.0,0.0,0.0,2.0,2.0,2.0,3.0,4.0,4.0,5.0,5.0,4.0,3.0,3.0,2.0,2.0,3.0,4.0,4.0,5.0,5.0,5.0,6.0,6.0,7.0,8.0,8.0,8.0,8.0,7.0,6.0,6.0,5.0,4.0,3.0,2.0,2.0,3.0,4.0,5.0,5.0,4.0,4.0,3.0,3.0,2.0,1.0,1.0,0.0],[0.0,0.0,1.0,1.0,1.0,1.0,0.0,0.0,0.0,2.0,2.0,2.0,3.0,4.0,4.0,5.0,5.0,4.0,3.0,3.0,2.0,2.0,3.0,4.0,4.0,5.0,5.0,5.0,6.0,6.0,7.0,8.0,8.0,8.0,8.0,7.0,6.0,6.0,5.0,4.0,3.0,2.0,2.0,3.0,4.0,5.0,5.0,4.0,4.0,3.0,3.0,2.0,1.0,1.0,0.0,0.0],[0.0,0.0,1.0,1.0,1.0,1.0,0.0,0.0,0.0,2.0,2.0,2.0,3.0,4.0,4.0,5.0,5.0,4.0,3.0,3.0,2.0,2.0,3.0,4.0,4.0,5.0,5.0,5.0,6.0,6.0,7.0,8.0,8.0,8.0,8.0,7.0,6.0,6.0,5.0,4.0,3.0,2.0,2.0,3.0,4.0,5.0,5.0,4.0,4.0,3.0,3.0,2.0,1.0,1.0,0.0,0.0,0.0],[0.0,0.0,1.0,1.0,1.0,1.0,0.0,0.0,0.0,2.0,2.0,2.0,3.0,4.0,4.0,5.0,5.0,4.0,3.0,3.0,2.0,2.0,3.0,4.0,4.0,5.0,5.0,5.0,6.0,6.0,7.0,8.0,8.0,8.0,8.0,7.0,6.0,6.0,5.0,4.0,3.0,2.0,2.0,3.0,4.0,5.0,5.0,4.0,4.0,3.0,3.0,2.0,1.0,1.0,0.0,0.0,0.0,1.0],[0.0,0.0,1.0,1.0,1.0,1.0,0.0,0.0,0.0,2.0,2.0,2.0,3.0,4.0,4.0,5.0,5.0,4.0,3.0,3.0,2.0,2.0,3.0,4.0,4.0,5.0,5.0,5.0,6.0,6.0,7.0,8.0,8.0,8.0,8.0,7.0,6.0,6.0,5.0,4.0,3.0,2.0,2.0,3.0,4.0,5.0,5.0,4.0,4.0,3.0,3.0,2.0,1.0,1.0,0.0,0.0,0.0,1.0,2.0],[0.0,0.0,1.0,1.0,1.0,1.0,0.0,0.0,0.0,2.0,2.0,2.0,3.0,4.0,4.0,5.0,5.0,4.0,3.0,3.0,2.0,2.0,3.0,4.0,4.0,5.0,5.0,5.0,6.0,6.0,7.0,8.0,8.0,8.0,8.0,7.0,6.0,6.0,5.0,4.0,3.0,2.0,2.0,3.0,4.0,5.0,5.0,4.0,4.0,3.0,3.0,2.0,1.0,1.0,0.0,0.0,0.0,1.0,2.0,1.0],[0.0,0.0,1.0,1.0,1.0,1.0,0.0,0.0,0.0,2.0,2.0,2.0,3.0,4.0,4.0,5.0,5.0,4.0,3.0,3.0,2.0,2.0,3.0,4.0,4.0,5.0,5.0,5.0,6.0,6.0,7.0,8.0,8.0,8.0,8.0,7.0,6.0,6.0,5.0,4.0,3.0,2.0,2.0,3.0,4.0,5.0,5.0,4.0,4.0,3.0,3.0,2.0,1.0,1.0,0.0,0.0,0.0,1.0,2.0,1.0,0.0],[0.0,0.0,1.0,1.0,1.0,1.0,0.0,0.0,0.0,2.0,2.0,2.0,3.0,4.0,4.0,5.0,5.0,4.0,3.0,3.0,2.0,2.0,3.0,4.0,4.0,5.0,5.0,5.0,6.0,6.0,7.0,8.0,8.0,8.0,8.0,7.0,6.0,6.0,5.0,4.0,3.0,2.0,2.0,3.0,4.0,5.0,5.0,4.0,4.0,3.0,3.0,2.0,1.0,1.0,0.0,0.0,0.0,1.0,2.0,1.0,0.0,6.0],[0.0,0.0,1.0,1.0,1.0,1.0,0.0,0.0,0.0,2.0,2.0,2.0,3.0,4.0,4.0,5.0,5.0,4.0,3.0,3.0,2.0,2.0,3.0,4.0,4.0,5.0,5.0,5.0,6.0,6.0,7.0,8.0,8.0,8.0,8.0,7.0,6.0,6.0,5.0,4.0,3.0,2.0,2.0,3.0,4.0,5.0,5.0,4.0,4.0,3.0,3.0,2.0,1.0,1.0,0.0,0.0,0.0,1.0,2.0,1.0,0.0,6.0,7.0],[0.0,0.0,1.0,1.0,1.0,1.0,0.0,0.0,0.0,2.0,2.0,2.0,3.0,4.0,4.0,5.0,5.0,4.0,3.0,3.0,2.0,2.0,3.0,4.0,4.0,5.0,5.0,5.0,6.0,6.0,7.0,8.0,8.0,8.0,8.0,7.0,6.0,6.0,5.0,4.0,3.0,2.0,2.0,3.0,4.0,5.0,5.0,4.0,4.0,3.0,3.0,2.0,1.0,1.0,0.0,0.0,0.0,1.0,2.0,1.0,0.0,6.0,7.0,7.0],[0.0,0.0,1.0,1.0,1.0,1.0,0.0,0.0,0.0,2.0,2.0,2.0,3.0,4.0,4.0,5.0,5.0,4.0,3.0,3.0,2.0,2.0,3.0,4.0,4.0,5.0,5.0,5.0,6.0,6.0,7.0,8.0,8.0,8.0,8.0,7.0,6.0,6.0,5.0,4.0,3.0,2.0,2.0,3.0,4.0,5.0,5.0,4.0,4.0,3.0,3.0,2.0,1.0,1.0,0.0,0.0,0.0,1.0,2.0,1.0,0.0,6.0,7.0,7.0,7.0],[0.0,0.0,1.0,1.0,1.0,1.0,0.0,0.0,0.0,2.0,2.0,2.0,3.0,4.0,4.0,5.0,5.0,4.0,3.0,3.0,2.0,2.0,3.0,4.0,4.0,5.0,5.0,5.0,6.0,6.0,7.0,8.0,8.0,8.0,8.0,7.0,6.0,6.0,5.0,4.0,3.0,2.0,2.0,3.0,4.0,5.0,5.0,4.0,4.0,3.0,3.0,2.0,1.0,1.0,0.0,0.0,0.0,1.0,2.0,1.0,0.0,6.0,7.0,7.0,7.0,7.0],[0.0,0.0,1.0,1.0,1.0,1.0,0.0,0.0,0.0,2.0,2.0,2.0,3.0,4.0,4.0,5.0,5.0,4.0,3.0,3.0,2.0,2.0,3.0,4.0,4.0,5.0,5.0,5.0,6.0,6.0,7.0,8.0,8.0,8.0,8.0,7.0,6.0,6.0,5.0,4.0,3.0,2.0,2.0,3.0,4.0,5.0,5.0,4.0,4.0,3.0,3.0,2.0,1.0,1.0,0.0,0.0,0.0,1.0,2.0,1.0,0.0,6.0,7.0,7.0,7.0,7.0,6.0],[0.0,0.0,1.0,1.0,1.0,1.0,0.0,0.0,0.0,2.0,2.0,2.0,3.0,4.0,4.0,5.0,5.0,4.0,3.0,3.0,2.0,2.0,3.0,4.0,4.0,5.0,5.0,5.0,6.0,6.0,7.0,8.0,8.0,8.0,8.0,7.0,6.0,6.0,5.0,4.0,3.0,2.0,2.0,3.0,4.0,5.0,5.0,4.0,4.0,3.0,3.0,2.0,1.0,1.0,0.0,0.0,0.0,1.0,2.0,1.0,0.0,6.0,7.0,7.0,7.0,7.0,6.0,6.0],[0.0,0.0,1.0,1.0,1.0,1.0,0.0,0.0,0.0,2.0,2.0,2.0,3.0,4.0,4.0,5.0,5.0,4.0,3.0,3.0,2.0,2.0,3.0,4.0,4.0,5.0,5.0,5.0,6.0,6.0,7.0,8.0,8.0,8.0,8.0,7.0,6.0,6.0,5.0,4.0,3.0,2.0,2.0,3.0,4.0,5.0,5.0,4.0,4.0,3.0,3.0,2.0,1.0,1.0,0.0,0.0,0.0,1.0,2.0,1.0,0.0,6.0,7.0,7.0,7.0,7.0,6.0,6.0,6.0],[0.0,0.0,1.0,1.0,1.0,1.0,0.0,0.0,0.0,2.0,2.0,2.0,3.0,4.0,4.0,5.0,5.0,4.0,3.0,3.0,2.0,2.0,3.0,4.0,4.0,5.0,5.0,5.0,6.0,6.0,7.0,8.0,8.0,8.0,8.0,7.0,6.0,6.0,5.0,4.0,3.0,2.0,2.0,3.0,4.0,5.0,5.0,4.0,4.0,3.0,3.0,2.0,1.0,1.0,0.0,0.0,0.0,1.0,2.0,1.0,0.0,6.0,7.0,7.0,7.0,7.0,6.0,6.0,6.0,5.0],[0.0,0.0,1.0,1.0,1.0,1.0,0.0,0.0,0.0,2.0,2.0,2.0,3.0,4.0,4.0,5.0,5.0,4.0,3.0,3.0,2.0,2.0,3.0,4.0,4.0,5.0,5.0,5.0,6.0,6.0,7.0,8.0,8.0,8.0,8.0,7.0,6.0,6.0,5.0,4.0,3.0,2.0,2.0,3.0,4.0,5.0,5.0,4.0,4.0,3.0,3.0,2.0,1.0,1.0,0.0,0.0,0.0,1.0,2.0,1.0,0.0,6.0,7.0,7.0,7.0,7.0,6.0,6.0,6.0,5.0,7.0],[0.0,0.0,1.0,1.0,1.0,1.0,0.0,0.0,0.0,2.0,2.0,2.0,3.0,4.0,4.0,5.0,5.0,4.0,3.0,3.0,2.0,2.0,3.0,4.0,4.0,5.0,5.0,5.0,6.0,6.0,7.0,8.0,8.0,8.0,8.0,7.0,6.0,6.0,5.0,4.0,3.0,2.0,2.0,3.0,4.0,5.0,5.0,4.0,4.0,3.0,3.0,2.0,1.0,1.0,0.0,0.0,0.0,1.0,2.0,1.0,0.0,6.0,7.0,7.0,7.0,7.0,6.0,6.0,6.0,5.0,7.0,7.0],[0.0,0.0,1.0,1.0,1.0,1.0,0.0,0.0,0.0,2.0,2.0,2.0,3.0,4.0,4.0,5.0,5.0,4.0,3.0,3.0,2.0,2.0,3.0,4.0,4.0,5.0,5.0,5.0,6.0,6.0,7.0,8.0,8.0,8.0,8.0,7.0,6.0,6.0,5.0,4.0,3.0,2.0,2.0,3.0,4.0,5.0,5.0,4.0,4.0,3.0,3.0,2.0,1.0,1.0,0.0,0.0,0.0,1.0,2.0,1.0,0.0,6.0,7.0,7.0,7.0,7.0,6.0,6.0,6.0,5.0,7.0,7.0,8.0],[0.0,0.0,1.0,1.0,1.0,1.0,0.0,0.0,0.0,2.0,2.0,2.0,3.0,4.0,4.0,5.0,5.0,4.0,3.0,3.0,2.0,2.0,3.0,4.0,4.0,5.0,5.0,5.0,6.0,6.0,7.0,8.0,8.0,8.0,8.0,7.0,6.0,6.0,5.0,4.0,3.0,2.0,2.0,3.0,4.0,5.0,5.0,4.0,4.0,3.0,3.0,2.0,1.0,1.0,0.0,0.0,0.0,1.0,2.0,1.0,0.0,6.0,7.0,7.0,7.0,7.0,6.0,6.0,6.0,5.0,7.0,7.0,8.0,8.0],[0.0,0.0,1.0,1.0,1.0,1.0,0.0,0.0,0.0,2.0,2.0,2.0,3.0,4.0,4.0,5.0,5.0,4.0,3.0,3.0,2.0,2.0,3.0,4.0,4.0,5.0,5.0,5.0,6.0,6.0,7.0,8.0,8.0,8.0,8.0,7.0,6.0,6.0,5.0,4.0,3.0,2.0,2.0,3.0,4.0,5.0,5.0,4.0,4.0,3.0,3.0,2.0,1.0,1.0,0.0,0.0,0.0,1.0,2.0,1.0,0.0,6.0,7.0,7.0,7.0,7.0,6.0,6.0,6.0,5.0,7.0,7.0,8.0,8.0,8.0],[0.0,0.0,1.0,1.0,1.0,1.0,0.0,0.0,0.0,2.0,2.0,2.0,3.0,4.0,4.0,5.0,5.0,4.0,3.0,3.0,2.0,2.0,3.0,4.0,4.0,5.0,5.0,5.0,6.0,6.0,7.0,8.0,8.0,8.0,8.0,7.0,6.0,6.0,5.0,4.0,3.0,2.0,2.0,3.0,4.0,5.0,5.0,4.0,4.0,3.0,3.0,2.0,1.0,1.0,0.0,0.0,0.0,1.0,2.0,1.0,0.0,6.0,7.0,7.0,7.0,7.0,6.0,6.0,6.0,5.0,7.0,7.0,8.0,8.0,8.0,6.0],[0.0,0.0,1.0,1.0,1.0,1.0,0.0,0.0,0.0,2.0,2.0,2.0,3.0,4.0,4.0,5.0,5.0,4.0,3.0,3.0,2.0,2.0,3.0,4.0,4.0,5.0,5.0,5.0,6.0,6.0,7.0,8.0,8.0,8.0,8.0,7.0,6.0,6.0,5.0,4.0,3.0,2.0,2.0,3.0,4.0,5.0,5.0,4.0,4.0,3.0,3.0,2.0,1.0,1.0,0.0,0.0,0.0,1.0,2.0,1.0,0.0,6.0,7.0,7.0,7.0,7.0,6.0,6.0,6.0,5.0,7.0,7.0,8.0,8.0,8.0,6.0,8.0],[0.0,0.0,1.0,1.0,1.0,1.0,0.0,0.0,0.0,2.0,2.0,2.0,3.0,4.0,4.0,5.0,5.0,4.0,3.0,3.0,2.0,2.0,3.0,4.0,4.0,5.0,5.0,5.0,6.0,6.0,7.0,8.0,8.0,8.0,8.0,7.0,6.0,6.0,5.0,4.0,3.0,2.0,2.0,3.0,4.0,5.0,5.0,4.0,4.0,3.0,3.0,2.0,1.0,1.0,0.0,0.0,0.0,1.0,2.0,1.0,0.0,6.0,7.0,7.0,7.0,7.0,6.0,6.0,6.0,5.0,7.0,7.0,8.0,8.0,8.0,6.0,8.0,3.0],[0.0,0.0,1.0,1.0,1.0,1.0,0.0,0.0,0.0,2.0,2.0,2.0,3.0,4.0,4.0,5.0,5.0,4.0,3.0,3.0,2.0,2.0,3.0,4.0,4.0,5.0,5.0,5.0,6.0,6.0,7.0,8.0,8.0,8.0,8.0,7.0,6.0,6.0,5.0,4.0,3.0,2.0,2.0,3.0,4.0,5.0,5.0,4.0,4.0,3.0,3.0,2.0,1.0,1.0,0.0,0.0,0.0,1.0,2.0,1.0,0.0,6.0,7.0,7.0,7.0,7.0,6.0,6.0,6.0,5.0,7.0,7.0,8.0,8.0,8.0,6.0,8.0,3.0,1.0],[0.0,0.0,1.0,1.0,1.0,1.0,0.0,0.0,0.0,2.0,2.0,2.0,3.0,4.0,4.0,5.0,5.0,4.0,3.0,3.0,2.0,2.0,3.0,4.0,4.0,5.0,5.0,5.0,6.0,6.0,7.0,8.0,8.0,8.0,8.0,7.0,6.0,6.0,5.0,4.0,3.0,2.0,2.0,3.0,4.0,5.0,5.0,4.0,4.0,3.0,3.0,2.0,1.0,1.0,0.0,0.0,0.0,1.0,2.0,1.0,0.0,6.0,7.0,7.0,7.0,7.0,6.0,6.0,6.0,5.0,7.0,7.0,8.0,8.0,8.0,6.0,8.0,3.0,1.0,7.0],[0.0,0.0,1.0,1.0,1.0,1.0,0.0,0.0,0.0,2.0,2.0,2.0,3.0,4.0,4.0,5.0,5.0,4.0,3.0,3.0,2.0,2.0,3.0,4.0,4.0,5.0,5.0,5.0,6.0,6.0,7.0,8.0,8.0,8.0,8.0,7.0,6.0,6.0,5.0,4.0,3.0,2.0,2.0,3.0,4.0,5.0,5.0,4.0,4.0,3.0,3.0,2.0,1.0,1.0,0.0,0.0,0.0,1.0,2.0,1.0,0.0,6.0,7.0,7.0,7.0,7.0,6.0,6.0,6.0,5.0,7.0,7.0,8.0,8.0,8.0,6.0,8.0,3.0,1.0,7.0,8.0],[0.0,0.0,1.0,1.0,1.0,1.0,0.0,0.0,0.0,2.0,2.0,2.0,3.0,4.0,4.0,5.0,5.0,4.0,3.0,3.0,2.0,2.0,3.0,4.0,4.0,5.0,5.0,5.0,6.0,6.0,7.0,8.0,8.0,8.0,8.0,7.0,6.0,6.0,5.0,4.0,3.0,2.0,2.0,3.0,4.0,5.0,5.0,4.0,4.0,3.0,3.0,2.0,1.0,1.0,0.0,0.0,0.0,1.0,2.0,1.0,0.0,6.0,7.0,7.0,7.0,7.0,6.0,6.0,6.0,5.0,7.0,7.0,8.0,8.0,8.0,6.0,8.0,3.0,1.0,7.0,8.0,0.0]],\"edges_y\":[[0.0],[0.0,1.0],[0.0,1.0,1.0],[0.0,1.0,1.0,2.0],[0.0,1.0,1.0,2.0,3.0],[0.0,1.0,1.0,2.0,3.0,4.0],[0.0,1.0,1.0,2.0,3.0,4.0,4.0],[0.0,1.0,1.0,2.0,3.0,4.0,4.0,3.0],[0.0,1.0,1.0,2.0,3.0,4.0,4.0,3.0,2.0],[0.0,1.0,1.0,2.0,3.0,4.0,4.0,3.0,2.0,2.0],[0.0,1.0,1.0,2.0,3.0,4.0,4.0,3.0,2.0,2.0,1.0],[0.0,1.0,1.0,2.0,3.0,4.0,4.0,3.0,2.0,2.0,1.0,0.0],[0.0,1.0,1.0,2.0,3.0,4.0,4.0,3.0,2.0,2.0,1.0,0.0,0.0],[0.0,1.0,1.0,2.0,3.0,4.0,4.0,3.0,2.0,2.0,1.0,0.0,0.0,0.0],[0.0,1.0,1.0,2.0,3.0,4.0,4.0,3.0,2.0,2.0,1.0,0.0,0.0,0.0,1.0],[0.0,1.0,1.0,2.0,3.0,4.0,4.0,3.0,2.0,2.0,1.0,0.0,0.0,0.0,1.0,1.0],[0.0,1.0,1.0,2.0,3.0,4.0,4.0,3.0,2.0,2.0,1.0,0.0,0.0,0.0,1.0,1.0,2.0],[0.0,1.0,1.0,2.0,3.0,4.0,4.0,3.0,2.0,2.0,1.0,0.0,0.0,0.0,1.0,1.0,2.0,2.0],[0.0,1.0,1.0,2.0,3.0,4.0,4.0,3.0,2.0,2.0,1.0,0.0,0.0,0.0,1.0,1.0,2.0,2.0,2.0],[0.0,1.0,1.0,2.0,3.0,4.0,4.0,3.0,2.0,2.0,1.0,0.0,0.0,0.0,1.0,1.0,2.0,2.0,2.0,3.0],[0.0,1.0,1.0,2.0,3.0,4.0,4.0,3.0,2.0,2.0,1.0,0.0,0.0,0.0,1.0,1.0,2.0,2.0,2.0,3.0,3.0],[0.0,1.0,1.0,2.0,3.0,4.0,4.0,3.0,2.0,2.0,1.0,0.0,0.0,0.0,1.0,1.0,2.0,2.0,2.0,3.0,3.0,4.0],[0.0,1.0,1.0,2.0,3.0,4.0,4.0,3.0,2.0,2.0,1.0,0.0,0.0,0.0,1.0,1.0,2.0,2.0,2.0,3.0,3.0,4.0,4.0],[0.0,1.0,1.0,2.0,3.0,4.0,4.0,3.0,2.0,2.0,1.0,0.0,0.0,0.0,1.0,1.0,2.0,2.0,2.0,3.0,3.0,4.0,4.0,4.0],[0.0,1.0,1.0,2.0,3.0,4.0,4.0,3.0,2.0,2.0,1.0,0.0,0.0,0.0,1.0,1.0,2.0,2.0,2.0,3.0,3.0,4.0,4.0,4.0,3.0],[0.0,1.0,1.0,2.0,3.0,4.0,4.0,3.0,2.0,2.0,1.0,0.0,0.0,0.0,1.0,1.0,2.0,2.0,2.0,3.0,3.0,4.0,4.0,4.0,3.0,3.0],[0.0,1.0,1.0,2.0,3.0,4.0,4.0,3.0,2.0,2.0,1.0,0.0,0.0,0.0,1.0,1.0,2.0,2.0,2.0,3.0,3.0,4.0,4.0,4.0,3.0,3.0,4.0],[0.0,1.0,1.0,2.0,3.0,4.0,4.0,3.0,2.0,2.0,1.0,0.0,0.0,0.0,1.0,1.0,2.0,2.0,2.0,3.0,3.0,4.0,4.0,4.0,3.0,3.0,4.0,5.0],[0.0,1.0,1.0,2.0,3.0,4.0,4.0,3.0,2.0,2.0,1.0,0.0,0.0,0.0,1.0,1.0,2.0,2.0,2.0,3.0,3.0,4.0,4.0,4.0,3.0,3.0,4.0,5.0,5.0],[0.0,1.0,1.0,2.0,3.0,4.0,4.0,3.0,2.0,2.0,1.0,0.0,0.0,0.0,1.0,1.0,2.0,2.0,2.0,3.0,3.0,4.0,4.0,4.0,3.0,3.0,4.0,5.0,5.0,4.0],[0.0,1.0,1.0,2.0,3.0,4.0,4.0,3.0,2.0,2.0,1.0,0.0,0.0,0.0,1.0,1.0,2.0,2.0,2.0,3.0,3.0,4.0,4.0,4.0,3.0,3.0,4.0,5.0,5.0,4.0,4.0],[0.0,1.0,1.0,2.0,3.0,4.0,4.0,3.0,2.0,2.0,1.0,0.0,0.0,0.0,1.0,1.0,2.0,2.0,2.0,3.0,3.0,4.0,4.0,4.0,3.0,3.0,4.0,5.0,5.0,4.0,4.0,4.0],[0.0,1.0,1.0,2.0,3.0,4.0,4.0,3.0,2.0,2.0,1.0,0.0,0.0,0.0,1.0,1.0,2.0,2.0,2.0,3.0,3.0,4.0,4.0,4.0,3.0,3.0,4.0,5.0,5.0,4.0,4.0,4.0,5.0],[0.0,1.0,1.0,2.0,3.0,4.0,4.0,3.0,2.0,2.0,1.0,0.0,0.0,0.0,1.0,1.0,2.0,2.0,2.0,3.0,3.0,4.0,4.0,4.0,3.0,3.0,4.0,5.0,5.0,4.0,4.0,4.0,5.0,6.0],[0.0,1.0,1.0,2.0,3.0,4.0,4.0,3.0,2.0,2.0,1.0,0.0,0.0,0.0,1.0,1.0,2.0,2.0,2.0,3.0,3.0,4.0,4.0,4.0,3.0,3.0,4.0,5.0,5.0,4.0,4.0,4.0,5.0,6.0,7.0],[0.0,1.0,1.0,2.0,3.0,4.0,4.0,3.0,2.0,2.0,1.0,0.0,0.0,0.0,1.0,1.0,2.0,2.0,2.0,3.0,3.0,4.0,4.0,4.0,3.0,3.0,4.0,5.0,5.0,4.0,4.0,4.0,5.0,6.0,7.0,7.0],[0.0,1.0,1.0,2.0,3.0,4.0,4.0,3.0,2.0,2.0,1.0,0.0,0.0,0.0,1.0,1.0,2.0,2.0,2.0,3.0,3.0,4.0,4.0,4.0,3.0,3.0,4.0,5.0,5.0,4.0,4.0,4.0,5.0,6.0,7.0,7.0,7.0],[0.0,1.0,1.0,2.0,3.0,4.0,4.0,3.0,2.0,2.0,1.0,0.0,0.0,0.0,1.0,1.0,2.0,2.0,2.0,3.0,3.0,4.0,4.0,4.0,3.0,3.0,4.0,5.0,5.0,4.0,4.0,4.0,5.0,6.0,7.0,7.0,7.0,8.0],[0.0,1.0,1.0,2.0,3.0,4.0,4.0,3.0,2.0,2.0,1.0,0.0,0.0,0.0,1.0,1.0,2.0,2.0,2.0,3.0,3.0,4.0,4.0,4.0,3.0,3.0,4.0,5.0,5.0,4.0,4.0,4.0,5.0,6.0,7.0,7.0,7.0,8.0,8.0],[0.0,1.0,1.0,2.0,3.0,4.0,4.0,3.0,2.0,2.0,1.0,0.0,0.0,0.0,1.0,1.0,2.0,2.0,2.0,3.0,3.0,4.0,4.0,4.0,3.0,3.0,4.0,5.0,5.0,4.0,4.0,4.0,5.0,6.0,7.0,7.0,7.0,8.0,8.0,8.0],[0.0,1.0,1.0,2.0,3.0,4.0,4.0,3.0,2.0,2.0,1.0,0.0,0.0,0.0,1.0,1.0,2.0,2.0,2.0,3.0,3.0,4.0,4.0,4.0,3.0,3.0,4.0,5.0,5.0,4.0,4.0,4.0,5.0,6.0,7.0,7.0,7.0,8.0,8.0,8.0,8.0],[0.0,1.0,1.0,2.0,3.0,4.0,4.0,3.0,2.0,2.0,1.0,0.0,0.0,0.0,1.0,1.0,2.0,2.0,2.0,3.0,3.0,4.0,4.0,4.0,3.0,3.0,4.0,5.0,5.0,4.0,4.0,4.0,5.0,6.0,7.0,7.0,7.0,8.0,8.0,8.0,8.0,8.0],[0.0,1.0,1.0,2.0,3.0,4.0,4.0,3.0,2.0,2.0,1.0,0.0,0.0,0.0,1.0,1.0,2.0,2.0,2.0,3.0,3.0,4.0,4.0,4.0,3.0,3.0,4.0,5.0,5.0,4.0,4.0,4.0,5.0,6.0,7.0,7.0,7.0,8.0,8.0,8.0,8.0,8.0,7.0],[0.0,1.0,1.0,2.0,3.0,4.0,4.0,3.0,2.0,2.0,1.0,0.0,0.0,0.0,1.0,1.0,2.0,2.0,2.0,3.0,3.0,4.0,4.0,4.0,3.0,3.0,4.0,5.0,5.0,4.0,4.0,4.0,5.0,6.0,7.0,7.0,7.0,8.0,8.0,8.0,8.0,8.0,7.0,7.0],[0.0,1.0,1.0,2.0,3.0,4.0,4.0,3.0,2.0,2.0,1.0,0.0,0.0,0.0,1.0,1.0,2.0,2.0,2.0,3.0,3.0,4.0,4.0,4.0,3.0,3.0,4.0,5.0,5.0,4.0,4.0,4.0,5.0,6.0,7.0,7.0,7.0,8.0,8.0,8.0,8.0,8.0,7.0,7.0,7.0],[0.0,1.0,1.0,2.0,3.0,4.0,4.0,3.0,2.0,2.0,1.0,0.0,0.0,0.0,1.0,1.0,2.0,2.0,2.0,3.0,3.0,4.0,4.0,4.0,3.0,3.0,4.0,5.0,5.0,4.0,4.0,4.0,5.0,6.0,7.0,7.0,7.0,8.0,8.0,8.0,8.0,8.0,7.0,7.0,7.0,7.0],[0.0,1.0,1.0,2.0,3.0,4.0,4.0,3.0,2.0,2.0,1.0,0.0,0.0,0.0,1.0,1.0,2.0,2.0,2.0,3.0,3.0,4.0,4.0,4.0,3.0,3.0,4.0,5.0,5.0,4.0,4.0,4.0,5.0,6.0,7.0,7.0,7.0,8.0,8.0,8.0,8.0,8.0,7.0,7.0,7.0,7.0,6.0],[0.0,1.0,1.0,2.0,3.0,4.0,4.0,3.0,2.0,2.0,1.0,0.0,0.0,0.0,1.0,1.0,2.0,2.0,2.0,3.0,3.0,4.0,4.0,4.0,3.0,3.0,4.0,5.0,5.0,4.0,4.0,4.0,5.0,6.0,7.0,7.0,7.0,8.0,8.0,8.0,8.0,8.0,7.0,7.0,7.0,7.0,6.0,6.0],[0.0,1.0,1.0,2.0,3.0,4.0,4.0,3.0,2.0,2.0,1.0,0.0,0.0,0.0,1.0,1.0,2.0,2.0,2.0,3.0,3.0,4.0,4.0,4.0,3.0,3.0,4.0,5.0,5.0,4.0,4.0,4.0,5.0,6.0,7.0,7.0,7.0,8.0,8.0,8.0,8.0,8.0,7.0,7.0,7.0,7.0,6.0,6.0,5.0],[0.0,1.0,1.0,2.0,3.0,4.0,4.0,3.0,2.0,2.0,1.0,0.0,0.0,0.0,1.0,1.0,2.0,2.0,2.0,3.0,3.0,4.0,4.0,4.0,3.0,3.0,4.0,5.0,5.0,4.0,4.0,4.0,5.0,6.0,7.0,7.0,7.0,8.0,8.0,8.0,8.0,8.0,7.0,7.0,7.0,7.0,6.0,6.0,5.0,5.0],[0.0,1.0,1.0,2.0,3.0,4.0,4.0,3.0,2.0,2.0,1.0,0.0,0.0,0.0,1.0,1.0,2.0,2.0,2.0,3.0,3.0,4.0,4.0,4.0,3.0,3.0,4.0,5.0,5.0,4.0,4.0,4.0,5.0,6.0,7.0,7.0,7.0,8.0,8.0,8.0,8.0,8.0,7.0,7.0,7.0,7.0,6.0,6.0,5.0,5.0,6.0],[0.0,1.0,1.0,2.0,3.0,4.0,4.0,3.0,2.0,2.0,1.0,0.0,0.0,0.0,1.0,1.0,2.0,2.0,2.0,3.0,3.0,4.0,4.0,4.0,3.0,3.0,4.0,5.0,5.0,4.0,4.0,4.0,5.0,6.0,7.0,7.0,7.0,8.0,8.0,8.0,8.0,8.0,7.0,7.0,7.0,7.0,6.0,6.0,5.0,5.0,6.0,6.0],[0.0,1.0,1.0,2.0,3.0,4.0,4.0,3.0,2.0,2.0,1.0,0.0,0.0,0.0,1.0,1.0,2.0,2.0,2.0,3.0,3.0,4.0,4.0,4.0,3.0,3.0,4.0,5.0,5.0,4.0,4.0,4.0,5.0,6.0,7.0,7.0,7.0,8.0,8.0,8.0,8.0,8.0,7.0,7.0,7.0,7.0,6.0,6.0,5.0,5.0,6.0,6.0,6.0],[0.0,1.0,1.0,2.0,3.0,4.0,4.0,3.0,2.0,2.0,1.0,0.0,0.0,0.0,1.0,1.0,2.0,2.0,2.0,3.0,3.0,4.0,4.0,4.0,3.0,3.0,4.0,5.0,5.0,4.0,4.0,4.0,5.0,6.0,7.0,7.0,7.0,8.0,8.0,8.0,8.0,8.0,7.0,7.0,7.0,7.0,6.0,6.0,5.0,5.0,6.0,6.0,6.0,7.0],[0.0,1.0,1.0,2.0,3.0,4.0,4.0,3.0,2.0,2.0,1.0,0.0,0.0,0.0,1.0,1.0,2.0,2.0,2.0,3.0,3.0,4.0,4.0,4.0,3.0,3.0,4.0,5.0,5.0,4.0,4.0,4.0,5.0,6.0,7.0,7.0,7.0,8.0,8.0,8.0,8.0,8.0,7.0,7.0,7.0,7.0,6.0,6.0,5.0,5.0,6.0,6.0,6.0,7.0,7.0],[0.0,1.0,1.0,2.0,3.0,4.0,4.0,3.0,2.0,2.0,1.0,0.0,0.0,0.0,1.0,1.0,2.0,2.0,2.0,3.0,3.0,4.0,4.0,4.0,3.0,3.0,4.0,5.0,5.0,4.0,4.0,4.0,5.0,6.0,7.0,7.0,7.0,8.0,8.0,8.0,8.0,8.0,7.0,7.0,7.0,7.0,6.0,6.0,5.0,5.0,6.0,6.0,6.0,7.0,7.0,6.0],[0.0,1.0,1.0,2.0,3.0,4.0,4.0,3.0,2.0,2.0,1.0,0.0,0.0,0.0,1.0,1.0,2.0,2.0,2.0,3.0,3.0,4.0,4.0,4.0,3.0,3.0,4.0,5.0,5.0,4.0,4.0,4.0,5.0,6.0,7.0,7.0,7.0,8.0,8.0,8.0,8.0,8.0,7.0,7.0,7.0,7.0,6.0,6.0,5.0,5.0,6.0,6.0,6.0,7.0,7.0,6.0,5.0],[0.0,1.0,1.0,2.0,3.0,4.0,4.0,3.0,2.0,2.0,1.0,0.0,0.0,0.0,1.0,1.0,2.0,2.0,2.0,3.0,3.0,4.0,4.0,4.0,3.0,3.0,4.0,5.0,5.0,4.0,4.0,4.0,5.0,6.0,7.0,7.0,7.0,8.0,8.0,8.0,8.0,8.0,7.0,7.0,7.0,7.0,6.0,6.0,5.0,5.0,6.0,6.0,6.0,7.0,7.0,6.0,5.0,5.0],[0.0,1.0,1.0,2.0,3.0,4.0,4.0,3.0,2.0,2.0,1.0,0.0,0.0,0.0,1.0,1.0,2.0,2.0,2.0,3.0,3.0,4.0,4.0,4.0,3.0,3.0,4.0,5.0,5.0,4.0,4.0,4.0,5.0,6.0,7.0,7.0,7.0,8.0,8.0,8.0,8.0,8.0,7.0,7.0,7.0,7.0,6.0,6.0,5.0,5.0,6.0,6.0,6.0,7.0,7.0,6.0,5.0,5.0,5.0],[0.0,1.0,1.0,2.0,3.0,4.0,4.0,3.0,2.0,2.0,1.0,0.0,0.0,0.0,1.0,1.0,2.0,2.0,2.0,3.0,3.0,4.0,4.0,4.0,3.0,3.0,4.0,5.0,5.0,4.0,4.0,4.0,5.0,6.0,7.0,7.0,7.0,8.0,8.0,8.0,8.0,8.0,7.0,7.0,7.0,7.0,6.0,6.0,5.0,5.0,6.0,6.0,6.0,7.0,7.0,6.0,5.0,5.0,5.0,8.0],[0.0,1.0,1.0,2.0,3.0,4.0,4.0,3.0,2.0,2.0,1.0,0.0,0.0,0.0,1.0,1.0,2.0,2.0,2.0,3.0,3.0,4.0,4.0,4.0,3.0,3.0,4.0,5.0,5.0,4.0,4.0,4.0,5.0,6.0,7.0,7.0,7.0,8.0,8.0,8.0,8.0,8.0,7.0,7.0,7.0,7.0,6.0,6.0,5.0,5.0,6.0,6.0,6.0,7.0,7.0,6.0,5.0,5.0,5.0,8.0,8.0],[0.0,1.0,1.0,2.0,3.0,4.0,4.0,3.0,2.0,2.0,1.0,0.0,0.0,0.0,1.0,1.0,2.0,2.0,2.0,3.0,3.0,4.0,4.0,4.0,3.0,3.0,4.0,5.0,5.0,4.0,4.0,4.0,5.0,6.0,7.0,7.0,7.0,8.0,8.0,8.0,8.0,8.0,7.0,7.0,7.0,7.0,6.0,6.0,5.0,5.0,6.0,6.0,6.0,7.0,7.0,6.0,5.0,5.0,5.0,8.0,8.0,6.0],[0.0,1.0,1.0,2.0,3.0,4.0,4.0,3.0,2.0,2.0,1.0,0.0,0.0,0.0,1.0,1.0,2.0,2.0,2.0,3.0,3.0,4.0,4.0,4.0,3.0,3.0,4.0,5.0,5.0,4.0,4.0,4.0,5.0,6.0,7.0,7.0,7.0,8.0,8.0,8.0,8.0,8.0,7.0,7.0,7.0,7.0,6.0,6.0,5.0,5.0,6.0,6.0,6.0,7.0,7.0,6.0,5.0,5.0,5.0,8.0,8.0,6.0,6.0],[0.0,1.0,1.0,2.0,3.0,4.0,4.0,3.0,2.0,2.0,1.0,0.0,0.0,0.0,1.0,1.0,2.0,2.0,2.0,3.0,3.0,4.0,4.0,4.0,3.0,3.0,4.0,5.0,5.0,4.0,4.0,4.0,5.0,6.0,7.0,7.0,7.0,8.0,8.0,8.0,8.0,8.0,7.0,7.0,7.0,7.0,6.0,6.0,5.0,5.0,6.0,6.0,6.0,7.0,7.0,6.0,5.0,5.0,5.0,8.0,8.0,6.0,6.0,5.0],[0.0,1.0,1.0,2.0,3.0,4.0,4.0,3.0,2.0,2.0,1.0,0.0,0.0,0.0,1.0,1.0,2.0,2.0,2.0,3.0,3.0,4.0,4.0,4.0,3.0,3.0,4.0,5.0,5.0,4.0,4.0,4.0,5.0,6.0,7.0,7.0,7.0,8.0,8.0,8.0,8.0,8.0,7.0,7.0,7.0,7.0,6.0,6.0,5.0,5.0,6.0,6.0,6.0,7.0,7.0,6.0,5.0,5.0,5.0,8.0,8.0,6.0,6.0,5.0,3.0],[0.0,1.0,1.0,2.0,3.0,4.0,4.0,3.0,2.0,2.0,1.0,0.0,0.0,0.0,1.0,1.0,2.0,2.0,2.0,3.0,3.0,4.0,4.0,4.0,3.0,3.0,4.0,5.0,5.0,4.0,4.0,4.0,5.0,6.0,7.0,7.0,7.0,8.0,8.0,8.0,8.0,8.0,7.0,7.0,7.0,7.0,6.0,6.0,5.0,5.0,6.0,6.0,6.0,7.0,7.0,6.0,5.0,5.0,5.0,8.0,8.0,6.0,6.0,5.0,3.0,2.0],[0.0,1.0,1.0,2.0,3.0,4.0,4.0,3.0,2.0,2.0,1.0,0.0,0.0,0.0,1.0,1.0,2.0,2.0,2.0,3.0,3.0,4.0,4.0,4.0,3.0,3.0,4.0,5.0,5.0,4.0,4.0,4.0,5.0,6.0,7.0,7.0,7.0,8.0,8.0,8.0,8.0,8.0,7.0,7.0,7.0,7.0,6.0,6.0,5.0,5.0,6.0,6.0,6.0,7.0,7.0,6.0,5.0,5.0,5.0,8.0,8.0,6.0,6.0,5.0,3.0,2.0,2.0],[0.0,1.0,1.0,2.0,3.0,4.0,4.0,3.0,2.0,2.0,1.0,0.0,0.0,0.0,1.0,1.0,2.0,2.0,2.0,3.0,3.0,4.0,4.0,4.0,3.0,3.0,4.0,5.0,5.0,4.0,4.0,4.0,5.0,6.0,7.0,7.0,7.0,8.0,8.0,8.0,8.0,8.0,7.0,7.0,7.0,7.0,6.0,6.0,5.0,5.0,6.0,6.0,6.0,7.0,7.0,6.0,5.0,5.0,5.0,8.0,8.0,6.0,6.0,5.0,3.0,2.0,2.0,1.0],[0.0,1.0,1.0,2.0,3.0,4.0,4.0,3.0,2.0,2.0,1.0,0.0,0.0,0.0,1.0,1.0,2.0,2.0,2.0,3.0,3.0,4.0,4.0,4.0,3.0,3.0,4.0,5.0,5.0,4.0,4.0,4.0,5.0,6.0,7.0,7.0,7.0,8.0,8.0,8.0,8.0,8.0,7.0,7.0,7.0,7.0,6.0,6.0,5.0,5.0,6.0,6.0,6.0,7.0,7.0,6.0,5.0,5.0,5.0,8.0,8.0,6.0,6.0,5.0,3.0,2.0,2.0,1.0,0.0],[0.0,1.0,1.0,2.0,3.0,4.0,4.0,3.0,2.0,2.0,1.0,0.0,0.0,0.0,1.0,1.0,2.0,2.0,2.0,3.0,3.0,4.0,4.0,4.0,3.0,3.0,4.0,5.0,5.0,4.0,4.0,4.0,5.0,6.0,7.0,7.0,7.0,8.0,8.0,8.0,8.0,8.0,7.0,7.0,7.0,7.0,6.0,6.0,5.0,5.0,6.0,6.0,6.0,7.0,7.0,6.0,5.0,5.0,5.0,8.0,8.0,6.0,6.0,5.0,3.0,2.0,2.0,1.0,0.0,0.0],[0.0,1.0,1.0,2.0,3.0,4.0,4.0,3.0,2.0,2.0,1.0,0.0,0.0,0.0,1.0,1.0,2.0,2.0,2.0,3.0,3.0,4.0,4.0,4.0,3.0,3.0,4.0,5.0,5.0,4.0,4.0,4.0,5.0,6.0,7.0,7.0,7.0,8.0,8.0,8.0,8.0,8.0,7.0,7.0,7.0,7.0,6.0,6.0,5.0,5.0,6.0,6.0,6.0,7.0,7.0,6.0,5.0,5.0,5.0,8.0,8.0,6.0,6.0,5.0,3.0,2.0,2.0,1.0,0.0,0.0,0.0],[0.0,1.0,1.0,2.0,3.0,4.0,4.0,3.0,2.0,2.0,1.0,0.0,0.0,0.0,1.0,1.0,2.0,2.0,2.0,3.0,3.0,4.0,4.0,4.0,3.0,3.0,4.0,5.0,5.0,4.0,4.0,4.0,5.0,6.0,7.0,7.0,7.0,8.0,8.0,8.0,8.0,8.0,7.0,7.0,7.0,7.0,6.0,6.0,5.0,5.0,6.0,6.0,6.0,7.0,7.0,6.0,5.0,5.0,5.0,8.0,8.0,6.0,6.0,5.0,3.0,2.0,2.0,1.0,0.0,0.0,0.0,1.0],[0.0,1.0,1.0,2.0,3.0,4.0,4.0,3.0,2.0,2.0,1.0,0.0,0.0,0.0,1.0,1.0,2.0,2.0,2.0,3.0,3.0,4.0,4.0,4.0,3.0,3.0,4.0,5.0,5.0,4.0,4.0,4.0,5.0,6.0,7.0,7.0,7.0,8.0,8.0,8.0,8.0,8.0,7.0,7.0,7.0,7.0,6.0,6.0,5.0,5.0,6.0,6.0,6.0,7.0,7.0,6.0,5.0,5.0,5.0,8.0,8.0,6.0,6.0,5.0,3.0,2.0,2.0,1.0,0.0,0.0,0.0,1.0,1.0],[0.0,1.0,1.0,2.0,3.0,4.0,4.0,3.0,2.0,2.0,1.0,0.0,0.0,0.0,1.0,1.0,2.0,2.0,2.0,3.0,3.0,4.0,4.0,4.0,3.0,3.0,4.0,5.0,5.0,4.0,4.0,4.0,5.0,6.0,7.0,7.0,7.0,8.0,8.0,8.0,8.0,8.0,7.0,7.0,7.0,7.0,6.0,6.0,5.0,5.0,6.0,6.0,6.0,7.0,7.0,6.0,5.0,5.0,5.0,8.0,8.0,6.0,6.0,5.0,3.0,2.0,2.0,1.0,0.0,0.0,0.0,1.0,1.0,2.0],[0.0,1.0,1.0,2.0,3.0,4.0,4.0,3.0,2.0,2.0,1.0,0.0,0.0,0.0,1.0,1.0,2.0,2.0,2.0,3.0,3.0,4.0,4.0,4.0,3.0,3.0,4.0,5.0,5.0,4.0,4.0,4.0,5.0,6.0,7.0,7.0,7.0,8.0,8.0,8.0,8.0,8.0,7.0,7.0,7.0,7.0,6.0,6.0,5.0,5.0,6.0,6.0,6.0,7.0,7.0,6.0,5.0,5.0,5.0,8.0,8.0,6.0,6.0,5.0,3.0,2.0,2.0,1.0,0.0,0.0,0.0,1.0,1.0,2.0,3.0],[0.0,1.0,1.0,2.0,3.0,4.0,4.0,3.0,2.0,2.0,1.0,0.0,0.0,0.0,1.0,1.0,2.0,2.0,2.0,3.0,3.0,4.0,4.0,4.0,3.0,3.0,4.0,5.0,5.0,4.0,4.0,4.0,5.0,6.0,7.0,7.0,7.0,8.0,8.0,8.0,8.0,8.0,7.0,7.0,7.0,7.0,6.0,6.0,5.0,5.0,6.0,6.0,6.0,7.0,7.0,6.0,5.0,5.0,5.0,8.0,8.0,6.0,6.0,5.0,3.0,2.0,2.0,1.0,0.0,0.0,0.0,1.0,1.0,2.0,3.0,3.0],[0.0,1.0,1.0,2.0,3.0,4.0,4.0,3.0,2.0,2.0,1.0,0.0,0.0,0.0,1.0,1.0,2.0,2.0,2.0,3.0,3.0,4.0,4.0,4.0,3.0,3.0,4.0,5.0,5.0,4.0,4.0,4.0,5.0,6.0,7.0,7.0,7.0,8.0,8.0,8.0,8.0,8.0,7.0,7.0,7.0,7.0,6.0,6.0,5.0,5.0,6.0,6.0,6.0,7.0,7.0,6.0,5.0,5.0,5.0,8.0,8.0,6.0,6.0,5.0,3.0,2.0,2.0,1.0,0.0,0.0,0.0,1.0,1.0,2.0,3.0,3.0,0.0],[0.0,1.0,1.0,2.0,3.0,4.0,4.0,3.0,2.0,2.0,1.0,0.0,0.0,0.0,1.0,1.0,2.0,2.0,2.0,3.0,3.0,4.0,4.0,4.0,3.0,3.0,4.0,5.0,5.0,4.0,4.0,4.0,5.0,6.0,7.0,7.0,7.0,8.0,8.0,8.0,8.0,8.0,7.0,7.0,7.0,7.0,6.0,6.0,5.0,5.0,6.0,6.0,6.0,7.0,7.0,6.0,5.0,5.0,5.0,8.0,8.0,6.0,6.0,5.0,3.0,2.0,2.0,1.0,0.0,0.0,0.0,1.0,1.0,2.0,3.0,3.0,0.0,1.0],[0.0,1.0,1.0,2.0,3.0,4.0,4.0,3.0,2.0,2.0,1.0,0.0,0.0,0.0,1.0,1.0,2.0,2.0,2.0,3.0,3.0,4.0,4.0,4.0,3.0,3.0,4.0,5.0,5.0,4.0,4.0,4.0,5.0,6.0,7.0,7.0,7.0,8.0,8.0,8.0,8.0,8.0,7.0,7.0,7.0,7.0,6.0,6.0,5.0,5.0,6.0,6.0,6.0,7.0,7.0,6.0,5.0,5.0,5.0,8.0,8.0,6.0,6.0,5.0,3.0,2.0,2.0,1.0,0.0,0.0,0.0,1.0,1.0,2.0,3.0,3.0,0.0,1.0,0.0],[0.0,1.0,1.0,2.0,3.0,4.0,4.0,3.0,2.0,2.0,1.0,0.0,0.0,0.0,1.0,1.0,2.0,2.0,2.0,3.0,3.0,4.0,4.0,4.0,3.0,3.0,4.0,5.0,5.0,4.0,4.0,4.0,5.0,6.0,7.0,7.0,7.0,8.0,8.0,8.0,8.0,8.0,7.0,7.0,7.0,7.0,6.0,6.0,5.0,5.0,6.0,6.0,6.0,7.0,7.0,6.0,5.0,5.0,5.0,8.0,8.0,6.0,6.0,5.0,3.0,2.0,2.0,1.0,0.0,0.0,0.0,1.0,1.0,2.0,3.0,3.0,0.0,1.0,0.0,8.0],[0.0,1.0,1.0,2.0,3.0,4.0,4.0,3.0,2.0,2.0,1.0,0.0,0.0,0.0,1.0,1.0,2.0,2.0,2.0,3.0,3.0,4.0,4.0,4.0,3.0,3.0,4.0,5.0,5.0,4.0,4.0,4.0,5.0,6.0,7.0,7.0,7.0,8.0,8.0,8.0,8.0,8.0,7.0,7.0,7.0,7.0,6.0,6.0,5.0,5.0,6.0,6.0,6.0,7.0,7.0,6.0,5.0,5.0,5.0,8.0,8.0,6.0,6.0,5.0,3.0,2.0,2.0,1.0,0.0,0.0,0.0,1.0,1.0,2.0,3.0,3.0,0.0,1.0,0.0,8.0,8.0],[0.0,1.0,1.0,2.0,3.0,4.0,4.0,3.0,2.0,2.0,1.0,0.0,0.0,0.0,1.0,1.0,2.0,2.0,2.0,3.0,3.0,4.0,4.0,4.0,3.0,3.0,4.0,5.0,5.0,4.0,4.0,4.0,5.0,6.0,7.0,7.0,7.0,8.0,8.0,8.0,8.0,8.0,7.0,7.0,7.0,7.0,6.0,6.0,5.0,5.0,6.0,6.0,6.0,7.0,7.0,6.0,5.0,5.0,5.0,8.0,8.0,6.0,6.0,5.0,3.0,2.0,2.0,1.0,0.0,0.0,0.0,1.0,1.0,2.0,3.0,3.0,0.0,1.0,0.0,8.0,8.0,0.0]]},\"selected\":{\"id\":\"2140\"},\"selection_policy\":{\"id\":\"2139\"}},\"id\":\"2108\",\"type\":\"ColumnDataSource\"},{\"attributes\":{\"button_type\":\"success\",\"icon\":null,\"js_event_callbacks\":{\"button_click\":[{\"id\":\"2123\"}]},\"label\":\"Previous\",\"sizing_mode\":\"scale_width\",\"width_policy\":\"fit\"},\"id\":\"2122\",\"type\":\"Button\"},{\"attributes\":{\"background_fill_color\":null,\"below\":[{\"id\":\"2082\"}],\"border_fill_color\":null,\"center\":[{\"id\":\"2085\"},{\"id\":\"2089\"}],\"left\":[{\"id\":\"2086\"}],\"outline_line_color\":null,\"plot_height\":400,\"plot_width\":400,\"renderers\":[{\"id\":\"2113\"},{\"id\":\"2118\"}],\"title\":{\"id\":\"2072\"},\"toolbar\":{\"id\":\"2097\"},\"toolbar_location\":null,\"x_range\":{\"id\":\"2074\"},\"x_scale\":{\"id\":\"2078\"},\"y_range\":{\"id\":\"2076\"},\"y_scale\":{\"id\":\"2080\"}},\"id\":\"2071\",\"subtype\":\"Figure\",\"type\":\"Plot\"},{\"attributes\":{\"args\":{\"cost\":{\"id\":\"2105\"},\"done\":{\"id\":\"2106\"},\"n\":{\"id\":\"2107\"},\"source\":{\"id\":\"2108\"},\"tour\":{\"id\":\"2109\"}},\"code\":\"\\nif ((parseInt(n.text) - 1) >= 0) {\\n    n.text = (parseInt(n.text) - 1).toString()\\n}\\nvar iteration = parseInt(n.text)\\n\\nif (iteration == source.data['edges_y'].length - 2) {\\n    iteration = iteration - 1\\n}\\n\\n    cost.text = source.data['costs'][iteration].toFixed(1)\\n    \\n    if (iteration == source.data['edges_y'].length - 1) {\\n        done.text = \\\"done.\\\"\\n    } else {\\n        done.text = \\\"\\\"\\n    }\\n\\n    tour.data['edges_x'] = source.data['edges_x'][iteration]\\n    tour.data['edges_y'] = source.data['edges_y'][iteration]\\n    tour.change.emit()\\n    \"},\"id\":\"2123\",\"type\":\"CustomJS\"},{\"attributes\":{\"children\":[{\"id\":\"2122\"},{\"id\":\"2120\"}],\"max_width\":400,\"sizing_mode\":\"stretch_both\"},\"id\":\"2124\",\"type\":\"Row\"}],\"root_ids\":[\"2141\"]},\"title\":\"Bokeh Application\",\"version\":\"2.1.0\"}};\n",
       "  var render_items = [{\"docid\":\"f95c94f0-f2fc-402a-b276-28a01b1a58f6\",\"root_ids\":[\"2141\"],\"roots\":{\"2141\":\"8196d1f5-74b6-4a53-b0b5-fcf03c21d9d3\"}}];\n",
       "  root.Bokeh.embed.embed_items_notebook(docs_json, render_items);\n",
       "\n",
       "  }\n",
       "  if (root.Bokeh !== undefined) {\n",
       "    embed_document(root);\n",
       "  } else {\n",
       "    var attempts = 0;\n",
       "    var timer = setInterval(function(root) {\n",
       "      if (root.Bokeh !== undefined) {\n",
       "        clearInterval(timer);\n",
       "        embed_document(root);\n",
       "      } else {\n",
       "        attempts++;\n",
       "        if (attempts > 100) {\n",
       "          clearInterval(timer);\n",
       "          console.log(\"Bokeh: ERROR: Unable to run BokehJS code because BokehJS library is missing\");\n",
       "        }\n",
       "      }\n",
       "    }, 10, root)\n",
       "  }\n",
       "})(window);"
      ],
      "application/vnd.bokehjs_exec.v0+json": ""
     },
     "metadata": {
      "application/vnd.bokehjs_exec.v0+json": {
       "id": "2141"
      }
     },
     "output_type": "display_data"
    }
   ],
   "source": [
    "tour = plot_tsp_heuristic(nodes, G, heuristic='nearest_neighbor', initial=0)"
   ]
  },
  {
   "cell_type": "code",
   "execution_count": 17,
   "metadata": {},
   "outputs": [
    {
     "data": {
      "text/html": [
       "\n",
       "\n",
       "\n",
       "\n",
       "\n",
       "\n",
       "  <div class=\"bk-root\" id=\"7f576ab8-e5a4-4a43-9fa1-6b8fb336f0dc\" data-root-id=\"2364\"></div>\n"
      ]
     },
     "metadata": {},
     "output_type": "display_data"
    },
    {
     "data": {
      "application/javascript": [
       "(function(root) {\n",
       "  function embed_document(root) {\n",
       "    \n",
       "  var docs_json = {\"dc2486cb-c424-4953-9810-3b29c174bd73\":{\"roots\":{\"references\":[{\"attributes\":{\"children\":[[{\"id\":\"2294\"},0,0],[{\"id\":\"2347\"},1,0],[{\"id\":\"2348\"},2,0]]},\"id\":\"2364\",\"type\":\"GridBox\"},{\"attributes\":{\"args\":{\"cost\":{\"id\":\"2328\"},\"done\":{\"id\":\"2329\"},\"n\":{\"id\":\"2330\"},\"source\":{\"id\":\"2331\"},\"tour\":{\"id\":\"2332\"}},\"code\":\"\\nif ((parseInt(n.text) - 1) >= 0) {\\n    n.text = (parseInt(n.text) - 1).toString()\\n}\\nvar iteration = parseInt(n.text)\\n\\nif (iteration == source.data['edges_y'].length - 2) {\\n    iteration = iteration - 1\\n}\\n\\n    cost.text = source.data['costs'][iteration].toFixed(1)\\n    \\n    if (iteration == source.data['edges_y'].length - 1) {\\n        done.text = \\\"done.\\\"\\n    } else {\\n        done.text = \\\"\\\"\\n    }\\n\\n    tour.data['edges_x'] = source.data['edges_x'][iteration]\\n    tour.data['edges_y'] = source.data['edges_y'][iteration]\\n    tour.change.emit()\\n    \"},\"id\":\"2346\",\"type\":\"CustomJS\"},{\"attributes\":{},\"id\":\"2350\",\"type\":\"BasicTickFormatter\"},{\"attributes\":{\"children\":[{\"id\":\"2328\"},{\"id\":\"2329\"}]},\"id\":\"2348\",\"type\":\"Row\"},{\"attributes\":{\"background_fill_color\":null,\"below\":[{\"id\":\"2305\"}],\"border_fill_color\":null,\"center\":[{\"id\":\"2308\"},{\"id\":\"2312\"}],\"left\":[{\"id\":\"2309\"}],\"outline_line_color\":null,\"plot_height\":400,\"plot_width\":400,\"renderers\":[{\"id\":\"2336\"},{\"id\":\"2341\"}],\"title\":{\"id\":\"2295\"},\"toolbar\":{\"id\":\"2320\"},\"toolbar_location\":null,\"x_range\":{\"id\":\"2297\"},\"x_scale\":{\"id\":\"2301\"},\"y_range\":{\"id\":\"2299\"},\"y_scale\":{\"id\":\"2303\"}},\"id\":\"2294\",\"subtype\":\"Figure\",\"type\":\"Plot\"},{\"attributes\":{},\"id\":\"2352\",\"type\":\"BasicTickFormatter\"},{\"attributes\":{\"bottom_units\":\"screen\",\"fill_alpha\":0.5,\"fill_color\":\"lightgrey\",\"left_units\":\"screen\",\"level\":\"overlay\",\"line_alpha\":1.0,\"line_color\":\"black\",\"line_dash\":[4,4],\"line_width\":2,\"right_units\":\"screen\",\"top_units\":\"screen\"},\"id\":\"2319\",\"type\":\"BoxAnnotation\"},{\"attributes\":{},\"id\":\"2354\",\"type\":\"UnionRenderers\"},{\"attributes\":{\"end\":8.68,\"start\":-0.68},\"id\":\"2297\",\"type\":\"Range1d\"},{\"attributes\":{},\"id\":\"2355\",\"type\":\"Selection\"},{\"attributes\":{\"data\":{\"costs\":[2.0,3.414213562373095,4.82842712474619,5.414213562373095,6.0,7.414213562373095,8.82842712474619,10.650281539872886,12.47213595499958,13.886349517372675,15.812559200041264,17.773387165490547,17.95153275036385,18.848191962583275,19.071067811865476,19.656854249492383,20.06449510224598,21.478708664619077,22.06449510224598,23.478708664619077,24.06449510224598,24.242640687119287,25.65685424949238,26.242640687119287,27.65685424949238,29.07106781186548,30.892922226992173,31.07106781186548,31.656854249492383,32.24264068711929,33.65685424949238,34.24264068711929,34.82842712474619,36.24264068711929,36.82842712474619,38.24264068711929,39.65685424949238,41.071067811865476,41.65685424949238,43.071067811865476,44.48528137423857,45.89949493661167,46.48528137423857,48.30713578936526,49.72134935173836,51.543203766865055,52.128990204491956,52.89292222699217,54.30713578936526,54.89292222699216,56.30713578936526,58.128990204491956,59.54320376686505,60.95741732923814,62.19348530673793,62.95741732923814,64.37163089161123,64.95741732923814,66.37163089161123,66.95741732923814,68.37163089161123,69.78584445398432,71.20005801635742,71.78584445398432,73.20005801635743,74.61427157873052,76.02848514110362,76.20663072597692,76.79241716360383,77.37820360123072,77.96399003885763,78.54977647648454,79.96399003885763,80.54977647648454,81.13556291411145,81.72134935173835,82.30713578936526,83.72134935173835,84.30713578936526,85.72134935173835,85.72134935173835],\"edges_x\":[[0.0,0.0,0.0],[0.0,1.0,0.0,0.0],[0.0,1.0,1.0,0.0,0.0],[0.0,1.0,1.0,1.0,0.0,0.0],[0.0,1.0,1.0,1.0,0.0,0.0,0.0],[0.0,1.0,2.0,1.0,1.0,0.0,0.0,0.0],[0.0,1.0,2.0,1.0,1.0,0.0,0.0,0.0,0.0],[0.0,1.0,2.0,1.0,1.0,0.0,0.0,0.0,0.0,0.0],[0.0,1.0,2.0,3.0,1.0,1.0,0.0,0.0,0.0,0.0,0.0],[0.0,1.0,2.0,3.0,2.0,1.0,1.0,0.0,0.0,0.0,0.0,0.0],[0.0,1.0,2.0,3.0,2.0,1.0,1.0,0.0,0.0,0.0,0.0,0.0,0.0],[0.0,1.0,2.0,3.0,2.0,1.0,1.0,0.0,0.0,0.0,0.0,0.0,0.0,0.0],[0.0,1.0,2.0,3.0,2.0,2.0,1.0,1.0,0.0,0.0,0.0,0.0,0.0,0.0,0.0],[0.0,1.0,2.0,3.0,2.0,2.0,1.0,1.0,2.0,0.0,0.0,0.0,0.0,0.0,0.0,0.0],[0.0,1.0,2.0,3.0,2.0,2.0,1.0,1.0,2.0,2.0,0.0,0.0,0.0,0.0,0.0,0.0,0.0],[0.0,1.0,2.0,3.0,3.0,2.0,2.0,1.0,1.0,2.0,2.0,0.0,0.0,0.0,0.0,0.0,0.0,0.0],[0.0,1.0,2.0,3.0,3.0,2.0,2.0,1.0,1.0,2.0,2.0,1.0,0.0,0.0,0.0,0.0,0.0,0.0,0.0],[0.0,1.0,2.0,3.0,3.0,2.0,2.0,1.0,1.0,2.0,3.0,2.0,1.0,0.0,0.0,0.0,0.0,0.0,0.0,0.0],[0.0,1.0,2.0,3.0,3.0,2.0,2.0,1.0,1.0,2.0,3.0,3.0,2.0,1.0,0.0,0.0,0.0,0.0,0.0,0.0,0.0],[0.0,1.0,2.0,3.0,3.0,2.0,2.0,1.0,1.0,2.0,3.0,4.0,3.0,2.0,1.0,0.0,0.0,0.0,0.0,0.0,0.0,0.0],[0.0,1.0,2.0,3.0,3.0,2.0,2.0,1.0,1.0,1.0,2.0,3.0,4.0,3.0,2.0,1.0,0.0,0.0,0.0,0.0,0.0,0.0,0.0],[0.0,1.0,2.0,3.0,3.0,2.0,2.0,1.0,1.0,1.0,2.0,3.0,4.0,3.0,2.0,1.0,1.0,0.0,0.0,0.0,0.0,0.0,0.0,0.0],[0.0,1.0,2.0,3.0,4.0,3.0,2.0,2.0,1.0,1.0,1.0,2.0,3.0,4.0,3.0,2.0,1.0,1.0,0.0,0.0,0.0,0.0,0.0,0.0,0.0],[0.0,1.0,2.0,3.0,4.0,3.0,2.0,2.0,1.0,1.0,1.0,2.0,3.0,4.0,4.0,3.0,2.0,1.0,1.0,0.0,0.0,0.0,0.0,0.0,0.0,0.0],[0.0,1.0,2.0,3.0,4.0,3.0,2.0,2.0,1.0,1.0,1.0,2.0,3.0,4.0,4.0,4.0,3.0,2.0,1.0,1.0,0.0,0.0,0.0,0.0,0.0,0.0,0.0],[0.0,1.0,2.0,3.0,4.0,3.0,2.0,2.0,1.0,1.0,1.0,2.0,3.0,4.0,5.0,4.0,4.0,3.0,2.0,1.0,1.0,0.0,0.0,0.0,0.0,0.0,0.0,0.0],[0.0,1.0,2.0,3.0,4.0,3.0,2.0,2.0,1.0,1.0,1.0,2.0,3.0,4.0,5.0,4.0,4.0,3.0,2.0,1.0,1.0,0.0,0.0,0.0,0.0,0.0,0.0,0.0,0.0],[0.0,1.0,2.0,3.0,4.0,3.0,2.0,2.0,1.0,1.0,1.0,2.0,3.0,4.0,5.0,4.0,4.0,3.0,2.0,1.0,1.0,1.0,0.0,0.0,0.0,0.0,0.0,0.0,0.0,0.0],[0.0,1.0,2.0,3.0,4.0,4.0,3.0,2.0,2.0,1.0,1.0,1.0,2.0,3.0,4.0,5.0,4.0,4.0,3.0,2.0,1.0,1.0,1.0,0.0,0.0,0.0,0.0,0.0,0.0,0.0,0.0],[0.0,1.0,2.0,3.0,4.0,4.0,3.0,2.0,2.0,1.0,1.0,1.0,2.0,3.0,3.0,4.0,5.0,4.0,4.0,3.0,2.0,1.0,1.0,1.0,0.0,0.0,0.0,0.0,0.0,0.0,0.0,0.0],[0.0,1.0,2.0,3.0,4.0,4.0,3.0,2.0,2.0,1.0,1.0,1.0,2.0,3.0,3.0,4.0,5.0,4.0,4.0,3.0,2.0,2.0,1.0,1.0,1.0,0.0,0.0,0.0,0.0,0.0,0.0,0.0,0.0],[0.0,1.0,2.0,3.0,4.0,4.0,3.0,2.0,2.0,1.0,1.0,1.0,2.0,3.0,3.0,4.0,5.0,4.0,4.0,3.0,2.0,2.0,1.0,1.0,1.0,1.0,0.0,0.0,0.0,0.0,0.0,0.0,0.0,0.0],[0.0,1.0,2.0,3.0,4.0,4.0,3.0,2.0,2.0,1.0,1.0,1.0,2.0,3.0,3.0,4.0,5.0,4.0,4.0,3.0,3.0,2.0,2.0,1.0,1.0,1.0,1.0,0.0,0.0,0.0,0.0,0.0,0.0,0.0,0.0],[0.0,1.0,2.0,3.0,4.0,5.0,4.0,3.0,2.0,2.0,1.0,1.0,1.0,2.0,3.0,3.0,4.0,5.0,4.0,4.0,3.0,3.0,2.0,2.0,1.0,1.0,1.0,1.0,0.0,0.0,0.0,0.0,0.0,0.0,0.0,0.0],[0.0,1.0,2.0,3.0,4.0,5.0,4.0,3.0,2.0,2.0,1.0,1.0,1.0,2.0,3.0,3.0,4.0,5.0,5.0,4.0,4.0,3.0,3.0,2.0,2.0,1.0,1.0,1.0,1.0,0.0,0.0,0.0,0.0,0.0,0.0,0.0,0.0],[0.0,1.0,2.0,3.0,4.0,5.0,4.0,3.0,2.0,2.0,1.0,1.0,1.0,2.0,3.0,3.0,4.0,5.0,6.0,5.0,4.0,4.0,3.0,3.0,2.0,2.0,1.0,1.0,1.0,1.0,0.0,0.0,0.0,0.0,0.0,0.0,0.0,0.0],[0.0,1.0,2.0,3.0,4.0,5.0,4.0,3.0,2.0,2.0,1.0,1.0,1.0,2.0,3.0,3.0,4.0,5.0,6.0,5.0,5.0,4.0,4.0,3.0,3.0,2.0,2.0,1.0,1.0,1.0,1.0,0.0,0.0,0.0,0.0,0.0,0.0,0.0,0.0],[0.0,1.0,2.0,3.0,4.0,5.0,4.0,3.0,2.0,2.0,1.0,1.0,1.0,2.0,3.0,3.0,4.0,5.0,6.0,5.0,5.0,4.0,4.0,3.0,3.0,2.0,2.0,2.0,1.0,1.0,1.0,1.0,0.0,0.0,0.0,0.0,0.0,0.0,0.0,0.0],[0.0,1.0,2.0,3.0,4.0,5.0,4.0,3.0,2.0,2.0,1.0,1.0,1.0,2.0,3.0,3.0,4.0,5.0,6.0,5.0,5.0,4.0,4.0,3.0,3.0,3.0,2.0,2.0,2.0,1.0,1.0,1.0,1.0,0.0,0.0,0.0,0.0,0.0,0.0,0.0,0.0],[0.0,1.0,2.0,3.0,4.0,5.0,4.0,3.0,2.0,2.0,1.0,1.0,1.0,2.0,3.0,3.0,4.0,5.0,6.0,5.0,5.0,4.0,4.0,3.0,3.0,3.0,2.0,2.0,2.0,1.0,1.0,1.0,1.0,0.0,0.0,0.0,0.0,0.0,0.0,0.0,0.0,0.0],[0.0,1.0,2.0,3.0,4.0,5.0,4.0,3.0,2.0,2.0,1.0,1.0,1.0,2.0,3.0,3.0,4.0,5.0,6.0,5.0,5.0,4.0,4.0,3.0,3.0,4.0,3.0,2.0,2.0,2.0,1.0,1.0,1.0,1.0,0.0,0.0,0.0,0.0,0.0,0.0,0.0,0.0,0.0],[0.0,1.0,2.0,3.0,4.0,5.0,4.0,3.0,2.0,2.0,1.0,1.0,1.0,2.0,3.0,3.0,4.0,5.0,6.0,5.0,5.0,4.0,4.0,3.0,3.0,4.0,3.0,3.0,2.0,2.0,2.0,1.0,1.0,1.0,1.0,0.0,0.0,0.0,0.0,0.0,0.0,0.0,0.0,0.0],[0.0,1.0,2.0,3.0,4.0,5.0,4.0,3.0,2.0,2.0,1.0,1.0,1.0,2.0,3.0,3.0,4.0,5.0,6.0,5.0,5.0,4.0,4.0,3.0,3.0,4.0,4.0,3.0,3.0,2.0,2.0,2.0,1.0,1.0,1.0,1.0,0.0,0.0,0.0,0.0,0.0,0.0,0.0,0.0,0.0],[0.0,1.0,2.0,3.0,4.0,5.0,4.0,3.0,2.0,2.0,1.0,1.0,1.0,2.0,3.0,3.0,4.0,5.0,6.0,5.0,5.0,4.0,4.0,3.0,3.0,4.0,4.0,3.0,3.0,3.0,2.0,2.0,2.0,1.0,1.0,1.0,1.0,0.0,0.0,0.0,0.0,0.0,0.0,0.0,0.0,0.0],[0.0,1.0,2.0,3.0,4.0,5.0,4.0,3.0,2.0,2.0,1.0,1.0,1.0,2.0,3.0,3.0,4.0,5.0,6.0,5.0,5.0,4.0,4.0,3.0,3.0,4.0,4.0,2.0,3.0,3.0,3.0,2.0,2.0,2.0,1.0,1.0,1.0,1.0,0.0,0.0,0.0,0.0,0.0,0.0,0.0,0.0,0.0],[0.0,1.0,2.0,3.0,4.0,5.0,4.0,3.0,2.0,2.0,1.0,1.0,1.0,2.0,3.0,3.0,4.0,5.0,7.0,6.0,5.0,5.0,4.0,4.0,3.0,3.0,4.0,4.0,2.0,3.0,3.0,3.0,2.0,2.0,2.0,1.0,1.0,1.0,1.0,0.0,0.0,0.0,0.0,0.0,0.0,0.0,0.0,0.0],[0.0,1.0,2.0,3.0,4.0,5.0,5.0,4.0,3.0,2.0,2.0,1.0,1.0,1.0,2.0,3.0,3.0,4.0,5.0,7.0,6.0,5.0,5.0,4.0,4.0,3.0,3.0,4.0,4.0,2.0,3.0,3.0,3.0,2.0,2.0,2.0,1.0,1.0,1.0,1.0,0.0,0.0,0.0,0.0,0.0,0.0,0.0,0.0,0.0],[0.0,1.0,2.0,3.0,4.0,5.0,5.0,4.0,3.0,2.0,2.0,1.0,1.0,1.0,2.0,3.0,3.0,4.0,5.0,7.0,7.0,6.0,5.0,5.0,4.0,4.0,3.0,3.0,4.0,4.0,2.0,3.0,3.0,3.0,2.0,2.0,2.0,1.0,1.0,1.0,1.0,0.0,0.0,0.0,0.0,0.0,0.0,0.0,0.0,0.0],[0.0,1.0,2.0,3.0,4.0,5.0,5.0,4.0,3.0,2.0,2.0,1.0,1.0,1.0,2.0,3.0,3.0,4.0,5.0,7.0,7.0,6.0,5.0,5.0,4.0,4.0,3.0,3.0,4.0,4.0,2.0,3.0,4.0,3.0,3.0,2.0,2.0,2.0,1.0,1.0,1.0,1.0,0.0,0.0,0.0,0.0,0.0,0.0,0.0,0.0,0.0],[0.0,1.0,2.0,3.0,4.0,5.0,5.0,4.0,3.0,2.0,2.0,1.0,1.0,1.0,2.0,3.0,3.0,4.0,5.0,7.0,7.0,6.0,6.0,5.0,5.0,4.0,4.0,3.0,3.0,4.0,4.0,2.0,3.0,4.0,3.0,3.0,2.0,2.0,2.0,1.0,1.0,1.0,1.0,0.0,0.0,0.0,0.0,0.0,0.0,0.0,0.0,0.0],[0.0,1.0,2.0,3.0,4.0,5.0,5.0,4.0,3.0,2.0,2.0,1.0,1.0,1.0,2.0,3.0,3.0,4.0,5.0,7.0,7.0,7.0,6.0,6.0,5.0,5.0,4.0,4.0,3.0,3.0,4.0,4.0,2.0,3.0,4.0,3.0,3.0,2.0,2.0,2.0,1.0,1.0,1.0,1.0,0.0,0.0,0.0,0.0,0.0,0.0,0.0,0.0,0.0],[0.0,1.0,2.0,3.0,4.0,5.0,5.0,4.0,3.0,2.0,2.0,1.0,1.0,1.0,2.0,3.0,3.0,4.0,5.0,7.0,7.0,7.0,7.0,6.0,6.0,5.0,5.0,4.0,4.0,3.0,3.0,4.0,4.0,2.0,3.0,4.0,3.0,3.0,2.0,2.0,2.0,1.0,1.0,1.0,1.0,0.0,0.0,0.0,0.0,0.0,0.0,0.0,0.0,0.0],[0.0,1.0,2.0,3.0,4.0,5.0,5.0,4.0,3.0,2.0,2.0,1.0,1.0,1.0,2.0,3.0,3.0,4.0,5.0,7.0,8.0,7.0,7.0,7.0,6.0,6.0,5.0,5.0,4.0,4.0,3.0,3.0,4.0,4.0,2.0,3.0,4.0,3.0,3.0,2.0,2.0,2.0,1.0,1.0,1.0,1.0,0.0,0.0,0.0,0.0,0.0,0.0,0.0,0.0,0.0],[0.0,1.0,2.0,3.0,4.0,5.0,5.0,4.0,3.0,2.0,2.0,1.0,1.0,1.0,2.0,3.0,3.0,4.0,5.0,7.0,8.0,7.0,7.0,8.0,7.0,6.0,6.0,5.0,5.0,4.0,4.0,3.0,3.0,4.0,4.0,2.0,3.0,4.0,3.0,3.0,2.0,2.0,2.0,1.0,1.0,1.0,1.0,0.0,0.0,0.0,0.0,0.0,0.0,0.0,0.0,0.0],[0.0,1.0,2.0,3.0,4.0,5.0,5.0,4.0,3.0,2.0,2.0,1.0,1.0,1.0,2.0,3.0,3.0,4.0,5.0,7.0,7.0,8.0,7.0,7.0,8.0,7.0,6.0,6.0,5.0,5.0,4.0,4.0,3.0,3.0,4.0,4.0,2.0,3.0,4.0,3.0,3.0,2.0,2.0,2.0,1.0,1.0,1.0,1.0,0.0,0.0,0.0,0.0,0.0,0.0,0.0,0.0,0.0],[0.0,1.0,2.0,3.0,4.0,5.0,5.0,4.0,3.0,2.0,2.0,1.0,1.0,1.0,2.0,3.0,3.0,4.0,5.0,7.0,7.0,8.0,7.0,7.0,8.0,7.0,6.0,6.0,6.0,5.0,5.0,4.0,4.0,3.0,3.0,4.0,4.0,2.0,3.0,4.0,3.0,3.0,2.0,2.0,2.0,1.0,1.0,1.0,1.0,0.0,0.0,0.0,0.0,0.0,0.0,0.0,0.0,0.0],[0.0,1.0,2.0,3.0,4.0,5.0,5.0,4.0,3.0,2.0,2.0,1.0,1.0,1.0,2.0,3.0,3.0,4.0,5.0,7.0,7.0,8.0,7.0,7.0,8.0,7.0,6.0,6.0,6.0,6.0,5.0,5.0,4.0,4.0,3.0,3.0,4.0,4.0,2.0,3.0,4.0,3.0,3.0,2.0,2.0,2.0,1.0,1.0,1.0,1.0,0.0,0.0,0.0,0.0,0.0,0.0,0.0,0.0,0.0],[0.0,1.0,2.0,3.0,4.0,5.0,5.0,4.0,3.0,2.0,2.0,1.0,1.0,1.0,2.0,3.0,3.0,4.0,5.0,7.0,7.0,8.0,8.0,7.0,7.0,8.0,7.0,6.0,6.0,6.0,6.0,5.0,5.0,4.0,4.0,3.0,3.0,4.0,4.0,2.0,3.0,4.0,3.0,3.0,2.0,2.0,2.0,1.0,1.0,1.0,1.0,0.0,0.0,0.0,0.0,0.0,0.0,0.0,0.0,0.0],[0.0,1.0,2.0,3.0,4.0,5.0,5.0,4.0,3.0,2.0,2.0,1.0,1.0,1.0,2.0,3.0,3.0,4.0,5.0,7.0,7.0,8.0,8.0,7.0,7.0,8.0,7.0,6.0,5.0,6.0,6.0,6.0,5.0,5.0,4.0,4.0,3.0,3.0,4.0,4.0,2.0,3.0,4.0,3.0,3.0,2.0,2.0,2.0,1.0,1.0,1.0,1.0,0.0,0.0,0.0,0.0,0.0,0.0,0.0,0.0,0.0],[0.0,1.0,2.0,3.0,4.0,5.0,5.0,4.0,3.0,2.0,2.0,1.0,1.0,1.0,2.0,3.0,3.0,4.0,5.0,7.0,7.0,8.0,8.0,7.0,7.0,8.0,7.0,7.0,6.0,5.0,6.0,6.0,6.0,5.0,5.0,4.0,4.0,3.0,3.0,4.0,4.0,2.0,3.0,4.0,3.0,3.0,2.0,2.0,2.0,1.0,1.0,1.0,1.0,0.0,0.0,0.0,0.0,0.0,0.0,0.0,0.0,0.0],[0.0,1.0,2.0,3.0,4.0,5.0,5.0,4.0,3.0,2.0,2.0,1.0,1.0,1.0,2.0,3.0,3.0,4.0,5.0,7.0,8.0,7.0,8.0,8.0,7.0,7.0,8.0,7.0,7.0,6.0,5.0,6.0,6.0,6.0,5.0,5.0,4.0,4.0,3.0,3.0,4.0,4.0,2.0,3.0,4.0,3.0,3.0,2.0,2.0,2.0,1.0,1.0,1.0,1.0,0.0,0.0,0.0,0.0,0.0,0.0,0.0,0.0,0.0],[0.0,1.0,2.0,3.0,4.0,5.0,5.0,4.0,3.0,2.0,2.0,1.0,1.0,1.0,2.0,3.0,3.0,4.0,5.0,7.0,8.0,7.0,8.0,8.0,7.0,7.0,8.0,8.0,7.0,7.0,6.0,5.0,6.0,6.0,6.0,5.0,5.0,4.0,4.0,3.0,3.0,4.0,4.0,2.0,3.0,4.0,3.0,3.0,2.0,2.0,2.0,1.0,1.0,1.0,1.0,0.0,0.0,0.0,0.0,0.0,0.0,0.0,0.0,0.0],[0.0,1.0,2.0,3.0,4.0,5.0,5.0,4.0,3.0,2.0,2.0,1.0,1.0,1.0,2.0,3.0,3.0,4.0,5.0,7.0,8.0,7.0,8.0,8.0,7.0,7.0,8.0,8.0,7.0,7.0,7.0,6.0,5.0,6.0,6.0,6.0,5.0,5.0,4.0,4.0,3.0,3.0,4.0,4.0,2.0,3.0,4.0,3.0,3.0,2.0,2.0,2.0,1.0,1.0,1.0,1.0,0.0,0.0,0.0,0.0,0.0,0.0,0.0,0.0,0.0],[0.0,1.0,2.0,3.0,4.0,5.0,5.0,4.0,3.0,2.0,2.0,1.0,1.0,1.0,2.0,3.0,3.0,4.0,5.0,7.0,8.0,7.0,8.0,8.0,7.0,7.0,8.0,8.0,7.0,7.0,7.0,6.0,6.0,5.0,6.0,6.0,6.0,5.0,5.0,4.0,4.0,3.0,3.0,4.0,4.0,2.0,3.0,4.0,3.0,3.0,2.0,2.0,2.0,1.0,1.0,1.0,1.0,0.0,0.0,0.0,0.0,0.0,0.0,0.0,0.0,0.0],[0.0,1.0,2.0,3.0,4.0,5.0,5.0,4.0,3.0,2.0,2.0,1.0,1.0,1.0,2.0,3.0,3.0,4.0,5.0,7.0,8.0,7.0,8.0,8.0,7.0,7.0,8.0,8.0,7.0,7.0,8.0,7.0,6.0,6.0,5.0,6.0,6.0,6.0,5.0,5.0,4.0,4.0,3.0,3.0,4.0,4.0,2.0,3.0,4.0,3.0,3.0,2.0,2.0,2.0,1.0,1.0,1.0,1.0,0.0,0.0,0.0,0.0,0.0,0.0,0.0,0.0,0.0],[0.0,1.0,2.0,3.0,4.0,5.0,5.0,4.0,3.0,2.0,2.0,1.0,1.0,1.0,2.0,3.0,3.0,4.0,5.0,7.0,7.0,8.0,7.0,8.0,8.0,7.0,7.0,8.0,8.0,7.0,7.0,8.0,7.0,6.0,6.0,5.0,6.0,6.0,6.0,5.0,5.0,4.0,4.0,3.0,3.0,4.0,4.0,2.0,3.0,4.0,3.0,3.0,2.0,2.0,2.0,1.0,1.0,1.0,1.0,0.0,0.0,0.0,0.0,0.0,0.0,0.0,0.0,0.0],[0.0,1.0,2.0,3.0,4.0,5.0,5.0,4.0,3.0,2.0,2.0,1.0,1.0,1.0,2.0,3.0,3.0,4.0,5.0,7.0,7.0,8.0,7.0,8.0,8.0,7.0,7.0,8.0,8.0,7.0,7.0,8.0,7.0,6.0,5.0,6.0,5.0,6.0,6.0,6.0,5.0,5.0,4.0,4.0,3.0,3.0,4.0,4.0,2.0,3.0,4.0,3.0,3.0,2.0,2.0,2.0,1.0,1.0,1.0,1.0,0.0,0.0,0.0,0.0,0.0,0.0,0.0,0.0,0.0],[0.0,1.0,2.0,3.0,4.0,5.0,5.0,4.0,3.0,2.0,2.0,1.0,1.0,1.0,2.0,3.0,3.0,4.0,5.0,6.0,7.0,7.0,8.0,7.0,8.0,8.0,7.0,7.0,8.0,8.0,7.0,7.0,8.0,7.0,6.0,5.0,6.0,5.0,6.0,6.0,6.0,5.0,5.0,4.0,4.0,3.0,3.0,4.0,4.0,2.0,3.0,4.0,3.0,3.0,2.0,2.0,2.0,1.0,1.0,1.0,1.0,0.0,0.0,0.0,0.0,0.0,0.0,0.0,0.0,0.0],[0.0,1.0,2.0,3.0,4.0,5.0,5.0,4.0,3.0,2.0,2.0,1.0,1.0,1.0,2.0,3.0,3.0,4.0,5.0,6.0,7.0,7.0,8.0,7.0,8.0,8.0,7.0,7.0,8.0,8.0,7.0,7.0,8.0,7.0,6.0,5.0,6.0,5.0,6.0,6.0,6.0,5.0,5.0,4.0,4.0,3.0,3.0,4.0,4.0,2.0,3.0,4.0,4.0,3.0,3.0,2.0,2.0,2.0,1.0,1.0,1.0,1.0,0.0,0.0,0.0,0.0,0.0,0.0,0.0,0.0,0.0],[0.0,1.0,2.0,3.0,4.0,5.0,5.0,4.0,3.0,2.0,2.0,1.0,1.0,1.0,2.0,3.0,3.0,4.0,5.0,6.0,6.0,7.0,7.0,8.0,7.0,8.0,8.0,7.0,7.0,8.0,8.0,7.0,7.0,8.0,7.0,6.0,5.0,6.0,5.0,6.0,6.0,6.0,5.0,5.0,4.0,4.0,3.0,3.0,4.0,4.0,2.0,3.0,4.0,4.0,3.0,3.0,2.0,2.0,2.0,1.0,1.0,1.0,1.0,0.0,0.0,0.0,0.0,0.0,0.0,0.0,0.0,0.0],[0.0,1.0,2.0,3.0,4.0,5.0,5.0,4.0,3.0,2.0,2.0,1.0,1.0,1.0,2.0,3.0,3.0,4.0,5.0,6.0,6.0,7.0,7.0,8.0,7.0,8.0,8.0,7.0,7.0,8.0,8.0,7.0,7.0,8.0,7.0,6.0,5.0,6.0,5.0,5.0,6.0,6.0,6.0,5.0,5.0,4.0,4.0,3.0,3.0,4.0,4.0,2.0,3.0,4.0,4.0,3.0,3.0,2.0,2.0,2.0,1.0,1.0,1.0,1.0,0.0,0.0,0.0,0.0,0.0,0.0,0.0,0.0,0.0],[0.0,1.0,2.0,3.0,4.0,5.0,5.0,4.0,3.0,2.0,2.0,1.0,1.0,1.0,2.0,3.0,3.0,4.0,5.0,6.0,6.0,7.0,7.0,8.0,7.0,8.0,8.0,7.0,7.0,8.0,8.0,7.0,7.0,8.0,7.0,6.0,5.0,6.0,5.0,5.0,6.0,6.0,6.0,5.0,5.0,4.0,4.0,3.0,3.0,4.0,4.0,2.0,2.0,3.0,4.0,4.0,3.0,3.0,2.0,2.0,2.0,1.0,1.0,1.0,1.0,0.0,0.0,0.0,0.0,0.0,0.0,0.0,0.0,0.0],[0.0,1.0,2.0,3.0,4.0,5.0,5.0,4.0,3.0,2.0,2.0,1.0,1.0,1.0,2.0,3.0,3.0,4.0,5.0,6.0,6.0,7.0,7.0,8.0,7.0,8.0,8.0,7.0,7.0,8.0,8.0,7.0,7.0,8.0,7.0,7.0,6.0,5.0,6.0,5.0,5.0,6.0,6.0,6.0,5.0,5.0,4.0,4.0,3.0,3.0,4.0,4.0,2.0,2.0,3.0,4.0,4.0,3.0,3.0,2.0,2.0,2.0,1.0,1.0,1.0,1.0,0.0,0.0,0.0,0.0,0.0,0.0,0.0,0.0,0.0],[0.0,1.0,2.0,3.0,4.0,5.0,5.0,4.0,3.0,2.0,2.0,1.0,1.0,1.0,2.0,3.0,3.0,4.0,5.0,6.0,6.0,7.0,7.0,8.0,7.0,8.0,8.0,7.0,7.0,8.0,8.0,7.0,7.0,8.0,7.0,7.0,6.0,5.0,6.0,5.0,5.0,6.0,6.0,6.0,5.0,5.0,4.0,4.0,3.0,3.0,4.0,4.0,2.0,2.0,3.0,4.0,4.0,3.0,3.0,2.0,2.0,2.0,1.0,1.0,1.0,1.0,1.0,0.0,0.0,0.0,0.0,0.0,0.0,0.0,0.0,0.0],[0.0,1.0,2.0,3.0,4.0,5.0,5.0,4.0,3.0,2.0,2.0,1.0,1.0,1.0,2.0,3.0,3.0,4.0,5.0,6.0,6.0,7.0,7.0,8.0,7.0,8.0,8.0,7.0,7.0,8.0,8.0,8.0,7.0,7.0,8.0,7.0,7.0,6.0,5.0,6.0,5.0,5.0,6.0,6.0,6.0,5.0,5.0,4.0,4.0,3.0,3.0,4.0,4.0,2.0,2.0,3.0,4.0,4.0,3.0,3.0,2.0,2.0,2.0,1.0,1.0,1.0,1.0,1.0,0.0,0.0,0.0,0.0,0.0,0.0,0.0,0.0,0.0],[0.0,1.0,2.0,3.0,4.0,5.0,5.0,4.0,3.0,2.0,2.0,1.0,1.0,1.0,2.0,3.0,3.0,4.0,5.0,6.0,6.0,7.0,7.0,8.0,8.0,7.0,8.0,8.0,7.0,7.0,8.0,8.0,8.0,7.0,7.0,8.0,7.0,7.0,6.0,5.0,6.0,5.0,5.0,6.0,6.0,6.0,5.0,5.0,4.0,4.0,3.0,3.0,4.0,4.0,2.0,2.0,3.0,4.0,4.0,3.0,3.0,2.0,2.0,2.0,1.0,1.0,1.0,1.0,1.0,0.0,0.0,0.0,0.0,0.0,0.0,0.0,0.0,0.0],[0.0,1.0,2.0,3.0,4.0,5.0,5.0,4.0,3.0,2.0,2.0,1.0,1.0,1.0,2.0,3.0,3.0,4.0,5.0,6.0,6.0,7.0,7.0,8.0,8.0,7.0,8.0,8.0,7.0,7.0,8.0,8.0,8.0,7.0,7.0,8.0,8.0,7.0,7.0,6.0,5.0,6.0,5.0,5.0,6.0,6.0,6.0,5.0,5.0,4.0,4.0,3.0,3.0,4.0,4.0,2.0,2.0,3.0,4.0,4.0,3.0,3.0,2.0,2.0,2.0,1.0,1.0,1.0,1.0,1.0,0.0,0.0,0.0,0.0,0.0,0.0,0.0,0.0,0.0],[0.0,1.0,2.0,3.0,4.0,5.0,5.0,4.0,3.0,2.0,2.0,1.0,1.0,1.0,2.0,3.0,3.0,4.0,5.0,6.0,6.0,7.0,7.0,8.0,8.0,7.0,8.0,8.0,7.0,7.0,8.0,8.0,8.0,7.0,7.0,8.0,8.0,7.0,7.0,6.0,5.0,5.0,6.0,5.0,5.0,6.0,6.0,6.0,5.0,5.0,4.0,4.0,3.0,3.0,4.0,4.0,2.0,2.0,3.0,4.0,4.0,3.0,3.0,2.0,2.0,2.0,1.0,1.0,1.0,1.0,1.0,0.0,0.0,0.0,0.0,0.0,0.0,0.0,0.0,0.0],[0.0,1.0,2.0,3.0,4.0,5.0,5.0,4.0,3.0,2.0,2.0,1.0,1.0,1.0,2.0,3.0,3.0,4.0,5.0,6.0,6.0,7.0,7.0,8.0,8.0,7.0,8.0,8.0,7.0,7.0,8.0,8.0,8.0,7.0,7.0,8.0,8.0,7.0,7.0,6.0,6.0,5.0,5.0,6.0,5.0,5.0,6.0,6.0,6.0,5.0,5.0,4.0,4.0,3.0,3.0,4.0,4.0,2.0,2.0,3.0,4.0,4.0,3.0,3.0,2.0,2.0,2.0,1.0,1.0,1.0,1.0,1.0,0.0,0.0,0.0,0.0,0.0,0.0,0.0,0.0,0.0],[0.0,1.0,2.0,3.0,4.0,5.0,6.0,5.0,4.0,3.0,2.0,2.0,1.0,1.0,1.0,2.0,3.0,3.0,4.0,5.0,6.0,6.0,7.0,7.0,8.0,8.0,7.0,8.0,8.0,7.0,7.0,8.0,8.0,8.0,7.0,7.0,8.0,8.0,7.0,7.0,6.0,6.0,5.0,5.0,6.0,5.0,5.0,6.0,6.0,6.0,5.0,5.0,4.0,4.0,3.0,3.0,4.0,4.0,2.0,2.0,3.0,4.0,4.0,3.0,3.0,2.0,2.0,2.0,1.0,1.0,1.0,1.0,1.0,0.0,0.0,0.0,0.0,0.0,0.0,0.0,0.0,0.0],[0.0,1.0,2.0,3.0,4.0,5.0,6.0,5.0,4.0,3.0,2.0,2.0,1.0,1.0,1.0,2.0,3.0,3.0,4.0,5.0,6.0,6.0,7.0,7.0,8.0,8.0,7.0,8.0,8.0,7.0,7.0,8.0,8.0,8.0,7.0,7.0,8.0,8.0,7.0,7.0,6.0,6.0,5.0,5.0,6.0,5.0,5.0,6.0,6.0,6.0,5.0,5.0,4.0,4.0,3.0,3.0,4.0,4.0,2.0,2.0,3.0,4.0,4.0,3.0,3.0,2.0,2.0,2.0,1.0,1.0,1.0,1.0,1.0,0.0,0.0,0.0,0.0,0.0,0.0,0.0,0.0,0.0]],\"edges_y\":[[0.0,1.0,0.0],[0.0,1.0,1.0,0.0],[0.0,1.0,2.0,1.0,0.0],[0.0,0.0,1.0,2.0,1.0,0.0],[0.0,0.0,1.0,2.0,2.0,1.0,0.0],[0.0,0.0,0.0,1.0,2.0,2.0,1.0,0.0],[0.0,0.0,0.0,1.0,2.0,3.0,2.0,1.0,0.0],[0.0,0.0,0.0,1.0,2.0,4.0,3.0,2.0,1.0,0.0],[0.0,0.0,0.0,0.0,1.0,2.0,4.0,3.0,2.0,1.0,0.0],[0.0,0.0,0.0,0.0,2.0,1.0,2.0,4.0,3.0,2.0,1.0,0.0],[0.0,0.0,0.0,0.0,2.0,1.0,2.0,5.0,4.0,3.0,2.0,1.0,0.0],[0.0,0.0,0.0,0.0,2.0,1.0,2.0,6.0,5.0,4.0,3.0,2.0,1.0,0.0],[0.0,0.0,0.0,0.0,1.0,2.0,1.0,2.0,6.0,5.0,4.0,3.0,2.0,1.0,0.0],[0.0,0.0,0.0,0.0,1.0,2.0,1.0,2.0,3.0,6.0,5.0,4.0,3.0,2.0,1.0,0.0],[0.0,0.0,0.0,0.0,1.0,2.0,1.0,2.0,3.0,4.0,6.0,5.0,4.0,3.0,2.0,1.0,0.0],[0.0,0.0,0.0,0.0,1.0,1.0,2.0,1.0,2.0,3.0,4.0,6.0,5.0,4.0,3.0,2.0,1.0,0.0],[0.0,0.0,0.0,0.0,1.0,1.0,2.0,1.0,2.0,3.0,4.0,4.0,6.0,5.0,4.0,3.0,2.0,1.0,0.0],[0.0,0.0,0.0,0.0,1.0,1.0,2.0,1.0,2.0,3.0,3.0,4.0,4.0,6.0,5.0,4.0,3.0,2.0,1.0,0.0],[0.0,0.0,0.0,0.0,1.0,1.0,2.0,1.0,2.0,3.0,3.0,4.0,4.0,4.0,6.0,5.0,4.0,3.0,2.0,1.0,0.0],[0.0,0.0,0.0,0.0,1.0,1.0,2.0,1.0,2.0,3.0,3.0,4.0,4.0,4.0,4.0,6.0,5.0,4.0,3.0,2.0,1.0,0.0],[0.0,0.0,0.0,0.0,1.0,1.0,2.0,1.0,2.0,3.0,3.0,3.0,4.0,4.0,4.0,4.0,6.0,5.0,4.0,3.0,2.0,1.0,0.0],[0.0,0.0,0.0,0.0,1.0,1.0,2.0,1.0,2.0,3.0,3.0,3.0,4.0,4.0,4.0,4.0,5.0,6.0,5.0,4.0,3.0,2.0,1.0,0.0],[0.0,0.0,0.0,0.0,0.0,1.0,1.0,2.0,1.0,2.0,3.0,3.0,3.0,4.0,4.0,4.0,4.0,5.0,6.0,5.0,4.0,3.0,2.0,1.0,0.0],[0.0,0.0,0.0,0.0,0.0,1.0,1.0,2.0,1.0,2.0,3.0,3.0,3.0,3.0,4.0,4.0,4.0,4.0,5.0,6.0,5.0,4.0,3.0,2.0,1.0,0.0],[0.0,0.0,0.0,0.0,0.0,1.0,1.0,2.0,1.0,2.0,3.0,3.0,3.0,2.0,3.0,4.0,4.0,4.0,4.0,5.0,6.0,5.0,4.0,3.0,2.0,1.0,0.0],[0.0,0.0,0.0,0.0,0.0,1.0,1.0,2.0,1.0,2.0,3.0,3.0,3.0,2.0,3.0,3.0,4.0,4.0,4.0,4.0,5.0,6.0,5.0,4.0,3.0,2.0,1.0,0.0],[0.0,0.0,0.0,0.0,0.0,1.0,1.0,2.0,1.0,2.0,3.0,3.0,3.0,2.0,3.0,3.0,4.0,4.0,4.0,4.0,5.0,7.0,6.0,5.0,4.0,3.0,2.0,1.0,0.0],[0.0,0.0,0.0,0.0,0.0,1.0,1.0,2.0,1.0,2.0,3.0,3.0,3.0,2.0,3.0,3.0,4.0,4.0,4.0,4.0,5.0,6.0,7.0,6.0,5.0,4.0,3.0,2.0,1.0,0.0],[0.0,0.0,0.0,0.0,0.0,1.0,1.0,1.0,2.0,1.0,2.0,3.0,3.0,3.0,2.0,3.0,3.0,4.0,4.0,4.0,4.0,5.0,6.0,7.0,6.0,5.0,4.0,3.0,2.0,1.0,0.0],[0.0,0.0,0.0,0.0,0.0,1.0,1.0,1.0,2.0,1.0,2.0,3.0,3.0,3.0,2.0,2.0,3.0,3.0,4.0,4.0,4.0,4.0,5.0,6.0,7.0,6.0,5.0,4.0,3.0,2.0,1.0,0.0],[0.0,0.0,0.0,0.0,0.0,1.0,1.0,1.0,2.0,1.0,2.0,3.0,3.0,3.0,2.0,2.0,3.0,3.0,4.0,4.0,5.0,4.0,4.0,5.0,6.0,7.0,6.0,5.0,4.0,3.0,2.0,1.0,0.0],[0.0,0.0,0.0,0.0,0.0,1.0,1.0,1.0,2.0,1.0,2.0,3.0,3.0,3.0,2.0,2.0,3.0,3.0,4.0,4.0,5.0,4.0,4.0,5.0,6.0,7.0,7.0,6.0,5.0,4.0,3.0,2.0,1.0,0.0],[0.0,0.0,0.0,0.0,0.0,1.0,1.0,1.0,2.0,1.0,2.0,3.0,3.0,3.0,2.0,2.0,3.0,3.0,4.0,4.0,5.0,5.0,4.0,4.0,5.0,6.0,7.0,7.0,6.0,5.0,4.0,3.0,2.0,1.0,0.0],[0.0,0.0,0.0,0.0,0.0,1.0,1.0,1.0,1.0,2.0,1.0,2.0,3.0,3.0,3.0,2.0,2.0,3.0,3.0,4.0,4.0,5.0,5.0,4.0,4.0,5.0,6.0,7.0,7.0,6.0,5.0,4.0,3.0,2.0,1.0,0.0],[0.0,0.0,0.0,0.0,0.0,1.0,1.0,1.0,1.0,2.0,1.0,2.0,3.0,3.0,3.0,2.0,2.0,2.0,3.0,3.0,4.0,4.0,5.0,5.0,4.0,4.0,5.0,6.0,7.0,7.0,6.0,5.0,4.0,3.0,2.0,1.0,0.0],[0.0,0.0,0.0,0.0,0.0,1.0,1.0,1.0,1.0,2.0,1.0,2.0,3.0,3.0,3.0,2.0,2.0,2.0,3.0,3.0,3.0,4.0,4.0,5.0,5.0,4.0,4.0,5.0,6.0,7.0,7.0,6.0,5.0,4.0,3.0,2.0,1.0,0.0],[0.0,0.0,0.0,0.0,0.0,1.0,1.0,1.0,1.0,2.0,1.0,2.0,3.0,3.0,3.0,2.0,2.0,2.0,3.0,4.0,3.0,3.0,4.0,4.0,5.0,5.0,4.0,4.0,5.0,6.0,7.0,7.0,6.0,5.0,4.0,3.0,2.0,1.0,0.0],[0.0,0.0,0.0,0.0,0.0,1.0,1.0,1.0,1.0,2.0,1.0,2.0,3.0,3.0,3.0,2.0,2.0,2.0,3.0,4.0,3.0,3.0,4.0,4.0,5.0,6.0,5.0,4.0,4.0,5.0,6.0,7.0,7.0,6.0,5.0,4.0,3.0,2.0,1.0,0.0],[0.0,0.0,0.0,0.0,0.0,1.0,1.0,1.0,1.0,2.0,1.0,2.0,3.0,3.0,3.0,2.0,2.0,2.0,3.0,4.0,3.0,3.0,4.0,4.0,5.0,6.0,6.0,5.0,4.0,4.0,5.0,6.0,7.0,7.0,6.0,5.0,4.0,3.0,2.0,1.0,0.0],[0.0,0.0,0.0,0.0,0.0,1.0,1.0,1.0,1.0,2.0,1.0,2.0,3.0,3.0,3.0,2.0,2.0,2.0,3.0,4.0,3.0,3.0,4.0,4.0,5.0,6.0,6.0,5.0,4.0,4.0,5.0,6.0,7.0,8.0,7.0,6.0,5.0,4.0,3.0,2.0,1.0,0.0],[0.0,0.0,0.0,0.0,0.0,1.0,1.0,1.0,1.0,2.0,1.0,2.0,3.0,3.0,3.0,2.0,2.0,2.0,3.0,4.0,3.0,3.0,4.0,4.0,5.0,6.0,6.0,6.0,5.0,4.0,4.0,5.0,6.0,7.0,8.0,7.0,6.0,5.0,4.0,3.0,2.0,1.0,0.0],[0.0,0.0,0.0,0.0,0.0,1.0,1.0,1.0,1.0,2.0,1.0,2.0,3.0,3.0,3.0,2.0,2.0,2.0,3.0,4.0,3.0,3.0,4.0,4.0,5.0,6.0,7.0,6.0,6.0,5.0,4.0,4.0,5.0,6.0,7.0,8.0,7.0,6.0,5.0,4.0,3.0,2.0,1.0,0.0],[0.0,0.0,0.0,0.0,0.0,1.0,1.0,1.0,1.0,2.0,1.0,2.0,3.0,3.0,3.0,2.0,2.0,2.0,3.0,4.0,3.0,3.0,4.0,4.0,5.0,5.0,6.0,7.0,6.0,6.0,5.0,4.0,4.0,5.0,6.0,7.0,8.0,7.0,6.0,5.0,4.0,3.0,2.0,1.0,0.0],[0.0,0.0,0.0,0.0,0.0,1.0,1.0,1.0,1.0,2.0,1.0,2.0,3.0,3.0,3.0,2.0,2.0,2.0,3.0,4.0,3.0,3.0,4.0,4.0,5.0,5.0,6.0,8.0,7.0,6.0,6.0,5.0,4.0,4.0,5.0,6.0,7.0,8.0,7.0,6.0,5.0,4.0,3.0,2.0,1.0,0.0],[0.0,0.0,0.0,0.0,0.0,1.0,1.0,1.0,1.0,2.0,1.0,2.0,3.0,3.0,3.0,2.0,2.0,2.0,3.0,4.0,3.0,3.0,4.0,4.0,5.0,5.0,6.0,7.0,8.0,7.0,6.0,6.0,5.0,4.0,4.0,5.0,6.0,7.0,8.0,7.0,6.0,5.0,4.0,3.0,2.0,1.0,0.0],[0.0,0.0,0.0,0.0,0.0,1.0,1.0,1.0,1.0,2.0,1.0,2.0,3.0,3.0,3.0,2.0,2.0,2.0,3.0,3.0,4.0,3.0,3.0,4.0,4.0,5.0,5.0,6.0,7.0,8.0,7.0,6.0,6.0,5.0,4.0,4.0,5.0,6.0,7.0,8.0,7.0,6.0,5.0,4.0,3.0,2.0,1.0,0.0],[0.0,0.0,0.0,0.0,0.0,0.0,1.0,1.0,1.0,1.0,2.0,1.0,2.0,3.0,3.0,3.0,2.0,2.0,2.0,3.0,3.0,4.0,3.0,3.0,4.0,4.0,5.0,5.0,6.0,7.0,8.0,7.0,6.0,6.0,5.0,4.0,4.0,5.0,6.0,7.0,8.0,7.0,6.0,5.0,4.0,3.0,2.0,1.0,0.0],[0.0,0.0,0.0,0.0,0.0,0.0,1.0,1.0,1.0,1.0,2.0,1.0,2.0,3.0,3.0,3.0,2.0,2.0,2.0,2.0,3.0,3.0,4.0,3.0,3.0,4.0,4.0,5.0,5.0,6.0,7.0,8.0,7.0,6.0,6.0,5.0,4.0,4.0,5.0,6.0,7.0,8.0,7.0,6.0,5.0,4.0,3.0,2.0,1.0,0.0],[0.0,0.0,0.0,0.0,0.0,0.0,1.0,1.0,1.0,1.0,2.0,1.0,2.0,3.0,3.0,3.0,2.0,2.0,2.0,2.0,3.0,3.0,4.0,3.0,3.0,4.0,4.0,5.0,5.0,6.0,7.0,8.0,8.0,7.0,6.0,6.0,5.0,4.0,4.0,5.0,6.0,7.0,8.0,7.0,6.0,5.0,4.0,3.0,2.0,1.0,0.0],[0.0,0.0,0.0,0.0,0.0,0.0,1.0,1.0,1.0,1.0,2.0,1.0,2.0,3.0,3.0,3.0,2.0,2.0,2.0,2.0,3.0,3.0,4.0,4.0,3.0,3.0,4.0,4.0,5.0,5.0,6.0,7.0,8.0,8.0,7.0,6.0,6.0,5.0,4.0,4.0,5.0,6.0,7.0,8.0,7.0,6.0,5.0,4.0,3.0,2.0,1.0,0.0],[0.0,0.0,0.0,0.0,0.0,0.0,1.0,1.0,1.0,1.0,2.0,1.0,2.0,3.0,3.0,3.0,2.0,2.0,2.0,2.0,3.0,4.0,3.0,4.0,4.0,3.0,3.0,4.0,4.0,5.0,5.0,6.0,7.0,8.0,8.0,7.0,6.0,6.0,5.0,4.0,4.0,5.0,6.0,7.0,8.0,7.0,6.0,5.0,4.0,3.0,2.0,1.0,0.0],[0.0,0.0,0.0,0.0,0.0,0.0,1.0,1.0,1.0,1.0,2.0,1.0,2.0,3.0,3.0,3.0,2.0,2.0,2.0,2.0,3.0,4.0,5.0,3.0,4.0,4.0,3.0,3.0,4.0,4.0,5.0,5.0,6.0,7.0,8.0,8.0,7.0,6.0,6.0,5.0,4.0,4.0,5.0,6.0,7.0,8.0,7.0,6.0,5.0,4.0,3.0,2.0,1.0,0.0],[0.0,0.0,0.0,0.0,0.0,0.0,1.0,1.0,1.0,1.0,2.0,1.0,2.0,3.0,3.0,3.0,2.0,2.0,2.0,2.0,3.0,3.0,4.0,5.0,3.0,4.0,4.0,3.0,3.0,4.0,4.0,5.0,5.0,6.0,7.0,8.0,8.0,7.0,6.0,6.0,5.0,4.0,4.0,5.0,6.0,7.0,8.0,7.0,6.0,5.0,4.0,3.0,2.0,1.0,0.0],[0.0,0.0,0.0,0.0,0.0,0.0,1.0,1.0,1.0,1.0,2.0,1.0,2.0,3.0,3.0,3.0,2.0,2.0,2.0,2.0,3.0,3.0,4.0,5.0,5.0,3.0,4.0,4.0,3.0,3.0,4.0,4.0,5.0,5.0,6.0,7.0,8.0,8.0,7.0,6.0,6.0,5.0,4.0,4.0,5.0,6.0,7.0,8.0,7.0,6.0,5.0,4.0,3.0,2.0,1.0,0.0],[0.0,0.0,0.0,0.0,0.0,0.0,1.0,1.0,1.0,1.0,2.0,1.0,2.0,3.0,3.0,3.0,2.0,2.0,2.0,1.0,2.0,3.0,3.0,4.0,5.0,5.0,3.0,4.0,4.0,3.0,3.0,4.0,4.0,5.0,5.0,6.0,7.0,8.0,8.0,7.0,6.0,6.0,5.0,4.0,4.0,5.0,6.0,7.0,8.0,7.0,6.0,5.0,4.0,3.0,2.0,1.0,0.0],[0.0,0.0,0.0,0.0,0.0,0.0,1.0,1.0,1.0,1.0,2.0,1.0,2.0,3.0,3.0,3.0,2.0,2.0,2.0,1.0,2.0,3.0,3.0,4.0,5.0,5.0,5.0,3.0,4.0,4.0,3.0,3.0,4.0,4.0,5.0,5.0,6.0,7.0,8.0,8.0,7.0,6.0,6.0,5.0,4.0,4.0,5.0,6.0,7.0,8.0,7.0,6.0,5.0,4.0,3.0,2.0,1.0,0.0],[0.0,0.0,0.0,0.0,0.0,0.0,1.0,1.0,1.0,1.0,2.0,1.0,2.0,3.0,3.0,3.0,2.0,2.0,2.0,1.0,2.0,3.0,3.0,4.0,5.0,5.0,6.0,5.0,3.0,4.0,4.0,3.0,3.0,4.0,4.0,5.0,5.0,6.0,7.0,8.0,8.0,7.0,6.0,6.0,5.0,4.0,4.0,5.0,6.0,7.0,8.0,7.0,6.0,5.0,4.0,3.0,2.0,1.0,0.0],[0.0,0.0,0.0,0.0,0.0,0.0,1.0,1.0,1.0,1.0,2.0,1.0,2.0,3.0,3.0,3.0,2.0,2.0,2.0,1.0,2.0,2.0,3.0,3.0,4.0,5.0,5.0,6.0,5.0,3.0,4.0,4.0,3.0,3.0,4.0,4.0,5.0,5.0,6.0,7.0,8.0,8.0,7.0,6.0,6.0,5.0,4.0,4.0,5.0,6.0,7.0,8.0,7.0,6.0,5.0,4.0,3.0,2.0,1.0,0.0],[0.0,0.0,0.0,0.0,0.0,0.0,1.0,1.0,1.0,1.0,2.0,1.0,2.0,3.0,3.0,3.0,2.0,2.0,2.0,1.0,2.0,2.0,3.0,3.0,4.0,5.0,5.0,6.0,6.0,5.0,3.0,4.0,4.0,3.0,3.0,4.0,4.0,5.0,5.0,6.0,7.0,8.0,8.0,7.0,6.0,6.0,5.0,4.0,4.0,5.0,6.0,7.0,8.0,7.0,6.0,5.0,4.0,3.0,2.0,1.0,0.0],[0.0,0.0,0.0,0.0,0.0,0.0,1.0,1.0,1.0,1.0,2.0,1.0,2.0,3.0,3.0,3.0,2.0,2.0,2.0,1.0,2.0,2.0,3.0,3.0,4.0,5.0,5.0,6.0,6.0,6.0,5.0,3.0,4.0,4.0,3.0,3.0,4.0,4.0,5.0,5.0,6.0,7.0,8.0,8.0,7.0,6.0,6.0,5.0,4.0,4.0,5.0,6.0,7.0,8.0,7.0,6.0,5.0,4.0,3.0,2.0,1.0,0.0],[0.0,0.0,0.0,0.0,0.0,0.0,1.0,1.0,1.0,1.0,2.0,1.0,2.0,3.0,3.0,3.0,2.0,2.0,2.0,1.0,1.0,2.0,2.0,3.0,3.0,4.0,5.0,5.0,6.0,6.0,6.0,5.0,3.0,4.0,4.0,3.0,3.0,4.0,4.0,5.0,5.0,6.0,7.0,8.0,8.0,7.0,6.0,6.0,5.0,4.0,4.0,5.0,6.0,7.0,8.0,7.0,6.0,5.0,4.0,3.0,2.0,1.0,0.0],[0.0,0.0,0.0,0.0,0.0,0.0,1.0,1.0,1.0,1.0,2.0,1.0,2.0,3.0,3.0,3.0,2.0,2.0,2.0,1.0,1.0,2.0,2.0,3.0,3.0,4.0,5.0,6.0,5.0,6.0,6.0,6.0,5.0,3.0,4.0,4.0,3.0,3.0,4.0,4.0,5.0,5.0,6.0,7.0,8.0,8.0,7.0,6.0,6.0,5.0,4.0,4.0,5.0,6.0,7.0,8.0,7.0,6.0,5.0,4.0,3.0,2.0,1.0,0.0],[0.0,0.0,0.0,0.0,0.0,0.0,1.0,1.0,1.0,1.0,2.0,1.0,2.0,3.0,3.0,3.0,2.0,2.0,2.0,1.0,1.0,2.0,2.0,3.0,3.0,4.0,5.0,6.0,5.0,6.0,7.0,6.0,6.0,5.0,3.0,4.0,4.0,3.0,3.0,4.0,4.0,5.0,5.0,6.0,7.0,8.0,8.0,7.0,6.0,6.0,5.0,4.0,4.0,5.0,6.0,7.0,8.0,7.0,6.0,5.0,4.0,3.0,2.0,1.0,0.0],[0.0,0.0,0.0,0.0,0.0,0.0,1.0,1.0,1.0,1.0,2.0,1.0,2.0,3.0,3.0,3.0,2.0,2.0,2.0,1.0,1.0,2.0,2.0,3.0,3.0,4.0,5.0,6.0,5.0,6.0,7.0,7.0,6.0,6.0,5.0,3.0,4.0,4.0,3.0,3.0,4.0,4.0,5.0,5.0,6.0,7.0,8.0,8.0,7.0,6.0,6.0,5.0,4.0,4.0,5.0,6.0,7.0,8.0,7.0,6.0,5.0,4.0,3.0,2.0,1.0,0.0],[0.0,0.0,0.0,0.0,0.0,0.0,1.0,1.0,1.0,1.0,2.0,1.0,2.0,3.0,3.0,3.0,2.0,2.0,2.0,1.0,1.0,2.0,2.0,3.0,3.0,4.0,5.0,6.0,5.0,6.0,7.0,7.0,7.0,6.0,6.0,5.0,3.0,4.0,4.0,3.0,3.0,4.0,4.0,5.0,5.0,6.0,7.0,8.0,8.0,7.0,6.0,6.0,5.0,4.0,4.0,5.0,6.0,7.0,8.0,7.0,6.0,5.0,4.0,3.0,2.0,1.0,0.0],[0.0,0.0,0.0,0.0,0.0,0.0,1.0,1.0,1.0,1.0,2.0,1.0,2.0,3.0,3.0,3.0,2.0,2.0,2.0,1.0,0.0,1.0,2.0,2.0,3.0,3.0,4.0,5.0,6.0,5.0,6.0,7.0,7.0,7.0,6.0,6.0,5.0,3.0,4.0,4.0,3.0,3.0,4.0,4.0,5.0,5.0,6.0,7.0,8.0,8.0,7.0,6.0,6.0,5.0,4.0,4.0,5.0,6.0,7.0,8.0,7.0,6.0,5.0,4.0,3.0,2.0,1.0,0.0],[0.0,0.0,0.0,0.0,0.0,0.0,1.0,1.0,1.0,1.0,2.0,1.0,2.0,3.0,3.0,3.0,2.0,2.0,2.0,1.0,0.0,1.0,2.0,2.0,3.0,3.0,4.0,5.0,6.0,5.0,6.0,7.0,7.0,7.0,7.0,6.0,6.0,5.0,3.0,4.0,4.0,3.0,3.0,4.0,4.0,5.0,5.0,6.0,7.0,8.0,8.0,7.0,6.0,6.0,5.0,4.0,4.0,5.0,6.0,7.0,8.0,7.0,6.0,5.0,4.0,3.0,2.0,1.0,0.0],[0.0,0.0,0.0,0.0,0.0,0.0,1.0,1.0,1.0,1.0,2.0,1.0,2.0,3.0,3.0,3.0,2.0,2.0,2.0,2.0,1.0,0.0,1.0,2.0,2.0,3.0,3.0,4.0,5.0,6.0,5.0,6.0,7.0,7.0,7.0,7.0,6.0,6.0,5.0,3.0,4.0,4.0,3.0,3.0,4.0,4.0,5.0,5.0,6.0,7.0,8.0,8.0,7.0,6.0,6.0,5.0,4.0,4.0,5.0,6.0,7.0,8.0,7.0,6.0,5.0,4.0,3.0,2.0,1.0,0.0],[0.0,0.0,0.0,0.0,0.0,0.0,1.0,1.0,1.0,1.0,2.0,1.0,2.0,3.0,3.0,3.0,2.0,2.0,2.0,2.0,1.0,0.0,1.0,2.0,2.0,3.0,3.0,4.0,5.0,6.0,5.0,6.0,7.0,7.0,7.0,7.0,6.0,6.0,5.0,3.0,4.0,4.0,3.0,3.0,4.0,4.0,5.0,5.0,6.0,7.0,8.0,8.0,7.0,7.0,6.0,6.0,5.0,4.0,4.0,5.0,6.0,7.0,8.0,7.0,6.0,5.0,4.0,3.0,2.0,1.0,0.0],[0.0,0.0,0.0,0.0,0.0,0.0,1.0,1.0,1.0,1.0,2.0,1.0,2.0,3.0,3.0,3.0,2.0,2.0,2.0,2.0,1.0,1.0,0.0,1.0,2.0,2.0,3.0,3.0,4.0,5.0,6.0,5.0,6.0,7.0,7.0,7.0,7.0,6.0,6.0,5.0,3.0,4.0,4.0,3.0,3.0,4.0,4.0,5.0,5.0,6.0,7.0,8.0,8.0,7.0,7.0,6.0,6.0,5.0,4.0,4.0,5.0,6.0,7.0,8.0,7.0,6.0,5.0,4.0,3.0,2.0,1.0,0.0],[0.0,0.0,0.0,0.0,0.0,0.0,1.0,1.0,1.0,1.0,2.0,1.0,2.0,3.0,3.0,3.0,2.0,2.0,2.0,2.0,1.0,1.0,0.0,1.0,2.0,2.0,3.0,3.0,4.0,5.0,6.0,5.0,6.0,7.0,7.0,7.0,7.0,6.0,6.0,5.0,5.0,3.0,4.0,4.0,3.0,3.0,4.0,4.0,5.0,5.0,6.0,7.0,8.0,8.0,7.0,7.0,6.0,6.0,5.0,4.0,4.0,5.0,6.0,7.0,8.0,7.0,6.0,5.0,4.0,3.0,2.0,1.0,0.0],[0.0,0.0,0.0,0.0,0.0,0.0,1.0,1.0,1.0,1.0,2.0,1.0,2.0,3.0,3.0,3.0,2.0,2.0,2.0,2.0,1.0,1.0,0.0,1.0,2.0,2.0,3.0,3.0,4.0,5.0,6.0,5.0,6.0,7.0,7.0,7.0,7.0,6.0,6.0,5.0,5.0,3.0,4.0,4.0,3.0,3.0,4.0,4.0,5.0,5.0,6.0,7.0,8.0,8.0,8.0,7.0,7.0,6.0,6.0,5.0,4.0,4.0,5.0,6.0,7.0,8.0,7.0,6.0,5.0,4.0,3.0,2.0,1.0,0.0],[0.0,0.0,0.0,0.0,0.0,0.0,1.0,1.0,1.0,1.0,2.0,1.0,2.0,3.0,3.0,3.0,2.0,2.0,2.0,2.0,1.0,1.0,0.0,1.0,2.0,2.0,3.0,3.0,4.0,5.0,6.0,5.0,6.0,7.0,8.0,7.0,7.0,7.0,6.0,6.0,5.0,5.0,3.0,4.0,4.0,3.0,3.0,4.0,4.0,5.0,5.0,6.0,7.0,8.0,8.0,8.0,7.0,7.0,6.0,6.0,5.0,4.0,4.0,5.0,6.0,7.0,8.0,7.0,6.0,5.0,4.0,3.0,2.0,1.0,0.0],[0.0,0.0,0.0,0.0,0.0,0.0,1.0,1.0,1.0,1.0,2.0,1.0,2.0,3.0,3.0,3.0,2.0,2.0,2.0,2.0,1.0,1.0,0.0,1.0,2.0,2.0,3.0,3.0,4.0,5.0,6.0,5.0,6.0,7.0,8.0,7.0,7.0,7.0,6.0,6.0,5.0,5.0,3.0,4.0,4.0,3.0,3.0,4.0,4.0,5.0,5.0,6.0,7.0,8.0,8.0,8.0,7.0,7.0,6.0,6.0,5.0,4.0,4.0,5.0,6.0,7.0,8.0,8.0,7.0,6.0,5.0,4.0,3.0,2.0,1.0,0.0],[0.0,0.0,0.0,0.0,0.0,0.0,1.0,1.0,1.0,1.0,2.0,1.0,2.0,3.0,3.0,3.0,2.0,2.0,2.0,2.0,1.0,1.0,0.0,1.0,2.0,2.0,3.0,3.0,4.0,4.0,5.0,6.0,5.0,6.0,7.0,8.0,7.0,7.0,7.0,6.0,6.0,5.0,5.0,3.0,4.0,4.0,3.0,3.0,4.0,4.0,5.0,5.0,6.0,7.0,8.0,8.0,8.0,7.0,7.0,6.0,6.0,5.0,4.0,4.0,5.0,6.0,7.0,8.0,8.0,7.0,6.0,5.0,4.0,3.0,2.0,1.0,0.0],[0.0,0.0,0.0,0.0,0.0,0.0,1.0,1.0,1.0,1.0,2.0,1.0,2.0,3.0,3.0,3.0,2.0,2.0,2.0,2.0,1.0,1.0,0.0,0.0,1.0,2.0,2.0,3.0,3.0,4.0,4.0,5.0,6.0,5.0,6.0,7.0,8.0,7.0,7.0,7.0,6.0,6.0,5.0,5.0,3.0,4.0,4.0,3.0,3.0,4.0,4.0,5.0,5.0,6.0,7.0,8.0,8.0,8.0,7.0,7.0,6.0,6.0,5.0,4.0,4.0,5.0,6.0,7.0,8.0,8.0,7.0,6.0,5.0,4.0,3.0,2.0,1.0,0.0],[0.0,0.0,0.0,0.0,0.0,0.0,1.0,1.0,1.0,1.0,2.0,1.0,2.0,3.0,3.0,3.0,2.0,2.0,2.0,2.0,1.0,1.0,0.0,0.0,1.0,2.0,2.0,3.0,3.0,4.0,4.0,5.0,6.0,5.0,6.0,7.0,8.0,8.0,7.0,7.0,7.0,6.0,6.0,5.0,5.0,3.0,4.0,4.0,3.0,3.0,4.0,4.0,5.0,5.0,6.0,7.0,8.0,8.0,8.0,7.0,7.0,6.0,6.0,5.0,4.0,4.0,5.0,6.0,7.0,8.0,8.0,7.0,6.0,5.0,4.0,3.0,2.0,1.0,0.0],[0.0,0.0,0.0,0.0,0.0,0.0,1.0,1.0,1.0,1.0,2.0,1.0,2.0,3.0,3.0,3.0,2.0,2.0,2.0,2.0,1.0,1.0,0.0,0.0,1.0,2.0,2.0,3.0,3.0,4.0,4.0,5.0,6.0,5.0,6.0,7.0,8.0,8.0,7.0,7.0,8.0,7.0,6.0,6.0,5.0,5.0,3.0,4.0,4.0,3.0,3.0,4.0,4.0,5.0,5.0,6.0,7.0,8.0,8.0,8.0,7.0,7.0,6.0,6.0,5.0,4.0,4.0,5.0,6.0,7.0,8.0,8.0,7.0,6.0,5.0,4.0,3.0,2.0,1.0,0.0],[0.0,0.0,0.0,0.0,0.0,0.0,1.0,1.0,1.0,1.0,2.0,1.0,2.0,3.0,3.0,3.0,2.0,2.0,2.0,2.0,1.0,1.0,0.0,0.0,1.0,2.0,2.0,3.0,3.0,4.0,4.0,5.0,6.0,5.0,6.0,7.0,8.0,8.0,7.0,7.0,8.0,8.0,7.0,6.0,6.0,5.0,5.0,3.0,4.0,4.0,3.0,3.0,4.0,4.0,5.0,5.0,6.0,7.0,8.0,8.0,8.0,7.0,7.0,6.0,6.0,5.0,4.0,4.0,5.0,6.0,7.0,8.0,8.0,7.0,6.0,5.0,4.0,3.0,2.0,1.0,0.0],[0.0,0.0,0.0,0.0,0.0,0.0,0.0,1.0,1.0,1.0,1.0,2.0,1.0,2.0,3.0,3.0,3.0,2.0,2.0,2.0,2.0,1.0,1.0,0.0,0.0,1.0,2.0,2.0,3.0,3.0,4.0,4.0,5.0,6.0,5.0,6.0,7.0,8.0,8.0,7.0,7.0,8.0,8.0,7.0,6.0,6.0,5.0,5.0,3.0,4.0,4.0,3.0,3.0,4.0,4.0,5.0,5.0,6.0,7.0,8.0,8.0,8.0,7.0,7.0,6.0,6.0,5.0,4.0,4.0,5.0,6.0,7.0,8.0,8.0,7.0,6.0,5.0,4.0,3.0,2.0,1.0,0.0],[0.0,0.0,0.0,0.0,0.0,0.0,0.0,1.0,1.0,1.0,1.0,2.0,1.0,2.0,3.0,3.0,3.0,2.0,2.0,2.0,2.0,1.0,1.0,0.0,0.0,1.0,2.0,2.0,3.0,3.0,4.0,4.0,5.0,6.0,5.0,6.0,7.0,8.0,8.0,7.0,7.0,8.0,8.0,7.0,6.0,6.0,5.0,5.0,3.0,4.0,4.0,3.0,3.0,4.0,4.0,5.0,5.0,6.0,7.0,8.0,8.0,8.0,7.0,7.0,6.0,6.0,5.0,4.0,4.0,5.0,6.0,7.0,8.0,8.0,7.0,6.0,5.0,4.0,3.0,2.0,1.0,0.0]]},\"selected\":{\"id\":\"2363\"},\"selection_policy\":{\"id\":\"2362\"}},\"id\":\"2331\",\"type\":\"ColumnDataSource\"},{\"attributes\":{},\"id\":\"2356\",\"type\":\"UnionRenderers\"},{\"attributes\":{\"data\":{\"edges_x\":[0.0,0.0,0.0],\"edges_y\":[0.0,1.0,0.0]},\"selected\":{\"id\":\"2355\"},\"selection_policy\":{\"id\":\"2354\"}},\"id\":\"2332\",\"type\":\"ColumnDataSource\"},{\"attributes\":{},\"id\":\"2357\",\"type\":\"Selection\"},{\"attributes\":{\"axis\":{\"id\":\"2305\"},\"grid_line_color\":null,\"ticker\":null},\"id\":\"2308\",\"type\":\"Grid\"},{\"attributes\":{},\"id\":\"2362\",\"type\":\"UnionRenderers\"},{\"attributes\":{\"children\":[{\"id\":\"2345\"},{\"id\":\"2343\"}],\"max_width\":400,\"sizing_mode\":\"stretch_both\"},\"id\":\"2347\",\"type\":\"Row\"},{\"attributes\":{\"text\":\"\"},\"id\":\"2295\",\"type\":\"Title\"},{\"attributes\":{\"end\":8.68,\"start\":-0.68},\"id\":\"2299\",\"type\":\"Range1d\"},{\"attributes\":{},\"id\":\"2363\",\"type\":\"Selection\"},{\"attributes\":{\"source\":{\"id\":\"2332\"}},\"id\":\"2337\",\"type\":\"CDSView\"},{\"attributes\":{},\"id\":\"2303\",\"type\":\"LinearScale\"},{\"attributes\":{\"line_width\":4,\"x\":{\"field\":\"edges_x\"},\"y\":{\"field\":\"edges_y\"}},\"id\":\"2334\",\"type\":\"Line\"},{\"attributes\":{},\"id\":\"2301\",\"type\":\"LinearScale\"},{\"attributes\":{\"data\":{\"x\":[0.0,0.0,0.0,0.0,0.0,0.0,0.0,0.0,0.0,1.0,1.0,1.0,1.0,1.0,1.0,1.0,1.0,1.0,2.0,2.0,2.0,2.0,2.0,2.0,2.0,2.0,2.0,3.0,3.0,3.0,3.0,3.0,3.0,3.0,3.0,3.0,4.0,4.0,4.0,4.0,4.0,4.0,4.0,4.0,4.0,5.0,5.0,5.0,5.0,5.0,5.0,5.0,5.0,5.0,6.0,6.0,6.0,6.0,6.0,6.0,6.0,6.0,6.0,7.0,7.0,7.0,7.0,7.0,7.0,7.0,7.0,7.0,8.0,8.0,8.0,8.0,8.0,8.0,8.0,8.0,8.0],\"y\":[0.0,1.0,2.0,3.0,4.0,5.0,6.0,7.0,8.0,0.0,1.0,2.0,3.0,4.0,5.0,6.0,7.0,8.0,0.0,1.0,2.0,3.0,4.0,5.0,6.0,7.0,8.0,0.0,1.0,2.0,3.0,4.0,5.0,6.0,7.0,8.0,0.0,1.0,2.0,3.0,4.0,5.0,6.0,7.0,8.0,0.0,1.0,2.0,3.0,4.0,5.0,6.0,7.0,8.0,0.0,1.0,2.0,3.0,4.0,5.0,6.0,7.0,8.0,0.0,1.0,2.0,3.0,4.0,5.0,6.0,7.0,8.0,0.0,1.0,2.0,3.0,4.0,5.0,6.0,7.0,8.0]},\"selected\":{\"id\":\"2357\"},\"selection_policy\":{\"id\":\"2356\"}},\"id\":\"2338\",\"type\":\"ColumnDataSource\"},{\"attributes\":{\"line_alpha\":0.1,\"line_width\":4,\"x\":{\"field\":\"edges_x\"},\"y\":{\"field\":\"edges_y\"}},\"id\":\"2335\",\"type\":\"Line\"},{\"attributes\":{\"active_drag\":\"auto\",\"active_inspect\":\"auto\",\"active_multi\":null,\"active_scroll\":\"auto\",\"active_tap\":\"auto\",\"logo\":null,\"tools\":[{\"id\":\"2313\"},{\"id\":\"2314\"},{\"id\":\"2315\"},{\"id\":\"2316\"},{\"id\":\"2317\"},{\"id\":\"2318\"}]},\"id\":\"2320\",\"type\":\"Toolbar\"},{\"attributes\":{},\"id\":\"2306\",\"type\":\"BasicTicker\"},{\"attributes\":{},\"id\":\"2310\",\"type\":\"BasicTicker\"},{\"attributes\":{\"data_source\":{\"id\":\"2332\"},\"glyph\":{\"id\":\"2334\"},\"hover_glyph\":null,\"muted_glyph\":null,\"nonselection_glyph\":{\"id\":\"2335\"},\"selection_glyph\":null,\"view\":{\"id\":\"2337\"}},\"id\":\"2336\",\"type\":\"GlyphRenderer\"},{\"attributes\":{},\"id\":\"2316\",\"type\":\"SaveTool\"},{\"attributes\":{},\"id\":\"2313\",\"type\":\"PanTool\"},{\"attributes\":{\"align\":\"center\",\"text\":\"0\",\"width\":400},\"id\":\"2330\",\"type\":\"Div\"},{\"attributes\":{\"formatter\":{\"id\":\"2350\"},\"ticker\":{\"id\":\"2306\"},\"visible\":false},\"id\":\"2305\",\"type\":\"LinearAxis\"},{\"attributes\":{},\"id\":\"2317\",\"type\":\"ResetTool\"},{\"attributes\":{\"align\":\"center\",\"text\":\"2.0\",\"width\":200},\"id\":\"2328\",\"type\":\"Div\"},{\"attributes\":{\"overlay\":{\"id\":\"2319\"}},\"id\":\"2315\",\"type\":\"BoxZoomTool\"},{\"attributes\":{\"fill_color\":{\"value\":\"steelblue\"},\"line_color\":{\"value\":\"steelblue\"},\"size\":{\"units\":\"screen\",\"value\":8},\"x\":{\"field\":\"x\"},\"y\":{\"field\":\"y\"}},\"id\":\"2339\",\"type\":\"Circle\"},{\"attributes\":{\"formatter\":{\"id\":\"2352\"},\"ticker\":{\"id\":\"2310\"},\"visible\":false},\"id\":\"2309\",\"type\":\"LinearAxis\"},{\"attributes\":{\"fill_alpha\":{\"value\":0.1},\"fill_color\":{\"value\":\"steelblue\"},\"line_alpha\":{\"value\":0.1},\"line_color\":{\"value\":\"steelblue\"},\"size\":{\"units\":\"screen\",\"value\":8},\"x\":{\"field\":\"x\"},\"y\":{\"field\":\"y\"}},\"id\":\"2340\",\"type\":\"Circle\"},{\"attributes\":{\"data_source\":{\"id\":\"2338\"},\"glyph\":{\"id\":\"2339\"},\"hover_glyph\":null,\"muted_glyph\":null,\"nonselection_glyph\":{\"id\":\"2340\"},\"selection_glyph\":null,\"view\":{\"id\":\"2342\"}},\"id\":\"2341\",\"type\":\"GlyphRenderer\"},{\"attributes\":{\"axis\":{\"id\":\"2309\"},\"dimension\":1,\"grid_line_color\":null,\"ticker\":null},\"id\":\"2312\",\"type\":\"Grid\"},{\"attributes\":{},\"id\":\"2314\",\"type\":\"WheelZoomTool\"},{\"attributes\":{\"source\":{\"id\":\"2338\"}},\"id\":\"2342\",\"type\":\"CDSView\"},{\"attributes\":{},\"id\":\"2318\",\"type\":\"HelpTool\"},{\"attributes\":{\"align\":\"center\",\"width\":200},\"id\":\"2329\",\"type\":\"Div\"},{\"attributes\":{\"args\":{\"cost\":{\"id\":\"2328\"},\"done\":{\"id\":\"2329\"},\"n\":{\"id\":\"2330\"},\"source\":{\"id\":\"2331\"},\"tour\":{\"id\":\"2332\"}},\"code\":\"\\nif ((parseInt(n.text) + 1) < source.data['edges_y'].length) {\\n    n.text = (parseInt(n.text) + 1).toString()\\n}\\nvar iteration = parseInt(n.text)\\n\\nif (iteration == source.data['edges_y'].length - 2) {\\n    iteration = iteration + 1\\n}\\n\\n    cost.text = source.data['costs'][iteration].toFixed(1)\\n    \\n    if (iteration == source.data['edges_y'].length - 1) {\\n        done.text = \\\"done.\\\"\\n    } else {\\n        done.text = \\\"\\\"\\n    }\\n\\n    tour.data['edges_x'] = source.data['edges_x'][iteration]\\n    tour.data['edges_y'] = source.data['edges_y'][iteration]\\n    tour.change.emit()\\n    \"},\"id\":\"2344\",\"type\":\"CustomJS\"},{\"attributes\":{\"button_type\":\"success\",\"icon\":null,\"js_event_callbacks\":{\"button_click\":[{\"id\":\"2344\"}]},\"label\":\"Next\",\"sizing_mode\":\"scale_width\",\"width_policy\":\"fit\"},\"id\":\"2343\",\"type\":\"Button\"},{\"attributes\":{\"button_type\":\"success\",\"icon\":null,\"js_event_callbacks\":{\"button_click\":[{\"id\":\"2346\"}]},\"label\":\"Previous\",\"sizing_mode\":\"scale_width\",\"width_policy\":\"fit\"},\"id\":\"2345\",\"type\":\"Button\"}],\"root_ids\":[\"2364\"]},\"title\":\"Bokeh Application\",\"version\":\"2.1.0\"}};\n",
       "  var render_items = [{\"docid\":\"dc2486cb-c424-4953-9810-3b29c174bd73\",\"root_ids\":[\"2364\"],\"roots\":{\"2364\":\"7f576ab8-e5a4-4a43-9fa1-6b8fb336f0dc\"}}];\n",
       "  root.Bokeh.embed.embed_items_notebook(docs_json, render_items);\n",
       "\n",
       "  }\n",
       "  if (root.Bokeh !== undefined) {\n",
       "    embed_document(root);\n",
       "  } else {\n",
       "    var attempts = 0;\n",
       "    var timer = setInterval(function(root) {\n",
       "      if (root.Bokeh !== undefined) {\n",
       "        clearInterval(timer);\n",
       "        embed_document(root);\n",
       "      } else {\n",
       "        attempts++;\n",
       "        if (attempts > 100) {\n",
       "          clearInterval(timer);\n",
       "          console.log(\"Bokeh: ERROR: Unable to run BokehJS code because BokehJS library is missing\");\n",
       "        }\n",
       "      }\n",
       "    }, 10, root)\n",
       "  }\n",
       "})(window);"
      ],
      "application/vnd.bokehjs_exec.v0+json": ""
     },
     "metadata": {
      "application/vnd.bokehjs_exec.v0+json": {
       "id": "2364"
      }
     },
     "output_type": "display_data"
    }
   ],
   "source": [
    "tour = plot_tsp_heuristic(nodes, G, heuristic='nearest_insertion', initial=[0,1,0])"
   ]
  },
  {
   "cell_type": "code",
   "execution_count": 18,
   "metadata": {},
   "outputs": [
    {
     "data": {
      "text/html": [
       "\n",
       "\n",
       "\n",
       "\n",
       "\n",
       "\n",
       "  <div class=\"bk-root\" id=\"74458231-6f55-4557-a5b8-e51ecde1bb5c\" data-root-id=\"2599\"></div>\n"
      ]
     },
     "metadata": {},
     "output_type": "display_data"
    },
    {
     "data": {
      "application/javascript": [
       "(function(root) {\n",
       "  function embed_document(root) {\n",
       "    \n",
       "  var docs_json = {\"5d327549-ad62-4838-85db-32bd8bb38799\":{\"roots\":{\"references\":[{\"attributes\":{\"children\":[[{\"id\":\"2529\"},0,0],[{\"id\":\"2582\"},1,0],[{\"id\":\"2583\"},2,0]]},\"id\":\"2599\",\"type\":\"GridBox\"},{\"attributes\":{\"args\":{\"cost\":{\"id\":\"2563\"},\"done\":{\"id\":\"2564\"},\"n\":{\"id\":\"2565\"},\"source\":{\"id\":\"2566\"},\"tour\":{\"id\":\"2567\"}},\"code\":\"\\nif ((parseInt(n.text) + 1) < source.data['edges_y'].length) {\\n    n.text = (parseInt(n.text) + 1).toString()\\n}\\nvar iteration = parseInt(n.text)\\n\\nif (iteration == source.data['edges_y'].length - 2) {\\n    iteration = iteration + 1\\n}\\n\\n    cost.text = source.data['costs'][iteration].toFixed(1)\\n    \\n    if (iteration == source.data['edges_y'].length - 1) {\\n        done.text = \\\"done.\\\"\\n    } else {\\n        done.text = \\\"\\\"\\n    }\\n\\n    tour.data['edges_x'] = source.data['edges_x'][iteration]\\n    tour.data['edges_y'] = source.data['edges_y'][iteration]\\n    tour.change.emit()\\n    \"},\"id\":\"2579\",\"type\":\"CustomJS\"},{\"attributes\":{},\"id\":\"2536\",\"type\":\"LinearScale\"},{\"attributes\":{\"children\":[{\"id\":\"2580\"},{\"id\":\"2578\"}],\"max_width\":400,\"sizing_mode\":\"stretch_both\"},\"id\":\"2582\",\"type\":\"Row\"},{\"attributes\":{},\"id\":\"2538\",\"type\":\"LinearScale\"},{\"attributes\":{},\"id\":\"2585\",\"type\":\"BasicTickFormatter\"},{\"attributes\":{\"args\":{\"cost\":{\"id\":\"2563\"},\"done\":{\"id\":\"2564\"},\"n\":{\"id\":\"2565\"},\"source\":{\"id\":\"2566\"},\"tour\":{\"id\":\"2567\"}},\"code\":\"\\nif ((parseInt(n.text) - 1) >= 0) {\\n    n.text = (parseInt(n.text) - 1).toString()\\n}\\nvar iteration = parseInt(n.text)\\n\\nif (iteration == source.data['edges_y'].length - 2) {\\n    iteration = iteration - 1\\n}\\n\\n    cost.text = source.data['costs'][iteration].toFixed(1)\\n    \\n    if (iteration == source.data['edges_y'].length - 1) {\\n        done.text = \\\"done.\\\"\\n    } else {\\n        done.text = \\\"\\\"\\n    }\\n\\n    tour.data['edges_x'] = source.data['edges_x'][iteration]\\n    tour.data['edges_y'] = source.data['edges_y'][iteration]\\n    tour.change.emit()\\n    \"},\"id\":\"2581\",\"type\":\"CustomJS\"},{\"attributes\":{\"formatter\":{\"id\":\"2585\"},\"ticker\":{\"id\":\"2541\"},\"visible\":false},\"id\":\"2540\",\"type\":\"LinearAxis\"},{\"attributes\":{},\"id\":\"2587\",\"type\":\"BasicTickFormatter\"},{\"attributes\":{\"bottom_units\":\"screen\",\"fill_alpha\":0.5,\"fill_color\":\"lightgrey\",\"left_units\":\"screen\",\"level\":\"overlay\",\"line_alpha\":1.0,\"line_color\":\"black\",\"line_dash\":[4,4],\"line_width\":2,\"right_units\":\"screen\",\"top_units\":\"screen\"},\"id\":\"2554\",\"type\":\"BoxAnnotation\"},{\"attributes\":{},\"id\":\"2541\",\"type\":\"BasicTicker\"},{\"attributes\":{},\"id\":\"2589\",\"type\":\"UnionRenderers\"},{\"attributes\":{\"align\":\"center\",\"text\":\"0\",\"width\":400},\"id\":\"2565\",\"type\":\"Div\"},{\"attributes\":{\"data\":{\"costs\":[22.627416997969522,27.31370849898476,32.0,35.31370849898476,35.31370849898476,37.65685424949238,37.65685424949238,37.65685424949238,37.65685424949238,39.31370849898477,40.97056274847714,42.627416997969526,42.627416997969526,42.627416997969526,42.627416997969526,43.798989873223334,44.97056274847714,46.14213562373095,46.14213562373095,47.31370849898476,48.48528137423857,48.48528137423857,51.31370849898477,52.48528137423857,53.31370849898475,54.142135623730944,56.142135623730944,56.97056274847713,57.79898987322331,58.6274169979695,59.45584412271568,59.45584412271568,59.45584412271568,60.28427124746188,61.112698372208065,61.94112549695426,62.76955262170045,63.59797974644664,64.42640687119282,64.42640687119282,65.01219330881973,65.59797974644664,67.41983416157333,67.41983416157333,67.41983416157333,68.00562059920024,68.59140703682715,69.17719347445404,69.76297991208095,70.34876634970786,70.93455278733477,71.52033922496167,71.52033922496167,72.10612566258858,72.10612566258858,72.69191210021549,72.69191210021549,73.2776985378424,73.86348497546929,74.4492714130962,75.0350578507231,75.62084428835001,76.20663072597691,76.79241716360383,77.37820360123072,77.37820360123072,78.79241716360382,79.37820360123072,79.96399003885763,79.96399003885763,81.37820360123072,81.37820360123072,81.96399003885763,81.96399003885763,81.96399003885763,82.54977647648454,83.13556291411145,83.13556291411145,83.72134935173835,85.13556291411145,85.13556291411145],\"edges_x\":[[0.0,8.0,0.0],[0.0,8.0,8.0,0.0],[0.0,8.0,8.0,0.0,0.0],[0.0,4.0,8.0,8.0,0.0,0.0],[0.0,4.0,8.0,8.0,4.0,0.0,0.0],[0.0,4.0,4.0,8.0,8.0,4.0,0.0,0.0],[0.0,4.0,4.0,8.0,8.0,4.0,0.0,0.0,0.0],[0.0,4.0,4.0,8.0,8.0,8.0,4.0,0.0,0.0,0.0],[0.0,4.0,4.0,6.0,8.0,8.0,8.0,4.0,0.0,0.0,0.0],[0.0,4.0,4.0,6.0,8.0,8.0,8.0,4.0,2.0,0.0,0.0,0.0],[0.0,4.0,4.0,6.0,8.0,8.0,6.0,8.0,4.0,2.0,0.0,0.0,0.0],[0.0,2.0,4.0,4.0,6.0,8.0,8.0,6.0,8.0,4.0,2.0,0.0,0.0,0.0],[0.0,2.0,4.0,4.0,6.0,8.0,8.0,6.0,8.0,4.0,2.0,0.0,0.0,0.0,0.0],[0.0,2.0,4.0,4.0,4.0,6.0,8.0,8.0,6.0,8.0,4.0,2.0,0.0,0.0,0.0,0.0],[0.0,2.0,4.0,4.0,4.0,6.0,8.0,8.0,8.0,6.0,8.0,4.0,2.0,0.0,0.0,0.0,0.0],[0.0,2.0,4.0,4.0,4.0,6.0,8.0,8.0,8.0,6.0,8.0,4.0,4.0,2.0,0.0,0.0,0.0,0.0],[0.0,2.0,4.0,4.0,4.0,6.0,8.0,8.0,8.0,8.0,6.0,8.0,4.0,4.0,2.0,0.0,0.0,0.0,0.0],[0.0,2.0,4.0,4.0,4.0,6.0,6.0,8.0,8.0,8.0,8.0,6.0,8.0,4.0,4.0,2.0,0.0,0.0,0.0,0.0],[0.0,2.0,4.0,4.0,4.0,6.0,6.0,8.0,8.0,8.0,8.0,6.0,8.0,4.0,4.0,2.0,0.0,0.0,0.0,0.0,0.0],[0.0,2.0,4.0,4.0,4.0,6.0,6.0,8.0,8.0,8.0,8.0,6.0,8.0,4.0,4.0,2.0,2.0,0.0,0.0,0.0,0.0,0.0],[0.0,2.0,4.0,4.0,4.0,6.0,6.0,6.0,8.0,8.0,8.0,8.0,6.0,8.0,4.0,4.0,2.0,2.0,0.0,0.0,0.0,0.0,0.0],[0.0,2.0,4.0,4.0,4.0,6.0,6.0,6.0,8.0,8.0,8.0,8.0,6.0,8.0,6.0,4.0,4.0,2.0,2.0,0.0,0.0,0.0,0.0,0.0],[0.0,2.0,4.0,4.0,2.0,4.0,6.0,6.0,6.0,8.0,8.0,8.0,8.0,6.0,8.0,6.0,4.0,4.0,2.0,2.0,0.0,0.0,0.0,0.0,0.0],[0.0,2.0,2.0,4.0,4.0,2.0,4.0,6.0,6.0,6.0,8.0,8.0,8.0,8.0,6.0,8.0,6.0,4.0,4.0,2.0,2.0,0.0,0.0,0.0,0.0,0.0],[0.0,2.0,2.0,4.0,4.0,2.0,4.0,6.0,6.0,6.0,8.0,8.0,8.0,8.0,6.0,8.0,6.0,4.0,4.0,2.0,2.0,0.0,0.0,1.0,0.0,0.0,0.0],[0.0,2.0,2.0,4.0,4.0,2.0,4.0,5.0,6.0,6.0,6.0,8.0,8.0,8.0,8.0,6.0,8.0,6.0,4.0,4.0,2.0,2.0,0.0,0.0,1.0,0.0,0.0,0.0],[0.0,2.0,2.0,4.0,4.0,2.0,4.0,5.0,5.0,6.0,6.0,6.0,8.0,8.0,8.0,8.0,6.0,8.0,6.0,4.0,4.0,2.0,2.0,0.0,0.0,1.0,0.0,0.0,0.0],[0.0,2.0,2.0,4.0,4.0,2.0,4.0,5.0,5.0,6.0,6.0,6.0,8.0,8.0,8.0,8.0,6.0,8.0,6.0,4.0,3.0,4.0,2.0,2.0,0.0,0.0,1.0,0.0,0.0,0.0],[0.0,2.0,2.0,4.0,4.0,2.0,4.0,5.0,5.0,6.0,6.0,6.0,8.0,8.0,8.0,8.0,6.0,8.0,6.0,4.0,3.0,4.0,2.0,1.0,2.0,0.0,0.0,1.0,0.0,0.0,0.0],[0.0,2.0,2.0,4.0,4.0,2.0,4.0,5.0,5.0,6.0,6.0,6.0,8.0,8.0,8.0,8.0,6.0,8.0,6.0,5.0,4.0,3.0,4.0,2.0,1.0,2.0,0.0,0.0,1.0,0.0,0.0,0.0],[0.0,2.0,2.0,4.0,4.0,2.0,4.0,5.0,5.0,6.0,6.0,6.0,8.0,8.0,8.0,8.0,6.0,8.0,6.0,5.0,4.0,3.0,4.0,2.0,1.0,2.0,0.0,0.0,1.0,0.0,1.0,0.0,0.0],[0.0,2.0,2.0,4.0,4.0,3.0,2.0,4.0,5.0,5.0,6.0,6.0,6.0,8.0,8.0,8.0,8.0,6.0,8.0,6.0,5.0,4.0,3.0,4.0,2.0,1.0,2.0,0.0,0.0,1.0,0.0,1.0,0.0,0.0],[0.0,2.0,2.0,3.0,4.0,4.0,3.0,2.0,4.0,5.0,5.0,6.0,6.0,6.0,8.0,8.0,8.0,8.0,6.0,8.0,6.0,5.0,4.0,3.0,4.0,2.0,1.0,2.0,0.0,0.0,1.0,0.0,1.0,0.0,0.0],[0.0,2.0,2.0,3.0,4.0,4.0,3.0,2.0,4.0,5.0,5.0,6.0,7.0,6.0,6.0,8.0,8.0,8.0,8.0,6.0,8.0,6.0,5.0,4.0,3.0,4.0,2.0,1.0,2.0,0.0,0.0,1.0,0.0,1.0,0.0,0.0],[0.0,1.0,2.0,2.0,3.0,4.0,4.0,3.0,2.0,4.0,5.0,5.0,6.0,7.0,6.0,6.0,8.0,8.0,8.0,8.0,6.0,8.0,6.0,5.0,4.0,3.0,4.0,2.0,1.0,2.0,0.0,0.0,1.0,0.0,1.0,0.0,0.0],[0.0,1.0,2.0,2.0,3.0,4.0,4.0,3.0,2.0,4.0,5.0,5.0,6.0,7.0,6.0,6.0,8.0,8.0,8.0,7.0,8.0,6.0,8.0,6.0,5.0,4.0,3.0,4.0,2.0,1.0,2.0,0.0,0.0,1.0,0.0,1.0,0.0,0.0],[0.0,1.0,2.0,2.0,3.0,4.0,5.0,4.0,3.0,2.0,4.0,5.0,5.0,6.0,7.0,6.0,6.0,8.0,8.0,8.0,7.0,8.0,6.0,8.0,6.0,5.0,4.0,3.0,4.0,2.0,1.0,2.0,0.0,0.0,1.0,0.0,1.0,0.0,0.0],[0.0,1.0,2.0,2.0,3.0,4.0,5.0,4.0,3.0,2.0,4.0,5.0,5.0,6.0,7.0,6.0,7.0,6.0,8.0,8.0,8.0,7.0,8.0,6.0,8.0,6.0,5.0,4.0,3.0,4.0,2.0,1.0,2.0,0.0,0.0,1.0,0.0,1.0,0.0,0.0],[0.0,1.0,2.0,2.0,3.0,4.0,5.0,4.0,3.0,2.0,3.0,4.0,5.0,5.0,6.0,7.0,6.0,7.0,6.0,8.0,8.0,8.0,7.0,8.0,6.0,8.0,6.0,5.0,4.0,3.0,4.0,2.0,1.0,2.0,0.0,0.0,1.0,0.0,1.0,0.0,0.0],[0.0,1.0,2.0,2.0,3.0,4.0,5.0,4.0,3.0,2.0,3.0,4.0,5.0,5.0,6.0,7.0,6.0,7.0,6.0,8.0,8.0,8.0,7.0,8.0,6.0,7.0,8.0,6.0,5.0,4.0,3.0,4.0,2.0,1.0,2.0,0.0,0.0,1.0,0.0,1.0,0.0,0.0],[0.0,1.0,2.0,2.0,3.0,4.0,5.0,4.0,3.0,2.0,3.0,4.0,5.0,5.0,6.0,7.0,6.0,7.0,6.0,8.0,8.0,8.0,7.0,8.0,6.0,7.0,8.0,6.0,5.0,4.0,3.0,4.0,2.0,1.0,2.0,0.0,0.0,1.0,0.0,1.0,1.0,0.0,0.0],[0.0,1.0,2.0,2.0,3.0,4.0,5.0,4.0,3.0,2.0,3.0,4.0,5.0,5.0,6.0,7.0,6.0,7.0,6.0,8.0,8.0,8.0,7.0,8.0,6.0,7.0,8.0,6.0,5.0,4.0,3.0,4.0,2.0,1.0,1.0,2.0,0.0,0.0,1.0,0.0,1.0,1.0,0.0,0.0],[0.0,1.0,2.0,2.0,3.0,4.0,5.0,4.0,3.0,2.0,3.0,4.0,5.0,5.0,5.0,6.0,7.0,6.0,7.0,6.0,8.0,8.0,8.0,7.0,8.0,6.0,7.0,8.0,6.0,5.0,4.0,3.0,4.0,2.0,1.0,1.0,2.0,0.0,0.0,1.0,0.0,1.0,1.0,0.0,0.0],[0.0,1.0,2.0,2.0,3.0,4.0,5.0,4.0,3.0,2.0,3.0,4.0,5.0,5.0,5.0,6.0,7.0,6.0,7.0,6.0,7.0,8.0,8.0,8.0,7.0,8.0,6.0,7.0,8.0,6.0,5.0,4.0,3.0,4.0,2.0,1.0,1.0,2.0,0.0,0.0,1.0,0.0,1.0,1.0,0.0,0.0],[0.0,1.0,2.0,2.0,3.0,4.0,5.0,4.0,3.0,2.0,3.0,4.0,5.0,5.0,5.0,6.0,7.0,6.0,7.0,6.0,7.0,8.0,8.0,8.0,7.0,8.0,6.0,7.0,8.0,6.0,5.0,4.0,3.0,4.0,2.0,1.0,1.0,2.0,0.0,0.0,0.0,1.0,0.0,1.0,1.0,0.0,0.0],[0.0,1.0,2.0,2.0,3.0,4.0,5.0,4.0,3.0,2.0,3.0,4.0,5.0,5.0,5.0,6.0,7.0,6.0,7.0,6.0,7.0,8.0,8.0,8.0,7.0,8.0,6.0,7.0,8.0,6.0,5.0,4.0,3.0,4.0,2.0,1.0,1.0,2.0,0.0,0.0,0.0,1.0,0.0,0.0,1.0,1.0,0.0,0.0],[0.0,1.0,1.0,2.0,2.0,3.0,4.0,5.0,4.0,3.0,2.0,3.0,4.0,5.0,5.0,5.0,6.0,7.0,6.0,7.0,6.0,7.0,8.0,8.0,8.0,7.0,8.0,6.0,7.0,8.0,6.0,5.0,4.0,3.0,4.0,2.0,1.0,1.0,2.0,0.0,0.0,0.0,1.0,0.0,0.0,1.0,1.0,0.0,0.0],[0.0,1.0,1.0,2.0,2.0,3.0,4.0,5.0,4.0,3.0,2.0,3.0,4.0,5.0,5.0,5.0,6.0,7.0,6.0,7.0,6.0,7.0,8.0,8.0,8.0,7.0,8.0,6.0,7.0,8.0,6.0,5.0,5.0,4.0,3.0,4.0,2.0,1.0,1.0,2.0,0.0,0.0,0.0,1.0,0.0,0.0,1.0,1.0,0.0,0.0],[0.0,1.0,1.0,2.0,2.0,3.0,4.0,5.0,4.0,3.0,2.0,3.0,4.0,5.0,5.0,5.0,6.0,7.0,7.0,6.0,7.0,6.0,7.0,8.0,8.0,8.0,7.0,8.0,6.0,7.0,8.0,6.0,5.0,5.0,4.0,3.0,4.0,2.0,1.0,1.0,2.0,0.0,0.0,0.0,1.0,0.0,0.0,1.0,1.0,0.0,0.0],[0.0,1.0,1.0,2.0,2.0,3.0,3.0,4.0,5.0,4.0,3.0,2.0,3.0,4.0,5.0,5.0,5.0,6.0,7.0,7.0,6.0,7.0,6.0,7.0,8.0,8.0,8.0,7.0,8.0,6.0,7.0,8.0,6.0,5.0,5.0,4.0,3.0,4.0,2.0,1.0,1.0,2.0,0.0,0.0,0.0,1.0,0.0,0.0,1.0,1.0,0.0,0.0],[0.0,1.0,1.0,2.0,2.0,3.0,3.0,4.0,5.0,4.0,3.0,2.0,3.0,4.0,5.0,5.0,5.0,6.0,7.0,7.0,6.0,7.0,6.0,7.0,8.0,8.0,8.0,7.0,8.0,6.0,7.0,8.0,6.0,5.0,5.0,4.0,3.0,3.0,4.0,2.0,1.0,1.0,2.0,0.0,0.0,0.0,1.0,0.0,0.0,1.0,1.0,0.0,0.0],[0.0,1.0,1.0,2.0,2.0,3.0,3.0,4.0,5.0,4.0,3.0,2.0,3.0,4.0,5.0,5.0,5.0,6.0,6.0,7.0,7.0,6.0,7.0,6.0,7.0,8.0,8.0,8.0,7.0,8.0,6.0,7.0,8.0,6.0,5.0,5.0,4.0,3.0,3.0,4.0,2.0,1.0,1.0,2.0,0.0,0.0,0.0,1.0,0.0,0.0,1.0,1.0,0.0,0.0],[0.0,1.0,1.0,2.0,2.0,3.0,3.0,4.0,5.0,4.0,3.0,2.0,3.0,4.0,5.0,5.0,5.0,6.0,6.0,7.0,7.0,6.0,7.0,6.0,7.0,8.0,8.0,8.0,7.0,8.0,7.0,6.0,7.0,8.0,6.0,5.0,5.0,4.0,3.0,3.0,4.0,2.0,1.0,1.0,2.0,0.0,0.0,0.0,1.0,0.0,0.0,1.0,1.0,0.0,0.0],[0.0,1.0,1.0,2.0,2.0,3.0,3.0,4.0,5.0,4.0,4.0,3.0,2.0,3.0,4.0,5.0,5.0,5.0,6.0,6.0,7.0,7.0,6.0,7.0,6.0,7.0,8.0,8.0,8.0,7.0,8.0,7.0,6.0,7.0,8.0,6.0,5.0,5.0,4.0,3.0,3.0,4.0,2.0,1.0,1.0,2.0,0.0,0.0,0.0,1.0,0.0,0.0,1.0,1.0,0.0,0.0],[0.0,1.0,1.0,2.0,2.0,3.0,3.0,4.0,5.0,4.0,4.0,3.0,2.0,3.0,4.0,5.0,5.0,5.0,5.0,6.0,6.0,7.0,7.0,6.0,7.0,6.0,7.0,8.0,8.0,8.0,7.0,8.0,7.0,6.0,7.0,8.0,6.0,5.0,5.0,4.0,3.0,3.0,4.0,2.0,1.0,1.0,2.0,0.0,0.0,0.0,1.0,0.0,0.0,1.0,1.0,0.0,0.0],[0.0,1.0,1.0,2.0,2.0,3.0,3.0,4.0,5.0,4.0,4.0,3.0,2.0,3.0,4.0,5.0,5.0,5.0,5.0,6.0,6.0,7.0,7.0,6.0,7.0,6.0,7.0,8.0,8.0,8.0,7.0,8.0,7.0,6.0,7.0,8.0,8.0,6.0,5.0,5.0,4.0,3.0,3.0,4.0,2.0,1.0,1.0,2.0,0.0,0.0,0.0,1.0,0.0,0.0,1.0,1.0,0.0,0.0],[0.0,1.0,1.0,2.0,2.0,3.0,3.0,4.0,5.0,4.0,4.0,3.0,2.0,3.0,4.0,5.0,5.0,5.0,5.0,6.0,6.0,7.0,7.0,6.0,7.0,6.0,7.0,8.0,8.0,8.0,8.0,7.0,8.0,7.0,6.0,7.0,8.0,8.0,6.0,5.0,5.0,4.0,3.0,3.0,4.0,2.0,1.0,1.0,2.0,0.0,0.0,0.0,1.0,0.0,0.0,1.0,1.0,0.0,0.0],[0.0,1.0,1.0,2.0,2.0,3.0,3.0,4.0,5.0,4.0,4.0,3.0,2.0,3.0,4.0,5.0,5.0,5.0,5.0,6.0,6.0,7.0,7.0,6.0,7.0,6.0,7.0,8.0,8.0,8.0,8.0,7.0,8.0,7.0,6.0,7.0,8.0,8.0,6.0,5.0,5.0,4.0,3.0,3.0,4.0,2.0,1.0,1.0,2.0,0.0,0.0,0.0,1.0,1.0,0.0,0.0,1.0,1.0,0.0,0.0],[0.0,1.0,1.0,2.0,2.0,3.0,3.0,4.0,5.0,4.0,4.0,3.0,2.0,3.0,4.0,5.0,5.0,5.0,5.0,6.0,6.0,7.0,7.0,6.0,7.0,6.0,7.0,8.0,8.0,8.0,8.0,8.0,7.0,8.0,7.0,6.0,7.0,8.0,8.0,6.0,5.0,5.0,4.0,3.0,3.0,4.0,2.0,1.0,1.0,2.0,0.0,0.0,0.0,1.0,1.0,0.0,0.0,1.0,1.0,0.0,0.0],[0.0,1.0,1.0,2.0,2.0,3.0,3.0,4.0,5.0,4.0,4.0,3.0,2.0,3.0,4.0,5.0,5.0,5.0,5.0,6.0,6.0,7.0,7.0,6.0,7.0,6.0,7.0,8.0,8.0,8.0,8.0,8.0,7.0,8.0,7.0,6.0,7.0,8.0,8.0,6.0,5.0,5.0,4.0,3.0,3.0,4.0,2.0,1.0,1.0,2.0,0.0,0.0,0.0,0.0,1.0,1.0,0.0,0.0,1.0,1.0,0.0,0.0],[0.0,1.0,1.0,2.0,2.0,3.0,3.0,4.0,5.0,5.0,4.0,4.0,3.0,2.0,3.0,4.0,5.0,5.0,5.0,5.0,6.0,6.0,7.0,7.0,6.0,7.0,6.0,7.0,8.0,8.0,8.0,8.0,8.0,7.0,8.0,7.0,6.0,7.0,8.0,8.0,6.0,5.0,5.0,4.0,3.0,3.0,4.0,2.0,1.0,1.0,2.0,0.0,0.0,0.0,0.0,1.0,1.0,0.0,0.0,1.0,1.0,0.0,0.0],[0.0,1.0,1.0,2.0,2.0,3.0,3.0,4.0,5.0,5.0,4.0,4.0,3.0,2.0,2.0,3.0,4.0,5.0,5.0,5.0,5.0,6.0,6.0,7.0,7.0,6.0,7.0,6.0,7.0,8.0,8.0,8.0,8.0,8.0,7.0,8.0,7.0,6.0,7.0,8.0,8.0,6.0,5.0,5.0,4.0,3.0,3.0,4.0,2.0,1.0,1.0,2.0,0.0,0.0,0.0,0.0,1.0,1.0,0.0,0.0,1.0,1.0,0.0,0.0],[0.0,1.0,1.0,2.0,2.0,3.0,3.0,4.0,5.0,5.0,4.0,4.0,3.0,2.0,2.0,2.0,3.0,4.0,5.0,5.0,5.0,5.0,6.0,6.0,7.0,7.0,6.0,7.0,6.0,7.0,8.0,8.0,8.0,8.0,8.0,7.0,8.0,7.0,6.0,7.0,8.0,8.0,6.0,5.0,5.0,4.0,3.0,3.0,4.0,2.0,1.0,1.0,2.0,0.0,0.0,0.0,0.0,1.0,1.0,0.0,0.0,1.0,1.0,0.0,0.0],[0.0,1.0,1.0,2.0,2.0,3.0,3.0,4.0,5.0,5.0,5.0,4.0,4.0,3.0,2.0,2.0,2.0,3.0,4.0,5.0,5.0,5.0,5.0,6.0,6.0,7.0,7.0,6.0,7.0,6.0,7.0,8.0,8.0,8.0,8.0,8.0,7.0,8.0,7.0,6.0,7.0,8.0,8.0,6.0,5.0,5.0,4.0,3.0,3.0,4.0,2.0,1.0,1.0,2.0,0.0,0.0,0.0,0.0,1.0,1.0,0.0,0.0,1.0,1.0,0.0,0.0],[0.0,1.0,1.0,2.0,2.0,3.0,3.0,4.0,4.0,5.0,5.0,5.0,4.0,4.0,3.0,2.0,2.0,2.0,3.0,4.0,5.0,5.0,5.0,5.0,6.0,6.0,7.0,7.0,6.0,7.0,6.0,7.0,8.0,8.0,8.0,8.0,8.0,7.0,8.0,7.0,6.0,7.0,8.0,8.0,6.0,5.0,5.0,4.0,3.0,3.0,4.0,2.0,1.0,1.0,2.0,0.0,0.0,0.0,0.0,1.0,1.0,0.0,0.0,1.0,1.0,0.0,0.0],[0.0,1.0,1.0,2.0,2.0,2.0,3.0,3.0,4.0,4.0,5.0,5.0,5.0,4.0,4.0,3.0,2.0,2.0,2.0,3.0,4.0,5.0,5.0,5.0,5.0,6.0,6.0,7.0,7.0,6.0,7.0,6.0,7.0,8.0,8.0,8.0,8.0,8.0,7.0,8.0,7.0,6.0,7.0,8.0,8.0,6.0,5.0,5.0,4.0,3.0,3.0,4.0,2.0,1.0,1.0,2.0,0.0,0.0,0.0,0.0,1.0,1.0,0.0,0.0,1.0,1.0,0.0,0.0],[0.0,1.0,1.0,2.0,2.0,2.0,3.0,3.0,4.0,4.0,5.0,5.0,5.0,4.0,4.0,3.0,2.0,2.0,2.0,3.0,4.0,6.0,5.0,5.0,5.0,5.0,6.0,6.0,7.0,7.0,6.0,7.0,6.0,7.0,8.0,8.0,8.0,8.0,8.0,7.0,8.0,7.0,6.0,7.0,8.0,8.0,6.0,5.0,5.0,4.0,3.0,3.0,4.0,2.0,1.0,1.0,2.0,0.0,0.0,0.0,0.0,1.0,1.0,0.0,0.0,1.0,1.0,0.0,0.0],[0.0,1.0,1.0,2.0,2.0,2.0,3.0,3.0,4.0,4.0,5.0,5.0,5.0,4.0,4.0,3.0,2.0,2.0,2.0,3.0,4.0,4.0,6.0,5.0,5.0,5.0,5.0,6.0,6.0,7.0,7.0,6.0,7.0,6.0,7.0,8.0,8.0,8.0,8.0,8.0,7.0,8.0,7.0,6.0,7.0,8.0,8.0,6.0,5.0,5.0,4.0,3.0,3.0,4.0,2.0,1.0,1.0,2.0,0.0,0.0,0.0,0.0,1.0,1.0,0.0,0.0,1.0,1.0,0.0,0.0],[0.0,1.0,1.0,2.0,2.0,2.0,3.0,3.0,4.0,4.0,5.0,5.0,5.0,4.0,4.0,3.0,2.0,2.0,2.0,3.0,4.0,4.0,6.0,5.0,5.0,5.0,5.0,6.0,6.0,7.0,7.0,6.0,7.0,6.0,7.0,8.0,8.0,8.0,8.0,8.0,7.0,8.0,7.0,6.0,6.0,7.0,8.0,8.0,6.0,5.0,5.0,4.0,3.0,3.0,4.0,2.0,1.0,1.0,2.0,0.0,0.0,0.0,0.0,1.0,1.0,0.0,0.0,1.0,1.0,0.0,0.0],[0.0,1.0,1.0,2.0,2.0,2.0,3.0,3.0,4.0,4.0,5.0,5.0,5.0,4.0,4.0,3.0,2.0,2.0,2.0,3.0,4.0,4.0,6.0,5.0,5.0,5.0,5.0,6.0,6.0,7.0,7.0,6.0,7.0,6.0,7.0,8.0,8.0,8.0,8.0,8.0,8.0,7.0,8.0,7.0,6.0,6.0,7.0,8.0,8.0,6.0,5.0,5.0,4.0,3.0,3.0,4.0,2.0,1.0,1.0,2.0,0.0,0.0,0.0,0.0,1.0,1.0,0.0,0.0,1.0,1.0,0.0,0.0],[0.0,1.0,1.0,2.0,2.0,2.0,3.0,3.0,4.0,4.0,5.0,5.0,5.0,4.0,4.0,3.0,3.0,2.0,2.0,2.0,3.0,4.0,4.0,6.0,5.0,5.0,5.0,5.0,6.0,6.0,7.0,7.0,6.0,7.0,6.0,7.0,8.0,8.0,8.0,8.0,8.0,8.0,7.0,8.0,7.0,6.0,6.0,7.0,8.0,8.0,6.0,5.0,5.0,4.0,3.0,3.0,4.0,2.0,1.0,1.0,2.0,0.0,0.0,0.0,0.0,1.0,1.0,0.0,0.0,1.0,1.0,0.0,0.0],[0.0,1.0,1.0,2.0,2.0,2.0,3.0,3.0,4.0,4.0,5.0,5.0,5.0,4.0,4.0,3.0,3.0,2.0,2.0,2.0,3.0,4.0,4.0,6.0,5.0,5.0,5.0,5.0,6.0,6.0,7.0,7.0,6.0,7.0,6.0,7.0,8.0,8.0,8.0,8.0,8.0,8.0,7.0,8.0,7.0,6.0,6.0,7.0,8.0,8.0,6.0,5.0,5.0,4.0,3.0,3.0,4.0,2.0,1.0,1.0,2.0,0.0,0.0,0.0,0.0,1.0,1.0,0.0,0.0,1.0,1.0,0.0,0.0,0.0],[0.0,1.0,1.0,2.0,2.0,2.0,3.0,3.0,4.0,4.0,5.0,5.0,5.0,4.0,4.0,3.0,3.0,2.0,2.0,2.0,3.0,4.0,4.0,6.0,5.0,5.0,5.0,5.0,6.0,6.0,7.0,7.0,6.0,7.0,6.0,7.0,8.0,8.0,8.0,8.0,8.0,8.0,7.0,8.0,7.0,6.0,6.0,7.0,8.0,8.0,6.0,5.0,5.0,4.0,3.0,3.0,4.0,2.0,1.0,1.0,2.0,2.0,0.0,0.0,0.0,0.0,1.0,1.0,0.0,0.0,1.0,1.0,0.0,0.0,0.0],[0.0,1.0,1.0,2.0,2.0,2.0,3.0,3.0,4.0,4.0,5.0,5.0,5.0,4.0,4.0,3.0,3.0,2.0,2.0,2.0,3.0,4.0,4.0,6.0,5.0,5.0,5.0,5.0,6.0,6.0,7.0,7.0,6.0,7.0,6.0,7.0,8.0,8.0,8.0,8.0,8.0,8.0,7.0,8.0,7.0,6.0,6.0,7.0,8.0,8.0,7.0,6.0,5.0,5.0,4.0,3.0,3.0,4.0,2.0,1.0,1.0,2.0,2.0,0.0,0.0,0.0,0.0,1.0,1.0,0.0,0.0,1.0,1.0,0.0,0.0,0.0],[0.0,1.0,1.0,2.0,2.0,2.0,3.0,3.0,4.0,4.0,5.0,5.0,5.0,4.0,4.0,3.0,3.0,2.0,2.0,2.0,3.0,4.0,4.0,6.0,5.0,5.0,5.0,5.0,6.0,6.0,7.0,7.0,6.0,7.0,6.0,7.0,8.0,8.0,8.0,8.0,8.0,8.0,7.0,8.0,7.0,6.0,6.0,7.0,8.0,8.0,7.0,6.0,5.0,5.0,4.0,3.0,3.0,4.0,3.0,2.0,1.0,1.0,2.0,2.0,0.0,0.0,0.0,0.0,1.0,1.0,0.0,0.0,1.0,1.0,0.0,0.0,0.0],[0.0,1.0,1.0,2.0,2.0,2.0,3.0,3.0,4.0,4.0,5.0,5.0,5.0,4.0,4.0,3.0,3.0,2.0,2.0,2.0,3.0,4.0,4.0,6.0,5.0,5.0,5.0,5.0,6.0,6.0,7.0,7.0,7.0,6.0,7.0,6.0,7.0,8.0,8.0,8.0,8.0,8.0,8.0,7.0,8.0,7.0,6.0,6.0,7.0,8.0,8.0,7.0,6.0,5.0,5.0,4.0,3.0,3.0,4.0,3.0,2.0,1.0,1.0,2.0,2.0,0.0,0.0,0.0,0.0,1.0,1.0,0.0,0.0,1.0,1.0,0.0,0.0,0.0],[0.0,1.0,1.0,2.0,2.0,2.0,3.0,3.0,4.0,4.0,5.0,5.0,5.0,4.0,4.0,3.0,3.0,2.0,2.0,2.0,3.0,4.0,4.0,6.0,5.0,5.0,5.0,5.0,6.0,6.0,7.0,7.0,7.0,6.0,6.0,7.0,6.0,7.0,8.0,8.0,8.0,8.0,8.0,8.0,7.0,8.0,7.0,6.0,6.0,7.0,8.0,8.0,7.0,6.0,5.0,5.0,4.0,3.0,3.0,4.0,3.0,2.0,1.0,1.0,2.0,2.0,0.0,0.0,0.0,0.0,1.0,1.0,0.0,0.0,1.0,1.0,0.0,0.0,0.0],[0.0,1.0,1.0,2.0,2.0,2.0,3.0,3.0,4.0,4.0,5.0,5.0,5.0,4.0,4.0,3.0,3.0,2.0,2.0,2.0,3.0,4.0,4.0,6.0,5.0,5.0,5.0,5.0,6.0,6.0,7.0,7.0,7.0,6.0,6.0,7.0,6.0,7.0,8.0,8.0,8.0,8.0,8.0,8.0,7.0,8.0,7.0,6.0,6.0,7.0,8.0,8.0,7.0,6.0,5.0,5.0,4.0,3.0,3.0,4.0,3.0,2.0,1.0,1.0,2.0,2.0,1.0,0.0,0.0,0.0,0.0,1.0,1.0,0.0,0.0,1.0,1.0,0.0,0.0,0.0],[0.0,1.0,1.0,2.0,2.0,2.0,3.0,3.0,4.0,4.0,5.0,5.0,5.0,4.0,4.0,3.0,3.0,2.0,2.0,2.0,3.0,4.0,4.0,6.0,5.0,5.0,5.0,5.0,6.0,6.0,7.0,7.0,7.0,6.0,6.0,7.0,6.0,7.0,8.0,8.0,8.0,8.0,8.0,8.0,7.0,8.0,7.0,6.0,6.0,7.0,8.0,8.0,7.0,6.0,5.0,5.0,4.0,4.0,3.0,3.0,4.0,3.0,2.0,1.0,1.0,2.0,2.0,1.0,0.0,0.0,0.0,0.0,1.0,1.0,0.0,0.0,1.0,1.0,0.0,0.0,0.0],[0.0,1.0,1.0,2.0,3.0,2.0,2.0,3.0,3.0,4.0,4.0,5.0,5.0,5.0,4.0,4.0,3.0,3.0,2.0,2.0,2.0,3.0,4.0,4.0,6.0,5.0,5.0,5.0,5.0,6.0,6.0,7.0,7.0,7.0,6.0,6.0,7.0,6.0,7.0,8.0,8.0,8.0,8.0,8.0,8.0,7.0,8.0,7.0,6.0,6.0,7.0,8.0,8.0,7.0,6.0,5.0,5.0,4.0,4.0,3.0,3.0,4.0,3.0,2.0,1.0,1.0,2.0,2.0,1.0,0.0,0.0,0.0,0.0,1.0,1.0,0.0,0.0,1.0,1.0,0.0,0.0,0.0],[0.0,1.0,1.0,2.0,3.0,2.0,2.0,3.0,3.0,4.0,4.0,5.0,5.0,5.0,4.0,4.0,3.0,3.0,2.0,2.0,2.0,3.0,4.0,4.0,6.0,5.0,5.0,5.0,5.0,6.0,6.0,7.0,7.0,7.0,6.0,6.0,7.0,6.0,7.0,8.0,8.0,8.0,8.0,8.0,8.0,7.0,8.0,7.0,6.0,6.0,7.0,8.0,8.0,7.0,6.0,5.0,5.0,4.0,4.0,3.0,3.0,4.0,3.0,2.0,1.0,1.0,2.0,2.0,1.0,0.0,0.0,0.0,0.0,1.0,1.0,0.0,0.0,1.0,1.0,0.0,0.0,0.0]],\"edges_y\":[[0.0,8.0,0.0],[0.0,0.0,8.0,0.0],[0.0,0.0,8.0,8.0,0.0],[0.0,4.0,0.0,8.0,8.0,0.0],[0.0,4.0,0.0,8.0,8.0,8.0,0.0],[0.0,0.0,4.0,0.0,8.0,8.0,8.0,0.0],[0.0,0.0,4.0,0.0,8.0,8.0,8.0,4.0,0.0],[0.0,0.0,4.0,0.0,4.0,8.0,8.0,8.0,4.0,0.0],[0.0,0.0,4.0,2.0,0.0,4.0,8.0,8.0,8.0,4.0,0.0],[0.0,0.0,4.0,2.0,0.0,4.0,8.0,8.0,6.0,8.0,4.0,0.0],[0.0,0.0,4.0,2.0,0.0,4.0,6.0,8.0,8.0,6.0,8.0,4.0,0.0],[0.0,2.0,0.0,4.0,2.0,0.0,4.0,6.0,8.0,8.0,6.0,8.0,4.0,0.0],[0.0,2.0,0.0,4.0,2.0,0.0,4.0,6.0,8.0,8.0,6.0,8.0,4.0,2.0,0.0],[0.0,2.0,0.0,2.0,4.0,2.0,0.0,4.0,6.0,8.0,8.0,6.0,8.0,4.0,2.0,0.0],[0.0,2.0,0.0,2.0,4.0,2.0,0.0,2.0,4.0,6.0,8.0,8.0,6.0,8.0,4.0,2.0,0.0],[0.0,2.0,0.0,2.0,4.0,2.0,0.0,2.0,4.0,6.0,8.0,8.0,6.0,6.0,8.0,4.0,2.0,0.0],[0.0,2.0,0.0,2.0,4.0,2.0,0.0,2.0,4.0,6.0,6.0,8.0,8.0,6.0,6.0,8.0,4.0,2.0,0.0],[0.0,2.0,0.0,2.0,4.0,2.0,0.0,0.0,2.0,4.0,6.0,6.0,8.0,8.0,6.0,6.0,8.0,4.0,2.0,0.0],[0.0,2.0,0.0,2.0,4.0,2.0,0.0,0.0,2.0,4.0,6.0,6.0,8.0,8.0,6.0,6.0,8.0,6.0,4.0,2.0,0.0],[0.0,2.0,0.0,2.0,4.0,2.0,0.0,0.0,2.0,4.0,6.0,6.0,8.0,8.0,6.0,6.0,8.0,8.0,6.0,4.0,2.0,0.0],[0.0,2.0,0.0,2.0,4.0,4.0,2.0,0.0,0.0,2.0,4.0,6.0,6.0,8.0,8.0,6.0,6.0,8.0,8.0,6.0,4.0,2.0,0.0],[0.0,2.0,0.0,2.0,4.0,4.0,2.0,0.0,0.0,2.0,4.0,6.0,6.0,8.0,8.0,8.0,6.0,6.0,8.0,8.0,6.0,4.0,2.0,0.0],[0.0,2.0,0.0,2.0,4.0,4.0,4.0,2.0,0.0,0.0,2.0,4.0,6.0,6.0,8.0,8.0,8.0,6.0,6.0,8.0,8.0,6.0,4.0,2.0,0.0],[0.0,0.0,2.0,0.0,2.0,4.0,4.0,4.0,2.0,0.0,0.0,2.0,4.0,6.0,6.0,8.0,8.0,8.0,6.0,6.0,8.0,8.0,6.0,4.0,2.0,0.0],[0.0,0.0,2.0,0.0,2.0,4.0,4.0,4.0,2.0,0.0,0.0,2.0,4.0,6.0,6.0,8.0,8.0,8.0,6.0,6.0,8.0,8.0,6.0,5.0,4.0,2.0,0.0],[0.0,0.0,2.0,0.0,2.0,4.0,4.0,3.0,4.0,2.0,0.0,0.0,2.0,4.0,6.0,6.0,8.0,8.0,8.0,6.0,6.0,8.0,8.0,6.0,5.0,4.0,2.0,0.0],[0.0,0.0,2.0,0.0,2.0,4.0,4.0,5.0,3.0,4.0,2.0,0.0,0.0,2.0,4.0,6.0,6.0,8.0,8.0,8.0,6.0,6.0,8.0,8.0,6.0,5.0,4.0,2.0,0.0],[0.0,0.0,2.0,0.0,2.0,4.0,4.0,5.0,3.0,4.0,2.0,0.0,0.0,2.0,4.0,6.0,6.0,8.0,8.0,8.0,7.0,6.0,6.0,8.0,8.0,6.0,5.0,4.0,2.0,0.0],[0.0,0.0,2.0,0.0,2.0,4.0,4.0,5.0,3.0,4.0,2.0,0.0,0.0,2.0,4.0,6.0,6.0,8.0,8.0,8.0,7.0,6.0,6.0,7.0,8.0,8.0,6.0,5.0,4.0,2.0,0.0],[0.0,0.0,2.0,0.0,2.0,4.0,4.0,5.0,3.0,4.0,2.0,0.0,0.0,2.0,4.0,6.0,6.0,8.0,8.0,7.0,8.0,7.0,6.0,6.0,7.0,8.0,8.0,6.0,5.0,4.0,2.0,0.0],[0.0,0.0,2.0,0.0,2.0,4.0,4.0,5.0,3.0,4.0,2.0,0.0,0.0,2.0,4.0,6.0,6.0,8.0,8.0,7.0,8.0,7.0,6.0,6.0,7.0,8.0,8.0,6.0,5.0,4.0,3.0,2.0,0.0],[0.0,0.0,2.0,0.0,2.0,3.0,4.0,4.0,5.0,3.0,4.0,2.0,0.0,0.0,2.0,4.0,6.0,6.0,8.0,8.0,7.0,8.0,7.0,6.0,6.0,7.0,8.0,8.0,6.0,5.0,4.0,3.0,2.0,0.0],[0.0,0.0,2.0,1.0,0.0,2.0,3.0,4.0,4.0,5.0,3.0,4.0,2.0,0.0,0.0,2.0,4.0,6.0,6.0,8.0,8.0,7.0,8.0,7.0,6.0,6.0,7.0,8.0,8.0,6.0,5.0,4.0,3.0,2.0,0.0],[0.0,0.0,2.0,1.0,0.0,2.0,3.0,4.0,4.0,5.0,3.0,4.0,3.0,2.0,0.0,0.0,2.0,4.0,6.0,6.0,8.0,8.0,7.0,8.0,7.0,6.0,6.0,7.0,8.0,8.0,6.0,5.0,4.0,3.0,2.0,0.0],[0.0,1.0,0.0,2.0,1.0,0.0,2.0,3.0,4.0,4.0,5.0,3.0,4.0,3.0,2.0,0.0,0.0,2.0,4.0,6.0,6.0,8.0,8.0,7.0,8.0,7.0,6.0,6.0,7.0,8.0,8.0,6.0,5.0,4.0,3.0,2.0,0.0],[0.0,1.0,0.0,2.0,1.0,0.0,2.0,3.0,4.0,4.0,5.0,3.0,4.0,3.0,2.0,0.0,0.0,2.0,4.0,5.0,6.0,6.0,8.0,8.0,7.0,8.0,7.0,6.0,6.0,7.0,8.0,8.0,6.0,5.0,4.0,3.0,2.0,0.0],[0.0,1.0,0.0,2.0,1.0,0.0,1.0,2.0,3.0,4.0,4.0,5.0,3.0,4.0,3.0,2.0,0.0,0.0,2.0,4.0,5.0,6.0,6.0,8.0,8.0,7.0,8.0,7.0,6.0,6.0,7.0,8.0,8.0,6.0,5.0,4.0,3.0,2.0,0.0],[0.0,1.0,0.0,2.0,1.0,0.0,1.0,2.0,3.0,4.0,4.0,5.0,3.0,4.0,3.0,2.0,1.0,0.0,0.0,2.0,4.0,5.0,6.0,6.0,8.0,8.0,7.0,8.0,7.0,6.0,6.0,7.0,8.0,8.0,6.0,5.0,4.0,3.0,2.0,0.0],[0.0,1.0,0.0,2.0,1.0,0.0,1.0,2.0,3.0,4.0,5.0,4.0,5.0,3.0,4.0,3.0,2.0,1.0,0.0,0.0,2.0,4.0,5.0,6.0,6.0,8.0,8.0,7.0,8.0,7.0,6.0,6.0,7.0,8.0,8.0,6.0,5.0,4.0,3.0,2.0,0.0],[0.0,1.0,0.0,2.0,1.0,0.0,1.0,2.0,3.0,4.0,5.0,4.0,5.0,3.0,4.0,3.0,2.0,1.0,0.0,0.0,2.0,4.0,5.0,6.0,6.0,7.0,8.0,8.0,7.0,8.0,7.0,6.0,6.0,7.0,8.0,8.0,6.0,5.0,4.0,3.0,2.0,0.0],[0.0,1.0,0.0,2.0,1.0,0.0,1.0,2.0,3.0,4.0,5.0,4.0,5.0,3.0,4.0,3.0,2.0,1.0,0.0,0.0,2.0,4.0,5.0,6.0,6.0,7.0,8.0,8.0,7.0,8.0,7.0,6.0,6.0,7.0,8.0,8.0,6.0,5.0,4.0,3.0,2.0,2.0,0.0],[0.0,1.0,0.0,2.0,1.0,0.0,1.0,2.0,3.0,4.0,5.0,4.0,5.0,3.0,4.0,3.0,2.0,1.0,0.0,0.0,2.0,4.0,5.0,6.0,6.0,7.0,8.0,8.0,7.0,8.0,7.0,6.0,6.0,6.0,7.0,8.0,8.0,6.0,5.0,4.0,3.0,2.0,2.0,0.0],[0.0,1.0,0.0,2.0,1.0,0.0,1.0,2.0,3.0,4.0,5.0,4.0,6.0,5.0,3.0,4.0,3.0,2.0,1.0,0.0,0.0,2.0,4.0,5.0,6.0,6.0,7.0,8.0,8.0,7.0,8.0,7.0,6.0,6.0,6.0,7.0,8.0,8.0,6.0,5.0,4.0,3.0,2.0,2.0,0.0],[0.0,1.0,0.0,2.0,1.0,0.0,1.0,2.0,3.0,4.0,5.0,4.0,6.0,5.0,3.0,4.0,3.0,2.0,1.0,0.0,0.0,0.0,2.0,4.0,5.0,6.0,6.0,7.0,8.0,8.0,7.0,8.0,7.0,6.0,6.0,6.0,7.0,8.0,8.0,6.0,5.0,4.0,3.0,2.0,2.0,0.0],[0.0,1.0,0.0,2.0,1.0,0.0,1.0,2.0,3.0,4.0,5.0,4.0,6.0,5.0,3.0,4.0,3.0,2.0,1.0,0.0,0.0,0.0,2.0,4.0,5.0,6.0,6.0,7.0,8.0,8.0,7.0,8.0,7.0,6.0,6.0,6.0,7.0,8.0,8.0,7.0,6.0,5.0,4.0,3.0,2.0,2.0,0.0],[0.0,1.0,0.0,2.0,1.0,0.0,1.0,2.0,3.0,4.0,5.0,4.0,6.0,5.0,3.0,4.0,3.0,2.0,1.0,0.0,0.0,0.0,2.0,4.0,5.0,6.0,6.0,7.0,8.0,8.0,7.0,8.0,7.0,6.0,6.0,6.0,7.0,8.0,8.0,7.0,6.0,5.0,4.0,3.0,3.0,2.0,2.0,0.0],[0.0,0.0,1.0,0.0,2.0,1.0,0.0,1.0,2.0,3.0,4.0,5.0,4.0,6.0,5.0,3.0,4.0,3.0,2.0,1.0,0.0,0.0,0.0,2.0,4.0,5.0,6.0,6.0,7.0,8.0,8.0,7.0,8.0,7.0,6.0,6.0,6.0,7.0,8.0,8.0,7.0,6.0,5.0,4.0,3.0,3.0,2.0,2.0,0.0],[0.0,0.0,1.0,0.0,2.0,1.0,0.0,1.0,2.0,3.0,4.0,5.0,4.0,6.0,5.0,3.0,4.0,3.0,2.0,1.0,0.0,0.0,0.0,2.0,4.0,5.0,6.0,6.0,7.0,8.0,8.0,8.0,7.0,8.0,7.0,6.0,6.0,6.0,7.0,8.0,8.0,7.0,6.0,5.0,4.0,3.0,3.0,2.0,2.0,0.0],[0.0,0.0,1.0,0.0,2.0,1.0,0.0,1.0,2.0,3.0,4.0,5.0,4.0,6.0,5.0,3.0,4.0,3.0,2.0,2.0,1.0,0.0,0.0,0.0,2.0,4.0,5.0,6.0,6.0,7.0,8.0,8.0,8.0,7.0,8.0,7.0,6.0,6.0,6.0,7.0,8.0,8.0,7.0,6.0,5.0,4.0,3.0,3.0,2.0,2.0,0.0],[0.0,0.0,1.0,0.0,2.0,2.0,1.0,0.0,1.0,2.0,3.0,4.0,5.0,4.0,6.0,5.0,3.0,4.0,3.0,2.0,2.0,1.0,0.0,0.0,0.0,2.0,4.0,5.0,6.0,6.0,7.0,8.0,8.0,8.0,7.0,8.0,7.0,6.0,6.0,6.0,7.0,8.0,8.0,7.0,6.0,5.0,4.0,3.0,3.0,2.0,2.0,0.0],[0.0,0.0,1.0,0.0,2.0,2.0,1.0,0.0,1.0,2.0,3.0,4.0,5.0,4.0,6.0,5.0,3.0,4.0,3.0,2.0,2.0,1.0,0.0,0.0,0.0,2.0,4.0,5.0,6.0,6.0,7.0,8.0,8.0,8.0,7.0,8.0,8.0,7.0,6.0,6.0,6.0,7.0,8.0,8.0,7.0,6.0,5.0,4.0,3.0,3.0,2.0,2.0,0.0],[0.0,0.0,1.0,0.0,2.0,2.0,1.0,0.0,1.0,2.0,3.0,4.0,5.0,4.0,6.0,5.0,3.0,3.0,4.0,3.0,2.0,2.0,1.0,0.0,0.0,0.0,2.0,4.0,5.0,6.0,6.0,7.0,8.0,8.0,8.0,7.0,8.0,8.0,7.0,6.0,6.0,6.0,7.0,8.0,8.0,7.0,6.0,5.0,4.0,3.0,3.0,2.0,2.0,0.0],[0.0,0.0,1.0,0.0,2.0,2.0,1.0,0.0,1.0,2.0,3.0,4.0,5.0,4.0,6.0,5.0,3.0,3.0,4.0,3.0,2.0,2.0,1.0,0.0,0.0,0.0,2.0,4.0,5.0,6.0,6.0,6.0,7.0,8.0,8.0,8.0,7.0,8.0,8.0,7.0,6.0,6.0,6.0,7.0,8.0,8.0,7.0,6.0,5.0,4.0,3.0,3.0,2.0,2.0,0.0],[0.0,0.0,1.0,0.0,2.0,2.0,1.0,0.0,1.0,2.0,3.0,3.0,4.0,5.0,4.0,6.0,5.0,3.0,3.0,4.0,3.0,2.0,2.0,1.0,0.0,0.0,0.0,2.0,4.0,5.0,6.0,6.0,6.0,7.0,8.0,8.0,8.0,7.0,8.0,8.0,7.0,6.0,6.0,6.0,7.0,8.0,8.0,7.0,6.0,5.0,4.0,3.0,3.0,2.0,2.0,0.0],[0.0,0.0,1.0,0.0,2.0,2.0,1.0,0.0,1.0,2.0,3.0,3.0,4.0,5.0,4.0,6.0,5.0,4.0,3.0,3.0,4.0,3.0,2.0,2.0,1.0,0.0,0.0,0.0,2.0,4.0,5.0,6.0,6.0,6.0,7.0,8.0,8.0,8.0,7.0,8.0,8.0,7.0,6.0,6.0,6.0,7.0,8.0,8.0,7.0,6.0,5.0,4.0,3.0,3.0,2.0,2.0,0.0],[0.0,0.0,1.0,0.0,2.0,2.0,1.0,0.0,1.0,2.0,3.0,3.0,4.0,5.0,4.0,6.0,5.0,4.0,3.0,3.0,4.0,3.0,2.0,2.0,1.0,0.0,0.0,0.0,2.0,4.0,5.0,6.0,6.0,6.0,7.0,7.0,8.0,8.0,8.0,7.0,8.0,8.0,7.0,6.0,6.0,6.0,7.0,8.0,8.0,7.0,6.0,5.0,4.0,3.0,3.0,2.0,2.0,0.0],[0.0,0.0,1.0,0.0,2.0,2.0,1.0,0.0,1.0,2.0,3.0,3.0,4.0,5.0,4.0,6.0,5.0,4.0,3.0,3.0,4.0,3.0,2.0,2.0,1.0,0.0,0.0,0.0,2.0,3.0,4.0,5.0,6.0,6.0,6.0,7.0,7.0,8.0,8.0,8.0,7.0,8.0,8.0,7.0,6.0,6.0,6.0,7.0,8.0,8.0,7.0,6.0,5.0,4.0,3.0,3.0,2.0,2.0,0.0],[0.0,0.0,1.0,0.0,2.0,2.0,1.0,0.0,1.0,2.0,3.0,3.0,4.0,5.0,4.0,6.0,5.0,4.0,3.0,3.0,4.0,3.0,2.0,2.0,1.0,0.0,0.0,0.0,2.0,3.0,4.0,5.0,6.0,6.0,6.0,7.0,7.0,8.0,8.0,8.0,7.0,8.0,8.0,7.0,6.0,6.0,6.0,7.0,8.0,8.0,7.0,6.0,5.0,4.0,4.0,3.0,3.0,2.0,2.0,0.0],[0.0,0.0,1.0,0.0,2.0,2.0,1.0,0.0,1.0,2.0,3.0,3.0,4.0,5.0,4.0,6.0,5.0,4.0,3.0,3.0,4.0,3.0,2.0,2.0,1.0,0.0,0.0,0.0,2.0,3.0,4.0,5.0,5.0,6.0,6.0,6.0,7.0,7.0,8.0,8.0,8.0,7.0,8.0,8.0,7.0,6.0,6.0,6.0,7.0,8.0,8.0,7.0,6.0,5.0,4.0,4.0,3.0,3.0,2.0,2.0,0.0],[0.0,0.0,1.0,0.0,2.0,2.0,1.0,0.0,1.0,2.0,3.0,3.0,4.0,5.0,4.0,6.0,5.0,4.0,3.0,3.0,4.0,3.0,2.0,2.0,1.0,0.0,0.0,0.0,2.0,3.0,4.0,5.0,5.0,6.0,6.0,6.0,7.0,7.0,8.0,8.0,8.0,7.0,8.0,8.0,7.0,6.0,6.0,6.0,7.0,8.0,8.0,7.0,6.0,5.0,5.0,4.0,4.0,3.0,3.0,2.0,2.0,0.0],[0.0,0.0,1.0,0.0,2.0,2.0,1.0,0.0,1.0,2.0,2.0,3.0,3.0,4.0,5.0,4.0,6.0,5.0,4.0,3.0,3.0,4.0,3.0,2.0,2.0,1.0,0.0,0.0,0.0,2.0,3.0,4.0,5.0,5.0,6.0,6.0,6.0,7.0,7.0,8.0,8.0,8.0,7.0,8.0,8.0,7.0,6.0,6.0,6.0,7.0,8.0,8.0,7.0,6.0,5.0,5.0,4.0,4.0,3.0,3.0,2.0,2.0,0.0],[0.0,0.0,1.0,0.0,2.0,2.0,1.0,0.0,1.0,2.0,2.0,3.0,3.0,4.0,5.0,5.0,4.0,6.0,5.0,4.0,3.0,3.0,4.0,3.0,2.0,2.0,1.0,0.0,0.0,0.0,2.0,3.0,4.0,5.0,5.0,6.0,6.0,6.0,7.0,7.0,8.0,8.0,8.0,7.0,8.0,8.0,7.0,6.0,6.0,6.0,7.0,8.0,8.0,7.0,6.0,5.0,5.0,4.0,4.0,3.0,3.0,2.0,2.0,0.0],[0.0,0.0,1.0,0.0,2.0,2.0,1.0,0.0,1.0,2.0,2.0,3.0,3.0,3.0,4.0,5.0,5.0,4.0,6.0,5.0,4.0,3.0,3.0,4.0,3.0,2.0,2.0,1.0,0.0,0.0,0.0,2.0,3.0,4.0,5.0,5.0,6.0,6.0,6.0,7.0,7.0,8.0,8.0,8.0,7.0,8.0,8.0,7.0,6.0,6.0,6.0,7.0,8.0,8.0,7.0,6.0,5.0,5.0,4.0,4.0,3.0,3.0,2.0,2.0,0.0],[0.0,0.0,1.0,0.0,2.0,2.0,1.0,0.0,0.0,1.0,2.0,2.0,3.0,3.0,3.0,4.0,5.0,5.0,4.0,6.0,5.0,4.0,3.0,3.0,4.0,3.0,2.0,2.0,1.0,0.0,0.0,0.0,2.0,3.0,4.0,5.0,5.0,6.0,6.0,6.0,7.0,7.0,8.0,8.0,8.0,7.0,8.0,8.0,7.0,6.0,6.0,6.0,7.0,8.0,8.0,7.0,6.0,5.0,5.0,4.0,4.0,3.0,3.0,2.0,2.0,0.0],[0.0,0.0,1.0,0.0,2.0,2.0,1.0,1.0,0.0,0.0,1.0,2.0,2.0,3.0,3.0,3.0,4.0,5.0,5.0,4.0,6.0,5.0,4.0,3.0,3.0,4.0,3.0,2.0,2.0,1.0,0.0,0.0,0.0,2.0,3.0,4.0,5.0,5.0,6.0,6.0,6.0,7.0,7.0,8.0,8.0,8.0,7.0,8.0,8.0,7.0,6.0,6.0,6.0,7.0,8.0,8.0,7.0,6.0,5.0,5.0,4.0,4.0,3.0,3.0,2.0,2.0,0.0],[0.0,0.0,1.0,0.0,1.0,2.0,2.0,1.0,1.0,0.0,0.0,1.0,2.0,2.0,3.0,3.0,3.0,4.0,5.0,5.0,4.0,6.0,5.0,4.0,3.0,3.0,4.0,3.0,2.0,2.0,1.0,0.0,0.0,0.0,2.0,3.0,4.0,5.0,5.0,6.0,6.0,6.0,7.0,7.0,8.0,8.0,8.0,7.0,8.0,8.0,7.0,6.0,6.0,6.0,7.0,8.0,8.0,7.0,6.0,5.0,5.0,4.0,4.0,3.0,3.0,2.0,2.0,0.0],[0.0,0.0,1.0,0.0,1.0,2.0,2.0,1.0,1.0,0.0,0.0,1.0,2.0,2.0,3.0,3.0,3.0,4.0,5.0,5.0,4.0,5.0,6.0,5.0,4.0,3.0,3.0,4.0,3.0,2.0,2.0,1.0,0.0,0.0,0.0,2.0,3.0,4.0,5.0,5.0,6.0,6.0,6.0,7.0,7.0,8.0,8.0,8.0,7.0,8.0,8.0,7.0,6.0,6.0,6.0,7.0,8.0,8.0,7.0,6.0,5.0,5.0,4.0,4.0,3.0,3.0,2.0,2.0,0.0],[0.0,0.0,1.0,0.0,1.0,2.0,2.0,1.0,1.0,0.0,0.0,1.0,2.0,2.0,3.0,3.0,3.0,4.0,5.0,5.0,5.0,4.0,5.0,6.0,5.0,4.0,3.0,3.0,4.0,3.0,2.0,2.0,1.0,0.0,0.0,0.0,2.0,3.0,4.0,5.0,5.0,6.0,6.0,6.0,7.0,7.0,8.0,8.0,8.0,7.0,8.0,8.0,7.0,6.0,6.0,6.0,7.0,8.0,8.0,7.0,6.0,5.0,5.0,4.0,4.0,3.0,3.0,2.0,2.0,0.0],[0.0,0.0,1.0,0.0,1.0,2.0,2.0,1.0,1.0,0.0,0.0,1.0,2.0,2.0,3.0,3.0,3.0,4.0,5.0,5.0,5.0,4.0,5.0,6.0,5.0,4.0,3.0,3.0,4.0,3.0,2.0,2.0,1.0,0.0,0.0,0.0,2.0,3.0,4.0,5.0,5.0,6.0,6.0,6.0,7.0,7.0,7.0,8.0,8.0,8.0,7.0,8.0,8.0,7.0,6.0,6.0,6.0,7.0,8.0,8.0,7.0,6.0,5.0,5.0,4.0,4.0,3.0,3.0,2.0,2.0,0.0],[0.0,0.0,1.0,0.0,1.0,2.0,2.0,1.0,1.0,0.0,0.0,1.0,2.0,2.0,3.0,3.0,3.0,4.0,5.0,5.0,5.0,4.0,5.0,6.0,5.0,4.0,3.0,3.0,4.0,3.0,2.0,2.0,1.0,0.0,0.0,0.0,1.0,2.0,3.0,4.0,5.0,5.0,6.0,6.0,6.0,7.0,7.0,7.0,8.0,8.0,8.0,7.0,8.0,8.0,7.0,6.0,6.0,6.0,7.0,8.0,8.0,7.0,6.0,5.0,5.0,4.0,4.0,3.0,3.0,2.0,2.0,0.0],[0.0,0.0,1.0,0.0,1.0,2.0,2.0,1.0,1.0,0.0,0.0,1.0,2.0,2.0,3.0,4.0,3.0,3.0,4.0,5.0,5.0,5.0,4.0,5.0,6.0,5.0,4.0,3.0,3.0,4.0,3.0,2.0,2.0,1.0,0.0,0.0,0.0,1.0,2.0,3.0,4.0,5.0,5.0,6.0,6.0,6.0,7.0,7.0,7.0,8.0,8.0,8.0,7.0,8.0,8.0,7.0,6.0,6.0,6.0,7.0,8.0,8.0,7.0,6.0,5.0,5.0,4.0,4.0,3.0,3.0,2.0,2.0,0.0],[0.0,0.0,1.0,0.0,1.0,2.0,2.0,1.0,1.0,0.0,0.0,1.0,2.0,2.0,3.0,4.0,3.0,3.0,4.0,5.0,5.0,5.0,4.0,5.0,6.0,5.0,4.0,3.0,3.0,4.0,3.0,2.0,2.0,1.0,0.0,0.0,0.0,1.0,2.0,3.0,4.0,5.0,5.0,6.0,6.0,6.0,7.0,7.0,7.0,8.0,8.0,8.0,7.0,8.0,8.0,7.0,6.0,6.0,6.0,7.0,8.0,8.0,7.0,6.0,5.0,5.0,4.0,4.0,3.0,3.0,2.0,2.0,1.0,0.0],[0.0,0.0,1.0,0.0,1.0,2.0,2.0,1.0,1.0,0.0,0.0,1.0,2.0,2.0,3.0,4.0,3.0,3.0,4.0,5.0,5.0,5.0,4.0,5.0,6.0,5.0,4.0,3.0,3.0,4.0,3.0,2.0,2.0,1.0,0.0,0.0,0.0,1.0,2.0,3.0,4.0,5.0,5.0,6.0,6.0,6.0,7.0,7.0,7.0,8.0,8.0,8.0,7.0,8.0,8.0,7.0,6.0,6.0,6.0,7.0,7.0,8.0,8.0,7.0,6.0,5.0,5.0,4.0,4.0,3.0,3.0,2.0,2.0,1.0,0.0],[0.0,0.0,1.0,0.0,1.0,2.0,2.0,1.0,1.0,0.0,0.0,1.0,2.0,2.0,3.0,4.0,3.0,3.0,4.0,5.0,5.0,5.0,4.0,5.0,6.0,5.0,4.0,3.0,3.0,4.0,3.0,2.0,2.0,1.0,0.0,0.0,0.0,1.0,2.0,3.0,4.0,5.0,5.0,6.0,6.0,6.0,7.0,7.0,7.0,8.0,8.0,8.0,8.0,7.0,8.0,8.0,7.0,6.0,6.0,6.0,7.0,7.0,8.0,8.0,7.0,6.0,5.0,5.0,4.0,4.0,3.0,3.0,2.0,2.0,1.0,0.0],[0.0,0.0,1.0,0.0,1.0,2.0,2.0,1.0,1.0,0.0,0.0,1.0,2.0,2.0,3.0,4.0,3.0,3.0,4.0,5.0,5.0,5.0,4.0,5.0,6.0,5.0,4.0,3.0,3.0,4.0,3.0,2.0,2.0,1.0,0.0,0.0,0.0,1.0,2.0,3.0,4.0,5.0,5.0,6.0,6.0,6.0,7.0,7.0,7.0,8.0,8.0,8.0,8.0,7.0,8.0,8.0,7.0,6.0,6.0,6.0,6.0,7.0,7.0,8.0,8.0,7.0,6.0,5.0,5.0,4.0,4.0,3.0,3.0,2.0,2.0,1.0,0.0],[0.0,0.0,1.0,0.0,1.0,2.0,2.0,1.0,1.0,0.0,0.0,1.0,2.0,2.0,3.0,4.0,3.0,3.0,4.0,5.0,5.0,5.0,4.0,5.0,6.0,5.0,4.0,3.0,3.0,4.0,4.0,3.0,2.0,2.0,1.0,0.0,0.0,0.0,1.0,2.0,3.0,4.0,5.0,5.0,6.0,6.0,6.0,7.0,7.0,7.0,8.0,8.0,8.0,8.0,7.0,8.0,8.0,7.0,6.0,6.0,6.0,6.0,7.0,7.0,8.0,8.0,7.0,6.0,5.0,5.0,4.0,4.0,3.0,3.0,2.0,2.0,1.0,0.0],[0.0,0.0,1.0,0.0,1.0,2.0,2.0,1.0,1.0,0.0,0.0,1.0,2.0,2.0,3.0,4.0,3.0,3.0,4.0,5.0,5.0,5.0,4.0,5.0,6.0,5.0,4.0,3.0,3.0,4.0,4.0,3.0,2.0,2.0,1.0,1.0,0.0,0.0,0.0,1.0,2.0,3.0,4.0,5.0,5.0,6.0,6.0,6.0,7.0,7.0,7.0,8.0,8.0,8.0,8.0,7.0,8.0,8.0,7.0,6.0,6.0,6.0,6.0,7.0,7.0,8.0,8.0,7.0,6.0,5.0,5.0,4.0,4.0,3.0,3.0,2.0,2.0,1.0,0.0],[0.0,0.0,1.0,0.0,1.0,2.0,2.0,1.0,1.0,0.0,0.0,1.0,2.0,2.0,3.0,4.0,3.0,3.0,4.0,5.0,5.0,5.0,4.0,5.0,6.0,5.0,4.0,3.0,3.0,4.0,4.0,3.0,2.0,2.0,1.0,1.0,0.0,0.0,0.0,1.0,2.0,3.0,4.0,5.0,5.0,6.0,6.0,6.0,7.0,7.0,7.0,8.0,8.0,8.0,8.0,7.0,8.0,8.0,7.0,6.0,6.0,6.0,6.0,7.0,7.0,8.0,8.0,8.0,7.0,6.0,5.0,5.0,4.0,4.0,3.0,3.0,2.0,2.0,1.0,0.0],[0.0,0.0,1.0,0.0,1.0,2.0,2.0,1.0,1.0,0.0,0.0,1.0,2.0,2.0,3.0,4.0,3.0,3.0,4.0,5.0,5.0,5.0,4.0,5.0,6.0,5.0,4.0,3.0,3.0,4.0,4.0,3.0,2.0,2.0,1.0,1.0,0.0,0.0,0.0,1.0,2.0,3.0,4.0,5.0,5.0,6.0,6.0,6.0,7.0,7.0,7.0,8.0,8.0,8.0,8.0,7.0,7.0,8.0,8.0,7.0,6.0,6.0,6.0,6.0,7.0,7.0,8.0,8.0,8.0,7.0,6.0,5.0,5.0,4.0,4.0,3.0,3.0,2.0,2.0,1.0,0.0],[0.0,0.0,1.0,0.0,0.0,1.0,2.0,2.0,1.0,1.0,0.0,0.0,1.0,2.0,2.0,3.0,4.0,3.0,3.0,4.0,5.0,5.0,5.0,4.0,5.0,6.0,5.0,4.0,3.0,3.0,4.0,4.0,3.0,2.0,2.0,1.0,1.0,0.0,0.0,0.0,1.0,2.0,3.0,4.0,5.0,5.0,6.0,6.0,6.0,7.0,7.0,7.0,8.0,8.0,8.0,8.0,7.0,7.0,8.0,8.0,7.0,6.0,6.0,6.0,6.0,7.0,7.0,8.0,8.0,8.0,7.0,6.0,5.0,5.0,4.0,4.0,3.0,3.0,2.0,2.0,1.0,0.0],[0.0,0.0,1.0,0.0,0.0,1.0,2.0,2.0,1.0,1.0,0.0,0.0,1.0,2.0,2.0,3.0,4.0,3.0,3.0,4.0,5.0,5.0,5.0,4.0,5.0,6.0,5.0,4.0,3.0,3.0,4.0,4.0,3.0,2.0,2.0,1.0,1.0,0.0,0.0,0.0,1.0,2.0,3.0,4.0,5.0,5.0,6.0,6.0,6.0,7.0,7.0,7.0,8.0,8.0,8.0,8.0,7.0,7.0,8.0,8.0,7.0,6.0,6.0,6.0,6.0,7.0,7.0,8.0,8.0,8.0,7.0,6.0,5.0,5.0,4.0,4.0,3.0,3.0,2.0,2.0,1.0,0.0]]},\"selected\":{\"id\":\"2598\"},\"selection_policy\":{\"id\":\"2597\"}},\"id\":\"2566\",\"type\":\"ColumnDataSource\"},{\"attributes\":{\"axis\":{\"id\":\"2540\"},\"grid_line_color\":null,\"ticker\":null},\"id\":\"2543\",\"type\":\"Grid\"},{\"attributes\":{\"end\":8.68,\"start\":-0.68},\"id\":\"2532\",\"type\":\"Range1d\"},{\"attributes\":{},\"id\":\"2590\",\"type\":\"Selection\"},{\"attributes\":{\"formatter\":{\"id\":\"2587\"},\"ticker\":{\"id\":\"2545\"},\"visible\":false},\"id\":\"2544\",\"type\":\"LinearAxis\"},{\"attributes\":{\"data\":{\"edges_x\":[0.0,8.0,0.0],\"edges_y\":[0.0,8.0,0.0]},\"selected\":{\"id\":\"2590\"},\"selection_policy\":{\"id\":\"2589\"}},\"id\":\"2567\",\"type\":\"ColumnDataSource\"},{\"attributes\":{},\"id\":\"2591\",\"type\":\"UnionRenderers\"},{\"attributes\":{},\"id\":\"2545\",\"type\":\"BasicTicker\"},{\"attributes\":{\"button_type\":\"success\",\"icon\":null,\"js_event_callbacks\":{\"button_click\":[{\"id\":\"2581\"}]},\"label\":\"Previous\",\"sizing_mode\":\"scale_width\",\"width_policy\":\"fit\"},\"id\":\"2580\",\"type\":\"Button\"},{\"attributes\":{},\"id\":\"2592\",\"type\":\"Selection\"},{\"attributes\":{\"axis\":{\"id\":\"2544\"},\"dimension\":1,\"grid_line_color\":null,\"ticker\":null},\"id\":\"2547\",\"type\":\"Grid\"},{\"attributes\":{},\"id\":\"2597\",\"type\":\"UnionRenderers\"},{\"attributes\":{\"source\":{\"id\":\"2567\"}},\"id\":\"2572\",\"type\":\"CDSView\"},{\"attributes\":{},\"id\":\"2598\",\"type\":\"Selection\"},{\"attributes\":{\"align\":\"center\",\"width\":200},\"id\":\"2564\",\"type\":\"Div\"},{\"attributes\":{\"line_width\":4,\"x\":{\"field\":\"edges_x\"},\"y\":{\"field\":\"edges_y\"}},\"id\":\"2569\",\"type\":\"Line\"},{\"attributes\":{\"data\":{\"x\":[0.0,0.0,0.0,0.0,0.0,0.0,0.0,0.0,0.0,1.0,1.0,1.0,1.0,1.0,1.0,1.0,1.0,1.0,2.0,2.0,2.0,2.0,2.0,2.0,2.0,2.0,2.0,3.0,3.0,3.0,3.0,3.0,3.0,3.0,3.0,3.0,4.0,4.0,4.0,4.0,4.0,4.0,4.0,4.0,4.0,5.0,5.0,5.0,5.0,5.0,5.0,5.0,5.0,5.0,6.0,6.0,6.0,6.0,6.0,6.0,6.0,6.0,6.0,7.0,7.0,7.0,7.0,7.0,7.0,7.0,7.0,7.0,8.0,8.0,8.0,8.0,8.0,8.0,8.0,8.0,8.0],\"y\":[0.0,1.0,2.0,3.0,4.0,5.0,6.0,7.0,8.0,0.0,1.0,2.0,3.0,4.0,5.0,6.0,7.0,8.0,0.0,1.0,2.0,3.0,4.0,5.0,6.0,7.0,8.0,0.0,1.0,2.0,3.0,4.0,5.0,6.0,7.0,8.0,0.0,1.0,2.0,3.0,4.0,5.0,6.0,7.0,8.0,0.0,1.0,2.0,3.0,4.0,5.0,6.0,7.0,8.0,0.0,1.0,2.0,3.0,4.0,5.0,6.0,7.0,8.0,0.0,1.0,2.0,3.0,4.0,5.0,6.0,7.0,8.0,0.0,1.0,2.0,3.0,4.0,5.0,6.0,7.0,8.0]},\"selected\":{\"id\":\"2592\"},\"selection_policy\":{\"id\":\"2591\"}},\"id\":\"2573\",\"type\":\"ColumnDataSource\"},{\"attributes\":{\"align\":\"center\",\"text\":\"22.6\",\"width\":200},\"id\":\"2563\",\"type\":\"Div\"},{\"attributes\":{\"line_alpha\":0.1,\"line_width\":4,\"x\":{\"field\":\"edges_x\"},\"y\":{\"field\":\"edges_y\"}},\"id\":\"2570\",\"type\":\"Line\"},{\"attributes\":{\"children\":[{\"id\":\"2563\"},{\"id\":\"2564\"}]},\"id\":\"2583\",\"type\":\"Row\"},{\"attributes\":{\"end\":8.68,\"start\":-0.68},\"id\":\"2534\",\"type\":\"Range1d\"},{\"attributes\":{},\"id\":\"2548\",\"type\":\"PanTool\"},{\"attributes\":{\"data_source\":{\"id\":\"2567\"},\"glyph\":{\"id\":\"2569\"},\"hover_glyph\":null,\"muted_glyph\":null,\"nonselection_glyph\":{\"id\":\"2570\"},\"selection_glyph\":null,\"view\":{\"id\":\"2572\"}},\"id\":\"2571\",\"type\":\"GlyphRenderer\"},{\"attributes\":{},\"id\":\"2549\",\"type\":\"WheelZoomTool\"},{\"attributes\":{\"background_fill_color\":null,\"below\":[{\"id\":\"2540\"}],\"border_fill_color\":null,\"center\":[{\"id\":\"2543\"},{\"id\":\"2547\"}],\"left\":[{\"id\":\"2544\"}],\"outline_line_color\":null,\"plot_height\":400,\"plot_width\":400,\"renderers\":[{\"id\":\"2571\"},{\"id\":\"2576\"}],\"title\":{\"id\":\"2530\"},\"toolbar\":{\"id\":\"2555\"},\"toolbar_location\":null,\"x_range\":{\"id\":\"2532\"},\"x_scale\":{\"id\":\"2536\"},\"y_range\":{\"id\":\"2534\"},\"y_scale\":{\"id\":\"2538\"}},\"id\":\"2529\",\"subtype\":\"Figure\",\"type\":\"Plot\"},{\"attributes\":{\"overlay\":{\"id\":\"2554\"}},\"id\":\"2550\",\"type\":\"BoxZoomTool\"},{\"attributes\":{},\"id\":\"2551\",\"type\":\"SaveTool\"},{\"attributes\":{\"fill_color\":{\"value\":\"steelblue\"},\"line_color\":{\"value\":\"steelblue\"},\"size\":{\"units\":\"screen\",\"value\":8},\"x\":{\"field\":\"x\"},\"y\":{\"field\":\"y\"}},\"id\":\"2574\",\"type\":\"Circle\"},{\"attributes\":{\"fill_alpha\":{\"value\":0.1},\"fill_color\":{\"value\":\"steelblue\"},\"line_alpha\":{\"value\":0.1},\"line_color\":{\"value\":\"steelblue\"},\"size\":{\"units\":\"screen\",\"value\":8},\"x\":{\"field\":\"x\"},\"y\":{\"field\":\"y\"}},\"id\":\"2575\",\"type\":\"Circle\"},{\"attributes\":{\"text\":\"\"},\"id\":\"2530\",\"type\":\"Title\"},{\"attributes\":{},\"id\":\"2552\",\"type\":\"ResetTool\"},{\"attributes\":{\"data_source\":{\"id\":\"2573\"},\"glyph\":{\"id\":\"2574\"},\"hover_glyph\":null,\"muted_glyph\":null,\"nonselection_glyph\":{\"id\":\"2575\"},\"selection_glyph\":null,\"view\":{\"id\":\"2577\"}},\"id\":\"2576\",\"type\":\"GlyphRenderer\"},{\"attributes\":{\"source\":{\"id\":\"2573\"}},\"id\":\"2577\",\"type\":\"CDSView\"},{\"attributes\":{},\"id\":\"2553\",\"type\":\"HelpTool\"},{\"attributes\":{\"button_type\":\"success\",\"icon\":null,\"js_event_callbacks\":{\"button_click\":[{\"id\":\"2579\"}]},\"label\":\"Next\",\"sizing_mode\":\"scale_width\",\"width_policy\":\"fit\"},\"id\":\"2578\",\"type\":\"Button\"},{\"attributes\":{\"active_drag\":\"auto\",\"active_inspect\":\"auto\",\"active_multi\":null,\"active_scroll\":\"auto\",\"active_tap\":\"auto\",\"logo\":null,\"tools\":[{\"id\":\"2548\"},{\"id\":\"2549\"},{\"id\":\"2550\"},{\"id\":\"2551\"},{\"id\":\"2552\"},{\"id\":\"2553\"}]},\"id\":\"2555\",\"type\":\"Toolbar\"}],\"root_ids\":[\"2599\"]},\"title\":\"Bokeh Application\",\"version\":\"2.1.0\"}};\n",
       "  var render_items = [{\"docid\":\"5d327549-ad62-4838-85db-32bd8bb38799\",\"root_ids\":[\"2599\"],\"roots\":{\"2599\":\"74458231-6f55-4557-a5b8-e51ecde1bb5c\"}}];\n",
       "  root.Bokeh.embed.embed_items_notebook(docs_json, render_items);\n",
       "\n",
       "  }\n",
       "  if (root.Bokeh !== undefined) {\n",
       "    embed_document(root);\n",
       "  } else {\n",
       "    var attempts = 0;\n",
       "    var timer = setInterval(function(root) {\n",
       "      if (root.Bokeh !== undefined) {\n",
       "        clearInterval(timer);\n",
       "        embed_document(root);\n",
       "      } else {\n",
       "        attempts++;\n",
       "        if (attempts > 100) {\n",
       "          clearInterval(timer);\n",
       "          console.log(\"Bokeh: ERROR: Unable to run BokehJS code because BokehJS library is missing\");\n",
       "        }\n",
       "      }\n",
       "    }, 10, root)\n",
       "  }\n",
       "})(window);"
      ],
      "application/vnd.bokehjs_exec.v0+json": ""
     },
     "metadata": {
      "application/vnd.bokehjs_exec.v0+json": {
       "id": "2599"
      }
     },
     "output_type": "display_data"
    }
   ],
   "source": [
    "tour = plot_tsp_heuristic(nodes, G, heuristic='furthest_insertion', initial=[0,len(G)-1,0])"
   ]
  },
  {
   "cell_type": "markdown",
   "metadata": {},
   "source": [
    "**Q10:** How did the results compare to the 6x8 grid using manhattan distances?\n",
    "\n",
    "**A:** <font color='blue'> Similar. </font>"
   ]
  },
  {
   "cell_type": "markdown",
   "metadata": {},
   "source": [
    "Again, let's run each heuristic numerous times and see how they compare."
   ]
  },
  {
   "cell_type": "code",
   "execution_count": 19,
   "metadata": {},
   "outputs": [
    {
     "name": "stdout",
     "output_type": "stream",
     "text": [
      "Heuristic Averages:\n",
      "Random Neighbor: 385.32279071262246\n",
      "Nearest Neighbor: 101.35433216508982\n",
      "Nearest Insertion: 87.7074442746385\n",
      "Furthest Insertion: 84.8893996235872\n"
     ]
    }
   ],
   "source": [
    "n = 100\n",
    "random_neighbor_total = 0\n",
    "nearest_neighbor_total = 0\n",
    "nearest_insertion_total = 0\n",
    "furthest_insertion_total = 0\n",
    "for i in range(n):\n",
    "    random_neighbor_total += tour_cost(G, random_neighbor(G))\n",
    "    nearest_neighbor_total += tour_cost(G, nearest_neighbor(G))\n",
    "    nearest_insertion_total += tour_cost(G, nearest_insertion(G))\n",
    "    furthest_insertion_total += tour_cost(G, furthest_insertion(G))\n",
    "print(\"Heuristic Averages:\")\n",
    "print(\"Random Neighbor: %s\" % (random_neighbor_total / n))\n",
    "print(\"Nearest Neighbor: %s\" % (nearest_neighbor_total / n))\n",
    "print(\"Nearest Insertion: %s\" % (nearest_insertion_total / n))\n",
    "print(\"Furthest Insertion: %s\" % (furthest_insertion_total / n))"
   ]
  },
  {
   "cell_type": "markdown",
   "metadata": {},
   "source": [
    "**Q11:** How did the results compare to the 6x8 grid using manhattan distances?\n",
    "\n",
    "**A:** <font color='blue'> Similar. </font>"
   ]
  },
  {
   "cell_type": "markdown",
   "metadata": {},
   "source": [
    "## Part III: Improving Tours: 2-OPT"
   ]
  },
  {
   "cell_type": "markdown",
   "metadata": {},
   "source": [
    "In **Part II**, we used heuristics to create TSP tours. However, we can also use heuristics to try and improve tours we have already found. We will examine a tour improvement heuristic called 2-OPT in this part. 2-OPT looks for pairs of edges which can be reconnected to strictly improve the tour cost. (Note: there is only one way to reconnect a pair of edges). It continues in this fashion until no more improvements can be made. Let's start by running 2-OPT after the nearest neighbor heuristic (using a 5x5 euclidian distance example)."
   ]
  },
  {
   "cell_type": "code",
   "execution_count": 20,
   "metadata": {},
   "outputs": [
    {
     "data": {
      "text/html": [
       "\n",
       "\n",
       "\n",
       "\n",
       "\n",
       "\n",
       "  <div class=\"bk-root\" id=\"7e06f104-4466-4b09-948b-e6add405aeaf\" data-root-id=\"2832\"></div>\n"
      ]
     },
     "metadata": {},
     "output_type": "display_data"
    },
    {
     "data": {
      "application/javascript": [
       "(function(root) {\n",
       "  function embed_document(root) {\n",
       "    \n",
       "  var docs_json = {\"7476f37d-04b9-43d8-8e84-c79251c4d31a\":{\"roots\":{\"references\":[{\"attributes\":{\"children\":[[{\"id\":\"2776\"},0,0],[{\"id\":\"2810\"},1,0]]},\"id\":\"2832\",\"type\":\"GridBox\"},{\"attributes\":{},\"id\":\"2826\",\"type\":\"UnionRenderers\"},{\"attributes\":{},\"id\":\"2788\",\"type\":\"BasicTicker\"},{\"attributes\":{\"formatter\":{\"id\":\"2822\"},\"ticker\":{\"id\":\"2788\"},\"visible\":false},\"id\":\"2787\",\"type\":\"LinearAxis\"},{\"attributes\":{},\"id\":\"2799\",\"type\":\"ResetTool\"},{\"attributes\":{},\"id\":\"2785\",\"type\":\"LinearScale\"},{\"attributes\":{\"bottom_units\":\"screen\",\"fill_alpha\":0.5,\"fill_color\":\"lightgrey\",\"left_units\":\"screen\",\"level\":\"overlay\",\"line_alpha\":1.0,\"line_color\":\"black\",\"line_dash\":[4,4],\"line_width\":2,\"right_units\":\"screen\",\"top_units\":\"screen\"},\"id\":\"2801\",\"type\":\"BoxAnnotation\"},{\"attributes\":{},\"id\":\"2783\",\"type\":\"LinearScale\"},{\"attributes\":{},\"id\":\"2800\",\"type\":\"HelpTool\"},{\"attributes\":{\"source\":{\"id\":\"2816\"}},\"id\":\"2820\",\"type\":\"CDSView\"},{\"attributes\":{\"overlay\":{\"id\":\"2801\"}},\"id\":\"2797\",\"type\":\"BoxZoomTool\"},{\"attributes\":{\"end\":4.34,\"start\":-0.34},\"id\":\"2781\",\"type\":\"Range1d\"},{\"attributes\":{\"line_alpha\":0.1,\"line_width\":4,\"x\":{\"field\":\"x\"},\"y\":{\"field\":\"y\"}},\"id\":\"2813\",\"type\":\"Line\"},{\"attributes\":{},\"id\":\"2795\",\"type\":\"PanTool\"},{\"attributes\":{},\"id\":\"2798\",\"type\":\"SaveTool\"},{\"attributes\":{\"end\":4.34,\"start\":-0.34},\"id\":\"2779\",\"type\":\"Range1d\"},{\"attributes\":{\"line_width\":4,\"x\":{\"field\":\"x\"},\"y\":{\"field\":\"y\"}},\"id\":\"2812\",\"type\":\"Line\"},{\"attributes\":{\"data\":{\"x\":[0.0,0.0,0.0,0.0,0.0,1.0,1.0,1.0,1.0,1.0,2.0,2.0,2.0,2.0,2.0,3.0,3.0,3.0,3.0,3.0,4.0,4.0,4.0,4.0,4.0],\"y\":[0.0,1.0,2.0,3.0,4.0,0.0,1.0,2.0,3.0,4.0,0.0,1.0,2.0,3.0,4.0,0.0,1.0,2.0,3.0,4.0,0.0,1.0,2.0,3.0,4.0]},\"selected\":{\"id\":\"2829\"},\"selection_policy\":{\"id\":\"2828\"}},\"id\":\"2816\",\"type\":\"ColumnDataSource\"},{\"attributes\":{\"text\":\"\"},\"id\":\"2777\",\"type\":\"Title\"},{\"attributes\":{\"active_drag\":\"auto\",\"active_inspect\":\"auto\",\"active_multi\":null,\"active_scroll\":\"auto\",\"active_tap\":\"auto\",\"logo\":null,\"tools\":[{\"id\":\"2795\"},{\"id\":\"2796\"},{\"id\":\"2797\"},{\"id\":\"2798\"},{\"id\":\"2799\"},{\"id\":\"2800\"}]},\"id\":\"2802\",\"type\":\"Toolbar\"},{\"attributes\":{\"fill_color\":{\"value\":\"steelblue\"},\"line_color\":{\"value\":\"steelblue\"},\"size\":{\"units\":\"screen\",\"value\":8},\"x\":{\"field\":\"x\"},\"y\":{\"field\":\"y\"}},\"id\":\"2817\",\"type\":\"Circle\"},{\"attributes\":{\"background_fill_color\":null,\"below\":[{\"id\":\"2787\"}],\"border_fill_color\":null,\"center\":[{\"id\":\"2790\"},{\"id\":\"2794\"}],\"left\":[{\"id\":\"2791\"}],\"outline_line_color\":null,\"plot_height\":400,\"plot_width\":400,\"renderers\":[{\"id\":\"2814\"},{\"id\":\"2819\"}],\"title\":{\"id\":\"2777\"},\"toolbar\":{\"id\":\"2802\"},\"toolbar_location\":null,\"x_range\":{\"id\":\"2779\"},\"x_scale\":{\"id\":\"2783\"},\"y_range\":{\"id\":\"2781\"},\"y_scale\":{\"id\":\"2785\"}},\"id\":\"2776\",\"subtype\":\"Figure\",\"type\":\"Plot\"},{\"attributes\":{},\"id\":\"2796\",\"type\":\"WheelZoomTool\"},{\"attributes\":{},\"id\":\"2828\",\"type\":\"UnionRenderers\"},{\"attributes\":{\"data_source\":{\"id\":\"2811\"},\"glyph\":{\"id\":\"2812\"},\"hover_glyph\":null,\"muted_glyph\":null,\"nonselection_glyph\":{\"id\":\"2813\"},\"selection_glyph\":null,\"view\":{\"id\":\"2815\"}},\"id\":\"2814\",\"type\":\"GlyphRenderer\"},{\"attributes\":{\"fill_alpha\":{\"value\":0.1},\"fill_color\":{\"value\":\"steelblue\"},\"line_alpha\":{\"value\":0.1},\"line_color\":{\"value\":\"steelblue\"},\"size\":{\"units\":\"screen\",\"value\":8},\"x\":{\"field\":\"x\"},\"y\":{\"field\":\"y\"}},\"id\":\"2818\",\"type\":\"Circle\"},{\"attributes\":{\"align\":\"center\",\"text\":\"31.7\",\"width\":400},\"id\":\"2810\",\"type\":\"Div\"},{\"attributes\":{},\"id\":\"2829\",\"type\":\"Selection\"},{\"attributes\":{\"source\":{\"id\":\"2811\"}},\"id\":\"2815\",\"type\":\"CDSView\"},{\"attributes\":{\"data\":{\"x\":[0.0,1.0,2.0,3.0,4.0,4.0,3.0,2.0,2.0,1.0,1.0,0.0,0.0,0.0,1.0,2.0,2.0,1.0,0.0,3.0,3.0,3.0,4.0,4.0,4.0,0.0],\"y\":[0.0,0.0,0.0,0.0,0.0,1.0,1.0,1.0,2.0,2.0,1.0,1.0,2.0,3.0,3.0,3.0,4.0,4.0,4.0,4.0,3.0,2.0,2.0,3.0,4.0,0.0]},\"selected\":{\"id\":\"2827\"},\"selection_policy\":{\"id\":\"2826\"}},\"id\":\"2811\",\"type\":\"ColumnDataSource\"},{\"attributes\":{},\"id\":\"2822\",\"type\":\"BasicTickFormatter\"},{\"attributes\":{\"axis\":{\"id\":\"2791\"},\"dimension\":1,\"grid_line_color\":null,\"ticker\":null},\"id\":\"2794\",\"type\":\"Grid\"},{\"attributes\":{\"data_source\":{\"id\":\"2816\"},\"glyph\":{\"id\":\"2817\"},\"hover_glyph\":null,\"muted_glyph\":null,\"nonselection_glyph\":{\"id\":\"2818\"},\"selection_glyph\":null,\"view\":{\"id\":\"2820\"}},\"id\":\"2819\",\"type\":\"GlyphRenderer\"},{\"attributes\":{},\"id\":\"2792\",\"type\":\"BasicTicker\"},{\"attributes\":{},\"id\":\"2827\",\"type\":\"Selection\"},{\"attributes\":{\"formatter\":{\"id\":\"2824\"},\"ticker\":{\"id\":\"2792\"},\"visible\":false},\"id\":\"2791\",\"type\":\"LinearAxis\"},{\"attributes\":{},\"id\":\"2824\",\"type\":\"BasicTickFormatter\"},{\"attributes\":{\"axis\":{\"id\":\"2787\"},\"grid_line_color\":null,\"ticker\":null},\"id\":\"2790\",\"type\":\"Grid\"}],\"root_ids\":[\"2832\"]},\"title\":\"Bokeh Application\",\"version\":\"2.1.0\"}};\n",
       "  var render_items = [{\"docid\":\"7476f37d-04b9-43d8-8e84-c79251c4d31a\",\"root_ids\":[\"2832\"],\"roots\":{\"2832\":\"7e06f104-4466-4b09-948b-e6add405aeaf\"}}];\n",
       "  root.Bokeh.embed.embed_items_notebook(docs_json, render_items);\n",
       "\n",
       "  }\n",
       "  if (root.Bokeh !== undefined) {\n",
       "    embed_document(root);\n",
       "  } else {\n",
       "    var attempts = 0;\n",
       "    var timer = setInterval(function(root) {\n",
       "      if (root.Bokeh !== undefined) {\n",
       "        clearInterval(timer);\n",
       "        embed_document(root);\n",
       "      } else {\n",
       "        attempts++;\n",
       "        if (attempts > 100) {\n",
       "          clearInterval(timer);\n",
       "          console.log(\"Bokeh: ERROR: Unable to run BokehJS code because BokehJS library is missing\");\n",
       "        }\n",
       "      }\n",
       "    }, 10, root)\n",
       "  }\n",
       "})(window);"
      ],
      "application/vnd.bokehjs_exec.v0+json": ""
     },
     "metadata": {
      "application/vnd.bokehjs_exec.v0+json": {
       "id": "2832"
      }
     },
     "output_type": "display_data"
    }
   ],
   "source": [
    "# First, we run the nearest neighbor heuristic to get an initial tour\n",
    "nodes, G = tsp_grid_instance(5,5,manhattan=False)\n",
    "tour = nearest_neighbor(G)\n",
    "plot_tour(nodes, G, tour)"
   ]
  },
  {
   "cell_type": "markdown",
   "metadata": {},
   "source": [
    "Run the following cell to generate a visualization of 2-OPT. In each iteration, 2 edges will be highlighted red and 2 will be highlighted blue. The red edges indicate the current position and the blue indicate the positon they will be reconnected in."
   ]
  },
  {
   "cell_type": "code",
   "execution_count": 21,
   "metadata": {},
   "outputs": [
    {
     "data": {
      "text/html": [
       "\n",
       "\n",
       "\n",
       "\n",
       "\n",
       "\n",
       "  <div class=\"bk-root\" id=\"9b208d4f-7442-42ca-9d98-a4316ae3f67a\" data-root-id=\"3097\"></div>\n"
      ]
     },
     "metadata": {},
     "output_type": "display_data"
    },
    {
     "data": {
      "application/javascript": [
       "(function(root) {\n",
       "  function embed_document(root) {\n",
       "    \n",
       "  var docs_json = {\"a5aa72ae-101a-455a-93c6-2f33efe6a8fd\":{\"roots\":{\"references\":[{\"attributes\":{\"children\":[[{\"id\":\"3009\"},0,0],[{\"id\":\"3074\"},1,0],[{\"id\":\"3075\"},2,0]]},\"id\":\"3097\",\"type\":\"GridBox\"},{\"attributes\":{\"text\":\"\"},\"id\":\"3010\",\"type\":\"Title\"},{\"attributes\":{\"data_source\":{\"id\":\"3049\"},\"glyph\":{\"id\":\"3061\"},\"hover_glyph\":null,\"muted_glyph\":null,\"nonselection_glyph\":{\"id\":\"3062\"},\"selection_glyph\":null,\"view\":{\"id\":\"3064\"}},\"id\":\"3063\",\"type\":\"GlyphRenderer\"},{\"attributes\":{},\"id\":\"3094\",\"type\":\"Selection\"},{\"attributes\":{\"axis\":{\"id\":\"3024\"},\"dimension\":1,\"grid_line_color\":null,\"ticker\":null},\"id\":\"3027\",\"type\":\"Grid\"},{\"attributes\":{},\"id\":\"3018\",\"type\":\"LinearScale\"},{\"attributes\":{\"line_alpha\":0.1,\"line_width\":4,\"x\":{\"field\":\"edges_x\"},\"y\":{\"field\":\"edges_y\"}},\"id\":\"3052\",\"type\":\"Line\"},{\"attributes\":{\"children\":[{\"id\":\"3043\"},{\"id\":\"3044\"}]},\"id\":\"3075\",\"type\":\"Row\"},{\"attributes\":{\"data\":{\"x\":[0.0,0.0,0.0,0.0,0.0,1.0,1.0,1.0,1.0,1.0,2.0,2.0,2.0,2.0,2.0,3.0,3.0,3.0,3.0,3.0,4.0,4.0,4.0,4.0,4.0],\"y\":[0.0,1.0,2.0,3.0,4.0,0.0,1.0,2.0,3.0,4.0,0.0,1.0,2.0,3.0,4.0,0.0,1.0,2.0,3.0,4.0,0.0,1.0,2.0,3.0,4.0]},\"selected\":{\"id\":\"3086\"},\"selection_policy\":{\"id\":\"3085\"}},\"id\":\"3065\",\"type\":\"ColumnDataSource\"},{\"attributes\":{\"formatter\":{\"id\":\"3077\"},\"ticker\":{\"id\":\"3021\"},\"visible\":false},\"id\":\"3020\",\"type\":\"LinearAxis\"},{\"attributes\":{\"source\":{\"id\":\"3049\"}},\"id\":\"3064\",\"type\":\"CDSView\"},{\"attributes\":{\"bottom_units\":\"screen\",\"fill_alpha\":0.5,\"fill_color\":\"lightgrey\",\"left_units\":\"screen\",\"level\":\"overlay\",\"line_alpha\":1.0,\"line_color\":\"black\",\"line_dash\":[4,4],\"line_width\":2,\"right_units\":\"screen\",\"top_units\":\"screen\"},\"id\":\"3034\",\"type\":\"BoxAnnotation\"},{\"attributes\":{},\"id\":\"3021\",\"type\":\"BasicTicker\"},{\"attributes\":{},\"id\":\"3016\",\"type\":\"LinearScale\"},{\"attributes\":{\"align\":\"center\",\"text\":\"0\",\"width\":400},\"id\":\"3045\",\"type\":\"Div\"},{\"attributes\":{\"axis\":{\"id\":\"3020\"},\"grid_line_color\":null,\"ticker\":null},\"id\":\"3023\",\"type\":\"Grid\"},{\"attributes\":{\"data\":{\"costs\":[31.65685424949238,31.162277660168378,30.398345637668168,29.767828935632366,29.634413615167958,29.22677276241436,27.99070478491457,27.478708664619077],\"edges_x\":[[0.0,1.0,2.0,3.0,4.0,4.0,3.0,2.0,2.0,1.0,1.0,0.0,0.0,0.0,1.0,2.0,2.0,1.0,0.0,3.0,3.0,3.0,4.0,4.0,4.0,0.0],[0.0,1.0,2.0,3.0,4.0,4.0,4.0,4.0,4.0,3.0,3.0,3.0,0.0,1.0,2.0,2.0,1.0,0.0,0.0,0.0,1.0,1.0,2.0,2.0,3.0,0.0],[0.0,1.0,2.0,3.0,4.0,4.0,4.0,4.0,4.0,3.0,3.0,3.0,0.0,1.0,2.0,2.0,1.0,0.0,0.0,0.0,1.0,1.0,2.0,2.0,3.0,0.0],[0.0,1.0,2.0,3.0,4.0,4.0,4.0,4.0,4.0,3.0,3.0,3.0,0.0,1.0,2.0,2.0,1.0,0.0,0.0,0.0,1.0,1.0,2.0,2.0,3.0,0.0],[0.0,1.0,2.0,3.0,4.0,4.0,4.0,4.0,4.0,3.0,3.0,3.0,2.0,1.0,0.0,2.0,1.0,0.0,0.0,0.0,1.0,1.0,2.0,2.0,3.0,0.0],[0.0,1.0,2.0,3.0,4.0,4.0,4.0,4.0,4.0,3.0,3.0,3.0,2.0,0.0,1.0,2.0,1.0,0.0,0.0,0.0,1.0,1.0,2.0,2.0,3.0,0.0],[0.0,1.0,2.0,3.0,4.0,4.0,4.0,4.0,4.0,3.0,3.0,3.0,2.0,2.0,1.0,0.0,1.0,0.0,0.0,0.0,1.0,1.0,2.0,2.0,3.0,0.0],[0.0,1.0,2.0,3.0,4.0,4.0,4.0,4.0,4.0,3.0,3.0,3.0,2.0,2.0,1.0,0.0,1.0,0.0,0.0,0.0,1.0,1.0,2.0,3.0,2.0,0.0]],\"edges_y\":[[0.0,0.0,0.0,0.0,0.0,1.0,1.0,1.0,2.0,2.0,1.0,1.0,2.0,3.0,3.0,3.0,4.0,4.0,4.0,4.0,3.0,2.0,2.0,3.0,4.0,0.0],[0.0,0.0,0.0,0.0,0.0,1.0,4.0,3.0,2.0,2.0,3.0,4.0,4.0,4.0,4.0,3.0,3.0,3.0,2.0,1.0,1.0,2.0,2.0,1.0,1.0,0.0],[0.0,0.0,0.0,0.0,0.0,1.0,2.0,3.0,4.0,2.0,3.0,4.0,4.0,4.0,4.0,3.0,3.0,3.0,2.0,1.0,1.0,2.0,2.0,1.0,1.0,0.0],[0.0,0.0,0.0,0.0,0.0,1.0,2.0,3.0,4.0,4.0,3.0,2.0,4.0,4.0,4.0,3.0,3.0,3.0,2.0,1.0,1.0,2.0,2.0,1.0,1.0,0.0],[0.0,0.0,0.0,0.0,0.0,1.0,2.0,3.0,4.0,4.0,3.0,2.0,4.0,4.0,4.0,3.0,3.0,3.0,2.0,1.0,1.0,2.0,2.0,1.0,1.0,0.0],[0.0,0.0,0.0,0.0,0.0,1.0,2.0,3.0,4.0,4.0,3.0,2.0,3.0,4.0,4.0,4.0,3.0,3.0,2.0,1.0,1.0,2.0,2.0,1.0,1.0,0.0],[0.0,0.0,0.0,0.0,0.0,1.0,2.0,3.0,4.0,4.0,3.0,2.0,3.0,4.0,4.0,4.0,3.0,3.0,2.0,1.0,1.0,2.0,2.0,1.0,1.0,0.0],[0.0,0.0,0.0,0.0,0.0,1.0,2.0,3.0,4.0,4.0,3.0,2.0,3.0,4.0,4.0,4.0,3.0,3.0,2.0,1.0,1.0,2.0,2.0,1.0,1.0,0.0]]},\"selected\":{\"id\":\"3092\"},\"selection_policy\":{\"id\":\"3091\"}},\"id\":\"3046\",\"type\":\"ColumnDataSource\"},{\"attributes\":{\"fill_color\":{\"value\":\"steelblue\"},\"line_color\":{\"value\":\"steelblue\"},\"size\":{\"units\":\"screen\",\"value\":8},\"x\":{\"field\":\"x\"},\"y\":{\"field\":\"y\"}},\"id\":\"3066\",\"type\":\"Circle\"},{\"attributes\":{\"end\":4.34,\"start\":-0.34},\"id\":\"3014\",\"type\":\"Range1d\"},{\"attributes\":{\"formatter\":{\"id\":\"3079\"},\"ticker\":{\"id\":\"3025\"},\"visible\":false},\"id\":\"3024\",\"type\":\"LinearAxis\"},{\"attributes\":{\"fill_alpha\":{\"value\":0.1},\"fill_color\":{\"value\":\"steelblue\"},\"line_alpha\":{\"value\":0.1},\"line_color\":{\"value\":\"steelblue\"},\"size\":{\"units\":\"screen\",\"value\":8},\"x\":{\"field\":\"x\"},\"y\":{\"field\":\"y\"}},\"id\":\"3067\",\"type\":\"Circle\"},{\"attributes\":{\"source\":{\"id\":\"3049\"}},\"id\":\"3059\",\"type\":\"CDSView\"},{\"attributes\":{\"data_source\":{\"id\":\"3065\"},\"glyph\":{\"id\":\"3066\"},\"hover_glyph\":null,\"muted_glyph\":null,\"nonselection_glyph\":{\"id\":\"3067\"},\"selection_glyph\":null,\"view\":{\"id\":\"3069\"}},\"id\":\"3068\",\"type\":\"GlyphRenderer\"},{\"attributes\":{\"data\":{\"edges_x\":[0.0,1.0,2.0,3.0,4.0,4.0,3.0,2.0,2.0,1.0,1.0,0.0,0.0,0.0,1.0,2.0,2.0,1.0,0.0,3.0,3.0,3.0,4.0,4.0,4.0,0.0],\"edges_y\":[0.0,0.0,0.0,0.0,0.0,1.0,1.0,1.0,2.0,2.0,1.0,1.0,2.0,3.0,3.0,3.0,4.0,4.0,4.0,4.0,3.0,2.0,2.0,3.0,4.0,0.0]},\"selected\":{\"id\":\"3082\"},\"selection_policy\":{\"id\":\"3081\"}},\"id\":\"3047\",\"type\":\"ColumnDataSource\"},{\"attributes\":{\"source\":{\"id\":\"3065\"}},\"id\":\"3069\",\"type\":\"CDSView\"},{\"attributes\":{},\"id\":\"3025\",\"type\":\"BasicTicker\"},{\"attributes\":{\"data\":{\"swaps_after_x\":[[[4.0,4.0],[3.0,0.0]],[[4.0,4.0],[4.0,3.0]],[[4.0,3.0],[3.0,0.0]],[[3.0,2.0],[0.0,2.0]],[[3.0,2.0],[2.0,1.0]],[[2.0,2.0],[0.0,1.0]],[[2.0,3.0],[2.0,0.0]]],\"swaps_after_y\":[[[1.0,4.0],[1.0,0.0]],[[1.0,2.0],[4.0,2.0]],[[4.0,4.0],[2.0,4.0]],[[2.0,4.0],[4.0,3.0]],[[2.0,3.0],[4.0,3.0]],[[3.0,4.0],[4.0,3.0]],[[2.0,1.0],[1.0,0.0]]],\"swaps_before_x\":[[[4.0,3.0],[4.0,0.0]],[[4.0,4.0],[4.0,3.0]],[[4.0,3.0],[3.0,0.0]],[[3.0,0.0],[2.0,2.0]],[[3.0,2.0],[2.0,1.0]],[[2.0,0.0],[2.0,1.0]],[[2.0,2.0],[3.0,0.0]]],\"swaps_before_y\":[[[1.0,1.0],[4.0,0.0]],[[1.0,4.0],[2.0,2.0]],[[4.0,2.0],[4.0,4.0]],[[2.0,4.0],[4.0,3.0]],[[2.0,4.0],[3.0,3.0]],[[3.0,4.0],[4.0,3.0]],[[2.0,1.0],[1.0,0.0]]]},\"selected\":{\"id\":\"3094\"},\"selection_policy\":{\"id\":\"3093\"}},\"id\":\"3048\",\"type\":\"ColumnDataSource\"},{\"attributes\":{},\"id\":\"3031\",\"type\":\"SaveTool\"},{\"attributes\":{\"args\":{\"cost\":{\"id\":\"3043\"},\"done\":{\"id\":\"3044\"},\"n\":{\"id\":\"3045\"},\"source\":{\"id\":\"3046\"},\"swaps\":{\"id\":\"3049\"},\"swaps_source\":{\"id\":\"3048\"},\"tour\":{\"id\":\"3047\"}},\"code\":\"\\nif ((parseInt(n.text) + 1) < source.data['edges_y'].length) {\\n    n.text = (parseInt(n.text) + 1).toString()\\n}\\nvar iteration = parseInt(n.text)\\n\\n    cost.text = source.data['costs'][iteration].toFixed(1)\\n    \\n    if (iteration == source.data['edges_y'].length - 1) {\\n        done.text = \\\"done.\\\"\\n        swaps.data['swaps_before_x'] = [[]]\\n        swaps.data['swaps_before_y'] = [[]]\\n        swaps.data['swaps_after_x'] = [[]]\\n        swaps.data['swaps_after_y'] = [[]]\\n    } else {\\n        done.text = \\\"\\\"\\n        swaps.data['swaps_before_x'] = swaps_source.data['swaps_before_x'][iteration]\\n        swaps.data['swaps_before_y'] = swaps_source.data['swaps_before_y'][iteration]\\n        swaps.data['swaps_after_x'] = swaps_source.data['swaps_after_x'][iteration]\\n        swaps.data['swaps_after_y'] = swaps_source.data['swaps_after_y'][iteration]\\n    }\\n\\n    tour.data['edges_x'] = source.data['edges_x'][iteration]\\n    tour.data['edges_y'] = source.data['edges_y'][iteration]\\n    tour.change.emit()\\n    swaps.change.emit()\\n    \"},\"id\":\"3071\",\"type\":\"CustomJS\"},{\"attributes\":{\"end\":4.34,\"start\":-0.34},\"id\":\"3012\",\"type\":\"Range1d\"},{\"attributes\":{\"button_type\":\"success\",\"icon\":null,\"js_event_callbacks\":{\"button_click\":[{\"id\":\"3071\"}]},\"label\":\"Next\",\"sizing_mode\":\"scale_width\",\"width_policy\":\"fit\"},\"id\":\"3070\",\"type\":\"Button\"},{\"attributes\":{\"align\":\"center\",\"width\":200},\"id\":\"3044\",\"type\":\"Div\"},{\"attributes\":{},\"id\":\"3092\",\"type\":\"Selection\"},{\"attributes\":{\"data\":{\"swaps_after_x\":[[4.0,4.0],[3.0,0.0]],\"swaps_after_y\":[[1.0,4.0],[1.0,0.0]],\"swaps_before_x\":[[4.0,3.0],[4.0,0.0]],\"swaps_before_y\":[[1.0,1.0],[4.0,0.0]]},\"selected\":{\"id\":\"3084\"},\"selection_policy\":{\"id\":\"3083\"}},\"id\":\"3049\",\"type\":\"ColumnDataSource\"},{\"attributes\":{\"button_type\":\"success\",\"icon\":null,\"js_event_callbacks\":{\"button_click\":[{\"id\":\"3073\"}]},\"label\":\"Previous\",\"sizing_mode\":\"scale_width\",\"width_policy\":\"fit\"},\"id\":\"3072\",\"type\":\"Button\"},{\"attributes\":{},\"id\":\"3028\",\"type\":\"PanTool\"},{\"attributes\":{\"data_source\":{\"id\":\"3047\"},\"glyph\":{\"id\":\"3051\"},\"hover_glyph\":null,\"muted_glyph\":null,\"nonselection_glyph\":{\"id\":\"3052\"},\"selection_glyph\":null,\"view\":{\"id\":\"3054\"}},\"id\":\"3053\",\"type\":\"GlyphRenderer\"},{\"attributes\":{},\"id\":\"3081\",\"type\":\"UnionRenderers\"},{\"attributes\":{\"align\":\"center\",\"text\":\"31.7\",\"width\":200},\"id\":\"3043\",\"type\":\"Div\"},{\"attributes\":{\"children\":[{\"id\":\"3072\"},{\"id\":\"3070\"}],\"max_width\":400,\"sizing_mode\":\"stretch_both\"},\"id\":\"3074\",\"type\":\"Row\"},{\"attributes\":{},\"id\":\"3077\",\"type\":\"BasicTickFormatter\"},{\"attributes\":{\"source\":{\"id\":\"3047\"}},\"id\":\"3054\",\"type\":\"CDSView\"},{\"attributes\":{},\"id\":\"3082\",\"type\":\"Selection\"},{\"attributes\":{},\"id\":\"3083\",\"type\":\"UnionRenderers\"},{\"attributes\":{},\"id\":\"3029\",\"type\":\"WheelZoomTool\"},{\"attributes\":{\"line_color\":{\"value\":\"red\"},\"line_width\":{\"value\":4},\"xs\":{\"field\":\"swaps_before_x\"},\"ys\":{\"field\":\"swaps_before_y\"}},\"id\":\"3056\",\"type\":\"MultiLine\"},{\"attributes\":{},\"id\":\"3084\",\"type\":\"Selection\"},{\"attributes\":{\"args\":{\"cost\":{\"id\":\"3043\"},\"done\":{\"id\":\"3044\"},\"n\":{\"id\":\"3045\"},\"source\":{\"id\":\"3046\"},\"swaps\":{\"id\":\"3049\"},\"swaps_source\":{\"id\":\"3048\"},\"tour\":{\"id\":\"3047\"}},\"code\":\"\\nif ((parseInt(n.text) - 1) >= 0) {\\n    n.text = (parseInt(n.text) - 1).toString()\\n}\\nvar iteration = parseInt(n.text)\\n\\n    cost.text = source.data['costs'][iteration].toFixed(1)\\n    \\n    if (iteration == source.data['edges_y'].length - 1) {\\n        done.text = \\\"done.\\\"\\n        swaps.data['swaps_before_x'] = [[]]\\n        swaps.data['swaps_before_y'] = [[]]\\n        swaps.data['swaps_after_x'] = [[]]\\n        swaps.data['swaps_after_y'] = [[]]\\n    } else {\\n        done.text = \\\"\\\"\\n        swaps.data['swaps_before_x'] = swaps_source.data['swaps_before_x'][iteration]\\n        swaps.data['swaps_before_y'] = swaps_source.data['swaps_before_y'][iteration]\\n        swaps.data['swaps_after_x'] = swaps_source.data['swaps_after_x'][iteration]\\n        swaps.data['swaps_after_y'] = swaps_source.data['swaps_after_y'][iteration]\\n    }\\n\\n    tour.data['edges_x'] = source.data['edges_x'][iteration]\\n    tour.data['edges_y'] = source.data['edges_y'][iteration]\\n    tour.change.emit()\\n    swaps.change.emit()\\n    \"},\"id\":\"3073\",\"type\":\"CustomJS\"},{\"attributes\":{\"overlay\":{\"id\":\"3034\"}},\"id\":\"3030\",\"type\":\"BoxZoomTool\"},{\"attributes\":{},\"id\":\"3093\",\"type\":\"UnionRenderers\"},{\"attributes\":{\"line_alpha\":{\"value\":0.1},\"line_color\":{\"value\":\"red\"},\"line_width\":{\"value\":4},\"xs\":{\"field\":\"swaps_before_x\"},\"ys\":{\"field\":\"swaps_before_y\"}},\"id\":\"3057\",\"type\":\"MultiLine\"},{\"attributes\":{},\"id\":\"3085\",\"type\":\"UnionRenderers\"},{\"attributes\":{},\"id\":\"3032\",\"type\":\"ResetTool\"},{\"attributes\":{\"background_fill_color\":null,\"below\":[{\"id\":\"3020\"}],\"border_fill_color\":null,\"center\":[{\"id\":\"3023\"},{\"id\":\"3027\"}],\"left\":[{\"id\":\"3024\"}],\"outline_line_color\":null,\"plot_height\":400,\"plot_width\":400,\"renderers\":[{\"id\":\"3053\"},{\"id\":\"3058\"},{\"id\":\"3063\"},{\"id\":\"3068\"}],\"title\":{\"id\":\"3010\"},\"toolbar\":{\"id\":\"3035\"},\"toolbar_location\":null,\"x_range\":{\"id\":\"3012\"},\"x_scale\":{\"id\":\"3016\"},\"y_range\":{\"id\":\"3014\"},\"y_scale\":{\"id\":\"3018\"}},\"id\":\"3009\",\"subtype\":\"Figure\",\"type\":\"Plot\"},{\"attributes\":{\"data_source\":{\"id\":\"3049\"},\"glyph\":{\"id\":\"3056\"},\"hover_glyph\":null,\"muted_glyph\":null,\"nonselection_glyph\":{\"id\":\"3057\"},\"selection_glyph\":null,\"view\":{\"id\":\"3059\"}},\"id\":\"3058\",\"type\":\"GlyphRenderer\"},{\"attributes\":{},\"id\":\"3086\",\"type\":\"Selection\"},{\"attributes\":{},\"id\":\"3091\",\"type\":\"UnionRenderers\"},{\"attributes\":{},\"id\":\"3033\",\"type\":\"HelpTool\"},{\"attributes\":{\"line_alpha\":{\"value\":0.1},\"line_color\":{\"value\":\"#90D7F6\"},\"line_width\":{\"value\":4},\"xs\":{\"field\":\"swaps_after_x\"},\"ys\":{\"field\":\"swaps_after_y\"}},\"id\":\"3062\",\"type\":\"MultiLine\"},{\"attributes\":{\"line_width\":4,\"x\":{\"field\":\"edges_x\"},\"y\":{\"field\":\"edges_y\"}},\"id\":\"3051\",\"type\":\"Line\"},{\"attributes\":{},\"id\":\"3079\",\"type\":\"BasicTickFormatter\"},{\"attributes\":{\"line_color\":{\"value\":\"#90D7F6\"},\"line_width\":{\"value\":4},\"xs\":{\"field\":\"swaps_after_x\"},\"ys\":{\"field\":\"swaps_after_y\"}},\"id\":\"3061\",\"type\":\"MultiLine\"},{\"attributes\":{\"active_drag\":\"auto\",\"active_inspect\":\"auto\",\"active_multi\":null,\"active_scroll\":\"auto\",\"active_tap\":\"auto\",\"logo\":null,\"tools\":[{\"id\":\"3028\"},{\"id\":\"3029\"},{\"id\":\"3030\"},{\"id\":\"3031\"},{\"id\":\"3032\"},{\"id\":\"3033\"}]},\"id\":\"3035\",\"type\":\"Toolbar\"}],\"root_ids\":[\"3097\"]},\"title\":\"Bokeh Application\",\"version\":\"2.1.0\"}};\n",
       "  var render_items = [{\"docid\":\"a5aa72ae-101a-455a-93c6-2f33efe6a8fd\",\"root_ids\":[\"3097\"],\"roots\":{\"3097\":\"9b208d4f-7442-42ca-9d98-a4316ae3f67a\"}}];\n",
       "  root.Bokeh.embed.embed_items_notebook(docs_json, render_items);\n",
       "\n",
       "  }\n",
       "  if (root.Bokeh !== undefined) {\n",
       "    embed_document(root);\n",
       "  } else {\n",
       "    var attempts = 0;\n",
       "    var timer = setInterval(function(root) {\n",
       "      if (root.Bokeh !== undefined) {\n",
       "        clearInterval(timer);\n",
       "        embed_document(root);\n",
       "      } else {\n",
       "        attempts++;\n",
       "        if (attempts > 100) {\n",
       "          clearInterval(timer);\n",
       "          console.log(\"Bokeh: ERROR: Unable to run BokehJS code because BokehJS library is missing\");\n",
       "        }\n",
       "      }\n",
       "    }, 10, root)\n",
       "  }\n",
       "})(window);"
      ],
      "application/vnd.bokehjs_exec.v0+json": ""
     },
     "metadata": {
      "application/vnd.bokehjs_exec.v0+json": {
       "id": "3097"
      }
     },
     "output_type": "display_data"
    }
   ],
   "source": [
    "plot_two_opt(nodes, G, list(tour));"
   ]
  },
  {
   "cell_type": "markdown",
   "metadata": {},
   "source": [
    "**Q12:** Run 2-OPT a few times. Do you get the same result every time? Why or why not?\n",
    "\n",
    "**A:** <font color='blue'> Yes. There is no randomness in this algorithm.</font>"
   ]
  },
  {
   "cell_type": "markdown",
   "metadata": {},
   "source": [
    "Let's run 2-OPT a few times on a slightly larger grid."
   ]
  },
  {
   "cell_type": "code",
   "execution_count": 22,
   "metadata": {},
   "outputs": [
    {
     "data": {
      "text/html": [
       "\n",
       "\n",
       "\n",
       "\n",
       "\n",
       "\n",
       "  <div class=\"bk-root\" id=\"9b14c03d-9d62-44c8-90bc-fbb1ab7aca68\" data-root-id=\"3410\"></div>\n"
      ]
     },
     "metadata": {},
     "output_type": "display_data"
    },
    {
     "data": {
      "application/javascript": [
       "(function(root) {\n",
       "  function embed_document(root) {\n",
       "    \n",
       "  var docs_json = {\"13169cf3-67c7-4428-ae9d-6e785f9a61bb\":{\"roots\":{\"references\":[{\"attributes\":{\"children\":[[{\"id\":\"3322\"},0,0],[{\"id\":\"3387\"},1,0],[{\"id\":\"3388\"},2,0]]},\"id\":\"3410\",\"type\":\"GridBox\"},{\"attributes\":{},\"id\":\"3392\",\"type\":\"BasicTickFormatter\"},{\"attributes\":{},\"id\":\"3329\",\"type\":\"LinearScale\"},{\"attributes\":{\"children\":[{\"id\":\"3356\"},{\"id\":\"3357\"}]},\"id\":\"3388\",\"type\":\"Row\"},{\"attributes\":{},\"id\":\"3394\",\"type\":\"UnionRenderers\"},{\"attributes\":{},\"id\":\"3331\",\"type\":\"LinearScale\"},{\"attributes\":{\"children\":[{\"id\":\"3385\"},{\"id\":\"3383\"}],\"max_width\":400,\"sizing_mode\":\"stretch_both\"},\"id\":\"3387\",\"type\":\"Row\"},{\"attributes\":{},\"id\":\"3395\",\"type\":\"Selection\"},{\"attributes\":{\"formatter\":{\"id\":\"3390\"},\"ticker\":{\"id\":\"3334\"},\"visible\":false},\"id\":\"3333\",\"type\":\"LinearAxis\"},{\"attributes\":{\"line_alpha\":0.1,\"line_width\":4,\"x\":{\"field\":\"edges_x\"},\"y\":{\"field\":\"edges_y\"}},\"id\":\"3365\",\"type\":\"Line\"},{\"attributes\":{},\"id\":\"3396\",\"type\":\"UnionRenderers\"},{\"attributes\":{\"bottom_units\":\"screen\",\"fill_alpha\":0.5,\"fill_color\":\"lightgrey\",\"left_units\":\"screen\",\"level\":\"overlay\",\"line_alpha\":1.0,\"line_color\":\"black\",\"line_dash\":[4,4],\"line_width\":2,\"right_units\":\"screen\",\"top_units\":\"screen\"},\"id\":\"3347\",\"type\":\"BoxAnnotation\"},{\"attributes\":{},\"id\":\"3334\",\"type\":\"BasicTicker\"},{\"attributes\":{},\"id\":\"3397\",\"type\":\"Selection\"},{\"attributes\":{\"active_drag\":\"auto\",\"active_inspect\":\"auto\",\"active_multi\":null,\"active_scroll\":\"auto\",\"active_tap\":\"auto\",\"logo\":null,\"tools\":[{\"id\":\"3341\"},{\"id\":\"3342\"},{\"id\":\"3343\"},{\"id\":\"3344\"},{\"id\":\"3345\"},{\"id\":\"3346\"}]},\"id\":\"3348\",\"type\":\"Toolbar\"},{\"attributes\":{\"axis\":{\"id\":\"3333\"},\"grid_line_color\":null,\"ticker\":null},\"id\":\"3336\",\"type\":\"Grid\"},{\"attributes\":{\"data\":{\"costs\":[100.7831219485184,100.1973355108915,99.92798638701447,99.43340348839128,99.37230179632202,98.7699765292794,98.65632604665208,98.58253572932065,96.83447163152537,96.65632604665207,95.42025806915228,95.01261721639868,94.24868519389847,93.79631407673598,93.2198228541945,92.6340364165676,92.61427157873051,92.50062109610319,92.09298024334959,90.8569122658498,90.44927141309621,89.4426987034767,88.79241716360382,88.61427157873051,87.37820360123072,86.97056274847712,86.38477631085021],\"edges_x\":[[0.0,0.0,0.0,1.0,2.0,3.0,4.0,5.0,5.0,6.0,6.0,7.0,8.0,8.0,7.0,7.0,8.0,8.0,8.0,7.0,6.0,6.0,7.0,6.0,5.0,4.0,4.0,5.0,3.0,3.0,2.0,2.0,1.0,1.0,1.0,2.0,3.0,3.0,2.0,1.0,0.0,0.0,0.0,1.0,2.0,2.0,2.0,3.0,4.0,4.0,5.0,5.0,4.0,4.0,4.0,5.0,6.0,7.0,8.0,8.0,8.0,7.0,6.0,6.0,5.0,5.0,4.0,3.0,2.0,1.0,0.0,0.0,0.0,1.0,1.0,3.0,3.0,6.0,7.0,7.0,8.0,0.0],[0.0,0.0,1.0,1.0,2.0,2.0,3.0,3.0,5.0,4.0,4.0,5.0,6.0,7.0,6.0,6.0,7.0,8.0,8.0,8.0,7.0,7.0,8.0,8.0,7.0,6.0,6.0,5.0,5.0,4.0,3.0,2.0,1.0,0.0,1.0,2.0,3.0,3.0,2.0,1.0,0.0,0.0,0.0,1.0,2.0,2.0,2.0,3.0,4.0,4.0,5.0,5.0,4.0,4.0,4.0,5.0,6.0,7.0,8.0,8.0,8.0,7.0,6.0,6.0,5.0,5.0,4.0,3.0,2.0,1.0,0.0,0.0,0.0,1.0,1.0,3.0,3.0,6.0,7.0,7.0,8.0,0.0],[0.0,0.0,8.0,7.0,7.0,6.0,3.0,3.0,1.0,1.0,0.0,0.0,0.0,1.0,2.0,3.0,4.0,5.0,5.0,6.0,6.0,7.0,8.0,8.0,8.0,7.0,6.0,5.0,4.0,4.0,4.0,5.0,5.0,4.0,4.0,3.0,2.0,2.0,2.0,1.0,0.0,0.0,0.0,1.0,2.0,3.0,3.0,2.0,1.0,0.0,1.0,2.0,3.0,4.0,5.0,5.0,6.0,6.0,7.0,8.0,8.0,7.0,7.0,8.0,8.0,8.0,7.0,6.0,6.0,7.0,6.0,5.0,4.0,4.0,5.0,3.0,3.0,2.0,2.0,1.0,1.0,0.0],[0.0,0.0,7.0,8.0,7.0,6.0,3.0,3.0,1.0,1.0,0.0,0.0,0.0,1.0,2.0,3.0,4.0,5.0,5.0,6.0,6.0,7.0,8.0,8.0,8.0,7.0,6.0,5.0,4.0,4.0,4.0,5.0,5.0,4.0,4.0,3.0,2.0,2.0,2.0,1.0,0.0,0.0,0.0,1.0,2.0,3.0,3.0,2.0,1.0,0.0,1.0,2.0,3.0,4.0,5.0,5.0,6.0,6.0,7.0,8.0,8.0,7.0,7.0,8.0,8.0,8.0,7.0,6.0,6.0,7.0,6.0,5.0,4.0,4.0,5.0,3.0,3.0,2.0,2.0,1.0,1.0,0.0],[0.0,0.0,7.0,8.0,7.0,6.0,3.0,3.0,1.0,1.0,0.0,0.0,0.0,1.0,2.0,3.0,4.0,5.0,5.0,6.0,6.0,7.0,8.0,8.0,8.0,7.0,6.0,5.0,4.0,4.0,4.0,5.0,5.0,4.0,4.0,3.0,2.0,2.0,2.0,1.0,0.0,0.0,0.0,1.0,2.0,3.0,3.0,2.0,1.0,0.0,1.0,2.0,3.0,4.0,5.0,5.0,6.0,6.0,7.0,8.0,8.0,7.0,7.0,8.0,8.0,8.0,7.0,6.0,6.0,7.0,6.0,5.0,4.0,4.0,5.0,3.0,3.0,2.0,2.0,1.0,1.0,0.0],[0.0,0.0,3.0,6.0,7.0,8.0,7.0,3.0,1.0,1.0,0.0,0.0,0.0,1.0,2.0,3.0,4.0,5.0,5.0,6.0,6.0,7.0,8.0,8.0,8.0,7.0,6.0,5.0,4.0,4.0,4.0,5.0,5.0,4.0,4.0,3.0,2.0,2.0,2.0,1.0,0.0,0.0,0.0,1.0,2.0,3.0,3.0,2.0,1.0,0.0,1.0,2.0,3.0,4.0,5.0,5.0,6.0,6.0,7.0,8.0,8.0,7.0,7.0,8.0,8.0,8.0,7.0,6.0,6.0,7.0,6.0,5.0,4.0,4.0,5.0,3.0,3.0,2.0,2.0,1.0,1.0,0.0],[0.0,0.0,4.0,5.0,6.0,7.0,8.0,8.0,8.0,7.0,6.0,6.0,5.0,5.0,4.0,3.0,2.0,1.0,0.0,0.0,0.0,1.0,1.0,3.0,7.0,8.0,7.0,6.0,3.0,4.0,4.0,5.0,5.0,4.0,4.0,3.0,2.0,2.0,2.0,1.0,0.0,0.0,0.0,1.0,2.0,3.0,3.0,2.0,1.0,0.0,1.0,2.0,3.0,4.0,5.0,5.0,6.0,6.0,7.0,8.0,8.0,7.0,7.0,8.0,8.0,8.0,7.0,6.0,6.0,7.0,6.0,5.0,4.0,4.0,5.0,3.0,3.0,2.0,2.0,1.0,1.0,0.0],[0.0,0.0,1.0,0.0,0.0,0.0,1.0,2.0,2.0,2.0,3.0,4.0,4.0,5.0,5.0,4.0,4.0,3.0,6.0,7.0,8.0,7.0,3.0,1.0,1.0,0.0,0.0,0.0,1.0,2.0,3.0,4.0,5.0,5.0,6.0,6.0,7.0,8.0,8.0,8.0,7.0,6.0,5.0,4.0,2.0,3.0,3.0,2.0,1.0,0.0,1.0,2.0,3.0,4.0,5.0,5.0,6.0,6.0,7.0,8.0,8.0,7.0,7.0,8.0,8.0,8.0,7.0,6.0,6.0,7.0,6.0,5.0,4.0,4.0,5.0,3.0,3.0,2.0,2.0,1.0,1.0,0.0],[0.0,0.0,0.0,0.0,1.0,0.0,1.0,2.0,2.0,2.0,3.0,4.0,4.0,5.0,5.0,4.0,4.0,3.0,6.0,7.0,8.0,7.0,3.0,1.0,1.0,0.0,0.0,0.0,1.0,2.0,3.0,4.0,5.0,5.0,6.0,6.0,7.0,8.0,8.0,8.0,7.0,6.0,5.0,4.0,2.0,3.0,3.0,2.0,1.0,0.0,1.0,2.0,3.0,4.0,5.0,5.0,6.0,6.0,7.0,8.0,8.0,7.0,7.0,8.0,8.0,8.0,7.0,6.0,6.0,7.0,6.0,5.0,4.0,4.0,5.0,3.0,3.0,2.0,2.0,1.0,1.0,0.0],[0.0,0.0,1.0,2.0,3.0,3.0,2.0,4.0,5.0,6.0,7.0,8.0,8.0,8.0,7.0,6.0,6.0,5.0,5.0,4.0,3.0,2.0,1.0,0.0,0.0,0.0,1.0,1.0,3.0,7.0,8.0,7.0,6.0,3.0,4.0,4.0,5.0,5.0,4.0,4.0,3.0,2.0,2.0,2.0,1.0,0.0,1.0,0.0,0.0,0.0,1.0,2.0,3.0,4.0,5.0,5.0,6.0,6.0,7.0,8.0,8.0,7.0,7.0,8.0,8.0,8.0,7.0,6.0,6.0,7.0,6.0,5.0,4.0,4.0,5.0,3.0,3.0,2.0,2.0,1.0,1.0,0.0],[0.0,0.0,0.0,0.0,0.0,1.0,0.0,1.0,2.0,2.0,2.0,3.0,4.0,4.0,5.0,5.0,4.0,4.0,3.0,6.0,7.0,8.0,7.0,3.0,1.0,1.0,0.0,0.0,0.0,1.0,2.0,3.0,4.0,5.0,5.0,6.0,6.0,7.0,8.0,8.0,8.0,7.0,6.0,5.0,4.0,2.0,3.0,3.0,2.0,1.0,1.0,2.0,3.0,4.0,5.0,5.0,6.0,6.0,7.0,8.0,8.0,7.0,7.0,8.0,8.0,8.0,7.0,6.0,6.0,7.0,6.0,5.0,4.0,4.0,5.0,3.0,3.0,2.0,2.0,1.0,1.0,0.0],[0.0,0.0,0.0,0.0,0.0,1.0,0.0,1.0,2.0,3.0,7.0,8.0,7.0,6.0,3.0,4.0,4.0,5.0,5.0,4.0,4.0,3.0,2.0,2.0,1.0,1.0,0.0,0.0,0.0,1.0,2.0,3.0,4.0,5.0,5.0,6.0,6.0,7.0,8.0,8.0,8.0,7.0,6.0,5.0,4.0,2.0,3.0,3.0,2.0,1.0,1.0,2.0,3.0,4.0,5.0,5.0,6.0,6.0,7.0,8.0,8.0,7.0,7.0,8.0,8.0,8.0,7.0,6.0,6.0,7.0,6.0,5.0,4.0,4.0,5.0,3.0,3.0,2.0,2.0,1.0,1.0,0.0],[0.0,0.0,0.0,0.0,0.0,1.0,0.0,1.0,2.0,3.0,7.0,8.0,7.0,6.0,3.0,4.0,4.0,5.0,5.0,4.0,4.0,3.0,2.0,2.0,1.0,1.0,0.0,0.0,0.0,1.0,2.0,3.0,4.0,5.0,5.0,6.0,6.0,7.0,8.0,8.0,8.0,7.0,6.0,5.0,4.0,2.0,3.0,3.0,2.0,1.0,1.0,2.0,3.0,4.0,5.0,5.0,6.0,6.0,7.0,8.0,8.0,7.0,7.0,8.0,8.0,8.0,7.0,6.0,6.0,7.0,6.0,5.0,4.0,4.0,5.0,3.0,3.0,2.0,2.0,1.0,1.0,0.0],[0.0,0.0,0.0,0.0,0.0,1.0,0.0,1.0,2.0,3.0,4.0,4.0,3.0,6.0,7.0,8.0,7.0,5.0,5.0,4.0,4.0,3.0,2.0,2.0,1.0,1.0,0.0,0.0,0.0,1.0,2.0,3.0,4.0,5.0,5.0,6.0,6.0,7.0,8.0,8.0,8.0,7.0,6.0,5.0,4.0,2.0,3.0,3.0,2.0,1.0,1.0,2.0,3.0,4.0,5.0,5.0,6.0,6.0,7.0,8.0,8.0,7.0,7.0,8.0,8.0,8.0,7.0,6.0,6.0,7.0,6.0,5.0,4.0,4.0,5.0,3.0,3.0,2.0,2.0,1.0,1.0,0.0],[0.0,0.0,0.0,0.0,0.0,1.0,0.0,1.0,2.0,3.0,4.0,4.0,3.0,6.0,7.0,8.0,7.0,5.0,5.0,4.0,4.0,3.0,2.0,2.0,1.0,1.0,0.0,0.0,0.0,1.0,2.0,3.0,4.0,5.0,5.0,6.0,6.0,7.0,8.0,8.0,8.0,7.0,6.0,5.0,4.0,2.0,3.0,3.0,2.0,1.0,1.0,2.0,3.0,4.0,5.0,5.0,6.0,6.0,7.0,8.0,8.0,7.0,7.0,8.0,8.0,8.0,7.0,6.0,6.0,7.0,6.0,5.0,4.0,4.0,5.0,3.0,3.0,2.0,2.0,1.0,1.0,0.0],[0.0,0.0,0.0,0.0,0.0,1.0,0.0,1.0,2.0,3.0,3.0,4.0,4.0,6.0,7.0,8.0,7.0,5.0,5.0,4.0,4.0,3.0,2.0,2.0,1.0,1.0,0.0,0.0,0.0,1.0,2.0,3.0,4.0,5.0,5.0,6.0,6.0,7.0,8.0,8.0,8.0,7.0,6.0,5.0,4.0,2.0,3.0,3.0,2.0,1.0,1.0,2.0,3.0,4.0,5.0,5.0,6.0,6.0,7.0,8.0,8.0,7.0,7.0,8.0,8.0,8.0,7.0,6.0,6.0,7.0,6.0,5.0,4.0,4.0,5.0,3.0,3.0,2.0,2.0,1.0,1.0,0.0],[0.0,0.0,0.0,0.0,0.0,1.0,0.0,1.0,2.0,3.0,3.0,4.0,4.0,7.0,8.0,7.0,6.0,5.0,5.0,4.0,4.0,3.0,2.0,2.0,1.0,1.0,0.0,0.0,0.0,1.0,2.0,3.0,4.0,5.0,5.0,6.0,6.0,7.0,8.0,8.0,8.0,7.0,6.0,5.0,4.0,2.0,3.0,3.0,2.0,1.0,1.0,2.0,3.0,4.0,5.0,5.0,6.0,6.0,7.0,8.0,8.0,7.0,7.0,8.0,8.0,8.0,7.0,6.0,6.0,7.0,6.0,5.0,4.0,4.0,5.0,3.0,3.0,2.0,2.0,1.0,1.0,0.0],[0.0,0.0,0.0,0.0,0.0,1.0,0.0,1.0,2.0,3.0,4.0,4.0,3.0,7.0,8.0,7.0,6.0,5.0,5.0,4.0,4.0,3.0,2.0,2.0,1.0,1.0,0.0,0.0,0.0,1.0,2.0,3.0,4.0,5.0,5.0,6.0,6.0,7.0,8.0,8.0,8.0,7.0,6.0,5.0,4.0,2.0,3.0,3.0,2.0,1.0,1.0,2.0,3.0,4.0,5.0,5.0,6.0,6.0,7.0,8.0,8.0,7.0,7.0,8.0,8.0,8.0,7.0,6.0,6.0,7.0,6.0,5.0,4.0,4.0,5.0,3.0,3.0,2.0,2.0,1.0,1.0,0.0],[0.0,0.0,0.0,0.0,0.0,1.0,0.0,1.0,2.0,3.0,4.0,4.0,3.0,5.0,6.0,7.0,8.0,7.0,5.0,4.0,4.0,3.0,2.0,2.0,1.0,1.0,0.0,0.0,0.0,1.0,2.0,3.0,4.0,5.0,5.0,6.0,6.0,7.0,8.0,8.0,8.0,7.0,6.0,5.0,4.0,2.0,3.0,3.0,2.0,1.0,1.0,2.0,3.0,4.0,5.0,5.0,6.0,6.0,7.0,8.0,8.0,7.0,7.0,8.0,8.0,8.0,7.0,6.0,6.0,7.0,6.0,5.0,4.0,4.0,5.0,3.0,3.0,2.0,2.0,1.0,1.0,0.0],[0.0,0.0,0.0,0.0,0.0,1.0,0.0,1.0,2.0,3.0,3.0,4.0,4.0,5.0,6.0,7.0,8.0,7.0,5.0,4.0,4.0,3.0,2.0,2.0,1.0,1.0,0.0,0.0,0.0,1.0,2.0,3.0,4.0,5.0,5.0,6.0,6.0,7.0,8.0,8.0,8.0,7.0,6.0,5.0,4.0,2.0,3.0,3.0,2.0,1.0,1.0,2.0,3.0,4.0,5.0,5.0,6.0,6.0,7.0,8.0,8.0,7.0,7.0,8.0,8.0,8.0,7.0,6.0,6.0,7.0,6.0,5.0,4.0,4.0,5.0,3.0,3.0,2.0,2.0,1.0,1.0,0.0],[0.0,0.0,0.0,0.0,0.0,1.0,0.0,1.0,2.0,3.0,3.0,4.0,4.0,5.0,6.0,7.0,6.0,6.0,5.0,5.0,4.0,3.0,2.0,1.0,0.0,0.0,0.0,1.0,1.0,2.0,2.0,3.0,4.0,4.0,5.0,7.0,8.0,7.0,8.0,8.0,8.0,7.0,6.0,5.0,4.0,2.0,3.0,3.0,2.0,1.0,1.0,2.0,3.0,4.0,5.0,5.0,6.0,6.0,7.0,8.0,8.0,7.0,7.0,8.0,8.0,8.0,7.0,6.0,6.0,7.0,6.0,5.0,4.0,4.0,5.0,3.0,3.0,2.0,2.0,1.0,1.0,0.0],[0.0,0.0,0.0,0.0,0.0,1.0,0.0,1.0,2.0,3.0,3.0,4.0,4.0,5.0,5.0,4.0,4.0,3.0,2.0,2.0,1.0,1.0,0.0,0.0,0.0,1.0,2.0,3.0,4.0,5.0,5.0,6.0,6.0,7.0,6.0,7.0,8.0,7.0,8.0,8.0,8.0,7.0,6.0,5.0,4.0,2.0,3.0,3.0,2.0,1.0,1.0,2.0,3.0,4.0,5.0,5.0,6.0,6.0,7.0,8.0,8.0,7.0,7.0,8.0,8.0,8.0,7.0,6.0,6.0,7.0,6.0,5.0,4.0,4.0,5.0,3.0,3.0,2.0,2.0,1.0,1.0,0.0],[0.0,0.0,0.0,0.0,0.0,1.0,0.0,1.0,2.0,3.0,3.0,4.0,4.0,5.0,5.0,4.0,4.0,3.0,2.0,2.0,1.0,1.0,0.0,0.0,0.0,1.0,2.0,3.0,4.0,5.0,5.0,6.0,6.0,6.0,7.0,7.0,8.0,7.0,8.0,8.0,8.0,7.0,6.0,5.0,4.0,2.0,3.0,3.0,2.0,1.0,1.0,2.0,3.0,4.0,5.0,5.0,6.0,6.0,7.0,8.0,8.0,7.0,7.0,8.0,8.0,8.0,7.0,6.0,6.0,7.0,6.0,5.0,4.0,4.0,5.0,3.0,3.0,2.0,2.0,1.0,1.0,0.0],[0.0,0.0,0.0,0.0,0.0,1.0,0.0,1.0,2.0,3.0,3.0,4.0,4.0,5.0,5.0,4.0,4.0,3.0,2.0,2.0,1.0,1.0,0.0,0.0,0.0,1.0,2.0,3.0,4.0,5.0,5.0,6.0,6.0,6.0,7.0,8.0,7.0,7.0,8.0,8.0,8.0,7.0,6.0,5.0,4.0,2.0,3.0,3.0,2.0,1.0,1.0,2.0,3.0,4.0,5.0,5.0,6.0,6.0,7.0,8.0,8.0,7.0,7.0,8.0,8.0,8.0,7.0,6.0,6.0,7.0,6.0,5.0,4.0,4.0,5.0,3.0,3.0,2.0,2.0,1.0,1.0,0.0],[0.0,0.0,0.0,0.0,0.0,1.0,0.0,1.0,2.0,3.0,3.0,4.0,4.0,5.0,5.0,4.0,4.0,3.0,2.0,2.0,1.0,1.0,0.0,0.0,0.0,1.0,2.0,3.0,4.0,5.0,5.0,6.0,6.0,6.0,7.0,7.0,7.0,8.0,8.0,8.0,8.0,7.0,6.0,5.0,4.0,2.0,3.0,3.0,2.0,1.0,1.0,2.0,3.0,4.0,5.0,5.0,6.0,6.0,7.0,8.0,8.0,7.0,7.0,8.0,8.0,8.0,7.0,6.0,6.0,7.0,6.0,5.0,4.0,4.0,5.0,3.0,3.0,2.0,2.0,1.0,1.0,0.0],[0.0,0.0,0.0,0.0,0.0,1.0,0.0,1.0,2.0,3.0,3.0,4.0,4.0,5.0,5.0,4.0,4.0,3.0,2.0,2.0,1.0,1.0,0.0,0.0,0.0,1.0,2.0,3.0,4.0,5.0,5.0,6.0,6.0,6.0,7.0,7.0,7.0,8.0,8.0,8.0,8.0,7.0,6.0,5.0,4.0,3.0,2.0,3.0,2.0,1.0,1.0,2.0,3.0,4.0,5.0,5.0,6.0,6.0,7.0,8.0,8.0,7.0,7.0,8.0,8.0,8.0,7.0,6.0,6.0,7.0,6.0,5.0,4.0,4.0,5.0,3.0,3.0,2.0,2.0,1.0,1.0,0.0],[0.0,0.0,0.0,0.0,0.0,1.0,0.0,1.0,2.0,3.0,3.0,4.0,4.0,5.0,5.0,4.0,4.0,3.0,2.0,2.0,1.0,1.0,0.0,0.0,0.0,1.0,2.0,3.0,4.0,5.0,5.0,6.0,6.0,6.0,7.0,7.0,7.0,8.0,8.0,8.0,8.0,7.0,6.0,5.0,4.0,3.0,2.0,3.0,2.0,1.0,1.0,2.0,3.0,4.0,5.0,5.0,6.0,6.0,7.0,8.0,8.0,7.0,7.0,8.0,8.0,8.0,7.0,6.0,6.0,7.0,6.0,5.0,5.0,4.0,4.0,3.0,3.0,2.0,2.0,1.0,1.0,0.0]],\"edges_y\":[[0.0,1.0,2.0,2.0,2.0,2.0,2.0,2.0,3.0,3.0,4.0,4.0,4.0,3.0,3.0,2.0,2.0,1.0,0.0,0.0,0.0,1.0,1.0,2.0,1.0,1.0,0.0,0.0,0.0,1.0,1.0,0.0,0.0,1.0,3.0,3.0,3.0,4.0,4.0,4.0,4.0,3.0,5.0,5.0,5.0,6.0,7.0,7.0,7.0,6.0,6.0,5.0,5.0,4.0,3.0,4.0,5.0,5.0,5.0,6.0,7.0,7.0,7.0,8.0,8.0,7.0,8.0,8.0,8.0,8.0,8.0,7.0,6.0,6.0,7.0,6.0,5.0,6.0,6.0,8.0,8.0,0.0],[0.0,1.0,1.0,0.0,0.0,1.0,1.0,0.0,0.0,0.0,1.0,1.0,2.0,1.0,1.0,0.0,0.0,0.0,1.0,2.0,2.0,3.0,3.0,4.0,4.0,4.0,3.0,3.0,2.0,2.0,2.0,2.0,2.0,2.0,3.0,3.0,3.0,4.0,4.0,4.0,4.0,3.0,5.0,5.0,5.0,6.0,7.0,7.0,7.0,6.0,6.0,5.0,5.0,4.0,3.0,4.0,5.0,5.0,5.0,6.0,7.0,7.0,7.0,8.0,8.0,7.0,8.0,8.0,8.0,8.0,8.0,7.0,6.0,6.0,7.0,6.0,5.0,6.0,6.0,8.0,8.0,0.0],[0.0,1.0,8.0,8.0,6.0,6.0,5.0,6.0,7.0,6.0,6.0,7.0,8.0,8.0,8.0,8.0,8.0,7.0,8.0,8.0,7.0,7.0,7.0,6.0,5.0,5.0,5.0,4.0,3.0,4.0,5.0,5.0,6.0,6.0,7.0,7.0,7.0,6.0,5.0,5.0,5.0,3.0,4.0,4.0,4.0,4.0,3.0,3.0,3.0,2.0,2.0,2.0,2.0,2.0,2.0,3.0,3.0,4.0,4.0,4.0,3.0,3.0,2.0,2.0,1.0,0.0,0.0,0.0,1.0,1.0,2.0,1.0,1.0,0.0,0.0,0.0,1.0,1.0,0.0,0.0,1.0,0.0],[0.0,1.0,8.0,8.0,6.0,6.0,5.0,6.0,7.0,6.0,6.0,7.0,8.0,8.0,8.0,8.0,8.0,7.0,8.0,8.0,7.0,7.0,7.0,6.0,5.0,5.0,5.0,4.0,3.0,4.0,5.0,5.0,6.0,6.0,7.0,7.0,7.0,6.0,5.0,5.0,5.0,3.0,4.0,4.0,4.0,4.0,3.0,3.0,3.0,2.0,2.0,2.0,2.0,2.0,2.0,3.0,3.0,4.0,4.0,4.0,3.0,3.0,2.0,2.0,1.0,0.0,0.0,0.0,1.0,1.0,2.0,1.0,1.0,0.0,0.0,0.0,1.0,1.0,0.0,0.0,1.0,0.0],[0.0,1.0,6.0,8.0,8.0,6.0,5.0,6.0,7.0,6.0,6.0,7.0,8.0,8.0,8.0,8.0,8.0,7.0,8.0,8.0,7.0,7.0,7.0,6.0,5.0,5.0,5.0,4.0,3.0,4.0,5.0,5.0,6.0,6.0,7.0,7.0,7.0,6.0,5.0,5.0,5.0,3.0,4.0,4.0,4.0,4.0,3.0,3.0,3.0,2.0,2.0,2.0,2.0,2.0,2.0,3.0,3.0,4.0,4.0,4.0,3.0,3.0,2.0,2.0,1.0,0.0,0.0,0.0,1.0,1.0,2.0,1.0,1.0,0.0,0.0,0.0,1.0,1.0,0.0,0.0,1.0,0.0],[0.0,1.0,5.0,6.0,8.0,8.0,6.0,6.0,7.0,6.0,6.0,7.0,8.0,8.0,8.0,8.0,8.0,7.0,8.0,8.0,7.0,7.0,7.0,6.0,5.0,5.0,5.0,4.0,3.0,4.0,5.0,5.0,6.0,6.0,7.0,7.0,7.0,6.0,5.0,5.0,5.0,3.0,4.0,4.0,4.0,4.0,3.0,3.0,3.0,2.0,2.0,2.0,2.0,2.0,2.0,3.0,3.0,4.0,4.0,4.0,3.0,3.0,2.0,2.0,1.0,0.0,0.0,0.0,1.0,1.0,2.0,1.0,1.0,0.0,0.0,0.0,1.0,1.0,0.0,0.0,1.0,0.0],[0.0,1.0,3.0,4.0,5.0,5.0,5.0,6.0,7.0,7.0,7.0,8.0,8.0,7.0,8.0,8.0,8.0,8.0,8.0,7.0,6.0,6.0,7.0,6.0,6.0,8.0,8.0,6.0,5.0,4.0,5.0,5.0,6.0,6.0,7.0,7.0,7.0,6.0,5.0,5.0,5.0,3.0,4.0,4.0,4.0,4.0,3.0,3.0,3.0,2.0,2.0,2.0,2.0,2.0,2.0,3.0,3.0,4.0,4.0,4.0,3.0,3.0,2.0,2.0,1.0,0.0,0.0,0.0,1.0,1.0,2.0,1.0,1.0,0.0,0.0,0.0,1.0,1.0,0.0,0.0,1.0,0.0],[0.0,1.0,4.0,4.0,3.0,5.0,5.0,5.0,6.0,7.0,7.0,7.0,6.0,6.0,5.0,5.0,4.0,5.0,6.0,8.0,8.0,6.0,6.0,7.0,6.0,6.0,7.0,8.0,8.0,8.0,8.0,8.0,7.0,8.0,8.0,7.0,7.0,7.0,6.0,5.0,5.0,5.0,4.0,3.0,4.0,4.0,3.0,3.0,3.0,2.0,2.0,2.0,2.0,2.0,2.0,3.0,3.0,4.0,4.0,4.0,3.0,3.0,2.0,2.0,1.0,0.0,0.0,0.0,1.0,1.0,2.0,1.0,1.0,0.0,0.0,0.0,1.0,1.0,0.0,0.0,1.0,0.0],[0.0,1.0,3.0,4.0,4.0,5.0,5.0,5.0,6.0,7.0,7.0,7.0,6.0,6.0,5.0,5.0,4.0,5.0,6.0,8.0,8.0,6.0,6.0,7.0,6.0,6.0,7.0,8.0,8.0,8.0,8.0,8.0,7.0,8.0,8.0,7.0,7.0,7.0,6.0,5.0,5.0,5.0,4.0,3.0,4.0,4.0,3.0,3.0,3.0,2.0,2.0,2.0,2.0,2.0,2.0,3.0,3.0,4.0,4.0,4.0,3.0,3.0,2.0,2.0,1.0,0.0,0.0,0.0,1.0,1.0,2.0,1.0,1.0,0.0,0.0,0.0,1.0,1.0,0.0,0.0,1.0,0.0],[0.0,1.0,3.0,3.0,3.0,4.0,4.0,3.0,4.0,5.0,5.0,5.0,6.0,7.0,7.0,7.0,8.0,8.0,7.0,8.0,8.0,8.0,8.0,8.0,7.0,6.0,6.0,7.0,6.0,6.0,8.0,8.0,6.0,5.0,4.0,5.0,5.0,6.0,6.0,7.0,7.0,7.0,6.0,5.0,5.0,5.0,4.0,4.0,3.0,2.0,2.0,2.0,2.0,2.0,2.0,3.0,3.0,4.0,4.0,4.0,3.0,3.0,2.0,2.0,1.0,0.0,0.0,0.0,1.0,1.0,2.0,1.0,1.0,0.0,0.0,0.0,1.0,1.0,0.0,0.0,1.0,0.0],[0.0,1.0,2.0,3.0,4.0,4.0,5.0,5.0,5.0,6.0,7.0,7.0,7.0,6.0,6.0,5.0,5.0,4.0,5.0,6.0,8.0,8.0,6.0,6.0,7.0,6.0,6.0,7.0,8.0,8.0,8.0,8.0,8.0,7.0,8.0,8.0,7.0,7.0,7.0,6.0,5.0,5.0,5.0,4.0,3.0,4.0,4.0,3.0,3.0,3.0,2.0,2.0,2.0,2.0,2.0,3.0,3.0,4.0,4.0,4.0,3.0,3.0,2.0,2.0,1.0,0.0,0.0,0.0,1.0,1.0,2.0,1.0,1.0,0.0,0.0,0.0,1.0,1.0,0.0,0.0,1.0,0.0],[0.0,1.0,2.0,3.0,4.0,4.0,5.0,5.0,5.0,6.0,6.0,8.0,8.0,6.0,5.0,4.0,5.0,5.0,6.0,6.0,7.0,7.0,7.0,6.0,7.0,6.0,6.0,7.0,8.0,8.0,8.0,8.0,8.0,7.0,8.0,8.0,7.0,7.0,7.0,6.0,5.0,5.0,5.0,4.0,3.0,4.0,4.0,3.0,3.0,3.0,2.0,2.0,2.0,2.0,2.0,3.0,3.0,4.0,4.0,4.0,3.0,3.0,2.0,2.0,1.0,0.0,0.0,0.0,1.0,1.0,2.0,1.0,1.0,0.0,0.0,0.0,1.0,1.0,0.0,0.0,1.0,0.0],[0.0,1.0,2.0,3.0,4.0,4.0,5.0,5.0,5.0,6.0,8.0,8.0,6.0,6.0,5.0,4.0,5.0,5.0,6.0,6.0,7.0,7.0,7.0,6.0,7.0,6.0,6.0,7.0,8.0,8.0,8.0,8.0,8.0,7.0,8.0,8.0,7.0,7.0,7.0,6.0,5.0,5.0,5.0,4.0,3.0,4.0,4.0,3.0,3.0,3.0,2.0,2.0,2.0,2.0,2.0,3.0,3.0,4.0,4.0,4.0,3.0,3.0,2.0,2.0,1.0,0.0,0.0,0.0,1.0,1.0,2.0,1.0,1.0,0.0,0.0,0.0,1.0,1.0,0.0,0.0,1.0,0.0],[0.0,1.0,2.0,3.0,4.0,4.0,5.0,5.0,5.0,6.0,5.0,4.0,5.0,6.0,6.0,8.0,8.0,5.0,6.0,6.0,7.0,7.0,7.0,6.0,7.0,6.0,6.0,7.0,8.0,8.0,8.0,8.0,8.0,7.0,8.0,8.0,7.0,7.0,7.0,6.0,5.0,5.0,5.0,4.0,3.0,4.0,4.0,3.0,3.0,3.0,2.0,2.0,2.0,2.0,2.0,3.0,3.0,4.0,4.0,4.0,3.0,3.0,2.0,2.0,1.0,0.0,0.0,0.0,1.0,1.0,2.0,1.0,1.0,0.0,0.0,0.0,1.0,1.0,0.0,0.0,1.0,0.0],[0.0,1.0,2.0,3.0,4.0,4.0,5.0,5.0,5.0,5.0,4.0,5.0,6.0,6.0,6.0,8.0,8.0,5.0,6.0,6.0,7.0,7.0,7.0,6.0,7.0,6.0,6.0,7.0,8.0,8.0,8.0,8.0,8.0,7.0,8.0,8.0,7.0,7.0,7.0,6.0,5.0,5.0,5.0,4.0,3.0,4.0,4.0,3.0,3.0,3.0,2.0,2.0,2.0,2.0,2.0,3.0,3.0,4.0,4.0,4.0,3.0,3.0,2.0,2.0,1.0,0.0,0.0,0.0,1.0,1.0,2.0,1.0,1.0,0.0,0.0,0.0,1.0,1.0,0.0,0.0,1.0,0.0],[0.0,1.0,2.0,3.0,4.0,4.0,5.0,5.0,5.0,5.0,6.0,5.0,4.0,6.0,6.0,8.0,8.0,5.0,6.0,6.0,7.0,7.0,7.0,6.0,7.0,6.0,6.0,7.0,8.0,8.0,8.0,8.0,8.0,7.0,8.0,8.0,7.0,7.0,7.0,6.0,5.0,5.0,5.0,4.0,3.0,4.0,4.0,3.0,3.0,3.0,2.0,2.0,2.0,2.0,2.0,3.0,3.0,4.0,4.0,4.0,3.0,3.0,2.0,2.0,1.0,0.0,0.0,0.0,1.0,1.0,2.0,1.0,1.0,0.0,0.0,0.0,1.0,1.0,0.0,0.0,1.0,0.0],[0.0,1.0,2.0,3.0,4.0,4.0,5.0,5.0,5.0,5.0,6.0,5.0,4.0,8.0,8.0,6.0,6.0,5.0,6.0,6.0,7.0,7.0,7.0,6.0,7.0,6.0,6.0,7.0,8.0,8.0,8.0,8.0,8.0,7.0,8.0,8.0,7.0,7.0,7.0,6.0,5.0,5.0,5.0,4.0,3.0,4.0,4.0,3.0,3.0,3.0,2.0,2.0,2.0,2.0,2.0,3.0,3.0,4.0,4.0,4.0,3.0,3.0,2.0,2.0,1.0,0.0,0.0,0.0,1.0,1.0,2.0,1.0,1.0,0.0,0.0,0.0,1.0,1.0,0.0,0.0,1.0,0.0],[0.0,1.0,2.0,3.0,4.0,4.0,5.0,5.0,5.0,5.0,4.0,5.0,6.0,8.0,8.0,6.0,6.0,5.0,6.0,6.0,7.0,7.0,7.0,6.0,7.0,6.0,6.0,7.0,8.0,8.0,8.0,8.0,8.0,7.0,8.0,8.0,7.0,7.0,7.0,6.0,5.0,5.0,5.0,4.0,3.0,4.0,4.0,3.0,3.0,3.0,2.0,2.0,2.0,2.0,2.0,3.0,3.0,4.0,4.0,4.0,3.0,3.0,2.0,2.0,1.0,0.0,0.0,0.0,1.0,1.0,2.0,1.0,1.0,0.0,0.0,0.0,1.0,1.0,0.0,0.0,1.0,0.0],[0.0,1.0,2.0,3.0,4.0,4.0,5.0,5.0,5.0,5.0,4.0,5.0,6.0,5.0,6.0,6.0,8.0,8.0,6.0,6.0,7.0,7.0,7.0,6.0,7.0,6.0,6.0,7.0,8.0,8.0,8.0,8.0,8.0,7.0,8.0,8.0,7.0,7.0,7.0,6.0,5.0,5.0,5.0,4.0,3.0,4.0,4.0,3.0,3.0,3.0,2.0,2.0,2.0,2.0,2.0,3.0,3.0,4.0,4.0,4.0,3.0,3.0,2.0,2.0,1.0,0.0,0.0,0.0,1.0,1.0,2.0,1.0,1.0,0.0,0.0,0.0,1.0,1.0,0.0,0.0,1.0,0.0],[0.0,1.0,2.0,3.0,4.0,4.0,5.0,5.0,5.0,5.0,6.0,5.0,4.0,5.0,6.0,6.0,8.0,8.0,6.0,6.0,7.0,7.0,7.0,6.0,7.0,6.0,6.0,7.0,8.0,8.0,8.0,8.0,8.0,7.0,8.0,8.0,7.0,7.0,7.0,6.0,5.0,5.0,5.0,4.0,3.0,4.0,4.0,3.0,3.0,3.0,2.0,2.0,2.0,2.0,2.0,3.0,3.0,4.0,4.0,4.0,3.0,3.0,2.0,2.0,1.0,0.0,0.0,0.0,1.0,1.0,2.0,1.0,1.0,0.0,0.0,0.0,1.0,1.0,0.0,0.0,1.0,0.0],[0.0,1.0,2.0,3.0,4.0,4.0,5.0,5.0,5.0,5.0,6.0,5.0,4.0,5.0,6.0,6.0,7.0,8.0,8.0,7.0,8.0,8.0,8.0,8.0,8.0,7.0,6.0,6.0,7.0,6.0,7.0,7.0,7.0,6.0,6.0,8.0,8.0,7.0,7.0,6.0,5.0,5.0,5.0,4.0,3.0,4.0,4.0,3.0,3.0,3.0,2.0,2.0,2.0,2.0,2.0,3.0,3.0,4.0,4.0,4.0,3.0,3.0,2.0,2.0,1.0,0.0,0.0,0.0,1.0,1.0,2.0,1.0,1.0,0.0,0.0,0.0,1.0,1.0,0.0,0.0,1.0,0.0],[0.0,1.0,2.0,3.0,4.0,4.0,5.0,5.0,5.0,5.0,6.0,5.0,4.0,5.0,6.0,6.0,7.0,7.0,7.0,6.0,7.0,6.0,6.0,7.0,8.0,8.0,8.0,8.0,8.0,7.0,8.0,8.0,7.0,6.0,6.0,8.0,8.0,7.0,7.0,6.0,5.0,5.0,5.0,4.0,3.0,4.0,4.0,3.0,3.0,3.0,2.0,2.0,2.0,2.0,2.0,3.0,3.0,4.0,4.0,4.0,3.0,3.0,2.0,2.0,1.0,0.0,0.0,0.0,1.0,1.0,2.0,1.0,1.0,0.0,0.0,0.0,1.0,1.0,0.0,0.0,1.0,0.0],[0.0,1.0,2.0,3.0,4.0,4.0,5.0,5.0,5.0,5.0,6.0,5.0,4.0,5.0,6.0,6.0,7.0,7.0,7.0,6.0,7.0,6.0,6.0,7.0,8.0,8.0,8.0,8.0,8.0,7.0,8.0,8.0,7.0,6.0,6.0,8.0,8.0,7.0,7.0,6.0,5.0,5.0,5.0,4.0,3.0,4.0,4.0,3.0,3.0,3.0,2.0,2.0,2.0,2.0,2.0,3.0,3.0,4.0,4.0,4.0,3.0,3.0,2.0,2.0,1.0,0.0,0.0,0.0,1.0,1.0,2.0,1.0,1.0,0.0,0.0,0.0,1.0,1.0,0.0,0.0,1.0,0.0],[0.0,1.0,2.0,3.0,4.0,4.0,5.0,5.0,5.0,5.0,6.0,5.0,4.0,5.0,6.0,6.0,7.0,7.0,7.0,6.0,7.0,6.0,6.0,7.0,8.0,8.0,8.0,8.0,8.0,7.0,8.0,8.0,7.0,6.0,6.0,8.0,8.0,7.0,7.0,6.0,5.0,5.0,5.0,4.0,3.0,4.0,4.0,3.0,3.0,3.0,2.0,2.0,2.0,2.0,2.0,3.0,3.0,4.0,4.0,4.0,3.0,3.0,2.0,2.0,1.0,0.0,0.0,0.0,1.0,1.0,2.0,1.0,1.0,0.0,0.0,0.0,1.0,1.0,0.0,0.0,1.0,0.0],[0.0,1.0,2.0,3.0,4.0,4.0,5.0,5.0,5.0,5.0,6.0,5.0,4.0,5.0,6.0,6.0,7.0,7.0,7.0,6.0,7.0,6.0,6.0,7.0,8.0,8.0,8.0,8.0,8.0,7.0,8.0,8.0,7.0,6.0,6.0,7.0,8.0,8.0,7.0,6.0,5.0,5.0,5.0,4.0,3.0,4.0,4.0,3.0,3.0,3.0,2.0,2.0,2.0,2.0,2.0,3.0,3.0,4.0,4.0,4.0,3.0,3.0,2.0,2.0,1.0,0.0,0.0,0.0,1.0,1.0,2.0,1.0,1.0,0.0,0.0,0.0,1.0,1.0,0.0,0.0,1.0,0.0],[0.0,1.0,2.0,3.0,4.0,4.0,5.0,5.0,5.0,5.0,6.0,5.0,4.0,5.0,6.0,6.0,7.0,7.0,7.0,6.0,7.0,6.0,6.0,7.0,8.0,8.0,8.0,8.0,8.0,7.0,8.0,8.0,7.0,6.0,6.0,7.0,8.0,8.0,7.0,6.0,5.0,5.0,5.0,4.0,3.0,4.0,4.0,3.0,3.0,3.0,2.0,2.0,2.0,2.0,2.0,3.0,3.0,4.0,4.0,4.0,3.0,3.0,2.0,2.0,1.0,0.0,0.0,0.0,1.0,1.0,2.0,1.0,1.0,0.0,0.0,0.0,1.0,1.0,0.0,0.0,1.0,0.0],[0.0,1.0,2.0,3.0,4.0,4.0,5.0,5.0,5.0,5.0,6.0,5.0,4.0,5.0,6.0,6.0,7.0,7.0,7.0,6.0,7.0,6.0,6.0,7.0,8.0,8.0,8.0,8.0,8.0,7.0,8.0,8.0,7.0,6.0,6.0,7.0,8.0,8.0,7.0,6.0,5.0,5.0,5.0,4.0,3.0,4.0,4.0,3.0,3.0,3.0,2.0,2.0,2.0,2.0,2.0,3.0,3.0,4.0,4.0,4.0,3.0,3.0,2.0,2.0,1.0,0.0,0.0,0.0,1.0,1.0,2.0,1.0,0.0,0.0,1.0,0.0,1.0,1.0,0.0,0.0,1.0,0.0]]},\"selected\":{\"id\":\"3405\"},\"selection_policy\":{\"id\":\"3404\"}},\"id\":\"3359\",\"type\":\"ColumnDataSource\"},{\"attributes\":{},\"id\":\"3398\",\"type\":\"UnionRenderers\"},{\"attributes\":{\"formatter\":{\"id\":\"3392\"},\"ticker\":{\"id\":\"3338\"},\"visible\":false},\"id\":\"3337\",\"type\":\"LinearAxis\"},{\"attributes\":{},\"id\":\"3399\",\"type\":\"Selection\"},{\"attributes\":{\"data\":{\"edges_x\":[0.0,0.0,0.0,1.0,2.0,3.0,4.0,5.0,5.0,6.0,6.0,7.0,8.0,8.0,7.0,7.0,8.0,8.0,8.0,7.0,6.0,6.0,7.0,6.0,5.0,4.0,4.0,5.0,3.0,3.0,2.0,2.0,1.0,1.0,1.0,2.0,3.0,3.0,2.0,1.0,0.0,0.0,0.0,1.0,2.0,2.0,2.0,3.0,4.0,4.0,5.0,5.0,4.0,4.0,4.0,5.0,6.0,7.0,8.0,8.0,8.0,7.0,6.0,6.0,5.0,5.0,4.0,3.0,2.0,1.0,0.0,0.0,0.0,1.0,1.0,3.0,3.0,6.0,7.0,7.0,8.0,0.0],\"edges_y\":[0.0,1.0,2.0,2.0,2.0,2.0,2.0,2.0,3.0,3.0,4.0,4.0,4.0,3.0,3.0,2.0,2.0,1.0,0.0,0.0,0.0,1.0,1.0,2.0,1.0,1.0,0.0,0.0,0.0,1.0,1.0,0.0,0.0,1.0,3.0,3.0,3.0,4.0,4.0,4.0,4.0,3.0,5.0,5.0,5.0,6.0,7.0,7.0,7.0,6.0,6.0,5.0,5.0,4.0,3.0,4.0,5.0,5.0,5.0,6.0,7.0,7.0,7.0,8.0,8.0,7.0,8.0,8.0,8.0,8.0,8.0,7.0,6.0,6.0,7.0,6.0,5.0,6.0,6.0,8.0,8.0,0.0]},\"selected\":{\"id\":\"3395\"},\"selection_policy\":{\"id\":\"3394\"}},\"id\":\"3360\",\"type\":\"ColumnDataSource\"},{\"attributes\":{},\"id\":\"3338\",\"type\":\"BasicTicker\"},{\"attributes\":{},\"id\":\"3404\",\"type\":\"UnionRenderers\"},{\"attributes\":{\"data\":{\"swaps_after_x\":[[[0.0,1.0],[0.0,1.0]],[[0.0,8.0],[1.0,0.0]],[[0.0,7.0],[8.0,7.0]],[[0.0,7.0],[7.0,6.0]],[[0.0,3.0],[7.0,3.0]],[[0.0,4.0],[3.0,4.0]],[[0.0,1.0],[4.0,2.0]],[[0.0,0.0],[1.0,0.0]],[[0.0,1.0],[0.0,0.0]],[[0.0,0.0],[1.0,1.0]],[[2.0,3.0],[2.0,1.0]],[[3.0,7.0],[7.0,6.0]],[[3.0,4.0],[7.0,5.0]],[[2.0,3.0],[3.0,6.0]],[[3.0,3.0],[4.0,6.0]],[[4.0,7.0],[6.0,5.0]],[[3.0,4.0],[3.0,7.0]],[[3.0,5.0],[7.0,5.0]],[[3.0,3.0],[4.0,5.0]],[[7.0,6.0],[8.0,7.0]],[[5.0,5.0],[6.0,7.0]],[[6.0,6.0],[7.0,7.0]],[[7.0,8.0],[7.0,7.0]],[[7.0,7.0],[8.0,8.0]],[[4.0,3.0],[2.0,3.0]],[[5.0,5.0],[4.0,3.0]]],\"swaps_after_y\":[[[1.0,1.0],[2.0,3.0]],[[1.0,8.0],[1.0,0.0]],[[1.0,8.0],[8.0,6.0]],[[1.0,6.0],[8.0,6.0]],[[1.0,5.0],[6.0,6.0]],[[1.0,3.0],[5.0,4.0]],[[1.0,4.0],[3.0,4.0]],[[1.0,3.0],[4.0,5.0]],[[1.0,3.0],[3.0,2.0]],[[1.0,2.0],[3.0,2.0]],[[5.0,6.0],[6.0,7.0]],[[6.0,8.0],[6.0,6.0]],[[6.0,5.0],[8.0,5.0]],[[5.0,5.0],[6.0,6.0]],[[5.0,6.0],[4.0,6.0]],[[4.0,8.0],[6.0,5.0]],[[5.0,4.0],[6.0,8.0]],[[6.0,5.0],[8.0,6.0]],[[5.0,6.0],[4.0,5.0]],[[6.0,7.0],[8.0,7.0]],[[5.0,6.0],[6.0,8.0]],[[7.0,6.0],[6.0,8.0]],[[6.0,8.0],[8.0,7.0]],[[6.0,7.0],[8.0,7.0]],[[3.0,4.0],[4.0,3.0]],[[1.0,0.0],[1.0,0.0]]],\"swaps_before_x\":[[[0.0,0.0],[1.0,1.0]],[[0.0,1.0],[8.0,0.0]],[[0.0,8.0],[7.0,7.0]],[[0.0,7.0],[7.0,6.0]],[[0.0,7.0],[3.0,3.0]],[[0.0,3.0],[4.0,4.0]],[[0.0,4.0],[1.0,2.0]],[[0.0,1.0],[0.0,0.0]],[[0.0,0.0],[1.0,0.0]],[[0.0,1.0],[0.0,1.0]],[[2.0,2.0],[3.0,1.0]],[[3.0,7.0],[7.0,6.0]],[[3.0,7.0],[4.0,5.0]],[[2.0,3.0],[3.0,6.0]],[[3.0,4.0],[3.0,6.0]],[[4.0,6.0],[7.0,5.0]],[[3.0,3.0],[4.0,7.0]],[[3.0,7.0],[5.0,5.0]],[[3.0,4.0],[3.0,5.0]],[[7.0,8.0],[6.0,7.0]],[[5.0,6.0],[5.0,7.0]],[[6.0,7.0],[6.0,7.0]],[[7.0,7.0],[8.0,7.0]],[[7.0,8.0],[7.0,8.0]],[[4.0,2.0],[3.0,3.0]],[[5.0,4.0],[5.0,3.0]]],\"swaps_before_y\":[[[1.0,2.0],[1.0,3.0]],[[1.0,1.0],[8.0,0.0]],[[1.0,8.0],[8.0,6.0]],[[1.0,8.0],[6.0,6.0]],[[1.0,6.0],[5.0,6.0]],[[1.0,5.0],[3.0,4.0]],[[1.0,3.0],[4.0,4.0]],[[1.0,4.0],[3.0,5.0]],[[1.0,3.0],[3.0,2.0]],[[1.0,3.0],[2.0,2.0]],[[5.0,6.0],[6.0,7.0]],[[6.0,6.0],[8.0,6.0]],[[6.0,8.0],[5.0,5.0]],[[5.0,6.0],[5.0,6.0]],[[5.0,4.0],[6.0,6.0]],[[4.0,6.0],[8.0,5.0]],[[5.0,6.0],[4.0,8.0]],[[6.0,8.0],[5.0,6.0]],[[5.0,4.0],[6.0,5.0]],[[6.0,8.0],[7.0,7.0]],[[5.0,6.0],[6.0,8.0]],[[7.0,6.0],[6.0,8.0]],[[6.0,8.0],[8.0,7.0]],[[6.0,8.0],[7.0,7.0]],[[3.0,4.0],[4.0,3.0]],[[1.0,1.0],[0.0,0.0]]]},\"selected\":{\"id\":\"3407\"},\"selection_policy\":{\"id\":\"3406\"}},\"id\":\"3361\",\"type\":\"ColumnDataSource\"},{\"attributes\":{\"axis\":{\"id\":\"3337\"},\"dimension\":1,\"grid_line_color\":null,\"ticker\":null},\"id\":\"3340\",\"type\":\"Grid\"},{\"attributes\":{},\"id\":\"3405\",\"type\":\"Selection\"},{\"attributes\":{\"data\":{\"swaps_after_x\":[[0.0,1.0],[0.0,1.0]],\"swaps_after_y\":[[1.0,1.0],[2.0,3.0]],\"swaps_before_x\":[[0.0,0.0],[1.0,1.0]],\"swaps_before_y\":[[1.0,2.0],[1.0,3.0]]},\"selected\":{\"id\":\"3397\"},\"selection_policy\":{\"id\":\"3396\"}},\"id\":\"3362\",\"type\":\"ColumnDataSource\"},{\"attributes\":{\"align\":\"center\",\"width\":200},\"id\":\"3357\",\"type\":\"Div\"},{\"attributes\":{\"source\":{\"id\":\"3378\"}},\"id\":\"3382\",\"type\":\"CDSView\"},{\"attributes\":{},\"id\":\"3406\",\"type\":\"UnionRenderers\"},{\"attributes\":{},\"id\":\"3390\",\"type\":\"BasicTickFormatter\"},{\"attributes\":{\"align\":\"center\",\"text\":\"100.8\",\"width\":200},\"id\":\"3356\",\"type\":\"Div\"},{\"attributes\":{},\"id\":\"3407\",\"type\":\"Selection\"},{\"attributes\":{\"data_source\":{\"id\":\"3362\"},\"glyph\":{\"id\":\"3374\"},\"hover_glyph\":null,\"muted_glyph\":null,\"nonselection_glyph\":{\"id\":\"3375\"},\"selection_glyph\":null,\"view\":{\"id\":\"3377\"}},\"id\":\"3376\",\"type\":\"GlyphRenderer\"},{\"attributes\":{\"button_type\":\"success\",\"icon\":null,\"js_event_callbacks\":{\"button_click\":[{\"id\":\"3386\"}]},\"label\":\"Previous\",\"sizing_mode\":\"scale_width\",\"width_policy\":\"fit\"},\"id\":\"3385\",\"type\":\"Button\"},{\"attributes\":{\"source\":{\"id\":\"3362\"}},\"id\":\"3372\",\"type\":\"CDSView\"},{\"attributes\":{\"source\":{\"id\":\"3362\"}},\"id\":\"3377\",\"type\":\"CDSView\"},{\"attributes\":{},\"id\":\"3341\",\"type\":\"PanTool\"},{\"attributes\":{\"line_color\":{\"value\":\"#90D7F6\"},\"line_width\":{\"value\":4},\"xs\":{\"field\":\"swaps_after_x\"},\"ys\":{\"field\":\"swaps_after_y\"}},\"id\":\"3374\",\"type\":\"MultiLine\"},{\"attributes\":{\"background_fill_color\":null,\"below\":[{\"id\":\"3333\"}],\"border_fill_color\":null,\"center\":[{\"id\":\"3336\"},{\"id\":\"3340\"}],\"left\":[{\"id\":\"3337\"}],\"outline_line_color\":null,\"plot_height\":400,\"plot_width\":400,\"renderers\":[{\"id\":\"3366\"},{\"id\":\"3371\"},{\"id\":\"3376\"},{\"id\":\"3381\"}],\"title\":{\"id\":\"3323\"},\"toolbar\":{\"id\":\"3348\"},\"toolbar_location\":null,\"x_range\":{\"id\":\"3325\"},\"x_scale\":{\"id\":\"3329\"},\"y_range\":{\"id\":\"3327\"},\"y_scale\":{\"id\":\"3331\"}},\"id\":\"3322\",\"subtype\":\"Figure\",\"type\":\"Plot\"},{\"attributes\":{\"line_alpha\":{\"value\":0.1},\"line_color\":{\"value\":\"#90D7F6\"},\"line_width\":{\"value\":4},\"xs\":{\"field\":\"swaps_after_x\"},\"ys\":{\"field\":\"swaps_after_y\"}},\"id\":\"3375\",\"type\":\"MultiLine\"},{\"attributes\":{\"data\":{\"x\":[0.0,0.0,0.0,0.0,0.0,0.0,0.0,0.0,0.0,1.0,1.0,1.0,1.0,1.0,1.0,1.0,1.0,1.0,2.0,2.0,2.0,2.0,2.0,2.0,2.0,2.0,2.0,3.0,3.0,3.0,3.0,3.0,3.0,3.0,3.0,3.0,4.0,4.0,4.0,4.0,4.0,4.0,4.0,4.0,4.0,5.0,5.0,5.0,5.0,5.0,5.0,5.0,5.0,5.0,6.0,6.0,6.0,6.0,6.0,6.0,6.0,6.0,6.0,7.0,7.0,7.0,7.0,7.0,7.0,7.0,7.0,7.0,8.0,8.0,8.0,8.0,8.0,8.0,8.0,8.0,8.0],\"y\":[0.0,1.0,2.0,3.0,4.0,5.0,6.0,7.0,8.0,0.0,1.0,2.0,3.0,4.0,5.0,6.0,7.0,8.0,0.0,1.0,2.0,3.0,4.0,5.0,6.0,7.0,8.0,0.0,1.0,2.0,3.0,4.0,5.0,6.0,7.0,8.0,0.0,1.0,2.0,3.0,4.0,5.0,6.0,7.0,8.0,0.0,1.0,2.0,3.0,4.0,5.0,6.0,7.0,8.0,0.0,1.0,2.0,3.0,4.0,5.0,6.0,7.0,8.0,0.0,1.0,2.0,3.0,4.0,5.0,6.0,7.0,8.0,0.0,1.0,2.0,3.0,4.0,5.0,6.0,7.0,8.0]},\"selected\":{\"id\":\"3399\"},\"selection_policy\":{\"id\":\"3398\"}},\"id\":\"3378\",\"type\":\"ColumnDataSource\"},{\"attributes\":{},\"id\":\"3342\",\"type\":\"WheelZoomTool\"},{\"attributes\":{\"button_type\":\"success\",\"icon\":null,\"js_event_callbacks\":{\"button_click\":[{\"id\":\"3384\"}]},\"label\":\"Next\",\"sizing_mode\":\"scale_width\",\"width_policy\":\"fit\"},\"id\":\"3383\",\"type\":\"Button\"},{\"attributes\":{\"data_source\":{\"id\":\"3362\"},\"glyph\":{\"id\":\"3369\"},\"hover_glyph\":null,\"muted_glyph\":null,\"nonselection_glyph\":{\"id\":\"3370\"},\"selection_glyph\":null,\"view\":{\"id\":\"3372\"}},\"id\":\"3371\",\"type\":\"GlyphRenderer\"},{\"attributes\":{\"overlay\":{\"id\":\"3347\"}},\"id\":\"3343\",\"type\":\"BoxZoomTool\"},{\"attributes\":{\"line_alpha\":{\"value\":0.1},\"line_color\":{\"value\":\"red\"},\"line_width\":{\"value\":4},\"xs\":{\"field\":\"swaps_before_x\"},\"ys\":{\"field\":\"swaps_before_y\"}},\"id\":\"3370\",\"type\":\"MultiLine\"},{\"attributes\":{\"text\":\"\"},\"id\":\"3323\",\"type\":\"Title\"},{\"attributes\":{\"args\":{\"cost\":{\"id\":\"3356\"},\"done\":{\"id\":\"3357\"},\"n\":{\"id\":\"3358\"},\"source\":{\"id\":\"3359\"},\"swaps\":{\"id\":\"3362\"},\"swaps_source\":{\"id\":\"3361\"},\"tour\":{\"id\":\"3360\"}},\"code\":\"\\nif ((parseInt(n.text) + 1) < source.data['edges_y'].length) {\\n    n.text = (parseInt(n.text) + 1).toString()\\n}\\nvar iteration = parseInt(n.text)\\n\\n    cost.text = source.data['costs'][iteration].toFixed(1)\\n    \\n    if (iteration == source.data['edges_y'].length - 1) {\\n        done.text = \\\"done.\\\"\\n        swaps.data['swaps_before_x'] = [[]]\\n        swaps.data['swaps_before_y'] = [[]]\\n        swaps.data['swaps_after_x'] = [[]]\\n        swaps.data['swaps_after_y'] = [[]]\\n    } else {\\n        done.text = \\\"\\\"\\n        swaps.data['swaps_before_x'] = swaps_source.data['swaps_before_x'][iteration]\\n        swaps.data['swaps_before_y'] = swaps_source.data['swaps_before_y'][iteration]\\n        swaps.data['swaps_after_x'] = swaps_source.data['swaps_after_x'][iteration]\\n        swaps.data['swaps_after_y'] = swaps_source.data['swaps_after_y'][iteration]\\n    }\\n\\n    tour.data['edges_x'] = source.data['edges_x'][iteration]\\n    tour.data['edges_y'] = source.data['edges_y'][iteration]\\n    tour.change.emit()\\n    swaps.change.emit()\\n    \"},\"id\":\"3384\",\"type\":\"CustomJS\"},{\"attributes\":{},\"id\":\"3344\",\"type\":\"SaveTool\"},{\"attributes\":{\"source\":{\"id\":\"3360\"}},\"id\":\"3367\",\"type\":\"CDSView\"},{\"attributes\":{\"fill_color\":{\"value\":\"steelblue\"},\"line_color\":{\"value\":\"steelblue\"},\"size\":{\"units\":\"screen\",\"value\":8},\"x\":{\"field\":\"x\"},\"y\":{\"field\":\"y\"}},\"id\":\"3379\",\"type\":\"Circle\"},{\"attributes\":{\"fill_alpha\":{\"value\":0.1},\"fill_color\":{\"value\":\"steelblue\"},\"line_alpha\":{\"value\":0.1},\"line_color\":{\"value\":\"steelblue\"},\"size\":{\"units\":\"screen\",\"value\":8},\"x\":{\"field\":\"x\"},\"y\":{\"field\":\"y\"}},\"id\":\"3380\",\"type\":\"Circle\"},{\"attributes\":{},\"id\":\"3345\",\"type\":\"ResetTool\"},{\"attributes\":{\"data_source\":{\"id\":\"3378\"},\"glyph\":{\"id\":\"3379\"},\"hover_glyph\":null,\"muted_glyph\":null,\"nonselection_glyph\":{\"id\":\"3380\"},\"selection_glyph\":null,\"view\":{\"id\":\"3382\"}},\"id\":\"3381\",\"type\":\"GlyphRenderer\"},{\"attributes\":{\"args\":{\"cost\":{\"id\":\"3356\"},\"done\":{\"id\":\"3357\"},\"n\":{\"id\":\"3358\"},\"source\":{\"id\":\"3359\"},\"swaps\":{\"id\":\"3362\"},\"swaps_source\":{\"id\":\"3361\"},\"tour\":{\"id\":\"3360\"}},\"code\":\"\\nif ((parseInt(n.text) - 1) >= 0) {\\n    n.text = (parseInt(n.text) - 1).toString()\\n}\\nvar iteration = parseInt(n.text)\\n\\n    cost.text = source.data['costs'][iteration].toFixed(1)\\n    \\n    if (iteration == source.data['edges_y'].length - 1) {\\n        done.text = \\\"done.\\\"\\n        swaps.data['swaps_before_x'] = [[]]\\n        swaps.data['swaps_before_y'] = [[]]\\n        swaps.data['swaps_after_x'] = [[]]\\n        swaps.data['swaps_after_y'] = [[]]\\n    } else {\\n        done.text = \\\"\\\"\\n        swaps.data['swaps_before_x'] = swaps_source.data['swaps_before_x'][iteration]\\n        swaps.data['swaps_before_y'] = swaps_source.data['swaps_before_y'][iteration]\\n        swaps.data['swaps_after_x'] = swaps_source.data['swaps_after_x'][iteration]\\n        swaps.data['swaps_after_y'] = swaps_source.data['swaps_after_y'][iteration]\\n    }\\n\\n    tour.data['edges_x'] = source.data['edges_x'][iteration]\\n    tour.data['edges_y'] = source.data['edges_y'][iteration]\\n    tour.change.emit()\\n    swaps.change.emit()\\n    \"},\"id\":\"3386\",\"type\":\"CustomJS\"},{\"attributes\":{},\"id\":\"3346\",\"type\":\"HelpTool\"},{\"attributes\":{\"data_source\":{\"id\":\"3360\"},\"glyph\":{\"id\":\"3364\"},\"hover_glyph\":null,\"muted_glyph\":null,\"nonselection_glyph\":{\"id\":\"3365\"},\"selection_glyph\":null,\"view\":{\"id\":\"3367\"}},\"id\":\"3366\",\"type\":\"GlyphRenderer\"},{\"attributes\":{\"line_color\":{\"value\":\"red\"},\"line_width\":{\"value\":4},\"xs\":{\"field\":\"swaps_before_x\"},\"ys\":{\"field\":\"swaps_before_y\"}},\"id\":\"3369\",\"type\":\"MultiLine\"},{\"attributes\":{\"line_width\":4,\"x\":{\"field\":\"edges_x\"},\"y\":{\"field\":\"edges_y\"}},\"id\":\"3364\",\"type\":\"Line\"},{\"attributes\":{\"end\":8.68,\"start\":-0.68},\"id\":\"3325\",\"type\":\"Range1d\"},{\"attributes\":{\"align\":\"center\",\"text\":\"0\",\"width\":400},\"id\":\"3358\",\"type\":\"Div\"},{\"attributes\":{\"end\":8.68,\"start\":-0.68},\"id\":\"3327\",\"type\":\"Range1d\"}],\"root_ids\":[\"3410\"]},\"title\":\"Bokeh Application\",\"version\":\"2.1.0\"}};\n",
       "  var render_items = [{\"docid\":\"13169cf3-67c7-4428-ae9d-6e785f9a61bb\",\"root_ids\":[\"3410\"],\"roots\":{\"3410\":\"9b14c03d-9d62-44c8-90bc-fbb1ab7aca68\"}}];\n",
       "  root.Bokeh.embed.embed_items_notebook(docs_json, render_items);\n",
       "\n",
       "  }\n",
       "  if (root.Bokeh !== undefined) {\n",
       "    embed_document(root);\n",
       "  } else {\n",
       "    var attempts = 0;\n",
       "    var timer = setInterval(function(root) {\n",
       "      if (root.Bokeh !== undefined) {\n",
       "        clearInterval(timer);\n",
       "        embed_document(root);\n",
       "      } else {\n",
       "        attempts++;\n",
       "        if (attempts > 100) {\n",
       "          clearInterval(timer);\n",
       "          console.log(\"Bokeh: ERROR: Unable to run BokehJS code because BokehJS library is missing\");\n",
       "        }\n",
       "      }\n",
       "    }, 10, root)\n",
       "  }\n",
       "})(window);"
      ],
      "application/vnd.bokehjs_exec.v0+json": ""
     },
     "metadata": {
      "application/vnd.bokehjs_exec.v0+json": {
       "id": "3410"
      }
     },
     "output_type": "display_data"
    }
   ],
   "source": [
    "nodes, G = tsp_grid_instance(9,9,manhattan=False)\n",
    "tour = nearest_neighbor(G)\n",
    "tour = plot_two_opt(nodes, G, tour)"
   ]
  },
  {
   "cell_type": "markdown",
   "metadata": {},
   "source": [
    "**Q13:** After running 2-OPT, do you ever get a tour which crosses itself? When using euclidian distances, is this even possible? Explain why or why not.\n",
    "\n",
    "**A:** <font color='blue'> No. This is not possible. Assume you have a tour that crosses itself. Consider the two edges that cross. You can always reconnect them to be cheaper. Hence, 2-OPT has not been run to completion. It follows that 2-OPT always terminates with a tour with no crosses. </font>"
   ]
  },
  {
   "cell_type": "markdown",
   "metadata": {},
   "source": [
    "Let's compare the heuristics with and without executing 2-OPT. While we are at it, we will use the function `solve_tsp` to get an optimal tour."
   ]
  },
  {
   "cell_type": "code",
   "execution_count": 23,
   "metadata": {},
   "outputs": [
    {
     "data": {
      "text/html": [
       "\n",
       "\n",
       "\n",
       "\n",
       "\n",
       "\n",
       "  <div class=\"bk-root\" id=\"b3165232-23c8-4518-90e5-d3b201ec314a\" data-root-id=\"3707\"></div>\n"
      ]
     },
     "metadata": {},
     "output_type": "display_data"
    },
    {
     "data": {
      "application/javascript": [
       "(function(root) {\n",
       "  function embed_document(root) {\n",
       "    \n",
       "  var docs_json = {\"33d5684e-2eb7-42cc-bf02-046c746eb507\":{\"roots\":{\"references\":[{\"attributes\":{\"children\":[[{\"id\":\"3651\"},0,0],[{\"id\":\"3685\"},1,0]]},\"id\":\"3707\",\"type\":\"GridBox\"},{\"attributes\":{},\"id\":\"3701\",\"type\":\"UnionRenderers\"},{\"attributes\":{\"background_fill_color\":null,\"below\":[{\"id\":\"3662\"}],\"border_fill_color\":null,\"center\":[{\"id\":\"3665\"},{\"id\":\"3669\"}],\"left\":[{\"id\":\"3666\"}],\"outline_line_color\":null,\"plot_height\":400,\"plot_width\":400,\"renderers\":[{\"id\":\"3689\"},{\"id\":\"3694\"}],\"title\":{\"id\":\"3652\"},\"toolbar\":{\"id\":\"3677\"},\"toolbar_location\":null,\"x_range\":{\"id\":\"3654\"},\"x_scale\":{\"id\":\"3658\"},\"y_range\":{\"id\":\"3656\"},\"y_scale\":{\"id\":\"3660\"}},\"id\":\"3651\",\"subtype\":\"Figure\",\"type\":\"Plot\"},{\"attributes\":{\"active_drag\":\"auto\",\"active_inspect\":\"auto\",\"active_multi\":null,\"active_scroll\":\"auto\",\"active_tap\":\"auto\",\"logo\":null,\"tools\":[{\"id\":\"3670\"},{\"id\":\"3671\"},{\"id\":\"3672\"},{\"id\":\"3673\"},{\"id\":\"3674\"},{\"id\":\"3675\"}]},\"id\":\"3677\",\"type\":\"Toolbar\"},{\"attributes\":{\"source\":{\"id\":\"3691\"}},\"id\":\"3695\",\"type\":\"CDSView\"},{\"attributes\":{},\"id\":\"3675\",\"type\":\"HelpTool\"},{\"attributes\":{\"end\":5.425,\"start\":-0.42500000000000004},\"id\":\"3654\",\"type\":\"Range1d\"},{\"attributes\":{},\"id\":\"3704\",\"type\":\"Selection\"},{\"attributes\":{},\"id\":\"3674\",\"type\":\"ResetTool\"},{\"attributes\":{\"fill_color\":{\"value\":\"steelblue\"},\"line_color\":{\"value\":\"steelblue\"},\"size\":{\"units\":\"screen\",\"value\":8},\"x\":{\"field\":\"x\"},\"y\":{\"field\":\"y\"}},\"id\":\"3692\",\"type\":\"Circle\"},{\"attributes\":{},\"id\":\"3697\",\"type\":\"BasicTickFormatter\"},{\"attributes\":{},\"id\":\"3658\",\"type\":\"LinearScale\"},{\"attributes\":{},\"id\":\"3673\",\"type\":\"SaveTool\"},{\"attributes\":{\"data_source\":{\"id\":\"3691\"},\"glyph\":{\"id\":\"3692\"},\"hover_glyph\":null,\"muted_glyph\":null,\"nonselection_glyph\":{\"id\":\"3693\"},\"selection_glyph\":null,\"view\":{\"id\":\"3695\"}},\"id\":\"3694\",\"type\":\"GlyphRenderer\"},{\"attributes\":{\"text\":\"\"},\"id\":\"3652\",\"type\":\"Title\"},{\"attributes\":{\"overlay\":{\"id\":\"3676\"}},\"id\":\"3672\",\"type\":\"BoxZoomTool\"},{\"attributes\":{\"end\":5.425,\"start\":-0.42500000000000004},\"id\":\"3656\",\"type\":\"Range1d\"},{\"attributes\":{\"fill_alpha\":{\"value\":0.1},\"fill_color\":{\"value\":\"steelblue\"},\"line_alpha\":{\"value\":0.1},\"line_color\":{\"value\":\"steelblue\"},\"size\":{\"units\":\"screen\",\"value\":8},\"x\":{\"field\":\"x\"},\"y\":{\"field\":\"y\"}},\"id\":\"3693\",\"type\":\"Circle\"},{\"attributes\":{},\"id\":\"3671\",\"type\":\"WheelZoomTool\"},{\"attributes\":{\"formatter\":{\"id\":\"3697\"},\"ticker\":{\"id\":\"3663\"},\"visible\":false},\"id\":\"3662\",\"type\":\"LinearAxis\"},{\"attributes\":{},\"id\":\"3670\",\"type\":\"PanTool\"},{\"attributes\":{\"align\":\"center\",\"text\":\"36.0\",\"width\":400},\"id\":\"3685\",\"type\":\"Div\"},{\"attributes\":{\"data\":{\"x\":[0.0,1.0,2.0,3.0,4.0,5.0,5.0,5.0,5.0,5.0,5.0,4.0,4.0,4.0,4.0,4.0,3.0,3.0,3.0,3.0,3.0,2.0,2.0,2.0,2.0,2.0,1.0,1.0,1.0,1.0,1.0,0.0,0.0,0.0,0.0,0.0,0.0],\"y\":[0.0,0.0,0.0,0.0,0.0,0.0,1.0,2.0,3.0,4.0,5.0,5.0,4.0,3.0,2.0,1.0,1.0,2.0,3.0,4.0,5.0,5.0,4.0,3.0,2.0,1.0,1.0,2.0,3.0,4.0,5.0,5.0,4.0,3.0,2.0,1.0,0.0]},\"selected\":{\"id\":\"3702\"},\"selection_policy\":{\"id\":\"3701\"}},\"id\":\"3686\",\"type\":\"ColumnDataSource\"},{\"attributes\":{\"data_source\":{\"id\":\"3686\"},\"glyph\":{\"id\":\"3687\"},\"hover_glyph\":null,\"muted_glyph\":null,\"nonselection_glyph\":{\"id\":\"3688\"},\"selection_glyph\":null,\"view\":{\"id\":\"3690\"}},\"id\":\"3689\",\"type\":\"GlyphRenderer\"},{\"attributes\":{\"axis\":{\"id\":\"3666\"},\"dimension\":1,\"grid_line_color\":null,\"ticker\":null},\"id\":\"3669\",\"type\":\"Grid\"},{\"attributes\":{},\"id\":\"3667\",\"type\":\"BasicTicker\"},{\"attributes\":{\"line_alpha\":0.1,\"line_width\":4,\"x\":{\"field\":\"x\"},\"y\":{\"field\":\"y\"}},\"id\":\"3688\",\"type\":\"Line\"},{\"attributes\":{\"data\":{\"x\":[0.0,0.0,0.0,0.0,0.0,0.0,1.0,1.0,1.0,1.0,1.0,1.0,2.0,2.0,2.0,2.0,2.0,2.0,3.0,3.0,3.0,3.0,3.0,3.0,4.0,4.0,4.0,4.0,4.0,4.0,5.0,5.0,5.0,5.0,5.0,5.0],\"y\":[0.0,1.0,2.0,3.0,4.0,5.0,0.0,1.0,2.0,3.0,4.0,5.0,0.0,1.0,2.0,3.0,4.0,5.0,0.0,1.0,2.0,3.0,4.0,5.0,0.0,1.0,2.0,3.0,4.0,5.0,0.0,1.0,2.0,3.0,4.0,5.0]},\"selected\":{\"id\":\"3704\"},\"selection_policy\":{\"id\":\"3703\"}},\"id\":\"3691\",\"type\":\"ColumnDataSource\"},{\"attributes\":{\"formatter\":{\"id\":\"3699\"},\"ticker\":{\"id\":\"3667\"},\"visible\":false},\"id\":\"3666\",\"type\":\"LinearAxis\"},{\"attributes\":{\"line_width\":4,\"x\":{\"field\":\"x\"},\"y\":{\"field\":\"y\"}},\"id\":\"3687\",\"type\":\"Line\"},{\"attributes\":{\"source\":{\"id\":\"3686\"}},\"id\":\"3690\",\"type\":\"CDSView\"},{\"attributes\":{\"axis\":{\"id\":\"3662\"},\"grid_line_color\":null,\"ticker\":null},\"id\":\"3665\",\"type\":\"Grid\"},{\"attributes\":{},\"id\":\"3663\",\"type\":\"BasicTicker\"},{\"attributes\":{\"bottom_units\":\"screen\",\"fill_alpha\":0.5,\"fill_color\":\"lightgrey\",\"left_units\":\"screen\",\"level\":\"overlay\",\"line_alpha\":1.0,\"line_color\":\"black\",\"line_dash\":[4,4],\"line_width\":2,\"right_units\":\"screen\",\"top_units\":\"screen\"},\"id\":\"3676\",\"type\":\"BoxAnnotation\"},{\"attributes\":{},\"id\":\"3702\",\"type\":\"Selection\"},{\"attributes\":{},\"id\":\"3660\",\"type\":\"LinearScale\"},{\"attributes\":{},\"id\":\"3703\",\"type\":\"UnionRenderers\"},{\"attributes\":{},\"id\":\"3699\",\"type\":\"BasicTickFormatter\"}],\"root_ids\":[\"3707\"]},\"title\":\"Bokeh Application\",\"version\":\"2.1.0\"}};\n",
       "  var render_items = [{\"docid\":\"33d5684e-2eb7-42cc-bf02-046c746eb507\",\"root_ids\":[\"3707\"],\"roots\":{\"3707\":\"b3165232-23c8-4518-90e5-d3b201ec314a\"}}];\n",
       "  root.Bokeh.embed.embed_items_notebook(docs_json, render_items);\n",
       "\n",
       "  }\n",
       "  if (root.Bokeh !== undefined) {\n",
       "    embed_document(root);\n",
       "  } else {\n",
       "    var attempts = 0;\n",
       "    var timer = setInterval(function(root) {\n",
       "      if (root.Bokeh !== undefined) {\n",
       "        clearInterval(timer);\n",
       "        embed_document(root);\n",
       "      } else {\n",
       "        attempts++;\n",
       "        if (attempts > 100) {\n",
       "          clearInterval(timer);\n",
       "          console.log(\"Bokeh: ERROR: Unable to run BokehJS code because BokehJS library is missing\");\n",
       "        }\n",
       "      }\n",
       "    }, 10, root)\n",
       "  }\n",
       "})(window);"
      ],
      "application/vnd.bokehjs_exec.v0+json": ""
     },
     "metadata": {
      "application/vnd.bokehjs_exec.v0+json": {
       "id": "3707"
      }
     },
     "output_type": "display_data"
    }
   ],
   "source": [
    "nodes, G = tsp_grid_instance(6,6,manhattan=False)\n",
    "tour = solve_tsp(G)\n",
    "plot_tour(nodes, G, tour)"
   ]
  },
  {
   "cell_type": "code",
   "execution_count": 24,
   "metadata": {},
   "outputs": [
    {
     "name": "stdout",
     "output_type": "stream",
     "text": [
      "Nearest Neighbor: 44.62606765974404\n",
      "Nearest Neighbor + 2-OPT: 37.99348592421335\n",
      "Nearest Insertion: 38.69050679116014\n",
      "Nearest Insertion + 2-OPT: 37.85462512589236\n",
      "Furthest Insertion: 37.66500706654747\n",
      "Furthest Insertion + 2-OPT: 37.59873289656778\n",
      "Optimal: 36.0\n"
     ]
    }
   ],
   "source": [
    "n = 50\n",
    "nearest_neighbor_total = 0\n",
    "nearest_insertion_total = 0\n",
    "furthest_insertion_total = 0\n",
    "nearest_neighbor_2_total = 0\n",
    "nearest_insertion_2_total = 0\n",
    "furthest_insertion_2_total = 0\n",
    "optimal_total = 0\n",
    "for i in range(n):\n",
    "    nearest_neighbor_total += tour_cost(G, nearest_neighbor(G))\n",
    "    nearest_insertion_total += tour_cost(G, nearest_insertion(G))\n",
    "    furthest_insertion_total += tour_cost(G, furthest_insertion(G))\n",
    "    nearest_neighbor_2_total += tour_cost(G, two_opt(G, nearest_neighbor(G)))\n",
    "    nearest_insertion_2_total += tour_cost(G, two_opt(G, nearest_insertion(G)))\n",
    "    furthest_insertion_2_total += tour_cost(G, two_opt(G, furthest_insertion(G)))\n",
    "    optimal_total += tour_cost(G, solve_tsp(G))\n",
    "print(\"Nearest Neighbor: %s\" % (nearest_neighbor_total / n))\n",
    "print(\"Nearest Neighbor + 2-OPT: %s\" % (nearest_neighbor_2_total / n))\n",
    "print(\"Nearest Insertion: %s\" % (nearest_insertion_total / n))\n",
    "print(\"Nearest Insertion + 2-OPT: %s\" % (nearest_insertion_2_total / n))\n",
    "print(\"Furthest Insertion: %s\" % (furthest_insertion_total / n))\n",
    "print(\"Furthest Insertion + 2-OPT: %s\" % (furthest_insertion_2_total / n))\n",
    "print(\"Optimal: %s\" % (optimal_total / n))"
   ]
  },
  {
   "cell_type": "markdown",
   "metadata": {},
   "source": [
    "**Q14:** Compare the heuristics to their before and after 2-OPT performance. Compare them to the optimal.\n",
    "\n",
    "**A:** <font color='blue'> The nearest neighbor heuristic improved the most from 2-OPT. Both nearest and furthest insertion were often not improved by 2-OPT and came very close to the optimal. After running 2-OPT, the nearest neighbor heuristic was *near* optimal as well. </font>"
   ]
  },
  {
   "cell_type": "markdown",
   "metadata": {},
   "source": [
    "For fun, let's go back to the 23 US city example. Let's run 2-OPT on the tour you created in **Part I** (or a new one if you would like). To do this, you will need to define the tour as follows:"
   ]
  },
  {
   "cell_type": "code",
   "execution_count": 25,
   "metadata": {},
   "outputs": [
    {
     "data": {
      "text/html": [
       "\n",
       "\n",
       "\n",
       "\n",
       "\n",
       "\n",
       "  <div class=\"bk-root\" id=\"831aa1dd-b4ed-451d-a46e-6df210d99bdc\" data-root-id=\"4001\"></div>\n"
      ]
     },
     "metadata": {},
     "output_type": "display_data"
    },
    {
     "data": {
      "application/javascript": [
       "(function(root) {\n",
       "  function embed_document(root) {\n",
       "    \n",
       "  var docs_json = {\"659dbc1b-adf5-46cf-9c4c-2cf78b1606e7\":{\"roots\":{\"references\":[{\"attributes\":{\"children\":[[{\"id\":\"3926\"},0,0],[{\"id\":\"3985\"},1,0]]},\"id\":\"4001\",\"type\":\"GridBox\"},{\"attributes\":{},\"id\":\"3996\",\"type\":\"Selection\"},{\"attributes\":{\"axis\":{\"id\":\"3937\"},\"grid_line_color\":null,\"ticker\":null},\"id\":\"3940\",\"type\":\"Grid\"},{\"attributes\":{},\"id\":\"3938\",\"type\":\"BasicTicker\"},{\"attributes\":{},\"id\":\"3949\",\"type\":\"ResetTool\"},{\"attributes\":{\"args\":{\"source\":{\"id\":\"3967\"}},\"code\":\"\\n    source.data['last_index'] = cb_data.index.indices[0]   \\n    \"},\"id\":\"3979\",\"type\":\"CustomJS\"},{\"attributes\":{},\"id\":\"3998\",\"type\":\"UnionRenderers\"},{\"attributes\":{\"text\":\"\"},\"id\":\"3927\",\"type\":\"Title\"},{\"attributes\":{},\"id\":\"3933\",\"type\":\"LinearScale\"},{\"attributes\":{},\"id\":\"3999\",\"type\":\"Selection\"},{\"attributes\":{\"source\":{\"id\":\"3968\"}},\"id\":\"3973\",\"type\":\"CDSView\"},{\"attributes\":{},\"id\":\"3948\",\"type\":\"SaveTool\"},{\"attributes\":{\"end\":1434.53,\"start\":-1300.93},\"id\":\"3931\",\"type\":\"Range1d\"},{\"attributes\":{\"data_source\":{\"id\":\"3974\"},\"glyph\":{\"id\":\"3975\"},\"hover_glyph\":null,\"muted_glyph\":null,\"nonselection_glyph\":{\"id\":\"3976\"},\"selection_glyph\":null,\"view\":{\"id\":\"3978\"}},\"id\":\"3977\",\"type\":\"GlyphRenderer\"},{\"attributes\":{\"line_width\":4,\"x\":{\"field\":\"edges_x\"},\"y\":{\"field\":\"edges_y\"}},\"id\":\"3970\",\"type\":\"Line\"},{\"attributes\":{\"fill_color\":{\"value\":\"steelblue\"},\"line_color\":{\"value\":\"steelblue\"},\"size\":{\"units\":\"screen\",\"value\":10},\"x\":{\"field\":\"x\"},\"y\":{\"field\":\"y\"}},\"id\":\"3975\",\"type\":\"Circle\"},{\"attributes\":{\"line_alpha\":0.1,\"line_width\":4,\"x\":{\"field\":\"edges_x\"},\"y\":{\"field\":\"edges_y\"}},\"id\":\"3971\",\"type\":\"Line\"},{\"attributes\":{},\"id\":\"3942\",\"type\":\"BasicTicker\"},{\"attributes\":{\"source\":{\"id\":\"3974\"}},\"id\":\"3978\",\"type\":\"CDSView\"},{\"attributes\":{},\"id\":\"3946\",\"type\":\"WheelZoomTool\"},{\"attributes\":{\"data_source\":{\"id\":\"3968\"},\"glyph\":{\"id\":\"3970\"},\"hover_glyph\":null,\"muted_glyph\":null,\"nonselection_glyph\":{\"id\":\"3971\"},\"selection_glyph\":null,\"view\":{\"id\":\"3973\"}},\"id\":\"3972\",\"type\":\"GlyphRenderer\"},{\"attributes\":{\"callback\":{\"id\":\"3979\"},\"renderers\":[{\"id\":\"3977\"}],\"tooltips\":null},\"id\":\"3980\",\"type\":\"HoverTool\"},{\"attributes\":{},\"id\":\"3995\",\"type\":\"UnionRenderers\"},{\"attributes\":{\"args\":{\"cost\":{\"id\":\"3965\"},\"done\":{\"id\":\"3966\"},\"pts\":{\"id\":\"3974\"},\"source\":{\"id\":\"3967\"},\"tour\":{\"id\":\"3968\"}},\"code\":\"\\n    var node = source.data['last_index']\\n    \\n    if (node.toString() != -1) {\\n        if (!(tour.data['indices'].includes(node))) {\\n            if (tour.data['indices'].length > 0) { \\n                var prev = tour.data['indices'][tour.data['indices'].length - 1]\\n            } else {\\n                var prev = -1\\n            }\\n\\n            var tmp_edges_x = tour.data['edges_x']\\n            var tmp_edges_y = tour.data['edges_y']\\n            var tmp_indices = tour.data['indices']\\n\\n            tmp_edges_x.push(pts.data['x'][node])\\n            tmp_edges_y.push(pts.data['y'][node])\\n            tmp_indices.push(node)\\n\\n            tour.data['edges_x'] = tmp_edges_x\\n            tour.data['edges_y'] = tmp_edges_y\\n            tour.data['indices'] = tmp_indices\\n\\n            if (prev == -1) {\\n                cost.text = '0.0'\\n            } else {\\n                var before = parseFloat(cost.text)\\n                var increase = source.data['G'][prev][node]\\n                cost.text = (before + increase).toFixed(1)   \\n            }\\n            \\n            if (tour.data['indices'].length == source.data['G'].length) {\\n                var tmp_edges_x = tour.data['edges_x']\\n                var tmp_edges_y = tour.data['edges_y']\\n                var tmp_indices = tour.data['indices']\\n\\n                tmp_edges_x.push(tmp_edges_x[0])\\n                tmp_edges_y.push(tmp_edges_y[0])\\n                tmp_indices.push(tmp_indices[0])\\n\\n                tour.data['edges_x'] = tmp_edges_x\\n                tour.data['edges_y'] = tmp_edges_y\\n                tour.data['indices'] = tmp_indices\\n\\n                var before = parseFloat(cost.text)\\n                var increase = source.data['G'][node][tmp_indices[0]]\\n                cost.text = (before + increase).toFixed(1) \\n            }    \\n        }\\n    }\\n    done.text = '['.concat(tour.data['indices'].join(',')).concat(']')\\n    tour.change.emit()\\n    \"},\"id\":\"3981\",\"type\":\"CustomJS\"},{\"attributes\":{\"data\":{\"url\":[\"images/us.png\"]},\"selected\":{\"id\":\"3992\"},\"selection_policy\":{\"id\":\"3991\"}},\"id\":\"3960\",\"type\":\"ColumnDataSource\"},{\"attributes\":{\"active_drag\":\"auto\",\"active_inspect\":\"auto\",\"active_multi\":null,\"active_scroll\":\"auto\",\"active_tap\":\"auto\",\"logo\":null,\"tools\":[{\"id\":\"3945\"},{\"id\":\"3946\"},{\"id\":\"3947\"},{\"id\":\"3948\"},{\"id\":\"3949\"},{\"id\":\"3950\"},{\"id\":\"3980\"},{\"id\":\"3982\"}]},\"id\":\"3952\",\"type\":\"Toolbar\"},{\"attributes\":{\"callback\":{\"id\":\"3981\"},\"renderers\":[{\"id\":\"3977\"}]},\"id\":\"3982\",\"type\":\"TapTool\"},{\"attributes\":{},\"id\":\"3950\",\"type\":\"HelpTool\"},{\"attributes\":{\"children\":[{\"id\":\"3965\"},{\"id\":\"3966\"}]},\"id\":\"3985\",\"type\":\"Row\"},{\"attributes\":{\"overlay\":{\"id\":\"3951\"}},\"id\":\"3947\",\"type\":\"BoxZoomTool\"},{\"attributes\":{\"align\":\"center\",\"text\":\"0.0\",\"width\":300},\"id\":\"3965\",\"type\":\"Div\"},{\"attributes\":{},\"id\":\"3987\",\"type\":\"BasicTickFormatter\"},{\"attributes\":{},\"id\":\"3945\",\"type\":\"PanTool\"},{\"attributes\":{\"bottom_units\":\"screen\",\"fill_alpha\":0.5,\"fill_color\":\"lightgrey\",\"left_units\":\"screen\",\"level\":\"overlay\",\"line_alpha\":1.0,\"line_color\":\"black\",\"line_dash\":[4,4],\"line_width\":2,\"right_units\":\"screen\",\"top_units\":\"screen\"},\"id\":\"3951\",\"type\":\"BoxAnnotation\"},{\"attributes\":{\"data_source\":{\"id\":\"3960\"},\"glyph\":{\"id\":\"3961\"},\"hover_glyph\":null,\"muted_glyph\":null,\"nonselection_glyph\":{\"id\":\"3962\"},\"selection_glyph\":null,\"view\":{\"id\":\"3964\"}},\"id\":\"3963\",\"type\":\"GlyphRenderer\"},{\"attributes\":{\"end\":2772.701,\"start\":467.09900000000005},\"id\":\"3929\",\"type\":\"Range1d\"},{\"attributes\":{},\"id\":\"3989\",\"type\":\"BasicTickFormatter\"},{\"attributes\":{\"align\":\"center\",\"width\":300},\"id\":\"3966\",\"type\":\"Div\"},{\"attributes\":{\"global_alpha\":0.1,\"h\":{\"units\":\"data\",\"value\":2735.46},\"url\":{\"field\":\"url\"},\"w\":{\"units\":\"data\",\"value\":2305.602},\"x\":{\"value\":447.09900000000005},\"y\":{\"value\":1439.53}},\"id\":\"3962\",\"type\":\"ImageURL\"},{\"attributes\":{\"h\":{\"units\":\"data\",\"value\":2735.46},\"url\":{\"field\":\"url\"},\"w\":{\"units\":\"data\",\"value\":2305.602},\"x\":{\"value\":447.09900000000005},\"y\":{\"value\":1439.53}},\"id\":\"3961\",\"type\":\"ImageURL\"},{\"attributes\":{},\"id\":\"3991\",\"type\":\"UnionRenderers\"},{\"attributes\":{\"data\":{\"edges_x\":[],\"edges_y\":[],\"indices\":[]},\"selected\":{\"id\":\"3994\"},\"selection_policy\":{\"id\":\"3993\"}},\"id\":\"3968\",\"type\":\"ColumnDataSource\"},{\"attributes\":{},\"id\":\"3992\",\"type\":\"Selection\"},{\"attributes\":{\"formatter\":{\"id\":\"3987\"},\"ticker\":{\"id\":\"3938\"},\"visible\":false},\"id\":\"3937\",\"type\":\"LinearAxis\"},{\"attributes\":{},\"id\":\"3993\",\"type\":\"UnionRenderers\"},{\"attributes\":{\"data\":{\"G\":[[0.0,1041.978296319074,1336.9390449829789,1503.3710653062335,1620.158226840823,1105.73674986409,2348.9486499283034,2635.268466399581,2863.502207088376,2177.4136033376844,2196.5420551403063,1942.160459385372,1914.391153865897,1938.711048609359,1491.4511859259762,1901.5280302956355,1947.5379328783304,1669.3318663465332,1732.2980113132955,1688.682992749083,1568.3780794183526,1941.8014316608173,2295.931159682276],[1041.978296319074,1.0789593218788873e-05,307.9327848735826,491.16173507308156,667.3734561697819,1254.7246909182904,1630.197169056553,2010.9462946583133,2197.811365881977,1665.4011678871848,1759.5334296341177,1841.8517747093547,1889.389319330455,2025.318276222283,1367.4638752084093,1474.525835650227,1787.212122273123,1750.3161571556152,1554.5358953719915,1620.1582268408233,1555.970465658009,1209.4536163077937,1488.081516584357],[1336.9390449829789,307.9327848735826,0.0,186.71167612123244,389.86542549962036,1364.1968223097426,1406.4731671809454,1807.9244453239742,1976.2529089162654,1516.3931053654917,1632.2488076270727,1822.673223592205,1890.8648285903464,2052.9456105800755,1380.0506548674218,1369.80725651458,1752.2271570775295,1792.8210312242547,1531.0357441941057,1626.6863004279592,1585.4449123195675,1002.1391570036569,1236.2512689578928],[1503.3710653062335,491.16173507308156,186.71167612123244,0.0,224.0540113454783,1417.829016489647,1255.0580544341362,1665.4011678871848,1822.443691859916,1409.147543729896,1536.7630005957328,1790.6418765347803,1870.4745520856463,2046.4826239184147,1375.4961868358632,1292.8216311618553,1711.566697502613,1798.6450455829242,1501.1432976235144,1613.3444672480828,1586.7636623013525,867.1144330479111,1069.973574440042],[1620.158226840823,667.3734561697819,389.86542549962036,224.0540113454783,0.0,1371.0283002184892,1031.081315900933,1442.497240898574,1598.4089870868472,1202.863799438656,1337.6689575526525,1643.4870398028697,1733.9876268301339,1922.531968524841,1262.5906858519115,1110.3930340199367,1556.9559659797708,1690.2512120983672,1359.5892467947808,1487.0503723815143,1476.4160118340633,648.5106938208503,848.4191711648201],[1105.73674986409,1254.7246909182904,1364.1968223097426,1417.829016489647,1371.0283002184892,0.0,1578.6579870256883,1737.8434365615328,1980.5524103138498,1247.03273413331,1210.2604182571617,839.1646143635943,809.3902705123156,857.5738627080477,435.48272066753714,955.9929549949619,855.4573981210283,576.5733951545102,662.9710702587253,588.3047594572054,464.00762924762455,1276.2122080594586,1638.728717634496],[2348.9486499283034,1630.197169056553,1406.4731671809454,1255.0580544341362,1031.081315900933,1578.6579870256883,0.0,422.8102292991505,570.0060087402601,481.7016504019875,641.5930485907704,1262.2593117105534,1397.322042336698,1621.276734552124,1204.2541260049725,684.6999999999999,1150.2409138958674,1523.274367932448,1101.693823165038,1275.884371720258,1356.3032256836962,425.1125968493521,259.253717427541],[2635.268466399581,2010.9462946583133,1807.9244453239742,1665.4011678871848,1442.497240898574,1737.8434365615328,422.8102292991505,0.0,243.15567030196868,491.1617350730812,568.0455351466101,1209.7994544551584,1346.3970439658578,1559.461701998481,1316.7608476864737,781.8739540360702,1105.3583536573105,1536.4907581889322,1145.5031427281199,1306.4481620026104,1414.776848128354,806.6290163389854,668.0],[2863.502207088376,2197.811365881977,1976.2529089162654,1822.443691859916,1598.4089870868472,1980.5524103138498,570.0060087402601,243.15567030196868,0.0,734.2304610951518,805.9372246025113,1437.7526491020628,1572.9946217327001,1781.5072831734367,1559.9087313044952,1024.5691582318877,1336.1043709231703,1772.1682453988383,1386.5023512421462,1545.4494362482394,1655.6599318700687,988.6907757231273,771.0988782250954],[2177.4136033376844,1665.4011678871848,1516.3931053654917,1409.147543729896,1202.863799438656,1247.03273413331,481.7016504019875,491.1617350730812,734.2304610951518,0.0,167.0,787.7374245267264,924.5527837825149,1147.4492102049664,826.270367373779,291.6529615827675,676.2984548259737,1077.1176351726865,668.0,836.5016497293963,935.7962385049427,576.573395154511,697.6123923784603],[2196.5420551403063,1759.5334296341177,1632.2488076270727,1536.7630005957328,1337.6689575526525,1210.2604182571617,641.5930485907704,568.0455351466101,805.9372246025113,167.0,0.0,652.1558479382056,789.8588038377491,1009.3488841822732,776.8641837541495,301.0635315012431,543.7126079097322,968.6000000000005,583.3059231655382,739.5291001711827,851.536258769995,729.4670109059074,864.0535457944723],[1942.160459385372,1841.8517747093547,1822.673223592205,1790.6418765347803,1643.4870398028697,839.1646143635943,1262.2593117105534,1209.7994544551584,1437.7526491020628,787.7374245267264,652.1558479382056,0.0,137.71172789562823,359.72900911658354,488.885191021369,615.8655697471652,112.02700567274279,366.25959373100363,291.6529615827675,254.36682173585174,375.28582440588013,1192.735465222696,1445.1049512059667],[1914.391153865897,1889.389319330455,1890.8648285903464,1870.4745520856463,1733.9876268301339,809.3902705123156,1397.322042336698,1346.3970439658578,1572.9946217327001,924.5527837825149,789.8588038377491,137.71172789562823,0.0,224.05401134547728,521.9918869101314,741.6003505932289,248.26334808021798,271.8563039548644,375.2858244058777,269.27940879317225,357.0052240514142,1312.0929730777464,1575.4748490534528],[1938.711048609359,2025.318276222283,2052.9456105800755,2046.4826239184147,1922.531968524841,857.5738627080477,1621.276734552124,1559.461701998481,1781.5072831734367,1147.4492102049664,1009.3488841822732,359.72900911658354,224.05401134547728,0.0,673.1985219829276,963.4033008039779,471.46084673066974,283.90000000000157,578.74596326886,435.48272066753606,470.2762698669789,1528.8482887454857,1798.6450455829242],[1491.4511859259762,1367.4638752084093,1380.0506548674218,1375.4961868358632,1262.5906858519115,435.48272066753714,1204.2541260049725,1316.7608476864737,1559.9087313044952,826.270367373779,776.8641837541495,488.885191021369,521.9918869101314,673.1985219829276,0.0,540.8841003394353,465.20816845795025,427.72869906051415,240.85082520099277,252.71685737203734,213.86434953025923,973.7689664391652,1308.261415008484],[1901.5280302956355,1474.525835650227,1369.80725651458,1292.8216311618553,1110.3930340199367,955.9929549949619,684.6999999999999,781.8739540360702,1024.5691582318877,291.6529615827675,301.0635315012431,615.8655697471652,741.6003505932289,963.4033008039779,540.8841003394353,0.0,507.91067127990135,839.8290361734337,417.5,591.8495078987562,673.1985219829303,581.6300972267514,837.0016009542627],[1947.5379328783304,1787.212122273123,1752.2271570775295,1711.566697502613,1556.9559659797708,855.4573981210283,1150.2409138958674,1105.3583536573105,1336.1043709231703,676.2984548259737,543.7126079097322,112.02700567274279,248.26334808021798,471.46084673066974,465.20816845795025,507.91067127990135,0.0,445.6115797418192,236.17366491630688,271.8563039548678,402.18925893166636,1087.4252158194606,1334.0154009605735],[1669.3318663465332,1750.3161571556152,1792.8210312242547,1798.6450455829242,1690.2512120983672,576.5733951545102,1523.274367932448,1536.4907581889322,1772.1682453988383,1077.1176351726865,968.6000000000005,366.25959373100363,271.8563039548644,283.90000000000157,427.72869906051415,839.8290361734337,445.6115797418192,0.0,422.4802953984972,248.26334808022173,213.86434953025923,1363.2765530148313,1668.7470299599036],[1732.2980113132955,1554.5358953719915,1531.0357441941057,1501.1432976235144,1359.5892467947808,662.9710702587253,1101.693823165038,1145.5031427281199,1386.5023512421462,668.0,583.3059231655382,291.6529615827675,375.2858244058777,578.74596326886,240.85082520099277,417.5,236.17366491630688,422.4802953984972,0.0,174.35311869880556,269.27940879317225,955.2633563578157,1248.03872135443],[1688.682992749083,1620.1582268408233,1626.6863004279592,1613.3444672480828,1487.0503723815143,588.3047594572054,1275.884371720258,1306.4481620026104,1545.4494362482394,836.5016497293963,739.5291001711827,254.36682173585174,269.27940879317225,435.48272066753606,252.71685737203734,591.8495078987562,271.8563039548678,248.26334808022173,174.35311869880556,0.0,130.4311695876377,1120.8922561959287,1420.9727653970008],[1568.3780794183526,1555.970465658009,1585.4449123195675,1586.7636623013525,1476.4160118340633,464.00762924762455,1356.3032256836962,1414.776848128354,1655.6599318700687,935.7962385049427,851.536258769995,375.28582440588013,357.0052240514142,470.2762698669789,213.86434953025923,673.1985219829303,402.18925893166636,213.86434953025923,269.27940879317225,130.4311695876377,0.0,1165.176604639829,1484.0466064109985],[1941.8014316608173,1209.4536163077937,1002.1391570036569,867.1144330479111,648.5106938208503,1276.2122080594586,425.1125968493521,806.6290163389854,988.6907757231273,576.573395154511,729.4670109059074,1192.735465222696,1312.0929730777464,1528.8482887454857,973.7689664391652,581.6300972267514,1087.4252158194606,1363.2765530148313,955.2633563578157,1120.8922561959287,1165.176604639829,0.0,370.8001752966151],[2295.931159682276,1488.081516584357,1236.2512689578928,1069.973574440042,848.4191711648201,1638.728717634496,259.253717427541,668.0,771.0988782250954,697.6123923784603,864.0535457944723,1445.1049512059667,1575.4748490534528,1798.6450455829242,1308.261415008484,837.0016009542627,1334.0154009605735,1668.7470299599036,1248.03872135443,1420.9727653970008,1484.0466064109985,370.8001752966151,0.0]]},\"selected\":{\"id\":\"3999\"},\"selection_policy\":{\"id\":\"3998\"}},\"id\":\"3967\",\"type\":\"ColumnDataSource\"},{\"attributes\":{\"formatter\":{\"id\":\"3989\"},\"ticker\":{\"id\":\"3942\"},\"visible\":false},\"id\":\"3941\",\"type\":\"LinearAxis\"},{\"attributes\":{},\"id\":\"3994\",\"type\":\"Selection\"},{\"attributes\":{\"data\":{\"x\":[751.5,634.6,701.4,784.9,985.3,1753.5,1920.5,2338.0,2404.8,2187.7,2321.3,2471.6,2505.0,2605.2,1987.3,2070.8,2421.5,2321.3,2187.7,2237.8,2154.3,1619.9,1670.0],\"y\":[1235.8,200.4,-100.2,-267.2,-367.4,768.1999999999998,-801.5999999999998,-868.4,-1102.2,-400.8,-300.6,334.0,467.6,668.0,400.8,-133.6,233.8,668.0,267.2,434.2,534.4,-501.0,-868.4]},\"selected\":{\"id\":\"3996\"},\"selection_policy\":{\"id\":\"3995\"}},\"id\":\"3974\",\"type\":\"ColumnDataSource\"},{\"attributes\":{\"background_fill_color\":null,\"below\":[{\"id\":\"3937\"}],\"border_fill_color\":null,\"center\":[{\"id\":\"3940\"},{\"id\":\"3944\"}],\"left\":[{\"id\":\"3941\"}],\"outline_line_color\":null,\"plot_height\":375,\"renderers\":[{\"id\":\"3963\"},{\"id\":\"3972\"},{\"id\":\"3977\"}],\"title\":{\"id\":\"3927\"},\"toolbar\":{\"id\":\"3952\"},\"toolbar_location\":null,\"x_range\":{\"id\":\"3929\"},\"x_scale\":{\"id\":\"3933\"},\"y_range\":{\"id\":\"3931\"},\"y_scale\":{\"id\":\"3935\"}},\"id\":\"3926\",\"subtype\":\"Figure\",\"type\":\"Plot\"},{\"attributes\":{\"fill_color\":{\"value\":\"steelblue\"},\"line_alpha\":{\"value\":0.1},\"line_color\":{\"value\":\"steelblue\"},\"size\":{\"units\":\"screen\",\"value\":10},\"x\":{\"field\":\"x\"},\"y\":{\"field\":\"y\"}},\"id\":\"3976\",\"type\":\"Circle\"},{\"attributes\":{},\"id\":\"3935\",\"type\":\"LinearScale\"},{\"attributes\":{\"axis\":{\"id\":\"3941\"},\"dimension\":1,\"grid_line_color\":null,\"ticker\":null},\"id\":\"3944\",\"type\":\"Grid\"},{\"attributes\":{\"source\":{\"id\":\"3960\"}},\"id\":\"3964\",\"type\":\"CDSView\"}],\"root_ids\":[\"4001\"]},\"title\":\"Bokeh Application\",\"version\":\"2.1.0\"}};\n",
       "  var render_items = [{\"docid\":\"659dbc1b-adf5-46cf-9c4c-2cf78b1606e7\",\"root_ids\":[\"4001\"],\"roots\":{\"4001\":\"831aa1dd-b4ed-451d-a46e-6df210d99bdc\"}}];\n",
       "  root.Bokeh.embed.embed_items_notebook(docs_json, render_items);\n",
       "\n",
       "  }\n",
       "  if (root.Bokeh !== undefined) {\n",
       "    embed_document(root);\n",
       "  } else {\n",
       "    var attempts = 0;\n",
       "    var timer = setInterval(function(root) {\n",
       "      if (root.Bokeh !== undefined) {\n",
       "        clearInterval(timer);\n",
       "        embed_document(root);\n",
       "      } else {\n",
       "        attempts++;\n",
       "        if (attempts > 100) {\n",
       "          clearInterval(timer);\n",
       "          console.log(\"Bokeh: ERROR: Unable to run BokehJS code because BokehJS library is missing\");\n",
       "        }\n",
       "      }\n",
       "    }, 10, root)\n",
       "  }\n",
       "})(window);"
      ],
      "application/vnd.bokehjs_exec.v0+json": ""
     },
     "metadata": {
      "application/vnd.bokehjs_exec.v0+json": {
       "id": "4001"
      }
     },
     "output_type": "display_data"
    }
   ],
   "source": [
    "nodes = pd.read_csv('data/us_cities_23.csv', index_col=0)\n",
    "G = distance_matrix(nodes, manhattan=False)\n",
    "plot_create_tour(nodes, G, width=600, height=375, show_us=True)"
   ]
  },
  {
   "cell_type": "markdown",
   "metadata": {},
   "source": [
    "**Q15:** Set the `tour` variable to be the tour you manually created."
   ]
  },
  {
   "cell_type": "code",
   "execution_count": 26,
   "metadata": {},
   "outputs": [],
   "source": [
    "# We can define a tour like this:\n",
    "tour = [0,2,1,3,4,22,21,6,8,7,9,10,15,16,18,11,12,13,17,19,20,14,5,0]\n",
    "\n",
    "# After manually creating a tour, you can copy the list associated with that tour from the bottom-right\n",
    "\n",
    "# TODO: Define your tour.\n",
    "\n",
    "### BEGIN SOLUTION\n",
    "tour = [0,2,1,3,4,22,21,6,8,7,9,10,15,16,18,11,12,13,17,19,20,14,5,0]\n",
    "### END SOLUTION"
   ]
  },
  {
   "cell_type": "markdown",
   "metadata": {},
   "source": [
    "Run 2-OPT!"
   ]
  },
  {
   "cell_type": "code",
   "execution_count": 27,
   "metadata": {},
   "outputs": [
    {
     "data": {
      "text/html": [
       "\n",
       "\n",
       "\n",
       "\n",
       "\n",
       "\n",
       "  <div class=\"bk-root\" id=\"4915a439-c9b5-4adb-ba33-9cd7e15000f0\" data-root-id=\"4353\"></div>\n"
      ]
     },
     "metadata": {},
     "output_type": "display_data"
    },
    {
     "data": {
      "application/javascript": [
       "(function(root) {\n",
       "  function embed_document(root) {\n",
       "    \n",
       "  var docs_json = {\"52712c0b-8a6f-4c31-8d99-3e7c77deac30\":{\"roots\":{\"references\":[{\"attributes\":{\"children\":[[{\"id\":\"4258\"},0,0],[{\"id\":\"4328\"},1,0],[{\"id\":\"4329\"},2,0]]},\"id\":\"4353\",\"type\":\"GridBox\"},{\"attributes\":{\"source\":{\"id\":\"4292\"}},\"id\":\"4296\",\"type\":\"CDSView\"},{\"attributes\":{},\"id\":\"4341\",\"type\":\"UnionRenderers\"},{\"attributes\":{\"formatter\":{\"id\":\"4333\"},\"ticker\":{\"id\":\"4274\"},\"visible\":false},\"id\":\"4273\",\"type\":\"LinearAxis\"},{\"attributes\":{},\"id\":\"4342\",\"type\":\"Selection\"},{\"attributes\":{\"source\":{\"id\":\"4303\"}},\"id\":\"4318\",\"type\":\"CDSView\"},{\"attributes\":{},\"id\":\"4274\",\"type\":\"BasicTicker\"},{\"attributes\":{\"align\":\"center\",\"text\":\"9592.0\",\"width\":300},\"id\":\"4297\",\"type\":\"Div\"},{\"attributes\":{},\"id\":\"4347\",\"type\":\"UnionRenderers\"},{\"attributes\":{\"axis\":{\"id\":\"4273\"},\"dimension\":1,\"grid_line_color\":null,\"ticker\":null},\"id\":\"4276\",\"type\":\"Grid\"},{\"attributes\":{\"line_color\":{\"value\":\"#90D7F6\"},\"line_width\":{\"value\":4},\"xs\":{\"field\":\"swaps_after_x\"},\"ys\":{\"field\":\"swaps_after_y\"}},\"id\":\"4315\",\"type\":\"MultiLine\"},{\"attributes\":{\"align\":\"center\",\"width\":300},\"id\":\"4298\",\"type\":\"Div\"},{\"attributes\":{\"data\":{\"x\":[751.5,634.6,701.4,784.9,985.3,1753.5,1920.5,2338.0,2404.8,2187.7,2321.3,2471.6,2505.0,2605.2,1987.3,2070.8,2421.5,2321.3,2187.7,2237.8,2154.3,1619.9,1670.0],\"y\":[1235.8,200.4,-100.2,-267.2,-367.4,768.1999999999998,-801.5999999999998,-868.4,-1102.2,-400.8,-300.6,334.0,467.6,668.0,400.8,-133.6,233.8,668.0,267.2,434.2,534.4,-501.0,-868.4]},\"selected\":{\"id\":\"4342\"},\"selection_policy\":{\"id\":\"4341\"}},\"id\":\"4319\",\"type\":\"ColumnDataSource\"},{\"attributes\":{\"data\":{\"url\":[\"images/us.png\"]},\"selected\":{\"id\":\"4336\"},\"selection_policy\":{\"id\":\"4335\"}},\"id\":\"4292\",\"type\":\"ColumnDataSource\"},{\"attributes\":{},\"id\":\"4348\",\"type\":\"Selection\"},{\"attributes\":{\"data_source\":{\"id\":\"4303\"},\"glyph\":{\"id\":\"4310\"},\"hover_glyph\":null,\"muted_glyph\":null,\"nonselection_glyph\":{\"id\":\"4311\"},\"selection_glyph\":null,\"view\":{\"id\":\"4313\"}},\"id\":\"4312\",\"type\":\"GlyphRenderer\"},{\"attributes\":{\"h\":{\"units\":\"data\",\"value\":2735.46},\"url\":{\"field\":\"url\"},\"w\":{\"units\":\"data\",\"value\":2305.602},\"x\":{\"value\":447.09900000000005},\"y\":{\"value\":1439.53}},\"id\":\"4293\",\"type\":\"ImageURL\"},{\"attributes\":{\"formatter\":{\"id\":\"4331\"},\"ticker\":{\"id\":\"4270\"},\"visible\":false},\"id\":\"4269\",\"type\":\"LinearAxis\"},{\"attributes\":{\"line_alpha\":{\"value\":0.1},\"line_color\":{\"value\":\"#90D7F6\"},\"line_width\":{\"value\":4},\"xs\":{\"field\":\"swaps_after_x\"},\"ys\":{\"field\":\"swaps_after_y\"}},\"id\":\"4316\",\"type\":\"MultiLine\"},{\"attributes\":{\"global_alpha\":0.1,\"h\":{\"units\":\"data\",\"value\":2735.46},\"url\":{\"field\":\"url\"},\"w\":{\"units\":\"data\",\"value\":2305.602},\"x\":{\"value\":447.09900000000005},\"y\":{\"value\":1439.53}},\"id\":\"4294\",\"type\":\"ImageURL\"},{\"attributes\":{\"align\":\"center\",\"text\":\"0\",\"width\":600},\"id\":\"4299\",\"type\":\"Div\"},{\"attributes\":{},\"id\":\"4349\",\"type\":\"UnionRenderers\"},{\"attributes\":{},\"id\":\"4270\",\"type\":\"BasicTicker\"},{\"attributes\":{\"data\":{\"costs\":[9591.98783995229,8992.577032336536,8626.809675570756,8356.77304838083],\"edges_x\":[[751.5,701.4,634.6,784.9,985.3,1670.0,1619.9,1920.5,2404.8,2338.0,2187.7,2321.3,2070.8,2421.5,2187.7,2471.6,2505.0,2605.2,2321.3,2237.8,2154.3,1987.3,1753.5,751.5],[751.5,634.6,701.4,784.9,985.3,1670.0,1619.9,1920.5,2404.8,2338.0,2187.7,2321.3,2070.8,2421.5,2187.7,2471.6,2505.0,2605.2,2321.3,2237.8,2154.3,1987.3,1753.5,751.5],[751.5,634.6,701.4,784.9,985.3,1619.9,1670.0,1920.5,2404.8,2338.0,2187.7,2321.3,2070.8,2421.5,2187.7,2471.6,2505.0,2605.2,2321.3,2237.8,2154.3,1987.3,1753.5,751.5],[751.5,634.6,701.4,784.9,985.3,1619.9,1670.0,1920.5,2404.8,2338.0,2187.7,2321.3,2070.8,2187.7,2421.5,2471.6,2505.0,2605.2,2321.3,2237.8,2154.3,1987.3,1753.5,751.5]],\"edges_y\":[[1235.8,-100.2,200.4,-267.2,-367.4,-868.4,-501.0,-801.5999999999998,-1102.2,-868.4,-400.8,-300.6,-133.6,233.8,267.2,334.0,467.6,668.0,668.0,434.2,534.4,400.8,768.1999999999998,1235.8],[1235.8,200.4,-100.2,-267.2,-367.4,-868.4,-501.0,-801.5999999999998,-1102.2,-868.4,-400.8,-300.6,-133.6,233.8,267.2,334.0,467.6,668.0,668.0,434.2,534.4,400.8,768.1999999999998,1235.8],[1235.8,200.4,-100.2,-267.2,-367.4,-501.0,-868.4,-801.5999999999998,-1102.2,-868.4,-400.8,-300.6,-133.6,233.8,267.2,334.0,467.6,668.0,668.0,434.2,534.4,400.8,768.1999999999998,1235.8],[1235.8,200.4,-100.2,-267.2,-367.4,-501.0,-868.4,-801.5999999999998,-1102.2,-868.4,-400.8,-300.6,-133.6,267.2,233.8,334.0,467.6,668.0,668.0,434.2,534.4,400.8,768.1999999999998,1235.8]]},\"selected\":{\"id\":\"4348\"},\"selection_policy\":{\"id\":\"4347\"}},\"id\":\"4300\",\"type\":\"ColumnDataSource\"},{\"attributes\":{\"data_source\":{\"id\":\"4303\"},\"glyph\":{\"id\":\"4315\"},\"hover_glyph\":null,\"muted_glyph\":null,\"nonselection_glyph\":{\"id\":\"4316\"},\"selection_glyph\":null,\"view\":{\"id\":\"4318\"}},\"id\":\"4317\",\"type\":\"GlyphRenderer\"},{\"attributes\":{},\"id\":\"4350\",\"type\":\"Selection\"},{\"attributes\":{\"data\":{\"edges_x\":[751.5,701.4,634.6,784.9,985.3,1670.0,1619.9,1920.5,2404.8,2338.0,2187.7,2321.3,2070.8,2421.5,2187.7,2471.6,2505.0,2605.2,2321.3,2237.8,2154.3,1987.3,1753.5,751.5],\"edges_y\":[1235.8,-100.2,200.4,-267.2,-367.4,-868.4,-501.0,-801.5999999999998,-1102.2,-868.4,-400.8,-300.6,-133.6,233.8,267.2,334.0,467.6,668.0,668.0,434.2,534.4,400.8,768.1999999999998,1235.8]},\"selected\":{\"id\":\"4338\"},\"selection_policy\":{\"id\":\"4337\"}},\"id\":\"4301\",\"type\":\"ColumnDataSource\"},{\"attributes\":{},\"id\":\"4277\",\"type\":\"PanTool\"},{\"attributes\":{\"data\":{\"swaps_after_x\":[[[751.5,634.6],[701.4,784.9]],[[985.3,1619.9],[1670.0,1920.5]],[[2070.8,2187.7],[2421.5,2471.6]]],\"swaps_after_y\":[[[1235.8,200.4],[-100.2,-267.2]],[[-367.4,-501.0],[-868.4,-801.5999999999998]],[[-133.6,267.2],[233.8,334.0]]],\"swaps_before_x\":[[[751.5,701.4],[634.6,784.9]],[[985.3,1670.0],[1619.9,1920.5]],[[2070.8,2421.5],[2187.7,2471.6]]],\"swaps_before_y\":[[[1235.8,-100.2],[200.4,-267.2]],[[-367.4,-868.4],[-501.0,-801.5999999999998]],[[-133.6,233.8],[267.2,334.0]]]},\"selected\":{\"id\":\"4350\"},\"selection_policy\":{\"id\":\"4349\"}},\"id\":\"4302\",\"type\":\"ColumnDataSource\"},{\"attributes\":{},\"id\":\"4278\",\"type\":\"WheelZoomTool\"},{\"attributes\":{\"fill_color\":{\"value\":\"steelblue\"},\"line_color\":{\"value\":\"steelblue\"},\"size\":{\"units\":\"screen\",\"value\":8},\"x\":{\"field\":\"x\"},\"y\":{\"field\":\"y\"}},\"id\":\"4320\",\"type\":\"Circle\"},{\"attributes\":{\"fill_alpha\":{\"value\":0.1},\"fill_color\":{\"value\":\"steelblue\"},\"line_alpha\":{\"value\":0.1},\"line_color\":{\"value\":\"steelblue\"},\"size\":{\"units\":\"screen\",\"value\":8},\"x\":{\"field\":\"x\"},\"y\":{\"field\":\"y\"}},\"id\":\"4321\",\"type\":\"Circle\"},{\"attributes\":{\"data\":{\"swaps_after_x\":[[751.5,634.6],[701.4,784.9]],\"swaps_after_y\":[[1235.8,200.4],[-100.2,-267.2]],\"swaps_before_x\":[[751.5,701.4],[634.6,784.9]],\"swaps_before_y\":[[1235.8,-100.2],[200.4,-267.2]]},\"selected\":{\"id\":\"4340\"},\"selection_policy\":{\"id\":\"4339\"}},\"id\":\"4303\",\"type\":\"ColumnDataSource\"},{\"attributes\":{\"overlay\":{\"id\":\"4283\"}},\"id\":\"4279\",\"type\":\"BoxZoomTool\"},{\"attributes\":{\"data_source\":{\"id\":\"4319\"},\"glyph\":{\"id\":\"4320\"},\"hover_glyph\":null,\"muted_glyph\":null,\"nonselection_glyph\":{\"id\":\"4321\"},\"selection_glyph\":null,\"view\":{\"id\":\"4323\"}},\"id\":\"4322\",\"type\":\"GlyphRenderer\"},{\"attributes\":{\"source\":{\"id\":\"4301\"}},\"id\":\"4308\",\"type\":\"CDSView\"},{\"attributes\":{\"source\":{\"id\":\"4319\"}},\"id\":\"4323\",\"type\":\"CDSView\"},{\"attributes\":{},\"id\":\"4280\",\"type\":\"SaveTool\"},{\"attributes\":{\"background_fill_color\":null,\"below\":[{\"id\":\"4269\"}],\"border_fill_color\":null,\"center\":[{\"id\":\"4272\"},{\"id\":\"4276\"}],\"left\":[{\"id\":\"4273\"}],\"outline_line_color\":null,\"plot_height\":375,\"renderers\":[{\"id\":\"4295\"},{\"id\":\"4307\"},{\"id\":\"4312\"},{\"id\":\"4317\"},{\"id\":\"4322\"}],\"title\":{\"id\":\"4259\"},\"toolbar\":{\"id\":\"4284\"},\"toolbar_location\":null,\"x_range\":{\"id\":\"4261\"},\"x_scale\":{\"id\":\"4265\"},\"y_range\":{\"id\":\"4263\"},\"y_scale\":{\"id\":\"4267\"}},\"id\":\"4258\",\"subtype\":\"Figure\",\"type\":\"Plot\"},{\"attributes\":{},\"id\":\"4281\",\"type\":\"ResetTool\"},{\"attributes\":{\"line_width\":4,\"x\":{\"field\":\"edges_x\"},\"y\":{\"field\":\"edges_y\"}},\"id\":\"4305\",\"type\":\"Line\"},{\"attributes\":{\"args\":{\"cost\":{\"id\":\"4297\"},\"done\":{\"id\":\"4298\"},\"n\":{\"id\":\"4299\"},\"source\":{\"id\":\"4300\"},\"swaps\":{\"id\":\"4303\"},\"swaps_source\":{\"id\":\"4302\"},\"tour\":{\"id\":\"4301\"}},\"code\":\"\\nif ((parseInt(n.text) + 1) < source.data['edges_y'].length) {\\n    n.text = (parseInt(n.text) + 1).toString()\\n}\\nvar iteration = parseInt(n.text)\\n\\n    cost.text = source.data['costs'][iteration].toFixed(1)\\n    \\n    if (iteration == source.data['edges_y'].length - 1) {\\n        done.text = \\\"done.\\\"\\n        swaps.data['swaps_before_x'] = [[]]\\n        swaps.data['swaps_before_y'] = [[]]\\n        swaps.data['swaps_after_x'] = [[]]\\n        swaps.data['swaps_after_y'] = [[]]\\n    } else {\\n        done.text = \\\"\\\"\\n        swaps.data['swaps_before_x'] = swaps_source.data['swaps_before_x'][iteration]\\n        swaps.data['swaps_before_y'] = swaps_source.data['swaps_before_y'][iteration]\\n        swaps.data['swaps_after_x'] = swaps_source.data['swaps_after_x'][iteration]\\n        swaps.data['swaps_after_y'] = swaps_source.data['swaps_after_y'][iteration]\\n    }\\n\\n    tour.data['edges_x'] = source.data['edges_x'][iteration]\\n    tour.data['edges_y'] = source.data['edges_y'][iteration]\\n    tour.change.emit()\\n    swaps.change.emit()\\n    \"},\"id\":\"4325\",\"type\":\"CustomJS\"},{\"attributes\":{\"button_type\":\"success\",\"icon\":null,\"js_event_callbacks\":{\"button_click\":[{\"id\":\"4325\"}]},\"label\":\"Next\",\"sizing_mode\":\"scale_width\",\"width_policy\":\"fit\"},\"id\":\"4324\",\"type\":\"Button\"},{\"attributes\":{\"line_alpha\":0.1,\"line_width\":4,\"x\":{\"field\":\"edges_x\"},\"y\":{\"field\":\"edges_y\"}},\"id\":\"4306\",\"type\":\"Line\"},{\"attributes\":{},\"id\":\"4282\",\"type\":\"HelpTool\"},{\"attributes\":{\"text\":\"\"},\"id\":\"4259\",\"type\":\"Title\"},{\"attributes\":{},\"id\":\"4333\",\"type\":\"BasicTickFormatter\"},{\"attributes\":{\"active_drag\":\"auto\",\"active_inspect\":\"auto\",\"active_multi\":null,\"active_scroll\":\"auto\",\"active_tap\":\"auto\",\"logo\":null,\"tools\":[{\"id\":\"4277\"},{\"id\":\"4278\"},{\"id\":\"4279\"},{\"id\":\"4280\"},{\"id\":\"4281\"},{\"id\":\"4282\"}]},\"id\":\"4284\",\"type\":\"Toolbar\"},{\"attributes\":{},\"id\":\"4335\",\"type\":\"UnionRenderers\"},{\"attributes\":{\"data_source\":{\"id\":\"4301\"},\"glyph\":{\"id\":\"4305\"},\"hover_glyph\":null,\"muted_glyph\":null,\"nonselection_glyph\":{\"id\":\"4306\"},\"selection_glyph\":null,\"view\":{\"id\":\"4308\"}},\"id\":\"4307\",\"type\":\"GlyphRenderer\"},{\"attributes\":{\"end\":2772.701,\"start\":467.09900000000005},\"id\":\"4261\",\"type\":\"Range1d\"},{\"attributes\":{\"children\":[{\"id\":\"4326\"},{\"id\":\"4324\"}],\"max_width\":600,\"sizing_mode\":\"stretch_both\"},\"id\":\"4328\",\"type\":\"Row\"},{\"attributes\":{},\"id\":\"4336\",\"type\":\"Selection\"},{\"attributes\":{\"axis\":{\"id\":\"4269\"},\"grid_line_color\":null,\"ticker\":null},\"id\":\"4272\",\"type\":\"Grid\"},{\"attributes\":{\"source\":{\"id\":\"4303\"}},\"id\":\"4313\",\"type\":\"CDSView\"},{\"attributes\":{\"children\":[{\"id\":\"4297\"},{\"id\":\"4298\"}]},\"id\":\"4329\",\"type\":\"Row\"},{\"attributes\":{},\"id\":\"4337\",\"type\":\"UnionRenderers\"},{\"attributes\":{\"end\":1434.53,\"start\":-1300.93},\"id\":\"4263\",\"type\":\"Range1d\"},{\"attributes\":{\"line_color\":{\"value\":\"red\"},\"line_width\":{\"value\":4},\"xs\":{\"field\":\"swaps_before_x\"},\"ys\":{\"field\":\"swaps_before_y\"}},\"id\":\"4310\",\"type\":\"MultiLine\"},{\"attributes\":{},\"id\":\"4331\",\"type\":\"BasicTickFormatter\"},{\"attributes\":{},\"id\":\"4338\",\"type\":\"Selection\"},{\"attributes\":{\"args\":{\"cost\":{\"id\":\"4297\"},\"done\":{\"id\":\"4298\"},\"n\":{\"id\":\"4299\"},\"source\":{\"id\":\"4300\"},\"swaps\":{\"id\":\"4303\"},\"swaps_source\":{\"id\":\"4302\"},\"tour\":{\"id\":\"4301\"}},\"code\":\"\\nif ((parseInt(n.text) - 1) >= 0) {\\n    n.text = (parseInt(n.text) - 1).toString()\\n}\\nvar iteration = parseInt(n.text)\\n\\n    cost.text = source.data['costs'][iteration].toFixed(1)\\n    \\n    if (iteration == source.data['edges_y'].length - 1) {\\n        done.text = \\\"done.\\\"\\n        swaps.data['swaps_before_x'] = [[]]\\n        swaps.data['swaps_before_y'] = [[]]\\n        swaps.data['swaps_after_x'] = [[]]\\n        swaps.data['swaps_after_y'] = [[]]\\n    } else {\\n        done.text = \\\"\\\"\\n        swaps.data['swaps_before_x'] = swaps_source.data['swaps_before_x'][iteration]\\n        swaps.data['swaps_before_y'] = swaps_source.data['swaps_before_y'][iteration]\\n        swaps.data['swaps_after_x'] = swaps_source.data['swaps_after_x'][iteration]\\n        swaps.data['swaps_after_y'] = swaps_source.data['swaps_after_y'][iteration]\\n    }\\n\\n    tour.data['edges_x'] = source.data['edges_x'][iteration]\\n    tour.data['edges_y'] = source.data['edges_y'][iteration]\\n    tour.change.emit()\\n    swaps.change.emit()\\n    \"},\"id\":\"4327\",\"type\":\"CustomJS\"},{\"attributes\":{\"bottom_units\":\"screen\",\"fill_alpha\":0.5,\"fill_color\":\"lightgrey\",\"left_units\":\"screen\",\"level\":\"overlay\",\"line_alpha\":1.0,\"line_color\":\"black\",\"line_dash\":[4,4],\"line_width\":2,\"right_units\":\"screen\",\"top_units\":\"screen\"},\"id\":\"4283\",\"type\":\"BoxAnnotation\"},{\"attributes\":{\"button_type\":\"success\",\"icon\":null,\"js_event_callbacks\":{\"button_click\":[{\"id\":\"4327\"}]},\"label\":\"Previous\",\"sizing_mode\":\"scale_width\",\"width_policy\":\"fit\"},\"id\":\"4326\",\"type\":\"Button\"},{\"attributes\":{\"line_alpha\":{\"value\":0.1},\"line_color\":{\"value\":\"red\"},\"line_width\":{\"value\":4},\"xs\":{\"field\":\"swaps_before_x\"},\"ys\":{\"field\":\"swaps_before_y\"}},\"id\":\"4311\",\"type\":\"MultiLine\"},{\"attributes\":{},\"id\":\"4339\",\"type\":\"UnionRenderers\"},{\"attributes\":{},\"id\":\"4265\",\"type\":\"LinearScale\"},{\"attributes\":{},\"id\":\"4340\",\"type\":\"Selection\"},{\"attributes\":{},\"id\":\"4267\",\"type\":\"LinearScale\"},{\"attributes\":{\"data_source\":{\"id\":\"4292\"},\"glyph\":{\"id\":\"4293\"},\"hover_glyph\":null,\"muted_glyph\":null,\"nonselection_glyph\":{\"id\":\"4294\"},\"selection_glyph\":null,\"view\":{\"id\":\"4296\"}},\"id\":\"4295\",\"type\":\"GlyphRenderer\"}],\"root_ids\":[\"4353\"]},\"title\":\"Bokeh Application\",\"version\":\"2.1.0\"}};\n",
       "  var render_items = [{\"docid\":\"52712c0b-8a6f-4c31-8d99-3e7c77deac30\",\"root_ids\":[\"4353\"],\"roots\":{\"4353\":\"4915a439-c9b5-4adb-ba33-9cd7e15000f0\"}}];\n",
       "  root.Bokeh.embed.embed_items_notebook(docs_json, render_items);\n",
       "\n",
       "  }\n",
       "  if (root.Bokeh !== undefined) {\n",
       "    embed_document(root);\n",
       "  } else {\n",
       "    var attempts = 0;\n",
       "    var timer = setInterval(function(root) {\n",
       "      if (root.Bokeh !== undefined) {\n",
       "        clearInterval(timer);\n",
       "        embed_document(root);\n",
       "      } else {\n",
       "        attempts++;\n",
       "        if (attempts > 100) {\n",
       "          clearInterval(timer);\n",
       "          console.log(\"Bokeh: ERROR: Unable to run BokehJS code because BokehJS library is missing\");\n",
       "        }\n",
       "      }\n",
       "    }, 10, root)\n",
       "  }\n",
       "})(window);"
      ],
      "application/vnd.bokehjs_exec.v0+json": ""
     },
     "metadata": {
      "application/vnd.bokehjs_exec.v0+json": {
       "id": "4353"
      }
     },
     "output_type": "display_data"
    }
   ],
   "source": [
    "plot_two_opt(nodes, G, list(tour), width=600, height=375, show_us=True);"
   ]
  },
  {
   "cell_type": "markdown",
   "metadata": {},
   "source": [
    "**Q16:** Did 2-OPT improve your tour? By how much?\n",
    "\n",
    "**A:** <font color='blue'> (Based on example tour) Yes. It went from 9592.0 to 8356.8. </font>"
   ]
  },
  {
   "cell_type": "markdown",
   "metadata": {},
   "source": [
    "Now, let's look at an optimal solution!"
   ]
  },
  {
   "cell_type": "code",
   "execution_count": 28,
   "metadata": {},
   "outputs": [
    {
     "data": {
      "text/html": [
       "\n",
       "\n",
       "\n",
       "\n",
       "\n",
       "\n",
       "  <div class=\"bk-root\" id=\"a13c34bb-9fa1-473b-972d-052997cb0bf1\" data-root-id=\"4711\"></div>\n"
      ]
     },
     "metadata": {},
     "output_type": "display_data"
    },
    {
     "data": {
      "application/javascript": [
       "(function(root) {\n",
       "  function embed_document(root) {\n",
       "    \n",
       "  var docs_json = {\"325c55ec-4eec-4e04-8aac-e7b7d76e8af0\":{\"roots\":{\"references\":[{\"attributes\":{\"children\":[[{\"id\":\"4648\"},0,0],[{\"id\":\"4687\"},1,0]]},\"id\":\"4711\",\"type\":\"GridBox\"},{\"attributes\":{\"source\":{\"id\":\"4688\"}},\"id\":\"4692\",\"type\":\"CDSView\"},{\"attributes\":{\"global_alpha\":0.1,\"h\":{\"units\":\"data\",\"value\":2735.46},\"url\":{\"field\":\"url\"},\"w\":{\"units\":\"data\",\"value\":2305.602},\"x\":{\"value\":447.09900000000005},\"y\":{\"value\":1439.53}},\"id\":\"4684\",\"type\":\"ImageURL\"},{\"attributes\":{\"line_width\":4,\"x\":{\"field\":\"x\"},\"y\":{\"field\":\"y\"}},\"id\":\"4689\",\"type\":\"Line\"},{\"attributes\":{\"data\":{\"x\":[751.5,634.6,701.4,784.9,985.3,1753.5,1920.5,2338.0,2404.8,2187.7,2321.3,2471.6,2505.0,2605.2,1987.3,2070.8,2421.5,2321.3,2187.7,2237.8,2154.3,1619.9,1670.0],\"y\":[1235.8,200.4,-100.2,-267.2,-367.4,768.1999999999998,-801.5999999999998,-868.4,-1102.2,-400.8,-300.6,334.0,467.6,668.0,400.8,-133.6,233.8,668.0,267.2,434.2,534.4,-501.0,-868.4]},\"selected\":{\"id\":\"4708\"},\"selection_policy\":{\"id\":\"4707\"}},\"id\":\"4693\",\"type\":\"ColumnDataSource\"},{\"attributes\":{},\"id\":\"4667\",\"type\":\"PanTool\"},{\"attributes\":{\"line_alpha\":0.1,\"line_width\":4,\"x\":{\"field\":\"x\"},\"y\":{\"field\":\"y\"}},\"id\":\"4690\",\"type\":\"Line\"},{\"attributes\":{},\"id\":\"4668\",\"type\":\"WheelZoomTool\"},{\"attributes\":{\"data_source\":{\"id\":\"4688\"},\"glyph\":{\"id\":\"4689\"},\"hover_glyph\":null,\"muted_glyph\":null,\"nonselection_glyph\":{\"id\":\"4690\"},\"selection_glyph\":null,\"view\":{\"id\":\"4692\"}},\"id\":\"4691\",\"type\":\"GlyphRenderer\"},{\"attributes\":{\"axis\":{\"id\":\"4659\"},\"grid_line_color\":null,\"ticker\":null},\"id\":\"4662\",\"type\":\"Grid\"},{\"attributes\":{\"overlay\":{\"id\":\"4673\"}},\"id\":\"4669\",\"type\":\"BoxZoomTool\"},{\"attributes\":{},\"id\":\"4655\",\"type\":\"LinearScale\"},{\"attributes\":{},\"id\":\"4670\",\"type\":\"SaveTool\"},{\"attributes\":{},\"id\":\"4671\",\"type\":\"ResetTool\"},{\"attributes\":{\"formatter\":{\"id\":\"4699\"},\"ticker\":{\"id\":\"4660\"},\"visible\":false},\"id\":\"4659\",\"type\":\"LinearAxis\"},{\"attributes\":{\"data\":{\"url\":[\"images/us.png\"]},\"selected\":{\"id\":\"4704\"},\"selection_policy\":{\"id\":\"4703\"}},\"id\":\"4682\",\"type\":\"ColumnDataSource\"},{\"attributes\":{\"fill_color\":{\"value\":\"steelblue\"},\"line_color\":{\"value\":\"steelblue\"},\"size\":{\"units\":\"screen\",\"value\":8},\"x\":{\"field\":\"x\"},\"y\":{\"field\":\"y\"}},\"id\":\"4694\",\"type\":\"Circle\"},{\"attributes\":{\"fill_alpha\":{\"value\":0.1},\"fill_color\":{\"value\":\"steelblue\"},\"line_alpha\":{\"value\":0.1},\"line_color\":{\"value\":\"steelblue\"},\"size\":{\"units\":\"screen\",\"value\":8},\"x\":{\"field\":\"x\"},\"y\":{\"field\":\"y\"}},\"id\":\"4695\",\"type\":\"Circle\"},{\"attributes\":{},\"id\":\"4672\",\"type\":\"HelpTool\"},{\"attributes\":{\"data_source\":{\"id\":\"4693\"},\"glyph\":{\"id\":\"4694\"},\"hover_glyph\":null,\"muted_glyph\":null,\"nonselection_glyph\":{\"id\":\"4695\"},\"selection_glyph\":null,\"view\":{\"id\":\"4697\"}},\"id\":\"4696\",\"type\":\"GlyphRenderer\"},{\"attributes\":{\"background_fill_color\":null,\"below\":[{\"id\":\"4659\"}],\"border_fill_color\":null,\"center\":[{\"id\":\"4662\"},{\"id\":\"4666\"}],\"left\":[{\"id\":\"4663\"}],\"outline_line_color\":null,\"plot_height\":375,\"renderers\":[{\"id\":\"4685\"},{\"id\":\"4691\"},{\"id\":\"4696\"}],\"title\":{\"id\":\"4649\"},\"toolbar\":{\"id\":\"4674\"},\"toolbar_location\":null,\"x_range\":{\"id\":\"4651\"},\"x_scale\":{\"id\":\"4655\"},\"y_range\":{\"id\":\"4653\"},\"y_scale\":{\"id\":\"4657\"}},\"id\":\"4648\",\"subtype\":\"Figure\",\"type\":\"Plot\"},{\"attributes\":{\"end\":1434.53,\"start\":-1300.93},\"id\":\"4653\",\"type\":\"Range1d\"},{\"attributes\":{\"text\":\"\"},\"id\":\"4649\",\"type\":\"Title\"},{\"attributes\":{\"source\":{\"id\":\"4693\"}},\"id\":\"4697\",\"type\":\"CDSView\"},{\"attributes\":{\"active_drag\":\"auto\",\"active_inspect\":\"auto\",\"active_multi\":null,\"active_scroll\":\"auto\",\"active_tap\":\"auto\",\"logo\":null,\"tools\":[{\"id\":\"4667\"},{\"id\":\"4668\"},{\"id\":\"4669\"},{\"id\":\"4670\"},{\"id\":\"4671\"},{\"id\":\"4672\"}]},\"id\":\"4674\",\"type\":\"Toolbar\"},{\"attributes\":{\"end\":2772.701,\"start\":467.09900000000005},\"id\":\"4651\",\"type\":\"Range1d\"},{\"attributes\":{},\"id\":\"4699\",\"type\":\"BasicTickFormatter\"},{\"attributes\":{\"axis\":{\"id\":\"4663\"},\"dimension\":1,\"grid_line_color\":null,\"ticker\":null},\"id\":\"4666\",\"type\":\"Grid\"},{\"attributes\":{},\"id\":\"4701\",\"type\":\"BasicTickFormatter\"},{\"attributes\":{\"h\":{\"units\":\"data\",\"value\":2735.46},\"url\":{\"field\":\"url\"},\"w\":{\"units\":\"data\",\"value\":2305.602},\"x\":{\"value\":447.09900000000005},\"y\":{\"value\":1439.53}},\"id\":\"4683\",\"type\":\"ImageURL\"},{\"attributes\":{},\"id\":\"4703\",\"type\":\"UnionRenderers\"},{\"attributes\":{\"bottom_units\":\"screen\",\"fill_alpha\":0.5,\"fill_color\":\"lightgrey\",\"left_units\":\"screen\",\"level\":\"overlay\",\"line_alpha\":1.0,\"line_color\":\"black\",\"line_dash\":[4,4],\"line_width\":2,\"right_units\":\"screen\",\"top_units\":\"screen\"},\"id\":\"4673\",\"type\":\"BoxAnnotation\"},{\"attributes\":{},\"id\":\"4704\",\"type\":\"Selection\"},{\"attributes\":{},\"id\":\"4657\",\"type\":\"LinearScale\"},{\"attributes\":{},\"id\":\"4705\",\"type\":\"UnionRenderers\"},{\"attributes\":{\"data_source\":{\"id\":\"4682\"},\"glyph\":{\"id\":\"4683\"},\"hover_glyph\":null,\"muted_glyph\":null,\"nonselection_glyph\":{\"id\":\"4684\"},\"selection_glyph\":null,\"view\":{\"id\":\"4686\"}},\"id\":\"4685\",\"type\":\"GlyphRenderer\"},{\"attributes\":{\"source\":{\"id\":\"4682\"}},\"id\":\"4686\",\"type\":\"CDSView\"},{\"attributes\":{},\"id\":\"4706\",\"type\":\"Selection\"},{\"attributes\":{\"formatter\":{\"id\":\"4701\"},\"ticker\":{\"id\":\"4664\"},\"visible\":false},\"id\":\"4663\",\"type\":\"LinearAxis\"},{\"attributes\":{},\"id\":\"4707\",\"type\":\"UnionRenderers\"},{\"attributes\":{\"align\":\"center\",\"text\":\"8356.8\",\"width\":600},\"id\":\"4687\",\"type\":\"Div\"},{\"attributes\":{},\"id\":\"4708\",\"type\":\"Selection\"},{\"attributes\":{\"data\":{\"x\":[751.5,634.6,701.4,784.9,985.3,1619.9,1670.0,1920.5,2404.8,2338.0,2187.7,2321.3,2070.8,2187.7,2421.5,2471.6,2505.0,2605.2,2321.3,2237.8,2154.3,1987.3,1753.5,751.5],\"y\":[1235.8,200.4,-100.2,-267.2,-367.4,-501.0,-868.4,-801.5999999999998,-1102.2,-868.4,-400.8,-300.6,-133.6,267.2,233.8,334.0,467.6,668.0,668.0,434.2,534.4,400.8,768.1999999999998,1235.8]},\"selected\":{\"id\":\"4706\"},\"selection_policy\":{\"id\":\"4705\"}},\"id\":\"4688\",\"type\":\"ColumnDataSource\"},{\"attributes\":{},\"id\":\"4664\",\"type\":\"BasicTicker\"},{\"attributes\":{},\"id\":\"4660\",\"type\":\"BasicTicker\"}],\"root_ids\":[\"4711\"]},\"title\":\"Bokeh Application\",\"version\":\"2.1.0\"}};\n",
       "  var render_items = [{\"docid\":\"325c55ec-4eec-4e04-8aac-e7b7d76e8af0\",\"root_ids\":[\"4711\"],\"roots\":{\"4711\":\"a13c34bb-9fa1-473b-972d-052997cb0bf1\"}}];\n",
       "  root.Bokeh.embed.embed_items_notebook(docs_json, render_items);\n",
       "\n",
       "  }\n",
       "  if (root.Bokeh !== undefined) {\n",
       "    embed_document(root);\n",
       "  } else {\n",
       "    var attempts = 0;\n",
       "    var timer = setInterval(function(root) {\n",
       "      if (root.Bokeh !== undefined) {\n",
       "        clearInterval(timer);\n",
       "        embed_document(root);\n",
       "      } else {\n",
       "        attempts++;\n",
       "        if (attempts > 100) {\n",
       "          clearInterval(timer);\n",
       "          console.log(\"Bokeh: ERROR: Unable to run BokehJS code because BokehJS library is missing\");\n",
       "        }\n",
       "      }\n",
       "    }, 10, root)\n",
       "  }\n",
       "})(window);"
      ],
      "application/vnd.bokehjs_exec.v0+json": ""
     },
     "metadata": {
      "application/vnd.bokehjs_exec.v0+json": {
       "id": "4711"
      }
     },
     "output_type": "display_data"
    }
   ],
   "source": [
    "plot_tour(nodes, G, solve_tsp(G), width=600, height=375, show_us=True);"
   ]
  },
  {
   "cell_type": "markdown",
   "metadata": {},
   "source": [
    "**Q17:** Was your tour optimal before or after 2-OPT?\n",
    "\n",
    "**A:** <font color='blue'> (Based on example tour) It was not optimal before 2-OPT but it become optimal afterwards! </font>"
   ]
  },
  {
   "cell_type": "markdown",
   "metadata": {},
   "source": [
    "## Part IV: TSP Application: VLSI Drilling"
   ]
  },
  {
   "cell_type": "markdown",
   "metadata": {},
   "source": [
    "<font color='red'> In progress. </font>"
   ]
  },
  {
   "cell_type": "code",
   "execution_count": 29,
   "metadata": {},
   "outputs": [
    {
     "data": {
      "text/html": [
       "\n",
       "\n",
       "\n",
       "\n",
       "\n",
       "\n",
       "  <div class=\"bk-root\" id=\"78f7dc3d-cf8b-46f6-ab1f-49141c3bb174\" data-root-id=\"5042\"></div>\n"
      ]
     },
     "metadata": {},
     "output_type": "display_data"
    },
    {
     "data": {
      "application/javascript": [
       "(function(root) {\n",
       "  function embed_document(root) {\n",
       "    \n",
       "  var docs_json = {\"a25fd642-d0fa-48b7-9d5a-568c98f7e839\":{\"roots\":{\"references\":[{\"attributes\":{\"children\":[[{\"id\":\"4986\"},0,0],[{\"id\":\"5020\"},1,0]]},\"id\":\"5042\",\"type\":\"GridBox\"},{\"attributes\":{},\"id\":\"5010\",\"type\":\"HelpTool\"},{\"attributes\":{},\"id\":\"5009\",\"type\":\"ResetTool\"},{\"attributes\":{},\"id\":\"4998\",\"type\":\"BasicTicker\"},{\"attributes\":{},\"id\":\"5008\",\"type\":\"SaveTool\"},{\"attributes\":{\"end\":69.44,\"start\":-5.44},\"id\":\"4991\",\"type\":\"Range1d\"},{\"attributes\":{\"overlay\":{\"id\":\"5011\"}},\"id\":\"5007\",\"type\":\"BoxZoomTool\"},{\"attributes\":{\"end\":143.22,\"start\":-11.22},\"id\":\"4989\",\"type\":\"Range1d\"},{\"attributes\":{\"axis\":{\"id\":\"4997\"},\"grid_line_color\":null,\"ticker\":null},\"id\":\"5000\",\"type\":\"Grid\"},{\"attributes\":{},\"id\":\"5006\",\"type\":\"WheelZoomTool\"},{\"attributes\":{\"data_source\":{\"id\":\"5021\"},\"glyph\":{\"id\":\"5022\"},\"hover_glyph\":null,\"muted_glyph\":null,\"nonselection_glyph\":{\"id\":\"5023\"},\"selection_glyph\":null,\"view\":{\"id\":\"5025\"}},\"id\":\"5024\",\"type\":\"GlyphRenderer\"},{\"attributes\":{},\"id\":\"5005\",\"type\":\"PanTool\"},{\"attributes\":{},\"id\":\"5038\",\"type\":\"UnionRenderers\"},{\"attributes\":{\"formatter\":{\"id\":\"5034\"},\"ticker\":{\"id\":\"5002\"},\"visible\":false},\"id\":\"5001\",\"type\":\"LinearAxis\"},{\"attributes\":{\"background_fill_color\":null,\"below\":[{\"id\":\"4997\"}],\"border_fill_color\":null,\"center\":[{\"id\":\"5000\"},{\"id\":\"5004\"}],\"left\":[{\"id\":\"5001\"}],\"outline_line_color\":null,\"plot_height\":400,\"plot_width\":400,\"renderers\":[{\"id\":\"5024\"},{\"id\":\"5029\"}],\"title\":{\"id\":\"4987\"},\"toolbar\":{\"id\":\"5012\"},\"toolbar_location\":null,\"x_range\":{\"id\":\"4989\"},\"x_scale\":{\"id\":\"4993\"},\"y_range\":{\"id\":\"4991\"},\"y_scale\":{\"id\":\"4995\"}},\"id\":\"4986\",\"subtype\":\"Figure\",\"type\":\"Plot\"},{\"attributes\":{\"line_alpha\":0.1,\"line_width\":4,\"x\":{\"field\":\"x\"},\"y\":{\"field\":\"y\"}},\"id\":\"5023\",\"type\":\"Line\"},{\"attributes\":{\"fill_alpha\":{\"value\":0.1},\"fill_color\":{\"value\":\"steelblue\"},\"line_alpha\":{\"value\":0.1},\"line_color\":{\"value\":\"steelblue\"},\"size\":{\"units\":\"screen\",\"value\":8},\"x\":{\"field\":\"x\"},\"y\":{\"field\":\"y\"}},\"id\":\"5028\",\"type\":\"Circle\"},{\"attributes\":{},\"id\":\"5002\",\"type\":\"BasicTicker\"},{\"attributes\":{\"line_width\":4,\"x\":{\"field\":\"x\"},\"y\":{\"field\":\"y\"}},\"id\":\"5022\",\"type\":\"Line\"},{\"attributes\":{\"formatter\":{\"id\":\"5032\"},\"ticker\":{\"id\":\"4998\"},\"visible\":false},\"id\":\"4997\",\"type\":\"LinearAxis\"},{\"attributes\":{\"text\":\"\"},\"id\":\"4987\",\"type\":\"Title\"},{\"attributes\":{\"source\":{\"id\":\"5021\"}},\"id\":\"5025\",\"type\":\"CDSView\"},{\"attributes\":{\"source\":{\"id\":\"5026\"}},\"id\":\"5030\",\"type\":\"CDSView\"},{\"attributes\":{\"data\":{\"x\":[0.0,0.0,0.0,0.0,2.0,2.0,2.0,5.0,5.0,5.0,5.0,5.0,5.0,5.0,9.0,10.0,10.0,11.0,11.0,11.0,11.0,11.0,12.0,12.0,12.0,15.0,15.0,15.0,15.0,17.0,18.0,18.0,18.0,18.0,18.0,25.0,25.0,25.0,25.0,25.0,25.0,25.0,25.0,25.0,25.0,25.0,28.0,28.0,28.0,28.0,28.0,28.0,28.0,28.0,28.0,32.0,32.0,33.0,33.0,34.0,34.0,34.0,34.0,34.0,34.0,34.0,35.0,38.0,38.0,38.0,38.0,40.0,41.0,48.0,48.0,48.0,48.0,48.0,51.0,51.0,51.0,51.0,51.0,51.0,51.0,51.0,51.0,54.0,55.0,55.0,55.0,55.0,56.0,56.0,56.0,57.0,57.0,57.0,57.0,57.0,57.0,57.0,58.0,61.0,61.0,61.0,61.0,61.0,61.0,61.0,63.0,64.0,71.0,71.0,71.0,72.0,73.0,74.0,74.0,74.0,74.0,74.0,74.0,74.0,74.0,74.0,74.0,78.0,79.0,80.0,80.0,80.0,80.0,80.0,81.0,84.0,84.0,84.0,84.0,84.0,84.0,84.0,84.0,84.0,86.0,87.0,87.0,87.0,87.0,87.0,87.0,87.0,87.0,87.0,87.0,87.0,87.0,87.0,87.0,87.0,87.0,87.0,87.0,87.0,94.0,94.0,94.0,94.0,94.0,94.0,94.0,94.0,97.0,97.0,97.0,97.0,97.0,97.0,97.0,97.0,102.0,103.0,103.0,103.0,103.0,103.0,103.0,103.0,104.0,107.0,107.0,107.0,107.0,107.0,109.0,109.0,109.0,109.0,110.0,117.0,117.0,117.0,120.0,120.0,120.0,120.0,120.0,120.0,120.0,120.0,120.0,120.0,120.0,120.0,123.0,124.0,124.0,124.0,125.0,125.0,126.0,126.0,126.0,126.0,127.0,127.0,130.0,130.0,130.0,130.0,130.0,130.0,130.0,130.0,130.0,130.0,132.0],\"y\":[15.0,33.0,51.0,60.0,21.0,28.0,44.0,13.0,18.0,33.0,36.0,40.0,64.0,8.0,10.0,10.0,42.0,10.0,17.0,31.0,34.0,42.0,10.0,5.0,61.0,13.0,18.0,64.0,8.0,21.0,11.0,13.0,14.0,15.0,28.0,10.0,12.0,14.0,16.0,18.0,20.0,23.0,32.0,34.0,45.0,61.0,12.0,15.0,19.0,23.0,27.0,37.0,40.0,42.0,7.0,10.0,13.0,10.0,13.0,10.0,13.0,28.0,36.0,39.0,5.0,51.0,24.0,27.0,37.0,40.0,42.0,45.0,61.0,10.0,32.0,34.0,45.0,61.0,11.0,14.0,18.0,22.0,26.0,37.0,40.0,42.0,7.0,0.0,0.0,19.0,22.0,26.0,10.0,20.0,24.0,10.0,12.0,28.0,36.0,39.0,5.0,51.0,15.0,11.0,18.0,21.0,25.0,37.0,40.0,42.0,45.0,61.0,54.0,56.0,6.0,0.0,0.0,13.0,19.0,25.0,31.0,37.0,43.0,49.0,59.0,62.0,64.0,10.0,10.0,10.0,47.0,50.0,58.0,61.0,10.0,13.0,19.0,25.0,31.0,37.0,43.0,59.0,62.0,64.0,6.0,11.0,13.0,15.0,17.0,19.0,21.0,23.0,25.0,27.0,29.0,31.0,33.0,35.0,37.0,39.0,41.0,42.0,44.0,45.0,10.0,20.0,22.0,34.0,35.0,36.0,52.0,6.0,11.0,15.0,25.0,28.0,30.0,57.0,60.0,64.0,10.0,10.0,16.0,24.0,27.0,42.0,55.0,58.0,12.0,11.0,15.0,25.0,28.0,30.0,34.0,35.0,36.0,6.0,52.0,50.0,52.0,63.0,11.0,15.0,19.0,25.0,29.0,34.0,40.0,44.0,55.0,58.0,60.0,7.0,26.0,37.0,40.0,44.0,38.0,42.0,46.0,5.0,54.0,57.0,12.0,16.0,15.0,19.0,25.0,29.0,34.0,39.0,43.0,55.0,58.0,60.0,63.0]},\"selected\":{\"id\":\"5039\"},\"selection_policy\":{\"id\":\"5038\"}},\"id\":\"5026\",\"type\":\"ColumnDataSource\"},{\"attributes\":{\"align\":\"center\",\"text\":\"1073.4\",\"width\":400},\"id\":\"5020\",\"type\":\"Div\"},{\"attributes\":{\"data\":{\"x\":[0.0,5.0,2.0,2.0,0.0,5.0,5.0,5.0,2.0,0.0,0.0,5.0,12.0,15.0,25.0,34.0,41.0,48.0,57.0,63.0,61.0,61.0,57.0,57.0,61.0,74.0,74.0,80.0,80.0,74.0,71.0,71.0,64.0,74.0,74.0,74.0,80.0,80.0,84.0,84.0,84.0,97.0,97.0,97.0,94.0,103.0,103.0,110.0,117.0,117.0,120.0,120.0,117.0,120.0,126.0,130.0,132.0,130.0,130.0,126.0,126.0,130.0,130.0,130.0,130.0,130.0,130.0,130.0,127.0,127.0,126.0,120.0,120.0,120.0,120.0,120.0,123.0,120.0,120.0,124.0,125.0,124.0,125.0,124.0,120.0,120.0,103.0,109.0,109.0,109.0,107.0,107.0,107.0,103.0,103.0,103.0,107.0,107.0,109.0,104.0,103.0,102.0,97.0,97.0,94.0,94.0,86.0,87.0,87.0,84.0,87.0,87.0,87.0,84.0,87.0,87.0,94.0,94.0,97.0,97.0,97.0,94.0,94.0,94.0,87.0,87.0,87.0,87.0,87.0,84.0,84.0,87.0,87.0,87.0,87.0,87.0,87.0,87.0,84.0,84.0,74.0,74.0,74.0,74.0,78.0,79.0,80.0,81.0,73.0,72.0,71.0,61.0,58.0,61.0,61.0,61.0,57.0,56.0,55.0,51.0,51.0,55.0,56.0,55.0,51.0,51.0,51.0,57.0,57.0,56.0,57.0,55.0,54.0,51.0,48.0,34.0,32.0,33.0,34.0,34.0,33.0,32.0,28.0,28.0,25.0,25.0,25.0,25.0,28.0,28.0,35.0,34.0,38.0,48.0,48.0,51.0,51.0,51.0,48.0,40.0,38.0,38.0,38.0,34.0,34.0,28.0,28.0,28.0,25.0,11.0,10.0,11.0,11.0,18.0,25.0,25.0,28.0,28.0,25.0,25.0,25.0,17.0,15.0,11.0,15.0,18.0,18.0,18.0,18.0,15.0,12.0,12.0,11.0,10.0,9.0,5.0,5.0,0.0],\"y\":[15.0,18.0,21.0,28.0,33.0,33.0,36.0,40.0,44.0,51.0,60.0,64.0,61.0,64.0,61.0,51.0,61.0,61.0,51.0,45.0,42.0,40.0,39.0,36.0,37.0,37.0,43.0,47.0,50.0,49.0,54.0,56.0,61.0,64.0,62.0,59.0,61.0,58.0,59.0,62.0,64.0,64.0,60.0,57.0,52.0,58.0,55.0,52.0,50.0,52.0,55.0,58.0,63.0,60.0,57.0,60.0,63.0,58.0,55.0,54.0,46.0,43.0,39.0,34.0,29.0,25.0,19.0,15.0,16.0,12.0,5.0,7.0,11.0,15.0,19.0,25.0,26.0,29.0,34.0,37.0,38.0,40.0,42.0,44.0,44.0,40.0,42.0,36.0,35.0,34.0,30.0,28.0,25.0,27.0,24.0,16.0,15.0,11.0,6.0,12.0,10.0,10.0,15.0,11.0,10.0,6.0,6.0,11.0,13.0,13.0,15.0,17.0,19.0,19.0,21.0,23.0,20.0,22.0,25.0,28.0,30.0,34.0,35.0,36.0,39.0,41.0,42.0,44.0,45.0,43.0,37.0,37.0,35.0,33.0,31.0,29.0,27.0,25.0,25.0,31.0,31.0,25.0,19.0,13.0,10.0,10.0,10.0,10.0,0.0,0.0,6.0,11.0,15.0,18.0,21.0,25.0,28.0,24.0,26.0,26.0,22.0,22.0,20.0,19.0,18.0,14.0,11.0,12.0,10.0,10.0,5.0,0.0,0.0,7.0,10.0,5.0,10.0,10.0,10.0,13.0,13.0,13.0,12.0,7.0,10.0,12.0,14.0,16.0,15.0,19.0,24.0,28.0,27.0,32.0,34.0,37.0,40.0,42.0,45.0,45.0,42.0,40.0,37.0,36.0,39.0,37.0,40.0,42.0,45.0,42.0,42.0,34.0,31.0,28.0,34.0,32.0,27.0,23.0,23.0,20.0,18.0,21.0,18.0,17.0,13.0,15.0,14.0,13.0,11.0,8.0,5.0,10.0,10.0,10.0,10.0,8.0,13.0,15.0]},\"selected\":{\"id\":\"5037\"},\"selection_policy\":{\"id\":\"5036\"}},\"id\":\"5021\",\"type\":\"ColumnDataSource\"},{\"attributes\":{\"data_source\":{\"id\":\"5026\"},\"glyph\":{\"id\":\"5027\"},\"hover_glyph\":null,\"muted_glyph\":null,\"nonselection_glyph\":{\"id\":\"5028\"},\"selection_glyph\":null,\"view\":{\"id\":\"5030\"}},\"id\":\"5029\",\"type\":\"GlyphRenderer\"},{\"attributes\":{\"fill_color\":{\"value\":\"steelblue\"},\"line_color\":{\"value\":\"steelblue\"},\"size\":{\"units\":\"screen\",\"value\":8},\"x\":{\"field\":\"x\"},\"y\":{\"field\":\"y\"}},\"id\":\"5027\",\"type\":\"Circle\"},{\"attributes\":{},\"id\":\"5032\",\"type\":\"BasicTickFormatter\"},{\"attributes\":{\"axis\":{\"id\":\"5001\"},\"dimension\":1,\"grid_line_color\":null,\"ticker\":null},\"id\":\"5004\",\"type\":\"Grid\"},{\"attributes\":{},\"id\":\"5037\",\"type\":\"Selection\"},{\"attributes\":{},\"id\":\"4993\",\"type\":\"LinearScale\"},{\"attributes\":{},\"id\":\"5039\",\"type\":\"Selection\"},{\"attributes\":{\"bottom_units\":\"screen\",\"fill_alpha\":0.5,\"fill_color\":\"lightgrey\",\"left_units\":\"screen\",\"level\":\"overlay\",\"line_alpha\":1.0,\"line_color\":\"black\",\"line_dash\":[4,4],\"line_width\":2,\"right_units\":\"screen\",\"top_units\":\"screen\"},\"id\":\"5011\",\"type\":\"BoxAnnotation\"},{\"attributes\":{},\"id\":\"5036\",\"type\":\"UnionRenderers\"},{\"attributes\":{\"active_drag\":\"auto\",\"active_inspect\":\"auto\",\"active_multi\":null,\"active_scroll\":\"auto\",\"active_tap\":\"auto\",\"logo\":null,\"tools\":[{\"id\":\"5005\"},{\"id\":\"5006\"},{\"id\":\"5007\"},{\"id\":\"5008\"},{\"id\":\"5009\"},{\"id\":\"5010\"}]},\"id\":\"5012\",\"type\":\"Toolbar\"},{\"attributes\":{},\"id\":\"5034\",\"type\":\"BasicTickFormatter\"},{\"attributes\":{},\"id\":\"4995\",\"type\":\"LinearScale\"}],\"root_ids\":[\"5042\"]},\"title\":\"Bokeh Application\",\"version\":\"2.1.0\"}};\n",
       "  var render_items = [{\"docid\":\"a25fd642-d0fa-48b7-9d5a-568c98f7e839\",\"root_ids\":[\"5042\"],\"roots\":{\"5042\":\"78f7dc3d-cf8b-46f6-ab1f-49141c3bb174\"}}];\n",
       "  root.Bokeh.embed.embed_items_notebook(docs_json, render_items);\n",
       "\n",
       "  }\n",
       "  if (root.Bokeh !== undefined) {\n",
       "    embed_document(root);\n",
       "  } else {\n",
       "    var attempts = 0;\n",
       "    var timer = setInterval(function(root) {\n",
       "      if (root.Bokeh !== undefined) {\n",
       "        clearInterval(timer);\n",
       "        embed_document(root);\n",
       "      } else {\n",
       "        attempts++;\n",
       "        if (attempts > 100) {\n",
       "          clearInterval(timer);\n",
       "          console.log(\"Bokeh: ERROR: Unable to run BokehJS code because BokehJS library is missing\");\n",
       "        }\n",
       "      }\n",
       "    }, 10, root)\n",
       "  }\n",
       "})(window);"
      ],
      "application/vnd.bokehjs_exec.v0+json": ""
     },
     "metadata": {
      "application/vnd.bokehjs_exec.v0+json": {
       "id": "5042"
      }
     },
     "output_type": "display_data"
    }
   ],
   "source": [
    "nodes = pd.read_csv('data/xqg237.csv', index_col=0)\n",
    "G = distance_matrix(nodes, manhattan=False)\n",
    "plot_tour(nodes, G, solve_tsp(G))"
   ]
  },
  {
   "cell_type": "markdown",
   "metadata": {},
   "source": [
    "## Part V: TSP Application: VLSI Etching"
   ]
  },
  {
   "cell_type": "markdown",
   "metadata": {},
   "source": [
    "<font color='red'> In progress. </font>"
   ]
  },
  {
   "cell_type": "code",
   "execution_count": 30,
   "metadata": {
    "scrolled": false
   },
   "outputs": [
    {
     "data": {
      "text/html": [
       "\n",
       "\n",
       "\n",
       "\n",
       "\n",
       "\n",
       "  <div class=\"bk-root\" id=\"a6ab121c-1f20-4a81-9bc1-ba63554fc028\" data-root-id=\"5385\"></div>\n"
      ]
     },
     "metadata": {},
     "output_type": "display_data"
    },
    {
     "data": {
      "application/javascript": [
       "(function(root) {\n",
       "  function embed_document(root) {\n",
       "    \n",
       "  var docs_json = {\"3b5e0abf-2f33-48c3-9336-347031a2a609\":{\"roots\":{\"references\":[{\"attributes\":{\"children\":[[{\"id\":\"5315\"},0,0],[{\"id\":\"5349\"},1,0]]},\"id\":\"5385\",\"type\":\"GridBox\"},{\"attributes\":{\"bottom_units\":\"screen\",\"fill_alpha\":0.5,\"fill_color\":\"lightgrey\",\"left_units\":\"screen\",\"level\":\"overlay\",\"line_alpha\":1.0,\"line_color\":\"black\",\"line_dash\":[4,4],\"line_width\":2,\"right_units\":\"screen\",\"top_units\":\"screen\"},\"id\":\"5340\",\"type\":\"BoxAnnotation\"},{\"attributes\":{},\"id\":\"5331\",\"type\":\"BasicTicker\"},{\"attributes\":{\"source\":{\"id\":\"5350\"}},\"id\":\"5354\",\"type\":\"CDSView\"},{\"attributes\":{},\"id\":\"5375\",\"type\":\"UnionRenderers\"},{\"attributes\":{\"line_width\":{\"value\":2},\"xs\":{\"field\":\"xs\"},\"ys\":{\"field\":\"ys\"}},\"id\":\"5351\",\"type\":\"MultiLine\"},{\"attributes\":{\"axis\":{\"id\":\"5330\"},\"dimension\":1,\"grid_line_color\":null,\"ticker\":null},\"id\":\"5333\",\"type\":\"Grid\"},{\"attributes\":{},\"id\":\"5324\",\"type\":\"LinearScale\"},{\"attributes\":{\"data\":{\"x\":[3.0,3.0,8.0,6.0,13.0,13.0,15.0,15.0,18.0,18.0,21.0,18.0,21.0,23.0,28.0,26.0,28.0,26.0,28.0,26.0,28.0,30.0,31.0,27.0,36.0,33.0,36.0,36.0,35.0,35.0,28.0,32.0,28.0,26.0,31.0,27.0,28.0,32.0,28.0,30.0,28.0,25.0,37.0,33.0,37.0,37.0,38.0,36.0,41.0,43.0,37.0,40.0,41.0,39.0,44.0,42.0,44.0,47.0,44.0,47.0,44.0,46.0,41.0,41.0,37.0,37.0,38.0,38.0,36.0,36.0,31.0,29.0,21.0,25.0,21.0,23.0,21.0,23.0,21.0,25.0,21.0,18.0,21.0,25.0,21.0,17.0,21.0,25.0,18.0,18.0,8.0,12.0,3.0,3.0,8.0,6.0,18.0,14.0,8.0,12.0,3.0,6.0,3.0,1.0,8.0,4.0,18.0,14.0,18.0,18.0,13.0,17.0,8.0,12.0,8.0,6.0,3.0,3.0,0.0,0.0,5.0,5.0,11.0,11.0,15.0,19.0,18.0,21.0,21.0,23.0,31.0,27.0,36.0,36.0,41.0,38.0,51.0,51.0,66.0,62.0,77.0,73.0,83.0,81.0,81.0,81.0,82.0,82.0,83.0,85.0,87.0,87.0,110.0,110.0,87.0,89.0,87.0,90.0,87.0,87.0,84.0,84.0,77.0,82.0,77.0,80.0,67.0,67.0,59.0,59.0,60.0,60.0,60.0,62.0,74.0,70.0,77.0,74.0,74.0,72.0,74.0,70.0,80.0,76.0,77.0,81.0,77.0,79.0,81.0,78.0,81.0,79.0,82.0,80.0,83.0,83.0,87.0,91.0,87.0,87.0,82.0,85.0,77.0,73.0,77.0,74.0,81.0,78.0,74.0,78.0,74.0,71.0,64.0,68.0,64.0,62.0,60.0,60.0,54.0,58.0,54.0,51.0,51.0,53.0,51.0,51.0,44.0,47.0,43.0,45.0,37.0,42.0,31.0,34.0,35.0,32.0,37.0,34.0,37.0,39.0,31.0,33.0,31.0,28.0,31.0,28.0,21.0,24.0,21.0,24.0,21.0,24.0,18.0,18.0,21.0,19.0,21.0,19.0,21.0,23.0,21.0,23.0,14.0,14.0,12.0,12.0,3.0,3.0],\"y\":[16.0,13.0,16.0,16.0,13.0,15.0,13.0,16.0,16.0,13.0,18.0,18.0,20.0,20.0,26.0,26.0,29.0,29.0,31.0,31.0,32.0,32.0,33.0,33.0,32.0,32.0,29.0,31.0,29.0,27.0,27.0,27.0,25.0,25.0,23.0,23.0,18.0,18.0,14.0,14.0,12.0,12.0,8.0,8.0,18.0,13.0,20.0,20.0,23.0,23.0,32.0,32.0,33.0,33.0,37.0,37.0,35.0,35.0,38.0,38.0,39.0,39.0,37.0,41.0,34.0,38.0,34.0,36.0,34.0,37.0,37.0,37.0,36.0,36.0,38.0,38.0,40.0,40.0,42.0,42.0,44.0,44.0,45.0,45.0,47.0,47.0,48.0,48.0,48.0,50.0,46.0,46.0,42.0,39.0,40.0,40.0,40.0,40.0,34.0,34.0,30.0,30.0,29.0,29.0,28.0,28.0,28.0,28.0,22.0,24.0,20.0,20.0,22.0,22.0,11.0,11.0,3.0,3.0,0.0,0.0,3.0,1.0,3.0,7.0,8.0,8.0,11.0,11.0,16.0,16.0,19.0,19.0,18.0,16.0,19.0,19.0,9.0,13.0,9.0,9.0,9.0,9.0,8.0,8.0,13.0,9.0,13.0,17.0,13.0,13.0,9.0,13.0,30.0,32.0,32.0,32.0,27.0,27.0,23.0,25.0,20.0,22.0,19.0,19.0,23.0,23.0,25.0,28.0,28.0,24.0,28.0,30.0,15.0,15.0,14.0,14.0,15.0,15.0,16.0,16.0,19.0,19.0,24.0,24.0,27.0,27.0,32.0,32.0,35.0,35.0,38.0,38.0,40.0,40.0,44.0,40.0,41.0,41.0,37.0,40.0,36.0,36.0,38.0,38.0,42.0,42.0,42.0,42.0,50.0,50.0,48.0,48.0,50.0,50.0,48.0,48.0,47.0,43.0,50.0,50.0,48.0,48.0,30.0,30.0,25.0,27.0,26.0,26.0,25.0,25.0,29.0,29.0,31.0,31.0,34.0,34.0,41.0,41.0,44.0,44.0,50.0,50.0,46.0,46.0,43.0,43.0,34.0,34.0,32.0,32.0,30.0,30.0,34.0,31.0,28.0,28.0,26.0,26.0,24.0,24.0,22.0,22.0,13.0,16.0,13.0,10.0,16.0,13.0]},\"selected\":{\"id\":\"5378\"},\"selection_policy\":{\"id\":\"5377\"}},\"id\":\"5355\",\"type\":\"ColumnDataSource\"},{\"attributes\":{},\"id\":\"5376\",\"type\":\"Selection\"},{\"attributes\":{\"line_alpha\":{\"value\":0.1},\"line_width\":{\"value\":2},\"xs\":{\"field\":\"xs\"},\"ys\":{\"field\":\"ys\"}},\"id\":\"5352\",\"type\":\"MultiLine\"},{\"attributes\":{},\"id\":\"5377\",\"type\":\"UnionRenderers\"},{\"attributes\":{\"background_fill_color\":null,\"below\":[{\"id\":\"5326\"}],\"border_fill_color\":null,\"center\":[{\"id\":\"5329\"},{\"id\":\"5333\"}],\"left\":[{\"id\":\"5330\"}],\"outline_line_color\":null,\"plot_height\":400,\"plot_width\":800,\"renderers\":[{\"id\":\"5353\"},{\"id\":\"5358\"},{\"id\":\"5363\"},{\"id\":\"5368\"}],\"title\":{\"id\":\"5316\"},\"toolbar\":{\"id\":\"5341\"},\"toolbar_location\":null,\"x_range\":{\"id\":\"5318\"},\"x_scale\":{\"id\":\"5322\"},\"y_range\":{\"id\":\"5320\"},\"y_scale\":{\"id\":\"5324\"}},\"id\":\"5315\",\"subtype\":\"Figure\",\"type\":\"Plot\"},{\"attributes\":{\"data\":{\"xs\":[[3.0,3.0],[3.0,1.0],[3.0,6.0],[3.0,3.0],[5.0,5.0],[8.0,6.0],[8.0,12.0],[8.0,4.0],[8.0,12.0],[8.0,6.0],[8.0,12.0],[8.0,6.0],[11.0,11.0],[12.0,12.0],[13.0,13.0],[14.0,14.0],[15.0,15.0],[15.0,19.0],[18.0,18.0],[18.0,18.0],[18.0,14.0],[18.0,18.0],[18.0,14.0],[18.0,18.0],[18.0,21.0],[13.0,17.0],[21.0,23.0],[21.0,18.0],[21.0,23.0],[21.0,23.0],[21.0,23.0],[21.0,19.0],[21.0,19.0],[21.0,24.0],[21.0,24.0],[21.0,24.0],[21.0,25.0],[21.0,23.0],[21.0,23.0],[21.0,25.0],[21.0,18.0],[21.0,25.0],[21.0,17.0],[21.0,25.0],[28.0,30.0],[28.0,32.0],[28.0,26.0],[28.0,26.0],[28.0,32.0],[28.0,26.0],[28.0,26.0],[28.0,30.0],[28.0,25.0],[31.0,27.0],[31.0,27.0],[31.0,34.0],[31.0,27.0],[31.0,29.0],[31.0,28.0],[31.0,28.0],[31.0,33.0],[35.0,35.0],[35.0,32.0],[36.0,36.0],[36.0,36.0],[36.0,33.0],[36.0,36.0],[37.0,37.0],[37.0,42.0],[37.0,40.0],[37.0,37.0],[37.0,34.0],[37.0,39.0],[37.0,33.0],[38.0,36.0],[38.0,38.0],[41.0,38.0],[41.0,43.0],[41.0,39.0],[41.0,41.0],[43.0,45.0],[44.0,47.0],[44.0,47.0],[44.0,42.0],[44.0,47.0],[44.0,46.0],[51.0,51.0],[51.0,53.0],[51.0,51.0],[54.0,51.0],[54.0,58.0],[59.0,59.0],[60.0,62.0],[60.0,60.0],[60.0,60.0],[64.0,62.0],[64.0,68.0],[66.0,62.0],[67.0,67.0],[74.0,70.0],[74.0,72.0],[74.0,70.0],[74.0,71.0],[74.0,78.0],[77.0,74.0],[77.0,82.0],[77.0,80.0],[77.0,81.0],[77.0,79.0],[77.0,73.0],[77.0,74.0],[77.0,73.0],[80.0,76.0],[81.0,81.0],[81.0,78.0],[81.0,79.0],[81.0,78.0],[82.0,82.0],[82.0,85.0],[82.0,80.0],[83.0,85.0],[83.0,83.0],[83.0,81.0],[84.0,84.0],[87.0,87.0],[87.0,90.0],[87.0,89.0],[87.0,87.0],[87.0,91.0],[87.0,87.0],[110.0,110.0],[3.0,3.0],[0.0,0.0]],\"ys\":[[16.0,13.0],[29.0,29.0],[30.0,30.0],[42.0,39.0],[3.0,1.0],[16.0,16.0],[22.0,22.0],[28.0,28.0],[34.0,34.0],[40.0,40.0],[46.0,46.0],[11.0,11.0],[3.0,7.0],[13.0,10.0],[13.0,15.0],[13.0,16.0],[13.0,16.0],[8.0,8.0],[16.0,13.0],[22.0,24.0],[28.0,28.0],[34.0,31.0],[40.0,40.0],[48.0,50.0],[11.0,11.0],[20.0,20.0],[16.0,16.0],[18.0,18.0],[20.0,20.0],[22.0,22.0],[24.0,24.0],[26.0,26.0],[28.0,28.0],[30.0,30.0],[32.0,32.0],[34.0,34.0],[36.0,36.0],[38.0,38.0],[40.0,40.0],[42.0,42.0],[44.0,44.0],[45.0,45.0],[47.0,47.0],[48.0,48.0],[14.0,14.0],[18.0,18.0],[25.0,25.0],[26.0,26.0],[27.0,27.0],[29.0,29.0],[31.0,31.0],[32.0,32.0],[12.0,12.0],[19.0,19.0],[23.0,23.0],[31.0,31.0],[33.0,33.0],[37.0,37.0],[43.0,43.0],[46.0,46.0],[50.0,50.0],[29.0,27.0],[34.0,34.0],[18.0,16.0],[29.0,31.0],[32.0,32.0],[34.0,37.0],[18.0,13.0],[29.0,29.0],[32.0,32.0],[34.0,38.0],[41.0,41.0],[44.0,44.0],[8.0,8.0],[20.0,20.0],[34.0,36.0],[19.0,19.0],[23.0,23.0],[33.0,33.0],[37.0,41.0],[25.0,25.0],[26.0,26.0],[35.0,35.0],[37.0,37.0],[38.0,38.0],[39.0,39.0],[25.0,27.0],[30.0,30.0],[9.0,13.0],[48.0,48.0],[50.0,50.0],[28.0,24.0],[15.0,15.0],[28.0,30.0],[47.0,43.0],[48.0,48.0],[50.0,50.0],[9.0,9.0],[25.0,28.0],[14.0,14.0],[16.0,16.0],[19.0,19.0],[48.0,48.0],[50.0,50.0],[15.0,15.0],[19.0,19.0],[23.0,23.0],[27.0,27.0],[32.0,32.0],[38.0,38.0],[42.0,42.0],[9.0,9.0],[24.0,24.0],[13.0,9.0],[35.0,35.0],[38.0,38.0],[42.0,42.0],[13.0,17.0],[36.0,36.0],[40.0,40.0],[13.0,13.0],[44.0,40.0],[8.0,8.0],[20.0,22.0],[23.0,25.0],[27.0,27.0],[32.0,32.0],[37.0,40.0],[41.0,41.0],[9.0,13.0],[30.0,32.0],[3.0,3.0],[0.0,0.0]]},\"selected\":{\"id\":\"5376\"},\"selection_policy\":{\"id\":\"5375\"}},\"id\":\"5350\",\"type\":\"ColumnDataSource\"},{\"attributes\":{},\"id\":\"5378\",\"type\":\"Selection\"},{\"attributes\":{\"data_source\":{\"id\":\"5350\"},\"glyph\":{\"id\":\"5351\"},\"hover_glyph\":null,\"muted_glyph\":null,\"nonselection_glyph\":{\"id\":\"5352\"},\"selection_glyph\":null,\"view\":{\"id\":\"5354\"}},\"id\":\"5353\",\"type\":\"GlyphRenderer\"},{\"attributes\":{\"align\":\"center\",\"text\":\"681.2\",\"width\":800},\"id\":\"5349\",\"type\":\"Div\"},{\"attributes\":{},\"id\":\"5322\",\"type\":\"LinearScale\"},{\"attributes\":{},\"id\":\"5379\",\"type\":\"UnionRenderers\"},{\"attributes\":{},\"id\":\"5334\",\"type\":\"PanTool\"},{\"attributes\":{\"data_source\":{\"id\":\"5355\"},\"glyph\":{\"id\":\"5356\"},\"hover_glyph\":null,\"muted_glyph\":null,\"nonselection_glyph\":{\"id\":\"5357\"},\"selection_glyph\":null,\"view\":{\"id\":\"5359\"}},\"id\":\"5358\",\"type\":\"GlyphRenderer\"},{\"attributes\":{\"end\":119.35,\"start\":-9.350000000000001},\"id\":\"5318\",\"type\":\"Range1d\"},{\"attributes\":{},\"id\":\"5380\",\"type\":\"Selection\"},{\"attributes\":{},\"id\":\"5335\",\"type\":\"WheelZoomTool\"},{\"attributes\":{},\"id\":\"5381\",\"type\":\"UnionRenderers\"},{\"attributes\":{\"overlay\":{\"id\":\"5340\"}},\"id\":\"5336\",\"type\":\"BoxZoomTool\"},{\"attributes\":{},\"id\":\"5382\",\"type\":\"Selection\"},{\"attributes\":{\"fill_color\":{\"value\":\"steelblue\"},\"line_color\":{\"value\":\"steelblue\"},\"size\":{\"units\":\"screen\",\"value\":5},\"x\":{\"field\":\"x\"},\"y\":{\"field\":\"y\"}},\"id\":\"5361\",\"type\":\"Circle\"},{\"attributes\":{},\"id\":\"5337\",\"type\":\"SaveTool\"},{\"attributes\":{\"fill_alpha\":{\"value\":0.1},\"fill_color\":{\"value\":\"steelblue\"},\"line_alpha\":{\"value\":0.1},\"line_color\":{\"value\":\"steelblue\"},\"size\":{\"units\":\"screen\",\"value\":5},\"x\":{\"field\":\"x\"},\"y\":{\"field\":\"y\"}},\"id\":\"5362\",\"type\":\"Circle\"},{\"attributes\":{\"data_source\":{\"id\":\"5360\"},\"glyph\":{\"id\":\"5361\"},\"hover_glyph\":null,\"muted_glyph\":null,\"nonselection_glyph\":{\"id\":\"5362\"},\"selection_glyph\":null,\"view\":{\"id\":\"5364\"}},\"id\":\"5363\",\"type\":\"GlyphRenderer\"},{\"attributes\":{},\"id\":\"5338\",\"type\":\"ResetTool\"},{\"attributes\":{\"source\":{\"id\":\"5360\"}},\"id\":\"5364\",\"type\":\"CDSView\"},{\"attributes\":{\"text\":\"\"},\"id\":\"5316\",\"type\":\"Title\"},{\"attributes\":{},\"id\":\"5339\",\"type\":\"HelpTool\"},{\"attributes\":{\"data\":{\"x\":[3,1,6,3,5,6,12,4,12,6,12,6,11,12,13,14,15,19,18,18,14,18,14,18,21,17,23,18,23,23,23,19,19,24,24,24,25,23,23,25,18,25,17,25,30,32,26,26,32,26,26,30,25,27,27,34,27,29,28,28,33,35,32,36,36,33,36,37,42,40,37,34,39,33,36,38,38,43,39,41,45,47,47,42,47,46,51,53,51,51,58,59,62,60,60,62,68,62,67,70,72,70,71,78,74,82,80,81,79,73,74,73,76,81,78,79,78,82,85,80,85,83,81,84,87,90,89,87,91,87,110,3,0],\"y\":[13,29,30,39,1,16,22,28,34,40,46,11,7,10,15,16,16,8,13,24,28,31,40,50,11,20,16,18,20,22,24,26,28,30,32,34,36,38,40,42,44,45,47,48,14,18,25,26,27,29,31,32,12,19,23,31,33,37,43,46,50,27,34,16,31,32,37,13,29,32,38,41,44,8,20,36,19,23,33,41,25,26,35,37,38,39,27,30,13,48,50,24,15,30,43,48,50,9,28,14,16,19,48,50,15,19,23,27,32,38,42,9,24,9,35,38,42,17,36,40,13,40,8,22,25,27,32,40,41,13,32,3,0]},\"selected\":{\"id\":\"5382\"},\"selection_policy\":{\"id\":\"5381\"}},\"id\":\"5365\",\"type\":\"ColumnDataSource\"},{\"attributes\":{\"line_alpha\":0.1,\"line_dash\":[6],\"line_width\":2,\"x\":{\"field\":\"x\"},\"y\":{\"field\":\"y\"}},\"id\":\"5357\",\"type\":\"Line\"},{\"attributes\":{\"active_drag\":\"auto\",\"active_inspect\":\"auto\",\"active_multi\":null,\"active_scroll\":\"auto\",\"active_tap\":\"auto\",\"logo\":null,\"tools\":[{\"id\":\"5334\"},{\"id\":\"5335\"},{\"id\":\"5336\"},{\"id\":\"5337\"},{\"id\":\"5338\"},{\"id\":\"5339\"}]},\"id\":\"5341\",\"type\":\"Toolbar\"},{\"attributes\":{\"fill_color\":{\"value\":\"#DC0000\"},\"line_color\":{\"value\":\"#DC0000\"},\"size\":{\"units\":\"screen\",\"value\":5},\"x\":{\"field\":\"x\"},\"y\":{\"field\":\"y\"}},\"id\":\"5366\",\"type\":\"Circle\"},{\"attributes\":{\"source\":{\"id\":\"5355\"}},\"id\":\"5359\",\"type\":\"CDSView\"},{\"attributes\":{\"fill_alpha\":{\"value\":0.1},\"fill_color\":{\"value\":\"#DC0000\"},\"line_alpha\":{\"value\":0.1},\"line_color\":{\"value\":\"#DC0000\"},\"size\":{\"units\":\"screen\",\"value\":5},\"x\":{\"field\":\"x\"},\"y\":{\"field\":\"y\"}},\"id\":\"5367\",\"type\":\"Circle\"},{\"attributes\":{\"data_source\":{\"id\":\"5365\"},\"glyph\":{\"id\":\"5366\"},\"hover_glyph\":null,\"muted_glyph\":null,\"nonselection_glyph\":{\"id\":\"5367\"},\"selection_glyph\":null,\"view\":{\"id\":\"5369\"}},\"id\":\"5368\",\"type\":\"GlyphRenderer\"},{\"attributes\":{\"source\":{\"id\":\"5365\"}},\"id\":\"5369\",\"type\":\"CDSView\"},{\"attributes\":{},\"id\":\"5327\",\"type\":\"BasicTicker\"},{\"attributes\":{\"end\":54.25,\"start\":-4.25},\"id\":\"5320\",\"type\":\"Range1d\"},{\"attributes\":{\"formatter\":{\"id\":\"5371\"},\"ticker\":{\"id\":\"5327\"},\"visible\":false},\"id\":\"5326\",\"type\":\"LinearAxis\"},{\"attributes\":{\"line_dash\":[6],\"line_width\":2,\"x\":{\"field\":\"x\"},\"y\":{\"field\":\"y\"}},\"id\":\"5356\",\"type\":\"Line\"},{\"attributes\":{},\"id\":\"5371\",\"type\":\"BasicTickFormatter\"},{\"attributes\":{\"formatter\":{\"id\":\"5373\"},\"ticker\":{\"id\":\"5331\"},\"visible\":false},\"id\":\"5330\",\"type\":\"LinearAxis\"},{\"attributes\":{\"data\":{\"x\":[3.0,3.0,3.0,3.0,5.0,8.0,8.0,8.0,8.0,8.0,8.0,8.0,11.0,12.0,13.0,14.0,15.0,15.0,18.0,18.0,18.0,18.0,18.0,18.0,18.0,13.0,21.0,21.0,21.0,21.0,21.0,21.0,21.0,21.0,21.0,21.0,21.0,21.0,21.0,21.0,21.0,21.0,21.0,21.0,28.0,28.0,28.0,28.0,28.0,28.0,28.0,28.0,28.0,31.0,31.0,31.0,31.0,31.0,31.0,31.0,31.0,35.0,35.0,36.0,36.0,36.0,36.0,37.0,37.0,37.0,37.0,37.0,37.0,37.0,38.0,38.0,41.0,41.0,41.0,41.0,43.0,44.0,44.0,44.0,44.0,44.0,51.0,51.0,51.0,54.0,54.0,59.0,60.0,60.0,60.0,64.0,64.0,66.0,67.0,74.0,74.0,74.0,74.0,74.0,77.0,77.0,77.0,77.0,77.0,77.0,77.0,77.0,80.0,81.0,81.0,81.0,81.0,82.0,82.0,82.0,83.0,83.0,83.0,84.0,87.0,87.0,87.0,87.0,87.0,87.0,110.0,3.0,0.0],\"y\":[16.0,29.0,30.0,42.0,3.0,16.0,22.0,28.0,34.0,40.0,46.0,11.0,3.0,13.0,13.0,13.0,13.0,8.0,16.0,22.0,28.0,34.0,40.0,48.0,11.0,20.0,16.0,18.0,20.0,22.0,24.0,26.0,28.0,30.0,32.0,34.0,36.0,38.0,40.0,42.0,44.0,45.0,47.0,48.0,14.0,18.0,25.0,26.0,27.0,29.0,31.0,32.0,12.0,19.0,23.0,31.0,33.0,37.0,43.0,46.0,50.0,29.0,34.0,18.0,29.0,32.0,34.0,18.0,29.0,32.0,34.0,41.0,44.0,8.0,20.0,34.0,19.0,23.0,33.0,37.0,25.0,26.0,35.0,37.0,38.0,39.0,25.0,30.0,9.0,48.0,50.0,28.0,15.0,28.0,47.0,48.0,50.0,9.0,25.0,14.0,16.0,19.0,48.0,50.0,15.0,19.0,23.0,27.0,32.0,38.0,42.0,9.0,24.0,13.0,35.0,38.0,42.0,13.0,36.0,40.0,13.0,44.0,8.0,20.0,23.0,27.0,32.0,37.0,41.0,9.0,30.0,3.0,0.0]},\"selected\":{\"id\":\"5380\"},\"selection_policy\":{\"id\":\"5379\"}},\"id\":\"5360\",\"type\":\"ColumnDataSource\"},{\"attributes\":{\"axis\":{\"id\":\"5326\"},\"grid_line_color\":null,\"ticker\":null},\"id\":\"5329\",\"type\":\"Grid\"},{\"attributes\":{},\"id\":\"5373\",\"type\":\"BasicTickFormatter\"}],\"root_ids\":[\"5385\"]},\"title\":\"Bokeh Application\",\"version\":\"2.1.0\"}};\n",
       "  var render_items = [{\"docid\":\"3b5e0abf-2f33-48c3-9336-347031a2a609\",\"root_ids\":[\"5385\"],\"roots\":{\"5385\":\"a6ab121c-1f20-4a81-9bc1-ba63554fc028\"}}];\n",
       "  root.Bokeh.embed.embed_items_notebook(docs_json, render_items);\n",
       "\n",
       "  }\n",
       "  if (root.Bokeh !== undefined) {\n",
       "    embed_document(root);\n",
       "  } else {\n",
       "    var attempts = 0;\n",
       "    var timer = setInterval(function(root) {\n",
       "      if (root.Bokeh !== undefined) {\n",
       "        clearInterval(timer);\n",
       "        embed_document(root);\n",
       "      } else {\n",
       "        attempts++;\n",
       "        if (attempts > 100) {\n",
       "          clearInterval(timer);\n",
       "          console.log(\"Bokeh: ERROR: Unable to run BokehJS code because BokehJS library is missing\");\n",
       "        }\n",
       "      }\n",
       "    }, 10, root)\n",
       "  }\n",
       "})(window);"
      ],
      "application/vnd.bokehjs_exec.v0+json": ""
     },
     "metadata": {
      "application/vnd.bokehjs_exec.v0+json": {
       "id": "5385"
      }
     },
     "output_type": "display_data"
    }
   ],
   "source": [
    "nodes = pd.read_csv('data/xqf131_etching.csv', index_col=0)\n",
    "G = distance_matrix(nodes, manhattan=False, vlsi=True)\n",
    "plot_vlsi_tour(nodes,G, solve_tsp(G))"
   ]
  }
 ],
 "metadata": {
  "kernelspec": {
   "display_name": "Python 3",
   "language": "python",
   "name": "python3"
  },
  "language_info": {
   "codemirror_mode": {
    "name": "ipython",
    "version": 3
   },
   "file_extension": ".py",
   "mimetype": "text/x-python",
   "name": "python",
   "nbconvert_exporter": "python",
   "pygments_lexer": "ipython3",
   "version": "3.6.10"
  }
 },
 "nbformat": 4,
 "nbformat_minor": 4
}
