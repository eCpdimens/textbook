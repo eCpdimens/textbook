{
 "cells": [
  {
   "cell_type": "markdown",
   "metadata": {},
   "source": [
    "# Traveling Salesman Problem (TSP)"
   ]
  },
  {
   "cell_type": "markdown",
   "metadata": {},
   "source": [
    "**Objectives**\n",
    "\n",
    "- Introduce students to a real world problem solved by OR practitioners\n",
    "- Demonstrate the use of heuristics to obtain good solutions to optimization problems\n",
    "- Give students an appreciation of the difficulty of solving optimization problems exactly\n",
    "\n",
    "**Reading:** Read Handout 2 on the traveling salesman problem.\n",
    "\n",
    "**Brief description:** Finding an optimal solution to a Traveling Salesman Problem, and proving that it is, in fact, an optimal solution, is a difficult task. In practice, when a feasible solution to a difficult problem needs to be provided quickly, one often resorts to using heuristics, i.e., procedures for generating feasible solutions, or improving existing ones, that can be executed quickly and, hopefully, produce a pretty good result. In this lab we will consider several such heuristic procedures for the TSP.\n",
    "\n",
    "*TSP VLSI instances adapted from [TSPLIB](http://comopt.ifi.uni-heidelberg.de/software/TSPLIB95/) and [Bonn Institute](http://www.math.uwaterloo.ca/tsp/vlsi/index.html)*\n",
    "\n",
    "<font color='blue'> <b>Solutions are shown blue.</b> </font> <br>\n",
    "<font color='red'> <b>Instuctor comments are shown in red.</b> </font>"
   ]
  },
  {
   "cell_type": "markdown",
   "metadata": {},
   "source": [
    "<font color='red'>A tool we might want to use: [TSP DIY](https://www.math.uwaterloo.ca/tsp/app/diy.html)  </font>"
   ]
  },
  {
   "cell_type": "markdown",
   "metadata": {},
   "source": [
    "## Jupyter Notebook Introduction"
   ]
  },
  {
   "cell_type": "markdown",
   "metadata": {},
   "source": [
    "The labs for this course will be done through Jupyter Notebooks. Each lab will be distributed to you via a `.zip` file that contains a Jupyter Notebook (which has file extension `.ipynb`) and any other files necessary to run that lab. This may include supplementary python code, images, or data.\n",
    "\n",
    "In this first lab, we will begin with a breif introduction to Jupyter Notebooks. The notebook consists of cells of two main types: text (Markdown) and Code. This notebook is comprised only of text cells up until this point. The text is written in a lightweight markup language called Markdown. It allows you to do things like make tables and mathematical equations. Right now, you are seeing the Markdown text after it is already compiled. Double-click the text `CLICK HERE` to see the Markdown before it is compiled."
   ]
  },
  {
   "cell_type": "markdown",
   "metadata": {},
   "source": [
    "`CLICK HERE` Now that you have double-clicked, you should be able to type in this cell. Try it out:\n",
    "\n",
    "\n",
    "\n",
    "To compile this text, press either CTRL+Enter to compile or Shift+Enter to compile and move to the next cell."
   ]
  },
  {
   "cell_type": "markdown",
   "metadata": {},
   "source": [
    "Here are some other cool things you can do in Markdown!\n",
    "\n",
    "- **Bold** and *italics*\n",
    "- Equations: \n",
    "    - $3x_1 + 4x_2 = 10$ \n",
    "    - $\\frac{2}{3} + \\frac{2}{3} = \\frac{4}{3}$\n",
    "    - $2^x = 4$\n",
    "- Tables:\n",
    "\n",
    "|   | 1 | 2 | 3 | 4 |\n",
    "|---|---|---|---|---|\n",
    "| a |   |   |   |   | \n",
    "| b |   |   |   |   | "
   ]
  },
  {
   "cell_type": "markdown",
   "metadata": {},
   "source": [
    "And now to the most important cell of a Jupyter Notebook: the Code cell! We can use a code cell to write and run Python code. Let's look at an example. Like compiling the Markdown cell, to run the code in a Code cell we can use either CTRL+Enter to compile or Shift+Enter to compile and move to the next cell. "
   ]
  },
  {
   "cell_type": "code",
   "execution_count": 1,
   "metadata": {},
   "outputs": [],
   "source": [
    "# This is a code cell\n",
    "# We use # to make a comment in a code cell\n",
    "a = 7"
   ]
  },
  {
   "cell_type": "markdown",
   "metadata": {},
   "source": [
    "The cell  above creates a variable called `a` and sets its value to 7. This variable and its value carries over to the other cells of the notebook. To the left of a code cell, we can see a number in brackets if the cell has been run. If it has not been run, there is no number. The number indicates the order in which the cells are run. If a variable is on the last line of code cell, its value will be output under the cell."
   ]
  },
  {
   "cell_type": "code",
   "execution_count": 2,
   "metadata": {},
   "outputs": [
    {
     "data": {
      "text/plain": [
       "7"
      ]
     },
     "execution_count": 2,
     "metadata": {},
     "output_type": "execute_result"
    }
   ],
   "source": [
    "a"
   ]
  },
  {
   "cell_type": "markdown",
   "metadata": {},
   "source": [
    "Here are a few examples of some different operations in python."
   ]
  },
  {
   "cell_type": "code",
   "execution_count": 3,
   "metadata": {},
   "outputs": [
    {
     "name": "stdout",
     "output_type": "stream",
     "text": [
      "10\n",
      "21\n",
      "2\n"
     ]
    },
    {
     "data": {
      "text/plain": [
       "[1, 2, 3]"
      ]
     },
     "execution_count": 3,
     "metadata": {},
     "output_type": "execute_result"
    }
   ],
   "source": [
    "# addition and multiplication\n",
    "b = 3\n",
    "c = a + b\n",
    "print(c)\n",
    "d = a * b\n",
    "print(d)\n",
    "\n",
    "# lists\n",
    "array = [1,2,3]\n",
    "print(array[1])\n",
    "\n",
    "array # recall, since this is on the last line, its value will be printed"
   ]
  },
  {
   "cell_type": "markdown",
   "metadata": {},
   "source": [
    "As we do more and more in Jupyter Notebooks throughout the rest of these labs, we will introduce new tools and functionality. **NOTE:** It is important to mention that this course does not require any previous programming experience nor is it a programming course. The programming in this course will be limited to small changes to code and writing mathematical models. \n",
    "\n",
    "On to the lab!"
   ]
  },
  {
   "cell_type": "markdown",
   "metadata": {},
   "source": [
    "## Part I: Solving TSP Manually"
   ]
  },
  {
   "cell_type": "code",
   "execution_count": 4,
   "metadata": {},
   "outputs": [
    {
     "data": {
      "text/html": [
       "\n",
       "    <div class=\"bk-root\">\n",
       "        <a href=\"https://bokeh.org\" target=\"_blank\" class=\"bk-logo bk-logo-small bk-logo-notebook\"></a>\n",
       "        <span id=\"1001\">Loading BokehJS ...</span>\n",
       "    </div>"
      ]
     },
     "metadata": {},
     "output_type": "display_data"
    },
    {
     "data": {
      "application/javascript": [
       "\n",
       "(function(root) {\n",
       "  function now() {\n",
       "    return new Date();\n",
       "  }\n",
       "\n",
       "  var force = true;\n",
       "\n",
       "  if (typeof root._bokeh_onload_callbacks === \"undefined\" || force === true) {\n",
       "    root._bokeh_onload_callbacks = [];\n",
       "    root._bokeh_is_loading = undefined;\n",
       "  }\n",
       "\n",
       "  var JS_MIME_TYPE = 'application/javascript';\n",
       "  var HTML_MIME_TYPE = 'text/html';\n",
       "  var EXEC_MIME_TYPE = 'application/vnd.bokehjs_exec.v0+json';\n",
       "  var CLASS_NAME = 'output_bokeh rendered_html';\n",
       "\n",
       "  /**\n",
       "   * Render data to the DOM node\n",
       "   */\n",
       "  function render(props, node) {\n",
       "    var script = document.createElement(\"script\");\n",
       "    node.appendChild(script);\n",
       "  }\n",
       "\n",
       "  /**\n",
       "   * Handle when an output is cleared or removed\n",
       "   */\n",
       "  function handleClearOutput(event, handle) {\n",
       "    var cell = handle.cell;\n",
       "\n",
       "    var id = cell.output_area._bokeh_element_id;\n",
       "    var server_id = cell.output_area._bokeh_server_id;\n",
       "    // Clean up Bokeh references\n",
       "    if (id != null && id in Bokeh.index) {\n",
       "      Bokeh.index[id].model.document.clear();\n",
       "      delete Bokeh.index[id];\n",
       "    }\n",
       "\n",
       "    if (server_id !== undefined) {\n",
       "      // Clean up Bokeh references\n",
       "      var cmd = \"from bokeh.io.state import curstate; print(curstate().uuid_to_server['\" + server_id + \"'].get_sessions()[0].document.roots[0]._id)\";\n",
       "      cell.notebook.kernel.execute(cmd, {\n",
       "        iopub: {\n",
       "          output: function(msg) {\n",
       "            var id = msg.content.text.trim();\n",
       "            if (id in Bokeh.index) {\n",
       "              Bokeh.index[id].model.document.clear();\n",
       "              delete Bokeh.index[id];\n",
       "            }\n",
       "          }\n",
       "        }\n",
       "      });\n",
       "      // Destroy server and session\n",
       "      var cmd = \"import bokeh.io.notebook as ion; ion.destroy_server('\" + server_id + \"')\";\n",
       "      cell.notebook.kernel.execute(cmd);\n",
       "    }\n",
       "  }\n",
       "\n",
       "  /**\n",
       "   * Handle when a new output is added\n",
       "   */\n",
       "  function handleAddOutput(event, handle) {\n",
       "    var output_area = handle.output_area;\n",
       "    var output = handle.output;\n",
       "\n",
       "    // limit handleAddOutput to display_data with EXEC_MIME_TYPE content only\n",
       "    if ((output.output_type != \"display_data\") || (!output.data.hasOwnProperty(EXEC_MIME_TYPE))) {\n",
       "      return\n",
       "    }\n",
       "\n",
       "    var toinsert = output_area.element.find(\".\" + CLASS_NAME.split(' ')[0]);\n",
       "\n",
       "    if (output.metadata[EXEC_MIME_TYPE][\"id\"] !== undefined) {\n",
       "      toinsert[toinsert.length - 1].firstChild.textContent = output.data[JS_MIME_TYPE];\n",
       "      // store reference to embed id on output_area\n",
       "      output_area._bokeh_element_id = output.metadata[EXEC_MIME_TYPE][\"id\"];\n",
       "    }\n",
       "    if (output.metadata[EXEC_MIME_TYPE][\"server_id\"] !== undefined) {\n",
       "      var bk_div = document.createElement(\"div\");\n",
       "      bk_div.innerHTML = output.data[HTML_MIME_TYPE];\n",
       "      var script_attrs = bk_div.children[0].attributes;\n",
       "      for (var i = 0; i < script_attrs.length; i++) {\n",
       "        toinsert[toinsert.length - 1].firstChild.setAttribute(script_attrs[i].name, script_attrs[i].value);\n",
       "        toinsert[toinsert.length - 1].firstChild.textContent = bk_div.children[0].textContent\n",
       "      }\n",
       "      // store reference to server id on output_area\n",
       "      output_area._bokeh_server_id = output.metadata[EXEC_MIME_TYPE][\"server_id\"];\n",
       "    }\n",
       "  }\n",
       "\n",
       "  function register_renderer(events, OutputArea) {\n",
       "\n",
       "    function append_mime(data, metadata, element) {\n",
       "      // create a DOM node to render to\n",
       "      var toinsert = this.create_output_subarea(\n",
       "        metadata,\n",
       "        CLASS_NAME,\n",
       "        EXEC_MIME_TYPE\n",
       "      );\n",
       "      this.keyboard_manager.register_events(toinsert);\n",
       "      // Render to node\n",
       "      var props = {data: data, metadata: metadata[EXEC_MIME_TYPE]};\n",
       "      render(props, toinsert[toinsert.length - 1]);\n",
       "      element.append(toinsert);\n",
       "      return toinsert\n",
       "    }\n",
       "\n",
       "    /* Handle when an output is cleared or removed */\n",
       "    events.on('clear_output.CodeCell', handleClearOutput);\n",
       "    events.on('delete.Cell', handleClearOutput);\n",
       "\n",
       "    /* Handle when a new output is added */\n",
       "    events.on('output_added.OutputArea', handleAddOutput);\n",
       "\n",
       "    /**\n",
       "     * Register the mime type and append_mime function with output_area\n",
       "     */\n",
       "    OutputArea.prototype.register_mime_type(EXEC_MIME_TYPE, append_mime, {\n",
       "      /* Is output safe? */\n",
       "      safe: true,\n",
       "      /* Index of renderer in `output_area.display_order` */\n",
       "      index: 0\n",
       "    });\n",
       "  }\n",
       "\n",
       "  // register the mime type if in Jupyter Notebook environment and previously unregistered\n",
       "  if (root.Jupyter !== undefined) {\n",
       "    var events = require('base/js/events');\n",
       "    var OutputArea = require('notebook/js/outputarea').OutputArea;\n",
       "\n",
       "    if (OutputArea.prototype.mime_types().indexOf(EXEC_MIME_TYPE) == -1) {\n",
       "      register_renderer(events, OutputArea);\n",
       "    }\n",
       "  }\n",
       "\n",
       "  \n",
       "  if (typeof (root._bokeh_timeout) === \"undefined\" || force === true) {\n",
       "    root._bokeh_timeout = Date.now() + 5000;\n",
       "    root._bokeh_failed_load = false;\n",
       "  }\n",
       "\n",
       "  var NB_LOAD_WARNING = {'data': {'text/html':\n",
       "     \"<div style='background-color: #fdd'>\\n\"+\n",
       "     \"<p>\\n\"+\n",
       "     \"BokehJS does not appear to have successfully loaded. If loading BokehJS from CDN, this \\n\"+\n",
       "     \"may be due to a slow or bad network connection. Possible fixes:\\n\"+\n",
       "     \"</p>\\n\"+\n",
       "     \"<ul>\\n\"+\n",
       "     \"<li>re-rerun `output_notebook()` to attempt to load from CDN again, or</li>\\n\"+\n",
       "     \"<li>use INLINE resources instead, as so:</li>\\n\"+\n",
       "     \"</ul>\\n\"+\n",
       "     \"<code>\\n\"+\n",
       "     \"from bokeh.resources import INLINE\\n\"+\n",
       "     \"output_notebook(resources=INLINE)\\n\"+\n",
       "     \"</code>\\n\"+\n",
       "     \"</div>\"}};\n",
       "\n",
       "  function display_loaded() {\n",
       "    var el = document.getElementById(\"1001\");\n",
       "    if (el != null) {\n",
       "      el.textContent = \"BokehJS is loading...\";\n",
       "    }\n",
       "    if (root.Bokeh !== undefined) {\n",
       "      if (el != null) {\n",
       "        el.textContent = \"BokehJS \" + root.Bokeh.version + \" successfully loaded.\";\n",
       "      }\n",
       "    } else if (Date.now() < root._bokeh_timeout) {\n",
       "      setTimeout(display_loaded, 100)\n",
       "    }\n",
       "  }\n",
       "\n",
       "\n",
       "  function run_callbacks() {\n",
       "    try {\n",
       "      root._bokeh_onload_callbacks.forEach(function(callback) {\n",
       "        if (callback != null)\n",
       "          callback();\n",
       "      });\n",
       "    } finally {\n",
       "      delete root._bokeh_onload_callbacks\n",
       "    }\n",
       "    console.debug(\"Bokeh: all callbacks have finished\");\n",
       "  }\n",
       "\n",
       "  function load_libs(css_urls, js_urls, callback) {\n",
       "    if (css_urls == null) css_urls = [];\n",
       "    if (js_urls == null) js_urls = [];\n",
       "\n",
       "    root._bokeh_onload_callbacks.push(callback);\n",
       "    if (root._bokeh_is_loading > 0) {\n",
       "      console.debug(\"Bokeh: BokehJS is being loaded, scheduling callback at\", now());\n",
       "      return null;\n",
       "    }\n",
       "    if (js_urls == null || js_urls.length === 0) {\n",
       "      run_callbacks();\n",
       "      return null;\n",
       "    }\n",
       "    console.debug(\"Bokeh: BokehJS not loaded, scheduling load and callback at\", now());\n",
       "    root._bokeh_is_loading = css_urls.length + js_urls.length;\n",
       "\n",
       "    function on_load() {\n",
       "      root._bokeh_is_loading--;\n",
       "      if (root._bokeh_is_loading === 0) {\n",
       "        console.debug(\"Bokeh: all BokehJS libraries/stylesheets loaded\");\n",
       "        run_callbacks()\n",
       "      }\n",
       "    }\n",
       "\n",
       "    function on_error() {\n",
       "      console.error(\"failed to load \" + url);\n",
       "    }\n",
       "\n",
       "    for (var i = 0; i < css_urls.length; i++) {\n",
       "      var url = css_urls[i];\n",
       "      const element = document.createElement(\"link\");\n",
       "      element.onload = on_load;\n",
       "      element.onerror = on_error;\n",
       "      element.rel = \"stylesheet\";\n",
       "      element.type = \"text/css\";\n",
       "      element.href = url;\n",
       "      console.debug(\"Bokeh: injecting link tag for BokehJS stylesheet: \", url);\n",
       "      document.body.appendChild(element);\n",
       "    }\n",
       "\n",
       "    const hashes = {\"https://cdn.bokeh.org/bokeh/release/bokeh-2.1.0.min.js\": \"YobFyzPeVUsFQydHkJGsJL1kyfHnWxOlPc3EwaV22TmBaeGoXHLWx5aRRVPS9xlE\", \"https://cdn.bokeh.org/bokeh/release/bokeh-widgets-2.1.0.min.js\": \"NuAg9+TcTQQqvQCTtkCneRrpkTiMhhfiq0KHiBzx8ECiKiLWXHN6i6ia3q7b3eHu\", \"https://cdn.bokeh.org/bokeh/release/bokeh-tables-2.1.0.min.js\": \"uMVqQc8JqHitD67bXTn9a06Mrk3EiHRaZ18EJENQenAKJ/KL71SakdXYomZQpGRr\", \"https://cdn.bokeh.org/bokeh/release/bokeh-gl-2.1.0.min.js\": \"u+eGuEXC8aw0VSCm2mH+b/tQEAitUOYiR1H6SuIVEdUmXsf4vN8m/SmXpmjb7U/X\"};\n",
       "\n",
       "    for (var i = 0; i < js_urls.length; i++) {\n",
       "      var url = js_urls[i];\n",
       "      var element = document.createElement('script');\n",
       "      element.onload = on_load;\n",
       "      element.onerror = on_error;\n",
       "      element.async = false;\n",
       "      element.src = url;\n",
       "      if (url in hashes) {\n",
       "        element.crossOrigin = \"anonymous\";\n",
       "        element.integrity = \"sha384-\" + hashes[url];\n",
       "      }\n",
       "      console.debug(\"Bokeh: injecting script tag for BokehJS library: \", url);\n",
       "      document.head.appendChild(element);\n",
       "    }\n",
       "  };\n",
       "\n",
       "  function inject_raw_css(css) {\n",
       "    const element = document.createElement(\"style\");\n",
       "    element.appendChild(document.createTextNode(css));\n",
       "    document.body.appendChild(element);\n",
       "  }\n",
       "\n",
       "  \n",
       "  var js_urls = [\"https://cdn.bokeh.org/bokeh/release/bokeh-2.1.0.min.js\", \"https://cdn.bokeh.org/bokeh/release/bokeh-widgets-2.1.0.min.js\", \"https://cdn.bokeh.org/bokeh/release/bokeh-tables-2.1.0.min.js\", \"https://cdn.bokeh.org/bokeh/release/bokeh-gl-2.1.0.min.js\"];\n",
       "  var css_urls = [];\n",
       "  \n",
       "\n",
       "  var inline_js = [\n",
       "    function(Bokeh) {\n",
       "      Bokeh.set_log_level(\"info\");\n",
       "    },\n",
       "    function(Bokeh) {\n",
       "    \n",
       "    \n",
       "    }\n",
       "  ];\n",
       "\n",
       "  function run_inline_js() {\n",
       "    \n",
       "    if (root.Bokeh !== undefined || force === true) {\n",
       "      \n",
       "    for (var i = 0; i < inline_js.length; i++) {\n",
       "      inline_js[i].call(root, root.Bokeh);\n",
       "    }\n",
       "    if (force === true) {\n",
       "        display_loaded();\n",
       "      }} else if (Date.now() < root._bokeh_timeout) {\n",
       "      setTimeout(run_inline_js, 100);\n",
       "    } else if (!root._bokeh_failed_load) {\n",
       "      console.log(\"Bokeh: BokehJS failed to load within specified timeout.\");\n",
       "      root._bokeh_failed_load = true;\n",
       "    } else if (force !== true) {\n",
       "      var cell = $(document.getElementById(\"1001\")).parents('.cell').data().cell;\n",
       "      cell.output_area.append_execute_result(NB_LOAD_WARNING)\n",
       "    }\n",
       "\n",
       "  }\n",
       "\n",
       "  if (root._bokeh_is_loading === 0) {\n",
       "    console.debug(\"Bokeh: BokehJS loaded, going straight to plotting\");\n",
       "    run_inline_js();\n",
       "  } else {\n",
       "    load_libs(css_urls, js_urls, function() {\n",
       "      console.debug(\"Bokeh: BokehJS plotting callback run at\", now());\n",
       "      run_inline_js();\n",
       "    });\n",
       "  }\n",
       "}(window));"
      ],
      "application/vnd.bokehjs_load.v0+json": "\n(function(root) {\n  function now() {\n    return new Date();\n  }\n\n  var force = true;\n\n  if (typeof root._bokeh_onload_callbacks === \"undefined\" || force === true) {\n    root._bokeh_onload_callbacks = [];\n    root._bokeh_is_loading = undefined;\n  }\n\n  \n\n  \n  if (typeof (root._bokeh_timeout) === \"undefined\" || force === true) {\n    root._bokeh_timeout = Date.now() + 5000;\n    root._bokeh_failed_load = false;\n  }\n\n  var NB_LOAD_WARNING = {'data': {'text/html':\n     \"<div style='background-color: #fdd'>\\n\"+\n     \"<p>\\n\"+\n     \"BokehJS does not appear to have successfully loaded. If loading BokehJS from CDN, this \\n\"+\n     \"may be due to a slow or bad network connection. Possible fixes:\\n\"+\n     \"</p>\\n\"+\n     \"<ul>\\n\"+\n     \"<li>re-rerun `output_notebook()` to attempt to load from CDN again, or</li>\\n\"+\n     \"<li>use INLINE resources instead, as so:</li>\\n\"+\n     \"</ul>\\n\"+\n     \"<code>\\n\"+\n     \"from bokeh.resources import INLINE\\n\"+\n     \"output_notebook(resources=INLINE)\\n\"+\n     \"</code>\\n\"+\n     \"</div>\"}};\n\n  function display_loaded() {\n    var el = document.getElementById(\"1001\");\n    if (el != null) {\n      el.textContent = \"BokehJS is loading...\";\n    }\n    if (root.Bokeh !== undefined) {\n      if (el != null) {\n        el.textContent = \"BokehJS \" + root.Bokeh.version + \" successfully loaded.\";\n      }\n    } else if (Date.now() < root._bokeh_timeout) {\n      setTimeout(display_loaded, 100)\n    }\n  }\n\n\n  function run_callbacks() {\n    try {\n      root._bokeh_onload_callbacks.forEach(function(callback) {\n        if (callback != null)\n          callback();\n      });\n    } finally {\n      delete root._bokeh_onload_callbacks\n    }\n    console.debug(\"Bokeh: all callbacks have finished\");\n  }\n\n  function load_libs(css_urls, js_urls, callback) {\n    if (css_urls == null) css_urls = [];\n    if (js_urls == null) js_urls = [];\n\n    root._bokeh_onload_callbacks.push(callback);\n    if (root._bokeh_is_loading > 0) {\n      console.debug(\"Bokeh: BokehJS is being loaded, scheduling callback at\", now());\n      return null;\n    }\n    if (js_urls == null || js_urls.length === 0) {\n      run_callbacks();\n      return null;\n    }\n    console.debug(\"Bokeh: BokehJS not loaded, scheduling load and callback at\", now());\n    root._bokeh_is_loading = css_urls.length + js_urls.length;\n\n    function on_load() {\n      root._bokeh_is_loading--;\n      if (root._bokeh_is_loading === 0) {\n        console.debug(\"Bokeh: all BokehJS libraries/stylesheets loaded\");\n        run_callbacks()\n      }\n    }\n\n    function on_error() {\n      console.error(\"failed to load \" + url);\n    }\n\n    for (var i = 0; i < css_urls.length; i++) {\n      var url = css_urls[i];\n      const element = document.createElement(\"link\");\n      element.onload = on_load;\n      element.onerror = on_error;\n      element.rel = \"stylesheet\";\n      element.type = \"text/css\";\n      element.href = url;\n      console.debug(\"Bokeh: injecting link tag for BokehJS stylesheet: \", url);\n      document.body.appendChild(element);\n    }\n\n    const hashes = {\"https://cdn.bokeh.org/bokeh/release/bokeh-2.1.0.min.js\": \"YobFyzPeVUsFQydHkJGsJL1kyfHnWxOlPc3EwaV22TmBaeGoXHLWx5aRRVPS9xlE\", \"https://cdn.bokeh.org/bokeh/release/bokeh-widgets-2.1.0.min.js\": \"NuAg9+TcTQQqvQCTtkCneRrpkTiMhhfiq0KHiBzx8ECiKiLWXHN6i6ia3q7b3eHu\", \"https://cdn.bokeh.org/bokeh/release/bokeh-tables-2.1.0.min.js\": \"uMVqQc8JqHitD67bXTn9a06Mrk3EiHRaZ18EJENQenAKJ/KL71SakdXYomZQpGRr\", \"https://cdn.bokeh.org/bokeh/release/bokeh-gl-2.1.0.min.js\": \"u+eGuEXC8aw0VSCm2mH+b/tQEAitUOYiR1H6SuIVEdUmXsf4vN8m/SmXpmjb7U/X\"};\n\n    for (var i = 0; i < js_urls.length; i++) {\n      var url = js_urls[i];\n      var element = document.createElement('script');\n      element.onload = on_load;\n      element.onerror = on_error;\n      element.async = false;\n      element.src = url;\n      if (url in hashes) {\n        element.crossOrigin = \"anonymous\";\n        element.integrity = \"sha384-\" + hashes[url];\n      }\n      console.debug(\"Bokeh: injecting script tag for BokehJS library: \", url);\n      document.head.appendChild(element);\n    }\n  };\n\n  function inject_raw_css(css) {\n    const element = document.createElement(\"style\");\n    element.appendChild(document.createTextNode(css));\n    document.body.appendChild(element);\n  }\n\n  \n  var js_urls = [\"https://cdn.bokeh.org/bokeh/release/bokeh-2.1.0.min.js\", \"https://cdn.bokeh.org/bokeh/release/bokeh-widgets-2.1.0.min.js\", \"https://cdn.bokeh.org/bokeh/release/bokeh-tables-2.1.0.min.js\", \"https://cdn.bokeh.org/bokeh/release/bokeh-gl-2.1.0.min.js\"];\n  var css_urls = [];\n  \n\n  var inline_js = [\n    function(Bokeh) {\n      Bokeh.set_log_level(\"info\");\n    },\n    function(Bokeh) {\n    \n    \n    }\n  ];\n\n  function run_inline_js() {\n    \n    if (root.Bokeh !== undefined || force === true) {\n      \n    for (var i = 0; i < inline_js.length; i++) {\n      inline_js[i].call(root, root.Bokeh);\n    }\n    if (force === true) {\n        display_loaded();\n      }} else if (Date.now() < root._bokeh_timeout) {\n      setTimeout(run_inline_js, 100);\n    } else if (!root._bokeh_failed_load) {\n      console.log(\"Bokeh: BokehJS failed to load within specified timeout.\");\n      root._bokeh_failed_load = true;\n    } else if (force !== true) {\n      var cell = $(document.getElementById(\"1001\")).parents('.cell').data().cell;\n      cell.output_area.append_execute_result(NB_LOAD_WARNING)\n    }\n\n  }\n\n  if (root._bokeh_is_loading === 0) {\n    console.debug(\"Bokeh: BokehJS loaded, going straight to plotting\");\n    run_inline_js();\n  } else {\n    load_libs(css_urls, js_urls, function() {\n      console.debug(\"Bokeh: BokehJS plotting callback run at\", now());\n      run_inline_js();\n    });\n  }\n}(window));"
     },
     "metadata": {},
     "output_type": "display_data"
    }
   ],
   "source": [
    "# Imports -- make sure you run this cell!\n",
    "# This cell contains multiple import statements. Each import statement gives the notebook access to pre-bundled\n",
    "# python code that serves some functionality. The first import statement imports all of the python code in the\n",
    "# file tsp.py. You can open this file and examine it if you so choose!\n",
    "\n",
    "from tsp import *\n",
    "from bokeh.io import output_notebook\n",
    "output_notebook()"
   ]
  },
  {
   "cell_type": "markdown",
   "metadata": {},
   "source": [
    "In lectute, you learned about the traveling salesman problem (TSP). The input to this problem is a set of cities along with the distances between them. Our goal is to find a path that visits every city starting and ending at the same city that minimizes the distance traveled. We call a path like this a tour. \n",
    "\n",
    "Consider the following TSP problem consisting of 23 US cities. Fun fact: this instance comes from the Beyoncé *On the Run II Tour*."
   ]
  },
  {
   "cell_type": "code",
   "execution_count": 5,
   "metadata": {},
   "outputs": [
    {
     "data": {
      "text/html": [
       "<div>\n",
       "<style scoped>\n",
       "    .dataframe tbody tr th:only-of-type {\n",
       "        vertical-align: middle;\n",
       "    }\n",
       "\n",
       "    .dataframe tbody tr th {\n",
       "        vertical-align: top;\n",
       "    }\n",
       "\n",
       "    .dataframe thead th {\n",
       "        text-align: right;\n",
       "    }\n",
       "</style>\n",
       "<table border=\"1\" class=\"dataframe\">\n",
       "  <thead>\n",
       "    <tr style=\"text-align: right;\">\n",
       "      <th></th>\n",
       "      <th>name</th>\n",
       "      <th>x</th>\n",
       "      <th>y</th>\n",
       "    </tr>\n",
       "  </thead>\n",
       "  <tbody>\n",
       "    <tr>\n",
       "      <th>0</th>\n",
       "      <td>0.0</td>\n",
       "      <td>751.5</td>\n",
       "      <td>1235.8</td>\n",
       "    </tr>\n",
       "    <tr>\n",
       "      <th>1</th>\n",
       "      <td>1.0</td>\n",
       "      <td>634.6</td>\n",
       "      <td>200.4</td>\n",
       "    </tr>\n",
       "    <tr>\n",
       "      <th>2</th>\n",
       "      <td>2.0</td>\n",
       "      <td>701.4</td>\n",
       "      <td>-100.2</td>\n",
       "    </tr>\n",
       "    <tr>\n",
       "      <th>3</th>\n",
       "      <td>3.0</td>\n",
       "      <td>784.9</td>\n",
       "      <td>-267.2</td>\n",
       "    </tr>\n",
       "    <tr>\n",
       "      <th>4</th>\n",
       "      <td>4.0</td>\n",
       "      <td>985.3</td>\n",
       "      <td>-367.4</td>\n",
       "    </tr>\n",
       "    <tr>\n",
       "      <th>5</th>\n",
       "      <td>5.0</td>\n",
       "      <td>1753.5</td>\n",
       "      <td>768.2</td>\n",
       "    </tr>\n",
       "    <tr>\n",
       "      <th>6</th>\n",
       "      <td>6.0</td>\n",
       "      <td>1920.5</td>\n",
       "      <td>-801.6</td>\n",
       "    </tr>\n",
       "    <tr>\n",
       "      <th>7</th>\n",
       "      <td>7.0</td>\n",
       "      <td>2338.0</td>\n",
       "      <td>-868.4</td>\n",
       "    </tr>\n",
       "    <tr>\n",
       "      <th>8</th>\n",
       "      <td>8.0</td>\n",
       "      <td>2404.8</td>\n",
       "      <td>-1102.2</td>\n",
       "    </tr>\n",
       "    <tr>\n",
       "      <th>9</th>\n",
       "      <td>9.0</td>\n",
       "      <td>2187.7</td>\n",
       "      <td>-400.8</td>\n",
       "    </tr>\n",
       "    <tr>\n",
       "      <th>10</th>\n",
       "      <td>10.0</td>\n",
       "      <td>2321.3</td>\n",
       "      <td>-300.6</td>\n",
       "    </tr>\n",
       "    <tr>\n",
       "      <th>11</th>\n",
       "      <td>11.0</td>\n",
       "      <td>2471.6</td>\n",
       "      <td>334.0</td>\n",
       "    </tr>\n",
       "    <tr>\n",
       "      <th>12</th>\n",
       "      <td>12.0</td>\n",
       "      <td>2505.0</td>\n",
       "      <td>467.6</td>\n",
       "    </tr>\n",
       "    <tr>\n",
       "      <th>13</th>\n",
       "      <td>13.0</td>\n",
       "      <td>2605.2</td>\n",
       "      <td>668.0</td>\n",
       "    </tr>\n",
       "    <tr>\n",
       "      <th>14</th>\n",
       "      <td>14.0</td>\n",
       "      <td>1987.3</td>\n",
       "      <td>400.8</td>\n",
       "    </tr>\n",
       "    <tr>\n",
       "      <th>15</th>\n",
       "      <td>15.0</td>\n",
       "      <td>2070.8</td>\n",
       "      <td>-133.6</td>\n",
       "    </tr>\n",
       "    <tr>\n",
       "      <th>16</th>\n",
       "      <td>16.0</td>\n",
       "      <td>2421.5</td>\n",
       "      <td>233.8</td>\n",
       "    </tr>\n",
       "    <tr>\n",
       "      <th>17</th>\n",
       "      <td>17.0</td>\n",
       "      <td>2321.3</td>\n",
       "      <td>668.0</td>\n",
       "    </tr>\n",
       "    <tr>\n",
       "      <th>18</th>\n",
       "      <td>18.0</td>\n",
       "      <td>2187.7</td>\n",
       "      <td>267.2</td>\n",
       "    </tr>\n",
       "    <tr>\n",
       "      <th>19</th>\n",
       "      <td>19.0</td>\n",
       "      <td>2237.8</td>\n",
       "      <td>434.2</td>\n",
       "    </tr>\n",
       "    <tr>\n",
       "      <th>20</th>\n",
       "      <td>20.0</td>\n",
       "      <td>2154.3</td>\n",
       "      <td>534.4</td>\n",
       "    </tr>\n",
       "    <tr>\n",
       "      <th>21</th>\n",
       "      <td>21.0</td>\n",
       "      <td>1619.9</td>\n",
       "      <td>-501.0</td>\n",
       "    </tr>\n",
       "    <tr>\n",
       "      <th>22</th>\n",
       "      <td>22.0</td>\n",
       "      <td>1670.0</td>\n",
       "      <td>-868.4</td>\n",
       "    </tr>\n",
       "  </tbody>\n",
       "</table>\n",
       "</div>"
      ],
      "text/plain": [
       "    name       x       y\n",
       "0    0.0   751.5  1235.8\n",
       "1    1.0   634.6   200.4\n",
       "2    2.0   701.4  -100.2\n",
       "3    3.0   784.9  -267.2\n",
       "4    4.0   985.3  -367.4\n",
       "5    5.0  1753.5   768.2\n",
       "6    6.0  1920.5  -801.6\n",
       "7    7.0  2338.0  -868.4\n",
       "8    8.0  2404.8 -1102.2\n",
       "9    9.0  2187.7  -400.8\n",
       "10  10.0  2321.3  -300.6\n",
       "11  11.0  2471.6   334.0\n",
       "12  12.0  2505.0   467.6\n",
       "13  13.0  2605.2   668.0\n",
       "14  14.0  1987.3   400.8\n",
       "15  15.0  2070.8  -133.6\n",
       "16  16.0  2421.5   233.8\n",
       "17  17.0  2321.3   668.0\n",
       "18  18.0  2187.7   267.2\n",
       "19  19.0  2237.8   434.2\n",
       "20  20.0  2154.3   534.4\n",
       "21  21.0  1619.9  -501.0\n",
       "22  22.0  1670.0  -868.4"
      ]
     },
     "metadata": {},
     "output_type": "display_data"
    }
   ],
   "source": [
    "# This cell imports a CSV file called us_cities_23.csv. We will often import CSV files.\n",
    "# The data from the CSV file is put in the variable nodes.\n",
    "# Using display(), we can see the contents of this file: each city (node) and its (x,y) position.\n",
    "nodes = pd.read_csv('data/us_cities_23.csv', index_col=0)\n",
    "display(nodes)"
   ]
  },
  {
   "cell_type": "markdown",
   "metadata": {},
   "source": [
    "Before we try to solve the TSP instance, we need to generate the distances between each of the 23 cities. The function `distance_matrix` (described in `tsp.py`) does just this! The entry $(i,j)$ in the distance matrix gives the distance from city $i$ to city $j$.\n",
    "\n",
    "**NOTE:** The function `distance_matrix` takes a parameter called manhattan. If manhattan is true, the manhatten distance is computed. Otherwise, the euclidean distance is computed. For a city located at $(a,b)$ and a city at $(c,d)$, the manhattan distance is $|c-a| + |d-b|$ (horizontal distance plus the vertical distance). The euclidean distance is $\\sqrt{(c-a)^2 + (d-b)^2}$ (striaght-line distance)."
   ]
  },
  {
   "cell_type": "code",
   "execution_count": 6,
   "metadata": {},
   "outputs": [
    {
     "data": {
      "text/html": [
       "<div>\n",
       "<style scoped>\n",
       "    .dataframe tbody tr th:only-of-type {\n",
       "        vertical-align: middle;\n",
       "    }\n",
       "\n",
       "    .dataframe tbody tr th {\n",
       "        vertical-align: top;\n",
       "    }\n",
       "\n",
       "    .dataframe thead th {\n",
       "        text-align: right;\n",
       "    }\n",
       "</style>\n",
       "<table border=\"1\" class=\"dataframe\">\n",
       "  <thead>\n",
       "    <tr style=\"text-align: right;\">\n",
       "      <th></th>\n",
       "      <th>0</th>\n",
       "      <th>1</th>\n",
       "      <th>2</th>\n",
       "      <th>3</th>\n",
       "      <th>4</th>\n",
       "      <th>5</th>\n",
       "      <th>6</th>\n",
       "      <th>7</th>\n",
       "      <th>8</th>\n",
       "      <th>9</th>\n",
       "      <th>...</th>\n",
       "      <th>13</th>\n",
       "      <th>14</th>\n",
       "      <th>15</th>\n",
       "      <th>16</th>\n",
       "      <th>17</th>\n",
       "      <th>18</th>\n",
       "      <th>19</th>\n",
       "      <th>20</th>\n",
       "      <th>21</th>\n",
       "      <th>22</th>\n",
       "    </tr>\n",
       "  </thead>\n",
       "  <tbody>\n",
       "    <tr>\n",
       "      <th>0</th>\n",
       "      <td>0.000000</td>\n",
       "      <td>1041.978296</td>\n",
       "      <td>1336.939045</td>\n",
       "      <td>1503.371065</td>\n",
       "      <td>1620.158227</td>\n",
       "      <td>1105.736750</td>\n",
       "      <td>2348.948650</td>\n",
       "      <td>2635.268466</td>\n",
       "      <td>2863.502207</td>\n",
       "      <td>2177.413603</td>\n",
       "      <td>...</td>\n",
       "      <td>1938.711049</td>\n",
       "      <td>1491.451186</td>\n",
       "      <td>1901.528030</td>\n",
       "      <td>1947.537933</td>\n",
       "      <td>1669.331866</td>\n",
       "      <td>1732.298011</td>\n",
       "      <td>1688.682993</td>\n",
       "      <td>1568.378079</td>\n",
       "      <td>1941.801432</td>\n",
       "      <td>2295.931160</td>\n",
       "    </tr>\n",
       "    <tr>\n",
       "      <th>1</th>\n",
       "      <td>1041.978296</td>\n",
       "      <td>0.000011</td>\n",
       "      <td>307.932785</td>\n",
       "      <td>491.161735</td>\n",
       "      <td>667.373456</td>\n",
       "      <td>1254.724691</td>\n",
       "      <td>1630.197169</td>\n",
       "      <td>2010.946295</td>\n",
       "      <td>2197.811366</td>\n",
       "      <td>1665.401168</td>\n",
       "      <td>...</td>\n",
       "      <td>2025.318276</td>\n",
       "      <td>1367.463875</td>\n",
       "      <td>1474.525836</td>\n",
       "      <td>1787.212122</td>\n",
       "      <td>1750.316157</td>\n",
       "      <td>1554.535895</td>\n",
       "      <td>1620.158227</td>\n",
       "      <td>1555.970466</td>\n",
       "      <td>1209.453616</td>\n",
       "      <td>1488.081517</td>\n",
       "    </tr>\n",
       "    <tr>\n",
       "      <th>2</th>\n",
       "      <td>1336.939045</td>\n",
       "      <td>307.932785</td>\n",
       "      <td>0.000000</td>\n",
       "      <td>186.711676</td>\n",
       "      <td>389.865425</td>\n",
       "      <td>1364.196822</td>\n",
       "      <td>1406.473167</td>\n",
       "      <td>1807.924445</td>\n",
       "      <td>1976.252909</td>\n",
       "      <td>1516.393105</td>\n",
       "      <td>...</td>\n",
       "      <td>2052.945611</td>\n",
       "      <td>1380.050655</td>\n",
       "      <td>1369.807257</td>\n",
       "      <td>1752.227157</td>\n",
       "      <td>1792.821031</td>\n",
       "      <td>1531.035744</td>\n",
       "      <td>1626.686300</td>\n",
       "      <td>1585.444912</td>\n",
       "      <td>1002.139157</td>\n",
       "      <td>1236.251269</td>\n",
       "    </tr>\n",
       "    <tr>\n",
       "      <th>3</th>\n",
       "      <td>1503.371065</td>\n",
       "      <td>491.161735</td>\n",
       "      <td>186.711676</td>\n",
       "      <td>0.000000</td>\n",
       "      <td>224.054011</td>\n",
       "      <td>1417.829016</td>\n",
       "      <td>1255.058054</td>\n",
       "      <td>1665.401168</td>\n",
       "      <td>1822.443692</td>\n",
       "      <td>1409.147544</td>\n",
       "      <td>...</td>\n",
       "      <td>2046.482624</td>\n",
       "      <td>1375.496187</td>\n",
       "      <td>1292.821631</td>\n",
       "      <td>1711.566698</td>\n",
       "      <td>1798.645046</td>\n",
       "      <td>1501.143298</td>\n",
       "      <td>1613.344467</td>\n",
       "      <td>1586.763662</td>\n",
       "      <td>867.114433</td>\n",
       "      <td>1069.973574</td>\n",
       "    </tr>\n",
       "    <tr>\n",
       "      <th>4</th>\n",
       "      <td>1620.158227</td>\n",
       "      <td>667.373456</td>\n",
       "      <td>389.865425</td>\n",
       "      <td>224.054011</td>\n",
       "      <td>0.000000</td>\n",
       "      <td>1371.028300</td>\n",
       "      <td>1031.081316</td>\n",
       "      <td>1442.497241</td>\n",
       "      <td>1598.408987</td>\n",
       "      <td>1202.863799</td>\n",
       "      <td>...</td>\n",
       "      <td>1922.531969</td>\n",
       "      <td>1262.590686</td>\n",
       "      <td>1110.393034</td>\n",
       "      <td>1556.955966</td>\n",
       "      <td>1690.251212</td>\n",
       "      <td>1359.589247</td>\n",
       "      <td>1487.050372</td>\n",
       "      <td>1476.416012</td>\n",
       "      <td>648.510694</td>\n",
       "      <td>848.419171</td>\n",
       "    </tr>\n",
       "    <tr>\n",
       "      <th>5</th>\n",
       "      <td>1105.736750</td>\n",
       "      <td>1254.724691</td>\n",
       "      <td>1364.196822</td>\n",
       "      <td>1417.829016</td>\n",
       "      <td>1371.028300</td>\n",
       "      <td>0.000000</td>\n",
       "      <td>1578.657987</td>\n",
       "      <td>1737.843437</td>\n",
       "      <td>1980.552410</td>\n",
       "      <td>1247.032734</td>\n",
       "      <td>...</td>\n",
       "      <td>857.573863</td>\n",
       "      <td>435.482721</td>\n",
       "      <td>955.992955</td>\n",
       "      <td>855.457398</td>\n",
       "      <td>576.573395</td>\n",
       "      <td>662.971070</td>\n",
       "      <td>588.304759</td>\n",
       "      <td>464.007629</td>\n",
       "      <td>1276.212208</td>\n",
       "      <td>1638.728718</td>\n",
       "    </tr>\n",
       "    <tr>\n",
       "      <th>6</th>\n",
       "      <td>2348.948650</td>\n",
       "      <td>1630.197169</td>\n",
       "      <td>1406.473167</td>\n",
       "      <td>1255.058054</td>\n",
       "      <td>1031.081316</td>\n",
       "      <td>1578.657987</td>\n",
       "      <td>0.000000</td>\n",
       "      <td>422.810229</td>\n",
       "      <td>570.006009</td>\n",
       "      <td>481.701650</td>\n",
       "      <td>...</td>\n",
       "      <td>1621.276735</td>\n",
       "      <td>1204.254126</td>\n",
       "      <td>684.700000</td>\n",
       "      <td>1150.240914</td>\n",
       "      <td>1523.274368</td>\n",
       "      <td>1101.693823</td>\n",
       "      <td>1275.884372</td>\n",
       "      <td>1356.303226</td>\n",
       "      <td>425.112597</td>\n",
       "      <td>259.253717</td>\n",
       "    </tr>\n",
       "    <tr>\n",
       "      <th>7</th>\n",
       "      <td>2635.268466</td>\n",
       "      <td>2010.946295</td>\n",
       "      <td>1807.924445</td>\n",
       "      <td>1665.401168</td>\n",
       "      <td>1442.497241</td>\n",
       "      <td>1737.843437</td>\n",
       "      <td>422.810229</td>\n",
       "      <td>0.000000</td>\n",
       "      <td>243.155670</td>\n",
       "      <td>491.161735</td>\n",
       "      <td>...</td>\n",
       "      <td>1559.461702</td>\n",
       "      <td>1316.760848</td>\n",
       "      <td>781.873954</td>\n",
       "      <td>1105.358354</td>\n",
       "      <td>1536.490758</td>\n",
       "      <td>1145.503143</td>\n",
       "      <td>1306.448162</td>\n",
       "      <td>1414.776848</td>\n",
       "      <td>806.629016</td>\n",
       "      <td>668.000000</td>\n",
       "    </tr>\n",
       "    <tr>\n",
       "      <th>8</th>\n",
       "      <td>2863.502207</td>\n",
       "      <td>2197.811366</td>\n",
       "      <td>1976.252909</td>\n",
       "      <td>1822.443692</td>\n",
       "      <td>1598.408987</td>\n",
       "      <td>1980.552410</td>\n",
       "      <td>570.006009</td>\n",
       "      <td>243.155670</td>\n",
       "      <td>0.000000</td>\n",
       "      <td>734.230461</td>\n",
       "      <td>...</td>\n",
       "      <td>1781.507283</td>\n",
       "      <td>1559.908731</td>\n",
       "      <td>1024.569158</td>\n",
       "      <td>1336.104371</td>\n",
       "      <td>1772.168245</td>\n",
       "      <td>1386.502351</td>\n",
       "      <td>1545.449436</td>\n",
       "      <td>1655.659932</td>\n",
       "      <td>988.690776</td>\n",
       "      <td>771.098878</td>\n",
       "    </tr>\n",
       "    <tr>\n",
       "      <th>9</th>\n",
       "      <td>2177.413603</td>\n",
       "      <td>1665.401168</td>\n",
       "      <td>1516.393105</td>\n",
       "      <td>1409.147544</td>\n",
       "      <td>1202.863799</td>\n",
       "      <td>1247.032734</td>\n",
       "      <td>481.701650</td>\n",
       "      <td>491.161735</td>\n",
       "      <td>734.230461</td>\n",
       "      <td>0.000000</td>\n",
       "      <td>...</td>\n",
       "      <td>1147.449210</td>\n",
       "      <td>826.270367</td>\n",
       "      <td>291.652962</td>\n",
       "      <td>676.298455</td>\n",
       "      <td>1077.117635</td>\n",
       "      <td>668.000000</td>\n",
       "      <td>836.501650</td>\n",
       "      <td>935.796239</td>\n",
       "      <td>576.573395</td>\n",
       "      <td>697.612392</td>\n",
       "    </tr>\n",
       "    <tr>\n",
       "      <th>10</th>\n",
       "      <td>2196.542055</td>\n",
       "      <td>1759.533430</td>\n",
       "      <td>1632.248808</td>\n",
       "      <td>1536.763001</td>\n",
       "      <td>1337.668958</td>\n",
       "      <td>1210.260418</td>\n",
       "      <td>641.593049</td>\n",
       "      <td>568.045535</td>\n",
       "      <td>805.937225</td>\n",
       "      <td>167.000000</td>\n",
       "      <td>...</td>\n",
       "      <td>1009.348884</td>\n",
       "      <td>776.864184</td>\n",
       "      <td>301.063532</td>\n",
       "      <td>543.712608</td>\n",
       "      <td>968.600000</td>\n",
       "      <td>583.305923</td>\n",
       "      <td>739.529100</td>\n",
       "      <td>851.536259</td>\n",
       "      <td>729.467011</td>\n",
       "      <td>864.053546</td>\n",
       "    </tr>\n",
       "    <tr>\n",
       "      <th>11</th>\n",
       "      <td>1942.160459</td>\n",
       "      <td>1841.851775</td>\n",
       "      <td>1822.673224</td>\n",
       "      <td>1790.641877</td>\n",
       "      <td>1643.487040</td>\n",
       "      <td>839.164614</td>\n",
       "      <td>1262.259312</td>\n",
       "      <td>1209.799454</td>\n",
       "      <td>1437.752649</td>\n",
       "      <td>787.737425</td>\n",
       "      <td>...</td>\n",
       "      <td>359.729009</td>\n",
       "      <td>488.885191</td>\n",
       "      <td>615.865570</td>\n",
       "      <td>112.027006</td>\n",
       "      <td>366.259594</td>\n",
       "      <td>291.652962</td>\n",
       "      <td>254.366822</td>\n",
       "      <td>375.285824</td>\n",
       "      <td>1192.735465</td>\n",
       "      <td>1445.104951</td>\n",
       "    </tr>\n",
       "    <tr>\n",
       "      <th>12</th>\n",
       "      <td>1914.391154</td>\n",
       "      <td>1889.389319</td>\n",
       "      <td>1890.864829</td>\n",
       "      <td>1870.474552</td>\n",
       "      <td>1733.987627</td>\n",
       "      <td>809.390271</td>\n",
       "      <td>1397.322042</td>\n",
       "      <td>1346.397044</td>\n",
       "      <td>1572.994622</td>\n",
       "      <td>924.552784</td>\n",
       "      <td>...</td>\n",
       "      <td>224.054011</td>\n",
       "      <td>521.991887</td>\n",
       "      <td>741.600351</td>\n",
       "      <td>248.263348</td>\n",
       "      <td>271.856304</td>\n",
       "      <td>375.285824</td>\n",
       "      <td>269.279409</td>\n",
       "      <td>357.005224</td>\n",
       "      <td>1312.092973</td>\n",
       "      <td>1575.474849</td>\n",
       "    </tr>\n",
       "    <tr>\n",
       "      <th>13</th>\n",
       "      <td>1938.711049</td>\n",
       "      <td>2025.318276</td>\n",
       "      <td>2052.945611</td>\n",
       "      <td>2046.482624</td>\n",
       "      <td>1922.531969</td>\n",
       "      <td>857.573863</td>\n",
       "      <td>1621.276735</td>\n",
       "      <td>1559.461702</td>\n",
       "      <td>1781.507283</td>\n",
       "      <td>1147.449210</td>\n",
       "      <td>...</td>\n",
       "      <td>0.000000</td>\n",
       "      <td>673.198522</td>\n",
       "      <td>963.403301</td>\n",
       "      <td>471.460847</td>\n",
       "      <td>283.900000</td>\n",
       "      <td>578.745963</td>\n",
       "      <td>435.482721</td>\n",
       "      <td>470.276270</td>\n",
       "      <td>1528.848289</td>\n",
       "      <td>1798.645046</td>\n",
       "    </tr>\n",
       "    <tr>\n",
       "      <th>14</th>\n",
       "      <td>1491.451186</td>\n",
       "      <td>1367.463875</td>\n",
       "      <td>1380.050655</td>\n",
       "      <td>1375.496187</td>\n",
       "      <td>1262.590686</td>\n",
       "      <td>435.482721</td>\n",
       "      <td>1204.254126</td>\n",
       "      <td>1316.760848</td>\n",
       "      <td>1559.908731</td>\n",
       "      <td>826.270367</td>\n",
       "      <td>...</td>\n",
       "      <td>673.198522</td>\n",
       "      <td>0.000000</td>\n",
       "      <td>540.884100</td>\n",
       "      <td>465.208168</td>\n",
       "      <td>427.728699</td>\n",
       "      <td>240.850825</td>\n",
       "      <td>252.716857</td>\n",
       "      <td>213.864350</td>\n",
       "      <td>973.768966</td>\n",
       "      <td>1308.261415</td>\n",
       "    </tr>\n",
       "    <tr>\n",
       "      <th>15</th>\n",
       "      <td>1901.528030</td>\n",
       "      <td>1474.525836</td>\n",
       "      <td>1369.807257</td>\n",
       "      <td>1292.821631</td>\n",
       "      <td>1110.393034</td>\n",
       "      <td>955.992955</td>\n",
       "      <td>684.700000</td>\n",
       "      <td>781.873954</td>\n",
       "      <td>1024.569158</td>\n",
       "      <td>291.652962</td>\n",
       "      <td>...</td>\n",
       "      <td>963.403301</td>\n",
       "      <td>540.884100</td>\n",
       "      <td>0.000000</td>\n",
       "      <td>507.910671</td>\n",
       "      <td>839.829036</td>\n",
       "      <td>417.500000</td>\n",
       "      <td>591.849508</td>\n",
       "      <td>673.198522</td>\n",
       "      <td>581.630097</td>\n",
       "      <td>837.001601</td>\n",
       "    </tr>\n",
       "    <tr>\n",
       "      <th>16</th>\n",
       "      <td>1947.537933</td>\n",
       "      <td>1787.212122</td>\n",
       "      <td>1752.227157</td>\n",
       "      <td>1711.566698</td>\n",
       "      <td>1556.955966</td>\n",
       "      <td>855.457398</td>\n",
       "      <td>1150.240914</td>\n",
       "      <td>1105.358354</td>\n",
       "      <td>1336.104371</td>\n",
       "      <td>676.298455</td>\n",
       "      <td>...</td>\n",
       "      <td>471.460847</td>\n",
       "      <td>465.208168</td>\n",
       "      <td>507.910671</td>\n",
       "      <td>0.000000</td>\n",
       "      <td>445.611580</td>\n",
       "      <td>236.173665</td>\n",
       "      <td>271.856304</td>\n",
       "      <td>402.189259</td>\n",
       "      <td>1087.425216</td>\n",
       "      <td>1334.015401</td>\n",
       "    </tr>\n",
       "    <tr>\n",
       "      <th>17</th>\n",
       "      <td>1669.331866</td>\n",
       "      <td>1750.316157</td>\n",
       "      <td>1792.821031</td>\n",
       "      <td>1798.645046</td>\n",
       "      <td>1690.251212</td>\n",
       "      <td>576.573395</td>\n",
       "      <td>1523.274368</td>\n",
       "      <td>1536.490758</td>\n",
       "      <td>1772.168245</td>\n",
       "      <td>1077.117635</td>\n",
       "      <td>...</td>\n",
       "      <td>283.900000</td>\n",
       "      <td>427.728699</td>\n",
       "      <td>839.829036</td>\n",
       "      <td>445.611580</td>\n",
       "      <td>0.000000</td>\n",
       "      <td>422.480295</td>\n",
       "      <td>248.263348</td>\n",
       "      <td>213.864350</td>\n",
       "      <td>1363.276553</td>\n",
       "      <td>1668.747030</td>\n",
       "    </tr>\n",
       "    <tr>\n",
       "      <th>18</th>\n",
       "      <td>1732.298011</td>\n",
       "      <td>1554.535895</td>\n",
       "      <td>1531.035744</td>\n",
       "      <td>1501.143298</td>\n",
       "      <td>1359.589247</td>\n",
       "      <td>662.971070</td>\n",
       "      <td>1101.693823</td>\n",
       "      <td>1145.503143</td>\n",
       "      <td>1386.502351</td>\n",
       "      <td>668.000000</td>\n",
       "      <td>...</td>\n",
       "      <td>578.745963</td>\n",
       "      <td>240.850825</td>\n",
       "      <td>417.500000</td>\n",
       "      <td>236.173665</td>\n",
       "      <td>422.480295</td>\n",
       "      <td>0.000000</td>\n",
       "      <td>174.353119</td>\n",
       "      <td>269.279409</td>\n",
       "      <td>955.263356</td>\n",
       "      <td>1248.038721</td>\n",
       "    </tr>\n",
       "    <tr>\n",
       "      <th>19</th>\n",
       "      <td>1688.682993</td>\n",
       "      <td>1620.158227</td>\n",
       "      <td>1626.686300</td>\n",
       "      <td>1613.344467</td>\n",
       "      <td>1487.050372</td>\n",
       "      <td>588.304759</td>\n",
       "      <td>1275.884372</td>\n",
       "      <td>1306.448162</td>\n",
       "      <td>1545.449436</td>\n",
       "      <td>836.501650</td>\n",
       "      <td>...</td>\n",
       "      <td>435.482721</td>\n",
       "      <td>252.716857</td>\n",
       "      <td>591.849508</td>\n",
       "      <td>271.856304</td>\n",
       "      <td>248.263348</td>\n",
       "      <td>174.353119</td>\n",
       "      <td>0.000000</td>\n",
       "      <td>130.431170</td>\n",
       "      <td>1120.892256</td>\n",
       "      <td>1420.972765</td>\n",
       "    </tr>\n",
       "    <tr>\n",
       "      <th>20</th>\n",
       "      <td>1568.378079</td>\n",
       "      <td>1555.970466</td>\n",
       "      <td>1585.444912</td>\n",
       "      <td>1586.763662</td>\n",
       "      <td>1476.416012</td>\n",
       "      <td>464.007629</td>\n",
       "      <td>1356.303226</td>\n",
       "      <td>1414.776848</td>\n",
       "      <td>1655.659932</td>\n",
       "      <td>935.796239</td>\n",
       "      <td>...</td>\n",
       "      <td>470.276270</td>\n",
       "      <td>213.864350</td>\n",
       "      <td>673.198522</td>\n",
       "      <td>402.189259</td>\n",
       "      <td>213.864350</td>\n",
       "      <td>269.279409</td>\n",
       "      <td>130.431170</td>\n",
       "      <td>0.000000</td>\n",
       "      <td>1165.176605</td>\n",
       "      <td>1484.046606</td>\n",
       "    </tr>\n",
       "    <tr>\n",
       "      <th>21</th>\n",
       "      <td>1941.801432</td>\n",
       "      <td>1209.453616</td>\n",
       "      <td>1002.139157</td>\n",
       "      <td>867.114433</td>\n",
       "      <td>648.510694</td>\n",
       "      <td>1276.212208</td>\n",
       "      <td>425.112597</td>\n",
       "      <td>806.629016</td>\n",
       "      <td>988.690776</td>\n",
       "      <td>576.573395</td>\n",
       "      <td>...</td>\n",
       "      <td>1528.848289</td>\n",
       "      <td>973.768966</td>\n",
       "      <td>581.630097</td>\n",
       "      <td>1087.425216</td>\n",
       "      <td>1363.276553</td>\n",
       "      <td>955.263356</td>\n",
       "      <td>1120.892256</td>\n",
       "      <td>1165.176605</td>\n",
       "      <td>0.000000</td>\n",
       "      <td>370.800175</td>\n",
       "    </tr>\n",
       "    <tr>\n",
       "      <th>22</th>\n",
       "      <td>2295.931160</td>\n",
       "      <td>1488.081517</td>\n",
       "      <td>1236.251269</td>\n",
       "      <td>1069.973574</td>\n",
       "      <td>848.419171</td>\n",
       "      <td>1638.728718</td>\n",
       "      <td>259.253717</td>\n",
       "      <td>668.000000</td>\n",
       "      <td>771.098878</td>\n",
       "      <td>697.612392</td>\n",
       "      <td>...</td>\n",
       "      <td>1798.645046</td>\n",
       "      <td>1308.261415</td>\n",
       "      <td>837.001601</td>\n",
       "      <td>1334.015401</td>\n",
       "      <td>1668.747030</td>\n",
       "      <td>1248.038721</td>\n",
       "      <td>1420.972765</td>\n",
       "      <td>1484.046606</td>\n",
       "      <td>370.800175</td>\n",
       "      <td>0.000000</td>\n",
       "    </tr>\n",
       "  </tbody>\n",
       "</table>\n",
       "<p>23 rows × 23 columns</p>\n",
       "</div>"
      ],
      "text/plain": [
       "             0            1            2            3            4   \\\n",
       "0      0.000000  1041.978296  1336.939045  1503.371065  1620.158227   \n",
       "1   1041.978296     0.000011   307.932785   491.161735   667.373456   \n",
       "2   1336.939045   307.932785     0.000000   186.711676   389.865425   \n",
       "3   1503.371065   491.161735   186.711676     0.000000   224.054011   \n",
       "4   1620.158227   667.373456   389.865425   224.054011     0.000000   \n",
       "5   1105.736750  1254.724691  1364.196822  1417.829016  1371.028300   \n",
       "6   2348.948650  1630.197169  1406.473167  1255.058054  1031.081316   \n",
       "7   2635.268466  2010.946295  1807.924445  1665.401168  1442.497241   \n",
       "8   2863.502207  2197.811366  1976.252909  1822.443692  1598.408987   \n",
       "9   2177.413603  1665.401168  1516.393105  1409.147544  1202.863799   \n",
       "10  2196.542055  1759.533430  1632.248808  1536.763001  1337.668958   \n",
       "11  1942.160459  1841.851775  1822.673224  1790.641877  1643.487040   \n",
       "12  1914.391154  1889.389319  1890.864829  1870.474552  1733.987627   \n",
       "13  1938.711049  2025.318276  2052.945611  2046.482624  1922.531969   \n",
       "14  1491.451186  1367.463875  1380.050655  1375.496187  1262.590686   \n",
       "15  1901.528030  1474.525836  1369.807257  1292.821631  1110.393034   \n",
       "16  1947.537933  1787.212122  1752.227157  1711.566698  1556.955966   \n",
       "17  1669.331866  1750.316157  1792.821031  1798.645046  1690.251212   \n",
       "18  1732.298011  1554.535895  1531.035744  1501.143298  1359.589247   \n",
       "19  1688.682993  1620.158227  1626.686300  1613.344467  1487.050372   \n",
       "20  1568.378079  1555.970466  1585.444912  1586.763662  1476.416012   \n",
       "21  1941.801432  1209.453616  1002.139157   867.114433   648.510694   \n",
       "22  2295.931160  1488.081517  1236.251269  1069.973574   848.419171   \n",
       "\n",
       "             5            6            7            8            9   ...  \\\n",
       "0   1105.736750  2348.948650  2635.268466  2863.502207  2177.413603  ...   \n",
       "1   1254.724691  1630.197169  2010.946295  2197.811366  1665.401168  ...   \n",
       "2   1364.196822  1406.473167  1807.924445  1976.252909  1516.393105  ...   \n",
       "3   1417.829016  1255.058054  1665.401168  1822.443692  1409.147544  ...   \n",
       "4   1371.028300  1031.081316  1442.497241  1598.408987  1202.863799  ...   \n",
       "5      0.000000  1578.657987  1737.843437  1980.552410  1247.032734  ...   \n",
       "6   1578.657987     0.000000   422.810229   570.006009   481.701650  ...   \n",
       "7   1737.843437   422.810229     0.000000   243.155670   491.161735  ...   \n",
       "8   1980.552410   570.006009   243.155670     0.000000   734.230461  ...   \n",
       "9   1247.032734   481.701650   491.161735   734.230461     0.000000  ...   \n",
       "10  1210.260418   641.593049   568.045535   805.937225   167.000000  ...   \n",
       "11   839.164614  1262.259312  1209.799454  1437.752649   787.737425  ...   \n",
       "12   809.390271  1397.322042  1346.397044  1572.994622   924.552784  ...   \n",
       "13   857.573863  1621.276735  1559.461702  1781.507283  1147.449210  ...   \n",
       "14   435.482721  1204.254126  1316.760848  1559.908731   826.270367  ...   \n",
       "15   955.992955   684.700000   781.873954  1024.569158   291.652962  ...   \n",
       "16   855.457398  1150.240914  1105.358354  1336.104371   676.298455  ...   \n",
       "17   576.573395  1523.274368  1536.490758  1772.168245  1077.117635  ...   \n",
       "18   662.971070  1101.693823  1145.503143  1386.502351   668.000000  ...   \n",
       "19   588.304759  1275.884372  1306.448162  1545.449436   836.501650  ...   \n",
       "20   464.007629  1356.303226  1414.776848  1655.659932   935.796239  ...   \n",
       "21  1276.212208   425.112597   806.629016   988.690776   576.573395  ...   \n",
       "22  1638.728718   259.253717   668.000000   771.098878   697.612392  ...   \n",
       "\n",
       "             13           14           15           16           17  \\\n",
       "0   1938.711049  1491.451186  1901.528030  1947.537933  1669.331866   \n",
       "1   2025.318276  1367.463875  1474.525836  1787.212122  1750.316157   \n",
       "2   2052.945611  1380.050655  1369.807257  1752.227157  1792.821031   \n",
       "3   2046.482624  1375.496187  1292.821631  1711.566698  1798.645046   \n",
       "4   1922.531969  1262.590686  1110.393034  1556.955966  1690.251212   \n",
       "5    857.573863   435.482721   955.992955   855.457398   576.573395   \n",
       "6   1621.276735  1204.254126   684.700000  1150.240914  1523.274368   \n",
       "7   1559.461702  1316.760848   781.873954  1105.358354  1536.490758   \n",
       "8   1781.507283  1559.908731  1024.569158  1336.104371  1772.168245   \n",
       "9   1147.449210   826.270367   291.652962   676.298455  1077.117635   \n",
       "10  1009.348884   776.864184   301.063532   543.712608   968.600000   \n",
       "11   359.729009   488.885191   615.865570   112.027006   366.259594   \n",
       "12   224.054011   521.991887   741.600351   248.263348   271.856304   \n",
       "13     0.000000   673.198522   963.403301   471.460847   283.900000   \n",
       "14   673.198522     0.000000   540.884100   465.208168   427.728699   \n",
       "15   963.403301   540.884100     0.000000   507.910671   839.829036   \n",
       "16   471.460847   465.208168   507.910671     0.000000   445.611580   \n",
       "17   283.900000   427.728699   839.829036   445.611580     0.000000   \n",
       "18   578.745963   240.850825   417.500000   236.173665   422.480295   \n",
       "19   435.482721   252.716857   591.849508   271.856304   248.263348   \n",
       "20   470.276270   213.864350   673.198522   402.189259   213.864350   \n",
       "21  1528.848289   973.768966   581.630097  1087.425216  1363.276553   \n",
       "22  1798.645046  1308.261415   837.001601  1334.015401  1668.747030   \n",
       "\n",
       "             18           19           20           21           22  \n",
       "0   1732.298011  1688.682993  1568.378079  1941.801432  2295.931160  \n",
       "1   1554.535895  1620.158227  1555.970466  1209.453616  1488.081517  \n",
       "2   1531.035744  1626.686300  1585.444912  1002.139157  1236.251269  \n",
       "3   1501.143298  1613.344467  1586.763662   867.114433  1069.973574  \n",
       "4   1359.589247  1487.050372  1476.416012   648.510694   848.419171  \n",
       "5    662.971070   588.304759   464.007629  1276.212208  1638.728718  \n",
       "6   1101.693823  1275.884372  1356.303226   425.112597   259.253717  \n",
       "7   1145.503143  1306.448162  1414.776848   806.629016   668.000000  \n",
       "8   1386.502351  1545.449436  1655.659932   988.690776   771.098878  \n",
       "9    668.000000   836.501650   935.796239   576.573395   697.612392  \n",
       "10   583.305923   739.529100   851.536259   729.467011   864.053546  \n",
       "11   291.652962   254.366822   375.285824  1192.735465  1445.104951  \n",
       "12   375.285824   269.279409   357.005224  1312.092973  1575.474849  \n",
       "13   578.745963   435.482721   470.276270  1528.848289  1798.645046  \n",
       "14   240.850825   252.716857   213.864350   973.768966  1308.261415  \n",
       "15   417.500000   591.849508   673.198522   581.630097   837.001601  \n",
       "16   236.173665   271.856304   402.189259  1087.425216  1334.015401  \n",
       "17   422.480295   248.263348   213.864350  1363.276553  1668.747030  \n",
       "18     0.000000   174.353119   269.279409   955.263356  1248.038721  \n",
       "19   174.353119     0.000000   130.431170  1120.892256  1420.972765  \n",
       "20   269.279409   130.431170     0.000000  1165.176605  1484.046606  \n",
       "21   955.263356  1120.892256  1165.176605     0.000000   370.800175  \n",
       "22  1248.038721  1420.972765  1484.046606   370.800175     0.000000  \n",
       "\n",
       "[23 rows x 23 columns]"
      ]
     },
     "metadata": {},
     "output_type": "display_data"
    }
   ],
   "source": [
    "G = distance_matrix(nodes, manhattan=False)\n",
    "display(pd.DataFrame(G))"
   ]
  },
  {
   "cell_type": "markdown",
   "metadata": {},
   "source": [
    "Now we can find a tour manually. Running the cell below will generate a visual of the 23 cities. Click on the cities one at a time to create a tour. Clicking on the last node will automatically complete the tour. In the lower-left, you will see the cost of the tour update as you create it. In the lower-right, you will see the tour."
   ]
  },
  {
   "cell_type": "code",
   "execution_count": 7,
   "metadata": {},
   "outputs": [
    {
     "data": {
      "text/html": [
       "\n",
       "\n",
       "\n",
       "\n",
       "\n",
       "\n",
       "  <div class=\"bk-root\" id=\"0fcf3e2b-5c50-4bd9-bd11-cb20e8827bc8\" data-root-id=\"1077\"></div>\n"
      ]
     },
     "metadata": {},
     "output_type": "display_data"
    },
    {
     "data": {
      "application/javascript": [
       "(function(root) {\n",
       "  function embed_document(root) {\n",
       "    \n",
       "  var docs_json = {\"742b2ced-0702-4a6a-b5fa-d3f2b4ee725a\":{\"roots\":{\"references\":[{\"attributes\":{\"children\":[[{\"id\":\"1002\"},0,0],[{\"id\":\"1061\"},1,0]]},\"id\":\"1077\",\"type\":\"GridBox\"},{\"attributes\":{\"data\":{\"G\":[[0.0,1041.978296319074,1336.9390449829789,1503.3710653062335,1620.158226840823,1105.73674986409,2348.9486499283034,2635.268466399581,2863.502207088376,2177.4136033376844,2196.5420551403063,1942.160459385372,1914.391153865897,1938.711048609359,1491.4511859259762,1901.5280302956355,1947.5379328783304,1669.3318663465332,1732.2980113132955,1688.682992749083,1568.3780794183526,1941.8014316608173,2295.931159682276],[1041.978296319074,1.0789593218788873e-05,307.9327848735826,491.16173507308156,667.3734561697819,1254.7246909182904,1630.197169056553,2010.9462946583133,2197.811365881977,1665.4011678871848,1759.5334296341177,1841.8517747093547,1889.389319330455,2025.318276222283,1367.4638752084093,1474.525835650227,1787.212122273123,1750.3161571556152,1554.5358953719915,1620.1582268408233,1555.970465658009,1209.4536163077937,1488.081516584357],[1336.9390449829789,307.9327848735826,0.0,186.71167612123244,389.86542549962036,1364.1968223097426,1406.4731671809454,1807.9244453239742,1976.2529089162654,1516.3931053654917,1632.2488076270727,1822.673223592205,1890.8648285903464,2052.9456105800755,1380.0506548674218,1369.80725651458,1752.2271570775295,1792.8210312242547,1531.0357441941057,1626.6863004279592,1585.4449123195675,1002.1391570036569,1236.2512689578928],[1503.3710653062335,491.16173507308156,186.71167612123244,0.0,224.0540113454783,1417.829016489647,1255.0580544341362,1665.4011678871848,1822.443691859916,1409.147543729896,1536.7630005957328,1790.6418765347803,1870.4745520856463,2046.4826239184147,1375.4961868358632,1292.8216311618553,1711.566697502613,1798.6450455829242,1501.1432976235144,1613.3444672480828,1586.7636623013525,867.1144330479111,1069.973574440042],[1620.158226840823,667.3734561697819,389.86542549962036,224.0540113454783,0.0,1371.0283002184892,1031.081315900933,1442.497240898574,1598.4089870868472,1202.863799438656,1337.6689575526525,1643.4870398028697,1733.9876268301339,1922.531968524841,1262.5906858519115,1110.3930340199367,1556.9559659797708,1690.2512120983672,1359.5892467947808,1487.0503723815143,1476.4160118340633,648.5106938208503,848.4191711648201],[1105.73674986409,1254.7246909182904,1364.1968223097426,1417.829016489647,1371.0283002184892,0.0,1578.6579870256883,1737.8434365615328,1980.5524103138498,1247.03273413331,1210.2604182571617,839.1646143635943,809.3902705123156,857.5738627080477,435.48272066753714,955.9929549949619,855.4573981210283,576.5733951545102,662.9710702587253,588.3047594572054,464.00762924762455,1276.2122080594586,1638.728717634496],[2348.9486499283034,1630.197169056553,1406.4731671809454,1255.0580544341362,1031.081315900933,1578.6579870256883,0.0,422.8102292991505,570.0060087402601,481.7016504019875,641.5930485907704,1262.2593117105534,1397.322042336698,1621.276734552124,1204.2541260049725,684.6999999999999,1150.2409138958674,1523.274367932448,1101.693823165038,1275.884371720258,1356.3032256836962,425.1125968493521,259.253717427541],[2635.268466399581,2010.9462946583133,1807.9244453239742,1665.4011678871848,1442.497240898574,1737.8434365615328,422.8102292991505,0.0,243.15567030196868,491.1617350730812,568.0455351466101,1209.7994544551584,1346.3970439658578,1559.461701998481,1316.7608476864737,781.8739540360702,1105.3583536573105,1536.4907581889322,1145.5031427281199,1306.4481620026104,1414.776848128354,806.6290163389854,668.0],[2863.502207088376,2197.811365881977,1976.2529089162654,1822.443691859916,1598.4089870868472,1980.5524103138498,570.0060087402601,243.15567030196868,0.0,734.2304610951518,805.9372246025113,1437.7526491020628,1572.9946217327001,1781.5072831734367,1559.9087313044952,1024.5691582318877,1336.1043709231703,1772.1682453988383,1386.5023512421462,1545.4494362482394,1655.6599318700687,988.6907757231273,771.0988782250954],[2177.4136033376844,1665.4011678871848,1516.3931053654917,1409.147543729896,1202.863799438656,1247.03273413331,481.7016504019875,491.1617350730812,734.2304610951518,0.0,167.0,787.7374245267264,924.5527837825149,1147.4492102049664,826.270367373779,291.6529615827675,676.2984548259737,1077.1176351726865,668.0,836.5016497293963,935.7962385049427,576.573395154511,697.6123923784603],[2196.5420551403063,1759.5334296341177,1632.2488076270727,1536.7630005957328,1337.6689575526525,1210.2604182571617,641.5930485907704,568.0455351466101,805.9372246025113,167.0,0.0,652.1558479382056,789.8588038377491,1009.3488841822732,776.8641837541495,301.0635315012431,543.7126079097322,968.6000000000005,583.3059231655382,739.5291001711827,851.536258769995,729.4670109059074,864.0535457944723],[1942.160459385372,1841.8517747093547,1822.673223592205,1790.6418765347803,1643.4870398028697,839.1646143635943,1262.2593117105534,1209.7994544551584,1437.7526491020628,787.7374245267264,652.1558479382056,0.0,137.71172789562823,359.72900911658354,488.885191021369,615.8655697471652,112.02700567274279,366.25959373100363,291.6529615827675,254.36682173585174,375.28582440588013,1192.735465222696,1445.1049512059667],[1914.391153865897,1889.389319330455,1890.8648285903464,1870.4745520856463,1733.9876268301339,809.3902705123156,1397.322042336698,1346.3970439658578,1572.9946217327001,924.5527837825149,789.8588038377491,137.71172789562823,0.0,224.05401134547728,521.9918869101314,741.6003505932289,248.26334808021798,271.8563039548644,375.2858244058777,269.27940879317225,357.0052240514142,1312.0929730777464,1575.4748490534528],[1938.711048609359,2025.318276222283,2052.9456105800755,2046.4826239184147,1922.531968524841,857.5738627080477,1621.276734552124,1559.461701998481,1781.5072831734367,1147.4492102049664,1009.3488841822732,359.72900911658354,224.05401134547728,0.0,673.1985219829276,963.4033008039779,471.46084673066974,283.90000000000157,578.74596326886,435.48272066753606,470.2762698669789,1528.8482887454857,1798.6450455829242],[1491.4511859259762,1367.4638752084093,1380.0506548674218,1375.4961868358632,1262.5906858519115,435.48272066753714,1204.2541260049725,1316.7608476864737,1559.9087313044952,826.270367373779,776.8641837541495,488.885191021369,521.9918869101314,673.1985219829276,0.0,540.8841003394353,465.20816845795025,427.72869906051415,240.85082520099277,252.71685737203734,213.86434953025923,973.7689664391652,1308.261415008484],[1901.5280302956355,1474.525835650227,1369.80725651458,1292.8216311618553,1110.3930340199367,955.9929549949619,684.6999999999999,781.8739540360702,1024.5691582318877,291.6529615827675,301.0635315012431,615.8655697471652,741.6003505932289,963.4033008039779,540.8841003394353,0.0,507.91067127990135,839.8290361734337,417.5,591.8495078987562,673.1985219829303,581.6300972267514,837.0016009542627],[1947.5379328783304,1787.212122273123,1752.2271570775295,1711.566697502613,1556.9559659797708,855.4573981210283,1150.2409138958674,1105.3583536573105,1336.1043709231703,676.2984548259737,543.7126079097322,112.02700567274279,248.26334808021798,471.46084673066974,465.20816845795025,507.91067127990135,0.0,445.6115797418192,236.17366491630688,271.8563039548678,402.18925893166636,1087.4252158194606,1334.0154009605735],[1669.3318663465332,1750.3161571556152,1792.8210312242547,1798.6450455829242,1690.2512120983672,576.5733951545102,1523.274367932448,1536.4907581889322,1772.1682453988383,1077.1176351726865,968.6000000000005,366.25959373100363,271.8563039548644,283.90000000000157,427.72869906051415,839.8290361734337,445.6115797418192,0.0,422.4802953984972,248.26334808022173,213.86434953025923,1363.2765530148313,1668.7470299599036],[1732.2980113132955,1554.5358953719915,1531.0357441941057,1501.1432976235144,1359.5892467947808,662.9710702587253,1101.693823165038,1145.5031427281199,1386.5023512421462,668.0,583.3059231655382,291.6529615827675,375.2858244058777,578.74596326886,240.85082520099277,417.5,236.17366491630688,422.4802953984972,0.0,174.35311869880556,269.27940879317225,955.2633563578157,1248.03872135443],[1688.682992749083,1620.1582268408233,1626.6863004279592,1613.3444672480828,1487.0503723815143,588.3047594572054,1275.884371720258,1306.4481620026104,1545.4494362482394,836.5016497293963,739.5291001711827,254.36682173585174,269.27940879317225,435.48272066753606,252.71685737203734,591.8495078987562,271.8563039548678,248.26334808022173,174.35311869880556,0.0,130.4311695876377,1120.8922561959287,1420.9727653970008],[1568.3780794183526,1555.970465658009,1585.4449123195675,1586.7636623013525,1476.4160118340633,464.00762924762455,1356.3032256836962,1414.776848128354,1655.6599318700687,935.7962385049427,851.536258769995,375.28582440588013,357.0052240514142,470.2762698669789,213.86434953025923,673.1985219829303,402.18925893166636,213.86434953025923,269.27940879317225,130.4311695876377,0.0,1165.176604639829,1484.0466064109985],[1941.8014316608173,1209.4536163077937,1002.1391570036569,867.1144330479111,648.5106938208503,1276.2122080594586,425.1125968493521,806.6290163389854,988.6907757231273,576.573395154511,729.4670109059074,1192.735465222696,1312.0929730777464,1528.8482887454857,973.7689664391652,581.6300972267514,1087.4252158194606,1363.2765530148313,955.2633563578157,1120.8922561959287,1165.176604639829,0.0,370.8001752966151],[2295.931159682276,1488.081516584357,1236.2512689578928,1069.973574440042,848.4191711648201,1638.728717634496,259.253717427541,668.0,771.0988782250954,697.6123923784603,864.0535457944723,1445.1049512059667,1575.4748490534528,1798.6450455829242,1308.261415008484,837.0016009542627,1334.0154009605735,1668.7470299599036,1248.03872135443,1420.9727653970008,1484.0466064109985,370.8001752966151,0.0]]},\"selected\":{\"id\":\"1075\"},\"selection_policy\":{\"id\":\"1074\"}},\"id\":\"1043\",\"type\":\"ColumnDataSource\"},{\"attributes\":{\"data_source\":{\"id\":\"1050\"},\"glyph\":{\"id\":\"1051\"},\"hover_glyph\":null,\"muted_glyph\":null,\"nonselection_glyph\":{\"id\":\"1052\"},\"selection_glyph\":null,\"view\":{\"id\":\"1054\"}},\"id\":\"1053\",\"type\":\"GlyphRenderer\"},{\"attributes\":{},\"id\":\"1022\",\"type\":\"WheelZoomTool\"},{\"attributes\":{\"data\":{\"edges_x\":[],\"edges_y\":[],\"indices\":[]},\"selected\":{\"id\":\"1070\"},\"selection_policy\":{\"id\":\"1069\"}},\"id\":\"1044\",\"type\":\"ColumnDataSource\"},{\"attributes\":{\"source\":{\"id\":\"1050\"}},\"id\":\"1054\",\"type\":\"CDSView\"},{\"attributes\":{\"source\":{\"id\":\"1044\"}},\"id\":\"1049\",\"type\":\"CDSView\"},{\"attributes\":{\"args\":{\"source\":{\"id\":\"1043\"}},\"code\":\"\\n    source.data['last_index'] = cb_data.index.indices[0]   \\n    \"},\"id\":\"1055\",\"type\":\"CustomJS\"},{\"attributes\":{\"overlay\":{\"id\":\"1027\"}},\"id\":\"1023\",\"type\":\"BoxZoomTool\"},{\"attributes\":{\"bottom_units\":\"screen\",\"fill_alpha\":0.5,\"fill_color\":\"lightgrey\",\"left_units\":\"screen\",\"level\":\"overlay\",\"line_alpha\":1.0,\"line_color\":\"black\",\"line_dash\":[4,4],\"line_width\":2,\"right_units\":\"screen\",\"top_units\":\"screen\"},\"id\":\"1027\",\"type\":\"BoxAnnotation\"},{\"attributes\":{\"h\":{\"units\":\"data\",\"value\":2735.46},\"url\":{\"field\":\"url\"},\"w\":{\"units\":\"data\",\"value\":2305.602},\"x\":{\"value\":447.09900000000005},\"y\":{\"value\":1439.53}},\"id\":\"1037\",\"type\":\"ImageURL\"},{\"attributes\":{\"callback\":{\"id\":\"1055\"},\"renderers\":[{\"id\":\"1053\"}],\"tooltips\":null},\"id\":\"1056\",\"type\":\"HoverTool\"},{\"attributes\":{\"args\":{\"cost\":{\"id\":\"1041\"},\"done\":{\"id\":\"1042\"},\"pts\":{\"id\":\"1050\"},\"source\":{\"id\":\"1043\"},\"tour\":{\"id\":\"1044\"}},\"code\":\"\\n    var node = source.data['last_index']\\n    \\n    if (node.toString() != -1) {\\n        if (!(tour.data['indices'].includes(node))) {\\n            if (tour.data['indices'].length > 0) { \\n                var prev = tour.data['indices'][tour.data['indices'].length - 1]\\n            } else {\\n                var prev = -1\\n            }\\n\\n            var tmp_edges_x = tour.data['edges_x']\\n            var tmp_edges_y = tour.data['edges_y']\\n            var tmp_indices = tour.data['indices']\\n\\n            tmp_edges_x.push(pts.data['x'][node])\\n            tmp_edges_y.push(pts.data['y'][node])\\n            tmp_indices.push(node)\\n\\n            tour.data['edges_x'] = tmp_edges_x\\n            tour.data['edges_y'] = tmp_edges_y\\n            tour.data['indices'] = tmp_indices\\n\\n            if (prev == -1) {\\n                cost.text = '0.0'\\n            } else {\\n                var before = parseFloat(cost.text)\\n                var increase = source.data['G'][prev][node]\\n                cost.text = (before + increase).toFixed(1)   \\n            }\\n            \\n            if (tour.data['indices'].length == source.data['G'].length) {\\n                var tmp_edges_x = tour.data['edges_x']\\n                var tmp_edges_y = tour.data['edges_y']\\n                var tmp_indices = tour.data['indices']\\n\\n                tmp_edges_x.push(tmp_edges_x[0])\\n                tmp_edges_y.push(tmp_edges_y[0])\\n                tmp_indices.push(tmp_indices[0])\\n\\n                tour.data['edges_x'] = tmp_edges_x\\n                tour.data['edges_y'] = tmp_edges_y\\n                tour.data['indices'] = tmp_indices\\n\\n                var before = parseFloat(cost.text)\\n                var increase = source.data['G'][node][tmp_indices[0]]\\n                cost.text = (before + increase).toFixed(1) \\n            }    \\n        }\\n    }\\n    done.text = '['.concat(tour.data['indices'].join(',')).concat(']')\\n    tour.change.emit()\\n    \"},\"id\":\"1057\",\"type\":\"CustomJS\"},{\"attributes\":{},\"id\":\"1069\",\"type\":\"UnionRenderers\"},{\"attributes\":{\"callback\":{\"id\":\"1057\"},\"renderers\":[{\"id\":\"1053\"}]},\"id\":\"1058\",\"type\":\"TapTool\"},{\"attributes\":{\"children\":[{\"id\":\"1041\"},{\"id\":\"1042\"}]},\"id\":\"1061\",\"type\":\"Row\"},{\"attributes\":{\"formatter\":{\"id\":\"1065\"},\"ticker\":{\"id\":\"1018\"},\"visible\":false},\"id\":\"1017\",\"type\":\"LinearAxis\"},{\"attributes\":{\"global_alpha\":0.1,\"h\":{\"units\":\"data\",\"value\":2735.46},\"url\":{\"field\":\"url\"},\"w\":{\"units\":\"data\",\"value\":2305.602},\"x\":{\"value\":447.09900000000005},\"y\":{\"value\":1439.53}},\"id\":\"1038\",\"type\":\"ImageURL\"},{\"attributes\":{\"data_source\":{\"id\":\"1036\"},\"glyph\":{\"id\":\"1037\"},\"hover_glyph\":null,\"muted_glyph\":null,\"nonselection_glyph\":{\"id\":\"1038\"},\"selection_glyph\":null,\"view\":{\"id\":\"1040\"}},\"id\":\"1039\",\"type\":\"GlyphRenderer\"},{\"attributes\":{},\"id\":\"1063\",\"type\":\"BasicTickFormatter\"},{\"attributes\":{\"background_fill_color\":null,\"below\":[{\"id\":\"1013\"}],\"border_fill_color\":null,\"center\":[{\"id\":\"1016\"},{\"id\":\"1020\"}],\"left\":[{\"id\":\"1017\"}],\"outline_line_color\":null,\"plot_height\":375,\"renderers\":[{\"id\":\"1039\"},{\"id\":\"1048\"},{\"id\":\"1053\"}],\"title\":{\"id\":\"1003\"},\"toolbar\":{\"id\":\"1028\"},\"toolbar_location\":null,\"x_range\":{\"id\":\"1005\"},\"x_scale\":{\"id\":\"1009\"},\"y_range\":{\"id\":\"1007\"},\"y_scale\":{\"id\":\"1011\"}},\"id\":\"1002\",\"subtype\":\"Figure\",\"type\":\"Plot\"},{\"attributes\":{\"line_width\":4,\"x\":{\"field\":\"edges_x\"},\"y\":{\"field\":\"edges_y\"}},\"id\":\"1046\",\"type\":\"Line\"},{\"attributes\":{\"active_drag\":\"auto\",\"active_inspect\":\"auto\",\"active_multi\":null,\"active_scroll\":\"auto\",\"active_tap\":\"auto\",\"logo\":null,\"tools\":[{\"id\":\"1021\"},{\"id\":\"1022\"},{\"id\":\"1023\"},{\"id\":\"1024\"},{\"id\":\"1025\"},{\"id\":\"1026\"},{\"id\":\"1056\"},{\"id\":\"1058\"}]},\"id\":\"1028\",\"type\":\"Toolbar\"},{\"attributes\":{\"data\":{\"url\":[\"images/us.png\"]},\"selected\":{\"id\":\"1068\"},\"selection_policy\":{\"id\":\"1067\"}},\"id\":\"1036\",\"type\":\"ColumnDataSource\"},{\"attributes\":{},\"id\":\"1065\",\"type\":\"BasicTickFormatter\"},{\"attributes\":{},\"id\":\"1021\",\"type\":\"PanTool\"},{\"attributes\":{},\"id\":\"1011\",\"type\":\"LinearScale\"},{\"attributes\":{\"axis\":{\"id\":\"1017\"},\"dimension\":1,\"grid_line_color\":null,\"ticker\":null},\"id\":\"1020\",\"type\":\"Grid\"},{\"attributes\":{},\"id\":\"1067\",\"type\":\"UnionRenderers\"},{\"attributes\":{\"end\":1434.53,\"start\":-1300.93},\"id\":\"1007\",\"type\":\"Range1d\"},{\"attributes\":{},\"id\":\"1014\",\"type\":\"BasicTicker\"},{\"attributes\":{},\"id\":\"1068\",\"type\":\"Selection\"},{\"attributes\":{},\"id\":\"1018\",\"type\":\"BasicTicker\"},{\"attributes\":{\"data\":{\"x\":[751.5,634.6,701.4,784.9,985.3,1753.5,1920.5,2338.0,2404.8,2187.7,2321.3,2471.6,2505.0,2605.2,1987.3,2070.8,2421.5,2321.3,2187.7,2237.8,2154.3,1619.9,1670.0],\"y\":[1235.8,200.4,-100.2,-267.2,-367.4,768.1999999999998,-801.5999999999998,-868.4,-1102.2,-400.8,-300.6,334.0,467.6,668.0,400.8,-133.6,233.8,668.0,267.2,434.2,534.4,-501.0,-868.4]},\"selected\":{\"id\":\"1072\"},\"selection_policy\":{\"id\":\"1071\"}},\"id\":\"1050\",\"type\":\"ColumnDataSource\"},{\"attributes\":{},\"id\":\"1070\",\"type\":\"Selection\"},{\"attributes\":{\"line_alpha\":0.1,\"line_width\":4,\"x\":{\"field\":\"edges_x\"},\"y\":{\"field\":\"edges_y\"}},\"id\":\"1047\",\"type\":\"Line\"},{\"attributes\":{},\"id\":\"1025\",\"type\":\"ResetTool\"},{\"attributes\":{\"axis\":{\"id\":\"1013\"},\"grid_line_color\":null,\"ticker\":null},\"id\":\"1016\",\"type\":\"Grid\"},{\"attributes\":{},\"id\":\"1071\",\"type\":\"UnionRenderers\"},{\"attributes\":{\"data_source\":{\"id\":\"1044\"},\"glyph\":{\"id\":\"1046\"},\"hover_glyph\":null,\"muted_glyph\":null,\"nonselection_glyph\":{\"id\":\"1047\"},\"selection_glyph\":null,\"view\":{\"id\":\"1049\"}},\"id\":\"1048\",\"type\":\"GlyphRenderer\"},{\"attributes\":{},\"id\":\"1026\",\"type\":\"HelpTool\"},{\"attributes\":{},\"id\":\"1024\",\"type\":\"SaveTool\"},{\"attributes\":{},\"id\":\"1072\",\"type\":\"Selection\"},{\"attributes\":{\"text\":\"\"},\"id\":\"1003\",\"type\":\"Title\"},{\"attributes\":{\"align\":\"center\",\"width\":300},\"id\":\"1042\",\"type\":\"Div\"},{\"attributes\":{\"end\":2772.701,\"start\":467.09900000000005},\"id\":\"1005\",\"type\":\"Range1d\"},{\"attributes\":{},\"id\":\"1074\",\"type\":\"UnionRenderers\"},{\"attributes\":{},\"id\":\"1009\",\"type\":\"LinearScale\"},{\"attributes\":{\"align\":\"center\",\"text\":\"0.0\",\"width\":300},\"id\":\"1041\",\"type\":\"Div\"},{\"attributes\":{\"fill_color\":{\"value\":\"steelblue\"},\"line_color\":{\"value\":\"steelblue\"},\"size\":{\"units\":\"screen\",\"value\":10},\"x\":{\"field\":\"x\"},\"y\":{\"field\":\"y\"}},\"id\":\"1051\",\"type\":\"Circle\"},{\"attributes\":{},\"id\":\"1075\",\"type\":\"Selection\"},{\"attributes\":{\"source\":{\"id\":\"1036\"}},\"id\":\"1040\",\"type\":\"CDSView\"},{\"attributes\":{\"fill_color\":{\"value\":\"steelblue\"},\"line_alpha\":{\"value\":0.1},\"line_color\":{\"value\":\"steelblue\"},\"size\":{\"units\":\"screen\",\"value\":10},\"x\":{\"field\":\"x\"},\"y\":{\"field\":\"y\"}},\"id\":\"1052\",\"type\":\"Circle\"},{\"attributes\":{\"formatter\":{\"id\":\"1063\"},\"ticker\":{\"id\":\"1014\"},\"visible\":false},\"id\":\"1013\",\"type\":\"LinearAxis\"}],\"root_ids\":[\"1077\"]},\"title\":\"Bokeh Application\",\"version\":\"2.1.0\"}};\n",
       "  var render_items = [{\"docid\":\"742b2ced-0702-4a6a-b5fa-d3f2b4ee725a\",\"root_ids\":[\"1077\"],\"roots\":{\"1077\":\"0fcf3e2b-5c50-4bd9-bd11-cb20e8827bc8\"}}];\n",
       "  root.Bokeh.embed.embed_items_notebook(docs_json, render_items);\n",
       "\n",
       "  }\n",
       "  if (root.Bokeh !== undefined) {\n",
       "    embed_document(root);\n",
       "  } else {\n",
       "    var attempts = 0;\n",
       "    var timer = setInterval(function(root) {\n",
       "      if (root.Bokeh !== undefined) {\n",
       "        clearInterval(timer);\n",
       "        embed_document(root);\n",
       "      } else {\n",
       "        attempts++;\n",
       "        if (attempts > 100) {\n",
       "          clearInterval(timer);\n",
       "          console.log(\"Bokeh: ERROR: Unable to run BokehJS code because BokehJS library is missing\");\n",
       "        }\n",
       "      }\n",
       "    }, 10, root)\n",
       "  }\n",
       "})(window);"
      ],
      "application/vnd.bokehjs_exec.v0+json": ""
     },
     "metadata": {
      "application/vnd.bokehjs_exec.v0+json": {
       "id": "1077"
      }
     },
     "output_type": "display_data"
    }
   ],
   "source": [
    "plot_create_tour(nodes, G, width=600, height=375, show_us=True)"
   ]
  },
  {
   "cell_type": "markdown",
   "metadata": {},
   "source": [
    "**Q1:** What was the smallest tour cost you found?\n",
    "\n",
    "**A:** <font color='blue'> No less than 8356.8</font>"
   ]
  },
  {
   "cell_type": "markdown",
   "metadata": {},
   "source": [
    "## Part II: TSP Heuristics"
   ]
  },
  {
   "cell_type": "markdown",
   "metadata": {},
   "source": [
    "In this part of the lab, we will consider 4 different TSP heuristics. A heuristic aims to find a good feasible solution to a problem although it is not guaranteed to be optimal. Before we move on, we will abstract the TSP to finding an optimal tour on a set of *nodes* rather than cities. These nodes could represent anything. \n",
    "\n",
    "- **Random Neighbor:** Start at some node. Randomly select one of the nodes which has not been visited to visit next. Continue doing so until all nodes have been visited. Return to the start.\n",
    "- **Nearest Neighbor:** Start at some node. Visit the closest unvisited node next (if there are multiple closest nodes, choose one randomly). Continue doing so until all nodes have been visited. Return to the start.\n",
    "- **Nearest Insertion:** Start with a “tour” on two of the nodes (e.g., the closest pair of nodes). Find the closest unvisited node to any node currently in tour. Insert the node into the tour at the best place (if there are multiple closest nodes, choose one to add randomly).\n",
    "- **Furthest Insertion:** Start with a “tour” on two of the nodes (e.g., the closest pair of nodes). Find the node whose smallest distance to a node already in the tour is maximized. Insert the node into the tour at the best place (if there are multiple furthest nodes, choose one to add randomly)."
   ]
  },
  {
   "cell_type": "markdown",
   "metadata": {},
   "source": [
    "**Q2:** Which heuristic to you expect to perform the best? Which do you expect to perform the worst?\n",
    "\n",
    "**A:** <font color='blue'> Will vary. Maybe random neighbor worst and nearest insertion best.</font>"
   ]
  },
  {
   "cell_type": "markdown",
   "metadata": {},
   "source": [
    "To compare the heuristics, we will use a simple 6x8 grid of nodes. The cell below creates this instance. Note that we will initally use the manhattan distance."
   ]
  },
  {
   "cell_type": "code",
   "execution_count": 8,
   "metadata": {},
   "outputs": [],
   "source": [
    "# nodes is the list of nodes and their position and G is the distance matrix\n",
    "nodes, G = tsp_grid_instance(6,8,manhattan=True)"
   ]
  },
  {
   "cell_type": "markdown",
   "metadata": {},
   "source": [
    "Let's use random neighbor (a terrible heuristic) to get a baseline for the length of a tour. The function `random_neighbor` will run the random neighbor heuristic and the function `plot_tour` will plot the tour and its cost in the lower-left."
   ]
  },
  {
   "cell_type": "code",
   "execution_count": 9,
   "metadata": {},
   "outputs": [
    {
     "name": "stdout",
     "output_type": "stream",
     "text": [
      "[0, 2, 15, 26, 32, 46, 25, 8, 30, 21, 3, 5, 43, 35, 42, 16, 41, 36, 20, 27, 10, 4, 6, 29, 33, 40, 37, 19, 45, 13, 22, 34, 47, 14, 1, 11, 44, 18, 23, 24, 38, 39, 31, 17, 12, 28, 9, 7, 0]\n"
     ]
    },
    {
     "data": {
      "text/html": [
       "\n",
       "\n",
       "\n",
       "\n",
       "\n",
       "\n",
       "  <div class=\"bk-root\" id=\"e000ba0c-1f02-49cc-9543-bb87c88de104\" data-root-id=\"1232\"></div>\n"
      ]
     },
     "metadata": {},
     "output_type": "display_data"
    },
    {
     "data": {
      "application/javascript": [
       "(function(root) {\n",
       "  function embed_document(root) {\n",
       "    \n",
       "  var docs_json = {\"9c6ffb3f-47b4-4216-bbb9-104b220ab78e\":{\"roots\":{\"references\":[{\"attributes\":{\"children\":[[{\"id\":\"1176\"},0,0],[{\"id\":\"1210\"},1,0]]},\"id\":\"1232\",\"type\":\"GridBox\"},{\"attributes\":{\"active_drag\":\"auto\",\"active_inspect\":\"auto\",\"active_multi\":null,\"active_scroll\":\"auto\",\"active_tap\":\"auto\",\"logo\":null,\"tools\":[{\"id\":\"1195\"},{\"id\":\"1196\"},{\"id\":\"1197\"},{\"id\":\"1198\"},{\"id\":\"1199\"},{\"id\":\"1200\"}]},\"id\":\"1202\",\"type\":\"Toolbar\"},{\"attributes\":{},\"id\":\"1226\",\"type\":\"UnionRenderers\"},{\"attributes\":{\"end\":5.425,\"start\":-0.42500000000000004},\"id\":\"1179\",\"type\":\"Range1d\"},{\"attributes\":{},\"id\":\"1227\",\"type\":\"Selection\"},{\"attributes\":{},\"id\":\"1228\",\"type\":\"UnionRenderers\"},{\"attributes\":{\"background_fill_color\":null,\"below\":[{\"id\":\"1187\"}],\"border_fill_color\":null,\"center\":[{\"id\":\"1190\"},{\"id\":\"1194\"}],\"left\":[{\"id\":\"1191\"}],\"outline_line_color\":null,\"plot_height\":400,\"plot_width\":400,\"renderers\":[{\"id\":\"1214\"},{\"id\":\"1219\"}],\"title\":{\"id\":\"1177\"},\"toolbar\":{\"id\":\"1202\"},\"toolbar_location\":null,\"x_range\":{\"id\":\"1179\"},\"x_scale\":{\"id\":\"1183\"},\"y_range\":{\"id\":\"1181\"},\"y_scale\":{\"id\":\"1185\"}},\"id\":\"1176\",\"subtype\":\"Figure\",\"type\":\"Plot\"},{\"attributes\":{\"end\":7.595,\"start\":-0.5950000000000001},\"id\":\"1181\",\"type\":\"Range1d\"},{\"attributes\":{},\"id\":\"1229\",\"type\":\"Selection\"},{\"attributes\":{\"bottom_units\":\"screen\",\"fill_alpha\":0.5,\"fill_color\":\"lightgrey\",\"left_units\":\"screen\",\"level\":\"overlay\",\"line_alpha\":1.0,\"line_color\":\"black\",\"line_dash\":[4,4],\"line_width\":2,\"right_units\":\"screen\",\"top_units\":\"screen\"},\"id\":\"1201\",\"type\":\"BoxAnnotation\"},{\"attributes\":{},\"id\":\"1192\",\"type\":\"BasicTicker\"},{\"attributes\":{\"axis\":{\"id\":\"1191\"},\"dimension\":1,\"grid_line_color\":null,\"ticker\":null},\"id\":\"1194\",\"type\":\"Grid\"},{\"attributes\":{\"data\":{\"x\":[0.0,0.0,0.0,0.0,0.0,0.0,0.0,0.0,1.0,1.0,1.0,1.0,1.0,1.0,1.0,1.0,2.0,2.0,2.0,2.0,2.0,2.0,2.0,2.0,3.0,3.0,3.0,3.0,3.0,3.0,3.0,3.0,4.0,4.0,4.0,4.0,4.0,4.0,4.0,4.0,5.0,5.0,5.0,5.0,5.0,5.0,5.0,5.0],\"y\":[0.0,1.0,2.0,3.0,4.0,5.0,6.0,7.0,0.0,1.0,2.0,3.0,4.0,5.0,6.0,7.0,0.0,1.0,2.0,3.0,4.0,5.0,6.0,7.0,0.0,1.0,2.0,3.0,4.0,5.0,6.0,7.0,0.0,1.0,2.0,3.0,4.0,5.0,6.0,7.0,0.0,1.0,2.0,3.0,4.0,5.0,6.0,7.0]},\"selected\":{\"id\":\"1229\"},\"selection_policy\":{\"id\":\"1228\"}},\"id\":\"1216\",\"type\":\"ColumnDataSource\"},{\"attributes\":{\"formatter\":{\"id\":\"1224\"},\"ticker\":{\"id\":\"1192\"},\"visible\":false},\"id\":\"1191\",\"type\":\"LinearAxis\"},{\"attributes\":{\"source\":{\"id\":\"1211\"}},\"id\":\"1215\",\"type\":\"CDSView\"},{\"attributes\":{},\"id\":\"1188\",\"type\":\"BasicTicker\"},{\"attributes\":{\"data_source\":{\"id\":\"1211\"},\"glyph\":{\"id\":\"1212\"},\"hover_glyph\":null,\"muted_glyph\":null,\"nonselection_glyph\":{\"id\":\"1213\"},\"selection_glyph\":null,\"view\":{\"id\":\"1215\"}},\"id\":\"1214\",\"type\":\"GlyphRenderer\"},{\"attributes\":{},\"id\":\"1200\",\"type\":\"HelpTool\"},{\"attributes\":{},\"id\":\"1224\",\"type\":\"BasicTickFormatter\"},{\"attributes\":{\"line_alpha\":0.1,\"line_width\":4,\"x\":{\"field\":\"x\"},\"y\":{\"field\":\"y\"}},\"id\":\"1213\",\"type\":\"Line\"},{\"attributes\":{\"align\":\"center\",\"text\":\"208.0\",\"width\":400},\"id\":\"1210\",\"type\":\"Div\"},{\"attributes\":{\"data\":{\"x\":[0.0,0.0,1.0,3.0,4.0,5.0,3.0,1.0,3.0,2.0,0.0,0.0,5.0,4.0,5.0,2.0,5.0,4.0,2.0,3.0,1.0,0.0,0.0,3.0,4.0,5.0,4.0,2.0,5.0,1.0,2.0,4.0,5.0,1.0,0.0,1.0,5.0,2.0,2.0,3.0,4.0,4.0,3.0,2.0,1.0,3.0,1.0,0.0,0.0],\"y\":[0.0,2.0,7.0,2.0,0.0,6.0,1.0,0.0,6.0,5.0,3.0,5.0,3.0,3.0,2.0,0.0,1.0,4.0,4.0,3.0,2.0,4.0,6.0,5.0,1.0,0.0,5.0,3.0,5.0,5.0,6.0,2.0,7.0,6.0,1.0,3.0,4.0,2.0,7.0,0.0,6.0,7.0,7.0,1.0,4.0,4.0,1.0,7.0,0.0]},\"selected\":{\"id\":\"1227\"},\"selection_policy\":{\"id\":\"1226\"}},\"id\":\"1211\",\"type\":\"ColumnDataSource\"},{\"attributes\":{\"axis\":{\"id\":\"1187\"},\"grid_line_color\":null,\"ticker\":null},\"id\":\"1190\",\"type\":\"Grid\"},{\"attributes\":{\"fill_color\":{\"value\":\"steelblue\"},\"line_color\":{\"value\":\"steelblue\"},\"size\":{\"units\":\"screen\",\"value\":8},\"x\":{\"field\":\"x\"},\"y\":{\"field\":\"y\"}},\"id\":\"1217\",\"type\":\"Circle\"},{\"attributes\":{},\"id\":\"1185\",\"type\":\"LinearScale\"},{\"attributes\":{},\"id\":\"1183\",\"type\":\"LinearScale\"},{\"attributes\":{\"fill_alpha\":{\"value\":0.1},\"fill_color\":{\"value\":\"steelblue\"},\"line_alpha\":{\"value\":0.1},\"line_color\":{\"value\":\"steelblue\"},\"size\":{\"units\":\"screen\",\"value\":8},\"x\":{\"field\":\"x\"},\"y\":{\"field\":\"y\"}},\"id\":\"1218\",\"type\":\"Circle\"},{\"attributes\":{},\"id\":\"1195\",\"type\":\"PanTool\"},{\"attributes\":{\"source\":{\"id\":\"1216\"}},\"id\":\"1220\",\"type\":\"CDSView\"},{\"attributes\":{},\"id\":\"1196\",\"type\":\"WheelZoomTool\"},{\"attributes\":{\"text\":\"\"},\"id\":\"1177\",\"type\":\"Title\"},{\"attributes\":{\"overlay\":{\"id\":\"1201\"}},\"id\":\"1197\",\"type\":\"BoxZoomTool\"},{\"attributes\":{\"formatter\":{\"id\":\"1222\"},\"ticker\":{\"id\":\"1188\"},\"visible\":false},\"id\":\"1187\",\"type\":\"LinearAxis\"},{\"attributes\":{\"data_source\":{\"id\":\"1216\"},\"glyph\":{\"id\":\"1217\"},\"hover_glyph\":null,\"muted_glyph\":null,\"nonselection_glyph\":{\"id\":\"1218\"},\"selection_glyph\":null,\"view\":{\"id\":\"1220\"}},\"id\":\"1219\",\"type\":\"GlyphRenderer\"},{\"attributes\":{},\"id\":\"1198\",\"type\":\"SaveTool\"},{\"attributes\":{},\"id\":\"1222\",\"type\":\"BasicTickFormatter\"},{\"attributes\":{},\"id\":\"1199\",\"type\":\"ResetTool\"},{\"attributes\":{\"line_width\":4,\"x\":{\"field\":\"x\"},\"y\":{\"field\":\"y\"}},\"id\":\"1212\",\"type\":\"Line\"}],\"root_ids\":[\"1232\"]},\"title\":\"Bokeh Application\",\"version\":\"2.1.0\"}};\n",
       "  var render_items = [{\"docid\":\"9c6ffb3f-47b4-4216-bbb9-104b220ab78e\",\"root_ids\":[\"1232\"],\"roots\":{\"1232\":\"e000ba0c-1f02-49cc-9543-bb87c88de104\"}}];\n",
       "  root.Bokeh.embed.embed_items_notebook(docs_json, render_items);\n",
       "\n",
       "  }\n",
       "  if (root.Bokeh !== undefined) {\n",
       "    embed_document(root);\n",
       "  } else {\n",
       "    var attempts = 0;\n",
       "    var timer = setInterval(function(root) {\n",
       "      if (root.Bokeh !== undefined) {\n",
       "        clearInterval(timer);\n",
       "        embed_document(root);\n",
       "      } else {\n",
       "        attempts++;\n",
       "        if (attempts > 100) {\n",
       "          clearInterval(timer);\n",
       "          console.log(\"Bokeh: ERROR: Unable to run BokehJS code because BokehJS library is missing\");\n",
       "        }\n",
       "      }\n",
       "    }, 10, root)\n",
       "  }\n",
       "})(window);"
      ],
      "application/vnd.bokehjs_exec.v0+json": ""
     },
     "metadata": {
      "application/vnd.bokehjs_exec.v0+json": {
       "id": "1232"
      }
     },
     "output_type": "display_data"
    }
   ],
   "source": [
    "tour = random_neighbor(G)\n",
    "# tour is an ordered list of the nodes starting and ending at the same node\n",
    "print(tour)\n",
    "plot_tour(nodes, G, tour)"
   ]
  },
  {
   "cell_type": "markdown",
   "metadata": {},
   "source": [
    "**Q3:** Does this look like a good tour to you? Run it a few times and see what the average tour cost is.\n",
    "\n",
    "**A:** <font color='blue'>No. Average around 230.</font>"
   ]
  },
  {
   "cell_type": "markdown",
   "metadata": {},
   "source": [
    "Now, let's look at the nearest neighbor heuristic. This time, we will use the function `plot_tsp_heuristic` to see every iteration of the heuristic. We can move through iterations with the `Next` and `Previous` buttons. The tour cost will update in the bottmom-left. `done.` will appear in the bottom-right when the heuristic has finished."
   ]
  },
  {
   "cell_type": "code",
   "execution_count": 10,
   "metadata": {},
   "outputs": [
    {
     "data": {
      "text/html": [
       "\n",
       "\n",
       "\n",
       "\n",
       "\n",
       "\n",
       "  <div class=\"bk-root\" id=\"ea151fec-644a-4101-bd4c-dceef829ef4a\" data-root-id=\"1387\"></div>\n"
      ]
     },
     "metadata": {},
     "output_type": "display_data"
    },
    {
     "data": {
      "application/javascript": [
       "(function(root) {\n",
       "  function embed_document(root) {\n",
       "    \n",
       "  var docs_json = {\"422fd7a0-ab19-4db0-b63e-8f2cba04b0cf\":{\"roots\":{\"references\":[{\"attributes\":{\"children\":[[{\"id\":\"1317\"},0,0],[{\"id\":\"1370\"},1,0],[{\"id\":\"1371\"},2,0]]},\"id\":\"1387\",\"type\":\"GridBox\"},{\"attributes\":{\"data_source\":{\"id\":\"1355\"},\"glyph\":{\"id\":\"1357\"},\"hover_glyph\":null,\"muted_glyph\":null,\"nonselection_glyph\":{\"id\":\"1358\"},\"selection_glyph\":null,\"view\":{\"id\":\"1360\"}},\"id\":\"1359\",\"type\":\"GlyphRenderer\"},{\"attributes\":{\"overlay\":{\"id\":\"1342\"}},\"id\":\"1338\",\"type\":\"BoxZoomTool\"},{\"attributes\":{\"button_type\":\"success\",\"icon\":null,\"js_event_callbacks\":{\"button_click\":[{\"id\":\"1367\"}]},\"label\":\"Next\",\"sizing_mode\":\"scale_width\",\"width_policy\":\"fit\"},\"id\":\"1366\",\"type\":\"Button\"},{\"attributes\":{},\"id\":\"1339\",\"type\":\"SaveTool\"},{\"attributes\":{\"fill_color\":{\"value\":\"steelblue\"},\"line_color\":{\"value\":\"steelblue\"},\"size\":{\"units\":\"screen\",\"value\":8},\"x\":{\"field\":\"x\"},\"y\":{\"field\":\"y\"}},\"id\":\"1362\",\"type\":\"Circle\"},{\"attributes\":{},\"id\":\"1340\",\"type\":\"ResetTool\"},{\"attributes\":{\"fill_alpha\":{\"value\":0.1},\"fill_color\":{\"value\":\"steelblue\"},\"line_alpha\":{\"value\":0.1},\"line_color\":{\"value\":\"steelblue\"},\"size\":{\"units\":\"screen\",\"value\":8},\"x\":{\"field\":\"x\"},\"y\":{\"field\":\"y\"}},\"id\":\"1363\",\"type\":\"Circle\"},{\"attributes\":{},\"id\":\"1341\",\"type\":\"HelpTool\"},{\"attributes\":{\"source\":{\"id\":\"1361\"}},\"id\":\"1365\",\"type\":\"CDSView\"},{\"attributes\":{},\"id\":\"1336\",\"type\":\"PanTool\"},{\"attributes\":{\"active_drag\":\"auto\",\"active_inspect\":\"auto\",\"active_multi\":null,\"active_scroll\":\"auto\",\"active_tap\":\"auto\",\"logo\":null,\"tools\":[{\"id\":\"1336\"},{\"id\":\"1337\"},{\"id\":\"1338\"},{\"id\":\"1339\"},{\"id\":\"1340\"},{\"id\":\"1341\"}]},\"id\":\"1343\",\"type\":\"Toolbar\"},{\"attributes\":{\"data_source\":{\"id\":\"1361\"},\"glyph\":{\"id\":\"1362\"},\"hover_glyph\":null,\"muted_glyph\":null,\"nonselection_glyph\":{\"id\":\"1363\"},\"selection_glyph\":null,\"view\":{\"id\":\"1365\"}},\"id\":\"1364\",\"type\":\"GlyphRenderer\"},{\"attributes\":{},\"id\":\"1337\",\"type\":\"WheelZoomTool\"},{\"attributes\":{\"align\":\"center\",\"text\":\"0\",\"width\":200},\"id\":\"1351\",\"type\":\"Div\"},{\"attributes\":{},\"id\":\"1380\",\"type\":\"Selection\"},{\"attributes\":{\"args\":{\"cost\":{\"id\":\"1351\"},\"done\":{\"id\":\"1352\"},\"n\":{\"id\":\"1353\"},\"source\":{\"id\":\"1354\"},\"tour\":{\"id\":\"1355\"}},\"code\":\"\\nif ((parseInt(n.text) + 1) < source.data['edges_y'].length) {\\n    n.text = (parseInt(n.text) + 1).toString()\\n}\\nvar iteration = parseInt(n.text)\\n\\nif (iteration == source.data['edges_y'].length - 2) {\\n    iteration = iteration + 1\\n}\\n\\n    cost.text = source.data['costs'][iteration].toFixed(1)\\n    \\n    if (iteration == source.data['edges_y'].length - 1) {\\n        done.text = \\\"done.\\\"\\n    } else {\\n        done.text = \\\"\\\"\\n    }\\n\\n    tour.data['edges_x'] = source.data['edges_x'][iteration]\\n    tour.data['edges_y'] = source.data['edges_y'][iteration]\\n    tour.change.emit()\\n    \"},\"id\":\"1367\",\"type\":\"CustomJS\"},{\"attributes\":{\"align\":\"center\",\"width\":200},\"id\":\"1352\",\"type\":\"Div\"},{\"attributes\":{\"text\":\"\"},\"id\":\"1318\",\"type\":\"Title\"},{\"attributes\":{\"button_type\":\"success\",\"icon\":null,\"js_event_callbacks\":{\"button_click\":[{\"id\":\"1369\"}]},\"label\":\"Previous\",\"sizing_mode\":\"scale_width\",\"width_policy\":\"fit\"},\"id\":\"1368\",\"type\":\"Button\"},{\"attributes\":{},\"id\":\"1379\",\"type\":\"UnionRenderers\"},{\"attributes\":{\"args\":{\"cost\":{\"id\":\"1351\"},\"done\":{\"id\":\"1352\"},\"n\":{\"id\":\"1353\"},\"source\":{\"id\":\"1354\"},\"tour\":{\"id\":\"1355\"}},\"code\":\"\\nif ((parseInt(n.text) - 1) >= 0) {\\n    n.text = (parseInt(n.text) - 1).toString()\\n}\\nvar iteration = parseInt(n.text)\\n\\nif (iteration == source.data['edges_y'].length - 2) {\\n    iteration = iteration - 1\\n}\\n\\n    cost.text = source.data['costs'][iteration].toFixed(1)\\n    \\n    if (iteration == source.data['edges_y'].length - 1) {\\n        done.text = \\\"done.\\\"\\n    } else {\\n        done.text = \\\"\\\"\\n    }\\n\\n    tour.data['edges_x'] = source.data['edges_x'][iteration]\\n    tour.data['edges_y'] = source.data['edges_y'][iteration]\\n    tour.change.emit()\\n    \"},\"id\":\"1369\",\"type\":\"CustomJS\"},{\"attributes\":{},\"id\":\"1385\",\"type\":\"UnionRenderers\"},{\"attributes\":{\"children\":[{\"id\":\"1368\"},{\"id\":\"1366\"}],\"max_width\":400,\"sizing_mode\":\"stretch_both\"},\"id\":\"1370\",\"type\":\"Row\"},{\"attributes\":{\"bottom_units\":\"screen\",\"fill_alpha\":0.5,\"fill_color\":\"lightgrey\",\"left_units\":\"screen\",\"level\":\"overlay\",\"line_alpha\":1.0,\"line_color\":\"black\",\"line_dash\":[4,4],\"line_width\":2,\"right_units\":\"screen\",\"top_units\":\"screen\"},\"id\":\"1342\",\"type\":\"BoxAnnotation\"},{\"attributes\":{\"children\":[{\"id\":\"1351\"},{\"id\":\"1352\"}]},\"id\":\"1371\",\"type\":\"Row\"},{\"attributes\":{},\"id\":\"1324\",\"type\":\"LinearScale\"},{\"attributes\":{\"align\":\"center\",\"text\":\"0\",\"width\":400},\"id\":\"1353\",\"type\":\"Div\"},{\"attributes\":{\"end\":5.425,\"start\":-0.42500000000000004},\"id\":\"1320\",\"type\":\"Range1d\"},{\"attributes\":{\"data\":{\"costs\":[0,1.0,2.0,3.0,4.0,5.0,6.0,7.0,8.0,9.0,10.0,11.0,12.0,13.0,14.0,15.0,16.0,17.0,18.0,19.0,20.0,21.0,22.0,23.0,24.0,25.0,26.0,27.0,28.0,29.0,30.0,31.0,34.0,35.0,36.0,37.0,38.0,39.0,42.0,43.0,44.0,45.0,46.0,49.0,53.0,54.0,55.0,56.0,60.0],\"edges_x\":[[0.0],[0.0,1.0],[0.0,1.0,1.0],[0.0,1.0,1.0,0.0],[0.0,1.0,1.0,0.0,0.0],[0.0,1.0,1.0,0.0,0.0,1.0],[0.0,1.0,1.0,0.0,0.0,1.0,2.0],[0.0,1.0,1.0,0.0,0.0,1.0,2.0,3.0],[0.0,1.0,1.0,0.0,0.0,1.0,2.0,3.0,4.0],[0.0,1.0,1.0,0.0,0.0,1.0,2.0,3.0,4.0,4.0],[0.0,1.0,1.0,0.0,0.0,1.0,2.0,3.0,4.0,4.0,4.0],[0.0,1.0,1.0,0.0,0.0,1.0,2.0,3.0,4.0,4.0,4.0,5.0],[0.0,1.0,1.0,0.0,0.0,1.0,2.0,3.0,4.0,4.0,4.0,5.0,5.0],[0.0,1.0,1.0,0.0,0.0,1.0,2.0,3.0,4.0,4.0,4.0,5.0,5.0,5.0],[0.0,1.0,1.0,0.0,0.0,1.0,2.0,3.0,4.0,4.0,4.0,5.0,5.0,5.0,5.0],[0.0,1.0,1.0,0.0,0.0,1.0,2.0,3.0,4.0,4.0,4.0,5.0,5.0,5.0,5.0,4.0],[0.0,1.0,1.0,0.0,0.0,1.0,2.0,3.0,4.0,4.0,4.0,5.0,5.0,5.0,5.0,4.0,3.0],[0.0,1.0,1.0,0.0,0.0,1.0,2.0,3.0,4.0,4.0,4.0,5.0,5.0,5.0,5.0,4.0,3.0,3.0],[0.0,1.0,1.0,0.0,0.0,1.0,2.0,3.0,4.0,4.0,4.0,5.0,5.0,5.0,5.0,4.0,3.0,3.0,3.0],[0.0,1.0,1.0,0.0,0.0,1.0,2.0,3.0,4.0,4.0,4.0,5.0,5.0,5.0,5.0,4.0,3.0,3.0,3.0,2.0],[0.0,1.0,1.0,0.0,0.0,1.0,2.0,3.0,4.0,4.0,4.0,5.0,5.0,5.0,5.0,4.0,3.0,3.0,3.0,2.0,2.0],[0.0,1.0,1.0,0.0,0.0,1.0,2.0,3.0,4.0,4.0,4.0,5.0,5.0,5.0,5.0,4.0,3.0,3.0,3.0,2.0,2.0,2.0],[0.0,1.0,1.0,0.0,0.0,1.0,2.0,3.0,4.0,4.0,4.0,5.0,5.0,5.0,5.0,4.0,3.0,3.0,3.0,2.0,2.0,2.0,3.0],[0.0,1.0,1.0,0.0,0.0,1.0,2.0,3.0,4.0,4.0,4.0,5.0,5.0,5.0,5.0,4.0,3.0,3.0,3.0,2.0,2.0,2.0,3.0,3.0],[0.0,1.0,1.0,0.0,0.0,1.0,2.0,3.0,4.0,4.0,4.0,5.0,5.0,5.0,5.0,4.0,3.0,3.0,3.0,2.0,2.0,2.0,3.0,3.0,4.0],[0.0,1.0,1.0,0.0,0.0,1.0,2.0,3.0,4.0,4.0,4.0,5.0,5.0,5.0,5.0,4.0,3.0,3.0,3.0,2.0,2.0,2.0,3.0,3.0,4.0,4.0],[0.0,1.0,1.0,0.0,0.0,1.0,2.0,3.0,4.0,4.0,4.0,5.0,5.0,5.0,5.0,4.0,3.0,3.0,3.0,2.0,2.0,2.0,3.0,3.0,4.0,4.0,4.0],[0.0,1.0,1.0,0.0,0.0,1.0,2.0,3.0,4.0,4.0,4.0,5.0,5.0,5.0,5.0,4.0,3.0,3.0,3.0,2.0,2.0,2.0,3.0,3.0,4.0,4.0,4.0,5.0],[0.0,1.0,1.0,0.0,0.0,1.0,2.0,3.0,4.0,4.0,4.0,5.0,5.0,5.0,5.0,4.0,3.0,3.0,3.0,2.0,2.0,2.0,3.0,3.0,4.0,4.0,4.0,5.0,5.0],[0.0,1.0,1.0,0.0,0.0,1.0,2.0,3.0,4.0,4.0,4.0,5.0,5.0,5.0,5.0,4.0,3.0,3.0,3.0,2.0,2.0,2.0,3.0,3.0,4.0,4.0,4.0,5.0,5.0,5.0],[0.0,1.0,1.0,0.0,0.0,1.0,2.0,3.0,4.0,4.0,4.0,5.0,5.0,5.0,5.0,4.0,3.0,3.0,3.0,2.0,2.0,2.0,3.0,3.0,4.0,4.0,4.0,5.0,5.0,5.0,5.0],[0.0,1.0,1.0,0.0,0.0,1.0,2.0,3.0,4.0,4.0,4.0,5.0,5.0,5.0,5.0,4.0,3.0,3.0,3.0,2.0,2.0,2.0,3.0,3.0,4.0,4.0,4.0,5.0,5.0,5.0,5.0,4.0],[0.0,1.0,1.0,0.0,0.0,1.0,2.0,3.0,4.0,4.0,4.0,5.0,5.0,5.0,5.0,4.0,3.0,3.0,3.0,2.0,2.0,2.0,3.0,3.0,4.0,4.0,4.0,5.0,5.0,5.0,5.0,4.0,1.0],[0.0,1.0,1.0,0.0,0.0,1.0,2.0,3.0,4.0,4.0,4.0,5.0,5.0,5.0,5.0,4.0,3.0,3.0,3.0,2.0,2.0,2.0,3.0,3.0,4.0,4.0,4.0,5.0,5.0,5.0,5.0,4.0,1.0,1.0],[0.0,1.0,1.0,0.0,0.0,1.0,2.0,3.0,4.0,4.0,4.0,5.0,5.0,5.0,5.0,4.0,3.0,3.0,3.0,2.0,2.0,2.0,3.0,3.0,4.0,4.0,4.0,5.0,5.0,5.0,5.0,4.0,1.0,1.0,1.0],[0.0,1.0,1.0,0.0,0.0,1.0,2.0,3.0,4.0,4.0,4.0,5.0,5.0,5.0,5.0,4.0,3.0,3.0,3.0,2.0,2.0,2.0,3.0,3.0,4.0,4.0,4.0,5.0,5.0,5.0,5.0,4.0,1.0,1.0,1.0,0.0],[0.0,1.0,1.0,0.0,0.0,1.0,2.0,3.0,4.0,4.0,4.0,5.0,5.0,5.0,5.0,4.0,3.0,3.0,3.0,2.0,2.0,2.0,3.0,3.0,4.0,4.0,4.0,5.0,5.0,5.0,5.0,4.0,1.0,1.0,1.0,0.0,0.0],[0.0,1.0,1.0,0.0,0.0,1.0,2.0,3.0,4.0,4.0,4.0,5.0,5.0,5.0,5.0,4.0,3.0,3.0,3.0,2.0,2.0,2.0,3.0,3.0,4.0,4.0,4.0,5.0,5.0,5.0,5.0,4.0,1.0,1.0,1.0,0.0,0.0,0.0],[0.0,1.0,1.0,0.0,0.0,1.0,2.0,3.0,4.0,4.0,4.0,5.0,5.0,5.0,5.0,4.0,3.0,3.0,3.0,2.0,2.0,2.0,3.0,3.0,4.0,4.0,4.0,5.0,5.0,5.0,5.0,4.0,1.0,1.0,1.0,0.0,0.0,0.0,0.0],[0.0,1.0,1.0,0.0,0.0,1.0,2.0,3.0,4.0,4.0,4.0,5.0,5.0,5.0,5.0,4.0,3.0,3.0,3.0,2.0,2.0,2.0,3.0,3.0,4.0,4.0,4.0,5.0,5.0,5.0,5.0,4.0,1.0,1.0,1.0,0.0,0.0,0.0,0.0,1.0],[0.0,1.0,1.0,0.0,0.0,1.0,2.0,3.0,4.0,4.0,4.0,5.0,5.0,5.0,5.0,4.0,3.0,3.0,3.0,2.0,2.0,2.0,3.0,3.0,4.0,4.0,4.0,5.0,5.0,5.0,5.0,4.0,1.0,1.0,1.0,0.0,0.0,0.0,0.0,1.0,1.0],[0.0,1.0,1.0,0.0,0.0,1.0,2.0,3.0,4.0,4.0,4.0,5.0,5.0,5.0,5.0,4.0,3.0,3.0,3.0,2.0,2.0,2.0,3.0,3.0,4.0,4.0,4.0,5.0,5.0,5.0,5.0,4.0,1.0,1.0,1.0,0.0,0.0,0.0,0.0,1.0,1.0,2.0],[0.0,1.0,1.0,0.0,0.0,1.0,2.0,3.0,4.0,4.0,4.0,5.0,5.0,5.0,5.0,4.0,3.0,3.0,3.0,2.0,2.0,2.0,3.0,3.0,4.0,4.0,4.0,5.0,5.0,5.0,5.0,4.0,1.0,1.0,1.0,0.0,0.0,0.0,0.0,1.0,1.0,2.0,2.0],[0.0,1.0,1.0,0.0,0.0,1.0,2.0,3.0,4.0,4.0,4.0,5.0,5.0,5.0,5.0,4.0,3.0,3.0,3.0,2.0,2.0,2.0,3.0,3.0,4.0,4.0,4.0,5.0,5.0,5.0,5.0,4.0,1.0,1.0,1.0,0.0,0.0,0.0,0.0,1.0,1.0,2.0,2.0,0.0],[0.0,1.0,1.0,0.0,0.0,1.0,2.0,3.0,4.0,4.0,4.0,5.0,5.0,5.0,5.0,4.0,3.0,3.0,3.0,2.0,2.0,2.0,3.0,3.0,4.0,4.0,4.0,5.0,5.0,5.0,5.0,4.0,1.0,1.0,1.0,0.0,0.0,0.0,0.0,1.0,1.0,2.0,2.0,0.0,2.0],[0.0,1.0,1.0,0.0,0.0,1.0,2.0,3.0,4.0,4.0,4.0,5.0,5.0,5.0,5.0,4.0,3.0,3.0,3.0,2.0,2.0,2.0,3.0,3.0,4.0,4.0,4.0,5.0,5.0,5.0,5.0,4.0,1.0,1.0,1.0,0.0,0.0,0.0,0.0,1.0,1.0,2.0,2.0,0.0,2.0,2.0],[0.0,1.0,1.0,0.0,0.0,1.0,2.0,3.0,4.0,4.0,4.0,5.0,5.0,5.0,5.0,4.0,3.0,3.0,3.0,2.0,2.0,2.0,3.0,3.0,4.0,4.0,4.0,5.0,5.0,5.0,5.0,4.0,1.0,1.0,1.0,0.0,0.0,0.0,0.0,1.0,1.0,2.0,2.0,0.0,2.0,2.0,3.0],[0.0,1.0,1.0,0.0,0.0,1.0,2.0,3.0,4.0,4.0,4.0,5.0,5.0,5.0,5.0,4.0,3.0,3.0,3.0,2.0,2.0,2.0,3.0,3.0,4.0,4.0,4.0,5.0,5.0,5.0,5.0,4.0,1.0,1.0,1.0,0.0,0.0,0.0,0.0,1.0,1.0,2.0,2.0,0.0,2.0,2.0,3.0,3.0],[0.0,1.0,1.0,0.0,0.0,1.0,2.0,3.0,4.0,4.0,4.0,5.0,5.0,5.0,5.0,4.0,3.0,3.0,3.0,2.0,2.0,2.0,3.0,3.0,4.0,4.0,4.0,5.0,5.0,5.0,5.0,4.0,1.0,1.0,1.0,0.0,0.0,0.0,0.0,1.0,1.0,2.0,2.0,0.0,2.0,2.0,3.0,3.0,0.0]],\"edges_y\":[[0.0],[0.0,0.0],[0.0,0.0,1.0],[0.0,0.0,1.0,1.0],[0.0,0.0,1.0,1.0,2.0],[0.0,0.0,1.0,1.0,2.0,2.0],[0.0,0.0,1.0,1.0,2.0,2.0,2.0],[0.0,0.0,1.0,1.0,2.0,2.0,2.0,2.0],[0.0,0.0,1.0,1.0,2.0,2.0,2.0,2.0,2.0],[0.0,0.0,1.0,1.0,2.0,2.0,2.0,2.0,2.0,1.0],[0.0,0.0,1.0,1.0,2.0,2.0,2.0,2.0,2.0,1.0,0.0],[0.0,0.0,1.0,1.0,2.0,2.0,2.0,2.0,2.0,1.0,0.0,0.0],[0.0,0.0,1.0,1.0,2.0,2.0,2.0,2.0,2.0,1.0,0.0,0.0,1.0],[0.0,0.0,1.0,1.0,2.0,2.0,2.0,2.0,2.0,1.0,0.0,0.0,1.0,2.0],[0.0,0.0,1.0,1.0,2.0,2.0,2.0,2.0,2.0,1.0,0.0,0.0,1.0,2.0,3.0],[0.0,0.0,1.0,1.0,2.0,2.0,2.0,2.0,2.0,1.0,0.0,0.0,1.0,2.0,3.0,3.0],[0.0,0.0,1.0,1.0,2.0,2.0,2.0,2.0,2.0,1.0,0.0,0.0,1.0,2.0,3.0,3.0,3.0],[0.0,0.0,1.0,1.0,2.0,2.0,2.0,2.0,2.0,1.0,0.0,0.0,1.0,2.0,3.0,3.0,3.0,4.0],[0.0,0.0,1.0,1.0,2.0,2.0,2.0,2.0,2.0,1.0,0.0,0.0,1.0,2.0,3.0,3.0,3.0,4.0,5.0],[0.0,0.0,1.0,1.0,2.0,2.0,2.0,2.0,2.0,1.0,0.0,0.0,1.0,2.0,3.0,3.0,3.0,4.0,5.0,5.0],[0.0,0.0,1.0,1.0,2.0,2.0,2.0,2.0,2.0,1.0,0.0,0.0,1.0,2.0,3.0,3.0,3.0,4.0,5.0,5.0,6.0],[0.0,0.0,1.0,1.0,2.0,2.0,2.0,2.0,2.0,1.0,0.0,0.0,1.0,2.0,3.0,3.0,3.0,4.0,5.0,5.0,6.0,7.0],[0.0,0.0,1.0,1.0,2.0,2.0,2.0,2.0,2.0,1.0,0.0,0.0,1.0,2.0,3.0,3.0,3.0,4.0,5.0,5.0,6.0,7.0,7.0],[0.0,0.0,1.0,1.0,2.0,2.0,2.0,2.0,2.0,1.0,0.0,0.0,1.0,2.0,3.0,3.0,3.0,4.0,5.0,5.0,6.0,7.0,7.0,6.0],[0.0,0.0,1.0,1.0,2.0,2.0,2.0,2.0,2.0,1.0,0.0,0.0,1.0,2.0,3.0,3.0,3.0,4.0,5.0,5.0,6.0,7.0,7.0,6.0,6.0],[0.0,0.0,1.0,1.0,2.0,2.0,2.0,2.0,2.0,1.0,0.0,0.0,1.0,2.0,3.0,3.0,3.0,4.0,5.0,5.0,6.0,7.0,7.0,6.0,6.0,5.0],[0.0,0.0,1.0,1.0,2.0,2.0,2.0,2.0,2.0,1.0,0.0,0.0,1.0,2.0,3.0,3.0,3.0,4.0,5.0,5.0,6.0,7.0,7.0,6.0,6.0,5.0,4.0],[0.0,0.0,1.0,1.0,2.0,2.0,2.0,2.0,2.0,1.0,0.0,0.0,1.0,2.0,3.0,3.0,3.0,4.0,5.0,5.0,6.0,7.0,7.0,6.0,6.0,5.0,4.0,4.0],[0.0,0.0,1.0,1.0,2.0,2.0,2.0,2.0,2.0,1.0,0.0,0.0,1.0,2.0,3.0,3.0,3.0,4.0,5.0,5.0,6.0,7.0,7.0,6.0,6.0,5.0,4.0,4.0,5.0],[0.0,0.0,1.0,1.0,2.0,2.0,2.0,2.0,2.0,1.0,0.0,0.0,1.0,2.0,3.0,3.0,3.0,4.0,5.0,5.0,6.0,7.0,7.0,6.0,6.0,5.0,4.0,4.0,5.0,6.0],[0.0,0.0,1.0,1.0,2.0,2.0,2.0,2.0,2.0,1.0,0.0,0.0,1.0,2.0,3.0,3.0,3.0,4.0,5.0,5.0,6.0,7.0,7.0,6.0,6.0,5.0,4.0,4.0,5.0,6.0,7.0],[0.0,0.0,1.0,1.0,2.0,2.0,2.0,2.0,2.0,1.0,0.0,0.0,1.0,2.0,3.0,3.0,3.0,4.0,5.0,5.0,6.0,7.0,7.0,6.0,6.0,5.0,4.0,4.0,5.0,6.0,7.0,7.0],[0.0,0.0,1.0,1.0,2.0,2.0,2.0,2.0,2.0,1.0,0.0,0.0,1.0,2.0,3.0,3.0,3.0,4.0,5.0,5.0,6.0,7.0,7.0,6.0,6.0,5.0,4.0,4.0,5.0,6.0,7.0,7.0,7.0],[0.0,0.0,1.0,1.0,2.0,2.0,2.0,2.0,2.0,1.0,0.0,0.0,1.0,2.0,3.0,3.0,3.0,4.0,5.0,5.0,6.0,7.0,7.0,6.0,6.0,5.0,4.0,4.0,5.0,6.0,7.0,7.0,7.0,6.0],[0.0,0.0,1.0,1.0,2.0,2.0,2.0,2.0,2.0,1.0,0.0,0.0,1.0,2.0,3.0,3.0,3.0,4.0,5.0,5.0,6.0,7.0,7.0,6.0,6.0,5.0,4.0,4.0,5.0,6.0,7.0,7.0,7.0,6.0,5.0],[0.0,0.0,1.0,1.0,2.0,2.0,2.0,2.0,2.0,1.0,0.0,0.0,1.0,2.0,3.0,3.0,3.0,4.0,5.0,5.0,6.0,7.0,7.0,6.0,6.0,5.0,4.0,4.0,5.0,6.0,7.0,7.0,7.0,6.0,5.0,5.0],[0.0,0.0,1.0,1.0,2.0,2.0,2.0,2.0,2.0,1.0,0.0,0.0,1.0,2.0,3.0,3.0,3.0,4.0,5.0,5.0,6.0,7.0,7.0,6.0,6.0,5.0,4.0,4.0,5.0,6.0,7.0,7.0,7.0,6.0,5.0,5.0,6.0],[0.0,0.0,1.0,1.0,2.0,2.0,2.0,2.0,2.0,1.0,0.0,0.0,1.0,2.0,3.0,3.0,3.0,4.0,5.0,5.0,6.0,7.0,7.0,6.0,6.0,5.0,4.0,4.0,5.0,6.0,7.0,7.0,7.0,6.0,5.0,5.0,6.0,7.0],[0.0,0.0,1.0,1.0,2.0,2.0,2.0,2.0,2.0,1.0,0.0,0.0,1.0,2.0,3.0,3.0,3.0,4.0,5.0,5.0,6.0,7.0,7.0,6.0,6.0,5.0,4.0,4.0,5.0,6.0,7.0,7.0,7.0,6.0,5.0,5.0,6.0,7.0,4.0],[0.0,0.0,1.0,1.0,2.0,2.0,2.0,2.0,2.0,1.0,0.0,0.0,1.0,2.0,3.0,3.0,3.0,4.0,5.0,5.0,6.0,7.0,7.0,6.0,6.0,5.0,4.0,4.0,5.0,6.0,7.0,7.0,7.0,6.0,5.0,5.0,6.0,7.0,4.0,4.0],[0.0,0.0,1.0,1.0,2.0,2.0,2.0,2.0,2.0,1.0,0.0,0.0,1.0,2.0,3.0,3.0,3.0,4.0,5.0,5.0,6.0,7.0,7.0,6.0,6.0,5.0,4.0,4.0,5.0,6.0,7.0,7.0,7.0,6.0,5.0,5.0,6.0,7.0,4.0,4.0,3.0],[0.0,0.0,1.0,1.0,2.0,2.0,2.0,2.0,2.0,1.0,0.0,0.0,1.0,2.0,3.0,3.0,3.0,4.0,5.0,5.0,6.0,7.0,7.0,6.0,6.0,5.0,4.0,4.0,5.0,6.0,7.0,7.0,7.0,6.0,5.0,5.0,6.0,7.0,4.0,4.0,3.0,3.0],[0.0,0.0,1.0,1.0,2.0,2.0,2.0,2.0,2.0,1.0,0.0,0.0,1.0,2.0,3.0,3.0,3.0,4.0,5.0,5.0,6.0,7.0,7.0,6.0,6.0,5.0,4.0,4.0,5.0,6.0,7.0,7.0,7.0,6.0,5.0,5.0,6.0,7.0,4.0,4.0,3.0,3.0,4.0],[0.0,0.0,1.0,1.0,2.0,2.0,2.0,2.0,2.0,1.0,0.0,0.0,1.0,2.0,3.0,3.0,3.0,4.0,5.0,5.0,6.0,7.0,7.0,6.0,6.0,5.0,4.0,4.0,5.0,6.0,7.0,7.0,7.0,6.0,5.0,5.0,6.0,7.0,4.0,4.0,3.0,3.0,4.0,3.0],[0.0,0.0,1.0,1.0,2.0,2.0,2.0,2.0,2.0,1.0,0.0,0.0,1.0,2.0,3.0,3.0,3.0,4.0,5.0,5.0,6.0,7.0,7.0,6.0,6.0,5.0,4.0,4.0,5.0,6.0,7.0,7.0,7.0,6.0,5.0,5.0,6.0,7.0,4.0,4.0,3.0,3.0,4.0,3.0,1.0],[0.0,0.0,1.0,1.0,2.0,2.0,2.0,2.0,2.0,1.0,0.0,0.0,1.0,2.0,3.0,3.0,3.0,4.0,5.0,5.0,6.0,7.0,7.0,6.0,6.0,5.0,4.0,4.0,5.0,6.0,7.0,7.0,7.0,6.0,5.0,5.0,6.0,7.0,4.0,4.0,3.0,3.0,4.0,3.0,1.0,0.0],[0.0,0.0,1.0,1.0,2.0,2.0,2.0,2.0,2.0,1.0,0.0,0.0,1.0,2.0,3.0,3.0,3.0,4.0,5.0,5.0,6.0,7.0,7.0,6.0,6.0,5.0,4.0,4.0,5.0,6.0,7.0,7.0,7.0,6.0,5.0,5.0,6.0,7.0,4.0,4.0,3.0,3.0,4.0,3.0,1.0,0.0,0.0],[0.0,0.0,1.0,1.0,2.0,2.0,2.0,2.0,2.0,1.0,0.0,0.0,1.0,2.0,3.0,3.0,3.0,4.0,5.0,5.0,6.0,7.0,7.0,6.0,6.0,5.0,4.0,4.0,5.0,6.0,7.0,7.0,7.0,6.0,5.0,5.0,6.0,7.0,4.0,4.0,3.0,3.0,4.0,3.0,1.0,0.0,0.0,1.0],[0.0,0.0,1.0,1.0,2.0,2.0,2.0,2.0,2.0,1.0,0.0,0.0,1.0,2.0,3.0,3.0,3.0,4.0,5.0,5.0,6.0,7.0,7.0,6.0,6.0,5.0,4.0,4.0,5.0,6.0,7.0,7.0,7.0,6.0,5.0,5.0,6.0,7.0,4.0,4.0,3.0,3.0,4.0,3.0,1.0,0.0,0.0,1.0,0.0]]},\"selected\":{\"id\":\"1386\"},\"selection_policy\":{\"id\":\"1385\"}},\"id\":\"1354\",\"type\":\"ColumnDataSource\"},{\"attributes\":{\"end\":7.595,\"start\":-0.5950000000000001},\"id\":\"1322\",\"type\":\"Range1d\"},{\"attributes\":{\"axis\":{\"id\":\"1332\"},\"dimension\":1,\"grid_line_color\":null,\"ticker\":null},\"id\":\"1335\",\"type\":\"Grid\"},{\"attributes\":{},\"id\":\"1373\",\"type\":\"BasicTickFormatter\"},{\"attributes\":{\"data\":{\"edges_x\":[0.0],\"edges_y\":[0.0]},\"selected\":{\"id\":\"1378\"},\"selection_policy\":{\"id\":\"1377\"}},\"id\":\"1355\",\"type\":\"ColumnDataSource\"},{\"attributes\":{},\"id\":\"1333\",\"type\":\"BasicTicker\"},{\"attributes\":{\"formatter\":{\"id\":\"1375\"},\"ticker\":{\"id\":\"1333\"},\"visible\":false},\"id\":\"1332\",\"type\":\"LinearAxis\"},{\"attributes\":{},\"id\":\"1375\",\"type\":\"BasicTickFormatter\"},{\"attributes\":{},\"id\":\"1378\",\"type\":\"Selection\"},{\"attributes\":{},\"id\":\"1377\",\"type\":\"UnionRenderers\"},{\"attributes\":{\"data\":{\"x\":[0.0,0.0,0.0,0.0,0.0,0.0,0.0,0.0,1.0,1.0,1.0,1.0,1.0,1.0,1.0,1.0,2.0,2.0,2.0,2.0,2.0,2.0,2.0,2.0,3.0,3.0,3.0,3.0,3.0,3.0,3.0,3.0,4.0,4.0,4.0,4.0,4.0,4.0,4.0,4.0,5.0,5.0,5.0,5.0,5.0,5.0,5.0,5.0],\"y\":[0.0,1.0,2.0,3.0,4.0,5.0,6.0,7.0,0.0,1.0,2.0,3.0,4.0,5.0,6.0,7.0,0.0,1.0,2.0,3.0,4.0,5.0,6.0,7.0,0.0,1.0,2.0,3.0,4.0,5.0,6.0,7.0,0.0,1.0,2.0,3.0,4.0,5.0,6.0,7.0,0.0,1.0,2.0,3.0,4.0,5.0,6.0,7.0]},\"selected\":{\"id\":\"1380\"},\"selection_policy\":{\"id\":\"1379\"}},\"id\":\"1361\",\"type\":\"ColumnDataSource\"},{\"attributes\":{},\"id\":\"1326\",\"type\":\"LinearScale\"},{\"attributes\":{},\"id\":\"1386\",\"type\":\"Selection\"},{\"attributes\":{\"line_alpha\":0.1,\"line_width\":4,\"x\":{\"field\":\"edges_x\"},\"y\":{\"field\":\"edges_y\"}},\"id\":\"1358\",\"type\":\"Line\"},{\"attributes\":{\"line_width\":4,\"x\":{\"field\":\"edges_x\"},\"y\":{\"field\":\"edges_y\"}},\"id\":\"1357\",\"type\":\"Line\"},{\"attributes\":{\"formatter\":{\"id\":\"1373\"},\"ticker\":{\"id\":\"1329\"},\"visible\":false},\"id\":\"1328\",\"type\":\"LinearAxis\"},{\"attributes\":{\"background_fill_color\":null,\"below\":[{\"id\":\"1328\"}],\"border_fill_color\":null,\"center\":[{\"id\":\"1331\"},{\"id\":\"1335\"}],\"left\":[{\"id\":\"1332\"}],\"outline_line_color\":null,\"plot_height\":400,\"plot_width\":400,\"renderers\":[{\"id\":\"1359\"},{\"id\":\"1364\"}],\"title\":{\"id\":\"1318\"},\"toolbar\":{\"id\":\"1343\"},\"toolbar_location\":null,\"x_range\":{\"id\":\"1320\"},\"x_scale\":{\"id\":\"1324\"},\"y_range\":{\"id\":\"1322\"},\"y_scale\":{\"id\":\"1326\"}},\"id\":\"1317\",\"subtype\":\"Figure\",\"type\":\"Plot\"},{\"attributes\":{\"source\":{\"id\":\"1355\"}},\"id\":\"1360\",\"type\":\"CDSView\"},{\"attributes\":{},\"id\":\"1329\",\"type\":\"BasicTicker\"},{\"attributes\":{\"axis\":{\"id\":\"1328\"},\"grid_line_color\":null,\"ticker\":null},\"id\":\"1331\",\"type\":\"Grid\"}],\"root_ids\":[\"1387\"]},\"title\":\"Bokeh Application\",\"version\":\"2.1.0\"}};\n",
       "  var render_items = [{\"docid\":\"422fd7a0-ab19-4db0-b63e-8f2cba04b0cf\",\"root_ids\":[\"1387\"],\"roots\":{\"1387\":\"ea151fec-644a-4101-bd4c-dceef829ef4a\"}}];\n",
       "  root.Bokeh.embed.embed_items_notebook(docs_json, render_items);\n",
       "\n",
       "  }\n",
       "  if (root.Bokeh !== undefined) {\n",
       "    embed_document(root);\n",
       "  } else {\n",
       "    var attempts = 0;\n",
       "    var timer = setInterval(function(root) {\n",
       "      if (root.Bokeh !== undefined) {\n",
       "        clearInterval(timer);\n",
       "        embed_document(root);\n",
       "      } else {\n",
       "        attempts++;\n",
       "        if (attempts > 100) {\n",
       "          clearInterval(timer);\n",
       "          console.log(\"Bokeh: ERROR: Unable to run BokehJS code because BokehJS library is missing\");\n",
       "        }\n",
       "      }\n",
       "    }, 10, root)\n",
       "  }\n",
       "})(window);"
      ],
      "application/vnd.bokehjs_exec.v0+json": ""
     },
     "metadata": {
      "application/vnd.bokehjs_exec.v0+json": {
       "id": "1387"
      }
     },
     "output_type": "display_data"
    }
   ],
   "source": [
    "tour = plot_tsp_heuristic(nodes, G, heuristic='nearest_neighbor', initial=0)"
   ]
  },
  {
   "cell_type": "markdown",
   "metadata": {},
   "source": [
    "**Q4:** As you iterate through, examine the \"choices\" made by the algorithm at each step. What does it do well? What does it do poorly?\n",
    "\n",
    "**A:** <font color='blue'>It does better than random neighbor because it often moves to a node close to the one it is currently on. However, it can essentially box itself out of certain regions of the graph. In the end, it often has to make lengthy jumps to get nodes it missed along the way. </font>"
   ]
  },
  {
   "cell_type": "markdown",
   "metadata": {},
   "source": [
    "**Q5:** Run this a few times. Do you get the same tour every time? Why or why not?\n",
    "\n",
    "**A:** <font color='blue'>No, because if there are multiple choices for the closest node, one is chosen randomly.</font>"
   ]
  },
  {
   "cell_type": "markdown",
   "metadata": {},
   "source": [
    "Now, let's look at the nearest insertion heuristic."
   ]
  },
  {
   "cell_type": "code",
   "execution_count": 11,
   "metadata": {
    "scrolled": false
   },
   "outputs": [
    {
     "data": {
      "text/html": [
       "\n",
       "\n",
       "\n",
       "\n",
       "\n",
       "\n",
       "  <div class=\"bk-root\" id=\"25c3a874-7d4b-48e6-8662-92ab544c0382\" data-root-id=\"1564\"></div>\n"
      ]
     },
     "metadata": {},
     "output_type": "display_data"
    },
    {
     "data": {
      "application/javascript": [
       "(function(root) {\n",
       "  function embed_document(root) {\n",
       "    \n",
       "  var docs_json = {\"47cc42aa-ee1b-434d-8c1c-9c575e4065a9\":{\"roots\":{\"references\":[{\"attributes\":{\"children\":[[{\"id\":\"1494\"},0,0],[{\"id\":\"1547\"},1,0],[{\"id\":\"1548\"},2,0]]},\"id\":\"1564\",\"type\":\"GridBox\"},{\"attributes\":{},\"id\":\"1513\",\"type\":\"PanTool\"},{\"attributes\":{},\"id\":\"1562\",\"type\":\"UnionRenderers\"},{\"attributes\":{\"data\":{\"x\":[0.0,0.0,0.0,0.0,0.0,0.0,0.0,0.0,1.0,1.0,1.0,1.0,1.0,1.0,1.0,1.0,2.0,2.0,2.0,2.0,2.0,2.0,2.0,2.0,3.0,3.0,3.0,3.0,3.0,3.0,3.0,3.0,4.0,4.0,4.0,4.0,4.0,4.0,4.0,4.0,5.0,5.0,5.0,5.0,5.0,5.0,5.0,5.0],\"y\":[0.0,1.0,2.0,3.0,4.0,5.0,6.0,7.0,0.0,1.0,2.0,3.0,4.0,5.0,6.0,7.0,0.0,1.0,2.0,3.0,4.0,5.0,6.0,7.0,0.0,1.0,2.0,3.0,4.0,5.0,6.0,7.0,0.0,1.0,2.0,3.0,4.0,5.0,6.0,7.0,0.0,1.0,2.0,3.0,4.0,5.0,6.0,7.0]},\"selected\":{\"id\":\"1557\"},\"selection_policy\":{\"id\":\"1556\"}},\"id\":\"1538\",\"type\":\"ColumnDataSource\"},{\"attributes\":{},\"id\":\"1514\",\"type\":\"WheelZoomTool\"},{\"attributes\":{},\"id\":\"1563\",\"type\":\"Selection\"},{\"attributes\":{\"button_type\":\"success\",\"icon\":null,\"js_event_callbacks\":{\"button_click\":[{\"id\":\"1544\"}]},\"label\":\"Next\",\"sizing_mode\":\"scale_width\",\"width_policy\":\"fit\"},\"id\":\"1543\",\"type\":\"Button\"},{\"attributes\":{\"overlay\":{\"id\":\"1519\"}},\"id\":\"1515\",\"type\":\"BoxZoomTool\"},{\"attributes\":{\"background_fill_color\":null,\"below\":[{\"id\":\"1505\"}],\"border_fill_color\":null,\"center\":[{\"id\":\"1508\"},{\"id\":\"1512\"}],\"left\":[{\"id\":\"1509\"}],\"outline_line_color\":null,\"plot_height\":400,\"plot_width\":400,\"renderers\":[{\"id\":\"1536\"},{\"id\":\"1541\"}],\"title\":{\"id\":\"1495\"},\"toolbar\":{\"id\":\"1520\"},\"toolbar_location\":null,\"x_range\":{\"id\":\"1497\"},\"x_scale\":{\"id\":\"1501\"},\"y_range\":{\"id\":\"1499\"},\"y_scale\":{\"id\":\"1503\"}},\"id\":\"1494\",\"subtype\":\"Figure\",\"type\":\"Plot\"},{\"attributes\":{\"fill_color\":{\"value\":\"steelblue\"},\"line_color\":{\"value\":\"steelblue\"},\"size\":{\"units\":\"screen\",\"value\":8},\"x\":{\"field\":\"x\"},\"y\":{\"field\":\"y\"}},\"id\":\"1539\",\"type\":\"Circle\"},{\"attributes\":{},\"id\":\"1516\",\"type\":\"SaveTool\"},{\"attributes\":{\"text\":\"\"},\"id\":\"1495\",\"type\":\"Title\"},{\"attributes\":{\"fill_alpha\":{\"value\":0.1},\"fill_color\":{\"value\":\"steelblue\"},\"line_alpha\":{\"value\":0.1},\"line_color\":{\"value\":\"steelblue\"},\"size\":{\"units\":\"screen\",\"value\":8},\"x\":{\"field\":\"x\"},\"y\":{\"field\":\"y\"}},\"id\":\"1540\",\"type\":\"Circle\"},{\"attributes\":{\"source\":{\"id\":\"1538\"}},\"id\":\"1542\",\"type\":\"CDSView\"},{\"attributes\":{},\"id\":\"1517\",\"type\":\"ResetTool\"},{\"attributes\":{},\"id\":\"1518\",\"type\":\"HelpTool\"},{\"attributes\":{\"data_source\":{\"id\":\"1538\"},\"glyph\":{\"id\":\"1539\"},\"hover_glyph\":null,\"muted_glyph\":null,\"nonselection_glyph\":{\"id\":\"1540\"},\"selection_glyph\":null,\"view\":{\"id\":\"1542\"}},\"id\":\"1541\",\"type\":\"GlyphRenderer\"},{\"attributes\":{\"end\":5.425,\"start\":-0.42500000000000004},\"id\":\"1497\",\"type\":\"Range1d\"},{\"attributes\":{\"args\":{\"cost\":{\"id\":\"1528\"},\"done\":{\"id\":\"1529\"},\"n\":{\"id\":\"1530\"},\"source\":{\"id\":\"1531\"},\"tour\":{\"id\":\"1532\"}},\"code\":\"\\nif ((parseInt(n.text) + 1) < source.data['edges_y'].length) {\\n    n.text = (parseInt(n.text) + 1).toString()\\n}\\nvar iteration = parseInt(n.text)\\n\\nif (iteration == source.data['edges_y'].length - 2) {\\n    iteration = iteration + 1\\n}\\n\\n    cost.text = source.data['costs'][iteration].toFixed(1)\\n    \\n    if (iteration == source.data['edges_y'].length - 1) {\\n        done.text = \\\"done.\\\"\\n    } else {\\n        done.text = \\\"\\\"\\n    }\\n\\n    tour.data['edges_x'] = source.data['edges_x'][iteration]\\n    tour.data['edges_y'] = source.data['edges_y'][iteration]\\n    tour.change.emit()\\n    \"},\"id\":\"1544\",\"type\":\"CustomJS\"},{\"attributes\":{\"active_drag\":\"auto\",\"active_inspect\":\"auto\",\"active_multi\":null,\"active_scroll\":\"auto\",\"active_tap\":\"auto\",\"logo\":null,\"tools\":[{\"id\":\"1513\"},{\"id\":\"1514\"},{\"id\":\"1515\"},{\"id\":\"1516\"},{\"id\":\"1517\"},{\"id\":\"1518\"}]},\"id\":\"1520\",\"type\":\"Toolbar\"},{\"attributes\":{\"end\":7.595,\"start\":-0.5950000000000001},\"id\":\"1499\",\"type\":\"Range1d\"},{\"attributes\":{\"button_type\":\"success\",\"icon\":null,\"js_event_callbacks\":{\"button_click\":[{\"id\":\"1546\"}]},\"label\":\"Previous\",\"sizing_mode\":\"scale_width\",\"width_policy\":\"fit\"},\"id\":\"1545\",\"type\":\"Button\"},{\"attributes\":{\"line_width\":4,\"x\":{\"field\":\"edges_x\"},\"y\":{\"field\":\"edges_y\"}},\"id\":\"1534\",\"type\":\"Line\"},{\"attributes\":{},\"id\":\"1501\",\"type\":\"LinearScale\"},{\"attributes\":{\"args\":{\"cost\":{\"id\":\"1528\"},\"done\":{\"id\":\"1529\"},\"n\":{\"id\":\"1530\"},\"source\":{\"id\":\"1531\"},\"tour\":{\"id\":\"1532\"}},\"code\":\"\\nif ((parseInt(n.text) - 1) >= 0) {\\n    n.text = (parseInt(n.text) - 1).toString()\\n}\\nvar iteration = parseInt(n.text)\\n\\nif (iteration == source.data['edges_y'].length - 2) {\\n    iteration = iteration - 1\\n}\\n\\n    cost.text = source.data['costs'][iteration].toFixed(1)\\n    \\n    if (iteration == source.data['edges_y'].length - 1) {\\n        done.text = \\\"done.\\\"\\n    } else {\\n        done.text = \\\"\\\"\\n    }\\n\\n    tour.data['edges_x'] = source.data['edges_x'][iteration]\\n    tour.data['edges_y'] = source.data['edges_y'][iteration]\\n    tour.change.emit()\\n    \"},\"id\":\"1546\",\"type\":\"CustomJS\"},{\"attributes\":{},\"id\":\"1503\",\"type\":\"LinearScale\"},{\"attributes\":{\"children\":[{\"id\":\"1545\"},{\"id\":\"1543\"}],\"max_width\":400,\"sizing_mode\":\"stretch_both\"},\"id\":\"1547\",\"type\":\"Row\"},{\"attributes\":{\"formatter\":{\"id\":\"1550\"},\"ticker\":{\"id\":\"1506\"},\"visible\":false},\"id\":\"1505\",\"type\":\"LinearAxis\"},{\"attributes\":{\"children\":[{\"id\":\"1528\"},{\"id\":\"1529\"}]},\"id\":\"1548\",\"type\":\"Row\"},{\"attributes\":{},\"id\":\"1506\",\"type\":\"BasicTicker\"},{\"attributes\":{\"line_alpha\":0.1,\"line_width\":4,\"x\":{\"field\":\"edges_x\"},\"y\":{\"field\":\"edges_y\"}},\"id\":\"1535\",\"type\":\"Line\"},{\"attributes\":{\"axis\":{\"id\":\"1505\"},\"grid_line_color\":null,\"ticker\":null},\"id\":\"1508\",\"type\":\"Grid\"},{\"attributes\":{},\"id\":\"1550\",\"type\":\"BasicTickFormatter\"},{\"attributes\":{\"formatter\":{\"id\":\"1552\"},\"ticker\":{\"id\":\"1510\"},\"visible\":false},\"id\":\"1509\",\"type\":\"LinearAxis\"},{\"attributes\":{\"data_source\":{\"id\":\"1532\"},\"glyph\":{\"id\":\"1534\"},\"hover_glyph\":null,\"muted_glyph\":null,\"nonselection_glyph\":{\"id\":\"1535\"},\"selection_glyph\":null,\"view\":{\"id\":\"1537\"}},\"id\":\"1536\",\"type\":\"GlyphRenderer\"},{\"attributes\":{},\"id\":\"1552\",\"type\":\"BasicTickFormatter\"},{\"attributes\":{\"bottom_units\":\"screen\",\"fill_alpha\":0.5,\"fill_color\":\"lightgrey\",\"left_units\":\"screen\",\"level\":\"overlay\",\"line_alpha\":1.0,\"line_color\":\"black\",\"line_dash\":[4,4],\"line_width\":2,\"right_units\":\"screen\",\"top_units\":\"screen\"},\"id\":\"1519\",\"type\":\"BoxAnnotation\"},{\"attributes\":{},\"id\":\"1510\",\"type\":\"BasicTicker\"},{\"attributes\":{},\"id\":\"1554\",\"type\":\"UnionRenderers\"},{\"attributes\":{\"data\":{\"costs\":[2.0,4.0,4.0,6.0,8.0,10.0,10.0,12.0,14.0,16.0,16.0,16.0,18.0,20.0,22.0,24.0,26.0,28.0,30.0,32.0,32.0,34.0,36.0,36.0,36.0,38.0,40.0,40.0,42.0,44.0,44.0,46.0,48.0,48.0,50.0,50.0,52.0,54.0,56.0,58.0,58.0,58.0,58.0,60.0,62.0,62.0,62.0,62.0],\"edges_x\":[[0.0,0.0,0.0],[0.0,1.0,0.0,0.0],[0.0,1.0,1.0,0.0,0.0],[0.0,2.0,1.0,1.0,0.0,0.0],[0.0,2.0,1.0,1.0,0.0,0.0,0.0],[0.0,3.0,2.0,1.0,1.0,0.0,0.0,0.0],[0.0,3.0,2.0,1.0,1.0,1.0,0.0,0.0,0.0],[0.0,4.0,3.0,2.0,1.0,1.0,1.0,0.0,0.0,0.0],[0.0,4.0,3.0,2.0,1.0,1.0,1.0,0.0,0.0,0.0,0.0],[0.0,2.0,4.0,3.0,2.0,1.0,1.0,1.0,0.0,0.0,0.0,0.0],[0.0,2.0,3.0,4.0,3.0,2.0,1.0,1.0,1.0,0.0,0.0,0.0,0.0],[0.0,2.0,3.0,4.0,4.0,3.0,2.0,1.0,1.0,1.0,0.0,0.0,0.0,0.0],[0.0,2.0,2.0,3.0,4.0,4.0,3.0,2.0,1.0,1.0,1.0,0.0,0.0,0.0,0.0],[0.0,2.0,2.0,3.0,4.0,5.0,4.0,3.0,2.0,1.0,1.0,1.0,0.0,0.0,0.0,0.0],[0.0,3.0,2.0,2.0,3.0,4.0,5.0,4.0,3.0,2.0,1.0,1.0,1.0,0.0,0.0,0.0,0.0],[0.0,3.0,3.0,2.0,2.0,3.0,4.0,5.0,4.0,3.0,2.0,1.0,1.0,1.0,0.0,0.0,0.0,0.0],[0.0,4.0,3.0,3.0,2.0,2.0,3.0,4.0,5.0,4.0,3.0,2.0,1.0,1.0,1.0,0.0,0.0,0.0,0.0],[0.0,4.0,3.0,3.0,3.0,2.0,2.0,3.0,4.0,5.0,4.0,3.0,2.0,1.0,1.0,1.0,0.0,0.0,0.0,0.0],[0.0,5.0,4.0,3.0,3.0,3.0,2.0,2.0,3.0,4.0,5.0,4.0,3.0,2.0,1.0,1.0,1.0,0.0,0.0,0.0,0.0],[0.0,5.0,4.0,3.0,3.0,3.0,2.0,2.0,3.0,4.0,5.0,4.0,3.0,2.0,1.0,1.0,1.0,0.0,0.0,0.0,0.0,0.0],[0.0,5.0,4.0,4.0,3.0,3.0,3.0,2.0,2.0,3.0,4.0,5.0,4.0,3.0,2.0,1.0,1.0,1.0,0.0,0.0,0.0,0.0,0.0],[0.0,5.0,4.0,4.0,3.0,3.0,3.0,3.0,2.0,2.0,3.0,4.0,5.0,4.0,3.0,2.0,1.0,1.0,1.0,0.0,0.0,0.0,0.0,0.0],[0.0,5.0,4.0,4.0,2.0,3.0,3.0,3.0,3.0,2.0,2.0,3.0,4.0,5.0,4.0,3.0,2.0,1.0,1.0,1.0,0.0,0.0,0.0,0.0,0.0],[0.0,5.0,4.0,4.0,2.0,3.0,3.0,3.0,3.0,2.0,2.0,3.0,4.0,5.0,4.0,3.0,2.0,1.0,1.0,1.0,1.0,0.0,0.0,0.0,0.0,0.0],[0.0,5.0,4.0,4.0,2.0,2.0,3.0,3.0,3.0,3.0,2.0,2.0,3.0,4.0,5.0,4.0,3.0,2.0,1.0,1.0,1.0,1.0,0.0,0.0,0.0,0.0,0.0],[0.0,5.0,4.0,4.0,2.0,1.0,2.0,3.0,3.0,3.0,3.0,2.0,2.0,3.0,4.0,5.0,4.0,3.0,2.0,1.0,1.0,1.0,1.0,0.0,0.0,0.0,0.0,0.0],[0.0,5.0,4.0,4.0,2.0,1.0,1.0,2.0,3.0,3.0,3.0,3.0,2.0,2.0,3.0,4.0,5.0,4.0,3.0,2.0,1.0,1.0,1.0,1.0,0.0,0.0,0.0,0.0,0.0],[0.0,5.0,5.0,4.0,4.0,2.0,1.0,1.0,2.0,3.0,3.0,3.0,3.0,2.0,2.0,3.0,4.0,5.0,4.0,3.0,2.0,1.0,1.0,1.0,1.0,0.0,0.0,0.0,0.0,0.0],[0.0,5.0,5.0,5.0,4.0,4.0,2.0,1.0,1.0,2.0,3.0,3.0,3.0,3.0,2.0,2.0,3.0,4.0,5.0,4.0,3.0,2.0,1.0,1.0,1.0,1.0,0.0,0.0,0.0,0.0,0.0],[0.0,5.0,5.0,5.0,4.0,4.0,4.0,2.0,1.0,1.0,2.0,3.0,3.0,3.0,3.0,2.0,2.0,3.0,4.0,5.0,4.0,3.0,2.0,1.0,1.0,1.0,1.0,0.0,0.0,0.0,0.0,0.0],[0.0,5.0,5.0,5.0,4.0,4.0,4.0,2.0,1.0,1.0,1.0,2.0,3.0,3.0,3.0,3.0,2.0,2.0,3.0,4.0,5.0,4.0,3.0,2.0,1.0,1.0,1.0,1.0,0.0,0.0,0.0,0.0,0.0],[0.0,5.0,5.0,5.0,4.0,4.0,4.0,2.0,1.0,0.0,1.0,1.0,2.0,3.0,3.0,3.0,3.0,2.0,2.0,3.0,4.0,5.0,4.0,3.0,2.0,1.0,1.0,1.0,1.0,0.0,0.0,0.0,0.0,0.0],[0.0,5.0,5.0,5.0,4.0,4.0,4.0,2.0,2.0,1.0,0.0,1.0,1.0,2.0,3.0,3.0,3.0,3.0,2.0,2.0,3.0,4.0,5.0,4.0,3.0,2.0,1.0,1.0,1.0,1.0,0.0,0.0,0.0,0.0,0.0],[0.0,5.0,5.0,5.0,4.0,4.0,4.0,4.0,2.0,2.0,1.0,0.0,1.0,1.0,2.0,3.0,3.0,3.0,3.0,2.0,2.0,3.0,4.0,5.0,4.0,3.0,2.0,1.0,1.0,1.0,1.0,0.0,0.0,0.0,0.0,0.0],[0.0,5.0,5.0,5.0,4.0,4.0,4.0,4.0,2.0,2.0,2.0,1.0,0.0,1.0,1.0,2.0,3.0,3.0,3.0,3.0,2.0,2.0,3.0,4.0,5.0,4.0,3.0,2.0,1.0,1.0,1.0,1.0,0.0,0.0,0.0,0.0,0.0],[0.0,5.0,5.0,5.0,4.0,4.0,4.0,4.0,4.0,2.0,2.0,2.0,1.0,0.0,1.0,1.0,2.0,3.0,3.0,3.0,3.0,2.0,2.0,3.0,4.0,5.0,4.0,3.0,2.0,1.0,1.0,1.0,1.0,0.0,0.0,0.0,0.0,0.0],[0.0,5.0,5.0,5.0,5.0,4.0,4.0,4.0,4.0,4.0,2.0,2.0,2.0,1.0,0.0,1.0,1.0,2.0,3.0,3.0,3.0,3.0,2.0,2.0,3.0,4.0,5.0,4.0,3.0,2.0,1.0,1.0,1.0,1.0,0.0,0.0,0.0,0.0,0.0],[0.0,5.0,5.0,5.0,5.0,4.0,4.0,4.0,4.0,4.0,2.0,2.0,2.0,1.0,0.0,1.0,1.0,1.0,2.0,3.0,3.0,3.0,3.0,2.0,2.0,3.0,4.0,5.0,4.0,3.0,2.0,1.0,1.0,1.0,1.0,0.0,0.0,0.0,0.0,0.0],[0.0,5.0,5.0,5.0,5.0,5.0,4.0,4.0,4.0,4.0,4.0,2.0,2.0,2.0,1.0,0.0,1.0,1.0,1.0,2.0,3.0,3.0,3.0,3.0,2.0,2.0,3.0,4.0,5.0,4.0,3.0,2.0,1.0,1.0,1.0,1.0,0.0,0.0,0.0,0.0,0.0],[0.0,5.0,5.0,5.0,5.0,5.0,4.0,4.0,4.0,4.0,4.0,2.0,2.0,2.0,2.0,1.0,0.0,1.0,1.0,1.0,2.0,3.0,3.0,3.0,3.0,2.0,2.0,3.0,4.0,5.0,4.0,3.0,2.0,1.0,1.0,1.0,1.0,0.0,0.0,0.0,0.0,0.0],[0.0,5.0,5.0,5.0,5.0,5.0,4.0,4.0,4.0,4.0,4.0,3.0,2.0,2.0,2.0,2.0,1.0,0.0,1.0,1.0,1.0,2.0,3.0,3.0,3.0,3.0,2.0,2.0,3.0,4.0,5.0,4.0,3.0,2.0,1.0,1.0,1.0,1.0,0.0,0.0,0.0,0.0,0.0],[0.0,5.0,5.0,5.0,5.0,5.0,4.0,4.0,4.0,4.0,4.0,3.0,2.0,2.0,2.0,2.0,1.0,0.0,0.0,1.0,1.0,1.0,2.0,3.0,3.0,3.0,3.0,2.0,2.0,3.0,4.0,5.0,4.0,3.0,2.0,1.0,1.0,1.0,1.0,0.0,0.0,0.0,0.0,0.0],[0.0,5.0,5.0,5.0,5.0,5.0,4.0,4.0,4.0,4.0,4.0,3.0,3.0,2.0,2.0,2.0,2.0,1.0,0.0,0.0,1.0,1.0,1.0,2.0,3.0,3.0,3.0,3.0,2.0,2.0,3.0,4.0,5.0,4.0,3.0,2.0,1.0,1.0,1.0,1.0,0.0,0.0,0.0,0.0,0.0],[0.0,5.0,5.0,5.0,5.0,5.0,4.0,4.0,4.0,4.0,4.0,4.0,3.0,3.0,2.0,2.0,2.0,2.0,1.0,0.0,0.0,1.0,1.0,1.0,2.0,3.0,3.0,3.0,3.0,2.0,2.0,3.0,4.0,5.0,4.0,3.0,2.0,1.0,1.0,1.0,1.0,0.0,0.0,0.0,0.0,0.0],[0.0,5.0,5.0,5.0,5.0,5.0,4.0,4.0,4.0,4.0,5.0,4.0,4.0,3.0,3.0,2.0,2.0,2.0,2.0,1.0,0.0,0.0,1.0,1.0,1.0,2.0,3.0,3.0,3.0,3.0,2.0,2.0,3.0,4.0,5.0,4.0,3.0,2.0,1.0,1.0,1.0,1.0,0.0,0.0,0.0,0.0,0.0],[0.0,5.0,5.0,5.0,5.0,5.0,4.0,4.0,4.0,4.0,5.0,4.0,4.0,3.0,3.0,2.0,2.0,2.0,2.0,1.0,0.0,0.0,0.0,1.0,1.0,1.0,2.0,3.0,3.0,3.0,3.0,2.0,2.0,3.0,4.0,5.0,4.0,3.0,2.0,1.0,1.0,1.0,1.0,0.0,0.0,0.0,0.0,0.0],[0.0,5.0,5.0,5.0,5.0,5.0,4.0,4.0,4.0,4.0,5.0,5.0,4.0,4.0,3.0,3.0,2.0,2.0,2.0,2.0,1.0,0.0,0.0,0.0,1.0,1.0,1.0,2.0,3.0,3.0,3.0,3.0,2.0,2.0,3.0,4.0,5.0,4.0,3.0,2.0,1.0,1.0,1.0,1.0,0.0,0.0,0.0,0.0,0.0],[0.0,5.0,5.0,5.0,5.0,5.0,4.0,4.0,4.0,4.0,5.0,5.0,4.0,4.0,3.0,3.0,2.0,2.0,2.0,2.0,1.0,0.0,0.0,0.0,1.0,1.0,1.0,2.0,3.0,3.0,3.0,3.0,2.0,2.0,3.0,4.0,5.0,4.0,3.0,2.0,1.0,1.0,1.0,1.0,0.0,0.0,0.0,0.0,0.0]],\"edges_y\":[[0.0,1.0,0.0],[0.0,0.0,1.0,0.0],[0.0,0.0,1.0,1.0,0.0],[0.0,0.0,0.0,1.0,1.0,0.0],[0.0,0.0,0.0,1.0,2.0,1.0,0.0],[0.0,0.0,0.0,0.0,1.0,2.0,1.0,0.0],[0.0,0.0,0.0,0.0,1.0,2.0,2.0,1.0,0.0],[0.0,0.0,0.0,0.0,0.0,1.0,2.0,2.0,1.0,0.0],[0.0,0.0,0.0,0.0,0.0,1.0,2.0,3.0,2.0,1.0,0.0],[0.0,1.0,0.0,0.0,0.0,0.0,1.0,2.0,3.0,2.0,1.0,0.0],[0.0,1.0,1.0,0.0,0.0,0.0,0.0,1.0,2.0,3.0,2.0,1.0,0.0],[0.0,1.0,1.0,1.0,0.0,0.0,0.0,0.0,1.0,2.0,3.0,2.0,1.0,0.0],[0.0,2.0,1.0,1.0,1.0,0.0,0.0,0.0,0.0,1.0,2.0,3.0,2.0,1.0,0.0],[0.0,2.0,1.0,1.0,1.0,0.0,0.0,0.0,0.0,0.0,1.0,2.0,3.0,2.0,1.0,0.0],[0.0,2.0,2.0,1.0,1.0,1.0,0.0,0.0,0.0,0.0,0.0,1.0,2.0,3.0,2.0,1.0,0.0],[0.0,3.0,2.0,2.0,1.0,1.0,1.0,0.0,0.0,0.0,0.0,0.0,1.0,2.0,3.0,2.0,1.0,0.0],[0.0,2.0,3.0,2.0,2.0,1.0,1.0,1.0,0.0,0.0,0.0,0.0,0.0,1.0,2.0,3.0,2.0,1.0,0.0],[0.0,2.0,4.0,3.0,2.0,2.0,1.0,1.0,1.0,0.0,0.0,0.0,0.0,0.0,1.0,2.0,3.0,2.0,1.0,0.0],[0.0,2.0,2.0,4.0,3.0,2.0,2.0,1.0,1.0,1.0,0.0,0.0,0.0,0.0,0.0,1.0,2.0,3.0,2.0,1.0,0.0],[0.0,2.0,2.0,4.0,3.0,2.0,2.0,1.0,1.0,1.0,0.0,0.0,0.0,0.0,0.0,1.0,2.0,4.0,3.0,2.0,1.0,0.0],[0.0,2.0,2.0,3.0,4.0,3.0,2.0,2.0,1.0,1.0,1.0,0.0,0.0,0.0,0.0,0.0,1.0,2.0,4.0,3.0,2.0,1.0,0.0],[0.0,2.0,2.0,3.0,5.0,4.0,3.0,2.0,2.0,1.0,1.0,1.0,0.0,0.0,0.0,0.0,0.0,1.0,2.0,4.0,3.0,2.0,1.0,0.0],[0.0,2.0,2.0,3.0,5.0,5.0,4.0,3.0,2.0,2.0,1.0,1.0,1.0,0.0,0.0,0.0,0.0,0.0,1.0,2.0,4.0,3.0,2.0,1.0,0.0],[0.0,2.0,2.0,3.0,5.0,5.0,4.0,3.0,2.0,2.0,1.0,1.0,1.0,0.0,0.0,0.0,0.0,0.0,1.0,2.0,3.0,4.0,3.0,2.0,1.0,0.0],[0.0,2.0,2.0,3.0,4.0,5.0,5.0,4.0,3.0,2.0,2.0,1.0,1.0,1.0,0.0,0.0,0.0,0.0,0.0,1.0,2.0,3.0,4.0,3.0,2.0,1.0,0.0],[0.0,2.0,2.0,3.0,4.0,5.0,5.0,5.0,4.0,3.0,2.0,2.0,1.0,1.0,1.0,0.0,0.0,0.0,0.0,0.0,1.0,2.0,3.0,4.0,3.0,2.0,1.0,0.0],[0.0,2.0,2.0,3.0,4.0,6.0,5.0,5.0,5.0,4.0,3.0,2.0,2.0,1.0,1.0,1.0,0.0,0.0,0.0,0.0,0.0,1.0,2.0,3.0,4.0,3.0,2.0,1.0,0.0],[0.0,1.0,2.0,2.0,3.0,4.0,6.0,5.0,5.0,5.0,4.0,3.0,2.0,2.0,1.0,1.0,1.0,0.0,0.0,0.0,0.0,0.0,1.0,2.0,3.0,4.0,3.0,2.0,1.0,0.0],[0.0,1.0,3.0,2.0,2.0,3.0,4.0,6.0,5.0,5.0,5.0,4.0,3.0,2.0,2.0,1.0,1.0,1.0,0.0,0.0,0.0,0.0,0.0,1.0,2.0,3.0,4.0,3.0,2.0,1.0,0.0],[0.0,1.0,3.0,2.0,2.0,3.0,5.0,4.0,6.0,5.0,5.0,5.0,4.0,3.0,2.0,2.0,1.0,1.0,1.0,0.0,0.0,0.0,0.0,0.0,1.0,2.0,3.0,4.0,3.0,2.0,1.0,0.0],[0.0,1.0,3.0,2.0,2.0,3.0,5.0,4.0,4.0,6.0,5.0,5.0,5.0,4.0,3.0,2.0,2.0,1.0,1.0,1.0,0.0,0.0,0.0,0.0,0.0,1.0,2.0,3.0,4.0,3.0,2.0,1.0,0.0],[0.0,1.0,3.0,2.0,2.0,3.0,5.0,4.0,4.0,5.0,6.0,5.0,5.0,5.0,4.0,3.0,2.0,2.0,1.0,1.0,1.0,0.0,0.0,0.0,0.0,0.0,1.0,2.0,3.0,4.0,3.0,2.0,1.0,0.0],[0.0,1.0,3.0,2.0,2.0,3.0,5.0,6.0,4.0,4.0,5.0,6.0,5.0,5.0,5.0,4.0,3.0,2.0,2.0,1.0,1.0,1.0,0.0,0.0,0.0,0.0,0.0,1.0,2.0,3.0,4.0,3.0,2.0,1.0,0.0],[0.0,1.0,3.0,2.0,2.0,3.0,5.0,6.0,6.0,4.0,4.0,5.0,6.0,5.0,5.0,5.0,4.0,3.0,2.0,2.0,1.0,1.0,1.0,0.0,0.0,0.0,0.0,0.0,1.0,2.0,3.0,4.0,3.0,2.0,1.0,0.0],[0.0,1.0,3.0,2.0,2.0,3.0,5.0,6.0,6.0,3.0,4.0,4.0,5.0,6.0,5.0,5.0,5.0,4.0,3.0,2.0,2.0,1.0,1.0,1.0,0.0,0.0,0.0,0.0,0.0,1.0,2.0,3.0,4.0,3.0,2.0,1.0,0.0],[0.0,1.0,3.0,2.0,2.0,3.0,4.0,5.0,6.0,6.0,3.0,4.0,4.0,5.0,6.0,5.0,5.0,5.0,4.0,3.0,2.0,2.0,1.0,1.0,1.0,0.0,0.0,0.0,0.0,0.0,1.0,2.0,3.0,4.0,3.0,2.0,1.0,0.0],[0.0,1.0,4.0,3.0,2.0,2.0,3.0,4.0,5.0,6.0,6.0,3.0,4.0,4.0,5.0,6.0,5.0,5.0,5.0,4.0,3.0,2.0,2.0,1.0,1.0,1.0,0.0,0.0,0.0,0.0,0.0,1.0,2.0,3.0,4.0,3.0,2.0,1.0,0.0],[0.0,1.0,4.0,3.0,2.0,2.0,3.0,4.0,5.0,6.0,6.0,3.0,4.0,4.0,5.0,7.0,6.0,5.0,5.0,5.0,4.0,3.0,2.0,2.0,1.0,1.0,1.0,0.0,0.0,0.0,0.0,0.0,1.0,2.0,3.0,4.0,3.0,2.0,1.0,0.0],[0.0,1.0,5.0,4.0,3.0,2.0,2.0,3.0,4.0,5.0,6.0,6.0,3.0,4.0,4.0,5.0,7.0,6.0,5.0,5.0,5.0,4.0,3.0,2.0,2.0,1.0,1.0,1.0,0.0,0.0,0.0,0.0,0.0,1.0,2.0,3.0,4.0,3.0,2.0,1.0,0.0],[0.0,1.0,5.0,4.0,3.0,2.0,2.0,3.0,4.0,5.0,6.0,7.0,6.0,3.0,4.0,4.0,5.0,7.0,6.0,5.0,5.0,5.0,4.0,3.0,2.0,2.0,1.0,1.0,1.0,0.0,0.0,0.0,0.0,0.0,1.0,2.0,3.0,4.0,3.0,2.0,1.0,0.0],[0.0,1.0,5.0,4.0,3.0,2.0,2.0,3.0,4.0,5.0,6.0,7.0,7.0,6.0,3.0,4.0,4.0,5.0,7.0,6.0,5.0,5.0,5.0,4.0,3.0,2.0,2.0,1.0,1.0,1.0,0.0,0.0,0.0,0.0,0.0,1.0,2.0,3.0,4.0,3.0,2.0,1.0,0.0],[0.0,1.0,5.0,4.0,3.0,2.0,2.0,3.0,4.0,5.0,6.0,7.0,7.0,6.0,3.0,4.0,4.0,5.0,7.0,7.0,6.0,5.0,5.0,5.0,4.0,3.0,2.0,2.0,1.0,1.0,1.0,0.0,0.0,0.0,0.0,0.0,1.0,2.0,3.0,4.0,3.0,2.0,1.0,0.0],[0.0,1.0,5.0,4.0,3.0,2.0,2.0,3.0,4.0,5.0,6.0,6.0,7.0,7.0,6.0,3.0,4.0,4.0,5.0,7.0,7.0,6.0,5.0,5.0,5.0,4.0,3.0,2.0,2.0,1.0,1.0,1.0,0.0,0.0,0.0,0.0,0.0,1.0,2.0,3.0,4.0,3.0,2.0,1.0,0.0],[0.0,1.0,5.0,4.0,3.0,2.0,2.0,3.0,4.0,5.0,7.0,6.0,6.0,7.0,7.0,6.0,3.0,4.0,4.0,5.0,7.0,7.0,6.0,5.0,5.0,5.0,4.0,3.0,2.0,2.0,1.0,1.0,1.0,0.0,0.0,0.0,0.0,0.0,1.0,2.0,3.0,4.0,3.0,2.0,1.0,0.0],[0.0,1.0,5.0,4.0,3.0,2.0,2.0,3.0,4.0,5.0,7.0,7.0,6.0,6.0,7.0,7.0,6.0,3.0,4.0,4.0,5.0,7.0,7.0,6.0,5.0,5.0,5.0,4.0,3.0,2.0,2.0,1.0,1.0,1.0,0.0,0.0,0.0,0.0,0.0,1.0,2.0,3.0,4.0,3.0,2.0,1.0,0.0],[0.0,1.0,5.0,4.0,3.0,2.0,2.0,3.0,4.0,5.0,7.0,7.0,6.0,6.0,7.0,7.0,6.0,3.0,4.0,4.0,5.0,6.0,7.0,7.0,6.0,5.0,5.0,5.0,4.0,3.0,2.0,2.0,1.0,1.0,1.0,0.0,0.0,0.0,0.0,0.0,1.0,2.0,3.0,4.0,3.0,2.0,1.0,0.0],[0.0,1.0,5.0,4.0,3.0,2.0,2.0,3.0,4.0,5.0,6.0,7.0,7.0,6.0,6.0,7.0,7.0,6.0,3.0,4.0,4.0,5.0,6.0,7.0,7.0,6.0,5.0,5.0,5.0,4.0,3.0,2.0,2.0,1.0,1.0,1.0,0.0,0.0,0.0,0.0,0.0,1.0,2.0,3.0,4.0,3.0,2.0,1.0,0.0],[0.0,1.0,5.0,4.0,3.0,2.0,2.0,3.0,4.0,5.0,6.0,7.0,7.0,6.0,6.0,7.0,7.0,6.0,3.0,4.0,4.0,5.0,6.0,7.0,7.0,6.0,5.0,5.0,5.0,4.0,3.0,2.0,2.0,1.0,1.0,1.0,0.0,0.0,0.0,0.0,0.0,1.0,2.0,3.0,4.0,3.0,2.0,1.0,0.0]]},\"selected\":{\"id\":\"1563\"},\"selection_policy\":{\"id\":\"1562\"}},\"id\":\"1531\",\"type\":\"ColumnDataSource\"},{\"attributes\":{\"axis\":{\"id\":\"1509\"},\"dimension\":1,\"grid_line_color\":null,\"ticker\":null},\"id\":\"1512\",\"type\":\"Grid\"},{\"attributes\":{},\"id\":\"1555\",\"type\":\"Selection\"},{\"attributes\":{\"data\":{\"edges_x\":[0.0,0.0,0.0],\"edges_y\":[0.0,1.0,0.0]},\"selected\":{\"id\":\"1555\"},\"selection_policy\":{\"id\":\"1554\"}},\"id\":\"1532\",\"type\":\"ColumnDataSource\"},{\"attributes\":{\"align\":\"center\",\"text\":\"0\",\"width\":400},\"id\":\"1530\",\"type\":\"Div\"},{\"attributes\":{\"align\":\"center\",\"text\":\"2.0\",\"width\":200},\"id\":\"1528\",\"type\":\"Div\"},{\"attributes\":{},\"id\":\"1556\",\"type\":\"UnionRenderers\"},{\"attributes\":{\"align\":\"center\",\"width\":200},\"id\":\"1529\",\"type\":\"Div\"},{\"attributes\":{\"source\":{\"id\":\"1532\"}},\"id\":\"1537\",\"type\":\"CDSView\"},{\"attributes\":{},\"id\":\"1557\",\"type\":\"Selection\"}],\"root_ids\":[\"1564\"]},\"title\":\"Bokeh Application\",\"version\":\"2.1.0\"}};\n",
       "  var render_items = [{\"docid\":\"47cc42aa-ee1b-434d-8c1c-9c575e4065a9\",\"root_ids\":[\"1564\"],\"roots\":{\"1564\":\"25c3a874-7d4b-48e6-8662-92ab544c0382\"}}];\n",
       "  root.Bokeh.embed.embed_items_notebook(docs_json, render_items);\n",
       "\n",
       "  }\n",
       "  if (root.Bokeh !== undefined) {\n",
       "    embed_document(root);\n",
       "  } else {\n",
       "    var attempts = 0;\n",
       "    var timer = setInterval(function(root) {\n",
       "      if (root.Bokeh !== undefined) {\n",
       "        clearInterval(timer);\n",
       "        embed_document(root);\n",
       "      } else {\n",
       "        attempts++;\n",
       "        if (attempts > 100) {\n",
       "          clearInterval(timer);\n",
       "          console.log(\"Bokeh: ERROR: Unable to run BokehJS code because BokehJS library is missing\");\n",
       "        }\n",
       "      }\n",
       "    }, 10, root)\n",
       "  }\n",
       "})(window);"
      ],
      "application/vnd.bokehjs_exec.v0+json": ""
     },
     "metadata": {
      "application/vnd.bokehjs_exec.v0+json": {
       "id": "1564"
      }
     },
     "output_type": "display_data"
    }
   ],
   "source": [
    "tour = plot_tsp_heuristic(nodes, G, heuristic='nearest_insertion', initial=[0,1,0])"
   ]
  },
  {
   "cell_type": "markdown",
   "metadata": {},
   "source": [
    "**Q6:** Run this a few times. How does is compare to the previous heuristics?\n",
    "\n",
    "**A:** <font color='blue'> This is the best heuristic yet. By starting with a small tour and expanding it, the boxing out issue nearest neighbor experienced is reduced. </font>"
   ]
  },
  {
   "cell_type": "markdown",
   "metadata": {},
   "source": [
    "Now, let's look at the furthest insertion heuristic."
   ]
  },
  {
   "cell_type": "code",
   "execution_count": 12,
   "metadata": {
    "scrolled": false
   },
   "outputs": [
    {
     "data": {
      "text/html": [
       "\n",
       "\n",
       "\n",
       "\n",
       "\n",
       "\n",
       "  <div class=\"bk-root\" id=\"c2b57e60-1e81-4e34-9cbe-9bfe722e32a0\" data-root-id=\"1753\"></div>\n"
      ]
     },
     "metadata": {},
     "output_type": "display_data"
    },
    {
     "data": {
      "application/javascript": [
       "(function(root) {\n",
       "  function embed_document(root) {\n",
       "    \n",
       "  var docs_json = {\"3f093c73-6d74-4a22-ad3f-75f59e968a6a\":{\"roots\":{\"references\":[{\"attributes\":{\"children\":[[{\"id\":\"1683\"},0,0],[{\"id\":\"1736\"},1,0],[{\"id\":\"1737\"},2,0]]},\"id\":\"1753\",\"type\":\"GridBox\"},{\"attributes\":{\"bottom_units\":\"screen\",\"fill_alpha\":0.5,\"fill_color\":\"lightgrey\",\"left_units\":\"screen\",\"level\":\"overlay\",\"line_alpha\":1.0,\"line_color\":\"black\",\"line_dash\":[4,4],\"line_width\":2,\"right_units\":\"screen\",\"top_units\":\"screen\"},\"id\":\"1708\",\"type\":\"BoxAnnotation\"},{\"attributes\":{\"children\":[{\"id\":\"1734\"},{\"id\":\"1732\"}],\"max_width\":400,\"sizing_mode\":\"stretch_both\"},\"id\":\"1736\",\"type\":\"Row\"},{\"attributes\":{\"formatter\":{\"id\":\"1741\"},\"ticker\":{\"id\":\"1699\"},\"visible\":false},\"id\":\"1698\",\"type\":\"LinearAxis\"},{\"attributes\":{\"align\":\"center\",\"text\":\"0\",\"width\":400},\"id\":\"1719\",\"type\":\"Div\"},{\"attributes\":{\"children\":[{\"id\":\"1717\"},{\"id\":\"1718\"}]},\"id\":\"1737\",\"type\":\"Row\"},{\"attributes\":{},\"id\":\"1699\",\"type\":\"BasicTicker\"},{\"attributes\":{\"data\":{\"costs\":[24.0,24.0,24.0,28.0,28.0,30.0,30.0,30.0,32.0,32.0,34.0,36.0,36.0,38.0,40.0,40.0,40.0,40.0,40.0,40.0,42.0,42.0,42.0,44.0,46.0,46.0,46.0,48.0,50.0,50.0,50.0,50.0,50.0,50.0,50.0,50.0,50.0,52.0,54.0,54.0,54.0,54.0,54.0,56.0,56.0,56.0,58.0,58.0],\"edges_x\":[[0.0,5.0,0.0],[0.0,5.0,5.0,0.0],[0.0,5.0,5.0,0.0,0.0],[0.0,5.0,3.0,5.0,0.0,0.0],[0.0,3.0,5.0,3.0,5.0,0.0,0.0],[0.0,3.0,5.0,3.0,5.0,0.0,1.0,0.0],[0.0,3.0,5.0,3.0,5.0,2.0,0.0,1.0,0.0],[0.0,3.0,5.0,3.0,5.0,2.0,0.0,0.0,1.0,0.0],[0.0,2.0,3.0,5.0,3.0,5.0,2.0,0.0,0.0,1.0,0.0],[0.0,2.0,3.0,5.0,3.0,5.0,5.0,2.0,0.0,0.0,1.0,0.0],[0.0,2.0,3.0,5.0,3.0,4.0,5.0,5.0,2.0,0.0,0.0,1.0,0.0],[0.0,2.0,3.0,5.0,2.0,3.0,4.0,5.0,5.0,2.0,0.0,0.0,1.0,0.0],[0.0,2.0,3.0,5.0,4.0,2.0,3.0,4.0,5.0,5.0,2.0,0.0,0.0,1.0,0.0],[0.0,2.0,3.0,5.0,4.0,2.0,3.0,4.0,5.0,5.0,2.0,1.0,0.0,0.0,1.0,0.0],[0.0,2.0,3.0,5.0,5.0,4.0,2.0,3.0,4.0,5.0,5.0,2.0,1.0,0.0,0.0,1.0,0.0],[0.0,1.0,2.0,3.0,5.0,5.0,4.0,2.0,3.0,4.0,5.0,5.0,2.0,1.0,0.0,0.0,1.0,0.0],[0.0,1.0,2.0,3.0,5.0,5.0,4.0,2.0,3.0,4.0,5.0,5.0,4.0,2.0,1.0,0.0,0.0,1.0,0.0],[0.0,1.0,2.0,3.0,5.0,5.0,4.0,2.0,3.0,4.0,5.0,5.0,4.0,2.0,1.0,0.0,0.0,0.0,1.0,0.0],[0.0,1.0,2.0,3.0,5.0,5.0,4.0,3.0,2.0,3.0,4.0,5.0,5.0,4.0,2.0,1.0,0.0,0.0,0.0,1.0,0.0],[0.0,1.0,2.0,3.0,5.0,5.0,4.0,3.0,2.0,3.0,4.0,5.0,5.0,4.0,2.0,2.0,1.0,0.0,0.0,0.0,1.0,0.0],[0.0,1.0,2.0,3.0,5.0,5.0,5.0,4.0,3.0,2.0,3.0,4.0,5.0,5.0,4.0,2.0,2.0,1.0,0.0,0.0,0.0,1.0,0.0],[0.0,1.0,2.0,3.0,5.0,5.0,5.0,4.0,3.0,2.0,3.0,4.0,5.0,5.0,4.0,2.0,2.0,1.0,0.0,0.0,0.0,1.0,1.0,0.0],[0.0,1.0,2.0,3.0,5.0,5.0,5.0,4.0,3.0,2.0,3.0,4.0,4.0,5.0,5.0,4.0,2.0,2.0,1.0,0.0,0.0,0.0,1.0,1.0,0.0],[0.0,1.0,2.0,3.0,5.0,5.0,5.0,4.0,3.0,2.0,3.0,4.0,4.0,5.0,5.0,4.0,1.0,2.0,2.0,1.0,0.0,0.0,0.0,1.0,1.0,0.0],[0.0,1.0,2.0,3.0,5.0,5.0,5.0,4.0,3.0,2.0,3.0,4.0,4.0,5.0,5.0,4.0,1.0,2.0,2.0,1.0,0.0,0.0,0.0,0.0,1.0,1.0,0.0],[0.0,1.0,2.0,3.0,5.0,5.0,5.0,5.0,4.0,3.0,2.0,3.0,4.0,4.0,5.0,5.0,4.0,1.0,2.0,2.0,1.0,0.0,0.0,0.0,0.0,1.0,1.0,0.0],[0.0,1.0,2.0,3.0,5.0,5.0,5.0,5.0,5.0,4.0,3.0,2.0,3.0,4.0,4.0,5.0,5.0,4.0,1.0,2.0,2.0,1.0,0.0,0.0,0.0,0.0,1.0,1.0,0.0],[0.0,1.0,2.0,2.0,3.0,5.0,5.0,5.0,5.0,5.0,4.0,3.0,2.0,3.0,4.0,4.0,5.0,5.0,4.0,1.0,2.0,2.0,1.0,0.0,0.0,0.0,0.0,1.0,1.0,0.0],[0.0,1.0,2.0,2.0,3.0,5.0,5.0,5.0,5.0,5.0,4.0,3.0,2.0,3.0,4.0,3.0,4.0,5.0,5.0,4.0,1.0,2.0,2.0,1.0,0.0,0.0,0.0,0.0,1.0,1.0,0.0],[0.0,1.0,2.0,2.0,3.0,5.0,5.0,5.0,5.0,5.0,4.0,3.0,2.0,3.0,4.0,3.0,3.0,4.0,5.0,5.0,4.0,1.0,2.0,2.0,1.0,0.0,0.0,0.0,0.0,1.0,1.0,0.0],[0.0,1.0,2.0,2.0,3.0,5.0,5.0,5.0,5.0,5.0,4.0,4.0,3.0,2.0,3.0,4.0,3.0,3.0,4.0,5.0,5.0,4.0,1.0,2.0,2.0,1.0,0.0,0.0,0.0,0.0,1.0,1.0,0.0],[0.0,1.0,2.0,2.0,3.0,5.0,5.0,5.0,5.0,5.0,4.0,4.0,3.0,2.0,3.0,4.0,3.0,3.0,4.0,5.0,5.0,5.0,4.0,1.0,2.0,2.0,1.0,0.0,0.0,0.0,0.0,1.0,1.0,0.0],[0.0,1.0,2.0,2.0,3.0,5.0,5.0,5.0,5.0,5.0,4.0,4.0,3.0,2.0,3.0,4.0,3.0,3.0,4.0,5.0,5.0,5.0,4.0,3.0,1.0,2.0,2.0,1.0,0.0,0.0,0.0,0.0,1.0,1.0,0.0],[0.0,1.0,2.0,2.0,3.0,5.0,5.0,5.0,5.0,5.0,4.0,4.0,3.0,3.0,2.0,3.0,4.0,3.0,3.0,4.0,5.0,5.0,5.0,4.0,3.0,1.0,2.0,2.0,1.0,0.0,0.0,0.0,0.0,1.0,1.0,0.0],[0.0,1.0,1.0,2.0,2.0,3.0,5.0,5.0,5.0,5.0,5.0,4.0,4.0,3.0,3.0,2.0,3.0,4.0,3.0,3.0,4.0,5.0,5.0,5.0,4.0,3.0,1.0,2.0,2.0,1.0,0.0,0.0,0.0,0.0,1.0,1.0,0.0],[0.0,1.0,1.0,2.0,2.0,3.0,5.0,5.0,5.0,5.0,5.0,4.0,4.0,3.0,3.0,2.0,2.0,3.0,4.0,3.0,3.0,4.0,5.0,5.0,5.0,4.0,3.0,1.0,2.0,2.0,1.0,0.0,0.0,0.0,0.0,1.0,1.0,0.0],[0.0,1.0,1.0,2.0,2.0,3.0,3.0,5.0,5.0,5.0,5.0,5.0,4.0,4.0,3.0,3.0,2.0,2.0,3.0,4.0,3.0,3.0,4.0,5.0,5.0,5.0,4.0,3.0,1.0,2.0,2.0,1.0,0.0,0.0,0.0,0.0,1.0,1.0,0.0],[0.0,2.0,1.0,1.0,2.0,2.0,3.0,3.0,5.0,5.0,5.0,5.0,5.0,4.0,4.0,3.0,3.0,2.0,2.0,3.0,4.0,3.0,3.0,4.0,5.0,5.0,5.0,4.0,3.0,1.0,2.0,2.0,1.0,0.0,0.0,0.0,0.0,1.0,1.0,0.0],[0.0,2.0,1.0,1.0,2.0,2.0,4.0,3.0,3.0,5.0,5.0,5.0,5.0,5.0,4.0,4.0,3.0,3.0,2.0,2.0,3.0,4.0,3.0,3.0,4.0,5.0,5.0,5.0,4.0,3.0,1.0,2.0,2.0,1.0,0.0,0.0,0.0,0.0,1.0,1.0,0.0],[0.0,2.0,1.0,1.0,2.0,2.0,4.0,3.0,3.0,5.0,5.0,5.0,5.0,5.0,4.0,4.0,3.0,3.0,2.0,2.0,3.0,4.0,3.0,3.0,4.0,5.0,5.0,5.0,4.0,3.0,1.0,2.0,2.0,1.0,0.0,0.0,0.0,0.0,1.0,1.0,0.0,0.0],[0.0,2.0,1.0,1.0,2.0,2.0,4.0,3.0,3.0,5.0,5.0,5.0,5.0,5.0,4.0,4.0,3.0,3.0,2.0,2.0,3.0,4.0,3.0,3.0,4.0,5.0,5.0,5.0,4.0,3.0,1.0,2.0,2.0,2.0,1.0,0.0,0.0,0.0,0.0,1.0,1.0,0.0,0.0],[0.0,2.0,1.0,1.0,2.0,2.0,4.0,3.0,3.0,5.0,5.0,5.0,5.0,5.0,4.0,4.0,3.0,3.0,2.0,2.0,3.0,4.0,3.0,3.0,4.0,5.0,5.0,5.0,4.0,3.0,1.0,2.0,2.0,2.0,1.0,0.0,0.0,0.0,0.0,1.0,1.0,1.0,0.0,0.0],[0.0,2.0,1.0,1.0,2.0,2.0,4.0,3.0,3.0,4.0,5.0,5.0,5.0,5.0,5.0,4.0,4.0,3.0,3.0,2.0,2.0,3.0,4.0,3.0,3.0,4.0,5.0,5.0,5.0,4.0,3.0,1.0,2.0,2.0,2.0,1.0,0.0,0.0,0.0,0.0,1.0,1.0,1.0,0.0,0.0],[0.0,2.0,1.0,1.0,2.0,2.0,4.0,3.0,3.0,4.0,5.0,5.0,5.0,5.0,5.0,4.0,4.0,3.0,3.0,2.0,2.0,3.0,4.0,3.0,3.0,4.0,5.0,5.0,5.0,4.0,3.0,0.0,1.0,2.0,2.0,2.0,1.0,0.0,0.0,0.0,0.0,1.0,1.0,1.0,0.0,0.0],[0.0,2.0,1.0,1.0,2.0,2.0,4.0,3.0,3.0,4.0,5.0,5.0,5.0,5.0,5.0,4.0,4.0,3.0,3.0,2.0,2.0,3.0,4.0,4.0,3.0,3.0,4.0,5.0,5.0,5.0,4.0,3.0,0.0,1.0,2.0,2.0,2.0,1.0,0.0,0.0,0.0,0.0,1.0,1.0,1.0,0.0,0.0],[0.0,2.0,1.0,1.0,2.0,2.0,4.0,3.0,3.0,4.0,5.0,5.0,5.0,5.0,5.0,4.0,4.0,3.0,3.0,2.0,2.0,3.0,4.0,4.0,3.0,3.0,4.0,5.0,5.0,5.0,4.0,3.0,0.0,1.0,2.0,2.0,2.0,1.0,0.0,0.0,0.0,0.0,1.0,1.0,1.0,0.0,0.0,0.0],[0.0,2.0,1.0,1.0,2.0,2.0,4.0,3.0,3.0,4.0,5.0,5.0,5.0,5.0,5.0,4.0,4.0,3.0,3.0,2.0,2.0,3.0,4.0,4.0,3.0,3.0,4.0,5.0,5.0,5.0,4.0,3.0,1.0,0.0,1.0,2.0,2.0,2.0,1.0,0.0,0.0,0.0,0.0,1.0,1.0,1.0,0.0,0.0,0.0],[0.0,2.0,1.0,1.0,2.0,2.0,4.0,3.0,3.0,4.0,5.0,5.0,5.0,5.0,5.0,4.0,4.0,3.0,3.0,2.0,2.0,3.0,4.0,4.0,3.0,3.0,4.0,5.0,5.0,5.0,4.0,3.0,1.0,0.0,1.0,2.0,2.0,2.0,1.0,0.0,0.0,0.0,0.0,1.0,1.0,1.0,0.0,0.0,0.0]],\"edges_y\":[[0.0,7.0,0.0],[0.0,1.0,7.0,0.0],[0.0,1.0,7.0,6.0,0.0],[0.0,1.0,4.0,7.0,6.0,0.0],[0.0,0.0,1.0,4.0,7.0,6.0,0.0],[0.0,0.0,1.0,4.0,7.0,6.0,2.0,0.0],[0.0,0.0,1.0,4.0,7.0,7.0,6.0,2.0,0.0],[0.0,0.0,1.0,4.0,7.0,7.0,6.0,4.0,2.0,0.0],[0.0,1.0,0.0,1.0,4.0,7.0,7.0,6.0,4.0,2.0,0.0],[0.0,1.0,0.0,1.0,4.0,5.0,7.0,7.0,6.0,4.0,2.0,0.0],[0.0,1.0,0.0,1.0,4.0,6.0,5.0,7.0,7.0,6.0,4.0,2.0,0.0],[0.0,1.0,0.0,1.0,3.0,4.0,6.0,5.0,7.0,7.0,6.0,4.0,2.0,0.0],[0.0,1.0,0.0,1.0,2.0,3.0,4.0,6.0,5.0,7.0,7.0,6.0,4.0,2.0,0.0],[0.0,1.0,0.0,1.0,2.0,3.0,4.0,6.0,5.0,7.0,7.0,5.0,6.0,4.0,2.0,0.0],[0.0,1.0,0.0,1.0,3.0,2.0,3.0,4.0,6.0,5.0,7.0,7.0,5.0,6.0,4.0,2.0,0.0],[0.0,1.0,1.0,0.0,1.0,3.0,2.0,3.0,4.0,6.0,5.0,7.0,7.0,5.0,6.0,4.0,2.0,0.0],[0.0,1.0,1.0,0.0,1.0,3.0,2.0,3.0,4.0,6.0,5.0,7.0,7.0,7.0,5.0,6.0,4.0,2.0,0.0],[0.0,1.0,1.0,0.0,1.0,3.0,2.0,3.0,4.0,6.0,5.0,7.0,7.0,7.0,5.0,5.0,6.0,4.0,2.0,0.0],[0.0,1.0,1.0,0.0,1.0,3.0,2.0,3.0,3.0,4.0,6.0,5.0,7.0,7.0,7.0,5.0,5.0,6.0,4.0,2.0,0.0],[0.0,1.0,1.0,0.0,1.0,3.0,2.0,3.0,3.0,4.0,6.0,5.0,7.0,7.0,7.0,5.0,5.0,5.0,6.0,4.0,2.0,0.0],[0.0,1.0,1.0,0.0,1.0,4.0,3.0,2.0,3.0,3.0,4.0,6.0,5.0,7.0,7.0,7.0,5.0,5.0,5.0,6.0,4.0,2.0,0.0],[0.0,1.0,1.0,0.0,1.0,4.0,3.0,2.0,3.0,3.0,4.0,6.0,5.0,7.0,7.0,7.0,5.0,5.0,5.0,6.0,4.0,4.0,2.0,0.0],[0.0,1.0,1.0,0.0,1.0,4.0,3.0,2.0,3.0,3.0,4.0,4.0,6.0,5.0,7.0,7.0,7.0,5.0,5.0,5.0,6.0,4.0,4.0,2.0,0.0],[0.0,1.0,1.0,0.0,1.0,4.0,3.0,2.0,3.0,3.0,4.0,4.0,6.0,5.0,7.0,7.0,7.0,7.0,5.0,5.0,5.0,6.0,4.0,4.0,2.0,0.0],[0.0,1.0,1.0,0.0,1.0,4.0,3.0,2.0,3.0,3.0,4.0,4.0,6.0,5.0,7.0,7.0,7.0,7.0,5.0,5.0,5.0,6.0,3.0,4.0,4.0,2.0,0.0],[0.0,1.0,1.0,0.0,0.0,1.0,4.0,3.0,2.0,3.0,3.0,4.0,4.0,6.0,5.0,7.0,7.0,7.0,7.0,5.0,5.0,5.0,6.0,3.0,4.0,4.0,2.0,0.0],[0.0,1.0,1.0,0.0,0.0,1.0,2.0,4.0,3.0,2.0,3.0,3.0,4.0,4.0,6.0,5.0,7.0,7.0,7.0,7.0,5.0,5.0,5.0,6.0,3.0,4.0,4.0,2.0,0.0],[0.0,1.0,2.0,1.0,0.0,0.0,1.0,2.0,4.0,3.0,2.0,3.0,3.0,4.0,4.0,6.0,5.0,7.0,7.0,7.0,7.0,5.0,5.0,5.0,6.0,3.0,4.0,4.0,2.0,0.0],[0.0,1.0,2.0,1.0,0.0,0.0,1.0,2.0,4.0,3.0,2.0,3.0,3.0,4.0,4.0,6.0,6.0,5.0,7.0,7.0,7.0,7.0,5.0,5.0,5.0,6.0,3.0,4.0,4.0,2.0,0.0],[0.0,1.0,2.0,1.0,0.0,0.0,1.0,2.0,4.0,3.0,2.0,3.0,3.0,4.0,4.0,5.0,6.0,6.0,5.0,7.0,7.0,7.0,7.0,5.0,5.0,5.0,6.0,3.0,4.0,4.0,2.0,0.0],[0.0,1.0,2.0,1.0,0.0,0.0,1.0,2.0,4.0,3.0,3.0,2.0,3.0,3.0,4.0,4.0,5.0,6.0,6.0,5.0,7.0,7.0,7.0,7.0,5.0,5.0,5.0,6.0,3.0,4.0,4.0,2.0,0.0],[0.0,1.0,2.0,1.0,0.0,0.0,1.0,2.0,4.0,3.0,3.0,2.0,3.0,3.0,4.0,4.0,5.0,6.0,6.0,6.0,5.0,7.0,7.0,7.0,7.0,5.0,5.0,5.0,6.0,3.0,4.0,4.0,2.0,0.0],[0.0,1.0,2.0,1.0,0.0,0.0,1.0,2.0,4.0,3.0,3.0,2.0,3.0,3.0,4.0,4.0,5.0,6.0,6.0,6.0,5.0,7.0,7.0,7.0,7.0,7.0,5.0,5.0,5.0,6.0,3.0,4.0,4.0,2.0,0.0],[0.0,1.0,2.0,1.0,0.0,0.0,1.0,2.0,4.0,3.0,3.0,2.0,2.0,3.0,3.0,4.0,4.0,5.0,6.0,6.0,6.0,5.0,7.0,7.0,7.0,7.0,7.0,5.0,5.0,5.0,6.0,3.0,4.0,4.0,2.0,0.0],[0.0,0.0,1.0,2.0,1.0,0.0,0.0,1.0,2.0,4.0,3.0,3.0,2.0,2.0,3.0,3.0,4.0,4.0,5.0,6.0,6.0,6.0,5.0,7.0,7.0,7.0,7.0,7.0,5.0,5.0,5.0,6.0,3.0,4.0,4.0,2.0,0.0],[0.0,0.0,1.0,2.0,1.0,0.0,0.0,1.0,2.0,4.0,3.0,3.0,2.0,2.0,3.0,3.0,4.0,4.0,4.0,5.0,6.0,6.0,6.0,5.0,7.0,7.0,7.0,7.0,7.0,5.0,5.0,5.0,6.0,3.0,4.0,4.0,2.0,0.0],[0.0,0.0,1.0,2.0,1.0,1.0,0.0,0.0,1.0,2.0,4.0,3.0,3.0,2.0,2.0,3.0,3.0,4.0,4.0,4.0,5.0,6.0,6.0,6.0,5.0,7.0,7.0,7.0,7.0,7.0,5.0,5.0,5.0,6.0,3.0,4.0,4.0,2.0,0.0],[0.0,0.0,0.0,1.0,2.0,1.0,1.0,0.0,0.0,1.0,2.0,4.0,3.0,3.0,2.0,2.0,3.0,3.0,4.0,4.0,4.0,5.0,6.0,6.0,6.0,5.0,7.0,7.0,7.0,7.0,7.0,5.0,5.0,5.0,6.0,3.0,4.0,4.0,2.0,0.0],[0.0,0.0,0.0,1.0,2.0,1.0,1.0,1.0,0.0,0.0,1.0,2.0,4.0,3.0,3.0,2.0,2.0,3.0,3.0,4.0,4.0,4.0,5.0,6.0,6.0,6.0,5.0,7.0,7.0,7.0,7.0,7.0,5.0,5.0,5.0,6.0,3.0,4.0,4.0,2.0,0.0],[0.0,0.0,0.0,1.0,2.0,1.0,1.0,1.0,0.0,0.0,1.0,2.0,4.0,3.0,3.0,2.0,2.0,3.0,3.0,4.0,4.0,4.0,5.0,6.0,6.0,6.0,5.0,7.0,7.0,7.0,7.0,7.0,5.0,5.0,5.0,6.0,3.0,4.0,4.0,2.0,2.0,0.0],[0.0,0.0,0.0,1.0,2.0,1.0,1.0,1.0,0.0,0.0,1.0,2.0,4.0,3.0,3.0,2.0,2.0,3.0,3.0,4.0,4.0,4.0,5.0,6.0,6.0,6.0,5.0,7.0,7.0,7.0,7.0,7.0,6.0,5.0,5.0,5.0,6.0,3.0,4.0,4.0,2.0,2.0,0.0],[0.0,0.0,0.0,1.0,2.0,1.0,1.0,1.0,0.0,0.0,1.0,2.0,4.0,3.0,3.0,2.0,2.0,3.0,3.0,4.0,4.0,4.0,5.0,6.0,6.0,6.0,5.0,7.0,7.0,7.0,7.0,7.0,6.0,5.0,5.0,5.0,6.0,3.0,4.0,4.0,3.0,2.0,2.0,0.0],[0.0,0.0,0.0,1.0,2.0,1.0,1.0,1.0,0.0,0.0,0.0,1.0,2.0,4.0,3.0,3.0,2.0,2.0,3.0,3.0,4.0,4.0,4.0,5.0,6.0,6.0,6.0,5.0,7.0,7.0,7.0,7.0,7.0,6.0,5.0,5.0,5.0,6.0,3.0,4.0,4.0,3.0,2.0,2.0,0.0],[0.0,0.0,0.0,1.0,2.0,1.0,1.0,1.0,0.0,0.0,0.0,1.0,2.0,4.0,3.0,3.0,2.0,2.0,3.0,3.0,4.0,4.0,4.0,5.0,6.0,6.0,6.0,5.0,7.0,7.0,7.0,7.0,7.0,7.0,6.0,5.0,5.0,5.0,6.0,3.0,4.0,4.0,3.0,2.0,2.0,0.0],[0.0,0.0,0.0,1.0,2.0,1.0,1.0,1.0,0.0,0.0,0.0,1.0,2.0,4.0,3.0,3.0,2.0,2.0,3.0,3.0,4.0,4.0,4.0,5.0,5.0,6.0,6.0,6.0,5.0,7.0,7.0,7.0,7.0,7.0,7.0,6.0,5.0,5.0,5.0,6.0,3.0,4.0,4.0,3.0,2.0,2.0,0.0],[0.0,0.0,0.0,1.0,2.0,1.0,1.0,1.0,0.0,0.0,0.0,1.0,2.0,4.0,3.0,3.0,2.0,2.0,3.0,3.0,4.0,4.0,4.0,5.0,5.0,6.0,6.0,6.0,5.0,7.0,7.0,7.0,7.0,7.0,7.0,6.0,5.0,5.0,5.0,6.0,3.0,4.0,4.0,3.0,2.0,2.0,1.0,0.0],[0.0,0.0,0.0,1.0,2.0,1.0,1.0,1.0,0.0,0.0,0.0,1.0,2.0,4.0,3.0,3.0,2.0,2.0,3.0,3.0,4.0,4.0,4.0,5.0,5.0,6.0,6.0,6.0,5.0,7.0,7.0,7.0,6.0,7.0,7.0,7.0,6.0,5.0,5.0,5.0,6.0,3.0,4.0,4.0,3.0,2.0,2.0,1.0,0.0],[0.0,0.0,0.0,1.0,2.0,1.0,1.0,1.0,0.0,0.0,0.0,1.0,2.0,4.0,3.0,3.0,2.0,2.0,3.0,3.0,4.0,4.0,4.0,5.0,5.0,6.0,6.0,6.0,5.0,7.0,7.0,7.0,6.0,7.0,7.0,7.0,6.0,5.0,5.0,5.0,6.0,3.0,4.0,4.0,3.0,2.0,2.0,1.0,0.0]]},\"selected\":{\"id\":\"1752\"},\"selection_policy\":{\"id\":\"1751\"}},\"id\":\"1720\",\"type\":\"ColumnDataSource\"},{\"attributes\":{\"axis\":{\"id\":\"1698\"},\"dimension\":1,\"grid_line_color\":null,\"ticker\":null},\"id\":\"1701\",\"type\":\"Grid\"},{\"attributes\":{\"data\":{\"edges_x\":[0.0,5.0,0.0],\"edges_y\":[0.0,7.0,0.0]},\"selected\":{\"id\":\"1744\"},\"selection_policy\":{\"id\":\"1743\"}},\"id\":\"1721\",\"type\":\"ColumnDataSource\"},{\"attributes\":{},\"id\":\"1739\",\"type\":\"BasicTickFormatter\"},{\"attributes\":{},\"id\":\"1695\",\"type\":\"BasicTicker\"},{\"attributes\":{\"align\":\"center\",\"width\":200},\"id\":\"1718\",\"type\":\"Div\"},{\"attributes\":{},\"id\":\"1741\",\"type\":\"BasicTickFormatter\"},{\"attributes\":{\"text\":\"\"},\"id\":\"1684\",\"type\":\"Title\"},{\"attributes\":{},\"id\":\"1692\",\"type\":\"LinearScale\"},{\"attributes\":{\"align\":\"center\",\"text\":\"24.0\",\"width\":200},\"id\":\"1717\",\"type\":\"Div\"},{\"attributes\":{\"data\":{\"x\":[0.0,0.0,0.0,0.0,0.0,0.0,0.0,0.0,1.0,1.0,1.0,1.0,1.0,1.0,1.0,1.0,2.0,2.0,2.0,2.0,2.0,2.0,2.0,2.0,3.0,3.0,3.0,3.0,3.0,3.0,3.0,3.0,4.0,4.0,4.0,4.0,4.0,4.0,4.0,4.0,5.0,5.0,5.0,5.0,5.0,5.0,5.0,5.0],\"y\":[0.0,1.0,2.0,3.0,4.0,5.0,6.0,7.0,0.0,1.0,2.0,3.0,4.0,5.0,6.0,7.0,0.0,1.0,2.0,3.0,4.0,5.0,6.0,7.0,0.0,1.0,2.0,3.0,4.0,5.0,6.0,7.0,0.0,1.0,2.0,3.0,4.0,5.0,6.0,7.0,0.0,1.0,2.0,3.0,4.0,5.0,6.0,7.0]},\"selected\":{\"id\":\"1746\"},\"selection_policy\":{\"id\":\"1745\"}},\"id\":\"1727\",\"type\":\"ColumnDataSource\"},{\"attributes\":{},\"id\":\"1751\",\"type\":\"UnionRenderers\"},{\"attributes\":{\"line_alpha\":0.1,\"line_width\":4,\"x\":{\"field\":\"edges_x\"},\"y\":{\"field\":\"edges_y\"}},\"id\":\"1724\",\"type\":\"Line\"},{\"attributes\":{},\"id\":\"1702\",\"type\":\"PanTool\"},{\"attributes\":{\"line_width\":4,\"x\":{\"field\":\"edges_x\"},\"y\":{\"field\":\"edges_y\"}},\"id\":\"1723\",\"type\":\"Line\"},{\"attributes\":{},\"id\":\"1752\",\"type\":\"Selection\"},{\"attributes\":{},\"id\":\"1703\",\"type\":\"WheelZoomTool\"},{\"attributes\":{\"source\":{\"id\":\"1721\"}},\"id\":\"1726\",\"type\":\"CDSView\"},{\"attributes\":{\"overlay\":{\"id\":\"1708\"}},\"id\":\"1704\",\"type\":\"BoxZoomTool\"},{\"attributes\":{},\"id\":\"1705\",\"type\":\"SaveTool\"},{\"attributes\":{\"data_source\":{\"id\":\"1721\"},\"glyph\":{\"id\":\"1723\"},\"hover_glyph\":null,\"muted_glyph\":null,\"nonselection_glyph\":{\"id\":\"1724\"},\"selection_glyph\":null,\"view\":{\"id\":\"1726\"}},\"id\":\"1725\",\"type\":\"GlyphRenderer\"},{\"attributes\":{},\"id\":\"1706\",\"type\":\"ResetTool\"},{\"attributes\":{\"button_type\":\"success\",\"icon\":null,\"js_event_callbacks\":{\"button_click\":[{\"id\":\"1733\"}]},\"label\":\"Next\",\"sizing_mode\":\"scale_width\",\"width_policy\":\"fit\"},\"id\":\"1732\",\"type\":\"Button\"},{\"attributes\":{},\"id\":\"1707\",\"type\":\"HelpTool\"},{\"attributes\":{\"fill_color\":{\"value\":\"steelblue\"},\"line_color\":{\"value\":\"steelblue\"},\"size\":{\"units\":\"screen\",\"value\":8},\"x\":{\"field\":\"x\"},\"y\":{\"field\":\"y\"}},\"id\":\"1728\",\"type\":\"Circle\"},{\"attributes\":{},\"id\":\"1746\",\"type\":\"Selection\"},{\"attributes\":{\"fill_alpha\":{\"value\":0.1},\"fill_color\":{\"value\":\"steelblue\"},\"line_alpha\":{\"value\":0.1},\"line_color\":{\"value\":\"steelblue\"},\"size\":{\"units\":\"screen\",\"value\":8},\"x\":{\"field\":\"x\"},\"y\":{\"field\":\"y\"}},\"id\":\"1729\",\"type\":\"Circle\"},{\"attributes\":{\"active_drag\":\"auto\",\"active_inspect\":\"auto\",\"active_multi\":null,\"active_scroll\":\"auto\",\"active_tap\":\"auto\",\"logo\":null,\"tools\":[{\"id\":\"1702\"},{\"id\":\"1703\"},{\"id\":\"1704\"},{\"id\":\"1705\"},{\"id\":\"1706\"},{\"id\":\"1707\"}]},\"id\":\"1709\",\"type\":\"Toolbar\"},{\"attributes\":{\"source\":{\"id\":\"1727\"}},\"id\":\"1731\",\"type\":\"CDSView\"},{\"attributes\":{},\"id\":\"1743\",\"type\":\"UnionRenderers\"},{\"attributes\":{},\"id\":\"1690\",\"type\":\"LinearScale\"},{\"attributes\":{},\"id\":\"1744\",\"type\":\"Selection\"},{\"attributes\":{\"data_source\":{\"id\":\"1727\"},\"glyph\":{\"id\":\"1728\"},\"hover_glyph\":null,\"muted_glyph\":null,\"nonselection_glyph\":{\"id\":\"1729\"},\"selection_glyph\":null,\"view\":{\"id\":\"1731\"}},\"id\":\"1730\",\"type\":\"GlyphRenderer\"},{\"attributes\":{\"end\":7.595,\"start\":-0.5950000000000001},\"id\":\"1688\",\"type\":\"Range1d\"},{\"attributes\":{\"args\":{\"cost\":{\"id\":\"1717\"},\"done\":{\"id\":\"1718\"},\"n\":{\"id\":\"1719\"},\"source\":{\"id\":\"1720\"},\"tour\":{\"id\":\"1721\"}},\"code\":\"\\nif ((parseInt(n.text) + 1) < source.data['edges_y'].length) {\\n    n.text = (parseInt(n.text) + 1).toString()\\n}\\nvar iteration = parseInt(n.text)\\n\\nif (iteration == source.data['edges_y'].length - 2) {\\n    iteration = iteration + 1\\n}\\n\\n    cost.text = source.data['costs'][iteration].toFixed(1)\\n    \\n    if (iteration == source.data['edges_y'].length - 1) {\\n        done.text = \\\"done.\\\"\\n    } else {\\n        done.text = \\\"\\\"\\n    }\\n\\n    tour.data['edges_x'] = source.data['edges_x'][iteration]\\n    tour.data['edges_y'] = source.data['edges_y'][iteration]\\n    tour.change.emit()\\n    \"},\"id\":\"1733\",\"type\":\"CustomJS\"},{\"attributes\":{\"formatter\":{\"id\":\"1739\"},\"ticker\":{\"id\":\"1695\"},\"visible\":false},\"id\":\"1694\",\"type\":\"LinearAxis\"},{\"attributes\":{\"end\":5.425,\"start\":-0.42500000000000004},\"id\":\"1686\",\"type\":\"Range1d\"},{\"attributes\":{\"button_type\":\"success\",\"icon\":null,\"js_event_callbacks\":{\"button_click\":[{\"id\":\"1735\"}]},\"label\":\"Previous\",\"sizing_mode\":\"scale_width\",\"width_policy\":\"fit\"},\"id\":\"1734\",\"type\":\"Button\"},{\"attributes\":{},\"id\":\"1745\",\"type\":\"UnionRenderers\"},{\"attributes\":{\"args\":{\"cost\":{\"id\":\"1717\"},\"done\":{\"id\":\"1718\"},\"n\":{\"id\":\"1719\"},\"source\":{\"id\":\"1720\"},\"tour\":{\"id\":\"1721\"}},\"code\":\"\\nif ((parseInt(n.text) - 1) >= 0) {\\n    n.text = (parseInt(n.text) - 1).toString()\\n}\\nvar iteration = parseInt(n.text)\\n\\nif (iteration == source.data['edges_y'].length - 2) {\\n    iteration = iteration - 1\\n}\\n\\n    cost.text = source.data['costs'][iteration].toFixed(1)\\n    \\n    if (iteration == source.data['edges_y'].length - 1) {\\n        done.text = \\\"done.\\\"\\n    } else {\\n        done.text = \\\"\\\"\\n    }\\n\\n    tour.data['edges_x'] = source.data['edges_x'][iteration]\\n    tour.data['edges_y'] = source.data['edges_y'][iteration]\\n    tour.change.emit()\\n    \"},\"id\":\"1735\",\"type\":\"CustomJS\"},{\"attributes\":{\"background_fill_color\":null,\"below\":[{\"id\":\"1694\"}],\"border_fill_color\":null,\"center\":[{\"id\":\"1697\"},{\"id\":\"1701\"}],\"left\":[{\"id\":\"1698\"}],\"outline_line_color\":null,\"plot_height\":400,\"plot_width\":400,\"renderers\":[{\"id\":\"1725\"},{\"id\":\"1730\"}],\"title\":{\"id\":\"1684\"},\"toolbar\":{\"id\":\"1709\"},\"toolbar_location\":null,\"x_range\":{\"id\":\"1686\"},\"x_scale\":{\"id\":\"1690\"},\"y_range\":{\"id\":\"1688\"},\"y_scale\":{\"id\":\"1692\"}},\"id\":\"1683\",\"subtype\":\"Figure\",\"type\":\"Plot\"},{\"attributes\":{\"axis\":{\"id\":\"1694\"},\"grid_line_color\":null,\"ticker\":null},\"id\":\"1697\",\"type\":\"Grid\"}],\"root_ids\":[\"1753\"]},\"title\":\"Bokeh Application\",\"version\":\"2.1.0\"}};\n",
       "  var render_items = [{\"docid\":\"3f093c73-6d74-4a22-ad3f-75f59e968a6a\",\"root_ids\":[\"1753\"],\"roots\":{\"1753\":\"c2b57e60-1e81-4e34-9cbe-9bfe722e32a0\"}}];\n",
       "  root.Bokeh.embed.embed_items_notebook(docs_json, render_items);\n",
       "\n",
       "  }\n",
       "  if (root.Bokeh !== undefined) {\n",
       "    embed_document(root);\n",
       "  } else {\n",
       "    var attempts = 0;\n",
       "    var timer = setInterval(function(root) {\n",
       "      if (root.Bokeh !== undefined) {\n",
       "        clearInterval(timer);\n",
       "        embed_document(root);\n",
       "      } else {\n",
       "        attempts++;\n",
       "        if (attempts > 100) {\n",
       "          clearInterval(timer);\n",
       "          console.log(\"Bokeh: ERROR: Unable to run BokehJS code because BokehJS library is missing\");\n",
       "        }\n",
       "      }\n",
       "    }, 10, root)\n",
       "  }\n",
       "})(window);"
      ],
      "application/vnd.bokehjs_exec.v0+json": ""
     },
     "metadata": {
      "application/vnd.bokehjs_exec.v0+json": {
       "id": "1753"
      }
     },
     "output_type": "display_data"
    }
   ],
   "source": [
    "tour = plot_tsp_heuristic(nodes, G, heuristic='furthest_insertion', initial=[0,len(G)-1,0])"
   ]
  },
  {
   "cell_type": "markdown",
   "metadata": {},
   "source": [
    "**Q7:** Run this a few times. How does is compare to the previous heuristics?\n",
    "\n",
    "**A:** <font color='blue'> This heuristic is comparable to nearest insertion although there may be certain circumstanes where one would be more likely to outperform the other. </font>"
   ]
  },
  {
   "cell_type": "markdown",
   "metadata": {},
   "source": [
    "To compare the heuristics further, lets run each on the 6x8 grid say, 250 times."
   ]
  },
  {
   "cell_type": "markdown",
   "metadata": {},
   "source": [
    "**Q8:** Now that you have seen each heuristic, which do you think will do the best and which will do the worst?\n",
    "\n",
    "**A:** <font color='blue'> Random neighbor will do the worst and either nearest or furthest insertion will do the best. </font>"
   ]
  },
  {
   "cell_type": "code",
   "execution_count": 13,
   "metadata": {},
   "outputs": [
    {
     "name": "stdout",
     "output_type": "stream",
     "text": [
      "Heuristic Averages:\n",
      "Random Neighbor: 222.464\n",
      "Nearest Neighbor: 63.304\n",
      "Nearest Insertion: 60.192\n",
      "Furthest Insertion: 58.08\n"
     ]
    }
   ],
   "source": [
    "n = 250\n",
    "random_neighbor_total = 0\n",
    "nearest_neighbor_total = 0\n",
    "nearest_insertion_total = 0\n",
    "furthest_insertion_total = 0\n",
    "for i in range(n):\n",
    "    random_neighbor_total += tour_cost(G, random_neighbor(G))\n",
    "    nearest_neighbor_total += tour_cost(G, nearest_neighbor(G))\n",
    "    nearest_insertion_total += tour_cost(G, nearest_insertion(G))\n",
    "    furthest_insertion_total += tour_cost(G, furthest_insertion(G))\n",
    "print(\"Heuristic Averages:\")\n",
    "print(\"Random Neighbor: %s\" % (random_neighbor_total / n))\n",
    "print(\"Nearest Neighbor: %s\" % (nearest_neighbor_total / n))\n",
    "print(\"Nearest Insertion: %s\" % (nearest_insertion_total / n))\n",
    "print(\"Furthest Insertion: %s\" % (furthest_insertion_total / n))"
   ]
  },
  {
   "cell_type": "markdown",
   "metadata": {},
   "source": [
    "**Q9:** What were the results? Was this what you expected?\n",
    "\n",
    "**A:** <font color='blue'> Random neighbor did significantly worse. Furthest insertion did the best with nearest insertion and nearest neighbor not to much worse. This was what I expected. </font>"
   ]
  },
  {
   "cell_type": "markdown",
   "metadata": {},
   "source": [
    "Let's look at 9x9 grid using the euclidian distance now. Run each of the cells below to see each heuristic executed on the new instance."
   ]
  },
  {
   "cell_type": "code",
   "execution_count": 14,
   "metadata": {},
   "outputs": [],
   "source": [
    "nodes, G = tsp_grid_instance(9,9,manhattan=False)"
   ]
  },
  {
   "cell_type": "code",
   "execution_count": 15,
   "metadata": {},
   "outputs": [
    {
     "data": {
      "text/html": [
       "\n",
       "\n",
       "\n",
       "\n",
       "\n",
       "\n",
       "  <div class=\"bk-root\" id=\"142ff8e7-63d6-4eb0-b620-83e1d4b34726\" data-root-id=\"1940\"></div>\n"
      ]
     },
     "metadata": {},
     "output_type": "display_data"
    },
    {
     "data": {
      "application/javascript": [
       "(function(root) {\n",
       "  function embed_document(root) {\n",
       "    \n",
       "  var docs_json = {\"e571fc3e-e5dc-424b-a11e-c37570d6480d\":{\"roots\":{\"references\":[{\"attributes\":{\"children\":[[{\"id\":\"1884\"},0,0],[{\"id\":\"1918\"},1,0]]},\"id\":\"1940\",\"type\":\"GridBox\"},{\"attributes\":{\"data_source\":{\"id\":\"1919\"},\"glyph\":{\"id\":\"1920\"},\"hover_glyph\":null,\"muted_glyph\":null,\"nonselection_glyph\":{\"id\":\"1921\"},\"selection_glyph\":null,\"view\":{\"id\":\"1923\"}},\"id\":\"1922\",\"type\":\"GlyphRenderer\"},{\"attributes\":{\"bottom_units\":\"screen\",\"fill_alpha\":0.5,\"fill_color\":\"lightgrey\",\"left_units\":\"screen\",\"level\":\"overlay\",\"line_alpha\":1.0,\"line_color\":\"black\",\"line_dash\":[4,4],\"line_width\":2,\"right_units\":\"screen\",\"top_units\":\"screen\"},\"id\":\"1909\",\"type\":\"BoxAnnotation\"},{\"attributes\":{\"formatter\":{\"id\":\"1930\"},\"ticker\":{\"id\":\"1896\"},\"visible\":false},\"id\":\"1895\",\"type\":\"LinearAxis\"},{\"attributes\":{\"data\":{\"x\":[0.0,0.0,0.0,0.0,0.0,0.0,0.0,0.0,0.0,1.0,1.0,1.0,1.0,1.0,1.0,1.0,1.0,1.0,2.0,2.0,2.0,2.0,2.0,2.0,2.0,2.0,2.0,3.0,3.0,3.0,3.0,3.0,3.0,3.0,3.0,3.0,4.0,4.0,4.0,4.0,4.0,4.0,4.0,4.0,4.0,5.0,5.0,5.0,5.0,5.0,5.0,5.0,5.0,5.0,6.0,6.0,6.0,6.0,6.0,6.0,6.0,6.0,6.0,7.0,7.0,7.0,7.0,7.0,7.0,7.0,7.0,7.0,8.0,8.0,8.0,8.0,8.0,8.0,8.0,8.0,8.0],\"y\":[0.0,1.0,2.0,3.0,4.0,5.0,6.0,7.0,8.0,0.0,1.0,2.0,3.0,4.0,5.0,6.0,7.0,8.0,0.0,1.0,2.0,3.0,4.0,5.0,6.0,7.0,8.0,0.0,1.0,2.0,3.0,4.0,5.0,6.0,7.0,8.0,0.0,1.0,2.0,3.0,4.0,5.0,6.0,7.0,8.0,0.0,1.0,2.0,3.0,4.0,5.0,6.0,7.0,8.0,0.0,1.0,2.0,3.0,4.0,5.0,6.0,7.0,8.0,0.0,1.0,2.0,3.0,4.0,5.0,6.0,7.0,8.0,0.0,1.0,2.0,3.0,4.0,5.0,6.0,7.0,8.0]},\"selected\":{\"id\":\"1937\"},\"selection_policy\":{\"id\":\"1936\"}},\"id\":\"1924\",\"type\":\"ColumnDataSource\"},{\"attributes\":{\"source\":{\"id\":\"1919\"}},\"id\":\"1923\",\"type\":\"CDSView\"},{\"attributes\":{\"background_fill_color\":null,\"below\":[{\"id\":\"1895\"}],\"border_fill_color\":null,\"center\":[{\"id\":\"1898\"},{\"id\":\"1902\"}],\"left\":[{\"id\":\"1899\"}],\"outline_line_color\":null,\"plot_height\":400,\"plot_width\":400,\"renderers\":[{\"id\":\"1922\"},{\"id\":\"1927\"}],\"title\":{\"id\":\"1885\"},\"toolbar\":{\"id\":\"1910\"},\"toolbar_location\":null,\"x_range\":{\"id\":\"1887\"},\"x_scale\":{\"id\":\"1891\"},\"y_range\":{\"id\":\"1889\"},\"y_scale\":{\"id\":\"1893\"}},\"id\":\"1884\",\"subtype\":\"Figure\",\"type\":\"Plot\"},{\"attributes\":{\"formatter\":{\"id\":\"1932\"},\"ticker\":{\"id\":\"1900\"},\"visible\":false},\"id\":\"1899\",\"type\":\"LinearAxis\"},{\"attributes\":{\"end\":8.68,\"start\":-0.68},\"id\":\"1889\",\"type\":\"Range1d\"},{\"attributes\":{},\"id\":\"1893\",\"type\":\"LinearScale\"},{\"attributes\":{\"fill_color\":{\"value\":\"steelblue\"},\"line_color\":{\"value\":\"steelblue\"},\"size\":{\"units\":\"screen\",\"value\":8},\"x\":{\"field\":\"x\"},\"y\":{\"field\":\"y\"}},\"id\":\"1925\",\"type\":\"Circle\"},{\"attributes\":{},\"id\":\"1896\",\"type\":\"BasicTicker\"},{\"attributes\":{},\"id\":\"1900\",\"type\":\"BasicTicker\"},{\"attributes\":{\"fill_alpha\":{\"value\":0.1},\"fill_color\":{\"value\":\"steelblue\"},\"line_alpha\":{\"value\":0.1},\"line_color\":{\"value\":\"steelblue\"},\"size\":{\"units\":\"screen\",\"value\":8},\"x\":{\"field\":\"x\"},\"y\":{\"field\":\"y\"}},\"id\":\"1926\",\"type\":\"Circle\"},{\"attributes\":{\"source\":{\"id\":\"1924\"}},\"id\":\"1928\",\"type\":\"CDSView\"},{\"attributes\":{},\"id\":\"1891\",\"type\":\"LinearScale\"},{\"attributes\":{\"data_source\":{\"id\":\"1924\"},\"glyph\":{\"id\":\"1925\"},\"hover_glyph\":null,\"muted_glyph\":null,\"nonselection_glyph\":{\"id\":\"1926\"},\"selection_glyph\":null,\"view\":{\"id\":\"1928\"}},\"id\":\"1927\",\"type\":\"GlyphRenderer\"},{\"attributes\":{},\"id\":\"1930\",\"type\":\"BasicTickFormatter\"},{\"attributes\":{\"end\":8.68,\"start\":-0.68},\"id\":\"1887\",\"type\":\"Range1d\"},{\"attributes\":{\"line_width\":4,\"x\":{\"field\":\"x\"},\"y\":{\"field\":\"y\"}},\"id\":\"1920\",\"type\":\"Line\"},{\"attributes\":{\"text\":\"\"},\"id\":\"1885\",\"type\":\"Title\"},{\"attributes\":{},\"id\":\"1932\",\"type\":\"BasicTickFormatter\"},{\"attributes\":{},\"id\":\"1907\",\"type\":\"ResetTool\"},{\"attributes\":{},\"id\":\"1934\",\"type\":\"UnionRenderers\"},{\"attributes\":{},\"id\":\"1903\",\"type\":\"PanTool\"},{\"attributes\":{},\"id\":\"1935\",\"type\":\"Selection\"},{\"attributes\":{\"overlay\":{\"id\":\"1909\"}},\"id\":\"1905\",\"type\":\"BoxZoomTool\"},{\"attributes\":{\"axis\":{\"id\":\"1895\"},\"grid_line_color\":null,\"ticker\":null},\"id\":\"1898\",\"type\":\"Grid\"},{\"attributes\":{},\"id\":\"1936\",\"type\":\"UnionRenderers\"},{\"attributes\":{\"axis\":{\"id\":\"1899\"},\"dimension\":1,\"grid_line_color\":null,\"ticker\":null},\"id\":\"1902\",\"type\":\"Grid\"},{\"attributes\":{\"active_drag\":\"auto\",\"active_inspect\":\"auto\",\"active_multi\":null,\"active_scroll\":\"auto\",\"active_tap\":\"auto\",\"logo\":null,\"tools\":[{\"id\":\"1903\"},{\"id\":\"1904\"},{\"id\":\"1905\"},{\"id\":\"1906\"},{\"id\":\"1907\"},{\"id\":\"1908\"}]},\"id\":\"1910\",\"type\":\"Toolbar\"},{\"attributes\":{},\"id\":\"1937\",\"type\":\"Selection\"},{\"attributes\":{},\"id\":\"1906\",\"type\":\"SaveTool\"},{\"attributes\":{},\"id\":\"1908\",\"type\":\"HelpTool\"},{\"attributes\":{\"align\":\"center\",\"text\":\"353.2\",\"width\":400},\"id\":\"1918\",\"type\":\"Div\"},{\"attributes\":{\"data\":{\"x\":[0.0,6.0,0.0,2.0,2.0,1.0,2.0,6.0,4.0,6.0,8.0,3.0,2.0,3.0,7.0,8.0,5.0,2.0,1.0,6.0,5.0,3.0,5.0,8.0,8.0,1.0,7.0,4.0,6.0,7.0,8.0,7.0,5.0,8.0,5.0,4.0,2.0,8.0,1.0,3.0,6.0,3.0,6.0,6.0,5.0,6.0,5.0,4.0,0.0,2.0,7.0,7.0,4.0,8.0,2.0,1.0,0.0,0.0,1.0,1.0,4.0,8.0,7.0,3.0,3.0,1.0,0.0,0.0,4.0,0.0,4.0,3.0,7.0,2.0,7.0,5.0,1.0,5.0,4.0,0.0,3.0,0.0],\"y\":[0.0,5.0,5.0,8.0,7.0,4.0,4.0,7.0,5.0,1.0,8.0,4.0,5.0,5.0,7.0,3.0,2.0,3.0,7.0,2.0,4.0,0.0,8.0,1.0,5.0,2.0,6.0,8.0,0.0,1.0,4.0,0.0,0.0,6.0,1.0,4.0,2.0,0.0,6.0,1.0,6.0,3.0,3.0,4.0,5.0,8.0,3.0,3.0,2.0,0.0,5.0,8.0,2.0,7.0,6.0,3.0,6.0,3.0,5.0,0.0,1.0,2.0,2.0,7.0,8.0,8.0,4.0,7.0,7.0,8.0,0.0,6.0,3.0,1.0,4.0,6.0,1.0,7.0,6.0,1.0,2.0,0.0]},\"selected\":{\"id\":\"1935\"},\"selection_policy\":{\"id\":\"1934\"}},\"id\":\"1919\",\"type\":\"ColumnDataSource\"},{\"attributes\":{\"line_alpha\":0.1,\"line_width\":4,\"x\":{\"field\":\"x\"},\"y\":{\"field\":\"y\"}},\"id\":\"1921\",\"type\":\"Line\"},{\"attributes\":{},\"id\":\"1904\",\"type\":\"WheelZoomTool\"}],\"root_ids\":[\"1940\"]},\"title\":\"Bokeh Application\",\"version\":\"2.1.0\"}};\n",
       "  var render_items = [{\"docid\":\"e571fc3e-e5dc-424b-a11e-c37570d6480d\",\"root_ids\":[\"1940\"],\"roots\":{\"1940\":\"142ff8e7-63d6-4eb0-b620-83e1d4b34726\"}}];\n",
       "  root.Bokeh.embed.embed_items_notebook(docs_json, render_items);\n",
       "\n",
       "  }\n",
       "  if (root.Bokeh !== undefined) {\n",
       "    embed_document(root);\n",
       "  } else {\n",
       "    var attempts = 0;\n",
       "    var timer = setInterval(function(root) {\n",
       "      if (root.Bokeh !== undefined) {\n",
       "        clearInterval(timer);\n",
       "        embed_document(root);\n",
       "      } else {\n",
       "        attempts++;\n",
       "        if (attempts > 100) {\n",
       "          clearInterval(timer);\n",
       "          console.log(\"Bokeh: ERROR: Unable to run BokehJS code because BokehJS library is missing\");\n",
       "        }\n",
       "      }\n",
       "    }, 10, root)\n",
       "  }\n",
       "})(window);"
      ],
      "application/vnd.bokehjs_exec.v0+json": ""
     },
     "metadata": {
      "application/vnd.bokehjs_exec.v0+json": {
       "id": "1940"
      }
     },
     "output_type": "display_data"
    }
   ],
   "source": [
    "plot_tour(nodes, G, random_neighbor(G))"
   ]
  },
  {
   "cell_type": "code",
   "execution_count": 16,
   "metadata": {},
   "outputs": [
    {
     "data": {
      "text/html": [
       "\n",
       "\n",
       "\n",
       "\n",
       "\n",
       "\n",
       "  <div class=\"bk-root\" id=\"81905e51-c59a-47cd-a1e9-c26481fdcf2e\" data-root-id=\"2141\"></div>\n"
      ]
     },
     "metadata": {},
     "output_type": "display_data"
    },
    {
     "data": {
      "application/javascript": [
       "(function(root) {\n",
       "  function embed_document(root) {\n",
       "    \n",
       "  var docs_json = {\"351bfa6a-157a-4540-8af6-94dc3a183d03\":{\"roots\":{\"references\":[{\"attributes\":{\"children\":[[{\"id\":\"2071\"},0,0],[{\"id\":\"2124\"},1,0],[{\"id\":\"2125\"},2,0]]},\"id\":\"2141\",\"type\":\"GridBox\"},{\"attributes\":{\"line_width\":4,\"x\":{\"field\":\"edges_x\"},\"y\":{\"field\":\"edges_y\"}},\"id\":\"2111\",\"type\":\"Line\"},{\"attributes\":{},\"id\":\"2132\",\"type\":\"Selection\"},{\"attributes\":{},\"id\":\"2090\",\"type\":\"PanTool\"},{\"attributes\":{\"source\":{\"id\":\"2109\"}},\"id\":\"2114\",\"type\":\"CDSView\"},{\"attributes\":{},\"id\":\"2133\",\"type\":\"UnionRenderers\"},{\"attributes\":{},\"id\":\"2091\",\"type\":\"WheelZoomTool\"},{\"attributes\":{},\"id\":\"2134\",\"type\":\"Selection\"},{\"attributes\":{},\"id\":\"2083\",\"type\":\"BasicTicker\"},{\"attributes\":{\"overlay\":{\"id\":\"2096\"}},\"id\":\"2092\",\"type\":\"BoxZoomTool\"},{\"attributes\":{\"align\":\"center\",\"text\":\"0\",\"width\":200},\"id\":\"2105\",\"type\":\"Div\"},{\"attributes\":{\"data_source\":{\"id\":\"2109\"},\"glyph\":{\"id\":\"2111\"},\"hover_glyph\":null,\"muted_glyph\":null,\"nonselection_glyph\":{\"id\":\"2112\"},\"selection_glyph\":null,\"view\":{\"id\":\"2114\"}},\"id\":\"2113\",\"type\":\"GlyphRenderer\"},{\"attributes\":{\"axis\":{\"id\":\"2082\"},\"grid_line_color\":null,\"ticker\":null},\"id\":\"2085\",\"type\":\"Grid\"},{\"attributes\":{},\"id\":\"2093\",\"type\":\"SaveTool\"},{\"attributes\":{\"button_type\":\"success\",\"icon\":null,\"js_event_callbacks\":{\"button_click\":[{\"id\":\"2121\"}]},\"label\":\"Next\",\"sizing_mode\":\"scale_width\",\"width_policy\":\"fit\"},\"id\":\"2120\",\"type\":\"Button\"},{\"attributes\":{\"align\":\"center\",\"width\":200},\"id\":\"2106\",\"type\":\"Div\"},{\"attributes\":{},\"id\":\"2094\",\"type\":\"ResetTool\"},{\"attributes\":{\"fill_color\":{\"value\":\"steelblue\"},\"line_color\":{\"value\":\"steelblue\"},\"size\":{\"units\":\"screen\",\"value\":8},\"x\":{\"field\":\"x\"},\"y\":{\"field\":\"y\"}},\"id\":\"2116\",\"type\":\"Circle\"},{\"attributes\":{},\"id\":\"2095\",\"type\":\"HelpTool\"},{\"attributes\":{\"fill_alpha\":{\"value\":0.1},\"fill_color\":{\"value\":\"steelblue\"},\"line_alpha\":{\"value\":0.1},\"line_color\":{\"value\":\"steelblue\"},\"size\":{\"units\":\"screen\",\"value\":8},\"x\":{\"field\":\"x\"},\"y\":{\"field\":\"y\"}},\"id\":\"2117\",\"type\":\"Circle\"},{\"attributes\":{\"source\":{\"id\":\"2115\"}},\"id\":\"2119\",\"type\":\"CDSView\"},{\"attributes\":{\"active_drag\":\"auto\",\"active_inspect\":\"auto\",\"active_multi\":null,\"active_scroll\":\"auto\",\"active_tap\":\"auto\",\"logo\":null,\"tools\":[{\"id\":\"2090\"},{\"id\":\"2091\"},{\"id\":\"2092\"},{\"id\":\"2093\"},{\"id\":\"2094\"},{\"id\":\"2095\"}]},\"id\":\"2097\",\"type\":\"Toolbar\"},{\"attributes\":{\"data_source\":{\"id\":\"2115\"},\"glyph\":{\"id\":\"2116\"},\"hover_glyph\":null,\"muted_glyph\":null,\"nonselection_glyph\":{\"id\":\"2117\"},\"selection_glyph\":null,\"view\":{\"id\":\"2119\"}},\"id\":\"2118\",\"type\":\"GlyphRenderer\"},{\"attributes\":{\"args\":{\"cost\":{\"id\":\"2105\"},\"done\":{\"id\":\"2106\"},\"n\":{\"id\":\"2107\"},\"source\":{\"id\":\"2108\"},\"tour\":{\"id\":\"2109\"}},\"code\":\"\\nif ((parseInt(n.text) + 1) < source.data['edges_y'].length) {\\n    n.text = (parseInt(n.text) + 1).toString()\\n}\\nvar iteration = parseInt(n.text)\\n\\nif (iteration == source.data['edges_y'].length - 2) {\\n    iteration = iteration + 1\\n}\\n\\n    cost.text = source.data['costs'][iteration].toFixed(1)\\n    \\n    if (iteration == source.data['edges_y'].length - 1) {\\n        done.text = \\\"done.\\\"\\n    } else {\\n        done.text = \\\"\\\"\\n    }\\n\\n    tour.data['edges_x'] = source.data['edges_x'][iteration]\\n    tour.data['edges_y'] = source.data['edges_y'][iteration]\\n    tour.change.emit()\\n    \"},\"id\":\"2121\",\"type\":\"CustomJS\"},{\"attributes\":{\"button_type\":\"success\",\"icon\":null,\"js_event_callbacks\":{\"button_click\":[{\"id\":\"2123\"}]},\"label\":\"Previous\",\"sizing_mode\":\"scale_width\",\"width_policy\":\"fit\"},\"id\":\"2122\",\"type\":\"Button\"},{\"attributes\":{\"formatter\":{\"id\":\"2129\"},\"ticker\":{\"id\":\"2087\"},\"visible\":false},\"id\":\"2086\",\"type\":\"LinearAxis\"},{\"attributes\":{\"args\":{\"cost\":{\"id\":\"2105\"},\"done\":{\"id\":\"2106\"},\"n\":{\"id\":\"2107\"},\"source\":{\"id\":\"2108\"},\"tour\":{\"id\":\"2109\"}},\"code\":\"\\nif ((parseInt(n.text) - 1) >= 0) {\\n    n.text = (parseInt(n.text) - 1).toString()\\n}\\nvar iteration = parseInt(n.text)\\n\\nif (iteration == source.data['edges_y'].length - 2) {\\n    iteration = iteration - 1\\n}\\n\\n    cost.text = source.data['costs'][iteration].toFixed(1)\\n    \\n    if (iteration == source.data['edges_y'].length - 1) {\\n        done.text = \\\"done.\\\"\\n    } else {\\n        done.text = \\\"\\\"\\n    }\\n\\n    tour.data['edges_x'] = source.data['edges_x'][iteration]\\n    tour.data['edges_y'] = source.data['edges_y'][iteration]\\n    tour.change.emit()\\n    \"},\"id\":\"2123\",\"type\":\"CustomJS\"},{\"attributes\":{\"axis\":{\"id\":\"2086\"},\"dimension\":1,\"grid_line_color\":null,\"ticker\":null},\"id\":\"2089\",\"type\":\"Grid\"},{\"attributes\":{},\"id\":\"2140\",\"type\":\"Selection\"},{\"attributes\":{\"children\":[{\"id\":\"2122\"},{\"id\":\"2120\"}],\"max_width\":400,\"sizing_mode\":\"stretch_both\"},\"id\":\"2124\",\"type\":\"Row\"},{\"attributes\":{},\"id\":\"2087\",\"type\":\"BasicTicker\"},{\"attributes\":{\"bottom_units\":\"screen\",\"fill_alpha\":0.5,\"fill_color\":\"lightgrey\",\"left_units\":\"screen\",\"level\":\"overlay\",\"line_alpha\":1.0,\"line_color\":\"black\",\"line_dash\":[4,4],\"line_width\":2,\"right_units\":\"screen\",\"top_units\":\"screen\"},\"id\":\"2096\",\"type\":\"BoxAnnotation\"},{\"attributes\":{\"data\":{\"x\":[0.0,0.0,0.0,0.0,0.0,0.0,0.0,0.0,0.0,1.0,1.0,1.0,1.0,1.0,1.0,1.0,1.0,1.0,2.0,2.0,2.0,2.0,2.0,2.0,2.0,2.0,2.0,3.0,3.0,3.0,3.0,3.0,3.0,3.0,3.0,3.0,4.0,4.0,4.0,4.0,4.0,4.0,4.0,4.0,4.0,5.0,5.0,5.0,5.0,5.0,5.0,5.0,5.0,5.0,6.0,6.0,6.0,6.0,6.0,6.0,6.0,6.0,6.0,7.0,7.0,7.0,7.0,7.0,7.0,7.0,7.0,7.0,8.0,8.0,8.0,8.0,8.0,8.0,8.0,8.0,8.0],\"y\":[0.0,1.0,2.0,3.0,4.0,5.0,6.0,7.0,8.0,0.0,1.0,2.0,3.0,4.0,5.0,6.0,7.0,8.0,0.0,1.0,2.0,3.0,4.0,5.0,6.0,7.0,8.0,0.0,1.0,2.0,3.0,4.0,5.0,6.0,7.0,8.0,0.0,1.0,2.0,3.0,4.0,5.0,6.0,7.0,8.0,0.0,1.0,2.0,3.0,4.0,5.0,6.0,7.0,8.0,0.0,1.0,2.0,3.0,4.0,5.0,6.0,7.0,8.0,0.0,1.0,2.0,3.0,4.0,5.0,6.0,7.0,8.0,0.0,1.0,2.0,3.0,4.0,5.0,6.0,7.0,8.0]},\"selected\":{\"id\":\"2134\"},\"selection_policy\":{\"id\":\"2133\"}},\"id\":\"2115\",\"type\":\"ColumnDataSource\"},{\"attributes\":{\"children\":[{\"id\":\"2105\"},{\"id\":\"2106\"}]},\"id\":\"2125\",\"type\":\"Row\"},{\"attributes\":{\"align\":\"center\",\"text\":\"0\",\"width\":400},\"id\":\"2107\",\"type\":\"Div\"},{\"attributes\":{\"data\":{\"costs\":[0,1.0,2.0,3.0,4.0,5.0,6.0,7.0,8.0,9.0,10.0,11.0,12.0,13.0,14.0,15.0,16.0,17.0,18.0,19.0,20.0,21.0,22.0,23.0,24.0,25.0,26.0,27.0,28.0,29.0,30.0,31.0,32.0,33.0,34.0,35.41421356237309,36.41421356237309,38.65028153987288,40.886349517372665,41.886349517372665,42.886349517372665,43.886349517372665,44.886349517372665,45.886349517372665,46.886349517372665,47.886349517372665,48.886349517372665,49.886349517372665,50.886349517372665,51.886349517372665,52.886349517372665,53.886349517372665,54.886349517372665,55.886349517372665,56.886349517372665,57.886349517372665,58.886349517372665,59.886349517372665,60.886349517372665,61.886349517372665,62.886349517372665,63.886349517372665,64.88634951737266,65.88634951737266,66.88634951737266,67.88634951737266,68.88634951737266,69.88634951737266,70.88634951737266,71.88634951737266,72.88634951737266,73.88634951737266,74.88634951737266,75.88634951737266,77.88634951737266,80.12241749487245,81.53663105724554,83.77269903474533,88.77269903474533,96.77269903474533,97.77269903474533,105.77269903474533],\"edges_x\":[[0.0],[0.0,0.0],[0.0,0.0,0.0],[0.0,0.0,0.0,1.0],[0.0,0.0,0.0,1.0,1.0],[0.0,0.0,0.0,1.0,1.0,2.0],[0.0,0.0,0.0,1.0,1.0,2.0,2.0],[0.0,0.0,0.0,1.0,1.0,2.0,2.0,3.0],[0.0,0.0,0.0,1.0,1.0,2.0,2.0,3.0,3.0],[0.0,0.0,0.0,1.0,1.0,2.0,2.0,3.0,3.0,4.0],[0.0,0.0,0.0,1.0,1.0,2.0,2.0,3.0,3.0,4.0,4.0],[0.0,0.0,0.0,1.0,1.0,2.0,2.0,3.0,3.0,4.0,4.0,5.0],[0.0,0.0,0.0,1.0,1.0,2.0,2.0,3.0,3.0,4.0,4.0,5.0,5.0],[0.0,0.0,0.0,1.0,1.0,2.0,2.0,3.0,3.0,4.0,4.0,5.0,5.0,6.0],[0.0,0.0,0.0,1.0,1.0,2.0,2.0,3.0,3.0,4.0,4.0,5.0,5.0,6.0,6.0],[0.0,0.0,0.0,1.0,1.0,2.0,2.0,3.0,3.0,4.0,4.0,5.0,5.0,6.0,6.0,5.0],[0.0,0.0,0.0,1.0,1.0,2.0,2.0,3.0,3.0,4.0,4.0,5.0,5.0,6.0,6.0,5.0,5.0],[0.0,0.0,0.0,1.0,1.0,2.0,2.0,3.0,3.0,4.0,4.0,5.0,5.0,6.0,6.0,5.0,5.0,4.0],[0.0,0.0,0.0,1.0,1.0,2.0,2.0,3.0,3.0,4.0,4.0,5.0,5.0,6.0,6.0,5.0,5.0,4.0,4.0],[0.0,0.0,0.0,1.0,1.0,2.0,2.0,3.0,3.0,4.0,4.0,5.0,5.0,6.0,6.0,5.0,5.0,4.0,4.0,3.0],[0.0,0.0,0.0,1.0,1.0,2.0,2.0,3.0,3.0,4.0,4.0,5.0,5.0,6.0,6.0,5.0,5.0,4.0,4.0,3.0,2.0],[0.0,0.0,0.0,1.0,1.0,2.0,2.0,3.0,3.0,4.0,4.0,5.0,5.0,6.0,6.0,5.0,5.0,4.0,4.0,3.0,2.0,2.0],[0.0,0.0,0.0,1.0,1.0,2.0,2.0,3.0,3.0,4.0,4.0,5.0,5.0,6.0,6.0,5.0,5.0,4.0,4.0,3.0,2.0,2.0,3.0],[0.0,0.0,0.0,1.0,1.0,2.0,2.0,3.0,3.0,4.0,4.0,5.0,5.0,6.0,6.0,5.0,5.0,4.0,4.0,3.0,2.0,2.0,3.0,3.0],[0.0,0.0,0.0,1.0,1.0,2.0,2.0,3.0,3.0,4.0,4.0,5.0,5.0,6.0,6.0,5.0,5.0,4.0,4.0,3.0,2.0,2.0,3.0,3.0,3.0],[0.0,0.0,0.0,1.0,1.0,2.0,2.0,3.0,3.0,4.0,4.0,5.0,5.0,6.0,6.0,5.0,5.0,4.0,4.0,3.0,2.0,2.0,3.0,3.0,3.0,2.0],[0.0,0.0,0.0,1.0,1.0,2.0,2.0,3.0,3.0,4.0,4.0,5.0,5.0,6.0,6.0,5.0,5.0,4.0,4.0,3.0,2.0,2.0,3.0,3.0,3.0,2.0,2.0],[0.0,0.0,0.0,1.0,1.0,2.0,2.0,3.0,3.0,4.0,4.0,5.0,5.0,6.0,6.0,5.0,5.0,4.0,4.0,3.0,2.0,2.0,3.0,3.0,3.0,2.0,2.0,1.0],[0.0,0.0,0.0,1.0,1.0,2.0,2.0,3.0,3.0,4.0,4.0,5.0,5.0,6.0,6.0,5.0,5.0,4.0,4.0,3.0,2.0,2.0,3.0,3.0,3.0,2.0,2.0,1.0,1.0],[0.0,0.0,0.0,1.0,1.0,2.0,2.0,3.0,3.0,4.0,4.0,5.0,5.0,6.0,6.0,5.0,5.0,4.0,4.0,3.0,2.0,2.0,3.0,3.0,3.0,2.0,2.0,1.0,1.0,0.0],[0.0,0.0,0.0,1.0,1.0,2.0,2.0,3.0,3.0,4.0,4.0,5.0,5.0,6.0,6.0,5.0,5.0,4.0,4.0,3.0,2.0,2.0,3.0,3.0,3.0,2.0,2.0,1.0,1.0,0.0,0.0],[0.0,0.0,0.0,1.0,1.0,2.0,2.0,3.0,3.0,4.0,4.0,5.0,5.0,6.0,6.0,5.0,5.0,4.0,4.0,3.0,2.0,2.0,3.0,3.0,3.0,2.0,2.0,1.0,1.0,0.0,0.0,0.0],[0.0,0.0,0.0,1.0,1.0,2.0,2.0,3.0,3.0,4.0,4.0,5.0,5.0,6.0,6.0,5.0,5.0,4.0,4.0,3.0,2.0,2.0,3.0,3.0,3.0,2.0,2.0,1.0,1.0,0.0,0.0,0.0,0.0],[0.0,0.0,0.0,1.0,1.0,2.0,2.0,3.0,3.0,4.0,4.0,5.0,5.0,6.0,6.0,5.0,5.0,4.0,4.0,3.0,2.0,2.0,3.0,3.0,3.0,2.0,2.0,1.0,1.0,0.0,0.0,0.0,0.0,1.0],[0.0,0.0,0.0,1.0,1.0,2.0,2.0,3.0,3.0,4.0,4.0,5.0,5.0,6.0,6.0,5.0,5.0,4.0,4.0,3.0,2.0,2.0,3.0,3.0,3.0,2.0,2.0,1.0,1.0,0.0,0.0,0.0,0.0,1.0,2.0],[0.0,0.0,0.0,1.0,1.0,2.0,2.0,3.0,3.0,4.0,4.0,5.0,5.0,6.0,6.0,5.0,5.0,4.0,4.0,3.0,2.0,2.0,3.0,3.0,3.0,2.0,2.0,1.0,1.0,0.0,0.0,0.0,0.0,1.0,2.0,1.0],[0.0,0.0,0.0,1.0,1.0,2.0,2.0,3.0,3.0,4.0,4.0,5.0,5.0,6.0,6.0,5.0,5.0,4.0,4.0,3.0,2.0,2.0,3.0,3.0,3.0,2.0,2.0,1.0,1.0,0.0,0.0,0.0,0.0,1.0,2.0,1.0,0.0],[0.0,0.0,0.0,1.0,1.0,2.0,2.0,3.0,3.0,4.0,4.0,5.0,5.0,6.0,6.0,5.0,5.0,4.0,4.0,3.0,2.0,2.0,3.0,3.0,3.0,2.0,2.0,1.0,1.0,0.0,0.0,0.0,0.0,1.0,2.0,1.0,0.0,1.0],[0.0,0.0,0.0,1.0,1.0,2.0,2.0,3.0,3.0,4.0,4.0,5.0,5.0,6.0,6.0,5.0,5.0,4.0,4.0,3.0,2.0,2.0,3.0,3.0,3.0,2.0,2.0,1.0,1.0,0.0,0.0,0.0,0.0,1.0,2.0,1.0,0.0,1.0,3.0],[0.0,0.0,0.0,1.0,1.0,2.0,2.0,3.0,3.0,4.0,4.0,5.0,5.0,6.0,6.0,5.0,5.0,4.0,4.0,3.0,2.0,2.0,3.0,3.0,3.0,2.0,2.0,1.0,1.0,0.0,0.0,0.0,0.0,1.0,2.0,1.0,0.0,1.0,3.0,3.0],[0.0,0.0,0.0,1.0,1.0,2.0,2.0,3.0,3.0,4.0,4.0,5.0,5.0,6.0,6.0,5.0,5.0,4.0,4.0,3.0,2.0,2.0,3.0,3.0,3.0,2.0,2.0,1.0,1.0,0.0,0.0,0.0,0.0,1.0,2.0,1.0,0.0,1.0,3.0,3.0,2.0],[0.0,0.0,0.0,1.0,1.0,2.0,2.0,3.0,3.0,4.0,4.0,5.0,5.0,6.0,6.0,5.0,5.0,4.0,4.0,3.0,2.0,2.0,3.0,3.0,3.0,2.0,2.0,1.0,1.0,0.0,0.0,0.0,0.0,1.0,2.0,1.0,0.0,1.0,3.0,3.0,2.0,2.0],[0.0,0.0,0.0,1.0,1.0,2.0,2.0,3.0,3.0,4.0,4.0,5.0,5.0,6.0,6.0,5.0,5.0,4.0,4.0,3.0,2.0,2.0,3.0,3.0,3.0,2.0,2.0,1.0,1.0,0.0,0.0,0.0,0.0,1.0,2.0,1.0,0.0,1.0,3.0,3.0,2.0,2.0,3.0],[0.0,0.0,0.0,1.0,1.0,2.0,2.0,3.0,3.0,4.0,4.0,5.0,5.0,6.0,6.0,5.0,5.0,4.0,4.0,3.0,2.0,2.0,3.0,3.0,3.0,2.0,2.0,1.0,1.0,0.0,0.0,0.0,0.0,1.0,2.0,1.0,0.0,1.0,3.0,3.0,2.0,2.0,3.0,4.0],[0.0,0.0,0.0,1.0,1.0,2.0,2.0,3.0,3.0,4.0,4.0,5.0,5.0,6.0,6.0,5.0,5.0,4.0,4.0,3.0,2.0,2.0,3.0,3.0,3.0,2.0,2.0,1.0,1.0,0.0,0.0,0.0,0.0,1.0,2.0,1.0,0.0,1.0,3.0,3.0,2.0,2.0,3.0,4.0,4.0],[0.0,0.0,0.0,1.0,1.0,2.0,2.0,3.0,3.0,4.0,4.0,5.0,5.0,6.0,6.0,5.0,5.0,4.0,4.0,3.0,2.0,2.0,3.0,3.0,3.0,2.0,2.0,1.0,1.0,0.0,0.0,0.0,0.0,1.0,2.0,1.0,0.0,1.0,3.0,3.0,2.0,2.0,3.0,4.0,4.0,5.0],[0.0,0.0,0.0,1.0,1.0,2.0,2.0,3.0,3.0,4.0,4.0,5.0,5.0,6.0,6.0,5.0,5.0,4.0,4.0,3.0,2.0,2.0,3.0,3.0,3.0,2.0,2.0,1.0,1.0,0.0,0.0,0.0,0.0,1.0,2.0,1.0,0.0,1.0,3.0,3.0,2.0,2.0,3.0,4.0,4.0,5.0,5.0],[0.0,0.0,0.0,1.0,1.0,2.0,2.0,3.0,3.0,4.0,4.0,5.0,5.0,6.0,6.0,5.0,5.0,4.0,4.0,3.0,2.0,2.0,3.0,3.0,3.0,2.0,2.0,1.0,1.0,0.0,0.0,0.0,0.0,1.0,2.0,1.0,0.0,1.0,3.0,3.0,2.0,2.0,3.0,4.0,4.0,5.0,5.0,6.0],[0.0,0.0,0.0,1.0,1.0,2.0,2.0,3.0,3.0,4.0,4.0,5.0,5.0,6.0,6.0,5.0,5.0,4.0,4.0,3.0,2.0,2.0,3.0,3.0,3.0,2.0,2.0,1.0,1.0,0.0,0.0,0.0,0.0,1.0,2.0,1.0,0.0,1.0,3.0,3.0,2.0,2.0,3.0,4.0,4.0,5.0,5.0,6.0,6.0],[0.0,0.0,0.0,1.0,1.0,2.0,2.0,3.0,3.0,4.0,4.0,5.0,5.0,6.0,6.0,5.0,5.0,4.0,4.0,3.0,2.0,2.0,3.0,3.0,3.0,2.0,2.0,1.0,1.0,0.0,0.0,0.0,0.0,1.0,2.0,1.0,0.0,1.0,3.0,3.0,2.0,2.0,3.0,4.0,4.0,5.0,5.0,6.0,6.0,7.0],[0.0,0.0,0.0,1.0,1.0,2.0,2.0,3.0,3.0,4.0,4.0,5.0,5.0,6.0,6.0,5.0,5.0,4.0,4.0,3.0,2.0,2.0,3.0,3.0,3.0,2.0,2.0,1.0,1.0,0.0,0.0,0.0,0.0,1.0,2.0,1.0,0.0,1.0,3.0,3.0,2.0,2.0,3.0,4.0,4.0,5.0,5.0,6.0,6.0,7.0,7.0],[0.0,0.0,0.0,1.0,1.0,2.0,2.0,3.0,3.0,4.0,4.0,5.0,5.0,6.0,6.0,5.0,5.0,4.0,4.0,3.0,2.0,2.0,3.0,3.0,3.0,2.0,2.0,1.0,1.0,0.0,0.0,0.0,0.0,1.0,2.0,1.0,0.0,1.0,3.0,3.0,2.0,2.0,3.0,4.0,4.0,5.0,5.0,6.0,6.0,7.0,7.0,8.0],[0.0,0.0,0.0,1.0,1.0,2.0,2.0,3.0,3.0,4.0,4.0,5.0,5.0,6.0,6.0,5.0,5.0,4.0,4.0,3.0,2.0,2.0,3.0,3.0,3.0,2.0,2.0,1.0,1.0,0.0,0.0,0.0,0.0,1.0,2.0,1.0,0.0,1.0,3.0,3.0,2.0,2.0,3.0,4.0,4.0,5.0,5.0,6.0,6.0,7.0,7.0,8.0,8.0],[0.0,0.0,0.0,1.0,1.0,2.0,2.0,3.0,3.0,4.0,4.0,5.0,5.0,6.0,6.0,5.0,5.0,4.0,4.0,3.0,2.0,2.0,3.0,3.0,3.0,2.0,2.0,1.0,1.0,0.0,0.0,0.0,0.0,1.0,2.0,1.0,0.0,1.0,3.0,3.0,2.0,2.0,3.0,4.0,4.0,5.0,5.0,6.0,6.0,7.0,7.0,8.0,8.0,8.0],[0.0,0.0,0.0,1.0,1.0,2.0,2.0,3.0,3.0,4.0,4.0,5.0,5.0,6.0,6.0,5.0,5.0,4.0,4.0,3.0,2.0,2.0,3.0,3.0,3.0,2.0,2.0,1.0,1.0,0.0,0.0,0.0,0.0,1.0,2.0,1.0,0.0,1.0,3.0,3.0,2.0,2.0,3.0,4.0,4.0,5.0,5.0,6.0,6.0,7.0,7.0,8.0,8.0,8.0,7.0],[0.0,0.0,0.0,1.0,1.0,2.0,2.0,3.0,3.0,4.0,4.0,5.0,5.0,6.0,6.0,5.0,5.0,4.0,4.0,3.0,2.0,2.0,3.0,3.0,3.0,2.0,2.0,1.0,1.0,0.0,0.0,0.0,0.0,1.0,2.0,1.0,0.0,1.0,3.0,3.0,2.0,2.0,3.0,4.0,4.0,5.0,5.0,6.0,6.0,7.0,7.0,8.0,8.0,8.0,7.0,6.0],[0.0,0.0,0.0,1.0,1.0,2.0,2.0,3.0,3.0,4.0,4.0,5.0,5.0,6.0,6.0,5.0,5.0,4.0,4.0,3.0,2.0,2.0,3.0,3.0,3.0,2.0,2.0,1.0,1.0,0.0,0.0,0.0,0.0,1.0,2.0,1.0,0.0,1.0,3.0,3.0,2.0,2.0,3.0,4.0,4.0,5.0,5.0,6.0,6.0,7.0,7.0,8.0,8.0,8.0,7.0,6.0,5.0],[0.0,0.0,0.0,1.0,1.0,2.0,2.0,3.0,3.0,4.0,4.0,5.0,5.0,6.0,6.0,5.0,5.0,4.0,4.0,3.0,2.0,2.0,3.0,3.0,3.0,2.0,2.0,1.0,1.0,0.0,0.0,0.0,0.0,1.0,2.0,1.0,0.0,1.0,3.0,3.0,2.0,2.0,3.0,4.0,4.0,5.0,5.0,6.0,6.0,7.0,7.0,8.0,8.0,8.0,7.0,6.0,5.0,4.0],[0.0,0.0,0.0,1.0,1.0,2.0,2.0,3.0,3.0,4.0,4.0,5.0,5.0,6.0,6.0,5.0,5.0,4.0,4.0,3.0,2.0,2.0,3.0,3.0,3.0,2.0,2.0,1.0,1.0,0.0,0.0,0.0,0.0,1.0,2.0,1.0,0.0,1.0,3.0,3.0,2.0,2.0,3.0,4.0,4.0,5.0,5.0,6.0,6.0,7.0,7.0,8.0,8.0,8.0,7.0,6.0,5.0,4.0,4.0],[0.0,0.0,0.0,1.0,1.0,2.0,2.0,3.0,3.0,4.0,4.0,5.0,5.0,6.0,6.0,5.0,5.0,4.0,4.0,3.0,2.0,2.0,3.0,3.0,3.0,2.0,2.0,1.0,1.0,0.0,0.0,0.0,0.0,1.0,2.0,1.0,0.0,1.0,3.0,3.0,2.0,2.0,3.0,4.0,4.0,5.0,5.0,6.0,6.0,7.0,7.0,8.0,8.0,8.0,7.0,6.0,5.0,4.0,4.0,5.0],[0.0,0.0,0.0,1.0,1.0,2.0,2.0,3.0,3.0,4.0,4.0,5.0,5.0,6.0,6.0,5.0,5.0,4.0,4.0,3.0,2.0,2.0,3.0,3.0,3.0,2.0,2.0,1.0,1.0,0.0,0.0,0.0,0.0,1.0,2.0,1.0,0.0,1.0,3.0,3.0,2.0,2.0,3.0,4.0,4.0,5.0,5.0,6.0,6.0,7.0,7.0,8.0,8.0,8.0,7.0,6.0,5.0,4.0,4.0,5.0,5.0],[0.0,0.0,0.0,1.0,1.0,2.0,2.0,3.0,3.0,4.0,4.0,5.0,5.0,6.0,6.0,5.0,5.0,4.0,4.0,3.0,2.0,2.0,3.0,3.0,3.0,2.0,2.0,1.0,1.0,0.0,0.0,0.0,0.0,1.0,2.0,1.0,0.0,1.0,3.0,3.0,2.0,2.0,3.0,4.0,4.0,5.0,5.0,6.0,6.0,7.0,7.0,8.0,8.0,8.0,7.0,6.0,5.0,4.0,4.0,5.0,5.0,6.0],[0.0,0.0,0.0,1.0,1.0,2.0,2.0,3.0,3.0,4.0,4.0,5.0,5.0,6.0,6.0,5.0,5.0,4.0,4.0,3.0,2.0,2.0,3.0,3.0,3.0,2.0,2.0,1.0,1.0,0.0,0.0,0.0,0.0,1.0,2.0,1.0,0.0,1.0,3.0,3.0,2.0,2.0,3.0,4.0,4.0,5.0,5.0,6.0,6.0,7.0,7.0,8.0,8.0,8.0,7.0,6.0,5.0,4.0,4.0,5.0,5.0,6.0,6.0],[0.0,0.0,0.0,1.0,1.0,2.0,2.0,3.0,3.0,4.0,4.0,5.0,5.0,6.0,6.0,5.0,5.0,4.0,4.0,3.0,2.0,2.0,3.0,3.0,3.0,2.0,2.0,1.0,1.0,0.0,0.0,0.0,0.0,1.0,2.0,1.0,0.0,1.0,3.0,3.0,2.0,2.0,3.0,4.0,4.0,5.0,5.0,6.0,6.0,7.0,7.0,8.0,8.0,8.0,7.0,6.0,5.0,4.0,4.0,5.0,5.0,6.0,6.0,7.0],[0.0,0.0,0.0,1.0,1.0,2.0,2.0,3.0,3.0,4.0,4.0,5.0,5.0,6.0,6.0,5.0,5.0,4.0,4.0,3.0,2.0,2.0,3.0,3.0,3.0,2.0,2.0,1.0,1.0,0.0,0.0,0.0,0.0,1.0,2.0,1.0,0.0,1.0,3.0,3.0,2.0,2.0,3.0,4.0,4.0,5.0,5.0,6.0,6.0,7.0,7.0,8.0,8.0,8.0,7.0,6.0,5.0,4.0,4.0,5.0,5.0,6.0,6.0,7.0,8.0],[0.0,0.0,0.0,1.0,1.0,2.0,2.0,3.0,3.0,4.0,4.0,5.0,5.0,6.0,6.0,5.0,5.0,4.0,4.0,3.0,2.0,2.0,3.0,3.0,3.0,2.0,2.0,1.0,1.0,0.0,0.0,0.0,0.0,1.0,2.0,1.0,0.0,1.0,3.0,3.0,2.0,2.0,3.0,4.0,4.0,5.0,5.0,6.0,6.0,7.0,7.0,8.0,8.0,8.0,7.0,6.0,5.0,4.0,4.0,5.0,5.0,6.0,6.0,7.0,8.0,8.0],[0.0,0.0,0.0,1.0,1.0,2.0,2.0,3.0,3.0,4.0,4.0,5.0,5.0,6.0,6.0,5.0,5.0,4.0,4.0,3.0,2.0,2.0,3.0,3.0,3.0,2.0,2.0,1.0,1.0,0.0,0.0,0.0,0.0,1.0,2.0,1.0,0.0,1.0,3.0,3.0,2.0,2.0,3.0,4.0,4.0,5.0,5.0,6.0,6.0,7.0,7.0,8.0,8.0,8.0,7.0,6.0,5.0,4.0,4.0,5.0,5.0,6.0,6.0,7.0,8.0,8.0,7.0],[0.0,0.0,0.0,1.0,1.0,2.0,2.0,3.0,3.0,4.0,4.0,5.0,5.0,6.0,6.0,5.0,5.0,4.0,4.0,3.0,2.0,2.0,3.0,3.0,3.0,2.0,2.0,1.0,1.0,0.0,0.0,0.0,0.0,1.0,2.0,1.0,0.0,1.0,3.0,3.0,2.0,2.0,3.0,4.0,4.0,5.0,5.0,6.0,6.0,7.0,7.0,8.0,8.0,8.0,7.0,6.0,5.0,4.0,4.0,5.0,5.0,6.0,6.0,7.0,8.0,8.0,7.0,7.0],[0.0,0.0,0.0,1.0,1.0,2.0,2.0,3.0,3.0,4.0,4.0,5.0,5.0,6.0,6.0,5.0,5.0,4.0,4.0,3.0,2.0,2.0,3.0,3.0,3.0,2.0,2.0,1.0,1.0,0.0,0.0,0.0,0.0,1.0,2.0,1.0,0.0,1.0,3.0,3.0,2.0,2.0,3.0,4.0,4.0,5.0,5.0,6.0,6.0,7.0,7.0,8.0,8.0,8.0,7.0,6.0,5.0,4.0,4.0,5.0,5.0,6.0,6.0,7.0,8.0,8.0,7.0,7.0,8.0],[0.0,0.0,0.0,1.0,1.0,2.0,2.0,3.0,3.0,4.0,4.0,5.0,5.0,6.0,6.0,5.0,5.0,4.0,4.0,3.0,2.0,2.0,3.0,3.0,3.0,2.0,2.0,1.0,1.0,0.0,0.0,0.0,0.0,1.0,2.0,1.0,0.0,1.0,3.0,3.0,2.0,2.0,3.0,4.0,4.0,5.0,5.0,6.0,6.0,7.0,7.0,8.0,8.0,8.0,7.0,6.0,5.0,4.0,4.0,5.0,5.0,6.0,6.0,7.0,8.0,8.0,7.0,7.0,8.0,8.0],[0.0,0.0,0.0,1.0,1.0,2.0,2.0,3.0,3.0,4.0,4.0,5.0,5.0,6.0,6.0,5.0,5.0,4.0,4.0,3.0,2.0,2.0,3.0,3.0,3.0,2.0,2.0,1.0,1.0,0.0,0.0,0.0,0.0,1.0,2.0,1.0,0.0,1.0,3.0,3.0,2.0,2.0,3.0,4.0,4.0,5.0,5.0,6.0,6.0,7.0,7.0,8.0,8.0,8.0,7.0,6.0,5.0,4.0,4.0,5.0,5.0,6.0,6.0,7.0,8.0,8.0,7.0,7.0,8.0,8.0,8.0],[0.0,0.0,0.0,1.0,1.0,2.0,2.0,3.0,3.0,4.0,4.0,5.0,5.0,6.0,6.0,5.0,5.0,4.0,4.0,3.0,2.0,2.0,3.0,3.0,3.0,2.0,2.0,1.0,1.0,0.0,0.0,0.0,0.0,1.0,2.0,1.0,0.0,1.0,3.0,3.0,2.0,2.0,3.0,4.0,4.0,5.0,5.0,6.0,6.0,7.0,7.0,8.0,8.0,8.0,7.0,6.0,5.0,4.0,4.0,5.0,5.0,6.0,6.0,7.0,8.0,8.0,7.0,7.0,8.0,8.0,8.0,7.0],[0.0,0.0,0.0,1.0,1.0,2.0,2.0,3.0,3.0,4.0,4.0,5.0,5.0,6.0,6.0,5.0,5.0,4.0,4.0,3.0,2.0,2.0,3.0,3.0,3.0,2.0,2.0,1.0,1.0,0.0,0.0,0.0,0.0,1.0,2.0,1.0,0.0,1.0,3.0,3.0,2.0,2.0,3.0,4.0,4.0,5.0,5.0,6.0,6.0,7.0,7.0,8.0,8.0,8.0,7.0,6.0,5.0,4.0,4.0,5.0,5.0,6.0,6.0,7.0,8.0,8.0,7.0,7.0,8.0,8.0,8.0,7.0,7.0],[0.0,0.0,0.0,1.0,1.0,2.0,2.0,3.0,3.0,4.0,4.0,5.0,5.0,6.0,6.0,5.0,5.0,4.0,4.0,3.0,2.0,2.0,3.0,3.0,3.0,2.0,2.0,1.0,1.0,0.0,0.0,0.0,0.0,1.0,2.0,1.0,0.0,1.0,3.0,3.0,2.0,2.0,3.0,4.0,4.0,5.0,5.0,6.0,6.0,7.0,7.0,8.0,8.0,8.0,7.0,6.0,5.0,4.0,4.0,5.0,5.0,6.0,6.0,7.0,8.0,8.0,7.0,7.0,8.0,8.0,8.0,7.0,7.0,6.0],[0.0,0.0,0.0,1.0,1.0,2.0,2.0,3.0,3.0,4.0,4.0,5.0,5.0,6.0,6.0,5.0,5.0,4.0,4.0,3.0,2.0,2.0,3.0,3.0,3.0,2.0,2.0,1.0,1.0,0.0,0.0,0.0,0.0,1.0,2.0,1.0,0.0,1.0,3.0,3.0,2.0,2.0,3.0,4.0,4.0,5.0,5.0,6.0,6.0,7.0,7.0,8.0,8.0,8.0,7.0,6.0,5.0,4.0,4.0,5.0,5.0,6.0,6.0,7.0,8.0,8.0,7.0,7.0,8.0,8.0,8.0,7.0,7.0,6.0,8.0],[0.0,0.0,0.0,1.0,1.0,2.0,2.0,3.0,3.0,4.0,4.0,5.0,5.0,6.0,6.0,5.0,5.0,4.0,4.0,3.0,2.0,2.0,3.0,3.0,3.0,2.0,2.0,1.0,1.0,0.0,0.0,0.0,0.0,1.0,2.0,1.0,0.0,1.0,3.0,3.0,2.0,2.0,3.0,4.0,4.0,5.0,5.0,6.0,6.0,7.0,7.0,8.0,8.0,8.0,7.0,6.0,5.0,4.0,4.0,5.0,5.0,6.0,6.0,7.0,8.0,8.0,7.0,7.0,8.0,8.0,8.0,7.0,7.0,6.0,8.0,7.0],[0.0,0.0,0.0,1.0,1.0,2.0,2.0,3.0,3.0,4.0,4.0,5.0,5.0,6.0,6.0,5.0,5.0,4.0,4.0,3.0,2.0,2.0,3.0,3.0,3.0,2.0,2.0,1.0,1.0,0.0,0.0,0.0,0.0,1.0,2.0,1.0,0.0,1.0,3.0,3.0,2.0,2.0,3.0,4.0,4.0,5.0,5.0,6.0,6.0,7.0,7.0,8.0,8.0,8.0,7.0,6.0,5.0,4.0,4.0,5.0,5.0,6.0,6.0,7.0,8.0,8.0,7.0,7.0,8.0,8.0,8.0,7.0,7.0,6.0,8.0,7.0,6.0],[0.0,0.0,0.0,1.0,1.0,2.0,2.0,3.0,3.0,4.0,4.0,5.0,5.0,6.0,6.0,5.0,5.0,4.0,4.0,3.0,2.0,2.0,3.0,3.0,3.0,2.0,2.0,1.0,1.0,0.0,0.0,0.0,0.0,1.0,2.0,1.0,0.0,1.0,3.0,3.0,2.0,2.0,3.0,4.0,4.0,5.0,5.0,6.0,6.0,7.0,7.0,8.0,8.0,8.0,7.0,6.0,5.0,4.0,4.0,5.0,5.0,6.0,6.0,7.0,8.0,8.0,7.0,7.0,8.0,8.0,8.0,7.0,7.0,6.0,8.0,7.0,6.0,4.0],[0.0,0.0,0.0,1.0,1.0,2.0,2.0,3.0,3.0,4.0,4.0,5.0,5.0,6.0,6.0,5.0,5.0,4.0,4.0,3.0,2.0,2.0,3.0,3.0,3.0,2.0,2.0,1.0,1.0,0.0,0.0,0.0,0.0,1.0,2.0,1.0,0.0,1.0,3.0,3.0,2.0,2.0,3.0,4.0,4.0,5.0,5.0,6.0,6.0,7.0,7.0,8.0,8.0,8.0,7.0,6.0,5.0,4.0,4.0,5.0,5.0,6.0,6.0,7.0,8.0,8.0,7.0,7.0,8.0,8.0,8.0,7.0,7.0,6.0,8.0,7.0,6.0,4.0,1.0],[0.0,0.0,0.0,1.0,1.0,2.0,2.0,3.0,3.0,4.0,4.0,5.0,5.0,6.0,6.0,5.0,5.0,4.0,4.0,3.0,2.0,2.0,3.0,3.0,3.0,2.0,2.0,1.0,1.0,0.0,0.0,0.0,0.0,1.0,2.0,1.0,0.0,1.0,3.0,3.0,2.0,2.0,3.0,4.0,4.0,5.0,5.0,6.0,6.0,7.0,7.0,8.0,8.0,8.0,7.0,6.0,5.0,4.0,4.0,5.0,5.0,6.0,6.0,7.0,8.0,8.0,7.0,7.0,8.0,8.0,8.0,7.0,7.0,6.0,8.0,7.0,6.0,4.0,1.0,1.0],[0.0,0.0,0.0,1.0,1.0,2.0,2.0,3.0,3.0,4.0,4.0,5.0,5.0,6.0,6.0,5.0,5.0,4.0,4.0,3.0,2.0,2.0,3.0,3.0,3.0,2.0,2.0,1.0,1.0,0.0,0.0,0.0,0.0,1.0,2.0,1.0,0.0,1.0,3.0,3.0,2.0,2.0,3.0,4.0,4.0,5.0,5.0,6.0,6.0,7.0,7.0,8.0,8.0,8.0,7.0,6.0,5.0,4.0,4.0,5.0,5.0,6.0,6.0,7.0,8.0,8.0,7.0,7.0,8.0,8.0,8.0,7.0,7.0,6.0,8.0,7.0,6.0,4.0,1.0,1.0,0.0],[0.0,0.0,0.0,1.0,1.0,2.0,2.0,3.0,3.0,4.0,4.0,5.0,5.0,6.0,6.0,5.0,5.0,4.0,4.0,3.0,2.0,2.0,3.0,3.0,3.0,2.0,2.0,1.0,1.0,0.0,0.0,0.0,0.0,1.0,2.0,1.0,0.0,1.0,3.0,3.0,2.0,2.0,3.0,4.0,4.0,5.0,5.0,6.0,6.0,7.0,7.0,8.0,8.0,8.0,7.0,6.0,5.0,4.0,4.0,5.0,5.0,6.0,6.0,7.0,8.0,8.0,7.0,7.0,8.0,8.0,8.0,7.0,7.0,6.0,8.0,7.0,6.0,4.0,1.0,1.0,0.0,0.0]],\"edges_y\":[[0.0],[0.0,1.0],[0.0,1.0,2.0],[0.0,1.0,2.0,2.0],[0.0,1.0,2.0,2.0,1.0],[0.0,1.0,2.0,2.0,1.0,1.0],[0.0,1.0,2.0,2.0,1.0,1.0,0.0],[0.0,1.0,2.0,2.0,1.0,1.0,0.0,0.0],[0.0,1.0,2.0,2.0,1.0,1.0,0.0,0.0,1.0],[0.0,1.0,2.0,2.0,1.0,1.0,0.0,0.0,1.0,1.0],[0.0,1.0,2.0,2.0,1.0,1.0,0.0,0.0,1.0,1.0,0.0],[0.0,1.0,2.0,2.0,1.0,1.0,0.0,0.0,1.0,1.0,0.0,0.0],[0.0,1.0,2.0,2.0,1.0,1.0,0.0,0.0,1.0,1.0,0.0,0.0,1.0],[0.0,1.0,2.0,2.0,1.0,1.0,0.0,0.0,1.0,1.0,0.0,0.0,1.0,1.0],[0.0,1.0,2.0,2.0,1.0,1.0,0.0,0.0,1.0,1.0,0.0,0.0,1.0,1.0,2.0],[0.0,1.0,2.0,2.0,1.0,1.0,0.0,0.0,1.0,1.0,0.0,0.0,1.0,1.0,2.0,2.0],[0.0,1.0,2.0,2.0,1.0,1.0,0.0,0.0,1.0,1.0,0.0,0.0,1.0,1.0,2.0,2.0,3.0],[0.0,1.0,2.0,2.0,1.0,1.0,0.0,0.0,1.0,1.0,0.0,0.0,1.0,1.0,2.0,2.0,3.0,3.0],[0.0,1.0,2.0,2.0,1.0,1.0,0.0,0.0,1.0,1.0,0.0,0.0,1.0,1.0,2.0,2.0,3.0,3.0,2.0],[0.0,1.0,2.0,2.0,1.0,1.0,0.0,0.0,1.0,1.0,0.0,0.0,1.0,1.0,2.0,2.0,3.0,3.0,2.0,2.0],[0.0,1.0,2.0,2.0,1.0,1.0,0.0,0.0,1.0,1.0,0.0,0.0,1.0,1.0,2.0,2.0,3.0,3.0,2.0,2.0,2.0],[0.0,1.0,2.0,2.0,1.0,1.0,0.0,0.0,1.0,1.0,0.0,0.0,1.0,1.0,2.0,2.0,3.0,3.0,2.0,2.0,2.0,3.0],[0.0,1.0,2.0,2.0,1.0,1.0,0.0,0.0,1.0,1.0,0.0,0.0,1.0,1.0,2.0,2.0,3.0,3.0,2.0,2.0,2.0,3.0,3.0],[0.0,1.0,2.0,2.0,1.0,1.0,0.0,0.0,1.0,1.0,0.0,0.0,1.0,1.0,2.0,2.0,3.0,3.0,2.0,2.0,2.0,3.0,3.0,4.0],[0.0,1.0,2.0,2.0,1.0,1.0,0.0,0.0,1.0,1.0,0.0,0.0,1.0,1.0,2.0,2.0,3.0,3.0,2.0,2.0,2.0,3.0,3.0,4.0,5.0],[0.0,1.0,2.0,2.0,1.0,1.0,0.0,0.0,1.0,1.0,0.0,0.0,1.0,1.0,2.0,2.0,3.0,3.0,2.0,2.0,2.0,3.0,3.0,4.0,5.0,5.0],[0.0,1.0,2.0,2.0,1.0,1.0,0.0,0.0,1.0,1.0,0.0,0.0,1.0,1.0,2.0,2.0,3.0,3.0,2.0,2.0,2.0,3.0,3.0,4.0,5.0,5.0,6.0],[0.0,1.0,2.0,2.0,1.0,1.0,0.0,0.0,1.0,1.0,0.0,0.0,1.0,1.0,2.0,2.0,3.0,3.0,2.0,2.0,2.0,3.0,3.0,4.0,5.0,5.0,6.0,6.0],[0.0,1.0,2.0,2.0,1.0,1.0,0.0,0.0,1.0,1.0,0.0,0.0,1.0,1.0,2.0,2.0,3.0,3.0,2.0,2.0,2.0,3.0,3.0,4.0,5.0,5.0,6.0,6.0,7.0],[0.0,1.0,2.0,2.0,1.0,1.0,0.0,0.0,1.0,1.0,0.0,0.0,1.0,1.0,2.0,2.0,3.0,3.0,2.0,2.0,2.0,3.0,3.0,4.0,5.0,5.0,6.0,6.0,7.0,7.0],[0.0,1.0,2.0,2.0,1.0,1.0,0.0,0.0,1.0,1.0,0.0,0.0,1.0,1.0,2.0,2.0,3.0,3.0,2.0,2.0,2.0,3.0,3.0,4.0,5.0,5.0,6.0,6.0,7.0,7.0,6.0],[0.0,1.0,2.0,2.0,1.0,1.0,0.0,0.0,1.0,1.0,0.0,0.0,1.0,1.0,2.0,2.0,3.0,3.0,2.0,2.0,2.0,3.0,3.0,4.0,5.0,5.0,6.0,6.0,7.0,7.0,6.0,5.0],[0.0,1.0,2.0,2.0,1.0,1.0,0.0,0.0,1.0,1.0,0.0,0.0,1.0,1.0,2.0,2.0,3.0,3.0,2.0,2.0,2.0,3.0,3.0,4.0,5.0,5.0,6.0,6.0,7.0,7.0,6.0,5.0,4.0],[0.0,1.0,2.0,2.0,1.0,1.0,0.0,0.0,1.0,1.0,0.0,0.0,1.0,1.0,2.0,2.0,3.0,3.0,2.0,2.0,2.0,3.0,3.0,4.0,5.0,5.0,6.0,6.0,7.0,7.0,6.0,5.0,4.0,4.0],[0.0,1.0,2.0,2.0,1.0,1.0,0.0,0.0,1.0,1.0,0.0,0.0,1.0,1.0,2.0,2.0,3.0,3.0,2.0,2.0,2.0,3.0,3.0,4.0,5.0,5.0,6.0,6.0,7.0,7.0,6.0,5.0,4.0,4.0,4.0],[0.0,1.0,2.0,2.0,1.0,1.0,0.0,0.0,1.0,1.0,0.0,0.0,1.0,1.0,2.0,2.0,3.0,3.0,2.0,2.0,2.0,3.0,3.0,4.0,5.0,5.0,6.0,6.0,7.0,7.0,6.0,5.0,4.0,4.0,4.0,3.0],[0.0,1.0,2.0,2.0,1.0,1.0,0.0,0.0,1.0,1.0,0.0,0.0,1.0,1.0,2.0,2.0,3.0,3.0,2.0,2.0,2.0,3.0,3.0,4.0,5.0,5.0,6.0,6.0,7.0,7.0,6.0,5.0,4.0,4.0,4.0,3.0,3.0],[0.0,1.0,2.0,2.0,1.0,1.0,0.0,0.0,1.0,1.0,0.0,0.0,1.0,1.0,2.0,2.0,3.0,3.0,2.0,2.0,2.0,3.0,3.0,4.0,5.0,5.0,6.0,6.0,7.0,7.0,6.0,5.0,4.0,4.0,4.0,3.0,3.0,5.0],[0.0,1.0,2.0,2.0,1.0,1.0,0.0,0.0,1.0,1.0,0.0,0.0,1.0,1.0,2.0,2.0,3.0,3.0,2.0,2.0,2.0,3.0,3.0,4.0,5.0,5.0,6.0,6.0,7.0,7.0,6.0,5.0,4.0,4.0,4.0,3.0,3.0,5.0,6.0],[0.0,1.0,2.0,2.0,1.0,1.0,0.0,0.0,1.0,1.0,0.0,0.0,1.0,1.0,2.0,2.0,3.0,3.0,2.0,2.0,2.0,3.0,3.0,4.0,5.0,5.0,6.0,6.0,7.0,7.0,6.0,5.0,4.0,4.0,4.0,3.0,3.0,5.0,6.0,7.0],[0.0,1.0,2.0,2.0,1.0,1.0,0.0,0.0,1.0,1.0,0.0,0.0,1.0,1.0,2.0,2.0,3.0,3.0,2.0,2.0,2.0,3.0,3.0,4.0,5.0,5.0,6.0,6.0,7.0,7.0,6.0,5.0,4.0,4.0,4.0,3.0,3.0,5.0,6.0,7.0,7.0],[0.0,1.0,2.0,2.0,1.0,1.0,0.0,0.0,1.0,1.0,0.0,0.0,1.0,1.0,2.0,2.0,3.0,3.0,2.0,2.0,2.0,3.0,3.0,4.0,5.0,5.0,6.0,6.0,7.0,7.0,6.0,5.0,4.0,4.0,4.0,3.0,3.0,5.0,6.0,7.0,7.0,8.0],[0.0,1.0,2.0,2.0,1.0,1.0,0.0,0.0,1.0,1.0,0.0,0.0,1.0,1.0,2.0,2.0,3.0,3.0,2.0,2.0,2.0,3.0,3.0,4.0,5.0,5.0,6.0,6.0,7.0,7.0,6.0,5.0,4.0,4.0,4.0,3.0,3.0,5.0,6.0,7.0,7.0,8.0,8.0],[0.0,1.0,2.0,2.0,1.0,1.0,0.0,0.0,1.0,1.0,0.0,0.0,1.0,1.0,2.0,2.0,3.0,3.0,2.0,2.0,2.0,3.0,3.0,4.0,5.0,5.0,6.0,6.0,7.0,7.0,6.0,5.0,4.0,4.0,4.0,3.0,3.0,5.0,6.0,7.0,7.0,8.0,8.0,8.0],[0.0,1.0,2.0,2.0,1.0,1.0,0.0,0.0,1.0,1.0,0.0,0.0,1.0,1.0,2.0,2.0,3.0,3.0,2.0,2.0,2.0,3.0,3.0,4.0,5.0,5.0,6.0,6.0,7.0,7.0,6.0,5.0,4.0,4.0,4.0,3.0,3.0,5.0,6.0,7.0,7.0,8.0,8.0,8.0,7.0],[0.0,1.0,2.0,2.0,1.0,1.0,0.0,0.0,1.0,1.0,0.0,0.0,1.0,1.0,2.0,2.0,3.0,3.0,2.0,2.0,2.0,3.0,3.0,4.0,5.0,5.0,6.0,6.0,7.0,7.0,6.0,5.0,4.0,4.0,4.0,3.0,3.0,5.0,6.0,7.0,7.0,8.0,8.0,8.0,7.0,7.0],[0.0,1.0,2.0,2.0,1.0,1.0,0.0,0.0,1.0,1.0,0.0,0.0,1.0,1.0,2.0,2.0,3.0,3.0,2.0,2.0,2.0,3.0,3.0,4.0,5.0,5.0,6.0,6.0,7.0,7.0,6.0,5.0,4.0,4.0,4.0,3.0,3.0,5.0,6.0,7.0,7.0,8.0,8.0,8.0,7.0,7.0,8.0],[0.0,1.0,2.0,2.0,1.0,1.0,0.0,0.0,1.0,1.0,0.0,0.0,1.0,1.0,2.0,2.0,3.0,3.0,2.0,2.0,2.0,3.0,3.0,4.0,5.0,5.0,6.0,6.0,7.0,7.0,6.0,5.0,4.0,4.0,4.0,3.0,3.0,5.0,6.0,7.0,7.0,8.0,8.0,8.0,7.0,7.0,8.0,8.0],[0.0,1.0,2.0,2.0,1.0,1.0,0.0,0.0,1.0,1.0,0.0,0.0,1.0,1.0,2.0,2.0,3.0,3.0,2.0,2.0,2.0,3.0,3.0,4.0,5.0,5.0,6.0,6.0,7.0,7.0,6.0,5.0,4.0,4.0,4.0,3.0,3.0,5.0,6.0,7.0,7.0,8.0,8.0,8.0,7.0,7.0,8.0,8.0,7.0],[0.0,1.0,2.0,2.0,1.0,1.0,0.0,0.0,1.0,1.0,0.0,0.0,1.0,1.0,2.0,2.0,3.0,3.0,2.0,2.0,2.0,3.0,3.0,4.0,5.0,5.0,6.0,6.0,7.0,7.0,6.0,5.0,4.0,4.0,4.0,3.0,3.0,5.0,6.0,7.0,7.0,8.0,8.0,8.0,7.0,7.0,8.0,8.0,7.0,7.0],[0.0,1.0,2.0,2.0,1.0,1.0,0.0,0.0,1.0,1.0,0.0,0.0,1.0,1.0,2.0,2.0,3.0,3.0,2.0,2.0,2.0,3.0,3.0,4.0,5.0,5.0,6.0,6.0,7.0,7.0,6.0,5.0,4.0,4.0,4.0,3.0,3.0,5.0,6.0,7.0,7.0,8.0,8.0,8.0,7.0,7.0,8.0,8.0,7.0,7.0,8.0],[0.0,1.0,2.0,2.0,1.0,1.0,0.0,0.0,1.0,1.0,0.0,0.0,1.0,1.0,2.0,2.0,3.0,3.0,2.0,2.0,2.0,3.0,3.0,4.0,5.0,5.0,6.0,6.0,7.0,7.0,6.0,5.0,4.0,4.0,4.0,3.0,3.0,5.0,6.0,7.0,7.0,8.0,8.0,8.0,7.0,7.0,8.0,8.0,7.0,7.0,8.0,8.0],[0.0,1.0,2.0,2.0,1.0,1.0,0.0,0.0,1.0,1.0,0.0,0.0,1.0,1.0,2.0,2.0,3.0,3.0,2.0,2.0,2.0,3.0,3.0,4.0,5.0,5.0,6.0,6.0,7.0,7.0,6.0,5.0,4.0,4.0,4.0,3.0,3.0,5.0,6.0,7.0,7.0,8.0,8.0,8.0,7.0,7.0,8.0,8.0,7.0,7.0,8.0,8.0,7.0],[0.0,1.0,2.0,2.0,1.0,1.0,0.0,0.0,1.0,1.0,0.0,0.0,1.0,1.0,2.0,2.0,3.0,3.0,2.0,2.0,2.0,3.0,3.0,4.0,5.0,5.0,6.0,6.0,7.0,7.0,6.0,5.0,4.0,4.0,4.0,3.0,3.0,5.0,6.0,7.0,7.0,8.0,8.0,8.0,7.0,7.0,8.0,8.0,7.0,7.0,8.0,8.0,7.0,6.0],[0.0,1.0,2.0,2.0,1.0,1.0,0.0,0.0,1.0,1.0,0.0,0.0,1.0,1.0,2.0,2.0,3.0,3.0,2.0,2.0,2.0,3.0,3.0,4.0,5.0,5.0,6.0,6.0,7.0,7.0,6.0,5.0,4.0,4.0,4.0,3.0,3.0,5.0,6.0,7.0,7.0,8.0,8.0,8.0,7.0,7.0,8.0,8.0,7.0,7.0,8.0,8.0,7.0,6.0,6.0],[0.0,1.0,2.0,2.0,1.0,1.0,0.0,0.0,1.0,1.0,0.0,0.0,1.0,1.0,2.0,2.0,3.0,3.0,2.0,2.0,2.0,3.0,3.0,4.0,5.0,5.0,6.0,6.0,7.0,7.0,6.0,5.0,4.0,4.0,4.0,3.0,3.0,5.0,6.0,7.0,7.0,8.0,8.0,8.0,7.0,7.0,8.0,8.0,7.0,7.0,8.0,8.0,7.0,6.0,6.0,6.0],[0.0,1.0,2.0,2.0,1.0,1.0,0.0,0.0,1.0,1.0,0.0,0.0,1.0,1.0,2.0,2.0,3.0,3.0,2.0,2.0,2.0,3.0,3.0,4.0,5.0,5.0,6.0,6.0,7.0,7.0,6.0,5.0,4.0,4.0,4.0,3.0,3.0,5.0,6.0,7.0,7.0,8.0,8.0,8.0,7.0,7.0,8.0,8.0,7.0,7.0,8.0,8.0,7.0,6.0,6.0,6.0,6.0],[0.0,1.0,2.0,2.0,1.0,1.0,0.0,0.0,1.0,1.0,0.0,0.0,1.0,1.0,2.0,2.0,3.0,3.0,2.0,2.0,2.0,3.0,3.0,4.0,5.0,5.0,6.0,6.0,7.0,7.0,6.0,5.0,4.0,4.0,4.0,3.0,3.0,5.0,6.0,7.0,7.0,8.0,8.0,8.0,7.0,7.0,8.0,8.0,7.0,7.0,8.0,8.0,7.0,6.0,6.0,6.0,6.0,6.0],[0.0,1.0,2.0,2.0,1.0,1.0,0.0,0.0,1.0,1.0,0.0,0.0,1.0,1.0,2.0,2.0,3.0,3.0,2.0,2.0,2.0,3.0,3.0,4.0,5.0,5.0,6.0,6.0,7.0,7.0,6.0,5.0,4.0,4.0,4.0,3.0,3.0,5.0,6.0,7.0,7.0,8.0,8.0,8.0,7.0,7.0,8.0,8.0,7.0,7.0,8.0,8.0,7.0,6.0,6.0,6.0,6.0,6.0,5.0],[0.0,1.0,2.0,2.0,1.0,1.0,0.0,0.0,1.0,1.0,0.0,0.0,1.0,1.0,2.0,2.0,3.0,3.0,2.0,2.0,2.0,3.0,3.0,4.0,5.0,5.0,6.0,6.0,7.0,7.0,6.0,5.0,4.0,4.0,4.0,3.0,3.0,5.0,6.0,7.0,7.0,8.0,8.0,8.0,7.0,7.0,8.0,8.0,7.0,7.0,8.0,8.0,7.0,6.0,6.0,6.0,6.0,6.0,5.0,5.0],[0.0,1.0,2.0,2.0,1.0,1.0,0.0,0.0,1.0,1.0,0.0,0.0,1.0,1.0,2.0,2.0,3.0,3.0,2.0,2.0,2.0,3.0,3.0,4.0,5.0,5.0,6.0,6.0,7.0,7.0,6.0,5.0,4.0,4.0,4.0,3.0,3.0,5.0,6.0,7.0,7.0,8.0,8.0,8.0,7.0,7.0,8.0,8.0,7.0,7.0,8.0,8.0,7.0,6.0,6.0,6.0,6.0,6.0,5.0,5.0,4.0],[0.0,1.0,2.0,2.0,1.0,1.0,0.0,0.0,1.0,1.0,0.0,0.0,1.0,1.0,2.0,2.0,3.0,3.0,2.0,2.0,2.0,3.0,3.0,4.0,5.0,5.0,6.0,6.0,7.0,7.0,6.0,5.0,4.0,4.0,4.0,3.0,3.0,5.0,6.0,7.0,7.0,8.0,8.0,8.0,7.0,7.0,8.0,8.0,7.0,7.0,8.0,8.0,7.0,6.0,6.0,6.0,6.0,6.0,5.0,5.0,4.0,4.0],[0.0,1.0,2.0,2.0,1.0,1.0,0.0,0.0,1.0,1.0,0.0,0.0,1.0,1.0,2.0,2.0,3.0,3.0,2.0,2.0,2.0,3.0,3.0,4.0,5.0,5.0,6.0,6.0,7.0,7.0,6.0,5.0,4.0,4.0,4.0,3.0,3.0,5.0,6.0,7.0,7.0,8.0,8.0,8.0,7.0,7.0,8.0,8.0,7.0,7.0,8.0,8.0,7.0,6.0,6.0,6.0,6.0,6.0,5.0,5.0,4.0,4.0,5.0],[0.0,1.0,2.0,2.0,1.0,1.0,0.0,0.0,1.0,1.0,0.0,0.0,1.0,1.0,2.0,2.0,3.0,3.0,2.0,2.0,2.0,3.0,3.0,4.0,5.0,5.0,6.0,6.0,7.0,7.0,6.0,5.0,4.0,4.0,4.0,3.0,3.0,5.0,6.0,7.0,7.0,8.0,8.0,8.0,7.0,7.0,8.0,8.0,7.0,7.0,8.0,8.0,7.0,6.0,6.0,6.0,6.0,6.0,5.0,5.0,4.0,4.0,5.0,5.0],[0.0,1.0,2.0,2.0,1.0,1.0,0.0,0.0,1.0,1.0,0.0,0.0,1.0,1.0,2.0,2.0,3.0,3.0,2.0,2.0,2.0,3.0,3.0,4.0,5.0,5.0,6.0,6.0,7.0,7.0,6.0,5.0,4.0,4.0,4.0,3.0,3.0,5.0,6.0,7.0,7.0,8.0,8.0,8.0,7.0,7.0,8.0,8.0,7.0,7.0,8.0,8.0,7.0,6.0,6.0,6.0,6.0,6.0,5.0,5.0,4.0,4.0,5.0,5.0,5.0],[0.0,1.0,2.0,2.0,1.0,1.0,0.0,0.0,1.0,1.0,0.0,0.0,1.0,1.0,2.0,2.0,3.0,3.0,2.0,2.0,2.0,3.0,3.0,4.0,5.0,5.0,6.0,6.0,7.0,7.0,6.0,5.0,4.0,4.0,4.0,3.0,3.0,5.0,6.0,7.0,7.0,8.0,8.0,8.0,7.0,7.0,8.0,8.0,7.0,7.0,8.0,8.0,7.0,6.0,6.0,6.0,6.0,6.0,5.0,5.0,4.0,4.0,5.0,5.0,5.0,4.0],[0.0,1.0,2.0,2.0,1.0,1.0,0.0,0.0,1.0,1.0,0.0,0.0,1.0,1.0,2.0,2.0,3.0,3.0,2.0,2.0,2.0,3.0,3.0,4.0,5.0,5.0,6.0,6.0,7.0,7.0,6.0,5.0,4.0,4.0,4.0,3.0,3.0,5.0,6.0,7.0,7.0,8.0,8.0,8.0,7.0,7.0,8.0,8.0,7.0,7.0,8.0,8.0,7.0,6.0,6.0,6.0,6.0,6.0,5.0,5.0,4.0,4.0,5.0,5.0,5.0,4.0,4.0],[0.0,1.0,2.0,2.0,1.0,1.0,0.0,0.0,1.0,1.0,0.0,0.0,1.0,1.0,2.0,2.0,3.0,3.0,2.0,2.0,2.0,3.0,3.0,4.0,5.0,5.0,6.0,6.0,7.0,7.0,6.0,5.0,4.0,4.0,4.0,3.0,3.0,5.0,6.0,7.0,7.0,8.0,8.0,8.0,7.0,7.0,8.0,8.0,7.0,7.0,8.0,8.0,7.0,6.0,6.0,6.0,6.0,6.0,5.0,5.0,4.0,4.0,5.0,5.0,5.0,4.0,4.0,3.0],[0.0,1.0,2.0,2.0,1.0,1.0,0.0,0.0,1.0,1.0,0.0,0.0,1.0,1.0,2.0,2.0,3.0,3.0,2.0,2.0,2.0,3.0,3.0,4.0,5.0,5.0,6.0,6.0,7.0,7.0,6.0,5.0,4.0,4.0,4.0,3.0,3.0,5.0,6.0,7.0,7.0,8.0,8.0,8.0,7.0,7.0,8.0,8.0,7.0,7.0,8.0,8.0,7.0,6.0,6.0,6.0,6.0,6.0,5.0,5.0,4.0,4.0,5.0,5.0,5.0,4.0,4.0,3.0,3.0],[0.0,1.0,2.0,2.0,1.0,1.0,0.0,0.0,1.0,1.0,0.0,0.0,1.0,1.0,2.0,2.0,3.0,3.0,2.0,2.0,2.0,3.0,3.0,4.0,5.0,5.0,6.0,6.0,7.0,7.0,6.0,5.0,4.0,4.0,4.0,3.0,3.0,5.0,6.0,7.0,7.0,8.0,8.0,8.0,7.0,7.0,8.0,8.0,7.0,7.0,8.0,8.0,7.0,6.0,6.0,6.0,6.0,6.0,5.0,5.0,4.0,4.0,5.0,5.0,5.0,4.0,4.0,3.0,3.0,2.0],[0.0,1.0,2.0,2.0,1.0,1.0,0.0,0.0,1.0,1.0,0.0,0.0,1.0,1.0,2.0,2.0,3.0,3.0,2.0,2.0,2.0,3.0,3.0,4.0,5.0,5.0,6.0,6.0,7.0,7.0,6.0,5.0,4.0,4.0,4.0,3.0,3.0,5.0,6.0,7.0,7.0,8.0,8.0,8.0,7.0,7.0,8.0,8.0,7.0,7.0,8.0,8.0,7.0,6.0,6.0,6.0,6.0,6.0,5.0,5.0,4.0,4.0,5.0,5.0,5.0,4.0,4.0,3.0,3.0,2.0,1.0],[0.0,1.0,2.0,2.0,1.0,1.0,0.0,0.0,1.0,1.0,0.0,0.0,1.0,1.0,2.0,2.0,3.0,3.0,2.0,2.0,2.0,3.0,3.0,4.0,5.0,5.0,6.0,6.0,7.0,7.0,6.0,5.0,4.0,4.0,4.0,3.0,3.0,5.0,6.0,7.0,7.0,8.0,8.0,8.0,7.0,7.0,8.0,8.0,7.0,7.0,8.0,8.0,7.0,6.0,6.0,6.0,6.0,6.0,5.0,5.0,4.0,4.0,5.0,5.0,5.0,4.0,4.0,3.0,3.0,2.0,1.0,1.0],[0.0,1.0,2.0,2.0,1.0,1.0,0.0,0.0,1.0,1.0,0.0,0.0,1.0,1.0,2.0,2.0,3.0,3.0,2.0,2.0,2.0,3.0,3.0,4.0,5.0,5.0,6.0,6.0,7.0,7.0,6.0,5.0,4.0,4.0,4.0,3.0,3.0,5.0,6.0,7.0,7.0,8.0,8.0,8.0,7.0,7.0,8.0,8.0,7.0,7.0,8.0,8.0,7.0,6.0,6.0,6.0,6.0,6.0,5.0,5.0,4.0,4.0,5.0,5.0,5.0,4.0,4.0,3.0,3.0,2.0,1.0,1.0,0.0],[0.0,1.0,2.0,2.0,1.0,1.0,0.0,0.0,1.0,1.0,0.0,0.0,1.0,1.0,2.0,2.0,3.0,3.0,2.0,2.0,2.0,3.0,3.0,4.0,5.0,5.0,6.0,6.0,7.0,7.0,6.0,5.0,4.0,4.0,4.0,3.0,3.0,5.0,6.0,7.0,7.0,8.0,8.0,8.0,7.0,7.0,8.0,8.0,7.0,7.0,8.0,8.0,7.0,6.0,6.0,6.0,6.0,6.0,5.0,5.0,4.0,4.0,5.0,5.0,5.0,4.0,4.0,3.0,3.0,2.0,1.0,1.0,0.0,0.0],[0.0,1.0,2.0,2.0,1.0,1.0,0.0,0.0,1.0,1.0,0.0,0.0,1.0,1.0,2.0,2.0,3.0,3.0,2.0,2.0,2.0,3.0,3.0,4.0,5.0,5.0,6.0,6.0,7.0,7.0,6.0,5.0,4.0,4.0,4.0,3.0,3.0,5.0,6.0,7.0,7.0,8.0,8.0,8.0,7.0,7.0,8.0,8.0,7.0,7.0,8.0,8.0,7.0,6.0,6.0,6.0,6.0,6.0,5.0,5.0,4.0,4.0,5.0,5.0,5.0,4.0,4.0,3.0,3.0,2.0,1.0,1.0,0.0,0.0,0.0],[0.0,1.0,2.0,2.0,1.0,1.0,0.0,0.0,1.0,1.0,0.0,0.0,1.0,1.0,2.0,2.0,3.0,3.0,2.0,2.0,2.0,3.0,3.0,4.0,5.0,5.0,6.0,6.0,7.0,7.0,6.0,5.0,4.0,4.0,4.0,3.0,3.0,5.0,6.0,7.0,7.0,8.0,8.0,8.0,7.0,7.0,8.0,8.0,7.0,7.0,8.0,8.0,7.0,6.0,6.0,6.0,6.0,6.0,5.0,5.0,4.0,4.0,5.0,5.0,5.0,4.0,4.0,3.0,3.0,2.0,1.0,1.0,0.0,0.0,0.0,2.0],[0.0,1.0,2.0,2.0,1.0,1.0,0.0,0.0,1.0,1.0,0.0,0.0,1.0,1.0,2.0,2.0,3.0,3.0,2.0,2.0,2.0,3.0,3.0,4.0,5.0,5.0,6.0,6.0,7.0,7.0,6.0,5.0,4.0,4.0,4.0,3.0,3.0,5.0,6.0,7.0,7.0,8.0,8.0,8.0,7.0,7.0,8.0,8.0,7.0,7.0,8.0,8.0,7.0,6.0,6.0,6.0,6.0,6.0,5.0,5.0,4.0,4.0,5.0,5.0,5.0,4.0,4.0,3.0,3.0,2.0,1.0,1.0,0.0,0.0,0.0,2.0,3.0],[0.0,1.0,2.0,2.0,1.0,1.0,0.0,0.0,1.0,1.0,0.0,0.0,1.0,1.0,2.0,2.0,3.0,3.0,2.0,2.0,2.0,3.0,3.0,4.0,5.0,5.0,6.0,6.0,7.0,7.0,6.0,5.0,4.0,4.0,4.0,3.0,3.0,5.0,6.0,7.0,7.0,8.0,8.0,8.0,7.0,7.0,8.0,8.0,7.0,7.0,8.0,8.0,7.0,6.0,6.0,6.0,6.0,6.0,5.0,5.0,4.0,4.0,5.0,5.0,5.0,4.0,4.0,3.0,3.0,2.0,1.0,1.0,0.0,0.0,0.0,2.0,3.0,4.0],[0.0,1.0,2.0,2.0,1.0,1.0,0.0,0.0,1.0,1.0,0.0,0.0,1.0,1.0,2.0,2.0,3.0,3.0,2.0,2.0,2.0,3.0,3.0,4.0,5.0,5.0,6.0,6.0,7.0,7.0,6.0,5.0,4.0,4.0,4.0,3.0,3.0,5.0,6.0,7.0,7.0,8.0,8.0,8.0,7.0,7.0,8.0,8.0,7.0,7.0,8.0,8.0,7.0,6.0,6.0,6.0,6.0,6.0,5.0,5.0,4.0,4.0,5.0,5.0,5.0,4.0,4.0,3.0,3.0,2.0,1.0,1.0,0.0,0.0,0.0,2.0,3.0,4.0,0.0],[0.0,1.0,2.0,2.0,1.0,1.0,0.0,0.0,1.0,1.0,0.0,0.0,1.0,1.0,2.0,2.0,3.0,3.0,2.0,2.0,2.0,3.0,3.0,4.0,5.0,5.0,6.0,6.0,7.0,7.0,6.0,5.0,4.0,4.0,4.0,3.0,3.0,5.0,6.0,7.0,7.0,8.0,8.0,8.0,7.0,7.0,8.0,8.0,7.0,7.0,8.0,8.0,7.0,6.0,6.0,6.0,6.0,6.0,5.0,5.0,4.0,4.0,5.0,5.0,5.0,4.0,4.0,3.0,3.0,2.0,1.0,1.0,0.0,0.0,0.0,2.0,3.0,4.0,0.0,8.0],[0.0,1.0,2.0,2.0,1.0,1.0,0.0,0.0,1.0,1.0,0.0,0.0,1.0,1.0,2.0,2.0,3.0,3.0,2.0,2.0,2.0,3.0,3.0,4.0,5.0,5.0,6.0,6.0,7.0,7.0,6.0,5.0,4.0,4.0,4.0,3.0,3.0,5.0,6.0,7.0,7.0,8.0,8.0,8.0,7.0,7.0,8.0,8.0,7.0,7.0,8.0,8.0,7.0,6.0,6.0,6.0,6.0,6.0,5.0,5.0,4.0,4.0,5.0,5.0,5.0,4.0,4.0,3.0,3.0,2.0,1.0,1.0,0.0,0.0,0.0,2.0,3.0,4.0,0.0,8.0,8.0],[0.0,1.0,2.0,2.0,1.0,1.0,0.0,0.0,1.0,1.0,0.0,0.0,1.0,1.0,2.0,2.0,3.0,3.0,2.0,2.0,2.0,3.0,3.0,4.0,5.0,5.0,6.0,6.0,7.0,7.0,6.0,5.0,4.0,4.0,4.0,3.0,3.0,5.0,6.0,7.0,7.0,8.0,8.0,8.0,7.0,7.0,8.0,8.0,7.0,7.0,8.0,8.0,7.0,6.0,6.0,6.0,6.0,6.0,5.0,5.0,4.0,4.0,5.0,5.0,5.0,4.0,4.0,3.0,3.0,2.0,1.0,1.0,0.0,0.0,0.0,2.0,3.0,4.0,0.0,8.0,8.0,0.0]]},\"selected\":{\"id\":\"2140\"},\"selection_policy\":{\"id\":\"2139\"}},\"id\":\"2108\",\"type\":\"ColumnDataSource\"},{\"attributes\":{\"background_fill_color\":null,\"below\":[{\"id\":\"2082\"}],\"border_fill_color\":null,\"center\":[{\"id\":\"2085\"},{\"id\":\"2089\"}],\"left\":[{\"id\":\"2086\"}],\"outline_line_color\":null,\"plot_height\":400,\"plot_width\":400,\"renderers\":[{\"id\":\"2113\"},{\"id\":\"2118\"}],\"title\":{\"id\":\"2072\"},\"toolbar\":{\"id\":\"2097\"},\"toolbar_location\":null,\"x_range\":{\"id\":\"2074\"},\"x_scale\":{\"id\":\"2078\"},\"y_range\":{\"id\":\"2076\"},\"y_scale\":{\"id\":\"2080\"}},\"id\":\"2071\",\"subtype\":\"Figure\",\"type\":\"Plot\"},{\"attributes\":{\"text\":\"\"},\"id\":\"2072\",\"type\":\"Title\"},{\"attributes\":{},\"id\":\"2127\",\"type\":\"BasicTickFormatter\"},{\"attributes\":{},\"id\":\"2080\",\"type\":\"LinearScale\"},{\"attributes\":{\"data\":{\"edges_x\":[0.0],\"edges_y\":[0.0]},\"selected\":{\"id\":\"2132\"},\"selection_policy\":{\"id\":\"2131\"}},\"id\":\"2109\",\"type\":\"ColumnDataSource\"},{\"attributes\":{\"line_alpha\":0.1,\"line_width\":4,\"x\":{\"field\":\"edges_x\"},\"y\":{\"field\":\"edges_y\"}},\"id\":\"2112\",\"type\":\"Line\"},{\"attributes\":{},\"id\":\"2078\",\"type\":\"LinearScale\"},{\"attributes\":{},\"id\":\"2129\",\"type\":\"BasicTickFormatter\"},{\"attributes\":{},\"id\":\"2139\",\"type\":\"UnionRenderers\"},{\"attributes\":{},\"id\":\"2131\",\"type\":\"UnionRenderers\"},{\"attributes\":{\"end\":8.68,\"start\":-0.68},\"id\":\"2074\",\"type\":\"Range1d\"},{\"attributes\":{\"end\":8.68,\"start\":-0.68},\"id\":\"2076\",\"type\":\"Range1d\"},{\"attributes\":{\"formatter\":{\"id\":\"2127\"},\"ticker\":{\"id\":\"2083\"},\"visible\":false},\"id\":\"2082\",\"type\":\"LinearAxis\"}],\"root_ids\":[\"2141\"]},\"title\":\"Bokeh Application\",\"version\":\"2.1.0\"}};\n",
       "  var render_items = [{\"docid\":\"351bfa6a-157a-4540-8af6-94dc3a183d03\",\"root_ids\":[\"2141\"],\"roots\":{\"2141\":\"81905e51-c59a-47cd-a1e9-c26481fdcf2e\"}}];\n",
       "  root.Bokeh.embed.embed_items_notebook(docs_json, render_items);\n",
       "\n",
       "  }\n",
       "  if (root.Bokeh !== undefined) {\n",
       "    embed_document(root);\n",
       "  } else {\n",
       "    var attempts = 0;\n",
       "    var timer = setInterval(function(root) {\n",
       "      if (root.Bokeh !== undefined) {\n",
       "        clearInterval(timer);\n",
       "        embed_document(root);\n",
       "      } else {\n",
       "        attempts++;\n",
       "        if (attempts > 100) {\n",
       "          clearInterval(timer);\n",
       "          console.log(\"Bokeh: ERROR: Unable to run BokehJS code because BokehJS library is missing\");\n",
       "        }\n",
       "      }\n",
       "    }, 10, root)\n",
       "  }\n",
       "})(window);"
      ],
      "application/vnd.bokehjs_exec.v0+json": ""
     },
     "metadata": {
      "application/vnd.bokehjs_exec.v0+json": {
       "id": "2141"
      }
     },
     "output_type": "display_data"
    }
   ],
   "source": [
    "tour = plot_tsp_heuristic(nodes, G, heuristic='nearest_neighbor', initial=0)"
   ]
  },
  {
   "cell_type": "code",
   "execution_count": 17,
   "metadata": {},
   "outputs": [
    {
     "data": {
      "text/html": [
       "\n",
       "\n",
       "\n",
       "\n",
       "\n",
       "\n",
       "  <div class=\"bk-root\" id=\"b103cf21-4d93-4e10-a78a-0e723b1667e3\" data-root-id=\"2364\"></div>\n"
      ]
     },
     "metadata": {},
     "output_type": "display_data"
    },
    {
     "data": {
      "application/javascript": [
       "(function(root) {\n",
       "  function embed_document(root) {\n",
       "    \n",
       "  var docs_json = {\"9c7cbc7e-d250-4060-a4d8-f718d50cb18b\":{\"roots\":{\"references\":[{\"attributes\":{\"children\":[[{\"id\":\"2294\"},0,0],[{\"id\":\"2347\"},1,0],[{\"id\":\"2348\"},2,0]]},\"id\":\"2364\",\"type\":\"GridBox\"},{\"attributes\":{\"text\":\"\"},\"id\":\"2295\",\"type\":\"Title\"},{\"attributes\":{},\"id\":\"2356\",\"type\":\"UnionRenderers\"},{\"attributes\":{\"data\":{\"costs\":[2.0,3.414213562373095,4.82842712474619,5.414213562373095,6.82842712474619,8.242640687119284,10.06449510224598,11.990704784914572,13.951532750363853,14.242640687119287,15.404918347287666,16.84819196258328,17.478708664619077,18.892922226992173,20.307135789365265,20.892922226992173,21.478708664619077,22.892922226992173,24.128990204491963,24.714776642118867,26.128990204491963,27.54320376686506,29.13556291411146,30.549776476484556,31.13556291411146,32.54977647648455,33.96399003885765,34.54977647648455,34.957417329238154,36.37163089161125,37.785844453984346,39.20005801635744,40.61427157873054,42.43612599385723,42.61427157873054,44.02848514110363,44.61427157873052,44.79241716360383,46.20663072597692,47.620844288350014,49.035057850723106,49.620844288350014,51.44269870347671,51.620844288350014,53.44269870347671,54.028485141103616,55.85033955623031,57.2645531186034,59.19076280127199,61.01261721639868,61.19076280127199,62.60497636364508,62.783121948518385,62.8569122658498,63.44269870347671,64.8569122658498,66.27112582822289,66.8569122658498,67.0350578507231,68.4492714130962,69.0350578507231,70.4492714130962,71.86348497546929,73.27769853784238,73.86348497546929,75.27769853784238,75.86348497546929,76.4492714130962,77.86348497546929,79.27769853784238,80.69191210021548,81.27769853784238,81.86348497546929,82.4492714130962,83.86348497546929,84.4492714130962,85.0350578507231,85.62084428835001,87.0350578507231,87.62084428835001,87.62084428835001],\"edges_x\":[[0.0,0.0,0.0],[0.0,1.0,0.0,0.0],[0.0,1.0,1.0,0.0,0.0],[0.0,1.0,1.0,1.0,0.0,0.0],[0.0,1.0,2.0,1.0,1.0,0.0,0.0],[0.0,1.0,2.0,1.0,2.0,1.0,0.0,0.0],[0.0,1.0,2.0,3.0,1.0,2.0,1.0,0.0,0.0],[0.0,1.0,2.0,3.0,4.0,1.0,2.0,1.0,0.0,0.0],[0.0,1.0,2.0,3.0,4.0,5.0,1.0,2.0,1.0,0.0,0.0],[0.0,1.0,2.0,3.0,4.0,5.0,4.0,1.0,2.0,1.0,0.0,0.0],[0.0,1.0,2.0,3.0,4.0,5.0,4.0,4.0,1.0,2.0,1.0,0.0,0.0],[0.0,1.0,2.0,3.0,4.0,5.0,4.0,4.0,4.0,1.0,2.0,1.0,0.0,0.0],[0.0,1.0,2.0,3.0,4.0,5.0,4.0,4.0,4.0,2.0,1.0,2.0,1.0,0.0,0.0],[0.0,1.0,2.0,3.0,3.0,4.0,5.0,4.0,4.0,4.0,2.0,1.0,2.0,1.0,0.0,0.0],[0.0,1.0,2.0,3.0,3.0,4.0,5.0,4.0,5.0,4.0,4.0,2.0,1.0,2.0,1.0,0.0,0.0],[0.0,1.0,2.0,2.0,3.0,3.0,4.0,5.0,4.0,5.0,4.0,4.0,2.0,1.0,2.0,1.0,0.0,0.0],[0.0,1.0,2.0,2.0,3.0,3.0,4.0,5.0,4.0,5.0,4.0,4.0,2.0,1.0,2.0,1.0,0.0,0.0,0.0],[0.0,1.0,2.0,2.0,3.0,3.0,4.0,5.0,4.0,5.0,5.0,4.0,4.0,2.0,1.0,2.0,1.0,0.0,0.0,0.0],[0.0,1.0,2.0,2.0,3.0,3.0,4.0,5.0,4.0,5.0,5.0,4.0,4.0,4.0,2.0,1.0,2.0,1.0,0.0,0.0,0.0],[0.0,1.0,2.0,2.0,3.0,3.0,4.0,5.0,5.0,4.0,5.0,5.0,4.0,4.0,4.0,2.0,1.0,2.0,1.0,0.0,0.0,0.0],[0.0,1.0,2.0,2.0,3.0,3.0,4.0,5.0,5.0,4.0,5.0,6.0,5.0,4.0,4.0,4.0,2.0,1.0,2.0,1.0,0.0,0.0,0.0],[0.0,1.0,2.0,2.0,3.0,3.0,4.0,5.0,5.0,4.0,5.0,6.0,6.0,5.0,4.0,4.0,4.0,2.0,1.0,2.0,1.0,0.0,0.0,0.0],[0.0,1.0,2.0,2.0,3.0,3.0,4.0,5.0,5.0,4.0,5.0,6.0,6.0,5.0,4.0,4.0,4.0,4.0,2.0,1.0,2.0,1.0,0.0,0.0,0.0],[0.0,1.0,2.0,2.0,3.0,3.0,4.0,5.0,6.0,5.0,4.0,5.0,6.0,6.0,5.0,4.0,4.0,4.0,4.0,2.0,1.0,2.0,1.0,0.0,0.0,0.0],[0.0,1.0,2.0,2.0,3.0,3.0,4.0,5.0,6.0,5.0,4.0,5.0,6.0,6.0,6.0,5.0,4.0,4.0,4.0,4.0,2.0,1.0,2.0,1.0,0.0,0.0,0.0],[0.0,1.0,2.0,2.0,3.0,3.0,4.0,5.0,6.0,5.0,4.0,5.0,6.0,6.0,6.0,5.0,4.0,4.0,4.0,4.0,2.0,1.0,2.0,1.0,0.0,0.0,0.0,0.0],[0.0,1.0,2.0,2.0,3.0,3.0,4.0,5.0,6.0,5.0,4.0,5.0,6.0,6.0,7.0,6.0,5.0,4.0,4.0,4.0,4.0,2.0,1.0,2.0,1.0,0.0,0.0,0.0,0.0],[0.0,1.0,2.0,2.0,3.0,3.0,4.0,5.0,6.0,5.0,4.0,5.0,6.0,6.0,7.0,6.0,5.0,4.0,4.0,4.0,4.0,2.0,1.0,2.0,1.0,1.0,0.0,0.0,0.0,0.0],[0.0,1.0,2.0,2.0,3.0,3.0,4.0,5.0,6.0,5.0,4.0,5.0,6.0,6.0,7.0,6.0,5.0,4.0,4.0,4.0,4.0,3.0,2.0,1.0,2.0,1.0,1.0,0.0,0.0,0.0,0.0],[0.0,1.0,2.0,2.0,3.0,3.0,4.0,5.0,6.0,5.0,4.0,5.0,6.0,7.0,6.0,7.0,6.0,5.0,4.0,4.0,4.0,4.0,3.0,2.0,1.0,2.0,1.0,1.0,0.0,0.0,0.0,0.0],[0.0,1.0,2.0,2.0,3.0,3.0,4.0,5.0,6.0,5.0,4.0,5.0,6.0,7.0,6.0,7.0,6.0,5.0,4.0,4.0,4.0,4.0,2.0,3.0,2.0,1.0,2.0,1.0,1.0,0.0,0.0,0.0,0.0],[0.0,1.0,2.0,2.0,3.0,3.0,4.0,5.0,6.0,5.0,4.0,5.0,6.0,7.0,7.0,6.0,7.0,6.0,5.0,4.0,4.0,4.0,4.0,2.0,3.0,2.0,1.0,2.0,1.0,1.0,0.0,0.0,0.0,0.0],[0.0,1.0,2.0,2.0,3.0,3.0,4.0,5.0,6.0,5.0,4.0,5.0,6.0,7.0,8.0,7.0,6.0,7.0,6.0,5.0,4.0,4.0,4.0,4.0,2.0,3.0,2.0,1.0,2.0,1.0,1.0,0.0,0.0,0.0,0.0],[0.0,1.0,2.0,2.0,3.0,3.0,4.0,5.0,6.0,7.0,5.0,4.0,5.0,6.0,7.0,8.0,7.0,6.0,7.0,6.0,5.0,4.0,4.0,4.0,4.0,2.0,3.0,2.0,1.0,2.0,1.0,1.0,0.0,0.0,0.0,0.0],[0.0,1.0,2.0,2.0,3.0,3.0,4.0,5.0,6.0,7.0,5.0,4.0,5.0,6.0,7.0,8.0,7.0,6.0,7.0,6.0,5.0,4.0,4.0,4.0,4.0,3.0,2.0,3.0,2.0,1.0,2.0,1.0,1.0,0.0,0.0,0.0,0.0],[0.0,1.0,2.0,2.0,3.0,3.0,4.0,5.0,6.0,7.0,5.0,4.0,5.0,6.0,7.0,8.0,7.0,6.0,7.0,6.0,5.0,4.0,4.0,4.0,4.0,4.0,3.0,2.0,3.0,2.0,1.0,2.0,1.0,1.0,0.0,0.0,0.0,0.0],[0.0,1.0,2.0,2.0,3.0,3.0,4.0,5.0,6.0,7.0,5.0,4.0,5.0,6.0,7.0,8.0,8.0,7.0,6.0,7.0,6.0,5.0,4.0,4.0,4.0,4.0,4.0,3.0,2.0,3.0,2.0,1.0,2.0,1.0,1.0,0.0,0.0,0.0,0.0],[0.0,1.0,2.0,2.0,3.0,3.0,4.0,5.0,6.0,7.0,6.0,5.0,4.0,5.0,6.0,7.0,8.0,8.0,7.0,6.0,7.0,6.0,5.0,4.0,4.0,4.0,4.0,4.0,3.0,2.0,3.0,2.0,1.0,2.0,1.0,1.0,0.0,0.0,0.0,0.0],[0.0,1.0,2.0,2.0,3.0,3.0,4.0,5.0,6.0,7.0,6.0,5.0,4.0,5.0,6.0,7.0,8.0,8.0,7.0,6.0,7.0,6.0,5.0,4.0,4.0,4.0,4.0,4.0,3.0,2.0,3.0,2.0,1.0,2.0,1.0,1.0,1.0,0.0,0.0,0.0,0.0],[0.0,1.0,2.0,2.0,3.0,3.0,4.0,5.0,6.0,7.0,6.0,5.0,4.0,5.0,6.0,7.0,8.0,8.0,8.0,7.0,6.0,7.0,6.0,5.0,4.0,4.0,4.0,4.0,4.0,3.0,2.0,3.0,2.0,1.0,2.0,1.0,1.0,1.0,0.0,0.0,0.0,0.0],[0.0,1.0,2.0,2.0,3.0,3.0,4.0,5.0,6.0,7.0,6.0,5.0,4.0,5.0,6.0,7.0,8.0,8.0,8.0,7.0,6.0,7.0,7.0,6.0,5.0,4.0,4.0,4.0,4.0,4.0,3.0,2.0,3.0,2.0,1.0,2.0,1.0,1.0,1.0,0.0,0.0,0.0,0.0],[0.0,1.0,2.0,2.0,3.0,3.0,4.0,5.0,6.0,7.0,6.0,5.0,4.0,5.0,6.0,7.0,8.0,8.0,8.0,7.0,7.0,6.0,7.0,7.0,6.0,5.0,4.0,4.0,4.0,4.0,4.0,3.0,2.0,3.0,2.0,1.0,2.0,1.0,1.0,1.0,0.0,0.0,0.0,0.0],[0.0,1.0,2.0,2.0,3.0,3.0,4.0,5.0,6.0,7.0,6.0,5.0,4.0,5.0,6.0,7.0,8.0,8.0,8.0,7.0,7.0,6.0,7.0,7.0,6.0,5.0,4.0,4.0,4.0,4.0,4.0,4.0,3.0,2.0,3.0,2.0,1.0,2.0,1.0,1.0,1.0,0.0,0.0,0.0,0.0],[0.0,1.0,2.0,2.0,3.0,3.0,4.0,5.0,6.0,7.0,6.0,5.0,4.0,5.0,6.0,7.0,8.0,8.0,8.0,7.0,7.0,6.0,7.0,7.0,6.0,5.0,4.0,4.0,4.0,4.0,4.0,4.0,3.0,3.0,2.0,3.0,2.0,1.0,2.0,1.0,1.0,1.0,0.0,0.0,0.0,0.0],[0.0,1.0,2.0,2.0,3.0,3.0,4.0,5.0,6.0,7.0,6.0,5.0,4.0,5.0,6.0,7.0,8.0,8.0,8.0,7.0,7.0,6.0,7.0,7.0,7.0,6.0,5.0,4.0,4.0,4.0,4.0,4.0,4.0,3.0,3.0,2.0,3.0,2.0,1.0,2.0,1.0,1.0,1.0,0.0,0.0,0.0,0.0],[0.0,1.0,2.0,2.0,3.0,3.0,4.0,5.0,6.0,7.0,6.0,5.0,4.0,5.0,6.0,7.0,8.0,8.0,8.0,7.0,7.0,6.0,7.0,7.0,7.0,6.0,5.0,5.0,4.0,4.0,4.0,4.0,4.0,4.0,3.0,3.0,2.0,3.0,2.0,1.0,2.0,1.0,1.0,1.0,0.0,0.0,0.0,0.0],[0.0,1.0,2.0,2.0,3.0,3.0,4.0,5.0,6.0,7.0,6.0,5.0,4.0,5.0,6.0,7.0,8.0,8.0,8.0,7.0,7.0,6.0,7.0,7.0,7.0,6.0,5.0,5.0,4.0,4.0,4.0,4.0,4.0,4.0,3.0,3.0,2.0,3.0,2.0,1.0,2.0,1.0,1.0,1.0,1.0,0.0,0.0,0.0,0.0],[0.0,1.0,2.0,2.0,3.0,3.0,4.0,5.0,6.0,7.0,6.0,5.0,4.0,5.0,6.0,7.0,8.0,8.0,8.0,7.0,7.0,6.0,7.0,7.0,7.0,6.0,5.0,5.0,4.0,4.0,4.0,4.0,5.0,4.0,4.0,3.0,3.0,2.0,3.0,2.0,1.0,2.0,1.0,1.0,1.0,1.0,0.0,0.0,0.0,0.0],[0.0,1.0,2.0,2.0,3.0,3.0,4.0,5.0,6.0,7.0,6.0,5.0,4.0,5.0,6.0,7.0,8.0,8.0,8.0,7.0,7.0,6.0,7.0,7.0,7.0,7.0,6.0,5.0,5.0,4.0,4.0,4.0,4.0,5.0,4.0,4.0,3.0,3.0,2.0,3.0,2.0,1.0,2.0,1.0,1.0,1.0,1.0,0.0,0.0,0.0,0.0],[0.0,1.0,2.0,2.0,3.0,3.0,4.0,5.0,6.0,7.0,6.0,5.0,4.0,5.0,6.0,7.0,8.0,8.0,8.0,7.0,7.0,6.0,7.0,7.0,7.0,7.0,6.0,5.0,5.0,4.0,4.0,4.0,4.0,5.0,4.0,4.0,4.0,3.0,3.0,2.0,3.0,2.0,1.0,2.0,1.0,1.0,1.0,1.0,0.0,0.0,0.0,0.0],[0.0,1.0,2.0,2.0,3.0,3.0,4.0,5.0,6.0,7.0,6.0,5.0,4.0,5.0,6.0,7.0,8.0,8.0,8.0,7.0,7.0,6.0,7.0,7.0,7.0,7.0,6.0,5.0,5.0,4.0,4.0,4.0,4.0,5.0,4.0,4.0,4.0,3.0,3.0,2.0,3.0,2.0,1.0,2.0,1.0,1.0,1.0,1.0,0.0,0.0,0.0,0.0,0.0],[0.0,1.0,2.0,2.0,3.0,3.0,4.0,5.0,6.0,7.0,6.0,5.0,4.0,5.0,6.0,7.0,8.0,8.0,8.0,7.0,7.0,6.0,7.0,7.0,7.0,7.0,6.0,5.0,5.0,4.0,4.0,4.0,4.0,5.0,4.0,4.0,4.0,3.0,2.0,3.0,2.0,3.0,2.0,1.0,2.0,1.0,1.0,1.0,1.0,0.0,0.0,0.0,0.0,0.0],[0.0,1.0,2.0,2.0,3.0,3.0,4.0,5.0,6.0,7.0,6.0,5.0,4.0,5.0,6.0,7.0,8.0,8.0,8.0,7.0,7.0,6.0,7.0,7.0,7.0,7.0,6.0,5.0,5.0,4.0,4.0,4.0,4.0,5.0,4.0,4.0,4.0,3.0,3.0,2.0,3.0,2.0,3.0,2.0,1.0,2.0,1.0,1.0,1.0,1.0,0.0,0.0,0.0,0.0,0.0],[0.0,1.0,2.0,2.0,3.0,3.0,4.0,5.0,6.0,7.0,6.0,5.0,4.0,5.0,6.0,7.0,8.0,8.0,8.0,7.0,7.0,6.0,7.0,7.0,7.0,7.0,6.0,6.0,5.0,5.0,4.0,4.0,4.0,4.0,5.0,4.0,4.0,4.0,3.0,3.0,2.0,3.0,2.0,3.0,2.0,1.0,2.0,1.0,1.0,1.0,1.0,0.0,0.0,0.0,0.0,0.0],[0.0,1.0,2.0,2.0,3.0,3.0,4.0,5.0,6.0,7.0,6.0,5.0,4.0,5.0,6.0,7.0,8.0,8.0,8.0,7.0,7.0,6.0,7.0,7.0,7.0,7.0,6.0,6.0,5.0,5.0,4.0,4.0,4.0,4.0,5.0,4.0,4.0,4.0,3.0,3.0,2.0,3.0,3.0,2.0,3.0,2.0,1.0,2.0,1.0,1.0,1.0,1.0,0.0,0.0,0.0,0.0,0.0],[0.0,1.0,2.0,2.0,3.0,3.0,4.0,5.0,6.0,7.0,6.0,5.0,4.0,5.0,6.0,7.0,8.0,8.0,8.0,7.0,7.0,6.0,7.0,7.0,7.0,8.0,7.0,6.0,6.0,5.0,5.0,4.0,4.0,4.0,4.0,5.0,4.0,4.0,4.0,3.0,3.0,2.0,3.0,3.0,2.0,3.0,2.0,1.0,2.0,1.0,1.0,1.0,1.0,0.0,0.0,0.0,0.0,0.0],[0.0,1.0,2.0,2.0,3.0,3.0,4.0,5.0,6.0,7.0,6.0,5.0,4.0,5.0,6.0,7.0,8.0,8.0,8.0,7.0,7.0,6.0,7.0,7.0,7.0,8.0,8.0,7.0,6.0,6.0,5.0,5.0,4.0,4.0,4.0,4.0,5.0,4.0,4.0,4.0,3.0,3.0,2.0,3.0,3.0,2.0,3.0,2.0,1.0,2.0,1.0,1.0,1.0,1.0,0.0,0.0,0.0,0.0,0.0],[0.0,1.0,2.0,2.0,3.0,3.0,4.0,5.0,6.0,7.0,6.0,5.0,4.0,5.0,6.0,7.0,8.0,8.0,8.0,7.0,7.0,6.0,7.0,7.0,7.0,8.0,8.0,7.0,7.0,6.0,6.0,5.0,5.0,4.0,4.0,4.0,4.0,5.0,4.0,4.0,4.0,3.0,3.0,2.0,3.0,3.0,2.0,3.0,2.0,1.0,2.0,1.0,1.0,1.0,1.0,0.0,0.0,0.0,0.0,0.0],[0.0,1.0,2.0,2.0,3.0,3.0,4.0,5.0,6.0,7.0,6.0,5.0,4.0,5.0,6.0,7.0,8.0,8.0,8.0,7.0,7.0,6.0,7.0,7.0,7.0,8.0,8.0,7.0,7.0,6.0,6.0,6.0,5.0,5.0,4.0,4.0,4.0,4.0,5.0,4.0,4.0,4.0,3.0,3.0,2.0,3.0,3.0,2.0,3.0,2.0,1.0,2.0,1.0,1.0,1.0,1.0,0.0,0.0,0.0,0.0,0.0],[0.0,1.0,2.0,2.0,3.0,3.0,3.0,4.0,5.0,6.0,7.0,6.0,5.0,4.0,5.0,6.0,7.0,8.0,8.0,8.0,7.0,7.0,6.0,7.0,7.0,7.0,8.0,8.0,7.0,7.0,6.0,6.0,6.0,5.0,5.0,4.0,4.0,4.0,4.0,5.0,4.0,4.0,4.0,3.0,3.0,2.0,3.0,3.0,2.0,3.0,2.0,1.0,2.0,1.0,1.0,1.0,1.0,0.0,0.0,0.0,0.0,0.0],[0.0,1.0,2.0,2.0,3.0,3.0,3.0,4.0,5.0,6.0,7.0,6.0,5.0,4.0,5.0,6.0,7.0,8.0,8.0,8.0,7.0,7.0,6.0,7.0,7.0,7.0,8.0,8.0,7.0,7.0,6.0,6.0,6.0,5.0,5.0,4.0,4.0,4.0,4.0,5.0,4.0,4.0,4.0,3.0,3.0,2.0,3.0,3.0,2.0,3.0,2.0,1.0,2.0,1.0,1.0,1.0,1.0,0.0,0.0,0.0,0.0,0.0,0.0],[0.0,1.0,2.0,2.0,3.0,3.0,3.0,4.0,5.0,6.0,7.0,6.0,5.0,4.0,5.0,6.0,7.0,8.0,8.0,8.0,8.0,7.0,7.0,6.0,7.0,7.0,7.0,8.0,8.0,7.0,7.0,6.0,6.0,6.0,5.0,5.0,4.0,4.0,4.0,4.0,5.0,4.0,4.0,4.0,3.0,3.0,2.0,3.0,3.0,2.0,3.0,2.0,1.0,2.0,1.0,1.0,1.0,1.0,0.0,0.0,0.0,0.0,0.0,0.0],[0.0,1.0,2.0,2.0,3.0,3.0,3.0,4.0,5.0,6.0,7.0,6.0,5.0,4.0,5.0,6.0,7.0,8.0,8.0,8.0,8.0,7.0,7.0,6.0,7.0,7.0,7.0,8.0,8.0,7.0,7.0,6.0,6.0,6.0,5.0,5.0,4.0,4.0,4.0,4.0,5.0,4.0,4.0,5.0,4.0,3.0,3.0,2.0,3.0,3.0,2.0,3.0,2.0,1.0,2.0,1.0,1.0,1.0,1.0,0.0,0.0,0.0,0.0,0.0,0.0],[0.0,1.0,2.0,2.0,3.0,3.0,3.0,4.0,5.0,6.0,7.0,6.0,5.0,4.0,5.0,6.0,7.0,8.0,8.0,8.0,8.0,7.0,7.0,6.0,7.0,8.0,7.0,7.0,8.0,8.0,7.0,7.0,6.0,6.0,6.0,5.0,5.0,4.0,4.0,4.0,4.0,5.0,4.0,4.0,5.0,4.0,3.0,3.0,2.0,3.0,3.0,2.0,3.0,2.0,1.0,2.0,1.0,1.0,1.0,1.0,0.0,0.0,0.0,0.0,0.0,0.0],[0.0,1.0,2.0,2.0,3.0,3.0,3.0,4.0,5.0,6.0,7.0,6.0,5.0,4.0,5.0,6.0,7.0,8.0,8.0,8.0,8.0,7.0,7.0,6.0,7.0,8.0,7.0,7.0,8.0,8.0,8.0,7.0,7.0,6.0,6.0,6.0,5.0,5.0,4.0,4.0,4.0,4.0,5.0,4.0,4.0,5.0,4.0,3.0,3.0,2.0,3.0,3.0,2.0,3.0,2.0,1.0,2.0,1.0,1.0,1.0,1.0,0.0,0.0,0.0,0.0,0.0,0.0],[0.0,1.0,2.0,2.0,3.0,3.0,3.0,4.0,5.0,6.0,7.0,6.0,5.0,4.0,5.0,6.0,7.0,8.0,8.0,8.0,8.0,7.0,7.0,6.0,7.0,8.0,7.0,7.0,8.0,8.0,8.0,7.0,6.0,7.0,6.0,6.0,6.0,5.0,5.0,4.0,4.0,4.0,4.0,5.0,4.0,4.0,5.0,4.0,3.0,3.0,2.0,3.0,3.0,2.0,3.0,2.0,1.0,2.0,1.0,1.0,1.0,1.0,0.0,0.0,0.0,0.0,0.0,0.0],[0.0,1.0,2.0,2.0,3.0,3.0,3.0,4.0,5.0,6.0,7.0,6.0,5.0,4.0,5.0,6.0,7.0,8.0,8.0,8.0,8.0,7.0,7.0,6.0,7.0,8.0,7.0,7.0,8.0,8.0,8.0,7.0,6.0,7.0,6.0,6.0,6.0,5.0,5.0,4.0,4.0,4.0,4.0,5.0,4.0,4.0,5.0,4.0,3.0,3.0,3.0,2.0,3.0,3.0,2.0,3.0,2.0,1.0,2.0,1.0,1.0,1.0,1.0,0.0,0.0,0.0,0.0,0.0,0.0],[0.0,1.0,2.0,2.0,3.0,3.0,3.0,4.0,5.0,6.0,7.0,6.0,5.0,4.0,5.0,6.0,7.0,8.0,8.0,8.0,8.0,7.0,7.0,6.0,7.0,8.0,7.0,7.0,8.0,8.0,8.0,7.0,6.0,7.0,6.0,6.0,6.0,5.0,5.0,4.0,4.0,4.0,4.0,5.0,4.0,4.0,5.0,5.0,4.0,3.0,3.0,3.0,2.0,3.0,3.0,2.0,3.0,2.0,1.0,2.0,1.0,1.0,1.0,1.0,0.0,0.0,0.0,0.0,0.0,0.0],[0.0,1.0,2.0,2.0,3.0,3.0,3.0,4.0,5.0,6.0,7.0,6.0,5.0,4.0,5.0,6.0,7.0,8.0,8.0,8.0,8.0,7.0,7.0,6.0,7.0,8.0,7.0,7.0,8.0,8.0,8.0,7.0,6.0,7.0,6.0,6.0,6.0,5.0,5.0,4.0,4.0,4.0,4.0,5.0,4.0,4.0,5.0,5.0,4.0,3.0,3.0,3.0,2.0,3.0,3.0,2.0,3.0,2.0,1.0,2.0,1.0,1.0,1.0,1.0,1.0,0.0,0.0,0.0,0.0,0.0,0.0],[0.0,1.0,2.0,2.0,3.0,3.0,3.0,4.0,5.0,6.0,7.0,6.0,5.0,4.0,5.0,6.0,7.0,8.0,8.0,8.0,8.0,8.0,7.0,7.0,6.0,7.0,8.0,7.0,7.0,8.0,8.0,8.0,7.0,6.0,7.0,6.0,6.0,6.0,5.0,5.0,4.0,4.0,4.0,4.0,5.0,4.0,4.0,5.0,5.0,4.0,3.0,3.0,3.0,2.0,3.0,3.0,2.0,3.0,2.0,1.0,2.0,1.0,1.0,1.0,1.0,1.0,0.0,0.0,0.0,0.0,0.0,0.0],[0.0,1.0,2.0,2.0,3.0,3.0,3.0,4.0,5.0,6.0,7.0,6.0,5.0,4.0,5.0,6.0,7.0,8.0,8.0,8.0,8.0,8.0,7.0,7.0,6.0,7.0,8.0,7.0,7.0,8.0,8.0,8.0,7.0,6.0,7.0,6.0,6.0,6.0,5.0,5.0,4.0,4.0,4.0,4.0,5.0,4.0,4.0,5.0,5.0,4.0,3.0,2.0,3.0,3.0,2.0,3.0,3.0,2.0,3.0,2.0,1.0,2.0,1.0,1.0,1.0,1.0,1.0,0.0,0.0,0.0,0.0,0.0,0.0],[0.0,1.0,2.0,2.0,3.0,3.0,3.0,4.0,5.0,6.0,7.0,6.0,5.0,4.0,5.0,6.0,7.0,8.0,8.0,8.0,8.0,8.0,7.0,7.0,6.0,7.0,8.0,7.0,7.0,8.0,8.0,8.0,7.0,6.0,7.0,6.0,6.0,6.0,5.0,5.0,4.0,4.0,4.0,4.0,5.0,5.0,4.0,4.0,5.0,5.0,4.0,3.0,2.0,3.0,3.0,2.0,3.0,3.0,2.0,3.0,2.0,1.0,2.0,1.0,1.0,1.0,1.0,1.0,0.0,0.0,0.0,0.0,0.0,0.0],[0.0,1.0,2.0,2.0,3.0,3.0,3.0,4.0,5.0,6.0,7.0,6.0,5.0,4.0,5.0,6.0,7.0,8.0,8.0,8.0,8.0,8.0,7.0,7.0,6.0,7.0,8.0,7.0,7.0,8.0,8.0,8.0,7.0,6.0,7.0,6.0,6.0,6.0,5.0,5.0,4.0,4.0,4.0,4.0,5.0,5.0,4.0,4.0,5.0,5.0,4.0,3.0,2.0,3.0,3.0,2.0,3.0,3.0,2.0,3.0,2.0,1.0,2.0,1.0,1.0,1.0,1.0,1.0,0.0,0.0,0.0,0.0,0.0,0.0,0.0],[0.0,1.0,2.0,2.0,3.0,3.0,3.0,4.0,5.0,6.0,7.0,6.0,5.0,4.0,5.0,6.0,7.0,8.0,8.0,8.0,8.0,8.0,7.0,7.0,6.0,7.0,8.0,7.0,7.0,8.0,8.0,8.0,7.0,6.0,7.0,6.0,6.0,6.0,5.0,5.0,4.0,4.0,4.0,4.0,5.0,5.0,4.0,4.0,5.0,5.0,4.0,3.0,2.0,2.0,3.0,3.0,2.0,3.0,3.0,2.0,3.0,2.0,1.0,2.0,1.0,1.0,1.0,1.0,1.0,0.0,0.0,0.0,0.0,0.0,0.0,0.0],[0.0,1.0,2.0,2.0,3.0,3.0,3.0,4.0,5.0,6.0,7.0,6.0,5.0,4.0,5.0,6.0,7.0,8.0,8.0,8.0,8.0,8.0,7.0,7.0,6.0,7.0,8.0,7.0,7.0,8.0,8.0,8.0,7.0,6.0,7.0,6.0,6.0,6.0,5.0,5.0,4.0,4.0,4.0,4.0,5.0,5.0,4.0,4.0,5.0,5.0,4.0,3.0,2.0,2.0,3.0,3.0,2.0,3.0,3.0,2.0,3.0,2.0,1.0,2.0,1.0,1.0,1.0,1.0,1.0,0.0,0.0,0.0,0.0,0.0,0.0,0.0,0.0],[0.0,1.0,2.0,2.0,3.0,3.0,3.0,4.0,5.0,6.0,7.0,6.0,5.0,4.0,5.0,6.0,7.0,8.0,8.0,8.0,8.0,8.0,7.0,7.0,6.0,7.0,8.0,7.0,7.0,8.0,8.0,8.0,7.0,6.0,7.0,6.0,6.0,6.0,5.0,5.0,4.0,4.0,4.0,4.0,5.0,5.0,4.0,4.0,5.0,5.0,4.0,3.0,2.0,2.0,3.0,3.0,2.0,3.0,3.0,2.0,3.0,2.0,1.0,2.0,1.0,1.0,1.0,1.0,1.0,1.0,0.0,0.0,0.0,0.0,0.0,0.0,0.0,0.0],[0.0,1.0,2.0,2.0,3.0,3.0,3.0,4.0,5.0,6.0,7.0,6.0,5.0,4.0,5.0,6.0,7.0,8.0,8.0,8.0,8.0,8.0,7.0,7.0,6.0,7.0,8.0,7.0,7.0,8.0,8.0,8.0,7.0,6.0,7.0,6.0,6.0,6.0,5.0,5.0,4.0,4.0,4.0,4.0,5.0,5.0,4.0,4.0,5.0,5.0,4.0,3.0,2.0,2.0,3.0,3.0,2.0,2.0,3.0,3.0,2.0,3.0,2.0,1.0,2.0,1.0,1.0,1.0,1.0,1.0,1.0,0.0,0.0,0.0,0.0,0.0,0.0,0.0,0.0],[0.0,1.0,2.0,2.0,3.0,3.0,3.0,4.0,5.0,6.0,7.0,6.0,5.0,4.0,5.0,6.0,7.0,8.0,8.0,8.0,8.0,8.0,7.0,7.0,6.0,7.0,8.0,7.0,7.0,8.0,8.0,8.0,7.0,6.0,6.0,7.0,6.0,6.0,6.0,5.0,5.0,4.0,4.0,4.0,4.0,5.0,5.0,4.0,4.0,5.0,5.0,4.0,3.0,2.0,2.0,3.0,3.0,2.0,2.0,3.0,3.0,2.0,3.0,2.0,1.0,2.0,1.0,1.0,1.0,1.0,1.0,1.0,0.0,0.0,0.0,0.0,0.0,0.0,0.0,0.0],[0.0,1.0,2.0,2.0,3.0,3.0,3.0,4.0,5.0,6.0,7.0,6.0,5.0,4.0,5.0,6.0,7.0,8.0,8.0,8.0,8.0,8.0,7.0,7.0,6.0,7.0,8.0,7.0,7.0,8.0,8.0,8.0,7.0,6.0,6.0,7.0,6.0,6.0,6.0,5.0,5.0,4.0,4.0,4.0,4.0,5.0,5.0,4.0,4.0,5.0,5.0,4.0,3.0,2.0,2.0,3.0,3.0,2.0,2.0,3.0,3.0,2.0,3.0,2.0,1.0,2.0,1.0,1.0,1.0,1.0,1.0,1.0,0.0,0.0,0.0,0.0,0.0,0.0,0.0,0.0,0.0],[0.0,1.0,2.0,2.0,3.0,3.0,3.0,4.0,5.0,6.0,7.0,6.0,5.0,4.0,5.0,6.0,7.0,8.0,8.0,8.0,8.0,8.0,7.0,7.0,6.0,7.0,8.0,7.0,7.0,8.0,8.0,8.0,7.0,6.0,6.0,7.0,6.0,6.0,6.0,5.0,5.0,4.0,4.0,4.0,4.0,5.0,5.0,4.0,4.0,5.0,5.0,4.0,3.0,2.0,2.0,3.0,3.0,2.0,2.0,3.0,3.0,2.0,3.0,2.0,1.0,2.0,1.0,1.0,1.0,1.0,1.0,1.0,1.0,0.0,0.0,0.0,0.0,0.0,0.0,0.0,0.0,0.0],[0.0,1.0,2.0,2.0,3.0,3.0,3.0,4.0,5.0,6.0,7.0,6.0,5.0,4.0,5.0,6.0,7.0,8.0,8.0,8.0,8.0,8.0,7.0,7.0,6.0,7.0,8.0,7.0,7.0,8.0,8.0,8.0,7.0,6.0,6.0,7.0,6.0,6.0,6.0,5.0,5.0,4.0,4.0,4.0,4.0,5.0,5.0,4.0,4.0,5.0,5.0,4.0,3.0,2.0,2.0,3.0,3.0,2.0,2.0,3.0,3.0,2.0,3.0,2.0,1.0,2.0,1.0,1.0,1.0,1.0,1.0,1.0,1.0,0.0,0.0,0.0,0.0,0.0,0.0,0.0,0.0,0.0]],\"edges_y\":[[0.0,1.0,0.0],[0.0,1.0,1.0,0.0],[0.0,1.0,2.0,1.0,0.0],[0.0,0.0,1.0,2.0,1.0,0.0],[0.0,0.0,0.0,1.0,2.0,1.0,0.0],[0.0,0.0,0.0,1.0,2.0,2.0,1.0,0.0],[0.0,0.0,0.0,0.0,1.0,2.0,2.0,1.0,0.0],[0.0,0.0,0.0,0.0,0.0,1.0,2.0,2.0,1.0,0.0],[0.0,0.0,0.0,0.0,0.0,0.0,1.0,2.0,2.0,1.0,0.0],[0.0,0.0,0.0,0.0,0.0,0.0,1.0,1.0,2.0,2.0,1.0,0.0],[0.0,0.0,0.0,0.0,0.0,0.0,1.0,2.0,1.0,2.0,2.0,1.0,0.0],[0.0,0.0,0.0,0.0,0.0,0.0,1.0,2.0,3.0,1.0,2.0,2.0,1.0,0.0],[0.0,0.0,0.0,0.0,0.0,0.0,1.0,2.0,3.0,3.0,1.0,2.0,2.0,1.0,0.0],[0.0,0.0,0.0,1.0,0.0,0.0,0.0,1.0,2.0,3.0,3.0,1.0,2.0,2.0,1.0,0.0],[0.0,0.0,0.0,1.0,0.0,0.0,0.0,1.0,2.0,2.0,3.0,3.0,1.0,2.0,2.0,1.0,0.0],[0.0,0.0,0.0,1.0,1.0,0.0,0.0,0.0,1.0,2.0,2.0,3.0,3.0,1.0,2.0,2.0,1.0,0.0],[0.0,0.0,0.0,1.0,1.0,0.0,0.0,0.0,1.0,2.0,2.0,3.0,3.0,1.0,2.0,2.0,2.0,1.0,0.0],[0.0,0.0,0.0,1.0,1.0,0.0,0.0,0.0,1.0,2.0,3.0,2.0,3.0,3.0,1.0,2.0,2.0,2.0,1.0,0.0],[0.0,0.0,0.0,1.0,1.0,0.0,0.0,0.0,1.0,2.0,3.0,2.0,3.0,4.0,3.0,1.0,2.0,2.0,2.0,1.0,0.0],[0.0,0.0,0.0,1.0,1.0,0.0,0.0,0.0,1.0,1.0,2.0,3.0,2.0,3.0,4.0,3.0,1.0,2.0,2.0,2.0,1.0,0.0],[0.0,0.0,0.0,1.0,1.0,0.0,0.0,0.0,1.0,1.0,2.0,3.0,3.0,2.0,3.0,4.0,3.0,1.0,2.0,2.0,2.0,1.0,0.0],[0.0,0.0,0.0,1.0,1.0,0.0,0.0,0.0,1.0,1.0,2.0,3.0,4.0,3.0,2.0,3.0,4.0,3.0,1.0,2.0,2.0,2.0,1.0,0.0],[0.0,0.0,0.0,1.0,1.0,0.0,0.0,0.0,1.0,1.0,2.0,3.0,4.0,3.0,2.0,3.0,4.0,5.0,3.0,1.0,2.0,2.0,2.0,1.0,0.0],[0.0,0.0,0.0,1.0,1.0,0.0,0.0,0.0,0.0,1.0,1.0,2.0,3.0,4.0,3.0,2.0,3.0,4.0,5.0,3.0,1.0,2.0,2.0,2.0,1.0,0.0],[0.0,0.0,0.0,1.0,1.0,0.0,0.0,0.0,0.0,1.0,1.0,2.0,2.0,3.0,4.0,3.0,2.0,3.0,4.0,5.0,3.0,1.0,2.0,2.0,2.0,1.0,0.0],[0.0,0.0,0.0,1.0,1.0,0.0,0.0,0.0,0.0,1.0,1.0,2.0,2.0,3.0,4.0,3.0,2.0,3.0,4.0,5.0,3.0,1.0,2.0,2.0,3.0,2.0,1.0,0.0],[0.0,0.0,0.0,1.0,1.0,0.0,0.0,0.0,0.0,1.0,1.0,2.0,2.0,3.0,4.0,4.0,3.0,2.0,3.0,4.0,5.0,3.0,1.0,2.0,2.0,3.0,2.0,1.0,0.0],[0.0,0.0,0.0,1.0,1.0,0.0,0.0,0.0,0.0,1.0,1.0,2.0,2.0,3.0,4.0,4.0,3.0,2.0,3.0,4.0,5.0,3.0,1.0,2.0,2.0,3.0,3.0,2.0,1.0,0.0],[0.0,0.0,0.0,1.0,1.0,0.0,0.0,0.0,0.0,1.0,1.0,2.0,2.0,3.0,4.0,4.0,3.0,2.0,3.0,4.0,5.0,3.0,3.0,1.0,2.0,2.0,3.0,3.0,2.0,1.0,0.0],[0.0,0.0,0.0,1.0,1.0,0.0,0.0,0.0,0.0,1.0,1.0,2.0,2.0,2.0,3.0,4.0,4.0,3.0,2.0,3.0,4.0,5.0,3.0,3.0,1.0,2.0,2.0,3.0,3.0,2.0,1.0,0.0],[0.0,0.0,0.0,1.0,1.0,0.0,0.0,0.0,0.0,1.0,1.0,2.0,2.0,2.0,3.0,4.0,4.0,3.0,2.0,3.0,4.0,5.0,4.0,3.0,3.0,1.0,2.0,2.0,3.0,3.0,2.0,1.0,0.0],[0.0,0.0,0.0,1.0,1.0,0.0,0.0,0.0,0.0,1.0,1.0,2.0,2.0,1.0,2.0,3.0,4.0,4.0,3.0,2.0,3.0,4.0,5.0,4.0,3.0,3.0,1.0,2.0,2.0,3.0,3.0,2.0,1.0,0.0],[0.0,0.0,0.0,1.0,1.0,0.0,0.0,0.0,0.0,1.0,1.0,2.0,2.0,1.0,2.0,2.0,3.0,4.0,4.0,3.0,2.0,3.0,4.0,5.0,4.0,3.0,3.0,1.0,2.0,2.0,3.0,3.0,2.0,1.0,0.0],[0.0,0.0,0.0,1.0,1.0,0.0,0.0,0.0,0.0,0.0,1.0,1.0,2.0,2.0,1.0,2.0,2.0,3.0,4.0,4.0,3.0,2.0,3.0,4.0,5.0,4.0,3.0,3.0,1.0,2.0,2.0,3.0,3.0,2.0,1.0,0.0],[0.0,0.0,0.0,1.0,1.0,0.0,0.0,0.0,0.0,0.0,1.0,1.0,2.0,2.0,1.0,2.0,2.0,3.0,4.0,4.0,3.0,2.0,3.0,4.0,5.0,5.0,4.0,3.0,3.0,1.0,2.0,2.0,3.0,3.0,2.0,1.0,0.0],[0.0,0.0,0.0,1.0,1.0,0.0,0.0,0.0,0.0,0.0,1.0,1.0,2.0,2.0,1.0,2.0,2.0,3.0,4.0,4.0,3.0,2.0,3.0,4.0,5.0,6.0,5.0,4.0,3.0,3.0,1.0,2.0,2.0,3.0,3.0,2.0,1.0,0.0],[0.0,0.0,0.0,1.0,1.0,0.0,0.0,0.0,0.0,0.0,1.0,1.0,2.0,2.0,1.0,1.0,2.0,2.0,3.0,4.0,4.0,3.0,2.0,3.0,4.0,5.0,6.0,5.0,4.0,3.0,3.0,1.0,2.0,2.0,3.0,3.0,2.0,1.0,0.0],[0.0,0.0,0.0,1.0,1.0,0.0,0.0,0.0,0.0,0.0,1.0,1.0,1.0,2.0,2.0,1.0,1.0,2.0,2.0,3.0,4.0,4.0,3.0,2.0,3.0,4.0,5.0,6.0,5.0,4.0,3.0,3.0,1.0,2.0,2.0,3.0,3.0,2.0,1.0,0.0],[0.0,0.0,0.0,1.0,1.0,0.0,0.0,0.0,0.0,0.0,1.0,1.0,1.0,2.0,2.0,1.0,1.0,2.0,2.0,3.0,4.0,4.0,3.0,2.0,3.0,4.0,5.0,6.0,5.0,4.0,3.0,3.0,1.0,2.0,2.0,3.0,4.0,3.0,2.0,1.0,0.0],[0.0,0.0,0.0,1.0,1.0,0.0,0.0,0.0,0.0,0.0,1.0,1.0,1.0,2.0,2.0,1.0,1.0,2.0,3.0,2.0,3.0,4.0,4.0,3.0,2.0,3.0,4.0,5.0,6.0,5.0,4.0,3.0,3.0,1.0,2.0,2.0,3.0,4.0,3.0,2.0,1.0,0.0],[0.0,0.0,0.0,1.0,1.0,0.0,0.0,0.0,0.0,0.0,1.0,1.0,1.0,2.0,2.0,1.0,1.0,2.0,3.0,2.0,3.0,4.0,5.0,4.0,3.0,2.0,3.0,4.0,5.0,6.0,5.0,4.0,3.0,3.0,1.0,2.0,2.0,3.0,4.0,3.0,2.0,1.0,0.0],[0.0,0.0,0.0,1.0,1.0,0.0,0.0,0.0,0.0,0.0,1.0,1.0,1.0,2.0,2.0,1.0,1.0,2.0,3.0,3.0,2.0,3.0,4.0,5.0,4.0,3.0,2.0,3.0,4.0,5.0,6.0,5.0,4.0,3.0,3.0,1.0,2.0,2.0,3.0,4.0,3.0,2.0,1.0,0.0],[0.0,0.0,0.0,1.0,1.0,0.0,0.0,0.0,0.0,0.0,1.0,1.0,1.0,2.0,2.0,1.0,1.0,2.0,3.0,3.0,2.0,3.0,4.0,5.0,4.0,3.0,2.0,3.0,4.0,5.0,6.0,7.0,5.0,4.0,3.0,3.0,1.0,2.0,2.0,3.0,4.0,3.0,2.0,1.0,0.0],[0.0,0.0,0.0,1.0,1.0,0.0,0.0,0.0,0.0,0.0,1.0,1.0,1.0,2.0,2.0,1.0,1.0,2.0,3.0,3.0,2.0,3.0,4.0,5.0,4.0,3.0,2.0,3.0,4.0,5.0,6.0,7.0,6.0,5.0,4.0,3.0,3.0,1.0,2.0,2.0,3.0,4.0,3.0,2.0,1.0,0.0],[0.0,0.0,0.0,1.0,1.0,0.0,0.0,0.0,0.0,0.0,1.0,1.0,1.0,2.0,2.0,1.0,1.0,2.0,3.0,3.0,2.0,3.0,4.0,5.0,6.0,4.0,3.0,2.0,3.0,4.0,5.0,6.0,7.0,6.0,5.0,4.0,3.0,3.0,1.0,2.0,2.0,3.0,4.0,3.0,2.0,1.0,0.0],[0.0,0.0,0.0,1.0,1.0,0.0,0.0,0.0,0.0,0.0,1.0,1.0,1.0,2.0,2.0,1.0,1.0,2.0,3.0,3.0,2.0,3.0,4.0,5.0,6.0,4.0,4.0,3.0,2.0,3.0,4.0,5.0,6.0,7.0,6.0,5.0,4.0,3.0,3.0,1.0,2.0,2.0,3.0,4.0,3.0,2.0,1.0,0.0],[0.0,0.0,0.0,1.0,1.0,0.0,0.0,0.0,0.0,0.0,1.0,1.0,1.0,2.0,2.0,1.0,1.0,2.0,3.0,3.0,2.0,3.0,4.0,5.0,6.0,4.0,4.0,3.0,2.0,3.0,4.0,5.0,6.0,7.0,6.0,5.0,4.0,3.0,3.0,1.0,2.0,2.0,3.0,4.0,5.0,3.0,2.0,1.0,0.0],[0.0,0.0,0.0,1.0,1.0,0.0,0.0,0.0,0.0,0.0,1.0,1.0,1.0,2.0,2.0,1.0,1.0,2.0,3.0,3.0,2.0,3.0,4.0,5.0,6.0,4.0,4.0,3.0,2.0,3.0,4.0,5.0,6.0,6.0,7.0,6.0,5.0,4.0,3.0,3.0,1.0,2.0,2.0,3.0,4.0,5.0,3.0,2.0,1.0,0.0],[0.0,0.0,0.0,1.0,1.0,0.0,0.0,0.0,0.0,0.0,1.0,1.0,1.0,2.0,2.0,1.0,1.0,2.0,3.0,3.0,2.0,3.0,4.0,5.0,6.0,7.0,4.0,4.0,3.0,2.0,3.0,4.0,5.0,6.0,6.0,7.0,6.0,5.0,4.0,3.0,3.0,1.0,2.0,2.0,3.0,4.0,5.0,3.0,2.0,1.0,0.0],[0.0,0.0,0.0,1.0,1.0,0.0,0.0,0.0,0.0,0.0,1.0,1.0,1.0,2.0,2.0,1.0,1.0,2.0,3.0,3.0,2.0,3.0,4.0,5.0,6.0,7.0,4.0,4.0,3.0,2.0,3.0,4.0,5.0,6.0,6.0,7.0,8.0,6.0,5.0,4.0,3.0,3.0,1.0,2.0,2.0,3.0,4.0,5.0,3.0,2.0,1.0,0.0],[0.0,0.0,0.0,1.0,1.0,0.0,0.0,0.0,0.0,0.0,1.0,1.0,1.0,2.0,2.0,1.0,1.0,2.0,3.0,3.0,2.0,3.0,4.0,5.0,6.0,7.0,4.0,4.0,3.0,2.0,3.0,4.0,5.0,6.0,6.0,7.0,8.0,6.0,5.0,4.0,3.0,3.0,1.0,2.0,2.0,3.0,4.0,5.0,4.0,3.0,2.0,1.0,0.0],[0.0,0.0,0.0,1.0,1.0,0.0,0.0,0.0,0.0,0.0,1.0,1.0,1.0,2.0,2.0,1.0,1.0,2.0,3.0,3.0,2.0,3.0,4.0,5.0,6.0,7.0,4.0,4.0,3.0,2.0,3.0,4.0,5.0,6.0,6.0,7.0,8.0,6.0,6.0,5.0,4.0,3.0,3.0,1.0,2.0,2.0,3.0,4.0,5.0,4.0,3.0,2.0,1.0,0.0],[0.0,0.0,0.0,1.0,1.0,0.0,0.0,0.0,0.0,0.0,1.0,1.0,1.0,2.0,2.0,1.0,1.0,2.0,3.0,3.0,2.0,3.0,4.0,5.0,6.0,7.0,4.0,4.0,3.0,2.0,3.0,4.0,5.0,6.0,6.0,7.0,8.0,7.0,6.0,6.0,5.0,4.0,3.0,3.0,1.0,2.0,2.0,3.0,4.0,5.0,4.0,3.0,2.0,1.0,0.0],[0.0,0.0,0.0,1.0,1.0,0.0,0.0,0.0,0.0,0.0,1.0,1.0,1.0,2.0,2.0,1.0,1.0,2.0,3.0,3.0,2.0,3.0,4.0,5.0,6.0,7.0,5.0,4.0,4.0,3.0,2.0,3.0,4.0,5.0,6.0,6.0,7.0,8.0,7.0,6.0,6.0,5.0,4.0,3.0,3.0,1.0,2.0,2.0,3.0,4.0,5.0,4.0,3.0,2.0,1.0,0.0],[0.0,0.0,0.0,1.0,1.0,0.0,0.0,0.0,0.0,0.0,1.0,1.0,1.0,2.0,2.0,1.0,1.0,2.0,3.0,3.0,2.0,3.0,4.0,5.0,6.0,7.0,5.0,4.0,4.0,3.0,2.0,3.0,4.0,5.0,6.0,6.0,7.0,8.0,7.0,6.0,6.0,5.0,4.0,4.0,3.0,3.0,1.0,2.0,2.0,3.0,4.0,5.0,4.0,3.0,2.0,1.0,0.0],[0.0,0.0,0.0,1.0,1.0,0.0,0.0,0.0,0.0,0.0,1.0,1.0,1.0,2.0,2.0,1.0,1.0,2.0,3.0,3.0,2.0,3.0,4.0,5.0,6.0,7.0,7.0,5.0,4.0,4.0,3.0,2.0,3.0,4.0,5.0,6.0,6.0,7.0,8.0,7.0,6.0,6.0,5.0,4.0,4.0,3.0,3.0,1.0,2.0,2.0,3.0,4.0,5.0,4.0,3.0,2.0,1.0,0.0],[0.0,0.0,0.0,1.0,1.0,0.0,0.0,0.0,0.0,0.0,1.0,1.0,1.0,2.0,2.0,1.0,1.0,2.0,3.0,3.0,2.0,3.0,4.0,5.0,6.0,7.0,8.0,7.0,5.0,4.0,4.0,3.0,2.0,3.0,4.0,5.0,6.0,6.0,7.0,8.0,7.0,6.0,6.0,5.0,4.0,4.0,3.0,3.0,1.0,2.0,2.0,3.0,4.0,5.0,4.0,3.0,2.0,1.0,0.0],[0.0,0.0,0.0,1.0,1.0,0.0,0.0,0.0,0.0,0.0,1.0,1.0,1.0,2.0,2.0,1.0,1.0,2.0,3.0,3.0,2.0,3.0,4.0,5.0,6.0,7.0,8.0,8.0,7.0,5.0,4.0,4.0,3.0,2.0,3.0,4.0,5.0,6.0,6.0,7.0,8.0,7.0,6.0,6.0,5.0,4.0,4.0,3.0,3.0,1.0,2.0,2.0,3.0,4.0,5.0,4.0,3.0,2.0,1.0,0.0],[0.0,0.0,0.0,1.0,1.0,0.0,0.0,0.0,0.0,0.0,1.0,1.0,1.0,2.0,2.0,1.0,1.0,2.0,3.0,3.0,2.0,3.0,4.0,5.0,6.0,7.0,8.0,8.0,7.0,6.0,5.0,4.0,4.0,3.0,2.0,3.0,4.0,5.0,6.0,6.0,7.0,8.0,7.0,6.0,6.0,5.0,4.0,4.0,3.0,3.0,1.0,2.0,2.0,3.0,4.0,5.0,4.0,3.0,2.0,1.0,0.0],[0.0,0.0,0.0,1.0,2.0,1.0,0.0,0.0,0.0,0.0,0.0,1.0,1.0,1.0,2.0,2.0,1.0,1.0,2.0,3.0,3.0,2.0,3.0,4.0,5.0,6.0,7.0,8.0,8.0,7.0,6.0,5.0,4.0,4.0,3.0,2.0,3.0,4.0,5.0,6.0,6.0,7.0,8.0,7.0,6.0,6.0,5.0,4.0,4.0,3.0,3.0,1.0,2.0,2.0,3.0,4.0,5.0,4.0,3.0,2.0,1.0,0.0],[0.0,0.0,0.0,1.0,2.0,1.0,0.0,0.0,0.0,0.0,0.0,1.0,1.0,1.0,2.0,2.0,1.0,1.0,2.0,3.0,3.0,2.0,3.0,4.0,5.0,6.0,7.0,8.0,8.0,7.0,6.0,5.0,4.0,4.0,3.0,2.0,3.0,4.0,5.0,6.0,6.0,7.0,8.0,7.0,6.0,6.0,5.0,4.0,4.0,3.0,3.0,1.0,2.0,2.0,3.0,4.0,5.0,5.0,4.0,3.0,2.0,1.0,0.0],[0.0,0.0,0.0,1.0,2.0,1.0,0.0,0.0,0.0,0.0,0.0,1.0,1.0,1.0,2.0,2.0,1.0,1.0,2.0,3.0,4.0,3.0,2.0,3.0,4.0,5.0,6.0,7.0,8.0,8.0,7.0,6.0,5.0,4.0,4.0,3.0,2.0,3.0,4.0,5.0,6.0,6.0,7.0,8.0,7.0,6.0,6.0,5.0,4.0,4.0,3.0,3.0,1.0,2.0,2.0,3.0,4.0,5.0,5.0,4.0,3.0,2.0,1.0,0.0],[0.0,0.0,0.0,1.0,2.0,1.0,0.0,0.0,0.0,0.0,0.0,1.0,1.0,1.0,2.0,2.0,1.0,1.0,2.0,3.0,4.0,3.0,2.0,3.0,4.0,5.0,6.0,7.0,8.0,8.0,7.0,6.0,5.0,4.0,4.0,3.0,2.0,3.0,4.0,5.0,6.0,6.0,7.0,8.0,8.0,7.0,6.0,6.0,5.0,4.0,4.0,3.0,3.0,1.0,2.0,2.0,3.0,4.0,5.0,5.0,4.0,3.0,2.0,1.0,0.0],[0.0,0.0,0.0,1.0,2.0,1.0,0.0,0.0,0.0,0.0,0.0,1.0,1.0,1.0,2.0,2.0,1.0,1.0,2.0,3.0,4.0,3.0,2.0,3.0,4.0,5.0,5.0,6.0,7.0,8.0,8.0,7.0,6.0,5.0,4.0,4.0,3.0,2.0,3.0,4.0,5.0,6.0,6.0,7.0,8.0,8.0,7.0,6.0,6.0,5.0,4.0,4.0,3.0,3.0,1.0,2.0,2.0,3.0,4.0,5.0,5.0,4.0,3.0,2.0,1.0,0.0],[0.0,0.0,0.0,1.0,2.0,1.0,0.0,0.0,0.0,0.0,0.0,1.0,1.0,1.0,2.0,2.0,1.0,1.0,2.0,3.0,4.0,3.0,2.0,3.0,4.0,5.0,5.0,6.0,6.0,7.0,8.0,8.0,7.0,6.0,5.0,4.0,4.0,3.0,2.0,3.0,4.0,5.0,6.0,6.0,7.0,8.0,8.0,7.0,6.0,6.0,5.0,4.0,4.0,3.0,3.0,1.0,2.0,2.0,3.0,4.0,5.0,5.0,4.0,3.0,2.0,1.0,0.0],[0.0,0.0,0.0,1.0,2.0,1.0,0.0,0.0,0.0,0.0,0.0,1.0,1.0,1.0,2.0,2.0,1.0,1.0,2.0,3.0,4.0,3.0,2.0,3.0,4.0,5.0,5.0,6.0,6.0,7.0,8.0,8.0,8.0,7.0,6.0,5.0,4.0,4.0,3.0,2.0,3.0,4.0,5.0,6.0,6.0,7.0,8.0,8.0,7.0,6.0,6.0,5.0,4.0,4.0,3.0,3.0,1.0,2.0,2.0,3.0,4.0,5.0,5.0,4.0,3.0,2.0,1.0,0.0],[0.0,0.0,0.0,1.0,2.0,1.0,0.0,0.0,0.0,0.0,0.0,1.0,1.0,1.0,2.0,2.0,1.0,1.0,2.0,3.0,4.0,3.0,2.0,3.0,4.0,5.0,5.0,6.0,6.0,7.0,8.0,8.0,8.0,7.0,6.0,5.0,4.0,4.0,3.0,2.0,3.0,4.0,5.0,6.0,6.0,7.0,8.0,8.0,8.0,7.0,6.0,6.0,5.0,4.0,4.0,3.0,3.0,1.0,2.0,2.0,3.0,4.0,5.0,5.0,4.0,3.0,2.0,1.0,0.0],[0.0,0.0,0.0,1.0,2.0,1.0,0.0,0.0,0.0,0.0,0.0,1.0,1.0,1.0,2.0,2.0,1.0,1.0,2.0,3.0,4.0,3.0,2.0,3.0,4.0,5.0,5.0,6.0,6.0,7.0,8.0,8.0,8.0,7.0,6.0,5.0,4.0,4.0,3.0,2.0,3.0,4.0,5.0,6.0,6.0,7.0,7.0,8.0,8.0,8.0,7.0,6.0,6.0,5.0,4.0,4.0,3.0,3.0,1.0,2.0,2.0,3.0,4.0,5.0,5.0,4.0,3.0,2.0,1.0,0.0],[0.0,0.0,0.0,1.0,2.0,1.0,0.0,0.0,0.0,0.0,0.0,1.0,1.0,1.0,2.0,2.0,1.0,1.0,2.0,3.0,4.0,3.0,2.0,3.0,4.0,5.0,5.0,6.0,6.0,7.0,8.0,8.0,8.0,7.0,6.0,5.0,4.0,4.0,3.0,2.0,3.0,4.0,5.0,6.0,6.0,7.0,7.0,8.0,8.0,8.0,7.0,6.0,6.0,5.0,4.0,4.0,3.0,3.0,1.0,2.0,2.0,3.0,4.0,5.0,6.0,5.0,4.0,3.0,2.0,1.0,0.0],[0.0,0.0,0.0,1.0,2.0,1.0,0.0,0.0,0.0,0.0,0.0,1.0,1.0,1.0,2.0,2.0,1.0,0.0,1.0,2.0,3.0,4.0,3.0,2.0,3.0,4.0,5.0,5.0,6.0,6.0,7.0,8.0,8.0,8.0,7.0,6.0,5.0,4.0,4.0,3.0,2.0,3.0,4.0,5.0,6.0,6.0,7.0,7.0,8.0,8.0,8.0,7.0,6.0,6.0,5.0,4.0,4.0,3.0,3.0,1.0,2.0,2.0,3.0,4.0,5.0,6.0,5.0,4.0,3.0,2.0,1.0,0.0],[0.0,0.0,0.0,1.0,2.0,1.0,0.0,0.0,0.0,0.0,0.0,1.0,1.0,1.0,2.0,2.0,1.0,0.0,1.0,2.0,3.0,4.0,3.0,2.0,3.0,4.0,5.0,5.0,6.0,6.0,7.0,8.0,8.0,8.0,7.0,6.0,5.0,4.0,4.0,3.0,2.0,3.0,4.0,5.0,6.0,6.0,7.0,7.0,8.0,8.0,8.0,7.0,7.0,6.0,6.0,5.0,4.0,4.0,3.0,3.0,1.0,2.0,2.0,3.0,4.0,5.0,6.0,5.0,4.0,3.0,2.0,1.0,0.0],[0.0,0.0,0.0,1.0,2.0,1.0,0.0,0.0,0.0,0.0,0.0,1.0,1.0,1.0,2.0,2.0,1.0,0.0,1.0,2.0,3.0,4.0,3.0,2.0,3.0,4.0,5.0,5.0,6.0,6.0,7.0,8.0,8.0,8.0,7.0,6.0,5.0,4.0,4.0,3.0,2.0,3.0,4.0,5.0,5.0,6.0,6.0,7.0,7.0,8.0,8.0,8.0,7.0,7.0,6.0,6.0,5.0,4.0,4.0,3.0,3.0,1.0,2.0,2.0,3.0,4.0,5.0,6.0,5.0,4.0,3.0,2.0,1.0,0.0],[0.0,0.0,0.0,1.0,2.0,1.0,0.0,0.0,0.0,0.0,0.0,1.0,1.0,1.0,2.0,2.0,1.0,0.0,1.0,2.0,3.0,4.0,3.0,2.0,3.0,4.0,5.0,5.0,6.0,6.0,7.0,8.0,8.0,8.0,7.0,6.0,5.0,4.0,4.0,3.0,2.0,3.0,4.0,5.0,5.0,6.0,6.0,7.0,7.0,8.0,8.0,8.0,7.0,7.0,6.0,6.0,5.0,4.0,4.0,3.0,3.0,1.0,2.0,2.0,3.0,4.0,5.0,6.0,6.0,5.0,4.0,3.0,2.0,1.0,0.0],[0.0,0.0,0.0,1.0,2.0,1.0,0.0,0.0,0.0,0.0,0.0,1.0,1.0,1.0,2.0,2.0,1.0,0.0,1.0,2.0,3.0,4.0,3.0,2.0,3.0,4.0,5.0,5.0,6.0,6.0,7.0,8.0,8.0,8.0,7.0,6.0,5.0,4.0,4.0,3.0,2.0,3.0,4.0,5.0,5.0,6.0,6.0,7.0,7.0,8.0,8.0,8.0,8.0,7.0,7.0,6.0,6.0,5.0,4.0,4.0,3.0,3.0,1.0,2.0,2.0,3.0,4.0,5.0,6.0,6.0,5.0,4.0,3.0,2.0,1.0,0.0],[0.0,0.0,0.0,1.0,2.0,1.0,0.0,0.0,0.0,0.0,0.0,1.0,1.0,1.0,2.0,2.0,1.0,0.0,1.0,2.0,3.0,4.0,3.0,2.0,3.0,4.0,5.0,5.0,6.0,6.0,7.0,8.0,8.0,8.0,7.0,6.0,5.0,4.0,4.0,3.0,2.0,3.0,4.0,5.0,5.0,6.0,6.0,7.0,7.0,8.0,8.0,8.0,8.0,7.0,7.0,6.0,6.0,5.0,4.0,4.0,3.0,3.0,1.0,2.0,2.0,3.0,4.0,5.0,6.0,7.0,6.0,5.0,4.0,3.0,2.0,1.0,0.0],[0.0,0.0,0.0,1.0,2.0,1.0,0.0,0.0,0.0,0.0,0.0,1.0,1.0,1.0,2.0,2.0,1.0,0.0,1.0,2.0,3.0,4.0,3.0,2.0,3.0,4.0,5.0,5.0,6.0,6.0,7.0,8.0,8.0,8.0,7.0,6.0,5.0,4.0,4.0,3.0,2.0,3.0,4.0,5.0,5.0,6.0,6.0,7.0,7.0,8.0,8.0,8.0,8.0,7.0,7.0,6.0,6.0,5.0,4.0,4.0,3.0,3.0,1.0,2.0,2.0,3.0,4.0,5.0,6.0,7.0,7.0,6.0,5.0,4.0,3.0,2.0,1.0,0.0],[0.0,0.0,0.0,1.0,2.0,1.0,0.0,0.0,0.0,0.0,0.0,1.0,1.0,1.0,2.0,2.0,1.0,0.0,1.0,2.0,3.0,4.0,3.0,2.0,3.0,4.0,5.0,5.0,6.0,6.0,7.0,8.0,8.0,8.0,7.0,6.0,5.0,4.0,4.0,3.0,2.0,3.0,4.0,5.0,5.0,6.0,6.0,7.0,7.0,8.0,8.0,8.0,8.0,7.0,7.0,6.0,6.0,5.0,5.0,4.0,4.0,3.0,3.0,1.0,2.0,2.0,3.0,4.0,5.0,6.0,7.0,7.0,6.0,5.0,4.0,3.0,2.0,1.0,0.0],[0.0,0.0,0.0,1.0,2.0,1.0,0.0,0.0,0.0,0.0,0.0,1.0,1.0,1.0,2.0,2.0,1.0,0.0,1.0,2.0,3.0,4.0,3.0,2.0,3.0,4.0,5.0,5.0,6.0,6.0,7.0,8.0,8.0,8.0,7.0,7.0,6.0,5.0,4.0,4.0,3.0,2.0,3.0,4.0,5.0,5.0,6.0,6.0,7.0,7.0,8.0,8.0,8.0,8.0,7.0,7.0,6.0,6.0,5.0,5.0,4.0,4.0,3.0,3.0,1.0,2.0,2.0,3.0,4.0,5.0,6.0,7.0,7.0,6.0,5.0,4.0,3.0,2.0,1.0,0.0],[0.0,0.0,0.0,1.0,2.0,1.0,0.0,0.0,0.0,0.0,0.0,1.0,1.0,1.0,2.0,2.0,1.0,0.0,1.0,2.0,3.0,4.0,3.0,2.0,3.0,4.0,5.0,5.0,6.0,6.0,7.0,8.0,8.0,8.0,7.0,7.0,6.0,5.0,4.0,4.0,3.0,2.0,3.0,4.0,5.0,5.0,6.0,6.0,7.0,7.0,8.0,8.0,8.0,8.0,7.0,7.0,6.0,6.0,5.0,5.0,4.0,4.0,3.0,3.0,1.0,2.0,2.0,3.0,4.0,5.0,6.0,7.0,8.0,7.0,6.0,5.0,4.0,3.0,2.0,1.0,0.0],[0.0,0.0,0.0,1.0,2.0,1.0,0.0,0.0,0.0,0.0,0.0,1.0,1.0,1.0,2.0,2.0,1.0,0.0,1.0,2.0,3.0,4.0,3.0,2.0,3.0,4.0,5.0,5.0,6.0,6.0,7.0,8.0,8.0,8.0,7.0,7.0,6.0,5.0,4.0,4.0,3.0,2.0,3.0,4.0,5.0,5.0,6.0,6.0,7.0,7.0,8.0,8.0,8.0,8.0,7.0,7.0,6.0,6.0,5.0,5.0,4.0,4.0,3.0,3.0,1.0,2.0,2.0,3.0,4.0,5.0,6.0,7.0,8.0,8.0,7.0,6.0,5.0,4.0,3.0,2.0,1.0,0.0],[0.0,0.0,0.0,1.0,2.0,1.0,0.0,0.0,0.0,0.0,0.0,1.0,1.0,1.0,2.0,2.0,1.0,0.0,1.0,2.0,3.0,4.0,3.0,2.0,3.0,4.0,5.0,5.0,6.0,6.0,7.0,8.0,8.0,8.0,7.0,7.0,6.0,5.0,4.0,4.0,3.0,2.0,3.0,4.0,5.0,5.0,6.0,6.0,7.0,7.0,8.0,8.0,8.0,8.0,7.0,7.0,6.0,6.0,5.0,5.0,4.0,4.0,3.0,3.0,1.0,2.0,2.0,3.0,4.0,5.0,6.0,7.0,8.0,8.0,7.0,6.0,5.0,4.0,3.0,2.0,1.0,0.0]]},\"selected\":{\"id\":\"2363\"},\"selection_policy\":{\"id\":\"2362\"}},\"id\":\"2331\",\"type\":\"ColumnDataSource\"},{\"attributes\":{\"active_drag\":\"auto\",\"active_inspect\":\"auto\",\"active_multi\":null,\"active_scroll\":\"auto\",\"active_tap\":\"auto\",\"logo\":null,\"tools\":[{\"id\":\"2313\"},{\"id\":\"2314\"},{\"id\":\"2315\"},{\"id\":\"2316\"},{\"id\":\"2317\"},{\"id\":\"2318\"}]},\"id\":\"2320\",\"type\":\"Toolbar\"},{\"attributes\":{},\"id\":\"2357\",\"type\":\"Selection\"},{\"attributes\":{\"children\":[{\"id\":\"2328\"},{\"id\":\"2329\"}]},\"id\":\"2348\",\"type\":\"Row\"},{\"attributes\":{},\"id\":\"2303\",\"type\":\"LinearScale\"},{\"attributes\":{\"data\":{\"edges_x\":[0.0,0.0,0.0],\"edges_y\":[0.0,1.0,0.0]},\"selected\":{\"id\":\"2355\"},\"selection_policy\":{\"id\":\"2354\"}},\"id\":\"2332\",\"type\":\"ColumnDataSource\"},{\"attributes\":{\"args\":{\"cost\":{\"id\":\"2328\"},\"done\":{\"id\":\"2329\"},\"n\":{\"id\":\"2330\"},\"source\":{\"id\":\"2331\"},\"tour\":{\"id\":\"2332\"}},\"code\":\"\\nif ((parseInt(n.text) - 1) >= 0) {\\n    n.text = (parseInt(n.text) - 1).toString()\\n}\\nvar iteration = parseInt(n.text)\\n\\nif (iteration == source.data['edges_y'].length - 2) {\\n    iteration = iteration - 1\\n}\\n\\n    cost.text = source.data['costs'][iteration].toFixed(1)\\n    \\n    if (iteration == source.data['edges_y'].length - 1) {\\n        done.text = \\\"done.\\\"\\n    } else {\\n        done.text = \\\"\\\"\\n    }\\n\\n    tour.data['edges_x'] = source.data['edges_x'][iteration]\\n    tour.data['edges_y'] = source.data['edges_y'][iteration]\\n    tour.change.emit()\\n    \"},\"id\":\"2346\",\"type\":\"CustomJS\"},{\"attributes\":{},\"id\":\"2362\",\"type\":\"UnionRenderers\"},{\"attributes\":{},\"id\":\"2350\",\"type\":\"BasicTickFormatter\"},{\"attributes\":{},\"id\":\"2363\",\"type\":\"Selection\"},{\"attributes\":{},\"id\":\"2317\",\"type\":\"ResetTool\"},{\"attributes\":{},\"id\":\"2301\",\"type\":\"LinearScale\"},{\"attributes\":{\"data\":{\"x\":[0.0,0.0,0.0,0.0,0.0,0.0,0.0,0.0,0.0,1.0,1.0,1.0,1.0,1.0,1.0,1.0,1.0,1.0,2.0,2.0,2.0,2.0,2.0,2.0,2.0,2.0,2.0,3.0,3.0,3.0,3.0,3.0,3.0,3.0,3.0,3.0,4.0,4.0,4.0,4.0,4.0,4.0,4.0,4.0,4.0,5.0,5.0,5.0,5.0,5.0,5.0,5.0,5.0,5.0,6.0,6.0,6.0,6.0,6.0,6.0,6.0,6.0,6.0,7.0,7.0,7.0,7.0,7.0,7.0,7.0,7.0,7.0,8.0,8.0,8.0,8.0,8.0,8.0,8.0,8.0,8.0],\"y\":[0.0,1.0,2.0,3.0,4.0,5.0,6.0,7.0,8.0,0.0,1.0,2.0,3.0,4.0,5.0,6.0,7.0,8.0,0.0,1.0,2.0,3.0,4.0,5.0,6.0,7.0,8.0,0.0,1.0,2.0,3.0,4.0,5.0,6.0,7.0,8.0,0.0,1.0,2.0,3.0,4.0,5.0,6.0,7.0,8.0,0.0,1.0,2.0,3.0,4.0,5.0,6.0,7.0,8.0,0.0,1.0,2.0,3.0,4.0,5.0,6.0,7.0,8.0,0.0,1.0,2.0,3.0,4.0,5.0,6.0,7.0,8.0,0.0,1.0,2.0,3.0,4.0,5.0,6.0,7.0,8.0]},\"selected\":{\"id\":\"2357\"},\"selection_policy\":{\"id\":\"2356\"}},\"id\":\"2338\",\"type\":\"ColumnDataSource\"},{\"attributes\":{\"line_alpha\":0.1,\"line_width\":4,\"x\":{\"field\":\"edges_x\"},\"y\":{\"field\":\"edges_y\"}},\"id\":\"2335\",\"type\":\"Line\"},{\"attributes\":{},\"id\":\"2316\",\"type\":\"SaveTool\"},{\"attributes\":{\"end\":8.68,\"start\":-0.68},\"id\":\"2299\",\"type\":\"Range1d\"},{\"attributes\":{\"line_width\":4,\"x\":{\"field\":\"edges_x\"},\"y\":{\"field\":\"edges_y\"}},\"id\":\"2334\",\"type\":\"Line\"},{\"attributes\":{\"end\":8.68,\"start\":-0.68},\"id\":\"2297\",\"type\":\"Range1d\"},{\"attributes\":{\"source\":{\"id\":\"2332\"}},\"id\":\"2337\",\"type\":\"CDSView\"},{\"attributes\":{},\"id\":\"2306\",\"type\":\"BasicTicker\"},{\"attributes\":{\"formatter\":{\"id\":\"2350\"},\"ticker\":{\"id\":\"2306\"},\"visible\":false},\"id\":\"2305\",\"type\":\"LinearAxis\"},{\"attributes\":{},\"id\":\"2318\",\"type\":\"HelpTool\"},{\"attributes\":{\"data_source\":{\"id\":\"2332\"},\"glyph\":{\"id\":\"2334\"},\"hover_glyph\":null,\"muted_glyph\":null,\"nonselection_glyph\":{\"id\":\"2335\"},\"selection_glyph\":null,\"view\":{\"id\":\"2337\"}},\"id\":\"2336\",\"type\":\"GlyphRenderer\"},{\"attributes\":{\"bottom_units\":\"screen\",\"fill_alpha\":0.5,\"fill_color\":\"lightgrey\",\"left_units\":\"screen\",\"level\":\"overlay\",\"line_alpha\":1.0,\"line_color\":\"black\",\"line_dash\":[4,4],\"line_width\":2,\"right_units\":\"screen\",\"top_units\":\"screen\"},\"id\":\"2319\",\"type\":\"BoxAnnotation\"},{\"attributes\":{\"axis\":{\"id\":\"2305\"},\"grid_line_color\":null,\"ticker\":null},\"id\":\"2308\",\"type\":\"Grid\"},{\"attributes\":{\"button_type\":\"success\",\"icon\":null,\"js_event_callbacks\":{\"button_click\":[{\"id\":\"2344\"}]},\"label\":\"Next\",\"sizing_mode\":\"scale_width\",\"width_policy\":\"fit\"},\"id\":\"2343\",\"type\":\"Button\"},{\"attributes\":{\"align\":\"center\",\"width\":200},\"id\":\"2329\",\"type\":\"Div\"},{\"attributes\":{\"fill_color\":{\"value\":\"steelblue\"},\"line_color\":{\"value\":\"steelblue\"},\"size\":{\"units\":\"screen\",\"value\":8},\"x\":{\"field\":\"x\"},\"y\":{\"field\":\"y\"}},\"id\":\"2339\",\"type\":\"Circle\"},{\"attributes\":{},\"id\":\"2310\",\"type\":\"BasicTicker\"},{\"attributes\":{\"fill_alpha\":{\"value\":0.1},\"fill_color\":{\"value\":\"steelblue\"},\"line_alpha\":{\"value\":0.1},\"line_color\":{\"value\":\"steelblue\"},\"size\":{\"units\":\"screen\",\"value\":8},\"x\":{\"field\":\"x\"},\"y\":{\"field\":\"y\"}},\"id\":\"2340\",\"type\":\"Circle\"},{\"attributes\":{\"axis\":{\"id\":\"2309\"},\"dimension\":1,\"grid_line_color\":null,\"ticker\":null},\"id\":\"2312\",\"type\":\"Grid\"},{\"attributes\":{\"source\":{\"id\":\"2338\"}},\"id\":\"2342\",\"type\":\"CDSView\"},{\"attributes\":{\"children\":[{\"id\":\"2345\"},{\"id\":\"2343\"}],\"max_width\":400,\"sizing_mode\":\"stretch_both\"},\"id\":\"2347\",\"type\":\"Row\"},{\"attributes\":{\"background_fill_color\":null,\"below\":[{\"id\":\"2305\"}],\"border_fill_color\":null,\"center\":[{\"id\":\"2308\"},{\"id\":\"2312\"}],\"left\":[{\"id\":\"2309\"}],\"outline_line_color\":null,\"plot_height\":400,\"plot_width\":400,\"renderers\":[{\"id\":\"2336\"},{\"id\":\"2341\"}],\"title\":{\"id\":\"2295\"},\"toolbar\":{\"id\":\"2320\"},\"toolbar_location\":null,\"x_range\":{\"id\":\"2297\"},\"x_scale\":{\"id\":\"2301\"},\"y_range\":{\"id\":\"2299\"},\"y_scale\":{\"id\":\"2303\"}},\"id\":\"2294\",\"subtype\":\"Figure\",\"type\":\"Plot\"},{\"attributes\":{\"formatter\":{\"id\":\"2352\"},\"ticker\":{\"id\":\"2310\"},\"visible\":false},\"id\":\"2309\",\"type\":\"LinearAxis\"},{\"attributes\":{},\"id\":\"2314\",\"type\":\"WheelZoomTool\"},{\"attributes\":{\"data_source\":{\"id\":\"2338\"},\"glyph\":{\"id\":\"2339\"},\"hover_glyph\":null,\"muted_glyph\":null,\"nonselection_glyph\":{\"id\":\"2340\"},\"selection_glyph\":null,\"view\":{\"id\":\"2342\"}},\"id\":\"2341\",\"type\":\"GlyphRenderer\"},{\"attributes\":{\"args\":{\"cost\":{\"id\":\"2328\"},\"done\":{\"id\":\"2329\"},\"n\":{\"id\":\"2330\"},\"source\":{\"id\":\"2331\"},\"tour\":{\"id\":\"2332\"}},\"code\":\"\\nif ((parseInt(n.text) + 1) < source.data['edges_y'].length) {\\n    n.text = (parseInt(n.text) + 1).toString()\\n}\\nvar iteration = parseInt(n.text)\\n\\nif (iteration == source.data['edges_y'].length - 2) {\\n    iteration = iteration + 1\\n}\\n\\n    cost.text = source.data['costs'][iteration].toFixed(1)\\n    \\n    if (iteration == source.data['edges_y'].length - 1) {\\n        done.text = \\\"done.\\\"\\n    } else {\\n        done.text = \\\"\\\"\\n    }\\n\\n    tour.data['edges_x'] = source.data['edges_x'][iteration]\\n    tour.data['edges_y'] = source.data['edges_y'][iteration]\\n    tour.change.emit()\\n    \"},\"id\":\"2344\",\"type\":\"CustomJS\"},{\"attributes\":{\"align\":\"center\",\"text\":\"2.0\",\"width\":200},\"id\":\"2328\",\"type\":\"Div\"},{\"attributes\":{\"align\":\"center\",\"text\":\"0\",\"width\":400},\"id\":\"2330\",\"type\":\"Div\"},{\"attributes\":{\"button_type\":\"success\",\"icon\":null,\"js_event_callbacks\":{\"button_click\":[{\"id\":\"2346\"}]},\"label\":\"Previous\",\"sizing_mode\":\"scale_width\",\"width_policy\":\"fit\"},\"id\":\"2345\",\"type\":\"Button\"},{\"attributes\":{},\"id\":\"2352\",\"type\":\"BasicTickFormatter\"},{\"attributes\":{\"overlay\":{\"id\":\"2319\"}},\"id\":\"2315\",\"type\":\"BoxZoomTool\"},{\"attributes\":{},\"id\":\"2354\",\"type\":\"UnionRenderers\"},{\"attributes\":{},\"id\":\"2313\",\"type\":\"PanTool\"},{\"attributes\":{},\"id\":\"2355\",\"type\":\"Selection\"}],\"root_ids\":[\"2364\"]},\"title\":\"Bokeh Application\",\"version\":\"2.1.0\"}};\n",
       "  var render_items = [{\"docid\":\"9c7cbc7e-d250-4060-a4d8-f718d50cb18b\",\"root_ids\":[\"2364\"],\"roots\":{\"2364\":\"b103cf21-4d93-4e10-a78a-0e723b1667e3\"}}];\n",
       "  root.Bokeh.embed.embed_items_notebook(docs_json, render_items);\n",
       "\n",
       "  }\n",
       "  if (root.Bokeh !== undefined) {\n",
       "    embed_document(root);\n",
       "  } else {\n",
       "    var attempts = 0;\n",
       "    var timer = setInterval(function(root) {\n",
       "      if (root.Bokeh !== undefined) {\n",
       "        clearInterval(timer);\n",
       "        embed_document(root);\n",
       "      } else {\n",
       "        attempts++;\n",
       "        if (attempts > 100) {\n",
       "          clearInterval(timer);\n",
       "          console.log(\"Bokeh: ERROR: Unable to run BokehJS code because BokehJS library is missing\");\n",
       "        }\n",
       "      }\n",
       "    }, 10, root)\n",
       "  }\n",
       "})(window);"
      ],
      "application/vnd.bokehjs_exec.v0+json": ""
     },
     "metadata": {
      "application/vnd.bokehjs_exec.v0+json": {
       "id": "2364"
      }
     },
     "output_type": "display_data"
    }
   ],
   "source": [
    "tour = plot_tsp_heuristic(nodes, G, heuristic='nearest_insertion', initial=[0,1,0])"
   ]
  },
  {
   "cell_type": "code",
   "execution_count": 18,
   "metadata": {},
   "outputs": [
    {
     "data": {
      "text/html": [
       "\n",
       "\n",
       "\n",
       "\n",
       "\n",
       "\n",
       "  <div class=\"bk-root\" id=\"f4d1e788-a899-44e3-a061-33ccda5c36b0\" data-root-id=\"2599\"></div>\n"
      ]
     },
     "metadata": {},
     "output_type": "display_data"
    },
    {
     "data": {
      "application/javascript": [
       "(function(root) {\n",
       "  function embed_document(root) {\n",
       "    \n",
       "  var docs_json = {\"f3d7f835-a5fe-46ab-a8c5-00c8fa4cfde5\":{\"roots\":{\"references\":[{\"attributes\":{\"children\":[[{\"id\":\"2529\"},0,0],[{\"id\":\"2582\"},1,0],[{\"id\":\"2583\"},2,0]]},\"id\":\"2599\",\"type\":\"GridBox\"},{\"attributes\":{},\"id\":\"2597\",\"type\":\"UnionRenderers\"},{\"attributes\":{\"children\":[{\"id\":\"2563\"},{\"id\":\"2564\"}]},\"id\":\"2583\",\"type\":\"Row\"},{\"attributes\":{},\"id\":\"2598\",\"type\":\"Selection\"},{\"attributes\":{\"bottom_units\":\"screen\",\"fill_alpha\":0.5,\"fill_color\":\"lightgrey\",\"left_units\":\"screen\",\"level\":\"overlay\",\"line_alpha\":1.0,\"line_color\":\"black\",\"line_dash\":[4,4],\"line_width\":2,\"right_units\":\"screen\",\"top_units\":\"screen\"},\"id\":\"2554\",\"type\":\"BoxAnnotation\"},{\"attributes\":{\"button_type\":\"success\",\"icon\":null,\"js_event_callbacks\":{\"button_click\":[{\"id\":\"2581\"}]},\"label\":\"Previous\",\"sizing_mode\":\"scale_width\",\"width_policy\":\"fit\"},\"id\":\"2580\",\"type\":\"Button\"},{\"attributes\":{\"data\":{\"costs\":[22.627416997969522,27.31370849898476,32.0,35.31370849898476,35.31370849898476,37.65685424949238,37.65685424949238,37.65685424949238,39.31370849898477,39.31370849898477,40.97056274847714,42.627416997969526,42.627416997969526,42.627416997969526,42.627416997969526,43.798989873223334,44.97056274847714,46.14213562373096,46.14213562373096,46.14213562373096,47.31370849898476,48.485281374238575,51.31370849898476,54.14213562373095,54.97056274847715,55.798989873223334,55.798989873223334,56.62741699796952,56.62741699796952,56.62741699796951,57.4558441227157,57.455844122715696,58.28427124746189,59.11269837220807,59.941125496954264,60.76955262170045,60.76955262170045,61.59797974644663,62.426406871192825,64.42640687119282,65.01219330881972,65.59797974644663,66.18376618407353,66.76955262170044,68.00562059920023,68.59140703682714,68.59140703682714,69.17719347445404,69.76297991208095,69.76297991208095,70.34876634970786,71.76297991208095,71.76297991208095,72.34876634970786,72.34876634970786,72.93455278733477,72.93455278733477,73.11269837220807,74.34876634970786,74.34876634970786,74.34876634970786,74.93455278733477,75.52033922496166,76.10612566258857,76.69191210021548,76.69191210021548,77.27769853784238,77.86348497546929,78.4492714130962,78.4492714130962,79.0350578507231,79.62084428835001,80.20663072597692,80.79241716360383,82.20663072597692,82.79241716360383,82.97056274847714,83.55634918610404,84.97056274847712,85.55634918610403,85.55634918610403],\"edges_x\":[[0.0,8.0,0.0],[0.0,8.0,8.0,0.0],[0.0,8.0,8.0,0.0,0.0],[0.0,4.0,8.0,8.0,0.0,0.0],[0.0,4.0,8.0,8.0,8.0,0.0,0.0],[0.0,4.0,4.0,8.0,8.0,8.0,0.0,0.0],[0.0,4.0,4.0,8.0,8.0,8.0,0.0,0.0,0.0],[0.0,4.0,4.0,8.0,8.0,8.0,4.0,0.0,0.0,0.0],[0.0,4.0,4.0,8.0,8.0,6.0,8.0,4.0,0.0,0.0,0.0],[0.0,4.0,4.0,6.0,8.0,8.0,6.0,8.0,4.0,0.0,0.0,0.0],[0.0,4.0,4.0,6.0,8.0,8.0,6.0,8.0,4.0,2.0,0.0,0.0,0.0],[0.0,2.0,4.0,4.0,6.0,8.0,8.0,6.0,8.0,4.0,2.0,0.0,0.0,0.0],[0.0,2.0,4.0,4.0,6.0,8.0,8.0,6.0,8.0,4.0,2.0,0.0,0.0,0.0,0.0],[0.0,2.0,4.0,4.0,6.0,8.0,8.0,8.0,6.0,8.0,4.0,2.0,0.0,0.0,0.0,0.0],[0.0,2.0,4.0,4.0,6.0,8.0,8.0,8.0,6.0,8.0,4.0,2.0,0.0,0.0,0.0,0.0,0.0],[0.0,2.0,4.0,4.0,6.0,6.0,8.0,8.0,8.0,6.0,8.0,4.0,2.0,0.0,0.0,0.0,0.0,0.0],[0.0,2.0,4.0,4.0,6.0,6.0,8.0,8.0,8.0,6.0,8.0,4.0,2.0,2.0,0.0,0.0,0.0,0.0,0.0],[0.0,2.0,4.0,4.0,6.0,6.0,6.0,8.0,8.0,8.0,6.0,8.0,4.0,2.0,2.0,0.0,0.0,0.0,0.0,0.0],[0.0,2.0,4.0,4.0,4.0,6.0,6.0,6.0,8.0,8.0,8.0,6.0,8.0,4.0,2.0,2.0,0.0,0.0,0.0,0.0,0.0],[0.0,2.0,4.0,4.0,4.0,6.0,6.0,6.0,8.0,8.0,8.0,6.0,8.0,6.0,4.0,2.0,2.0,0.0,0.0,0.0,0.0,0.0],[0.0,2.0,4.0,4.0,4.0,6.0,6.0,6.0,8.0,8.0,8.0,8.0,6.0,8.0,6.0,4.0,2.0,2.0,0.0,0.0,0.0,0.0,0.0],[0.0,2.0,2.0,4.0,4.0,4.0,6.0,6.0,6.0,8.0,8.0,8.0,8.0,6.0,8.0,6.0,4.0,2.0,2.0,0.0,0.0,0.0,0.0,0.0],[0.0,2.0,2.0,4.0,4.0,4.0,4.0,6.0,6.0,6.0,8.0,8.0,8.0,8.0,6.0,8.0,6.0,4.0,2.0,2.0,0.0,0.0,0.0,0.0,0.0],[0.0,2.0,2.0,4.0,4.0,2.0,4.0,4.0,6.0,6.0,6.0,8.0,8.0,8.0,8.0,6.0,8.0,6.0,4.0,2.0,2.0,0.0,0.0,0.0,0.0,0.0],[0.0,2.0,2.0,4.0,4.0,2.0,4.0,4.0,6.0,6.0,7.0,6.0,8.0,8.0,8.0,8.0,6.0,8.0,6.0,4.0,2.0,2.0,0.0,0.0,0.0,0.0,0.0],[0.0,2.0,2.0,4.0,4.0,2.0,4.0,4.0,6.0,6.0,7.0,6.0,8.0,8.0,8.0,8.0,6.0,8.0,6.0,4.0,2.0,2.0,0.0,0.0,0.0,1.0,0.0,0.0],[0.0,2.0,2.0,4.0,4.0,2.0,4.0,4.0,5.0,6.0,6.0,7.0,6.0,8.0,8.0,8.0,8.0,6.0,8.0,6.0,4.0,2.0,2.0,0.0,0.0,0.0,1.0,0.0,0.0],[0.0,2.0,2.0,4.0,4.0,2.0,4.0,4.0,5.0,6.0,6.0,7.0,6.0,8.0,8.0,8.0,8.0,6.0,8.0,6.0,5.0,4.0,2.0,2.0,0.0,0.0,0.0,1.0,0.0,0.0],[0.0,2.0,2.0,4.0,4.0,3.0,2.0,4.0,4.0,5.0,6.0,6.0,7.0,6.0,8.0,8.0,8.0,8.0,6.0,8.0,6.0,5.0,4.0,2.0,2.0,0.0,0.0,0.0,1.0,0.0,0.0],[0.0,2.0,2.0,4.0,4.0,3.0,2.0,4.0,4.0,5.0,6.0,6.0,7.0,6.0,8.0,8.0,8.0,8.0,6.0,7.0,8.0,6.0,5.0,4.0,2.0,2.0,0.0,0.0,0.0,1.0,0.0,0.0],[0.0,2.0,2.0,4.0,4.0,3.0,2.0,3.0,4.0,4.0,5.0,6.0,6.0,7.0,6.0,8.0,8.0,8.0,8.0,6.0,7.0,8.0,6.0,5.0,4.0,2.0,2.0,0.0,0.0,0.0,1.0,0.0,0.0],[0.0,2.0,2.0,4.0,4.0,3.0,2.0,3.0,4.0,4.0,5.0,6.0,6.0,7.0,6.0,8.0,8.0,8.0,8.0,6.0,7.0,8.0,6.0,5.0,4.0,2.0,2.0,1.0,0.0,0.0,0.0,1.0,0.0,0.0],[0.0,2.0,2.0,4.0,4.0,3.0,2.0,3.0,4.0,4.0,5.0,6.0,6.0,7.0,6.0,8.0,8.0,8.0,7.0,8.0,6.0,7.0,8.0,6.0,5.0,4.0,2.0,2.0,1.0,0.0,0.0,0.0,1.0,0.0,0.0],[0.0,2.0,2.0,4.0,5.0,4.0,3.0,2.0,3.0,4.0,4.0,5.0,6.0,6.0,7.0,6.0,8.0,8.0,8.0,7.0,8.0,6.0,7.0,8.0,6.0,5.0,4.0,2.0,2.0,1.0,0.0,0.0,0.0,1.0,0.0,0.0],[0.0,2.0,2.0,4.0,5.0,4.0,3.0,2.0,3.0,4.0,4.0,5.0,6.0,7.0,6.0,7.0,6.0,8.0,8.0,8.0,7.0,8.0,6.0,7.0,8.0,6.0,5.0,4.0,2.0,2.0,1.0,0.0,0.0,0.0,1.0,0.0,0.0],[0.0,2.0,2.0,4.0,5.0,4.0,3.0,2.0,3.0,4.0,4.0,5.0,6.0,7.0,6.0,7.0,6.0,8.0,8.0,8.0,7.0,8.0,6.0,7.0,8.0,6.0,5.0,4.0,3.0,2.0,2.0,1.0,0.0,0.0,0.0,1.0,0.0,0.0],[0.0,2.0,2.0,3.0,4.0,5.0,4.0,3.0,2.0,3.0,4.0,4.0,5.0,6.0,7.0,6.0,7.0,6.0,8.0,8.0,8.0,7.0,8.0,6.0,7.0,8.0,6.0,5.0,4.0,3.0,2.0,2.0,1.0,0.0,0.0,0.0,1.0,0.0,0.0],[0.0,2.0,2.0,3.0,4.0,5.0,4.0,3.0,2.0,3.0,4.0,4.0,5.0,6.0,7.0,6.0,7.0,6.0,8.0,8.0,8.0,7.0,8.0,6.0,7.0,8.0,6.0,5.0,4.0,3.0,2.0,2.0,1.0,0.0,0.0,1.0,0.0,1.0,0.0,0.0],[0.0,1.0,2.0,2.0,3.0,4.0,5.0,4.0,3.0,2.0,3.0,4.0,4.0,5.0,6.0,7.0,6.0,7.0,6.0,8.0,8.0,8.0,7.0,8.0,6.0,7.0,8.0,6.0,5.0,4.0,3.0,2.0,2.0,1.0,0.0,0.0,1.0,0.0,1.0,0.0,0.0],[0.0,1.0,2.0,2.0,3.0,4.0,5.0,5.0,4.0,3.0,2.0,3.0,4.0,4.0,5.0,6.0,7.0,6.0,7.0,6.0,8.0,8.0,8.0,7.0,8.0,6.0,7.0,8.0,6.0,5.0,4.0,3.0,2.0,2.0,1.0,0.0,0.0,1.0,0.0,1.0,0.0,0.0],[0.0,1.0,1.0,2.0,2.0,3.0,4.0,5.0,5.0,4.0,3.0,2.0,3.0,4.0,4.0,5.0,6.0,7.0,6.0,7.0,6.0,8.0,8.0,8.0,7.0,8.0,6.0,7.0,8.0,6.0,5.0,4.0,3.0,2.0,2.0,1.0,0.0,0.0,1.0,0.0,1.0,0.0,0.0],[0.0,1.0,1.0,2.0,2.0,3.0,4.0,5.0,5.0,4.0,3.0,2.0,2.0,3.0,4.0,4.0,5.0,6.0,7.0,6.0,7.0,6.0,8.0,8.0,8.0,7.0,8.0,6.0,7.0,8.0,6.0,5.0,4.0,3.0,2.0,2.0,1.0,0.0,0.0,1.0,0.0,1.0,0.0,0.0],[0.0,1.0,1.0,2.0,2.0,3.0,4.0,5.0,5.0,4.0,3.0,2.0,2.0,3.0,4.0,4.0,5.0,6.0,7.0,6.0,7.0,6.0,8.0,8.0,8.0,7.0,8.0,6.0,7.0,8.0,8.0,6.0,5.0,4.0,3.0,2.0,2.0,1.0,0.0,0.0,1.0,0.0,1.0,0.0,0.0],[0.0,1.0,1.0,2.0,2.0,3.0,4.0,5.0,5.0,4.0,3.0,2.0,2.0,3.0,4.0,4.0,5.0,6.0,6.0,7.0,6.0,7.0,6.0,8.0,8.0,8.0,7.0,8.0,6.0,7.0,8.0,8.0,6.0,5.0,4.0,3.0,2.0,2.0,1.0,0.0,0.0,1.0,0.0,1.0,0.0,0.0],[0.0,1.0,1.0,2.0,2.0,3.0,4.0,5.0,5.0,4.0,3.0,2.0,2.0,3.0,4.0,5.0,4.0,5.0,6.0,6.0,7.0,6.0,7.0,6.0,8.0,8.0,8.0,7.0,8.0,6.0,7.0,8.0,8.0,6.0,5.0,4.0,3.0,2.0,2.0,1.0,0.0,0.0,1.0,0.0,1.0,0.0,0.0],[0.0,1.0,1.0,2.0,2.0,3.0,4.0,5.0,5.0,4.0,3.0,3.0,2.0,2.0,3.0,4.0,5.0,4.0,5.0,6.0,6.0,7.0,6.0,7.0,6.0,8.0,8.0,8.0,7.0,8.0,6.0,7.0,8.0,8.0,6.0,5.0,4.0,3.0,2.0,2.0,1.0,0.0,0.0,1.0,0.0,1.0,0.0,0.0],[0.0,1.0,1.0,2.0,2.0,3.0,4.0,5.0,5.0,4.0,3.0,3.0,2.0,2.0,3.0,4.0,5.0,4.0,5.0,6.0,6.0,7.0,6.0,7.0,6.0,8.0,8.0,8.0,7.0,8.0,6.0,7.0,8.0,8.0,6.0,5.0,4.0,3.0,2.0,2.0,1.0,0.0,0.0,0.0,1.0,0.0,1.0,0.0,0.0],[0.0,1.0,1.0,2.0,2.0,3.0,4.0,5.0,5.0,4.0,3.0,3.0,2.0,2.0,3.0,4.0,5.0,4.0,5.0,6.0,6.0,7.0,6.0,7.0,6.0,8.0,8.0,8.0,7.0,8.0,6.0,7.0,8.0,8.0,6.0,5.0,4.0,3.0,2.0,2.0,1.0,0.0,0.0,0.0,1.0,0.0,1.0,1.0,0.0,0.0],[0.0,1.0,1.0,2.0,2.0,3.0,4.0,5.0,5.0,4.0,3.0,3.0,2.0,2.0,3.0,4.0,5.0,4.0,5.0,6.0,6.0,7.0,6.0,6.0,7.0,6.0,8.0,8.0,8.0,7.0,8.0,6.0,7.0,8.0,8.0,6.0,5.0,4.0,3.0,2.0,2.0,1.0,0.0,0.0,0.0,1.0,0.0,1.0,1.0,0.0,0.0],[0.0,1.0,1.0,2.0,2.0,2.0,3.0,4.0,5.0,5.0,4.0,3.0,3.0,2.0,2.0,3.0,4.0,5.0,4.0,5.0,6.0,6.0,7.0,6.0,6.0,7.0,6.0,8.0,8.0,8.0,7.0,8.0,6.0,7.0,8.0,8.0,6.0,5.0,4.0,3.0,2.0,2.0,1.0,0.0,0.0,0.0,1.0,0.0,1.0,1.0,0.0,0.0],[0.0,1.0,1.0,2.0,2.0,2.0,3.0,4.0,5.0,5.0,4.0,3.0,3.0,2.0,2.0,3.0,4.0,5.0,4.0,5.0,6.0,6.0,7.0,6.0,6.0,7.0,6.0,8.0,8.0,8.0,7.0,8.0,6.0,7.0,8.0,8.0,6.0,5.0,4.0,4.0,3.0,2.0,2.0,1.0,0.0,0.0,0.0,1.0,0.0,1.0,1.0,0.0,0.0],[0.0,1.0,1.0,2.0,2.0,2.0,3.0,4.0,5.0,5.0,4.0,3.0,2.0,3.0,2.0,2.0,3.0,4.0,5.0,4.0,5.0,6.0,6.0,7.0,6.0,6.0,7.0,6.0,8.0,8.0,8.0,7.0,8.0,6.0,7.0,8.0,8.0,6.0,5.0,4.0,4.0,3.0,2.0,2.0,1.0,0.0,0.0,0.0,1.0,0.0,1.0,1.0,0.0,0.0],[0.0,1.0,1.0,2.0,2.0,2.0,3.0,4.0,5.0,5.0,4.0,3.0,2.0,3.0,2.0,2.0,3.0,4.0,5.0,4.0,5.0,6.0,6.0,7.0,6.0,6.0,7.0,6.0,8.0,8.0,8.0,7.0,8.0,6.0,7.0,8.0,8.0,7.0,6.0,5.0,4.0,4.0,3.0,2.0,2.0,1.0,0.0,0.0,0.0,1.0,0.0,1.0,1.0,0.0,0.0],[0.0,1.0,1.0,2.0,2.0,2.0,3.0,4.0,5.0,5.0,4.0,3.0,2.0,3.0,2.0,2.0,3.0,4.0,5.0,4.0,5.0,6.0,6.0,7.0,6.0,6.0,7.0,6.0,8.0,8.0,8.0,7.0,8.0,6.0,7.0,8.0,8.0,7.0,6.0,5.0,4.0,4.0,3.0,2.0,2.0,1.0,0.0,0.0,0.0,1.0,0.0,0.0,1.0,1.0,0.0,0.0],[0.0,1.0,1.0,2.0,2.0,2.0,3.0,4.0,5.0,5.0,4.0,3.0,2.0,3.0,2.0,2.0,3.0,4.0,5.0,4.0,5.0,6.0,6.0,7.0,6.0,6.0,7.0,6.0,7.0,8.0,8.0,8.0,7.0,8.0,6.0,7.0,8.0,8.0,7.0,6.0,5.0,4.0,4.0,3.0,2.0,2.0,1.0,0.0,0.0,0.0,1.0,0.0,0.0,1.0,1.0,0.0,0.0],[0.0,1.0,1.0,2.0,2.0,2.0,3.0,4.0,5.0,5.0,4.0,3.0,2.0,3.0,2.0,2.0,3.0,4.0,5.0,4.0,5.0,6.0,6.0,7.0,6.0,6.0,7.0,6.0,7.0,8.0,8.0,8.0,8.0,7.0,8.0,6.0,7.0,8.0,8.0,7.0,6.0,5.0,4.0,4.0,3.0,2.0,2.0,1.0,0.0,0.0,0.0,1.0,0.0,0.0,1.0,1.0,0.0,0.0],[0.0,1.0,1.0,2.0,2.0,2.0,3.0,4.0,5.0,5.0,4.0,3.0,2.0,3.0,2.0,2.0,3.0,4.0,5.0,4.0,5.0,6.0,6.0,7.0,6.0,6.0,7.0,6.0,7.0,8.0,8.0,8.0,8.0,7.0,8.0,6.0,7.0,8.0,8.0,7.0,6.0,5.0,4.0,4.0,3.0,2.0,2.0,1.0,0.0,0.0,0.0,1.0,0.0,0.0,1.0,1.0,0.0,0.0,0.0],[0.0,1.0,1.0,2.0,2.0,2.0,3.0,4.0,5.0,5.0,4.0,3.0,2.0,3.0,2.0,2.0,3.0,4.0,5.0,4.0,4.0,5.0,6.0,6.0,7.0,6.0,6.0,7.0,6.0,7.0,8.0,8.0,8.0,8.0,7.0,8.0,6.0,7.0,8.0,8.0,7.0,6.0,5.0,4.0,4.0,3.0,2.0,2.0,1.0,0.0,0.0,0.0,1.0,0.0,0.0,1.0,1.0,0.0,0.0,0.0],[0.0,1.0,1.0,2.0,2.0,2.0,3.0,4.0,5.0,5.0,4.0,3.0,2.0,3.0,2.0,2.0,3.0,4.0,5.0,4.0,4.0,5.0,6.0,6.0,7.0,6.0,6.0,7.0,6.0,7.0,8.0,8.0,8.0,8.0,7.0,8.0,6.0,7.0,8.0,8.0,7.0,6.0,5.0,4.0,4.0,3.0,2.0,3.0,2.0,1.0,0.0,0.0,0.0,1.0,0.0,0.0,1.0,1.0,0.0,0.0,0.0],[0.0,1.0,1.0,2.0,2.0,2.0,3.0,4.0,5.0,5.0,4.0,3.0,2.0,3.0,2.0,2.0,3.0,4.0,5.0,4.0,4.0,5.0,6.0,6.0,7.0,6.0,6.0,7.0,6.0,7.0,8.0,8.0,8.0,8.0,8.0,7.0,8.0,6.0,7.0,8.0,8.0,7.0,6.0,5.0,4.0,4.0,3.0,2.0,3.0,2.0,1.0,0.0,0.0,0.0,1.0,0.0,0.0,1.0,1.0,0.0,0.0,0.0],[0.0,1.0,1.0,2.0,2.0,2.0,3.0,4.0,5.0,5.0,5.0,4.0,3.0,2.0,3.0,2.0,2.0,3.0,4.0,5.0,4.0,4.0,5.0,6.0,6.0,7.0,6.0,6.0,7.0,6.0,7.0,8.0,8.0,8.0,8.0,8.0,7.0,8.0,6.0,7.0,8.0,8.0,7.0,6.0,5.0,4.0,4.0,3.0,2.0,3.0,2.0,1.0,0.0,0.0,0.0,1.0,0.0,0.0,1.0,1.0,0.0,0.0,0.0],[0.0,1.0,1.0,2.0,2.0,2.0,3.0,4.0,5.0,5.0,5.0,4.0,3.0,2.0,3.0,2.0,2.0,3.0,4.0,5.0,4.0,4.0,5.0,6.0,6.0,7.0,7.0,6.0,6.0,7.0,6.0,7.0,8.0,8.0,8.0,8.0,8.0,7.0,8.0,6.0,7.0,8.0,8.0,7.0,6.0,5.0,4.0,4.0,3.0,2.0,3.0,2.0,1.0,0.0,0.0,0.0,1.0,0.0,0.0,1.0,1.0,0.0,0.0,0.0],[0.0,1.0,1.0,2.0,2.0,2.0,3.0,3.0,4.0,5.0,5.0,5.0,4.0,3.0,2.0,3.0,2.0,2.0,3.0,4.0,5.0,4.0,4.0,5.0,6.0,6.0,7.0,7.0,6.0,6.0,7.0,6.0,7.0,8.0,8.0,8.0,8.0,8.0,7.0,8.0,6.0,7.0,8.0,8.0,7.0,6.0,5.0,4.0,4.0,3.0,2.0,3.0,2.0,1.0,0.0,0.0,0.0,1.0,0.0,0.0,1.0,1.0,0.0,0.0,0.0],[0.0,1.0,1.0,2.0,2.0,2.0,3.0,3.0,4.0,5.0,5.0,5.0,4.0,3.0,2.0,3.0,2.0,2.0,3.0,4.0,5.0,4.0,4.0,5.0,6.0,6.0,7.0,7.0,6.0,6.0,7.0,6.0,7.0,8.0,8.0,8.0,8.0,8.0,7.0,8.0,6.0,7.0,8.0,8.0,7.0,6.0,5.0,4.0,4.0,3.0,3.0,2.0,3.0,2.0,1.0,0.0,0.0,0.0,1.0,0.0,0.0,1.0,1.0,0.0,0.0,0.0],[0.0,1.0,1.0,2.0,2.0,2.0,3.0,3.0,4.0,5.0,5.0,5.0,4.0,3.0,2.0,3.0,2.0,2.0,3.0,4.0,5.0,4.0,4.0,5.0,6.0,6.0,7.0,7.0,6.0,6.0,7.0,6.0,7.0,8.0,8.0,8.0,8.0,8.0,7.0,8.0,6.0,6.0,7.0,8.0,8.0,7.0,6.0,5.0,4.0,4.0,3.0,3.0,2.0,3.0,2.0,1.0,0.0,0.0,0.0,1.0,0.0,0.0,1.0,1.0,0.0,0.0,0.0],[0.0,1.0,1.0,2.0,2.0,2.0,3.0,3.0,4.0,5.0,5.0,5.0,4.0,3.0,2.0,3.0,2.0,2.0,3.0,4.0,5.0,4.0,4.0,5.0,6.0,6.0,7.0,7.0,6.0,6.0,7.0,6.0,7.0,8.0,8.0,8.0,8.0,8.0,7.0,8.0,7.0,6.0,6.0,7.0,8.0,8.0,7.0,6.0,5.0,4.0,4.0,3.0,3.0,2.0,3.0,2.0,1.0,0.0,0.0,0.0,1.0,0.0,0.0,1.0,1.0,0.0,0.0,0.0],[0.0,1.0,1.0,2.0,2.0,2.0,3.0,3.0,4.0,5.0,5.0,5.0,4.0,3.0,2.0,3.0,2.0,2.0,3.0,4.0,5.0,4.0,4.0,5.0,6.0,6.0,7.0,7.0,6.0,6.0,7.0,6.0,7.0,8.0,8.0,8.0,8.0,8.0,7.0,8.0,7.0,6.0,6.0,7.0,8.0,8.0,7.0,6.0,5.0,4.0,4.0,3.0,3.0,2.0,3.0,2.0,1.0,0.0,0.0,0.0,0.0,1.0,0.0,0.0,1.0,1.0,0.0,0.0,0.0],[0.0,1.0,1.0,2.0,2.0,2.0,3.0,3.0,4.0,5.0,5.0,5.0,4.0,4.0,3.0,2.0,3.0,2.0,2.0,3.0,4.0,5.0,4.0,4.0,5.0,6.0,6.0,7.0,7.0,6.0,6.0,7.0,6.0,7.0,8.0,8.0,8.0,8.0,8.0,7.0,8.0,7.0,6.0,6.0,7.0,8.0,8.0,7.0,6.0,5.0,4.0,4.0,3.0,3.0,2.0,3.0,2.0,1.0,0.0,0.0,0.0,0.0,1.0,0.0,0.0,1.0,1.0,0.0,0.0,0.0],[0.0,1.0,1.0,2.0,2.0,2.0,3.0,3.0,4.0,5.0,5.0,5.0,4.0,4.0,3.0,2.0,3.0,2.0,2.0,3.0,4.0,5.0,4.0,4.0,5.0,6.0,6.0,7.0,7.0,7.0,6.0,6.0,7.0,6.0,7.0,8.0,8.0,8.0,8.0,8.0,7.0,8.0,7.0,6.0,6.0,7.0,8.0,8.0,7.0,6.0,5.0,4.0,4.0,3.0,3.0,2.0,3.0,2.0,1.0,0.0,0.0,0.0,0.0,1.0,0.0,0.0,1.0,1.0,0.0,0.0,0.0],[0.0,1.0,1.0,2.0,2.0,2.0,3.0,3.0,4.0,5.0,5.0,5.0,4.0,4.0,3.0,2.0,3.0,2.0,2.0,3.0,4.0,5.0,4.0,4.0,5.0,6.0,6.0,7.0,7.0,7.0,6.0,6.0,7.0,6.0,7.0,8.0,8.0,8.0,8.0,8.0,8.0,7.0,8.0,7.0,6.0,6.0,7.0,8.0,8.0,7.0,6.0,5.0,4.0,4.0,3.0,3.0,2.0,3.0,2.0,1.0,0.0,0.0,0.0,0.0,1.0,0.0,0.0,1.0,1.0,0.0,0.0,0.0],[0.0,1.0,1.0,2.0,2.0,2.0,3.0,3.0,4.0,5.0,5.0,5.0,4.0,4.0,3.0,2.0,3.0,2.0,2.0,3.0,4.0,5.0,4.0,4.0,5.0,6.0,6.0,7.0,7.0,7.0,6.0,6.0,7.0,6.0,7.0,8.0,8.0,8.0,8.0,8.0,8.0,7.0,8.0,7.0,6.0,6.0,7.0,8.0,8.0,7.0,6.0,5.0,4.0,4.0,3.0,3.0,2.0,3.0,2.0,1.0,0.0,0.0,0.0,0.0,1.0,1.0,0.0,0.0,1.0,1.0,0.0,0.0,0.0],[0.0,1.0,1.0,2.0,2.0,2.0,3.0,3.0,3.0,4.0,5.0,5.0,5.0,4.0,4.0,3.0,2.0,3.0,2.0,2.0,3.0,4.0,5.0,4.0,4.0,5.0,6.0,6.0,7.0,7.0,7.0,6.0,6.0,7.0,6.0,7.0,8.0,8.0,8.0,8.0,8.0,8.0,7.0,8.0,7.0,6.0,6.0,7.0,8.0,8.0,7.0,6.0,5.0,4.0,4.0,3.0,3.0,2.0,3.0,2.0,1.0,0.0,0.0,0.0,0.0,1.0,1.0,0.0,0.0,1.0,1.0,0.0,0.0,0.0],[0.0,1.0,1.0,2.0,2.0,2.0,3.0,3.0,3.0,4.0,5.0,5.0,5.0,4.0,4.0,3.0,2.0,3.0,2.0,2.0,3.0,4.0,5.0,4.0,4.0,5.0,5.0,6.0,6.0,7.0,7.0,7.0,6.0,6.0,7.0,6.0,7.0,8.0,8.0,8.0,8.0,8.0,8.0,7.0,8.0,7.0,6.0,6.0,7.0,8.0,8.0,7.0,6.0,5.0,4.0,4.0,3.0,3.0,2.0,3.0,2.0,1.0,0.0,0.0,0.0,0.0,1.0,1.0,0.0,0.0,1.0,1.0,0.0,0.0,0.0],[0.0,1.0,1.0,2.0,2.0,2.0,3.0,3.0,3.0,4.0,5.0,5.0,5.0,4.0,4.0,3.0,2.0,3.0,2.0,2.0,3.0,4.0,5.0,4.0,4.0,5.0,5.0,6.0,6.0,7.0,7.0,7.0,6.0,6.0,7.0,6.0,7.0,8.0,8.0,8.0,8.0,8.0,8.0,7.0,8.0,7.0,6.0,6.0,7.0,8.0,8.0,7.0,6.0,5.0,4.0,4.0,3.0,3.0,2.0,3.0,2.0,1.0,1.0,0.0,0.0,0.0,0.0,1.0,1.0,0.0,0.0,1.0,1.0,0.0,0.0,0.0],[0.0,1.0,1.0,2.0,2.0,2.0,3.0,3.0,3.0,4.0,5.0,5.0,6.0,5.0,4.0,4.0,3.0,2.0,3.0,2.0,2.0,3.0,4.0,5.0,4.0,4.0,5.0,5.0,6.0,6.0,7.0,7.0,7.0,6.0,6.0,7.0,6.0,7.0,8.0,8.0,8.0,8.0,8.0,8.0,7.0,8.0,7.0,6.0,6.0,7.0,8.0,8.0,7.0,6.0,5.0,4.0,4.0,3.0,3.0,2.0,3.0,2.0,1.0,1.0,0.0,0.0,0.0,0.0,1.0,1.0,0.0,0.0,1.0,1.0,0.0,0.0,0.0],[0.0,1.0,1.0,2.0,2.0,2.0,3.0,3.0,3.0,4.0,5.0,5.0,6.0,5.0,4.0,4.0,3.0,2.0,3.0,2.0,2.0,3.0,4.0,5.0,4.0,4.0,5.0,5.0,6.0,6.0,7.0,7.0,7.0,6.0,6.0,7.0,6.0,7.0,8.0,8.0,8.0,8.0,8.0,8.0,7.0,8.0,7.0,6.0,6.0,7.0,8.0,8.0,7.0,6.0,5.0,5.0,4.0,4.0,3.0,3.0,2.0,3.0,2.0,1.0,1.0,0.0,0.0,0.0,0.0,1.0,1.0,0.0,0.0,1.0,1.0,0.0,0.0,0.0],[0.0,1.0,1.0,2.0,2.0,2.0,3.0,3.0,3.0,4.0,5.0,5.0,6.0,5.0,4.0,4.0,3.0,2.0,3.0,2.0,2.0,3.0,4.0,5.0,4.0,4.0,5.0,5.0,6.0,6.0,7.0,7.0,7.0,6.0,6.0,7.0,6.0,7.0,8.0,8.0,8.0,8.0,8.0,8.0,7.0,8.0,7.0,6.0,6.0,7.0,8.0,8.0,7.0,6.0,5.0,5.0,4.0,4.0,3.0,3.0,2.0,2.0,3.0,2.0,1.0,1.0,0.0,0.0,0.0,0.0,1.0,1.0,0.0,0.0,1.0,1.0,0.0,0.0,0.0],[0.0,1.0,1.0,2.0,2.0,2.0,3.0,3.0,3.0,4.0,5.0,5.0,5.0,6.0,5.0,4.0,4.0,3.0,2.0,3.0,2.0,2.0,3.0,4.0,5.0,4.0,4.0,5.0,5.0,6.0,6.0,7.0,7.0,7.0,6.0,6.0,7.0,6.0,7.0,8.0,8.0,8.0,8.0,8.0,8.0,7.0,8.0,7.0,6.0,6.0,7.0,8.0,8.0,7.0,6.0,5.0,5.0,4.0,4.0,3.0,3.0,2.0,2.0,3.0,2.0,1.0,1.0,0.0,0.0,0.0,0.0,1.0,1.0,0.0,0.0,1.0,1.0,0.0,0.0,0.0],[0.0,1.0,1.0,2.0,2.0,2.0,3.0,4.0,3.0,3.0,4.0,5.0,5.0,5.0,6.0,5.0,4.0,4.0,3.0,2.0,3.0,2.0,2.0,3.0,4.0,5.0,4.0,4.0,5.0,5.0,6.0,6.0,7.0,7.0,7.0,6.0,6.0,7.0,6.0,7.0,8.0,8.0,8.0,8.0,8.0,8.0,7.0,8.0,7.0,6.0,6.0,7.0,8.0,8.0,7.0,6.0,5.0,5.0,4.0,4.0,3.0,3.0,2.0,2.0,3.0,2.0,1.0,1.0,0.0,0.0,0.0,0.0,1.0,1.0,0.0,0.0,1.0,1.0,0.0,0.0,0.0],[0.0,1.0,1.0,2.0,2.0,2.0,3.0,4.0,3.0,3.0,4.0,5.0,5.0,5.0,6.0,5.0,4.0,4.0,3.0,2.0,3.0,2.0,2.0,3.0,4.0,5.0,4.0,4.0,5.0,5.0,6.0,6.0,7.0,7.0,7.0,6.0,6.0,7.0,6.0,7.0,8.0,8.0,8.0,8.0,8.0,8.0,7.0,8.0,7.0,6.0,6.0,7.0,8.0,8.0,7.0,6.0,5.0,5.0,4.0,4.0,3.0,3.0,2.0,2.0,3.0,2.0,1.0,1.0,1.0,0.0,0.0,0.0,0.0,1.0,1.0,0.0,0.0,1.0,1.0,0.0,0.0,0.0],[0.0,1.0,1.0,2.0,2.0,2.0,3.0,4.0,3.0,3.0,4.0,5.0,5.0,5.0,6.0,5.0,4.0,4.0,3.0,2.0,3.0,2.0,2.0,3.0,4.0,5.0,4.0,4.0,5.0,5.0,6.0,6.0,7.0,7.0,7.0,6.0,6.0,7.0,6.0,7.0,8.0,8.0,8.0,8.0,8.0,8.0,7.0,8.0,7.0,6.0,6.0,7.0,8.0,8.0,7.0,6.0,5.0,5.0,4.0,4.0,3.0,3.0,2.0,2.0,3.0,2.0,1.0,1.0,1.0,0.0,0.0,0.0,0.0,1.0,1.0,0.0,0.0,1.0,1.0,0.0,0.0,0.0]],\"edges_y\":[[0.0,8.0,0.0],[0.0,0.0,8.0,0.0],[0.0,0.0,8.0,8.0,0.0],[0.0,4.0,0.0,8.0,8.0,0.0],[0.0,4.0,0.0,4.0,8.0,8.0,0.0],[0.0,0.0,4.0,0.0,4.0,8.0,8.0,0.0],[0.0,0.0,4.0,0.0,4.0,8.0,8.0,4.0,0.0],[0.0,0.0,4.0,0.0,4.0,8.0,8.0,8.0,4.0,0.0],[0.0,0.0,4.0,0.0,4.0,6.0,8.0,8.0,8.0,4.0,0.0],[0.0,0.0,4.0,2.0,0.0,4.0,6.0,8.0,8.0,8.0,4.0,0.0],[0.0,0.0,4.0,2.0,0.0,4.0,6.0,8.0,8.0,6.0,8.0,4.0,0.0],[0.0,2.0,0.0,4.0,2.0,0.0,4.0,6.0,8.0,8.0,6.0,8.0,4.0,0.0],[0.0,2.0,0.0,4.0,2.0,0.0,4.0,6.0,8.0,8.0,6.0,8.0,4.0,2.0,0.0],[0.0,2.0,0.0,4.0,2.0,0.0,2.0,4.0,6.0,8.0,8.0,6.0,8.0,4.0,2.0,0.0],[0.0,2.0,0.0,4.0,2.0,0.0,2.0,4.0,6.0,8.0,8.0,6.0,8.0,6.0,4.0,2.0,0.0],[0.0,2.0,0.0,4.0,4.0,2.0,0.0,2.0,4.0,6.0,8.0,8.0,6.0,8.0,6.0,4.0,2.0,0.0],[0.0,2.0,0.0,4.0,4.0,2.0,0.0,2.0,4.0,6.0,8.0,8.0,8.0,6.0,8.0,6.0,4.0,2.0,0.0],[0.0,2.0,0.0,4.0,4.0,2.0,0.0,0.0,2.0,4.0,6.0,8.0,8.0,8.0,6.0,8.0,6.0,4.0,2.0,0.0],[0.0,2.0,0.0,2.0,4.0,4.0,2.0,0.0,0.0,2.0,4.0,6.0,8.0,8.0,8.0,6.0,8.0,6.0,4.0,2.0,0.0],[0.0,2.0,0.0,2.0,4.0,4.0,2.0,0.0,0.0,2.0,4.0,6.0,8.0,8.0,8.0,8.0,6.0,8.0,6.0,4.0,2.0,0.0],[0.0,2.0,0.0,2.0,4.0,4.0,2.0,0.0,0.0,2.0,4.0,6.0,6.0,8.0,8.0,8.0,8.0,6.0,8.0,6.0,4.0,2.0,0.0],[0.0,0.0,2.0,0.0,2.0,4.0,4.0,2.0,0.0,0.0,2.0,4.0,6.0,6.0,8.0,8.0,8.0,8.0,6.0,8.0,6.0,4.0,2.0,0.0],[0.0,0.0,2.0,0.0,2.0,4.0,6.0,4.0,2.0,0.0,0.0,2.0,4.0,6.0,6.0,8.0,8.0,8.0,8.0,6.0,8.0,6.0,4.0,2.0,0.0],[0.0,0.0,2.0,0.0,2.0,4.0,4.0,6.0,4.0,2.0,0.0,0.0,2.0,4.0,6.0,6.0,8.0,8.0,8.0,8.0,6.0,8.0,6.0,4.0,2.0,0.0],[0.0,0.0,2.0,0.0,2.0,4.0,4.0,6.0,4.0,2.0,1.0,0.0,0.0,2.0,4.0,6.0,6.0,8.0,8.0,8.0,8.0,6.0,8.0,6.0,4.0,2.0,0.0],[0.0,0.0,2.0,0.0,2.0,4.0,4.0,6.0,4.0,2.0,1.0,0.0,0.0,2.0,4.0,6.0,6.0,8.0,8.0,8.0,8.0,6.0,8.0,6.0,4.0,3.0,2.0,0.0],[0.0,0.0,2.0,0.0,2.0,4.0,4.0,6.0,5.0,4.0,2.0,1.0,0.0,0.0,2.0,4.0,6.0,6.0,8.0,8.0,8.0,8.0,6.0,8.0,6.0,4.0,3.0,2.0,0.0],[0.0,0.0,2.0,0.0,2.0,4.0,4.0,6.0,5.0,4.0,2.0,1.0,0.0,0.0,2.0,4.0,6.0,6.0,8.0,8.0,7.0,8.0,8.0,6.0,8.0,6.0,4.0,3.0,2.0,0.0],[0.0,0.0,2.0,0.0,2.0,3.0,4.0,4.0,6.0,5.0,4.0,2.0,1.0,0.0,0.0,2.0,4.0,6.0,6.0,8.0,8.0,7.0,8.0,8.0,6.0,8.0,6.0,4.0,3.0,2.0,0.0],[0.0,0.0,2.0,0.0,2.0,3.0,4.0,4.0,6.0,5.0,4.0,2.0,1.0,0.0,0.0,2.0,4.0,6.0,6.0,7.0,8.0,8.0,7.0,8.0,8.0,6.0,8.0,6.0,4.0,3.0,2.0,0.0],[0.0,0.0,2.0,0.0,2.0,3.0,4.0,5.0,4.0,6.0,5.0,4.0,2.0,1.0,0.0,0.0,2.0,4.0,6.0,6.0,7.0,8.0,8.0,7.0,8.0,8.0,6.0,8.0,6.0,4.0,3.0,2.0,0.0],[0.0,0.0,2.0,0.0,2.0,3.0,4.0,5.0,4.0,6.0,5.0,4.0,2.0,1.0,0.0,0.0,2.0,4.0,6.0,6.0,7.0,8.0,8.0,7.0,8.0,8.0,6.0,7.0,8.0,6.0,4.0,3.0,2.0,0.0],[0.0,0.0,2.0,0.0,2.0,3.0,4.0,5.0,4.0,6.0,5.0,4.0,2.0,1.0,0.0,0.0,2.0,4.0,5.0,6.0,6.0,7.0,8.0,8.0,7.0,8.0,8.0,6.0,7.0,8.0,6.0,4.0,3.0,2.0,0.0],[0.0,0.0,2.0,0.0,1.0,2.0,3.0,4.0,5.0,4.0,6.0,5.0,4.0,2.0,1.0,0.0,0.0,2.0,4.0,5.0,6.0,6.0,7.0,8.0,8.0,7.0,8.0,8.0,6.0,7.0,8.0,6.0,4.0,3.0,2.0,0.0],[0.0,0.0,2.0,0.0,1.0,2.0,3.0,4.0,5.0,4.0,6.0,5.0,4.0,3.0,2.0,1.0,0.0,0.0,2.0,4.0,5.0,6.0,6.0,7.0,8.0,8.0,7.0,8.0,8.0,6.0,7.0,8.0,6.0,4.0,3.0,2.0,0.0],[0.0,0.0,2.0,0.0,1.0,2.0,3.0,4.0,5.0,4.0,6.0,5.0,4.0,3.0,2.0,1.0,0.0,0.0,2.0,4.0,5.0,6.0,6.0,7.0,8.0,8.0,7.0,8.0,7.0,8.0,6.0,7.0,8.0,6.0,4.0,3.0,2.0,0.0],[0.0,0.0,2.0,1.0,0.0,1.0,2.0,3.0,4.0,5.0,4.0,6.0,5.0,4.0,3.0,2.0,1.0,0.0,0.0,2.0,4.0,5.0,6.0,6.0,7.0,8.0,8.0,7.0,8.0,7.0,8.0,6.0,7.0,8.0,6.0,4.0,3.0,2.0,0.0],[0.0,0.0,2.0,1.0,0.0,1.0,2.0,3.0,4.0,5.0,4.0,6.0,5.0,4.0,3.0,2.0,1.0,0.0,0.0,2.0,4.0,5.0,6.0,6.0,7.0,8.0,8.0,7.0,8.0,7.0,8.0,6.0,7.0,8.0,6.0,5.0,4.0,3.0,2.0,0.0],[0.0,1.0,0.0,2.0,1.0,0.0,1.0,2.0,3.0,4.0,5.0,4.0,6.0,5.0,4.0,3.0,2.0,1.0,0.0,0.0,2.0,4.0,5.0,6.0,6.0,7.0,8.0,8.0,7.0,8.0,7.0,8.0,6.0,7.0,8.0,6.0,5.0,4.0,3.0,2.0,0.0],[0.0,1.0,0.0,2.0,1.0,0.0,1.0,3.0,2.0,3.0,4.0,5.0,4.0,6.0,5.0,4.0,3.0,2.0,1.0,0.0,0.0,2.0,4.0,5.0,6.0,6.0,7.0,8.0,8.0,7.0,8.0,7.0,8.0,6.0,7.0,8.0,6.0,5.0,4.0,3.0,2.0,0.0],[0.0,0.0,1.0,0.0,2.0,1.0,0.0,1.0,3.0,2.0,3.0,4.0,5.0,4.0,6.0,5.0,4.0,3.0,2.0,1.0,0.0,0.0,2.0,4.0,5.0,6.0,6.0,7.0,8.0,8.0,7.0,8.0,7.0,8.0,6.0,7.0,8.0,6.0,5.0,4.0,3.0,2.0,0.0],[0.0,0.0,1.0,0.0,2.0,1.0,0.0,1.0,3.0,2.0,3.0,4.0,5.0,5.0,4.0,6.0,5.0,4.0,3.0,2.0,1.0,0.0,0.0,2.0,4.0,5.0,6.0,6.0,7.0,8.0,8.0,7.0,8.0,7.0,8.0,6.0,7.0,8.0,6.0,5.0,4.0,3.0,2.0,0.0],[0.0,0.0,1.0,0.0,2.0,1.0,0.0,1.0,3.0,2.0,3.0,4.0,5.0,5.0,4.0,6.0,5.0,4.0,3.0,2.0,1.0,0.0,0.0,2.0,4.0,5.0,6.0,6.0,7.0,7.0,8.0,8.0,7.0,8.0,7.0,8.0,6.0,7.0,8.0,6.0,5.0,4.0,3.0,2.0,0.0],[0.0,0.0,1.0,0.0,2.0,1.0,0.0,1.0,3.0,2.0,3.0,4.0,5.0,5.0,4.0,6.0,5.0,5.0,4.0,3.0,2.0,1.0,0.0,0.0,2.0,4.0,5.0,6.0,6.0,7.0,7.0,8.0,8.0,7.0,8.0,7.0,8.0,6.0,7.0,8.0,6.0,5.0,4.0,3.0,2.0,0.0],[0.0,0.0,1.0,0.0,2.0,1.0,0.0,1.0,3.0,2.0,3.0,4.0,5.0,5.0,4.0,4.0,6.0,5.0,5.0,4.0,3.0,2.0,1.0,0.0,0.0,2.0,4.0,5.0,6.0,6.0,7.0,7.0,8.0,8.0,7.0,8.0,7.0,8.0,6.0,7.0,8.0,6.0,5.0,4.0,3.0,2.0,0.0],[0.0,0.0,1.0,0.0,2.0,1.0,0.0,1.0,3.0,2.0,3.0,4.0,4.0,5.0,5.0,4.0,4.0,6.0,5.0,5.0,4.0,3.0,2.0,1.0,0.0,0.0,2.0,4.0,5.0,6.0,6.0,7.0,7.0,8.0,8.0,7.0,8.0,7.0,8.0,6.0,7.0,8.0,6.0,5.0,4.0,3.0,2.0,0.0],[0.0,0.0,1.0,0.0,2.0,1.0,0.0,1.0,3.0,2.0,3.0,4.0,4.0,5.0,5.0,4.0,4.0,6.0,5.0,5.0,4.0,3.0,2.0,1.0,0.0,0.0,2.0,4.0,5.0,6.0,6.0,7.0,7.0,8.0,8.0,7.0,8.0,7.0,8.0,6.0,7.0,8.0,7.0,6.0,5.0,4.0,3.0,2.0,0.0],[0.0,0.0,1.0,0.0,2.0,1.0,0.0,1.0,3.0,2.0,3.0,4.0,4.0,5.0,5.0,4.0,4.0,6.0,5.0,5.0,4.0,3.0,2.0,1.0,0.0,0.0,2.0,4.0,5.0,6.0,6.0,7.0,7.0,8.0,8.0,7.0,8.0,7.0,8.0,6.0,7.0,8.0,7.0,6.0,5.0,4.0,3.0,2.0,2.0,0.0],[0.0,0.0,1.0,0.0,2.0,1.0,0.0,1.0,3.0,2.0,3.0,4.0,4.0,5.0,5.0,4.0,4.0,6.0,5.0,5.0,4.0,3.0,2.0,1.0,1.0,0.0,0.0,2.0,4.0,5.0,6.0,6.0,7.0,7.0,8.0,8.0,7.0,8.0,7.0,8.0,6.0,7.0,8.0,7.0,6.0,5.0,4.0,3.0,2.0,2.0,0.0],[0.0,0.0,1.0,0.0,1.0,2.0,1.0,0.0,1.0,3.0,2.0,3.0,4.0,4.0,5.0,5.0,4.0,4.0,6.0,5.0,5.0,4.0,3.0,2.0,1.0,1.0,0.0,0.0,2.0,4.0,5.0,6.0,6.0,7.0,7.0,8.0,8.0,7.0,8.0,7.0,8.0,6.0,7.0,8.0,7.0,6.0,5.0,4.0,3.0,2.0,2.0,0.0],[0.0,0.0,1.0,0.0,1.0,2.0,1.0,0.0,1.0,3.0,2.0,3.0,4.0,4.0,5.0,5.0,4.0,4.0,6.0,5.0,5.0,4.0,3.0,2.0,1.0,1.0,0.0,0.0,2.0,4.0,5.0,6.0,6.0,7.0,7.0,8.0,8.0,7.0,7.0,8.0,7.0,8.0,6.0,7.0,8.0,7.0,6.0,5.0,4.0,3.0,2.0,2.0,0.0],[0.0,0.0,1.0,0.0,1.0,2.0,1.0,0.0,1.0,3.0,2.0,3.0,3.0,4.0,4.0,5.0,5.0,4.0,4.0,6.0,5.0,5.0,4.0,3.0,2.0,1.0,1.0,0.0,0.0,2.0,4.0,5.0,6.0,6.0,7.0,7.0,8.0,8.0,7.0,7.0,8.0,7.0,8.0,6.0,7.0,8.0,7.0,6.0,5.0,4.0,3.0,2.0,2.0,0.0],[0.0,0.0,1.0,0.0,1.0,2.0,1.0,0.0,1.0,3.0,2.0,3.0,3.0,4.0,4.0,5.0,5.0,4.0,4.0,6.0,5.0,5.0,4.0,3.0,2.0,1.0,1.0,0.0,0.0,2.0,4.0,5.0,6.0,6.0,7.0,7.0,8.0,8.0,8.0,7.0,7.0,8.0,7.0,8.0,6.0,7.0,8.0,7.0,6.0,5.0,4.0,3.0,2.0,2.0,0.0],[0.0,0.0,1.0,0.0,1.0,2.0,1.0,0.0,1.0,3.0,2.0,3.0,3.0,4.0,4.0,5.0,5.0,4.0,4.0,6.0,5.0,5.0,4.0,3.0,2.0,1.0,1.0,0.0,0.0,2.0,4.0,5.0,6.0,6.0,7.0,7.0,8.0,8.0,8.0,7.0,7.0,8.0,7.0,8.0,6.0,7.0,8.0,7.0,6.0,5.0,4.0,3.0,3.0,2.0,2.0,0.0],[0.0,0.0,1.0,0.0,1.0,2.0,1.0,0.0,1.0,3.0,2.0,3.0,3.0,4.0,4.0,5.0,5.0,4.0,4.0,6.0,5.0,5.0,4.0,3.0,2.0,1.0,1.0,0.0,0.0,0.0,2.0,4.0,5.0,6.0,6.0,7.0,7.0,8.0,8.0,8.0,7.0,7.0,8.0,7.0,8.0,6.0,7.0,8.0,7.0,6.0,5.0,4.0,3.0,3.0,2.0,2.0,0.0],[0.0,0.0,1.0,0.0,1.0,2.0,1.0,0.0,1.0,3.0,2.0,3.0,3.0,4.0,4.0,5.0,5.0,4.0,4.0,6.0,5.0,5.0,4.0,3.0,2.0,1.0,1.0,0.0,0.0,0.0,2.0,4.0,5.0,5.0,6.0,6.0,7.0,7.0,8.0,8.0,8.0,7.0,7.0,8.0,7.0,8.0,6.0,7.0,8.0,7.0,6.0,5.0,4.0,3.0,3.0,2.0,2.0,0.0],[0.0,0.0,1.0,0.0,1.0,2.0,1.0,0.0,1.0,3.0,2.0,3.0,3.0,4.0,4.0,5.0,5.0,4.0,4.0,6.0,5.0,5.0,4.0,3.0,2.0,1.0,1.0,0.0,0.0,0.0,2.0,4.0,5.0,5.0,6.0,6.0,7.0,7.0,8.0,8.0,8.0,7.0,7.0,8.0,7.0,8.0,6.0,7.0,8.0,7.0,6.0,5.0,4.0,3.0,3.0,2.0,2.0,1.0,0.0],[0.0,0.0,1.0,0.0,1.0,2.0,1.0,0.0,1.0,3.0,2.0,3.0,3.0,4.0,4.0,5.0,5.0,4.0,4.0,5.0,6.0,5.0,5.0,4.0,3.0,2.0,1.0,1.0,0.0,0.0,0.0,2.0,4.0,5.0,5.0,6.0,6.0,7.0,7.0,8.0,8.0,8.0,7.0,7.0,8.0,7.0,8.0,6.0,7.0,8.0,7.0,6.0,5.0,4.0,3.0,3.0,2.0,2.0,1.0,0.0],[0.0,0.0,1.0,0.0,1.0,2.0,1.0,0.0,1.0,3.0,2.0,3.0,3.0,4.0,4.0,5.0,5.0,4.0,4.0,5.0,6.0,5.0,5.0,4.0,3.0,2.0,1.0,1.0,0.0,0.0,0.0,2.0,4.0,5.0,5.0,6.0,6.0,7.0,7.0,8.0,8.0,8.0,7.0,7.0,8.0,7.0,8.0,6.0,6.0,7.0,8.0,7.0,6.0,5.0,4.0,3.0,3.0,2.0,2.0,1.0,0.0],[0.0,0.0,1.0,0.0,1.0,2.0,1.0,0.0,1.0,3.0,2.0,3.0,3.0,4.0,4.0,5.0,5.0,4.0,4.0,5.0,6.0,5.0,5.0,4.0,3.0,2.0,1.0,1.0,0.0,0.0,0.0,2.0,3.0,4.0,5.0,5.0,6.0,6.0,7.0,7.0,8.0,8.0,8.0,7.0,7.0,8.0,7.0,8.0,6.0,6.0,7.0,8.0,7.0,6.0,5.0,4.0,3.0,3.0,2.0,2.0,1.0,0.0],[0.0,0.0,1.0,0.0,1.0,2.0,1.0,0.0,1.0,2.0,3.0,2.0,3.0,3.0,4.0,4.0,5.0,5.0,4.0,4.0,5.0,6.0,5.0,5.0,4.0,3.0,2.0,1.0,1.0,0.0,0.0,0.0,2.0,3.0,4.0,5.0,5.0,6.0,6.0,7.0,7.0,8.0,8.0,8.0,7.0,7.0,8.0,7.0,8.0,6.0,6.0,7.0,8.0,7.0,6.0,5.0,4.0,3.0,3.0,2.0,2.0,1.0,0.0],[0.0,0.0,1.0,0.0,1.0,2.0,1.0,0.0,1.0,2.0,3.0,2.0,3.0,3.0,4.0,4.0,5.0,5.0,4.0,4.0,5.0,6.0,5.0,5.0,4.0,4.0,3.0,2.0,1.0,1.0,0.0,0.0,0.0,2.0,3.0,4.0,5.0,5.0,6.0,6.0,7.0,7.0,8.0,8.0,8.0,7.0,7.0,8.0,7.0,8.0,6.0,6.0,7.0,8.0,7.0,6.0,5.0,4.0,3.0,3.0,2.0,2.0,1.0,0.0],[0.0,0.0,1.0,0.0,1.0,2.0,1.0,0.0,0.0,1.0,2.0,3.0,2.0,3.0,3.0,4.0,4.0,5.0,5.0,4.0,4.0,5.0,6.0,5.0,5.0,4.0,4.0,3.0,2.0,1.0,1.0,0.0,0.0,0.0,2.0,3.0,4.0,5.0,5.0,6.0,6.0,7.0,7.0,8.0,8.0,8.0,7.0,7.0,8.0,7.0,8.0,6.0,6.0,7.0,8.0,7.0,6.0,5.0,4.0,3.0,3.0,2.0,2.0,1.0,0.0],[0.0,0.0,1.0,0.0,1.0,2.0,1.0,0.0,0.0,1.0,2.0,3.0,2.0,3.0,3.0,4.0,4.0,5.0,5.0,4.0,4.0,5.0,6.0,5.0,5.0,4.0,4.0,3.0,2.0,1.0,1.0,0.0,0.0,0.0,2.0,3.0,4.0,5.0,5.0,6.0,6.0,7.0,7.0,8.0,8.0,8.0,7.0,7.0,8.0,8.0,7.0,8.0,6.0,6.0,7.0,8.0,7.0,6.0,5.0,4.0,3.0,3.0,2.0,2.0,1.0,0.0],[0.0,0.0,1.0,0.0,1.0,2.0,1.0,0.0,0.0,1.0,2.0,3.0,2.0,3.0,3.0,4.0,4.0,5.0,5.0,4.0,4.0,5.0,6.0,5.0,5.0,4.0,4.0,3.0,2.0,1.0,1.0,0.0,0.0,0.0,2.0,3.0,4.0,5.0,5.0,6.0,6.0,7.0,7.0,7.0,8.0,8.0,8.0,7.0,7.0,8.0,8.0,7.0,8.0,6.0,6.0,7.0,8.0,7.0,6.0,5.0,4.0,3.0,3.0,2.0,2.0,1.0,0.0],[0.0,0.0,1.0,0.0,1.0,2.0,1.0,0.0,0.0,1.0,2.0,3.0,2.0,3.0,3.0,4.0,4.0,5.0,5.0,4.0,4.0,5.0,6.0,5.0,5.0,4.0,4.0,3.0,2.0,1.0,1.0,0.0,0.0,0.0,2.0,3.0,4.0,5.0,5.0,6.0,6.0,6.0,7.0,7.0,7.0,8.0,8.0,8.0,7.0,7.0,8.0,8.0,7.0,8.0,6.0,6.0,7.0,8.0,7.0,6.0,5.0,4.0,3.0,3.0,2.0,2.0,1.0,0.0],[0.0,0.0,1.0,0.0,1.0,2.0,1.0,0.0,0.0,1.0,2.0,3.0,2.0,3.0,3.0,4.0,4.0,5.0,5.0,4.0,4.0,5.0,6.0,5.0,5.0,4.0,4.0,3.0,2.0,1.0,1.0,0.0,0.0,0.0,2.0,3.0,4.0,5.0,5.0,6.0,6.0,6.0,7.0,7.0,7.0,8.0,8.0,8.0,7.0,7.0,8.0,8.0,7.0,8.0,6.0,6.0,7.0,8.0,7.0,6.0,5.0,5.0,4.0,3.0,3.0,2.0,2.0,1.0,0.0],[0.0,0.0,1.0,0.0,1.0,2.0,1.0,0.0,0.0,1.0,2.0,3.0,3.0,2.0,3.0,3.0,4.0,4.0,5.0,5.0,4.0,4.0,5.0,6.0,5.0,5.0,4.0,4.0,3.0,2.0,1.0,1.0,0.0,0.0,0.0,2.0,3.0,4.0,5.0,5.0,6.0,6.0,6.0,7.0,7.0,7.0,8.0,8.0,8.0,7.0,7.0,8.0,8.0,7.0,8.0,6.0,6.0,7.0,8.0,7.0,6.0,5.0,5.0,4.0,3.0,3.0,2.0,2.0,1.0,0.0],[0.0,0.0,1.0,0.0,1.0,2.0,1.0,0.0,0.0,1.0,2.0,3.0,3.0,2.0,3.0,3.0,4.0,4.0,5.0,5.0,4.0,4.0,5.0,6.0,5.0,5.0,4.0,4.0,3.0,2.0,2.0,1.0,1.0,0.0,0.0,0.0,2.0,3.0,4.0,5.0,5.0,6.0,6.0,6.0,7.0,7.0,7.0,8.0,8.0,8.0,7.0,7.0,8.0,8.0,7.0,8.0,6.0,6.0,7.0,8.0,7.0,6.0,5.0,5.0,4.0,3.0,3.0,2.0,2.0,1.0,0.0],[0.0,0.0,1.0,0.0,1.0,2.0,1.0,0.0,0.0,1.0,2.0,3.0,3.0,2.0,3.0,3.0,4.0,4.0,5.0,5.0,4.0,4.0,5.0,6.0,5.0,5.0,4.0,4.0,3.0,2.0,2.0,1.0,1.0,0.0,0.0,0.0,1.0,2.0,3.0,4.0,5.0,5.0,6.0,6.0,6.0,7.0,7.0,7.0,8.0,8.0,8.0,7.0,7.0,8.0,8.0,7.0,8.0,6.0,6.0,7.0,8.0,7.0,6.0,5.0,5.0,4.0,3.0,3.0,2.0,2.0,1.0,0.0],[0.0,0.0,1.0,0.0,1.0,2.0,1.0,0.0,0.0,1.0,2.0,3.0,3.0,2.0,3.0,3.0,4.0,4.0,5.0,5.0,4.0,4.0,5.0,6.0,5.0,5.0,4.0,4.0,3.0,2.0,2.0,1.0,1.0,0.0,0.0,0.0,1.0,2.0,3.0,4.0,5.0,5.0,6.0,6.0,6.0,7.0,7.0,7.0,8.0,8.0,8.0,7.0,7.0,8.0,8.0,7.0,8.0,6.0,6.0,7.0,8.0,7.0,6.0,5.0,5.0,4.0,4.0,3.0,3.0,2.0,2.0,1.0,0.0],[0.0,0.0,1.0,0.0,1.0,2.0,2.0,1.0,0.0,0.0,1.0,2.0,3.0,3.0,2.0,3.0,3.0,4.0,4.0,5.0,5.0,4.0,4.0,5.0,6.0,5.0,5.0,4.0,4.0,3.0,2.0,2.0,1.0,1.0,0.0,0.0,0.0,1.0,2.0,3.0,4.0,5.0,5.0,6.0,6.0,6.0,7.0,7.0,7.0,8.0,8.0,8.0,7.0,7.0,8.0,8.0,7.0,8.0,6.0,6.0,7.0,8.0,7.0,6.0,5.0,5.0,4.0,4.0,3.0,3.0,2.0,2.0,1.0,0.0],[0.0,0.0,1.0,0.0,1.0,2.0,2.0,1.0,0.0,0.0,1.0,2.0,3.0,3.0,2.0,3.0,3.0,4.0,4.0,5.0,5.0,4.0,4.0,5.0,6.0,6.0,5.0,5.0,4.0,4.0,3.0,2.0,2.0,1.0,1.0,0.0,0.0,0.0,1.0,2.0,3.0,4.0,5.0,5.0,6.0,6.0,6.0,7.0,7.0,7.0,8.0,8.0,8.0,7.0,7.0,8.0,8.0,7.0,8.0,6.0,6.0,7.0,8.0,7.0,6.0,5.0,5.0,4.0,4.0,3.0,3.0,2.0,2.0,1.0,0.0],[0.0,0.0,1.0,0.0,1.0,2.0,2.0,1.0,0.0,0.0,1.0,2.0,3.0,3.0,2.0,3.0,3.0,4.0,4.0,5.0,5.0,4.0,4.0,5.0,6.0,6.0,5.0,5.0,4.0,4.0,3.0,2.0,2.0,1.0,1.0,0.0,0.0,0.0,1.0,2.0,3.0,4.0,5.0,5.0,6.0,6.0,6.0,7.0,7.0,7.0,8.0,8.0,8.0,7.0,7.0,8.0,8.0,7.0,8.0,6.0,6.0,6.0,7.0,8.0,7.0,6.0,5.0,5.0,4.0,4.0,3.0,3.0,2.0,2.0,1.0,0.0],[0.0,0.0,1.0,0.0,1.0,2.0,2.0,1.0,0.0,0.0,1.0,2.0,3.0,3.0,3.0,2.0,3.0,3.0,4.0,4.0,5.0,5.0,4.0,4.0,5.0,6.0,6.0,5.0,5.0,4.0,4.0,3.0,2.0,2.0,1.0,1.0,0.0,0.0,0.0,1.0,2.0,3.0,4.0,5.0,5.0,6.0,6.0,6.0,7.0,7.0,7.0,8.0,8.0,8.0,7.0,7.0,8.0,8.0,7.0,8.0,6.0,6.0,6.0,7.0,8.0,7.0,6.0,5.0,5.0,4.0,4.0,3.0,3.0,2.0,2.0,1.0,0.0],[0.0,0.0,1.0,0.0,1.0,2.0,2.0,1.0,0.0,0.0,1.0,2.0,3.0,3.0,3.0,2.0,3.0,3.0,4.0,4.0,5.0,5.0,4.0,4.0,5.0,6.0,6.0,5.0,5.0,4.0,4.0,3.0,2.0,2.0,1.0,1.0,0.0,0.0,0.0,1.0,2.0,3.0,4.0,5.0,5.0,6.0,6.0,6.0,7.0,7.0,7.0,8.0,8.0,8.0,8.0,7.0,7.0,8.0,8.0,7.0,8.0,6.0,6.0,6.0,7.0,8.0,7.0,6.0,5.0,5.0,4.0,4.0,3.0,3.0,2.0,2.0,1.0,0.0],[0.0,0.0,1.0,0.0,1.0,2.0,2.0,1.0,0.0,0.0,1.0,2.0,3.0,3.0,3.0,2.0,3.0,3.0,4.0,4.0,5.0,5.0,4.0,4.0,5.0,6.0,6.0,5.0,5.0,4.0,4.0,3.0,2.0,2.0,1.0,1.0,0.0,0.0,0.0,1.0,2.0,3.0,4.0,5.0,5.0,6.0,6.0,6.0,7.0,7.0,7.0,8.0,8.0,8.0,8.0,7.0,7.0,8.0,8.0,7.0,8.0,7.0,6.0,6.0,6.0,7.0,8.0,7.0,6.0,5.0,5.0,4.0,4.0,3.0,3.0,2.0,2.0,1.0,0.0],[0.0,0.0,1.0,0.0,1.0,2.0,2.0,1.0,0.0,0.0,0.0,1.0,2.0,3.0,3.0,3.0,2.0,3.0,3.0,4.0,4.0,5.0,5.0,4.0,4.0,5.0,6.0,6.0,5.0,5.0,4.0,4.0,3.0,2.0,2.0,1.0,1.0,0.0,0.0,0.0,1.0,2.0,3.0,4.0,5.0,5.0,6.0,6.0,6.0,7.0,7.0,7.0,8.0,8.0,8.0,8.0,7.0,7.0,8.0,8.0,7.0,8.0,7.0,6.0,6.0,6.0,7.0,8.0,7.0,6.0,5.0,5.0,4.0,4.0,3.0,3.0,2.0,2.0,1.0,0.0],[0.0,0.0,1.0,0.0,1.0,2.0,2.0,1.0,1.0,0.0,0.0,0.0,1.0,2.0,3.0,3.0,3.0,2.0,3.0,3.0,4.0,4.0,5.0,5.0,4.0,4.0,5.0,6.0,6.0,5.0,5.0,4.0,4.0,3.0,2.0,2.0,1.0,1.0,0.0,0.0,0.0,1.0,2.0,3.0,4.0,5.0,5.0,6.0,6.0,6.0,7.0,7.0,7.0,8.0,8.0,8.0,8.0,7.0,7.0,8.0,8.0,7.0,8.0,7.0,6.0,6.0,6.0,7.0,8.0,7.0,6.0,5.0,5.0,4.0,4.0,3.0,3.0,2.0,2.0,1.0,0.0],[0.0,0.0,1.0,0.0,1.0,2.0,2.0,1.0,1.0,0.0,0.0,0.0,1.0,2.0,3.0,3.0,3.0,2.0,3.0,3.0,4.0,4.0,5.0,5.0,4.0,4.0,5.0,6.0,6.0,5.0,5.0,4.0,4.0,3.0,2.0,2.0,1.0,1.0,0.0,0.0,0.0,1.0,2.0,3.0,4.0,5.0,5.0,6.0,6.0,6.0,7.0,7.0,7.0,8.0,8.0,8.0,8.0,7.0,7.0,8.0,8.0,7.0,8.0,7.0,6.0,6.0,6.0,7.0,8.0,8.0,7.0,6.0,5.0,5.0,4.0,4.0,3.0,3.0,2.0,2.0,1.0,0.0],[0.0,0.0,1.0,0.0,1.0,2.0,2.0,1.0,1.0,0.0,0.0,0.0,1.0,2.0,3.0,3.0,3.0,2.0,3.0,3.0,4.0,4.0,5.0,5.0,4.0,4.0,5.0,6.0,6.0,5.0,5.0,4.0,4.0,3.0,2.0,2.0,1.0,1.0,0.0,0.0,0.0,1.0,2.0,3.0,4.0,5.0,5.0,6.0,6.0,6.0,7.0,7.0,7.0,8.0,8.0,8.0,8.0,7.0,7.0,8.0,8.0,7.0,8.0,7.0,6.0,6.0,6.0,7.0,8.0,8.0,7.0,6.0,5.0,5.0,4.0,4.0,3.0,3.0,2.0,2.0,1.0,0.0]]},\"selected\":{\"id\":\"2598\"},\"selection_policy\":{\"id\":\"2597\"}},\"id\":\"2566\",\"type\":\"ColumnDataSource\"},{\"attributes\":{\"data\":{\"edges_x\":[0.0,8.0,0.0],\"edges_y\":[0.0,8.0,0.0]},\"selected\":{\"id\":\"2590\"},\"selection_policy\":{\"id\":\"2589\"}},\"id\":\"2567\",\"type\":\"ColumnDataSource\"},{\"attributes\":{\"fill_alpha\":{\"value\":0.1},\"fill_color\":{\"value\":\"steelblue\"},\"line_alpha\":{\"value\":0.1},\"line_color\":{\"value\":\"steelblue\"},\"size\":{\"units\":\"screen\",\"value\":8},\"x\":{\"field\":\"x\"},\"y\":{\"field\":\"y\"}},\"id\":\"2575\",\"type\":\"Circle\"},{\"attributes\":{\"fill_color\":{\"value\":\"steelblue\"},\"line_color\":{\"value\":\"steelblue\"},\"size\":{\"units\":\"screen\",\"value\":8},\"x\":{\"field\":\"x\"},\"y\":{\"field\":\"y\"}},\"id\":\"2574\",\"type\":\"Circle\"},{\"attributes\":{\"text\":\"\"},\"id\":\"2530\",\"type\":\"Title\"},{\"attributes\":{\"data_source\":{\"id\":\"2573\"},\"glyph\":{\"id\":\"2574\"},\"hover_glyph\":null,\"muted_glyph\":null,\"nonselection_glyph\":{\"id\":\"2575\"},\"selection_glyph\":null,\"view\":{\"id\":\"2577\"}},\"id\":\"2576\",\"type\":\"GlyphRenderer\"},{\"attributes\":{\"background_fill_color\":null,\"below\":[{\"id\":\"2540\"}],\"border_fill_color\":null,\"center\":[{\"id\":\"2543\"},{\"id\":\"2547\"}],\"left\":[{\"id\":\"2544\"}],\"outline_line_color\":null,\"plot_height\":400,\"plot_width\":400,\"renderers\":[{\"id\":\"2571\"},{\"id\":\"2576\"}],\"title\":{\"id\":\"2530\"},\"toolbar\":{\"id\":\"2555\"},\"toolbar_location\":null,\"x_range\":{\"id\":\"2532\"},\"x_scale\":{\"id\":\"2536\"},\"y_range\":{\"id\":\"2534\"},\"y_scale\":{\"id\":\"2538\"}},\"id\":\"2529\",\"subtype\":\"Figure\",\"type\":\"Plot\"},{\"attributes\":{\"children\":[{\"id\":\"2580\"},{\"id\":\"2578\"}],\"max_width\":400,\"sizing_mode\":\"stretch_both\"},\"id\":\"2582\",\"type\":\"Row\"},{\"attributes\":{\"args\":{\"cost\":{\"id\":\"2563\"},\"done\":{\"id\":\"2564\"},\"n\":{\"id\":\"2565\"},\"source\":{\"id\":\"2566\"},\"tour\":{\"id\":\"2567\"}},\"code\":\"\\nif ((parseInt(n.text) - 1) >= 0) {\\n    n.text = (parseInt(n.text) - 1).toString()\\n}\\nvar iteration = parseInt(n.text)\\n\\nif (iteration == source.data['edges_y'].length - 2) {\\n    iteration = iteration - 1\\n}\\n\\n    cost.text = source.data['costs'][iteration].toFixed(1)\\n    \\n    if (iteration == source.data['edges_y'].length - 1) {\\n        done.text = \\\"done.\\\"\\n    } else {\\n        done.text = \\\"\\\"\\n    }\\n\\n    tour.data['edges_x'] = source.data['edges_x'][iteration]\\n    tour.data['edges_y'] = source.data['edges_y'][iteration]\\n    tour.change.emit()\\n    \"},\"id\":\"2581\",\"type\":\"CustomJS\"},{\"attributes\":{},\"id\":\"2545\",\"type\":\"BasicTicker\"},{\"attributes\":{\"line_alpha\":0.1,\"line_width\":4,\"x\":{\"field\":\"edges_x\"},\"y\":{\"field\":\"edges_y\"}},\"id\":\"2570\",\"type\":\"Line\"},{\"attributes\":{},\"id\":\"2553\",\"type\":\"HelpTool\"},{\"attributes\":{\"line_width\":4,\"x\":{\"field\":\"edges_x\"},\"y\":{\"field\":\"edges_y\"}},\"id\":\"2569\",\"type\":\"Line\"},{\"attributes\":{},\"id\":\"2551\",\"type\":\"SaveTool\"},{\"attributes\":{\"button_type\":\"success\",\"icon\":null,\"js_event_callbacks\":{\"button_click\":[{\"id\":\"2579\"}]},\"label\":\"Next\",\"sizing_mode\":\"scale_width\",\"width_policy\":\"fit\"},\"id\":\"2578\",\"type\":\"Button\"},{\"attributes\":{\"source\":{\"id\":\"2567\"}},\"id\":\"2572\",\"type\":\"CDSView\"},{\"attributes\":{\"data\":{\"x\":[0.0,0.0,0.0,0.0,0.0,0.0,0.0,0.0,0.0,1.0,1.0,1.0,1.0,1.0,1.0,1.0,1.0,1.0,2.0,2.0,2.0,2.0,2.0,2.0,2.0,2.0,2.0,3.0,3.0,3.0,3.0,3.0,3.0,3.0,3.0,3.0,4.0,4.0,4.0,4.0,4.0,4.0,4.0,4.0,4.0,5.0,5.0,5.0,5.0,5.0,5.0,5.0,5.0,5.0,6.0,6.0,6.0,6.0,6.0,6.0,6.0,6.0,6.0,7.0,7.0,7.0,7.0,7.0,7.0,7.0,7.0,7.0,8.0,8.0,8.0,8.0,8.0,8.0,8.0,8.0,8.0],\"y\":[0.0,1.0,2.0,3.0,4.0,5.0,6.0,7.0,8.0,0.0,1.0,2.0,3.0,4.0,5.0,6.0,7.0,8.0,0.0,1.0,2.0,3.0,4.0,5.0,6.0,7.0,8.0,0.0,1.0,2.0,3.0,4.0,5.0,6.0,7.0,8.0,0.0,1.0,2.0,3.0,4.0,5.0,6.0,7.0,8.0,0.0,1.0,2.0,3.0,4.0,5.0,6.0,7.0,8.0,0.0,1.0,2.0,3.0,4.0,5.0,6.0,7.0,8.0,0.0,1.0,2.0,3.0,4.0,5.0,6.0,7.0,8.0,0.0,1.0,2.0,3.0,4.0,5.0,6.0,7.0,8.0]},\"selected\":{\"id\":\"2592\"},\"selection_policy\":{\"id\":\"2591\"}},\"id\":\"2573\",\"type\":\"ColumnDataSource\"},{\"attributes\":{\"axis\":{\"id\":\"2540\"},\"grid_line_color\":null,\"ticker\":null},\"id\":\"2543\",\"type\":\"Grid\"},{\"attributes\":{\"align\":\"center\",\"width\":200},\"id\":\"2564\",\"type\":\"Div\"},{\"attributes\":{\"end\":8.68,\"start\":-0.68},\"id\":\"2532\",\"type\":\"Range1d\"},{\"attributes\":{\"data_source\":{\"id\":\"2567\"},\"glyph\":{\"id\":\"2569\"},\"hover_glyph\":null,\"muted_glyph\":null,\"nonselection_glyph\":{\"id\":\"2570\"},\"selection_glyph\":null,\"view\":{\"id\":\"2572\"}},\"id\":\"2571\",\"type\":\"GlyphRenderer\"},{\"attributes\":{},\"id\":\"2548\",\"type\":\"PanTool\"},{\"attributes\":{\"align\":\"center\",\"text\":\"22.6\",\"width\":200},\"id\":\"2563\",\"type\":\"Div\"},{\"attributes\":{},\"id\":\"2541\",\"type\":\"BasicTicker\"},{\"attributes\":{},\"id\":\"2585\",\"type\":\"BasicTickFormatter\"},{\"attributes\":{},\"id\":\"2552\",\"type\":\"ResetTool\"},{\"attributes\":{\"axis\":{\"id\":\"2544\"},\"dimension\":1,\"grid_line_color\":null,\"ticker\":null},\"id\":\"2547\",\"type\":\"Grid\"},{\"attributes\":{\"end\":8.68,\"start\":-0.68},\"id\":\"2534\",\"type\":\"Range1d\"},{\"attributes\":{},\"id\":\"2587\",\"type\":\"BasicTickFormatter\"},{\"attributes\":{\"args\":{\"cost\":{\"id\":\"2563\"},\"done\":{\"id\":\"2564\"},\"n\":{\"id\":\"2565\"},\"source\":{\"id\":\"2566\"},\"tour\":{\"id\":\"2567\"}},\"code\":\"\\nif ((parseInt(n.text) + 1) < source.data['edges_y'].length) {\\n    n.text = (parseInt(n.text) + 1).toString()\\n}\\nvar iteration = parseInt(n.text)\\n\\nif (iteration == source.data['edges_y'].length - 2) {\\n    iteration = iteration + 1\\n}\\n\\n    cost.text = source.data['costs'][iteration].toFixed(1)\\n    \\n    if (iteration == source.data['edges_y'].length - 1) {\\n        done.text = \\\"done.\\\"\\n    } else {\\n        done.text = \\\"\\\"\\n    }\\n\\n    tour.data['edges_x'] = source.data['edges_x'][iteration]\\n    tour.data['edges_y'] = source.data['edges_y'][iteration]\\n    tour.change.emit()\\n    \"},\"id\":\"2579\",\"type\":\"CustomJS\"},{\"attributes\":{},\"id\":\"2536\",\"type\":\"LinearScale\"},{\"attributes\":{},\"id\":\"2589\",\"type\":\"UnionRenderers\"},{\"attributes\":{\"formatter\":{\"id\":\"2585\"},\"ticker\":{\"id\":\"2541\"},\"visible\":false},\"id\":\"2540\",\"type\":\"LinearAxis\"},{\"attributes\":{\"overlay\":{\"id\":\"2554\"}},\"id\":\"2550\",\"type\":\"BoxZoomTool\"},{\"attributes\":{},\"id\":\"2538\",\"type\":\"LinearScale\"},{\"attributes\":{},\"id\":\"2590\",\"type\":\"Selection\"},{\"attributes\":{\"active_drag\":\"auto\",\"active_inspect\":\"auto\",\"active_multi\":null,\"active_scroll\":\"auto\",\"active_tap\":\"auto\",\"logo\":null,\"tools\":[{\"id\":\"2548\"},{\"id\":\"2549\"},{\"id\":\"2550\"},{\"id\":\"2551\"},{\"id\":\"2552\"},{\"id\":\"2553\"}]},\"id\":\"2555\",\"type\":\"Toolbar\"},{\"attributes\":{\"source\":{\"id\":\"2573\"}},\"id\":\"2577\",\"type\":\"CDSView\"},{\"attributes\":{\"formatter\":{\"id\":\"2587\"},\"ticker\":{\"id\":\"2545\"},\"visible\":false},\"id\":\"2544\",\"type\":\"LinearAxis\"},{\"attributes\":{},\"id\":\"2591\",\"type\":\"UnionRenderers\"},{\"attributes\":{},\"id\":\"2549\",\"type\":\"WheelZoomTool\"},{\"attributes\":{\"align\":\"center\",\"text\":\"0\",\"width\":400},\"id\":\"2565\",\"type\":\"Div\"},{\"attributes\":{},\"id\":\"2592\",\"type\":\"Selection\"}],\"root_ids\":[\"2599\"]},\"title\":\"Bokeh Application\",\"version\":\"2.1.0\"}};\n",
       "  var render_items = [{\"docid\":\"f3d7f835-a5fe-46ab-a8c5-00c8fa4cfde5\",\"root_ids\":[\"2599\"],\"roots\":{\"2599\":\"f4d1e788-a899-44e3-a061-33ccda5c36b0\"}}];\n",
       "  root.Bokeh.embed.embed_items_notebook(docs_json, render_items);\n",
       "\n",
       "  }\n",
       "  if (root.Bokeh !== undefined) {\n",
       "    embed_document(root);\n",
       "  } else {\n",
       "    var attempts = 0;\n",
       "    var timer = setInterval(function(root) {\n",
       "      if (root.Bokeh !== undefined) {\n",
       "        clearInterval(timer);\n",
       "        embed_document(root);\n",
       "      } else {\n",
       "        attempts++;\n",
       "        if (attempts > 100) {\n",
       "          clearInterval(timer);\n",
       "          console.log(\"Bokeh: ERROR: Unable to run BokehJS code because BokehJS library is missing\");\n",
       "        }\n",
       "      }\n",
       "    }, 10, root)\n",
       "  }\n",
       "})(window);"
      ],
      "application/vnd.bokehjs_exec.v0+json": ""
     },
     "metadata": {
      "application/vnd.bokehjs_exec.v0+json": {
       "id": "2599"
      }
     },
     "output_type": "display_data"
    }
   ],
   "source": [
    "tour = plot_tsp_heuristic(nodes, G, heuristic='furthest_insertion', initial=[0,len(G)-1,0])"
   ]
  },
  {
   "cell_type": "markdown",
   "metadata": {},
   "source": [
    "**Q10:** How did the results compare to the 6x8 grid using manhattan distances?\n",
    "\n",
    "**A:** <font color='blue'> Similar. </font>"
   ]
  },
  {
   "cell_type": "markdown",
   "metadata": {},
   "source": [
    "Again, let's run each heuristic numerous times and see how they compare."
   ]
  },
  {
   "cell_type": "code",
   "execution_count": 19,
   "metadata": {},
   "outputs": [
    {
     "name": "stdout",
     "output_type": "stream",
     "text": [
      "Heuristic Averages:\n",
      "Random Neighbor: 383.5680536172938\n",
      "Nearest Neighbor: 100.99507282078626\n",
      "Nearest Insertion: 86.99815339019719\n",
      "Furthest Insertion: 84.94088670692071\n"
     ]
    }
   ],
   "source": [
    "n = 100\n",
    "random_neighbor_total = 0\n",
    "nearest_neighbor_total = 0\n",
    "nearest_insertion_total = 0\n",
    "furthest_insertion_total = 0\n",
    "for i in range(n):\n",
    "    random_neighbor_total += tour_cost(G, random_neighbor(G))\n",
    "    nearest_neighbor_total += tour_cost(G, nearest_neighbor(G))\n",
    "    nearest_insertion_total += tour_cost(G, nearest_insertion(G))\n",
    "    furthest_insertion_total += tour_cost(G, furthest_insertion(G))\n",
    "print(\"Heuristic Averages:\")\n",
    "print(\"Random Neighbor: %s\" % (random_neighbor_total / n))\n",
    "print(\"Nearest Neighbor: %s\" % (nearest_neighbor_total / n))\n",
    "print(\"Nearest Insertion: %s\" % (nearest_insertion_total / n))\n",
    "print(\"Furthest Insertion: %s\" % (furthest_insertion_total / n))"
   ]
  },
  {
   "cell_type": "markdown",
   "metadata": {},
   "source": [
    "**Q11:** How did the results compare to the 6x8 grid using manhattan distances?\n",
    "\n",
    "**A:** <font color='blue'> Similar. </font>"
   ]
  },
  {
   "cell_type": "markdown",
   "metadata": {},
   "source": [
    "## Part III: Improving Tours: 2-OPT"
   ]
  },
  {
   "cell_type": "markdown",
   "metadata": {},
   "source": [
    "In **Part II**, we used heuristics to create TSP tours. However, we can also use heuristics to try and improve tours we have already found. We will examine a tour improvement heuristic called 2-OPT in this part. 2-OPT looks for pairs of edges which can be reconnected to strictly improve the tour cost. (Note: there is only one way to reconnect a pair of edges). It continues in this fashion until no more improvements can be made. Let's start by running 2-OPT after the nearest neighbor heuristic (using a 5x5 euclidian distance example)."
   ]
  },
  {
   "cell_type": "code",
   "execution_count": 20,
   "metadata": {},
   "outputs": [
    {
     "data": {
      "text/html": [
       "\n",
       "\n",
       "\n",
       "\n",
       "\n",
       "\n",
       "  <div class=\"bk-root\" id=\"52cb1da2-3a4b-4bc7-b07b-a10edd3bc610\" data-root-id=\"2832\"></div>\n"
      ]
     },
     "metadata": {},
     "output_type": "display_data"
    },
    {
     "data": {
      "application/javascript": [
       "(function(root) {\n",
       "  function embed_document(root) {\n",
       "    \n",
       "  var docs_json = {\"f72b826e-315a-47d4-893f-b54c60a6cbaf\":{\"roots\":{\"references\":[{\"attributes\":{\"children\":[[{\"id\":\"2776\"},0,0],[{\"id\":\"2810\"},1,0]]},\"id\":\"2832\",\"type\":\"GridBox\"},{\"attributes\":{\"axis\":{\"id\":\"2791\"},\"dimension\":1,\"grid_line_color\":null,\"ticker\":null},\"id\":\"2794\",\"type\":\"Grid\"},{\"attributes\":{},\"id\":\"2792\",\"type\":\"BasicTicker\"},{\"attributes\":{\"formatter\":{\"id\":\"2824\"},\"ticker\":{\"id\":\"2792\"},\"visible\":false},\"id\":\"2791\",\"type\":\"LinearAxis\"},{\"attributes\":{\"active_drag\":\"auto\",\"active_inspect\":\"auto\",\"active_multi\":null,\"active_scroll\":\"auto\",\"active_tap\":\"auto\",\"logo\":null,\"tools\":[{\"id\":\"2795\"},{\"id\":\"2796\"},{\"id\":\"2797\"},{\"id\":\"2798\"},{\"id\":\"2799\"},{\"id\":\"2800\"}]},\"id\":\"2802\",\"type\":\"Toolbar\"},{\"attributes\":{\"axis\":{\"id\":\"2787\"},\"grid_line_color\":null,\"ticker\":null},\"id\":\"2790\",\"type\":\"Grid\"},{\"attributes\":{},\"id\":\"2788\",\"type\":\"BasicTicker\"},{\"attributes\":{\"bottom_units\":\"screen\",\"fill_alpha\":0.5,\"fill_color\":\"lightgrey\",\"left_units\":\"screen\",\"level\":\"overlay\",\"line_alpha\":1.0,\"line_color\":\"black\",\"line_dash\":[4,4],\"line_width\":2,\"right_units\":\"screen\",\"top_units\":\"screen\"},\"id\":\"2801\",\"type\":\"BoxAnnotation\"},{\"attributes\":{\"formatter\":{\"id\":\"2822\"},\"ticker\":{\"id\":\"2788\"},\"visible\":false},\"id\":\"2787\",\"type\":\"LinearAxis\"},{\"attributes\":{\"line_alpha\":0.1,\"line_width\":4,\"x\":{\"field\":\"x\"},\"y\":{\"field\":\"y\"}},\"id\":\"2813\",\"type\":\"Line\"},{\"attributes\":{},\"id\":\"2829\",\"type\":\"Selection\"},{\"attributes\":{\"line_width\":4,\"x\":{\"field\":\"x\"},\"y\":{\"field\":\"y\"}},\"id\":\"2812\",\"type\":\"Line\"},{\"attributes\":{},\"id\":\"2785\",\"type\":\"LinearScale\"},{\"attributes\":{\"data\":{\"x\":[0.0,0.0,0.0,0.0,0.0,1.0,1.0,1.0,1.0,1.0,2.0,2.0,2.0,2.0,2.0,3.0,3.0,3.0,3.0,3.0,4.0,4.0,4.0,4.0,4.0],\"y\":[0.0,1.0,2.0,3.0,4.0,0.0,1.0,2.0,3.0,4.0,0.0,1.0,2.0,3.0,4.0,0.0,1.0,2.0,3.0,4.0,0.0,1.0,2.0,3.0,4.0]},\"selected\":{\"id\":\"2829\"},\"selection_policy\":{\"id\":\"2828\"}},\"id\":\"2816\",\"type\":\"ColumnDataSource\"},{\"attributes\":{},\"id\":\"2783\",\"type\":\"LinearScale\"},{\"attributes\":{\"data\":{\"x\":[0.0,0.0,0.0,0.0,0.0,1.0,2.0,3.0,4.0,4.0,3.0,2.0,1.0,1.0,2.0,2.0,2.0,1.0,1.0,3.0,4.0,4.0,3.0,3.0,4.0,0.0],\"y\":[0.0,1.0,2.0,3.0,4.0,4.0,4.0,4.0,4.0,3.0,3.0,3.0,3.0,2.0,2.0,1.0,0.0,0.0,1.0,1.0,1.0,2.0,2.0,0.0,0.0,0.0]},\"selected\":{\"id\":\"2827\"},\"selection_policy\":{\"id\":\"2826\"}},\"id\":\"2811\",\"type\":\"ColumnDataSource\"},{\"attributes\":{},\"id\":\"2799\",\"type\":\"ResetTool\"},{\"attributes\":{\"end\":4.34,\"start\":-0.34},\"id\":\"2781\",\"type\":\"Range1d\"},{\"attributes\":{\"source\":{\"id\":\"2816\"}},\"id\":\"2820\",\"type\":\"CDSView\"},{\"attributes\":{\"data_source\":{\"id\":\"2811\"},\"glyph\":{\"id\":\"2812\"},\"hover_glyph\":null,\"muted_glyph\":null,\"nonselection_glyph\":{\"id\":\"2813\"},\"selection_glyph\":null,\"view\":{\"id\":\"2815\"}},\"id\":\"2814\",\"type\":\"GlyphRenderer\"},{\"attributes\":{},\"id\":\"2822\",\"type\":\"BasicTickFormatter\"},{\"attributes\":{\"end\":4.34,\"start\":-0.34},\"id\":\"2779\",\"type\":\"Range1d\"},{\"attributes\":{},\"id\":\"2798\",\"type\":\"SaveTool\"},{\"attributes\":{\"fill_color\":{\"value\":\"steelblue\"},\"line_color\":{\"value\":\"steelblue\"},\"size\":{\"units\":\"screen\",\"value\":8},\"x\":{\"field\":\"x\"},\"y\":{\"field\":\"y\"}},\"id\":\"2817\",\"type\":\"Circle\"},{\"attributes\":{\"text\":\"\"},\"id\":\"2777\",\"type\":\"Title\"},{\"attributes\":{},\"id\":\"2800\",\"type\":\"HelpTool\"},{\"attributes\":{\"source\":{\"id\":\"2811\"}},\"id\":\"2815\",\"type\":\"CDSView\"},{\"attributes\":{\"background_fill_color\":null,\"below\":[{\"id\":\"2787\"}],\"border_fill_color\":null,\"center\":[{\"id\":\"2790\"},{\"id\":\"2794\"}],\"left\":[{\"id\":\"2791\"}],\"outline_line_color\":null,\"plot_height\":400,\"plot_width\":400,\"renderers\":[{\"id\":\"2814\"},{\"id\":\"2819\"}],\"title\":{\"id\":\"2777\"},\"toolbar\":{\"id\":\"2802\"},\"toolbar_location\":null,\"x_range\":{\"id\":\"2779\"},\"x_scale\":{\"id\":\"2783\"},\"y_range\":{\"id\":\"2781\"},\"y_scale\":{\"id\":\"2785\"}},\"id\":\"2776\",\"subtype\":\"Figure\",\"type\":\"Plot\"},{\"attributes\":{\"overlay\":{\"id\":\"2801\"}},\"id\":\"2797\",\"type\":\"BoxZoomTool\"},{\"attributes\":{},\"id\":\"2826\",\"type\":\"UnionRenderers\"},{\"attributes\":{\"fill_alpha\":{\"value\":0.1},\"fill_color\":{\"value\":\"steelblue\"},\"line_alpha\":{\"value\":0.1},\"line_color\":{\"value\":\"steelblue\"},\"size\":{\"units\":\"screen\",\"value\":8},\"x\":{\"field\":\"x\"},\"y\":{\"field\":\"y\"}},\"id\":\"2818\",\"type\":\"Circle\"},{\"attributes\":{},\"id\":\"2796\",\"type\":\"WheelZoomTool\"},{\"attributes\":{},\"id\":\"2824\",\"type\":\"BasicTickFormatter\"},{\"attributes\":{},\"id\":\"2828\",\"type\":\"UnionRenderers\"},{\"attributes\":{\"data_source\":{\"id\":\"2816\"},\"glyph\":{\"id\":\"2817\"},\"hover_glyph\":null,\"muted_glyph\":null,\"nonselection_glyph\":{\"id\":\"2818\"},\"selection_glyph\":null,\"view\":{\"id\":\"2820\"}},\"id\":\"2819\",\"type\":\"GlyphRenderer\"},{\"attributes\":{},\"id\":\"2795\",\"type\":\"PanTool\"},{\"attributes\":{},\"id\":\"2827\",\"type\":\"Selection\"},{\"attributes\":{\"align\":\"center\",\"text\":\"30.0\",\"width\":400},\"id\":\"2810\",\"type\":\"Div\"}],\"root_ids\":[\"2832\"]},\"title\":\"Bokeh Application\",\"version\":\"2.1.0\"}};\n",
       "  var render_items = [{\"docid\":\"f72b826e-315a-47d4-893f-b54c60a6cbaf\",\"root_ids\":[\"2832\"],\"roots\":{\"2832\":\"52cb1da2-3a4b-4bc7-b07b-a10edd3bc610\"}}];\n",
       "  root.Bokeh.embed.embed_items_notebook(docs_json, render_items);\n",
       "\n",
       "  }\n",
       "  if (root.Bokeh !== undefined) {\n",
       "    embed_document(root);\n",
       "  } else {\n",
       "    var attempts = 0;\n",
       "    var timer = setInterval(function(root) {\n",
       "      if (root.Bokeh !== undefined) {\n",
       "        clearInterval(timer);\n",
       "        embed_document(root);\n",
       "      } else {\n",
       "        attempts++;\n",
       "        if (attempts > 100) {\n",
       "          clearInterval(timer);\n",
       "          console.log(\"Bokeh: ERROR: Unable to run BokehJS code because BokehJS library is missing\");\n",
       "        }\n",
       "      }\n",
       "    }, 10, root)\n",
       "  }\n",
       "})(window);"
      ],
      "application/vnd.bokehjs_exec.v0+json": ""
     },
     "metadata": {
      "application/vnd.bokehjs_exec.v0+json": {
       "id": "2832"
      }
     },
     "output_type": "display_data"
    }
   ],
   "source": [
    "# First, we run the nearest neighbor heuristic to get an initial tour\n",
    "nodes, G = tsp_grid_instance(5,5,manhattan=False)\n",
    "tour = nearest_neighbor(G)\n",
    "plot_tour(nodes, G, tour)"
   ]
  },
  {
   "cell_type": "markdown",
   "metadata": {},
   "source": [
    "Run the following cell to generate a visualization of 2-OPT. In each iteration, 2 edges will be highlighted red and 2 will be highlighted blue. The red edges indicate the current position and the blue indicate the positon they will be reconnected in."
   ]
  },
  {
   "cell_type": "code",
   "execution_count": 21,
   "metadata": {},
   "outputs": [
    {
     "data": {
      "text/html": [
       "\n",
       "\n",
       "\n",
       "\n",
       "\n",
       "\n",
       "  <div class=\"bk-root\" id=\"dc05d8d2-46cd-4761-9907-40e4154d5645\" data-root-id=\"3097\"></div>\n"
      ]
     },
     "metadata": {},
     "output_type": "display_data"
    },
    {
     "data": {
      "application/javascript": [
       "(function(root) {\n",
       "  function embed_document(root) {\n",
       "    \n",
       "  var docs_json = {\"03f37cac-beef-42f5-9ec4-4f1d40ef7d5f\":{\"roots\":{\"references\":[{\"attributes\":{\"children\":[[{\"id\":\"3009\"},0,0],[{\"id\":\"3074\"},1,0],[{\"id\":\"3075\"},2,0]]},\"id\":\"3097\",\"type\":\"GridBox\"},{\"attributes\":{\"button_type\":\"success\",\"icon\":null,\"js_event_callbacks\":{\"button_click\":[{\"id\":\"3071\"}]},\"label\":\"Next\",\"sizing_mode\":\"scale_width\",\"width_policy\":\"fit\"},\"id\":\"3070\",\"type\":\"Button\"},{\"attributes\":{\"align\":\"center\",\"text\":\"30.0\",\"width\":200},\"id\":\"3043\",\"type\":\"Div\"},{\"attributes\":{\"data\":{\"costs\":[30.0,29.414213562373096,28.576491222541474,27.886349517372675,27.478708664619077,26.242640687119287],\"edges_x\":[[0.0,0.0,0.0,0.0,0.0,1.0,2.0,3.0,4.0,4.0,3.0,2.0,1.0,1.0,2.0,2.0,2.0,1.0,1.0,3.0,4.0,4.0,3.0,3.0,4.0,0.0],[0.0,0.0,0.0,0.0,0.0,1.0,2.0,3.0,4.0,4.0,3.0,2.0,1.0,1.0,1.0,1.0,2.0,2.0,2.0,3.0,4.0,4.0,3.0,3.0,4.0,0.0],[0.0,0.0,0.0,0.0,0.0,1.0,2.0,3.0,4.0,4.0,3.0,2.0,1.0,1.0,1.0,4.0,3.0,3.0,4.0,4.0,3.0,2.0,2.0,2.0,1.0,0.0],[0.0,0.0,0.0,0.0,0.0,1.0,2.0,3.0,4.0,4.0,3.0,2.0,1.0,1.0,1.0,3.0,4.0,3.0,4.0,4.0,3.0,2.0,2.0,2.0,1.0,0.0],[0.0,0.0,0.0,0.0,0.0,1.0,2.0,3.0,4.0,4.0,3.0,2.0,1.0,1.0,1.0,2.0,3.0,4.0,4.0,3.0,4.0,3.0,2.0,2.0,1.0,0.0],[0.0,0.0,0.0,0.0,0.0,1.0,2.0,3.0,4.0,4.0,3.0,2.0,1.0,1.0,1.0,2.0,3.0,4.0,4.0,3.0,4.0,3.0,2.0,2.0,1.0,0.0]],\"edges_y\":[[0.0,1.0,2.0,3.0,4.0,4.0,4.0,4.0,4.0,3.0,3.0,3.0,3.0,2.0,2.0,1.0,0.0,0.0,1.0,1.0,1.0,2.0,2.0,0.0,0.0,0.0],[0.0,1.0,2.0,3.0,4.0,4.0,4.0,4.0,4.0,3.0,3.0,3.0,3.0,2.0,1.0,0.0,0.0,1.0,2.0,1.0,1.0,2.0,2.0,0.0,0.0,0.0],[0.0,1.0,2.0,3.0,4.0,4.0,4.0,4.0,4.0,3.0,3.0,3.0,3.0,2.0,1.0,0.0,0.0,2.0,2.0,1.0,1.0,2.0,1.0,0.0,0.0,0.0],[0.0,1.0,2.0,3.0,4.0,4.0,4.0,4.0,4.0,3.0,3.0,3.0,3.0,2.0,1.0,0.0,0.0,2.0,2.0,1.0,1.0,2.0,1.0,0.0,0.0,0.0],[0.0,1.0,2.0,3.0,4.0,4.0,4.0,4.0,4.0,3.0,3.0,3.0,3.0,2.0,1.0,2.0,1.0,1.0,2.0,2.0,0.0,0.0,1.0,0.0,0.0,0.0],[0.0,1.0,2.0,3.0,4.0,4.0,4.0,4.0,4.0,3.0,3.0,3.0,3.0,2.0,1.0,2.0,2.0,2.0,1.0,1.0,0.0,0.0,1.0,0.0,0.0,0.0]]},\"selected\":{\"id\":\"3092\"},\"selection_policy\":{\"id\":\"3091\"}},\"id\":\"3046\",\"type\":\"ColumnDataSource\"},{\"attributes\":{\"fill_color\":{\"value\":\"steelblue\"},\"line_color\":{\"value\":\"steelblue\"},\"size\":{\"units\":\"screen\",\"value\":8},\"x\":{\"field\":\"x\"},\"y\":{\"field\":\"y\"}},\"id\":\"3066\",\"type\":\"Circle\"},{\"attributes\":{\"data\":{\"edges_x\":[0.0,0.0,0.0,0.0,0.0,1.0,2.0,3.0,4.0,4.0,3.0,2.0,1.0,1.0,2.0,2.0,2.0,1.0,1.0,3.0,4.0,4.0,3.0,3.0,4.0,0.0],\"edges_y\":[0.0,1.0,2.0,3.0,4.0,4.0,4.0,4.0,4.0,3.0,3.0,3.0,3.0,2.0,2.0,1.0,0.0,0.0,1.0,1.0,1.0,2.0,2.0,0.0,0.0,0.0]},\"selected\":{\"id\":\"3082\"},\"selection_policy\":{\"id\":\"3081\"}},\"id\":\"3047\",\"type\":\"ColumnDataSource\"},{\"attributes\":{\"fill_alpha\":{\"value\":0.1},\"fill_color\":{\"value\":\"steelblue\"},\"line_alpha\":{\"value\":0.1},\"line_color\":{\"value\":\"steelblue\"},\"size\":{\"units\":\"screen\",\"value\":8},\"x\":{\"field\":\"x\"},\"y\":{\"field\":\"y\"}},\"id\":\"3067\",\"type\":\"Circle\"},{\"attributes\":{\"data\":{\"swaps_after_x\":[[[1.0,1.0],[2.0,3.0]],[[1.0,4.0],[1.0,0.0]],[[1.0,3.0],[4.0,3.0]],[[1.0,2.0],[3.0,2.0]],[[2.0,3.0],[3.0,4.0]]],\"swaps_after_y\":[[[2.0,1.0],[2.0,1.0]],[[1.0,0.0],[0.0,0.0]],[[1.0,0.0],[0.0,2.0]],[[1.0,2.0],[0.0,1.0]],[[2.0,2.0],[1.0,0.0]]],\"swaps_before_x\":[[[1.0,2.0],[1.0,3.0]],[[1.0,1.0],[4.0,0.0]],[[1.0,4.0],[3.0,3.0]],[[1.0,3.0],[2.0,2.0]],[[2.0,3.0],[3.0,4.0]]],\"swaps_before_y\":[[[2.0,2.0],[1.0,1.0]],[[1.0,0.0],[0.0,0.0]],[[1.0,0.0],[0.0,2.0]],[[1.0,0.0],[2.0,1.0]],[[2.0,1.0],[2.0,0.0]]]},\"selected\":{\"id\":\"3094\"},\"selection_policy\":{\"id\":\"3093\"}},\"id\":\"3048\",\"type\":\"ColumnDataSource\"},{\"attributes\":{\"source\":{\"id\":\"3065\"}},\"id\":\"3069\",\"type\":\"CDSView\"},{\"attributes\":{\"data\":{\"swaps_after_x\":[[1.0,1.0],[2.0,3.0]],\"swaps_after_y\":[[2.0,1.0],[2.0,1.0]],\"swaps_before_x\":[[1.0,2.0],[1.0,3.0]],\"swaps_before_y\":[[2.0,2.0],[1.0,1.0]]},\"selected\":{\"id\":\"3084\"},\"selection_policy\":{\"id\":\"3083\"}},\"id\":\"3049\",\"type\":\"ColumnDataSource\"},{\"attributes\":{\"data_source\":{\"id\":\"3065\"},\"glyph\":{\"id\":\"3066\"},\"hover_glyph\":null,\"muted_glyph\":null,\"nonselection_glyph\":{\"id\":\"3067\"},\"selection_glyph\":null,\"view\":{\"id\":\"3069\"}},\"id\":\"3068\",\"type\":\"GlyphRenderer\"},{\"attributes\":{},\"id\":\"3079\",\"type\":\"BasicTickFormatter\"},{\"attributes\":{\"args\":{\"cost\":{\"id\":\"3043\"},\"done\":{\"id\":\"3044\"},\"n\":{\"id\":\"3045\"},\"source\":{\"id\":\"3046\"},\"swaps\":{\"id\":\"3049\"},\"swaps_source\":{\"id\":\"3048\"},\"tour\":{\"id\":\"3047\"}},\"code\":\"\\nif ((parseInt(n.text) + 1) < source.data['edges_y'].length) {\\n    n.text = (parseInt(n.text) + 1).toString()\\n}\\nvar iteration = parseInt(n.text)\\n\\n    cost.text = source.data['costs'][iteration].toFixed(1)\\n    \\n    if (iteration == source.data['edges_y'].length - 1) {\\n        done.text = \\\"done.\\\"\\n        swaps.data['swaps_before_x'] = [[]]\\n        swaps.data['swaps_before_y'] = [[]]\\n        swaps.data['swaps_after_x'] = [[]]\\n        swaps.data['swaps_after_y'] = [[]]\\n    } else {\\n        done.text = \\\"\\\"\\n        swaps.data['swaps_before_x'] = swaps_source.data['swaps_before_x'][iteration]\\n        swaps.data['swaps_before_y'] = swaps_source.data['swaps_before_y'][iteration]\\n        swaps.data['swaps_after_x'] = swaps_source.data['swaps_after_x'][iteration]\\n        swaps.data['swaps_after_y'] = swaps_source.data['swaps_after_y'][iteration]\\n    }\\n\\n    tour.data['edges_x'] = source.data['edges_x'][iteration]\\n    tour.data['edges_y'] = source.data['edges_y'][iteration]\\n    tour.change.emit()\\n    swaps.change.emit()\\n    \"},\"id\":\"3071\",\"type\":\"CustomJS\"},{\"attributes\":{\"data_source\":{\"id\":\"3047\"},\"glyph\":{\"id\":\"3051\"},\"hover_glyph\":null,\"muted_glyph\":null,\"nonselection_glyph\":{\"id\":\"3052\"},\"selection_glyph\":null,\"view\":{\"id\":\"3054\"}},\"id\":\"3053\",\"type\":\"GlyphRenderer\"},{\"attributes\":{\"button_type\":\"success\",\"icon\":null,\"js_event_callbacks\":{\"button_click\":[{\"id\":\"3073\"}]},\"label\":\"Previous\",\"sizing_mode\":\"scale_width\",\"width_policy\":\"fit\"},\"id\":\"3072\",\"type\":\"Button\"},{\"attributes\":{\"source\":{\"id\":\"3047\"}},\"id\":\"3054\",\"type\":\"CDSView\"},{\"attributes\":{\"line_alpha\":0.1,\"line_width\":4,\"x\":{\"field\":\"edges_x\"},\"y\":{\"field\":\"edges_y\"}},\"id\":\"3052\",\"type\":\"Line\"},{\"attributes\":{},\"id\":\"3018\",\"type\":\"LinearScale\"},{\"attributes\":{\"args\":{\"cost\":{\"id\":\"3043\"},\"done\":{\"id\":\"3044\"},\"n\":{\"id\":\"3045\"},\"source\":{\"id\":\"3046\"},\"swaps\":{\"id\":\"3049\"},\"swaps_source\":{\"id\":\"3048\"},\"tour\":{\"id\":\"3047\"}},\"code\":\"\\nif ((parseInt(n.text) - 1) >= 0) {\\n    n.text = (parseInt(n.text) - 1).toString()\\n}\\nvar iteration = parseInt(n.text)\\n\\n    cost.text = source.data['costs'][iteration].toFixed(1)\\n    \\n    if (iteration == source.data['edges_y'].length - 1) {\\n        done.text = \\\"done.\\\"\\n        swaps.data['swaps_before_x'] = [[]]\\n        swaps.data['swaps_before_y'] = [[]]\\n        swaps.data['swaps_after_x'] = [[]]\\n        swaps.data['swaps_after_y'] = [[]]\\n    } else {\\n        done.text = \\\"\\\"\\n        swaps.data['swaps_before_x'] = swaps_source.data['swaps_before_x'][iteration]\\n        swaps.data['swaps_before_y'] = swaps_source.data['swaps_before_y'][iteration]\\n        swaps.data['swaps_after_x'] = swaps_source.data['swaps_after_x'][iteration]\\n        swaps.data['swaps_after_y'] = swaps_source.data['swaps_after_y'][iteration]\\n    }\\n\\n    tour.data['edges_x'] = source.data['edges_x'][iteration]\\n    tour.data['edges_y'] = source.data['edges_y'][iteration]\\n    tour.change.emit()\\n    swaps.change.emit()\\n    \"},\"id\":\"3073\",\"type\":\"CustomJS\"},{\"attributes\":{},\"id\":\"3032\",\"type\":\"ResetTool\"},{\"attributes\":{},\"id\":\"3085\",\"type\":\"UnionRenderers\"},{\"attributes\":{\"formatter\":{\"id\":\"3079\"},\"ticker\":{\"id\":\"3025\"},\"visible\":false},\"id\":\"3024\",\"type\":\"LinearAxis\"},{\"attributes\":{\"children\":[{\"id\":\"3072\"},{\"id\":\"3070\"}],\"max_width\":400,\"sizing_mode\":\"stretch_both\"},\"id\":\"3074\",\"type\":\"Row\"},{\"attributes\":{},\"id\":\"3031\",\"type\":\"SaveTool\"},{\"attributes\":{\"bottom_units\":\"screen\",\"fill_alpha\":0.5,\"fill_color\":\"lightgrey\",\"left_units\":\"screen\",\"level\":\"overlay\",\"line_alpha\":1.0,\"line_color\":\"black\",\"line_dash\":[4,4],\"line_width\":2,\"right_units\":\"screen\",\"top_units\":\"screen\"},\"id\":\"3034\",\"type\":\"BoxAnnotation\"},{\"attributes\":{},\"id\":\"3016\",\"type\":\"LinearScale\"},{\"attributes\":{},\"id\":\"3029\",\"type\":\"WheelZoomTool\"},{\"attributes\":{\"line_width\":4,\"x\":{\"field\":\"edges_x\"},\"y\":{\"field\":\"edges_y\"}},\"id\":\"3051\",\"type\":\"Line\"},{\"attributes\":{\"children\":[{\"id\":\"3043\"},{\"id\":\"3044\"}]},\"id\":\"3075\",\"type\":\"Row\"},{\"attributes\":{\"line_alpha\":{\"value\":0.1},\"line_color\":{\"value\":\"red\"},\"line_width\":{\"value\":4},\"xs\":{\"field\":\"swaps_before_x\"},\"ys\":{\"field\":\"swaps_before_y\"}},\"id\":\"3057\",\"type\":\"MultiLine\"},{\"attributes\":{\"line_color\":{\"value\":\"red\"},\"line_width\":{\"value\":4},\"xs\":{\"field\":\"swaps_before_x\"},\"ys\":{\"field\":\"swaps_before_y\"}},\"id\":\"3056\",\"type\":\"MultiLine\"},{\"attributes\":{\"end\":4.34,\"start\":-0.34},\"id\":\"3014\",\"type\":\"Range1d\"},{\"attributes\":{\"background_fill_color\":null,\"below\":[{\"id\":\"3020\"}],\"border_fill_color\":null,\"center\":[{\"id\":\"3023\"},{\"id\":\"3027\"}],\"left\":[{\"id\":\"3024\"}],\"outline_line_color\":null,\"plot_height\":400,\"plot_width\":400,\"renderers\":[{\"id\":\"3053\"},{\"id\":\"3058\"},{\"id\":\"3063\"},{\"id\":\"3068\"}],\"title\":{\"id\":\"3010\"},\"toolbar\":{\"id\":\"3035\"},\"toolbar_location\":null,\"x_range\":{\"id\":\"3012\"},\"x_scale\":{\"id\":\"3016\"},\"y_range\":{\"id\":\"3014\"},\"y_scale\":{\"id\":\"3018\"}},\"id\":\"3009\",\"subtype\":\"Figure\",\"type\":\"Plot\"},{\"attributes\":{\"source\":{\"id\":\"3049\"}},\"id\":\"3059\",\"type\":\"CDSView\"},{\"attributes\":{\"end\":4.34,\"start\":-0.34},\"id\":\"3012\",\"type\":\"Range1d\"},{\"attributes\":{},\"id\":\"3082\",\"type\":\"Selection\"},{\"attributes\":{},\"id\":\"3083\",\"type\":\"UnionRenderers\"},{\"attributes\":{\"overlay\":{\"id\":\"3034\"}},\"id\":\"3030\",\"type\":\"BoxZoomTool\"},{\"attributes\":{},\"id\":\"3086\",\"type\":\"Selection\"},{\"attributes\":{\"formatter\":{\"id\":\"3077\"},\"ticker\":{\"id\":\"3021\"},\"visible\":false},\"id\":\"3020\",\"type\":\"LinearAxis\"},{\"attributes\":{},\"id\":\"3033\",\"type\":\"HelpTool\"},{\"attributes\":{\"data_source\":{\"id\":\"3049\"},\"glyph\":{\"id\":\"3056\"},\"hover_glyph\":null,\"muted_glyph\":null,\"nonselection_glyph\":{\"id\":\"3057\"},\"selection_glyph\":null,\"view\":{\"id\":\"3059\"}},\"id\":\"3058\",\"type\":\"GlyphRenderer\"},{\"attributes\":{},\"id\":\"3091\",\"type\":\"UnionRenderers\"},{\"attributes\":{},\"id\":\"3084\",\"type\":\"Selection\"},{\"attributes\":{\"axis\":{\"id\":\"3020\"},\"grid_line_color\":null,\"ticker\":null},\"id\":\"3023\",\"type\":\"Grid\"},{\"attributes\":{\"data\":{\"x\":[0.0,0.0,0.0,0.0,0.0,1.0,1.0,1.0,1.0,1.0,2.0,2.0,2.0,2.0,2.0,3.0,3.0,3.0,3.0,3.0,4.0,4.0,4.0,4.0,4.0],\"y\":[0.0,1.0,2.0,3.0,4.0,0.0,1.0,2.0,3.0,4.0,0.0,1.0,2.0,3.0,4.0,0.0,1.0,2.0,3.0,4.0,0.0,1.0,2.0,3.0,4.0]},\"selected\":{\"id\":\"3086\"},\"selection_policy\":{\"id\":\"3085\"}},\"id\":\"3065\",\"type\":\"ColumnDataSource\"},{\"attributes\":{},\"id\":\"3028\",\"type\":\"PanTool\"},{\"attributes\":{\"align\":\"center\",\"text\":\"0\",\"width\":400},\"id\":\"3045\",\"type\":\"Div\"},{\"attributes\":{},\"id\":\"3092\",\"type\":\"Selection\"},{\"attributes\":{\"line_alpha\":{\"value\":0.1},\"line_color\":{\"value\":\"#90D7F6\"},\"line_width\":{\"value\":4},\"xs\":{\"field\":\"swaps_after_x\"},\"ys\":{\"field\":\"swaps_after_y\"}},\"id\":\"3062\",\"type\":\"MultiLine\"},{\"attributes\":{},\"id\":\"3021\",\"type\":\"BasicTicker\"},{\"attributes\":{\"text\":\"\"},\"id\":\"3010\",\"type\":\"Title\"},{\"attributes\":{\"line_color\":{\"value\":\"#90D7F6\"},\"line_width\":{\"value\":4},\"xs\":{\"field\":\"swaps_after_x\"},\"ys\":{\"field\":\"swaps_after_y\"}},\"id\":\"3061\",\"type\":\"MultiLine\"},{\"attributes\":{\"active_drag\":\"auto\",\"active_inspect\":\"auto\",\"active_multi\":null,\"active_scroll\":\"auto\",\"active_tap\":\"auto\",\"logo\":null,\"tools\":[{\"id\":\"3028\"},{\"id\":\"3029\"},{\"id\":\"3030\"},{\"id\":\"3031\"},{\"id\":\"3032\"},{\"id\":\"3033\"}]},\"id\":\"3035\",\"type\":\"Toolbar\"},{\"attributes\":{\"axis\":{\"id\":\"3024\"},\"dimension\":1,\"grid_line_color\":null,\"ticker\":null},\"id\":\"3027\",\"type\":\"Grid\"},{\"attributes\":{},\"id\":\"3093\",\"type\":\"UnionRenderers\"},{\"attributes\":{},\"id\":\"3025\",\"type\":\"BasicTicker\"},{\"attributes\":{\"source\":{\"id\":\"3049\"}},\"id\":\"3064\",\"type\":\"CDSView\"},{\"attributes\":{},\"id\":\"3094\",\"type\":\"Selection\"},{\"attributes\":{\"align\":\"center\",\"width\":200},\"id\":\"3044\",\"type\":\"Div\"},{\"attributes\":{},\"id\":\"3081\",\"type\":\"UnionRenderers\"},{\"attributes\":{\"data_source\":{\"id\":\"3049\"},\"glyph\":{\"id\":\"3061\"},\"hover_glyph\":null,\"muted_glyph\":null,\"nonselection_glyph\":{\"id\":\"3062\"},\"selection_glyph\":null,\"view\":{\"id\":\"3064\"}},\"id\":\"3063\",\"type\":\"GlyphRenderer\"},{\"attributes\":{},\"id\":\"3077\",\"type\":\"BasicTickFormatter\"}],\"root_ids\":[\"3097\"]},\"title\":\"Bokeh Application\",\"version\":\"2.1.0\"}};\n",
       "  var render_items = [{\"docid\":\"03f37cac-beef-42f5-9ec4-4f1d40ef7d5f\",\"root_ids\":[\"3097\"],\"roots\":{\"3097\":\"dc05d8d2-46cd-4761-9907-40e4154d5645\"}}];\n",
       "  root.Bokeh.embed.embed_items_notebook(docs_json, render_items);\n",
       "\n",
       "  }\n",
       "  if (root.Bokeh !== undefined) {\n",
       "    embed_document(root);\n",
       "  } else {\n",
       "    var attempts = 0;\n",
       "    var timer = setInterval(function(root) {\n",
       "      if (root.Bokeh !== undefined) {\n",
       "        clearInterval(timer);\n",
       "        embed_document(root);\n",
       "      } else {\n",
       "        attempts++;\n",
       "        if (attempts > 100) {\n",
       "          clearInterval(timer);\n",
       "          console.log(\"Bokeh: ERROR: Unable to run BokehJS code because BokehJS library is missing\");\n",
       "        }\n",
       "      }\n",
       "    }, 10, root)\n",
       "  }\n",
       "})(window);"
      ],
      "application/vnd.bokehjs_exec.v0+json": ""
     },
     "metadata": {
      "application/vnd.bokehjs_exec.v0+json": {
       "id": "3097"
      }
     },
     "output_type": "display_data"
    }
   ],
   "source": [
    "plot_two_opt(nodes, G, list(tour));"
   ]
  },
  {
   "cell_type": "markdown",
   "metadata": {},
   "source": [
    "**Q12:** Run 2-OPT a few times. Do you get the same result every time? Why or why not?\n",
    "\n",
    "**A:** <font color='blue'> Yes. There is no randomness in this algorithm.</font>"
   ]
  },
  {
   "cell_type": "markdown",
   "metadata": {},
   "source": [
    "Let's run 2-OPT a few times on a slightly larger grid."
   ]
  },
  {
   "cell_type": "code",
   "execution_count": 22,
   "metadata": {},
   "outputs": [
    {
     "data": {
      "text/html": [
       "\n",
       "\n",
       "\n",
       "\n",
       "\n",
       "\n",
       "  <div class=\"bk-root\" id=\"ed3ee89d-ab4e-428b-8fa8-8b1467fc4af9\" data-root-id=\"3410\"></div>\n"
      ]
     },
     "metadata": {},
     "output_type": "display_data"
    },
    {
     "data": {
      "application/javascript": [
       "(function(root) {\n",
       "  function embed_document(root) {\n",
       "    \n",
       "  var docs_json = {\"06d6783e-1049-4b31-b7af-ee7c68106d5b\":{\"roots\":{\"references\":[{\"attributes\":{\"children\":[[{\"id\":\"3322\"},0,0],[{\"id\":\"3387\"},1,0],[{\"id\":\"3388\"},2,0]]},\"id\":\"3410\",\"type\":\"GridBox\"},{\"attributes\":{\"overlay\":{\"id\":\"3347\"}},\"id\":\"3343\",\"type\":\"BoxZoomTool\"},{\"attributes\":{\"data_source\":{\"id\":\"3362\"},\"glyph\":{\"id\":\"3374\"},\"hover_glyph\":null,\"muted_glyph\":null,\"nonselection_glyph\":{\"id\":\"3375\"},\"selection_glyph\":null,\"view\":{\"id\":\"3377\"}},\"id\":\"3376\",\"type\":\"GlyphRenderer\"},{\"attributes\":{},\"id\":\"3392\",\"type\":\"BasicTickFormatter\"},{\"attributes\":{\"data_source\":{\"id\":\"3360\"},\"glyph\":{\"id\":\"3364\"},\"hover_glyph\":null,\"muted_glyph\":null,\"nonselection_glyph\":{\"id\":\"3365\"},\"selection_glyph\":null,\"view\":{\"id\":\"3367\"}},\"id\":\"3366\",\"type\":\"GlyphRenderer\"},{\"attributes\":{},\"id\":\"3344\",\"type\":\"SaveTool\"},{\"attributes\":{\"button_type\":\"success\",\"icon\":null,\"js_event_callbacks\":{\"button_click\":[{\"id\":\"3384\"}]},\"label\":\"Next\",\"sizing_mode\":\"scale_width\",\"width_policy\":\"fit\"},\"id\":\"3383\",\"type\":\"Button\"},{\"attributes\":{},\"id\":\"3345\",\"type\":\"ResetTool\"},{\"attributes\":{\"fill_color\":{\"value\":\"steelblue\"},\"line_color\":{\"value\":\"steelblue\"},\"size\":{\"units\":\"screen\",\"value\":8},\"x\":{\"field\":\"x\"},\"y\":{\"field\":\"y\"}},\"id\":\"3379\",\"type\":\"Circle\"},{\"attributes\":{},\"id\":\"3346\",\"type\":\"HelpTool\"},{\"attributes\":{\"end\":8.68,\"start\":-0.68},\"id\":\"3325\",\"type\":\"Range1d\"},{\"attributes\":{\"fill_alpha\":{\"value\":0.1},\"fill_color\":{\"value\":\"steelblue\"},\"line_alpha\":{\"value\":0.1},\"line_color\":{\"value\":\"steelblue\"},\"size\":{\"units\":\"screen\",\"value\":8},\"x\":{\"field\":\"x\"},\"y\":{\"field\":\"y\"}},\"id\":\"3380\",\"type\":\"Circle\"},{\"attributes\":{\"line_width\":4,\"x\":{\"field\":\"edges_x\"},\"y\":{\"field\":\"edges_y\"}},\"id\":\"3364\",\"type\":\"Line\"},{\"attributes\":{\"source\":{\"id\":\"3378\"}},\"id\":\"3382\",\"type\":\"CDSView\"},{\"attributes\":{\"end\":8.68,\"start\":-0.68},\"id\":\"3327\",\"type\":\"Range1d\"},{\"attributes\":{\"active_drag\":\"auto\",\"active_inspect\":\"auto\",\"active_multi\":null,\"active_scroll\":\"auto\",\"active_tap\":\"auto\",\"logo\":null,\"tools\":[{\"id\":\"3341\"},{\"id\":\"3342\"},{\"id\":\"3343\"},{\"id\":\"3344\"},{\"id\":\"3345\"},{\"id\":\"3346\"}]},\"id\":\"3348\",\"type\":\"Toolbar\"},{\"attributes\":{\"line_color\":{\"value\":\"red\"},\"line_width\":{\"value\":4},\"xs\":{\"field\":\"swaps_before_x\"},\"ys\":{\"field\":\"swaps_before_y\"}},\"id\":\"3369\",\"type\":\"MultiLine\"},{\"attributes\":{},\"id\":\"3394\",\"type\":\"UnionRenderers\"},{\"attributes\":{},\"id\":\"3329\",\"type\":\"LinearScale\"},{\"attributes\":{\"data_source\":{\"id\":\"3378\"},\"glyph\":{\"id\":\"3379\"},\"hover_glyph\":null,\"muted_glyph\":null,\"nonselection_glyph\":{\"id\":\"3380\"},\"selection_glyph\":null,\"view\":{\"id\":\"3382\"}},\"id\":\"3381\",\"type\":\"GlyphRenderer\"},{\"attributes\":{},\"id\":\"3342\",\"type\":\"WheelZoomTool\"},{\"attributes\":{},\"id\":\"3397\",\"type\":\"Selection\"},{\"attributes\":{},\"id\":\"3331\",\"type\":\"LinearScale\"},{\"attributes\":{\"args\":{\"cost\":{\"id\":\"3356\"},\"done\":{\"id\":\"3357\"},\"n\":{\"id\":\"3358\"},\"source\":{\"id\":\"3359\"},\"swaps\":{\"id\":\"3362\"},\"swaps_source\":{\"id\":\"3361\"},\"tour\":{\"id\":\"3360\"}},\"code\":\"\\nif ((parseInt(n.text) + 1) < source.data['edges_y'].length) {\\n    n.text = (parseInt(n.text) + 1).toString()\\n}\\nvar iteration = parseInt(n.text)\\n\\n    cost.text = source.data['costs'][iteration].toFixed(1)\\n    \\n    if (iteration == source.data['edges_y'].length - 1) {\\n        done.text = \\\"done.\\\"\\n        swaps.data['swaps_before_x'] = [[]]\\n        swaps.data['swaps_before_y'] = [[]]\\n        swaps.data['swaps_after_x'] = [[]]\\n        swaps.data['swaps_after_y'] = [[]]\\n    } else {\\n        done.text = \\\"\\\"\\n        swaps.data['swaps_before_x'] = swaps_source.data['swaps_before_x'][iteration]\\n        swaps.data['swaps_before_y'] = swaps_source.data['swaps_before_y'][iteration]\\n        swaps.data['swaps_after_x'] = swaps_source.data['swaps_after_x'][iteration]\\n        swaps.data['swaps_after_y'] = swaps_source.data['swaps_after_y'][iteration]\\n    }\\n\\n    tour.data['edges_x'] = source.data['edges_x'][iteration]\\n    tour.data['edges_y'] = source.data['edges_y'][iteration]\\n    tour.change.emit()\\n    swaps.change.emit()\\n    \"},\"id\":\"3384\",\"type\":\"CustomJS\"},{\"attributes\":{\"source\":{\"id\":\"3360\"}},\"id\":\"3367\",\"type\":\"CDSView\"},{\"attributes\":{},\"id\":\"3396\",\"type\":\"UnionRenderers\"},{\"attributes\":{\"button_type\":\"success\",\"icon\":null,\"js_event_callbacks\":{\"button_click\":[{\"id\":\"3386\"}]},\"label\":\"Previous\",\"sizing_mode\":\"scale_width\",\"width_policy\":\"fit\"},\"id\":\"3385\",\"type\":\"Button\"},{\"attributes\":{\"formatter\":{\"id\":\"3390\"},\"ticker\":{\"id\":\"3334\"},\"visible\":false},\"id\":\"3333\",\"type\":\"LinearAxis\"},{\"attributes\":{},\"id\":\"3398\",\"type\":\"UnionRenderers\"},{\"attributes\":{\"background_fill_color\":null,\"below\":[{\"id\":\"3333\"}],\"border_fill_color\":null,\"center\":[{\"id\":\"3336\"},{\"id\":\"3340\"}],\"left\":[{\"id\":\"3337\"}],\"outline_line_color\":null,\"plot_height\":400,\"plot_width\":400,\"renderers\":[{\"id\":\"3366\"},{\"id\":\"3371\"},{\"id\":\"3376\"},{\"id\":\"3381\"}],\"title\":{\"id\":\"3323\"},\"toolbar\":{\"id\":\"3348\"},\"toolbar_location\":null,\"x_range\":{\"id\":\"3325\"},\"x_scale\":{\"id\":\"3329\"},\"y_range\":{\"id\":\"3327\"},\"y_scale\":{\"id\":\"3331\"}},\"id\":\"3322\",\"subtype\":\"Figure\",\"type\":\"Plot\"},{\"attributes\":{\"bottom_units\":\"screen\",\"fill_alpha\":0.5,\"fill_color\":\"lightgrey\",\"left_units\":\"screen\",\"level\":\"overlay\",\"line_alpha\":1.0,\"line_color\":\"black\",\"line_dash\":[4,4],\"line_width\":2,\"right_units\":\"screen\",\"top_units\":\"screen\"},\"id\":\"3347\",\"type\":\"BoxAnnotation\"},{\"attributes\":{},\"id\":\"3334\",\"type\":\"BasicTicker\"},{\"attributes\":{\"args\":{\"cost\":{\"id\":\"3356\"},\"done\":{\"id\":\"3357\"},\"n\":{\"id\":\"3358\"},\"source\":{\"id\":\"3359\"},\"swaps\":{\"id\":\"3362\"},\"swaps_source\":{\"id\":\"3361\"},\"tour\":{\"id\":\"3360\"}},\"code\":\"\\nif ((parseInt(n.text) - 1) >= 0) {\\n    n.text = (parseInt(n.text) - 1).toString()\\n}\\nvar iteration = parseInt(n.text)\\n\\n    cost.text = source.data['costs'][iteration].toFixed(1)\\n    \\n    if (iteration == source.data['edges_y'].length - 1) {\\n        done.text = \\\"done.\\\"\\n        swaps.data['swaps_before_x'] = [[]]\\n        swaps.data['swaps_before_y'] = [[]]\\n        swaps.data['swaps_after_x'] = [[]]\\n        swaps.data['swaps_after_y'] = [[]]\\n    } else {\\n        done.text = \\\"\\\"\\n        swaps.data['swaps_before_x'] = swaps_source.data['swaps_before_x'][iteration]\\n        swaps.data['swaps_before_y'] = swaps_source.data['swaps_before_y'][iteration]\\n        swaps.data['swaps_after_x'] = swaps_source.data['swaps_after_x'][iteration]\\n        swaps.data['swaps_after_y'] = swaps_source.data['swaps_after_y'][iteration]\\n    }\\n\\n    tour.data['edges_x'] = source.data['edges_x'][iteration]\\n    tour.data['edges_y'] = source.data['edges_y'][iteration]\\n    tour.change.emit()\\n    swaps.change.emit()\\n    \"},\"id\":\"3386\",\"type\":\"CustomJS\"},{\"attributes\":{\"align\":\"center\",\"text\":\"0\",\"width\":400},\"id\":\"3358\",\"type\":\"Div\"},{\"attributes\":{\"children\":[{\"id\":\"3385\"},{\"id\":\"3383\"}],\"max_width\":400,\"sizing_mode\":\"stretch_both\"},\"id\":\"3387\",\"type\":\"Row\"},{\"attributes\":{\"axis\":{\"id\":\"3333\"},\"grid_line_color\":null,\"ticker\":null},\"id\":\"3336\",\"type\":\"Grid\"},{\"attributes\":{\"line_alpha\":{\"value\":0.1},\"line_color\":{\"value\":\"red\"},\"line_width\":{\"value\":4},\"xs\":{\"field\":\"swaps_before_x\"},\"ys\":{\"field\":\"swaps_before_y\"}},\"id\":\"3370\",\"type\":\"MultiLine\"},{\"attributes\":{\"data\":{\"costs\":[105.68246251073552,104.39124472520838,103.06274592107312,101.77152813554598,100.545992328802,98.69357296346482,98.63068792762462,96.8510743959541,96.75683111004041,95.11312227978702,94.96403674783623,93.59455344987204,93.18691259711844,91.95084461961864,91.36505818199173,91.20667743495551,89.83719413699131,88.60112615949153,88.19348530673793,86.95741732923814,86.12899020449196,85.54320376686505,84.30713578936526],\"edges_x\":[[0.0,0.0,1.0,2.0,2.0,3.0,4.0,5.0,6.0,6.0,6.0,5.0,5.0,4.0,4.0,4.0,3.0,2.0,2.0,2.0,3.0,3.0,3.0,4.0,4.0,4.0,3.0,3.0,2.0,2.0,1.0,1.0,1.0,2.0,1.0,1.0,0.0,0.0,0.0,1.0,1.0,0.0,0.0,0.0,0.0,5.0,5.0,6.0,7.0,7.0,6.0,6.0,5.0,5.0,6.0,7.0,8.0,8.0,8.0,8.0,7.0,7.0,7.0,7.0,8.0,8.0,7.0,7.0,8.0,6.0,6.0,5.0,5.0,4.0,3.0,3.0,4.0,2.0,1.0,8.0,8.0,0.0],[0.0,0.0,1.0,1.0,2.0,4.0,3.0,3.0,4.0,5.0,5.0,6.0,6.0,8.0,7.0,7.0,8.0,8.0,7.0,7.0,7.0,7.0,8.0,8.0,8.0,8.0,7.0,6.0,5.0,5.0,6.0,6.0,7.0,7.0,6.0,5.0,5.0,0.0,0.0,0.0,0.0,1.0,1.0,0.0,0.0,0.0,1.0,1.0,2.0,1.0,1.0,1.0,2.0,2.0,3.0,3.0,4.0,4.0,4.0,3.0,3.0,3.0,2.0,2.0,2.0,3.0,4.0,4.0,4.0,5.0,5.0,6.0,6.0,6.0,5.0,4.0,3.0,2.0,2.0,8.0,8.0,0.0],[0.0,0.0,1.0,8.0,8.0,2.0,2.0,3.0,4.0,5.0,6.0,6.0,6.0,5.0,5.0,4.0,4.0,4.0,3.0,2.0,2.0,2.0,3.0,3.0,3.0,4.0,4.0,4.0,3.0,3.0,2.0,2.0,1.0,1.0,1.0,2.0,1.0,1.0,0.0,0.0,0.0,1.0,1.0,0.0,0.0,0.0,0.0,5.0,5.0,6.0,7.0,7.0,6.0,6.0,5.0,5.0,6.0,7.0,8.0,8.0,8.0,8.0,7.0,7.0,7.0,7.0,8.0,8.0,7.0,7.0,8.0,6.0,6.0,5.0,5.0,4.0,3.0,3.0,4.0,2.0,1.0,0.0],[0.0,0.0,1.0,2.0,8.0,8.0,2.0,3.0,4.0,5.0,6.0,6.0,6.0,5.0,5.0,4.0,4.0,4.0,3.0,2.0,2.0,2.0,3.0,3.0,3.0,4.0,4.0,4.0,3.0,3.0,2.0,2.0,1.0,1.0,1.0,2.0,1.0,1.0,0.0,0.0,0.0,1.0,1.0,0.0,0.0,0.0,0.0,5.0,5.0,6.0,7.0,7.0,6.0,6.0,5.0,5.0,6.0,7.0,8.0,8.0,8.0,8.0,7.0,7.0,7.0,7.0,8.0,8.0,7.0,7.0,8.0,6.0,6.0,5.0,5.0,4.0,3.0,3.0,4.0,2.0,1.0,0.0],[0.0,0.0,1.0,2.0,2.0,8.0,8.0,3.0,4.0,5.0,6.0,6.0,6.0,5.0,5.0,4.0,4.0,4.0,3.0,2.0,2.0,2.0,3.0,3.0,3.0,4.0,4.0,4.0,3.0,3.0,2.0,2.0,1.0,1.0,1.0,2.0,1.0,1.0,0.0,0.0,0.0,1.0,1.0,0.0,0.0,0.0,0.0,5.0,5.0,6.0,7.0,7.0,6.0,6.0,5.0,5.0,6.0,7.0,8.0,8.0,8.0,8.0,7.0,7.0,7.0,7.0,8.0,8.0,7.0,7.0,8.0,6.0,6.0,5.0,5.0,4.0,3.0,3.0,4.0,2.0,1.0,0.0],[0.0,0.0,1.0,2.0,2.0,3.0,8.0,8.0,4.0,5.0,6.0,6.0,6.0,5.0,5.0,4.0,4.0,4.0,3.0,2.0,2.0,2.0,3.0,3.0,3.0,4.0,4.0,4.0,3.0,3.0,2.0,2.0,1.0,1.0,1.0,2.0,1.0,1.0,0.0,0.0,0.0,1.0,1.0,0.0,0.0,0.0,0.0,5.0,5.0,6.0,7.0,7.0,6.0,6.0,5.0,5.0,6.0,7.0,8.0,8.0,8.0,8.0,7.0,7.0,7.0,7.0,8.0,8.0,7.0,7.0,8.0,6.0,6.0,5.0,5.0,4.0,3.0,3.0,4.0,2.0,1.0,0.0],[0.0,0.0,1.0,2.0,2.0,3.0,8.0,8.0,4.0,5.0,6.0,6.0,6.0,5.0,5.0,4.0,4.0,4.0,3.0,2.0,2.0,2.0,3.0,3.0,3.0,4.0,4.0,4.0,3.0,3.0,2.0,2.0,1.0,1.0,1.0,2.0,1.0,1.0,0.0,0.0,0.0,1.0,1.0,0.0,0.0,0.0,0.0,5.0,5.0,6.0,7.0,7.0,6.0,6.0,5.0,5.0,6.0,7.0,8.0,8.0,8.0,8.0,7.0,7.0,7.0,7.0,8.0,8.0,7.0,7.0,8.0,6.0,6.0,5.0,5.0,4.0,3.0,3.0,4.0,2.0,1.0,0.0],[0.0,0.0,1.0,2.0,2.0,3.0,4.0,8.0,8.0,5.0,6.0,6.0,6.0,5.0,5.0,4.0,4.0,4.0,3.0,2.0,2.0,2.0,3.0,3.0,3.0,4.0,4.0,4.0,3.0,3.0,2.0,2.0,1.0,1.0,1.0,2.0,1.0,1.0,0.0,0.0,0.0,1.0,1.0,0.0,0.0,0.0,0.0,5.0,5.0,6.0,7.0,7.0,6.0,6.0,5.0,5.0,6.0,7.0,8.0,8.0,8.0,8.0,7.0,7.0,7.0,7.0,8.0,8.0,7.0,7.0,8.0,6.0,6.0,5.0,5.0,4.0,3.0,3.0,4.0,2.0,1.0,0.0],[0.0,0.0,1.0,2.0,2.0,3.0,4.0,8.0,8.0,5.0,6.0,6.0,6.0,5.0,5.0,4.0,4.0,4.0,3.0,2.0,2.0,2.0,3.0,3.0,3.0,4.0,4.0,4.0,3.0,3.0,2.0,2.0,1.0,1.0,1.0,2.0,1.0,1.0,0.0,0.0,0.0,1.0,1.0,0.0,0.0,0.0,0.0,5.0,5.0,6.0,7.0,7.0,6.0,6.0,5.0,5.0,6.0,7.0,8.0,8.0,8.0,8.0,7.0,7.0,7.0,7.0,8.0,8.0,7.0,7.0,8.0,6.0,6.0,5.0,5.0,4.0,3.0,3.0,4.0,2.0,1.0,0.0],[0.0,0.0,1.0,2.0,2.0,3.0,4.0,5.0,8.0,8.0,6.0,6.0,6.0,5.0,5.0,4.0,4.0,4.0,3.0,2.0,2.0,2.0,3.0,3.0,3.0,4.0,4.0,4.0,3.0,3.0,2.0,2.0,1.0,1.0,1.0,2.0,1.0,1.0,0.0,0.0,0.0,1.0,1.0,0.0,0.0,0.0,0.0,5.0,5.0,6.0,7.0,7.0,6.0,6.0,5.0,5.0,6.0,7.0,8.0,8.0,8.0,8.0,7.0,7.0,7.0,7.0,8.0,8.0,7.0,7.0,8.0,6.0,6.0,5.0,5.0,4.0,3.0,3.0,4.0,2.0,1.0,0.0],[0.0,0.0,1.0,2.0,2.0,3.0,4.0,5.0,8.0,8.0,6.0,6.0,6.0,5.0,5.0,4.0,4.0,4.0,3.0,2.0,2.0,2.0,3.0,3.0,3.0,4.0,4.0,4.0,3.0,3.0,2.0,2.0,1.0,1.0,1.0,2.0,1.0,1.0,0.0,0.0,0.0,1.0,1.0,0.0,0.0,0.0,0.0,5.0,5.0,6.0,7.0,7.0,6.0,6.0,5.0,5.0,6.0,7.0,8.0,8.0,8.0,8.0,7.0,7.0,7.0,7.0,8.0,8.0,7.0,7.0,8.0,6.0,6.0,5.0,5.0,4.0,3.0,3.0,4.0,2.0,1.0,0.0],[0.0,0.0,1.0,2.0,2.0,3.0,4.0,5.0,6.0,8.0,8.0,6.0,6.0,5.0,5.0,4.0,4.0,4.0,3.0,2.0,2.0,2.0,3.0,3.0,3.0,4.0,4.0,4.0,3.0,3.0,2.0,2.0,1.0,1.0,1.0,2.0,1.0,1.0,0.0,0.0,0.0,1.0,1.0,0.0,0.0,0.0,0.0,5.0,5.0,6.0,7.0,7.0,6.0,6.0,5.0,5.0,6.0,7.0,8.0,8.0,8.0,8.0,7.0,7.0,7.0,7.0,8.0,8.0,7.0,7.0,8.0,6.0,6.0,5.0,5.0,4.0,3.0,3.0,4.0,2.0,1.0,0.0],[0.0,0.0,1.0,2.0,2.0,3.0,4.0,5.0,6.0,7.0,7.0,7.0,8.0,8.0,8.0,8.0,7.0,6.0,5.0,5.0,6.0,6.0,7.0,7.0,6.0,5.0,5.0,0.0,0.0,0.0,0.0,1.0,1.0,0.0,0.0,0.0,1.0,1.0,2.0,1.0,1.0,1.0,2.0,2.0,3.0,3.0,4.0,4.0,4.0,3.0,3.0,3.0,2.0,2.0,2.0,3.0,4.0,4.0,4.0,5.0,5.0,6.0,6.0,8.0,8.0,7.0,8.0,8.0,7.0,7.0,8.0,6.0,6.0,5.0,5.0,4.0,3.0,3.0,4.0,2.0,1.0,0.0],[0.0,0.0,1.0,2.0,2.0,3.0,4.0,5.0,6.0,6.0,6.0,5.0,5.0,4.0,4.0,4.0,3.0,2.0,2.0,2.0,3.0,3.0,3.0,4.0,4.0,4.0,3.0,3.0,2.0,2.0,1.0,1.0,1.0,2.0,1.0,1.0,0.0,0.0,0.0,1.0,1.0,0.0,0.0,0.0,0.0,5.0,5.0,6.0,7.0,7.0,6.0,6.0,5.0,5.0,6.0,7.0,8.0,8.0,8.0,8.0,7.0,7.0,7.0,8.0,8.0,7.0,8.0,8.0,7.0,7.0,8.0,6.0,6.0,5.0,5.0,4.0,3.0,3.0,4.0,2.0,1.0,0.0],[0.0,0.0,1.0,2.0,2.0,3.0,4.0,5.0,6.0,6.0,6.0,5.0,5.0,4.0,4.0,3.0,3.0,2.0,2.0,2.0,3.0,4.0,3.0,4.0,4.0,4.0,3.0,3.0,2.0,2.0,1.0,1.0,1.0,2.0,1.0,1.0,0.0,0.0,0.0,1.0,1.0,0.0,0.0,0.0,0.0,5.0,5.0,6.0,7.0,7.0,6.0,6.0,5.0,5.0,6.0,7.0,8.0,8.0,8.0,8.0,7.0,7.0,7.0,8.0,8.0,7.0,8.0,8.0,7.0,7.0,8.0,6.0,6.0,5.0,5.0,4.0,3.0,3.0,4.0,2.0,1.0,0.0],[0.0,0.0,1.0,2.0,2.0,3.0,4.0,5.0,6.0,6.0,6.0,5.0,5.0,4.0,4.0,3.0,3.0,2.0,2.0,2.0,3.0,4.0,3.0,0.0,0.0,0.0,0.0,1.0,1.0,0.0,0.0,0.0,1.0,1.0,2.0,1.0,1.0,1.0,2.0,2.0,3.0,3.0,4.0,4.0,4.0,5.0,5.0,6.0,7.0,7.0,6.0,6.0,5.0,5.0,6.0,7.0,8.0,8.0,8.0,8.0,7.0,7.0,7.0,8.0,8.0,7.0,8.0,8.0,7.0,7.0,8.0,6.0,6.0,5.0,5.0,4.0,3.0,3.0,4.0,2.0,1.0,0.0],[0.0,0.0,1.0,2.0,2.0,3.0,4.0,5.0,6.0,6.0,6.0,5.0,5.0,4.0,4.0,3.0,3.0,2.0,2.0,2.0,3.0,4.0,3.0,2.0,1.0,1.0,0.0,0.0,0.0,1.0,1.0,0.0,0.0,0.0,0.0,1.0,1.0,1.0,2.0,2.0,3.0,3.0,4.0,4.0,4.0,5.0,5.0,6.0,7.0,7.0,6.0,6.0,5.0,5.0,6.0,7.0,8.0,8.0,8.0,8.0,7.0,7.0,7.0,8.0,8.0,7.0,8.0,8.0,7.0,7.0,8.0,6.0,6.0,5.0,5.0,4.0,3.0,3.0,4.0,2.0,1.0,0.0],[0.0,0.0,1.0,2.0,2.0,3.0,4.0,5.0,6.0,6.0,6.0,5.0,5.0,4.0,4.0,3.0,3.0,2.0,2.0,2.0,3.0,4.0,3.0,2.0,1.0,1.0,1.0,1.0,0.0,0.0,0.0,0.0,0.0,0.0,0.0,1.0,1.0,1.0,2.0,2.0,3.0,3.0,4.0,4.0,4.0,5.0,5.0,6.0,7.0,7.0,6.0,6.0,5.0,5.0,6.0,7.0,8.0,8.0,8.0,8.0,7.0,7.0,7.0,8.0,8.0,7.0,8.0,8.0,7.0,7.0,8.0,6.0,6.0,5.0,5.0,4.0,3.0,3.0,4.0,2.0,1.0,0.0],[0.0,0.0,1.0,2.0,2.0,3.0,4.0,5.0,6.0,6.0,6.0,5.0,5.0,4.0,4.0,3.0,3.0,2.0,2.0,2.0,3.0,4.0,3.0,2.0,1.0,1.0,1.0,1.0,0.0,0.0,0.0,0.0,0.0,0.0,0.0,1.0,1.0,1.0,2.0,2.0,3.0,3.0,4.0,4.0,4.0,5.0,5.0,6.0,7.0,7.0,6.0,6.0,5.0,5.0,6.0,7.0,8.0,8.0,8.0,8.0,7.0,7.0,7.0,8.0,8.0,7.0,8.0,8.0,7.0,7.0,8.0,6.0,6.0,5.0,5.0,4.0,3.0,3.0,4.0,2.0,1.0,0.0],[0.0,0.0,1.0,2.0,2.0,3.0,4.0,5.0,6.0,6.0,6.0,5.0,5.0,4.0,4.0,3.0,3.0,2.0,2.0,2.0,3.0,4.0,3.0,2.0,1.0,1.0,1.0,1.0,0.0,0.0,0.0,0.0,0.0,0.0,0.0,1.0,1.0,1.0,2.0,2.0,3.0,3.0,4.0,4.0,4.0,5.0,5.0,6.0,6.0,7.0,7.0,6.0,5.0,5.0,6.0,7.0,8.0,8.0,8.0,8.0,7.0,7.0,7.0,8.0,8.0,7.0,8.0,8.0,7.0,7.0,8.0,6.0,6.0,5.0,5.0,4.0,3.0,3.0,4.0,2.0,1.0,0.0],[0.0,0.0,1.0,2.0,2.0,3.0,4.0,5.0,6.0,6.0,6.0,5.0,5.0,4.0,4.0,3.0,3.0,2.0,2.0,2.0,3.0,4.0,3.0,2.0,1.0,1.0,1.0,1.0,0.0,0.0,0.0,0.0,0.0,0.0,0.0,1.0,1.0,1.0,2.0,2.0,3.0,3.0,4.0,4.0,4.0,5.0,5.0,6.0,6.0,7.0,7.0,6.0,5.0,5.0,6.0,7.0,8.0,8.0,8.0,8.0,7.0,7.0,7.0,8.0,8.0,7.0,8.0,8.0,7.0,7.0,8.0,6.0,6.0,5.0,5.0,4.0,3.0,3.0,4.0,2.0,1.0,0.0],[0.0,0.0,1.0,2.0,2.0,3.0,4.0,5.0,6.0,6.0,6.0,5.0,5.0,4.0,4.0,3.0,3.0,2.0,2.0,2.0,3.0,4.0,3.0,2.0,1.0,1.0,1.0,1.0,0.0,0.0,0.0,0.0,0.0,0.0,0.0,1.0,1.0,1.0,2.0,2.0,3.0,3.0,4.0,4.0,4.0,5.0,5.0,6.0,6.0,7.0,7.0,6.0,5.0,5.0,6.0,7.0,8.0,8.0,8.0,8.0,7.0,7.0,7.0,8.0,8.0,7.0,8.0,8.0,8.0,7.0,7.0,6.0,6.0,5.0,5.0,4.0,3.0,3.0,4.0,2.0,1.0,0.0],[0.0,0.0,1.0,2.0,2.0,3.0,4.0,5.0,6.0,6.0,6.0,5.0,5.0,4.0,4.0,3.0,3.0,2.0,2.0,2.0,3.0,4.0,3.0,2.0,1.0,1.0,1.0,1.0,0.0,0.0,0.0,0.0,0.0,0.0,0.0,1.0,1.0,1.0,2.0,2.0,3.0,3.0,4.0,4.0,4.0,5.0,5.0,6.0,6.0,7.0,7.0,6.0,5.0,5.0,6.0,7.0,8.0,8.0,8.0,8.0,7.0,7.0,7.0,8.0,8.0,7.0,8.0,8.0,8.0,7.0,7.0,6.0,6.0,5.0,5.0,4.0,4.0,3.0,3.0,2.0,1.0,0.0]],\"edges_y\":[[0.0,1.0,1.0,1.0,2.0,2.0,2.0,2.0,2.0,3.0,4.0,4.0,3.0,3.0,4.0,5.0,5.0,5.0,4.0,3.0,3.0,4.0,6.0,6.0,7.0,8.0,8.0,7.0,7.0,8.0,8.0,7.0,6.0,6.0,5.0,4.0,4.0,3.0,2.0,2.0,3.0,5.0,6.0,7.0,8.0,8.0,7.0,7.0,7.0,6.0,6.0,5.0,5.0,6.0,8.0,8.0,8.0,7.0,6.0,5.0,5.0,4.0,3.0,2.0,2.0,1.0,1.0,0.0,0.0,0.0,1.0,1.0,0.0,0.0,0.0,1.0,1.0,0.0,0.0,3.0,4.0,0.0],[0.0,1.0,1.0,0.0,0.0,1.0,1.0,0.0,0.0,0.0,1.0,1.0,0.0,0.0,0.0,1.0,1.0,2.0,2.0,3.0,4.0,5.0,5.0,6.0,7.0,8.0,8.0,8.0,6.0,5.0,5.0,6.0,6.0,7.0,7.0,7.0,8.0,8.0,7.0,6.0,5.0,3.0,2.0,2.0,3.0,4.0,4.0,5.0,6.0,6.0,7.0,8.0,8.0,7.0,7.0,8.0,8.0,7.0,6.0,6.0,4.0,3.0,3.0,4.0,5.0,5.0,5.0,4.0,3.0,3.0,4.0,4.0,3.0,2.0,2.0,2.0,2.0,2.0,1.0,3.0,4.0,0.0],[0.0,1.0,1.0,4.0,3.0,1.0,2.0,2.0,2.0,2.0,2.0,3.0,4.0,4.0,3.0,3.0,4.0,5.0,5.0,5.0,4.0,3.0,3.0,4.0,6.0,6.0,7.0,8.0,8.0,7.0,7.0,8.0,8.0,7.0,6.0,6.0,5.0,4.0,4.0,3.0,2.0,2.0,3.0,5.0,6.0,7.0,8.0,8.0,7.0,7.0,7.0,6.0,6.0,5.0,5.0,6.0,8.0,8.0,8.0,7.0,6.0,5.0,5.0,4.0,3.0,2.0,2.0,1.0,1.0,0.0,0.0,0.0,1.0,1.0,0.0,0.0,0.0,1.0,1.0,0.0,0.0,0.0],[0.0,1.0,1.0,1.0,3.0,4.0,2.0,2.0,2.0,2.0,2.0,3.0,4.0,4.0,3.0,3.0,4.0,5.0,5.0,5.0,4.0,3.0,3.0,4.0,6.0,6.0,7.0,8.0,8.0,7.0,7.0,8.0,8.0,7.0,6.0,6.0,5.0,4.0,4.0,3.0,2.0,2.0,3.0,5.0,6.0,7.0,8.0,8.0,7.0,7.0,7.0,6.0,6.0,5.0,5.0,6.0,8.0,8.0,8.0,7.0,6.0,5.0,5.0,4.0,3.0,2.0,2.0,1.0,1.0,0.0,0.0,0.0,1.0,1.0,0.0,0.0,0.0,1.0,1.0,0.0,0.0,0.0],[0.0,1.0,1.0,1.0,2.0,4.0,3.0,2.0,2.0,2.0,2.0,3.0,4.0,4.0,3.0,3.0,4.0,5.0,5.0,5.0,4.0,3.0,3.0,4.0,6.0,6.0,7.0,8.0,8.0,7.0,7.0,8.0,8.0,7.0,6.0,6.0,5.0,4.0,4.0,3.0,2.0,2.0,3.0,5.0,6.0,7.0,8.0,8.0,7.0,7.0,7.0,6.0,6.0,5.0,5.0,6.0,8.0,8.0,8.0,7.0,6.0,5.0,5.0,4.0,3.0,2.0,2.0,1.0,1.0,0.0,0.0,0.0,1.0,1.0,0.0,0.0,0.0,1.0,1.0,0.0,0.0,0.0],[0.0,1.0,1.0,1.0,2.0,2.0,3.0,4.0,2.0,2.0,2.0,3.0,4.0,4.0,3.0,3.0,4.0,5.0,5.0,5.0,4.0,3.0,3.0,4.0,6.0,6.0,7.0,8.0,8.0,7.0,7.0,8.0,8.0,7.0,6.0,6.0,5.0,4.0,4.0,3.0,2.0,2.0,3.0,5.0,6.0,7.0,8.0,8.0,7.0,7.0,7.0,6.0,6.0,5.0,5.0,6.0,8.0,8.0,8.0,7.0,6.0,5.0,5.0,4.0,3.0,2.0,2.0,1.0,1.0,0.0,0.0,0.0,1.0,1.0,0.0,0.0,0.0,1.0,1.0,0.0,0.0,0.0],[0.0,1.0,1.0,1.0,2.0,2.0,4.0,3.0,2.0,2.0,2.0,3.0,4.0,4.0,3.0,3.0,4.0,5.0,5.0,5.0,4.0,3.0,3.0,4.0,6.0,6.0,7.0,8.0,8.0,7.0,7.0,8.0,8.0,7.0,6.0,6.0,5.0,4.0,4.0,3.0,2.0,2.0,3.0,5.0,6.0,7.0,8.0,8.0,7.0,7.0,7.0,6.0,6.0,5.0,5.0,6.0,8.0,8.0,8.0,7.0,6.0,5.0,5.0,4.0,3.0,2.0,2.0,1.0,1.0,0.0,0.0,0.0,1.0,1.0,0.0,0.0,0.0,1.0,1.0,0.0,0.0,0.0],[0.0,1.0,1.0,1.0,2.0,2.0,2.0,3.0,4.0,2.0,2.0,3.0,4.0,4.0,3.0,3.0,4.0,5.0,5.0,5.0,4.0,3.0,3.0,4.0,6.0,6.0,7.0,8.0,8.0,7.0,7.0,8.0,8.0,7.0,6.0,6.0,5.0,4.0,4.0,3.0,2.0,2.0,3.0,5.0,6.0,7.0,8.0,8.0,7.0,7.0,7.0,6.0,6.0,5.0,5.0,6.0,8.0,8.0,8.0,7.0,6.0,5.0,5.0,4.0,3.0,2.0,2.0,1.0,1.0,0.0,0.0,0.0,1.0,1.0,0.0,0.0,0.0,1.0,1.0,0.0,0.0,0.0],[0.0,1.0,1.0,1.0,2.0,2.0,2.0,4.0,3.0,2.0,2.0,3.0,4.0,4.0,3.0,3.0,4.0,5.0,5.0,5.0,4.0,3.0,3.0,4.0,6.0,6.0,7.0,8.0,8.0,7.0,7.0,8.0,8.0,7.0,6.0,6.0,5.0,4.0,4.0,3.0,2.0,2.0,3.0,5.0,6.0,7.0,8.0,8.0,7.0,7.0,7.0,6.0,6.0,5.0,5.0,6.0,8.0,8.0,8.0,7.0,6.0,5.0,5.0,4.0,3.0,2.0,2.0,1.0,1.0,0.0,0.0,0.0,1.0,1.0,0.0,0.0,0.0,1.0,1.0,0.0,0.0,0.0],[0.0,1.0,1.0,1.0,2.0,2.0,2.0,2.0,3.0,4.0,2.0,3.0,4.0,4.0,3.0,3.0,4.0,5.0,5.0,5.0,4.0,3.0,3.0,4.0,6.0,6.0,7.0,8.0,8.0,7.0,7.0,8.0,8.0,7.0,6.0,6.0,5.0,4.0,4.0,3.0,2.0,2.0,3.0,5.0,6.0,7.0,8.0,8.0,7.0,7.0,7.0,6.0,6.0,5.0,5.0,6.0,8.0,8.0,8.0,7.0,6.0,5.0,5.0,4.0,3.0,2.0,2.0,1.0,1.0,0.0,0.0,0.0,1.0,1.0,0.0,0.0,0.0,1.0,1.0,0.0,0.0,0.0],[0.0,1.0,1.0,1.0,2.0,2.0,2.0,2.0,4.0,3.0,2.0,3.0,4.0,4.0,3.0,3.0,4.0,5.0,5.0,5.0,4.0,3.0,3.0,4.0,6.0,6.0,7.0,8.0,8.0,7.0,7.0,8.0,8.0,7.0,6.0,6.0,5.0,4.0,4.0,3.0,2.0,2.0,3.0,5.0,6.0,7.0,8.0,8.0,7.0,7.0,7.0,6.0,6.0,5.0,5.0,6.0,8.0,8.0,8.0,7.0,6.0,5.0,5.0,4.0,3.0,2.0,2.0,1.0,1.0,0.0,0.0,0.0,1.0,1.0,0.0,0.0,0.0,1.0,1.0,0.0,0.0,0.0],[0.0,1.0,1.0,1.0,2.0,2.0,2.0,2.0,2.0,3.0,4.0,3.0,4.0,4.0,3.0,3.0,4.0,5.0,5.0,5.0,4.0,3.0,3.0,4.0,6.0,6.0,7.0,8.0,8.0,7.0,7.0,8.0,8.0,7.0,6.0,6.0,5.0,4.0,4.0,3.0,2.0,2.0,3.0,5.0,6.0,7.0,8.0,8.0,7.0,7.0,7.0,6.0,6.0,5.0,5.0,6.0,8.0,8.0,8.0,7.0,6.0,5.0,5.0,4.0,3.0,2.0,2.0,1.0,1.0,0.0,0.0,0.0,1.0,1.0,0.0,0.0,0.0,1.0,1.0,0.0,0.0,0.0],[0.0,1.0,1.0,1.0,2.0,2.0,2.0,2.0,2.0,3.0,4.0,5.0,5.0,6.0,7.0,8.0,8.0,8.0,6.0,5.0,5.0,6.0,6.0,7.0,7.0,7.0,8.0,8.0,7.0,6.0,5.0,3.0,2.0,2.0,3.0,4.0,4.0,5.0,6.0,6.0,7.0,8.0,8.0,7.0,7.0,8.0,8.0,7.0,6.0,6.0,4.0,3.0,3.0,4.0,5.0,5.0,5.0,4.0,3.0,3.0,4.0,4.0,3.0,4.0,3.0,2.0,2.0,1.0,1.0,0.0,0.0,0.0,1.0,1.0,0.0,0.0,0.0,1.0,1.0,0.0,0.0,0.0],[0.0,1.0,1.0,1.0,2.0,2.0,2.0,2.0,2.0,3.0,4.0,4.0,3.0,3.0,4.0,5.0,5.0,5.0,4.0,3.0,3.0,4.0,6.0,6.0,7.0,8.0,8.0,7.0,7.0,8.0,8.0,7.0,6.0,6.0,5.0,4.0,4.0,3.0,2.0,2.0,3.0,5.0,6.0,7.0,8.0,8.0,7.0,7.0,7.0,6.0,6.0,5.0,5.0,6.0,8.0,8.0,8.0,7.0,6.0,5.0,5.0,4.0,3.0,4.0,3.0,2.0,2.0,1.0,1.0,0.0,0.0,0.0,1.0,1.0,0.0,0.0,0.0,1.0,1.0,0.0,0.0,0.0],[0.0,1.0,1.0,1.0,2.0,2.0,2.0,2.0,2.0,3.0,4.0,4.0,3.0,3.0,4.0,4.0,3.0,3.0,4.0,5.0,5.0,5.0,6.0,6.0,7.0,8.0,8.0,7.0,7.0,8.0,8.0,7.0,6.0,6.0,5.0,4.0,4.0,3.0,2.0,2.0,3.0,5.0,6.0,7.0,8.0,8.0,7.0,7.0,7.0,6.0,6.0,5.0,5.0,6.0,8.0,8.0,8.0,7.0,6.0,5.0,5.0,4.0,3.0,4.0,3.0,2.0,2.0,1.0,1.0,0.0,0.0,0.0,1.0,1.0,0.0,0.0,0.0,1.0,1.0,0.0,0.0,0.0],[0.0,1.0,1.0,1.0,2.0,2.0,2.0,2.0,2.0,3.0,4.0,4.0,3.0,3.0,4.0,4.0,3.0,3.0,4.0,5.0,5.0,5.0,6.0,8.0,7.0,6.0,5.0,3.0,2.0,2.0,3.0,4.0,4.0,5.0,6.0,6.0,7.0,8.0,8.0,7.0,7.0,8.0,8.0,7.0,6.0,8.0,7.0,7.0,7.0,6.0,6.0,5.0,5.0,6.0,8.0,8.0,8.0,7.0,6.0,5.0,5.0,4.0,3.0,4.0,3.0,2.0,2.0,1.0,1.0,0.0,0.0,0.0,1.0,1.0,0.0,0.0,0.0,1.0,1.0,0.0,0.0,0.0],[0.0,1.0,1.0,1.0,2.0,2.0,2.0,2.0,2.0,3.0,4.0,4.0,3.0,3.0,4.0,4.0,3.0,3.0,4.0,5.0,5.0,5.0,6.0,6.0,5.0,4.0,4.0,3.0,2.0,2.0,3.0,5.0,6.0,7.0,8.0,6.0,7.0,8.0,8.0,7.0,7.0,8.0,8.0,7.0,6.0,8.0,7.0,7.0,7.0,6.0,6.0,5.0,5.0,6.0,8.0,8.0,8.0,7.0,6.0,5.0,5.0,4.0,3.0,4.0,3.0,2.0,2.0,1.0,1.0,0.0,0.0,0.0,1.0,1.0,0.0,0.0,0.0,1.0,1.0,0.0,0.0,0.0],[0.0,1.0,1.0,1.0,2.0,2.0,2.0,2.0,2.0,3.0,4.0,4.0,3.0,3.0,4.0,4.0,3.0,3.0,4.0,5.0,5.0,5.0,6.0,6.0,5.0,4.0,3.0,2.0,2.0,3.0,4.0,5.0,6.0,7.0,8.0,6.0,7.0,8.0,8.0,7.0,7.0,8.0,8.0,7.0,6.0,8.0,7.0,7.0,7.0,6.0,6.0,5.0,5.0,6.0,8.0,8.0,8.0,7.0,6.0,5.0,5.0,4.0,3.0,4.0,3.0,2.0,2.0,1.0,1.0,0.0,0.0,0.0,1.0,1.0,0.0,0.0,0.0,1.0,1.0,0.0,0.0,0.0],[0.0,1.0,1.0,1.0,2.0,2.0,2.0,2.0,2.0,3.0,4.0,4.0,3.0,3.0,4.0,4.0,3.0,3.0,4.0,5.0,5.0,5.0,6.0,6.0,5.0,4.0,3.0,2.0,2.0,3.0,4.0,5.0,6.0,7.0,8.0,6.0,7.0,8.0,8.0,7.0,7.0,8.0,8.0,7.0,6.0,7.0,8.0,7.0,7.0,6.0,6.0,5.0,5.0,6.0,8.0,8.0,8.0,7.0,6.0,5.0,5.0,4.0,3.0,4.0,3.0,2.0,2.0,1.0,1.0,0.0,0.0,0.0,1.0,1.0,0.0,0.0,0.0,1.0,1.0,0.0,0.0,0.0],[0.0,1.0,1.0,1.0,2.0,2.0,2.0,2.0,2.0,3.0,4.0,4.0,3.0,3.0,4.0,4.0,3.0,3.0,4.0,5.0,5.0,5.0,6.0,6.0,5.0,4.0,3.0,2.0,2.0,3.0,4.0,5.0,6.0,7.0,8.0,6.0,7.0,8.0,8.0,7.0,7.0,8.0,8.0,7.0,6.0,6.0,5.0,5.0,6.0,6.0,7.0,7.0,8.0,7.0,8.0,8.0,8.0,7.0,6.0,5.0,5.0,4.0,3.0,4.0,3.0,2.0,2.0,1.0,1.0,0.0,0.0,0.0,1.0,1.0,0.0,0.0,0.0,1.0,1.0,0.0,0.0,0.0],[0.0,1.0,1.0,1.0,2.0,2.0,2.0,2.0,2.0,3.0,4.0,4.0,3.0,3.0,4.0,4.0,3.0,3.0,4.0,5.0,5.0,5.0,6.0,6.0,5.0,4.0,3.0,2.0,2.0,3.0,4.0,5.0,6.0,7.0,8.0,6.0,7.0,8.0,8.0,7.0,7.0,8.0,8.0,7.0,6.0,6.0,5.0,5.0,6.0,6.0,7.0,7.0,7.0,8.0,8.0,8.0,8.0,7.0,6.0,5.0,5.0,4.0,3.0,4.0,3.0,2.0,2.0,1.0,1.0,0.0,0.0,0.0,1.0,1.0,0.0,0.0,0.0,1.0,1.0,0.0,0.0,0.0],[0.0,1.0,1.0,1.0,2.0,2.0,2.0,2.0,2.0,3.0,4.0,4.0,3.0,3.0,4.0,4.0,3.0,3.0,4.0,5.0,5.0,5.0,6.0,6.0,5.0,4.0,3.0,2.0,2.0,3.0,4.0,5.0,6.0,7.0,8.0,6.0,7.0,8.0,8.0,7.0,7.0,8.0,8.0,7.0,6.0,6.0,5.0,5.0,6.0,6.0,7.0,7.0,7.0,8.0,8.0,8.0,8.0,7.0,6.0,5.0,5.0,4.0,3.0,4.0,3.0,2.0,2.0,1.0,0.0,0.0,1.0,0.0,1.0,1.0,0.0,0.0,0.0,1.0,1.0,0.0,0.0,0.0],[0.0,1.0,1.0,1.0,2.0,2.0,2.0,2.0,2.0,3.0,4.0,4.0,3.0,3.0,4.0,4.0,3.0,3.0,4.0,5.0,5.0,5.0,6.0,6.0,5.0,4.0,3.0,2.0,2.0,3.0,4.0,5.0,6.0,7.0,8.0,6.0,7.0,8.0,8.0,7.0,7.0,8.0,8.0,7.0,6.0,6.0,5.0,5.0,6.0,6.0,7.0,7.0,7.0,8.0,8.0,8.0,8.0,7.0,6.0,5.0,5.0,4.0,3.0,4.0,3.0,2.0,2.0,1.0,0.0,0.0,1.0,0.0,1.0,1.0,0.0,0.0,1.0,1.0,0.0,0.0,0.0,0.0]]},\"selected\":{\"id\":\"3405\"},\"selection_policy\":{\"id\":\"3404\"}},\"id\":\"3359\",\"type\":\"ColumnDataSource\"},{\"attributes\":{\"children\":[{\"id\":\"3356\"},{\"id\":\"3357\"}]},\"id\":\"3388\",\"type\":\"Row\"},{\"attributes\":{\"formatter\":{\"id\":\"3392\"},\"ticker\":{\"id\":\"3338\"},\"visible\":false},\"id\":\"3337\",\"type\":\"LinearAxis\"},{\"attributes\":{\"text\":\"\"},\"id\":\"3323\",\"type\":\"Title\"},{\"attributes\":{\"data\":{\"edges_x\":[0.0,0.0,1.0,2.0,2.0,3.0,4.0,5.0,6.0,6.0,6.0,5.0,5.0,4.0,4.0,4.0,3.0,2.0,2.0,2.0,3.0,3.0,3.0,4.0,4.0,4.0,3.0,3.0,2.0,2.0,1.0,1.0,1.0,2.0,1.0,1.0,0.0,0.0,0.0,1.0,1.0,0.0,0.0,0.0,0.0,5.0,5.0,6.0,7.0,7.0,6.0,6.0,5.0,5.0,6.0,7.0,8.0,8.0,8.0,8.0,7.0,7.0,7.0,7.0,8.0,8.0,7.0,7.0,8.0,6.0,6.0,5.0,5.0,4.0,3.0,3.0,4.0,2.0,1.0,8.0,8.0,0.0],\"edges_y\":[0.0,1.0,1.0,1.0,2.0,2.0,2.0,2.0,2.0,3.0,4.0,4.0,3.0,3.0,4.0,5.0,5.0,5.0,4.0,3.0,3.0,4.0,6.0,6.0,7.0,8.0,8.0,7.0,7.0,8.0,8.0,7.0,6.0,6.0,5.0,4.0,4.0,3.0,2.0,2.0,3.0,5.0,6.0,7.0,8.0,8.0,7.0,7.0,7.0,6.0,6.0,5.0,5.0,6.0,8.0,8.0,8.0,7.0,6.0,5.0,5.0,4.0,3.0,2.0,2.0,1.0,1.0,0.0,0.0,0.0,1.0,1.0,0.0,0.0,0.0,1.0,1.0,0.0,0.0,3.0,4.0,0.0]},\"selected\":{\"id\":\"3395\"},\"selection_policy\":{\"id\":\"3394\"}},\"id\":\"3360\",\"type\":\"ColumnDataSource\"},{\"attributes\":{},\"id\":\"3338\",\"type\":\"BasicTicker\"},{\"attributes\":{\"line_alpha\":0.1,\"line_width\":4,\"x\":{\"field\":\"edges_x\"},\"y\":{\"field\":\"edges_y\"}},\"id\":\"3365\",\"type\":\"Line\"},{\"attributes\":{\"data\":{\"swaps_after_x\":[[[1.0,1.0],[2.0,8.0]],[[1.0,8.0],[1.0,0.0]],[[1.0,2.0],[8.0,2.0]],[[2.0,2.0],[8.0,3.0]],[[2.0,3.0],[8.0,4.0]],[[3.0,8.0],[8.0,4.0]],[[3.0,4.0],[8.0,5.0]],[[4.0,8.0],[8.0,5.0]],[[4.0,5.0],[8.0,6.0]],[[5.0,8.0],[8.0,6.0]],[[5.0,6.0],[8.0,6.0]],[[6.0,7.0],[8.0,7.0]],[[6.0,6.0],[7.0,8.0]],[[4.0,3.0],[4.0,3.0]],[[3.0,0.0],[4.0,5.0]],[[3.0,2.0],[0.0,1.0]],[[1.0,1.0],[0.0,0.0]],[[4.0,5.0],[5.0,6.0]],[[4.0,5.0],[5.0,6.0]],[[6.0,5.0],[5.0,6.0]],[[8.0,8.0],[7.0,6.0]],[[4.0,4.0],[3.0,2.0]]],\"swaps_after_y\":[[[1.0,0.0],[1.0,3.0]],[[1.0,4.0],[0.0,0.0]],[[1.0,1.0],[4.0,2.0]],[[1.0,2.0],[3.0,2.0]],[[2.0,2.0],[4.0,2.0]],[[2.0,4.0],[3.0,2.0]],[[2.0,2.0],[4.0,2.0]],[[2.0,4.0],[3.0,2.0]],[[2.0,2.0],[4.0,2.0]],[[2.0,4.0],[3.0,2.0]],[[2.0,2.0],[4.0,3.0]],[[2.0,3.0],[3.0,2.0]],[[2.0,3.0],[3.0,4.0]],[[4.0,4.0],[5.0,6.0]],[[6.0,8.0],[6.0,8.0]],[[6.0,6.0],[8.0,6.0]],[[4.0,3.0],[4.0,5.0]],[[6.0,7.0],[8.0,7.0]],[[6.0,6.0],[7.0,8.0]],[[7.0,7.0],[8.0,8.0]],[[1.0,0.0],[1.0,0.0]],[[0.0,1.0],[0.0,0.0]]],\"swaps_before_x\":[[[1.0,2.0],[1.0,8.0]],[[1.0,1.0],[8.0,0.0]],[[1.0,8.0],[2.0,2.0]],[[2.0,8.0],[2.0,3.0]],[[2.0,8.0],[3.0,4.0]],[[3.0,8.0],[8.0,4.0]],[[3.0,8.0],[4.0,5.0]],[[4.0,8.0],[8.0,5.0]],[[4.0,8.0],[5.0,6.0]],[[5.0,8.0],[8.0,6.0]],[[5.0,8.0],[6.0,6.0]],[[6.0,8.0],[7.0,7.0]],[[6.0,7.0],[6.0,8.0]],[[4.0,4.0],[3.0,3.0]],[[3.0,4.0],[0.0,5.0]],[[3.0,0.0],[2.0,1.0]],[[1.0,0.0],[1.0,0.0]],[[4.0,5.0],[5.0,6.0]],[[4.0,5.0],[5.0,6.0]],[[6.0,5.0],[5.0,6.0]],[[8.0,7.0],[8.0,6.0]],[[4.0,3.0],[4.0,2.0]]],\"swaps_before_y\":[[[1.0,1.0],[0.0,3.0]],[[1.0,0.0],[4.0,0.0]],[[1.0,4.0],[1.0,2.0]],[[1.0,3.0],[2.0,2.0]],[[2.0,4.0],[2.0,2.0]],[[2.0,3.0],[4.0,2.0]],[[2.0,4.0],[2.0,2.0]],[[2.0,3.0],[4.0,2.0]],[[2.0,4.0],[2.0,2.0]],[[2.0,3.0],[4.0,2.0]],[[2.0,4.0],[2.0,3.0]],[[2.0,3.0],[3.0,2.0]],[[2.0,3.0],[3.0,4.0]],[[4.0,5.0],[4.0,6.0]],[[6.0,6.0],[8.0,8.0]],[[6.0,8.0],[6.0,6.0]],[[4.0,4.0],[3.0,5.0]],[[6.0,8.0],[7.0,7.0]],[[6.0,7.0],[6.0,8.0]],[[7.0,8.0],[7.0,8.0]],[[1.0,1.0],[0.0,0.0]],[[0.0,0.0],[1.0,0.0]]]},\"selected\":{\"id\":\"3407\"},\"selection_policy\":{\"id\":\"3406\"}},\"id\":\"3361\",\"type\":\"ColumnDataSource\"},{\"attributes\":{\"axis\":{\"id\":\"3337\"},\"dimension\":1,\"grid_line_color\":null,\"ticker\":null},\"id\":\"3340\",\"type\":\"Grid\"},{\"attributes\":{\"source\":{\"id\":\"3362\"}},\"id\":\"3372\",\"type\":\"CDSView\"},{\"attributes\":{},\"id\":\"3395\",\"type\":\"Selection\"},{\"attributes\":{},\"id\":\"3399\",\"type\":\"Selection\"},{\"attributes\":{},\"id\":\"3407\",\"type\":\"Selection\"},{\"attributes\":{\"align\":\"center\",\"width\":200},\"id\":\"3357\",\"type\":\"Div\"},{\"attributes\":{\"data\":{\"swaps_after_x\":[[1.0,1.0],[2.0,8.0]],\"swaps_after_y\":[[1.0,0.0],[1.0,3.0]],\"swaps_before_x\":[[1.0,2.0],[1.0,8.0]],\"swaps_before_y\":[[1.0,1.0],[0.0,3.0]]},\"selected\":{\"id\":\"3397\"},\"selection_policy\":{\"id\":\"3396\"}},\"id\":\"3362\",\"type\":\"ColumnDataSource\"},{\"attributes\":{},\"id\":\"3404\",\"type\":\"UnionRenderers\"},{\"attributes\":{\"data\":{\"x\":[0.0,0.0,0.0,0.0,0.0,0.0,0.0,0.0,0.0,1.0,1.0,1.0,1.0,1.0,1.0,1.0,1.0,1.0,2.0,2.0,2.0,2.0,2.0,2.0,2.0,2.0,2.0,3.0,3.0,3.0,3.0,3.0,3.0,3.0,3.0,3.0,4.0,4.0,4.0,4.0,4.0,4.0,4.0,4.0,4.0,5.0,5.0,5.0,5.0,5.0,5.0,5.0,5.0,5.0,6.0,6.0,6.0,6.0,6.0,6.0,6.0,6.0,6.0,7.0,7.0,7.0,7.0,7.0,7.0,7.0,7.0,7.0,8.0,8.0,8.0,8.0,8.0,8.0,8.0,8.0,8.0],\"y\":[0.0,1.0,2.0,3.0,4.0,5.0,6.0,7.0,8.0,0.0,1.0,2.0,3.0,4.0,5.0,6.0,7.0,8.0,0.0,1.0,2.0,3.0,4.0,5.0,6.0,7.0,8.0,0.0,1.0,2.0,3.0,4.0,5.0,6.0,7.0,8.0,0.0,1.0,2.0,3.0,4.0,5.0,6.0,7.0,8.0,0.0,1.0,2.0,3.0,4.0,5.0,6.0,7.0,8.0,0.0,1.0,2.0,3.0,4.0,5.0,6.0,7.0,8.0,0.0,1.0,2.0,3.0,4.0,5.0,6.0,7.0,8.0,0.0,1.0,2.0,3.0,4.0,5.0,6.0,7.0,8.0]},\"selected\":{\"id\":\"3399\"},\"selection_policy\":{\"id\":\"3398\"}},\"id\":\"3378\",\"type\":\"ColumnDataSource\"},{\"attributes\":{\"align\":\"center\",\"text\":\"105.7\",\"width\":200},\"id\":\"3356\",\"type\":\"Div\"},{\"attributes\":{\"data_source\":{\"id\":\"3362\"},\"glyph\":{\"id\":\"3369\"},\"hover_glyph\":null,\"muted_glyph\":null,\"nonselection_glyph\":{\"id\":\"3370\"},\"selection_glyph\":null,\"view\":{\"id\":\"3372\"}},\"id\":\"3371\",\"type\":\"GlyphRenderer\"},{\"attributes\":{},\"id\":\"3405\",\"type\":\"Selection\"},{\"attributes\":{\"line_alpha\":{\"value\":0.1},\"line_color\":{\"value\":\"#90D7F6\"},\"line_width\":{\"value\":4},\"xs\":{\"field\":\"swaps_after_x\"},\"ys\":{\"field\":\"swaps_after_y\"}},\"id\":\"3375\",\"type\":\"MultiLine\"},{\"attributes\":{\"line_color\":{\"value\":\"#90D7F6\"},\"line_width\":{\"value\":4},\"xs\":{\"field\":\"swaps_after_x\"},\"ys\":{\"field\":\"swaps_after_y\"}},\"id\":\"3374\",\"type\":\"MultiLine\"},{\"attributes\":{},\"id\":\"3341\",\"type\":\"PanTool\"},{\"attributes\":{},\"id\":\"3406\",\"type\":\"UnionRenderers\"},{\"attributes\":{\"source\":{\"id\":\"3362\"}},\"id\":\"3377\",\"type\":\"CDSView\"},{\"attributes\":{},\"id\":\"3390\",\"type\":\"BasicTickFormatter\"}],\"root_ids\":[\"3410\"]},\"title\":\"Bokeh Application\",\"version\":\"2.1.0\"}};\n",
       "  var render_items = [{\"docid\":\"06d6783e-1049-4b31-b7af-ee7c68106d5b\",\"root_ids\":[\"3410\"],\"roots\":{\"3410\":\"ed3ee89d-ab4e-428b-8fa8-8b1467fc4af9\"}}];\n",
       "  root.Bokeh.embed.embed_items_notebook(docs_json, render_items);\n",
       "\n",
       "  }\n",
       "  if (root.Bokeh !== undefined) {\n",
       "    embed_document(root);\n",
       "  } else {\n",
       "    var attempts = 0;\n",
       "    var timer = setInterval(function(root) {\n",
       "      if (root.Bokeh !== undefined) {\n",
       "        clearInterval(timer);\n",
       "        embed_document(root);\n",
       "      } else {\n",
       "        attempts++;\n",
       "        if (attempts > 100) {\n",
       "          clearInterval(timer);\n",
       "          console.log(\"Bokeh: ERROR: Unable to run BokehJS code because BokehJS library is missing\");\n",
       "        }\n",
       "      }\n",
       "    }, 10, root)\n",
       "  }\n",
       "})(window);"
      ],
      "application/vnd.bokehjs_exec.v0+json": ""
     },
     "metadata": {
      "application/vnd.bokehjs_exec.v0+json": {
       "id": "3410"
      }
     },
     "output_type": "display_data"
    }
   ],
   "source": [
    "nodes, G = tsp_grid_instance(9,9,manhattan=False)\n",
    "tour = nearest_neighbor(G)\n",
    "tour = plot_two_opt(nodes, G, tour)"
   ]
  },
  {
   "cell_type": "markdown",
   "metadata": {},
   "source": [
    "**Q13:** After running 2-OPT, do you ever get a tour which crosses itself? When using euclidian distances, is this even possible? Explain why or why not.\n",
    "\n",
    "**A:** <font color='blue'> No. This is not possible. Assume you have a tour that crosses itself. Consider the two edges that cross. You can always reconnect them to be cheaper. Hence, 2-OPT has not been run to completion. It follows that 2-OPT always terminates with a tour with no crosses. </font>"
   ]
  },
  {
   "cell_type": "markdown",
   "metadata": {},
   "source": [
    "Let's compare the heuristics with and without executing 2-OPT. While we are at it, let's compare to the optimal solution which has already been computed."
   ]
  },
  {
   "cell_type": "code",
   "execution_count": 23,
   "metadata": {},
   "outputs": [
    {
     "data": {
      "text/html": [
       "\n",
       "\n",
       "\n",
       "\n",
       "\n",
       "\n",
       "  <div class=\"bk-root\" id=\"0634d512-dfc8-4b2e-889f-2feffd0a7f79\" data-root-id=\"3707\"></div>\n"
      ]
     },
     "metadata": {},
     "output_type": "display_data"
    },
    {
     "data": {
      "application/javascript": [
       "(function(root) {\n",
       "  function embed_document(root) {\n",
       "    \n",
       "  var docs_json = {\"0916665e-e098-444d-baea-a0e279548856\":{\"roots\":{\"references\":[{\"attributes\":{\"children\":[[{\"id\":\"3651\"},0,0],[{\"id\":\"3685\"},1,0]]},\"id\":\"3707\",\"type\":\"GridBox\"},{\"attributes\":{\"background_fill_color\":null,\"below\":[{\"id\":\"3662\"}],\"border_fill_color\":null,\"center\":[{\"id\":\"3665\"},{\"id\":\"3669\"}],\"left\":[{\"id\":\"3666\"}],\"outline_line_color\":null,\"plot_height\":400,\"plot_width\":400,\"renderers\":[{\"id\":\"3689\"},{\"id\":\"3694\"}],\"title\":{\"id\":\"3652\"},\"toolbar\":{\"id\":\"3677\"},\"toolbar_location\":null,\"x_range\":{\"id\":\"3654\"},\"x_scale\":{\"id\":\"3658\"},\"y_range\":{\"id\":\"3656\"},\"y_scale\":{\"id\":\"3660\"}},\"id\":\"3651\",\"subtype\":\"Figure\",\"type\":\"Plot\"},{\"attributes\":{},\"id\":\"3674\",\"type\":\"ResetTool\"},{\"attributes\":{\"align\":\"center\",\"text\":\"36.0\",\"width\":400},\"id\":\"3685\",\"type\":\"Div\"},{\"attributes\":{\"data\":{\"x\":[0.0,1.0,1.0,1.0,1.0,1.0,2.0,2.0,2.0,3.0,3.0,3.0,4.0,4.0,4.0,4.0,3.0,2.0,2.0,3.0,4.0,5.0,5.0,5.0,5.0,5.0,5.0,4.0,3.0,2.0,1.0,0.0,0.0,0.0,0.0,0.0,0.0],\"y\":[0.0,0.0,1.0,2.0,3.0,4.0,4.0,3.0,2.0,2.0,3.0,4.0,4.0,3.0,2.0,1.0,1.0,1.0,0.0,0.0,0.0,0.0,1.0,2.0,3.0,4.0,5.0,5.0,5.0,5.0,5.0,5.0,4.0,3.0,2.0,1.0,0.0]},\"selected\":{\"id\":\"3702\"},\"selection_policy\":{\"id\":\"3701\"}},\"id\":\"3686\",\"type\":\"ColumnDataSource\"},{\"attributes\":{\"source\":{\"id\":\"3691\"}},\"id\":\"3695\",\"type\":\"CDSView\"},{\"attributes\":{\"data\":{\"x\":[0.0,0.0,0.0,0.0,0.0,0.0,1.0,1.0,1.0,1.0,1.0,1.0,2.0,2.0,2.0,2.0,2.0,2.0,3.0,3.0,3.0,3.0,3.0,3.0,4.0,4.0,4.0,4.0,4.0,4.0,5.0,5.0,5.0,5.0,5.0,5.0],\"y\":[0.0,1.0,2.0,3.0,4.0,5.0,0.0,1.0,2.0,3.0,4.0,5.0,0.0,1.0,2.0,3.0,4.0,5.0,0.0,1.0,2.0,3.0,4.0,5.0,0.0,1.0,2.0,3.0,4.0,5.0,0.0,1.0,2.0,3.0,4.0,5.0]},\"selected\":{\"id\":\"3704\"},\"selection_policy\":{\"id\":\"3703\"}},\"id\":\"3691\",\"type\":\"ColumnDataSource\"},{\"attributes\":{},\"id\":\"3667\",\"type\":\"BasicTicker\"},{\"attributes\":{},\"id\":\"3702\",\"type\":\"Selection\"},{\"attributes\":{\"axis\":{\"id\":\"3666\"},\"dimension\":1,\"grid_line_color\":null,\"ticker\":null},\"id\":\"3669\",\"type\":\"Grid\"},{\"attributes\":{\"fill_color\":{\"value\":\"steelblue\"},\"line_color\":{\"value\":\"steelblue\"},\"size\":{\"units\":\"screen\",\"value\":8},\"x\":{\"field\":\"x\"},\"y\":{\"field\":\"y\"}},\"id\":\"3692\",\"type\":\"Circle\"},{\"attributes\":{\"text\":\"\"},\"id\":\"3652\",\"type\":\"Title\"},{\"attributes\":{\"data_source\":{\"id\":\"3686\"},\"glyph\":{\"id\":\"3687\"},\"hover_glyph\":null,\"muted_glyph\":null,\"nonselection_glyph\":{\"id\":\"3688\"},\"selection_glyph\":null,\"view\":{\"id\":\"3690\"}},\"id\":\"3689\",\"type\":\"GlyphRenderer\"},{\"attributes\":{\"source\":{\"id\":\"3686\"}},\"id\":\"3690\",\"type\":\"CDSView\"},{\"attributes\":{\"formatter\":{\"id\":\"3699\"},\"ticker\":{\"id\":\"3667\"},\"visible\":false},\"id\":\"3666\",\"type\":\"LinearAxis\"},{\"attributes\":{\"line_alpha\":0.1,\"line_width\":4,\"x\":{\"field\":\"x\"},\"y\":{\"field\":\"y\"}},\"id\":\"3688\",\"type\":\"Line\"},{\"attributes\":{},\"id\":\"3670\",\"type\":\"PanTool\"},{\"attributes\":{\"line_width\":4,\"x\":{\"field\":\"x\"},\"y\":{\"field\":\"y\"}},\"id\":\"3687\",\"type\":\"Line\"},{\"attributes\":{\"active_drag\":\"auto\",\"active_inspect\":\"auto\",\"active_multi\":null,\"active_scroll\":\"auto\",\"active_tap\":\"auto\",\"logo\":null,\"tools\":[{\"id\":\"3670\"},{\"id\":\"3671\"},{\"id\":\"3672\"},{\"id\":\"3673\"},{\"id\":\"3674\"},{\"id\":\"3675\"}]},\"id\":\"3677\",\"type\":\"Toolbar\"},{\"attributes\":{\"axis\":{\"id\":\"3662\"},\"grid_line_color\":null,\"ticker\":null},\"id\":\"3665\",\"type\":\"Grid\"},{\"attributes\":{},\"id\":\"3663\",\"type\":\"BasicTicker\"},{\"attributes\":{},\"id\":\"3704\",\"type\":\"Selection\"},{\"attributes\":{\"bottom_units\":\"screen\",\"fill_alpha\":0.5,\"fill_color\":\"lightgrey\",\"left_units\":\"screen\",\"level\":\"overlay\",\"line_alpha\":1.0,\"line_color\":\"black\",\"line_dash\":[4,4],\"line_width\":2,\"right_units\":\"screen\",\"top_units\":\"screen\"},\"id\":\"3676\",\"type\":\"BoxAnnotation\"},{\"attributes\":{},\"id\":\"3701\",\"type\":\"UnionRenderers\"},{\"attributes\":{\"formatter\":{\"id\":\"3697\"},\"ticker\":{\"id\":\"3663\"},\"visible\":false},\"id\":\"3662\",\"type\":\"LinearAxis\"},{\"attributes\":{\"fill_alpha\":{\"value\":0.1},\"fill_color\":{\"value\":\"steelblue\"},\"line_alpha\":{\"value\":0.1},\"line_color\":{\"value\":\"steelblue\"},\"size\":{\"units\":\"screen\",\"value\":8},\"x\":{\"field\":\"x\"},\"y\":{\"field\":\"y\"}},\"id\":\"3693\",\"type\":\"Circle\"},{\"attributes\":{},\"id\":\"3673\",\"type\":\"SaveTool\"},{\"attributes\":{},\"id\":\"3697\",\"type\":\"BasicTickFormatter\"},{\"attributes\":{},\"id\":\"3660\",\"type\":\"LinearScale\"},{\"attributes\":{\"overlay\":{\"id\":\"3676\"}},\"id\":\"3672\",\"type\":\"BoxZoomTool\"},{\"attributes\":{},\"id\":\"3699\",\"type\":\"BasicTickFormatter\"},{\"attributes\":{},\"id\":\"3658\",\"type\":\"LinearScale\"},{\"attributes\":{\"data_source\":{\"id\":\"3691\"},\"glyph\":{\"id\":\"3692\"},\"hover_glyph\":null,\"muted_glyph\":null,\"nonselection_glyph\":{\"id\":\"3693\"},\"selection_glyph\":null,\"view\":{\"id\":\"3695\"}},\"id\":\"3694\",\"type\":\"GlyphRenderer\"},{\"attributes\":{},\"id\":\"3671\",\"type\":\"WheelZoomTool\"},{\"attributes\":{\"end\":5.425,\"start\":-0.42500000000000004},\"id\":\"3656\",\"type\":\"Range1d\"},{\"attributes\":{},\"id\":\"3703\",\"type\":\"UnionRenderers\"},{\"attributes\":{},\"id\":\"3675\",\"type\":\"HelpTool\"},{\"attributes\":{\"end\":5.425,\"start\":-0.42500000000000004},\"id\":\"3654\",\"type\":\"Range1d\"}],\"root_ids\":[\"3707\"]},\"title\":\"Bokeh Application\",\"version\":\"2.1.0\"}};\n",
       "  var render_items = [{\"docid\":\"0916665e-e098-444d-baea-a0e279548856\",\"root_ids\":[\"3707\"],\"roots\":{\"3707\":\"0634d512-dfc8-4b2e-889f-2feffd0a7f79\"}}];\n",
       "  root.Bokeh.embed.embed_items_notebook(docs_json, render_items);\n",
       "\n",
       "  }\n",
       "  if (root.Bokeh !== undefined) {\n",
       "    embed_document(root);\n",
       "  } else {\n",
       "    var attempts = 0;\n",
       "    var timer = setInterval(function(root) {\n",
       "      if (root.Bokeh !== undefined) {\n",
       "        clearInterval(timer);\n",
       "        embed_document(root);\n",
       "      } else {\n",
       "        attempts++;\n",
       "        if (attempts > 100) {\n",
       "          clearInterval(timer);\n",
       "          console.log(\"Bokeh: ERROR: Unable to run BokehJS code because BokehJS library is missing\");\n",
       "        }\n",
       "      }\n",
       "    }, 10, root)\n",
       "  }\n",
       "})(window);"
      ],
      "application/vnd.bokehjs_exec.v0+json": ""
     },
     "metadata": {
      "application/vnd.bokehjs_exec.v0+json": {
       "id": "3707"
      }
     },
     "output_type": "display_data"
    }
   ],
   "source": [
    "nodes, G = tsp_grid_instance(6,6,manhattan=False)\n",
    "tour = optimal_tour('6x6_grid')\n",
    "optimal_cost = tour_cost(G, tour)\n",
    "plot_tour(nodes, G, tour)"
   ]
  },
  {
   "cell_type": "code",
   "execution_count": 24,
   "metadata": {},
   "outputs": [
    {
     "name": "stdout",
     "output_type": "stream",
     "text": [
      "Nearest Neighbor: 44.99880276548782\n",
      "Nearest Neighbor + 2-OPT: 37.89486339439816\n",
      "Nearest Insertion: 38.581502320689836\n",
      "Nearest Insertion + 2-OPT: 37.84647230883729\n",
      "Furthest Insertion: 37.67672279530001\n",
      "Furthest Insertion + 2-OPT: 37.66500706654748\n",
      "Optimal: 36.0\n"
     ]
    }
   ],
   "source": [
    "n = 50\n",
    "nearest_neighbor_total = 0\n",
    "nearest_insertion_total = 0\n",
    "furthest_insertion_total = 0\n",
    "nearest_neighbor_2_total = 0\n",
    "nearest_insertion_2_total = 0\n",
    "furthest_insertion_2_total = 0\n",
    "optimal_total = 0\n",
    "for i in range(n):\n",
    "    nearest_neighbor_total += tour_cost(G, nearest_neighbor(G))\n",
    "    nearest_insertion_total += tour_cost(G, nearest_insertion(G))\n",
    "    furthest_insertion_total += tour_cost(G, furthest_insertion(G))\n",
    "    nearest_neighbor_2_total += tour_cost(G, two_opt(G, nearest_neighbor(G)))\n",
    "    nearest_insertion_2_total += tour_cost(G, two_opt(G, nearest_insertion(G)))\n",
    "    furthest_insertion_2_total += tour_cost(G, two_opt(G, furthest_insertion(G)))\n",
    "print(\"Nearest Neighbor: %s\" % (nearest_neighbor_total / n))\n",
    "print(\"Nearest Neighbor + 2-OPT: %s\" % (nearest_neighbor_2_total / n))\n",
    "print(\"Nearest Insertion: %s\" % (nearest_insertion_total / n))\n",
    "print(\"Nearest Insertion + 2-OPT: %s\" % (nearest_insertion_2_total / n))\n",
    "print(\"Furthest Insertion: %s\" % (furthest_insertion_total / n))\n",
    "print(\"Furthest Insertion + 2-OPT: %s\" % (furthest_insertion_2_total / n))\n",
    "print(\"Optimal: %s\" % (optimal_cost))"
   ]
  },
  {
   "cell_type": "markdown",
   "metadata": {},
   "source": [
    "**Q14:** Compare the heuristics to their before and after 2-OPT performance. Compare them to the optimal.\n",
    "\n",
    "**A:** <font color='blue'> The nearest neighbor heuristic improved the most from 2-OPT. Both nearest and furthest insertion were often not improved by 2-OPT and came very close to the optimal. After running 2-OPT, the nearest neighbor heuristic was *near* optimal as well. </font>"
   ]
  },
  {
   "cell_type": "markdown",
   "metadata": {},
   "source": [
    "For fun, let's go back to the 23 US city example. Let's run 2-OPT on the tour you created in **Part I** (or a new one if you would like). To do this, you will need to define the tour as follows:"
   ]
  },
  {
   "cell_type": "code",
   "execution_count": 25,
   "metadata": {},
   "outputs": [
    {
     "data": {
      "text/html": [
       "\n",
       "\n",
       "\n",
       "\n",
       "\n",
       "\n",
       "  <div class=\"bk-root\" id=\"edce2c04-bb17-499e-ab85-5f9c92142ec6\" data-root-id=\"4001\"></div>\n"
      ]
     },
     "metadata": {},
     "output_type": "display_data"
    },
    {
     "data": {
      "application/javascript": [
       "(function(root) {\n",
       "  function embed_document(root) {\n",
       "    \n",
       "  var docs_json = {\"d2ff640d-930c-4e52-b4e5-5f056ff5195c\":{\"roots\":{\"references\":[{\"attributes\":{\"children\":[[{\"id\":\"3926\"},0,0],[{\"id\":\"3985\"},1,0]]},\"id\":\"4001\",\"type\":\"GridBox\"},{\"attributes\":{},\"id\":\"3987\",\"type\":\"BasicTickFormatter\"},{\"attributes\":{},\"id\":\"3946\",\"type\":\"WheelZoomTool\"},{\"attributes\":{\"global_alpha\":0.1,\"h\":{\"units\":\"data\",\"value\":2735.46},\"url\":{\"field\":\"url\"},\"w\":{\"units\":\"data\",\"value\":2305.602},\"x\":{\"value\":447.09900000000005},\"y\":{\"value\":1439.53}},\"id\":\"3962\",\"type\":\"ImageURL\"},{\"attributes\":{\"data_source\":{\"id\":\"3960\"},\"glyph\":{\"id\":\"3961\"},\"hover_glyph\":null,\"muted_glyph\":null,\"nonselection_glyph\":{\"id\":\"3962\"},\"selection_glyph\":null,\"view\":{\"id\":\"3964\"}},\"id\":\"3963\",\"type\":\"GlyphRenderer\"},{\"attributes\":{},\"id\":\"3989\",\"type\":\"BasicTickFormatter\"},{\"attributes\":{\"source\":{\"id\":\"3960\"}},\"id\":\"3964\",\"type\":\"CDSView\"},{\"attributes\":{},\"id\":\"3949\",\"type\":\"ResetTool\"},{\"attributes\":{\"line_alpha\":0.1,\"line_width\":4,\"x\":{\"field\":\"edges_x\"},\"y\":{\"field\":\"edges_y\"}},\"id\":\"3971\",\"type\":\"Line\"},{\"attributes\":{},\"id\":\"3991\",\"type\":\"UnionRenderers\"},{\"attributes\":{\"axis\":{\"id\":\"3941\"},\"dimension\":1,\"grid_line_color\":null,\"ticker\":null},\"id\":\"3944\",\"type\":\"Grid\"},{\"attributes\":{},\"id\":\"3933\",\"type\":\"LinearScale\"},{\"attributes\":{\"align\":\"center\",\"text\":\"0.0\",\"width\":300},\"id\":\"3965\",\"type\":\"Div\"},{\"attributes\":{},\"id\":\"3992\",\"type\":\"Selection\"},{\"attributes\":{\"align\":\"center\",\"width\":300},\"id\":\"3966\",\"type\":\"Div\"},{\"attributes\":{},\"id\":\"3993\",\"type\":\"UnionRenderers\"},{\"attributes\":{\"data\":{\"G\":[[0.0,1041.978296319074,1336.9390449829789,1503.3710653062335,1620.158226840823,1105.73674986409,2348.9486499283034,2635.268466399581,2863.502207088376,2177.4136033376844,2196.5420551403063,1942.160459385372,1914.391153865897,1938.711048609359,1491.4511859259762,1901.5280302956355,1947.5379328783304,1669.3318663465332,1732.2980113132955,1688.682992749083,1568.3780794183526,1941.8014316608173,2295.931159682276],[1041.978296319074,1.0789593218788873e-05,307.9327848735826,491.16173507308156,667.3734561697819,1254.7246909182904,1630.197169056553,2010.9462946583133,2197.811365881977,1665.4011678871848,1759.5334296341177,1841.8517747093547,1889.389319330455,2025.318276222283,1367.4638752084093,1474.525835650227,1787.212122273123,1750.3161571556152,1554.5358953719915,1620.1582268408233,1555.970465658009,1209.4536163077937,1488.081516584357],[1336.9390449829789,307.9327848735826,0.0,186.71167612123244,389.86542549962036,1364.1968223097426,1406.4731671809454,1807.9244453239742,1976.2529089162654,1516.3931053654917,1632.2488076270727,1822.673223592205,1890.8648285903464,2052.9456105800755,1380.0506548674218,1369.80725651458,1752.2271570775295,1792.8210312242547,1531.0357441941057,1626.6863004279592,1585.4449123195675,1002.1391570036569,1236.2512689578928],[1503.3710653062335,491.16173507308156,186.71167612123244,0.0,224.0540113454783,1417.829016489647,1255.0580544341362,1665.4011678871848,1822.443691859916,1409.147543729896,1536.7630005957328,1790.6418765347803,1870.4745520856463,2046.4826239184147,1375.4961868358632,1292.8216311618553,1711.566697502613,1798.6450455829242,1501.1432976235144,1613.3444672480828,1586.7636623013525,867.1144330479111,1069.973574440042],[1620.158226840823,667.3734561697819,389.86542549962036,224.0540113454783,0.0,1371.0283002184892,1031.081315900933,1442.497240898574,1598.4089870868472,1202.863799438656,1337.6689575526525,1643.4870398028697,1733.9876268301339,1922.531968524841,1262.5906858519115,1110.3930340199367,1556.9559659797708,1690.2512120983672,1359.5892467947808,1487.0503723815143,1476.4160118340633,648.5106938208503,848.4191711648201],[1105.73674986409,1254.7246909182904,1364.1968223097426,1417.829016489647,1371.0283002184892,0.0,1578.6579870256883,1737.8434365615328,1980.5524103138498,1247.03273413331,1210.2604182571617,839.1646143635943,809.3902705123156,857.5738627080477,435.48272066753714,955.9929549949619,855.4573981210283,576.5733951545102,662.9710702587253,588.3047594572054,464.00762924762455,1276.2122080594586,1638.728717634496],[2348.9486499283034,1630.197169056553,1406.4731671809454,1255.0580544341362,1031.081315900933,1578.6579870256883,0.0,422.8102292991505,570.0060087402601,481.7016504019875,641.5930485907704,1262.2593117105534,1397.322042336698,1621.276734552124,1204.2541260049725,684.6999999999999,1150.2409138958674,1523.274367932448,1101.693823165038,1275.884371720258,1356.3032256836962,425.1125968493521,259.253717427541],[2635.268466399581,2010.9462946583133,1807.9244453239742,1665.4011678871848,1442.497240898574,1737.8434365615328,422.8102292991505,0.0,243.15567030196868,491.1617350730812,568.0455351466101,1209.7994544551584,1346.3970439658578,1559.461701998481,1316.7608476864737,781.8739540360702,1105.3583536573105,1536.4907581889322,1145.5031427281199,1306.4481620026104,1414.776848128354,806.6290163389854,668.0],[2863.502207088376,2197.811365881977,1976.2529089162654,1822.443691859916,1598.4089870868472,1980.5524103138498,570.0060087402601,243.15567030196868,0.0,734.2304610951518,805.9372246025113,1437.7526491020628,1572.9946217327001,1781.5072831734367,1559.9087313044952,1024.5691582318877,1336.1043709231703,1772.1682453988383,1386.5023512421462,1545.4494362482394,1655.6599318700687,988.6907757231273,771.0988782250954],[2177.4136033376844,1665.4011678871848,1516.3931053654917,1409.147543729896,1202.863799438656,1247.03273413331,481.7016504019875,491.1617350730812,734.2304610951518,0.0,167.0,787.7374245267264,924.5527837825149,1147.4492102049664,826.270367373779,291.6529615827675,676.2984548259737,1077.1176351726865,668.0,836.5016497293963,935.7962385049427,576.573395154511,697.6123923784603],[2196.5420551403063,1759.5334296341177,1632.2488076270727,1536.7630005957328,1337.6689575526525,1210.2604182571617,641.5930485907704,568.0455351466101,805.9372246025113,167.0,0.0,652.1558479382056,789.8588038377491,1009.3488841822732,776.8641837541495,301.0635315012431,543.7126079097322,968.6000000000005,583.3059231655382,739.5291001711827,851.536258769995,729.4670109059074,864.0535457944723],[1942.160459385372,1841.8517747093547,1822.673223592205,1790.6418765347803,1643.4870398028697,839.1646143635943,1262.2593117105534,1209.7994544551584,1437.7526491020628,787.7374245267264,652.1558479382056,0.0,137.71172789562823,359.72900911658354,488.885191021369,615.8655697471652,112.02700567274279,366.25959373100363,291.6529615827675,254.36682173585174,375.28582440588013,1192.735465222696,1445.1049512059667],[1914.391153865897,1889.389319330455,1890.8648285903464,1870.4745520856463,1733.9876268301339,809.3902705123156,1397.322042336698,1346.3970439658578,1572.9946217327001,924.5527837825149,789.8588038377491,137.71172789562823,0.0,224.05401134547728,521.9918869101314,741.6003505932289,248.26334808021798,271.8563039548644,375.2858244058777,269.27940879317225,357.0052240514142,1312.0929730777464,1575.4748490534528],[1938.711048609359,2025.318276222283,2052.9456105800755,2046.4826239184147,1922.531968524841,857.5738627080477,1621.276734552124,1559.461701998481,1781.5072831734367,1147.4492102049664,1009.3488841822732,359.72900911658354,224.05401134547728,0.0,673.1985219829276,963.4033008039779,471.46084673066974,283.90000000000157,578.74596326886,435.48272066753606,470.2762698669789,1528.8482887454857,1798.6450455829242],[1491.4511859259762,1367.4638752084093,1380.0506548674218,1375.4961868358632,1262.5906858519115,435.48272066753714,1204.2541260049725,1316.7608476864737,1559.9087313044952,826.270367373779,776.8641837541495,488.885191021369,521.9918869101314,673.1985219829276,0.0,540.8841003394353,465.20816845795025,427.72869906051415,240.85082520099277,252.71685737203734,213.86434953025923,973.7689664391652,1308.261415008484],[1901.5280302956355,1474.525835650227,1369.80725651458,1292.8216311618553,1110.3930340199367,955.9929549949619,684.6999999999999,781.8739540360702,1024.5691582318877,291.6529615827675,301.0635315012431,615.8655697471652,741.6003505932289,963.4033008039779,540.8841003394353,0.0,507.91067127990135,839.8290361734337,417.5,591.8495078987562,673.1985219829303,581.6300972267514,837.0016009542627],[1947.5379328783304,1787.212122273123,1752.2271570775295,1711.566697502613,1556.9559659797708,855.4573981210283,1150.2409138958674,1105.3583536573105,1336.1043709231703,676.2984548259737,543.7126079097322,112.02700567274279,248.26334808021798,471.46084673066974,465.20816845795025,507.91067127990135,0.0,445.6115797418192,236.17366491630688,271.8563039548678,402.18925893166636,1087.4252158194606,1334.0154009605735],[1669.3318663465332,1750.3161571556152,1792.8210312242547,1798.6450455829242,1690.2512120983672,576.5733951545102,1523.274367932448,1536.4907581889322,1772.1682453988383,1077.1176351726865,968.6000000000005,366.25959373100363,271.8563039548644,283.90000000000157,427.72869906051415,839.8290361734337,445.6115797418192,0.0,422.4802953984972,248.26334808022173,213.86434953025923,1363.2765530148313,1668.7470299599036],[1732.2980113132955,1554.5358953719915,1531.0357441941057,1501.1432976235144,1359.5892467947808,662.9710702587253,1101.693823165038,1145.5031427281199,1386.5023512421462,668.0,583.3059231655382,291.6529615827675,375.2858244058777,578.74596326886,240.85082520099277,417.5,236.17366491630688,422.4802953984972,0.0,174.35311869880556,269.27940879317225,955.2633563578157,1248.03872135443],[1688.682992749083,1620.1582268408233,1626.6863004279592,1613.3444672480828,1487.0503723815143,588.3047594572054,1275.884371720258,1306.4481620026104,1545.4494362482394,836.5016497293963,739.5291001711827,254.36682173585174,269.27940879317225,435.48272066753606,252.71685737203734,591.8495078987562,271.8563039548678,248.26334808022173,174.35311869880556,0.0,130.4311695876377,1120.8922561959287,1420.9727653970008],[1568.3780794183526,1555.970465658009,1585.4449123195675,1586.7636623013525,1476.4160118340633,464.00762924762455,1356.3032256836962,1414.776848128354,1655.6599318700687,935.7962385049427,851.536258769995,375.28582440588013,357.0052240514142,470.2762698669789,213.86434953025923,673.1985219829303,402.18925893166636,213.86434953025923,269.27940879317225,130.4311695876377,0.0,1165.176604639829,1484.0466064109985],[1941.8014316608173,1209.4536163077937,1002.1391570036569,867.1144330479111,648.5106938208503,1276.2122080594586,425.1125968493521,806.6290163389854,988.6907757231273,576.573395154511,729.4670109059074,1192.735465222696,1312.0929730777464,1528.8482887454857,973.7689664391652,581.6300972267514,1087.4252158194606,1363.2765530148313,955.2633563578157,1120.8922561959287,1165.176604639829,0.0,370.8001752966151],[2295.931159682276,1488.081516584357,1236.2512689578928,1069.973574440042,848.4191711648201,1638.728717634496,259.253717427541,668.0,771.0988782250954,697.6123923784603,864.0535457944723,1445.1049512059667,1575.4748490534528,1798.6450455829242,1308.261415008484,837.0016009542627,1334.0154009605735,1668.7470299599036,1248.03872135443,1420.9727653970008,1484.0466064109985,370.8001752966151,0.0]]},\"selected\":{\"id\":\"3999\"},\"selection_policy\":{\"id\":\"3998\"}},\"id\":\"3967\",\"type\":\"ColumnDataSource\"},{\"attributes\":{},\"id\":\"3994\",\"type\":\"Selection\"},{\"attributes\":{},\"id\":\"3995\",\"type\":\"UnionRenderers\"},{\"attributes\":{\"source\":{\"id\":\"3968\"}},\"id\":\"3973\",\"type\":\"CDSView\"},{\"attributes\":{},\"id\":\"3942\",\"type\":\"BasicTicker\"},{\"attributes\":{\"axis\":{\"id\":\"3937\"},\"grid_line_color\":null,\"ticker\":null},\"id\":\"3940\",\"type\":\"Grid\"},{\"attributes\":{},\"id\":\"3996\",\"type\":\"Selection\"},{\"attributes\":{\"data\":{\"x\":[751.5,634.6,701.4,784.9,985.3,1753.5,1920.5,2338.0,2404.8,2187.7,2321.3,2471.6,2505.0,2605.2,1987.3,2070.8,2421.5,2321.3,2187.7,2237.8,2154.3,1619.9,1670.0],\"y\":[1235.8,200.4,-100.2,-267.2,-367.4,768.1999999999998,-801.5999999999998,-868.4,-1102.2,-400.8,-300.6,334.0,467.6,668.0,400.8,-133.6,233.8,668.0,267.2,434.2,534.4,-501.0,-868.4]},\"selected\":{\"id\":\"3996\"},\"selection_policy\":{\"id\":\"3995\"}},\"id\":\"3974\",\"type\":\"ColumnDataSource\"},{\"attributes\":{\"data\":{\"edges_x\":[],\"edges_y\":[],\"indices\":[]},\"selected\":{\"id\":\"3994\"},\"selection_policy\":{\"id\":\"3993\"}},\"id\":\"3968\",\"type\":\"ColumnDataSource\"},{\"attributes\":{\"formatter\":{\"id\":\"3989\"},\"ticker\":{\"id\":\"3942\"},\"visible\":false},\"id\":\"3941\",\"type\":\"LinearAxis\"},{\"attributes\":{},\"id\":\"3998\",\"type\":\"UnionRenderers\"},{\"attributes\":{\"overlay\":{\"id\":\"3951\"}},\"id\":\"3947\",\"type\":\"BoxZoomTool\"},{\"attributes\":{},\"id\":\"3935\",\"type\":\"LinearScale\"},{\"attributes\":{\"args\":{\"source\":{\"id\":\"3967\"}},\"code\":\"\\n    source.data['last_index'] = cb_data.index.indices[0]   \\n    \"},\"id\":\"3979\",\"type\":\"CustomJS\"},{\"attributes\":{},\"id\":\"3999\",\"type\":\"Selection\"},{\"attributes\":{\"fill_color\":{\"value\":\"steelblue\"},\"line_color\":{\"value\":\"steelblue\"},\"size\":{\"units\":\"screen\",\"value\":10},\"x\":{\"field\":\"x\"},\"y\":{\"field\":\"y\"}},\"id\":\"3975\",\"type\":\"Circle\"},{\"attributes\":{},\"id\":\"3945\",\"type\":\"PanTool\"},{\"attributes\":{},\"id\":\"3950\",\"type\":\"HelpTool\"},{\"attributes\":{\"fill_color\":{\"value\":\"steelblue\"},\"line_alpha\":{\"value\":0.1},\"line_color\":{\"value\":\"steelblue\"},\"size\":{\"units\":\"screen\",\"value\":10},\"x\":{\"field\":\"x\"},\"y\":{\"field\":\"y\"}},\"id\":\"3976\",\"type\":\"Circle\"},{\"attributes\":{\"formatter\":{\"id\":\"3987\"},\"ticker\":{\"id\":\"3938\"},\"visible\":false},\"id\":\"3937\",\"type\":\"LinearAxis\"},{\"attributes\":{},\"id\":\"3948\",\"type\":\"SaveTool\"},{\"attributes\":{\"source\":{\"id\":\"3974\"}},\"id\":\"3978\",\"type\":\"CDSView\"},{\"attributes\":{\"background_fill_color\":null,\"below\":[{\"id\":\"3937\"}],\"border_fill_color\":null,\"center\":[{\"id\":\"3940\"},{\"id\":\"3944\"}],\"left\":[{\"id\":\"3941\"}],\"outline_line_color\":null,\"plot_height\":375,\"renderers\":[{\"id\":\"3963\"},{\"id\":\"3972\"},{\"id\":\"3977\"}],\"title\":{\"id\":\"3927\"},\"toolbar\":{\"id\":\"3952\"},\"toolbar_location\":null,\"x_range\":{\"id\":\"3929\"},\"x_scale\":{\"id\":\"3933\"},\"y_range\":{\"id\":\"3931\"},\"y_scale\":{\"id\":\"3935\"}},\"id\":\"3926\",\"subtype\":\"Figure\",\"type\":\"Plot\"},{\"attributes\":{\"data_source\":{\"id\":\"3968\"},\"glyph\":{\"id\":\"3970\"},\"hover_glyph\":null,\"muted_glyph\":null,\"nonselection_glyph\":{\"id\":\"3971\"},\"selection_glyph\":null,\"view\":{\"id\":\"3973\"}},\"id\":\"3972\",\"type\":\"GlyphRenderer\"},{\"attributes\":{\"end\":2772.701,\"start\":467.09900000000005},\"id\":\"3929\",\"type\":\"Range1d\"},{\"attributes\":{\"data_source\":{\"id\":\"3974\"},\"glyph\":{\"id\":\"3975\"},\"hover_glyph\":null,\"muted_glyph\":null,\"nonselection_glyph\":{\"id\":\"3976\"},\"selection_glyph\":null,\"view\":{\"id\":\"3978\"}},\"id\":\"3977\",\"type\":\"GlyphRenderer\"},{\"attributes\":{\"bottom_units\":\"screen\",\"fill_alpha\":0.5,\"fill_color\":\"lightgrey\",\"left_units\":\"screen\",\"level\":\"overlay\",\"line_alpha\":1.0,\"line_color\":\"black\",\"line_dash\":[4,4],\"line_width\":2,\"right_units\":\"screen\",\"top_units\":\"screen\"},\"id\":\"3951\",\"type\":\"BoxAnnotation\"},{\"attributes\":{\"text\":\"\"},\"id\":\"3927\",\"type\":\"Title\"},{\"attributes\":{\"callback\":{\"id\":\"3979\"},\"renderers\":[{\"id\":\"3977\"}],\"tooltips\":null},\"id\":\"3980\",\"type\":\"HoverTool\"},{\"attributes\":{\"data\":{\"url\":[\"images/us.png\"]},\"selected\":{\"id\":\"3992\"},\"selection_policy\":{\"id\":\"3991\"}},\"id\":\"3960\",\"type\":\"ColumnDataSource\"},{\"attributes\":{\"end\":1434.53,\"start\":-1300.93},\"id\":\"3931\",\"type\":\"Range1d\"},{\"attributes\":{\"args\":{\"cost\":{\"id\":\"3965\"},\"done\":{\"id\":\"3966\"},\"pts\":{\"id\":\"3974\"},\"source\":{\"id\":\"3967\"},\"tour\":{\"id\":\"3968\"}},\"code\":\"\\n    var node = source.data['last_index']\\n    \\n    if (node.toString() != -1) {\\n        if (!(tour.data['indices'].includes(node))) {\\n            if (tour.data['indices'].length > 0) { \\n                var prev = tour.data['indices'][tour.data['indices'].length - 1]\\n            } else {\\n                var prev = -1\\n            }\\n\\n            var tmp_edges_x = tour.data['edges_x']\\n            var tmp_edges_y = tour.data['edges_y']\\n            var tmp_indices = tour.data['indices']\\n\\n            tmp_edges_x.push(pts.data['x'][node])\\n            tmp_edges_y.push(pts.data['y'][node])\\n            tmp_indices.push(node)\\n\\n            tour.data['edges_x'] = tmp_edges_x\\n            tour.data['edges_y'] = tmp_edges_y\\n            tour.data['indices'] = tmp_indices\\n\\n            if (prev == -1) {\\n                cost.text = '0.0'\\n            } else {\\n                var before = parseFloat(cost.text)\\n                var increase = source.data['G'][prev][node]\\n                cost.text = (before + increase).toFixed(1)   \\n            }\\n            \\n            if (tour.data['indices'].length == source.data['G'].length) {\\n                var tmp_edges_x = tour.data['edges_x']\\n                var tmp_edges_y = tour.data['edges_y']\\n                var tmp_indices = tour.data['indices']\\n\\n                tmp_edges_x.push(tmp_edges_x[0])\\n                tmp_edges_y.push(tmp_edges_y[0])\\n                tmp_indices.push(tmp_indices[0])\\n\\n                tour.data['edges_x'] = tmp_edges_x\\n                tour.data['edges_y'] = tmp_edges_y\\n                tour.data['indices'] = tmp_indices\\n\\n                var before = parseFloat(cost.text)\\n                var increase = source.data['G'][node][tmp_indices[0]]\\n                cost.text = (before + increase).toFixed(1) \\n            }    \\n        }\\n    }\\n    done.text = '['.concat(tour.data['indices'].join(',')).concat(']')\\n    tour.change.emit()\\n    \"},\"id\":\"3981\",\"type\":\"CustomJS\"},{\"attributes\":{},\"id\":\"3938\",\"type\":\"BasicTicker\"},{\"attributes\":{\"callback\":{\"id\":\"3981\"},\"renderers\":[{\"id\":\"3977\"}]},\"id\":\"3982\",\"type\":\"TapTool\"},{\"attributes\":{\"line_width\":4,\"x\":{\"field\":\"edges_x\"},\"y\":{\"field\":\"edges_y\"}},\"id\":\"3970\",\"type\":\"Line\"},{\"attributes\":{\"active_drag\":\"auto\",\"active_inspect\":\"auto\",\"active_multi\":null,\"active_scroll\":\"auto\",\"active_tap\":\"auto\",\"logo\":null,\"tools\":[{\"id\":\"3945\"},{\"id\":\"3946\"},{\"id\":\"3947\"},{\"id\":\"3948\"},{\"id\":\"3949\"},{\"id\":\"3950\"},{\"id\":\"3980\"},{\"id\":\"3982\"}]},\"id\":\"3952\",\"type\":\"Toolbar\"},{\"attributes\":{\"children\":[{\"id\":\"3965\"},{\"id\":\"3966\"}]},\"id\":\"3985\",\"type\":\"Row\"},{\"attributes\":{\"h\":{\"units\":\"data\",\"value\":2735.46},\"url\":{\"field\":\"url\"},\"w\":{\"units\":\"data\",\"value\":2305.602},\"x\":{\"value\":447.09900000000005},\"y\":{\"value\":1439.53}},\"id\":\"3961\",\"type\":\"ImageURL\"}],\"root_ids\":[\"4001\"]},\"title\":\"Bokeh Application\",\"version\":\"2.1.0\"}};\n",
       "  var render_items = [{\"docid\":\"d2ff640d-930c-4e52-b4e5-5f056ff5195c\",\"root_ids\":[\"4001\"],\"roots\":{\"4001\":\"edce2c04-bb17-499e-ab85-5f9c92142ec6\"}}];\n",
       "  root.Bokeh.embed.embed_items_notebook(docs_json, render_items);\n",
       "\n",
       "  }\n",
       "  if (root.Bokeh !== undefined) {\n",
       "    embed_document(root);\n",
       "  } else {\n",
       "    var attempts = 0;\n",
       "    var timer = setInterval(function(root) {\n",
       "      if (root.Bokeh !== undefined) {\n",
       "        clearInterval(timer);\n",
       "        embed_document(root);\n",
       "      } else {\n",
       "        attempts++;\n",
       "        if (attempts > 100) {\n",
       "          clearInterval(timer);\n",
       "          console.log(\"Bokeh: ERROR: Unable to run BokehJS code because BokehJS library is missing\");\n",
       "        }\n",
       "      }\n",
       "    }, 10, root)\n",
       "  }\n",
       "})(window);"
      ],
      "application/vnd.bokehjs_exec.v0+json": ""
     },
     "metadata": {
      "application/vnd.bokehjs_exec.v0+json": {
       "id": "4001"
      }
     },
     "output_type": "display_data"
    }
   ],
   "source": [
    "nodes = pd.read_csv('data/us_cities_23.csv', index_col=0)\n",
    "G = distance_matrix(nodes, manhattan=False)\n",
    "plot_create_tour(nodes, G, width=600, height=375, show_us=True)"
   ]
  },
  {
   "cell_type": "markdown",
   "metadata": {},
   "source": [
    "**Q15:** Set the `tour` variable to be the tour you manually created."
   ]
  },
  {
   "cell_type": "code",
   "execution_count": 26,
   "metadata": {},
   "outputs": [],
   "source": [
    "# We can define a tour like this:\n",
    "tour = [0,2,1,3,4,22,21,6,8,7,9,10,15,16,18,11,12,13,17,19,20,14,5,0]\n",
    "\n",
    "# After manually creating a tour, you can copy the list associated with that tour from the bottom-right\n",
    "\n",
    "# TODO: Define your tour.\n",
    "\n",
    "### BEGIN SOLUTION\n",
    "tour = [0,2,1,3,4,22,21,6,8,7,9,10,15,16,18,11,12,13,17,19,20,14,5,0]\n",
    "### END SOLUTION"
   ]
  },
  {
   "cell_type": "markdown",
   "metadata": {},
   "source": [
    "Run 2-OPT!"
   ]
  },
  {
   "cell_type": "code",
   "execution_count": 27,
   "metadata": {},
   "outputs": [
    {
     "data": {
      "text/html": [
       "\n",
       "\n",
       "\n",
       "\n",
       "\n",
       "\n",
       "  <div class=\"bk-root\" id=\"4cd64f57-e30e-4da7-8db6-8f15ac29700c\" data-root-id=\"4353\"></div>\n"
      ]
     },
     "metadata": {},
     "output_type": "display_data"
    },
    {
     "data": {
      "application/javascript": [
       "(function(root) {\n",
       "  function embed_document(root) {\n",
       "    \n",
       "  var docs_json = {\"fa628797-a19f-4bdf-a116-4e71d1975c73\":{\"roots\":{\"references\":[{\"attributes\":{\"children\":[[{\"id\":\"4258\"},0,0],[{\"id\":\"4328\"},1,0],[{\"id\":\"4329\"},2,0]]},\"id\":\"4353\",\"type\":\"GridBox\"},{\"attributes\":{\"source\":{\"id\":\"4301\"}},\"id\":\"4308\",\"type\":\"CDSView\"},{\"attributes\":{},\"id\":\"4340\",\"type\":\"Selection\"},{\"attributes\":{},\"id\":\"4336\",\"type\":\"Selection\"},{\"attributes\":{\"end\":2772.701,\"start\":467.09900000000005},\"id\":\"4261\",\"type\":\"Range1d\"},{\"attributes\":{},\"id\":\"4333\",\"type\":\"BasicTickFormatter\"},{\"attributes\":{},\"id\":\"4339\",\"type\":\"UnionRenderers\"},{\"attributes\":{},\"id\":\"4341\",\"type\":\"UnionRenderers\"},{\"attributes\":{\"background_fill_color\":null,\"below\":[{\"id\":\"4269\"}],\"border_fill_color\":null,\"center\":[{\"id\":\"4272\"},{\"id\":\"4276\"}],\"left\":[{\"id\":\"4273\"}],\"outline_line_color\":null,\"plot_height\":375,\"renderers\":[{\"id\":\"4295\"},{\"id\":\"4307\"},{\"id\":\"4312\"},{\"id\":\"4317\"},{\"id\":\"4322\"}],\"title\":{\"id\":\"4259\"},\"toolbar\":{\"id\":\"4284\"},\"toolbar_location\":null,\"x_range\":{\"id\":\"4261\"},\"x_scale\":{\"id\":\"4265\"},\"y_range\":{\"id\":\"4263\"},\"y_scale\":{\"id\":\"4267\"}},\"id\":\"4258\",\"subtype\":\"Figure\",\"type\":\"Plot\"},{\"attributes\":{},\"id\":\"4265\",\"type\":\"LinearScale\"},{\"attributes\":{},\"id\":\"4338\",\"type\":\"Selection\"},{\"attributes\":{\"children\":[{\"id\":\"4326\"},{\"id\":\"4324\"}],\"max_width\":600,\"sizing_mode\":\"stretch_both\"},\"id\":\"4328\",\"type\":\"Row\"},{\"attributes\":{},\"id\":\"4342\",\"type\":\"Selection\"},{\"attributes\":{\"line_alpha\":{\"value\":0.1},\"line_color\":{\"value\":\"red\"},\"line_width\":{\"value\":4},\"xs\":{\"field\":\"swaps_before_x\"},\"ys\":{\"field\":\"swaps_before_y\"}},\"id\":\"4311\",\"type\":\"MultiLine\"},{\"attributes\":{},\"id\":\"4337\",\"type\":\"UnionRenderers\"},{\"attributes\":{},\"id\":\"4267\",\"type\":\"LinearScale\"},{\"attributes\":{\"line_color\":{\"value\":\"red\"},\"line_width\":{\"value\":4},\"xs\":{\"field\":\"swaps_before_x\"},\"ys\":{\"field\":\"swaps_before_y\"}},\"id\":\"4310\",\"type\":\"MultiLine\"},{\"attributes\":{\"args\":{\"cost\":{\"id\":\"4297\"},\"done\":{\"id\":\"4298\"},\"n\":{\"id\":\"4299\"},\"source\":{\"id\":\"4300\"},\"swaps\":{\"id\":\"4303\"},\"swaps_source\":{\"id\":\"4302\"},\"tour\":{\"id\":\"4301\"}},\"code\":\"\\nif ((parseInt(n.text) - 1) >= 0) {\\n    n.text = (parseInt(n.text) - 1).toString()\\n}\\nvar iteration = parseInt(n.text)\\n\\n    cost.text = source.data['costs'][iteration].toFixed(1)\\n    \\n    if (iteration == source.data['edges_y'].length - 1) {\\n        done.text = \\\"done.\\\"\\n        swaps.data['swaps_before_x'] = [[]]\\n        swaps.data['swaps_before_y'] = [[]]\\n        swaps.data['swaps_after_x'] = [[]]\\n        swaps.data['swaps_after_y'] = [[]]\\n    } else {\\n        done.text = \\\"\\\"\\n        swaps.data['swaps_before_x'] = swaps_source.data['swaps_before_x'][iteration]\\n        swaps.data['swaps_before_y'] = swaps_source.data['swaps_before_y'][iteration]\\n        swaps.data['swaps_after_x'] = swaps_source.data['swaps_after_x'][iteration]\\n        swaps.data['swaps_after_y'] = swaps_source.data['swaps_after_y'][iteration]\\n    }\\n\\n    tour.data['edges_x'] = source.data['edges_x'][iteration]\\n    tour.data['edges_y'] = source.data['edges_y'][iteration]\\n    tour.change.emit()\\n    swaps.change.emit()\\n    \"},\"id\":\"4327\",\"type\":\"CustomJS\"},{\"attributes\":{},\"id\":\"4347\",\"type\":\"UnionRenderers\"},{\"attributes\":{\"formatter\":{\"id\":\"4331\"},\"ticker\":{\"id\":\"4270\"},\"visible\":false},\"id\":\"4269\",\"type\":\"LinearAxis\"},{\"attributes\":{\"source\":{\"id\":\"4303\"}},\"id\":\"4313\",\"type\":\"CDSView\"},{\"attributes\":{\"bottom_units\":\"screen\",\"fill_alpha\":0.5,\"fill_color\":\"lightgrey\",\"left_units\":\"screen\",\"level\":\"overlay\",\"line_alpha\":1.0,\"line_color\":\"black\",\"line_dash\":[4,4],\"line_width\":2,\"right_units\":\"screen\",\"top_units\":\"screen\"},\"id\":\"4283\",\"type\":\"BoxAnnotation\"},{\"attributes\":{},\"id\":\"4348\",\"type\":\"Selection\"},{\"attributes\":{\"data\":{\"url\":[\"images/us.png\"]},\"selected\":{\"id\":\"4336\"},\"selection_policy\":{\"id\":\"4335\"}},\"id\":\"4292\",\"type\":\"ColumnDataSource\"},{\"attributes\":{},\"id\":\"4270\",\"type\":\"BasicTicker\"},{\"attributes\":{\"active_drag\":\"auto\",\"active_inspect\":\"auto\",\"active_multi\":null,\"active_scroll\":\"auto\",\"active_tap\":\"auto\",\"logo\":null,\"tools\":[{\"id\":\"4277\"},{\"id\":\"4278\"},{\"id\":\"4279\"},{\"id\":\"4280\"},{\"id\":\"4281\"},{\"id\":\"4282\"}]},\"id\":\"4284\",\"type\":\"Toolbar\"},{\"attributes\":{},\"id\":\"4349\",\"type\":\"UnionRenderers\"},{\"attributes\":{\"data_source\":{\"id\":\"4292\"},\"glyph\":{\"id\":\"4293\"},\"hover_glyph\":null,\"muted_glyph\":null,\"nonselection_glyph\":{\"id\":\"4294\"},\"selection_glyph\":null,\"view\":{\"id\":\"4296\"}},\"id\":\"4295\",\"type\":\"GlyphRenderer\"},{\"attributes\":{\"data_source\":{\"id\":\"4303\"},\"glyph\":{\"id\":\"4310\"},\"hover_glyph\":null,\"muted_glyph\":null,\"nonselection_glyph\":{\"id\":\"4311\"},\"selection_glyph\":null,\"view\":{\"id\":\"4313\"}},\"id\":\"4312\",\"type\":\"GlyphRenderer\"},{\"attributes\":{\"axis\":{\"id\":\"4269\"},\"grid_line_color\":null,\"ticker\":null},\"id\":\"4272\",\"type\":\"Grid\"},{\"attributes\":{\"source\":{\"id\":\"4292\"}},\"id\":\"4296\",\"type\":\"CDSView\"},{\"attributes\":{},\"id\":\"4350\",\"type\":\"Selection\"},{\"attributes\":{\"formatter\":{\"id\":\"4333\"},\"ticker\":{\"id\":\"4274\"},\"visible\":false},\"id\":\"4273\",\"type\":\"LinearAxis\"},{\"attributes\":{\"data\":{\"x\":[751.5,634.6,701.4,784.9,985.3,1753.5,1920.5,2338.0,2404.8,2187.7,2321.3,2471.6,2505.0,2605.2,1987.3,2070.8,2421.5,2321.3,2187.7,2237.8,2154.3,1619.9,1670.0],\"y\":[1235.8,200.4,-100.2,-267.2,-367.4,768.1999999999998,-801.5999999999998,-868.4,-1102.2,-400.8,-300.6,334.0,467.6,668.0,400.8,-133.6,233.8,668.0,267.2,434.2,534.4,-501.0,-868.4]},\"selected\":{\"id\":\"4342\"},\"selection_policy\":{\"id\":\"4341\"}},\"id\":\"4319\",\"type\":\"ColumnDataSource\"},{\"attributes\":{\"line_alpha\":{\"value\":0.1},\"line_color\":{\"value\":\"#90D7F6\"},\"line_width\":{\"value\":4},\"xs\":{\"field\":\"swaps_after_x\"},\"ys\":{\"field\":\"swaps_after_y\"}},\"id\":\"4316\",\"type\":\"MultiLine\"},{\"attributes\":{\"align\":\"center\",\"text\":\"9592.0\",\"width\":300},\"id\":\"4297\",\"type\":\"Div\"},{\"attributes\":{\"line_color\":{\"value\":\"#90D7F6\"},\"line_width\":{\"value\":4},\"xs\":{\"field\":\"swaps_after_x\"},\"ys\":{\"field\":\"swaps_after_y\"}},\"id\":\"4315\",\"type\":\"MultiLine\"},{\"attributes\":{},\"id\":\"4274\",\"type\":\"BasicTicker\"},{\"attributes\":{\"align\":\"center\",\"width\":300},\"id\":\"4298\",\"type\":\"Div\"},{\"attributes\":{\"axis\":{\"id\":\"4273\"},\"dimension\":1,\"grid_line_color\":null,\"ticker\":null},\"id\":\"4276\",\"type\":\"Grid\"},{\"attributes\":{\"source\":{\"id\":\"4303\"}},\"id\":\"4318\",\"type\":\"CDSView\"},{\"attributes\":{\"align\":\"center\",\"text\":\"0\",\"width\":600},\"id\":\"4299\",\"type\":\"Div\"},{\"attributes\":{\"h\":{\"units\":\"data\",\"value\":2735.46},\"url\":{\"field\":\"url\"},\"w\":{\"units\":\"data\",\"value\":2305.602},\"x\":{\"value\":447.09900000000005},\"y\":{\"value\":1439.53}},\"id\":\"4293\",\"type\":\"ImageURL\"},{\"attributes\":{\"data\":{\"costs\":[9591.98783995229,8992.577032336536,8626.809675570756,8356.77304838083],\"edges_x\":[[751.5,701.4,634.6,784.9,985.3,1670.0,1619.9,1920.5,2404.8,2338.0,2187.7,2321.3,2070.8,2421.5,2187.7,2471.6,2505.0,2605.2,2321.3,2237.8,2154.3,1987.3,1753.5,751.5],[751.5,634.6,701.4,784.9,985.3,1670.0,1619.9,1920.5,2404.8,2338.0,2187.7,2321.3,2070.8,2421.5,2187.7,2471.6,2505.0,2605.2,2321.3,2237.8,2154.3,1987.3,1753.5,751.5],[751.5,634.6,701.4,784.9,985.3,1619.9,1670.0,1920.5,2404.8,2338.0,2187.7,2321.3,2070.8,2421.5,2187.7,2471.6,2505.0,2605.2,2321.3,2237.8,2154.3,1987.3,1753.5,751.5],[751.5,634.6,701.4,784.9,985.3,1619.9,1670.0,1920.5,2404.8,2338.0,2187.7,2321.3,2070.8,2187.7,2421.5,2471.6,2505.0,2605.2,2321.3,2237.8,2154.3,1987.3,1753.5,751.5]],\"edges_y\":[[1235.8,-100.2,200.4,-267.2,-367.4,-868.4,-501.0,-801.5999999999998,-1102.2,-868.4,-400.8,-300.6,-133.6,233.8,267.2,334.0,467.6,668.0,668.0,434.2,534.4,400.8,768.1999999999998,1235.8],[1235.8,200.4,-100.2,-267.2,-367.4,-868.4,-501.0,-801.5999999999998,-1102.2,-868.4,-400.8,-300.6,-133.6,233.8,267.2,334.0,467.6,668.0,668.0,434.2,534.4,400.8,768.1999999999998,1235.8],[1235.8,200.4,-100.2,-267.2,-367.4,-501.0,-868.4,-801.5999999999998,-1102.2,-868.4,-400.8,-300.6,-133.6,233.8,267.2,334.0,467.6,668.0,668.0,434.2,534.4,400.8,768.1999999999998,1235.8],[1235.8,200.4,-100.2,-267.2,-367.4,-501.0,-868.4,-801.5999999999998,-1102.2,-868.4,-400.8,-300.6,-133.6,267.2,233.8,334.0,467.6,668.0,668.0,434.2,534.4,400.8,768.1999999999998,1235.8]]},\"selected\":{\"id\":\"4348\"},\"selection_policy\":{\"id\":\"4347\"}},\"id\":\"4300\",\"type\":\"ColumnDataSource\"},{\"attributes\":{\"data_source\":{\"id\":\"4303\"},\"glyph\":{\"id\":\"4315\"},\"hover_glyph\":null,\"muted_glyph\":null,\"nonselection_glyph\":{\"id\":\"4316\"},\"selection_glyph\":null,\"view\":{\"id\":\"4318\"}},\"id\":\"4317\",\"type\":\"GlyphRenderer\"},{\"attributes\":{\"global_alpha\":0.1,\"h\":{\"units\":\"data\",\"value\":2735.46},\"url\":{\"field\":\"url\"},\"w\":{\"units\":\"data\",\"value\":2305.602},\"x\":{\"value\":447.09900000000005},\"y\":{\"value\":1439.53}},\"id\":\"4294\",\"type\":\"ImageURL\"},{\"attributes\":{},\"id\":\"4335\",\"type\":\"UnionRenderers\"},{\"attributes\":{\"end\":1434.53,\"start\":-1300.93},\"id\":\"4263\",\"type\":\"Range1d\"},{\"attributes\":{\"data\":{\"edges_x\":[751.5,701.4,634.6,784.9,985.3,1670.0,1619.9,1920.5,2404.8,2338.0,2187.7,2321.3,2070.8,2421.5,2187.7,2471.6,2505.0,2605.2,2321.3,2237.8,2154.3,1987.3,1753.5,751.5],\"edges_y\":[1235.8,-100.2,200.4,-267.2,-367.4,-868.4,-501.0,-801.5999999999998,-1102.2,-868.4,-400.8,-300.6,-133.6,233.8,267.2,334.0,467.6,668.0,668.0,434.2,534.4,400.8,768.1999999999998,1235.8]},\"selected\":{\"id\":\"4338\"},\"selection_policy\":{\"id\":\"4337\"}},\"id\":\"4301\",\"type\":\"ColumnDataSource\"},{\"attributes\":{\"children\":[{\"id\":\"4297\"},{\"id\":\"4298\"}]},\"id\":\"4329\",\"type\":\"Row\"},{\"attributes\":{},\"id\":\"4277\",\"type\":\"PanTool\"},{\"attributes\":{\"data\":{\"swaps_after_x\":[[[751.5,634.6],[701.4,784.9]],[[985.3,1619.9],[1670.0,1920.5]],[[2070.8,2187.7],[2421.5,2471.6]]],\"swaps_after_y\":[[[1235.8,200.4],[-100.2,-267.2]],[[-367.4,-501.0],[-868.4,-801.5999999999998]],[[-133.6,267.2],[233.8,334.0]]],\"swaps_before_x\":[[[751.5,701.4],[634.6,784.9]],[[985.3,1670.0],[1619.9,1920.5]],[[2070.8,2421.5],[2187.7,2471.6]]],\"swaps_before_y\":[[[1235.8,-100.2],[200.4,-267.2]],[[-367.4,-868.4],[-501.0,-801.5999999999998]],[[-133.6,233.8],[267.2,334.0]]]},\"selected\":{\"id\":\"4350\"},\"selection_policy\":{\"id\":\"4349\"}},\"id\":\"4302\",\"type\":\"ColumnDataSource\"},{\"attributes\":{\"button_type\":\"success\",\"icon\":null,\"js_event_callbacks\":{\"button_click\":[{\"id\":\"4327\"}]},\"label\":\"Previous\",\"sizing_mode\":\"scale_width\",\"width_policy\":\"fit\"},\"id\":\"4326\",\"type\":\"Button\"},{\"attributes\":{\"fill_color\":{\"value\":\"steelblue\"},\"line_color\":{\"value\":\"steelblue\"},\"size\":{\"units\":\"screen\",\"value\":8},\"x\":{\"field\":\"x\"},\"y\":{\"field\":\"y\"}},\"id\":\"4320\",\"type\":\"Circle\"},{\"attributes\":{},\"id\":\"4331\",\"type\":\"BasicTickFormatter\"},{\"attributes\":{},\"id\":\"4278\",\"type\":\"WheelZoomTool\"},{\"attributes\":{},\"id\":\"4281\",\"type\":\"ResetTool\"},{\"attributes\":{\"text\":\"\"},\"id\":\"4259\",\"type\":\"Title\"},{\"attributes\":{\"fill_alpha\":{\"value\":0.1},\"fill_color\":{\"value\":\"steelblue\"},\"line_alpha\":{\"value\":0.1},\"line_color\":{\"value\":\"steelblue\"},\"size\":{\"units\":\"screen\",\"value\":8},\"x\":{\"field\":\"x\"},\"y\":{\"field\":\"y\"}},\"id\":\"4321\",\"type\":\"Circle\"},{\"attributes\":{\"data\":{\"swaps_after_x\":[[751.5,634.6],[701.4,784.9]],\"swaps_after_y\":[[1235.8,200.4],[-100.2,-267.2]],\"swaps_before_x\":[[751.5,701.4],[634.6,784.9]],\"swaps_before_y\":[[1235.8,-100.2],[200.4,-267.2]]},\"selected\":{\"id\":\"4340\"},\"selection_policy\":{\"id\":\"4339\"}},\"id\":\"4303\",\"type\":\"ColumnDataSource\"},{\"attributes\":{\"source\":{\"id\":\"4319\"}},\"id\":\"4323\",\"type\":\"CDSView\"},{\"attributes\":{\"overlay\":{\"id\":\"4283\"}},\"id\":\"4279\",\"type\":\"BoxZoomTool\"},{\"attributes\":{},\"id\":\"4280\",\"type\":\"SaveTool\"},{\"attributes\":{\"data_source\":{\"id\":\"4319\"},\"glyph\":{\"id\":\"4320\"},\"hover_glyph\":null,\"muted_glyph\":null,\"nonselection_glyph\":{\"id\":\"4321\"},\"selection_glyph\":null,\"view\":{\"id\":\"4323\"}},\"id\":\"4322\",\"type\":\"GlyphRenderer\"},{\"attributes\":{\"line_alpha\":0.1,\"line_width\":4,\"x\":{\"field\":\"edges_x\"},\"y\":{\"field\":\"edges_y\"}},\"id\":\"4306\",\"type\":\"Line\"},{\"attributes\":{\"button_type\":\"success\",\"icon\":null,\"js_event_callbacks\":{\"button_click\":[{\"id\":\"4325\"}]},\"label\":\"Next\",\"sizing_mode\":\"scale_width\",\"width_policy\":\"fit\"},\"id\":\"4324\",\"type\":\"Button\"},{\"attributes\":{\"line_width\":4,\"x\":{\"field\":\"edges_x\"},\"y\":{\"field\":\"edges_y\"}},\"id\":\"4305\",\"type\":\"Line\"},{\"attributes\":{\"args\":{\"cost\":{\"id\":\"4297\"},\"done\":{\"id\":\"4298\"},\"n\":{\"id\":\"4299\"},\"source\":{\"id\":\"4300\"},\"swaps\":{\"id\":\"4303\"},\"swaps_source\":{\"id\":\"4302\"},\"tour\":{\"id\":\"4301\"}},\"code\":\"\\nif ((parseInt(n.text) + 1) < source.data['edges_y'].length) {\\n    n.text = (parseInt(n.text) + 1).toString()\\n}\\nvar iteration = parseInt(n.text)\\n\\n    cost.text = source.data['costs'][iteration].toFixed(1)\\n    \\n    if (iteration == source.data['edges_y'].length - 1) {\\n        done.text = \\\"done.\\\"\\n        swaps.data['swaps_before_x'] = [[]]\\n        swaps.data['swaps_before_y'] = [[]]\\n        swaps.data['swaps_after_x'] = [[]]\\n        swaps.data['swaps_after_y'] = [[]]\\n    } else {\\n        done.text = \\\"\\\"\\n        swaps.data['swaps_before_x'] = swaps_source.data['swaps_before_x'][iteration]\\n        swaps.data['swaps_before_y'] = swaps_source.data['swaps_before_y'][iteration]\\n        swaps.data['swaps_after_x'] = swaps_source.data['swaps_after_x'][iteration]\\n        swaps.data['swaps_after_y'] = swaps_source.data['swaps_after_y'][iteration]\\n    }\\n\\n    tour.data['edges_x'] = source.data['edges_x'][iteration]\\n    tour.data['edges_y'] = source.data['edges_y'][iteration]\\n    tour.change.emit()\\n    swaps.change.emit()\\n    \"},\"id\":\"4325\",\"type\":\"CustomJS\"},{\"attributes\":{\"data_source\":{\"id\":\"4301\"},\"glyph\":{\"id\":\"4305\"},\"hover_glyph\":null,\"muted_glyph\":null,\"nonselection_glyph\":{\"id\":\"4306\"},\"selection_glyph\":null,\"view\":{\"id\":\"4308\"}},\"id\":\"4307\",\"type\":\"GlyphRenderer\"},{\"attributes\":{},\"id\":\"4282\",\"type\":\"HelpTool\"}],\"root_ids\":[\"4353\"]},\"title\":\"Bokeh Application\",\"version\":\"2.1.0\"}};\n",
       "  var render_items = [{\"docid\":\"fa628797-a19f-4bdf-a116-4e71d1975c73\",\"root_ids\":[\"4353\"],\"roots\":{\"4353\":\"4cd64f57-e30e-4da7-8db6-8f15ac29700c\"}}];\n",
       "  root.Bokeh.embed.embed_items_notebook(docs_json, render_items);\n",
       "\n",
       "  }\n",
       "  if (root.Bokeh !== undefined) {\n",
       "    embed_document(root);\n",
       "  } else {\n",
       "    var attempts = 0;\n",
       "    var timer = setInterval(function(root) {\n",
       "      if (root.Bokeh !== undefined) {\n",
       "        clearInterval(timer);\n",
       "        embed_document(root);\n",
       "      } else {\n",
       "        attempts++;\n",
       "        if (attempts > 100) {\n",
       "          clearInterval(timer);\n",
       "          console.log(\"Bokeh: ERROR: Unable to run BokehJS code because BokehJS library is missing\");\n",
       "        }\n",
       "      }\n",
       "    }, 10, root)\n",
       "  }\n",
       "})(window);"
      ],
      "application/vnd.bokehjs_exec.v0+json": ""
     },
     "metadata": {
      "application/vnd.bokehjs_exec.v0+json": {
       "id": "4353"
      }
     },
     "output_type": "display_data"
    }
   ],
   "source": [
    "plot_two_opt(nodes, G, list(tour), width=600, height=375, show_us=True);"
   ]
  },
  {
   "cell_type": "markdown",
   "metadata": {},
   "source": [
    "**Q16:** Did 2-OPT improve your tour? By how much?\n",
    "\n",
    "**A:** <font color='blue'> (Based on example tour) Yes. It went from 9592.0 to 8356.8. </font>"
   ]
  },
  {
   "cell_type": "markdown",
   "metadata": {},
   "source": [
    "Now, let's look at an optimal solution!"
   ]
  },
  {
   "cell_type": "code",
   "execution_count": 28,
   "metadata": {},
   "outputs": [
    {
     "data": {
      "text/html": [
       "\n",
       "\n",
       "\n",
       "\n",
       "\n",
       "\n",
       "  <div class=\"bk-root\" id=\"7e51e974-ec41-460b-b25a-60022a3f8a56\" data-root-id=\"4711\"></div>\n"
      ]
     },
     "metadata": {},
     "output_type": "display_data"
    },
    {
     "data": {
      "application/javascript": [
       "(function(root) {\n",
       "  function embed_document(root) {\n",
       "    \n",
       "  var docs_json = {\"5eee27b3-eb2d-4d73-b8f1-38204a40d2b9\":{\"roots\":{\"references\":[{\"attributes\":{\"children\":[[{\"id\":\"4648\"},0,0],[{\"id\":\"4687\"},1,0]]},\"id\":\"4711\",\"type\":\"GridBox\"},{\"attributes\":{\"fill_color\":{\"value\":\"steelblue\"},\"line_color\":{\"value\":\"steelblue\"},\"size\":{\"units\":\"screen\",\"value\":8},\"x\":{\"field\":\"x\"},\"y\":{\"field\":\"y\"}},\"id\":\"4694\",\"type\":\"Circle\"},{\"attributes\":{},\"id\":\"4668\",\"type\":\"WheelZoomTool\"},{\"attributes\":{\"h\":{\"units\":\"data\",\"value\":2735.46},\"url\":{\"field\":\"url\"},\"w\":{\"units\":\"data\",\"value\":2305.602},\"x\":{\"value\":447.09900000000005},\"y\":{\"value\":1439.53}},\"id\":\"4683\",\"type\":\"ImageURL\"},{\"attributes\":{\"data_source\":{\"id\":\"4688\"},\"glyph\":{\"id\":\"4689\"},\"hover_glyph\":null,\"muted_glyph\":null,\"nonselection_glyph\":{\"id\":\"4690\"},\"selection_glyph\":null,\"view\":{\"id\":\"4692\"}},\"id\":\"4691\",\"type\":\"GlyphRenderer\"},{\"attributes\":{\"data\":{\"x\":[751.5,634.6,701.4,784.9,985.3,1753.5,1920.5,2338.0,2404.8,2187.7,2321.3,2471.6,2505.0,2605.2,1987.3,2070.8,2421.5,2321.3,2187.7,2237.8,2154.3,1619.9,1670.0],\"y\":[1235.8,200.4,-100.2,-267.2,-367.4,768.1999999999998,-801.5999999999998,-868.4,-1102.2,-400.8,-300.6,334.0,467.6,668.0,400.8,-133.6,233.8,668.0,267.2,434.2,534.4,-501.0,-868.4]},\"selected\":{\"id\":\"4708\"},\"selection_policy\":{\"id\":\"4707\"}},\"id\":\"4693\",\"type\":\"ColumnDataSource\"},{\"attributes\":{},\"id\":\"4671\",\"type\":\"ResetTool\"},{\"attributes\":{\"source\":{\"id\":\"4688\"}},\"id\":\"4692\",\"type\":\"CDSView\"},{\"attributes\":{},\"id\":\"4655\",\"type\":\"LinearScale\"},{\"attributes\":{\"end\":1434.53,\"start\":-1300.93},\"id\":\"4653\",\"type\":\"Range1d\"},{\"attributes\":{},\"id\":\"4708\",\"type\":\"Selection\"},{\"attributes\":{\"text\":\"\"},\"id\":\"4649\",\"type\":\"Title\"},{\"attributes\":{\"line_alpha\":0.1,\"line_width\":4,\"x\":{\"field\":\"x\"},\"y\":{\"field\":\"y\"}},\"id\":\"4690\",\"type\":\"Line\"},{\"attributes\":{\"line_width\":4,\"x\":{\"field\":\"x\"},\"y\":{\"field\":\"y\"}},\"id\":\"4689\",\"type\":\"Line\"},{\"attributes\":{\"fill_alpha\":{\"value\":0.1},\"fill_color\":{\"value\":\"steelblue\"},\"line_alpha\":{\"value\":0.1},\"line_color\":{\"value\":\"steelblue\"},\"size\":{\"units\":\"screen\",\"value\":8},\"x\":{\"field\":\"x\"},\"y\":{\"field\":\"y\"}},\"id\":\"4695\",\"type\":\"Circle\"},{\"attributes\":{\"formatter\":{\"id\":\"4699\"},\"ticker\":{\"id\":\"4660\"},\"visible\":false},\"id\":\"4659\",\"type\":\"LinearAxis\"},{\"attributes\":{\"source\":{\"id\":\"4693\"}},\"id\":\"4697\",\"type\":\"CDSView\"},{\"attributes\":{\"end\":2772.701,\"start\":467.09900000000005},\"id\":\"4651\",\"type\":\"Range1d\"},{\"attributes\":{\"data_source\":{\"id\":\"4693\"},\"glyph\":{\"id\":\"4694\"},\"hover_glyph\":null,\"muted_glyph\":null,\"nonselection_glyph\":{\"id\":\"4695\"},\"selection_glyph\":null,\"view\":{\"id\":\"4697\"}},\"id\":\"4696\",\"type\":\"GlyphRenderer\"},{\"attributes\":{},\"id\":\"4670\",\"type\":\"SaveTool\"},{\"attributes\":{\"background_fill_color\":null,\"below\":[{\"id\":\"4659\"}],\"border_fill_color\":null,\"center\":[{\"id\":\"4662\"},{\"id\":\"4666\"}],\"left\":[{\"id\":\"4663\"}],\"outline_line_color\":null,\"plot_height\":375,\"renderers\":[{\"id\":\"4685\"},{\"id\":\"4691\"},{\"id\":\"4696\"}],\"title\":{\"id\":\"4649\"},\"toolbar\":{\"id\":\"4674\"},\"toolbar_location\":null,\"x_range\":{\"id\":\"4651\"},\"x_scale\":{\"id\":\"4655\"},\"y_range\":{\"id\":\"4653\"},\"y_scale\":{\"id\":\"4657\"}},\"id\":\"4648\",\"subtype\":\"Figure\",\"type\":\"Plot\"},{\"attributes\":{\"axis\":{\"id\":\"4663\"},\"dimension\":1,\"grid_line_color\":null,\"ticker\":null},\"id\":\"4666\",\"type\":\"Grid\"},{\"attributes\":{},\"id\":\"4667\",\"type\":\"PanTool\"},{\"attributes\":{\"data\":{\"url\":[\"images/us.png\"]},\"selected\":{\"id\":\"4704\"},\"selection_policy\":{\"id\":\"4703\"}},\"id\":\"4682\",\"type\":\"ColumnDataSource\"},{\"attributes\":{},\"id\":\"4664\",\"type\":\"BasicTicker\"},{\"attributes\":{},\"id\":\"4705\",\"type\":\"UnionRenderers\"},{\"attributes\":{\"formatter\":{\"id\":\"4701\"},\"ticker\":{\"id\":\"4664\"},\"visible\":false},\"id\":\"4663\",\"type\":\"LinearAxis\"},{\"attributes\":{\"align\":\"center\",\"text\":\"8356.8\",\"width\":600},\"id\":\"4687\",\"type\":\"Div\"},{\"attributes\":{\"overlay\":{\"id\":\"4673\"}},\"id\":\"4669\",\"type\":\"BoxZoomTool\"},{\"attributes\":{\"active_drag\":\"auto\",\"active_inspect\":\"auto\",\"active_multi\":null,\"active_scroll\":\"auto\",\"active_tap\":\"auto\",\"logo\":null,\"tools\":[{\"id\":\"4667\"},{\"id\":\"4668\"},{\"id\":\"4669\"},{\"id\":\"4670\"},{\"id\":\"4671\"},{\"id\":\"4672\"}]},\"id\":\"4674\",\"type\":\"Toolbar\"},{\"attributes\":{\"source\":{\"id\":\"4682\"}},\"id\":\"4686\",\"type\":\"CDSView\"},{\"attributes\":{\"axis\":{\"id\":\"4659\"},\"grid_line_color\":null,\"ticker\":null},\"id\":\"4662\",\"type\":\"Grid\"},{\"attributes\":{},\"id\":\"4707\",\"type\":\"UnionRenderers\"},{\"attributes\":{},\"id\":\"4701\",\"type\":\"BasicTickFormatter\"},{\"attributes\":{\"data_source\":{\"id\":\"4682\"},\"glyph\":{\"id\":\"4683\"},\"hover_glyph\":null,\"muted_glyph\":null,\"nonselection_glyph\":{\"id\":\"4684\"},\"selection_glyph\":null,\"view\":{\"id\":\"4686\"}},\"id\":\"4685\",\"type\":\"GlyphRenderer\"},{\"attributes\":{},\"id\":\"4660\",\"type\":\"BasicTicker\"},{\"attributes\":{\"global_alpha\":0.1,\"h\":{\"units\":\"data\",\"value\":2735.46},\"url\":{\"field\":\"url\"},\"w\":{\"units\":\"data\",\"value\":2305.602},\"x\":{\"value\":447.09900000000005},\"y\":{\"value\":1439.53}},\"id\":\"4684\",\"type\":\"ImageURL\"},{\"attributes\":{},\"id\":\"4657\",\"type\":\"LinearScale\"},{\"attributes\":{\"bottom_units\":\"screen\",\"fill_alpha\":0.5,\"fill_color\":\"lightgrey\",\"left_units\":\"screen\",\"level\":\"overlay\",\"line_alpha\":1.0,\"line_color\":\"black\",\"line_dash\":[4,4],\"line_width\":2,\"right_units\":\"screen\",\"top_units\":\"screen\"},\"id\":\"4673\",\"type\":\"BoxAnnotation\"},{\"attributes\":{},\"id\":\"4706\",\"type\":\"Selection\"},{\"attributes\":{},\"id\":\"4672\",\"type\":\"HelpTool\"},{\"attributes\":{\"data\":{\"x\":[751.5,634.6,701.4,784.9,985.3,1619.9,1670.0,1920.5,2404.8,2338.0,2187.7,2321.3,2070.8,2187.7,2421.5,2471.6,2505.0,2605.2,2321.3,2237.8,2154.3,1987.3,1753.5,751.5],\"y\":[1235.8,200.4,-100.2,-267.2,-367.4,-501.0,-868.4,-801.5999999999998,-1102.2,-868.4,-400.8,-300.6,-133.6,267.2,233.8,334.0,467.6,668.0,668.0,434.2,534.4,400.8,768.1999999999998,1235.8]},\"selected\":{\"id\":\"4706\"},\"selection_policy\":{\"id\":\"4705\"}},\"id\":\"4688\",\"type\":\"ColumnDataSource\"},{\"attributes\":{},\"id\":\"4704\",\"type\":\"Selection\"},{\"attributes\":{},\"id\":\"4699\",\"type\":\"BasicTickFormatter\"},{\"attributes\":{},\"id\":\"4703\",\"type\":\"UnionRenderers\"}],\"root_ids\":[\"4711\"]},\"title\":\"Bokeh Application\",\"version\":\"2.1.0\"}};\n",
       "  var render_items = [{\"docid\":\"5eee27b3-eb2d-4d73-b8f1-38204a40d2b9\",\"root_ids\":[\"4711\"],\"roots\":{\"4711\":\"7e51e974-ec41-460b-b25a-60022a3f8a56\"}}];\n",
       "  root.Bokeh.embed.embed_items_notebook(docs_json, render_items);\n",
       "\n",
       "  }\n",
       "  if (root.Bokeh !== undefined) {\n",
       "    embed_document(root);\n",
       "  } else {\n",
       "    var attempts = 0;\n",
       "    var timer = setInterval(function(root) {\n",
       "      if (root.Bokeh !== undefined) {\n",
       "        clearInterval(timer);\n",
       "        embed_document(root);\n",
       "      } else {\n",
       "        attempts++;\n",
       "        if (attempts > 100) {\n",
       "          clearInterval(timer);\n",
       "          console.log(\"Bokeh: ERROR: Unable to run BokehJS code because BokehJS library is missing\");\n",
       "        }\n",
       "      }\n",
       "    }, 10, root)\n",
       "  }\n",
       "})(window);"
      ],
      "application/vnd.bokehjs_exec.v0+json": ""
     },
     "metadata": {
      "application/vnd.bokehjs_exec.v0+json": {
       "id": "4711"
      }
     },
     "output_type": "display_data"
    }
   ],
   "source": [
    "plot_tour(nodes, G, optimal_tour('us_cities_23'), width=600, height=375, show_us=True);"
   ]
  },
  {
   "cell_type": "markdown",
   "metadata": {},
   "source": [
    "**Q17:** Was your tour optimal before or after 2-OPT?\n",
    "\n",
    "**A:** <font color='blue'> (Based on example tour) It was not optimal before 2-OPT but it become optimal afterwards! </font>"
   ]
  },
  {
   "cell_type": "markdown",
   "metadata": {},
   "source": [
    "## Part IV: TSP Application: PCB Drilling"
   ]
  },
  {
   "cell_type": "markdown",
   "metadata": {},
   "source": [
    "In the previous parts of this lab, we have considered the original application of the TSP to touring a set of cities. We also considered an arbitrary grid of nodes. In this part, we will consider a new problem to which the TSP can be applied."
   ]
  },
  {
   "cell_type": "markdown",
   "metadata": {},
   "source": [
    "Consider the manufacturing of printed circuit boards (PCBs). PCBs are used to mount integrated cicuits and combine them with other hardware. Here is a picture of a PCB after the hardware has been mounted.\n",
    "\n",
    "<img src=\"images/pcb.jpg\" width=\"500\" height=\"380\" />\n",
    "\n",
    "*Taken from [Wikipedia](https://en.wikipedia.org/wiki/Printed_circuit_board)*\n",
    "\n",
    "Before the hardware can be mounted, a large number of small holes must be drilled in the board. The hardware is the mounted by placing the pins of the component in these holes. Below, you can see the small holes before the hardware is mounted.\n",
    "\n",
    "<img src=\"images/pcb_holes.jpg\" width=\"444\" height=\"250\" />\n",
    "\n",
    "*Taken from [AiPCBA](https://www.aipcba.com/pcb/pcb-boards.html)*\n",
    "\n",
    "We are now left with an optimization problem! We have a set of holes that must be drilled in a PCB. We must specify an order to drill these holes to our drilling machine. Our goal is to choose an order that minimizes the total distance the drill travels. This problem is analogous to the TSP!"
   ]
  },
  {
   "cell_type": "markdown",
   "metadata": {},
   "source": [
    "**Q18:** What are the \"nodes\" in the PCB dilling problem?\n",
    "\n",
    "**A:** <font color='blue'> The holes that must be drilled.</font>"
   ]
  },
  {
   "cell_type": "markdown",
   "metadata": {},
   "source": [
    "**Q19:** What is the distance between two \"nodes\" in the PCB dilling problem? (Assume the drill can travel in a straight line from one hole to the next).\n",
    "\n",
    "**A:** <font color='blue'> The euclidian distance between the two holes.</font>"
   ]
  },
  {
   "cell_type": "markdown",
   "metadata": {},
   "source": [
    "**Q20:** In answering **Q18** and **Q19**, you have fully described an input to the TSP. Assume we have a way of solving the TSP. How would you interpret the solution to the TSP (a tour of the nodes) as a solution to the PCB drilling problem?\n",
    "\n",
    "**A:** <font color='blue'>The tour of nodes is equivalent to an ordered list of holes to drill.</font>"
   ]
  },
  {
   "cell_type": "markdown",
   "metadata": {},
   "source": [
    "**Q21:** Why is the optimal TSP tour correspond to an optimal PCB drilling solution?\n",
    "\n",
    "**A:** <font color='blue'>The optimal TSP tour minimizes the distance traveled between the nodes which is equivalent to the distance traveled between the holes to be drilled. This is exactly what we wish to minimize in the PCB drilling problem.</font>"
   ]
  },
  {
   "cell_type": "markdown",
   "metadata": {},
   "source": [
    "Let's start by looking at a small PCB drilling instance: `xqf131`."
   ]
  },
  {
   "cell_type": "code",
   "execution_count": 29,
   "metadata": {},
   "outputs": [
    {
     "data": {
      "text/html": [
       "<div>\n",
       "<style scoped>\n",
       "    .dataframe tbody tr th:only-of-type {\n",
       "        vertical-align: middle;\n",
       "    }\n",
       "\n",
       "    .dataframe tbody tr th {\n",
       "        vertical-align: top;\n",
       "    }\n",
       "\n",
       "    .dataframe thead th {\n",
       "        text-align: right;\n",
       "    }\n",
       "</style>\n",
       "<table border=\"1\" class=\"dataframe\">\n",
       "  <thead>\n",
       "    <tr style=\"text-align: right;\">\n",
       "      <th></th>\n",
       "      <th>name</th>\n",
       "      <th>x</th>\n",
       "      <th>y</th>\n",
       "    </tr>\n",
       "  </thead>\n",
       "  <tbody>\n",
       "    <tr>\n",
       "      <th>0</th>\n",
       "      <td>1</td>\n",
       "      <td>0.0</td>\n",
       "      <td>13.0</td>\n",
       "    </tr>\n",
       "    <tr>\n",
       "      <th>1</th>\n",
       "      <td>2</td>\n",
       "      <td>0.0</td>\n",
       "      <td>26.0</td>\n",
       "    </tr>\n",
       "    <tr>\n",
       "      <th>2</th>\n",
       "      <td>3</td>\n",
       "      <td>0.0</td>\n",
       "      <td>27.0</td>\n",
       "    </tr>\n",
       "    <tr>\n",
       "      <th>3</th>\n",
       "      <td>4</td>\n",
       "      <td>0.0</td>\n",
       "      <td>39.0</td>\n",
       "    </tr>\n",
       "    <tr>\n",
       "      <th>4</th>\n",
       "      <td>5</td>\n",
       "      <td>2.0</td>\n",
       "      <td>0.0</td>\n",
       "    </tr>\n",
       "  </tbody>\n",
       "</table>\n",
       "</div>"
      ],
      "text/plain": [
       "   name    x     y\n",
       "0     1  0.0  13.0\n",
       "1     2  0.0  26.0\n",
       "2     3  0.0  27.0\n",
       "3     4  0.0  39.0\n",
       "4     5  2.0   0.0"
      ]
     },
     "execution_count": 29,
     "metadata": {},
     "output_type": "execute_result"
    }
   ],
   "source": [
    "nodes = pd.read_csv('data/xqf131.csv', index_col=0)\n",
    "nodes.head() # .head() restricts the display to just show the first 5 rows."
   ]
  },
  {
   "cell_type": "code",
   "execution_count": 30,
   "metadata": {},
   "outputs": [],
   "source": [
    "# Like before, we also need to construct a distance matrix (using the euclidian distance)\n",
    "G = distance_matrix(nodes, manhattan=False)"
   ]
  },
  {
   "cell_type": "markdown",
   "metadata": {},
   "source": [
    "Let's apply some of our TSP heuristics and 2-OPT to get some good feasible solutions to this problem!"
   ]
  },
  {
   "cell_type": "code",
   "execution_count": 31,
   "metadata": {},
   "outputs": [
    {
     "data": {
      "text/html": [
       "\n",
       "\n",
       "\n",
       "\n",
       "\n",
       "\n",
       "  <div class=\"bk-root\" id=\"047089d5-fd63-48eb-81de-1fcd27b5ec5e\" data-root-id=\"5042\"></div>\n"
      ]
     },
     "metadata": {},
     "output_type": "display_data"
    },
    {
     "data": {
      "application/javascript": [
       "(function(root) {\n",
       "  function embed_document(root) {\n",
       "    \n",
       "  var docs_json = {\"a0eec632-2dbd-430e-a38d-ab290da4a677\":{\"roots\":{\"references\":[{\"attributes\":{\"children\":[[{\"id\":\"4986\"},0,0],[{\"id\":\"5020\"},1,0]]},\"id\":\"5042\",\"type\":\"GridBox\"},{\"attributes\":{},\"id\":\"4995\",\"type\":\"LinearScale\"},{\"attributes\":{\"data_source\":{\"id\":\"5021\"},\"glyph\":{\"id\":\"5022\"},\"hover_glyph\":null,\"muted_glyph\":null,\"nonselection_glyph\":{\"id\":\"5023\"},\"selection_glyph\":null,\"view\":{\"id\":\"5025\"}},\"id\":\"5024\",\"type\":\"GlyphRenderer\"},{\"attributes\":{\"end\":50.995,\"start\":-3.995},\"id\":\"4991\",\"type\":\"Range1d\"},{\"attributes\":{},\"id\":\"4998\",\"type\":\"BasicTicker\"},{\"attributes\":{\"data\":{\"x\":[0.0,0.0,0.0,0.0,2.0,5.0,5.0,5.0,5.0,5.0,5.0,5.0,8.0,9.0,10.0,11.0,12.0,12.0,15.0,15.0,15.0,15.0,15.0,15.0,15.0,18.0,18.0,18.0,18.0,18.0,18.0,18.0,18.0,18.0,18.0,18.0,18.0,18.0,18.0,18.0,18.0,18.0,18.0,18.0,25.0,25.0,25.0,25.0,25.0,25.0,25.0,25.0,25.0,28.0,28.0,28.0,28.0,28.0,28.0,28.0,28.0,32.0,32.0,33.0,33.0,33.0,33.0,34.0,34.0,34.0,34.0,34.0,34.0,34.0,35.0,35.0,38.0,38.0,38.0,38.0,40.0,41.0,41.0,41.0,41.0,41.0,48.0,48.0,48.0,51.0,51.0,56.0,57.0,57.0,57.0,61.0,61.0,63.0,64.0,71.0,71.0,71.0,71.0,71.0,74.0,74.0,74.0,74.0,74.0,74.0,74.0,74.0,77.0,78.0,78.0,78.0,78.0,79.0,79.0,79.0,80.0,80.0,80.0,81.0,84.0,84.0,84.0,84.0,84.0,84.0,107.0],\"y\":[13.0,26.0,27.0,39.0,0.0,13.0,19.0,25.0,31.0,37.0,43.0,8.0,0.0,10.0,10.0,10.0,10.0,5.0,13.0,19.0,25.0,31.0,37.0,43.0,8.0,11.0,13.0,15.0,17.0,19.0,21.0,23.0,25.0,27.0,29.0,31.0,33.0,35.0,37.0,39.0,41.0,42.0,44.0,45.0,11.0,15.0,22.0,23.0,24.0,26.0,28.0,29.0,9.0,16.0,20.0,28.0,30.0,34.0,40.0,43.0,47.0,26.0,31.0,15.0,26.0,29.0,31.0,15.0,26.0,29.0,31.0,38.0,41.0,5.0,17.0,31.0,16.0,20.0,30.0,34.0,22.0,23.0,32.0,34.0,35.0,36.0,22.0,27.0,6.0,45.0,47.0,25.0,12.0,25.0,44.0,45.0,47.0,6.0,22.0,11.0,13.0,16.0,45.0,47.0,12.0,16.0,20.0,24.0,29.0,35.0,39.0,6.0,21.0,10.0,32.0,35.0,39.0,10.0,33.0,37.0,10.0,41.0,5.0,17.0,20.0,24.0,29.0,34.0,38.0,6.0,27.0]},\"selected\":{\"id\":\"5039\"},\"selection_policy\":{\"id\":\"5038\"}},\"id\":\"5026\",\"type\":\"ColumnDataSource\"},{\"attributes\":{\"formatter\":{\"id\":\"5032\"},\"ticker\":{\"id\":\"4998\"},\"visible\":false},\"id\":\"4997\",\"type\":\"LinearAxis\"},{\"attributes\":{\"fill_color\":{\"value\":\"steelblue\"},\"line_color\":{\"value\":\"steelblue\"},\"size\":{\"units\":\"screen\",\"value\":8},\"x\":{\"field\":\"x\"},\"y\":{\"field\":\"y\"}},\"id\":\"5027\",\"type\":\"Circle\"},{\"attributes\":{\"fill_alpha\":{\"value\":0.1},\"fill_color\":{\"value\":\"steelblue\"},\"line_alpha\":{\"value\":0.1},\"line_color\":{\"value\":\"steelblue\"},\"size\":{\"units\":\"screen\",\"value\":8},\"x\":{\"field\":\"x\"},\"y\":{\"field\":\"y\"}},\"id\":\"5028\",\"type\":\"Circle\"},{\"attributes\":{\"overlay\":{\"id\":\"5011\"}},\"id\":\"5007\",\"type\":\"BoxZoomTool\"},{\"attributes\":{\"formatter\":{\"id\":\"5034\"},\"ticker\":{\"id\":\"5002\"},\"visible\":false},\"id\":\"5001\",\"type\":\"LinearAxis\"},{\"attributes\":{},\"id\":\"5005\",\"type\":\"PanTool\"},{\"attributes\":{},\"id\":\"4993\",\"type\":\"LinearScale\"},{\"attributes\":{\"data_source\":{\"id\":\"5026\"},\"glyph\":{\"id\":\"5027\"},\"hover_glyph\":null,\"muted_glyph\":null,\"nonselection_glyph\":{\"id\":\"5028\"},\"selection_glyph\":null,\"view\":{\"id\":\"5030\"}},\"id\":\"5029\",\"type\":\"GlyphRenderer\"},{\"attributes\":{},\"id\":\"5002\",\"type\":\"BasicTicker\"},{\"attributes\":{\"axis\":{\"id\":\"5001\"},\"dimension\":1,\"grid_line_color\":null,\"ticker\":null},\"id\":\"5004\",\"type\":\"Grid\"},{\"attributes\":{\"source\":{\"id\":\"5026\"}},\"id\":\"5030\",\"type\":\"CDSView\"},{\"attributes\":{},\"id\":\"5032\",\"type\":\"BasicTickFormatter\"},{\"attributes\":{},\"id\":\"5006\",\"type\":\"WheelZoomTool\"},{\"attributes\":{\"data\":{\"x\":[0.0,5.0,5.0,9.0,10.0,11.0,12.0,15.0,18.0,18.0,18.0,18.0,18.0,18.0,18.0,18.0,18.0,18.0,18.0,18.0,18.0,18.0,18.0,18.0,18.0,18.0,18.0,15.0,15.0,15.0,15.0,15.0,15.0,12.0,8.0,2.0,5.0,5.0,0.0,0.0,5.0,5.0,0.0,5.0,28.0,28.0,28.0,28.0,28.0,25.0,25.0,25.0,25.0,25.0,25.0,28.0,28.0,25.0,25.0,25.0,34.0,34.0,33.0,35.0,38.0,38.0,40.0,41.0,48.0,48.0,56.0,57.0,64.0,71.0,71.0,71.0,74.0,74.0,74.0,77.0,74.0,74.0,78.0,79.0,78.0,79.0,78.0,80.0,84.0,84.0,84.0,84.0,84.0,81.0,80.0,79.0,78.0,80.0,84.0,74.0,63.0,57.0,48.0,34.0,33.0,32.0,33.0,34.0,34.0,33.0,32.0,35.0,38.0,41.0,41.0,41.0,41.0,38.0,34.0,34.0,28.0,51.0,51.0,57.0,61.0,61.0,71.0,71.0,74.0,74.0,107.0,0.0],\"y\":[13.0,13.0,8.0,10.0,10.0,10.0,10.0,8.0,11.0,13.0,15.0,17.0,19.0,21.0,23.0,25.0,27.0,29.0,31.0,33.0,35.0,37.0,39.0,41.0,42.0,44.0,45.0,43.0,37.0,31.0,25.0,19.0,13.0,5.0,0.0,0.0,19.0,25.0,26.0,27.0,31.0,37.0,39.0,43.0,43.0,40.0,34.0,30.0,28.0,28.0,29.0,26.0,24.0,23.0,22.0,20.0,16.0,15.0,11.0,9.0,5.0,15.0,15.0,17.0,16.0,20.0,22.0,23.0,22.0,27.0,25.0,25.0,22.0,16.0,13.0,11.0,12.0,16.0,20.0,21.0,24.0,29.0,32.0,33.0,35.0,37.0,39.0,41.0,38.0,34.0,29.0,24.0,20.0,17.0,10.0,10.0,10.0,5.0,6.0,6.0,6.0,12.0,6.0,26.0,26.0,26.0,29.0,29.0,31.0,31.0,31.0,31.0,30.0,32.0,34.0,35.0,36.0,34.0,38.0,41.0,47.0,47.0,45.0,44.0,45.0,47.0,47.0,45.0,39.0,35.0,27.0,13.0]},\"selected\":{\"id\":\"5037\"},\"selection_policy\":{\"id\":\"5036\"}},\"id\":\"5021\",\"type\":\"ColumnDataSource\"},{\"attributes\":{\"bottom_units\":\"screen\",\"fill_alpha\":0.5,\"fill_color\":\"lightgrey\",\"left_units\":\"screen\",\"level\":\"overlay\",\"line_alpha\":1.0,\"line_color\":\"black\",\"line_dash\":[4,4],\"line_width\":2,\"right_units\":\"screen\",\"top_units\":\"screen\"},\"id\":\"5011\",\"type\":\"BoxAnnotation\"},{\"attributes\":{},\"id\":\"5034\",\"type\":\"BasicTickFormatter\"},{\"attributes\":{\"axis\":{\"id\":\"4997\"},\"grid_line_color\":null,\"ticker\":null},\"id\":\"5000\",\"type\":\"Grid\"},{\"attributes\":{},\"id\":\"5037\",\"type\":\"Selection\"},{\"attributes\":{\"background_fill_color\":null,\"below\":[{\"id\":\"4997\"}],\"border_fill_color\":null,\"center\":[{\"id\":\"5000\"},{\"id\":\"5004\"}],\"left\":[{\"id\":\"5001\"}],\"outline_line_color\":null,\"plot_height\":400,\"plot_width\":400,\"renderers\":[{\"id\":\"5024\"},{\"id\":\"5029\"}],\"title\":{\"id\":\"4987\"},\"toolbar\":{\"id\":\"5012\"},\"toolbar_location\":null,\"x_range\":{\"id\":\"4989\"},\"x_scale\":{\"id\":\"4993\"},\"y_range\":{\"id\":\"4991\"},\"y_scale\":{\"id\":\"4995\"}},\"id\":\"4986\",\"subtype\":\"Figure\",\"type\":\"Plot\"},{\"attributes\":{\"source\":{\"id\":\"5021\"}},\"id\":\"5025\",\"type\":\"CDSView\"},{\"attributes\":{},\"id\":\"5038\",\"type\":\"UnionRenderers\"},{\"attributes\":{\"active_drag\":\"auto\",\"active_inspect\":\"auto\",\"active_multi\":null,\"active_scroll\":\"auto\",\"active_tap\":\"auto\",\"logo\":null,\"tools\":[{\"id\":\"5005\"},{\"id\":\"5006\"},{\"id\":\"5007\"},{\"id\":\"5008\"},{\"id\":\"5009\"},{\"id\":\"5010\"}]},\"id\":\"5012\",\"type\":\"Toolbar\"},{\"attributes\":{\"line_alpha\":0.1,\"line_width\":4,\"x\":{\"field\":\"x\"},\"y\":{\"field\":\"y\"}},\"id\":\"5023\",\"type\":\"Line\"},{\"attributes\":{\"end\":116.095,\"start\":-9.095},\"id\":\"4989\",\"type\":\"Range1d\"},{\"attributes\":{\"text\":\"\"},\"id\":\"4987\",\"type\":\"Title\"},{\"attributes\":{},\"id\":\"5036\",\"type\":\"UnionRenderers\"},{\"attributes\":{\"line_width\":4,\"x\":{\"field\":\"x\"},\"y\":{\"field\":\"y\"}},\"id\":\"5022\",\"type\":\"Line\"},{\"attributes\":{},\"id\":\"5009\",\"type\":\"ResetTool\"},{\"attributes\":{},\"id\":\"5010\",\"type\":\"HelpTool\"},{\"attributes\":{\"align\":\"center\",\"text\":\"709.9\",\"width\":400},\"id\":\"5020\",\"type\":\"Div\"},{\"attributes\":{},\"id\":\"5039\",\"type\":\"Selection\"},{\"attributes\":{},\"id\":\"5008\",\"type\":\"SaveTool\"}],\"root_ids\":[\"5042\"]},\"title\":\"Bokeh Application\",\"version\":\"2.1.0\"}};\n",
       "  var render_items = [{\"docid\":\"a0eec632-2dbd-430e-a38d-ab290da4a677\",\"root_ids\":[\"5042\"],\"roots\":{\"5042\":\"047089d5-fd63-48eb-81de-1fcd27b5ec5e\"}}];\n",
       "  root.Bokeh.embed.embed_items_notebook(docs_json, render_items);\n",
       "\n",
       "  }\n",
       "  if (root.Bokeh !== undefined) {\n",
       "    embed_document(root);\n",
       "  } else {\n",
       "    var attempts = 0;\n",
       "    var timer = setInterval(function(root) {\n",
       "      if (root.Bokeh !== undefined) {\n",
       "        clearInterval(timer);\n",
       "        embed_document(root);\n",
       "      } else {\n",
       "        attempts++;\n",
       "        if (attempts > 100) {\n",
       "          clearInterval(timer);\n",
       "          console.log(\"Bokeh: ERROR: Unable to run BokehJS code because BokehJS library is missing\");\n",
       "        }\n",
       "      }\n",
       "    }, 10, root)\n",
       "  }\n",
       "})(window);"
      ],
      "application/vnd.bokehjs_exec.v0+json": ""
     },
     "metadata": {
      "application/vnd.bokehjs_exec.v0+json": {
       "id": "5042"
      }
     },
     "output_type": "display_data"
    }
   ],
   "source": [
    "# Nearest neighbor\n",
    "tour = nearest_neighbor(G)\n",
    "plot_tour(nodes, G,tour)"
   ]
  },
  {
   "cell_type": "code",
   "execution_count": 32,
   "metadata": {
    "scrolled": false
   },
   "outputs": [
    {
     "data": {
      "text/html": [
       "\n",
       "\n",
       "\n",
       "\n",
       "\n",
       "\n",
       "  <div class=\"bk-root\" id=\"0e3c37a5-4911-4d6d-9201-a9225868ddb6\" data-root-id=\"5403\"></div>\n"
      ]
     },
     "metadata": {},
     "output_type": "display_data"
    },
    {
     "data": {
      "application/javascript": [
       "(function(root) {\n",
       "  function embed_document(root) {\n",
       "    \n",
       "  var docs_json = {\"7a68beb8-7aed-4081-ba69-a278d8dae390\":{\"roots\":{\"references\":[{\"attributes\":{\"children\":[[{\"id\":\"5315\"},0,0],[{\"id\":\"5380\"},1,0],[{\"id\":\"5381\"},2,0]]},\"id\":\"5403\",\"type\":\"GridBox\"},{\"attributes\":{\"axis\":{\"id\":\"5326\"},\"grid_line_color\":null,\"ticker\":null},\"id\":\"5329\",\"type\":\"Grid\"},{\"attributes\":{\"line_color\":{\"value\":\"red\"},\"line_width\":{\"value\":4},\"xs\":{\"field\":\"swaps_before_x\"},\"ys\":{\"field\":\"swaps_before_y\"}},\"id\":\"5362\",\"type\":\"MultiLine\"},{\"attributes\":{\"text\":\"\"},\"id\":\"5316\",\"type\":\"Title\"},{\"attributes\":{\"children\":[{\"id\":\"5349\"},{\"id\":\"5350\"}]},\"id\":\"5381\",\"type\":\"Row\"},{\"attributes\":{\"source\":{\"id\":\"5353\"}},\"id\":\"5360\",\"type\":\"CDSView\"},{\"attributes\":{\"formatter\":{\"id\":\"5385\"},\"ticker\":{\"id\":\"5331\"},\"visible\":false},\"id\":\"5330\",\"type\":\"LinearAxis\"},{\"attributes\":{\"source\":{\"id\":\"5355\"}},\"id\":\"5365\",\"type\":\"CDSView\"},{\"attributes\":{\"args\":{\"cost\":{\"id\":\"5349\"},\"done\":{\"id\":\"5350\"},\"n\":{\"id\":\"5351\"},\"source\":{\"id\":\"5352\"},\"swaps\":{\"id\":\"5355\"},\"swaps_source\":{\"id\":\"5354\"},\"tour\":{\"id\":\"5353\"}},\"code\":\"\\nif ((parseInt(n.text) - 1) >= 0) {\\n    n.text = (parseInt(n.text) - 1).toString()\\n}\\nvar iteration = parseInt(n.text)\\n\\n    cost.text = source.data['costs'][iteration].toFixed(1)\\n    \\n    if (iteration == source.data['edges_y'].length - 1) {\\n        done.text = \\\"done.\\\"\\n        swaps.data['swaps_before_x'] = [[]]\\n        swaps.data['swaps_before_y'] = [[]]\\n        swaps.data['swaps_after_x'] = [[]]\\n        swaps.data['swaps_after_y'] = [[]]\\n    } else {\\n        done.text = \\\"\\\"\\n        swaps.data['swaps_before_x'] = swaps_source.data['swaps_before_x'][iteration]\\n        swaps.data['swaps_before_y'] = swaps_source.data['swaps_before_y'][iteration]\\n        swaps.data['swaps_after_x'] = swaps_source.data['swaps_after_x'][iteration]\\n        swaps.data['swaps_after_y'] = swaps_source.data['swaps_after_y'][iteration]\\n    }\\n\\n    tour.data['edges_x'] = source.data['edges_x'][iteration]\\n    tour.data['edges_y'] = source.data['edges_y'][iteration]\\n    tour.change.emit()\\n    swaps.change.emit()\\n    \"},\"id\":\"5379\",\"type\":\"CustomJS\"},{\"attributes\":{},\"id\":\"5331\",\"type\":\"BasicTicker\"},{\"attributes\":{},\"id\":\"5383\",\"type\":\"BasicTickFormatter\"},{\"attributes\":{\"data\":{\"x\":[0.0,0.0,0.0,0.0,2.0,5.0,5.0,5.0,5.0,5.0,5.0,5.0,8.0,9.0,10.0,11.0,12.0,12.0,15.0,15.0,15.0,15.0,15.0,15.0,15.0,18.0,18.0,18.0,18.0,18.0,18.0,18.0,18.0,18.0,18.0,18.0,18.0,18.0,18.0,18.0,18.0,18.0,18.0,18.0,25.0,25.0,25.0,25.0,25.0,25.0,25.0,25.0,25.0,28.0,28.0,28.0,28.0,28.0,28.0,28.0,28.0,32.0,32.0,33.0,33.0,33.0,33.0,34.0,34.0,34.0,34.0,34.0,34.0,34.0,35.0,35.0,38.0,38.0,38.0,38.0,40.0,41.0,41.0,41.0,41.0,41.0,48.0,48.0,48.0,51.0,51.0,56.0,57.0,57.0,57.0,61.0,61.0,63.0,64.0,71.0,71.0,71.0,71.0,71.0,74.0,74.0,74.0,74.0,74.0,74.0,74.0,74.0,77.0,78.0,78.0,78.0,78.0,79.0,79.0,79.0,80.0,80.0,80.0,81.0,84.0,84.0,84.0,84.0,84.0,84.0,107.0],\"y\":[13.0,26.0,27.0,39.0,0.0,13.0,19.0,25.0,31.0,37.0,43.0,8.0,0.0,10.0,10.0,10.0,10.0,5.0,13.0,19.0,25.0,31.0,37.0,43.0,8.0,11.0,13.0,15.0,17.0,19.0,21.0,23.0,25.0,27.0,29.0,31.0,33.0,35.0,37.0,39.0,41.0,42.0,44.0,45.0,11.0,15.0,22.0,23.0,24.0,26.0,28.0,29.0,9.0,16.0,20.0,28.0,30.0,34.0,40.0,43.0,47.0,26.0,31.0,15.0,26.0,29.0,31.0,15.0,26.0,29.0,31.0,38.0,41.0,5.0,17.0,31.0,16.0,20.0,30.0,34.0,22.0,23.0,32.0,34.0,35.0,36.0,22.0,27.0,6.0,45.0,47.0,25.0,12.0,25.0,44.0,45.0,47.0,6.0,22.0,11.0,13.0,16.0,45.0,47.0,12.0,16.0,20.0,24.0,29.0,35.0,39.0,6.0,21.0,10.0,32.0,35.0,39.0,10.0,33.0,37.0,10.0,41.0,5.0,17.0,20.0,24.0,29.0,34.0,38.0,6.0,27.0]},\"selected\":{\"id\":\"5392\"},\"selection_policy\":{\"id\":\"5391\"}},\"id\":\"5371\",\"type\":\"ColumnDataSource\"},{\"attributes\":{\"axis\":{\"id\":\"5330\"},\"dimension\":1,\"grid_line_color\":null,\"ticker\":null},\"id\":\"5333\",\"type\":\"Grid\"},{\"attributes\":{},\"id\":\"5385\",\"type\":\"BasicTickFormatter\"},{\"attributes\":{\"align\":\"center\",\"text\":\"0\",\"width\":400},\"id\":\"5351\",\"type\":\"Div\"},{\"attributes\":{},\"id\":\"5387\",\"type\":\"UnionRenderers\"},{\"attributes\":{\"align\":\"center\",\"width\":200},\"id\":\"5350\",\"type\":\"Div\"},{\"attributes\":{\"fill_color\":{\"value\":\"steelblue\"},\"line_color\":{\"value\":\"steelblue\"},\"size\":{\"units\":\"screen\",\"value\":8},\"x\":{\"field\":\"x\"},\"y\":{\"field\":\"y\"}},\"id\":\"5372\",\"type\":\"Circle\"},{\"attributes\":{},\"id\":\"5388\",\"type\":\"Selection\"},{\"attributes\":{\"line_color\":{\"value\":\"#90D7F6\"},\"line_width\":{\"value\":4},\"xs\":{\"field\":\"swaps_after_x\"},\"ys\":{\"field\":\"swaps_after_y\"}},\"id\":\"5367\",\"type\":\"MultiLine\"},{\"attributes\":{},\"id\":\"5389\",\"type\":\"UnionRenderers\"},{\"attributes\":{},\"id\":\"5334\",\"type\":\"PanTool\"},{\"attributes\":{\"args\":{\"cost\":{\"id\":\"5349\"},\"done\":{\"id\":\"5350\"},\"n\":{\"id\":\"5351\"},\"source\":{\"id\":\"5352\"},\"swaps\":{\"id\":\"5355\"},\"swaps_source\":{\"id\":\"5354\"},\"tour\":{\"id\":\"5353\"}},\"code\":\"\\nif ((parseInt(n.text) + 1) < source.data['edges_y'].length) {\\n    n.text = (parseInt(n.text) + 1).toString()\\n}\\nvar iteration = parseInt(n.text)\\n\\n    cost.text = source.data['costs'][iteration].toFixed(1)\\n    \\n    if (iteration == source.data['edges_y'].length - 1) {\\n        done.text = \\\"done.\\\"\\n        swaps.data['swaps_before_x'] = [[]]\\n        swaps.data['swaps_before_y'] = [[]]\\n        swaps.data['swaps_after_x'] = [[]]\\n        swaps.data['swaps_after_y'] = [[]]\\n    } else {\\n        done.text = \\\"\\\"\\n        swaps.data['swaps_before_x'] = swaps_source.data['swaps_before_x'][iteration]\\n        swaps.data['swaps_before_y'] = swaps_source.data['swaps_before_y'][iteration]\\n        swaps.data['swaps_after_x'] = swaps_source.data['swaps_after_x'][iteration]\\n        swaps.data['swaps_after_y'] = swaps_source.data['swaps_after_y'][iteration]\\n    }\\n\\n    tour.data['edges_x'] = source.data['edges_x'][iteration]\\n    tour.data['edges_y'] = source.data['edges_y'][iteration]\\n    tour.change.emit()\\n    swaps.change.emit()\\n    \"},\"id\":\"5377\",\"type\":\"CustomJS\"},{\"attributes\":{\"line_alpha\":{\"value\":0.1},\"line_color\":{\"value\":\"red\"},\"line_width\":{\"value\":4},\"xs\":{\"field\":\"swaps_before_x\"},\"ys\":{\"field\":\"swaps_before_y\"}},\"id\":\"5363\",\"type\":\"MultiLine\"},{\"attributes\":{\"line_alpha\":{\"value\":0.1},\"line_color\":{\"value\":\"#90D7F6\"},\"line_width\":{\"value\":4},\"xs\":{\"field\":\"swaps_after_x\"},\"ys\":{\"field\":\"swaps_after_y\"}},\"id\":\"5368\",\"type\":\"MultiLine\"},{\"attributes\":{\"align\":\"center\",\"text\":\"709.9\",\"width\":200},\"id\":\"5349\",\"type\":\"Div\"},{\"attributes\":{},\"id\":\"5335\",\"type\":\"WheelZoomTool\"},{\"attributes\":{},\"id\":\"5390\",\"type\":\"Selection\"},{\"attributes\":{},\"id\":\"5391\",\"type\":\"UnionRenderers\"},{\"attributes\":{\"overlay\":{\"id\":\"5340\"}},\"id\":\"5336\",\"type\":\"BoxZoomTool\"},{\"attributes\":{\"source\":{\"id\":\"5355\"}},\"id\":\"5370\",\"type\":\"CDSView\"},{\"attributes\":{\"line_width\":4,\"x\":{\"field\":\"edges_x\"},\"y\":{\"field\":\"edges_y\"}},\"id\":\"5357\",\"type\":\"Line\"},{\"attributes\":{\"background_fill_color\":null,\"below\":[{\"id\":\"5326\"}],\"border_fill_color\":null,\"center\":[{\"id\":\"5329\"},{\"id\":\"5333\"}],\"left\":[{\"id\":\"5330\"}],\"outline_line_color\":null,\"plot_height\":400,\"plot_width\":400,\"renderers\":[{\"id\":\"5359\"},{\"id\":\"5364\"},{\"id\":\"5369\"},{\"id\":\"5374\"}],\"title\":{\"id\":\"5316\"},\"toolbar\":{\"id\":\"5341\"},\"toolbar_location\":null,\"x_range\":{\"id\":\"5318\"},\"x_scale\":{\"id\":\"5322\"},\"y_range\":{\"id\":\"5320\"},\"y_scale\":{\"id\":\"5324\"}},\"id\":\"5315\",\"subtype\":\"Figure\",\"type\":\"Plot\"},{\"attributes\":{\"line_alpha\":0.1,\"line_width\":4,\"x\":{\"field\":\"edges_x\"},\"y\":{\"field\":\"edges_y\"}},\"id\":\"5358\",\"type\":\"Line\"},{\"attributes\":{},\"id\":\"5337\",\"type\":\"SaveTool\"},{\"attributes\":{},\"id\":\"5392\",\"type\":\"Selection\"},{\"attributes\":{},\"id\":\"5397\",\"type\":\"UnionRenderers\"},{\"attributes\":{},\"id\":\"5338\",\"type\":\"ResetTool\"},{\"attributes\":{\"data_source\":{\"id\":\"5371\"},\"glyph\":{\"id\":\"5372\"},\"hover_glyph\":null,\"muted_glyph\":null,\"nonselection_glyph\":{\"id\":\"5373\"},\"selection_glyph\":null,\"view\":{\"id\":\"5375\"}},\"id\":\"5374\",\"type\":\"GlyphRenderer\"},{\"attributes\":{},\"id\":\"5398\",\"type\":\"Selection\"},{\"attributes\":{\"data_source\":{\"id\":\"5353\"},\"glyph\":{\"id\":\"5357\"},\"hover_glyph\":null,\"muted_glyph\":null,\"nonselection_glyph\":{\"id\":\"5358\"},\"selection_glyph\":null,\"view\":{\"id\":\"5360\"}},\"id\":\"5359\",\"type\":\"GlyphRenderer\"},{\"attributes\":{},\"id\":\"5339\",\"type\":\"HelpTool\"},{\"attributes\":{\"children\":[{\"id\":\"5378\"},{\"id\":\"5376\"}],\"max_width\":400,\"sizing_mode\":\"stretch_both\"},\"id\":\"5380\",\"type\":\"Row\"},{\"attributes\":{\"end\":116.095,\"start\":-9.095},\"id\":\"5318\",\"type\":\"Range1d\"},{\"attributes\":{},\"id\":\"5399\",\"type\":\"UnionRenderers\"},{\"attributes\":{\"button_type\":\"success\",\"icon\":null,\"js_event_callbacks\":{\"button_click\":[{\"id\":\"5379\"}]},\"label\":\"Previous\",\"sizing_mode\":\"scale_width\",\"width_policy\":\"fit\"},\"id\":\"5378\",\"type\":\"Button\"},{\"attributes\":{\"end\":50.995,\"start\":-3.995},\"id\":\"5320\",\"type\":\"Range1d\"},{\"attributes\":{},\"id\":\"5400\",\"type\":\"Selection\"},{\"attributes\":{},\"id\":\"5322\",\"type\":\"LinearScale\"},{\"attributes\":{\"data\":{\"costs\":[709.9162393219531,704.8338016982475,701.1695280517047,701.0671275949883,696.4581849023399,693.3106107399375,689.4251193671263,687.3492553695766,683.0213348474148,682.7678940479219,682.6480013231486,681.2652087617515,680.9281181163097,679.5344019029793,674.8522229662558,674.3140449111371,673.6095866022318,668.6270465098336,666.7664021222378,666.2239185961122,656.8419616083294,654.7506618824211,653.741118874984,652.7381266908335,651.2770665614777,650.002887738167,648.8313148629132,648.0766780554984,645.5933236208581,645.4723886077346,636.2040438510262,633.4046148670775,633.3320455280785,633.3105400979712,632.7340488754297,631.6536858484789,627.7876171011603,620.8683443784879,618.7161730110996,611.6604449210988,611.6138358425396,610.3417579038975,609.4447877373849,607.7020394102486,600.1271737960134,599.9020074473934,596.1124809671803,594.7180322426443,593.619987700278,592.831090251206,590.5173350432426,588.5173350432426],\"edges_x\":[[0.0,5.0,5.0,9.0,10.0,11.0,12.0,15.0,18.0,18.0,18.0,18.0,18.0,18.0,18.0,18.0,18.0,18.0,18.0,18.0,18.0,18.0,18.0,18.0,18.0,18.0,18.0,15.0,15.0,15.0,15.0,15.0,15.0,12.0,8.0,2.0,5.0,5.0,0.0,0.0,5.0,5.0,0.0,5.0,28.0,28.0,28.0,28.0,28.0,25.0,25.0,25.0,25.0,25.0,25.0,28.0,28.0,25.0,25.0,25.0,34.0,34.0,33.0,35.0,38.0,38.0,40.0,41.0,48.0,48.0,56.0,57.0,64.0,71.0,71.0,71.0,74.0,74.0,74.0,77.0,74.0,74.0,78.0,79.0,78.0,79.0,78.0,80.0,84.0,84.0,84.0,84.0,84.0,81.0,80.0,79.0,78.0,80.0,84.0,74.0,63.0,57.0,48.0,34.0,33.0,32.0,33.0,34.0,34.0,33.0,32.0,35.0,38.0,41.0,41.0,41.0,41.0,38.0,34.0,34.0,28.0,51.0,51.0,57.0,61.0,61.0,71.0,71.0,74.0,74.0,107.0,0.0],[0.0,2.0,8.0,12.0,15.0,15.0,15.0,15.0,15.0,15.0,18.0,18.0,18.0,18.0,18.0,18.0,18.0,18.0,18.0,18.0,18.0,18.0,18.0,18.0,18.0,18.0,18.0,18.0,18.0,15.0,12.0,11.0,10.0,9.0,5.0,5.0,5.0,5.0,0.0,0.0,5.0,5.0,0.0,5.0,28.0,28.0,28.0,28.0,28.0,25.0,25.0,25.0,25.0,25.0,25.0,28.0,28.0,25.0,25.0,25.0,34.0,34.0,33.0,35.0,38.0,38.0,40.0,41.0,48.0,48.0,56.0,57.0,64.0,71.0,71.0,71.0,74.0,74.0,74.0,77.0,74.0,74.0,78.0,79.0,78.0,79.0,78.0,80.0,84.0,84.0,84.0,84.0,84.0,81.0,80.0,79.0,78.0,80.0,84.0,74.0,63.0,57.0,48.0,34.0,33.0,32.0,33.0,34.0,34.0,33.0,32.0,35.0,38.0,41.0,41.0,41.0,41.0,38.0,34.0,34.0,28.0,51.0,51.0,57.0,61.0,61.0,71.0,71.0,74.0,74.0,107.0,0.0],[0.0,2.0,8.0,12.0,15.0,18.0,18.0,18.0,18.0,18.0,18.0,18.0,18.0,18.0,18.0,18.0,18.0,18.0,18.0,18.0,18.0,18.0,18.0,18.0,15.0,15.0,15.0,15.0,15.0,15.0,12.0,11.0,10.0,9.0,5.0,5.0,5.0,5.0,0.0,0.0,5.0,5.0,0.0,5.0,28.0,28.0,28.0,28.0,28.0,25.0,25.0,25.0,25.0,25.0,25.0,28.0,28.0,25.0,25.0,25.0,34.0,34.0,33.0,35.0,38.0,38.0,40.0,41.0,48.0,48.0,56.0,57.0,64.0,71.0,71.0,71.0,74.0,74.0,74.0,77.0,74.0,74.0,78.0,79.0,78.0,79.0,78.0,80.0,84.0,84.0,84.0,84.0,84.0,81.0,80.0,79.0,78.0,80.0,84.0,74.0,63.0,57.0,48.0,34.0,33.0,32.0,33.0,34.0,34.0,33.0,32.0,35.0,38.0,41.0,41.0,41.0,41.0,38.0,34.0,34.0,28.0,51.0,51.0,57.0,61.0,61.0,71.0,71.0,74.0,74.0,107.0,0.0],[0.0,2.0,8.0,12.0,15.0,107.0,74.0,74.0,71.0,71.0,61.0,61.0,57.0,51.0,51.0,28.0,34.0,34.0,38.0,41.0,41.0,41.0,41.0,38.0,35.0,32.0,33.0,34.0,34.0,33.0,32.0,33.0,34.0,48.0,57.0,63.0,74.0,84.0,80.0,78.0,79.0,80.0,81.0,84.0,84.0,84.0,84.0,84.0,80.0,78.0,79.0,78.0,79.0,78.0,74.0,74.0,77.0,74.0,74.0,74.0,71.0,71.0,71.0,64.0,57.0,56.0,48.0,48.0,41.0,40.0,38.0,38.0,35.0,33.0,34.0,34.0,25.0,25.0,25.0,28.0,28.0,25.0,25.0,25.0,25.0,25.0,25.0,28.0,28.0,28.0,28.0,28.0,5.0,0.0,5.0,5.0,0.0,0.0,5.0,5.0,5.0,5.0,9.0,10.0,11.0,12.0,15.0,15.0,15.0,15.0,15.0,15.0,18.0,18.0,18.0,18.0,18.0,18.0,18.0,18.0,18.0,18.0,18.0,18.0,18.0,18.0,18.0,18.0,18.0,18.0,18.0,0.0],[0.0,5.0,5.0,5.0,0.0,0.0,5.0,5.0,0.0,5.0,28.0,28.0,28.0,28.0,28.0,25.0,25.0,25.0,25.0,25.0,25.0,28.0,28.0,25.0,25.0,25.0,34.0,34.0,33.0,35.0,38.0,38.0,40.0,41.0,48.0,48.0,56.0,57.0,64.0,71.0,71.0,71.0,74.0,74.0,74.0,77.0,74.0,74.0,78.0,79.0,78.0,79.0,78.0,80.0,84.0,84.0,84.0,84.0,84.0,81.0,80.0,79.0,78.0,80.0,84.0,74.0,63.0,57.0,48.0,34.0,33.0,32.0,33.0,34.0,34.0,33.0,32.0,35.0,38.0,41.0,41.0,41.0,41.0,38.0,34.0,34.0,28.0,51.0,51.0,57.0,61.0,61.0,71.0,71.0,74.0,74.0,107.0,15.0,12.0,8.0,2.0,5.0,9.0,10.0,11.0,12.0,15.0,15.0,15.0,15.0,15.0,15.0,18.0,18.0,18.0,18.0,18.0,18.0,18.0,18.0,18.0,18.0,18.0,18.0,18.0,18.0,18.0,18.0,18.0,18.0,18.0,0.0],[0.0,5.0,18.0,18.0,18.0,18.0,18.0,18.0,18.0,18.0,18.0,18.0,18.0,18.0,18.0,18.0,18.0,18.0,18.0,18.0,18.0,15.0,15.0,15.0,15.0,15.0,15.0,12.0,11.0,10.0,9.0,5.0,2.0,8.0,12.0,15.0,107.0,74.0,74.0,71.0,71.0,61.0,61.0,57.0,51.0,51.0,28.0,34.0,34.0,38.0,41.0,41.0,41.0,41.0,38.0,35.0,32.0,33.0,34.0,34.0,33.0,32.0,33.0,34.0,48.0,57.0,63.0,74.0,84.0,80.0,78.0,79.0,80.0,81.0,84.0,84.0,84.0,84.0,84.0,80.0,78.0,79.0,78.0,79.0,78.0,74.0,74.0,77.0,74.0,74.0,74.0,71.0,71.0,71.0,64.0,57.0,56.0,48.0,48.0,41.0,40.0,38.0,38.0,35.0,33.0,34.0,34.0,25.0,25.0,25.0,28.0,28.0,25.0,25.0,25.0,25.0,25.0,25.0,28.0,28.0,28.0,28.0,28.0,5.0,0.0,5.0,5.0,0.0,0.0,5.0,5.0,0.0],[0.0,5.0,15.0,15.0,15.0,15.0,15.0,18.0,18.0,18.0,18.0,18.0,18.0,18.0,18.0,18.0,18.0,18.0,18.0,18.0,18.0,18.0,18.0,18.0,18.0,18.0,15.0,12.0,11.0,10.0,9.0,5.0,2.0,8.0,12.0,15.0,107.0,74.0,74.0,71.0,71.0,61.0,61.0,57.0,51.0,51.0,28.0,34.0,34.0,38.0,41.0,41.0,41.0,41.0,38.0,35.0,32.0,33.0,34.0,34.0,33.0,32.0,33.0,34.0,48.0,57.0,63.0,74.0,84.0,80.0,78.0,79.0,80.0,81.0,84.0,84.0,84.0,84.0,84.0,80.0,78.0,79.0,78.0,79.0,78.0,74.0,74.0,77.0,74.0,74.0,74.0,71.0,71.0,71.0,64.0,57.0,56.0,48.0,48.0,41.0,40.0,38.0,38.0,35.0,33.0,34.0,34.0,25.0,25.0,25.0,28.0,28.0,25.0,25.0,25.0,25.0,25.0,25.0,28.0,28.0,28.0,28.0,28.0,5.0,0.0,5.0,5.0,0.0,0.0,5.0,5.0,0.0],[0.0,5.0,15.0,12.0,8.0,2.0,5.0,9.0,10.0,11.0,12.0,15.0,18.0,18.0,18.0,18.0,18.0,18.0,18.0,18.0,18.0,18.0,18.0,18.0,18.0,18.0,18.0,18.0,18.0,18.0,18.0,15.0,15.0,15.0,15.0,15.0,107.0,74.0,74.0,71.0,71.0,61.0,61.0,57.0,51.0,51.0,28.0,34.0,34.0,38.0,41.0,41.0,41.0,41.0,38.0,35.0,32.0,33.0,34.0,34.0,33.0,32.0,33.0,34.0,48.0,57.0,63.0,74.0,84.0,80.0,78.0,79.0,80.0,81.0,84.0,84.0,84.0,84.0,84.0,80.0,78.0,79.0,78.0,79.0,78.0,74.0,74.0,77.0,74.0,74.0,74.0,71.0,71.0,71.0,64.0,57.0,56.0,48.0,48.0,41.0,40.0,38.0,38.0,35.0,33.0,34.0,34.0,25.0,25.0,25.0,28.0,28.0,25.0,25.0,25.0,25.0,25.0,25.0,28.0,28.0,28.0,28.0,28.0,5.0,0.0,5.0,5.0,0.0,0.0,5.0,5.0,0.0],[0.0,5.0,5.0,2.0,8.0,12.0,15.0,9.0,10.0,11.0,12.0,15.0,18.0,18.0,18.0,18.0,18.0,18.0,18.0,18.0,18.0,18.0,18.0,18.0,18.0,18.0,18.0,18.0,18.0,18.0,18.0,15.0,15.0,15.0,15.0,15.0,107.0,74.0,74.0,71.0,71.0,61.0,61.0,57.0,51.0,51.0,28.0,34.0,34.0,38.0,41.0,41.0,41.0,41.0,38.0,35.0,32.0,33.0,34.0,34.0,33.0,32.0,33.0,34.0,48.0,57.0,63.0,74.0,84.0,80.0,78.0,79.0,80.0,81.0,84.0,84.0,84.0,84.0,84.0,80.0,78.0,79.0,78.0,79.0,78.0,74.0,74.0,77.0,74.0,74.0,74.0,71.0,71.0,71.0,64.0,57.0,56.0,48.0,48.0,41.0,40.0,38.0,38.0,35.0,33.0,34.0,34.0,25.0,25.0,25.0,28.0,28.0,25.0,25.0,25.0,25.0,25.0,25.0,28.0,28.0,28.0,28.0,28.0,5.0,0.0,5.0,5.0,0.0,0.0,5.0,5.0,0.0],[0.0,5.0,5.0,2.0,8.0,12.0,15.0,12.0,11.0,10.0,9.0,15.0,18.0,18.0,18.0,18.0,18.0,18.0,18.0,18.0,18.0,18.0,18.0,18.0,18.0,18.0,18.0,18.0,18.0,18.0,18.0,15.0,15.0,15.0,15.0,15.0,107.0,74.0,74.0,71.0,71.0,61.0,61.0,57.0,51.0,51.0,28.0,34.0,34.0,38.0,41.0,41.0,41.0,41.0,38.0,35.0,32.0,33.0,34.0,34.0,33.0,32.0,33.0,34.0,48.0,57.0,63.0,74.0,84.0,80.0,78.0,79.0,80.0,81.0,84.0,84.0,84.0,84.0,84.0,80.0,78.0,79.0,78.0,79.0,78.0,74.0,74.0,77.0,74.0,74.0,74.0,71.0,71.0,71.0,64.0,57.0,56.0,48.0,48.0,41.0,40.0,38.0,38.0,35.0,33.0,34.0,34.0,25.0,25.0,25.0,28.0,28.0,25.0,25.0,25.0,25.0,25.0,25.0,28.0,28.0,28.0,28.0,28.0,5.0,0.0,5.0,5.0,0.0,0.0,5.0,5.0,0.0],[0.0,5.0,5.0,2.0,8.0,12.0,9.0,10.0,11.0,12.0,15.0,15.0,18.0,18.0,18.0,18.0,18.0,18.0,18.0,18.0,18.0,18.0,18.0,18.0,18.0,18.0,18.0,18.0,18.0,18.0,18.0,15.0,15.0,15.0,15.0,15.0,107.0,74.0,74.0,71.0,71.0,61.0,61.0,57.0,51.0,51.0,28.0,34.0,34.0,38.0,41.0,41.0,41.0,41.0,38.0,35.0,32.0,33.0,34.0,34.0,33.0,32.0,33.0,34.0,48.0,57.0,63.0,74.0,84.0,80.0,78.0,79.0,80.0,81.0,84.0,84.0,84.0,84.0,84.0,80.0,78.0,79.0,78.0,79.0,78.0,74.0,74.0,77.0,74.0,74.0,74.0,71.0,71.0,71.0,64.0,57.0,56.0,48.0,48.0,41.0,40.0,38.0,38.0,35.0,33.0,34.0,34.0,25.0,25.0,25.0,28.0,28.0,25.0,25.0,25.0,25.0,25.0,25.0,28.0,28.0,28.0,28.0,28.0,5.0,0.0,5.0,5.0,0.0,0.0,5.0,5.0,0.0],[0.0,5.0,5.0,2.0,8.0,12.0,9.0,10.0,11.0,12.0,15.0,15.0,18.0,18.0,18.0,18.0,15.0,15.0,15.0,15.0,15.0,18.0,18.0,18.0,18.0,18.0,18.0,18.0,18.0,18.0,18.0,18.0,18.0,18.0,18.0,18.0,107.0,74.0,74.0,71.0,71.0,61.0,61.0,57.0,51.0,51.0,28.0,34.0,34.0,38.0,41.0,41.0,41.0,41.0,38.0,35.0,32.0,33.0,34.0,34.0,33.0,32.0,33.0,34.0,48.0,57.0,63.0,74.0,84.0,80.0,78.0,79.0,80.0,81.0,84.0,84.0,84.0,84.0,84.0,80.0,78.0,79.0,78.0,79.0,78.0,74.0,74.0,77.0,74.0,74.0,74.0,71.0,71.0,71.0,64.0,57.0,56.0,48.0,48.0,41.0,40.0,38.0,38.0,35.0,33.0,34.0,34.0,25.0,25.0,25.0,28.0,28.0,25.0,25.0,25.0,25.0,25.0,25.0,28.0,28.0,28.0,28.0,28.0,5.0,0.0,5.0,5.0,0.0,0.0,5.0,5.0,0.0],[0.0,5.0,5.0,2.0,8.0,12.0,9.0,10.0,11.0,12.0,15.0,15.0,18.0,18.0,18.0,18.0,15.0,18.0,18.0,18.0,18.0,18.0,18.0,18.0,18.0,18.0,18.0,18.0,18.0,18.0,18.0,18.0,15.0,15.0,15.0,15.0,107.0,74.0,74.0,71.0,71.0,61.0,61.0,57.0,51.0,51.0,28.0,34.0,34.0,38.0,41.0,41.0,41.0,41.0,38.0,35.0,32.0,33.0,34.0,34.0,33.0,32.0,33.0,34.0,48.0,57.0,63.0,74.0,84.0,80.0,78.0,79.0,80.0,81.0,84.0,84.0,84.0,84.0,84.0,80.0,78.0,79.0,78.0,79.0,78.0,74.0,74.0,77.0,74.0,74.0,74.0,71.0,71.0,71.0,64.0,57.0,56.0,48.0,48.0,41.0,40.0,38.0,38.0,35.0,33.0,34.0,34.0,25.0,25.0,25.0,28.0,28.0,25.0,25.0,25.0,25.0,25.0,25.0,28.0,28.0,28.0,28.0,28.0,5.0,0.0,5.0,5.0,0.0,0.0,5.0,5.0,0.0],[0.0,5.0,5.0,2.0,8.0,12.0,9.0,10.0,11.0,12.0,15.0,15.0,18.0,18.0,18.0,18.0,15.0,18.0,18.0,18.0,15.0,15.0,15.0,15.0,18.0,18.0,18.0,18.0,18.0,18.0,18.0,18.0,18.0,18.0,18.0,18.0,107.0,74.0,74.0,71.0,71.0,61.0,61.0,57.0,51.0,51.0,28.0,34.0,34.0,38.0,41.0,41.0,41.0,41.0,38.0,35.0,32.0,33.0,34.0,34.0,33.0,32.0,33.0,34.0,48.0,57.0,63.0,74.0,84.0,80.0,78.0,79.0,80.0,81.0,84.0,84.0,84.0,84.0,84.0,80.0,78.0,79.0,78.0,79.0,78.0,74.0,74.0,77.0,74.0,74.0,74.0,71.0,71.0,71.0,64.0,57.0,56.0,48.0,48.0,41.0,40.0,38.0,38.0,35.0,33.0,34.0,34.0,25.0,25.0,25.0,28.0,28.0,25.0,25.0,25.0,25.0,25.0,25.0,28.0,28.0,28.0,28.0,28.0,5.0,0.0,5.0,5.0,0.0,0.0,5.0,5.0,0.0],[0.0,5.0,5.0,2.0,8.0,12.0,9.0,10.0,11.0,12.0,15.0,15.0,18.0,18.0,18.0,18.0,15.0,18.0,18.0,18.0,15.0,15.0,15.0,28.0,28.0,28.0,28.0,28.0,25.0,25.0,25.0,25.0,25.0,25.0,28.0,28.0,25.0,25.0,25.0,34.0,34.0,33.0,35.0,38.0,38.0,40.0,41.0,48.0,48.0,56.0,57.0,64.0,71.0,71.0,71.0,74.0,74.0,74.0,77.0,74.0,74.0,78.0,79.0,78.0,79.0,78.0,80.0,84.0,84.0,84.0,84.0,84.0,81.0,80.0,79.0,78.0,80.0,84.0,74.0,63.0,57.0,48.0,34.0,33.0,32.0,33.0,34.0,34.0,33.0,32.0,35.0,38.0,41.0,41.0,41.0,41.0,38.0,34.0,34.0,28.0,51.0,51.0,57.0,61.0,61.0,71.0,71.0,74.0,74.0,107.0,18.0,18.0,18.0,18.0,18.0,18.0,18.0,18.0,18.0,18.0,18.0,18.0,15.0,5.0,0.0,5.0,5.0,0.0,0.0,5.0,5.0,0.0],[0.0,5.0,5.0,2.0,8.0,12.0,9.0,10.0,11.0,12.0,15.0,15.0,18.0,18.0,18.0,18.0,15.0,18.0,18.0,18.0,107.0,74.0,74.0,71.0,71.0,61.0,61.0,57.0,51.0,51.0,28.0,34.0,34.0,38.0,41.0,41.0,41.0,41.0,38.0,35.0,32.0,33.0,34.0,34.0,33.0,32.0,33.0,34.0,48.0,57.0,63.0,74.0,84.0,80.0,78.0,79.0,80.0,81.0,84.0,84.0,84.0,84.0,84.0,80.0,78.0,79.0,78.0,79.0,78.0,74.0,74.0,77.0,74.0,74.0,74.0,71.0,71.0,71.0,64.0,57.0,56.0,48.0,48.0,41.0,40.0,38.0,38.0,35.0,33.0,34.0,34.0,25.0,25.0,25.0,28.0,28.0,25.0,25.0,25.0,25.0,25.0,25.0,28.0,28.0,28.0,28.0,28.0,15.0,15.0,15.0,18.0,18.0,18.0,18.0,18.0,18.0,18.0,18.0,18.0,18.0,18.0,18.0,15.0,5.0,0.0,5.0,5.0,0.0,0.0,5.0,5.0,0.0],[0.0,5.0,5.0,2.0,8.0,12.0,9.0,10.0,11.0,12.0,15.0,15.0,18.0,18.0,18.0,18.0,15.0,18.0,18.0,18.0,74.0,107.0,74.0,71.0,71.0,61.0,61.0,57.0,51.0,51.0,28.0,34.0,34.0,38.0,41.0,41.0,41.0,41.0,38.0,35.0,32.0,33.0,34.0,34.0,33.0,32.0,33.0,34.0,48.0,57.0,63.0,74.0,84.0,80.0,78.0,79.0,80.0,81.0,84.0,84.0,84.0,84.0,84.0,80.0,78.0,79.0,78.0,79.0,78.0,74.0,74.0,77.0,74.0,74.0,74.0,71.0,71.0,71.0,64.0,57.0,56.0,48.0,48.0,41.0,40.0,38.0,38.0,35.0,33.0,34.0,34.0,25.0,25.0,25.0,28.0,28.0,25.0,25.0,25.0,25.0,25.0,25.0,28.0,28.0,28.0,28.0,28.0,15.0,15.0,15.0,18.0,18.0,18.0,18.0,18.0,18.0,18.0,18.0,18.0,18.0,18.0,18.0,15.0,5.0,0.0,5.0,5.0,0.0,0.0,5.0,5.0,0.0],[0.0,5.0,5.0,2.0,8.0,12.0,9.0,10.0,11.0,12.0,15.0,15.0,18.0,18.0,18.0,18.0,15.0,18.0,18.0,18.0,34.0,34.0,28.0,51.0,51.0,57.0,61.0,61.0,71.0,71.0,74.0,107.0,74.0,38.0,41.0,41.0,41.0,41.0,38.0,35.0,32.0,33.0,34.0,34.0,33.0,32.0,33.0,34.0,48.0,57.0,63.0,74.0,84.0,80.0,78.0,79.0,80.0,81.0,84.0,84.0,84.0,84.0,84.0,80.0,78.0,79.0,78.0,79.0,78.0,74.0,74.0,77.0,74.0,74.0,74.0,71.0,71.0,71.0,64.0,57.0,56.0,48.0,48.0,41.0,40.0,38.0,38.0,35.0,33.0,34.0,34.0,25.0,25.0,25.0,28.0,28.0,25.0,25.0,25.0,25.0,25.0,25.0,28.0,28.0,28.0,28.0,28.0,15.0,15.0,15.0,18.0,18.0,18.0,18.0,18.0,18.0,18.0,18.0,18.0,18.0,18.0,18.0,15.0,5.0,0.0,5.0,5.0,0.0,0.0,5.0,5.0,0.0],[0.0,5.0,5.0,2.0,8.0,12.0,9.0,10.0,11.0,12.0,15.0,15.0,18.0,18.0,18.0,18.0,15.0,18.0,18.0,18.0,25.0,25.0,25.0,28.0,28.0,25.0,25.0,25.0,34.0,34.0,33.0,35.0,38.0,38.0,40.0,41.0,48.0,48.0,56.0,57.0,64.0,71.0,71.0,71.0,74.0,74.0,74.0,77.0,74.0,74.0,78.0,79.0,78.0,79.0,78.0,80.0,84.0,84.0,84.0,84.0,84.0,81.0,80.0,79.0,78.0,80.0,84.0,74.0,63.0,57.0,48.0,34.0,33.0,32.0,33.0,34.0,34.0,33.0,32.0,35.0,38.0,41.0,41.0,41.0,41.0,38.0,74.0,107.0,74.0,71.0,71.0,61.0,61.0,57.0,51.0,51.0,28.0,34.0,34.0,25.0,25.0,25.0,28.0,28.0,28.0,28.0,28.0,15.0,15.0,15.0,18.0,18.0,18.0,18.0,18.0,18.0,18.0,18.0,18.0,18.0,18.0,18.0,15.0,5.0,0.0,5.0,5.0,0.0,0.0,5.0,5.0,0.0],[0.0,5.0,5.0,2.0,8.0,12.0,9.0,10.0,11.0,12.0,15.0,15.0,18.0,18.0,18.0,18.0,15.0,18.0,18.0,18.0,25.0,25.0,25.0,28.0,28.0,25.0,25.0,25.0,34.0,33.0,34.0,35.0,38.0,38.0,40.0,41.0,48.0,48.0,56.0,57.0,64.0,71.0,71.0,71.0,74.0,74.0,74.0,77.0,74.0,74.0,78.0,79.0,78.0,79.0,78.0,80.0,84.0,84.0,84.0,84.0,84.0,81.0,80.0,79.0,78.0,80.0,84.0,74.0,63.0,57.0,48.0,34.0,33.0,32.0,33.0,34.0,34.0,33.0,32.0,35.0,38.0,41.0,41.0,41.0,41.0,38.0,74.0,107.0,74.0,71.0,71.0,61.0,61.0,57.0,51.0,51.0,28.0,34.0,34.0,25.0,25.0,25.0,28.0,28.0,28.0,28.0,28.0,15.0,15.0,15.0,18.0,18.0,18.0,18.0,18.0,18.0,18.0,18.0,18.0,18.0,18.0,18.0,15.0,5.0,0.0,5.0,5.0,0.0,0.0,5.0,5.0,0.0],[0.0,5.0,5.0,2.0,8.0,12.0,9.0,10.0,11.0,12.0,15.0,15.0,18.0,18.0,18.0,18.0,15.0,18.0,18.0,18.0,25.0,25.0,25.0,28.0,28.0,25.0,25.0,25.0,34.0,48.0,57.0,63.0,74.0,84.0,80.0,78.0,79.0,80.0,81.0,84.0,84.0,84.0,84.0,84.0,80.0,78.0,79.0,78.0,79.0,78.0,74.0,74.0,77.0,74.0,74.0,74.0,71.0,71.0,71.0,64.0,57.0,56.0,48.0,48.0,41.0,40.0,38.0,38.0,35.0,34.0,33.0,34.0,33.0,32.0,33.0,34.0,34.0,33.0,32.0,35.0,38.0,41.0,41.0,41.0,41.0,38.0,74.0,107.0,74.0,71.0,71.0,61.0,61.0,57.0,51.0,51.0,28.0,34.0,34.0,25.0,25.0,25.0,28.0,28.0,28.0,28.0,28.0,15.0,15.0,15.0,18.0,18.0,18.0,18.0,18.0,18.0,18.0,18.0,18.0,18.0,18.0,18.0,15.0,5.0,0.0,5.0,5.0,0.0,0.0,5.0,5.0,0.0],[0.0,5.0,5.0,2.0,8.0,12.0,9.0,10.0,11.0,12.0,15.0,15.0,18.0,18.0,18.0,18.0,15.0,18.0,18.0,18.0,25.0,25.0,25.0,28.0,28.0,25.0,25.0,25.0,34.0,48.0,57.0,63.0,74.0,80.0,84.0,78.0,79.0,80.0,81.0,84.0,84.0,84.0,84.0,84.0,80.0,78.0,79.0,78.0,79.0,78.0,74.0,74.0,77.0,74.0,74.0,74.0,71.0,71.0,71.0,64.0,57.0,56.0,48.0,48.0,41.0,40.0,38.0,38.0,35.0,34.0,33.0,34.0,33.0,32.0,33.0,34.0,34.0,33.0,32.0,35.0,38.0,41.0,41.0,41.0,41.0,38.0,74.0,107.0,74.0,71.0,71.0,61.0,61.0,57.0,51.0,51.0,28.0,34.0,34.0,25.0,25.0,25.0,28.0,28.0,28.0,28.0,28.0,15.0,15.0,15.0,18.0,18.0,18.0,18.0,18.0,18.0,18.0,18.0,18.0,18.0,18.0,18.0,15.0,5.0,0.0,5.0,5.0,0.0,0.0,5.0,5.0,0.0],[0.0,5.0,5.0,2.0,8.0,12.0,9.0,10.0,11.0,12.0,15.0,15.0,18.0,18.0,18.0,18.0,15.0,18.0,18.0,18.0,25.0,25.0,25.0,28.0,28.0,25.0,25.0,25.0,34.0,48.0,57.0,63.0,74.0,80.0,84.0,80.0,79.0,78.0,81.0,84.0,84.0,84.0,84.0,84.0,80.0,78.0,79.0,78.0,79.0,78.0,74.0,74.0,77.0,74.0,74.0,74.0,71.0,71.0,71.0,64.0,57.0,56.0,48.0,48.0,41.0,40.0,38.0,38.0,35.0,34.0,33.0,34.0,33.0,32.0,33.0,34.0,34.0,33.0,32.0,35.0,38.0,41.0,41.0,41.0,41.0,38.0,74.0,107.0,74.0,71.0,71.0,61.0,61.0,57.0,51.0,51.0,28.0,34.0,34.0,25.0,25.0,25.0,28.0,28.0,28.0,28.0,28.0,15.0,15.0,15.0,18.0,18.0,18.0,18.0,18.0,18.0,18.0,18.0,18.0,18.0,18.0,18.0,15.0,5.0,0.0,5.0,5.0,0.0,0.0,5.0,5.0,0.0],[0.0,5.0,5.0,2.0,8.0,12.0,9.0,10.0,11.0,12.0,15.0,15.0,18.0,18.0,18.0,18.0,15.0,18.0,18.0,18.0,25.0,25.0,25.0,28.0,28.0,25.0,25.0,25.0,34.0,48.0,57.0,63.0,74.0,80.0,84.0,80.0,79.0,78.0,81.0,84.0,84.0,74.0,38.0,41.0,41.0,41.0,41.0,38.0,35.0,32.0,33.0,34.0,34.0,33.0,32.0,33.0,34.0,33.0,34.0,35.0,38.0,38.0,40.0,41.0,48.0,48.0,56.0,57.0,64.0,71.0,71.0,71.0,74.0,74.0,74.0,77.0,74.0,74.0,78.0,79.0,78.0,79.0,78.0,80.0,84.0,84.0,84.0,107.0,74.0,71.0,71.0,61.0,61.0,57.0,51.0,51.0,28.0,34.0,34.0,25.0,25.0,25.0,28.0,28.0,28.0,28.0,28.0,15.0,15.0,15.0,18.0,18.0,18.0,18.0,18.0,18.0,18.0,18.0,18.0,18.0,18.0,18.0,15.0,5.0,0.0,5.0,5.0,0.0,0.0,5.0,5.0,0.0],[0.0,5.0,5.0,2.0,8.0,12.0,9.0,10.0,11.0,12.0,15.0,15.0,18.0,18.0,18.0,18.0,15.0,18.0,18.0,18.0,25.0,25.0,25.0,28.0,34.0,33.0,32.0,33.0,34.0,34.0,33.0,32.0,35.0,38.0,41.0,41.0,41.0,41.0,38.0,74.0,84.0,84.0,81.0,78.0,79.0,80.0,84.0,80.0,74.0,63.0,57.0,48.0,34.0,25.0,25.0,25.0,28.0,33.0,34.0,35.0,38.0,38.0,40.0,41.0,48.0,48.0,56.0,57.0,64.0,71.0,71.0,71.0,74.0,74.0,74.0,77.0,74.0,74.0,78.0,79.0,78.0,79.0,78.0,80.0,84.0,84.0,84.0,107.0,74.0,71.0,71.0,61.0,61.0,57.0,51.0,51.0,28.0,34.0,34.0,25.0,25.0,25.0,28.0,28.0,28.0,28.0,28.0,15.0,15.0,15.0,18.0,18.0,18.0,18.0,18.0,18.0,18.0,18.0,18.0,18.0,18.0,18.0,15.0,5.0,0.0,5.0,5.0,0.0,0.0,5.0,5.0,0.0],[0.0,5.0,5.0,2.0,8.0,12.0,9.0,10.0,11.0,12.0,15.0,15.0,18.0,18.0,18.0,18.0,15.0,18.0,18.0,18.0,25.0,25.0,25.0,28.0,32.0,33.0,34.0,33.0,34.0,34.0,33.0,32.0,35.0,38.0,41.0,41.0,41.0,41.0,38.0,74.0,84.0,84.0,81.0,78.0,79.0,80.0,84.0,80.0,74.0,63.0,57.0,48.0,34.0,25.0,25.0,25.0,28.0,33.0,34.0,35.0,38.0,38.0,40.0,41.0,48.0,48.0,56.0,57.0,64.0,71.0,71.0,71.0,74.0,74.0,74.0,77.0,74.0,74.0,78.0,79.0,78.0,79.0,78.0,80.0,84.0,84.0,84.0,107.0,74.0,71.0,71.0,61.0,61.0,57.0,51.0,51.0,28.0,34.0,34.0,25.0,25.0,25.0,28.0,28.0,28.0,28.0,28.0,15.0,15.0,15.0,18.0,18.0,18.0,18.0,18.0,18.0,18.0,18.0,18.0,18.0,18.0,18.0,15.0,5.0,0.0,5.0,5.0,0.0,0.0,5.0,5.0,0.0],[0.0,5.0,5.0,2.0,8.0,12.0,9.0,10.0,11.0,12.0,15.0,15.0,18.0,18.0,18.0,18.0,15.0,18.0,18.0,18.0,25.0,25.0,25.0,28.0,32.0,33.0,34.0,33.0,34.0,32.0,33.0,34.0,35.0,38.0,41.0,41.0,41.0,41.0,38.0,74.0,84.0,84.0,81.0,78.0,79.0,80.0,84.0,80.0,74.0,63.0,57.0,48.0,34.0,25.0,25.0,25.0,28.0,33.0,34.0,35.0,38.0,38.0,40.0,41.0,48.0,48.0,56.0,57.0,64.0,71.0,71.0,71.0,74.0,74.0,74.0,77.0,74.0,74.0,78.0,79.0,78.0,79.0,78.0,80.0,84.0,84.0,84.0,107.0,74.0,71.0,71.0,61.0,61.0,57.0,51.0,51.0,28.0,34.0,34.0,25.0,25.0,25.0,28.0,28.0,28.0,28.0,28.0,15.0,15.0,15.0,18.0,18.0,18.0,18.0,18.0,18.0,18.0,18.0,18.0,18.0,18.0,18.0,15.0,5.0,0.0,5.0,5.0,0.0,0.0,5.0,5.0,0.0],[0.0,5.0,5.0,2.0,8.0,12.0,9.0,10.0,11.0,12.0,15.0,15.0,18.0,18.0,18.0,18.0,15.0,18.0,18.0,18.0,25.0,25.0,25.0,28.0,32.0,33.0,34.0,34.0,33.0,32.0,33.0,34.0,35.0,38.0,41.0,41.0,41.0,41.0,38.0,74.0,84.0,84.0,81.0,78.0,79.0,80.0,84.0,80.0,74.0,63.0,57.0,48.0,34.0,25.0,25.0,25.0,28.0,33.0,34.0,35.0,38.0,38.0,40.0,41.0,48.0,48.0,56.0,57.0,64.0,71.0,71.0,71.0,74.0,74.0,74.0,77.0,74.0,74.0,78.0,79.0,78.0,79.0,78.0,80.0,84.0,84.0,84.0,107.0,74.0,71.0,71.0,61.0,61.0,57.0,51.0,51.0,28.0,34.0,34.0,25.0,25.0,25.0,28.0,28.0,28.0,28.0,28.0,15.0,15.0,15.0,18.0,18.0,18.0,18.0,18.0,18.0,18.0,18.0,18.0,18.0,18.0,18.0,15.0,5.0,0.0,5.0,5.0,0.0,0.0,5.0,5.0,0.0],[0.0,5.0,5.0,2.0,8.0,12.0,9.0,10.0,11.0,12.0,15.0,15.0,18.0,18.0,18.0,18.0,15.0,18.0,18.0,18.0,25.0,25.0,25.0,28.0,32.0,33.0,34.0,34.0,33.0,32.0,33.0,34.0,35.0,38.0,38.0,41.0,41.0,41.0,41.0,74.0,84.0,84.0,81.0,78.0,79.0,80.0,84.0,80.0,74.0,63.0,57.0,48.0,34.0,25.0,25.0,25.0,28.0,33.0,34.0,35.0,38.0,38.0,40.0,41.0,48.0,48.0,56.0,57.0,64.0,71.0,71.0,71.0,74.0,74.0,74.0,77.0,74.0,74.0,78.0,79.0,78.0,79.0,78.0,80.0,84.0,84.0,84.0,107.0,74.0,71.0,71.0,61.0,61.0,57.0,51.0,51.0,28.0,34.0,34.0,25.0,25.0,25.0,28.0,28.0,28.0,28.0,28.0,15.0,15.0,15.0,18.0,18.0,18.0,18.0,18.0,18.0,18.0,18.0,18.0,18.0,18.0,18.0,15.0,5.0,0.0,5.0,5.0,0.0,0.0,5.0,5.0,0.0],[0.0,5.0,5.0,2.0,8.0,12.0,9.0,10.0,11.0,12.0,15.0,15.0,18.0,18.0,18.0,18.0,15.0,18.0,18.0,18.0,25.0,25.0,25.0,28.0,32.0,33.0,34.0,34.0,33.0,32.0,33.0,34.0,35.0,38.0,38.0,41.0,41.0,41.0,41.0,74.0,84.0,84.0,81.0,78.0,79.0,80.0,84.0,80.0,74.0,63.0,57.0,48.0,34.0,25.0,25.0,25.0,28.0,33.0,34.0,35.0,38.0,38.0,40.0,41.0,48.0,48.0,56.0,57.0,64.0,71.0,71.0,71.0,74.0,74.0,74.0,77.0,74.0,74.0,78.0,79.0,78.0,79.0,78.0,80.0,84.0,84.0,84.0,107.0,74.0,71.0,71.0,61.0,61.0,57.0,51.0,51.0,28.0,34.0,34.0,25.0,25.0,25.0,28.0,28.0,28.0,28.0,28.0,15.0,15.0,15.0,18.0,18.0,18.0,18.0,18.0,18.0,18.0,18.0,18.0,18.0,18.0,18.0,15.0,5.0,0.0,5.0,5.0,0.0,0.0,5.0,5.0,0.0],[0.0,5.0,5.0,2.0,8.0,12.0,9.0,10.0,11.0,12.0,15.0,15.0,18.0,18.0,18.0,18.0,15.0,18.0,18.0,18.0,25.0,25.0,25.0,28.0,32.0,33.0,34.0,34.0,33.0,32.0,33.0,34.0,35.0,38.0,38.0,41.0,41.0,41.0,41.0,48.0,48.0,41.0,40.0,38.0,38.0,35.0,34.0,33.0,28.0,25.0,25.0,25.0,34.0,48.0,57.0,63.0,74.0,80.0,84.0,80.0,79.0,78.0,81.0,84.0,84.0,74.0,56.0,57.0,64.0,71.0,71.0,71.0,74.0,74.0,74.0,77.0,74.0,74.0,78.0,79.0,78.0,79.0,78.0,80.0,84.0,84.0,84.0,107.0,74.0,71.0,71.0,61.0,61.0,57.0,51.0,51.0,28.0,34.0,34.0,25.0,25.0,25.0,28.0,28.0,28.0,28.0,28.0,15.0,15.0,15.0,18.0,18.0,18.0,18.0,18.0,18.0,18.0,18.0,18.0,18.0,18.0,18.0,15.0,5.0,0.0,5.0,5.0,0.0,0.0,5.0,5.0,0.0],[0.0,5.0,5.0,2.0,8.0,12.0,9.0,10.0,11.0,12.0,15.0,15.0,18.0,18.0,18.0,18.0,15.0,18.0,18.0,18.0,25.0,25.0,25.0,28.0,32.0,33.0,34.0,34.0,33.0,32.0,33.0,34.0,35.0,38.0,38.0,41.0,41.0,41.0,41.0,48.0,48.0,41.0,40.0,38.0,38.0,35.0,34.0,33.0,28.0,25.0,25.0,25.0,34.0,48.0,57.0,63.0,74.0,80.0,84.0,80.0,79.0,78.0,81.0,84.0,84.0,74.0,56.0,57.0,64.0,71.0,71.0,71.0,74.0,74.0,74.0,77.0,74.0,74.0,78.0,79.0,78.0,79.0,78.0,80.0,84.0,84.0,84.0,107.0,74.0,71.0,71.0,61.0,61.0,57.0,51.0,51.0,28.0,34.0,34.0,25.0,25.0,25.0,28.0,28.0,28.0,28.0,28.0,15.0,15.0,15.0,18.0,18.0,18.0,18.0,18.0,18.0,18.0,18.0,18.0,18.0,18.0,18.0,15.0,5.0,0.0,5.0,5.0,0.0,0.0,5.0,5.0,0.0],[0.0,5.0,5.0,2.0,8.0,12.0,9.0,10.0,11.0,12.0,15.0,15.0,18.0,18.0,18.0,18.0,15.0,18.0,18.0,18.0,25.0,25.0,25.0,28.0,32.0,33.0,34.0,34.0,33.0,32.0,33.0,34.0,35.0,38.0,38.0,41.0,41.0,41.0,41.0,48.0,48.0,41.0,40.0,38.0,38.0,35.0,34.0,33.0,28.0,25.0,25.0,25.0,34.0,48.0,57.0,63.0,74.0,80.0,84.0,80.0,79.0,78.0,74.0,71.0,71.0,71.0,64.0,57.0,56.0,74.0,84.0,84.0,81.0,74.0,74.0,77.0,74.0,74.0,78.0,79.0,78.0,79.0,78.0,80.0,84.0,84.0,84.0,107.0,74.0,71.0,71.0,61.0,61.0,57.0,51.0,51.0,28.0,34.0,34.0,25.0,25.0,25.0,28.0,28.0,28.0,28.0,28.0,15.0,15.0,15.0,18.0,18.0,18.0,18.0,18.0,18.0,18.0,18.0,18.0,18.0,18.0,18.0,15.0,5.0,0.0,5.0,5.0,0.0,0.0,5.0,5.0,0.0],[0.0,5.0,5.0,2.0,8.0,12.0,9.0,10.0,11.0,12.0,15.0,15.0,18.0,18.0,18.0,18.0,15.0,18.0,18.0,18.0,25.0,25.0,25.0,28.0,32.0,33.0,34.0,34.0,33.0,32.0,33.0,34.0,35.0,38.0,38.0,41.0,41.0,41.0,41.0,48.0,48.0,41.0,40.0,38.0,38.0,35.0,34.0,33.0,28.0,25.0,25.0,25.0,34.0,48.0,57.0,63.0,74.0,80.0,84.0,80.0,79.0,78.0,74.0,71.0,71.0,71.0,74.0,81.0,84.0,84.0,74.0,56.0,57.0,64.0,74.0,77.0,74.0,74.0,78.0,79.0,78.0,79.0,78.0,80.0,84.0,84.0,84.0,107.0,74.0,71.0,71.0,61.0,61.0,57.0,51.0,51.0,28.0,34.0,34.0,25.0,25.0,25.0,28.0,28.0,28.0,28.0,28.0,15.0,15.0,15.0,18.0,18.0,18.0,18.0,18.0,18.0,18.0,18.0,18.0,18.0,18.0,18.0,15.0,5.0,0.0,5.0,5.0,0.0,0.0,5.0,5.0,0.0],[0.0,5.0,5.0,2.0,8.0,12.0,9.0,10.0,11.0,12.0,15.0,15.0,18.0,18.0,18.0,18.0,15.0,18.0,18.0,18.0,25.0,25.0,25.0,28.0,32.0,33.0,34.0,34.0,33.0,32.0,33.0,34.0,35.0,38.0,38.0,41.0,41.0,41.0,41.0,48.0,48.0,41.0,40.0,38.0,38.0,35.0,34.0,33.0,28.0,25.0,25.0,25.0,34.0,48.0,57.0,63.0,74.0,80.0,84.0,80.0,79.0,78.0,74.0,71.0,71.0,71.0,74.0,74.0,64.0,57.0,56.0,74.0,84.0,84.0,81.0,77.0,74.0,74.0,78.0,79.0,78.0,79.0,78.0,80.0,84.0,84.0,84.0,107.0,74.0,71.0,71.0,61.0,61.0,57.0,51.0,51.0,28.0,34.0,34.0,25.0,25.0,25.0,28.0,28.0,28.0,28.0,28.0,15.0,15.0,15.0,18.0,18.0,18.0,18.0,18.0,18.0,18.0,18.0,18.0,18.0,18.0,18.0,15.0,5.0,0.0,5.0,5.0,0.0,0.0,5.0,5.0,0.0],[0.0,5.0,5.0,2.0,8.0,12.0,9.0,10.0,11.0,12.0,15.0,15.0,18.0,18.0,18.0,18.0,15.0,18.0,18.0,18.0,25.0,25.0,25.0,28.0,32.0,33.0,34.0,34.0,33.0,32.0,33.0,34.0,35.0,38.0,38.0,41.0,41.0,41.0,41.0,48.0,48.0,41.0,40.0,38.0,38.0,35.0,34.0,33.0,28.0,25.0,25.0,25.0,34.0,48.0,57.0,63.0,74.0,80.0,84.0,80.0,79.0,78.0,74.0,71.0,71.0,71.0,74.0,74.0,77.0,81.0,84.0,84.0,74.0,56.0,57.0,64.0,74.0,74.0,78.0,79.0,78.0,79.0,78.0,80.0,84.0,84.0,84.0,107.0,74.0,71.0,71.0,61.0,61.0,57.0,51.0,51.0,28.0,34.0,34.0,25.0,25.0,25.0,28.0,28.0,28.0,28.0,28.0,15.0,15.0,15.0,18.0,18.0,18.0,18.0,18.0,18.0,18.0,18.0,18.0,18.0,18.0,18.0,15.0,5.0,0.0,5.0,5.0,0.0,0.0,5.0,5.0,0.0],[0.0,5.0,5.0,2.0,8.0,12.0,9.0,10.0,11.0,12.0,15.0,15.0,18.0,18.0,18.0,18.0,15.0,18.0,18.0,18.0,25.0,25.0,25.0,28.0,32.0,33.0,34.0,34.0,33.0,32.0,33.0,34.0,35.0,38.0,38.0,41.0,41.0,41.0,41.0,48.0,48.0,41.0,40.0,38.0,38.0,35.0,34.0,33.0,28.0,25.0,25.0,25.0,34.0,48.0,57.0,63.0,74.0,80.0,84.0,80.0,79.0,78.0,74.0,71.0,71.0,71.0,74.0,74.0,77.0,81.0,84.0,84.0,74.0,64.0,57.0,56.0,74.0,74.0,78.0,79.0,78.0,79.0,78.0,80.0,84.0,84.0,84.0,107.0,74.0,71.0,71.0,61.0,61.0,57.0,51.0,51.0,28.0,34.0,34.0,25.0,25.0,25.0,28.0,28.0,28.0,28.0,28.0,15.0,15.0,15.0,18.0,18.0,18.0,18.0,18.0,18.0,18.0,18.0,18.0,18.0,18.0,18.0,15.0,5.0,0.0,5.0,5.0,0.0,0.0,5.0,5.0,0.0],[0.0,5.0,5.0,2.0,8.0,12.0,9.0,10.0,11.0,12.0,15.0,15.0,18.0,18.0,18.0,18.0,15.0,18.0,18.0,18.0,25.0,25.0,25.0,28.0,32.0,33.0,34.0,34.0,33.0,32.0,33.0,34.0,35.0,38.0,38.0,41.0,41.0,41.0,41.0,48.0,48.0,41.0,40.0,38.0,38.0,35.0,34.0,33.0,28.0,25.0,25.0,25.0,34.0,48.0,57.0,63.0,74.0,80.0,84.0,80.0,79.0,78.0,74.0,71.0,71.0,71.0,74.0,74.0,77.0,81.0,84.0,84.0,107.0,84.0,84.0,84.0,80.0,78.0,79.0,78.0,79.0,78.0,74.0,74.0,56.0,57.0,64.0,74.0,74.0,71.0,71.0,61.0,61.0,57.0,51.0,51.0,28.0,34.0,34.0,25.0,25.0,25.0,28.0,28.0,28.0,28.0,28.0,15.0,15.0,15.0,18.0,18.0,18.0,18.0,18.0,18.0,18.0,18.0,18.0,18.0,18.0,18.0,15.0,5.0,0.0,5.0,5.0,0.0,0.0,5.0,5.0,0.0],[0.0,5.0,5.0,2.0,8.0,12.0,9.0,10.0,11.0,12.0,15.0,15.0,18.0,18.0,18.0,18.0,15.0,18.0,18.0,18.0,25.0,25.0,25.0,28.0,32.0,33.0,34.0,34.0,33.0,32.0,33.0,34.0,35.0,38.0,38.0,41.0,41.0,41.0,41.0,48.0,48.0,41.0,40.0,38.0,38.0,35.0,34.0,33.0,28.0,25.0,25.0,25.0,34.0,48.0,57.0,63.0,74.0,80.0,84.0,80.0,79.0,78.0,74.0,71.0,71.0,71.0,74.0,74.0,77.0,81.0,84.0,84.0,107.0,84.0,84.0,84.0,80.0,78.0,79.0,78.0,79.0,78.0,74.0,74.0,56.0,57.0,64.0,74.0,74.0,71.0,71.0,61.0,61.0,57.0,51.0,51.0,28.0,34.0,34.0,25.0,25.0,25.0,28.0,28.0,28.0,28.0,28.0,15.0,15.0,15.0,18.0,18.0,18.0,18.0,18.0,18.0,18.0,18.0,18.0,18.0,18.0,18.0,15.0,5.0,0.0,5.0,5.0,0.0,0.0,5.0,5.0,0.0],[0.0,5.0,5.0,2.0,8.0,12.0,9.0,10.0,11.0,12.0,15.0,15.0,18.0,18.0,18.0,18.0,15.0,18.0,18.0,18.0,25.0,25.0,25.0,28.0,32.0,33.0,34.0,34.0,33.0,32.0,33.0,34.0,35.0,38.0,38.0,41.0,41.0,41.0,41.0,48.0,48.0,41.0,40.0,38.0,38.0,35.0,34.0,33.0,28.0,25.0,25.0,25.0,34.0,48.0,57.0,63.0,74.0,80.0,84.0,80.0,79.0,78.0,74.0,71.0,71.0,71.0,74.0,74.0,77.0,81.0,84.0,84.0,107.0,84.0,84.0,84.0,80.0,78.0,79.0,78.0,79.0,78.0,74.0,64.0,57.0,56.0,74.0,74.0,74.0,71.0,71.0,61.0,61.0,57.0,51.0,51.0,28.0,34.0,34.0,25.0,25.0,25.0,28.0,28.0,28.0,28.0,28.0,15.0,15.0,15.0,18.0,18.0,18.0,18.0,18.0,18.0,18.0,18.0,18.0,18.0,18.0,18.0,15.0,5.0,0.0,5.0,5.0,0.0,0.0,5.0,5.0,0.0],[0.0,5.0,5.0,2.0,8.0,12.0,9.0,10.0,11.0,12.0,15.0,15.0,18.0,18.0,18.0,18.0,15.0,18.0,18.0,18.0,25.0,25.0,25.0,28.0,32.0,33.0,34.0,34.0,33.0,32.0,33.0,34.0,35.0,38.0,38.0,41.0,41.0,41.0,41.0,48.0,48.0,41.0,40.0,38.0,38.0,35.0,34.0,33.0,28.0,25.0,25.0,25.0,34.0,48.0,57.0,63.0,74.0,80.0,84.0,80.0,79.0,78.0,74.0,71.0,71.0,71.0,74.0,74.0,77.0,81.0,84.0,84.0,107.0,84.0,84.0,84.0,80.0,78.0,79.0,78.0,79.0,78.0,74.0,64.0,56.0,57.0,74.0,74.0,74.0,71.0,71.0,61.0,61.0,57.0,51.0,51.0,28.0,34.0,34.0,25.0,25.0,25.0,28.0,28.0,28.0,28.0,28.0,15.0,15.0,15.0,18.0,18.0,18.0,18.0,18.0,18.0,18.0,18.0,18.0,18.0,18.0,18.0,15.0,5.0,0.0,5.0,5.0,0.0,0.0,5.0,5.0,0.0],[0.0,5.0,5.0,2.0,8.0,12.0,9.0,10.0,11.0,12.0,15.0,15.0,18.0,18.0,18.0,18.0,15.0,18.0,18.0,18.0,25.0,25.0,25.0,28.0,32.0,33.0,34.0,34.0,33.0,32.0,33.0,34.0,35.0,38.0,38.0,41.0,41.0,41.0,41.0,48.0,48.0,41.0,40.0,38.0,38.0,35.0,34.0,33.0,28.0,25.0,25.0,25.0,34.0,48.0,57.0,63.0,74.0,80.0,84.0,80.0,79.0,78.0,74.0,71.0,71.0,71.0,74.0,74.0,77.0,81.0,84.0,84.0,107.0,84.0,84.0,84.0,80.0,78.0,79.0,78.0,79.0,78.0,74.0,64.0,56.0,57.0,74.0,74.0,74.0,71.0,71.0,61.0,61.0,57.0,51.0,51.0,28.0,34.0,34.0,25.0,25.0,25.0,28.0,28.0,28.0,28.0,28.0,15.0,15.0,15.0,18.0,18.0,18.0,18.0,18.0,18.0,18.0,18.0,18.0,18.0,18.0,18.0,15.0,5.0,0.0,5.0,5.0,0.0,0.0,5.0,5.0,0.0],[0.0,5.0,5.0,2.0,8.0,12.0,9.0,10.0,11.0,12.0,15.0,15.0,18.0,18.0,18.0,18.0,15.0,18.0,18.0,18.0,25.0,25.0,25.0,28.0,32.0,33.0,34.0,34.0,33.0,32.0,33.0,34.0,35.0,38.0,38.0,41.0,41.0,41.0,41.0,48.0,48.0,41.0,40.0,38.0,38.0,35.0,34.0,33.0,28.0,25.0,25.0,25.0,34.0,48.0,57.0,63.0,74.0,80.0,84.0,80.0,79.0,78.0,74.0,71.0,71.0,71.0,74.0,74.0,77.0,81.0,84.0,84.0,107.0,84.0,84.0,84.0,80.0,78.0,79.0,78.0,79.0,78.0,74.0,64.0,56.0,57.0,74.0,74.0,74.0,71.0,71.0,61.0,61.0,57.0,51.0,51.0,28.0,34.0,34.0,28.0,28.0,25.0,25.0,25.0,28.0,28.0,28.0,15.0,15.0,15.0,18.0,18.0,18.0,18.0,18.0,18.0,18.0,18.0,18.0,18.0,18.0,18.0,15.0,5.0,0.0,5.0,5.0,0.0,0.0,5.0,5.0,0.0],[0.0,5.0,5.0,2.0,8.0,12.0,9.0,10.0,11.0,12.0,15.0,15.0,18.0,18.0,18.0,18.0,15.0,18.0,18.0,18.0,25.0,25.0,25.0,28.0,32.0,33.0,34.0,34.0,33.0,32.0,33.0,34.0,35.0,38.0,38.0,41.0,41.0,41.0,41.0,48.0,48.0,41.0,40.0,38.0,38.0,35.0,34.0,33.0,28.0,25.0,25.0,25.0,34.0,48.0,57.0,63.0,74.0,80.0,84.0,80.0,79.0,78.0,74.0,71.0,71.0,71.0,74.0,74.0,77.0,81.0,84.0,84.0,107.0,84.0,84.0,84.0,80.0,78.0,79.0,78.0,79.0,78.0,74.0,64.0,56.0,57.0,74.0,74.0,74.0,71.0,71.0,61.0,61.0,57.0,51.0,51.0,28.0,34.0,34.0,28.0,28.0,28.0,25.0,25.0,25.0,28.0,28.0,15.0,15.0,15.0,18.0,18.0,18.0,18.0,18.0,18.0,18.0,18.0,18.0,18.0,18.0,18.0,15.0,5.0,0.0,5.0,5.0,0.0,0.0,5.0,5.0,0.0],[0.0,5.0,5.0,2.0,8.0,12.0,9.0,10.0,11.0,12.0,15.0,15.0,18.0,18.0,18.0,18.0,15.0,18.0,18.0,18.0,25.0,25.0,25.0,28.0,32.0,33.0,34.0,34.0,33.0,32.0,33.0,34.0,35.0,38.0,38.0,41.0,41.0,41.0,41.0,48.0,48.0,41.0,40.0,38.0,38.0,35.0,34.0,33.0,28.0,25.0,25.0,25.0,34.0,48.0,57.0,63.0,74.0,80.0,84.0,80.0,79.0,78.0,74.0,71.0,71.0,71.0,74.0,74.0,77.0,81.0,84.0,84.0,107.0,84.0,84.0,84.0,80.0,78.0,79.0,78.0,79.0,78.0,74.0,64.0,56.0,57.0,74.0,74.0,74.0,71.0,71.0,61.0,61.0,57.0,51.0,51.0,34.0,34.0,28.0,28.0,28.0,28.0,25.0,25.0,25.0,28.0,28.0,15.0,15.0,15.0,18.0,18.0,18.0,18.0,18.0,18.0,18.0,18.0,18.0,18.0,18.0,18.0,15.0,5.0,0.0,5.0,5.0,0.0,0.0,5.0,5.0,0.0],[0.0,5.0,5.0,2.0,8.0,12.0,9.0,10.0,11.0,12.0,15.0,15.0,18.0,18.0,18.0,18.0,15.0,18.0,18.0,18.0,25.0,25.0,25.0,28.0,32.0,33.0,34.0,34.0,33.0,32.0,33.0,34.0,35.0,38.0,38.0,41.0,41.0,41.0,41.0,48.0,48.0,41.0,40.0,38.0,38.0,35.0,34.0,33.0,28.0,25.0,25.0,25.0,34.0,48.0,57.0,63.0,74.0,80.0,84.0,80.0,79.0,78.0,74.0,71.0,71.0,71.0,74.0,74.0,77.0,81.0,84.0,84.0,107.0,84.0,84.0,84.0,80.0,78.0,79.0,78.0,79.0,78.0,74.0,64.0,56.0,57.0,74.0,74.0,74.0,71.0,71.0,61.0,61.0,57.0,51.0,51.0,34.0,34.0,28.0,28.0,28.0,28.0,25.0,25.0,25.0,28.0,28.0,15.0,15.0,15.0,18.0,18.0,18.0,18.0,18.0,18.0,18.0,18.0,18.0,18.0,18.0,18.0,15.0,5.0,0.0,5.0,5.0,0.0,0.0,5.0,5.0,0.0],[0.0,5.0,5.0,2.0,8.0,12.0,9.0,10.0,11.0,12.0,15.0,15.0,18.0,18.0,18.0,18.0,15.0,18.0,18.0,18.0,25.0,25.0,25.0,28.0,32.0,33.0,34.0,34.0,33.0,32.0,33.0,34.0,35.0,38.0,38.0,41.0,41.0,41.0,41.0,48.0,48.0,41.0,40.0,38.0,38.0,35.0,34.0,33.0,28.0,25.0,25.0,25.0,34.0,48.0,57.0,63.0,74.0,80.0,84.0,80.0,79.0,78.0,74.0,71.0,71.0,71.0,74.0,74.0,77.0,81.0,84.0,84.0,107.0,84.0,84.0,84.0,80.0,78.0,79.0,78.0,79.0,78.0,74.0,64.0,56.0,57.0,74.0,74.0,74.0,71.0,71.0,61.0,61.0,57.0,51.0,51.0,34.0,34.0,28.0,28.0,28.0,28.0,28.0,28.0,25.0,25.0,25.0,15.0,15.0,15.0,18.0,18.0,18.0,18.0,18.0,18.0,18.0,18.0,18.0,18.0,18.0,18.0,15.0,5.0,0.0,5.0,5.0,0.0,0.0,5.0,5.0,0.0],[0.0,5.0,5.0,2.0,8.0,12.0,9.0,10.0,11.0,12.0,15.0,15.0,18.0,18.0,18.0,18.0,15.0,18.0,18.0,18.0,25.0,25.0,25.0,28.0,32.0,33.0,34.0,34.0,33.0,32.0,33.0,34.0,35.0,38.0,38.0,41.0,41.0,41.0,41.0,48.0,48.0,41.0,40.0,38.0,38.0,35.0,34.0,33.0,28.0,25.0,25.0,25.0,34.0,48.0,57.0,63.0,74.0,80.0,84.0,80.0,79.0,78.0,74.0,71.0,71.0,71.0,74.0,74.0,77.0,81.0,84.0,84.0,107.0,84.0,84.0,84.0,80.0,78.0,79.0,78.0,79.0,78.0,74.0,64.0,56.0,57.0,74.0,74.0,74.0,71.0,71.0,61.0,61.0,57.0,51.0,51.0,34.0,34.0,28.0,28.0,28.0,28.0,28.0,28.0,25.0,25.0,25.0,15.0,15.0,15.0,18.0,18.0,18.0,18.0,18.0,18.0,18.0,18.0,18.0,18.0,18.0,18.0,15.0,5.0,0.0,5.0,5.0,0.0,0.0,5.0,5.0,0.0],[0.0,5.0,5.0,2.0,8.0,12.0,9.0,10.0,11.0,12.0,15.0,15.0,18.0,18.0,18.0,18.0,15.0,18.0,18.0,18.0,25.0,25.0,25.0,28.0,32.0,33.0,34.0,34.0,33.0,32.0,33.0,34.0,35.0,38.0,38.0,41.0,41.0,41.0,41.0,48.0,48.0,41.0,40.0,38.0,38.0,35.0,34.0,33.0,28.0,25.0,25.0,25.0,34.0,48.0,57.0,63.0,74.0,80.0,84.0,80.0,79.0,78.0,74.0,71.0,71.0,71.0,74.0,74.0,77.0,81.0,84.0,84.0,107.0,84.0,84.0,84.0,80.0,78.0,79.0,78.0,79.0,78.0,74.0,64.0,56.0,57.0,74.0,74.0,74.0,71.0,71.0,61.0,61.0,57.0,51.0,51.0,34.0,34.0,28.0,28.0,28.0,28.0,28.0,28.0,25.0,25.0,25.0,18.0,18.0,18.0,15.0,15.0,15.0,18.0,18.0,18.0,18.0,18.0,18.0,18.0,18.0,18.0,15.0,5.0,0.0,5.0,5.0,0.0,0.0,5.0,5.0,0.0],[0.0,5.0,5.0,2.0,8.0,12.0,9.0,10.0,11.0,12.0,15.0,15.0,18.0,18.0,18.0,18.0,15.0,18.0,18.0,18.0,25.0,25.0,25.0,28.0,32.0,33.0,34.0,34.0,33.0,32.0,33.0,34.0,35.0,38.0,38.0,41.0,41.0,41.0,41.0,48.0,48.0,41.0,40.0,38.0,38.0,35.0,34.0,33.0,28.0,25.0,25.0,25.0,34.0,48.0,57.0,63.0,74.0,80.0,84.0,80.0,79.0,78.0,74.0,71.0,71.0,71.0,74.0,74.0,77.0,81.0,84.0,84.0,107.0,84.0,84.0,84.0,80.0,78.0,79.0,78.0,79.0,78.0,74.0,64.0,56.0,57.0,74.0,74.0,74.0,71.0,71.0,61.0,61.0,57.0,51.0,51.0,34.0,34.0,28.0,28.0,28.0,28.0,28.0,28.0,25.0,25.0,25.0,18.0,18.0,18.0,15.0,15.0,18.0,18.0,15.0,18.0,18.0,18.0,18.0,18.0,18.0,18.0,15.0,5.0,0.0,5.0,5.0,0.0,0.0,5.0,5.0,0.0],[0.0,5.0,5.0,2.0,8.0,12.0,9.0,10.0,11.0,12.0,15.0,15.0,18.0,18.0,18.0,18.0,15.0,18.0,18.0,18.0,25.0,25.0,25.0,28.0,32.0,33.0,34.0,34.0,33.0,32.0,33.0,34.0,35.0,38.0,38.0,41.0,41.0,41.0,41.0,48.0,48.0,41.0,40.0,38.0,38.0,35.0,34.0,33.0,28.0,25.0,25.0,25.0,34.0,48.0,57.0,63.0,74.0,80.0,84.0,80.0,79.0,78.0,74.0,71.0,71.0,71.0,74.0,74.0,77.0,81.0,84.0,84.0,107.0,84.0,84.0,84.0,80.0,78.0,79.0,78.0,79.0,78.0,74.0,64.0,56.0,57.0,74.0,74.0,74.0,71.0,71.0,61.0,61.0,57.0,51.0,51.0,34.0,34.0,28.0,28.0,28.0,28.0,28.0,28.0,25.0,25.0,25.0,18.0,18.0,18.0,15.0,15.0,18.0,18.0,15.0,18.0,18.0,18.0,18.0,18.0,18.0,18.0,15.0,5.0,0.0,5.0,5.0,0.0,0.0,5.0,5.0,0.0],[0.0,5.0,5.0,2.0,8.0,12.0,9.0,10.0,11.0,12.0,15.0,15.0,18.0,18.0,18.0,18.0,15.0,18.0,18.0,18.0,25.0,25.0,25.0,28.0,32.0,33.0,34.0,34.0,33.0,32.0,33.0,34.0,35.0,38.0,38.0,41.0,41.0,41.0,41.0,48.0,48.0,41.0,40.0,38.0,38.0,35.0,34.0,33.0,28.0,25.0,25.0,25.0,34.0,48.0,57.0,63.0,74.0,80.0,84.0,80.0,79.0,78.0,74.0,71.0,71.0,71.0,74.0,74.0,77.0,81.0,84.0,84.0,107.0,84.0,84.0,84.0,80.0,78.0,79.0,78.0,79.0,78.0,74.0,64.0,56.0,57.0,74.0,74.0,74.0,71.0,71.0,61.0,61.0,57.0,51.0,51.0,34.0,34.0,28.0,28.0,28.0,28.0,28.0,28.0,25.0,25.0,25.0,18.0,18.0,18.0,15.0,15.0,18.0,18.0,18.0,15.0,18.0,18.0,18.0,18.0,18.0,18.0,15.0,5.0,0.0,5.0,5.0,0.0,0.0,5.0,5.0,0.0]],\"edges_y\":[[13.0,13.0,8.0,10.0,10.0,10.0,10.0,8.0,11.0,13.0,15.0,17.0,19.0,21.0,23.0,25.0,27.0,29.0,31.0,33.0,35.0,37.0,39.0,41.0,42.0,44.0,45.0,43.0,37.0,31.0,25.0,19.0,13.0,5.0,0.0,0.0,19.0,25.0,26.0,27.0,31.0,37.0,39.0,43.0,43.0,40.0,34.0,30.0,28.0,28.0,29.0,26.0,24.0,23.0,22.0,20.0,16.0,15.0,11.0,9.0,5.0,15.0,15.0,17.0,16.0,20.0,22.0,23.0,22.0,27.0,25.0,25.0,22.0,16.0,13.0,11.0,12.0,16.0,20.0,21.0,24.0,29.0,32.0,33.0,35.0,37.0,39.0,41.0,38.0,34.0,29.0,24.0,20.0,17.0,10.0,10.0,10.0,5.0,6.0,6.0,6.0,12.0,6.0,26.0,26.0,26.0,29.0,29.0,31.0,31.0,31.0,31.0,30.0,32.0,34.0,35.0,36.0,34.0,38.0,41.0,47.0,47.0,45.0,44.0,45.0,47.0,47.0,45.0,39.0,35.0,27.0,13.0],[13.0,0.0,0.0,5.0,13.0,19.0,25.0,31.0,37.0,43.0,45.0,44.0,42.0,41.0,39.0,37.0,35.0,33.0,31.0,29.0,27.0,25.0,23.0,21.0,19.0,17.0,15.0,13.0,11.0,8.0,10.0,10.0,10.0,10.0,8.0,13.0,19.0,25.0,26.0,27.0,31.0,37.0,39.0,43.0,43.0,40.0,34.0,30.0,28.0,28.0,29.0,26.0,24.0,23.0,22.0,20.0,16.0,15.0,11.0,9.0,5.0,15.0,15.0,17.0,16.0,20.0,22.0,23.0,22.0,27.0,25.0,25.0,22.0,16.0,13.0,11.0,12.0,16.0,20.0,21.0,24.0,29.0,32.0,33.0,35.0,37.0,39.0,41.0,38.0,34.0,29.0,24.0,20.0,17.0,10.0,10.0,10.0,5.0,6.0,6.0,6.0,12.0,6.0,26.0,26.0,26.0,29.0,29.0,31.0,31.0,31.0,31.0,30.0,32.0,34.0,35.0,36.0,34.0,38.0,41.0,47.0,47.0,45.0,44.0,45.0,47.0,47.0,45.0,39.0,35.0,27.0,13.0],[13.0,0.0,0.0,5.0,8.0,11.0,13.0,15.0,17.0,19.0,21.0,23.0,25.0,27.0,29.0,31.0,33.0,35.0,37.0,39.0,41.0,42.0,44.0,45.0,43.0,37.0,31.0,25.0,19.0,13.0,10.0,10.0,10.0,10.0,8.0,13.0,19.0,25.0,26.0,27.0,31.0,37.0,39.0,43.0,43.0,40.0,34.0,30.0,28.0,28.0,29.0,26.0,24.0,23.0,22.0,20.0,16.0,15.0,11.0,9.0,5.0,15.0,15.0,17.0,16.0,20.0,22.0,23.0,22.0,27.0,25.0,25.0,22.0,16.0,13.0,11.0,12.0,16.0,20.0,21.0,24.0,29.0,32.0,33.0,35.0,37.0,39.0,41.0,38.0,34.0,29.0,24.0,20.0,17.0,10.0,10.0,10.0,5.0,6.0,6.0,6.0,12.0,6.0,26.0,26.0,26.0,29.0,29.0,31.0,31.0,31.0,31.0,30.0,32.0,34.0,35.0,36.0,34.0,38.0,41.0,47.0,47.0,45.0,44.0,45.0,47.0,47.0,45.0,39.0,35.0,27.0,13.0],[13.0,0.0,0.0,5.0,8.0,27.0,35.0,39.0,45.0,47.0,47.0,45.0,44.0,45.0,47.0,47.0,41.0,38.0,34.0,36.0,35.0,34.0,32.0,30.0,31.0,31.0,31.0,31.0,29.0,29.0,26.0,26.0,26.0,6.0,12.0,6.0,6.0,6.0,5.0,10.0,10.0,10.0,17.0,20.0,24.0,29.0,34.0,38.0,41.0,39.0,37.0,35.0,33.0,32.0,29.0,24.0,21.0,20.0,16.0,12.0,11.0,13.0,16.0,22.0,25.0,25.0,27.0,22.0,23.0,22.0,20.0,16.0,17.0,15.0,15.0,5.0,9.0,11.0,15.0,16.0,20.0,22.0,23.0,24.0,26.0,29.0,28.0,28.0,30.0,34.0,40.0,43.0,43.0,39.0,37.0,31.0,27.0,26.0,25.0,19.0,13.0,8.0,10.0,10.0,10.0,10.0,13.0,19.0,25.0,31.0,37.0,43.0,45.0,44.0,42.0,41.0,39.0,37.0,35.0,33.0,31.0,29.0,27.0,25.0,23.0,21.0,19.0,17.0,15.0,13.0,11.0,13.0],[13.0,13.0,19.0,25.0,26.0,27.0,31.0,37.0,39.0,43.0,43.0,40.0,34.0,30.0,28.0,28.0,29.0,26.0,24.0,23.0,22.0,20.0,16.0,15.0,11.0,9.0,5.0,15.0,15.0,17.0,16.0,20.0,22.0,23.0,22.0,27.0,25.0,25.0,22.0,16.0,13.0,11.0,12.0,16.0,20.0,21.0,24.0,29.0,32.0,33.0,35.0,37.0,39.0,41.0,38.0,34.0,29.0,24.0,20.0,17.0,10.0,10.0,10.0,5.0,6.0,6.0,6.0,12.0,6.0,26.0,26.0,26.0,29.0,29.0,31.0,31.0,31.0,31.0,30.0,32.0,34.0,35.0,36.0,34.0,38.0,41.0,47.0,47.0,45.0,44.0,45.0,47.0,47.0,45.0,39.0,35.0,27.0,8.0,5.0,0.0,0.0,8.0,10.0,10.0,10.0,10.0,13.0,19.0,25.0,31.0,37.0,43.0,45.0,44.0,42.0,41.0,39.0,37.0,35.0,33.0,31.0,29.0,27.0,25.0,23.0,21.0,19.0,17.0,15.0,13.0,11.0,13.0],[13.0,13.0,11.0,13.0,15.0,17.0,19.0,21.0,23.0,25.0,27.0,29.0,31.0,33.0,35.0,37.0,39.0,41.0,42.0,44.0,45.0,43.0,37.0,31.0,25.0,19.0,13.0,10.0,10.0,10.0,10.0,8.0,0.0,0.0,5.0,8.0,27.0,35.0,39.0,45.0,47.0,47.0,45.0,44.0,45.0,47.0,47.0,41.0,38.0,34.0,36.0,35.0,34.0,32.0,30.0,31.0,31.0,31.0,31.0,29.0,29.0,26.0,26.0,26.0,6.0,12.0,6.0,6.0,6.0,5.0,10.0,10.0,10.0,17.0,20.0,24.0,29.0,34.0,38.0,41.0,39.0,37.0,35.0,33.0,32.0,29.0,24.0,21.0,20.0,16.0,12.0,11.0,13.0,16.0,22.0,25.0,25.0,27.0,22.0,23.0,22.0,20.0,16.0,17.0,15.0,15.0,5.0,9.0,11.0,15.0,16.0,20.0,22.0,23.0,24.0,26.0,29.0,28.0,28.0,30.0,34.0,40.0,43.0,43.0,39.0,37.0,31.0,27.0,26.0,25.0,19.0,13.0],[13.0,13.0,19.0,25.0,31.0,37.0,43.0,45.0,44.0,42.0,41.0,39.0,37.0,35.0,33.0,31.0,29.0,27.0,25.0,23.0,21.0,19.0,17.0,15.0,13.0,11.0,13.0,10.0,10.0,10.0,10.0,8.0,0.0,0.0,5.0,8.0,27.0,35.0,39.0,45.0,47.0,47.0,45.0,44.0,45.0,47.0,47.0,41.0,38.0,34.0,36.0,35.0,34.0,32.0,30.0,31.0,31.0,31.0,31.0,29.0,29.0,26.0,26.0,26.0,6.0,12.0,6.0,6.0,6.0,5.0,10.0,10.0,10.0,17.0,20.0,24.0,29.0,34.0,38.0,41.0,39.0,37.0,35.0,33.0,32.0,29.0,24.0,21.0,20.0,16.0,12.0,11.0,13.0,16.0,22.0,25.0,25.0,27.0,22.0,23.0,22.0,20.0,16.0,17.0,15.0,15.0,5.0,9.0,11.0,15.0,16.0,20.0,22.0,23.0,24.0,26.0,29.0,28.0,28.0,30.0,34.0,40.0,43.0,43.0,39.0,37.0,31.0,27.0,26.0,25.0,19.0,13.0],[13.0,13.0,8.0,5.0,0.0,0.0,8.0,10.0,10.0,10.0,10.0,13.0,11.0,13.0,15.0,17.0,19.0,21.0,23.0,25.0,27.0,29.0,31.0,33.0,35.0,37.0,39.0,41.0,42.0,44.0,45.0,43.0,37.0,31.0,25.0,19.0,27.0,35.0,39.0,45.0,47.0,47.0,45.0,44.0,45.0,47.0,47.0,41.0,38.0,34.0,36.0,35.0,34.0,32.0,30.0,31.0,31.0,31.0,31.0,29.0,29.0,26.0,26.0,26.0,6.0,12.0,6.0,6.0,6.0,5.0,10.0,10.0,10.0,17.0,20.0,24.0,29.0,34.0,38.0,41.0,39.0,37.0,35.0,33.0,32.0,29.0,24.0,21.0,20.0,16.0,12.0,11.0,13.0,16.0,22.0,25.0,25.0,27.0,22.0,23.0,22.0,20.0,16.0,17.0,15.0,15.0,5.0,9.0,11.0,15.0,16.0,20.0,22.0,23.0,24.0,26.0,29.0,28.0,28.0,30.0,34.0,40.0,43.0,43.0,39.0,37.0,31.0,27.0,26.0,25.0,19.0,13.0],[13.0,13.0,8.0,0.0,0.0,5.0,8.0,10.0,10.0,10.0,10.0,13.0,11.0,13.0,15.0,17.0,19.0,21.0,23.0,25.0,27.0,29.0,31.0,33.0,35.0,37.0,39.0,41.0,42.0,44.0,45.0,43.0,37.0,31.0,25.0,19.0,27.0,35.0,39.0,45.0,47.0,47.0,45.0,44.0,45.0,47.0,47.0,41.0,38.0,34.0,36.0,35.0,34.0,32.0,30.0,31.0,31.0,31.0,31.0,29.0,29.0,26.0,26.0,26.0,6.0,12.0,6.0,6.0,6.0,5.0,10.0,10.0,10.0,17.0,20.0,24.0,29.0,34.0,38.0,41.0,39.0,37.0,35.0,33.0,32.0,29.0,24.0,21.0,20.0,16.0,12.0,11.0,13.0,16.0,22.0,25.0,25.0,27.0,22.0,23.0,22.0,20.0,16.0,17.0,15.0,15.0,5.0,9.0,11.0,15.0,16.0,20.0,22.0,23.0,24.0,26.0,29.0,28.0,28.0,30.0,34.0,40.0,43.0,43.0,39.0,37.0,31.0,27.0,26.0,25.0,19.0,13.0],[13.0,13.0,8.0,0.0,0.0,5.0,8.0,10.0,10.0,10.0,10.0,13.0,11.0,13.0,15.0,17.0,19.0,21.0,23.0,25.0,27.0,29.0,31.0,33.0,35.0,37.0,39.0,41.0,42.0,44.0,45.0,43.0,37.0,31.0,25.0,19.0,27.0,35.0,39.0,45.0,47.0,47.0,45.0,44.0,45.0,47.0,47.0,41.0,38.0,34.0,36.0,35.0,34.0,32.0,30.0,31.0,31.0,31.0,31.0,29.0,29.0,26.0,26.0,26.0,6.0,12.0,6.0,6.0,6.0,5.0,10.0,10.0,10.0,17.0,20.0,24.0,29.0,34.0,38.0,41.0,39.0,37.0,35.0,33.0,32.0,29.0,24.0,21.0,20.0,16.0,12.0,11.0,13.0,16.0,22.0,25.0,25.0,27.0,22.0,23.0,22.0,20.0,16.0,17.0,15.0,15.0,5.0,9.0,11.0,15.0,16.0,20.0,22.0,23.0,24.0,26.0,29.0,28.0,28.0,30.0,34.0,40.0,43.0,43.0,39.0,37.0,31.0,27.0,26.0,25.0,19.0,13.0],[13.0,13.0,8.0,0.0,0.0,5.0,10.0,10.0,10.0,10.0,8.0,13.0,11.0,13.0,15.0,17.0,19.0,21.0,23.0,25.0,27.0,29.0,31.0,33.0,35.0,37.0,39.0,41.0,42.0,44.0,45.0,43.0,37.0,31.0,25.0,19.0,27.0,35.0,39.0,45.0,47.0,47.0,45.0,44.0,45.0,47.0,47.0,41.0,38.0,34.0,36.0,35.0,34.0,32.0,30.0,31.0,31.0,31.0,31.0,29.0,29.0,26.0,26.0,26.0,6.0,12.0,6.0,6.0,6.0,5.0,10.0,10.0,10.0,17.0,20.0,24.0,29.0,34.0,38.0,41.0,39.0,37.0,35.0,33.0,32.0,29.0,24.0,21.0,20.0,16.0,12.0,11.0,13.0,16.0,22.0,25.0,25.0,27.0,22.0,23.0,22.0,20.0,16.0,17.0,15.0,15.0,5.0,9.0,11.0,15.0,16.0,20.0,22.0,23.0,24.0,26.0,29.0,28.0,28.0,30.0,34.0,40.0,43.0,43.0,39.0,37.0,31.0,27.0,26.0,25.0,19.0,13.0],[13.0,13.0,8.0,0.0,0.0,5.0,10.0,10.0,10.0,10.0,8.0,13.0,11.0,13.0,15.0,17.0,19.0,25.0,31.0,37.0,43.0,45.0,44.0,42.0,41.0,39.0,37.0,35.0,33.0,31.0,29.0,27.0,25.0,23.0,21.0,19.0,27.0,35.0,39.0,45.0,47.0,47.0,45.0,44.0,45.0,47.0,47.0,41.0,38.0,34.0,36.0,35.0,34.0,32.0,30.0,31.0,31.0,31.0,31.0,29.0,29.0,26.0,26.0,26.0,6.0,12.0,6.0,6.0,6.0,5.0,10.0,10.0,10.0,17.0,20.0,24.0,29.0,34.0,38.0,41.0,39.0,37.0,35.0,33.0,32.0,29.0,24.0,21.0,20.0,16.0,12.0,11.0,13.0,16.0,22.0,25.0,25.0,27.0,22.0,23.0,22.0,20.0,16.0,17.0,15.0,15.0,5.0,9.0,11.0,15.0,16.0,20.0,22.0,23.0,24.0,26.0,29.0,28.0,28.0,30.0,34.0,40.0,43.0,43.0,39.0,37.0,31.0,27.0,26.0,25.0,19.0,13.0],[13.0,13.0,8.0,0.0,0.0,5.0,10.0,10.0,10.0,10.0,8.0,13.0,11.0,13.0,15.0,17.0,19.0,19.0,21.0,23.0,25.0,27.0,29.0,31.0,33.0,35.0,37.0,39.0,41.0,42.0,44.0,45.0,43.0,37.0,31.0,25.0,27.0,35.0,39.0,45.0,47.0,47.0,45.0,44.0,45.0,47.0,47.0,41.0,38.0,34.0,36.0,35.0,34.0,32.0,30.0,31.0,31.0,31.0,31.0,29.0,29.0,26.0,26.0,26.0,6.0,12.0,6.0,6.0,6.0,5.0,10.0,10.0,10.0,17.0,20.0,24.0,29.0,34.0,38.0,41.0,39.0,37.0,35.0,33.0,32.0,29.0,24.0,21.0,20.0,16.0,12.0,11.0,13.0,16.0,22.0,25.0,25.0,27.0,22.0,23.0,22.0,20.0,16.0,17.0,15.0,15.0,5.0,9.0,11.0,15.0,16.0,20.0,22.0,23.0,24.0,26.0,29.0,28.0,28.0,30.0,34.0,40.0,43.0,43.0,39.0,37.0,31.0,27.0,26.0,25.0,19.0,13.0],[13.0,13.0,8.0,0.0,0.0,5.0,10.0,10.0,10.0,10.0,8.0,13.0,11.0,13.0,15.0,17.0,19.0,19.0,21.0,23.0,25.0,31.0,37.0,43.0,45.0,44.0,42.0,41.0,39.0,37.0,35.0,33.0,31.0,29.0,27.0,25.0,27.0,35.0,39.0,45.0,47.0,47.0,45.0,44.0,45.0,47.0,47.0,41.0,38.0,34.0,36.0,35.0,34.0,32.0,30.0,31.0,31.0,31.0,31.0,29.0,29.0,26.0,26.0,26.0,6.0,12.0,6.0,6.0,6.0,5.0,10.0,10.0,10.0,17.0,20.0,24.0,29.0,34.0,38.0,41.0,39.0,37.0,35.0,33.0,32.0,29.0,24.0,21.0,20.0,16.0,12.0,11.0,13.0,16.0,22.0,25.0,25.0,27.0,22.0,23.0,22.0,20.0,16.0,17.0,15.0,15.0,5.0,9.0,11.0,15.0,16.0,20.0,22.0,23.0,24.0,26.0,29.0,28.0,28.0,30.0,34.0,40.0,43.0,43.0,39.0,37.0,31.0,27.0,26.0,25.0,19.0,13.0],[13.0,13.0,8.0,0.0,0.0,5.0,10.0,10.0,10.0,10.0,8.0,13.0,11.0,13.0,15.0,17.0,19.0,19.0,21.0,23.0,25.0,31.0,37.0,43.0,40.0,34.0,30.0,28.0,28.0,29.0,26.0,24.0,23.0,22.0,20.0,16.0,15.0,11.0,9.0,5.0,15.0,15.0,17.0,16.0,20.0,22.0,23.0,22.0,27.0,25.0,25.0,22.0,16.0,13.0,11.0,12.0,16.0,20.0,21.0,24.0,29.0,32.0,33.0,35.0,37.0,39.0,41.0,38.0,34.0,29.0,24.0,20.0,17.0,10.0,10.0,10.0,5.0,6.0,6.0,6.0,12.0,6.0,26.0,26.0,26.0,29.0,29.0,31.0,31.0,31.0,31.0,30.0,32.0,34.0,35.0,36.0,34.0,38.0,41.0,47.0,47.0,45.0,44.0,45.0,47.0,47.0,45.0,39.0,35.0,27.0,25.0,27.0,29.0,31.0,33.0,35.0,37.0,39.0,41.0,42.0,44.0,45.0,43.0,43.0,39.0,37.0,31.0,27.0,26.0,25.0,19.0,13.0],[13.0,13.0,8.0,0.0,0.0,5.0,10.0,10.0,10.0,10.0,8.0,13.0,11.0,13.0,15.0,17.0,19.0,19.0,21.0,23.0,27.0,35.0,39.0,45.0,47.0,47.0,45.0,44.0,45.0,47.0,47.0,41.0,38.0,34.0,36.0,35.0,34.0,32.0,30.0,31.0,31.0,31.0,31.0,29.0,29.0,26.0,26.0,26.0,6.0,12.0,6.0,6.0,6.0,5.0,10.0,10.0,10.0,17.0,20.0,24.0,29.0,34.0,38.0,41.0,39.0,37.0,35.0,33.0,32.0,29.0,24.0,21.0,20.0,16.0,12.0,11.0,13.0,16.0,22.0,25.0,25.0,27.0,22.0,23.0,22.0,20.0,16.0,17.0,15.0,15.0,5.0,9.0,11.0,15.0,16.0,20.0,22.0,23.0,24.0,26.0,29.0,28.0,28.0,30.0,34.0,40.0,43.0,37.0,31.0,25.0,25.0,27.0,29.0,31.0,33.0,35.0,37.0,39.0,41.0,42.0,44.0,45.0,43.0,43.0,39.0,37.0,31.0,27.0,26.0,25.0,19.0,13.0],[13.0,13.0,8.0,0.0,0.0,5.0,10.0,10.0,10.0,10.0,8.0,13.0,11.0,13.0,15.0,17.0,19.0,19.0,21.0,23.0,35.0,27.0,39.0,45.0,47.0,47.0,45.0,44.0,45.0,47.0,47.0,41.0,38.0,34.0,36.0,35.0,34.0,32.0,30.0,31.0,31.0,31.0,31.0,29.0,29.0,26.0,26.0,26.0,6.0,12.0,6.0,6.0,6.0,5.0,10.0,10.0,10.0,17.0,20.0,24.0,29.0,34.0,38.0,41.0,39.0,37.0,35.0,33.0,32.0,29.0,24.0,21.0,20.0,16.0,12.0,11.0,13.0,16.0,22.0,25.0,25.0,27.0,22.0,23.0,22.0,20.0,16.0,17.0,15.0,15.0,5.0,9.0,11.0,15.0,16.0,20.0,22.0,23.0,24.0,26.0,29.0,28.0,28.0,30.0,34.0,40.0,43.0,37.0,31.0,25.0,25.0,27.0,29.0,31.0,33.0,35.0,37.0,39.0,41.0,42.0,44.0,45.0,43.0,43.0,39.0,37.0,31.0,27.0,26.0,25.0,19.0,13.0],[13.0,13.0,8.0,0.0,0.0,5.0,10.0,10.0,10.0,10.0,8.0,13.0,11.0,13.0,15.0,17.0,19.0,19.0,21.0,23.0,38.0,41.0,47.0,47.0,45.0,44.0,45.0,47.0,47.0,45.0,39.0,27.0,35.0,34.0,36.0,35.0,34.0,32.0,30.0,31.0,31.0,31.0,31.0,29.0,29.0,26.0,26.0,26.0,6.0,12.0,6.0,6.0,6.0,5.0,10.0,10.0,10.0,17.0,20.0,24.0,29.0,34.0,38.0,41.0,39.0,37.0,35.0,33.0,32.0,29.0,24.0,21.0,20.0,16.0,12.0,11.0,13.0,16.0,22.0,25.0,25.0,27.0,22.0,23.0,22.0,20.0,16.0,17.0,15.0,15.0,5.0,9.0,11.0,15.0,16.0,20.0,22.0,23.0,24.0,26.0,29.0,28.0,28.0,30.0,34.0,40.0,43.0,37.0,31.0,25.0,25.0,27.0,29.0,31.0,33.0,35.0,37.0,39.0,41.0,42.0,44.0,45.0,43.0,43.0,39.0,37.0,31.0,27.0,26.0,25.0,19.0,13.0],[13.0,13.0,8.0,0.0,0.0,5.0,10.0,10.0,10.0,10.0,8.0,13.0,11.0,13.0,15.0,17.0,19.0,19.0,21.0,23.0,24.0,23.0,22.0,20.0,16.0,15.0,11.0,9.0,5.0,15.0,15.0,17.0,16.0,20.0,22.0,23.0,22.0,27.0,25.0,25.0,22.0,16.0,13.0,11.0,12.0,16.0,20.0,21.0,24.0,29.0,32.0,33.0,35.0,37.0,39.0,41.0,38.0,34.0,29.0,24.0,20.0,17.0,10.0,10.0,10.0,5.0,6.0,6.0,6.0,12.0,6.0,26.0,26.0,26.0,29.0,29.0,31.0,31.0,31.0,31.0,30.0,32.0,34.0,35.0,36.0,34.0,35.0,27.0,39.0,45.0,47.0,47.0,45.0,44.0,45.0,47.0,47.0,41.0,38.0,26.0,29.0,28.0,28.0,30.0,34.0,40.0,43.0,37.0,31.0,25.0,25.0,27.0,29.0,31.0,33.0,35.0,37.0,39.0,41.0,42.0,44.0,45.0,43.0,43.0,39.0,37.0,31.0,27.0,26.0,25.0,19.0,13.0],[13.0,13.0,8.0,0.0,0.0,5.0,10.0,10.0,10.0,10.0,8.0,13.0,11.0,13.0,15.0,17.0,19.0,19.0,21.0,23.0,24.0,23.0,22.0,20.0,16.0,15.0,11.0,9.0,5.0,15.0,15.0,17.0,16.0,20.0,22.0,23.0,22.0,27.0,25.0,25.0,22.0,16.0,13.0,11.0,12.0,16.0,20.0,21.0,24.0,29.0,32.0,33.0,35.0,37.0,39.0,41.0,38.0,34.0,29.0,24.0,20.0,17.0,10.0,10.0,10.0,5.0,6.0,6.0,6.0,12.0,6.0,26.0,26.0,26.0,29.0,29.0,31.0,31.0,31.0,31.0,30.0,32.0,34.0,35.0,36.0,34.0,35.0,27.0,39.0,45.0,47.0,47.0,45.0,44.0,45.0,47.0,47.0,41.0,38.0,26.0,29.0,28.0,28.0,30.0,34.0,40.0,43.0,37.0,31.0,25.0,25.0,27.0,29.0,31.0,33.0,35.0,37.0,39.0,41.0,42.0,44.0,45.0,43.0,43.0,39.0,37.0,31.0,27.0,26.0,25.0,19.0,13.0],[13.0,13.0,8.0,0.0,0.0,5.0,10.0,10.0,10.0,10.0,8.0,13.0,11.0,13.0,15.0,17.0,19.0,19.0,21.0,23.0,24.0,23.0,22.0,20.0,16.0,15.0,11.0,9.0,5.0,6.0,12.0,6.0,6.0,6.0,5.0,10.0,10.0,10.0,17.0,20.0,24.0,29.0,34.0,38.0,41.0,39.0,37.0,35.0,33.0,32.0,29.0,24.0,21.0,20.0,16.0,12.0,11.0,13.0,16.0,22.0,25.0,25.0,27.0,22.0,23.0,22.0,20.0,16.0,17.0,15.0,15.0,26.0,26.0,26.0,29.0,29.0,31.0,31.0,31.0,31.0,30.0,32.0,34.0,35.0,36.0,34.0,35.0,27.0,39.0,45.0,47.0,47.0,45.0,44.0,45.0,47.0,47.0,41.0,38.0,26.0,29.0,28.0,28.0,30.0,34.0,40.0,43.0,37.0,31.0,25.0,25.0,27.0,29.0,31.0,33.0,35.0,37.0,39.0,41.0,42.0,44.0,45.0,43.0,43.0,39.0,37.0,31.0,27.0,26.0,25.0,19.0,13.0],[13.0,13.0,8.0,0.0,0.0,5.0,10.0,10.0,10.0,10.0,8.0,13.0,11.0,13.0,15.0,17.0,19.0,19.0,21.0,23.0,24.0,23.0,22.0,20.0,16.0,15.0,11.0,9.0,5.0,6.0,12.0,6.0,6.0,5.0,6.0,10.0,10.0,10.0,17.0,20.0,24.0,29.0,34.0,38.0,41.0,39.0,37.0,35.0,33.0,32.0,29.0,24.0,21.0,20.0,16.0,12.0,11.0,13.0,16.0,22.0,25.0,25.0,27.0,22.0,23.0,22.0,20.0,16.0,17.0,15.0,15.0,26.0,26.0,26.0,29.0,29.0,31.0,31.0,31.0,31.0,30.0,32.0,34.0,35.0,36.0,34.0,35.0,27.0,39.0,45.0,47.0,47.0,45.0,44.0,45.0,47.0,47.0,41.0,38.0,26.0,29.0,28.0,28.0,30.0,34.0,40.0,43.0,37.0,31.0,25.0,25.0,27.0,29.0,31.0,33.0,35.0,37.0,39.0,41.0,42.0,44.0,45.0,43.0,43.0,39.0,37.0,31.0,27.0,26.0,25.0,19.0,13.0],[13.0,13.0,8.0,0.0,0.0,5.0,10.0,10.0,10.0,10.0,8.0,13.0,11.0,13.0,15.0,17.0,19.0,19.0,21.0,23.0,24.0,23.0,22.0,20.0,16.0,15.0,11.0,9.0,5.0,6.0,12.0,6.0,6.0,5.0,6.0,10.0,10.0,10.0,17.0,20.0,24.0,29.0,34.0,38.0,41.0,39.0,37.0,35.0,33.0,32.0,29.0,24.0,21.0,20.0,16.0,12.0,11.0,13.0,16.0,22.0,25.0,25.0,27.0,22.0,23.0,22.0,20.0,16.0,17.0,15.0,15.0,26.0,26.0,26.0,29.0,29.0,31.0,31.0,31.0,31.0,30.0,32.0,34.0,35.0,36.0,34.0,35.0,27.0,39.0,45.0,47.0,47.0,45.0,44.0,45.0,47.0,47.0,41.0,38.0,26.0,29.0,28.0,28.0,30.0,34.0,40.0,43.0,37.0,31.0,25.0,25.0,27.0,29.0,31.0,33.0,35.0,37.0,39.0,41.0,42.0,44.0,45.0,43.0,43.0,39.0,37.0,31.0,27.0,26.0,25.0,19.0,13.0],[13.0,13.0,8.0,0.0,0.0,5.0,10.0,10.0,10.0,10.0,8.0,13.0,11.0,13.0,15.0,17.0,19.0,19.0,21.0,23.0,24.0,23.0,22.0,20.0,16.0,15.0,11.0,9.0,5.0,6.0,12.0,6.0,6.0,5.0,6.0,10.0,10.0,10.0,17.0,20.0,24.0,35.0,34.0,36.0,35.0,34.0,32.0,30.0,31.0,31.0,31.0,31.0,29.0,29.0,26.0,26.0,26.0,15.0,15.0,17.0,16.0,20.0,22.0,23.0,22.0,27.0,25.0,25.0,22.0,16.0,13.0,11.0,12.0,16.0,20.0,21.0,24.0,29.0,32.0,33.0,35.0,37.0,39.0,41.0,38.0,34.0,29.0,27.0,39.0,45.0,47.0,47.0,45.0,44.0,45.0,47.0,47.0,41.0,38.0,26.0,29.0,28.0,28.0,30.0,34.0,40.0,43.0,37.0,31.0,25.0,25.0,27.0,29.0,31.0,33.0,35.0,37.0,39.0,41.0,42.0,44.0,45.0,43.0,43.0,39.0,37.0,31.0,27.0,26.0,25.0,19.0,13.0],[13.0,13.0,8.0,0.0,0.0,5.0,10.0,10.0,10.0,10.0,8.0,13.0,11.0,13.0,15.0,17.0,19.0,19.0,21.0,23.0,24.0,23.0,22.0,20.0,26.0,26.0,26.0,29.0,29.0,31.0,31.0,31.0,31.0,30.0,32.0,34.0,35.0,36.0,34.0,35.0,24.0,20.0,17.0,10.0,10.0,10.0,6.0,5.0,6.0,6.0,12.0,6.0,5.0,9.0,11.0,15.0,16.0,15.0,15.0,17.0,16.0,20.0,22.0,23.0,22.0,27.0,25.0,25.0,22.0,16.0,13.0,11.0,12.0,16.0,20.0,21.0,24.0,29.0,32.0,33.0,35.0,37.0,39.0,41.0,38.0,34.0,29.0,27.0,39.0,45.0,47.0,47.0,45.0,44.0,45.0,47.0,47.0,41.0,38.0,26.0,29.0,28.0,28.0,30.0,34.0,40.0,43.0,37.0,31.0,25.0,25.0,27.0,29.0,31.0,33.0,35.0,37.0,39.0,41.0,42.0,44.0,45.0,43.0,43.0,39.0,37.0,31.0,27.0,26.0,25.0,19.0,13.0],[13.0,13.0,8.0,0.0,0.0,5.0,10.0,10.0,10.0,10.0,8.0,13.0,11.0,13.0,15.0,17.0,19.0,19.0,21.0,23.0,24.0,23.0,22.0,20.0,26.0,26.0,26.0,29.0,29.0,31.0,31.0,31.0,31.0,30.0,32.0,34.0,35.0,36.0,34.0,35.0,24.0,20.0,17.0,10.0,10.0,10.0,6.0,5.0,6.0,6.0,12.0,6.0,5.0,9.0,11.0,15.0,16.0,15.0,15.0,17.0,16.0,20.0,22.0,23.0,22.0,27.0,25.0,25.0,22.0,16.0,13.0,11.0,12.0,16.0,20.0,21.0,24.0,29.0,32.0,33.0,35.0,37.0,39.0,41.0,38.0,34.0,29.0,27.0,39.0,45.0,47.0,47.0,45.0,44.0,45.0,47.0,47.0,41.0,38.0,26.0,29.0,28.0,28.0,30.0,34.0,40.0,43.0,37.0,31.0,25.0,25.0,27.0,29.0,31.0,33.0,35.0,37.0,39.0,41.0,42.0,44.0,45.0,43.0,43.0,39.0,37.0,31.0,27.0,26.0,25.0,19.0,13.0],[13.0,13.0,8.0,0.0,0.0,5.0,10.0,10.0,10.0,10.0,8.0,13.0,11.0,13.0,15.0,17.0,19.0,19.0,21.0,23.0,24.0,23.0,22.0,20.0,26.0,26.0,26.0,29.0,29.0,31.0,31.0,31.0,31.0,30.0,32.0,34.0,35.0,36.0,34.0,35.0,24.0,20.0,17.0,10.0,10.0,10.0,6.0,5.0,6.0,6.0,12.0,6.0,5.0,9.0,11.0,15.0,16.0,15.0,15.0,17.0,16.0,20.0,22.0,23.0,22.0,27.0,25.0,25.0,22.0,16.0,13.0,11.0,12.0,16.0,20.0,21.0,24.0,29.0,32.0,33.0,35.0,37.0,39.0,41.0,38.0,34.0,29.0,27.0,39.0,45.0,47.0,47.0,45.0,44.0,45.0,47.0,47.0,41.0,38.0,26.0,29.0,28.0,28.0,30.0,34.0,40.0,43.0,37.0,31.0,25.0,25.0,27.0,29.0,31.0,33.0,35.0,37.0,39.0,41.0,42.0,44.0,45.0,43.0,43.0,39.0,37.0,31.0,27.0,26.0,25.0,19.0,13.0],[13.0,13.0,8.0,0.0,0.0,5.0,10.0,10.0,10.0,10.0,8.0,13.0,11.0,13.0,15.0,17.0,19.0,19.0,21.0,23.0,24.0,23.0,22.0,20.0,26.0,26.0,26.0,29.0,29.0,31.0,31.0,31.0,31.0,30.0,32.0,34.0,35.0,36.0,34.0,35.0,24.0,20.0,17.0,10.0,10.0,10.0,6.0,5.0,6.0,6.0,12.0,6.0,5.0,9.0,11.0,15.0,16.0,15.0,15.0,17.0,16.0,20.0,22.0,23.0,22.0,27.0,25.0,25.0,22.0,16.0,13.0,11.0,12.0,16.0,20.0,21.0,24.0,29.0,32.0,33.0,35.0,37.0,39.0,41.0,38.0,34.0,29.0,27.0,39.0,45.0,47.0,47.0,45.0,44.0,45.0,47.0,47.0,41.0,38.0,26.0,29.0,28.0,28.0,30.0,34.0,40.0,43.0,37.0,31.0,25.0,25.0,27.0,29.0,31.0,33.0,35.0,37.0,39.0,41.0,42.0,44.0,45.0,43.0,43.0,39.0,37.0,31.0,27.0,26.0,25.0,19.0,13.0],[13.0,13.0,8.0,0.0,0.0,5.0,10.0,10.0,10.0,10.0,8.0,13.0,11.0,13.0,15.0,17.0,19.0,19.0,21.0,23.0,24.0,23.0,22.0,20.0,26.0,26.0,26.0,29.0,29.0,31.0,31.0,31.0,31.0,30.0,34.0,36.0,35.0,34.0,32.0,35.0,24.0,20.0,17.0,10.0,10.0,10.0,6.0,5.0,6.0,6.0,12.0,6.0,5.0,9.0,11.0,15.0,16.0,15.0,15.0,17.0,16.0,20.0,22.0,23.0,22.0,27.0,25.0,25.0,22.0,16.0,13.0,11.0,12.0,16.0,20.0,21.0,24.0,29.0,32.0,33.0,35.0,37.0,39.0,41.0,38.0,34.0,29.0,27.0,39.0,45.0,47.0,47.0,45.0,44.0,45.0,47.0,47.0,41.0,38.0,26.0,29.0,28.0,28.0,30.0,34.0,40.0,43.0,37.0,31.0,25.0,25.0,27.0,29.0,31.0,33.0,35.0,37.0,39.0,41.0,42.0,44.0,45.0,43.0,43.0,39.0,37.0,31.0,27.0,26.0,25.0,19.0,13.0],[13.0,13.0,8.0,0.0,0.0,5.0,10.0,10.0,10.0,10.0,8.0,13.0,11.0,13.0,15.0,17.0,19.0,19.0,21.0,23.0,24.0,23.0,22.0,20.0,26.0,26.0,26.0,29.0,29.0,31.0,31.0,31.0,31.0,30.0,34.0,32.0,34.0,35.0,36.0,35.0,24.0,20.0,17.0,10.0,10.0,10.0,6.0,5.0,6.0,6.0,12.0,6.0,5.0,9.0,11.0,15.0,16.0,15.0,15.0,17.0,16.0,20.0,22.0,23.0,22.0,27.0,25.0,25.0,22.0,16.0,13.0,11.0,12.0,16.0,20.0,21.0,24.0,29.0,32.0,33.0,35.0,37.0,39.0,41.0,38.0,34.0,29.0,27.0,39.0,45.0,47.0,47.0,45.0,44.0,45.0,47.0,47.0,41.0,38.0,26.0,29.0,28.0,28.0,30.0,34.0,40.0,43.0,37.0,31.0,25.0,25.0,27.0,29.0,31.0,33.0,35.0,37.0,39.0,41.0,42.0,44.0,45.0,43.0,43.0,39.0,37.0,31.0,27.0,26.0,25.0,19.0,13.0],[13.0,13.0,8.0,0.0,0.0,5.0,10.0,10.0,10.0,10.0,8.0,13.0,11.0,13.0,15.0,17.0,19.0,19.0,21.0,23.0,24.0,23.0,22.0,20.0,26.0,26.0,26.0,29.0,29.0,31.0,31.0,31.0,31.0,30.0,34.0,32.0,34.0,35.0,36.0,27.0,22.0,23.0,22.0,20.0,16.0,17.0,15.0,15.0,16.0,15.0,11.0,9.0,5.0,6.0,12.0,6.0,6.0,5.0,6.0,10.0,10.0,10.0,17.0,20.0,24.0,35.0,25.0,25.0,22.0,16.0,13.0,11.0,12.0,16.0,20.0,21.0,24.0,29.0,32.0,33.0,35.0,37.0,39.0,41.0,38.0,34.0,29.0,27.0,39.0,45.0,47.0,47.0,45.0,44.0,45.0,47.0,47.0,41.0,38.0,26.0,29.0,28.0,28.0,30.0,34.0,40.0,43.0,37.0,31.0,25.0,25.0,27.0,29.0,31.0,33.0,35.0,37.0,39.0,41.0,42.0,44.0,45.0,43.0,43.0,39.0,37.0,31.0,27.0,26.0,25.0,19.0,13.0],[13.0,13.0,8.0,0.0,0.0,5.0,10.0,10.0,10.0,10.0,8.0,13.0,11.0,13.0,15.0,17.0,19.0,19.0,21.0,23.0,24.0,23.0,22.0,20.0,26.0,26.0,26.0,29.0,29.0,31.0,31.0,31.0,31.0,30.0,34.0,36.0,35.0,34.0,32.0,27.0,22.0,23.0,22.0,20.0,16.0,17.0,15.0,15.0,16.0,15.0,11.0,9.0,5.0,6.0,12.0,6.0,6.0,5.0,6.0,10.0,10.0,10.0,17.0,20.0,24.0,35.0,25.0,25.0,22.0,16.0,13.0,11.0,12.0,16.0,20.0,21.0,24.0,29.0,32.0,33.0,35.0,37.0,39.0,41.0,38.0,34.0,29.0,27.0,39.0,45.0,47.0,47.0,45.0,44.0,45.0,47.0,47.0,41.0,38.0,26.0,29.0,28.0,28.0,30.0,34.0,40.0,43.0,37.0,31.0,25.0,25.0,27.0,29.0,31.0,33.0,35.0,37.0,39.0,41.0,42.0,44.0,45.0,43.0,43.0,39.0,37.0,31.0,27.0,26.0,25.0,19.0,13.0],[13.0,13.0,8.0,0.0,0.0,5.0,10.0,10.0,10.0,10.0,8.0,13.0,11.0,13.0,15.0,17.0,19.0,19.0,21.0,23.0,24.0,23.0,22.0,20.0,26.0,26.0,26.0,29.0,29.0,31.0,31.0,31.0,31.0,30.0,34.0,36.0,35.0,34.0,32.0,27.0,22.0,23.0,22.0,20.0,16.0,17.0,15.0,15.0,16.0,15.0,11.0,9.0,5.0,6.0,12.0,6.0,6.0,5.0,6.0,10.0,10.0,10.0,12.0,11.0,13.0,16.0,22.0,25.0,25.0,35.0,24.0,20.0,17.0,16.0,20.0,21.0,24.0,29.0,32.0,33.0,35.0,37.0,39.0,41.0,38.0,34.0,29.0,27.0,39.0,45.0,47.0,47.0,45.0,44.0,45.0,47.0,47.0,41.0,38.0,26.0,29.0,28.0,28.0,30.0,34.0,40.0,43.0,37.0,31.0,25.0,25.0,27.0,29.0,31.0,33.0,35.0,37.0,39.0,41.0,42.0,44.0,45.0,43.0,43.0,39.0,37.0,31.0,27.0,26.0,25.0,19.0,13.0],[13.0,13.0,8.0,0.0,0.0,5.0,10.0,10.0,10.0,10.0,8.0,13.0,11.0,13.0,15.0,17.0,19.0,19.0,21.0,23.0,24.0,23.0,22.0,20.0,26.0,26.0,26.0,29.0,29.0,31.0,31.0,31.0,31.0,30.0,34.0,36.0,35.0,34.0,32.0,27.0,22.0,23.0,22.0,20.0,16.0,17.0,15.0,15.0,16.0,15.0,11.0,9.0,5.0,6.0,12.0,6.0,6.0,5.0,6.0,10.0,10.0,10.0,12.0,11.0,13.0,16.0,16.0,17.0,20.0,24.0,35.0,25.0,25.0,22.0,20.0,21.0,24.0,29.0,32.0,33.0,35.0,37.0,39.0,41.0,38.0,34.0,29.0,27.0,39.0,45.0,47.0,47.0,45.0,44.0,45.0,47.0,47.0,41.0,38.0,26.0,29.0,28.0,28.0,30.0,34.0,40.0,43.0,37.0,31.0,25.0,25.0,27.0,29.0,31.0,33.0,35.0,37.0,39.0,41.0,42.0,44.0,45.0,43.0,43.0,39.0,37.0,31.0,27.0,26.0,25.0,19.0,13.0],[13.0,13.0,8.0,0.0,0.0,5.0,10.0,10.0,10.0,10.0,8.0,13.0,11.0,13.0,15.0,17.0,19.0,19.0,21.0,23.0,24.0,23.0,22.0,20.0,26.0,26.0,26.0,29.0,29.0,31.0,31.0,31.0,31.0,30.0,34.0,36.0,35.0,34.0,32.0,27.0,22.0,23.0,22.0,20.0,16.0,17.0,15.0,15.0,16.0,15.0,11.0,9.0,5.0,6.0,12.0,6.0,6.0,5.0,6.0,10.0,10.0,10.0,12.0,11.0,13.0,16.0,16.0,20.0,22.0,25.0,25.0,35.0,24.0,20.0,17.0,21.0,24.0,29.0,32.0,33.0,35.0,37.0,39.0,41.0,38.0,34.0,29.0,27.0,39.0,45.0,47.0,47.0,45.0,44.0,45.0,47.0,47.0,41.0,38.0,26.0,29.0,28.0,28.0,30.0,34.0,40.0,43.0,37.0,31.0,25.0,25.0,27.0,29.0,31.0,33.0,35.0,37.0,39.0,41.0,42.0,44.0,45.0,43.0,43.0,39.0,37.0,31.0,27.0,26.0,25.0,19.0,13.0],[13.0,13.0,8.0,0.0,0.0,5.0,10.0,10.0,10.0,10.0,8.0,13.0,11.0,13.0,15.0,17.0,19.0,19.0,21.0,23.0,24.0,23.0,22.0,20.0,26.0,26.0,26.0,29.0,29.0,31.0,31.0,31.0,31.0,30.0,34.0,36.0,35.0,34.0,32.0,27.0,22.0,23.0,22.0,20.0,16.0,17.0,15.0,15.0,16.0,15.0,11.0,9.0,5.0,6.0,12.0,6.0,6.0,5.0,6.0,10.0,10.0,10.0,12.0,11.0,13.0,16.0,16.0,20.0,21.0,17.0,20.0,24.0,35.0,25.0,25.0,22.0,24.0,29.0,32.0,33.0,35.0,37.0,39.0,41.0,38.0,34.0,29.0,27.0,39.0,45.0,47.0,47.0,45.0,44.0,45.0,47.0,47.0,41.0,38.0,26.0,29.0,28.0,28.0,30.0,34.0,40.0,43.0,37.0,31.0,25.0,25.0,27.0,29.0,31.0,33.0,35.0,37.0,39.0,41.0,42.0,44.0,45.0,43.0,43.0,39.0,37.0,31.0,27.0,26.0,25.0,19.0,13.0],[13.0,13.0,8.0,0.0,0.0,5.0,10.0,10.0,10.0,10.0,8.0,13.0,11.0,13.0,15.0,17.0,19.0,19.0,21.0,23.0,24.0,23.0,22.0,20.0,26.0,26.0,26.0,29.0,29.0,31.0,31.0,31.0,31.0,30.0,34.0,36.0,35.0,34.0,32.0,27.0,22.0,23.0,22.0,20.0,16.0,17.0,15.0,15.0,16.0,15.0,11.0,9.0,5.0,6.0,12.0,6.0,6.0,5.0,6.0,10.0,10.0,10.0,12.0,11.0,13.0,16.0,16.0,20.0,21.0,17.0,20.0,24.0,24.0,22.0,25.0,25.0,35.0,29.0,32.0,33.0,35.0,37.0,39.0,41.0,38.0,34.0,29.0,27.0,39.0,45.0,47.0,47.0,45.0,44.0,45.0,47.0,47.0,41.0,38.0,26.0,29.0,28.0,28.0,30.0,34.0,40.0,43.0,37.0,31.0,25.0,25.0,27.0,29.0,31.0,33.0,35.0,37.0,39.0,41.0,42.0,44.0,45.0,43.0,43.0,39.0,37.0,31.0,27.0,26.0,25.0,19.0,13.0],[13.0,13.0,8.0,0.0,0.0,5.0,10.0,10.0,10.0,10.0,8.0,13.0,11.0,13.0,15.0,17.0,19.0,19.0,21.0,23.0,24.0,23.0,22.0,20.0,26.0,26.0,26.0,29.0,29.0,31.0,31.0,31.0,31.0,30.0,34.0,36.0,35.0,34.0,32.0,27.0,22.0,23.0,22.0,20.0,16.0,17.0,15.0,15.0,16.0,15.0,11.0,9.0,5.0,6.0,12.0,6.0,6.0,5.0,6.0,10.0,10.0,10.0,12.0,11.0,13.0,16.0,16.0,20.0,21.0,17.0,20.0,24.0,27.0,29.0,34.0,38.0,41.0,39.0,37.0,35.0,33.0,32.0,29.0,35.0,25.0,25.0,22.0,24.0,39.0,45.0,47.0,47.0,45.0,44.0,45.0,47.0,47.0,41.0,38.0,26.0,29.0,28.0,28.0,30.0,34.0,40.0,43.0,37.0,31.0,25.0,25.0,27.0,29.0,31.0,33.0,35.0,37.0,39.0,41.0,42.0,44.0,45.0,43.0,43.0,39.0,37.0,31.0,27.0,26.0,25.0,19.0,13.0],[13.0,13.0,8.0,0.0,0.0,5.0,10.0,10.0,10.0,10.0,8.0,13.0,11.0,13.0,15.0,17.0,19.0,19.0,21.0,23.0,24.0,23.0,22.0,20.0,26.0,26.0,26.0,29.0,29.0,31.0,31.0,31.0,31.0,30.0,34.0,36.0,35.0,34.0,32.0,27.0,22.0,23.0,22.0,20.0,16.0,17.0,15.0,15.0,16.0,15.0,11.0,9.0,5.0,6.0,12.0,6.0,6.0,5.0,6.0,10.0,10.0,10.0,12.0,11.0,13.0,16.0,16.0,20.0,21.0,17.0,20.0,24.0,27.0,29.0,34.0,38.0,41.0,39.0,37.0,35.0,33.0,32.0,35.0,29.0,25.0,25.0,22.0,24.0,39.0,45.0,47.0,47.0,45.0,44.0,45.0,47.0,47.0,41.0,38.0,26.0,29.0,28.0,28.0,30.0,34.0,40.0,43.0,37.0,31.0,25.0,25.0,27.0,29.0,31.0,33.0,35.0,37.0,39.0,41.0,42.0,44.0,45.0,43.0,43.0,39.0,37.0,31.0,27.0,26.0,25.0,19.0,13.0],[13.0,13.0,8.0,0.0,0.0,5.0,10.0,10.0,10.0,10.0,8.0,13.0,11.0,13.0,15.0,17.0,19.0,19.0,21.0,23.0,24.0,23.0,22.0,20.0,26.0,26.0,26.0,29.0,29.0,31.0,31.0,31.0,31.0,30.0,34.0,36.0,35.0,34.0,32.0,27.0,22.0,23.0,22.0,20.0,16.0,17.0,15.0,15.0,16.0,15.0,11.0,9.0,5.0,6.0,12.0,6.0,6.0,5.0,6.0,10.0,10.0,10.0,12.0,11.0,13.0,16.0,16.0,20.0,21.0,17.0,20.0,24.0,27.0,29.0,34.0,38.0,41.0,39.0,37.0,35.0,33.0,32.0,24.0,22.0,25.0,25.0,29.0,35.0,39.0,45.0,47.0,47.0,45.0,44.0,45.0,47.0,47.0,41.0,38.0,26.0,29.0,28.0,28.0,30.0,34.0,40.0,43.0,37.0,31.0,25.0,25.0,27.0,29.0,31.0,33.0,35.0,37.0,39.0,41.0,42.0,44.0,45.0,43.0,43.0,39.0,37.0,31.0,27.0,26.0,25.0,19.0,13.0],[13.0,13.0,8.0,0.0,0.0,5.0,10.0,10.0,10.0,10.0,8.0,13.0,11.0,13.0,15.0,17.0,19.0,19.0,21.0,23.0,24.0,23.0,22.0,20.0,26.0,26.0,26.0,29.0,29.0,31.0,31.0,31.0,31.0,30.0,34.0,36.0,35.0,34.0,32.0,27.0,22.0,23.0,22.0,20.0,16.0,17.0,15.0,15.0,16.0,15.0,11.0,9.0,5.0,6.0,12.0,6.0,6.0,5.0,6.0,10.0,10.0,10.0,12.0,11.0,13.0,16.0,16.0,20.0,21.0,17.0,20.0,24.0,27.0,29.0,34.0,38.0,41.0,39.0,37.0,35.0,33.0,32.0,24.0,22.0,25.0,25.0,29.0,35.0,39.0,45.0,47.0,47.0,45.0,44.0,45.0,47.0,47.0,41.0,38.0,26.0,29.0,28.0,28.0,30.0,34.0,40.0,43.0,37.0,31.0,25.0,25.0,27.0,29.0,31.0,33.0,35.0,37.0,39.0,41.0,42.0,44.0,45.0,43.0,43.0,39.0,37.0,31.0,27.0,26.0,25.0,19.0,13.0],[13.0,13.0,8.0,0.0,0.0,5.0,10.0,10.0,10.0,10.0,8.0,13.0,11.0,13.0,15.0,17.0,19.0,19.0,21.0,23.0,24.0,23.0,22.0,20.0,26.0,26.0,26.0,29.0,29.0,31.0,31.0,31.0,31.0,30.0,34.0,36.0,35.0,34.0,32.0,27.0,22.0,23.0,22.0,20.0,16.0,17.0,15.0,15.0,16.0,15.0,11.0,9.0,5.0,6.0,12.0,6.0,6.0,5.0,6.0,10.0,10.0,10.0,12.0,11.0,13.0,16.0,16.0,20.0,21.0,17.0,20.0,24.0,27.0,29.0,34.0,38.0,41.0,39.0,37.0,35.0,33.0,32.0,24.0,22.0,25.0,25.0,29.0,35.0,39.0,45.0,47.0,47.0,45.0,44.0,45.0,47.0,47.0,41.0,38.0,29.0,26.0,28.0,28.0,30.0,34.0,40.0,43.0,37.0,31.0,25.0,25.0,27.0,29.0,31.0,33.0,35.0,37.0,39.0,41.0,42.0,44.0,45.0,43.0,43.0,39.0,37.0,31.0,27.0,26.0,25.0,19.0,13.0],[13.0,13.0,8.0,0.0,0.0,5.0,10.0,10.0,10.0,10.0,8.0,13.0,11.0,13.0,15.0,17.0,19.0,19.0,21.0,23.0,24.0,23.0,22.0,20.0,26.0,26.0,26.0,29.0,29.0,31.0,31.0,31.0,31.0,30.0,34.0,36.0,35.0,34.0,32.0,27.0,22.0,23.0,22.0,20.0,16.0,17.0,15.0,15.0,16.0,15.0,11.0,9.0,5.0,6.0,12.0,6.0,6.0,5.0,6.0,10.0,10.0,10.0,12.0,11.0,13.0,16.0,16.0,20.0,21.0,17.0,20.0,24.0,27.0,29.0,34.0,38.0,41.0,39.0,37.0,35.0,33.0,32.0,24.0,22.0,25.0,25.0,29.0,35.0,39.0,45.0,47.0,47.0,45.0,44.0,45.0,47.0,47.0,41.0,38.0,30.0,28.0,28.0,26.0,29.0,34.0,40.0,43.0,37.0,31.0,25.0,25.0,27.0,29.0,31.0,33.0,35.0,37.0,39.0,41.0,42.0,44.0,45.0,43.0,43.0,39.0,37.0,31.0,27.0,26.0,25.0,19.0,13.0],[13.0,13.0,8.0,0.0,0.0,5.0,10.0,10.0,10.0,10.0,8.0,13.0,11.0,13.0,15.0,17.0,19.0,19.0,21.0,23.0,24.0,23.0,22.0,20.0,26.0,26.0,26.0,29.0,29.0,31.0,31.0,31.0,31.0,30.0,34.0,36.0,35.0,34.0,32.0,27.0,22.0,23.0,22.0,20.0,16.0,17.0,15.0,15.0,16.0,15.0,11.0,9.0,5.0,6.0,12.0,6.0,6.0,5.0,6.0,10.0,10.0,10.0,12.0,11.0,13.0,16.0,16.0,20.0,21.0,17.0,20.0,24.0,27.0,29.0,34.0,38.0,41.0,39.0,37.0,35.0,33.0,32.0,24.0,22.0,25.0,25.0,29.0,35.0,39.0,45.0,47.0,47.0,45.0,44.0,45.0,47.0,47.0,41.0,38.0,43.0,40.0,34.0,29.0,26.0,28.0,28.0,30.0,37.0,31.0,25.0,25.0,27.0,29.0,31.0,33.0,35.0,37.0,39.0,41.0,42.0,44.0,45.0,43.0,43.0,39.0,37.0,31.0,27.0,26.0,25.0,19.0,13.0],[13.0,13.0,8.0,0.0,0.0,5.0,10.0,10.0,10.0,10.0,8.0,13.0,11.0,13.0,15.0,17.0,19.0,19.0,21.0,23.0,24.0,23.0,22.0,20.0,26.0,26.0,26.0,29.0,29.0,31.0,31.0,31.0,31.0,30.0,34.0,36.0,35.0,34.0,32.0,27.0,22.0,23.0,22.0,20.0,16.0,17.0,15.0,15.0,16.0,15.0,11.0,9.0,5.0,6.0,12.0,6.0,6.0,5.0,6.0,10.0,10.0,10.0,12.0,11.0,13.0,16.0,16.0,20.0,21.0,17.0,20.0,24.0,27.0,29.0,34.0,38.0,41.0,39.0,37.0,35.0,33.0,32.0,24.0,22.0,25.0,25.0,29.0,35.0,39.0,45.0,47.0,47.0,45.0,44.0,45.0,47.0,38.0,41.0,47.0,43.0,40.0,34.0,29.0,26.0,28.0,28.0,30.0,37.0,31.0,25.0,25.0,27.0,29.0,31.0,33.0,35.0,37.0,39.0,41.0,42.0,44.0,45.0,43.0,43.0,39.0,37.0,31.0,27.0,26.0,25.0,19.0,13.0],[13.0,13.0,8.0,0.0,0.0,5.0,10.0,10.0,10.0,10.0,8.0,13.0,11.0,13.0,15.0,17.0,19.0,19.0,21.0,23.0,24.0,23.0,22.0,20.0,26.0,26.0,26.0,29.0,29.0,31.0,31.0,31.0,31.0,30.0,34.0,36.0,35.0,34.0,32.0,27.0,22.0,23.0,22.0,20.0,16.0,17.0,15.0,15.0,16.0,15.0,11.0,9.0,5.0,6.0,12.0,6.0,6.0,5.0,6.0,10.0,10.0,10.0,12.0,11.0,13.0,16.0,16.0,20.0,21.0,17.0,20.0,24.0,27.0,29.0,34.0,38.0,41.0,39.0,37.0,35.0,33.0,32.0,24.0,22.0,25.0,25.0,29.0,35.0,39.0,45.0,47.0,47.0,45.0,44.0,47.0,45.0,38.0,41.0,47.0,43.0,40.0,34.0,29.0,26.0,28.0,28.0,30.0,37.0,31.0,25.0,25.0,27.0,29.0,31.0,33.0,35.0,37.0,39.0,41.0,42.0,44.0,45.0,43.0,43.0,39.0,37.0,31.0,27.0,26.0,25.0,19.0,13.0],[13.0,13.0,8.0,0.0,0.0,5.0,10.0,10.0,10.0,10.0,8.0,13.0,11.0,13.0,15.0,17.0,19.0,19.0,21.0,23.0,24.0,23.0,22.0,20.0,26.0,26.0,26.0,29.0,29.0,31.0,31.0,31.0,31.0,30.0,34.0,36.0,35.0,34.0,32.0,27.0,22.0,23.0,22.0,20.0,16.0,17.0,15.0,15.0,16.0,15.0,11.0,9.0,5.0,6.0,12.0,6.0,6.0,5.0,6.0,10.0,10.0,10.0,12.0,11.0,13.0,16.0,16.0,20.0,21.0,17.0,20.0,24.0,27.0,29.0,34.0,38.0,41.0,39.0,37.0,35.0,33.0,32.0,24.0,22.0,25.0,25.0,29.0,35.0,39.0,45.0,47.0,47.0,45.0,44.0,47.0,45.0,38.0,41.0,47.0,43.0,40.0,34.0,30.0,28.0,28.0,26.0,29.0,37.0,31.0,25.0,25.0,27.0,29.0,31.0,33.0,35.0,37.0,39.0,41.0,42.0,44.0,45.0,43.0,43.0,39.0,37.0,31.0,27.0,26.0,25.0,19.0,13.0],[13.0,13.0,8.0,0.0,0.0,5.0,10.0,10.0,10.0,10.0,8.0,13.0,11.0,13.0,15.0,17.0,19.0,19.0,21.0,23.0,24.0,23.0,22.0,20.0,26.0,26.0,26.0,29.0,29.0,31.0,31.0,31.0,31.0,30.0,34.0,36.0,35.0,34.0,32.0,27.0,22.0,23.0,22.0,20.0,16.0,17.0,15.0,15.0,16.0,15.0,11.0,9.0,5.0,6.0,12.0,6.0,6.0,5.0,6.0,10.0,10.0,10.0,12.0,11.0,13.0,16.0,16.0,20.0,21.0,17.0,20.0,24.0,27.0,29.0,34.0,38.0,41.0,39.0,37.0,35.0,33.0,32.0,24.0,22.0,25.0,25.0,29.0,35.0,39.0,45.0,47.0,47.0,45.0,44.0,47.0,45.0,38.0,41.0,47.0,43.0,40.0,34.0,30.0,28.0,26.0,28.0,29.0,37.0,31.0,25.0,25.0,27.0,29.0,31.0,33.0,35.0,37.0,39.0,41.0,42.0,44.0,45.0,43.0,43.0,39.0,37.0,31.0,27.0,26.0,25.0,19.0,13.0],[13.0,13.0,8.0,0.0,0.0,5.0,10.0,10.0,10.0,10.0,8.0,13.0,11.0,13.0,15.0,17.0,19.0,19.0,21.0,23.0,24.0,23.0,22.0,20.0,26.0,26.0,26.0,29.0,29.0,31.0,31.0,31.0,31.0,30.0,34.0,36.0,35.0,34.0,32.0,27.0,22.0,23.0,22.0,20.0,16.0,17.0,15.0,15.0,16.0,15.0,11.0,9.0,5.0,6.0,12.0,6.0,6.0,5.0,6.0,10.0,10.0,10.0,12.0,11.0,13.0,16.0,16.0,20.0,21.0,17.0,20.0,24.0,27.0,29.0,34.0,38.0,41.0,39.0,37.0,35.0,33.0,32.0,24.0,22.0,25.0,25.0,29.0,35.0,39.0,45.0,47.0,47.0,45.0,44.0,47.0,45.0,38.0,41.0,47.0,43.0,40.0,34.0,30.0,28.0,26.0,28.0,29.0,29.0,27.0,25.0,25.0,31.0,37.0,31.0,33.0,35.0,37.0,39.0,41.0,42.0,44.0,45.0,43.0,43.0,39.0,37.0,31.0,27.0,26.0,25.0,19.0,13.0],[13.0,13.0,8.0,0.0,0.0,5.0,10.0,10.0,10.0,10.0,8.0,13.0,11.0,13.0,15.0,17.0,19.0,19.0,21.0,23.0,24.0,23.0,22.0,20.0,26.0,26.0,26.0,29.0,29.0,31.0,31.0,31.0,31.0,30.0,34.0,36.0,35.0,34.0,32.0,27.0,22.0,23.0,22.0,20.0,16.0,17.0,15.0,15.0,16.0,15.0,11.0,9.0,5.0,6.0,12.0,6.0,6.0,5.0,6.0,10.0,10.0,10.0,12.0,11.0,13.0,16.0,16.0,20.0,21.0,17.0,20.0,24.0,27.0,29.0,34.0,38.0,41.0,39.0,37.0,35.0,33.0,32.0,24.0,22.0,25.0,25.0,29.0,35.0,39.0,45.0,47.0,47.0,45.0,44.0,47.0,45.0,38.0,41.0,47.0,43.0,40.0,34.0,30.0,28.0,26.0,28.0,29.0,29.0,27.0,25.0,25.0,31.0,33.0,31.0,37.0,35.0,37.0,39.0,41.0,42.0,44.0,45.0,43.0,43.0,39.0,37.0,31.0,27.0,26.0,25.0,19.0,13.0],[13.0,13.0,8.0,0.0,0.0,5.0,10.0,10.0,10.0,10.0,8.0,13.0,11.0,13.0,15.0,17.0,19.0,19.0,21.0,23.0,24.0,23.0,22.0,20.0,26.0,26.0,26.0,29.0,29.0,31.0,31.0,31.0,31.0,30.0,34.0,36.0,35.0,34.0,32.0,27.0,22.0,23.0,22.0,20.0,16.0,17.0,15.0,15.0,16.0,15.0,11.0,9.0,5.0,6.0,12.0,6.0,6.0,5.0,6.0,10.0,10.0,10.0,12.0,11.0,13.0,16.0,16.0,20.0,21.0,17.0,20.0,24.0,27.0,29.0,34.0,38.0,41.0,39.0,37.0,35.0,33.0,32.0,24.0,22.0,25.0,25.0,29.0,35.0,39.0,45.0,47.0,47.0,45.0,44.0,47.0,45.0,38.0,41.0,47.0,43.0,40.0,34.0,30.0,28.0,26.0,28.0,29.0,29.0,27.0,25.0,25.0,31.0,31.0,33.0,37.0,35.0,37.0,39.0,41.0,42.0,44.0,45.0,43.0,43.0,39.0,37.0,31.0,27.0,26.0,25.0,19.0,13.0],[13.0,13.0,8.0,0.0,0.0,5.0,10.0,10.0,10.0,10.0,8.0,13.0,11.0,13.0,15.0,17.0,19.0,19.0,21.0,23.0,24.0,23.0,22.0,20.0,26.0,26.0,26.0,29.0,29.0,31.0,31.0,31.0,31.0,30.0,34.0,36.0,35.0,34.0,32.0,27.0,22.0,23.0,22.0,20.0,16.0,17.0,15.0,15.0,16.0,15.0,11.0,9.0,5.0,6.0,12.0,6.0,6.0,5.0,6.0,10.0,10.0,10.0,12.0,11.0,13.0,16.0,16.0,20.0,21.0,17.0,20.0,24.0,27.0,29.0,34.0,38.0,41.0,39.0,37.0,35.0,33.0,32.0,24.0,22.0,25.0,25.0,29.0,35.0,39.0,45.0,47.0,47.0,45.0,44.0,47.0,45.0,38.0,41.0,47.0,43.0,40.0,34.0,30.0,28.0,26.0,28.0,29.0,29.0,27.0,25.0,25.0,31.0,31.0,33.0,35.0,37.0,37.0,39.0,41.0,42.0,44.0,45.0,43.0,43.0,39.0,37.0,31.0,27.0,26.0,25.0,19.0,13.0]]},\"selected\":{\"id\":\"5398\"},\"selection_policy\":{\"id\":\"5397\"}},\"id\":\"5352\",\"type\":\"ColumnDataSource\"},{\"attributes\":{\"data_source\":{\"id\":\"5355\"},\"glyph\":{\"id\":\"5362\"},\"hover_glyph\":null,\"muted_glyph\":null,\"nonselection_glyph\":{\"id\":\"5363\"},\"selection_glyph\":null,\"view\":{\"id\":\"5365\"}},\"id\":\"5364\",\"type\":\"GlyphRenderer\"},{\"attributes\":{},\"id\":\"5324\",\"type\":\"LinearScale\"},{\"attributes\":{\"fill_alpha\":{\"value\":0.1},\"fill_color\":{\"value\":\"steelblue\"},\"line_alpha\":{\"value\":0.1},\"line_color\":{\"value\":\"steelblue\"},\"size\":{\"units\":\"screen\",\"value\":8},\"x\":{\"field\":\"x\"},\"y\":{\"field\":\"y\"}},\"id\":\"5373\",\"type\":\"Circle\"},{\"attributes\":{\"data\":{\"swaps_after_x\":[[[0.0,2.0],[5.0,5.0]],[[12.0,15.0],[15.0,12.0]],[[15.0,107.0],[18.0,0.0]],[[0.0,5.0],[2.0,5.0]],[[5.0,18.0],[5.0,0.0]],[[5.0,15.0],[18.0,15.0]],[[5.0,15.0],[15.0,107.0]],[[5.0,5.0],[15.0,9.0]],[[15.0,12.0],[9.0,15.0]],[[12.0,9.0],[15.0,15.0]],[[18.0,15.0],[18.0,107.0]],[[15.0,18.0],[15.0,107.0]],[[18.0,15.0],[18.0,107.0]],[[15.0,28.0],[15.0,5.0]],[[18.0,107.0],[15.0,18.0]],[[18.0,74.0],[107.0,74.0]],[[18.0,34.0],[74.0,38.0]],[[18.0,25.0],[34.0,25.0]],[[34.0,33.0],[34.0,35.0]],[[34.0,48.0],[33.0,34.0]],[[74.0,80.0],[84.0,78.0]],[[84.0,80.0],[78.0,81.0]],[[84.0,74.0],[84.0,107.0]],[[28.0,34.0],[28.0,33.0]],[[28.0,32.0],[34.0,33.0]],[[34.0,32.0],[34.0,35.0]],[[34.0,34.0],[33.0,32.0]],[[38.0,38.0],[41.0,74.0]],[[38.0,41.0],[41.0,74.0]],[[41.0,48.0],[74.0,56.0]],[[38.0,41.0],[41.0,48.0]],[[78.0,74.0],[81.0,74.0]],[[71.0,74.0],[64.0,74.0]],[[74.0,74.0],[81.0,77.0]],[[74.0,77.0],[64.0,74.0]],[[84.0,74.0],[74.0,74.0]],[[84.0,107.0],[74.0,74.0]],[[78.0,74.0],[74.0,56.0]],[[78.0,74.0],[74.0,74.0]],[[64.0,56.0],[57.0,74.0]],[[34.0,25.0],[25.0,25.0]],[[34.0,28.0],[25.0,28.0]],[[34.0,28.0],[28.0,15.0]],[[51.0,34.0],[28.0,28.0]],[[57.0,51.0],[51.0,34.0]],[[28.0,28.0],[25.0,15.0]],[[28.0,25.0],[25.0,25.0]],[[25.0,18.0],[15.0,18.0]],[[15.0,18.0],[15.0,18.0]],[[15.0,18.0],[18.0,15.0]],[[18.0,18.0],[15.0,18.0]]],\"swaps_after_y\":[[[13.0,0.0],[13.0,19.0]],[[5.0,8.0],[13.0,10.0]],[[8.0,27.0],[11.0,13.0]],[[13.0,13.0],[0.0,8.0]],[[13.0,11.0],[19.0,13.0]],[[13.0,19.0],[11.0,13.0]],[[13.0,8.0],[19.0,27.0]],[[13.0,8.0],[8.0,10.0]],[[8.0,10.0],[10.0,13.0]],[[5.0,10.0],[8.0,13.0]],[[17.0,19.0],[19.0,27.0]],[[19.0,19.0],[25.0,27.0]],[[23.0,25.0],[25.0,27.0]],[[37.0,43.0],[43.0,43.0]],[[23.0,27.0],[25.0,25.0]],[[23.0,35.0],[27.0,39.0]],[[23.0,38.0],[35.0,34.0]],[[23.0,24.0],[38.0,26.0]],[[5.0,15.0],[15.0,17.0]],[[5.0,6.0],[15.0,26.0]],[[6.0,5.0],[6.0,10.0]],[[6.0,10.0],[10.0,17.0]],[[24.0,35.0],[29.0,27.0]],[[20.0,26.0],[16.0,15.0]],[[20.0,26.0],[26.0,29.0]],[[29.0,31.0],[31.0,31.0]],[[26.0,29.0],[29.0,31.0]],[[30.0,34.0],[32.0,35.0]],[[34.0,32.0],[36.0,35.0]],[[36.0,27.0],[35.0,25.0]],[[34.0,36.0],[32.0,27.0]],[[10.0,12.0],[17.0,16.0]],[[16.0,16.0],[22.0,20.0]],[[16.0,20.0],[17.0,21.0]],[[20.0,21.0],[22.0,24.0]],[[24.0,24.0],[35.0,29.0]],[[24.0,27.0],[24.0,39.0]],[[32.0,35.0],[29.0,25.0]],[[32.0,24.0],[35.0,39.0]],[[22.0,25.0],[25.0,29.0]],[[38.0,29.0],[26.0,28.0]],[[38.0,30.0],[29.0,34.0]],[[38.0,43.0],[30.0,37.0]],[[47.0,38.0],[47.0,43.0]],[[44.0,47.0],[45.0,38.0]],[[34.0,30.0],[29.0,37.0]],[[28.0,26.0],[28.0,29.0]],[[29.0,29.0],[37.0,31.0]],[[31.0,33.0],[37.0,35.0]],[[31.0,31.0],[33.0,37.0]],[[33.0,35.0],[37.0,37.0]]],\"swaps_before_x\":[[[0.0,5.0],[2.0,5.0]],[[12.0,15.0],[15.0,12.0]],[[15.0,18.0],[107.0,0.0]],[[0.0,2.0],[5.0,5.0]],[[5.0,5.0],[18.0,0.0]],[[5.0,18.0],[15.0,15.0]],[[5.0,15.0],[15.0,107.0]],[[5.0,15.0],[5.0,9.0]],[[15.0,9.0],[12.0,15.0]],[[12.0,15.0],[9.0,15.0]],[[18.0,18.0],[15.0,107.0]],[[15.0,15.0],[18.0,107.0]],[[18.0,18.0],[15.0,107.0]],[[15.0,15.0],[28.0,5.0]],[[18.0,15.0],[107.0,18.0]],[[18.0,107.0],[74.0,74.0]],[[18.0,74.0],[34.0,38.0]],[[18.0,34.0],[25.0,25.0]],[[34.0,34.0],[33.0,35.0]],[[34.0,33.0],[48.0,34.0]],[[74.0,84.0],[80.0,78.0]],[[84.0,78.0],[80.0,81.0]],[[84.0,84.0],[74.0,107.0]],[[28.0,28.0],[34.0,33.0]],[[28.0,34.0],[32.0,33.0]],[[34.0,34.0],[32.0,35.0]],[[34.0,33.0],[34.0,32.0]],[[38.0,41.0],[38.0,74.0]],[[38.0,41.0],[41.0,74.0]],[[41.0,74.0],[48.0,56.0]],[[38.0,41.0],[41.0,48.0]],[[78.0,81.0],[74.0,74.0]],[[71.0,64.0],[74.0,74.0]],[[74.0,81.0],[74.0,77.0]],[[74.0,64.0],[77.0,74.0]],[[84.0,74.0],[74.0,74.0]],[[84.0,74.0],[107.0,74.0]],[[78.0,74.0],[74.0,56.0]],[[78.0,74.0],[74.0,74.0]],[[64.0,57.0],[56.0,74.0]],[[34.0,25.0],[25.0,25.0]],[[34.0,25.0],[28.0,28.0]],[[34.0,28.0],[28.0,15.0]],[[51.0,28.0],[34.0,28.0]],[[57.0,51.0],[51.0,34.0]],[[28.0,25.0],[28.0,15.0]],[[28.0,25.0],[25.0,25.0]],[[25.0,15.0],[18.0,18.0]],[[15.0,15.0],[18.0,18.0]],[[15.0,18.0],[18.0,15.0]],[[18.0,15.0],[18.0,18.0]]],\"swaps_before_y\":[[[13.0,13.0],[0.0,19.0]],[[5.0,13.0],[8.0,10.0]],[[8.0,11.0],[27.0,13.0]],[[13.0,0.0],[13.0,8.0]],[[13.0,19.0],[11.0,13.0]],[[13.0,11.0],[19.0,13.0]],[[13.0,19.0],[8.0,27.0]],[[13.0,8.0],[8.0,10.0]],[[8.0,10.0],[10.0,13.0]],[[5.0,8.0],[10.0,13.0]],[[17.0,19.0],[19.0,27.0]],[[19.0,25.0],[19.0,27.0]],[[23.0,25.0],[25.0,27.0]],[[37.0,43.0],[43.0,43.0]],[[23.0,25.0],[27.0,25.0]],[[23.0,27.0],[35.0,39.0]],[[23.0,35.0],[38.0,34.0]],[[23.0,38.0],[24.0,26.0]],[[5.0,15.0],[15.0,17.0]],[[5.0,15.0],[6.0,26.0]],[[6.0,6.0],[5.0,10.0]],[[6.0,10.0],[10.0,17.0]],[[24.0,29.0],[35.0,27.0]],[[20.0,16.0],[26.0,15.0]],[[20.0,26.0],[26.0,29.0]],[[29.0,31.0],[31.0,31.0]],[[26.0,29.0],[29.0,31.0]],[[30.0,32.0],[34.0,35.0]],[[34.0,36.0],[32.0,35.0]],[[36.0,35.0],[27.0,25.0]],[[34.0,32.0],[36.0,27.0]],[[10.0,17.0],[12.0,16.0]],[[16.0,22.0],[16.0,20.0]],[[16.0,17.0],[20.0,21.0]],[[20.0,22.0],[21.0,24.0]],[[24.0,35.0],[24.0,29.0]],[[24.0,24.0],[27.0,39.0]],[[32.0,29.0],[35.0,25.0]],[[32.0,35.0],[24.0,39.0]],[[22.0,25.0],[25.0,29.0]],[[38.0,26.0],[29.0,28.0]],[[38.0,29.0],[30.0,34.0]],[[38.0,30.0],[43.0,37.0]],[[47.0,47.0],[38.0,43.0]],[[44.0,45.0],[47.0,38.0]],[[34.0,29.0],[30.0,37.0]],[[28.0,28.0],[26.0,29.0]],[[29.0,37.0],[29.0,31.0]],[[31.0,37.0],[33.0,35.0]],[[31.0,33.0],[31.0,37.0]],[[33.0,37.0],[35.0,37.0]]]},\"selected\":{\"id\":\"5400\"},\"selection_policy\":{\"id\":\"5399\"}},\"id\":\"5354\",\"type\":\"ColumnDataSource\"},{\"attributes\":{\"data_source\":{\"id\":\"5355\"},\"glyph\":{\"id\":\"5367\"},\"hover_glyph\":null,\"muted_glyph\":null,\"nonselection_glyph\":{\"id\":\"5368\"},\"selection_glyph\":null,\"view\":{\"id\":\"5370\"}},\"id\":\"5369\",\"type\":\"GlyphRenderer\"},{\"attributes\":{\"data\":{\"edges_x\":[0.0,5.0,5.0,9.0,10.0,11.0,12.0,15.0,18.0,18.0,18.0,18.0,18.0,18.0,18.0,18.0,18.0,18.0,18.0,18.0,18.0,18.0,18.0,18.0,18.0,18.0,18.0,15.0,15.0,15.0,15.0,15.0,15.0,12.0,8.0,2.0,5.0,5.0,0.0,0.0,5.0,5.0,0.0,5.0,28.0,28.0,28.0,28.0,28.0,25.0,25.0,25.0,25.0,25.0,25.0,28.0,28.0,25.0,25.0,25.0,34.0,34.0,33.0,35.0,38.0,38.0,40.0,41.0,48.0,48.0,56.0,57.0,64.0,71.0,71.0,71.0,74.0,74.0,74.0,77.0,74.0,74.0,78.0,79.0,78.0,79.0,78.0,80.0,84.0,84.0,84.0,84.0,84.0,81.0,80.0,79.0,78.0,80.0,84.0,74.0,63.0,57.0,48.0,34.0,33.0,32.0,33.0,34.0,34.0,33.0,32.0,35.0,38.0,41.0,41.0,41.0,41.0,38.0,34.0,34.0,28.0,51.0,51.0,57.0,61.0,61.0,71.0,71.0,74.0,74.0,107.0,0.0],\"edges_y\":[13.0,13.0,8.0,10.0,10.0,10.0,10.0,8.0,11.0,13.0,15.0,17.0,19.0,21.0,23.0,25.0,27.0,29.0,31.0,33.0,35.0,37.0,39.0,41.0,42.0,44.0,45.0,43.0,37.0,31.0,25.0,19.0,13.0,5.0,0.0,0.0,19.0,25.0,26.0,27.0,31.0,37.0,39.0,43.0,43.0,40.0,34.0,30.0,28.0,28.0,29.0,26.0,24.0,23.0,22.0,20.0,16.0,15.0,11.0,9.0,5.0,15.0,15.0,17.0,16.0,20.0,22.0,23.0,22.0,27.0,25.0,25.0,22.0,16.0,13.0,11.0,12.0,16.0,20.0,21.0,24.0,29.0,32.0,33.0,35.0,37.0,39.0,41.0,38.0,34.0,29.0,24.0,20.0,17.0,10.0,10.0,10.0,5.0,6.0,6.0,6.0,12.0,6.0,26.0,26.0,26.0,29.0,29.0,31.0,31.0,31.0,31.0,30.0,32.0,34.0,35.0,36.0,34.0,38.0,41.0,47.0,47.0,45.0,44.0,45.0,47.0,47.0,45.0,39.0,35.0,27.0,13.0]},\"selected\":{\"id\":\"5388\"},\"selection_policy\":{\"id\":\"5387\"}},\"id\":\"5353\",\"type\":\"ColumnDataSource\"},{\"attributes\":{\"formatter\":{\"id\":\"5383\"},\"ticker\":{\"id\":\"5327\"},\"visible\":false},\"id\":\"5326\",\"type\":\"LinearAxis\"},{\"attributes\":{\"button_type\":\"success\",\"icon\":null,\"js_event_callbacks\":{\"button_click\":[{\"id\":\"5377\"}]},\"label\":\"Next\",\"sizing_mode\":\"scale_width\",\"width_policy\":\"fit\"},\"id\":\"5376\",\"type\":\"Button\"},{\"attributes\":{\"data\":{\"swaps_after_x\":[[0.0,2.0],[5.0,5.0]],\"swaps_after_y\":[[13.0,0.0],[13.0,19.0]],\"swaps_before_x\":[[0.0,5.0],[2.0,5.0]],\"swaps_before_y\":[[13.0,13.0],[0.0,19.0]]},\"selected\":{\"id\":\"5390\"},\"selection_policy\":{\"id\":\"5389\"}},\"id\":\"5355\",\"type\":\"ColumnDataSource\"},{\"attributes\":{\"bottom_units\":\"screen\",\"fill_alpha\":0.5,\"fill_color\":\"lightgrey\",\"left_units\":\"screen\",\"level\":\"overlay\",\"line_alpha\":1.0,\"line_color\":\"black\",\"line_dash\":[4,4],\"line_width\":2,\"right_units\":\"screen\",\"top_units\":\"screen\"},\"id\":\"5340\",\"type\":\"BoxAnnotation\"},{\"attributes\":{},\"id\":\"5327\",\"type\":\"BasicTicker\"},{\"attributes\":{\"source\":{\"id\":\"5371\"}},\"id\":\"5375\",\"type\":\"CDSView\"},{\"attributes\":{\"active_drag\":\"auto\",\"active_inspect\":\"auto\",\"active_multi\":null,\"active_scroll\":\"auto\",\"active_tap\":\"auto\",\"logo\":null,\"tools\":[{\"id\":\"5334\"},{\"id\":\"5335\"},{\"id\":\"5336\"},{\"id\":\"5337\"},{\"id\":\"5338\"},{\"id\":\"5339\"}]},\"id\":\"5341\",\"type\":\"Toolbar\"}],\"root_ids\":[\"5403\"]},\"title\":\"Bokeh Application\",\"version\":\"2.1.0\"}};\n",
       "  var render_items = [{\"docid\":\"7a68beb8-7aed-4081-ba69-a278d8dae390\",\"root_ids\":[\"5403\"],\"roots\":{\"5403\":\"0e3c37a5-4911-4d6d-9201-a9225868ddb6\"}}];\n",
       "  root.Bokeh.embed.embed_items_notebook(docs_json, render_items);\n",
       "\n",
       "  }\n",
       "  if (root.Bokeh !== undefined) {\n",
       "    embed_document(root);\n",
       "  } else {\n",
       "    var attempts = 0;\n",
       "    var timer = setInterval(function(root) {\n",
       "      if (root.Bokeh !== undefined) {\n",
       "        clearInterval(timer);\n",
       "        embed_document(root);\n",
       "      } else {\n",
       "        attempts++;\n",
       "        if (attempts > 100) {\n",
       "          clearInterval(timer);\n",
       "          console.log(\"Bokeh: ERROR: Unable to run BokehJS code because BokehJS library is missing\");\n",
       "        }\n",
       "      }\n",
       "    }, 10, root)\n",
       "  }\n",
       "})(window);"
      ],
      "application/vnd.bokehjs_exec.v0+json": ""
     },
     "metadata": {
      "application/vnd.bokehjs_exec.v0+json": {
       "id": "5403"
      }
     },
     "output_type": "display_data"
    }
   ],
   "source": [
    "# Improve with 2-OPT\n",
    "plot_two_opt(nodes, G, list(tour));"
   ]
  },
  {
   "cell_type": "code",
   "execution_count": 33,
   "metadata": {},
   "outputs": [
    {
     "data": {
      "text/html": [
       "\n",
       "\n",
       "\n",
       "\n",
       "\n",
       "\n",
       "  <div class=\"bk-root\" id=\"6ea1f0ad-198b-469a-b12a-4c81e3ed4bbc\" data-root-id=\"5780\"></div>\n"
      ]
     },
     "metadata": {},
     "output_type": "display_data"
    },
    {
     "data": {
      "application/javascript": [
       "(function(root) {\n",
       "  function embed_document(root) {\n",
       "    \n",
       "  var docs_json = {\"bd0c8a03-d426-46c8-a51e-eef36ec6e8e0\":{\"roots\":{\"references\":[{\"attributes\":{\"children\":[[{\"id\":\"5724\"},0,0],[{\"id\":\"5758\"},1,0]]},\"id\":\"5780\",\"type\":\"GridBox\"},{\"attributes\":{\"bottom_units\":\"screen\",\"fill_alpha\":0.5,\"fill_color\":\"lightgrey\",\"left_units\":\"screen\",\"level\":\"overlay\",\"line_alpha\":1.0,\"line_color\":\"black\",\"line_dash\":[4,4],\"line_width\":2,\"right_units\":\"screen\",\"top_units\":\"screen\"},\"id\":\"5749\",\"type\":\"BoxAnnotation\"},{\"attributes\":{},\"id\":\"5736\",\"type\":\"BasicTicker\"},{\"attributes\":{\"data\":{\"x\":[0.0,0.0,0.0,0.0,2.0,5.0,5.0,5.0,5.0,5.0,5.0,5.0,8.0,9.0,10.0,11.0,12.0,12.0,15.0,15.0,15.0,15.0,15.0,15.0,15.0,18.0,18.0,18.0,18.0,18.0,18.0,18.0,18.0,18.0,18.0,18.0,18.0,18.0,18.0,18.0,18.0,18.0,18.0,18.0,25.0,25.0,25.0,25.0,25.0,25.0,25.0,25.0,25.0,28.0,28.0,28.0,28.0,28.0,28.0,28.0,28.0,32.0,32.0,33.0,33.0,33.0,33.0,34.0,34.0,34.0,34.0,34.0,34.0,34.0,35.0,35.0,38.0,38.0,38.0,38.0,40.0,41.0,41.0,41.0,41.0,41.0,48.0,48.0,48.0,51.0,51.0,56.0,57.0,57.0,57.0,61.0,61.0,63.0,64.0,71.0,71.0,71.0,71.0,71.0,74.0,74.0,74.0,74.0,74.0,74.0,74.0,74.0,77.0,78.0,78.0,78.0,78.0,79.0,79.0,79.0,80.0,80.0,80.0,81.0,84.0,84.0,84.0,84.0,84.0,84.0,107.0],\"y\":[13.0,26.0,27.0,39.0,0.0,13.0,19.0,25.0,31.0,37.0,43.0,8.0,0.0,10.0,10.0,10.0,10.0,5.0,13.0,19.0,25.0,31.0,37.0,43.0,8.0,11.0,13.0,15.0,17.0,19.0,21.0,23.0,25.0,27.0,29.0,31.0,33.0,35.0,37.0,39.0,41.0,42.0,44.0,45.0,11.0,15.0,22.0,23.0,24.0,26.0,28.0,29.0,9.0,16.0,20.0,28.0,30.0,34.0,40.0,43.0,47.0,26.0,31.0,15.0,26.0,29.0,31.0,15.0,26.0,29.0,31.0,38.0,41.0,5.0,17.0,31.0,16.0,20.0,30.0,34.0,22.0,23.0,32.0,34.0,35.0,36.0,22.0,27.0,6.0,45.0,47.0,25.0,12.0,25.0,44.0,45.0,47.0,6.0,22.0,11.0,13.0,16.0,45.0,47.0,12.0,16.0,20.0,24.0,29.0,35.0,39.0,6.0,21.0,10.0,32.0,35.0,39.0,10.0,33.0,37.0,10.0,41.0,5.0,17.0,20.0,24.0,29.0,34.0,38.0,6.0,27.0]},\"selected\":{\"id\":\"5777\"},\"selection_policy\":{\"id\":\"5776\"}},\"id\":\"5764\",\"type\":\"ColumnDataSource\"},{\"attributes\":{\"axis\":{\"id\":\"5735\"},\"grid_line_color\":null,\"ticker\":null},\"id\":\"5738\",\"type\":\"Grid\"},{\"attributes\":{\"source\":{\"id\":\"5759\"}},\"id\":\"5763\",\"type\":\"CDSView\"},{\"attributes\":{\"formatter\":{\"id\":\"5772\"},\"ticker\":{\"id\":\"5740\"},\"visible\":false},\"id\":\"5739\",\"type\":\"LinearAxis\"},{\"attributes\":{\"data_source\":{\"id\":\"5759\"},\"glyph\":{\"id\":\"5760\"},\"hover_glyph\":null,\"muted_glyph\":null,\"nonselection_glyph\":{\"id\":\"5761\"},\"selection_glyph\":null,\"view\":{\"id\":\"5763\"}},\"id\":\"5762\",\"type\":\"GlyphRenderer\"},{\"attributes\":{},\"id\":\"5740\",\"type\":\"BasicTicker\"},{\"attributes\":{\"line_alpha\":0.1,\"line_width\":4,\"x\":{\"field\":\"x\"},\"y\":{\"field\":\"y\"}},\"id\":\"5761\",\"type\":\"Line\"},{\"attributes\":{\"axis\":{\"id\":\"5739\"},\"dimension\":1,\"grid_line_color\":null,\"ticker\":null},\"id\":\"5742\",\"type\":\"Grid\"},{\"attributes\":{\"data\":{\"x\":[0.0,5.0,9.0,10.0,11.0,2.0,8.0,12.0,15.0,18.0,25.0,25.0,28.0,34.0,33.0,34.0,38.0,48.0,48.0,57.0,63.0,71.0,71.0,74.0,78.0,79.0,80.0,84.0,80.0,74.0,74.0,71.0,77.0,74.0,74.0,81.0,84.0,84.0,107.0,84.0,78.0,74.0,74.0,71.0,71.0,61.0,51.0,51.0,57.0,61.0,78.0,80.0,84.0,84.0,79.0,79.0,78.0,74.0,64.0,57.0,56.0,48.0,41.0,40.0,38.0,35.0,28.0,28.0,28.0,32.0,33.0,34.0,35.0,34.0,28.0,28.0,28.0,34.0,38.0,41.0,41.0,41.0,41.0,38.0,34.0,34.0,33.0,32.0,33.0,28.0,25.0,25.0,25.0,25.0,25.0,25.0,25.0,18.0,18.0,18.0,18.0,18.0,18.0,18.0,18.0,18.0,18.0,18.0,18.0,18.0,18.0,18.0,18.0,18.0,18.0,15.0,15.0,15.0,15.0,15.0,15.0,12.0,5.0,5.0,5.0,5.0,5.0,5.0,0.0,0.0,0.0,0.0],\"y\":[13.0,8.0,10.0,10.0,10.0,0.0,0.0,5.0,8.0,11.0,9.0,11.0,16.0,5.0,15.0,15.0,16.0,22.0,6.0,12.0,6.0,11.0,13.0,12.0,10.0,10.0,10.0,6.0,5.0,6.0,16.0,16.0,21.0,20.0,24.0,17.0,20.0,24.0,27.0,29.0,35.0,35.0,39.0,45.0,47.0,47.0,47.0,45.0,44.0,45.0,39.0,41.0,38.0,34.0,37.0,33.0,32.0,29.0,22.0,25.0,25.0,27.0,23.0,22.0,20.0,17.0,20.0,28.0,30.0,31.0,31.0,31.0,31.0,38.0,40.0,43.0,47.0,41.0,34.0,36.0,35.0,34.0,32.0,30.0,29.0,26.0,26.0,26.0,29.0,34.0,29.0,28.0,26.0,24.0,23.0,22.0,15.0,13.0,15.0,17.0,19.0,21.0,23.0,25.0,27.0,29.0,31.0,33.0,35.0,37.0,39.0,41.0,42.0,44.0,45.0,43.0,37.0,31.0,25.0,19.0,13.0,10.0,13.0,19.0,25.0,31.0,37.0,43.0,39.0,27.0,26.0,13.0]},\"selected\":{\"id\":\"5775\"},\"selection_policy\":{\"id\":\"5774\"}},\"id\":\"5759\",\"type\":\"ColumnDataSource\"},{\"attributes\":{\"align\":\"center\",\"text\":\"675.3\",\"width\":400},\"id\":\"5758\",\"type\":\"Div\"},{\"attributes\":{\"fill_color\":{\"value\":\"steelblue\"},\"line_color\":{\"value\":\"steelblue\"},\"size\":{\"units\":\"screen\",\"value\":8},\"x\":{\"field\":\"x\"},\"y\":{\"field\":\"y\"}},\"id\":\"5765\",\"type\":\"Circle\"},{\"attributes\":{\"fill_alpha\":{\"value\":0.1},\"fill_color\":{\"value\":\"steelblue\"},\"line_alpha\":{\"value\":0.1},\"line_color\":{\"value\":\"steelblue\"},\"size\":{\"units\":\"screen\",\"value\":8},\"x\":{\"field\":\"x\"},\"y\":{\"field\":\"y\"}},\"id\":\"5766\",\"type\":\"Circle\"},{\"attributes\":{},\"id\":\"5743\",\"type\":\"PanTool\"},{\"attributes\":{\"source\":{\"id\":\"5764\"}},\"id\":\"5768\",\"type\":\"CDSView\"},{\"attributes\":{},\"id\":\"5744\",\"type\":\"WheelZoomTool\"},{\"attributes\":{\"data_source\":{\"id\":\"5764\"},\"glyph\":{\"id\":\"5765\"},\"hover_glyph\":null,\"muted_glyph\":null,\"nonselection_glyph\":{\"id\":\"5766\"},\"selection_glyph\":null,\"view\":{\"id\":\"5768\"}},\"id\":\"5767\",\"type\":\"GlyphRenderer\"},{\"attributes\":{\"overlay\":{\"id\":\"5749\"}},\"id\":\"5745\",\"type\":\"BoxZoomTool\"},{\"attributes\":{\"background_fill_color\":null,\"below\":[{\"id\":\"5735\"}],\"border_fill_color\":null,\"center\":[{\"id\":\"5738\"},{\"id\":\"5742\"}],\"left\":[{\"id\":\"5739\"}],\"outline_line_color\":null,\"plot_height\":400,\"plot_width\":400,\"renderers\":[{\"id\":\"5762\"},{\"id\":\"5767\"}],\"title\":{\"id\":\"5725\"},\"toolbar\":{\"id\":\"5750\"},\"toolbar_location\":null,\"x_range\":{\"id\":\"5727\"},\"x_scale\":{\"id\":\"5731\"},\"y_range\":{\"id\":\"5729\"},\"y_scale\":{\"id\":\"5733\"}},\"id\":\"5724\",\"subtype\":\"Figure\",\"type\":\"Plot\"},{\"attributes\":{},\"id\":\"5770\",\"type\":\"BasicTickFormatter\"},{\"attributes\":{},\"id\":\"5746\",\"type\":\"SaveTool\"},{\"attributes\":{},\"id\":\"5772\",\"type\":\"BasicTickFormatter\"},{\"attributes\":{},\"id\":\"5747\",\"type\":\"ResetTool\"},{\"attributes\":{\"text\":\"\"},\"id\":\"5725\",\"type\":\"Title\"},{\"attributes\":{},\"id\":\"5748\",\"type\":\"HelpTool\"},{\"attributes\":{},\"id\":\"5774\",\"type\":\"UnionRenderers\"},{\"attributes\":{\"end\":116.095,\"start\":-9.095},\"id\":\"5727\",\"type\":\"Range1d\"},{\"attributes\":{},\"id\":\"5775\",\"type\":\"Selection\"},{\"attributes\":{\"active_drag\":\"auto\",\"active_inspect\":\"auto\",\"active_multi\":null,\"active_scroll\":\"auto\",\"active_tap\":\"auto\",\"logo\":null,\"tools\":[{\"id\":\"5743\"},{\"id\":\"5744\"},{\"id\":\"5745\"},{\"id\":\"5746\"},{\"id\":\"5747\"},{\"id\":\"5748\"}]},\"id\":\"5750\",\"type\":\"Toolbar\"},{\"attributes\":{\"end\":50.995,\"start\":-3.995},\"id\":\"5729\",\"type\":\"Range1d\"},{\"attributes\":{\"line_width\":4,\"x\":{\"field\":\"x\"},\"y\":{\"field\":\"y\"}},\"id\":\"5760\",\"type\":\"Line\"},{\"attributes\":{},\"id\":\"5776\",\"type\":\"UnionRenderers\"},{\"attributes\":{},\"id\":\"5731\",\"type\":\"LinearScale\"},{\"attributes\":{},\"id\":\"5733\",\"type\":\"LinearScale\"},{\"attributes\":{},\"id\":\"5777\",\"type\":\"Selection\"},{\"attributes\":{\"formatter\":{\"id\":\"5770\"},\"ticker\":{\"id\":\"5736\"},\"visible\":false},\"id\":\"5735\",\"type\":\"LinearAxis\"}],\"root_ids\":[\"5780\"]},\"title\":\"Bokeh Application\",\"version\":\"2.1.0\"}};\n",
       "  var render_items = [{\"docid\":\"bd0c8a03-d426-46c8-a51e-eef36ec6e8e0\",\"root_ids\":[\"5780\"],\"roots\":{\"5780\":\"6ea1f0ad-198b-469a-b12a-4c81e3ed4bbc\"}}];\n",
       "  root.Bokeh.embed.embed_items_notebook(docs_json, render_items);\n",
       "\n",
       "  }\n",
       "  if (root.Bokeh !== undefined) {\n",
       "    embed_document(root);\n",
       "  } else {\n",
       "    var attempts = 0;\n",
       "    var timer = setInterval(function(root) {\n",
       "      if (root.Bokeh !== undefined) {\n",
       "        clearInterval(timer);\n",
       "        embed_document(root);\n",
       "      } else {\n",
       "        attempts++;\n",
       "        if (attempts > 100) {\n",
       "          clearInterval(timer);\n",
       "          console.log(\"Bokeh: ERROR: Unable to run BokehJS code because BokehJS library is missing\");\n",
       "        }\n",
       "      }\n",
       "    }, 10, root)\n",
       "  }\n",
       "})(window);"
      ],
      "application/vnd.bokehjs_exec.v0+json": ""
     },
     "metadata": {
      "application/vnd.bokehjs_exec.v0+json": {
       "id": "5780"
      }
     },
     "output_type": "display_data"
    }
   ],
   "source": [
    "# Nearest insertion\n",
    "tour = nearest_insertion(G)\n",
    "plot_tour(nodes, G,tour)"
   ]
  },
  {
   "cell_type": "code",
   "execution_count": 34,
   "metadata": {
    "scrolled": false
   },
   "outputs": [
    {
     "data": {
      "text/html": [
       "\n",
       "\n",
       "\n",
       "\n",
       "\n",
       "\n",
       "  <div class=\"bk-root\" id=\"d00ab095-cabd-40d6-ad00-48768933ef6a\" data-root-id=\"6135\"></div>\n"
      ]
     },
     "metadata": {},
     "output_type": "display_data"
    },
    {
     "data": {
      "application/javascript": [
       "(function(root) {\n",
       "  function embed_document(root) {\n",
       "    \n",
       "  var docs_json = {\"1fc74f08-49b0-405e-9e93-ae99239fafa6\":{\"roots\":{\"references\":[{\"attributes\":{\"children\":[[{\"id\":\"6079\"},0,0],[{\"id\":\"6113\"},1,0]]},\"id\":\"6135\",\"type\":\"GridBox\"},{\"attributes\":{\"data\":{\"x\":[0.0,0.0,0.0,0.0,2.0,5.0,5.0,5.0,5.0,5.0,5.0,5.0,8.0,9.0,10.0,11.0,12.0,12.0,15.0,15.0,15.0,15.0,15.0,15.0,15.0,18.0,18.0,18.0,18.0,18.0,18.0,18.0,18.0,18.0,18.0,18.0,18.0,18.0,18.0,18.0,18.0,18.0,18.0,18.0,25.0,25.0,25.0,25.0,25.0,25.0,25.0,25.0,25.0,28.0,28.0,28.0,28.0,28.0,28.0,28.0,28.0,32.0,32.0,33.0,33.0,33.0,33.0,34.0,34.0,34.0,34.0,34.0,34.0,34.0,35.0,35.0,38.0,38.0,38.0,38.0,40.0,41.0,41.0,41.0,41.0,41.0,48.0,48.0,48.0,51.0,51.0,56.0,57.0,57.0,57.0,61.0,61.0,63.0,64.0,71.0,71.0,71.0,71.0,71.0,74.0,74.0,74.0,74.0,74.0,74.0,74.0,74.0,77.0,78.0,78.0,78.0,78.0,79.0,79.0,79.0,80.0,80.0,80.0,81.0,84.0,84.0,84.0,84.0,84.0,84.0,107.0],\"y\":[13.0,26.0,27.0,39.0,0.0,13.0,19.0,25.0,31.0,37.0,43.0,8.0,0.0,10.0,10.0,10.0,10.0,5.0,13.0,19.0,25.0,31.0,37.0,43.0,8.0,11.0,13.0,15.0,17.0,19.0,21.0,23.0,25.0,27.0,29.0,31.0,33.0,35.0,37.0,39.0,41.0,42.0,44.0,45.0,11.0,15.0,22.0,23.0,24.0,26.0,28.0,29.0,9.0,16.0,20.0,28.0,30.0,34.0,40.0,43.0,47.0,26.0,31.0,15.0,26.0,29.0,31.0,15.0,26.0,29.0,31.0,38.0,41.0,5.0,17.0,31.0,16.0,20.0,30.0,34.0,22.0,23.0,32.0,34.0,35.0,36.0,22.0,27.0,6.0,45.0,47.0,25.0,12.0,25.0,44.0,45.0,47.0,6.0,22.0,11.0,13.0,16.0,45.0,47.0,12.0,16.0,20.0,24.0,29.0,35.0,39.0,6.0,21.0,10.0,32.0,35.0,39.0,10.0,33.0,37.0,10.0,41.0,5.0,17.0,20.0,24.0,29.0,34.0,38.0,6.0,27.0]},\"selected\":{\"id\":\"6132\"},\"selection_policy\":{\"id\":\"6131\"}},\"id\":\"6119\",\"type\":\"ColumnDataSource\"},{\"attributes\":{},\"id\":\"6132\",\"type\":\"Selection\"},{\"attributes\":{\"data\":{\"x\":[0.0,5.0,5.0,0.0,0.0,5.0,5.0,0.0,5.0,15.0,18.0,18.0,18.0,18.0,18.0,18.0,15.0,18.0,18.0,15.0,18.0,18.0,18.0,15.0,18.0,18.0,18.0,15.0,18.0,18.0,18.0,25.0,28.0,28.0,25.0,25.0,25.0,25.0,25.0,25.0,28.0,28.0,32.0,33.0,34.0,33.0,34.0,35.0,34.0,33.0,32.0,28.0,28.0,28.0,28.0,34.0,34.0,38.0,38.0,41.0,41.0,41.0,41.0,51.0,51.0,57.0,61.0,61.0,71.0,71.0,74.0,74.0,74.0,78.0,79.0,78.0,79.0,78.0,80.0,84.0,84.0,84.0,107.0,84.0,84.0,81.0,77.0,74.0,74.0,74.0,71.0,71.0,71.0,74.0,78.0,79.0,80.0,84.0,80.0,74.0,63.0,48.0,57.0,64.0,57.0,56.0,48.0,48.0,41.0,40.0,38.0,38.0,35.0,34.0,33.0,34.0,25.0,25.0,18.0,18.0,15.0,15.0,12.0,11.0,10.0,9.0,12.0,8.0,2.0,5.0,5.0,0.0],\"y\":[13.0,19.0,25.0,26.0,27.0,31.0,37.0,39.0,43.0,43.0,45.0,44.0,42.0,41.0,39.0,37.0,37.0,35.0,33.0,31.0,31.0,29.0,27.0,25.0,25.0,23.0,21.0,19.0,19.0,17.0,15.0,15.0,16.0,20.0,22.0,23.0,24.0,26.0,28.0,29.0,30.0,28.0,26.0,26.0,26.0,29.0,29.0,31.0,31.0,31.0,31.0,34.0,40.0,43.0,47.0,41.0,38.0,34.0,30.0,32.0,34.0,35.0,36.0,45.0,47.0,44.0,45.0,47.0,47.0,45.0,39.0,35.0,29.0,32.0,33.0,35.0,37.0,39.0,41.0,38.0,34.0,29.0,27.0,24.0,20.0,17.0,21.0,24.0,20.0,16.0,16.0,13.0,11.0,12.0,10.0,10.0,10.0,6.0,5.0,6.0,6.0,6.0,12.0,22.0,25.0,25.0,27.0,22.0,23.0,22.0,20.0,16.0,17.0,15.0,15.0,5.0,9.0,11.0,11.0,13.0,13.0,8.0,10.0,10.0,10.0,10.0,5.0,0.0,0.0,8.0,13.0,13.0]},\"selected\":{\"id\":\"6130\"},\"selection_policy\":{\"id\":\"6129\"}},\"id\":\"6114\",\"type\":\"ColumnDataSource\"},{\"attributes\":{\"align\":\"center\",\"text\":\"566.4\",\"width\":400},\"id\":\"6113\",\"type\":\"Div\"},{\"attributes\":{\"bottom_units\":\"screen\",\"fill_alpha\":0.5,\"fill_color\":\"lightgrey\",\"left_units\":\"screen\",\"level\":\"overlay\",\"line_alpha\":1.0,\"line_color\":\"black\",\"line_dash\":[4,4],\"line_width\":2,\"right_units\":\"screen\",\"top_units\":\"screen\"},\"id\":\"6104\",\"type\":\"BoxAnnotation\"},{\"attributes\":{\"source\":{\"id\":\"6114\"}},\"id\":\"6118\",\"type\":\"CDSView\"},{\"attributes\":{\"background_fill_color\":null,\"below\":[{\"id\":\"6090\"}],\"border_fill_color\":null,\"center\":[{\"id\":\"6093\"},{\"id\":\"6097\"}],\"left\":[{\"id\":\"6094\"}],\"outline_line_color\":null,\"plot_height\":400,\"plot_width\":400,\"renderers\":[{\"id\":\"6117\"},{\"id\":\"6122\"}],\"title\":{\"id\":\"6080\"},\"toolbar\":{\"id\":\"6105\"},\"toolbar_location\":null,\"x_range\":{\"id\":\"6082\"},\"x_scale\":{\"id\":\"6086\"},\"y_range\":{\"id\":\"6084\"},\"y_scale\":{\"id\":\"6088\"}},\"id\":\"6079\",\"subtype\":\"Figure\",\"type\":\"Plot\"},{\"attributes\":{},\"id\":\"6098\",\"type\":\"PanTool\"},{\"attributes\":{\"data_source\":{\"id\":\"6114\"},\"glyph\":{\"id\":\"6115\"},\"hover_glyph\":null,\"muted_glyph\":null,\"nonselection_glyph\":{\"id\":\"6116\"},\"selection_glyph\":null,\"view\":{\"id\":\"6118\"}},\"id\":\"6117\",\"type\":\"GlyphRenderer\"},{\"attributes\":{\"formatter\":{\"id\":\"6127\"},\"ticker\":{\"id\":\"6095\"},\"visible\":false},\"id\":\"6094\",\"type\":\"LinearAxis\"},{\"attributes\":{},\"id\":\"6099\",\"type\":\"WheelZoomTool\"},{\"attributes\":{\"line_alpha\":0.1,\"line_width\":4,\"x\":{\"field\":\"x\"},\"y\":{\"field\":\"y\"}},\"id\":\"6116\",\"type\":\"Line\"},{\"attributes\":{\"overlay\":{\"id\":\"6104\"}},\"id\":\"6100\",\"type\":\"BoxZoomTool\"},{\"attributes\":{},\"id\":\"6102\",\"type\":\"ResetTool\"},{\"attributes\":{},\"id\":\"6088\",\"type\":\"LinearScale\"},{\"attributes\":{\"end\":50.995,\"start\":-3.995},\"id\":\"6084\",\"type\":\"Range1d\"},{\"attributes\":{},\"id\":\"6101\",\"type\":\"SaveTool\"},{\"attributes\":{\"fill_color\":{\"value\":\"steelblue\"},\"line_color\":{\"value\":\"steelblue\"},\"size\":{\"units\":\"screen\",\"value\":8},\"x\":{\"field\":\"x\"},\"y\":{\"field\":\"y\"}},\"id\":\"6120\",\"type\":\"Circle\"},{\"attributes\":{\"end\":116.095,\"start\":-9.095},\"id\":\"6082\",\"type\":\"Range1d\"},{\"attributes\":{\"line_width\":4,\"x\":{\"field\":\"x\"},\"y\":{\"field\":\"y\"}},\"id\":\"6115\",\"type\":\"Line\"},{\"attributes\":{\"active_drag\":\"auto\",\"active_inspect\":\"auto\",\"active_multi\":null,\"active_scroll\":\"auto\",\"active_tap\":\"auto\",\"logo\":null,\"tools\":[{\"id\":\"6098\"},{\"id\":\"6099\"},{\"id\":\"6100\"},{\"id\":\"6101\"},{\"id\":\"6102\"},{\"id\":\"6103\"}]},\"id\":\"6105\",\"type\":\"Toolbar\"},{\"attributes\":{\"fill_alpha\":{\"value\":0.1},\"fill_color\":{\"value\":\"steelblue\"},\"line_alpha\":{\"value\":0.1},\"line_color\":{\"value\":\"steelblue\"},\"size\":{\"units\":\"screen\",\"value\":8},\"x\":{\"field\":\"x\"},\"y\":{\"field\":\"y\"}},\"id\":\"6121\",\"type\":\"Circle\"},{\"attributes\":{},\"id\":\"6103\",\"type\":\"HelpTool\"},{\"attributes\":{\"source\":{\"id\":\"6119\"}},\"id\":\"6123\",\"type\":\"CDSView\"},{\"attributes\":{\"data_source\":{\"id\":\"6119\"},\"glyph\":{\"id\":\"6120\"},\"hover_glyph\":null,\"muted_glyph\":null,\"nonselection_glyph\":{\"id\":\"6121\"},\"selection_glyph\":null,\"view\":{\"id\":\"6123\"}},\"id\":\"6122\",\"type\":\"GlyphRenderer\"},{\"attributes\":{},\"id\":\"6086\",\"type\":\"LinearScale\"},{\"attributes\":{},\"id\":\"6125\",\"type\":\"BasicTickFormatter\"},{\"attributes\":{\"text\":\"\"},\"id\":\"6080\",\"type\":\"Title\"},{\"attributes\":{},\"id\":\"6127\",\"type\":\"BasicTickFormatter\"},{\"attributes\":{\"axis\":{\"id\":\"6090\"},\"grid_line_color\":null,\"ticker\":null},\"id\":\"6093\",\"type\":\"Grid\"},{\"attributes\":{},\"id\":\"6129\",\"type\":\"UnionRenderers\"},{\"attributes\":{},\"id\":\"6091\",\"type\":\"BasicTicker\"},{\"attributes\":{},\"id\":\"6095\",\"type\":\"BasicTicker\"},{\"attributes\":{},\"id\":\"6130\",\"type\":\"Selection\"},{\"attributes\":{\"formatter\":{\"id\":\"6125\"},\"ticker\":{\"id\":\"6091\"},\"visible\":false},\"id\":\"6090\",\"type\":\"LinearAxis\"},{\"attributes\":{\"axis\":{\"id\":\"6094\"},\"dimension\":1,\"grid_line_color\":null,\"ticker\":null},\"id\":\"6097\",\"type\":\"Grid\"},{\"attributes\":{},\"id\":\"6131\",\"type\":\"UnionRenderers\"}],\"root_ids\":[\"6135\"]},\"title\":\"Bokeh Application\",\"version\":\"2.1.0\"}};\n",
       "  var render_items = [{\"docid\":\"1fc74f08-49b0-405e-9e93-ae99239fafa6\",\"root_ids\":[\"6135\"],\"roots\":{\"6135\":\"d00ab095-cabd-40d6-ad00-48768933ef6a\"}}];\n",
       "  root.Bokeh.embed.embed_items_notebook(docs_json, render_items);\n",
       "\n",
       "  }\n",
       "  if (root.Bokeh !== undefined) {\n",
       "    embed_document(root);\n",
       "  } else {\n",
       "    var attempts = 0;\n",
       "    var timer = setInterval(function(root) {\n",
       "      if (root.Bokeh !== undefined) {\n",
       "        clearInterval(timer);\n",
       "        embed_document(root);\n",
       "      } else {\n",
       "        attempts++;\n",
       "        if (attempts > 100) {\n",
       "          clearInterval(timer);\n",
       "          console.log(\"Bokeh: ERROR: Unable to run BokehJS code because BokehJS library is missing\");\n",
       "        }\n",
       "      }\n",
       "    }, 10, root)\n",
       "  }\n",
       "})(window);"
      ],
      "application/vnd.bokehjs_exec.v0+json": ""
     },
     "metadata": {
      "application/vnd.bokehjs_exec.v0+json": {
       "id": "6135"
      }
     },
     "output_type": "display_data"
    }
   ],
   "source": [
    "# Optimal\n",
    "plot_tour(nodes, G, optimal_tour('xqf131'))"
   ]
  },
  {
   "cell_type": "markdown",
   "metadata": {},
   "source": [
    "**Q22:** What were the following tour costs: nearest neighbor, nearest neighbor + 2-OPT, nearest insertion, and optimal? Which heuristic was closest to the optimal?\n",
    "\n",
    "**A:** <font color='blue'>Will vary. I had 713.9, 608.3, 661.2, and 567.1. Nearest neighbor + 2-OPT  was the closest to optimal. </font>"
   ]
  },
  {
   "cell_type": "markdown",
   "metadata": {},
   "source": [
    "Lastly, let's look at a well cited PCB instance in TSP literature: `pcb442`."
   ]
  },
  {
   "cell_type": "code",
   "execution_count": 35,
   "metadata": {},
   "outputs": [],
   "source": [
    "nodes = pd.read_csv('data/pcb442.csv', index_col=0)\n",
    "G = distance_matrix(nodes, manhattan=False)"
   ]
  },
  {
   "cell_type": "code",
   "execution_count": 36,
   "metadata": {},
   "outputs": [
    {
     "data": {
      "text/html": [
       "\n",
       "\n",
       "\n",
       "\n",
       "\n",
       "\n",
       "  <div class=\"bk-root\" id=\"3e399d65-9960-4b0e-9903-d19f689af79b\" data-root-id=\"6500\"></div>\n"
      ]
     },
     "metadata": {},
     "output_type": "display_data"
    },
    {
     "data": {
      "application/javascript": [
       "(function(root) {\n",
       "  function embed_document(root) {\n",
       "    \n",
       "  var docs_json = {\"1271562d-18ec-45c9-99f3-dc5688200c8e\":{\"roots\":{\"references\":[{\"attributes\":{\"children\":[[{\"id\":\"6444\"},0,0],[{\"id\":\"6478\"},1,0]]},\"id\":\"6500\",\"type\":\"GridBox\"},{\"attributes\":{\"source\":{\"id\":\"6479\"}},\"id\":\"6483\",\"type\":\"CDSView\"},{\"attributes\":{\"formatter\":{\"id\":\"6492\"},\"ticker\":{\"id\":\"6460\"},\"visible\":false},\"id\":\"6459\",\"type\":\"LinearAxis\"},{\"attributes\":{},\"id\":\"6456\",\"type\":\"BasicTicker\"},{\"attributes\":{},\"id\":\"6460\",\"type\":\"BasicTicker\"},{\"attributes\":{\"axis\":{\"id\":\"6455\"},\"grid_line_color\":null,\"ticker\":null},\"id\":\"6458\",\"type\":\"Grid\"},{\"attributes\":{\"data_source\":{\"id\":\"6479\"},\"glyph\":{\"id\":\"6480\"},\"hover_glyph\":null,\"muted_glyph\":null,\"nonselection_glyph\":{\"id\":\"6481\"},\"selection_glyph\":null,\"view\":{\"id\":\"6483\"}},\"id\":\"6482\",\"type\":\"GlyphRenderer\"},{\"attributes\":{\"axis\":{\"id\":\"6459\"},\"dimension\":1,\"grid_line_color\":null,\"ticker\":null},\"id\":\"6462\",\"type\":\"Grid\"},{\"attributes\":{\"formatter\":{\"id\":\"6490\"},\"ticker\":{\"id\":\"6456\"},\"visible\":false},\"id\":\"6455\",\"type\":\"LinearAxis\"},{\"attributes\":{\"data\":{\"x\":[200.0,200.0,200.0,200.0,200.0,200.0,200.0,200.0,200.0,200.0,200.0,200.0,200.0,200.0,200.0,200.0,200.0,200.0,200.0,200.0,200.0,200.0,200.0,200.0,200.0,200.0,200.0,200.0,200.0,200.0,200.0,200.0,200.0,300.0,300.0,300.0,300.0,300.0,300.0,300.0,300.0,300.0,300.0,300.0,300.0,300.0,300.0,300.0,300.0,300.0,300.0,300.0,300.0,300.0,300.0,300.0,300.0,300.0,300.0,300.0,300.0,300.0,300.0,300.0,300.0,400.0,400.0,400.0,400.0,400.0,400.0,400.0,400.0,400.0,400.0,400.0,400.0,400.0,400.0,400.0,400.0,400.0,400.0,400.0,400.0,400.0,400.0,400.0,400.0,400.0,400.0,400.0,400.0,400.0,400.0,400.0,400.0,400.0,500.0,500.0,500.0,600.0,700.0,700.0,700.0,700.0,700.0,700.0,700.0,700.0,700.0,700.0,700.0,800.0,800.0,800.0,800.0,800.0,800.0,800.0,800.0,800.0,800.0,800.0,800.0,900.0,900.0,900.0,900.0,900.0,900.0,900.0,900.0,900.0,900.0,1000.0,1000.0,1000.0,1000.0,1000.0,1000.0,1000.0,1000.0,1000.0,1000.0,1000.0,1000.0,1000.0,1100.0,1100.0,1100.0,1100.0,1100.0,1100.0,1100.0,1100.0,1100.0,1100.0,1100.0,1100.0,1200.0,1200.0,1200.0,1200.0,1200.0,1200.0,1200.0,1200.0,1200.0,1200.0,1200.0,1300.0,1300.0,1300.0,1300.0,1300.0,1300.0,1300.0,1300.0,1300.0,1300.0,1300.0,1300.0,1300.0,1400.0,1400.0,1400.0,1400.0,1400.0,1400.0,1400.0,1400.0,1400.0,1400.0,1400.0,1400.0,1400.0,1400.0,1400.0,1500.0,1500.0,1500.0,1500.0,1500.0,1500.0,1500.0,1500.0,1500.0,1500.0,1500.0,1600.0,1600.0,1600.0,1600.0,1600.0,1600.0,1600.0,1600.0,1600.0,1600.0,1700.0,1700.0,1700.0,1700.0,1700.0,1700.0,1800.0,1800.0,1800.0,1800.0,1800.0,1800.0,1800.0,1900.0,1900.0,1900.0,1900.0,2000.0,2000.0,2000.0,2000.0,2000.0,2000.0,2000.0,2000.0,2000.0,2000.0,2000.0,2000.0,2000.0,2000.0,2000.0,2000.0,2000.0,2000.0,2000.0,2000.0,2000.0,2000.0,2000.0,2000.0,2000.0,2000.0,2000.0,2000.0,2100.0,2100.0,2100.0,2200.0,2200.0,2200.0,2200.0,2300.0,2300.0,2300.0,2400.0,2400.0,2400.0,2500.0,2500.0,2600.0,2600.0,2600.0,2600.0,2600.0,2600.0,2600.0,2600.0,2600.0,2600.0,2600.0,2600.0,2600.0,2600.0,2600.0,2600.0,2600.0,2600.0,2600.0,2600.0,2600.0,2600.0,2600.0,2600.0,2600.0,2600.0,2600.0,2700.0,2700.0,2700.0,2700.0,2700.0,2700.0,2700.0,2700.0,2700.0,2700.0,2700.0,2700.0,2700.0,2700.0,2700.0,2700.0,2700.0,2700.0,2700.0,2700.0,2700.0,2700.0,2700.0,2700.0,2700.0,2700.0,2700.0,2700.0,2700.0,2700.0,2700.0,2800.0,2800.0,2900.0,2900.0,2900.0,2900.0,2900.0,3000.0,3000.0,3000.0,3000.0,3000.0,3000.0,3000.0,3000.0,3000.0,3000.0,3000.0,3000.0,3000.0,3000.0,3000.0,3000.0,3000.0,3000.0,3000.0,3000.0,3000.0,3000.0,3000.0,3000.0,3000.0,3000.0,3000.0,3000.0,3000.0,3000.0,150.0,150.0,469.0,469.0,469.0,540.0,540.0,620.0,620.0,750.0,850.0,850.0,850.0,939.0,950.0,910.0,1050.0,1150.0,1170.0,1220.0,1350.0,1350.0,1350.0,1450.0,1550.0,1550.0,1550.0,1650.0,1690.0,1710.0,1710.0,1750.0,1790.0,1720.0,1790.0,1720.0,1829.0,1829.0,1829.0,2060.0,2050.0,2170.0,2110.0,2120.0,2150.0,2290.0,2220.0,2280.0,2390.0,2320.0,2450.0,2620.0,2750.0,2760.0,2850.0,2850.0,2850.0,2930.0,2950.0,2950.0,520.0,2300.0,2320.0,530.0,2550.0,750.0,0.0],\"y\":[400.0,500.0,600.0,700.0,800.0,900.0,1000.0,1100.0,1200.0,1300.0,1400.0,1500.0,1600.0,1700.0,1800.0,1900.0,2000.0,2100.0,2200.0,2300.0,2400.0,2500.0,2600.0,2700.0,2800.0,2900.0,3000.0,3100.0,3200.0,3300.0,3400.0,3500.0,3600.0,400.0,500.0,600.0,700.0,800.0,900.0,1000.0,1100.0,1200.0,1300.0,1400.0,1500.0,1600.0,1700.0,1800.0,1900.0,2000.0,2100.0,2200.0,2300.0,2400.0,2500.0,2600.0,2700.0,2800.0,2900.0,3000.0,3100.0,3200.0,3300.0,3400.0,3500.0,400.0,500.0,600.0,700.0,800.0,900.0,1000.0,1100.0,1200.0,1300.0,1400.0,1500.0,1600.0,1700.0,1800.0,1900.0,2000.0,2100.0,2200.0,2300.0,2400.0,2500.0,2600.0,2700.0,2800.0,2900.0,3000.0,3100.0,3200.0,3300.0,3400.0,3500.0,3600.0,1500.0,1829.0,3100.0,400.0,300.0,600.0,1500.0,1600.0,1800.0,2100.0,2400.0,2700.0,3000.0,3300.0,3600.0,300.0,600.0,1030.0,1500.0,1800.0,2100.0,2400.0,2600.0,2700.0,3000.0,3300.0,3600.0,300.0,600.0,1500.0,1800.0,2100.0,2400.0,2700.0,3000.0,3300.0,3600.0,300.0,600.0,1100.0,1500.0,1629.0,1800.0,2100.0,2400.0,2600.0,2700.0,3000.0,3300.0,3600.0,300.0,600.0,700.0,900.0,1500.0,1800.0,2100.0,2400.0,2700.0,3000.0,3300.0,3600.0,300.0,600.0,1500.0,1700.0,1800.0,2100.0,2400.0,2700.0,3000.0,3300.0,3600.0,300.0,600.0,700.0,1130.0,1500.0,1800.0,2100.0,2200.0,2400.0,2700.0,3000.0,3300.0,3600.0,300.0,600.0,930.0,1500.0,1800.0,2000.0,2100.0,2400.0,2500.0,2700.0,2820.0,2900.0,3000.0,3300.0,3600.0,1500.0,1800.0,1900.0,2100.0,2400.0,2700.0,2800.0,2860.0,3000.0,3300.0,3600.0,1100.0,1300.0,1500.0,1800.0,2100.0,2400.0,2700.0,3000.0,3300.0,3600.0,1200.0,1500.0,1800.0,2100.0,2400.0,3600.0,300.0,600.0,1230.0,1500.0,1800.0,2100.0,2400.0,300.0,600.0,3000.0,3520.0,300.0,370.0,600.0,800.0,900.0,1000.0,1100.0,1200.0,1300.0,1400.0,1500.0,1600.0,1700.0,1800.0,1900.0,2000.0,2100.0,2200.0,2300.0,2400.0,2500.0,2600.0,2700.0,2800.0,2900.0,3000.0,3100.0,3500.0,300.0,600.0,3200.0,300.0,469.0,600.0,3200.0,300.0,600.0,3400.0,300.0,600.0,2100.0,300.0,800.0,400.0,500.0,800.0,900.0,1000.0,1100.0,1200.0,1300.0,1400.0,1500.0,1600.0,1700.0,1800.0,1900.0,2000.0,2100.0,2200.0,2300.0,2400.0,2500.0,2600.0,2700.0,2800.0,2900.0,3000.0,3100.0,3400.0,700.0,800.0,900.0,1000.0,1100.0,1200.0,1300.0,1400.0,1500.0,1600.0,1700.0,1800.0,1900.0,2000.0,2100.0,2200.0,2300.0,2500.0,2600.0,2700.0,2800.0,2900.0,3000.0,3100.0,3200.0,3300.0,3400.0,3500.0,3600.0,3700.0,3800.0,900.0,1130.0,400.0,500.0,1400.0,2400.0,3000.0,700.0,800.0,900.0,1000.0,1100.0,1200.0,1300.0,1500.0,1600.0,1700.0,1800.0,1900.0,2000.0,2100.0,2200.0,2300.0,2500.0,2600.0,2700.0,2800.0,2900.0,3000.0,3100.0,3200.0,3300.0,3400.0,3500.0,3600.0,3700.0,3800.0,3500.0,3550.0,2550.0,3350.0,3450.0,2330.0,2430.0,3650.0,3709.0,2550.0,520.0,700.0,2280.0,740.0,2220.0,2600.0,1050.0,1350.0,2280.0,2210.0,750.0,1700.0,2140.0,770.0,300.0,500.0,1850.0,1050.0,2680.0,310.0,510.0,750.0,2580.0,2610.0,3330.0,3409.0,2700.0,2800.0,3450.0,1650.0,3150.0,1900.0,2000.0,2750.0,3250.0,1400.0,2820.0,3250.0,1300.0,1500.0,710.0,3650.0,520.0,2360.0,2200.0,2700.0,3350.0,950.0,1750.0,2050.0,3200.0,3500.0,3150.0,2100.0,710.0,490.0,0.0]},\"selected\":{\"id\":\"6497\"},\"selection_policy\":{\"id\":\"6496\"}},\"id\":\"6484\",\"type\":\"ColumnDataSource\"},{\"attributes\":{\"end\":4123.0,\"start\":-323.0},\"id\":\"6449\",\"type\":\"Range1d\"},{\"attributes\":{\"fill_color\":{\"value\":\"steelblue\"},\"line_color\":{\"value\":\"steelblue\"},\"size\":{\"units\":\"screen\",\"value\":8},\"x\":{\"field\":\"x\"},\"y\":{\"field\":\"y\"}},\"id\":\"6485\",\"type\":\"Circle\"},{\"attributes\":{\"align\":\"center\",\"text\":\"57646.7\",\"width\":400},\"id\":\"6478\",\"type\":\"Div\"},{\"attributes\":{\"data\":{\"x\":[200.0,300.0,300.0,400.0,400.0,300.0,200.0,200.0,200.0,300.0,400.0,400.0,400.0,300.0,300.0,200.0,200.0,200.0,200.0,300.0,300.0,400.0,400.0,400.0,400.0,300.0,300.0,200.0,200.0,200.0,300.0,300.0,200.0,200.0,300.0,400.0,400.0,400.0,500.0,700.0,800.0,700.0,500.0,400.0,400.0,400.0,300.0,300.0,200.0,200.0,200.0,200.0,300.0,300.0,400.0,300.0,200.0,200.0,200.0,200.0,200.0,300.0,300.0,400.0,400.0,300.0,300.0,400.0,400.0,530.0,540.0,540.0,700.0,750.0,800.0,800.0,900.0,850.0,950.0,700.0,800.0,900.0,1000.0,1100.0,700.0,800.0,900.0,1000.0,1100.0,1200.0,1200.0,1000.0,900.0,1000.0,1100.0,1150.0,1200.0,1300.0,1400.0,1500.0,1600.0,1700.0,1800.0,2000.0,2000.0,2000.0,2060.0,2000.0,2000.0,2000.0,1800.0,1700.0,1600.0,1550.0,1500.0,1350.0,1300.0,1400.0,1500.0,1400.0,1400.0,1500.0,1600.0,1700.0,1800.0,1700.0,1600.0,1500.0,1400.0,1300.0,1300.0,1350.0,1300.0,1200.0,1220.0,1170.0,1200.0,1100.0,1000.0,1000.0,910.0,900.0,1000.0,1100.0,1200.0,1300.0,1400.0,1400.0,1500.0,1600.0,1500.0,1500.0,1600.0,1500.0,1400.0,1400.0,1400.0,1300.0,1200.0,1100.0,1000.0,900.0,800.0,700.0,800.0,700.0,400.0,400.0,400.0,469.0,400.0,300.0,200.0,300.0,200.0,200.0,200.0,300.0,300.0,400.0,400.0,400.0,300.0,300.0,200.0,200.0,200.0,300.0,300.0,200.0,200.0,200.0,150.0,150.0,200.0,300.0,300.0,400.0,400.0,469.0,400.0,469.0,400.0,400.0,520.0,500.0,700.0,800.0,900.0,700.0,620.0,620.0,800.0,900.0,1000.0,1100.0,1000.0,1100.0,1200.0,1300.0,1200.0,1300.0,1400.0,1500.0,1400.0,1500.0,1600.0,1600.0,1700.0,1720.0,1790.0,1829.0,1900.0,2000.0,2050.0,2100.0,2150.0,2200.0,2320.0,2280.0,2300.0,2300.0,2600.0,2700.0,2700.0,2700.0,2700.0,2700.0,2620.0,2700.0,2700.0,3000.0,3000.0,3000.0,3000.0,3000.0,2850.0,3000.0,3000.0,3000.0,3000.0,2900.0,3000.0,3000.0,3000.0,3000.0,2850.0,2700.0,2700.0,2700.0,2700.0,2700.0,2600.0,2600.0,2600.0,2600.0,2600.0,2220.0,2000.0,2000.0,2000.0,1900.0,1829.0,2000.0,2120.0,2000.0,2000.0,2000.0,1829.0,1690.0,1720.0,1790.0,1800.0,2000.0,2000.0,2000.0,2000.0,2000.0,2110.0,2170.0,2400.0,2600.0,2700.0,2700.0,2700.0,2600.0,2600.0,2600.0,2600.0,2600.0,2600.0,2700.0,2700.0,2700.0,2760.0,2900.0,3000.0,3000.0,2850.0,3000.0,3000.0,2950.0,3000.0,3000.0,3000.0,2950.0,3000.0,3000.0,3000.0,2900.0,2700.0,2700.0,2700.0,2600.0,2600.0,2600.0,2600.0,2700.0,2700.0,2700.0,2700.0,2600.0,2600.0,2600.0,2320.0,2290.0,2390.0,2600.0,2700.0,2700.0,2600.0,2600.0,2700.0,2800.0,3000.0,3000.0,3000.0,3000.0,2930.0,3000.0,3000.0,3000.0,2900.0,2900.0,2750.0,2600.0,2500.0,2400.0,2600.0,2700.0,2700.0,2800.0,2700.0,2600.0,2600.0,2500.0,2550.0,2450.0,2400.0,2300.0,2200.0,2200.0,2300.0,2200.0,2100.0,2000.0,1900.0,2000.0,2100.0,2000.0,1900.0,2000.0,2000.0,2000.0,2000.0,2000.0,2000.0,1800.0,1700.0,1600.0,1650.0,1600.0,1300.0,1400.0,1350.0,1450.0,1750.0,1800.0,1710.0,1550.0,1800.0,1710.0,1550.0,1400.0,1300.0,1200.0,1100.0,1000.0,900.0,1300.0,1400.0,1300.0,1200.0,1100.0,1100.0,1100.0,1050.0,1000.0,800.0,850.0,939.0,1000.0,900.0,850.0,800.0,700.0,750.0,600.0,800.0,700.0,400.0,0.0,200.0],\"y\":[400.0,400.0,500.0,500.0,600.0,600.0,500.0,600.0,700.0,700.0,700.0,800.0,900.0,800.0,900.0,800.0,900.0,1000.0,1100.0,1100.0,1000.0,1000.0,1100.0,1200.0,1300.0,1300.0,1200.0,1200.0,1300.0,1400.0,1400.0,1500.0,1500.0,1600.0,1600.0,1600.0,1500.0,1400.0,1500.0,1500.0,1500.0,1600.0,1829.0,1900.0,1800.0,1700.0,1700.0,1800.0,1700.0,1800.0,1900.0,2000.0,1900.0,2000.0,2000.0,2100.0,2100.0,2200.0,2300.0,2400.0,2500.0,2500.0,2400.0,2400.0,2300.0,2300.0,2200.0,2200.0,2100.0,2100.0,2330.0,2430.0,2400.0,2550.0,2600.0,2400.0,2400.0,2280.0,2220.0,2100.0,2100.0,2100.0,2100.0,2100.0,1800.0,1800.0,1800.0,1800.0,1800.0,1800.0,1700.0,1629.0,1500.0,1500.0,1500.0,1350.0,1500.0,1500.0,1500.0,1500.0,1500.0,1500.0,1500.0,1400.0,1500.0,1600.0,1650.0,1700.0,1800.0,1900.0,1800.0,1800.0,1800.0,1850.0,1800.0,1700.0,1800.0,1800.0,1900.0,2000.0,2100.0,2100.0,2100.0,2100.0,2100.0,2400.0,2400.0,2400.0,2400.0,2400.0,2200.0,2140.0,2100.0,2100.0,2210.0,2280.0,2400.0,2400.0,2400.0,2600.0,2600.0,2700.0,2700.0,2700.0,2700.0,2700.0,2700.0,2500.0,2700.0,2700.0,2800.0,2860.0,3000.0,3000.0,3000.0,2900.0,2820.0,3000.0,3000.0,3000.0,3000.0,3000.0,3000.0,3000.0,2700.0,2700.0,2800.0,2700.0,2600.0,2550.0,2500.0,2600.0,2600.0,2700.0,2700.0,2800.0,2900.0,2900.0,2800.0,2900.0,3000.0,3100.0,3100.0,3000.0,3000.0,3100.0,3200.0,3200.0,3300.0,3300.0,3400.0,3500.0,3500.0,3550.0,3600.0,3500.0,3400.0,3500.0,3600.0,3450.0,3400.0,3350.0,3300.0,3200.0,3200.0,3100.0,3300.0,3300.0,3300.0,3600.0,3650.0,3709.0,3600.0,3600.0,3600.0,3600.0,3300.0,3300.0,3300.0,3300.0,3600.0,3600.0,3600.0,3600.0,3300.0,3300.0,3300.0,3600.0,3600.0,3409.0,3330.0,3450.0,3520.0,3500.0,3150.0,3200.0,3250.0,3200.0,3150.0,3250.0,3400.0,3500.0,3400.0,3200.0,3300.0,3400.0,3500.0,3600.0,3650.0,3700.0,3800.0,3800.0,3700.0,3600.0,3500.0,3400.0,3350.0,3300.0,3200.0,3100.0,3000.0,3000.0,2900.0,2800.0,2700.0,2600.0,2700.0,2700.0,2800.0,2900.0,3000.0,3100.0,3100.0,3000.0,2900.0,2800.0,2700.0,2820.0,2900.0,3000.0,3100.0,3000.0,2800.0,2800.0,2750.0,2700.0,2600.0,2500.0,2700.0,2680.0,2610.0,2580.0,2400.0,2400.0,2300.0,2200.0,2100.0,2000.0,2000.0,1900.0,2100.0,2000.0,2000.0,2100.0,2200.0,2100.0,2200.0,2300.0,2400.0,2500.0,2600.0,2600.0,2500.0,2300.0,2360.0,2400.0,2500.0,2300.0,2200.0,2200.0,2100.0,2050.0,2000.0,1900.0,1800.0,1750.0,1700.0,1600.0,1500.0,1400.0,1700.0,1800.0,1900.0,1900.0,1800.0,1700.0,1600.0,1600.0,1500.0,1400.0,1300.0,1300.0,1400.0,1500.0,1500.0,1400.0,1300.0,1200.0,1200.0,1100.0,1100.0,1000.0,1000.0,1130.0,1300.0,1200.0,1100.0,1000.0,950.0,900.0,800.0,700.0,500.0,400.0,520.0,400.0,300.0,300.0,500.0,700.0,800.0,900.0,900.0,900.0,800.0,800.0,710.0,710.0,600.0,600.0,600.0,469.0,300.0,300.0,300.0,300.0,300.0,370.0,600.0,600.0,600.0,800.0,900.0,1000.0,1100.0,1200.0,1300.0,1230.0,1200.0,1300.0,1050.0,1100.0,1130.0,930.0,750.0,770.0,750.0,600.0,510.0,500.0,300.0,310.0,300.0,300.0,300.0,300.0,300.0,300.0,300.0,700.0,600.0,600.0,600.0,600.0,700.0,900.0,1050.0,1100.0,1030.0,700.0,740.0,600.0,600.0,520.0,600.0,600.0,490.0,400.0,300.0,300.0,400.0,0.0,400.0]},\"selected\":{\"id\":\"6495\"},\"selection_policy\":{\"id\":\"6494\"}},\"id\":\"6479\",\"type\":\"ColumnDataSource\"},{\"attributes\":{\"fill_alpha\":{\"value\":0.1},\"fill_color\":{\"value\":\"steelblue\"},\"line_alpha\":{\"value\":0.1},\"line_color\":{\"value\":\"steelblue\"},\"size\":{\"units\":\"screen\",\"value\":8},\"x\":{\"field\":\"x\"},\"y\":{\"field\":\"y\"}},\"id\":\"6486\",\"type\":\"Circle\"},{\"attributes\":{\"source\":{\"id\":\"6484\"}},\"id\":\"6488\",\"type\":\"CDSView\"},{\"attributes\":{},\"id\":\"6463\",\"type\":\"PanTool\"},{\"attributes\":{},\"id\":\"6464\",\"type\":\"WheelZoomTool\"},{\"attributes\":{\"data_source\":{\"id\":\"6484\"},\"glyph\":{\"id\":\"6485\"},\"hover_glyph\":null,\"muted_glyph\":null,\"nonselection_glyph\":{\"id\":\"6486\"},\"selection_glyph\":null,\"view\":{\"id\":\"6488\"}},\"id\":\"6487\",\"type\":\"GlyphRenderer\"},{\"attributes\":{\"overlay\":{\"id\":\"6469\"}},\"id\":\"6465\",\"type\":\"BoxZoomTool\"},{\"attributes\":{},\"id\":\"6490\",\"type\":\"BasicTickFormatter\"},{\"attributes\":{},\"id\":\"6466\",\"type\":\"SaveTool\"},{\"attributes\":{},\"id\":\"6492\",\"type\":\"BasicTickFormatter\"},{\"attributes\":{\"background_fill_color\":null,\"below\":[{\"id\":\"6455\"}],\"border_fill_color\":null,\"center\":[{\"id\":\"6458\"},{\"id\":\"6462\"}],\"left\":[{\"id\":\"6459\"}],\"outline_line_color\":null,\"plot_height\":400,\"plot_width\":400,\"renderers\":[{\"id\":\"6482\"},{\"id\":\"6487\"}],\"title\":{\"id\":\"6445\"},\"toolbar\":{\"id\":\"6470\"},\"toolbar_location\":null,\"x_range\":{\"id\":\"6447\"},\"x_scale\":{\"id\":\"6451\"},\"y_range\":{\"id\":\"6449\"},\"y_scale\":{\"id\":\"6453\"}},\"id\":\"6444\",\"subtype\":\"Figure\",\"type\":\"Plot\"},{\"attributes\":{},\"id\":\"6467\",\"type\":\"ResetTool\"},{\"attributes\":{},\"id\":\"6494\",\"type\":\"UnionRenderers\"},{\"attributes\":{},\"id\":\"6468\",\"type\":\"HelpTool\"},{\"attributes\":{},\"id\":\"6451\",\"type\":\"LinearScale\"},{\"attributes\":{},\"id\":\"6495\",\"type\":\"Selection\"},{\"attributes\":{},\"id\":\"6496\",\"type\":\"UnionRenderers\"},{\"attributes\":{\"line_width\":4,\"x\":{\"field\":\"x\"},\"y\":{\"field\":\"y\"}},\"id\":\"6480\",\"type\":\"Line\"},{\"attributes\":{\"end\":3255.0,\"start\":-255.00000000000003},\"id\":\"6447\",\"type\":\"Range1d\"},{\"attributes\":{},\"id\":\"6497\",\"type\":\"Selection\"},{\"attributes\":{\"text\":\"\"},\"id\":\"6445\",\"type\":\"Title\"},{\"attributes\":{\"bottom_units\":\"screen\",\"fill_alpha\":0.5,\"fill_color\":\"lightgrey\",\"left_units\":\"screen\",\"level\":\"overlay\",\"line_alpha\":1.0,\"line_color\":\"black\",\"line_dash\":[4,4],\"line_width\":2,\"right_units\":\"screen\",\"top_units\":\"screen\"},\"id\":\"6469\",\"type\":\"BoxAnnotation\"},{\"attributes\":{\"active_drag\":\"auto\",\"active_inspect\":\"auto\",\"active_multi\":null,\"active_scroll\":\"auto\",\"active_tap\":\"auto\",\"logo\":null,\"tools\":[{\"id\":\"6463\"},{\"id\":\"6464\"},{\"id\":\"6465\"},{\"id\":\"6466\"},{\"id\":\"6467\"},{\"id\":\"6468\"}]},\"id\":\"6470\",\"type\":\"Toolbar\"},{\"attributes\":{},\"id\":\"6453\",\"type\":\"LinearScale\"},{\"attributes\":{\"line_alpha\":0.1,\"line_width\":4,\"x\":{\"field\":\"x\"},\"y\":{\"field\":\"y\"}},\"id\":\"6481\",\"type\":\"Line\"}],\"root_ids\":[\"6500\"]},\"title\":\"Bokeh Application\",\"version\":\"2.1.0\"}};\n",
       "  var render_items = [{\"docid\":\"1271562d-18ec-45c9-99f3-dc5688200c8e\",\"root_ids\":[\"6500\"],\"roots\":{\"6500\":\"3e399d65-9960-4b0e-9903-d19f689af79b\"}}];\n",
       "  root.Bokeh.embed.embed_items_notebook(docs_json, render_items);\n",
       "\n",
       "  }\n",
       "  if (root.Bokeh !== undefined) {\n",
       "    embed_document(root);\n",
       "  } else {\n",
       "    var attempts = 0;\n",
       "    var timer = setInterval(function(root) {\n",
       "      if (root.Bokeh !== undefined) {\n",
       "        clearInterval(timer);\n",
       "        embed_document(root);\n",
       "      } else {\n",
       "        attempts++;\n",
       "        if (attempts > 100) {\n",
       "          clearInterval(timer);\n",
       "          console.log(\"Bokeh: ERROR: Unable to run BokehJS code because BokehJS library is missing\");\n",
       "        }\n",
       "      }\n",
       "    }, 10, root)\n",
       "  }\n",
       "})(window);"
      ],
      "application/vnd.bokehjs_exec.v0+json": ""
     },
     "metadata": {
      "application/vnd.bokehjs_exec.v0+json": {
       "id": "6500"
      }
     },
     "output_type": "display_data"
    }
   ],
   "source": [
    "# Furthest insertion\n",
    "tour = furthest_insertion(G, initial=[0,374,0])\n",
    "plot_tour(nodes, G, tour)"
   ]
  },
  {
   "cell_type": "code",
   "execution_count": 37,
   "metadata": {},
   "outputs": [
    {
     "data": {
      "text/html": [
       "\n",
       "\n",
       "\n",
       "\n",
       "\n",
       "\n",
       "  <div class=\"bk-root\" id=\"1dc88e3d-0c4a-4750-9558-6097d1f272fd\" data-root-id=\"6875\"></div>\n"
      ]
     },
     "metadata": {},
     "output_type": "display_data"
    },
    {
     "data": {
      "application/javascript": [
       "(function(root) {\n",
       "  function embed_document(root) {\n",
       "    \n",
       "  var docs_json = {\"b7b22868-1cc5-406a-9f21-b217f001c2c6\":{\"roots\":{\"references\":[{\"attributes\":{\"children\":[[{\"id\":\"6819\"},0,0],[{\"id\":\"6853\"},1,0]]},\"id\":\"6875\",\"type\":\"GridBox\"},{\"attributes\":{\"source\":{\"id\":\"6854\"}},\"id\":\"6858\",\"type\":\"CDSView\"},{\"attributes\":{\"formatter\":{\"id\":\"6867\"},\"ticker\":{\"id\":\"6835\"},\"visible\":false},\"id\":\"6834\",\"type\":\"LinearAxis\"},{\"attributes\":{\"axis\":{\"id\":\"6830\"},\"grid_line_color\":null,\"ticker\":null},\"id\":\"6833\",\"type\":\"Grid\"},{\"attributes\":{},\"id\":\"6835\",\"type\":\"BasicTicker\"},{\"attributes\":{\"data_source\":{\"id\":\"6854\"},\"glyph\":{\"id\":\"6855\"},\"hover_glyph\":null,\"muted_glyph\":null,\"nonselection_glyph\":{\"id\":\"6856\"},\"selection_glyph\":null,\"view\":{\"id\":\"6858\"}},\"id\":\"6857\",\"type\":\"GlyphRenderer\"},{\"attributes\":{\"axis\":{\"id\":\"6834\"},\"dimension\":1,\"grid_line_color\":null,\"ticker\":null},\"id\":\"6837\",\"type\":\"Grid\"},{\"attributes\":{},\"id\":\"6828\",\"type\":\"LinearScale\"},{\"attributes\":{\"fill_color\":{\"value\":\"steelblue\"},\"line_color\":{\"value\":\"steelblue\"},\"size\":{\"units\":\"screen\",\"value\":8},\"x\":{\"field\":\"x\"},\"y\":{\"field\":\"y\"}},\"id\":\"6860\",\"type\":\"Circle\"},{\"attributes\":{\"data\":{\"x\":[200.0,0.0,300.0,400.0,400.0,300.0,300.0,400.0,400.0,400.0,400.0,300.0,300.0,400.0,400.0,400.0,400.0,300.0,300.0,400.0,400.0,500.0,400.0,400.0,400.0,500.0,400.0,300.0,300.0,300.0,300.0,300.0,300.0,400.0,540.0,540.0,400.0,400.0,400.0,400.0,530.0,700.0,800.0,900.0,950.0,1000.0,1100.0,1200.0,1170.0,1220.0,1300.0,1300.0,1350.0,1400.0,1400.0,1500.0,1600.0,1700.0,1800.0,1800.0,1700.0,1600.0,1550.0,1500.0,1500.0,1400.0,1300.0,1350.0,1200.0,1200.0,1100.0,1000.0,900.0,800.0,700.0,700.0,700.0,800.0,900.0,1000.0,1000.0,1100.0,1150.0,1200.0,1300.0,1400.0,1500.0,1600.0,1700.0,1800.0,1600.0,1800.0,1700.0,1650.0,1600.0,1300.0,1400.0,1450.0,1350.0,1300.0,1400.0,1300.0,1200.0,1100.0,1000.0,1100.0,1100.0,1050.0,1000.0,800.0,939.0,850.0,900.0,850.0,800.0,700.0,750.0,600.0,700.0,800.0,900.0,1000.0,1100.0,1200.0,1300.0,1400.0,1550.0,1550.0,1710.0,1710.0,1800.0,1900.0,2000.0,2000.0,2100.0,2200.0,2300.0,2400.0,2500.0,2600.0,2600.0,2750.0,2900.0,2900.0,3000.0,3000.0,3000.0,2930.0,3000.0,3000.0,3000.0,3000.0,2900.0,3000.0,3000.0,3000.0,2950.0,3000.0,3000.0,3000.0,2950.0,3000.0,3000.0,3000.0,2900.0,3000.0,3000.0,2850.0,3000.0,3000.0,3000.0,2900.0,3000.0,3000.0,3000.0,3000.0,2850.0,3000.0,3000.0,3000.0,3000.0,3000.0,2700.0,2700.0,2620.0,2700.0,2700.0,2700.0,2600.0,2700.0,2700.0,2700.0,2600.0,2600.0,2700.0,2700.0,2600.0,2600.0,2700.0,2700.0,2600.0,2600.0,2700.0,2700.0,2600.0,2600.0,2600.0,2700.0,2760.0,2850.0,2700.0,2600.0,2400.0,2600.0,2700.0,2700.0,2600.0,2600.0,2700.0,2700.0,2600.0,2600.0,2700.0,2700.0,2600.0,2600.0,2700.0,2700.0,2600.0,2320.0,2290.0,2390.0,2600.0,2600.0,2700.0,2700.0,2800.0,2700.0,2600.0,2600.0,2700.0,2800.0,2700.0,2600.0,2600.0,2700.0,2700.0,2550.0,2500.0,2450.0,2400.0,2300.0,2200.0,2200.0,2100.0,2000.0,1900.0,1800.0,1750.0,2000.0,2000.0,2000.0,2000.0,2000.0,2000.0,2000.0,2000.0,2000.0,2060.0,2000.0,2000.0,2000.0,2170.0,2110.0,2000.0,2000.0,2000.0,2000.0,2000.0,2000.0,2000.0,2000.0,2120.0,2220.0,2000.0,2000.0,1900.0,2000.0,2000.0,2050.0,2100.0,2150.0,2200.0,2320.0,2280.0,2300.0,2300.0,2000.0,1900.0,1829.0,1790.0,1720.0,1700.0,1600.0,1500.0,1400.0,1300.0,1200.0,1100.0,1000.0,900.0,800.0,700.0,620.0,620.0,400.0,400.0,469.0,400.0,469.0,400.0,400.0,520.0,700.0,800.0,900.0,1000.0,1100.0,1200.0,1300.0,1400.0,1500.0,1600.0,1600.0,1500.0,1500.0,1500.0,1500.0,1600.0,1690.0,1829.0,1829.0,1720.0,1790.0,1800.0,1700.0,1600.0,1500.0,1400.0,1400.0,1300.0,1200.0,1100.0,1000.0,900.0,850.0,800.0,700.0,750.0,800.0,700.0,800.0,900.0,910.0,1000.0,1000.0,1100.0,1200.0,1300.0,1400.0,1400.0,1400.0,1400.0,1300.0,1200.0,1100.0,1000.0,900.0,800.0,700.0,500.0,400.0,300.0,300.0,300.0,300.0,300.0,200.0,150.0,150.0,200.0,200.0,200.0,200.0,200.0,200.0,300.0,400.0,400.0,400.0,300.0,300.0,200.0,200.0,200.0,300.0,400.0,400.0,469.0,400.0,300.0,300.0,200.0,200.0,200.0,200.0,200.0,200.0,200.0,200.0,200.0,300.0,300.0,200.0,200.0,300.0,300.0,200.0,200.0,200.0,200.0,300.0,300.0,200.0,200.0,200.0,200.0,300.0,300.0,200.0,200.0,200.0,200.0],\"y\":[400.0,0.0,400.0,400.0,500.0,500.0,600.0,600.0,700.0,800.0,900.0,900.0,1000.0,1000.0,1100.0,1200.0,1300.0,1300.0,1400.0,1400.0,1500.0,1500.0,1600.0,1700.0,1800.0,1829.0,1900.0,1900.0,2000.0,2100.0,2200.0,2300.0,2400.0,2400.0,2430.0,2330.0,2300.0,2200.0,2100.0,2000.0,2100.0,2100.0,2100.0,2100.0,2220.0,2100.0,2100.0,2100.0,2280.0,2210.0,2200.0,2100.0,2140.0,2100.0,2000.0,2100.0,2100.0,2100.0,2100.0,1800.0,1800.0,1800.0,1850.0,1900.0,1800.0,1800.0,1800.0,1700.0,1700.0,1800.0,1800.0,1800.0,1800.0,1800.0,1800.0,1600.0,1500.0,1500.0,1500.0,1500.0,1629.0,1500.0,1350.0,1500.0,1500.0,1500.0,1500.0,1500.0,1500.0,1500.0,1300.0,1230.0,1200.0,1050.0,1100.0,1130.0,930.0,770.0,750.0,700.0,600.0,600.0,600.0,600.0,600.0,700.0,900.0,1050.0,1100.0,1030.0,740.0,700.0,600.0,520.0,600.0,600.0,490.0,400.0,300.0,300.0,300.0,300.0,300.0,300.0,300.0,300.0,300.0,500.0,510.0,310.0,300.0,300.0,300.0,370.0,300.0,300.0,300.0,300.0,300.0,400.0,500.0,520.0,400.0,500.0,700.0,800.0,900.0,950.0,1000.0,1100.0,1200.0,1300.0,1400.0,1500.0,1600.0,1700.0,1750.0,1800.0,1900.0,2000.0,2050.0,2100.0,2200.0,2300.0,2400.0,2500.0,2600.0,2700.0,2700.0,2800.0,2900.0,3000.0,3000.0,3100.0,3200.0,3300.0,3350.0,3400.0,3500.0,3600.0,3700.0,3800.0,3800.0,3700.0,3650.0,3600.0,3500.0,3400.0,3400.0,3300.0,3200.0,3100.0,3100.0,3000.0,3000.0,2900.0,2900.0,2800.0,2800.0,2700.0,2700.0,2600.0,2600.0,2500.0,2500.0,2400.0,2300.0,2300.0,2360.0,2200.0,2200.0,2200.0,2100.0,2100.0,2100.0,2000.0,2000.0,1900.0,1900.0,1800.0,1800.0,1700.0,1700.0,1600.0,1600.0,1500.0,1500.0,1400.0,1400.0,1500.0,1400.0,1300.0,1200.0,1300.0,1300.0,1200.0,1130.0,1100.0,1100.0,1000.0,1000.0,900.0,900.0,900.0,800.0,800.0,700.0,710.0,800.0,710.0,600.0,600.0,600.0,469.0,600.0,600.0,600.0,600.0,750.0,800.0,900.0,1000.0,1100.0,1200.0,1300.0,1400.0,1500.0,1600.0,1650.0,1700.0,1800.0,1900.0,1900.0,2000.0,2000.0,2100.0,2200.0,2300.0,2400.0,2500.0,2600.0,2700.0,2750.0,2820.0,2800.0,2900.0,3000.0,3000.0,3100.0,3150.0,3200.0,3250.0,3200.0,3150.0,3250.0,3400.0,3500.0,3500.0,3520.0,3450.0,3330.0,3409.0,3600.0,3600.0,3600.0,3600.0,3600.0,3600.0,3600.0,3600.0,3600.0,3600.0,3600.0,3650.0,3709.0,3600.0,3500.0,3450.0,3400.0,3350.0,3300.0,3200.0,3200.0,3300.0,3300.0,3300.0,3300.0,3300.0,3300.0,3300.0,3300.0,3300.0,3300.0,3000.0,3000.0,2860.0,2800.0,2700.0,2700.0,2680.0,2800.0,2700.0,2610.0,2580.0,2400.0,2400.0,2400.0,2400.0,2400.0,2500.0,2400.0,2400.0,2400.0,2400.0,2400.0,2280.0,2400.0,2400.0,2550.0,2600.0,2700.0,2700.0,2700.0,2600.0,2600.0,2700.0,2700.0,2700.0,2700.0,2700.0,2820.0,2900.0,3000.0,3000.0,3000.0,3000.0,3000.0,3000.0,3000.0,3000.0,3100.0,3100.0,3100.0,3200.0,3300.0,3400.0,3500.0,3600.0,3550.0,3500.0,3500.0,3400.0,3300.0,3200.0,3100.0,3000.0,3000.0,3000.0,2900.0,2800.0,2800.0,2900.0,2900.0,2800.0,2700.0,2700.0,2700.0,2600.0,2550.0,2500.0,2500.0,2600.0,2600.0,2500.0,2400.0,2300.0,2200.0,2100.0,2000.0,1900.0,1800.0,1800.0,1700.0,1700.0,1600.0,1600.0,1500.0,1500.0,1400.0,1300.0,1200.0,1200.0,1100.0,1100.0,1000.0,900.0,800.0,800.0,700.0,700.0,600.0,500.0,400.0]},\"selected\":{\"id\":\"6870\"},\"selection_policy\":{\"id\":\"6869\"}},\"id\":\"6854\",\"type\":\"ColumnDataSource\"},{\"attributes\":{\"fill_alpha\":{\"value\":0.1},\"fill_color\":{\"value\":\"steelblue\"},\"line_alpha\":{\"value\":0.1},\"line_color\":{\"value\":\"steelblue\"},\"size\":{\"units\":\"screen\",\"value\":8},\"x\":{\"field\":\"x\"},\"y\":{\"field\":\"y\"}},\"id\":\"6861\",\"type\":\"Circle\"},{\"attributes\":{\"source\":{\"id\":\"6859\"}},\"id\":\"6863\",\"type\":\"CDSView\"},{\"attributes\":{},\"id\":\"6838\",\"type\":\"PanTool\"},{\"attributes\":{\"formatter\":{\"id\":\"6865\"},\"ticker\":{\"id\":\"6831\"},\"visible\":false},\"id\":\"6830\",\"type\":\"LinearAxis\"},{\"attributes\":{\"data_source\":{\"id\":\"6859\"},\"glyph\":{\"id\":\"6860\"},\"hover_glyph\":null,\"muted_glyph\":null,\"nonselection_glyph\":{\"id\":\"6861\"},\"selection_glyph\":null,\"view\":{\"id\":\"6863\"}},\"id\":\"6862\",\"type\":\"GlyphRenderer\"},{\"attributes\":{},\"id\":\"6839\",\"type\":\"WheelZoomTool\"},{\"attributes\":{\"end\":3255.0,\"start\":-255.00000000000003},\"id\":\"6822\",\"type\":\"Range1d\"},{\"attributes\":{},\"id\":\"6826\",\"type\":\"LinearScale\"},{\"attributes\":{},\"id\":\"6865\",\"type\":\"BasicTickFormatter\"},{\"attributes\":{\"overlay\":{\"id\":\"6844\"}},\"id\":\"6840\",\"type\":\"BoxZoomTool\"},{\"attributes\":{\"end\":4123.0,\"start\":-323.0},\"id\":\"6824\",\"type\":\"Range1d\"},{\"attributes\":{},\"id\":\"6867\",\"type\":\"BasicTickFormatter\"},{\"attributes\":{},\"id\":\"6841\",\"type\":\"SaveTool\"},{\"attributes\":{},\"id\":\"6870\",\"type\":\"Selection\"},{\"attributes\":{},\"id\":\"6842\",\"type\":\"ResetTool\"},{\"attributes\":{},\"id\":\"6843\",\"type\":\"HelpTool\"},{\"attributes\":{\"line_width\":4,\"x\":{\"field\":\"x\"},\"y\":{\"field\":\"y\"}},\"id\":\"6855\",\"type\":\"Line\"},{\"attributes\":{},\"id\":\"6872\",\"type\":\"Selection\"},{\"attributes\":{},\"id\":\"6869\",\"type\":\"UnionRenderers\"},{\"attributes\":{\"align\":\"center\",\"text\":\"50783.5\",\"width\":400},\"id\":\"6853\",\"type\":\"Div\"},{\"attributes\":{},\"id\":\"6871\",\"type\":\"UnionRenderers\"},{\"attributes\":{\"text\":\"\"},\"id\":\"6820\",\"type\":\"Title\"},{\"attributes\":{},\"id\":\"6831\",\"type\":\"BasicTicker\"},{\"attributes\":{\"bottom_units\":\"screen\",\"fill_alpha\":0.5,\"fill_color\":\"lightgrey\",\"left_units\":\"screen\",\"level\":\"overlay\",\"line_alpha\":1.0,\"line_color\":\"black\",\"line_dash\":[4,4],\"line_width\":2,\"right_units\":\"screen\",\"top_units\":\"screen\"},\"id\":\"6844\",\"type\":\"BoxAnnotation\"},{\"attributes\":{\"data\":{\"x\":[200.0,200.0,200.0,200.0,200.0,200.0,200.0,200.0,200.0,200.0,200.0,200.0,200.0,200.0,200.0,200.0,200.0,200.0,200.0,200.0,200.0,200.0,200.0,200.0,200.0,200.0,200.0,200.0,200.0,200.0,200.0,200.0,200.0,300.0,300.0,300.0,300.0,300.0,300.0,300.0,300.0,300.0,300.0,300.0,300.0,300.0,300.0,300.0,300.0,300.0,300.0,300.0,300.0,300.0,300.0,300.0,300.0,300.0,300.0,300.0,300.0,300.0,300.0,300.0,300.0,400.0,400.0,400.0,400.0,400.0,400.0,400.0,400.0,400.0,400.0,400.0,400.0,400.0,400.0,400.0,400.0,400.0,400.0,400.0,400.0,400.0,400.0,400.0,400.0,400.0,400.0,400.0,400.0,400.0,400.0,400.0,400.0,400.0,500.0,500.0,500.0,600.0,700.0,700.0,700.0,700.0,700.0,700.0,700.0,700.0,700.0,700.0,700.0,800.0,800.0,800.0,800.0,800.0,800.0,800.0,800.0,800.0,800.0,800.0,800.0,900.0,900.0,900.0,900.0,900.0,900.0,900.0,900.0,900.0,900.0,1000.0,1000.0,1000.0,1000.0,1000.0,1000.0,1000.0,1000.0,1000.0,1000.0,1000.0,1000.0,1000.0,1100.0,1100.0,1100.0,1100.0,1100.0,1100.0,1100.0,1100.0,1100.0,1100.0,1100.0,1100.0,1200.0,1200.0,1200.0,1200.0,1200.0,1200.0,1200.0,1200.0,1200.0,1200.0,1200.0,1300.0,1300.0,1300.0,1300.0,1300.0,1300.0,1300.0,1300.0,1300.0,1300.0,1300.0,1300.0,1300.0,1400.0,1400.0,1400.0,1400.0,1400.0,1400.0,1400.0,1400.0,1400.0,1400.0,1400.0,1400.0,1400.0,1400.0,1400.0,1500.0,1500.0,1500.0,1500.0,1500.0,1500.0,1500.0,1500.0,1500.0,1500.0,1500.0,1600.0,1600.0,1600.0,1600.0,1600.0,1600.0,1600.0,1600.0,1600.0,1600.0,1700.0,1700.0,1700.0,1700.0,1700.0,1700.0,1800.0,1800.0,1800.0,1800.0,1800.0,1800.0,1800.0,1900.0,1900.0,1900.0,1900.0,2000.0,2000.0,2000.0,2000.0,2000.0,2000.0,2000.0,2000.0,2000.0,2000.0,2000.0,2000.0,2000.0,2000.0,2000.0,2000.0,2000.0,2000.0,2000.0,2000.0,2000.0,2000.0,2000.0,2000.0,2000.0,2000.0,2000.0,2000.0,2100.0,2100.0,2100.0,2200.0,2200.0,2200.0,2200.0,2300.0,2300.0,2300.0,2400.0,2400.0,2400.0,2500.0,2500.0,2600.0,2600.0,2600.0,2600.0,2600.0,2600.0,2600.0,2600.0,2600.0,2600.0,2600.0,2600.0,2600.0,2600.0,2600.0,2600.0,2600.0,2600.0,2600.0,2600.0,2600.0,2600.0,2600.0,2600.0,2600.0,2600.0,2600.0,2700.0,2700.0,2700.0,2700.0,2700.0,2700.0,2700.0,2700.0,2700.0,2700.0,2700.0,2700.0,2700.0,2700.0,2700.0,2700.0,2700.0,2700.0,2700.0,2700.0,2700.0,2700.0,2700.0,2700.0,2700.0,2700.0,2700.0,2700.0,2700.0,2700.0,2700.0,2800.0,2800.0,2900.0,2900.0,2900.0,2900.0,2900.0,3000.0,3000.0,3000.0,3000.0,3000.0,3000.0,3000.0,3000.0,3000.0,3000.0,3000.0,3000.0,3000.0,3000.0,3000.0,3000.0,3000.0,3000.0,3000.0,3000.0,3000.0,3000.0,3000.0,3000.0,3000.0,3000.0,3000.0,3000.0,3000.0,3000.0,150.0,150.0,469.0,469.0,469.0,540.0,540.0,620.0,620.0,750.0,850.0,850.0,850.0,939.0,950.0,910.0,1050.0,1150.0,1170.0,1220.0,1350.0,1350.0,1350.0,1450.0,1550.0,1550.0,1550.0,1650.0,1690.0,1710.0,1710.0,1750.0,1790.0,1720.0,1790.0,1720.0,1829.0,1829.0,1829.0,2060.0,2050.0,2170.0,2110.0,2120.0,2150.0,2290.0,2220.0,2280.0,2390.0,2320.0,2450.0,2620.0,2750.0,2760.0,2850.0,2850.0,2850.0,2930.0,2950.0,2950.0,520.0,2300.0,2320.0,530.0,2550.0,750.0,0.0],\"y\":[400.0,500.0,600.0,700.0,800.0,900.0,1000.0,1100.0,1200.0,1300.0,1400.0,1500.0,1600.0,1700.0,1800.0,1900.0,2000.0,2100.0,2200.0,2300.0,2400.0,2500.0,2600.0,2700.0,2800.0,2900.0,3000.0,3100.0,3200.0,3300.0,3400.0,3500.0,3600.0,400.0,500.0,600.0,700.0,800.0,900.0,1000.0,1100.0,1200.0,1300.0,1400.0,1500.0,1600.0,1700.0,1800.0,1900.0,2000.0,2100.0,2200.0,2300.0,2400.0,2500.0,2600.0,2700.0,2800.0,2900.0,3000.0,3100.0,3200.0,3300.0,3400.0,3500.0,400.0,500.0,600.0,700.0,800.0,900.0,1000.0,1100.0,1200.0,1300.0,1400.0,1500.0,1600.0,1700.0,1800.0,1900.0,2000.0,2100.0,2200.0,2300.0,2400.0,2500.0,2600.0,2700.0,2800.0,2900.0,3000.0,3100.0,3200.0,3300.0,3400.0,3500.0,3600.0,1500.0,1829.0,3100.0,400.0,300.0,600.0,1500.0,1600.0,1800.0,2100.0,2400.0,2700.0,3000.0,3300.0,3600.0,300.0,600.0,1030.0,1500.0,1800.0,2100.0,2400.0,2600.0,2700.0,3000.0,3300.0,3600.0,300.0,600.0,1500.0,1800.0,2100.0,2400.0,2700.0,3000.0,3300.0,3600.0,300.0,600.0,1100.0,1500.0,1629.0,1800.0,2100.0,2400.0,2600.0,2700.0,3000.0,3300.0,3600.0,300.0,600.0,700.0,900.0,1500.0,1800.0,2100.0,2400.0,2700.0,3000.0,3300.0,3600.0,300.0,600.0,1500.0,1700.0,1800.0,2100.0,2400.0,2700.0,3000.0,3300.0,3600.0,300.0,600.0,700.0,1130.0,1500.0,1800.0,2100.0,2200.0,2400.0,2700.0,3000.0,3300.0,3600.0,300.0,600.0,930.0,1500.0,1800.0,2000.0,2100.0,2400.0,2500.0,2700.0,2820.0,2900.0,3000.0,3300.0,3600.0,1500.0,1800.0,1900.0,2100.0,2400.0,2700.0,2800.0,2860.0,3000.0,3300.0,3600.0,1100.0,1300.0,1500.0,1800.0,2100.0,2400.0,2700.0,3000.0,3300.0,3600.0,1200.0,1500.0,1800.0,2100.0,2400.0,3600.0,300.0,600.0,1230.0,1500.0,1800.0,2100.0,2400.0,300.0,600.0,3000.0,3520.0,300.0,370.0,600.0,800.0,900.0,1000.0,1100.0,1200.0,1300.0,1400.0,1500.0,1600.0,1700.0,1800.0,1900.0,2000.0,2100.0,2200.0,2300.0,2400.0,2500.0,2600.0,2700.0,2800.0,2900.0,3000.0,3100.0,3500.0,300.0,600.0,3200.0,300.0,469.0,600.0,3200.0,300.0,600.0,3400.0,300.0,600.0,2100.0,300.0,800.0,400.0,500.0,800.0,900.0,1000.0,1100.0,1200.0,1300.0,1400.0,1500.0,1600.0,1700.0,1800.0,1900.0,2000.0,2100.0,2200.0,2300.0,2400.0,2500.0,2600.0,2700.0,2800.0,2900.0,3000.0,3100.0,3400.0,700.0,800.0,900.0,1000.0,1100.0,1200.0,1300.0,1400.0,1500.0,1600.0,1700.0,1800.0,1900.0,2000.0,2100.0,2200.0,2300.0,2500.0,2600.0,2700.0,2800.0,2900.0,3000.0,3100.0,3200.0,3300.0,3400.0,3500.0,3600.0,3700.0,3800.0,900.0,1130.0,400.0,500.0,1400.0,2400.0,3000.0,700.0,800.0,900.0,1000.0,1100.0,1200.0,1300.0,1500.0,1600.0,1700.0,1800.0,1900.0,2000.0,2100.0,2200.0,2300.0,2500.0,2600.0,2700.0,2800.0,2900.0,3000.0,3100.0,3200.0,3300.0,3400.0,3500.0,3600.0,3700.0,3800.0,3500.0,3550.0,2550.0,3350.0,3450.0,2330.0,2430.0,3650.0,3709.0,2550.0,520.0,700.0,2280.0,740.0,2220.0,2600.0,1050.0,1350.0,2280.0,2210.0,750.0,1700.0,2140.0,770.0,300.0,500.0,1850.0,1050.0,2680.0,310.0,510.0,750.0,2580.0,2610.0,3330.0,3409.0,2700.0,2800.0,3450.0,1650.0,3150.0,1900.0,2000.0,2750.0,3250.0,1400.0,2820.0,3250.0,1300.0,1500.0,710.0,3650.0,520.0,2360.0,2200.0,2700.0,3350.0,950.0,1750.0,2050.0,3200.0,3500.0,3150.0,2100.0,710.0,490.0,0.0]},\"selected\":{\"id\":\"6872\"},\"selection_policy\":{\"id\":\"6871\"}},\"id\":\"6859\",\"type\":\"ColumnDataSource\"},{\"attributes\":{\"background_fill_color\":null,\"below\":[{\"id\":\"6830\"}],\"border_fill_color\":null,\"center\":[{\"id\":\"6833\"},{\"id\":\"6837\"}],\"left\":[{\"id\":\"6834\"}],\"outline_line_color\":null,\"plot_height\":400,\"plot_width\":400,\"renderers\":[{\"id\":\"6857\"},{\"id\":\"6862\"}],\"title\":{\"id\":\"6820\"},\"toolbar\":{\"id\":\"6845\"},\"toolbar_location\":null,\"x_range\":{\"id\":\"6822\"},\"x_scale\":{\"id\":\"6826\"},\"y_range\":{\"id\":\"6824\"},\"y_scale\":{\"id\":\"6828\"}},\"id\":\"6819\",\"subtype\":\"Figure\",\"type\":\"Plot\"},{\"attributes\":{\"active_drag\":\"auto\",\"active_inspect\":\"auto\",\"active_multi\":null,\"active_scroll\":\"auto\",\"active_tap\":\"auto\",\"logo\":null,\"tools\":[{\"id\":\"6838\"},{\"id\":\"6839\"},{\"id\":\"6840\"},{\"id\":\"6841\"},{\"id\":\"6842\"},{\"id\":\"6843\"}]},\"id\":\"6845\",\"type\":\"Toolbar\"},{\"attributes\":{\"line_alpha\":0.1,\"line_width\":4,\"x\":{\"field\":\"x\"},\"y\":{\"field\":\"y\"}},\"id\":\"6856\",\"type\":\"Line\"}],\"root_ids\":[\"6875\"]},\"title\":\"Bokeh Application\",\"version\":\"2.1.0\"}};\n",
       "  var render_items = [{\"docid\":\"b7b22868-1cc5-406a-9f21-b217f001c2c6\",\"root_ids\":[\"6875\"],\"roots\":{\"6875\":\"1dc88e3d-0c4a-4750-9558-6097d1f272fd\"}}];\n",
       "  root.Bokeh.embed.embed_items_notebook(docs_json, render_items);\n",
       "\n",
       "  }\n",
       "  if (root.Bokeh !== undefined) {\n",
       "    embed_document(root);\n",
       "  } else {\n",
       "    var attempts = 0;\n",
       "    var timer = setInterval(function(root) {\n",
       "      if (root.Bokeh !== undefined) {\n",
       "        clearInterval(timer);\n",
       "        embed_document(root);\n",
       "      } else {\n",
       "        attempts++;\n",
       "        if (attempts > 100) {\n",
       "          clearInterval(timer);\n",
       "          console.log(\"Bokeh: ERROR: Unable to run BokehJS code because BokehJS library is missing\");\n",
       "        }\n",
       "      }\n",
       "    }, 10, root)\n",
       "  }\n",
       "})(window);"
      ],
      "application/vnd.bokehjs_exec.v0+json": ""
     },
     "metadata": {
      "application/vnd.bokehjs_exec.v0+json": {
       "id": "6875"
      }
     },
     "output_type": "display_data"
    }
   ],
   "source": [
    "# Optimal\n",
    "plot_tour(nodes, G, optimal_tour('pcb442'))"
   ]
  },
  {
   "cell_type": "markdown",
   "metadata": {},
   "source": [
    "## Part V: TSP Application: PCB Etching"
   ]
  },
  {
   "cell_type": "markdown",
   "metadata": {},
   "source": [
    "In this final part, we will continue to think about TSP applications arising in PCB manufacturing. We will introduce two added complications. \n",
    "\n",
    "First, in **Part IV**, we ignored a crucial part of the problem: where does the drill bit start? The drill bit must start and end in the same location. It is not good enough to just provide a tour of the holes to be drilled."
   ]
  },
  {
   "cell_type": "markdown",
   "metadata": {},
   "source": [
    "**Q23:** If we just consider a tour of the holes, we miss two distances that must be travelled. What are they?\n",
    "\n",
    "**A:** <font color='blue'>The distance from the start position to the first hole drilled and the distance from the last hole drilled back to the start position.</font>"
   ]
  },
  {
   "cell_type": "markdown",
   "metadata": {},
   "source": [
    "Let's assume the start position of the drill is in the bottom left at $(0,0)$ and all of the holes to be drilled are at positions $(x,y)$ for $x,y > 0$"
   ]
  },
  {
   "cell_type": "markdown",
   "metadata": {},
   "source": [
    "**Q24:** How can we adjust our TSP input to account for this? (Hint: how do the set of nodes change and what are the distances between them?)\n",
    "\n",
    "**A:** <font color='blue'>We introduce an additional node for the start position. The distances between the start position and holes is still just the euclidian distance.</font>"
   ]
  },
  {
   "cell_type": "markdown",
   "metadata": {},
   "source": [
    "If you look back at `pcb442`, you can see that the bottom left node actually represents the drill start location not a hole that needs to be drilled!"
   ]
  },
  {
   "cell_type": "markdown",
   "metadata": {},
   "source": [
    "Let's add the final complication. Suppose, instead of drilling holes, we need to make a series of etchings in the boards. Each etching has a starting location and an ending location. Hence, once the etching machine arrives at a starting location, it must make the etching and go to the corresponding ending location immediately. Below, we have an example of an etching instance. The bottom-left node represents the starting location for the etching machine. Each etching segment has a blue start location and a red end location."
   ]
  },
  {
   "cell_type": "code",
   "execution_count": 38,
   "metadata": {},
   "outputs": [
    {
     "data": {
      "text/html": [
       "\n",
       "\n",
       "\n",
       "\n",
       "\n",
       "\n",
       "  <div class=\"bk-root\" id=\"39c9cb79-5c02-447f-a098-751d3bf3532e\" data-root-id=\"7274\"></div>\n"
      ]
     },
     "metadata": {},
     "output_type": "display_data"
    },
    {
     "data": {
      "application/javascript": [
       "(function(root) {\n",
       "  function embed_document(root) {\n",
       "    \n",
       "  var docs_json = {\"62637013-1169-46fe-b9d1-186d75eeeecc\":{\"roots\":{\"references\":[{\"attributes\":{\"children\":[[{\"id\":\"7204\"},0,0],[{\"id\":\"7238\"},1,0]]},\"id\":\"7274\",\"type\":\"GridBox\"},{\"attributes\":{},\"id\":\"7266\",\"type\":\"UnionRenderers\"},{\"attributes\":{},\"id\":\"7265\",\"type\":\"Selection\"},{\"attributes\":{\"data\":{\"xs\":[[3.0,3.0],[3.0,1.0],[3.0,6.0],[3.0,3.0],[5.0,5.0],[8.0,6.0],[8.0,12.0],[8.0,4.0],[8.0,12.0],[8.0,6.0],[8.0,12.0],[8.0,6.0],[11.0,11.0],[12.0,12.0],[13.0,13.0],[14.0,14.0],[15.0,15.0],[15.0,19.0],[18.0,18.0],[18.0,18.0],[18.0,14.0],[18.0,18.0],[18.0,14.0],[18.0,18.0],[18.0,21.0],[13.0,17.0],[21.0,23.0],[21.0,18.0],[21.0,23.0],[21.0,23.0],[21.0,23.0],[21.0,19.0],[21.0,19.0],[21.0,24.0],[21.0,24.0],[21.0,24.0],[21.0,25.0],[21.0,23.0],[21.0,23.0],[21.0,25.0],[21.0,18.0],[21.0,25.0],[21.0,17.0],[21.0,25.0],[28.0,30.0],[28.0,32.0],[28.0,26.0],[28.0,26.0],[28.0,32.0],[28.0,26.0],[28.0,26.0],[28.0,30.0],[28.0,25.0],[31.0,27.0],[31.0,27.0],[31.0,34.0],[31.0,27.0],[31.0,29.0],[31.0,28.0],[31.0,28.0],[31.0,33.0],[35.0,35.0],[35.0,32.0],[36.0,36.0],[36.0,36.0],[36.0,33.0],[36.0,36.0],[37.0,37.0],[37.0,42.0],[37.0,40.0],[37.0,37.0],[37.0,34.0],[37.0,39.0],[37.0,33.0],[38.0,36.0],[38.0,38.0],[41.0,38.0],[41.0,43.0],[41.0,39.0],[41.0,41.0],[43.0,45.0],[44.0,47.0],[44.0,47.0],[44.0,42.0],[44.0,47.0],[44.0,46.0],[51.0,51.0],[51.0,53.0],[51.0,51.0],[54.0,51.0],[54.0,58.0],[59.0,59.0],[60.0,62.0],[60.0,60.0],[60.0,60.0],[64.0,62.0],[64.0,68.0],[66.0,62.0],[67.0,67.0],[74.0,70.0],[74.0,72.0],[74.0,70.0],[74.0,71.0],[74.0,78.0],[77.0,74.0],[77.0,82.0],[77.0,80.0],[77.0,81.0],[77.0,79.0],[77.0,73.0],[77.0,74.0],[77.0,73.0],[80.0,76.0],[81.0,81.0],[81.0,78.0],[81.0,79.0],[81.0,78.0],[82.0,82.0],[82.0,85.0],[82.0,80.0],[83.0,85.0],[83.0,83.0],[83.0,81.0],[84.0,84.0],[87.0,87.0],[87.0,90.0],[87.0,89.0],[87.0,87.0],[87.0,91.0],[87.0,87.0],[110.0,110.0],[3.0,3.0],[0.0,0.0]],\"ys\":[[16.0,13.0],[29.0,29.0],[30.0,30.0],[42.0,39.0],[3.0,1.0],[16.0,16.0],[22.0,22.0],[28.0,28.0],[34.0,34.0],[40.0,40.0],[46.0,46.0],[11.0,11.0],[3.0,7.0],[13.0,10.0],[13.0,15.0],[13.0,16.0],[13.0,16.0],[8.0,8.0],[16.0,13.0],[22.0,24.0],[28.0,28.0],[34.0,31.0],[40.0,40.0],[48.0,50.0],[11.0,11.0],[20.0,20.0],[16.0,16.0],[18.0,18.0],[20.0,20.0],[22.0,22.0],[24.0,24.0],[26.0,26.0],[28.0,28.0],[30.0,30.0],[32.0,32.0],[34.0,34.0],[36.0,36.0],[38.0,38.0],[40.0,40.0],[42.0,42.0],[44.0,44.0],[45.0,45.0],[47.0,47.0],[48.0,48.0],[14.0,14.0],[18.0,18.0],[25.0,25.0],[26.0,26.0],[27.0,27.0],[29.0,29.0],[31.0,31.0],[32.0,32.0],[12.0,12.0],[19.0,19.0],[23.0,23.0],[31.0,31.0],[33.0,33.0],[37.0,37.0],[43.0,43.0],[46.0,46.0],[50.0,50.0],[29.0,27.0],[34.0,34.0],[18.0,16.0],[29.0,31.0],[32.0,32.0],[34.0,37.0],[18.0,13.0],[29.0,29.0],[32.0,32.0],[34.0,38.0],[41.0,41.0],[44.0,44.0],[8.0,8.0],[20.0,20.0],[34.0,36.0],[19.0,19.0],[23.0,23.0],[33.0,33.0],[37.0,41.0],[25.0,25.0],[26.0,26.0],[35.0,35.0],[37.0,37.0],[38.0,38.0],[39.0,39.0],[25.0,27.0],[30.0,30.0],[9.0,13.0],[48.0,48.0],[50.0,50.0],[28.0,24.0],[15.0,15.0],[28.0,30.0],[47.0,43.0],[48.0,48.0],[50.0,50.0],[9.0,9.0],[25.0,28.0],[14.0,14.0],[16.0,16.0],[19.0,19.0],[48.0,48.0],[50.0,50.0],[15.0,15.0],[19.0,19.0],[23.0,23.0],[27.0,27.0],[32.0,32.0],[38.0,38.0],[42.0,42.0],[9.0,9.0],[24.0,24.0],[13.0,9.0],[35.0,35.0],[38.0,38.0],[42.0,42.0],[13.0,17.0],[36.0,36.0],[40.0,40.0],[13.0,13.0],[44.0,40.0],[8.0,8.0],[20.0,22.0],[23.0,25.0],[27.0,27.0],[32.0,32.0],[37.0,40.0],[41.0,41.0],[9.0,13.0],[30.0,32.0],[3.0,3.0],[0.0,0.0]]},\"selected\":{\"id\":\"7265\"},\"selection_policy\":{\"id\":\"7264\"}},\"id\":\"7239\",\"type\":\"ColumnDataSource\"},{\"attributes\":{\"data_source\":{\"id\":\"7244\"},\"glyph\":{\"id\":\"7245\"},\"hover_glyph\":null,\"muted_glyph\":null,\"nonselection_glyph\":{\"id\":\"7246\"},\"selection_glyph\":null,\"view\":{\"id\":\"7248\"}},\"id\":\"7247\",\"type\":\"GlyphRenderer\"},{\"attributes\":{},\"id\":\"7267\",\"type\":\"Selection\"},{\"attributes\":{\"text\":\"\"},\"id\":\"7205\",\"type\":\"Title\"},{\"attributes\":{\"align\":\"center\",\"text\":\"0\",\"width\":800},\"id\":\"7238\",\"type\":\"Div\"},{\"attributes\":{\"source\":{\"id\":\"7244\"}},\"id\":\"7248\",\"type\":\"CDSView\"},{\"attributes\":{},\"id\":\"7268\",\"type\":\"UnionRenderers\"},{\"attributes\":{},\"id\":\"7223\",\"type\":\"PanTool\"},{\"attributes\":{\"data\":{\"x\":[3.0,3.0,3.0,3.0,5.0,8.0,8.0,8.0,8.0,8.0,8.0,8.0,11.0,12.0,13.0,14.0,15.0,15.0,18.0,18.0,18.0,18.0,18.0,18.0,18.0,13.0,21.0,21.0,21.0,21.0,21.0,21.0,21.0,21.0,21.0,21.0,21.0,21.0,21.0,21.0,21.0,21.0,21.0,21.0,28.0,28.0,28.0,28.0,28.0,28.0,28.0,28.0,28.0,31.0,31.0,31.0,31.0,31.0,31.0,31.0,31.0,35.0,35.0,36.0,36.0,36.0,36.0,37.0,37.0,37.0,37.0,37.0,37.0,37.0,38.0,38.0,41.0,41.0,41.0,41.0,43.0,44.0,44.0,44.0,44.0,44.0,51.0,51.0,51.0,54.0,54.0,59.0,60.0,60.0,60.0,64.0,64.0,66.0,67.0,74.0,74.0,74.0,74.0,74.0,77.0,77.0,77.0,77.0,77.0,77.0,77.0,77.0,80.0,81.0,81.0,81.0,81.0,82.0,82.0,82.0,83.0,83.0,83.0,84.0,87.0,87.0,87.0,87.0,87.0,87.0,110.0,3.0,0.0],\"y\":[16.0,29.0,30.0,42.0,3.0,16.0,22.0,28.0,34.0,40.0,46.0,11.0,3.0,13.0,13.0,13.0,13.0,8.0,16.0,22.0,28.0,34.0,40.0,48.0,11.0,20.0,16.0,18.0,20.0,22.0,24.0,26.0,28.0,30.0,32.0,34.0,36.0,38.0,40.0,42.0,44.0,45.0,47.0,48.0,14.0,18.0,25.0,26.0,27.0,29.0,31.0,32.0,12.0,19.0,23.0,31.0,33.0,37.0,43.0,46.0,50.0,29.0,34.0,18.0,29.0,32.0,34.0,18.0,29.0,32.0,34.0,41.0,44.0,8.0,20.0,34.0,19.0,23.0,33.0,37.0,25.0,26.0,35.0,37.0,38.0,39.0,25.0,30.0,9.0,48.0,50.0,28.0,15.0,28.0,47.0,48.0,50.0,9.0,25.0,14.0,16.0,19.0,48.0,50.0,15.0,19.0,23.0,27.0,32.0,38.0,42.0,9.0,24.0,13.0,35.0,38.0,42.0,13.0,36.0,40.0,13.0,44.0,8.0,20.0,23.0,27.0,32.0,37.0,41.0,9.0,30.0,3.0,0.0]},\"selected\":{\"id\":\"7269\"},\"selection_policy\":{\"id\":\"7268\"}},\"id\":\"7249\",\"type\":\"ColumnDataSource\"},{\"attributes\":{},\"id\":\"7269\",\"type\":\"Selection\"},{\"attributes\":{\"background_fill_color\":null,\"below\":[{\"id\":\"7215\"}],\"border_fill_color\":null,\"center\":[{\"id\":\"7218\"},{\"id\":\"7222\"}],\"left\":[{\"id\":\"7219\"}],\"outline_line_color\":null,\"plot_height\":400,\"plot_width\":800,\"renderers\":[{\"id\":\"7242\"},{\"id\":\"7247\"},{\"id\":\"7252\"},{\"id\":\"7257\"}],\"title\":{\"id\":\"7205\"},\"toolbar\":{\"id\":\"7230\"},\"toolbar_location\":null,\"x_range\":{\"id\":\"7207\"},\"x_scale\":{\"id\":\"7211\"},\"y_range\":{\"id\":\"7209\"},\"y_scale\":{\"id\":\"7213\"}},\"id\":\"7204\",\"subtype\":\"Figure\",\"type\":\"Plot\"},{\"attributes\":{\"line_alpha\":0.1,\"line_dash\":[6],\"line_width\":2,\"x\":{\"field\":\"x\"},\"y\":{\"field\":\"y\"}},\"id\":\"7246\",\"type\":\"Line\"},{\"attributes\":{},\"id\":\"7224\",\"type\":\"WheelZoomTool\"},{\"attributes\":{},\"id\":\"7270\",\"type\":\"UnionRenderers\"},{\"attributes\":{\"data\":{\"x\":[3,1,6,3,5,6,12,4,12,6,12,6,11,12,13,14,15,19,18,18,14,18,14,18,21,17,23,18,23,23,23,19,19,24,24,24,25,23,23,25,18,25,17,25,30,32,26,26,32,26,26,30,25,27,27,34,27,29,28,28,33,35,32,36,36,33,36,37,42,40,37,34,39,33,36,38,38,43,39,41,45,47,47,42,47,46,51,53,51,51,58,59,62,60,60,62,68,62,67,70,72,70,71,78,74,82,80,81,79,73,74,73,76,81,78,79,78,82,85,80,85,83,81,84,87,90,89,87,91,87,110,3,0],\"y\":[13,29,30,39,1,16,22,28,34,40,46,11,7,10,15,16,16,8,13,24,28,31,40,50,11,20,16,18,20,22,24,26,28,30,32,34,36,38,40,42,44,45,47,48,14,18,25,26,27,29,31,32,12,19,23,31,33,37,43,46,50,27,34,16,31,32,37,13,29,32,38,41,44,8,20,36,19,23,33,41,25,26,35,37,38,39,27,30,13,48,50,24,15,30,43,48,50,9,28,14,16,19,48,50,15,19,23,27,32,38,42,9,24,9,35,38,42,17,36,40,13,40,8,22,25,27,32,40,41,13,32,3,0]},\"selected\":{\"id\":\"7271\"},\"selection_policy\":{\"id\":\"7270\"}},\"id\":\"7254\",\"type\":\"ColumnDataSource\"},{\"attributes\":{\"overlay\":{\"id\":\"7229\"}},\"id\":\"7225\",\"type\":\"BoxZoomTool\"},{\"attributes\":{},\"id\":\"7271\",\"type\":\"Selection\"},{\"attributes\":{},\"id\":\"7211\",\"type\":\"LinearScale\"},{\"attributes\":{\"fill_color\":{\"value\":\"steelblue\"},\"line_color\":{\"value\":\"steelblue\"},\"size\":{\"units\":\"screen\",\"value\":5},\"x\":{\"field\":\"x\"},\"y\":{\"field\":\"y\"}},\"id\":\"7250\",\"type\":\"Circle\"},{\"attributes\":{},\"id\":\"7226\",\"type\":\"SaveTool\"},{\"attributes\":{\"fill_alpha\":{\"value\":0.1},\"fill_color\":{\"value\":\"steelblue\"},\"line_alpha\":{\"value\":0.1},\"line_color\":{\"value\":\"steelblue\"},\"size\":{\"units\":\"screen\",\"value\":5},\"x\":{\"field\":\"x\"},\"y\":{\"field\":\"y\"}},\"id\":\"7251\",\"type\":\"Circle\"},{\"attributes\":{},\"id\":\"7227\",\"type\":\"ResetTool\"},{\"attributes\":{\"source\":{\"id\":\"7249\"}},\"id\":\"7253\",\"type\":\"CDSView\"},{\"attributes\":{\"end\":119.35,\"start\":-9.350000000000001},\"id\":\"7207\",\"type\":\"Range1d\"},{\"attributes\":{},\"id\":\"7228\",\"type\":\"HelpTool\"},{\"attributes\":{\"data_source\":{\"id\":\"7249\"},\"glyph\":{\"id\":\"7250\"},\"hover_glyph\":null,\"muted_glyph\":null,\"nonselection_glyph\":{\"id\":\"7251\"},\"selection_glyph\":null,\"view\":{\"id\":\"7253\"}},\"id\":\"7252\",\"type\":\"GlyphRenderer\"},{\"attributes\":{\"end\":54.25,\"start\":-4.25},\"id\":\"7209\",\"type\":\"Range1d\"},{\"attributes\":{\"line_width\":{\"value\":2},\"xs\":{\"field\":\"xs\"},\"ys\":{\"field\":\"ys\"}},\"id\":\"7240\",\"type\":\"MultiLine\"},{\"attributes\":{\"data\":{\"x\":[],\"y\":[]},\"selected\":{\"id\":\"7267\"},\"selection_policy\":{\"id\":\"7266\"}},\"id\":\"7244\",\"type\":\"ColumnDataSource\"},{\"attributes\":{\"fill_color\":{\"value\":\"#DC0000\"},\"line_color\":{\"value\":\"#DC0000\"},\"size\":{\"units\":\"screen\",\"value\":5},\"x\":{\"field\":\"x\"},\"y\":{\"field\":\"y\"}},\"id\":\"7255\",\"type\":\"Circle\"},{\"attributes\":{},\"id\":\"7213\",\"type\":\"LinearScale\"},{\"attributes\":{\"fill_alpha\":{\"value\":0.1},\"fill_color\":{\"value\":\"#DC0000\"},\"line_alpha\":{\"value\":0.1},\"line_color\":{\"value\":\"#DC0000\"},\"size\":{\"units\":\"screen\",\"value\":5},\"x\":{\"field\":\"x\"},\"y\":{\"field\":\"y\"}},\"id\":\"7256\",\"type\":\"Circle\"},{\"attributes\":{\"active_drag\":\"auto\",\"active_inspect\":\"auto\",\"active_multi\":null,\"active_scroll\":\"auto\",\"active_tap\":\"auto\",\"logo\":null,\"tools\":[{\"id\":\"7223\"},{\"id\":\"7224\"},{\"id\":\"7225\"},{\"id\":\"7226\"},{\"id\":\"7227\"},{\"id\":\"7228\"}]},\"id\":\"7230\",\"type\":\"Toolbar\"},{\"attributes\":{\"source\":{\"id\":\"7254\"}},\"id\":\"7258\",\"type\":\"CDSView\"},{\"attributes\":{\"formatter\":{\"id\":\"7260\"},\"ticker\":{\"id\":\"7216\"},\"visible\":false},\"id\":\"7215\",\"type\":\"LinearAxis\"},{\"attributes\":{\"bottom_units\":\"screen\",\"fill_alpha\":0.5,\"fill_color\":\"lightgrey\",\"left_units\":\"screen\",\"level\":\"overlay\",\"line_alpha\":1.0,\"line_color\":\"black\",\"line_dash\":[4,4],\"line_width\":2,\"right_units\":\"screen\",\"top_units\":\"screen\"},\"id\":\"7229\",\"type\":\"BoxAnnotation\"},{\"attributes\":{\"line_alpha\":{\"value\":0.1},\"line_width\":{\"value\":2},\"xs\":{\"field\":\"xs\"},\"ys\":{\"field\":\"ys\"}},\"id\":\"7241\",\"type\":\"MultiLine\"},{\"attributes\":{\"data_source\":{\"id\":\"7254\"},\"glyph\":{\"id\":\"7255\"},\"hover_glyph\":null,\"muted_glyph\":null,\"nonselection_glyph\":{\"id\":\"7256\"},\"selection_glyph\":null,\"view\":{\"id\":\"7258\"}},\"id\":\"7257\",\"type\":\"GlyphRenderer\"},{\"attributes\":{},\"id\":\"7216\",\"type\":\"BasicTicker\"},{\"attributes\":{},\"id\":\"7264\",\"type\":\"UnionRenderers\"},{\"attributes\":{\"source\":{\"id\":\"7239\"}},\"id\":\"7243\",\"type\":\"CDSView\"},{\"attributes\":{\"axis\":{\"id\":\"7215\"},\"grid_line_color\":null,\"ticker\":null},\"id\":\"7218\",\"type\":\"Grid\"},{\"attributes\":{},\"id\":\"7260\",\"type\":\"BasicTickFormatter\"},{\"attributes\":{\"formatter\":{\"id\":\"7262\"},\"ticker\":{\"id\":\"7220\"},\"visible\":false},\"id\":\"7219\",\"type\":\"LinearAxis\"},{\"attributes\":{},\"id\":\"7262\",\"type\":\"BasicTickFormatter\"},{\"attributes\":{\"data_source\":{\"id\":\"7239\"},\"glyph\":{\"id\":\"7240\"},\"hover_glyph\":null,\"muted_glyph\":null,\"nonselection_glyph\":{\"id\":\"7241\"},\"selection_glyph\":null,\"view\":{\"id\":\"7243\"}},\"id\":\"7242\",\"type\":\"GlyphRenderer\"},{\"attributes\":{},\"id\":\"7220\",\"type\":\"BasicTicker\"},{\"attributes\":{\"line_dash\":[6],\"line_width\":2,\"x\":{\"field\":\"x\"},\"y\":{\"field\":\"y\"}},\"id\":\"7245\",\"type\":\"Line\"},{\"attributes\":{\"axis\":{\"id\":\"7219\"},\"dimension\":1,\"grid_line_color\":null,\"ticker\":null},\"id\":\"7222\",\"type\":\"Grid\"}],\"root_ids\":[\"7274\"]},\"title\":\"Bokeh Application\",\"version\":\"2.1.0\"}};\n",
       "  var render_items = [{\"docid\":\"62637013-1169-46fe-b9d1-186d75eeeecc\",\"root_ids\":[\"7274\"],\"roots\":{\"7274\":\"39c9cb79-5c02-447f-a098-751d3bf3532e\"}}];\n",
       "  root.Bokeh.embed.embed_items_notebook(docs_json, render_items);\n",
       "\n",
       "  }\n",
       "  if (root.Bokeh !== undefined) {\n",
       "    embed_document(root);\n",
       "  } else {\n",
       "    var attempts = 0;\n",
       "    var timer = setInterval(function(root) {\n",
       "      if (root.Bokeh !== undefined) {\n",
       "        clearInterval(timer);\n",
       "        embed_document(root);\n",
       "      } else {\n",
       "        attempts++;\n",
       "        if (attempts > 100) {\n",
       "          clearInterval(timer);\n",
       "          console.log(\"Bokeh: ERROR: Unable to run BokehJS code because BokehJS library is missing\");\n",
       "        }\n",
       "      }\n",
       "    }, 10, root)\n",
       "  }\n",
       "})(window);"
      ],
      "application/vnd.bokehjs_exec.v0+json": ""
     },
     "metadata": {
      "application/vnd.bokehjs_exec.v0+json": {
       "id": "7274"
      }
     },
     "output_type": "display_data"
    }
   ],
   "source": [
    "nodes = pd.read_csv('data/xqf131_etching.csv', index_col=0)\n",
    "G = distance_matrix(nodes, manhattan=False, etching=True)\n",
    "plot_etching_tour(nodes,G, [])"
   ]
  },
  {
   "cell_type": "markdown",
   "metadata": {},
   "source": [
    "**Q25:** What are the \"nodes\" in the PCB etching problem? (Hint: Don't forget about the starting location of the etching machine.)\n",
    "\n",
    "**A:** <font color='blue'> Each etching (a combination of a starting and ending location) is a node. The final node is an etching with the same starting and ending location.</font>"
   ]
  },
  {
   "cell_type": "markdown",
   "metadata": {},
   "source": [
    "*Ask a TA if you are struggling with **Q25**. Once you get that, the next questions will become clearer!*"
   ]
  },
  {
   "cell_type": "markdown",
   "metadata": {},
   "source": [
    "**Q26:** What is the distance between two \"nodes\" in the PCB etching problem? (Assume the drill can travel in a straight line between two locations).\n",
    "\n",
    "**A:** <font color='blue'> The distance between node $i$ and node $j$ is the distance from the ending location of node $i$ to the starting location of node $j$.</font>"
   ]
  },
  {
   "cell_type": "markdown",
   "metadata": {},
   "source": [
    "**Q27:** Our past TSP examples have been *symmetric* in that the distance from node $i$ to node $j$ was the same as the distance from node $j$ to node $i$. Is the TSP input for a PCB etching problem symmetric? Why or why not?\n",
    "\n",
    "**A:** <font color='blue'> No. The distance from the end of $i$ to the start of $j$ may be different than the distance from the end of $j$ to the start of $i$</font>"
   ]
  },
  {
   "cell_type": "markdown",
   "metadata": {},
   "source": [
    "Again, we find we can still use the TSP to solve this new problem! Let's start by applying some of our TSP heuristics. When printing the solution, the dashed lines indicate when the etching machine is moving between etchings. "
   ]
  },
  {
   "cell_type": "code",
   "execution_count": 39,
   "metadata": {},
   "outputs": [
    {
     "data": {
      "text/html": [
       "\n",
       "\n",
       "\n",
       "\n",
       "\n",
       "\n",
       "  <div class=\"bk-root\" id=\"34ff278c-b6f9-47da-ad9a-83b3369700e3\" data-root-id=\"7711\"></div>\n"
      ]
     },
     "metadata": {},
     "output_type": "display_data"
    },
    {
     "data": {
      "application/javascript": [
       "(function(root) {\n",
       "  function embed_document(root) {\n",
       "    \n",
       "  var docs_json = {\"b876c5e8-d4ff-4cbb-86fe-ed89565398dd\":{\"roots\":{\"references\":[{\"attributes\":{\"children\":[[{\"id\":\"7641\"},0,0],[{\"id\":\"7675\"},1,0]]},\"id\":\"7711\",\"type\":\"GridBox\"},{\"attributes\":{},\"id\":\"7661\",\"type\":\"WheelZoomTool\"},{\"attributes\":{\"data_source\":{\"id\":\"7681\"},\"glyph\":{\"id\":\"7682\"},\"hover_glyph\":null,\"muted_glyph\":null,\"nonselection_glyph\":{\"id\":\"7683\"},\"selection_glyph\":null,\"view\":{\"id\":\"7685\"}},\"id\":\"7684\",\"type\":\"GlyphRenderer\"},{\"attributes\":{\"overlay\":{\"id\":\"7666\"}},\"id\":\"7662\",\"type\":\"BoxZoomTool\"},{\"attributes\":{\"source\":{\"id\":\"7691\"}},\"id\":\"7695\",\"type\":\"CDSView\"},{\"attributes\":{\"fill_color\":{\"value\":\"#DC0000\"},\"line_color\":{\"value\":\"#DC0000\"},\"size\":{\"units\":\"screen\",\"value\":5},\"x\":{\"field\":\"x\"},\"y\":{\"field\":\"y\"}},\"id\":\"7692\",\"type\":\"Circle\"},{\"attributes\":{},\"id\":\"7663\",\"type\":\"SaveTool\"},{\"attributes\":{\"fill_color\":{\"value\":\"steelblue\"},\"line_color\":{\"value\":\"steelblue\"},\"size\":{\"units\":\"screen\",\"value\":5},\"x\":{\"field\":\"x\"},\"y\":{\"field\":\"y\"}},\"id\":\"7687\",\"type\":\"Circle\"},{\"attributes\":{\"data_source\":{\"id\":\"7686\"},\"glyph\":{\"id\":\"7687\"},\"hover_glyph\":null,\"muted_glyph\":null,\"nonselection_glyph\":{\"id\":\"7688\"},\"selection_glyph\":null,\"view\":{\"id\":\"7690\"}},\"id\":\"7689\",\"type\":\"GlyphRenderer\"},{\"attributes\":{},\"id\":\"7664\",\"type\":\"ResetTool\"},{\"attributes\":{},\"id\":\"7665\",\"type\":\"HelpTool\"},{\"attributes\":{\"fill_alpha\":{\"value\":0.1},\"fill_color\":{\"value\":\"#DC0000\"},\"line_alpha\":{\"value\":0.1},\"line_color\":{\"value\":\"#DC0000\"},\"size\":{\"units\":\"screen\",\"value\":5},\"x\":{\"field\":\"x\"},\"y\":{\"field\":\"y\"}},\"id\":\"7693\",\"type\":\"Circle\"},{\"attributes\":{\"data\":{\"x\":[3.0,3.0,8.0,6.0,13.0,13.0,14.0,14.0,15.0,15.0,18.0,18.0,21.0,18.0,21.0,23.0,21.0,23.0,21.0,23.0,21.0,19.0,21.0,19.0,21.0,24.0,18.0,18.0,8.0,12.0,3.0,6.0,8.0,4.0,18.0,14.0,18.0,18.0,13.0,17.0,8.0,12.0,3.0,1.0,3.0,3.0,8.0,6.0,18.0,14.0,21.0,18.0,21.0,25.0,21.0,17.0,21.0,25.0,18.0,18.0,8.0,12.0,21.0,23.0,21.0,23.0,21.0,25.0,21.0,24.0,21.0,24.0,28.0,26.0,28.0,30.0,31.0,27.0,35.0,32.0,36.0,33.0,36.0,36.0,35.0,35.0,31.0,34.0,28.0,32.0,28.0,26.0,28.0,26.0,31.0,27.0,28.0,32.0,31.0,27.0,28.0,30.0,28.0,25.0,37.0,33.0,37.0,37.0,41.0,38.0,41.0,43.0,43.0,45.0,37.0,42.0,37.0,40.0,41.0,39.0,44.0,42.0,44.0,46.0,44.0,47.0,44.0,47.0,38.0,38.0,36.0,36.0,37.0,37.0,37.0,34.0,37.0,39.0,41.0,41.0,31.0,29.0,31.0,28.0,31.0,28.0,31.0,33.0,21.0,25.0,28.0,26.0,38.0,36.0,36.0,36.0,21.0,23.0,18.0,21.0,15.0,19.0,12.0,12.0,11.0,11.0,5.0,5.0,3.0,3.0,0.0,0.0,8.0,6.0,44.0,47.0,51.0,51.0,51.0,53.0,60.0,60.0,59.0,59.0,67.0,67.0,74.0,70.0,74.0,72.0,77.0,74.0,82.0,82.0,83.0,85.0,87.0,87.0,81.0,81.0,83.0,81.0,77.0,73.0,74.0,70.0,77.0,82.0,77.0,80.0,80.0,76.0,77.0,81.0,77.0,79.0,81.0,78.0,81.0,79.0,82.0,80.0,83.0,83.0,81.0,78.0,87.0,87.0,82.0,85.0,87.0,89.0,87.0,90.0,87.0,87.0,84.0,84.0,77.0,73.0,77.0,74.0,74.0,78.0,74.0,71.0,64.0,68.0,64.0,62.0,54.0,58.0,54.0,51.0,60.0,60.0,87.0,91.0,110.0,110.0,60.0,62.0,66.0,62.0,51.0,51.0,3.0,3.0],\"y\":[16.0,13.0,16.0,16.0,13.0,15.0,13.0,16.0,13.0,16.0,16.0,13.0,18.0,18.0,20.0,20.0,22.0,22.0,24.0,24.0,26.0,26.0,28.0,28.0,30.0,30.0,34.0,31.0,34.0,34.0,30.0,30.0,28.0,28.0,28.0,28.0,22.0,24.0,20.0,20.0,22.0,22.0,29.0,29.0,42.0,39.0,40.0,40.0,40.0,40.0,44.0,44.0,45.0,45.0,47.0,47.0,48.0,48.0,48.0,50.0,46.0,46.0,40.0,40.0,38.0,38.0,36.0,36.0,34.0,34.0,32.0,32.0,31.0,31.0,32.0,32.0,33.0,33.0,34.0,34.0,32.0,32.0,29.0,31.0,29.0,27.0,31.0,31.0,27.0,27.0,26.0,26.0,25.0,25.0,23.0,23.0,18.0,18.0,19.0,19.0,14.0,14.0,12.0,12.0,8.0,8.0,18.0,13.0,19.0,19.0,23.0,23.0,25.0,25.0,29.0,29.0,32.0,32.0,33.0,33.0,37.0,37.0,39.0,39.0,38.0,38.0,35.0,35.0,34.0,36.0,34.0,37.0,34.0,38.0,41.0,41.0,44.0,44.0,37.0,41.0,37.0,37.0,43.0,43.0,46.0,46.0,50.0,50.0,42.0,42.0,29.0,29.0,20.0,20.0,18.0,16.0,16.0,16.0,11.0,11.0,8.0,8.0,13.0,10.0,3.0,7.0,3.0,1.0,3.0,3.0,0.0,0.0,11.0,11.0,26.0,26.0,25.0,27.0,30.0,30.0,28.0,30.0,28.0,24.0,25.0,28.0,19.0,19.0,16.0,16.0,15.0,15.0,13.0,17.0,13.0,13.0,9.0,13.0,13.0,9.0,8.0,8.0,9.0,9.0,14.0,14.0,19.0,19.0,23.0,23.0,24.0,24.0,27.0,27.0,32.0,32.0,35.0,35.0,38.0,38.0,40.0,40.0,44.0,40.0,42.0,42.0,37.0,40.0,36.0,36.0,32.0,32.0,27.0,27.0,23.0,25.0,20.0,22.0,38.0,38.0,42.0,42.0,50.0,50.0,48.0,48.0,50.0,50.0,48.0,48.0,50.0,50.0,48.0,48.0,47.0,43.0,41.0,41.0,30.0,32.0,15.0,15.0,9.0,9.0,9.0,13.0,16.0,13.0]},\"selected\":{\"id\":\"7704\"},\"selection_policy\":{\"id\":\"7703\"}},\"id\":\"7681\",\"type\":\"ColumnDataSource\"},{\"attributes\":{\"data\":{\"x\":[3,1,6,3,5,6,12,4,12,6,12,6,11,12,13,14,15,19,18,18,14,18,14,18,21,17,23,18,23,23,23,19,19,24,24,24,25,23,23,25,18,25,17,25,30,32,26,26,32,26,26,30,25,27,27,34,27,29,28,28,33,35,32,36,36,33,36,37,42,40,37,34,39,33,36,38,38,43,39,41,45,47,47,42,47,46,51,53,51,51,58,59,62,60,60,62,68,62,67,70,72,70,71,78,74,82,80,81,79,73,74,73,76,81,78,79,78,82,85,80,85,83,81,84,87,90,89,87,91,87,110,3,0],\"y\":[13,29,30,39,1,16,22,28,34,40,46,11,7,10,15,16,16,8,13,24,28,31,40,50,11,20,16,18,20,22,24,26,28,30,32,34,36,38,40,42,44,45,47,48,14,18,25,26,27,29,31,32,12,19,23,31,33,37,43,46,50,27,34,16,31,32,37,13,29,32,38,41,44,8,20,36,19,23,33,41,25,26,35,37,38,39,27,30,13,48,50,24,15,30,43,48,50,9,28,14,16,19,48,50,15,19,23,27,32,38,42,9,24,9,35,38,42,17,36,40,13,40,8,22,25,27,32,40,41,13,32,3,0]},\"selected\":{\"id\":\"7708\"},\"selection_policy\":{\"id\":\"7707\"}},\"id\":\"7691\",\"type\":\"ColumnDataSource\"},{\"attributes\":{\"data_source\":{\"id\":\"7691\"},\"glyph\":{\"id\":\"7692\"},\"hover_glyph\":null,\"muted_glyph\":null,\"nonselection_glyph\":{\"id\":\"7693\"},\"selection_glyph\":null,\"view\":{\"id\":\"7695\"}},\"id\":\"7694\",\"type\":\"GlyphRenderer\"},{\"attributes\":{},\"id\":\"7708\",\"type\":\"Selection\"},{\"attributes\":{},\"id\":\"7653\",\"type\":\"BasicTicker\"},{\"attributes\":{\"source\":{\"id\":\"7686\"}},\"id\":\"7690\",\"type\":\"CDSView\"},{\"attributes\":{},\"id\":\"7697\",\"type\":\"BasicTickFormatter\"},{\"attributes\":{},\"id\":\"7650\",\"type\":\"LinearScale\"},{\"attributes\":{},\"id\":\"7699\",\"type\":\"BasicTickFormatter\"},{\"attributes\":{\"bottom_units\":\"screen\",\"fill_alpha\":0.5,\"fill_color\":\"lightgrey\",\"left_units\":\"screen\",\"level\":\"overlay\",\"line_alpha\":1.0,\"line_color\":\"black\",\"line_dash\":[4,4],\"line_width\":2,\"right_units\":\"screen\",\"top_units\":\"screen\"},\"id\":\"7666\",\"type\":\"BoxAnnotation\"},{\"attributes\":{},\"id\":\"7701\",\"type\":\"UnionRenderers\"},{\"attributes\":{\"active_drag\":\"auto\",\"active_inspect\":\"auto\",\"active_multi\":null,\"active_scroll\":\"auto\",\"active_tap\":\"auto\",\"logo\":null,\"tools\":[{\"id\":\"7660\"},{\"id\":\"7661\"},{\"id\":\"7662\"},{\"id\":\"7663\"},{\"id\":\"7664\"},{\"id\":\"7665\"}]},\"id\":\"7667\",\"type\":\"Toolbar\"},{\"attributes\":{\"source\":{\"id\":\"7676\"}},\"id\":\"7680\",\"type\":\"CDSView\"},{\"attributes\":{\"line_width\":{\"value\":2},\"xs\":{\"field\":\"xs\"},\"ys\":{\"field\":\"ys\"}},\"id\":\"7677\",\"type\":\"MultiLine\"},{\"attributes\":{},\"id\":\"7702\",\"type\":\"Selection\"},{\"attributes\":{\"text\":\"\"},\"id\":\"7642\",\"type\":\"Title\"},{\"attributes\":{\"data_source\":{\"id\":\"7676\"},\"glyph\":{\"id\":\"7677\"},\"hover_glyph\":null,\"muted_glyph\":null,\"nonselection_glyph\":{\"id\":\"7678\"},\"selection_glyph\":null,\"view\":{\"id\":\"7680\"}},\"id\":\"7679\",\"type\":\"GlyphRenderer\"},{\"attributes\":{\"align\":\"center\",\"text\":\"836.9\",\"width\":800},\"id\":\"7675\",\"type\":\"Div\"},{\"attributes\":{},\"id\":\"7703\",\"type\":\"UnionRenderers\"},{\"attributes\":{\"fill_alpha\":{\"value\":0.1},\"fill_color\":{\"value\":\"steelblue\"},\"line_alpha\":{\"value\":0.1},\"line_color\":{\"value\":\"steelblue\"},\"size\":{\"units\":\"screen\",\"value\":5},\"x\":{\"field\":\"x\"},\"y\":{\"field\":\"y\"}},\"id\":\"7688\",\"type\":\"Circle\"},{\"attributes\":{\"data\":{\"xs\":[[3.0,3.0],[3.0,1.0],[3.0,6.0],[3.0,3.0],[5.0,5.0],[8.0,6.0],[8.0,12.0],[8.0,4.0],[8.0,12.0],[8.0,6.0],[8.0,12.0],[8.0,6.0],[11.0,11.0],[12.0,12.0],[13.0,13.0],[14.0,14.0],[15.0,15.0],[15.0,19.0],[18.0,18.0],[18.0,18.0],[18.0,14.0],[18.0,18.0],[18.0,14.0],[18.0,18.0],[18.0,21.0],[13.0,17.0],[21.0,23.0],[21.0,18.0],[21.0,23.0],[21.0,23.0],[21.0,23.0],[21.0,19.0],[21.0,19.0],[21.0,24.0],[21.0,24.0],[21.0,24.0],[21.0,25.0],[21.0,23.0],[21.0,23.0],[21.0,25.0],[21.0,18.0],[21.0,25.0],[21.0,17.0],[21.0,25.0],[28.0,30.0],[28.0,32.0],[28.0,26.0],[28.0,26.0],[28.0,32.0],[28.0,26.0],[28.0,26.0],[28.0,30.0],[28.0,25.0],[31.0,27.0],[31.0,27.0],[31.0,34.0],[31.0,27.0],[31.0,29.0],[31.0,28.0],[31.0,28.0],[31.0,33.0],[35.0,35.0],[35.0,32.0],[36.0,36.0],[36.0,36.0],[36.0,33.0],[36.0,36.0],[37.0,37.0],[37.0,42.0],[37.0,40.0],[37.0,37.0],[37.0,34.0],[37.0,39.0],[37.0,33.0],[38.0,36.0],[38.0,38.0],[41.0,38.0],[41.0,43.0],[41.0,39.0],[41.0,41.0],[43.0,45.0],[44.0,47.0],[44.0,47.0],[44.0,42.0],[44.0,47.0],[44.0,46.0],[51.0,51.0],[51.0,53.0],[51.0,51.0],[54.0,51.0],[54.0,58.0],[59.0,59.0],[60.0,62.0],[60.0,60.0],[60.0,60.0],[64.0,62.0],[64.0,68.0],[66.0,62.0],[67.0,67.0],[74.0,70.0],[74.0,72.0],[74.0,70.0],[74.0,71.0],[74.0,78.0],[77.0,74.0],[77.0,82.0],[77.0,80.0],[77.0,81.0],[77.0,79.0],[77.0,73.0],[77.0,74.0],[77.0,73.0],[80.0,76.0],[81.0,81.0],[81.0,78.0],[81.0,79.0],[81.0,78.0],[82.0,82.0],[82.0,85.0],[82.0,80.0],[83.0,85.0],[83.0,83.0],[83.0,81.0],[84.0,84.0],[87.0,87.0],[87.0,90.0],[87.0,89.0],[87.0,87.0],[87.0,91.0],[87.0,87.0],[110.0,110.0],[3.0,3.0],[0.0,0.0]],\"ys\":[[16.0,13.0],[29.0,29.0],[30.0,30.0],[42.0,39.0],[3.0,1.0],[16.0,16.0],[22.0,22.0],[28.0,28.0],[34.0,34.0],[40.0,40.0],[46.0,46.0],[11.0,11.0],[3.0,7.0],[13.0,10.0],[13.0,15.0],[13.0,16.0],[13.0,16.0],[8.0,8.0],[16.0,13.0],[22.0,24.0],[28.0,28.0],[34.0,31.0],[40.0,40.0],[48.0,50.0],[11.0,11.0],[20.0,20.0],[16.0,16.0],[18.0,18.0],[20.0,20.0],[22.0,22.0],[24.0,24.0],[26.0,26.0],[28.0,28.0],[30.0,30.0],[32.0,32.0],[34.0,34.0],[36.0,36.0],[38.0,38.0],[40.0,40.0],[42.0,42.0],[44.0,44.0],[45.0,45.0],[47.0,47.0],[48.0,48.0],[14.0,14.0],[18.0,18.0],[25.0,25.0],[26.0,26.0],[27.0,27.0],[29.0,29.0],[31.0,31.0],[32.0,32.0],[12.0,12.0],[19.0,19.0],[23.0,23.0],[31.0,31.0],[33.0,33.0],[37.0,37.0],[43.0,43.0],[46.0,46.0],[50.0,50.0],[29.0,27.0],[34.0,34.0],[18.0,16.0],[29.0,31.0],[32.0,32.0],[34.0,37.0],[18.0,13.0],[29.0,29.0],[32.0,32.0],[34.0,38.0],[41.0,41.0],[44.0,44.0],[8.0,8.0],[20.0,20.0],[34.0,36.0],[19.0,19.0],[23.0,23.0],[33.0,33.0],[37.0,41.0],[25.0,25.0],[26.0,26.0],[35.0,35.0],[37.0,37.0],[38.0,38.0],[39.0,39.0],[25.0,27.0],[30.0,30.0],[9.0,13.0],[48.0,48.0],[50.0,50.0],[28.0,24.0],[15.0,15.0],[28.0,30.0],[47.0,43.0],[48.0,48.0],[50.0,50.0],[9.0,9.0],[25.0,28.0],[14.0,14.0],[16.0,16.0],[19.0,19.0],[48.0,48.0],[50.0,50.0],[15.0,15.0],[19.0,19.0],[23.0,23.0],[27.0,27.0],[32.0,32.0],[38.0,38.0],[42.0,42.0],[9.0,9.0],[24.0,24.0],[13.0,9.0],[35.0,35.0],[38.0,38.0],[42.0,42.0],[13.0,17.0],[36.0,36.0],[40.0,40.0],[13.0,13.0],[44.0,40.0],[8.0,8.0],[20.0,22.0],[23.0,25.0],[27.0,27.0],[32.0,32.0],[37.0,40.0],[41.0,41.0],[9.0,13.0],[30.0,32.0],[3.0,3.0],[0.0,0.0]]},\"selected\":{\"id\":\"7702\"},\"selection_policy\":{\"id\":\"7701\"}},\"id\":\"7676\",\"type\":\"ColumnDataSource\"},{\"attributes\":{},\"id\":\"7657\",\"type\":\"BasicTicker\"},{\"attributes\":{\"line_alpha\":{\"value\":0.1},\"line_width\":{\"value\":2},\"xs\":{\"field\":\"xs\"},\"ys\":{\"field\":\"ys\"}},\"id\":\"7678\",\"type\":\"MultiLine\"},{\"attributes\":{},\"id\":\"7704\",\"type\":\"Selection\"},{\"attributes\":{},\"id\":\"7648\",\"type\":\"LinearScale\"},{\"attributes\":{\"formatter\":{\"id\":\"7699\"},\"ticker\":{\"id\":\"7657\"},\"visible\":false},\"id\":\"7656\",\"type\":\"LinearAxis\"},{\"attributes\":{},\"id\":\"7705\",\"type\":\"UnionRenderers\"},{\"attributes\":{\"axis\":{\"id\":\"7656\"},\"dimension\":1,\"grid_line_color\":null,\"ticker\":null},\"id\":\"7659\",\"type\":\"Grid\"},{\"attributes\":{\"end\":54.25,\"start\":-4.25},\"id\":\"7646\",\"type\":\"Range1d\"},{\"attributes\":{\"data\":{\"x\":[3.0,3.0,3.0,3.0,5.0,8.0,8.0,8.0,8.0,8.0,8.0,8.0,11.0,12.0,13.0,14.0,15.0,15.0,18.0,18.0,18.0,18.0,18.0,18.0,18.0,13.0,21.0,21.0,21.0,21.0,21.0,21.0,21.0,21.0,21.0,21.0,21.0,21.0,21.0,21.0,21.0,21.0,21.0,21.0,28.0,28.0,28.0,28.0,28.0,28.0,28.0,28.0,28.0,31.0,31.0,31.0,31.0,31.0,31.0,31.0,31.0,35.0,35.0,36.0,36.0,36.0,36.0,37.0,37.0,37.0,37.0,37.0,37.0,37.0,38.0,38.0,41.0,41.0,41.0,41.0,43.0,44.0,44.0,44.0,44.0,44.0,51.0,51.0,51.0,54.0,54.0,59.0,60.0,60.0,60.0,64.0,64.0,66.0,67.0,74.0,74.0,74.0,74.0,74.0,77.0,77.0,77.0,77.0,77.0,77.0,77.0,77.0,80.0,81.0,81.0,81.0,81.0,82.0,82.0,82.0,83.0,83.0,83.0,84.0,87.0,87.0,87.0,87.0,87.0,87.0,110.0,3.0,0.0],\"y\":[16.0,29.0,30.0,42.0,3.0,16.0,22.0,28.0,34.0,40.0,46.0,11.0,3.0,13.0,13.0,13.0,13.0,8.0,16.0,22.0,28.0,34.0,40.0,48.0,11.0,20.0,16.0,18.0,20.0,22.0,24.0,26.0,28.0,30.0,32.0,34.0,36.0,38.0,40.0,42.0,44.0,45.0,47.0,48.0,14.0,18.0,25.0,26.0,27.0,29.0,31.0,32.0,12.0,19.0,23.0,31.0,33.0,37.0,43.0,46.0,50.0,29.0,34.0,18.0,29.0,32.0,34.0,18.0,29.0,32.0,34.0,41.0,44.0,8.0,20.0,34.0,19.0,23.0,33.0,37.0,25.0,26.0,35.0,37.0,38.0,39.0,25.0,30.0,9.0,48.0,50.0,28.0,15.0,28.0,47.0,48.0,50.0,9.0,25.0,14.0,16.0,19.0,48.0,50.0,15.0,19.0,23.0,27.0,32.0,38.0,42.0,9.0,24.0,13.0,35.0,38.0,42.0,13.0,36.0,40.0,13.0,44.0,8.0,20.0,23.0,27.0,32.0,37.0,41.0,9.0,30.0,3.0,0.0]},\"selected\":{\"id\":\"7706\"},\"selection_policy\":{\"id\":\"7705\"}},\"id\":\"7686\",\"type\":\"ColumnDataSource\"},{\"attributes\":{},\"id\":\"7706\",\"type\":\"Selection\"},{\"attributes\":{\"line_alpha\":0.1,\"line_dash\":[6],\"line_width\":2,\"x\":{\"field\":\"x\"},\"y\":{\"field\":\"y\"}},\"id\":\"7683\",\"type\":\"Line\"},{\"attributes\":{\"end\":119.35,\"start\":-9.350000000000001},\"id\":\"7644\",\"type\":\"Range1d\"},{\"attributes\":{},\"id\":\"7660\",\"type\":\"PanTool\"},{\"attributes\":{\"background_fill_color\":null,\"below\":[{\"id\":\"7652\"}],\"border_fill_color\":null,\"center\":[{\"id\":\"7655\"},{\"id\":\"7659\"}],\"left\":[{\"id\":\"7656\"}],\"outline_line_color\":null,\"plot_height\":400,\"plot_width\":800,\"renderers\":[{\"id\":\"7679\"},{\"id\":\"7684\"},{\"id\":\"7689\"},{\"id\":\"7694\"}],\"title\":{\"id\":\"7642\"},\"toolbar\":{\"id\":\"7667\"},\"toolbar_location\":null,\"x_range\":{\"id\":\"7644\"},\"x_scale\":{\"id\":\"7648\"},\"y_range\":{\"id\":\"7646\"},\"y_scale\":{\"id\":\"7650\"}},\"id\":\"7641\",\"subtype\":\"Figure\",\"type\":\"Plot\"},{\"attributes\":{\"line_dash\":[6],\"line_width\":2,\"x\":{\"field\":\"x\"},\"y\":{\"field\":\"y\"}},\"id\":\"7682\",\"type\":\"Line\"},{\"attributes\":{\"axis\":{\"id\":\"7652\"},\"grid_line_color\":null,\"ticker\":null},\"id\":\"7655\",\"type\":\"Grid\"},{\"attributes\":{},\"id\":\"7707\",\"type\":\"UnionRenderers\"},{\"attributes\":{\"source\":{\"id\":\"7681\"}},\"id\":\"7685\",\"type\":\"CDSView\"},{\"attributes\":{\"formatter\":{\"id\":\"7697\"},\"ticker\":{\"id\":\"7653\"},\"visible\":false},\"id\":\"7652\",\"type\":\"LinearAxis\"}],\"root_ids\":[\"7711\"]},\"title\":\"Bokeh Application\",\"version\":\"2.1.0\"}};\n",
       "  var render_items = [{\"docid\":\"b876c5e8-d4ff-4cbb-86fe-ed89565398dd\",\"root_ids\":[\"7711\"],\"roots\":{\"7711\":\"34ff278c-b6f9-47da-ad9a-83b3369700e3\"}}];\n",
       "  root.Bokeh.embed.embed_items_notebook(docs_json, render_items);\n",
       "\n",
       "  }\n",
       "  if (root.Bokeh !== undefined) {\n",
       "    embed_document(root);\n",
       "  } else {\n",
       "    var attempts = 0;\n",
       "    var timer = setInterval(function(root) {\n",
       "      if (root.Bokeh !== undefined) {\n",
       "        clearInterval(timer);\n",
       "        embed_document(root);\n",
       "      } else {\n",
       "        attempts++;\n",
       "        if (attempts > 100) {\n",
       "          clearInterval(timer);\n",
       "          console.log(\"Bokeh: ERROR: Unable to run BokehJS code because BokehJS library is missing\");\n",
       "        }\n",
       "      }\n",
       "    }, 10, root)\n",
       "  }\n",
       "})(window);"
      ],
      "application/vnd.bokehjs_exec.v0+json": ""
     },
     "metadata": {
      "application/vnd.bokehjs_exec.v0+json": {
       "id": "7711"
      }
     },
     "output_type": "display_data"
    }
   ],
   "source": [
    "# Nearest neighbor\n",
    "plot_etching_tour(nodes, G, nearest_neighbor(G))"
   ]
  },
  {
   "cell_type": "code",
   "execution_count": 40,
   "metadata": {},
   "outputs": [
    {
     "data": {
      "text/html": [
       "\n",
       "\n",
       "\n",
       "\n",
       "\n",
       "\n",
       "  <div class=\"bk-root\" id=\"98d8cab0-cbab-4216-8b02-a2a95d4a13e3\" data-root-id=\"8162\"></div>\n"
      ]
     },
     "metadata": {},
     "output_type": "display_data"
    },
    {
     "data": {
      "application/javascript": [
       "(function(root) {\n",
       "  function embed_document(root) {\n",
       "    \n",
       "  var docs_json = {\"9b2c2efa-d7c4-4ece-ba8c-c695067c4cac\":{\"roots\":{\"references\":[{\"attributes\":{\"children\":[[{\"id\":\"8092\"},0,0],[{\"id\":\"8126\"},1,0]]},\"id\":\"8162\",\"type\":\"GridBox\"},{\"attributes\":{},\"id\":\"8108\",\"type\":\"BasicTicker\"},{\"attributes\":{},\"id\":\"8158\",\"type\":\"UnionRenderers\"},{\"attributes\":{\"data_source\":{\"id\":\"8132\"},\"glyph\":{\"id\":\"8133\"},\"hover_glyph\":null,\"muted_glyph\":null,\"nonselection_glyph\":{\"id\":\"8134\"},\"selection_glyph\":null,\"view\":{\"id\":\"8136\"}},\"id\":\"8135\",\"type\":\"GlyphRenderer\"},{\"attributes\":{\"formatter\":{\"id\":\"8148\"},\"ticker\":{\"id\":\"8104\"},\"visible\":false},\"id\":\"8103\",\"type\":\"LinearAxis\"},{\"attributes\":{},\"id\":\"8159\",\"type\":\"Selection\"},{\"attributes\":{\"source\":{\"id\":\"8132\"}},\"id\":\"8136\",\"type\":\"CDSView\"},{\"attributes\":{\"axis\":{\"id\":\"8107\"},\"dimension\":1,\"grid_line_color\":null,\"ticker\":null},\"id\":\"8110\",\"type\":\"Grid\"},{\"attributes\":{\"align\":\"center\",\"text\":\"715.3\",\"width\":800},\"id\":\"8126\",\"type\":\"Div\"},{\"attributes\":{\"source\":{\"id\":\"8127\"}},\"id\":\"8131\",\"type\":\"CDSView\"},{\"attributes\":{\"data\":{\"x\":[3.0,3.0,3.0,3.0,5.0,8.0,8.0,8.0,8.0,8.0,8.0,8.0,11.0,12.0,13.0,14.0,15.0,15.0,18.0,18.0,18.0,18.0,18.0,18.0,18.0,13.0,21.0,21.0,21.0,21.0,21.0,21.0,21.0,21.0,21.0,21.0,21.0,21.0,21.0,21.0,21.0,21.0,21.0,21.0,28.0,28.0,28.0,28.0,28.0,28.0,28.0,28.0,28.0,31.0,31.0,31.0,31.0,31.0,31.0,31.0,31.0,35.0,35.0,36.0,36.0,36.0,36.0,37.0,37.0,37.0,37.0,37.0,37.0,37.0,38.0,38.0,41.0,41.0,41.0,41.0,43.0,44.0,44.0,44.0,44.0,44.0,51.0,51.0,51.0,54.0,54.0,59.0,60.0,60.0,60.0,64.0,64.0,66.0,67.0,74.0,74.0,74.0,74.0,74.0,77.0,77.0,77.0,77.0,77.0,77.0,77.0,77.0,80.0,81.0,81.0,81.0,81.0,82.0,82.0,82.0,83.0,83.0,83.0,84.0,87.0,87.0,87.0,87.0,87.0,87.0,110.0,3.0,0.0],\"y\":[16.0,29.0,30.0,42.0,3.0,16.0,22.0,28.0,34.0,40.0,46.0,11.0,3.0,13.0,13.0,13.0,13.0,8.0,16.0,22.0,28.0,34.0,40.0,48.0,11.0,20.0,16.0,18.0,20.0,22.0,24.0,26.0,28.0,30.0,32.0,34.0,36.0,38.0,40.0,42.0,44.0,45.0,47.0,48.0,14.0,18.0,25.0,26.0,27.0,29.0,31.0,32.0,12.0,19.0,23.0,31.0,33.0,37.0,43.0,46.0,50.0,29.0,34.0,18.0,29.0,32.0,34.0,18.0,29.0,32.0,34.0,41.0,44.0,8.0,20.0,34.0,19.0,23.0,33.0,37.0,25.0,26.0,35.0,37.0,38.0,39.0,25.0,30.0,9.0,48.0,50.0,28.0,15.0,28.0,47.0,48.0,50.0,9.0,25.0,14.0,16.0,19.0,48.0,50.0,15.0,19.0,23.0,27.0,32.0,38.0,42.0,9.0,24.0,13.0,35.0,38.0,42.0,13.0,36.0,40.0,13.0,44.0,8.0,20.0,23.0,27.0,32.0,37.0,41.0,9.0,30.0,3.0,0.0]},\"selected\":{\"id\":\"8157\"},\"selection_policy\":{\"id\":\"8156\"}},\"id\":\"8137\",\"type\":\"ColumnDataSource\"},{\"attributes\":{\"data_source\":{\"id\":\"8142\"},\"glyph\":{\"id\":\"8143\"},\"hover_glyph\":null,\"muted_glyph\":null,\"nonselection_glyph\":{\"id\":\"8144\"},\"selection_glyph\":null,\"view\":{\"id\":\"8146\"}},\"id\":\"8145\",\"type\":\"GlyphRenderer\"},{\"attributes\":{\"data\":{\"x\":[3,1,6,3,5,6,12,4,12,6,12,6,11,12,13,14,15,19,18,18,14,18,14,18,21,17,23,18,23,23,23,19,19,24,24,24,25,23,23,25,18,25,17,25,30,32,26,26,32,26,26,30,25,27,27,34,27,29,28,28,33,35,32,36,36,33,36,37,42,40,37,34,39,33,36,38,38,43,39,41,45,47,47,42,47,46,51,53,51,51,58,59,62,60,60,62,68,62,67,70,72,70,71,78,74,82,80,81,79,73,74,73,76,81,78,79,78,82,85,80,85,83,81,84,87,90,89,87,91,87,110,3,0],\"y\":[13,29,30,39,1,16,22,28,34,40,46,11,7,10,15,16,16,8,13,24,28,31,40,50,11,20,16,18,20,22,24,26,28,30,32,34,36,38,40,42,44,45,47,48,14,18,25,26,27,29,31,32,12,19,23,31,33,37,43,46,50,27,34,16,31,32,37,13,29,32,38,41,44,8,20,36,19,23,33,41,25,26,35,37,38,39,27,30,13,48,50,24,15,30,43,48,50,9,28,14,16,19,48,50,15,19,23,27,32,38,42,9,24,9,35,38,42,17,36,40,13,40,8,22,25,27,32,40,41,13,32,3,0]},\"selected\":{\"id\":\"8159\"},\"selection_policy\":{\"id\":\"8158\"}},\"id\":\"8142\",\"type\":\"ColumnDataSource\"},{\"attributes\":{\"data\":{\"xs\":[[3.0,3.0],[3.0,1.0],[3.0,6.0],[3.0,3.0],[5.0,5.0],[8.0,6.0],[8.0,12.0],[8.0,4.0],[8.0,12.0],[8.0,6.0],[8.0,12.0],[8.0,6.0],[11.0,11.0],[12.0,12.0],[13.0,13.0],[14.0,14.0],[15.0,15.0],[15.0,19.0],[18.0,18.0],[18.0,18.0],[18.0,14.0],[18.0,18.0],[18.0,14.0],[18.0,18.0],[18.0,21.0],[13.0,17.0],[21.0,23.0],[21.0,18.0],[21.0,23.0],[21.0,23.0],[21.0,23.0],[21.0,19.0],[21.0,19.0],[21.0,24.0],[21.0,24.0],[21.0,24.0],[21.0,25.0],[21.0,23.0],[21.0,23.0],[21.0,25.0],[21.0,18.0],[21.0,25.0],[21.0,17.0],[21.0,25.0],[28.0,30.0],[28.0,32.0],[28.0,26.0],[28.0,26.0],[28.0,32.0],[28.0,26.0],[28.0,26.0],[28.0,30.0],[28.0,25.0],[31.0,27.0],[31.0,27.0],[31.0,34.0],[31.0,27.0],[31.0,29.0],[31.0,28.0],[31.0,28.0],[31.0,33.0],[35.0,35.0],[35.0,32.0],[36.0,36.0],[36.0,36.0],[36.0,33.0],[36.0,36.0],[37.0,37.0],[37.0,42.0],[37.0,40.0],[37.0,37.0],[37.0,34.0],[37.0,39.0],[37.0,33.0],[38.0,36.0],[38.0,38.0],[41.0,38.0],[41.0,43.0],[41.0,39.0],[41.0,41.0],[43.0,45.0],[44.0,47.0],[44.0,47.0],[44.0,42.0],[44.0,47.0],[44.0,46.0],[51.0,51.0],[51.0,53.0],[51.0,51.0],[54.0,51.0],[54.0,58.0],[59.0,59.0],[60.0,62.0],[60.0,60.0],[60.0,60.0],[64.0,62.0],[64.0,68.0],[66.0,62.0],[67.0,67.0],[74.0,70.0],[74.0,72.0],[74.0,70.0],[74.0,71.0],[74.0,78.0],[77.0,74.0],[77.0,82.0],[77.0,80.0],[77.0,81.0],[77.0,79.0],[77.0,73.0],[77.0,74.0],[77.0,73.0],[80.0,76.0],[81.0,81.0],[81.0,78.0],[81.0,79.0],[81.0,78.0],[82.0,82.0],[82.0,85.0],[82.0,80.0],[83.0,85.0],[83.0,83.0],[83.0,81.0],[84.0,84.0],[87.0,87.0],[87.0,90.0],[87.0,89.0],[87.0,87.0],[87.0,91.0],[87.0,87.0],[110.0,110.0],[3.0,3.0],[0.0,0.0]],\"ys\":[[16.0,13.0],[29.0,29.0],[30.0,30.0],[42.0,39.0],[3.0,1.0],[16.0,16.0],[22.0,22.0],[28.0,28.0],[34.0,34.0],[40.0,40.0],[46.0,46.0],[11.0,11.0],[3.0,7.0],[13.0,10.0],[13.0,15.0],[13.0,16.0],[13.0,16.0],[8.0,8.0],[16.0,13.0],[22.0,24.0],[28.0,28.0],[34.0,31.0],[40.0,40.0],[48.0,50.0],[11.0,11.0],[20.0,20.0],[16.0,16.0],[18.0,18.0],[20.0,20.0],[22.0,22.0],[24.0,24.0],[26.0,26.0],[28.0,28.0],[30.0,30.0],[32.0,32.0],[34.0,34.0],[36.0,36.0],[38.0,38.0],[40.0,40.0],[42.0,42.0],[44.0,44.0],[45.0,45.0],[47.0,47.0],[48.0,48.0],[14.0,14.0],[18.0,18.0],[25.0,25.0],[26.0,26.0],[27.0,27.0],[29.0,29.0],[31.0,31.0],[32.0,32.0],[12.0,12.0],[19.0,19.0],[23.0,23.0],[31.0,31.0],[33.0,33.0],[37.0,37.0],[43.0,43.0],[46.0,46.0],[50.0,50.0],[29.0,27.0],[34.0,34.0],[18.0,16.0],[29.0,31.0],[32.0,32.0],[34.0,37.0],[18.0,13.0],[29.0,29.0],[32.0,32.0],[34.0,38.0],[41.0,41.0],[44.0,44.0],[8.0,8.0],[20.0,20.0],[34.0,36.0],[19.0,19.0],[23.0,23.0],[33.0,33.0],[37.0,41.0],[25.0,25.0],[26.0,26.0],[35.0,35.0],[37.0,37.0],[38.0,38.0],[39.0,39.0],[25.0,27.0],[30.0,30.0],[9.0,13.0],[48.0,48.0],[50.0,50.0],[28.0,24.0],[15.0,15.0],[28.0,30.0],[47.0,43.0],[48.0,48.0],[50.0,50.0],[9.0,9.0],[25.0,28.0],[14.0,14.0],[16.0,16.0],[19.0,19.0],[48.0,48.0],[50.0,50.0],[15.0,15.0],[19.0,19.0],[23.0,23.0],[27.0,27.0],[32.0,32.0],[38.0,38.0],[42.0,42.0],[9.0,9.0],[24.0,24.0],[13.0,9.0],[35.0,35.0],[38.0,38.0],[42.0,42.0],[13.0,17.0],[36.0,36.0],[40.0,40.0],[13.0,13.0],[44.0,40.0],[8.0,8.0],[20.0,22.0],[23.0,25.0],[27.0,27.0],[32.0,32.0],[37.0,40.0],[41.0,41.0],[9.0,13.0],[30.0,32.0],[3.0,3.0],[0.0,0.0]]},\"selected\":{\"id\":\"8153\"},\"selection_policy\":{\"id\":\"8152\"}},\"id\":\"8127\",\"type\":\"ColumnDataSource\"},{\"attributes\":{\"text\":\"\"},\"id\":\"8093\",\"type\":\"Title\"},{\"attributes\":{\"fill_color\":{\"value\":\"steelblue\"},\"line_color\":{\"value\":\"steelblue\"},\"size\":{\"units\":\"screen\",\"value\":5},\"x\":{\"field\":\"x\"},\"y\":{\"field\":\"y\"}},\"id\":\"8138\",\"type\":\"Circle\"},{\"attributes\":{\"fill_alpha\":{\"value\":0.1},\"fill_color\":{\"value\":\"steelblue\"},\"line_alpha\":{\"value\":0.1},\"line_color\":{\"value\":\"steelblue\"},\"size\":{\"units\":\"screen\",\"value\":5},\"x\":{\"field\":\"x\"},\"y\":{\"field\":\"y\"}},\"id\":\"8139\",\"type\":\"Circle\"},{\"attributes\":{\"source\":{\"id\":\"8142\"}},\"id\":\"8146\",\"type\":\"CDSView\"},{\"attributes\":{\"line_alpha\":0.1,\"line_dash\":[6],\"line_width\":2,\"x\":{\"field\":\"x\"},\"y\":{\"field\":\"y\"}},\"id\":\"8134\",\"type\":\"Line\"},{\"attributes\":{},\"id\":\"8111\",\"type\":\"PanTool\"},{\"attributes\":{\"background_fill_color\":null,\"below\":[{\"id\":\"8103\"}],\"border_fill_color\":null,\"center\":[{\"id\":\"8106\"},{\"id\":\"8110\"}],\"left\":[{\"id\":\"8107\"}],\"outline_line_color\":null,\"plot_height\":400,\"plot_width\":800,\"renderers\":[{\"id\":\"8130\"},{\"id\":\"8135\"},{\"id\":\"8140\"},{\"id\":\"8145\"}],\"title\":{\"id\":\"8093\"},\"toolbar\":{\"id\":\"8118\"},\"toolbar_location\":null,\"x_range\":{\"id\":\"8095\"},\"x_scale\":{\"id\":\"8099\"},\"y_range\":{\"id\":\"8097\"},\"y_scale\":{\"id\":\"8101\"}},\"id\":\"8092\",\"subtype\":\"Figure\",\"type\":\"Plot\"},{\"attributes\":{},\"id\":\"8114\",\"type\":\"SaveTool\"},{\"attributes\":{},\"id\":\"8157\",\"type\":\"Selection\"},{\"attributes\":{\"overlay\":{\"id\":\"8117\"}},\"id\":\"8113\",\"type\":\"BoxZoomTool\"},{\"attributes\":{\"line_width\":{\"value\":2},\"xs\":{\"field\":\"xs\"},\"ys\":{\"field\":\"ys\"}},\"id\":\"8128\",\"type\":\"MultiLine\"},{\"attributes\":{\"line_dash\":[6],\"line_width\":2,\"x\":{\"field\":\"x\"},\"y\":{\"field\":\"y\"}},\"id\":\"8133\",\"type\":\"Line\"},{\"attributes\":{\"fill_alpha\":{\"value\":0.1},\"fill_color\":{\"value\":\"#DC0000\"},\"line_alpha\":{\"value\":0.1},\"line_color\":{\"value\":\"#DC0000\"},\"size\":{\"units\":\"screen\",\"value\":5},\"x\":{\"field\":\"x\"},\"y\":{\"field\":\"y\"}},\"id\":\"8144\",\"type\":\"Circle\"},{\"attributes\":{},\"id\":\"8112\",\"type\":\"WheelZoomTool\"},{\"attributes\":{},\"id\":\"8116\",\"type\":\"HelpTool\"},{\"attributes\":{},\"id\":\"8148\",\"type\":\"BasicTickFormatter\"},{\"attributes\":{\"fill_color\":{\"value\":\"#DC0000\"},\"line_color\":{\"value\":\"#DC0000\"},\"size\":{\"units\":\"screen\",\"value\":5},\"x\":{\"field\":\"x\"},\"y\":{\"field\":\"y\"}},\"id\":\"8143\",\"type\":\"Circle\"},{\"attributes\":{\"data\":{\"x\":[3.0,3.0,8.0,4.0,18.0,14.0,21.0,19.0,18.0,18.0,21.0,23.0,21.0,23.0,13.0,17.0,14.0,14.0,11.0,11.0,5.0,5.0,0.0,0.0,3.0,3.0,12.0,12.0,13.0,13.0,15.0,15.0,15.0,19.0,18.0,21.0,18.0,18.0,21.0,18.0,21.0,23.0,21.0,23.0,21.0,19.0,21.0,24.0,21.0,24.0,28.0,26.0,31.0,27.0,28.0,32.0,28.0,26.0,28.0,26.0,28.0,26.0,31.0,27.0,35.0,32.0,36.0,33.0,36.0,36.0,31.0,29.0,31.0,28.0,31.0,33.0,31.0,28.0,37.0,34.0,37.0,39.0,41.0,41.0,44.0,42.0,44.0,47.0,44.0,47.0,44.0,46.0,37.0,37.0,38.0,38.0,41.0,39.0,37.0,40.0,36.0,36.0,51.0,51.0,66.0,62.0,60.0,62.0,59.0,59.0,67.0,67.0,74.0,70.0,74.0,70.0,74.0,72.0,77.0,74.0,80.0,76.0,77.0,79.0,81.0,78.0,82.0,85.0,77.0,73.0,81.0,79.0,74.0,78.0,64.0,68.0,54.0,58.0,54.0,51.0,60.0,60.0,64.0,62.0,74.0,71.0,77.0,74.0,81.0,78.0,82.0,80.0,83.0,83.0,87.0,91.0,87.0,87.0,87.0,89.0,110.0,110.0,87.0,90.0,87.0,87.0,84.0,84.0,82.0,82.0,87.0,87.0,83.0,85.0,77.0,73.0,83.0,81.0,81.0,81.0,77.0,82.0,77.0,80.0,77.0,81.0,60.0,60.0,51.0,53.0,51.0,51.0,44.0,47.0,43.0,45.0,41.0,43.0,28.0,32.0,31.0,27.0,28.0,30.0,28.0,25.0,37.0,33.0,37.0,37.0,36.0,36.0,38.0,36.0,41.0,38.0,37.0,42.0,35.0,35.0,31.0,34.0,28.0,30.0,21.0,25.0,18.0,14.0,21.0,25.0,21.0,25.0,21.0,25.0,18.0,18.0,21.0,17.0,21.0,18.0,21.0,23.0,21.0,23.0,21.0,24.0,18.0,18.0,8.0,12.0,3.0,3.0,8.0,12.0,8.0,6.0,3.0,6.0,3.0,1.0,8.0,12.0,8.0,6.0,8.0,6.0,3.0,3.0],\"y\":[16.0,13.0,28.0,28.0,28.0,28.0,26.0,26.0,22.0,24.0,22.0,22.0,16.0,16.0,20.0,20.0,13.0,16.0,3.0,7.0,3.0,1.0,0.0,0.0,3.0,3.0,13.0,10.0,13.0,15.0,13.0,16.0,8.0,8.0,11.0,11.0,16.0,13.0,18.0,18.0,20.0,20.0,24.0,24.0,28.0,28.0,30.0,30.0,32.0,32.0,29.0,29.0,23.0,23.0,27.0,27.0,25.0,25.0,26.0,26.0,31.0,31.0,33.0,33.0,34.0,34.0,32.0,32.0,34.0,37.0,37.0,37.0,43.0,43.0,50.0,50.0,46.0,46.0,41.0,41.0,44.0,44.0,37.0,41.0,37.0,37.0,35.0,35.0,38.0,38.0,39.0,39.0,34.0,38.0,34.0,36.0,33.0,33.0,32.0,32.0,29.0,31.0,9.0,13.0,9.0,9.0,15.0,15.0,28.0,24.0,25.0,28.0,19.0,19.0,14.0,14.0,16.0,16.0,15.0,15.0,24.0,24.0,32.0,32.0,35.0,35.0,36.0,36.0,38.0,38.0,38.0,38.0,50.0,50.0,50.0,50.0,50.0,50.0,48.0,48.0,47.0,43.0,48.0,48.0,48.0,48.0,42.0,42.0,42.0,42.0,40.0,40.0,44.0,40.0,41.0,41.0,37.0,40.0,32.0,32.0,30.0,32.0,27.0,27.0,23.0,25.0,20.0,22.0,13.0,17.0,9.0,13.0,13.0,13.0,9.0,9.0,8.0,8.0,13.0,9.0,19.0,19.0,23.0,23.0,27.0,27.0,28.0,30.0,30.0,30.0,25.0,27.0,26.0,26.0,25.0,25.0,23.0,23.0,18.0,18.0,19.0,19.0,14.0,14.0,12.0,12.0,8.0,8.0,18.0,13.0,18.0,16.0,20.0,20.0,19.0,19.0,29.0,29.0,29.0,27.0,31.0,31.0,32.0,32.0,36.0,36.0,40.0,40.0,42.0,42.0,45.0,45.0,48.0,48.0,48.0,50.0,47.0,47.0,44.0,44.0,40.0,40.0,38.0,38.0,34.0,34.0,34.0,31.0,34.0,34.0,42.0,39.0,46.0,46.0,40.0,40.0,30.0,30.0,29.0,29.0,22.0,22.0,16.0,16.0,11.0,11.0,16.0,13.0]},\"selected\":{\"id\":\"8155\"},\"selection_policy\":{\"id\":\"8154\"}},\"id\":\"8132\",\"type\":\"ColumnDataSource\"},{\"attributes\":{},\"id\":\"8115\",\"type\":\"ResetTool\"},{\"attributes\":{\"end\":54.25,\"start\":-4.25},\"id\":\"8097\",\"type\":\"Range1d\"},{\"attributes\":{},\"id\":\"8150\",\"type\":\"BasicTickFormatter\"},{\"attributes\":{\"axis\":{\"id\":\"8103\"},\"grid_line_color\":null,\"ticker\":null},\"id\":\"8106\",\"type\":\"Grid\"},{\"attributes\":{},\"id\":\"8152\",\"type\":\"UnionRenderers\"},{\"attributes\":{\"data_source\":{\"id\":\"8137\"},\"glyph\":{\"id\":\"8138\"},\"hover_glyph\":null,\"muted_glyph\":null,\"nonselection_glyph\":{\"id\":\"8139\"},\"selection_glyph\":null,\"view\":{\"id\":\"8141\"}},\"id\":\"8140\",\"type\":\"GlyphRenderer\"},{\"attributes\":{},\"id\":\"8101\",\"type\":\"LinearScale\"},{\"attributes\":{},\"id\":\"8153\",\"type\":\"Selection\"},{\"attributes\":{\"source\":{\"id\":\"8137\"}},\"id\":\"8141\",\"type\":\"CDSView\"},{\"attributes\":{\"end\":119.35,\"start\":-9.350000000000001},\"id\":\"8095\",\"type\":\"Range1d\"},{\"attributes\":{},\"id\":\"8154\",\"type\":\"UnionRenderers\"},{\"attributes\":{},\"id\":\"8099\",\"type\":\"LinearScale\"},{\"attributes\":{},\"id\":\"8155\",\"type\":\"Selection\"},{\"attributes\":{\"data_source\":{\"id\":\"8127\"},\"glyph\":{\"id\":\"8128\"},\"hover_glyph\":null,\"muted_glyph\":null,\"nonselection_glyph\":{\"id\":\"8129\"},\"selection_glyph\":null,\"view\":{\"id\":\"8131\"}},\"id\":\"8130\",\"type\":\"GlyphRenderer\"},{\"attributes\":{},\"id\":\"8104\",\"type\":\"BasicTicker\"},{\"attributes\":{},\"id\":\"8156\",\"type\":\"UnionRenderers\"},{\"attributes\":{\"bottom_units\":\"screen\",\"fill_alpha\":0.5,\"fill_color\":\"lightgrey\",\"left_units\":\"screen\",\"level\":\"overlay\",\"line_alpha\":1.0,\"line_color\":\"black\",\"line_dash\":[4,4],\"line_width\":2,\"right_units\":\"screen\",\"top_units\":\"screen\"},\"id\":\"8117\",\"type\":\"BoxAnnotation\"},{\"attributes\":{\"line_alpha\":{\"value\":0.1},\"line_width\":{\"value\":2},\"xs\":{\"field\":\"xs\"},\"ys\":{\"field\":\"ys\"}},\"id\":\"8129\",\"type\":\"MultiLine\"},{\"attributes\":{\"formatter\":{\"id\":\"8150\"},\"ticker\":{\"id\":\"8108\"},\"visible\":false},\"id\":\"8107\",\"type\":\"LinearAxis\"},{\"attributes\":{\"active_drag\":\"auto\",\"active_inspect\":\"auto\",\"active_multi\":null,\"active_scroll\":\"auto\",\"active_tap\":\"auto\",\"logo\":null,\"tools\":[{\"id\":\"8111\"},{\"id\":\"8112\"},{\"id\":\"8113\"},{\"id\":\"8114\"},{\"id\":\"8115\"},{\"id\":\"8116\"}]},\"id\":\"8118\",\"type\":\"Toolbar\"}],\"root_ids\":[\"8162\"]},\"title\":\"Bokeh Application\",\"version\":\"2.1.0\"}};\n",
       "  var render_items = [{\"docid\":\"9b2c2efa-d7c4-4ece-ba8c-c695067c4cac\",\"root_ids\":[\"8162\"],\"roots\":{\"8162\":\"98d8cab0-cbab-4216-8b02-a2a95d4a13e3\"}}];\n",
       "  root.Bokeh.embed.embed_items_notebook(docs_json, render_items);\n",
       "\n",
       "  }\n",
       "  if (root.Bokeh !== undefined) {\n",
       "    embed_document(root);\n",
       "  } else {\n",
       "    var attempts = 0;\n",
       "    var timer = setInterval(function(root) {\n",
       "      if (root.Bokeh !== undefined) {\n",
       "        clearInterval(timer);\n",
       "        embed_document(root);\n",
       "      } else {\n",
       "        attempts++;\n",
       "        if (attempts > 100) {\n",
       "          clearInterval(timer);\n",
       "          console.log(\"Bokeh: ERROR: Unable to run BokehJS code because BokehJS library is missing\");\n",
       "        }\n",
       "      }\n",
       "    }, 10, root)\n",
       "  }\n",
       "})(window);"
      ],
      "application/vnd.bokehjs_exec.v0+json": ""
     },
     "metadata": {
      "application/vnd.bokehjs_exec.v0+json": {
       "id": "8162"
      }
     },
     "output_type": "display_data"
    }
   ],
   "source": [
    "# Nearest insertion\n",
    "plot_etching_tour(nodes, G, nearest_insertion(G))"
   ]
  },
  {
   "cell_type": "code",
   "execution_count": 41,
   "metadata": {},
   "outputs": [
    {
     "data": {
      "text/html": [
       "\n",
       "\n",
       "\n",
       "\n",
       "\n",
       "\n",
       "  <div class=\"bk-root\" id=\"bbd8b2b9-2d42-450d-b0a2-f374629034d0\" data-root-id=\"8627\"></div>\n"
      ]
     },
     "metadata": {},
     "output_type": "display_data"
    },
    {
     "data": {
      "application/javascript": [
       "(function(root) {\n",
       "  function embed_document(root) {\n",
       "    \n",
       "  var docs_json = {\"6b4adb55-138b-47c0-863d-97d0464880cc\":{\"roots\":{\"references\":[{\"attributes\":{\"children\":[[{\"id\":\"8557\"},0,0],[{\"id\":\"8591\"},1,0]]},\"id\":\"8627\",\"type\":\"GridBox\"},{\"attributes\":{},\"id\":\"8573\",\"type\":\"BasicTicker\"},{\"attributes\":{},\"id\":\"8620\",\"type\":\"Selection\"},{\"attributes\":{\"data_source\":{\"id\":\"8592\"},\"glyph\":{\"id\":\"8593\"},\"hover_glyph\":null,\"muted_glyph\":null,\"nonselection_glyph\":{\"id\":\"8594\"},\"selection_glyph\":null,\"view\":{\"id\":\"8596\"}},\"id\":\"8595\",\"type\":\"GlyphRenderer\"},{\"attributes\":{\"axis\":{\"id\":\"8572\"},\"dimension\":1,\"grid_line_color\":null,\"ticker\":null},\"id\":\"8575\",\"type\":\"Grid\"},{\"attributes\":{},\"id\":\"8621\",\"type\":\"UnionRenderers\"},{\"attributes\":{\"data\":{\"x\":[3.0,3.0,3.0,3.0,5.0,8.0,8.0,8.0,8.0,8.0,8.0,8.0,11.0,12.0,13.0,14.0,15.0,15.0,18.0,18.0,18.0,18.0,18.0,18.0,18.0,13.0,21.0,21.0,21.0,21.0,21.0,21.0,21.0,21.0,21.0,21.0,21.0,21.0,21.0,21.0,21.0,21.0,21.0,21.0,28.0,28.0,28.0,28.0,28.0,28.0,28.0,28.0,28.0,31.0,31.0,31.0,31.0,31.0,31.0,31.0,31.0,35.0,35.0,36.0,36.0,36.0,36.0,37.0,37.0,37.0,37.0,37.0,37.0,37.0,38.0,38.0,41.0,41.0,41.0,41.0,43.0,44.0,44.0,44.0,44.0,44.0,51.0,51.0,51.0,54.0,54.0,59.0,60.0,60.0,60.0,64.0,64.0,66.0,67.0,74.0,74.0,74.0,74.0,74.0,77.0,77.0,77.0,77.0,77.0,77.0,77.0,77.0,80.0,81.0,81.0,81.0,81.0,82.0,82.0,82.0,83.0,83.0,83.0,84.0,87.0,87.0,87.0,87.0,87.0,87.0,110.0,3.0,0.0],\"y\":[16.0,29.0,30.0,42.0,3.0,16.0,22.0,28.0,34.0,40.0,46.0,11.0,3.0,13.0,13.0,13.0,13.0,8.0,16.0,22.0,28.0,34.0,40.0,48.0,11.0,20.0,16.0,18.0,20.0,22.0,24.0,26.0,28.0,30.0,32.0,34.0,36.0,38.0,40.0,42.0,44.0,45.0,47.0,48.0,14.0,18.0,25.0,26.0,27.0,29.0,31.0,32.0,12.0,19.0,23.0,31.0,33.0,37.0,43.0,46.0,50.0,29.0,34.0,18.0,29.0,32.0,34.0,18.0,29.0,32.0,34.0,41.0,44.0,8.0,20.0,34.0,19.0,23.0,33.0,37.0,25.0,26.0,35.0,37.0,38.0,39.0,25.0,30.0,9.0,48.0,50.0,28.0,15.0,28.0,47.0,48.0,50.0,9.0,25.0,14.0,16.0,19.0,48.0,50.0,15.0,19.0,23.0,27.0,32.0,38.0,42.0,9.0,24.0,13.0,35.0,38.0,42.0,13.0,36.0,40.0,13.0,44.0,8.0,20.0,23.0,27.0,32.0,37.0,41.0,9.0,30.0,3.0,0.0]},\"selected\":{\"id\":\"8622\"},\"selection_policy\":{\"id\":\"8621\"}},\"id\":\"8602\",\"type\":\"ColumnDataSource\"},{\"attributes\":{\"data\":{\"x\":[3.0,3.0,8.0,6.0,3.0,3.0,0.0,0.0,5.0,5.0,11.0,11.0,15.0,19.0,12.0,12.0,13.0,13.0,14.0,14.0,15.0,15.0,18.0,21.0,18.0,18.0,21.0,18.0,28.0,25.0,37.0,33.0,37.0,37.0,28.0,30.0,21.0,23.0,21.0,23.0,21.0,23.0,21.0,23.0,28.0,26.0,21.0,24.0,18.0,18.0,21.0,25.0,21.0,24.0,21.0,24.0,28.0,26.0,31.0,27.0,35.0,32.0,28.0,32.0,28.0,26.0,28.0,26.0,31.0,27.0,28.0,32.0,31.0,27.0,36.0,36.0,38.0,36.0,41.0,38.0,41.0,43.0,43.0,45.0,44.0,47.0,51.0,53.0,51.0,51.0,59.0,59.0,60.0,60.0,67.0,67.0,60.0,62.0,51.0,51.0,66.0,62.0,74.0,70.0,77.0,73.0,83.0,81.0,81.0,81.0,77.0,82.0,74.0,72.0,77.0,74.0,74.0,70.0,77.0,80.0,80.0,76.0,77.0,81.0,87.0,87.0,84.0,84.0,82.0,82.0,83.0,85.0,87.0,87.0,110.0,110.0,87.0,90.0,87.0,89.0,87.0,91.0,87.0,87.0,82.0,85.0,81.0,79.0,82.0,80.0,81.0,78.0,77.0,79.0,77.0,73.0,77.0,74.0,81.0,78.0,83.0,83.0,74.0,78.0,74.0,71.0,64.0,68.0,64.0,62.0,60.0,60.0,54.0,58.0,54.0,51.0,44.0,47.0,44.0,46.0,41.0,41.0,44.0,42.0,44.0,47.0,37.0,42.0,41.0,39.0,37.0,40.0,38.0,38.0,37.0,37.0,36.0,36.0,36.0,33.0,36.0,36.0,35.0,35.0,31.0,34.0,28.0,30.0,31.0,29.0,31.0,28.0,31.0,28.0,37.0,34.0,37.0,39.0,31.0,33.0,21.0,25.0,18.0,18.0,21.0,17.0,21.0,25.0,21.0,18.0,21.0,25.0,21.0,23.0,21.0,23.0,18.0,14.0,8.0,12.0,3.0,3.0,8.0,6.0,8.0,12.0,18.0,14.0,21.0,19.0,21.0,19.0,18.0,18.0,13.0,17.0,8.0,12.0,3.0,6.0,3.0,1.0,8.0,4.0,8.0,6.0,3.0,3.0],\"y\":[16.0,13.0,11.0,11.0,3.0,3.0,0.0,0.0,3.0,1.0,3.0,7.0,8.0,8.0,13.0,10.0,13.0,15.0,13.0,16.0,13.0,16.0,11.0,11.0,16.0,13.0,18.0,18.0,12.0,12.0,8.0,8.0,18.0,13.0,14.0,14.0,16.0,16.0,20.0,20.0,22.0,22.0,24.0,24.0,29.0,29.0,30.0,30.0,34.0,31.0,36.0,36.0,34.0,34.0,32.0,32.0,31.0,31.0,33.0,33.0,34.0,34.0,27.0,27.0,26.0,26.0,25.0,25.0,23.0,23.0,18.0,18.0,19.0,19.0,18.0,16.0,20.0,20.0,19.0,19.0,23.0,23.0,25.0,25.0,26.0,26.0,30.0,30.0,25.0,27.0,28.0,24.0,28.0,30.0,25.0,28.0,15.0,15.0,9.0,13.0,9.0,9.0,14.0,14.0,9.0,9.0,8.0,8.0,13.0,9.0,19.0,19.0,16.0,16.0,15.0,15.0,19.0,19.0,23.0,23.0,24.0,24.0,27.0,27.0,23.0,25.0,20.0,22.0,13.0,17.0,13.0,13.0,9.0,13.0,30.0,32.0,27.0,27.0,32.0,32.0,41.0,41.0,37.0,40.0,36.0,36.0,38.0,38.0,40.0,40.0,35.0,35.0,32.0,32.0,38.0,38.0,42.0,42.0,42.0,42.0,44.0,40.0,50.0,50.0,48.0,48.0,50.0,50.0,48.0,48.0,47.0,43.0,50.0,50.0,48.0,48.0,38.0,38.0,39.0,39.0,37.0,41.0,37.0,37.0,35.0,35.0,29.0,29.0,33.0,33.0,32.0,32.0,34.0,36.0,34.0,38.0,34.0,37.0,32.0,32.0,29.0,31.0,29.0,27.0,31.0,31.0,32.0,32.0,37.0,37.0,43.0,43.0,46.0,46.0,41.0,41.0,44.0,44.0,50.0,50.0,48.0,48.0,48.0,50.0,47.0,47.0,45.0,45.0,44.0,44.0,42.0,42.0,40.0,40.0,38.0,38.0,40.0,40.0,46.0,46.0,42.0,39.0,40.0,40.0,34.0,34.0,28.0,28.0,28.0,28.0,26.0,26.0,22.0,24.0,20.0,20.0,22.0,22.0,30.0,30.0,29.0,29.0,28.0,28.0,16.0,16.0,16.0,13.0]},\"selected\":{\"id\":\"8620\"},\"selection_policy\":{\"id\":\"8619\"}},\"id\":\"8597\",\"type\":\"ColumnDataSource\"},{\"attributes\":{\"line_alpha\":0.1,\"line_dash\":[6],\"line_width\":2,\"x\":{\"field\":\"x\"},\"y\":{\"field\":\"y\"}},\"id\":\"8599\",\"type\":\"Line\"},{\"attributes\":{},\"id\":\"8622\",\"type\":\"Selection\"},{\"attributes\":{\"line_dash\":[6],\"line_width\":2,\"x\":{\"field\":\"x\"},\"y\":{\"field\":\"y\"}},\"id\":\"8598\",\"type\":\"Line\"},{\"attributes\":{},\"id\":\"8566\",\"type\":\"LinearScale\"},{\"attributes\":{\"data\":{\"xs\":[[3.0,3.0],[3.0,1.0],[3.0,6.0],[3.0,3.0],[5.0,5.0],[8.0,6.0],[8.0,12.0],[8.0,4.0],[8.0,12.0],[8.0,6.0],[8.0,12.0],[8.0,6.0],[11.0,11.0],[12.0,12.0],[13.0,13.0],[14.0,14.0],[15.0,15.0],[15.0,19.0],[18.0,18.0],[18.0,18.0],[18.0,14.0],[18.0,18.0],[18.0,14.0],[18.0,18.0],[18.0,21.0],[13.0,17.0],[21.0,23.0],[21.0,18.0],[21.0,23.0],[21.0,23.0],[21.0,23.0],[21.0,19.0],[21.0,19.0],[21.0,24.0],[21.0,24.0],[21.0,24.0],[21.0,25.0],[21.0,23.0],[21.0,23.0],[21.0,25.0],[21.0,18.0],[21.0,25.0],[21.0,17.0],[21.0,25.0],[28.0,30.0],[28.0,32.0],[28.0,26.0],[28.0,26.0],[28.0,32.0],[28.0,26.0],[28.0,26.0],[28.0,30.0],[28.0,25.0],[31.0,27.0],[31.0,27.0],[31.0,34.0],[31.0,27.0],[31.0,29.0],[31.0,28.0],[31.0,28.0],[31.0,33.0],[35.0,35.0],[35.0,32.0],[36.0,36.0],[36.0,36.0],[36.0,33.0],[36.0,36.0],[37.0,37.0],[37.0,42.0],[37.0,40.0],[37.0,37.0],[37.0,34.0],[37.0,39.0],[37.0,33.0],[38.0,36.0],[38.0,38.0],[41.0,38.0],[41.0,43.0],[41.0,39.0],[41.0,41.0],[43.0,45.0],[44.0,47.0],[44.0,47.0],[44.0,42.0],[44.0,47.0],[44.0,46.0],[51.0,51.0],[51.0,53.0],[51.0,51.0],[54.0,51.0],[54.0,58.0],[59.0,59.0],[60.0,62.0],[60.0,60.0],[60.0,60.0],[64.0,62.0],[64.0,68.0],[66.0,62.0],[67.0,67.0],[74.0,70.0],[74.0,72.0],[74.0,70.0],[74.0,71.0],[74.0,78.0],[77.0,74.0],[77.0,82.0],[77.0,80.0],[77.0,81.0],[77.0,79.0],[77.0,73.0],[77.0,74.0],[77.0,73.0],[80.0,76.0],[81.0,81.0],[81.0,78.0],[81.0,79.0],[81.0,78.0],[82.0,82.0],[82.0,85.0],[82.0,80.0],[83.0,85.0],[83.0,83.0],[83.0,81.0],[84.0,84.0],[87.0,87.0],[87.0,90.0],[87.0,89.0],[87.0,87.0],[87.0,91.0],[87.0,87.0],[110.0,110.0],[3.0,3.0],[0.0,0.0]],\"ys\":[[16.0,13.0],[29.0,29.0],[30.0,30.0],[42.0,39.0],[3.0,1.0],[16.0,16.0],[22.0,22.0],[28.0,28.0],[34.0,34.0],[40.0,40.0],[46.0,46.0],[11.0,11.0],[3.0,7.0],[13.0,10.0],[13.0,15.0],[13.0,16.0],[13.0,16.0],[8.0,8.0],[16.0,13.0],[22.0,24.0],[28.0,28.0],[34.0,31.0],[40.0,40.0],[48.0,50.0],[11.0,11.0],[20.0,20.0],[16.0,16.0],[18.0,18.0],[20.0,20.0],[22.0,22.0],[24.0,24.0],[26.0,26.0],[28.0,28.0],[30.0,30.0],[32.0,32.0],[34.0,34.0],[36.0,36.0],[38.0,38.0],[40.0,40.0],[42.0,42.0],[44.0,44.0],[45.0,45.0],[47.0,47.0],[48.0,48.0],[14.0,14.0],[18.0,18.0],[25.0,25.0],[26.0,26.0],[27.0,27.0],[29.0,29.0],[31.0,31.0],[32.0,32.0],[12.0,12.0],[19.0,19.0],[23.0,23.0],[31.0,31.0],[33.0,33.0],[37.0,37.0],[43.0,43.0],[46.0,46.0],[50.0,50.0],[29.0,27.0],[34.0,34.0],[18.0,16.0],[29.0,31.0],[32.0,32.0],[34.0,37.0],[18.0,13.0],[29.0,29.0],[32.0,32.0],[34.0,38.0],[41.0,41.0],[44.0,44.0],[8.0,8.0],[20.0,20.0],[34.0,36.0],[19.0,19.0],[23.0,23.0],[33.0,33.0],[37.0,41.0],[25.0,25.0],[26.0,26.0],[35.0,35.0],[37.0,37.0],[38.0,38.0],[39.0,39.0],[25.0,27.0],[30.0,30.0],[9.0,13.0],[48.0,48.0],[50.0,50.0],[28.0,24.0],[15.0,15.0],[28.0,30.0],[47.0,43.0],[48.0,48.0],[50.0,50.0],[9.0,9.0],[25.0,28.0],[14.0,14.0],[16.0,16.0],[19.0,19.0],[48.0,48.0],[50.0,50.0],[15.0,15.0],[19.0,19.0],[23.0,23.0],[27.0,27.0],[32.0,32.0],[38.0,38.0],[42.0,42.0],[9.0,9.0],[24.0,24.0],[13.0,9.0],[35.0,35.0],[38.0,38.0],[42.0,42.0],[13.0,17.0],[36.0,36.0],[40.0,40.0],[13.0,13.0],[44.0,40.0],[8.0,8.0],[20.0,22.0],[23.0,25.0],[27.0,27.0],[32.0,32.0],[37.0,40.0],[41.0,41.0],[9.0,13.0],[30.0,32.0],[3.0,3.0],[0.0,0.0]]},\"selected\":{\"id\":\"8618\"},\"selection_policy\":{\"id\":\"8617\"}},\"id\":\"8592\",\"type\":\"ColumnDataSource\"},{\"attributes\":{},\"id\":\"8623\",\"type\":\"UnionRenderers\"},{\"attributes\":{\"end\":54.25,\"start\":-4.25},\"id\":\"8562\",\"type\":\"Range1d\"},{\"attributes\":{\"source\":{\"id\":\"8597\"}},\"id\":\"8601\",\"type\":\"CDSView\"},{\"attributes\":{\"data\":{\"x\":[3,1,6,3,5,6,12,4,12,6,12,6,11,12,13,14,15,19,18,18,14,18,14,18,21,17,23,18,23,23,23,19,19,24,24,24,25,23,23,25,18,25,17,25,30,32,26,26,32,26,26,30,25,27,27,34,27,29,28,28,33,35,32,36,36,33,36,37,42,40,37,34,39,33,36,38,38,43,39,41,45,47,47,42,47,46,51,53,51,51,58,59,62,60,60,62,68,62,67,70,72,70,71,78,74,82,80,81,79,73,74,73,76,81,78,79,78,82,85,80,85,83,81,84,87,90,89,87,91,87,110,3,0],\"y\":[13,29,30,39,1,16,22,28,34,40,46,11,7,10,15,16,16,8,13,24,28,31,40,50,11,20,16,18,20,22,24,26,28,30,32,34,36,38,40,42,44,45,47,48,14,18,25,26,27,29,31,32,12,19,23,31,33,37,43,46,50,27,34,16,31,32,37,13,29,32,38,41,44,8,20,36,19,23,33,41,25,26,35,37,38,39,27,30,13,48,50,24,15,30,43,48,50,9,28,14,16,19,48,50,15,19,23,27,32,38,42,9,24,9,35,38,42,17,36,40,13,40,8,22,25,27,32,40,41,13,32,3,0]},\"selected\":{\"id\":\"8624\"},\"selection_policy\":{\"id\":\"8623\"}},\"id\":\"8607\",\"type\":\"ColumnDataSource\"},{\"attributes\":{},\"id\":\"8576\",\"type\":\"PanTool\"},{\"attributes\":{},\"id\":\"8624\",\"type\":\"Selection\"},{\"attributes\":{\"align\":\"center\",\"text\":\"663.7\",\"width\":800},\"id\":\"8591\",\"type\":\"Div\"},{\"attributes\":{},\"id\":\"8564\",\"type\":\"LinearScale\"},{\"attributes\":{\"axis\":{\"id\":\"8568\"},\"grid_line_color\":null,\"ticker\":null},\"id\":\"8571\",\"type\":\"Grid\"},{\"attributes\":{\"data_source\":{\"id\":\"8597\"},\"glyph\":{\"id\":\"8598\"},\"hover_glyph\":null,\"muted_glyph\":null,\"nonselection_glyph\":{\"id\":\"8599\"},\"selection_glyph\":null,\"view\":{\"id\":\"8601\"}},\"id\":\"8600\",\"type\":\"GlyphRenderer\"},{\"attributes\":{},\"id\":\"8577\",\"type\":\"WheelZoomTool\"},{\"attributes\":{\"overlay\":{\"id\":\"8582\"}},\"id\":\"8578\",\"type\":\"BoxZoomTool\"},{\"attributes\":{\"source\":{\"id\":\"8607\"}},\"id\":\"8611\",\"type\":\"CDSView\"},{\"attributes\":{\"fill_color\":{\"value\":\"#DC0000\"},\"line_color\":{\"value\":\"#DC0000\"},\"size\":{\"units\":\"screen\",\"value\":5},\"x\":{\"field\":\"x\"},\"y\":{\"field\":\"y\"}},\"id\":\"8608\",\"type\":\"Circle\"},{\"attributes\":{},\"id\":\"8579\",\"type\":\"SaveTool\"},{\"attributes\":{\"fill_color\":{\"value\":\"steelblue\"},\"line_color\":{\"value\":\"steelblue\"},\"size\":{\"units\":\"screen\",\"value\":5},\"x\":{\"field\":\"x\"},\"y\":{\"field\":\"y\"}},\"id\":\"8603\",\"type\":\"Circle\"},{\"attributes\":{},\"id\":\"8580\",\"type\":\"ResetTool\"},{\"attributes\":{\"fill_alpha\":{\"value\":0.1},\"fill_color\":{\"value\":\"steelblue\"},\"line_alpha\":{\"value\":0.1},\"line_color\":{\"value\":\"steelblue\"},\"size\":{\"units\":\"screen\",\"value\":5},\"x\":{\"field\":\"x\"},\"y\":{\"field\":\"y\"}},\"id\":\"8604\",\"type\":\"Circle\"},{\"attributes\":{\"formatter\":{\"id\":\"8615\"},\"ticker\":{\"id\":\"8573\"},\"visible\":false},\"id\":\"8572\",\"type\":\"LinearAxis\"},{\"attributes\":{\"background_fill_color\":null,\"below\":[{\"id\":\"8568\"}],\"border_fill_color\":null,\"center\":[{\"id\":\"8571\"},{\"id\":\"8575\"}],\"left\":[{\"id\":\"8572\"}],\"outline_line_color\":null,\"plot_height\":400,\"plot_width\":800,\"renderers\":[{\"id\":\"8595\"},{\"id\":\"8600\"},{\"id\":\"8605\"},{\"id\":\"8610\"}],\"title\":{\"id\":\"8558\"},\"toolbar\":{\"id\":\"8583\"},\"toolbar_location\":null,\"x_range\":{\"id\":\"8560\"},\"x_scale\":{\"id\":\"8564\"},\"y_range\":{\"id\":\"8562\"},\"y_scale\":{\"id\":\"8566\"}},\"id\":\"8557\",\"subtype\":\"Figure\",\"type\":\"Plot\"},{\"attributes\":{},\"id\":\"8581\",\"type\":\"HelpTool\"},{\"attributes\":{\"fill_alpha\":{\"value\":0.1},\"fill_color\":{\"value\":\"#DC0000\"},\"line_alpha\":{\"value\":0.1},\"line_color\":{\"value\":\"#DC0000\"},\"size\":{\"units\":\"screen\",\"value\":5},\"x\":{\"field\":\"x\"},\"y\":{\"field\":\"y\"}},\"id\":\"8609\",\"type\":\"Circle\"},{\"attributes\":{},\"id\":\"8569\",\"type\":\"BasicTicker\"},{\"attributes\":{\"formatter\":{\"id\":\"8613\"},\"ticker\":{\"id\":\"8569\"},\"visible\":false},\"id\":\"8568\",\"type\":\"LinearAxis\"},{\"attributes\":{\"line_width\":{\"value\":2},\"xs\":{\"field\":\"xs\"},\"ys\":{\"field\":\"ys\"}},\"id\":\"8593\",\"type\":\"MultiLine\"},{\"attributes\":{\"data_source\":{\"id\":\"8607\"},\"glyph\":{\"id\":\"8608\"},\"hover_glyph\":null,\"muted_glyph\":null,\"nonselection_glyph\":{\"id\":\"8609\"},\"selection_glyph\":null,\"view\":{\"id\":\"8611\"}},\"id\":\"8610\",\"type\":\"GlyphRenderer\"},{\"attributes\":{\"source\":{\"id\":\"8602\"}},\"id\":\"8606\",\"type\":\"CDSView\"},{\"attributes\":{},\"id\":\"8613\",\"type\":\"BasicTickFormatter\"},{\"attributes\":{\"data_source\":{\"id\":\"8602\"},\"glyph\":{\"id\":\"8603\"},\"hover_glyph\":null,\"muted_glyph\":null,\"nonselection_glyph\":{\"id\":\"8604\"},\"selection_glyph\":null,\"view\":{\"id\":\"8606\"}},\"id\":\"8605\",\"type\":\"GlyphRenderer\"},{\"attributes\":{},\"id\":\"8615\",\"type\":\"BasicTickFormatter\"},{\"attributes\":{\"bottom_units\":\"screen\",\"fill_alpha\":0.5,\"fill_color\":\"lightgrey\",\"left_units\":\"screen\",\"level\":\"overlay\",\"line_alpha\":1.0,\"line_color\":\"black\",\"line_dash\":[4,4],\"line_width\":2,\"right_units\":\"screen\",\"top_units\":\"screen\"},\"id\":\"8582\",\"type\":\"BoxAnnotation\"},{\"attributes\":{\"text\":\"\"},\"id\":\"8558\",\"type\":\"Title\"},{\"attributes\":{},\"id\":\"8617\",\"type\":\"UnionRenderers\"},{\"attributes\":{\"active_drag\":\"auto\",\"active_inspect\":\"auto\",\"active_multi\":null,\"active_scroll\":\"auto\",\"active_tap\":\"auto\",\"logo\":null,\"tools\":[{\"id\":\"8576\"},{\"id\":\"8577\"},{\"id\":\"8578\"},{\"id\":\"8579\"},{\"id\":\"8580\"},{\"id\":\"8581\"}]},\"id\":\"8583\",\"type\":\"Toolbar\"},{\"attributes\":{\"line_alpha\":{\"value\":0.1},\"line_width\":{\"value\":2},\"xs\":{\"field\":\"xs\"},\"ys\":{\"field\":\"ys\"}},\"id\":\"8594\",\"type\":\"MultiLine\"},{\"attributes\":{},\"id\":\"8618\",\"type\":\"Selection\"},{\"attributes\":{\"end\":119.35,\"start\":-9.350000000000001},\"id\":\"8560\",\"type\":\"Range1d\"},{\"attributes\":{\"source\":{\"id\":\"8592\"}},\"id\":\"8596\",\"type\":\"CDSView\"},{\"attributes\":{},\"id\":\"8619\",\"type\":\"UnionRenderers\"}],\"root_ids\":[\"8627\"]},\"title\":\"Bokeh Application\",\"version\":\"2.1.0\"}};\n",
       "  var render_items = [{\"docid\":\"6b4adb55-138b-47c0-863d-97d0464880cc\",\"root_ids\":[\"8627\"],\"roots\":{\"8627\":\"bbd8b2b9-2d42-450d-b0a2-f374629034d0\"}}];\n",
       "  root.Bokeh.embed.embed_items_notebook(docs_json, render_items);\n",
       "\n",
       "  }\n",
       "  if (root.Bokeh !== undefined) {\n",
       "    embed_document(root);\n",
       "  } else {\n",
       "    var attempts = 0;\n",
       "    var timer = setInterval(function(root) {\n",
       "      if (root.Bokeh !== undefined) {\n",
       "        clearInterval(timer);\n",
       "        embed_document(root);\n",
       "      } else {\n",
       "        attempts++;\n",
       "        if (attempts > 100) {\n",
       "          clearInterval(timer);\n",
       "          console.log(\"Bokeh: ERROR: Unable to run BokehJS code because BokehJS library is missing\");\n",
       "        }\n",
       "      }\n",
       "    }, 10, root)\n",
       "  }\n",
       "})(window);"
      ],
      "application/vnd.bokehjs_exec.v0+json": ""
     },
     "metadata": {
      "application/vnd.bokehjs_exec.v0+json": {
       "id": "8627"
      }
     },
     "output_type": "display_data"
    }
   ],
   "source": [
    "# Furthest insertion\n",
    "plot_etching_tour(nodes, G, furthest_insertion(G, initial=[0,70,0]))"
   ]
  },
  {
   "cell_type": "markdown",
   "metadata": {},
   "source": [
    "<font color='red'>Don't have a known optimal solution to this instance. Should get one.</font>"
   ]
  },
  {
   "cell_type": "markdown",
   "metadata": {},
   "source": [
    "Unfortunately, we do not have a known optimal solution to this problem but OR-Tools offers us more advanced techniques for finding a good feasible solution. Let's see if it does better than our heuristics!"
   ]
  },
  {
   "cell_type": "code",
   "execution_count": 42,
   "metadata": {},
   "outputs": [
    {
     "data": {
      "text/html": [
       "\n",
       "\n",
       "\n",
       "\n",
       "\n",
       "\n",
       "  <div class=\"bk-root\" id=\"f6457b29-9f99-4542-bd59-0de540db8c17\" data-root-id=\"9106\"></div>\n"
      ]
     },
     "metadata": {},
     "output_type": "display_data"
    },
    {
     "data": {
      "application/javascript": [
       "(function(root) {\n",
       "  function embed_document(root) {\n",
       "    \n",
       "  var docs_json = {\"88c6f5a4-334d-451e-82e9-1bc68dfeddf9\":{\"roots\":{\"references\":[{\"attributes\":{\"children\":[[{\"id\":\"9036\"},0,0],[{\"id\":\"9070\"},1,0]]},\"id\":\"9106\",\"type\":\"GridBox\"},{\"attributes\":{},\"id\":\"9043\",\"type\":\"LinearScale\"},{\"attributes\":{},\"id\":\"9099\",\"type\":\"Selection\"},{\"attributes\":{\"data\":{\"x\":[3.0,3.0,8.0,6.0,13.0,13.0,15.0,15.0,18.0,18.0,21.0,18.0,21.0,23.0,28.0,26.0,28.0,26.0,28.0,26.0,28.0,30.0,31.0,27.0,36.0,33.0,36.0,36.0,35.0,35.0,28.0,32.0,28.0,26.0,31.0,27.0,28.0,32.0,28.0,30.0,28.0,25.0,37.0,33.0,37.0,37.0,38.0,36.0,41.0,43.0,37.0,40.0,41.0,39.0,44.0,42.0,44.0,47.0,44.0,47.0,44.0,46.0,41.0,41.0,37.0,37.0,38.0,38.0,36.0,36.0,31.0,29.0,21.0,25.0,21.0,23.0,21.0,23.0,21.0,25.0,21.0,18.0,21.0,25.0,21.0,17.0,21.0,25.0,18.0,18.0,8.0,12.0,3.0,3.0,8.0,6.0,18.0,14.0,8.0,12.0,3.0,6.0,3.0,1.0,8.0,4.0,18.0,14.0,18.0,18.0,13.0,17.0,8.0,12.0,8.0,6.0,3.0,3.0,0.0,0.0,5.0,5.0,11.0,11.0,15.0,19.0,18.0,21.0,21.0,23.0,31.0,27.0,36.0,36.0,41.0,38.0,51.0,51.0,66.0,62.0,77.0,73.0,83.0,81.0,81.0,81.0,82.0,82.0,83.0,85.0,87.0,87.0,110.0,110.0,87.0,89.0,87.0,90.0,87.0,87.0,84.0,84.0,77.0,82.0,77.0,80.0,67.0,67.0,59.0,59.0,60.0,60.0,60.0,62.0,74.0,70.0,77.0,74.0,74.0,72.0,74.0,70.0,80.0,76.0,77.0,81.0,77.0,79.0,81.0,78.0,81.0,79.0,82.0,80.0,83.0,83.0,87.0,91.0,87.0,87.0,82.0,85.0,77.0,73.0,77.0,74.0,81.0,78.0,74.0,78.0,74.0,71.0,64.0,68.0,64.0,62.0,60.0,60.0,54.0,58.0,54.0,51.0,51.0,53.0,51.0,51.0,44.0,47.0,43.0,45.0,37.0,42.0,31.0,34.0,35.0,32.0,37.0,34.0,37.0,39.0,31.0,33.0,31.0,28.0,31.0,28.0,21.0,24.0,21.0,24.0,21.0,24.0,18.0,18.0,21.0,19.0,21.0,19.0,21.0,23.0,21.0,23.0,14.0,14.0,12.0,12.0,3.0,3.0],\"y\":[16.0,13.0,16.0,16.0,13.0,15.0,13.0,16.0,16.0,13.0,18.0,18.0,20.0,20.0,26.0,26.0,29.0,29.0,31.0,31.0,32.0,32.0,33.0,33.0,32.0,32.0,29.0,31.0,29.0,27.0,27.0,27.0,25.0,25.0,23.0,23.0,18.0,18.0,14.0,14.0,12.0,12.0,8.0,8.0,18.0,13.0,20.0,20.0,23.0,23.0,32.0,32.0,33.0,33.0,37.0,37.0,35.0,35.0,38.0,38.0,39.0,39.0,37.0,41.0,34.0,38.0,34.0,36.0,34.0,37.0,37.0,37.0,36.0,36.0,38.0,38.0,40.0,40.0,42.0,42.0,44.0,44.0,45.0,45.0,47.0,47.0,48.0,48.0,48.0,50.0,46.0,46.0,42.0,39.0,40.0,40.0,40.0,40.0,34.0,34.0,30.0,30.0,29.0,29.0,28.0,28.0,28.0,28.0,22.0,24.0,20.0,20.0,22.0,22.0,11.0,11.0,3.0,3.0,0.0,0.0,3.0,1.0,3.0,7.0,8.0,8.0,11.0,11.0,16.0,16.0,19.0,19.0,18.0,16.0,19.0,19.0,9.0,13.0,9.0,9.0,9.0,9.0,8.0,8.0,13.0,9.0,13.0,17.0,13.0,13.0,9.0,13.0,30.0,32.0,32.0,32.0,27.0,27.0,23.0,25.0,20.0,22.0,19.0,19.0,23.0,23.0,25.0,28.0,28.0,24.0,28.0,30.0,15.0,15.0,14.0,14.0,15.0,15.0,16.0,16.0,19.0,19.0,24.0,24.0,27.0,27.0,32.0,32.0,35.0,35.0,38.0,38.0,40.0,40.0,44.0,40.0,41.0,41.0,37.0,40.0,36.0,36.0,38.0,38.0,42.0,42.0,42.0,42.0,50.0,50.0,48.0,48.0,50.0,50.0,48.0,48.0,47.0,43.0,50.0,50.0,48.0,48.0,30.0,30.0,25.0,27.0,26.0,26.0,25.0,25.0,29.0,29.0,31.0,31.0,34.0,34.0,41.0,41.0,44.0,44.0,50.0,50.0,46.0,46.0,43.0,43.0,34.0,34.0,32.0,32.0,30.0,30.0,34.0,31.0,28.0,28.0,26.0,26.0,24.0,24.0,22.0,22.0,13.0,16.0,13.0,10.0,16.0,13.0]},\"selected\":{\"id\":\"9099\"},\"selection_policy\":{\"id\":\"9098\"}},\"id\":\"9076\",\"type\":\"ColumnDataSource\"},{\"attributes\":{},\"id\":\"9100\",\"type\":\"UnionRenderers\"},{\"attributes\":{\"source\":{\"id\":\"9081\"}},\"id\":\"9085\",\"type\":\"CDSView\"},{\"attributes\":{},\"id\":\"9101\",\"type\":\"Selection\"},{\"attributes\":{\"end\":54.25,\"start\":-4.25},\"id\":\"9041\",\"type\":\"Range1d\"},{\"attributes\":{\"line_dash\":[6],\"line_width\":2,\"x\":{\"field\":\"x\"},\"y\":{\"field\":\"y\"}},\"id\":\"9077\",\"type\":\"Line\"},{\"attributes\":{},\"id\":\"9102\",\"type\":\"UnionRenderers\"},{\"attributes\":{\"data\":{\"x\":[3,1,6,3,5,6,12,4,12,6,12,6,11,12,13,14,15,19,18,18,14,18,14,18,21,17,23,18,23,23,23,19,19,24,24,24,25,23,23,25,18,25,17,25,30,32,26,26,32,26,26,30,25,27,27,34,27,29,28,28,33,35,32,36,36,33,36,37,42,40,37,34,39,33,36,38,38,43,39,41,45,47,47,42,47,46,51,53,51,51,58,59,62,60,60,62,68,62,67,70,72,70,71,78,74,82,80,81,79,73,74,73,76,81,78,79,78,82,85,80,85,83,81,84,87,90,89,87,91,87,110,3,0],\"y\":[13,29,30,39,1,16,22,28,34,40,46,11,7,10,15,16,16,8,13,24,28,31,40,50,11,20,16,18,20,22,24,26,28,30,32,34,36,38,40,42,44,45,47,48,14,18,25,26,27,29,31,32,12,19,23,31,33,37,43,46,50,27,34,16,31,32,37,13,29,32,38,41,44,8,20,36,19,23,33,41,25,26,35,37,38,39,27,30,13,48,50,24,15,30,43,48,50,9,28,14,16,19,48,50,15,19,23,27,32,38,42,9,24,9,35,38,42,17,36,40,13,40,8,22,25,27,32,40,41,13,32,3,0]},\"selected\":{\"id\":\"9103\"},\"selection_policy\":{\"id\":\"9102\"}},\"id\":\"9086\",\"type\":\"ColumnDataSource\"},{\"attributes\":{},\"id\":\"9103\",\"type\":\"Selection\"},{\"attributes\":{\"fill_color\":{\"value\":\"steelblue\"},\"line_color\":{\"value\":\"steelblue\"},\"size\":{\"units\":\"screen\",\"value\":5},\"x\":{\"field\":\"x\"},\"y\":{\"field\":\"y\"}},\"id\":\"9082\",\"type\":\"Circle\"},{\"attributes\":{\"text\":\"\"},\"id\":\"9037\",\"type\":\"Title\"},{\"attributes\":{},\"id\":\"9060\",\"type\":\"HelpTool\"},{\"attributes\":{\"fill_alpha\":{\"value\":0.1},\"fill_color\":{\"value\":\"steelblue\"},\"line_alpha\":{\"value\":0.1},\"line_color\":{\"value\":\"steelblue\"},\"size\":{\"units\":\"screen\",\"value\":5},\"x\":{\"field\":\"x\"},\"y\":{\"field\":\"y\"}},\"id\":\"9083\",\"type\":\"Circle\"},{\"attributes\":{\"end\":119.35,\"start\":-9.350000000000001},\"id\":\"9039\",\"type\":\"Range1d\"},{\"attributes\":{\"formatter\":{\"id\":\"9094\"},\"ticker\":{\"id\":\"9052\"},\"visible\":false},\"id\":\"9051\",\"type\":\"LinearAxis\"},{\"attributes\":{},\"id\":\"9045\",\"type\":\"LinearScale\"},{\"attributes\":{\"data_source\":{\"id\":\"9081\"},\"glyph\":{\"id\":\"9082\"},\"hover_glyph\":null,\"muted_glyph\":null,\"nonselection_glyph\":{\"id\":\"9083\"},\"selection_glyph\":null,\"view\":{\"id\":\"9085\"}},\"id\":\"9084\",\"type\":\"GlyphRenderer\"},{\"attributes\":{\"line_alpha\":{\"value\":0.1},\"line_width\":{\"value\":2},\"xs\":{\"field\":\"xs\"},\"ys\":{\"field\":\"ys\"}},\"id\":\"9073\",\"type\":\"MultiLine\"},{\"attributes\":{\"data_source\":{\"id\":\"9071\"},\"glyph\":{\"id\":\"9072\"},\"hover_glyph\":null,\"muted_glyph\":null,\"nonselection_glyph\":{\"id\":\"9073\"},\"selection_glyph\":null,\"view\":{\"id\":\"9075\"}},\"id\":\"9074\",\"type\":\"GlyphRenderer\"},{\"attributes\":{\"formatter\":{\"id\":\"9092\"},\"ticker\":{\"id\":\"9048\"},\"visible\":false},\"id\":\"9047\",\"type\":\"LinearAxis\"},{\"attributes\":{},\"id\":\"9059\",\"type\":\"ResetTool\"},{\"attributes\":{},\"id\":\"9058\",\"type\":\"SaveTool\"},{\"attributes\":{\"fill_color\":{\"value\":\"#DC0000\"},\"line_color\":{\"value\":\"#DC0000\"},\"size\":{\"units\":\"screen\",\"value\":5},\"x\":{\"field\":\"x\"},\"y\":{\"field\":\"y\"}},\"id\":\"9087\",\"type\":\"Circle\"},{\"attributes\":{\"overlay\":{\"id\":\"9061\"}},\"id\":\"9057\",\"type\":\"BoxZoomTool\"},{\"attributes\":{\"axis\":{\"id\":\"9047\"},\"grid_line_color\":null,\"ticker\":null},\"id\":\"9050\",\"type\":\"Grid\"},{\"attributes\":{\"source\":{\"id\":\"9076\"}},\"id\":\"9080\",\"type\":\"CDSView\"},{\"attributes\":{\"fill_alpha\":{\"value\":0.1},\"fill_color\":{\"value\":\"#DC0000\"},\"line_alpha\":{\"value\":0.1},\"line_color\":{\"value\":\"#DC0000\"},\"size\":{\"units\":\"screen\",\"value\":5},\"x\":{\"field\":\"x\"},\"y\":{\"field\":\"y\"}},\"id\":\"9088\",\"type\":\"Circle\"},{\"attributes\":{\"data_source\":{\"id\":\"9076\"},\"glyph\":{\"id\":\"9077\"},\"hover_glyph\":null,\"muted_glyph\":null,\"nonselection_glyph\":{\"id\":\"9078\"},\"selection_glyph\":null,\"view\":{\"id\":\"9080\"}},\"id\":\"9079\",\"type\":\"GlyphRenderer\"},{\"attributes\":{},\"id\":\"9048\",\"type\":\"BasicTicker\"},{\"attributes\":{\"source\":{\"id\":\"9086\"}},\"id\":\"9090\",\"type\":\"CDSView\"},{\"attributes\":{\"active_drag\":\"auto\",\"active_inspect\":\"auto\",\"active_multi\":null,\"active_scroll\":\"auto\",\"active_tap\":\"auto\",\"logo\":null,\"tools\":[{\"id\":\"9055\"},{\"id\":\"9056\"},{\"id\":\"9057\"},{\"id\":\"9058\"},{\"id\":\"9059\"},{\"id\":\"9060\"}]},\"id\":\"9062\",\"type\":\"Toolbar\"},{\"attributes\":{\"data_source\":{\"id\":\"9086\"},\"glyph\":{\"id\":\"9087\"},\"hover_glyph\":null,\"muted_glyph\":null,\"nonselection_glyph\":{\"id\":\"9088\"},\"selection_glyph\":null,\"view\":{\"id\":\"9090\"}},\"id\":\"9089\",\"type\":\"GlyphRenderer\"},{\"attributes\":{\"axis\":{\"id\":\"9051\"},\"dimension\":1,\"grid_line_color\":null,\"ticker\":null},\"id\":\"9054\",\"type\":\"Grid\"},{\"attributes\":{\"data\":{\"x\":[3.0,3.0,3.0,3.0,5.0,8.0,8.0,8.0,8.0,8.0,8.0,8.0,11.0,12.0,13.0,14.0,15.0,15.0,18.0,18.0,18.0,18.0,18.0,18.0,18.0,13.0,21.0,21.0,21.0,21.0,21.0,21.0,21.0,21.0,21.0,21.0,21.0,21.0,21.0,21.0,21.0,21.0,21.0,21.0,28.0,28.0,28.0,28.0,28.0,28.0,28.0,28.0,28.0,31.0,31.0,31.0,31.0,31.0,31.0,31.0,31.0,35.0,35.0,36.0,36.0,36.0,36.0,37.0,37.0,37.0,37.0,37.0,37.0,37.0,38.0,38.0,41.0,41.0,41.0,41.0,43.0,44.0,44.0,44.0,44.0,44.0,51.0,51.0,51.0,54.0,54.0,59.0,60.0,60.0,60.0,64.0,64.0,66.0,67.0,74.0,74.0,74.0,74.0,74.0,77.0,77.0,77.0,77.0,77.0,77.0,77.0,77.0,80.0,81.0,81.0,81.0,81.0,82.0,82.0,82.0,83.0,83.0,83.0,84.0,87.0,87.0,87.0,87.0,87.0,87.0,110.0,3.0,0.0],\"y\":[16.0,29.0,30.0,42.0,3.0,16.0,22.0,28.0,34.0,40.0,46.0,11.0,3.0,13.0,13.0,13.0,13.0,8.0,16.0,22.0,28.0,34.0,40.0,48.0,11.0,20.0,16.0,18.0,20.0,22.0,24.0,26.0,28.0,30.0,32.0,34.0,36.0,38.0,40.0,42.0,44.0,45.0,47.0,48.0,14.0,18.0,25.0,26.0,27.0,29.0,31.0,32.0,12.0,19.0,23.0,31.0,33.0,37.0,43.0,46.0,50.0,29.0,34.0,18.0,29.0,32.0,34.0,18.0,29.0,32.0,34.0,41.0,44.0,8.0,20.0,34.0,19.0,23.0,33.0,37.0,25.0,26.0,35.0,37.0,38.0,39.0,25.0,30.0,9.0,48.0,50.0,28.0,15.0,28.0,47.0,48.0,50.0,9.0,25.0,14.0,16.0,19.0,48.0,50.0,15.0,19.0,23.0,27.0,32.0,38.0,42.0,9.0,24.0,13.0,35.0,38.0,42.0,13.0,36.0,40.0,13.0,44.0,8.0,20.0,23.0,27.0,32.0,37.0,41.0,9.0,30.0,3.0,0.0]},\"selected\":{\"id\":\"9101\"},\"selection_policy\":{\"id\":\"9100\"}},\"id\":\"9081\",\"type\":\"ColumnDataSource\"},{\"attributes\":{\"source\":{\"id\":\"9071\"}},\"id\":\"9075\",\"type\":\"CDSView\"},{\"attributes\":{},\"id\":\"9056\",\"type\":\"WheelZoomTool\"},{\"attributes\":{},\"id\":\"9092\",\"type\":\"BasicTickFormatter\"},{\"attributes\":{},\"id\":\"9052\",\"type\":\"BasicTicker\"},{\"attributes\":{},\"id\":\"9094\",\"type\":\"BasicTickFormatter\"},{\"attributes\":{\"line_width\":{\"value\":2},\"xs\":{\"field\":\"xs\"},\"ys\":{\"field\":\"ys\"}},\"id\":\"9072\",\"type\":\"MultiLine\"},{\"attributes\":{\"align\":\"center\",\"text\":\"681.2\",\"width\":800},\"id\":\"9070\",\"type\":\"Div\"},{\"attributes\":{},\"id\":\"9098\",\"type\":\"UnionRenderers\"},{\"attributes\":{},\"id\":\"9096\",\"type\":\"UnionRenderers\"},{\"attributes\":{\"data\":{\"xs\":[[3.0,3.0],[3.0,1.0],[3.0,6.0],[3.0,3.0],[5.0,5.0],[8.0,6.0],[8.0,12.0],[8.0,4.0],[8.0,12.0],[8.0,6.0],[8.0,12.0],[8.0,6.0],[11.0,11.0],[12.0,12.0],[13.0,13.0],[14.0,14.0],[15.0,15.0],[15.0,19.0],[18.0,18.0],[18.0,18.0],[18.0,14.0],[18.0,18.0],[18.0,14.0],[18.0,18.0],[18.0,21.0],[13.0,17.0],[21.0,23.0],[21.0,18.0],[21.0,23.0],[21.0,23.0],[21.0,23.0],[21.0,19.0],[21.0,19.0],[21.0,24.0],[21.0,24.0],[21.0,24.0],[21.0,25.0],[21.0,23.0],[21.0,23.0],[21.0,25.0],[21.0,18.0],[21.0,25.0],[21.0,17.0],[21.0,25.0],[28.0,30.0],[28.0,32.0],[28.0,26.0],[28.0,26.0],[28.0,32.0],[28.0,26.0],[28.0,26.0],[28.0,30.0],[28.0,25.0],[31.0,27.0],[31.0,27.0],[31.0,34.0],[31.0,27.0],[31.0,29.0],[31.0,28.0],[31.0,28.0],[31.0,33.0],[35.0,35.0],[35.0,32.0],[36.0,36.0],[36.0,36.0],[36.0,33.0],[36.0,36.0],[37.0,37.0],[37.0,42.0],[37.0,40.0],[37.0,37.0],[37.0,34.0],[37.0,39.0],[37.0,33.0],[38.0,36.0],[38.0,38.0],[41.0,38.0],[41.0,43.0],[41.0,39.0],[41.0,41.0],[43.0,45.0],[44.0,47.0],[44.0,47.0],[44.0,42.0],[44.0,47.0],[44.0,46.0],[51.0,51.0],[51.0,53.0],[51.0,51.0],[54.0,51.0],[54.0,58.0],[59.0,59.0],[60.0,62.0],[60.0,60.0],[60.0,60.0],[64.0,62.0],[64.0,68.0],[66.0,62.0],[67.0,67.0],[74.0,70.0],[74.0,72.0],[74.0,70.0],[74.0,71.0],[74.0,78.0],[77.0,74.0],[77.0,82.0],[77.0,80.0],[77.0,81.0],[77.0,79.0],[77.0,73.0],[77.0,74.0],[77.0,73.0],[80.0,76.0],[81.0,81.0],[81.0,78.0],[81.0,79.0],[81.0,78.0],[82.0,82.0],[82.0,85.0],[82.0,80.0],[83.0,85.0],[83.0,83.0],[83.0,81.0],[84.0,84.0],[87.0,87.0],[87.0,90.0],[87.0,89.0],[87.0,87.0],[87.0,91.0],[87.0,87.0],[110.0,110.0],[3.0,3.0],[0.0,0.0]],\"ys\":[[16.0,13.0],[29.0,29.0],[30.0,30.0],[42.0,39.0],[3.0,1.0],[16.0,16.0],[22.0,22.0],[28.0,28.0],[34.0,34.0],[40.0,40.0],[46.0,46.0],[11.0,11.0],[3.0,7.0],[13.0,10.0],[13.0,15.0],[13.0,16.0],[13.0,16.0],[8.0,8.0],[16.0,13.0],[22.0,24.0],[28.0,28.0],[34.0,31.0],[40.0,40.0],[48.0,50.0],[11.0,11.0],[20.0,20.0],[16.0,16.0],[18.0,18.0],[20.0,20.0],[22.0,22.0],[24.0,24.0],[26.0,26.0],[28.0,28.0],[30.0,30.0],[32.0,32.0],[34.0,34.0],[36.0,36.0],[38.0,38.0],[40.0,40.0],[42.0,42.0],[44.0,44.0],[45.0,45.0],[47.0,47.0],[48.0,48.0],[14.0,14.0],[18.0,18.0],[25.0,25.0],[26.0,26.0],[27.0,27.0],[29.0,29.0],[31.0,31.0],[32.0,32.0],[12.0,12.0],[19.0,19.0],[23.0,23.0],[31.0,31.0],[33.0,33.0],[37.0,37.0],[43.0,43.0],[46.0,46.0],[50.0,50.0],[29.0,27.0],[34.0,34.0],[18.0,16.0],[29.0,31.0],[32.0,32.0],[34.0,37.0],[18.0,13.0],[29.0,29.0],[32.0,32.0],[34.0,38.0],[41.0,41.0],[44.0,44.0],[8.0,8.0],[20.0,20.0],[34.0,36.0],[19.0,19.0],[23.0,23.0],[33.0,33.0],[37.0,41.0],[25.0,25.0],[26.0,26.0],[35.0,35.0],[37.0,37.0],[38.0,38.0],[39.0,39.0],[25.0,27.0],[30.0,30.0],[9.0,13.0],[48.0,48.0],[50.0,50.0],[28.0,24.0],[15.0,15.0],[28.0,30.0],[47.0,43.0],[48.0,48.0],[50.0,50.0],[9.0,9.0],[25.0,28.0],[14.0,14.0],[16.0,16.0],[19.0,19.0],[48.0,48.0],[50.0,50.0],[15.0,15.0],[19.0,19.0],[23.0,23.0],[27.0,27.0],[32.0,32.0],[38.0,38.0],[42.0,42.0],[9.0,9.0],[24.0,24.0],[13.0,9.0],[35.0,35.0],[38.0,38.0],[42.0,42.0],[13.0,17.0],[36.0,36.0],[40.0,40.0],[13.0,13.0],[44.0,40.0],[8.0,8.0],[20.0,22.0],[23.0,25.0],[27.0,27.0],[32.0,32.0],[37.0,40.0],[41.0,41.0],[9.0,13.0],[30.0,32.0],[3.0,3.0],[0.0,0.0]]},\"selected\":{\"id\":\"9097\"},\"selection_policy\":{\"id\":\"9096\"}},\"id\":\"9071\",\"type\":\"ColumnDataSource\"},{\"attributes\":{},\"id\":\"9097\",\"type\":\"Selection\"},{\"attributes\":{\"bottom_units\":\"screen\",\"fill_alpha\":0.5,\"fill_color\":\"lightgrey\",\"left_units\":\"screen\",\"level\":\"overlay\",\"line_alpha\":1.0,\"line_color\":\"black\",\"line_dash\":[4,4],\"line_width\":2,\"right_units\":\"screen\",\"top_units\":\"screen\"},\"id\":\"9061\",\"type\":\"BoxAnnotation\"},{\"attributes\":{},\"id\":\"9055\",\"type\":\"PanTool\"},{\"attributes\":{\"background_fill_color\":null,\"below\":[{\"id\":\"9047\"}],\"border_fill_color\":null,\"center\":[{\"id\":\"9050\"},{\"id\":\"9054\"}],\"left\":[{\"id\":\"9051\"}],\"outline_line_color\":null,\"plot_height\":400,\"plot_width\":800,\"renderers\":[{\"id\":\"9074\"},{\"id\":\"9079\"},{\"id\":\"9084\"},{\"id\":\"9089\"}],\"title\":{\"id\":\"9037\"},\"toolbar\":{\"id\":\"9062\"},\"toolbar_location\":null,\"x_range\":{\"id\":\"9039\"},\"x_scale\":{\"id\":\"9043\"},\"y_range\":{\"id\":\"9041\"},\"y_scale\":{\"id\":\"9045\"}},\"id\":\"9036\",\"subtype\":\"Figure\",\"type\":\"Plot\"},{\"attributes\":{\"line_alpha\":0.1,\"line_dash\":[6],\"line_width\":2,\"x\":{\"field\":\"x\"},\"y\":{\"field\":\"y\"}},\"id\":\"9078\",\"type\":\"Line\"}],\"root_ids\":[\"9106\"]},\"title\":\"Bokeh Application\",\"version\":\"2.1.0\"}};\n",
       "  var render_items = [{\"docid\":\"88c6f5a4-334d-451e-82e9-1bc68dfeddf9\",\"root_ids\":[\"9106\"],\"roots\":{\"9106\":\"f6457b29-9f99-4542-bd59-0de540db8c17\"}}];\n",
       "  root.Bokeh.embed.embed_items_notebook(docs_json, render_items);\n",
       "\n",
       "  }\n",
       "  if (root.Bokeh !== undefined) {\n",
       "    embed_document(root);\n",
       "  } else {\n",
       "    var attempts = 0;\n",
       "    var timer = setInterval(function(root) {\n",
       "      if (root.Bokeh !== undefined) {\n",
       "        clearInterval(timer);\n",
       "        embed_document(root);\n",
       "      } else {\n",
       "        attempts++;\n",
       "        if (attempts > 100) {\n",
       "          clearInterval(timer);\n",
       "          console.log(\"Bokeh: ERROR: Unable to run BokehJS code because BokehJS library is missing\");\n",
       "        }\n",
       "      }\n",
       "    }, 10, root)\n",
       "  }\n",
       "})(window);"
      ],
      "application/vnd.bokehjs_exec.v0+json": ""
     },
     "metadata": {
      "application/vnd.bokehjs_exec.v0+json": {
       "id": "9106"
      }
     },
     "output_type": "display_data"
    }
   ],
   "source": [
    "# OR-Tools\n",
    "plot_etching_tour(nodes, G, solve_tsp(G))"
   ]
  },
  {
   "cell_type": "markdown",
   "metadata": {},
   "source": [
    "**Q28:** Compare the heuristics performance. How did they compare to OR-Tool's TSP solver?\n",
    "\n",
    "**A:** <font color='blue'>Will vary. Nearest neighbor did 866.0, nearest insertion did 715.5, furthest insertion did 662.1, and OR-Tools did 681.2. Furthest insertion beat OR-Tools!</font> "
   ]
  },
  {
   "cell_type": "markdown",
   "metadata": {},
   "source": [
    "You may have noticed that we did not use 2-OPT to try and improve the tours. In fact, 2-OPT only applies when the distances are symmetric. In **Q27**, you should have found that is not the case for the PCB drilling problem."
   ]
  },
  {
   "cell_type": "markdown",
   "metadata": {},
   "source": [
    "**Bonus:** Why does 2-OPT only apply when the distances are symmetric?\n",
    "\n",
    "**A:** <font color='blue'> When we reconnect the edges, a section of the tour is now traversed in the opposite direction. When the distances are symmetric, this does not have any affect on the objective value. However, with asymmetric distances, this *does* affect the objective value!</font>"
   ]
  }
 ],
 "metadata": {
  "kernelspec": {
   "display_name": "Python 3",
   "language": "python",
   "name": "python3"
  },
  "language_info": {
   "codemirror_mode": {
    "name": "ipython",
    "version": 3
   },
   "file_extension": ".py",
   "mimetype": "text/x-python",
   "name": "python",
   "nbconvert_exporter": "python",
   "pygments_lexer": "ipython3",
   "version": "3.6.10"
  }
 },
 "nbformat": 4,
 "nbformat_minor": 4
}
