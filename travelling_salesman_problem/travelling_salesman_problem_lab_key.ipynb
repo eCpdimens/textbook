{
 "cells": [
  {
   "cell_type": "markdown",
   "metadata": {},
   "source": [
    "# Traveling Salesman Problem (TSP)"
   ]
  },
  {
   "cell_type": "markdown",
   "metadata": {},
   "source": [
    "**Objectives**\n",
    "\n",
    "- Introduce students to a real world problem solved by OR practitioners\n",
    "- Demonstrate the use of heuristics to obtain good solutions to optimization problems\n",
    "- Give students an appreciation of the difficulty of solving optimization problems exactly\n",
    "\n",
    "**Reading:** Read Handout 2 on the traveling salesman problem.\n",
    "\n",
    "**Brief description:** Finding an optimal solution to a Traveling Salesman Problem, and proving that it is, in fact, an optimal solution, is a difficult task. In practice, when a feasible solution to a difficult problem needs to be provided quickly, one often resorts to using heuristics, i.e., procedures for generating feasible solutions, or improving existing ones, that can be executed quickly and, hopefully, produce a pretty good result. In this lab we will consider several such heuristic procedures for the TSP.\n",
    "\n",
    "<font color='blue'> <b>Solutions are shown blue.</b> </font> <br>\n",
    "<font color='red'> <b>Instuctor comments are shown in red.</b> </font>"
   ]
  },
  {
   "cell_type": "markdown",
   "metadata": {},
   "source": [
    "<font color='red'>A tool we might want to use: [TSP DIY](https://www.math.uwaterloo.ca/tsp/app/diy.html)  </font>"
   ]
  },
  {
   "cell_type": "markdown",
   "metadata": {},
   "source": [
    "<font color='red'> Some explanation of what imports are here.</font>"
   ]
  },
  {
   "cell_type": "code",
   "execution_count": 46,
   "metadata": {},
   "outputs": [],
   "source": [
    "# imports -- don't forget to run this cell\n",
    "import numpy as np\n",
    "import math\n",
    "import pandas as pd\n",
    "from random import randrange"
   ]
  },
  {
   "cell_type": "code",
   "execution_count": 30,
   "metadata": {},
   "outputs": [],
   "source": [
    "def tsp_grid_instance(n, m, manhattan=True):\n",
    "    \"\"\"Return a distance matrix (manhattan or euclidian) on an n*m grid.\n",
    "    \n",
    "    Args:\n",
    "        n (int): width of the grid.\n",
    "        m (int): height of the grid.\n",
    "        manhattan (bool): return manhattan distance matrix if true. Otherwise, return euclidian.\n",
    "    \"\"\"\n",
    "    # create nodes of grid\n",
    "    nodes = []\n",
    "    for i in range(n):\n",
    "        for j in range(m):\n",
    "            nodes.append((i,j))\n",
    "\n",
    "    # create distance matrix\n",
    "    d = np.zeros((len(nodes),len(nodes)))\n",
    "    for i in range(len(nodes)):\n",
    "        for j in range(len(nodes)):\n",
    "            if manhattan:\n",
    "                d[i][j] = abs(nodes[i][0] - nodes[j][0]) + abs(nodes[i][1] - nodes[j][1])\n",
    "            else:\n",
    "                d[i][j] = math.sqrt((nodes[i][0] - nodes[j][0])**2 + (nodes[i][1] - nodes[j][1])**2)\n",
    "    \n",
    "    return d"
   ]
  },
  {
   "cell_type": "code",
   "execution_count": 83,
   "metadata": {},
   "outputs": [],
   "source": [
    "def tour_cost(G, tour):\n",
    "    \"\"\"Return the cost of the tour on graph G.\n",
    "    \n",
    "    Args:\n",
    "        G (np.ndarray): adjacency matrix representing a graph.\n",
    "        tour (List[int]): ordered list of nodes visited on the tour.\n",
    "    \"\"\"\n",
    "    return sum([G[tour[i],tour[i+1]] for i in range(len(tour)-1)])"
   ]
  },
  {
   "cell_type": "code",
   "execution_count": 434,
   "metadata": {},
   "outputs": [],
   "source": [
    "def neighbor(G, initial, nearest):\n",
    "    \"\"\"Run a neighbor heuristic on G starting at the given initial node.\n",
    "    \n",
    "    Args:\n",
    "        G (np.ndarray): adjacency matrix representing a graph.\n",
    "        intial (int): index of the node to start from.    \n",
    "        nearest (bool): run nearest neighbor if true. Otherwise, run random.\n",
    "    \"\"\"\n",
    "    unvisited = list(range(len(G))) # list of nodes\n",
    "    \n",
    "    # start tour at initial and remove it from unvisited\n",
    "    tour = [initial]\n",
    "    unvisited.remove(initial) \n",
    "    \n",
    "    # choose next node from unvisited\n",
    "    while len(unvisited) > 0:\n",
    "        if nearest:\n",
    "            # dictionary from univisited nodes to their distance from current node\n",
    "            d = {i : G[tour[-1]][i] for i in range(len(G[tour[-1]])) if i in unvisited}\n",
    "            # randomly select next node among the nearest\n",
    "            min_val = min(d.values())\n",
    "            possible = [k for k, v in d.items() if v==min_val]\n",
    "            next_node = possible[randrange(len(possible))]\n",
    "        else:\n",
    "            next_node = unvisited[randrange(len(unvisited))]\n",
    "        tour.append(next_node)\n",
    "        unvisited.remove(next_node) \n",
    "        \n",
    "    # go back to start\n",
    "    tour.append(initial)\n",
    "    \n",
    "    return tour"
   ]
  },
  {
   "cell_type": "code",
   "execution_count": 435,
   "metadata": {},
   "outputs": [],
   "source": [
    "def random_neighbor(G, initial=0):\n",
    "    \"\"\"Run the nearest neighbor heuristic on G starting at the given initial node.\n",
    "    \n",
    "    Args:\n",
    "        G (np.ndarray): adjacency matrix representing a graph.\n",
    "        intial (int): index of the node to start from.    \n",
    "    \"\"\"\n",
    "    return neighbor(G, initial, False)\n",
    "\n",
    "def nearest_neighbor(G, initial=0):\n",
    "    \"\"\"Run the nearest neighbor heuristic on G starting at the given initial node.\n",
    "    \n",
    "    Args:\n",
    "        G (np.ndarray): adjacency matrix representing a graph.\n",
    "        intial (int): index of the node to start from.    \n",
    "    \"\"\"\n",
    "    return neighbor(G, initial, True)"
   ]
  },
  {
   "cell_type": "code",
   "execution_count": 436,
   "metadata": {},
   "outputs": [],
   "source": [
    "def insertion(G, initial, nearest):\n",
    "    \"\"\"Run an insertion heuristic on G starting with the given initial 2-node tour.\"\"\"\n",
    "    \n",
    "    unvisited = list(range(len(G))) # list of nodes\n",
    "    \n",
    "    # start tour at initial and remove it from unvisited\n",
    "    tour = list(initial)\n",
    "    unvisited.remove(initial[0]) \n",
    "    unvisited.remove(initial[1]) \n",
    "    \n",
    "    # choose next node from unvisited\n",
    "    while len(unvisited) > 0:\n",
    "        # dictionary from univisited nodes to their shortest distance from tour\n",
    "        d = G[:,[0,1]].min(axis=1)\n",
    "        d = {i : d[i] for i in range(len(d)) if i in unvisited}\n",
    "        if nearest:\n",
    "            min_val = min(d.values())\n",
    "            possible = [k for k, v in d.items() if v==min_val]    \n",
    "        else:\n",
    "            max_val = max(d.values())\n",
    "            possible = [k for k, v in d.items() if v==max_val]    \n",
    "        next_node = possible[randrange(len(possible))]\n",
    "        \n",
    "        # insert node into tour at minimum cost\n",
    "        increase = [G[tour[i], next_node]\n",
    "                    + G[next_node, tour[i+1]] \n",
    "                    - G[tour[i], tour[i+1]] for i in range(len(tour)-1)]\n",
    "        insert_index = increase.index(min(increase))+1\n",
    "        tour.insert(insert_index, next_node)\n",
    "        unvisited.remove(next_node) \n",
    "    \n",
    "    return tour"
   ]
  },
  {
   "cell_type": "code",
   "execution_count": 441,
   "metadata": {},
   "outputs": [],
   "source": [
    "def nearest_insertion(G, initial=[0,1,0]):\n",
    "    \"\"\"Run the nearest insertion heuristic on G starting with the given initial 2-node tour.\n",
    "    \n",
    "    Args:\n",
    "        G (np.ndarray): adjacency matrix representing a graph.\n",
    "        intial (List[int]): initial 2-node tour. \n",
    "    \"\"\"\n",
    "    return insertion(G, initial, True)\n",
    "\n",
    "def furthest_insertion(G, initial=[0,len(G)-1,0]):\n",
    "    \"\"\"Run the furthest insertion heuristic on G starting with the given initial 2-node tour.\n",
    "    \n",
    "    Args:\n",
    "        G (np.ndarray): adjacency matrix representing a graph.\n",
    "        intial (int): initial 2-node tour.  \n",
    "    \"\"\"\n",
    "    return insertion(G, initial, False)"
   ]
  },
  {
   "cell_type": "code",
   "execution_count": 446,
   "metadata": {},
   "outputs": [
    {
     "data": {
      "text/plain": [
       "58.0"
      ]
     },
     "execution_count": 446,
     "metadata": {},
     "output_type": "execute_result"
    }
   ],
   "source": [
    "G = tsp_grid_instance(6,8,True)\n",
    "tour = random_neighbor(G)\n",
    "tour = nearest_neighbor(G)\n",
    "tour = nearest_insertion(G)\n",
    "tour = furthest_insertion(G)\n",
    "tour_cost(G, tour)"
   ]
  },
  {
   "cell_type": "code",
   "execution_count": 447,
   "metadata": {},
   "outputs": [
    {
     "name": "stdout",
     "output_type": "stream",
     "text": [
      "223.784 63.536 56.32 56.008\n"
     ]
    }
   ],
   "source": [
    "n = 250 \n",
    "rand_n = 0\n",
    "near_n = 0\n",
    "near_ins = 0\n",
    "furth_ins = 0\n",
    "for i in range(n):\n",
    "    G = tsp_grid_instance(6,8,True)\n",
    "    rand_n += tour_cost(G, random_neighbor(G))\n",
    "    near_n += tour_cost(G, nearest_neighbor(G))\n",
    "    near_ins += tour_cost(G, nearest_insertion(G))\n",
    "    furth_ins += tour_cost(G, furthest_insertion(G))\n",
    "rand_n /= n\n",
    "near_n /= n\n",
    "near_ins /= n\n",
    "furth_ins /= n\n",
    "print(rand_n, near_n, near_ins, furth_ins)"
   ]
  }
 ],
 "metadata": {
  "kernelspec": {
   "display_name": "Python 3",
   "language": "python",
   "name": "python3"
  },
  "language_info": {
   "codemirror_mode": {
    "name": "ipython",
    "version": 3
   },
   "file_extension": ".py",
   "mimetype": "text/x-python",
   "name": "python",
   "nbconvert_exporter": "python",
   "pygments_lexer": "ipython3",
   "version": "3.6.10"
  }
 },
 "nbformat": 4,
 "nbformat_minor": 4
}
