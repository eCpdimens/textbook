{
 "cells": [
  {
   "cell_type": "markdown",
   "metadata": {},
   "source": [
    "# Traveling Salesman Problem (TSP)"
   ]
  },
  {
   "cell_type": "markdown",
   "metadata": {},
   "source": [
    "**Objectives**\n",
    "\n",
    "- Introduce students to a real world problem solved by OR practitioners\n",
    "- Demonstrate the use of heuristics to obtain good solutions to optimization problems\n",
    "- Give students an appreciation of the difficulty of solving optimization problems exactly\n",
    "\n",
    "**Reading:** Read Handout 2 on the traveling salesman problem.\n",
    "\n",
    "**Brief description:** Finding an optimal solution to a Traveling Salesman Problem, and proving that it is, in fact, an optimal solution, is a difficult task. In practice, when a feasible solution to a difficult problem needs to be provided quickly, one often resorts to using heuristics, i.e., procedures for generating feasible solutions, or improving existing ones, that can be executed quickly and, hopefully, produce a pretty good result. In this lab we will consider several such heuristic procedures for the TSP.\n",
    "\n",
    "*TSP VLSI instances adapted from [TSPLIB](http://comopt.ifi.uni-heidelberg.de/software/TSPLIB95/) and [Bonn Institute](http://www.math.uwaterloo.ca/tsp/vlsi/index.html)*\n",
    "\n",
    "<font color='blue'> <b>Solutions are shown blue.</b> </font> <br>\n",
    "<font color='red'> <b>Instuctor comments are shown in red.</b> </font>"
   ]
  },
  {
   "cell_type": "markdown",
   "metadata": {},
   "source": [
    "<font color='red'>A tool we might want to use: [TSP DIY](https://www.math.uwaterloo.ca/tsp/app/diy.html)  </font>"
   ]
  },
  {
   "cell_type": "markdown",
   "metadata": {},
   "source": [
    "<font color='red'> Some explanation of what imports are here.</font>"
   ]
  },
  {
   "cell_type": "code",
   "execution_count": 1,
   "metadata": {},
   "outputs": [
    {
     "data": {
      "text/html": [
       "\n",
       "    <div class=\"bk-root\">\n",
       "        <a href=\"https://bokeh.org\" target=\"_blank\" class=\"bk-logo bk-logo-small bk-logo-notebook\"></a>\n",
       "        <span id=\"1001\">Loading BokehJS ...</span>\n",
       "    </div>"
      ]
     },
     "metadata": {},
     "output_type": "display_data"
    },
    {
     "data": {
      "application/javascript": [
       "\n",
       "(function(root) {\n",
       "  function now() {\n",
       "    return new Date();\n",
       "  }\n",
       "\n",
       "  var force = true;\n",
       "\n",
       "  if (typeof root._bokeh_onload_callbacks === \"undefined\" || force === true) {\n",
       "    root._bokeh_onload_callbacks = [];\n",
       "    root._bokeh_is_loading = undefined;\n",
       "  }\n",
       "\n",
       "  var JS_MIME_TYPE = 'application/javascript';\n",
       "  var HTML_MIME_TYPE = 'text/html';\n",
       "  var EXEC_MIME_TYPE = 'application/vnd.bokehjs_exec.v0+json';\n",
       "  var CLASS_NAME = 'output_bokeh rendered_html';\n",
       "\n",
       "  /**\n",
       "   * Render data to the DOM node\n",
       "   */\n",
       "  function render(props, node) {\n",
       "    var script = document.createElement(\"script\");\n",
       "    node.appendChild(script);\n",
       "  }\n",
       "\n",
       "  /**\n",
       "   * Handle when an output is cleared or removed\n",
       "   */\n",
       "  function handleClearOutput(event, handle) {\n",
       "    var cell = handle.cell;\n",
       "\n",
       "    var id = cell.output_area._bokeh_element_id;\n",
       "    var server_id = cell.output_area._bokeh_server_id;\n",
       "    // Clean up Bokeh references\n",
       "    if (id != null && id in Bokeh.index) {\n",
       "      Bokeh.index[id].model.document.clear();\n",
       "      delete Bokeh.index[id];\n",
       "    }\n",
       "\n",
       "    if (server_id !== undefined) {\n",
       "      // Clean up Bokeh references\n",
       "      var cmd = \"from bokeh.io.state import curstate; print(curstate().uuid_to_server['\" + server_id + \"'].get_sessions()[0].document.roots[0]._id)\";\n",
       "      cell.notebook.kernel.execute(cmd, {\n",
       "        iopub: {\n",
       "          output: function(msg) {\n",
       "            var id = msg.content.text.trim();\n",
       "            if (id in Bokeh.index) {\n",
       "              Bokeh.index[id].model.document.clear();\n",
       "              delete Bokeh.index[id];\n",
       "            }\n",
       "          }\n",
       "        }\n",
       "      });\n",
       "      // Destroy server and session\n",
       "      var cmd = \"import bokeh.io.notebook as ion; ion.destroy_server('\" + server_id + \"')\";\n",
       "      cell.notebook.kernel.execute(cmd);\n",
       "    }\n",
       "  }\n",
       "\n",
       "  /**\n",
       "   * Handle when a new output is added\n",
       "   */\n",
       "  function handleAddOutput(event, handle) {\n",
       "    var output_area = handle.output_area;\n",
       "    var output = handle.output;\n",
       "\n",
       "    // limit handleAddOutput to display_data with EXEC_MIME_TYPE content only\n",
       "    if ((output.output_type != \"display_data\") || (!output.data.hasOwnProperty(EXEC_MIME_TYPE))) {\n",
       "      return\n",
       "    }\n",
       "\n",
       "    var toinsert = output_area.element.find(\".\" + CLASS_NAME.split(' ')[0]);\n",
       "\n",
       "    if (output.metadata[EXEC_MIME_TYPE][\"id\"] !== undefined) {\n",
       "      toinsert[toinsert.length - 1].firstChild.textContent = output.data[JS_MIME_TYPE];\n",
       "      // store reference to embed id on output_area\n",
       "      output_area._bokeh_element_id = output.metadata[EXEC_MIME_TYPE][\"id\"];\n",
       "    }\n",
       "    if (output.metadata[EXEC_MIME_TYPE][\"server_id\"] !== undefined) {\n",
       "      var bk_div = document.createElement(\"div\");\n",
       "      bk_div.innerHTML = output.data[HTML_MIME_TYPE];\n",
       "      var script_attrs = bk_div.children[0].attributes;\n",
       "      for (var i = 0; i < script_attrs.length; i++) {\n",
       "        toinsert[toinsert.length - 1].firstChild.setAttribute(script_attrs[i].name, script_attrs[i].value);\n",
       "        toinsert[toinsert.length - 1].firstChild.textContent = bk_div.children[0].textContent\n",
       "      }\n",
       "      // store reference to server id on output_area\n",
       "      output_area._bokeh_server_id = output.metadata[EXEC_MIME_TYPE][\"server_id\"];\n",
       "    }\n",
       "  }\n",
       "\n",
       "  function register_renderer(events, OutputArea) {\n",
       "\n",
       "    function append_mime(data, metadata, element) {\n",
       "      // create a DOM node to render to\n",
       "      var toinsert = this.create_output_subarea(\n",
       "        metadata,\n",
       "        CLASS_NAME,\n",
       "        EXEC_MIME_TYPE\n",
       "      );\n",
       "      this.keyboard_manager.register_events(toinsert);\n",
       "      // Render to node\n",
       "      var props = {data: data, metadata: metadata[EXEC_MIME_TYPE]};\n",
       "      render(props, toinsert[toinsert.length - 1]);\n",
       "      element.append(toinsert);\n",
       "      return toinsert\n",
       "    }\n",
       "\n",
       "    /* Handle when an output is cleared or removed */\n",
       "    events.on('clear_output.CodeCell', handleClearOutput);\n",
       "    events.on('delete.Cell', handleClearOutput);\n",
       "\n",
       "    /* Handle when a new output is added */\n",
       "    events.on('output_added.OutputArea', handleAddOutput);\n",
       "\n",
       "    /**\n",
       "     * Register the mime type and append_mime function with output_area\n",
       "     */\n",
       "    OutputArea.prototype.register_mime_type(EXEC_MIME_TYPE, append_mime, {\n",
       "      /* Is output safe? */\n",
       "      safe: true,\n",
       "      /* Index of renderer in `output_area.display_order` */\n",
       "      index: 0\n",
       "    });\n",
       "  }\n",
       "\n",
       "  // register the mime type if in Jupyter Notebook environment and previously unregistered\n",
       "  if (root.Jupyter !== undefined) {\n",
       "    var events = require('base/js/events');\n",
       "    var OutputArea = require('notebook/js/outputarea').OutputArea;\n",
       "\n",
       "    if (OutputArea.prototype.mime_types().indexOf(EXEC_MIME_TYPE) == -1) {\n",
       "      register_renderer(events, OutputArea);\n",
       "    }\n",
       "  }\n",
       "\n",
       "  \n",
       "  if (typeof (root._bokeh_timeout) === \"undefined\" || force === true) {\n",
       "    root._bokeh_timeout = Date.now() + 5000;\n",
       "    root._bokeh_failed_load = false;\n",
       "  }\n",
       "\n",
       "  var NB_LOAD_WARNING = {'data': {'text/html':\n",
       "     \"<div style='background-color: #fdd'>\\n\"+\n",
       "     \"<p>\\n\"+\n",
       "     \"BokehJS does not appear to have successfully loaded. If loading BokehJS from CDN, this \\n\"+\n",
       "     \"may be due to a slow or bad network connection. Possible fixes:\\n\"+\n",
       "     \"</p>\\n\"+\n",
       "     \"<ul>\\n\"+\n",
       "     \"<li>re-rerun `output_notebook()` to attempt to load from CDN again, or</li>\\n\"+\n",
       "     \"<li>use INLINE resources instead, as so:</li>\\n\"+\n",
       "     \"</ul>\\n\"+\n",
       "     \"<code>\\n\"+\n",
       "     \"from bokeh.resources import INLINE\\n\"+\n",
       "     \"output_notebook(resources=INLINE)\\n\"+\n",
       "     \"</code>\\n\"+\n",
       "     \"</div>\"}};\n",
       "\n",
       "  function display_loaded() {\n",
       "    var el = document.getElementById(\"1001\");\n",
       "    if (el != null) {\n",
       "      el.textContent = \"BokehJS is loading...\";\n",
       "    }\n",
       "    if (root.Bokeh !== undefined) {\n",
       "      if (el != null) {\n",
       "        el.textContent = \"BokehJS \" + root.Bokeh.version + \" successfully loaded.\";\n",
       "      }\n",
       "    } else if (Date.now() < root._bokeh_timeout) {\n",
       "      setTimeout(display_loaded, 100)\n",
       "    }\n",
       "  }\n",
       "\n",
       "\n",
       "  function run_callbacks() {\n",
       "    try {\n",
       "      root._bokeh_onload_callbacks.forEach(function(callback) {\n",
       "        if (callback != null)\n",
       "          callback();\n",
       "      });\n",
       "    } finally {\n",
       "      delete root._bokeh_onload_callbacks\n",
       "    }\n",
       "    console.debug(\"Bokeh: all callbacks have finished\");\n",
       "  }\n",
       "\n",
       "  function load_libs(css_urls, js_urls, callback) {\n",
       "    if (css_urls == null) css_urls = [];\n",
       "    if (js_urls == null) js_urls = [];\n",
       "\n",
       "    root._bokeh_onload_callbacks.push(callback);\n",
       "    if (root._bokeh_is_loading > 0) {\n",
       "      console.debug(\"Bokeh: BokehJS is being loaded, scheduling callback at\", now());\n",
       "      return null;\n",
       "    }\n",
       "    if (js_urls == null || js_urls.length === 0) {\n",
       "      run_callbacks();\n",
       "      return null;\n",
       "    }\n",
       "    console.debug(\"Bokeh: BokehJS not loaded, scheduling load and callback at\", now());\n",
       "    root._bokeh_is_loading = css_urls.length + js_urls.length;\n",
       "\n",
       "    function on_load() {\n",
       "      root._bokeh_is_loading--;\n",
       "      if (root._bokeh_is_loading === 0) {\n",
       "        console.debug(\"Bokeh: all BokehJS libraries/stylesheets loaded\");\n",
       "        run_callbacks()\n",
       "      }\n",
       "    }\n",
       "\n",
       "    function on_error() {\n",
       "      console.error(\"failed to load \" + url);\n",
       "    }\n",
       "\n",
       "    for (var i = 0; i < css_urls.length; i++) {\n",
       "      var url = css_urls[i];\n",
       "      const element = document.createElement(\"link\");\n",
       "      element.onload = on_load;\n",
       "      element.onerror = on_error;\n",
       "      element.rel = \"stylesheet\";\n",
       "      element.type = \"text/css\";\n",
       "      element.href = url;\n",
       "      console.debug(\"Bokeh: injecting link tag for BokehJS stylesheet: \", url);\n",
       "      document.body.appendChild(element);\n",
       "    }\n",
       "\n",
       "    const hashes = {\"https://cdn.bokeh.org/bokeh/release/bokeh-2.1.0.min.js\": \"YobFyzPeVUsFQydHkJGsJL1kyfHnWxOlPc3EwaV22TmBaeGoXHLWx5aRRVPS9xlE\", \"https://cdn.bokeh.org/bokeh/release/bokeh-widgets-2.1.0.min.js\": \"NuAg9+TcTQQqvQCTtkCneRrpkTiMhhfiq0KHiBzx8ECiKiLWXHN6i6ia3q7b3eHu\", \"https://cdn.bokeh.org/bokeh/release/bokeh-tables-2.1.0.min.js\": \"uMVqQc8JqHitD67bXTn9a06Mrk3EiHRaZ18EJENQenAKJ/KL71SakdXYomZQpGRr\", \"https://cdn.bokeh.org/bokeh/release/bokeh-gl-2.1.0.min.js\": \"u+eGuEXC8aw0VSCm2mH+b/tQEAitUOYiR1H6SuIVEdUmXsf4vN8m/SmXpmjb7U/X\"};\n",
       "\n",
       "    for (var i = 0; i < js_urls.length; i++) {\n",
       "      var url = js_urls[i];\n",
       "      var element = document.createElement('script');\n",
       "      element.onload = on_load;\n",
       "      element.onerror = on_error;\n",
       "      element.async = false;\n",
       "      element.src = url;\n",
       "      if (url in hashes) {\n",
       "        element.crossOrigin = \"anonymous\";\n",
       "        element.integrity = \"sha384-\" + hashes[url];\n",
       "      }\n",
       "      console.debug(\"Bokeh: injecting script tag for BokehJS library: \", url);\n",
       "      document.head.appendChild(element);\n",
       "    }\n",
       "  };\n",
       "\n",
       "  function inject_raw_css(css) {\n",
       "    const element = document.createElement(\"style\");\n",
       "    element.appendChild(document.createTextNode(css));\n",
       "    document.body.appendChild(element);\n",
       "  }\n",
       "\n",
       "  \n",
       "  var js_urls = [\"https://cdn.bokeh.org/bokeh/release/bokeh-2.1.0.min.js\", \"https://cdn.bokeh.org/bokeh/release/bokeh-widgets-2.1.0.min.js\", \"https://cdn.bokeh.org/bokeh/release/bokeh-tables-2.1.0.min.js\", \"https://cdn.bokeh.org/bokeh/release/bokeh-gl-2.1.0.min.js\"];\n",
       "  var css_urls = [];\n",
       "  \n",
       "\n",
       "  var inline_js = [\n",
       "    function(Bokeh) {\n",
       "      Bokeh.set_log_level(\"info\");\n",
       "    },\n",
       "    function(Bokeh) {\n",
       "    \n",
       "    \n",
       "    }\n",
       "  ];\n",
       "\n",
       "  function run_inline_js() {\n",
       "    \n",
       "    if (root.Bokeh !== undefined || force === true) {\n",
       "      \n",
       "    for (var i = 0; i < inline_js.length; i++) {\n",
       "      inline_js[i].call(root, root.Bokeh);\n",
       "    }\n",
       "    if (force === true) {\n",
       "        display_loaded();\n",
       "      }} else if (Date.now() < root._bokeh_timeout) {\n",
       "      setTimeout(run_inline_js, 100);\n",
       "    } else if (!root._bokeh_failed_load) {\n",
       "      console.log(\"Bokeh: BokehJS failed to load within specified timeout.\");\n",
       "      root._bokeh_failed_load = true;\n",
       "    } else if (force !== true) {\n",
       "      var cell = $(document.getElementById(\"1001\")).parents('.cell').data().cell;\n",
       "      cell.output_area.append_execute_result(NB_LOAD_WARNING)\n",
       "    }\n",
       "\n",
       "  }\n",
       "\n",
       "  if (root._bokeh_is_loading === 0) {\n",
       "    console.debug(\"Bokeh: BokehJS loaded, going straight to plotting\");\n",
       "    run_inline_js();\n",
       "  } else {\n",
       "    load_libs(css_urls, js_urls, function() {\n",
       "      console.debug(\"Bokeh: BokehJS plotting callback run at\", now());\n",
       "      run_inline_js();\n",
       "    });\n",
       "  }\n",
       "}(window));"
      ],
      "application/vnd.bokehjs_load.v0+json": "\n(function(root) {\n  function now() {\n    return new Date();\n  }\n\n  var force = true;\n\n  if (typeof root._bokeh_onload_callbacks === \"undefined\" || force === true) {\n    root._bokeh_onload_callbacks = [];\n    root._bokeh_is_loading = undefined;\n  }\n\n  \n\n  \n  if (typeof (root._bokeh_timeout) === \"undefined\" || force === true) {\n    root._bokeh_timeout = Date.now() + 5000;\n    root._bokeh_failed_load = false;\n  }\n\n  var NB_LOAD_WARNING = {'data': {'text/html':\n     \"<div style='background-color: #fdd'>\\n\"+\n     \"<p>\\n\"+\n     \"BokehJS does not appear to have successfully loaded. If loading BokehJS from CDN, this \\n\"+\n     \"may be due to a slow or bad network connection. Possible fixes:\\n\"+\n     \"</p>\\n\"+\n     \"<ul>\\n\"+\n     \"<li>re-rerun `output_notebook()` to attempt to load from CDN again, or</li>\\n\"+\n     \"<li>use INLINE resources instead, as so:</li>\\n\"+\n     \"</ul>\\n\"+\n     \"<code>\\n\"+\n     \"from bokeh.resources import INLINE\\n\"+\n     \"output_notebook(resources=INLINE)\\n\"+\n     \"</code>\\n\"+\n     \"</div>\"}};\n\n  function display_loaded() {\n    var el = document.getElementById(\"1001\");\n    if (el != null) {\n      el.textContent = \"BokehJS is loading...\";\n    }\n    if (root.Bokeh !== undefined) {\n      if (el != null) {\n        el.textContent = \"BokehJS \" + root.Bokeh.version + \" successfully loaded.\";\n      }\n    } else if (Date.now() < root._bokeh_timeout) {\n      setTimeout(display_loaded, 100)\n    }\n  }\n\n\n  function run_callbacks() {\n    try {\n      root._bokeh_onload_callbacks.forEach(function(callback) {\n        if (callback != null)\n          callback();\n      });\n    } finally {\n      delete root._bokeh_onload_callbacks\n    }\n    console.debug(\"Bokeh: all callbacks have finished\");\n  }\n\n  function load_libs(css_urls, js_urls, callback) {\n    if (css_urls == null) css_urls = [];\n    if (js_urls == null) js_urls = [];\n\n    root._bokeh_onload_callbacks.push(callback);\n    if (root._bokeh_is_loading > 0) {\n      console.debug(\"Bokeh: BokehJS is being loaded, scheduling callback at\", now());\n      return null;\n    }\n    if (js_urls == null || js_urls.length === 0) {\n      run_callbacks();\n      return null;\n    }\n    console.debug(\"Bokeh: BokehJS not loaded, scheduling load and callback at\", now());\n    root._bokeh_is_loading = css_urls.length + js_urls.length;\n\n    function on_load() {\n      root._bokeh_is_loading--;\n      if (root._bokeh_is_loading === 0) {\n        console.debug(\"Bokeh: all BokehJS libraries/stylesheets loaded\");\n        run_callbacks()\n      }\n    }\n\n    function on_error() {\n      console.error(\"failed to load \" + url);\n    }\n\n    for (var i = 0; i < css_urls.length; i++) {\n      var url = css_urls[i];\n      const element = document.createElement(\"link\");\n      element.onload = on_load;\n      element.onerror = on_error;\n      element.rel = \"stylesheet\";\n      element.type = \"text/css\";\n      element.href = url;\n      console.debug(\"Bokeh: injecting link tag for BokehJS stylesheet: \", url);\n      document.body.appendChild(element);\n    }\n\n    const hashes = {\"https://cdn.bokeh.org/bokeh/release/bokeh-2.1.0.min.js\": \"YobFyzPeVUsFQydHkJGsJL1kyfHnWxOlPc3EwaV22TmBaeGoXHLWx5aRRVPS9xlE\", \"https://cdn.bokeh.org/bokeh/release/bokeh-widgets-2.1.0.min.js\": \"NuAg9+TcTQQqvQCTtkCneRrpkTiMhhfiq0KHiBzx8ECiKiLWXHN6i6ia3q7b3eHu\", \"https://cdn.bokeh.org/bokeh/release/bokeh-tables-2.1.0.min.js\": \"uMVqQc8JqHitD67bXTn9a06Mrk3EiHRaZ18EJENQenAKJ/KL71SakdXYomZQpGRr\", \"https://cdn.bokeh.org/bokeh/release/bokeh-gl-2.1.0.min.js\": \"u+eGuEXC8aw0VSCm2mH+b/tQEAitUOYiR1H6SuIVEdUmXsf4vN8m/SmXpmjb7U/X\"};\n\n    for (var i = 0; i < js_urls.length; i++) {\n      var url = js_urls[i];\n      var element = document.createElement('script');\n      element.onload = on_load;\n      element.onerror = on_error;\n      element.async = false;\n      element.src = url;\n      if (url in hashes) {\n        element.crossOrigin = \"anonymous\";\n        element.integrity = \"sha384-\" + hashes[url];\n      }\n      console.debug(\"Bokeh: injecting script tag for BokehJS library: \", url);\n      document.head.appendChild(element);\n    }\n  };\n\n  function inject_raw_css(css) {\n    const element = document.createElement(\"style\");\n    element.appendChild(document.createTextNode(css));\n    document.body.appendChild(element);\n  }\n\n  \n  var js_urls = [\"https://cdn.bokeh.org/bokeh/release/bokeh-2.1.0.min.js\", \"https://cdn.bokeh.org/bokeh/release/bokeh-widgets-2.1.0.min.js\", \"https://cdn.bokeh.org/bokeh/release/bokeh-tables-2.1.0.min.js\", \"https://cdn.bokeh.org/bokeh/release/bokeh-gl-2.1.0.min.js\"];\n  var css_urls = [];\n  \n\n  var inline_js = [\n    function(Bokeh) {\n      Bokeh.set_log_level(\"info\");\n    },\n    function(Bokeh) {\n    \n    \n    }\n  ];\n\n  function run_inline_js() {\n    \n    if (root.Bokeh !== undefined || force === true) {\n      \n    for (var i = 0; i < inline_js.length; i++) {\n      inline_js[i].call(root, root.Bokeh);\n    }\n    if (force === true) {\n        display_loaded();\n      }} else if (Date.now() < root._bokeh_timeout) {\n      setTimeout(run_inline_js, 100);\n    } else if (!root._bokeh_failed_load) {\n      console.log(\"Bokeh: BokehJS failed to load within specified timeout.\");\n      root._bokeh_failed_load = true;\n    } else if (force !== true) {\n      var cell = $(document.getElementById(\"1001\")).parents('.cell').data().cell;\n      cell.output_area.append_execute_result(NB_LOAD_WARNING)\n    }\n\n  }\n\n  if (root._bokeh_is_loading === 0) {\n    console.debug(\"Bokeh: BokehJS loaded, going straight to plotting\");\n    run_inline_js();\n  } else {\n    load_libs(css_urls, js_urls, function() {\n      console.debug(\"Bokeh: BokehJS plotting callback run at\", now());\n      run_inline_js();\n    });\n  }\n}(window));"
     },
     "metadata": {},
     "output_type": "display_data"
    }
   ],
   "source": [
    "# imports -- don't forget to run this cell\n",
    "from tsp import *\n",
    "from bokeh.io import output_notebook\n",
    "output_notebook()"
   ]
  },
  {
   "cell_type": "code",
   "execution_count": 2,
   "metadata": {},
   "outputs": [
    {
     "data": {
      "text/html": [
       "\n",
       "\n",
       "\n",
       "\n",
       "\n",
       "\n",
       "  <div class=\"bk-root\" id=\"6f1cf48b-f9fd-411f-9c4b-537594a3b279\" data-root-id=\"1058\"></div>\n"
      ]
     },
     "metadata": {},
     "output_type": "display_data"
    },
    {
     "data": {
      "application/javascript": [
       "(function(root) {\n",
       "  function embed_document(root) {\n",
       "    \n",
       "  var docs_json = {\"d975cc74-a8e5-47ff-90f5-dba22a0d1658\":{\"roots\":{\"references\":[{\"attributes\":{\"children\":[[{\"id\":\"1002\"},0,0],[{\"id\":\"1036\"},1,0]]},\"id\":\"1058\",\"type\":\"GridBox\"},{\"attributes\":{},\"id\":\"1026\",\"type\":\"HelpTool\"},{\"attributes\":{},\"id\":\"1054\",\"type\":\"UnionRenderers\"},{\"attributes\":{\"end\":14.7,\"start\":-0.7000000000000001},\"id\":\"1005\",\"type\":\"Range1d\"},{\"attributes\":{},\"id\":\"1050\",\"type\":\"BasicTickFormatter\"},{\"attributes\":{},\"id\":\"1055\",\"type\":\"Selection\"},{\"attributes\":{\"active_drag\":\"auto\",\"active_inspect\":\"auto\",\"active_multi\":null,\"active_scroll\":\"auto\",\"active_tap\":\"auto\",\"logo\":null,\"tools\":[{\"id\":\"1021\"},{\"id\":\"1022\"},{\"id\":\"1023\"},{\"id\":\"1024\"},{\"id\":\"1025\"},{\"id\":\"1026\"}]},\"id\":\"1028\",\"type\":\"Toolbar\"},{\"attributes\":{\"end\":14.7,\"start\":-0.7000000000000001},\"id\":\"1007\",\"type\":\"Range1d\"},{\"attributes\":{},\"id\":\"1009\",\"type\":\"LinearScale\"},{\"attributes\":{},\"id\":\"1011\",\"type\":\"LinearScale\"},{\"attributes\":{},\"id\":\"1048\",\"type\":\"BasicTickFormatter\"},{\"attributes\":{\"formatter\":{\"id\":\"1050\"},\"ticker\":{\"id\":\"1014\"},\"visible\":false},\"id\":\"1013\",\"type\":\"LinearAxis\"},{\"attributes\":{\"source\":{\"id\":\"1042\"}},\"id\":\"1046\",\"type\":\"CDSView\"},{\"attributes\":{},\"id\":\"1014\",\"type\":\"BasicTicker\"},{\"attributes\":{\"bottom_units\":\"screen\",\"fill_alpha\":0.5,\"fill_color\":\"lightgrey\",\"left_units\":\"screen\",\"level\":\"overlay\",\"line_alpha\":1.0,\"line_color\":\"black\",\"line_dash\":[4,4],\"line_width\":2,\"right_units\":\"screen\",\"top_units\":\"screen\"},\"id\":\"1027\",\"type\":\"BoxAnnotation\"},{\"attributes\":{\"axis\":{\"id\":\"1013\"},\"grid_line_color\":null,\"ticker\":null},\"id\":\"1016\",\"type\":\"Grid\"},{\"attributes\":{\"line_alpha\":0.1,\"line_width\":4,\"x\":{\"field\":\"x\"},\"y\":{\"field\":\"y\"}},\"id\":\"1039\",\"type\":\"Line\"},{\"attributes\":{\"formatter\":{\"id\":\"1048\"},\"ticker\":{\"id\":\"1018\"},\"visible\":false},\"id\":\"1017\",\"type\":\"LinearAxis\"},{\"attributes\":{},\"id\":\"1018\",\"type\":\"BasicTicker\"},{\"attributes\":{\"source\":{\"id\":\"1037\"}},\"id\":\"1041\",\"type\":\"CDSView\"},{\"attributes\":{\"axis\":{\"id\":\"1017\"},\"dimension\":1,\"grid_line_color\":null,\"ticker\":null},\"id\":\"1020\",\"type\":\"Grid\"},{\"attributes\":{\"data_source\":{\"id\":\"1037\"},\"glyph\":{\"id\":\"1038\"},\"hover_glyph\":null,\"muted_glyph\":null,\"nonselection_glyph\":{\"id\":\"1039\"},\"selection_glyph\":null,\"view\":{\"id\":\"1041\"}},\"id\":\"1040\",\"type\":\"GlyphRenderer\"},{\"attributes\":{\"text\":\"\"},\"id\":\"1003\",\"type\":\"Title\"},{\"attributes\":{\"line_width\":4,\"x\":{\"field\":\"x\"},\"y\":{\"field\":\"y\"}},\"id\":\"1038\",\"type\":\"Line\"},{\"attributes\":{\"data\":{\"x\":[0.0,1.0,1.0,2.0,2.0,1.0,1.0,1.0,1.0,0.0,0.0,1.0,1.0,1.0,2.0,2.0,2.0,2.0,2.0,3.0,4.0,4.0,3.0,3.0,3.0,4.0,4.0,5.0,5.0,5.0,4.0,4.0,4.0,4.0,3.0,3.0,2.0,2.0,1.0,1.0,0.0,0.0,0.0,0.0,1.0,2.0,3.0,3.0,2.0,1.0,0.0,1.0,1.0,2.0,2.0,3.0,4.0,5.0,5.0,5.0,6.0,6.0,6.0,6.0,5.0,5.0,6.0,7.0,8.0,9.0,9.0,8.0,8.0,9.0,10.0,11.0,12.0,13.0,13.0,13.0,12.0,12.0,13.0,13.0,13.0,14.0,14.0,13.0,12.0,12.0,12.0,11.0,11.0,11.0,10.0,10.0,9.0,9.0,9.0,8.0,8.0,8.0,8.0,9.0,10.0,10.0,11.0,11.0,12.0,12.0,13.0,13.0,13.0,12.0,12.0,12.0,11.0,10.0,9.0,9.0,8.0,7.0,6.0,6.0,7.0,7.0,6.0,5.0,5.0,4.0,4.0,4.0,4.0,5.0,5.0,3.0,3.0,2.0,3.0,3.0,2.0,0.0,0.0,0.0,0.0,5.0,6.0,7.0,7.0,6.0,6.0,5.0,6.0,6.0,6.0,7.0,7.0,7.0,8.0,8.0,9.0,10.0,10.0,11.0,11.0,12.0,12.0,12.0,11.0,10.0,10.0,11.0,13.0,14.0,14.0,13.0,14.0,14.0,14.0,14.0,14.0,14.0,14.0,14.0,14.0,13.0,13.0,13.0,12.0,11.0,10.0,11.0,10.0,10.0,11.0,9.0,9.0,8.0,7.0,7.0,7.0,8.0,8.0,8.0,9.0,9.0,9.0,8.0,6.0,5.0,3.0,3.0,0.0,0.0,0.0,4.0,4.0,7.0,7.0,7.0,10.0,11.0,10.0,14.0,14.0,0.0],\"y\":[0.0,0.0,1.0,1.0,2.0,2.0,3.0,4.0,5.0,5.0,6.0,6.0,7.0,8.0,8.0,7.0,6.0,5.0,4.0,4.0,4.0,5.0,5.0,6.0,7.0,7.0,6.0,6.0,7.0,8.0,8.0,9.0,10.0,11.0,11.0,10.0,10.0,9.0,9.0,10.0,10.0,11.0,12.0,13.0,13.0,13.0,13.0,14.0,14.0,14.0,14.0,12.0,11.0,11.0,12.0,12.0,12.0,12.0,11.0,10.0,10.0,11.0,12.0,13.0,13.0,14.0,14.0,14.0,14.0,14.0,13.0,13.0,12.0,12.0,12.0,12.0,12.0,12.0,11.0,10.0,10.0,9.0,9.0,8.0,7.0,7.0,6.0,6.0,6.0,7.0,8.0,8.0,7.0,6.0,6.0,7.0,7.0,6.0,5.0,5.0,4.0,3.0,2.0,2.0,2.0,3.0,3.0,4.0,4.0,5.0,5.0,4.0,3.0,3.0,2.0,1.0,1.0,1.0,1.0,0.0,0.0,0.0,0.0,1.0,1.0,2.0,2.0,2.0,3.0,3.0,2.0,1.0,0.0,0.0,1.0,1.0,0.0,0.0,2.0,3.0,3.0,3.0,4.0,2.0,1.0,4.0,4.0,4.0,3.0,3.0,5.0,5.0,6.0,7.0,8.0,8.0,9.0,10.0,10.0,11.0,11.0,11.0,10.0,10.0,11.0,11.0,13.0,14.0,14.0,14.0,13.0,13.0,13.0,13.0,14.0,14.0,12.0,11.0,10.0,9.0,8.0,5.0,4.0,3.0,2.0,2.0,1.0,0.0,0.0,0.0,0.0,2.0,4.0,5.0,5.0,4.0,3.0,1.0,5.0,6.0,7.0,7.0,6.0,8.0,8.0,9.0,10.0,9.0,9.0,9.0,9.0,8.0,8.0,9.0,7.0,13.0,14.0,13.0,12.0,11.0,9.0,9.0,8.0,1.0,0.0,0.0]},\"selected\":{\"id\":\"1053\"},\"selection_policy\":{\"id\":\"1052\"}},\"id\":\"1037\",\"type\":\"ColumnDataSource\"},{\"attributes\":{\"data\":{\"x\":[0.0,0.0,0.0,0.0,0.0,0.0,0.0,0.0,0.0,0.0,0.0,0.0,0.0,0.0,0.0,1.0,1.0,1.0,1.0,1.0,1.0,1.0,1.0,1.0,1.0,1.0,1.0,1.0,1.0,1.0,2.0,2.0,2.0,2.0,2.0,2.0,2.0,2.0,2.0,2.0,2.0,2.0,2.0,2.0,2.0,3.0,3.0,3.0,3.0,3.0,3.0,3.0,3.0,3.0,3.0,3.0,3.0,3.0,3.0,3.0,4.0,4.0,4.0,4.0,4.0,4.0,4.0,4.0,4.0,4.0,4.0,4.0,4.0,4.0,4.0,5.0,5.0,5.0,5.0,5.0,5.0,5.0,5.0,5.0,5.0,5.0,5.0,5.0,5.0,5.0,6.0,6.0,6.0,6.0,6.0,6.0,6.0,6.0,6.0,6.0,6.0,6.0,6.0,6.0,6.0,7.0,7.0,7.0,7.0,7.0,7.0,7.0,7.0,7.0,7.0,7.0,7.0,7.0,7.0,7.0,8.0,8.0,8.0,8.0,8.0,8.0,8.0,8.0,8.0,8.0,8.0,8.0,8.0,8.0,8.0,9.0,9.0,9.0,9.0,9.0,9.0,9.0,9.0,9.0,9.0,9.0,9.0,9.0,9.0,9.0,10.0,10.0,10.0,10.0,10.0,10.0,10.0,10.0,10.0,10.0,10.0,10.0,10.0,10.0,10.0,11.0,11.0,11.0,11.0,11.0,11.0,11.0,11.0,11.0,11.0,11.0,11.0,11.0,11.0,11.0,12.0,12.0,12.0,12.0,12.0,12.0,12.0,12.0,12.0,12.0,12.0,12.0,12.0,12.0,12.0,13.0,13.0,13.0,13.0,13.0,13.0,13.0,13.0,13.0,13.0,13.0,13.0,13.0,13.0,13.0,14.0,14.0,14.0,14.0,14.0,14.0,14.0,14.0,14.0,14.0,14.0,14.0,14.0,14.0,14.0],\"y\":[0.0,1.0,2.0,3.0,4.0,5.0,6.0,7.0,8.0,9.0,10.0,11.0,12.0,13.0,14.0,0.0,1.0,2.0,3.0,4.0,5.0,6.0,7.0,8.0,9.0,10.0,11.0,12.0,13.0,14.0,0.0,1.0,2.0,3.0,4.0,5.0,6.0,7.0,8.0,9.0,10.0,11.0,12.0,13.0,14.0,0.0,1.0,2.0,3.0,4.0,5.0,6.0,7.0,8.0,9.0,10.0,11.0,12.0,13.0,14.0,0.0,1.0,2.0,3.0,4.0,5.0,6.0,7.0,8.0,9.0,10.0,11.0,12.0,13.0,14.0,0.0,1.0,2.0,3.0,4.0,5.0,6.0,7.0,8.0,9.0,10.0,11.0,12.0,13.0,14.0,0.0,1.0,2.0,3.0,4.0,5.0,6.0,7.0,8.0,9.0,10.0,11.0,12.0,13.0,14.0,0.0,1.0,2.0,3.0,4.0,5.0,6.0,7.0,8.0,9.0,10.0,11.0,12.0,13.0,14.0,0.0,1.0,2.0,3.0,4.0,5.0,6.0,7.0,8.0,9.0,10.0,11.0,12.0,13.0,14.0,0.0,1.0,2.0,3.0,4.0,5.0,6.0,7.0,8.0,9.0,10.0,11.0,12.0,13.0,14.0,0.0,1.0,2.0,3.0,4.0,5.0,6.0,7.0,8.0,9.0,10.0,11.0,12.0,13.0,14.0,0.0,1.0,2.0,3.0,4.0,5.0,6.0,7.0,8.0,9.0,10.0,11.0,12.0,13.0,14.0,0.0,1.0,2.0,3.0,4.0,5.0,6.0,7.0,8.0,9.0,10.0,11.0,12.0,13.0,14.0,0.0,1.0,2.0,3.0,4.0,5.0,6.0,7.0,8.0,9.0,10.0,11.0,12.0,13.0,14.0,0.0,1.0,2.0,3.0,4.0,5.0,6.0,7.0,8.0,9.0,10.0,11.0,12.0,13.0,14.0]},\"selected\":{\"id\":\"1055\"},\"selection_policy\":{\"id\":\"1054\"}},\"id\":\"1042\",\"type\":\"ColumnDataSource\"},{\"attributes\":{\"align\":\"center\",\"text\":\"287.89\",\"width\":400},\"id\":\"1036\",\"type\":\"Div\"},{\"attributes\":{},\"id\":\"1053\",\"type\":\"Selection\"},{\"attributes\":{\"fill_alpha\":{\"value\":0.1},\"fill_color\":{\"value\":\"steelblue\"},\"line_alpha\":{\"value\":0.1},\"line_color\":{\"value\":\"steelblue\"},\"size\":{\"units\":\"screen\",\"value\":8},\"x\":{\"field\":\"x\"},\"y\":{\"field\":\"y\"}},\"id\":\"1044\",\"type\":\"Circle\"},{\"attributes\":{},\"id\":\"1021\",\"type\":\"PanTool\"},{\"attributes\":{},\"id\":\"1022\",\"type\":\"WheelZoomTool\"},{\"attributes\":{\"data_source\":{\"id\":\"1042\"},\"glyph\":{\"id\":\"1043\"},\"hover_glyph\":null,\"muted_glyph\":null,\"nonselection_glyph\":{\"id\":\"1044\"},\"selection_glyph\":null,\"view\":{\"id\":\"1046\"}},\"id\":\"1045\",\"type\":\"GlyphRenderer\"},{\"attributes\":{\"overlay\":{\"id\":\"1027\"}},\"id\":\"1023\",\"type\":\"BoxZoomTool\"},{\"attributes\":{},\"id\":\"1052\",\"type\":\"UnionRenderers\"},{\"attributes\":{},\"id\":\"1024\",\"type\":\"SaveTool\"},{\"attributes\":{\"background_fill_color\":null,\"below\":[{\"id\":\"1013\"}],\"border_fill_color\":null,\"center\":[{\"id\":\"1016\"},{\"id\":\"1020\"}],\"left\":[{\"id\":\"1017\"}],\"outline_line_color\":null,\"plot_height\":400,\"plot_width\":400,\"renderers\":[{\"id\":\"1040\"},{\"id\":\"1045\"}],\"title\":{\"id\":\"1003\"},\"toolbar\":{\"id\":\"1028\"},\"toolbar_location\":null,\"x_range\":{\"id\":\"1005\"},\"x_scale\":{\"id\":\"1009\"},\"y_range\":{\"id\":\"1007\"},\"y_scale\":{\"id\":\"1011\"}},\"id\":\"1002\",\"subtype\":\"Figure\",\"type\":\"Plot\"},{\"attributes\":{\"fill_color\":{\"value\":\"steelblue\"},\"line_color\":{\"value\":\"steelblue\"},\"size\":{\"units\":\"screen\",\"value\":8},\"x\":{\"field\":\"x\"},\"y\":{\"field\":\"y\"}},\"id\":\"1043\",\"type\":\"Circle\"},{\"attributes\":{},\"id\":\"1025\",\"type\":\"ResetTool\"}],\"root_ids\":[\"1058\"]},\"title\":\"Bokeh Application\",\"version\":\"2.1.0\"}};\n",
       "  var render_items = [{\"docid\":\"d975cc74-a8e5-47ff-90f5-dba22a0d1658\",\"root_ids\":[\"1058\"],\"roots\":{\"1058\":\"6f1cf48b-f9fd-411f-9c4b-537594a3b279\"}}];\n",
       "  root.Bokeh.embed.embed_items_notebook(docs_json, render_items);\n",
       "\n",
       "  }\n",
       "  if (root.Bokeh !== undefined) {\n",
       "    embed_document(root);\n",
       "  } else {\n",
       "    var attempts = 0;\n",
       "    var timer = setInterval(function(root) {\n",
       "      if (root.Bokeh !== undefined) {\n",
       "        clearInterval(timer);\n",
       "        embed_document(root);\n",
       "      } else {\n",
       "        attempts++;\n",
       "        if (attempts > 100) {\n",
       "          clearInterval(timer);\n",
       "          console.log(\"Bokeh: ERROR: Unable to run BokehJS code because BokehJS library is missing\");\n",
       "        }\n",
       "      }\n",
       "    }, 10, root)\n",
       "  }\n",
       "})(window);"
      ],
      "application/vnd.bokehjs_exec.v0+json": ""
     },
     "metadata": {
      "application/vnd.bokehjs_exec.v0+json": {
       "id": "1058"
      }
     },
     "output_type": "display_data"
    },
    {
     "data": {
      "text/html": [
       "\n",
       "\n",
       "\n",
       "\n",
       "\n",
       "\n",
       "  <div class=\"bk-root\" id=\"b304174f-4f4e-4ba7-a7f5-694be35e6865\" data-root-id=\"1185\"></div>\n"
      ]
     },
     "metadata": {},
     "output_type": "display_data"
    },
    {
     "data": {
      "application/javascript": [
       "(function(root) {\n",
       "  function embed_document(root) {\n",
       "    \n",
       "  var docs_json = {\"bd1fa690-d6cc-4d94-8845-6d8aa9e280f6\":{\"roots\":{\"references\":[{\"attributes\":{\"children\":[[{\"id\":\"1129\"},0,0],[{\"id\":\"1163\"},1,0]]},\"id\":\"1185\",\"type\":\"GridBox\"},{\"attributes\":{},\"id\":\"1141\",\"type\":\"BasicTicker\"},{\"attributes\":{\"axis\":{\"id\":\"1140\"},\"grid_line_color\":null,\"ticker\":null},\"id\":\"1143\",\"type\":\"Grid\"},{\"attributes\":{\"fill_color\":{\"value\":\"steelblue\"},\"line_color\":{\"value\":\"steelblue\"},\"size\":{\"units\":\"screen\",\"value\":8},\"x\":{\"field\":\"x\"},\"y\":{\"field\":\"y\"}},\"id\":\"1170\",\"type\":\"Circle\"},{\"attributes\":{},\"id\":\"1181\",\"type\":\"UnionRenderers\"},{\"attributes\":{\"formatter\":{\"id\":\"1175\"},\"ticker\":{\"id\":\"1145\"},\"visible\":false},\"id\":\"1144\",\"type\":\"LinearAxis\"},{\"attributes\":{},\"id\":\"1175\",\"type\":\"BasicTickFormatter\"},{\"attributes\":{\"formatter\":{\"id\":\"1177\"},\"ticker\":{\"id\":\"1141\"},\"visible\":false},\"id\":\"1140\",\"type\":\"LinearAxis\"},{\"attributes\":{},\"id\":\"1177\",\"type\":\"BasicTickFormatter\"},{\"attributes\":{\"align\":\"center\",\"text\":\"238.669\",\"width\":400},\"id\":\"1163\",\"type\":\"Div\"},{\"attributes\":{\"active_drag\":\"auto\",\"active_inspect\":\"auto\",\"active_multi\":null,\"active_scroll\":\"auto\",\"active_tap\":\"auto\",\"logo\":null,\"tools\":[{\"id\":\"1148\"},{\"id\":\"1149\"},{\"id\":\"1150\"},{\"id\":\"1151\"},{\"id\":\"1152\"},{\"id\":\"1153\"}]},\"id\":\"1155\",\"type\":\"Toolbar\"},{\"attributes\":{},\"id\":\"1179\",\"type\":\"UnionRenderers\"},{\"attributes\":{\"data_source\":{\"id\":\"1169\"},\"glyph\":{\"id\":\"1170\"},\"hover_glyph\":null,\"muted_glyph\":null,\"nonselection_glyph\":{\"id\":\"1171\"},\"selection_glyph\":null,\"view\":{\"id\":\"1173\"}},\"id\":\"1172\",\"type\":\"GlyphRenderer\"},{\"attributes\":{},\"id\":\"1148\",\"type\":\"PanTool\"},{\"attributes\":{\"source\":{\"id\":\"1169\"}},\"id\":\"1173\",\"type\":\"CDSView\"},{\"attributes\":{},\"id\":\"1151\",\"type\":\"SaveTool\"},{\"attributes\":{\"data\":{\"x\":[0.0,0.0,0.0,0.0,0.0,0.0,0.0,0.0,0.0,0.0,0.0,0.0,0.0,0.0,0.0,1.0,1.0,1.0,1.0,1.0,1.0,1.0,1.0,1.0,1.0,1.0,1.0,1.0,1.0,1.0,2.0,2.0,2.0,2.0,2.0,2.0,2.0,2.0,2.0,2.0,2.0,2.0,2.0,2.0,2.0,3.0,3.0,3.0,3.0,3.0,3.0,3.0,3.0,3.0,3.0,3.0,3.0,3.0,3.0,3.0,4.0,4.0,4.0,4.0,4.0,4.0,4.0,4.0,4.0,4.0,4.0,4.0,4.0,4.0,4.0,5.0,5.0,5.0,5.0,5.0,5.0,5.0,5.0,5.0,5.0,5.0,5.0,5.0,5.0,5.0,6.0,6.0,6.0,6.0,6.0,6.0,6.0,6.0,6.0,6.0,6.0,6.0,6.0,6.0,6.0,7.0,7.0,7.0,7.0,7.0,7.0,7.0,7.0,7.0,7.0,7.0,7.0,7.0,7.0,7.0,8.0,8.0,8.0,8.0,8.0,8.0,8.0,8.0,8.0,8.0,8.0,8.0,8.0,8.0,8.0,9.0,9.0,9.0,9.0,9.0,9.0,9.0,9.0,9.0,9.0,9.0,9.0,9.0,9.0,9.0,10.0,10.0,10.0,10.0,10.0,10.0,10.0,10.0,10.0,10.0,10.0,10.0,10.0,10.0,10.0,11.0,11.0,11.0,11.0,11.0,11.0,11.0,11.0,11.0,11.0,11.0,11.0,11.0,11.0,11.0,12.0,12.0,12.0,12.0,12.0,12.0,12.0,12.0,12.0,12.0,12.0,12.0,12.0,12.0,12.0,13.0,13.0,13.0,13.0,13.0,13.0,13.0,13.0,13.0,13.0,13.0,13.0,13.0,13.0,13.0,14.0,14.0,14.0,14.0,14.0,14.0,14.0,14.0,14.0,14.0,14.0,14.0,14.0,14.0,14.0],\"y\":[0.0,1.0,2.0,3.0,4.0,5.0,6.0,7.0,8.0,9.0,10.0,11.0,12.0,13.0,14.0,0.0,1.0,2.0,3.0,4.0,5.0,6.0,7.0,8.0,9.0,10.0,11.0,12.0,13.0,14.0,0.0,1.0,2.0,3.0,4.0,5.0,6.0,7.0,8.0,9.0,10.0,11.0,12.0,13.0,14.0,0.0,1.0,2.0,3.0,4.0,5.0,6.0,7.0,8.0,9.0,10.0,11.0,12.0,13.0,14.0,0.0,1.0,2.0,3.0,4.0,5.0,6.0,7.0,8.0,9.0,10.0,11.0,12.0,13.0,14.0,0.0,1.0,2.0,3.0,4.0,5.0,6.0,7.0,8.0,9.0,10.0,11.0,12.0,13.0,14.0,0.0,1.0,2.0,3.0,4.0,5.0,6.0,7.0,8.0,9.0,10.0,11.0,12.0,13.0,14.0,0.0,1.0,2.0,3.0,4.0,5.0,6.0,7.0,8.0,9.0,10.0,11.0,12.0,13.0,14.0,0.0,1.0,2.0,3.0,4.0,5.0,6.0,7.0,8.0,9.0,10.0,11.0,12.0,13.0,14.0,0.0,1.0,2.0,3.0,4.0,5.0,6.0,7.0,8.0,9.0,10.0,11.0,12.0,13.0,14.0,0.0,1.0,2.0,3.0,4.0,5.0,6.0,7.0,8.0,9.0,10.0,11.0,12.0,13.0,14.0,0.0,1.0,2.0,3.0,4.0,5.0,6.0,7.0,8.0,9.0,10.0,11.0,12.0,13.0,14.0,0.0,1.0,2.0,3.0,4.0,5.0,6.0,7.0,8.0,9.0,10.0,11.0,12.0,13.0,14.0,0.0,1.0,2.0,3.0,4.0,5.0,6.0,7.0,8.0,9.0,10.0,11.0,12.0,13.0,14.0,0.0,1.0,2.0,3.0,4.0,5.0,6.0,7.0,8.0,9.0,10.0,11.0,12.0,13.0,14.0]},\"selected\":{\"id\":\"1182\"},\"selection_policy\":{\"id\":\"1181\"}},\"id\":\"1169\",\"type\":\"ColumnDataSource\"},{\"attributes\":{\"source\":{\"id\":\"1164\"}},\"id\":\"1168\",\"type\":\"CDSView\"},{\"attributes\":{\"overlay\":{\"id\":\"1154\"}},\"id\":\"1150\",\"type\":\"BoxZoomTool\"},{\"attributes\":{},\"id\":\"1136\",\"type\":\"LinearScale\"},{\"attributes\":{\"text\":\"\"},\"id\":\"1130\",\"type\":\"Title\"},{\"attributes\":{\"end\":14.7,\"start\":-0.7000000000000001},\"id\":\"1132\",\"type\":\"Range1d\"},{\"attributes\":{},\"id\":\"1149\",\"type\":\"WheelZoomTool\"},{\"attributes\":{},\"id\":\"1153\",\"type\":\"HelpTool\"},{\"attributes\":{},\"id\":\"1152\",\"type\":\"ResetTool\"},{\"attributes\":{\"end\":14.7,\"start\":-0.7000000000000001},\"id\":\"1134\",\"type\":\"Range1d\"},{\"attributes\":{\"bottom_units\":\"screen\",\"fill_alpha\":0.5,\"fill_color\":\"lightgrey\",\"left_units\":\"screen\",\"level\":\"overlay\",\"line_alpha\":1.0,\"line_color\":\"black\",\"line_dash\":[4,4],\"line_width\":2,\"right_units\":\"screen\",\"top_units\":\"screen\"},\"id\":\"1154\",\"type\":\"BoxAnnotation\"},{\"attributes\":{\"background_fill_color\":null,\"below\":[{\"id\":\"1140\"}],\"border_fill_color\":null,\"center\":[{\"id\":\"1143\"},{\"id\":\"1147\"}],\"left\":[{\"id\":\"1144\"}],\"outline_line_color\":null,\"plot_height\":400,\"plot_width\":400,\"renderers\":[{\"id\":\"1167\"},{\"id\":\"1172\"}],\"title\":{\"id\":\"1130\"},\"toolbar\":{\"id\":\"1155\"},\"toolbar_location\":null,\"x_range\":{\"id\":\"1132\"},\"x_scale\":{\"id\":\"1136\"},\"y_range\":{\"id\":\"1134\"},\"y_scale\":{\"id\":\"1138\"}},\"id\":\"1129\",\"subtype\":\"Figure\",\"type\":\"Plot\"},{\"attributes\":{},\"id\":\"1138\",\"type\":\"LinearScale\"},{\"attributes\":{},\"id\":\"1182\",\"type\":\"Selection\"},{\"attributes\":{\"line_width\":4,\"x\":{\"field\":\"x\"},\"y\":{\"field\":\"y\"}},\"id\":\"1165\",\"type\":\"Line\"},{\"attributes\":{\"data\":{\"x\":[0.0,0.0,1.0,1.0,0.0,0.0,0.0,1.0,2.0,1.0,2.0,3.0,4.0,3.0,3.0,2.0,2.0,1.0,0.0,1.0,0.0,0.0,0.0,1.0,1.0,2.0,2.0,2.0,3.0,4.0,3.0,3.0,4.0,4.0,5.0,5.0,5.0,6.0,7.0,7.0,6.0,5.0,6.0,6.0,7.0,7.0,8.0,8.0,8.0,8.0,9.0,9.0,8.0,9.0,9.0,8.0,7.0,7.0,6.0,6.0,6.0,7.0,7.0,6.0,5.0,5.0,5.0,4.0,4.0,3.0,4.0,3.0,3.0,2.0,2.0,1.0,1.0,0.0,0.0,0.0,1.0,1.0,0.0,0.0,1.0,0.0,1.0,2.0,3.0,2.0,2.0,3.0,3.0,4.0,4.0,5.0,5.0,6.0,5.0,4.0,4.0,5.0,6.0,7.0,7.0,7.0,6.0,6.0,7.0,8.0,8.0,9.0,9.0,10.0,10.0,10.0,9.0,9.0,8.0,8.0,8.0,8.0,9.0,9.0,10.0,11.0,10.0,11.0,10.0,11.0,12.0,12.0,11.0,11.0,12.0,11.0,12.0,13.0,14.0,14.0,14.0,13.0,13.0,13.0,14.0,14.0,13.0,12.0,12.0,13.0,14.0,14.0,13.0,13.0,14.0,14.0,14.0,14.0,13.0,13.0,12.0,12.0,11.0,10.0,10.0,11.0,12.0,12.0,11.0,11.0,10.0,10.0,10.0,9.0,9.0,10.0,10.0,11.0,11.0,12.0,11.0,11.0,12.0,13.0,12.0,13.0,14.0,13.0,14.0,14.0,13.0,14.0,13.0,12.0,12.0,11.0,10.0,10.0,9.0,8.0,8.0,9.0,9.0,8.0,7.0,7.0,7.0,6.0,5.0,5.0,6.0,6.0,5.0,5.0,4.0,4.0,4.0,4.0,3.0,3.0,2.0,2.0,3.0,2.0,1.0,0.0],\"y\":[0.0,1.0,1.0,2.0,2.0,3.0,4.0,4.0,4.0,3.0,3.0,3.0,4.0,4.0,5.0,5.0,6.0,5.0,5.0,6.0,6.0,7.0,8.0,8.0,7.0,7.0,8.0,9.0,8.0,7.0,7.0,6.0,6.0,5.0,5.0,6.0,7.0,6.0,6.0,5.0,5.0,4.0,3.0,4.0,4.0,3.0,3.0,4.0,5.0,6.0,5.0,6.0,7.0,7.0,8.0,8.0,8.0,7.0,7.0,8.0,9.0,9.0,10.0,10.0,10.0,9.0,8.0,8.0,9.0,9.0,10.0,10.0,11.0,11.0,10.0,10.0,9.0,9.0,10.0,11.0,11.0,12.0,12.0,13.0,13.0,14.0,14.0,14.0,14.0,13.0,12.0,12.0,13.0,13.0,14.0,14.0,13.0,12.0,12.0,12.0,11.0,11.0,11.0,11.0,12.0,13.0,13.0,14.0,14.0,14.0,13.0,13.0,14.0,14.0,13.0,12.0,11.0,12.0,12.0,11.0,10.0,9.0,10.0,9.0,9.0,9.0,10.0,10.0,11.0,11.0,11.0,12.0,12.0,13.0,13.0,14.0,14.0,14.0,14.0,13.0,12.0,13.0,12.0,11.0,11.0,10.0,10.0,10.0,9.0,9.0,9.0,8.0,8.0,7.0,7.0,6.0,5.0,4.0,5.0,6.0,7.0,8.0,8.0,8.0,7.0,7.0,6.0,5.0,5.0,6.0,6.0,5.0,4.0,4.0,3.0,3.0,2.0,1.0,2.0,2.0,3.0,4.0,4.0,4.0,3.0,3.0,3.0,2.0,2.0,1.0,1.0,0.0,0.0,1.0,0.0,0.0,0.0,1.0,0.0,0.0,1.0,1.0,2.0,2.0,2.0,1.0,0.0,0.0,0.0,1.0,1.0,2.0,2.0,3.0,3.0,2.0,1.0,0.0,1.0,2.0,2.0,1.0,0.0,0.0,0.0,0.0]},\"selected\":{\"id\":\"1180\"},\"selection_policy\":{\"id\":\"1179\"}},\"id\":\"1164\",\"type\":\"ColumnDataSource\"},{\"attributes\":{\"fill_alpha\":{\"value\":0.1},\"fill_color\":{\"value\":\"steelblue\"},\"line_alpha\":{\"value\":0.1},\"line_color\":{\"value\":\"steelblue\"},\"size\":{\"units\":\"screen\",\"value\":8},\"x\":{\"field\":\"x\"},\"y\":{\"field\":\"y\"}},\"id\":\"1171\",\"type\":\"Circle\"},{\"attributes\":{\"axis\":{\"id\":\"1144\"},\"dimension\":1,\"grid_line_color\":null,\"ticker\":null},\"id\":\"1147\",\"type\":\"Grid\"},{\"attributes\":{},\"id\":\"1180\",\"type\":\"Selection\"},{\"attributes\":{\"line_alpha\":0.1,\"line_width\":4,\"x\":{\"field\":\"x\"},\"y\":{\"field\":\"y\"}},\"id\":\"1166\",\"type\":\"Line\"},{\"attributes\":{\"data_source\":{\"id\":\"1164\"},\"glyph\":{\"id\":\"1165\"},\"hover_glyph\":null,\"muted_glyph\":null,\"nonselection_glyph\":{\"id\":\"1166\"},\"selection_glyph\":null,\"view\":{\"id\":\"1168\"}},\"id\":\"1167\",\"type\":\"GlyphRenderer\"},{\"attributes\":{},\"id\":\"1145\",\"type\":\"BasicTicker\"}],\"root_ids\":[\"1185\"]},\"title\":\"Bokeh Application\",\"version\":\"2.1.0\"}};\n",
       "  var render_items = [{\"docid\":\"bd1fa690-d6cc-4d94-8845-6d8aa9e280f6\",\"root_ids\":[\"1185\"],\"roots\":{\"1185\":\"b304174f-4f4e-4ba7-a7f5-694be35e6865\"}}];\n",
       "  root.Bokeh.embed.embed_items_notebook(docs_json, render_items);\n",
       "\n",
       "  }\n",
       "  if (root.Bokeh !== undefined) {\n",
       "    embed_document(root);\n",
       "  } else {\n",
       "    var attempts = 0;\n",
       "    var timer = setInterval(function(root) {\n",
       "      if (root.Bokeh !== undefined) {\n",
       "        clearInterval(timer);\n",
       "        embed_document(root);\n",
       "      } else {\n",
       "        attempts++;\n",
       "        if (attempts > 100) {\n",
       "          clearInterval(timer);\n",
       "          console.log(\"Bokeh: ERROR: Unable to run BokehJS code because BokehJS library is missing\");\n",
       "        }\n",
       "      }\n",
       "    }, 10, root)\n",
       "  }\n",
       "})(window);"
      ],
      "application/vnd.bokehjs_exec.v0+json": ""
     },
     "metadata": {
      "application/vnd.bokehjs_exec.v0+json": {
       "id": "1185"
      }
     },
     "output_type": "display_data"
    },
    {
     "data": {
      "text/html": [
       "\n",
       "\n",
       "\n",
       "\n",
       "\n",
       "\n",
       "  <div class=\"bk-root\" id=\"cd71df76-dd21-4d97-91ac-701e101e610f\" data-root-id=\"1322\"></div>\n"
      ]
     },
     "metadata": {},
     "output_type": "display_data"
    },
    {
     "data": {
      "application/javascript": [
       "(function(root) {\n",
       "  function embed_document(root) {\n",
       "    \n",
       "  var docs_json = {\"09755b7e-f291-4b52-ba77-b7a87badd67d\":{\"roots\":{\"references\":[{\"attributes\":{\"children\":[[{\"id\":\"1266\"},0,0],[{\"id\":\"1300\"},1,0]]},\"id\":\"1322\",\"type\":\"GridBox\"},{\"attributes\":{},\"id\":\"1314\",\"type\":\"BasicTickFormatter\"},{\"attributes\":{},\"id\":\"1316\",\"type\":\"UnionRenderers\"},{\"attributes\":{},\"id\":\"1290\",\"type\":\"HelpTool\"},{\"attributes\":{},\"id\":\"1317\",\"type\":\"Selection\"},{\"attributes\":{\"text\":\"\"},\"id\":\"1267\",\"type\":\"Title\"},{\"attributes\":{},\"id\":\"1318\",\"type\":\"UnionRenderers\"},{\"attributes\":{},\"id\":\"1319\",\"type\":\"Selection\"},{\"attributes\":{\"end\":14.7,\"start\":-0.7000000000000001},\"id\":\"1269\",\"type\":\"Range1d\"},{\"attributes\":{\"end\":14.7,\"start\":-0.7000000000000001},\"id\":\"1271\",\"type\":\"Range1d\"},{\"attributes\":{\"axis\":{\"id\":\"1281\"},\"dimension\":1,\"grid_line_color\":null,\"ticker\":null},\"id\":\"1284\",\"type\":\"Grid\"},{\"attributes\":{},\"id\":\"1288\",\"type\":\"SaveTool\"},{\"attributes\":{\"overlay\":{\"id\":\"1291\"}},\"id\":\"1287\",\"type\":\"BoxZoomTool\"},{\"attributes\":{\"background_fill_color\":null,\"below\":[{\"id\":\"1277\"}],\"border_fill_color\":null,\"center\":[{\"id\":\"1280\"},{\"id\":\"1284\"}],\"left\":[{\"id\":\"1281\"}],\"outline_line_color\":null,\"plot_height\":400,\"plot_width\":400,\"renderers\":[{\"id\":\"1304\"},{\"id\":\"1309\"}],\"title\":{\"id\":\"1267\"},\"toolbar\":{\"id\":\"1292\"},\"toolbar_location\":null,\"x_range\":{\"id\":\"1269\"},\"x_scale\":{\"id\":\"1273\"},\"y_range\":{\"id\":\"1271\"},\"y_scale\":{\"id\":\"1275\"}},\"id\":\"1266\",\"subtype\":\"Figure\",\"type\":\"Plot\"},{\"attributes\":{\"bottom_units\":\"screen\",\"fill_alpha\":0.5,\"fill_color\":\"lightgrey\",\"left_units\":\"screen\",\"level\":\"overlay\",\"line_alpha\":1.0,\"line_color\":\"black\",\"line_dash\":[4,4],\"line_width\":2,\"right_units\":\"screen\",\"top_units\":\"screen\"},\"id\":\"1291\",\"type\":\"BoxAnnotation\"},{\"attributes\":{},\"id\":\"1278\",\"type\":\"BasicTicker\"},{\"attributes\":{\"line_alpha\":0.1,\"line_width\":4,\"x\":{\"field\":\"x\"},\"y\":{\"field\":\"y\"}},\"id\":\"1303\",\"type\":\"Line\"},{\"attributes\":{},\"id\":\"1273\",\"type\":\"LinearScale\"},{\"attributes\":{\"data_source\":{\"id\":\"1301\"},\"glyph\":{\"id\":\"1302\"},\"hover_glyph\":null,\"muted_glyph\":null,\"nonselection_glyph\":{\"id\":\"1303\"},\"selection_glyph\":null,\"view\":{\"id\":\"1305\"}},\"id\":\"1304\",\"type\":\"GlyphRenderer\"},{\"attributes\":{},\"id\":\"1285\",\"type\":\"PanTool\"},{\"attributes\":{\"active_drag\":\"auto\",\"active_inspect\":\"auto\",\"active_multi\":null,\"active_scroll\":\"auto\",\"active_tap\":\"auto\",\"logo\":null,\"tools\":[{\"id\":\"1285\"},{\"id\":\"1286\"},{\"id\":\"1287\"},{\"id\":\"1288\"},{\"id\":\"1289\"},{\"id\":\"1290\"}]},\"id\":\"1292\",\"type\":\"Toolbar\"},{\"attributes\":{\"formatter\":{\"id\":\"1314\"},\"ticker\":{\"id\":\"1278\"},\"visible\":false},\"id\":\"1277\",\"type\":\"LinearAxis\"},{\"attributes\":{\"source\":{\"id\":\"1301\"}},\"id\":\"1305\",\"type\":\"CDSView\"},{\"attributes\":{},\"id\":\"1275\",\"type\":\"LinearScale\"},{\"attributes\":{\"data\":{\"x\":[0.0,0.0,0.0,0.0,0.0,0.0,0.0,0.0,0.0,0.0,0.0,0.0,0.0,0.0,0.0,1.0,1.0,1.0,1.0,1.0,1.0,1.0,1.0,1.0,1.0,1.0,1.0,1.0,1.0,1.0,2.0,2.0,2.0,2.0,2.0,2.0,2.0,2.0,2.0,2.0,2.0,2.0,2.0,2.0,2.0,3.0,3.0,3.0,3.0,3.0,3.0,3.0,3.0,3.0,3.0,3.0,3.0,3.0,3.0,3.0,4.0,4.0,4.0,4.0,4.0,4.0,4.0,4.0,4.0,4.0,4.0,4.0,4.0,4.0,4.0,5.0,5.0,5.0,5.0,5.0,5.0,5.0,5.0,5.0,5.0,5.0,5.0,5.0,5.0,5.0,6.0,6.0,6.0,6.0,6.0,6.0,6.0,6.0,6.0,6.0,6.0,6.0,6.0,6.0,6.0,7.0,7.0,7.0,7.0,7.0,7.0,7.0,7.0,7.0,7.0,7.0,7.0,7.0,7.0,7.0,8.0,8.0,8.0,8.0,8.0,8.0,8.0,8.0,8.0,8.0,8.0,8.0,8.0,8.0,8.0,9.0,9.0,9.0,9.0,9.0,9.0,9.0,9.0,9.0,9.0,9.0,9.0,9.0,9.0,9.0,10.0,10.0,10.0,10.0,10.0,10.0,10.0,10.0,10.0,10.0,10.0,10.0,10.0,10.0,10.0,11.0,11.0,11.0,11.0,11.0,11.0,11.0,11.0,11.0,11.0,11.0,11.0,11.0,11.0,11.0,12.0,12.0,12.0,12.0,12.0,12.0,12.0,12.0,12.0,12.0,12.0,12.0,12.0,12.0,12.0,13.0,13.0,13.0,13.0,13.0,13.0,13.0,13.0,13.0,13.0,13.0,13.0,13.0,13.0,13.0,14.0,14.0,14.0,14.0,14.0,14.0,14.0,14.0,14.0,14.0,14.0,14.0,14.0,14.0,14.0],\"y\":[0.0,1.0,2.0,3.0,4.0,5.0,6.0,7.0,8.0,9.0,10.0,11.0,12.0,13.0,14.0,0.0,1.0,2.0,3.0,4.0,5.0,6.0,7.0,8.0,9.0,10.0,11.0,12.0,13.0,14.0,0.0,1.0,2.0,3.0,4.0,5.0,6.0,7.0,8.0,9.0,10.0,11.0,12.0,13.0,14.0,0.0,1.0,2.0,3.0,4.0,5.0,6.0,7.0,8.0,9.0,10.0,11.0,12.0,13.0,14.0,0.0,1.0,2.0,3.0,4.0,5.0,6.0,7.0,8.0,9.0,10.0,11.0,12.0,13.0,14.0,0.0,1.0,2.0,3.0,4.0,5.0,6.0,7.0,8.0,9.0,10.0,11.0,12.0,13.0,14.0,0.0,1.0,2.0,3.0,4.0,5.0,6.0,7.0,8.0,9.0,10.0,11.0,12.0,13.0,14.0,0.0,1.0,2.0,3.0,4.0,5.0,6.0,7.0,8.0,9.0,10.0,11.0,12.0,13.0,14.0,0.0,1.0,2.0,3.0,4.0,5.0,6.0,7.0,8.0,9.0,10.0,11.0,12.0,13.0,14.0,0.0,1.0,2.0,3.0,4.0,5.0,6.0,7.0,8.0,9.0,10.0,11.0,12.0,13.0,14.0,0.0,1.0,2.0,3.0,4.0,5.0,6.0,7.0,8.0,9.0,10.0,11.0,12.0,13.0,14.0,0.0,1.0,2.0,3.0,4.0,5.0,6.0,7.0,8.0,9.0,10.0,11.0,12.0,13.0,14.0,0.0,1.0,2.0,3.0,4.0,5.0,6.0,7.0,8.0,9.0,10.0,11.0,12.0,13.0,14.0,0.0,1.0,2.0,3.0,4.0,5.0,6.0,7.0,8.0,9.0,10.0,11.0,12.0,13.0,14.0,0.0,1.0,2.0,3.0,4.0,5.0,6.0,7.0,8.0,9.0,10.0,11.0,12.0,13.0,14.0]},\"selected\":{\"id\":\"1319\"},\"selection_policy\":{\"id\":\"1318\"}},\"id\":\"1306\",\"type\":\"ColumnDataSource\"},{\"attributes\":{},\"id\":\"1312\",\"type\":\"BasicTickFormatter\"},{\"attributes\":{},\"id\":\"1289\",\"type\":\"ResetTool\"},{\"attributes\":{\"formatter\":{\"id\":\"1312\"},\"ticker\":{\"id\":\"1282\"},\"visible\":false},\"id\":\"1281\",\"type\":\"LinearAxis\"},{\"attributes\":{\"line_width\":4,\"x\":{\"field\":\"x\"},\"y\":{\"field\":\"y\"}},\"id\":\"1302\",\"type\":\"Line\"},{\"attributes\":{\"align\":\"center\",\"text\":\"226.243\",\"width\":400},\"id\":\"1300\",\"type\":\"Div\"},{\"attributes\":{\"source\":{\"id\":\"1306\"}},\"id\":\"1310\",\"type\":\"CDSView\"},{\"attributes\":{},\"id\":\"1282\",\"type\":\"BasicTicker\"},{\"attributes\":{\"axis\":{\"id\":\"1277\"},\"grid_line_color\":null,\"ticker\":null},\"id\":\"1280\",\"type\":\"Grid\"},{\"attributes\":{\"fill_alpha\":{\"value\":0.1},\"fill_color\":{\"value\":\"steelblue\"},\"line_alpha\":{\"value\":0.1},\"line_color\":{\"value\":\"steelblue\"},\"size\":{\"units\":\"screen\",\"value\":8},\"x\":{\"field\":\"x\"},\"y\":{\"field\":\"y\"}},\"id\":\"1308\",\"type\":\"Circle\"},{\"attributes\":{\"data\":{\"x\":[0.0,1.0,2.0,3.0,4.0,5.0,6.0,7.0,8.0,9.0,10.0,11.0,12.0,13.0,14.0,14.0,14.0,14.0,14.0,14.0,14.0,14.0,14.0,14.0,14.0,14.0,14.0,14.0,14.0,13.0,13.0,13.0,13.0,13.0,13.0,13.0,13.0,13.0,13.0,13.0,13.0,13.0,13.0,12.0,12.0,12.0,12.0,12.0,12.0,12.0,12.0,12.0,12.0,12.0,12.0,12.0,12.0,11.0,11.0,11.0,11.0,11.0,11.0,11.0,11.0,11.0,11.0,11.0,11.0,11.0,11.0,10.0,10.0,10.0,10.0,10.0,10.0,10.0,10.0,10.0,10.0,10.0,10.0,10.0,10.0,9.0,9.0,9.0,9.0,9.0,9.0,9.0,9.0,9.0,9.0,9.0,9.0,9.0,9.0,8.0,8.0,8.0,8.0,8.0,8.0,8.0,8.0,8.0,8.0,8.0,8.0,8.0,8.0,7.0,7.0,7.0,7.0,7.0,7.0,7.0,7.0,7.0,7.0,7.0,7.0,7.0,7.0,6.0,6.0,6.0,6.0,6.0,6.0,6.0,6.0,6.0,6.0,6.0,6.0,6.0,6.0,5.0,5.0,5.0,5.0,5.0,5.0,5.0,5.0,5.0,5.0,5.0,5.0,5.0,5.0,4.0,4.0,4.0,4.0,4.0,4.0,4.0,4.0,4.0,4.0,4.0,4.0,4.0,4.0,3.0,3.0,3.0,3.0,2.0,1.0,1.0,2.0,2.0,1.0,0.0,0.0,0.0,0.0,0.0,0.0,1.0,1.0,2.0,2.0,3.0,3.0,3.0,3.0,3.0,3.0,3.0,3.0,3.0,3.0,2.0,2.0,2.0,2.0,2.0,2.0,2.0,2.0,2.0,1.0,1.0,0.0,0.0,1.0,1.0,0.0,0.0,1.0,1.0,0.0,0.0,1.0,1.0,0.0,0.0,1.0,0.0],\"y\":[0.0,0.0,0.0,0.0,0.0,0.0,0.0,0.0,0.0,0.0,0.0,0.0,0.0,0.0,0.0,1.0,2.0,3.0,4.0,5.0,6.0,7.0,8.0,9.0,10.0,11.0,12.0,13.0,14.0,14.0,13.0,12.0,11.0,10.0,9.0,8.0,7.0,6.0,5.0,4.0,3.0,2.0,1.0,1.0,2.0,3.0,4.0,5.0,6.0,7.0,8.0,9.0,10.0,11.0,12.0,13.0,14.0,14.0,13.0,12.0,11.0,10.0,9.0,8.0,7.0,6.0,5.0,4.0,3.0,2.0,1.0,1.0,2.0,3.0,4.0,5.0,6.0,7.0,8.0,9.0,10.0,11.0,12.0,13.0,14.0,14.0,13.0,12.0,11.0,10.0,9.0,8.0,7.0,6.0,5.0,4.0,3.0,2.0,1.0,1.0,2.0,3.0,4.0,5.0,6.0,7.0,8.0,9.0,10.0,11.0,12.0,13.0,14.0,14.0,13.0,12.0,11.0,10.0,9.0,8.0,7.0,6.0,5.0,4.0,3.0,2.0,1.0,1.0,2.0,3.0,4.0,5.0,6.0,7.0,8.0,9.0,10.0,11.0,12.0,13.0,14.0,14.0,13.0,12.0,11.0,10.0,9.0,8.0,7.0,6.0,5.0,4.0,3.0,2.0,1.0,1.0,2.0,3.0,4.0,5.0,6.0,7.0,8.0,9.0,10.0,11.0,12.0,13.0,14.0,14.0,13.0,12.0,11.0,12.0,12.0,13.0,13.0,14.0,14.0,14.0,13.0,12.0,11.0,10.0,9.0,10.0,11.0,11.0,10.0,10.0,9.0,8.0,7.0,6.0,5.0,4.0,3.0,2.0,1.0,1.0,2.0,3.0,4.0,5.0,6.0,7.0,8.0,9.0,9.0,8.0,8.0,7.0,7.0,6.0,6.0,5.0,5.0,4.0,4.0,3.0,3.0,2.0,2.0,1.0,1.0,0.0]},\"selected\":{\"id\":\"1317\"},\"selection_policy\":{\"id\":\"1316\"}},\"id\":\"1301\",\"type\":\"ColumnDataSource\"},{\"attributes\":{\"data_source\":{\"id\":\"1306\"},\"glyph\":{\"id\":\"1307\"},\"hover_glyph\":null,\"muted_glyph\":null,\"nonselection_glyph\":{\"id\":\"1308\"},\"selection_glyph\":null,\"view\":{\"id\":\"1310\"}},\"id\":\"1309\",\"type\":\"GlyphRenderer\"},{\"attributes\":{},\"id\":\"1286\",\"type\":\"WheelZoomTool\"},{\"attributes\":{\"fill_color\":{\"value\":\"steelblue\"},\"line_color\":{\"value\":\"steelblue\"},\"size\":{\"units\":\"screen\",\"value\":8},\"x\":{\"field\":\"x\"},\"y\":{\"field\":\"y\"}},\"id\":\"1307\",\"type\":\"Circle\"}],\"root_ids\":[\"1322\"]},\"title\":\"Bokeh Application\",\"version\":\"2.1.0\"}};\n",
       "  var render_items = [{\"docid\":\"09755b7e-f291-4b52-ba77-b7a87badd67d\",\"root_ids\":[\"1322\"],\"roots\":{\"1322\":\"cd71df76-dd21-4d97-91ac-701e101e610f\"}}];\n",
       "  root.Bokeh.embed.embed_items_notebook(docs_json, render_items);\n",
       "\n",
       "  }\n",
       "  if (root.Bokeh !== undefined) {\n",
       "    embed_document(root);\n",
       "  } else {\n",
       "    var attempts = 0;\n",
       "    var timer = setInterval(function(root) {\n",
       "      if (root.Bokeh !== undefined) {\n",
       "        clearInterval(timer);\n",
       "        embed_document(root);\n",
       "      } else {\n",
       "        attempts++;\n",
       "        if (attempts > 100) {\n",
       "          clearInterval(timer);\n",
       "          console.log(\"Bokeh: ERROR: Unable to run BokehJS code because BokehJS library is missing\");\n",
       "        }\n",
       "      }\n",
       "    }, 10, root)\n",
       "  }\n",
       "})(window);"
      ],
      "application/vnd.bokehjs_exec.v0+json": ""
     },
     "metadata": {
      "application/vnd.bokehjs_exec.v0+json": {
       "id": "1322"
      }
     },
     "output_type": "display_data"
    }
   ],
   "source": [
    "# solve grid TSP\n",
    "nodes, G = tsp_grid_instance(15,15,manhattan=False)\n",
    "plot_tour(nodes, G, nearest_neighbor(G))\n",
    "plot_tour(nodes, G, furthest_insertion(G))\n",
    "plot_tour(nodes, G, solve_tsp(G))"
   ]
  },
  {
   "cell_type": "code",
   "execution_count": 3,
   "metadata": {
    "scrolled": false
   },
   "outputs": [
    {
     "data": {
      "text/html": [
       "\n",
       "\n",
       "\n",
       "\n",
       "\n",
       "\n",
       "  <div class=\"bk-root\" id=\"da863cdc-8421-448a-a23a-761305e96d61\" data-root-id=\"1483\"></div>\n"
      ]
     },
     "metadata": {},
     "output_type": "display_data"
    },
    {
     "data": {
      "application/javascript": [
       "(function(root) {\n",
       "  function embed_document(root) {\n",
       "    \n",
       "  var docs_json = {\"c1353c87-f807-4730-bc71-9e8db6d21c77\":{\"roots\":{\"references\":[{\"attributes\":{\"children\":[[{\"id\":\"1413\"},0,0],[{\"id\":\"1466\"},1,0],[{\"id\":\"1467\"},2,0]]},\"id\":\"1483\",\"type\":\"GridBox\"},{\"attributes\":{\"line_alpha\":0.1,\"line_width\":4,\"x\":{\"field\":\"edges_x\"},\"y\":{\"field\":\"edges_y\"}},\"id\":\"1454\",\"type\":\"Line\"},{\"attributes\":{\"data\":{\"edges_x\":[0.0],\"edges_y\":[0.0]},\"selected\":{\"id\":\"1474\"},\"selection_policy\":{\"id\":\"1473\"}},\"id\":\"1451\",\"type\":\"ColumnDataSource\"},{\"attributes\":{\"fill_alpha\":{\"value\":0.1},\"fill_color\":{\"value\":\"steelblue\"},\"line_alpha\":{\"value\":0.1},\"line_color\":{\"value\":\"steelblue\"},\"size\":{\"units\":\"screen\",\"value\":8},\"x\":{\"field\":\"x\"},\"y\":{\"field\":\"y\"}},\"id\":\"1459\",\"type\":\"Circle\"},{\"attributes\":{\"data\":{\"x\":[0.0,0.0,0.0,0.0,0.0,1.0,1.0,1.0,1.0,1.0,2.0,2.0,2.0,2.0,2.0,3.0,3.0,3.0,3.0,3.0,4.0,4.0,4.0,4.0,4.0],\"y\":[0.0,1.0,2.0,3.0,4.0,0.0,1.0,2.0,3.0,4.0,0.0,1.0,2.0,3.0,4.0,0.0,1.0,2.0,3.0,4.0,0.0,1.0,2.0,3.0,4.0]},\"selected\":{\"id\":\"1476\"},\"selection_policy\":{\"id\":\"1475\"}},\"id\":\"1457\",\"type\":\"ColumnDataSource\"},{\"attributes\":{\"fill_color\":{\"value\":\"steelblue\"},\"line_color\":{\"value\":\"steelblue\"},\"size\":{\"units\":\"screen\",\"value\":8},\"x\":{\"field\":\"x\"},\"y\":{\"field\":\"y\"}},\"id\":\"1458\",\"type\":\"Circle\"},{\"attributes\":{\"axis\":{\"id\":\"1428\"},\"dimension\":1,\"grid_line_color\":null,\"ticker\":null},\"id\":\"1431\",\"type\":\"Grid\"},{\"attributes\":{\"end\":4.2,\"start\":-0.2},\"id\":\"1416\",\"type\":\"Range1d\"},{\"attributes\":{},\"id\":\"1422\",\"type\":\"LinearScale\"},{\"attributes\":{},\"id\":\"1435\",\"type\":\"SaveTool\"},{\"attributes\":{},\"id\":\"1437\",\"type\":\"HelpTool\"},{\"attributes\":{},\"id\":\"1429\",\"type\":\"BasicTicker\"},{\"attributes\":{\"align\":\"center\",\"text\":\"0\",\"width\":350},\"id\":\"1447\",\"type\":\"Div\"},{\"attributes\":{},\"id\":\"1475\",\"type\":\"UnionRenderers\"},{\"attributes\":{},\"id\":\"1432\",\"type\":\"PanTool\"},{\"attributes\":{\"line_width\":4,\"x\":{\"field\":\"edges_x\"},\"y\":{\"field\":\"edges_y\"}},\"id\":\"1453\",\"type\":\"Line\"},{\"attributes\":{\"source\":{\"id\":\"1451\"}},\"id\":\"1456\",\"type\":\"CDSView\"},{\"attributes\":{},\"id\":\"1471\",\"type\":\"BasicTickFormatter\"},{\"attributes\":{\"align\":\"center\",\"width\":300},\"id\":\"1448\",\"type\":\"Div\"},{\"attributes\":{},\"id\":\"1436\",\"type\":\"ResetTool\"},{\"attributes\":{\"formatter\":{\"id\":\"1471\"},\"ticker\":{\"id\":\"1425\"},\"visible\":false},\"id\":\"1424\",\"type\":\"LinearAxis\"},{\"attributes\":{\"overlay\":{\"id\":\"1438\"}},\"id\":\"1434\",\"type\":\"BoxZoomTool\"},{\"attributes\":{\"axis\":{\"id\":\"1424\"},\"grid_line_color\":null,\"ticker\":null},\"id\":\"1427\",\"type\":\"Grid\"},{\"attributes\":{},\"id\":\"1433\",\"type\":\"WheelZoomTool\"},{\"attributes\":{\"formatter\":{\"id\":\"1469\"},\"ticker\":{\"id\":\"1429\"},\"visible\":false},\"id\":\"1428\",\"type\":\"LinearAxis\"},{\"attributes\":{\"source\":{\"id\":\"1457\"}},\"id\":\"1461\",\"type\":\"CDSView\"},{\"attributes\":{},\"id\":\"1425\",\"type\":\"BasicTicker\"},{\"attributes\":{\"data\":{\"costs\":[0,1.0,2.0,3.0,4.0,5.0,6.0,7.0,8.0,9.0,10.0,11.0,13.0,14.0,15.0,16.0,17.0,18.0,19.0,20.0,21.0,22.0,23.414213562373096,25.650281539872886,26.650281539872886,30.650281539872886],\"edges_x\":[[0.0],[0.0,1.0],[0.0,1.0,2.0],[0.0,1.0,2.0,2.0],[0.0,1.0,2.0,2.0,3.0],[0.0,1.0,2.0,2.0,3.0,4.0],[0.0,1.0,2.0,2.0,3.0,4.0,4.0],[0.0,1.0,2.0,2.0,3.0,4.0,4.0,3.0],[0.0,1.0,2.0,2.0,3.0,4.0,4.0,3.0,3.0],[0.0,1.0,2.0,2.0,3.0,4.0,4.0,3.0,3.0,3.0],[0.0,1.0,2.0,2.0,3.0,4.0,4.0,3.0,3.0,3.0,4.0],[0.0,1.0,2.0,2.0,3.0,4.0,4.0,3.0,3.0,3.0,4.0,4.0],[0.0,1.0,2.0,2.0,3.0,4.0,4.0,3.0,3.0,3.0,4.0,4.0,2.0],[0.0,1.0,2.0,2.0,3.0,4.0,4.0,3.0,3.0,3.0,4.0,4.0,2.0,2.0],[0.0,1.0,2.0,2.0,3.0,4.0,4.0,3.0,3.0,3.0,4.0,4.0,2.0,2.0,1.0],[0.0,1.0,2.0,2.0,3.0,4.0,4.0,3.0,3.0,3.0,4.0,4.0,2.0,2.0,1.0,0.0],[0.0,1.0,2.0,2.0,3.0,4.0,4.0,3.0,3.0,3.0,4.0,4.0,2.0,2.0,1.0,0.0,0.0],[0.0,1.0,2.0,2.0,3.0,4.0,4.0,3.0,3.0,3.0,4.0,4.0,2.0,2.0,1.0,0.0,0.0,1.0],[0.0,1.0,2.0,2.0,3.0,4.0,4.0,3.0,3.0,3.0,4.0,4.0,2.0,2.0,1.0,0.0,0.0,1.0,1.0],[0.0,1.0,2.0,2.0,3.0,4.0,4.0,3.0,3.0,3.0,4.0,4.0,2.0,2.0,1.0,0.0,0.0,1.0,1.0,0.0],[0.0,1.0,2.0,2.0,3.0,4.0,4.0,3.0,3.0,3.0,4.0,4.0,2.0,2.0,1.0,0.0,0.0,1.0,1.0,0.0,0.0],[0.0,1.0,2.0,2.0,3.0,4.0,4.0,3.0,3.0,3.0,4.0,4.0,2.0,2.0,1.0,0.0,0.0,1.0,1.0,0.0,0.0,1.0],[0.0,1.0,2.0,2.0,3.0,4.0,4.0,3.0,3.0,3.0,4.0,4.0,2.0,2.0,1.0,0.0,0.0,1.0,1.0,0.0,0.0,1.0,2.0],[0.0,1.0,2.0,2.0,3.0,4.0,4.0,3.0,3.0,3.0,4.0,4.0,2.0,2.0,1.0,0.0,0.0,1.0,1.0,0.0,0.0,1.0,2.0,3.0],[0.0,1.0,2.0,2.0,3.0,4.0,4.0,3.0,3.0,3.0,4.0,4.0,2.0,2.0,1.0,0.0,0.0,1.0,1.0,0.0,0.0,1.0,2.0,3.0,4.0],[0.0,1.0,2.0,2.0,3.0,4.0,4.0,3.0,3.0,3.0,4.0,4.0,2.0,2.0,1.0,0.0,0.0,1.0,1.0,0.0,0.0,1.0,2.0,3.0,4.0,0.0]],\"edges_y\":[[0.0],[0.0,0.0],[0.0,0.0,0.0],[0.0,0.0,0.0,1.0],[0.0,0.0,0.0,1.0,1.0],[0.0,0.0,0.0,1.0,1.0,1.0],[0.0,0.0,0.0,1.0,1.0,1.0,2.0],[0.0,0.0,0.0,1.0,1.0,1.0,2.0,2.0],[0.0,0.0,0.0,1.0,1.0,1.0,2.0,2.0,3.0],[0.0,0.0,0.0,1.0,1.0,1.0,2.0,2.0,3.0,4.0],[0.0,0.0,0.0,1.0,1.0,1.0,2.0,2.0,3.0,4.0,4.0],[0.0,0.0,0.0,1.0,1.0,1.0,2.0,2.0,3.0,4.0,4.0,3.0],[0.0,0.0,0.0,1.0,1.0,1.0,2.0,2.0,3.0,4.0,4.0,3.0,3.0],[0.0,0.0,0.0,1.0,1.0,1.0,2.0,2.0,3.0,4.0,4.0,3.0,3.0,4.0],[0.0,0.0,0.0,1.0,1.0,1.0,2.0,2.0,3.0,4.0,4.0,3.0,3.0,4.0,4.0],[0.0,0.0,0.0,1.0,1.0,1.0,2.0,2.0,3.0,4.0,4.0,3.0,3.0,4.0,4.0,4.0],[0.0,0.0,0.0,1.0,1.0,1.0,2.0,2.0,3.0,4.0,4.0,3.0,3.0,4.0,4.0,4.0,3.0],[0.0,0.0,0.0,1.0,1.0,1.0,2.0,2.0,3.0,4.0,4.0,3.0,3.0,4.0,4.0,4.0,3.0,3.0],[0.0,0.0,0.0,1.0,1.0,1.0,2.0,2.0,3.0,4.0,4.0,3.0,3.0,4.0,4.0,4.0,3.0,3.0,2.0],[0.0,0.0,0.0,1.0,1.0,1.0,2.0,2.0,3.0,4.0,4.0,3.0,3.0,4.0,4.0,4.0,3.0,3.0,2.0,2.0],[0.0,0.0,0.0,1.0,1.0,1.0,2.0,2.0,3.0,4.0,4.0,3.0,3.0,4.0,4.0,4.0,3.0,3.0,2.0,2.0,1.0],[0.0,0.0,0.0,1.0,1.0,1.0,2.0,2.0,3.0,4.0,4.0,3.0,3.0,4.0,4.0,4.0,3.0,3.0,2.0,2.0,1.0,1.0],[0.0,0.0,0.0,1.0,1.0,1.0,2.0,2.0,3.0,4.0,4.0,3.0,3.0,4.0,4.0,4.0,3.0,3.0,2.0,2.0,1.0,1.0,2.0],[0.0,0.0,0.0,1.0,1.0,1.0,2.0,2.0,3.0,4.0,4.0,3.0,3.0,4.0,4.0,4.0,3.0,3.0,2.0,2.0,1.0,1.0,2.0,0.0],[0.0,0.0,0.0,1.0,1.0,1.0,2.0,2.0,3.0,4.0,4.0,3.0,3.0,4.0,4.0,4.0,3.0,3.0,2.0,2.0,1.0,1.0,2.0,0.0,0.0],[0.0,0.0,0.0,1.0,1.0,1.0,2.0,2.0,3.0,4.0,4.0,3.0,3.0,4.0,4.0,4.0,3.0,3.0,2.0,2.0,1.0,1.0,2.0,0.0,0.0,0.0]]},\"selected\":{\"id\":\"1482\"},\"selection_policy\":{\"id\":\"1481\"}},\"id\":\"1450\",\"type\":\"ColumnDataSource\"},{\"attributes\":{\"data_source\":{\"id\":\"1457\"},\"glyph\":{\"id\":\"1458\"},\"hover_glyph\":null,\"muted_glyph\":null,\"nonselection_glyph\":{\"id\":\"1459\"},\"selection_glyph\":null,\"view\":{\"id\":\"1461\"}},\"id\":\"1460\",\"type\":\"GlyphRenderer\"},{\"attributes\":{\"align\":\"center\",\"text\":\"0\",\"width\":400},\"id\":\"1449\",\"type\":\"Div\"},{\"attributes\":{},\"id\":\"1482\",\"type\":\"Selection\"},{\"attributes\":{\"children\":[{\"id\":\"1464\"},{\"id\":\"1462\"}],\"max_width\":400,\"sizing_mode\":\"stretch_both\"},\"id\":\"1466\",\"type\":\"Row\"},{\"attributes\":{},\"id\":\"1481\",\"type\":\"UnionRenderers\"},{\"attributes\":{\"bottom_units\":\"screen\",\"fill_alpha\":0.5,\"fill_color\":\"lightgrey\",\"left_units\":\"screen\",\"level\":\"overlay\",\"line_alpha\":1.0,\"line_color\":\"black\",\"line_dash\":[4,4],\"line_width\":2,\"right_units\":\"screen\",\"top_units\":\"screen\"},\"id\":\"1438\",\"type\":\"BoxAnnotation\"},{\"attributes\":{\"text\":\"\"},\"id\":\"1414\",\"type\":\"Title\"},{\"attributes\":{},\"id\":\"1473\",\"type\":\"UnionRenderers\"},{\"attributes\":{},\"id\":\"1469\",\"type\":\"BasicTickFormatter\"},{\"attributes\":{\"button_type\":\"success\",\"icon\":null,\"js_event_callbacks\":{\"button_click\":[{\"id\":\"1465\"}]},\"label\":\"Previous\",\"sizing_mode\":\"scale_width\",\"width_policy\":\"fit\"},\"id\":\"1464\",\"type\":\"Button\"},{\"attributes\":{\"end\":4.2,\"start\":-0.2},\"id\":\"1418\",\"type\":\"Range1d\"},{\"attributes\":{},\"id\":\"1474\",\"type\":\"Selection\"},{\"attributes\":{},\"id\":\"1420\",\"type\":\"LinearScale\"},{\"attributes\":{\"args\":{\"cost\":{\"id\":\"1447\"},\"done\":{\"id\":\"1448\"},\"n\":{\"id\":\"1449\"},\"source\":{\"id\":\"1450\"},\"tour\":{\"id\":\"1451\"}},\"code\":\"\\n    if ((parseInt(n.text) + 1) < source.data['edges_y'].length) {\\n        n.text = (parseInt(n.text) + 1).toString()\\n    }\\n    var iteration = parseInt(n.text)\\n    \\n    if (iteration == source.data['edges_y'].length - 2) {\\n        iteration = iteration + 1\\n    }\\n    \\n    cost.text = source.data['costs'][iteration].toFixed(3)\\n    \\n    if (iteration == source.data['edges_y'].length - 1) {\\n        done.text = \\\"done.\\\"\\n    } else {\\n        done.text = \\\"\\\"\\n    }\\n\\n    tour.data['edges_x'] = source.data['edges_x'][iteration]\\n    tour.data['edges_y'] = source.data['edges_y'][iteration]\\n    tour.change.emit()\\n    \"},\"id\":\"1463\",\"type\":\"CustomJS\"},{\"attributes\":{\"children\":[{\"id\":\"1447\"},{\"id\":\"1448\"}]},\"id\":\"1467\",\"type\":\"Row\"},{\"attributes\":{\"active_drag\":\"auto\",\"active_inspect\":\"auto\",\"active_multi\":null,\"active_scroll\":\"auto\",\"active_tap\":\"auto\",\"logo\":null,\"tools\":[{\"id\":\"1432\"},{\"id\":\"1433\"},{\"id\":\"1434\"},{\"id\":\"1435\"},{\"id\":\"1436\"},{\"id\":\"1437\"}]},\"id\":\"1439\",\"type\":\"Toolbar\"},{\"attributes\":{\"data_source\":{\"id\":\"1451\"},\"glyph\":{\"id\":\"1453\"},\"hover_glyph\":null,\"muted_glyph\":null,\"nonselection_glyph\":{\"id\":\"1454\"},\"selection_glyph\":null,\"view\":{\"id\":\"1456\"}},\"id\":\"1455\",\"type\":\"GlyphRenderer\"},{\"attributes\":{},\"id\":\"1476\",\"type\":\"Selection\"},{\"attributes\":{\"args\":{\"cost\":{\"id\":\"1447\"},\"done\":{\"id\":\"1448\"},\"n\":{\"id\":\"1449\"},\"source\":{\"id\":\"1450\"},\"tour\":{\"id\":\"1451\"}},\"code\":\"\\n    if ((parseInt(n.text) - 1) >= 0) {\\n        n.text = (parseInt(n.text) - 1).toString()\\n    }\\n    var iteration = parseInt(n.text)\\n    \\n    if (iteration == source.data['edges_y'].length - 2) {\\n        iteration = iteration - 1\\n    }\\n    \\n    cost.text = source.data['costs'][iteration].toFixed(3)\\n    \\n    if (iteration == source.data['edges_y'].length - 1) {\\n        done.text = \\\"done.\\\"\\n    } else {\\n        done.text = \\\"\\\"\\n    }\\n\\n    tour.data['edges_x'] = source.data['edges_x'][iteration]\\n    tour.data['edges_y'] = source.data['edges_y'][iteration]\\n    tour.change.emit()\\n    \"},\"id\":\"1465\",\"type\":\"CustomJS\"},{\"attributes\":{\"button_type\":\"success\",\"icon\":null,\"js_event_callbacks\":{\"button_click\":[{\"id\":\"1463\"}]},\"label\":\"Next\",\"sizing_mode\":\"scale_width\",\"width_policy\":\"fit\"},\"id\":\"1462\",\"type\":\"Button\"},{\"attributes\":{\"background_fill_color\":null,\"below\":[{\"id\":\"1424\"}],\"border_fill_color\":null,\"center\":[{\"id\":\"1427\"},{\"id\":\"1431\"}],\"left\":[{\"id\":\"1428\"}],\"outline_line_color\":null,\"plot_height\":400,\"plot_width\":400,\"renderers\":[{\"id\":\"1455\"},{\"id\":\"1460\"}],\"title\":{\"id\":\"1414\"},\"toolbar\":{\"id\":\"1439\"},\"toolbar_location\":null,\"x_range\":{\"id\":\"1416\"},\"x_scale\":{\"id\":\"1420\"},\"y_range\":{\"id\":\"1418\"},\"y_scale\":{\"id\":\"1422\"}},\"id\":\"1413\",\"subtype\":\"Figure\",\"type\":\"Plot\"}],\"root_ids\":[\"1483\"]},\"title\":\"Bokeh Application\",\"version\":\"2.1.0\"}};\n",
       "  var render_items = [{\"docid\":\"c1353c87-f807-4730-bc71-9e8db6d21c77\",\"root_ids\":[\"1483\"],\"roots\":{\"1483\":\"da863cdc-8421-448a-a23a-761305e96d61\"}}];\n",
       "  root.Bokeh.embed.embed_items_notebook(docs_json, render_items);\n",
       "\n",
       "  }\n",
       "  if (root.Bokeh !== undefined) {\n",
       "    embed_document(root);\n",
       "  } else {\n",
       "    var attempts = 0;\n",
       "    var timer = setInterval(function(root) {\n",
       "      if (root.Bokeh !== undefined) {\n",
       "        clearInterval(timer);\n",
       "        embed_document(root);\n",
       "      } else {\n",
       "        attempts++;\n",
       "        if (attempts > 100) {\n",
       "          clearInterval(timer);\n",
       "          console.log(\"Bokeh: ERROR: Unable to run BokehJS code because BokehJS library is missing\");\n",
       "        }\n",
       "      }\n",
       "    }, 10, root)\n",
       "  }\n",
       "})(window);"
      ],
      "application/vnd.bokehjs_exec.v0+json": ""
     },
     "metadata": {
      "application/vnd.bokehjs_exec.v0+json": {
       "id": "1483"
      }
     },
     "output_type": "display_data"
    }
   ],
   "source": [
    "# explore heuristic\n",
    "nodes, G = tsp_grid_instance(5,5,manhattan=False)\n",
    "tour = plot_tsp_heuristic(nodes, G, heuristic='nearest_neighbor', initial=0)"
   ]
  },
  {
   "cell_type": "code",
   "execution_count": 4,
   "metadata": {},
   "outputs": [
    {
     "name": "stdout",
     "output_type": "stream",
     "text": [
      "Heuristic Averages:\n",
      "Random Neighbor: 216.8\n",
      "Nearest Neighbor: 63.0\n",
      "Nearest Insertion: 58.8\n",
      "Furthest Insertion: 58.6\n"
     ]
    }
   ],
   "source": [
    "# compare\n",
    "n = 10\n",
    "random_neighbor_total = 0\n",
    "nearest_neighbor_total = 0\n",
    "nearest_insertion_total = 0\n",
    "furthest_insertion_total = 0\n",
    "for i in range(n):\n",
    "    nodes, G = tsp_grid_instance(6,8,True)\n",
    "    random_neighbor_total += tour_cost(G, random_neighbor(G))\n",
    "    nearest_neighbor_total += tour_cost(G, nearest_neighbor(G))\n",
    "    nearest_insertion_total += tour_cost(G, nearest_insertion(G))\n",
    "    furthest_insertion_total += tour_cost(G, furthest_insertion(G))\n",
    "print(\"Heuristic Averages:\")\n",
    "print(\"Random Neighbor: %s\" % (random_neighbor_total / n))\n",
    "print(\"Nearest Neighbor: %s\" % (nearest_neighbor_total / n))\n",
    "print(\"Nearest Insertion: %s\" % (nearest_insertion_total / n))\n",
    "print(\"Furthest Insertion: %s\" % (furthest_insertion_total / n))"
   ]
  },
  {
   "cell_type": "code",
   "execution_count": 5,
   "metadata": {},
   "outputs": [
    {
     "data": {
      "text/html": [
       "\n",
       "\n",
       "\n",
       "\n",
       "\n",
       "\n",
       "  <div class=\"bk-root\" id=\"b127bfdb-d5da-435a-bbab-ff75469d5986\" data-root-id=\"1652\"></div>\n"
      ]
     },
     "metadata": {},
     "output_type": "display_data"
    },
    {
     "data": {
      "application/javascript": [
       "(function(root) {\n",
       "  function embed_document(root) {\n",
       "    \n",
       "  var docs_json = {\"e6e7bb88-23fd-439a-893f-56e0d3221651\":{\"roots\":{\"references\":[{\"attributes\":{\"children\":[[{\"id\":\"1596\"},0,0],[{\"id\":\"1630\"},1,0]]},\"id\":\"1652\",\"type\":\"GridBox\"},{\"attributes\":{\"line_alpha\":0.1,\"line_width\":4,\"x\":{\"field\":\"x\"},\"y\":{\"field\":\"y\"}},\"id\":\"1633\",\"type\":\"Line\"},{\"attributes\":{\"background_fill_color\":null,\"below\":[{\"id\":\"1607\"}],\"border_fill_color\":null,\"center\":[{\"id\":\"1610\"},{\"id\":\"1614\"}],\"left\":[{\"id\":\"1611\"}],\"outline_line_color\":null,\"plot_height\":400,\"plot_width\":400,\"renderers\":[{\"id\":\"1634\"},{\"id\":\"1639\"}],\"title\":{\"id\":\"1597\"},\"toolbar\":{\"id\":\"1622\"},\"toolbar_location\":null,\"x_range\":{\"id\":\"1599\"},\"x_scale\":{\"id\":\"1603\"},\"y_range\":{\"id\":\"1601\"},\"y_scale\":{\"id\":\"1605\"}},\"id\":\"1596\",\"subtype\":\"Figure\",\"type\":\"Plot\"},{\"attributes\":{},\"id\":\"1615\",\"type\":\"PanTool\"},{\"attributes\":{\"data\":{\"x\":[0.0,5.0,2.0,2.0,0.0,5.0,5.0,5.0,2.0,0.0,0.0,5.0,12.0,15.0,25.0,34.0,41.0,48.0,57.0,63.0,61.0,61.0,57.0,57.0,61.0,74.0,74.0,80.0,80.0,74.0,71.0,71.0,64.0,74.0,74.0,74.0,80.0,80.0,84.0,84.0,84.0,97.0,97.0,97.0,94.0,103.0,103.0,110.0,117.0,117.0,120.0,120.0,117.0,120.0,126.0,130.0,132.0,130.0,130.0,126.0,126.0,130.0,130.0,130.0,130.0,130.0,130.0,130.0,127.0,127.0,126.0,120.0,120.0,120.0,120.0,120.0,123.0,120.0,120.0,124.0,125.0,124.0,125.0,124.0,120.0,120.0,103.0,109.0,109.0,109.0,107.0,107.0,107.0,103.0,103.0,103.0,107.0,107.0,109.0,104.0,103.0,102.0,97.0,97.0,94.0,94.0,86.0,87.0,87.0,84.0,87.0,87.0,87.0,84.0,87.0,87.0,94.0,94.0,97.0,97.0,97.0,94.0,94.0,94.0,87.0,87.0,87.0,87.0,87.0,84.0,84.0,87.0,87.0,87.0,87.0,87.0,87.0,87.0,84.0,84.0,74.0,74.0,74.0,74.0,78.0,79.0,80.0,81.0,73.0,72.0,71.0,61.0,58.0,61.0,61.0,61.0,57.0,56.0,55.0,51.0,51.0,55.0,56.0,55.0,51.0,51.0,51.0,57.0,57.0,56.0,57.0,55.0,54.0,51.0,48.0,34.0,32.0,33.0,34.0,34.0,33.0,32.0,28.0,28.0,25.0,25.0,25.0,25.0,28.0,28.0,35.0,34.0,38.0,48.0,48.0,51.0,51.0,51.0,48.0,40.0,38.0,38.0,38.0,34.0,34.0,28.0,28.0,28.0,25.0,11.0,10.0,11.0,11.0,18.0,25.0,25.0,28.0,28.0,25.0,25.0,25.0,17.0,15.0,11.0,15.0,18.0,18.0,18.0,18.0,15.0,12.0,12.0,11.0,10.0,9.0,5.0,5.0,0.0],\"y\":[15.0,18.0,21.0,28.0,33.0,33.0,36.0,40.0,44.0,51.0,60.0,64.0,61.0,64.0,61.0,51.0,61.0,61.0,51.0,45.0,42.0,40.0,39.0,36.0,37.0,37.0,43.0,47.0,50.0,49.0,54.0,56.0,61.0,64.0,62.0,59.0,61.0,58.0,59.0,62.0,64.0,64.0,60.0,57.0,52.0,58.0,55.0,52.0,50.0,52.0,55.0,58.0,63.0,60.0,57.0,60.0,63.0,58.0,55.0,54.0,46.0,43.0,39.0,34.0,29.0,25.0,19.0,15.0,16.0,12.0,5.0,7.0,11.0,15.0,19.0,25.0,26.0,29.0,34.0,37.0,38.0,40.0,42.0,44.0,44.0,40.0,42.0,36.0,35.0,34.0,30.0,28.0,25.0,27.0,24.0,16.0,15.0,11.0,6.0,12.0,10.0,10.0,15.0,11.0,10.0,6.0,6.0,11.0,13.0,13.0,15.0,17.0,19.0,19.0,21.0,23.0,20.0,22.0,25.0,28.0,30.0,34.0,35.0,36.0,39.0,41.0,42.0,44.0,45.0,43.0,37.0,37.0,35.0,33.0,31.0,29.0,27.0,25.0,25.0,31.0,31.0,25.0,19.0,13.0,10.0,10.0,10.0,10.0,0.0,0.0,6.0,11.0,15.0,18.0,21.0,25.0,28.0,24.0,26.0,26.0,22.0,22.0,20.0,19.0,18.0,14.0,11.0,12.0,10.0,10.0,5.0,0.0,0.0,7.0,10.0,5.0,10.0,10.0,10.0,13.0,13.0,13.0,12.0,7.0,10.0,12.0,14.0,16.0,15.0,19.0,24.0,28.0,27.0,32.0,34.0,37.0,40.0,42.0,45.0,45.0,42.0,40.0,37.0,36.0,39.0,37.0,40.0,42.0,45.0,42.0,42.0,34.0,31.0,28.0,34.0,32.0,27.0,23.0,23.0,20.0,18.0,21.0,18.0,17.0,13.0,15.0,14.0,13.0,11.0,8.0,5.0,10.0,10.0,10.0,10.0,8.0,13.0,15.0]},\"selected\":{\"id\":\"1647\"},\"selection_policy\":{\"id\":\"1646\"}},\"id\":\"1631\",\"type\":\"ColumnDataSource\"},{\"attributes\":{\"data_source\":{\"id\":\"1631\"},\"glyph\":{\"id\":\"1632\"},\"hover_glyph\":null,\"muted_glyph\":null,\"nonselection_glyph\":{\"id\":\"1633\"},\"selection_glyph\":null,\"view\":{\"id\":\"1635\"}},\"id\":\"1634\",\"type\":\"GlyphRenderer\"},{\"attributes\":{\"formatter\":{\"id\":\"1642\"},\"ticker\":{\"id\":\"1612\"},\"visible\":false},\"id\":\"1611\",\"type\":\"LinearAxis\"},{\"attributes\":{},\"id\":\"1649\",\"type\":\"Selection\"},{\"attributes\":{\"source\":{\"id\":\"1636\"}},\"id\":\"1640\",\"type\":\"CDSView\"},{\"attributes\":{\"axis\":{\"id\":\"1611\"},\"dimension\":1,\"grid_line_color\":null,\"ticker\":null},\"id\":\"1614\",\"type\":\"Grid\"},{\"attributes\":{\"line_width\":4,\"x\":{\"field\":\"x\"},\"y\":{\"field\":\"y\"}},\"id\":\"1632\",\"type\":\"Line\"},{\"attributes\":{\"data\":{\"x\":[0.0,0.0,0.0,0.0,2.0,2.0,2.0,5.0,5.0,5.0,5.0,5.0,5.0,5.0,9.0,10.0,10.0,11.0,11.0,11.0,11.0,11.0,12.0,12.0,12.0,15.0,15.0,15.0,15.0,17.0,18.0,18.0,18.0,18.0,18.0,25.0,25.0,25.0,25.0,25.0,25.0,25.0,25.0,25.0,25.0,25.0,28.0,28.0,28.0,28.0,28.0,28.0,28.0,28.0,28.0,32.0,32.0,33.0,33.0,34.0,34.0,34.0,34.0,34.0,34.0,34.0,35.0,38.0,38.0,38.0,38.0,40.0,41.0,48.0,48.0,48.0,48.0,48.0,51.0,51.0,51.0,51.0,51.0,51.0,51.0,51.0,51.0,54.0,55.0,55.0,55.0,55.0,56.0,56.0,56.0,57.0,57.0,57.0,57.0,57.0,57.0,57.0,58.0,61.0,61.0,61.0,61.0,61.0,61.0,61.0,63.0,64.0,71.0,71.0,71.0,72.0,73.0,74.0,74.0,74.0,74.0,74.0,74.0,74.0,74.0,74.0,74.0,78.0,79.0,80.0,80.0,80.0,80.0,80.0,81.0,84.0,84.0,84.0,84.0,84.0,84.0,84.0,84.0,84.0,86.0,87.0,87.0,87.0,87.0,87.0,87.0,87.0,87.0,87.0,87.0,87.0,87.0,87.0,87.0,87.0,87.0,87.0,87.0,87.0,94.0,94.0,94.0,94.0,94.0,94.0,94.0,94.0,97.0,97.0,97.0,97.0,97.0,97.0,97.0,97.0,102.0,103.0,103.0,103.0,103.0,103.0,103.0,103.0,104.0,107.0,107.0,107.0,107.0,107.0,109.0,109.0,109.0,109.0,110.0,117.0,117.0,117.0,120.0,120.0,120.0,120.0,120.0,120.0,120.0,120.0,120.0,120.0,120.0,120.0,123.0,124.0,124.0,124.0,125.0,125.0,126.0,126.0,126.0,126.0,127.0,127.0,130.0,130.0,130.0,130.0,130.0,130.0,130.0,130.0,130.0,130.0,132.0],\"y\":[15.0,33.0,51.0,60.0,21.0,28.0,44.0,13.0,18.0,33.0,36.0,40.0,64.0,8.0,10.0,10.0,42.0,10.0,17.0,31.0,34.0,42.0,10.0,5.0,61.0,13.0,18.0,64.0,8.0,21.0,11.0,13.0,14.0,15.0,28.0,10.0,12.0,14.0,16.0,18.0,20.0,23.0,32.0,34.0,45.0,61.0,12.0,15.0,19.0,23.0,27.0,37.0,40.0,42.0,7.0,10.0,13.0,10.0,13.0,10.0,13.0,28.0,36.0,39.0,5.0,51.0,24.0,27.0,37.0,40.0,42.0,45.0,61.0,10.0,32.0,34.0,45.0,61.0,11.0,14.0,18.0,22.0,26.0,37.0,40.0,42.0,7.0,0.0,0.0,19.0,22.0,26.0,10.0,20.0,24.0,10.0,12.0,28.0,36.0,39.0,5.0,51.0,15.0,11.0,18.0,21.0,25.0,37.0,40.0,42.0,45.0,61.0,54.0,56.0,6.0,0.0,0.0,13.0,19.0,25.0,31.0,37.0,43.0,49.0,59.0,62.0,64.0,10.0,10.0,10.0,47.0,50.0,58.0,61.0,10.0,13.0,19.0,25.0,31.0,37.0,43.0,59.0,62.0,64.0,6.0,11.0,13.0,15.0,17.0,19.0,21.0,23.0,25.0,27.0,29.0,31.0,33.0,35.0,37.0,39.0,41.0,42.0,44.0,45.0,10.0,20.0,22.0,34.0,35.0,36.0,52.0,6.0,11.0,15.0,25.0,28.0,30.0,57.0,60.0,64.0,10.0,10.0,16.0,24.0,27.0,42.0,55.0,58.0,12.0,11.0,15.0,25.0,28.0,30.0,34.0,35.0,36.0,6.0,52.0,50.0,52.0,63.0,11.0,15.0,19.0,25.0,29.0,34.0,40.0,44.0,55.0,58.0,60.0,7.0,26.0,37.0,40.0,44.0,38.0,42.0,46.0,5.0,54.0,57.0,12.0,16.0,15.0,19.0,25.0,29.0,34.0,39.0,43.0,55.0,58.0,60.0,63.0]},\"selected\":{\"id\":\"1649\"},\"selection_policy\":{\"id\":\"1648\"}},\"id\":\"1636\",\"type\":\"ColumnDataSource\"},{\"attributes\":{\"data_source\":{\"id\":\"1636\"},\"glyph\":{\"id\":\"1637\"},\"hover_glyph\":null,\"muted_glyph\":null,\"nonselection_glyph\":{\"id\":\"1638\"},\"selection_glyph\":null,\"view\":{\"id\":\"1640\"}},\"id\":\"1639\",\"type\":\"GlyphRenderer\"},{\"attributes\":{\"fill_alpha\":{\"value\":0.1},\"fill_color\":{\"value\":\"steelblue\"},\"line_alpha\":{\"value\":0.1},\"line_color\":{\"value\":\"steelblue\"},\"size\":{\"units\":\"screen\",\"value\":8},\"x\":{\"field\":\"x\"},\"y\":{\"field\":\"y\"}},\"id\":\"1638\",\"type\":\"Circle\"},{\"attributes\":{},\"id\":\"1605\",\"type\":\"LinearScale\"},{\"attributes\":{\"align\":\"center\",\"text\":\"1073.381\",\"width\":400},\"id\":\"1630\",\"type\":\"Div\"},{\"attributes\":{\"text\":\"\"},\"id\":\"1597\",\"type\":\"Title\"},{\"attributes\":{\"end\":138.6,\"start\":-6.6000000000000005},\"id\":\"1599\",\"type\":\"Range1d\"},{\"attributes\":{},\"id\":\"1618\",\"type\":\"SaveTool\"},{\"attributes\":{},\"id\":\"1616\",\"type\":\"WheelZoomTool\"},{\"attributes\":{\"fill_color\":{\"value\":\"steelblue\"},\"line_color\":{\"value\":\"steelblue\"},\"size\":{\"units\":\"screen\",\"value\":8},\"x\":{\"field\":\"x\"},\"y\":{\"field\":\"y\"}},\"id\":\"1637\",\"type\":\"Circle\"},{\"attributes\":{\"overlay\":{\"id\":\"1621\"}},\"id\":\"1617\",\"type\":\"BoxZoomTool\"},{\"attributes\":{},\"id\":\"1619\",\"type\":\"ResetTool\"},{\"attributes\":{},\"id\":\"1620\",\"type\":\"HelpTool\"},{\"attributes\":{},\"id\":\"1603\",\"type\":\"LinearScale\"},{\"attributes\":{\"end\":67.2,\"start\":-3.2},\"id\":\"1601\",\"type\":\"Range1d\"},{\"attributes\":{},\"id\":\"1644\",\"type\":\"BasicTickFormatter\"},{\"attributes\":{},\"id\":\"1646\",\"type\":\"UnionRenderers\"},{\"attributes\":{},\"id\":\"1612\",\"type\":\"BasicTicker\"},{\"attributes\":{\"axis\":{\"id\":\"1607\"},\"grid_line_color\":null,\"ticker\":null},\"id\":\"1610\",\"type\":\"Grid\"},{\"attributes\":{},\"id\":\"1608\",\"type\":\"BasicTicker\"},{\"attributes\":{},\"id\":\"1647\",\"type\":\"Selection\"},{\"attributes\":{\"active_drag\":\"auto\",\"active_inspect\":\"auto\",\"active_multi\":null,\"active_scroll\":\"auto\",\"active_tap\":\"auto\",\"logo\":null,\"tools\":[{\"id\":\"1615\"},{\"id\":\"1616\"},{\"id\":\"1617\"},{\"id\":\"1618\"},{\"id\":\"1619\"},{\"id\":\"1620\"}]},\"id\":\"1622\",\"type\":\"Toolbar\"},{\"attributes\":{},\"id\":\"1648\",\"type\":\"UnionRenderers\"},{\"attributes\":{\"formatter\":{\"id\":\"1644\"},\"ticker\":{\"id\":\"1608\"},\"visible\":false},\"id\":\"1607\",\"type\":\"LinearAxis\"},{\"attributes\":{\"bottom_units\":\"screen\",\"fill_alpha\":0.5,\"fill_color\":\"lightgrey\",\"left_units\":\"screen\",\"level\":\"overlay\",\"line_alpha\":1.0,\"line_color\":\"black\",\"line_dash\":[4,4],\"line_width\":2,\"right_units\":\"screen\",\"top_units\":\"screen\"},\"id\":\"1621\",\"type\":\"BoxAnnotation\"},{\"attributes\":{},\"id\":\"1642\",\"type\":\"BasicTickFormatter\"},{\"attributes\":{\"source\":{\"id\":\"1631\"}},\"id\":\"1635\",\"type\":\"CDSView\"}],\"root_ids\":[\"1652\"]},\"title\":\"Bokeh Application\",\"version\":\"2.1.0\"}};\n",
       "  var render_items = [{\"docid\":\"e6e7bb88-23fd-439a-893f-56e0d3221651\",\"root_ids\":[\"1652\"],\"roots\":{\"1652\":\"b127bfdb-d5da-435a-bbab-ff75469d5986\"}}];\n",
       "  root.Bokeh.embed.embed_items_notebook(docs_json, render_items);\n",
       "\n",
       "  }\n",
       "  if (root.Bokeh !== undefined) {\n",
       "    embed_document(root);\n",
       "  } else {\n",
       "    var attempts = 0;\n",
       "    var timer = setInterval(function(root) {\n",
       "      if (root.Bokeh !== undefined) {\n",
       "        clearInterval(timer);\n",
       "        embed_document(root);\n",
       "      } else {\n",
       "        attempts++;\n",
       "        if (attempts > 100) {\n",
       "          clearInterval(timer);\n",
       "          console.log(\"Bokeh: ERROR: Unable to run BokehJS code because BokehJS library is missing\");\n",
       "        }\n",
       "      }\n",
       "    }, 10, root)\n",
       "  }\n",
       "})(window);"
      ],
      "application/vnd.bokehjs_exec.v0+json": ""
     },
     "metadata": {
      "application/vnd.bokehjs_exec.v0+json": {
       "id": "1652"
      }
     },
     "output_type": "display_data"
    }
   ],
   "source": [
    "# VLSI drilling\n",
    "nodes = pd.read_csv('data/xqg237.csv', index_col=0)\n",
    "G = create_G(nodes, manhattan=False)\n",
    "plot_tour(nodes, G, solve_tsp(G))"
   ]
  },
  {
   "cell_type": "code",
   "execution_count": 6,
   "metadata": {
    "scrolled": false
   },
   "outputs": [
    {
     "data": {
      "text/html": [
       "\n",
       "\n",
       "\n",
       "\n",
       "\n",
       "\n",
       "  <div class=\"bk-root\" id=\"3e4c8008-c875-4068-aa9a-323cfb05b978\" data-root-id=\"1836\"></div>\n"
      ]
     },
     "metadata": {},
     "output_type": "display_data"
    },
    {
     "data": {
      "application/javascript": [
       "(function(root) {\n",
       "  function embed_document(root) {\n",
       "    \n",
       "  var docs_json = {\"1cd4f3df-012d-4280-8deb-64e8c900c24f\":{\"roots\":{\"references\":[{\"attributes\":{\"children\":[[{\"id\":\"1765\"},0,0],[{\"id\":\"1799\"},1,0]]},\"id\":\"1836\",\"type\":\"GridBox\"},{\"attributes\":{\"overlay\":{\"id\":\"1790\"}},\"id\":\"1786\",\"type\":\"BoxZoomTool\"},{\"attributes\":{},\"id\":\"1831\",\"type\":\"Selection\"},{\"attributes\":{\"background_fill_color\":null,\"below\":[{\"id\":\"1776\"}],\"border_fill_color\":null,\"center\":[{\"id\":\"1779\"},{\"id\":\"1783\"}],\"left\":[{\"id\":\"1780\"}],\"outline_line_color\":null,\"plot_height\":400,\"plot_width\":800,\"renderers\":[{\"id\":\"1803\"},{\"id\":\"1808\"},{\"id\":\"1813\"},{\"id\":\"1818\"}],\"title\":{\"id\":\"1766\"},\"toolbar\":{\"id\":\"1791\"},\"toolbar_location\":null,\"x_range\":{\"id\":\"1768\"},\"x_scale\":{\"id\":\"1772\"},\"y_range\":{\"id\":\"1770\"},\"y_scale\":{\"id\":\"1774\"}},\"id\":\"1765\",\"subtype\":\"Figure\",\"type\":\"Plot\"},{\"attributes\":{},\"id\":\"1787\",\"type\":\"SaveTool\"},{\"attributes\":{},\"id\":\"1832\",\"type\":\"UnionRenderers\"},{\"attributes\":{\"source\":{\"id\":\"1810\"}},\"id\":\"1814\",\"type\":\"CDSView\"},{\"attributes\":{},\"id\":\"1788\",\"type\":\"ResetTool\"},{\"attributes\":{},\"id\":\"1833\",\"type\":\"Selection\"},{\"attributes\":{\"axis\":{\"id\":\"1776\"},\"grid_line_color\":null,\"ticker\":null},\"id\":\"1779\",\"type\":\"Grid\"},{\"attributes\":{},\"id\":\"1789\",\"type\":\"HelpTool\"},{\"attributes\":{},\"id\":\"1774\",\"type\":\"LinearScale\"},{\"attributes\":{\"data\":{\"x\":[3,1,6,3,5,6,12,4,12,6,12,6,11,12,13,14,15,19,18,18,14,18,14,18,21,17,23,18,23,23,23,19,19,24,24,24,25,23,23,25,18,25,17,25,30,32,26,26,32,26,26,30,25,27,27,34,27,29,28,28,33,35,32,36,36,33,36,37,42,40,37,34,39,33,36,38,38,43,39,41,45,47,47,42,47,46,51,53,51,51,58,59,62,60,60,62,68,62,67,70,72,70,71,78,74,82,80,81,79,73,74,73,76,81,78,79,78,82,85,80,85,83,81,84,87,90,89,87,91,87,110,3,0],\"y\":[13,29,30,39,1,16,22,28,34,40,46,11,7,10,15,16,16,8,13,24,28,31,40,50,11,20,16,18,20,22,24,26,28,30,32,34,36,38,40,42,44,45,47,48,14,18,25,26,27,29,31,32,12,19,23,31,33,37,43,46,50,27,34,16,31,32,37,13,29,32,38,41,44,8,20,36,19,23,33,41,25,26,35,37,38,39,27,30,13,48,50,24,15,30,43,48,50,9,28,14,16,19,48,50,15,19,23,27,32,38,42,9,24,9,35,38,42,17,36,40,13,40,8,22,25,27,32,40,41,13,32,3,0]},\"selected\":{\"id\":\"1833\"},\"selection_policy\":{\"id\":\"1832\"}},\"id\":\"1815\",\"type\":\"ColumnDataSource\"},{\"attributes\":{\"data_source\":{\"id\":\"1810\"},\"glyph\":{\"id\":\"1811\"},\"hover_glyph\":null,\"muted_glyph\":null,\"nonselection_glyph\":{\"id\":\"1812\"},\"selection_glyph\":null,\"view\":{\"id\":\"1814\"}},\"id\":\"1813\",\"type\":\"GlyphRenderer\"},{\"attributes\":{\"formatter\":{\"id\":\"1822\"},\"ticker\":{\"id\":\"1781\"},\"visible\":false},\"id\":\"1780\",\"type\":\"LinearAxis\"},{\"attributes\":{\"end\":52.5,\"start\":-2.5},\"id\":\"1770\",\"type\":\"Range1d\"},{\"attributes\":{\"fill_alpha\":{\"value\":0.1},\"fill_color\":{\"value\":\"#DC0000\"},\"line_alpha\":{\"value\":0.1},\"line_color\":{\"value\":\"#DC0000\"},\"size\":{\"units\":\"screen\",\"value\":5},\"x\":{\"field\":\"x\"},\"y\":{\"field\":\"y\"}},\"id\":\"1817\",\"type\":\"Circle\"},{\"attributes\":{\"active_drag\":\"auto\",\"active_inspect\":\"auto\",\"active_multi\":null,\"active_scroll\":\"auto\",\"active_tap\":\"auto\",\"logo\":null,\"tools\":[{\"id\":\"1784\"},{\"id\":\"1785\"},{\"id\":\"1786\"},{\"id\":\"1787\"},{\"id\":\"1788\"},{\"id\":\"1789\"}]},\"id\":\"1791\",\"type\":\"Toolbar\"},{\"attributes\":{\"end\":115.5,\"start\":-5.5},\"id\":\"1768\",\"type\":\"Range1d\"},{\"attributes\":{\"fill_color\":{\"value\":\"steelblue\"},\"line_color\":{\"value\":\"steelblue\"},\"size\":{\"units\":\"screen\",\"value\":5},\"x\":{\"field\":\"x\"},\"y\":{\"field\":\"y\"}},\"id\":\"1811\",\"type\":\"Circle\"},{\"attributes\":{},\"id\":\"1772\",\"type\":\"LinearScale\"},{\"attributes\":{\"source\":{\"id\":\"1815\"}},\"id\":\"1819\",\"type\":\"CDSView\"},{\"attributes\":{\"data_source\":{\"id\":\"1815\"},\"glyph\":{\"id\":\"1816\"},\"hover_glyph\":null,\"muted_glyph\":null,\"nonselection_glyph\":{\"id\":\"1817\"},\"selection_glyph\":null,\"view\":{\"id\":\"1819\"}},\"id\":\"1818\",\"type\":\"GlyphRenderer\"},{\"attributes\":{\"bottom_units\":\"screen\",\"fill_alpha\":0.5,\"fill_color\":\"lightgrey\",\"left_units\":\"screen\",\"level\":\"overlay\",\"line_alpha\":1.0,\"line_color\":\"black\",\"line_dash\":[4,4],\"line_width\":2,\"right_units\":\"screen\",\"top_units\":\"screen\"},\"id\":\"1790\",\"type\":\"BoxAnnotation\"},{\"attributes\":{\"line_width\":{\"value\":2},\"xs\":{\"field\":\"xs\"},\"ys\":{\"field\":\"ys\"}},\"id\":\"1801\",\"type\":\"MultiLine\"},{\"attributes\":{\"line_alpha\":{\"value\":0.1},\"line_width\":{\"value\":2},\"xs\":{\"field\":\"xs\"},\"ys\":{\"field\":\"ys\"}},\"id\":\"1802\",\"type\":\"MultiLine\"},{\"attributes\":{\"fill_color\":{\"value\":\"#DC0000\"},\"line_color\":{\"value\":\"#DC0000\"},\"size\":{\"units\":\"screen\",\"value\":5},\"x\":{\"field\":\"x\"},\"y\":{\"field\":\"y\"}},\"id\":\"1816\",\"type\":\"Circle\"},{\"attributes\":{},\"id\":\"1830\",\"type\":\"UnionRenderers\"},{\"attributes\":{\"formatter\":{\"id\":\"1824\"},\"ticker\":{\"id\":\"1777\"},\"visible\":false},\"id\":\"1776\",\"type\":\"LinearAxis\"},{\"attributes\":{\"source\":{\"id\":\"1800\"}},\"id\":\"1804\",\"type\":\"CDSView\"},{\"attributes\":{},\"id\":\"1822\",\"type\":\"BasicTickFormatter\"},{\"attributes\":{},\"id\":\"1777\",\"type\":\"BasicTicker\"},{\"attributes\":{},\"id\":\"1785\",\"type\":\"WheelZoomTool\"},{\"attributes\":{\"data_source\":{\"id\":\"1800\"},\"glyph\":{\"id\":\"1801\"},\"hover_glyph\":null,\"muted_glyph\":null,\"nonselection_glyph\":{\"id\":\"1802\"},\"selection_glyph\":null,\"view\":{\"id\":\"1804\"}},\"id\":\"1803\",\"type\":\"GlyphRenderer\"},{\"attributes\":{\"align\":\"center\",\"text\":\"664.924\",\"width\":800},\"id\":\"1799\",\"type\":\"Div\"},{\"attributes\":{},\"id\":\"1824\",\"type\":\"BasicTickFormatter\"},{\"attributes\":{\"data\":{\"x\":[3.0,3.0,8.0,12.0,13.0,17.0,18.0,18.0,21.0,19.0,18.0,18.0,21.0,24.0,21.0,24.0,21.0,25.0,31.0,27.0,28.0,30.0,31.0,34.0,36.0,36.0,36.0,33.0,35.0,35.0,31.0,27.0,28.0,26.0,28.0,26.0,28.0,32.0,28.0,26.0,28.0,26.0,21.0,24.0,21.0,23.0,21.0,23.0,21.0,18.0,14.0,14.0,12.0,12.0,8.0,6.0,3.0,3.0,0.0,0.0,5.0,5.0,11.0,11.0,15.0,19.0,18.0,21.0,21.0,23.0,21.0,23.0,21.0,19.0,18.0,14.0,8.0,4.0,3.0,1.0,3.0,6.0,8.0,12.0,8.0,6.0,3.0,3.0,8.0,12.0,18.0,14.0,21.0,23.0,21.0,23.0,21.0,25.0,21.0,18.0,21.0,25.0,21.0,17.0,18.0,18.0,21.0,25.0,31.0,33.0,31.0,28.0,31.0,28.0,31.0,29.0,35.0,32.0,36.0,36.0,38.0,38.0,37.0,37.0,37.0,34.0,37.0,39.0,41.0,41.0,44.0,42.0,41.0,39.0,37.0,40.0,37.0,42.0,44.0,47.0,51.0,51.0,51.0,53.0,59.0,59.0,60.0,60.0,77.0,81.0,80.0,76.0,77.0,80.0,77.0,82.0,84.0,84.0,87.0,87.0,87.0,90.0,87.0,89.0,87.0,87.0,83.0,83.0,82.0,80.0,81.0,79.0,82.0,85.0,87.0,91.0,110.0,110.0,87.0,87.0,83.0,85.0,82.0,82.0,81.0,81.0,83.0,81.0,77.0,73.0,77.0,74.0,74.0,72.0,74.0,70.0,74.0,70.0,66.0,62.0,51.0,51.0,60.0,62.0,67.0,67.0,77.0,79.0,81.0,78.0,77.0,73.0,81.0,78.0,77.0,74.0,74.0,78.0,74.0,71.0,64.0,68.0,64.0,62.0,60.0,60.0,54.0,58.0,54.0,51.0,44.0,46.0,44.0,47.0,44.0,47.0,43.0,45.0,41.0,43.0,41.0,38.0,38.0,36.0,36.0,36.0,37.0,37.0,37.0,33.0,28.0,25.0,28.0,30.0,28.0,32.0,31.0,27.0,18.0,18.0,15.0,15.0,13.0,13.0,8.0,6.0,3.0,3.0],\"y\":[16.0,13.0,22.0,22.0,20.0,20.0,22.0,24.0,28.0,28.0,34.0,31.0,32.0,32.0,34.0,34.0,36.0,36.0,33.0,33.0,32.0,32.0,31.0,31.0,29.0,31.0,32.0,32.0,29.0,27.0,23.0,23.0,25.0,25.0,26.0,26.0,27.0,27.0,29.0,29.0,31.0,31.0,30.0,30.0,24.0,24.0,20.0,20.0,18.0,18.0,13.0,16.0,13.0,10.0,11.0,11.0,3.0,3.0,0.0,0.0,3.0,1.0,3.0,7.0,8.0,8.0,11.0,11.0,16.0,16.0,22.0,22.0,26.0,26.0,28.0,28.0,28.0,28.0,29.0,29.0,30.0,30.0,34.0,34.0,40.0,40.0,42.0,39.0,46.0,46.0,40.0,40.0,38.0,38.0,40.0,40.0,42.0,42.0,44.0,44.0,45.0,45.0,47.0,47.0,48.0,50.0,48.0,48.0,50.0,50.0,46.0,46.0,43.0,43.0,37.0,37.0,34.0,34.0,34.0,37.0,34.0,36.0,34.0,38.0,41.0,41.0,44.0,44.0,37.0,41.0,37.0,37.0,33.0,33.0,32.0,32.0,29.0,29.0,26.0,26.0,25.0,27.0,30.0,30.0,28.0,24.0,28.0,30.0,27.0,27.0,24.0,24.0,23.0,23.0,19.0,19.0,20.0,22.0,23.0,25.0,27.0,27.0,32.0,32.0,37.0,40.0,44.0,40.0,40.0,40.0,38.0,38.0,36.0,36.0,41.0,41.0,30.0,32.0,9.0,13.0,13.0,13.0,13.0,17.0,13.0,9.0,8.0,8.0,9.0,9.0,15.0,15.0,16.0,16.0,19.0,19.0,14.0,14.0,9.0,9.0,9.0,13.0,15.0,15.0,25.0,28.0,32.0,32.0,35.0,35.0,38.0,38.0,42.0,42.0,42.0,42.0,50.0,50.0,48.0,48.0,50.0,50.0,48.0,48.0,47.0,43.0,50.0,50.0,48.0,48.0,39.0,39.0,38.0,38.0,35.0,35.0,25.0,25.0,23.0,23.0,19.0,19.0,20.0,20.0,18.0,16.0,18.0,13.0,8.0,8.0,12.0,12.0,14.0,14.0,18.0,18.0,19.0,19.0,16.0,13.0,13.0,16.0,13.0,15.0,16.0,16.0,16.0,13.0]},\"selected\":{\"id\":\"1829\"},\"selection_policy\":{\"id\":\"1828\"}},\"id\":\"1805\",\"type\":\"ColumnDataSource\"},{\"attributes\":{},\"id\":\"1826\",\"type\":\"UnionRenderers\"},{\"attributes\":{\"data\":{\"x\":[3.0,3.0,3.0,3.0,5.0,8.0,8.0,8.0,8.0,8.0,8.0,8.0,11.0,12.0,13.0,14.0,15.0,15.0,18.0,18.0,18.0,18.0,18.0,18.0,18.0,13.0,21.0,21.0,21.0,21.0,21.0,21.0,21.0,21.0,21.0,21.0,21.0,21.0,21.0,21.0,21.0,21.0,21.0,21.0,28.0,28.0,28.0,28.0,28.0,28.0,28.0,28.0,28.0,31.0,31.0,31.0,31.0,31.0,31.0,31.0,31.0,35.0,35.0,36.0,36.0,36.0,36.0,37.0,37.0,37.0,37.0,37.0,37.0,37.0,38.0,38.0,41.0,41.0,41.0,41.0,43.0,44.0,44.0,44.0,44.0,44.0,51.0,51.0,51.0,54.0,54.0,59.0,60.0,60.0,60.0,64.0,64.0,66.0,67.0,74.0,74.0,74.0,74.0,74.0,77.0,77.0,77.0,77.0,77.0,77.0,77.0,77.0,80.0,81.0,81.0,81.0,81.0,82.0,82.0,82.0,83.0,83.0,83.0,84.0,87.0,87.0,87.0,87.0,87.0,87.0,110.0,3.0,0.0],\"y\":[16.0,29.0,30.0,42.0,3.0,16.0,22.0,28.0,34.0,40.0,46.0,11.0,3.0,13.0,13.0,13.0,13.0,8.0,16.0,22.0,28.0,34.0,40.0,48.0,11.0,20.0,16.0,18.0,20.0,22.0,24.0,26.0,28.0,30.0,32.0,34.0,36.0,38.0,40.0,42.0,44.0,45.0,47.0,48.0,14.0,18.0,25.0,26.0,27.0,29.0,31.0,32.0,12.0,19.0,23.0,31.0,33.0,37.0,43.0,46.0,50.0,29.0,34.0,18.0,29.0,32.0,34.0,18.0,29.0,32.0,34.0,41.0,44.0,8.0,20.0,34.0,19.0,23.0,33.0,37.0,25.0,26.0,35.0,37.0,38.0,39.0,25.0,30.0,9.0,48.0,50.0,28.0,15.0,28.0,47.0,48.0,50.0,9.0,25.0,14.0,16.0,19.0,48.0,50.0,15.0,19.0,23.0,27.0,32.0,38.0,42.0,9.0,24.0,13.0,35.0,38.0,42.0,13.0,36.0,40.0,13.0,44.0,8.0,20.0,23.0,27.0,32.0,37.0,41.0,9.0,30.0,3.0,0.0]},\"selected\":{\"id\":\"1831\"},\"selection_policy\":{\"id\":\"1830\"}},\"id\":\"1810\",\"type\":\"ColumnDataSource\"},{\"attributes\":{\"data\":{\"xs\":[[3.0,3.0],[3.0,1.0],[3.0,6.0],[3.0,3.0],[5.0,5.0],[8.0,6.0],[8.0,12.0],[8.0,4.0],[8.0,12.0],[8.0,6.0],[8.0,12.0],[8.0,6.0],[11.0,11.0],[12.0,12.0],[13.0,13.0],[14.0,14.0],[15.0,15.0],[15.0,19.0],[18.0,18.0],[18.0,18.0],[18.0,14.0],[18.0,18.0],[18.0,14.0],[18.0,18.0],[18.0,21.0],[13.0,17.0],[21.0,23.0],[21.0,18.0],[21.0,23.0],[21.0,23.0],[21.0,23.0],[21.0,19.0],[21.0,19.0],[21.0,24.0],[21.0,24.0],[21.0,24.0],[21.0,25.0],[21.0,23.0],[21.0,23.0],[21.0,25.0],[21.0,18.0],[21.0,25.0],[21.0,17.0],[21.0,25.0],[28.0,30.0],[28.0,32.0],[28.0,26.0],[28.0,26.0],[28.0,32.0],[28.0,26.0],[28.0,26.0],[28.0,30.0],[28.0,25.0],[31.0,27.0],[31.0,27.0],[31.0,34.0],[31.0,27.0],[31.0,29.0],[31.0,28.0],[31.0,28.0],[31.0,33.0],[35.0,35.0],[35.0,32.0],[36.0,36.0],[36.0,36.0],[36.0,33.0],[36.0,36.0],[37.0,37.0],[37.0,42.0],[37.0,40.0],[37.0,37.0],[37.0,34.0],[37.0,39.0],[37.0,33.0],[38.0,36.0],[38.0,38.0],[41.0,38.0],[41.0,43.0],[41.0,39.0],[41.0,41.0],[43.0,45.0],[44.0,47.0],[44.0,47.0],[44.0,42.0],[44.0,47.0],[44.0,46.0],[51.0,51.0],[51.0,53.0],[51.0,51.0],[54.0,51.0],[54.0,58.0],[59.0,59.0],[60.0,62.0],[60.0,60.0],[60.0,60.0],[64.0,62.0],[64.0,68.0],[66.0,62.0],[67.0,67.0],[74.0,70.0],[74.0,72.0],[74.0,70.0],[74.0,71.0],[74.0,78.0],[77.0,74.0],[77.0,82.0],[77.0,80.0],[77.0,81.0],[77.0,79.0],[77.0,73.0],[77.0,74.0],[77.0,73.0],[80.0,76.0],[81.0,81.0],[81.0,78.0],[81.0,79.0],[81.0,78.0],[82.0,82.0],[82.0,85.0],[82.0,80.0],[83.0,85.0],[83.0,83.0],[83.0,81.0],[84.0,84.0],[87.0,87.0],[87.0,90.0],[87.0,89.0],[87.0,87.0],[87.0,91.0],[87.0,87.0],[110.0,110.0],[3.0,3.0],[0.0,0.0]],\"ys\":[[16.0,13.0],[29.0,29.0],[30.0,30.0],[42.0,39.0],[3.0,1.0],[16.0,16.0],[22.0,22.0],[28.0,28.0],[34.0,34.0],[40.0,40.0],[46.0,46.0],[11.0,11.0],[3.0,7.0],[13.0,10.0],[13.0,15.0],[13.0,16.0],[13.0,16.0],[8.0,8.0],[16.0,13.0],[22.0,24.0],[28.0,28.0],[34.0,31.0],[40.0,40.0],[48.0,50.0],[11.0,11.0],[20.0,20.0],[16.0,16.0],[18.0,18.0],[20.0,20.0],[22.0,22.0],[24.0,24.0],[26.0,26.0],[28.0,28.0],[30.0,30.0],[32.0,32.0],[34.0,34.0],[36.0,36.0],[38.0,38.0],[40.0,40.0],[42.0,42.0],[44.0,44.0],[45.0,45.0],[47.0,47.0],[48.0,48.0],[14.0,14.0],[18.0,18.0],[25.0,25.0],[26.0,26.0],[27.0,27.0],[29.0,29.0],[31.0,31.0],[32.0,32.0],[12.0,12.0],[19.0,19.0],[23.0,23.0],[31.0,31.0],[33.0,33.0],[37.0,37.0],[43.0,43.0],[46.0,46.0],[50.0,50.0],[29.0,27.0],[34.0,34.0],[18.0,16.0],[29.0,31.0],[32.0,32.0],[34.0,37.0],[18.0,13.0],[29.0,29.0],[32.0,32.0],[34.0,38.0],[41.0,41.0],[44.0,44.0],[8.0,8.0],[20.0,20.0],[34.0,36.0],[19.0,19.0],[23.0,23.0],[33.0,33.0],[37.0,41.0],[25.0,25.0],[26.0,26.0],[35.0,35.0],[37.0,37.0],[38.0,38.0],[39.0,39.0],[25.0,27.0],[30.0,30.0],[9.0,13.0],[48.0,48.0],[50.0,50.0],[28.0,24.0],[15.0,15.0],[28.0,30.0],[47.0,43.0],[48.0,48.0],[50.0,50.0],[9.0,9.0],[25.0,28.0],[14.0,14.0],[16.0,16.0],[19.0,19.0],[48.0,48.0],[50.0,50.0],[15.0,15.0],[19.0,19.0],[23.0,23.0],[27.0,27.0],[32.0,32.0],[38.0,38.0],[42.0,42.0],[9.0,9.0],[24.0,24.0],[13.0,9.0],[35.0,35.0],[38.0,38.0],[42.0,42.0],[13.0,17.0],[36.0,36.0],[40.0,40.0],[13.0,13.0],[44.0,40.0],[8.0,8.0],[20.0,22.0],[23.0,25.0],[27.0,27.0],[32.0,32.0],[37.0,40.0],[41.0,41.0],[9.0,13.0],[30.0,32.0],[3.0,3.0],[0.0,0.0]]},\"selected\":{\"id\":\"1827\"},\"selection_policy\":{\"id\":\"1826\"}},\"id\":\"1800\",\"type\":\"ColumnDataSource\"},{\"attributes\":{\"line_dash\":[6],\"line_width\":2,\"x\":{\"field\":\"x\"},\"y\":{\"field\":\"y\"}},\"id\":\"1806\",\"type\":\"Line\"},{\"attributes\":{},\"id\":\"1827\",\"type\":\"Selection\"},{\"attributes\":{},\"id\":\"1781\",\"type\":\"BasicTicker\"},{\"attributes\":{\"line_alpha\":0.1,\"line_dash\":[6],\"line_width\":2,\"x\":{\"field\":\"x\"},\"y\":{\"field\":\"y\"}},\"id\":\"1807\",\"type\":\"Line\"},{\"attributes\":{},\"id\":\"1828\",\"type\":\"UnionRenderers\"},{\"attributes\":{\"fill_alpha\":{\"value\":0.1},\"fill_color\":{\"value\":\"steelblue\"},\"line_alpha\":{\"value\":0.1},\"line_color\":{\"value\":\"steelblue\"},\"size\":{\"units\":\"screen\",\"value\":5},\"x\":{\"field\":\"x\"},\"y\":{\"field\":\"y\"}},\"id\":\"1812\",\"type\":\"Circle\"},{\"attributes\":{\"source\":{\"id\":\"1805\"}},\"id\":\"1809\",\"type\":\"CDSView\"},{\"attributes\":{},\"id\":\"1829\",\"type\":\"Selection\"},{\"attributes\":{},\"id\":\"1784\",\"type\":\"PanTool\"},{\"attributes\":{\"data_source\":{\"id\":\"1805\"},\"glyph\":{\"id\":\"1806\"},\"hover_glyph\":null,\"muted_glyph\":null,\"nonselection_glyph\":{\"id\":\"1807\"},\"selection_glyph\":null,\"view\":{\"id\":\"1809\"}},\"id\":\"1808\",\"type\":\"GlyphRenderer\"},{\"attributes\":{\"axis\":{\"id\":\"1780\"},\"dimension\":1,\"grid_line_color\":null,\"ticker\":null},\"id\":\"1783\",\"type\":\"Grid\"},{\"attributes\":{\"text\":\"\"},\"id\":\"1766\",\"type\":\"Title\"}],\"root_ids\":[\"1836\"]},\"title\":\"Bokeh Application\",\"version\":\"2.1.0\"}};\n",
       "  var render_items = [{\"docid\":\"1cd4f3df-012d-4280-8deb-64e8c900c24f\",\"root_ids\":[\"1836\"],\"roots\":{\"1836\":\"3e4c8008-c875-4068-aa9a-323cfb05b978\"}}];\n",
       "  root.Bokeh.embed.embed_items_notebook(docs_json, render_items);\n",
       "\n",
       "  }\n",
       "  if (root.Bokeh !== undefined) {\n",
       "    embed_document(root);\n",
       "  } else {\n",
       "    var attempts = 0;\n",
       "    var timer = setInterval(function(root) {\n",
       "      if (root.Bokeh !== undefined) {\n",
       "        clearInterval(timer);\n",
       "        embed_document(root);\n",
       "      } else {\n",
       "        attempts++;\n",
       "        if (attempts > 100) {\n",
       "          clearInterval(timer);\n",
       "          console.log(\"Bokeh: ERROR: Unable to run BokehJS code because BokehJS library is missing\");\n",
       "        }\n",
       "      }\n",
       "    }, 10, root)\n",
       "  }\n",
       "})(window);"
      ],
      "application/vnd.bokehjs_exec.v0+json": ""
     },
     "metadata": {
      "application/vnd.bokehjs_exec.v0+json": {
       "id": "1836"
      }
     },
     "output_type": "display_data"
    }
   ],
   "source": [
    "# VLSI etching\n",
    "nodes = pd.read_csv('data/xqf131_etching.csv', index_col=0)\n",
    "G = create_vlsi_G(nodes, manhattan=False)\n",
    "plot_vlsi_tour(nodes,G, solve_tsp(G), labels=False)"
   ]
  },
  {
   "cell_type": "code",
   "execution_count": 13,
   "metadata": {},
   "outputs": [
    {
     "data": {
      "text/html": [
       "\n",
       "\n",
       "\n",
       "\n",
       "\n",
       "\n",
       "  <div class=\"bk-root\" id=\"63469bae-188c-4d8b-b9c8-e96136fd9d7d\" data-root-id=\"5861\"></div>\n"
      ]
     },
     "metadata": {},
     "output_type": "display_data"
    },
    {
     "data": {
      "application/javascript": [
       "(function(root) {\n",
       "  function embed_document(root) {\n",
       "    \n",
       "  var docs_json = {\"ae8b4086-6ca8-47fa-a6cf-e9e09ae1b378\":{\"roots\":{\"references\":[{\"attributes\":{\"children\":[[{\"id\":\"5791\"},0,0],[{\"id\":\"5844\"},1,0],[{\"id\":\"5845\"},2,0]]},\"id\":\"5861\",\"type\":\"GridBox\"},{\"attributes\":{\"source\":{\"id\":\"5835\"}},\"id\":\"5839\",\"type\":\"CDSView\"},{\"attributes\":{\"button_type\":\"success\",\"icon\":null,\"js_event_callbacks\":{\"button_click\":[{\"id\":\"5841\"}]},\"label\":\"Next\",\"sizing_mode\":\"scale_width\",\"width_policy\":\"fit\"},\"id\":\"5840\",\"type\":\"Button\"},{\"attributes\":{\"data\":{\"x\":[0.0,0.0,0.0,0.0,0.0,0.0,0.0,1.0,1.0,1.0,1.0,1.0,1.0,1.0,2.0,2.0,2.0,2.0,2.0,2.0,2.0,3.0,3.0,3.0,3.0,3.0,3.0,3.0,4.0,4.0,4.0,4.0,4.0,4.0,4.0,5.0,5.0,5.0,5.0,5.0,5.0,5.0,6.0,6.0,6.0,6.0,6.0,6.0,6.0],\"y\":[0.0,1.0,2.0,3.0,4.0,5.0,6.0,0.0,1.0,2.0,3.0,4.0,5.0,6.0,0.0,1.0,2.0,3.0,4.0,5.0,6.0,0.0,1.0,2.0,3.0,4.0,5.0,6.0,0.0,1.0,2.0,3.0,4.0,5.0,6.0,0.0,1.0,2.0,3.0,4.0,5.0,6.0,0.0,1.0,2.0,3.0,4.0,5.0,6.0]},\"selected\":{\"id\":\"5854\"},\"selection_policy\":{\"id\":\"5853\"}},\"id\":\"5835\",\"type\":\"ColumnDataSource\"},{\"attributes\":{\"data_source\":{\"id\":\"5835\"},\"glyph\":{\"id\":\"5836\"},\"hover_glyph\":null,\"muted_glyph\":null,\"nonselection_glyph\":{\"id\":\"5837\"},\"selection_glyph\":null,\"view\":{\"id\":\"5839\"}},\"id\":\"5838\",\"type\":\"GlyphRenderer\"},{\"attributes\":{\"fill_color\":{\"value\":\"steelblue\"},\"line_color\":{\"value\":\"steelblue\"},\"size\":{\"units\":\"screen\",\"value\":8},\"x\":{\"field\":\"x\"},\"y\":{\"field\":\"y\"}},\"id\":\"5836\",\"type\":\"Circle\"},{\"attributes\":{\"source\":{\"id\":\"5829\"}},\"id\":\"5834\",\"type\":\"CDSView\"},{\"attributes\":{\"button_type\":\"success\",\"icon\":null,\"js_event_callbacks\":{\"button_click\":[{\"id\":\"5843\"}]},\"label\":\"Previous\",\"sizing_mode\":\"scale_width\",\"width_policy\":\"fit\"},\"id\":\"5842\",\"type\":\"Button\"},{\"attributes\":{\"line_alpha\":0.1,\"line_width\":4,\"x\":{\"field\":\"edges_x\"},\"y\":{\"field\":\"edges_y\"}},\"id\":\"5832\",\"type\":\"Line\"},{\"attributes\":{\"args\":{\"cost\":{\"id\":\"5825\"},\"done\":{\"id\":\"5826\"},\"n\":{\"id\":\"5827\"},\"source\":{\"id\":\"5828\"},\"tour\":{\"id\":\"5829\"}},\"code\":\"\\n    if ((parseInt(n.text) + 1) < source.data['edges_y'].length) {\\n        n.text = (parseInt(n.text) + 1).toString()\\n    }\\n    var iteration = parseInt(n.text)\\n    \\n    if (iteration == source.data['edges_y'].length - 2) {\\n        iteration = iteration + 1\\n    }\\n    \\n    cost.text = source.data['costs'][iteration].toFixed(3)\\n    \\n    if (iteration == source.data['edges_y'].length - 1) {\\n        done.text = \\\"done.\\\"\\n    } else {\\n        done.text = \\\"\\\"\\n    }\\n\\n    tour.data['edges_x'] = source.data['edges_x'][iteration]\\n    tour.data['edges_y'] = source.data['edges_y'][iteration]\\n    tour.change.emit()\\n    \"},\"id\":\"5841\",\"type\":\"CustomJS\"},{\"attributes\":{\"align\":\"center\",\"text\":\"0\",\"width\":350},\"id\":\"5825\",\"type\":\"Div\"},{\"attributes\":{\"args\":{\"cost\":{\"id\":\"5825\"},\"done\":{\"id\":\"5826\"},\"n\":{\"id\":\"5827\"},\"source\":{\"id\":\"5828\"},\"tour\":{\"id\":\"5829\"}},\"code\":\"\\n    if ((parseInt(n.text) - 1) >= 0) {\\n        n.text = (parseInt(n.text) - 1).toString()\\n    }\\n    var iteration = parseInt(n.text)\\n    \\n    if (iteration == source.data['edges_y'].length - 2) {\\n        iteration = iteration - 1\\n    }\\n    \\n    cost.text = source.data['costs'][iteration].toFixed(3)\\n    \\n    if (iteration == source.data['edges_y'].length - 1) {\\n        done.text = \\\"done.\\\"\\n    } else {\\n        done.text = \\\"\\\"\\n    }\\n\\n    tour.data['edges_x'] = source.data['edges_x'][iteration]\\n    tour.data['edges_y'] = source.data['edges_y'][iteration]\\n    tour.change.emit()\\n    \"},\"id\":\"5843\",\"type\":\"CustomJS\"},{\"attributes\":{\"align\":\"center\",\"width\":300},\"id\":\"5826\",\"type\":\"Div\"},{\"attributes\":{\"line_width\":4,\"x\":{\"field\":\"edges_x\"},\"y\":{\"field\":\"edges_y\"}},\"id\":\"5831\",\"type\":\"Line\"},{\"attributes\":{\"children\":[{\"id\":\"5842\"},{\"id\":\"5840\"}],\"max_width\":400,\"sizing_mode\":\"stretch_both\"},\"id\":\"5844\",\"type\":\"Row\"},{\"attributes\":{\"children\":[{\"id\":\"5825\"},{\"id\":\"5826\"}]},\"id\":\"5845\",\"type\":\"Row\"},{\"attributes\":{\"end\":6.3,\"start\":-0.30000000000000004},\"id\":\"5796\",\"type\":\"Range1d\"},{\"attributes\":{\"data\":{\"edges_x\":[0.0],\"edges_y\":[0.0]},\"selected\":{\"id\":\"5852\"},\"selection_policy\":{\"id\":\"5851\"}},\"id\":\"5829\",\"type\":\"ColumnDataSource\"},{\"attributes\":{\"text\":\"\"},\"id\":\"5792\",\"type\":\"Title\"},{\"attributes\":{},\"id\":\"5810\",\"type\":\"PanTool\"},{\"attributes\":{\"active_drag\":\"auto\",\"active_inspect\":\"auto\",\"active_multi\":null,\"active_scroll\":\"auto\",\"active_tap\":\"auto\",\"logo\":null,\"tools\":[{\"id\":\"5810\"},{\"id\":\"5811\"},{\"id\":\"5812\"},{\"id\":\"5813\"},{\"id\":\"5814\"},{\"id\":\"5815\"}]},\"id\":\"5817\",\"type\":\"Toolbar\"},{\"attributes\":{},\"id\":\"5847\",\"type\":\"BasicTickFormatter\"},{\"attributes\":{},\"id\":\"5803\",\"type\":\"BasicTicker\"},{\"attributes\":{},\"id\":\"5800\",\"type\":\"LinearScale\"},{\"attributes\":{\"axis\":{\"id\":\"5802\"},\"grid_line_color\":null,\"ticker\":null},\"id\":\"5805\",\"type\":\"Grid\"},{\"attributes\":{},\"id\":\"5849\",\"type\":\"BasicTickFormatter\"},{\"attributes\":{\"bottom_units\":\"screen\",\"fill_alpha\":0.5,\"fill_color\":\"lightgrey\",\"left_units\":\"screen\",\"level\":\"overlay\",\"line_alpha\":1.0,\"line_color\":\"black\",\"line_dash\":[4,4],\"line_width\":2,\"right_units\":\"screen\",\"top_units\":\"screen\"},\"id\":\"5816\",\"type\":\"BoxAnnotation\"},{\"attributes\":{\"formatter\":{\"id\":\"5847\"},\"ticker\":{\"id\":\"5807\"},\"visible\":false},\"id\":\"5806\",\"type\":\"LinearAxis\"},{\"attributes\":{},\"id\":\"5798\",\"type\":\"LinearScale\"},{\"attributes\":{},\"id\":\"5851\",\"type\":\"UnionRenderers\"},{\"attributes\":{\"end\":6.3,\"start\":-0.30000000000000004},\"id\":\"5794\",\"type\":\"Range1d\"},{\"attributes\":{\"axis\":{\"id\":\"5806\"},\"dimension\":1,\"grid_line_color\":null,\"ticker\":null},\"id\":\"5809\",\"type\":\"Grid\"},{\"attributes\":{},\"id\":\"5852\",\"type\":\"Selection\"},{\"attributes\":{\"fill_alpha\":{\"value\":0.1},\"fill_color\":{\"value\":\"steelblue\"},\"line_alpha\":{\"value\":0.1},\"line_color\":{\"value\":\"steelblue\"},\"size\":{\"units\":\"screen\",\"value\":8},\"x\":{\"field\":\"x\"},\"y\":{\"field\":\"y\"}},\"id\":\"5837\",\"type\":\"Circle\"},{\"attributes\":{},\"id\":\"5853\",\"type\":\"UnionRenderers\"},{\"attributes\":{\"align\":\"center\",\"text\":\"0\",\"width\":400},\"id\":\"5827\",\"type\":\"Div\"},{\"attributes\":{},\"id\":\"5815\",\"type\":\"HelpTool\"},{\"attributes\":{},\"id\":\"5807\",\"type\":\"BasicTicker\"},{\"attributes\":{},\"id\":\"5854\",\"type\":\"Selection\"},{\"attributes\":{},\"id\":\"5811\",\"type\":\"WheelZoomTool\"},{\"attributes\":{\"formatter\":{\"id\":\"5849\"},\"ticker\":{\"id\":\"5803\"},\"visible\":false},\"id\":\"5802\",\"type\":\"LinearAxis\"},{\"attributes\":{\"overlay\":{\"id\":\"5816\"}},\"id\":\"5812\",\"type\":\"BoxZoomTool\"},{\"attributes\":{},\"id\":\"5814\",\"type\":\"ResetTool\"},{\"attributes\":{},\"id\":\"5813\",\"type\":\"SaveTool\"},{\"attributes\":{},\"id\":\"5859\",\"type\":\"UnionRenderers\"},{\"attributes\":{\"data\":{\"costs\":[0,1.0,2.0,3.0,4.0,5.0,6.0,7.0,8.0,9.0,10.0,11.0,12.0,13.0,14.0,15.0,16.0,17.0,18.0,19.0,20.0,23.605551275463988,24.605551275463988,25.605551275463988,26.605551275463988,27.605551275463988,28.605551275463988,29.605551275463988,30.605551275463988,31.605551275463988,32.60555127546399,33.60555127546399,35.01976483783708,36.01976483783708,37.01976483783708,38.01976483783708,40.01976483783708,41.01976483783708,42.01976483783708,43.01976483783708,44.01976483783708,45.01976483783708,49.01976483783708,50.01976483783708,54.49190079283666,55.49190079283666,56.49190079283666,57.49190079283666,58.49190079283666,60.49190079283666],\"edges_x\":[[0.0],[0.0,0.0],[0.0,0.0,0.0],[0.0,0.0,0.0,1.0],[0.0,0.0,0.0,1.0,1.0],[0.0,0.0,0.0,1.0,1.0,2.0],[0.0,0.0,0.0,1.0,1.0,2.0,3.0],[0.0,0.0,0.0,1.0,1.0,2.0,3.0,3.0],[0.0,0.0,0.0,1.0,1.0,2.0,3.0,3.0,4.0],[0.0,0.0,0.0,1.0,1.0,2.0,3.0,3.0,4.0,5.0],[0.0,0.0,0.0,1.0,1.0,2.0,3.0,3.0,4.0,5.0,5.0],[0.0,0.0,0.0,1.0,1.0,2.0,3.0,3.0,4.0,5.0,5.0,6.0],[0.0,0.0,0.0,1.0,1.0,2.0,3.0,3.0,4.0,5.0,5.0,6.0,6.0],[0.0,0.0,0.0,1.0,1.0,2.0,3.0,3.0,4.0,5.0,5.0,6.0,6.0,6.0],[0.0,0.0,0.0,1.0,1.0,2.0,3.0,3.0,4.0,5.0,5.0,6.0,6.0,6.0,5.0],[0.0,0.0,0.0,1.0,1.0,2.0,3.0,3.0,4.0,5.0,5.0,6.0,6.0,6.0,5.0,4.0],[0.0,0.0,0.0,1.0,1.0,2.0,3.0,3.0,4.0,5.0,5.0,6.0,6.0,6.0,5.0,4.0,3.0],[0.0,0.0,0.0,1.0,1.0,2.0,3.0,3.0,4.0,5.0,5.0,6.0,6.0,6.0,5.0,4.0,3.0,3.0],[0.0,0.0,0.0,1.0,1.0,2.0,3.0,3.0,4.0,5.0,5.0,6.0,6.0,6.0,5.0,4.0,3.0,3.0,4.0],[0.0,0.0,0.0,1.0,1.0,2.0,3.0,3.0,4.0,5.0,5.0,6.0,6.0,6.0,5.0,4.0,3.0,3.0,4.0,5.0],[0.0,0.0,0.0,1.0,1.0,2.0,3.0,3.0,4.0,5.0,5.0,6.0,6.0,6.0,5.0,4.0,3.0,3.0,4.0,5.0,6.0],[0.0,0.0,0.0,1.0,1.0,2.0,3.0,3.0,4.0,5.0,5.0,6.0,6.0,6.0,5.0,4.0,3.0,3.0,4.0,5.0,6.0,4.0],[0.0,0.0,0.0,1.0,1.0,2.0,3.0,3.0,4.0,5.0,5.0,6.0,6.0,6.0,5.0,4.0,3.0,3.0,4.0,5.0,6.0,4.0,4.0],[0.0,0.0,0.0,1.0,1.0,2.0,3.0,3.0,4.0,5.0,5.0,6.0,6.0,6.0,5.0,4.0,3.0,3.0,4.0,5.0,6.0,4.0,4.0,4.0],[0.0,0.0,0.0,1.0,1.0,2.0,3.0,3.0,4.0,5.0,5.0,6.0,6.0,6.0,5.0,4.0,3.0,3.0,4.0,5.0,6.0,4.0,4.0,4.0,4.0],[0.0,0.0,0.0,1.0,1.0,2.0,3.0,3.0,4.0,5.0,5.0,6.0,6.0,6.0,5.0,4.0,3.0,3.0,4.0,5.0,6.0,4.0,4.0,4.0,4.0,3.0],[0.0,0.0,0.0,1.0,1.0,2.0,3.0,3.0,4.0,5.0,5.0,6.0,6.0,6.0,5.0,4.0,3.0,3.0,4.0,5.0,6.0,4.0,4.0,4.0,4.0,3.0,2.0],[0.0,0.0,0.0,1.0,1.0,2.0,3.0,3.0,4.0,5.0,5.0,6.0,6.0,6.0,5.0,4.0,3.0,3.0,4.0,5.0,6.0,4.0,4.0,4.0,4.0,3.0,2.0,2.0],[0.0,0.0,0.0,1.0,1.0,2.0,3.0,3.0,4.0,5.0,5.0,6.0,6.0,6.0,5.0,4.0,3.0,3.0,4.0,5.0,6.0,4.0,4.0,4.0,4.0,3.0,2.0,2.0,1.0],[0.0,0.0,0.0,1.0,1.0,2.0,3.0,3.0,4.0,5.0,5.0,6.0,6.0,6.0,5.0,4.0,3.0,3.0,4.0,5.0,6.0,4.0,4.0,4.0,4.0,3.0,2.0,2.0,1.0,0.0],[0.0,0.0,0.0,1.0,1.0,2.0,3.0,3.0,4.0,5.0,5.0,6.0,6.0,6.0,5.0,4.0,3.0,3.0,4.0,5.0,6.0,4.0,4.0,4.0,4.0,3.0,2.0,2.0,1.0,0.0,0.0],[0.0,0.0,0.0,1.0,1.0,2.0,3.0,3.0,4.0,5.0,5.0,6.0,6.0,6.0,5.0,4.0,3.0,3.0,4.0,5.0,6.0,4.0,4.0,4.0,4.0,3.0,2.0,2.0,1.0,0.0,0.0,0.0],[0.0,0.0,0.0,1.0,1.0,2.0,3.0,3.0,4.0,5.0,5.0,6.0,6.0,6.0,5.0,4.0,3.0,3.0,4.0,5.0,6.0,4.0,4.0,4.0,4.0,3.0,2.0,2.0,1.0,0.0,0.0,0.0,1.0],[0.0,0.0,0.0,1.0,1.0,2.0,3.0,3.0,4.0,5.0,5.0,6.0,6.0,6.0,5.0,4.0,3.0,3.0,4.0,5.0,6.0,4.0,4.0,4.0,4.0,3.0,2.0,2.0,1.0,0.0,0.0,0.0,1.0,2.0],[0.0,0.0,0.0,1.0,1.0,2.0,3.0,3.0,4.0,5.0,5.0,6.0,6.0,6.0,5.0,4.0,3.0,3.0,4.0,5.0,6.0,4.0,4.0,4.0,4.0,3.0,2.0,2.0,1.0,0.0,0.0,0.0,1.0,2.0,3.0],[0.0,0.0,0.0,1.0,1.0,2.0,3.0,3.0,4.0,5.0,5.0,6.0,6.0,6.0,5.0,4.0,3.0,3.0,4.0,5.0,6.0,4.0,4.0,4.0,4.0,3.0,2.0,2.0,1.0,0.0,0.0,0.0,1.0,2.0,3.0,3.0],[0.0,0.0,0.0,1.0,1.0,2.0,3.0,3.0,4.0,5.0,5.0,6.0,6.0,6.0,5.0,4.0,3.0,3.0,4.0,5.0,6.0,4.0,4.0,4.0,4.0,3.0,2.0,2.0,1.0,0.0,0.0,0.0,1.0,2.0,3.0,3.0,5.0],[0.0,0.0,0.0,1.0,1.0,2.0,3.0,3.0,4.0,5.0,5.0,6.0,6.0,6.0,5.0,4.0,3.0,3.0,4.0,5.0,6.0,4.0,4.0,4.0,4.0,3.0,2.0,2.0,1.0,0.0,0.0,0.0,1.0,2.0,3.0,3.0,5.0,5.0],[0.0,0.0,0.0,1.0,1.0,2.0,3.0,3.0,4.0,5.0,5.0,6.0,6.0,6.0,5.0,4.0,3.0,3.0,4.0,5.0,6.0,4.0,4.0,4.0,4.0,3.0,2.0,2.0,1.0,0.0,0.0,0.0,1.0,2.0,3.0,3.0,5.0,5.0,6.0],[0.0,0.0,0.0,1.0,1.0,2.0,3.0,3.0,4.0,5.0,5.0,6.0,6.0,6.0,5.0,4.0,3.0,3.0,4.0,5.0,6.0,4.0,4.0,4.0,4.0,3.0,2.0,2.0,1.0,0.0,0.0,0.0,1.0,2.0,3.0,3.0,5.0,5.0,6.0,6.0],[0.0,0.0,0.0,1.0,1.0,2.0,3.0,3.0,4.0,5.0,5.0,6.0,6.0,6.0,5.0,4.0,3.0,3.0,4.0,5.0,6.0,4.0,4.0,4.0,4.0,3.0,2.0,2.0,1.0,0.0,0.0,0.0,1.0,2.0,3.0,3.0,5.0,5.0,6.0,6.0,6.0],[0.0,0.0,0.0,1.0,1.0,2.0,3.0,3.0,4.0,5.0,5.0,6.0,6.0,6.0,5.0,4.0,3.0,3.0,4.0,5.0,6.0,4.0,4.0,4.0,4.0,3.0,2.0,2.0,1.0,0.0,0.0,0.0,1.0,2.0,3.0,3.0,5.0,5.0,6.0,6.0,6.0,5.0],[0.0,0.0,0.0,1.0,1.0,2.0,3.0,3.0,4.0,5.0,5.0,6.0,6.0,6.0,5.0,4.0,3.0,3.0,4.0,5.0,6.0,4.0,4.0,4.0,4.0,3.0,2.0,2.0,1.0,0.0,0.0,0.0,1.0,2.0,3.0,3.0,5.0,5.0,6.0,6.0,6.0,5.0,1.0],[0.0,0.0,0.0,1.0,1.0,2.0,3.0,3.0,4.0,5.0,5.0,6.0,6.0,6.0,5.0,4.0,3.0,3.0,4.0,5.0,6.0,4.0,4.0,4.0,4.0,3.0,2.0,2.0,1.0,0.0,0.0,0.0,1.0,2.0,3.0,3.0,5.0,5.0,6.0,6.0,6.0,5.0,1.0,0.0],[0.0,0.0,0.0,1.0,1.0,2.0,3.0,3.0,4.0,5.0,5.0,6.0,6.0,6.0,5.0,4.0,3.0,3.0,4.0,5.0,6.0,4.0,4.0,4.0,4.0,3.0,2.0,2.0,1.0,0.0,0.0,0.0,1.0,2.0,3.0,3.0,5.0,5.0,6.0,6.0,6.0,5.0,1.0,0.0,2.0],[0.0,0.0,0.0,1.0,1.0,2.0,3.0,3.0,4.0,5.0,5.0,6.0,6.0,6.0,5.0,4.0,3.0,3.0,4.0,5.0,6.0,4.0,4.0,4.0,4.0,3.0,2.0,2.0,1.0,0.0,0.0,0.0,1.0,2.0,3.0,3.0,5.0,5.0,6.0,6.0,6.0,5.0,1.0,0.0,2.0,2.0],[0.0,0.0,0.0,1.0,1.0,2.0,3.0,3.0,4.0,5.0,5.0,6.0,6.0,6.0,5.0,4.0,3.0,3.0,4.0,5.0,6.0,4.0,4.0,4.0,4.0,3.0,2.0,2.0,1.0,0.0,0.0,0.0,1.0,2.0,3.0,3.0,5.0,5.0,6.0,6.0,6.0,5.0,1.0,0.0,2.0,2.0,1.0],[0.0,0.0,0.0,1.0,1.0,2.0,3.0,3.0,4.0,5.0,5.0,6.0,6.0,6.0,5.0,4.0,3.0,3.0,4.0,5.0,6.0,4.0,4.0,4.0,4.0,3.0,2.0,2.0,1.0,0.0,0.0,0.0,1.0,2.0,3.0,3.0,5.0,5.0,6.0,6.0,6.0,5.0,1.0,0.0,2.0,2.0,1.0,1.0],[0.0,0.0,0.0,1.0,1.0,2.0,3.0,3.0,4.0,5.0,5.0,6.0,6.0,6.0,5.0,4.0,3.0,3.0,4.0,5.0,6.0,4.0,4.0,4.0,4.0,3.0,2.0,2.0,1.0,0.0,0.0,0.0,1.0,2.0,3.0,3.0,5.0,5.0,6.0,6.0,6.0,5.0,1.0,0.0,2.0,2.0,1.0,1.0,2.0],[0.0,0.0,0.0,1.0,1.0,2.0,3.0,3.0,4.0,5.0,5.0,6.0,6.0,6.0,5.0,4.0,3.0,3.0,4.0,5.0,6.0,4.0,4.0,4.0,4.0,3.0,2.0,2.0,1.0,0.0,0.0,0.0,1.0,2.0,3.0,3.0,5.0,5.0,6.0,6.0,6.0,5.0,1.0,0.0,2.0,2.0,1.0,1.0,2.0,0.0]],\"edges_y\":[[0.0],[0.0,1.0],[0.0,1.0,2.0],[0.0,1.0,2.0,2.0],[0.0,1.0,2.0,2.0,3.0],[0.0,1.0,2.0,2.0,3.0,3.0],[0.0,1.0,2.0,2.0,3.0,3.0,3.0],[0.0,1.0,2.0,2.0,3.0,3.0,3.0,2.0],[0.0,1.0,2.0,2.0,3.0,3.0,3.0,2.0,2.0],[0.0,1.0,2.0,2.0,3.0,3.0,3.0,2.0,2.0,2.0],[0.0,1.0,2.0,2.0,3.0,3.0,3.0,2.0,2.0,2.0,3.0],[0.0,1.0,2.0,2.0,3.0,3.0,3.0,2.0,2.0,2.0,3.0,3.0],[0.0,1.0,2.0,2.0,3.0,3.0,3.0,2.0,2.0,2.0,3.0,3.0,2.0],[0.0,1.0,2.0,2.0,3.0,3.0,3.0,2.0,2.0,2.0,3.0,3.0,2.0,1.0],[0.0,1.0,2.0,2.0,3.0,3.0,3.0,2.0,2.0,2.0,3.0,3.0,2.0,1.0,1.0],[0.0,1.0,2.0,2.0,3.0,3.0,3.0,2.0,2.0,2.0,3.0,3.0,2.0,1.0,1.0,1.0],[0.0,1.0,2.0,2.0,3.0,3.0,3.0,2.0,2.0,2.0,3.0,3.0,2.0,1.0,1.0,1.0,1.0],[0.0,1.0,2.0,2.0,3.0,3.0,3.0,2.0,2.0,2.0,3.0,3.0,2.0,1.0,1.0,1.0,1.0,0.0],[0.0,1.0,2.0,2.0,3.0,3.0,3.0,2.0,2.0,2.0,3.0,3.0,2.0,1.0,1.0,1.0,1.0,0.0,0.0],[0.0,1.0,2.0,2.0,3.0,3.0,3.0,2.0,2.0,2.0,3.0,3.0,2.0,1.0,1.0,1.0,1.0,0.0,0.0,0.0],[0.0,1.0,2.0,2.0,3.0,3.0,3.0,2.0,2.0,2.0,3.0,3.0,2.0,1.0,1.0,1.0,1.0,0.0,0.0,0.0,0.0],[0.0,1.0,2.0,2.0,3.0,3.0,3.0,2.0,2.0,2.0,3.0,3.0,2.0,1.0,1.0,1.0,1.0,0.0,0.0,0.0,0.0,3.0],[0.0,1.0,2.0,2.0,3.0,3.0,3.0,2.0,2.0,2.0,3.0,3.0,2.0,1.0,1.0,1.0,1.0,0.0,0.0,0.0,0.0,3.0,4.0],[0.0,1.0,2.0,2.0,3.0,3.0,3.0,2.0,2.0,2.0,3.0,3.0,2.0,1.0,1.0,1.0,1.0,0.0,0.0,0.0,0.0,3.0,4.0,5.0],[0.0,1.0,2.0,2.0,3.0,3.0,3.0,2.0,2.0,2.0,3.0,3.0,2.0,1.0,1.0,1.0,1.0,0.0,0.0,0.0,0.0,3.0,4.0,5.0,6.0],[0.0,1.0,2.0,2.0,3.0,3.0,3.0,2.0,2.0,2.0,3.0,3.0,2.0,1.0,1.0,1.0,1.0,0.0,0.0,0.0,0.0,3.0,4.0,5.0,6.0,6.0],[0.0,1.0,2.0,2.0,3.0,3.0,3.0,2.0,2.0,2.0,3.0,3.0,2.0,1.0,1.0,1.0,1.0,0.0,0.0,0.0,0.0,3.0,4.0,5.0,6.0,6.0,6.0],[0.0,1.0,2.0,2.0,3.0,3.0,3.0,2.0,2.0,2.0,3.0,3.0,2.0,1.0,1.0,1.0,1.0,0.0,0.0,0.0,0.0,3.0,4.0,5.0,6.0,6.0,6.0,5.0],[0.0,1.0,2.0,2.0,3.0,3.0,3.0,2.0,2.0,2.0,3.0,3.0,2.0,1.0,1.0,1.0,1.0,0.0,0.0,0.0,0.0,3.0,4.0,5.0,6.0,6.0,6.0,5.0,5.0],[0.0,1.0,2.0,2.0,3.0,3.0,3.0,2.0,2.0,2.0,3.0,3.0,2.0,1.0,1.0,1.0,1.0,0.0,0.0,0.0,0.0,3.0,4.0,5.0,6.0,6.0,6.0,5.0,5.0,5.0],[0.0,1.0,2.0,2.0,3.0,3.0,3.0,2.0,2.0,2.0,3.0,3.0,2.0,1.0,1.0,1.0,1.0,0.0,0.0,0.0,0.0,3.0,4.0,5.0,6.0,6.0,6.0,5.0,5.0,5.0,4.0],[0.0,1.0,2.0,2.0,3.0,3.0,3.0,2.0,2.0,2.0,3.0,3.0,2.0,1.0,1.0,1.0,1.0,0.0,0.0,0.0,0.0,3.0,4.0,5.0,6.0,6.0,6.0,5.0,5.0,5.0,4.0,3.0],[0.0,1.0,2.0,2.0,3.0,3.0,3.0,2.0,2.0,2.0,3.0,3.0,2.0,1.0,1.0,1.0,1.0,0.0,0.0,0.0,0.0,3.0,4.0,5.0,6.0,6.0,6.0,5.0,5.0,5.0,4.0,3.0,4.0],[0.0,1.0,2.0,2.0,3.0,3.0,3.0,2.0,2.0,2.0,3.0,3.0,2.0,1.0,1.0,1.0,1.0,0.0,0.0,0.0,0.0,3.0,4.0,5.0,6.0,6.0,6.0,5.0,5.0,5.0,4.0,3.0,4.0,4.0],[0.0,1.0,2.0,2.0,3.0,3.0,3.0,2.0,2.0,2.0,3.0,3.0,2.0,1.0,1.0,1.0,1.0,0.0,0.0,0.0,0.0,3.0,4.0,5.0,6.0,6.0,6.0,5.0,5.0,5.0,4.0,3.0,4.0,4.0,4.0],[0.0,1.0,2.0,2.0,3.0,3.0,3.0,2.0,2.0,2.0,3.0,3.0,2.0,1.0,1.0,1.0,1.0,0.0,0.0,0.0,0.0,3.0,4.0,5.0,6.0,6.0,6.0,5.0,5.0,5.0,4.0,3.0,4.0,4.0,4.0,5.0],[0.0,1.0,2.0,2.0,3.0,3.0,3.0,2.0,2.0,2.0,3.0,3.0,2.0,1.0,1.0,1.0,1.0,0.0,0.0,0.0,0.0,3.0,4.0,5.0,6.0,6.0,6.0,5.0,5.0,5.0,4.0,3.0,4.0,4.0,4.0,5.0,5.0],[0.0,1.0,2.0,2.0,3.0,3.0,3.0,2.0,2.0,2.0,3.0,3.0,2.0,1.0,1.0,1.0,1.0,0.0,0.0,0.0,0.0,3.0,4.0,5.0,6.0,6.0,6.0,5.0,5.0,5.0,4.0,3.0,4.0,4.0,4.0,5.0,5.0,4.0],[0.0,1.0,2.0,2.0,3.0,3.0,3.0,2.0,2.0,2.0,3.0,3.0,2.0,1.0,1.0,1.0,1.0,0.0,0.0,0.0,0.0,3.0,4.0,5.0,6.0,6.0,6.0,5.0,5.0,5.0,4.0,3.0,4.0,4.0,4.0,5.0,5.0,4.0,4.0],[0.0,1.0,2.0,2.0,3.0,3.0,3.0,2.0,2.0,2.0,3.0,3.0,2.0,1.0,1.0,1.0,1.0,0.0,0.0,0.0,0.0,3.0,4.0,5.0,6.0,6.0,6.0,5.0,5.0,5.0,4.0,3.0,4.0,4.0,4.0,5.0,5.0,4.0,4.0,5.0],[0.0,1.0,2.0,2.0,3.0,3.0,3.0,2.0,2.0,2.0,3.0,3.0,2.0,1.0,1.0,1.0,1.0,0.0,0.0,0.0,0.0,3.0,4.0,5.0,6.0,6.0,6.0,5.0,5.0,5.0,4.0,3.0,4.0,4.0,4.0,5.0,5.0,4.0,4.0,5.0,6.0],[0.0,1.0,2.0,2.0,3.0,3.0,3.0,2.0,2.0,2.0,3.0,3.0,2.0,1.0,1.0,1.0,1.0,0.0,0.0,0.0,0.0,3.0,4.0,5.0,6.0,6.0,6.0,5.0,5.0,5.0,4.0,3.0,4.0,4.0,4.0,5.0,5.0,4.0,4.0,5.0,6.0,6.0],[0.0,1.0,2.0,2.0,3.0,3.0,3.0,2.0,2.0,2.0,3.0,3.0,2.0,1.0,1.0,1.0,1.0,0.0,0.0,0.0,0.0,3.0,4.0,5.0,6.0,6.0,6.0,5.0,5.0,5.0,4.0,3.0,4.0,4.0,4.0,5.0,5.0,4.0,4.0,5.0,6.0,6.0,6.0],[0.0,1.0,2.0,2.0,3.0,3.0,3.0,2.0,2.0,2.0,3.0,3.0,2.0,1.0,1.0,1.0,1.0,0.0,0.0,0.0,0.0,3.0,4.0,5.0,6.0,6.0,6.0,5.0,5.0,5.0,4.0,3.0,4.0,4.0,4.0,5.0,5.0,4.0,4.0,5.0,6.0,6.0,6.0,6.0],[0.0,1.0,2.0,2.0,3.0,3.0,3.0,2.0,2.0,2.0,3.0,3.0,2.0,1.0,1.0,1.0,1.0,0.0,0.0,0.0,0.0,3.0,4.0,5.0,6.0,6.0,6.0,5.0,5.0,5.0,4.0,3.0,4.0,4.0,4.0,5.0,5.0,4.0,4.0,5.0,6.0,6.0,6.0,6.0,2.0],[0.0,1.0,2.0,2.0,3.0,3.0,3.0,2.0,2.0,2.0,3.0,3.0,2.0,1.0,1.0,1.0,1.0,0.0,0.0,0.0,0.0,3.0,4.0,5.0,6.0,6.0,6.0,5.0,5.0,5.0,4.0,3.0,4.0,4.0,4.0,5.0,5.0,4.0,4.0,5.0,6.0,6.0,6.0,6.0,2.0,1.0],[0.0,1.0,2.0,2.0,3.0,3.0,3.0,2.0,2.0,2.0,3.0,3.0,2.0,1.0,1.0,1.0,1.0,0.0,0.0,0.0,0.0,3.0,4.0,5.0,6.0,6.0,6.0,5.0,5.0,5.0,4.0,3.0,4.0,4.0,4.0,5.0,5.0,4.0,4.0,5.0,6.0,6.0,6.0,6.0,2.0,1.0,1.0],[0.0,1.0,2.0,2.0,3.0,3.0,3.0,2.0,2.0,2.0,3.0,3.0,2.0,1.0,1.0,1.0,1.0,0.0,0.0,0.0,0.0,3.0,4.0,5.0,6.0,6.0,6.0,5.0,5.0,5.0,4.0,3.0,4.0,4.0,4.0,5.0,5.0,4.0,4.0,5.0,6.0,6.0,6.0,6.0,2.0,1.0,1.0,0.0],[0.0,1.0,2.0,2.0,3.0,3.0,3.0,2.0,2.0,2.0,3.0,3.0,2.0,1.0,1.0,1.0,1.0,0.0,0.0,0.0,0.0,3.0,4.0,5.0,6.0,6.0,6.0,5.0,5.0,5.0,4.0,3.0,4.0,4.0,4.0,5.0,5.0,4.0,4.0,5.0,6.0,6.0,6.0,6.0,2.0,1.0,1.0,0.0,0.0],[0.0,1.0,2.0,2.0,3.0,3.0,3.0,2.0,2.0,2.0,3.0,3.0,2.0,1.0,1.0,1.0,1.0,0.0,0.0,0.0,0.0,3.0,4.0,5.0,6.0,6.0,6.0,5.0,5.0,5.0,4.0,3.0,4.0,4.0,4.0,5.0,5.0,4.0,4.0,5.0,6.0,6.0,6.0,6.0,2.0,1.0,1.0,0.0,0.0,0.0]]},\"selected\":{\"id\":\"5860\"},\"selection_policy\":{\"id\":\"5859\"}},\"id\":\"5828\",\"type\":\"ColumnDataSource\"},{\"attributes\":{},\"id\":\"5860\",\"type\":\"Selection\"},{\"attributes\":{\"data_source\":{\"id\":\"5829\"},\"glyph\":{\"id\":\"5831\"},\"hover_glyph\":null,\"muted_glyph\":null,\"nonselection_glyph\":{\"id\":\"5832\"},\"selection_glyph\":null,\"view\":{\"id\":\"5834\"}},\"id\":\"5833\",\"type\":\"GlyphRenderer\"},{\"attributes\":{\"background_fill_color\":null,\"below\":[{\"id\":\"5802\"}],\"border_fill_color\":null,\"center\":[{\"id\":\"5805\"},{\"id\":\"5809\"}],\"left\":[{\"id\":\"5806\"}],\"outline_line_color\":null,\"plot_height\":400,\"plot_width\":400,\"renderers\":[{\"id\":\"5833\"},{\"id\":\"5838\"}],\"title\":{\"id\":\"5792\"},\"toolbar\":{\"id\":\"5817\"},\"toolbar_location\":null,\"x_range\":{\"id\":\"5794\"},\"x_scale\":{\"id\":\"5798\"},\"y_range\":{\"id\":\"5796\"},\"y_scale\":{\"id\":\"5800\"}},\"id\":\"5791\",\"subtype\":\"Figure\",\"type\":\"Plot\"}],\"root_ids\":[\"5861\"]},\"title\":\"Bokeh Application\",\"version\":\"2.1.0\"}};\n",
       "  var render_items = [{\"docid\":\"ae8b4086-6ca8-47fa-a6cf-e9e09ae1b378\",\"root_ids\":[\"5861\"],\"roots\":{\"5861\":\"63469bae-188c-4d8b-b9c8-e96136fd9d7d\"}}];\n",
       "  root.Bokeh.embed.embed_items_notebook(docs_json, render_items);\n",
       "\n",
       "  }\n",
       "  if (root.Bokeh !== undefined) {\n",
       "    embed_document(root);\n",
       "  } else {\n",
       "    var attempts = 0;\n",
       "    var timer = setInterval(function(root) {\n",
       "      if (root.Bokeh !== undefined) {\n",
       "        clearInterval(timer);\n",
       "        embed_document(root);\n",
       "      } else {\n",
       "        attempts++;\n",
       "        if (attempts > 100) {\n",
       "          clearInterval(timer);\n",
       "          console.log(\"Bokeh: ERROR: Unable to run BokehJS code because BokehJS library is missing\");\n",
       "        }\n",
       "      }\n",
       "    }, 10, root)\n",
       "  }\n",
       "})(window);"
      ],
      "application/vnd.bokehjs_exec.v0+json": ""
     },
     "metadata": {
      "application/vnd.bokehjs_exec.v0+json": {
       "id": "5861"
      }
     },
     "output_type": "display_data"
    },
    {
     "data": {
      "text/html": [
       "\n",
       "\n",
       "\n",
       "\n",
       "\n",
       "\n",
       "  <div class=\"bk-root\" id=\"ae37ff89-1982-4cde-b516-848257311815\" data-root-id=\"6266\"></div>\n"
      ]
     },
     "metadata": {},
     "output_type": "display_data"
    },
    {
     "data": {
      "application/javascript": [
       "(function(root) {\n",
       "  function embed_document(root) {\n",
       "    \n",
       "  var docs_json = {\"7f78953b-8406-4480-96e2-298dd98d65d6\":{\"roots\":{\"references\":[{\"attributes\":{\"children\":[[{\"id\":\"6178\"},0,0],[{\"id\":\"6243\"},1,0],[{\"id\":\"6244\"},2,0]]},\"id\":\"6266\",\"type\":\"GridBox\"},{\"attributes\":{},\"id\":\"6201\",\"type\":\"ResetTool\"},{\"attributes\":{},\"id\":\"6263\",\"type\":\"Selection\"},{\"attributes\":{\"data_source\":{\"id\":\"6218\"},\"glyph\":{\"id\":\"6230\"},\"hover_glyph\":null,\"muted_glyph\":null,\"nonselection_glyph\":{\"id\":\"6231\"},\"selection_glyph\":null,\"view\":{\"id\":\"6233\"}},\"id\":\"6232\",\"type\":\"GlyphRenderer\"},{\"attributes\":{},\"id\":\"6202\",\"type\":\"HelpTool\"},{\"attributes\":{\"source\":{\"id\":\"6218\"}},\"id\":\"6233\",\"type\":\"CDSView\"},{\"attributes\":{\"end\":6.3,\"start\":-0.30000000000000004},\"id\":\"6181\",\"type\":\"Range1d\"},{\"attributes\":{\"active_drag\":\"auto\",\"active_inspect\":\"auto\",\"active_multi\":null,\"active_scroll\":\"auto\",\"active_tap\":\"auto\",\"logo\":null,\"tools\":[{\"id\":\"6197\"},{\"id\":\"6198\"},{\"id\":\"6199\"},{\"id\":\"6200\"},{\"id\":\"6201\"},{\"id\":\"6202\"}]},\"id\":\"6204\",\"type\":\"Toolbar\"},{\"attributes\":{\"end\":6.3,\"start\":-0.30000000000000004},\"id\":\"6183\",\"type\":\"Range1d\"},{\"attributes\":{\"line_width\":4,\"x\":{\"field\":\"edges_x\"},\"y\":{\"field\":\"edges_y\"}},\"id\":\"6220\",\"type\":\"Line\"},{\"attributes\":{},\"id\":\"6185\",\"type\":\"LinearScale\"},{\"attributes\":{\"data_source\":{\"id\":\"6234\"},\"glyph\":{\"id\":\"6235\"},\"hover_glyph\":null,\"muted_glyph\":null,\"nonselection_glyph\":{\"id\":\"6236\"},\"selection_glyph\":null,\"view\":{\"id\":\"6238\"}},\"id\":\"6237\",\"type\":\"GlyphRenderer\"},{\"attributes\":{\"line_alpha\":0.1,\"line_width\":4,\"x\":{\"field\":\"edges_x\"},\"y\":{\"field\":\"edges_y\"}},\"id\":\"6221\",\"type\":\"Line\"},{\"attributes\":{\"children\":[{\"id\":\"6239\"}],\"max_width\":400,\"sizing_mode\":\"stretch_both\"},\"id\":\"6243\",\"type\":\"Row\"},{\"attributes\":{\"line_color\":{\"value\":\"red\"},\"line_width\":{\"value\":4},\"xs\":{\"field\":\"swaps_before_x\"},\"ys\":{\"field\":\"swaps_before_y\"}},\"id\":\"6225\",\"type\":\"MultiLine\"},{\"attributes\":{\"source\":{\"id\":\"6234\"}},\"id\":\"6238\",\"type\":\"CDSView\"},{\"attributes\":{},\"id\":\"6187\",\"type\":\"LinearScale\"},{\"attributes\":{\"button_type\":\"success\",\"icon\":null,\"js_event_callbacks\":{\"button_click\":[{\"id\":\"6240\"}]},\"label\":\"Next\",\"sizing_mode\":\"scale_width\",\"width_policy\":\"fit\"},\"id\":\"6239\",\"type\":\"Button\"},{\"attributes\":{\"children\":[{\"id\":\"6212\"},{\"id\":\"6213\"}]},\"id\":\"6244\",\"type\":\"Row\"},{\"attributes\":{\"formatter\":{\"id\":\"6248\"},\"ticker\":{\"id\":\"6190\"},\"visible\":false},\"id\":\"6189\",\"type\":\"LinearAxis\"},{\"attributes\":{\"bottom_units\":\"screen\",\"fill_alpha\":0.5,\"fill_color\":\"lightgrey\",\"left_units\":\"screen\",\"level\":\"overlay\",\"line_alpha\":1.0,\"line_color\":\"black\",\"line_dash\":[4,4],\"line_width\":2,\"right_units\":\"screen\",\"top_units\":\"screen\"},\"id\":\"6203\",\"type\":\"BoxAnnotation\"},{\"attributes\":{\"data_source\":{\"id\":\"6216\"},\"glyph\":{\"id\":\"6220\"},\"hover_glyph\":null,\"muted_glyph\":null,\"nonselection_glyph\":{\"id\":\"6221\"},\"selection_glyph\":null,\"view\":{\"id\":\"6223\"}},\"id\":\"6222\",\"type\":\"GlyphRenderer\"},{\"attributes\":{\"fill_alpha\":{\"value\":0.1},\"fill_color\":{\"value\":\"steelblue\"},\"line_alpha\":{\"value\":0.1},\"line_color\":{\"value\":\"steelblue\"},\"size\":{\"units\":\"screen\",\"value\":8},\"x\":{\"field\":\"x\"},\"y\":{\"field\":\"y\"}},\"id\":\"6236\",\"type\":\"Circle\"},{\"attributes\":{},\"id\":\"6190\",\"type\":\"BasicTicker\"},{\"attributes\":{},\"id\":\"6246\",\"type\":\"BasicTickFormatter\"},{\"attributes\":{\"axis\":{\"id\":\"6189\"},\"grid_line_color\":null,\"ticker\":null},\"id\":\"6192\",\"type\":\"Grid\"},{\"attributes\":{\"source\":{\"id\":\"6216\"}},\"id\":\"6223\",\"type\":\"CDSView\"},{\"attributes\":{\"data\":{\"costs\":[60.49190079283666,60.01976483783708,59.841619252963774,58.60555127546399,58.01976483783709,57.43397840021018,57.25583281533687,56.01976483783709,55.25583281533687,54.01976483783709,53.84161925296378,52.60555127546399,52.47213595499958,52.06449510224597,51.47870866461906],\"edges_x\":[[0.0,0.0,0.0,1.0,1.0,2.0,3.0,3.0,4.0,5.0,5.0,6.0,6.0,6.0,5.0,4.0,3.0,3.0,4.0,5.0,6.0,4.0,4.0,4.0,4.0,3.0,2.0,2.0,1.0,0.0,0.0,0.0,1.0,2.0,3.0,3.0,5.0,5.0,6.0,6.0,6.0,5.0,1.0,0.0,2.0,2.0,1.0,1.0,2.0,0.0],[0.0,0.0,0.0,0.0,1.0,5.0,6.0,6.0,6.0,5.0,5.0,3.0,3.0,2.0,1.0,0.0,0.0,0.0,1.0,2.0,2.0,3.0,4.0,4.0,4.0,4.0,6.0,5.0,4.0,3.0,3.0,4.0,5.0,6.0,6.0,6.0,5.0,5.0,4.0,3.0,3.0,2.0,1.0,1.0,2.0,2.0,1.0,1.0,2.0,0.0],[0.0,0.0,0.0,1.0,2.0,3.0,3.0,5.0,5.0,6.0,6.0,6.0,5.0,1.0,0.0,0.0,0.0,0.0,1.0,2.0,2.0,3.0,4.0,4.0,4.0,4.0,6.0,5.0,4.0,3.0,3.0,4.0,5.0,6.0,6.0,6.0,5.0,5.0,4.0,3.0,3.0,2.0,1.0,1.0,2.0,2.0,1.0,1.0,2.0,0.0],[0.0,0.0,0.0,0.0,0.0,1.0,5.0,6.0,6.0,6.0,5.0,5.0,3.0,3.0,2.0,1.0,0.0,0.0,1.0,2.0,2.0,3.0,4.0,4.0,4.0,4.0,6.0,5.0,4.0,3.0,3.0,4.0,5.0,6.0,6.0,6.0,5.0,5.0,4.0,3.0,3.0,2.0,1.0,1.0,2.0,2.0,1.0,1.0,2.0,0.0],[0.0,0.0,0.0,0.0,1.0,2.0,3.0,3.0,5.0,5.0,6.0,6.0,6.0,5.0,1.0,0.0,0.0,0.0,1.0,2.0,2.0,3.0,4.0,4.0,4.0,4.0,6.0,5.0,4.0,3.0,3.0,4.0,5.0,6.0,6.0,6.0,5.0,5.0,4.0,3.0,3.0,2.0,1.0,1.0,2.0,2.0,1.0,1.0,2.0,0.0],[0.0,0.0,0.0,0.0,1.0,2.0,3.0,3.0,3.0,2.0,2.0,1.0,0.0,0.0,0.0,1.0,5.0,6.0,6.0,6.0,5.0,5.0,4.0,4.0,4.0,4.0,6.0,5.0,4.0,3.0,3.0,4.0,5.0,6.0,6.0,6.0,5.0,5.0,4.0,3.0,3.0,2.0,1.0,1.0,2.0,2.0,1.0,1.0,2.0,0.0],[0.0,0.0,0.0,0.0,0.0,0.0,1.0,2.0,2.0,3.0,3.0,3.0,2.0,1.0,0.0,1.0,5.0,6.0,6.0,6.0,5.0,5.0,4.0,4.0,4.0,4.0,6.0,5.0,4.0,3.0,3.0,4.0,5.0,6.0,6.0,6.0,5.0,5.0,4.0,3.0,3.0,2.0,1.0,1.0,2.0,2.0,1.0,1.0,2.0,0.0],[0.0,0.0,0.0,0.0,0.0,1.0,2.0,3.0,3.0,3.0,2.0,2.0,1.0,0.0,0.0,1.0,5.0,6.0,6.0,6.0,5.0,5.0,4.0,4.0,4.0,4.0,6.0,5.0,4.0,3.0,3.0,4.0,5.0,6.0,6.0,6.0,5.0,5.0,4.0,3.0,3.0,2.0,1.0,1.0,2.0,2.0,1.0,1.0,2.0,0.0],[0.0,0.0,0.0,0.0,0.0,1.0,2.0,3.0,3.0,1.0,0.0,0.0,1.0,2.0,2.0,3.0,5.0,6.0,6.0,6.0,5.0,5.0,4.0,4.0,4.0,4.0,6.0,5.0,4.0,3.0,3.0,4.0,5.0,6.0,6.0,6.0,5.0,5.0,4.0,3.0,3.0,2.0,1.0,1.0,2.0,2.0,1.0,1.0,2.0,0.0],[0.0,0.0,0.0,0.0,0.0,1.0,2.0,3.0,3.0,2.0,1.0,0.0,0.0,1.0,2.0,3.0,5.0,6.0,6.0,6.0,5.0,5.0,4.0,4.0,4.0,4.0,6.0,5.0,4.0,3.0,3.0,4.0,5.0,6.0,6.0,6.0,5.0,5.0,4.0,3.0,3.0,2.0,1.0,1.0,2.0,2.0,1.0,1.0,2.0,0.0],[0.0,0.0,0.0,0.0,0.0,1.0,2.0,3.0,3.0,2.0,1.0,0.0,0.0,1.0,2.0,3.0,5.0,5.0,6.0,6.0,6.0,5.0,4.0,4.0,4.0,4.0,6.0,5.0,4.0,3.0,3.0,4.0,5.0,6.0,6.0,6.0,5.0,5.0,4.0,3.0,3.0,2.0,1.0,1.0,2.0,2.0,1.0,1.0,2.0,0.0],[0.0,0.0,0.0,0.0,0.0,1.0,2.0,3.0,3.0,2.0,1.0,0.0,0.0,1.0,2.0,3.0,4.0,5.0,6.0,6.0,6.0,5.0,5.0,4.0,4.0,4.0,6.0,5.0,4.0,3.0,3.0,4.0,5.0,6.0,6.0,6.0,5.0,5.0,4.0,3.0,3.0,2.0,1.0,1.0,2.0,2.0,1.0,1.0,2.0,0.0],[0.0,0.0,0.0,0.0,0.0,1.0,2.0,3.0,3.0,2.0,1.0,0.0,0.0,1.0,2.0,3.0,4.0,5.0,6.0,6.0,6.0,5.0,5.0,4.0,4.0,4.0,3.0,3.0,4.0,5.0,6.0,4.0,5.0,6.0,6.0,6.0,5.0,5.0,4.0,3.0,3.0,2.0,1.0,1.0,2.0,2.0,1.0,1.0,2.0,0.0],[0.0,0.0,0.0,0.0,0.0,1.0,2.0,3.0,3.0,2.0,1.0,0.0,0.0,1.0,2.0,3.0,4.0,5.0,6.0,6.0,6.0,5.0,5.0,4.0,4.0,4.0,5.0,5.0,6.0,6.0,6.0,5.0,4.0,6.0,5.0,4.0,3.0,3.0,4.0,3.0,3.0,2.0,1.0,1.0,2.0,2.0,1.0,1.0,2.0,0.0],[0.0,0.0,0.0,0.0,0.0,1.0,2.0,3.0,3.0,2.0,1.0,0.0,0.0,1.0,2.0,3.0,4.0,5.0,6.0,6.0,6.0,5.0,5.0,4.0,4.0,4.0,5.0,5.0,6.0,6.0,6.0,5.0,4.0,6.0,5.0,4.0,3.0,3.0,4.0,3.0,3.0,2.0,1.0,1.0,2.0,2.0,2.0,1.0,1.0,0.0]],\"edges_y\":[[0.0,1.0,2.0,2.0,3.0,3.0,3.0,2.0,2.0,2.0,3.0,3.0,2.0,1.0,1.0,1.0,1.0,0.0,0.0,0.0,0.0,3.0,4.0,5.0,6.0,6.0,6.0,5.0,5.0,5.0,4.0,3.0,4.0,4.0,4.0,5.0,5.0,4.0,4.0,5.0,6.0,6.0,6.0,6.0,2.0,1.0,1.0,0.0,0.0,0.0],[0.0,1.0,2.0,6.0,6.0,6.0,6.0,5.0,4.0,4.0,5.0,5.0,4.0,4.0,4.0,3.0,4.0,5.0,5.0,5.0,6.0,6.0,6.0,5.0,4.0,3.0,0.0,0.0,0.0,0.0,1.0,1.0,1.0,1.0,2.0,3.0,3.0,2.0,2.0,2.0,3.0,3.0,3.0,2.0,2.0,1.0,1.0,0.0,0.0,0.0],[0.0,1.0,2.0,4.0,4.0,4.0,5.0,5.0,4.0,4.0,5.0,6.0,6.0,6.0,6.0,3.0,4.0,5.0,5.0,5.0,6.0,6.0,6.0,5.0,4.0,3.0,0.0,0.0,0.0,0.0,1.0,1.0,1.0,1.0,2.0,3.0,3.0,2.0,2.0,2.0,3.0,3.0,3.0,2.0,2.0,1.0,1.0,0.0,0.0,0.0],[0.0,1.0,2.0,3.0,6.0,6.0,6.0,6.0,5.0,4.0,4.0,5.0,5.0,4.0,4.0,4.0,4.0,5.0,5.0,5.0,6.0,6.0,6.0,5.0,4.0,3.0,0.0,0.0,0.0,0.0,1.0,1.0,1.0,1.0,2.0,3.0,3.0,2.0,2.0,2.0,3.0,3.0,3.0,2.0,2.0,1.0,1.0,0.0,0.0,0.0],[0.0,1.0,2.0,3.0,4.0,4.0,4.0,5.0,5.0,4.0,4.0,5.0,6.0,6.0,6.0,6.0,4.0,5.0,5.0,5.0,6.0,6.0,6.0,5.0,4.0,3.0,0.0,0.0,0.0,0.0,1.0,1.0,1.0,1.0,2.0,3.0,3.0,2.0,2.0,2.0,3.0,3.0,3.0,2.0,2.0,1.0,1.0,0.0,0.0,0.0],[0.0,1.0,2.0,3.0,4.0,4.0,4.0,5.0,6.0,6.0,5.0,5.0,5.0,4.0,6.0,6.0,6.0,6.0,5.0,4.0,4.0,5.0,6.0,5.0,4.0,3.0,0.0,0.0,0.0,0.0,1.0,1.0,1.0,1.0,2.0,3.0,3.0,2.0,2.0,2.0,3.0,3.0,3.0,2.0,2.0,1.0,1.0,0.0,0.0,0.0],[0.0,1.0,2.0,3.0,4.0,5.0,5.0,5.0,6.0,6.0,5.0,4.0,4.0,4.0,6.0,6.0,6.0,6.0,5.0,4.0,4.0,5.0,6.0,5.0,4.0,3.0,0.0,0.0,0.0,0.0,1.0,1.0,1.0,1.0,2.0,3.0,3.0,2.0,2.0,2.0,3.0,3.0,3.0,2.0,2.0,1.0,1.0,0.0,0.0,0.0],[0.0,1.0,2.0,3.0,4.0,4.0,4.0,4.0,5.0,6.0,6.0,5.0,5.0,5.0,6.0,6.0,6.0,6.0,5.0,4.0,4.0,5.0,6.0,5.0,4.0,3.0,0.0,0.0,0.0,0.0,1.0,1.0,1.0,1.0,2.0,3.0,3.0,2.0,2.0,2.0,3.0,3.0,3.0,2.0,2.0,1.0,1.0,0.0,0.0,0.0],[0.0,1.0,2.0,3.0,4.0,4.0,4.0,4.0,5.0,6.0,6.0,5.0,5.0,5.0,6.0,6.0,6.0,6.0,5.0,4.0,4.0,5.0,6.0,5.0,4.0,3.0,0.0,0.0,0.0,0.0,1.0,1.0,1.0,1.0,2.0,3.0,3.0,2.0,2.0,2.0,3.0,3.0,3.0,2.0,2.0,1.0,1.0,0.0,0.0,0.0],[0.0,1.0,2.0,3.0,4.0,4.0,4.0,4.0,5.0,5.0,5.0,5.0,6.0,6.0,6.0,6.0,6.0,6.0,5.0,4.0,4.0,5.0,6.0,5.0,4.0,3.0,0.0,0.0,0.0,0.0,1.0,1.0,1.0,1.0,2.0,3.0,3.0,2.0,2.0,2.0,3.0,3.0,3.0,2.0,2.0,1.0,1.0,0.0,0.0,0.0],[0.0,1.0,2.0,3.0,4.0,4.0,4.0,4.0,5.0,5.0,5.0,5.0,6.0,6.0,6.0,6.0,5.0,4.0,4.0,5.0,6.0,6.0,6.0,5.0,4.0,3.0,0.0,0.0,0.0,0.0,1.0,1.0,1.0,1.0,2.0,3.0,3.0,2.0,2.0,2.0,3.0,3.0,3.0,2.0,2.0,1.0,1.0,0.0,0.0,0.0],[0.0,1.0,2.0,3.0,4.0,4.0,4.0,4.0,5.0,5.0,5.0,5.0,6.0,6.0,6.0,6.0,6.0,6.0,6.0,5.0,4.0,4.0,5.0,5.0,4.0,3.0,0.0,0.0,0.0,0.0,1.0,1.0,1.0,1.0,2.0,3.0,3.0,2.0,2.0,2.0,3.0,3.0,3.0,2.0,2.0,1.0,1.0,0.0,0.0,0.0],[0.0,1.0,2.0,3.0,4.0,4.0,4.0,4.0,5.0,5.0,5.0,5.0,6.0,6.0,6.0,6.0,6.0,6.0,6.0,5.0,4.0,4.0,5.0,5.0,4.0,3.0,1.0,0.0,0.0,0.0,0.0,1.0,1.0,1.0,2.0,3.0,3.0,2.0,2.0,2.0,3.0,3.0,3.0,2.0,2.0,1.0,1.0,0.0,0.0,0.0],[0.0,1.0,2.0,3.0,4.0,4.0,4.0,4.0,5.0,5.0,5.0,5.0,6.0,6.0,6.0,6.0,6.0,6.0,6.0,5.0,4.0,4.0,5.0,5.0,4.0,3.0,2.0,3.0,3.0,2.0,1.0,1.0,1.0,0.0,0.0,0.0,0.0,1.0,2.0,2.0,3.0,3.0,3.0,2.0,2.0,1.0,1.0,0.0,0.0,0.0],[0.0,1.0,2.0,3.0,4.0,4.0,4.0,4.0,5.0,5.0,5.0,5.0,6.0,6.0,6.0,6.0,6.0,6.0,6.0,5.0,4.0,4.0,5.0,5.0,4.0,3.0,2.0,3.0,3.0,2.0,1.0,1.0,1.0,0.0,0.0,0.0,0.0,1.0,2.0,2.0,3.0,3.0,3.0,2.0,2.0,1.0,0.0,0.0,1.0,0.0]]},\"selected\":{\"id\":\"6261\"},\"selection_policy\":{\"id\":\"6260\"}},\"id\":\"6215\",\"type\":\"ColumnDataSource\"},{\"attributes\":{\"data\":{\"x\":[0.0,0.0,0.0,0.0,0.0,0.0,0.0,1.0,1.0,1.0,1.0,1.0,1.0,1.0,2.0,2.0,2.0,2.0,2.0,2.0,2.0,3.0,3.0,3.0,3.0,3.0,3.0,3.0,4.0,4.0,4.0,4.0,4.0,4.0,4.0,5.0,5.0,5.0,5.0,5.0,5.0,5.0,6.0,6.0,6.0,6.0,6.0,6.0,6.0],\"y\":[0.0,1.0,2.0,3.0,4.0,5.0,6.0,0.0,1.0,2.0,3.0,4.0,5.0,6.0,0.0,1.0,2.0,3.0,4.0,5.0,6.0,0.0,1.0,2.0,3.0,4.0,5.0,6.0,0.0,1.0,2.0,3.0,4.0,5.0,6.0,0.0,1.0,2.0,3.0,4.0,5.0,6.0,0.0,1.0,2.0,3.0,4.0,5.0,6.0]},\"selected\":{\"id\":\"6255\"},\"selection_policy\":{\"id\":\"6254\"}},\"id\":\"6234\",\"type\":\"ColumnDataSource\"},{\"attributes\":{},\"id\":\"6248\",\"type\":\"BasicTickFormatter\"},{\"attributes\":{\"data\":{\"edges_x\":[0.0,0.0,0.0,1.0,1.0,2.0,3.0,3.0,4.0,5.0,5.0,6.0,6.0,6.0,5.0,4.0,3.0,3.0,4.0,5.0,6.0,4.0,4.0,4.0,4.0,3.0,2.0,2.0,1.0,0.0,0.0,0.0,1.0,2.0,3.0,3.0,5.0,5.0,6.0,6.0,6.0,5.0,1.0,0.0,2.0,2.0,1.0,1.0,2.0,0.0],\"edges_y\":[0.0,1.0,2.0,2.0,3.0,3.0,3.0,2.0,2.0,2.0,3.0,3.0,2.0,1.0,1.0,1.0,1.0,0.0,0.0,0.0,0.0,3.0,4.0,5.0,6.0,6.0,6.0,5.0,5.0,5.0,4.0,3.0,4.0,4.0,4.0,5.0,5.0,4.0,4.0,5.0,6.0,6.0,6.0,6.0,2.0,1.0,1.0,0.0,0.0,0.0]},\"selected\":{\"id\":\"6251\"},\"selection_policy\":{\"id\":\"6250\"}},\"id\":\"6216\",\"type\":\"ColumnDataSource\"},{\"attributes\":{\"formatter\":{\"id\":\"6246\"},\"ticker\":{\"id\":\"6194\"},\"visible\":false},\"id\":\"6193\",\"type\":\"LinearAxis\"},{\"attributes\":{},\"id\":\"6250\",\"type\":\"UnionRenderers\"},{\"attributes\":{\"data\":{\"swaps_after_x\":[[[0.0,0.0],[1.0,2.0]],[[0.0,1.0],[0.0,0.0]],[[0.0,0.0],[1.0,0.0]],[[0.0,1.0],[0.0,0.0]],[[3.0,3.0],[5.0,4.0]],[[0.0,0.0],[1.0,0.0]],[[0.0,1.0],[0.0,0.0]],[[3.0,1.0],[3.0,5.0]],[[3.0,2.0],[1.0,2.0]],[[3.0,5.0],[5.0,4.0]],[[3.0,4.0],[5.0,4.0]],[[4.0,3.0],[6.0,4.0]],[[4.0,5.0],[3.0,4.0]],[[2.0,2.0],[1.0,0.0]]],\"swaps_after_y\":[[[2.0,6.0],[2.0,2.0]],[[2.0,4.0],[6.0,3.0]],[[2.0,3.0],[4.0,4.0]],[[3.0,4.0],[6.0,4.0]],[[5.0,6.0],[5.0,6.0]],[[3.0,4.0],[4.0,6.0]],[[4.0,4.0],[5.0,6.0]],[[5.0,6.0],[6.0,6.0]],[[5.0,5.0],[6.0,6.0]],[[6.0,5.0],[6.0,6.0]],[[6.0,6.0],[5.0,5.0]],[[3.0,1.0],[0.0,1.0]],[[3.0,2.0],[1.0,2.0]],[[1.0,0.0],[1.0,0.0]]],\"swaps_before_x\":[[[0.0,1.0],[0.0,2.0]],[[0.0,0.0],[1.0,0.0]],[[0.0,1.0],[0.0,0.0]],[[0.0,0.0],[1.0,0.0]],[[3.0,5.0],[3.0,4.0]],[[0.0,1.0],[0.0,0.0]],[[0.0,0.0],[1.0,0.0]],[[3.0,3.0],[1.0,5.0]],[[3.0,1.0],[2.0,2.0]],[[3.0,5.0],[5.0,4.0]],[[3.0,5.0],[4.0,4.0]],[[4.0,6.0],[3.0,4.0]],[[4.0,3.0],[5.0,4.0]],[[2.0,1.0],[2.0,0.0]]],\"swaps_before_y\":[[[2.0,2.0],[6.0,2.0]],[[2.0,6.0],[4.0,3.0]],[[2.0,4.0],[3.0,4.0]],[[3.0,6.0],[4.0,4.0]],[[5.0,5.0],[6.0,6.0]],[[3.0,4.0],[4.0,6.0]],[[4.0,5.0],[4.0,6.0]],[[5.0,6.0],[6.0,6.0]],[[5.0,6.0],[5.0,6.0]],[[6.0,6.0],[5.0,6.0]],[[6.0,5.0],[6.0,5.0]],[[3.0,0.0],[1.0,1.0]],[[3.0,1.0],[2.0,2.0]],[[1.0,1.0],[0.0,0.0]]]},\"selected\":{\"id\":\"6263\"},\"selection_policy\":{\"id\":\"6262\"}},\"id\":\"6217\",\"type\":\"ColumnDataSource\"},{\"attributes\":{},\"id\":\"6194\",\"type\":\"BasicTicker\"},{\"attributes\":{},\"id\":\"6251\",\"type\":\"Selection\"},{\"attributes\":{\"background_fill_color\":null,\"below\":[{\"id\":\"6189\"}],\"border_fill_color\":null,\"center\":[{\"id\":\"6192\"},{\"id\":\"6196\"}],\"left\":[{\"id\":\"6193\"}],\"outline_line_color\":null,\"plot_height\":400,\"plot_width\":400,\"renderers\":[{\"id\":\"6222\"},{\"id\":\"6227\"},{\"id\":\"6232\"},{\"id\":\"6237\"}],\"title\":{\"id\":\"6179\"},\"toolbar\":{\"id\":\"6204\"},\"toolbar_location\":null,\"x_range\":{\"id\":\"6181\"},\"x_scale\":{\"id\":\"6185\"},\"y_range\":{\"id\":\"6183\"},\"y_scale\":{\"id\":\"6187\"}},\"id\":\"6178\",\"subtype\":\"Figure\",\"type\":\"Plot\"},{\"attributes\":{\"axis\":{\"id\":\"6193\"},\"dimension\":1,\"grid_line_color\":null,\"ticker\":null},\"id\":\"6196\",\"type\":\"Grid\"},{\"attributes\":{\"data\":{\"swaps_after_x\":[[0.0,0.0],[1.0,2.0]],\"swaps_after_y\":[[2.0,6.0],[2.0,2.0]],\"swaps_before_x\":[[0.0,1.0],[0.0,2.0]],\"swaps_before_y\":[[2.0,2.0],[6.0,2.0]]},\"selected\":{\"id\":\"6253\"},\"selection_policy\":{\"id\":\"6252\"}},\"id\":\"6218\",\"type\":\"ColumnDataSource\"},{\"attributes\":{},\"id\":\"6252\",\"type\":\"UnionRenderers\"},{\"attributes\":{\"line_alpha\":{\"value\":0.1},\"line_color\":{\"value\":\"red\"},\"line_width\":{\"value\":4},\"xs\":{\"field\":\"swaps_before_x\"},\"ys\":{\"field\":\"swaps_before_y\"}},\"id\":\"6226\",\"type\":\"MultiLine\"},{\"attributes\":{\"text\":\"\"},\"id\":\"6179\",\"type\":\"Title\"},{\"attributes\":{\"align\":\"center\",\"text\":\"0\",\"width\":400},\"id\":\"6214\",\"type\":\"Div\"},{\"attributes\":{\"align\":\"center\",\"text\":\"60.49190079283666\",\"width\":350},\"id\":\"6212\",\"type\":\"Div\"},{\"attributes\":{},\"id\":\"6253\",\"type\":\"Selection\"},{\"attributes\":{\"align\":\"center\",\"width\":300},\"id\":\"6213\",\"type\":\"Div\"},{\"attributes\":{\"data_source\":{\"id\":\"6218\"},\"glyph\":{\"id\":\"6225\"},\"hover_glyph\":null,\"muted_glyph\":null,\"nonselection_glyph\":{\"id\":\"6226\"},\"selection_glyph\":null,\"view\":{\"id\":\"6228\"}},\"id\":\"6227\",\"type\":\"GlyphRenderer\"},{\"attributes\":{},\"id\":\"6254\",\"type\":\"UnionRenderers\"},{\"attributes\":{\"source\":{\"id\":\"6218\"}},\"id\":\"6228\",\"type\":\"CDSView\"},{\"attributes\":{},\"id\":\"6197\",\"type\":\"PanTool\"},{\"attributes\":{},\"id\":\"6255\",\"type\":\"Selection\"},{\"attributes\":{\"fill_color\":{\"value\":\"steelblue\"},\"line_color\":{\"value\":\"steelblue\"},\"size\":{\"units\":\"screen\",\"value\":8},\"x\":{\"field\":\"x\"},\"y\":{\"field\":\"y\"}},\"id\":\"6235\",\"type\":\"Circle\"},{\"attributes\":{\"args\":{\"cost\":{\"id\":\"6212\"},\"done\":{\"id\":\"6213\"},\"n\":{\"id\":\"6214\"},\"source\":{\"id\":\"6215\"},\"swaps\":{\"id\":\"6218\"},\"swaps_source\":{\"id\":\"6217\"},\"tour\":{\"id\":\"6216\"}},\"code\":\"\\n    if ((parseInt(n.text) + 1) < source.data['edges_y'].length) {\\n        n.text = (parseInt(n.text) + 1).toString()\\n    }\\n    var iteration = parseInt(n.text)\\n    \\n    cost.text = source.data['costs'][iteration].toFixed(3)\\n    \\n    if (iteration == source.data['edges_y'].length - 1) {\\n        done.text = \\\"done.\\\"\\n        swaps.data['swaps_before_x'] = [[]]\\n        swaps.data['swaps_before_y'] = [[]]\\n        swaps.data['swaps_after_x'] = [[]]\\n        swaps.data['swaps_after_y'] = [[]]\\n    } else {\\n        done.text = \\\"\\\"\\n        swaps.data['swaps_before_x'] = swaps_source.data['swaps_before_x'][iteration]\\n        swaps.data['swaps_before_y'] = swaps_source.data['swaps_before_y'][iteration]\\n        swaps.data['swaps_after_x'] = swaps_source.data['swaps_after_x'][iteration]\\n        swaps.data['swaps_after_y'] = swaps_source.data['swaps_after_y'][iteration]\\n    }\\n\\n    tour.data['edges_x'] = source.data['edges_x'][iteration]\\n    tour.data['edges_y'] = source.data['edges_y'][iteration]\\n    tour.change.emit()\\n    swaps.change.emit()\\n    \"},\"id\":\"6240\",\"type\":\"CustomJS\"},{\"attributes\":{},\"id\":\"6198\",\"type\":\"WheelZoomTool\"},{\"attributes\":{},\"id\":\"6260\",\"type\":\"UnionRenderers\"},{\"attributes\":{},\"id\":\"6262\",\"type\":\"UnionRenderers\"},{\"attributes\":{\"line_color\":{\"value\":\"#90D7F6\"},\"line_width\":{\"value\":4},\"xs\":{\"field\":\"swaps_after_x\"},\"ys\":{\"field\":\"swaps_after_y\"}},\"id\":\"6230\",\"type\":\"MultiLine\"},{\"attributes\":{\"overlay\":{\"id\":\"6203\"}},\"id\":\"6199\",\"type\":\"BoxZoomTool\"},{\"attributes\":{},\"id\":\"6261\",\"type\":\"Selection\"},{\"attributes\":{\"line_alpha\":{\"value\":0.1},\"line_color\":{\"value\":\"#90D7F6\"},\"line_width\":{\"value\":4},\"xs\":{\"field\":\"swaps_after_x\"},\"ys\":{\"field\":\"swaps_after_y\"}},\"id\":\"6231\",\"type\":\"MultiLine\"},{\"attributes\":{},\"id\":\"6200\",\"type\":\"SaveTool\"}],\"root_ids\":[\"6266\"]},\"title\":\"Bokeh Application\",\"version\":\"2.1.0\"}};\n",
       "  var render_items = [{\"docid\":\"7f78953b-8406-4480-96e2-298dd98d65d6\",\"root_ids\":[\"6266\"],\"roots\":{\"6266\":\"ae37ff89-1982-4cde-b516-848257311815\"}}];\n",
       "  root.Bokeh.embed.embed_items_notebook(docs_json, render_items);\n",
       "\n",
       "  }\n",
       "  if (root.Bokeh !== undefined) {\n",
       "    embed_document(root);\n",
       "  } else {\n",
       "    var attempts = 0;\n",
       "    var timer = setInterval(function(root) {\n",
       "      if (root.Bokeh !== undefined) {\n",
       "        clearInterval(timer);\n",
       "        embed_document(root);\n",
       "      } else {\n",
       "        attempts++;\n",
       "        if (attempts > 100) {\n",
       "          clearInterval(timer);\n",
       "          console.log(\"Bokeh: ERROR: Unable to run BokehJS code because BokehJS library is missing\");\n",
       "        }\n",
       "      }\n",
       "    }, 10, root)\n",
       "  }\n",
       "})(window);"
      ],
      "application/vnd.bokehjs_exec.v0+json": ""
     },
     "metadata": {
      "application/vnd.bokehjs_exec.v0+json": {
       "id": "6266"
      }
     },
     "output_type": "display_data"
    }
   ],
   "source": [
    "# 2-OPT\n",
    "nodes, G = tsp_grid_instance(7,7,manhattan=False)\n",
    "tour = plot_tsp_heuristic(nodes, G, heuristic='nearest_neighbor', initial=0)\n",
    "tour = plot_two_opt(nodes, G, tour)"
   ]
  }
 ],
 "metadata": {
  "kernelspec": {
   "display_name": "Python 3",
   "language": "python",
   "name": "python3"
  },
  "language_info": {
   "codemirror_mode": {
    "name": "ipython",
    "version": 3
   },
   "file_extension": ".py",
   "mimetype": "text/x-python",
   "name": "python",
   "nbconvert_exporter": "python",
   "pygments_lexer": "ipython3",
   "version": "3.6.10"
  }
 },
 "nbformat": 4,
 "nbformat_minor": 4
}
