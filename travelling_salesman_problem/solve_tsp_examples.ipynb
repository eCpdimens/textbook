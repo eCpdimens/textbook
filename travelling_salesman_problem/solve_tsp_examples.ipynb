{
 "cells": [
  {
   "cell_type": "code",
   "execution_count": 1,
   "metadata": {},
   "outputs": [],
   "source": [
    "# imports\n",
    "import pandas as pd\n",
    "import pickle\n",
    "from tsp import tsp_grid_instance\n",
    "from concorde.tsp import TSPSolver # requires pyconcorde and mac\n",
    "import concorde"
   ]
  },
  {
   "cell_type": "code",
   "execution_count": 2,
   "metadata": {},
   "outputs": [],
   "source": [
    "# Multiply by 1000 because EUC_2D rounds to nearest integer\n",
    "grid6x6 = tsp_grid_instance(6,6,manhattan=False)[0]*1000\n",
    "us_cities_23 = pd.read_csv('data/us_cities_23.csv', index_col=0)*1000\n",
    "xqf131 = pd.read_csv('data/xqf131.csv', index_col=0)*1000\n",
    "pcb442 = pd.read_csv('data/pcb442.csv', index_col=0)*1000"
   ]
  },
  {
   "cell_type": "code",
   "execution_count": 3,
   "metadata": {},
   "outputs": [],
   "source": [
    "solver = TSPSolver.from_data(list(grid6x6.x), list(grid6x6.y), norm='EUC_2D')\n",
    "grid6x6_tour = list(solver.solve().tour)\n",
    "grid6x6_tour.append(grid6x6_tour[0])\n",
    "\n",
    "solver = TSPSolver.from_data(list(us_cities_23.x), list(us_cities_23.y), norm='EUC_2D')\n",
    "us_cities_23_tour = list(solver.solve().tour)\n",
    "us_cities_23_tour.append(us_cities_23_tour[0])\n",
    "\n",
    "solver = TSPSolver.from_data(list(xqf131.x), list(xqf131.y), norm='EUC_2D')\n",
    "xqf131_tour = list(solver.solve().tour)\n",
    "xqf131_tour.append(xqf131_tour[0])\n",
    "\n",
    "solver = TSPSolver.from_data(list(pcb442.x), list(pcb442.y), norm='EUC_2D')\n",
    "pcb442_tour = list(solver.solve().tour)\n",
    "pcb442_tour.append(pcb442_tour[0])"
   ]
  },
  {
   "cell_type": "code",
   "execution_count": 4,
   "metadata": {},
   "outputs": [],
   "source": [
    "optimal_tours = {}\n",
    "optimal_tours['6x6_grid'] = grid6x6_tour\n",
    "optimal_tours['us_cities_23'] = us_cities_23_tour\n",
    "optimal_tours['xqf131'] = xqf131_tour\n",
    "optimal_tours['pcb442'] = pcb442_tour"
   ]
  },
  {
   "cell_type": "code",
   "execution_count": 5,
   "metadata": {},
   "outputs": [],
   "source": [
    "with open('data/optimal_tours.pickle', 'wb') as f:\n",
    "    pickle.dump(optimal_tours, f)"
   ]
  }
 ],
 "metadata": {
  "kernelspec": {
   "display_name": "Python 3",
   "language": "python",
   "name": "python3"
  },
  "language_info": {
   "codemirror_mode": {
    "name": "ipython",
    "version": 3
   },
   "file_extension": ".py",
   "mimetype": "text/x-python",
   "name": "python",
   "nbconvert_exporter": "python",
   "pygments_lexer": "ipython3",
   "version": "3.6.10"
  }
 },
 "nbformat": 4,
 "nbformat_minor": 4
}
