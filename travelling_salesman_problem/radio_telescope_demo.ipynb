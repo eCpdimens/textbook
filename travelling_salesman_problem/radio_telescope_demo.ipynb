{
 "cells": [
  {
   "cell_type": "markdown",
   "metadata": {
    "colab_type": "text",
    "id": "WIaECvNClCIt"
   },
   "source": [
    "## Jupyter Notebook Introduction"
   ]
  },
  {
   "cell_type": "markdown",
   "metadata": {
    "colab_type": "text",
    "id": "_u6uK4WAlCIu"
   },
   "source": [
    "Jupyter Notebooks allow us to run snippets of Python Code in the browser."
   ]
  },
  {
   "cell_type": "code",
   "execution_count": null,
   "metadata": {
    "colab": {},
    "colab_type": "code",
    "executionInfo": {
     "elapsed": 472,
     "status": "ok",
     "timestamp": 1599146841704,
     "user": {
      "displayName": "Henry Robbins",
      "photoUrl": "https://lh3.googleusercontent.com/a-/AOh14Ghtkb6M9fIsluoA-_wBCXDiUPtMiNtO8H-5qVDp=s64",
      "userId": "05043322743269013376"
     },
     "user_tz": 240
    },
    "id": "aSPwYbt_lCIv"
   },
   "outputs": [],
   "source": [
    "# This is a comment in a Cell"
   ]
  },
  {
   "cell_type": "code",
   "execution_count": null,
   "metadata": {
    "colab": {
     "base_uri": "https://localhost:8080/",
     "height": 34
    },
    "colab_type": "code",
    "executionInfo": {
     "elapsed": 467,
     "status": "ok",
     "timestamp": 1599146841705,
     "user": {
      "displayName": "Henry Robbins",
      "photoUrl": "https://lh3.googleusercontent.com/a-/AOh14Ghtkb6M9fIsluoA-_wBCXDiUPtMiNtO8H-5qVDp=s64",
      "userId": "05043322743269013376"
     },
     "user_tz": 240
    },
    "id": "Kg4TeNiJlCIz",
    "outputId": "d9c1d2c1-27cb-4359-fda0-c55f87b24efc"
   },
   "outputs": [],
   "source": [
    "string = 'Hello World!'"
   ]
  },
  {
   "cell_type": "markdown",
   "metadata": {
    "colab_type": "text",
    "id": "_dwAX6_vlCI2"
   },
   "source": [
    "We can also have cells with text in them like this one. This is called a Markdown cell. We can **bold**, *italicize*, create equations $2x_1 + 3x_2 = 10$, and more."
   ]
  },
  {
   "cell_type": "markdown",
   "metadata": {
    "colab_type": "text",
    "id": "TBIcPwO6lCI2"
   },
   "source": [
    "## Import Python Packages"
   ]
  },
  {
   "cell_type": "code",
   "execution_count": null,
   "metadata": {
    "colab": {},
    "colab_type": "code",
    "id": "1YlU6Rq8lCI3"
   },
   "outputs": [],
   "source": [
    "import numpy as np # Array processing for numbers, strings, records, and objects\n",
    "import pandas as pd # High-performance, easy-to-use data structures and data analysis tools\n",
    "from concorde.tsp import TSPSolver # Python wrapper for the Concorde TSP solver\n",
    "import matplotlib.pyplot as plt # Publication quality figures in python"
   ]
  },
  {
   "cell_type": "markdown",
   "metadata": {},
   "source": [
    "Note: Must have a Mac and have pyconcorde installed"
   ]
  },
  {
   "cell_type": "markdown",
   "metadata": {
    "colab_type": "text",
    "id": "ignA3CQOlCI6"
   },
   "source": [
    "## Reading and Manipulating Dataframes"
   ]
  },
  {
   "cell_type": "code",
   "execution_count": null,
   "metadata": {
    "colab": {},
    "colab_type": "code",
    "id": "hMR2QXMslCI6"
   },
   "outputs": [],
   "source": [
    "data = pd.read_csv('hygdata_v3.csv').set_index('id') # read a CSV file\n",
    "data.head()"
   ]
  },
  {
   "cell_type": "code",
   "execution_count": null,
   "metadata": {
    "colab": {},
    "colab_type": "code",
    "id": "1G-6nGeDlCI9"
   },
   "outputs": [],
   "source": [
    "# clean the dataframe to only include fields I am interested in\n",
    "data = data[~data['proper'].isna()][['proper', 'dist', 'ra', 'dec', 'pmra', 'pmdec']].dropna()\n",
    "data.head()"
   ]
  },
  {
   "cell_type": "code",
   "execution_count": null,
   "metadata": {
    "colab": {},
    "colab_type": "code",
    "id": "k8oVnM4RlCJB"
   },
   "outputs": [],
   "source": [
    "# unit conversions\n",
    "data['dist'] = data['dist'].apply(lambda x: x*3.262) # convert from parsecs to lightyears\n",
    "data['ra'] = data['ra'].apply(lambda x: x*15) # convert from hours to degrees \n",
    "data['pmra'] = data['pmra'].apply(lambda x: x*2.7777776630942*10**(-7)) # convert to degrees per year\n",
    "data['pmdec'] = data['pmdec'].apply(lambda x: x*2.7777776630942*10**(-7)) # convert to degrees per year\n",
    "\n",
    "# rename fields\n",
    "data = data.rename(columns={'ra' : 'ra_2000', 'dec' : 'dec_2000'})\n",
    "\n",
    "# calcualte 2020 right ascension and declination\n",
    "data['ra_2020'] = data['ra_2000'] + 20*data['pmra']\n",
    "data['dec_2020'] = data['dec_2000'] + 20*data['pmdec']"
   ]
  },
  {
   "cell_type": "markdown",
   "metadata": {
    "colab_type": "text",
    "id": "3ESNoxHIlCJE"
   },
   "source": [
    "## Visualizations"
   ]
  },
  {
   "cell_type": "code",
   "execution_count": null,
   "metadata": {
    "colab": {},
    "colab_type": "code",
    "id": "aWAZjrr9lCJE"
   },
   "outputs": [],
   "source": [
    "# generate a visualization of the star locations\n",
    "plt.figure(figsize=(20,10))\n",
    "ax = plt.axes()\n",
    "ax.set_facecolor('black')\n",
    "plt.scatter(data.ra_2020,data.dec_2020, marker='*', color='white', s=70)\n",
    "for index, row in data.iterrows():\n",
    "    plt.annotate(row['proper'], \n",
    "                 (row['ra_2020'],row['dec_2020']),\n",
    "                 textcoords=\"offset points\", \n",
    "                 xytext=(5,10),\n",
    "                 color= 'white',\n",
    "                 ha='center')\n",
    "plt.title('The Locations of 146 Stars', fontsize= 20)\n",
    "plt.xlabel('Right Ascension (Degrees)', fontsize= 15)\n",
    "plt.ylabel('Declination (Degrees)', fontsize= 15)\n",
    "plt.show()"
   ]
  },
  {
   "cell_type": "markdown",
   "metadata": {
    "colab_type": "text",
    "id": "pMJ9mk8KlCJH"
   },
   "source": [
    "## Solving the TSP Instance"
   ]
  },
  {
   "cell_type": "code",
   "execution_count": null,
   "metadata": {
    "colab": {},
    "colab_type": "code",
    "id": "1oivENE0lCJI"
   },
   "outputs": [],
   "source": [
    "#list(data.ra_2020)\n",
    "#list(data.dec_2020)"
   ]
  },
  {
   "cell_type": "code",
   "execution_count": null,
   "metadata": {
    "colab": {},
    "colab_type": "code",
    "id": "jnnN9BWKlCJK",
    "scrolled": true
   },
   "outputs": [],
   "source": [
    "solver = TSPSolver.from_data(list(data.ra_2020), list(data.dec_2020), norm='GEO')\n",
    "solver.solve()\n",
    "#tour = solver.solve().tour"
   ]
  },
  {
   "cell_type": "code",
   "execution_count": null,
   "metadata": {
    "colab": {},
    "colab_type": "code",
    "id": "L_rjrP7MlCJN"
   },
   "outputs": [],
   "source": [
    "# Generate scatter plot of star locations\n",
    "plt.figure(figsize=(20,10))\n",
    "ax = plt.axes()\n",
    "ax.set_facecolor('black')\n",
    "plt.scatter(data.ra_2020,data.dec_2020, marker='*', color='white', s=70)\n",
    "for index, row in data.iterrows():\n",
    "    plt.annotate(row['proper'], \n",
    "                 (row['ra_2020'],row['dec_2020']),\n",
    "                 textcoords=\"offset points\", \n",
    "                 xytext=(5,10),\n",
    "                 color= 'white',\n",
    "                 ha='center')\n",
    "    \n",
    "# Add path through these stars\n",
    "tour_proper = [data.iloc[i].proper for i in tour]\n",
    "tour_proper.append(tour_proper[0])\n",
    "tour_ra = [data[data.proper == proper].ra_2020.to_list()[0] for proper in tour_proper]\n",
    "tour_dec = [data[data.proper == proper].dec_2020.to_list()[0] for proper in tour_proper]\n",
    "plt.plot(tour_ra, tour_dec, color='white')\n",
    "\n",
    "# Set axes titles and display\n",
    "plt.title('An Optimal Tour of 146 Stars', fontsize= 20)\n",
    "plt.xlabel('Right Ascension (Degrees)', fontsize= 15)\n",
    "plt.ylabel('Declination (Degrees)', fontsize= 15)\n",
    "plt.show()"
   ]
  }
 ],
 "metadata": {
  "colab": {
   "name": "Jupyter Notebook Demo.ipynb",
   "provenance": []
  },
  "kernelspec": {
   "display_name": "Python 3",
   "language": "python",
   "name": "python3"
  },
  "language_info": {
   "codemirror_mode": {
    "name": "ipython",
    "version": 3
   },
   "file_extension": ".py",
   "mimetype": "text/x-python",
   "name": "python",
   "nbconvert_exporter": "python",
   "pygments_lexer": "ipython3",
   "version": "3.7.7"
  }
 },
 "nbformat": 4,
 "nbformat_minor": 1
}
