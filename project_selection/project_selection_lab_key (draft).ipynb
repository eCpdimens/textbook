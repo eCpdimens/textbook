{
 "cells": [
  {
   "cell_type": "markdown",
   "id": "e8e14fa6",
   "metadata": {},
   "source": [
    "# Min Cut Lab\n",
    "**Objectives:**\n",
    "- qqq\n",
    "    - qqq\n",
    "    - qqq"
   ]
  },
  {
   "cell_type": "markdown",
   "id": "c3e05ee1",
   "metadata": {},
   "source": [
    "## Project Selection Problem\n",
    "Here we provide a walkthrough of the Tool Selection problem (sometimes known as the Tool Selection problem), which we will then cleverly reduce to a min-cut instance where the cut defines the optimal set of projects we want to select. This problem is often used to help companies determine which projects they should take on in order to maximize their total profit given that they know the costs and rewards of completing each project, and there are overlapping costs between some of the projects.\n",
    "\n",
    "The problem is as follows: suppose you have a set of projects $p_1, p_2, ..., p_n$ and a set of tools $t_1, t_2, ..., t_m$. Each project $p_i$ has with it an associated reward/benefit for completing it $b_i$ and a set of tools that it depends on in order to be completed $D_i$. Each tool $t_j$ has an associated cost for acquiring it $c_j$, but once acquired, can be used an infinite amount of times. We can imagine the tools, for example, to be various software that we need to purchase licenses for to be used in certain projects. Let's denote the set of projects we end up taking as $P$ and the set of tools we buy as $T$.\n",
    "\n",
    "The goal here is that we want to maximize the profit that we earn. That is, we want to maximize the total benefit we get from the projects we take minus the total cost we have to endure in order to do those projects. Here's what that looks like if we turn it into an objective function: *maximize* $\\sum_{p_i \\in P}^{} b_i - \\sum_{t_i \\in T}^{} c_i$\n",
    "\n",
    "Upon first glance, you might think \"well, this is a maximization problem so if I were to turn it into some instance of a network flow problem, I would probably try max flow first.\" Take a moment to think about how you might model that... tricky right? Unfortunately for us, even though the objective function the problem defines for us seems to neatly fit into a max-flow model, there actually isn't any immediately clear way to model it in that way. So, we need to make a clever change to our objective function to expand the options we have for modeling this problem, and we'll do so by turning it into a minimization function."
   ]
  },
  {
   "cell_type": "markdown",
   "id": "80edc393",
   "metadata": {},
   "source": [
    "**Q:** Rewrite *maximize* $\\sum_{p_i \\in P}^{} b_i - \\sum_{t_i \\in T}^{} c_i$ as a minimization function.\n",
    "\n",
    "**A:** <font color='blue'> *minimize* $-\\sum_{p_i \\in P}^{} b_i + \\sum_{t_i \\in T}^{} c_i$ </font>"
   ]
  },
  {
   "cell_type": "markdown",
   "id": "1fd8d2a3",
   "metadata": {},
   "source": [
    "If we denote the entire set of potential projects as $S$ and the set of projects we don't choose as $\\overline{P}$, we can write an equation for the total benefit of taking all the projects as a sum of the benefits of projects we take and projects we do not take.\n",
    "\n",
    "**Q:** Write an equation for $\\sum_{p_i \\in S}^{} b_i$ using summations over $p_i \\in P$ and $p_i \\in \\overline{P}$.\n",
    "\n",
    "**A:** <font color='blue'> $\\sum_{p_i \\in S}^{} b_i = \\sum_{p_i \\in P}^{} b_i + \\sum_{p_i \\in \\overline{P}}^{} b_i$ </font>"
   ]
  },
  {
   "cell_type": "markdown",
   "id": "5a8e4613",
   "metadata": {},
   "source": [
    "**Q:** Now replace the term $\\sum_{p_i \\in P}^{} b_i$ in the minimization function using the equation you just wrote in the previous question. (You'll most likely have to shift some terms around)\n",
    "\n",
    "**A:** <font color='blue'> *minimize* $-\\sum_{p_i \\in S}^{} b_i - \\sum_{p_i \\in \\overline{P}}^{} b_i + \\sum_{t_i \\in T}^{} c_i$ \n",
    " (because $\\sum_{p_i \\in P}^{} b_i = \\sum_{p_i \\in S}^{} b_i - \\sum_{p_i \\in \\overline{P}}^{} b_i$) </font>"
   ]
  },
  {
   "cell_type": "markdown",
   "id": "c292560f",
   "metadata": {},
   "source": [
    "You should have gotten a function in terms of sums over $S$, $\\overline{P}$, and $T$. In particular, there should be the term  $\\sum_{p_i \\in S}^{} b_i$. Note that because this is a constant, it will affect our objective function the same way in any solution we find, so we can remove it from our objective function completely without changing the optimality of our solution.\n",
    "\n",
    "**Q:** Rewrite the objective function with the constant term removed. Hint: it should be contain two summations.\n",
    "\n",
    "**A:** <font color='blue'> *minimize* $\\sum_{p_i \\in \\overline{P}}^{} b_i + \\sum_{t_i \\in T}^{} c_i$ </font>"
   ]
  },
  {
   "cell_type": "markdown",
   "id": "cc0beb26",
   "metadata": {},
   "source": [
    "**Q:** Write out in English the meaning behind the function you got in the previous question.\n",
    "\n",
    "**A:** <font color='blue'> minimize the sum of benefits from projects we do not take on plus the sum of the costs of tools we buy </font>"
   ]
  },
  {
   "cell_type": "markdown",
   "id": "aa82c36d",
   "metadata": {},
   "source": [
    "How can we interpret this new objective function? We can think of it as minimizing the opportunity cost of projects we don't take on, that is the benefit we are giving up by choosing not to complete a certain project, along with the cost of buying tools to complete the projects we do choose. Hopefully, at this point you can see how this helps us acheive our original goal of maximizing profit.\n",
    "\n",
    "Now, it's starting to look more intuitive that we might be able to produce a min-cut instance from this problem, so let's start walking through how we might go about our model. In a normal min-cut instance, we have capacities on every edge and the capacities of edges leaving the cut we choose contribute to the objective function value (which as a reminder was *minimize* $\\sum_{i \\in S, j \\in T}^{} c_{i,j}$).\n",
    "\n",
    "**Q:** Based on the parallels between objective functions, what do you think we should use for the capacities of edges in our network flow graph?\n",
    "\n",
    "**A:** <font color='blue'> the benefits of projects and the costs of tools </font>"
   ]
  },
  {
   "cell_type": "markdown",
   "id": "98b137c0",
   "metadata": {},
   "source": [
    "Now let's start to put our network flow graph together. Hopefully in the previous question, you wrote something that assigns capacities depending on whether we're looking at a project or a tool. This suggests that in our network, we want to at least have a node for each project and each tool (along with a source and a sink which we'll add toward the end). Let's use that idea and experiment with the different ways we can add edges and corresponding capacities.\n",
    "\n",
    "Let's first look at assigning those capacities to outgoing edges of both project and tool nodes. Remember that only edges leaving the cut, starting inside and ending outside, contribute to the capacity of the cut. Also, let's remind ourselves that our goal is for projects and tools we use to be inside the s-side of the cut.\n",
    "\n",
    "Suppose we have the following projects and tools:\n",
    "\n",
    "| Project     | Benefit      |\n",
    "| ----------- | -----------  |\n",
    "| 1           | 2            |\n",
    "| 2           | 3            |\n",
    "\n",
    "\n",
    "| Tool        | Cost         |\n",
    "| ----------- | -----------  |\n",
    "| A           | 1            |\n",
    "| B           | 4            |\n",
    "| C           | 5            |\n",
    "\n",
    "\n",
    "Consider the following cut:\n",
    "\n",
    "![](images-lab/tool-selection-images/outgoing_edges_cut.png)"
   ]
  },
  {
   "cell_type": "markdown",
   "id": "3579b4d7",
   "metadata": {},
   "source": [
    "**Q:** What edges contribute to the capacity of the cut? Hint: the capacity of the cut should add up to 4\n",
    "\n",
    "**A:** <font color='blue'> edges leaving project 2 and tool A </font>"
   ]
  },
  {
   "cell_type": "markdown",
   "id": "05af5378",
   "metadata": {},
   "source": [
    "**Q:** Which tool(s) do we use? Do their costs contribute to the cut capacity?\n",
    "\n",
    "**A:** <font color='blue'> tool A, yes </font>"
   ]
  },
  {
   "cell_type": "markdown",
   "id": "958362ba",
   "metadata": {},
   "source": [
    "**Q:** Which project(s) do we not take? Do their benefits contribute to the cut capacity?\n",
    "\n",
    "**A:** <font color='blue'> project 1, no </font>"
   ]
  },
  {
   "cell_type": "markdown",
   "id": "55cfab46",
   "metadata": {},
   "source": [
    "**Q:** In this case, the benefits of projects we take are adding to the capacity of the cut, a value that we are trying to minimize. Using the plain English definition of the objective function you wrote earlier, explain why this model doesn't quite work out.\n",
    "\n",
    "**A:** <font color='blue'> Right now although we are correctly incorporating the costs of tools we use to be included in the capacity of the cut, we are including the benefits of projects we take rather than the benefits of projects we do NOT take. </font>"
   ]
  },
  {
   "cell_type": "markdown",
   "id": "3b8fa342",
   "metadata": {},
   "source": [
    "So this model of our network uses the cost of tools like we wanted (costs of tools we use contribute to the cut capacity) but also adds the benefits of projects we take to the cut capacity. What does this mean? Considering our objective function is a minimization function, this means that technically, we would be trying to minimize the benefits of projects we take, which is the opposite of what we want! Okay, so it looks like assigning costs of tools to outgoing edges worked out well, but we probably shouldn't be assigning benefits to outgoing edges. Let's try assigning benefits to the incoming edges of project nodes instead.\n",
    "\n",
    "Consider the following cut:\n",
    "\n",
    "![](images-lab/tool-selection-images/in_outgoing_edges_cut.png)"
   ]
  },
  {
   "cell_type": "markdown",
   "id": "41ac78d9",
   "metadata": {},
   "source": [
    "**Q:** What edges contribute to the capacity of the cut? Hint: the capacity of the cut should add up to 3\n",
    "\n",
    "**A:** <font color='blue'> edge into project 1 and edge leaving tool A </font>"
   ]
  },
  {
   "cell_type": "markdown",
   "id": "4d211112",
   "metadata": {},
   "source": [
    "**Q:** Which project(s) do we not take? Do their benefits contribute to the cut capacity?\n",
    "\n",
    "**A:** <font color='blue'> project 1, yes </font>"
   ]
  },
  {
   "cell_type": "markdown",
   "id": "32d79a2f",
   "metadata": {},
   "source": [
    "Great! If you interpreted the cut correctly, you'll have found that this assignment of edge capacities uses the costs of tools we need and benefits of projects we don't take exactly as we wanted from our objective function. Here, projects and tools we use are inside the cut, and the capacity of the cut reflects benefits of projects we left out (essentially opportunity costs of not taking on a project) and costs of tools we needed to use. \n",
    "\n",
    "Since all the projects now have incoming edges, it seems likely these incoming edges could all originate from the same source and since all the tool nodes now have outgoing edges, it's likely they could all end at the same sink node. Another point of intuition is that since the source is always on the s-side of the cut, by having the source connect to each project node, if a project is not in the cut, then we know its connecting edge from $s$ will contribute to the cut capacity. Similarly, since the sink node is always not in the cut, if we use any tool, its connecting edge to $t$ will contribute as well. Let's visualize the network so far after adding $s$ and $t$:\n",
    "\n",
    "![](images-lab/tool-selection-images/incomplete_graph.png)\n",
    "\n",
    "It looks somewhat similar to our bipartite matching graph since we can divide the project and tool nodes quite well, but there is a bit more going on here. Let's focus on how to tie the network together with edges between project and tool nodes. We need some way to encode the dependencies between projects and the tools they require. In the min-cut model, this means that if project 1 depends on tools A and B, we need a way to ensure that if we include project 1 in the cut, we must also include tools A and B; they cannot be on opposite sides of the cut. A clever way to encode this is using infinite-capacity edges, a very powerful modeling tool. Here, since we want some relationship between projects and tools, we'll have these edges be between the two layers of nodes."
   ]
  },
  {
   "cell_type": "markdown",
   "id": "da9e3ef5",
   "metadata": {},
   "source": [
    "**Q:** You might be concerned that if we choose the cut such that an $\\infty$ capacity edge crosses the cut, we'll have a cut capacity of $\\infty$ which, in almost all cases, is certainly not the minimum. But let's say that we can guarantee that there always exists a finite capacity cut. Why do we not have to worry about $\\infty$ capacity edges crosssing the minimum cut our algorithm yields?\n",
    "\n",
    "**A:** <font color='blue'> Because if there was a finite capacity cut, our algorithm would always return that over the cut where a $\\inf$ capacity edge crosses the cut as this would cause the cut to have $\\infty$ capacity which is greater than any finite value. </font>"
   ]
  },
  {
   "cell_type": "markdown",
   "id": "7ca69c20",
   "metadata": {},
   "source": [
    "Now, we have to determine the direction of these infinite-capacity edges. Let's just look at our project and tool nodes in isolation. Suppose we have the following dependencies: \n",
    "\n",
    "| Project     | Tools Needed |\n",
    "| ----------- | -----------  |\n",
    "| 1           | A, B         |\n",
    "| 2           | B, C         |\n",
    "\n",
    "Let's say we orient our edges this way:\n",
    "\n",
    "![](images-lab/tool-selection-images/wrong_direction.png)"
   ]
  },
  {
   "cell_type": "markdown",
   "id": "2b086823",
   "metadata": {},
   "source": [
    "**Q:** Based on this network, fill in the blank: *If we take tool B then we must take project(s) ___ .*\n",
    "\n",
    "**A:** <font color='blue'> 1 and 2 </font>"
   ]
  },
  {
   "cell_type": "markdown",
   "id": "502f72bf",
   "metadata": {},
   "source": [
    "**Q:** Explain why this setup doesn't encode the depemdencies as we intended.\n",
    "\n",
    "**A:** <font color='blue'> This setup encodes dependencies as if tools are dependent on the projects we take. Actually, we could realistically buy a tool and never use it for any project, but this encoding says if we buy a tool we must take on all projects that use it. In addition, it doesn't require us to buy all tools required for a project in order to take on that project. </font>"
   ]
  },
  {
   "cell_type": "markdown",
   "id": "0074af78",
   "metadata": {},
   "source": [
    "So that direction of infinite-capacity edges didn't work out. Let's try the other direction:\n",
    "\n",
    "![](images-lab/tool-selection-images/right_direction.png)"
   ]
  },
  {
   "cell_type": "markdown",
   "id": "76546192",
   "metadata": {},
   "source": [
    "**Q:** Based on this network, fill in the blank: *If we take project 2 then we must take tool(s) ___ .*\n",
    "\n",
    "**A:** <font color='blue'> B and C </font>"
   ]
  },
  {
   "cell_type": "markdown",
   "id": "68d06bd4",
   "metadata": {},
   "source": [
    "Eureka! We've found the correct encoding! Now, we just need to make sure there always exists a cut of infinite capacity in our network. Well, let's take a look at the complete graph of the model we just outlined:\n",
    "\n",
    "![](images-lab/tool-selection-images/complete_graph.png)"
   ]
  },
  {
   "cell_type": "markdown",
   "id": "853db7f7",
   "metadata": {},
   "source": [
    "**Q:** Identify a cut of finite capacity (write the nodes on the s-side of the cut).\n",
    "\n",
    "**A:** <font color='blue'> {$s$}, all nodes except $t$, etc. </font>"
   ]
  },
  {
   "cell_type": "markdown",
   "id": "54332d09",
   "metadata": {},
   "source": [
    "Certainly, we can also see that with this outline of generating our graph, we'll always have a finite capacity cut of just {s}. So, we are guaranteed that our infinite-capacity edges won't disturb the intended significance of our cut.\n",
    "\n",
    "And that's it! We've just successfully reduced the tool selection problem to a min-cut instance and introduced a new technique involving infinite-capacity edges. To recap, here's what we did:\n",
    "\n",
    "- we are given:\n",
    "    - a set of projects, each project denoted $p_i$ with an associated benefit of completing it $b_i$\n",
    "    - a set of tools, each tool denoted $t_j$ with an associated cost of buying it $c_j$\n",
    "    - for each project $p_i$, a set of tools $D_i$ that it needs in order to complete it\n",
    "- we want:\n",
    "    - to maximize our profit (translated to minimizing our loss)\n",
    "    - a set of projects to complete\n",
    "    - a set of tools to buy\n",
    "- objective function: minimize the forgone benefit (opportunity cost) of projects we don't do plus the cost of tools we buy \n",
    "    - *minimize* $\\sum_{p_i \\in \\overline{P}}^{} b_i + \\sum_{t_i \\in T}^{} c_i$\n",
    "- our graph has nodes: $s$, project nodes, tool nodes, $t$\n",
    "    - we have an edge from the source to every project node $p_i$ with capacity $b_i$\n",
    "    - we have an edge from every tool node $t_i$ to the sink with capacity $c_i$\n",
    "    - we have an edge from a project node $p_i$ to a tool node $t_j$ with $\\infty$ capacity if project $p_i$ needs tool $t_i$, (equivalently if $t_j \\in D_i$)\n",
    "\n",
    "Let's go through a complete formulation. Suppose you are given the following set of projects, tools, and dependencies:\n",
    "\n",
    "| Project     | Benefit      |\n",
    "| ----------- | -----------  |\n",
    "| 1           | 6            |\n",
    "| 2           | 9            |\n",
    "| 3           | 7            |\n",
    "\n",
    "| Tool        | Cost         |\n",
    "| ----------- | -----------  |\n",
    "| A           | 8            |\n",
    "| B           | 2            |\n",
    "| C           | 3            |\n",
    "| D           | 5            |\n",
    "\n",
    "| Project     | Tools Needed |\n",
    "| ----------- | -----------  |\n",
    "| 1           | A            |\n",
    "| 2           | A, B         |\n",
    "| 3           | C, D         |"
   ]
  },
  {
   "cell_type": "markdown",
   "id": "caaa2b18",
   "metadata": {},
   "source": [
    "**Q:** Draw the network for the min-cut instance of this problem.\n",
    "\n",
    "**A:** ![](images-key/example_graph.png)"
   ]
  },
  {
   "cell_type": "markdown",
   "id": "227595e4",
   "metadata": {},
   "source": [
    "**Q:** This network should be simple enough to be able to find the min-cut by hand. By inspection or using any tools you have learned in the past, write the projects and tools you end up choosing. (Check: there should be 2 projects and two tools)\n",
    "\n",
    "**A:** <font color='blue'> projects 1 and 2, tools A and B ![](images-key/example_graph_cut.png) </font>"
   ]
  },
  {
   "cell_type": "markdown",
   "id": "c8796a7b",
   "metadata": {},
   "source": [
    "We have now successfully turned the Project Selection Problem into a minimum cut problem! We already know how to solve a minimum cut problem, so now we also know how to solve a Project Selection Problem. Let's now put this into practice."
   ]
  },
  {
   "cell_type": "markdown",
   "id": "a39b40c3",
   "metadata": {},
   "source": [
    "## Recipe Application\n",
    "\n",
    "There are countless applications of the Project Selection Problem. In this section, we will walk through an example related to choosing dishes.\n",
    "\n",
    "You are in charge this year of making your family's Thanksgiving dinner! But you are stuck on what dishes to make. You would like to choose the dishes that your famliy will like best, but at the same time you don't want to spend too much on ingredients. Fortunately, you can use the Project Selection Problem to help with your decision.\n",
    "\n",
    "#### Setting Up a Project Selection Problem\n",
    "\n",
    "Say that you have a set of Thanksgiving dishes that you know how to make, and dish has a recipe requiring particular ingredients. Think of how you would be able to model your problem of choosing what to make for Thanksgiving as a Project Selection Problem."
   ]
  },
  {
   "cell_type": "markdown",
   "id": "5d84cda8",
   "metadata": {},
   "source": [
    "**Q:** In this application of the project selection problem, what should you consider to be the \"tools\" and what should you consider to be the \"projects?\"\n",
    "\n",
    "\n",
    "**A:** <font color='blue'> The ingredients are the tools and the dishes/recipes are the projects."
   ]
  },
  {
   "cell_type": "markdown",
   "id": "ff7ee49b",
   "metadata": {},
   "source": [
    "Let's make your dish selection problem a bit more concrete. Below are the dishes you are considering to make for dinner, together with a score of how much benefit you get from making the dish.\n",
    "* Mashed potatoes: 3 <font color='grey'> <font size=2> $~~~$ (Mashed potatoes are good, but not stellar)\n",
    "* Roasted vegetables: 6 <font color='grey'> <font size=2> $~~~$ (One of your favorite foods!)\n",
    "* Stuffing: 2 <font color='grey'> <font size=2> $~~~$ (Your brother hates stuffing)\n",
    "* Butternut squash soup: 5 <font color='grey'> <font size=2> $~~~$ (You're personally not a roasted veggies fan, but it's one of your aunt's favorite foods)\n",
    "* Turkey: 15 <font color='grey'> <font size=2> $~~~$ (It would be a shame not to have turkey on thanksgiving)"
   ]
  },
  {
   "cell_type": "markdown",
   "id": "ef3b069a",
   "metadata": {},
   "source": [
    "**Q:** What do these values represent in terms of the general form of the Project Selection Problem?\n",
    "\n",
    "\n",
    "**A:** <font color='blue'> The benefit values $b_i$ of the projects."
   ]
  },
  {
   "cell_type": "markdown",
   "id": "6a246a54",
   "metadata": {},
   "source": [
    "Each dish has the following ingredients\n",
    "* Mashed potatoes: Potatoes, milk, butter.\n",
    "* Roaster vegetables: Butternut squash, carrots, rosemary\n",
    "* Stuffing: Bread, butter, rosemary\n",
    "* Soup: Squash, milk\n",
    "* Turkey: just turkey"
   ]
  },
  {
   "cell_type": "markdown",
   "id": "81c0888c",
   "metadata": {},
   "source": [
    "And each ingredient has the following cost.\n",
    "* Potatoes: 4\n",
    "* Milk: 2\n",
    "* Butter: 2\n",
    "* Butternut squash: 4\n",
    "* Carrots: 3\n",
    "* Rosemary: 2\n",
    "* Bread: 4\n",
    "* Turkey: 10"
   ]
  },
  {
   "cell_type": "markdown",
   "id": "5986e2c5",
   "metadata": {},
   "source": [
    "**Q:** What do these values represent in terms of the general form of the Project Selection Problem?\n",
    "\n",
    "\n",
    "**A:** <font color='blue'> The costs $c_i$ of the tools."
   ]
  },
  {
   "cell_type": "markdown",
   "id": "b63aba28",
   "metadata": {},
   "source": [
    "Now, let's think about out objective."
   ]
  },
  {
   "cell_type": "markdown",
   "id": "3b4c3905",
   "metadata": {},
   "source": [
    "**Q:** In English, what are we trying to minimize in our dish problem?\n",
    "\n",
    "\n",
    "**A:** <font color='blue'> The total cost of the ingredients used by the dishes chosen minus the total benefit of the dishes chosen."
   ]
  },
  {
   "cell_type": "markdown",
   "id": "5efae74b",
   "metadata": {},
   "source": [
    "**Q:** If we select turkey and soup as our dishes, what would be our objective value?\n",
    "\n",
    "\n",
    "**A:** <font color='blue'> cost of turkey + cost of butternut squash + cost of milk - benefit of turkey - benefit of soup = 10 + 4 + 2 - 15 - 5 = -4"
   ]
  },
  {
   "cell_type": "markdown",
   "id": "e4bed3ee",
   "metadata": {},
   "source": [
    "Before we have succesfully modeled our dish dilemma as a Project Selection Problem, we first need to address a couple assumptions that need to be made.\n",
    "* In the Project Selection Problem, once a tool is acquired, it can be used again and again without constraint. However, ingredients may not be able to be used repeatedly because the ingredient might run out. Assume that the ingredients always come in large packaging, so that once you buy an ingredient there is plenty of it to make any combination of dishes.\n",
    "* The benefit values of each dish are simply made up. When applying the Project Selection Problem, there is not always a perfect way to quantify the cost of the tools or the benefit from the projects. Assigning quantitative values to qualitative benefits or costs can be tricky, but when done so strategically can still yield trustworthy results. We will assume that the values for each dish effectively capture the benefit of making the dish."
   ]
  },
  {
   "cell_type": "markdown",
   "id": "e949f54e",
   "metadata": {},
   "source": [
    "#### Reducing to a Minimum Cut"
   ]
  },
  {
   "cell_type": "markdown",
   "id": "a78430a8",
   "metadata": {},
   "source": [
    "Now we that we have modeled our Thanksgiving dish problem as a Project Selection Problem, we will solve the Project Selection Problem by reducing it as a Minimum Cut Problem, just as you did in the first part of this lab. Remember that the fitst step is to create a graph for which finding a minimum cut is analogous to selecting the best combination of projects."
   ]
  },
  {
   "cell_type": "markdown",
   "id": "3bab4619",
   "metadata": {},
   "source": [
    "**Q:** Draw the graph for which finding the minimum cut is analogous to slecting the best combination of projects. Remember to label your nodes.\n",
    "\n",
    "\n",
    "**A:** <font color='blue'> <font color='red'> __Draw the solution__\n",
    "\n"
   ]
  },
  {
   "cell_type": "markdown",
   "id": "5137f8db",
   "metadata": {},
   "source": [
    "**Q:** Draw an s-t cut which would indicate the selection of mashed potatoes and soup as our dishes.\n",
    "\n",
    "**A:** <font color='red'> __Show the cut which includes the mashed potatoes node, the soup node, the potatoes node, the butter node, the milk node, and the squash node__ "
   ]
  },
  {
   "cell_type": "markdown",
   "id": "7fd7d1fe",
   "metadata": {},
   "source": [
    "All we need to do now is find the minimum cut in this graph. We will do so using Python. Run the code below and look at the minimum cut at the end of the cell."
   ]
  },
  {
   "cell_type": "code",
   "execution_count": 9,
   "id": "a4b3ec46",
   "metadata": {},
   "outputs": [],
   "source": [
    "import networkx as nx"
   ]
  },
  {
   "cell_type": "code",
   "execution_count": 2,
   "id": "2711a870",
   "metadata": {},
   "outputs": [
    {
     "data": {
      "text/plain": [
       "{'Butternut squash',\n",
       " 'Butternut squash soup',\n",
       " 'Carrots',\n",
       " 'Milk',\n",
       " 'Roasted vegetables',\n",
       " 'Rosemary',\n",
       " 'Turkey (dish)',\n",
       " 'Turkey (ingredient)',\n",
       " 'butter',\n",
       " 'milk',\n",
       " 's'}"
      ]
     },
     "execution_count": 2,
     "metadata": {},
     "output_type": "execute_result"
    }
   ],
   "source": [
    "recipes = {\n",
    "    'Mashed potatoes': ['Potatoes', 'milk', 'butter'],\n",
    "    'Roasted vegetables': ['Butternut squash', 'Carrots', 'Rosemary'],\n",
    "    'Stuffing': ['Bread', 'Butter', 'Rosemary'],\n",
    "    'Butternut squash soup': ['Butternut squash', 'Milk'],\n",
    "    'Turkey (dish)': ['Turkey (ingredient)']\n",
    "}\n",
    "\n",
    "benefits = {\n",
    "    'Mashed potatoes': 3,\n",
    "    'Roasted vegetables': 6,\n",
    "    'Stuffing': 2,\n",
    "    'Butternut squash soup': 5,\n",
    "    'Turkey (dish)': 15\n",
    "}\n",
    "\n",
    "costs = {\n",
    "    'Potatoes': 4,\n",
    "    'Milk': 2,\n",
    "    'Butter': 2,\n",
    "    'Butternut squash': 4,\n",
    "    'Carrots': 3,\n",
    "    'Rosemary': 2,\n",
    "    'Bread': 4,\n",
    "    'Turkey (ingredient)': 10,\n",
    "}\n",
    "\n",
    "\n",
    "dishes = list(benefits.keys())\n",
    "ingredients = list(costs.keys())\n",
    "                   \n",
    "g = nx.DiGraph()\n",
    "\n",
    "for ingredient in ingredients:\n",
    "    g.add_node(ingredient)\n",
    "    g.add_edge(ingredient, 't', capacity=costs[ingredient])\n",
    "\n",
    "for dish in dishes:\n",
    "    g.add_node(dish)\n",
    "    g.add_edge('s', dish, capacity=benefits[dish])\n",
    "    for ingredient in recipes[dish]:\n",
    "        g.add_edge(dish, ingredient, capacity=float('inf'))\n",
    "\n",
    "cut = nx.algorithms.flow.minimum_cut(g, 's', 't')[1][0]\n",
    "cut"
   ]
  },
  {
   "cell_type": "markdown",
   "id": "4fa4bd77",
   "metadata": {},
   "source": [
    "In order to help you answer the next questions, draw the cut produced by the cell on the graph you drew earlier."
   ]
  },
  {
   "cell_type": "markdown",
   "id": "2ee24450",
   "metadata": {},
   "source": [
    "**Q:** Looking at the cut, what dishes should you make?\n",
    "\n",
    "\n",
    "**A:** <font color='blue'> Butternut squash soup, roasted vegetables, and turkey."
   ]
  },
  {
   "cell_type": "markdown",
   "id": "713a7af7",
   "metadata": {},
   "source": [
    "**Q:** What is the total cost of the ingredients needed to make roasted vegetables? What is the benefit you get from making roasted vegetables?\n",
    "\n",
    "\n",
    "**A:** <font color='blue'> The total cost of the ingredients needed to make roasted vegetables is the cost of butternut squash (4) plus the cost of carrots (3) plus the cost of rosemary (2) which equals 9. The benefit from having roasted vegetables is 6."
   ]
  },
  {
   "cell_type": "markdown",
   "id": "91123d13",
   "metadata": {},
   "source": [
    "**Q:** Hmmm. You should have found that the benefit of having roasted vegetables is lower than the total cost of its ingredients. Why do we still choose to make roasted vegetables? (hint: what are the ingredients of the soup?)\n",
    "\n",
    "\n",
    "**A:** <font color='blue'> We can also use the butternut squash to make soup! We would not benefit from making roasted vegetables or soup individually, but because they both require buternut squash, the cost of the butternut squash gets \"shared\" across the two dishes."
   ]
  },
  {
   "cell_type": "markdown",
   "id": "817c27ed",
   "metadata": {},
   "source": [
    "**Q:** Roasted vegetables is an example of a dish that is selected despite its benefit being lower than the total cost of its ingredients. Could it ever be the case that a dish whose benefit is higher than the total cost of its ingredients is not selected? Explain your reasoning.\n",
    "\n",
    "\n",
    "**A:** <font color='blue'> No. if the benefit is higher than the total cost of the ingredients, then you make a profit from making that dish regardless of what other dishes you make."
   ]
  },
  {
   "cell_type": "markdown",
   "id": "594f20c8",
   "metadata": {},
   "source": [
    "#### Scaling up"
   ]
  },
  {
   "cell_type": "markdown",
   "id": "43c94600",
   "metadata": {},
   "source": [
    "Using a minimum cut to solve the Thanksgiving problem above seems like overkill for such a small problem. But what if you have dozens of recipes and ingredients?"
   ]
  },
  {
   "cell_type": "markdown",
   "id": "55b8c11a",
   "metadata": {},
   "source": [
    "## The Secret Tie (Third attempt)"
   ]
  },
  {
   "cell_type": "markdown",
   "id": "2419dc39",
   "metadata": {},
   "source": [
    "In the Project Selection Problem, it is possible for there to be a tie; there may be multiple different combinations of projects that lead to the same optimal profit (or whatever the objective value is, which is not always monetary profit).\n",
    "\n",
    "As long as one of these tied sets is not a subset of the other, then there are not one but two other combinations of projects that also lead to the same optimal profit.\n",
    "\n",
    "In this section of the lab, we will explore these secret ties and show why they exist."
   ]
  },
  {
   "cell_type": "markdown",
   "id": "7e7f1926",
   "metadata": {},
   "source": [
    "<font color='red'> __Add image of graph. Also maybe add a question to remind people of what the capacity of a cut is?__"
   ]
  },
  {
   "cell_type": "markdown",
   "id": "ff4eb7b6",
   "metadata": {},
   "source": [
    "Take this small graph. Each of the two cuts shown are minimal.\n",
    "\n",
    "\n",
    "**Q:** What is the capacity of either of the cuts?\n",
    "\n",
    "**A:** <font color='blue'> The profit from each of the combination of projects\n",
    "\n",
    "**Q:** What is the capacity of the intersection of the two min cuts?\n",
    "    \n",
    "**A:** <font color='blue'> Five\n",
    "    \n",
    "**Q:** What is the capacity of the union of the two min cuts?\n",
    "    \n",
    "**A:** <font color='blue'> Five\n",
    "    \n",
    "Huh. This is interesting! Let's see if this is true for all instance of the project selection problem in general."
   ]
  },
  {
   "cell_type": "markdown",
   "id": "a98989c2",
   "metadata": {},
   "source": [
    "Let's start with an arbitrary project selection problem with two distinct known optimal combinations of projects.\n",
    "\n",
    "Choose one of the optimal sets of projects, and take all the projects that are part of that optimal set but not of the other optimal set. We'll call this the \"additional\" set of projects. _Draw a venn diagram and mark the cuts and the two additional set, you could also have an example graph_. Not that there are two different additional sets, but we will just choose an arbitrary one.\n",
    "\n",
    "Each of the additional set of projects also requires a set of tools. However, some of those tools may already be necessary for one of the projects in the optimal set that the projects in the additional set are not a part of. We will refer to the tools that are needed for a project in the additional set but are not already required by a project in the other optimal set as additional tools.\n",
    "\n",
    "**Q:** In the graph below, choose one of the two additional sets. What are the projects in the additional set? What are the additional tools?"
   ]
  },
  {
   "cell_type": "markdown",
   "id": "75eb96b8",
   "metadata": {},
   "source": [
    "We will first show that in the case of a tie between two optimal sets, the total benefit of the additional projects is equal to the total cost of the additional tools.\n",
    "\n",
    "Instead of directly showing that the above statement is true, we will show that a contradiction happens if we assume that the statement is not true. This is a very common technique called a _proof by contradiction_.\n",
    "\n",
    "So for the sake of contradiction, let's assume that the total benefit from the additional projects _is not_ equal to the total cost of the additional tools. This either means that the total benefit of the additional projects is greater than the total cost of the additional tools, or that the total benefit of the additional projects is less than the total cost of the additional tools. We will now show that in either case, a contradiction happens.\n",
    "\n",
    "1. In this case that the total benefit of the additional projects is greater than the total cost of the additional tools, adding the additional projects to the the other optimal set will improve the profit. This is the same as taking the union of both optimal sets. But wait a minute, if the union of the two optimal sets results in a set with a higher profit than the optimal sets, than the optimal sets are not optimal at all! We have found a contradiction.\n",
    "\n",
    "2. Now we are going to let you handle the second case!\n",
    "  - **Q:** Show that there exists a contradiction if the total benefit of the additional projects were less than total cost of the additional tools\n",
    "  - **A:** <font color='blue'>Total benefit of the additional projects is less than total cost of the additional tools: In this case, the profit of the optimal set which includes the additional set can be improved by getting rid of the additional projects. Thus, the intersection of the two optimal sets has a higher profit than one of the optimal sets. As in the first case, we have found a contradiction by showing that the optimal sets aren't actually optimal because there is another set with a higher profit.\n",
    "\n",
    "Because we found a contradiction in both cases, it must be the case the the total benefit from the additional projects _is_ equal to the total cost of the additional tools. This result means that including an additional set or not does not actually change the profit. Thus, the intersection or the union of two optimal sets will have the same profit.\n",
    "\n",
    "And we're done! We have shown that if you have at least two optimal sets of projects, then the intersection and the union of those sets will also be optimal."
   ]
  },
  {
   "cell_type": "markdown",
   "id": "4203d819",
   "metadata": {},
   "source": [
    "__Is this proof useful?__\n",
    "\n",
    "Is this result useful? In some ways, it is not. In theory, all the benefit and cost values should perfectly capture the real-world costs and benefits. However, as mentioned earlier, in practice it may be a challenge to come up with quantitative values for more qualitative costs or benefits. There may be minor factors that are complicated to quantify, but because they have little influence it is not worth the effort to incorporate them in the model. In these type of cases, looking for ties and using the minor qualitative factors may prove useful.\n",
    "\n",
    "There might also be dependencies in the costs. For example, how do you desincentivize choosing a large number of projects. These are costs that don't apply to the number of projects, but not to any project in particular, so it cannot be captured in the individual benefit values.\n",
    "\n",
    "It is these dependencies that are the main shortcoming to the Project Selection Problem. For example, what if you have a coupon that you can use on a vegetable (either squash or carrots), but you only have one coupon. You can't just decrease the cost of the carrots and decrease the cost of the squash."
   ]
  },
  {
   "cell_type": "markdown",
   "id": "2ae85053",
   "metadata": {},
   "source": [
    "# Draft (ignore everything below)"
   ]
  },
  {
   "cell_type": "markdown",
   "id": "b37cff6b",
   "metadata": {},
   "source": [
    "## The Secret Tie (second attempt)"
   ]
  },
  {
   "cell_type": "markdown",
   "id": "ed5c81a9",
   "metadata": {},
   "source": [
    "In the Project Selection Problem, it is possible for there to be a tie; there may be multiple different combinations of projects that have the same optimal objective value.\n",
    "\n",
    "In terms of the minimum cost flow formulation of the Project Selection Problem, a graph may have multiple minimum cuts. Take the graph below as an example. Both cuts are minimum cuts. They both have the same capacity and there is no other cut in the graph with a capacity smaller than these two."
   ]
  },
  {
   "cell_type": "markdown",
   "id": "f79dbb63",
   "metadata": {},
   "source": [
    "<font color='red'> __Show graph__"
   ]
  },
  {
   "cell_type": "markdown",
   "id": "79a415be",
   "metadata": {},
   "source": [
    "The intersection of these two minimum cuts has an interesting property that we will explore in this section of the lab."
   ]
  },
  {
   "cell_type": "markdown",
   "id": "4e2200c5",
   "metadata": {},
   "source": [
    "**Q:** What nodes are part of the intersection of the two minimum cuts?\n",
    "\n",
    "**A:** <font color='red'> __Answer__"
   ]
  },
  {
   "cell_type": "markdown",
   "id": "dfac5aa3",
   "metadata": {},
   "source": [
    "If you have two optimal combinations of projects, then the intersection of of the projects is also an optimal. For example, if it is optimal to either make stuffing and soup, and you reach the same objective by making soup and turkey, then just making soup will yield the same objective as well. Kind of cool! This means that if you have a tie between two combinations of projects for which one is not just a subset of the other, then there is always a secret third tie!\n",
    "\n",
    "Let's now try to understand why.\n",
    "\n",
    "Take an arbitrary flow graph derived from a Project Selection Problem.\n",
    "\n",
    "Remember that the characteristics of such a graph is that is \n",
    "* Has a source node.\n",
    "* Has a sink node.\n",
    "* Has two layers in between the source and sink node.\n",
    "* There is an edge with positive capacity between the source and every node in the first layer (the project)\n"
   ]
  },
  {
   "cell_type": "markdown",
   "id": "2d5abf2c",
   "metadata": {},
   "source": [
    "Does not apply to all graphs in general. It works in the case of the project selection problem because there are no edges going from a node that is exclusively in one min cut to a node that is exclusively in the other."
   ]
  },
  {
   "cell_type": "markdown",
   "id": "eab3f799",
   "metadata": {},
   "source": [
    "## The secret tie (first attempt)"
   ]
  },
  {
   "cell_type": "markdown",
   "id": "c9463e27",
   "metadata": {},
   "source": [
    "In the Project Selection Problem, it is possible for there to be a tie; there may be multiple different combinations of projects that have the same optimal objective value.\n",
    "\n",
    "In terms of the minimum cost flow formulation of the Project Selection Problem, a graph may have multiple minimum cuts. Take the graph below as an example. Both cuts are minimum cuts. They both have the same capacity and there is no other cut in the graph with a capacity smaller than these two."
   ]
  },
  {
   "cell_type": "markdown",
   "id": "8954f330",
   "metadata": {},
   "source": [
    "<font color='red'> __Show graph__"
   ]
  },
  {
   "cell_type": "markdown",
   "id": "6813d368",
   "metadata": {},
   "source": [
    "The intersection of these two minimum cuts has an interesting property that we will explore in this section of the lab."
   ]
  },
  {
   "cell_type": "markdown",
   "id": "aaf451a2",
   "metadata": {},
   "source": [
    "**Q:** What nodes are part of the intersection of the two minimum cuts?\n",
    "\n",
    "**A:** <font color='red'> __Answer__"
   ]
  },
  {
   "attachments": {
    "image.png": {
     "image/png": "[encoded data removed]"
    }
   },
   "cell_type": "markdown",
   "id": "9f6ad03e",
   "metadata": {},
   "source": [
    "Take an arbitrary graph with a known minimum cut.\n",
    "\n",
    "Notice how we usually represent a cut by drawing a closed loop around a set of nodes. We will present this arbitrary graph with a minimum cut by drawing just the cut.\n",
    "\n",
    "![image.png](attachment:image.png)\n",
    "\n",
    "Why don't we draw any nodes and edges? That is because we are not drawing any particular graph, but an arbitrary graph whose only property we care about now is that is has a cut. We do not care about what the nodes are, we only care about the fact that a node can be either inside the cut or outside the cut."
   ]
  },
  {
   "attachments": {
    "image.png": {
     "image/png": "[encoded data removed]"
    }
   },
   "cell_type": "markdown",
   "id": "f340abe3",
   "metadata": {},
   "source": [
    "Now say that this graph has a second minimum cut. We draw the second cut as a loop as well.\n",
    "\n",
    "![image.png](attachment:image.png)"
   ]
  },
  {
   "cell_type": "markdown",
   "id": "844831a1",
   "metadata": {},
   "source": [
    "#### Full proof"
   ]
  },
  {
   "attachments": {
    "image.png": {
     "image/png": "[encoded data removed]"
    }
   },
   "cell_type": "markdown",
   "id": "3c565df9",
   "metadata": {},
   "source": [
    "The two cuts define four distinct sets of nodes. A node can either be exclusively in the first min cut, exclusively in the second min cut, in both min cuts, or in neither min cut.\n",
    "\n",
    "Let's give names to each of these sets. Let's call the set of all nodes that are exclusively in the first cut $A$, the set of all nodes that are exclusively in the second cut $B$, the set of all nodes that are in both cuts $C$, and the set of all nodes in neither cuts as $D$\n",
    "\n",
    "![image.png](attachment:image.png)"
   ]
  },
  {
   "cell_type": "markdown",
   "id": "b37c42f1",
   "metadata": {},
   "source": [
    "We will prove that the intersection of the two minimum cuts, $C$, is actually a minimum cut of itself!\n",
    "\n"
   ]
  },
  {
   "cell_type": "markdown",
   "id": "b7bcfd37",
   "metadata": {},
   "source": [
    "Now, let us remember an important definition.\n",
    "\n",
    "**Q:** What is the capacity of a cut?\n",
    "\n",
    "**A:** <font color='blue'> The sum of the capacities of all the edges leaving the cut.\n",
    "\n",
    "Thus, the capacity of a cut is completely determined by the edges leaving a cut. We will now take a closer look at edges going out each of our four node sets to better understand the capacity of the node sets.\n",
    "    \n",
    "Say you have an edge that originates in A, the edge must end either in $A$, $B$, $C$, or $D$ (anywhere in the graph). Let's refer to the set of all edges going from a node in $A$ to a node in $D$ as $E_{AD}$.\n",
    "    \n",
    "Thus, the set of all edges with a starting end in $A$ is equal to $E_{AA} \\cup E_{AB} \\cup E_{AC} \\cup E_{AD}$.\n",
    "    \n",
    "**Q:** Which of the four edge sets above contribute to the capacity of A?\n",
    "    \n",
    "**A:** <font color='blue'> $E_{AB}$, $E_{AC}$, and $E_{AD}$ contribute to the cut, but $E_{AA}$ does not because these edges don't leave A.\n",
    "    \n",
    "    \n",
    "**Q:** In a similar way, write down what edges contribute to the capacity of the original cut.\n",
    "    \n",
    "**A:** <font color='blue'> $E_{AB}$, $E_{AD}$, $E_{CB}$, and $E_{CD}$.\n"
   ]
  },
  {
   "cell_type": "markdown",
   "id": "163fe4e4",
   "metadata": {},
   "source": [
    "Now that we have our sets of nodes and our sets of edges defined, let us get started on a proof.\n",
    "\n",
    "We were already give two minium cuts ($A \\cup C$ and $B \\cup C$). Our theorem of the secret tie claims that $C$ is a third minimum cut.\n",
    "\n",
    "Instead of showing directly that $C$ is a minimum cut, we are going to show that something impossible happens if $C$ were not a minimum cut. This strategy of proving something by showing that the opposite is impossible is called a proof by contradiction.\n",
    "\n",
    "For the sake of contradiction, now let's assume that $C$ is not a minimum cut. This means that the capacity of $C$ must be greater than the capacity of $B \\cup C$.\n",
    "\n",
    "Let us represent the sum of the capacities of all the edges in the edge set $E_{AB}$ for example as $cap(E_{AB})$\n",
    "\n",
    "Therefore, the capacity of $C$ is equal to $cap(E_{CA})+cap(E_{CB})+cap(E_{CD})$, and the capacity of $B \\cup C$ is equal to $cap(E_{CA})+cap(E_{CD})+cap(E_{BA})+cap(E_{BD})$.\n",
    "\n",
    "Because we assume that $C$ is not a minimum cut, we assume that\n",
    "$cap(E_{CA})+cap(E_{CD})+cap(E_{BA})+cap(E_{BD}) \\leq cap(E_{CA})+cap(E_{CB})+cap(E_{CD})$\n",
    "\n",
    "**Q:** Reduce this inequality by subtracting some terms from both sides. What new equivalent inequality do you get?\n",
    "\n",
    "**A:** <font color='blue'> $cap(E_{BA})+cap(E_{BD}) \\leq cap(E_{CB})$\n",
    "    \n",
    "    \n",
    "We want to eventually show that The capacity of $A \\cup B \\cup C$ is less than the capacity of any of the original cuts, let's say $A \\cup C$. This can be expressed as $cap(E_{AD})+cap(E_{BD})+cap(E_{CD}) \\leq cap(E_{AD})+cap(E_{AB})+cap(E_{CD})+cap(E_{CB})$. Subtracting common terms from both sides, we get $cap(E_{BD}) \\leq cap(E_{AB})+cap(E_{CB})$\n",
    "    \n",
    "    \n",
    "In summary: From our assumption that C has a higher capacity than the two original minimum cuts, we find that $cap(E_{BA})+cap(E_{BD}) \\leq cap(E_{CB})$. Our goal is to show that $A \\cup B \\cup C$ has a higher capacity than either of the min cuts, which we found to be equivalent to showing that $cap(E_{BD}) \\leq cap(E_{AB})+cap(E_{CB})$.\n",
    "\n",
    "These two inequalities look a lot like each other. They would be equivalent if only $cap(E_{AB})$ and $cap(E_{BA})$ were zero. Fortunately, in the case of a project selection problem, they always are!"
   ]
  },
  {
   "cell_type": "markdown",
   "id": "fd059216",
   "metadata": {},
   "source": []
  },
  {
   "cell_type": "code",
   "execution_count": null,
   "id": "75a1d350",
   "metadata": {},
   "outputs": [],
   "source": [
    "\n",
    "\n",
    "\n",
    "\n"
   ]
  },
  {
   "cell_type": "markdown",
   "id": "ca600546",
   "metadata": {},
   "source": [
    "## The Secret Tie (zeroth attempt)"
   ]
  },
  {
   "cell_type": "markdown",
   "id": "d9ad6c70",
   "metadata": {},
   "source": [
    "Take an arbitrary graph with two minimum cuts. You may also assume that all capacities are positive.\n",
    "\n",
    "Remember that the capapcity of a cut is determined by the capacities of the edges that leave the cut (an edge going from a node inside the cut to a node out of the cut. Remember that a cut is simply a set of nodes)."
   ]
  },
  {
   "cell_type": "markdown",
   "id": "e29233ff",
   "metadata": {},
   "source": [
    "**Q:** Say we have true arbitrary cuts in a graph, $A$ and $B$. Say that we have a node in $A \\cup B$ (the intersection of $A$ and $B$). Will that node always be part of $A$? Will that node always be part of $B$?\n",
    "\n",
    "**A:** <font color='blue'> yes to both"
   ]
  },
  {
   "cell_type": "markdown",
   "id": "0ab9ea53",
   "metadata": {},
   "source": [
    "**Q:** If there is an edge leaving a node in $A \\cup B$, then does that edge leave $A$? Does the edge leave $B$\n",
    "\n",
    "**A:** <font color='blue'> yes, because any node in $A \\cup B$ is also in both $A$ and $B$"
   ]
  },
  {
   "cell_type": "code",
   "execution_count": 45,
   "id": "be4e7f42",
   "metadata": {},
   "outputs": [
    {
     "data": {
      "image/png": "[encoded data removed]",
      "text/plain": [
       "<Figure size 432x288 with 1 Axes>"
      ]
     },
     "metadata": {},
     "output_type": "display_data"
    }
   ],
   "source": [
    "g = nx.DiGraph()\n",
    "\n",
    "# nodes = ['s','a','b','c','d','t']\n",
    "# g.add_nodes_from(nodes)\n",
    "\n",
    "edges = [(1,2,2),(1,3,5),(2,4,1),(3,2,1),(3,5,3),(4,6,6),(5,2,1),(5,4,2),(5,6,1)]\n",
    "g.add_weighted_edges_from(edges, 'cap')\n",
    "\n",
    "pos = ((0,0),(0,10),(10,20),(10,0),(30,20),(30,0),(40,10))\n",
    "nx.draw(g, pos, node_size=500)"
   ]
  },
  {
   "cell_type": "markdown",
   "id": "a426a16c",
   "metadata": {},
   "source": [
    "Imagine the following situation: You solve the Project Selection using minimum cut, and you find not one but two distinct minimum cuts. You have a tie. There are two different combinations of projects you can perform that will lead to the same optimal objective value.\n",
    "\n",
    "\n",
    "\n",
    "\n",
    "\n",
    "\n",
    "Remember that a cut is simply any set of nodes which includes the source node and excludes the sink node."
   ]
  },
  {
   "cell_type": "markdown",
   "id": "76de2202",
   "metadata": {},
   "source": [
    "Show an example with a cut. Ask what the value of the cut is. Now take the same graph but a different cut. Ask what the value of the cut is. They are the same!\n",
    "\n",
    "Draw the intersection of the cut (remember, the intersection of a cut is a set of nodes)\n",
    "\n",
    "Let's see what we can say about the capacity of the intersection cut without actually calculating the capacity. You may assume that all capacities are positive.\n",
    "\n",
    "Remember that the capacity of a cut is completely determined by the capacity of the edges coming out of the cut. \n",
    "\n",
    "\n",
    "What is the capacity of the intersection cut.\n",
    "\n",
    "It is the same. There was a secret third tie!\n",
    "\n",
    "\n",
    "\n",
    "Now take this same concept, but on a general graph. Imagine the situation with two distinct min cuts. \n",
    "\n",
    "\n"
   ]
  },
  {
   "cell_type": "code",
   "execution_count": 38,
   "id": "f36ae71c",
   "metadata": {},
   "outputs": [
    {
     "ename": "TypeError",
     "evalue": "'NoneType' object is not iterable",
     "output_type": "error",
     "traceback": [
      "\u001b[1;31m---------------------------------------------------------------------------\u001b[0m",
      "\u001b[1;31mTypeError\u001b[0m                                 Traceback (most recent call last)",
      "\u001b[1;32m~\\AppData\\Local\\Temp/ipykernel_17540/3137237940.py\u001b[0m in \u001b[0;36m<module>\u001b[1;34m\u001b[0m\n\u001b[0;32m     45\u001b[0m \u001b[0mcut\u001b[0m\u001b[1;33m\u001b[0m\u001b[1;33m\u001b[0m\u001b[0m\n\u001b[0;32m     46\u001b[0m \u001b[1;33m\u001b[0m\u001b[0m\n\u001b[1;32m---> 47\u001b[1;33m \u001b[0mnx\u001b[0m\u001b[1;33m.\u001b[0m\u001b[0mcut_size\u001b[0m\u001b[1;33m(\u001b[0m\u001b[0mG\u001b[0m\u001b[1;33m=\u001b[0m\u001b[0mg\u001b[0m\u001b[1;33m,\u001b[0m \u001b[0mS\u001b[0m\u001b[1;33m=\u001b[0m\u001b[1;33m[\u001b[0m\u001b[1;34m'Turkey (dish)'\u001b[0m\u001b[1;33m,\u001b[0m \u001b[1;34m'Turkey (ingredient)'\u001b[0m\u001b[1;33m,\u001b[0m \u001b[1;34m'butter'\u001b[0m\u001b[1;33m,\u001b[0m \u001b[1;34m'milk'\u001b[0m\u001b[1;33m,\u001b[0m \u001b[1;34m's'\u001b[0m\u001b[1;33m]\u001b[0m\u001b[1;33m,\u001b[0m \u001b[0mweight\u001b[0m\u001b[1;33m=\u001b[0m\u001b[1;34m'cap'\u001b[0m\u001b[1;33m)\u001b[0m\u001b[1;33m\u001b[0m\u001b[1;33m\u001b[0m\u001b[0m\n\u001b[0m",
      "\u001b[1;32mC:\\ProgramData\\Anaconda3\\lib\\site-packages\\networkx\\algorithms\\cuts.py\u001b[0m in \u001b[0;36mcut_size\u001b[1;34m(G, S, T, weight)\u001b[0m\n\u001b[0;32m     80\u001b[0m     \u001b[0medges\u001b[0m \u001b[1;33m=\u001b[0m \u001b[0mnx\u001b[0m\u001b[1;33m.\u001b[0m\u001b[0medge_boundary\u001b[0m\u001b[1;33m(\u001b[0m\u001b[0mG\u001b[0m\u001b[1;33m,\u001b[0m \u001b[0mS\u001b[0m\u001b[1;33m,\u001b[0m \u001b[0mT\u001b[0m\u001b[1;33m,\u001b[0m \u001b[0mdata\u001b[0m\u001b[1;33m=\u001b[0m\u001b[0mweight\u001b[0m\u001b[1;33m,\u001b[0m \u001b[0mdefault\u001b[0m\u001b[1;33m=\u001b[0m\u001b[1;36m1\u001b[0m\u001b[1;33m)\u001b[0m\u001b[1;33m\u001b[0m\u001b[1;33m\u001b[0m\u001b[0m\n\u001b[0;32m     81\u001b[0m     \u001b[1;32mif\u001b[0m \u001b[0mG\u001b[0m\u001b[1;33m.\u001b[0m\u001b[0mis_directed\u001b[0m\u001b[1;33m(\u001b[0m\u001b[1;33m)\u001b[0m\u001b[1;33m:\u001b[0m\u001b[1;33m\u001b[0m\u001b[1;33m\u001b[0m\u001b[0m\n\u001b[1;32m---> 82\u001b[1;33m         \u001b[0medges\u001b[0m \u001b[1;33m=\u001b[0m \u001b[0mchain\u001b[0m\u001b[1;33m(\u001b[0m\u001b[0medges\u001b[0m\u001b[1;33m,\u001b[0m \u001b[0mnx\u001b[0m\u001b[1;33m.\u001b[0m\u001b[0medge_boundary\u001b[0m\u001b[1;33m(\u001b[0m\u001b[0mG\u001b[0m\u001b[1;33m,\u001b[0m \u001b[0mT\u001b[0m\u001b[1;33m,\u001b[0m \u001b[0mS\u001b[0m\u001b[1;33m,\u001b[0m \u001b[0mdata\u001b[0m\u001b[1;33m=\u001b[0m\u001b[0mweight\u001b[0m\u001b[1;33m,\u001b[0m \u001b[0mdefault\u001b[0m\u001b[1;33m=\u001b[0m\u001b[1;36m1\u001b[0m\u001b[1;33m)\u001b[0m\u001b[1;33m)\u001b[0m\u001b[1;33m\u001b[0m\u001b[1;33m\u001b[0m\u001b[0m\n\u001b[0m\u001b[0;32m     83\u001b[0m     \u001b[1;32mreturn\u001b[0m \u001b[0msum\u001b[0m\u001b[1;33m(\u001b[0m\u001b[0mweight\u001b[0m \u001b[1;32mfor\u001b[0m \u001b[0mu\u001b[0m\u001b[1;33m,\u001b[0m \u001b[0mv\u001b[0m\u001b[1;33m,\u001b[0m \u001b[0mweight\u001b[0m \u001b[1;32min\u001b[0m \u001b[0medges\u001b[0m\u001b[1;33m)\u001b[0m\u001b[1;33m\u001b[0m\u001b[1;33m\u001b[0m\u001b[0m\n\u001b[0;32m     84\u001b[0m \u001b[1;33m\u001b[0m\u001b[0m\n",
      "\u001b[1;32mC:\\ProgramData\\Anaconda3\\lib\\site-packages\\networkx\\algorithms\\boundary.py\u001b[0m in \u001b[0;36medge_boundary\u001b[1;34m(G, nbunch1, nbunch2, data, keys, default)\u001b[0m\n\u001b[0;32m     66\u001b[0m \u001b[1;33m\u001b[0m\u001b[0m\n\u001b[0;32m     67\u001b[0m     \"\"\"\n\u001b[1;32m---> 68\u001b[1;33m     \u001b[0mnset1\u001b[0m \u001b[1;33m=\u001b[0m \u001b[1;33m{\u001b[0m\u001b[0mn\u001b[0m \u001b[1;32mfor\u001b[0m \u001b[0mn\u001b[0m \u001b[1;32min\u001b[0m \u001b[0mnbunch1\u001b[0m \u001b[1;32mif\u001b[0m \u001b[0mn\u001b[0m \u001b[1;32min\u001b[0m \u001b[0mG\u001b[0m\u001b[1;33m}\u001b[0m\u001b[1;33m\u001b[0m\u001b[1;33m\u001b[0m\u001b[0m\n\u001b[0m\u001b[0;32m     69\u001b[0m     \u001b[1;31m# Here we create an iterator over edges incident to nodes in the set\u001b[0m\u001b[1;33m\u001b[0m\u001b[1;33m\u001b[0m\u001b[1;33m\u001b[0m\u001b[0m\n\u001b[0;32m     70\u001b[0m     \u001b[1;31m# `nset1`. The `Graph.edges()` method does not provide a guarantee\u001b[0m\u001b[1;33m\u001b[0m\u001b[1;33m\u001b[0m\u001b[1;33m\u001b[0m\u001b[0m\n",
      "\u001b[1;31mTypeError\u001b[0m: 'NoneType' object is not iterable"
     ]
    }
   ],
   "source": [
    "recipes = {\n",
    "    'Mashed potatoes': ['Potatoes', 'milk', 'butter'],\n",
    "    'Roasted vegetables': ['Butternut squash', 'Carrots', 'Rosemary'],\n",
    "    'Stuffing': ['Bread', 'Butter', 'Rosemary'],\n",
    "    'Butternut squash soup': ['Butternut squash', 'Milk'],\n",
    "    'Turkey (dish)': ['Turkey (ingredient)']\n",
    "}\n",
    "\n",
    "benefits = {\n",
    "    'Mashed potatoes': 3,\n",
    "    'Roasted vegetables': 6,\n",
    "    'Stuffing': 2,\n",
    "    'Butternut squash soup': 2,\n",
    "    'Turkey (dish)': -100\n",
    "}\n",
    "\n",
    "costs = {\n",
    "    'Potatoes': 4,\n",
    "    'Milk': 2,\n",
    "    'Butter': 1,\n",
    "    'Butternut squash': 4,\n",
    "    'Carrots': 3,\n",
    "    'Rosemary': 2,\n",
    "    'Bread': 1,\n",
    "    'Turkey (ingredient)': 10,\n",
    "}\n",
    "\n",
    "\n",
    "dishes = list(benefits.keys())\n",
    "ingredients = list(costs.keys())\n",
    "                   \n",
    "g = nx.DiGraph()\n",
    "\n",
    "for ingredient in ingredients:\n",
    "    g.add_node(ingredient)\n",
    "    g.add_edge(ingredient, 't', capacity=costs[ingredient])\n",
    "\n",
    "for dish in dishes:\n",
    "    g.add_node(dish)\n",
    "    g.add_edge('s', dish, capacity=benefits[dish])\n",
    "    for ingredient in recipes[dish]:\n",
    "        g.add_edge(dish, ingredient, capacity=float('inf'))\n",
    "\n",
    "cut = nx.algorithms.flow.minimum_cut(g, 's', 't')[1][0]\n",
    "cut\n",
    "\n",
    "nx.cut_size(G=g, S=['Turkey (dish)', 'Turkey (ingredient)', 'butter', 'milk', 's'], weight='cap')"
   ]
  }
 ],
 "metadata": {
  "kernelspec": {
   "display_name": "Python 3 (ipykernel)",
   "language": "python",
   "name": "python3"
  },
  "language_info": {
   "codemirror_mode": {
    "name": "ipython",
    "version": 3
   },
   "file_extension": ".py",
   "mimetype": "text/x-python",
   "name": "python",
   "nbconvert_exporter": "python",
   "pygments_lexer": "ipython3",
   "version": "3.7.10"
  }
 },
 "nbformat": 4,
 "nbformat_minor": 5
}
