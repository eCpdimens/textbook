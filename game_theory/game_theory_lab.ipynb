{
 "cells": [
  {
   "cell_type": "markdown",
   "metadata": {},
   "source": [
    "# Game Theory\n",
    "\n",
    "Sander Aarts, 2020 (Based on *Lab 11: Matrix Games* by David Williamson, 2013)"
   ]
  },
  {
   "cell_type": "markdown",
   "metadata": {},
   "source": [
    "**Objectives**\n",
    " - Introduce students to basic concepts in 0-sum 2-person games\n",
    " - Give students experience at computing optimal mixed minmax strategies\n",
    " - Give students experience at playing games\n",
    "\n",
    "**Reading:** The data in this lab was found from the following Stats Zone articles: [Article 1](https://www.thestatszone.com/archive/statistical-insight-into-penalty-shootouts-where-to-place-your-penalty-13886) and [Article 2](https://www.thestatszone.com/archive/an-analyses-of-penalty-taking-trends-in-the-champions-league-13654)\n",
    "\n",
    "**Brief description:** In this lab, we consider penalty kicks in soccer as an example of a simple game. First, you\n",
    "will be introduced to the rules and setting. Next you will play several rounds of the game against the computer. Finally, you will formally solve this game by describing strategies available to the players and characterizing equilibrium strategies and payoffs.\n",
    "\n",
    "<font color='blue'> <b>Solutions are shown blue.</b> </font> <br>\n",
    "<font color='red'> <b>Instuctor comments are shown in red.</b> </font>"
   ]
  },
  {
   "cell_type": "markdown",
   "metadata": {},
   "source": [
    "## Part 1: Introducing and playing the Penalty Kick game\n",
    "\n",
    "In soccer (football) a penalty kick is awarded agaist the team that commits a punishable foul inside their penalty area. The fouled team chooses one player that is allowed to take one free kick at the opposing team's goal while only the goalkeeper can defend. No other players may interfere, so the penalty kick can be seen as a one-shot game with two players. The kicker wants to kick the ball into the goal; the goalie wants to prevent this from happening. I.e. the two players' goals are diametrically opposed. Moreover, following a kick it typically takes the ball about 0.3 seconds to reach the goal, making it impossible for the goalkeeper to react to the kicker's action; both the kicker and the the goalkeeper must decide what to do without knowing the other player's action.\n",
    "\n",
    "<br>\n",
    "\n",
    "<div style=\"align: left; text-align:center;\">\n",
    "    <img src=\"carli_lloyd_goal.gif\" alt=\"Carli Lloyd (US) scoring a penalty kick against Germany, 2015\" title=\"Carli Lloyd (US) scoring a penalty kick against Germany, 2015.\" width=\"360px\" />\n",
    "    <div class=\"caption\">Figure 1: A penalty kick. The kicker plays right; the goalkeeper left. It's a goal!\n",
    "    </div>\n",
    "</div>\n",
    "\n",
    "\n",
    "<br>\n",
    "\n",
    "You will play a simple version of the penalty kick game. The rules are as follows:\n",
    " - You are on offense. One by one you select different kickers (right or left footed) to shoot penalty kicks\n",
    " - Your goal is to make as many goals as possible (maximize number of goals)\n",
    " - First, you select either a left- or right-footed kicker. The goalie is informed of which you picked.\n",
    " - Afterwards, the computer commits to an action; options are to dive **Left**, **Right**, or stay **Middle**\n",
    " - Before knowing the goalie's choice, you commit to kick to the goalie's **Left**, **Right**, or **Middle**.\n",
    " - The type of kicker, the goalie's action, and your action jointly determine the probability of a win.\n",
    " - A goal / no goal is drawn according to this probability. A goal generates 1 point; a save -1. You want to maximize the total score.\n",
    " - The table below shows the scoring probabilities for all possible outcomes.\n",
    " \n",
    " <br>\n",
    " \n",
    "<div style=\"align: left; text-align:center;\">\n",
    "    <table style=\"width:60%\">\n",
    "  <tr>\n",
    "    <th>Scoring Probability</th>\n",
    "    <th>LL</th>\n",
    "    <th>LM</th>\n",
    "    <th>LR</th>\n",
    "    <th>ML</th>\n",
    "    <th>MM</th>\n",
    "    <th>MR</th>\n",
    "    <th>RL</th>\n",
    "    <th>RM</th>\n",
    "    <th>RR</th>\n",
    "  </tr>\n",
    "  <tr>\n",
    "    <td>Right-footed kicker</td>\n",
    "    <td>.55</td>\n",
    "    <td>.65</td>\n",
    "    <td>.93</td>\n",
    "    <td>.74</td>\n",
    "    <td>.60</td>\n",
    "    <td>.72</td>\n",
    "    <td>.95</td>\n",
    "    <td>.73</td>\n",
    "    <td>.70</td>\n",
    "  </tr>\n",
    "  <tr>\n",
    "    <td>Left-footed kicker</td>\n",
    "    <td>.67</td>\n",
    "    <td>.70</td>\n",
    "    <td>.96</td>\n",
    "    <td>.74</td>\n",
    "    <td>.60</td>\n",
    "    <td>.72</td>\n",
    "    <td>.87</td>\n",
    "    <td>.65</td>\n",
    "    <td>.61</td>\n",
    "  </tr>\n",
    "</table>\n",
    "    <div class=\"caption\">Table 1: The first letter in a column denotes the kicker's choice, the latter the goalie's choice. </div>\n",
    "</div> "
   ]
  },
  {
   "cell_type": "markdown",
   "metadata": {},
   "source": [
    "**Q1:** Play 50 rounds against the computer [HERE](http://engri1101.orie.cornell.edu/penalty_kick_source/penalty_kick_game.html). The computer is not dumb\n",
    "(or at least, it has not been programmed in a stupid way) and so it follows \"fictious play\" by tying to play its best action against your past choices. When you finish the run of 50 times, the program will report your overall score.  Try to do as well as you can. (You must trust the software that the goals are determined honestly from the listed probabilities.) How well did you do? \n",
    "\n",
    "**A:** <font color='blue'> Answers will vary.</font>"
   ]
  },
  {
   "cell_type": "markdown",
   "metadata": {},
   "source": [
    "## Part 2: Solving the Penalty Kick game"
   ]
  },
  {
   "cell_type": "markdown",
   "metadata": {},
   "source": [
    "In this part of the lab, we will try to analyze the game that you have just played. In formulating a 2-person\n",
    "0-sum game the first step is to figure out all of the pure strategies (not just the good ones) for each of\n",
    "the players. Remember, one strategy can be thought of as a complete set of instructions that you can give\n",
    "someone else, so that he or she plays just as you would until the end of the game (without knowing which\n",
    "moves will be taken in advance)."
   ]
  },
  {
   "cell_type": "markdown",
   "metadata": {},
   "source": [
    "**Q2:** Give the six pure strategies that you might have played.\n",
    "\n",
    "**A:** <font color='blue'> You can choose the following pure strategies:\n",
    "    \n",
    " - Pick a right-footed striker and kick Right (RR).\n",
    " - Pick a right-footed striker and kick Middle (RM).\n",
    " - Pick a right-footed striker and kick Left (RL).\n",
    " - Pick a left-footed striker and kick Right (LR).\n",
    " - Pick a left-footed striker and kick Middle (LM).\n",
    " - Pick a left-footed striker and kick Left (LL).\n",
    "</font>"
   ]
  },
  {
   "cell_type": "markdown",
   "metadata": {},
   "source": [
    "The pure strategies for the goalie are a little more complicated. After you pick a striker, their dominant foot is announced. At this point, the goalie only has three pure strategies available; Right, Middle, and Left. Imagine we give the goalie explicit instructions which denote exactly what to do for any possibile action the striker may take."
   ]
  },
  {
   "cell_type": "markdown",
   "metadata": {},
   "source": [
    "**Q3:** For what actions from the striker do we need to specify a response in any pure strategy for the goalie?\n",
    "\n",
    "**A:** <font color='blue'>We must tell the goalie what to do in the case of a left-footed kicker and what to do in the case of a right-footed kicker.</font>"
   ]
  },
  {
   "cell_type": "markdown",
   "metadata": {},
   "source": [
    "Following the notation from the handout, a pure strategy from the goalie takes the form $([L, i], [R, j])$ read as \"If the kicker if left-footed, do $i$. If the kicker is right-footed, do $j$.\""
   ]
  },
  {
   "cell_type": "markdown",
   "metadata": {},
   "source": [
    "**Q4:** What values can $i$ and $j$ take? How many pure stratagies does the goalie have?\n",
    "\n",
    "**A:** <font color='blue'> Both $i$ and $j$ can take values in ${L, M, R}$. Hence, the goalie has 9 pure strategies.</font>"
   ]
  },
  {
   "cell_type": "markdown",
   "metadata": {},
   "source": [
    "Now, we break the game down into sub-games to make things easier. We have two games: one for the left-footed kicker and one for the right-footed kicker."
   ]
  },
  {
   "cell_type": "markdown",
   "metadata": {},
   "source": [
    "**Q5:** Write down the 3x3 payoff matrices for **both** games.\n",
    "\n",
    "**A:** <font color='blue'> See tables.</font>\n",
    "\n",
    "<div style=\"align: left; text-align:center;\">\n",
    "    <table style=\"width:60%\">\n",
    "    <tr>\n",
    "        <th>Right-footed striker</th>\n",
    "        <th>L</th>\n",
    "        <th>M</th>\n",
    "        <th>R</th>\n",
    "    </tr>\n",
    "    <tr>\n",
    "        <td>L</td>\n",
    "        <td>.55</td>\n",
    "        <td>.65</td>\n",
    "        <td>.93</td>\n",
    "    </tr>\n",
    "    <tr>\n",
    "        <td>M</td>\n",
    "        <td>.74</td>\n",
    "        <td>.60</td>\n",
    "        <td>.72</td>\n",
    "    </tr>\n",
    "    <tr>\n",
    "        <td>R</td>\n",
    "        <td>.95</td>\n",
    "        <td>.73</td>\n",
    "        <td>.70</td>\n",
    "    </tr>\n",
    "    </table>\n",
    "        <div class=\"caption\">Table (a): Right-footed striker payoff table. The striker is the row player. </div>\n",
    "</div>\n",
    "\n",
    "<br>\n",
    "\n",
    "<div style=\"align: left; text-align:center;\">\n",
    "    <table style=\"width:60%\">\n",
    "    <tr>\n",
    "        <th>Left-footed striker</th>\n",
    "        <th>L</th>\n",
    "        <th>M</th>\n",
    "        <th>R</th>\n",
    "    </tr>\n",
    "    <tr>\n",
    "        <td>L</td>\n",
    "        <td>.67</td>\n",
    "        <td>.70</td>\n",
    "        <td>.96</td>\n",
    "    </tr>\n",
    "    <tr>\n",
    "        <td>M</td>\n",
    "        <td>.74</td>\n",
    "        <td>.60</td>\n",
    "        <td>.72</td>\n",
    "    </tr>\n",
    "    <tr>\n",
    "        <td>R</td>\n",
    "        <td>.87</td>\n",
    "        <td>.65</td>\n",
    "        <td>.61</td>\n",
    "    </tr>\n",
    "    </table>\n",
    "        <div class=\"caption\">Table (b): Left-footed striker payoff table. The striker is the row player. </div>\n",
    "</div> "
   ]
  },
  {
   "cell_type": "markdown",
   "metadata": {},
   "source": [
    "**Q6:** In each matrix, are any pure strategies dominated by another pure strategy?\n",
    "\n",
    "**A:** <font color='blue'>No.</font>"
   ]
  },
  {
   "cell_type": "markdown",
   "metadata": {},
   "source": [
    "**Q7:** In each matric, are any pure strategies dominated by a mixed strategy? (Hint: Try randomizing 50/50 over two strategies and see how they compare against the third.)\n",
    "\n",
    "**A:** <font color='blue'> In both sub-games the middle stragey, for both the goalkeeper and striker, is dominated by e.g. a 50/50 mix of L and R. Intution may require football insight, but for ones that know, professional players almost never shoot at the middle, and goalies almost never stay put in the middle either.\n",
    "</font>"
   ]
  },
  {
   "cell_type": "markdown",
   "metadata": {},
   "source": [
    "**Q8:** Based on your answers from **Q6** and **Q7**, simplify the payoff matrices by removing pure strategies that are dominated by some pure or mixed strategy. (Hint: Both simplified payoff matrices should be 2x2.)\n",
    "\n",
    "**A:** <font color='blue'> See tables.</font>\n",
    "\n",
    "<div style=\"align: left; text-align:center;\">  \n",
    "    <table style=\"width:60%\">\n",
    "    <tr>\n",
    "        <th>Right-footed striker</th>\n",
    "        <th>L</th>\n",
    "        <th>R</th>\n",
    "    </tr>\n",
    "    <tr>\n",
    "        <td>L</td>\n",
    "        <td>.55</td>\n",
    "        <td>.93</td>\n",
    "    </tr>\n",
    "    <tr>\n",
    "        <td>R</td>\n",
    "        <td>.95</td>\n",
    "        <td>.70</td>\n",
    "    </tr>\n",
    "    </table>\n",
    "        <div class=\"caption\">Table (a): Right-footed striker payoff table. The striker is the row player. </div>\n",
    "</div>\n",
    "\n",
    "<br>\n",
    "\n",
    "<div style=\"align: left; text-align:center;\">\n",
    "    <table style=\"width:60%\">\n",
    "    <tr>\n",
    "        <th>Left-footed striker</th>\n",
    "        <th>L</th>\n",
    "        <th>R</th>\n",
    "    </tr>\n",
    "    <tr>\n",
    "        <td>L</td>\n",
    "        <td>.67</td>\n",
    "        <td>.96</td>\n",
    "    </tr>\n",
    "    <tr>\n",
    "        <td>R</td>\n",
    "        <td>.87</td>\n",
    "        <td>.61</td>\n",
    "    </tr>\n",
    "    </table>\n",
    "        <div class=\"caption\">Table (b): Left-footed striker payoff table. The striker is the row player. </div>\n",
    "</div> "
   ]
  },
  {
   "cell_type": "markdown",
   "metadata": {},
   "source": [
    "**Q9:** Use the graphical method to find the optimal strategy for the goalkeeper in both matrix-games. Do the equilibrium strategies make intuitive sense?\n",
    "\n",
    "**A:** <font color='blue'> Run cell below. </font>"
   ]
  },
  {
   "cell_type": "markdown",
   "metadata": {},
   "source": [
    "<font color='red'>\n",
    "    We may want to let students just plug in the right values and use the plotting machinery. Though it does feel educational to let them draw by hand.\n",
    "</font>"
   ]
  },
  {
   "cell_type": "code",
   "execution_count": 1,
   "metadata": {},
   "outputs": [
    {
     "data": {
      "image/png": "[encoded data removed]",
      "text/plain": [
       "<Figure size 864x288 with 2 Axes>"
      ]
     },
     "metadata": {
      "needs_background": "light"
     },
     "output_type": "display_data"
    }
   ],
   "source": [
    "import matplotlib.pyplot as plt\n",
    "import numpy as np\n",
    "from matplotlib import collections as col\n",
    "\n",
    "fig, ax = plt.subplots(nrows=1, ncols=2, figsize=(12, 4))\n",
    "# ax[0].plot(x1, y1)\n",
    "# ax[1].plot(x2, y2)\n",
    "fig.tight_layout()\n",
    "\n",
    "lines1 = [[(0, 0.93), (1, 0.55)], [(0, 0.73), (1, .95)]]\n",
    "lc1 = col.LineCollection(lines1, colors=['red','green'], linewidths=2)\n",
    "\n",
    "ax[0].add_collection(lc1)\n",
    "ax[0].autoscale()\n",
    "ax[0].set_title('Right-footed striker')\n",
    "ax[0].set_ylabel('Expected Payoff (striker)')\n",
    "ax[0].set_xlabel('Probability of jumping left (goalie)')\n",
    "ax[0].axvline(x=1/3, color='black', linewidth=1)\n",
    "\n",
    "\n",
    "lines2 = [[(0, 0.91), (1, 0.67)], [(0, 0.61), (1, .87)]]\n",
    "lc2 = col.LineCollection(lines2, colors=['red','green'], linewidths=2)\n",
    "ax[1].add_collection(lc2)\n",
    "ax[1].autoscale()\n",
    "ax[1].set_title('Left-footed striker')\n",
    "ax[1].set_ylabel('Expected Payoff (striker)')\n",
    "ax[1].set_xlabel('Probability of jumping left (goalie)')\n",
    "ax[1].axvline(x=0.6, color='black', linewidth=1)\n",
    "plt.show()"
   ]
  },
  {
   "cell_type": "markdown",
   "metadata": {},
   "source": [
    "<font color='blue'>\n",
    "The red lines represent the striker's payoff of playing Left; the green line that of playing Right.\n",
    "    \n",
    "The probabilities at which the strikers are indifferent are:\n",
    " - If striker is right-footed, the goalie jumps Left with probability 1/3.\n",
    " - If striker is left-footed, the goalie jumps Left with probability 0.6.\n",
    "    \n",
    "It makes sense that the goalkeeper would jump towards her opponent's better direction more often.\n",
    "</font>    "
   ]
  },
  {
   "cell_type": "markdown",
   "metadata": {},
   "source": [
    "**Q7:** Assume that the goalkeeper implements her optimal (mixed) strategy from part 5 against right-, and left-footed stikers respectively. Is one type of striker more likely to score a goal than the other?\n",
    "\n",
    "**A:** <font color='blue'> Read off graphical method graph (y-axis is Striker payoff). Right-footed strikers are more likely to win.\n",
    "</font>"
   ]
  },
  {
   "cell_type": "markdown",
   "metadata": {},
   "source": [
    "**Q8:** For the type of striker more likely to win, use the graphical method to find the optimal (mixed) strategy.\n",
    "\n",
    "**A:** <font color='blue'> Run cell and see picture. </font>"
   ]
  },
  {
   "cell_type": "code",
   "execution_count": 2,
   "metadata": {
    "scrolled": true
   },
   "outputs": [
    {
     "data": {
      "image/png": "[encoded data removed]",
      "text/plain": [
       "<Figure size 432x288 with 1 Axes>"
      ]
     },
     "metadata": {
      "needs_background": "light"
     },
     "output_type": "display_data"
    }
   ],
   "source": [
    "ig, ax = plt.subplots()\n",
    "fig.tight_layout()\n",
    "\n",
    "lines = [[(0, 0.96), (1, 0.55)], [(0, 0.73), (1, .95)]]\n",
    "lc = col.LineCollection(lines, colors=['red','green'], linewidths=2)\n",
    "\n",
    "ax.add_collection(lc)\n",
    "ax.autoscale()\n",
    "ax.set_title('Right-footed striker')\n",
    "ax.set_ylabel('Expected Payoff (goalkeeper)')\n",
    "ax.set_xlabel('Probability of kicking left (striker)')\n",
    "ax.axvline(x=.365, color='black', linewidth=1)\n",
    "\n",
    "plt.show()"
   ]
  },
  {
   "cell_type": "markdown",
   "metadata": {},
   "source": [
    "<font color='blue'>\n",
    "The red line represents the goalkeepers's payoff of playing Left; the green line that of playing Right.\n",
    "</font>\n",
    "\n"
   ]
  },
  {
   "cell_type": "markdown",
   "metadata": {},
   "source": [
    "**Q9:** Collect your findings from above to compile a <b>complete set of instructions</b> for the players in equilibrium. (Hint: even if the computer always chooses one type of striker, you should specify what the goalkeeper should do against the other type; you already did the computation in part 5).\n",
    "\n",
    "**A:** <font color='blue'> The instructions are:\n",
    "    \n",
    " - Computer chooses a Right-footed striker.\n",
    " - Computer plays Left w.p approx. 0.365 (part 7.)\n",
    " - IF computer chooses a Right-footed striker, the goalkeeper plays Left w.p. 1/3.\n",
    " - IF computer chooses a Left-footed striker, the goalkeeper plays Left w.p. 0.6.\n",
    "</font>"
   ]
  },
  {
   "cell_type": "markdown",
   "metadata": {},
   "source": [
    "**Q10:** Is the game fair? If now, how is it not?\n",
    "\n",
    "**A:** <font color='blue'> It is not. In equilibrium the computer wins ca 0.8 of all games.\n",
    "</font>"
   ]
  }
 ],
 "metadata": {
  "kernelspec": {
   "display_name": "Python 3",
   "language": "python",
   "name": "python3"
  },
  "language_info": {
   "codemirror_mode": {
    "name": "ipython",
    "version": 3
   },
   "file_extension": ".py",
   "mimetype": "text/x-python",
   "name": "python",
   "nbconvert_exporter": "python",
   "pygments_lexer": "ipython3",
   "version": "3.6.10"
  }
 },
 "nbformat": 4,
 "nbformat_minor": 4
}
