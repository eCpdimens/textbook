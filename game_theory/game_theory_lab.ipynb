{
 "cells": [
  {
   "cell_type": "markdown",
   "metadata": {},
   "source": [
    "<font color='red'>\n",
    "    \n",
    "This is a lab demo for ORIE 1101 by Sander Aarts, 2020.\n",
    "    \n",
    "Based on 'Lab 11: Matrix Games' by David Williamson, 2013.\n",
    "    \n",
    "Penalty kick application based on 'Professionals Play Minimax' by Ignacio Palacios-Huerta (2003).\n",
    "    \n",
    "Additional data from:\n",
    "    \n",
    "    > https://www.thestatszone.com/archive/statistical-insight-into-penalty-shootouts-where-to-place-your-penalty-13886\n",
    "    > https://www.thestatszone.com/archive/an-analyses-of-penalty-taking-trends-in-the-champions-league-13654\n",
    "    \n",
    "Meta comments in red; solutions in blue.\n",
    "    \n",
    "</font>"
   ]
  },
  {
   "cell_type": "markdown",
   "metadata": {},
   "source": [
    "# Lab XX: Matrix Games & Penalty Kicks"
   ]
  },
  {
   "cell_type": "markdown",
   "metadata": {},
   "source": [
    "### Objectives:\n",
    " - Introduce students to basic concepts in 0-sum 2-person games\n",
    " - Give students experience at computing optimal mixed minmax strategies\n",
    " - Give students experience at playing games\n",
    " \n",
    "### Key Ideas: \n",
    " - 0-sum 2-person games\n",
    " - Payoff matrix\n",
    " - Pure strategies\n",
    " - Mixed strategies\n",
    " - Expected payoffs\n",
    " - Optimal solution\n",
    " - Fair games\n",
    " \n",
    "### Brief description:\n",
    "In this lab, we consider penalty kicks in soccer as an example of a simple game. First, you\n",
    "will be introduced to the rules and setting. Nest you will play several rounds of the game against the computer. Finally, you will formally solve this game by describing strategies available to the players and characterizing equilibrium strategies and payoffs."
   ]
  },
  {
   "cell_type": "markdown",
   "metadata": {},
   "source": [
    "## Part 1: Introducing and playing the Penalty Kick game\n",
    "\n",
    "In soccer (football) a penalty kick is awarded agaist the tham that commits a punishable foul inside their penalty area. The fouled team chooses one player that is allowed to take one free kick at the opposing team's goal while only the goalkeeper can defend. No other players may interfere, so the penalty kick can be seen as a one-shot game with two players. The kicker wants to kick the ball into the goal; the goalie wants to prevent this from happening. I.e. tho two players' goals are diametrically opposed. Moreover, following a kick it typically takes the ball about 0.3 seconds to reach the goal, making it impossible for the goalkeeper to react to the kicker's action; both the kicker and the the goalkeeper must decide what to do without knowing the other player's action.\n",
    "\n",
    "<br>\n",
    "\n",
    "<div style=\"align: left; text-align:center;\">\n",
    "    <img src=\"https://usatftw.files.wordpress.com/2015/06/untitled-111.gif\" alt=\"Carli Lloyd (US) scoring a penalty kick against Germany, 2015\" title=\"Carli Lloyd (US) scoring a penalty kick against Germany, 2015. Retrieved from https://usatftw.files.wordpress.com/2015/06/untitled-111.gif\"  width=\"360px\" />\n",
    "    <div class=\"caption\">Figure 1: A penalty kick. The kicker plays Left; the goalkeeper Right. It's a goal!\n",
    "    </div>\n",
    "</div>\n",
    "\n",
    "\n",
    "<br>\n",
    "\n",
    "You will play a simple version of the penalty kick game. The rules are as follows:\n",
    " - You are the goalkeeper. One by one different kickers shoot penalty kicks at your goal.\n",
    " - Your goal is to save as many goals as possible (minimize number of goals).\n",
    " - The opposing team first chooses a left- or right-footed kicker. You are informed of which.\n",
    " - The computer then commits to an action;  options are to kick to the goalie's **Left**, her **Right**, or at the **Middle**.\n",
    " - Before knowing kicker's choice, you commit to jumping **Left**, jumping **Right**, or to say in the **Middle**.\n",
    " - After both players lock in their decicisons, each player's action are revelaed.\n",
    " - The type of kicker, the kicker's action, and you action jointly determine the probability of a win.\n",
    " - A goal / no goal is drawn according to this probability. A goal generates 1 point; a save -1. You want to minimize the total score.\n",
    " - The table below shows the scoring probabilities for all possible outcomes.\n",
    " \n",
    " <br>\n",
    " \n",
    "<div style=\"align: left; text-align:center;\">\n",
    "    <table style=\"width:60%\">\n",
    "  <tr>\n",
    "    <th>Scoring Probability</th>\n",
    "    <th>LL</th>\n",
    "    <th>LM</th>\n",
    "    <th>LR</th>\n",
    "    <th>ML</th>\n",
    "    <th>MM</th>\n",
    "    <th>MR</th>\n",
    "    <th>RL</th>\n",
    "    <th>RM</th>\n",
    "    <th>RR</th>\n",
    "  </tr>\n",
    "  <tr>\n",
    "    <td>Right-footed kicker</td>\n",
    "    <td>.55</td>\n",
    "    <td>.65</td>\n",
    "    <td>.93</td>\n",
    "    <td>.74</td>\n",
    "    <td>.60</td>\n",
    "    <td>.72</td>\n",
    "    <td>.95</td>\n",
    "    <td>.73</td>\n",
    "    <td>.70</td>\n",
    "  </tr>\n",
    "  <tr>\n",
    "    <td>Left-footed kicker</td>\n",
    "    <td>.67</td>\n",
    "    <td>.70</td>\n",
    "    <td>.96</td>\n",
    "    <td>.74</td>\n",
    "    <td>.60</td>\n",
    "    <td>.72</td>\n",
    "    <td>.87</td>\n",
    "    <td>.65</td>\n",
    "    <td>.61</td>\n",
    "  </tr>\n",
    "</table>\n",
    "    <div class=\"caption\">Table 1: The first letter in a column denotes the kicker's choice, the latter the goalie's choice. </div>\n",
    "</div> \n",
    " \n",
    "\n",
    "Play 50 rounds against the computer in the cell below. The computer is not dumb\n",
    "(or at least, it has not been programmed in a stupid way) and so it follows \"fictious play\" by tying to play its best action against your past choices. When you finish the run of 50 times, the program will report your overall score.  Try to do as well as you can. (You must trust the software that the goals are determined honestly from the listed probabilities.) How well did you do? \n",
    "\n"
   ]
  },
  {
   "cell_type": "code",
   "execution_count": null,
   "metadata": {},
   "outputs": [],
   "source": [
    "# Play fictitious play"
   ]
  },
  {
   "cell_type": "markdown",
   "metadata": {},
   "source": [
    "## Part 2: Solving the Penalty Kick game"
   ]
  },
  {
   "cell_type": "markdown",
   "metadata": {},
   "source": [
    "In this part of the lab, we will try to analyze the game that you have just played. In formulating a 2-person\n",
    "0-sum game the first step is to figure out all of the pure strategies (not just the good ones) for each of\n",
    "the players. Remember, one strategy can be thought of as a complete set of instructions that you can give\n",
    "someone else, so that he or she plays just as you would until the end of the game (without knowing which\n",
    "moves will be taken in advance). We will break the game down into sub-games to make things easier."
   ]
  },
  {
   "cell_type": "markdown",
   "metadata": {},
   "source": [
    "1. Give the six pure strategies that the computer might have played. (In fact, the computer only plays only\n",
    "two of them.)"
   ]
  },
  {
   "cell_type": "markdown",
   "metadata": {},
   "source": [
    "<font color='blue'>\n",
    "   <b>Solution:</b> The computer can choose the following pure strategies:\n",
    "    \n",
    " - Pick a right-footed striker and kick Right (rR).\n",
    " - Pick a right-footed striker and kick Middle (rM).\n",
    " - Pick a right-footed striker and kick Left (rL).\n",
    " - Pick a left-footed striker and kick Right (lR).\n",
    " - Pick a right-footed striker and kick Middle (lM).\n",
    " - Pick a right-footed striker and kick Left (lL).\n",
    "</font>"
   ]
  },
  {
   "cell_type": "markdown",
   "metadata": {},
   "source": [
    "2. After the computer picks a striker her dominant foot is accounced, you only have three pure strategies available; Right, Middle, and Left. However, let's imagine giving written instructions to the goalkeeper, in a way that specifies exactly what to do for any possibile action the computer takes.\n",
    "<br>\n",
    "<br>\n",
    "E.g. \"If the striker is left footed, jump left, if right-footed, stay in middle.\"\n",
    "<br>\n",
    "<br>\n",
    "Give the two four different (non-randomized) instructions that you could give."
   ]
  },
  {
   "cell_type": "markdown",
   "metadata": {},
   "source": [
    "<font color='blue'>\n",
    "    <b>Solution:</b> The computer can choose the following pure strategies:\n",
    "    \n",
    " - If a right-footed striker is chosen, jump Right (RR).\n",
    " - If a right-footed striker is chosen, stay in Middle (RM).\n",
    " - If a right-footed striker is chosen, jump Left (RL).\n",
    " - If a left-footed striker is chosen, jump Right (LR).\n",
    " - If a left-footed striker is chosen, stay in Middle (LM).\n",
    " - If a left-footed striker is chosen, jump Left (LL).\n",
    "</font>"
   ]
  },
  {
   "cell_type": "markdown",
   "metadata": {},
   "source": [
    "3. Now consider two sub-games. In one game the striker has been fixed to be right-footed; in another she is fixed as left-footed.\n",
    "<br>\n",
    "Write down the <b>two</b> 3-by-3 payoff matrices. Each cell should contain the pobability of a goal."
   ]
  },
  {
   "cell_type": "markdown",
   "metadata": {},
   "source": [
    "<font color='blue'>\n",
    "    <b>Solution:</b> See tables.\n",
    "</font>\n",
    "\n",
    "<div style=\"align: left; text-align:center;\">\n",
    "    <table style=\"width:60%\">\n",
    "    <tr>\n",
    "        <th>Right-footed striker</th>\n",
    "        <th>L</th>\n",
    "        <th>M</th>\n",
    "        <th>R</th>\n",
    "    </tr>\n",
    "    <tr>\n",
    "        <td>L</td>\n",
    "        <td>.55</td>\n",
    "        <td>.65</td>\n",
    "        <td>.93</td>\n",
    "    </tr>\n",
    "    <tr>\n",
    "        <td>M</td>\n",
    "        <td>.74</td>\n",
    "        <td>.60</td>\n",
    "        <td>.72</td>\n",
    "    </tr>\n",
    "    <tr>\n",
    "        <td>R</td>\n",
    "        <td>.95</td>\n",
    "        <td>.70</td>\n",
    "        <td>.70</td>\n",
    "    </tr>\n",
    "    </table>\n",
    "        <div class=\"caption\">Table (a): Right-footed striker payoff table. The striker is the column player. </div>\n",
    "</div>\n",
    "\n",
    "<br>\n",
    "\n",
    "<div style=\"align: left; text-align:center;\">\n",
    "    <table style=\"width:60%\">\n",
    "    <tr>\n",
    "        <th>Left-footed striker</th>\n",
    "        <th>L</th>\n",
    "        <th>M</th>\n",
    "        <th>R</th>\n",
    "    </tr>\n",
    "    <tr>\n",
    "        <td>L</td>\n",
    "        <td>.67</td>\n",
    "        <td>.70</td>\n",
    "        <td>.96</td>\n",
    "    </tr>\n",
    "    <tr>\n",
    "        <td>M</td>\n",
    "        <td>.74</td>\n",
    "        <td>.60</td>\n",
    "        <td>.72</td>\n",
    "    </tr>\n",
    "    <tr>\n",
    "        <td>R</td>\n",
    "        <td>.87</td>\n",
    "        <td>.65</td>\n",
    "        <td>.61</td>\n",
    "    </tr>\n",
    "    </table>\n",
    "        <div class=\"caption\">Table (b): Left-footed striker payoff table. The striker is the column player. </div>\n",
    "</div> "
   ]
  },
  {
   "cell_type": "markdown",
   "metadata": {},
   "source": [
    "4. In each matrix, are any strategies dominated by other ones? Did you susepect this from the start?\n",
    "<br>\n",
    "(Hint: A strategy can be dominated by a mixed strategy; try randomizing 50/50 over two strategies and see how they compare against the third.)"
   ]
  },
  {
   "cell_type": "markdown",
   "metadata": {},
   "source": [
    "<font color='blue'>\n",
    "    <b>Solution:</b> In both sub-games the middle stragey, for both the goalkeeper and striker, is dominated by e.g. a 50/50 mix of L and R.\n",
    "    \n",
    "Intution may require football insight, but for ones that know, professional players almost never shoot at the middle, and goalies almost never stay put in the middle either.\n",
    "</font>"
   ]
  },
  {
   "cell_type": "markdown",
   "metadata": {},
   "source": [
    "5. Use the graphical method to find the optimal strategy for the goalkeeper in both matrix-games. Do the equilibrium strategies make intuitive sense?\n",
    "<br>\n",
    "(Hint: By dominance in part 4. both matrices should be of size 2-by-2)."
   ]
  },
  {
   "cell_type": "markdown",
   "metadata": {},
   "source": [
    "<font color='red'>\n",
    "    We may want to let students just plug in the right values and use the plotting machinery. Though it does feel educational to let them draw by hand.\n",
    "</font>"
   ]
  },
  {
   "cell_type": "markdown",
   "metadata": {},
   "source": [
    "<font color='blue'>\n",
    "    <b>Solution:</b> Run cell below.\n",
    "</font>"
   ]
  },
  {
   "cell_type": "code",
   "execution_count": 52,
   "metadata": {},
   "outputs": [
    {
     "data": {
      "image/png": "[encoded data removed]",
      "text/plain": [
       "<Figure size 864x288 with 2 Axes>"
      ]
     },
     "metadata": {
      "needs_background": "light"
     },
     "output_type": "display_data"
    }
   ],
   "source": [
    "import matplotlib.pyplot as plt\n",
    "import numpy as np\n",
    "from matplotlib import collections as col\n",
    "\n",
    "ig, ax = plt.subplots(nrows=1, ncols=2, figsize=(12, 4))\n",
    "#ax[0].plot(x1, y1)\n",
    "#ax[1].plot(x2, y2)\n",
    "fig.tight_layout()\n",
    "\n",
    "lines1 = [[(0, 0.93), (1, 0.55)], [(0, 0.73), (1, .95)]]\n",
    "lc1 = col.LineCollection(lines1, colors=c, linewidths=2)\n",
    "\n",
    "ax[0].add_collection(lc1)\n",
    "ax[0].autoscale()\n",
    "ax[0].set_title('Right-footed striker')\n",
    "ax[0].set_ylabel('Expected Payoff (striker)')\n",
    "ax[0].set_xlabel('Probability of jumping left (goalie)')\n",
    "ax[0].axvline(x=1/3, color='black', linewidth=1)\n",
    "\n",
    "\n",
    "lines2 = [[(0, 0.91), (1, 0.67)], [(0, 0.61), (1, .87)]]\n",
    "lc2 = col.LineCollection(lines2, colors=c, linewidths=2)\n",
    "ax[1].add_collection(lc2)\n",
    "ax[1].autoscale()\n",
    "ax[1].set_title('Left-footed striker')\n",
    "ax[1].set_ylabel('Expected Payoff (striker)')\n",
    "ax[1].set_xlabel('Probability of jumping left (goalie)')\n",
    "ax[1].axvline(x=0.6, color='black', linewidth=1)\n",
    "plt.show()"
   ]
  },
  {
   "cell_type": "markdown",
   "metadata": {},
   "source": [
    "<font color='blue'>\n",
    "The red lines represent the striker's payoff of playing Left; the green line that of playing Right.\n",
    "    \n",
    "The probabilities at which the strikers are indifferent are:\n",
    " - If striker is right-footed, the goalie jumps Left with probability 1/3.\n",
    " - If striker is left-footed, the goalie jumps Left with probability 0.6.\n",
    "    \n",
    "It makes sense that the goalkeeper would jump towards her opponent's better direction more often.\n",
    "</font>    "
   ]
  },
  {
   "cell_type": "markdown",
   "metadata": {},
   "source": [
    "6. Assume that the goalkeeper implements her optimal (mixed) strategy from part 5 against right-, and left-footed stikers respectively. Is one type of striker more likely to score a goal than the other?"
   ]
  },
  {
   "cell_type": "markdown",
   "metadata": {},
   "source": [
    "<font color='blue'>\n",
    "    <b>Solution:</b> Read off graphical method graph (y-axis is Striker payoff). Right-footed strikers are more likely to win.\n",
    "</font>"
   ]
  },
  {
   "cell_type": "markdown",
   "metadata": {},
   "source": [
    "7. For the type of striker more likely to win, use the graphical method to find the optimal (mixed) strategy."
   ]
  },
  {
   "cell_type": "markdown",
   "metadata": {},
   "source": [
    "<font color='blue'>\n",
    "    <b>Solution:</b> Run cell and see picture.\n",
    "</font>"
   ]
  },
  {
   "cell_type": "code",
   "execution_count": 73,
   "metadata": {
    "scrolled": true
   },
   "outputs": [
    {
     "data": {
      "image/png": "[encoded data removed]",
      "text/plain": [
       "<Figure size 432x288 with 1 Axes>"
      ]
     },
     "metadata": {
      "needs_background": "light"
     },
     "output_type": "display_data"
    }
   ],
   "source": [
    "ig, ax = plt.subplots()\n",
    "fig.tight_layout()\n",
    "\n",
    "lines = [[(0, 0.96), (1, 0.55)], [(0, 0.73), (1, .95)]]\n",
    "lc = col.LineCollection(lines, colors=c, linewidths=2)\n",
    "\n",
    "ax.add_collection(lc)\n",
    "ax.autoscale()\n",
    "ax.set_title('Right-footed striker')\n",
    "ax.set_ylabel('Expected Payoff (goalkeeper)')\n",
    "ax.set_xlabel('Probability of kicking left (striker)')\n",
    "ax.axvline(x=.365, color='black', linewidth=1)\n",
    "\n",
    "plt.show()"
   ]
  },
  {
   "cell_type": "markdown",
   "metadata": {},
   "source": [
    "<font color='blue'>\n",
    "The red line represents the goalkeepers's payoff of playing Left; the green line that of playing Right.\n",
    "</font>\n",
    "\n"
   ]
  },
  {
   "cell_type": "markdown",
   "metadata": {},
   "source": [
    "8. Collect your findings from above to compile a <b>complete set of instructions</b> for the players in equilibrium.\n",
    "<br>\n",
    "(Hint: even if the computer always chooses one type of striker, you should specify what the goalkeeper should do against the other type; you already did the computation in part 5)."
   ]
  },
  {
   "cell_type": "markdown",
   "metadata": {},
   "source": [
    "<font color='blue'>\n",
    "    <b>Solution:</b> The instructions are:\n",
    "    \n",
    " - Computer chooses a Right-footed striker.\n",
    " - Computer plays Left w.p approx. 0.365 (part 7.)\n",
    " - IF computer chooses a Right-footed striker, the goalkeeper plays Left w.p. 1/3.\n",
    " - IF computer chooses a Left-footed striker, the goalkeeper plays Left w.p. 0.6.\n",
    "</font>"
   ]
  },
  {
   "cell_type": "markdown",
   "metadata": {},
   "source": [
    "9. Is the game fair? If now, how is it not?"
   ]
  },
  {
   "cell_type": "markdown",
   "metadata": {},
   "source": [
    "<font color='blue'>\n",
    "    <b>Solution:</b> It is not. In equilibrium the computer wins ca 0.8 of all games.\n",
    "</font>"
   ]
  }
 ],
 "metadata": {
  "kernelspec": {
   "display_name": "Python 3",
   "language": "python",
   "name": "python3"
  },
  "language_info": {
   "codemirror_mode": {
    "name": "ipython",
    "version": 3
   },
   "file_extension": ".py",
   "mimetype": "text/x-python",
   "name": "python",
   "nbconvert_exporter": "python",
   "pygments_lexer": "ipython3",
   "version": "3.7.6"
  }
 },
 "nbformat": 4,
 "nbformat_minor": 4
}
