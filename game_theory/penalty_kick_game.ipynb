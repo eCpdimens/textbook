{
 "cells": [
  {
   "cell_type": "markdown",
   "metadata": {},
   "source": [
    "<font color='red'> Penalty kick application based on 'Professionals Play Minimax' by Ignacio Palacios-Huerta (2003). </font>"
   ]
  },
  {
   "cell_type": "markdown",
   "metadata": {},
   "source": [
    "### Imports"
   ]
  },
  {
   "cell_type": "code",
   "execution_count": null,
   "metadata": {},
   "outputs": [],
   "source": [
    "from bokeh.io import show, output_notebook, save, output_file\n",
    "from bokeh.models import (Plot, TapTool, ColumnDataSource, LabelSet, \n",
    "                          StaticLayoutProvider, Circle, MultiLine)\n",
    "from bokeh.models.widgets import Div\n",
    "from bokeh.models.graphs import NodesAndLinkedEdges, EdgesAndLinkedNodes\n",
    "from bokeh.plotting import figure\n",
    "from bokeh.models.renderers import GraphRenderer, GlyphRenderer\n",
    "from bokeh.layouts import layout, row, column, gridplot\n",
    "from bokeh.models import (CustomJSHover, CustomJS, CustomJSTransform, Button, Slider, DataTable, \n",
    "                          ColumnDataSource, TableColumn, Rect, Dropdown, \n",
    "                          Legend, LegendItem, Circle, HoverTool)\n",
    "from bokeh.models.glyphs import Text\n",
    "from bokeh.events import ButtonClick\n",
    "from bokeh.transform import transform\n",
    "import main_game_figure\n",
    "import game_stats_figure_1\n",
    "import game_stats_figure_2\n",
    "import game_stats_figure_3\n",
    "import penalty_kick_automated_game\n",
    "#TODO: IMPROVE THE CODE STRUCTURE, MAKE OPTIMIZATIONS. CODE IN THE JUPYTER NOTEBOOK \n",
    "#      SHOULD ONLY BE CODE THAT THE USER NEEDS TO SEE TO UNDERSTAND HOW THE DEMO WORKS."
   ]
  },
  {
   "cell_type": "code",
   "execution_count": null,
   "metadata": {},
   "outputs": [],
   "source": [
    "output_notebook()"
   ]
  },
  {
   "cell_type": "markdown",
   "metadata": {},
   "source": [
    "### Define Game Figure and Sprites"
   ]
  },
  {
   "cell_type": "code",
   "execution_count": null,
   "metadata": {},
   "outputs": [],
   "source": [
    "#Set Up Penalty Kick Game Figure\n",
    "#HAS MANY PARAMETERS TO CONFIGURE THE FIGURE, CHECK THE SCRIPT TO CHECK THEM. \n",
    "game_figure, goalie_head, goalie_body, ball = main_game_figure.game_figure_setup() "
   ]
  },
  {
   "cell_type": "markdown",
   "metadata": {},
   "source": [
    "### Define Game Stats Figure 1 and Sprites"
   ]
  },
  {
   "cell_type": "code",
   "execution_count": null,
   "metadata": {},
   "outputs": [],
   "source": [
    "(game_stats_figure_1, game_stats_figure_1_source, ll_scored_bar, lm_scored_bar, lr_scored_bar, rl_scored_bar, \n",
    " rm_scored_bar, rr_scored_bar, ll_blocked_left_bar, lm_blocked_left_bar, lr_blocked_left_bar, rl_blocked_left_bar,\n",
    " rm_blocked_left_bar, rr_blocked_left_bar, ll_blocked_middle_bar, lm_blocked_middle_bar,lr_blocked_middle_bar, \n",
    " rl_blocked_middle_bar, rm_blocked_middle_bar, rr_blocked_middle_bar, ll_blocked_right_bar, lm_blocked_right_bar,\n",
    " lr_blocked_right_bar, rl_blocked_right_bar, rm_blocked_right_bar, rr_blocked_right_bar\n",
    " ) = game_stats_figure_1.stats_figure_1_setup()"
   ]
  },
  {
   "cell_type": "markdown",
   "metadata": {},
   "source": [
    "### Define Game Stats Figure 2"
   ]
  },
  {
   "cell_type": "code",
   "execution_count": null,
   "metadata": {},
   "outputs": [],
   "source": [
    "(game_stats_figure_2, game_stats_figure_2_source) = game_stats_figure_2.stats_figure_2_setup()"
   ]
  },
  {
   "cell_type": "markdown",
   "metadata": {},
   "source": [
    "### Define Game Stats Figure 3"
   ]
  },
  {
   "cell_type": "code",
   "execution_count": null,
   "metadata": {},
   "outputs": [],
   "source": [
    "(game_stats_figure_3, game_stats_figure_3_source) = game_stats_figure_3.stats_figure_3_setup()"
   ]
  },
  {
   "cell_type": "markdown",
   "metadata": {},
   "source": [
    "### Define Labels"
   ]
  },
  {
   "cell_type": "code",
   "execution_count": null,
   "metadata": {},
   "outputs": [],
   "source": [
    "scr_text = ColumnDataSource({'x' : [2, 70, 2, 14, 14],\n",
    "                             'y' : [86, 86, 5, 40, 32],\n",
    "                             'text' : ['Rounds played: 0',\n",
    "                                      'Total score: 0',\n",
    "                                      '',\n",
    "                                      '',\n",
    "                                      '']})\n",
    "\n",
    "labels = Text(x = \"x\", y = \"y\", text = 'text', text_color = \"whitesmoke\",\n",
    "              text_font_size = '15pt', x_offset = 0, y_offset = +9,\n",
    "              text_baseline = 'ideographic', text_align = 'left')\n",
    "\n",
    "game_figure.add_glyph(scr_text, labels);"
   ]
  },
  {
   "cell_type": "markdown",
   "metadata": {},
   "source": [
    "### Define State Variables as Divs"
   ]
  },
  {
   "cell_type": "code",
   "execution_count": null,
   "metadata": {},
   "outputs": [],
   "source": [
    "nround = Div(text = '0', visible = False) # total number of rounds completed\n",
    "score = Div(text = '0', visible = False) # current score\n",
    "kicker_foot = Div(text = '', visible = False) # current footedness of the kicker\n",
    "kicker_kick = Div(text = '', visible = False) # current direction the kicker will kick\n",
    "\n",
    "(iterations_to_run, strategy_to_use,\n",
    " ll_scored, lm_scored, lr_scored, rl_scored, rm_scored, rr_scored,\n",
    " ll_blocked_left, lm_blocked_left, lr_blocked_left,\n",
    " rl_blocked_left, rm_blocked_left, rr_blocked_left,\n",
    " ll_blocked_middle, lm_blocked_middle, lr_blocked_middle,\n",
    " rl_blocked_middle, rm_blocked_middle, rr_blocked_middle,\n",
    " ll_blocked_right, lm_blocked_right, lr_blocked_right,\n",
    " rl_blocked_right, rm_blocked_right, rr_blocked_right) = penalty_kick_automated_game.create_gamestate_divs()"
   ]
  },
  {
   "cell_type": "markdown",
   "metadata": {},
   "source": [
    "### Define Buttons"
   ]
  },
  {
   "cell_type": "code",
   "execution_count": null,
   "metadata": {},
   "outputs": [],
   "source": [
    "#Automate Buttons:\n",
    "(b_automate, b_start_automate, b_auto_next, b_make_counter) = penalty_kick_automated_game.create_buttons()"
   ]
  },
  {
   "cell_type": "markdown",
   "metadata": {},
   "source": [
    "### Define Sliders"
   ]
  },
  {
   "cell_type": "code",
   "execution_count": null,
   "metadata": {},
   "outputs": [],
   "source": [
    "(LL_aim_slider, LM_aim_slider, LR_aim_slider,\n",
    " RL_aim_slider, RM_aim_slider, RR_aim_slider,\n",
    " iterations_slider) = penalty_kick_automated_game.create_sliders()"
   ]
  },
  {
   "cell_type": "markdown",
   "metadata": {},
   "source": [
    "### Define Dropdown Menu"
   ]
  },
  {
   "cell_type": "code",
   "execution_count": null,
   "metadata": {},
   "outputs": [],
   "source": [
    "strategy_dropdown = penalty_kick_automated_game.create_strategy_dropdown()"
   ]
  },
  {
   "cell_type": "markdown",
   "metadata": {},
   "source": [
    "### Define Automation Distribution Tracking Table"
   ]
  },
  {
   "cell_type": "code",
   "execution_count": null,
   "metadata": {},
   "outputs": [],
   "source": [
    "automation_distribution_table_source = penalty_kick_automated_game.create_distribution_table_source()\n",
    "automation_distribution_table = penalty_kick_automated_game.create_distribution_table(automation_distribution_table_source)"
   ]
  },
  {
   "cell_type": "markdown",
   "metadata": {},
   "source": [
    "### Define Automation Table"
   ]
  },
  {
   "cell_type": "code",
   "execution_count": null,
   "metadata": {},
   "outputs": [],
   "source": [
    "automation_table_source = penalty_kick_automated_game.create_automation_table_source()\n",
    "automation_table = penalty_kick_automated_game.create_automation_table(automation_table_source)"
   ]
  },
  {
   "cell_type": "markdown",
   "metadata": {},
   "source": [
    "### Define Callbacks"
   ]
  },
  {
   "cell_type": "code",
   "execution_count": null,
   "metadata": {},
   "outputs": [],
   "source": [
    "args_dict = dict(b_automate = b_automate,\n",
    "                 LL_aim_slider = LL_aim_slider, LM_aim_slider = LM_aim_slider,\n",
    "                 LR_aim_slider = LR_aim_slider, RL_aim_slider = RL_aim_slider,\n",
    "                 RM_aim_slider = RM_aim_slider, RR_aim_slider = RR_aim_slider,\n",
    "                 iterations_slider = iterations_slider, strategy_dropdown = strategy_dropdown,\n",
    "                 automation_table = automation_table, txt = scr_text)\n",
    "penalty_kick_automated_game.b_automate_setup(b_automate = b_automate, args_dict = args_dict)"
   ]
  },
  {
   "cell_type": "code",
   "execution_count": null,
   "metadata": {},
   "outputs": [],
   "source": [
    "args_dict = dict(ll_aim_slider = LL_aim_slider, lm_aim_slider = LM_aim_slider,\n",
    "                 lr_aim_slider = LR_aim_slider, rl_aim_slider = RL_aim_slider,\n",
    "                 rm_aim_slider = RM_aim_slider, rr_aim_slider = RR_aim_slider,\n",
    "                 b_start_automate = b_start_automate, b_make_counter = b_make_counter,\n",
    "                 automation_table = automation_table, automation_table_source = automation_table_source)\n",
    "goalie_counter_source = penalty_kick_automated_game.b_make_counter_setup(b_make_counter, args_dict)"
   ]
  },
  {
   "cell_type": "code",
   "execution_count": null,
   "metadata": {},
   "outputs": [],
   "source": [
    "args_dict = dict(b_start_automate = b_start_automate, b_auto_next = b_auto_next,\n",
    "                 LL_aim_slider = LL_aim_slider, LM_aim_slider = LM_aim_slider,\n",
    "                 LR_aim_slider = LR_aim_slider, RL_aim_slider = RL_aim_slider,\n",
    "                 RM_aim_slider = RM_aim_slider, RR_aim_slider = RR_aim_slider,\n",
    "                 iterations_slider = iterations_slider, strategy_dropdown = strategy_dropdown,\n",
    "                 automation_table = automation_table,\n",
    "                 automation_distribution_table = automation_distribution_table,\n",
    "                 ChancesColumnDataSource = automation_table_source,\n",
    "                 DistributionColumnDataSource = automation_distribution_table_source,\n",
    "                 txt = scr_text, strategy_to_use = strategy_to_use, nround = nround,\n",
    "                 iterations_to_run = iterations_to_run, game_figure = game_figure,\n",
    "                 game_stats_figure_1 = game_stats_figure_1, \n",
    "                 game_stats_figure_2 = game_stats_figure_2, \n",
    "                 game_stats_figure_3 = game_stats_figure_3, score = score,\n",
    "                 ball = ball, goalie_head = goalie_head, goalie_body = goalie_body,\n",
    "                 game_stats_figure_1_source = game_stats_figure_1_source,\n",
    "                 ll_scored_bar = ll_scored_bar, lm_scored_bar = lm_scored_bar,\n",
    "                 lr_scored_bar = lr_scored_bar, rl_scored_bar = rl_scored_bar,\n",
    "                 rm_scored_bar = rm_scored_bar, rr_scored_bar = rr_scored_bar,\n",
    "                 ll_scored = ll_scored, lm_scored = lm_scored,\n",
    "                 lr_scored = lr_scored, rl_scored = rl_scored,\n",
    "                 rm_scored = rm_scored, rr_scored = rr_scored,\n",
    "                 ll_blocked_left_bar = ll_blocked_left_bar,\n",
    "                 lm_blocked_left_bar = lm_blocked_left_bar,\n",
    "                 lr_blocked_left_bar = lr_blocked_left_bar,\n",
    "                 rl_blocked_left_bar = rl_blocked_left_bar,\n",
    "                 rm_blocked_left_bar = rm_blocked_left_bar,\n",
    "                 rr_blocked_left_bar = rr_blocked_left_bar,\n",
    "                 ll_blocked_left = ll_blocked_left, lm_blocked_left = lm_blocked_left,\n",
    "                 lr_blocked_left = lr_blocked_left, rl_blocked_left = rl_blocked_left,\n",
    "                 rm_blocked_left = rm_blocked_left, rr_blocked_left = rr_blocked_left,\n",
    "                 ll_blocked_middle_bar = ll_blocked_middle_bar,\n",
    "                 lm_blocked_middle_bar = lm_blocked_middle_bar,\n",
    "                 lr_blocked_middle_bar = lr_blocked_middle_bar,\n",
    "                 rl_blocked_middle_bar = rl_blocked_middle_bar,\n",
    "                 rm_blocked_middle_bar = rm_blocked_middle_bar,\n",
    "                 rr_blocked_middle_bar = rr_blocked_middle_bar,\n",
    "                 ll_blocked_middle = ll_blocked_middle, lm_blocked_middle = lm_blocked_middle,\n",
    "                 lr_blocked_middle = lr_blocked_middle, rl_blocked_middle = rl_blocked_middle,\n",
    "                 rm_blocked_middle = rm_blocked_middle, rr_blocked_middle = rr_blocked_middle,\n",
    "                 ll_blocked_right_bar = ll_blocked_right_bar,\n",
    "                 lm_blocked_right_bar = lm_blocked_right_bar,\n",
    "                 lr_blocked_right_bar = lr_blocked_right_bar,\n",
    "                 rl_blocked_right_bar = rl_blocked_right_bar,\n",
    "                 rm_blocked_right_bar = rm_blocked_right_bar,\n",
    "                 rr_blocked_right_bar = rr_blocked_right_bar,\n",
    "                 ll_blocked_right = ll_blocked_right, lm_blocked_right = lm_blocked_right,\n",
    "                 lr_blocked_right = lr_blocked_right, rl_blocked_right = rl_blocked_right,\n",
    "                 rm_blocked_right = rm_blocked_right, rr_blocked_right = rr_blocked_right,\n",
    "                 game_stats_figure_2_source = game_stats_figure_2_source,\n",
    "                 game_stats_figure_3_source = game_stats_figure_3_source,\n",
    "                 goalie_counter_source = goalie_counter_source)\n",
    "\n",
    "penalty_kick_automated_game.b_start_automate_setup(b_start_automate = b_start_automate, args_dict = args_dict)"
   ]
  },
  {
   "cell_type": "code",
   "execution_count": null,
   "metadata": {},
   "outputs": [],
   "source": [
    "args_dict = dict(ChancesColumnDataSource = automation_table_source,\n",
    "                 DistributionColumnDataSource = automation_distribution_table_source,\n",
    "                 txt = scr_text, strategy_to_use = strategy_to_use, nround = nround,\n",
    "                 iterations_to_run = iterations_to_run, b_auto_next = b_auto_next,\n",
    "                 game_figure = game_figure, \n",
    "                 automation_distribution_table = automation_distribution_table,\n",
    "                 game_stats_figure_1 = game_stats_figure_1, \n",
    "                 game_stats_figure_2 = game_stats_figure_2, \n",
    "                 game_stats_figure_3 = game_stats_figure_3, score = score, \n",
    "                 ball = ball, goalie_head = goalie_head, goalie_body = goalie_body,\n",
    "                 game_stats_figure_1_source = game_stats_figure_1_source,\n",
    "                 ll_scored_bar = ll_scored_bar, lm_scored_bar = lm_scored_bar,\n",
    "                 lr_scored_bar = lr_scored_bar, rl_scored_bar = rl_scored_bar,\n",
    "                 rm_scored_bar = rm_scored_bar, rr_scored_bar = rr_scored_bar,\n",
    "                 ll_scored = ll_scored, lm_scored = lm_scored,\n",
    "                 lr_scored = lr_scored, rl_scored = rl_scored,\n",
    "                 rm_scored = rm_scored, rr_scored = rr_scored,\n",
    "                 ll_blocked_left_bar = ll_blocked_left_bar,\n",
    "                 lm_blocked_left_bar = lm_blocked_left_bar,\n",
    "                 lr_blocked_left_bar = lr_blocked_left_bar,\n",
    "                 rl_blocked_left_bar = rl_blocked_left_bar,\n",
    "                 rm_blocked_left_bar = rm_blocked_left_bar,\n",
    "                 rr_blocked_left_bar = rr_blocked_left_bar,\n",
    "                 ll_blocked_left = ll_blocked_left, lm_blocked_left = lm_blocked_left,\n",
    "                 lr_blocked_left = lr_blocked_left, rl_blocked_left = rl_blocked_left,\n",
    "                 rm_blocked_left = rm_blocked_left, rr_blocked_left = rr_blocked_left,\n",
    "                 ll_blocked_middle_bar = ll_blocked_middle_bar,\n",
    "                 lm_blocked_middle_bar = lm_blocked_middle_bar,\n",
    "                 lr_blocked_middle_bar = lr_blocked_middle_bar,\n",
    "                 rl_blocked_middle_bar = rl_blocked_middle_bar,\n",
    "                 rm_blocked_middle_bar = rm_blocked_middle_bar,\n",
    "                 rr_blocked_middle_bar = rr_blocked_middle_bar,\n",
    "                 ll_blocked_middle = ll_blocked_middle, lm_blocked_middle = lm_blocked_middle,\n",
    "                 lr_blocked_middle = lr_blocked_middle, rl_blocked_middle = rl_blocked_middle,\n",
    "                 rm_blocked_middle = rm_blocked_middle, rr_blocked_middle = rr_blocked_middle,\n",
    "                 ll_blocked_right_bar = ll_blocked_right_bar,\n",
    "                 lm_blocked_right_bar = lm_blocked_right_bar,\n",
    "                 lr_blocked_right_bar = lr_blocked_right_bar,\n",
    "                 rl_blocked_right_bar = rl_blocked_right_bar,\n",
    "                 rm_blocked_right_bar = rm_blocked_right_bar,\n",
    "                 rr_blocked_right_bar = rr_blocked_right_bar,\n",
    "                 ll_blocked_right = ll_blocked_right, lm_blocked_right = lm_blocked_right,\n",
    "                 lr_blocked_right = lr_blocked_right, rl_blocked_right = rl_blocked_right,\n",
    "                 rm_blocked_right = rm_blocked_right, rr_blocked_right = rr_blocked_right,\n",
    "                 game_stats_figure_2_source = game_stats_figure_2_source,\n",
    "                 game_stats_figure_3_source = game_stats_figure_3_source,\n",
    "                 goalie_counter_source = goalie_counter_source)\n",
    "penalty_kick_automated_game.b_auto_next_setup(b_auto_next = b_auto_next, args_dict = args_dict)"
   ]
  },
  {
   "cell_type": "code",
   "execution_count": null,
   "metadata": {},
   "outputs": [],
   "source": [
    "penalty_kick_automated_game.aim_sliders_setup(ll_aim_slider = LL_aim_slider, lm_aim_slider = LM_aim_slider,\n",
    "                                              lr_aim_slider = LR_aim_slider, rl_aim_slider = RL_aim_slider,\n",
    "                                              rm_aim_slider = RM_aim_slider, rr_aim_slider = RR_aim_slider,\n",
    "                                              automation_table_source = automation_table_source)"
   ]
  },
  {
   "cell_type": "code",
   "execution_count": null,
   "metadata": {},
   "outputs": [],
   "source": [
    "args_dict = dict(iterations_to_run = iterations_to_run,\n",
    "                 game_stats_figure_1 = game_stats_figure_1,\n",
    "                 game_stats_figure_2 = game_stats_figure_2,\n",
    "                 game_stats_figure_3 = game_stats_figure_3,\n",
    "                 game_stats_figure_2_source = game_stats_figure_2_source,\n",
    "                 game_stats_figure_3_source = game_stats_figure_3_source)\n",
    "penalty_kick_automated_game.iterations_slider_setup(iterations_slider = iterations_slider,\n",
    "                                                    args_dict = args_dict)"
   ]
  },
  {
   "cell_type": "code",
   "execution_count": null,
   "metadata": {},
   "outputs": [],
   "source": [
    "args_dict = dict(strategy_dropdown = strategy_dropdown,\n",
    "                 strategy_to_use = strategy_to_use,\n",
    "                 b_start_automate = b_start_automate,\n",
    "                 b_make_counter = b_make_counter, automation_table = automation_table,\n",
    "                 ll_aim_slider = LL_aim_slider, lm_aim_slider = LM_aim_slider,\n",
    "                 lr_aim_slider = LR_aim_slider, rl_aim_slider = RL_aim_slider,\n",
    "                 rm_aim_slider = RM_aim_slider, rr_aim_slider = RR_aim_slider)\n",
    "penalty_kick_automated_game.strategy_dropdown_setup(strategy_dropdown = strategy_dropdown,\n",
    "                                                    args_dict = args_dict)"
   ]
  },
  {
   "cell_type": "markdown",
   "metadata": {},
   "source": [
    "### Format Layout and Show"
   ]
  },
  {
   "cell_type": "code",
   "execution_count": null,
   "metadata": {},
   "outputs": [],
   "source": [
    "buttons_bot = row(nround, score, kicker_foot, kicker_kick, max_width = 600, sizing_mode = 'stretch_width')\n",
    "automate_button = row(b_automate, iterations_slider,  b_auto_next, \n",
    "                      max_width = 400, sizing_mode = 'stretch_width')\n",
    "strategy_dropdown_row = row(strategy_dropdown, max_width = 400, sizing_mode = 'stretch_width')\n",
    "start_automate_row = row(b_start_automate, b_make_counter, max_width = 400, sizing_mode = 'stretch_width')\n",
    "automate_LL_aim = row(LL_aim_slider, max_width = 400, sizing_mode = 'stretch_width')\n",
    "automate_LM_aim = row(LM_aim_slider, max_width = 400, sizing_mode = 'stretch_width')\n",
    "automate_LR_aim = row(LR_aim_slider, max_width = 400, sizing_mode = 'stretch_width')\n",
    "automate_RL_aim = row(RL_aim_slider, max_width = 400, sizing_mode = 'stretch_width')\n",
    "automate_RM_aim = row(RM_aim_slider, max_width = 400, sizing_mode = 'stretch_width')\n",
    "automate_RR_aim = row(RR_aim_slider, max_width = 400, sizing_mode = 'stretch_width')\n",
    "\n",
    "game_stats_row_1 = row(game_stats_figure_1, game_stats_figure_2, \n",
    "                       max_width = 600, sizing_mode = \"stretch_width\")\n",
    "game_stats_row_2 = row(game_stats_figure_3,\n",
    "                       max_width = 600, sizing_mode = \"stretch_width\")\n",
    "gui_column1 = column(game_figure, game_stats_row_1, game_stats_row_2,\n",
    "                     buttons_bot, max_width = 600, sizing_mode = 'stretch_width')\n",
    "gui_column2 = column(automate_button, strategy_dropdown_row, start_automate_row,\n",
    "                     automate_LL_aim, automate_LM_aim, automate_LR_aim,\n",
    "                     automate_RL_aim, automate_RM_aim, automate_RR_aim,\n",
    "                     automation_table, automation_distribution_table, \n",
    "                     min_width = 761, max_width = 761, sizing_mode = 'stretch_width')\n",
    "\n",
    "gui_row = row(gui_column1, gui_column2, max_width = 1400, sizing_mode = 'stretch_width')\n",
    "\n",
    "grid1 = gridplot([[gui_row]], plot_width = 1200, plot_height = 480)\n",
    "\n",
    "show(grid1)"
   ]
  },
  {
   "cell_type": "markdown",
   "metadata": {},
   "source": [
    "### Create HTML File"
   ]
  },
  {
   "cell_type": "code",
   "execution_count": null,
   "metadata": {},
   "outputs": [],
   "source": [
    "output_file(\"penalty_kick_game.html\")\n",
    "save(grid1)"
   ]
  }
 ],
 "metadata": {
  "kernelspec": {
   "display_name": "Python 3",
   "language": "python",
   "name": "python3"
  },
  "language_info": {
   "codemirror_mode": {
    "name": "ipython",
    "version": 3
   },
   "file_extension": ".py",
   "mimetype": "text/x-python",
   "name": "python",
   "nbconvert_exporter": "python",
   "pygments_lexer": "ipython3",
   "version": "3.7.10"
  }
 },
 "nbformat": 4,
 "nbformat_minor": 4
}
