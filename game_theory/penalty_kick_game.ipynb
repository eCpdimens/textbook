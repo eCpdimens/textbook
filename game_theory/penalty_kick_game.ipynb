{
 "cells": [
  {
   "cell_type": "markdown",
   "metadata": {},
   "source": [
    "<font color='red'> Penalty kick application based on 'Professionals Play Minimax' by Ignacio Palacios-Huerta (2003). </font>"
   ]
  },
  {
   "cell_type": "markdown",
   "metadata": {},
   "source": [
    "### Make Necessary Imports"
   ]
  },
  {
   "cell_type": "code",
   "execution_count": null,
   "metadata": {},
   "outputs": [],
   "source": [
    "from bokeh.io import show, output_notebook, save, output_file\n",
    "import penaltykickgame as game"
   ]
  },
  {
   "cell_type": "markdown",
   "metadata": {},
   "source": [
    "### Configure Bokeh For Use In Jupyter Notebook"
   ]
  },
  {
   "cell_type": "code",
   "execution_count": null,
   "metadata": {},
   "outputs": [],
   "source": [
    "output_notebook()"
   ]
  },
  {
   "cell_type": "markdown",
   "metadata": {},
   "source": [
    "### Make Game"
   ]
  },
  {
   "cell_type": "code",
   "execution_count": null,
   "metadata": {},
   "outputs": [],
   "source": [
    "grid1 = game.main_game.MainGame().make_game(\n",
    "#     log_steps = True, #Set to True if game creation progress logs are desired\n",
    "#     CPU_strategy = 'Mixed_Strategy', #Set to the strategy to use if goalie strategy should be forced to it. \n",
    "#     allow_fast_forward = False, #Set to False if auto advancing should be disabled.\n",
    "#     force_fast_forward = True, #If allow_fast_forward is not set to False, set to True to require auto advancing between iterations.\n",
    "#     force_fast_forward_spd = 50, #Set to a speed(int in milliseconds) if the auto advance speed should be forced to it.\n",
    "#     iterations_to_run = 600, #Set to an int to forcibly set the game to that many iterations.\n",
    "#     stats_fig_1_enabled = False, #Set to False to disable stats fig 1.\n",
    "#     stats_fig_2_enabled = False, #Set to False to disable stats fig 2.\n",
    "#     stats_fig_3_enabled = False, #Set to False to disable stats fig 3.\n",
    "#     stats_fig_4_enabled = False, #Set to False to disable stats fig 4.\n",
    ")"
   ]
  },
  {
   "cell_type": "markdown",
   "metadata": {},
   "source": [
    "### Show Game"
   ]
  },
  {
   "cell_type": "code",
   "execution_count": null,
   "metadata": {},
   "outputs": [],
   "source": [
    "show(grid1)"
   ]
  },
  {
   "cell_type": "markdown",
   "metadata": {},
   "source": [
    "### Create HTML File"
   ]
  },
  {
   "cell_type": "code",
   "execution_count": null,
   "metadata": {},
   "outputs": [],
   "source": [
    "output_file(\"penalty_kick_game.html\")\n",
    "save(grid1)"
   ]
  }
 ],
 "metadata": {
  "kernelspec": {
   "display_name": "Python 3",
   "language": "python",
   "name": "python3"
  },
  "language_info": {
   "codemirror_mode": {
    "name": "ipython",
    "version": 3
   },
   "file_extension": ".py",
   "mimetype": "text/x-python",
   "name": "python",
   "nbconvert_exporter": "python",
   "pygments_lexer": "ipython3",
   "version": "3.7.10"
  }
 },
 "nbformat": 4,
 "nbformat_minor": 4
}
