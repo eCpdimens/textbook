{
 "cells": [
  {
   "cell_type": "markdown",
   "metadata": {},
   "source": [
    "<font color='red'> Penalty kick application based on 'Professionals Play Minimax' by Ignacio Palacios-Huerta (2003). </font>"
   ]
  },
  {
   "cell_type": "markdown",
   "metadata": {},
   "source": [
    "### Make Necessary Imports"
   ]
  },
  {
   "cell_type": "code",
   "execution_count": null,
   "metadata": {},
   "outputs": [],
   "source": [
    "from bokeh.io import show, output_notebook, save, output_file\n",
    "import penaltykickgame as game\n",
    "# import gamefigures as\n",
    "# import penaltykickgame.penalty_kick_automated_game as game\n",
    "# from penaltykickgame.main_game_figure import Game_fig_configs\n",
    "# from penaltykickgame.game_stats_figure_1 import Stats_fig_1_configs\n",
    "# from penaltykickgame.game_stats_figure_2 import Stats_fig_2_configs\n",
    "# from penaltykickgame.game_stats_figure_3 import Stats_fig_3_configs\n",
    "# from penaltykickgame.game_stats_figure_4 import Stats_fig_4_configs"
   ]
  },
  {
   "cell_type": "markdown",
   "metadata": {},
   "source": [
    "### Configure Bokeh For Use In Jupyter Notebook"
   ]
  },
  {
   "cell_type": "code",
   "execution_count": null,
   "metadata": {},
   "outputs": [],
   "source": [
    "output_notebook()"
   ]
  },
  {
   "cell_type": "markdown",
   "metadata": {},
   "source": [
    "### Make Game"
   ]
  },
  {
   "cell_type": "code",
   "execution_count": null,
   "metadata": {},
   "outputs": [],
   "source": [
    "# #Change the necessary keyword arguments in this to test changes to the game fig.\n",
    "# game_fig_configs = game.figs.game_fig.Game_fig_configs()\n",
    "\n",
    "# #Change the necessary keyword arguments in this to test changes to the stats fig 1.\n",
    "# fig_1_configs = game.figs.stats_fig_1.Stats_fig_1_configs()\n",
    "\n",
    "# #Change the necessary keyword arguments in this to test changes to the stats fig 2.\n",
    "# fig_2_configs = game.figs.stats_fig_2.Stats_fig_2_configs()\n",
    "\n",
    "# #Change the necessary keyword arguments in this to test changes to the stats fig 3.\n",
    "# fig_3_configs = game.figs.stats_fig_3.Stats_fig_3_configs()\n",
    "\n",
    "# #Change the necessary keyword arguments in this to test changes to the stats fig 4.\n",
    "# fig_4_configs = game.figs.stats_fig_4.Stats_fig_4_configs()\n",
    "\n",
    "# #Change the necessary keyword arguments in this to test changes scr_text and labels.\n",
    "# scr_text_and_labels_configs = game.main_game.Scr_text_and_labels_configs()\n",
    "\n",
    "# #Change the necessary keyword arguments in this to test changes to divs.\n",
    "# gamestate_divs_configs = game.main_game.Gamestate_divs_configs()\n",
    "\n",
    "# #Change the necessary keyword arguments in this to test changes to buttons.\n",
    "# buttons_configs = game.main_game.Button_configs()\n",
    "\n",
    "# #Change the necessary keyword arguments in this to test changes to sliders.\n",
    "# sliders_configs = game.main_game.Slider_configs()\n",
    "\n",
    "# #Change the necessary keyword arguments in this to test changes to the CPU strategy dropdown menu.\n",
    "# dropdown_configs = game.main_game.Strategy_dropdown_configs()\n",
    "\n",
    "# #Change the necessary keyword arguments in this to test changes to the automation distribution table.\n",
    "# distribution_table_configs = game.main_game.Distribution_table_configs()\n",
    "\n",
    "# #Change the necessary keyword arguments in this to test changes to the automation table.\n",
    "# automation_table_configs = game.main_game.Automation_table_configs()\n",
    "\n",
    "# #Change the necessary keyword arguments in this to test changes to the layout of the game.\n",
    "# layout_configs = game.main_game.Layout_configs()\n",
    "\n",
    "grid1 = game.main_game.make_game()\n",
    "# game_figure_configs = game_fig_configs,\n",
    "#                                               stats_figure_1_configs = fig_1_configs,\n",
    "#                                               stats_figure_2_configs = fig_2_configs,\n",
    "#                                               stats_figure_3_configs = fig_3_configs,\n",
    "#                                               stats_figure_4_configs = fig_4_configs,\n",
    "#                                               scrtxt_labels_configs = scr_text_and_labels_configs,\n",
    "#                                               divs_configs = gamestate_divs_configs,\n",
    "#                                               button_configs = buttons_configs,\n",
    "#                                               slider_configs = sliders_configs,\n",
    "#                                               strategy_dropdown_configs = dropdown_configs,\n",
    "#                                               distribution_table_configs = distribution_table_configs,\n",
    "#                                               automation_table_configs = automation_table_configs,\n",
    "#                                               layout_configs = layout_configs\n"
   ]
  },
  {
   "cell_type": "markdown",
   "metadata": {},
   "source": [
    "### Show Game"
   ]
  },
  {
   "cell_type": "code",
   "execution_count": null,
   "metadata": {},
   "outputs": [],
   "source": [
    "show(grid1)"
   ]
  },
  {
   "cell_type": "markdown",
   "metadata": {},
   "source": [
    "### Create HTML File"
   ]
  },
  {
   "cell_type": "code",
   "execution_count": null,
   "metadata": {},
   "outputs": [],
   "source": [
    "output_file(\"penalty_kick_game.html\")\n",
    "save(grid1)"
   ]
  }
 ],
 "metadata": {
  "kernelspec": {
   "display_name": "Python 3",
   "language": "python",
   "name": "python3"
  },
  "language_info": {
   "codemirror_mode": {
    "name": "ipython",
    "version": 3
   },
   "file_extension": ".py",
   "mimetype": "text/x-python",
   "name": "python",
   "nbconvert_exporter": "python",
   "pygments_lexer": "ipython3",
   "version": "3.7.10"
  }
 },
 "nbformat": 4,
 "nbformat_minor": 4
}
