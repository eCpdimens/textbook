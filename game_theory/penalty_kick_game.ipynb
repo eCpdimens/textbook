{
 "cells": [
  {
   "cell_type": "markdown",
   "metadata": {},
   "source": [
    "<font color='red'> Penalty kick application based on 'Professionals Play Minimax' by Ignacio Palacios-Huerta (2003). </font>"
   ]
  },
  {
   "cell_type": "markdown",
   "metadata": {},
   "source": [
    "### Make Necessary Imports"
   ]
  },
  {
   "cell_type": "code",
   "execution_count": null,
   "metadata": {},
   "outputs": [],
   "source": [
    "from bokeh.io import show, output_notebook, save, output_file\n",
    "import penalty_kick_automated_game\n",
    "from main_game_figure import Game_fig_configs\n",
    "from game_stats_figure_1 import Stats_fig_1_configs\n",
    "from game_stats_figure_2 import Stats_fig_2_configs\n",
    "from game_stats_figure_3 import Stats_fig_3_configs"
   ]
  },
  {
   "cell_type": "markdown",
   "metadata": {},
   "source": [
    "### Configure Bokeh For Use In Jupyter Notebook"
   ]
  },
  {
   "cell_type": "code",
   "execution_count": null,
   "metadata": {},
   "outputs": [],
   "source": [
    "output_notebook()"
   ]
  },
  {
   "cell_type": "markdown",
   "metadata": {},
   "source": [
    "### Make Game"
   ]
  },
  {
   "cell_type": "code",
   "execution_count": null,
   "metadata": {},
   "outputs": [],
   "source": [
    "#Change the necessary keyword arguments in this to test changes to the game fig.\n",
    "game_fig_configs = Game_fig_configs()\n",
    "\n",
    "#Change the necessary keyword arguments in this to test changes to the stats fig 1.\n",
    "fig_1_configs = Stats_fig_1_configs()\n",
    "\n",
    "#Change the necessary keyword arguments in this to test changes to the stats fig 2.\n",
    "fig_2_configs = Stats_fig_2_configs()\n",
    "\n",
    "#Change the necessary keyword arguments in this to test changes to the stats fig 3.\n",
    "fig_3_configs = Stats_fig_3_configs()\n",
    "\n",
    "#Change the necessary keyword arguments in this to test changes scr_text and labels.\n",
    "scr_text_and_labels_configs = penalty_kick_automated_game.Scr_text_and_labels_configs()\n",
    "\n",
    "#Change the necessary keyword arguments in this to test changes to divs.\n",
    "gamestate_divs_configs = penalty_kick_automated_game.Gamestate_divs_configs()\n",
    "\n",
    "#Change the necessary keyword arguments in this to test changes to buttons.\n",
    "buttons_configs = penalty_kick_automated_game.Button_configs()\n",
    "\n",
    "#Change the necessary keyword arguments in this to test changes to sliders.\n",
    "sliders_configs = penalty_kick_automated_game.Slider_configs()\n",
    "\n",
    "grid1 = penalty_kick_automated_game.make_game(game_figure_configs = game_fig_configs,\n",
    "                                              stats_figure_1_configs = fig_1_configs,\n",
    "                                              stats_figure_2_configs = fig_2_configs,\n",
    "                                              stats_figure_3_configs = fig_3_configs,\n",
    "                                              scrtxt_labels_configs = scr_text_and_labels_configs,\n",
    "                                              divs_configs = gamestate_divs_configs,\n",
    "                                              button_configs = buttons_configs,\n",
    "                                              slider_configs = sliders_configs)"
   ]
  },
  {
   "cell_type": "markdown",
   "metadata": {},
   "source": [
    "### Show Game"
   ]
  },
  {
   "cell_type": "code",
   "execution_count": null,
   "metadata": {},
   "outputs": [],
   "source": [
    "show(grid1)"
   ]
  },
  {
   "cell_type": "markdown",
   "metadata": {},
   "source": [
    "### Create HTML File"
   ]
  },
  {
   "cell_type": "code",
   "execution_count": null,
   "metadata": {},
   "outputs": [],
   "source": [
    "output_file(\"penalty_kick_game.html\")\n",
    "save(grid1)"
   ]
  }
 ],
 "metadata": {
  "kernelspec": {
   "display_name": "Python 3",
   "language": "python",
   "name": "python3"
  },
  "language_info": {
   "codemirror_mode": {
    "name": "ipython",
    "version": 3
   },
   "file_extension": ".py",
   "mimetype": "text/x-python",
   "name": "python",
   "nbconvert_exporter": "python",
   "pygments_lexer": "ipython3",
   "version": "3.7.10"
  }
 },
 "nbformat": 4,
 "nbformat_minor": 4
}
