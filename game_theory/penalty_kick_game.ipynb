{
 "cells": [
  {
   "cell_type": "markdown",
   "metadata": {},
   "source": [
    "<font color='red'> Penalty kick application based on 'Professionals Play Minimax' by Ignacio Palacios-Huerta (2003). </font>"
   ]
  },
  {
   "cell_type": "markdown",
   "metadata": {},
   "source": [
    "### Imports"
   ]
  },
  {
   "cell_type": "code",
   "execution_count": null,
   "metadata": {},
   "outputs": [],
   "source": [
    "from bokeh.io import show, output_notebook, save, output_file\n",
    "from bokeh.models import (Plot, TapTool, ColumnDataSource, LabelSet, \n",
    "                          StaticLayoutProvider, Circle, MultiLine)\n",
    "from bokeh.models.widgets import Div\n",
    "from bokeh.models.graphs import NodesAndLinkedEdges, EdgesAndLinkedNodes\n",
    "from bokeh.plotting import figure\n",
    "from bokeh.models.renderers import GraphRenderer, GlyphRenderer\n",
    "from bokeh.layouts import layout, row, column, gridplot\n",
    "from bokeh.models import (CustomJSHover, CustomJS, CustomJSTransform, Button, Slider, DataTable, \n",
    "                          ColumnDataSource, TableColumn, Rect, Dropdown, \n",
    "                          Legend, LegendItem, Circle, HoverTool)\n",
    "from bokeh.models.glyphs import Text\n",
    "from bokeh.events import ButtonClick\n",
    "from bokeh.transform import transform\n",
    "import main_game_figure\n",
    "import game_stats_figure_1\n",
    "import game_stats_figure_2\n",
    "import game_stats_figure_3\n",
    "import penalty_kick_automated_game\n",
    "#TODO: IMPROVE THE CODE STRUCTURE, MAKE OPTIMIZATIONS. CODE IN THE JUPYTER NOTEBOOK \n",
    "#      SHOULD ONLY BE CODE THAT THE USER NEEDS TO SEE TO UNDERSTAND HOW THE DEMO WORKS."
   ]
  },
  {
   "cell_type": "code",
   "execution_count": null,
   "metadata": {},
   "outputs": [],
   "source": [
    "output_notebook()"
   ]
  },
  {
   "cell_type": "markdown",
   "metadata": {},
   "source": [
    "### Define Game Figure and Sprites"
   ]
  },
  {
   "cell_type": "code",
   "execution_count": null,
   "metadata": {},
   "outputs": [],
   "source": [
    "#Set Up Penalty Kick Game Figure\n",
    "#HAS MANY PARAMETERS TO CONFIGURE THE FIGURE, CHECK THE SCRIPT TO CHECK THEM. \n",
    "game_figure, goalie_head, goalie_body, ball = main_game_figure.game_figure_setup() "
   ]
  },
  {
   "cell_type": "markdown",
   "metadata": {},
   "source": [
    "### Define Game Stats Figure 1 and Sprites"
   ]
  },
  {
   "cell_type": "code",
   "execution_count": null,
   "metadata": {},
   "outputs": [],
   "source": [
    "(game_stats_figure_1, game_stats_figure_1_source, ll_scored_bar, lm_scored_bar, lr_scored_bar, rl_scored_bar, \n",
    " rm_scored_bar, rr_scored_bar, ll_blocked_left_bar, lm_blocked_left_bar, lr_blocked_left_bar, rl_blocked_left_bar,\n",
    " rm_blocked_left_bar, rr_blocked_left_bar, ll_blocked_middle_bar, lm_blocked_middle_bar,lr_blocked_middle_bar, \n",
    " rl_blocked_middle_bar, rm_blocked_middle_bar, rr_blocked_middle_bar, ll_blocked_right_bar, lm_blocked_right_bar,\n",
    " lr_blocked_right_bar, rl_blocked_right_bar, rm_blocked_right_bar, rr_blocked_right_bar\n",
    " ) = game_stats_figure_1.stats_figure_1_setup()"
   ]
  },
  {
   "cell_type": "markdown",
   "metadata": {},
   "source": [
    "### Define Game Stats Figure 2"
   ]
  },
  {
   "cell_type": "code",
   "execution_count": null,
   "metadata": {},
   "outputs": [],
   "source": [
    "(game_stats_figure_2, game_stats_figure_2_source) = game_stats_figure_2.stats_figure_2_setup()"
   ]
  },
  {
   "cell_type": "markdown",
   "metadata": {},
   "source": [
    "### Define Game Stats Figure 3"
   ]
  },
  {
   "cell_type": "code",
   "execution_count": null,
   "metadata": {},
   "outputs": [],
   "source": [
    "(game_stats_figure_3, game_stats_figure_3_source) = game_stats_figure_3.stats_figure_3_setup()"
   ]
  },
  {
   "cell_type": "markdown",
   "metadata": {},
   "source": [
    "### Define Labels"
   ]
  },
  {
   "cell_type": "code",
   "execution_count": null,
   "metadata": {},
   "outputs": [],
   "source": [
    "scr_text = ColumnDataSource({'x' : [2, 70, 2, 14, 14],\n",
    "                             'y' : [86, 86, 5, 40, 32],\n",
    "                             'text' : ['Rounds played: 0',\n",
    "                                      'Total score: 0',\n",
    "                                      '',\n",
    "                                      '',\n",
    "                                      '']})\n",
    "\n",
    "labels = Text(x = \"x\", y = \"y\", text = 'text', text_color = \"whitesmoke\",\n",
    "              text_font_size = '15pt', x_offset = 0, y_offset = +9,\n",
    "              text_baseline = 'ideographic', text_align = 'left')\n",
    "\n",
    "game_figure.add_glyph(scr_text, labels);"
   ]
  },
  {
   "cell_type": "markdown",
   "metadata": {},
   "source": [
    "### Define State Variables as Divs"
   ]
  },
  {
   "cell_type": "code",
   "execution_count": null,
   "metadata": {},
   "outputs": [],
   "source": [
    "nround = Div(text = '0', visible = False) # total number of rounds completed\n",
    "score = Div(text = '0', visible = False) # current score\n",
    "freq_left_foot = Div(text = '0,0,0', visible = False) # frequency of left, middle, and right kicks (left-footed)\n",
    "freq_right_foot = Div(text = '0,0,0', visible = False) # frequency of left, middle, and right kicks (right-footed)\n",
    "kicker_foot = Div(text = '', visible = False) # current footedness of the kicker\n",
    "kicker_kick = Div(text = '', visible = False) # current direction the kicker will kick\n",
    "\n",
    "(iterations_to_run, strategy_to_use,\n",
    " ll_scored, lm_scored, lr_scored, rl_scored, rm_scored, rr_scored,\n",
    " ll_blocked_left, lm_blocked_left, lr_blocked_left,\n",
    " rl_blocked_left, rm_blocked_left, rr_blocked_left,\n",
    " ll_blocked_middle, lm_blocked_middle, lr_blocked_middle,\n",
    " rl_blocked_middle, rm_blocked_middle, rr_blocked_middle,\n",
    " ll_blocked_right, lm_blocked_right, lr_blocked_right,\n",
    " rl_blocked_right, rm_blocked_right, rr_blocked_right) = penalty_kick_automated_game.create_gamestate_divs()"
   ]
  },
  {
   "cell_type": "markdown",
   "metadata": {},
   "source": [
    "### Define Buttons"
   ]
  },
  {
   "cell_type": "code",
   "execution_count": null,
   "metadata": {},
   "outputs": [],
   "source": [
    "#Start and Next Buttons:\n",
    "b_start = Button(label = \"Begin\", button_type = \"success\", \n",
    "                 sizing_mode = 'scale_width', width_policy = 'fit')\n",
    "b_next = Button(label = \"Next round\", button_type = \"success\", \n",
    "                sizing_mode = 'scale_width', width_policy = 'fit', disabled = True)\n",
    "\n",
    "#Right and Left Footed Buttons:\n",
    "b_fl = Button(label = \"Left-Footed\", button_type = \"success\", \n",
    "              sizing_mode = 'scale_width', width_policy = 'fit', disabled = True)\n",
    "b_fr = Button(label = \"Right-Footed\", button_type = \"success\", \n",
    "              sizing_mode = 'scale_width', width_policy = 'fit', disabled = True)\n",
    "\n",
    "#Right, Middle, and Left Kick Buttons:\n",
    "bl = Button(label = \"Left\", button_type = \"success\", sizing_mode = 'scale_width', \n",
    "            width_policy = 'fit', disabled = False, visible = False)\n",
    "bm = Button(label = \"Middle\", button_type = \"success\", sizing_mode = 'scale_width', \n",
    "            width_policy = 'fit', disabled = False, visible = False)\n",
    "br = Button(label = \"Right\", button_type = \"success\", sizing_mode = 'scale_width', \n",
    "            width_policy = 'fit', disabled = False, visible = False)\n",
    "\n",
    "#Shoot Button:\n",
    "b_shoot = Button(label = \"SHOOT!\", button_type = \"success\", sizing_mode = 'scale_width', \n",
    "                 width_policy = 'fit', disabled = False, visible = False)\n",
    "\n",
    "#Automate Buttons:\n",
    "(b_automate, b_start_automate, b_auto_next) = penalty_kick_automated_game.create_buttons()"
   ]
  },
  {
   "cell_type": "markdown",
   "metadata": {},
   "source": [
    "### Define Sliders"
   ]
  },
  {
   "cell_type": "code",
   "execution_count": null,
   "metadata": {},
   "outputs": [],
   "source": [
    "(LL_aim_slider, LM_aim_slider, LR_aim_slider,\n",
    " RL_aim_slider, RM_aim_slider, RR_aim_slider,\n",
    " iterations_slider) = penalty_kick_automated_game.create_sliders()"
   ]
  },
  {
   "cell_type": "markdown",
   "metadata": {},
   "source": [
    "### Define Dropdown Menu"
   ]
  },
  {
   "cell_type": "code",
   "execution_count": null,
   "metadata": {},
   "outputs": [],
   "source": [
    "strategy_dropdown = penalty_kick_automated_game.create_strategy_dropdown()"
   ]
  },
  {
   "cell_type": "markdown",
   "metadata": {},
   "source": [
    "### Define Automation Distribution Tracking Table"
   ]
  },
  {
   "cell_type": "code",
   "execution_count": null,
   "metadata": {},
   "outputs": [],
   "source": [
    "automation_distribution_table_source = penalty_kick_automated_game.create_distribution_table_source()\n",
    "automation_distribution_table = penalty_kick_automated_game.create_distribution_table(automation_distribution_table_source)"
   ]
  },
  {
   "cell_type": "markdown",
   "metadata": {},
   "source": [
    "### Define Automation Table"
   ]
  },
  {
   "cell_type": "code",
   "execution_count": null,
   "metadata": {},
   "outputs": [],
   "source": [
    "automation_table_source = penalty_kick_automated_game.create_automation_table_source()\n",
    "automation_table = penalty_kick_automated_game.create_automation_table(automation_table_source)"
   ]
  },
  {
   "cell_type": "markdown",
   "metadata": {},
   "source": [
    "### Define Callbacks"
   ]
  },
  {
   "cell_type": "code",
   "execution_count": null,
   "metadata": {},
   "outputs": [],
   "source": [
    "#Next Button:\n",
    "b_next_code = \"\"\"\n",
    "b_shoot.visible = false;\n",
    "\n",
    "b_fr.visible = true;\n",
    "b_fl.visible = true;\n",
    "b_fr.disabled = false;\n",
    "b_fl.disabled = false;\n",
    "\n",
    "bl.visible = false;\n",
    "bm.visible = false;\n",
    "br.visible = false;\n",
    "\n",
    "b_next.disabled = true;\n",
    "\n",
    "txt.data['text'][2] = '';\n",
    "txt.data['text'][3] = 'Choose a right- or left footed kicker!';\n",
    "txt.change.emit();\n",
    "\n",
    "ball.x = 50;\n",
    "ball.y = 13;\n",
    "goalie_head.x = 50;\n",
    "goalie_body.x = 50;\n",
    "\"\"\"\n",
    "\n",
    "b_next_click = CustomJS(args = dict(b_start = b_start, b_fl = b_fl, b_fr = b_fr, bl = bl, bm = bm, br = br,\n",
    "                                    txt = scr_text, b_shoot = b_shoot, b_next = b_next, ball = ball,\n",
    "                                    goalie_head = goalie_head, goalie_body = goalie_body),\n",
    "                        code = b_next_code)\n",
    "\n",
    "b_next.js_on_click(b_next_click)"
   ]
  },
  {
   "cell_type": "code",
   "execution_count": null,
   "metadata": {},
   "outputs": [],
   "source": [
    "#Start Button:\n",
    "b_start_code = b_next_code + \"\"\"\n",
    "if (b_start.label == 'Begin'){\n",
    "    b_start.label = 'Restart';\n",
    "}\n",
    "else{\n",
    "    txt.data['text'][0] = 'Rounds played: 0';\n",
    "    txt.data['text'][1] = 'Total score: 0';\n",
    "    txt.data['text'][2] = '';\n",
    "    txt.data['text'][3] = '';\n",
    "    txt.data['text'][4] = '';\n",
    "    nround.text = '0';\n",
    "    score.text = '0';\n",
    "    freq_left_foot.text = '0,0,0';\n",
    "    freq_right_foot.text = '0,0,0';\n",
    "    kicker_foot.text = '';\n",
    "    kicker_kick.text = '';\n",
    "    txt.change.emit();\n",
    "    b_start.label = 'Begin';\n",
    "}\n",
    "\"\"\"\n",
    "\n",
    "b_start_click = CustomJS(args = dict(b_start = b_start, b_fl = b_fl, b_fr = b_fr, bl = bl, bm = bm, br = br,\n",
    "                                     txt = scr_text, b_shoot=b_shoot, b_next = b_next, ball = ball,\n",
    "                                     goalie_head = goalie_head, goalie_body = goalie_body, nround=nround,\n",
    "                                     score = score, freq_left_foot = freq_left_foot, \n",
    "                                     freq_right_foot = freq_right_foot, kicker_foot = kicker_foot, \n",
    "                                     kicker_kick = kicker_kick),\n",
    "                         code = b_start_code)\n",
    "\n",
    "b_start.js_on_click(b_start_click)"
   ]
  },
  {
   "cell_type": "code",
   "execution_count": null,
   "metadata": {},
   "outputs": [],
   "source": [
    "#Create the Striker Foot Buttons:\n",
    "\n",
    "#Select the Foot Type of the Striker Buttons:\n",
    "def b_f_click(foot):\n",
    "    code = \"\"\"\n",
    "    b_fl.disabled = true;\n",
    "    b_fr.disabled = true;\n",
    "    b_fl.visible = false;\n",
    "    b_fr.visible = false;\n",
    "    bl.visible = true;\n",
    "    bm.visible = true;\n",
    "    br.visible = true;\n",
    "    txt.data['text'][3] = 'Choose where to kick!';\n",
    "    txt.data['text'][2] = '\"\"\" + foot + \"\"\"-footed kicker.';\n",
    "    kicker_foot.text = '\"\"\" + foot + \"\"\"';\n",
    "    txt.change.emit();\n",
    "    \"\"\"\n",
    "    return CustomJS(args = dict(b_fl = b_fl, b_fr = b_fr, bl = bl, bm = bm, br = br,\n",
    "                                txt = scr_text, kicker_foot = kicker_foot),\n",
    "                    code = code)\n",
    "\n",
    "b_fl.js_on_click(b_f_click('Left'))\n",
    "b_fr.js_on_click(b_f_click('Right'))"
   ]
  },
  {
   "cell_type": "code",
   "execution_count": null,
   "metadata": {},
   "outputs": [],
   "source": [
    "#Create the Kicker Kick Buttons:\n",
    "\n",
    "#Select the Kick Direction of the Kicker Kick Buttons:\n",
    "def b_kick_click(kick):\n",
    "    code = \"\"\"\n",
    "    b_shoot.visible = true;\n",
    "    bl.visible = false;\n",
    "    bm.visible = false;\n",
    "    br.visible = false;\n",
    "    txt.data['text'][3] = '';\n",
    "    var current = txt.data['text'][2];\n",
    "    txt.data['text'][2] = current + ' Kicking \"\"\"+kick+\"\"\".';\n",
    "    kicker_kick.text= '\"\"\"+kick+\"\"\"';\n",
    "    txt.change.emit();\n",
    "    b_shoot.disabled = false;\n",
    "    \"\"\"\n",
    "    return CustomJS(args = dict(b_shoot = b_shoot, bl = bl, bm = bm, br = br,\n",
    "                                txt = scr_text, kicker_kick = kicker_kick),\n",
    "                    code = code)\n",
    "\n",
    "bl.js_on_click(b_kick_click('Left'))\n",
    "bm.js_on_click(b_kick_click('Middle'))\n",
    "br.js_on_click(b_kick_click('Right'))"
   ]
  },
  {
   "cell_type": "code",
   "execution_count": null,
   "metadata": {},
   "outputs": [],
   "source": [
    "# shoot button\n",
    "b_shoot_code = \"\"\"\n",
    "// Define probability matrix\n",
    "var p = {'Right' : {'LeftLeft' : 0.55,\n",
    "                    'LeftMiddle' : 0.65,\n",
    "                    'LeftRight' : 0.93,\n",
    "                    'MiddleLeft' : 0.74,\n",
    "                    'MiddleMiddle' : 0.60,\n",
    "                    'MiddleRight' : 0.72,\n",
    "                    'RightLeft' : 0.95,\n",
    "                    'RightMiddle' : 0.73,\n",
    "                    'RightRight' : 0.70},\n",
    "         'Left' :  {'LeftLeft' : 0.67,\n",
    "                    'LeftMiddle' : 0.70,\n",
    "                    'LeftRight' : 0.96,\n",
    "                    'MiddleLeft' : 0.74,\n",
    "                    'MiddleMiddle' : 0.60,\n",
    "                    'MiddleRight' : 0.72,\n",
    "                    'RightLeft' : 0.87,\n",
    "                    'RightMiddle' : 0.65,\n",
    "                    'RightRight' : 0.61}};\n",
    "\n",
    "// Choose best action\n",
    "var freq;\n",
    "\n",
    "if (kicker_foot.text == 'Right'){\n",
    "    freq = freq_right_foot.text.split(',').map(Number);\n",
    "}\n",
    "else{\n",
    "    freq = freq_left_foot.text.split(',').map(Number);\n",
    "}\n",
    "\n",
    "var kicker_action = 'Left';\n",
    "var expected = (freq[0] * p[kicker_foot.text]['LeftLeft']\n",
    "                + freq[1]*p[kicker_foot.text]['MiddleLeft']\n",
    "                + freq[2]*p[kicker_foot.text]['RightLeft']);\n",
    "var actions = [\"Left\", \"Middle\", \"Right\"];\n",
    "\n",
    "for (var i = 0; i < 3; i++){\n",
    "    var val = (freq[0] * p[kicker_foot.text]['Left'+actions[i]]\n",
    "               + freq[1]*p[kicker_foot.text]['Middle'+actions[i]]\n",
    "               + freq[2]*p[kicker_foot.text]['Right'+actions[i]]);\n",
    "    if (val < expected){\n",
    "        kicker_action = actions[i];\n",
    "        expected = val;\n",
    "    }\n",
    "}\n",
    "\n",
    "// Determine if goal\n",
    "var goal = 1;\n",
    "if (Math.random() > p[kicker_foot.text][kicker_kick.text + kicker_action]){\n",
    "    goal = -1;\n",
    "}\n",
    "\n",
    "// Animate ball and goalie\n",
    "ball.x = {'Left' : 40, 'Middle' : 50, 'Right' : 60}[kicker_kick.text];\n",
    "ball.y = 63;\n",
    "goalie_head.x = {'Left' : 40, 'Middle' : 50, 'Right' : 60}[kicker_action];\n",
    "goalie_body.x = {'Left' : 40, 'Middle' : 50, 'Right' : 60}[kicker_action];\n",
    "\n",
    "// Add to frequency history\n",
    "var dict = {'Left' : 0,\n",
    "            'Middle' : 1,\n",
    "            'Right' : 2};\n",
    "if (kicker_foot.text == 'Right'){\n",
    "    var freq = freq_right_foot.text.split(',');\n",
    "    freq[dict[kicker_kick.text]] = parseInt(freq[dict[kicker_kick.text]]) + 1;\n",
    "    freq_right_foot.text = freq.toString();\n",
    "}\n",
    "else{\n",
    "    var freq = freq_left_foot.text.split(',');\n",
    "    freq[dict[kicker_kick.text]] = parseInt(freq[dict[kicker_kick.text]]) + 1;\n",
    "    freq_left_foot.text = freq.toString();\n",
    "}\n",
    "\n",
    "// Update text\n",
    "var n = (parseInt(nround.text) + 1);\n",
    "nround.text = n.toString();\n",
    "txt.data['text'][0] = 'Rounds played: ' + n;\n",
    "\n",
    "if (goal == 1){\n",
    "    txt.data['text'][3] = 'GOAL!';\n",
    "}\n",
    "else{\n",
    "    txt.data['text'][3] = 'Blocked';\n",
    "}\n",
    "\n",
    "var s = parseInt(score.text) + goal;\n",
    "score.text = s.toString();\n",
    "txt.data['text'][1] = 'Total score: ' + s;\n",
    "\n",
    "txt.change.emit();\n",
    "\n",
    "// Allow starting next round\n",
    "b_shoot.disabled = true;\n",
    "b_next.disabled = false;\n",
    "\"\"\"\n",
    "\n",
    "b_shoot_click = CustomJS(args = dict(kicker_foot = kicker_foot, freq_right_foot = freq_right_foot,\n",
    "                                     freq_left_foot = freq_left_foot, kicker_kick = kicker_kick,\n",
    "                                     ball = ball, goalie_head = goalie_head, goalie_body = goalie_body,\n",
    "                                     nround = nround, txt = scr_text, score = score, b_shoot = b_shoot,\n",
    "                                     b_next = b_next),\n",
    "                         code = b_shoot_code)\n",
    "\n",
    "b_shoot.js_on_click(b_shoot_click)"
   ]
  },
  {
   "cell_type": "code",
   "execution_count": null,
   "metadata": {},
   "outputs": [],
   "source": [
    "args_dict = dict(b_automate = b_automate, b_start = b_start, b_fl = b_fl, b_fr = b_fr, \n",
    "                 b_next = b_next, LL_aim_slider = LL_aim_slider, LM_aim_slider = LM_aim_slider,\n",
    "                 LR_aim_slider = LR_aim_slider, RL_aim_slider = RL_aim_slider,\n",
    "                 RM_aim_slider = RM_aim_slider, RR_aim_slider = RR_aim_slider,\n",
    "                 iterations_slider = iterations_slider, strategy_dropdown = strategy_dropdown,\n",
    "                 automation_table = automation_table, txt = scr_text)\n",
    "penalty_kick_automated_game.b_automate_setup(b_automate = b_automate, args_dict = args_dict)"
   ]
  },
  {
   "cell_type": "code",
   "execution_count": null,
   "metadata": {},
   "outputs": [],
   "source": [
    "args_dict = dict(b_start_automate = b_start_automate, b_auto_next = b_auto_next,\n",
    "                 LL_aim_slider = LL_aim_slider, LM_aim_slider = LM_aim_slider,\n",
    "                 LR_aim_slider = LR_aim_slider, RL_aim_slider = RL_aim_slider,\n",
    "                 RM_aim_slider = RM_aim_slider, RR_aim_slider = RR_aim_slider,\n",
    "                 iterations_slider = iterations_slider, strategy_dropdown = strategy_dropdown,\n",
    "                 automation_table = automation_table,\n",
    "                 automation_distribution_table = automation_distribution_table,\n",
    "                 ChancesColumnDataSource = automation_table_source,\n",
    "                 DistributionColumnDataSource = automation_distribution_table_source,\n",
    "                 txt = scr_text, strategy_to_use = strategy_to_use, nround = nround,\n",
    "                 iterations_to_run = iterations_to_run, game_figure = game_figure,\n",
    "                 game_stats_figure_1 = game_stats_figure_1, \n",
    "                 game_stats_figure_2 = game_stats_figure_2, \n",
    "                 game_stats_figure_3 = game_stats_figure_3, score = score,\n",
    "                 ball = ball, goalie_head = goalie_head, goalie_body = goalie_body,\n",
    "                 game_stats_figure_1_source = game_stats_figure_1_source,\n",
    "                 ll_scored_bar = ll_scored_bar, lm_scored_bar = lm_scored_bar,\n",
    "                 lr_scored_bar = lr_scored_bar, rl_scored_bar = rl_scored_bar,\n",
    "                 rm_scored_bar = rm_scored_bar, rr_scored_bar = rr_scored_bar,\n",
    "                 ll_scored = ll_scored, lm_scored = lm_scored,\n",
    "                 lr_scored = lr_scored, rl_scored = rl_scored,\n",
    "                 rm_scored = rm_scored, rr_scored = rr_scored,\n",
    "                 ll_blocked_left_bar = ll_blocked_left_bar,\n",
    "                 lm_blocked_left_bar = lm_blocked_left_bar,\n",
    "                 lr_blocked_left_bar = lr_blocked_left_bar,\n",
    "                 rl_blocked_left_bar = rl_blocked_left_bar,\n",
    "                 rm_blocked_left_bar = rm_blocked_left_bar,\n",
    "                 rr_blocked_left_bar = rr_blocked_left_bar,\n",
    "                 ll_blocked_left = ll_blocked_left, lm_blocked_left = lm_blocked_left,\n",
    "                 lr_blocked_left = lr_blocked_left, rl_blocked_left = rl_blocked_left,\n",
    "                 rm_blocked_left = rm_blocked_left, rr_blocked_left = rr_blocked_left,\n",
    "                 ll_blocked_middle_bar = ll_blocked_middle_bar,\n",
    "                 lm_blocked_middle_bar = lm_blocked_middle_bar,\n",
    "                 lr_blocked_middle_bar = lr_blocked_middle_bar,\n",
    "                 rl_blocked_middle_bar = rl_blocked_middle_bar,\n",
    "                 rm_blocked_middle_bar = rm_blocked_middle_bar,\n",
    "                 rr_blocked_middle_bar = rr_blocked_middle_bar,\n",
    "                 ll_blocked_middle = ll_blocked_middle, lm_blocked_middle = lm_blocked_middle,\n",
    "                 lr_blocked_middle = lr_blocked_middle, rl_blocked_middle = rl_blocked_middle,\n",
    "                 rm_blocked_middle = rm_blocked_middle, rr_blocked_middle = rr_blocked_middle,\n",
    "                 ll_blocked_right_bar = ll_blocked_right_bar,\n",
    "                 lm_blocked_right_bar = lm_blocked_right_bar,\n",
    "                 lr_blocked_right_bar = lr_blocked_right_bar,\n",
    "                 rl_blocked_right_bar = rl_blocked_right_bar,\n",
    "                 rm_blocked_right_bar = rm_blocked_right_bar,\n",
    "                 rr_blocked_right_bar = rr_blocked_right_bar,\n",
    "                 ll_blocked_right = ll_blocked_right, lm_blocked_right = lm_blocked_right,\n",
    "                 lr_blocked_right = lr_blocked_right, rl_blocked_right = rl_blocked_right,\n",
    "                 rm_blocked_right = rm_blocked_right, rr_blocked_right = rr_blocked_right,\n",
    "                 game_stats_figure_2_source = game_stats_figure_2_source,\n",
    "                 game_stats_figure_3_source = game_stats_figure_3_source)\n",
    "\n",
    "penalty_kick_automated_game.b_start_automate_setup(b_start_automate = b_start_automate, args_dict = args_dict)"
   ]
  },
  {
   "cell_type": "code",
   "execution_count": null,
   "metadata": {},
   "outputs": [],
   "source": [
    "args_dict = dict(ChancesColumnDataSource = automation_table_source,\n",
    "                 DistributionColumnDataSource = automation_distribution_table_source,\n",
    "                 txt = scr_text, strategy_to_use = strategy_to_use, nround = nround,\n",
    "                 iterations_to_run = iterations_to_run, b_auto_next = b_auto_next,\n",
    "                 game_figure = game_figure, \n",
    "                 automation_distribution_table = automation_distribution_table,\n",
    "                 game_stats_figure_1 = game_stats_figure_1, \n",
    "                 game_stats_figure_2 = game_stats_figure_2, \n",
    "                 game_stats_figure_3 = game_stats_figure_3, score = score, \n",
    "                 ball = ball, goalie_head = goalie_head, goalie_body = goalie_body,\n",
    "                 game_stats_figure_1_source = game_stats_figure_1_source,\n",
    "                 ll_scored_bar = ll_scored_bar, lm_scored_bar = lm_scored_bar,\n",
    "                 lr_scored_bar = lr_scored_bar, rl_scored_bar = rl_scored_bar,\n",
    "                 rm_scored_bar = rm_scored_bar, rr_scored_bar = rr_scored_bar,\n",
    "                 ll_scored = ll_scored, lm_scored = lm_scored,\n",
    "                 lr_scored = lr_scored, rl_scored = rl_scored,\n",
    "                 rm_scored = rm_scored, rr_scored = rr_scored,\n",
    "                 ll_blocked_left_bar = ll_blocked_left_bar,\n",
    "                 lm_blocked_left_bar = lm_blocked_left_bar,\n",
    "                 lr_blocked_left_bar = lr_blocked_left_bar,\n",
    "                 rl_blocked_left_bar = rl_blocked_left_bar,\n",
    "                 rm_blocked_left_bar = rm_blocked_left_bar,\n",
    "                 rr_blocked_left_bar = rr_blocked_left_bar,\n",
    "                 ll_blocked_left = ll_blocked_left, lm_blocked_left = lm_blocked_left,\n",
    "                 lr_blocked_left = lr_blocked_left, rl_blocked_left = rl_blocked_left,\n",
    "                 rm_blocked_left = rm_blocked_left, rr_blocked_left = rr_blocked_left,\n",
    "                 ll_blocked_middle_bar = ll_blocked_middle_bar,\n",
    "                 lm_blocked_middle_bar = lm_blocked_middle_bar,\n",
    "                 lr_blocked_middle_bar = lr_blocked_middle_bar,\n",
    "                 rl_blocked_middle_bar = rl_blocked_middle_bar,\n",
    "                 rm_blocked_middle_bar = rm_blocked_middle_bar,\n",
    "                 rr_blocked_middle_bar = rr_blocked_middle_bar,\n",
    "                 ll_blocked_middle = ll_blocked_middle, lm_blocked_middle = lm_blocked_middle,\n",
    "                 lr_blocked_middle = lr_blocked_middle, rl_blocked_middle = rl_blocked_middle,\n",
    "                 rm_blocked_middle = rm_blocked_middle, rr_blocked_middle = rr_blocked_middle,\n",
    "                 ll_blocked_right_bar = ll_blocked_right_bar,\n",
    "                 lm_blocked_right_bar = lm_blocked_right_bar,\n",
    "                 lr_blocked_right_bar = lr_blocked_right_bar,\n",
    "                 rl_blocked_right_bar = rl_blocked_right_bar,\n",
    "                 rm_blocked_right_bar = rm_blocked_right_bar,\n",
    "                 rr_blocked_right_bar = rr_blocked_right_bar,\n",
    "                 ll_blocked_right = ll_blocked_right, lm_blocked_right = lm_blocked_right,\n",
    "                 lr_blocked_right = lr_blocked_right, rl_blocked_right = rl_blocked_right,\n",
    "                 rm_blocked_right = rm_blocked_right, rr_blocked_right = rr_blocked_right,\n",
    "                 game_stats_figure_2_source = game_stats_figure_2_source,\n",
    "                 game_stats_figure_3_source = game_stats_figure_3_source)\n",
    "penalty_kick_automated_game.b_auto_next_setup(b_auto_next = b_auto_next, args_dict = args_dict)"
   ]
  },
  {
   "cell_type": "code",
   "execution_count": null,
   "metadata": {},
   "outputs": [],
   "source": [
    "penalty_kick_automated_game.aim_sliders_setup(ll_aim_slider = LL_aim_slider, lm_aim_slider = LM_aim_slider,\n",
    "                                              lr_aim_slider = LR_aim_slider, rl_aim_slider = RL_aim_slider,\n",
    "                                              rm_aim_slider = RM_aim_slider, rr_aim_slider = RR_aim_slider,\n",
    "                                              automation_table_source = automation_table_source)"
   ]
  },
  {
   "cell_type": "code",
   "execution_count": null,
   "metadata": {},
   "outputs": [],
   "source": [
    "args_dict = dict(iterations_to_run = iterations_to_run,\n",
    "                 game_stats_figure_1 = game_stats_figure_1,\n",
    "                 game_stats_figure_2 = game_stats_figure_2,\n",
    "                 game_stats_figure_3 = game_stats_figure_3,\n",
    "                 game_stats_figure_2_source = game_stats_figure_2_source,\n",
    "                 game_stats_figure_3_source = game_stats_figure_3_source)\n",
    "penalty_kick_automated_game.iterations_slider_setup(iterations_slider = iterations_slider,\n",
    "                                                    args_dict = args_dict)"
   ]
  },
  {
   "cell_type": "code",
   "execution_count": null,
   "metadata": {},
   "outputs": [],
   "source": [
    "args_dict = dict(strategy_dropdown = strategy_dropdown,\n",
    "                 strategy_to_use = strategy_to_use,\n",
    "                 b_start_automate = b_start_automate)\n",
    "penalty_kick_automated_game.strategy_dropdown_setup(strategy_dropdown = strategy_dropdown,\n",
    "                                                    args_dict = args_dict)"
   ]
  },
  {
   "cell_type": "markdown",
   "metadata": {},
   "source": [
    "### Format Layout and Show"
   ]
  },
  {
   "cell_type": "code",
   "execution_count": null,
   "metadata": {},
   "outputs": [],
   "source": [
    "buttons_bot = row(b_start, nround, b_fl, b_fr, b_shoot, bl, bm, br,\n",
    "                  score, freq_left_foot, freq_right_foot, kicker_foot, \n",
    "                  kicker_kick, b_next, max_width = 600, sizing_mode = 'stretch_width')\n",
    "automate_button = row(b_automate, iterations_slider,  b_auto_next, \n",
    "                      max_width = 400, sizing_mode = 'stretch_width')\n",
    "strategy_dropdown_row = row(strategy_dropdown, max_width = 400, sizing_mode = 'stretch_width')\n",
    "start_automate_row = row(b_start_automate, max_width = 400, sizing_mode = 'stretch_width')\n",
    "automate_LL_aim = row(LL_aim_slider, max_width = 400, sizing_mode = 'stretch_width')\n",
    "automate_LM_aim = row(LM_aim_slider, max_width = 400, sizing_mode = 'stretch_width')\n",
    "automate_LR_aim = row(LR_aim_slider, max_width = 400, sizing_mode = 'stretch_width')\n",
    "automate_RL_aim = row(RL_aim_slider, max_width = 400, sizing_mode = 'stretch_width')\n",
    "automate_RM_aim = row(RM_aim_slider, max_width = 400, sizing_mode = 'stretch_width')\n",
    "automate_RR_aim = row(RR_aim_slider, max_width = 400, sizing_mode = 'stretch_width')\n",
    "\n",
    "game_stats_row_1 = row(game_stats_figure_1, game_stats_figure_2, \n",
    "                       max_width = 600, sizing_mode = \"stretch_width\")\n",
    "game_stats_row_2 = row(game_stats_figure_3,\n",
    "                       max_width = 600, sizing_mode = \"stretch_width\")\n",
    "gui_column1 = column(game_figure, game_stats_row_1, game_stats_row_2,\n",
    "                     buttons_bot, max_width = 600, sizing_mode = 'stretch_width')\n",
    "gui_column2 = column(automate_button, strategy_dropdown_row, start_automate_row,\n",
    "                     automate_LL_aim, automate_LM_aim, automate_LR_aim,\n",
    "                     automate_RL_aim, automate_RM_aim, automate_RR_aim,\n",
    "                     automation_table, automation_distribution_table, \n",
    "                     min_width = 761, max_width = 761, sizing_mode = 'stretch_width')\n",
    "\n",
    "gui_row = row(gui_column1, gui_column2, max_width = 1400, sizing_mode = 'stretch_width')\n",
    "\n",
    "grid1 = gridplot([[gui_row]], plot_width = 1200, plot_height = 480)\n",
    "\n",
    "show(grid1)"
   ]
  },
  {
   "cell_type": "markdown",
   "metadata": {},
   "source": [
    "### Create HTML File"
   ]
  },
  {
   "cell_type": "code",
   "execution_count": null,
   "metadata": {},
   "outputs": [],
   "source": [
    "output_file(\"penalty_kick_game.html\")\n",
    "save(grid1)"
   ]
  },
  {
   "cell_type": "code",
   "execution_count": null,
   "metadata": {},
   "outputs": [],
   "source": []
  }
 ],
 "metadata": {
  "kernelspec": {
   "display_name": "Python 3",
   "language": "python",
   "name": "python3"
  },
  "language_info": {
   "codemirror_mode": {
    "name": "ipython",
    "version": 3
   },
   "file_extension": ".py",
   "mimetype": "text/x-python",
   "name": "python",
   "nbconvert_exporter": "python",
   "pygments_lexer": "ipython3",
   "version": "3.7.10"
  }
 },
 "nbformat": 4,
 "nbformat_minor": 4
}
