{
 "cells": [
  {
   "cell_type": "markdown",
   "metadata": {},
   "source": [
    "<font color='red'> Penalty kick application based on 'Professionals Play Minimax' by Ignacio Palacios-Huerta (2003). </font>"
   ]
  },
  {
   "cell_type": "markdown",
   "metadata": {},
   "source": [
    "### Make Necessary Imports"
   ]
  },
  {
   "cell_type": "code",
   "execution_count": null,
   "metadata": {},
   "outputs": [],
   "source": [
    "from bokeh.io import show, output_notebook, save, output_file\n",
    "import penalty_kick_automated_game\n",
    "from main_game_figure import Game_fig_configs\n",
    "from game_stats_figure_1 import Stats_fig_1_configs\n",
    "from game_stats_figure_2 import Stats_fig_2_configs\n",
    "from game_stats_figure_3 import Stats_fig_3_configs"
   ]
  },
  {
   "cell_type": "markdown",
   "metadata": {},
   "source": [
    "### Configure Bokeh For Use In Jupyter Notebook"
   ]
  },
  {
   "cell_type": "code",
   "execution_count": null,
   "metadata": {},
   "outputs": [],
   "source": [
    "output_notebook()"
   ]
  },
  {
   "cell_type": "markdown",
   "metadata": {},
   "source": [
    "### Make Game"
   ]
  },
  {
   "cell_type": "code",
   "execution_count": null,
   "metadata": {},
   "outputs": [],
   "source": [
    "game_fig_configs = Game_fig_configs() #Change the necessary keyword arguments in this to test changes to the game fig.\n",
    "fig_1_configs = Stats_fig_1_configs() #Change the necessary keyword arguments in this to test changes to the stats fig 1.\n",
    "fig_2_configs = Stats_fig_2_configs() #Change the necessary keyword arguments in this to test changes to the stats fig 2.\n",
    "fig_3_configs = Stats_fig_3_configs() #Change the necessary keyword arguments in this to test changes to the stats fig 3.\n",
    "grid1 = penalty_kick_automated_game.make_game(game_figure_configs = game_fig_configs,\n",
    "                                              stats_figure_1_configs = fig_1_configs,\n",
    "                                              stats_figure_2_configs = fig_2_configs,\n",
    "                                              stats_figure_3_configs = fig_3_configs)"
   ]
  },
  {
   "cell_type": "markdown",
   "metadata": {},
   "source": [
    "### Show Game"
   ]
  },
  {
   "cell_type": "code",
   "execution_count": null,
   "metadata": {},
   "outputs": [],
   "source": [
    "show(grid1)"
   ]
  },
  {
   "cell_type": "markdown",
   "metadata": {},
   "source": [
    "### Create HTML File"
   ]
  },
  {
   "cell_type": "code",
   "execution_count": null,
   "metadata": {},
   "outputs": [],
   "source": [
    "output_file(\"penalty_kick_game.html\")\n",
    "save(grid1)"
   ]
  }
 ],
 "metadata": {
  "kernelspec": {
   "display_name": "Python 3",
   "language": "python",
   "name": "python3"
  },
  "language_info": {
   "codemirror_mode": {
    "name": "ipython",
    "version": 3
   },
   "file_extension": ".py",
   "mimetype": "text/x-python",
   "name": "python",
   "nbconvert_exporter": "python",
   "pygments_lexer": "ipython3",
   "version": "3.7.10"
  }
 },
 "nbformat": 4,
 "nbformat_minor": 4
}
